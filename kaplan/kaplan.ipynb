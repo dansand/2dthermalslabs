{
 "cells": [
  {
   "cell_type": "markdown",
   "metadata": {},
   "source": [
    "## Thermal subduction, linear rheology:\n",
    "\n",
    "\n",
    "The viscous rheology in this model is similar to the models described in the PhD thesis of Micheal Kaplan\n",
    "\n",
    "\n",
    "\n",
    "**Keywords:** subduction, thermally-activated creep, \n",
    "\n",
    "\n",
    "**References:**\n",
    "\n",
    "\n",
    "Kaplan, Michael. Numerical Geodynamics of Solid Planetary Deformation. Diss. University of Southern California, 2015."
   ]
  },
  {
   "cell_type": "code",
   "execution_count": 1,
   "metadata": {
    "collapsed": false
   },
   "outputs": [
    {
     "name": "stderr",
     "output_type": "stream",
     "text": [
      "/root/underworld2/unsupported/interfaces/__init__.py:9: UserWarning: \n",
      "\n",
      "The interface module is not supported.\n",
      "Questions should be addressed to louis.moresi@unimelb.edu.au \n",
      " \n",
      "  Questions should be addressed to louis.moresi@unimelb.edu.au \\n \"\"\"\n"
     ]
    }
   ],
   "source": [
    "import numpy as np\n",
    "import underworld as uw\n",
    "import math\n",
    "from underworld import function as fn\n",
    "import glucifer\n",
    "\n",
    "import os\n",
    "import sys\n",
    "import natsort\n",
    "import shutil\n",
    "from easydict import EasyDict as edict\n",
    "import operator\n",
    "import pint\n",
    "import time\n",
    "import operator\n",
    "from slippy2 import boundary_layer2d\n",
    "from slippy2 import material_graph\n",
    "from slippy2 import spmesh\n",
    "from slippy2 import phase_function\n",
    "from unsupported.interfaces import markerLine2D\n",
    "\n",
    "from mpi4py import MPI\n",
    "comm = MPI.COMM_WORLD\n",
    "rank = comm.Get_rank()"
   ]
  },
  {
   "cell_type": "markdown",
   "metadata": {},
   "source": [
    "Model name and directories\n",
    "-----"
   ]
  },
  {
   "cell_type": "code",
   "execution_count": 2,
   "metadata": {
    "collapsed": false
   },
   "outputs": [],
   "source": [
    "############\n",
    "#Model letter and number\n",
    "############\n",
    "\n",
    "\n",
    "#Model letter identifier default\n",
    "Model = \"T\"\n",
    "\n",
    "#Model number identifier default:\n",
    "ModNum = 0\n",
    "\n",
    "#Any isolated letter / integer command line args are interpreted as Model/ModelNum\n",
    "\n",
    "if len(sys.argv) == 1:\n",
    "    ModNum = ModNum \n",
    "elif sys.argv[1] == '-f': #\n",
    "    ModNum = ModNum \n",
    "else:\n",
    "    for farg in sys.argv[1:]:\n",
    "        if not '=' in farg: #then Assume it's a not a paramter argument\n",
    "            try:\n",
    "                ModNum = int(farg) #try to convert everingthing to a float, else remains string\n",
    "            except ValueError:\n",
    "                Model  = farg"
   ]
  },
  {
   "cell_type": "code",
   "execution_count": 3,
   "metadata": {
    "collapsed": false
   },
   "outputs": [],
   "source": [
    "###########\n",
    "#Standard output directory setup\n",
    "###########\n",
    "\n",
    "outputPath = \"results\" + \"/\" +  str(Model) + \"/\" + str(ModNum) + \"/\" \n",
    "imagePath = outputPath + 'images/'\n",
    "filePath = outputPath + 'files/'\n",
    "checkpointPath = outputPath + 'checkpoint/'\n",
    "dbPath = outputPath + 'gldbs/'\n",
    "outputFile = 'results_model' + Model + '_' + str(ModNum) + '.dat'\n",
    "\n",
    "if uw.rank()==0:\n",
    "    # make directories if they don't exist\n",
    "    if not os.path.isdir(outputPath):\n",
    "        os.makedirs(outputPath)\n",
    "    if not os.path.isdir(checkpointPath):\n",
    "        os.makedirs(checkpointPath)\n",
    "    if not os.path.isdir(imagePath):\n",
    "        os.makedirs(imagePath)\n",
    "    if not os.path.isdir(dbPath):\n",
    "        os.makedirs(dbPath)\n",
    "    if not os.path.isdir(filePath):\n",
    "        os.makedirs(filePath)\n",
    "\n",
    "        \n",
    "comm.Barrier() #Barrier here so no procs run the check in the next cell too early"
   ]
  },
  {
   "cell_type": "code",
   "execution_count": 4,
   "metadata": {
    "collapsed": false
   },
   "outputs": [
    {
     "name": "stdout",
     "output_type": "stream",
     "text": [
      "results/T/0/checkpoint/ is empty\n"
     ]
    }
   ],
   "source": [
    "###########\n",
    "#Check if starting from checkpoint\n",
    "###########\n",
    "\n",
    "checkdirs = []\n",
    "for dirpath, dirnames, files in os.walk(checkpointPath):\n",
    "    if files:\n",
    "        print dirpath, 'has files'\n",
    "        checkpointLoad = True\n",
    "        checkdirs.append(dirpath)\n",
    "    if not files:\n",
    "        print dirpath, 'is empty'\n",
    "        checkpointLoad = False"
   ]
  },
  {
   "cell_type": "code",
   "execution_count": 5,
   "metadata": {
    "collapsed": true
   },
   "outputs": [],
   "source": [
    "# setup summary output file (name above)\n",
    "if checkpointLoad:\n",
    "    checkpointLoadDir = natsort.natsort(checkdirs)[-1]\n",
    "    if uw.rank() == 0:\n",
    "        shutil.copyfile(os.path.join(checkpointLoadDir, outputFile), outputPath+outputFile)\n",
    "    comm.Barrier()\n",
    "    f_o = open(os.path.join(outputPath, outputFile), 'a')\n",
    "    prevdata = np.genfromtxt(os.path.join(outputPath, outputFile), skip_header=0, skip_footer=0)\n",
    "    if len(prevdata.shape) == 1: #this is in case there is only one line in previous file\n",
    "        realtime = prevdata[-1]  #This corresponds to the column you write time data to\n",
    "    else:\n",
    "        realtime = prevdata[prevdata.shape[0]-1, -1]\n",
    "    step = int(checkpointLoadDir.split('/')[-1])\n",
    "    timevals = [0.]\n",
    "else:\n",
    "    f_o = open(outputPath+outputFile, 'w')\n",
    "    realtime = 0.\n",
    "    step = 0\n",
    "    timevals = [0.]"
   ]
  },
  {
   "cell_type": "markdown",
   "metadata": {},
   "source": [
    "Setup parameters\n",
    "-----\n",
    "\n",
    "Set simulation parameters for test."
   ]
  },
  {
   "cell_type": "markdown",
   "metadata": {},
   "source": [
    "**Use pint to setup any unit conversions we'll need**"
   ]
  },
  {
   "cell_type": "code",
   "execution_count": 6,
   "metadata": {
    "collapsed": false
   },
   "outputs": [
    {
     "name": "stderr",
     "output_type": "stream",
     "text": [
      "/usr/local/lib/python2.7/dist-packages/IPython/core/formatters.py:92: DeprecationWarning: DisplayFormatter._ipython_display_formatter_default is deprecated: use @default decorator instead.\n",
      "  def _ipython_display_formatter_default(self):\n",
      "/usr/local/lib/python2.7/dist-packages/IPython/core/formatters.py:98: DeprecationWarning: DisplayFormatter._formatters_default is deprecated: use @default decorator instead.\n",
      "  def _formatters_default(self):\n",
      "/usr/local/lib/python2.7/dist-packages/IPython/core/formatters.py:677: DeprecationWarning: PlainTextFormatter._deferred_printers_default is deprecated: use @default decorator instead.\n",
      "  def _deferred_printers_default(self):\n",
      "/usr/local/lib/python2.7/dist-packages/IPython/core/formatters.py:669: DeprecationWarning: PlainTextFormatter._singleton_printers_default is deprecated: use @default decorator instead.\n",
      "  def _singleton_printers_default(self):\n",
      "/usr/local/lib/python2.7/dist-packages/IPython/core/formatters.py:672: DeprecationWarning: PlainTextFormatter._type_printers_default is deprecated: use @default decorator instead.\n",
      "  def _type_printers_default(self):\n",
      "/usr/local/lib/python2.7/dist-packages/IPython/core/formatters.py:669: DeprecationWarning: PlainTextFormatter._singleton_printers_default is deprecated: use @default decorator instead.\n",
      "  def _singleton_printers_default(self):\n",
      "/usr/local/lib/python2.7/dist-packages/IPython/core/formatters.py:672: DeprecationWarning: PlainTextFormatter._type_printers_default is deprecated: use @default decorator instead.\n",
      "  def _type_printers_default(self):\n",
      "/usr/local/lib/python2.7/dist-packages/IPython/core/formatters.py:677: DeprecationWarning: PlainTextFormatter._deferred_printers_default is deprecated: use @default decorator instead.\n",
      "  def _deferred_printers_default(self):\n"
     ]
    },
    {
     "data": {
      "text/html": [
       "10000.0 meter/megayear"
      ],
      "text/latex": [
       "$10000.0 \\frac{meter}{megayear}$"
      ],
      "text/plain": [
       "<Quantity(10000.0, 'meter / megayear')>"
      ]
     },
     "execution_count": 6,
     "metadata": {},
     "output_type": "execute_result"
    }
   ],
   "source": [
    "u = pint.UnitRegistry()\n",
    "cmpery = 1.*u.cm/u.year\n",
    "mpermy = 1.*u.m/u.megayear\n",
    "year = 1.*u.year\n",
    "spery = year.to(u.sec)\n",
    "cmpery.to(mpermy)"
   ]
  },
  {
   "cell_type": "code",
   "execution_count": 7,
   "metadata": {
    "collapsed": false
   },
   "outputs": [
    {
     "name": "stdout",
     "output_type": "stream",
     "text": [
      "(0.04, 1.2675505856327397e-11)\n"
     ]
    }
   ],
   "source": [
    "box_half_width =4000e3\n",
    "age_at_trench = 100e6\n",
    "cmperyear = box_half_width / age_at_trench #m/y\n",
    "mpersec = cmperyear*(cmpery.to(u.m/u.second)).magnitude #m/sec\n",
    "print(cmperyear, mpersec )"
   ]
  },
  {
   "cell_type": "markdown",
   "metadata": {},
   "source": [
    "**Set parameter dictionaries**\n",
    "\n",
    "* Parameters are stored in dictionaries. \n",
    "* If starting from checkpoint, parameters are loaded using pickle\n",
    "* If params are passed in as flags to the script, they overwrite \n"
   ]
  },
  {
   "cell_type": "code",
   "execution_count": 8,
   "metadata": {
    "collapsed": false
   },
   "outputs": [],
   "source": [
    "###########\n",
    "#Parameter / settings dictionaries get saved&loaded using pickle\n",
    "###########\n",
    " \n",
    "dp = edict({}) #dimensional parameters\n",
    "sf = edict({}) #scaling factors\n",
    "ndp = edict({}) #dimensionless paramters\n",
    "md = edict({}) #model paramters, flags etc\n",
    "#od = edict({}) #output frequencies\n",
    "\n"
   ]
  },
  {
   "cell_type": "code",
   "execution_count": 9,
   "metadata": {
    "collapsed": false
   },
   "outputs": [],
   "source": [
    "dict_list = [dp, sf, ndp, md]\n",
    "dict_names = ['dp.pkl', 'sf.pkl', 'ndp.pkl', 'md.pkl']\n",
    "\n",
    "def save_pickles(dict_list, dict_names, dictPath):\n",
    "    import pickle\n",
    "    counter = 0\n",
    "    for pdict in dict_list:\n",
    "        myfile = os.path.join(dictPath, dict_names[counter])\n",
    "        with open(myfile, 'wb') as f:\n",
    "            pickle.dump(pdict, f)\n",
    "        counter+=1\n",
    "\n",
    "\n",
    "#ended up having to pretty much write a hard-coded function\n",
    "#All dictionaries we want checkpointed will have to  be added here \n",
    "#and where the function is called\n",
    "#Fortunately, this function is only called ONCE\n",
    "\n",
    "def load_pickles():\n",
    "    import pickle\n",
    "    dirpath = os.path.join(checkpointPath, str(step))\n",
    "    dpfile = open(os.path.join(dirpath, 'dp.pkl'), 'r')\n",
    "    dp = pickle.load(dpfile)\n",
    "#    #\n",
    "    ndpfile = open(os.path.join(dirpath, 'ndp.pkl'), 'r')\n",
    "    ndp = edict(pickle.load(ndpfile))\n",
    "    #\n",
    "    sffile = open(os.path.join(dirpath, 'sf.pkl'), 'r')\n",
    "    sf = edict(pickle.load(sffile))\n",
    "    #\n",
    "    mdfile = open(os.path.join(dirpath, 'md.pkl'), 'r')\n",
    "    md = edict(pickle.load(mdfile))\n",
    "    return dp, ndp, sf, md"
   ]
  },
  {
   "cell_type": "code",
   "execution_count": 10,
   "metadata": {
    "collapsed": false
   },
   "outputs": [],
   "source": [
    "###########\n",
    "#Store the physical parameters, scale factors and dimensionless pramters in easyDicts\n",
    "#Mainly helps with avoiding overwriting variables\n",
    "###########\n",
    "\n",
    "\n",
    "dp = edict({'LS':2900*1e3, #Scaling Length scale\n",
    "            'depth':670*1e3, #Depth of domain\n",
    "            'rho':3300.,  #reference density\n",
    "            'g':9.8, #surface gravity\n",
    "            'eta0':5e20, #reference viscosity\n",
    "            'k':1e-6, #thermal diffusivity\n",
    "            'a':3e-5, #surface thermal expansivity\n",
    "            'R':8.314, #gas constant\n",
    "            'TP':1673., #mantle potential temp (K)\n",
    "            'TS':273., #surface temp (K)\n",
    "            #Rheology - flow law paramters\n",
    "            'Adf':3e-11, #pre-exp factor for diffusion creep\n",
    "            'Edf':1e5, #Total viscosity variation in the Kaplan model\n",
    "            'cm':40e6, #mantle cohesion in Byerlee law\n",
    "            'cc':40e6, #mantle cohesion in Byerlee law\n",
    "            'ci':40e6, #mantle cohesion in Byerlee law\n",
    "            'cf':40e6, #mantle cohesion in Byerlee law\n",
    "            'fcm':0.03,   #mantle friction coefficient in Byerlee law (tan(phi))\n",
    "            'fcc':0.03,   #crust friction coefficient \n",
    "            'fci':0.03,   #subduction interface friction coefficient\n",
    "            'fcf':0.03,   #subduction interface friction coefficient\n",
    "            #Rheology - cutoff values\n",
    "            'eta_min':1e17, \n",
    "            'eta_max':1e25, #viscosity max in the mantle material\n",
    "            'eta_min_crust':2e19, #viscosity min in the weak-crust material\n",
    "            'eta_max_crust':2e19, #viscosity max in the weak-crust material\n",
    "            'eta_min_interface':5e19, #viscosity min in the subduction interface material\n",
    "            'eta_max_interface':5e19, #viscosity max in the subduction interface material\n",
    "            'eta_min_fault':5e19, #viscosity min in the subduction interface material\n",
    "            'eta_max_fault':5e19, #viscosity max in the subduction interface material\n",
    "            #Length scales\n",
    "            'MANTLETOCRUST':8.*1e3, #Crust depth\n",
    "            'HARZBURGDEPTH':40e3,\n",
    "            'CRUSTTOMANTLE':800.*1e3,\n",
    "            'LITHTOMANTLE':(900.*1e3),\n",
    "            'MANTLETOLITH':200.*1e3, \n",
    "            'TOPOHEIGHT':10.*1e3,  #rock-air topography limits\n",
    "            'CRUSTTOECL':100.*1e3,\n",
    "            'LOWMANTLEDEPTH':660.*1e3, \n",
    "            'CRUSTVISCUTOFF':150.*1e3, #Deeper than this, crust material rheology reverts to mantle rheology\n",
    "            'AGETRACKDEPTH':100e3, #above this depth we track the age of the lithsphere (below age is assumed zero)\n",
    "            #Slab and plate parameters\n",
    "            'roc':250e3,     #radius of curvature of slab\n",
    "            'subzone':0.0,   #X position of subduction zone..\n",
    "            'lRidge':-0.5*(670e3*6),  #For depth = 670 km, aspect ratio of 6, this puts the ridges at MINX, MAXX\n",
    "            'rRidge':0.5*(670e3*6),\n",
    "            'maxDepth':250e3,\n",
    "            'theta':70., #Angle to truncate the slab (can also control with a maxDepth param)\n",
    "            'slabmaxAge':60e6, #age of subduction plate at trench\n",
    "            'platemaxAge':60e6, #max age of slab (Plate model)\n",
    "            'sense':'Right', #dip direction\n",
    "            'op_age_fac':0.5, #this controls the overidding plate age reduction\n",
    "            #Misc\n",
    "            'StALS':100e3, #depth of sticky air layer\n",
    "            'Steta_n':1e19, #stick air viscosity, normal\n",
    "            'Steta_s':1e18, #stick air viscosity, shear \n",
    "            'plate_vel':4,\n",
    "            'low_mantle_visc_fac':30.\n",
    "           })\n",
    "\n",
    "#append any derived parameters to the dictionary\n",
    "dp.deltaT = dp.TP - dp.TS\n",
    "\n",
    "\n"
   ]
  },
  {
   "cell_type": "code",
   "execution_count": 15,
   "metadata": {
    "collapsed": false
   },
   "outputs": [],
   "source": [
    "#Modelling and Physics switches\n",
    "\n",
    "md = edict({'refineMesh':True,\n",
    "            'stickyAir':False,\n",
    "            'subductionFault':False,\n",
    "            'symmetricIcs':False,\n",
    "            'velBcs':False,\n",
    "            'aspectRatio':6,\n",
    "            'compBuoyancy':False, #use compositional & phase buoyancy, or simply thermal\n",
    "            'periodicBcs':False,\n",
    "            'RES':64,\n",
    "            'elementType':\"Q1/dQ0\"\n",
    "            })"
   ]
  },
  {
   "cell_type": "code",
   "execution_count": 16,
   "metadata": {
    "collapsed": false
   },
   "outputs": [],
   "source": [
    "###########\n",
    "#If starting from a checkpoint load params from file\n",
    "###########\n",
    "\n",
    "if checkpointLoad:\n",
    "    dp, ndp, sf, md = load_pickles()  #remember to add any extra dictionaries\n"
   ]
  },
  {
   "cell_type": "code",
   "execution_count": 17,
   "metadata": {
    "collapsed": false
   },
   "outputs": [],
   "source": [
    "###########\n",
    "#If command line args are given, overwrite\n",
    "#Note that this assumes that params as commans line args/\n",
    "#only append to the 'dimensional' and 'model' dictionary (not the non-dimensional)\n",
    "###########    \n",
    "\n",
    "\n",
    "###########\n",
    "#If extra arguments are provided to the script\" eg:\n",
    "### >>> uw.py 2 dp.arg1=1 dp.arg2=foo dp.arg3=3.0\n",
    "###\n",
    "###This would assign ModNum = 2, all other values go into the dp dictionary, under key names provided\n",
    "###\n",
    "###Two operators are searched for, = & *=\n",
    "###\n",
    "###If =, parameter is re-assigned to givn value\n",
    "###If *=, parameter is multipled by given value\n",
    "###\n",
    "### >>> uw.py 2 dp.arg1=1 dp.arg2=foo dp.arg3*=3.0\n",
    "###########\n",
    "\n",
    "for farg in sys.argv[1:]:\n",
    "    try:\n",
    "        (dicitem,val) = farg.split(\"=\") #Split on equals operator\n",
    "        (dic,arg) = dicitem.split(\".\") #colon notation\n",
    "        if '*=' in farg:\n",
    "            (dicitem,val) = farg.split(\"*=\") #If in-place multiplication, split on '*='\n",
    "            (dic,arg) = dicitem.split(\".\")\n",
    "            \n",
    "        if val == 'True': \n",
    "            val = True\n",
    "        elif val == 'False':     #First check if args are boolean\n",
    "            val = False\n",
    "        else:\n",
    "            try:\n",
    "                val = float(val) #next try to convert  to a float,\n",
    "            except ValueError:\n",
    "                pass             #otherwise leave as string\n",
    "        #Update the dictionary\n",
    "        if farg.startswith('dp'):\n",
    "            if '*=' in farg:\n",
    "                dp[arg] = dp[arg]*val #multiply parameter by given factor\n",
    "            else:\n",
    "                dp[arg] = val    #or reassign parameter by given value\n",
    "        if farg.startswith('md'):\n",
    "            if '*=' in farg:\n",
    "                md[arg] = md[arg]*val #multiply parameter by given factor\n",
    "            else:\n",
    "                md[arg] = val    #or reassign parameter by given value\n",
    "                \n",
    "    except:\n",
    "        pass\n",
    "            \n",
    "\n",
    "comm.barrier()"
   ]
  },
  {
   "cell_type": "code",
   "execution_count": 19,
   "metadata": {
    "collapsed": true
   },
   "outputs": [],
   "source": [
    "#print('refine Mesh is: ', md.refineMesh)"
   ]
  },
  {
   "cell_type": "code",
   "execution_count": 20,
   "metadata": {
    "collapsed": false
   },
   "outputs": [],
   "source": [
    "#Only build these guys first time around, otherwise the read from checkpoints\n",
    "#Important because some of these params (like SZ location) may change during model evolution\n",
    "\n",
    "\n",
    "if not checkpointLoad:\n",
    "\n",
    "    \n",
    "    \n",
    "    sf = edict({'stress':dp.LS**2/(dp.k*dp.eta0),\n",
    "                'lith_grad':dp.rho*dp.g*(dp.LS)**3/(dp.eta0*dp.k) , \n",
    "                'vel':dp.LS/dp.k,\n",
    "                'SR':dp.LS**2/dp.k    \n",
    "               })\n",
    "\n",
    "    #dimensionless parameters\n",
    "\n",
    "    ndp = edict({'RA':(dp.g*dp.rho*dp.a*(dp.TP - dp.TS)*(dp.LS)**3)/(dp.k*dp.eta0),\n",
    "                 'Edf':math.log(dp.Edf),\n",
    "                 'TSP':0., \n",
    "                 'TBP':1.,\n",
    "                 'TPP':(dp.TP - dp.TS)/dp.deltaT, #dimensionless potential temp\n",
    "                 'TS':dp.TS/dp.deltaT,\n",
    "                 'TP':dp.TP/dp.deltaT,\n",
    "                 'cm':dp.cm*sf.stress,\n",
    "                 'cc':dp.cc*sf.stress,    #{dimensionless cohesion in mantle, crust, interface}\n",
    "                 'ci':dp.ci*sf.stress,\n",
    "                 'cf':dp.cf*sf.stress,\n",
    "                 'fcmd':dp.fcm*sf.lith_grad, \n",
    "                 'fccd':dp.fcc*sf.lith_grad, #{dimensionless friction coefficient in mantle, crust, interface}\n",
    "                 'fcid':dp.fci*sf.lith_grad, \n",
    "                 'fcfd':dp.fci*sf.lith_grad, \n",
    "                 #Rheology - cutoff values\n",
    "                 'eta_min':dp.eta_min/dp.eta0, \n",
    "                 'eta_max':dp.eta_max/dp.eta0, #viscosity max in the mantle material\n",
    "                 'eta_min_crust':dp.eta_min_crust/dp.eta0, #viscosity min in the weak-crust material\n",
    "                 'eta_max_crust':dp.eta_max_crust/dp.eta0, #viscosity max in the weak-crust material\n",
    "                 'eta_min_interface':dp.eta_min_interface/dp.eta0, #viscosity min in the subduction interface material\n",
    "                 'eta_max_interface':dp.eta_max_interface/dp.eta0, #viscosity max in the subduction interface material\n",
    "                 'eta_min_fault':dp.eta_min_fault/dp.eta0, #viscosity min in the subduction interface material\n",
    "                 'eta_max_fault':dp.eta_max_fault/dp.eta0, #viscosity max in the subduction interface material   \n",
    "                 #Length scales\n",
    "                 'MANTLETOCRUST':dp.MANTLETOCRUST/dp.LS, #Crust depth\n",
    "                 'HARZBURGDEPTH':dp.HARZBURGDEPTH/dp.LS,\n",
    "                 'CRUSTTOMANTLE':dp.CRUSTTOMANTLE/dp.LS,\n",
    "                 'LITHTOMANTLE':dp.LITHTOMANTLE/dp.LS,\n",
    "                 'MANTLETOLITH':dp.MANTLETOLITH/dp.LS,\n",
    "                 'TOPOHEIGHT':dp.TOPOHEIGHT/dp.LS,  #rock-air topography limits\n",
    "                 'CRUSTTOECL':dp.CRUSTTOECL/dp.LS,\n",
    "                 'LOWMANTLEDEPTH':dp.LOWMANTLEDEPTH/dp.LS, \n",
    "                 'CRUSTVISCUTOFF':dp.CRUSTVISCUTOFF/dp.LS, #Deeper than this, crust material rheology reverts to mantle rheology\n",
    "                 'AGETRACKDEPTH':dp.AGETRACKDEPTH/dp.LS,\n",
    "                 #Slab and plate parameters\n",
    "                 'roc':dp.roc/dp.LS,     #radius of curvature of slab\n",
    "                 'subzone':dp.subzone/dp.LS,   #X position of subduction zone..\n",
    "                 'lRidge':np.round(dp.lRidge/dp.LS, 1),  #For depth = 670 km, aspect ratio of 4, this puts the ridges at MINX, MAXX\n",
    "                 'rRidge':np.round(dp.rRidge/dp.LS),\n",
    "                 'maxDepth':dp.maxDepth/dp.LS,    \n",
    "                 #misc\n",
    "                 'Steta_n':dp.Steta_n/dp.eta0, #stick air viscosity, normal\n",
    "                 'Steta_s':dp.Steta_n/dp.eta0, #stick air viscosity, shear \n",
    "                 'StALS':dp.StALS/dp.LS,\n",
    "                 'plate_vel':sf.vel*dp.plate_vel*(cmpery.to(u.m/u.second)).magnitude,\n",
    "                 'low_mantle_visc_fac':dp.low_mantle_visc_fac\n",
    "                })\n",
    "\n",
    "\n",
    "\n",
    "    #Append any more derived paramters\n",
    "    ndp.StRA = (3300.*dp.g*(dp.LS)**3)/(dp.eta0 *dp.k) #Composisitional Rayleigh number for rock-air buoyancy force\n",
    "    dp.CVR = (0.1*(dp.k/dp.LS)*ndp.RA**(2/3.))\n",
    "    ndp.CVR = dp.CVR*sf.vel #characteristic velocity"
   ]
  },
  {
   "cell_type": "code",
   "execution_count": 23,
   "metadata": {
    "collapsed": false
   },
   "outputs": [
    {
     "data": {
      "text/plain": [
       "0.15"
      ]
     },
     "execution_count": 23,
     "metadata": {},
     "output_type": "execute_result"
    }
   ],
   "source": [
    "ndp.eta_min_crust"
   ]
  },
  {
   "cell_type": "code",
   "execution_count": 24,
   "metadata": {
    "collapsed": false
   },
   "outputs": [
    {
     "data": {
      "text/plain": [
       "(3675.896698334945, 2900000000000.0, 3.168876464081849e-10)"
      ]
     },
     "execution_count": 24,
     "metadata": {},
     "output_type": "execute_result"
    }
   ],
   "source": [
    "ndp.plate_vel, sf.vel, (cmpery.to(u.m/u.second)).magnitude"
   ]
  },
  {
   "cell_type": "markdown",
   "metadata": {},
   "source": [
    "**Model setup parameters**"
   ]
  },
  {
   "cell_type": "code",
   "execution_count": 51,
   "metadata": {
    "collapsed": false
   },
   "outputs": [],
   "source": [
    "###########\n",
    "#Model setup parameters\n",
    "###########\n",
    "\n",
    "dim = 2          # number of spatial dimensions\n",
    "\n",
    "\n",
    "#Domain and Mesh paramters\n",
    "Xres = int(md.RES*8)   #more than twice the resolution in X-dim, which will be 'corrected' by the refinement we'll use in Y\n",
    "\n",
    "\n",
    "MINY = 1. - (dp.depth/dp.LS)\n",
    "if md.stickyAir:\n",
    "    Yres = int(md.RES)\n",
    "    MAXY = 1. + dp.StALS/dp.LS #150km\n",
    "    \n",
    "else:\n",
    "    Yres = int(md.RES)\n",
    "    MAXY = 1.\n",
    "\n",
    "\n",
    "periodic = [False, False]\n",
    "if md.periodicBcs:\n",
    "    periodic = [True, False]\n",
    "    \n",
    "    \n",
    "hw = np.round(0.5*(dp.depth/dp.LS)*md.aspectRatio, 1)\n",
    "MINX = -1.*hw\n",
    "\n",
    "MAXX = hw\n",
    "MAXY = 1.\n",
    "    \n",
    "    \n",
    "\n",
    "Xres = int(md.RES*md.aspectRatio) #careful\n",
    "#if MINY == 0.5:\n",
    "#    Xres = int(2.*RES*md.aspectRatio)\n",
    "    \n",
    "\n",
    "if md.stickyAir:\n",
    "    Yres = int(md.RES)\n",
    "    MAXY = np.round(MAXY + dp.StALS/dp.LS, 2)\n",
    "    \n",
    "else:\n",
    "    Yres = int(md.RES)\n",
    "    MAXY = np.round(MAXY, 2)\n",
    "\n",
    "periodic = [False, False]\n",
    "if md.periodicBcs:\n",
    "    periodic = [True, False]\n",
    "    \n",
    "#elementType = \"Q1/dQ0\"\n",
    "\n",
    "\n",
    "#System/Solver stuff\n",
    "PIC_integration=True\n",
    "ppc = 25\n",
    "\n",
    "#Metric output stuff\n",
    "figures =  'store' #glucifer Store won't work on all machines, if not, set to 'gldb' \n",
    "swarm_repop, swarm_update = 10, 10\n",
    "gldbs_output = 100\n",
    "checkpoint_every, files_output = 200, 200\n",
    "metric_output = 10\n",
    "sticky_air_temp = 1e6"
   ]
  },
  {
   "cell_type": "code",
   "execution_count": null,
   "metadata": {
    "collapsed": true
   },
   "outputs": [],
   "source": []
  },
  {
   "cell_type": "markdown",
   "metadata": {},
   "source": [
    "Create mesh and finite element variables\n",
    "------"
   ]
  },
  {
   "cell_type": "code",
   "execution_count": 52,
   "metadata": {
    "collapsed": false
   },
   "outputs": [],
   "source": [
    "mesh = uw.mesh.FeMesh_Cartesian( elementType = (md.elementType),\n",
    "                                 elementRes  = (Xres, Yres), \n",
    "                                 minCoord    = (MINX, MINY), \n",
    "                                 maxCoord    = (MAXX, MAXY), periodic=periodic)\n",
    "\n",
    "velocityField       = uw.mesh.MeshVariable( mesh=mesh,         nodeDofCount=2 )\n",
    "pressureField       = uw.mesh.MeshVariable( mesh=mesh.subMesh, nodeDofCount=1 )\n",
    "temperatureField    = uw.mesh.MeshVariable( mesh=mesh,         nodeDofCount=1 )\n",
    "temperatureDotField = uw.mesh.MeshVariable( mesh=mesh,         nodeDofCount=1 )"
   ]
  },
  {
   "cell_type": "code",
   "execution_count": 53,
   "metadata": {
    "collapsed": true
   },
   "outputs": [],
   "source": [
    "coordinate = fn.input()\n",
    "depthFn = MAXY - coordinate[1] #a function providing the depth\n",
    "\n",
    "\n",
    "xFn = coordinate[0]  #a function providing the x-coordinate\n",
    "yFn = coordinate[1]\n"
   ]
  },
  {
   "cell_type": "code",
   "execution_count": 54,
   "metadata": {
    "collapsed": false
   },
   "outputs": [],
   "source": [
    "mesh.reset()\n",
    "\n",
    "jWalls = mesh.specialSets[\"MinJ_VertexSet\"] + mesh.specialSets[\"MaxJ_VertexSet\"]\n",
    "yFn = coordinate[1]\n",
    "yField = uw.mesh.MeshVariable( mesh=mesh, nodeDofCount=1 )\n",
    "yField.data[:] = 0.\n",
    "yBC = uw.conditions.DirichletCondition( variable=yField, indexSetsPerDof=(jWalls,) )\n",
    "\n",
    "# set bottom wall temperature bc\n",
    "for index in mesh.specialSets[\"MinJ_VertexSet\"]:\n",
    "    yField.data[index] = mesh.minCoord[1]\n",
    "# set top wall temperature bc\n",
    "for index in mesh.specialSets[\"MaxJ_VertexSet\"]:\n",
    "    yField.data[index] = mesh.maxCoord[1]\n",
    "    \n",
    "    \n",
    "    \n",
    "s = 2.5\n",
    "intensityFac = 1.5\n",
    "intensityFn = (((yFn - MINY)/(MAXY-MINY))**s)\n",
    "intensityFn *= intensityFac\n",
    "intensityFn += 1.\n",
    "\n",
    "\n",
    "yLaplaceEquation = uw.systems.SteadyStateHeat(temperatureField=yField, fn_diffusivity=intensityFn, conditions=[yBC,])\n",
    "\n",
    "# get the default heat equation solver\n",
    "yLaplaceSolver = uw.systems.Solver(yLaplaceEquation)\n",
    "# solve\n",
    "yLaplaceSolver.solve()\n",
    "\n",
    "\n",
    "#Get the array of Y positions - copy may be necessary, not sure. \n",
    "newYpos = yField.data.copy() \n",
    "\n",
    "uw.barrier()\n",
    "with mesh.deform_mesh():\n",
    "     mesh.data[:,1] = newYpos[:,0]"
   ]
  },
  {
   "cell_type": "code",
   "execution_count": null,
   "metadata": {
    "collapsed": true
   },
   "outputs": [],
   "source": []
  },
  {
   "cell_type": "code",
   "execution_count": 55,
   "metadata": {
    "collapsed": false
   },
   "outputs": [],
   "source": [
    "#fig= glucifer.Figure()\n",
    "#fig.append(glucifer.objects.Mesh(mesh))\n",
    "#fig.append( glucifer.objects.Surface(mesh,intensityFn, discrete=True))\n",
    "#fig.show()\n",
    "#fig.save_database('test.gldb')"
   ]
  },
  {
   "cell_type": "code",
   "execution_count": 56,
   "metadata": {
    "collapsed": false
   },
   "outputs": [],
   "source": [
    "#THis is a hack for adding a sticky air domain, we refine MAXY and things like the temperature stencil work from Y = 1. \n",
    "\n",
    "if md.stickyAir:\n",
    "    MAXY = 1."
   ]
  },
  {
   "cell_type": "markdown",
   "metadata": {},
   "source": [
    "Initial conditions\n",
    "-------\n"
   ]
  },
  {
   "cell_type": "code",
   "execution_count": null,
   "metadata": {
    "collapsed": false
   },
   "outputs": [],
   "source": []
  },
  {
   "cell_type": "code",
   "execution_count": 57,
   "metadata": {
    "collapsed": false
   },
   "outputs": [],
   "source": [
    "\n",
    "def age_fn(xFn, sz = 0.0, lMOR=MINX, rMOR=MAXX, opFac=1., conjugate_plate = False):\n",
    "    \"\"\"\n",
    "    Simple function to generate a discrete 1-d (i.e x-coordinate) function for the age of the thermal BC. \n",
    "    All paramters are dimensionless\n",
    "    sz: location of subduction zone\n",
    "    lMOR: location of left-hand MOR\n",
    "    rMOR: location of right-hand MOR\n",
    "    opFac: uniform reduce the age of the right hand plate by this factor\n",
    "    conjugate_plate: if True, build plates on the outer sides of the MORs, if False, age = 0. \n",
    "    \"\"\"\n",
    "    \n",
    "    if lMOR < MINX:\n",
    "        lMOR = MINX\n",
    "    if rMOR > MAXX:\n",
    "        rMOR = MAXX\n",
    "    r_grad =  1./(abs(rMOR-sz))\n",
    "    l_grad =  1./(abs(sz-lMOR))\n",
    "    if conjugate_plate:\n",
    "        ageFn = fn.branching.conditional([(operator.and_(xFn > lMOR, xFn < sz) , (xFn + abs(lMOR))/(abs(sz-lMOR))), \n",
    "                                      (operator.and_(xFn < rMOR, xFn >= sz), (1.-(xFn + abs(sz))/abs(rMOR-sz))*opFac),\n",
    "                                      (xFn > rMOR, r_grad*opFac*(xFn -abs(rMOR)) / (abs(MAXX-rMOR))),\n",
    "                                      (True, l_grad*fn.math.abs((((xFn + abs(lMOR)) / (abs(lMOR - MINX))))))\n",
    "                                         ])\n",
    "    else:    \n",
    "        \n",
    "        ageFn = fn.branching.conditional([(operator.and_(xFn > lMOR, xFn < sz) , (xFn + abs(lMOR))/(abs(sz-lMOR))), \n",
    "                                      (operator.and_(xFn < rMOR, xFn >= sz), (1.-(xFn + abs(sz))/abs(rMOR-sz))*opFac),\n",
    "\n",
    "                                      (True, 0.0)])\n",
    "    return ageFn"
   ]
  },
  {
   "cell_type": "code",
   "execution_count": 58,
   "metadata": {
    "collapsed": false
   },
   "outputs": [
    {
     "data": {
      "text/plain": [
       "1.0"
      ]
     },
     "execution_count": 58,
     "metadata": {},
     "output_type": "execute_result"
    }
   ],
   "source": [
    "ndp.TPP"
   ]
  },
  {
   "cell_type": "code",
   "execution_count": 59,
   "metadata": {
    "collapsed": false
   },
   "outputs": [],
   "source": [
    "###########\n",
    "#Thermal initial condition - half-space cooling\n",
    "###########\n",
    "\n",
    "#  a few conversions\n",
    "ageAtTrenchSeconds = min(dp.platemaxAge*(3600*24*365), dp.slabmaxAge*(3600*24*365))\n",
    "#slab perturbation params (mostly dimensionless / model params here)\n",
    "phi = 90. - dp.theta\n",
    "Org = (ndp.subzone, MAXY-ndp.roc)\n",
    "\n",
    "#First build the top TBL\n",
    "ageFn = age_fn(xFn, sz =ndp.subzone, lMOR=ndp.lRidge,rMOR=ndp.rRidge, conjugate_plate=True, opFac = dp.op_age_fac)\n",
    "#dimensionlize the age function\n",
    "ageFn *= ageAtTrenchSeconds #seconds to year\n",
    "w0 = (2.3*math.sqrt(dp.k*ageAtTrenchSeconds))/dp.LS #diffusion depth of plate at the trench\n",
    "\n",
    "tempBL = (ndp.TPP - ndp.TSP)*fn.math.erf((depthFn*dp.LS)/(2.*fn.math.sqrt(dp.k*ageFn))) + ndp.TSP #boundary layer function\n",
    "tempTBL =  fn.branching.conditional([(depthFn < w0, tempBL),\n",
    "                          (True, ndp.TPP)])\n",
    "\n",
    "if not md.symmetricIcs:\n",
    "    if not checkpointLoad:\n",
    "        out = uw.utils.MeshVariable_Projection( temperatureField, tempTBL) #apply function with projection\n",
    "        out.solve()\n",
    "\n"
   ]
  },
  {
   "cell_type": "code",
   "execution_count": 60,
   "metadata": {
    "collapsed": false
   },
   "outputs": [],
   "source": [
    "#w0*dp.LS"
   ]
  },
  {
   "cell_type": "code",
   "execution_count": 61,
   "metadata": {
    "collapsed": false
   },
   "outputs": [],
   "source": [
    "#Now build the perturbation part\n",
    "def inCircleFnGenerator(centre, radius):\n",
    "    coord = fn.input()\n",
    "    offsetFn = coord - centre\n",
    "    return fn.math.dot( offsetFn, offsetFn ) < radius**2\n",
    "\n",
    "\n",
    "\n",
    "#We use three circles to define our slab and crust perturbation,  \n",
    "Oc = inCircleFnGenerator(Org , ndp.roc)\n",
    "Ic = inCircleFnGenerator(Org , ndp.roc - w0)\n",
    "Cc = inCircleFnGenerator(Org , ndp.roc - (1.2*ndp.MANTLETOCRUST)) #... weak zone on 'outside' of slab\n",
    "Hc = inCircleFnGenerator(Org , ndp.roc - ndp.HARZBURGDEPTH) #... Harzburgite layer \n",
    "dx = (ndp.roc)/(np.math.tan((np.math.pi/180.)*phi))\n",
    "\n",
    "#We'll also create a triangle which will truncate the circles defining the slab...\n",
    "if dp.sense == 'Left':\n",
    "    ptx = ndp.subzone - dx\n",
    "else:\n",
    "    ptx = ndp.subzone + dx\n",
    "coords = ((0.+ ndp.subzone, MAXY), (0.+ ndp.subzone, MAXY-ndp.roc), (ptx, MAXY))\n",
    "Tri = fn.shape.Polygon(np.array(coords))\n",
    "\n",
    "#Actually apply the perturbation - could probably avoid particle walk here\n",
    "if not md.symmetricIcs:\n",
    "    if not checkpointLoad:\n",
    "        sdFn = ((ndp.roc - fn.math.sqrt((coordinate[0] - Org[0])**2. + (coordinate[1] - Org[1])**2.)))\n",
    "        slabFn = ndp.TPP*fn.math.erf((sdFn*dp.LS)/(2.*math.sqrt(dp.k*ageAtTrenchSeconds))) + ndp.TSP\n",
    "        for index, coord in enumerate(mesh.data):\n",
    "            if (\n",
    "                Oc.evaluate(tuple(coord)) and\n",
    "                Tri.evaluate(tuple(coord)) and not\n",
    "                Ic.evaluate(tuple(coord)) and\n",
    "                coord[1] > (MAXY - ndp.maxDepth)\n",
    "                ): #In the quarter-circle defining the lithosphere\n",
    "                temperatureField.data[index] = slabFn.evaluate(mesh)[index]\n"
   ]
  },
  {
   "cell_type": "code",
   "execution_count": 62,
   "metadata": {
    "collapsed": false
   },
   "outputs": [],
   "source": [
    "#sdFn = ((RocM - fn.math.sqrt((coordinate[0] - Org[0])**2. + (coordinate[1] - Org[1])**2.)))\n",
    "#slabFn = ndp.TPP*fn.math.erf((sdFn*dp.LS)/(2.*math.sqrt(dp.k*ageAtTrenchSeconds))) + ndp.TSP\n",
    "#sdFn, slabFn"
   ]
  },
  {
   "cell_type": "code",
   "execution_count": 63,
   "metadata": {
    "collapsed": false
   },
   "outputs": [],
   "source": [
    "#Make sure material in sticky air region is at the surface temperature.\n",
    "for index, coord in enumerate(mesh.data):\n",
    "            if coord[1] >= MAXY:\n",
    "                temperatureField.data[index] = ndp.TSP"
   ]
  },
  {
   "cell_type": "code",
   "execution_count": 64,
   "metadata": {
    "collapsed": false
   },
   "outputs": [],
   "source": [
    "#fn.math.erf((sdFn*dp.LS)/(2.*fn.math.sqrt(dp.k*(slabmaxAge*(3600*24*365))))) \n",
    "#CRUSTVISCUTOFF, MANTLETOCRUST*3"
   ]
  },
  {
   "cell_type": "markdown",
   "metadata": {
    "collapsed": false
   },
   "source": [
    "def matplot_field(temperatureField, dp):\n",
    "    if uw.nProcs() != 1:\n",
    "        print(\"only in Serial folks\")\n",
    "    else:\n",
    "        import matplotlib.pyplot as pyplt\n",
    "        try :\n",
    "            if(__IPYTHON__) :\n",
    "                get_ipython().magic(u'matplotlib inline')\n",
    "        except NameError :\n",
    "            pass\n",
    "        field_data = temperatureField.data.reshape(mesh.elementRes[1] + 1, mesh.elementRes[0] + 1)\n",
    "        fig, ax = pyplt.subplots(figsize=(32,2))\n",
    "        ql = dp.LS/1e3\n",
    "        pyplt.ioff()\n",
    "        cax =ax.imshow(np.flipud(field_data), cmap='coolwarm', aspect = 0.5, extent=[0,ql*aspectRatio,ql, 0])\n",
    "        fig.colorbar(cax, orientation='horizontal' )\n",
    "        #ax.set_x([0,dp.LS*aspectRatio])\n",
    "        pyplt.tight_layout()\n",
    "        \n",
    "        return fig, ax\n",
    "        \n",
    "fig, ax = matplot_field(temperatureField, dp)\n",
    "fig.savefig('test.png')       "
   ]
  },
  {
   "cell_type": "code",
   "execution_count": 65,
   "metadata": {
    "collapsed": false
   },
   "outputs": [
    {
     "data": {
      "text/plain": [
       "(0.0, 1.0)"
      ]
     },
     "execution_count": 65,
     "metadata": {},
     "output_type": "execute_result"
    }
   ],
   "source": [
    "temperatureField.data.min(), temperatureField.data.max()"
   ]
  },
  {
   "cell_type": "code",
   "execution_count": 66,
   "metadata": {
    "collapsed": false
   },
   "outputs": [
    {
     "data": {
      "text/html": [
       "<img src='data:image/png;base64,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'>"
      ],
      "text/plain": [
       "<IPython.core.display.HTML object>"
      ]
     },
     "metadata": {},
     "output_type": "display_data"
    }
   ],
   "source": [
    "#fig= glucifer.Figure(quality=3)\n",
    "#fig.append( glucifer.objects.Surface(mesh,temperatureField ))\n",
    "#fig.append( glucifer.objects.Points(gSwarm,temperatureField ))\n",
    "#fig.append( glucifer.objects.Mesh(mesh))\n",
    "#fig.show()\n",
    "\n",
    "##fig.save_database('test.gldb')\n",
    "#fig.save_image('test.png')\n"
   ]
  },
  {
   "cell_type": "markdown",
   "metadata": {},
   "source": [
    "Boundary conditions\n",
    "-------"
   ]
  },
  {
   "cell_type": "code",
   "execution_count": 37,
   "metadata": {
    "collapsed": false
   },
   "outputs": [
    {
     "name": "stdout",
     "output_type": "stream",
     "text": [
      "2\n"
     ]
    }
   ],
   "source": [
    "for index in mesh.specialSets[\"MinJ_VertexSet\"]:\n",
    "    temperatureField.data[index] = ndp.TBP\n",
    "for index in mesh.specialSets[\"MaxJ_VertexSet\"]:\n",
    "    temperatureField.data[index] = ndp.TSP\n",
    "    \n",
    "iWalls = mesh.specialSets[\"MinI_VertexSet\"] + mesh.specialSets[\"MaxI_VertexSet\"]\n",
    "jWalls = mesh.specialSets[\"MinJ_VertexSet\"] + mesh.specialSets[\"MaxJ_VertexSet\"]\n",
    "tWalls = mesh.specialSets[\"MaxJ_VertexSet\"]\n",
    "bWalls =mesh.specialSets[\"MinJ_VertexSet\"]\n",
    "\n",
    "VelBCs = mesh.specialSets[\"Empty\"]\n",
    "\n",
    "\n",
    "\n",
    "if md.velBcs:\n",
    "    for index in list(tWalls.data):\n",
    "\n",
    "        if (mesh.data[int(index)][0] < (ndp.subzone - 0.05*md.aspectRatio) and \n",
    "            mesh.data[int(index)][0] > (mesh.minCoord[0] + 0.05*md.aspectRatio)): #Only push with a portion of teh overiding plate\n",
    "            #print \"first\"\n",
    "            VelBCs.add(int(index))\n",
    "            #Set the plate velocities for the kinematic phase\n",
    "            velocityField.data[index] = [ndp.plate_vel, 0.]\n",
    "        \n",
    "        elif (mesh.data[int(index)][0] > (ndp.subzone + 0.05*md.aspectRatio) and \n",
    "            mesh.data[int(index)][0] < (mesh.maxCoord[0] - 0.05*md.aspectRatio)):\n",
    "            #print \"second\"\n",
    "            VelBCs.add(int(index))\n",
    "            #Set the plate velocities for the kinematic phase\n",
    "            velocityField.data[index] = [0., 0.]\n",
    "        \n",
    "\n",
    "#If periodic, we'll fix a the x-vel at a single node - at the bottom left (index 0)\n",
    "Fixed = mesh.specialSets[\"Empty\"]\n",
    "Fixed.add(int(0))        \n",
    "        \n",
    "\n",
    "if periodic[0] == False:\n",
    "    if md.velBcs:\n",
    "        print(1)\n",
    "        freeslipBC = uw.conditions.DirichletCondition( variable      = velocityField, \n",
    "                                               indexSetsPerDof = ( iWalls + VelBCs, jWalls) )\n",
    "    else:\n",
    "        print(2)\n",
    "        freeslipBC = uw.conditions.DirichletCondition( variable      = velocityField, \n",
    "                                               indexSetsPerDof = ( iWalls, jWalls) )\n",
    "\n",
    "\n",
    "\n",
    "\n",
    "\n",
    "\n",
    "if periodic[0] == True:\n",
    "    if md.velBcs:\n",
    "        print(3)\n",
    "        freeslipBC = uw.conditions.DirichletCondition( variable      = velocityField, \n",
    "                                               indexSetsPerDof = ( Fixed + VelBCs , jWalls) )\n",
    "    else:\n",
    "        print(4)\n",
    "        freeslipBC = uw.conditions.DirichletCondition( variable      = velocityField, \n",
    "                                               indexSetsPerDof = ( Fixed, jWalls) )\n",
    "        \n",
    "    \n",
    "    \n",
    "    \n",
    "# also set dirichlet for temp field\n",
    "dirichTempBC = uw.conditions.DirichletCondition(     variable=temperatureField, \n",
    "                                              indexSetsPerDof=(tWalls,) )\n",
    "dT_dy = [0.,0.]\n",
    "\n",
    "# also set dirichlet for temp field\n",
    "neumannTempBC = uw.conditions.NeumannCondition( dT_dy, variable=temperatureField, \n",
    "                                         nodeIndexSet=bWalls)\n",
    "\n"
   ]
  },
  {
   "cell_type": "code",
   "execution_count": null,
   "metadata": {
    "collapsed": false
   },
   "outputs": [],
   "source": []
  },
  {
   "cell_type": "code",
   "execution_count": 38,
   "metadata": {
    "collapsed": false
   },
   "outputs": [],
   "source": [
    "#check VelBCs are where we want them\n",
    "#test = np.zeros(len(tWalls.data))\n",
    "#VelBCs\n",
    "#tWalls.data\n",
    "#tWalls.data[VelBCs.data]\n",
    "#test[np.in1d(tWalls.data, VelBCs.data)] = 1.\n",
    "#test\n",
    "\n"
   ]
  },
  {
   "cell_type": "code",
   "execution_count": null,
   "metadata": {
    "collapsed": false
   },
   "outputs": [],
   "source": []
  },
  {
   "cell_type": "markdown",
   "metadata": {},
   "source": [
    "Swarm setup\n",
    "-----\n"
   ]
  },
  {
   "cell_type": "code",
   "execution_count": 39,
   "metadata": {
    "collapsed": false
   },
   "outputs": [],
   "source": [
    "###########\n",
    "#Material Swarm and variables\n",
    "###########\n",
    "\n",
    "#create material swarm\n",
    "gSwarm = uw.swarm.Swarm(mesh=mesh, particleEscape=True)\n",
    "\n",
    "#create swarm variables\n",
    "yieldingCheck = gSwarm.add_variable( dataType=\"int\", count=1 )\n",
    "materialVariable = gSwarm.add_variable( dataType=\"int\", count=1 )\n",
    "ageVariable = gSwarm.add_variable( dataType=\"double\", count=1 )\n",
    "\n",
    "\n",
    "#these lists  are part of the checkpointing implementation\n",
    "varlist = [materialVariable, yieldingCheck, ageVariable]\n",
    "varnames = ['materialVariable', 'yieldingCheck', 'ageVariable']"
   ]
  },
  {
   "cell_type": "code",
   "execution_count": 40,
   "metadata": {
    "collapsed": false
   },
   "outputs": [],
   "source": [
    "mantleIndex = 0\n",
    "crustIndex = 1\n",
    "harzIndex = 2\n",
    "airIndex = 3\n",
    "\n",
    "\n",
    "\n",
    "if checkpointLoad:\n",
    "    temperatureField.load(os.path.join(checkpointLoadDir, \"temperatureField\" + \".hdf5\"))\n",
    "    pressureField.load(os.path.join(checkpointLoadDir, \"pressureField\" + \".hdf5\"))\n",
    "    velocityField.load(os.path.join(checkpointLoadDir, \"velocityField\" + \".hdf5\"))\n",
    "    gSwarm.load(os.path.join(checkpointLoadDir, \"swarm\" + \".h5\"))\n",
    "    for ix in range(len(varlist)):\n",
    "        varb = varlist[ix]\n",
    "        varb.load(os.path.join(checkpointLoadDir,varnames[ix] + \".h5\"))\n",
    "\n",
    "else:\n",
    "\n",
    "    # Layouts are used to populate the swarm across the whole domain\n",
    "    layout = uw.swarm.layouts.PerCellRandomLayout(swarm=gSwarm, particlesPerCell=ppc)\n",
    "    gSwarm.populate_using_layout( layout=layout ) # Now use it to populate.\n",
    "    # Swarm variables\n",
    "    materialVariable.data[:] = mantleIndex\n",
    "    #tracerVariable.data[:] = 1\n",
    "    yieldingCheck.data[:] = 0\n",
    "    ageVariable.data[:] = -1\n",
    "\n",
    "    #Set initial air and crust materials (allow the graph to take care of lithsophere)\n",
    "    #########\n",
    "    #This initial material setup will be model dependent\n",
    "    #########\n",
    "    for particleID in range(gSwarm.particleCoordinates.data.shape[0]):\n",
    "        if (1. - gSwarm.particleCoordinates.data[particleID][1]) < ndp.MANTLETOCRUST:\n",
    "                 materialVariable.data[particleID] = crustIndex"
   ]
  },
  {
   "cell_type": "markdown",
   "metadata": {
    "collapsed": false
   },
   "source": [
    "###########\n",
    "#This block sets up a checkboard layout of passive tracers\n",
    "###########\n",
    "\n",
    "square_size = 0.1\n",
    "xlist = np.arange(mesh.minCoord[0] + square_size/2., mesh.maxCoord[0] + square_size/2., square_size)\n",
    "xlist = zip(xlist[:], xlist[1:])[::2]\n",
    "ylist = np.arange(mesh.minCoord[1] + square_size/2., mesh.maxCoord[1] + square_size/2., square_size)\n",
    "ylist = zip(ylist[:], ylist[1:])[::2]\n",
    "xops = []\n",
    "for vals in xlist:\n",
    "    xops.append( (operator.and_(   operator.gt(coordinate[0],vals[0]),   operator.lt(coordinate[0],vals[1])  ),0.) )\n",
    "xops.append((True,1.))\n",
    "\n",
    "testfunc = fn.branching.conditional(xops) \n",
    "\n",
    "yops = []\n",
    "for vals in ylist:\n",
    "    yops.append( (operator.and_(   operator.gt(coordinate[1],vals[0]),   operator.lt(coordinate[1],vals[1])  ),0.) )\n",
    "yops.append((True,testfunc))\n",
    "\n",
    "testfunc2 = fn.branching.conditional(yops) \n",
    "tracerVariable.data[:] = testfunc.evaluate(gSwarm)\n",
    "tracerVariable.data[:] = testfunc2.evaluate(gSwarm)"
   ]
  },
  {
   "cell_type": "code",
   "execution_count": null,
   "metadata": {
    "collapsed": false
   },
   "outputs": [],
   "source": []
  },
  {
   "cell_type": "code",
   "execution_count": 41,
   "metadata": {
    "collapsed": false
   },
   "outputs": [],
   "source": [
    "##############\n",
    "#Set the initial particle age for particles above the critical depth; \n",
    "#only material older than crustageCond will be transformed to crust / harzburgite\n",
    "##############\n",
    "\n",
    "ageVariable.data[:] = 0. #start with all zero\n",
    "ageVariable.data[:] = ageFn.evaluate(gSwarm)/sf.SR\n",
    "crustageCond = 2e6*(3600.*365.*24.)/sf.SR #set inital age above critical depth. (x...Ma)\n",
    "\n",
    "\n",
    "\n",
    "ageConditions = [ (depthFn < ndp.AGETRACKDEPTH, ageVariable),  #In the main loop we add ageVariable + dt here\n",
    "                  (True, 0.) ]\n",
    "                 \n",
    "#apply conditional \n",
    "ageVariable.data[:] = fn.branching.conditional( ageConditions ).evaluate(gSwarm)\n",
    "\n",
    "ageDT = 0.#this is used in the main loop for short term time increments"
   ]
  },
  {
   "cell_type": "code",
   "execution_count": 42,
   "metadata": {
    "collapsed": false
   },
   "outputs": [],
   "source": [
    "#fig= glucifer.Figure()\n",
    "#fig.append( glucifer.objects.Points(gSwarm,ageVariable))\n",
    "#fig.append( glucifer.objects.Points(gSwarm, viscosityMapFn, logScale=True, valueRange =[1e-3,1e5]))\n",
    "\n",
    "\n",
    "#fig.show()"
   ]
  },
  {
   "cell_type": "code",
   "execution_count": 43,
   "metadata": {
    "collapsed": false
   },
   "outputs": [],
   "source": [
    "##############\n",
    "#Here we set up a directed graph object that we we use to control the transformation from one material type to another\n",
    "##############\n",
    "\n",
    "#All depth conditions are given as (km/D) where D is the length scale,\n",
    "#note that 'model depths' are used, e.g. 1-z, where z is the vertical Underworld coordinate\n",
    "#All temp conditions are in dimensionless temp. [0. - 1.]\n",
    "\n",
    "#Need a list of all material indexes (safer in parallel)\n",
    "material_list = [0,1,2,3]\n",
    "\n",
    "if not checkpointLoad:\n",
    "    materialVariable.data[:] = 0 #Initialize to zero \n",
    "\n",
    "#Setup the graph object\n",
    "DG = material_graph.MatGraph()\n",
    "\n",
    "#Important: First thing to do is to add all the material types to the graph (i.e add nodes)\n",
    "DG.add_nodes_from(material_list)\n",
    "\n",
    "#Now set the conditions for transformations\n",
    "\n",
    "hs = 2e3/dp.LS  #add some hysteresis to the depths of transition\n",
    "\n",
    "#... to mantle\n",
    "DG.add_transition((crustIndex,mantleIndex), depthFn, operator.gt, ndp.CRUSTTOMANTLE + hs)\n",
    "DG.add_transition((harzIndex,mantleIndex), depthFn, operator.gt, ndp.CRUSTTOMANTLE + hs)\n",
    "DG.add_transition((airIndex,mantleIndex), depthFn, operator.gt, ndp.TOPOHEIGHT + hs)\n",
    "\n",
    "#... to crust\n",
    "DG.add_transition((mantleIndex,crustIndex), depthFn, operator.lt, ndp.MANTLETOCRUST)\n",
    "DG.add_transition((mantleIndex,crustIndex), xFn, operator.lt, ndp.subzone + 4.*ndp.MANTLETOCRUST) #No crust on the upper plate\n",
    "DG.add_transition((mantleIndex,crustIndex), ageVariable, operator.gt, crustageCond)\n",
    "\n",
    "\n",
    "DG.add_transition((harzIndex,crustIndex), depthFn, operator.lt, ndp.MANTLETOCRUST)\n",
    "DG.add_transition((harzIndex,crustIndex), xFn, operator.lt, ndp.subzone + 4.*ndp.MANTLETOCRUST) #This one sets no crust on the upper plate\n",
    "DG.add_transition((harzIndex,crustIndex), ageVariable, operator.gt, crustageCond)\n",
    "\n",
    "#... to Harzbugite\n",
    "DG.add_transition((mantleIndex,harzIndex), depthFn, operator.lt, ndp.HARZBURGDEPTH)\n",
    "DG.add_transition((mantleIndex,harzIndex), depthFn, operator.gt, ndp.MANTLETOCRUST)\n",
    "DG.add_transition((mantleIndex,harzIndex), ageVariable, operator.gt, crustageCond) #Note we can mix functions and swarm variabls\n",
    "\n",
    "\n",
    "#... to air\n",
    "DG.add_transition((mantleIndex,airIndex), depthFn, operator.lt,0.)\n",
    "DG.add_transition((crustIndex,airIndex), depthFn, operator.lt, 0. )\n",
    "DG.add_transition((harzIndex,airIndex), depthFn, operator.lt, 0. )\n"
   ]
  },
  {
   "cell_type": "code",
   "execution_count": 44,
   "metadata": {
    "collapsed": false
   },
   "outputs": [],
   "source": [
    "#CRUSTTOMANTLE, HARZBURGDEPTH, 0. + 7.*MANTLETOCRUST"
   ]
  },
  {
   "cell_type": "code",
   "execution_count": 45,
   "metadata": {
    "collapsed": false
   },
   "outputs": [],
   "source": [
    "#gSwarm.particleCoordinates.data[particleID][1]"
   ]
  },
  {
   "cell_type": "code",
   "execution_count": 46,
   "metadata": {
    "collapsed": false
   },
   "outputs": [],
   "source": [
    "##############\n",
    "#For the slab_IC, we'll also add a crustal weak zone following the dipping perturbation\n",
    "##############\n",
    "\n",
    "if checkpointLoad != True:\n",
    "    if not md.symmetricIcs:\n",
    "        for particleID in range(gSwarm.particleCoordinates.data.shape[0]):\n",
    "            if gSwarm.particleCoordinates.data[particleID][1] < 0.:\n",
    "                materialVariable.data[particleID] = airIndex\n",
    "                \n",
    "            elif (\n",
    "                Oc.evaluate(list(gSwarm.particleCoordinates.data[particleID])) and\n",
    "                Tri.evaluate(list(gSwarm.particleCoordinates.data[particleID])) and\n",
    "                gSwarm.particleCoordinates.data[particleID][1] > (MAXY - ndp.maxDepth) and\n",
    "                Cc.evaluate(list(gSwarm.particleCoordinates.data[particleID])) == False\n",
    "                \n",
    "                ):\n",
    "                materialVariable.data[particleID] = crustIndex\n",
    "                \n",
    "            elif (\n",
    "                Oc.evaluate(list(gSwarm.particleCoordinates.data[particleID])) and\n",
    "                Tri.evaluate(list(gSwarm.particleCoordinates.data[particleID])) and\n",
    "                gSwarm.particleCoordinates.data[particleID][1] > (MAXY - ndp.maxDepth) and\n",
    "                Hc.evaluate(list(gSwarm.particleCoordinates.data[particleID])) == False\n",
    "                \n",
    "                ):\n",
    "                materialVariable.data[particleID] = harzIndex"
   ]
  },
  {
   "cell_type": "code",
   "execution_count": 47,
   "metadata": {
    "collapsed": false
   },
   "outputs": [],
   "source": [
    "##############\n",
    "#This is how we use the material graph object to test / apply material transformations\n",
    "##############\n",
    "DG.build_condition_list(materialVariable)\n",
    "\n",
    "for i in range(2): #Need to go through a number of times\n",
    "    materialVariable.data[:] = fn.branching.conditional(DG.condition_list).evaluate(gSwarm)"
   ]
  },
  {
   "cell_type": "code",
   "execution_count": 48,
   "metadata": {
    "collapsed": false
   },
   "outputs": [],
   "source": [
    "#maxDepth"
   ]
  },
  {
   "cell_type": "code",
   "execution_count": 49,
   "metadata": {
    "collapsed": false
   },
   "outputs": [],
   "source": [
    "#fig2= glucifer.Figure()\n",
    "#fig2.append( glucifer.objects.Points(gSwarm,materialVariable))\n",
    "#fig2.append( glucifer.objects.Surface(mesh, depthFn))\n",
    "\n",
    "#fig2.show()\n",
    "#fig2.save_database('test.gldb')"
   ]
  },
  {
   "cell_type": "markdown",
   "metadata": {
    "collapsed": false
   },
   "source": [
    "## Fault stuff\n",
    "\n"
   ]
  },
  {
   "cell_type": "code",
   "execution_count": 50,
   "metadata": {
    "collapsed": true
   },
   "outputs": [],
   "source": [
    "import marker2D"
   ]
  },
  {
   "cell_type": "code",
   "execution_count": 71,
   "metadata": {
    "collapsed": true
   },
   "outputs": [],
   "source": [
    "def update_swarm_from_faults(faults, proximityVariable, normalVectorVariable, signedDistanceVariable):\n",
    "    \"\"\"\n",
    "    Compute fault attributes from the marker-line objects in the 'faults' list.\n",
    "    Specifically:\n",
    "    \n",
    "      - proximityVariable carries information about which fault each swarm particle is close to (0 means none)\n",
    "      - normalVectorVariable maps the orientation of the fault to nearby swarm particles\n",
    "      - signedDistanceVariable carries the distance (positive means 'inside')  \n",
    "      \n",
    "      Unchecked error: if these variables are from different swarms \n",
    "      \n",
    "    \"\"\"\n",
    "    \n",
    "    if type(faults) == list:\n",
    "    \n",
    "        for fault_seg in faults:\n",
    "            swarm = proximityVariable.swarm\n",
    "\n",
    "            f, nz = fault_seg.compute_marker_proximity(swarm.particleCoordinates.data)    \n",
    "            proximityVariable.data[nz] = f[nz]\n",
    "\n",
    "            dv, nzv = fault_seg.compute_normals(swarm.particleCoordinates.data)\n",
    "            normalVectorVariable.data[nzv] = dv[nzv]\n",
    "\n",
    "            sd, dnz = fault_seg.compute_signed_distance(swarm.particleCoordinates.data)\n",
    "            signedDistanceVariable.data[dnz] = sd[dnz]\n",
    "    else:\n",
    "        fault_seg = faults\n",
    "        swarm = proximityVariable.swarm\n",
    "\n",
    "        f, nz = fault_seg.compute_marker_proximity(swarm.particleCoordinates.data)    \n",
    "        proximityVariable.data[nz] = f[nz]\n",
    "\n",
    "        dv, nzv = fault_seg.compute_normals(swarm.particleCoordinates.data)\n",
    "        normalVectorVariable.data[nzv] = dv[nzv]\n",
    "\n",
    "        sd, dnz = fault_seg.compute_signed_distance(swarm.particleCoordinates.data)\n",
    "        signedDistanceVariable.data[dnz] = sd[dnz]\n",
    "    \n",
    "    return\n",
    "\n",
    "\n",
    "def update_swarm_from_line(fault, signedDistanceVariable):\n",
    "    \"\"\"\n",
    "    Compute fault attributes from the marker-line objects in the 'faults' list.\n",
    "    Specifically:\n",
    "    \n",
    "      - proximityVariable carries information about which fault each swarm particle is close to (0 means none)\n",
    "      - normalVectorVariable maps the orientation of the fault to nearby swarm particles\n",
    "      - signedDistanceVariable carries the distance (positive means 'inside')  \n",
    "      \n",
    "      Unchecked error: if these variables are from different swarms \n",
    "      \n",
    "    \"\"\"\n",
    "        \n",
    "    sd, dnz = fault.compute_signed_distance(gSwarm.particleCoordinates.data)\n",
    "    signedDistanceVariable.data[dnz] = sd[dnz]\n",
    "    \n",
    "    return\n",
    "\n",
    "\n",
    "def mask_materials(fault, material, materialVariable, proximityVariable, normalVectorVariable, signedDistanceVariable):\n",
    "\n",
    "    \"\"\"\n",
    "    set the key fault-related swarm variabels to zero, based on material typr\n",
    "    \"\"\"\n",
    "    \n",
    "    fptsMask1 = (materialVariable.data[:,0] != material)\n",
    "    fptsMask2 = (proximityVariable.data[:,0] == fault.ID )\n",
    "\n",
    "    fptsMaskOut = fptsMask1 & fptsMask2\n",
    "\n",
    "    normalVectorVariable.data[fptsMaskOut,:] = [0.0,0.0]\n",
    "    proximityVariable.data[fptsMaskOut] = 0\n",
    "    signedDistanceVariable.data[fptsMaskOut] = 0.0\n",
    "    \n",
    "    \n",
    "def fault_strainrate_fns(fault_list, velocityField, faultNormalVariable, proximityproVariable):\n",
    "\n",
    "    ## This is a quick / short cut way to find the resolved stress components.\n",
    "    \n",
    "    strainRateFn = fn.tensor.symmetric( velocityField.fn_gradient )\n",
    "\n",
    "    \n",
    "    _edotn_SFn = (        directorVector[0]**2 * strainRateFn[0]  + \n",
    "                    2.0 * directorVector[1]    * strainRateFn[2] * directorVector[0] + \n",
    "                          directorVector[1]**2 * strainRateFn[1]                          \n",
    "                ) \n",
    "\n",
    "    # any non-zero proximity requires the computation of the above\n",
    "    \n",
    "    _edotn_SFn_Map    = { 0: 0.0 }\n",
    "    for f in fault_list:\n",
    "        _edotn_SFn_Map[f.ID] =  _edotn_SFn\n",
    "\n",
    "\n",
    "\n",
    "   \n",
    "    _edots_SFn = (  directorVector[0] *  directorVector[1] *(strainRateFn[1] - strainRateFn[0]) +\n",
    "                    strainRateFn[2] * (directorVector[0]**2 - directorVector[1]**2)\n",
    "                 )\n",
    "    \n",
    "  \n",
    "    _edots_SFn_Map = { 0: 1.0e-15 }\n",
    "    \n",
    "    for f in fault_list:\n",
    "        _edots_SFn_Map[f.ID] =  _edots_SFn\n",
    "        \n",
    "        \n",
    "    #Finally, map the resolved strain rate to the proximity variable, \n",
    "    #which also makes resolved strain rate zero whereever proximity variable is zero \n",
    "\n",
    "\n",
    "    edotn_SFn =     fn.branching.map( fn_key = proximityVariable, \n",
    "                                      mapping = _edotn_SFn_Map)\n",
    "\n",
    "\n",
    "    edots_SFn =     fn.branching.map( fn_key = proximityVariable, \n",
    "                                      mapping = _edots_SFn_Map )\n",
    "\n",
    "    \n",
    "    return edotn_SFn, edots_SFn\n",
    "\n",
    "\n",
    "## Time update\n",
    "\n",
    "def faults_advance_in_time(faults,proximityVariable, directorVector, signedDistanceVariable, materialVariable, mmask):\n",
    "    for f in faults:\n",
    "        f.advection(dt)\n",
    "\n",
    "\n",
    "    update_swarm_from_faults(faults, proximityVariable, directorVector, signedDistanceVariable)\n",
    "    mask_materials(materialV, materialVariable, proximityVariable, directorVector, signedDistanceVariable)"
   ]
  },
  {
   "cell_type": "code",
   "execution_count": 122,
   "metadata": {
    "collapsed": false
   },
   "outputs": [
    {
     "data": {
      "text/plain": [
       "1.0"
      ]
     },
     "execution_count": 122,
     "metadata": {},
     "output_type": "execute_result"
    }
   ],
   "source": []
  },
  {
   "cell_type": "code",
   "execution_count": 80,
   "metadata": {
    "collapsed": true
   },
   "outputs": [],
   "source": [
    "###########\n",
    "#Initial Coordinates for inerfaces and faults\n",
    "###########\n",
    "\n",
    "#subduction fault\n",
    "introPoint = ndp.subzone - abs(ndp.subzone - ndp.lRidge)/2. #half way between ridge and Sz\n",
    "faultthickness = ndp.MANTLETOCRUST/2. #initiale fault at half-depth of crust\n",
    "nfault = 200\n",
    "faultCoords =np.zeros((nfault, 2))\n",
    "\n",
    "reducedRocM = ndp.roc  - faultthickness\n",
    "xlimslab = reducedRocM*math.cos(math.pi*(90. - dp.theta)/180)\n",
    "faultCoords[:, 0] = np.linspace(introPoint, ndp.subzone + xlimslab, nfault) #note SZ location is hardcoded here \n",
    "for index, xval in np.ndenumerate(faultCoords[:,0]):\n",
    "    #print index, xval\n",
    "    #swarmCoords[index[0], 1] = 1. - isodepthFn.evaluate((xval, 0.)) #This bit for the plate \n",
    "    if  xval < ndp.subzone:\n",
    "        faultCoords[index[0], 1] = MAXY - faultthickness #This bit for the plate \n",
    "        \n",
    "    else:\n",
    "        faultCoords[index[0], 1] = (MAXY - (faultthickness) - (reducedRocM - ( math.sqrt((reducedRocM**2 - (xval-ndp.subzone)**2)))))\n",
    "        \n",
    "    \n",
    "faultCoords = faultCoords[faultCoords[:,1] > (MAXY - ndp.maxDepth)] #kill any deeper than cutoff\n",
    "\n",
    "\n",
    "#surface tracer interface:\n",
    "surfaceCoords =np.ones((nfault, 2))*1.\n",
    "surfaceCoords[:,0] = np.linspace(MINX, MAXX, nfault)\n",
    "\n",
    "\n",
    "\n",
    "#interface that tracks the shape and position of the slab\n",
    "midthickness = 20e3/dp.LS #initialize tracking swarm at ~ mid lithosphere depth\n",
    "\n",
    "if dp.sense == 'Right':\n",
    "    introPoint = ndp.lRidge + midthickness #\n",
    "else:\n",
    "    introPoint = ndp.rRidge - midthickness #\n",
    "nfault = 200\n",
    "slabCoords =np.zeros((nfault, 2))\n",
    "\n",
    "reducedRocM = ndp.roc  - midthickness\n",
    "xlimslab = reducedRocM*math.cos(math.pi*(90. - dp.theta)/180)\n",
    "slabCoords[:, 0] = np.linspace(introPoint, ndp.subzone + xlimslab, nfault) #note SZ location is hardcoded here \n",
    "for index, xval in np.ndenumerate(slabCoords[:,0]):\n",
    "    #print index, xval\n",
    "    #swarmCoords[index[0], 1] = 1. - isodepthFn.evaluate((xval, 0.)) #This bit for the plate \n",
    "    if  xval < ndp.subzone:\n",
    "        slabCoords[index[0], 1] = MAXY - midthickness #This bit for the plate \n",
    "        \n",
    "    else:\n",
    "        slabCoords[index[0], 1] = (MAXY - (midthickness) - (reducedRocM - ( math.sqrt((reducedRocM**2 - (xval-ndp.subzone)**2)))))\n",
    "        \n",
    "slabCoords = slabCoords[slabCoords[:,1] > (MAXY - ndp.maxDepth)] #kill any deeper than cutoff\n"
   ]
  },
  {
   "cell_type": "code",
   "execution_count": 113,
   "metadata": {
    "collapsed": true
   },
   "outputs": [],
   "source": [
    "#Initiaze the swarms in a \n",
    "fault_seg  = marker2D.markerLine2D(mesh, velocityField, [], [], faultthickness, 0.0, 0.0, crustIndex)\n",
    "surface_seg  = marker2D.markerLine2D(mesh, velocityField, [], [], ndp.StALS, 0.0, 0.0, airIndex)\n",
    "slab_seg  = marker2D.markerLine2D(mesh, velocityField, [], [], 1e9/dp.LS, 0.0, 0.0, crustIndex)   #Note very large fault thickness \n",
    "\n",
    "\n",
    "#These lists are used to checkpoint the marker lines, similar to the swarm variables.        \n",
    "interfaces = []\n",
    "interfaces.append(fault_seg)\n",
    "interfaces.append(surface_seg)\n",
    "interfaces.append(slab_seg)\n",
    "interfacenames = ['fault_seg', 'surface_seg', 'slab_seg']\n",
    "\n",
    "#If restarting, load the swarms from file Interfaces are just swarms, so should be fine to rely on parallel h5 machinery here\n",
    "if checkpointLoad:\n",
    "    for ix in range(len(interfaces)):\n",
    "        tempname = interfacenames[ix]\n",
    "        interfaces[ix].swarm.load(os.path.join(checkpointLoadDir,  tempname + \".h5\"))\n",
    "\n",
    "#otherwise add the point from at the initial locations\n",
    "else:\n",
    "    fault_seg.add_points(faultCoords[:, 0], faultCoords[:, 1])\n",
    "    surface_seg.add_points(surfaceCoords[:, 0], surfaceCoords[:, 1])\n",
    "    slab_seg.add_points(slabCoords[:, 0], slabCoords[:, 1]) \n",
    "    \n"
   ]
  },
  {
   "cell_type": "code",
   "execution_count": 84,
   "metadata": {
    "collapsed": false
   },
   "outputs": [],
   "source": [
    "#Add the necessary swarm variables\n",
    "\n",
    "proximityVariable      = gSwarm.add_variable( dataType=\"int\", count=1 )\n",
    "signedDistanceVariable = gSwarm.add_variable( dataType=\"float\", count=1 )\n",
    "directorVector   = gSwarm.add_variable( dataType=\"double\", count=2)\n",
    "\n",
    "directorVector.data[:,:] = 0.0\n",
    "proximityVariable.data[:] = 0\n",
    "signedDistanceVariable.data[:] = 0.0\n",
    "\n",
    "\n",
    "\n",
    "# Call the Fault helper functions to initialize this info on the main material swarm\n",
    "    \n",
    "update_swarm_from_faults(surface_seg, proximityVariable, directorVector, signedDistanceVariable)\n",
    "mask_materials(surface_seg, airIndex, materialVariable, proximityVariable, directorVector, signedDistanceVariable)\n",
    "\n",
    "\n",
    "update_swarm_from_faults(fault_seg, proximityVariable, directorVector, signedDistanceVariable)\n",
    "mask_materials(fault_seg, crustIndex, materialVariable, proximityVariable, directorVector, signedDistanceVariable)\n",
    "\n",
    "#Also switch off proximity beneath ndp.CRUSTVISCUTOFF depth\n",
    "proximityVariable.data[gSwarm.particleCoordinates.data[:,1]  < (1. - ndp.CRUSTVISCUTOFF)] = 0. \n",
    "\n",
    "# These should be general enough not to need updating when the faults move etc..\n",
    "#ie they should update as the fields/functions/swarm variables they are built on update\n",
    "edotn_SFn, edots_SFn = fault_strainrate_fns(interfaces, velocityField, directorVector, proximityVariable)"
   ]
  },
  {
   "cell_type": "code",
   "execution_count": 79,
   "metadata": {
    "collapsed": true
   },
   "outputs": [],
   "source": [
    "#Have to add these new swarm variable to our variable lists if we want them to get checkpointed\n",
    "\n",
    "varlist.append(proximityVariable )\n",
    "varlist.append(signedDistanceVariable)\n",
    "varlist.append(directorVector)\n",
    "\n",
    "varnames.append('proximityVariable')\n",
    "varnames.append('signedDistanceVariable')\n",
    "varnames.append('directorVector')\n",
    "\n",
    "\n",
    "if checkpointLoad:                              #Reload all swarm variables \n",
    "    for ix in range(len(varlist)):\n",
    "        varb = varlist[ix]\n",
    "        varb.load(os.path.join(checkpointLoadDir,varnames[ix] + \".h5\"))\n",
    "        \n",
    " \n",
    "\n",
    " \n"
   ]
  },
  {
   "cell_type": "code",
   "execution_count": 78,
   "metadata": {
    "collapsed": false
   },
   "outputs": [],
   "source": [
    "## Take a look at the locations of the materials\n",
    "\n",
    "#Note we only use this mesh director for visualizing the directorVector (vector-on-swarm viewing not suppoted yet)\n",
    "#meshDirector = uw.mesh.MeshVariable( mesh, 2 )\n",
    "#projectDirector = uw.utils.MeshVariable_Projection( meshDirector, directorVector, type=1 )\n",
    "#projectDirector.solve()    \n",
    "\n",
    "#figMaterials = glucifer.Figure( figsize=(1200,400), boundingBox=((-2.0, -0.0, 0.0), (2.0, 1.0, 0.0)) )\n",
    "\n",
    "#Plot swarm associated with each fault\n",
    "#for f in faults:\n",
    "#    figMaterials.append( glucifer.objects.Points(f.swarm, colours=\"Black Black\", pointSize=2.0, colourBar=False) )\n",
    "\n",
    "\n",
    "#plot mesh director viz. guy\n",
    "#figMaterials.append( glucifer.objects.VectorArrows(mesh, meshDirector, scaling=.08, \n",
    "#                                               resolutionI=100, resolutionJ=20, opacity=0.25) )\n",
    "\n",
    "\n",
    "#Proximity variable - this is the colour\n",
    "#figMaterials.append( glucifer.objects.Points(gSwarm, proximityVariable, \n",
    "#                                             pointSize=5.0,  opacity=0.75) )\n",
    "\n",
    "\n",
    "#signedDistanceVariable - this variable goes to zero where the proximity cutoff is\n",
    "#note that it's signed...faults have a direction\n",
    "#figMaterials.append( glucifer.objects.Points(gSwarm, signedDistanceVariable, \n",
    "#                                             pointSize=2.0))\n",
    "\n",
    "#Add mesh\n",
    "#figMaterials.append( glucifer.objects.Mesh(mesh, opacity=0.1) )\n",
    "\n",
    "#figMaterials.show()\n",
    "#figMaterials.save_database('test.gldb')"
   ]
  },
  {
   "cell_type": "markdown",
   "metadata": {},
   "source": [
    "Rheology\n",
    "-----\n",
    "\n"
   ]
  },
  {
   "cell_type": "code",
   "execution_count": 55,
   "metadata": {
    "collapsed": false
   },
   "outputs": [],
   "source": [
    "##############\n",
    "#Set up any functions required by the rheology\n",
    "##############\n",
    "strainRate_2ndInvariant = fn.tensor.second_invariant( \n",
    "                            fn.tensor.symmetric( \n",
    "                            velocityField.fn_gradient ))\n",
    "\n",
    "def safe_visc(func, viscmin=ndp.eta_min, viscmax=ndp.eta_max):\n",
    "    return fn.misc.max(viscmin, fn.misc.min(viscmax, func))"
   ]
  },
  {
   "cell_type": "code",
   "execution_count": 56,
   "metadata": {
    "collapsed": true
   },
   "outputs": [],
   "source": [
    "#strainRate_2ndInvariant = fn.misc.constant(ndp.SR) #dummy fucntion to check which mechanisms are at active are reference strain rate"
   ]
  },
  {
   "cell_type": "code",
   "execution_count": 57,
   "metadata": {
    "collapsed": false
   },
   "outputs": [],
   "source": [
    "#ndp.crust_cohesion_fac"
   ]
  },
  {
   "cell_type": "code",
   "execution_count": 58,
   "metadata": {
    "collapsed": false
   },
   "outputs": [],
   "source": [
    "############\n",
    "#Rheology: create UW2 functions for all viscous mechanisms\n",
    "#############\n",
    "omega = fn.misc.constant(1.) #this function can hold any arbitary viscosity modifications \n",
    "\n",
    "\n",
    "##Diffusion Creep\n",
    "diffusion = fn.misc.min(ndp.eta_max, fn.math.exp(-1*ndp.Edf + ndp.Edf / (temperatureField + 1e-8)))\n",
    "\n",
    "\n",
    "##Define the Plasticity\n",
    "ys =  ndp.cm + (depthFn*ndp.fcmd)\n",
    "ysMax = 10e4*1e6*sf.stress\n",
    "ysf = fn.misc.min(ys, ysMax)\n",
    "yielding = ysf/(2.*(strainRate_2ndInvariant))\n",
    "\n",
    "##Crust rheology\n",
    "#crustys =  ndp.cohesion*ndp.crust_cohesion_fac + (depthFn*ndp.fcd*ndp.crust_fc_fac)\n",
    "crustys =  ndp.cc + (depthFn*ndp.fccd) #only weakened cohesion is discussed, not fc\n",
    "crustvisc = crustys/(2.*(strainRate_2ndInvariant)) \n",
    "\n",
    "\n",
    "##Interface rheology\n",
    "interfaceys =  ndp.ci + (depthFn*ndp.fcid) #only weakened cohesion is discussed, not fc\n",
    "interfacevisc = interfaceys/(2.*(strainRate_2ndInvariant))\n"
   ]
  },
  {
   "cell_type": "code",
   "execution_count": 59,
   "metadata": {
    "collapsed": false
   },
   "outputs": [],
   "source": [
    "############\n",
    "#Rheology: combine viscous mechanisms in various ways \n",
    "#harmonic: harmonic average of all mechanims\n",
    "#min: minimum effective viscosity of the mechanims\n",
    "#mixed: takes the minimum of the harmonic and the plastic effective viscosity\n",
    "#############\n",
    "\n",
    "#linear rheology \n",
    "linearviscosityFn = safe_visc(diffusion)\n",
    "\n",
    "\n",
    "\n",
    "interfaceCond = operator.and_((depthFn < ndp.CRUSTVISCUTOFF), (depthFn > ndp.MANTLETOCRUST))    \n",
    "\n",
    "\n",
    "#combined rheology    \n",
    "finalviscosityFn  = fn.branching.conditional([(depthFn < ndp.LOWMANTLEDEPTH, safe_visc(fn.misc.min(diffusion, yielding))),\n",
    "                                  (True, safe_visc(safe_visc(diffusion*ndp.low_mantle_visc_fac)))])\n",
    "\n",
    "#crust rheology    \n",
    "#finalcrustviscosityFn = safe_visc(fn.misc.min(ndp.eta_max_crust, \n",
    "#                                              crustyielding)) #cohesion weakening factor also applies to eta_0\n",
    "\n",
    "crustviscosityFn = safe_visc(fn.misc.min(linearviscosityFn, crustvisc), ndp.eta_max_crust)\n",
    "interfaceviscosityFn = safe_visc(fn.misc.min(linearviscosityFn, interfacevisc), ndp.eta_max_interface)\n",
    "\n",
    "if ndp.eta_max_crust == ndp.eta_min_crust: #If these are equal, set to constant visc. \n",
    "    crustviscosityFn = fn.misc.constant(ndp.eta_min_crust)\n",
    "    \n",
    "if ndp.eta_max_interface == ndp.eta_min_interface: #If these are equal, set to constant visc. \n",
    "    interfaceviscosityFn = fn.misc.constant(ndp.eta_min_interface)\n",
    "    \n",
    "\n",
    "\n",
    "finalcrustviscosityFn  = fn.branching.conditional([(depthFn < ndp.MANTLETOCRUST, crustviscosityFn),\n",
    "                                                     (interfaceCond, interfaceviscosityFn), #\n",
    "                                                     (True, finalviscosityFn)])"
   ]
  },
  {
   "cell_type": "markdown",
   "metadata": {},
   "source": [
    "Stokes system setup\n",
    "-----\n"
   ]
  },
  {
   "cell_type": "code",
   "execution_count": 60,
   "metadata": {
    "collapsed": true
   },
   "outputs": [],
   "source": [
    "buoyancyFn =  ndp.RA*temperatureField\n"
   ]
  },
  {
   "cell_type": "code",
   "execution_count": 61,
   "metadata": {
    "collapsed": false
   },
   "outputs": [],
   "source": [
    "densityMapFn = fn.branching.map( fn_key = materialVariable,\n",
    "                         mapping = {airIndex:ndp.StRA,\n",
    "                                    crustIndex:buoyancyFn, \n",
    "                                    mantleIndex:buoyancyFn,\n",
    "                                    harzIndex:buoyancyFn} )"
   ]
  },
  {
   "cell_type": "code",
   "execution_count": 62,
   "metadata": {
    "collapsed": true
   },
   "outputs": [],
   "source": [
    "\n",
    "# Define our vertical unit vector using a python tuple (this will be automatically converted to a function).\n",
    "gravity = ( 0.0, 1.0 )\n",
    "\n",
    "# Now create a buoyancy force vector using the density and the vertical unit vector. \n",
    "buoyancyFn = densityMapFn * gravity"
   ]
  },
  {
   "cell_type": "code",
   "execution_count": 63,
   "metadata": {
    "collapsed": true
   },
   "outputs": [],
   "source": [
    "stokesPIC = uw.systems.Stokes(velocityField=velocityField, \n",
    "                              pressureField=pressureField,\n",
    "                              conditions=[freeslipBC,],\n",
    "                              fn_viscosity=linearviscosityFn, \n",
    "                              fn_bodyforce=buoyancyFn )"
   ]
  },
  {
   "cell_type": "code",
   "execution_count": 64,
   "metadata": {
    "collapsed": true
   },
   "outputs": [],
   "source": [
    "solver = uw.systems.Solver(stokesPIC)\n",
    "if not checkpointLoad:\n",
    "    solver.solve() #A solve on the linear visocisty is unhelpful unless we're starting from scratch"
   ]
  },
  {
   "cell_type": "code",
   "execution_count": null,
   "metadata": {
    "collapsed": false
   },
   "outputs": [],
   "source": [
    "\n"
   ]
  },
  {
   "cell_type": "code",
   "execution_count": 65,
   "metadata": {
    "collapsed": false
   },
   "outputs": [],
   "source": [
    "viscosityMapFn1 = fn.branching.map( fn_key = materialVariable,\n",
    "                         mapping = {crustIndex:finalcrustviscosityFn,\n",
    "                                    mantleIndex:finalviscosityFn,\n",
    "                                    harzIndex:finalviscosityFn,\n",
    "                                    airIndex:ndp.Steta_n} )\n",
    "\n",
    "\n",
    "delta_Steata2 = ndp.Steta_n - ndp.Steta_s\n",
    "delta_eta_fault = 0.\n",
    "\n",
    "if md.subductionFault:  \n",
    "    if ndp.eta_min_fault == ndp.eta_min_fault:#Transverse rheology is isoviscous\n",
    "        delta_eta_fault = fn.misc.min(0.999, fn.misc.max (0.,   ndp.eta_min_crust - ndp.eta_min_fault))       \n",
    "        \n",
    "    else:\n",
    "        #Transverse viscosity is related the Mohr-Coulomb criterion\n",
    "        delta_eta_fault = fn.misc.min(0.999, fn.misc.max (0., \n",
    "        viscosityMapFn1 - ((edotn_SFn*viscosityMapFn1 + ndp.fcfd * pressureField)  + ndp.cf)/edots_SFn))\n",
    "   "
   ]
  },
  {
   "cell_type": "code",
   "execution_count": 66,
   "metadata": {
    "collapsed": false
   },
   "outputs": [],
   "source": [
    "# This one maps to my fault-proximity variable (which also picks only materialV)\n",
    "viscosityMapFn2    = { 0: 0.0, \n",
    "                           1: delta_eta_fault, \n",
    "                           3: delta_Steata2\n",
    "                       }\n",
    "    \n",
    "\n",
    "viscosityMapFn2  = fn.branching.map( fn_key = proximityVariable, \n",
    "                                           mapping = viscosityMapFn2)"
   ]
  },
  {
   "cell_type": "code",
   "execution_count": 67,
   "metadata": {
    "collapsed": false
   },
   "outputs": [],
   "source": [
    "#orientation = -1.*90. * math.pi / 180.0  #vertical\n",
    "#math.cos(orientation), math.sin(orientation)"
   ]
  },
  {
   "cell_type": "code",
   "execution_count": 68,
   "metadata": {
    "collapsed": false
   },
   "outputs": [],
   "source": [
    "#stickyAir"
   ]
  },
  {
   "cell_type": "code",
   "execution_count": 69,
   "metadata": {
    "collapsed": false
   },
   "outputs": [],
   "source": [
    "#Add the non-linear viscosity to the Stokes system\n",
    "stokesPIC.fn_viscosity = viscosityMapFn1\n",
    "\n",
    "if md.stickyAir or md.subductionFault:\n",
    "    stokesPIC.fn_viscosity2 = viscosityMapFn2\n",
    "    stokesPIC._fn_director   = directorVector\n"
   ]
  },
  {
   "cell_type": "code",
   "execution_count": 70,
   "metadata": {
    "collapsed": false
   },
   "outputs": [
    {
     "name": "stdout",
     "output_type": "stream",
     "text": [
      "\u001b[1;35m\n",
      " \n",
      "Pressure iterations:   3\n",
      "Velocity iterations:   1 (presolve)      \n",
      "Velocity iterations:  -1 (pressure solve)\n",
      "Velocity iterations:   1 (backsolve)     \n",
      "Velocity iterations:   1 (total solve)   \n",
      " \n",
      "SCR RHS  solve time: 5.3071e-01\n",
      "Pressure solve time: 4.3448e-02\n",
      "Velocity solve time: 5.3132e-01 (backsolve)\n",
      "Total solve time   : 1.1904e+00\n",
      " \n",
      "Velocity solution min/max: 0.0000e+00/0.0000e+00\n",
      "Pressure solution min/max: 0.0000e+00/0.0000e+00\n",
      " \n",
      "\u001b[00m\n"
     ]
    }
   ],
   "source": [
    "solver.set_inner_method(\"mumps\")\n",
    "solver.options.scr.ksp_type=\"cg\"\n",
    "solver.set_penalty(1.0e7)\n",
    "solver.options.scr.ksp_rtol = 1.0e-4\n",
    "solver.solve(nonLinearIterate=True)\n",
    "solver.print_stats()"
   ]
  },
  {
   "cell_type": "code",
   "execution_count": 71,
   "metadata": {
    "collapsed": false
   },
   "outputs": [],
   "source": [
    "#Check which particles are yielding\n",
    "#yieldingCheck.data[:] = 0\n",
    "\n",
    "#yieldconditions = [ ( finalviscosityFn < Visc , 1), \n",
    "#               ( True                                           , 0) ]\n",
    "\n",
    "# use the branching conditional function to set each particle's index\n",
    "#yieldingCheck.data[:] = fn.branching.conditional( yieldconditions ).evaluate(gSwarm)"
   ]
  },
  {
   "cell_type": "code",
   "execution_count": 72,
   "metadata": {
    "collapsed": false
   },
   "outputs": [],
   "source": [
    "#velocityFieldIso       = uw.mesh.MeshVariable( mesh=mesh,         nodeDofCount=2 )\n",
    "#velocityFieldIso.data[:] = velocityField.data.copy()\n",
    "\n",
    "\n",
    "\n",
    "#strainRate_2ndInvariantIso = fn.tensor.second_invariant( \n",
    "#                            fn.tensor.symmetric( \n",
    "#                            velocityFieldIso.fn_gradient ))"
   ]
  },
  {
   "cell_type": "markdown",
   "metadata": {},
   "source": [
    "Advection-diffusion System setup\n",
    "-----"
   ]
  },
  {
   "cell_type": "code",
   "execution_count": 75,
   "metadata": {
    "collapsed": false
   },
   "outputs": [],
   "source": [
    "advDiff = uw.systems.AdvectionDiffusion( phiField       = temperatureField, \n",
    "                                         phiDotField    = temperatureDotField, \n",
    "                                         velocityField  = velocityField,\n",
    "                                         fn_sourceTerm    = 0.0,\n",
    "                                         fn_diffusivity = 1.0, \n",
    "                                         #conditions     = [neumannTempBC, dirichTempBC] )\n",
    "                                         conditions     = [ dirichTempBC] )\n",
    "\n",
    "passiveadvector = uw.systems.SwarmAdvector( swarm         = gSwarm, \n",
    "                                     velocityField = velocityField, \n",
    "                                     order         = 1)"
   ]
  },
  {
   "cell_type": "code",
   "execution_count": 76,
   "metadata": {
    "collapsed": true
   },
   "outputs": [],
   "source": [
    "population_control = uw.swarm.PopulationControl(gSwarm,deleteThreshold=0.2,splitThreshold=1.,maxDeletions=3,maxSplits=0, aggressive=True, particlesPerCell=ppc)"
   ]
  },
  {
   "cell_type": "markdown",
   "metadata": {},
   "source": [
    "Analysis functions / routines\n",
    "-----\n",
    "\n",
    "Most of the metrics we want to calculate are either:\n",
    "\n",
    "* extrema of some field / function\n",
    "* integral of some field / function\n",
    "* average value of some function (integral divide by area)\n",
    "\n",
    "In addition, we also want to be able to determine these metrics over some restricted part of the domain, where the restriction may either be due some value of a field, a material type, or something more arbitrary.\n",
    "\n",
    "Much of he challenge lies in defining these restriction functions in an efficient and robust way (i.e they don't break down as the model evolves)\n",
    "\n",
    "For volume integrals, and extrema, we build a hierarchy of restriction functions, each borrowing from the previous, until we have divided the domain into a number of sub regions of interest. \n",
    "\n",
    "In general, averages are found afterwards by combining the integral and the area of the relavent subregion"
   ]
  },
  {
   "cell_type": "code",
   "execution_count": null,
   "metadata": {
    "collapsed": false
   },
   "outputs": [],
   "source": []
  },
  {
   "cell_type": "code",
   "execution_count": 54,
   "metadata": {
    "collapsed": false
   },
   "outputs": [
    {
     "ename": "NameError",
     "evalue": "name 'gSwarm' is not defined",
     "output_type": "error",
     "traceback": [
      "\u001b[1;31m\u001b[0m",
      "\u001b[1;31mNameError\u001b[0mTraceback (most recent call last)",
      "\u001b[1;32m<ipython-input-54-430a556857a1>\u001b[0m in \u001b[0;36m<module>\u001b[1;34m()\u001b[0m\n\u001b[0;32m      7\u001b[0m \u001b[1;33m\u001b[0m\u001b[0m\n\u001b[0;32m      8\u001b[0m \u001b[1;31m#Level 2. Rock - air:\u001b[0m\u001b[1;33m\u001b[0m\u001b[1;33m\u001b[0m\u001b[0m\n\u001b[1;32m----> 9\u001b[1;33m \u001b[0mrockRestFn\u001b[0m \u001b[1;33m=\u001b[0m \u001b[0muw\u001b[0m\u001b[1;33m.\u001b[0m\u001b[0mswarm\u001b[0m\u001b[1;33m.\u001b[0m\u001b[0mSwarmVariable\u001b[0m\u001b[1;33m(\u001b[0m\u001b[0mgSwarm\u001b[0m\u001b[1;33m,\u001b[0m \u001b[0mdataType\u001b[0m\u001b[1;33m=\u001b[0m\u001b[1;34m'double'\u001b[0m\u001b[1;33m,\u001b[0m \u001b[0mcount\u001b[0m\u001b[1;33m=\u001b[0m\u001b[1;36m1\u001b[0m\u001b[1;33m)\u001b[0m\u001b[1;33m\u001b[0m\u001b[0m\n\u001b[0m\u001b[0;32m     10\u001b[0m \u001b[0mrockRestFn\u001b[0m\u001b[1;33m.\u001b[0m\u001b[0mdata\u001b[0m\u001b[1;33m[\u001b[0m\u001b[1;33m:\u001b[0m\u001b[1;33m]\u001b[0m \u001b[1;33m=\u001b[0m \u001b[1;36m0.\u001b[0m\u001b[1;33m\u001b[0m\u001b[0m\n\u001b[0;32m     11\u001b[0m \u001b[0mrockRestFn\u001b[0m\u001b[1;33m.\u001b[0m\u001b[0mdata\u001b[0m\u001b[1;33m[\u001b[0m\u001b[0mnp\u001b[0m\u001b[1;33m.\u001b[0m\u001b[0mwhere\u001b[0m\u001b[1;33m(\u001b[0m\u001b[0mmaterialVariable\u001b[0m\u001b[1;33m.\u001b[0m\u001b[0mdata\u001b[0m\u001b[1;33m[\u001b[0m\u001b[1;33m:\u001b[0m\u001b[1;33m]\u001b[0m \u001b[1;33m!=\u001b[0m \u001b[0mairIndex\u001b[0m\u001b[1;33m)\u001b[0m\u001b[1;33m]\u001b[0m \u001b[1;33m=\u001b[0m \u001b[1;36m1.\u001b[0m\u001b[1;33m\u001b[0m\u001b[0m\n",
      "\u001b[1;31mNameError\u001b[0m: name 'gSwarm' is not defined"
     ]
    }
   ],
   "source": [
    "###################\n",
    "#Volume Restriction functions\n",
    "###################\n",
    "\n",
    "#Level 1. Global\n",
    "globRestFn = fn.misc.constant(1.)\n",
    "\n",
    "#Level 2. Rock - air:\n",
    "rockRestFn = uw.swarm.SwarmVariable(gSwarm, dataType='double', count=1)\n",
    "rockRestFn.data[:] = 0.\n",
    "rockRestFn.data[np.where(materialVariable.data[:] != airIndex)] = 1.\n",
    "rockRestFn *= globRestFn #Add next level up in heirarchy\n",
    "\n",
    "\n",
    "#Level 3. lithosphere - mantle:\n",
    "tempMM = fn.view.min_max(temperatureField)\n",
    "tempMM.evaluate(mesh)\n",
    "TMAX = tempMM.max_global()\n",
    "mantleconditions = [ (                                  temperatureField < 0.9*TMAX, 1.),\n",
    "                   (                                                   True , 0.) ]\n",
    "lithRestFn = fn.branching.conditional(mantleconditions)\n",
    "lithRestFn*=rockRestFn #Add next level up in heirarchy\n",
    "\n",
    "\n",
    "#Level 4. lower plate - upper plate:\n",
    "\n",
    "\n",
    "#This whole section simply builds a restriction Fn that separates the upper and lower plate \n",
    "#It's pretty cumbersome, and will need to advected, rebuilt\n",
    "#can YOU think of a better way?\n",
    "   \n",
    "lowerPlateRestFn = gSwarm.add_variable( dataType=\"double\", count=1 )\n",
    "lowerPlateRestFn.data[:] = 0.0\n",
    "\n",
    "update_swarm_from_line(slab_seg, lowerPlateRestFn )\n",
    "lowerPlateRestFn.data[np.where(lowerPlateRestFn.data != 0.)] += midthickness #assume instances of 0. are actually where no fault on proc\n",
    "lowerPlateRestFn.data[np.where(lowerPlateRestFn.data > 0.*midthickness)] = 1.\n",
    "lowerPlateRestFn.data[np.where(lowerPlateRestFn.data <= 0.*midthickness)] = 0. \n",
    "lowerPlateRestFn *= lithRestFn #Add next level up in heirarchy\n",
    "\n",
    "#Also see if we can stick the the Velocity and coords on to this swarm as well\n",
    "tipVar = uw.swarm.SwarmVariable(slab_seg.swarm, dataType='double', count=4)\n",
    "tipVar.data[:,:2] = velocityField.evaluate(slab_seg.swarm)\n",
    "tipVar.data[:,2:] = xFn.evaluate(slab_seg.swarm)\n",
    "tipVar.data[:,3:] = yFn.evaluate(slab_seg.swarm)\n",
    "\n",
    "\n",
    "#Level 5. hinge of lower plate:\n",
    "\n",
    "hinge60Spatialconditions = [ (           operator.and_( (depthFn < (60e3/dp.LS)),  (xFn > ndp.subzone - 60e3/dp.LS)), 1.),\n",
    "                   (                                                   True , 0.) ]\n",
    "\n",
    "hinge60RestFn = fn.branching.conditional(hinge60Spatialconditions)\n",
    "hinge60RestFn*=lowerPlateRestFn #Add next level up in heirarchy\n",
    "\n",
    "\n",
    "\n",
    "hinge180Spatialconditions = [ (           operator.and_( (depthFn < (180e3/dp.LS)),  (xFn > ndp.subzone - 180e3/dp.LS)), 1.),\n",
    "                   (                                                   True , 0.) ]\n",
    "\n",
    "hinge180RestFn = fn.branching.conditional(hinge180Spatialconditions)\n",
    "hinge180RestFn*=lowerPlateRestFn #Add next level up in heirarchy\n",
    "\n",
    "\n",
    "#Level 6. crust/interface in hinge of lower plate:\n",
    "\n",
    "interfaceRestFn = uw.swarm.SwarmVariable(gSwarm, dataType='double', count=1)\n",
    "interfaceRestFn.data[:] = 0.\n",
    "interfaceRestFn.data[np.where(materialVariable.data[:] == crustIndex)] = 1.\n",
    "interfaceRestFn *= hinge60RestFn #Add next level up in heirarchy\n"
   ]
  },
  {
   "cell_type": "code",
   "execution_count": 78,
   "metadata": {
    "collapsed": false
   },
   "outputs": [],
   "source": [
    "respltconditions = [ \n",
    "                    (                                  hinge60RestFn*2. > rockRestFn*1., 1.),\n",
    "                    (                                  lowerPlateRestFn*3. > hinge60RestFn*2. , 3.),\n",
    "                    (                                  lithRestFn*5. > lowerPlateRestFn*3. , 4.),\n",
    "                   (                                                   True , 0.) ]\n",
    "\n",
    "respltFn = fn.branching.conditional(respltconditions )"
   ]
  },
  {
   "cell_type": "code",
   "execution_count": 95,
   "metadata": {
    "collapsed": false
   },
   "outputs": [
    {
     "data": {
      "text/html": [
       "<img src='data:image/png;base64,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'>"
      ],
      "text/plain": [
       "<IPython.core.display.HTML object>"
      ]
     },
     "metadata": {},
     "output_type": "display_data"
    },
    {
     "data": {
      "text/plain": [
       "'test.gldb'"
      ]
     },
     "execution_count": 95,
     "metadata": {},
     "output_type": "execute_result"
    }
   ],
   "source": [
    "#fig= glucifer.Figure()\n",
    "#fig.append( glucifer.objects.Points(gSwarm,respltFn))\n",
    "#fig.append( glucifer.objects.Points(gSwarm,lithRestFn))\n",
    "#fig.append( glucifer.objects.Points(gSwarm,lowerPlateRestFn))\n",
    "#fig.append( glucifer.objects.Points(gSwarm,hinge180RestFn))\n",
    "#fig.append( glucifer.objects.Points(gSwarm,interfaceRestFn))\n",
    "#fig.show()\n",
    "#fig.save_database('test.gldb')"
   ]
  },
  {
   "cell_type": "code",
   "execution_count": 80,
   "metadata": {
    "collapsed": true
   },
   "outputs": [],
   "source": [
    "###################\n",
    "#Surface Restriction functions\n",
    "###################\n",
    "\n",
    "def platenessFn(val = 0.1):\n",
    "    normgradV = fn.math.abs(velocityField.fn_gradient[0]/fn.math.sqrt(velocityField[0]*velocityField[0])) #[du*/dx]/sqrt(u*u)\n",
    "\n",
    "\n",
    "\n",
    "    srconditions = [ (                                  normgradV < val, 1.),\n",
    "                   (                                                   True , 0.) ]\n",
    "\n",
    "\n",
    "    return fn.branching.conditional(srconditions)\n",
    "\n",
    "srRestFn = platenessFn(val = 0.1)"
   ]
  },
  {
   "cell_type": "code",
   "execution_count": 81,
   "metadata": {
    "collapsed": false
   },
   "outputs": [],
   "source": [
    "###################\n",
    "#Setup any Functions to be integrated\n",
    "###################\n",
    "\n",
    "sqrtv2 = fn.math.sqrt(fn.math.dot(velocityField,velocityField))\n",
    "vx = velocityField[0]\n",
    "v2x = fn.math.dot(velocityField[0],velocityField[0])\n",
    "sqrtv2x = fn.math.sqrt(fn.math.dot(velocityField[0],velocityField[0]))\n",
    "dw = temperatureField*velocityField[1]\n",
    "sinner = fn.math.dot( strainRate_2ndInvariant, strainRate_2ndInvariant )\n",
    "vd = 2.*viscosityMapFn1*sinner\n",
    "dTdZ = temperatureField.fn_gradient[1]\n",
    "\n"
   ]
  },
  {
   "cell_type": "code",
   "execution_count": 82,
   "metadata": {
    "collapsed": false
   },
   "outputs": [],
   "source": [
    "###################\n",
    "#Create integral, max/min templates \n",
    "###################\n",
    "\n",
    "def volumeint(Fn = 1., rFn=globRestFn):\n",
    "    return uw.utils.Integral( Fn*rFn,  mesh )\n",
    "\n",
    "def surfint(Fn = 1., rFn=globRestFn, surfaceIndexSet=mesh.specialSets[\"MaxJ_VertexSet\"]):\n",
    "    return uw.utils.Integral( Fn*rFn, mesh=mesh, integrationType='Surface', surfaceIndexSet=surfaceIndexSet)\n",
    "\n",
    "def maxMin(Fn = 1.):\n",
    "    #maxMin(Fn = 1., rFn=globRestFn\n",
    "    #vuFn = fn.view.min_max(Fn*rFn) #the restriction functions don't work with the view.min_max fn yet\n",
    "    vuFn = fn.view.min_max(Fn)\n",
    "    return vuFn\n",
    "    \n",
    "   \n",
    "    "
   ]
  },
  {
   "cell_type": "code",
   "execution_count": 83,
   "metadata": {
    "collapsed": false
   },
   "outputs": [],
   "source": [
    "#Setup volume integrals on different sub regions\n",
    "\n",
    "##Whole rock domain\n",
    "\n",
    "_areaintRock = volumeint(rockRestFn)\n",
    "_tempintRock = volumeint(temperatureField, rockRestFn)\n",
    "_rmsintRock = volumeint(sqrtv2,rockRestFn)\n",
    "_dwintRock = volumeint(dw,rockRestFn)\n",
    "_vdintRock = volumeint(vd,rockRestFn)\n",
    "\n",
    "##Lith \n",
    "\n",
    "_areaintLith  = volumeint(lithRestFn)\n",
    "_tempintLith  = volumeint(temperatureField, lithRestFn)\n",
    "_rmsintLith  = volumeint(sqrtv2,lithRestFn)\n",
    "_dwintLith  = volumeint(dw,lithRestFn)\n",
    "_vdintLith  = volumeint(vd,lithRestFn)\n",
    "\n",
    "##Lower plate\n",
    "\n",
    "_areaintLower  = volumeint(lowerPlateRestFn)\n",
    "_tempintLower  = volumeint(temperatureField, lowerPlateRestFn)\n",
    "_rmsintLower  = volumeint(sqrtv2,lowerPlateRestFn)\n",
    "_dwintLower = volumeint(dw,lowerPlateRestFn)\n",
    "_vdintLower  = volumeint(vd,lowerPlateRestFn)\n",
    "\n",
    "##Hinge lower plate\n",
    "\n",
    "_areaintHinge180  = volumeint(hinge180RestFn)\n",
    "_vdintHinge180  = volumeint(vd,hinge180RestFn)\n",
    "\n",
    "_areaintHinge60  = volumeint(hinge60RestFn)\n",
    "_vdintHinge60  = volumeint(vd,hinge60RestFn)\n",
    "\n",
    "\n",
    "##Interface\n",
    "\n",
    "_areaintInterface  = volumeint(interfaceRestFn)\n",
    "_vdintInterface = volumeint(vd,interfaceRestFn)"
   ]
  },
  {
   "cell_type": "code",
   "execution_count": 84,
   "metadata": {
    "collapsed": true
   },
   "outputs": [],
   "source": [
    "#Setup surface integrals\n",
    "\n",
    "_surfLength = surfint()\n",
    "_rmsSurf = surfint(v2x)\n",
    "_nuTop = surfint(dTdZ)\n",
    "_nuBottom = surfint(dTdZ, surfaceIndexSet=mesh.specialSets[\"MinJ_VertexSet\"])\n",
    "_plateness = surfint(srRestFn)"
   ]
  },
  {
   "cell_type": "code",
   "execution_count": 85,
   "metadata": {
    "collapsed": false
   },
   "outputs": [],
   "source": [
    "#Setup max min fns (at the moment, we can't pass restriction function to view.min_max, so we're limited to whole volume or surface extrema)\n",
    "\n",
    "##Whole rock domain\n",
    "\n",
    "#_maxMinVisc = maxMin(viscosityMapFn1)  #These don't work on swarm variables or mapping functions, yet\n",
    "#dummyFn = _maxMinVisc.evaluate(mesh)\n",
    "#_maxMinStressInv = maxMin(2*viscosityMapFn1*strainRate_2ndInvariant) #These don't work on swarm variables or mapping functions, yet\n",
    "#dummyFn = _maxMinStress.evaluate(mesh)\n",
    "#_maxMinVd = maxMin(vd) #These don't work on swarm variables or mapping functions, yet\n",
    "#dummyFn = _maxMinVd.evaluate(mesh)\n",
    "\n",
    "\n",
    "_maxMinVel = maxMin(velocityField) \n",
    "dummyFn = _maxMinVel.evaluate(mesh)\n",
    "\n",
    "_maxMinSr = maxMin(strainRate_2ndInvariant) \n",
    "dummyFn = _maxMinSr.evaluate(mesh)\n",
    "\n",
    "\n",
    "#Surface extrema\n",
    "_maxMinVxSurf = maxMin(vx)\n",
    "dummyFn = _maxMinVxSurf.evaluate(tWalls)\n"
   ]
  },
  {
   "cell_type": "code",
   "execution_count": 86,
   "metadata": {
    "collapsed": false
   },
   "outputs": [],
   "source": [
    "#Volume Ints\n",
    "areaintRock = _areaintRock.evaluate()[0]\n",
    "tempintRock = _tempintRock.evaluate()[0]\n",
    "rmsintRock = _rmsintRock.evaluate()[0]\n",
    "dwintRock = _dwintRock.evaluate()[0]\n",
    "vdintRock = _vdintRock.evaluate()[0]\n",
    "areaintLith = _areaintLith.evaluate()[0]\n",
    "tempintLith = _tempintLith.evaluate()[0]\n",
    "rmsintLith = _rmsintLith.evaluate()[0]\n",
    "dwintLith = _dwintLith.evaluate()[0]\n",
    "vdintLith = _vdintLith.evaluate()[0]\n",
    "areaintLower = _areaintLower.evaluate()[0]\n",
    "tempintLower = _tempintLower.evaluate()[0]\n",
    "rmsintLower = _rmsintLower.evaluate()[0]\n",
    "dwintLower = _dwintLower.evaluate()[0]\n",
    "vdintLower = _vdintLower.evaluate()[0]\n",
    "vdintHinge180 = _vdintHinge180.evaluate()[0]\n",
    "areaintHinge180 = _areaintHinge180.evaluate()[0]\n",
    "vdintHinge60 = _vdintHinge60.evaluate()[0]\n",
    "areaintHinge60= _areaintHinge60.evaluate()[0]\n",
    "vdintInterface = _vdintInterface.evaluate()[0]\n",
    "areaintInterface= _areaintInterface.evaluate()[0]\n",
    "\n",
    "#Surface Ints\n",
    "surfLength = _surfLength.evaluate()[0]\n",
    "rmsSurf = _rmsSurf.evaluate()[0]\n",
    "nuTop = _nuTop.evaluate()[0]\n",
    "nuBottom = _nuBottom.evaluate()[0]\n",
    "plateness = _plateness.evaluate()[0]\n",
    "\n",
    "#Max mins\n",
    "maxVel = _maxMinVel.max_global()\n",
    "minVel = _maxMinVel.min_global() \n",
    "maxSr = _maxMinSr.max_global()\n",
    "minSr = _maxMinSr.min_global()\n",
    "maxVxsurf = _maxMinVxSurf.max_global()\n",
    "minVxsurf = _maxMinVxSurf.min_global()"
   ]
  },
  {
   "cell_type": "markdown",
   "metadata": {
    "collapsed": false
   },
   "source": [
    "print(areaintRock)\n",
    "print(tempintRock)\n",
    "print(rmsintRock)\n",
    "print(dwintRock)\n",
    "print(vdintRock)\n",
    "print(areaintLith)\n",
    "print(tempintLith )\n",
    "print(rmsintLith)\n",
    "print(dwintLith)\n",
    "print(vdintLith)\n",
    "print(areaintLower)\n",
    "print(tempintLower)\n",
    "print(rmsintLower) \n",
    "print(dwintLower)\n",
    "print(vdintLower)\n",
    "print(vdintHinge60)\n",
    "print(vdintHinge180)\n",
    "print(vdintInterface)\n",
    "\n",
    "print(surfLength)\n",
    "print(rmsSurf)\n",
    "print(nuTop)\n",
    "print(nuBottom)\n",
    "print(plateness)\n",
    "\n",
    "\n",
    "print(maxVel)\n",
    "print(minVel)\n",
    "print(maxSr)\n",
    "print(minSr)\n",
    "print(maxVxsurf)\n",
    "print(minVxsurf)"
   ]
  },
  {
   "cell_type": "markdown",
   "metadata": {},
   "source": [
    "Viz.\n",
    "-----"
   ]
  },
  {
   "cell_type": "code",
   "execution_count": 89,
   "metadata": {
    "collapsed": false
   },
   "outputs": [],
   "source": [
    "#viscVariable = gSwarm.add_variable( dataType=\"float\", count=1 )\n",
    "#viscVariable.data[:] = viscosityMapFn1.evaluate(gSwarm)"
   ]
  },
  {
   "cell_type": "code",
   "execution_count": 90,
   "metadata": {
    "collapsed": false
   },
   "outputs": [],
   "source": [
    "if figures == 'gldb':\n",
    "    #Pack some stuff into a database as well\n",
    "    figDb = glucifer.Figure()\n",
    "    #figDb.append( glucifer.objects.Mesh(mesh))\n",
    "    figDb.append( glucifer.objects.VectorArrows(mesh,velocityField, scaling=0.0005))\n",
    "    #figDb.append( glucifer.objects.Points(gSwarm,tracerVariable, colours= 'white black'))\n",
    "    figDb.append( glucifer.objects.Points(gSwarm,materialVariable))\n",
    "    #figDb.append( glucifer.objects.Points(gSwarm,viscMinVariable))\n",
    "    #figDb.append( glucifer.objects.Points(gSwarm,fnViscMin))\n",
    "    figDb.append( glucifer.objects.Points(gSwarm, viscosityMapFn1, logScale=True))\n",
    "    figDb.append( glucifer.objects.Points(gSwarm, strainRate_2ndInvariant, logScale=True))\n",
    "    figDb.append( glucifer.objects.Points(gSwarm,temperatureField))\n",
    "    \n",
    "    \n",
    "    figRestrict= glucifer.Figure()\n",
    "    #figRestrict.append( glucifer.objects.Points(gSwarm,respltFn))\n",
    "    figRestrict.append( glucifer.objects.Points(gSwarm,lithRestFn))\n",
    "    figRestrict.append( glucifer.objects.Points(gSwarm,lowerPlateRestFn))\n",
    "    figRestrict.append( glucifer.objects.Points(gSwarm,hinge180RestFn))\n",
    "    figRestrict.append( glucifer.objects.Points(gSwarm,interfaceRestFn))\n",
    "    figRestrict.append( glucifer.objects.Points(interfaces[0].swarm, colours=\"Blue Blue\", pointSize=2.0, colourBar=False) )\n",
    "    figRestrict.append( glucifer.objects.Points(interfaces[1].swarm, colours=\"Red Red\", pointSize=2.0, colourBar=False) )\n",
    "    figRestrict.append( glucifer.objects.Points(slab_seg.swarm, colours=\"Black Black\", pointSize=2.0, colourBar=False) )\n",
    "\n",
    "elif figures == 'store':\n",
    "    fullpath = os.path.join(outputPath + \"gldbs/\")\n",
    "    store = glucifer.Store(fullpath + 'subduction.gldb')\n",
    "\n",
    "    figTemp = glucifer.Figure(store,figsize=(300*np.round(md.aspectRatio,2),300))\n",
    "    figTemp.append( glucifer.objects.Points(gSwarm,temperatureField))\n",
    "\n",
    "    figVisc= glucifer.Figure(store, figsize=(300*np.round(md.aspectRatio,2),300))\n",
    "    figVisc.append( glucifer.objects.Points(gSwarm,viscosityMapFn1, logScale=True, valueRange =[1e-3,1e5]))\n",
    "    \n",
    "    figSr= glucifer.Figure(store, figsize=(300*np.round(md.aspectRatio,2),300))\n",
    "    figSr.append( glucifer.objects.Points(gSwarm,strainRate_2ndInvariant, logScale=True))\n",
    "    figSr.append( glucifer.objects.VectorArrows(mesh,velocityField, scaling=0.0005))\n",
    "\n",
    "    #figMech= glucifer.Figure(store, figsize=(300*np.round(md.aspectRatio,2),300))\n",
    "    #figMech.append( glucifer.objects.Points(gSwarm,fnViscMin))"
   ]
  },
  {
   "cell_type": "markdown",
   "metadata": {},
   "source": [
    "**Miscellania**"
   ]
  },
  {
   "cell_type": "code",
   "execution_count": 236,
   "metadata": {
    "collapsed": false
   },
   "outputs": [
    {
     "name": "stderr",
     "output_type": "stream",
     "text": [
      "/usr/local/lib/python2.7/dist-packages/numpy/core/numeric.py:190: VisibleDeprecationWarning: using a non-integer number instead of an integer will result in an error in the future\n",
      "  a = empty(shape, dtype, order)\n"
     ]
    }
   ],
   "source": [
    "##############\n",
    "#Create a numpy array at the surface to get surface information on (using parallel-friendly evaluate_global)\n",
    "##############\n",
    "\n",
    "surface_xs = np.linspace(mesh.minCoord[0], mesh.maxCoord[0], mesh.elementRes[0] + 1)\n",
    "surface_nodes = np.array(zip(surface_xs, np.ones(len(surface_xs)*mesh.maxCoord[1]))) #For evaluation surface velocity\n",
    "normgradV = velocityField.fn_gradient[0]/fn.math.sqrt(velocityField[0]*velocityField[0])\n",
    "\n",
    "tempMM = fn.view.min_max(temperatureField)\n",
    "dummy = tempMM.evaluate(mesh)\n",
    "\n"
   ]
  },
  {
   "cell_type": "code",
   "execution_count": null,
   "metadata": {
    "collapsed": true
   },
   "outputs": [],
   "source": []
  },
  {
   "cell_type": "code",
   "execution_count": 114,
   "metadata": {
    "collapsed": false
   },
   "outputs": [],
   "source": [
    "##############\n",
    "#These functions handle checkpointing\n",
    "##############\n",
    "\n",
    "\n",
    "#Subzone = ndp.subzone\n",
    "\n",
    "\n",
    "def checkpoint1(step, checkpointPath,filename, filewrites):\n",
    "    path = checkpointPath + str(step) \n",
    "    os.mkdir(path)\n",
    "    ##Write and save the file, if not already a writing step\n",
    "    if not step % filewrites == 0:\n",
    "        f_o.write((28*'%-15s ' + '\\n') % (areaintRock, tempintRock, rmsintRock, dwintRock, vdintRock,\n",
    "                                  areaintLith, tempintLith,rmsintLith, dwintLith, vdintLith,\n",
    "                                  areaintLower, tempintLower, rmsintLower, dwintLower, vdintLower, \n",
    "                                  areaintHinge180,vdintHinge180, areaintHinge60, vdintHinge60, \n",
    "                                  areaintInterface, vdintInterface, vdintInterface,\n",
    "                                  rmsSurf, nuTop, nuBottom, plateness, ndp.subzone, realtime))\n",
    "    filename.close()\n",
    "    shutil.copyfile(os.path.join(outputPath, outputFile), os.path.join(path, outputFile))\n",
    "\n",
    "\n",
    "def checkpoint2(step, checkpointPath, swarm, filename, varlist = [materialVariable], varnames = ['materialVariable']):\n",
    "    path = checkpointPath + str(step) \n",
    "    velfile = \"velocityField\" + \".hdf5\"\n",
    "    tempfile = \"temperatureField\" + \".hdf5\"\n",
    "    pressfile = \"pressureField\" + \".hdf5\"\n",
    "    velocityField.save(os.path.join(path, velfile))\n",
    "    temperatureField.save(os.path.join(path, tempfile))\n",
    "    pressureField.save(os.path.join(path, pressfile))\n",
    "    swarm.save(os.path.join(path, \"swarm.h5\") ) \n",
    "    for ix in range(len(varlist)):\n",
    "        varb = varlist[ix]\n",
    "        varb.save(os.path.join(path,varnames[ix] + \".h5\"))\n",
    "    \n",
    "    #Save the parameters\n",
    "    dict_list = [dp, sf, ndp, md] #if any of the dictionaries have changed, this list needs to be rebuilt\n",
    "    save_pickles(dict_list, dict_names, path)\n",
    "    \n",
    "#Simple Checkpoint function for the faults / interfaces (markerLine2D)\n",
    "def checkpoint3(step,  checkpointPath, interfaces,interfacenames ):\n",
    "    path = checkpointPath + str(step)\n",
    "    for ix in range(len(interfaces)):\n",
    "        intf = interfaces[ix]\n",
    "        intf.swarm.save(os.path.join(path,interfacenames[ix] + \".h5\"))\n",
    "    \n",
    "    "
   ]
  },
  {
   "cell_type": "code",
   "execution_count": null,
   "metadata": {
    "collapsed": true
   },
   "outputs": [],
   "source": []
  },
  {
   "cell_type": "code",
   "execution_count": 1,
   "metadata": {
    "collapsed": true
   },
   "outputs": [],
   "source": [
    "##############\n",
    "#Simple function to return info about location of plate boundaries\n",
    "##############\n",
    "\n",
    "def getnearpos(array,value):\n",
    "    idx = (np.abs(array-value)).argmin()\n",
    "    return idx \n",
    "\n",
    "def plate_info(srfilename, minx, maxx,  searchdx, oldszloc = 0.0):\n",
    "    \"\"\"\n",
    "    Use the surface strain rate field to find the location of the subduction zone in 2d\n",
    "    \n",
    "    \"\"\"\n",
    "    if type(srfilename) == str: #read surface strain rate points from file\n",
    "        sr = np.load(srfilename)\n",
    "    else:\n",
    "        sr =  srfilename        #read surface strain rates directly from array\n",
    "    xs = np.linspace(minx,maxx,sr.shape[0] )\n",
    "    #infs at the ends of the SR data...replace with adjacent values\n",
    "    sr[0] = sr[1] \n",
    "    sr[-1] = sr[2]\n",
    "    #Normalize\n",
    "    srx = (sr- sr.mean()) /(sr.max() - sr.min())\n",
    "    #reduce the search domain, to near the previous PB location\n",
    "    lx, rx = getnearpos(xs, oldszloc - searchdx),  getnearpos(xs, oldszloc + searchdx)\n",
    "    red_xs, red_sr = xs[lx:rx], srx[lx:rx]\n",
    "    #return the minima\n",
    "    newszLoc = red_xs[np.argmin(red_sr)]\n",
    "    return newszLoc"
   ]
  },
  {
   "cell_type": "code",
   "execution_count": 116,
   "metadata": {
    "collapsed": false
   },
   "outputs": [],
   "source": [
    "# initialise timer for computation\n",
    "start = time.clock()\n"
   ]
  },
  {
   "cell_type": "code",
   "execution_count": 117,
   "metadata": {
    "collapsed": false
   },
   "outputs": [],
   "source": [
    "#max_vx_surf(velocityField, mesh)"
   ]
  },
  {
   "cell_type": "markdown",
   "metadata": {},
   "source": [
    "Main simulation loop\n",
    "-----\n"
   ]
  },
  {
   "cell_type": "code",
   "execution_count": 190,
   "metadata": {
    "collapsed": false
   },
   "outputs": [
    {
     "ename": "KeyboardInterrupt",
     "evalue": "",
     "output_type": "error",
     "traceback": [
      "\u001b[1;31m\u001b[0m",
      "\u001b[1;31mKeyboardInterrupt\u001b[0mTraceback (most recent call last)",
      "\u001b[1;32m<ipython-input-190-f9c389f79938>\u001b[0m in \u001b[0;36m<module>\u001b[1;34m()\u001b[0m\n\u001b[0;32m    105\u001b[0m             \u001b[0mfnamedb\u001b[0m \u001b[1;33m=\u001b[0m \u001b[1;34m\"restrictFig\"\u001b[0m \u001b[1;33m+\u001b[0m \u001b[1;34m\"_\"\u001b[0m \u001b[1;33m+\u001b[0m \u001b[0mstr\u001b[0m\u001b[1;33m(\u001b[0m\u001b[0mstep\u001b[0m\u001b[1;33m)\u001b[0m \u001b[1;33m+\u001b[0m \u001b[1;34m\".gldb\"\u001b[0m\u001b[1;33m\u001b[0m\u001b[0m\n\u001b[0;32m    106\u001b[0m             \u001b[0mfullpath\u001b[0m \u001b[1;33m=\u001b[0m \u001b[0mos\u001b[0m\u001b[1;33m.\u001b[0m\u001b[0mpath\u001b[0m\u001b[1;33m.\u001b[0m\u001b[0mjoin\u001b[0m\u001b[1;33m(\u001b[0m\u001b[0moutputPath\u001b[0m \u001b[1;33m+\u001b[0m \u001b[1;34m\"gldbs/\"\u001b[0m \u001b[1;33m+\u001b[0m \u001b[0mfnamedb\u001b[0m\u001b[1;33m)\u001b[0m\u001b[1;33m\u001b[0m\u001b[0m\n\u001b[1;32m--> 107\u001b[1;33m             \u001b[0mfigRestrict\u001b[0m\u001b[1;33m.\u001b[0m\u001b[0msave_database\u001b[0m\u001b[1;33m(\u001b[0m\u001b[0mfullpath\u001b[0m\u001b[1;33m)\u001b[0m\u001b[1;33m\u001b[0m\u001b[0m\n\u001b[0m\u001b[0;32m    108\u001b[0m         \u001b[1;32melif\u001b[0m \u001b[0mfigures\u001b[0m \u001b[1;33m==\u001b[0m \u001b[1;34m'store'\u001b[0m\u001b[1;33m:\u001b[0m\u001b[1;33m\u001b[0m\u001b[0m\n\u001b[0;32m    109\u001b[0m             \u001b[0mfullpath\u001b[0m \u001b[1;33m=\u001b[0m \u001b[0mos\u001b[0m\u001b[1;33m.\u001b[0m\u001b[0mpath\u001b[0m\u001b[1;33m.\u001b[0m\u001b[0mjoin\u001b[0m\u001b[1;33m(\u001b[0m\u001b[0moutputPath\u001b[0m \u001b[1;33m+\u001b[0m \u001b[1;34m\"gldbs/\"\u001b[0m\u001b[1;33m)\u001b[0m\u001b[1;33m\u001b[0m\u001b[0m\n",
      "\u001b[1;32m/root/underworld2/glucifer/_glucifer.pyc\u001b[0m in \u001b[0;36msave_database\u001b[1;34m(self, filename, regen)\u001b[0m\n\u001b[0;32m    574\u001b[0m     \u001b[1;32mdef\u001b[0m \u001b[0msave_database\u001b[0m\u001b[1;33m(\u001b[0m\u001b[0mself\u001b[0m\u001b[1;33m,\u001b[0m \u001b[0mfilename\u001b[0m\u001b[1;33m,\u001b[0m \u001b[0mregen\u001b[0m\u001b[1;33m=\u001b[0m\u001b[0mTrue\u001b[0m\u001b[1;33m)\u001b[0m\u001b[1;33m:\u001b[0m\u001b[1;33m\u001b[0m\u001b[0m\n\u001b[0;32m    575\u001b[0m         \u001b[1;32mif\u001b[0m \u001b[0mregen\u001b[0m\u001b[1;33m:\u001b[0m\u001b[1;33m\u001b[0m\u001b[0m\n\u001b[1;32m--> 576\u001b[1;33m             \u001b[0mself\u001b[0m\u001b[1;33m.\u001b[0m\u001b[0m_generate_DB\u001b[0m\u001b[1;33m(\u001b[0m\u001b[1;33m)\u001b[0m\u001b[1;33m\u001b[0m\u001b[0m\n\u001b[0m\u001b[0;32m    577\u001b[0m         \u001b[1;32mreturn\u001b[0m \u001b[0mself\u001b[0m\u001b[1;33m.\u001b[0m\u001b[0mdb\u001b[0m\u001b[1;33m.\u001b[0m\u001b[0msave\u001b[0m\u001b[1;33m(\u001b[0m\u001b[0mfilename\u001b[0m\u001b[1;33m)\u001b[0m\u001b[1;33m\u001b[0m\u001b[0m\n\u001b[0;32m    578\u001b[0m \u001b[1;33m\u001b[0m\u001b[0m\n",
      "\u001b[1;32m/root/underworld2/glucifer/_glucifer.pyc\u001b[0m in \u001b[0;36m_generate_DB\u001b[1;34m(self)\u001b[0m\n\u001b[0;32m    609\u001b[0m         \u001b[1;32mif\u001b[0m \u001b[0mlen\u001b[0m\u001b[1;33m(\u001b[0m\u001b[0mself\u001b[0m\u001b[1;33m.\u001b[0m\u001b[0mdraw\u001b[0m\u001b[1;33m.\u001b[0m\u001b[0mvertices\u001b[0m\u001b[1;33m)\u001b[0m \u001b[1;33m>\u001b[0m \u001b[1;36m0\u001b[0m\u001b[1;33m:\u001b[0m\u001b[1;33m\u001b[0m\u001b[0m\n\u001b[0;32m    610\u001b[0m             \u001b[0mobjects\u001b[0m\u001b[1;33m.\u001b[0m\u001b[0mappend\u001b[0m\u001b[1;33m(\u001b[0m\u001b[0mself\u001b[0m\u001b[1;33m.\u001b[0m\u001b[0mdraw\u001b[0m\u001b[1;33m)\u001b[0m\u001b[1;33m\u001b[0m\u001b[0m\n\u001b[1;32m--> 611\u001b[1;33m         \u001b[0mself\u001b[0m\u001b[1;33m.\u001b[0m\u001b[0mdb\u001b[0m\u001b[1;33m.\u001b[0m\u001b[0m_generate\u001b[0m\u001b[1;33m(\u001b[0m\u001b[0mself\u001b[0m\u001b[1;33m.\u001b[0m\u001b[0mname\u001b[0m\u001b[1;33m,\u001b[0m \u001b[0mobjects\u001b[0m\u001b[1;33m,\u001b[0m \u001b[0mself\u001b[0m\u001b[1;33m)\u001b[0m\u001b[1;33m\u001b[0m\u001b[0m\n\u001b[0m\u001b[0;32m    612\u001b[0m \u001b[1;33m\u001b[0m\u001b[0m\n\u001b[0;32m    613\u001b[0m     \u001b[1;32mdef\u001b[0m \u001b[0m_generate_image\u001b[0m\u001b[1;33m(\u001b[0m\u001b[0mself\u001b[0m\u001b[1;33m,\u001b[0m \u001b[0mfilename\u001b[0m\u001b[1;33m=\u001b[0m\u001b[1;34m\"\"\u001b[0m\u001b[1;33m,\u001b[0m \u001b[0msize\u001b[0m\u001b[1;33m=\u001b[0m\u001b[1;33m(\u001b[0m\u001b[1;36m0\u001b[0m\u001b[1;33m,\u001b[0m\u001b[1;36m0\u001b[0m\u001b[1;33m)\u001b[0m\u001b[1;33m)\u001b[0m\u001b[1;33m:\u001b[0m\u001b[1;33m\u001b[0m\u001b[0m\n",
      "\u001b[1;32m/root/underworld2/glucifer/_glucifer.pyc\u001b[0m in \u001b[0;36m_generate\u001b[1;34m(self, figname, objects, props)\u001b[0m\n\u001b[0;32m    218\u001b[0m \u001b[1;33m\u001b[0m\u001b[0m\n\u001b[0;32m    219\u001b[0m             \u001b[1;31m# go ahead and fill db\u001b[0m\u001b[1;33m\u001b[0m\u001b[1;33m\u001b[0m\u001b[0m\n\u001b[1;32m--> 220\u001b[1;33m             \u001b[0mlibUnderworld\u001b[0m\u001b[1;33m.\u001b[0m\u001b[0mgLucifer\u001b[0m\u001b[1;33m.\u001b[0m\u001b[0m_lucDatabase_Execute\u001b[0m\u001b[1;33m(\u001b[0m\u001b[0mself\u001b[0m\u001b[1;33m.\u001b[0m\u001b[0m_db\u001b[0m\u001b[1;33m,\u001b[0m\u001b[0mNone\u001b[0m\u001b[1;33m)\u001b[0m\u001b[1;33m\u001b[0m\u001b[0m\n\u001b[0m\u001b[0;32m    221\u001b[0m \u001b[1;33m\u001b[0m\u001b[0m\n\u001b[0;32m    222\u001b[0m             \u001b[1;31m#Output any custom geometry on objects\u001b[0m\u001b[1;33m\u001b[0m\u001b[1;33m\u001b[0m\u001b[0m\n",
      "\u001b[1;31mKeyboardInterrupt\u001b[0m: "
     ]
    }
   ],
   "source": [
    "#while step < 6:\n",
    "while realtime < 0.002:\n",
    "\n",
    "    # solve Stokes and advection systems\n",
    "    solver.solve(nonLinearIterate=True)\n",
    "    dt = advDiff.get_max_dt()\n",
    "    if step == 0:\n",
    "        dt = 0.\n",
    "    advDiff.integrate(dt)\n",
    "    passiveadvector.integrate(dt)\n",
    "    for f in interfaces:\n",
    "        f.advection(dt)\n",
    "        \n",
    "\n",
    "    \n",
    "    # Increment\n",
    "    realtime += dt\n",
    "    step += 1\n",
    "    timevals.append(realtime)\n",
    "    ################\n",
    "    #Update temperature field in the air region\n",
    "    #Do this better...\n",
    "    ################\n",
    "    if (step % sticky_air_temp == 0):\n",
    "        for index, coord in enumerate(mesh.data):\n",
    "            if coord[1] >= 1.:\n",
    "                temperatureField.data[index] = ndp.TSP\n",
    "                \n",
    "    ################\n",
    "    # Calculate the Metrics\n",
    "    ################\n",
    "    if (step % metric_output == 0):\n",
    "        ###############\n",
    "        #Rebuild the restriction functions where necessary\n",
    "        ###############\n",
    "        lowerPlateRestFn = gSwarm.add_variable( dataType=\"double\", count=1 )\n",
    "        lowerPlateRestFn.data[:] = 0.0\n",
    "        update_swarm_from_line(slab_seg, lowerPlateRestFn )\n",
    "        lowerPlateRestFn.data[np.where(lowerPlateRestFn.data >= -1.*midthickness)] = 1.\n",
    "        lowerPlateRestFn.data[np.where(lowerPlateRestFn.data < -1.*midthickness)] = 0. \n",
    "        lowerPlateRestFn *= lithRestFn #Add next level up in hierarchy\n",
    "        \n",
    "        #Hinge\n",
    "        \n",
    "        hinge60Spatialconditions = [ (           operator.and_( (depthFn < MAXY - (60e3/dp.LS)),  (xFn > ndp.subzone - 60e3/dp.LS)), 1.),\n",
    "                   (                                                   True , 0.) ]\n",
    "        hinge60RestFn = fn.branching.conditional(hinge60Spatialconditions)\n",
    "        hinge60RestFn*=lowerPlateRestFn #Add next level up in hierarchy\n",
    "\n",
    "\n",
    "\n",
    "        hinge180Spatialconditions = [ (           operator.and_( (depthFn < MAXY - (180e3/dp.LS)),  (xFn > ndp.subzone - 180e3/dp.LS)), 1.),\n",
    "                           (                                                   True , 0.) ]\n",
    "        hinge180RestFn = fn.branching.conditional(hinge180Spatialconditions)\n",
    "        hinge180RestFn*=lowerPlateRestFn #Add next level up in hierarchy\n",
    "        \n",
    "        ###############\n",
    "        #Metrics\n",
    "        ###############\n",
    "        areaintRock = _areaintRock.evaluate()[0] #trivial except when using sticky air\n",
    "        tempintRock = _tempintRock.evaluate()[0]\n",
    "        rmsintRock = _rmsintRock.evaluate()[0]\n",
    "        dwintRock = _dwintRock.evaluate()[0]\n",
    "        vdintRock = _vdintRock.evaluate()[0]\n",
    "        areaintLith = _areaintLith.evaluate()[0]\n",
    "        tempintLith = _tempintLith.evaluate()[0]\n",
    "        rmsintLith = _rmsintLith.evaluate()[0]\n",
    "        dwintLith = _dwintLith.evaluate()[0]\n",
    "        vdintLith = _vdintLith.evaluate()[0]\n",
    "        areaintLower = _areaintLower.evaluate()[0]\n",
    "        tempintLower = _tempintLower.evaluate()[0]\n",
    "        rmsintLower = _rmsintLower.evaluate()[0]\n",
    "        dwintLower = _dwintLower.evaluate()[0]\n",
    "        vdintLower = _vdintLower.evaluate()[0]\n",
    "        vdintHinge180 = _vdintHinge180.evaluate()[0]\n",
    "        areaintHinge180 = _areaintHinge180.evaluate()[0]\n",
    "        vdintHinge60 = _vdintHinge60.evaluate()[0]\n",
    "        areaintHinge60= _areaintHinge60.evaluate()[0]\n",
    "        vdintInterface = _vdintInterface.evaluate()[0]\n",
    "        areaintInterface= _areaintInterface.evaluate()[0]\n",
    "        #Surface integrals\n",
    "        rmsSurf = _rmsSurf.evaluate()[0]\n",
    "        nuTop = _nuTop.evaluate()[0]\n",
    "        nuBottom = _nuBottom.evaluate()[0]\n",
    "        plateness = _plateness.evaluate()[0]\n",
    "        #extrema\n",
    "        maxVel = _maxMinVel.max_global()\n",
    "        minVel = _maxMinVel.min_global() \n",
    "        maxSr = _maxMinSr.max_global()\n",
    "        minSr = _maxMinSr.min_global()\n",
    "        maxVxsurf = _maxMinVxSurf.max_global()\n",
    "        minVxsurf = _maxMinVxSurf.min_global()\n",
    "        # output to summary text file\n",
    "        if uw.rank()==0:\n",
    "            f_o.write((28*'%-15s ' + '\\n') % (areaintRock, tempintRock, rmsintRock, dwintRock, vdintRock,\n",
    "                                  areaintLith, tempintLith,rmsintLith, dwintLith, vdintLith,\n",
    "                                  areaintLower, tempintLower, rmsintLower, dwintLower, vdintLower, \n",
    "                                  areaintHinge180,vdintHinge180, areaintHinge60, vdintHinge60, \n",
    "                                  areaintInterface, vdintInterface, vdintInterface,\n",
    "                                  rmsSurf, nuTop, nuBottom, plateness, ndp.subzone, realtime))\n",
    "    ################\n",
    "    #Also repopulate entire swarm periodically\n",
    "    ################\n",
    "    #if step % swarm_repop == 0:\n",
    "    population_control.repopulate()   \n",
    "    ################\n",
    "    #Gldb output\n",
    "    ################ \n",
    "    if (step % gldbs_output == 0): \n",
    "        if figures == 'gldb':\n",
    "            #Remember to rebuild any necessary swarm variables\n",
    "            fnamedb = \"dbFig\" + \"_\" + str(step) + \".gldb\"\n",
    "            fullpath = os.path.join(outputPath + \"gldbs/\" + fnamedb)\n",
    "            figDb.save_database(fullpath)\n",
    "            \n",
    "            #Temp figure\n",
    "            fnamedb = \"restrictFig\" + \"_\" + str(step) + \".gldb\"\n",
    "            fullpath = os.path.join(outputPath + \"gldbs/\" + fnamedb)\n",
    "            figRestrict.save_database(fullpath)\n",
    "        elif figures == 'store':      \n",
    "            fullpath = os.path.join(outputPath + \"gldbs/\")\n",
    "            store.step = step\n",
    "            #Save figures to store\n",
    "            figVisc.save( fullpath + \"Visc\" + str(step).zfill(4))\n",
    "            #figMech.save( fullPath + \"Mech\" + str(step).zfill(4))\n",
    "            figTemp.save( fullpath + \"Temp\"    + str(step).zfill(4))\n",
    "            figSr.save( fullpath + \"Str_rte\"    + str(step).zfill(4))\n",
    "    ################\n",
    "    #Files output\n",
    "    ################ \n",
    "    if (step % files_output == 0):\n",
    "\n",
    "        vel_surface = velocityField.evaluate_global(surface_nodes)\n",
    "        norm_surface_sr = normgradV.evaluate_global(surface_nodes)\n",
    "        if uw.rank() == 0:\n",
    "            fnametemp = \"velsurface\" + \"_\" + str(step)\n",
    "            fullpath = os.path.join(outputPath + \"files/\" + fnametemp)\n",
    "            np.save(fullpath, vel_surface)\n",
    "            fnametemp = \"norm_surface_sr\" + \"_\" + str(step)\n",
    "            fullpath = os.path.join(outputPath + \"files/\" + fnametemp)\n",
    "            np.save(fullpath, norm_surface_sr)\n",
    "            \n",
    "        #Save the slab_seg and tipswarm coords \n",
    "        fnametemp1 = \"midSwarm\" + \"_\" + str(step)\n",
    "        fullpath1 = os.path.join(outputPath + \"files/\" + fnametemp1)\n",
    "        slab_seg.swarm.save(fullpath1)\n",
    "        #tipVar.data[:,:2] = velocityField.evaluate(tipSwarm)\n",
    "        #tipVar.data[:,2:] = xFn.evaluate(tipSwarm)\n",
    "        #tipVar.data[:,3:] = yFn.evaluate(tipSwarm)\n",
    "        #comm.barrier()\n",
    "        #fnametemp2 = \"tipSwarm\" + \"_\" + str(step)\n",
    "        #fullpath2 = os.path.join(outputPath + \"files/\" + fnametemp2)\n",
    "        #tipVar.save('fullpath2')\n",
    "            \n",
    "    ################\n",
    "    #Update the subduction zone / plate information\n",
    "    ################ \n",
    "    \n",
    "    comm.barrier()\n",
    "    if (step % files_output == 0):\n",
    "        \n",
    "        if uw.rank() == 0:\n",
    "            fnametemp = \"norm_surface_sr\" + \"_\" + str(step) + \".npy\"\n",
    "            fullpath = os.path.join(outputPath + \"files/\" + fnametemp)\n",
    "            ndp.subzone = plate_info(fullpath, MINX, MAXX,  800e3/dp.LS, oldszloc = ndp.subzone)\n",
    "            \n",
    "        else:\n",
    "            ndp.subzone = None\n",
    "        \n",
    "        comm.barrier()    \n",
    "        #send out the updated info for sz location\n",
    "        \n",
    "        ndp.subzone = comm.bcast(ndp.subzone, root=0)\n",
    "\n",
    "        #Has the polarity reversed?\n",
    "\n",
    "        if dp.sense == 'right':\n",
    "            tempop = operator.lt\n",
    "            szoffet *= -1\n",
    "        else:\n",
    "            tempop = operator.gt\n",
    "            \n",
    "        #Update the relevant parts of the material graph\n",
    "        #Remove and rebuild edges related to crust\n",
    "        DG.remove_edges_from([(mantleIndex,crustIndex)])\n",
    "        DG.add_edges_from([(mantleIndex,crustIndex)])\n",
    "        DG.remove_edges_from([(harzIndex,crustIndex)])\n",
    "        DG.add_edges_from([(harzIndex,crustIndex)])\n",
    "\n",
    "        #... to crust\n",
    "        DG.add_transition((mantleIndex,crustIndex), depthFn, operator.lt, 0.5)\n",
    "        DG.add_transition((mantleIndex,crustIndex), xFn, tempop , ndp.subzone) #No crust on the upper plate\n",
    "        DG.add_transition((mantleIndex,crustIndex), ageVariable, operator.gt, 0.2)\n",
    "\n",
    "        DG.add_transition((harzIndex,crustIndex), depthFn, operator.lt, ndp.MANTLETOCRUST)\n",
    "        DG.add_transition((harzIndex,crustIndex), xFn, tempop, ndp.subzone) #This one sets no crust on the upper plate\n",
    "        DG.add_transition((harzIndex,crustIndex), ageVariable, operator.gt, crustageCond)\n",
    "        \n",
    "        comm.barrier()\n",
    "                   \n",
    "    \n",
    "    ################\n",
    "    #Particle update\n",
    "    ###############    \n",
    "    #ageVariable.data[:] += dt #increment the ages (is this efficient?)\n",
    "    ageDT += dt\n",
    "    \n",
    "    if step % swarm_update == 0:\n",
    "        #Increment age stuff. \n",
    "        ageConditions = [ (depthFn < ndp.AGETRACKDEPTH, ageVariable + ageDT ),  #add ageDThere\n",
    "                  (True, 0.) ]\n",
    "        ageVariable.data[:] = fn.branching.conditional( ageConditions ).evaluate(gSwarm)        \n",
    "        ageDT = 0. #reset the age incrementer\n",
    "        \n",
    "        #Apply any materialVariable changes\n",
    "        for i in range(2): #go through twice\n",
    "            materialVariable.data[:] = fn.branching.conditional(DG.condition_list).evaluate(gSwarm)\n",
    "        \n",
    "        #Also update any information related to faults / interfaces:\n",
    "        update_swarm_from_faults(surface_seg, proximityVariable, directorVector, signedDistanceVariable)\n",
    "        mask_materials(surface_seg, airIndex, materialVariable, proximityVariable, directorVector, signedDistanceVariable)\n",
    "        \n",
    "        update_swarm_from_faults(fault_seg, proximityVariable, directorVector, signedDistanceVariable)\n",
    "        mask_materials(fault_seg, crustIndex, materialVariable, proximityVariable, directorVector, signedDistanceVariable)\n",
    "        \n",
    "        proximityVariable.data[gSwarm.particleCoordinates.data[:,1]  < (1. - ndp.CRUSTVISCUTOFF)] = 0.\n",
    "        \n",
    "        #And add extra particles to interfaces as necessary\n",
    "        #subduction fault\n",
    "        introPoint = ndp.subzone - abs(ndp.subzone - ndp.lRidge)/2. #half way between ridge and Sz\n",
    "        fault_seg.add_points([introPoint],[MAXY - faultthickness])\n",
    "        #Slab / mid swarm\n",
    "        if dp.sense == 'Right':\n",
    "            introPoint = ndp.lRidge + midthickness #\n",
    "        else:\n",
    "            introPoint = ndp.rRidge - midthickness #\n",
    "        slab_seg.add_points([introPoint],[MAXY - midthickness])\n",
    "        \n",
    "    ################\n",
    "    #Checkpoint\n",
    "    ################\n",
    "    if step % checkpoint_every == 0:\n",
    "        if uw.rank() == 0:\n",
    "            checkpoint1(step, checkpointPath,f_o, metric_output)           \n",
    "        checkpoint2(step, checkpointPath, gSwarm, f_o, varlist = varlist, varnames = varnames)\n",
    "        checkpoint3(step,  checkpointPath, interfaces,interfacenames )\n",
    "        f_o = open(os.path.join(outputPath, outputFile), 'a') #is this line supposed to be here?\n",
    "\n",
    "    \n",
    "f_o.close()\n",
    "print 'step =',step"
   ]
  },
  {
   "cell_type": "code",
   "execution_count": 120,
   "metadata": {
    "collapsed": false
   },
   "outputs": [],
   "source": []
  },
  {
   "cell_type": "code",
   "execution_count": null,
   "metadata": {
    "collapsed": false
   },
   "outputs": [],
   "source": []
  },
  {
   "cell_type": "code",
   "execution_count": 98,
   "metadata": {
    "collapsed": false
   },
   "outputs": [],
   "source": [
    "#vxTi = velocityField[0].evaluate(surface_nodes)\n",
    "#vxIso = velocityFieldIso[0].evaluate(surface_nodes)\n",
    "#%pylab inline\n",
    "#fig, axes = plt.subplots(figsize=(16,4))\n",
    "#axes.plot(vxTi)\n",
    "#axes.plot(vxIso)\n",
    "\n",
    "\n",
    "#fig, axes = plt.subplots(figsize=(16,4))\n",
    "#axes.plot(vxTi)\n",
    "#axes.plot(surface_xs, vxTi - vxIso)\n",
    "#fig.savefig('Ti_minus_Iso.png')\n",
    "#plt.title('surface velocity residual - T. Iso minus Iso. weak zone')\n"
   ]
  },
  {
   "cell_type": "code",
   "execution_count": null,
   "metadata": {
    "collapsed": false
   },
   "outputs": [],
   "source": []
  },
  {
   "cell_type": "code",
   "execution_count": 249,
   "metadata": {
    "collapsed": true
   },
   "outputs": [],
   "source": []
  },
  {
   "cell_type": "code",
   "execution_count": 102,
   "metadata": {
    "collapsed": false
   },
   "outputs": [
    {
     "data": {
      "text/html": [
       "<img src='data:image/png;base64,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'>"
      ],
      "text/plain": [
       "<IPython.core.display.HTML object>"
      ]
     },
     "metadata": {},
     "output_type": "display_data"
    }
   ],
   "source": [
    "#figRestrict.show()"
   ]
  },
  {
   "cell_type": "code",
   "execution_count": 91,
   "metadata": {
    "collapsed": false
   },
   "outputs": [
    {
     "data": {
      "text/html": [
       "<img src='data:image/png;base64,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'>"
      ],
      "text/plain": [
       "<IPython.core.display.HTML object>"
      ]
     },
     "metadata": {},
     "output_type": "display_data"
    }
   ],
   "source": [
    "#figDb.show()"
   ]
  },
  {
   "cell_type": "code",
   "execution_count": 92,
   "metadata": {
    "collapsed": false
   },
   "outputs": [
    {
     "data": {
      "text/plain": [
       "'test.gldb'"
      ]
     },
     "execution_count": 92,
     "metadata": {},
     "output_type": "execute_result"
    }
   ],
   "source": [
    "figDb.save_database('test.gldb')"
   ]
  },
  {
   "cell_type": "code",
   "execution_count": null,
   "metadata": {
    "collapsed": true
   },
   "outputs": [],
   "source": [
    "#slab_seg.swarm.save()"
   ]
  },
  {
   "cell_type": "code",
   "execution_count": null,
   "metadata": {
    "collapsed": true
   },
   "outputs": [],
   "source": []
  }
 ],
 "metadata": {
  "kernelspec": {
   "display_name": "Python 2",
   "language": "python",
   "name": "python2"
  },
  "language_info": {
   "codemirror_mode": {
    "name": "ipython",
    "version": 2
   },
   "file_extension": ".py",
   "mimetype": "text/x-python",
   "name": "python",
   "nbconvert_exporter": "python",
   "pygments_lexer": "ipython2",
   "version": "2.7.9"
  },
  "widgets": {
   "state": {},
   "version": "1.1.2"
  }
 },
 "nbformat": 4,
 "nbformat_minor": 0
}
