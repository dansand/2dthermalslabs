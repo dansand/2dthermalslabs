{
 "cells": [
  {
   "cell_type": "markdown",
   "metadata": {},
   "source": [
    "## Thermal subduction, linear rheology:\n",
    "\n",
    "\n",
    "The viscous rheology in this model is similar to the models described in the PhD thesis of Micheal Kaplan\n",
    "\n",
    "\n",
    "\n",
    "**Keywords:** subduction, thermally-activated creep, \n",
    "\n",
    "\n",
    "**References:**\n",
    "\n",
    "\n",
    "Kaplan, Michael. Numerical Geodynamics of Solid Planetary Deformation. Diss. University of Southern California, 2015."
   ]
  },
  {
   "cell_type": "code",
   "execution_count": 1,
   "metadata": {
    "collapsed": false
   },
   "outputs": [
    {
     "name": "stderr",
     "output_type": "stream",
     "text": [
      "/root/underworld2/unsupported/interfaces/__init__.py:9: UserWarning: \n",
      "\n",
      "The interface module is not supported.\n",
      "Questions should be addressed to louis.moresi@unimelb.edu.au \n",
      " \n",
      "  Questions should be addressed to louis.moresi@unimelb.edu.au \\n \"\"\"\n"
     ]
    }
   ],
   "source": [
    "import numpy as np\n",
    "import underworld as uw\n",
    "import math\n",
    "from underworld import function as fn\n",
    "import glucifer\n",
    "\n",
    "import os\n",
    "import sys\n",
    "import natsort\n",
    "import shutil\n",
    "from easydict import EasyDict as edict\n",
    "import operator\n",
    "import pint\n",
    "import time\n",
    "import operator\n",
    "from slippy2 import boundary_layer2d\n",
    "from slippy2 import material_graph\n",
    "from slippy2 import spmesh\n",
    "from slippy2 import phase_function\n",
    "from unsupported.interfaces import markerLine2D\n",
    "\n",
    "from mpi4py import MPI\n",
    "comm = MPI.COMM_WORLD\n",
    "rank = comm.Get_rank()"
   ]
  },
  {
   "cell_type": "markdown",
   "metadata": {},
   "source": [
    "Model name and directories\n",
    "-----"
   ]
  },
  {
   "cell_type": "code",
   "execution_count": 2,
   "metadata": {
    "collapsed": false
   },
   "outputs": [],
   "source": [
    "############\n",
    "#Model letter and number\n",
    "############\n",
    "\n",
    "\n",
    "#Model letter identifier default\n",
    "Model = \"T\"\n",
    "\n",
    "#Model number identifier default:\n",
    "ModNum = 0\n",
    "\n",
    "#Any isolated letter / integer command line args are interpreted as Model/ModelNum\n",
    "\n",
    "if len(sys.argv) == 1:\n",
    "    ModNum = ModNum \n",
    "elif sys.argv[1] == '-f': #\n",
    "    ModNum = ModNum \n",
    "else:\n",
    "    for farg in sys.argv[1:]:\n",
    "        if not '=' in farg: #then Assume it's a not a paramter argument\n",
    "            try:\n",
    "                ModNum = int(farg) #try to convert everingthing to a float, else remains string\n",
    "            except ValueError:\n",
    "                Model  = farg"
   ]
  },
  {
   "cell_type": "code",
   "execution_count": 3,
   "metadata": {
    "collapsed": false
   },
   "outputs": [],
   "source": [
    "###########\n",
    "#Standard output directory setup\n",
    "###########\n",
    "\n",
    "\n",
    "outputPath = \"results\" + \"/\" +  str(Model) + \"/\" + str(ModNum) + \"/\" \n",
    "imagePath = outputPath + 'images/'\n",
    "filePath = outputPath + 'files/'\n",
    "checkpointPath = outputPath + 'checkpoint/'\n",
    "dbPath = outputPath + 'gldbs/'\n",
    "outputFile = 'results_model' + Model + '_' + str(ModNum) + '.dat'\n",
    "\n",
    "if uw.rank()==0:\n",
    "    # make directories if they don't exist\n",
    "    if not os.path.isdir(outputPath):\n",
    "        os.makedirs(outputPath)\n",
    "    if not os.path.isdir(checkpointPath):\n",
    "        os.makedirs(checkpointPath)\n",
    "    if not os.path.isdir(imagePath):\n",
    "        os.makedirs(imagePath)\n",
    "    if not os.path.isdir(dbPath):\n",
    "        os.makedirs(dbPath)\n",
    "    if not os.path.isdir(filePath):\n",
    "        os.makedirs(filePath)\n",
    "\n",
    "        \n",
    "comm.Barrier() #Barrier here so no procs run the check in the next cell too early"
   ]
  },
  {
   "cell_type": "code",
   "execution_count": 4,
   "metadata": {
    "collapsed": false
   },
   "outputs": [
    {
     "name": "stdout",
     "output_type": "stream",
     "text": [
      "results/T/0/checkpoint/ is empty\n"
     ]
    }
   ],
   "source": [
    "###########\n",
    "#Check if starting from checkpoint\n",
    "###########\n",
    "\n",
    "checkdirs = []\n",
    "for dirpath, dirnames, files in os.walk(checkpointPath):\n",
    "    if files:\n",
    "        print dirpath, 'has files'\n",
    "        checkpointLoad = True\n",
    "        checkdirs.append(dirpath)\n",
    "    if not files:\n",
    "        print dirpath, 'is empty'\n",
    "        checkpointLoad = False"
   ]
  },
  {
   "cell_type": "code",
   "execution_count": 5,
   "metadata": {
    "collapsed": true
   },
   "outputs": [],
   "source": [
    "# setup summary output file (name above)\n",
    "if checkpointLoad:\n",
    "    checkpointLoadDir = natsort.natsort(checkdirs)[-1]\n",
    "    if uw.rank() == 0:\n",
    "        shutil.copyfile(os.path.join(checkpointLoadDir, outputFile), outputPath+outputFile)\n",
    "    comm.Barrier()\n",
    "    f_o = open(os.path.join(outputPath, outputFile), 'a')\n",
    "    prevdata = np.genfromtxt(os.path.join(outputPath, outputFile), skip_header=0, skip_footer=0)\n",
    "    if len(prevdata.shape) == 1: #this is in case there is only one line in previous file\n",
    "        realtime = prevdata[-1]  #This corresponds to the column you write time data to\n",
    "    else:\n",
    "        realtime = prevdata[prevdata.shape[0]-1, -1]\n",
    "    step = int(checkpointLoadDir.split('/')[-1])\n",
    "    timevals = [0.]\n",
    "else:\n",
    "    f_o = open(outputPath+outputFile, 'w')\n",
    "    realtime = 0.\n",
    "    step = 0\n",
    "    timevals = [0.]"
   ]
  },
  {
   "cell_type": "markdown",
   "metadata": {},
   "source": [
    "Setup parameters\n",
    "-----\n",
    "\n",
    "Set simulation parameters for test."
   ]
  },
  {
   "cell_type": "markdown",
   "metadata": {},
   "source": [
    "**Use pint to setup any unit conversions we'll need**"
   ]
  },
  {
   "cell_type": "code",
   "execution_count": 6,
   "metadata": {
    "collapsed": false
   },
   "outputs": [
    {
     "name": "stderr",
     "output_type": "stream",
     "text": [
      "/usr/local/lib/python2.7/dist-packages/IPython/core/formatters.py:92: DeprecationWarning: DisplayFormatter._ipython_display_formatter_default is deprecated: use @default decorator instead.\n",
      "  def _ipython_display_formatter_default(self):\n",
      "/usr/local/lib/python2.7/dist-packages/IPython/core/formatters.py:98: DeprecationWarning: DisplayFormatter._formatters_default is deprecated: use @default decorator instead.\n",
      "  def _formatters_default(self):\n",
      "/usr/local/lib/python2.7/dist-packages/IPython/core/formatters.py:677: DeprecationWarning: PlainTextFormatter._deferred_printers_default is deprecated: use @default decorator instead.\n",
      "  def _deferred_printers_default(self):\n",
      "/usr/local/lib/python2.7/dist-packages/IPython/core/formatters.py:669: DeprecationWarning: PlainTextFormatter._singleton_printers_default is deprecated: use @default decorator instead.\n",
      "  def _singleton_printers_default(self):\n",
      "/usr/local/lib/python2.7/dist-packages/IPython/core/formatters.py:672: DeprecationWarning: PlainTextFormatter._type_printers_default is deprecated: use @default decorator instead.\n",
      "  def _type_printers_default(self):\n",
      "/usr/local/lib/python2.7/dist-packages/IPython/core/formatters.py:669: DeprecationWarning: PlainTextFormatter._singleton_printers_default is deprecated: use @default decorator instead.\n",
      "  def _singleton_printers_default(self):\n",
      "/usr/local/lib/python2.7/dist-packages/IPython/core/formatters.py:672: DeprecationWarning: PlainTextFormatter._type_printers_default is deprecated: use @default decorator instead.\n",
      "  def _type_printers_default(self):\n",
      "/usr/local/lib/python2.7/dist-packages/IPython/core/formatters.py:677: DeprecationWarning: PlainTextFormatter._deferred_printers_default is deprecated: use @default decorator instead.\n",
      "  def _deferred_printers_default(self):\n"
     ]
    },
    {
     "data": {
      "text/html": [
       "10000.0 meter/megayear"
      ],
      "text/latex": [
       "$10000.0 \\frac{meter}{megayear}$"
      ],
      "text/plain": [
       "<Quantity(10000.0, 'meter / megayear')>"
      ]
     },
     "execution_count": 6,
     "metadata": {},
     "output_type": "execute_result"
    }
   ],
   "source": [
    "u = pint.UnitRegistry()\n",
    "cmpery = 1.*u.cm/u.year\n",
    "mpermy = 1.*u.m/u.megayear\n",
    "year = 1.*u.year\n",
    "spery = year.to(u.sec)\n",
    "cmpery.to(mpermy)"
   ]
  },
  {
   "cell_type": "code",
   "execution_count": 7,
   "metadata": {
    "collapsed": false
   },
   "outputs": [
    {
     "name": "stdout",
     "output_type": "stream",
     "text": [
      "(0.04, 1.2675505856327397e-11)\n"
     ]
    }
   ],
   "source": [
    "box_half_width =4000e3\n",
    "age_at_trench = 100e6\n",
    "cmperyear = box_half_width / age_at_trench #m/y\n",
    "mpersec = cmperyear*(cmpery.to(u.m/u.second)).magnitude #m/sec\n",
    "print(cmperyear, mpersec )"
   ]
  },
  {
   "cell_type": "markdown",
   "metadata": {},
   "source": [
    "**Set parameter dictionaries**\n",
    "\n",
    "* Parameters are stored in dictionaries. \n",
    "* If starting from checkpoint, parameters are loaded using pickle\n",
    "* If params are passed in as flags to the script, they overwrite \n"
   ]
  },
  {
   "cell_type": "code",
   "execution_count": 8,
   "metadata": {
    "collapsed": false
   },
   "outputs": [],
   "source": [
    "###########\n",
    "#Parameter / settings dictionaries get saved&loaded using pickle\n",
    "###########\n",
    " \n",
    "dp = edict({}) #dimensional parameters\n",
    "sf = edict({}) #scaling factors\n",
    "ndp = edict({}) #dimensionless paramters\n",
    "md = edict({}) #model paramters, flags etc\n",
    "#od = edict({}) #output frequencies\n",
    "\n"
   ]
  },
  {
   "cell_type": "code",
   "execution_count": 9,
   "metadata": {
    "collapsed": false
   },
   "outputs": [],
   "source": [
    "dict_list = [dp, sf, ndp, md]\n",
    "dict_names = ['dp.pkl', 'sf.pkl', 'ndp.pkl', 'md.pkl']\n",
    "\n",
    "def save_pickles(dict_list, dict_names, dictPath):\n",
    "    import pickle\n",
    "    counter = 0\n",
    "    for pdict in dict_list:\n",
    "        myfile = os.path.join(dictPath, dict_names[counter])\n",
    "        with open(myfile, 'wb') as f:\n",
    "            pickle.dump(pdict, f)\n",
    "        counter+=1\n",
    "\n",
    "\n",
    "#ended up having to pretty much write a hard-coded function\n",
    "#All dictionaries we want checkpointed will have to  be added here \n",
    "#and where the function is called\n",
    "#Fortunately, this function is only called ONCE\n",
    "\n",
    "def load_pickles():\n",
    "    import pickle\n",
    "    dirpath = os.path.join(checkpointPath, str(step))\n",
    "    dpfile = open(os.path.join(dirpath, 'dp.pkl'), 'r')\n",
    "    dp = pickle.load(dpfile)\n",
    "#    #\n",
    "    ndpfile = open(os.path.join(dirpath, 'ndp.pkl'), 'r')\n",
    "    ndp = edict(pickle.load(ndpfile))\n",
    "    #\n",
    "    sffile = open(os.path.join(dirpath, 'sf.pkl'), 'r')\n",
    "    sf = edict(pickle.load(sffile))\n",
    "    #\n",
    "    mdfile = open(os.path.join(dirpath, 'md.pkl'), 'r')\n",
    "    md = edict(pickle.load(mdfile))\n",
    "    return dp, ndp, sf, md"
   ]
  },
  {
   "cell_type": "code",
   "execution_count": 10,
   "metadata": {
    "collapsed": false
   },
   "outputs": [],
   "source": [
    "###########\n",
    "#Store the physical parameters, scale factors and dimensionless pramters in easyDicts\n",
    "#Mainly helps with avoiding overwriting variables\n",
    "###########\n",
    "\n",
    "\n",
    "dp = edict({'LS':670*1e3, #Scaling Length scale\n",
    "            'depth':670*1e3, #Depth of domain\n",
    "            'rho':3300.,  #reference density\n",
    "            'g':9.8, #surface gravity\n",
    "            'eta0':1e20, #reference viscosity\n",
    "            'k':1e-6, #thermal diffusivity\n",
    "            'a':3e-5, #surface thermal expansivity\n",
    "            'R':8.314, #gas constant\n",
    "            'TP':1673., #mantle potential temp (K)\n",
    "            'TS':273., #surface temp (K)\n",
    "            #Rheology - flow law paramters\n",
    "            'Adf':3e-11, #pre-exp factor for diffusion creep\n",
    "            'Edf':1e5, #Total viscosity variation in the Kaplan model\n",
    "            'cm':40e6, #mantle cohesion in Byerlee law\n",
    "            'cc':40e6, #mantle cohesion in Byerlee law\n",
    "            'ci':40e6, #mantle cohesion in Byerlee law\n",
    "            'cf':40e6, #mantle cohesion in Byerlee law\n",
    "            'fcm':0.03,   #mantle friction coefficient in Byerlee law (tan(phi))\n",
    "            'fcc':0.03,   #crust friction coefficient \n",
    "            'fci':0.03,   #subduction interface friction coefficient\n",
    "            'fcf':0.03,   #subduction interface friction coefficient\n",
    "            #Rheology - cutoff values\n",
    "            'eta_min':1e17, \n",
    "            'eta_max':1e25, #viscosity max in the mantle material\n",
    "            'eta_min_crust':1e20, #viscosity min in the weak-crust material\n",
    "            'eta_max_crust':1e20, #viscosity max in the weak-crust material\n",
    "            'eta_min_interface':1e20, #viscosity min in the subduction interface material\n",
    "            'eta_max_interface':1e20, #viscosity max in the subduction interface material\n",
    "            'eta_min_fault':1e20, #viscosity min in the subduction interface material\n",
    "            'eta_max_fault':1e20, #viscosity max in the subduction interface material\n",
    "            #Length scales\n",
    "            'MANTLETOCRUST':10.*1e3, #Crust depth\n",
    "            'HARZBURGDEPTH':40e3,\n",
    "            'CRUSTTOMANTLE':800.*1e3,\n",
    "            'LITHTOMANTLE':(900.*1e3),\n",
    "            'MANTLETOLITH':200.*1e3, \n",
    "            'TOPOHEIGHT':10.*1e3,  #rock-air topography limits\n",
    "            'CRUSTTOECL':100.*1e3,\n",
    "            'LOWMANTLEDEPTH':660.*1e3, \n",
    "            'CRUSTVISCUTOFF':150.*1e3, #Deeper than this, crust material rheology reverts to mantle rheology\n",
    "            'AGETRACKDEPTH':100e3, #above this depth we track the age of the lithsphere (below age is assumed zero)\n",
    "            #Slab and plate parameters\n",
    "            'roc':250e3,     #radius of curvature of slab\n",
    "            'subzone':0.0,   #X position of subduction zone...km\n",
    "            'lRidge':-0.5*(670e3*4),  #For depth = 670 km, aspect ratio of 4, this puts the ridges at MINX, MAXX\n",
    "            'rRidge':0.5*(670e3*4),\n",
    "            'maxDepth':250e3,\n",
    "            'theta':70., #Angle to truncate the slab (can also control with a maxDepth param)\n",
    "            'slabmaxAge':60e6, #age of subduction plate at trench\n",
    "            'platemaxAge':60e6, #max age of slab (Plate model)\n",
    "            'sense':'Right', #dip direction\n",
    "            'op_age_fac':0.5, #this controls the overidding plate age reduction\n",
    "            #Misc\n",
    "            'StALS':100e3, #depth of sticky air layer\n",
    "            'Steta_n':1e19, #stick air viscosity, normal\n",
    "            'Steta_s':1e18, #stick air viscosity, shear \n",
    "            'plate_vel':4,\n",
    "            'low_mantle_visc_fac':30.\n",
    "           })\n",
    "\n",
    "#append any derived parameters to the dictionary\n",
    "dp.deltaT = dp.TP - dp.TS\n",
    "\n",
    "\n"
   ]
  },
  {
   "cell_type": "code",
   "execution_count": 11,
   "metadata": {
    "collapsed": false
   },
   "outputs": [],
   "source": [
    "#Modelling and Physics switches\n",
    "\n",
    "md = edict({'refineMesh':False,\n",
    "            'stickyAir':False,\n",
    "            'subductionFault':True,\n",
    "            'symmetricIcs':False,\n",
    "            'velBcs':False,\n",
    "            'aspectRatio':4,\n",
    "            'compBuoyancy':False, #use compositional & phase buoyancy, or simply thermal\n",
    "            'periodicBcs':False,\n",
    "            'RES':64\n",
    "            })"
   ]
  },
  {
   "cell_type": "code",
   "execution_count": 12,
   "metadata": {
    "collapsed": false
   },
   "outputs": [],
   "source": [
    "###########\n",
    "#If starting from a checkpoint load params from file\n",
    "###########\n",
    "\n",
    "if checkpointLoad:\n",
    "    dp, ndp, sf, md = load_pickles()  #remember to add any extra dictionaries\n"
   ]
  },
  {
   "cell_type": "code",
   "execution_count": 13,
   "metadata": {
    "collapsed": false
   },
   "outputs": [],
   "source": [
    "###########\n",
    "#If command line args are given, overwrite\n",
    "#Note that this assumes that params as commans line args/\n",
    "#only append to the 'dimensional' and 'model' dictionary (not the non-dimensional)\n",
    "###########    \n",
    "\n",
    "\n",
    "###########\n",
    "#If extra arguments are provided to the script\" eg:\n",
    "### >>> uw.py 2 dp.arg1=1 dp.arg2=foo dp.arg3=3.0\n",
    "###\n",
    "###This would assign ModNum = 2, all other values go into the dp dictionary, under key names provided\n",
    "###\n",
    "###Two operators are searched for, = & *=\n",
    "###\n",
    "###If =, parameter is re-assigned to givn value\n",
    "###If *=, parameter is multipled by given value\n",
    "###\n",
    "### >>> uw.py 2 dp.arg1=1 dp.arg2=foo dp.arg3*=3.0\n",
    "###########\n",
    "\n",
    "for farg in sys.argv[1:]:\n",
    "    try:\n",
    "        (dicitem,val) = farg.split(\"=\") #Split on equals operator\n",
    "        (dic,arg) = dicitem.split(\".\") #colon notation\n",
    "        if '*=' in farg:\n",
    "            (dicitem,val) = farg.split(\"*=\") #If in-place multiplication, split on '*='\n",
    "            (dic,arg) = dicitem.split(\".\")\n",
    "        \n",
    "        try:\n",
    "            val = float(val) #try to convert everything to a float, else remains string\n",
    "        except ValueError:\n",
    "            pass\n",
    "        #Update the dictionary\n",
    "        if farg.startswith('dp'):\n",
    "            if '*=' in farg:\n",
    "                dp[arg] = dp[arg]*val #multiply parameter by given factor\n",
    "            else:\n",
    "                dp[arg] = val    #or reassign parameter by given value\n",
    "        if farg.startswith('md'):\n",
    "            if '*=' in farg:\n",
    "                md[arg] = md[arg]*val #multiply parameter by given factor\n",
    "            else:\n",
    "                md[arg] = val    #or reassign parameter by given value\n",
    "                \n",
    "    except:\n",
    "        pass\n",
    "            \n",
    "\n",
    "comm.barrier()"
   ]
  },
  {
   "cell_type": "code",
   "execution_count": 14,
   "metadata": {
    "collapsed": false
   },
   "outputs": [],
   "source": [
    "#Only build these guys first time around, otherwise the read from checkpoints\n",
    "#Important because some of these params (like SZ location) may change during model evolution\n",
    "\n",
    "\n",
    "if not checkpointLoad:\n",
    "\n",
    "    \n",
    "    \n",
    "    sf = edict({'stress':dp.LS**2/(dp.k*dp.eta0),\n",
    "                'lith_grad':dp.rho*dp.g*(dp.LS)**3/(dp.eta0*dp.k) , \n",
    "                'vel':dp.LS/dp.k,\n",
    "                'SR':dp.LS**2/dp.k    \n",
    "               })\n",
    "\n",
    "    #dimensionless parameters\n",
    "\n",
    "    ndp = edict({'RA':(dp.g*dp.rho*dp.a*(dp.TP - dp.TS)*(dp.LS)**3)/(dp.k*dp.eta0),\n",
    "                 'Edf':math.log(dp.Edf),\n",
    "                 'TSP':0., \n",
    "                 'TBP':1.,\n",
    "                 'TPP':(dp.TP - dp.TS)/dp.deltaT, #dimensionless potential temp\n",
    "                 'TS':dp.TS/dp.deltaT,\n",
    "                 'TP':dp.TP/dp.deltaT,\n",
    "                 'cm':dp.cm*sf.stress,\n",
    "                 'cc':dp.cc*sf.stress,    #{dimensionless cohesion in mantle, crust, interface}\n",
    "                 'ci':dp.ci*sf.stress,\n",
    "                 'cf':dp.cf*sf.stress,\n",
    "                 'fcmd':dp.fcm*sf.lith_grad, \n",
    "                 'fccd':dp.fcc*sf.lith_grad, #{dimensionless friction coefficient in mantle, crust, interface}\n",
    "                 'fcid':dp.fci*sf.lith_grad, \n",
    "                 'fcfd':dp.fci*sf.lith_grad, \n",
    "                 #Rheology - cutoff values\n",
    "                 'eta_min':dp.eta_min/dp.eta0, \n",
    "                 'eta_max':dp.eta_max/dp.eta0, #viscosity max in the mantle material\n",
    "                 'eta_min_crust':dp.eta_min_crust/dp.eta0, #viscosity min in the weak-crust material\n",
    "                 'eta_max_crust':dp.eta_max_crust/dp.eta0, #viscosity max in the weak-crust material\n",
    "                 'eta_min_interface':dp.eta_min_interface/dp.eta0, #viscosity min in the subduction interface material\n",
    "                 'eta_max_interface':dp.eta_max_interface/dp.eta0, #viscosity max in the subduction interface material\n",
    "                 'eta_min_fault':dp.eta_min_fault/dp.eta0, #viscosity min in the subduction interface material\n",
    "                 'eta_max_fault':dp.eta_max_fault/dp.eta0, #viscosity max in the subduction interface material   \n",
    "                 #Length scales\n",
    "                 'MANTLETOCRUST':dp.MANTLETOCRUST/dp.LS, #Crust depth\n",
    "                 'HARZBURGDEPTH':dp.HARZBURGDEPTH/dp.LS,\n",
    "                 'CRUSTTOMANTLE':dp.CRUSTTOMANTLE/dp.LS,\n",
    "                 'LITHTOMANTLE':dp.LITHTOMANTLE/dp.LS,\n",
    "                 'MANTLETOLITH':dp.MANTLETOLITH/dp.LS,\n",
    "                 'TOPOHEIGHT':dp.TOPOHEIGHT/dp.LS,  #rock-air topography limits\n",
    "                 'CRUSTTOECL':dp.CRUSTTOECL/dp.LS,\n",
    "                 'LOWMANTLEDEPTH':dp.LOWMANTLEDEPTH/dp.LS, \n",
    "                 'CRUSTVISCUTOFF':dp.CRUSTVISCUTOFF/dp.LS, #Deeper than this, crust material rheology reverts to mantle rheology\n",
    "                 'AGETRACKDEPTH':dp.AGETRACKDEPTH/dp.LS,\n",
    "                 #Slab and plate parameters\n",
    "                 'roc':dp.roc/dp.LS,     #radius of curvature of slab\n",
    "                 'subzone':dp.subzone/dp.LS,   #X position of subduction zone...km\n",
    "                 'lRidge':dp.lRidge/dp.LS,  #For depth = 670 km, aspect ratio of 4, this puts the ridges at MINX, MAXX\n",
    "                 'rRidge':dp.rRidge/dp.LS,\n",
    "                 'maxDepth':dp.maxDepth/dp.LS,    \n",
    "                 #misc\n",
    "                 'Steta_n':dp.Steta_n/dp.eta0, #stick air viscosity, normal\n",
    "                 'Steta_s':dp.Steta_n/dp.eta0, #stick air viscosity, shear \n",
    "                 'StALS':dp.StALS/dp.LS,\n",
    "                 'plate_vel':sf.vel*dp.plate_vel*(cmpery.to(u.m/u.second)).magnitude,\n",
    "                 'low_mantle_visc_fac':dp.low_mantle_visc_fac\n",
    "                })\n",
    "\n",
    "\n",
    "\n",
    "    #Append any more derived paramters\n",
    "    ndp.StRA = (3300.*dp.g*(dp.LS)**3)/(dp.eta0 *dp.k) #Composisitional Rayleigh number for rock-air buoyancy force\n",
    "    dp.CVR = (0.1*(dp.k/dp.LS)*ndp.RA**(2/3.))\n",
    "    ndp.CVR = dp.CVR*sf.vel #characteristic velocity"
   ]
  },
  {
   "cell_type": "code",
   "execution_count": 15,
   "metadata": {
    "collapsed": false
   },
   "outputs": [
    {
     "data": {
      "text/plain": [
       "11.512925464970229"
      ]
     },
     "execution_count": 15,
     "metadata": {},
     "output_type": "execute_result"
    }
   ],
   "source": [
    "ndp.Edf"
   ]
  },
  {
   "cell_type": "code",
   "execution_count": 16,
   "metadata": {
    "collapsed": false
   },
   "outputs": [
    {
     "data": {
      "text/plain": [
       "(849.2588923739356, 670000000000.0, 3.168876464081849e-10)"
      ]
     },
     "execution_count": 16,
     "metadata": {},
     "output_type": "execute_result"
    }
   ],
   "source": [
    "ndp.plate_vel, sf.vel, (cmpery.to(u.m/u.second)).magnitude"
   ]
  },
  {
   "cell_type": "markdown",
   "metadata": {},
   "source": [
    "**Model setup parameters**"
   ]
  },
  {
   "cell_type": "code",
   "execution_count": 17,
   "metadata": {
    "collapsed": false
   },
   "outputs": [],
   "source": [
    "###########\n",
    "#Model setup parameters\n",
    "###########\n",
    "\n",
    "#Domain and Mesh paramters\n",
    "dim = 2          # number of spatial dimensions\n",
    "\n",
    "tot_depth = np.round(dp.depth/dp.LS, 3)\n",
    "\n",
    "#These options allow us to explore the choice of different length scalings\n",
    "\n",
    "if tot_depth == 1.: #Depth equal to length scale\n",
    "    MINY = 0.\n",
    "    MAXY = 1.\n",
    "elif tot_depth > 1.: #Depth larger than to length scale\n",
    "    MINY = 0.\n",
    "    MAXY = tot_depth\n",
    "    \n",
    "elif tot_depth < 1.: #Depth smaller to length scale\n",
    "    MINY = np.round(1. - tot_depth, 2)\n",
    "    MAXY = 1.\n",
    "    \n",
    "MINX = np.round(-1.*tot_depth*md.aspectRatio/2., 2)  #Aspect ratio is fixed, x-domain shifts according to system depth and length scale\n",
    "\n",
    "MAXX = np.round(1.*tot_depth*md.aspectRatio/2., 2)\n",
    "\n",
    "if MINX == 0.:\n",
    "    squareModel = True\n",
    "else: \n",
    "    squareModel = False\n",
    "    \n",
    "    \n",
    "\n",
    "Xres = int(md.RES*md.aspectRatio)\n",
    "#if MINY == 0.5:\n",
    "#    Xres = int(2.*RES*aspectRatio)\n",
    "    \n",
    "\n",
    "if md.stickyAir:\n",
    "    Yres = md.RES\n",
    "    MAXY = np.round(MAXY + dp.StALS/dp.LS, 2)\n",
    "    \n",
    "else:\n",
    "    Yres = md.RES\n",
    "    MAXY = np.round(MAXY, 2)\n",
    "\n",
    "periodic = [False, False]\n",
    "if md.periodicBcs:\n",
    "    periodic = [True, False]\n",
    "    \n",
    "elementType = \"Q1/dQ0\"\n",
    "#elementType =\"Q2/DPC1\"\n",
    "\n",
    "\n",
    "#System/Solver stuff\n",
    "PIC_integration=True\n",
    "ppc = 25\n",
    "\n",
    "#Metric output stuff\n",
    "figures =  'gldb' #glucifer Store won't work on all machines, if not, set to 'gldb' \n",
    "swarm_repop, swarm_update = 10, 10\n",
    "gldbs_output = 2\n",
    "checkpoint_every, files_output = 2, 100\n",
    "metric_output = 1\n",
    "sticky_air_temp = 1e6"
   ]
  },
  {
   "cell_type": "markdown",
   "metadata": {},
   "source": [
    "Create mesh and finite element variables\n",
    "------"
   ]
  },
  {
   "cell_type": "code",
   "execution_count": 18,
   "metadata": {
    "collapsed": false
   },
   "outputs": [],
   "source": [
    "mesh = uw.mesh.FeMesh_Cartesian( elementType = (elementType),\n",
    "                                 elementRes  = (Xres, Yres), \n",
    "                                 minCoord    = (MINX, MINY), \n",
    "                                 maxCoord    = (MAXX, MAXY), periodic=periodic)\n",
    "\n",
    "velocityField       = uw.mesh.MeshVariable( mesh=mesh,         nodeDofCount=2 )\n",
    "pressureField       = uw.mesh.MeshVariable( mesh=mesh.subMesh, nodeDofCount=1 )\n",
    "temperatureField    = uw.mesh.MeshVariable( mesh=mesh,         nodeDofCount=1 )\n",
    "temperatureDotField = uw.mesh.MeshVariable( mesh=mesh,         nodeDofCount=1 )"
   ]
  },
  {
   "cell_type": "code",
   "execution_count": 19,
   "metadata": {
    "collapsed": true
   },
   "outputs": [],
   "source": [
    "mesh.reset()"
   ]
  },
  {
   "cell_type": "code",
   "execution_count": 20,
   "metadata": {
    "collapsed": false
   },
   "outputs": [],
   "source": [
    "###########\n",
    "#Mesh refinement\n",
    "###########\n",
    "\n",
    "#X-Axis\n",
    "\n",
    "if md.refineMesh:\n",
    "    mesh.reset()\n",
    "    axis = 0\n",
    "    origcoords = np.linspace(mesh.minCoord[axis], mesh.maxCoord[axis], mesh.elementRes[axis] + 1)\n",
    "    edge_rest_lengths = np.diff(origcoords)\n",
    "\n",
    "    deform_lengths = edge_rest_lengths.copy()\n",
    "    min_point =  (abs(mesh.maxCoord[axis]) - abs(mesh.minCoord[axis]))/2.\n",
    "    el_reduction = 0.5001\n",
    "    dx = mesh.maxCoord[axis] - min_point\n",
    "\n",
    "    deform_lengths = deform_lengths - \\\n",
    "                                    ((1.-el_reduction) *deform_lengths[0]) + \\\n",
    "                                    abs((origcoords[1:] - min_point))*((0.5*deform_lengths[0])/dx)\n",
    "\n",
    "    #print(edge_rest_lengths.shape, deform_lengths.shape)\n",
    "\n",
    "    spmesh.deform_1d(deform_lengths, mesh,axis = 'x',norm = 'Min', constraints = [])"
   ]
  },
  {
   "cell_type": "code",
   "execution_count": 21,
   "metadata": {
    "collapsed": false
   },
   "outputs": [],
   "source": [
    "axis = 1\n",
    "orgs = np.linspace(mesh.minCoord[axis], mesh.maxCoord[axis], mesh.elementRes[axis] + 1)\n",
    "\n",
    "value_to_constrain = MAXY #nodes will remain along this line\n",
    "\n",
    "\n",
    "yconst = [(spmesh.find_closest(orgs, value_to_constrain), np.array([value_to_constrain,0]))]"
   ]
  },
  {
   "cell_type": "code",
   "execution_count": 22,
   "metadata": {
    "collapsed": false,
    "scrolled": true
   },
   "outputs": [],
   "source": [
    "###########\n",
    "#Mesh refinement\n",
    "###########\n",
    "\n",
    "if md.refineMesh:\n",
    "    #Y-Axis\n",
    "    axis = 1\n",
    "    origcoords = np.linspace(mesh.minCoord[axis], mesh.maxCoord[axis], mesh.elementRes[axis] + 1)\n",
    "    edge_rest_lengths = np.diff(origcoords)\n",
    "\n",
    "    deform_lengths = edge_rest_lengths.copy()\n",
    "    min_point =  (mesh.maxCoord[axis])\n",
    "    el_reduction = 0.5001\n",
    "    dx = mesh.maxCoord[axis]\n",
    "\n",
    "    deform_lengths = deform_lengths - \\\n",
    "                                    ((1.-el_reduction)*deform_lengths[0]) + \\\n",
    "                                    abs((origcoords[1:] - min_point))*((0.5*deform_lengths[0])/dx)\n",
    "\n",
    "    #print(edge_rest_lengths.shape, deform_lengths.shape)\n",
    "\n",
    "    spmesh.deform_1d(deform_lengths, mesh,axis = 'y',norm = 'Min', constraints = yconst)"
   ]
  },
  {
   "cell_type": "code",
   "execution_count": 23,
   "metadata": {
    "collapsed": false
   },
   "outputs": [],
   "source": [
    "#fig= glucifer.Figure()\n",
    "\n",
    "#fig.append(glucifer.objects.Mesh(mesh))\n",
    "\n",
    "#fig.show()\n",
    "#fig.save_database('test.gldb')"
   ]
  },
  {
   "cell_type": "code",
   "execution_count": 24,
   "metadata": {
    "collapsed": false
   },
   "outputs": [],
   "source": [
    "#THis is a hack for adding a sticky air domain, we refine MAXY and things like the temperature stencil work from Y = 1. \n",
    "\n",
    "if md.stickyAir:\n",
    "    MAXY = 1."
   ]
  },
  {
   "cell_type": "markdown",
   "metadata": {},
   "source": [
    "Initial conditions\n",
    "-------\n"
   ]
  },
  {
   "cell_type": "code",
   "execution_count": 25,
   "metadata": {
    "collapsed": false
   },
   "outputs": [],
   "source": [
    "coordinate = fn.input()\n",
    "depthFn = MAXY - coordinate[1] #a function providing the depth\n",
    "\n",
    "\n",
    "xFn = coordinate[0]  #a function providing the x-coordinate\n",
    "yFn = coordinate[1]\n"
   ]
  },
  {
   "cell_type": "code",
   "execution_count": 26,
   "metadata": {
    "collapsed": false
   },
   "outputs": [],
   "source": [
    "\n",
    "def age_fn(xFn, sz = 0.0, lMOR=MINX, rMOR=MAXX, opFac=1., conjugate_plate = False):\n",
    "    \"\"\"\n",
    "    Simple function to generate a discrete 1-d (i.e x-coordinate) function for the age of the thermal BC. \n",
    "    All paramters are dimensionless\n",
    "    sz: location of subduction zone\n",
    "    lMOR: location of left-hand MOR\n",
    "    rMOR: location of right-hand MOR\n",
    "    opFac: uniform reduce the age of the right hand plate by this factor\n",
    "    conjugate_plate: if True, build plates on the outer sides of the MORs, if False, age = 0. \n",
    "    \"\"\"\n",
    "    \n",
    "    if lMOR < MINX:\n",
    "        lMOR = MINX\n",
    "    if rMOR > MAXX:\n",
    "        rMOR = MAXX\n",
    "    r_grad =  1./(abs(rMOR-sz))\n",
    "    l_grad =  1./(abs(sz-lMOR))\n",
    "    if conjugate_plate:\n",
    "        ageFn = fn.branching.conditional([(operator.and_(xFn > lMOR, xFn < sz) , (xFn + abs(lMOR))/(abs(sz-lMOR))), \n",
    "                                      (operator.and_(xFn < rMOR, xFn >= sz), (1.-(xFn + abs(sz))/abs(rMOR-sz))*opFac),\n",
    "                                      (xFn > rMOR, r_grad*opFac*(xFn -abs(rMOR)) / (abs(MAXX-rMOR))),\n",
    "                                      (True, l_grad*fn.math.abs((((xFn + abs(lMOR)) / (abs(lMOR - MINX))))))\n",
    "                                         ])\n",
    "    else:    \n",
    "        \n",
    "        ageFn = fn.branching.conditional([(operator.and_(xFn > lMOR, xFn < sz) , (xFn + abs(lMOR))/(abs(sz-lMOR))), \n",
    "                                      (operator.and_(xFn < rMOR, xFn >= sz), (1.-(xFn + abs(sz))/abs(rMOR-sz))*opFac),\n",
    "\n",
    "                                      (True, 0.0)])\n",
    "    return ageFn"
   ]
  },
  {
   "cell_type": "code",
   "execution_count": 27,
   "metadata": {
    "collapsed": false
   },
   "outputs": [],
   "source": [
    "###########\n",
    "#Thermal initial condition - half-space coooling\n",
    "###########\n",
    "\n",
    "\n",
    "#  a few conversions\n",
    "ageAtTrenchSeconds = min(dp.platemaxAge*(3600*24*365), dp.slabmaxAge*(3600*24*365))\n",
    "#slab perturbation params (mostly dimensionless / model params here)\n",
    "phi = 90. - dp.theta\n",
    "Org = (ndp.subzone, MAXY-ndp.roc)\n",
    "\n",
    "#First build the top TBL\n",
    "ageFn = age_fn(xFn, sz =ndp.subzone, lMOR=ndp.lRidge,rMOR=ndp.rRidge, conjugate_plate=True, opFac = dp.op_age_fac)\n",
    "#dimensionlize the age function\n",
    "ageFn *= ageAtTrenchSeconds #seconds to year\n",
    "w0 = (2.*math.sqrt(dp.k*ageAtTrenchSeconds))/dp.LS #diffusion depth of plate at the trench\n",
    "\n",
    "tempBL = (ndp.TP - ndp.TS) *fn.math.erf((depthFn*dp.LS)/(2.*fn.math.sqrt(dp.k*ageFn))) + ndp.TSP #boundary layer function\n",
    "tempTBL =  fn.branching.conditional([(depthFn < w0, tempBL),\n",
    "                          (True, ndp.TPP)])\n",
    "\n",
    "if not md.symmetricIcs:\n",
    "    if not checkpointLoad:\n",
    "        out = uw.utils.MeshVariable_Projection( temperatureField, tempTBL) #apply function with projection\n",
    "        out.solve()\n",
    "\n"
   ]
  },
  {
   "cell_type": "code",
   "execution_count": 28,
   "metadata": {
    "collapsed": false
   },
   "outputs": [],
   "source": [
    "#Now build the perturbation part\n",
    "def inCircleFnGenerator(centre, radius):\n",
    "    coord = fn.input()\n",
    "    offsetFn = coord - centre\n",
    "    return fn.math.dot( offsetFn, offsetFn ) < radius**2\n",
    "\n",
    "\n",
    "\n",
    "#We use three circles to define our slab and crust perturbation,  \n",
    "Oc = inCircleFnGenerator(Org , ndp.roc)\n",
    "Ic = inCircleFnGenerator(Org , ndp.roc - w0)\n",
    "Cc = inCircleFnGenerator(Org , ndp.roc - (1.2*ndp.MANTLETOCRUST)) #... weak zone on 'outside' of slab\n",
    "Hc = inCircleFnGenerator(Org , ndp.roc - ndp.HARZBURGDEPTH) #... Harzburgite layer \n",
    "dx = (ndp.roc)/(np.math.tan((np.math.pi/180.)*phi))\n",
    "\n",
    "#We'll also create a triangle which will truncate the circles defining the slab...\n",
    "if dp.sense == 'Left':\n",
    "    ptx = ndp.subzone - dx\n",
    "else:\n",
    "    ptx = ndp.subzone + dx\n",
    "coords = ((0.+ ndp.subzone, MAXY), (0.+ ndp.subzone, MAXY-ndp.roc), (ptx, MAXY))\n",
    "Tri = fn.shape.Polygon(np.array(coords))\n",
    "\n",
    "#Actually apply the perturbation - could probably avoid particle walk here\n",
    "if not md.symmetricIcs:\n",
    "    if not checkpointLoad:\n",
    "        sdFn = ((ndp.roc - fn.math.sqrt((coordinate[0] - Org[0])**2. + (coordinate[1] - Org[1])**2.)))\n",
    "        slabFn = ndp.TPP*fn.math.erf((sdFn*dp.LS)/(2.*math.sqrt(dp.k*ageAtTrenchSeconds))) + ndp.TSP\n",
    "        for index, coord in enumerate(mesh.data):\n",
    "            if (\n",
    "                Oc.evaluate(tuple(coord)) and\n",
    "                Tri.evaluate(tuple(coord)) and not\n",
    "                Ic.evaluate(tuple(coord)) and\n",
    "                coord[1] > (MAXY - ndp.maxDepth)\n",
    "                ): #In the quarter-circle defining the lithosphere\n",
    "                temperatureField.data[index] = slabFn.evaluate(mesh)[index]\n"
   ]
  },
  {
   "cell_type": "code",
   "execution_count": 29,
   "metadata": {
    "collapsed": false
   },
   "outputs": [],
   "source": [
    "#sdFn = ((RocM - fn.math.sqrt((coordinate[0] - Org[0])**2. + (coordinate[1] - Org[1])**2.)))\n",
    "#slabFn = ndp.TPP*fn.math.erf((sdFn*dp.LS)/(2.*math.sqrt(dp.k*ageAtTrenchSeconds))) + ndp.TSP\n",
    "#sdFn, slabFn"
   ]
  },
  {
   "cell_type": "code",
   "execution_count": 30,
   "metadata": {
    "collapsed": false
   },
   "outputs": [],
   "source": [
    "#Make sure material in sticky air region is at the surface temperature.\n",
    "for index, coord in enumerate(mesh.data):\n",
    "            if coord[1] >= MAXY:\n",
    "                temperatureField.data[index] = ndp.TSP"
   ]
  },
  {
   "cell_type": "code",
   "execution_count": 31,
   "metadata": {
    "collapsed": false
   },
   "outputs": [],
   "source": [
    "#fn.math.erf((sdFn*dp.LS)/(2.*fn.math.sqrt(dp.k*(slabmaxAge*(3600*24*365))))) \n",
    "#CRUSTVISCUTOFF, MANTLETOCRUST*3"
   ]
  },
  {
   "cell_type": "markdown",
   "metadata": {
    "collapsed": false
   },
   "source": [
    "def matplot_field(temperatureField, dp):\n",
    "    if uw.nProcs() != 1:\n",
    "        print(\"only in Serial folks\")\n",
    "    else:\n",
    "        import matplotlib.pyplot as pyplt\n",
    "        try :\n",
    "            if(__IPYTHON__) :\n",
    "                get_ipython().magic(u'matplotlib inline')\n",
    "        except NameError :\n",
    "            pass\n",
    "        field_data = temperatureField.data.reshape(mesh.elementRes[1] + 1, mesh.elementRes[0] + 1)\n",
    "        fig, ax = pyplt.subplots(figsize=(32,2))\n",
    "        ql = dp.LS/1e3\n",
    "        pyplt.ioff()\n",
    "        cax =ax.imshow(np.flipud(field_data), cmap='coolwarm', aspect = 0.5, extent=[0,ql*aspectRatio,ql, 0])\n",
    "        fig.colorbar(cax, orientation='horizontal' )\n",
    "        #ax.set_x([0,dp.LS*aspectRatio])\n",
    "        pyplt.tight_layout()\n",
    "        \n",
    "        return fig, ax\n",
    "        \n",
    "fig, ax = matplot_field(temperatureField, dp)\n",
    "fig.savefig('test.png')       "
   ]
  },
  {
   "cell_type": "code",
   "execution_count": 32,
   "metadata": {
    "collapsed": false
   },
   "outputs": [
    {
     "data": {
      "text/plain": [
       "(0.0, 1.0)"
      ]
     },
     "execution_count": 32,
     "metadata": {},
     "output_type": "execute_result"
    }
   ],
   "source": [
    "temperatureField.data.min(), temperatureField.data.max()"
   ]
  },
  {
   "cell_type": "code",
   "execution_count": null,
   "metadata": {
    "collapsed": false
   },
   "outputs": [],
   "source": [
    "\n"
   ]
  },
  {
   "cell_type": "code",
   "execution_count": 33,
   "metadata": {
    "collapsed": false
   },
   "outputs": [],
   "source": [
    "\n",
    "#ageFn = age_fn(xFn)"
   ]
  },
  {
   "cell_type": "code",
   "execution_count": 34,
   "metadata": {
    "collapsed": false
   },
   "outputs": [],
   "source": [
    "\n",
    "#fig= glucifer.Figure(quality=3)\n",
    "\n",
    "#fig.append( glucifer.objects.Surface(mesh,temperatureField ))\n",
    "#fig.append( glucifer.objects.Mesh(mesh))\n",
    "#fig.show()\n",
    "\n",
    "##fig.save_database('test.gldb')\n",
    "#fig.save_image('test.png')\n"
   ]
  },
  {
   "cell_type": "markdown",
   "metadata": {},
   "source": [
    "Boundary conditions\n",
    "-------"
   ]
  },
  {
   "cell_type": "code",
   "execution_count": 35,
   "metadata": {
    "collapsed": false
   },
   "outputs": [
    {
     "name": "stdout",
     "output_type": "stream",
     "text": [
      "2\n"
     ]
    }
   ],
   "source": [
    "for index in mesh.specialSets[\"MinJ_VertexSet\"]:\n",
    "    temperatureField.data[index] = ndp.TBP\n",
    "for index in mesh.specialSets[\"MaxJ_VertexSet\"]:\n",
    "    temperatureField.data[index] = ndp.TSP\n",
    "    \n",
    "iWalls = mesh.specialSets[\"MinI_VertexSet\"] + mesh.specialSets[\"MaxI_VertexSet\"]\n",
    "jWalls = mesh.specialSets[\"MinJ_VertexSet\"] + mesh.specialSets[\"MaxJ_VertexSet\"]\n",
    "tWalls = mesh.specialSets[\"MaxJ_VertexSet\"]\n",
    "bWalls =mesh.specialSets[\"MinJ_VertexSet\"]\n",
    "\n",
    "VelBCs = mesh.specialSets[\"Empty\"]\n",
    "\n",
    "\n",
    "\n",
    "if md.velBcs:\n",
    "    for index in list(tWalls.data):\n",
    "\n",
    "        if (mesh.data[int(index)][0] < (ndp.subzone - 0.05*aspectRatio) and \n",
    "            mesh.data[int(index)][0] > (mesh.minCoord[0] + 0.05*aspectRatio)): #Only push with a portion of teh overiding plate\n",
    "            #print \"first\"\n",
    "            VelBCs.add(int(index))\n",
    "            #Set the plate velocities for the kinematic phase\n",
    "            velocityField.data[index] = [ndp.plate_vel, 0.]\n",
    "        \n",
    "        elif (mesh.data[int(index)][0] > (ndp.subzone + 0.05*aspectRatio) and \n",
    "            mesh.data[int(index)][0] < (mesh.maxCoord[0] - 0.05*aspectRatio)):\n",
    "            #print \"second\"\n",
    "            VelBCs.add(int(index))\n",
    "            #Set the plate velocities for the kinematic phase\n",
    "            velocityField.data[index] = [0., 0.]\n",
    "        \n",
    "\n",
    "#If periodic, we'll fix a the x-vel at a single node - at the bottom left (index 0)\n",
    "Fixed = mesh.specialSets[\"Empty\"]\n",
    "Fixed.add(int(0))        \n",
    "        \n",
    "\n",
    "if periodic[0] == False:\n",
    "    if md.velBcs:\n",
    "        print(1)\n",
    "        freeslipBC = uw.conditions.DirichletCondition( variable      = velocityField, \n",
    "                                               indexSetsPerDof = ( iWalls + VelBCs, jWalls) )\n",
    "    else:\n",
    "        print(2)\n",
    "        freeslipBC = uw.conditions.DirichletCondition( variable      = velocityField, \n",
    "                                               indexSetsPerDof = ( iWalls, jWalls) )\n",
    "\n",
    "\n",
    "\n",
    "\n",
    "\n",
    "\n",
    "if periodic[0] == True:\n",
    "    if md.velBcs:\n",
    "        print(3)\n",
    "        freeslipBC = uw.conditions.DirichletCondition( variable      = velocityField, \n",
    "                                               indexSetsPerDof = ( Fixed + VelBCs , jWalls) )\n",
    "    else:\n",
    "        print(4)\n",
    "        freeslipBC = uw.conditions.DirichletCondition( variable      = velocityField, \n",
    "                                               indexSetsPerDof = ( Fixed, jWalls) )\n",
    "        \n",
    "    \n",
    "    \n",
    "    \n",
    "# also set dirichlet for temp field\n",
    "dirichTempBC = uw.conditions.DirichletCondition(     variable=temperatureField, \n",
    "                                              indexSetsPerDof=(tWalls,) )\n",
    "dT_dy = [0.,0.]\n",
    "\n",
    "# also set dirichlet for temp field\n",
    "neumannTempBC = uw.conditions.NeumannCondition( dT_dy, variable=temperatureField, \n",
    "                                         nodeIndexSet=bWalls)\n",
    "\n"
   ]
  },
  {
   "cell_type": "code",
   "execution_count": null,
   "metadata": {
    "collapsed": false
   },
   "outputs": [],
   "source": []
  },
  {
   "cell_type": "code",
   "execution_count": 36,
   "metadata": {
    "collapsed": false
   },
   "outputs": [],
   "source": [
    "#check VelBCs are where we want them\n",
    "#test = np.zeros(len(tWalls.data))\n",
    "#VelBCs\n",
    "#tWalls.data\n",
    "#tWalls.data[VelBCs.data]\n",
    "#test[np.in1d(tWalls.data, VelBCs.data)] = 1.\n",
    "#test\n",
    "\n"
   ]
  },
  {
   "cell_type": "code",
   "execution_count": null,
   "metadata": {
    "collapsed": false
   },
   "outputs": [],
   "source": []
  },
  {
   "cell_type": "markdown",
   "metadata": {},
   "source": [
    "Swarm setup\n",
    "-----\n"
   ]
  },
  {
   "cell_type": "code",
   "execution_count": 37,
   "metadata": {
    "collapsed": false
   },
   "outputs": [],
   "source": [
    "###########\n",
    "#Material Swarm and variables\n",
    "###########\n",
    "\n",
    "#create material swarm\n",
    "gSwarm = uw.swarm.Swarm(mesh=mesh, particleEscape=True)\n",
    "\n",
    "#create swarm variables\n",
    "yieldingCheck = gSwarm.add_variable( dataType=\"int\", count=1 )\n",
    "#tracerVariable = gSwarm.add_variable( dataType=\"int\", count=1)\n",
    "materialVariable = gSwarm.add_variable( dataType=\"int\", count=1 )\n",
    "ageVariable = gSwarm.add_variable( dataType=\"double\", count=1 )\n",
    "#testVariable = gSwarm.add_variable( dataType=\"float\", count=1 )\n",
    "\n",
    "\n",
    "#these lists  are part of the checkpointing implementation\n",
    "varlist = [materialVariable, yieldingCheck, ageVariable]\n",
    "varnames = ['materialVariable', 'yieldingCheck', 'ageVariable']"
   ]
  },
  {
   "cell_type": "code",
   "execution_count": 38,
   "metadata": {
    "collapsed": false
   },
   "outputs": [],
   "source": [
    "mantleIndex = 0\n",
    "crustIndex = 1\n",
    "harzIndex = 2\n",
    "airIndex = 3\n",
    "\n",
    "\n",
    "\n",
    "if checkpointLoad:\n",
    "    temperatureField.load(os.path.join(checkpointLoadDir, \"temperatureField\" + \".hdf5\"))\n",
    "    pressureField.load(os.path.join(checkpointLoadDir, \"pressureField\" + \".hdf5\"))\n",
    "    velocityField.load(os.path.join(checkpointLoadDir, \"velocityField\" + \".hdf5\"))\n",
    "    gSwarm.load(os.path.join(checkpointLoadDir, \"swarm\" + \".h5\"))\n",
    "    for ix in range(len(varlist)):\n",
    "        varb = varlist[ix]\n",
    "        varb.load(os.path.join(checkpointLoadDir,varnames[ix] + \".h5\"))\n",
    "\n",
    "else:\n",
    "\n",
    "    # Layouts are used to populate the swarm across the whole domain\n",
    "    layout = uw.swarm.layouts.PerCellRandomLayout(swarm=gSwarm, particlesPerCell=ppc)\n",
    "    gSwarm.populate_using_layout( layout=layout ) # Now use it to populate.\n",
    "    # Swarm variables\n",
    "    materialVariable.data[:] = mantleIndex\n",
    "    #tracerVariable.data[:] = 1\n",
    "    yieldingCheck.data[:] = 0\n",
    "    ageVariable.data[:] = -1\n",
    "\n",
    "    #Set initial air and crust materials (allow the graph to take care of lithsophere)\n",
    "    #########\n",
    "    #This initial material setup will be model dependent\n",
    "    #########\n",
    "    for particleID in range(gSwarm.particleCoordinates.data.shape[0]):\n",
    "        if (1. - gSwarm.particleCoordinates.data[particleID][1]) < ndp.MANTLETOCRUST:\n",
    "                 materialVariable.data[particleID] = crustIndex"
   ]
  },
  {
   "cell_type": "markdown",
   "metadata": {
    "collapsed": false
   },
   "source": [
    "###########\n",
    "#This block sets up a checkboard layout of passive tracers\n",
    "###########\n",
    "\n",
    "square_size = 0.1\n",
    "xlist = np.arange(mesh.minCoord[0] + square_size/2., mesh.maxCoord[0] + square_size/2., square_size)\n",
    "xlist = zip(xlist[:], xlist[1:])[::2]\n",
    "ylist = np.arange(mesh.minCoord[1] + square_size/2., mesh.maxCoord[1] + square_size/2., square_size)\n",
    "ylist = zip(ylist[:], ylist[1:])[::2]\n",
    "xops = []\n",
    "for vals in xlist:\n",
    "    xops.append( (operator.and_(   operator.gt(coordinate[0],vals[0]),   operator.lt(coordinate[0],vals[1])  ),0.) )\n",
    "xops.append((True,1.))\n",
    "\n",
    "testfunc = fn.branching.conditional(xops) \n",
    "\n",
    "yops = []\n",
    "for vals in ylist:\n",
    "    yops.append( (operator.and_(   operator.gt(coordinate[1],vals[0]),   operator.lt(coordinate[1],vals[1])  ),0.) )\n",
    "yops.append((True,testfunc))\n",
    "\n",
    "testfunc2 = fn.branching.conditional(yops) \n",
    "tracerVariable.data[:] = testfunc.evaluate(gSwarm)\n",
    "tracerVariable.data[:] = testfunc2.evaluate(gSwarm)"
   ]
  },
  {
   "cell_type": "code",
   "execution_count": null,
   "metadata": {
    "collapsed": false
   },
   "outputs": [],
   "source": []
  },
  {
   "cell_type": "code",
   "execution_count": 39,
   "metadata": {
    "collapsed": false
   },
   "outputs": [],
   "source": [
    "##############\n",
    "#Set the initial particle age for particles above the critical depth; \n",
    "#only material older than crustageCond will be transformed to crust / harzburgite\n",
    "##############\n",
    "\n",
    "ageVariable.data[:] = 0. #start with all zero\n",
    "ageVariable.data[:] = ageFn.evaluate(gSwarm)/sf.SR\n",
    "crustageCond = 2e6*(3600.*365.*24.)/sf.SR #set inital age above critical depth. (x...Ma)\n",
    "\n",
    "\n",
    "\n",
    "ageConditions = [ (depthFn < ndp.AGETRACKDEPTH, ageVariable),  #In the main loop we add ageVariable + dt here\n",
    "                  (True, 0.) ]\n",
    "                 \n",
    "#apply conditional \n",
    "ageVariable.data[:] = fn.branching.conditional( ageConditions ).evaluate(gSwarm)\n",
    "\n",
    "ageDT = 0.#this is used in the main loop for short term time increments"
   ]
  },
  {
   "cell_type": "code",
   "execution_count": 40,
   "metadata": {
    "collapsed": false
   },
   "outputs": [],
   "source": [
    "#fig= glucifer.Figure()\n",
    "#fig.append( glucifer.objects.Points(gSwarm,ageVariable))\n",
    "#fig.append( glucifer.objects.Points(gSwarm, viscosityMapFn, logScale=True, valueRange =[1e-3,1e5]))\n",
    "\n",
    "\n",
    "#fig.show()"
   ]
  },
  {
   "cell_type": "code",
   "execution_count": 41,
   "metadata": {
    "collapsed": false
   },
   "outputs": [],
   "source": [
    "##############\n",
    "#Here we set up a directed graph object that we we use to control the transformation from one material type to another\n",
    "##############\n",
    "\n",
    "#All depth conditions are given as (km/D) where D is the length scale,\n",
    "#note that 'model depths' are used, e.g. 1-z, where z is the vertical Underworld coordinate\n",
    "#All temp conditions are in dimensionless temp. [0. - 1.]\n",
    "\n",
    "#Need a list of all material indexes (safer in parallel)\n",
    "material_list = [0,1,2,3]\n",
    "\n",
    "if not checkpointLoad:\n",
    "    materialVariable.data[:] = 0 #Initialize to zero \n",
    "\n",
    "#Setup the graph object\n",
    "DG = material_graph.MatGraph()\n",
    "\n",
    "#Important: First thing to do is to add all the material types to the graph (i.e add nodes)\n",
    "DG.add_nodes_from(material_list)\n",
    "\n",
    "#Now set the conditions for transformations\n",
    "\n",
    "hs = 2e3/dp.LS  #add some hysteresis to the depths of transition\n",
    "\n",
    "#... to mantle\n",
    "DG.add_transition((crustIndex,mantleIndex), depthFn, operator.gt, ndp.CRUSTTOMANTLE + hs)\n",
    "DG.add_transition((harzIndex,mantleIndex), depthFn, operator.gt, ndp.CRUSTTOMANTLE + hs)\n",
    "DG.add_transition((airIndex,mantleIndex), depthFn, operator.gt, ndp.TOPOHEIGHT + hs)\n",
    "\n",
    "#... to crust\n",
    "DG.add_transition((mantleIndex,crustIndex), depthFn, operator.lt, ndp.MANTLETOCRUST)\n",
    "DG.add_transition((mantleIndex,crustIndex), xFn, operator.lt, ndp.subzone + 4.*ndp.MANTLETOCRUST) #No crust on the upper plate\n",
    "DG.add_transition((mantleIndex,crustIndex), ageVariable, operator.gt, crustageCond)\n",
    "\n",
    "\n",
    "DG.add_transition((harzIndex,crustIndex), depthFn, operator.lt, ndp.MANTLETOCRUST)\n",
    "DG.add_transition((harzIndex,crustIndex), xFn, operator.lt, ndp.subzone + 4.*ndp.MANTLETOCRUST) #This one sets no crust on the upper plate\n",
    "DG.add_transition((harzIndex,crustIndex), ageVariable, operator.gt, crustageCond)\n",
    "\n",
    "#... to Harzbugite\n",
    "DG.add_transition((mantleIndex,harzIndex), depthFn, operator.lt, ndp.HARZBURGDEPTH)\n",
    "DG.add_transition((mantleIndex,harzIndex), depthFn, operator.gt, ndp.MANTLETOCRUST)\n",
    "DG.add_transition((mantleIndex,harzIndex), ageVariable, operator.gt, crustageCond) #Note we can mix functions and swarm variabls\n",
    "\n",
    "\n",
    "\n",
    "#... to air\n",
    "DG.add_transition((mantleIndex,airIndex), depthFn, operator.lt,0.)\n",
    "DG.add_transition((crustIndex,airIndex), depthFn, operator.lt, 0. )\n",
    "DG.add_transition((harzIndex,airIndex), depthFn, operator.lt, 0. )\n"
   ]
  },
  {
   "cell_type": "code",
   "execution_count": 42,
   "metadata": {
    "collapsed": false
   },
   "outputs": [],
   "source": [
    "#CRUSTTOMANTLE, HARZBURGDEPTH, 0. + 7.*MANTLETOCRUST"
   ]
  },
  {
   "cell_type": "code",
   "execution_count": 43,
   "metadata": {
    "collapsed": false
   },
   "outputs": [],
   "source": [
    "#gSwarm.particleCoordinates.data[particleID][1]"
   ]
  },
  {
   "cell_type": "code",
   "execution_count": 44,
   "metadata": {
    "collapsed": false
   },
   "outputs": [],
   "source": [
    "##############\n",
    "#For the slab_IC, we'll also add a crustal weak zone following the dipping perturbation\n",
    "##############\n",
    "\n",
    "if checkpointLoad != True:\n",
    "    if not md.symmetricIcs:\n",
    "        for particleID in range(gSwarm.particleCoordinates.data.shape[0]):\n",
    "            if gSwarm.particleCoordinates.data[particleID][1] < 0.:\n",
    "                materialVariable.data[particleID] = airIndex\n",
    "                \n",
    "            elif (\n",
    "                Oc.evaluate(list(gSwarm.particleCoordinates.data[particleID])) and\n",
    "                Tri.evaluate(list(gSwarm.particleCoordinates.data[particleID])) and\n",
    "                gSwarm.particleCoordinates.data[particleID][1] > (MAXY - ndp.maxDepth) and\n",
    "                Cc.evaluate(list(gSwarm.particleCoordinates.data[particleID])) == False\n",
    "                \n",
    "                ):\n",
    "                materialVariable.data[particleID] = crustIndex\n",
    "                \n",
    "            elif (\n",
    "                Oc.evaluate(list(gSwarm.particleCoordinates.data[particleID])) and\n",
    "                Tri.evaluate(list(gSwarm.particleCoordinates.data[particleID])) and\n",
    "                gSwarm.particleCoordinates.data[particleID][1] > (MAXY - ndp.maxDepth) and\n",
    "                Hc.evaluate(list(gSwarm.particleCoordinates.data[particleID])) == False\n",
    "                \n",
    "                ):\n",
    "                materialVariable.data[particleID] = harzIndex"
   ]
  },
  {
   "cell_type": "code",
   "execution_count": 45,
   "metadata": {
    "collapsed": false
   },
   "outputs": [],
   "source": [
    "##############\n",
    "#This is how we use the material graph object to test / apply material transformations\n",
    "##############\n",
    "DG.build_condition_list(materialVariable)\n",
    "\n",
    "for i in range(2): #Need to go through a number of times\n",
    "    materialVariable.data[:] = fn.branching.conditional(DG.condition_list).evaluate(gSwarm)"
   ]
  },
  {
   "cell_type": "code",
   "execution_count": 46,
   "metadata": {
    "collapsed": false
   },
   "outputs": [],
   "source": [
    "#maxDepth"
   ]
  },
  {
   "cell_type": "code",
   "execution_count": 47,
   "metadata": {
    "collapsed": false
   },
   "outputs": [],
   "source": [
    "#fig2= glucifer.Figure()\n",
    "#fig2.append( glucifer.objects.Points(gSwarm,materialVariable))\n",
    "#fig2.append( glucifer.objects.Surface(mesh, depthFn))\n",
    "\n",
    "#fig2.show()\n",
    "#fig2.save_database('test.gldb')"
   ]
  },
  {
   "cell_type": "markdown",
   "metadata": {
    "collapsed": false
   },
   "source": [
    "## Fault stuff\n",
    "\n"
   ]
  },
  {
   "cell_type": "code",
   "execution_count": 48,
   "metadata": {
    "collapsed": true
   },
   "outputs": [],
   "source": [
    "import marker2D"
   ]
  },
  {
   "cell_type": "code",
   "execution_count": 49,
   "metadata": {
    "collapsed": true
   },
   "outputs": [],
   "source": [
    "def update_swarm_from_faults(faults, proximityVariable, normalVectorVariable, signedDistanceVariable):\n",
    "    \"\"\"\n",
    "    Compute fault attributes from the marker-line objects in the 'faults' list.\n",
    "    Specifically:\n",
    "    \n",
    "      - proximityVariable carries information about which fault each swarm particle is close to (0 means none)\n",
    "      - normalVectorVariable maps the orientation of the fault to nearby swarm particles\n",
    "      - signedDistanceVariable carries the distance (positive means 'inside')  \n",
    "      \n",
    "      Unchecked error: if these variables are from different swarms \n",
    "      \n",
    "    \"\"\"\n",
    "    \n",
    "    for fault_seg in faults:\n",
    "\n",
    "        swarm = proximityVariable.swarm\n",
    "        \n",
    "        f, nz = fault_seg.compute_marker_proximity(swarm.particleCoordinates.data)    \n",
    "        proximityVariable.data[nz] = f[nz]\n",
    "\n",
    "        dv, nzv = fault_seg.compute_normals(swarm.particleCoordinates.data)\n",
    "        normalVectorVariable.data[nzv] = dv[nzv]\n",
    "\n",
    "        sd, dnz = fault_seg.compute_signed_distance(swarm.particleCoordinates.data)\n",
    "        signedDistanceVariable.data[dnz] = sd[dnz]\n",
    "    \n",
    "    return\n",
    "\n",
    "\n",
    "def update_swarm_from_line(fault, signedDistanceVariable):\n",
    "    \"\"\"\n",
    "    Compute fault attributes from the marker-line objects in the 'faults' list.\n",
    "    Specifically:\n",
    "    \n",
    "      - proximityVariable carries information about which fault each swarm particle is close to (0 means none)\n",
    "      - normalVectorVariable maps the orientation of the fault to nearby swarm particles\n",
    "      - signedDistanceVariable carries the distance (positive means 'inside')  \n",
    "      \n",
    "      Unchecked error: if these variables are from different swarms \n",
    "      \n",
    "    \"\"\"\n",
    "        \n",
    "    sd, dnz = fault.compute_signed_distance(gSwarm.particleCoordinates.data)\n",
    "    signedDistanceVariable.data[dnz] = sd[dnz]\n",
    "    \n",
    "    return\n",
    "\n",
    "\n",
    "def mask_materials(fault, material, materialVariable, proximityVariable, normalVectorVariable, signedDistanceVariable):\n",
    "\n",
    "    \"\"\"\n",
    "    set the key fault-related swarm variabels to zero, based on material typr\n",
    "    \"\"\"\n",
    "    \n",
    "    fptsMask1 = (materialVariable.data[:,0] != material)\n",
    "    fptsMask2 = (proximityVariable.data[:,0] == fault.ID )\n",
    "\n",
    "    fptsMaskOut = fptsMask1 & fptsMask2\n",
    "\n",
    "    normalVectorVariable.data[fptsMaskOut,:] = [0.0,0.0]\n",
    "    proximityVariable.data[fptsMaskOut] = 0\n",
    "    signedDistanceVariable.data[fptsMaskOut] = 0.0\n",
    "    \n",
    "    \n",
    "def fault_strainrate_fns(fault_list, velocityField, faultNormalVariable, proximityproVariable):\n",
    "\n",
    "    ## This is a quick / short cut way to find the resolved stress components.\n",
    "    \n",
    "    strainRateFn = fn.tensor.symmetric( velocityField.fn_gradient )\n",
    "\n",
    "    \n",
    "    _edotn_SFn = (        directorVector[0]**2 * strainRateFn[0]  + \n",
    "                    2.0 * directorVector[1]    * strainRateFn[2] * directorVector[0] + \n",
    "                          directorVector[1]**2 * strainRateFn[1]                          \n",
    "                ) \n",
    "\n",
    "    # any non-zero proximity requires the computation of the above\n",
    "    \n",
    "    _edotn_SFn_Map    = { 0: 0.0 }\n",
    "    for f in fault_list:\n",
    "        _edotn_SFn_Map[f.ID] =  _edotn_SFn\n",
    "\n",
    "\n",
    "\n",
    "   \n",
    "    _edots_SFn = (  directorVector[0] *  directorVector[1] *(strainRateFn[1] - strainRateFn[0]) +\n",
    "                    strainRateFn[2] * (directorVector[0]**2 - directorVector[1]**2)\n",
    "                 )\n",
    "    \n",
    "  \n",
    "    _edots_SFn_Map = { 0: 1.0e-15 }\n",
    "    \n",
    "    for f in fault_list:\n",
    "        _edots_SFn_Map[f.ID] =  _edots_SFn\n",
    "        \n",
    "        \n",
    "    #Finally, map the resolved strain rate to the proximity variable, \n",
    "    #which also makes resolved strain rate zero whereever proximity variable is zero \n",
    "\n",
    "\n",
    "    edotn_SFn =     fn.branching.map( fn_key = proximityVariable, \n",
    "                                      mapping = _edotn_SFn_Map)\n",
    "\n",
    "\n",
    "    edots_SFn =     fn.branching.map( fn_key = proximityVariable, \n",
    "                                      mapping = _edots_SFn_Map )\n",
    "\n",
    "    \n",
    "    return edotn_SFn, edots_SFn\n",
    "\n",
    "\n",
    "## Time update\n",
    "\n",
    "def faults_advance_in_time(faults,proximityVariable, directorVector, signedDistanceVariable, materialVariable, mmask):\n",
    "    for f in faults:\n",
    "        f.advection(dt)\n",
    "\n",
    "\n",
    "    update_swarm_from_faults(faults, proximityVariable, directorVector, signedDistanceVariable)\n",
    "    mask_materials(materialV, materialVariable, proximityVariable, directorVector, signedDistanceVariable)"
   ]
  },
  {
   "cell_type": "code",
   "execution_count": 50,
   "metadata": {
    "collapsed": false
   },
   "outputs": [
    {
     "data": {
      "text/plain": [
       "81"
      ]
     },
     "execution_count": 50,
     "metadata": {},
     "output_type": "execute_result"
    }
   ],
   "source": [
    "3**4"
   ]
  },
  {
   "cell_type": "code",
   "execution_count": 51,
   "metadata": {
    "collapsed": true
   },
   "outputs": [],
   "source": [
    "introPoint = ndp.subzone - abs(ndp.subzone - ndp.lRidge)/2. #half way between ridge and Sz\n",
    "fthickness = ndp.MANTLETOCRUST/2. #initiale fault at half-depth of crust\n",
    "nfault = 200\n",
    "faultCoords =np.zeros((nfault, 2))\n",
    "\n",
    "reducedRocM = ndp.roc  - fthickness\n",
    "xlimslab = reducedRocM*math.cos(math.pi*(90. - dp.theta)/180)\n",
    "faultCoords[:, 0] = np.linspace(introPoint, ndp.subzone + xlimslab, nfault) #note SZ location is hardcoded here \n",
    "for index, xval in np.ndenumerate(faultCoords[:,0]):\n",
    "    #print index, xval\n",
    "    #swarmCoords[index[0], 1] = 1. - isodepthFn.evaluate((xval, 0.)) #This bit for the plate \n",
    "    if  xval < ndp.subzone:\n",
    "        faultCoords[index[0], 1] = 1. - fthickness #This bit for the plate \n",
    "        \n",
    "    else:\n",
    "        faultCoords[index[0], 1] = (1. - (fthickness) - (reducedRocM - ( math.sqrt((reducedRocM**2 - (xval-ndp.subzone)**2)))))\n",
    "        \n",
    "    \n",
    "faultCoords = faultCoords[faultCoords[:,1] > (1. - ndp.maxDepth)] #kill any deeper than cutoff\n",
    "\n",
    "\n",
    "#surface tracer:\n",
    "\n",
    "surfaceCoords =np.ones((nfault, 2))*1.\n",
    "surfaceCoords[:,0] = np.linspace(MINX, MAXX, nfault)"
   ]
  },
  {
   "cell_type": "code",
   "execution_count": 52,
   "metadata": {
    "collapsed": false
   },
   "outputs": [],
   "source": [
    "#from unsupported.interfaces import markerLine2D\n",
    "faults = []\n",
    "fault_seg  = marker2D.markerLine2D(mesh, velocityField, faultCoords[:, 0], faultCoords[:, 1], fthickness, 0.0, 0.0, crustIndex)\n",
    "faults.append(fault_seg)\n",
    "\n",
    "fault_seg  = marker2D.markerLine2D(mesh, velocityField, surfaceCoords[:, 0], surfaceCoords[:, 1], ndp.StALS, 0.0, 0.0, airIndex)\n",
    "faults.append(fault_seg)\n",
    "\n",
    "\n",
    "#Add the necessary swarm variables\n",
    "\n",
    "proximityVariable      = gSwarm.add_variable( dataType=\"int\", count=1 )\n",
    "signedDistanceVariable = gSwarm.add_variable( dataType=\"float\", count=1 )\n",
    "directorVector   = gSwarm.add_variable( dataType=\"double\", count=2)\n",
    "\n",
    "directorVector.data[:,:] = 0.0\n",
    "proximityVariable.data[:] = 0\n",
    "signedDistanceVariable.data[:] = 0.0\n",
    "\n",
    "\n",
    "\n",
    "# Call the Fault helper functions to initialize this info on the main material swarm\n",
    "\n",
    "    \n",
    "    \n",
    "update_swarm_from_faults(faults[1:], proximityVariable, directorVector, signedDistanceVariable)\n",
    "mask_materials(faults[1], airIndex, materialVariable, proximityVariable, directorVector, signedDistanceVariable)\n",
    "\n",
    "\n",
    "update_swarm_from_faults(faults[0:-1], proximityVariable, directorVector, signedDistanceVariable)\n",
    "mask_materials(faults[0], crustIndex, materialVariable, proximityVariable, directorVector, signedDistanceVariable)\n",
    "\n",
    "#Also switch off proximity beneath ndp.CRUSTVISCUTOFF depth\n",
    "proximityVariable.data[gSwarm.particleCoordinates.data[:,1]  < (1. - ndp.CRUSTVISCUTOFF)] = 0. \n",
    "\n",
    "\n",
    "# These should be general enough not to need updating when the faults move etc..\n",
    "#ie they should update as the fields/functions/swarm variables they are built on update\n",
    "edotn_SFn, edots_SFn = fault_strainrate_fns(faults, velocityField, directorVector, proximityVariable)"
   ]
  },
  {
   "cell_type": "code",
   "execution_count": null,
   "metadata": {
    "collapsed": false
   },
   "outputs": [],
   "source": []
  },
  {
   "cell_type": "code",
   "execution_count": 53,
   "metadata": {
    "collapsed": false
   },
   "outputs": [],
   "source": [
    "## Take a look at the locations of the materials\n",
    "\n",
    "\n",
    "#Note we only use this mesh director for visualizing the directorVector (vector-on-swarm viewing not suppoted yet)\n",
    "meshDirector = uw.mesh.MeshVariable( mesh, 2 )\n",
    "projectDirector = uw.utils.MeshVariable_Projection( meshDirector, directorVector, type=1 )\n",
    "projectDirector.solve()    \n",
    "\n",
    "figMaterials = glucifer.Figure( figsize=(1200,400), boundingBox=((-2.0, -0.0, 0.0), (2.0, 1.0, 0.0)) )\n",
    "\n",
    "#Plot swarm associated with each fault\n",
    "for f in faults:\n",
    "    figMaterials.append( glucifer.objects.Points(f.swarm, colours=\"Black Black\", pointSize=2.0, colourBar=False) )\n",
    "\n",
    "\n",
    "#plot mesh director viz. guy\n",
    "figMaterials.append( glucifer.objects.VectorArrows(mesh, meshDirector, scaling=.08, \n",
    "                                               resolutionI=100, resolutionJ=20, opacity=0.25) )\n",
    "\n",
    "\n",
    "#Proximity variable - this is the colour\n",
    "figMaterials.append( glucifer.objects.Points(gSwarm, proximityVariable, \n",
    "                                             pointSize=5.0,  opacity=0.75) )\n",
    "\n",
    "\n",
    "#signedDistanceVariable - this variable goes to zero where the proximity cutoff is\n",
    "#note that it's signed...faults have a direction\n",
    "#figMaterials.append( glucifer.objects.Points(gSwarm, signedDistanceVariable, \n",
    "#                                             pointSize=2.0))\n",
    "\n",
    "#Add mesh\n",
    "#figMaterials.append( glucifer.objects.Mesh(mesh, opacity=0.1) )\n",
    "\n",
    "#figMaterials.show()\n",
    "#figMaterials.save_database('test.gldb')"
   ]
  },
  {
   "cell_type": "markdown",
   "metadata": {},
   "source": [
    "Rheology\n",
    "-----\n",
    "\n"
   ]
  },
  {
   "cell_type": "code",
   "execution_count": 54,
   "metadata": {
    "collapsed": false
   },
   "outputs": [],
   "source": [
    "##############\n",
    "#Set up any functions required by the rheology\n",
    "##############\n",
    "strainRate_2ndInvariant = fn.tensor.second_invariant( \n",
    "                            fn.tensor.symmetric( \n",
    "                            velocityField.fn_gradient ))\n",
    "\n",
    "def safe_visc(func, viscmin=ndp.eta_min, viscmax=ndp.eta_max):\n",
    "    return fn.misc.max(viscmin, fn.misc.min(viscmax, func))"
   ]
  },
  {
   "cell_type": "code",
   "execution_count": 55,
   "metadata": {
    "collapsed": true
   },
   "outputs": [],
   "source": [
    "#strainRate_2ndInvariant = fn.misc.constant(ndp.SR) #dummy fucntion to check which mechanisms are at active are reference strain rate"
   ]
  },
  {
   "cell_type": "code",
   "execution_count": 56,
   "metadata": {
    "collapsed": false
   },
   "outputs": [],
   "source": [
    "#ndp.crust_cohesion_fac"
   ]
  },
  {
   "cell_type": "code",
   "execution_count": 57,
   "metadata": {
    "collapsed": false
   },
   "outputs": [],
   "source": [
    "############\n",
    "#Rheology: create UW2 functions for all viscous mechanisms\n",
    "#############\n",
    "\n",
    "omega = fn.misc.constant(1.) #this function can hold any arbitary viscosity modifications \n",
    "\n",
    "\n",
    "##Diffusion Creep\n",
    "diffusion = fn.misc.min(ndp.eta_max, fn.math.exp(-1*ndp.Edf + ndp.Edf / (temperatureField + 1e-8)))\n",
    "\n",
    "\n",
    "\n",
    "##Define the Plasticity\n",
    "ys =  ndp.cm + (depthFn*ndp.fcmd)\n",
    "ysMax = 10e4*1e6*sf.stress\n",
    "ysf = fn.misc.min(ys, ysMax)\n",
    "yielding = ysf/(2.*(strainRate_2ndInvariant))\n",
    "\n",
    "##Crust rheology\n",
    "#crustys =  ndp.cohesion*ndp.crust_cohesion_fac + (depthFn*ndp.fcd*ndp.crust_fc_fac)\n",
    "crustys =  ndp.cc + (depthFn*ndp.fccd) #only weakened cohesion is discussed, not fc\n",
    "crustvisc = crustys/(2.*(strainRate_2ndInvariant)) \n",
    "\n",
    "\n",
    "##Interface rheology\n",
    "interfaceys =  ndp.ci + (depthFn*ndp.fcid) #only weakened cohesion is discussed, not fc\n",
    "interfacevisc = interfaceys/(2.*(strainRate_2ndInvariant))\n",
    "\n"
   ]
  },
  {
   "cell_type": "code",
   "execution_count": 58,
   "metadata": {
    "collapsed": false
   },
   "outputs": [],
   "source": [
    "############\n",
    "#Rheology: combine viscous mechanisms in various ways \n",
    "#harmonic: harmonic average of all mechanims\n",
    "#min: minimum effective viscosity of the mechanims\n",
    "#mixed: takes the minimum of the harmonic and the plastic effective viscosity\n",
    "#############\n",
    "\n",
    "#linear rheology \n",
    "linearviscosityFn = safe_visc(diffusion)\n",
    "\n",
    "\n",
    "\n",
    "interfaceCond = operator.and_((depthFn < ndp.CRUSTVISCUTOFF), (depthFn > ndp.MANTLETOCRUST))    \n",
    "\n",
    "\n",
    "#combined rheology    \n",
    "finalviscosityFn  = fn.branching.conditional([(depthFn < ndp.LOWMANTLEDEPTH, safe_visc(fn.misc.min(diffusion, yielding))),\n",
    "                                  (True, safe_visc(safe_visc(diffusion*ndp.low_mantle_visc_fac)))])\n",
    "\n",
    "#crust rheology    \n",
    "#finalcrustviscosityFn = safe_visc(fn.misc.min(ndp.eta_max_crust, \n",
    "#                                              crustyielding)) #cohesion weakening factor also applies to eta_0\n",
    "\n",
    "crustviscosityFn = safe_visc(fn.misc.min(linearviscosityFn, crustvisc), ndp.eta_max_crust)\n",
    "interfaceviscosityFn = safe_visc(fn.misc.min(linearviscosityFn, interfacevisc), ndp.eta_max_interface)\n",
    "\n",
    "if ndp.eta_max_crust == ndp.eta_min_crust: #If these are equal, set to constant visc. \n",
    "    crustviscosityFn = fn.misc.constant(ndp.eta_min_crust)\n",
    "    \n",
    "if ndp.eta_max_interface == ndp.eta_min_interface: #If these are equal, set to constant visc. \n",
    "    interfaceviscosityFn = fn.misc.constant(ndp.eta_min_interface)\n",
    "    \n",
    "\n",
    "\n",
    "finalcrustviscosityFn  = fn.branching.conditional([(depthFn < ndp.MANTLETOCRUST, crustviscosityFn),\n",
    "                                                     (interfaceCond, interfaceviscosityFn), #\n",
    "                                                     (True, finalviscosityFn)])"
   ]
  },
  {
   "cell_type": "markdown",
   "metadata": {},
   "source": [
    "Stokes system setup\n",
    "-----\n"
   ]
  },
  {
   "cell_type": "code",
   "execution_count": 59,
   "metadata": {
    "collapsed": true
   },
   "outputs": [],
   "source": [
    "buoyancyFn =  ndp.RA*temperatureField\n"
   ]
  },
  {
   "cell_type": "code",
   "execution_count": 60,
   "metadata": {
    "collapsed": false
   },
   "outputs": [],
   "source": [
    "densityMapFn = fn.branching.map( fn_key = materialVariable,\n",
    "                         mapping = {airIndex:ndp.StRA,\n",
    "                                    crustIndex:buoyancyFn, \n",
    "                                    mantleIndex:buoyancyFn,\n",
    "                                    harzIndex:buoyancyFn} )"
   ]
  },
  {
   "cell_type": "code",
   "execution_count": 61,
   "metadata": {
    "collapsed": true
   },
   "outputs": [],
   "source": [
    "\n",
    "# Define our vertical unit vector using a python tuple (this will be automatically converted to a function).\n",
    "gravity = ( 0.0, 1.0 )\n",
    "\n",
    "# Now create a buoyancy force vector using the density and the vertical unit vector. \n",
    "buoyancyFn = densityMapFn * gravity"
   ]
  },
  {
   "cell_type": "code",
   "execution_count": 62,
   "metadata": {
    "collapsed": true
   },
   "outputs": [],
   "source": [
    "stokesPIC = uw.systems.Stokes(velocityField=velocityField, \n",
    "                              pressureField=pressureField,\n",
    "                              conditions=[freeslipBC,],\n",
    "                              fn_viscosity=linearviscosityFn, \n",
    "                              fn_bodyforce=buoyancyFn )"
   ]
  },
  {
   "cell_type": "code",
   "execution_count": 63,
   "metadata": {
    "collapsed": true
   },
   "outputs": [],
   "source": [
    "solver = uw.systems.Solver(stokesPIC)\n",
    "if not checkpointLoad:\n",
    "    solver.solve() #A solve on the linear visocisty is unhelpful unless we're starting from scratch"
   ]
  },
  {
   "cell_type": "code",
   "execution_count": null,
   "metadata": {
    "collapsed": false
   },
   "outputs": [],
   "source": [
    "\n"
   ]
  },
  {
   "cell_type": "code",
   "execution_count": 64,
   "metadata": {
    "collapsed": false
   },
   "outputs": [],
   "source": [
    "viscosityMapFn1 = fn.branching.map( fn_key = materialVariable,\n",
    "                         mapping = {crustIndex:finalcrustviscosityFn,\n",
    "                                    mantleIndex:finalviscosityFn,\n",
    "                                    harzIndex:finalviscosityFn,\n",
    "                                    airIndex:ndp.Steta_n} )\n",
    "\n",
    "\n",
    "delta_Steata2 = ndp.Steta_n - ndp.Steta_s\n",
    "delta_eta_fault = 0.\n",
    "\n",
    "if md.subductionFault:  \n",
    "    if ndp.eta_min_fault == ndp.eta_min_fault:#Transverse rheology is isoviscous\n",
    "        delta_eta_fault = fn.misc.min(0.999, fn.misc.max (0.,   ndp.eta_min_crust - ndp.eta_min_fault))       \n",
    "        \n",
    "    else:\n",
    "        #Transverse viscosity is related the Mohr-Coulomb criterion\n",
    "        delta_eta_fault = fn.misc.min(0.999, fn.misc.max (0., \n",
    "        viscosityMapFn1 - ((edotn_SFn*viscosityMapFn1 + ndp.fcfd * pressureField)  + ndp.cf)/edots_SFn))\n",
    "   "
   ]
  },
  {
   "cell_type": "code",
   "execution_count": 65,
   "metadata": {
    "collapsed": false
   },
   "outputs": [
    {
     "data": {
      "text/plain": [
       "(array([ 0.]), 0.0)"
      ]
     },
     "execution_count": 65,
     "metadata": {},
     "output_type": "execute_result"
    }
   ],
   "source": [
    "np.unique(delta_eta_fault.evaluate(gSwarm)), delta_Steata2"
   ]
  },
  {
   "cell_type": "code",
   "execution_count": 66,
   "metadata": {
    "collapsed": false
   },
   "outputs": [],
   "source": [
    "# This one maps to my fault-proximity variable (which also picks only materialV)\n",
    "viscosityMapFn2    = { 0: 0.0, \n",
    "                           1: delta_eta_fault, \n",
    "                           3: delta_Steata2\n",
    "                       }\n",
    "    \n",
    "\n",
    "viscosityMapFn2  = fn.branching.map( fn_key = proximityVariable, \n",
    "                                           mapping = viscosityMapFn2)"
   ]
  },
  {
   "cell_type": "code",
   "execution_count": 67,
   "metadata": {
    "collapsed": false
   },
   "outputs": [],
   "source": [
    "#orientation = -1.*90. * math.pi / 180.0  #vertical\n",
    "#math.cos(orientation), math.sin(orientation)"
   ]
  },
  {
   "cell_type": "code",
   "execution_count": 68,
   "metadata": {
    "collapsed": false
   },
   "outputs": [],
   "source": [
    "#stickyAir"
   ]
  },
  {
   "cell_type": "code",
   "execution_count": 69,
   "metadata": {
    "collapsed": false
   },
   "outputs": [],
   "source": [
    "#Add the non-linear viscosity to the Stokes system\n",
    "stokesPIC.fn_viscosity = viscosityMapFn1\n",
    "\n",
    "if md.stickyAir or md.subductionFault:\n",
    "    stokesPIC.fn_viscosity2 = viscosityMapFn2\n",
    "    stokesPIC._fn_director   = directorVector\n"
   ]
  },
  {
   "cell_type": "code",
   "execution_count": 70,
   "metadata": {
    "collapsed": false
   },
   "outputs": [
    {
     "name": "stdout",
     "output_type": "stream",
     "text": [
      "\u001b[1;35m\n",
      " \n",
      "Pressure iterations:   3\n",
      "Velocity iterations:   1 (presolve)      \n",
      "Velocity iterations:  -1 (pressure solve)\n",
      "Velocity iterations:   1 (backsolve)     \n",
      "Velocity iterations:   1 (total solve)   \n",
      " \n",
      "SCR RHS  solve time: 3.4015e-01\n",
      "Pressure solve time: 3.0639e-02\n",
      "Velocity solve time: 3.3840e-01 (backsolve)\n",
      "Total solve time   : 7.7271e-01\n",
      " \n",
      "Velocity solution min/max: 0.0000e+00/0.0000e+00\n",
      "Pressure solution min/max: 0.0000e+00/0.0000e+00\n",
      " \n",
      "\u001b[00m\n"
     ]
    }
   ],
   "source": [
    "solver.set_inner_method(\"mumps\")\n",
    "solver.options.scr.ksp_type=\"cg\"\n",
    "solver.set_penalty(1.0e7)\n",
    "solver.options.scr.ksp_rtol = 1.0e-4\n",
    "solver.solve(nonLinearIterate=True)\n",
    "solver.print_stats()"
   ]
  },
  {
   "cell_type": "code",
   "execution_count": 71,
   "metadata": {
    "collapsed": false
   },
   "outputs": [],
   "source": [
    "#Check which particles are yielding\n",
    "#yieldingCheck.data[:] = 0\n",
    "\n",
    "#yieldconditions = [ ( finalviscosityFn < Visc , 1), \n",
    "#               ( True                                           , 0) ]\n",
    "\n",
    "# use the branching conditional function to set each particle's index\n",
    "#yieldingCheck.data[:] = fn.branching.conditional( yieldconditions ).evaluate(gSwarm)"
   ]
  },
  {
   "cell_type": "code",
   "execution_count": 72,
   "metadata": {
    "collapsed": false
   },
   "outputs": [],
   "source": [
    "#velocityFieldIso       = uw.mesh.MeshVariable( mesh=mesh,         nodeDofCount=2 )\n",
    "#velocityFieldIso.data[:] = velocityField.data.copy()\n",
    "\n",
    "\n",
    "\n",
    "#strainRate_2ndInvariantIso = fn.tensor.second_invariant( \n",
    "#                            fn.tensor.symmetric( \n",
    "#                            velocityFieldIso.fn_gradient ))"
   ]
  },
  {
   "cell_type": "code",
   "execution_count": 73,
   "metadata": {
    "collapsed": false,
    "scrolled": true
   },
   "outputs": [
    {
     "data": {
      "text/html": [
       "<img src='data:image/png;base64,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'>"
      ],
      "text/plain": [
       "<IPython.core.display.HTML object>"
      ]
     },
     "metadata": {},
     "output_type": "display_data"
    }
   ],
   "source": [
    "fig= glucifer.Figure()\n",
    "fig.append( glucifer.objects.Points(gSwarm, strainRate_2ndInvariant))\n",
    "#fig.append( glucifer.objects.VectorArrows(mesh,velocityField -velocityFieldIso))\n",
    "\n",
    "#fig.append( glucifer.objects.Surface(mesh,ndflm, logScale=True))\n",
    "fig.show()"
   ]
  },
  {
   "cell_type": "code",
   "execution_count": 74,
   "metadata": {
    "collapsed": false
   },
   "outputs": [
    {
     "data": {
      "text/plain": [
       "'test.gldb'"
      ]
     },
     "execution_count": 74,
     "metadata": {},
     "output_type": "execute_result"
    }
   ],
   "source": [
    "fig.save_database('test.gldb')"
   ]
  },
  {
   "cell_type": "markdown",
   "metadata": {},
   "source": [
    "Advection-diffusion System setup\n",
    "-----"
   ]
  },
  {
   "cell_type": "code",
   "execution_count": 75,
   "metadata": {
    "collapsed": false
   },
   "outputs": [],
   "source": [
    "advDiff = uw.systems.AdvectionDiffusion( phiField       = temperatureField, \n",
    "                                         phiDotField    = temperatureDotField, \n",
    "                                         velocityField  = velocityField,\n",
    "                                         fn_sourceTerm    = 0.0,\n",
    "                                         fn_diffusivity = 1.0, \n",
    "                                         #conditions     = [neumannTempBC, dirichTempBC] )\n",
    "                                         conditions     = [ dirichTempBC] )\n",
    "\n",
    "passiveadvector = uw.systems.SwarmAdvector( swarm         = gSwarm, \n",
    "                                     velocityField = velocityField, \n",
    "                                     order         = 1)"
   ]
  },
  {
   "cell_type": "code",
   "execution_count": 76,
   "metadata": {
    "collapsed": true
   },
   "outputs": [],
   "source": [
    "population_control = uw.swarm.PopulationControl(gSwarm,deleteThreshold=0.2,splitThreshold=1.,maxDeletions=3,maxSplits=0, aggressive=True, particlesPerCell=ppc)"
   ]
  },
  {
   "cell_type": "markdown",
   "metadata": {},
   "source": [
    "Analysis functions / routines\n",
    "-----\n",
    "\n",
    "Most of the metrics we want to calculate are either:\n",
    "\n",
    "* extrema of some field / function\n",
    "* integral of some field / function\n",
    "* average value of some function (integral divide by area)\n",
    "\n",
    "In addition, we also want to be able to determine these metrics over some restricted part of the domain, where the restriction may either be due some value of a field, a material type, or something more arbitrary.\n",
    "\n",
    "Much of he challenge lies in defining these restriction functions in an efficient and robust way (i.e they don't break down as the model evolves)\n",
    "\n",
    "For volume integrals, and extrema, we build a hierarchy of restriction functions, each borrowing from the previous, until we have divided the domain into a number of sub regions of interest. \n",
    "\n",
    "In general, averages are found afterwards by combining the integral and the area of the relavent subregion"
   ]
  },
  {
   "cell_type": "code",
   "execution_count": null,
   "metadata": {
    "collapsed": false
   },
   "outputs": [],
   "source": []
  },
  {
   "cell_type": "code",
   "execution_count": null,
   "metadata": {
    "collapsed": false
   },
   "outputs": [],
   "source": []
  },
  {
   "cell_type": "code",
   "execution_count": 78,
   "metadata": {
    "collapsed": false
   },
   "outputs": [],
   "source": [
    "###################\n",
    "#Volume Restriction functions\n",
    "###################\n",
    "\n",
    "#Level 1. Global\n",
    "globRestFn = fn.misc.constant(1.)\n",
    "\n",
    "#Level 2. Rock - air:\n",
    "rockRestFn = uw.swarm.SwarmVariable(gSwarm, dataType='double', count=1)\n",
    "rockRestFn.data[:] = 0.\n",
    "rockRestFn.data[np.where(materialVariable.data[:] != airIndex)] = 1.\n",
    "rockRestFn *= globRestFn #Add next level up in heirarchy\n",
    "\n",
    "\n",
    "#Level 3. lithosphere - mantle:\n",
    "tempMM = fn.view.min_max(temperatureField)\n",
    "tempMM.evaluate(mesh)\n",
    "TMAX = tempMM.max_global()\n",
    "mantleconditions = [ (                                  temperatureField < 0.9*TMAX, 1.),\n",
    "                   (                                                   True , 0.) ]\n",
    "lithRestFn = fn.branching.conditional(mantleconditions)\n",
    "lithRestFn*=rockRestFn #Add next level up in heirarchy\n",
    "\n",
    "\n",
    "#Level 4. lower plate - upper plate:\n",
    "\n",
    "\n",
    "#This whole section simply builds a restriction Fn that separates the upper and lower plate \n",
    "#It's pretty cumbersome, and will need to advected, rebuilt\n",
    "#can YOU think of a better way?\n",
    "\n",
    "\n",
    "    \n",
    "fthickness = 20e3/dp.LS #initialize tracking swarm at ~ mid lithosphere depth\n",
    "\n",
    "if dp.sense == 'Right':\n",
    "    introPoint = ndp.lRidge + fthickness #\n",
    "else:\n",
    "    introPoint = ndp.rRidge - fthickness #\n",
    "nfault = 200\n",
    "slabCoords =np.zeros((nfault, 2))\n",
    "\n",
    "reducedRocM = ndp.roc  - fthickness\n",
    "xlimslab = reducedRocM*math.cos(math.pi*(90. - dp.theta)/180)\n",
    "slabCoords[:, 0] = np.linspace(introPoint, ndp.subzone + xlimslab, nfault) #note SZ location is hardcoded here \n",
    "for index, xval in np.ndenumerate(slabCoords[:,0]):\n",
    "    #print index, xval\n",
    "    #swarmCoords[index[0], 1] = 1. - isodepthFn.evaluate((xval, 0.)) #This bit for the plate \n",
    "    if  xval < ndp.subzone:\n",
    "        slabCoords[index[0], 1] = 1. - fthickness #This bit for the plate \n",
    "        \n",
    "    else:\n",
    "        slabCoords[index[0], 1] = (1. - (fthickness) - (reducedRocM - ( math.sqrt((reducedRocM**2 - (xval-ndp.subzone)**2)))))\n",
    "        \n",
    "slabCoords = slabCoords[slabCoords[:,1] > (1. - ndp.maxDepth)] #kill any deeper than cutoff\n",
    "\n",
    "slab_line  = marker2D.markerLine2D(mesh, velocityField, slabCoords[:, 0], slabCoords[:, 1], 1e9/dp.LS, 0.0, 0.0, crustIndex)\n",
    "lowerPlateRestFn = gSwarm.add_variable( dataType=\"double\", count=1 )\n",
    "lowerPlateRestFn.data[:] = 0.0\n",
    "\n",
    "update_swarm_from_line(slab_line, lowerPlateRestFn )\n",
    "lowerPlateRestFn.data[np.where(lowerPlateRestFn.data != 0.)] += fthickness #assume instances of 0. are actually where no fault on proc\n",
    "lowerPlateRestFn.data[np.where(lowerPlateRestFn.data > 0*fthickness)] = 1.\n",
    "lowerPlateRestFn.data[np.where(lowerPlateRestFn.data <= 0.*fthickness)] = 0. \n",
    "lowerPlateRestFn *= lithRestFn #Add next level up in heirarchy\n",
    "\n",
    "#Also see if we can stick the the Velocity and coords on to this swarm as well\n",
    "tipVar = uw.swarm.SwarmVariable(slab_line.swarm, dataType='double', count=4)\n",
    "tipVar.data[:,:2] = velocityField.evaluate(slab_line.swarm)\n",
    "tipVar.data[:,2:] = xFn.evaluate(slab_line.swarm)\n",
    "tipVar.data[:,3:] = yFn.evaluate(slab_line.swarm)\n",
    "\n",
    "\n",
    "#Level 5. hinge of lower plate:\n",
    "\n",
    "hinge60Spatialconditions = [ (           operator.and_( (depthFn < MAXY - (60e3/dp.LS)),  (xFn > ndp.subzone - 60e3/dp.LS)), 1.),\n",
    "                   (                                                   True , 0.) ]\n",
    "\n",
    "hinge60RestFn = fn.branching.conditional(hinge60Spatialconditions)\n",
    "hinge60RestFn*=lowerPlateRestFn #Add next level up in heirarchy\n",
    "\n",
    "\n",
    "\n",
    "hinge180Spatialconditions = [ (           operator.and_( (depthFn < MAXY - (180e3/dp.LS)),  (xFn > ndp.subzone - 180e3/dp.LS)), 1.),\n",
    "                   (                                                   True , 0.) ]\n",
    "\n",
    "hinge180RestFn = fn.branching.conditional(hinge180Spatialconditions)\n",
    "hinge180RestFn*=lowerPlateRestFn #Add next level up in heirarchy\n",
    "\n",
    "\n",
    "#Level 6. crust/interface in hinge of lower plate:\n",
    "\n",
    "interfaceRestFn = uw.swarm.SwarmVariable(gSwarm, dataType='double', count=1)\n",
    "interfaceRestFn.data[:] = 0.\n",
    "interfaceRestFn.data[np.where(materialVariable.data[:] == crustIndex)] = 1.\n",
    "interfaceRestFn *= hinge60RestFn #Add next level up in heirarchy\n"
   ]
  },
  {
   "cell_type": "code",
   "execution_count": 82,
   "metadata": {
    "collapsed": false
   },
   "outputs": [],
   "source": [
    "respltconditions = [ \n",
    "                    (                                  hinge60RestFn*2. > rockRestFn*1., 1.),\n",
    "                    (                                  lowerPlateRestFn*3. > hinge60RestFn*2. , 3.),\n",
    "                    (                                  lithRestFn*5. > lowerPlateRestFn*3. , 4.),\n",
    "                   (                                                   True , 0.) ]\n",
    "\n",
    "respltFn = fn.branching.conditional(respltconditions )"
   ]
  },
  {
   "cell_type": "code",
   "execution_count": 83,
   "metadata": {
    "collapsed": false
   },
   "outputs": [],
   "source": [
    "fig= glucifer.Figure()\n",
    "fig.append( glucifer.objects.Points(gSwarm,respltFn))\n",
    "#fig.show()\n",
    "#fig.save_database('test_restrict.gldb')"
   ]
  },
  {
   "cell_type": "code",
   "execution_count": 84,
   "metadata": {
    "collapsed": true
   },
   "outputs": [],
   "source": [
    "###################\n",
    "#Surface Restriction functions\n",
    "###################\n",
    "\n",
    "def platenessFn(val = 0.1):\n",
    "    normgradV = fn.math.abs(velocityField.fn_gradient[0]/fn.math.sqrt(velocityField[0]*velocityField[0])) #[du*/dx]/sqrt(u*u)\n",
    "\n",
    "\n",
    "\n",
    "    srconditions = [ (                                  normgradV < val, 1.),\n",
    "                   (                                                   True , 0.) ]\n",
    "\n",
    "\n",
    "    return fn.branching.conditional(srconditions)\n",
    "\n",
    "srRestFn = platenessFn(val = 0.1)"
   ]
  },
  {
   "cell_type": "code",
   "execution_count": 85,
   "metadata": {
    "collapsed": false
   },
   "outputs": [],
   "source": [
    "###################\n",
    "#Setup any Functions to be integrated\n",
    "###################\n",
    "\n",
    "sqrtv2 = fn.math.sqrt(fn.math.dot(velocityField,velocityField))\n",
    "vx = velocityField[0]\n",
    "v2x = fn.math.dot(velocityField[0],velocityField[0])\n",
    "sqrtv2x = fn.math.sqrt(fn.math.dot(velocityField[0],velocityField[0]))\n",
    "dw = temperatureField*velocityField[1]\n",
    "sinner = fn.math.dot( strainRate_2ndInvariant, strainRate_2ndInvariant )\n",
    "vd = 2.*viscosityMapFn1*sinner\n",
    "dTdZ = temperatureField.fn_gradient[1]\n",
    "\n"
   ]
  },
  {
   "cell_type": "code",
   "execution_count": 86,
   "metadata": {
    "collapsed": false
   },
   "outputs": [],
   "source": [
    "###################\n",
    "#Create integral, max/min templates \n",
    "###################\n",
    "\n",
    "def volumeint(Fn = 1., rFn=globRestFn):\n",
    "    return uw.utils.Integral( Fn*rFn,  mesh )\n",
    "\n",
    "def surfint(Fn = 1., rFn=globRestFn, surfaceIndexSet=mesh.specialSets[\"MaxJ_VertexSet\"]):\n",
    "    return uw.utils.Integral( Fn*rFn, mesh=mesh, integrationType='Surface', surfaceIndexSet=surfaceIndexSet)\n",
    "\n",
    "def maxMin(Fn = 1.):\n",
    "    #maxMin(Fn = 1., rFn=globRestFn\n",
    "    #vuFn = fn.view.min_max(Fn*rFn) #the restriction functions don't work with the view.min_max fn yet\n",
    "    vuFn = fn.view.min_max(Fn)\n",
    "    return vuFn\n",
    "    \n",
    "   \n",
    "    "
   ]
  },
  {
   "cell_type": "code",
   "execution_count": 87,
   "metadata": {
    "collapsed": false
   },
   "outputs": [],
   "source": [
    "#Setup volume integrals on different sub regions\n",
    "\n",
    "##Whole rock domain\n",
    "\n",
    "_areaintRock = volumeint(rockRestFn)\n",
    "_tempintRock = volumeint(temperatureField, rockRestFn)\n",
    "_rmsintRock = volumeint(sqrtv2,rockRestFn)\n",
    "_dwintRock = volumeint(dw,rockRestFn)\n",
    "_vdintRock = volumeint(vd,rockRestFn)\n",
    "\n",
    "##Lith \n",
    "\n",
    "_areaintLith  = volumeint(lithRestFn)\n",
    "_tempintLith  = volumeint(temperatureField, lithRestFn)\n",
    "_rmsintLith  = volumeint(sqrtv2,lithRestFn)\n",
    "_dwintLith  = volumeint(dw,lithRestFn)\n",
    "_vdintLith  = volumeint(vd,lithRestFn)\n",
    "\n",
    "##Lower plate\n",
    "\n",
    "_areaintLower  = volumeint(lowerPlateRestFn)\n",
    "_tempintLower  = volumeint(temperatureField, lowerPlateRestFn)\n",
    "_rmsintLower  = volumeint(sqrtv2,lowerPlateRestFn)\n",
    "_dwintLower = volumeint(dw,lowerPlateRestFn)\n",
    "_vdintLower  = volumeint(vd,lowerPlateRestFn)\n",
    "\n",
    "##Hinge lower plate\n",
    "\n",
    "_areaintHinge180  = volumeint(hinge180RestFn)\n",
    "_vdintHinge180  = volumeint(vd,hinge180RestFn)\n",
    "\n",
    "_areaintHinge60  = volumeint(hinge60RestFn)\n",
    "_vdintHinge60  = volumeint(vd,hinge60RestFn)\n",
    "\n",
    "\n",
    "##Interface\n",
    "\n",
    "_areaintInterface  = volumeint(interfaceRestFn)\n",
    "_vdintInterface = volumeint(vd,interfaceRestFn)"
   ]
  },
  {
   "cell_type": "code",
   "execution_count": 88,
   "metadata": {
    "collapsed": true
   },
   "outputs": [],
   "source": [
    "#Setup surface integrals\n",
    "\n",
    "_surfLength = surfint()\n",
    "_rmsSurf = surfint(v2x)\n",
    "_nuTop = surfint(dTdZ)\n",
    "_nuBottom = surfint(dTdZ, surfaceIndexSet=mesh.specialSets[\"MinJ_VertexSet\"])\n",
    "_plateness = surfint(srRestFn)"
   ]
  },
  {
   "cell_type": "code",
   "execution_count": 89,
   "metadata": {
    "collapsed": false
   },
   "outputs": [],
   "source": [
    "#Setup max min fns (at the moment, we can't pass restriction function to view.min_max, so we're limited to whole volume or surface extrema)\n",
    "\n",
    "##Whole rock domain\n",
    "\n",
    "#_maxMinVisc = maxMin(viscosityMapFn1)  #These don't work on swarm variables or mapping functions, yet\n",
    "#dummyFn = _maxMinVisc.evaluate(mesh)\n",
    "#_maxMinStressInv = maxMin(2*viscosityMapFn1*strainRate_2ndInvariant) #These don't work on swarm variables or mapping functions, yet\n",
    "#dummyFn = _maxMinStress.evaluate(mesh)\n",
    "#_maxMinVd = maxMin(vd) #These don't work on swarm variables or mapping functions, yet\n",
    "#dummyFn = _maxMinVd.evaluate(mesh)\n",
    "\n",
    "\n",
    "_maxMinVel = maxMin(velocityField) \n",
    "dummyFn = _maxMinVel.evaluate(mesh)\n",
    "\n",
    "_maxMinSr = maxMin(strainRate_2ndInvariant) \n",
    "dummyFn = _maxMinSr.evaluate(mesh)\n",
    "\n",
    "\n",
    "#Surface extrema\n",
    "_maxMinVxSurf = maxMin(vx)\n",
    "dummyFn = _maxMinVxSurf.evaluate(tWalls)\n"
   ]
  },
  {
   "cell_type": "code",
   "execution_count": 91,
   "metadata": {
    "collapsed": false
   },
   "outputs": [],
   "source": [
    "#Volume Ints\n",
    "areaintRock = _areaintRock.evaluate()[0]\n",
    "tempintRock = _tempintRock.evaluate()[0]\n",
    "rmsintRock = _rmsintRock.evaluate()[0]\n",
    "dwintRock = _dwintRock.evaluate()[0]\n",
    "vdintRock = _vdintRock.evaluate()[0]\n",
    "areaintLith = _areaintLith.evaluate()[0]\n",
    "tempintLith = _tempintLith.evaluate()[0]\n",
    "rmsintLith = _rmsintLith.evaluate()[0]\n",
    "dwintLith = _dwintLith.evaluate()[0]\n",
    "vdintLith = _vdintLith.evaluate()[0]\n",
    "areaintLower = _areaintLower.evaluate()[0]\n",
    "tempintLower = _tempintLower.evaluate()[0]\n",
    "rmsintLower = _rmsintLower.evaluate()[0]\n",
    "dwintLower = _dwintLower.evaluate()[0]\n",
    "vdintLower = _vdintLower.evaluate()[0]\n",
    "vdintHinge180 = _vdintHinge180.evaluate()[0]\n",
    "areaintHinge180 = _areaintHinge180.evaluate()[0]\n",
    "vdintHinge60 = _vdintHinge60.evaluate()[0]\n",
    "areaintHinge60= _areaintHinge60.evaluate()[0]\n",
    "vdintInterface = _vdintInterface.evaluate()[0]\n",
    "areaintInterface= _areaintInterface.evaluate()[0]\n",
    "\n",
    "#Surface Ints\n",
    "surfLength = _surfLength.evaluate()[0]\n",
    "rmsSurf = _rmsSurf.evaluate()[0]\n",
    "nuTop = _nuTop.evaluate()[0]\n",
    "nuBottom = _nuBottom.evaluate()[0]\n",
    "plateness = _plateness.evaluate()[0]\n",
    "\n",
    "#Max mins\n",
    "maxVel = _maxMinVel.max_global()\n",
    "minVel = _maxMinVel.min_global() \n",
    "maxSr = _maxMinSr.max_global()\n",
    "minSr = _maxMinSr.min_global()\n",
    "maxVxsurf = _maxMinVxSurf.max_global()\n",
    "minVxsurf = _maxMinVxSurf.min_global()"
   ]
  },
  {
   "cell_type": "code",
   "execution_count": 94,
   "metadata": {
    "collapsed": false
   },
   "outputs": [
    {
     "name": "stdout",
     "output_type": "stream",
     "text": [
      "4.0\n",
      "3.81536525607\n",
      "319.632506792\n",
      "4.96110874389\n",
      "8736646.2572\n",
      "0.372653537326\n",
      "0.193605546076\n",
      "57.0290374809\n",
      "-3.87393889896\n",
      "7178414.21978\n",
      "0.243991427951\n",
      "0.125793256971\n",
      "37.7031953121\n",
      "-3.54320713066\n",
      "2247543.34362\n",
      "1825432.87235\n",
      "1856717.54192\n",
      "309909.810183\n",
      "4.0\n",
      "83082.0820609\n",
      "-71.2699790546\n",
      "0.0\n",
      "3.109375\n",
      "406.236316647\n",
      "0.0\n",
      "14720.7072563\n",
      "0.00379426289541\n",
      "186.66599188\n",
      "-150.691730065\n"
     ]
    }
   ],
   "source": [
    "print(areaintRock)\n",
    "print(tempintRock)\n",
    "print(rmsintRock)\n",
    "print(dwintRock)\n",
    "print(vdintRock)\n",
    "print(areaintLith)\n",
    "print(tempintLith )\n",
    "print(rmsintLith)\n",
    "print(dwintLith)\n",
    "print(vdintLith)\n",
    "print(areaintLower)\n",
    "print(tempintLower)\n",
    "print(rmsintLower) \n",
    "print(dwintLower)\n",
    "print(vdintLower)\n",
    "print(vdintHinge60)\n",
    "print(vdintHinge180)\n",
    "print(vdintInterface)\n",
    "\n",
    "print(surfLength)\n",
    "print(rmsSurf)\n",
    "print(nuTop)\n",
    "print(nuBottom)\n",
    "print(plateness)\n",
    "\n",
    "\n",
    "print(maxVel)\n",
    "print(minVel)\n",
    "print(maxSr)\n",
    "print(minSr)\n",
    "print(maxVxsurf)\n",
    "print(minVxsurf)"
   ]
  },
  {
   "cell_type": "code",
   "execution_count": 96,
   "metadata": {
    "collapsed": false
   },
   "outputs": [
    {
     "name": "stdout",
     "output_type": "stream",
     "text": [
      "0.983150549903\n",
      "5.8902068033\n"
     ]
    }
   ],
   "source": [
    "print(vdintHinge60/vdintHinge180)\n",
    "#print(vdintInterface)\n",
    "\n",
    "print(vdintHinge60/vdintInterface)\n",
    "#print(vdintInterface)"
   ]
  },
  {
   "cell_type": "markdown",
   "metadata": {},
   "source": [
    "Viz.\n",
    "-----"
   ]
  },
  {
   "cell_type": "code",
   "execution_count": 234,
   "metadata": {
    "collapsed": false
   },
   "outputs": [],
   "source": [
    "#viscVariable = gSwarm.add_variable( dataType=\"float\", count=1 )\n",
    "#viscVariable.data[:] = viscosityMapFn1.evaluate(gSwarm)"
   ]
  },
  {
   "cell_type": "code",
   "execution_count": 235,
   "metadata": {
    "collapsed": false
   },
   "outputs": [],
   "source": [
    "if figures == 'gldb':\n",
    "    #Pack some stuff into a database as well\n",
    "    figDb = glucifer.Figure()\n",
    "    #figDb.append( glucifer.objects.Mesh(mesh))\n",
    "    figDb.append( glucifer.objects.VectorArrows(mesh,velocityField, scaling=0.0005))\n",
    "    #figDb.append( glucifer.objects.Points(gSwarm,tracerVariable, colours= 'white black'))\n",
    "    figDb.append( glucifer.objects.Points(gSwarm,materialVariable))\n",
    "    #figDb.append( glucifer.objects.Points(gSwarm,viscMinVariable))\n",
    "    #figDb.append( glucifer.objects.Points(gSwarm,fnViscMin))\n",
    "    #figDb.append( glucifer.objects.Points(gSwarm,viscosityMapFn1, logScale=True))\n",
    "    figDb.append( glucifer.objects.Points(gSwarm, strainRate_2ndInvariant))\n",
    "    figDb.append( glucifer.objects.Points(gSwarm,temperatureField))\n",
    "    \n",
    "    \n",
    "    figRestrict= glucifer.Figure()\n",
    "    figRestrict.append( glucifer.objects.Points(gSwarm,respltFn))\n",
    "    figRestrict.append( glucifer.objects.Points(slab_line.swarm, colours=\"Black Black\", pointSize=2.0, colourBar=False) )\n",
    "\n",
    "elif figures == 'store':\n",
    "    fullpath = os.path.join(outputPath + \"gldbs/\")\n",
    "    store = glucifer.Store(fullpath + 'subduction.gldb')\n",
    "\n",
    "    figTemp = glucifer.Figure(store,figsize=(300*np.round(aspectRatio,2),300))\n",
    "    figTemp.append( glucifer.objects.Points(gSwarm,temperatureField))\n",
    "\n",
    "    figVisc= glucifer.Figure(store, figsize=(300*np.round(aspectRatio,2),300))\n",
    "    figVisc.append( glucifer.objects.Points(gSwarm,viscosityMapFn1, logScale=True, valueRange =[1e-3,1e5]))\n",
    "\n",
    "    #figMech= glucifer.Figure(store, figsize=(300*np.round(aspectRatio,2),300))\n",
    "    #figMech.append( glucifer.objects.Points(gSwarm,fnViscMin))"
   ]
  },
  {
   "cell_type": "markdown",
   "metadata": {},
   "source": [
    "**Miscellania**"
   ]
  },
  {
   "cell_type": "code",
   "execution_count": 236,
   "metadata": {
    "collapsed": false
   },
   "outputs": [
    {
     "name": "stderr",
     "output_type": "stream",
     "text": [
      "/usr/local/lib/python2.7/dist-packages/numpy/core/numeric.py:190: VisibleDeprecationWarning: using a non-integer number instead of an integer will result in an error in the future\n",
      "  a = empty(shape, dtype, order)\n"
     ]
    }
   ],
   "source": [
    "##############\n",
    "#Create a numpy array at the surface to get surface information on (using parallel-friendly evaluate_global)\n",
    "##############\n",
    "\n",
    "surface_xs = np.linspace(mesh.minCoord[0], mesh.maxCoord[0], mesh.elementRes[0] + 1)\n",
    "surface_nodes = np.array(zip(surface_xs, np.ones(len(surface_xs)*mesh.maxCoord[1]))) #For evaluation surface velocity\n",
    "normgradV = velocityField.fn_gradient[0]/fn.math.sqrt(velocityField[0]*velocityField[0])\n",
    "\n",
    "tempMM = fn.view.min_max(temperatureField)\n",
    "dummy = tempMM.evaluate(mesh)\n",
    "\n"
   ]
  },
  {
   "cell_type": "code",
   "execution_count": null,
   "metadata": {
    "collapsed": true
   },
   "outputs": [],
   "source": []
  },
  {
   "cell_type": "code",
   "execution_count": 103,
   "metadata": {
    "collapsed": false
   },
   "outputs": [],
   "source": [
    "##############\n",
    "#These functions handle checkpointing\n",
    "##############\n",
    "\n",
    "\n",
    "#Subzone = ndp.subzone\n",
    "\n",
    "\n",
    "def checkpoint1(step, checkpointPath,filename, filewrites):\n",
    "    path = checkpointPath + str(step) \n",
    "    os.mkdir(path)\n",
    "    ##Write and save the file, if not already a writing step\n",
    "    if not step % filewrites == 0:\n",
    "        f_o.write((28*'%-15s ' + '\\n') % (areaintRock, tempintRock, rmsintRock, dwintRock, vdintRock,\n",
    "                                  areaintLith, tempintLith,rmsintLith, dwintLith, vdintLith,\n",
    "                                  areaintLower, tempintLower, rmsintLower, dwintLower, vdintLower, \n",
    "                                  areaintHinge180,vdintHinge180, areaintHinge60, vdintHinge60, \n",
    "                                  areaintInterface, vdintInterface, vdintInterface,\n",
    "                                  rmsSurf, nuTop, nuBottom, plateness, ndp.subzone, realtime))\n",
    "    filename.close()\n",
    "    shutil.copyfile(os.path.join(outputPath, outputFile), os.path.join(path, outputFile))\n",
    "\n",
    "\n",
    "def checkpoint2(step, checkpointPath, swarm, filename, varlist = [materialVariable], varnames = ['materialVariable']):\n",
    "    path = checkpointPath + str(step) \n",
    "    velfile = \"velocityField\" + \".hdf5\"\n",
    "    tempfile = \"temperatureField\" + \".hdf5\"\n",
    "    pressfile = \"pressureField\" + \".hdf5\"\n",
    "    velocityField.save(os.path.join(path, velfile))\n",
    "    temperatureField.save(os.path.join(path, tempfile))\n",
    "    pressureField.save(os.path.join(path, pressfile))\n",
    "    swarm.save(os.path.join(path, \"swarm.h5\") ) \n",
    "    for ix in range(len(varlist)):\n",
    "        varb = varlist[ix]\n",
    "        varb.save(os.path.join(path,varnames[ix] + \".h5\"))\n",
    "    \n",
    "    #Save the parameters\n",
    "    dict_list = [dp, sf, ndp, md] #if any of the dictionaries have changed, this list needs to be rebuilt\n",
    "    save_pickles(dict_list, dict_names, path)\n",
    "    "
   ]
  },
  {
   "cell_type": "code",
   "execution_count": 104,
   "metadata": {
    "collapsed": true
   },
   "outputs": [],
   "source": [
    "##############\n",
    "#These functions handle checkpointing\n",
    "##############\n",
    "\n",
    "def getnearpos(array,value):\n",
    "    idx = (np.abs(array-value)).argmin()\n",
    "    return idx \n",
    "\n",
    "def plate_info(srfilename, minx, maxx,  searchdx, oldszloc = 0.0):\n",
    "    \"\"\"\n",
    "    Use the surface strain rate field to find the location of the subduction zone in 2d\n",
    "    \n",
    "    \"\"\"\n",
    "    if type(srfilename) == str: #read surface strain rate points from file\n",
    "        sr = np.load(srfilename)\n",
    "    else:\n",
    "        sr =  srfilename        #read surface strain rates directly from array\n",
    "    xs = np.linspace(minx,maxx,sr.shape[0] )\n",
    "    #infs at the ends of the SR data...replace with adjacent values\n",
    "    sr[0] = sr[1] \n",
    "    sr[-1] = sr[2]\n",
    "    #Normalize\n",
    "    srx = (sr- sr.mean()) /(sr.max() - sr.min())\n",
    "    #reduce the search domain, to near the previous PB location\n",
    "    lx, rx = getnearpos(xs, oldszloc - searchdx),  getnearpos(xs, oldszloc + searchdx)\n",
    "    red_xs, red_sr = xs[lx:rx], srx[lx:rx]\n",
    "    #return the minima\n",
    "    newszLoc = red_xs[np.argmin(red_sr)]\n",
    "    return newszLoc "
   ]
  },
  {
   "cell_type": "code",
   "execution_count": 105,
   "metadata": {
    "collapsed": false
   },
   "outputs": [],
   "source": [
    "# initialise timer for computation\n",
    "start = time.clock()\n"
   ]
  },
  {
   "cell_type": "code",
   "execution_count": 106,
   "metadata": {
    "collapsed": false
   },
   "outputs": [],
   "source": [
    "#max_vx_surf(velocityField, mesh)"
   ]
  },
  {
   "cell_type": "markdown",
   "metadata": {},
   "source": [
    "Main simulation loop\n",
    "-----\n"
   ]
  },
  {
   "cell_type": "code",
   "execution_count": 190,
   "metadata": {
    "collapsed": false
   },
   "outputs": [
    {
     "ename": "KeyboardInterrupt",
     "evalue": "",
     "output_type": "error",
     "traceback": [
      "\u001b[1;31m\u001b[0m",
      "\u001b[1;31mKeyboardInterrupt\u001b[0mTraceback (most recent call last)",
      "\u001b[1;32m<ipython-input-190-f9c389f79938>\u001b[0m in \u001b[0;36m<module>\u001b[1;34m()\u001b[0m\n\u001b[0;32m    105\u001b[0m             \u001b[0mfnamedb\u001b[0m \u001b[1;33m=\u001b[0m \u001b[1;34m\"restrictFig\"\u001b[0m \u001b[1;33m+\u001b[0m \u001b[1;34m\"_\"\u001b[0m \u001b[1;33m+\u001b[0m \u001b[0mstr\u001b[0m\u001b[1;33m(\u001b[0m\u001b[0mstep\u001b[0m\u001b[1;33m)\u001b[0m \u001b[1;33m+\u001b[0m \u001b[1;34m\".gldb\"\u001b[0m\u001b[1;33m\u001b[0m\u001b[0m\n\u001b[0;32m    106\u001b[0m             \u001b[0mfullpath\u001b[0m \u001b[1;33m=\u001b[0m \u001b[0mos\u001b[0m\u001b[1;33m.\u001b[0m\u001b[0mpath\u001b[0m\u001b[1;33m.\u001b[0m\u001b[0mjoin\u001b[0m\u001b[1;33m(\u001b[0m\u001b[0moutputPath\u001b[0m \u001b[1;33m+\u001b[0m \u001b[1;34m\"gldbs/\"\u001b[0m \u001b[1;33m+\u001b[0m \u001b[0mfnamedb\u001b[0m\u001b[1;33m)\u001b[0m\u001b[1;33m\u001b[0m\u001b[0m\n\u001b[1;32m--> 107\u001b[1;33m             \u001b[0mfigRestrict\u001b[0m\u001b[1;33m.\u001b[0m\u001b[0msave_database\u001b[0m\u001b[1;33m(\u001b[0m\u001b[0mfullpath\u001b[0m\u001b[1;33m)\u001b[0m\u001b[1;33m\u001b[0m\u001b[0m\n\u001b[0m\u001b[0;32m    108\u001b[0m         \u001b[1;32melif\u001b[0m \u001b[0mfigures\u001b[0m \u001b[1;33m==\u001b[0m \u001b[1;34m'store'\u001b[0m\u001b[1;33m:\u001b[0m\u001b[1;33m\u001b[0m\u001b[0m\n\u001b[0;32m    109\u001b[0m             \u001b[0mfullpath\u001b[0m \u001b[1;33m=\u001b[0m \u001b[0mos\u001b[0m\u001b[1;33m.\u001b[0m\u001b[0mpath\u001b[0m\u001b[1;33m.\u001b[0m\u001b[0mjoin\u001b[0m\u001b[1;33m(\u001b[0m\u001b[0moutputPath\u001b[0m \u001b[1;33m+\u001b[0m \u001b[1;34m\"gldbs/\"\u001b[0m\u001b[1;33m)\u001b[0m\u001b[1;33m\u001b[0m\u001b[0m\n",
      "\u001b[1;32m/root/underworld2/glucifer/_glucifer.pyc\u001b[0m in \u001b[0;36msave_database\u001b[1;34m(self, filename, regen)\u001b[0m\n\u001b[0;32m    574\u001b[0m     \u001b[1;32mdef\u001b[0m \u001b[0msave_database\u001b[0m\u001b[1;33m(\u001b[0m\u001b[0mself\u001b[0m\u001b[1;33m,\u001b[0m \u001b[0mfilename\u001b[0m\u001b[1;33m,\u001b[0m \u001b[0mregen\u001b[0m\u001b[1;33m=\u001b[0m\u001b[0mTrue\u001b[0m\u001b[1;33m)\u001b[0m\u001b[1;33m:\u001b[0m\u001b[1;33m\u001b[0m\u001b[0m\n\u001b[0;32m    575\u001b[0m         \u001b[1;32mif\u001b[0m \u001b[0mregen\u001b[0m\u001b[1;33m:\u001b[0m\u001b[1;33m\u001b[0m\u001b[0m\n\u001b[1;32m--> 576\u001b[1;33m             \u001b[0mself\u001b[0m\u001b[1;33m.\u001b[0m\u001b[0m_generate_DB\u001b[0m\u001b[1;33m(\u001b[0m\u001b[1;33m)\u001b[0m\u001b[1;33m\u001b[0m\u001b[0m\n\u001b[0m\u001b[0;32m    577\u001b[0m         \u001b[1;32mreturn\u001b[0m \u001b[0mself\u001b[0m\u001b[1;33m.\u001b[0m\u001b[0mdb\u001b[0m\u001b[1;33m.\u001b[0m\u001b[0msave\u001b[0m\u001b[1;33m(\u001b[0m\u001b[0mfilename\u001b[0m\u001b[1;33m)\u001b[0m\u001b[1;33m\u001b[0m\u001b[0m\n\u001b[0;32m    578\u001b[0m \u001b[1;33m\u001b[0m\u001b[0m\n",
      "\u001b[1;32m/root/underworld2/glucifer/_glucifer.pyc\u001b[0m in \u001b[0;36m_generate_DB\u001b[1;34m(self)\u001b[0m\n\u001b[0;32m    609\u001b[0m         \u001b[1;32mif\u001b[0m \u001b[0mlen\u001b[0m\u001b[1;33m(\u001b[0m\u001b[0mself\u001b[0m\u001b[1;33m.\u001b[0m\u001b[0mdraw\u001b[0m\u001b[1;33m.\u001b[0m\u001b[0mvertices\u001b[0m\u001b[1;33m)\u001b[0m \u001b[1;33m>\u001b[0m \u001b[1;36m0\u001b[0m\u001b[1;33m:\u001b[0m\u001b[1;33m\u001b[0m\u001b[0m\n\u001b[0;32m    610\u001b[0m             \u001b[0mobjects\u001b[0m\u001b[1;33m.\u001b[0m\u001b[0mappend\u001b[0m\u001b[1;33m(\u001b[0m\u001b[0mself\u001b[0m\u001b[1;33m.\u001b[0m\u001b[0mdraw\u001b[0m\u001b[1;33m)\u001b[0m\u001b[1;33m\u001b[0m\u001b[0m\n\u001b[1;32m--> 611\u001b[1;33m         \u001b[0mself\u001b[0m\u001b[1;33m.\u001b[0m\u001b[0mdb\u001b[0m\u001b[1;33m.\u001b[0m\u001b[0m_generate\u001b[0m\u001b[1;33m(\u001b[0m\u001b[0mself\u001b[0m\u001b[1;33m.\u001b[0m\u001b[0mname\u001b[0m\u001b[1;33m,\u001b[0m \u001b[0mobjects\u001b[0m\u001b[1;33m,\u001b[0m \u001b[0mself\u001b[0m\u001b[1;33m)\u001b[0m\u001b[1;33m\u001b[0m\u001b[0m\n\u001b[0m\u001b[0;32m    612\u001b[0m \u001b[1;33m\u001b[0m\u001b[0m\n\u001b[0;32m    613\u001b[0m     \u001b[1;32mdef\u001b[0m \u001b[0m_generate_image\u001b[0m\u001b[1;33m(\u001b[0m\u001b[0mself\u001b[0m\u001b[1;33m,\u001b[0m \u001b[0mfilename\u001b[0m\u001b[1;33m=\u001b[0m\u001b[1;34m\"\"\u001b[0m\u001b[1;33m,\u001b[0m \u001b[0msize\u001b[0m\u001b[1;33m=\u001b[0m\u001b[1;33m(\u001b[0m\u001b[1;36m0\u001b[0m\u001b[1;33m,\u001b[0m\u001b[1;36m0\u001b[0m\u001b[1;33m)\u001b[0m\u001b[1;33m)\u001b[0m\u001b[1;33m:\u001b[0m\u001b[1;33m\u001b[0m\u001b[0m\n",
      "\u001b[1;32m/root/underworld2/glucifer/_glucifer.pyc\u001b[0m in \u001b[0;36m_generate\u001b[1;34m(self, figname, objects, props)\u001b[0m\n\u001b[0;32m    218\u001b[0m \u001b[1;33m\u001b[0m\u001b[0m\n\u001b[0;32m    219\u001b[0m             \u001b[1;31m# go ahead and fill db\u001b[0m\u001b[1;33m\u001b[0m\u001b[1;33m\u001b[0m\u001b[0m\n\u001b[1;32m--> 220\u001b[1;33m             \u001b[0mlibUnderworld\u001b[0m\u001b[1;33m.\u001b[0m\u001b[0mgLucifer\u001b[0m\u001b[1;33m.\u001b[0m\u001b[0m_lucDatabase_Execute\u001b[0m\u001b[1;33m(\u001b[0m\u001b[0mself\u001b[0m\u001b[1;33m.\u001b[0m\u001b[0m_db\u001b[0m\u001b[1;33m,\u001b[0m\u001b[0mNone\u001b[0m\u001b[1;33m)\u001b[0m\u001b[1;33m\u001b[0m\u001b[0m\n\u001b[0m\u001b[0;32m    221\u001b[0m \u001b[1;33m\u001b[0m\u001b[0m\n\u001b[0;32m    222\u001b[0m             \u001b[1;31m#Output any custom geometry on objects\u001b[0m\u001b[1;33m\u001b[0m\u001b[1;33m\u001b[0m\u001b[0m\n",
      "\u001b[1;31mKeyboardInterrupt\u001b[0m: "
     ]
    }
   ],
   "source": [
    "#while step < 6:\n",
    "while realtime < 0.002:\n",
    "\n",
    "    # solve Stokes and advection systems\n",
    "    solver.solve(nonLinearIterate=True)\n",
    "    dt = advDiff.get_max_dt()\n",
    "    if step == 0:\n",
    "        dt = 0.\n",
    "    advDiff.integrate(dt)\n",
    "    passiveadvector.integrate(dt)\n",
    "    slab_line.advection(dt)\n",
    "    for f in faults:\n",
    "        f.advection(dt)\n",
    "        \n",
    "    \n",
    " \n",
    "    \n",
    "    # Increment\n",
    "    realtime += dt\n",
    "    step += 1\n",
    "    timevals.append(realtime)\n",
    "    ################\n",
    "    #Update temperature field in the air region\n",
    "    #Do this better...\n",
    "    ################\n",
    "    if (step % sticky_air_temp == 0):\n",
    "        for index, coord in enumerate(mesh.data):\n",
    "            if coord[1] >= 1.:\n",
    "                temperatureField.data[index] = ndp.TSP\n",
    "\n",
    "    # Calculate the Metrics, only on 1 of the processors:\n",
    "    ################\n",
    "    if (step % metric_output == 0):\n",
    "        ###############\n",
    "        #Rebuild the restriction functions where necessary\n",
    "        ###############\n",
    "        lowerPlateRestFn = gSwarm.add_variable( dataType=\"double\", count=1 )\n",
    "        lowerPlateRestFn.data[:] = 0.0\n",
    "        update_swarm_from_line(slab_line, lowerPlateRestFn )\n",
    "        lowerPlateRestFn.data[np.where(lowerPlateRestFn.data >= -1.*fthickness)] = 1.\n",
    "        lowerPlateRestFn.data[np.where(lowerPlateRestFn.data < -1.*fthickness)] = 0. \n",
    "        lowerPlateRestFn *= lithRestFn #Add next level up in hierarchy\n",
    "        \n",
    "        ###############\n",
    "        #Metrics\n",
    "        ###############\n",
    "        areaintRock = _areaintRock.evaluate()[0] #trivial except when using sticky air\n",
    "        tempintRock = _tempintRock.evaluate()[0]\n",
    "        rmsintRock = _rmsintRock.evaluate()[0]\n",
    "        dwintRock = _dwintRock.evaluate()[0]\n",
    "        vdintRock = _vdintRock.evaluate()[0]\n",
    "        areaintLith = _areaintLith.evaluate()[0]\n",
    "        tempintLith = _tempintLith.evaluate()[0]\n",
    "        rmsintLith = _rmsintLith.evaluate()[0]\n",
    "        dwintLith = _dwintLith.evaluate()[0]\n",
    "        vdintLith = _vdintLith.evaluate()[0]\n",
    "        areaintLower = _areaintLower.evaluate()[0]\n",
    "        tempintLower = _tempintLower.evaluate()[0]\n",
    "        rmsintLower = _rmsintLower.evaluate()[0]\n",
    "        dwintLower = _dwintLower.evaluate()[0]\n",
    "        vdintLower = _vdintLower.evaluate()[0]\n",
    "        vdintHinge180 = _vdintHinge180.evaluate()[0]\n",
    "        areaintHinge180 = _areaintHinge180.evaluate()[0]\n",
    "        vdintHinge60 = _vdintHinge60.evaluate()[0]\n",
    "        areaintHinge60= _areaintHinge60.evaluate()[0]\n",
    "        vdintInterface = _vdintInterface.evaluate()[0]\n",
    "        areaintInterface= _areaintInterface.evaluate()[0]\n",
    "        #Surface integrals\n",
    "        rmsSurf = _rmsSurf.evaluate()[0]\n",
    "        nuTop = _nuTop.evaluate()[0]\n",
    "        nuBottom = _nuBottom.evaluate()[0]\n",
    "        plateness = _plateness.evaluate()[0]\n",
    "        #extrema\n",
    "        maxVel = _maxMinVel.max_global()\n",
    "        minVel = _maxMinVel.min_global() \n",
    "        maxSr = _maxMinSr.max_global()\n",
    "        minSr = _maxMinSr.min_global()\n",
    "        maxVxsurf = _maxMinVxSurf.max_global()\n",
    "        minVxsurf = _maxMinVxSurf.min_global()\n",
    "        # output to summary text file\n",
    "        if uw.rank()==0:\n",
    "            f_o.write((22*'%-15s ' + '\\n') % (areaintRock, tempintRock, rmsintRock, dwintRock, vdintRock,\n",
    "                                  areaintLith, tempintLith,rmsintLith, dwintLith, vdintLith,\n",
    "                                  areaintLower, tempintLower, rmsintLower, dwintLower, vdintLower, \n",
    "                                  areaintHinge180,vdintHinge180, areaintHinge60, vdintHinge60, \n",
    "                                  areaintInterface, vdintInterface, vdintInterface,\n",
    "                                  rmsSurf, nuTop, nuBottom, plateness, ndp.subzone, realtime))\n",
    "    ################\n",
    "    #Also repopulate entire swarm periodically\n",
    "    ################\n",
    "    #if step % swarm_repop == 0:\n",
    "    population_control.repopulate()   \n",
    "    ################\n",
    "    #Checkpoint\n",
    "    ################\n",
    "    if step % checkpoint_every == 0:\n",
    "        if uw.rank() == 0:\n",
    "            checkpoint1(step, checkpointPath,f_o, metric_output)           \n",
    "        checkpoint2(step, checkpointPath, gSwarm, f_o, varlist = varlist, varnames = varnames)\n",
    "        f_o = open(os.path.join(outputPath, outputFile), 'a') #is this line supposed to be here?\n",
    "    ################\n",
    "    #Gldb output\n",
    "    ################ \n",
    "    if (step % gldbs_output == 0): \n",
    "        if figures == 'gldb':\n",
    "            #Remember to rebuild any necessary swarm variables\n",
    "            fnamedb = \"dbFig\" + \"_\" + str(step) + \".gldb\"\n",
    "            fullpath = os.path.join(outputPath + \"gldbs/\" + fnamedb)\n",
    "            figDb.save_database(fullpath)\n",
    "            \n",
    "            #Temp figure\n",
    "            fnamedb = \"restrictFig\" + \"_\" + str(step) + \".gldb\"\n",
    "            fullpath = os.path.join(outputPath + \"gldbs/\" + fnamedb)\n",
    "            figRestrict.save_database(fullpath)\n",
    "        elif figures == 'store':      \n",
    "            fullpath = os.path.join(outputPath + \"gldbs/\")\n",
    "            store.step = step\n",
    "            #Save figures to store\n",
    "            figVisc.save( fullpath + \"Visc\" + str(step).zfill(4))\n",
    "            #figMech.save( fullPath + \"Mech\" + str(step).zfill(4))\n",
    "            figTemp.save( fullpath + \"Temp\"    + str(step).zfill(4))\n",
    "    ################\n",
    "    #Files output\n",
    "    ################ \n",
    "    if (step % files_output == 0):\n",
    "\n",
    "        vel_surface = velocityField.evaluate_global(surface_nodes)\n",
    "        norm_surface_sr = normgradV.evaluate_global(surface_nodes)\n",
    "        if uw.rank() == 0:\n",
    "            fnametemp = \"velsurface\" + \"_\" + str(step)\n",
    "            fullpath = os.path.join(outputPath + \"files/\" + fnametemp)\n",
    "            np.save(fullpath, vel_surface)\n",
    "            fnametemp = \"norm_surface_sr\" + \"_\" + str(step)\n",
    "            fullpath = os.path.join(outputPath + \"files/\" + fnametemp)\n",
    "            np.save(fullpath, norm_surface_sr)\n",
    "            \n",
    "        #Save the slab_lineand tipswarm coords \n",
    "        fnametemp1 = \"midSwarm\" + \"_\" + str(step)\n",
    "        fullpath1 = os.path.join(outputPath + \"files/\" + fnametemp1)\n",
    "        slab_line.swarm.save(fullpath1)\n",
    "        #tipVar.data[:,:2] = velocityField.evaluate(tipSwarm)\n",
    "        #tipVar.data[:,2:] = xFn.evaluate(tipSwarm)\n",
    "        #tipVar.data[:,3:] = yFn.evaluate(tipSwarm)\n",
    "        #comm.barrier()\n",
    "        #fnametemp2 = \"tipSwarm\" + \"_\" + str(step)\n",
    "        #fullpath2 = os.path.join(outputPath + \"files/\" + fnametemp2)\n",
    "        #tipVar.save('fullpath2')\n",
    "            \n",
    "    ################\n",
    "    #Update the subduction zone / plate information\n",
    "    ################ \n",
    "    \n",
    "    comm.barrier()\n",
    "    if (step % files_output == 0):\n",
    "        \n",
    "        if uw.rank() == 0:\n",
    "            fnametemp = \"norm_surface_sr\" + \"_\" + str(step) + \".npy\"\n",
    "            fullpath = os.path.join(outputPath + \"files/\" + fnametemp)\n",
    "            ndp.subzone = plate_info(fullpath, MINX, MAXX,  800e3/dp.LS, oldszloc = ndp.subzone)\n",
    "            \n",
    "        else:\n",
    "            ndp.subzone = None\n",
    "        \n",
    "        comm.barrier()    \n",
    "        #send out the updated info for sz location\n",
    "        \n",
    "        ndp.subzone = comm.bcast(ndp.subzone, root=0)\n",
    "\n",
    "        #Has the polarity reversed?\n",
    "\n",
    "        if dp.sense == 'right':\n",
    "            tempop = operator.lt\n",
    "            szoffet *= -1\n",
    "        else:\n",
    "            tempop = operator.gt\n",
    "            \n",
    "        #Update the relevant parts of the material graph\n",
    "        #Remove and rebuild edges related to crust\n",
    "        DG.remove_edges_from([(mantleIndex,crustIndex)])\n",
    "        DG.add_edges_from([(mantleIndex,crustIndex)])\n",
    "        DG.remove_edges_from([(harzIndex,crustIndex)])\n",
    "        DG.add_edges_from([(harzIndex,crustIndex)])\n",
    "\n",
    "        #... to crust\n",
    "        DG.add_transition((mantleIndex,crustIndex), depthFn, operator.lt, 0.5)\n",
    "        DG.add_transition((mantleIndex,crustIndex), xFn, tempop , ndp.subzone) #No crust on the upper plate\n",
    "        DG.add_transition((mantleIndex,crustIndex), ageVariable, operator.gt, 0.2)\n",
    "\n",
    "        DG.add_transition((harzIndex,crustIndex), depthFn, operator.lt, ndp.MANTLETOCRUST)\n",
    "        DG.add_transition((harzIndex,crustIndex), xFn, tempop, ndp.subzone) #This one sets no crust on the upper plate\n",
    "        DG.add_transition((harzIndex,crustIndex), ageVariable, operator.gt, crustageCond)\n",
    "        \n",
    "        comm.barrier()\n",
    "                   \n",
    "    \n",
    "    ################\n",
    "    #Particle update\n",
    "    ###############    \n",
    "    #ageVariable.data[:] += dt #increment the ages (is this efficient?)\n",
    "    ageDT += dt\n",
    "    \n",
    "    if step % swarm_update == 0:\n",
    "        #Increment age stuff. \n",
    "        ageConditions = [ (depthFn < ndp.AGETRACKDEPTH, ageVariable + ageDT ),  #add ageDThere\n",
    "                  (True, 0.) ]\n",
    "        ageVariable.data[:] = fn.branching.conditional( ageConditions ).evaluate(gSwarm)        \n",
    "        ageDT = 0. #reset the age incrementer\n",
    "        \n",
    "        #Apply any materialVariable changes\n",
    "        for i in range(2): #go through twice\n",
    "            materialVariable.data[:] = fn.branching.conditional(DG.condition_list).evaluate(gSwarm)\n",
    "        \n",
    "        #Also update any information related to faults:\n",
    "        update_swarm_from_faults(faults[1:], proximityVariable, directorVector, signedDistanceVariable)\n",
    "        mask_materials(faults[1], airIndex, materialVariable, proximityVariable, directorVector, signedDistanceVariable)\n",
    "\n",
    "        update_swarm_from_faults(faults[0:-1], proximityVariable, directorVector, signedDistanceVariable)\n",
    "        mask_materials(faults[0], crustIndex, materialVariable, proximityVariable, directorVector, signedDistanceVariable)\n",
    "        \n",
    "        proximityVariable.data[gSwarm.particleCoordinates.data[:,1]  < (1. - ndp.CRUSTVISCUTOFF)] = 0.\n",
    "            \n",
    "    \n",
    "\n",
    "    \n",
    "f_o.close()\n",
    "print 'step =',step"
   ]
  },
  {
   "cell_type": "code",
   "execution_count": null,
   "metadata": {
    "collapsed": false
   },
   "outputs": [],
   "source": []
  },
  {
   "cell_type": "code",
   "execution_count": null,
   "metadata": {
    "collapsed": false
   },
   "outputs": [],
   "source": []
  },
  {
   "cell_type": "code",
   "execution_count": 98,
   "metadata": {
    "collapsed": false
   },
   "outputs": [],
   "source": [
    "#vxTi = velocityField[0].evaluate(surface_nodes)\n",
    "#vxIso = velocityFieldIso[0].evaluate(surface_nodes)\n",
    "#%pylab inline\n",
    "#fig, axes = plt.subplots(figsize=(16,4))\n",
    "#axes.plot(vxTi)\n",
    "#axes.plot(vxIso)\n",
    "\n",
    "\n",
    "#fig, axes = plt.subplots(figsize=(16,4))\n",
    "#axes.plot(vxTi)\n",
    "#axes.plot(surface_xs, vxTi - vxIso)\n",
    "#fig.savefig('Ti_minus_Iso.png')\n",
    "#plt.title('surface velocity residual - T. Iso minus Iso. weak zone')\n"
   ]
  },
  {
   "cell_type": "code",
   "execution_count": null,
   "metadata": {
    "collapsed": false
   },
   "outputs": [],
   "source": []
  },
  {
   "cell_type": "code",
   "execution_count": 249,
   "metadata": {
    "collapsed": true
   },
   "outputs": [],
   "source": []
  },
  {
   "cell_type": "code",
   "execution_count": null,
   "metadata": {
    "collapsed": true
   },
   "outputs": [],
   "source": []
  }
 ],
 "metadata": {
  "kernelspec": {
   "display_name": "Python 2",
   "language": "python",
   "name": "python2"
  },
  "language_info": {
   "codemirror_mode": {
    "name": "ipython",
    "version": 2
   },
   "file_extension": ".py",
   "mimetype": "text/x-python",
   "name": "python",
   "nbconvert_exporter": "python",
   "pygments_lexer": "ipython2",
   "version": "2.7.9"
  },
  "widgets": {
   "state": {},
   "version": "1.1.2"
  }
 },
 "nbformat": 4,
 "nbformat_minor": 0
}
