{
 "cells": [
  {
   "cell_type": "markdown",
   "metadata": {
    "extensions": {
     "jupyter_dashboards": {
      "version": 1,
      "views": {
       "grid_default": {
        "col": 0,
        "height": 7,
        "hidden": false,
        "row": 0,
        "width": 12
       },
       "report_default": {
        "hidden": false
       }
      }
     }
    },
    "hideCode": false
   },
   "source": [
    "## Zhong et al model \n",
    "\n",
    "In this example we compare the zhong model at 129x65 node resolution with the two weak-zone based models. One uses a transversely isotropic viscosity model to impose a frictional-surface contraint on the shear-stress / normal stress ration for integration points close to the fault zone, the other uses an isotropic viscosity to impose a granular-friction constraint on the 2nd invariant of the total stress tensor for points close the the fault zone. \n",
    "\n",
    "\n",
    "## Results\n",
    "\n",
    "$\\mu = 0.0001$\n",
    "$ C  = 0.0001$\n",
    "\n",
    "This is essentially a weak zone with the minimum viscosity cutoff as the fault has no strength.\n",
    "\n",
    "Here we are reporting the $L_2$ norm of the difference between the slippery node value and the weak zone value. To normalise this value, it might be useful to try the magnitude of the difference between the slippery node model and the model with no fault at all. \n",
    "\n",
    "$| \\Delta V_{\\rm z/ref}|$ = 3.76564791018e-07\n",
    "\n",
    "### Masking out the whole fault (based on Fwidth)\n",
    "\n",
    "| Fwidth|  Trans-Iso         | Iso / Dr-Pr       | Notes  | \n",
    "| ----- | ------------------ | ----------------- | -----  | \n",
    "| 0.005 |  3.08139617111e-07 | 3.03661999803e-07 |   -    |\n",
    "| 0.01  |  5.91601633118e-08 | 3.77717204156e-08 |   -    |\n",
    "| 0.015 |  1.64612509497e-08 | 8.82196480196e-08 |   -    |\n",
    "| 0.02  |  1.02555263487e-07 | 3.4197229635e-07  |   -    |\n",
    "| 0.03  |  3.06514516874e-07 | 1.14781677884e-06 |   -    | \n",
    "| 0.04  |  4.70075313019e-07 | 0.000984039222396 |   -    | \n",
    "\n",
    "\n",
    "### Masking out 1 \"element\" away from the fault (1.0/65.0)\n",
    "\n",
    "\n",
    "| Fwidth|  Trans-Iso         | Iso / Dr-Pr       | Notes  | \n",
    "| ----- | ------------------ | ----------------- | -----  |\n",
    "| 0.005 |  2.8068281676e-07  | 1.73399542865e-07 |   -    |\n",
    "| 0.01  |  5.25503066315e-08 | 3.33609668745e-08 |       |\n",
    "| 0.015 |  1.64612509497e-08 | 8.82196480196e-08 |   Fw = elementw |\n",
    "| 0.02  |  1.78117510497e-07 | 9.14874625476e-07 |   -    |\n",
    "| 0.03  |  3.20507328804e-07 | 1.23540800757e-06 |   -    |\n",
    "| 0.04  |  5.0436149127e-07  | 15.0321995051     |   -    |\n"
   ]
  },
  {
   "cell_type": "code",
   "execution_count": 1,
   "metadata": {
    "collapsed": false,
    "extensions": {
     "jupyter_dashboards": {
      "version": 1,
      "views": {
       "grid_default": {
        "hidden": true
       },
       "report_default": {
        "hidden": false
       }
      }
     }
    },
    "hideCode": false,
    "hidePrompt": false
   },
   "outputs": [
    {
     "name": "stderr",
     "output_type": "stream",
     "text": [
      "/usr/local/lib/python2.7/dist-packages/ipykernel/pylab/config.py:66: DeprecationWarning: metadata {'config': True} was set from the constructor.  Metadata should be set using the .tag() method, e.g., Int().tag(key1='value1', key2='value2')\n",
      "  inline backend.\"\"\"\n",
      "/usr/local/lib/python2.7/dist-packages/ipykernel/pylab/config.py:71: DeprecationWarning: metadata {'config': True} was set from the constructor.  Metadata should be set using the .tag() method, e.g., Int().tag(key1='value1', key2='value2')\n",
      "  'retina', 'jpeg', 'svg', 'pdf'.\"\"\")\n",
      "/usr/local/lib/python2.7/dist-packages/ipykernel/pylab/config.py:85: DeprecationWarning: metadata {'config': True} was set from the constructor.  Metadata should be set using the .tag() method, e.g., Int().tag(key1='value1', key2='value2')\n",
      "  use `figure_formats` instead)\"\"\")\n",
      "/usr/local/lib/python2.7/dist-packages/ipykernel/pylab/config.py:95: DeprecationWarning: metadata {'config': True} was set from the constructor.  Metadata should be set using the .tag() method, e.g., Int().tag(key1='value1', key2='value2')\n",
      "  \"\"\"\n",
      "/usr/local/lib/python2.7/dist-packages/ipykernel/pylab/config.py:114: DeprecationWarning: metadata {'config': True} was set from the constructor.  Metadata should be set using the .tag() method, e.g., Int().tag(key1='value1', key2='value2')\n",
      "  \"\"\")\n",
      "/usr/local/lib/python2.7/dist-packages/ipykernel/pylab/config.py:44: DeprecationWarning: InlineBackend._config_changed is deprecated: use @observe and @unobserve instead.\n",
      "  def _config_changed(self, name, old, new):\n",
      "/usr/local/lib/python2.7/dist-packages/traitlets/traitlets.py:770: DeprecationWarning: A parent of InlineBackend._config_changed has adopted the new @observe(change) API\n",
      "  clsname, change_or_name), DeprecationWarning)\n",
      "/usr/local/lib/python2.7/dist-packages/IPython/core/formatters.py:98: DeprecationWarning: DisplayFormatter._formatters_default is deprecated: use @default decorator instead.\n",
      "  def _formatters_default(self):\n",
      "/usr/local/lib/python2.7/dist-packages/IPython/core/formatters.py:677: DeprecationWarning: PlainTextFormatter._deferred_printers_default is deprecated: use @default decorator instead.\n",
      "  def _deferred_printers_default(self):\n",
      "/usr/local/lib/python2.7/dist-packages/IPython/core/formatters.py:669: DeprecationWarning: PlainTextFormatter._singleton_printers_default is deprecated: use @default decorator instead.\n",
      "  def _singleton_printers_default(self):\n",
      "/usr/local/lib/python2.7/dist-packages/IPython/core/formatters.py:672: DeprecationWarning: PlainTextFormatter._type_printers_default is deprecated: use @default decorator instead.\n",
      "  def _type_printers_default(self):\n",
      "/usr/local/lib/python2.7/dist-packages/IPython/core/formatters.py:672: DeprecationWarning: PlainTextFormatter._type_printers_default is deprecated: use @default decorator instead.\n",
      "  def _type_printers_default(self):\n",
      "/usr/local/lib/python2.7/dist-packages/IPython/core/formatters.py:677: DeprecationWarning: PlainTextFormatter._deferred_printers_default is deprecated: use @default decorator instead.\n",
      "  def _deferred_printers_default(self):\n"
     ]
    }
   ],
   "source": [
    "import underworld as uw\n",
    "from underworld import function as fn\n",
    "\n",
    "import glucifer\n",
    "from easydict import EasyDict as edict\n",
    "\n",
    "\n",
    "uw.matplotlib_inline()\n",
    "import sys\n",
    "\n",
    "# import matplotlib.pyplot as pyplot\n",
    "# import matplotlib.pylab as pylab\n",
    "import numpy as np\n",
    "import math\n",
    "import os\n"
   ]
  },
  {
   "cell_type": "code",
   "execution_count": 2,
   "metadata": {
    "collapsed": false,
    "extensions": {
     "jupyter_dashboards": {
      "version": 1,
      "views": {
       "grid_default": {
        "hidden": true
       },
       "report_default": {
        "hidden": true
       }
      }
     }
    },
    "hideCode": false,
    "hidePrompt": false
   },
   "outputs": [],
   "source": [
    "\n",
    "workdir = os.path.abspath(\".\")\n",
    "outputPath = os.path.join(workdir,\"output\")\n",
    "\n",
    "\n",
    "if uw.rank() == 0:\n",
    "    if not os.path.exists(outputPath):\n",
    "        os.makedirs(outputPath)\n",
    "    \n",
    "uw.barrier()   \n"
   ]
  },
  {
   "cell_type": "code",
   "execution_count": 29,
   "metadata": {
    "collapsed": false
   },
   "outputs": [],
   "source": [
    "\n",
    "pd = edict({}) #parameters dictionary\n",
    "md = edict({}) #model setup, numerics, etc\n",
    "\n",
    "\n",
    "pd = edict({'fthickness':0.0075,      \n",
    "            'friction_mu':0.00001,\n",
    "            'friction_C':0.00001,\n",
    "            'friction_min':0.00001})\n",
    "            \n",
    "            \n",
    "\n",
    "md = edict({'RES':64,\n",
    "            'elementType':\"Q1/dQ0\"})\n",
    "\n"
   ]
  },
  {
   "cell_type": "code",
   "execution_count": null,
   "metadata": {
    "collapsed": true
   },
   "outputs": [],
   "source": []
  },
  {
   "cell_type": "code",
   "execution_count": 4,
   "metadata": {
    "collapsed": true
   },
   "outputs": [],
   "source": [
    "#Model number identifier default:\n",
    "ModNum = 0\n",
    "\n",
    "#Any isolated letter / integer command line args are interpreted as Model/ModelNum\n",
    "\n",
    "if len(sys.argv) == 1:\n",
    "    ModNum = ModNum \n",
    "elif sys.argv[1] == '-f': #\n",
    "    ModNum = ModNum \n",
    "else:\n",
    "    for farg in sys.argv[1:]:\n",
    "        if not '=' in farg: #then Assume it's a not a paramter argument\n",
    "            try:\n",
    "                ModNum = int(farg) #try to convert everingthing to a float, else remains string\n",
    "            except ValueError:\n",
    "                Pass"
   ]
  },
  {
   "cell_type": "code",
   "execution_count": 5,
   "metadata": {
    "collapsed": false
   },
   "outputs": [],
   "source": [
    "###########\n",
    "#If extra arguments are provided to the script\" eg:\n",
    "### >>> uw.py 2 dp.arg1=1 dp.arg2=foo dp.arg3=3.0\n",
    "###########\n",
    "\n",
    "for farg in sys.argv[1:]:\n",
    "    try:\n",
    "        (dicitem,val) = farg.split(\"=\") #Split on equals operator\n",
    "        (dic,arg) = dicitem.split(\".\") #colon notation\n",
    "        if '*=' in farg:\n",
    "            (dicitem,val) = farg.split(\"*=\") #If in-place multiplication, split on '*='\n",
    "            (dic,arg) = dicitem.split(\".\")\n",
    "            \n",
    "        if val == 'True': \n",
    "            val = True\n",
    "        elif val == 'False':     #First check if args are boolean\n",
    "            val = False\n",
    "        else:\n",
    "            try:\n",
    "                val = float(val) #next try to convert  to a float,\n",
    "            except ValueError:\n",
    "                pass             #otherwise leave as string\n",
    "        #Update the dictionary\n",
    "        if farg.startswith('pd'):\n",
    "            if '*=' in farg:\n",
    "                pd[arg] = pd[arg]*val #multiply parameter by given factor\n",
    "            else:\n",
    "                pd[arg] = val    #or reassign parameter by given value\n",
    "        if farg.startswith('md'):\n",
    "            if '*=' in farg:\n",
    "                md[arg] = md[arg]*val #multiply parameter by given factor\n",
    "            else:\n",
    "                md[arg] = val    #or reassign parameter by given value\n",
    "                \n",
    "    except:\n",
    "        pass\n",
    "            \n",
    "\n",
    "uw.barrier()"
   ]
  },
  {
   "cell_type": "code",
   "execution_count": 31,
   "metadata": {
    "collapsed": false
   },
   "outputs": [
    {
     "name": "stdout",
     "output_type": "stream",
     "text": [
      "('in the parameter dictionary: ', {'friction_mu': 1e-05, 'fthickness': 0.0075, 'friction_C': 1e-05, 'friction_min': 1e-05})\n",
      "('in the model dictionary: ', {'RES': 64, 'elementType': 'Q1/dQ0'})\n"
     ]
    }
   ],
   "source": [
    "print(\"parameter dictionary: \", pd)\n",
    "print(\"model dictionary: \", md)"
   ]
  },
  {
   "cell_type": "markdown",
   "metadata": {
    "collapsed": false
   },
   "source": [
    "## Model"
   ]
  },
  {
   "cell_type": "code",
   "execution_count": 34,
   "metadata": {
    "collapsed": false
   },
   "outputs": [],
   "source": [
    "#def run_the_fault(num=1, fthickness = 0.0075, friction_mu = 0.00001, friction_C  = 0.00001, friction_min = 0.00001):\n",
    "\n",
    "outputFile = 'results_' + str(ModNum) + '.dat'\n",
    "\n",
    "minX  =  0.0;   minY = 0.0\n",
    "maxX  =  2.0;   maxY = 1.0\n",
    "\n",
    "\n",
    "resY = int(md.RES)\n",
    "resX = int(resY*2)\n",
    "\n",
    "#\"Q1/dQ0\"  \n",
    "#\"Q2/dpc1\"\n",
    "elementType = md.elementType\n",
    "\n",
    "mesh = uw.mesh.FeMesh_Cartesian( elementType = (elementType), \n",
    "                                 elementRes  = ( resX, resY), \n",
    "                                 minCoord    = ( minX, minY), \n",
    "                                 maxCoord    = ( maxX, maxY),\n",
    "                                 periodic    = [False, False]  ) \n",
    "\n",
    "\n",
    "velocityField    = uw.mesh.MeshVariable( mesh=mesh,         nodeDofCount=mesh.dim )\n",
    "pressureField    = uw.mesh.MeshVariable( mesh=mesh.subMesh, nodeDofCount=1 )\n",
    "\n",
    "velocityField.data[:]   = [0.,0.]\n",
    "pressureField.data[:]   = 0.\n",
    "\n",
    "\n",
    "refVelocityField    = uw.mesh.MeshVariable( mesh=mesh,         nodeDofCount=mesh.dim )\n",
    "refPressureField    = uw.mesh.MeshVariable( mesh=mesh.subMesh, nodeDofCount=1 )\n",
    "\n",
    "refVelocityField.data[:]   = [0.,0.]\n",
    "refPressureField.data[:]   = 0.\n",
    "\n",
    "wzVelocityField    = uw.mesh.MeshVariable( mesh=mesh,         nodeDofCount=mesh.dim )\n",
    "wzPressureField    = uw.mesh.MeshVariable( mesh=mesh.subMesh, nodeDofCount=1 )\n",
    "\n",
    "wzVelocityField.data[:]   = [0.,0.]\n",
    "wzPressureField.data[:]   = 0.\n",
    "\n",
    "\n",
    "# Define strain rate tensor\n",
    "\n",
    "strainRateFn = fn.tensor.symmetric( velocityField.fn_gradient )\n",
    "strainRate_2ndInvariantFn = fn.tensor.second_invariant(strainRateFn)\n",
    "\n",
    "wzStrainRateFn = fn.tensor.symmetric( wzVelocityField.fn_gradient )\n",
    "wzStrainRate_2ndInvariantFn = fn.tensor.second_invariant(wzStrainRateFn)\n",
    "\n",
    "refStrainRateFn = fn.tensor.symmetric( refVelocityField.fn_gradient )\n",
    "refStrainRate_2ndInvariantFn = fn.tensor.second_invariant(refStrainRateFn)\n",
    "   "
   ]
  },
  {
   "cell_type": "code",
   "execution_count": 33,
   "metadata": {
    "collapsed": true
   },
   "outputs": [],
   "source": [
    "#####\n",
    "#BCs\n",
    "#####\n",
    "iWalls = mesh.specialSets[\"MinI_VertexSet\"] + mesh.specialSets[\"MaxI_VertexSet\"]\n",
    "jWalls = mesh.specialSets[\"MinJ_VertexSet\"] + mesh.specialSets[\"MaxJ_VertexSet\"]\n",
    "\n",
    "baseWall   = mesh.specialSets[\"MinJ_VertexSet\"]\n",
    "topWall    = mesh.specialSets[\"MaxJ_VertexSet\"]\n",
    "\n",
    "freeslipBC = uw.conditions.DirichletCondition( variable        = velocityField, \n",
    "                                               indexSetsPerDof = (iWalls, jWalls) )     \n"
   ]
  },
  {
   "cell_type": "code",
   "execution_count": 17,
   "metadata": {
    "collapsed": true
   },
   "outputs": [],
   "source": [
    "#####\n",
    "#Swarm\n",
    "#####\n",
    "swarm  = uw.swarm.Swarm( mesh=mesh, particleEscape=True )\n",
    "swarmLayout = uw.swarm.layouts.GlobalSpaceFillerLayout( swarm=swarm, particlesPerCell=50 )\n",
    "swarm.populate_using_layout( layout=swarmLayout )\n",
    "\n",
    "# Population control may be useful\n",
    "\n",
    "pop_control = uw.swarm.PopulationControl(swarm, aggressive=True, particlesPerCell=50)\n",
    "\n",
    "advector = uw.systems.SwarmAdvector( swarm=swarm, velocityField=velocityField, order=2 )\n",
    "# Tracking different materials etc\n",
    "materialVariable       = swarm.add_variable( dataType=\"int\", count=1 )\n",
    "# Tracking the fault information\n",
    "proximityVariable      = swarm.add_variable( dataType=\"int\", count=1 )\n",
    "signedDistanceVariable = swarm.add_variable( dataType=\"float\", count=1 )\n",
    "directorVector   = swarm.add_variable( dataType=\"double\", count=2)\n",
    "\n",
    "directorVector.data[:,:] = 0.0\n",
    "proximityVariable.data[:] = 0\n",
    "signedDistanceVariable.data[:] = 0.0\n",
    "\n",
    "\n",
    "#####\n",
    "#Material Dist. \n",
    "#####\n",
    "materialA  = 0 # accommodation layer a.k.a. Sticky Air\n",
    "materialV  = 1 # Rigid blocks\n",
    "\n",
    "yCoord = fn.coord()[1]\n",
    "\n",
    "conditions = [ (       yCoord > 1.1 ,                      materialA ),\n",
    "               (       yCoord < 0.0  ,                     materialA ),\n",
    "               (       True ,                              materialV ) ]\n",
    "\n",
    "materialVariable.data[:] = fn.branching.conditional( conditions ).evaluate(swarm)"
   ]
  },
  {
   "cell_type": "code",
   "execution_count": 18,
   "metadata": {
    "collapsed": true
   },
   "outputs": [],
   "source": [
    "#####\n",
    "#Faults \n",
    "#####\n",
    "from marker2D import markerLine2D\n",
    "#from unsupported.interfaces import markerLine2D\n",
    "faults = []\n",
    "\n",
    "forientation = np.radians(45)\n",
    "flength    = 0.35355\n",
    "fstart = 1.375\n",
    "faultLine1 = (fstart, 1.0)\n",
    "faultLine2 = (faultLine1[0] + flength * np.cos(forientation), faultLine1[1]-flength*np.sin(forientation) )\n",
    "\n",
    "faultLineXs = np.linspace(faultLine1[0], faultLine2[0], 50)\n",
    "faultLineYs = np.linspace(faultLine1[1], faultLine2[1], 50)\n",
    "\n",
    "# Build a fault object out of this\n",
    "\n",
    "fault_seg1  = markerLine2D(mesh, velocityField, faultLineXs, faultLineYs, pd.fthickness, 0.0, 0.0, 1)\n",
    "faults.append(fault_seg1)\n",
    "\n",
    "uw.barrier()\n",
    "\n",
    "def update_swarm_from_faults(faults, proximityVariable, normalVectorVariable, signedDistanceVariable):\n",
    "    \"\"\"\n",
    "    Compute fault attributes from the marker-line objects in the 'faults' list.\n",
    "    Specifically:\n",
    "\n",
    "      - proximityVariable carries information about which fault each swarm particle is close to (0 means none)\n",
    "      - normalVectorVariable maps the orientation of the fault to nearby swarm particles\n",
    "      - signedDistanceVariable carries the distance (positive means 'inside')  \n",
    "\n",
    "      Unchecked error: if these variables are from different swarms \n",
    "\n",
    "    \"\"\"\n",
    "\n",
    "    for fault_seg in faults:\n",
    "\n",
    "        swarm = proximityVariable.swarm\n",
    "\n",
    "        f, nz = fault_seg.compute_marker_proximity(swarm.particleCoordinates.data)    \n",
    "        proximityVariable.data[nz] = f[nz]\n",
    "\n",
    "        dv, nzv = fault_seg.compute_normals(swarm.particleCoordinates.data)\n",
    "        normalVectorVariable.data[nzv] = dv[nzv]\n",
    "\n",
    "        sd, dnz = fault_seg.compute_signed_distance(swarm.particleCoordinates.data)\n",
    "        signedDistanceVariable.data[dnz] = sd[dnz]\n",
    "\n",
    "    return\n",
    "\n",
    "\n",
    "def mask_materials(material, materialVariable, proximityVariable, normalVectorVariable, signedDistanceVariable):\n",
    "\n",
    "    fptsMaskOut = np.where(materialVariable.data[:,0] != material)[0]\n",
    "\n",
    "    normalVectorVariable.data[fptsMaskOut,:] = [0.0,0.0]\n",
    "    proximityVariable.data[fptsMaskOut] = 0\n",
    "    signedDistanceVariable.data[fptsMaskOut] = 0.0\n",
    "\n",
    "\n",
    "def fault_strainrate_fns(fault_list, velocityField, faultNormalVariable, proximityproVariable):\n",
    "\n",
    "    ## This is a quick / short cut way to find the resolved stress components.\n",
    "\n",
    "    strainRateFn = fn.tensor.symmetric( velocityField.fn_gradient )\n",
    "\n",
    "\n",
    "    #  n1 * edot_11 * n1 + \n",
    "    #  n2 * edot_21 * n1 + \n",
    "    #  n1 * edot_21 * n2 +\n",
    "    #  n2 * edot_22 * n2 \n",
    "\n",
    "#     _edotn_SFn = ( directorVector[0] * strainRateFn[0] * directorVector[0] + \n",
    "#                    directorVector[1] * strainRateFn[2] * directorVector[0] + # Symmetry !! \n",
    "#                    directorVector[0] * strainRateFn[2] * directorVector[1] + \n",
    "#                    directorVector[1] * strainRateFn[1] * directorVector[1]                          \n",
    "#                 )\n",
    "\n",
    "\n",
    "    ## \"OPTIMIZED\" VERSION\n",
    "\n",
    "    _edotn_SFn = (        directorVector[0]**2 * strainRateFn[0]  + \n",
    "                    2.0 * directorVector[1]    * strainRateFn[2] * directorVector[0] + \n",
    "                          directorVector[1]**2 * strainRateFn[1]                          \n",
    "                ) \n",
    "\n",
    "    # any non-zero proximity requires the computation of the above\n",
    "\n",
    "    _edotn_SFn_Map    = { 0: 0.0 }\n",
    "    for f in fault_list:\n",
    "        _edotn_SFn_Map[f.ID] =  _edotn_SFn\n",
    "\n",
    "\n",
    "    #  s1 = -n2\n",
    "    #  s2 =  n1\n",
    "    #\n",
    "    # -n2 * edot_11 * n1 + \n",
    "    #  n1 * edot_21 * n1 + \n",
    "    # -n2 * edot_21 * n2 + \n",
    "    #  n1 * edot_22 * n2     \n",
    "\n",
    "#     _edots_SFn = ( -directorVector[1] * strainRateFn[0] * directorVector[0] + \n",
    "#                     directorVector[0] * strainRateFn[2] * directorVector[0] + \n",
    "#                    -directorVector[1] * strainRateFn[2] * directorVector[1] + \n",
    "#                     directorVector[0] * strainRateFn[1] * directorVector[1] \n",
    "#                 )\n",
    "\n",
    "    ## \"OPTIMIZED\" VERSION\n",
    "\n",
    "\n",
    "    _edots_SFn = (  directorVector[0] *  directorVector[1] *(strainRateFn[1] - strainRateFn[0]) +\n",
    "                    strainRateFn[2] * (directorVector[0]**2 - directorVector[1]**2)\n",
    "                 )\n",
    "\n",
    "\n",
    "    _edots_SFn_Map = { 0: 1.0e-15 }\n",
    "\n",
    "    for f in fault_list:\n",
    "        _edots_SFn_Map[f.ID] =  _edots_SFn\n",
    "\n",
    "\n",
    "    edotn_SFn =     fn.branching.map( fn_key = proximityVariable, \n",
    "                                      mapping = _edotn_SFn_Map)\n",
    "\n",
    "\n",
    "    edots_SFn =     fn.branching.map( fn_key = proximityVariable, \n",
    "                                      mapping = _edots_SFn_Map )\n",
    "\n",
    "\n",
    "    return edotn_SFn, edots_SFn\n",
    "\n",
    "\n",
    "\n",
    "\n",
    "\n",
    "## Call the Fault helper functions \n",
    "\n",
    "update_swarm_from_faults(faults, proximityVariable, directorVector, signedDistanceVariable)\n",
    "mask_materials(materialV, materialVariable, proximityVariable, directorVector, signedDistanceVariable)\n",
    "\n",
    "# These should be general enough not to need updating when the faults move etc\n",
    "\n",
    "edotn_SFn, edots_SFn = fault_strainrate_fns(faults, velocityField, directorVector, proximityVariable)\n"
   ]
  },
  {
   "cell_type": "code",
   "execution_count": 19,
   "metadata": {
    "collapsed": true
   },
   "outputs": [],
   "source": [
    "#####\n",
    "#Rheology\n",
    "#####\n",
    "viscosity   = 1.0\n",
    "deltaViscosity = 1.0\n",
    "expDepthConstant = fn.misc.constant(math.log(deltaViscosity))\n",
    "\n",
    "#friction_mu = 0.00001 #in function \n",
    "#friction_C  = 0.00001 #in function \n",
    "\n",
    "#minimum viscosity associated with tangential shear rate\n",
    "#friction_min = 0.00001 in function \n",
    "\n",
    "delta_f_min = 1. - pd.friction_min\n",
    "\n",
    "\n",
    "ageProxyFn = (fn.misc.constant(fstart) - fn.math.abs(fn.coord()[0] - fstart))/fstart\n",
    "firstViscosityFn   = fn.misc.max(viscosity, fn.misc.constant(viscosity) * fn.math.exp( expDepthConstant * fn.coord()[1])*ageProxyFn)\n",
    "\n",
    "# Now the second viscosity (for shear)\n",
    "\n",
    "# 2nd Viscosity is defined by delta eta (0.0 means isotropic)\n",
    "\n",
    "# Delta Visc \n",
    "\n",
    "viscosityTI2_fn = fn.misc.min(firstViscosityFn*delta_f_min, fn.misc.max(0.0, \n",
    "                     firstViscosityFn - (pd.friction_mu * (-edotn_SFn * firstViscosityFn + pressureField)  + pd.friction_C) / (fn.math.abs(edots_SFn) + 1.0e-15)))\n",
    "\n",
    "\n",
    "\n",
    "\n",
    "# This one maps to the fault-proximity variable \n",
    "\n",
    "viscosity2Map    = { 0: 0.0, \n",
    "                     1: viscosityTI2_fn, \n",
    "                     2: viscosityTI2_fn                   \n",
    "                   }\n",
    "\n",
    "secondViscosityFn  = fn.branching.map( fn_key  = proximityVariable, \n",
    "                                       mapping = viscosity2Map )\n",
    "\n",
    "\n",
    "viscosityDP_fn = fn.misc.min(firstViscosityFn, fn.misc.max(pd.friction_min, \n",
    "                     (pd.friction_mu * pressureField  + pd.friction_C) / (strainRate_2ndInvariantFn + 1.0e-15)))\n",
    "\n",
    "\n",
    "viscosityWZMap   = { 0: firstViscosityFn,\n",
    "                     1: viscosityDP_fn, \n",
    "                     2: viscosityDP_fn }\n",
    "\n",
    "\n",
    "viscosityWZFn       =  fn.branching.map( fn_key  = proximityVariable, \n",
    "                                         mapping = viscosityWZMap )"
   ]
  },
  {
   "cell_type": "code",
   "execution_count": 20,
   "metadata": {
    "collapsed": true
   },
   "outputs": [],
   "source": [
    "#####\n",
    "#Buoyancy and Stokes\n",
    "#####\n",
    "z_hat = ( 0.0, 1.0 )\n",
    "Ra = fn.misc.constant(1.0)\n",
    "\n",
    "T_fn = fn.misc.constant(0.01) *  fn.math.cos(np.pi/maxX * fn.coord()[0]) * fn.math.sin(np.pi * fn.coord()[1])\n",
    "buoyancyFn = z_hat * T_fn\n",
    "\n",
    "\n",
    "\n",
    "# Build a reference case\n",
    "stokesPIC1 = uw.systems.Stokes( velocityField  = velocityField, \n",
    "                               pressureField  = pressureField,\n",
    "                               conditions     = [freeslipBC,],\n",
    "                               fn_viscosity   = firstViscosityFn, \n",
    "                               fn_bodyforce   = buoyancyFn )\n",
    "\n",
    "solver    = uw.systems.Solver( stokesPIC1 )\n",
    "\n",
    "solver.set_inner_method(\"mumps\")\n",
    "solver.set_penalty(1.0e6)\n",
    "solver.options.scr.ksp_rtol = 1.0e-6\n",
    "\n",
    "solver.solve( nonLinearIterate=False, print_stats=False)\n",
    "\n",
    "refVelocityField.data[:,:] = velocityField.data[:,:]\n",
    "refPressureField.data[:]   = pressureField.data[:]\n",
    "\n",
    "del solver\n",
    "del stokesPIC1\n",
    "\n",
    "# Build a weak zone equivalent case\n",
    "velocityField.data[...] = 0.0\n",
    "pressureField.data[...] = 0.0\n",
    "\n",
    "stokesPIC1 = uw.systems.Stokes( velocityField  = velocityField, \n",
    "                               pressureField  = pressureField,\n",
    "                               conditions     = [freeslipBC,],\n",
    "                               fn_viscosity   = viscosityWZFn, \n",
    "                               fn_bodyforce   = buoyancyFn )\n",
    "\n",
    "solver    = uw.systems.Solver( stokesPIC1 )\n",
    "\n",
    "solver.set_inner_method(\"mumps\")\n",
    "solver.set_penalty(1.0e6)\n",
    "solver.options.scr.ksp_rtol = 1.0e-6\n",
    "\n",
    "solver.solve( nonLinearIterate=True, nonLinearTolerance=0.00001, print_stats=False)\n",
    "\n",
    "wzVelocityField.data[:,:] = velocityField.data[:,:]\n",
    "wzPressureField.data[:]   = pressureField.data[:]\n",
    "\n",
    "del solver\n",
    "del stokesPIC1\n",
    "\n",
    "\n",
    "# The anisotropic case \n",
    "velocityField.data[...] = 0.0\n",
    "pressureField.data[...] = 0.0\n",
    "\n",
    "stokesPIC = uw.systems.Stokes( velocityField  = velocityField, \n",
    "                               pressureField  = pressureField,\n",
    "                               conditions     = [freeslipBC,],\n",
    "                               fn_viscosity   = firstViscosityFn, \n",
    "                              _fn_viscosity2  = secondViscosityFn,\n",
    "                              _fn_director    = directorVector,                         \n",
    "                               fn_bodyforce   = buoyancyFn )\n",
    "\n",
    "solver    = uw.systems.Solver( stokesPIC )\n",
    "solver.set_inner_method(\"mumps\")\n",
    "solver.set_penalty(1.0e6)\n",
    "solver.options.scr.ksp_rtol = 1.0e-6\n",
    "\n",
    "solver.solve( nonLinearIterate=True, nonLinearTolerance=0.00001, print_stats=False )\n",
    "\n",
    "\n",
    "uw.barrier()   \n"
   ]
  },
  {
   "cell_type": "code",
   "execution_count": 21,
   "metadata": {
    "collapsed": false
   },
   "outputs": [
    {
     "data": {
      "text/plain": [
       "388.6903820467941"
      ]
     },
     "execution_count": 21,
     "metadata": {},
     "output_type": "execute_result"
    }
   ],
   "source": [
    "#pressureField.evaluate_global(mesh).max() \n",
    "#thisGuy = fn.view.min_max(pressureField)\n",
    "#thisGuy.evaluate(mesh)\n",
    "#pd.friction_C /(thisGuy.max_global()*pd.friction_mu)"
   ]
  },
  {
   "cell_type": "code",
   "execution_count": null,
   "metadata": {
    "collapsed": true
   },
   "outputs": [],
   "source": []
  },
  {
   "cell_type": "code",
   "execution_count": 39,
   "metadata": {
    "collapsed": false
   },
   "outputs": [
    {
     "ename": "UnicodeDecodeError",
     "evalue": "'ascii' codec can't decode byte 0x89 in position 346: ordinal not in range(128)",
     "output_type": "error",
     "traceback": [
      "\u001b[1;31m\u001b[0m",
      "\u001b[1;31mUnicodeDecodeError\u001b[0mTraceback (most recent call last)",
      "\u001b[1;32m/usr/local/lib/python2.7/dist-packages/IPython/core/interactiveshell.pyc\u001b[0m in \u001b[0;36mrun_code\u001b[1;34m(self, code_obj, result)\u001b[0m\n\u001b[0;32m   2900\u001b[0m             \u001b[1;32mif\u001b[0m \u001b[0mresult\u001b[0m \u001b[1;32mis\u001b[0m \u001b[1;32mnot\u001b[0m \u001b[0mNone\u001b[0m\u001b[1;33m:\u001b[0m\u001b[1;33m\u001b[0m\u001b[0m\n\u001b[0;32m   2901\u001b[0m                 \u001b[0mresult\u001b[0m\u001b[1;33m.\u001b[0m\u001b[0merror_in_exec\u001b[0m \u001b[1;33m=\u001b[0m \u001b[0msys\u001b[0m\u001b[1;33m.\u001b[0m\u001b[0mexc_info\u001b[0m\u001b[1;33m(\u001b[0m\u001b[1;33m)\u001b[0m\u001b[1;33m[\u001b[0m\u001b[1;36m1\u001b[0m\u001b[1;33m]\u001b[0m\u001b[1;33m\u001b[0m\u001b[0m\n\u001b[1;32m-> 2902\u001b[1;33m             \u001b[0mself\u001b[0m\u001b[1;33m.\u001b[0m\u001b[0mshowtraceback\u001b[0m\u001b[1;33m(\u001b[0m\u001b[1;33m)\u001b[0m\u001b[1;33m\u001b[0m\u001b[0m\n\u001b[0m\u001b[0;32m   2903\u001b[0m         \u001b[1;32melse\u001b[0m\u001b[1;33m:\u001b[0m\u001b[1;33m\u001b[0m\u001b[0m\n\u001b[0;32m   2904\u001b[0m             \u001b[0moutflag\u001b[0m \u001b[1;33m=\u001b[0m \u001b[1;36m0\u001b[0m\u001b[1;33m\u001b[0m\u001b[0m\n",
      "\u001b[1;32m/usr/local/lib/python2.7/dist-packages/IPython/core/interactiveshell.pyc\u001b[0m in \u001b[0;36mshowtraceback\u001b[1;34m(self, exc_tuple, filename, tb_offset, exception_only)\u001b[0m\n\u001b[0;32m   1828\u001b[0m                     \u001b[1;32mexcept\u001b[0m \u001b[0mException\u001b[0m\u001b[1;33m:\u001b[0m\u001b[1;33m\u001b[0m\u001b[0m\n\u001b[0;32m   1829\u001b[0m                         stb = self.InteractiveTB.structured_traceback(etype,\n\u001b[1;32m-> 1830\u001b[1;33m                                             value, tb, tb_offset=tb_offset)\n\u001b[0m\u001b[0;32m   1831\u001b[0m \u001b[1;33m\u001b[0m\u001b[0m\n\u001b[0;32m   1832\u001b[0m                     \u001b[0mself\u001b[0m\u001b[1;33m.\u001b[0m\u001b[0m_showtraceback\u001b[0m\u001b[1;33m(\u001b[0m\u001b[0metype\u001b[0m\u001b[1;33m,\u001b[0m \u001b[0mvalue\u001b[0m\u001b[1;33m,\u001b[0m \u001b[0mstb\u001b[0m\u001b[1;33m)\u001b[0m\u001b[1;33m\u001b[0m\u001b[0m\n",
      "\u001b[1;32m/usr/local/lib/python2.7/dist-packages/IPython/core/ultratb.pyc\u001b[0m in \u001b[0;36mstructured_traceback\u001b[1;34m(self, etype, value, tb, tb_offset, number_of_lines_of_context)\u001b[0m\n\u001b[0;32m   1392\u001b[0m         \u001b[0mself\u001b[0m\u001b[1;33m.\u001b[0m\u001b[0mtb\u001b[0m \u001b[1;33m=\u001b[0m \u001b[0mtb\u001b[0m\u001b[1;33m\u001b[0m\u001b[0m\n\u001b[0;32m   1393\u001b[0m         return FormattedTB.structured_traceback(\n\u001b[1;32m-> 1394\u001b[1;33m             self, etype, value, tb, tb_offset, number_of_lines_of_context)\n\u001b[0m\u001b[0;32m   1395\u001b[0m \u001b[1;33m\u001b[0m\u001b[0m\n\u001b[0;32m   1396\u001b[0m \u001b[1;33m\u001b[0m\u001b[0m\n",
      "\u001b[1;32m/usr/local/lib/python2.7/dist-packages/IPython/core/ultratb.pyc\u001b[0m in \u001b[0;36mstructured_traceback\u001b[1;34m(self, etype, value, tb, tb_offset, number_of_lines_of_context)\u001b[0m\n\u001b[0;32m   1300\u001b[0m             \u001b[1;31m# Verbose modes need a full traceback\u001b[0m\u001b[1;33m\u001b[0m\u001b[1;33m\u001b[0m\u001b[0m\n\u001b[0;32m   1301\u001b[0m             return VerboseTB.structured_traceback(\n\u001b[1;32m-> 1302\u001b[1;33m                 \u001b[0mself\u001b[0m\u001b[1;33m,\u001b[0m \u001b[0metype\u001b[0m\u001b[1;33m,\u001b[0m \u001b[0mvalue\u001b[0m\u001b[1;33m,\u001b[0m \u001b[0mtb\u001b[0m\u001b[1;33m,\u001b[0m \u001b[0mtb_offset\u001b[0m\u001b[1;33m,\u001b[0m \u001b[0mnumber_of_lines_of_context\u001b[0m\u001b[1;33m\u001b[0m\u001b[0m\n\u001b[0m\u001b[0;32m   1303\u001b[0m             )\n\u001b[0;32m   1304\u001b[0m         \u001b[1;32melse\u001b[0m\u001b[1;33m:\u001b[0m\u001b[1;33m\u001b[0m\u001b[0m\n",
      "\u001b[1;32m/usr/local/lib/python2.7/dist-packages/IPython/core/ultratb.pyc\u001b[0m in \u001b[0;36mstructured_traceback\u001b[1;34m(self, etype, evalue, etb, tb_offset, number_of_lines_of_context)\u001b[0m\n\u001b[0;32m   1150\u001b[0m \u001b[1;33m\u001b[0m\u001b[0m\n\u001b[0;32m   1151\u001b[0m         formatted_exception = self.format_exception_as_a_whole(etype, evalue, etb, number_of_lines_of_context,\n\u001b[1;32m-> 1152\u001b[1;33m                                                                tb_offset)\n\u001b[0m\u001b[0;32m   1153\u001b[0m \u001b[1;33m\u001b[0m\u001b[0m\n\u001b[0;32m   1154\u001b[0m         \u001b[0mcolors\u001b[0m \u001b[1;33m=\u001b[0m \u001b[0mself\u001b[0m\u001b[1;33m.\u001b[0m\u001b[0mColors\u001b[0m  \u001b[1;31m# just a shorthand + quicker name lookup\u001b[0m\u001b[1;33m\u001b[0m\u001b[0m\n",
      "\u001b[1;32m/usr/local/lib/python2.7/dist-packages/IPython/core/ultratb.pyc\u001b[0m in \u001b[0;36mformat_exception_as_a_whole\u001b[1;34m(self, etype, evalue, etb, number_of_lines_of_context, tb_offset)\u001b[0m\n\u001b[0;32m   1099\u001b[0m             \u001b[1;32mreturn\u001b[0m \u001b[1;34m\"\"\u001b[0m\u001b[1;33m\u001b[0m\u001b[0m\n\u001b[0;32m   1100\u001b[0m \u001b[1;33m\u001b[0m\u001b[0m\n\u001b[1;32m-> 1101\u001b[1;33m         \u001b[0mlast_unique\u001b[0m\u001b[1;33m,\u001b[0m \u001b[0mrecursion_repeat\u001b[0m \u001b[1;33m=\u001b[0m \u001b[0mfind_recursion\u001b[0m\u001b[1;33m(\u001b[0m\u001b[0morig_etype\u001b[0m\u001b[1;33m,\u001b[0m \u001b[0mevalue\u001b[0m\u001b[1;33m,\u001b[0m \u001b[0mrecords\u001b[0m\u001b[1;33m)\u001b[0m\u001b[1;33m\u001b[0m\u001b[0m\n\u001b[0m\u001b[0;32m   1102\u001b[0m \u001b[1;33m\u001b[0m\u001b[0m\n\u001b[0;32m   1103\u001b[0m         \u001b[0mframes\u001b[0m \u001b[1;33m=\u001b[0m \u001b[0mself\u001b[0m\u001b[1;33m.\u001b[0m\u001b[0mformat_records\u001b[0m\u001b[1;33m(\u001b[0m\u001b[0mrecords\u001b[0m\u001b[1;33m,\u001b[0m \u001b[0mlast_unique\u001b[0m\u001b[1;33m,\u001b[0m \u001b[0mrecursion_repeat\u001b[0m\u001b[1;33m)\u001b[0m\u001b[1;33m\u001b[0m\u001b[0m\n",
      "\u001b[1;32m/usr/local/lib/python2.7/dist-packages/IPython/core/ultratb.pyc\u001b[0m in \u001b[0;36mfind_recursion\u001b[1;34m(etype, value, records)\u001b[0m\n\u001b[0;32m    449\u001b[0m     \u001b[1;31m# quarter of the traceback (250 frames by default) is repeats, and find the\u001b[0m\u001b[1;33m\u001b[0m\u001b[1;33m\u001b[0m\u001b[0m\n\u001b[0;32m    450\u001b[0m     \u001b[1;31m# first frame (from in to out) that looks different.\u001b[0m\u001b[1;33m\u001b[0m\u001b[1;33m\u001b[0m\u001b[0m\n\u001b[1;32m--> 451\u001b[1;33m     \u001b[1;32mif\u001b[0m \u001b[1;32mnot\u001b[0m \u001b[0mis_recursion_error\u001b[0m\u001b[1;33m(\u001b[0m\u001b[0metype\u001b[0m\u001b[1;33m,\u001b[0m \u001b[0mvalue\u001b[0m\u001b[1;33m,\u001b[0m \u001b[0mrecords\u001b[0m\u001b[1;33m)\u001b[0m\u001b[1;33m:\u001b[0m\u001b[1;33m\u001b[0m\u001b[0m\n\u001b[0m\u001b[0;32m    452\u001b[0m         \u001b[1;32mreturn\u001b[0m \u001b[0mlen\u001b[0m\u001b[1;33m(\u001b[0m\u001b[0mrecords\u001b[0m\u001b[1;33m)\u001b[0m\u001b[1;33m,\u001b[0m \u001b[1;36m0\u001b[0m\u001b[1;33m\u001b[0m\u001b[0m\n\u001b[0;32m    453\u001b[0m \u001b[1;33m\u001b[0m\u001b[0m\n",
      "\u001b[1;32m/usr/local/lib/python2.7/dist-packages/IPython/core/ultratb.pyc\u001b[0m in \u001b[0;36mis_recursion_error\u001b[1;34m(etype, value, records)\u001b[0m\n\u001b[0;32m    435\u001b[0m     \u001b[1;31m# a recursion error.\u001b[0m\u001b[1;33m\u001b[0m\u001b[1;33m\u001b[0m\u001b[0m\n\u001b[0;32m    436\u001b[0m     \u001b[1;32mreturn\u001b[0m \u001b[1;33m(\u001b[0m\u001b[0metype\u001b[0m \u001b[1;32mis\u001b[0m \u001b[0mrecursion_error_type\u001b[0m\u001b[1;33m)\u001b[0m\u001b[0;31m \u001b[0m\u001b[0;31m\\\u001b[0m\u001b[1;33m\u001b[0m\u001b[0m\n\u001b[1;32m--> 437\u001b[1;33m            \u001b[1;32mand\u001b[0m \u001b[1;34m\"recursion\"\u001b[0m \u001b[1;32min\u001b[0m \u001b[0mstr\u001b[0m\u001b[1;33m(\u001b[0m\u001b[0mvalue\u001b[0m\u001b[1;33m)\u001b[0m\u001b[1;33m.\u001b[0m\u001b[0mlower\u001b[0m\u001b[1;33m(\u001b[0m\u001b[1;33m)\u001b[0m\u001b[0;31m \u001b[0m\u001b[0;31m\\\u001b[0m\u001b[1;33m\u001b[0m\u001b[0m\n\u001b[0m\u001b[0;32m    438\u001b[0m            \u001b[1;32mand\u001b[0m \u001b[0mlen\u001b[0m\u001b[1;33m(\u001b[0m\u001b[0mrecords\u001b[0m\u001b[1;33m)\u001b[0m \u001b[1;33m>\u001b[0m \u001b[1;36m500\u001b[0m\u001b[1;33m\u001b[0m\u001b[0m\n\u001b[0;32m    439\u001b[0m \u001b[1;33m\u001b[0m\u001b[0m\n",
      "\u001b[1;31mUnicodeDecodeError\u001b[0m: 'ascii' codec can't decode byte 0x89 in position 346: ordinal not in range(128)"
     ]
    }
   ],
   "source": [
    "#####\n",
    "#Metrics and Output\n",
    "#####\n",
    "\n",
    "\n",
    "#First we create some swarm variables that we'll set to 0 or 1, \n",
    "#which will help compute integrals on restricted portions of the domain\n",
    "\n",
    "nearfaultRestFn = swarm.add_variable( dataType=\"double\", count=1 )\n",
    "nearfaultRestFn.data[:] = 0.\n",
    "\n",
    "if not fault_seg1.empty: #Can only call fault.kdtree on procs holding part of the fault swarm\n",
    "    nearfaultRestFn.data[:,0] = fault_seg1.kdtree.query(swarm.particleCoordinates.data)[0][:]\n",
    "    nearfaultRestFn.data[np.where(nearfaultRestFn.data > pd.fthickness)] = 1.\n",
    "    nearfaultRestFn.data[np.where(nearfaultRestFn.data <= pd.fthickness)] = 0. \n",
    "    \n",
    "oneelementRestFn = swarm.add_variable( dataType=\"double\", count=1 )\n",
    "oneelementRestFn.data[:] = 0.\n",
    "\n",
    "if not fault_seg1.empty: #Can only call fault.kdtree on procs holding part of the fault swarm\n",
    "    oneelementRestFn.data[:,0] = fault_seg1.kdtree.query(swarm.particleCoordinates.data)[0][:]\n",
    "    oneelementRestFn.data[np.where(oneelementRestFn.data > 1.0/(resY+1.))] = 1.\n",
    "    oneelementRestFn.data[np.where(oneelementRestFn.data <= 1.0/(resY+1.))] = 0. \n",
    "\n",
    "def volumeint(Fn = 1., rFn=1.):\n",
    "    return uw.utils.Integral( Fn*rFn,  mesh )\n",
    "\n",
    "\n",
    "#Dot product of the residual velocity field\n",
    "\n",
    "Vuwr = velocityField-refVelocityField\n",
    "Vwzr = wzVelocityField-refVelocityField\n",
    "Vuwwz = velocityField-wzVelocityField\n",
    "\n",
    "deltaVuwr  = fn.misc.min(1.0, fn.math.dot(Vuwr,  Vuwr))\n",
    "deltaVwzr  = fn.misc.min(1.0, fn.math.dot(Vwzr,  Vwzr))\n",
    "deltaVuwwz = fn.misc.min(1.0, fn.math.dot(Vuwwz,  Vuwwz))\n",
    "\n",
    "#Set up the integrals\n",
    "\n",
    "_area1 = volumeint(1.)\n",
    "_area2 = volumeint(1., rFn=nearfaultRestFn)\n",
    "_area3 = volumeint(1., rFn=oneelementRestFn)\n",
    "\n",
    "_Vuwr1 = volumeint(deltaVuwr)                    #integration over entire domain\n",
    "_Vuwr2 = volumeint(deltaVuwr, nearfaultRestFn)   #integration restricted to area beyond one faultthickness from fault\n",
    "_Vuwr3 = volumeint(deltaVuwr, oneelementRestFn)  #integration restricted to area beyond one element away from fault\n",
    "\n",
    "_Vwzr1 = volumeint(deltaVwzr)\n",
    "_Vwzr2 = volumeint(deltaVwzr, nearfaultRestFn)\n",
    "_Vwzr3 = volumeint(deltaVwzr, oneelementRestFn)\n",
    "\n",
    "_Vuwwz1 = volumeint(deltaVuwwz)\n",
    "_Vuwwz2 = volumeint(deltaVuwwz, nearfaultRestFn)\n",
    "_Vuwwz3 = volumeint(deltaVuwwz, oneelementRestFn)\n",
    "\n",
    "#Evaluate the integrals\n",
    "\n",
    "area1 = _area1.evaluate()[0]\n",
    "area2 = _area2.evaluate()[0]\n",
    "area3 = _area3.evaluate()[0]\n",
    "\n",
    "dVuwr1 = np.sqrt(_Vuwr1.evaluate()[0]) #TI - ref\n",
    "dVuwr2 = np.sqrt(_Vuwr2.evaluate()[0])\n",
    "dVuwr3 = np.sqrt(_Vuwr3.evaluate()[0])\n",
    "\n",
    "dVwzr1 = np.sqrt(_Vwzr1.evaluate()[0]) #Wz - ref\n",
    "dVwzr2 = np.sqrt(_Vwzr2.evaluate()[0])\n",
    "dVwzr3 = np.sqrt(_Vwzr3.evaluate()[0])\n",
    "\n",
    "dVuwwz1 = np.sqrt( _Vuwwz1.evaluate()[0]) #Ti - wz\n",
    "dVuwwz2 = np.sqrt(_Vuwwz2.evaluate()[0])\n",
    "dVuwwz3 = np.sqrt(_Vuwwz2.evaluate()[0])\n",
    "\n",
    "#Also calculate the ratio of Cohesion to confinement-strength in the Drucker-Prager formulation\n",
    "#pressureField.evaluate_global(mesh).max() \n",
    "#thisGuy = fn.view.min_max(pressureField)\n",
    "#thisGuy.evaluate(mesh)\n",
    "#c_dp = pd.friction_C /(thisGuy.max_global()*pd.friction_mu)\n",
    "    \n",
    "if uw.rank() == 0:\n",
    "    f_o = open(os.path.join(outputPath, outputFile), 'a') \n",
    "    f_o.write((15*'%-15s ' + '\\n') % (md.RES, md.elementType,\n",
    "                                      pd.fthickness, pd.friction_mu, pd.friction_C, pd.friction_min,\n",
    "                                      dVuwr1,dVuwr2,dVuwr3,\n",
    "                                      dVwzr1,dVwzr2,dVwzr3,\n",
    "                                      dVuwwz1, dVuwwz2, dVuwwz2))\n",
    "    f_o.close()"
   ]
  },
  {
   "cell_type": "code",
   "execution_count": null,
   "metadata": {
    "collapsed": true
   },
   "outputs": [],
   "source": []
  },
  {
   "cell_type": "code",
   "execution_count": 24,
   "metadata": {
    "collapsed": false
   },
   "outputs": [
    {
     "name": "stdout",
     "output_type": "stream",
     "text": [
      "2.0\n",
      "1.99489152012\n",
      "1.98886288513\n"
     ]
    }
   ],
   "source": [
    "#print area1\n",
    "#print area2\n",
    "#print area3"
   ]
  },
  {
   "cell_type": "code",
   "execution_count": 35,
   "metadata": {
    "collapsed": false
   },
   "outputs": [],
   "source": [
    "#print dVwzr1\n",
    "#print dVwzr2\n",
    "#print dVwzr3"
   ]
  },
  {
   "cell_type": "code",
   "execution_count": 36,
   "metadata": {
    "collapsed": false
   },
   "outputs": [],
   "source": [
    "#yElementFix = 1./(resY + 1)\n",
    "#xElementFix = 2./(resX + 1)\n",
    "#dE = yElementFix*xElementFix\n",
    "\n",
    "#bg_nodes = np.where(fault_seg1.kdtree.query(mesh.data)[0] > pd.fthickness)\n",
    "\n",
    "#deltaVuwr  = fn.misc.min(1.0, fn.math.dot(Vuwr,  Vuwr))\n",
    "#deltaVwzr  = fn.misc.min(1.0, fn.math.dot(Vwzr,  Vwzr))\n",
    "#deltaVuwwz = fn.misc.min(1.0, fn.math.dot(Vuwwz,  Vuwwz))\n",
    "\n",
    "#dVuwrF = np.sqrt( deltaVuwr.evaluate(mesh.data[bg_nodes])).sum()\n",
    "#dVwzrF = np.sqrt( deltaVwzr.evaluate(mesh.data[bg_nodes])).sum()\n",
    "#dVuwwzF = np.sqrt( deltaVuwwz.evaluate(mesh.data[bg_nodes])).sum()\n",
    "\n",
    "#print pd.fthickness,\": \", dVuwrF, dVwzrF, dVuwwzF, dVuwrF*dE, dVwzrF*dE, dVuwwzF*dE"
   ]
  },
  {
   "cell_type": "code",
   "execution_count": 37,
   "metadata": {
    "collapsed": false
   },
   "outputs": [],
   "source": [
    "#print(dVuwr2, dVuwrF*dE)    #swarm intagration vs node summation\n",
    "#print(dVwzr2, dVwzrF*dE)    \n",
    "#print(dVuwwz2, dVuwwzF*dE) "
   ]
  },
  {
   "cell_type": "code",
   "execution_count": 38,
   "metadata": {
    "collapsed": false
   },
   "outputs": [],
   "source": [
    "#fig3= glucifer.Figure( figsize=(1000,600) )\n",
    "\n",
    "#fig3.append( glucifer.objects.Points(swarm, nearfaultRestFn, colourBar=True ) )\n",
    "#fig3.show()"
   ]
  },
  {
   "cell_type": "markdown",
   "metadata": {
    "collapsed": false
   },
   "source": [
    "Once outputted to a script, a paramter sweep can be setup, for example, like:\n",
    "\n",
    "\n",
    "```\n",
    "for a in 0.015 0.75 1.0 0.5.\n",
    "do\n",
    "   for b in 0.00001 0.00005 0.0001 0.0005 0.001\n",
    "   do\n",
    "      for c in 0.00001 0.00005 0.0001 0.0005 0.001:\n",
    "      do\n",
    "         for d in 0.00001 0.0001 0.001 0.01 0.1\n",
    "         do\n",
    "            python this_nb.py 8 pd.fthickness=$a pd.friction_mu=$b pd.friction_C=$c pd.friction_min=$d         \n",
    "         done\n",
    "      done\n",
    "   done\n",
    "done\n",
    "\n",
    "```"
   ]
  },
  {
   "cell_type": "code",
   "execution_count": 40,
   "metadata": {
    "collapsed": false
   },
   "outputs": [
    {
     "data": {
      "text/plain": [
       "0.00375"
      ]
     },
     "execution_count": 40,
     "metadata": {},
     "output_type": "execute_result"
    }
   ],
   "source": [
    "0.0075/2"
   ]
  },
  {
   "cell_type": "code",
   "execution_count": null,
   "metadata": {
    "collapsed": true
   },
   "outputs": [],
   "source": []
  }
 ],
 "metadata": {
  "celltoolbar": "Hide code",
  "extensions": {
   "jupyter_dashboards": {
    "activeView": "grid_default",
    "version": 1,
    "views": {
     "grid_default": {
      "cellMargin": 10,
      "defaultCellHeight": 20,
      "maxColumns": 12,
      "name": "grid",
      "type": "grid"
     },
     "report_default": {
      "name": "report",
      "type": "report"
     }
    }
   }
  },
  "kernelspec": {
   "display_name": "Python 2",
   "language": "python",
   "name": "python2"
  },
  "language_info": {
   "codemirror_mode": {
    "name": "ipython",
    "version": 2
   },
   "file_extension": ".py",
   "mimetype": "text/x-python",
   "name": "python",
   "nbconvert_exporter": "python",
   "pygments_lexer": "ipython2",
   "version": "2.7.9"
  }
 },
 "nbformat": 4,
 "nbformat_minor": 0
}
