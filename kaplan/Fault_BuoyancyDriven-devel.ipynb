{
 "cells": [
  {
   "cell_type": "markdown",
   "metadata": {
    "extensions": {
     "jupyter_dashboards": {
      "version": 1,
      "views": {
       "grid_default": {
        "col": 0,
        "height": 7,
        "hidden": false,
        "row": 0,
        "width": 12
       },
       "report_default": {
        "hidden": false
       }
      }
     }
    },
    "hideCode": false
   },
   "source": [
    "## Zhong et al model \n",
    "\n",
    "In this example we compare the zhong model at 129x65 node resolution with the two weak-zone based models. One uses a transversely isotropic viscosity model to impose a frictional-surface contraint on the shear-stress / normal stress ration for integration points close to the fault zone, the other uses an isotropic viscosity to impose a granular-friction constraint on the 2nd invariant of the total stress tensor for points close the the fault zone. \n",
    "\n",
    "\n"
   ]
  },
  {
   "cell_type": "code",
   "execution_count": 41,
   "metadata": {
    "collapsed": false,
    "extensions": {
     "jupyter_dashboards": {
      "version": 1,
      "views": {
       "grid_default": {
        "hidden": true
       },
       "report_default": {
        "hidden": false
       }
      }
     }
    },
    "hideCode": false,
    "hidePrompt": false
   },
   "outputs": [],
   "source": [
    "import underworld as uw\n",
    "from underworld import function as fn\n",
    "\n",
    "import glucifer\n",
    "from easydict import EasyDict as edict\n",
    "\n",
    "\n",
    "uw.matplotlib_inline()\n",
    "import sys\n",
    "\n",
    "# import matplotlib.pyplot as pyplot\n",
    "# import matplotlib.pylab as pylab\n",
    "import numpy as np\n",
    "import math\n",
    "import os\n"
   ]
  },
  {
   "cell_type": "code",
   "execution_count": 42,
   "metadata": {
    "collapsed": false,
    "extensions": {
     "jupyter_dashboards": {
      "version": 1,
      "views": {
       "grid_default": {
        "hidden": true
       },
       "report_default": {
        "hidden": true
       }
      }
     }
    },
    "hideCode": false,
    "hidePrompt": false
   },
   "outputs": [],
   "source": [
    "\n",
    "workdir = os.path.abspath(\".\")\n",
    "outputPath = os.path.join(workdir,\"output\")\n",
    "\n",
    "\n",
    "if uw.rank() == 0:\n",
    "    if not os.path.exists(outputPath):\n",
    "        os.makedirs(outputPath)\n",
    "    \n",
    "uw.barrier()   \n"
   ]
  },
  {
   "cell_type": "code",
   "execution_count": 43,
   "metadata": {
    "collapsed": false
   },
   "outputs": [],
   "source": [
    "\n",
    "pd = edict({}) #parameters dictionary\n",
    "md = edict({}) #model setup, numerics, etc\n",
    "\n",
    "\n",
    "pd = edict({'fthickness':0.0075,      \n",
    "            'friction_mu':0.00001,\n",
    "            'friction_C':0.00001,\n",
    "            'friction_min':0.00001})\n",
    "            \n",
    "            \n",
    "\n",
    "md = edict({'RES':64,\n",
    "            'elementType':\"Q1/dQ0\"})\n",
    "\n"
   ]
  },
  {
   "cell_type": "code",
   "execution_count": null,
   "metadata": {
    "collapsed": true
   },
   "outputs": [],
   "source": []
  },
  {
   "cell_type": "code",
   "execution_count": 44,
   "metadata": {
    "collapsed": true
   },
   "outputs": [],
   "source": [
    "#Model number identifier default:\n",
    "ModNum = 0\n",
    "\n",
    "#Any isolated letter / integer command line args are interpreted as Model/ModelNum\n",
    "\n",
    "if len(sys.argv) == 1:\n",
    "    ModNum = ModNum \n",
    "elif sys.argv[1] == '-f': #\n",
    "    ModNum = ModNum \n",
    "else:\n",
    "    for farg in sys.argv[1:]:\n",
    "        if not '=' in farg: #then Assume it's a not a paramter argument\n",
    "            try:\n",
    "                ModNum = int(farg) #try to convert everingthing to a float, else remains string\n",
    "            except ValueError:\n",
    "                Pass"
   ]
  },
  {
   "cell_type": "code",
   "execution_count": 45,
   "metadata": {
    "collapsed": false
   },
   "outputs": [],
   "source": [
    "###########\n",
    "#If extra arguments are provided to the script\" eg:\n",
    "### >>> uw.py 2 dp.arg1=1 dp.arg2=foo dp.arg3=3.0\n",
    "###########\n",
    "\n",
    "for farg in sys.argv[1:]:\n",
    "    try:\n",
    "        (dicitem,val) = farg.split(\"=\") #Split on equals operator\n",
    "        (dic,arg) = dicitem.split(\".\") #colon notation\n",
    "        if '*=' in farg:\n",
    "            (dicitem,val) = farg.split(\"*=\") #If in-place multiplication, split on '*='\n",
    "            (dic,arg) = dicitem.split(\".\")\n",
    "            \n",
    "        if val == 'True': \n",
    "            val = True\n",
    "        elif val == 'False':     #First check if args are boolean\n",
    "            val = False\n",
    "        else:\n",
    "            try:\n",
    "                val = float(val) #next try to convert  to a float,\n",
    "            except ValueError:\n",
    "                pass             #otherwise leave as string\n",
    "        #Update the dictionary\n",
    "        if farg.startswith('pd'):\n",
    "            if '*=' in farg:\n",
    "                pd[arg] = pd[arg]*val #multiply parameter by given factor\n",
    "            else:\n",
    "                pd[arg] = val    #or reassign parameter by given value\n",
    "        if farg.startswith('md'):\n",
    "            if '*=' in farg:\n",
    "                md[arg] = md[arg]*val #multiply parameter by given factor\n",
    "            else:\n",
    "                md[arg] = val    #or reassign parameter by given value\n",
    "                \n",
    "    except:\n",
    "        pass\n",
    "            \n",
    "\n",
    "uw.barrier()"
   ]
  },
  {
   "cell_type": "code",
   "execution_count": 46,
   "metadata": {
    "collapsed": false
   },
   "outputs": [
    {
     "name": "stdout",
     "output_type": "stream",
     "text": [
      "('parameter dictionary: ', {'friction_mu': 1e-05, 'fthickness': 0.0075, 'friction_C': 1e-05, 'friction_min': 1e-05})\n",
      "('model dictionary: ', {'RES': 64, 'elementType': 'Q1/dQ0'})\n"
     ]
    }
   ],
   "source": [
    "print(\"parameter dictionary: \", pd)\n",
    "print(\"model dictionary: \", md)"
   ]
  },
  {
   "cell_type": "markdown",
   "metadata": {
    "collapsed": false
   },
   "source": [
    "## Model"
   ]
  },
  {
   "cell_type": "code",
   "execution_count": 47,
   "metadata": {
    "collapsed": false
   },
   "outputs": [],
   "source": [
    "#def run_the_fault(num=1, fthickness = 0.0075, friction_mu = 0.00001, friction_C  = 0.00001, friction_min = 0.00001):\n",
    "\n",
    "outputFile = 'results_' + str(ModNum) + '.dat'\n",
    "\n",
    "minX  =  0.0;   minY = 0.0\n",
    "maxX  =  2.0;   maxY = 1.0\n",
    "\n",
    "\n",
    "resY = int(md.RES)\n",
    "resX = int(resY*2)\n",
    "\n",
    "#\"Q1/dQ0\"  \n",
    "#\"Q2/dpc1\"\n",
    "elementType = md.elementType\n",
    "\n",
    "mesh = uw.mesh.FeMesh_Cartesian( elementType = (elementType), \n",
    "                                 elementRes  = ( resX, resY), \n",
    "                                 minCoord    = ( minX, minY), \n",
    "                                 maxCoord    = ( maxX, maxY),\n",
    "                                 periodic    = [False, False]  ) \n",
    "\n",
    "\n",
    "velocityField    = uw.mesh.MeshVariable( mesh=mesh,         nodeDofCount=mesh.dim )\n",
    "pressureField    = uw.mesh.MeshVariable( mesh=mesh.subMesh, nodeDofCount=1 )\n",
    "\n",
    "velocityField.data[:]   = [0.,0.]\n",
    "pressureField.data[:]   = 0.\n",
    "\n",
    "\n",
    "refVelocityField    = uw.mesh.MeshVariable( mesh=mesh,         nodeDofCount=mesh.dim )\n",
    "refPressureField    = uw.mesh.MeshVariable( mesh=mesh.subMesh, nodeDofCount=1 )\n",
    "\n",
    "refVelocityField.data[:]   = [0.,0.]\n",
    "refPressureField.data[:]   = 0.\n",
    "\n",
    "wzVelocityField    = uw.mesh.MeshVariable( mesh=mesh,         nodeDofCount=mesh.dim )\n",
    "wzPressureField    = uw.mesh.MeshVariable( mesh=mesh.subMesh, nodeDofCount=1 )\n",
    "\n",
    "wzVelocityField.data[:]   = [0.,0.]\n",
    "wzPressureField.data[:]   = 0.\n",
    "\n",
    "\n",
    "# Define strain rate tensor\n",
    "\n",
    "strainRateFn = fn.tensor.symmetric( velocityField.fn_gradient )\n",
    "strainRate_2ndInvariantFn = fn.tensor.second_invariant(strainRateFn)\n",
    "\n",
    "wzStrainRateFn = fn.tensor.symmetric( wzVelocityField.fn_gradient )\n",
    "wzStrainRate_2ndInvariantFn = fn.tensor.second_invariant(wzStrainRateFn)\n",
    "\n",
    "refStrainRateFn = fn.tensor.symmetric( refVelocityField.fn_gradient )\n",
    "refStrainRate_2ndInvariantFn = fn.tensor.second_invariant(refStrainRateFn)\n",
    "   "
   ]
  },
  {
   "cell_type": "code",
   "execution_count": 48,
   "metadata": {
    "collapsed": true
   },
   "outputs": [],
   "source": [
    "#####\n",
    "#BCs\n",
    "#####\n",
    "iWalls = mesh.specialSets[\"MinI_VertexSet\"] + mesh.specialSets[\"MaxI_VertexSet\"]\n",
    "jWalls = mesh.specialSets[\"MinJ_VertexSet\"] + mesh.specialSets[\"MaxJ_VertexSet\"]\n",
    "\n",
    "baseWall   = mesh.specialSets[\"MinJ_VertexSet\"]\n",
    "topWall    = mesh.specialSets[\"MaxJ_VertexSet\"]\n",
    "\n",
    "freeslipBC = uw.conditions.DirichletCondition( variable        = velocityField, \n",
    "                                               indexSetsPerDof = (iWalls, jWalls) )     \n"
   ]
  },
  {
   "cell_type": "code",
   "execution_count": 49,
   "metadata": {
    "collapsed": true
   },
   "outputs": [],
   "source": [
    "#####\n",
    "#Swarm\n",
    "#####\n",
    "swarm  = uw.swarm.Swarm( mesh=mesh, particleEscape=True )\n",
    "swarmLayout = uw.swarm.layouts.GlobalSpaceFillerLayout( swarm=swarm, particlesPerCell=50 )\n",
    "swarm.populate_using_layout( layout=swarmLayout )\n",
    "\n",
    "# Population control may be useful\n",
    "\n",
    "pop_control = uw.swarm.PopulationControl(swarm, aggressive=True, particlesPerCell=50)\n",
    "\n",
    "advector = uw.systems.SwarmAdvector( swarm=swarm, velocityField=velocityField, order=2 )\n",
    "# Tracking different materials etc\n",
    "materialVariable       = swarm.add_variable( dataType=\"int\", count=1 )\n",
    "# Tracking the fault information\n",
    "proximityVariable      = swarm.add_variable( dataType=\"int\", count=1 )\n",
    "signedDistanceVariable = swarm.add_variable( dataType=\"float\", count=1 )\n",
    "directorVector   = swarm.add_variable( dataType=\"double\", count=2)\n",
    "\n",
    "directorVector.data[:,:] = 0.0\n",
    "proximityVariable.data[:] = 0\n",
    "signedDistanceVariable.data[:] = 0.0\n",
    "\n",
    "\n",
    "#####\n",
    "#Material Dist. \n",
    "#####\n",
    "materialA  = 0 # accommodation layer a.k.a. Sticky Air\n",
    "materialV  = 1 # Rigid blocks\n",
    "\n",
    "yCoord = fn.coord()[1]\n",
    "\n",
    "conditions = [ (       yCoord > 1.1 ,                      materialA ),\n",
    "               (       yCoord < 0.0  ,                     materialA ),\n",
    "               (       True ,                              materialV ) ]\n",
    "\n",
    "materialVariable.data[:] = fn.branching.conditional( conditions ).evaluate(swarm)"
   ]
  },
  {
   "cell_type": "code",
   "execution_count": 50,
   "metadata": {
    "collapsed": true
   },
   "outputs": [],
   "source": [
    "#####\n",
    "#Faults \n",
    "#####\n",
    "from marker2D import markerLine2D\n",
    "#from unsupported.interfaces import markerLine2D\n",
    "faults = []\n",
    "\n",
    "forientation = np.radians(45)\n",
    "flength    = 0.35355\n",
    "fstart = 1.375\n",
    "faultLine1 = (fstart, 1.0)\n",
    "faultLine2 = (faultLine1[0] + flength * np.cos(forientation), faultLine1[1]-flength*np.sin(forientation) )\n",
    "\n",
    "faultLineXs = np.linspace(faultLine1[0], faultLine2[0], 50)\n",
    "faultLineYs = np.linspace(faultLine1[1], faultLine2[1], 50)\n",
    "\n",
    "# Build a fault object out of this\n",
    "\n",
    "fault_seg1  = markerLine2D(mesh, velocityField, faultLineXs, faultLineYs, pd.fthickness, 0.0, 0.0, 1)\n",
    "faults.append(fault_seg1)\n",
    "\n",
    "uw.barrier()\n",
    "\n",
    "def update_swarm_from_faults(faults, proximityVariable, normalVectorVariable, signedDistanceVariable):\n",
    "    \"\"\"\n",
    "    Compute fault attributes from the marker-line objects in the 'faults' list.\n",
    "    Specifically:\n",
    "\n",
    "      - proximityVariable carries information about which fault each swarm particle is close to (0 means none)\n",
    "      - normalVectorVariable maps the orientation of the fault to nearby swarm particles\n",
    "      - signedDistanceVariable carries the distance (positive means 'inside')  \n",
    "\n",
    "      Unchecked error: if these variables are from different swarms \n",
    "\n",
    "    \"\"\"\n",
    "\n",
    "    for fault_seg in faults:\n",
    "\n",
    "        swarm = proximityVariable.swarm\n",
    "\n",
    "        f, nz = fault_seg.compute_marker_proximity(swarm.particleCoordinates.data)    \n",
    "        proximityVariable.data[nz] = f[nz]\n",
    "\n",
    "        dv, nzv = fault_seg.compute_normals(swarm.particleCoordinates.data)\n",
    "        normalVectorVariable.data[nzv] = dv[nzv]\n",
    "\n",
    "        sd, dnz = fault_seg.compute_signed_distance(swarm.particleCoordinates.data)\n",
    "        signedDistanceVariable.data[dnz] = sd[dnz]\n",
    "\n",
    "    return\n",
    "\n",
    "\n",
    "def mask_materials(material, materialVariable, proximityVariable, normalVectorVariable, signedDistanceVariable):\n",
    "\n",
    "    fptsMaskOut = np.where(materialVariable.data[:,0] != material)[0]\n",
    "\n",
    "    normalVectorVariable.data[fptsMaskOut,:] = [0.0,0.0]\n",
    "    proximityVariable.data[fptsMaskOut] = 0\n",
    "    signedDistanceVariable.data[fptsMaskOut] = 0.0\n",
    "\n",
    "\n",
    "def fault_strainrate_fns(fault_list, velocityField, faultNormalVariable, proximityproVariable):\n",
    "\n",
    "    ## This is a quick / short cut way to find the resolved stress components.\n",
    "\n",
    "    strainRateFn = fn.tensor.symmetric( velocityField.fn_gradient )\n",
    "\n",
    "\n",
    "    #  n1 * edot_11 * n1 + \n",
    "    #  n2 * edot_21 * n1 + \n",
    "    #  n1 * edot_21 * n2 +\n",
    "    #  n2 * edot_22 * n2 \n",
    "\n",
    "#     _edotn_SFn = ( directorVector[0] * strainRateFn[0] * directorVector[0] + \n",
    "#                    directorVector[1] * strainRateFn[2] * directorVector[0] + # Symmetry !! \n",
    "#                    directorVector[0] * strainRateFn[2] * directorVector[1] + \n",
    "#                    directorVector[1] * strainRateFn[1] * directorVector[1]                          \n",
    "#                 )\n",
    "\n",
    "\n",
    "    ## \"OPTIMIZED\" VERSION\n",
    "\n",
    "    _edotn_SFn = (        directorVector[0]**2 * strainRateFn[0]  + \n",
    "                    2.0 * directorVector[1]    * strainRateFn[2] * directorVector[0] + \n",
    "                          directorVector[1]**2 * strainRateFn[1]                          \n",
    "                ) \n",
    "\n",
    "    # any non-zero proximity requires the computation of the above\n",
    "\n",
    "    _edotn_SFn_Map    = { 0: 0.0 }\n",
    "    for f in fault_list:\n",
    "        _edotn_SFn_Map[f.ID] =  _edotn_SFn\n",
    "\n",
    "\n",
    "    #  s1 = -n2\n",
    "    #  s2 =  n1\n",
    "    #\n",
    "    # -n2 * edot_11 * n1 + \n",
    "    #  n1 * edot_21 * n1 + \n",
    "    # -n2 * edot_21 * n2 + \n",
    "    #  n1 * edot_22 * n2     \n",
    "\n",
    "#     _edots_SFn = ( -directorVector[1] * strainRateFn[0] * directorVector[0] + \n",
    "#                     directorVector[0] * strainRateFn[2] * directorVector[0] + \n",
    "#                    -directorVector[1] * strainRateFn[2] * directorVector[1] + \n",
    "#                     directorVector[0] * strainRateFn[1] * directorVector[1] \n",
    "#                 )\n",
    "\n",
    "    ## \"OPTIMIZED\" VERSION\n",
    "\n",
    "\n",
    "    _edots_SFn = (  directorVector[0] *  directorVector[1] *(strainRateFn[1] - strainRateFn[0]) +\n",
    "                    strainRateFn[2] * (directorVector[0]**2 - directorVector[1]**2)\n",
    "                 )\n",
    "\n",
    "\n",
    "    _edots_SFn_Map = { 0: 1.0e-15 }\n",
    "\n",
    "    for f in fault_list:\n",
    "        _edots_SFn_Map[f.ID] =  _edots_SFn\n",
    "\n",
    "\n",
    "    edotn_SFn =     fn.branching.map( fn_key = proximityVariable, \n",
    "                                      mapping = _edotn_SFn_Map)\n",
    "\n",
    "\n",
    "    edots_SFn =     fn.branching.map( fn_key = proximityVariable, \n",
    "                                      mapping = _edots_SFn_Map )\n",
    "\n",
    "\n",
    "    return edotn_SFn, edots_SFn\n",
    "\n",
    "\n",
    "\n",
    "\n",
    "\n",
    "## Call the Fault helper functions \n",
    "\n",
    "update_swarm_from_faults(faults, proximityVariable, directorVector, signedDistanceVariable)\n",
    "mask_materials(materialV, materialVariable, proximityVariable, directorVector, signedDistanceVariable)\n",
    "\n",
    "# These should be general enough not to need updating when the faults move etc\n",
    "\n",
    "edotn_SFn, edots_SFn = fault_strainrate_fns(faults, velocityField, directorVector, proximityVariable)\n"
   ]
  },
  {
   "cell_type": "code",
   "execution_count": 51,
   "metadata": {
    "collapsed": true
   },
   "outputs": [],
   "source": [
    "#####\n",
    "#Rheology\n",
    "#####\n",
    "viscosity   = 1.0\n",
    "deltaViscosity = 1.0\n",
    "expDepthConstant = fn.misc.constant(math.log(deltaViscosity))\n",
    "\n",
    "#friction_mu = 0.00001 #in function \n",
    "#friction_C  = 0.00001 #in function \n",
    "\n",
    "#minimum viscosity associated with tangential shear rate\n",
    "#friction_min = 0.00001 in function \n",
    "\n",
    "delta_f_min = 1. - pd.friction_min\n",
    "\n",
    "\n",
    "ageProxyFn = (fn.misc.constant(fstart) - fn.math.abs(fn.coord()[0] - fstart))/fstart\n",
    "firstViscosityFn   = fn.misc.max(viscosity, fn.misc.constant(viscosity) * fn.math.exp( expDepthConstant * fn.coord()[1])*ageProxyFn)\n",
    "\n",
    "# Now the second viscosity (for shear)\n",
    "\n",
    "# 2nd Viscosity is defined by delta eta (0.0 means isotropic)\n",
    "\n",
    "# Delta Visc \n",
    "\n",
    "viscosityTI2_fn = fn.misc.min(firstViscosityFn*delta_f_min, fn.misc.max(0.0, \n",
    "                     firstViscosityFn - (pd.friction_mu * (-edotn_SFn * firstViscosityFn + pressureField)  + pd.friction_C) / (fn.math.abs(edots_SFn) + 1.0e-15)))\n",
    "\n",
    "\n",
    "\n",
    "\n",
    "# This one maps to the fault-proximity variable \n",
    "\n",
    "viscosity2Map    = { 0: 0.0, \n",
    "                     1: viscosityTI2_fn, \n",
    "                     2: viscosityTI2_fn                   \n",
    "                   }\n",
    "\n",
    "secondViscosityFn  = fn.branching.map( fn_key  = proximityVariable, \n",
    "                                       mapping = viscosity2Map )\n",
    "\n",
    "\n",
    "viscosityDP_fn = fn.misc.min(firstViscosityFn, fn.misc.max(pd.friction_min, \n",
    "                     (pd.friction_mu * pressureField  + pd.friction_C) / (strainRate_2ndInvariantFn + 1.0e-15)))\n",
    "\n",
    "\n",
    "viscosityWZMap   = { 0: firstViscosityFn,\n",
    "                     1: viscosityDP_fn, \n",
    "                     2: viscosityDP_fn }\n",
    "\n",
    "\n",
    "viscosityWZFn       =  fn.branching.map( fn_key  = proximityVariable, \n",
    "                                         mapping = viscosityWZMap )"
   ]
  },
  {
   "cell_type": "code",
   "execution_count": 52,
   "metadata": {
    "collapsed": true
   },
   "outputs": [],
   "source": [
    "#####\n",
    "#Buoyancy and Stokes\n",
    "#####\n",
    "z_hat = ( 0.0, 1.0 )\n",
    "Ra = fn.misc.constant(1.0)\n",
    "\n",
    "T_fn = fn.misc.constant(0.01) *  fn.math.cos(np.pi/maxX * fn.coord()[0]) * fn.math.sin(np.pi * fn.coord()[1])\n",
    "buoyancyFn = z_hat * T_fn\n",
    "\n",
    "\n",
    "\n",
    "# Build a reference case\n",
    "stokesPIC1 = uw.systems.Stokes( velocityField  = velocityField, \n",
    "                               pressureField  = pressureField,\n",
    "                               conditions     = [freeslipBC,],\n",
    "                               fn_viscosity   = firstViscosityFn, \n",
    "                               fn_bodyforce   = buoyancyFn )\n",
    "\n",
    "solver    = uw.systems.Solver( stokesPIC1 )\n",
    "\n",
    "solver.set_inner_method(\"mumps\")\n",
    "solver.set_penalty(1.0e6)\n",
    "solver.options.scr.ksp_rtol = 1.0e-6\n",
    "\n",
    "solver.solve( nonLinearIterate=False, print_stats=False)\n",
    "\n",
    "refVelocityField.data[:,:] = velocityField.data[:,:]\n",
    "refPressureField.data[:]   = pressureField.data[:]\n",
    "\n",
    "del solver\n",
    "del stokesPIC1\n",
    "\n",
    "# Build a weak zone equivalent case\n",
    "velocityField.data[...] = 0.0\n",
    "pressureField.data[...] = 0.0\n",
    "\n",
    "stokesPIC1 = uw.systems.Stokes( velocityField  = velocityField, \n",
    "                               pressureField  = pressureField,\n",
    "                               conditions     = [freeslipBC,],\n",
    "                               fn_viscosity   = viscosityWZFn, \n",
    "                               fn_bodyforce   = buoyancyFn )\n",
    "\n",
    "solver    = uw.systems.Solver( stokesPIC1 )\n",
    "\n",
    "solver.set_inner_method(\"mumps\")\n",
    "solver.set_penalty(1.0e6)\n",
    "solver.options.scr.ksp_rtol = 1.0e-6\n",
    "\n",
    "solver.solve( nonLinearIterate=True, nonLinearTolerance=0.00001, print_stats=False)\n",
    "\n",
    "wzVelocityField.data[:,:] = velocityField.data[:,:]\n",
    "wzPressureField.data[:]   = pressureField.data[:]\n",
    "\n",
    "del solver\n",
    "del stokesPIC1\n",
    "\n",
    "\n",
    "# The anisotropic case \n",
    "velocityField.data[...] = 0.0\n",
    "pressureField.data[...] = 0.0\n",
    "\n",
    "stokesPIC = uw.systems.Stokes( velocityField  = velocityField, \n",
    "                               pressureField  = pressureField,\n",
    "                               conditions     = [freeslipBC,],\n",
    "                               fn_viscosity   = firstViscosityFn, \n",
    "                              _fn_viscosity2  = secondViscosityFn,\n",
    "                              _fn_director    = directorVector,                         \n",
    "                               fn_bodyforce   = buoyancyFn )\n",
    "\n",
    "solver    = uw.systems.Solver( stokesPIC )\n",
    "solver.set_inner_method(\"mumps\")\n",
    "solver.set_penalty(1.0e6)\n",
    "solver.options.scr.ksp_rtol = 1.0e-6\n",
    "\n",
    "solver.solve( nonLinearIterate=True, nonLinearTolerance=0.00001, print_stats=False )\n",
    "\n",
    "\n",
    "uw.barrier()   \n"
   ]
  },
  {
   "cell_type": "code",
   "execution_count": 53,
   "metadata": {
    "collapsed": false
   },
   "outputs": [],
   "source": [
    "#pressureField.evaluate_global(mesh).max() \n",
    "#thisGuy = fn.view.min_max(pressureField)\n",
    "#thisGuy.evaluate(mesh)\n",
    "#pd.friction_C /(thisGuy.max_global()*pd.friction_mu)"
   ]
  },
  {
   "cell_type": "code",
   "execution_count": null,
   "metadata": {
    "collapsed": true
   },
   "outputs": [],
   "source": []
  },
  {
   "cell_type": "code",
   "execution_count": 54,
   "metadata": {
    "collapsed": false
   },
   "outputs": [],
   "source": [
    "#####\n",
    "#Metrics and Output\n",
    "#####\n",
    "\n",
    "\n",
    "#First we create some swarm variables that we'll set to 0 or 1, \n",
    "#which will help compute integrals on restricted portions of the domain\n",
    "\n",
    "nearfaultRestFn = swarm.add_variable( dataType=\"double\", count=1 )\n",
    "nearfaultRestFn.data[:] = 0.\n",
    "\n",
    "if not fault_seg1.empty: #Can only call fault.kdtree on procs holding part of the fault swarm\n",
    "    nearfaultRestFn.data[:,0] = fault_seg1.kdtree.query(swarm.particleCoordinates.data)[0][:]\n",
    "    nearfaultRestFn.data[np.where(nearfaultRestFn.data > pd.fthickness)] = 1.\n",
    "    nearfaultRestFn.data[np.where(nearfaultRestFn.data <= pd.fthickness)] = 0. \n",
    "    \n",
    "oneelementRestFn = swarm.add_variable( dataType=\"double\", count=1 )\n",
    "oneelementRestFn.data[:] = 0.\n",
    "\n",
    "if not fault_seg1.empty: #Can only call fault.kdtree on procs holding part of the fault swarm\n",
    "    oneelementRestFn.data[:,0] = fault_seg1.kdtree.query(swarm.particleCoordinates.data)[0][:]\n",
    "    oneelementRestFn.data[np.where(oneelementRestFn.data > 1.0/(resY+1.))] = 1.\n",
    "    oneelementRestFn.data[np.where(oneelementRestFn.data <= 1.0/(resY+1.))] = 0. \n",
    "\n",
    "def volumeint(Fn = 1., rFn=1.):\n",
    "    return uw.utils.Integral( Fn*rFn,  mesh )\n",
    "\n",
    "\n",
    "#Dot product of the residual velocity field\n",
    "\n",
    "Vuwr = velocityField-refVelocityField\n",
    "Vwzr = wzVelocityField-refVelocityField\n",
    "Vuwwz = velocityField-wzVelocityField\n",
    "\n",
    "deltaVuwr  = fn.misc.min(1.0, fn.math.dot(Vuwr,  Vuwr))\n",
    "deltaVwzr  = fn.misc.min(1.0, fn.math.dot(Vwzr,  Vwzr))\n",
    "deltaVuwwz = fn.misc.min(1.0, fn.math.dot(Vuwwz,  Vuwwz))\n",
    "\n",
    "#Set up the integrals\n",
    "\n",
    "_area1 = volumeint(1.)\n",
    "_area2 = volumeint(1., rFn=nearfaultRestFn)\n",
    "_area3 = volumeint(1., rFn=oneelementRestFn)\n",
    "\n",
    "_Vuwr1 = volumeint(deltaVuwr)                    #integration over entire domain\n",
    "_Vuwr2 = volumeint(deltaVuwr, nearfaultRestFn)   #integration restricted to area beyond one faultthickness from fault\n",
    "_Vuwr3 = volumeint(deltaVuwr, oneelementRestFn)  #integration restricted to area beyond one element away from fault\n",
    "\n",
    "_Vwzr1 = volumeint(deltaVwzr)\n",
    "_Vwzr2 = volumeint(deltaVwzr, nearfaultRestFn)\n",
    "_Vwzr3 = volumeint(deltaVwzr, oneelementRestFn)\n",
    "\n",
    "_Vuwwz1 = volumeint(deltaVuwwz)\n",
    "_Vuwwz2 = volumeint(deltaVuwwz, nearfaultRestFn)\n",
    "_Vuwwz3 = volumeint(deltaVuwwz, oneelementRestFn)\n",
    "\n",
    "#Evaluate the integrals\n",
    "\n",
    "area1 = _area1.evaluate()[0]\n",
    "area2 = _area2.evaluate()[0]\n",
    "area3 = _area3.evaluate()[0]\n",
    "\n",
    "dVuwr1 = np.sqrt(_Vuwr1.evaluate()[0]) #TI - ref\n",
    "dVuwr2 = np.sqrt(_Vuwr2.evaluate()[0])\n",
    "dVuwr3 = np.sqrt(_Vuwr3.evaluate()[0])\n",
    "\n",
    "dVwzr1 = np.sqrt(_Vwzr1.evaluate()[0]) #Wz - ref\n",
    "dVwzr2 = np.sqrt(_Vwzr2.evaluate()[0])\n",
    "dVwzr3 = np.sqrt(_Vwzr3.evaluate()[0])\n",
    "\n",
    "dVuwwz1 = np.sqrt( _Vuwwz1.evaluate()[0]) #Ti - wz\n",
    "dVuwwz2 = np.sqrt(_Vuwwz2.evaluate()[0])\n",
    "dVuwwz3 = np.sqrt(_Vuwwz2.evaluate()[0])\n",
    "\n",
    "#Also calculate the ratio of Cohesion to confinement-strength in the Drucker-Prager formulation\n",
    "#pressureField.evaluate_global(mesh).max() \n",
    "#thisGuy = fn.view.min_max(pressureField)\n",
    "#thisGuy.evaluate(mesh)\n",
    "#c_dp = pd.friction_C /(thisGuy.max_global()*pd.friction_mu)\n",
    "    \n",
    "if uw.rank() == 0:\n",
    "    f_o = open(os.path.join(outputPath, outputFile), 'a') \n",
    "    f_o.write((15*'%-15s ' + '\\n') % (md.RES, md.elementType,\n",
    "                                      pd.fthickness, pd.friction_mu, pd.friction_C, pd.friction_min,\n",
    "                                      dVuwr1,dVuwr2,dVuwr3,\n",
    "                                      dVwzr1,dVwzr2,dVwzr3,\n",
    "                                      dVuwwz1, dVuwwz2, dVuwwz2))\n",
    "    f_o.close()"
   ]
  },
  {
   "cell_type": "code",
   "execution_count": null,
   "metadata": {
    "collapsed": true
   },
   "outputs": [],
   "source": []
  },
  {
   "cell_type": "code",
   "execution_count": 55,
   "metadata": {
    "collapsed": false
   },
   "outputs": [],
   "source": [
    "#print area1\n",
    "#print area2\n",
    "#print area3\n",
    "#print dVwzr1\n",
    "#print dVwzr2\n",
    "#print dVwzr3"
   ]
  },
  {
   "cell_type": "code",
   "execution_count": 56,
   "metadata": {
    "collapsed": false
   },
   "outputs": [],
   "source": []
  },
  {
   "cell_type": "code",
   "execution_count": 88,
   "metadata": {
    "collapsed": false
   },
   "outputs": [],
   "source": [
    "#yElementFix = 1./(resY + 1)\n",
    "#xElementFix = 2./(resX + 1)\n",
    "#dE = yElementFix*xElementFix #Crude measure of elemnt are per node (dA)\n",
    "\n",
    "#bg_nodes = np.where(fault_seg1.kdtree.query(mesh.data)[0] > pd.fthickness)\n",
    "\n",
    "#deltaVuwr  = fn.misc.min(1.0, fn.math.dot(Vuwr,  Vuwr))\n",
    "#deltaVwzr  = fn.misc.min(1.0, fn.math.dot(Vwzr,  Vwzr))\n",
    "#deltaVuwwz = fn.misc.min(1.0, fn.math.dot(Vuwwz,  Vuwwz))\n",
    "\n",
    "#dVuwrF = np.sqrt( deltaVuwr.evaluate(mesh.data[bg_nodes])).sum()\n",
    "#dVwzrF = np.sqrt( deltaVwzr.evaluate(mesh.data[bg_nodes])).sum()\n",
    "#dVuwwzF = np.sqrt( deltaVuwwz.evaluate(mesh.data[bg_nodes])).sum()\n",
    "\n",
    "#print dVuwr2, dVwzr2, dVuwwz2, dVuwrF*dE, dVwzrF*dE, dVuwwzF*dE"
   ]
  },
  {
   "cell_type": "code",
   "execution_count": 58,
   "metadata": {
    "collapsed": false
   },
   "outputs": [],
   "source": [
    "#print(dVuwr2, dVuwrF*dE)    #swarm intagration vs node summation\n",
    "#print(dVwzr2, dVwzrF*dE)    \n",
    "#print(dVuwwz2, dVuwwzF*dE) "
   ]
  },
  {
   "cell_type": "code",
   "execution_count": 59,
   "metadata": {
    "collapsed": false
   },
   "outputs": [],
   "source": [
    "#fig3= glucifer.Figure( figsize=(1000,600) )\n",
    "#fig3.append( glucifer.objects.Points(swarm, nearfaultRestFn, colourBar=True ) )\n",
    "#fig3.show()"
   ]
  },
  {
   "cell_type": "markdown",
   "metadata": {
    "collapsed": false
   },
   "source": [
    "Once output as a a script, this notebook cam be used for a parameter sweep. \n",
    "For example, to run models with a combination (outer product) of different fault thickness, mesh resolution, and element types:\n",
    "\n",
    "\n",
    "```\n",
    "for a in 0.03 0.015 0.0075 0.00375\n",
    "do\n",
    "   for b in 32 64 128\n",
    "   do\n",
    "      for c in \"Q1/dQ0\" \"Q2/dpc1\"\n",
    "      do\n",
    "        docker run -v $PWD:/workspace  -i -t --rm dansand/underworld2-dev mpirun -np 4 python Fault_BuoyancyDriven-devel.py 1 pd.fthickness=$a md.RES=$b md.elementType=$c\n",
    "      done\n",
    "   done\n",
    "done\n",
    "\n",
    "```"
   ]
  },
  {
   "cell_type": "markdown",
   "metadata": {
    "collapsed": true
   },
   "source": [
    "### Comparison of 'masked' L2-norm via node summing, swarm integration\n",
    "\n",
    "\n",
    "| Measure|  Node summing    | Swarm Int.        | Notes  | \n",
    "| ----- | ------------------ | ----------------- | -----  |\n",
    "| TI-ref |  2.9904077129e-06 | 2.89617704796e-06 |   -    |\n",
    "| WZ-ref  |  3.19641785284e-06 | 3.11754905069e-06 |   -    |\n",
    "| TI-ref |  3.53800984835e-07 | 3.66782130797e-07 |     - |\n",
    "\n",
    "* TI => velocity field with TI fault\n",
    "* WZ => velocity field with isotropic fault\n",
    "* ref => velocity field with no fault\n"
   ]
  },
  {
   "cell_type": "code",
   "execution_count": null,
   "metadata": {
    "collapsed": true
   },
   "outputs": [],
   "source": []
  }
 ],
 "metadata": {
  "celltoolbar": "Hide code",
  "extensions": {
   "jupyter_dashboards": {
    "activeView": "grid_default",
    "version": 1,
    "views": {
     "grid_default": {
      "cellMargin": 10,
      "defaultCellHeight": 20,
      "maxColumns": 12,
      "name": "grid",
      "type": "grid"
     },
     "report_default": {
      "name": "report",
      "type": "report"
     }
    }
   }
  },
  "kernelspec": {
   "display_name": "Python 2",
   "language": "python",
   "name": "python2"
  },
  "language_info": {
   "codemirror_mode": {
    "name": "ipython",
    "version": 2
   },
   "file_extension": ".py",
   "mimetype": "text/x-python",
   "name": "python",
   "nbconvert_exporter": "python",
   "pygments_lexer": "ipython2",
   "version": "2.7.9"
  }
 },
 "nbformat": 4,
 "nbformat_minor": 0
}
