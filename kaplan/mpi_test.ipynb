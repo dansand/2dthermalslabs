{
 "cells": [
  {
   "cell_type": "code",
   "execution_count": null,
   "metadata": {
    "collapsed": true
   },
   "outputs": [],
   "source": []
  },
  {
   "cell_type": "code",
   "execution_count": 2,
   "metadata": {
    "collapsed": true
   },
   "outputs": [],
   "source": [
    "from mpi4py import MPI\n",
    "import numpy as np"
   ]
  },
  {
   "cell_type": "code",
   "execution_count": null,
   "metadata": {
    "collapsed": true
   },
   "outputs": [],
   "source": [
    "comm = MPI.COMM_WORLD\n",
    "rank = comm.rank"
   ]
  },
  {
   "cell_type": "code",
   "execution_count": 3,
   "metadata": {
    "collapsed": false
   },
   "outputs": [
    {
     "name": "stdout",
     "output_type": "stream",
     "text": [
      "[[ 0.]]\n",
      "I got this array:\n",
      "[ 0.]\n"
     ]
    }
   ],
   "source": [
    "sendbuf=[]\n",
    "root=0\n",
    "if comm.rank==0:\n",
    "    m=np.array(range(comm.size*comm.size),dtype=float)\n",
    "    m.shape=(comm.size,comm.size)\n",
    "    print(m)\n",
    "    sendbuf=m\n",
    "v=comm.scatter(sendbuf,root)\n",
    "print(\"I got this array:\")\n",
    "print(v)"
   ]
  },
  {
   "cell_type": "code",
   "execution_count": 6,
   "metadata": {
    "collapsed": false
   },
   "outputs": [
    {
     "name": "stdout",
     "output_type": "stream",
     "text": [
      "before barrier\n",
      "after barrier\n"
     ]
    }
   ],
   "source": [
    "print(\"before barrier\")\n",
    "comm.barrier()\n",
    "print(\"after barrier\")"
   ]
  },
  {
   "cell_type": "markdown",
   "metadata": {},
   "source": [
    "sendbuf=[]\n",
    "root=0\n",
    "if comm.rank==0:\n",
    "    m=np.array([1])\n",
    "    #m.shape=(comm.size,comm.size)\n",
    "    print(m)\n",
    "    m.shape=(comm.size,comm.size)\n",
    "    sendbuf=m\n",
    "v=comm.scatter(sendbuf,root)\n",
    "print(\"I got this array:\")\n",
    "print(v)"
   ]
  },
  {
   "cell_type": "code",
   "execution_count": null,
   "metadata": {
    "collapsed": true
   },
   "outputs": [],
   "source": [
    "\n",
    "\n",
    "\n",
    "if rank == 0:\n",
    "    #data = {'a':1,'b':2,'c':3}\n",
    "    data = 1.\n",
    "else:\n",
    "    data = None\n",
    "\n",
    "data = comm.bcast(data, root=0)\n",
    "print 'rank',rank,data"
   ]
  }
 ],
 "metadata": {
  "kernelspec": {
   "display_name": "Python 2",
   "language": "python",
   "name": "python2"
  },
  "language_info": {
   "codemirror_mode": {
    "name": "ipython",
    "version": 2
   },
   "file_extension": ".py",
   "mimetype": "text/x-python",
   "name": "python",
   "nbconvert_exporter": "python",
   "pygments_lexer": "ipython2",
   "version": "2.7.9"
  }
 },
 "nbformat": 4,
 "nbformat_minor": 0
}
