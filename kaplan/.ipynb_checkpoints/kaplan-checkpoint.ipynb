{
 "cells": [
  {
   "cell_type": "markdown",
   "metadata": {},
   "source": [
    "## Thermal subduction, linear rheology:\n",
    "\n",
    "\n",
    "The viscous rheology in this model is similar to the models described in the PhD thesis of Micheal Kaplan\n",
    "\n",
    "\n",
    "\n",
    "**Keywords:** subduction, thermally-activated creep, \n",
    "\n",
    "\n",
    "**References:**\n",
    "\n",
    "\n",
    "Kaplan, Michael. Numerical Geodynamics of Solid Planetary Deformation. Diss. University of Southern California, 2015."
   ]
  },
  {
   "cell_type": "code",
   "execution_count": 121,
   "metadata": {
    "collapsed": false
   },
   "outputs": [],
   "source": [
    "import numpy as np\n",
    "import underworld as uw\n",
    "import math\n",
    "from underworld import function as fn\n",
    "import glucifer\n",
    "\n",
    "import os\n",
    "import sys\n",
    "import natsort\n",
    "import shutil\n",
    "from easydict import EasyDict as edict\n",
    "import operator\n",
    "import pint\n",
    "import time\n",
    "import operator\n",
    "from slippy2 import boundary_layer2d\n",
    "from slippy2 import material_graph\n",
    "from slippy2 import spmesh\n",
    "from slippy2 import phase_function\n",
    "from unsupported.interfaces import markerLine2D\n",
    "\n",
    "from mpi4py import MPI\n",
    "comm = MPI.COMM_WORLD\n",
    "rank = comm.Get_rank()"
   ]
  },
  {
   "cell_type": "markdown",
   "metadata": {},
   "source": [
    "Model name and directories\n",
    "-----"
   ]
  },
  {
   "cell_type": "code",
   "execution_count": 122,
   "metadata": {
    "collapsed": false
   },
   "outputs": [],
   "source": [
    "############\n",
    "#Model letter and number\n",
    "############\n",
    "\n",
    "\n",
    "#Model letter identifier default\n",
    "Model = \"T\"\n",
    "\n",
    "#Model number identifier default:\n",
    "ModNum = 0\n",
    "\n",
    "#Any isolated letter / integer command line args are interpreted as Model/ModelNum\n",
    "\n",
    "if len(sys.argv) == 1:\n",
    "    ModNum = ModNum \n",
    "elif sys.argv[1] == '-f': #\n",
    "    ModNum = ModNum \n",
    "else:\n",
    "    for farg in sys.argv[1:]:\n",
    "        if not '=' in farg: #then Assume it's a not a paramter argument\n",
    "            try:\n",
    "                ModNum = int(farg) #try to convert everingthing to a float, else remains string\n",
    "            except ValueError:\n",
    "                Model  = farg"
   ]
  },
  {
   "cell_type": "code",
   "execution_count": 123,
   "metadata": {
    "collapsed": false
   },
   "outputs": [],
   "source": [
    "###########\n",
    "#Standard output directory setup\n",
    "###########\n",
    "\n",
    "\n",
    "outputPath = \"results\" + \"/\" +  str(Model) + \"/\" + str(ModNum) + \"/\" \n",
    "imagePath = outputPath + 'images/'\n",
    "filePath = outputPath + 'files/'\n",
    "checkpointPath = outputPath + 'checkpoint/'\n",
    "dbPath = outputPath + 'gldbs/'\n",
    "outputFile = 'results_model' + Model + '_' + str(ModNum) + '.dat'\n",
    "\n",
    "if uw.rank()==0:\n",
    "    # make directories if they don't exist\n",
    "    if not os.path.isdir(outputPath):\n",
    "        os.makedirs(outputPath)\n",
    "    if not os.path.isdir(checkpointPath):\n",
    "        os.makedirs(checkpointPath)\n",
    "    if not os.path.isdir(imagePath):\n",
    "        os.makedirs(imagePath)\n",
    "    if not os.path.isdir(dbPath):\n",
    "        os.makedirs(dbPath)\n",
    "    if not os.path.isdir(filePath):\n",
    "        os.makedirs(filePath)\n",
    "\n",
    "        \n",
    "comm.Barrier() #Barrier here so no procs run the check in the next cell too early"
   ]
  },
  {
   "cell_type": "code",
   "execution_count": 124,
   "metadata": {
    "collapsed": false
   },
   "outputs": [
    {
     "name": "stdout",
     "output_type": "stream",
     "text": [
      "results/T/0/checkpoint/ is empty\n",
      "results/T/0/checkpoint/10 has files\n",
      "results/T/0/checkpoint/15 has files\n",
      "results/T/0/checkpoint/5 has files\n"
     ]
    }
   ],
   "source": [
    "###########\n",
    "#Check if starting from checkpoint\n",
    "###########\n",
    "\n",
    "checkdirs = []\n",
    "for dirpath, dirnames, files in os.walk(checkpointPath):\n",
    "    if files:\n",
    "        print dirpath, 'has files'\n",
    "        checkpointLoad = True\n",
    "        checkdirs.append(dirpath)\n",
    "    if not files:\n",
    "        print dirpath, 'is empty'\n",
    "        checkpointLoad = False"
   ]
  },
  {
   "cell_type": "code",
   "execution_count": 125,
   "metadata": {
    "collapsed": true
   },
   "outputs": [],
   "source": [
    "# setup summary output file (name above)\n",
    "if checkpointLoad:\n",
    "    checkpointLoadDir = natsort.natsort(checkdirs)[-1]\n",
    "    if uw.rank() == 0:\n",
    "        shutil.copyfile(os.path.join(checkpointLoadDir, outputFile), outputPath+outputFile)\n",
    "    comm.Barrier()\n",
    "    f_o = open(os.path.join(outputPath, outputFile), 'a')\n",
    "    prevdata = np.genfromtxt(os.path.join(outputPath, outputFile), skip_header=0, skip_footer=0)\n",
    "    if len(prevdata.shape) == 1: #this is in case there is only one line in previous file\n",
    "        realtime = prevdata[0]\n",
    "    else:\n",
    "        realtime = prevdata[prevdata.shape[0]-1, 0]\n",
    "    step = int(checkpointLoadDir.split('/')[-1])\n",
    "    timevals = [0.]\n",
    "else:\n",
    "    f_o = open(outputPath+outputFile, 'w')\n",
    "    realtime = 0.\n",
    "    step = 0\n",
    "    timevals = [0.]"
   ]
  },
  {
   "cell_type": "markdown",
   "metadata": {},
   "source": [
    "Setup parameters\n",
    "-----\n",
    "\n",
    "Set simulation parameters for test."
   ]
  },
  {
   "cell_type": "markdown",
   "metadata": {},
   "source": [
    "**Use pint to setup any unit conversions we'll need**"
   ]
  },
  {
   "cell_type": "code",
   "execution_count": 126,
   "metadata": {
    "collapsed": false
   },
   "outputs": [
    {
     "data": {
      "text/html": [
       "10000.0 meter/megayear"
      ],
      "text/latex": [
       "$10000.0 \\frac{meter}{megayear}$"
      ],
      "text/plain": [
       "<Quantity(10000.0, 'meter / megayear')>"
      ]
     },
     "execution_count": 126,
     "metadata": {},
     "output_type": "execute_result"
    }
   ],
   "source": [
    "u = pint.UnitRegistry()\n",
    "cmpery = 1.*u.cm/u.year\n",
    "mpermy = 1.*u.m/u.megayear\n",
    "year = 1.*u.year\n",
    "spery = year.to(u.sec)\n",
    "cmpery.to(mpermy)"
   ]
  },
  {
   "cell_type": "code",
   "execution_count": 127,
   "metadata": {
    "collapsed": false
   },
   "outputs": [
    {
     "name": "stdout",
     "output_type": "stream",
     "text": [
      "(0.04, 1.2675505856327397e-11)\n"
     ]
    }
   ],
   "source": [
    "box_half_width =4000e3\n",
    "age_at_trench = 100e6\n",
    "cmperyear = box_half_width / age_at_trench #m/y\n",
    "mpersec = cmperyear*(cmpery.to(u.m/u.second)).magnitude #m/sec\n",
    "print(cmperyear, mpersec )"
   ]
  },
  {
   "cell_type": "markdown",
   "metadata": {},
   "source": [
    "**Set parameter dictionaries**\n",
    "\n",
    "* Parameters are stored in dictionaries. \n",
    "* If starting from checkpoint, parameters are loaded using pickle\n",
    "* If params are passed in as flags to the script, they overwrite \n"
   ]
  },
  {
   "cell_type": "code",
   "execution_count": 128,
   "metadata": {
    "collapsed": false
   },
   "outputs": [],
   "source": [
    "###########\n",
    "#Parameter / settings dictionaries get saved&loaded using pickle\n",
    "###########\n",
    " \n",
    "dp = edict({}) #dimensional parameters\n",
    "sf = edict({}) #scaling factors\n",
    "ndp = edict({}) #dimensionless paramters\n",
    "#md = edict({}) #model paramters, flags etc\n",
    "#od = edict({}) #output frequencies\n",
    "\n"
   ]
  },
  {
   "cell_type": "code",
   "execution_count": 129,
   "metadata": {
    "collapsed": false
   },
   "outputs": [],
   "source": [
    "dict_list = [dp, sf, ndp]\n",
    "dict_names = ['dp.pkl', 'sf.pkl', 'ndp.pkl']\n",
    "\n",
    "def save_pickles(dict_list, dict_names, dictPath):\n",
    "    import pickle\n",
    "    counter = 0\n",
    "    for pdict in dict_list:\n",
    "        myfile = os.path.join(dictPath, dict_names[counter])\n",
    "        with open(myfile, 'wb') as f:\n",
    "            pickle.dump(pdict, f)\n",
    "        counter+=1\n",
    "\n",
    "\n",
    "#ended up having to pretty much write a hard-coded function\n",
    "#All dictionaries we want checkpointed will have to  be added here \n",
    "#and where the function is called\n",
    "#Fortunately, this function is only called ONCE\n",
    "\n",
    "def load_pickles():\n",
    "    import pickle\n",
    "    dirpath = os.path.join(checkpointPath, str(step))\n",
    "    dpfile = open(os.path.join(dirpath, 'dp.pkl'), 'r')\n",
    "    dp = pickle.load(dpfile)\n",
    "#    #\n",
    "    ndpfile = open(os.path.join(dirpath, 'ndp.pkl'), 'r')\n",
    "    ndp = edict(pickle.load(ndpfile))\n",
    "    #\n",
    "    sffile = open(os.path.join(dirpath, 'sf.pkl'), 'r')\n",
    "    sf = edict(pickle.load(sffile))\n",
    "    return dp, ndp, sf"
   ]
  },
  {
   "cell_type": "code",
   "execution_count": 130,
   "metadata": {
    "collapsed": false
   },
   "outputs": [],
   "source": [
    "###########\n",
    "#Store the physical parameters, scale factors and dimensionless pramters in easyDicts\n",
    "#Mainly helps with avoiding overwriting variables\n",
    "###########\n",
    "\n",
    "\n",
    "dp = edict({'LS':670*1e3, #Scaling Length scale\n",
    "            'depth':670*1e3, #Depth of domain\n",
    "            'rho':3300.,  #reference density\n",
    "            'g':9.8, #surface gravity\n",
    "            'eta0':1e20, #reference viscosity\n",
    "            'k':1e-6, #thermal diffusivity\n",
    "            'a':3e-5, #surface thermal expansivity\n",
    "            'R':8.314, #gas constant\n",
    "            'TP':1673., #mantle potential temp (K)\n",
    "            'TS':273., #surface temp (K)\n",
    "            #Rheology - flow law paramters\n",
    "            'Adf':3e-11, #pre-exp factor for diffusion creep\n",
    "            'Edf':1e5, #Total viscosity variation in the Kaplan model\n",
    "            'cm':40e6, #mantle cohesion in Byerlee law\n",
    "            'cc':40e6, #mantle cohesion in Byerlee law\n",
    "            'ci':40e6, #mantle cohesion in Byerlee law\n",
    "            'fcm':0.03,   #mantle friction coefficient in Byerlee law (tan(phi))\n",
    "            'fcc':0.03,   #crust friction coefficient \n",
    "            'fci':0.03,   #subduction interface friction coefficient\n",
    "            #Rheology - cutoff values\n",
    "            'eta_min':1e17, \n",
    "            'eta_max':1e25, #viscosity max in the mantle material\n",
    "            'eta_min_crust':1e20, #viscosity min in the weak-crust material\n",
    "            'eta_max_crust':1e20, #viscosity max in the weak-crust material\n",
    "            'eta_min_interface':1e20, #viscosity min in the subduction interface material\n",
    "            'eta_max_interface':1e20, #viscosity max in the subduction interface material\n",
    "            #Length scales\n",
    "            'MANTLETOCRUST':10.*1e3, #Crust depth\n",
    "            'HARZBURGDEPTH':40e3,\n",
    "            'CRUSTTOMANTLE':800.*1e3,\n",
    "            'LITHTOMANTLE':(900.*1e3),\n",
    "            'MANTLETOLITH':200.*1e3, \n",
    "            'TOPOHEIGHT':10.*1e3,  #rock-air topography limits\n",
    "            'CRUSTTOECL':100.*1e3,\n",
    "            'LOWMANTLEDEPTH':660.*1e3, \n",
    "            'CRUSTVISCUTOFF':150.*1e3, #Deeper than this, crust material rheology reverts to mantle rheology\n",
    "            'AGETRACKDEPTH':100e3, #above this depth we track the age of the lithsphere (below age is assumed zero)\n",
    "            #Slab and plate parameters\n",
    "            'roc':250e3,     #radius of curvature of slab\n",
    "            'subzone':0.0,   #X position of subduction zone...km\n",
    "            'lRidge':-0.5*(670e3*4),  #For depth = 670 km, aspect ratio of 4, this puts the ridges at MINX, MAXX\n",
    "            'rRidge':0.5*(670e3*4),\n",
    "            'maxDepth':250e3,\n",
    "            'theta':70., #Angle to truncate the slab (can also control with a maxDepth param)\n",
    "            'slabmaxAge':60e6, #age of subduction plate at trench\n",
    "            'platemaxAge':60e6, #max age of slab (Plate model)\n",
    "            'sense':'Right', #dip direction\n",
    "            'op_age_fac':0.5, #this controls the overidding plate age reduction\n",
    "            #Misc\n",
    "            'StALS':100e3, #depth of sticky air layer\n",
    "            'plate_vel':4,\n",
    "            'low_mantle_visc_fac':30.\n",
    "           })\n",
    "\n",
    "#append any derived parameters to the dictionary\n",
    "dp.deltaT = dp.TP - dp.TS\n",
    "\n",
    "\n"
   ]
  },
  {
   "cell_type": "code",
   "execution_count": 131,
   "metadata": {
    "collapsed": true
   },
   "outputs": [],
   "source": [
    "##Model dict will go here, once I collect those params and put them in dict. "
   ]
  },
  {
   "cell_type": "code",
   "execution_count": 132,
   "metadata": {
    "collapsed": false
   },
   "outputs": [],
   "source": [
    "###########\n",
    "#If starting from a checkpoint load params from file\n",
    "###########\n",
    "\n",
    "if checkpointLoad:\n",
    "    dp, ndp, sf = load_pickles()  #remember to add any extra dictionaries\n"
   ]
  },
  {
   "cell_type": "code",
   "execution_count": 133,
   "metadata": {
    "collapsed": false
   },
   "outputs": [],
   "source": [
    "###########\n",
    "#If command line args are given, overwrite\n",
    "#Note that this assumes that params as commans line args/\n",
    "#only append to the 'dimensional' and 'model' dictionary (not the non-dimensional)\n",
    "###########    \n",
    "\n",
    "\n",
    "###########\n",
    "#If extra arguments are provided to the script\" eg:\n",
    "### >>> uw.py 2 dp.arg1=1 dp.arg2=foo dp.arg3=3.0\n",
    "###\n",
    "###This would assign ModNum = 2, all other values go into the dp dictionary, under key names provided\n",
    "###\n",
    "###Two operators are searched for, = & *=\n",
    "###\n",
    "###If =, parameter is re-assigned to givn value\n",
    "###If *=, parameter is multipled by given value\n",
    "###\n",
    "### >>> uw.py 2 dp.arg1=1 dp.arg2=foo dp.arg3*=3.0\n",
    "###########\n",
    "\n",
    "for farg in sys.argv[1:]:\n",
    "    try:\n",
    "        (dicitem,val) = farg.split(\"=\") #Split on equals operator\n",
    "        (dic,arg) = dicitem.split(\".\") #colon notation\n",
    "        if '*=' in farg:\n",
    "            (dicitem,val) = farg.split(\"*=\") #If in-place multiplication, split on '*='\n",
    "            (dic,arg) = dicitem.split(\".\")\n",
    "        \n",
    "        try:\n",
    "            val = float(val) #try to convert everything to a float, else remains string\n",
    "        except ValueError:\n",
    "            pass\n",
    "        #Update the dictionary\n",
    "        if farg.startswith('dp'):\n",
    "            if '*=' in farg:\n",
    "                dp[arg] = dp[arg]*val #multiply parameter by given factor\n",
    "            else:\n",
    "                dp[arg] = val    #or reassign parameter by given value\n",
    "        if farg.startswith('md'):\n",
    "            if '*=' in farg:\n",
    "                md[arg] = md[arg]*val #multiply parameter by given factor\n",
    "            else:\n",
    "                md[arg] = val    #or reassign parameter by given value\n",
    "                \n",
    "    except:\n",
    "        pass\n",
    "            \n",
    "\n",
    "comm.barrier()"
   ]
  },
  {
   "cell_type": "code",
   "execution_count": 134,
   "metadata": {
    "collapsed": true
   },
   "outputs": [],
   "source": [
    "#Only build these guys first time around, otherwise the read from checkpoints\n",
    "#Important because some of these params (like SZ location) may change during model evolution\n",
    "\n",
    "if not checkpointLoad:\n",
    "    sf = edict({'stress':dp.LS**2/(dp.k*dp.eta0),\n",
    "                'lith_grad':dp.rho*dp.g*(dp.LS)**3/(dp.eta0*dp.k) , \n",
    "                'vel':dp.LS/dp.k,\n",
    "                'SR':dp.LS**2/dp.k    \n",
    "               })\n",
    "\n",
    "    #dimensionless parameters\n",
    "\n",
    "    ndp = edict({'RA':(dp.g*dp.rho*dp.a*(dp.TP - dp.TS)*(dp.LS)**3)/(dp.k*dp.eta0),\n",
    "                 'Edf':math.log(dp.Edf),\n",
    "                 'TSP':0., \n",
    "                 'TBP':1.,\n",
    "                 'TPP':(dp.TP - dp.TS)/dp.deltaT, #dimensionless potential temp\n",
    "                 'TS':dp.TS/dp.deltaT,\n",
    "                 'TP':dp.TP/dp.deltaT,\n",
    "                 'cm':dp.cm*sf.stress,\n",
    "                 'cc':dp.cc*sf.stress,    #{dimensionless cohesion in mantle, crust, interface}\n",
    "                 'ci':dp.ci*sf.stress,\n",
    "                 'fcmd':dp.fcm*sf.lith_grad, \n",
    "                 'fccd':dp.fcc*sf.lith_grad, #{dimensionless friction coefficient in mantle, crust, interface}\n",
    "                 'fcid':dp.fci*sf.lith_grad, \n",
    "                 #Rheology - cutoff values\n",
    "                 'eta_min':dp.eta_min/dp.eta0, \n",
    "                 'eta_max':dp.eta_max/dp.eta0, #viscosity max in the mantle material\n",
    "                 'eta_min_crust':dp.eta_min_crust/dp.eta0, #viscosity min in the weak-crust material\n",
    "                 'eta_max_crust':dp.eta_max_crust/dp.eta0, #viscosity max in the weak-crust material\n",
    "                 'eta_min_interface':dp.eta_min_interface/dp.eta0, #viscosity min in the subduction interface material\n",
    "                 'eta_max_interface':dp.eta_max_interface/dp.eta0, #viscosity max in the subduction interface material             \n",
    "                 #Length scales\n",
    "                 'MANTLETOCRUST':dp.MANTLETOCRUST/dp.LS, #Crust depth\n",
    "                 'HARZBURGDEPTH':dp.HARZBURGDEPTH/dp.LS,\n",
    "                 'CRUSTTOMANTLE':dp.CRUSTTOMANTLE/dp.LS,\n",
    "                 'LITHTOMANTLE':dp.LITHTOMANTLE/dp.LS,\n",
    "                 'MANTLETOLITH':dp.MANTLETOLITH/dp.LS,\n",
    "                 'TOPOHEIGHT':dp.TOPOHEIGHT/dp.LS,  #rock-air topography limits\n",
    "                 'CRUSTTOECL':dp.CRUSTTOECL/dp.LS,\n",
    "                 'LOWMANTLEDEPTH':dp.LOWMANTLEDEPTH/dp.LS, \n",
    "                 'CRUSTVISCUTOFF':dp.CRUSTVISCUTOFF/dp.LS, #Deeper than this, crust material rheology reverts to mantle rheology\n",
    "                 'AGETRACKDEPTH':dp.AGETRACKDEPTH/dp.LS,\n",
    "                 #Slab and plate parameters\n",
    "                 'roc':dp.roc/dp.LS,     #radius of curvature of slab\n",
    "                 'subzone':dp.subzone/dp.LS,   #X position of subduction zone...km\n",
    "                 'lRidge':dp.lRidge/dp.LS,  #For depth = 670 km, aspect ratio of 4, this puts the ridges at MINX, MAXX\n",
    "                 'rRidge':dp.rRidge/dp.LS,\n",
    "                 'maxDepth':dp.maxDepth/dp.LS,    \n",
    "                 #misc\n",
    "                 'Steta0':5e-2,\n",
    "                 'plate_vel':sf.vel*dp.plate_vel*(cmpery.to(u.m/u.second)).magnitude,\n",
    "                 'low_mantle_visc_fac':dp.low_mantle_visc_fac\n",
    "                })\n",
    "\n",
    "\n",
    "\n",
    "    #Append any more derived paramters\n",
    "    ndp.StRA = (3300.*dp.g*(dp.LS)**3)/(dp.eta0 *dp.k) #Composisitional Rayleigh number for rock-air buoyancy force\n",
    "    dp.CVR = (0.1*(dp.k/dp.LS)*ndp.RA**(2/3.))\n",
    "    ndp.CVR = dp.CVR*sf.vel #characteristic velocity"
   ]
  },
  {
   "cell_type": "code",
   "execution_count": 135,
   "metadata": {
    "collapsed": false
   },
   "outputs": [
    {
     "data": {
      "text/plain": [
       "4"
      ]
     },
     "execution_count": 135,
     "metadata": {},
     "output_type": "execute_result"
    }
   ],
   "source": [
    "dp.plate_vel"
   ]
  },
  {
   "cell_type": "code",
   "execution_count": 136,
   "metadata": {
    "collapsed": false
   },
   "outputs": [
    {
     "data": {
      "text/plain": [
       "(849.2588923739356, 670000000000.0, 3.168876464081849e-10)"
      ]
     },
     "execution_count": 136,
     "metadata": {},
     "output_type": "execute_result"
    }
   ],
   "source": [
    "ndp.plate_vel, sf.vel, (cmpery.to(u.m/u.second)).magnitude"
   ]
  },
  {
   "cell_type": "markdown",
   "metadata": {},
   "source": [
    "**Model setup parameters**"
   ]
  },
  {
   "cell_type": "code",
   "execution_count": 137,
   "metadata": {
    "collapsed": false
   },
   "outputs": [],
   "source": [
    "###########\n",
    "#Model setup parameters\n",
    "###########\n",
    "\n",
    "#Modelling and Physics switches\n",
    "refineMesh = True\n",
    "stickyAir = False\n",
    "symmetricIC = False\n",
    "VelBC = False\n",
    "aspectRatio = 4\n",
    "compBuoyancy = False #use compositional & phase buoyancy, or simply thermal\n",
    "RES = 64\n",
    "\n",
    "#Domain and Mesh paramters\n",
    "dim = 2          # number of spatial dimensions\n",
    "\n",
    "tot_depth = np.round(dp.depth/dp.LS, 3)\n",
    "\n",
    "#These options allow us to explore the choice of different length scalings\n",
    "\n",
    "if tot_depth == 1.: #Depth equal to length scale\n",
    "    MINY = 0.\n",
    "    MAXY = 1.\n",
    "elif tot_depth > 1.: #Depth larger than to length scale\n",
    "    MINY = 0.\n",
    "    MAXY = tot_depth\n",
    "    \n",
    "elif tot_depth < 1.: #Depth smaller to length scale\n",
    "    MINY = np.round(1. - tot_depth, 2)\n",
    "    MAXY = 1.\n",
    "    \n",
    "MINX = np.round(-1.*tot_depth*aspectRatio/2., 2)  #Aspect ratio is fixed, x-domain shifts according to system depth and length scale\n",
    "\n",
    "MAXX = np.round(1.*tot_depth*aspectRatio/2., 2)\n",
    "\n",
    "if MINX == 0.:\n",
    "    squareModel = True\n",
    "else: \n",
    "    squareModel = False\n",
    "    \n",
    "    \n",
    "\n",
    "Xres = int(RES*aspectRatio)\n",
    "#if MINY == 0.5:\n",
    "#    Xres = int(2.*RES*aspectRatio)\n",
    "    \n",
    "\n",
    "if stickyAir:\n",
    "    Yres = RES\n",
    "    MAXY = np.round(MAXY + dp.StALS/dp.LS, 2)\n",
    "    \n",
    "else:\n",
    "    Yres = RES\n",
    "    MAXY = np.round(MAXY, 2)\n",
    "\n",
    "periodic = [False, False]\n",
    "elementType = \"Q1/dQ0\"\n",
    "#elementType =\"Q2/DPC1\"\n",
    "\n",
    "\n",
    "#System/Solver stuff\n",
    "PIC_integration=True\n",
    "ppc = 25\n",
    "\n",
    "#Metric output stuff\n",
    "figures =  'gldb' #glucifer Store won't work on all machines, if not, set to 'gldb' \n",
    "swarm_repop, swarm_update = 10, 10\n",
    "gldbs_output = 5\n",
    "checkpoint_every, files_output = 5, 100\n",
    "metric_output = 2\n",
    "sticky_air_temp = 1e6"
   ]
  },
  {
   "cell_type": "markdown",
   "metadata": {},
   "source": [
    "Create mesh and finite element variables\n",
    "------"
   ]
  },
  {
   "cell_type": "code",
   "execution_count": 138,
   "metadata": {
    "collapsed": false
   },
   "outputs": [],
   "source": [
    "mesh = uw.mesh.FeMesh_Cartesian( elementType = (elementType),\n",
    "                                 elementRes  = (Xres, Yres), \n",
    "                                 minCoord    = (MINX, MINY), \n",
    "                                 maxCoord    = (MAXX, MAXY), periodic=periodic)\n",
    "\n",
    "velocityField       = uw.mesh.MeshVariable( mesh=mesh,         nodeDofCount=2 )\n",
    "pressureField       = uw.mesh.MeshVariable( mesh=mesh.subMesh, nodeDofCount=1 )\n",
    "temperatureField    = uw.mesh.MeshVariable( mesh=mesh,         nodeDofCount=1 )\n",
    "temperatureDotField = uw.mesh.MeshVariable( mesh=mesh,         nodeDofCount=1 )"
   ]
  },
  {
   "cell_type": "code",
   "execution_count": 139,
   "metadata": {
    "collapsed": true
   },
   "outputs": [],
   "source": [
    "mesh.reset()"
   ]
  },
  {
   "cell_type": "code",
   "execution_count": 140,
   "metadata": {
    "collapsed": false
   },
   "outputs": [
    {
     "name": "stdout",
     "output_type": "stream",
     "text": [
      "Min\n",
      "(256, 0.0078140624999999998, 3.0003999999999995, 0.99960000000000093)\n",
      "('edges', 256)\n",
      "-- iteration 0 --\n",
      "| F( p_n ) |^2: 0.000123928075027\n",
      "| p_n+1 - p_n |^2: 8.53512671865\n",
      "-- iteration 1 --\n",
      "| F( p_n ) |^2: 3.29102908897e-30\n",
      "Min, Max element width: \n",
      "0.00781\n",
      "0.02344\n"
     ]
    }
   ],
   "source": [
    "###########\n",
    "#Mesh refinement\n",
    "###########\n",
    "\n",
    "#X-Axis\n",
    "\n",
    "if refineMesh:\n",
    "    mesh.reset()\n",
    "    axis = 0\n",
    "    origcoords = np.linspace(mesh.minCoord[axis], mesh.maxCoord[axis], mesh.elementRes[axis] + 1)\n",
    "    edge_rest_lengths = np.diff(origcoords)\n",
    "\n",
    "    deform_lengths = edge_rest_lengths.copy()\n",
    "    min_point =  (abs(mesh.maxCoord[axis]) - abs(mesh.minCoord[axis]))/2.\n",
    "    el_reduction = 0.5001\n",
    "    dx = mesh.maxCoord[axis] - min_point\n",
    "\n",
    "    deform_lengths = deform_lengths - \\\n",
    "                                    ((1.-el_reduction) *deform_lengths[0]) + \\\n",
    "                                    abs((origcoords[1:] - min_point))*((0.5*deform_lengths[0])/dx)\n",
    "\n",
    "    #print(edge_rest_lengths.shape, deform_lengths.shape)\n",
    "\n",
    "    spmesh.deform_1d(deform_lengths, mesh,axis = 'x',norm = 'Min', constraints = [])"
   ]
  },
  {
   "cell_type": "code",
   "execution_count": 141,
   "metadata": {
    "collapsed": false
   },
   "outputs": [],
   "source": [
    "axis = 1\n",
    "orgs = np.linspace(mesh.minCoord[axis], mesh.maxCoord[axis], mesh.elementRes[axis] + 1)\n",
    "\n",
    "value_to_constrain = MAXY #nodes will remain along this line\n",
    "\n",
    "\n",
    "yconst = [(spmesh.find_closest(orgs, value_to_constrain), np.array([value_to_constrain,0]))]"
   ]
  },
  {
   "cell_type": "code",
   "execution_count": 142,
   "metadata": {
    "collapsed": false,
    "scrolled": true
   },
   "outputs": [
    {
     "name": "stdout",
     "output_type": "stream",
     "text": [
      "Min\n",
      "(64, 0.0078140624999999998, 0.74619374999999988, 1.0313396825396834)\n",
      "('edges', 64)\n",
      "-- iteration 0 --\n",
      "| F( p_n ) |^2: 0.000125895187329\n",
      "| p_n+1 - p_n |^2: 0.550178754655\n",
      "-- iteration 1 --\n",
      "| F( p_n ) |^2: 3.96579068205e-31\n",
      "Min, Max element width: \n",
      "0.00781\n",
      "0.02344\n"
     ]
    }
   ],
   "source": [
    "###########\n",
    "#Mesh refinement\n",
    "###########\n",
    "\n",
    "if refineMesh:\n",
    "    #Y-Axis\n",
    "    axis = 1\n",
    "    origcoords = np.linspace(mesh.minCoord[axis], mesh.maxCoord[axis], mesh.elementRes[axis] + 1)\n",
    "    edge_rest_lengths = np.diff(origcoords)\n",
    "\n",
    "    deform_lengths = edge_rest_lengths.copy()\n",
    "    min_point =  (mesh.maxCoord[axis])\n",
    "    el_reduction = 0.5001\n",
    "    dx = mesh.maxCoord[axis]\n",
    "\n",
    "    deform_lengths = deform_lengths - \\\n",
    "                                    ((1.-el_reduction)*deform_lengths[0]) + \\\n",
    "                                    abs((origcoords[1:] - min_point))*((0.5*deform_lengths[0])/dx)\n",
    "\n",
    "    #print(edge_rest_lengths.shape, deform_lengths.shape)\n",
    "\n",
    "    spmesh.deform_1d(deform_lengths, mesh,axis = 'y',norm = 'Min', constraints = yconst)"
   ]
  },
  {
   "cell_type": "code",
   "execution_count": 143,
   "metadata": {
    "collapsed": false
   },
   "outputs": [],
   "source": [
    "#fig= glucifer.Figure()\n",
    "\n",
    "#fig.append(glucifer.objects.Mesh(mesh))\n",
    "\n",
    "#fig.show()\n",
    "#fig.save_database('test.gldb')"
   ]
  },
  {
   "cell_type": "code",
   "execution_count": 144,
   "metadata": {
    "collapsed": true
   },
   "outputs": [],
   "source": [
    "#THis is a hack for adding a sticky air domain, we refine MAXY and things like the temperature stencil work from Y = 1. \n",
    "\n",
    "if stickyAir:\n",
    "    MAXY = 1."
   ]
  },
  {
   "cell_type": "markdown",
   "metadata": {},
   "source": [
    "Initial conditions\n",
    "-------\n"
   ]
  },
  {
   "cell_type": "code",
   "execution_count": 145,
   "metadata": {
    "collapsed": false
   },
   "outputs": [],
   "source": [
    "coordinate = fn.input()\n",
    "depthFn = MAXY - coordinate[1] #a function providing the depth\n",
    "\n",
    "\n",
    "xFn = coordinate[0]  #a function providing the x-coordinate\n",
    "yFn = coordinate[1]\n"
   ]
  },
  {
   "cell_type": "code",
   "execution_count": 146,
   "metadata": {
    "collapsed": false
   },
   "outputs": [],
   "source": [
    "\n",
    "def age_fn(xFn, sz = 0.0, lMOR=MINX, rMOR=MAXX, opFac=1., conjugate_plate = False):\n",
    "    \"\"\"\n",
    "    Simple function to generate a discrete 1-d (i.e x-coordinate) function for the age of the thermal BC. \n",
    "    All paramters are dimensionless\n",
    "    sz: location of subduction zone\n",
    "    lMOR: location of left-hand MOR\n",
    "    rMOR: location of right-hand MOR\n",
    "    opFac: uniform reduce the age of the right hand plate by this factor\n",
    "    conjugate_plate: if True, build plates on the outer sides of the MORs, if False, age = 0. \n",
    "    \"\"\"\n",
    "    \n",
    "    if lMOR < MINX:\n",
    "        lMOR = MINX\n",
    "    if rMOR > MAXX:\n",
    "        rMOR = MAXX\n",
    "    r_grad =  1./(abs(rMOR-sz))\n",
    "    l_grad =  1./(abs(sz-lMOR))\n",
    "    if conjugate_plate:\n",
    "        ageFn = fn.branching.conditional([(operator.and_(xFn > lMOR, xFn < sz) , (xFn + abs(lMOR))/(abs(sz-lMOR))), \n",
    "                                      (operator.and_(xFn < rMOR, xFn >= sz), (1.-(xFn + abs(sz))/abs(rMOR-sz))*opFac),\n",
    "                                      (xFn > rMOR, r_grad*opFac*(xFn -abs(rMOR)) / (abs(MAXX-rMOR))),\n",
    "                                      (True, l_grad*fn.math.abs((((xFn + abs(lMOR)) / (abs(lMOR - MINX))))))\n",
    "                                         ])\n",
    "    else:    \n",
    "        \n",
    "        ageFn = fn.branching.conditional([(operator.and_(xFn > lMOR, xFn < sz) , (xFn + abs(lMOR))/(abs(sz-lMOR))), \n",
    "                                      (operator.and_(xFn < rMOR, xFn >= sz), (1.-(xFn + abs(sz))/abs(rMOR-sz))*opFac),\n",
    "\n",
    "                                      (True, 0.0)])\n",
    "    return ageFn"
   ]
  },
  {
   "cell_type": "code",
   "execution_count": 147,
   "metadata": {
    "collapsed": false
   },
   "outputs": [],
   "source": [
    "###########\n",
    "#Thermal initial condition - half-space coooling\n",
    "###########\n",
    "\n",
    "\n",
    "#  a few conversions\n",
    "ageAtTrenchSeconds = min(dp.platemaxAge*(3600*24*365), dp.slabmaxAge*(3600*24*365))\n",
    "#slab perturbation params (mostly dimensionless / model params here)\n",
    "phi = 90. - dp.theta\n",
    "Org = (ndp.subzone, MAXY-ndp.roc)\n",
    "\n",
    "#First build the top TBL\n",
    "ageFn = age_fn(xFn, sz =ndp.subzone, lMOR=ndp.lRidge,rMOR=ndp.rRidge, conjugate_plate=True, opFac = dp.op_age_fac)\n",
    "#dimensionlize the age function\n",
    "ageFn *= ageAtTrenchSeconds #seconds to year\n",
    "w0 = (2.*math.sqrt(dp.k*ageAtTrenchSeconds))/dp.LS #diffusion depth of plate at the trench\n",
    "\n",
    "tempBL = (ndp.TP - ndp.TS) *fn.math.erf((depthFn*dp.LS)/(2.*fn.math.sqrt(dp.k*ageFn))) + ndp.TSP #boundary layer function\n",
    "tempTBL =  fn.branching.conditional([(depthFn < w0, tempBL),\n",
    "                          (True, ndp.TPP)])\n",
    "\n",
    "if not symmetricIC:\n",
    "    if not checkpointLoad:\n",
    "        out = uw.utils.MeshVariable_Projection( temperatureField, tempTBL) #apply function with projection\n",
    "        out.solve()\n",
    "\n"
   ]
  },
  {
   "cell_type": "code",
   "execution_count": 148,
   "metadata": {
    "collapsed": false
   },
   "outputs": [],
   "source": [
    "#Now build the perturbation part\n",
    "def inCircleFnGenerator(centre, radius):\n",
    "    coord = fn.input()\n",
    "    offsetFn = coord - centre\n",
    "    return fn.math.dot( offsetFn, offsetFn ) < radius**2\n",
    "\n",
    "\n",
    "\n",
    "#We use three circles to define our slab and crust perturbation,  \n",
    "Oc = inCircleFnGenerator(Org , ndp.roc)\n",
    "Ic = inCircleFnGenerator(Org , ndp.roc - w0)\n",
    "Cc = inCircleFnGenerator(Org , ndp.roc - (1.2*ndp.MANTLETOCRUST)) #... weak zone on 'outside' of slab\n",
    "Hc = inCircleFnGenerator(Org , ndp.roc - ndp.HARZBURGDEPTH) #... Harzburgite layer \n",
    "dx = (ndp.roc)/(np.math.tan((np.math.pi/180.)*phi))\n",
    "\n",
    "#We'll also create a triangle which will truncate the circles defining the slab...\n",
    "if dp.sense == 'Left':\n",
    "    ptx = ndp.subzone - dx\n",
    "else:\n",
    "    ptx = ndp.subzone + dx\n",
    "coords = ((0.+ ndp.subzone, MAXY), (0.+ ndp.subzone, MAXY-ndp.roc), (ptx, MAXY))\n",
    "Tri = fn.shape.Polygon(np.array(coords))\n",
    "\n",
    "#Actually apply the perturbation - could probably avoid particle walk here\n",
    "if not symmetricIC:\n",
    "    if not checkpointLoad:\n",
    "        sdFn = ((ndp.roc - fn.math.sqrt((coordinate[0] - Org[0])**2. + (coordinate[1] - Org[1])**2.)))\n",
    "        slabFn = ndp.TPP*fn.math.erf((sdFn*dp.LS)/(2.*math.sqrt(dp.k*ageAtTrenchSeconds))) + ndp.TSP\n",
    "        for index, coord in enumerate(mesh.data):\n",
    "            if (\n",
    "                Oc.evaluate(tuple(coord)) and\n",
    "                Tri.evaluate(tuple(coord)) and not\n",
    "                Ic.evaluate(tuple(coord)) and\n",
    "                coord[1] > (MAXY - ndp.maxDepth)\n",
    "                ): #In the quarter-circle defining the lithosphere\n",
    "                temperatureField.data[index] = slabFn.evaluate(mesh)[index]\n"
   ]
  },
  {
   "cell_type": "code",
   "execution_count": 149,
   "metadata": {
    "collapsed": false
   },
   "outputs": [],
   "source": [
    "#sdFn = ((RocM - fn.math.sqrt((coordinate[0] - Org[0])**2. + (coordinate[1] - Org[1])**2.)))\n",
    "#slabFn = ndp.TPP*fn.math.erf((sdFn*dp.LS)/(2.*math.sqrt(dp.k*ageAtTrenchSeconds))) + ndp.TSP\n",
    "#sdFn, slabFn"
   ]
  },
  {
   "cell_type": "code",
   "execution_count": 150,
   "metadata": {
    "collapsed": false
   },
   "outputs": [],
   "source": [
    "#Make sure material in sticky air region is at the surface temperature.\n",
    "for index, coord in enumerate(mesh.data):\n",
    "            if coord[1] >= MAXY:\n",
    "                temperatureField.data[index] = ndp.TSP"
   ]
  },
  {
   "cell_type": "code",
   "execution_count": 151,
   "metadata": {
    "collapsed": false
   },
   "outputs": [],
   "source": [
    "#fn.math.erf((sdFn*dp.LS)/(2.*fn.math.sqrt(dp.k*(slabmaxAge*(3600*24*365))))) \n",
    "#CRUSTVISCUTOFF, MANTLETOCRUST*3"
   ]
  },
  {
   "cell_type": "markdown",
   "metadata": {
    "collapsed": false
   },
   "source": [
    "def matplot_field(temperatureField, dp):\n",
    "    if uw.nProcs() != 1:\n",
    "        print(\"only in Serial folks\")\n",
    "    else:\n",
    "        import matplotlib.pyplot as pyplt\n",
    "        try :\n",
    "            if(__IPYTHON__) :\n",
    "                get_ipython().magic(u'matplotlib inline')\n",
    "        except NameError :\n",
    "            pass\n",
    "        field_data = temperatureField.data.reshape(mesh.elementRes[1] + 1, mesh.elementRes[0] + 1)\n",
    "        fig, ax = pyplt.subplots(figsize=(32,2))\n",
    "        ql = dp.LS/1e3\n",
    "        pyplt.ioff()\n",
    "        cax =ax.imshow(np.flipud(field_data), cmap='coolwarm', aspect = 0.5, extent=[0,ql*aspectRatio,ql, 0])\n",
    "        fig.colorbar(cax, orientation='horizontal' )\n",
    "        #ax.set_x([0,dp.LS*aspectRatio])\n",
    "        pyplt.tight_layout()\n",
    "        \n",
    "        return fig, ax\n",
    "        \n",
    "fig, ax = matplot_field(temperatureField, dp)\n",
    "fig.savefig('test.png')       "
   ]
  },
  {
   "cell_type": "code",
   "execution_count": 152,
   "metadata": {
    "collapsed": false
   },
   "outputs": [
    {
     "data": {
      "text/plain": [
       "(0.0, 0.0)"
      ]
     },
     "execution_count": 152,
     "metadata": {},
     "output_type": "execute_result"
    }
   ],
   "source": [
    "temperatureField.data.min(), temperatureField.data.max()"
   ]
  },
  {
   "cell_type": "code",
   "execution_count": null,
   "metadata": {
    "collapsed": false
   },
   "outputs": [],
   "source": [
    "\n"
   ]
  },
  {
   "cell_type": "code",
   "execution_count": 153,
   "metadata": {
    "collapsed": false
   },
   "outputs": [],
   "source": [
    "\n",
    "#ageFn = age_fn(xFn)"
   ]
  },
  {
   "cell_type": "code",
   "execution_count": 154,
   "metadata": {
    "collapsed": false
   },
   "outputs": [],
   "source": [
    "\n",
    "#fig= glucifer.Figure(quality=3)\n",
    "\n",
    "#fig.append( glucifer.objects.Surface(mesh,temperatureField ))\n",
    "#fig.append( glucifer.objects.Mesh(mesh))\n",
    "#fig.show()\n",
    "\n",
    "##fig.save_database('test.gldb')\n",
    "#fig.save_image('test.png')\n"
   ]
  },
  {
   "cell_type": "markdown",
   "metadata": {},
   "source": [
    "Boundary conditions\n",
    "-------"
   ]
  },
  {
   "cell_type": "code",
   "execution_count": 155,
   "metadata": {
    "collapsed": false
   },
   "outputs": [
    {
     "name": "stdout",
     "output_type": "stream",
     "text": [
      "2\n"
     ]
    }
   ],
   "source": [
    "for index in mesh.specialSets[\"MinJ_VertexSet\"]:\n",
    "    temperatureField.data[index] = ndp.TBP\n",
    "for index in mesh.specialSets[\"MaxJ_VertexSet\"]:\n",
    "    temperatureField.data[index] = ndp.TSP\n",
    "    \n",
    "iWalls = mesh.specialSets[\"MinI_VertexSet\"] + mesh.specialSets[\"MaxI_VertexSet\"]\n",
    "jWalls = mesh.specialSets[\"MinJ_VertexSet\"] + mesh.specialSets[\"MaxJ_VertexSet\"]\n",
    "tWalls = mesh.specialSets[\"MaxJ_VertexSet\"]\n",
    "bWalls =mesh.specialSets[\"MinJ_VertexSet\"]\n",
    "\n",
    "VelBCs = mesh.specialSets[\"Empty\"]\n",
    "\n",
    "\n",
    "\n",
    "if VelBC:\n",
    "    for index in list(tWalls.data):\n",
    "\n",
    "        if (mesh.data[int(index)][0] < (ndp.subzone - 0.05*aspectRatio) and \n",
    "            mesh.data[int(index)][0] > (mesh.minCoord[0] + 0.05*aspectRatio)): #Only push with a portion of teh overiding plate\n",
    "            #print \"first\"\n",
    "            VelBCs.add(int(index))\n",
    "            #Set the plate velocities for the kinematic phase\n",
    "            velocityField.data[index] = [ndp.plate_vel, 0.]\n",
    "        \n",
    "        elif (mesh.data[int(index)][0] > (ndp.subzone + 0.05*aspectRatio) and \n",
    "            mesh.data[int(index)][0] < (mesh.maxCoord[0] - 0.05*aspectRatio)):\n",
    "            #print \"second\"\n",
    "            VelBCs.add(int(index))\n",
    "            #Set the plate velocities for the kinematic phase\n",
    "            velocityField.data[index] = [0., 0.]\n",
    "        \n",
    "\n",
    "#If periodic, we'll fix a the x-vel at a single node - at the bottom left (index 0)\n",
    "Fixed = mesh.specialSets[\"Empty\"]\n",
    "Fixed.add(int(0))        \n",
    "        \n",
    "\n",
    "if periodic[0] == False:\n",
    "    if VelBC:\n",
    "        print(1)\n",
    "        freeslipBC = uw.conditions.DirichletCondition( variable      = velocityField, \n",
    "                                               indexSetsPerDof = ( iWalls + VelBCs, jWalls) )\n",
    "    else:\n",
    "        print(2)\n",
    "        freeslipBC = uw.conditions.DirichletCondition( variable      = velocityField, \n",
    "                                               indexSetsPerDof = ( iWalls, jWalls) )\n",
    "\n",
    "\n",
    "\n",
    "\n",
    "\n",
    "\n",
    "if periodic[0] == True:\n",
    "    if VelBC:\n",
    "        print(3)\n",
    "        freeslipBC = uw.conditions.DirichletCondition( variable      = velocityField, \n",
    "                                               indexSetsPerDof = ( Fixed + VelBCs , jWalls) )\n",
    "    else:\n",
    "        print(4)\n",
    "        freeslipBC = uw.conditions.DirichletCondition( variable      = velocityField, \n",
    "                                               indexSetsPerDof = ( Fixed, jWalls) )\n",
    "        \n",
    "    \n",
    "    \n",
    "    \n",
    "# also set dirichlet for temp field\n",
    "dirichTempBC = uw.conditions.DirichletCondition(     variable=temperatureField, \n",
    "                                              indexSetsPerDof=(tWalls,) )\n",
    "dT_dy = [0.,0.]\n",
    "\n",
    "# also set dirichlet for temp field\n",
    "neumannTempBC = uw.conditions.NeumannCondition( dT_dy, variable=temperatureField, \n",
    "                                         nodeIndexSet=bWalls)\n",
    "\n"
   ]
  },
  {
   "cell_type": "code",
   "execution_count": null,
   "metadata": {
    "collapsed": false
   },
   "outputs": [],
   "source": []
  },
  {
   "cell_type": "code",
   "execution_count": 156,
   "metadata": {
    "collapsed": false
   },
   "outputs": [],
   "source": [
    "#check VelBCs are where we want them\n",
    "#test = np.zeros(len(tWalls.data))\n",
    "#VelBCs\n",
    "#tWalls.data\n",
    "#tWalls.data[VelBCs.data]\n",
    "#test[np.in1d(tWalls.data, VelBCs.data)] = 1.\n",
    "#test\n",
    "\n"
   ]
  },
  {
   "cell_type": "code",
   "execution_count": null,
   "metadata": {
    "collapsed": false
   },
   "outputs": [],
   "source": []
  },
  {
   "cell_type": "markdown",
   "metadata": {},
   "source": [
    "Swarm setup\n",
    "-----\n"
   ]
  },
  {
   "cell_type": "code",
   "execution_count": 157,
   "metadata": {
    "collapsed": false
   },
   "outputs": [],
   "source": [
    "###########\n",
    "#Material Swarm and variables\n",
    "###########\n",
    "\n",
    "#create material swarm\n",
    "gSwarm = uw.swarm.Swarm(mesh=mesh, particleEscape=True)\n",
    "\n",
    "#create swarm variables\n",
    "yieldingCheck = gSwarm.add_variable( dataType=\"int\", count=1 )\n",
    "#tracerVariable = gSwarm.add_variable( dataType=\"int\", count=1)\n",
    "materialVariable = gSwarm.add_variable( dataType=\"int\", count=1 )\n",
    "ageVariable = gSwarm.add_variable( dataType=\"double\", count=1 )\n",
    "#testVariable = gSwarm.add_variable( dataType=\"float\", count=1 )\n",
    "\n",
    "\n",
    "#these lists  are part of the checkpointing implementation\n",
    "varlist = [materialVariable, yieldingCheck, ageVariable]\n",
    "varnames = ['materialVariable', 'yieldingCheck', 'ageVariable']"
   ]
  },
  {
   "cell_type": "code",
   "execution_count": 158,
   "metadata": {
    "collapsed": false
   },
   "outputs": [],
   "source": [
    "mantleIndex = 0\n",
    "crustIndex = 1\n",
    "harzIndex = 2\n",
    "airIndex = 3\n",
    "\n",
    "\n",
    "\n",
    "if checkpointLoad:\n",
    "    temperatureField.load(os.path.join(checkpointLoadDir, \"temperatureField\" + \".hdf5\"))\n",
    "    pressureField.load(os.path.join(checkpointLoadDir, \"pressureField\" + \".hdf5\"))\n",
    "    velocityField.load(os.path.join(checkpointLoadDir, \"velocityField\" + \".hdf5\"))\n",
    "    gSwarm.load(os.path.join(checkpointLoadDir, \"swarm\" + \".h5\"))\n",
    "    for ix in range(len(varlist)):\n",
    "        varb = varlist[ix]\n",
    "        varb.load(os.path.join(checkpointLoadDir,varnames[ix] + \".h5\"))\n",
    "\n",
    "else:\n",
    "\n",
    "    # Layouts are used to populate the swarm across the whole domain\n",
    "    layout = uw.swarm.layouts.PerCellRandomLayout(swarm=gSwarm, particlesPerCell=ppc)\n",
    "    gSwarm.populate_using_layout( layout=layout ) # Now use it to populate.\n",
    "    # Swarm variables\n",
    "    materialVariable.data[:] = mantleIndex\n",
    "    #tracerVariable.data[:] = 1\n",
    "    yieldingCheck.data[:] = 0\n",
    "    ageVariable.data[:] = -1\n",
    "\n",
    "    #Set initial air and crust materials (allow the graph to take care of lithsophere)\n",
    "    #########\n",
    "    #This initial material setup will be model dependent\n",
    "    #########\n",
    "    for particleID in range(gSwarm.particleCoordinates.data.shape[0]):\n",
    "        if (1. - gSwarm.particleCoordinates.data[particleID][1]) < ndp.MANTLETOCRUST:\n",
    "                 materialVariable.data[particleID] = crustIndex"
   ]
  },
  {
   "cell_type": "markdown",
   "metadata": {
    "collapsed": false
   },
   "source": [
    "###########\n",
    "#This block sets up a checkboard layout of passive tracers\n",
    "###########\n",
    "\n",
    "square_size = 0.1\n",
    "xlist = np.arange(mesh.minCoord[0] + square_size/2., mesh.maxCoord[0] + square_size/2., square_size)\n",
    "xlist = zip(xlist[:], xlist[1:])[::2]\n",
    "ylist = np.arange(mesh.minCoord[1] + square_size/2., mesh.maxCoord[1] + square_size/2., square_size)\n",
    "ylist = zip(ylist[:], ylist[1:])[::2]\n",
    "xops = []\n",
    "for vals in xlist:\n",
    "    xops.append( (operator.and_(   operator.gt(coordinate[0],vals[0]),   operator.lt(coordinate[0],vals[1])  ),0.) )\n",
    "xops.append((True,1.))\n",
    "\n",
    "testfunc = fn.branching.conditional(xops) \n",
    "\n",
    "yops = []\n",
    "for vals in ylist:\n",
    "    yops.append( (operator.and_(   operator.gt(coordinate[1],vals[0]),   operator.lt(coordinate[1],vals[1])  ),0.) )\n",
    "yops.append((True,testfunc))\n",
    "\n",
    "testfunc2 = fn.branching.conditional(yops) \n",
    "tracerVariable.data[:] = testfunc.evaluate(gSwarm)\n",
    "tracerVariable.data[:] = testfunc2.evaluate(gSwarm)"
   ]
  },
  {
   "cell_type": "code",
   "execution_count": null,
   "metadata": {
    "collapsed": false
   },
   "outputs": [],
   "source": []
  },
  {
   "cell_type": "code",
   "execution_count": 159,
   "metadata": {
    "collapsed": false
   },
   "outputs": [],
   "source": [
    "##############\n",
    "#Set the initial particle age for particles above the critical depth; \n",
    "#only material older than crustageCond will be transformed to crust / harzburgite\n",
    "##############\n",
    "\n",
    "ageVariable.data[:] = 0. #start with all zero\n",
    "ageVariable.data[:] = ageFn.evaluate(gSwarm)/sf.SR\n",
    "crustageCond = 2e6*(3600.*365.*24.)/sf.SR #set inital age above critical depth. (x...Ma)\n",
    "\n",
    "\n",
    "\n",
    "ageConditions = [ (depthFn < ndp.AGETRACKDEPTH, ageVariable),  #In the main loop we add ageVariable + dt here\n",
    "                  (True, 0.) ]\n",
    "                 \n",
    "#apply conditional \n",
    "ageVariable.data[:] = fn.branching.conditional( ageConditions ).evaluate(gSwarm)\n",
    "\n",
    "ageDT = 0.#this is used in the main loop for short term time increments"
   ]
  },
  {
   "cell_type": "code",
   "execution_count": 160,
   "metadata": {
    "collapsed": false
   },
   "outputs": [],
   "source": [
    "#fig= glucifer.Figure()\n",
    "#fig.append( glucifer.objects.Points(gSwarm,ageVariable))\n",
    "#fig.append( glucifer.objects.Points(gSwarm, viscosityMapFn, logScale=True, valueRange =[1e-3,1e5]))\n",
    "\n",
    "\n",
    "#fig.show()"
   ]
  },
  {
   "cell_type": "code",
   "execution_count": 161,
   "metadata": {
    "collapsed": false
   },
   "outputs": [],
   "source": [
    "##############\n",
    "#Here we set up a directed graph object that we we use to control the transformation from one material type to another\n",
    "##############\n",
    "\n",
    "#All depth conditions are given as (km/D) where D is the length scale,\n",
    "#note that 'model depths' are used, e.g. 1-z, where z is the vertical Underworld coordinate\n",
    "#All temp conditions are in dimensionless temp. [0. - 1.]\n",
    "\n",
    "#Need a list of all material indexes (safer in parallel)\n",
    "material_list = [0,1,2,3]\n",
    "\n",
    "if not checkpointLoad:\n",
    "    materialVariable.data[:] = 0 #Initialize to zero \n",
    "\n",
    "#Setup the graph object\n",
    "DG = material_graph.MatGraph()\n",
    "\n",
    "#Important: First thing to do is to add all the material types to the graph (i.e add nodes)\n",
    "DG.add_nodes_from(material_list)\n",
    "\n",
    "#Now set the conditions for transformations\n",
    "\n",
    "hs = 2e3/dp.LS  #add some hysteresis to the depths of transition\n",
    "\n",
    "#... to mantle\n",
    "DG.add_transition((crustIndex,mantleIndex), depthFn, operator.gt, ndp.CRUSTTOMANTLE + hs)\n",
    "DG.add_transition((harzIndex,mantleIndex), depthFn, operator.gt, ndp.CRUSTTOMANTLE + hs)\n",
    "DG.add_transition((airIndex,mantleIndex), depthFn, operator.gt, ndp.TOPOHEIGHT + hs)\n",
    "\n",
    "#... to crust\n",
    "DG.add_transition((mantleIndex,crustIndex), depthFn, operator.lt, ndp.MANTLETOCRUST)\n",
    "DG.add_transition((mantleIndex,crustIndex), xFn, operator.lt, ndp.subzone + 4.*ndp.MANTLETOCRUST) #No crust on the upper plate\n",
    "DG.add_transition((mantleIndex,crustIndex), ageVariable, operator.gt, crustageCond)\n",
    "\n",
    "\n",
    "DG.add_transition((harzIndex,crustIndex), depthFn, operator.lt, ndp.MANTLETOCRUST)\n",
    "DG.add_transition((harzIndex,crustIndex), xFn, operator.lt, ndp.subzone + 4.*ndp.MANTLETOCRUST) #This one sets no crust on the upper plate\n",
    "DG.add_transition((harzIndex,crustIndex), ageVariable, operator.gt, crustageCond)\n",
    "\n",
    "#... to Harzbugite\n",
    "DG.add_transition((mantleIndex,harzIndex), depthFn, operator.lt, ndp.HARZBURGDEPTH)\n",
    "DG.add_transition((mantleIndex,harzIndex), depthFn, operator.gt, ndp.MANTLETOCRUST)\n",
    "DG.add_transition((mantleIndex,harzIndex), ageVariable, operator.gt, crustageCond) #Note we can mix functions and swarm variabls\n",
    "\n",
    "\n",
    "\n",
    "#... to air\n",
    "DG.add_transition((mantleIndex,airIndex), depthFn, operator.lt,0.)\n",
    "DG.add_transition((crustIndex,airIndex), depthFn, operator.lt, 0. )\n",
    "DG.add_transition((harzIndex,airIndex), depthFn, operator.lt, 0. )\n"
   ]
  },
  {
   "cell_type": "code",
   "execution_count": 162,
   "metadata": {
    "collapsed": false
   },
   "outputs": [],
   "source": [
    "#CRUSTTOMANTLE, HARZBURGDEPTH, 0. + 7.*MANTLETOCRUST"
   ]
  },
  {
   "cell_type": "code",
   "execution_count": 163,
   "metadata": {
    "collapsed": false
   },
   "outputs": [],
   "source": [
    "#gSwarm.particleCoordinates.data[particleID][1]"
   ]
  },
  {
   "cell_type": "code",
   "execution_count": 164,
   "metadata": {
    "collapsed": false
   },
   "outputs": [],
   "source": [
    "##############\n",
    "#For the slab_IC, we'll also add a crustal weak zone following the dipping perturbation\n",
    "##############\n",
    "\n",
    "if checkpointLoad != True:\n",
    "    if not symmetricIC:\n",
    "        for particleID in range(gSwarm.particleCoordinates.data.shape[0]):\n",
    "            if gSwarm.particleCoordinates.data[particleID][1] < 0.:\n",
    "                materialVariable.data[particleID] = airIndex\n",
    "                \n",
    "            elif (\n",
    "                Oc.evaluate(list(gSwarm.particleCoordinates.data[particleID])) and\n",
    "                Tri.evaluate(list(gSwarm.particleCoordinates.data[particleID])) and\n",
    "                gSwarm.particleCoordinates.data[particleID][1] > (MAXY - ndp.maxDepth) and\n",
    "                Cc.evaluate(list(gSwarm.particleCoordinates.data[particleID])) == False\n",
    "                \n",
    "                ):\n",
    "                materialVariable.data[particleID] = crustIndex\n",
    "                \n",
    "            elif (\n",
    "                Oc.evaluate(list(gSwarm.particleCoordinates.data[particleID])) and\n",
    "                Tri.evaluate(list(gSwarm.particleCoordinates.data[particleID])) and\n",
    "                gSwarm.particleCoordinates.data[particleID][1] > (MAXY - ndp.maxDepth) and\n",
    "                Hc.evaluate(list(gSwarm.particleCoordinates.data[particleID])) == False\n",
    "                \n",
    "                ):\n",
    "                materialVariable.data[particleID] = harzIndex"
   ]
  },
  {
   "cell_type": "code",
   "execution_count": 165,
   "metadata": {
    "collapsed": false
   },
   "outputs": [],
   "source": [
    "##############\n",
    "#This is how we use the material graph object to test / apply material transformations\n",
    "##############\n",
    "DG.build_condition_list(materialVariable)\n",
    "\n",
    "for i in range(2): #Need to go through a number of times\n",
    "    materialVariable.data[:] = fn.branching.conditional(DG.condition_list).evaluate(gSwarm)"
   ]
  },
  {
   "cell_type": "code",
   "execution_count": 166,
   "metadata": {
    "collapsed": false
   },
   "outputs": [],
   "source": [
    "#maxDepth"
   ]
  },
  {
   "cell_type": "code",
   "execution_count": 167,
   "metadata": {
    "collapsed": false
   },
   "outputs": [],
   "source": [
    "#fig2= glucifer.Figure()\n",
    "#fig2.append( glucifer.objects.Points(gSwarm,materialVariable))\n",
    "#fig2.append( glucifer.objects.Surface(mesh, depthFn))\n",
    "\n",
    "#fig2.show()\n",
    "#fig2.save_database('test.gldb')"
   ]
  },
  {
   "cell_type": "markdown",
   "metadata": {
    "collapsed": false
   },
   "source": [
    "## phase and compositional buoyancy\n",
    "\n",
    "This was designed for EBA models, needs a rethink for Boussinesq"
   ]
  },
  {
   "cell_type": "code",
   "execution_count": 168,
   "metadata": {
    "collapsed": false
   },
   "outputs": [],
   "source": [
    "##############\n",
    "#Set up phase buoyancy contributions\n",
    "#the phase function approach of Yuen and Christenson is implemented in the Slippy2 phase_function class \n",
    "##############\n",
    "\n",
    "\n",
    "#olivine\n",
    "olivinePhase = phase_function.component_phases(name = 'ol', \n",
    "                        depths=[410e3,660e3], #depths of phase transitions along adiabat\n",
    "                        temps = [1600., 1900.], #temperatures of phase transitions along adiabat\n",
    "                        widths = [20e3, 20e3], #width if transition\n",
    "                        claps=[2.e6, -2.5e6],  #Clapeyron slope of trnasition\n",
    "                        densities = [180., 400.]) #density change of phase transition\n",
    "\n",
    "olivinePhase.build_nd_dict(dp.LS, dp.rho, dp.g, dp.deltaT)\n",
    "\n",
    "\n",
    "rp = olivinePhase.nd_reduced_pressure(depthFn, \n",
    "                                   temperatureField,\n",
    "                                   olivinePhase.ndp['depths'][0],\n",
    "                                   olivinePhase.ndp['claps'][0],\n",
    "                                   olivinePhase.ndp['temps'][0])\n",
    "\n",
    "#ph_410 = olivinePhase.nd_phase(rp, test.ndp['widths'][0])\n",
    "#pf_sum = test.phase_function_sum(temperatureField, depthFn)\n",
    "\n",
    "olivine_phase_buoyancy = olivinePhase.buoyancy_sum(temperatureField, depthFn, dp.g, dp.LS, dp.k, dp.eta0)\n",
    "\n",
    "#garnet\n",
    "garnetPhase = phase_function.component_phases(name = 'grt', \n",
    "                        depths=[60e3,400e3, 720e3],\n",
    "                        temps = [1000., 1600., 1900.], \n",
    "                        widths = [20e3, 20e3, 20e3], \n",
    "                        claps=[0.e6, 1.e6, 1.e6], \n",
    "                        densities = [350., 150., 400.])\n",
    "\n",
    "garnetPhase.build_nd_dict(dp.LS, dp.rho, dp.g, dp.deltaT)\n",
    "\n",
    "\n",
    "rp = garnetPhase.nd_reduced_pressure(depthFn, \n",
    "                                   temperatureField,\n",
    "                                   garnetPhase.ndp['depths'][0],\n",
    "                                   garnetPhase.ndp['claps'][0],\n",
    "                                   garnetPhase.ndp['temps'][0])\n",
    "\n",
    "#ph_410 = olivinePhase.nd_phase(rp, test.ndp['widths'][0])\n",
    "#pf_sum = test.phase_function_sum(temperatureField, depthFn)\n",
    "\n",
    "garnet_phase_buoyancy = garnetPhase.buoyancy_sum(temperatureField, depthFn, dp.g, dp.LS, dp.k, dp.eta0)"
   ]
  },
  {
   "cell_type": "code",
   "execution_count": 169,
   "metadata": {
    "collapsed": false
   },
   "outputs": [],
   "source": [
    "##############\n",
    "#Set up compositional buoyancy contributions\n",
    "##############\n",
    "\n",
    "bouyancy_factor = (dp.g*dp.LS**3)/(dp.eta0*dp.k)\n",
    "\n",
    "basalt_comp_buoyancy  = (dp.rho - 2940.)*bouyancy_factor\n",
    "harz_comp_buoyancy = (dp.rho - 3235.)*bouyancy_factor\n",
    "pyrolite_comp_buoyancy = (dp.rho - 3300.)*bouyancy_factor\n",
    "\n",
    "#print(basalt_comp_buoyancy, harz_comp_buoyancy, pyrolite_comp_buoyancy)\n",
    "\n",
    "\n",
    "#this function accounts for the decrease in expansivity, and acts to reduce the rayleigh number with depth\n",
    "alphaRatio = 1.2/3\n",
    "taFn = 1. - (depthFn)*(1. - alphaRatio) \n",
    "\n",
    "\n",
    "if not compBuoyancy:\n",
    "    pyrolitebuoyancyFn =  (ndp.RA*temperatureField*taFn)\n",
    "    harzbuoyancyFn =      (ndp.RA*temperatureField*taFn) \n",
    "    basaltbuoyancyFn =    (ndp.RA*temperatureField*taFn)\n",
    "\n",
    "else : \n",
    "    pyrolitebuoyancyFn =  (ndp.RA*temperatureField*taFn) -\\\n",
    "                          (0.6*olivine_phase_buoyancy + 0.4*garnet_phase_buoyancy) +\\\n",
    "                           pyrolite_comp_buoyancy\n",
    "    harzbuoyancyFn =      (ndp.RA*temperatureField*taFn) -\\\n",
    "                          (0.8*olivine_phase_buoyancy + 0.2*garnet_phase_buoyancy) +\\\n",
    "                           harz_comp_buoyancy\n",
    "    basaltbuoyancyFn =    (ndp.RA*temperatureField*taFn) -\\\n",
    "                          (1.*garnet_phase_buoyancy) +\\\n",
    "                           basalt_comp_buoyancy"
   ]
  },
  {
   "cell_type": "markdown",
   "metadata": {},
   "source": [
    "Rheology\n",
    "-----\n",
    "\n"
   ]
  },
  {
   "cell_type": "code",
   "execution_count": 170,
   "metadata": {
    "collapsed": false
   },
   "outputs": [],
   "source": [
    "##############\n",
    "#Set up any functions required by the rheology\n",
    "##############\n",
    "strainRate_2ndInvariant = fn.tensor.second_invariant( \n",
    "                            fn.tensor.symmetric( \n",
    "                            velocityField.fn_gradient ))\n",
    "\n",
    "def safe_visc(func, viscmin=ndp.eta_min, viscmax=ndp.eta_max):\n",
    "    return fn.misc.max(viscmin, fn.misc.min(viscmax, func))"
   ]
  },
  {
   "cell_type": "code",
   "execution_count": 171,
   "metadata": {
    "collapsed": true
   },
   "outputs": [],
   "source": [
    "#strainRate_2ndInvariant = fn.misc.constant(ndp.SR) #dummy fucntion to check which mechanisms are at active are reference strain rate"
   ]
  },
  {
   "cell_type": "code",
   "execution_count": 172,
   "metadata": {
    "collapsed": false
   },
   "outputs": [],
   "source": [
    "#ndp.crust_cohesion_fac"
   ]
  },
  {
   "cell_type": "code",
   "execution_count": 173,
   "metadata": {
    "collapsed": false
   },
   "outputs": [],
   "source": [
    "############\n",
    "#Rheology: create UW2 functions for all viscous mechanisms\n",
    "#############\n",
    "\n",
    "omega = fn.misc.constant(1.) #this function can hold any arbitary viscosity modifications \n",
    "\n",
    "\n",
    "##Diffusion Creep\n",
    "\n",
    "diffusion = fn.misc.min(ndp.eta_max, fn.math.exp(-1*ndp.Edf + ndp.Edf / (temperatureField + 1e-8)))\n",
    "\n",
    "\n",
    "\n",
    "##Define the Plasticity\n",
    "ys =  ndp.cm + (depthFn*ndp.fcmd)\n",
    "ysMax = 10e4*1e6*sf.stress\n",
    "ysf = fn.misc.min(ys, ysMax)\n",
    "yielding = ysf/(2.*(strainRate_2ndInvariant))\n",
    "\n",
    "##Crust rheology\n",
    "#crustys =  ndp.cohesion*ndp.crust_cohesion_fac + (depthFn*ndp.fcd*ndp.crust_fc_fac)\n",
    "crustys =  ndp.cc + (depthFn*ndp.fccd) #only weakened cohesion is discussed, not fc\n",
    "crustvisc = crustys/(2.*(strainRate_2ndInvariant)) \n",
    "\n",
    "\n",
    "##Interface rheology\n",
    "interfaceys =  ndp.ci + (depthFn*ndp.fcid) #only weakened cohesion is discussed, not fc\n",
    "interfacevisc = interfaceys/(2.*(strainRate_2ndInvariant))\n",
    "\n"
   ]
  },
  {
   "cell_type": "code",
   "execution_count": 174,
   "metadata": {
    "collapsed": false
   },
   "outputs": [],
   "source": [
    "############\n",
    "#Rheology: combine viscous mechanisms in various ways \n",
    "#harmonic: harmonic average of all mechanims\n",
    "#min: minimum effective viscosity of the mechanims\n",
    "#mixed: takes the minimum of the harmonic and the plastic effective viscosity\n",
    "#############\n",
    "\n",
    "#linear rheology \n",
    "linearviscosityFn = safe_visc(diffusion)\n",
    "\n",
    "\n",
    "\n",
    "interfaceCond = operator.and_((depthFn < ndp.CRUSTVISCUTOFF), (depthFn > ndp.MANTLETOCRUST))    \n",
    "\n",
    "\n",
    "#combined rheology    \n",
    "\n",
    "\n",
    "finalviscosityFn  = fn.branching.conditional([(depthFn < ndp.LOWMANTLEDEPTH, safe_visc(fn.misc.min(diffusion, yielding))),\n",
    "                                  (True, safe_visc(safe_visc(diffusion*ndp.low_mantle_visc_fac)))])\n",
    "\n",
    "#crust rheology    \n",
    "#finalcrustviscosityFn = safe_visc(fn.misc.min(ndp.eta_max_crust, \n",
    "#                                              crustyielding)) #cohesion weakening factor also applies to eta_0\n",
    "\n",
    "crustviscosityFn = safe_visc(fn.misc.min(linearviscosityFn, crustvisc), ndp.eta_max_crust)\n",
    "interfaceviscosityFn = safe_visc(fn.misc.min(linearviscosityFn, interfacevisc), ndp.eta_max_interface)\n",
    "\n",
    "if ndp.eta_max_crust == ndp.eta_min_crust: #If these are equal, set to constant visc. \n",
    "    crustviscosityFn = fn.misc.constant(ndp.eta_min_crust)\n",
    "    \n",
    "if ndp.eta_max_interface == ndp.eta_min_interface: #If these are equal, set to constant visc. \n",
    "    interfaceviscosityFn = fn.misc.constant(ndp.eta_min_interface)\n",
    "    \n",
    "\n",
    "\n",
    "finalcrustviscosityFn  = fn.branching.conditional([(depthFn < ndp.MANTLETOCRUST, crustviscosityFn),\n",
    "                                                     (interfaceCond, interfaceviscosityFn), #\n",
    "                                                     (True, finalviscosityFn)])"
   ]
  },
  {
   "cell_type": "code",
   "execution_count": 175,
   "metadata": {
    "collapsed": false
   },
   "outputs": [
    {
     "data": {
      "text/plain": [
       "(1.0, 1.0)"
      ]
     },
     "execution_count": 175,
     "metadata": {},
     "output_type": "execute_result"
    }
   ],
   "source": [
    "ndp.eta_max_interface, ndp.eta_min_interface\n",
    "\n",
    "ndp.eta_max_crust, ndp.eta_min_crust"
   ]
  },
  {
   "cell_type": "code",
   "execution_count": 176,
   "metadata": {
    "collapsed": false
   },
   "outputs": [],
   "source": [
    "\n",
    "#0.06*0.02\n",
    "#finalcrustviscosityFn.evaluate(mesh)\n",
    "#ndp.eta_max_interface == ndp.eta_min_interface"
   ]
  },
  {
   "cell_type": "code",
   "execution_count": 177,
   "metadata": {
    "collapsed": false,
    "scrolled": true
   },
   "outputs": [],
   "source": [
    "#fig= glucifer.Figure()\n",
    "#fig.append( glucifer.objects.Points(gSwarm,viscosityMapFn1, logScale=True))\n",
    "#fig.append( glucifer.objects.Surface(mesh,finalviscosityFn, logScale=True))\n",
    "#fig.append( glucifer.objects.VectorArrows(mesh,velocityField, scaling=0.05))\n",
    "\n",
    "\n",
    "#fig.show()\n",
    "#fig.save_database('test.gldb')"
   ]
  },
  {
   "cell_type": "markdown",
   "metadata": {},
   "source": [
    "Stokes system setup\n",
    "-----\n"
   ]
  },
  {
   "cell_type": "code",
   "execution_count": 178,
   "metadata": {
    "collapsed": false
   },
   "outputs": [],
   "source": [
    "densityMapFn = fn.branching.map( fn_key = materialVariable,\n",
    "                         mapping = {airIndex:ndp.StRA,\n",
    "                                    crustIndex:basaltbuoyancyFn, \n",
    "                                    mantleIndex:pyrolitebuoyancyFn,\n",
    "                                    harzIndex:harzbuoyancyFn} )"
   ]
  },
  {
   "cell_type": "code",
   "execution_count": 179,
   "metadata": {
    "collapsed": true
   },
   "outputs": [],
   "source": [
    "\n",
    "# Define our vertical unit vector using a python tuple (this will be automatically converted to a function).\n",
    "gravity = ( 0.0, 1.0 )\n",
    "\n",
    "# Now create a buoyancy force vector using the density and the vertical unit vector. \n",
    "buoyancyFn = densityMapFn * gravity"
   ]
  },
  {
   "cell_type": "code",
   "execution_count": 180,
   "metadata": {
    "collapsed": true
   },
   "outputs": [],
   "source": [
    "stokesPIC = uw.systems.Stokes(velocityField=velocityField, \n",
    "                              pressureField=pressureField,\n",
    "                              conditions=[freeslipBC,],\n",
    "                              fn_viscosity=linearviscosityFn, \n",
    "                              fn_bodyforce=buoyancyFn )"
   ]
  },
  {
   "cell_type": "code",
   "execution_count": 181,
   "metadata": {
    "collapsed": true
   },
   "outputs": [],
   "source": [
    "solver = uw.systems.Solver(stokesPIC)\n",
    "if not checkpointLoad:\n",
    "    solver.solve() #A solve on the linear visocisty is unhelpful unless we're starting from scratch"
   ]
  },
  {
   "cell_type": "code",
   "execution_count": 182,
   "metadata": {
    "collapsed": false
   },
   "outputs": [],
   "source": [
    "\n",
    "\n",
    "viscosityMapFn1 = fn.branching.map( fn_key = materialVariable,\n",
    "                         mapping = {crustIndex:finalcrustviscosityFn,\n",
    "                                    mantleIndex:finalviscosityFn,\n",
    "                                    harzIndex:finalviscosityFn,\n",
    "                                    airIndex:ndp.Steta0} )\n",
    "\n",
    "if stickyAir:\n",
    "    viscosityMapFn2 = fn.branching.map( fn_key = materialVariable,\n",
    "                         mapping = {crustIndex:0.,\n",
    "                                    mantleIndex:0.,\n",
    "                                    harzIndex:0.,\n",
    "                                    airIndex:ndp.Steta0*0.9} ) # -> \\eta_2 = 0.1 * \\eta_1\n",
    "\n"
   ]
  },
  {
   "cell_type": "code",
   "execution_count": 183,
   "metadata": {
    "collapsed": true
   },
   "outputs": [],
   "source": [
    "# director orientation in Sticky air\n",
    "if stickyAir:\n",
    "    directorVector   = gSwarm.add_variable( dataType=\"double\", count=2)\n",
    "\n",
    "    orientation = -1.*180. * math.pi / 180.0  #vertical\n",
    "    directorVector.data[:,0] = math.cos(orientation)\n",
    "    directorVector.data[:,1] = math.sin(orientation)\n",
    "    math.cos(orientation)"
   ]
  },
  {
   "cell_type": "code",
   "execution_count": 184,
   "metadata": {
    "collapsed": false
   },
   "outputs": [],
   "source": [
    "#orientation = -1.*90. * math.pi / 180.0  #vertical\n",
    "#math.cos(orientation), math.sin(orientation)"
   ]
  },
  {
   "cell_type": "code",
   "execution_count": 185,
   "metadata": {
    "collapsed": false
   },
   "outputs": [],
   "source": [
    "#stickyAir"
   ]
  },
  {
   "cell_type": "code",
   "execution_count": 186,
   "metadata": {
    "collapsed": false
   },
   "outputs": [],
   "source": [
    "#Add the non-linear viscosity to the Stokes system\n",
    "stokesPIC.fn_viscosity = viscosityMapFn1\n",
    "\n",
    "if stickyAir: #If sticky air, add the Transverse anisotropic components to Stokes\n",
    "    stokesPIC.fn_viscosity2 = viscosityMapFn2\n",
    "    stokesPIC._fn_director   = directorVector\n"
   ]
  },
  {
   "cell_type": "code",
   "execution_count": 187,
   "metadata": {
    "collapsed": false
   },
   "outputs": [
    {
     "name": "stdout",
     "output_type": "stream",
     "text": [
      "\u001b[1;35m\n",
      " \n",
      "Pressure iterations:   3\n",
      "Velocity iterations:   1 (presolve)      \n",
      "Velocity iterations:  -1 (pressure solve)\n",
      "Velocity iterations:   1 (backsolve)     \n",
      "Velocity iterations:   1 (total solve)   \n",
      " \n",
      "SCR RHS  solve time: 3.3914e-01\n",
      "Pressure solve time: 3.0731e-02\n",
      "Velocity solve time: 3.3679e-01 (backsolve)\n",
      "Total solve time   : 7.6652e-01\n",
      " \n",
      "Velocity solution min/max: 0.0000e+00/0.0000e+00\n",
      "Pressure solution min/max: 0.0000e+00/0.0000e+00\n",
      " \n",
      "\u001b[00m\n"
     ]
    }
   ],
   "source": [
    "solver.set_inner_method(\"mumps\")\n",
    "solver.options.scr.ksp_type=\"cg\"\n",
    "solver.set_penalty(1.0e7)\n",
    "solver.options.scr.ksp_rtol = 1.0e-4\n",
    "solver.solve(nonLinearIterate=True)\n",
    "solver.print_stats()"
   ]
  },
  {
   "cell_type": "code",
   "execution_count": 188,
   "metadata": {
    "collapsed": false
   },
   "outputs": [],
   "source": [
    "#fig= glucifer.Figure()\n",
    "#fig.append( glucifer.objects.Points(gSwarm,viscosityMapFn1, logScale=True))\n",
    "#fig.append( glucifer.objects.Surface(mesh,temperatureField))\n",
    "#fig.append( glucifer.objects.VectorArrows(mesh,velocityField, scaling=0.05))\n",
    "\n",
    "\n",
    "#fig.show()\n",
    "#fig.save_database('test.gldb')"
   ]
  },
  {
   "cell_type": "code",
   "execution_count": 189,
   "metadata": {
    "collapsed": false
   },
   "outputs": [],
   "source": [
    "#Check which particles are yielding\n",
    "#yieldingCheck.data[:] = 0\n",
    "\n",
    "#yieldconditions = [ ( finalviscosityFn < Visc , 1), \n",
    "#               ( True                                           , 0) ]\n",
    "\n",
    "# use the branching conditional function to set each particle's index\n",
    "#yieldingCheck.data[:] = fn.branching.conditional( yieldconditions ).evaluate(gSwarm)"
   ]
  },
  {
   "cell_type": "code",
   "execution_count": 190,
   "metadata": {
    "collapsed": false,
    "scrolled": true
   },
   "outputs": [],
   "source": [
    "#fig= glucifer.Figure()\n",
    "#fig.append( glucifer.objects.Points(gSwarm,yieldingCheck))\n",
    "\n",
    "#fig.append( glucifer.objects.Surface(mesh,ndflm, logScale=True))\n",
    "#fig.show()"
   ]
  },
  {
   "cell_type": "markdown",
   "metadata": {},
   "source": [
    "Advection-diffusion System setup\n",
    "-----"
   ]
  },
  {
   "cell_type": "code",
   "execution_count": 191,
   "metadata": {
    "collapsed": false
   },
   "outputs": [],
   "source": [
    "advDiff = uw.systems.AdvectionDiffusion( phiField       = temperatureField, \n",
    "                                         phiDotField    = temperatureDotField, \n",
    "                                         velocityField  = velocityField,\n",
    "                                         fn_sourceTerm    = 0.0,\n",
    "                                         fn_diffusivity = 1.0, \n",
    "                                         #conditions     = [neumannTempBC, dirichTempBC] )\n",
    "                                         conditions     = [ dirichTempBC] )\n",
    "\n",
    "passiveadvector = uw.systems.SwarmAdvector( swarm         = gSwarm, \n",
    "                                     velocityField = velocityField, \n",
    "                                     order         = 1)"
   ]
  },
  {
   "cell_type": "code",
   "execution_count": 192,
   "metadata": {
    "collapsed": false
   },
   "outputs": [],
   "source": [
    "#I was playing around with a tailored diffusivity to target the slab\n",
    "\n",
    "#inCircleFnGenerator#Now build the perturbation part\n",
    "#def htan(centre, radius, widthPh, farVal = 0.01, fac = 10.):\n",
    "#    coord = fn.input()\n",
    "#    offsetFn = coord - centre\n",
    "#    dist = fn.math.sqrt(fn.math.dot( offsetFn, offsetFn ))\n",
    "    \n",
    "    \n",
    "#    return (((fn.math.tanh(((radius - dist))/widthPh) + 1.) /2.))*fac + farVal\n",
    "\n",
    "#tfun = htan((0.1, 0.9), 0.1, 0.1, 0.1)"
   ]
  },
  {
   "cell_type": "code",
   "execution_count": 193,
   "metadata": {
    "collapsed": true
   },
   "outputs": [],
   "source": [
    "#for index in mesh.specialSets[\"MinJ_VertexSet\"]:\n",
    "#    temperatureField.data[index] = ndp.TBP\n",
    "#for index in mesh.specialSets[\"MaxJ_VertexSet\"]:\n",
    "#    temperatureField.data[index] = ndp.TSP"
   ]
  },
  {
   "cell_type": "code",
   "execution_count": 194,
   "metadata": {
    "collapsed": false
   },
   "outputs": [],
   "source": [
    "############\n",
    "#Slightly Diffuse the initial perturbation\n",
    "#############\n",
    "\n",
    "timetoDifffuse = 0.#Million years\n",
    "incrementtoDiffuse = 0.2 #Million years\n",
    "\n",
    "timetoDifffuse = (timetoDifffuse*1e6*(spery)/sf.SR).magnitude\n",
    "incrementtoDiffuse = (incrementtoDiffuse*1e6*(spery)/sf.SR).magnitude\n",
    "\n",
    "totAdt = 0.\n",
    "it = 0\n",
    "while totAdt < timetoDifffuse:\n",
    "    dtad = advDiff.get_max_dt()\n",
    "    print(\"step\") + str(it) \n",
    "    advDiff.integrate(incrementtoDiffuse)\n",
    "    totAdt += incrementtoDiffuse\n",
    "    it += 1\n",
    "    \n",
    "#Reset Boundary conds.   \n",
    "for index in mesh.specialSets[\"MinJ_VertexSet\"]:\n",
    "    temperatureField.data[index] = ndp.TBP\n",
    "for index in mesh.specialSets[\"MaxJ_VertexSet\"]:\n",
    "    temperatureField.data[index] = ndp.TSP\n",
    "    \n",
    "comm.Barrier()"
   ]
  },
  {
   "cell_type": "code",
   "execution_count": 195,
   "metadata": {
    "collapsed": true
   },
   "outputs": [],
   "source": [
    "population_control = uw.swarm.PopulationControl(gSwarm,deleteThreshold=0.2,splitThreshold=1.,maxDeletions=3,maxSplits=0, aggressive=True, particlesPerCell=ppc)"
   ]
  },
  {
   "cell_type": "code",
   "execution_count": null,
   "metadata": {
    "collapsed": true
   },
   "outputs": [],
   "source": []
  },
  {
   "cell_type": "code",
   "execution_count": null,
   "metadata": {
    "collapsed": true
   },
   "outputs": [],
   "source": []
  },
  {
   "cell_type": "code",
   "execution_count": null,
   "metadata": {
    "collapsed": false
   },
   "outputs": [],
   "source": []
  },
  {
   "cell_type": "markdown",
   "metadata": {},
   "source": [
    "Analysis functions / routines\n",
    "-----\n",
    "\n",
    "Most of the metrics we want to calculate are either:\n",
    "\n",
    "* extrema of some field / function\n",
    "* integral of some field / function\n",
    "* average value of some function (integral divide by area)\n",
    "\n",
    "In addition, we also want to be able to determine these metrics over some restricted part of the domain, where the restriction may either be due some value of a field, a material type, or something more arbitrary.\n",
    "\n",
    "Much of he challenge lies in defining these restriction functions in an efficient and robust way (i.e they don't break down as the model evolves)\n",
    "\n",
    "For volume integrals, and extrema, we build a hierarchy of restriction functions, each borrowing from the previous, until we have divided the domain into a number of sub regions of interest. \n",
    "\n",
    "In general, averages are found afterwards by combining the integral and the area of the relavent subregion"
   ]
  },
  {
   "cell_type": "code",
   "execution_count": 203,
   "metadata": {
    "collapsed": false
   },
   "outputs": [
    {
     "data": {
      "text/plain": [
       "'Right'"
      ]
     },
     "execution_count": 203,
     "metadata": {},
     "output_type": "execute_result"
    }
   ],
   "source": []
  },
  {
   "cell_type": "code",
   "execution_count": 196,
   "metadata": {
    "collapsed": false
   },
   "outputs": [],
   "source": [
    "import marker2D"
   ]
  },
  {
   "cell_type": "code",
   "execution_count": 197,
   "metadata": {
    "collapsed": false
   },
   "outputs": [],
   "source": [
    "###################\n",
    "#Volume Restriction functions\n",
    "###################\n",
    "\n",
    "#Level 1. Global\n",
    "\n",
    "globRestFn = fn.misc.constant(1.)\n",
    "\n",
    "#Level 2. Rock - air:\n",
    "rockRestFn = uw.swarm.SwarmVariable(gSwarm, dataType='double', count=1)\n",
    "rockRestFn.data[:] = 0.\n",
    "rockRestFn.data[np.where(materialVariable.data[:] != airIndex)] = 1.\n",
    "rockRestFn *= globRestFn #Add next level up in heirarchy\n",
    "\n",
    "\n",
    "#Level 3. lithosphere - mantle:\n",
    "tempMM = fn.view.min_max(temperatureField)\n",
    "tempMM.evaluate(mesh)\n",
    "TMAX = tempMM.max_global()\n",
    "mantleconditions = [ (                                  temperatureField < 0.9*TMAX, 1.),\n",
    "                   (                                                   True , 0.) ]\n",
    "lithRestFn = fn.branching.conditional(mantleconditions)\n",
    "lithRestFn*=rockRestFn #Add next level up in heirarchy\n",
    "\n",
    "\n",
    "#Level 4. lower plate - upper plate:\n",
    "\n",
    "\n",
    "#This whole section simply builds a restriction Fn that separates the upper and lower plate \n",
    "#It's pretty cumbersome, and will need to advected, rebuilt\n",
    "#can YOU think of a better way?\n",
    "\n",
    "\n",
    "\n",
    "def update_swarm_from_faults(fault, signedDistanceVariable):\n",
    "    \"\"\"\n",
    "    Compute fault attributes from the marker-line objects in the 'faults' list.\n",
    "    Specifically:\n",
    "    \n",
    "      - proximityVariable carries information about which fault each swarm particle is close to (0 means none)\n",
    "      - normalVectorVariable maps the orientation of the fault to nearby swarm particles\n",
    "      - signedDistanceVariable carries the distance (positive means 'inside')  \n",
    "      \n",
    "      Unchecked error: if these variables are from different swarms \n",
    "      \n",
    "    \"\"\"\n",
    "        \n",
    "    sd, dnz = fault.compute_signed_distance(gSwarm.particleCoordinates.data)\n",
    "    signedDistanceVariable.data[dnz] = sd[dnz]\n",
    "    \n",
    "    return\n",
    "\n",
    "\n",
    "    \n",
    "fthickness = 30e3/dp.LS #initialize tracking swarm at ~ mid lithosphere depth\n",
    "\n",
    "if dp.sense == 'Right':\n",
    "    introPoint = ndp.lRidge + fthickness #\n",
    "else:\n",
    "    introPoint = ndp.rRidge - fthickness #\n",
    "nfault = 200\n",
    "slabCoords =np.zeros((nfault, 2))\n",
    "\n",
    "reducedRocM = ndp.roc  - fthickness\n",
    "xlimslab = reducedRocM*math.cos(math.pi*(90. - dp.theta)/180)\n",
    "slabCoords[:, 0] = np.linspace(introPoint, ndp.subzone + xlimslab, nfault) #note SZ location is hardcoded here \n",
    "for index, xval in np.ndenumerate(slabCoords[:,0]):\n",
    "    #print index, xval\n",
    "    #swarmCoords[index[0], 1] = 1. - isodepthFn.evaluate((xval, 0.)) #This bit for the plate \n",
    "    if  xval < 0.:\n",
    "        slabCoords[index[0], 1] = 1. - fthickness #This bit for the plate \n",
    "        \n",
    "    else:\n",
    "        slabCoords[index[0], 1] = (1. - (fthickness) - (reducedRocM - ( math.sqrt((reducedRocM**2 - xval**2)))))\n",
    "        \n",
    "slabCoords = slabCoords[slabCoords[:,1] > (1. - ndp.maxDepth)] #kill any deeper than cutoff\n",
    "\n",
    "slab_line  = marker2D.markerLine2D(mesh, velocityField, slabCoords[:, 0], slabCoords[:, 1], 1e9/dp.LS, 0.0, 0.0, crustIndex)\n",
    "lowerPlateRestFn = gSwarm.add_variable( dataType=\"double\", count=1 )\n",
    "lowerPlateRestFn.data[:] = 0.0\n",
    "\n",
    "update_swarm_from_faults(slab_line, lowerPlateRestFn )\n",
    "lowerPlateRestFn.data[np.where(lowerPlateRestFn.data >= -1.*fthickness)] = 1.\n",
    "lowerPlateRestFn.data[np.where(lowerPlateRestFn.data < -1.*fthickness)] = 0. \n",
    "lowerPlateRestFn *= lithRestFn #Add next level up in heirarchy\n",
    "\n",
    "#Also see if we can stick the the Velocity and coords on to this swarm as well\n",
    "tipVar = uw.swarm.SwarmVariable(slab_line.swarm, dataType='double', count=4)\n",
    "tipVar.data[:,:2] = velocityField.evaluate(slab_line.swarm)\n",
    "tipVar.data[:,2:] = xFn.evaluate(slab_line.swarm)\n",
    "tipVar.data[:,3:] = yFn.evaluate(slab_line.swarm)\n",
    "\n",
    "\n",
    "#Level 5. hinge of lower plate:\n",
    "\n",
    "hingeSpatialconditions = [ (           operator.and_( (depthFn < MAXY - (150e3/dp.LS)),  (xFn > ndp.subzone - 50e3/dp.LS)), 1.),\n",
    "                   (                                                   True , 0.) ]\n",
    "\n",
    "hingeRestFn = fn.branching.conditional(hingeSpatialconditions)\n",
    "hingeRestFn*=lowerPlateRestFn #Add next level up in heirarchy\n",
    "\n",
    "\n",
    "#Level 6. crust/interface in hinge of lower plate:"
   ]
  },
  {
   "cell_type": "code",
   "execution_count": 198,
   "metadata": {
    "collapsed": true
   },
   "outputs": [],
   "source": [
    "respltconditions = [ \n",
    "                    (                                  hingeRestFn*2. > rockRestFn*1., 1.),\n",
    "                    (                                  lowerPlateRestFn*3. > hingeRestFn*2. , 3.),\n",
    "                    (                                  lithRestFn*5. > lowerPlateRestFn*3. , 4.),\n",
    "                   (                                                   True , 0.) ]\n",
    "\n",
    "respltFn = fn.branching.conditional(respltconditions )"
   ]
  },
  {
   "cell_type": "code",
   "execution_count": 199,
   "metadata": {
    "collapsed": false
   },
   "outputs": [
    {
     "data": {
      "text/html": [
       "<img src='data:image/png;base64,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'>"
      ],
      "text/plain": [
       "<IPython.core.display.HTML object>"
      ]
     },
     "metadata": {},
     "output_type": "display_data"
    }
   ],
   "source": [
    "fig= glucifer.Figure()\n",
    "fig.append( glucifer.objects.Points(gSwarm,respltFn))\n",
    "fig.show()"
   ]
  },
  {
   "cell_type": "code",
   "execution_count": 83,
   "metadata": {
    "collapsed": true
   },
   "outputs": [],
   "source": [
    "###################\n",
    "#Surface Restriction functions\n",
    "###################\n",
    "\n",
    "def platenessFn(val = 0.1):\n",
    "    normgradV = fn.math.abs(velocityField.fn_gradient[0]/fn.math.sqrt(velocityField[0]*velocityField[0])) #[du*/dx]/sqrt(u*u)\n",
    "\n",
    "\n",
    "\n",
    "    srconditions = [ (                                  normgradV < val, 1.),\n",
    "                   (                                                   True , 0.) ]\n",
    "\n",
    "\n",
    "    return fn.branching.conditional(srconditions)\n",
    "\n",
    "srRestFn = platenessFn(val = 0.1)"
   ]
  },
  {
   "cell_type": "code",
   "execution_count": 84,
   "metadata": {
    "collapsed": false
   },
   "outputs": [],
   "source": [
    "###################\n",
    "#Setup any Functions to be integrated\n",
    "###################\n",
    "\n",
    "sqrtv2 = fn.math.sqrt(fn.math.dot(velocityField,velocityField))\n",
    "vx = velocityField[0]\n",
    "v2x = fn.math.dot(velocityField[0],velocityField[0])\n",
    "sqrtv2x = fn.math.sqrt(fn.math.dot(velocityField[0],velocityField[0]))\n",
    "dw = temperatureField*velocityField[1]\n",
    "sinner = fn.math.dot( strainRate_2ndInvariant, strainRate_2ndInvariant )\n",
    "vd = 2.*viscosityMapFn1*sinner\n",
    "dTdZ = temperatureField.fn_gradient[1]\n",
    "\n"
   ]
  },
  {
   "cell_type": "code",
   "execution_count": 85,
   "metadata": {
    "collapsed": false
   },
   "outputs": [],
   "source": [
    "###################\n",
    "#Create integral, max/min templates \n",
    "###################\n",
    "\n",
    "def volumeint(Fn = 1., rFn=globRestFn):\n",
    "    return uw.utils.Integral( Fn*rFn,  mesh )\n",
    "\n",
    "def surfint(Fn = 1., rFn=globRestFn, surfaceIndexSet=mesh.specialSets[\"MaxJ_VertexSet\"]):\n",
    "    return uw.utils.Integral( Fn*rFn, mesh=mesh, integrationType='Surface', surfaceIndexSet=surfaceIndexSet)\n",
    "\n",
    "def maxMin(Fn = 1.):\n",
    "    #maxMin(Fn = 1., rFn=globRestFn\n",
    "    #vuFn = fn.view.min_max(Fn*rFn) #the restriction functions don't work with the view.min_max fn yet\n",
    "    vuFn = fn.view.min_max(Fn)\n",
    "    return vuFn\n",
    "    \n",
    "   \n",
    "    "
   ]
  },
  {
   "cell_type": "code",
   "execution_count": 86,
   "metadata": {
    "collapsed": false
   },
   "outputs": [],
   "source": [
    "#Setup volume integrals on different sub regions\n",
    "\n",
    "##Whole rock domain\n",
    "\n",
    "_areaintRock = volumeint(rockRestFn)\n",
    "_tempintRock = volumeint(temperatureField, rockRestFn)\n",
    "_rmsintRock = volumeint(sqrtv2,rockRestFn)\n",
    "_dwintRock = volumeint(dw,rockRestFn)\n",
    "_vdintRock = volumeint(vd,rockRestFn)\n",
    "\n",
    "##Lith \n",
    "\n",
    "_areaintLith  = volumeint(lithRestFn)\n",
    "_tempintLith  = volumeint(temperatureField, lithRestFn)\n",
    "_rmsintLith  = volumeint(sqrtv2,lithRestFn)\n",
    "_dwintLith  = volumeint(dw,lithRestFn)\n",
    "_vdintLith  = volumeint(vd,lithRestFn)\n",
    "\n",
    "##Lower plate\n",
    "\n",
    "_areaintLower  = volumeint(lowerPlateRestFn)\n",
    "_tempintLower  = volumeint(temperatureField, lowerPlateRestFn)\n",
    "_rmsintLower  = volumeint(sqrtv2,lowerPlateRestFn)\n",
    "_dwintLower = volumeint(dw,lowerPlateRestFn)\n",
    "_vdintLower  = volumeint(vd,lowerPlateRestFn)\n",
    "\n",
    "##Hinge lower plate\n",
    "\n",
    "_areaintHinge  = volumeint(hingeRestFn)\n",
    "_vdintHinge  = volumeint(vd,hingeRestFn)"
   ]
  },
  {
   "cell_type": "code",
   "execution_count": 87,
   "metadata": {
    "collapsed": true
   },
   "outputs": [],
   "source": [
    "#Setup surface integrals\n",
    "\n",
    "_surfLength = surfint()\n",
    "_rmsSurf = surfint(v2x)\n",
    "_nuTop = surfint(dTdZ)\n",
    "_nuBottom = surfint(dTdZ, surfaceIndexSet=mesh.specialSets[\"MinJ_VertexSet\"])\n",
    "_plateness = surfint(srRestFn)"
   ]
  },
  {
   "cell_type": "code",
   "execution_count": 88,
   "metadata": {
    "collapsed": false
   },
   "outputs": [],
   "source": [
    "#Setup max min fns (at the moment, we can't pass restriction function to view.min_max, so we're limited to whole volume or surface extrema)\n",
    "\n",
    "##Whole rock domain\n",
    "\n",
    "#_maxMinVisc = maxMin(viscosityMapFn1)  #These don't work on swarm variables or mapping functions, yet\n",
    "#dummyFn = _maxMinVisc.evaluate(mesh)\n",
    "#_maxMinStressInv = maxMin(2*viscosityMapFn1*strainRate_2ndInvariant) #These don't work on swarm variables or mapping functions, yet\n",
    "#dummyFn = _maxMinStress.evaluate(mesh)\n",
    "#_maxMinVd = maxMin(vd) #These don't work on swarm variables or mapping functions, yet\n",
    "#dummyFn = _maxMinVd.evaluate(mesh)\n",
    "\n",
    "\n",
    "_maxMinVel = maxMin(velocityField) \n",
    "dummyFn = _maxMinVel.evaluate(mesh)\n",
    "\n",
    "_maxMinSr = maxMin(strainRate_2ndInvariant) \n",
    "dummyFn = _maxMinSr.evaluate(mesh)\n",
    "\n",
    "\n",
    "#Surface extrema\n",
    "_maxMinVxSurf = maxMin(vx)\n",
    "dummyFn = _maxMinVxSurf.evaluate(tWalls)\n"
   ]
  },
  {
   "cell_type": "code",
   "execution_count": 89,
   "metadata": {
    "collapsed": false
   },
   "outputs": [],
   "source": [
    "#Volume Ints\n",
    "areaintRock = _areaintRock.evaluate()[0]\n",
    "tempintRock = _tempintRock.evaluate()[0]\n",
    "rmsintRock = _rmsintRock.evaluate()[0]\n",
    "dwintRock = _dwintRock.evaluate()[0]\n",
    "vdintRock = _vdintRock.evaluate()[0]\n",
    "areaintLith = _areaintLith.evaluate()[0]\n",
    "tempintLith = _tempintLith.evaluate()[0]\n",
    "rmsintLith = _rmsintLith.evaluate()[0]\n",
    "dwintLith = _dwintLith.evaluate()[0]\n",
    "vdintLith = _vdintLith.evaluate()[0]\n",
    "areaintLower = _areaintLower.evaluate()[0]\n",
    "tempintLower = _tempintLower.evaluate()[0]\n",
    "rmsintLower = _rmsintLower.evaluate()[0]\n",
    "dwintLower = _dwintLower.evaluate()[0]\n",
    "vdintLower = _vdintLower.evaluate()[0]\n",
    "vdintHinge = _vdintHinge.evaluate()[0]\n",
    "areaintHinge = _areaintHinge.evaluate()[0]\n",
    "\n",
    "#Surface Ints\n",
    "surfLength = _surfLength.evaluate()[0]\n",
    "rmsSurf = _rmsSurf.evaluate()[0]\n",
    "nuTop = _nuTop.evaluate()[0]\n",
    "nuBottom = _nuBottom.evaluate()[0]\n",
    "plateness = _plateness.evaluate()[0]\n",
    "\n",
    "#Max mins\n",
    "maxVel = _maxMinVel.max_global()\n",
    "minVel = _maxMinVel.min_global() \n",
    "maxSr = _maxMinSr.max_global()\n",
    "minSr = _maxMinSr.min_global()\n",
    "maxVxsurf = _maxMinVxSurf.max_global()\n",
    "minVxsurf = _maxMinVxSurf.min_global()"
   ]
  },
  {
   "cell_type": "markdown",
   "metadata": {},
   "source": [
    "print(areaintRock)\n",
    "print(tempintRock)\n",
    "print(rmsintRock)\n",
    "print(dwintRock)\n",
    "print(vdintRock)\n",
    "print(areaintLith)\n",
    "print(tempintLith )\n",
    "print(rmsintLith)\n",
    "print(dwintLith)\n",
    "print(vdintLith)\n",
    "print(areaintLower)\n",
    "print(tempintLower)\n",
    "print(rmsintLower) \n",
    "print(dwintLower)\n",
    "print(vdintLower)\n",
    "print(vdintHinge)\n",
    "\n",
    "print(surfLength)\n",
    "print(rmsSurf)\n",
    "print(nuTop)\n",
    "print(nuBottom)\n",
    "print(plateness)\n",
    "\n",
    "\n",
    "print(maxVel)\n",
    "print(minVel)\n",
    "print(maxSr)\n",
    "print(minSr)\n",
    "print(maxVxsurf)\n",
    "print(minVxsurf)"
   ]
  },
  {
   "cell_type": "code",
   "execution_count": null,
   "metadata": {
    "collapsed": true
   },
   "outputs": [],
   "source": []
  },
  {
   "cell_type": "markdown",
   "metadata": {},
   "source": [
    "Viz.\n",
    "-----"
   ]
  },
  {
   "cell_type": "code",
   "execution_count": 90,
   "metadata": {
    "collapsed": false
   },
   "outputs": [],
   "source": [
    "#viscVariable = gSwarm.add_variable( dataType=\"float\", count=1 )\n",
    "#viscVariable.data[:] = viscosityMapFn1.evaluate(gSwarm)"
   ]
  },
  {
   "cell_type": "code",
   "execution_count": 200,
   "metadata": {
    "collapsed": false
   },
   "outputs": [],
   "source": [
    "if figures == 'gldb':\n",
    "    #Pack some stuff into a database as well\n",
    "    figDb = glucifer.Figure()\n",
    "    #figDb.append( glucifer.objects.Mesh(mesh))\n",
    "    figDb.append( glucifer.objects.VectorArrows(mesh,velocityField, scaling=0.0005))\n",
    "    #figDb.append( glucifer.objects.Points(gSwarm,tracerVariable, colours= 'white black'))\n",
    "    figDb.append( glucifer.objects.Points(gSwarm,materialVariable))\n",
    "    #figDb.append( glucifer.objects.Points(gSwarm,viscMinVariable))\n",
    "    #figDb.append( glucifer.objects.Points(gSwarm,fnViscMin))\n",
    "    figDb.append( glucifer.objects.Points(gSwarm,viscosityMapFn1, logScale=True))\n",
    "    #figDb.append( glucifer.objects.Points(gSwarm, strainRate_2ndInvariant, logScale=True))\n",
    "    figDb.append( glucifer.objects.Points(gSwarm,temperatureField))\n",
    "    \n",
    "    \n",
    "    figRestrict= glucifer.Figure()\n",
    "    figRestrict.append( glucifer.objects.Points(gSwarm,respltFn))\n",
    "    figRestrict.append( glucifer.objects.Points(slab_line.swarm, colours=\"Black Black\", pointSize=2.0, colourBar=False) )\n",
    "\n",
    "elif figures == 'store':\n",
    "    fullpath = os.path.join(outputPath + \"gldbs/\")\n",
    "    store = glucifer.Store(fullpath + 'subduction.gldb')\n",
    "\n",
    "    figTemp = glucifer.Figure(store,figsize=(300*np.round(aspectRatio,2),300))\n",
    "    figTemp.append( glucifer.objects.Points(gSwarm,temperatureField))\n",
    "\n",
    "    figVisc= glucifer.Figure(store, figsize=(300*np.round(aspectRatio,2),300))\n",
    "    figVisc.append( glucifer.objects.Points(gSwarm,viscosityMapFn1, logScale=True, valueRange =[1e-3,1e5]))\n",
    "\n",
    "    #figMech= glucifer.Figure(store, figsize=(300*np.round(aspectRatio,2),300))\n",
    "    #figMech.append( glucifer.objects.Points(gSwarm,fnViscMin))"
   ]
  },
  {
   "cell_type": "markdown",
   "metadata": {},
   "source": [
    "**Miscellania**"
   ]
  },
  {
   "cell_type": "code",
   "execution_count": 114,
   "metadata": {
    "collapsed": false
   },
   "outputs": [
    {
     "name": "stderr",
     "output_type": "stream",
     "text": [
      "/usr/local/lib/python2.7/dist-packages/numpy/core/numeric.py:190: VisibleDeprecationWarning: using a non-integer number instead of an integer will result in an error in the future\n",
      "  a = empty(shape, dtype, order)\n"
     ]
    }
   ],
   "source": [
    "##############\n",
    "#Create a numpy array at the surface to get surface information on (using parallel-friendly evaluate_global)\n",
    "##############\n",
    "\n",
    "surface_xs = np.linspace(mesh.minCoord[0], mesh.maxCoord[0], mesh.elementRes[0] + 1)\n",
    "surface_nodes = np.array(zip(surface_xs, np.ones(len(surface_xs)*mesh.maxCoord[1]))) #For evaluation surface velocity\n",
    "normgradV = velocityField.fn_gradient[0]/fn.math.sqrt(velocityField[0]*velocityField[0])\n",
    "\n",
    "tempMM = fn.view.min_max(temperatureField)\n",
    "dummy = tempMM.evaluate(mesh)\n",
    "\n"
   ]
  },
  {
   "cell_type": "code",
   "execution_count": 115,
   "metadata": {
    "collapsed": false
   },
   "outputs": [],
   "source": [
    "##############\n",
    "#These functions handle checkpointing\n",
    "##############\n",
    "\n",
    "\n",
    "#Subzone = ndp.subzone\n",
    "\n",
    "\n",
    "def checkpoint1(step, checkpointPath,filename, filewrites):\n",
    "    path = checkpointPath + str(step) \n",
    "    os.mkdir(path)\n",
    "    ##Write and save the file, if not already a writing step\n",
    "    if not step % filewrites == 0:\n",
    "        f_o.write((22*'%-15s ' + '\\n') % (areaintRock, tempintRock, rmsintRock, dwintRock, vdintRock,\n",
    "                                  areaintLith, tempintLith,rmsintLith, dwintLith, vdintLith,\n",
    "                                  areaintLower, tempintLower, rmsintLower, dwintLower, vdintLower, \n",
    "                                  vdintHinge,rmsSurf, nuTop, nuBottom, plateness, ndp.subzone, realtime))\n",
    "    filename.close()\n",
    "    shutil.copyfile(os.path.join(outputPath, outputFile), os.path.join(path, outputFile))\n",
    "\n",
    "\n",
    "def checkpoint2(step, checkpointPath, swarm, filename, varlist = [materialVariable], varnames = ['materialVariable']):\n",
    "    path = checkpointPath + str(step) \n",
    "    velfile = \"velocityField\" + \".hdf5\"\n",
    "    tempfile = \"temperatureField\" + \".hdf5\"\n",
    "    pressfile = \"pressureField\" + \".hdf5\"\n",
    "    velocityField.save(os.path.join(path, velfile))\n",
    "    temperatureField.save(os.path.join(path, tempfile))\n",
    "    pressureField.save(os.path.join(path, pressfile))\n",
    "    swarm.save(os.path.join(path, \"swarm.h5\") ) \n",
    "    for ix in range(len(varlist)):\n",
    "        varb = varlist[ix]\n",
    "        varb.save(os.path.join(path,varnames[ix] + \".h5\"))\n",
    "    \n",
    "    #Save the parameters\n",
    "    dict_list = [dp, sf, ndp] #if any of the dictionaries have changed, this list needs to be rebuilt\n",
    "    save_pickles(dict_list, dict_names, path)\n",
    "    "
   ]
  },
  {
   "cell_type": "code",
   "execution_count": 116,
   "metadata": {
    "collapsed": true
   },
   "outputs": [],
   "source": [
    "##############\n",
    "#These functions handle checkpointing\n",
    "##############\n",
    "\n",
    "def getnearpos(array,value):\n",
    "    idx = (np.abs(array-value)).argmin()\n",
    "    return idx \n",
    "\n",
    "def plate_info(srfilename, minx, maxx,  searchdx, oldszloc = 0.0):\n",
    "    \"\"\"\n",
    "    Use the surface strain rate field to find the location of the subduction zone in 2d\n",
    "    \n",
    "    \"\"\"\n",
    "    if type(srfilename) == str: #read surface strain rate points from file\n",
    "        sr = np.load(srfilename)\n",
    "    else:\n",
    "        sr =  srfilename        #read surface strain rates directly from array\n",
    "    xs = np.linspace(minx,maxx,sr.shape[0] )\n",
    "    #infs at the ends of the SR data...replace with adjacent values\n",
    "    sr[0] = sr[1] \n",
    "    sr[-1] = sr[2]\n",
    "    #Normalize\n",
    "    srx = (sr- sr.mean()) /(sr.max() - sr.min())\n",
    "    #reduce the search domain, to near the previous PB location\n",
    "    lx, rx = getnearpos(xs, oldszloc - searchdx),  getnearpos(xs, oldszloc + searchdx)\n",
    "    red_xs, red_sr = xs[lx:rx], srx[lx:rx]\n",
    "    #return the minima\n",
    "    newszLoc = red_xs[np.argmin(red_sr)]\n",
    "    return newszLoc "
   ]
  },
  {
   "cell_type": "code",
   "execution_count": 117,
   "metadata": {
    "collapsed": false
   },
   "outputs": [],
   "source": [
    "# initialise timer for computation\n",
    "start = time.clock()\n"
   ]
  },
  {
   "cell_type": "code",
   "execution_count": 118,
   "metadata": {
    "collapsed": false
   },
   "outputs": [],
   "source": [
    "#max_vx_surf(velocityField, mesh)"
   ]
  },
  {
   "cell_type": "markdown",
   "metadata": {},
   "source": [
    "Main simulation loop\n",
    "-----\n"
   ]
  },
  {
   "cell_type": "code",
   "execution_count": null,
   "metadata": {
    "collapsed": false
   },
   "outputs": [],
   "source": [
    "#while step < 6:\n",
    "while realtime < 0.001:\n",
    "\n",
    "    # solve Stokes and advection systems\n",
    "    solver.solve(nonLinearIterate=True)\n",
    "    dt = advDiff.get_max_dt()\n",
    "    if step == 0:\n",
    "        dt = 0.\n",
    "    advDiff.integrate(dt)\n",
    "    passiveadvector.integrate(dt)\n",
    "    slab_line.advection(dt)\n",
    "    \n",
    "    # Increment\n",
    "    realtime += dt\n",
    "    step += 1\n",
    "    timevals.append(realtime)\n",
    "    ################\n",
    "    #Update temperature field in the air region\n",
    "    #Do this better...\n",
    "    ################\n",
    "    if (step % sticky_air_temp == 0):\n",
    "        for index, coord in enumerate(mesh.data):\n",
    "            if coord[1] >= 1.:\n",
    "                temperatureField.data[index] = ndp.TSP\n",
    "\n",
    "    # Calculate the Metrics, only on 1 of the processors:\n",
    "    ################\n",
    "    if (step % metric_output == 0):\n",
    "        ###############\n",
    "        #Rebuild the restriction functions where necessary\n",
    "        ###############\n",
    "        \n",
    "        update_swarm_from_faults(slab_line, lowerPlateRestFn )\n",
    "        lowerPlateRestFn.data[np.where(lowerPlateRestFn.data >= -1.*fthickness)] = 1.\n",
    "        lowerPlateRestFn.data[np.where(lowerPlateRestFn.data < -1.*fthickness)] = 0. \n",
    "        lowerPlateRestFn *= lithRestFn #Add next level up in hierarchy\n",
    "        \n",
    "        ###############\n",
    "        #Metrics\n",
    "        ###############\n",
    "        areaintRock = _areaintRock.evaluate()[0] #trivial except when using sticky air\n",
    "        tempintRock = _tempintRock.evaluate()[0]\n",
    "        rmsintRock = _rmsintRock.evaluate()[0]\n",
    "        dwintRock = _dwintRock.evaluate()[0]\n",
    "        vdintRock = _vdintRock.evaluate()[0]\n",
    "        areaintLith = _areaintLith.evaluate()[0]\n",
    "        tempintLith = _tempintLith.evaluate()[0]\n",
    "        rmsintLith = _rmsintLith.evaluate()[0]\n",
    "        dwintLith = _dwintLith.evaluate()[0]\n",
    "        vdintLith = _vdintLith.evaluate()[0]\n",
    "        areaintLower = _areaintLower.evaluate()[0]\n",
    "        tempintLower = _tempintLower.evaluate()[0]\n",
    "        rmsintLower = _rmsintLower.evaluate()[0]\n",
    "        dwintLower = _dwintLower.evaluate()[0]\n",
    "        vdintLower = _vdintLower.evaluate()[0]\n",
    "        vdintHinge = _vdintHinge.evaluate()[0]\n",
    "        #Surface integrals\n",
    "        rmsSurf = _rmsSurf.evaluate()[0]\n",
    "        nuTop = _nuTop.evaluate()[0]\n",
    "        nuBottom = _nuBottom.evaluate()[0]\n",
    "        plateness = _plateness.evaluate()[0]\n",
    "        #extrema\n",
    "        maxVel = _maxMinVel.max_global()\n",
    "        minVel = _maxMinVel.min_global() \n",
    "        maxSr = _maxMinSr.max_global()\n",
    "        minSr = _maxMinSr.min_global()\n",
    "        maxVxsurf = _maxMinVxSurf.max_global()\n",
    "        minVxsurf = _maxMinVxSurf.min_global()\n",
    "        # output to summary text file\n",
    "        if uw.rank()==0:\n",
    "            f_o.write((22*'%-15s ' + '\\n') % (areaintRock, tempintRock, rmsintRock, dwintRock, vdintRock,\n",
    "                                  areaintLith, tempintLith,rmsintLith, dwintLith, vdintLith,\n",
    "                                  areaintLower, tempintLower, rmsintLower, dwintLower, vdintLower, \n",
    "                                  vdintHinge,rmsSurf, nuTop, nuBottom, plateness, ndp.subzone, realtime))\n",
    "    ################\n",
    "    #Also repopulate entire swarm periodically\n",
    "    ################\n",
    "    #if step % swarm_repop == 0:\n",
    "    population_control.repopulate()   \n",
    "    ################\n",
    "    #Checkpoint\n",
    "    ################\n",
    "    if step % checkpoint_every == 0:\n",
    "        if uw.rank() == 0:\n",
    "            checkpoint1(step, checkpointPath,f_o, metric_output)           \n",
    "        checkpoint2(step, checkpointPath, gSwarm, f_o, varlist = varlist, varnames = varnames)\n",
    "        f_o = open(os.path.join(outputPath, outputFile), 'a') #is this line supposed to be here?\n",
    "    ################\n",
    "    #Gldb output\n",
    "    ################ \n",
    "    if (step % gldbs_output == 0): \n",
    "        if figures == 'gldb':\n",
    "            #Remember to rebuild any necessary swarm variables\n",
    "            fnamedb = \"dbFig\" + \"_\" + str(step) + \".gldb\"\n",
    "            fullpath = os.path.join(outputPath + \"gldbs/\" + fnamedb)\n",
    "            figDb.save_database(fullpath)\n",
    "            \n",
    "            #Temp figure\n",
    "            fnamedb = \"restrictFig\" + \"_\" + str(step) + \".gldb\"\n",
    "            fullpath = os.path.join(outputPath + \"gldbs/\" + fnamedb)\n",
    "            figRestrict.save_database(fullpath)\n",
    "        elif figures == 'store':      \n",
    "            fullpath = os.path.join(outputPath + \"gldbs/\")\n",
    "            store.step = step\n",
    "            #Save figures to store\n",
    "            figVisc.save( fullpath + \"Visc\" + str(step).zfill(4))\n",
    "            #figMech.save( fullPath + \"Mech\" + str(step).zfill(4))\n",
    "            figTemp.save( fullpath + \"Temp\"    + str(step).zfill(4))\n",
    "    ################\n",
    "    #Files output\n",
    "    ################ \n",
    "    if (step % files_output == 0):\n",
    "\n",
    "        vel_surface = velocityField.evaluate_global(surface_nodes)\n",
    "        norm_surface_sr = normgradV.evaluate_global(surface_nodes)\n",
    "        if uw.rank() == 0:\n",
    "            fnametemp = \"velsurface\" + \"_\" + str(step)\n",
    "            fullpath = os.path.join(outputPath + \"files/\" + fnametemp)\n",
    "            np.save(fullpath, vel_surface)\n",
    "            fnametemp = \"norm_surface_sr\" + \"_\" + str(step)\n",
    "            fullpath = os.path.join(outputPath + \"files/\" + fnametemp)\n",
    "            np.save(fullpath, norm_surface_sr)\n",
    "            \n",
    "        #Save the slab_lineand tipswarm coords \n",
    "        fnametemp1 = \"midSwarm\" + \"_\" + str(step)\n",
    "        fullpath1 = os.path.join(outputPath + \"files/\" + fnametemp1)\n",
    "        slab_line.swarm.save(fullpath1)\n",
    "        #tipVar.data[:,:2] = velocityField.evaluate(tipSwarm)\n",
    "        #tipVar.data[:,2:] = xFn.evaluate(tipSwarm)\n",
    "        #tipVar.data[:,3:] = yFn.evaluate(tipSwarm)\n",
    "        #comm.barrier()\n",
    "        #fnametemp2 = \"tipSwarm\" + \"_\" + str(step)\n",
    "        #fullpath2 = os.path.join(outputPath + \"files/\" + fnametemp2)\n",
    "        #tipVar.save('fullpath2')\n",
    "            \n",
    "    ################\n",
    "    #Update the subduction zone / plate information\n",
    "    ################ \n",
    "    \n",
    "    comm.barrier()\n",
    "    if (step % files_output == 0):\n",
    "        \n",
    "        if uw.rank() == 0:\n",
    "            fnametemp = \"norm_surface_sr\" + \"_\" + str(step) + \".npy\"\n",
    "            fullpath = os.path.join(outputPath + \"files/\" + fnametemp)\n",
    "            ndp.subzone = plate_info(fullpath, MINX, MAXX,  800e3/dp.LS, oldszloc = ndp.subzone)\n",
    "            \n",
    "        else:\n",
    "            ndp.subzone = None\n",
    "        \n",
    "        comm.barrier()    \n",
    "        #send out the updated info for sz location\n",
    "        \n",
    "        ndp.subzone = comm.bcast(ndp.subzone, root=0)\n",
    "\n",
    "        #Has the polarity reversed?\n",
    "\n",
    "        if dp.sense == 'right':\n",
    "            tempop = operator.lt\n",
    "            szoffet *= -1\n",
    "        else:\n",
    "            tempop = operator.gt\n",
    "            \n",
    "        #Update the relevant parts of the material graph\n",
    "        #Remove and rebuild edges related to crust\n",
    "        DG.remove_edges_from([(mantleIndex,crustIndex)])\n",
    "        DG.add_edges_from([(mantleIndex,crustIndex)])\n",
    "        DG.remove_edges_from([(harzIndex,crustIndex)])\n",
    "        DG.add_edges_from([(harzIndex,crustIndex)])\n",
    "\n",
    "        #... to crust\n",
    "        DG.add_transition((mantleIndex,crustIndex), depthFn, operator.lt, 0.5)\n",
    "        DG.add_transition((mantleIndex,crustIndex), xFn, tempop , ndp.subzone) #No crust on the upper plate\n",
    "        DG.add_transition((mantleIndex,crustIndex), ageVariable, operator.gt, 0.2)\n",
    "\n",
    "        DG.add_transition((harzIndex,crustIndex), depthFn, operator.lt, ndp.MANTLETOCRUST)\n",
    "        DG.add_transition((harzIndex,crustIndex), xFn, tempop, ndp.subzone) #This one sets no crust on the upper plate\n",
    "        DG.add_transition((harzIndex,crustIndex), ageVariable, operator.gt, crustageCond)\n",
    "        \n",
    "        comm.barrier()\n",
    "                   \n",
    "    \n",
    "    ################\n",
    "    #Particle update\n",
    "    ###############    \n",
    "    #ageVariable.data[:] += dt #increment the ages (is this efficient?)\n",
    "    ageDT += dt\n",
    "    \n",
    "    if step % swarm_update == 0:\n",
    "        #Increment age stuff. \n",
    "        ageConditions = [ (depthFn < ndp.AGETRACKDEPTH, ageVariable + ageDT ),  #add ageDThere\n",
    "                  (True, 0.) ]\n",
    "        ageVariable.data[:] = fn.branching.conditional( ageConditions ).evaluate(gSwarm)        \n",
    "        ageDT = 0. #reset the age incrementer\n",
    "        \n",
    "        #Apply any materialVariable changes\n",
    "        for i in range(2): #go through twice\n",
    "            materialVariable.data[:] = fn.branching.conditional(DG.condition_list).evaluate(gSwarm)\n",
    "\n",
    "    \n",
    "f_o.close()\n",
    "print 'step =',step"
   ]
  }
 ],
 "metadata": {
  "kernelspec": {
   "display_name": "Python 2",
   "language": "python",
   "name": "python2"
  },
  "language_info": {
   "codemirror_mode": {
    "name": "ipython",
    "version": 2
   },
   "file_extension": ".py",
   "mimetype": "text/x-python",
   "name": "python",
   "nbconvert_exporter": "python",
   "pygments_lexer": "ipython2",
   "version": "2.7.9"
  },
  "widgets": {
   "state": {},
   "version": "1.1.2"
  }
 },
 "nbformat": 4,
 "nbformat_minor": 0
}
