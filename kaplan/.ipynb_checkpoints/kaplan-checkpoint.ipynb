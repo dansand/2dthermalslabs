{
 "cells": [
  {
   "cell_type": "markdown",
   "metadata": {},
   "source": [
    "## Thermal subduction, linear rheology:\n",
    "\n",
    "\n",
    "The viscous rheology in this model is similar to the models described in the PhD thesis of Micheal Kaplan\n",
    "\n",
    "\n",
    "\n",
    "**Keywords:** subduction, thermally-activated creep, \n",
    "\n",
    "\n",
    "**References:**\n",
    "\n",
    "\n",
    "Kaplan, Michael. Numerical Geodynamics of Solid Planetary Deformation. Diss. University of Southern California, 2015."
   ]
  },
  {
   "cell_type": "code",
   "execution_count": 94,
   "metadata": {
    "collapsed": false
   },
   "outputs": [],
   "source": [
    "import numpy as np\n",
    "import underworld as uw\n",
    "import math\n",
    "from underworld import function as fn\n",
    "import glucifer\n",
    "\n",
    "import os\n",
    "import sys\n",
    "import natsort\n",
    "import shutil\n",
    "from easydict import EasyDict as edict\n",
    "import operator\n",
    "import pint\n",
    "import time\n",
    "import operator\n",
    "from slippy2 import boundary_layer2d\n",
    "from slippy2 import material_graph\n",
    "from slippy2 import spmesh\n",
    "from slippy2 import phase_function\n",
    "from unsupported.interfaces import markerLine2D\n",
    "\n",
    "from mpi4py import MPI\n",
    "comm = MPI.COMM_WORLD\n",
    "rank = comm.Get_rank()"
   ]
  },
  {
   "cell_type": "markdown",
   "metadata": {},
   "source": [
    "Model name and directories\n",
    "-----"
   ]
  },
  {
   "cell_type": "code",
   "execution_count": 95,
   "metadata": {
    "collapsed": false
   },
   "outputs": [],
   "source": [
    "############\n",
    "#Model letter and number\n",
    "############\n",
    "\n",
    "\n",
    "#Model letter identifier default\n",
    "Model = \"T\"\n",
    "\n",
    "#Model number identifier default:\n",
    "ModNum = 0\n",
    "\n",
    "#Any isolated letter / integer command line args are interpreted as Model/ModelNum\n",
    "\n",
    "if len(sys.argv) == 1:\n",
    "    ModNum = ModNum \n",
    "elif sys.argv[1] == '-f': #\n",
    "    ModNum = ModNum \n",
    "else:\n",
    "    for farg in sys.argv[1:]:\n",
    "        if not '=' in farg: #then Assume it's a not a paramter argument\n",
    "            try:\n",
    "                ModNum = int(farg) #try to convert everingthing to a float, else remains string\n",
    "            except ValueError:\n",
    "                Model  = farg"
   ]
  },
  {
   "cell_type": "code",
   "execution_count": 96,
   "metadata": {
    "collapsed": false
   },
   "outputs": [],
   "source": [
    "###########\n",
    "#Standard output directory setup\n",
    "###########\n",
    "\n",
    "\n",
    "outputPath = \"results\" + \"/\" +  str(Model) + \"/\" + str(ModNum) + \"/\" \n",
    "imagePath = outputPath + 'images/'\n",
    "filePath = outputPath + 'files/'\n",
    "checkpointPath = outputPath + 'checkpoint/'\n",
    "dbPath = outputPath + 'gldbs/'\n",
    "outputFile = 'results_model' + Model + '_' + str(ModNum) + '.dat'\n",
    "\n",
    "if uw.rank()==0:\n",
    "    # make directories if they don't exist\n",
    "    if not os.path.isdir(outputPath):\n",
    "        os.makedirs(outputPath)\n",
    "    if not os.path.isdir(checkpointPath):\n",
    "        os.makedirs(checkpointPath)\n",
    "    if not os.path.isdir(imagePath):\n",
    "        os.makedirs(imagePath)\n",
    "    if not os.path.isdir(dbPath):\n",
    "        os.makedirs(dbPath)\n",
    "    if not os.path.isdir(filePath):\n",
    "        os.makedirs(filePath)\n",
    "\n",
    "        \n",
    "comm.Barrier() #Barrier here so no procs run the check in the next cell too early"
   ]
  },
  {
   "cell_type": "code",
   "execution_count": 97,
   "metadata": {
    "collapsed": false
   },
   "outputs": [
    {
     "name": "stdout",
     "output_type": "stream",
     "text": [
      "results/T/0/checkpoint/ is empty\n"
     ]
    }
   ],
   "source": [
    "###########\n",
    "#Check if starting from checkpoint\n",
    "###########\n",
    "\n",
    "checkdirs = []\n",
    "for dirpath, dirnames, files in os.walk(checkpointPath):\n",
    "    if files:\n",
    "        print dirpath, 'has files'\n",
    "        checkpointLoad = True\n",
    "        checkdirs.append(dirpath)\n",
    "    if not files:\n",
    "        print dirpath, 'is empty'\n",
    "        checkpointLoad = False"
   ]
  },
  {
   "cell_type": "code",
   "execution_count": 98,
   "metadata": {
    "collapsed": true
   },
   "outputs": [],
   "source": [
    "# setup summary output file (name above)\n",
    "if checkpointLoad:\n",
    "    checkpointLoadDir = natsort.natsort(checkdirs)[-1]\n",
    "    if uw.rank() == 0:\n",
    "        shutil.copyfile(os.path.join(checkpointLoadDir, outputFile), outputPath+outputFile)\n",
    "    comm.Barrier()\n",
    "    f_o = open(os.path.join(outputPath, outputFile), 'a')\n",
    "    prevdata = np.genfromtxt(os.path.join(outputPath, outputFile), skip_header=0, skip_footer=0)\n",
    "    if len(prevdata.shape) == 1: #this is in case there is only one line in previous file\n",
    "        realtime = prevdata[0]\n",
    "    else:\n",
    "        realtime = prevdata[prevdata.shape[0]-1, 0]\n",
    "    step = int(checkpointLoadDir.split('/')[-1])\n",
    "    timevals = [0.]\n",
    "else:\n",
    "    f_o = open(outputPath+outputFile, 'w')\n",
    "    realtime = 0.\n",
    "    step = 0\n",
    "    timevals = [0.]"
   ]
  },
  {
   "cell_type": "markdown",
   "metadata": {},
   "source": [
    "Setup parameters\n",
    "-----\n",
    "\n",
    "Set simulation parameters for test."
   ]
  },
  {
   "cell_type": "markdown",
   "metadata": {},
   "source": [
    "**Use pint to setup any unit conversions we'll need**"
   ]
  },
  {
   "cell_type": "code",
   "execution_count": 99,
   "metadata": {
    "collapsed": false
   },
   "outputs": [
    {
     "data": {
      "text/html": [
       "10000.0 meter/megayear"
      ],
      "text/latex": [
       "$10000.0 \\frac{meter}{megayear}$"
      ],
      "text/plain": [
       "<Quantity(10000.0, 'meter / megayear')>"
      ]
     },
     "execution_count": 99,
     "metadata": {},
     "output_type": "execute_result"
    }
   ],
   "source": [
    "u = pint.UnitRegistry()\n",
    "cmpery = 1.*u.cm/u.year\n",
    "mpermy = 1.*u.m/u.megayear\n",
    "year = 1.*u.year\n",
    "spery = year.to(u.sec)\n",
    "cmpery.to(mpermy)"
   ]
  },
  {
   "cell_type": "code",
   "execution_count": 100,
   "metadata": {
    "collapsed": false
   },
   "outputs": [
    {
     "name": "stdout",
     "output_type": "stream",
     "text": [
      "(0.04, 1.2675505856327397e-11)\n"
     ]
    }
   ],
   "source": [
    "box_half_width =4000e3\n",
    "age_at_trench = 100e6\n",
    "cmperyear = box_half_width / age_at_trench #m/y\n",
    "mpersec = cmperyear*(cmpery.to(u.m/u.second)).magnitude #m/sec\n",
    "print(cmperyear, mpersec )"
   ]
  },
  {
   "cell_type": "markdown",
   "metadata": {},
   "source": [
    "**Set parameter dictionaries**\n",
    "\n",
    "* Parameters are stored in dictionaries. \n",
    "* If starting from checkpoint, parameters are loaded using pickle\n",
    "* If params are passed in as flags to the script, they overwrite \n"
   ]
  },
  {
   "cell_type": "code",
   "execution_count": 101,
   "metadata": {
    "collapsed": false
   },
   "outputs": [],
   "source": [
    "###########\n",
    "#Parameter / settings dictionaries get saved&loaded using pickle\n",
    "###########\n",
    " \n",
    "dp = edict({}) #dimensional parameters\n",
    "sf = edict({}) #scaling factors\n",
    "ndp = edict({}) #dimensionless paramters\n",
    "#md = edict({}) #model paramters, flags etc\n",
    "#od = edict({}) #output frequencies\n",
    "\n"
   ]
  },
  {
   "cell_type": "code",
   "execution_count": 102,
   "metadata": {
    "collapsed": false
   },
   "outputs": [],
   "source": [
    "dict_list = [dp, sf, ndp]\n",
    "dict_names = ['dp.pkl', 'sf.pkl', 'ndp.pkl']\n",
    "\n",
    "def save_pickles(dict_list, dict_names, dictPath):\n",
    "    import pickle\n",
    "    counter = 0\n",
    "    for pdict in dict_list:\n",
    "        myfile = os.path.join(dictPath, dict_names[counter])\n",
    "        with open(myfile, 'wb') as f:\n",
    "            pickle.dump(pdict, f)\n",
    "        counter+=1\n",
    "\n",
    "\n",
    "#ended up having to pretty much write a hard-coded function\n",
    "#All dictionaries we want checkpointed will have to  be added here \n",
    "#and where the function is called\n",
    "#Fortunately, this function is only called ONCE\n",
    "\n",
    "def load_pickles():\n",
    "    import pickle\n",
    "    dirpath = os.path.join(checkpointPath, str(step))\n",
    "    dpfile = open(os.path.join(dirpath, 'dp.pkl'), 'r')\n",
    "    dp = pickle.load(dpfile)\n",
    "#    #\n",
    "    ndpfile = open(os.path.join(dirpath, 'ndp.pkl'), 'r')\n",
    "    ndp = edict(pickle.load(ndpfile))\n",
    "    #\n",
    "    sffile = open(os.path.join(dirpath, 'sf.pkl'), 'r')\n",
    "    sf = edict(pickle.load(sffile))\n",
    "    return dp, ndp, sf"
   ]
  },
  {
   "cell_type": "code",
   "execution_count": 103,
   "metadata": {
    "collapsed": false
   },
   "outputs": [],
   "source": [
    "###########\n",
    "#Store the physical parameters, scale factors and dimensionless pramters in easyDicts\n",
    "#Mainly helps with avoiding overwriting variables\n",
    "###########\n",
    "\n",
    "\n",
    "dp = edict({'LS':670*1e3, #Scaling Length scale\n",
    "            'depth':670*1e3, #Depth of domain\n",
    "            'rho':3300.,  #reference density\n",
    "            'g':9.8, #surface gravity\n",
    "            'eta0':1e20, #reference viscosity\n",
    "            'k':1e-6, #thermal diffusivity\n",
    "            'a':3e-5, #surface thermal expansivity\n",
    "            'R':8.314, #gas constant\n",
    "            'TP':1673., #mantle potential temp (K)\n",
    "            'TS':273., #surface temp (K)\n",
    "            #Rheology - flow law paramters\n",
    "            'Adf':3e-11, #pre-exp factor for diffusion creep\n",
    "            'Edf':1e5, #Total viscosity variation in the Kaplan model\n",
    "            'cm':40e6, #mantle cohesion in Byerlee law\n",
    "            'cc':40e6, #mantle cohesion in Byerlee law\n",
    "            'ci':40e6, #mantle cohesion in Byerlee law\n",
    "            'fcm':0.03,   #mantle friction coefficient in Byerlee law (tan(phi))\n",
    "            'fcc':0.03,   #crust friction coefficient \n",
    "            'fci':0.03,   #subduction interface friction coefficient\n",
    "            #Rheology - cutoff values\n",
    "            'eta_min':1e17, \n",
    "            'eta_max':1e25, #viscosity max in the mantle material\n",
    "            'eta_min_crust':1e20, #viscosity min in the weak-crust material\n",
    "            'eta_max_crust':1e20, #viscosity max in the weak-crust material\n",
    "            'eta_min_interface':1e20, #viscosity min in the subduction interface material\n",
    "            'eta_max_interface':1e20, #viscosity max in the subduction interface material\n",
    "            #Length scales\n",
    "            'MANTLETOCRUST':10.*1e3, #Crust depth\n",
    "            'HARZBURGDEPTH':40e3,\n",
    "            'CRUSTTOMANTLE':800.*1e3,\n",
    "            'LITHTOMANTLE':(900.*1e3),\n",
    "            'MANTLETOLITH':200.*1e3, \n",
    "            'TOPOHEIGHT':10.*1e3,  #rock-air topography limits\n",
    "            'CRUSTTOECL':100.*1e3,\n",
    "            'LOWMANTLEDEPTH':660.*1e3, \n",
    "            'CRUSTVISCUTOFF':150.*1e3, #Deeper than this, crust material rheology reverts to mantle rheology\n",
    "            'AGETRACKDEPTH':100e3, #above this depth we track the age of the lithsphere (below age is assumed zero)\n",
    "            #Slab and plate parameters\n",
    "            'roc':250e3,     #radius of curvature of slab\n",
    "            'subzone':0.0,   #X position of subduction zone...km\n",
    "            'lRidge':-0.5*(670e3*4),  #For depth = 670 km, aspect ratio of 4, this puts the ridges at MINX, MAXX\n",
    "            'rRidge':0.5*(670e3*4),\n",
    "            'maxDepth':250e3,\n",
    "            'theta':70., #Angle to truncate the slab (can also control with a maxDepth param)\n",
    "            'slabmaxAge':60e6, #age of subduction plate at trench\n",
    "            'platemaxAge':60e6, #max age of slab (Plate model)\n",
    "            'sense':'Right', #dip direction\n",
    "            'op_age_fac':0.5, #this controls the overidding plate age reduction\n",
    "            #Misc\n",
    "            'StALS':100e3, #depth of sticky air layer\n",
    "            'Steta0':5e18,\n",
    "            'plate_vel':4,\n",
    "            'low_mantle_visc_fac':30.\n",
    "           })\n",
    "\n",
    "#append any derived parameters to the dictionary\n",
    "dp.deltaT = dp.TP - dp.TS\n",
    "\n",
    "\n"
   ]
  },
  {
   "cell_type": "code",
   "execution_count": 104,
   "metadata": {
    "collapsed": true
   },
   "outputs": [],
   "source": [
    "##Model dict will go here, once I collect those params and put them in dict. "
   ]
  },
  {
   "cell_type": "code",
   "execution_count": 105,
   "metadata": {
    "collapsed": false
   },
   "outputs": [],
   "source": [
    "###########\n",
    "#If starting from a checkpoint load params from file\n",
    "###########\n",
    "\n",
    "if checkpointLoad:\n",
    "    dp, ndp, sf = load_pickles()  #remember to add any extra dictionaries\n"
   ]
  },
  {
   "cell_type": "code",
   "execution_count": 106,
   "metadata": {
    "collapsed": false
   },
   "outputs": [],
   "source": [
    "###########\n",
    "#If command line args are given, overwrite\n",
    "#Note that this assumes that params as commans line args/\n",
    "#only append to the 'dimensional' and 'model' dictionary (not the non-dimensional)\n",
    "###########    \n",
    "\n",
    "\n",
    "###########\n",
    "#If extra arguments are provided to the script\" eg:\n",
    "### >>> uw.py 2 dp.arg1=1 dp.arg2=foo dp.arg3=3.0\n",
    "###\n",
    "###This would assign ModNum = 2, all other values go into the dp dictionary, under key names provided\n",
    "###\n",
    "###Two operators are searched for, = & *=\n",
    "###\n",
    "###If =, parameter is re-assigned to givn value\n",
    "###If *=, parameter is multipled by given value\n",
    "###\n",
    "### >>> uw.py 2 dp.arg1=1 dp.arg2=foo dp.arg3*=3.0\n",
    "###########\n",
    "\n",
    "for farg in sys.argv[1:]:\n",
    "    try:\n",
    "        (dicitem,val) = farg.split(\"=\") #Split on equals operator\n",
    "        (dic,arg) = dicitem.split(\".\") #colon notation\n",
    "        if '*=' in farg:\n",
    "            (dicitem,val) = farg.split(\"*=\") #If in-place multiplication, split on '*='\n",
    "            (dic,arg) = dicitem.split(\".\")\n",
    "        \n",
    "        try:\n",
    "            val = float(val) #try to convert everything to a float, else remains string\n",
    "        except ValueError:\n",
    "            pass\n",
    "        #Update the dictionary\n",
    "        if farg.startswith('dp'):\n",
    "            if '*=' in farg:\n",
    "                dp[arg] = dp[arg]*val #multiply parameter by given factor\n",
    "            else:\n",
    "                dp[arg] = val    #or reassign parameter by given value\n",
    "        if farg.startswith('md'):\n",
    "            if '*=' in farg:\n",
    "                md[arg] = md[arg]*val #multiply parameter by given factor\n",
    "            else:\n",
    "                md[arg] = val    #or reassign parameter by given value\n",
    "                \n",
    "    except:\n",
    "        pass\n",
    "            \n",
    "\n",
    "comm.barrier()"
   ]
  },
  {
   "cell_type": "code",
   "execution_count": 107,
   "metadata": {
    "collapsed": false
   },
   "outputs": [],
   "source": [
    "#Only build these guys first time around, otherwise the read from checkpoints\n",
    "#Important because some of these params (like SZ location) may change during model evolution\n",
    "\n",
    "if not checkpointLoad:\n",
    "    sf = edict({'stress':dp.LS**2/(dp.k*dp.eta0),\n",
    "                'lith_grad':dp.rho*dp.g*(dp.LS)**3/(dp.eta0*dp.k) , \n",
    "                'vel':dp.LS/dp.k,\n",
    "                'SR':dp.LS**2/dp.k    \n",
    "               })\n",
    "\n",
    "    #dimensionless parameters\n",
    "\n",
    "    ndp = edict({'RA':(dp.g*dp.rho*dp.a*(dp.TP - dp.TS)*(dp.LS)**3)/(dp.k*dp.eta0),\n",
    "                 'Edf':math.log(dp.Edf),\n",
    "                 'TSP':0., \n",
    "                 'TBP':1.,\n",
    "                 'TPP':(dp.TP - dp.TS)/dp.deltaT, #dimensionless potential temp\n",
    "                 'TS':dp.TS/dp.deltaT,\n",
    "                 'TP':dp.TP/dp.deltaT,\n",
    "                 'cm':dp.cm*sf.stress,\n",
    "                 'cc':dp.cc*sf.stress,    #{dimensionless cohesion in mantle, crust, interface}\n",
    "                 'ci':dp.ci*sf.stress,\n",
    "                 'fcmd':dp.fcm*sf.lith_grad, \n",
    "                 'fccd':dp.fcc*sf.lith_grad, #{dimensionless friction coefficient in mantle, crust, interface}\n",
    "                 'fcid':dp.fci*sf.lith_grad, \n",
    "                 #Rheology - cutoff values\n",
    "                 'eta_min':dp.eta_min/dp.eta0, \n",
    "                 'eta_max':dp.eta_max/dp.eta0, #viscosity max in the mantle material\n",
    "                 'eta_min_crust':dp.eta_min_crust/dp.eta0, #viscosity min in the weak-crust material\n",
    "                 'eta_max_crust':dp.eta_max_crust/dp.eta0, #viscosity max in the weak-crust material\n",
    "                 'eta_min_interface':dp.eta_min_interface/dp.eta0, #viscosity min in the subduction interface material\n",
    "                 'eta_max_interface':dp.eta_max_interface/dp.eta0, #viscosity max in the subduction interface material             \n",
    "                 #Length scales\n",
    "                 'MANTLETOCRUST':dp.MANTLETOCRUST/dp.LS, #Crust depth\n",
    "                 'HARZBURGDEPTH':dp.HARZBURGDEPTH/dp.LS,\n",
    "                 'CRUSTTOMANTLE':dp.CRUSTTOMANTLE/dp.LS,\n",
    "                 'LITHTOMANTLE':dp.LITHTOMANTLE/dp.LS,\n",
    "                 'MANTLETOLITH':dp.MANTLETOLITH/dp.LS,\n",
    "                 'TOPOHEIGHT':dp.TOPOHEIGHT/dp.LS,  #rock-air topography limits\n",
    "                 'CRUSTTOECL':dp.CRUSTTOECL/dp.LS,\n",
    "                 'LOWMANTLEDEPTH':dp.LOWMANTLEDEPTH/dp.LS, \n",
    "                 'CRUSTVISCUTOFF':dp.CRUSTVISCUTOFF/dp.LS, #Deeper than this, crust material rheology reverts to mantle rheology\n",
    "                 'AGETRACKDEPTH':dp.AGETRACKDEPTH/dp.LS,\n",
    "                 #Slab and plate parameters\n",
    "                 'roc':dp.roc/dp.LS,     #radius of curvature of slab\n",
    "                 'subzone':dp.subzone/dp.LS,   #X position of subduction zone...km\n",
    "                 'lRidge':dp.lRidge/dp.LS,  #For depth = 670 km, aspect ratio of 4, this puts the ridges at MINX, MAXX\n",
    "                 'rRidge':dp.rRidge/dp.LS,\n",
    "                 'maxDepth':dp.maxDepth/dp.LS,    \n",
    "                 #misc\n",
    "                 'Steta0':dp.Steta0/dp.eta0,\n",
    "                 'StALS':dp.StALS/dp.LS,\n",
    "                 'plate_vel':sf.vel*dp.plate_vel*(cmpery.to(u.m/u.second)).magnitude,\n",
    "                 'low_mantle_visc_fac':dp.low_mantle_visc_fac\n",
    "                })\n",
    "\n",
    "\n",
    "\n",
    "    #Append any more derived paramters\n",
    "    ndp.StRA = (3300.*dp.g*(dp.LS)**3)/(dp.eta0 *dp.k) #Composisitional Rayleigh number for rock-air buoyancy force\n",
    "    dp.CVR = (0.1*(dp.k/dp.LS)*ndp.RA**(2/3.))\n",
    "    ndp.CVR = dp.CVR*sf.vel #characteristic velocity"
   ]
  },
  {
   "cell_type": "code",
   "execution_count": 108,
   "metadata": {
    "collapsed": false
   },
   "outputs": [
    {
     "data": {
      "text/plain": [
       "(849.2588923739356, 670000000000.0, 3.168876464081849e-10)"
      ]
     },
     "execution_count": 108,
     "metadata": {},
     "output_type": "execute_result"
    }
   ],
   "source": [
    "ndp.plate_vel, sf.vel, (cmpery.to(u.m/u.second)).magnitude"
   ]
  },
  {
   "cell_type": "markdown",
   "metadata": {},
   "source": [
    "**Model setup parameters**"
   ]
  },
  {
   "cell_type": "code",
   "execution_count": 109,
   "metadata": {
    "collapsed": false
   },
   "outputs": [],
   "source": [
    "###########\n",
    "#Model setup parameters\n",
    "###########\n",
    "\n",
    "#Modelling and Physics switches\n",
    "refineMesh = True\n",
    "stickyAir = False\n",
    "symmetricIC = False\n",
    "VelBC = False\n",
    "aspectRatio = 4\n",
    "compBuoyancy = False #use compositional & phase buoyancy, or simply thermal\n",
    "RES = 64\n",
    "\n",
    "#Domain and Mesh paramters\n",
    "dim = 2          # number of spatial dimensions\n",
    "\n",
    "tot_depth = np.round(dp.depth/dp.LS, 3)\n",
    "\n",
    "#These options allow us to explore the choice of different length scalings\n",
    "\n",
    "if tot_depth == 1.: #Depth equal to length scale\n",
    "    MINY = 0.\n",
    "    MAXY = 1.\n",
    "elif tot_depth > 1.: #Depth larger than to length scale\n",
    "    MINY = 0.\n",
    "    MAXY = tot_depth\n",
    "    \n",
    "elif tot_depth < 1.: #Depth smaller to length scale\n",
    "    MINY = np.round(1. - tot_depth, 2)\n",
    "    MAXY = 1.\n",
    "    \n",
    "MINX = np.round(-1.*tot_depth*aspectRatio/2., 2)  #Aspect ratio is fixed, x-domain shifts according to system depth and length scale\n",
    "\n",
    "MAXX = np.round(1.*tot_depth*aspectRatio/2., 2)\n",
    "\n",
    "if MINX == 0.:\n",
    "    squareModel = True\n",
    "else: \n",
    "    squareModel = False\n",
    "    \n",
    "    \n",
    "\n",
    "Xres = int(RES*aspectRatio)\n",
    "#if MINY == 0.5:\n",
    "#    Xres = int(2.*RES*aspectRatio)\n",
    "    \n",
    "\n",
    "if stickyAir:\n",
    "    Yres = RES\n",
    "    MAXY = np.round(MAXY + dp.StALS/dp.LS, 2)\n",
    "    \n",
    "else:\n",
    "    Yres = RES\n",
    "    MAXY = np.round(MAXY, 2)\n",
    "\n",
    "periodic = [False, False]\n",
    "elementType = \"Q1/dQ0\"\n",
    "#elementType =\"Q2/DPC1\"\n",
    "\n",
    "\n",
    "#System/Solver stuff\n",
    "PIC_integration=True\n",
    "ppc = 25\n",
    "\n",
    "#Metric output stuff\n",
    "figures =  'gldb' #glucifer Store won't work on all machines, if not, set to 'gldb' \n",
    "swarm_repop, swarm_update = 10, 10\n",
    "gldbs_output = 5\n",
    "checkpoint_every, files_output = 5, 100\n",
    "metric_output = 2\n",
    "sticky_air_temp = 1e6"
   ]
  },
  {
   "cell_type": "markdown",
   "metadata": {},
   "source": [
    "Create mesh and finite element variables\n",
    "------"
   ]
  },
  {
   "cell_type": "code",
   "execution_count": 110,
   "metadata": {
    "collapsed": false
   },
   "outputs": [],
   "source": [
    "mesh = uw.mesh.FeMesh_Cartesian( elementType = (elementType),\n",
    "                                 elementRes  = (Xres, Yres), \n",
    "                                 minCoord    = (MINX, MINY), \n",
    "                                 maxCoord    = (MAXX, MAXY), periodic=periodic)\n",
    "\n",
    "velocityField       = uw.mesh.MeshVariable( mesh=mesh,         nodeDofCount=2 )\n",
    "pressureField       = uw.mesh.MeshVariable( mesh=mesh.subMesh, nodeDofCount=1 )\n",
    "temperatureField    = uw.mesh.MeshVariable( mesh=mesh,         nodeDofCount=1 )\n",
    "temperatureDotField = uw.mesh.MeshVariable( mesh=mesh,         nodeDofCount=1 )"
   ]
  },
  {
   "cell_type": "code",
   "execution_count": 111,
   "metadata": {
    "collapsed": true
   },
   "outputs": [],
   "source": [
    "mesh.reset()"
   ]
  },
  {
   "cell_type": "code",
   "execution_count": 112,
   "metadata": {
    "collapsed": false
   },
   "outputs": [
    {
     "name": "stdout",
     "output_type": "stream",
     "text": [
      "Min\n",
      "(256, 0.0078140624999999998, 3.0003999999999995, 0.99960000000000093)\n",
      "('edges', 256)\n",
      "-- iteration 0 --\n",
      "| F( p_n ) |^2: 0.000123928075027\n",
      "| p_n+1 - p_n |^2: 8.53512671865\n",
      "-- iteration 1 --\n",
      "| F( p_n ) |^2: 3.29102908897e-30\n",
      "Min, Max element width: \n",
      "0.00781\n",
      "0.02344\n"
     ]
    }
   ],
   "source": [
    "###########\n",
    "#Mesh refinement\n",
    "###########\n",
    "\n",
    "#X-Axis\n",
    "\n",
    "if refineMesh:\n",
    "    mesh.reset()\n",
    "    axis = 0\n",
    "    origcoords = np.linspace(mesh.minCoord[axis], mesh.maxCoord[axis], mesh.elementRes[axis] + 1)\n",
    "    edge_rest_lengths = np.diff(origcoords)\n",
    "\n",
    "    deform_lengths = edge_rest_lengths.copy()\n",
    "    min_point =  (abs(mesh.maxCoord[axis]) - abs(mesh.minCoord[axis]))/2.\n",
    "    el_reduction = 0.5001\n",
    "    dx = mesh.maxCoord[axis] - min_point\n",
    "\n",
    "    deform_lengths = deform_lengths - \\\n",
    "                                    ((1.-el_reduction) *deform_lengths[0]) + \\\n",
    "                                    abs((origcoords[1:] - min_point))*((0.5*deform_lengths[0])/dx)\n",
    "\n",
    "    #print(edge_rest_lengths.shape, deform_lengths.shape)\n",
    "\n",
    "    spmesh.deform_1d(deform_lengths, mesh,axis = 'x',norm = 'Min', constraints = [])"
   ]
  },
  {
   "cell_type": "code",
   "execution_count": 113,
   "metadata": {
    "collapsed": false
   },
   "outputs": [],
   "source": [
    "axis = 1\n",
    "orgs = np.linspace(mesh.minCoord[axis], mesh.maxCoord[axis], mesh.elementRes[axis] + 1)\n",
    "\n",
    "value_to_constrain = MAXY #nodes will remain along this line\n",
    "\n",
    "\n",
    "yconst = [(spmesh.find_closest(orgs, value_to_constrain), np.array([value_to_constrain,0]))]"
   ]
  },
  {
   "cell_type": "code",
   "execution_count": 114,
   "metadata": {
    "collapsed": false,
    "scrolled": true
   },
   "outputs": [
    {
     "name": "stdout",
     "output_type": "stream",
     "text": [
      "Min\n",
      "(64, 0.0078140624999999998, 0.74619374999999988, 1.0313396825396834)\n",
      "('edges', 64)\n",
      "-- iteration 0 --\n",
      "| F( p_n ) |^2: 0.000125895187329\n",
      "| p_n+1 - p_n |^2: 0.550178754655\n",
      "-- iteration 1 --\n",
      "| F( p_n ) |^2: 3.96579068205e-31\n",
      "Min, Max element width: \n",
      "0.00781\n",
      "0.02344\n"
     ]
    }
   ],
   "source": [
    "###########\n",
    "#Mesh refinement\n",
    "###########\n",
    "\n",
    "if refineMesh:\n",
    "    #Y-Axis\n",
    "    axis = 1\n",
    "    origcoords = np.linspace(mesh.minCoord[axis], mesh.maxCoord[axis], mesh.elementRes[axis] + 1)\n",
    "    edge_rest_lengths = np.diff(origcoords)\n",
    "\n",
    "    deform_lengths = edge_rest_lengths.copy()\n",
    "    min_point =  (mesh.maxCoord[axis])\n",
    "    el_reduction = 0.5001\n",
    "    dx = mesh.maxCoord[axis]\n",
    "\n",
    "    deform_lengths = deform_lengths - \\\n",
    "                                    ((1.-el_reduction)*deform_lengths[0]) + \\\n",
    "                                    abs((origcoords[1:] - min_point))*((0.5*deform_lengths[0])/dx)\n",
    "\n",
    "    #print(edge_rest_lengths.shape, deform_lengths.shape)\n",
    "\n",
    "    spmesh.deform_1d(deform_lengths, mesh,axis = 'y',norm = 'Min', constraints = yconst)"
   ]
  },
  {
   "cell_type": "code",
   "execution_count": 115,
   "metadata": {
    "collapsed": false
   },
   "outputs": [],
   "source": [
    "#fig= glucifer.Figure()\n",
    "\n",
    "#fig.append(glucifer.objects.Mesh(mesh))\n",
    "\n",
    "#fig.show()\n",
    "#fig.save_database('test.gldb')"
   ]
  },
  {
   "cell_type": "code",
   "execution_count": 116,
   "metadata": {
    "collapsed": true
   },
   "outputs": [],
   "source": [
    "#THis is a hack for adding a sticky air domain, we refine MAXY and things like the temperature stencil work from Y = 1. \n",
    "\n",
    "if stickyAir:\n",
    "    MAXY = 1."
   ]
  },
  {
   "cell_type": "markdown",
   "metadata": {},
   "source": [
    "Initial conditions\n",
    "-------\n"
   ]
  },
  {
   "cell_type": "code",
   "execution_count": 117,
   "metadata": {
    "collapsed": false
   },
   "outputs": [],
   "source": [
    "coordinate = fn.input()\n",
    "depthFn = MAXY - coordinate[1] #a function providing the depth\n",
    "\n",
    "\n",
    "xFn = coordinate[0]  #a function providing the x-coordinate\n",
    "yFn = coordinate[1]\n"
   ]
  },
  {
   "cell_type": "code",
   "execution_count": 118,
   "metadata": {
    "collapsed": false
   },
   "outputs": [],
   "source": [
    "\n",
    "def age_fn(xFn, sz = 0.0, lMOR=MINX, rMOR=MAXX, opFac=1., conjugate_plate = False):\n",
    "    \"\"\"\n",
    "    Simple function to generate a discrete 1-d (i.e x-coordinate) function for the age of the thermal BC. \n",
    "    All paramters are dimensionless\n",
    "    sz: location of subduction zone\n",
    "    lMOR: location of left-hand MOR\n",
    "    rMOR: location of right-hand MOR\n",
    "    opFac: uniform reduce the age of the right hand plate by this factor\n",
    "    conjugate_plate: if True, build plates on the outer sides of the MORs, if False, age = 0. \n",
    "    \"\"\"\n",
    "    \n",
    "    if lMOR < MINX:\n",
    "        lMOR = MINX\n",
    "    if rMOR > MAXX:\n",
    "        rMOR = MAXX\n",
    "    r_grad =  1./(abs(rMOR-sz))\n",
    "    l_grad =  1./(abs(sz-lMOR))\n",
    "    if conjugate_plate:\n",
    "        ageFn = fn.branching.conditional([(operator.and_(xFn > lMOR, xFn < sz) , (xFn + abs(lMOR))/(abs(sz-lMOR))), \n",
    "                                      (operator.and_(xFn < rMOR, xFn >= sz), (1.-(xFn + abs(sz))/abs(rMOR-sz))*opFac),\n",
    "                                      (xFn > rMOR, r_grad*opFac*(xFn -abs(rMOR)) / (abs(MAXX-rMOR))),\n",
    "                                      (True, l_grad*fn.math.abs((((xFn + abs(lMOR)) / (abs(lMOR - MINX))))))\n",
    "                                         ])\n",
    "    else:    \n",
    "        \n",
    "        ageFn = fn.branching.conditional([(operator.and_(xFn > lMOR, xFn < sz) , (xFn + abs(lMOR))/(abs(sz-lMOR))), \n",
    "                                      (operator.and_(xFn < rMOR, xFn >= sz), (1.-(xFn + abs(sz))/abs(rMOR-sz))*opFac),\n",
    "\n",
    "                                      (True, 0.0)])\n",
    "    return ageFn"
   ]
  },
  {
   "cell_type": "code",
   "execution_count": 119,
   "metadata": {
    "collapsed": false
   },
   "outputs": [],
   "source": [
    "###########\n",
    "#Thermal initial condition - half-space coooling\n",
    "###########\n",
    "\n",
    "\n",
    "#  a few conversions\n",
    "ageAtTrenchSeconds = min(dp.platemaxAge*(3600*24*365), dp.slabmaxAge*(3600*24*365))\n",
    "#slab perturbation params (mostly dimensionless / model params here)\n",
    "phi = 90. - dp.theta\n",
    "Org = (ndp.subzone, MAXY-ndp.roc)\n",
    "\n",
    "#First build the top TBL\n",
    "ageFn = age_fn(xFn, sz =ndp.subzone, lMOR=ndp.lRidge,rMOR=ndp.rRidge, conjugate_plate=True, opFac = dp.op_age_fac)\n",
    "#dimensionlize the age function\n",
    "ageFn *= ageAtTrenchSeconds #seconds to year\n",
    "w0 = (2.*math.sqrt(dp.k*ageAtTrenchSeconds))/dp.LS #diffusion depth of plate at the trench\n",
    "\n",
    "tempBL = (ndp.TP - ndp.TS) *fn.math.erf((depthFn*dp.LS)/(2.*fn.math.sqrt(dp.k*ageFn))) + ndp.TSP #boundary layer function\n",
    "tempTBL =  fn.branching.conditional([(depthFn < w0, tempBL),\n",
    "                          (True, ndp.TPP)])\n",
    "\n",
    "if not symmetricIC:\n",
    "    if not checkpointLoad:\n",
    "        out = uw.utils.MeshVariable_Projection( temperatureField, tempTBL) #apply function with projection\n",
    "        out.solve()\n",
    "\n"
   ]
  },
  {
   "cell_type": "code",
   "execution_count": 120,
   "metadata": {
    "collapsed": false
   },
   "outputs": [],
   "source": [
    "#Now build the perturbation part\n",
    "def inCircleFnGenerator(centre, radius):\n",
    "    coord = fn.input()\n",
    "    offsetFn = coord - centre\n",
    "    return fn.math.dot( offsetFn, offsetFn ) < radius**2\n",
    "\n",
    "\n",
    "\n",
    "#We use three circles to define our slab and crust perturbation,  \n",
    "Oc = inCircleFnGenerator(Org , ndp.roc)\n",
    "Ic = inCircleFnGenerator(Org , ndp.roc - w0)\n",
    "Cc = inCircleFnGenerator(Org , ndp.roc - (1.2*ndp.MANTLETOCRUST)) #... weak zone on 'outside' of slab\n",
    "Hc = inCircleFnGenerator(Org , ndp.roc - ndp.HARZBURGDEPTH) #... Harzburgite layer \n",
    "dx = (ndp.roc)/(np.math.tan((np.math.pi/180.)*phi))\n",
    "\n",
    "#We'll also create a triangle which will truncate the circles defining the slab...\n",
    "if dp.sense == 'Left':\n",
    "    ptx = ndp.subzone - dx\n",
    "else:\n",
    "    ptx = ndp.subzone + dx\n",
    "coords = ((0.+ ndp.subzone, MAXY), (0.+ ndp.subzone, MAXY-ndp.roc), (ptx, MAXY))\n",
    "Tri = fn.shape.Polygon(np.array(coords))\n",
    "\n",
    "#Actually apply the perturbation - could probably avoid particle walk here\n",
    "if not symmetricIC:\n",
    "    if not checkpointLoad:\n",
    "        sdFn = ((ndp.roc - fn.math.sqrt((coordinate[0] - Org[0])**2. + (coordinate[1] - Org[1])**2.)))\n",
    "        slabFn = ndp.TPP*fn.math.erf((sdFn*dp.LS)/(2.*math.sqrt(dp.k*ageAtTrenchSeconds))) + ndp.TSP\n",
    "        for index, coord in enumerate(mesh.data):\n",
    "            if (\n",
    "                Oc.evaluate(tuple(coord)) and\n",
    "                Tri.evaluate(tuple(coord)) and not\n",
    "                Ic.evaluate(tuple(coord)) and\n",
    "                coord[1] > (MAXY - ndp.maxDepth)\n",
    "                ): #In the quarter-circle defining the lithosphere\n",
    "                temperatureField.data[index] = slabFn.evaluate(mesh)[index]\n"
   ]
  },
  {
   "cell_type": "code",
   "execution_count": 121,
   "metadata": {
    "collapsed": false
   },
   "outputs": [],
   "source": [
    "#sdFn = ((RocM - fn.math.sqrt((coordinate[0] - Org[0])**2. + (coordinate[1] - Org[1])**2.)))\n",
    "#slabFn = ndp.TPP*fn.math.erf((sdFn*dp.LS)/(2.*math.sqrt(dp.k*ageAtTrenchSeconds))) + ndp.TSP\n",
    "#sdFn, slabFn"
   ]
  },
  {
   "cell_type": "code",
   "execution_count": 122,
   "metadata": {
    "collapsed": false
   },
   "outputs": [],
   "source": [
    "#Make sure material in sticky air region is at the surface temperature.\n",
    "for index, coord in enumerate(mesh.data):\n",
    "            if coord[1] >= MAXY:\n",
    "                temperatureField.data[index] = ndp.TSP"
   ]
  },
  {
   "cell_type": "code",
   "execution_count": 123,
   "metadata": {
    "collapsed": false
   },
   "outputs": [],
   "source": [
    "#fn.math.erf((sdFn*dp.LS)/(2.*fn.math.sqrt(dp.k*(slabmaxAge*(3600*24*365))))) \n",
    "#CRUSTVISCUTOFF, MANTLETOCRUST*3"
   ]
  },
  {
   "cell_type": "markdown",
   "metadata": {
    "collapsed": false
   },
   "source": [
    "def matplot_field(temperatureField, dp):\n",
    "    if uw.nProcs() != 1:\n",
    "        print(\"only in Serial folks\")\n",
    "    else:\n",
    "        import matplotlib.pyplot as pyplt\n",
    "        try :\n",
    "            if(__IPYTHON__) :\n",
    "                get_ipython().magic(u'matplotlib inline')\n",
    "        except NameError :\n",
    "            pass\n",
    "        field_data = temperatureField.data.reshape(mesh.elementRes[1] + 1, mesh.elementRes[0] + 1)\n",
    "        fig, ax = pyplt.subplots(figsize=(32,2))\n",
    "        ql = dp.LS/1e3\n",
    "        pyplt.ioff()\n",
    "        cax =ax.imshow(np.flipud(field_data), cmap='coolwarm', aspect = 0.5, extent=[0,ql*aspectRatio,ql, 0])\n",
    "        fig.colorbar(cax, orientation='horizontal' )\n",
    "        #ax.set_x([0,dp.LS*aspectRatio])\n",
    "        pyplt.tight_layout()\n",
    "        \n",
    "        return fig, ax\n",
    "        \n",
    "fig, ax = matplot_field(temperatureField, dp)\n",
    "fig.savefig('test.png')       "
   ]
  },
  {
   "cell_type": "code",
   "execution_count": 124,
   "metadata": {
    "collapsed": false
   },
   "outputs": [
    {
     "data": {
      "text/plain": [
       "(0.0, 1.0)"
      ]
     },
     "execution_count": 124,
     "metadata": {},
     "output_type": "execute_result"
    }
   ],
   "source": [
    "temperatureField.data.min(), temperatureField.data.max()"
   ]
  },
  {
   "cell_type": "code",
   "execution_count": null,
   "metadata": {
    "collapsed": false
   },
   "outputs": [],
   "source": [
    "\n"
   ]
  },
  {
   "cell_type": "code",
   "execution_count": 125,
   "metadata": {
    "collapsed": false
   },
   "outputs": [],
   "source": [
    "\n",
    "#ageFn = age_fn(xFn)"
   ]
  },
  {
   "cell_type": "code",
   "execution_count": 126,
   "metadata": {
    "collapsed": false
   },
   "outputs": [],
   "source": [
    "\n",
    "#fig= glucifer.Figure(quality=3)\n",
    "\n",
    "#fig.append( glucifer.objects.Surface(mesh,temperatureField ))\n",
    "#fig.append( glucifer.objects.Mesh(mesh))\n",
    "#fig.show()\n",
    "\n",
    "##fig.save_database('test.gldb')\n",
    "#fig.save_image('test.png')\n"
   ]
  },
  {
   "cell_type": "markdown",
   "metadata": {},
   "source": [
    "Boundary conditions\n",
    "-------"
   ]
  },
  {
   "cell_type": "code",
   "execution_count": 127,
   "metadata": {
    "collapsed": false
   },
   "outputs": [
    {
     "name": "stdout",
     "output_type": "stream",
     "text": [
      "2\n"
     ]
    }
   ],
   "source": [
    "for index in mesh.specialSets[\"MinJ_VertexSet\"]:\n",
    "    temperatureField.data[index] = ndp.TBP\n",
    "for index in mesh.specialSets[\"MaxJ_VertexSet\"]:\n",
    "    temperatureField.data[index] = ndp.TSP\n",
    "    \n",
    "iWalls = mesh.specialSets[\"MinI_VertexSet\"] + mesh.specialSets[\"MaxI_VertexSet\"]\n",
    "jWalls = mesh.specialSets[\"MinJ_VertexSet\"] + mesh.specialSets[\"MaxJ_VertexSet\"]\n",
    "tWalls = mesh.specialSets[\"MaxJ_VertexSet\"]\n",
    "bWalls =mesh.specialSets[\"MinJ_VertexSet\"]\n",
    "\n",
    "VelBCs = mesh.specialSets[\"Empty\"]\n",
    "\n",
    "\n",
    "\n",
    "if VelBC:\n",
    "    for index in list(tWalls.data):\n",
    "\n",
    "        if (mesh.data[int(index)][0] < (ndp.subzone - 0.05*aspectRatio) and \n",
    "            mesh.data[int(index)][0] > (mesh.minCoord[0] + 0.05*aspectRatio)): #Only push with a portion of teh overiding plate\n",
    "            #print \"first\"\n",
    "            VelBCs.add(int(index))\n",
    "            #Set the plate velocities for the kinematic phase\n",
    "            velocityField.data[index] = [ndp.plate_vel, 0.]\n",
    "        \n",
    "        elif (mesh.data[int(index)][0] > (ndp.subzone + 0.05*aspectRatio) and \n",
    "            mesh.data[int(index)][0] < (mesh.maxCoord[0] - 0.05*aspectRatio)):\n",
    "            #print \"second\"\n",
    "            VelBCs.add(int(index))\n",
    "            #Set the plate velocities for the kinematic phase\n",
    "            velocityField.data[index] = [0., 0.]\n",
    "        \n",
    "\n",
    "#If periodic, we'll fix a the x-vel at a single node - at the bottom left (index 0)\n",
    "Fixed = mesh.specialSets[\"Empty\"]\n",
    "Fixed.add(int(0))        \n",
    "        \n",
    "\n",
    "if periodic[0] == False:\n",
    "    if VelBC:\n",
    "        print(1)\n",
    "        freeslipBC = uw.conditions.DirichletCondition( variable      = velocityField, \n",
    "                                               indexSetsPerDof = ( iWalls + VelBCs, jWalls) )\n",
    "    else:\n",
    "        print(2)\n",
    "        freeslipBC = uw.conditions.DirichletCondition( variable      = velocityField, \n",
    "                                               indexSetsPerDof = ( iWalls, jWalls) )\n",
    "\n",
    "\n",
    "\n",
    "\n",
    "\n",
    "\n",
    "if periodic[0] == True:\n",
    "    if VelBC:\n",
    "        print(3)\n",
    "        freeslipBC = uw.conditions.DirichletCondition( variable      = velocityField, \n",
    "                                               indexSetsPerDof = ( Fixed + VelBCs , jWalls) )\n",
    "    else:\n",
    "        print(4)\n",
    "        freeslipBC = uw.conditions.DirichletCondition( variable      = velocityField, \n",
    "                                               indexSetsPerDof = ( Fixed, jWalls) )\n",
    "        \n",
    "    \n",
    "    \n",
    "    \n",
    "# also set dirichlet for temp field\n",
    "dirichTempBC = uw.conditions.DirichletCondition(     variable=temperatureField, \n",
    "                                              indexSetsPerDof=(tWalls,) )\n",
    "dT_dy = [0.,0.]\n",
    "\n",
    "# also set dirichlet for temp field\n",
    "neumannTempBC = uw.conditions.NeumannCondition( dT_dy, variable=temperatureField, \n",
    "                                         nodeIndexSet=bWalls)\n",
    "\n"
   ]
  },
  {
   "cell_type": "code",
   "execution_count": null,
   "metadata": {
    "collapsed": false
   },
   "outputs": [],
   "source": []
  },
  {
   "cell_type": "code",
   "execution_count": 128,
   "metadata": {
    "collapsed": false
   },
   "outputs": [],
   "source": [
    "#check VelBCs are where we want them\n",
    "#test = np.zeros(len(tWalls.data))\n",
    "#VelBCs\n",
    "#tWalls.data\n",
    "#tWalls.data[VelBCs.data]\n",
    "#test[np.in1d(tWalls.data, VelBCs.data)] = 1.\n",
    "#test\n",
    "\n"
   ]
  },
  {
   "cell_type": "code",
   "execution_count": null,
   "metadata": {
    "collapsed": false
   },
   "outputs": [],
   "source": []
  },
  {
   "cell_type": "markdown",
   "metadata": {},
   "source": [
    "Swarm setup\n",
    "-----\n"
   ]
  },
  {
   "cell_type": "code",
   "execution_count": 129,
   "metadata": {
    "collapsed": false
   },
   "outputs": [],
   "source": [
    "###########\n",
    "#Material Swarm and variables\n",
    "###########\n",
    "\n",
    "#create material swarm\n",
    "gSwarm = uw.swarm.Swarm(mesh=mesh, particleEscape=True)\n",
    "\n",
    "#create swarm variables\n",
    "yieldingCheck = gSwarm.add_variable( dataType=\"int\", count=1 )\n",
    "#tracerVariable = gSwarm.add_variable( dataType=\"int\", count=1)\n",
    "materialVariable = gSwarm.add_variable( dataType=\"int\", count=1 )\n",
    "ageVariable = gSwarm.add_variable( dataType=\"double\", count=1 )\n",
    "#testVariable = gSwarm.add_variable( dataType=\"float\", count=1 )\n",
    "\n",
    "\n",
    "#these lists  are part of the checkpointing implementation\n",
    "varlist = [materialVariable, yieldingCheck, ageVariable]\n",
    "varnames = ['materialVariable', 'yieldingCheck', 'ageVariable']"
   ]
  },
  {
   "cell_type": "code",
   "execution_count": 130,
   "metadata": {
    "collapsed": false
   },
   "outputs": [],
   "source": [
    "mantleIndex = 0\n",
    "crustIndex = 1\n",
    "harzIndex = 2\n",
    "airIndex = 3\n",
    "\n",
    "\n",
    "\n",
    "if checkpointLoad:\n",
    "    temperatureField.load(os.path.join(checkpointLoadDir, \"temperatureField\" + \".hdf5\"))\n",
    "    pressureField.load(os.path.join(checkpointLoadDir, \"pressureField\" + \".hdf5\"))\n",
    "    velocityField.load(os.path.join(checkpointLoadDir, \"velocityField\" + \".hdf5\"))\n",
    "    gSwarm.load(os.path.join(checkpointLoadDir, \"swarm\" + \".h5\"))\n",
    "    for ix in range(len(varlist)):\n",
    "        varb = varlist[ix]\n",
    "        varb.load(os.path.join(checkpointLoadDir,varnames[ix] + \".h5\"))\n",
    "\n",
    "else:\n",
    "\n",
    "    # Layouts are used to populate the swarm across the whole domain\n",
    "    layout = uw.swarm.layouts.PerCellRandomLayout(swarm=gSwarm, particlesPerCell=ppc)\n",
    "    gSwarm.populate_using_layout( layout=layout ) # Now use it to populate.\n",
    "    # Swarm variables\n",
    "    materialVariable.data[:] = mantleIndex\n",
    "    #tracerVariable.data[:] = 1\n",
    "    yieldingCheck.data[:] = 0\n",
    "    ageVariable.data[:] = -1\n",
    "\n",
    "    #Set initial air and crust materials (allow the graph to take care of lithsophere)\n",
    "    #########\n",
    "    #This initial material setup will be model dependent\n",
    "    #########\n",
    "    for particleID in range(gSwarm.particleCoordinates.data.shape[0]):\n",
    "        if (1. - gSwarm.particleCoordinates.data[particleID][1]) < ndp.MANTLETOCRUST:\n",
    "                 materialVariable.data[particleID] = crustIndex"
   ]
  },
  {
   "cell_type": "markdown",
   "metadata": {
    "collapsed": false
   },
   "source": [
    "###########\n",
    "#This block sets up a checkboard layout of passive tracers\n",
    "###########\n",
    "\n",
    "square_size = 0.1\n",
    "xlist = np.arange(mesh.minCoord[0] + square_size/2., mesh.maxCoord[0] + square_size/2., square_size)\n",
    "xlist = zip(xlist[:], xlist[1:])[::2]\n",
    "ylist = np.arange(mesh.minCoord[1] + square_size/2., mesh.maxCoord[1] + square_size/2., square_size)\n",
    "ylist = zip(ylist[:], ylist[1:])[::2]\n",
    "xops = []\n",
    "for vals in xlist:\n",
    "    xops.append( (operator.and_(   operator.gt(coordinate[0],vals[0]),   operator.lt(coordinate[0],vals[1])  ),0.) )\n",
    "xops.append((True,1.))\n",
    "\n",
    "testfunc = fn.branching.conditional(xops) \n",
    "\n",
    "yops = []\n",
    "for vals in ylist:\n",
    "    yops.append( (operator.and_(   operator.gt(coordinate[1],vals[0]),   operator.lt(coordinate[1],vals[1])  ),0.) )\n",
    "yops.append((True,testfunc))\n",
    "\n",
    "testfunc2 = fn.branching.conditional(yops) \n",
    "tracerVariable.data[:] = testfunc.evaluate(gSwarm)\n",
    "tracerVariable.data[:] = testfunc2.evaluate(gSwarm)"
   ]
  },
  {
   "cell_type": "code",
   "execution_count": null,
   "metadata": {
    "collapsed": false
   },
   "outputs": [],
   "source": []
  },
  {
   "cell_type": "code",
   "execution_count": 131,
   "metadata": {
    "collapsed": false
   },
   "outputs": [],
   "source": [
    "##############\n",
    "#Set the initial particle age for particles above the critical depth; \n",
    "#only material older than crustageCond will be transformed to crust / harzburgite\n",
    "##############\n",
    "\n",
    "ageVariable.data[:] = 0. #start with all zero\n",
    "ageVariable.data[:] = ageFn.evaluate(gSwarm)/sf.SR\n",
    "crustageCond = 2e6*(3600.*365.*24.)/sf.SR #set inital age above critical depth. (x...Ma)\n",
    "\n",
    "\n",
    "\n",
    "ageConditions = [ (depthFn < ndp.AGETRACKDEPTH, ageVariable),  #In the main loop we add ageVariable + dt here\n",
    "                  (True, 0.) ]\n",
    "                 \n",
    "#apply conditional \n",
    "ageVariable.data[:] = fn.branching.conditional( ageConditions ).evaluate(gSwarm)\n",
    "\n",
    "ageDT = 0.#this is used in the main loop for short term time increments"
   ]
  },
  {
   "cell_type": "code",
   "execution_count": 132,
   "metadata": {
    "collapsed": false
   },
   "outputs": [],
   "source": [
    "#fig= glucifer.Figure()\n",
    "#fig.append( glucifer.objects.Points(gSwarm,ageVariable))\n",
    "#fig.append( glucifer.objects.Points(gSwarm, viscosityMapFn, logScale=True, valueRange =[1e-3,1e5]))\n",
    "\n",
    "\n",
    "#fig.show()"
   ]
  },
  {
   "cell_type": "code",
   "execution_count": 133,
   "metadata": {
    "collapsed": false
   },
   "outputs": [],
   "source": [
    "##############\n",
    "#Here we set up a directed graph object that we we use to control the transformation from one material type to another\n",
    "##############\n",
    "\n",
    "#All depth conditions are given as (km/D) where D is the length scale,\n",
    "#note that 'model depths' are used, e.g. 1-z, where z is the vertical Underworld coordinate\n",
    "#All temp conditions are in dimensionless temp. [0. - 1.]\n",
    "\n",
    "#Need a list of all material indexes (safer in parallel)\n",
    "material_list = [0,1,2,3]\n",
    "\n",
    "if not checkpointLoad:\n",
    "    materialVariable.data[:] = 0 #Initialize to zero \n",
    "\n",
    "#Setup the graph object\n",
    "DG = material_graph.MatGraph()\n",
    "\n",
    "#Important: First thing to do is to add all the material types to the graph (i.e add nodes)\n",
    "DG.add_nodes_from(material_list)\n",
    "\n",
    "#Now set the conditions for transformations\n",
    "\n",
    "hs = 2e3/dp.LS  #add some hysteresis to the depths of transition\n",
    "\n",
    "#... to mantle\n",
    "DG.add_transition((crustIndex,mantleIndex), depthFn, operator.gt, ndp.CRUSTTOMANTLE + hs)\n",
    "DG.add_transition((harzIndex,mantleIndex), depthFn, operator.gt, ndp.CRUSTTOMANTLE + hs)\n",
    "DG.add_transition((airIndex,mantleIndex), depthFn, operator.gt, ndp.TOPOHEIGHT + hs)\n",
    "\n",
    "#... to crust\n",
    "DG.add_transition((mantleIndex,crustIndex), depthFn, operator.lt, ndp.MANTLETOCRUST)\n",
    "DG.add_transition((mantleIndex,crustIndex), xFn, operator.lt, ndp.subzone + 4.*ndp.MANTLETOCRUST) #No crust on the upper plate\n",
    "DG.add_transition((mantleIndex,crustIndex), ageVariable, operator.gt, crustageCond)\n",
    "\n",
    "\n",
    "DG.add_transition((harzIndex,crustIndex), depthFn, operator.lt, ndp.MANTLETOCRUST)\n",
    "DG.add_transition((harzIndex,crustIndex), xFn, operator.lt, ndp.subzone + 4.*ndp.MANTLETOCRUST) #This one sets no crust on the upper plate\n",
    "DG.add_transition((harzIndex,crustIndex), ageVariable, operator.gt, crustageCond)\n",
    "\n",
    "#... to Harzbugite\n",
    "DG.add_transition((mantleIndex,harzIndex), depthFn, operator.lt, ndp.HARZBURGDEPTH)\n",
    "DG.add_transition((mantleIndex,harzIndex), depthFn, operator.gt, ndp.MANTLETOCRUST)\n",
    "DG.add_transition((mantleIndex,harzIndex), ageVariable, operator.gt, crustageCond) #Note we can mix functions and swarm variabls\n",
    "\n",
    "\n",
    "\n",
    "#... to air\n",
    "DG.add_transition((mantleIndex,airIndex), depthFn, operator.lt,0.)\n",
    "DG.add_transition((crustIndex,airIndex), depthFn, operator.lt, 0. )\n",
    "DG.add_transition((harzIndex,airIndex), depthFn, operator.lt, 0. )\n"
   ]
  },
  {
   "cell_type": "code",
   "execution_count": 134,
   "metadata": {
    "collapsed": false
   },
   "outputs": [],
   "source": [
    "#CRUSTTOMANTLE, HARZBURGDEPTH, 0. + 7.*MANTLETOCRUST"
   ]
  },
  {
   "cell_type": "code",
   "execution_count": 135,
   "metadata": {
    "collapsed": false
   },
   "outputs": [],
   "source": [
    "#gSwarm.particleCoordinates.data[particleID][1]"
   ]
  },
  {
   "cell_type": "code",
   "execution_count": 136,
   "metadata": {
    "collapsed": false
   },
   "outputs": [],
   "source": [
    "##############\n",
    "#For the slab_IC, we'll also add a crustal weak zone following the dipping perturbation\n",
    "##############\n",
    "\n",
    "if checkpointLoad != True:\n",
    "    if not symmetricIC:\n",
    "        for particleID in range(gSwarm.particleCoordinates.data.shape[0]):\n",
    "            if gSwarm.particleCoordinates.data[particleID][1] < 0.:\n",
    "                materialVariable.data[particleID] = airIndex\n",
    "                \n",
    "            elif (\n",
    "                Oc.evaluate(list(gSwarm.particleCoordinates.data[particleID])) and\n",
    "                Tri.evaluate(list(gSwarm.particleCoordinates.data[particleID])) and\n",
    "                gSwarm.particleCoordinates.data[particleID][1] > (MAXY - ndp.maxDepth) and\n",
    "                Cc.evaluate(list(gSwarm.particleCoordinates.data[particleID])) == False\n",
    "                \n",
    "                ):\n",
    "                materialVariable.data[particleID] = crustIndex\n",
    "                \n",
    "            elif (\n",
    "                Oc.evaluate(list(gSwarm.particleCoordinates.data[particleID])) and\n",
    "                Tri.evaluate(list(gSwarm.particleCoordinates.data[particleID])) and\n",
    "                gSwarm.particleCoordinates.data[particleID][1] > (MAXY - ndp.maxDepth) and\n",
    "                Hc.evaluate(list(gSwarm.particleCoordinates.data[particleID])) == False\n",
    "                \n",
    "                ):\n",
    "                materialVariable.data[particleID] = harzIndex"
   ]
  },
  {
   "cell_type": "code",
   "execution_count": 137,
   "metadata": {
    "collapsed": false
   },
   "outputs": [],
   "source": [
    "##############\n",
    "#This is how we use the material graph object to test / apply material transformations\n",
    "##############\n",
    "DG.build_condition_list(materialVariable)\n",
    "\n",
    "for i in range(2): #Need to go through a number of times\n",
    "    materialVariable.data[:] = fn.branching.conditional(DG.condition_list).evaluate(gSwarm)"
   ]
  },
  {
   "cell_type": "code",
   "execution_count": 138,
   "metadata": {
    "collapsed": false
   },
   "outputs": [],
   "source": [
    "#maxDepth"
   ]
  },
  {
   "cell_type": "code",
   "execution_count": 139,
   "metadata": {
    "collapsed": false
   },
   "outputs": [],
   "source": [
    "#fig2= glucifer.Figure()\n",
    "#fig2.append( glucifer.objects.Points(gSwarm,materialVariable))\n",
    "#fig2.append( glucifer.objects.Surface(mesh, depthFn))\n",
    "\n",
    "#fig2.show()\n",
    "#fig2.save_database('test.gldb')"
   ]
  },
  {
   "cell_type": "markdown",
   "metadata": {
    "collapsed": false
   },
   "source": [
    "## Fault stuff\n",
    "\n"
   ]
  },
  {
   "cell_type": "code",
   "execution_count": 140,
   "metadata": {
    "collapsed": true
   },
   "outputs": [],
   "source": [
    "import marker2D"
   ]
  },
  {
   "cell_type": "code",
   "execution_count": 141,
   "metadata": {
    "collapsed": true
   },
   "outputs": [],
   "source": [
    "def update_swarm_from_faults(faults, proximityVariable, normalVectorVariable, signedDistanceVariable):\n",
    "    \"\"\"\n",
    "    Compute fault attributes from the marker-line objects in the 'faults' list.\n",
    "    Specifically:\n",
    "    \n",
    "      - proximityVariable carries information about which fault each swarm particle is close to (0 means none)\n",
    "      - normalVectorVariable maps the orientation of the fault to nearby swarm particles\n",
    "      - signedDistanceVariable carries the distance (positive means 'inside')  \n",
    "      \n",
    "      Unchecked error: if these variables are from different swarms \n",
    "      \n",
    "    \"\"\"\n",
    "    \n",
    "    for fault_seg in faults:\n",
    "\n",
    "        swarm = proximityVariable.swarm\n",
    "        \n",
    "        f, nz = fault_seg.compute_marker_proximity(swarm.particleCoordinates.data)    \n",
    "        proximityVariable.data[nz] = f[nz]\n",
    "\n",
    "        dv, nzv = fault_seg.compute_normals(swarm.particleCoordinates.data)\n",
    "        normalVectorVariable.data[nzv] = dv[nzv]\n",
    "\n",
    "        sd, dnz = fault_seg.compute_signed_distance(swarm.particleCoordinates.data)\n",
    "        signedDistanceVariable.data[dnz] = sd[dnz]\n",
    "    \n",
    "    return\n",
    "\n",
    "\n",
    "def update_swarm_from_line(fault, signedDistanceVariable):\n",
    "    \"\"\"\n",
    "    Compute fault attributes from the marker-line objects in the 'faults' list.\n",
    "    Specifically:\n",
    "    \n",
    "      - proximityVariable carries information about which fault each swarm particle is close to (0 means none)\n",
    "      - normalVectorVariable maps the orientation of the fault to nearby swarm particles\n",
    "      - signedDistanceVariable carries the distance (positive means 'inside')  \n",
    "      \n",
    "      Unchecked error: if these variables are from different swarms \n",
    "      \n",
    "    \"\"\"\n",
    "        \n",
    "    sd, dnz = fault.compute_signed_distance(gSwarm.particleCoordinates.data)\n",
    "    signedDistanceVariable.data[dnz] = sd[dnz]\n",
    "    \n",
    "    return\n",
    "\n",
    "\n",
    "def mask_materials(fault, material, materialVariable, proximityVariable, normalVectorVariable, signedDistanceVariable):\n",
    "\n",
    "    \"\"\"\n",
    "    set the key fault-related swarm variabels to zero, based on material typr\n",
    "    \"\"\"\n",
    "    \n",
    "    fptsMask1 = (materialVariable.data[:,0] != material)\n",
    "    fptsMask2 = (proximityVariable.data[:,0] == fault.ID )\n",
    "\n",
    "    fptsMaskOut = fptsMask1 & fptsMask2\n",
    "\n",
    "    normalVectorVariable.data[fptsMaskOut,:] = [0.0,0.0]\n",
    "    proximityVariable.data[fptsMaskOut] = 0\n",
    "    signedDistanceVariable.data[fptsMaskOut] = 0.0\n",
    "    \n",
    "    \n",
    "def fault_strainrate_fns(fault_list, velocityField, faultNormalVariable, proximityproVariable):\n",
    "\n",
    "    ## This is a quick / short cut way to find the resolved stress components.\n",
    "    \n",
    "    strainRateFn = fn.tensor.symmetric( velocityField.fn_gradient )\n",
    "\n",
    "\n",
    "    #  n1 * edot_11 * n1 + \n",
    "    #  n2 * edot_21 * n1 + \n",
    "    #  n1 * edot_21 * n2 +\n",
    "    #  n2 * edot_22 * n2 \n",
    "\n",
    "#     _edotn_SFn = ( directorVector[0] * strainRateFn[0] * directorVector[0] + \n",
    "#                    directorVector[1] * strainRateFn[2] * directorVector[0] + # Symmetry !! \n",
    "#                    directorVector[0] * strainRateFn[2] * directorVector[1] + \n",
    "#                    directorVector[1] * strainRateFn[1] * directorVector[1]                          \n",
    "#                 )\n",
    "    \n",
    "    \n",
    "    ## \"OPTIMIZED\" VERSION\n",
    "    \n",
    "    _edotn_SFn = (        directorVector[0]**2 * strainRateFn[0]  + \n",
    "                    2.0 * directorVector[1]    * strainRateFn[2] * directorVector[0] + \n",
    "                          directorVector[1]**2 * strainRateFn[1]                          \n",
    "                ) \n",
    "\n",
    "    # any non-zero proximity requires the computation of the above\n",
    "    \n",
    "    _edotn_SFn_Map    = { 0: 0.0 }\n",
    "    for f in fault_list:\n",
    "        _edotn_SFn_Map[f.ID] =  _edotn_SFn\n",
    "\n",
    "\n",
    "    #  s1 = -n2\n",
    "    #  s2 =  n1\n",
    "    #\n",
    "    # -n2 * edot_11 * n1 + \n",
    "    #  n1 * edot_21 * n1 + \n",
    "    # -n2 * edot_21 * n2 + \n",
    "    #  n1 * edot_22 * n2     \n",
    "\n",
    "#     _edots_SFn = ( -directorVector[1] * strainRateFn[0] * directorVector[0] + \n",
    "#                     directorVector[0] * strainRateFn[2] * directorVector[0] + \n",
    "#                    -directorVector[1] * strainRateFn[2] * directorVector[1] + \n",
    "#                     directorVector[0] * strainRateFn[1] * directorVector[1] \n",
    "#                 )\n",
    "    \n",
    "    ## \"OPTIMIZED\" VERSION\n",
    "\n",
    "   \n",
    "    _edots_SFn = (  directorVector[0] *  directorVector[1] *(strainRateFn[1] - strainRateFn[0]) +\n",
    "                    strainRateFn[2] * (directorVector[0]**2 - directorVector[1]**2)\n",
    "                 )\n",
    "    \n",
    "  \n",
    "    _edots_SFn_Map = { 0: 1.0e-15 }\n",
    "    \n",
    "    for f in fault_list:\n",
    "        _edots_SFn_Map[f.ID] =  _edots_SFn\n",
    "        \n",
    "        \n",
    "    #Finally, map the resolved strain rate to the proximity variable, \n",
    "    #which also makes resolved strain rate zero whereever proximity variable is zero \n",
    "\n",
    "\n",
    "    edotn_SFn =     fn.branching.map( fn_key = proximityVariable, \n",
    "                                      mapping = _edotn_SFn_Map)\n",
    "\n",
    "\n",
    "    edots_SFn =     fn.branching.map( fn_key = proximityVariable, \n",
    "                                      mapping = _edots_SFn_Map )\n",
    "\n",
    "    \n",
    "    return edotn_SFn, edots_SFn\n",
    "\n",
    "\n",
    "## Time update\n",
    "\n",
    "def faults_advance_in_time(faults,proximityVariable, directorVector, signedDistanceVariable, materialVariable, mmask):\n",
    "    for f in faults:\n",
    "        f.advection(dt)\n",
    "\n",
    "\n",
    "    update_swarm_from_faults(faults, proximityVariable, directorVector, signedDistanceVariable)\n",
    "    mask_materials(materialV, materialVariable, proximityVariable, directorVector, signedDistanceVariable)"
   ]
  },
  {
   "cell_type": "code",
   "execution_count": 142,
   "metadata": {
    "collapsed": true
   },
   "outputs": [],
   "source": [
    "introPoint = ndp.subzone - abs(ndp.subzone - ndp.lRidge)/2. #half way between ridge and Sz\n",
    "fthickness = ndp.MANTLETOCRUST/2. #initiale fault at half-depth of crust\n",
    "nfault = 200\n",
    "faultCoords =np.zeros((nfault, 2))\n",
    "\n",
    "reducedRocM = ndp.roc  - fthickness\n",
    "xlimslab = reducedRocM*math.cos(math.pi*(90. - dp.theta)/180)\n",
    "faultCoords[:, 0] = np.linspace(introPoint, ndp.subzone + xlimslab, nfault) #note SZ location is hardcoded here \n",
    "for index, xval in np.ndenumerate(faultCoords[:,0]):\n",
    "    #print index, xval\n",
    "    #swarmCoords[index[0], 1] = 1. - isodepthFn.evaluate((xval, 0.)) #This bit for the plate \n",
    "    if  xval < 0.:\n",
    "        faultCoords[index[0], 1] = 1. - fthickness #This bit for the plate \n",
    "        \n",
    "    else:\n",
    "        faultCoords[index[0], 1] = (1. - (fthickness) - (reducedRocM - ( math.sqrt((reducedRocM**2 - xval**2)))))\n",
    "        \n",
    "    \n",
    "faultCoords = faultCoords[faultCoords[:,1] > (1. - ndp.maxDepth)] #kill any deeper than cutoff\n",
    "\n",
    "\n",
    "\n",
    "\n",
    "#surface tracer:\n",
    "\n",
    "surfaceCoords =np.ones((nfault, 2))*1.\n",
    "surfaceCoords[:,0] = np.linspace(MINX, MAXX, nfault)"
   ]
  },
  {
   "cell_type": "code",
   "execution_count": 143,
   "metadata": {
    "collapsed": false
   },
   "outputs": [],
   "source": [
    "#from unsupported.interfaces import markerLine2D\n",
    "faults = []\n",
    "fault_seg  = marker2D.markerLine2D(mesh, velocityField, faultCoords[:, 0], faultCoords[:, 1], fthickness, 0.0, 0.0, crustIndex)\n",
    "faults.append(fault_seg)\n",
    "\n",
    "fault_seg  = marker2D.markerLine2D(mesh, velocityField, surfaceCoords[:, 0], surfaceCoords[:, 1], ndp.StALS, 0.0, 0.0, airIndex)\n",
    "faults.append(fault_seg)\n",
    "\n",
    "\n",
    "#Add the necessary swarm variables\n",
    "\n",
    "proximityVariable      = gSwarm.add_variable( dataType=\"int\", count=1 )\n",
    "signedDistanceVariable = gSwarm.add_variable( dataType=\"float\", count=1 )\n",
    "directorVector   = gSwarm.add_variable( dataType=\"double\", count=2)\n",
    "\n",
    "directorVector.data[:,:] = 0.0\n",
    "proximityVariable.data[:] = 0\n",
    "signedDistanceVariable.data[:] = 0.0\n",
    "\n",
    "\n",
    "\n",
    "# Call the Fault helper functions to initialize this info on the main material swarm\n",
    "\n",
    "    \n",
    "    \n",
    "update_swarm_from_faults(faults[1:], proximityVariable, directorVector, signedDistanceVariable)\n",
    "mask_materials(faults[1], airIndex, materialVariable, proximityVariable, directorVector, signedDistanceVariable)\n",
    "\n",
    "\n",
    "update_swarm_from_faults(faults[0:-1], proximityVariable, directorVector, signedDistanceVariable)\n",
    "mask_materials(faults[0], crustIndex, materialVariable, proximityVariable, directorVector, signedDistanceVariable)\n",
    "\n",
    "#Also switch off proximity beneath ndp.CRUSTVISCUTOFF depth\n",
    "proximityVariable.data[gSwarm.particleCoordinates.data[:,1]  < (1. - ndp.CRUSTVISCUTOFF)] = 0. \n",
    "\n",
    "\n",
    "# These should be general enough not to need updating when the faults move etc..\n",
    "#ie they should update as the fields/functions/swarm variables they are built on update\n",
    "edotn_SFn, edots_SFn = fault_strainrate_fns(faults, velocityField, directorVector, proximityVariable)"
   ]
  },
  {
   "cell_type": "code",
   "execution_count": null,
   "metadata": {
    "collapsed": false
   },
   "outputs": [],
   "source": []
  },
  {
   "cell_type": "code",
   "execution_count": 144,
   "metadata": {
    "collapsed": false
   },
   "outputs": [
    {
     "data": {
      "text/html": [
       "<img src='data:image/png;base64,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'>"
      ],
      "text/plain": [
       "<IPython.core.display.HTML object>"
      ]
     },
     "metadata": {},
     "output_type": "display_data"
    },
    {
     "data": {
      "text/plain": [
       "'test.gldb'"
      ]
     },
     "execution_count": 144,
     "metadata": {},
     "output_type": "execute_result"
    }
   ],
   "source": [
    "## Take a look at the locations of the materials\n",
    "\n",
    "\n",
    "#Note we only use this mesh director for visualizing the directorVector (vector-on-swarm viewing not suppoted yet)\n",
    "meshDirector = uw.mesh.MeshVariable( mesh, 2 )\n",
    "projectDirector = uw.utils.MeshVariable_Projection( meshDirector, directorVector, type=1 )\n",
    "projectDirector.solve()    \n",
    "\n",
    "figMaterials = glucifer.Figure( figsize=(1200,400), boundingBox=((-2.0, -0.0, 0.0), (2.0, 1.0, 0.0)) )\n",
    "\n",
    "#Plot swarm associated with each fault\n",
    "for f in faults:\n",
    "    figMaterials.append( glucifer.objects.Points(f.swarm, colours=\"Black Black\", pointSize=2.0, colourBar=False) )\n",
    "\n",
    "\n",
    "#plot mesh director viz. guy\n",
    "figMaterials.append( glucifer.objects.VectorArrows(mesh, meshDirector, scaling=.08, \n",
    "                                               resolutionI=100, resolutionJ=20, opacity=0.25) )\n",
    "\n",
    "\n",
    "#Proximity variable - this is the colour\n",
    "figMaterials.append( glucifer.objects.Points(gSwarm, proximityVariable, \n",
    "                                             pointSize=5.0,  opacity=0.75) )\n",
    "\n",
    "\n",
    "#signedDistanceVariable - this variable goes to zero where the proximity cutoff is\n",
    "#note that it's signed...faults have a direction\n",
    "#figMaterials.append( glucifer.objects.Points(gSwarm, signedDistanceVariable, \n",
    "#                                             pointSize=2.0))\n",
    "\n",
    "#Add mesh\n",
    "#figMaterials.append( glucifer.objects.Mesh(mesh, opacity=0.1) )\n",
    "\n",
    "figMaterials.show()\n",
    "figMaterials.save_database('test.gldb')"
   ]
  },
  {
   "cell_type": "markdown",
   "metadata": {},
   "source": [
    "Rheology\n",
    "-----\n",
    "\n"
   ]
  },
  {
   "cell_type": "code",
   "execution_count": 145,
   "metadata": {
    "collapsed": false
   },
   "outputs": [],
   "source": [
    "##############\n",
    "#Set up any functions required by the rheology\n",
    "##############\n",
    "strainRate_2ndInvariant = fn.tensor.second_invariant( \n",
    "                            fn.tensor.symmetric( \n",
    "                            velocityField.fn_gradient ))\n",
    "\n",
    "def safe_visc(func, viscmin=ndp.eta_min, viscmax=ndp.eta_max):\n",
    "    return fn.misc.max(viscmin, fn.misc.min(viscmax, func))"
   ]
  },
  {
   "cell_type": "code",
   "execution_count": 146,
   "metadata": {
    "collapsed": true
   },
   "outputs": [],
   "source": [
    "#strainRate_2ndInvariant = fn.misc.constant(ndp.SR) #dummy fucntion to check which mechanisms are at active are reference strain rate"
   ]
  },
  {
   "cell_type": "code",
   "execution_count": 147,
   "metadata": {
    "collapsed": false
   },
   "outputs": [],
   "source": [
    "#ndp.crust_cohesion_fac"
   ]
  },
  {
   "cell_type": "code",
   "execution_count": 148,
   "metadata": {
    "collapsed": false
   },
   "outputs": [],
   "source": [
    "############\n",
    "#Rheology: create UW2 functions for all viscous mechanisms\n",
    "#############\n",
    "\n",
    "omega = fn.misc.constant(1.) #this function can hold any arbitary viscosity modifications \n",
    "\n",
    "\n",
    "##Diffusion Creep\n",
    "\n",
    "diffusion = fn.misc.min(ndp.eta_max, fn.math.exp(-1*ndp.Edf + ndp.Edf / (temperatureField + 1e-8)))\n",
    "\n",
    "\n",
    "\n",
    "##Define the Plasticity\n",
    "ys =  ndp.cm + (depthFn*ndp.fcmd)\n",
    "ysMax = 10e4*1e6*sf.stress\n",
    "ysf = fn.misc.min(ys, ysMax)\n",
    "yielding = ysf/(2.*(strainRate_2ndInvariant))\n",
    "\n",
    "##Crust rheology\n",
    "#crustys =  ndp.cohesion*ndp.crust_cohesion_fac + (depthFn*ndp.fcd*ndp.crust_fc_fac)\n",
    "crustys =  ndp.cc + (depthFn*ndp.fccd) #only weakened cohesion is discussed, not fc\n",
    "crustvisc = crustys/(2.*(strainRate_2ndInvariant)) \n",
    "\n",
    "\n",
    "##Interface rheology\n",
    "interfaceys =  ndp.ci + (depthFn*ndp.fcid) #only weakened cohesion is discussed, not fc\n",
    "interfacevisc = interfaceys/(2.*(strainRate_2ndInvariant))\n",
    "\n"
   ]
  },
  {
   "cell_type": "code",
   "execution_count": 149,
   "metadata": {
    "collapsed": false
   },
   "outputs": [],
   "source": [
    "############\n",
    "#Rheology: combine viscous mechanisms in various ways \n",
    "#harmonic: harmonic average of all mechanims\n",
    "#min: minimum effective viscosity of the mechanims\n",
    "#mixed: takes the minimum of the harmonic and the plastic effective viscosity\n",
    "#############\n",
    "\n",
    "#linear rheology \n",
    "linearviscosityFn = safe_visc(diffusion)\n",
    "\n",
    "\n",
    "\n",
    "interfaceCond = operator.and_((depthFn < ndp.CRUSTVISCUTOFF), (depthFn > ndp.MANTLETOCRUST))    \n",
    "\n",
    "\n",
    "#combined rheology    \n",
    "\n",
    "\n",
    "finalviscosityFn  = fn.branching.conditional([(depthFn < ndp.LOWMANTLEDEPTH, safe_visc(fn.misc.min(diffusion, yielding))),\n",
    "                                  (True, safe_visc(safe_visc(diffusion*ndp.low_mantle_visc_fac)))])\n",
    "\n",
    "#crust rheology    \n",
    "#finalcrustviscosityFn = safe_visc(fn.misc.min(ndp.eta_max_crust, \n",
    "#                                              crustyielding)) #cohesion weakening factor also applies to eta_0\n",
    "\n",
    "crustviscosityFn = safe_visc(fn.misc.min(linearviscosityFn, crustvisc), ndp.eta_max_crust)\n",
    "interfaceviscosityFn = safe_visc(fn.misc.min(linearviscosityFn, interfacevisc), ndp.eta_max_interface)\n",
    "\n",
    "if ndp.eta_max_crust == ndp.eta_min_crust: #If these are equal, set to constant visc. \n",
    "    crustviscosityFn = fn.misc.constant(ndp.eta_min_crust)\n",
    "    \n",
    "if ndp.eta_max_interface == ndp.eta_min_interface: #If these are equal, set to constant visc. \n",
    "    interfaceviscosityFn = fn.misc.constant(ndp.eta_min_interface)\n",
    "    \n",
    "\n",
    "\n",
    "finalcrustviscosityFn  = fn.branching.conditional([(depthFn < ndp.MANTLETOCRUST, crustviscosityFn),\n",
    "                                                     (interfaceCond, interfaceviscosityFn), #\n",
    "                                                     (True, finalviscosityFn)])"
   ]
  },
  {
   "cell_type": "code",
   "execution_count": 150,
   "metadata": {
    "collapsed": false
   },
   "outputs": [
    {
     "data": {
      "text/plain": [
       "(1.0, 1.0)"
      ]
     },
     "execution_count": 150,
     "metadata": {},
     "output_type": "execute_result"
    }
   ],
   "source": [
    "ndp.eta_max_interface, ndp.eta_min_interface\n",
    "\n",
    "ndp.eta_max_crust, ndp.eta_min_crust"
   ]
  },
  {
   "cell_type": "code",
   "execution_count": 151,
   "metadata": {
    "collapsed": false
   },
   "outputs": [],
   "source": [
    "\n",
    "#0.06*0.02\n",
    "#finalcrustviscosityFn.evaluate(mesh)\n",
    "#ndp.eta_max_interface == ndp.eta_min_interface"
   ]
  },
  {
   "cell_type": "code",
   "execution_count": 152,
   "metadata": {
    "collapsed": false,
    "scrolled": true
   },
   "outputs": [],
   "source": [
    "#fig= glucifer.Figure()\n",
    "#fig.append( glucifer.objects.Points(gSwarm,viscosityMapFn1, logScale=True))\n",
    "#fig.append( glucifer.objects.Surface(mesh,finalviscosityFn, logScale=True))\n",
    "#fig.append( glucifer.objects.VectorArrows(mesh,velocityField, scaling=0.05))\n",
    "\n",
    "\n",
    "#fig.show()\n",
    "#fig.save_database('test.gldb')"
   ]
  },
  {
   "cell_type": "markdown",
   "metadata": {},
   "source": [
    "Stokes system setup\n",
    "-----\n"
   ]
  },
  {
   "cell_type": "code",
   "execution_count": 153,
   "metadata": {
    "collapsed": true
   },
   "outputs": [],
   "source": [
    "buoyancyFn =  ndp.RA*temperatureField\n"
   ]
  },
  {
   "cell_type": "code",
   "execution_count": 154,
   "metadata": {
    "collapsed": false
   },
   "outputs": [],
   "source": [
    "densityMapFn = fn.branching.map( fn_key = materialVariable,\n",
    "                         mapping = {airIndex:ndp.StRA,\n",
    "                                    crustIndex:buoyancyFn, \n",
    "                                    mantleIndex:buoyancyFn,\n",
    "                                    harzIndex:buoyancyFn} )"
   ]
  },
  {
   "cell_type": "code",
   "execution_count": 155,
   "metadata": {
    "collapsed": true
   },
   "outputs": [],
   "source": [
    "\n",
    "# Define our vertical unit vector using a python tuple (this will be automatically converted to a function).\n",
    "gravity = ( 0.0, 1.0 )\n",
    "\n",
    "# Now create a buoyancy force vector using the density and the vertical unit vector. \n",
    "buoyancyFn = densityMapFn * gravity"
   ]
  },
  {
   "cell_type": "code",
   "execution_count": 156,
   "metadata": {
    "collapsed": true
   },
   "outputs": [],
   "source": [
    "stokesPIC = uw.systems.Stokes(velocityField=velocityField, \n",
    "                              pressureField=pressureField,\n",
    "                              conditions=[freeslipBC,],\n",
    "                              fn_viscosity=linearviscosityFn, \n",
    "                              fn_bodyforce=buoyancyFn )"
   ]
  },
  {
   "cell_type": "code",
   "execution_count": 157,
   "metadata": {
    "collapsed": true
   },
   "outputs": [],
   "source": [
    "solver = uw.systems.Solver(stokesPIC)\n",
    "if not checkpointLoad:\n",
    "    solver.solve() #A solve on the linear visocisty is unhelpful unless we're starting from scratch"
   ]
  },
  {
   "cell_type": "code",
   "execution_count": 158,
   "metadata": {
    "collapsed": false
   },
   "outputs": [],
   "source": [
    "\n",
    "\n",
    "viscosityMapFn1 = fn.branching.map( fn_key = materialVariable,\n",
    "                         mapping = {crustIndex:finalcrustviscosityFn,\n",
    "                                    mantleIndex:finalviscosityFn,\n",
    "                                    harzIndex:finalviscosityFn,\n",
    "                                    airIndex:ndp.Steta0} )\n",
    "\n",
    "if stickyAir:\n",
    "    viscosityMapFn2 = fn.branching.map( fn_key = materialVariable,\n",
    "                         mapping = {crustIndex:0.,\n",
    "                                    mantleIndex:0.,\n",
    "                                    harzIndex:0.,\n",
    "                                    airIndex:ndp.Steta0*0.9} ) # -> \\eta_2 = 0.1 * \\eta_1\n",
    "\n"
   ]
  },
  {
   "cell_type": "code",
   "execution_count": 159,
   "metadata": {
    "collapsed": true
   },
   "outputs": [],
   "source": [
    "# director orientation in Sticky air\n",
    "if stickyAir:\n",
    "    directorVector   = gSwarm.add_variable( dataType=\"double\", count=2)\n",
    "\n",
    "    orientation = -1.*180. * math.pi / 180.0  #vertical\n",
    "    directorVector.data[:,0] = math.cos(orientation)\n",
    "    directorVector.data[:,1] = math.sin(orientation)\n",
    "    math.cos(orientation)"
   ]
  },
  {
   "cell_type": "code",
   "execution_count": 160,
   "metadata": {
    "collapsed": false
   },
   "outputs": [],
   "source": [
    "#orientation = -1.*90. * math.pi / 180.0  #vertical\n",
    "#math.cos(orientation), math.sin(orientation)"
   ]
  },
  {
   "cell_type": "code",
   "execution_count": 161,
   "metadata": {
    "collapsed": false
   },
   "outputs": [],
   "source": [
    "#stickyAir"
   ]
  },
  {
   "cell_type": "code",
   "execution_count": 162,
   "metadata": {
    "collapsed": false
   },
   "outputs": [],
   "source": [
    "#Add the non-linear viscosity to the Stokes system\n",
    "stokesPIC.fn_viscosity = viscosityMapFn1\n",
    "\n",
    "if stickyAir: #If sticky air, add the Transverse anisotropic components to Stokes\n",
    "    stokesPIC.fn_viscosity2 = viscosityMapFn2\n",
    "    stokesPIC._fn_director   = directorVector\n"
   ]
  },
  {
   "cell_type": "code",
   "execution_count": 163,
   "metadata": {
    "collapsed": false
   },
   "outputs": [
    {
     "name": "stdout",
     "output_type": "stream",
     "text": [
      "\u001b[1;35m\n",
      " \n",
      "Pressure iterations:   3\n",
      "Velocity iterations:   1 (presolve)      \n",
      "Velocity iterations:  -1 (pressure solve)\n",
      "Velocity iterations:   1 (backsolve)     \n",
      "Velocity iterations:   1 (total solve)   \n",
      " \n",
      "SCR RHS  solve time: 3.9312e-01\n",
      "Pressure solve time: 3.7345e-02\n",
      "Velocity solve time: 3.8112e-01 (backsolve)\n",
      "Total solve time   : 8.7962e-01\n",
      " \n",
      "Velocity solution min/max: 0.0000e+00/0.0000e+00\n",
      "Pressure solution min/max: 0.0000e+00/0.0000e+00\n",
      " \n",
      "\u001b[00m\n"
     ]
    }
   ],
   "source": [
    "solver.set_inner_method(\"mumps\")\n",
    "solver.options.scr.ksp_type=\"cg\"\n",
    "solver.set_penalty(1.0e7)\n",
    "solver.options.scr.ksp_rtol = 1.0e-4\n",
    "solver.solve(nonLinearIterate=True)\n",
    "solver.print_stats()"
   ]
  },
  {
   "cell_type": "code",
   "execution_count": 164,
   "metadata": {
    "collapsed": false
   },
   "outputs": [],
   "source": [
    "#fig= glucifer.Figure()\n",
    "#fig.append( glucifer.objects.Points(gSwarm,viscosityMapFn1, logScale=True))\n",
    "#fig.append( glucifer.objects.Surface(mesh,temperatureField))\n",
    "#fig.append( glucifer.objects.VectorArrows(mesh,velocityField, scaling=0.05))\n",
    "\n",
    "\n",
    "#fig.show()\n",
    "#fig.save_database('test.gldb')"
   ]
  },
  {
   "cell_type": "code",
   "execution_count": 165,
   "metadata": {
    "collapsed": false
   },
   "outputs": [],
   "source": [
    "#Check which particles are yielding\n",
    "#yieldingCheck.data[:] = 0\n",
    "\n",
    "#yieldconditions = [ ( finalviscosityFn < Visc , 1), \n",
    "#               ( True                                           , 0) ]\n",
    "\n",
    "# use the branching conditional function to set each particle's index\n",
    "#yieldingCheck.data[:] = fn.branching.conditional( yieldconditions ).evaluate(gSwarm)"
   ]
  },
  {
   "cell_type": "code",
   "execution_count": 166,
   "metadata": {
    "collapsed": false,
    "scrolled": true
   },
   "outputs": [],
   "source": [
    "#fig= glucifer.Figure()\n",
    "#fig.append( glucifer.objects.Points(gSwarm,yieldingCheck))\n",
    "\n",
    "#fig.append( glucifer.objects.Surface(mesh,ndflm, logScale=True))\n",
    "#fig.show()"
   ]
  },
  {
   "cell_type": "markdown",
   "metadata": {},
   "source": [
    "Advection-diffusion System setup\n",
    "-----"
   ]
  },
  {
   "cell_type": "code",
   "execution_count": 167,
   "metadata": {
    "collapsed": false
   },
   "outputs": [],
   "source": [
    "advDiff = uw.systems.AdvectionDiffusion( phiField       = temperatureField, \n",
    "                                         phiDotField    = temperatureDotField, \n",
    "                                         velocityField  = velocityField,\n",
    "                                         fn_sourceTerm    = 0.0,\n",
    "                                         fn_diffusivity = 1.0, \n",
    "                                         #conditions     = [neumannTempBC, dirichTempBC] )\n",
    "                                         conditions     = [ dirichTempBC] )\n",
    "\n",
    "passiveadvector = uw.systems.SwarmAdvector( swarm         = gSwarm, \n",
    "                                     velocityField = velocityField, \n",
    "                                     order         = 1)"
   ]
  },
  {
   "cell_type": "code",
   "execution_count": 168,
   "metadata": {
    "collapsed": false
   },
   "outputs": [],
   "source": [
    "#I was playing around with a tailored diffusivity to target the slab\n",
    "\n",
    "#inCircleFnGenerator#Now build the perturbation part\n",
    "#def htan(centre, radius, widthPh, farVal = 0.01, fac = 10.):\n",
    "#    coord = fn.input()\n",
    "#    offsetFn = coord - centre\n",
    "#    dist = fn.math.sqrt(fn.math.dot( offsetFn, offsetFn ))\n",
    "    \n",
    "    \n",
    "#    return (((fn.math.tanh(((radius - dist))/widthPh) + 1.) /2.))*fac + farVal\n",
    "\n",
    "#tfun = htan((0.1, 0.9), 0.1, 0.1, 0.1)"
   ]
  },
  {
   "cell_type": "code",
   "execution_count": 169,
   "metadata": {
    "collapsed": true
   },
   "outputs": [],
   "source": [
    "#for index in mesh.specialSets[\"MinJ_VertexSet\"]:\n",
    "#    temperatureField.data[index] = ndp.TBP\n",
    "#for index in mesh.specialSets[\"MaxJ_VertexSet\"]:\n",
    "#    temperatureField.data[index] = ndp.TSP"
   ]
  },
  {
   "cell_type": "code",
   "execution_count": 170,
   "metadata": {
    "collapsed": false
   },
   "outputs": [],
   "source": [
    "############\n",
    "#Slightly Diffuse the initial perturbation\n",
    "#############\n",
    "\n",
    "timetoDifffuse = 0.#Million years\n",
    "incrementtoDiffuse = 0.2 #Million years\n",
    "\n",
    "timetoDifffuse = (timetoDifffuse*1e6*(spery)/sf.SR).magnitude\n",
    "incrementtoDiffuse = (incrementtoDiffuse*1e6*(spery)/sf.SR).magnitude\n",
    "\n",
    "totAdt = 0.\n",
    "it = 0\n",
    "while totAdt < timetoDifffuse:\n",
    "    dtad = advDiff.get_max_dt()\n",
    "    print(\"step\") + str(it) \n",
    "    advDiff.integrate(incrementtoDiffuse)\n",
    "    totAdt += incrementtoDiffuse\n",
    "    it += 1\n",
    "    \n",
    "#Reset Boundary conds.   \n",
    "for index in mesh.specialSets[\"MinJ_VertexSet\"]:\n",
    "    temperatureField.data[index] = ndp.TBP\n",
    "for index in mesh.specialSets[\"MaxJ_VertexSet\"]:\n",
    "    temperatureField.data[index] = ndp.TSP\n",
    "    \n",
    "comm.Barrier()"
   ]
  },
  {
   "cell_type": "code",
   "execution_count": 171,
   "metadata": {
    "collapsed": true
   },
   "outputs": [],
   "source": [
    "population_control = uw.swarm.PopulationControl(gSwarm,deleteThreshold=0.2,splitThreshold=1.,maxDeletions=3,maxSplits=0, aggressive=True, particlesPerCell=ppc)"
   ]
  },
  {
   "cell_type": "code",
   "execution_count": null,
   "metadata": {
    "collapsed": true
   },
   "outputs": [],
   "source": []
  },
  {
   "cell_type": "code",
   "execution_count": null,
   "metadata": {
    "collapsed": true
   },
   "outputs": [],
   "source": []
  },
  {
   "cell_type": "code",
   "execution_count": null,
   "metadata": {
    "collapsed": false
   },
   "outputs": [],
   "source": []
  },
  {
   "cell_type": "markdown",
   "metadata": {},
   "source": [
    "Analysis functions / routines\n",
    "-----\n",
    "\n",
    "Most of the metrics we want to calculate are either:\n",
    "\n",
    "* extrema of some field / function\n",
    "* integral of some field / function\n",
    "* average value of some function (integral divide by area)\n",
    "\n",
    "In addition, we also want to be able to determine these metrics over some restricted part of the domain, where the restriction may either be due some value of a field, a material type, or something more arbitrary.\n",
    "\n",
    "Much of he challenge lies in defining these restriction functions in an efficient and robust way (i.e they don't break down as the model evolves)\n",
    "\n",
    "For volume integrals, and extrema, we build a hierarchy of restriction functions, each borrowing from the previous, until we have divided the domain into a number of sub regions of interest. \n",
    "\n",
    "In general, averages are found afterwards by combining the integral and the area of the relavent subregion"
   ]
  },
  {
   "cell_type": "code",
   "execution_count": null,
   "metadata": {
    "collapsed": false
   },
   "outputs": [],
   "source": []
  },
  {
   "cell_type": "code",
   "execution_count": null,
   "metadata": {
    "collapsed": false
   },
   "outputs": [],
   "source": []
  },
  {
   "cell_type": "code",
   "execution_count": 172,
   "metadata": {
    "collapsed": false
   },
   "outputs": [],
   "source": [
    "###################\n",
    "#Volume Restriction functions\n",
    "###################\n",
    "\n",
    "#Level 1. Global\n",
    "\n",
    "globRestFn = fn.misc.constant(1.)\n",
    "\n",
    "#Level 2. Rock - air:\n",
    "rockRestFn = uw.swarm.SwarmVariable(gSwarm, dataType='double', count=1)\n",
    "rockRestFn.data[:] = 0.\n",
    "rockRestFn.data[np.where(materialVariable.data[:] != airIndex)] = 1.\n",
    "rockRestFn *= globRestFn #Add next level up in heirarchy\n",
    "\n",
    "\n",
    "#Level 3. lithosphere - mantle:\n",
    "tempMM = fn.view.min_max(temperatureField)\n",
    "tempMM.evaluate(mesh)\n",
    "TMAX = tempMM.max_global()\n",
    "mantleconditions = [ (                                  temperatureField < 0.9*TMAX, 1.),\n",
    "                   (                                                   True , 0.) ]\n",
    "lithRestFn = fn.branching.conditional(mantleconditions)\n",
    "lithRestFn*=rockRestFn #Add next level up in heirarchy\n",
    "\n",
    "\n",
    "#Level 4. lower plate - upper plate:\n",
    "\n",
    "\n",
    "#This whole section simply builds a restriction Fn that separates the upper and lower plate \n",
    "#It's pretty cumbersome, and will need to advected, rebuilt\n",
    "#can YOU think of a better way?\n",
    "\n",
    "\n",
    "    \n",
    "fthickness = 30e3/dp.LS #initialize tracking swarm at ~ mid lithosphere depth\n",
    "\n",
    "if dp.sense == 'Right':\n",
    "    introPoint = ndp.lRidge + fthickness #\n",
    "else:\n",
    "    introPoint = ndp.rRidge - fthickness #\n",
    "nfault = 200\n",
    "slabCoords =np.zeros((nfault, 2))\n",
    "\n",
    "reducedRocM = ndp.roc  - fthickness\n",
    "xlimslab = reducedRocM*math.cos(math.pi*(90. - dp.theta)/180)\n",
    "slabCoords[:, 0] = np.linspace(introPoint, ndp.subzone + xlimslab, nfault) #note SZ location is hardcoded here \n",
    "for index, xval in np.ndenumerate(slabCoords[:,0]):\n",
    "    #print index, xval\n",
    "    #swarmCoords[index[0], 1] = 1. - isodepthFn.evaluate((xval, 0.)) #This bit for the plate \n",
    "    if  xval < 0.:\n",
    "        slabCoords[index[0], 1] = 1. - fthickness #This bit for the plate \n",
    "        \n",
    "    else:\n",
    "        slabCoords[index[0], 1] = (1. - (fthickness) - (reducedRocM - ( math.sqrt((reducedRocM**2 - xval**2)))))\n",
    "        \n",
    "slabCoords = slabCoords[slabCoords[:,1] > (1. - ndp.maxDepth)] #kill any deeper than cutoff\n",
    "\n",
    "slab_line  = marker2D.markerLine2D(mesh, velocityField, slabCoords[:, 0], slabCoords[:, 1], 1e9/dp.LS, 0.0, 0.0, crustIndex)\n",
    "lowerPlateRestFn = gSwarm.add_variable( dataType=\"double\", count=1 )\n",
    "lowerPlateRestFn.data[:] = 0.0\n",
    "\n",
    "update_swarm_from_line(slab_line, lowerPlateRestFn )\n",
    "lowerPlateRestFn.data[np.where(lowerPlateRestFn.data >= -1.*fthickness)] = 1.\n",
    "lowerPlateRestFn.data[np.where(lowerPlateRestFn.data < -1.*fthickness)] = 0. \n",
    "lowerPlateRestFn *= lithRestFn #Add next level up in heirarchy\n",
    "\n",
    "#Also see if we can stick the the Velocity and coords on to this swarm as well\n",
    "tipVar = uw.swarm.SwarmVariable(slab_line.swarm, dataType='double', count=4)\n",
    "tipVar.data[:,:2] = velocityField.evaluate(slab_line.swarm)\n",
    "tipVar.data[:,2:] = xFn.evaluate(slab_line.swarm)\n",
    "tipVar.data[:,3:] = yFn.evaluate(slab_line.swarm)\n",
    "\n",
    "\n",
    "#Level 5. hinge of lower plate:\n",
    "\n",
    "hingeSpatialconditions = [ (           operator.and_( (depthFn < MAXY - (150e3/dp.LS)),  (xFn > ndp.subzone - 50e3/dp.LS)), 1.),\n",
    "                   (                                                   True , 0.) ]\n",
    "\n",
    "hingeRestFn = fn.branching.conditional(hingeSpatialconditions)\n",
    "hingeRestFn*=lowerPlateRestFn #Add next level up in heirarchy\n",
    "\n",
    "\n",
    "#Level 6. crust/interface in hinge of lower plate:"
   ]
  },
  {
   "cell_type": "code",
   "execution_count": 173,
   "metadata": {
    "collapsed": true
   },
   "outputs": [],
   "source": [
    "respltconditions = [ \n",
    "                    (                                  hingeRestFn*2. > rockRestFn*1., 1.),\n",
    "                    (                                  lowerPlateRestFn*3. > hingeRestFn*2. , 3.),\n",
    "                    (                                  lithRestFn*5. > lowerPlateRestFn*3. , 4.),\n",
    "                   (                                                   True , 0.) ]\n",
    "\n",
    "respltFn = fn.branching.conditional(respltconditions )"
   ]
  },
  {
   "cell_type": "code",
   "execution_count": 175,
   "metadata": {
    "collapsed": false
   },
   "outputs": [
    {
     "data": {
      "text/html": [
       "<img src='data:image/png;base64,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'>"
      ],
      "text/plain": [
       "<IPython.core.display.HTML object>"
      ]
     },
     "metadata": {},
     "output_type": "display_data"
    }
   ],
   "source": [
    "#fig= glucifer.Figure()\n",
    "#fig.append( glucifer.objects.Points(gSwarm,respltFn))\n",
    "#fig.show()"
   ]
  },
  {
   "cell_type": "code",
   "execution_count": 83,
   "metadata": {
    "collapsed": true
   },
   "outputs": [],
   "source": [
    "###################\n",
    "#Surface Restriction functions\n",
    "###################\n",
    "\n",
    "def platenessFn(val = 0.1):\n",
    "    normgradV = fn.math.abs(velocityField.fn_gradient[0]/fn.math.sqrt(velocityField[0]*velocityField[0])) #[du*/dx]/sqrt(u*u)\n",
    "\n",
    "\n",
    "\n",
    "    srconditions = [ (                                  normgradV < val, 1.),\n",
    "                   (                                                   True , 0.) ]\n",
    "\n",
    "\n",
    "    return fn.branching.conditional(srconditions)\n",
    "\n",
    "srRestFn = platenessFn(val = 0.1)"
   ]
  },
  {
   "cell_type": "code",
   "execution_count": 84,
   "metadata": {
    "collapsed": false
   },
   "outputs": [],
   "source": [
    "###################\n",
    "#Setup any Functions to be integrated\n",
    "###################\n",
    "\n",
    "sqrtv2 = fn.math.sqrt(fn.math.dot(velocityField,velocityField))\n",
    "vx = velocityField[0]\n",
    "v2x = fn.math.dot(velocityField[0],velocityField[0])\n",
    "sqrtv2x = fn.math.sqrt(fn.math.dot(velocityField[0],velocityField[0]))\n",
    "dw = temperatureField*velocityField[1]\n",
    "sinner = fn.math.dot( strainRate_2ndInvariant, strainRate_2ndInvariant )\n",
    "vd = 2.*viscosityMapFn1*sinner\n",
    "dTdZ = temperatureField.fn_gradient[1]\n",
    "\n"
   ]
  },
  {
   "cell_type": "code",
   "execution_count": 85,
   "metadata": {
    "collapsed": false
   },
   "outputs": [],
   "source": [
    "###################\n",
    "#Create integral, max/min templates \n",
    "###################\n",
    "\n",
    "def volumeint(Fn = 1., rFn=globRestFn):\n",
    "    return uw.utils.Integral( Fn*rFn,  mesh )\n",
    "\n",
    "def surfint(Fn = 1., rFn=globRestFn, surfaceIndexSet=mesh.specialSets[\"MaxJ_VertexSet\"]):\n",
    "    return uw.utils.Integral( Fn*rFn, mesh=mesh, integrationType='Surface', surfaceIndexSet=surfaceIndexSet)\n",
    "\n",
    "def maxMin(Fn = 1.):\n",
    "    #maxMin(Fn = 1., rFn=globRestFn\n",
    "    #vuFn = fn.view.min_max(Fn*rFn) #the restriction functions don't work with the view.min_max fn yet\n",
    "    vuFn = fn.view.min_max(Fn)\n",
    "    return vuFn\n",
    "    \n",
    "   \n",
    "    "
   ]
  },
  {
   "cell_type": "code",
   "execution_count": 86,
   "metadata": {
    "collapsed": false
   },
   "outputs": [],
   "source": [
    "#Setup volume integrals on different sub regions\n",
    "\n",
    "##Whole rock domain\n",
    "\n",
    "_areaintRock = volumeint(rockRestFn)\n",
    "_tempintRock = volumeint(temperatureField, rockRestFn)\n",
    "_rmsintRock = volumeint(sqrtv2,rockRestFn)\n",
    "_dwintRock = volumeint(dw,rockRestFn)\n",
    "_vdintRock = volumeint(vd,rockRestFn)\n",
    "\n",
    "##Lith \n",
    "\n",
    "_areaintLith  = volumeint(lithRestFn)\n",
    "_tempintLith  = volumeint(temperatureField, lithRestFn)\n",
    "_rmsintLith  = volumeint(sqrtv2,lithRestFn)\n",
    "_dwintLith  = volumeint(dw,lithRestFn)\n",
    "_vdintLith  = volumeint(vd,lithRestFn)\n",
    "\n",
    "##Lower plate\n",
    "\n",
    "_areaintLower  = volumeint(lowerPlateRestFn)\n",
    "_tempintLower  = volumeint(temperatureField, lowerPlateRestFn)\n",
    "_rmsintLower  = volumeint(sqrtv2,lowerPlateRestFn)\n",
    "_dwintLower = volumeint(dw,lowerPlateRestFn)\n",
    "_vdintLower  = volumeint(vd,lowerPlateRestFn)\n",
    "\n",
    "##Hinge lower plate\n",
    "\n",
    "_areaintHinge  = volumeint(hingeRestFn)\n",
    "_vdintHinge  = volumeint(vd,hingeRestFn)"
   ]
  },
  {
   "cell_type": "code",
   "execution_count": 87,
   "metadata": {
    "collapsed": true
   },
   "outputs": [],
   "source": [
    "#Setup surface integrals\n",
    "\n",
    "_surfLength = surfint()\n",
    "_rmsSurf = surfint(v2x)\n",
    "_nuTop = surfint(dTdZ)\n",
    "_nuBottom = surfint(dTdZ, surfaceIndexSet=mesh.specialSets[\"MinJ_VertexSet\"])\n",
    "_plateness = surfint(srRestFn)"
   ]
  },
  {
   "cell_type": "code",
   "execution_count": 88,
   "metadata": {
    "collapsed": false
   },
   "outputs": [],
   "source": [
    "#Setup max min fns (at the moment, we can't pass restriction function to view.min_max, so we're limited to whole volume or surface extrema)\n",
    "\n",
    "##Whole rock domain\n",
    "\n",
    "#_maxMinVisc = maxMin(viscosityMapFn1)  #These don't work on swarm variables or mapping functions, yet\n",
    "#dummyFn = _maxMinVisc.evaluate(mesh)\n",
    "#_maxMinStressInv = maxMin(2*viscosityMapFn1*strainRate_2ndInvariant) #These don't work on swarm variables or mapping functions, yet\n",
    "#dummyFn = _maxMinStress.evaluate(mesh)\n",
    "#_maxMinVd = maxMin(vd) #These don't work on swarm variables or mapping functions, yet\n",
    "#dummyFn = _maxMinVd.evaluate(mesh)\n",
    "\n",
    "\n",
    "_maxMinVel = maxMin(velocityField) \n",
    "dummyFn = _maxMinVel.evaluate(mesh)\n",
    "\n",
    "_maxMinSr = maxMin(strainRate_2ndInvariant) \n",
    "dummyFn = _maxMinSr.evaluate(mesh)\n",
    "\n",
    "\n",
    "#Surface extrema\n",
    "_maxMinVxSurf = maxMin(vx)\n",
    "dummyFn = _maxMinVxSurf.evaluate(tWalls)\n"
   ]
  },
  {
   "cell_type": "code",
   "execution_count": 89,
   "metadata": {
    "collapsed": false
   },
   "outputs": [],
   "source": [
    "#Volume Ints\n",
    "areaintRock = _areaintRock.evaluate()[0]\n",
    "tempintRock = _tempintRock.evaluate()[0]\n",
    "rmsintRock = _rmsintRock.evaluate()[0]\n",
    "dwintRock = _dwintRock.evaluate()[0]\n",
    "vdintRock = _vdintRock.evaluate()[0]\n",
    "areaintLith = _areaintLith.evaluate()[0]\n",
    "tempintLith = _tempintLith.evaluate()[0]\n",
    "rmsintLith = _rmsintLith.evaluate()[0]\n",
    "dwintLith = _dwintLith.evaluate()[0]\n",
    "vdintLith = _vdintLith.evaluate()[0]\n",
    "areaintLower = _areaintLower.evaluate()[0]\n",
    "tempintLower = _tempintLower.evaluate()[0]\n",
    "rmsintLower = _rmsintLower.evaluate()[0]\n",
    "dwintLower = _dwintLower.evaluate()[0]\n",
    "vdintLower = _vdintLower.evaluate()[0]\n",
    "vdintHinge = _vdintHinge.evaluate()[0]\n",
    "areaintHinge = _areaintHinge.evaluate()[0]\n",
    "\n",
    "#Surface Ints\n",
    "surfLength = _surfLength.evaluate()[0]\n",
    "rmsSurf = _rmsSurf.evaluate()[0]\n",
    "nuTop = _nuTop.evaluate()[0]\n",
    "nuBottom = _nuBottom.evaluate()[0]\n",
    "plateness = _plateness.evaluate()[0]\n",
    "\n",
    "#Max mins\n",
    "maxVel = _maxMinVel.max_global()\n",
    "minVel = _maxMinVel.min_global() \n",
    "maxSr = _maxMinSr.max_global()\n",
    "minSr = _maxMinSr.min_global()\n",
    "maxVxsurf = _maxMinVxSurf.max_global()\n",
    "minVxsurf = _maxMinVxSurf.min_global()"
   ]
  },
  {
   "cell_type": "markdown",
   "metadata": {},
   "source": [
    "print(areaintRock)\n",
    "print(tempintRock)\n",
    "print(rmsintRock)\n",
    "print(dwintRock)\n",
    "print(vdintRock)\n",
    "print(areaintLith)\n",
    "print(tempintLith )\n",
    "print(rmsintLith)\n",
    "print(dwintLith)\n",
    "print(vdintLith)\n",
    "print(areaintLower)\n",
    "print(tempintLower)\n",
    "print(rmsintLower) \n",
    "print(dwintLower)\n",
    "print(vdintLower)\n",
    "print(vdintHinge)\n",
    "\n",
    "print(surfLength)\n",
    "print(rmsSurf)\n",
    "print(nuTop)\n",
    "print(nuBottom)\n",
    "print(plateness)\n",
    "\n",
    "\n",
    "print(maxVel)\n",
    "print(minVel)\n",
    "print(maxSr)\n",
    "print(minSr)\n",
    "print(maxVxsurf)\n",
    "print(minVxsurf)"
   ]
  },
  {
   "cell_type": "code",
   "execution_count": null,
   "metadata": {
    "collapsed": true
   },
   "outputs": [],
   "source": []
  },
  {
   "cell_type": "markdown",
   "metadata": {},
   "source": [
    "Viz.\n",
    "-----"
   ]
  },
  {
   "cell_type": "code",
   "execution_count": 90,
   "metadata": {
    "collapsed": false
   },
   "outputs": [],
   "source": [
    "#viscVariable = gSwarm.add_variable( dataType=\"float\", count=1 )\n",
    "#viscVariable.data[:] = viscosityMapFn1.evaluate(gSwarm)"
   ]
  },
  {
   "cell_type": "code",
   "execution_count": 200,
   "metadata": {
    "collapsed": false
   },
   "outputs": [],
   "source": [
    "if figures == 'gldb':\n",
    "    #Pack some stuff into a database as well\n",
    "    figDb = glucifer.Figure()\n",
    "    #figDb.append( glucifer.objects.Mesh(mesh))\n",
    "    figDb.append( glucifer.objects.VectorArrows(mesh,velocityField, scaling=0.0005))\n",
    "    #figDb.append( glucifer.objects.Points(gSwarm,tracerVariable, colours= 'white black'))\n",
    "    figDb.append( glucifer.objects.Points(gSwarm,materialVariable))\n",
    "    #figDb.append( glucifer.objects.Points(gSwarm,viscMinVariable))\n",
    "    #figDb.append( glucifer.objects.Points(gSwarm,fnViscMin))\n",
    "    figDb.append( glucifer.objects.Points(gSwarm,viscosityMapFn1, logScale=True))\n",
    "    #figDb.append( glucifer.objects.Points(gSwarm, strainRate_2ndInvariant, logScale=True))\n",
    "    figDb.append( glucifer.objects.Points(gSwarm,temperatureField))\n",
    "    \n",
    "    \n",
    "    figRestrict= glucifer.Figure()\n",
    "    figRestrict.append( glucifer.objects.Points(gSwarm,respltFn))\n",
    "    figRestrict.append( glucifer.objects.Points(slab_line.swarm, colours=\"Black Black\", pointSize=2.0, colourBar=False) )\n",
    "\n",
    "elif figures == 'store':\n",
    "    fullpath = os.path.join(outputPath + \"gldbs/\")\n",
    "    store = glucifer.Store(fullpath + 'subduction.gldb')\n",
    "\n",
    "    figTemp = glucifer.Figure(store,figsize=(300*np.round(aspectRatio,2),300))\n",
    "    figTemp.append( glucifer.objects.Points(gSwarm,temperatureField))\n",
    "\n",
    "    figVisc= glucifer.Figure(store, figsize=(300*np.round(aspectRatio,2),300))\n",
    "    figVisc.append( glucifer.objects.Points(gSwarm,viscosityMapFn1, logScale=True, valueRange =[1e-3,1e5]))\n",
    "\n",
    "    #figMech= glucifer.Figure(store, figsize=(300*np.round(aspectRatio,2),300))\n",
    "    #figMech.append( glucifer.objects.Points(gSwarm,fnViscMin))"
   ]
  },
  {
   "cell_type": "markdown",
   "metadata": {},
   "source": [
    "**Miscellania**"
   ]
  },
  {
   "cell_type": "code",
   "execution_count": 114,
   "metadata": {
    "collapsed": false
   },
   "outputs": [
    {
     "name": "stderr",
     "output_type": "stream",
     "text": [
      "/usr/local/lib/python2.7/dist-packages/numpy/core/numeric.py:190: VisibleDeprecationWarning: using a non-integer number instead of an integer will result in an error in the future\n",
      "  a = empty(shape, dtype, order)\n"
     ]
    }
   ],
   "source": [
    "##############\n",
    "#Create a numpy array at the surface to get surface information on (using parallel-friendly evaluate_global)\n",
    "##############\n",
    "\n",
    "surface_xs = np.linspace(mesh.minCoord[0], mesh.maxCoord[0], mesh.elementRes[0] + 1)\n",
    "surface_nodes = np.array(zip(surface_xs, np.ones(len(surface_xs)*mesh.maxCoord[1]))) #For evaluation surface velocity\n",
    "normgradV = velocityField.fn_gradient[0]/fn.math.sqrt(velocityField[0]*velocityField[0])\n",
    "\n",
    "tempMM = fn.view.min_max(temperatureField)\n",
    "dummy = tempMM.evaluate(mesh)\n",
    "\n"
   ]
  },
  {
   "cell_type": "code",
   "execution_count": 115,
   "metadata": {
    "collapsed": false
   },
   "outputs": [],
   "source": [
    "##############\n",
    "#These functions handle checkpointing\n",
    "##############\n",
    "\n",
    "\n",
    "#Subzone = ndp.subzone\n",
    "\n",
    "\n",
    "def checkpoint1(step, checkpointPath,filename, filewrites):\n",
    "    path = checkpointPath + str(step) \n",
    "    os.mkdir(path)\n",
    "    ##Write and save the file, if not already a writing step\n",
    "    if not step % filewrites == 0:\n",
    "        f_o.write((22*'%-15s ' + '\\n') % (areaintRock, tempintRock, rmsintRock, dwintRock, vdintRock,\n",
    "                                  areaintLith, tempintLith,rmsintLith, dwintLith, vdintLith,\n",
    "                                  areaintLower, tempintLower, rmsintLower, dwintLower, vdintLower, \n",
    "                                  vdintHinge,rmsSurf, nuTop, nuBottom, plateness, ndp.subzone, realtime))\n",
    "    filename.close()\n",
    "    shutil.copyfile(os.path.join(outputPath, outputFile), os.path.join(path, outputFile))\n",
    "\n",
    "\n",
    "def checkpoint2(step, checkpointPath, swarm, filename, varlist = [materialVariable], varnames = ['materialVariable']):\n",
    "    path = checkpointPath + str(step) \n",
    "    velfile = \"velocityField\" + \".hdf5\"\n",
    "    tempfile = \"temperatureField\" + \".hdf5\"\n",
    "    pressfile = \"pressureField\" + \".hdf5\"\n",
    "    velocityField.save(os.path.join(path, velfile))\n",
    "    temperatureField.save(os.path.join(path, tempfile))\n",
    "    pressureField.save(os.path.join(path, pressfile))\n",
    "    swarm.save(os.path.join(path, \"swarm.h5\") ) \n",
    "    for ix in range(len(varlist)):\n",
    "        varb = varlist[ix]\n",
    "        varb.save(os.path.join(path,varnames[ix] + \".h5\"))\n",
    "    \n",
    "    #Save the parameters\n",
    "    dict_list = [dp, sf, ndp] #if any of the dictionaries have changed, this list needs to be rebuilt\n",
    "    save_pickles(dict_list, dict_names, path)\n",
    "    "
   ]
  },
  {
   "cell_type": "code",
   "execution_count": 116,
   "metadata": {
    "collapsed": true
   },
   "outputs": [],
   "source": [
    "##############\n",
    "#These functions handle checkpointing\n",
    "##############\n",
    "\n",
    "def getnearpos(array,value):\n",
    "    idx = (np.abs(array-value)).argmin()\n",
    "    return idx \n",
    "\n",
    "def plate_info(srfilename, minx, maxx,  searchdx, oldszloc = 0.0):\n",
    "    \"\"\"\n",
    "    Use the surface strain rate field to find the location of the subduction zone in 2d\n",
    "    \n",
    "    \"\"\"\n",
    "    if type(srfilename) == str: #read surface strain rate points from file\n",
    "        sr = np.load(srfilename)\n",
    "    else:\n",
    "        sr =  srfilename        #read surface strain rates directly from array\n",
    "    xs = np.linspace(minx,maxx,sr.shape[0] )\n",
    "    #infs at the ends of the SR data...replace with adjacent values\n",
    "    sr[0] = sr[1] \n",
    "    sr[-1] = sr[2]\n",
    "    #Normalize\n",
    "    srx = (sr- sr.mean()) /(sr.max() - sr.min())\n",
    "    #reduce the search domain, to near the previous PB location\n",
    "    lx, rx = getnearpos(xs, oldszloc - searchdx),  getnearpos(xs, oldszloc + searchdx)\n",
    "    red_xs, red_sr = xs[lx:rx], srx[lx:rx]\n",
    "    #return the minima\n",
    "    newszLoc = red_xs[np.argmin(red_sr)]\n",
    "    return newszLoc "
   ]
  },
  {
   "cell_type": "code",
   "execution_count": 117,
   "metadata": {
    "collapsed": false
   },
   "outputs": [],
   "source": [
    "# initialise timer for computation\n",
    "start = time.clock()\n"
   ]
  },
  {
   "cell_type": "code",
   "execution_count": 118,
   "metadata": {
    "collapsed": false
   },
   "outputs": [],
   "source": [
    "#max_vx_surf(velocityField, mesh)"
   ]
  },
  {
   "cell_type": "markdown",
   "metadata": {},
   "source": [
    "Main simulation loop\n",
    "-----\n"
   ]
  },
  {
   "cell_type": "code",
   "execution_count": null,
   "metadata": {
    "collapsed": false
   },
   "outputs": [],
   "source": [
    "#while step < 6:\n",
    "while realtime < 0.001:\n",
    "\n",
    "    # solve Stokes and advection systems\n",
    "    solver.solve(nonLinearIterate=True)\n",
    "    dt = advDiff.get_max_dt()\n",
    "    if step == 0:\n",
    "        dt = 0.\n",
    "    advDiff.integrate(dt)\n",
    "    passiveadvector.integrate(dt)\n",
    "    slab_line.advection(dt)\n",
    "    for f in faults:\n",
    "        f.advection(dt)\n",
    "        \n",
    "    \n",
    " \n",
    "    \n",
    "    # Increment\n",
    "    realtime += dt\n",
    "    step += 1\n",
    "    timevals.append(realtime)\n",
    "    ################\n",
    "    #Update temperature field in the air region\n",
    "    #Do this better...\n",
    "    ################\n",
    "    if (step % sticky_air_temp == 0):\n",
    "        for index, coord in enumerate(mesh.data):\n",
    "            if coord[1] >= 1.:\n",
    "                temperatureField.data[index] = ndp.TSP\n",
    "\n",
    "    # Calculate the Metrics, only on 1 of the processors:\n",
    "    ################\n",
    "    if (step % metric_output == 0):\n",
    "        ###############\n",
    "        #Rebuild the restriction functions where necessary\n",
    "        ###############\n",
    "        lowerPlateRestFn = gSwarm.add_variable( dataType=\"double\", count=1 )\n",
    "        lowerPlateRestFn.data[:] = 0.0\n",
    "        update_swarm_from_line(slab_line, lowerPlateRestFn )\n",
    "        lowerPlateRestFn.data[np.where(lowerPlateRestFn.data >= -1.*fthickness)] = 1.\n",
    "        lowerPlateRestFn.data[np.where(lowerPlateRestFn.data < -1.*fthickness)] = 0. \n",
    "        lowerPlateRestFn *= lithRestFn #Add next level up in hierarchy\n",
    "        \n",
    "        ###############\n",
    "        #Metrics\n",
    "        ###############\n",
    "        areaintRock = _areaintRock.evaluate()[0] #trivial except when using sticky air\n",
    "        tempintRock = _tempintRock.evaluate()[0]\n",
    "        rmsintRock = _rmsintRock.evaluate()[0]\n",
    "        dwintRock = _dwintRock.evaluate()[0]\n",
    "        vdintRock = _vdintRock.evaluate()[0]\n",
    "        areaintLith = _areaintLith.evaluate()[0]\n",
    "        tempintLith = _tempintLith.evaluate()[0]\n",
    "        rmsintLith = _rmsintLith.evaluate()[0]\n",
    "        dwintLith = _dwintLith.evaluate()[0]\n",
    "        vdintLith = _vdintLith.evaluate()[0]\n",
    "        areaintLower = _areaintLower.evaluate()[0]\n",
    "        tempintLower = _tempintLower.evaluate()[0]\n",
    "        rmsintLower = _rmsintLower.evaluate()[0]\n",
    "        dwintLower = _dwintLower.evaluate()[0]\n",
    "        vdintLower = _vdintLower.evaluate()[0]\n",
    "        vdintHinge = _vdintHinge.evaluate()[0]\n",
    "        #Surface integrals\n",
    "        rmsSurf = _rmsSurf.evaluate()[0]\n",
    "        nuTop = _nuTop.evaluate()[0]\n",
    "        nuBottom = _nuBottom.evaluate()[0]\n",
    "        plateness = _plateness.evaluate()[0]\n",
    "        #extrema\n",
    "        maxVel = _maxMinVel.max_global()\n",
    "        minVel = _maxMinVel.min_global() \n",
    "        maxSr = _maxMinSr.max_global()\n",
    "        minSr = _maxMinSr.min_global()\n",
    "        maxVxsurf = _maxMinVxSurf.max_global()\n",
    "        minVxsurf = _maxMinVxSurf.min_global()\n",
    "        # output to summary text file\n",
    "        if uw.rank()==0:\n",
    "            f_o.write((22*'%-15s ' + '\\n') % (areaintRock, tempintRock, rmsintRock, dwintRock, vdintRock,\n",
    "                                  areaintLith, tempintLith,rmsintLith, dwintLith, vdintLith,\n",
    "                                  areaintLower, tempintLower, rmsintLower, dwintLower, vdintLower, \n",
    "                                  vdintHinge,rmsSurf, nuTop, nuBottom, plateness, ndp.subzone, realtime))\n",
    "    ################\n",
    "    #Also repopulate entire swarm periodically\n",
    "    ################\n",
    "    #if step % swarm_repop == 0:\n",
    "    population_control.repopulate()   \n",
    "    ################\n",
    "    #Checkpoint\n",
    "    ################\n",
    "    if step % checkpoint_every == 0:\n",
    "        if uw.rank() == 0:\n",
    "            checkpoint1(step, checkpointPath,f_o, metric_output)           \n",
    "        checkpoint2(step, checkpointPath, gSwarm, f_o, varlist = varlist, varnames = varnames)\n",
    "        f_o = open(os.path.join(outputPath, outputFile), 'a') #is this line supposed to be here?\n",
    "    ################\n",
    "    #Gldb output\n",
    "    ################ \n",
    "    if (step % gldbs_output == 0): \n",
    "        if figures == 'gldb':\n",
    "            #Remember to rebuild any necessary swarm variables\n",
    "            fnamedb = \"dbFig\" + \"_\" + str(step) + \".gldb\"\n",
    "            fullpath = os.path.join(outputPath + \"gldbs/\" + fnamedb)\n",
    "            figDb.save_database(fullpath)\n",
    "            \n",
    "            #Temp figure\n",
    "            fnamedb = \"restrictFig\" + \"_\" + str(step) + \".gldb\"\n",
    "            fullpath = os.path.join(outputPath + \"gldbs/\" + fnamedb)\n",
    "            figRestrict.save_database(fullpath)\n",
    "        elif figures == 'store':      \n",
    "            fullpath = os.path.join(outputPath + \"gldbs/\")\n",
    "            store.step = step\n",
    "            #Save figures to store\n",
    "            figVisc.save( fullpath + \"Visc\" + str(step).zfill(4))\n",
    "            #figMech.save( fullPath + \"Mech\" + str(step).zfill(4))\n",
    "            figTemp.save( fullpath + \"Temp\"    + str(step).zfill(4))\n",
    "    ################\n",
    "    #Files output\n",
    "    ################ \n",
    "    if (step % files_output == 0):\n",
    "\n",
    "        vel_surface = velocityField.evaluate_global(surface_nodes)\n",
    "        norm_surface_sr = normgradV.evaluate_global(surface_nodes)\n",
    "        if uw.rank() == 0:\n",
    "            fnametemp = \"velsurface\" + \"_\" + str(step)\n",
    "            fullpath = os.path.join(outputPath + \"files/\" + fnametemp)\n",
    "            np.save(fullpath, vel_surface)\n",
    "            fnametemp = \"norm_surface_sr\" + \"_\" + str(step)\n",
    "            fullpath = os.path.join(outputPath + \"files/\" + fnametemp)\n",
    "            np.save(fullpath, norm_surface_sr)\n",
    "            \n",
    "        #Save the slab_lineand tipswarm coords \n",
    "        fnametemp1 = \"midSwarm\" + \"_\" + str(step)\n",
    "        fullpath1 = os.path.join(outputPath + \"files/\" + fnametemp1)\n",
    "        slab_line.swarm.save(fullpath1)\n",
    "        #tipVar.data[:,:2] = velocityField.evaluate(tipSwarm)\n",
    "        #tipVar.data[:,2:] = xFn.evaluate(tipSwarm)\n",
    "        #tipVar.data[:,3:] = yFn.evaluate(tipSwarm)\n",
    "        #comm.barrier()\n",
    "        #fnametemp2 = \"tipSwarm\" + \"_\" + str(step)\n",
    "        #fullpath2 = os.path.join(outputPath + \"files/\" + fnametemp2)\n",
    "        #tipVar.save('fullpath2')\n",
    "            \n",
    "    ################\n",
    "    #Update the subduction zone / plate information\n",
    "    ################ \n",
    "    \n",
    "    comm.barrier()\n",
    "    if (step % files_output == 0):\n",
    "        \n",
    "        if uw.rank() == 0:\n",
    "            fnametemp = \"norm_surface_sr\" + \"_\" + str(step) + \".npy\"\n",
    "            fullpath = os.path.join(outputPath + \"files/\" + fnametemp)\n",
    "            ndp.subzone = plate_info(fullpath, MINX, MAXX,  800e3/dp.LS, oldszloc = ndp.subzone)\n",
    "            \n",
    "        else:\n",
    "            ndp.subzone = None\n",
    "        \n",
    "        comm.barrier()    \n",
    "        #send out the updated info for sz location\n",
    "        \n",
    "        ndp.subzone = comm.bcast(ndp.subzone, root=0)\n",
    "\n",
    "        #Has the polarity reversed?\n",
    "\n",
    "        if dp.sense == 'right':\n",
    "            tempop = operator.lt\n",
    "            szoffet *= -1\n",
    "        else:\n",
    "            tempop = operator.gt\n",
    "            \n",
    "        #Update the relevant parts of the material graph\n",
    "        #Remove and rebuild edges related to crust\n",
    "        DG.remove_edges_from([(mantleIndex,crustIndex)])\n",
    "        DG.add_edges_from([(mantleIndex,crustIndex)])\n",
    "        DG.remove_edges_from([(harzIndex,crustIndex)])\n",
    "        DG.add_edges_from([(harzIndex,crustIndex)])\n",
    "\n",
    "        #... to crust\n",
    "        DG.add_transition((mantleIndex,crustIndex), depthFn, operator.lt, 0.5)\n",
    "        DG.add_transition((mantleIndex,crustIndex), xFn, tempop , ndp.subzone) #No crust on the upper plate\n",
    "        DG.add_transition((mantleIndex,crustIndex), ageVariable, operator.gt, 0.2)\n",
    "\n",
    "        DG.add_transition((harzIndex,crustIndex), depthFn, operator.lt, ndp.MANTLETOCRUST)\n",
    "        DG.add_transition((harzIndex,crustIndex), xFn, tempop, ndp.subzone) #This one sets no crust on the upper plate\n",
    "        DG.add_transition((harzIndex,crustIndex), ageVariable, operator.gt, crustageCond)\n",
    "        \n",
    "        comm.barrier()\n",
    "                   \n",
    "    \n",
    "    ################\n",
    "    #Particle update\n",
    "    ###############    \n",
    "    #ageVariable.data[:] += dt #increment the ages (is this efficient?)\n",
    "    ageDT += dt\n",
    "    \n",
    "    if step % swarm_update == 0:\n",
    "        #Increment age stuff. \n",
    "        ageConditions = [ (depthFn < ndp.AGETRACKDEPTH, ageVariable + ageDT ),  #add ageDThere\n",
    "                  (True, 0.) ]\n",
    "        ageVariable.data[:] = fn.branching.conditional( ageConditions ).evaluate(gSwarm)        \n",
    "        ageDT = 0. #reset the age incrementer\n",
    "        \n",
    "        #Apply any materialVariable changes\n",
    "        for i in range(2): #go through twice\n",
    "            materialVariable.data[:] = fn.branching.conditional(DG.condition_list).evaluate(gSwarm)\n",
    "        \n",
    "        #Also update any information related to faults:\n",
    "        update_swarm_from_faults(faults[1:], proximityVariable, directorVector, signedDistanceVariable)\n",
    "        mask_materials(faults[1], airIndex, materialVariable, proximityVariable, directorVector, signedDistanceVariable)\n",
    "\n",
    "        update_swarm_from_faults(faults[0:-1], proximityVariable, directorVector, signedDistanceVariable)\n",
    "        mask_materials(faults[0], crustIndex, materialVariable, proximityVariable, directorVector, signedDistanceVariable)\n",
    "        \n",
    "        proximityVariable.data[gSwarm.particleCoordinates.data[:,1]  < (1. - ndp.CRUSTVISCUTOFF)] = 0.\n",
    "            \n",
    "    \n",
    "\n",
    "    \n",
    "f_o.close()\n",
    "print 'step =',step"
   ]
  }
 ],
 "metadata": {
  "kernelspec": {
   "display_name": "Python 2",
   "language": "python",
   "name": "python2"
  },
  "language_info": {
   "codemirror_mode": {
    "name": "ipython",
    "version": 2
   },
   "file_extension": ".py",
   "mimetype": "text/x-python",
   "name": "python",
   "nbconvert_exporter": "python",
   "pygments_lexer": "ipython2",
   "version": "2.7.9"
  },
  "widgets": {
   "state": {},
   "version": "1.1.2"
  }
 },
 "nbformat": 4,
 "nbformat_minor": 0
}
