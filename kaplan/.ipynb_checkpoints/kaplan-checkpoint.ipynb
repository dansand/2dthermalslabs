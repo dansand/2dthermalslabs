{
 "cells": [
  {
   "cell_type": "markdown",
   "metadata": {},
   "source": [
    "## Thermal subduction, linear rheology:\n",
    "\n",
    "\n",
    "The viscous rheology in this model is similar to the models described in the PhD thesis of Micheal Kaplan\n",
    "\n",
    "\n",
    "\n",
    "**Keywords:** subduction, thermally-activated creep, \n",
    "\n",
    "\n",
    "**References:**\n",
    "\n",
    "\n",
    "Kaplan, Michael. Numerical Geodynamics of Solid Planetary Deformation. Diss. University of Southern California, 2015."
   ]
  },
  {
   "cell_type": "code",
   "execution_count": 112,
   "metadata": {
    "collapsed": false
   },
   "outputs": [],
   "source": [
    "import numpy as np\n",
    "import underworld as uw\n",
    "import math\n",
    "from underworld import function as fn\n",
    "import glucifer\n",
    "\n",
    "import os\n",
    "import sys\n",
    "import natsort\n",
    "import shutil\n",
    "from easydict import EasyDict as edict\n",
    "import operator\n",
    "import pint\n",
    "import time\n",
    "import operator\n",
    "from slippy2 import boundary_layer2d\n",
    "from slippy2 import material_graph\n",
    "from slippy2 import spmesh\n",
    "from slippy2 import phase_function\n",
    "from unsupported.interfaces import markerLine2D\n",
    "\n",
    "from mpi4py import MPI\n",
    "comm = MPI.COMM_WORLD\n",
    "rank = comm.Get_rank()"
   ]
  },
  {
   "cell_type": "markdown",
   "metadata": {},
   "source": [
    "Model name and directories\n",
    "-----"
   ]
  },
  {
   "cell_type": "code",
   "execution_count": 113,
   "metadata": {
    "collapsed": false
   },
   "outputs": [],
   "source": [
    "############\n",
    "#Model letter and number\n",
    "############\n",
    "\n",
    "\n",
    "#Model letter identifier default\n",
    "Model = \"T\"\n",
    "\n",
    "#Model number identifier default:\n",
    "ModNum = 0\n",
    "\n",
    "#Any isolated letter / integer command line args are interpreted as Model/ModelNum\n",
    "\n",
    "if len(sys.argv) == 1:\n",
    "    ModNum = ModNum \n",
    "elif sys.argv[1] == '-f': #\n",
    "    ModNum = ModNum \n",
    "else:\n",
    "    for farg in sys.argv[1:]:\n",
    "        if not '=' in farg: #then Assume it's a not a paramter argument\n",
    "            try:\n",
    "                ModNum = int(farg) #try to convert everingthing to a float, else remains string\n",
    "            except ValueError:\n",
    "                Model  = farg"
   ]
  },
  {
   "cell_type": "code",
   "execution_count": 114,
   "metadata": {
    "collapsed": false
   },
   "outputs": [],
   "source": [
    "###########\n",
    "#Standard output directory setup\n",
    "###########\n",
    "\n",
    "\n",
    "outputPath = \"results\" + \"/\" +  str(Model) + \"/\" + str(ModNum) + \"/\" \n",
    "imagePath = outputPath + 'images/'\n",
    "filePath = outputPath + 'files/'\n",
    "checkpointPath = outputPath + 'checkpoint/'\n",
    "dbPath = outputPath + 'gldbs/'\n",
    "outputFile = 'results_model' + Model + '_' + str(ModNum) + '.dat'\n",
    "\n",
    "if uw.rank()==0:\n",
    "    # make directories if they don't exist\n",
    "    if not os.path.isdir(outputPath):\n",
    "        os.makedirs(outputPath)\n",
    "    if not os.path.isdir(checkpointPath):\n",
    "        os.makedirs(checkpointPath)\n",
    "    if not os.path.isdir(imagePath):\n",
    "        os.makedirs(imagePath)\n",
    "    if not os.path.isdir(dbPath):\n",
    "        os.makedirs(dbPath)\n",
    "    if not os.path.isdir(filePath):\n",
    "        os.makedirs(filePath)\n",
    "\n",
    "        \n",
    "comm.Barrier() #Barrier here so no procs run the check in the next cell too early"
   ]
  },
  {
   "cell_type": "code",
   "execution_count": 115,
   "metadata": {
    "collapsed": false
   },
   "outputs": [
    {
     "name": "stdout",
     "output_type": "stream",
     "text": [
      "results/T/0/checkpoint/ is empty\n"
     ]
    }
   ],
   "source": [
    "###########\n",
    "#Check if starting from checkpoint\n",
    "###########\n",
    "\n",
    "checkdirs = []\n",
    "for dirpath, dirnames, files in os.walk(checkpointPath):\n",
    "    if files:\n",
    "        print dirpath, 'has files'\n",
    "        checkpointLoad = True\n",
    "        checkdirs.append(dirpath)\n",
    "    if not files:\n",
    "        print dirpath, 'is empty'\n",
    "        checkpointLoad = False"
   ]
  },
  {
   "cell_type": "code",
   "execution_count": 116,
   "metadata": {
    "collapsed": true
   },
   "outputs": [],
   "source": [
    "# setup summary output file (name above)\n",
    "if checkpointLoad:\n",
    "    checkpointLoadDir = natsort.natsort(checkdirs)[-1]\n",
    "    if uw.rank() == 0:\n",
    "        shutil.copyfile(os.path.join(checkpointLoadDir, outputFile), outputPath+outputFile)\n",
    "    comm.Barrier()\n",
    "    f_o = open(os.path.join(outputPath, outputFile), 'a')\n",
    "    prevdata = np.genfromtxt(os.path.join(outputPath, outputFile), skip_header=0, skip_footer=0)\n",
    "    if len(prevdata.shape) == 1: #this is in case there is only one line in previous file\n",
    "        realtime = prevdata[-1]  #This corresponds to the column you write time data to\n",
    "    else:\n",
    "        realtime = prevdata[prevdata.shape[0]-1, -1]\n",
    "    step = int(checkpointLoadDir.split('/')[-1])\n",
    "    timevals = [0.]\n",
    "else:\n",
    "    f_o = open(outputPath+outputFile, 'w')\n",
    "    realtime = 0.\n",
    "    step = 0\n",
    "    timevals = [0.]"
   ]
  },
  {
   "cell_type": "markdown",
   "metadata": {},
   "source": [
    "Setup parameters\n",
    "-----\n",
    "\n",
    "Set simulation parameters for test."
   ]
  },
  {
   "cell_type": "markdown",
   "metadata": {},
   "source": [
    "**Use pint to setup any unit conversions we'll need**"
   ]
  },
  {
   "cell_type": "code",
   "execution_count": 117,
   "metadata": {
    "collapsed": false
   },
   "outputs": [
    {
     "data": {
      "text/html": [
       "10000.0 meter/megayear"
      ],
      "text/latex": [
       "$10000.0 \\frac{meter}{megayear}$"
      ],
      "text/plain": [
       "<Quantity(10000.0, 'meter / megayear')>"
      ]
     },
     "execution_count": 117,
     "metadata": {},
     "output_type": "execute_result"
    }
   ],
   "source": [
    "u = pint.UnitRegistry()\n",
    "cmpery = 1.*u.cm/u.year\n",
    "mpermy = 1.*u.m/u.megayear\n",
    "year = 1.*u.year\n",
    "spery = year.to(u.sec)\n",
    "cmpery.to(mpermy)"
   ]
  },
  {
   "cell_type": "code",
   "execution_count": 118,
   "metadata": {
    "collapsed": false
   },
   "outputs": [
    {
     "name": "stdout",
     "output_type": "stream",
     "text": [
      "(0.04, 1.2675505856327397e-11)\n"
     ]
    }
   ],
   "source": [
    "box_half_width =4000e3\n",
    "age_at_trench = 100e6\n",
    "cmperyear = box_half_width / age_at_trench #m/y\n",
    "mpersec = cmperyear*(cmpery.to(u.m/u.second)).magnitude #m/sec\n",
    "print(cmperyear, mpersec )"
   ]
  },
  {
   "cell_type": "markdown",
   "metadata": {},
   "source": [
    "**Set parameter dictionaries**\n",
    "\n",
    "* Parameters are stored in dictionaries. \n",
    "* If starting from checkpoint, parameters are loaded using pickle\n",
    "* If params are passed in as flags to the script, they overwrite \n"
   ]
  },
  {
   "cell_type": "code",
   "execution_count": 119,
   "metadata": {
    "collapsed": false
   },
   "outputs": [],
   "source": [
    "###########\n",
    "#Parameter / settings dictionaries get saved&loaded using pickle\n",
    "###########\n",
    " \n",
    "dp = edict({}) #dimensional parameters\n",
    "sf = edict({}) #scaling factors\n",
    "ndp = edict({}) #dimensionless paramters\n",
    "md = edict({}) #model paramters, flags etc\n",
    "#od = edict({}) #output frequencies\n",
    "\n"
   ]
  },
  {
   "cell_type": "code",
   "execution_count": 120,
   "metadata": {
    "collapsed": false
   },
   "outputs": [],
   "source": [
    "dict_list = [dp, sf, ndp, md]\n",
    "dict_names = ['dp.pkl', 'sf.pkl', 'ndp.pkl', 'md.pkl']\n",
    "\n",
    "def save_pickles(dict_list, dict_names, dictPath):\n",
    "    import pickle\n",
    "    counter = 0\n",
    "    for pdict in dict_list:\n",
    "        myfile = os.path.join(dictPath, dict_names[counter])\n",
    "        with open(myfile, 'wb') as f:\n",
    "            pickle.dump(pdict, f)\n",
    "        counter+=1\n",
    "\n",
    "\n",
    "#ended up having to pretty much write a hard-coded function\n",
    "#All dictionaries we want checkpointed will have to  be added here \n",
    "#and where the function is called\n",
    "#Fortunately, this function is only called ONCE\n",
    "\n",
    "def load_pickles():\n",
    "    import pickle\n",
    "    dirpath = os.path.join(checkpointPath, str(step))\n",
    "    dpfile = open(os.path.join(dirpath, 'dp.pkl'), 'r')\n",
    "    dp = pickle.load(dpfile)\n",
    "#    #\n",
    "    ndpfile = open(os.path.join(dirpath, 'ndp.pkl'), 'r')\n",
    "    ndp = edict(pickle.load(ndpfile))\n",
    "    #\n",
    "    sffile = open(os.path.join(dirpath, 'sf.pkl'), 'r')\n",
    "    sf = edict(pickle.load(sffile))\n",
    "    #\n",
    "    mdfile = open(os.path.join(dirpath, 'md.pkl'), 'r')\n",
    "    md = edict(pickle.load(mdfile))\n",
    "    return dp, ndp, sf, md"
   ]
  },
  {
   "cell_type": "code",
   "execution_count": 121,
   "metadata": {
    "collapsed": false
   },
   "outputs": [],
   "source": [
    "###########\n",
    "#Store the physical parameters, scale factors and dimensionless pramters in easyDicts\n",
    "#Mainly helps with avoiding overwriting variables\n",
    "###########\n",
    "\n",
    "\n",
    "dp = edict({'LS':670*1e3, #Scaling Length scale\n",
    "            'depth':670*1e3, #Depth of domain\n",
    "            'rho':3300.,  #reference density\n",
    "            'g':9.8, #surface gravity\n",
    "            'eta0':1e20, #reference viscosity\n",
    "            'k':1e-6, #thermal diffusivity\n",
    "            'a':3e-5, #surface thermal expansivity\n",
    "            'R':8.314, #gas constant\n",
    "            'TP':1673., #mantle potential temp (K)\n",
    "            'TS':273., #surface temp (K)\n",
    "            #Rheology - flow law paramters\n",
    "            'Adf':3e-11, #pre-exp factor for diffusion creep\n",
    "            'Edf':1e5, #Total viscosity variation in the Kaplan model\n",
    "            'cm':40e6, #mantle cohesion in Byerlee law\n",
    "            'cc':40e6, #mantle cohesion in Byerlee law\n",
    "            'ci':40e6, #mantle cohesion in Byerlee law\n",
    "            'cf':40e6, #mantle cohesion in Byerlee law\n",
    "            'fcm':0.03,   #mantle friction coefficient in Byerlee law (tan(phi))\n",
    "            'fcc':0.03,   #crust friction coefficient \n",
    "            'fci':0.03,   #subduction interface friction coefficient\n",
    "            'fcf':0.03,   #subduction interface friction coefficient\n",
    "            #Rheology - cutoff values\n",
    "            'eta_min':1e17, \n",
    "            'eta_max':1e25, #viscosity max in the mantle material\n",
    "            'eta_min_crust':1e20, #viscosity min in the weak-crust material\n",
    "            'eta_max_crust':1e20, #viscosity max in the weak-crust material\n",
    "            'eta_min_interface':1e20, #viscosity min in the subduction interface material\n",
    "            'eta_max_interface':1e20, #viscosity max in the subduction interface material\n",
    "            'eta_min_fault':1e20, #viscosity min in the subduction interface material\n",
    "            'eta_max_fault':1e20, #viscosity max in the subduction interface material\n",
    "            #Length scales\n",
    "            'MANTLETOCRUST':10.*1e3, #Crust depth\n",
    "            'HARZBURGDEPTH':40e3,\n",
    "            'CRUSTTOMANTLE':800.*1e3,\n",
    "            'LITHTOMANTLE':(900.*1e3),\n",
    "            'MANTLETOLITH':200.*1e3, \n",
    "            'TOPOHEIGHT':10.*1e3,  #rock-air topography limits\n",
    "            'CRUSTTOECL':100.*1e3,\n",
    "            'LOWMANTLEDEPTH':660.*1e3, \n",
    "            'CRUSTVISCUTOFF':150.*1e3, #Deeper than this, crust material rheology reverts to mantle rheology\n",
    "            'AGETRACKDEPTH':100e3, #above this depth we track the age of the lithsphere (below age is assumed zero)\n",
    "            #Slab and plate parameters\n",
    "            'roc':250e3,     #radius of curvature of slab\n",
    "            'subzone':0.0,   #X position of subduction zone...km\n",
    "            'lRidge':-0.5*(670e3*4),  #For depth = 670 km, aspect ratio of 4, this puts the ridges at MINX, MAXX\n",
    "            'rRidge':0.5*(670e3*4),\n",
    "            'maxDepth':250e3,\n",
    "            'theta':70., #Angle to truncate the slab (can also control with a maxDepth param)\n",
    "            'slabmaxAge':60e6, #age of subduction plate at trench\n",
    "            'platemaxAge':60e6, #max age of slab (Plate model)\n",
    "            'sense':'Right', #dip direction\n",
    "            'op_age_fac':0.5, #this controls the overidding plate age reduction\n",
    "            #Misc\n",
    "            'StALS':100e3, #depth of sticky air layer\n",
    "            'Steta_n':1e19, #stick air viscosity, normal\n",
    "            'Steta_s':1e18, #stick air viscosity, shear \n",
    "            'plate_vel':4,\n",
    "            'low_mantle_visc_fac':30.\n",
    "           })\n",
    "\n",
    "#append any derived parameters to the dictionary\n",
    "dp.deltaT = dp.TP - dp.TS\n",
    "\n",
    "\n"
   ]
  },
  {
   "cell_type": "code",
   "execution_count": 122,
   "metadata": {
    "collapsed": false
   },
   "outputs": [],
   "source": [
    "#Modelling and Physics switches\n",
    "\n",
    "md = edict({'refineMesh':True,\n",
    "            'stickyAir':False,\n",
    "            'subductionFault':False,\n",
    "            'symmetricIcs':False,\n",
    "            'velBcs':False,\n",
    "            'aspectRatio':4,\n",
    "            'compBuoyancy':False, #use compositional & phase buoyancy, or simply thermal\n",
    "            'periodicBcs':False,\n",
    "            'RES':128\n",
    "            })"
   ]
  },
  {
   "cell_type": "code",
   "execution_count": 123,
   "metadata": {
    "collapsed": false
   },
   "outputs": [],
   "source": [
    "###########\n",
    "#If starting from a checkpoint load params from file\n",
    "###########\n",
    "\n",
    "if checkpointLoad:\n",
    "    dp, ndp, sf, md = load_pickles()  #remember to add any extra dictionaries\n"
   ]
  },
  {
   "cell_type": "code",
   "execution_count": 124,
   "metadata": {
    "collapsed": false
   },
   "outputs": [],
   "source": [
    "###########\n",
    "#If command line args are given, overwrite\n",
    "#Note that this assumes that params as commans line args/\n",
    "#only append to the 'dimensional' and 'model' dictionary (not the non-dimensional)\n",
    "###########    \n",
    "\n",
    "\n",
    "###########\n",
    "#If extra arguments are provided to the script\" eg:\n",
    "### >>> uw.py 2 dp.arg1=1 dp.arg2=foo dp.arg3=3.0\n",
    "###\n",
    "###This would assign ModNum = 2, all other values go into the dp dictionary, under key names provided\n",
    "###\n",
    "###Two operators are searched for, = & *=\n",
    "###\n",
    "###If =, parameter is re-assigned to givn value\n",
    "###If *=, parameter is multipled by given value\n",
    "###\n",
    "### >>> uw.py 2 dp.arg1=1 dp.arg2=foo dp.arg3*=3.0\n",
    "###########\n",
    "\n",
    "for farg in sys.argv[1:]:\n",
    "    try:\n",
    "        (dicitem,val) = farg.split(\"=\") #Split on equals operator\n",
    "        (dic,arg) = dicitem.split(\".\") #colon notation\n",
    "        if '*=' in farg:\n",
    "            (dicitem,val) = farg.split(\"*=\") #If in-place multiplication, split on '*='\n",
    "            (dic,arg) = dicitem.split(\".\")\n",
    "            \n",
    "        if val == 'True': \n",
    "            val = True\n",
    "        elif val == 'False':     #First check if args are boolean\n",
    "            val = False\n",
    "        else:\n",
    "            try:\n",
    "                val = float(val) #next try to convert  to a float,\n",
    "            except ValueError:\n",
    "                pass             #otherwise leave as string\n",
    "        #Update the dictionary\n",
    "        if farg.startswith('dp'):\n",
    "            if '*=' in farg:\n",
    "                dp[arg] = dp[arg]*val #multiply parameter by given factor\n",
    "            else:\n",
    "                dp[arg] = val    #or reassign parameter by given value\n",
    "        if farg.startswith('md'):\n",
    "            if '*=' in farg:\n",
    "                md[arg] = md[arg]*val #multiply parameter by given factor\n",
    "            else:\n",
    "                md[arg] = val    #or reassign parameter by given value\n",
    "                \n",
    "    except:\n",
    "        pass\n",
    "            \n",
    "\n",
    "comm.barrier()"
   ]
  },
  {
   "cell_type": "code",
   "execution_count": 125,
   "metadata": {
    "collapsed": true
   },
   "outputs": [],
   "source": [
    "#print('refine Mesh is: ', md.refineMesh)"
   ]
  },
  {
   "cell_type": "code",
   "execution_count": 126,
   "metadata": {
    "collapsed": false
   },
   "outputs": [],
   "source": [
    "#Only build these guys first time around, otherwise the read from checkpoints\n",
    "#Important because some of these params (like SZ location) may change during model evolution\n",
    "\n",
    "\n",
    "if not checkpointLoad:\n",
    "\n",
    "    \n",
    "    \n",
    "    sf = edict({'stress':dp.LS**2/(dp.k*dp.eta0),\n",
    "                'lith_grad':dp.rho*dp.g*(dp.LS)**3/(dp.eta0*dp.k) , \n",
    "                'vel':dp.LS/dp.k,\n",
    "                'SR':dp.LS**2/dp.k    \n",
    "               })\n",
    "\n",
    "    #dimensionless parameters\n",
    "\n",
    "    ndp = edict({'RA':(dp.g*dp.rho*dp.a*(dp.TP - dp.TS)*(dp.LS)**3)/(dp.k*dp.eta0),\n",
    "                 'Edf':math.log(dp.Edf),\n",
    "                 'TSP':0., \n",
    "                 'TBP':1.,\n",
    "                 'TPP':(dp.TP - dp.TS)/dp.deltaT, #dimensionless potential temp\n",
    "                 'TS':dp.TS/dp.deltaT,\n",
    "                 'TP':dp.TP/dp.deltaT,\n",
    "                 'cm':dp.cm*sf.stress,\n",
    "                 'cc':dp.cc*sf.stress,    #{dimensionless cohesion in mantle, crust, interface}\n",
    "                 'ci':dp.ci*sf.stress,\n",
    "                 'cf':dp.cf*sf.stress,\n",
    "                 'fcmd':dp.fcm*sf.lith_grad, \n",
    "                 'fccd':dp.fcc*sf.lith_grad, #{dimensionless friction coefficient in mantle, crust, interface}\n",
    "                 'fcid':dp.fci*sf.lith_grad, \n",
    "                 'fcfd':dp.fci*sf.lith_grad, \n",
    "                 #Rheology - cutoff values\n",
    "                 'eta_min':dp.eta_min/dp.eta0, \n",
    "                 'eta_max':dp.eta_max/dp.eta0, #viscosity max in the mantle material\n",
    "                 'eta_min_crust':dp.eta_min_crust/dp.eta0, #viscosity min in the weak-crust material\n",
    "                 'eta_max_crust':dp.eta_max_crust/dp.eta0, #viscosity max in the weak-crust material\n",
    "                 'eta_min_interface':dp.eta_min_interface/dp.eta0, #viscosity min in the subduction interface material\n",
    "                 'eta_max_interface':dp.eta_max_interface/dp.eta0, #viscosity max in the subduction interface material\n",
    "                 'eta_min_fault':dp.eta_min_fault/dp.eta0, #viscosity min in the subduction interface material\n",
    "                 'eta_max_fault':dp.eta_max_fault/dp.eta0, #viscosity max in the subduction interface material   \n",
    "                 #Length scales\n",
    "                 'MANTLETOCRUST':dp.MANTLETOCRUST/dp.LS, #Crust depth\n",
    "                 'HARZBURGDEPTH':dp.HARZBURGDEPTH/dp.LS,\n",
    "                 'CRUSTTOMANTLE':dp.CRUSTTOMANTLE/dp.LS,\n",
    "                 'LITHTOMANTLE':dp.LITHTOMANTLE/dp.LS,\n",
    "                 'MANTLETOLITH':dp.MANTLETOLITH/dp.LS,\n",
    "                 'TOPOHEIGHT':dp.TOPOHEIGHT/dp.LS,  #rock-air topography limits\n",
    "                 'CRUSTTOECL':dp.CRUSTTOECL/dp.LS,\n",
    "                 'LOWMANTLEDEPTH':dp.LOWMANTLEDEPTH/dp.LS, \n",
    "                 'CRUSTVISCUTOFF':dp.CRUSTVISCUTOFF/dp.LS, #Deeper than this, crust material rheology reverts to mantle rheology\n",
    "                 'AGETRACKDEPTH':dp.AGETRACKDEPTH/dp.LS,\n",
    "                 #Slab and plate parameters\n",
    "                 'roc':dp.roc/dp.LS,     #radius of curvature of slab\n",
    "                 'subzone':dp.subzone/dp.LS,   #X position of subduction zone...km\n",
    "                 'lRidge':dp.lRidge/dp.LS,  #For depth = 670 km, aspect ratio of 4, this puts the ridges at MINX, MAXX\n",
    "                 'rRidge':dp.rRidge/dp.LS,\n",
    "                 'maxDepth':dp.maxDepth/dp.LS,    \n",
    "                 #misc\n",
    "                 'Steta_n':dp.Steta_n/dp.eta0, #stick air viscosity, normal\n",
    "                 'Steta_s':dp.Steta_n/dp.eta0, #stick air viscosity, shear \n",
    "                 'StALS':dp.StALS/dp.LS,\n",
    "                 'plate_vel':sf.vel*dp.plate_vel*(cmpery.to(u.m/u.second)).magnitude,\n",
    "                 'low_mantle_visc_fac':dp.low_mantle_visc_fac\n",
    "                })\n",
    "\n",
    "\n",
    "\n",
    "    #Append any more derived paramters\n",
    "    ndp.StRA = (3300.*dp.g*(dp.LS)**3)/(dp.eta0 *dp.k) #Composisitional Rayleigh number for rock-air buoyancy force\n",
    "    dp.CVR = (0.1*(dp.k/dp.LS)*ndp.RA**(2/3.))\n",
    "    ndp.CVR = dp.CVR*sf.vel #characteristic velocity"
   ]
  },
  {
   "cell_type": "code",
   "execution_count": 127,
   "metadata": {
    "collapsed": false
   },
   "outputs": [
    {
     "data": {
      "text/plain": [
       "11.512925464970229"
      ]
     },
     "execution_count": 127,
     "metadata": {},
     "output_type": "execute_result"
    }
   ],
   "source": [
    "ndp.Edf"
   ]
  },
  {
   "cell_type": "code",
   "execution_count": 128,
   "metadata": {
    "collapsed": false
   },
   "outputs": [
    {
     "data": {
      "text/plain": [
       "(849.2588923739356, 670000000000.0, 3.168876464081849e-10)"
      ]
     },
     "execution_count": 128,
     "metadata": {},
     "output_type": "execute_result"
    }
   ],
   "source": [
    "ndp.plate_vel, sf.vel, (cmpery.to(u.m/u.second)).magnitude"
   ]
  },
  {
   "cell_type": "markdown",
   "metadata": {},
   "source": [
    "**Model setup parameters**"
   ]
  },
  {
   "cell_type": "code",
   "execution_count": 129,
   "metadata": {
    "collapsed": false
   },
   "outputs": [],
   "source": [
    "###########\n",
    "#Model setup parameters\n",
    "###########\n",
    "\n",
    "#Domain and Mesh paramters\n",
    "dim = 2          # number of spatial dimensions\n",
    "\n",
    "tot_depth = np.round(dp.depth/dp.LS, 3)\n",
    "\n",
    "#These options allow us to explore the choice of different length scalings\n",
    "\n",
    "if tot_depth == 1.: #Depth equal to length scale\n",
    "    MINY = 0.\n",
    "    MAXY = 1.\n",
    "elif tot_depth > 1.: #Depth larger than to length scale\n",
    "    MINY = 0.\n",
    "    MAXY = tot_depth\n",
    "    \n",
    "elif tot_depth < 1.: #Depth smaller to length scale\n",
    "    MINY = np.round(1. - tot_depth, 2)\n",
    "    MAXY = 1.\n",
    "    \n",
    "MINX = np.round(-1.*tot_depth*md.aspectRatio/2., 2)  #Aspect ratio is fixed, x-domain shifts according to system depth and length scale\n",
    "\n",
    "MAXX = np.round(1.*tot_depth*md.aspectRatio/2., 2)\n",
    "\n",
    "if MINX == 0.:\n",
    "    squareModel = True\n",
    "else: \n",
    "    squareModel = False\n",
    "    \n",
    "    \n",
    "\n",
    "Xres = int(md.RES*md.aspectRatio)\n",
    "#if MINY == 0.5:\n",
    "#    Xres = int(2.*RES*md.aspectRatio)\n",
    "    \n",
    "\n",
    "if md.stickyAir:\n",
    "    Yres = int(md.RES)\n",
    "    MAXY = np.round(MAXY + dp.StALS/dp.LS, 2)\n",
    "    \n",
    "else:\n",
    "    Yres = int(md.RES)\n",
    "    MAXY = np.round(MAXY, 2)\n",
    "\n",
    "periodic = [False, False]\n",
    "if md.periodicBcs:\n",
    "    periodic = [True, False]\n",
    "    \n",
    "elementType = \"Q1/dQ0\"\n",
    "#elementType =\"Q2/DPC1\"\n",
    "\n",
    "\n",
    "#System/Solver stuff\n",
    "PIC_integration=True\n",
    "ppc = 25\n",
    "\n",
    "#Metric output stuff\n",
    "figures =  'gldb' #glucifer Store won't work on all machines, if not, set to 'gldb' \n",
    "swarm_repop, swarm_update = 10, 10\n",
    "gldbs_output = 50\n",
    "checkpoint_every, files_output = 50, 50\n",
    "metric_output = 10\n",
    "sticky_air_temp = 1e6"
   ]
  },
  {
   "cell_type": "markdown",
   "metadata": {},
   "source": [
    "Create mesh and finite element variables\n",
    "------"
   ]
  },
  {
   "cell_type": "code",
   "execution_count": 130,
   "metadata": {
    "collapsed": false
   },
   "outputs": [],
   "source": [
    "mesh = uw.mesh.FeMesh_Cartesian( elementType = (elementType),\n",
    "                                 elementRes  = (Xres, Yres), \n",
    "                                 minCoord    = (MINX, MINY), \n",
    "                                 maxCoord    = (MAXX, MAXY), periodic=periodic)\n",
    "\n",
    "velocityField       = uw.mesh.MeshVariable( mesh=mesh,         nodeDofCount=2 )\n",
    "pressureField       = uw.mesh.MeshVariable( mesh=mesh.subMesh, nodeDofCount=1 )\n",
    "temperatureField    = uw.mesh.MeshVariable( mesh=mesh,         nodeDofCount=1 )\n",
    "temperatureDotField = uw.mesh.MeshVariable( mesh=mesh,         nodeDofCount=1 )"
   ]
  },
  {
   "cell_type": "code",
   "execution_count": 131,
   "metadata": {
    "collapsed": true
   },
   "outputs": [],
   "source": [
    "mesh.reset()"
   ]
  },
  {
   "cell_type": "code",
   "execution_count": 132,
   "metadata": {
    "collapsed": false
   },
   "outputs": [],
   "source": [
    "###########\n",
    "#Mesh refinement\n",
    "###########\n",
    "\n",
    "#X-Axis\n",
    "\n",
    "if md.refineMesh:\n",
    "    mesh.reset()\n",
    "    axis = 0\n",
    "    origcoords = np.linspace(mesh.minCoord[axis], mesh.maxCoord[axis], mesh.elementRes[axis] + 1)\n",
    "    edge_rest_lengths = np.diff(origcoords)\n",
    "\n",
    "    deform_lengths = edge_rest_lengths.copy()\n",
    "    min_point =  (abs(mesh.maxCoord[axis]) - abs(mesh.minCoord[axis]))/2.\n",
    "    el_reduction = 0.5001\n",
    "    dx = mesh.maxCoord[axis] - min_point\n",
    "\n",
    "    deform_lengths = deform_lengths - \\\n",
    "                                    ((1.-el_reduction) *deform_lengths[0]) + \\\n",
    "                                    abs((origcoords[1:] - min_point))*((0.5*deform_lengths[0])/dx)\n",
    "\n",
    "    #print(edge_rest_lengths.shape, deform_lengths.shape)\n",
    "\n",
    "    spmesh.deform_1d(deform_lengths, mesh,axis = 'x',norm = 'Min', constraints = [])"
   ]
  },
  {
   "cell_type": "code",
   "execution_count": 133,
   "metadata": {
    "collapsed": false
   },
   "outputs": [],
   "source": [
    "axis = 1\n",
    "orgs = np.linspace(mesh.minCoord[axis], mesh.maxCoord[axis], mesh.elementRes[axis] + 1)\n",
    "\n",
    "value_to_constrain = MAXY #nodes will remain along this line\n",
    "\n",
    "\n",
    "yconst = [(spmesh.find_closest(orgs, value_to_constrain), np.array([value_to_constrain,0]))]"
   ]
  },
  {
   "cell_type": "code",
   "execution_count": 134,
   "metadata": {
    "collapsed": false,
    "scrolled": true
   },
   "outputs": [],
   "source": [
    "###########\n",
    "#Mesh refinement\n",
    "###########\n",
    "\n",
    "if md.refineMesh:\n",
    "    #Y-Axis\n",
    "    axis = 1\n",
    "    origcoords = np.linspace(mesh.minCoord[axis], mesh.maxCoord[axis], mesh.elementRes[axis] + 1)\n",
    "    edge_rest_lengths = np.diff(origcoords)\n",
    "\n",
    "    deform_lengths = edge_rest_lengths.copy()\n",
    "    min_point =  (mesh.maxCoord[axis])\n",
    "    el_reduction = 0.5001\n",
    "    dx = mesh.maxCoord[axis]\n",
    "\n",
    "    deform_lengths = deform_lengths - \\\n",
    "                                    ((1.-el_reduction)*deform_lengths[0]) + \\\n",
    "                                    abs((origcoords[1:] - min_point))*((0.5*deform_lengths[0])/dx)\n",
    "\n",
    "    #print(edge_rest_lengths.shape, deform_lengths.shape)\n",
    "\n",
    "    spmesh.deform_1d(deform_lengths, mesh,axis = 'y',norm = 'Min', constraints = yconst)"
   ]
  },
  {
   "cell_type": "code",
   "execution_count": 135,
   "metadata": {
    "collapsed": false
   },
   "outputs": [],
   "source": [
    "#fig= glucifer.Figure()\n",
    "\n",
    "#fig.append(glucifer.objects.Mesh(mesh))\n",
    "\n",
    "#fig.show()\n",
    "#fig.save_database('test.gldb')"
   ]
  },
  {
   "cell_type": "code",
   "execution_count": 136,
   "metadata": {
    "collapsed": false
   },
   "outputs": [],
   "source": [
    "#THis is a hack for adding a sticky air domain, we refine MAXY and things like the temperature stencil work from Y = 1. \n",
    "\n",
    "if md.stickyAir:\n",
    "    MAXY = 1."
   ]
  },
  {
   "cell_type": "markdown",
   "metadata": {},
   "source": [
    "Initial conditions\n",
    "-------\n"
   ]
  },
  {
   "cell_type": "code",
   "execution_count": 137,
   "metadata": {
    "collapsed": false
   },
   "outputs": [],
   "source": [
    "coordinate = fn.input()\n",
    "depthFn = MAXY - coordinate[1] #a function providing the depth\n",
    "\n",
    "\n",
    "xFn = coordinate[0]  #a function providing the x-coordinate\n",
    "yFn = coordinate[1]\n"
   ]
  },
  {
   "cell_type": "code",
   "execution_count": 138,
   "metadata": {
    "collapsed": false
   },
   "outputs": [],
   "source": [
    "\n",
    "def age_fn(xFn, sz = 0.0, lMOR=MINX, rMOR=MAXX, opFac=1., conjugate_plate = False):\n",
    "    \"\"\"\n",
    "    Simple function to generate a discrete 1-d (i.e x-coordinate) function for the age of the thermal BC. \n",
    "    All paramters are dimensionless\n",
    "    sz: location of subduction zone\n",
    "    lMOR: location of left-hand MOR\n",
    "    rMOR: location of right-hand MOR\n",
    "    opFac: uniform reduce the age of the right hand plate by this factor\n",
    "    conjugate_plate: if True, build plates on the outer sides of the MORs, if False, age = 0. \n",
    "    \"\"\"\n",
    "    \n",
    "    if lMOR < MINX:\n",
    "        lMOR = MINX\n",
    "    if rMOR > MAXX:\n",
    "        rMOR = MAXX\n",
    "    r_grad =  1./(abs(rMOR-sz))\n",
    "    l_grad =  1./(abs(sz-lMOR))\n",
    "    if conjugate_plate:\n",
    "        ageFn = fn.branching.conditional([(operator.and_(xFn > lMOR, xFn < sz) , (xFn + abs(lMOR))/(abs(sz-lMOR))), \n",
    "                                      (operator.and_(xFn < rMOR, xFn >= sz), (1.-(xFn + abs(sz))/abs(rMOR-sz))*opFac),\n",
    "                                      (xFn > rMOR, r_grad*opFac*(xFn -abs(rMOR)) / (abs(MAXX-rMOR))),\n",
    "                                      (True, l_grad*fn.math.abs((((xFn + abs(lMOR)) / (abs(lMOR - MINX))))))\n",
    "                                         ])\n",
    "    else:    \n",
    "        \n",
    "        ageFn = fn.branching.conditional([(operator.and_(xFn > lMOR, xFn < sz) , (xFn + abs(lMOR))/(abs(sz-lMOR))), \n",
    "                                      (operator.and_(xFn < rMOR, xFn >= sz), (1.-(xFn + abs(sz))/abs(rMOR-sz))*opFac),\n",
    "\n",
    "                                      (True, 0.0)])\n",
    "    return ageFn"
   ]
  },
  {
   "cell_type": "code",
   "execution_count": 139,
   "metadata": {
    "collapsed": false
   },
   "outputs": [],
   "source": [
    "###########\n",
    "#Thermal initial condition - half-space coooling\n",
    "###########\n",
    "\n",
    "\n",
    "#  a few conversions\n",
    "ageAtTrenchSeconds = min(dp.platemaxAge*(3600*24*365), dp.slabmaxAge*(3600*24*365))\n",
    "#slab perturbation params (mostly dimensionless / model params here)\n",
    "phi = 90. - dp.theta\n",
    "Org = (ndp.subzone, MAXY-ndp.roc)\n",
    "\n",
    "#First build the top TBL\n",
    "ageFn = age_fn(xFn, sz =ndp.subzone, lMOR=ndp.lRidge,rMOR=ndp.rRidge, conjugate_plate=True, opFac = dp.op_age_fac)\n",
    "#dimensionlize the age function\n",
    "ageFn *= ageAtTrenchSeconds #seconds to year\n",
    "w0 = (2.*math.sqrt(dp.k*ageAtTrenchSeconds))/dp.LS #diffusion depth of plate at the trench\n",
    "\n",
    "tempBL = (ndp.TP - ndp.TS) *fn.math.erf((depthFn*dp.LS)/(2.*fn.math.sqrt(dp.k*ageFn))) + ndp.TSP #boundary layer function\n",
    "tempTBL =  fn.branching.conditional([(depthFn < w0, tempBL),\n",
    "                          (True, ndp.TPP)])\n",
    "\n",
    "if not md.symmetricIcs:\n",
    "    if not checkpointLoad:\n",
    "        out = uw.utils.MeshVariable_Projection( temperatureField, tempTBL) #apply function with projection\n",
    "        out.solve()\n",
    "\n"
   ]
  },
  {
   "cell_type": "code",
   "execution_count": 140,
   "metadata": {
    "collapsed": false
   },
   "outputs": [],
   "source": [
    "#Now build the perturbation part\n",
    "def inCircleFnGenerator(centre, radius):\n",
    "    coord = fn.input()\n",
    "    offsetFn = coord - centre\n",
    "    return fn.math.dot( offsetFn, offsetFn ) < radius**2\n",
    "\n",
    "\n",
    "\n",
    "#We use three circles to define our slab and crust perturbation,  \n",
    "Oc = inCircleFnGenerator(Org , ndp.roc)\n",
    "Ic = inCircleFnGenerator(Org , ndp.roc - w0)\n",
    "Cc = inCircleFnGenerator(Org , ndp.roc - (1.2*ndp.MANTLETOCRUST)) #... weak zone on 'outside' of slab\n",
    "Hc = inCircleFnGenerator(Org , ndp.roc - ndp.HARZBURGDEPTH) #... Harzburgite layer \n",
    "dx = (ndp.roc)/(np.math.tan((np.math.pi/180.)*phi))\n",
    "\n",
    "#We'll also create a triangle which will truncate the circles defining the slab...\n",
    "if dp.sense == 'Left':\n",
    "    ptx = ndp.subzone - dx\n",
    "else:\n",
    "    ptx = ndp.subzone + dx\n",
    "coords = ((0.+ ndp.subzone, MAXY), (0.+ ndp.subzone, MAXY-ndp.roc), (ptx, MAXY))\n",
    "Tri = fn.shape.Polygon(np.array(coords))\n",
    "\n",
    "#Actually apply the perturbation - could probably avoid particle walk here\n",
    "if not md.symmetricIcs:\n",
    "    if not checkpointLoad:\n",
    "        sdFn = ((ndp.roc - fn.math.sqrt((coordinate[0] - Org[0])**2. + (coordinate[1] - Org[1])**2.)))\n",
    "        slabFn = ndp.TPP*fn.math.erf((sdFn*dp.LS)/(2.*math.sqrt(dp.k*ageAtTrenchSeconds))) + ndp.TSP\n",
    "        for index, coord in enumerate(mesh.data):\n",
    "            if (\n",
    "                Oc.evaluate(tuple(coord)) and\n",
    "                Tri.evaluate(tuple(coord)) and not\n",
    "                Ic.evaluate(tuple(coord)) and\n",
    "                coord[1] > (MAXY - ndp.maxDepth)\n",
    "                ): #In the quarter-circle defining the lithosphere\n",
    "                temperatureField.data[index] = slabFn.evaluate(mesh)[index]\n"
   ]
  },
  {
   "cell_type": "code",
   "execution_count": 141,
   "metadata": {
    "collapsed": false
   },
   "outputs": [],
   "source": [
    "#sdFn = ((RocM - fn.math.sqrt((coordinate[0] - Org[0])**2. + (coordinate[1] - Org[1])**2.)))\n",
    "#slabFn = ndp.TPP*fn.math.erf((sdFn*dp.LS)/(2.*math.sqrt(dp.k*ageAtTrenchSeconds))) + ndp.TSP\n",
    "#sdFn, slabFn"
   ]
  },
  {
   "cell_type": "code",
   "execution_count": 142,
   "metadata": {
    "collapsed": false
   },
   "outputs": [],
   "source": [
    "#Make sure material in sticky air region is at the surface temperature.\n",
    "for index, coord in enumerate(mesh.data):\n",
    "            if coord[1] >= MAXY:\n",
    "                temperatureField.data[index] = ndp.TSP"
   ]
  },
  {
   "cell_type": "code",
   "execution_count": 143,
   "metadata": {
    "collapsed": false
   },
   "outputs": [],
   "source": [
    "#fn.math.erf((sdFn*dp.LS)/(2.*fn.math.sqrt(dp.k*(slabmaxAge*(3600*24*365))))) \n",
    "#CRUSTVISCUTOFF, MANTLETOCRUST*3"
   ]
  },
  {
   "cell_type": "markdown",
   "metadata": {
    "collapsed": false
   },
   "source": [
    "def matplot_field(temperatureField, dp):\n",
    "    if uw.nProcs() != 1:\n",
    "        print(\"only in Serial folks\")\n",
    "    else:\n",
    "        import matplotlib.pyplot as pyplt\n",
    "        try :\n",
    "            if(__IPYTHON__) :\n",
    "                get_ipython().magic(u'matplotlib inline')\n",
    "        except NameError :\n",
    "            pass\n",
    "        field_data = temperatureField.data.reshape(mesh.elementRes[1] + 1, mesh.elementRes[0] + 1)\n",
    "        fig, ax = pyplt.subplots(figsize=(32,2))\n",
    "        ql = dp.LS/1e3\n",
    "        pyplt.ioff()\n",
    "        cax =ax.imshow(np.flipud(field_data), cmap='coolwarm', aspect = 0.5, extent=[0,ql*aspectRatio,ql, 0])\n",
    "        fig.colorbar(cax, orientation='horizontal' )\n",
    "        #ax.set_x([0,dp.LS*aspectRatio])\n",
    "        pyplt.tight_layout()\n",
    "        \n",
    "        return fig, ax\n",
    "        \n",
    "fig, ax = matplot_field(temperatureField, dp)\n",
    "fig.savefig('test.png')       "
   ]
  },
  {
   "cell_type": "code",
   "execution_count": 144,
   "metadata": {
    "collapsed": false
   },
   "outputs": [
    {
     "data": {
      "text/plain": [
       "(0.0, 1.0)"
      ]
     },
     "execution_count": 144,
     "metadata": {},
     "output_type": "execute_result"
    }
   ],
   "source": [
    "temperatureField.data.min(), temperatureField.data.max()"
   ]
  },
  {
   "cell_type": "code",
   "execution_count": null,
   "metadata": {
    "collapsed": false
   },
   "outputs": [],
   "source": [
    "\n"
   ]
  },
  {
   "cell_type": "code",
   "execution_count": 145,
   "metadata": {
    "collapsed": false
   },
   "outputs": [],
   "source": [
    "\n",
    "#ageFn = age_fn(xFn)"
   ]
  },
  {
   "cell_type": "code",
   "execution_count": 150,
   "metadata": {
    "collapsed": false
   },
   "outputs": [],
   "source": [
    "\n",
    "#fig= glucifer.Figure(quality=3)\n",
    "\n",
    "#fig.append( glucifer.objects.Surface(mesh,temperatureField ))\n",
    "#fig.append( glucifer.objects.Points(gSwarm,temperatureField ))\n",
    "#fig.append( glucifer.objects.Mesh(mesh))\n",
    "#fig.show()\n",
    "\n",
    "##fig.save_database('test.gldb')\n",
    "#fig.save_image('test.png')\n"
   ]
  },
  {
   "cell_type": "markdown",
   "metadata": {},
   "source": [
    "Boundary conditions\n",
    "-------"
   ]
  },
  {
   "cell_type": "code",
   "execution_count": 147,
   "metadata": {
    "collapsed": false
   },
   "outputs": [
    {
     "name": "stdout",
     "output_type": "stream",
     "text": [
      "2\n"
     ]
    }
   ],
   "source": [
    "for index in mesh.specialSets[\"MinJ_VertexSet\"]:\n",
    "    temperatureField.data[index] = ndp.TBP\n",
    "for index in mesh.specialSets[\"MaxJ_VertexSet\"]:\n",
    "    temperatureField.data[index] = ndp.TSP\n",
    "    \n",
    "iWalls = mesh.specialSets[\"MinI_VertexSet\"] + mesh.specialSets[\"MaxI_VertexSet\"]\n",
    "jWalls = mesh.specialSets[\"MinJ_VertexSet\"] + mesh.specialSets[\"MaxJ_VertexSet\"]\n",
    "tWalls = mesh.specialSets[\"MaxJ_VertexSet\"]\n",
    "bWalls =mesh.specialSets[\"MinJ_VertexSet\"]\n",
    "\n",
    "VelBCs = mesh.specialSets[\"Empty\"]\n",
    "\n",
    "\n",
    "\n",
    "if md.velBcs:\n",
    "    for index in list(tWalls.data):\n",
    "\n",
    "        if (mesh.data[int(index)][0] < (ndp.subzone - 0.05*md.aspectRatio) and \n",
    "            mesh.data[int(index)][0] > (mesh.minCoord[0] + 0.05*md.aspectRatio)): #Only push with a portion of teh overiding plate\n",
    "            #print \"first\"\n",
    "            VelBCs.add(int(index))\n",
    "            #Set the plate velocities for the kinematic phase\n",
    "            velocityField.data[index] = [ndp.plate_vel, 0.]\n",
    "        \n",
    "        elif (mesh.data[int(index)][0] > (ndp.subzone + 0.05*md.aspectRatio) and \n",
    "            mesh.data[int(index)][0] < (mesh.maxCoord[0] - 0.05*md.aspectRatio)):\n",
    "            #print \"second\"\n",
    "            VelBCs.add(int(index))\n",
    "            #Set the plate velocities for the kinematic phase\n",
    "            velocityField.data[index] = [0., 0.]\n",
    "        \n",
    "\n",
    "#If periodic, we'll fix a the x-vel at a single node - at the bottom left (index 0)\n",
    "Fixed = mesh.specialSets[\"Empty\"]\n",
    "Fixed.add(int(0))        \n",
    "        \n",
    "\n",
    "if periodic[0] == False:\n",
    "    if md.velBcs:\n",
    "        print(1)\n",
    "        freeslipBC = uw.conditions.DirichletCondition( variable      = velocityField, \n",
    "                                               indexSetsPerDof = ( iWalls + VelBCs, jWalls) )\n",
    "    else:\n",
    "        print(2)\n",
    "        freeslipBC = uw.conditions.DirichletCondition( variable      = velocityField, \n",
    "                                               indexSetsPerDof = ( iWalls, jWalls) )\n",
    "\n",
    "\n",
    "\n",
    "\n",
    "\n",
    "\n",
    "if periodic[0] == True:\n",
    "    if md.velBcs:\n",
    "        print(3)\n",
    "        freeslipBC = uw.conditions.DirichletCondition( variable      = velocityField, \n",
    "                                               indexSetsPerDof = ( Fixed + VelBCs , jWalls) )\n",
    "    else:\n",
    "        print(4)\n",
    "        freeslipBC = uw.conditions.DirichletCondition( variable      = velocityField, \n",
    "                                               indexSetsPerDof = ( Fixed, jWalls) )\n",
    "        \n",
    "    \n",
    "    \n",
    "    \n",
    "# also set dirichlet for temp field\n",
    "dirichTempBC = uw.conditions.DirichletCondition(     variable=temperatureField, \n",
    "                                              indexSetsPerDof=(tWalls,) )\n",
    "dT_dy = [0.,0.]\n",
    "\n",
    "# also set dirichlet for temp field\n",
    "neumannTempBC = uw.conditions.NeumannCondition( dT_dy, variable=temperatureField, \n",
    "                                         nodeIndexSet=bWalls)\n",
    "\n"
   ]
  },
  {
   "cell_type": "code",
   "execution_count": null,
   "metadata": {
    "collapsed": false
   },
   "outputs": [],
   "source": []
  },
  {
   "cell_type": "code",
   "execution_count": 148,
   "metadata": {
    "collapsed": false
   },
   "outputs": [],
   "source": [
    "#check VelBCs are where we want them\n",
    "#test = np.zeros(len(tWalls.data))\n",
    "#VelBCs\n",
    "#tWalls.data\n",
    "#tWalls.data[VelBCs.data]\n",
    "#test[np.in1d(tWalls.data, VelBCs.data)] = 1.\n",
    "#test\n",
    "\n"
   ]
  },
  {
   "cell_type": "code",
   "execution_count": null,
   "metadata": {
    "collapsed": false
   },
   "outputs": [],
   "source": []
  },
  {
   "cell_type": "markdown",
   "metadata": {},
   "source": [
    "Swarm setup\n",
    "-----\n"
   ]
  },
  {
   "cell_type": "code",
   "execution_count": 37,
   "metadata": {
    "collapsed": false
   },
   "outputs": [],
   "source": [
    "###########\n",
    "#Material Swarm and variables\n",
    "###########\n",
    "\n",
    "#create material swarm\n",
    "gSwarm = uw.swarm.Swarm(mesh=mesh, particleEscape=True)\n",
    "\n",
    "#create swarm variables\n",
    "yieldingCheck = gSwarm.add_variable( dataType=\"int\", count=1 )\n",
    "#tracerVariable = gSwarm.add_variable( dataType=\"int\", count=1)\n",
    "materialVariable = gSwarm.add_variable( dataType=\"int\", count=1 )\n",
    "ageVariable = gSwarm.add_variable( dataType=\"double\", count=1 )\n",
    "#testVariable = gSwarm.add_variable( dataType=\"float\", count=1 )\n",
    "\n",
    "\n",
    "#these lists  are part of the checkpointing implementation\n",
    "varlist = [materialVariable, yieldingCheck, ageVariable]\n",
    "varnames = ['materialVariable', 'yieldingCheck', 'ageVariable']"
   ]
  },
  {
   "cell_type": "code",
   "execution_count": 38,
   "metadata": {
    "collapsed": false
   },
   "outputs": [],
   "source": [
    "mantleIndex = 0\n",
    "crustIndex = 1\n",
    "harzIndex = 2\n",
    "airIndex = 3\n",
    "\n",
    "\n",
    "\n",
    "if checkpointLoad:\n",
    "    temperatureField.load(os.path.join(checkpointLoadDir, \"temperatureField\" + \".hdf5\"))\n",
    "    pressureField.load(os.path.join(checkpointLoadDir, \"pressureField\" + \".hdf5\"))\n",
    "    velocityField.load(os.path.join(checkpointLoadDir, \"velocityField\" + \".hdf5\"))\n",
    "    gSwarm.load(os.path.join(checkpointLoadDir, \"swarm\" + \".h5\"))\n",
    "    for ix in range(len(varlist)):\n",
    "        varb = varlist[ix]\n",
    "        varb.load(os.path.join(checkpointLoadDir,varnames[ix] + \".h5\"))\n",
    "\n",
    "else:\n",
    "\n",
    "    # Layouts are used to populate the swarm across the whole domain\n",
    "    layout = uw.swarm.layouts.PerCellRandomLayout(swarm=gSwarm, particlesPerCell=ppc)\n",
    "    gSwarm.populate_using_layout( layout=layout ) # Now use it to populate.\n",
    "    # Swarm variables\n",
    "    materialVariable.data[:] = mantleIndex\n",
    "    #tracerVariable.data[:] = 1\n",
    "    yieldingCheck.data[:] = 0\n",
    "    ageVariable.data[:] = -1\n",
    "\n",
    "    #Set initial air and crust materials (allow the graph to take care of lithsophere)\n",
    "    #########\n",
    "    #This initial material setup will be model dependent\n",
    "    #########\n",
    "    for particleID in range(gSwarm.particleCoordinates.data.shape[0]):\n",
    "        if (1. - gSwarm.particleCoordinates.data[particleID][1]) < ndp.MANTLETOCRUST:\n",
    "                 materialVariable.data[particleID] = crustIndex"
   ]
  },
  {
   "cell_type": "markdown",
   "metadata": {
    "collapsed": false
   },
   "source": [
    "###########\n",
    "#This block sets up a checkboard layout of passive tracers\n",
    "###########\n",
    "\n",
    "square_size = 0.1\n",
    "xlist = np.arange(mesh.minCoord[0] + square_size/2., mesh.maxCoord[0] + square_size/2., square_size)\n",
    "xlist = zip(xlist[:], xlist[1:])[::2]\n",
    "ylist = np.arange(mesh.minCoord[1] + square_size/2., mesh.maxCoord[1] + square_size/2., square_size)\n",
    "ylist = zip(ylist[:], ylist[1:])[::2]\n",
    "xops = []\n",
    "for vals in xlist:\n",
    "    xops.append( (operator.and_(   operator.gt(coordinate[0],vals[0]),   operator.lt(coordinate[0],vals[1])  ),0.) )\n",
    "xops.append((True,1.))\n",
    "\n",
    "testfunc = fn.branching.conditional(xops) \n",
    "\n",
    "yops = []\n",
    "for vals in ylist:\n",
    "    yops.append( (operator.and_(   operator.gt(coordinate[1],vals[0]),   operator.lt(coordinate[1],vals[1])  ),0.) )\n",
    "yops.append((True,testfunc))\n",
    "\n",
    "testfunc2 = fn.branching.conditional(yops) \n",
    "tracerVariable.data[:] = testfunc.evaluate(gSwarm)\n",
    "tracerVariable.data[:] = testfunc2.evaluate(gSwarm)"
   ]
  },
  {
   "cell_type": "code",
   "execution_count": null,
   "metadata": {
    "collapsed": false
   },
   "outputs": [],
   "source": []
  },
  {
   "cell_type": "code",
   "execution_count": 39,
   "metadata": {
    "collapsed": false
   },
   "outputs": [],
   "source": [
    "##############\n",
    "#Set the initial particle age for particles above the critical depth; \n",
    "#only material older than crustageCond will be transformed to crust / harzburgite\n",
    "##############\n",
    "\n",
    "ageVariable.data[:] = 0. #start with all zero\n",
    "ageVariable.data[:] = ageFn.evaluate(gSwarm)/sf.SR\n",
    "crustageCond = 2e6*(3600.*365.*24.)/sf.SR #set inital age above critical depth. (x...Ma)\n",
    "\n",
    "\n",
    "\n",
    "ageConditions = [ (depthFn < ndp.AGETRACKDEPTH, ageVariable),  #In the main loop we add ageVariable + dt here\n",
    "                  (True, 0.) ]\n",
    "                 \n",
    "#apply conditional \n",
    "ageVariable.data[:] = fn.branching.conditional( ageConditions ).evaluate(gSwarm)\n",
    "\n",
    "ageDT = 0.#this is used in the main loop for short term time increments"
   ]
  },
  {
   "cell_type": "code",
   "execution_count": 40,
   "metadata": {
    "collapsed": false
   },
   "outputs": [],
   "source": [
    "#fig= glucifer.Figure()\n",
    "#fig.append( glucifer.objects.Points(gSwarm,ageVariable))\n",
    "#fig.append( glucifer.objects.Points(gSwarm, viscosityMapFn, logScale=True, valueRange =[1e-3,1e5]))\n",
    "\n",
    "\n",
    "#fig.show()"
   ]
  },
  {
   "cell_type": "code",
   "execution_count": 41,
   "metadata": {
    "collapsed": false
   },
   "outputs": [],
   "source": [
    "##############\n",
    "#Here we set up a directed graph object that we we use to control the transformation from one material type to another\n",
    "##############\n",
    "\n",
    "#All depth conditions are given as (km/D) where D is the length scale,\n",
    "#note that 'model depths' are used, e.g. 1-z, where z is the vertical Underworld coordinate\n",
    "#All temp conditions are in dimensionless temp. [0. - 1.]\n",
    "\n",
    "#Need a list of all material indexes (safer in parallel)\n",
    "material_list = [0,1,2,3]\n",
    "\n",
    "if not checkpointLoad:\n",
    "    materialVariable.data[:] = 0 #Initialize to zero \n",
    "\n",
    "#Setup the graph object\n",
    "DG = material_graph.MatGraph()\n",
    "\n",
    "#Important: First thing to do is to add all the material types to the graph (i.e add nodes)\n",
    "DG.add_nodes_from(material_list)\n",
    "\n",
    "#Now set the conditions for transformations\n",
    "\n",
    "hs = 2e3/dp.LS  #add some hysteresis to the depths of transition\n",
    "\n",
    "#... to mantle\n",
    "DG.add_transition((crustIndex,mantleIndex), depthFn, operator.gt, ndp.CRUSTTOMANTLE + hs)\n",
    "DG.add_transition((harzIndex,mantleIndex), depthFn, operator.gt, ndp.CRUSTTOMANTLE + hs)\n",
    "DG.add_transition((airIndex,mantleIndex), depthFn, operator.gt, ndp.TOPOHEIGHT + hs)\n",
    "\n",
    "#... to crust\n",
    "DG.add_transition((mantleIndex,crustIndex), depthFn, operator.lt, ndp.MANTLETOCRUST)\n",
    "DG.add_transition((mantleIndex,crustIndex), xFn, operator.lt, ndp.subzone + 4.*ndp.MANTLETOCRUST) #No crust on the upper plate\n",
    "DG.add_transition((mantleIndex,crustIndex), ageVariable, operator.gt, crustageCond)\n",
    "\n",
    "\n",
    "DG.add_transition((harzIndex,crustIndex), depthFn, operator.lt, ndp.MANTLETOCRUST)\n",
    "DG.add_transition((harzIndex,crustIndex), xFn, operator.lt, ndp.subzone + 4.*ndp.MANTLETOCRUST) #This one sets no crust on the upper plate\n",
    "DG.add_transition((harzIndex,crustIndex), ageVariable, operator.gt, crustageCond)\n",
    "\n",
    "#... to Harzbugite\n",
    "DG.add_transition((mantleIndex,harzIndex), depthFn, operator.lt, ndp.HARZBURGDEPTH)\n",
    "DG.add_transition((mantleIndex,harzIndex), depthFn, operator.gt, ndp.MANTLETOCRUST)\n",
    "DG.add_transition((mantleIndex,harzIndex), ageVariable, operator.gt, crustageCond) #Note we can mix functions and swarm variabls\n",
    "\n",
    "\n",
    "\n",
    "#... to air\n",
    "DG.add_transition((mantleIndex,airIndex), depthFn, operator.lt,0.)\n",
    "DG.add_transition((crustIndex,airIndex), depthFn, operator.lt, 0. )\n",
    "DG.add_transition((harzIndex,airIndex), depthFn, operator.lt, 0. )\n"
   ]
  },
  {
   "cell_type": "code",
   "execution_count": 42,
   "metadata": {
    "collapsed": false
   },
   "outputs": [],
   "source": [
    "#CRUSTTOMANTLE, HARZBURGDEPTH, 0. + 7.*MANTLETOCRUST"
   ]
  },
  {
   "cell_type": "code",
   "execution_count": 43,
   "metadata": {
    "collapsed": false
   },
   "outputs": [],
   "source": [
    "#gSwarm.particleCoordinates.data[particleID][1]"
   ]
  },
  {
   "cell_type": "code",
   "execution_count": 44,
   "metadata": {
    "collapsed": false
   },
   "outputs": [],
   "source": [
    "##############\n",
    "#For the slab_IC, we'll also add a crustal weak zone following the dipping perturbation\n",
    "##############\n",
    "\n",
    "if checkpointLoad != True:\n",
    "    if not md.symmetricIcs:\n",
    "        for particleID in range(gSwarm.particleCoordinates.data.shape[0]):\n",
    "            if gSwarm.particleCoordinates.data[particleID][1] < 0.:\n",
    "                materialVariable.data[particleID] = airIndex\n",
    "                \n",
    "            elif (\n",
    "                Oc.evaluate(list(gSwarm.particleCoordinates.data[particleID])) and\n",
    "                Tri.evaluate(list(gSwarm.particleCoordinates.data[particleID])) and\n",
    "                gSwarm.particleCoordinates.data[particleID][1] > (MAXY - ndp.maxDepth) and\n",
    "                Cc.evaluate(list(gSwarm.particleCoordinates.data[particleID])) == False\n",
    "                \n",
    "                ):\n",
    "                materialVariable.data[particleID] = crustIndex\n",
    "                \n",
    "            elif (\n",
    "                Oc.evaluate(list(gSwarm.particleCoordinates.data[particleID])) and\n",
    "                Tri.evaluate(list(gSwarm.particleCoordinates.data[particleID])) and\n",
    "                gSwarm.particleCoordinates.data[particleID][1] > (MAXY - ndp.maxDepth) and\n",
    "                Hc.evaluate(list(gSwarm.particleCoordinates.data[particleID])) == False\n",
    "                \n",
    "                ):\n",
    "                materialVariable.data[particleID] = harzIndex"
   ]
  },
  {
   "cell_type": "code",
   "execution_count": 45,
   "metadata": {
    "collapsed": false
   },
   "outputs": [],
   "source": [
    "##############\n",
    "#This is how we use the material graph object to test / apply material transformations\n",
    "##############\n",
    "DG.build_condition_list(materialVariable)\n",
    "\n",
    "for i in range(2): #Need to go through a number of times\n",
    "    materialVariable.data[:] = fn.branching.conditional(DG.condition_list).evaluate(gSwarm)"
   ]
  },
  {
   "cell_type": "code",
   "execution_count": 46,
   "metadata": {
    "collapsed": false
   },
   "outputs": [],
   "source": [
    "#maxDepth"
   ]
  },
  {
   "cell_type": "code",
   "execution_count": 47,
   "metadata": {
    "collapsed": false
   },
   "outputs": [],
   "source": [
    "#fig2= glucifer.Figure()\n",
    "#fig2.append( glucifer.objects.Points(gSwarm,materialVariable))\n",
    "#fig2.append( glucifer.objects.Surface(mesh, depthFn))\n",
    "\n",
    "#fig2.show()\n",
    "#fig2.save_database('test.gldb')"
   ]
  },
  {
   "cell_type": "markdown",
   "metadata": {
    "collapsed": false
   },
   "source": [
    "## Fault stuff\n",
    "\n"
   ]
  },
  {
   "cell_type": "code",
   "execution_count": 48,
   "metadata": {
    "collapsed": true
   },
   "outputs": [],
   "source": [
    "import marker2D"
   ]
  },
  {
   "cell_type": "code",
   "execution_count": 49,
   "metadata": {
    "collapsed": true
   },
   "outputs": [],
   "source": [
    "def update_swarm_from_faults(faults, proximityVariable, normalVectorVariable, signedDistanceVariable):\n",
    "    \"\"\"\n",
    "    Compute fault attributes from the marker-line objects in the 'faults' list.\n",
    "    Specifically:\n",
    "    \n",
    "      - proximityVariable carries information about which fault each swarm particle is close to (0 means none)\n",
    "      - normalVectorVariable maps the orientation of the fault to nearby swarm particles\n",
    "      - signedDistanceVariable carries the distance (positive means 'inside')  \n",
    "      \n",
    "      Unchecked error: if these variables are from different swarms \n",
    "      \n",
    "    \"\"\"\n",
    "    \n",
    "    for fault_seg in faults:\n",
    "\n",
    "        swarm = proximityVariable.swarm\n",
    "        \n",
    "        f, nz = fault_seg.compute_marker_proximity(swarm.particleCoordinates.data)    \n",
    "        proximityVariable.data[nz] = f[nz]\n",
    "\n",
    "        dv, nzv = fault_seg.compute_normals(swarm.particleCoordinates.data)\n",
    "        normalVectorVariable.data[nzv] = dv[nzv]\n",
    "\n",
    "        sd, dnz = fault_seg.compute_signed_distance(swarm.particleCoordinates.data)\n",
    "        signedDistanceVariable.data[dnz] = sd[dnz]\n",
    "    \n",
    "    return\n",
    "\n",
    "\n",
    "def update_swarm_from_line(fault, signedDistanceVariable):\n",
    "    \"\"\"\n",
    "    Compute fault attributes from the marker-line objects in the 'faults' list.\n",
    "    Specifically:\n",
    "    \n",
    "      - proximityVariable carries information about which fault each swarm particle is close to (0 means none)\n",
    "      - normalVectorVariable maps the orientation of the fault to nearby swarm particles\n",
    "      - signedDistanceVariable carries the distance (positive means 'inside')  \n",
    "      \n",
    "      Unchecked error: if these variables are from different swarms \n",
    "      \n",
    "    \"\"\"\n",
    "        \n",
    "    sd, dnz = fault.compute_signed_distance(gSwarm.particleCoordinates.data)\n",
    "    signedDistanceVariable.data[dnz] = sd[dnz]\n",
    "    \n",
    "    return\n",
    "\n",
    "\n",
    "def mask_materials(fault, material, materialVariable, proximityVariable, normalVectorVariable, signedDistanceVariable):\n",
    "\n",
    "    \"\"\"\n",
    "    set the key fault-related swarm variabels to zero, based on material typr\n",
    "    \"\"\"\n",
    "    \n",
    "    fptsMask1 = (materialVariable.data[:,0] != material)\n",
    "    fptsMask2 = (proximityVariable.data[:,0] == fault.ID )\n",
    "\n",
    "    fptsMaskOut = fptsMask1 & fptsMask2\n",
    "\n",
    "    normalVectorVariable.data[fptsMaskOut,:] = [0.0,0.0]\n",
    "    proximityVariable.data[fptsMaskOut] = 0\n",
    "    signedDistanceVariable.data[fptsMaskOut] = 0.0\n",
    "    \n",
    "    \n",
    "def fault_strainrate_fns(fault_list, velocityField, faultNormalVariable, proximityproVariable):\n",
    "\n",
    "    ## This is a quick / short cut way to find the resolved stress components.\n",
    "    \n",
    "    strainRateFn = fn.tensor.symmetric( velocityField.fn_gradient )\n",
    "\n",
    "    \n",
    "    _edotn_SFn = (        directorVector[0]**2 * strainRateFn[0]  + \n",
    "                    2.0 * directorVector[1]    * strainRateFn[2] * directorVector[0] + \n",
    "                          directorVector[1]**2 * strainRateFn[1]                          \n",
    "                ) \n",
    "\n",
    "    # any non-zero proximity requires the computation of the above\n",
    "    \n",
    "    _edotn_SFn_Map    = { 0: 0.0 }\n",
    "    for f in fault_list:\n",
    "        _edotn_SFn_Map[f.ID] =  _edotn_SFn\n",
    "\n",
    "\n",
    "\n",
    "   \n",
    "    _edots_SFn = (  directorVector[0] *  directorVector[1] *(strainRateFn[1] - strainRateFn[0]) +\n",
    "                    strainRateFn[2] * (directorVector[0]**2 - directorVector[1]**2)\n",
    "                 )\n",
    "    \n",
    "  \n",
    "    _edots_SFn_Map = { 0: 1.0e-15 }\n",
    "    \n",
    "    for f in fault_list:\n",
    "        _edots_SFn_Map[f.ID] =  _edots_SFn\n",
    "        \n",
    "        \n",
    "    #Finally, map the resolved strain rate to the proximity variable, \n",
    "    #which also makes resolved strain rate zero whereever proximity variable is zero \n",
    "\n",
    "\n",
    "    edotn_SFn =     fn.branching.map( fn_key = proximityVariable, \n",
    "                                      mapping = _edotn_SFn_Map)\n",
    "\n",
    "\n",
    "    edots_SFn =     fn.branching.map( fn_key = proximityVariable, \n",
    "                                      mapping = _edots_SFn_Map )\n",
    "\n",
    "    \n",
    "    return edotn_SFn, edots_SFn\n",
    "\n",
    "\n",
    "## Time update\n",
    "\n",
    "def faults_advance_in_time(faults,proximityVariable, directorVector, signedDistanceVariable, materialVariable, mmask):\n",
    "    for f in faults:\n",
    "        f.advection(dt)\n",
    "\n",
    "\n",
    "    update_swarm_from_faults(faults, proximityVariable, directorVector, signedDistanceVariable)\n",
    "    mask_materials(materialV, materialVariable, proximityVariable, directorVector, signedDistanceVariable)"
   ]
  },
  {
   "cell_type": "code",
   "execution_count": 50,
   "metadata": {
    "collapsed": false
   },
   "outputs": [
    {
     "data": {
      "text/plain": [
       "81"
      ]
     },
     "execution_count": 50,
     "metadata": {},
     "output_type": "execute_result"
    }
   ],
   "source": [
    "3**4"
   ]
  },
  {
   "cell_type": "code",
   "execution_count": 51,
   "metadata": {
    "collapsed": true
   },
   "outputs": [],
   "source": [
    "introPoint = ndp.subzone - abs(ndp.subzone - ndp.lRidge)/2. #half way between ridge and Sz\n",
    "fthickness = ndp.MANTLETOCRUST/2. #initiale fault at half-depth of crust\n",
    "nfault = 200\n",
    "faultCoords =np.zeros((nfault, 2))\n",
    "\n",
    "reducedRocM = ndp.roc  - fthickness\n",
    "xlimslab = reducedRocM*math.cos(math.pi*(90. - dp.theta)/180)\n",
    "faultCoords[:, 0] = np.linspace(introPoint, ndp.subzone + xlimslab, nfault) #note SZ location is hardcoded here \n",
    "for index, xval in np.ndenumerate(faultCoords[:,0]):\n",
    "    #print index, xval\n",
    "    #swarmCoords[index[0], 1] = 1. - isodepthFn.evaluate((xval, 0.)) #This bit for the plate \n",
    "    if  xval < ndp.subzone:\n",
    "        faultCoords[index[0], 1] = 1. - fthickness #This bit for the plate \n",
    "        \n",
    "    else:\n",
    "        faultCoords[index[0], 1] = (1. - (fthickness) - (reducedRocM - ( math.sqrt((reducedRocM**2 - (xval-ndp.subzone)**2)))))\n",
    "        \n",
    "    \n",
    "faultCoords = faultCoords[faultCoords[:,1] > (1. - ndp.maxDepth)] #kill any deeper than cutoff\n",
    "\n",
    "\n",
    "#surface tracer:\n",
    "\n",
    "surfaceCoords =np.ones((nfault, 2))*1.\n",
    "surfaceCoords[:,0] = np.linspace(MINX, MAXX, nfault)"
   ]
  },
  {
   "cell_type": "code",
   "execution_count": 52,
   "metadata": {
    "collapsed": false
   },
   "outputs": [],
   "source": [
    "#from unsupported.interfaces import markerLine2D\n",
    "faults = []\n",
    "fault_seg  = marker2D.markerLine2D(mesh, velocityField, faultCoords[:, 0], faultCoords[:, 1], fthickness, 0.0, 0.0, crustIndex)\n",
    "faults.append(fault_seg)\n",
    "\n",
    "fault_seg  = marker2D.markerLine2D(mesh, velocityField, surfaceCoords[:, 0], surfaceCoords[:, 1], ndp.StALS, 0.0, 0.0, airIndex)\n",
    "faults.append(fault_seg)\n",
    "\n",
    "\n",
    "#Add the necessary swarm variables\n",
    "\n",
    "proximityVariable      = gSwarm.add_variable( dataType=\"int\", count=1 )\n",
    "signedDistanceVariable = gSwarm.add_variable( dataType=\"float\", count=1 )\n",
    "directorVector   = gSwarm.add_variable( dataType=\"double\", count=2)\n",
    "\n",
    "directorVector.data[:,:] = 0.0\n",
    "proximityVariable.data[:] = 0\n",
    "signedDistanceVariable.data[:] = 0.0\n",
    "\n",
    "\n",
    "\n",
    "# Call the Fault helper functions to initialize this info on the main material swarm\n",
    "\n",
    "    \n",
    "    \n",
    "update_swarm_from_faults(faults[1:], proximityVariable, directorVector, signedDistanceVariable)\n",
    "mask_materials(faults[1], airIndex, materialVariable, proximityVariable, directorVector, signedDistanceVariable)\n",
    "\n",
    "\n",
    "update_swarm_from_faults(faults[0:-1], proximityVariable, directorVector, signedDistanceVariable)\n",
    "mask_materials(faults[0], crustIndex, materialVariable, proximityVariable, directorVector, signedDistanceVariable)\n",
    "\n",
    "#Also switch off proximity beneath ndp.CRUSTVISCUTOFF depth\n",
    "proximityVariable.data[gSwarm.particleCoordinates.data[:,1]  < (1. - ndp.CRUSTVISCUTOFF)] = 0. \n",
    "\n",
    "\n",
    "# These should be general enough not to need updating when the faults move etc..\n",
    "#ie they should update as the fields/functions/swarm variables they are built on update\n",
    "edotn_SFn, edots_SFn = fault_strainrate_fns(faults, velocityField, directorVector, proximityVariable)"
   ]
  },
  {
   "cell_type": "code",
   "execution_count": null,
   "metadata": {
    "collapsed": false
   },
   "outputs": [],
   "source": []
  },
  {
   "cell_type": "code",
   "execution_count": 53,
   "metadata": {
    "collapsed": false
   },
   "outputs": [],
   "source": [
    "## Take a look at the locations of the materials\n",
    "\n",
    "\n",
    "#Note we only use this mesh director for visualizing the directorVector (vector-on-swarm viewing not suppoted yet)\n",
    "meshDirector = uw.mesh.MeshVariable( mesh, 2 )\n",
    "projectDirector = uw.utils.MeshVariable_Projection( meshDirector, directorVector, type=1 )\n",
    "projectDirector.solve()    \n",
    "\n",
    "figMaterials = glucifer.Figure( figsize=(1200,400), boundingBox=((-2.0, -0.0, 0.0), (2.0, 1.0, 0.0)) )\n",
    "\n",
    "#Plot swarm associated with each fault\n",
    "for f in faults:\n",
    "    figMaterials.append( glucifer.objects.Points(f.swarm, colours=\"Black Black\", pointSize=2.0, colourBar=False) )\n",
    "\n",
    "\n",
    "#plot mesh director viz. guy\n",
    "figMaterials.append( glucifer.objects.VectorArrows(mesh, meshDirector, scaling=.08, \n",
    "                                               resolutionI=100, resolutionJ=20, opacity=0.25) )\n",
    "\n",
    "\n",
    "#Proximity variable - this is the colour\n",
    "figMaterials.append( glucifer.objects.Points(gSwarm, proximityVariable, \n",
    "                                             pointSize=5.0,  opacity=0.75) )\n",
    "\n",
    "\n",
    "#signedDistanceVariable - this variable goes to zero where the proximity cutoff is\n",
    "#note that it's signed...faults have a direction\n",
    "#figMaterials.append( glucifer.objects.Points(gSwarm, signedDistanceVariable, \n",
    "#                                             pointSize=2.0))\n",
    "\n",
    "#Add mesh\n",
    "#figMaterials.append( glucifer.objects.Mesh(mesh, opacity=0.1) )\n",
    "\n",
    "#figMaterials.show()\n",
    "#figMaterials.save_database('test.gldb')"
   ]
  },
  {
   "cell_type": "markdown",
   "metadata": {},
   "source": [
    "Rheology\n",
    "-----\n",
    "\n"
   ]
  },
  {
   "cell_type": "code",
   "execution_count": 54,
   "metadata": {
    "collapsed": false
   },
   "outputs": [],
   "source": [
    "##############\n",
    "#Set up any functions required by the rheology\n",
    "##############\n",
    "strainRate_2ndInvariant = fn.tensor.second_invariant( \n",
    "                            fn.tensor.symmetric( \n",
    "                            velocityField.fn_gradient ))\n",
    "\n",
    "def safe_visc(func, viscmin=ndp.eta_min, viscmax=ndp.eta_max):\n",
    "    return fn.misc.max(viscmin, fn.misc.min(viscmax, func))"
   ]
  },
  {
   "cell_type": "code",
   "execution_count": 55,
   "metadata": {
    "collapsed": true
   },
   "outputs": [],
   "source": [
    "#strainRate_2ndInvariant = fn.misc.constant(ndp.SR) #dummy fucntion to check which mechanisms are at active are reference strain rate"
   ]
  },
  {
   "cell_type": "code",
   "execution_count": 56,
   "metadata": {
    "collapsed": false
   },
   "outputs": [],
   "source": [
    "#ndp.crust_cohesion_fac"
   ]
  },
  {
   "cell_type": "code",
   "execution_count": 57,
   "metadata": {
    "collapsed": false
   },
   "outputs": [],
   "source": [
    "############\n",
    "#Rheology: create UW2 functions for all viscous mechanisms\n",
    "#############\n",
    "\n",
    "omega = fn.misc.constant(1.) #this function can hold any arbitary viscosity modifications \n",
    "\n",
    "\n",
    "##Diffusion Creep\n",
    "diffusion = fn.misc.min(ndp.eta_max, fn.math.exp(-1*ndp.Edf + ndp.Edf / (temperatureField + 1e-8)))\n",
    "\n",
    "\n",
    "\n",
    "##Define the Plasticity\n",
    "ys =  ndp.cm + (depthFn*ndp.fcmd)\n",
    "ysMax = 10e4*1e6*sf.stress\n",
    "ysf = fn.misc.min(ys, ysMax)\n",
    "yielding = ysf/(2.*(strainRate_2ndInvariant))\n",
    "\n",
    "##Crust rheology\n",
    "#crustys =  ndp.cohesion*ndp.crust_cohesion_fac + (depthFn*ndp.fcd*ndp.crust_fc_fac)\n",
    "crustys =  ndp.cc + (depthFn*ndp.fccd) #only weakened cohesion is discussed, not fc\n",
    "crustvisc = crustys/(2.*(strainRate_2ndInvariant)) \n",
    "\n",
    "\n",
    "##Interface rheology\n",
    "interfaceys =  ndp.ci + (depthFn*ndp.fcid) #only weakened cohesion is discussed, not fc\n",
    "interfacevisc = interfaceys/(2.*(strainRate_2ndInvariant))\n",
    "\n"
   ]
  },
  {
   "cell_type": "code",
   "execution_count": 58,
   "metadata": {
    "collapsed": false
   },
   "outputs": [],
   "source": [
    "############\n",
    "#Rheology: combine viscous mechanisms in various ways \n",
    "#harmonic: harmonic average of all mechanims\n",
    "#min: minimum effective viscosity of the mechanims\n",
    "#mixed: takes the minimum of the harmonic and the plastic effective viscosity\n",
    "#############\n",
    "\n",
    "#linear rheology \n",
    "linearviscosityFn = safe_visc(diffusion)\n",
    "\n",
    "\n",
    "\n",
    "interfaceCond = operator.and_((depthFn < ndp.CRUSTVISCUTOFF), (depthFn > ndp.MANTLETOCRUST))    \n",
    "\n",
    "\n",
    "#combined rheology    \n",
    "finalviscosityFn  = fn.branching.conditional([(depthFn < ndp.LOWMANTLEDEPTH, safe_visc(fn.misc.min(diffusion, yielding))),\n",
    "                                  (True, safe_visc(safe_visc(diffusion*ndp.low_mantle_visc_fac)))])\n",
    "\n",
    "#crust rheology    \n",
    "#finalcrustviscosityFn = safe_visc(fn.misc.min(ndp.eta_max_crust, \n",
    "#                                              crustyielding)) #cohesion weakening factor also applies to eta_0\n",
    "\n",
    "crustviscosityFn = safe_visc(fn.misc.min(linearviscosityFn, crustvisc), ndp.eta_max_crust)\n",
    "interfaceviscosityFn = safe_visc(fn.misc.min(linearviscosityFn, interfacevisc), ndp.eta_max_interface)\n",
    "\n",
    "if ndp.eta_max_crust == ndp.eta_min_crust: #If these are equal, set to constant visc. \n",
    "    crustviscosityFn = fn.misc.constant(ndp.eta_min_crust)\n",
    "    \n",
    "if ndp.eta_max_interface == ndp.eta_min_interface: #If these are equal, set to constant visc. \n",
    "    interfaceviscosityFn = fn.misc.constant(ndp.eta_min_interface)\n",
    "    \n",
    "\n",
    "\n",
    "finalcrustviscosityFn  = fn.branching.conditional([(depthFn < ndp.MANTLETOCRUST, crustviscosityFn),\n",
    "                                                     (interfaceCond, interfaceviscosityFn), #\n",
    "                                                     (True, finalviscosityFn)])"
   ]
  },
  {
   "cell_type": "markdown",
   "metadata": {},
   "source": [
    "Stokes system setup\n",
    "-----\n"
   ]
  },
  {
   "cell_type": "code",
   "execution_count": 59,
   "metadata": {
    "collapsed": true
   },
   "outputs": [],
   "source": [
    "buoyancyFn =  ndp.RA*temperatureField\n"
   ]
  },
  {
   "cell_type": "code",
   "execution_count": 60,
   "metadata": {
    "collapsed": false
   },
   "outputs": [],
   "source": [
    "densityMapFn = fn.branching.map( fn_key = materialVariable,\n",
    "                         mapping = {airIndex:ndp.StRA,\n",
    "                                    crustIndex:buoyancyFn, \n",
    "                                    mantleIndex:buoyancyFn,\n",
    "                                    harzIndex:buoyancyFn} )"
   ]
  },
  {
   "cell_type": "code",
   "execution_count": 61,
   "metadata": {
    "collapsed": true
   },
   "outputs": [],
   "source": [
    "\n",
    "# Define our vertical unit vector using a python tuple (this will be automatically converted to a function).\n",
    "gravity = ( 0.0, 1.0 )\n",
    "\n",
    "# Now create a buoyancy force vector using the density and the vertical unit vector. \n",
    "buoyancyFn = densityMapFn * gravity"
   ]
  },
  {
   "cell_type": "code",
   "execution_count": 62,
   "metadata": {
    "collapsed": true
   },
   "outputs": [],
   "source": [
    "stokesPIC = uw.systems.Stokes(velocityField=velocityField, \n",
    "                              pressureField=pressureField,\n",
    "                              conditions=[freeslipBC,],\n",
    "                              fn_viscosity=linearviscosityFn, \n",
    "                              fn_bodyforce=buoyancyFn )"
   ]
  },
  {
   "cell_type": "code",
   "execution_count": 63,
   "metadata": {
    "collapsed": true
   },
   "outputs": [],
   "source": [
    "solver = uw.systems.Solver(stokesPIC)\n",
    "if not checkpointLoad:\n",
    "    solver.solve() #A solve on the linear visocisty is unhelpful unless we're starting from scratch"
   ]
  },
  {
   "cell_type": "code",
   "execution_count": null,
   "metadata": {
    "collapsed": false
   },
   "outputs": [],
   "source": [
    "\n"
   ]
  },
  {
   "cell_type": "code",
   "execution_count": 64,
   "metadata": {
    "collapsed": false
   },
   "outputs": [],
   "source": [
    "viscosityMapFn1 = fn.branching.map( fn_key = materialVariable,\n",
    "                         mapping = {crustIndex:finalcrustviscosityFn,\n",
    "                                    mantleIndex:finalviscosityFn,\n",
    "                                    harzIndex:finalviscosityFn,\n",
    "                                    airIndex:ndp.Steta_n} )\n",
    "\n",
    "\n",
    "delta_Steata2 = ndp.Steta_n - ndp.Steta_s\n",
    "delta_eta_fault = 0.\n",
    "\n",
    "if md.subductionFault:  \n",
    "    if ndp.eta_min_fault == ndp.eta_min_fault:#Transverse rheology is isoviscous\n",
    "        delta_eta_fault = fn.misc.min(0.999, fn.misc.max (0.,   ndp.eta_min_crust - ndp.eta_min_fault))       \n",
    "        \n",
    "    else:\n",
    "        #Transverse viscosity is related the Mohr-Coulomb criterion\n",
    "        delta_eta_fault = fn.misc.min(0.999, fn.misc.max (0., \n",
    "        viscosityMapFn1 - ((edotn_SFn*viscosityMapFn1 + ndp.fcfd * pressureField)  + ndp.cf)/edots_SFn))\n",
    "   "
   ]
  },
  {
   "cell_type": "code",
   "execution_count": 66,
   "metadata": {
    "collapsed": false
   },
   "outputs": [],
   "source": [
    "# This one maps to my fault-proximity variable (which also picks only materialV)\n",
    "viscosityMapFn2    = { 0: 0.0, \n",
    "                           1: delta_eta_fault, \n",
    "                           3: delta_Steata2\n",
    "                       }\n",
    "    \n",
    "\n",
    "viscosityMapFn2  = fn.branching.map( fn_key = proximityVariable, \n",
    "                                           mapping = viscosityMapFn2)"
   ]
  },
  {
   "cell_type": "code",
   "execution_count": 67,
   "metadata": {
    "collapsed": false
   },
   "outputs": [],
   "source": [
    "#orientation = -1.*90. * math.pi / 180.0  #vertical\n",
    "#math.cos(orientation), math.sin(orientation)"
   ]
  },
  {
   "cell_type": "code",
   "execution_count": 68,
   "metadata": {
    "collapsed": false
   },
   "outputs": [],
   "source": [
    "#stickyAir"
   ]
  },
  {
   "cell_type": "code",
   "execution_count": 69,
   "metadata": {
    "collapsed": false
   },
   "outputs": [],
   "source": [
    "#Add the non-linear viscosity to the Stokes system\n",
    "stokesPIC.fn_viscosity = viscosityMapFn1\n",
    "\n",
    "if md.stickyAir or md.subductionFault:\n",
    "    stokesPIC.fn_viscosity2 = viscosityMapFn2\n",
    "    stokesPIC._fn_director   = directorVector\n"
   ]
  },
  {
   "cell_type": "code",
   "execution_count": 70,
   "metadata": {
    "collapsed": false
   },
   "outputs": [
    {
     "name": "stdout",
     "output_type": "stream",
     "text": [
      "\u001b[1;35m\n",
      " \n",
      "Pressure iterations:   3\n",
      "Velocity iterations:   1 (presolve)      \n",
      "Velocity iterations:  -1 (pressure solve)\n",
      "Velocity iterations:   1 (backsolve)     \n",
      "Velocity iterations:   1 (total solve)   \n",
      " \n",
      "SCR RHS  solve time: 3.4015e-01\n",
      "Pressure solve time: 3.0639e-02\n",
      "Velocity solve time: 3.3840e-01 (backsolve)\n",
      "Total solve time   : 7.7271e-01\n",
      " \n",
      "Velocity solution min/max: 0.0000e+00/0.0000e+00\n",
      "Pressure solution min/max: 0.0000e+00/0.0000e+00\n",
      " \n",
      "\u001b[00m\n"
     ]
    }
   ],
   "source": [
    "solver.set_inner_method(\"mumps\")\n",
    "solver.options.scr.ksp_type=\"cg\"\n",
    "solver.set_penalty(1.0e7)\n",
    "solver.options.scr.ksp_rtol = 1.0e-4\n",
    "solver.solve(nonLinearIterate=True)\n",
    "solver.print_stats()"
   ]
  },
  {
   "cell_type": "code",
   "execution_count": 71,
   "metadata": {
    "collapsed": false
   },
   "outputs": [],
   "source": [
    "#Check which particles are yielding\n",
    "#yieldingCheck.data[:] = 0\n",
    "\n",
    "#yieldconditions = [ ( finalviscosityFn < Visc , 1), \n",
    "#               ( True                                           , 0) ]\n",
    "\n",
    "# use the branching conditional function to set each particle's index\n",
    "#yieldingCheck.data[:] = fn.branching.conditional( yieldconditions ).evaluate(gSwarm)"
   ]
  },
  {
   "cell_type": "code",
   "execution_count": 72,
   "metadata": {
    "collapsed": false
   },
   "outputs": [],
   "source": [
    "#velocityFieldIso       = uw.mesh.MeshVariable( mesh=mesh,         nodeDofCount=2 )\n",
    "#velocityFieldIso.data[:] = velocityField.data.copy()\n",
    "\n",
    "\n",
    "\n",
    "#strainRate_2ndInvariantIso = fn.tensor.second_invariant( \n",
    "#                            fn.tensor.symmetric( \n",
    "#                            velocityFieldIso.fn_gradient ))"
   ]
  },
  {
   "cell_type": "code",
   "execution_count": 107,
   "metadata": {
    "collapsed": false,
    "scrolled": true
   },
   "outputs": [
    {
     "data": {
      "text/html": [
       "<img src='data:image/png;base64,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'>"
      ],
      "text/plain": [
       "<IPython.core.display.HTML object>"
      ]
     },
     "metadata": {},
     "output_type": "display_data"
    }
   ],
   "source": [
    "fig= glucifer.Figure()\n",
    "#fig.append( glucifer.objects.Points(gSwarm, strainRate_2ndInvariant, logScale=True))\n",
    "#fig.append( glucifer.objects.VectorArrows(mesh,velocityField -velocityFieldIso))\n",
    "\n",
    "#fig.append( glucifer.objects.Surface(mesh,ndflm, logScale=True))\n",
    "#fig.show()"
   ]
  },
  {
   "cell_type": "markdown",
   "metadata": {},
   "source": [
    "Advection-diffusion System setup\n",
    "-----"
   ]
  },
  {
   "cell_type": "code",
   "execution_count": 75,
   "metadata": {
    "collapsed": false
   },
   "outputs": [],
   "source": [
    "advDiff = uw.systems.AdvectionDiffusion( phiField       = temperatureField, \n",
    "                                         phiDotField    = temperatureDotField, \n",
    "                                         velocityField  = velocityField,\n",
    "                                         fn_sourceTerm    = 0.0,\n",
    "                                         fn_diffusivity = 1.0, \n",
    "                                         #conditions     = [neumannTempBC, dirichTempBC] )\n",
    "                                         conditions     = [ dirichTempBC] )\n",
    "\n",
    "passiveadvector = uw.systems.SwarmAdvector( swarm         = gSwarm, \n",
    "                                     velocityField = velocityField, \n",
    "                                     order         = 1)"
   ]
  },
  {
   "cell_type": "code",
   "execution_count": 76,
   "metadata": {
    "collapsed": true
   },
   "outputs": [],
   "source": [
    "population_control = uw.swarm.PopulationControl(gSwarm,deleteThreshold=0.2,splitThreshold=1.,maxDeletions=3,maxSplits=0, aggressive=True, particlesPerCell=ppc)"
   ]
  },
  {
   "cell_type": "markdown",
   "metadata": {},
   "source": [
    "Analysis functions / routines\n",
    "-----\n",
    "\n",
    "Most of the metrics we want to calculate are either:\n",
    "\n",
    "* extrema of some field / function\n",
    "* integral of some field / function\n",
    "* average value of some function (integral divide by area)\n",
    "\n",
    "In addition, we also want to be able to determine these metrics over some restricted part of the domain, where the restriction may either be due some value of a field, a material type, or something more arbitrary.\n",
    "\n",
    "Much of he challenge lies in defining these restriction functions in an efficient and robust way (i.e they don't break down as the model evolves)\n",
    "\n",
    "For volume integrals, and extrema, we build a hierarchy of restriction functions, each borrowing from the previous, until we have divided the domain into a number of sub regions of interest. \n",
    "\n",
    "In general, averages are found afterwards by combining the integral and the area of the relavent subregion"
   ]
  },
  {
   "cell_type": "code",
   "execution_count": null,
   "metadata": {
    "collapsed": false
   },
   "outputs": [],
   "source": []
  },
  {
   "cell_type": "code",
   "execution_count": null,
   "metadata": {
    "collapsed": false
   },
   "outputs": [],
   "source": []
  },
  {
   "cell_type": "code",
   "execution_count": 78,
   "metadata": {
    "collapsed": false
   },
   "outputs": [],
   "source": [
    "###################\n",
    "#Volume Restriction functions\n",
    "###################\n",
    "\n",
    "#Level 1. Global\n",
    "globRestFn = fn.misc.constant(1.)\n",
    "\n",
    "#Level 2. Rock - air:\n",
    "rockRestFn = uw.swarm.SwarmVariable(gSwarm, dataType='double', count=1)\n",
    "rockRestFn.data[:] = 0.\n",
    "rockRestFn.data[np.where(materialVariable.data[:] != airIndex)] = 1.\n",
    "rockRestFn *= globRestFn #Add next level up in heirarchy\n",
    "\n",
    "\n",
    "#Level 3. lithosphere - mantle:\n",
    "tempMM = fn.view.min_max(temperatureField)\n",
    "tempMM.evaluate(mesh)\n",
    "TMAX = tempMM.max_global()\n",
    "mantleconditions = [ (                                  temperatureField < 0.9*TMAX, 1.),\n",
    "                   (                                                   True , 0.) ]\n",
    "lithRestFn = fn.branching.conditional(mantleconditions)\n",
    "lithRestFn*=rockRestFn #Add next level up in heirarchy\n",
    "\n",
    "\n",
    "#Level 4. lower plate - upper plate:\n",
    "\n",
    "\n",
    "#This whole section simply builds a restriction Fn that separates the upper and lower plate \n",
    "#It's pretty cumbersome, and will need to advected, rebuilt\n",
    "#can YOU think of a better way?\n",
    "\n",
    "\n",
    "    \n",
    "fthickness = 20e3/dp.LS #initialize tracking swarm at ~ mid lithosphere depth\n",
    "\n",
    "if dp.sense == 'Right':\n",
    "    introPoint = ndp.lRidge + fthickness #\n",
    "else:\n",
    "    introPoint = ndp.rRidge - fthickness #\n",
    "nfault = 200\n",
    "slabCoords =np.zeros((nfault, 2))\n",
    "\n",
    "reducedRocM = ndp.roc  - fthickness\n",
    "xlimslab = reducedRocM*math.cos(math.pi*(90. - dp.theta)/180)\n",
    "slabCoords[:, 0] = np.linspace(introPoint, ndp.subzone + xlimslab, nfault) #note SZ location is hardcoded here \n",
    "for index, xval in np.ndenumerate(slabCoords[:,0]):\n",
    "    #print index, xval\n",
    "    #swarmCoords[index[0], 1] = 1. - isodepthFn.evaluate((xval, 0.)) #This bit for the plate \n",
    "    if  xval < ndp.subzone:\n",
    "        slabCoords[index[0], 1] = 1. - fthickness #This bit for the plate \n",
    "        \n",
    "    else:\n",
    "        slabCoords[index[0], 1] = (1. - (fthickness) - (reducedRocM - ( math.sqrt((reducedRocM**2 - (xval-ndp.subzone)**2)))))\n",
    "        \n",
    "slabCoords = slabCoords[slabCoords[:,1] > (1. - ndp.maxDepth)] #kill any deeper than cutoff\n",
    "\n",
    "slab_line  = marker2D.markerLine2D(mesh, velocityField, slabCoords[:, 0], slabCoords[:, 1], 1e9/dp.LS, 0.0, 0.0, crustIndex)\n",
    "lowerPlateRestFn = gSwarm.add_variable( dataType=\"double\", count=1 )\n",
    "lowerPlateRestFn.data[:] = 0.0\n",
    "\n",
    "update_swarm_from_line(slab_line, lowerPlateRestFn )\n",
    "lowerPlateRestFn.data[np.where(lowerPlateRestFn.data != 0.)] += fthickness #assume instances of 0. are actually where no fault on proc\n",
    "lowerPlateRestFn.data[np.where(lowerPlateRestFn.data > 0*fthickness)] = 1.\n",
    "lowerPlateRestFn.data[np.where(lowerPlateRestFn.data <= 0.*fthickness)] = 0. \n",
    "lowerPlateRestFn *= lithRestFn #Add next level up in heirarchy\n",
    "\n",
    "#Also see if we can stick the the Velocity and coords on to this swarm as well\n",
    "tipVar = uw.swarm.SwarmVariable(slab_line.swarm, dataType='double', count=4)\n",
    "tipVar.data[:,:2] = velocityField.evaluate(slab_line.swarm)\n",
    "tipVar.data[:,2:] = xFn.evaluate(slab_line.swarm)\n",
    "tipVar.data[:,3:] = yFn.evaluate(slab_line.swarm)\n",
    "\n",
    "\n",
    "#Level 5. hinge of lower plate:\n",
    "\n",
    "hinge60Spatialconditions = [ (           operator.and_( (depthFn < MAXY - (60e3/dp.LS)),  (xFn > ndp.subzone - 60e3/dp.LS)), 1.),\n",
    "                   (                                                   True , 0.) ]\n",
    "\n",
    "hinge60RestFn = fn.branching.conditional(hinge60Spatialconditions)\n",
    "hinge60RestFn*=lowerPlateRestFn #Add next level up in heirarchy\n",
    "\n",
    "\n",
    "\n",
    "hinge180Spatialconditions = [ (           operator.and_( (depthFn < MAXY - (180e3/dp.LS)),  (xFn > ndp.subzone - 180e3/dp.LS)), 1.),\n",
    "                   (                                                   True , 0.) ]\n",
    "\n",
    "hinge180RestFn = fn.branching.conditional(hinge180Spatialconditions)\n",
    "hinge180RestFn*=lowerPlateRestFn #Add next level up in heirarchy\n",
    "\n",
    "\n",
    "#Level 6. crust/interface in hinge of lower plate:\n",
    "\n",
    "interfaceRestFn = uw.swarm.SwarmVariable(gSwarm, dataType='double', count=1)\n",
    "interfaceRestFn.data[:] = 0.\n",
    "interfaceRestFn.data[np.where(materialVariable.data[:] == crustIndex)] = 1.\n",
    "interfaceRestFn *= hinge60RestFn #Add next level up in heirarchy\n"
   ]
  },
  {
   "cell_type": "code",
   "execution_count": 82,
   "metadata": {
    "collapsed": false
   },
   "outputs": [],
   "source": [
    "respltconditions = [ \n",
    "                    (                                  hinge60RestFn*2. > rockRestFn*1., 1.),\n",
    "                    (                                  lowerPlateRestFn*3. > hinge60RestFn*2. , 3.),\n",
    "                    (                                  lithRestFn*5. > lowerPlateRestFn*3. , 4.),\n",
    "                   (                                                   True , 0.) ]\n",
    "\n",
    "respltFn = fn.branching.conditional(respltconditions )"
   ]
  },
  {
   "cell_type": "code",
   "execution_count": 83,
   "metadata": {
    "collapsed": false
   },
   "outputs": [],
   "source": [
    "fig= glucifer.Figure()\n",
    "fig.append( glucifer.objects.Points(gSwarm,respltFn))\n",
    "#fig.show()\n",
    "#fig.save_database('test_restrict.gldb')"
   ]
  },
  {
   "cell_type": "code",
   "execution_count": 84,
   "metadata": {
    "collapsed": true
   },
   "outputs": [],
   "source": [
    "###################\n",
    "#Surface Restriction functions\n",
    "###################\n",
    "\n",
    "def platenessFn(val = 0.1):\n",
    "    normgradV = fn.math.abs(velocityField.fn_gradient[0]/fn.math.sqrt(velocityField[0]*velocityField[0])) #[du*/dx]/sqrt(u*u)\n",
    "\n",
    "\n",
    "\n",
    "    srconditions = [ (                                  normgradV < val, 1.),\n",
    "                   (                                                   True , 0.) ]\n",
    "\n",
    "\n",
    "    return fn.branching.conditional(srconditions)\n",
    "\n",
    "srRestFn = platenessFn(val = 0.1)"
   ]
  },
  {
   "cell_type": "code",
   "execution_count": 85,
   "metadata": {
    "collapsed": false
   },
   "outputs": [],
   "source": [
    "###################\n",
    "#Setup any Functions to be integrated\n",
    "###################\n",
    "\n",
    "sqrtv2 = fn.math.sqrt(fn.math.dot(velocityField,velocityField))\n",
    "vx = velocityField[0]\n",
    "v2x = fn.math.dot(velocityField[0],velocityField[0])\n",
    "sqrtv2x = fn.math.sqrt(fn.math.dot(velocityField[0],velocityField[0]))\n",
    "dw = temperatureField*velocityField[1]\n",
    "sinner = fn.math.dot( strainRate_2ndInvariant, strainRate_2ndInvariant )\n",
    "vd = 2.*viscosityMapFn1*sinner\n",
    "dTdZ = temperatureField.fn_gradient[1]\n",
    "\n"
   ]
  },
  {
   "cell_type": "code",
   "execution_count": 86,
   "metadata": {
    "collapsed": false
   },
   "outputs": [],
   "source": [
    "###################\n",
    "#Create integral, max/min templates \n",
    "###################\n",
    "\n",
    "def volumeint(Fn = 1., rFn=globRestFn):\n",
    "    return uw.utils.Integral( Fn*rFn,  mesh )\n",
    "\n",
    "def surfint(Fn = 1., rFn=globRestFn, surfaceIndexSet=mesh.specialSets[\"MaxJ_VertexSet\"]):\n",
    "    return uw.utils.Integral( Fn*rFn, mesh=mesh, integrationType='Surface', surfaceIndexSet=surfaceIndexSet)\n",
    "\n",
    "def maxMin(Fn = 1.):\n",
    "    #maxMin(Fn = 1., rFn=globRestFn\n",
    "    #vuFn = fn.view.min_max(Fn*rFn) #the restriction functions don't work with the view.min_max fn yet\n",
    "    vuFn = fn.view.min_max(Fn)\n",
    "    return vuFn\n",
    "    \n",
    "   \n",
    "    "
   ]
  },
  {
   "cell_type": "code",
   "execution_count": 87,
   "metadata": {
    "collapsed": false
   },
   "outputs": [],
   "source": [
    "#Setup volume integrals on different sub regions\n",
    "\n",
    "##Whole rock domain\n",
    "\n",
    "_areaintRock = volumeint(rockRestFn)\n",
    "_tempintRock = volumeint(temperatureField, rockRestFn)\n",
    "_rmsintRock = volumeint(sqrtv2,rockRestFn)\n",
    "_dwintRock = volumeint(dw,rockRestFn)\n",
    "_vdintRock = volumeint(vd,rockRestFn)\n",
    "\n",
    "##Lith \n",
    "\n",
    "_areaintLith  = volumeint(lithRestFn)\n",
    "_tempintLith  = volumeint(temperatureField, lithRestFn)\n",
    "_rmsintLith  = volumeint(sqrtv2,lithRestFn)\n",
    "_dwintLith  = volumeint(dw,lithRestFn)\n",
    "_vdintLith  = volumeint(vd,lithRestFn)\n",
    "\n",
    "##Lower plate\n",
    "\n",
    "_areaintLower  = volumeint(lowerPlateRestFn)\n",
    "_tempintLower  = volumeint(temperatureField, lowerPlateRestFn)\n",
    "_rmsintLower  = volumeint(sqrtv2,lowerPlateRestFn)\n",
    "_dwintLower = volumeint(dw,lowerPlateRestFn)\n",
    "_vdintLower  = volumeint(vd,lowerPlateRestFn)\n",
    "\n",
    "##Hinge lower plate\n",
    "\n",
    "_areaintHinge180  = volumeint(hinge180RestFn)\n",
    "_vdintHinge180  = volumeint(vd,hinge180RestFn)\n",
    "\n",
    "_areaintHinge60  = volumeint(hinge60RestFn)\n",
    "_vdintHinge60  = volumeint(vd,hinge60RestFn)\n",
    "\n",
    "\n",
    "##Interface\n",
    "\n",
    "_areaintInterface  = volumeint(interfaceRestFn)\n",
    "_vdintInterface = volumeint(vd,interfaceRestFn)"
   ]
  },
  {
   "cell_type": "code",
   "execution_count": 88,
   "metadata": {
    "collapsed": true
   },
   "outputs": [],
   "source": [
    "#Setup surface integrals\n",
    "\n",
    "_surfLength = surfint()\n",
    "_rmsSurf = surfint(v2x)\n",
    "_nuTop = surfint(dTdZ)\n",
    "_nuBottom = surfint(dTdZ, surfaceIndexSet=mesh.specialSets[\"MinJ_VertexSet\"])\n",
    "_plateness = surfint(srRestFn)"
   ]
  },
  {
   "cell_type": "code",
   "execution_count": 89,
   "metadata": {
    "collapsed": false
   },
   "outputs": [],
   "source": [
    "#Setup max min fns (at the moment, we can't pass restriction function to view.min_max, so we're limited to whole volume or surface extrema)\n",
    "\n",
    "##Whole rock domain\n",
    "\n",
    "#_maxMinVisc = maxMin(viscosityMapFn1)  #These don't work on swarm variables or mapping functions, yet\n",
    "#dummyFn = _maxMinVisc.evaluate(mesh)\n",
    "#_maxMinStressInv = maxMin(2*viscosityMapFn1*strainRate_2ndInvariant) #These don't work on swarm variables or mapping functions, yet\n",
    "#dummyFn = _maxMinStress.evaluate(mesh)\n",
    "#_maxMinVd = maxMin(vd) #These don't work on swarm variables or mapping functions, yet\n",
    "#dummyFn = _maxMinVd.evaluate(mesh)\n",
    "\n",
    "\n",
    "_maxMinVel = maxMin(velocityField) \n",
    "dummyFn = _maxMinVel.evaluate(mesh)\n",
    "\n",
    "_maxMinSr = maxMin(strainRate_2ndInvariant) \n",
    "dummyFn = _maxMinSr.evaluate(mesh)\n",
    "\n",
    "\n",
    "#Surface extrema\n",
    "_maxMinVxSurf = maxMin(vx)\n",
    "dummyFn = _maxMinVxSurf.evaluate(tWalls)\n"
   ]
  },
  {
   "cell_type": "code",
   "execution_count": 91,
   "metadata": {
    "collapsed": false
   },
   "outputs": [],
   "source": [
    "#Volume Ints\n",
    "areaintRock = _areaintRock.evaluate()[0]\n",
    "tempintRock = _tempintRock.evaluate()[0]\n",
    "rmsintRock = _rmsintRock.evaluate()[0]\n",
    "dwintRock = _dwintRock.evaluate()[0]\n",
    "vdintRock = _vdintRock.evaluate()[0]\n",
    "areaintLith = _areaintLith.evaluate()[0]\n",
    "tempintLith = _tempintLith.evaluate()[0]\n",
    "rmsintLith = _rmsintLith.evaluate()[0]\n",
    "dwintLith = _dwintLith.evaluate()[0]\n",
    "vdintLith = _vdintLith.evaluate()[0]\n",
    "areaintLower = _areaintLower.evaluate()[0]\n",
    "tempintLower = _tempintLower.evaluate()[0]\n",
    "rmsintLower = _rmsintLower.evaluate()[0]\n",
    "dwintLower = _dwintLower.evaluate()[0]\n",
    "vdintLower = _vdintLower.evaluate()[0]\n",
    "vdintHinge180 = _vdintHinge180.evaluate()[0]\n",
    "areaintHinge180 = _areaintHinge180.evaluate()[0]\n",
    "vdintHinge60 = _vdintHinge60.evaluate()[0]\n",
    "areaintHinge60= _areaintHinge60.evaluate()[0]\n",
    "vdintInterface = _vdintInterface.evaluate()[0]\n",
    "areaintInterface= _areaintInterface.evaluate()[0]\n",
    "\n",
    "#Surface Ints\n",
    "surfLength = _surfLength.evaluate()[0]\n",
    "rmsSurf = _rmsSurf.evaluate()[0]\n",
    "nuTop = _nuTop.evaluate()[0]\n",
    "nuBottom = _nuBottom.evaluate()[0]\n",
    "plateness = _plateness.evaluate()[0]\n",
    "\n",
    "#Max mins\n",
    "maxVel = _maxMinVel.max_global()\n",
    "minVel = _maxMinVel.min_global() \n",
    "maxSr = _maxMinSr.max_global()\n",
    "minSr = _maxMinSr.min_global()\n",
    "maxVxsurf = _maxMinVxSurf.max_global()\n",
    "minVxsurf = _maxMinVxSurf.min_global()"
   ]
  },
  {
   "cell_type": "code",
   "execution_count": 94,
   "metadata": {
    "collapsed": false
   },
   "outputs": [
    {
     "name": "stdout",
     "output_type": "stream",
     "text": [
      "4.0\n",
      "3.81536525607\n",
      "319.632506792\n",
      "4.96110874389\n",
      "8736646.2572\n",
      "0.372653537326\n",
      "0.193605546076\n",
      "57.0290374809\n",
      "-3.87393889896\n",
      "7178414.21978\n",
      "0.243991427951\n",
      "0.125793256971\n",
      "37.7031953121\n",
      "-3.54320713066\n",
      "2247543.34362\n",
      "1825432.87235\n",
      "1856717.54192\n",
      "309909.810183\n",
      "4.0\n",
      "83082.0820609\n",
      "-71.2699790546\n",
      "0.0\n",
      "3.109375\n",
      "406.236316647\n",
      "0.0\n",
      "14720.7072563\n",
      "0.00379426289541\n",
      "186.66599188\n",
      "-150.691730065\n"
     ]
    }
   ],
   "source": [
    "print(areaintRock)\n",
    "print(tempintRock)\n",
    "print(rmsintRock)\n",
    "print(dwintRock)\n",
    "print(vdintRock)\n",
    "print(areaintLith)\n",
    "print(tempintLith )\n",
    "print(rmsintLith)\n",
    "print(dwintLith)\n",
    "print(vdintLith)\n",
    "print(areaintLower)\n",
    "print(tempintLower)\n",
    "print(rmsintLower) \n",
    "print(dwintLower)\n",
    "print(vdintLower)\n",
    "print(vdintHinge60)\n",
    "print(vdintHinge180)\n",
    "print(vdintInterface)\n",
    "\n",
    "print(surfLength)\n",
    "print(rmsSurf)\n",
    "print(nuTop)\n",
    "print(nuBottom)\n",
    "print(plateness)\n",
    "\n",
    "\n",
    "print(maxVel)\n",
    "print(minVel)\n",
    "print(maxSr)\n",
    "print(minSr)\n",
    "print(maxVxsurf)\n",
    "print(minVxsurf)"
   ]
  },
  {
   "cell_type": "code",
   "execution_count": 96,
   "metadata": {
    "collapsed": false
   },
   "outputs": [
    {
     "name": "stdout",
     "output_type": "stream",
     "text": [
      "0.983150549903\n",
      "5.8902068033\n"
     ]
    }
   ],
   "source": [
    "print(vdintHinge60/vdintHinge180)\n",
    "#print(vdintInterface)\n",
    "\n",
    "print(vdintHinge60/vdintInterface)\n",
    "#print(vdintInterface)"
   ]
  },
  {
   "cell_type": "markdown",
   "metadata": {},
   "source": [
    "Viz.\n",
    "-----"
   ]
  },
  {
   "cell_type": "code",
   "execution_count": 234,
   "metadata": {
    "collapsed": false
   },
   "outputs": [],
   "source": [
    "#viscVariable = gSwarm.add_variable( dataType=\"float\", count=1 )\n",
    "#viscVariable.data[:] = viscosityMapFn1.evaluate(gSwarm)"
   ]
  },
  {
   "cell_type": "code",
   "execution_count": 101,
   "metadata": {
    "collapsed": false
   },
   "outputs": [],
   "source": [
    "if figures == 'gldb':\n",
    "    #Pack some stuff into a database as well\n",
    "    figDb = glucifer.Figure()\n",
    "    #figDb.append( glucifer.objects.Mesh(mesh))\n",
    "    figDb.append( glucifer.objects.VectorArrows(mesh,velocityField, scaling=0.0005))\n",
    "    #figDb.append( glucifer.objects.Points(gSwarm,tracerVariable, colours= 'white black'))\n",
    "    figDb.append( glucifer.objects.Points(gSwarm,materialVariable))\n",
    "    #figDb.append( glucifer.objects.Points(gSwarm,viscMinVariable))\n",
    "    #figDb.append( glucifer.objects.Points(gSwarm,fnViscMin))\n",
    "    figDb.append( glucifer.objects.Points(gSwarm,viscosityMapFn1, logScale=True))\n",
    "    figDb.append( glucifer.objects.Points(gSwarm, strainRate_2ndInvariant, logScale=True))\n",
    "    figDb.append( glucifer.objects.Points(gSwarm,temperatureField))\n",
    "    \n",
    "    \n",
    "    figRestrict= glucifer.Figure()\n",
    "    figRestrict.append( glucifer.objects.Points(gSwarm,respltFn))\n",
    "    figRestrict.append( glucifer.objects.Points(faults[0].swarm, colours=\"Blue Blue\", pointSize=2.0, colourBar=False) )\n",
    "    figRestrict.append( glucifer.objects.Points(faults[1].swarm, colours=\"Red Red\", pointSize=2.0, colourBar=False) )\n",
    "    figRestrict.append( glucifer.objects.Points(slab_line.swarm, colours=\"Black Black\", pointSize=2.0, colourBar=False) )\n",
    "\n",
    "elif figures == 'store':\n",
    "    fullpath = os.path.join(outputPath + \"gldbs/\")\n",
    "    store = glucifer.Store(fullpath + 'subduction.gldb')\n",
    "\n",
    "    figTemp = glucifer.Figure(store,figsize=(300*np.round(md.aspectRatio,2),300))\n",
    "    figTemp.append( glucifer.objects.Points(gSwarm,temperatureField))\n",
    "\n",
    "    figVisc= glucifer.Figure(store, figsize=(300*np.round(md.aspectRatio,2),300))\n",
    "    figVisc.append( glucifer.objects.Points(gSwarm,viscosityMapFn1, logScale=True, valueRange =[1e-3,1e5]))\n",
    "    \n",
    "    figSr= glucifer.Figure(store, figsize=(300*np.round(md.aspectRatio,2),300))\n",
    "    figSr.append( glucifer.objects.Points(gSwarm,strainRate_2ndInvariant, logScale=True))\n",
    "    figSr.append( glucifer.objects.VectorArrows(mesh,velocityField, scaling=0.0005))\n",
    "\n",
    "    #figMech= glucifer.Figure(store, figsize=(300*np.round(md.aspectRatio,2),300))\n",
    "    #figMech.append( glucifer.objects.Points(gSwarm,fnViscMin))"
   ]
  },
  {
   "cell_type": "markdown",
   "metadata": {},
   "source": [
    "**Miscellania**"
   ]
  },
  {
   "cell_type": "code",
   "execution_count": 236,
   "metadata": {
    "collapsed": false
   },
   "outputs": [
    {
     "name": "stderr",
     "output_type": "stream",
     "text": [
      "/usr/local/lib/python2.7/dist-packages/numpy/core/numeric.py:190: VisibleDeprecationWarning: using a non-integer number instead of an integer will result in an error in the future\n",
      "  a = empty(shape, dtype, order)\n"
     ]
    }
   ],
   "source": [
    "##############\n",
    "#Create a numpy array at the surface to get surface information on (using parallel-friendly evaluate_global)\n",
    "##############\n",
    "\n",
    "surface_xs = np.linspace(mesh.minCoord[0], mesh.maxCoord[0], mesh.elementRes[0] + 1)\n",
    "surface_nodes = np.array(zip(surface_xs, np.ones(len(surface_xs)*mesh.maxCoord[1]))) #For evaluation surface velocity\n",
    "normgradV = velocityField.fn_gradient[0]/fn.math.sqrt(velocityField[0]*velocityField[0])\n",
    "\n",
    "tempMM = fn.view.min_max(temperatureField)\n",
    "dummy = tempMM.evaluate(mesh)\n",
    "\n"
   ]
  },
  {
   "cell_type": "code",
   "execution_count": null,
   "metadata": {
    "collapsed": true
   },
   "outputs": [],
   "source": []
  },
  {
   "cell_type": "code",
   "execution_count": 103,
   "metadata": {
    "collapsed": false
   },
   "outputs": [],
   "source": [
    "##############\n",
    "#These functions handle checkpointing\n",
    "##############\n",
    "\n",
    "\n",
    "#Subzone = ndp.subzone\n",
    "\n",
    "\n",
    "def checkpoint1(step, checkpointPath,filename, filewrites):\n",
    "    path = checkpointPath + str(step) \n",
    "    os.mkdir(path)\n",
    "    ##Write and save the file, if not already a writing step\n",
    "    if not step % filewrites == 0:\n",
    "        f_o.write((28*'%-15s ' + '\\n') % (areaintRock, tempintRock, rmsintRock, dwintRock, vdintRock,\n",
    "                                  areaintLith, tempintLith,rmsintLith, dwintLith, vdintLith,\n",
    "                                  areaintLower, tempintLower, rmsintLower, dwintLower, vdintLower, \n",
    "                                  areaintHinge180,vdintHinge180, areaintHinge60, vdintHinge60, \n",
    "                                  areaintInterface, vdintInterface, vdintInterface,\n",
    "                                  rmsSurf, nuTop, nuBottom, plateness, ndp.subzone, realtime))\n",
    "    filename.close()\n",
    "    shutil.copyfile(os.path.join(outputPath, outputFile), os.path.join(path, outputFile))\n",
    "\n",
    "\n",
    "def checkpoint2(step, checkpointPath, swarm, filename, varlist = [materialVariable], varnames = ['materialVariable']):\n",
    "    path = checkpointPath + str(step) \n",
    "    velfile = \"velocityField\" + \".hdf5\"\n",
    "    tempfile = \"temperatureField\" + \".hdf5\"\n",
    "    pressfile = \"pressureField\" + \".hdf5\"\n",
    "    velocityField.save(os.path.join(path, velfile))\n",
    "    temperatureField.save(os.path.join(path, tempfile))\n",
    "    pressureField.save(os.path.join(path, pressfile))\n",
    "    swarm.save(os.path.join(path, \"swarm.h5\") ) \n",
    "    for ix in range(len(varlist)):\n",
    "        varb = varlist[ix]\n",
    "        varb.save(os.path.join(path,varnames[ix] + \".h5\"))\n",
    "    \n",
    "    #Save the parameters\n",
    "    dict_list = [dp, sf, ndp, md] #if any of the dictionaries have changed, this list needs to be rebuilt\n",
    "    save_pickles(dict_list, dict_names, path)\n",
    "    "
   ]
  },
  {
   "cell_type": "code",
   "execution_count": 104,
   "metadata": {
    "collapsed": true
   },
   "outputs": [],
   "source": [
    "##############\n",
    "#These functions handle checkpointing\n",
    "##############\n",
    "\n",
    "def getnearpos(array,value):\n",
    "    idx = (np.abs(array-value)).argmin()\n",
    "    return idx \n",
    "\n",
    "def plate_info(srfilename, minx, maxx,  searchdx, oldszloc = 0.0):\n",
    "    \"\"\"\n",
    "    Use the surface strain rate field to find the location of the subduction zone in 2d\n",
    "    \n",
    "    \"\"\"\n",
    "    if type(srfilename) == str: #read surface strain rate points from file\n",
    "        sr = np.load(srfilename)\n",
    "    else:\n",
    "        sr =  srfilename        #read surface strain rates directly from array\n",
    "    xs = np.linspace(minx,maxx,sr.shape[0] )\n",
    "    #infs at the ends of the SR data...replace with adjacent values\n",
    "    sr[0] = sr[1] \n",
    "    sr[-1] = sr[2]\n",
    "    #Normalize\n",
    "    srx = (sr- sr.mean()) /(sr.max() - sr.min())\n",
    "    #reduce the search domain, to near the previous PB location\n",
    "    lx, rx = getnearpos(xs, oldszloc - searchdx),  getnearpos(xs, oldszloc + searchdx)\n",
    "    red_xs, red_sr = xs[lx:rx], srx[lx:rx]\n",
    "    #return the minima\n",
    "    newszLoc = red_xs[np.argmin(red_sr)]\n",
    "    return newszLoc "
   ]
  },
  {
   "cell_type": "code",
   "execution_count": 105,
   "metadata": {
    "collapsed": false
   },
   "outputs": [],
   "source": [
    "# initialise timer for computation\n",
    "start = time.clock()\n"
   ]
  },
  {
   "cell_type": "code",
   "execution_count": 106,
   "metadata": {
    "collapsed": false
   },
   "outputs": [],
   "source": [
    "#max_vx_surf(velocityField, mesh)"
   ]
  },
  {
   "cell_type": "markdown",
   "metadata": {},
   "source": [
    "Main simulation loop\n",
    "-----\n"
   ]
  },
  {
   "cell_type": "code",
   "execution_count": 190,
   "metadata": {
    "collapsed": false
   },
   "outputs": [
    {
     "ename": "KeyboardInterrupt",
     "evalue": "",
     "output_type": "error",
     "traceback": [
      "\u001b[1;31m\u001b[0m",
      "\u001b[1;31mKeyboardInterrupt\u001b[0mTraceback (most recent call last)",
      "\u001b[1;32m<ipython-input-190-f9c389f79938>\u001b[0m in \u001b[0;36m<module>\u001b[1;34m()\u001b[0m\n\u001b[0;32m    105\u001b[0m             \u001b[0mfnamedb\u001b[0m \u001b[1;33m=\u001b[0m \u001b[1;34m\"restrictFig\"\u001b[0m \u001b[1;33m+\u001b[0m \u001b[1;34m\"_\"\u001b[0m \u001b[1;33m+\u001b[0m \u001b[0mstr\u001b[0m\u001b[1;33m(\u001b[0m\u001b[0mstep\u001b[0m\u001b[1;33m)\u001b[0m \u001b[1;33m+\u001b[0m \u001b[1;34m\".gldb\"\u001b[0m\u001b[1;33m\u001b[0m\u001b[0m\n\u001b[0;32m    106\u001b[0m             \u001b[0mfullpath\u001b[0m \u001b[1;33m=\u001b[0m \u001b[0mos\u001b[0m\u001b[1;33m.\u001b[0m\u001b[0mpath\u001b[0m\u001b[1;33m.\u001b[0m\u001b[0mjoin\u001b[0m\u001b[1;33m(\u001b[0m\u001b[0moutputPath\u001b[0m \u001b[1;33m+\u001b[0m \u001b[1;34m\"gldbs/\"\u001b[0m \u001b[1;33m+\u001b[0m \u001b[0mfnamedb\u001b[0m\u001b[1;33m)\u001b[0m\u001b[1;33m\u001b[0m\u001b[0m\n\u001b[1;32m--> 107\u001b[1;33m             \u001b[0mfigRestrict\u001b[0m\u001b[1;33m.\u001b[0m\u001b[0msave_database\u001b[0m\u001b[1;33m(\u001b[0m\u001b[0mfullpath\u001b[0m\u001b[1;33m)\u001b[0m\u001b[1;33m\u001b[0m\u001b[0m\n\u001b[0m\u001b[0;32m    108\u001b[0m         \u001b[1;32melif\u001b[0m \u001b[0mfigures\u001b[0m \u001b[1;33m==\u001b[0m \u001b[1;34m'store'\u001b[0m\u001b[1;33m:\u001b[0m\u001b[1;33m\u001b[0m\u001b[0m\n\u001b[0;32m    109\u001b[0m             \u001b[0mfullpath\u001b[0m \u001b[1;33m=\u001b[0m \u001b[0mos\u001b[0m\u001b[1;33m.\u001b[0m\u001b[0mpath\u001b[0m\u001b[1;33m.\u001b[0m\u001b[0mjoin\u001b[0m\u001b[1;33m(\u001b[0m\u001b[0moutputPath\u001b[0m \u001b[1;33m+\u001b[0m \u001b[1;34m\"gldbs/\"\u001b[0m\u001b[1;33m)\u001b[0m\u001b[1;33m\u001b[0m\u001b[0m\n",
      "\u001b[1;32m/root/underworld2/glucifer/_glucifer.pyc\u001b[0m in \u001b[0;36msave_database\u001b[1;34m(self, filename, regen)\u001b[0m\n\u001b[0;32m    574\u001b[0m     \u001b[1;32mdef\u001b[0m \u001b[0msave_database\u001b[0m\u001b[1;33m(\u001b[0m\u001b[0mself\u001b[0m\u001b[1;33m,\u001b[0m \u001b[0mfilename\u001b[0m\u001b[1;33m,\u001b[0m \u001b[0mregen\u001b[0m\u001b[1;33m=\u001b[0m\u001b[0mTrue\u001b[0m\u001b[1;33m)\u001b[0m\u001b[1;33m:\u001b[0m\u001b[1;33m\u001b[0m\u001b[0m\n\u001b[0;32m    575\u001b[0m         \u001b[1;32mif\u001b[0m \u001b[0mregen\u001b[0m\u001b[1;33m:\u001b[0m\u001b[1;33m\u001b[0m\u001b[0m\n\u001b[1;32m--> 576\u001b[1;33m             \u001b[0mself\u001b[0m\u001b[1;33m.\u001b[0m\u001b[0m_generate_DB\u001b[0m\u001b[1;33m(\u001b[0m\u001b[1;33m)\u001b[0m\u001b[1;33m\u001b[0m\u001b[0m\n\u001b[0m\u001b[0;32m    577\u001b[0m         \u001b[1;32mreturn\u001b[0m \u001b[0mself\u001b[0m\u001b[1;33m.\u001b[0m\u001b[0mdb\u001b[0m\u001b[1;33m.\u001b[0m\u001b[0msave\u001b[0m\u001b[1;33m(\u001b[0m\u001b[0mfilename\u001b[0m\u001b[1;33m)\u001b[0m\u001b[1;33m\u001b[0m\u001b[0m\n\u001b[0;32m    578\u001b[0m \u001b[1;33m\u001b[0m\u001b[0m\n",
      "\u001b[1;32m/root/underworld2/glucifer/_glucifer.pyc\u001b[0m in \u001b[0;36m_generate_DB\u001b[1;34m(self)\u001b[0m\n\u001b[0;32m    609\u001b[0m         \u001b[1;32mif\u001b[0m \u001b[0mlen\u001b[0m\u001b[1;33m(\u001b[0m\u001b[0mself\u001b[0m\u001b[1;33m.\u001b[0m\u001b[0mdraw\u001b[0m\u001b[1;33m.\u001b[0m\u001b[0mvertices\u001b[0m\u001b[1;33m)\u001b[0m \u001b[1;33m>\u001b[0m \u001b[1;36m0\u001b[0m\u001b[1;33m:\u001b[0m\u001b[1;33m\u001b[0m\u001b[0m\n\u001b[0;32m    610\u001b[0m             \u001b[0mobjects\u001b[0m\u001b[1;33m.\u001b[0m\u001b[0mappend\u001b[0m\u001b[1;33m(\u001b[0m\u001b[0mself\u001b[0m\u001b[1;33m.\u001b[0m\u001b[0mdraw\u001b[0m\u001b[1;33m)\u001b[0m\u001b[1;33m\u001b[0m\u001b[0m\n\u001b[1;32m--> 611\u001b[1;33m         \u001b[0mself\u001b[0m\u001b[1;33m.\u001b[0m\u001b[0mdb\u001b[0m\u001b[1;33m.\u001b[0m\u001b[0m_generate\u001b[0m\u001b[1;33m(\u001b[0m\u001b[0mself\u001b[0m\u001b[1;33m.\u001b[0m\u001b[0mname\u001b[0m\u001b[1;33m,\u001b[0m \u001b[0mobjects\u001b[0m\u001b[1;33m,\u001b[0m \u001b[0mself\u001b[0m\u001b[1;33m)\u001b[0m\u001b[1;33m\u001b[0m\u001b[0m\n\u001b[0m\u001b[0;32m    612\u001b[0m \u001b[1;33m\u001b[0m\u001b[0m\n\u001b[0;32m    613\u001b[0m     \u001b[1;32mdef\u001b[0m \u001b[0m_generate_image\u001b[0m\u001b[1;33m(\u001b[0m\u001b[0mself\u001b[0m\u001b[1;33m,\u001b[0m \u001b[0mfilename\u001b[0m\u001b[1;33m=\u001b[0m\u001b[1;34m\"\"\u001b[0m\u001b[1;33m,\u001b[0m \u001b[0msize\u001b[0m\u001b[1;33m=\u001b[0m\u001b[1;33m(\u001b[0m\u001b[1;36m0\u001b[0m\u001b[1;33m,\u001b[0m\u001b[1;36m0\u001b[0m\u001b[1;33m)\u001b[0m\u001b[1;33m)\u001b[0m\u001b[1;33m:\u001b[0m\u001b[1;33m\u001b[0m\u001b[0m\n",
      "\u001b[1;32m/root/underworld2/glucifer/_glucifer.pyc\u001b[0m in \u001b[0;36m_generate\u001b[1;34m(self, figname, objects, props)\u001b[0m\n\u001b[0;32m    218\u001b[0m \u001b[1;33m\u001b[0m\u001b[0m\n\u001b[0;32m    219\u001b[0m             \u001b[1;31m# go ahead and fill db\u001b[0m\u001b[1;33m\u001b[0m\u001b[1;33m\u001b[0m\u001b[0m\n\u001b[1;32m--> 220\u001b[1;33m             \u001b[0mlibUnderworld\u001b[0m\u001b[1;33m.\u001b[0m\u001b[0mgLucifer\u001b[0m\u001b[1;33m.\u001b[0m\u001b[0m_lucDatabase_Execute\u001b[0m\u001b[1;33m(\u001b[0m\u001b[0mself\u001b[0m\u001b[1;33m.\u001b[0m\u001b[0m_db\u001b[0m\u001b[1;33m,\u001b[0m\u001b[0mNone\u001b[0m\u001b[1;33m)\u001b[0m\u001b[1;33m\u001b[0m\u001b[0m\n\u001b[0m\u001b[0;32m    221\u001b[0m \u001b[1;33m\u001b[0m\u001b[0m\n\u001b[0;32m    222\u001b[0m             \u001b[1;31m#Output any custom geometry on objects\u001b[0m\u001b[1;33m\u001b[0m\u001b[1;33m\u001b[0m\u001b[0m\n",
      "\u001b[1;31mKeyboardInterrupt\u001b[0m: "
     ]
    }
   ],
   "source": [
    "#while step < 6:\n",
    "while realtime < 0.002:\n",
    "\n",
    "    # solve Stokes and advection systems\n",
    "    solver.solve(nonLinearIterate=True)\n",
    "    dt = advDiff.get_max_dt()\n",
    "    if step == 0:\n",
    "        dt = 0.\n",
    "    advDiff.integrate(dt)\n",
    "    passiveadvector.integrate(dt)\n",
    "    slab_line.advection(dt)\n",
    "    for f in faults:\n",
    "        f.advection(dt)\n",
    "        \n",
    "    \n",
    " \n",
    "    \n",
    "    # Increment\n",
    "    realtime += dt\n",
    "    step += 1\n",
    "    timevals.append(realtime)\n",
    "    ################\n",
    "    #Update temperature field in the air region\n",
    "    #Do this better...\n",
    "    ################\n",
    "    if (step % sticky_air_temp == 0):\n",
    "        for index, coord in enumerate(mesh.data):\n",
    "            if coord[1] >= 1.:\n",
    "                temperatureField.data[index] = ndp.TSP\n",
    "\n",
    "    # Calculate the Metrics, only on 1 of the processors:\n",
    "    ################\n",
    "    if (step % metric_output == 0):\n",
    "        ###############\n",
    "        #Rebuild the restriction functions where necessary\n",
    "        ###############\n",
    "        lowerPlateRestFn = gSwarm.add_variable( dataType=\"double\", count=1 )\n",
    "        lowerPlateRestFn.data[:] = 0.0\n",
    "        update_swarm_from_line(slab_line, lowerPlateRestFn )\n",
    "        lowerPlateRestFn.data[np.where(lowerPlateRestFn.data >= -1.*fthickness)] = 1.\n",
    "        lowerPlateRestFn.data[np.where(lowerPlateRestFn.data < -1.*fthickness)] = 0. \n",
    "        lowerPlateRestFn *= lithRestFn #Add next level up in hierarchy\n",
    "        \n",
    "        ###############\n",
    "        #Metrics\n",
    "        ###############\n",
    "        areaintRock = _areaintRock.evaluate()[0] #trivial except when using sticky air\n",
    "        tempintRock = _tempintRock.evaluate()[0]\n",
    "        rmsintRock = _rmsintRock.evaluate()[0]\n",
    "        dwintRock = _dwintRock.evaluate()[0]\n",
    "        vdintRock = _vdintRock.evaluate()[0]\n",
    "        areaintLith = _areaintLith.evaluate()[0]\n",
    "        tempintLith = _tempintLith.evaluate()[0]\n",
    "        rmsintLith = _rmsintLith.evaluate()[0]\n",
    "        dwintLith = _dwintLith.evaluate()[0]\n",
    "        vdintLith = _vdintLith.evaluate()[0]\n",
    "        areaintLower = _areaintLower.evaluate()[0]\n",
    "        tempintLower = _tempintLower.evaluate()[0]\n",
    "        rmsintLower = _rmsintLower.evaluate()[0]\n",
    "        dwintLower = _dwintLower.evaluate()[0]\n",
    "        vdintLower = _vdintLower.evaluate()[0]\n",
    "        vdintHinge180 = _vdintHinge180.evaluate()[0]\n",
    "        areaintHinge180 = _areaintHinge180.evaluate()[0]\n",
    "        vdintHinge60 = _vdintHinge60.evaluate()[0]\n",
    "        areaintHinge60= _areaintHinge60.evaluate()[0]\n",
    "        vdintInterface = _vdintInterface.evaluate()[0]\n",
    "        areaintInterface= _areaintInterface.evaluate()[0]\n",
    "        #Surface integrals\n",
    "        rmsSurf = _rmsSurf.evaluate()[0]\n",
    "        nuTop = _nuTop.evaluate()[0]\n",
    "        nuBottom = _nuBottom.evaluate()[0]\n",
    "        plateness = _plateness.evaluate()[0]\n",
    "        #extrema\n",
    "        maxVel = _maxMinVel.max_global()\n",
    "        minVel = _maxMinVel.min_global() \n",
    "        maxSr = _maxMinSr.max_global()\n",
    "        minSr = _maxMinSr.min_global()\n",
    "        maxVxsurf = _maxMinVxSurf.max_global()\n",
    "        minVxsurf = _maxMinVxSurf.min_global()\n",
    "        # output to summary text file\n",
    "        if uw.rank()==0:\n",
    "            f_o.write((28*'%-15s ' + '\\n') % (areaintRock, tempintRock, rmsintRock, dwintRock, vdintRock,\n",
    "                                  areaintLith, tempintLith,rmsintLith, dwintLith, vdintLith,\n",
    "                                  areaintLower, tempintLower, rmsintLower, dwintLower, vdintLower, \n",
    "                                  areaintHinge180,vdintHinge180, areaintHinge60, vdintHinge60, \n",
    "                                  areaintInterface, vdintInterface, vdintInterface,\n",
    "                                  rmsSurf, nuTop, nuBottom, plateness, ndp.subzone, realtime))\n",
    "    ################\n",
    "    #Also repopulate entire swarm periodically\n",
    "    ################\n",
    "    #if step % swarm_repop == 0:\n",
    "    population_control.repopulate()   \n",
    "    ################\n",
    "    #Checkpoint\n",
    "    ################\n",
    "    if step % checkpoint_every == 0:\n",
    "        if uw.rank() == 0:\n",
    "            checkpoint1(step, checkpointPath,f_o, metric_output)           \n",
    "        checkpoint2(step, checkpointPath, gSwarm, f_o, varlist = varlist, varnames = varnames)\n",
    "        f_o = open(os.path.join(outputPath, outputFile), 'a') #is this line supposed to be here?\n",
    "    ################\n",
    "    #Gldb output\n",
    "    ################ \n",
    "    if (step % gldbs_output == 0): \n",
    "        if figures == 'gldb':\n",
    "            #Remember to rebuild any necessary swarm variables\n",
    "            fnamedb = \"dbFig\" + \"_\" + str(step) + \".gldb\"\n",
    "            fullpath = os.path.join(outputPath + \"gldbs/\" + fnamedb)\n",
    "            figDb.save_database(fullpath)\n",
    "            \n",
    "            #Temp figure\n",
    "            fnamedb = \"restrictFig\" + \"_\" + str(step) + \".gldb\"\n",
    "            fullpath = os.path.join(outputPath + \"gldbs/\" + fnamedb)\n",
    "            figRestrict.save_database(fullpath)\n",
    "        elif figures == 'store':      \n",
    "            fullpath = os.path.join(outputPath + \"gldbs/\")\n",
    "            store.step = step\n",
    "            #Save figures to store\n",
    "            figVisc.save( fullpath + \"Visc\" + str(step).zfill(4))\n",
    "            #figMech.save( fullPath + \"Mech\" + str(step).zfill(4))\n",
    "            figTemp.save( fullpath + \"Temp\"    + str(step).zfill(4))\n",
    "            figSr.save( fullpath + \"Str_rte\"    + str(step).zfill(4))\n",
    "    ################\n",
    "    #Files output\n",
    "    ################ \n",
    "    if (step % files_output == 0):\n",
    "\n",
    "        vel_surface = velocityField.evaluate_global(surface_nodes)\n",
    "        norm_surface_sr = normgradV.evaluate_global(surface_nodes)\n",
    "        if uw.rank() == 0:\n",
    "            fnametemp = \"velsurface\" + \"_\" + str(step)\n",
    "            fullpath = os.path.join(outputPath + \"files/\" + fnametemp)\n",
    "            np.save(fullpath, vel_surface)\n",
    "            fnametemp = \"norm_surface_sr\" + \"_\" + str(step)\n",
    "            fullpath = os.path.join(outputPath + \"files/\" + fnametemp)\n",
    "            np.save(fullpath, norm_surface_sr)\n",
    "            \n",
    "        #Save the slab_lineand tipswarm coords \n",
    "        fnametemp1 = \"midSwarm\" + \"_\" + str(step)\n",
    "        fullpath1 = os.path.join(outputPath + \"files/\" + fnametemp1)\n",
    "        slab_line.swarm.save(fullpath1)\n",
    "        #tipVar.data[:,:2] = velocityField.evaluate(tipSwarm)\n",
    "        #tipVar.data[:,2:] = xFn.evaluate(tipSwarm)\n",
    "        #tipVar.data[:,3:] = yFn.evaluate(tipSwarm)\n",
    "        #comm.barrier()\n",
    "        #fnametemp2 = \"tipSwarm\" + \"_\" + str(step)\n",
    "        #fullpath2 = os.path.join(outputPath + \"files/\" + fnametemp2)\n",
    "        #tipVar.save('fullpath2')\n",
    "            \n",
    "    ################\n",
    "    #Update the subduction zone / plate information\n",
    "    ################ \n",
    "    \n",
    "    comm.barrier()\n",
    "    if (step % files_output == 0):\n",
    "        \n",
    "        if uw.rank() == 0:\n",
    "            fnametemp = \"norm_surface_sr\" + \"_\" + str(step) + \".npy\"\n",
    "            fullpath = os.path.join(outputPath + \"files/\" + fnametemp)\n",
    "            ndp.subzone = plate_info(fullpath, MINX, MAXX,  800e3/dp.LS, oldszloc = ndp.subzone)\n",
    "            \n",
    "        else:\n",
    "            ndp.subzone = None\n",
    "        \n",
    "        comm.barrier()    \n",
    "        #send out the updated info for sz location\n",
    "        \n",
    "        ndp.subzone = comm.bcast(ndp.subzone, root=0)\n",
    "\n",
    "        #Has the polarity reversed?\n",
    "\n",
    "        if dp.sense == 'right':\n",
    "            tempop = operator.lt\n",
    "            szoffet *= -1\n",
    "        else:\n",
    "            tempop = operator.gt\n",
    "            \n",
    "        #Update the relevant parts of the material graph\n",
    "        #Remove and rebuild edges related to crust\n",
    "        DG.remove_edges_from([(mantleIndex,crustIndex)])\n",
    "        DG.add_edges_from([(mantleIndex,crustIndex)])\n",
    "        DG.remove_edges_from([(harzIndex,crustIndex)])\n",
    "        DG.add_edges_from([(harzIndex,crustIndex)])\n",
    "\n",
    "        #... to crust\n",
    "        DG.add_transition((mantleIndex,crustIndex), depthFn, operator.lt, 0.5)\n",
    "        DG.add_transition((mantleIndex,crustIndex), xFn, tempop , ndp.subzone) #No crust on the upper plate\n",
    "        DG.add_transition((mantleIndex,crustIndex), ageVariable, operator.gt, 0.2)\n",
    "\n",
    "        DG.add_transition((harzIndex,crustIndex), depthFn, operator.lt, ndp.MANTLETOCRUST)\n",
    "        DG.add_transition((harzIndex,crustIndex), xFn, tempop, ndp.subzone) #This one sets no crust on the upper plate\n",
    "        DG.add_transition((harzIndex,crustIndex), ageVariable, operator.gt, crustageCond)\n",
    "        \n",
    "        comm.barrier()\n",
    "                   \n",
    "    \n",
    "    ################\n",
    "    #Particle update\n",
    "    ###############    \n",
    "    #ageVariable.data[:] += dt #increment the ages (is this efficient?)\n",
    "    ageDT += dt\n",
    "    \n",
    "    if step % swarm_update == 0:\n",
    "        #Increment age stuff. \n",
    "        ageConditions = [ (depthFn < ndp.AGETRACKDEPTH, ageVariable + ageDT ),  #add ageDThere\n",
    "                  (True, 0.) ]\n",
    "        ageVariable.data[:] = fn.branching.conditional( ageConditions ).evaluate(gSwarm)        \n",
    "        ageDT = 0. #reset the age incrementer\n",
    "        \n",
    "        #Apply any materialVariable changes\n",
    "        for i in range(2): #go through twice\n",
    "            materialVariable.data[:] = fn.branching.conditional(DG.condition_list).evaluate(gSwarm)\n",
    "        \n",
    "        #Also update any information related to faults:\n",
    "        update_swarm_from_faults(faults[1:], proximityVariable, directorVector, signedDistanceVariable)\n",
    "        mask_materials(faults[1], airIndex, materialVariable, proximityVariable, directorVector, signedDistanceVariable)\n",
    "\n",
    "        update_swarm_from_faults(faults[0:-1], proximityVariable, directorVector, signedDistanceVariable)\n",
    "        mask_materials(faults[0], crustIndex, materialVariable, proximityVariable, directorVector, signedDistanceVariable)\n",
    "        \n",
    "        proximityVariable.data[gSwarm.particleCoordinates.data[:,1]  < (1. - ndp.CRUSTVISCUTOFF)] = 0.\n",
    "            \n",
    "    \n",
    "\n",
    "    \n",
    "f_o.close()\n",
    "print 'step =',step"
   ]
  },
  {
   "cell_type": "code",
   "execution_count": null,
   "metadata": {
    "collapsed": false
   },
   "outputs": [],
   "source": []
  },
  {
   "cell_type": "code",
   "execution_count": null,
   "metadata": {
    "collapsed": false
   },
   "outputs": [],
   "source": []
  },
  {
   "cell_type": "code",
   "execution_count": 98,
   "metadata": {
    "collapsed": false
   },
   "outputs": [],
   "source": [
    "#vxTi = velocityField[0].evaluate(surface_nodes)\n",
    "#vxIso = velocityFieldIso[0].evaluate(surface_nodes)\n",
    "#%pylab inline\n",
    "#fig, axes = plt.subplots(figsize=(16,4))\n",
    "#axes.plot(vxTi)\n",
    "#axes.plot(vxIso)\n",
    "\n",
    "\n",
    "#fig, axes = plt.subplots(figsize=(16,4))\n",
    "#axes.plot(vxTi)\n",
    "#axes.plot(surface_xs, vxTi - vxIso)\n",
    "#fig.savefig('Ti_minus_Iso.png')\n",
    "#plt.title('surface velocity residual - T. Iso minus Iso. weak zone')\n"
   ]
  },
  {
   "cell_type": "code",
   "execution_count": null,
   "metadata": {
    "collapsed": false
   },
   "outputs": [],
   "source": []
  },
  {
   "cell_type": "code",
   "execution_count": 249,
   "metadata": {
    "collapsed": true
   },
   "outputs": [],
   "source": []
  },
  {
   "cell_type": "code",
   "execution_count": 102,
   "metadata": {
    "collapsed": false
   },
   "outputs": [
    {
     "data": {
      "text/html": [
       "<img src='data:image/png;base64,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'>"
      ],
      "text/plain": [
       "<IPython.core.display.HTML object>"
      ]
     },
     "metadata": {},
     "output_type": "display_data"
    }
   ],
   "source": [
    "figRestrict.show()"
   ]
  },
  {
   "cell_type": "code",
   "execution_count": null,
   "metadata": {
    "collapsed": true
   },
   "outputs": [],
   "source": []
  }
 ],
 "metadata": {
  "kernelspec": {
   "display_name": "Python 2",
   "language": "python",
   "name": "python2"
  },
  "language_info": {
   "codemirror_mode": {
    "name": "ipython",
    "version": 2
   },
   "file_extension": ".py",
   "mimetype": "text/x-python",
   "name": "python",
   "nbconvert_exporter": "python",
   "pygments_lexer": "ipython2",
   "version": "2.7.9"
  },
  "widgets": {
   "state": {},
   "version": "1.1.2"
  }
 },
 "nbformat": 4,
 "nbformat_minor": 0
}
