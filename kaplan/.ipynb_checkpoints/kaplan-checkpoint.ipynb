{
 "cells": [
  {
   "cell_type": "markdown",
   "metadata": {},
   "source": [
    "## Thermal subduction, linear rheology:\n",
    "\n",
    "\n",
    "The viscous rheology in this model is similar to the models described in the PhD thesis of Micheal Kaplan\n",
    "\n",
    "\n",
    "\n",
    "**Keywords:** subduction, thermally-activated creep, \n",
    "\n",
    "\n",
    "**References:**\n",
    "\n",
    "\n",
    "Kaplan, Michael. Numerical Geodynamics of Solid Planetary Deformation. Diss. University of Southern California, 2015."
   ]
  },
  {
   "cell_type": "code",
   "execution_count": 297,
   "metadata": {
    "collapsed": false
   },
   "outputs": [],
   "source": [
    "import numpy as np\n",
    "import underworld as uw\n",
    "import math\n",
    "from underworld import function as fn\n",
    "import glucifer\n",
    "\n",
    "import os\n",
    "import sys\n",
    "import natsort\n",
    "import shutil\n",
    "from easydict import EasyDict as edict\n",
    "import operator\n",
    "import pint\n",
    "import time\n",
    "import operator\n",
    "from slippy2 import boundary_layer2d\n",
    "from slippy2 import material_graph\n",
    "from slippy2 import spmesh\n",
    "from slippy2 import phase_function\n",
    "\n",
    "from mpi4py import MPI\n",
    "comm = MPI.COMM_WORLD\n",
    "rank = comm.Get_rank()"
   ]
  },
  {
   "cell_type": "markdown",
   "metadata": {},
   "source": [
    "Model name and directories\n",
    "-----"
   ]
  },
  {
   "cell_type": "code",
   "execution_count": 298,
   "metadata": {
    "collapsed": true
   },
   "outputs": [],
   "source": [
    "############\n",
    "#Model name.  \n",
    "############\n",
    "Model = \"T\"\n",
    "ModNum = 0\n",
    "\n",
    "if len(sys.argv) == 1:\n",
    "    ModIt = \"Base\"\n",
    "elif sys.argv[1] == '-f':\n",
    "    ModIt = \"Base\"\n",
    "else:\n",
    "    ModIt = str(sys.argv[1])"
   ]
  },
  {
   "cell_type": "code",
   "execution_count": 299,
   "metadata": {
    "collapsed": false
   },
   "outputs": [],
   "source": [
    "###########\n",
    "#Standard output directory setup\n",
    "###########\n",
    "\n",
    "\n",
    "outputPath = \"results\" + \"/\" +  str(Model) + \"/\" + str(ModNum) + \"/\" + str(ModIt) + \"/\"\n",
    "imagePath = outputPath + 'images/'\n",
    "filePath = outputPath + 'files/'\n",
    "checkpointPath = outputPath + 'checkpoint/'\n",
    "dbPath = outputPath + 'gldbs/'\n",
    "outputFile = 'results_model' + Model + '_' + str(ModNum) + '_' + str(ModIt) + '.dat'\n",
    "\n",
    "if uw.rank()==0:\n",
    "    # make directories if they don't exist\n",
    "    if not os.path.isdir(outputPath):\n",
    "        os.makedirs(outputPath)\n",
    "    if not os.path.isdir(checkpointPath):\n",
    "        os.makedirs(checkpointPath)\n",
    "    if not os.path.isdir(imagePath):\n",
    "        os.makedirs(imagePath)\n",
    "    if not os.path.isdir(dbPath):\n",
    "        os.makedirs(dbPath)\n",
    "    if not os.path.isdir(filePath):\n",
    "        os.makedirs(filePath)\n",
    "        \n",
    "comm.Barrier() #Barrier here so no procs run the check in the next cell too early"
   ]
  },
  {
   "cell_type": "code",
   "execution_count": 300,
   "metadata": {
    "collapsed": false
   },
   "outputs": [
    {
     "name": "stdout",
     "output_type": "stream",
     "text": [
      "results/T/0/Base/checkpoint/ is empty\n",
      "results/T/0/Base/checkpoint/10 has files\n",
      "results/T/0/Base/checkpoint/15 has files\n",
      "results/T/0/Base/checkpoint/20 has files\n",
      "results/T/0/Base/checkpoint/5 has files\n"
     ]
    }
   ],
   "source": [
    "###########\n",
    "#Check if starting from checkpoint\n",
    "###########\n",
    "\n",
    "checkdirs = []\n",
    "for dirpath, dirnames, files in os.walk(checkpointPath):\n",
    "    if files:\n",
    "        print dirpath, 'has files'\n",
    "        checkpointLoad = True\n",
    "        checkdirs.append(dirpath)\n",
    "    if not files:\n",
    "        print dirpath, 'is empty'\n",
    "        checkpointLoad = False"
   ]
  },
  {
   "cell_type": "markdown",
   "metadata": {},
   "source": [
    "Setup parameters\n",
    "-----\n",
    "\n",
    "Set simulation parameters for test."
   ]
  },
  {
   "cell_type": "markdown",
   "metadata": {},
   "source": [
    "**Use pint to setup any unit conversions we'll need**"
   ]
  },
  {
   "cell_type": "code",
   "execution_count": 301,
   "metadata": {
    "collapsed": false
   },
   "outputs": [
    {
     "data": {
      "text/html": [
       "10000.0 meter/megayear"
      ],
      "text/latex": [
       "$10000.0 \\frac{meter}{megayear}$"
      ],
      "text/plain": [
       "<Quantity(10000.0, 'meter / megayear')>"
      ]
     },
     "execution_count": 301,
     "metadata": {},
     "output_type": "execute_result"
    }
   ],
   "source": [
    "u = pint.UnitRegistry()\n",
    "cmpery = 1.*u.cm/u.year\n",
    "mpermy = 1.*u.m/u.megayear\n",
    "year = 1.*u.year\n",
    "spery = year.to(u.sec)\n",
    "cmpery.to(mpermy)"
   ]
  },
  {
   "cell_type": "code",
   "execution_count": 302,
   "metadata": {
    "collapsed": false
   },
   "outputs": [
    {
     "name": "stdout",
     "output_type": "stream",
     "text": [
      "(0.04, 1.2675505856327397e-11)\n"
     ]
    }
   ],
   "source": [
    "box_half_width =4000e3\n",
    "age_at_trench = 100e6\n",
    "cmperyear = box_half_width / age_at_trench #m/y\n",
    "mpersec = cmperyear*(cmpery.to(u.m/u.second)).magnitude #m/sec\n",
    "print(cmperyear, mpersec )"
   ]
  },
  {
   "cell_type": "markdown",
   "metadata": {},
   "source": [
    "**Set parameter dictionaries**"
   ]
  },
  {
   "cell_type": "code",
   "execution_count": 303,
   "metadata": {
    "collapsed": false
   },
   "outputs": [],
   "source": [
    "###########\n",
    "#Store the physical parameters, scale factors and dimensionless pramters in easyDicts\n",
    "#Mainly helps with avoiding overwriting variables\n",
    "###########\n",
    "\n",
    "\n",
    "#Style => parameters_like_this\n",
    "\n",
    "dp = edict({'LS':670*1e3, #Scaling Length scale\n",
    "            'depth':670*1e3, #Depth of domain\n",
    "           'rho':3300.,  #reference density\n",
    "           'g':9.8, #surface gravity\n",
    "           'eta0':1.2e20, #\n",
    "           'k':1e-6, #thermal diffusivity\n",
    "           'a':3e-5, #surface thermal expansivity\n",
    "           'TP':1673., #mantle potential temp (K)\n",
    "           'TS':273., #surface temp (K)\n",
    "           'cohesion':40e6, #cohesion in scalar yield function\n",
    "           'fc':0.03,   #friction coefficient in yield function(tan(phi))\n",
    "           'Adf':3e-11, #pre-exp factor for diffusion creep\n",
    "           'Edf':1e5,\n",
    "           #'Vdf':4e-6,\n",
    "           #'Elm':2.0e5,\n",
    "           #'Vlm':1.1e-6,\n",
    "           #'SR':1e-15,\n",
    "           #'rDepth':250e3, #reference depth (used to scale / normalize the flow laws)\n",
    "           'R':8.314, #gas constant\n",
    "           #'Cp':1250., #Specific heat (Jkg-1K-1)\n",
    "           'StALS':100e3, #depth of sticky air layer\n",
    "           'plate_vel':4})\n",
    "\n",
    "#Adiabatic heating stuff\n",
    "#dp.dTa = (dp.a*dp.g*(dp.TP))/dp.Cp #adibatic gradient, at Tp\n",
    "#dp.deltaTa = (dp.TP + dp.dTa*dp.LS) - dp.TS  #Adiabatic Temp at base of mantle, minus Ts\n",
    "dp.deltaT = dp.TP - dp.TS\n",
    "#dp.rTemp= dp.TP + dp.rDepth*dp.dTa #reference temp, (potential temp + adiabat)\n",
    "\n",
    "\n",
    "#scale_factors\n",
    "\n",
    "sf = edict({'stress':dp.LS**2/(dp.k*dp.eta0),\n",
    "            'lith_grad':dp.rho*dp.g*(dp.LS)**3/(dp.eta0*dp.k) , \n",
    "            'vel':dp.LS/dp.k,\n",
    "            'SR':dp.LS**2/dp.k,\n",
    "            #'W':(-1./dp.Ba)*(np.log(1.-dp.rho*dp.g*dp.Ba*dp.LS))/(dp.R*dp.deltaTa), #Including adiabatic compression, and deltaTa\n",
    "            #'E': 1./(dp.R*dp.deltaT), #using deltaTa, the guesstimated adiabatic temp differnnce to scale these paramters\n",
    "            #'Ads':(dp.eta0**(ndp.n-2))*((dp.k)**(ndp.n-1))*((dp.LS)**(2. - 2*ndp.n))       \n",
    "           })\n",
    "\n",
    "#dimensionless parameters\n",
    "\n",
    "ndp = edict({'RA':(dp.g*dp.rho*dp.a*(dp.TP - dp.TS)*(dp.LS)**3)/(dp.k*dp.eta0),\n",
    "            'cohesion':dp.cohesion*sf.stress,\n",
    "            'fcd':dp.fc*sf.lith_grad,\n",
    "            'gamma':dp.fc/(dp.a*dp.deltaT),\n",
    "            #'Wdf':dp.Vdf*sf.W,\n",
    "            'Edf':math.log(dp.Edf),\n",
    "            #'Wps':dp.Vpr*sf.W,\n",
    "            #'Eps':dp.Epr*sf.E,\n",
    "            #'Wds':dp.Vds*sf.W,\n",
    "            #'Eds':dp.Eds*sf.E,\n",
    "            #'Elm':dp.Elm*sf.E,\n",
    "            #'Elm':dp.Elm*sf.E,\n",
    "            #'Wlm':dp.Vlm*sf.W,\n",
    "            'TSP':0., \n",
    "            'TBP':1.,\n",
    "            'TPP':(dp.TP - dp.TS)/dp.deltaT, #dimensionless potential temp\n",
    "            #'rDepth':dp.rDepth/dp.LS,\n",
    "            #'rTemp':(dp.rTemp- dp.TS)/dp.deltaT,\n",
    "            #'n':3.5, #Dislocation creep stress exponent\n",
    "            'np':20., #Peierls creep stress exponent\n",
    "            'TS':dp.TS/dp.deltaT,\n",
    "            'TP':dp.TP/dp.deltaT,\n",
    "            'eta_min':1e-3, \n",
    "            'eta_max':1e5, #viscosity max in the mantle material\n",
    "            #'eta_min_crust':1e-3, #crust viscosity, if using isoviscous weak crust\n",
    "            'eta_max_crust':1., #viscosity max in the weak-crust material\n",
    "            #'H':0.,\n",
    "            #'Tmvp':0.6,\n",
    "            #'Di': dp.a*dp.g*dp.LS/dp.Cp, #Dissipation number\n",
    "            'Steta0':5e-2,\n",
    "            'plate_vel':sf.vel*dp.plate_vel*(cmpery.to(u.m/u.second)).magnitude,\n",
    "            'low_mantle_visc_fac':10.,\n",
    "            'crust_cohesion_fac':0.1,\n",
    "            'crust_fc_fac':0.1\n",
    "            })\n",
    "\n",
    "\n",
    "\n",
    "#Make some further additions to paramter dictionaries\n",
    "\n",
    "#dp.VR = (0.1*(dp.k/dp.LS)*ndp.RA**(2/3.)) #characteristic velocity from a scaling relationship\n",
    "#dp.SR = dp.VR/dp.LS #characteristic strain rate\n",
    "#ndp.VR = dp.VR*sf.vel #characteristic velocity\n",
    "#ndp.SR = dp.SR*sf.SR #characteristic strain rate\n",
    "\n",
    "\n",
    "#ndp.SR = dp.SR*sf.SR #characteristic strain rate\n",
    "\n",
    "ndp.StRA = (3300.*dp.g*(dp.LS)**3)/(dp.eta0 *dp.k) #Composisitional Rayleigh number for rock-air buoyancy force\n",
    "#ndp.TaP = 1. - ndp.TPP,  #Dimensionles adiabtic component of delta t"
   ]
  },
  {
   "cell_type": "code",
   "execution_count": 304,
   "metadata": {
    "collapsed": false
   },
   "outputs": [
    {
     "data": {
      "text/plain": [
       "2431668.8550000004"
      ]
     },
     "execution_count": 304,
     "metadata": {},
     "output_type": "execute_result"
    }
   ],
   "source": [
    "t1 = 2918002.6260000006\n",
    "ndp.fcd"
   ]
  },
  {
   "cell_type": "code",
   "execution_count": 305,
   "metadata": {
    "collapsed": false
   },
   "outputs": [
    {
     "data": {
      "text/plain": [
       "3404336.397000001"
      ]
     },
     "execution_count": 305,
     "metadata": {},
     "output_type": "execute_result"
    }
   ],
   "source": [
    "#40000./sf.vel, \n",
    "ndp.RA\n",
    "#ndp.plate_vel\n",
    "#ndp.Edf\n",
    "#3404336."
   ]
  },
  {
   "cell_type": "code",
   "execution_count": 306,
   "metadata": {
    "collapsed": false
   },
   "outputs": [],
   "source": [
    "#(4.0065172577e-06*sf.SR)/(3600.*24*365)"
   ]
  },
  {
   "cell_type": "code",
   "execution_count": 307,
   "metadata": {
    "collapsed": false
   },
   "outputs": [
    {
     "data": {
      "text/plain": [
       "(2263.019582399744, 849.2588923739356, 3404336.397000001, 1400.0)"
      ]
     },
     "execution_count": 307,
     "metadata": {},
     "output_type": "execute_result"
    }
   ],
   "source": [
    "dp.CVR = (0.1*(dp.k/dp.LS)*ndp.RA**(2/3.))\n",
    "ndp.CVR = dp.CVR*sf.vel #characteristic velocity\n",
    "ndp.CVR, ndp.plate_vel, ndp.RA , (dp.TP - dp.TS)\n"
   ]
  },
  {
   "cell_type": "code",
   "execution_count": 308,
   "metadata": {
    "collapsed": false
   },
   "outputs": [],
   "source": [
    "###########\n",
    "#lengths scales for various processes (material transistions etc.)\n",
    "###########\n",
    "\n",
    "MANTLETOCRUST = (10.*1e3)/dp.LS #Crust depth\n",
    "HARZBURGDEPTH = MANTLETOCRUST + (27.7e3/dp.LS)\n",
    "CRUSTTOMANTLE = (800.*1e3)/dp.LS\n",
    "LITHTOMANTLE = (900.*1e3)/dp.LS\n",
    "MANTLETOLITH = (200.*1e3)/dp.LS\n",
    "TOPOHEIGHT = (10.*1e3)/dp.LS  #rock-air topography limits\n",
    "CRUSTTOECL  = (100.*1e3)/dp.LS\n",
    "#AVGTEMP = ndp.TPP #Used to define lithosphere\n",
    "LOWMANTLEDEPTH = (660.*1e3)/dp.LS \n",
    "CRUSTVISCUTOFF = (100.*1e3)/dp.LS #Deeper than this, crust material rheology reverts to mantle rheology\n",
    "AGETRACKDEPTH = 100e3/dp.LS #above this depth we track the age of the lithsphere (below age is assumed zero)\n"
   ]
  },
  {
   "cell_type": "code",
   "execution_count": 309,
   "metadata": {
    "collapsed": false
   },
   "outputs": [],
   "source": [
    "#MINX"
   ]
  },
  {
   "cell_type": "markdown",
   "metadata": {},
   "source": [
    "**Model setup parameters**"
   ]
  },
  {
   "cell_type": "code",
   "execution_count": 310,
   "metadata": {
    "collapsed": false
   },
   "outputs": [],
   "source": [
    "###########\n",
    "#Model setup parameters\n",
    "###########\n",
    "\n",
    "#Modelling and Physics switches\n",
    "refineMesh = True\n",
    "stickyAir = False\n",
    "meltViscosityReduction = False\n",
    "symmetricIC = False\n",
    "VelBC = False\n",
    "aspectRatio = 4\n",
    "compBuoyancy = False #use compositional & phase buoyancy, or simply thermal\n",
    "viscMechs = ['diffusion', 'dislocation', 'peierls', 'yielding']\n",
    "viscCombine = 'harmonic' #'harmonic', 'min', 'mixed'....\n",
    "\n",
    "#Domain and Mesh paramters\n",
    "dim = 2          # number of spatial dimensions\n",
    "\n",
    "tot_depth = np.round(dp.depth/dp.LS, 3)\n",
    "\n",
    "#These options allow us to explore the choice of different length scalings\n",
    "\n",
    "if tot_depth == 1.: #Depth equal to length scale\n",
    "    MINY = 0.\n",
    "    MAXY = 1.\n",
    "elif tot_depth > 1.: #Depth larger than to length scale\n",
    "    MINY = 0.\n",
    "    MAXY = tot_depth\n",
    "    \n",
    "elif tot_depth < 1.: #Depth smaller to length scale\n",
    "    MINY = np.round(1. - tot_depth, 2)\n",
    "    MAXY = 1.\n",
    "    \n",
    "MINX = np.round(-1.*tot_depth*aspectRatio/2., 2)  #Aspect ratio is fixed, x-domain shifts according to system depth and length scale\n",
    "\n",
    "MAXX = np.round(1.*tot_depth*aspectRatio/2., 2)\n",
    "\n",
    "if MINX == 0.:\n",
    "    squareModel = True\n",
    "else: \n",
    "    squareModel = False\n",
    "    \n",
    "    \n",
    "RES = 96\n",
    "Xres = int(RES*aspectRatio)\n",
    "#if MINY == 0.5:\n",
    "#    Xres = int(2.*RES*aspectRatio)\n",
    "    \n",
    "\n",
    "if stickyAir:\n",
    "    Yres = RES\n",
    "    MAXY = np.round(MAXY + dp.StALS/dp.LS, 2)\n",
    "    \n",
    "else:\n",
    "    Yres = RES\n",
    "    MAXY = np.round(MAXY, 2)\n",
    "\n",
    "periodic = [False, False]\n",
    "elementType = \"Q1/dQ0\"\n",
    "#elementType =\"Q2/DPC1\"\n",
    "\n",
    "\n",
    "#System/Solver stuff\n",
    "PIC_integration=True\n",
    "ppc = 25\n",
    "\n",
    "#Metric output stuff\n",
    "figures =  'gldb' #glucifer Store won't work on all machines, if not, set to 'gldb' \n",
    "swarm_repop, swarm_update = 10, 10\n",
    "gldbs_output = 10\n",
    "checkpoint_every, files_output = 5, 10\n",
    "metric_output = 5\n",
    "sticky_air_temp = 5"
   ]
  },
  {
   "cell_type": "code",
   "execution_count": 311,
   "metadata": {
    "collapsed": false
   },
   "outputs": [
    {
     "data": {
      "text/plain": [
       "(0.0, 1.0)"
      ]
     },
     "execution_count": 311,
     "metadata": {},
     "output_type": "execute_result"
    }
   ],
   "source": [
    "MINY, MAXY"
   ]
  },
  {
   "cell_type": "code",
   "execution_count": 312,
   "metadata": {
    "collapsed": false
   },
   "outputs": [
    {
     "data": {
      "text/plain": [
       "(0.0, 1.0, -2.0, 2.0, 1.0)"
      ]
     },
     "execution_count": 312,
     "metadata": {},
     "output_type": "execute_result"
    }
   ],
   "source": [
    "MINY, MAXY,MINX, MAXX, tot_depth"
   ]
  },
  {
   "cell_type": "markdown",
   "metadata": {},
   "source": [
    "Create mesh and finite element variables\n",
    "------"
   ]
  },
  {
   "cell_type": "code",
   "execution_count": 313,
   "metadata": {
    "collapsed": false
   },
   "outputs": [],
   "source": [
    "mesh = uw.mesh.FeMesh_Cartesian( elementType = (elementType),\n",
    "                                 elementRes  = (Xres, Yres), \n",
    "                                 minCoord    = (MINX, MINY), \n",
    "                                 maxCoord    = (MAXX, MAXY), periodic=periodic)\n",
    "\n",
    "velocityField       = uw.mesh.MeshVariable( mesh=mesh,         nodeDofCount=2 )\n",
    "pressureField       = uw.mesh.MeshVariable( mesh=mesh.subMesh, nodeDofCount=1 )\n",
    "temperatureField    = uw.mesh.MeshVariable( mesh=mesh,         nodeDofCount=1 )\n",
    "temperatureDotField = uw.mesh.MeshVariable( mesh=mesh,         nodeDofCount=1 )"
   ]
  },
  {
   "cell_type": "code",
   "execution_count": 314,
   "metadata": {
    "collapsed": true
   },
   "outputs": [],
   "source": [
    "mesh.reset()"
   ]
  },
  {
   "cell_type": "code",
   "execution_count": 315,
   "metadata": {
    "collapsed": false
   },
   "outputs": [
    {
     "name": "stdout",
     "output_type": "stream",
     "text": [
      "Min\n",
      "(384, 0.0052093750000000369, 3.0003999999999929, 0.99960000000002847)\n",
      "('edges', 384)\n",
      "-- iteration 0 --\n",
      "| F( p_n ) |^2: 5.47966873056e-05\n",
      "| p_n+1 - p_n |^2: 12.7983513831\n",
      "-- iteration 1 --\n",
      "| F( p_n ) |^2: 5.75247890072e-30\n",
      "Min, Max element width: \n",
      "0.00521\n",
      "0.01562\n"
     ]
    }
   ],
   "source": [
    "###########\n",
    "#Mesh refinement\n",
    "###########\n",
    "\n",
    "#X-Axis\n",
    "\n",
    "if refineMesh:\n",
    "    mesh.reset()\n",
    "    axis = 0\n",
    "    origcoords = np.linspace(mesh.minCoord[axis], mesh.maxCoord[axis], mesh.elementRes[axis] + 1)\n",
    "    edge_rest_lengths = np.diff(origcoords)\n",
    "\n",
    "    deform_lengths = edge_rest_lengths.copy()\n",
    "    min_point =  (abs(mesh.maxCoord[axis]) - abs(mesh.minCoord[axis]))/2.\n",
    "    el_reduction = 0.5001\n",
    "    dx = mesh.maxCoord[axis] - min_point\n",
    "\n",
    "    deform_lengths = deform_lengths - \\\n",
    "                                    ((1.-el_reduction) *deform_lengths[0]) + \\\n",
    "                                    abs((origcoords[1:] - min_point))*((0.5*deform_lengths[0])/dx)\n",
    "\n",
    "    #print(edge_rest_lengths.shape, deform_lengths.shape)\n",
    "\n",
    "    spmesh.deform_1d(deform_lengths, mesh,axis = 'x',norm = 'Min', constraints = [])"
   ]
  },
  {
   "cell_type": "code",
   "execution_count": 316,
   "metadata": {
    "collapsed": false
   },
   "outputs": [],
   "source": [
    "axis = 1\n",
    "orgs = np.linspace(mesh.minCoord[axis], mesh.maxCoord[axis], mesh.elementRes[axis] + 1)\n",
    "\n",
    "value_to_constrain = MAXY #nodes will remain along this line\n",
    "\n",
    "\n",
    "yconst = [(spmesh.find_closest(orgs, value_to_constrain), np.array([value_to_constrain,0]))]"
   ]
  },
  {
   "cell_type": "code",
   "execution_count": 317,
   "metadata": {
    "collapsed": false,
    "scrolled": true
   },
   "outputs": [
    {
     "name": "stdout",
     "output_type": "stream",
     "text": [
      "Min\n",
      "(96, 0.0052093750000000742, 0.74749583333333336, 1.0206484210526607)\n",
      "('edges', 96)\n",
      "-- iteration 0 --\n",
      "| F( p_n ) |^2: 5.53734945404e-05\n",
      "| p_n+1 - p_n |^2: 0.816603998686\n",
      "-- iteration 1 --\n",
      "| F( p_n ) |^2: 6.02479034853e-31\n",
      "Min, Max element width: \n",
      "0.00521\n",
      "0.01562\n"
     ]
    }
   ],
   "source": [
    "###########\n",
    "#Mesh refinement\n",
    "###########\n",
    "\n",
    "if refineMesh:\n",
    "    #Y-Axis\n",
    "    axis = 1\n",
    "    origcoords = np.linspace(mesh.minCoord[axis], mesh.maxCoord[axis], mesh.elementRes[axis] + 1)\n",
    "    edge_rest_lengths = np.diff(origcoords)\n",
    "\n",
    "    deform_lengths = edge_rest_lengths.copy()\n",
    "    min_point =  (mesh.maxCoord[axis])\n",
    "    el_reduction = 0.5001\n",
    "    dx = mesh.maxCoord[axis]\n",
    "\n",
    "    deform_lengths = deform_lengths - \\\n",
    "                                    ((1.-el_reduction)*deform_lengths[0]) + \\\n",
    "                                    abs((origcoords[1:] - min_point))*((0.5*deform_lengths[0])/dx)\n",
    "\n",
    "    #print(edge_rest_lengths.shape, deform_lengths.shape)\n",
    "\n",
    "    spmesh.deform_1d(deform_lengths, mesh,axis = 'y',norm = 'Min', constraints = yconst)"
   ]
  },
  {
   "cell_type": "code",
   "execution_count": 318,
   "metadata": {
    "collapsed": false
   },
   "outputs": [],
   "source": [
    "#fig= glucifer.Figure()\n",
    "\n",
    "#fig.append(glucifer.objects.Mesh(mesh))\n",
    "\n",
    "#fig.show()\n",
    "#fig.save_database('test.gldb')"
   ]
  },
  {
   "cell_type": "code",
   "execution_count": 319,
   "metadata": {
    "collapsed": true
   },
   "outputs": [],
   "source": [
    "#THis is a hack for adding a sticky air domain, we refine MAXY and things like the temperature stencil work from Y = 1. \n",
    "\n",
    "if stickyAir:\n",
    "    MAXY = 1."
   ]
  },
  {
   "cell_type": "markdown",
   "metadata": {},
   "source": [
    "Initial conditions\n",
    "-------\n"
   ]
  },
  {
   "cell_type": "code",
   "execution_count": 320,
   "metadata": {
    "collapsed": false
   },
   "outputs": [],
   "source": [
    "coordinate = fn.input()\n",
    "depthFn = MAXY - coordinate[1] #a function providing the depth\n",
    "\n",
    "\n",
    "xFn = coordinate[0]  #a function providing the x-coordinate\n",
    "\n",
    "#potTempFn = ndp.TPP + (depthFn)*ndp.TaP #a function providing the adiabatic temp at any depth\n",
    "#abHeatFn = -1.*velocityField[1]*temperatureField*ndp.Di #a function providing the adiabatic heating rate"
   ]
  },
  {
   "cell_type": "code",
   "execution_count": null,
   "metadata": {
    "collapsed": false
   },
   "outputs": [],
   "source": []
  },
  {
   "cell_type": "markdown",
   "metadata": {
    "collapsed": false
   },
   "source": [
    "###########\n",
    "#Thermal initial condition:\n",
    "#if symmetricIC, we build a symmetric downwelling on top of a sinusoidal perturbation\n",
    "##########\n",
    "\n",
    "#Sinusoidal initial condition\n",
    "A = 0.2\n",
    "sinFn = depthFn + A*(fn.math.cos( math.pi * coordinate[0])  * fn.math.sin( math.pi * coordinate[1] ))        \n",
    "iD = 1000e3/dp.LS #Initial Slab depth\n",
    "dl =  2*math.sqrt(dp.k*160e6*3600*24*365) #diffusion Length at ... My\n",
    "w0 = dl/dp.LS #Boundary layer/slab initial condition\n",
    "delX1 = fn.misc.min(fn.math.abs(coordinate[0] - -0.), fn.math.abs(coordinate[0] - -2.))\n",
    "delX = fn.misc.min(delX1 , fn.math.abs(coordinate[0] - 2.))\n",
    "w = w0*fn.math.sqrt(delX + 1e-7)\n",
    "tempBL = (potTempFn) *fn.math.erf((depthFn)/w) + ndp.TSP\n",
    "delX = fn.misc.min(fn.math.abs(coordinate[0] - - 1.) , fn.math.abs(coordinate[0] - 1.))\n",
    "tempSlab = (potTempFn ) *fn.math.erf((delX*2.)/w0) + ndp.TSP       \n",
    "tempFn1 =  fn.misc.min(tempBL, tempSlab)\n",
    "blFn = fn.branching.conditional([(depthFn < iD, tempFn1), \n",
    "                                    (True, potTempFn)])\n",
    "\n",
    "tempFn = 0.*sinFn + 1.*blFn #partition the temp between these the symmetric downwelling and sinusoid\n",
    "if symmetricIC:  \n",
    "    if not checkpointLoad:\n",
    "        temperatureField.data[:] = tempFn.evaluate(mesh)  "
   ]
  },
  {
   "cell_type": "code",
   "execution_count": 321,
   "metadata": {
    "collapsed": false
   },
   "outputs": [],
   "source": [
    "\n",
    "def age_fn(xFn, sz = 0.0, lMOR=MINX, rMOR=MAXX, opFac=1., conjugate_plate = False):\n",
    "    \"\"\"\n",
    "    Simple function to generate a discrete 1-d (i.e x-coordinate) function for the age of the thermal BC. \n",
    "    All paramters are dimensionless\n",
    "    sz: location of subduction zone\n",
    "    lMOR: location of left-hand MOR\n",
    "    rMOR: location of right-hand MOR\n",
    "    opFac: uniform reduce the age of the right hand plate by this factor\n",
    "    conjugate_plate: if True, build plates on the outer sides of the MORs, if False, age = 0. \n",
    "    \"\"\"\n",
    "    \n",
    "    if lMOR < MINX:\n",
    "        lMOR = MINX\n",
    "    if rMOR > MAXX:\n",
    "        rMOR = MAXX\n",
    "    r_grad =  1./(abs(rMOR-sz))\n",
    "    l_grad =  1./(abs(sz-lMOR))\n",
    "    if conjugate_plate:\n",
    "        ageFn = fn.branching.conditional([(operator.and_(xFn > lMOR, xFn < sz) , (xFn + abs(lMOR))/(abs(sz-lMOR))), \n",
    "                                      (operator.and_(xFn < rMOR, xFn >= sz), (1.-(xFn + abs(sz))/abs(rMOR-sz))*opFac),\n",
    "                                      (xFn > rMOR, r_grad*opFac*(xFn -abs(rMOR)) / (abs(MAXX-rMOR))),\n",
    "                                      (True, l_grad*fn.math.abs((((xFn + abs(lMOR)) / (abs(lMOR - MINX))))))\n",
    "                                         ])\n",
    "    else:    \n",
    "        \n",
    "        ageFn = fn.branching.conditional([(operator.and_(xFn > lMOR, xFn < sz) , (xFn + abs(lMOR))/(abs(sz-lMOR))), \n",
    "                                      (operator.and_(xFn < rMOR, xFn >= sz), (1.-(xFn + abs(sz))/abs(rMOR-sz))*opFac),\n",
    "\n",
    "                                      (True, 0.0)])\n",
    "    return ageFn"
   ]
  },
  {
   "cell_type": "code",
   "execution_count": 247,
   "metadata": {
    "collapsed": false
   },
   "outputs": [],
   "source": [
    "###########\n",
    "#Thermal initial condition 2: \n",
    "#if symmetricIC == False, we build an asymmetric subduction-zone\n",
    "###########\n",
    "\n",
    "\n",
    "\n",
    "\n",
    "#Main control paramters are:\n",
    "\n",
    "\n",
    "Roc = 250e3 #radius of curvature of slab\n",
    "theta = 70. #Angle to truncate the slab (can also do with with a cutoff depth)\n",
    "subzone = 0.0 #X position of subduction zone...in model coordinates\n",
    "slabmaxAge = 75e6 #age of subduction plate at trench\n",
    "platemaxAge = 75e6 #max age of slab (Plate model)\n",
    "ageAtTrenchSeconds = min(platemaxAge*(3600*24*365), slabmaxAge*(3600*24*365))\n",
    "lRidge = -0.5*(670e3*4)/dp.LS  #For depth = 670 km, aspect ratio of 4, this puts the ridges at MINX, MAXX\n",
    "rRidge = 0.5*(670e3*4)/dp.LS\n",
    "\n",
    "sense = 'Right' #dip direction\n",
    "op_age_fac = 0.2 #this controls the overidding plate age reduction\n",
    "\n",
    "\n",
    "#First build the top TBL\n",
    "#Create functions between zero and one, to control age distribution\n",
    "\n",
    "\n",
    "\n",
    "\n",
    "\n",
    "\n",
    "#ageFn1 = fn.misc.max(0., 1. - fn.math.abs(xFn/MAXX))\n",
    "\n",
    "#ageFn  = fn.branching.conditional([(coordinate[0] <= 0, ageFn1),\n",
    " #                                 (True, ageFn1/op_age_fac)])\n",
    "    \n",
    "    \n",
    "\n",
    "\n",
    "#ageFn = age_fn(xFn, sz = -0.5, lMOR=-2., rMOR=2.)\n",
    "ageFn = age_fn(xFn, sz =subzone, lMOR=lRidge,rMOR=rRidge, conjugate_plate=True, opFac = op_age_fac)\n",
    "\n",
    "#dimensionlize the age function\n",
    "ageFn *= slabmaxAge*(3600*24*365)\n",
    "#ageFn = fn.misc.min(ageFn, platemaxAge*(3600*24*365)) #apply plate model\n",
    "\n",
    "w0 = (2.*math.sqrt(dp.k*ageAtTrenchSeconds))/dp.LS #diffusion depth of plate at the trench\n",
    "\n",
    "tempBL = (ndp.TP - ndp.TS) *fn.math.erf((depthFn*dp.LS)/(2.*fn.math.sqrt(dp.k*ageFn))) + ndp.TSP #boundary layer function\n",
    "\n",
    "tempTBL =  fn.branching.conditional([(depthFn < w0, tempBL),\n",
    "                          (True, ndp.TPP)])\n",
    "\n",
    "if not symmetricIC:\n",
    "    if not checkpointLoad:\n",
    "        out = uw.utils.MeshVariable_Projection( temperatureField, tempTBL) #apply function with projection\n",
    "        out.solve()\n",
    "\n",
    "\n",
    "\n"
   ]
  },
  {
   "cell_type": "code",
   "execution_count": 248,
   "metadata": {
    "collapsed": false
   },
   "outputs": [],
   "source": [
    "#Now build the perturbation part\n",
    "def inCircleFnGenerator(centre, radius):\n",
    "    coord = fn.input()\n",
    "    offsetFn = coord - centre\n",
    "    return fn.math.dot( offsetFn, offsetFn ) < radius**2\n",
    "\n",
    "\n",
    "\n",
    "#Setup slab perturbation params (mostly dimensionlesl / model params here)\n",
    "phi = 90. - theta\n",
    "RocM = (Roc/dp.LS)\n",
    "CrustM = MANTLETOCRUST\n",
    "Org = (subzone, MAXY-RocM)\n",
    "maxDepth = 250e3/dp.LS\n",
    "\n",
    "#We use three circles to define our slab and crust perturbation,  \n",
    "Oc = inCircleFnGenerator(Org , RocM)\n",
    "Ic = inCircleFnGenerator(Org , RocM - w0)\n",
    "Cc = inCircleFnGenerator(Org , RocM - (1.2*CrustM)) #... weak zone on 'outside' of slab\n",
    "Hc = inCircleFnGenerator(Org , RocM - HARZBURGDEPTH) #... Harzburgite layer \n",
    "dx = (RocM)/(np.math.tan((np.math.pi/180.)*phi))\n",
    "\n",
    "#We'll also create a triangle which will truncate the circles defining the slab...\n",
    "if sense == 'Left':\n",
    "    ptx = subzone - dx\n",
    "else:\n",
    "    ptx = subzone + dx\n",
    "coords = ((0.+subzone, MAXY), (0.+subzone, MAXY-RocM), (ptx, MAXY))\n",
    "Tri = fn.shape.Polygon(np.array(coords))\n",
    "\n",
    "#Actually apply the perturbation - could probably avoid particle walk here\n",
    "if not symmetricIC:\n",
    "    if not checkpointLoad:\n",
    "        sdFn = ((RocM - fn.math.sqrt((coordinate[0] - Org[0])**2. + (coordinate[1] - Org[1])**2.)))\n",
    "        slabFn = ndp.TPP*fn.math.erf((sdFn*dp.LS)/(2.*math.sqrt(dp.k*ageAtTrenchSeconds))) + ndp.TSP\n",
    "        for index, coord in enumerate(mesh.data):\n",
    "            if (\n",
    "                Oc.evaluate(tuple(coord)) and\n",
    "                Tri.evaluate(tuple(coord)) and not\n",
    "                Ic.evaluate(tuple(coord)) and\n",
    "                coord[1] > (MAXY - maxDepth)\n",
    "                ): #In the quarter-circle defining the lithosphere\n",
    "                temperatureField.data[index] = slabFn.evaluate(mesh)[index]\n"
   ]
  },
  {
   "cell_type": "code",
   "execution_count": 249,
   "metadata": {
    "collapsed": false
   },
   "outputs": [
    {
     "data": {
      "text/plain": [
       "(<underworld.function._function.multiply at 0x7f82f74adc10>,\n",
       " <underworld.function._function.add at 0x7f82f74b7b90>)"
      ]
     },
     "execution_count": 249,
     "metadata": {},
     "output_type": "execute_result"
    }
   ],
   "source": [
    "sdFn = ((RocM - fn.math.sqrt((coordinate[0] - Org[0])**2. + (coordinate[1] - Org[1])**2.)))\n",
    "slabFn = ndp.TPP*fn.math.erf((sdFn*dp.LS)/(2.*math.sqrt(dp.k*ageAtTrenchSeconds))) + ndp.TSP\n",
    "sdFn, slabFn"
   ]
  },
  {
   "cell_type": "code",
   "execution_count": 250,
   "metadata": {
    "collapsed": false
   },
   "outputs": [],
   "source": [
    "#Make sure material in sticky air region is at the surface temperature.\n",
    "for index, coord in enumerate(mesh.data):\n",
    "            if coord[1] >= MAXY:\n",
    "                temperatureField.data[index] = ndp.TSP"
   ]
  },
  {
   "cell_type": "code",
   "execution_count": 251,
   "metadata": {
    "collapsed": false
   },
   "outputs": [
    {
     "data": {
      "text/plain": [
       "(0.14925373134328357, 0.06716417910447761)"
      ]
     },
     "execution_count": 251,
     "metadata": {},
     "output_type": "execute_result"
    }
   ],
   "source": [
    "#fn.math.erf((sdFn*dp.LS)/(2.*fn.math.sqrt(dp.k*(slabmaxAge*(3600*24*365))))) \n",
    "CRUSTVISCUTOFF, MANTLETOCRUST*3"
   ]
  },
  {
   "cell_type": "markdown",
   "metadata": {
    "collapsed": false
   },
   "source": [
    "def matplot_field(temperatureField, dp):\n",
    "    if uw.nProcs() != 1:\n",
    "        print(\"only in Serial folks\")\n",
    "    else:\n",
    "        import matplotlib.pyplot as pyplt\n",
    "        try :\n",
    "            if(__IPYTHON__) :\n",
    "                get_ipython().magic(u'matplotlib inline')\n",
    "        except NameError :\n",
    "            pass\n",
    "        field_data = temperatureField.data.reshape(mesh.elementRes[1] + 1, mesh.elementRes[0] + 1)\n",
    "        fig, ax = pyplt.subplots(figsize=(32,2))\n",
    "        ql = dp.LS/1e3\n",
    "        pyplt.ioff()\n",
    "        cax =ax.imshow(np.flipud(field_data), cmap='coolwarm', aspect = 0.5, extent=[0,ql*aspectRatio,ql, 0])\n",
    "        fig.colorbar(cax, orientation='horizontal' )\n",
    "        #ax.set_x([0,dp.LS*aspectRatio])\n",
    "        pyplt.tight_layout()\n",
    "        \n",
    "        return fig, ax\n",
    "        \n",
    "fig, ax = matplot_field(temperatureField, dp)\n",
    "fig.savefig('test.png')       "
   ]
  },
  {
   "cell_type": "code",
   "execution_count": 252,
   "metadata": {
    "collapsed": false
   },
   "outputs": [
    {
     "data": {
      "text/plain": [
       "(0.0, 1.0)"
      ]
     },
     "execution_count": 252,
     "metadata": {},
     "output_type": "execute_result"
    }
   ],
   "source": [
    "temperatureField.data.min(), temperatureField.data.max()"
   ]
  },
  {
   "cell_type": "code",
   "execution_count": null,
   "metadata": {
    "collapsed": false
   },
   "outputs": [],
   "source": [
    "\n"
   ]
  },
  {
   "cell_type": "code",
   "execution_count": 253,
   "metadata": {
    "collapsed": false
   },
   "outputs": [],
   "source": [
    "\n",
    "#ageFn = age_fn(xFn)"
   ]
  },
  {
   "cell_type": "code",
   "execution_count": 254,
   "metadata": {
    "collapsed": false
   },
   "outputs": [],
   "source": [
    "fig= glucifer.Figure(quality=3)\n",
    "\n",
    "fig.append( glucifer.objects.Surface(mesh,temperatureField ))\n",
    "#fig.append( glucifer.objects.Mesh(mesh))\n",
    "#fig.show()\n",
    "\n",
    "##fig.save_database('test.gldb')\n",
    "#fig.save_image('test.png')\n"
   ]
  },
  {
   "cell_type": "markdown",
   "metadata": {},
   "source": [
    "Boundary conditions\n",
    "-------"
   ]
  },
  {
   "cell_type": "code",
   "execution_count": 255,
   "metadata": {
    "collapsed": false
   },
   "outputs": [
    {
     "name": "stdout",
     "output_type": "stream",
     "text": [
      "2\n"
     ]
    }
   ],
   "source": [
    "for index in mesh.specialSets[\"MinJ_VertexSet\"]:\n",
    "    temperatureField.data[index] = ndp.TBP\n",
    "for index in mesh.specialSets[\"MaxJ_VertexSet\"]:\n",
    "    temperatureField.data[index] = ndp.TSP\n",
    "    \n",
    "iWalls = mesh.specialSets[\"MinI_VertexSet\"] + mesh.specialSets[\"MaxI_VertexSet\"]\n",
    "jWalls = mesh.specialSets[\"MinJ_VertexSet\"] + mesh.specialSets[\"MaxJ_VertexSet\"]\n",
    "tWalls = mesh.specialSets[\"MaxJ_VertexSet\"]\n",
    "bWalls =mesh.specialSets[\"MinJ_VertexSet\"]\n",
    "\n",
    "VelBCs = mesh.specialSets[\"Empty\"]\n",
    "\n",
    "\n",
    "\n",
    "if VelBC:\n",
    "    for index in list(tWalls.data):\n",
    "\n",
    "        if (mesh.data[int(index)][0] < (subzone - 0.05*aspectRatio) and \n",
    "            mesh.data[int(index)][0] > (mesh.minCoord[0] + 0.05*aspectRatio)): #Only push with a portion of teh overiding plate\n",
    "            #print \"first\"\n",
    "            VelBCs.add(int(index))\n",
    "            #Set the plate velocities for the kinematic phase\n",
    "            velocityField.data[index] = [ndp.plate_vel, 0.]\n",
    "        \n",
    "        elif (mesh.data[int(index)][0] > (subzone + 0.05*aspectRatio) and \n",
    "            mesh.data[int(index)][0] < (mesh.maxCoord[0] - 0.05*aspectRatio)):\n",
    "            #print \"second\"\n",
    "            VelBCs.add(int(index))\n",
    "            #Set the plate velocities for the kinematic phase\n",
    "            velocityField.data[index] = [0., 0.]\n",
    "        \n",
    "\n",
    "#If periodic, we'll fix a the x-vel at a single node - at the bottom left (index 0)\n",
    "Fixed = mesh.specialSets[\"Empty\"]\n",
    "Fixed.add(int(0))        \n",
    "        \n",
    "\n",
    "if periodic[0] == False:\n",
    "    if VelBC:\n",
    "        print(1)\n",
    "        freeslipBC = uw.conditions.DirichletCondition( variable      = velocityField, \n",
    "                                               indexSetsPerDof = ( iWalls + VelBCs, jWalls) )\n",
    "    else:\n",
    "        print(2)\n",
    "        freeslipBC = uw.conditions.DirichletCondition( variable      = velocityField, \n",
    "                                               indexSetsPerDof = ( iWalls, jWalls) )\n",
    "\n",
    "\n",
    "\n",
    "\n",
    "\n",
    "\n",
    "if periodic[0] == True:\n",
    "    if VelBC:\n",
    "        print(3)\n",
    "        freeslipBC = uw.conditions.DirichletCondition( variable      = velocityField, \n",
    "                                               indexSetsPerDof = ( Fixed + VelBCs , jWalls) )\n",
    "    else:\n",
    "        print(4)\n",
    "        freeslipBC = uw.conditions.DirichletCondition( variable      = velocityField, \n",
    "                                               indexSetsPerDof = ( Fixed, jWalls) )\n",
    "        \n",
    "    \n",
    "    \n",
    "    \n",
    "# also set dirichlet for temp field\n",
    "dirichTempBC = uw.conditions.DirichletCondition(     variable=temperatureField, \n",
    "                                              indexSetsPerDof=(tWalls,) )\n",
    "dT_dy = [0.,0.]\n",
    "\n",
    "# also set dirichlet for temp field\n",
    "neumannTempBC = uw.conditions.NeumannCondition( dT_dy, variable=temperatureField, \n",
    "                                         nodeIndexSet=bWalls)\n",
    "\n"
   ]
  },
  {
   "cell_type": "code",
   "execution_count": null,
   "metadata": {
    "collapsed": false
   },
   "outputs": [],
   "source": []
  },
  {
   "cell_type": "code",
   "execution_count": 256,
   "metadata": {
    "collapsed": false
   },
   "outputs": [],
   "source": [
    "#check VelBCs are where we want them\n",
    "#test = np.zeros(len(tWalls.data))\n",
    "#VelBCs\n",
    "#tWalls.data\n",
    "#tWalls.data[VelBCs.data]\n",
    "#test[np.in1d(tWalls.data, VelBCs.data)] = 1.\n",
    "#test\n",
    "\n"
   ]
  },
  {
   "cell_type": "code",
   "execution_count": null,
   "metadata": {
    "collapsed": false
   },
   "outputs": [],
   "source": []
  },
  {
   "cell_type": "markdown",
   "metadata": {},
   "source": [
    "Swarm setup\n",
    "-----\n"
   ]
  },
  {
   "cell_type": "code",
   "execution_count": 257,
   "metadata": {
    "collapsed": false
   },
   "outputs": [],
   "source": [
    "###########\n",
    "#Material Swarm and variables\n",
    "###########\n",
    "\n",
    "#create material swarm\n",
    "gSwarm = uw.swarm.Swarm(mesh=mesh, particleEscape=True)\n",
    "\n",
    "#create swarm variables\n",
    "yieldingCheck = gSwarm.add_variable( dataType=\"int\", count=1 )\n",
    "#tracerVariable = gSwarm.add_variable( dataType=\"int\", count=1)\n",
    "materialVariable = gSwarm.add_variable( dataType=\"int\", count=1 )\n",
    "ageVariable = gSwarm.add_variable( dataType=\"double\", count=1 )\n",
    "#testVariable = gSwarm.add_variable( dataType=\"float\", count=1 )\n",
    "\n",
    "\n",
    "#these lists  are part of the checkpointing implementation\n",
    "varlist = [materialVariable, yieldingCheck, ageVariable]\n",
    "varnames = ['materialVariable', 'yieldingCheck', 'ageVariable']"
   ]
  },
  {
   "cell_type": "code",
   "execution_count": 258,
   "metadata": {
    "collapsed": false
   },
   "outputs": [],
   "source": [
    "mantleIndex = 0\n",
    "crustIndex = 1\n",
    "harzIndex = 2\n",
    "airIndex = 3\n",
    "\n",
    "\n",
    "\n",
    "if checkpointLoad:\n",
    "    checkpointLoadDir = natsort.natsort(checkdirs)[-1]\n",
    "    temperatureField.load(os.path.join(checkpointLoadDir, \"temperatureField\" + \".hdf5\"))\n",
    "    pressureField.load(os.path.join(checkpointLoadDir, \"pressureField\" + \".hdf5\"))\n",
    "    velocityField.load(os.path.join(checkpointLoadDir, \"velocityField\" + \".hdf5\"))\n",
    "    gSwarm.load(os.path.join(checkpointLoadDir, \"swarm\" + \".h5\"))\n",
    "    for ix in range(len(varlist)):\n",
    "        varb = varlist[ix]\n",
    "        varb.load(os.path.join(checkpointLoadDir,varnames[ix] + \".h5\"))\n",
    "\n",
    "else:\n",
    "\n",
    "    # Layouts are used to populate the swarm across the whole domain\n",
    "    layout = uw.swarm.layouts.PerCellRandomLayout(swarm=gSwarm, particlesPerCell=ppc)\n",
    "    gSwarm.populate_using_layout( layout=layout ) # Now use it to populate.\n",
    "    # Swarm variables\n",
    "    materialVariable.data[:] = mantleIndex\n",
    "    #tracerVariable.data[:] = 1\n",
    "    yieldingCheck.data[:] = 0\n",
    "    ageVariable.data[:] = -1\n",
    "\n",
    "    #Set initial air and crust materials (allow the graph to take care of lithsophere)\n",
    "    #########\n",
    "    #This initial material setup will be model dependent\n",
    "    #########\n",
    "    for particleID in range(gSwarm.particleCoordinates.data.shape[0]):\n",
    "        if (1. - gSwarm.particleCoordinates.data[particleID][1]) < MANTLETOCRUST:\n",
    "                 materialVariable.data[particleID] = crustIndex"
   ]
  },
  {
   "cell_type": "markdown",
   "metadata": {
    "collapsed": false
   },
   "source": [
    "###########\n",
    "#This block sets up a checkboard layout of passive tracers\n",
    "###########\n",
    "\n",
    "square_size = 0.1\n",
    "xlist = np.arange(mesh.minCoord[0] + square_size/2., mesh.maxCoord[0] + square_size/2., square_size)\n",
    "xlist = zip(xlist[:], xlist[1:])[::2]\n",
    "ylist = np.arange(mesh.minCoord[1] + square_size/2., mesh.maxCoord[1] + square_size/2., square_size)\n",
    "ylist = zip(ylist[:], ylist[1:])[::2]\n",
    "xops = []\n",
    "for vals in xlist:\n",
    "    xops.append( (operator.and_(   operator.gt(coordinate[0],vals[0]),   operator.lt(coordinate[0],vals[1])  ),0.) )\n",
    "xops.append((True,1.))\n",
    "\n",
    "testfunc = fn.branching.conditional(xops) \n",
    "\n",
    "yops = []\n",
    "for vals in ylist:\n",
    "    yops.append( (operator.and_(   operator.gt(coordinate[1],vals[0]),   operator.lt(coordinate[1],vals[1])  ),0.) )\n",
    "yops.append((True,testfunc))\n",
    "\n",
    "testfunc2 = fn.branching.conditional(yops) \n",
    "tracerVariable.data[:] = testfunc.evaluate(gSwarm)\n",
    "tracerVariable.data[:] = testfunc2.evaluate(gSwarm)"
   ]
  },
  {
   "cell_type": "code",
   "execution_count": null,
   "metadata": {
    "collapsed": false
   },
   "outputs": [],
   "source": []
  },
  {
   "cell_type": "code",
   "execution_count": 259,
   "metadata": {
    "collapsed": false
   },
   "outputs": [],
   "source": [
    "##############\n",
    "#Set the initial particle age for particles above the critical depth; \n",
    "#only material older than crustageCond will be transformed to crust / harzburgite\n",
    "##############\n",
    "\n",
    "ageVariable.data[:] = 0. #start with all zero\n",
    "ageVariable.data[:] = ageFn.evaluate(gSwarm)/sf.SR\n",
    "crustageCond = 2e6*(3600.*365.*24.)/sf.SR #set inital age above critical depth. (x...Ma)\n",
    "\n",
    "\n",
    "\n",
    "ageConditions = [ (depthFn < AGETRACKDEPTH, ageVariable),  #In the main loop we add ageVariable + dt here\n",
    "                  (True, 0.) ]\n",
    "                 \n",
    "#apply conditional \n",
    "ageVariable.data[:] = fn.branching.conditional( ageConditions ).evaluate(gSwarm)\n",
    "\n",
    "ageDT = 0.#this is used in the main loop for short term time increments"
   ]
  },
  {
   "cell_type": "code",
   "execution_count": 260,
   "metadata": {
    "collapsed": false
   },
   "outputs": [],
   "source": [
    "#fig= glucifer.Figure()\n",
    "#fig.append( glucifer.objects.Points(gSwarm,ageVariable))\n",
    "#fig.append( glucifer.objects.Points(gSwarm, viscosityMapFn, logScale=True, valueRange =[1e-3,1e5]))\n",
    "\n",
    "\n",
    "#fig.show()"
   ]
  },
  {
   "cell_type": "code",
   "execution_count": 269,
   "metadata": {
    "collapsed": false
   },
   "outputs": [],
   "source": [
    "##############\n",
    "#Here we set up a directed graph object that we we use to control the transformation from one material type to another\n",
    "##############\n",
    "\n",
    "#All depth conditions are given as (km/D) where D is the length scale,\n",
    "#note that 'model depths' are used, e.g. 1-z, where z is the vertical Underworld coordinate\n",
    "#All temp conditions are in dimensionless temp. [0. - 1.]\n",
    "\n",
    "#Need a list of all material indexes (safer in parallel)\n",
    "material_list = [0,1,2,3]\n",
    "\n",
    "if not checkpointLoad:\n",
    "    materialVariable.data[:] = 0 #Initialize to zero \n",
    "\n",
    "#Setup the graph object\n",
    "DG = material_graph.MatGraph()\n",
    "\n",
    "#Important: First thing to do is to add all the material types to the graph (i.e add nodes)\n",
    "DG.add_nodes_from(material_list)\n",
    "\n",
    "#Now set the conditions for transformations\n",
    "\n",
    "hs = 2e3/dp.LS  #add some hysteresis to the depths of transition\n",
    "\n",
    "#... to mantle\n",
    "DG.add_transition((crustIndex,mantleIndex), depthFn, operator.gt, CRUSTTOMANTLE + hs)\n",
    "DG.add_transition((harzIndex,mantleIndex), depthFn, operator.gt, CRUSTTOMANTLE + hs)\n",
    "DG.add_transition((airIndex,mantleIndex), depthFn, operator.gt, TOPOHEIGHT + hs)\n",
    "\n",
    "#... to crust\n",
    "DG.add_transition((mantleIndex,crustIndex), depthFn, operator.lt, MANTLETOCRUST)\n",
    "DG.add_transition((mantleIndex,crustIndex), xFn, operator.lt, subzone + 4.*MANTLETOCRUST) #No crust on the upper plate\n",
    "DG.add_transition((mantleIndex,crustIndex), ageVariable, operator.gt, crustageCond)\n",
    "\n",
    "\n",
    "DG.add_transition((harzIndex,crustIndex), depthFn, operator.lt, MANTLETOCRUST)\n",
    "DG.add_transition((harzIndex,crustIndex), xFn, operator.lt, subzone + 4.*MANTLETOCRUST) #This one sets no crust on the upper plate\n",
    "DG.add_transition((harzIndex,crustIndex), ageVariable, operator.gt, crustageCond)\n",
    "\n",
    "#... to Harzbugite\n",
    "DG.add_transition((mantleIndex,harzIndex), depthFn, operator.lt, HARZBURGDEPTH)\n",
    "DG.add_transition((mantleIndex,harzIndex), depthFn, operator.gt, MANTLETOCRUST)\n",
    "DG.add_transition((mantleIndex,harzIndex), ageVariable, operator.gt, crustageCond) #Note we can mix functions and swarm variabls\n",
    "\n",
    "\n",
    "\n",
    "#... to air\n",
    "DG.add_transition((mantleIndex,airIndex), depthFn, operator.lt,0.)\n",
    "DG.add_transition((crustIndex,airIndex), depthFn, operator.lt, 0. )\n",
    "DG.add_transition((harzIndex,airIndex), depthFn, operator.lt, 0. )\n"
   ]
  },
  {
   "cell_type": "code",
   "execution_count": 270,
   "metadata": {
    "collapsed": false
   },
   "outputs": [
    {
     "data": {
      "text/plain": [
       "(1.1940298507462686, 0.06373134328358208, 0.15671641791044774)"
      ]
     },
     "execution_count": 270,
     "metadata": {},
     "output_type": "execute_result"
    }
   ],
   "source": [
    "CRUSTTOMANTLE, HARZBURGDEPTH, 0. + 7.*MANTLETOCRUST"
   ]
  },
  {
   "cell_type": "code",
   "execution_count": 271,
   "metadata": {
    "collapsed": false
   },
   "outputs": [],
   "source": [
    "#gSwarm.particleCoordinates.data[particleID][1]"
   ]
  },
  {
   "cell_type": "code",
   "execution_count": 272,
   "metadata": {
    "collapsed": false
   },
   "outputs": [],
   "source": [
    "##############\n",
    "#For the slab_IC, we'll also add a crustal weak zone following the dipping perturbation\n",
    "##############\n",
    "\n",
    "if checkpointLoad != True:\n",
    "    if not symmetricIC:\n",
    "        for particleID in range(gSwarm.particleCoordinates.data.shape[0]):\n",
    "            if gSwarm.particleCoordinates.data[particleID][1] < 0.:\n",
    "                materialVariable.data[particleID] = airIndex\n",
    "                \n",
    "            elif (\n",
    "                Oc.evaluate(list(gSwarm.particleCoordinates.data[particleID])) and\n",
    "                Tri.evaluate(list(gSwarm.particleCoordinates.data[particleID])) and\n",
    "                gSwarm.particleCoordinates.data[particleID][1] > (MAXY - maxDepth) and\n",
    "                Cc.evaluate(list(gSwarm.particleCoordinates.data[particleID])) == False\n",
    "                \n",
    "                ):\n",
    "                materialVariable.data[particleID] = crustIndex\n",
    "                \n",
    "            elif (\n",
    "                Oc.evaluate(list(gSwarm.particleCoordinates.data[particleID])) and\n",
    "                Tri.evaluate(list(gSwarm.particleCoordinates.data[particleID])) and\n",
    "                gSwarm.particleCoordinates.data[particleID][1] > (MAXY - maxDepth) and\n",
    "                Hc.evaluate(list(gSwarm.particleCoordinates.data[particleID])) == False\n",
    "                \n",
    "                ):\n",
    "                materialVariable.data[particleID] = harzIndex"
   ]
  },
  {
   "cell_type": "code",
   "execution_count": 273,
   "metadata": {
    "collapsed": false
   },
   "outputs": [],
   "source": [
    "##############\n",
    "#This is how we use the material graph object to test / apply material transformations\n",
    "##############\n",
    "DG.build_condition_list(materialVariable)\n",
    "\n",
    "for i in range(2): #Need to go through a number of times\n",
    "    materialVariable.data[:] = fn.branching.conditional(DG.condition_list).evaluate(gSwarm)"
   ]
  },
  {
   "cell_type": "code",
   "execution_count": 274,
   "metadata": {
    "collapsed": false
   },
   "outputs": [],
   "source": [
    "#maxDepth"
   ]
  },
  {
   "cell_type": "code",
   "execution_count": 275,
   "metadata": {
    "collapsed": false
   },
   "outputs": [
    {
     "data": {
      "text/html": [
       "<img src='data:image/png;base64,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'>"
      ],
      "text/plain": [
       "<IPython.core.display.HTML object>"
      ]
     },
     "metadata": {},
     "output_type": "display_data"
    }
   ],
   "source": [
    "fig2= glucifer.Figure()\n",
    "fig2.append( glucifer.objects.Points(gSwarm,materialVariable))\n",
    "#fig2.append( glucifer.objects.Surface(mesh, depthFn))\n",
    "\n",
    "#fig2.show()\n",
    "#fig2.save_database('test.gldb')"
   ]
  },
  {
   "cell_type": "markdown",
   "metadata": {
    "collapsed": false
   },
   "source": [
    "## phase and compositional buoyancy\n",
    "\n",
    "This was designed for EBA models, needs a rethink for Boussinesq"
   ]
  },
  {
   "cell_type": "code",
   "execution_count": 276,
   "metadata": {
    "collapsed": false
   },
   "outputs": [],
   "source": [
    "##############\n",
    "#Set up phase buoyancy contributions\n",
    "#the phase function approach of Yuen and Christenson is implemented in the Slippy2 phase_function class \n",
    "##############\n",
    "\n",
    "\n",
    "#olivine\n",
    "olivinePhase = phase_function.component_phases(name = 'ol', \n",
    "                        depths=[410e3,660e3], #depths of phase transitions along adiabat\n",
    "                        temps = [1600., 1900.], #temperatures of phase transitions along adiabat\n",
    "                        widths = [20e3, 20e3], #width if transition\n",
    "                        claps=[2.e6, -2.5e6],  #Clapeyron slope of trnasition\n",
    "                        densities = [180., 400.]) #density change of phase transition\n",
    "\n",
    "olivinePhase.build_nd_dict(dp.LS, dp.rho, dp.g, dp.deltaT)\n",
    "\n",
    "\n",
    "rp = olivinePhase.nd_reduced_pressure(depthFn, \n",
    "                                   temperatureField,\n",
    "                                   olivinePhase.ndp['depths'][0],\n",
    "                                   olivinePhase.ndp['claps'][0],\n",
    "                                   olivinePhase.ndp['temps'][0])\n",
    "\n",
    "#ph_410 = olivinePhase.nd_phase(rp, test.ndp['widths'][0])\n",
    "#pf_sum = test.phase_function_sum(temperatureField, depthFn)\n",
    "\n",
    "olivine_phase_buoyancy = olivinePhase.buoyancy_sum(temperatureField, depthFn, dp.g, dp.LS, dp.k, dp.eta0)\n",
    "\n",
    "#garnet\n",
    "garnetPhase = phase_function.component_phases(name = 'grt', \n",
    "                        depths=[60e3,400e3, 720e3],\n",
    "                        temps = [1000., 1600., 1900.], \n",
    "                        widths = [20e3, 20e3, 20e3], \n",
    "                        claps=[0.e6, 1.e6, 1.e6], \n",
    "                        densities = [350., 150., 400.])\n",
    "\n",
    "garnetPhase.build_nd_dict(dp.LS, dp.rho, dp.g, dp.deltaT)\n",
    "\n",
    "\n",
    "rp = garnetPhase.nd_reduced_pressure(depthFn, \n",
    "                                   temperatureField,\n",
    "                                   garnetPhase.ndp['depths'][0],\n",
    "                                   garnetPhase.ndp['claps'][0],\n",
    "                                   garnetPhase.ndp['temps'][0])\n",
    "\n",
    "#ph_410 = olivinePhase.nd_phase(rp, test.ndp['widths'][0])\n",
    "#pf_sum = test.phase_function_sum(temperatureField, depthFn)\n",
    "\n",
    "garnet_phase_buoyancy = garnetPhase.buoyancy_sum(temperatureField, depthFn, dp.g, dp.LS, dp.k, dp.eta0)"
   ]
  },
  {
   "cell_type": "code",
   "execution_count": 277,
   "metadata": {
    "collapsed": false
   },
   "outputs": [],
   "source": [
    "##############\n",
    "#Set up compositional buoyancy contributions\n",
    "##############\n",
    "\n",
    "bouyancy_factor = (dp.g*dp.LS**3)/(dp.eta0*dp.k)\n",
    "\n",
    "basalt_comp_buoyancy  = (dp.rho - 2940.)*bouyancy_factor\n",
    "harz_comp_buoyancy = (dp.rho - 3235.)*bouyancy_factor\n",
    "pyrolite_comp_buoyancy = (dp.rho - 3300.)*bouyancy_factor\n",
    "\n",
    "#print(basalt_comp_buoyancy, harz_comp_buoyancy, pyrolite_comp_buoyancy)\n",
    "\n",
    "\n",
    "#this function accounts for the decrease in expansivity, and acts to reduce the rayleigh number with depth\n",
    "alphaRatio = 1.2/3\n",
    "taFn = 1. - (depthFn)*(1. - alphaRatio) \n",
    "\n",
    "\n",
    "if not compBuoyancy:\n",
    "    pyrolitebuoyancyFn =  (ndp.RA*temperatureField*taFn)\n",
    "    harzbuoyancyFn =      (ndp.RA*temperatureField*taFn) \n",
    "    basaltbuoyancyFn =    (ndp.RA*temperatureField*taFn)\n",
    "\n",
    "else : \n",
    "    pyrolitebuoyancyFn =  (ndp.RA*temperatureField*taFn) -\\\n",
    "                          (0.6*olivine_phase_buoyancy + 0.4*garnet_phase_buoyancy) +\\\n",
    "                           pyrolite_comp_buoyancy\n",
    "    harzbuoyancyFn =      (ndp.RA*temperatureField*taFn) -\\\n",
    "                          (0.8*olivine_phase_buoyancy + 0.2*garnet_phase_buoyancy) +\\\n",
    "                           harz_comp_buoyancy\n",
    "    basaltbuoyancyFn =    (ndp.RA*temperatureField*taFn) -\\\n",
    "                          (1.*garnet_phase_buoyancy) +\\\n",
    "                           basalt_comp_buoyancy"
   ]
  },
  {
   "cell_type": "markdown",
   "metadata": {},
   "source": [
    "Rheology\n",
    "-----\n",
    "\n"
   ]
  },
  {
   "cell_type": "code",
   "execution_count": 278,
   "metadata": {
    "collapsed": false
   },
   "outputs": [],
   "source": [
    "##############\n",
    "#Set up any functions required by the rheology\n",
    "##############\n",
    "strainRate_2ndInvariant = fn.tensor.second_invariant( \n",
    "                            fn.tensor.symmetric( \n",
    "                            velocityField.fn_gradient ))\n",
    "\n",
    "def safe_visc(func, viscmin=ndp.eta_min, viscmax=ndp.eta_max):\n",
    "    return fn.misc.max(viscmin, fn.misc.min(viscmax, func))"
   ]
  },
  {
   "cell_type": "code",
   "execution_count": 279,
   "metadata": {
    "collapsed": true
   },
   "outputs": [],
   "source": [
    "#strainRate_2ndInvariant = fn.misc.constant(ndp.SR) #dummy fucntion to check which mechanisms are at active are reference strain rate"
   ]
  },
  {
   "cell_type": "code",
   "execution_count": 280,
   "metadata": {
    "collapsed": false
   },
   "outputs": [
    {
     "data": {
      "text/plain": [
       "0.1"
      ]
     },
     "execution_count": 280,
     "metadata": {},
     "output_type": "execute_result"
    }
   ],
   "source": [
    "ndp.crust_cohesion_fac"
   ]
  },
  {
   "cell_type": "code",
   "execution_count": 281,
   "metadata": {
    "collapsed": false
   },
   "outputs": [],
   "source": [
    "############\n",
    "#Rheology: create UW2 functions for all viscous mechanisms\n",
    "#############\n",
    "\n",
    "omega = fn.misc.constant(1.) #this function can hold any arbitary viscosity modifications \n",
    "\n",
    "\n",
    "##Diffusion Creep\n",
    "\n",
    "diffusion = fn.misc.min(ndp.eta_max, fn.math.exp(-1*ndp.Edf + ndp.Edf / (temperatureField + 1e-8)))\n",
    "\n",
    "\n",
    "\n",
    "##Define the Plasticity\n",
    "ys =  ndp.cohesion + (depthFn*ndp.fcd)\n",
    "ysMax = 10e4*1e6*sf.stress\n",
    "ysf = fn.misc.min(ys, ysMax)\n",
    "yielding = ysf/(2.*(strainRate_2ndInvariant))\n",
    "\n",
    "##Crust rheology\n",
    "#crustys =  ndp.cohesion*ndp.crust_cohesion_fac + (depthFn*ndp.fcd*ndp.crust_fc_fac)\n",
    "crustys =  ndp.cohesion*ndp.crust_cohesion_fac + (ndp.crust_fc_fac*depthFn*ndp.fcd) #only weakened cohesion is discussed, not fc\n",
    "\n",
    "crustyielding = crustys/(2.*(strainRate_2ndInvariant)) #extra factor to account for underworld second invariant form\n",
    "\n",
    "\n"
   ]
  },
  {
   "cell_type": "code",
   "execution_count": 282,
   "metadata": {
    "collapsed": false
   },
   "outputs": [],
   "source": [
    "############\n",
    "#Rheology: combine viscous mechanisms in various ways \n",
    "#harmonic: harmonic average of all mechanims\n",
    "#min: minimum effective viscosity of the mechanims\n",
    "#mixed: takes the minimum of the harmonic and the plastic effective viscosity\n",
    "#############\n",
    "\n",
    "#linear rheology \n",
    "linearviscosityFn = safe_visc(diffusion)\n",
    "\n",
    "\n",
    "\n",
    "\n",
    "#combined rheology    \n",
    "\n",
    "\n",
    "finalviscosityFn  = fn.branching.conditional([(depthFn < LOWMANTLEDEPTH, safe_visc(fn.misc.min(diffusion, yielding))),\n",
    "                                  (True, safe_visc(safe_visc(diffusion*ndp.low_mantle_visc_fac)))])\n",
    "\n",
    "#crust rheology    \n",
    "finalcrustviscosityFn = safe_visc(fn.misc.min(ndp.eta_max_crust, \n",
    "                                              crustyielding)) #cohesion weakening factor also applies to eta_0\n",
    "\n"
   ]
  },
  {
   "cell_type": "code",
   "execution_count": 283,
   "metadata": {
    "collapsed": false
   },
   "outputs": [],
   "source": [
    "#.low_mantle_visc_fac"
   ]
  },
  {
   "cell_type": "code",
   "execution_count": 284,
   "metadata": {
    "collapsed": false,
    "scrolled": true
   },
   "outputs": [],
   "source": [
    "#fig= glucifer.Figure()\n",
    "#fig.append( glucifer.objects.Points(gSwarm,finalviscosityFn, logScale=True))\n",
    "#fig.append( glucifer.objects.Surface(mesh,finalviscosityFn, logScale=True))\n",
    "#fig.append( glucifer.objects.VectorArrows(mesh,velocityField, scaling=0.05))\n",
    "\n",
    "\n",
    "#fig.show()\n",
    "#fig.save_database('test.gldb')"
   ]
  },
  {
   "cell_type": "markdown",
   "metadata": {},
   "source": [
    "Stokes system setup\n",
    "-----\n"
   ]
  },
  {
   "cell_type": "code",
   "execution_count": 285,
   "metadata": {
    "collapsed": false
   },
   "outputs": [],
   "source": [
    "densityMapFn = fn.branching.map( fn_key = materialVariable,\n",
    "                         mapping = {airIndex:ndp.StRA,\n",
    "                                    crustIndex:basaltbuoyancyFn, \n",
    "                                    mantleIndex:pyrolitebuoyancyFn,\n",
    "                                    harzIndex:harzbuoyancyFn} )"
   ]
  },
  {
   "cell_type": "code",
   "execution_count": 286,
   "metadata": {
    "collapsed": true
   },
   "outputs": [],
   "source": [
    "\n",
    "# Define our vertical unit vector using a python tuple (this will be automatically converted to a function).\n",
    "gravity = ( 0.0, 1.0 )\n",
    "\n",
    "# Now create a buoyancy force vector using the density and the vertical unit vector. \n",
    "buoyancyFn = densityMapFn * gravity"
   ]
  },
  {
   "cell_type": "code",
   "execution_count": 287,
   "metadata": {
    "collapsed": true
   },
   "outputs": [],
   "source": [
    "stokesPIC = uw.systems.Stokes(velocityField=velocityField, \n",
    "                              pressureField=pressureField,\n",
    "                              conditions=[freeslipBC,],\n",
    "                              fn_viscosity=linearviscosityFn, \n",
    "                              fn_bodyforce=buoyancyFn )"
   ]
  },
  {
   "cell_type": "code",
   "execution_count": 288,
   "metadata": {
    "collapsed": true
   },
   "outputs": [],
   "source": [
    "solver = uw.systems.Solver(stokesPIC)\n",
    "if not checkpointLoad:\n",
    "    solver.solve() #A solve on the linear visocisty is unhelpful unless we're starting from scratch"
   ]
  },
  {
   "cell_type": "code",
   "execution_count": 289,
   "metadata": {
    "collapsed": false
   },
   "outputs": [],
   "source": [
    "\n",
    "\n",
    "viscosityMapFn1 = fn.branching.map( fn_key = materialVariable,\n",
    "                         mapping = {crustIndex:finalcrustviscosityFn,\n",
    "                                    mantleIndex:finalviscosityFn,\n",
    "                                    harzIndex:finalviscosityFn,\n",
    "                                    airIndex:ndp.Steta0} )\n",
    "\n",
    "if stickyAir:\n",
    "    viscosityMapFn2 = fn.branching.map( fn_key = materialVariable,\n",
    "                         mapping = {crustIndex:0.,\n",
    "                                    mantleIndex:0.,\n",
    "                                    harzIndex:0.,\n",
    "                                    airIndex:ndp.Steta0*0.9} ) # -> \\eta_2 = 0.1 * \\eta_1\n",
    "\n"
   ]
  },
  {
   "cell_type": "code",
   "execution_count": 290,
   "metadata": {
    "collapsed": true
   },
   "outputs": [],
   "source": [
    "# director orientation in Sticky air\n",
    "if stickyAir:\n",
    "    directorVector   = gSwarm.add_variable( dataType=\"double\", count=2)\n",
    "\n",
    "    orientation = -1.*180. * math.pi / 180.0  #vertical\n",
    "    directorVector.data[:,0] = math.cos(orientation)\n",
    "    directorVector.data[:,1] = math.sin(orientation)\n",
    "    math.cos(orientation)"
   ]
  },
  {
   "cell_type": "code",
   "execution_count": 291,
   "metadata": {
    "collapsed": false
   },
   "outputs": [],
   "source": [
    "#orientation = -1.*90. * math.pi / 180.0  #vertical\n",
    "#math.cos(orientation), math.sin(orientation)"
   ]
  },
  {
   "cell_type": "code",
   "execution_count": 292,
   "metadata": {
    "collapsed": false
   },
   "outputs": [],
   "source": [
    "#stickyAir"
   ]
  },
  {
   "cell_type": "code",
   "execution_count": 293,
   "metadata": {
    "collapsed": false
   },
   "outputs": [],
   "source": [
    "#Add the non-linear viscosity to the Stokes system\n",
    "stokesPIC.fn_viscosity = viscosityMapFn1\n",
    "\n",
    "if stickyAir: #If sticky air, add the Transverse anisotropic components to Stokes\n",
    "    stokesPIC.fn_viscosity2 = viscosityMapFn2\n",
    "    stokesPIC._fn_director   = directorVector\n"
   ]
  },
  {
   "cell_type": "code",
   "execution_count": 294,
   "metadata": {
    "collapsed": false
   },
   "outputs": [
    {
     "name": "stdout",
     "output_type": "stream",
     "text": [
      "\u001b[1;35m\n",
      " \n",
      "Pressure iterations:   3\n",
      "Velocity iterations:   1 (presolve)      \n",
      "Velocity iterations:  -1 (pressure solve)\n",
      "Velocity iterations:   1 (backsolve)     \n",
      "Velocity iterations:   1 (total solve)   \n",
      " \n",
      "SCR RHS  solve time: 3.5028e-01\n",
      "Pressure solve time: 3.0442e-02\n",
      "Velocity solve time: 3.5364e-01 (backsolve)\n",
      "Total solve time   : 7.8790e-01\n",
      " \n",
      "Velocity solution min/max: 0.0000e+00/0.0000e+00\n",
      "Pressure solution min/max: 0.0000e+00/0.0000e+00\n",
      " \n",
      "\u001b[00m\n"
     ]
    }
   ],
   "source": [
    "solver.set_inner_method(\"mumps\")\n",
    "solver.options.scr.ksp_type=\"cg\"\n",
    "solver.set_penalty(1.0e7)\n",
    "solver.options.scr.ksp_rtol = 1.0e-4\n",
    "solver.solve(nonLinearIterate=True)\n",
    "solver.print_stats()"
   ]
  },
  {
   "cell_type": "code",
   "execution_count": 295,
   "metadata": {
    "collapsed": false
   },
   "outputs": [],
   "source": [
    "#fig= glucifer.Figure()\n",
    "#fig.append( glucifer.objects.Points(gSwarm,finalviscosityFn, logScale=True))\n",
    "#fig.append( glucifer.objects.Surface(mesh,temperatureField))\n",
    "#fig.append( glucifer.objects.VectorArrows(mesh,velocityField, scaling=0.05))\n",
    "\n",
    "\n",
    "#fig.show()\n",
    "#fig.save_database('test.gldb')"
   ]
  },
  {
   "cell_type": "code",
   "execution_count": null,
   "metadata": {
    "collapsed": false
   },
   "outputs": [],
   "source": [
    "#Check which particles are yielding\n",
    "#yieldingCheck.data[:] = 0\n",
    "\n",
    "#yieldconditions = [ ( finalviscosityFn < Visc , 1), \n",
    "#               ( True                                           , 0) ]\n",
    "\n",
    "# use the branching conditional function to set each particle's index\n",
    "#yieldingCheck.data[:] = fn.branching.conditional( yieldconditions ).evaluate(gSwarm)"
   ]
  },
  {
   "cell_type": "code",
   "execution_count": null,
   "metadata": {
    "collapsed": false,
    "scrolled": true
   },
   "outputs": [],
   "source": [
    "#fig= glucifer.Figure()\n",
    "#fig.append( glucifer.objects.Points(gSwarm,yieldingCheck))\n",
    "\n",
    "#fig.append( glucifer.objects.Surface(mesh,ndflm, logScale=True))\n",
    "#fig.show()"
   ]
  },
  {
   "cell_type": "markdown",
   "metadata": {},
   "source": [
    "Advection-diffusion System setup\n",
    "-----"
   ]
  },
  {
   "cell_type": "code",
   "execution_count": null,
   "metadata": {
    "collapsed": false
   },
   "outputs": [],
   "source": [
    "advDiff = uw.systems.AdvectionDiffusion( phiField       = temperatureField, \n",
    "                                         phiDotField    = temperatureDotField, \n",
    "                                         velocityField  = velocityField,\n",
    "                                         fn_sourceTerm    = 0.0,\n",
    "                                         fn_diffusivity = 1.0, \n",
    "                                         #conditions     = [neumannTempBC, dirichTempBC] )\n",
    "                                         conditions     = [ dirichTempBC] )\n",
    "\n",
    "passiveadvector = uw.systems.SwarmAdvector( swarm         = gSwarm, \n",
    "                                     velocityField = velocityField, \n",
    "                                     order         = 1)"
   ]
  },
  {
   "cell_type": "code",
   "execution_count": null,
   "metadata": {
    "collapsed": false
   },
   "outputs": [],
   "source": [
    "#I was playing around with a tailored diffusivity to target the slab\n",
    "\n",
    "#inCircleFnGenerator#Now build the perturbation part\n",
    "#def htan(centre, radius, widthPh, farVal = 0.01, fac = 10.):\n",
    "#    coord = fn.input()\n",
    "#    offsetFn = coord - centre\n",
    "#    dist = fn.math.sqrt(fn.math.dot( offsetFn, offsetFn ))\n",
    "    \n",
    "    \n",
    "#    return (((fn.math.tanh(((radius - dist))/widthPh) + 1.) /2.))*fac + farVal\n",
    "\n",
    "#tfun = htan((0.1, 0.9), 0.1, 0.1, 0.1)"
   ]
  },
  {
   "cell_type": "code",
   "execution_count": null,
   "metadata": {
    "collapsed": true
   },
   "outputs": [],
   "source": [
    "for index in mesh.specialSets[\"MinJ_VertexSet\"]:\n",
    "    temperatureField.data[index] = ndp.TBP\n",
    "for index in mesh.specialSets[\"MaxJ_VertexSet\"]:\n",
    "    temperatureField.data[index] = ndp.TSP"
   ]
  },
  {
   "cell_type": "code",
   "execution_count": null,
   "metadata": {
    "collapsed": false
   },
   "outputs": [],
   "source": [
    "velocityField.data.max()"
   ]
  },
  {
   "cell_type": "code",
   "execution_count": null,
   "metadata": {
    "collapsed": false
   },
   "outputs": [],
   "source": [
    "############\n",
    "#Slightly Diffuse the initial perturbation\n",
    "#############\n",
    "\n",
    "timetoDifffuse = 0.#Million years\n",
    "incrementtoDiffuse = 0.2 #Million years\n",
    "\n",
    "timetoDifffuse = (timetoDifffuse*1e6*(spery)/sf.SR).magnitude\n",
    "incrementtoDiffuse = (incrementtoDiffuse*1e6*(spery)/sf.SR).magnitude\n",
    "\n",
    "totAdt = 0.\n",
    "it = 0\n",
    "while totAdt < timetoDifffuse:\n",
    "    dtad = advDiff.get_max_dt()\n",
    "    print(\"step\") + str(it) \n",
    "    advDiff.integrate(incrementtoDiffuse)\n",
    "    totAdt += incrementtoDiffuse\n",
    "    it += 1\n",
    "    \n",
    "#Reset Boundary conds.   \n",
    "for index in mesh.specialSets[\"MinJ_VertexSet\"]:\n",
    "    temperatureField.data[index] = ndp.TBP\n",
    "for index in mesh.specialSets[\"MaxJ_VertexSet\"]:\n",
    "    temperatureField.data[index] = ndp.TSP\n",
    "    \n",
    "comm.Barrier()"
   ]
  },
  {
   "cell_type": "code",
   "execution_count": null,
   "metadata": {
    "collapsed": true
   },
   "outputs": [],
   "source": [
    "population_control = uw.swarm.PopulationControl(gSwarm,deleteThreshold=0.2,splitThreshold=1.,maxDeletions=3,maxSplits=0, aggressive=True, particlesPerCell=ppc)"
   ]
  },
  {
   "cell_type": "markdown",
   "metadata": {},
   "source": [
    "Analysis functions / routines\n",
    "-----"
   ]
  },
  {
   "cell_type": "code",
   "execution_count": null,
   "metadata": {
    "collapsed": true
   },
   "outputs": [],
   "source": [
    "#These are functions we can use to evuate integrals over restricted parts of the domain\n",
    "# For instance, we can exclude the thermal lithosphere from integrals\n",
    "\n",
    "def temprestrictionFn(lithval = 0.9):\n",
    "\n",
    "    tempMM = fn.view.min_max(temperatureField)\n",
    "    tempMM.evaluate(mesh)\n",
    "    TMAX = tempMM.max_global()\n",
    "    mantleconditions = [ (                                  temperatureField > lithval*TMAX, 1.),\n",
    "                   (                                                   True , 0.) ]\n",
    "\n",
    "\n",
    "    return fn.branching.conditional(mantleconditions)\n",
    "\n",
    "mantlerestrictFn = temprestrictionFn(lithval = 0.85)\n",
    "\n",
    "\n",
    "\n",
    "def platenessFn(val = 0.1):\n",
    "    normgradV = fn.math.abs(velocityField.fn_gradient[0]/fn.math.sqrt(velocityField[0]*velocityField[0])) #[du*/dx]/sqrt(u*u)\n",
    "\n",
    "\n",
    "\n",
    "    srconditions = [ (                                  normgradV < val, 1.),\n",
    "                   (                                                   True , 0.) ]\n",
    "\n",
    "\n",
    "    return fn.branching.conditional(srconditions)\n",
    "\n",
    "srrestrictFn = platenessFn(val = 0.1)"
   ]
  },
  {
   "cell_type": "code",
   "execution_count": null,
   "metadata": {
    "collapsed": false
   },
   "outputs": [],
   "source": [
    "#Setup volume integrals \n",
    "\n",
    "tempint = uw.utils.Integral( temperatureField, mesh )\n",
    "areaint = uw.utils.Integral( 1.,               mesh )\n",
    "\n",
    "v2int   = uw.utils.Integral( fn.math.dot(velocityField,velocityField), mesh )\n",
    "\n",
    "dwint   = uw.utils.Integral( temperatureField*velocityField[1], mesh )\n",
    "\n",
    "sinner = fn.math.dot( strainRate_2ndInvariant, strainRate_2ndInvariant )\n",
    "vdint = uw.utils.Integral( (2.*viscosityMapFn1*sinner), mesh ) #Is it two or four here?\n",
    "\n",
    "mantleArea   = uw.utils.Integral( mantlerestrictFn, mesh )\n",
    "mantleTemp = uw.utils.Integral( temperatureField*mantlerestrictFn, mesh )\n",
    "mantleVisc = uw.utils.Integral( finalviscosityFn*mantlerestrictFn, mesh )\n",
    "mantleVd = uw.utils.Integral( (2.*viscosityMapFn1*sinner*mantlerestrictFn), mesh ) #these now work on MappingFunctions"
   ]
  },
  {
   "cell_type": "code",
   "execution_count": null,
   "metadata": {
    "collapsed": true
   },
   "outputs": [],
   "source": []
  },
  {
   "cell_type": "code",
   "execution_count": null,
   "metadata": {
    "collapsed": true
   },
   "outputs": [],
   "source": [
    "#Setup surface integrals\n",
    "\n",
    "rmsSurfInt = uw.utils.Integral( fn=velocityField[0]*velocityField[0], mesh=mesh, integrationType='Surface', \n",
    "                          surfaceIndexSet=mesh.specialSets[\"MaxJ_VertexSet\"])\n",
    "nuTop      = uw.utils.Integral( fn=temperatureField.fn_gradient[1],    mesh=mesh, integrationType='Surface', \n",
    "                          surfaceIndexSet=mesh.specialSets[\"MaxJ_VertexSet\"])\n",
    "nuBottom   = uw.utils.Integral( fn=temperatureField.fn_gradient[1],    mesh=mesh, integrationType='Surface', \n",
    "                          surfaceIndexSet=mesh.specialSets[\"MinJ_VertexSet\"])\n",
    "\n",
    "plateint  = uw.utils.Integral( fn=srrestrictFn, mesh=mesh, integrationType='Surface', #Integrate the plateness function\n",
    "                          surfaceIndexSet=mesh.specialSets[\"MaxJ_VertexSet\"]) \n",
    "\n",
    "surfint  = uw.utils.Integral( fn=1., mesh=mesh, integrationType='Surface',   #Surface length function (i.e. domain width)\n",
    "                          surfaceIndexSet=mesh.specialSets[\"MaxJ_VertexSet\"])"
   ]
  },
  {
   "cell_type": "code",
   "execution_count": null,
   "metadata": {
    "collapsed": true
   },
   "outputs": [],
   "source": [
    "#Define functions for the evaluation of integrals\n",
    "\n",
    "def basic_int(ourIntegral):           #This one just hands back the evaluated integral\n",
    "    return ourIntegral.evaluate()[0]\n",
    "\n",
    "def avg_temp():\n",
    "    return tempint.evaluate()[0]/areaint.evaluate()[0]\n",
    "\n",
    "def nusseltTB(temp_field, mesh):\n",
    "    return -nuTop.evaluate()[0], -nuBottom.evaluate()[0]\n",
    "\n",
    "def rms():\n",
    "    return math.sqrt(v2int.evaluate()[0]/areaint.evaluate()[0])\n",
    "\n",
    "def rms_surf():\n",
    "    return math.sqrt(rmsSurfInt.evaluate()[0])\n",
    "\n",
    "def max_vx_surf(velfield, mesh):\n",
    "    vuvelxfn = fn.view.min_max(velfield[0])\n",
    "    vuvelxfn.evaluate(mesh.specialSets[\"MaxJ_VertexSet\"])\n",
    "    return vuvelxfn.max_global()\n",
    "\n",
    "\n",
    "def visc_extr(viscfn):\n",
    "    vuviscfn = fn.view.min_max(viscfn)\n",
    "    vuviscfn.evaluate(mesh)\n",
    "    return vuviscfn.max_global(), vuviscfn.min_global()"
   ]
  },
  {
   "cell_type": "code",
   "execution_count": null,
   "metadata": {
    "collapsed": false
   },
   "outputs": [],
   "source": [
    "#v2sum_integral  = uw.utils.Integral( mesh=mesh, fn=fn.math.dot( velocityField, velocityField ) )\n",
    "#volume_integral = uw.utils.Integral( mesh=mesh, fn=1. )\n",
    "#Vrms = math.sqrt( v2sum_integral.evaluate()[0] )/volume_integral.evaluate()[0]\n",
    "\n",
    "\n",
    "\n",
    "#if(uw.rank()==0):\n",
    "#    print('Initial Vrms = {0:.3f}'.format(Vrms))\n",
    "\n",
    "# Check the Metrics\n",
    "\n",
    "#Avg_temp = avg_temp()\n",
    "Rms = rms()\n",
    "Rms_surf = rms_surf()\n",
    "Max_vx_surf = max_vx_surf(velocityField, mesh)\n",
    "Rms, Rms_surf, Max_vx_surf \n",
    "#Gravwork = basic_int(dwint)\n",
    "#Viscdis = basic_int(vdint)\n",
    "#nu1, nu0 = nusseltTB(temperatureField, mesh) # return top then bottom\n",
    "#etamax, etamin = visc_extr(finalviscosityFn)\n",
    "\n",
    "#Area_mantle = basic_int(mantleArea)\n",
    "#Viscmantle = basic_int(mantleVisc)\n",
    "#Tempmantle = basic_int(mantleTemp)\n",
    "#Viscdismantle = basic_int(mantleVd)"
   ]
  },
  {
   "cell_type": "markdown",
   "metadata": {},
   "source": [
    "Viz.\n",
    "-----"
   ]
  },
  {
   "cell_type": "code",
   "execution_count": null,
   "metadata": {
    "collapsed": false
   },
   "outputs": [],
   "source": [
    "#viscVariable = gSwarm.add_variable( dataType=\"float\", count=1 )\n",
    "#viscVariable.data[:] = viscosityMapFn1.evaluate(gSwarm)"
   ]
  },
  {
   "cell_type": "code",
   "execution_count": null,
   "metadata": {
    "collapsed": false
   },
   "outputs": [],
   "source": [
    "if figures == 'gldb':\n",
    "    #Pack some stuff into a database as well\n",
    "    figDb = glucifer.Figure()\n",
    "    #figDb.append( glucifer.objects.Mesh(mesh))\n",
    "    figDb.append( glucifer.objects.VectorArrows(mesh,velocityField, scaling=0.0005))\n",
    "    #figDb.append( glucifer.objects.Points(gSwarm,tracerVariable, colours= 'white black'))\n",
    "    figDb.append( glucifer.objects.Points(gSwarm,materialVariable))\n",
    "    #figDb.append( glucifer.objects.Points(gSwarm,viscMinVariable))\n",
    "    #figDb.append( glucifer.objects.Points(gSwarm,fnViscMin))\n",
    "    figDb.append( glucifer.objects.Points(gSwarm,viscosityMapFn1, logScale=True))\n",
    "    #figDb.append( glucifer.objects.Points(gSwarm, strainRate_2ndInvariant, logScale=True))\n",
    "    figDb.append( glucifer.objects.Points(gSwarm,temperatureField))\n",
    "\n",
    "elif figures == 'store':\n",
    "    fullpath = os.path.join(outputPath + \"gldbs/\")\n",
    "    store = glucifer.Store(fullpath + 'subduction')\n",
    "\n",
    "    figTemp = glucifer.Figure(store,figsize=(300*np.round(aspectRatio,2),300))\n",
    "    figTemp.append( glucifer.objects.Points(gSwarm,temperatureField))\n",
    "\n",
    "    figVisc= glucifer.Figure(store, figsize=(300*np.round(aspectRatio,2),300))\n",
    "    figVisc.append( glucifer.objects.Points(gSwarm,viscosityMapFn1, logScale=True, valueRange =[1e-3,1e5]))\n",
    "\n",
    "    #figMech= glucifer.Figure(store, figsize=(300*np.round(aspectRatio,2),300))\n",
    "    #figMech.append( glucifer.objects.Points(gSwarm,fnViscMin))"
   ]
  },
  {
   "cell_type": "code",
   "execution_count": null,
   "metadata": {
    "collapsed": false
   },
   "outputs": [],
   "source": [
    "##############\n",
    "#Create a numpy array at the surface to get surface information on (using parallel-friendly evaluate_global)\n",
    "##############\n",
    "\n",
    "surface_xs = np.linspace(mesh.minCoord[0], mesh.maxCoord[0], mesh.elementRes[0] + 1)\n",
    "surface_nodes = np.array(zip(surface_xs, np.ones(len(surface_xs)*mesh.maxCoord[1]))) #For evaluation surface velocity\n",
    "normgradV = velocityField.fn_gradient[0]/fn.math.sqrt(velocityField[0]*velocityField[0])\n",
    "\n",
    "tempMM = fn.view.min_max(temperatureField)\n",
    "dummy = tempMM.evaluate(mesh)\n",
    "\n"
   ]
  },
  {
   "cell_type": "markdown",
   "metadata": {},
   "source": [
    "**Miscellania**"
   ]
  },
  {
   "cell_type": "code",
   "execution_count": null,
   "metadata": {
    "collapsed": false
   },
   "outputs": [],
   "source": [
    "##############\n",
    "#These functions handle checkpointing\n",
    "##############\n",
    "\n",
    "\n",
    "def checkpoint1(step, checkpointPath,filename, filewrites):\n",
    "    path = checkpointPath + str(step) \n",
    "    os.mkdir(path)\n",
    "    ##Write and save the file, if not already a writing step\n",
    "    if not step % filewrites == 0:\n",
    "        filename.write((18*'%-15s ' + '\\n') % (realtime, Viscdis, float(nu0), float(nu1), Avg_temp,\n",
    "                                              Tempmantle,TMAX,\n",
    "                                              Rms,Rms_surf,Max_vx_surf,Gravwork, etamax, etamin, \n",
    "                                              Area_mantle, Viscmantle,  Viscdismantle,Plateness, subzone ))\n",
    "    filename.close()\n",
    "    shutil.copyfile(os.path.join(outputPath, outputFile), os.path.join(path, outputFile))\n",
    "\n",
    "\n",
    "def checkpoint2(step, checkpointPath, swarm, filename, varlist = [materialVariable], varnames = ['materialVariable']):\n",
    "    path = checkpointPath + str(step) \n",
    "    velfile = \"velocityField\" + \".hdf5\"\n",
    "    tempfile = \"temperatureField\" + \".hdf5\"\n",
    "    pressfile = \"pressureField\" + \".hdf5\"\n",
    "    velocityField.save(os.path.join(path, velfile))\n",
    "    temperatureField.save(os.path.join(path, tempfile))\n",
    "    pressureField.save(os.path.join(path, pressfile))\n",
    "    swarm.save(os.path.join(path, \"swarm.h5\") ) \n",
    "    for ix in range(len(varlist)):\n",
    "        varb = varlist[ix]\n",
    "        varb.save(os.path.join(path,varnames[ix] + \".h5\"))\n",
    "    "
   ]
  },
  {
   "cell_type": "code",
   "execution_count": null,
   "metadata": {
    "collapsed": true
   },
   "outputs": [],
   "source": [
    "##############\n",
    "#These functions handle checkpointing\n",
    "##############\n",
    "\n",
    "def getnearpos(array,value):\n",
    "    idx = (np.abs(array-value)).argmin()\n",
    "    return idx \n",
    "\n",
    "def plate_info(srfilename, minx, maxx,  searchdx, oldszloc = 0.0):\n",
    "    \"\"\"\n",
    "    Use the surface strain rate field to find the location of the subduction zone in 2d\n",
    "    \n",
    "    \"\"\"\n",
    "    if type(srfilename) == str: #read surface strain rate points from file\n",
    "        sr = np.load(srfilename)\n",
    "    else:\n",
    "        sr =  srfilename        #read surface strain rates directly from array\n",
    "    xs = np.linspace(minx,maxx,sr.shape[0] )\n",
    "    #infs at the ends of the SR data...replace with adjacent values\n",
    "    sr[0] = sr[1] \n",
    "    sr[-1] = sr[2]\n",
    "    #Normalize\n",
    "    srx = (sr- sr.mean()) /(sr.max() - sr.min())\n",
    "    #reduce the search domain, to near the previous PB location\n",
    "    lx, rx = getnearpos(xs, oldszloc - searchdx),  getnearpos(xs, oldszloc + searchdx)\n",
    "    red_xs, red_sr = xs[lx:rx], srx[lx:rx]\n",
    "    #return the minima\n",
    "    newszLoc = red_xs[np.argmin(red_sr)]\n",
    "    return newszLoc "
   ]
  },
  {
   "cell_type": "code",
   "execution_count": null,
   "metadata": {
    "collapsed": false
   },
   "outputs": [],
   "source": [
    "# initialise timer for computation\n",
    "start = time.clock()\n",
    "# setup summary output file (name above)\n",
    "if checkpointLoad:\n",
    "    if uw.rank() == 0:\n",
    "        shutil.copyfile(os.path.join(checkpointLoadDir, outputFile), outputPath+outputFile)\n",
    "    comm.Barrier()\n",
    "    f_o = open(os.path.join(outputPath, outputFile), 'a')\n",
    "    prevdata = np.genfromtxt(os.path.join(outputPath, outputFile), skip_header=0, skip_footer=0)\n",
    "    if len(prevdata.shape) == 1: #this is in case there is only one line in previous file\n",
    "        realtime = prevdata[0]\n",
    "    else:\n",
    "        realtime = prevdata[prevdata.shape[0]-1, 0]\n",
    "    step = int(checkpointLoadDir.split('/')[-1])\n",
    "    timevals = [0.]\n",
    "else:\n",
    "    f_o = open(outputPath+outputFile, 'w')\n",
    "    realtime = 0.\n",
    "    step = 0\n",
    "    timevals = [0.]"
   ]
  },
  {
   "cell_type": "markdown",
   "metadata": {},
   "source": [
    "Main simulation loop\n",
    "-----\n"
   ]
  },
  {
   "cell_type": "code",
   "execution_count": null,
   "metadata": {
    "collapsed": false
   },
   "outputs": [],
   "source": [
    "#while step < 6:\n",
    "while realtime < 1.:\n",
    "\n",
    "    # solve Stokes and advection systems\n",
    "    solver.solve(nonLinearIterate=True)\n",
    "    dt = advDiff.get_max_dt()\n",
    "    if step == 0:\n",
    "        dt = 0.\n",
    "    advDiff.integrate(dt)\n",
    "    passiveadvector.integrate(dt)\n",
    "    \n",
    "    # Increment\n",
    "    realtime += dt\n",
    "    step += 1\n",
    "    timevals.append(realtime)\n",
    "    ################\n",
    "    #Update temperature field in the air region\n",
    "    #Do this better...\n",
    "    ################\n",
    "    if (step % sticky_air_temp == 0):\n",
    "        for index, coord in enumerate(mesh.data):\n",
    "            if coord[1] >= 1.:\n",
    "                temperatureField.data[index] = ndp.TSP\n",
    "\n",
    "    # Calculate the Metrics, only on 1 of the processors:\n",
    "    ################\n",
    "    if (step % metric_output == 0):\n",
    "        ###############\n",
    "        #Swarm - based Metrics\n",
    "        ###############\n",
    "        # Calculate the RMS velocity and Nusselt number.\n",
    "        # Calculate the Metrics, only on 1 of the processors:\n",
    "        mantlerestrictFn = temprestrictionFn() #rebuild the mantle restriction function (but these should be dynamic?)\n",
    "        srrestrictFn = platenessFn(val = 0.1) #rebuild the plateness restriction function\n",
    "        dummy = tempMM.evaluate(mesh) #Re-evaluate any fn.view.min_max guys\n",
    "        #Rebuild these integrals (a test because metrics changes after a restart)\n",
    "        mantleArea   = uw.utils.Integral( mantlerestrictFn, mesh )\n",
    "        mantleTemp = uw.utils.Integral( temperatureField*mantlerestrictFn, mesh )\n",
    "        mantleVisc = uw.utils.Integral( finalviscosityFn*mantlerestrictFn, mesh )\n",
    "        mantleVd = uw.utils.Integral( (4.*viscosityMapFn1*sinner*mantlerestrictFn), mesh ) #these now work on MappingFunctions\n",
    "        ###\n",
    "        Avg_temp = avg_temp()\n",
    "        Rms = rms()\n",
    "        Rms_surf = rms_surf()\n",
    "        Max_vx_surf = max_vx_surf(velocityField, mesh)\n",
    "        Gravwork = basic_int(dwint)\n",
    "        Viscdis = basic_int(vdint)\n",
    "        nu1, nu0 = nusseltTB(temperatureField, mesh) # return top then bottom\n",
    "        etamax, etamin = visc_extr(finalviscosityFn)\n",
    "        Area_mantle = basic_int(mantleArea)\n",
    "        Viscmantle = basic_int(mantleVisc)\n",
    "        Tempmantle = basic_int(mantleTemp)\n",
    "        Viscdismantle = basic_int(mantleVd)\n",
    "        Plateness = basic_int(plateint)/basic_int(surfint)\n",
    "        TMAX = tempMM.max_global()\n",
    "        # output to summary text file\n",
    "        if uw.rank()==0:\n",
    "            f_o.write((18*'%-15s ' + '\\n') % (realtime, Viscdis, float(nu0), float(nu1), Avg_temp,\n",
    "                                              Tempmantle,TMAX,\n",
    "                                              Rms,Rms_surf,Max_vx_surf,Gravwork, etamax, etamin, \n",
    "                                              Area_mantle, Viscmantle,  Viscdismantle,Plateness, subzone ))\n",
    "    ################\n",
    "    #Also repopulate entire swarm periodically\n",
    "    ################\n",
    "    #if step % swarm_repop == 0:\n",
    "    population_control.repopulate()   \n",
    "    ################\n",
    "    #Checkpoint\n",
    "    ################\n",
    "    if step % checkpoint_every == 0:\n",
    "        if uw.rank() == 0:\n",
    "            checkpoint1(step, checkpointPath,f_o, metric_output)           \n",
    "        checkpoint2(step, checkpointPath, gSwarm, f_o, varlist = varlist, varnames = varnames)\n",
    "        f_o = open(os.path.join(outputPath, outputFile), 'a') #is this line supposed to be here?\n",
    "    ################\n",
    "    #Gldb output\n",
    "    ################ \n",
    "    if (step % gldbs_output == 0): \n",
    "        if figures == 'gldb':\n",
    "            #Remember to rebuild any necessary swarm variables\n",
    "            fnamedb = \"dbFig\" + \"_\" + str(ModIt) + \"_\" + str(step) + \".gldb\"\n",
    "            fullpath = os.path.join(outputPath + \"gldbs/\" + fnamedb)\n",
    "            figDb.save_database(fullpath)\n",
    "        elif figures == 'store':      \n",
    "            fullpath = os.path.join(outputPath + \"gldbs/\")\n",
    "            store.step = step\n",
    "            #Save figures to store\n",
    "            figVisc.save( fullPath + \"Visc\" + str(step).zfill(4))\n",
    "            #figMech.save( fullPath + \"Mech\" + str(step).zfill(4))\n",
    "            figTemp.save(    outputPath + \"Temp\"    + str(step).zfill(4))\n",
    "    ################\n",
    "    #Files output\n",
    "    ################ \n",
    "    if (step % files_output == 0):\n",
    "\n",
    "        vel_surface = velocityField.evaluate_global(surface_nodes)\n",
    "        norm_surface_sr = normgradV.evaluate_global(surface_nodes)\n",
    "        if uw.rank() == 0:\n",
    "            fnametemp = \"velsurface\" + \"_\" + str(ModIt) + \"_\" + str(step)\n",
    "            fullpath = os.path.join(outputPath + \"files/\" + fnametemp)\n",
    "            np.save(fullpath, vel_surface)\n",
    "            fnametemp = \"norm_surface_sr\" + \"_\" + str(ModIt) + \"_\" + str(step)\n",
    "            fullpath = os.path.join(outputPath + \"files/\" + fnametemp)\n",
    "            np.save(fullpath, norm_surface_sr)\n",
    "            \n",
    "    ################\n",
    "    #Update the subduction zone / plate information\n",
    "    ################ \n",
    "    \n",
    "    comm.barrier()\n",
    "    if (step % files_output == 0):\n",
    "        \n",
    "        if uw.rank() == 0:\n",
    "            fnametemp = \"norm_surface_sr\" + \"_\" + str(ModIt) + \"_\" + str(step) + \".npy\"\n",
    "            fullpath = os.path.join(outputPath + \"files/\" + fnametemp)\n",
    "            subzone = plate_info(fullpath, MINX, MAXX,  200e3/dp.LS, oldszloc = subzone)\n",
    "            \n",
    "        else:\n",
    "            subzone = None\n",
    "        \n",
    "        comm.barrier()    \n",
    "        #send out the updated info for sz location\n",
    "        \n",
    "        subzone = comm.bcast(subzone, root=0)\n",
    "\n",
    "        #Has the polarity reversed?\n",
    "\n",
    "        if sense == 'right':\n",
    "            tempop = operator.lt\n",
    "            szoffet *= -1\n",
    "        else:\n",
    "            tempop = operator.gt\n",
    "            \n",
    "        #Update the relevant parts of the material graph\n",
    "        #Remove and rebuild edges related to crust\n",
    "        DG.remove_edges_from([(mantleIndex,crustIndex)])\n",
    "        DG.add_edges_from([(mantleIndex,crustIndex)])\n",
    "        DG.remove_edges_from([(harzIndex,crustIndex)])\n",
    "        DG.add_edges_from([(harzIndex,crustIndex)])\n",
    "\n",
    "        #... to crust\n",
    "        DG.add_transition((mantleIndex,crustIndex), depthFn, operator.lt, 0.5)\n",
    "        DG.add_transition((mantleIndex,crustIndex), xFn, tempop , subzone) #No crust on the upper plate\n",
    "        DG.add_transition((mantleIndex,crustIndex), ageVariable, operator.gt, 0.2)\n",
    "\n",
    "        DG.add_transition((harzIndex,crustIndex), depthFn, operator.lt, MANTLETOCRUST)\n",
    "        DG.add_transition((harzIndex,crustIndex), xFn, tempop, subzone) #This one sets no crust on the upper plate\n",
    "        DG.add_transition((harzIndex,crustIndex), ageVariable, operator.gt, crustageCond)\n",
    "        \n",
    "        comm.barrier()\n",
    "                   \n",
    "    \n",
    "    ################\n",
    "    #Particle update\n",
    "    ###############    \n",
    "    #ageVariable.data[:] += dt #increment the ages (is this efficient?)\n",
    "    ageDT += dt\n",
    "    \n",
    "    if step % swarm_update == 0:\n",
    "        #Increment age stuff. \n",
    "        ageConditions = [ (depthFn < AGETRACKDEPTH, ageVariable + ageDT ),  #add ageDThere\n",
    "                  (True, 0.) ]\n",
    "        ageVariable.data[:] = fn.branching.conditional( ageConditions ).evaluate(gSwarm)        \n",
    "        ageDT = 0. #reset the age incrementer\n",
    "        \n",
    "        #Apply any materialVariable changes\n",
    "        for i in range(2): #go through twice\n",
    "            materialVariable.data[:] = fn.branching.conditional(DG.condition_list).evaluate(gSwarm)\n",
    "\n",
    "    \n",
    "f_o.close()\n",
    "print 'step =',step"
   ]
  },
  {
   "cell_type": "code",
   "execution_count": 296,
   "metadata": {
    "collapsed": true
   },
   "outputs": [],
   "source": [
    "comm.Bcast?"
   ]
  },
  {
   "cell_type": "code",
   "execution_count": null,
   "metadata": {
    "collapsed": true
   },
   "outputs": [],
   "source": [
    "saved = glucifer.Viewer('subduction')"
   ]
  },
  {
   "cell_type": "code",
   "execution_count": null,
   "metadata": {
    "collapsed": false
   },
   "outputs": [],
   "source": [
    "saved.steps"
   ]
  },
  {
   "cell_type": "code",
   "execution_count": null,
   "metadata": {
    "collapsed": false
   },
   "outputs": [],
   "source": [
    "#Re-visualise the final timestep\n",
    "saved.step = saved.steps[-1]\n",
    "for name in saved:\n",
    "    print(name)\n",
    "    fig = saved[name]\n",
    "    fig.quality = 2\n",
    "    fig.properties[\"title\"] = \"Timestep ##\"\n",
    "    fig.show()\n",
    "    fig.save_image(name )"
   ]
  },
  {
   "cell_type": "code",
   "execution_count": null,
   "metadata": {
    "collapsed": false
   },
   "outputs": [],
   "source": [
    "figDb.save_database('test.gldb')"
   ]
  },
  {
   "cell_type": "code",
   "execution_count": null,
   "metadata": {
    "collapsed": false
   },
   "outputs": [],
   "source": [
    "vel_surface = velocityField.evaluate_global(surface_nodes)\n",
    "norm_surface_sr = normgradV.evaluate_global(surface_nodes)"
   ]
  },
  {
   "cell_type": "code",
   "execution_count": null,
   "metadata": {
    "collapsed": false
   },
   "outputs": [],
   "source": [
    "x180 = np.copy(vel_surface)"
   ]
  },
  {
   "cell_type": "code",
   "execution_count": null,
   "metadata": {
    "collapsed": true
   },
   "outputs": [],
   "source": [
    "x90 = np.copy(vel_surface)"
   ]
  },
  {
   "cell_type": "code",
   "execution_count": null,
   "metadata": {
    "collapsed": false
   },
   "outputs": [],
   "source": [
    "import matplotlib.pylab as plt\n",
    "%pylab inline"
   ]
  },
  {
   "cell_type": "code",
   "execution_count": null,
   "metadata": {
    "collapsed": false
   },
   "outputs": [],
   "source": [
    "plt.plot(x180[:,0])\n",
    "plt.plot(x90[:,0])"
   ]
  },
  {
   "cell_type": "code",
   "execution_count": null,
   "metadata": {
    "collapsed": false
   },
   "outputs": [],
   "source": [
    "vel_surface.shape"
   ]
  },
  {
   "cell_type": "code",
   "execution_count": null,
   "metadata": {
    "collapsed": true
   },
   "outputs": [],
   "source": [
    "np.copy?"
   ]
  },
  {
   "cell_type": "code",
   "execution_count": null,
   "metadata": {
    "collapsed": true
   },
   "outputs": [],
   "source": []
  }
 ],
 "metadata": {
  "kernelspec": {
   "display_name": "Python 2",
   "language": "python",
   "name": "python2"
  },
  "language_info": {
   "codemirror_mode": {
    "name": "ipython",
    "version": 2
   },
   "file_extension": ".py",
   "mimetype": "text/x-python",
   "name": "python",
   "nbconvert_exporter": "python",
   "pygments_lexer": "ipython2",
   "version": "2.7.9"
  },
  "widgets": {
   "state": {},
   "version": "1.1.2"
  }
 },
 "nbformat": 4,
 "nbformat_minor": 0
}
