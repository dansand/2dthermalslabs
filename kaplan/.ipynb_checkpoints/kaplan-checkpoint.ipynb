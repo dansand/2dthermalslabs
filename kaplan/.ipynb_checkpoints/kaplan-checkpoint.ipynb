{
 "cells": [
  {
   "cell_type": "markdown",
   "metadata": {},
   "source": [
    "## Thermal subduction, linear rheology:\n",
    "\n",
    "\n",
    "The viscous rheology in this model is similar to the models described in the PhD thesis of Micheal Kaplan\n",
    "\n",
    "\n",
    "\n",
    "**Keywords:** subduction, thermally-activated creep, \n",
    "\n",
    "\n",
    "**References:**\n",
    "\n",
    "\n",
    "Kaplan, Michael. Numerical Geodynamics of Solid Planetary Deformation. Diss. University of Southern California, 2015."
   ]
  },
  {
   "cell_type": "code",
   "execution_count": 1,
   "metadata": {
    "collapsed": false
   },
   "outputs": [
    {
     "name": "stderr",
     "output_type": "stream",
     "text": [
      "/root/underworld2/unsupported/interfaces/__init__.py:9: UserWarning: \n",
      "\n",
      "The interface module is not supported.\n",
      "Questions should be addressed to louis.moresi@unimelb.edu.au \n",
      " \n",
      "  Questions should be addressed to louis.moresi@unimelb.edu.au \\n \"\"\"\n"
     ]
    }
   ],
   "source": [
    "import numpy as np\n",
    "import underworld as uw\n",
    "import math\n",
    "from underworld import function as fn\n",
    "import glucifer\n",
    "\n",
    "import os\n",
    "import sys\n",
    "import natsort\n",
    "import shutil\n",
    "from easydict import EasyDict as edict\n",
    "import operator\n",
    "import pint\n",
    "import time\n",
    "import operator\n",
    "from slippy2 import boundary_layer2d\n",
    "from slippy2 import material_graph\n",
    "from slippy2 import spmesh\n",
    "from slippy2 import phase_function\n",
    "from unsupported.interfaces import markerLine2D\n",
    "\n",
    "from mpi4py import MPI\n",
    "comm = MPI.COMM_WORLD\n",
    "rank = comm.Get_rank()"
   ]
  },
  {
   "cell_type": "markdown",
   "metadata": {},
   "source": [
    "Model name and directories\n",
    "-----"
   ]
  },
  {
   "cell_type": "code",
   "execution_count": 2,
   "metadata": {
    "collapsed": false
   },
   "outputs": [],
   "source": [
    "############\n",
    "#Model letter and number\n",
    "############\n",
    "\n",
    "\n",
    "#Model letter identifier default\n",
    "Model = \"T\"\n",
    "\n",
    "#Model number identifier default:\n",
    "ModNum = 0\n",
    "\n",
    "#Any isolated letter / integer command line args are interpreted as Model/ModelNum\n",
    "\n",
    "if len(sys.argv) == 1:\n",
    "    ModNum = ModNum \n",
    "elif sys.argv[1] == '-f': #\n",
    "    ModNum = ModNum \n",
    "else:\n",
    "    for farg in sys.argv[1:]:\n",
    "        if not '=' in farg: #then Assume it's a not a paramter argument\n",
    "            try:\n",
    "                ModNum = int(farg) #try to convert everingthing to a float, else remains string\n",
    "            except ValueError:\n",
    "                Model  = farg"
   ]
  },
  {
   "cell_type": "code",
   "execution_count": 3,
   "metadata": {
    "collapsed": false
   },
   "outputs": [],
   "source": [
    "###########\n",
    "#Standard output directory setup\n",
    "###########\n",
    "\n",
    "\n",
    "outputPath = \"results\" + \"/\" +  str(Model) + \"/\" + str(ModNum) + \"/\" \n",
    "imagePath = outputPath + 'images/'\n",
    "filePath = outputPath + 'files/'\n",
    "checkpointPath = outputPath + 'checkpoint/'\n",
    "dbPath = outputPath + 'gldbs/'\n",
    "outputFile = 'results_model' + Model + '_' + str(ModNum) + '.dat'\n",
    "\n",
    "if uw.rank()==0:\n",
    "    # make directories if they don't exist\n",
    "    if not os.path.isdir(outputPath):\n",
    "        os.makedirs(outputPath)\n",
    "    if not os.path.isdir(checkpointPath):\n",
    "        os.makedirs(checkpointPath)\n",
    "    if not os.path.isdir(imagePath):\n",
    "        os.makedirs(imagePath)\n",
    "    if not os.path.isdir(dbPath):\n",
    "        os.makedirs(dbPath)\n",
    "    if not os.path.isdir(filePath):\n",
    "        os.makedirs(filePath)\n",
    "\n",
    "        \n",
    "comm.Barrier() #Barrier here so no procs run the check in the next cell too early"
   ]
  },
  {
   "cell_type": "code",
   "execution_count": 4,
   "metadata": {
    "collapsed": false
   },
   "outputs": [
    {
     "name": "stdout",
     "output_type": "stream",
     "text": [
      "results/T/0/checkpoint/ is empty\n"
     ]
    }
   ],
   "source": [
    "###########\n",
    "#Check if starting from checkpoint\n",
    "###########\n",
    "\n",
    "checkdirs = []\n",
    "for dirpath, dirnames, files in os.walk(checkpointPath):\n",
    "    if files:\n",
    "        print dirpath, 'has files'\n",
    "        checkpointLoad = True\n",
    "        checkdirs.append(dirpath)\n",
    "    if not files:\n",
    "        print dirpath, 'is empty'\n",
    "        checkpointLoad = False"
   ]
  },
  {
   "cell_type": "code",
   "execution_count": 5,
   "metadata": {
    "collapsed": true
   },
   "outputs": [],
   "source": [
    "# setup summary output file (name above)\n",
    "if checkpointLoad:\n",
    "    checkpointLoadDir = natsort.natsort(checkdirs)[-1]\n",
    "    if uw.rank() == 0:\n",
    "        shutil.copyfile(os.path.join(checkpointLoadDir, outputFile), outputPath+outputFile)\n",
    "    comm.Barrier()\n",
    "    f_o = open(os.path.join(outputPath, outputFile), 'a')\n",
    "    prevdata = np.genfromtxt(os.path.join(outputPath, outputFile), skip_header=0, skip_footer=0)\n",
    "    if len(prevdata.shape) == 1: #this is in case there is only one line in previous file\n",
    "        realtime = prevdata[0]\n",
    "    else:\n",
    "        realtime = prevdata[prevdata.shape[0]-1, 0]\n",
    "    step = int(checkpointLoadDir.split('/')[-1])\n",
    "    timevals = [0.]\n",
    "else:\n",
    "    f_o = open(outputPath+outputFile, 'w')\n",
    "    realtime = 0.\n",
    "    step = 0\n",
    "    timevals = [0.]"
   ]
  },
  {
   "cell_type": "markdown",
   "metadata": {},
   "source": [
    "Setup parameters\n",
    "-----\n",
    "\n",
    "Set simulation parameters for test."
   ]
  },
  {
   "cell_type": "markdown",
   "metadata": {},
   "source": [
    "**Use pint to setup any unit conversions we'll need**"
   ]
  },
  {
   "cell_type": "code",
   "execution_count": 6,
   "metadata": {
    "collapsed": false
   },
   "outputs": [
    {
     "name": "stderr",
     "output_type": "stream",
     "text": [
      "/usr/local/lib/python2.7/dist-packages/IPython/core/formatters.py:92: DeprecationWarning: DisplayFormatter._ipython_display_formatter_default is deprecated: use @default decorator instead.\n",
      "  def _ipython_display_formatter_default(self):\n",
      "/usr/local/lib/python2.7/dist-packages/IPython/core/formatters.py:98: DeprecationWarning: DisplayFormatter._formatters_default is deprecated: use @default decorator instead.\n",
      "  def _formatters_default(self):\n",
      "/usr/local/lib/python2.7/dist-packages/IPython/core/formatters.py:677: DeprecationWarning: PlainTextFormatter._deferred_printers_default is deprecated: use @default decorator instead.\n",
      "  def _deferred_printers_default(self):\n",
      "/usr/local/lib/python2.7/dist-packages/IPython/core/formatters.py:669: DeprecationWarning: PlainTextFormatter._singleton_printers_default is deprecated: use @default decorator instead.\n",
      "  def _singleton_printers_default(self):\n",
      "/usr/local/lib/python2.7/dist-packages/IPython/core/formatters.py:672: DeprecationWarning: PlainTextFormatter._type_printers_default is deprecated: use @default decorator instead.\n",
      "  def _type_printers_default(self):\n",
      "/usr/local/lib/python2.7/dist-packages/IPython/core/formatters.py:669: DeprecationWarning: PlainTextFormatter._singleton_printers_default is deprecated: use @default decorator instead.\n",
      "  def _singleton_printers_default(self):\n",
      "/usr/local/lib/python2.7/dist-packages/IPython/core/formatters.py:672: DeprecationWarning: PlainTextFormatter._type_printers_default is deprecated: use @default decorator instead.\n",
      "  def _type_printers_default(self):\n",
      "/usr/local/lib/python2.7/dist-packages/IPython/core/formatters.py:677: DeprecationWarning: PlainTextFormatter._deferred_printers_default is deprecated: use @default decorator instead.\n",
      "  def _deferred_printers_default(self):\n"
     ]
    },
    {
     "data": {
      "text/html": [
       "10000.0 meter/megayear"
      ],
      "text/latex": [
       "$10000.0 \\frac{meter}{megayear}$"
      ],
      "text/plain": [
       "<Quantity(10000.0, 'meter / megayear')>"
      ]
     },
     "execution_count": 6,
     "metadata": {},
     "output_type": "execute_result"
    }
   ],
   "source": [
    "u = pint.UnitRegistry()\n",
    "cmpery = 1.*u.cm/u.year\n",
    "mpermy = 1.*u.m/u.megayear\n",
    "year = 1.*u.year\n",
    "spery = year.to(u.sec)\n",
    "cmpery.to(mpermy)"
   ]
  },
  {
   "cell_type": "code",
   "execution_count": 7,
   "metadata": {
    "collapsed": false
   },
   "outputs": [
    {
     "name": "stdout",
     "output_type": "stream",
     "text": [
      "(0.04, 1.2675505856327397e-11)\n"
     ]
    }
   ],
   "source": [
    "box_half_width =4000e3\n",
    "age_at_trench = 100e6\n",
    "cmperyear = box_half_width / age_at_trench #m/y\n",
    "mpersec = cmperyear*(cmpery.to(u.m/u.second)).magnitude #m/sec\n",
    "print(cmperyear, mpersec )"
   ]
  },
  {
   "cell_type": "markdown",
   "metadata": {},
   "source": [
    "**Set parameter dictionaries**\n",
    "\n",
    "* Parameters are stored in dictionaries. \n",
    "* If starting from checkpoint, parameters are loaded using pickle\n",
    "* If params are passed in as flags to the script, they overwrite \n"
   ]
  },
  {
   "cell_type": "code",
   "execution_count": 8,
   "metadata": {
    "collapsed": false
   },
   "outputs": [],
   "source": [
    "###########\n",
    "#Parameter / settings dictionaries get saved&loaded using pickle\n",
    "###########\n",
    " \n",
    "dp = edict({}) #dimensional parameters\n",
    "sf = edict({}) #scaling factors\n",
    "ndp = edict({}) #dimensionless paramters\n",
    "#md = edict({}) #model paramters, flags etc\n",
    "#od = edict({}) #output frequencies\n",
    "\n"
   ]
  },
  {
   "cell_type": "code",
   "execution_count": 9,
   "metadata": {
    "collapsed": false
   },
   "outputs": [],
   "source": [
    "dict_list = [dp, sf, ndp]\n",
    "dict_names = ['dp.pkl', 'sf.pkl', 'ndp.pkl']\n",
    "\n",
    "def save_pickles(dict_list, dict_names, dictPath):\n",
    "    import pickle\n",
    "    counter = 0\n",
    "    for pdict in dict_list:\n",
    "        myfile = os.path.join(dictPath, dict_names[counter])\n",
    "        with open(myfile, 'wb') as f:\n",
    "            pickle.dump(pdict, f)\n",
    "        counter+=1\n",
    "\n",
    "\n",
    "#ended up having to pretty much write a hard-coded function\n",
    "#All dictionaries we want checkpointed will have to  be added here \n",
    "#and where the function is called\n",
    "#Fortunately, this function is only called ONCE\n",
    "\n",
    "def load_pickles():\n",
    "    import pickle\n",
    "    dirpath = os.path.join(checkpointPath, str(step))\n",
    "    dpfile = open(os.path.join(dirpath, 'dp.pkl'), 'r')\n",
    "    dp = pickle.load(dpfile)\n",
    "#    #\n",
    "    ndpfile = open(os.path.join(dirpath, 'ndp.pkl'), 'r')\n",
    "    ndp = edict(pickle.load(ndpfile))\n",
    "    #\n",
    "    sffile = open(os.path.join(dirpath, 'sf.pkl'), 'r')\n",
    "    sf = edict(pickle.load(sffile))\n",
    "    return dp, ndp, sf"
   ]
  },
  {
   "cell_type": "code",
   "execution_count": 111,
   "metadata": {
    "collapsed": false
   },
   "outputs": [],
   "source": [
    "###########\n",
    "#Store the physical parameters, scale factors and dimensionless pramters in easyDicts\n",
    "#Mainly helps with avoiding overwriting variables\n",
    "###########\n",
    "\n",
    "\n",
    "dp = edict({'LS':670*1e3, #Scaling Length scale\n",
    "            'depth':670*1e3, #Depth of domain\n",
    "            'rho':3300.,  #reference density\n",
    "            'g':9.8, #surface gravity\n",
    "            'eta0':1e20, #reference viscosity\n",
    "            'k':1e-6, #thermal diffusivity\n",
    "            'a':3e-5, #surface thermal expansivity\n",
    "            'R':8.314, #gas constant\n",
    "            'TP':1673., #mantle potential temp (K)\n",
    "            'TS':273., #surface temp (K)\n",
    "            #Rheology - flow law paramters\n",
    "            'Adf':3e-11, #pre-exp factor for diffusion creep\n",
    "            'Edf':1e5, #Total viscosity variation in the Kaplan model\n",
    "            'cm':40e6, #mantle cohesion in Byerlee law\n",
    "            'cc':40e6, #mantle cohesion in Byerlee law\n",
    "            'ci':40e6, #mantle cohesion in Byerlee law\n",
    "            'cf':40e6, #mantle cohesion in Byerlee law\n",
    "            'fcm':0.03,   #mantle friction coefficient in Byerlee law (tan(phi))\n",
    "            'fcc':0.03,   #crust friction coefficient \n",
    "            'fci':0.03,   #subduction interface friction coefficient\n",
    "            'fcf':0.03,   #subduction interface friction coefficient\n",
    "            #Rheology - cutoff values\n",
    "            'eta_min':1e17, \n",
    "            'eta_max':1e25, #viscosity max in the mantle material\n",
    "            'eta_min_crust':1e20, #viscosity min in the weak-crust material\n",
    "            'eta_max_crust':1e20, #viscosity max in the weak-crust material\n",
    "            'eta_min_interface':1e20, #viscosity min in the subduction interface material\n",
    "            'eta_max_interface':1e20, #viscosity max in the subduction interface material\n",
    "            'eta_min_fault':1e20, #viscosity min in the subduction interface material\n",
    "            'eta_max_fault':1e20, #viscosity max in the subduction interface material\n",
    "            #Length scales\n",
    "            'MANTLETOCRUST':10.*1e3, #Crust depth\n",
    "            'HARZBURGDEPTH':40e3,\n",
    "            'CRUSTTOMANTLE':800.*1e3,\n",
    "            'LITHTOMANTLE':(900.*1e3),\n",
    "            'MANTLETOLITH':200.*1e3, \n",
    "            'TOPOHEIGHT':10.*1e3,  #rock-air topography limits\n",
    "            'CRUSTTOECL':100.*1e3,\n",
    "            'LOWMANTLEDEPTH':660.*1e3, \n",
    "            'CRUSTVISCUTOFF':150.*1e3, #Deeper than this, crust material rheology reverts to mantle rheology\n",
    "            'AGETRACKDEPTH':100e3, #above this depth we track the age of the lithsphere (below age is assumed zero)\n",
    "            #Slab and plate parameters\n",
    "            'roc':250e3,     #radius of curvature of slab\n",
    "            'subzone':0.0,   #X position of subduction zone...km\n",
    "            'lRidge':-0.5*(670e3*4),  #For depth = 670 km, aspect ratio of 4, this puts the ridges at MINX, MAXX\n",
    "            'rRidge':0.5*(670e3*4),\n",
    "            'maxDepth':250e3,\n",
    "            'theta':70., #Angle to truncate the slab (can also control with a maxDepth param)\n",
    "            'slabmaxAge':60e6, #age of subduction plate at trench\n",
    "            'platemaxAge':60e6, #max age of slab (Plate model)\n",
    "            'sense':'Right', #dip direction\n",
    "            'op_age_fac':0.5, #this controls the overidding plate age reduction\n",
    "            #Misc\n",
    "            'StALS':100e3, #depth of sticky air layer\n",
    "            'Steta_n':1e19, #stick air viscosity, normal\n",
    "            'Steta_s':1e18, #stick air viscosity, shear \n",
    "            'plate_vel':4,\n",
    "            'low_mantle_visc_fac':30.\n",
    "           })\n",
    "\n",
    "#append any derived parameters to the dictionary\n",
    "dp.deltaT = dp.TP - dp.TS\n",
    "\n",
    "\n"
   ]
  },
  {
   "cell_type": "code",
   "execution_count": null,
   "metadata": {
    "collapsed": false
   },
   "outputs": [],
   "source": []
  },
  {
   "cell_type": "code",
   "execution_count": 113,
   "metadata": {
    "collapsed": true
   },
   "outputs": [],
   "source": [
    "##Model dict will go here, once I collect those params and put them in dict. "
   ]
  },
  {
   "cell_type": "code",
   "execution_count": 114,
   "metadata": {
    "collapsed": false
   },
   "outputs": [],
   "source": [
    "###########\n",
    "#If starting from a checkpoint load params from file\n",
    "###########\n",
    "\n",
    "if checkpointLoad:\n",
    "    dp, ndp, sf = load_pickles()  #remember to add any extra dictionaries\n"
   ]
  },
  {
   "cell_type": "code",
   "execution_count": 115,
   "metadata": {
    "collapsed": false
   },
   "outputs": [],
   "source": [
    "###########\n",
    "#If command line args are given, overwrite\n",
    "#Note that this assumes that params as commans line args/\n",
    "#only append to the 'dimensional' and 'model' dictionary (not the non-dimensional)\n",
    "###########    \n",
    "\n",
    "\n",
    "###########\n",
    "#If extra arguments are provided to the script\" eg:\n",
    "### >>> uw.py 2 dp.arg1=1 dp.arg2=foo dp.arg3=3.0\n",
    "###\n",
    "###This would assign ModNum = 2, all other values go into the dp dictionary, under key names provided\n",
    "###\n",
    "###Two operators are searched for, = & *=\n",
    "###\n",
    "###If =, parameter is re-assigned to givn value\n",
    "###If *=, parameter is multipled by given value\n",
    "###\n",
    "### >>> uw.py 2 dp.arg1=1 dp.arg2=foo dp.arg3*=3.0\n",
    "###########\n",
    "\n",
    "for farg in sys.argv[1:]:\n",
    "    try:\n",
    "        (dicitem,val) = farg.split(\"=\") #Split on equals operator\n",
    "        (dic,arg) = dicitem.split(\".\") #colon notation\n",
    "        if '*=' in farg:\n",
    "            (dicitem,val) = farg.split(\"*=\") #If in-place multiplication, split on '*='\n",
    "            (dic,arg) = dicitem.split(\".\")\n",
    "        \n",
    "        try:\n",
    "            val = float(val) #try to convert everything to a float, else remains string\n",
    "        except ValueError:\n",
    "            pass\n",
    "        #Update the dictionary\n",
    "        if farg.startswith('dp'):\n",
    "            if '*=' in farg:\n",
    "                dp[arg] = dp[arg]*val #multiply parameter by given factor\n",
    "            else:\n",
    "                dp[arg] = val    #or reassign parameter by given value\n",
    "        if farg.startswith('md'):\n",
    "            if '*=' in farg:\n",
    "                md[arg] = md[arg]*val #multiply parameter by given factor\n",
    "            else:\n",
    "                md[arg] = val    #or reassign parameter by given value\n",
    "                \n",
    "    except:\n",
    "        pass\n",
    "            \n",
    "\n",
    "comm.barrier()"
   ]
  },
  {
   "cell_type": "code",
   "execution_count": 116,
   "metadata": {
    "collapsed": false
   },
   "outputs": [],
   "source": [
    "#Only build these guys first time around, otherwise the read from checkpoints\n",
    "#Important because some of these params (like SZ location) may change during model evolution\n",
    "\n",
    "if not checkpointLoad:\n",
    "    sf = edict({'stress':dp.LS**2/(dp.k*dp.eta0),\n",
    "                'lith_grad':dp.rho*dp.g*(dp.LS)**3/(dp.eta0*dp.k) , \n",
    "                'vel':dp.LS/dp.k,\n",
    "                'SR':dp.LS**2/dp.k    \n",
    "               })\n",
    "\n",
    "    #dimensionless parameters\n",
    "\n",
    "    ndp = edict({'RA':(dp.g*dp.rho*dp.a*(dp.TP - dp.TS)*(dp.LS)**3)/(dp.k*dp.eta0),\n",
    "                 'Edf':math.log(dp.Edf),\n",
    "                 'TSP':0., \n",
    "                 'TBP':1.,\n",
    "                 'TPP':(dp.TP - dp.TS)/dp.deltaT, #dimensionless potential temp\n",
    "                 'TS':dp.TS/dp.deltaT,\n",
    "                 'TP':dp.TP/dp.deltaT,\n",
    "                 'cm':dp.cm*sf.stress,\n",
    "                 'cc':dp.cc*sf.stress,    #{dimensionless cohesion in mantle, crust, interface}\n",
    "                 'ci':dp.ci*sf.stress,\n",
    "                 'cf':dp.cf*sf.stress,\n",
    "                 'fcmd':dp.fcm*sf.lith_grad, \n",
    "                 'fccd':dp.fcc*sf.lith_grad, #{dimensionless friction coefficient in mantle, crust, interface}\n",
    "                 'fcid':dp.fci*sf.lith_grad, \n",
    "                 'fcfd':dp.fci*sf.lith_grad, \n",
    "                 #Rheology - cutoff values\n",
    "                 'eta_min':dp.eta_min/dp.eta0, \n",
    "                 'eta_max':dp.eta_max/dp.eta0, #viscosity max in the mantle material\n",
    "                 'eta_min_crust':dp.eta_min_crust/dp.eta0, #viscosity min in the weak-crust material\n",
    "                 'eta_max_crust':dp.eta_max_crust/dp.eta0, #viscosity max in the weak-crust material\n",
    "                 'eta_min_interface':dp.eta_min_interface/dp.eta0, #viscosity min in the subduction interface material\n",
    "                 'eta_max_interface':dp.eta_max_interface/dp.eta0, #viscosity max in the subduction interface material\n",
    "                 'eta_min_fault':dp.eta_min_fault/dp.eta0, #viscosity min in the subduction interface material\n",
    "                 'eta_max_fault':dp.eta_max_fault/dp.eta0, #viscosity max in the subduction interface material   \n",
    "                 #Length scales\n",
    "                 'MANTLETOCRUST':dp.MANTLETOCRUST/dp.LS, #Crust depth\n",
    "                 'HARZBURGDEPTH':dp.HARZBURGDEPTH/dp.LS,\n",
    "                 'CRUSTTOMANTLE':dp.CRUSTTOMANTLE/dp.LS,\n",
    "                 'LITHTOMANTLE':dp.LITHTOMANTLE/dp.LS,\n",
    "                 'MANTLETOLITH':dp.MANTLETOLITH/dp.LS,\n",
    "                 'TOPOHEIGHT':dp.TOPOHEIGHT/dp.LS,  #rock-air topography limits\n",
    "                 'CRUSTTOECL':dp.CRUSTTOECL/dp.LS,\n",
    "                 'LOWMANTLEDEPTH':dp.LOWMANTLEDEPTH/dp.LS, \n",
    "                 'CRUSTVISCUTOFF':dp.CRUSTVISCUTOFF/dp.LS, #Deeper than this, crust material rheology reverts to mantle rheology\n",
    "                 'AGETRACKDEPTH':dp.AGETRACKDEPTH/dp.LS,\n",
    "                 #Slab and plate parameters\n",
    "                 'roc':dp.roc/dp.LS,     #radius of curvature of slab\n",
    "                 'subzone':dp.subzone/dp.LS,   #X position of subduction zone...km\n",
    "                 'lRidge':dp.lRidge/dp.LS,  #For depth = 670 km, aspect ratio of 4, this puts the ridges at MINX, MAXX\n",
    "                 'rRidge':dp.rRidge/dp.LS,\n",
    "                 'maxDepth':dp.maxDepth/dp.LS,    \n",
    "                 #misc\n",
    "                 'Steta_n':dp.Steta_n/dp.eta0, #stick air viscosity, normal\n",
    "                 'Steta_s':dp.Steta_n/dp.eta0, #stick air viscosity, shear \n",
    "                 'StALS':dp.StALS/dp.LS,\n",
    "                 'plate_vel':sf.vel*dp.plate_vel*(cmpery.to(u.m/u.second)).magnitude,\n",
    "                 'low_mantle_visc_fac':dp.low_mantle_visc_fac\n",
    "                })\n",
    "\n",
    "\n",
    "\n",
    "    #Append any more derived paramters\n",
    "    ndp.StRA = (3300.*dp.g*(dp.LS)**3)/(dp.eta0 *dp.k) #Composisitional Rayleigh number for rock-air buoyancy force\n",
    "    dp.CVR = (0.1*(dp.k/dp.LS)*ndp.RA**(2/3.))\n",
    "    ndp.CVR = dp.CVR*sf.vel #characteristic velocity"
   ]
  },
  {
   "cell_type": "code",
   "execution_count": 15,
   "metadata": {
    "collapsed": false
   },
   "outputs": [
    {
     "data": {
      "text/plain": [
       "(849.2588923739356, 670000000000.0, 3.168876464081849e-10)"
      ]
     },
     "execution_count": 15,
     "metadata": {},
     "output_type": "execute_result"
    }
   ],
   "source": [
    "ndp.plate_vel, sf.vel, (cmpery.to(u.m/u.second)).magnitude"
   ]
  },
  {
   "cell_type": "markdown",
   "metadata": {},
   "source": [
    "**Model setup parameters**"
   ]
  },
  {
   "cell_type": "code",
   "execution_count": 16,
   "metadata": {
    "collapsed": false
   },
   "outputs": [],
   "source": [
    "###########\n",
    "#Model setup parameters\n",
    "###########\n",
    "\n",
    "#Modelling and Physics switches\n",
    "refineMesh = True\n",
    "stickyAir = False\n",
    "subductionFault = True\n",
    "symmetricIC = False\n",
    "VelBC = False\n",
    "aspectRatio = 4\n",
    "compBuoyancy = False #use compositional & phase buoyancy, or simply thermal\n",
    "RES = 128\n",
    "\n",
    "#Domain and Mesh paramters\n",
    "dim = 2          # number of spatial dimensions\n",
    "\n",
    "tot_depth = np.round(dp.depth/dp.LS, 3)\n",
    "\n",
    "#These options allow us to explore the choice of different length scalings\n",
    "\n",
    "if tot_depth == 1.: #Depth equal to length scale\n",
    "    MINY = 0.\n",
    "    MAXY = 1.\n",
    "elif tot_depth > 1.: #Depth larger than to length scale\n",
    "    MINY = 0.\n",
    "    MAXY = tot_depth\n",
    "    \n",
    "elif tot_depth < 1.: #Depth smaller to length scale\n",
    "    MINY = np.round(1. - tot_depth, 2)\n",
    "    MAXY = 1.\n",
    "    \n",
    "MINX = np.round(-1.*tot_depth*aspectRatio/2., 2)  #Aspect ratio is fixed, x-domain shifts according to system depth and length scale\n",
    "\n",
    "MAXX = np.round(1.*tot_depth*aspectRatio/2., 2)\n",
    "\n",
    "if MINX == 0.:\n",
    "    squareModel = True\n",
    "else: \n",
    "    squareModel = False\n",
    "    \n",
    "    \n",
    "\n",
    "Xres = int(RES*aspectRatio)\n",
    "#if MINY == 0.5:\n",
    "#    Xres = int(2.*RES*aspectRatio)\n",
    "    \n",
    "\n",
    "if stickyAir:\n",
    "    Yres = RES\n",
    "    MAXY = np.round(MAXY + dp.StALS/dp.LS, 2)\n",
    "    \n",
    "else:\n",
    "    Yres = RES\n",
    "    MAXY = np.round(MAXY, 2)\n",
    "\n",
    "periodic = [False, False]\n",
    "elementType = \"Q1/dQ0\"\n",
    "#elementType =\"Q2/DPC1\"\n",
    "\n",
    "\n",
    "#System/Solver stuff\n",
    "PIC_integration=True\n",
    "ppc = 25\n",
    "\n",
    "#Metric output stuff\n",
    "figures =  'gldb' #glucifer Store won't work on all machines, if not, set to 'gldb' \n",
    "swarm_repop, swarm_update = 10, 10\n",
    "gldbs_output = 10\n",
    "checkpoint_every, files_output = 20, 100\n",
    "metric_output = 2\n",
    "sticky_air_temp = 1e6"
   ]
  },
  {
   "cell_type": "markdown",
   "metadata": {},
   "source": [
    "Create mesh and finite element variables\n",
    "------"
   ]
  },
  {
   "cell_type": "code",
   "execution_count": 17,
   "metadata": {
    "collapsed": false
   },
   "outputs": [],
   "source": [
    "mesh = uw.mesh.FeMesh_Cartesian( elementType = (elementType),\n",
    "                                 elementRes  = (Xres, Yres), \n",
    "                                 minCoord    = (MINX, MINY), \n",
    "                                 maxCoord    = (MAXX, MAXY), periodic=periodic)\n",
    "\n",
    "velocityField       = uw.mesh.MeshVariable( mesh=mesh,         nodeDofCount=2 )\n",
    "pressureField       = uw.mesh.MeshVariable( mesh=mesh.subMesh, nodeDofCount=1 )\n",
    "temperatureField    = uw.mesh.MeshVariable( mesh=mesh,         nodeDofCount=1 )\n",
    "temperatureDotField = uw.mesh.MeshVariable( mesh=mesh,         nodeDofCount=1 )"
   ]
  },
  {
   "cell_type": "code",
   "execution_count": 18,
   "metadata": {
    "collapsed": true
   },
   "outputs": [],
   "source": [
    "mesh.reset()"
   ]
  },
  {
   "cell_type": "code",
   "execution_count": 19,
   "metadata": {
    "collapsed": false
   },
   "outputs": [
    {
     "name": "stdout",
     "output_type": "stream",
     "text": [
      "Min\n",
      "(256, 0.0078140624999999998, 3.0003999999999995, 0.99960000000000093)\n",
      "('edges', 256)\n",
      "-- iteration 0 --\n",
      "| F( p_n ) |^2: 0.000123928075027\n",
      "| p_n+1 - p_n |^2: 8.53512671865\n",
      "-- iteration 1 --\n",
      "| F( p_n ) |^2: 3.29102908897e-30\n",
      "Min, Max element width: \n",
      "0.00781\n",
      "0.02344\n"
     ]
    },
    {
     "name": "stderr",
     "output_type": "stream",
     "text": [
      "/root/slippy2/slippy2/spmesh.py:213: DeprecationWarning: the sets module is deprecated\n",
      "  from sets import ImmutableSet as Set\n"
     ]
    }
   ],
   "source": [
    "###########\n",
    "#Mesh refinement\n",
    "###########\n",
    "\n",
    "#X-Axis\n",
    "\n",
    "if refineMesh:\n",
    "    mesh.reset()\n",
    "    axis = 0\n",
    "    origcoords = np.linspace(mesh.minCoord[axis], mesh.maxCoord[axis], mesh.elementRes[axis] + 1)\n",
    "    edge_rest_lengths = np.diff(origcoords)\n",
    "\n",
    "    deform_lengths = edge_rest_lengths.copy()\n",
    "    min_point =  (abs(mesh.maxCoord[axis]) - abs(mesh.minCoord[axis]))/2.\n",
    "    el_reduction = 0.5001\n",
    "    dx = mesh.maxCoord[axis] - min_point\n",
    "\n",
    "    deform_lengths = deform_lengths - \\\n",
    "                                    ((1.-el_reduction) *deform_lengths[0]) + \\\n",
    "                                    abs((origcoords[1:] - min_point))*((0.5*deform_lengths[0])/dx)\n",
    "\n",
    "    #print(edge_rest_lengths.shape, deform_lengths.shape)\n",
    "\n",
    "    spmesh.deform_1d(deform_lengths, mesh,axis = 'x',norm = 'Min', constraints = [])"
   ]
  },
  {
   "cell_type": "code",
   "execution_count": 20,
   "metadata": {
    "collapsed": false
   },
   "outputs": [],
   "source": [
    "axis = 1\n",
    "orgs = np.linspace(mesh.minCoord[axis], mesh.maxCoord[axis], mesh.elementRes[axis] + 1)\n",
    "\n",
    "value_to_constrain = MAXY #nodes will remain along this line\n",
    "\n",
    "\n",
    "yconst = [(spmesh.find_closest(orgs, value_to_constrain), np.array([value_to_constrain,0]))]"
   ]
  },
  {
   "cell_type": "code",
   "execution_count": 21,
   "metadata": {
    "collapsed": false,
    "scrolled": true
   },
   "outputs": [
    {
     "name": "stdout",
     "output_type": "stream",
     "text": [
      "Min\n",
      "(64, 0.0078140624999999998, 0.74619374999999988, 1.0313396825396834)\n",
      "('edges', 64)\n",
      "-- iteration 0 --\n",
      "| F( p_n ) |^2: 0.000125895187329\n",
      "| p_n+1 - p_n |^2: 0.550178754655\n",
      "-- iteration 1 --\n",
      "| F( p_n ) |^2: 3.96579068205e-31\n",
      "Min, Max element width: \n",
      "0.00781\n",
      "0.02344\n"
     ]
    }
   ],
   "source": [
    "###########\n",
    "#Mesh refinement\n",
    "###########\n",
    "\n",
    "if refineMesh:\n",
    "    #Y-Axis\n",
    "    axis = 1\n",
    "    origcoords = np.linspace(mesh.minCoord[axis], mesh.maxCoord[axis], mesh.elementRes[axis] + 1)\n",
    "    edge_rest_lengths = np.diff(origcoords)\n",
    "\n",
    "    deform_lengths = edge_rest_lengths.copy()\n",
    "    min_point =  (mesh.maxCoord[axis])\n",
    "    el_reduction = 0.5001\n",
    "    dx = mesh.maxCoord[axis]\n",
    "\n",
    "    deform_lengths = deform_lengths - \\\n",
    "                                    ((1.-el_reduction)*deform_lengths[0]) + \\\n",
    "                                    abs((origcoords[1:] - min_point))*((0.5*deform_lengths[0])/dx)\n",
    "\n",
    "    #print(edge_rest_lengths.shape, deform_lengths.shape)\n",
    "\n",
    "    spmesh.deform_1d(deform_lengths, mesh,axis = 'y',norm = 'Min', constraints = yconst)"
   ]
  },
  {
   "cell_type": "code",
   "execution_count": 22,
   "metadata": {
    "collapsed": false
   },
   "outputs": [],
   "source": [
    "#fig= glucifer.Figure()\n",
    "\n",
    "#fig.append(glucifer.objects.Mesh(mesh))\n",
    "\n",
    "#fig.show()\n",
    "#fig.save_database('test.gldb')"
   ]
  },
  {
   "cell_type": "code",
   "execution_count": 23,
   "metadata": {
    "collapsed": true
   },
   "outputs": [],
   "source": [
    "#THis is a hack for adding a sticky air domain, we refine MAXY and things like the temperature stencil work from Y = 1. \n",
    "\n",
    "if stickyAir:\n",
    "    MAXY = 1."
   ]
  },
  {
   "cell_type": "markdown",
   "metadata": {},
   "source": [
    "Initial conditions\n",
    "-------\n"
   ]
  },
  {
   "cell_type": "code",
   "execution_count": 24,
   "metadata": {
    "collapsed": false
   },
   "outputs": [],
   "source": [
    "coordinate = fn.input()\n",
    "depthFn = MAXY - coordinate[1] #a function providing the depth\n",
    "\n",
    "\n",
    "xFn = coordinate[0]  #a function providing the x-coordinate\n",
    "yFn = coordinate[1]\n"
   ]
  },
  {
   "cell_type": "code",
   "execution_count": 25,
   "metadata": {
    "collapsed": false
   },
   "outputs": [],
   "source": [
    "\n",
    "def age_fn(xFn, sz = 0.0, lMOR=MINX, rMOR=MAXX, opFac=1., conjugate_plate = False):\n",
    "    \"\"\"\n",
    "    Simple function to generate a discrete 1-d (i.e x-coordinate) function for the age of the thermal BC. \n",
    "    All paramters are dimensionless\n",
    "    sz: location of subduction zone\n",
    "    lMOR: location of left-hand MOR\n",
    "    rMOR: location of right-hand MOR\n",
    "    opFac: uniform reduce the age of the right hand plate by this factor\n",
    "    conjugate_plate: if True, build plates on the outer sides of the MORs, if False, age = 0. \n",
    "    \"\"\"\n",
    "    \n",
    "    if lMOR < MINX:\n",
    "        lMOR = MINX\n",
    "    if rMOR > MAXX:\n",
    "        rMOR = MAXX\n",
    "    r_grad =  1./(abs(rMOR-sz))\n",
    "    l_grad =  1./(abs(sz-lMOR))\n",
    "    if conjugate_plate:\n",
    "        ageFn = fn.branching.conditional([(operator.and_(xFn > lMOR, xFn < sz) , (xFn + abs(lMOR))/(abs(sz-lMOR))), \n",
    "                                      (operator.and_(xFn < rMOR, xFn >= sz), (1.-(xFn + abs(sz))/abs(rMOR-sz))*opFac),\n",
    "                                      (xFn > rMOR, r_grad*opFac*(xFn -abs(rMOR)) / (abs(MAXX-rMOR))),\n",
    "                                      (True, l_grad*fn.math.abs((((xFn + abs(lMOR)) / (abs(lMOR - MINX))))))\n",
    "                                         ])\n",
    "    else:    \n",
    "        \n",
    "        ageFn = fn.branching.conditional([(operator.and_(xFn > lMOR, xFn < sz) , (xFn + abs(lMOR))/(abs(sz-lMOR))), \n",
    "                                      (operator.and_(xFn < rMOR, xFn >= sz), (1.-(xFn + abs(sz))/abs(rMOR-sz))*opFac),\n",
    "\n",
    "                                      (True, 0.0)])\n",
    "    return ageFn"
   ]
  },
  {
   "cell_type": "code",
   "execution_count": 26,
   "metadata": {
    "collapsed": false
   },
   "outputs": [],
   "source": [
    "###########\n",
    "#Thermal initial condition - half-space coooling\n",
    "###########\n",
    "\n",
    "\n",
    "#  a few conversions\n",
    "ageAtTrenchSeconds = min(dp.platemaxAge*(3600*24*365), dp.slabmaxAge*(3600*24*365))\n",
    "#slab perturbation params (mostly dimensionless / model params here)\n",
    "phi = 90. - dp.theta\n",
    "Org = (ndp.subzone, MAXY-ndp.roc)\n",
    "\n",
    "#First build the top TBL\n",
    "ageFn = age_fn(xFn, sz =ndp.subzone, lMOR=ndp.lRidge,rMOR=ndp.rRidge, conjugate_plate=True, opFac = dp.op_age_fac)\n",
    "#dimensionlize the age function\n",
    "ageFn *= ageAtTrenchSeconds #seconds to year\n",
    "w0 = (2.*math.sqrt(dp.k*ageAtTrenchSeconds))/dp.LS #diffusion depth of plate at the trench\n",
    "\n",
    "tempBL = (ndp.TP - ndp.TS) *fn.math.erf((depthFn*dp.LS)/(2.*fn.math.sqrt(dp.k*ageFn))) + ndp.TSP #boundary layer function\n",
    "tempTBL =  fn.branching.conditional([(depthFn < w0, tempBL),\n",
    "                          (True, ndp.TPP)])\n",
    "\n",
    "if not symmetricIC:\n",
    "    if not checkpointLoad:\n",
    "        out = uw.utils.MeshVariable_Projection( temperatureField, tempTBL) #apply function with projection\n",
    "        out.solve()\n",
    "\n"
   ]
  },
  {
   "cell_type": "code",
   "execution_count": 27,
   "metadata": {
    "collapsed": false
   },
   "outputs": [],
   "source": [
    "#Now build the perturbation part\n",
    "def inCircleFnGenerator(centre, radius):\n",
    "    coord = fn.input()\n",
    "    offsetFn = coord - centre\n",
    "    return fn.math.dot( offsetFn, offsetFn ) < radius**2\n",
    "\n",
    "\n",
    "\n",
    "#We use three circles to define our slab and crust perturbation,  \n",
    "Oc = inCircleFnGenerator(Org , ndp.roc)\n",
    "Ic = inCircleFnGenerator(Org , ndp.roc - w0)\n",
    "Cc = inCircleFnGenerator(Org , ndp.roc - (1.2*ndp.MANTLETOCRUST)) #... weak zone on 'outside' of slab\n",
    "Hc = inCircleFnGenerator(Org , ndp.roc - ndp.HARZBURGDEPTH) #... Harzburgite layer \n",
    "dx = (ndp.roc)/(np.math.tan((np.math.pi/180.)*phi))\n",
    "\n",
    "#We'll also create a triangle which will truncate the circles defining the slab...\n",
    "if dp.sense == 'Left':\n",
    "    ptx = ndp.subzone - dx\n",
    "else:\n",
    "    ptx = ndp.subzone + dx\n",
    "coords = ((0.+ ndp.subzone, MAXY), (0.+ ndp.subzone, MAXY-ndp.roc), (ptx, MAXY))\n",
    "Tri = fn.shape.Polygon(np.array(coords))\n",
    "\n",
    "#Actually apply the perturbation - could probably avoid particle walk here\n",
    "if not symmetricIC:\n",
    "    if not checkpointLoad:\n",
    "        sdFn = ((ndp.roc - fn.math.sqrt((coordinate[0] - Org[0])**2. + (coordinate[1] - Org[1])**2.)))\n",
    "        slabFn = ndp.TPP*fn.math.erf((sdFn*dp.LS)/(2.*math.sqrt(dp.k*ageAtTrenchSeconds))) + ndp.TSP\n",
    "        for index, coord in enumerate(mesh.data):\n",
    "            if (\n",
    "                Oc.evaluate(tuple(coord)) and\n",
    "                Tri.evaluate(tuple(coord)) and not\n",
    "                Ic.evaluate(tuple(coord)) and\n",
    "                coord[1] > (MAXY - ndp.maxDepth)\n",
    "                ): #In the quarter-circle defining the lithosphere\n",
    "                temperatureField.data[index] = slabFn.evaluate(mesh)[index]\n"
   ]
  },
  {
   "cell_type": "code",
   "execution_count": 28,
   "metadata": {
    "collapsed": false
   },
   "outputs": [],
   "source": [
    "#sdFn = ((RocM - fn.math.sqrt((coordinate[0] - Org[0])**2. + (coordinate[1] - Org[1])**2.)))\n",
    "#slabFn = ndp.TPP*fn.math.erf((sdFn*dp.LS)/(2.*math.sqrt(dp.k*ageAtTrenchSeconds))) + ndp.TSP\n",
    "#sdFn, slabFn"
   ]
  },
  {
   "cell_type": "code",
   "execution_count": 29,
   "metadata": {
    "collapsed": false
   },
   "outputs": [],
   "source": [
    "#Make sure material in sticky air region is at the surface temperature.\n",
    "for index, coord in enumerate(mesh.data):\n",
    "            if coord[1] >= MAXY:\n",
    "                temperatureField.data[index] = ndp.TSP"
   ]
  },
  {
   "cell_type": "code",
   "execution_count": 30,
   "metadata": {
    "collapsed": false
   },
   "outputs": [],
   "source": [
    "#fn.math.erf((sdFn*dp.LS)/(2.*fn.math.sqrt(dp.k*(slabmaxAge*(3600*24*365))))) \n",
    "#CRUSTVISCUTOFF, MANTLETOCRUST*3"
   ]
  },
  {
   "cell_type": "markdown",
   "metadata": {
    "collapsed": false
   },
   "source": [
    "def matplot_field(temperatureField, dp):\n",
    "    if uw.nProcs() != 1:\n",
    "        print(\"only in Serial folks\")\n",
    "    else:\n",
    "        import matplotlib.pyplot as pyplt\n",
    "        try :\n",
    "            if(__IPYTHON__) :\n",
    "                get_ipython().magic(u'matplotlib inline')\n",
    "        except NameError :\n",
    "            pass\n",
    "        field_data = temperatureField.data.reshape(mesh.elementRes[1] + 1, mesh.elementRes[0] + 1)\n",
    "        fig, ax = pyplt.subplots(figsize=(32,2))\n",
    "        ql = dp.LS/1e3\n",
    "        pyplt.ioff()\n",
    "        cax =ax.imshow(np.flipud(field_data), cmap='coolwarm', aspect = 0.5, extent=[0,ql*aspectRatio,ql, 0])\n",
    "        fig.colorbar(cax, orientation='horizontal' )\n",
    "        #ax.set_x([0,dp.LS*aspectRatio])\n",
    "        pyplt.tight_layout()\n",
    "        \n",
    "        return fig, ax\n",
    "        \n",
    "fig, ax = matplot_field(temperatureField, dp)\n",
    "fig.savefig('test.png')       "
   ]
  },
  {
   "cell_type": "code",
   "execution_count": 31,
   "metadata": {
    "collapsed": false
   },
   "outputs": [
    {
     "data": {
      "text/plain": [
       "(0.0, 1.0)"
      ]
     },
     "execution_count": 31,
     "metadata": {},
     "output_type": "execute_result"
    }
   ],
   "source": [
    "temperatureField.data.min(), temperatureField.data.max()"
   ]
  },
  {
   "cell_type": "code",
   "execution_count": null,
   "metadata": {
    "collapsed": false
   },
   "outputs": [],
   "source": [
    "\n"
   ]
  },
  {
   "cell_type": "code",
   "execution_count": 32,
   "metadata": {
    "collapsed": false
   },
   "outputs": [],
   "source": [
    "\n",
    "#ageFn = age_fn(xFn)"
   ]
  },
  {
   "cell_type": "code",
   "execution_count": 33,
   "metadata": {
    "collapsed": false
   },
   "outputs": [],
   "source": [
    "\n",
    "#fig= glucifer.Figure(quality=3)\n",
    "\n",
    "#fig.append( glucifer.objects.Surface(mesh,temperatureField ))\n",
    "#fig.append( glucifer.objects.Mesh(mesh))\n",
    "#fig.show()\n",
    "\n",
    "##fig.save_database('test.gldb')\n",
    "#fig.save_image('test.png')\n"
   ]
  },
  {
   "cell_type": "markdown",
   "metadata": {},
   "source": [
    "Boundary conditions\n",
    "-------"
   ]
  },
  {
   "cell_type": "code",
   "execution_count": 34,
   "metadata": {
    "collapsed": false
   },
   "outputs": [
    {
     "name": "stdout",
     "output_type": "stream",
     "text": [
      "2\n"
     ]
    }
   ],
   "source": [
    "for index in mesh.specialSets[\"MinJ_VertexSet\"]:\n",
    "    temperatureField.data[index] = ndp.TBP\n",
    "for index in mesh.specialSets[\"MaxJ_VertexSet\"]:\n",
    "    temperatureField.data[index] = ndp.TSP\n",
    "    \n",
    "iWalls = mesh.specialSets[\"MinI_VertexSet\"] + mesh.specialSets[\"MaxI_VertexSet\"]\n",
    "jWalls = mesh.specialSets[\"MinJ_VertexSet\"] + mesh.specialSets[\"MaxJ_VertexSet\"]\n",
    "tWalls = mesh.specialSets[\"MaxJ_VertexSet\"]\n",
    "bWalls =mesh.specialSets[\"MinJ_VertexSet\"]\n",
    "\n",
    "VelBCs = mesh.specialSets[\"Empty\"]\n",
    "\n",
    "\n",
    "\n",
    "if VelBC:\n",
    "    for index in list(tWalls.data):\n",
    "\n",
    "        if (mesh.data[int(index)][0] < (ndp.subzone - 0.05*aspectRatio) and \n",
    "            mesh.data[int(index)][0] > (mesh.minCoord[0] + 0.05*aspectRatio)): #Only push with a portion of teh overiding plate\n",
    "            #print \"first\"\n",
    "            VelBCs.add(int(index))\n",
    "            #Set the plate velocities for the kinematic phase\n",
    "            velocityField.data[index] = [ndp.plate_vel, 0.]\n",
    "        \n",
    "        elif (mesh.data[int(index)][0] > (ndp.subzone + 0.05*aspectRatio) and \n",
    "            mesh.data[int(index)][0] < (mesh.maxCoord[0] - 0.05*aspectRatio)):\n",
    "            #print \"second\"\n",
    "            VelBCs.add(int(index))\n",
    "            #Set the plate velocities for the kinematic phase\n",
    "            velocityField.data[index] = [0., 0.]\n",
    "        \n",
    "\n",
    "#If periodic, we'll fix a the x-vel at a single node - at the bottom left (index 0)\n",
    "Fixed = mesh.specialSets[\"Empty\"]\n",
    "Fixed.add(int(0))        \n",
    "        \n",
    "\n",
    "if periodic[0] == False:\n",
    "    if VelBC:\n",
    "        print(1)\n",
    "        freeslipBC = uw.conditions.DirichletCondition( variable      = velocityField, \n",
    "                                               indexSetsPerDof = ( iWalls + VelBCs, jWalls) )\n",
    "    else:\n",
    "        print(2)\n",
    "        freeslipBC = uw.conditions.DirichletCondition( variable      = velocityField, \n",
    "                                               indexSetsPerDof = ( iWalls, jWalls) )\n",
    "\n",
    "\n",
    "\n",
    "\n",
    "\n",
    "\n",
    "if periodic[0] == True:\n",
    "    if VelBC:\n",
    "        print(3)\n",
    "        freeslipBC = uw.conditions.DirichletCondition( variable      = velocityField, \n",
    "                                               indexSetsPerDof = ( Fixed + VelBCs , jWalls) )\n",
    "    else:\n",
    "        print(4)\n",
    "        freeslipBC = uw.conditions.DirichletCondition( variable      = velocityField, \n",
    "                                               indexSetsPerDof = ( Fixed, jWalls) )\n",
    "        \n",
    "    \n",
    "    \n",
    "    \n",
    "# also set dirichlet for temp field\n",
    "dirichTempBC = uw.conditions.DirichletCondition(     variable=temperatureField, \n",
    "                                              indexSetsPerDof=(tWalls,) )\n",
    "dT_dy = [0.,0.]\n",
    "\n",
    "# also set dirichlet for temp field\n",
    "neumannTempBC = uw.conditions.NeumannCondition( dT_dy, variable=temperatureField, \n",
    "                                         nodeIndexSet=bWalls)\n",
    "\n"
   ]
  },
  {
   "cell_type": "code",
   "execution_count": null,
   "metadata": {
    "collapsed": false
   },
   "outputs": [],
   "source": []
  },
  {
   "cell_type": "code",
   "execution_count": 35,
   "metadata": {
    "collapsed": false
   },
   "outputs": [],
   "source": [
    "#check VelBCs are where we want them\n",
    "#test = np.zeros(len(tWalls.data))\n",
    "#VelBCs\n",
    "#tWalls.data\n",
    "#tWalls.data[VelBCs.data]\n",
    "#test[np.in1d(tWalls.data, VelBCs.data)] = 1.\n",
    "#test\n",
    "\n"
   ]
  },
  {
   "cell_type": "code",
   "execution_count": null,
   "metadata": {
    "collapsed": false
   },
   "outputs": [],
   "source": []
  },
  {
   "cell_type": "markdown",
   "metadata": {},
   "source": [
    "Swarm setup\n",
    "-----\n"
   ]
  },
  {
   "cell_type": "code",
   "execution_count": 36,
   "metadata": {
    "collapsed": false
   },
   "outputs": [],
   "source": [
    "###########\n",
    "#Material Swarm and variables\n",
    "###########\n",
    "\n",
    "#create material swarm\n",
    "gSwarm = uw.swarm.Swarm(mesh=mesh, particleEscape=True)\n",
    "\n",
    "#create swarm variables\n",
    "yieldingCheck = gSwarm.add_variable( dataType=\"int\", count=1 )\n",
    "#tracerVariable = gSwarm.add_variable( dataType=\"int\", count=1)\n",
    "materialVariable = gSwarm.add_variable( dataType=\"int\", count=1 )\n",
    "ageVariable = gSwarm.add_variable( dataType=\"double\", count=1 )\n",
    "#testVariable = gSwarm.add_variable( dataType=\"float\", count=1 )\n",
    "\n",
    "\n",
    "#these lists  are part of the checkpointing implementation\n",
    "varlist = [materialVariable, yieldingCheck, ageVariable]\n",
    "varnames = ['materialVariable', 'yieldingCheck', 'ageVariable']"
   ]
  },
  {
   "cell_type": "code",
   "execution_count": 37,
   "metadata": {
    "collapsed": false
   },
   "outputs": [],
   "source": [
    "mantleIndex = 0\n",
    "crustIndex = 1\n",
    "harzIndex = 2\n",
    "airIndex = 3\n",
    "\n",
    "\n",
    "\n",
    "if checkpointLoad:\n",
    "    temperatureField.load(os.path.join(checkpointLoadDir, \"temperatureField\" + \".hdf5\"))\n",
    "    pressureField.load(os.path.join(checkpointLoadDir, \"pressureField\" + \".hdf5\"))\n",
    "    velocityField.load(os.path.join(checkpointLoadDir, \"velocityField\" + \".hdf5\"))\n",
    "    gSwarm.load(os.path.join(checkpointLoadDir, \"swarm\" + \".h5\"))\n",
    "    for ix in range(len(varlist)):\n",
    "        varb = varlist[ix]\n",
    "        varb.load(os.path.join(checkpointLoadDir,varnames[ix] + \".h5\"))\n",
    "\n",
    "else:\n",
    "\n",
    "    # Layouts are used to populate the swarm across the whole domain\n",
    "    layout = uw.swarm.layouts.PerCellRandomLayout(swarm=gSwarm, particlesPerCell=ppc)\n",
    "    gSwarm.populate_using_layout( layout=layout ) # Now use it to populate.\n",
    "    # Swarm variables\n",
    "    materialVariable.data[:] = mantleIndex\n",
    "    #tracerVariable.data[:] = 1\n",
    "    yieldingCheck.data[:] = 0\n",
    "    ageVariable.data[:] = -1\n",
    "\n",
    "    #Set initial air and crust materials (allow the graph to take care of lithsophere)\n",
    "    #########\n",
    "    #This initial material setup will be model dependent\n",
    "    #########\n",
    "    for particleID in range(gSwarm.particleCoordinates.data.shape[0]):\n",
    "        if (1. - gSwarm.particleCoordinates.data[particleID][1]) < ndp.MANTLETOCRUST:\n",
    "                 materialVariable.data[particleID] = crustIndex"
   ]
  },
  {
   "cell_type": "markdown",
   "metadata": {
    "collapsed": false
   },
   "source": [
    "###########\n",
    "#This block sets up a checkboard layout of passive tracers\n",
    "###########\n",
    "\n",
    "square_size = 0.1\n",
    "xlist = np.arange(mesh.minCoord[0] + square_size/2., mesh.maxCoord[0] + square_size/2., square_size)\n",
    "xlist = zip(xlist[:], xlist[1:])[::2]\n",
    "ylist = np.arange(mesh.minCoord[1] + square_size/2., mesh.maxCoord[1] + square_size/2., square_size)\n",
    "ylist = zip(ylist[:], ylist[1:])[::2]\n",
    "xops = []\n",
    "for vals in xlist:\n",
    "    xops.append( (operator.and_(   operator.gt(coordinate[0],vals[0]),   operator.lt(coordinate[0],vals[1])  ),0.) )\n",
    "xops.append((True,1.))\n",
    "\n",
    "testfunc = fn.branching.conditional(xops) \n",
    "\n",
    "yops = []\n",
    "for vals in ylist:\n",
    "    yops.append( (operator.and_(   operator.gt(coordinate[1],vals[0]),   operator.lt(coordinate[1],vals[1])  ),0.) )\n",
    "yops.append((True,testfunc))\n",
    "\n",
    "testfunc2 = fn.branching.conditional(yops) \n",
    "tracerVariable.data[:] = testfunc.evaluate(gSwarm)\n",
    "tracerVariable.data[:] = testfunc2.evaluate(gSwarm)"
   ]
  },
  {
   "cell_type": "code",
   "execution_count": null,
   "metadata": {
    "collapsed": false
   },
   "outputs": [],
   "source": []
  },
  {
   "cell_type": "code",
   "execution_count": 38,
   "metadata": {
    "collapsed": false
   },
   "outputs": [],
   "source": [
    "##############\n",
    "#Set the initial particle age for particles above the critical depth; \n",
    "#only material older than crustageCond will be transformed to crust / harzburgite\n",
    "##############\n",
    "\n",
    "ageVariable.data[:] = 0. #start with all zero\n",
    "ageVariable.data[:] = ageFn.evaluate(gSwarm)/sf.SR\n",
    "crustageCond = 2e6*(3600.*365.*24.)/sf.SR #set inital age above critical depth. (x...Ma)\n",
    "\n",
    "\n",
    "\n",
    "ageConditions = [ (depthFn < ndp.AGETRACKDEPTH, ageVariable),  #In the main loop we add ageVariable + dt here\n",
    "                  (True, 0.) ]\n",
    "                 \n",
    "#apply conditional \n",
    "ageVariable.data[:] = fn.branching.conditional( ageConditions ).evaluate(gSwarm)\n",
    "\n",
    "ageDT = 0.#this is used in the main loop for short term time increments"
   ]
  },
  {
   "cell_type": "code",
   "execution_count": 39,
   "metadata": {
    "collapsed": false
   },
   "outputs": [],
   "source": [
    "#fig= glucifer.Figure()\n",
    "#fig.append( glucifer.objects.Points(gSwarm,ageVariable))\n",
    "#fig.append( glucifer.objects.Points(gSwarm, viscosityMapFn, logScale=True, valueRange =[1e-3,1e5]))\n",
    "\n",
    "\n",
    "#fig.show()"
   ]
  },
  {
   "cell_type": "code",
   "execution_count": 40,
   "metadata": {
    "collapsed": false
   },
   "outputs": [],
   "source": [
    "##############\n",
    "#Here we set up a directed graph object that we we use to control the transformation from one material type to another\n",
    "##############\n",
    "\n",
    "#All depth conditions are given as (km/D) where D is the length scale,\n",
    "#note that 'model depths' are used, e.g. 1-z, where z is the vertical Underworld coordinate\n",
    "#All temp conditions are in dimensionless temp. [0. - 1.]\n",
    "\n",
    "#Need a list of all material indexes (safer in parallel)\n",
    "material_list = [0,1,2,3]\n",
    "\n",
    "if not checkpointLoad:\n",
    "    materialVariable.data[:] = 0 #Initialize to zero \n",
    "\n",
    "#Setup the graph object\n",
    "DG = material_graph.MatGraph()\n",
    "\n",
    "#Important: First thing to do is to add all the material types to the graph (i.e add nodes)\n",
    "DG.add_nodes_from(material_list)\n",
    "\n",
    "#Now set the conditions for transformations\n",
    "\n",
    "hs = 2e3/dp.LS  #add some hysteresis to the depths of transition\n",
    "\n",
    "#... to mantle\n",
    "DG.add_transition((crustIndex,mantleIndex), depthFn, operator.gt, ndp.CRUSTTOMANTLE + hs)\n",
    "DG.add_transition((harzIndex,mantleIndex), depthFn, operator.gt, ndp.CRUSTTOMANTLE + hs)\n",
    "DG.add_transition((airIndex,mantleIndex), depthFn, operator.gt, ndp.TOPOHEIGHT + hs)\n",
    "\n",
    "#... to crust\n",
    "DG.add_transition((mantleIndex,crustIndex), depthFn, operator.lt, ndp.MANTLETOCRUST)\n",
    "DG.add_transition((mantleIndex,crustIndex), xFn, operator.lt, ndp.subzone + 4.*ndp.MANTLETOCRUST) #No crust on the upper plate\n",
    "DG.add_transition((mantleIndex,crustIndex), ageVariable, operator.gt, crustageCond)\n",
    "\n",
    "\n",
    "DG.add_transition((harzIndex,crustIndex), depthFn, operator.lt, ndp.MANTLETOCRUST)\n",
    "DG.add_transition((harzIndex,crustIndex), xFn, operator.lt, ndp.subzone + 4.*ndp.MANTLETOCRUST) #This one sets no crust on the upper plate\n",
    "DG.add_transition((harzIndex,crustIndex), ageVariable, operator.gt, crustageCond)\n",
    "\n",
    "#... to Harzbugite\n",
    "DG.add_transition((mantleIndex,harzIndex), depthFn, operator.lt, ndp.HARZBURGDEPTH)\n",
    "DG.add_transition((mantleIndex,harzIndex), depthFn, operator.gt, ndp.MANTLETOCRUST)\n",
    "DG.add_transition((mantleIndex,harzIndex), ageVariable, operator.gt, crustageCond) #Note we can mix functions and swarm variabls\n",
    "\n",
    "\n",
    "\n",
    "#... to air\n",
    "DG.add_transition((mantleIndex,airIndex), depthFn, operator.lt,0.)\n",
    "DG.add_transition((crustIndex,airIndex), depthFn, operator.lt, 0. )\n",
    "DG.add_transition((harzIndex,airIndex), depthFn, operator.lt, 0. )\n"
   ]
  },
  {
   "cell_type": "code",
   "execution_count": 41,
   "metadata": {
    "collapsed": false
   },
   "outputs": [],
   "source": [
    "#CRUSTTOMANTLE, HARZBURGDEPTH, 0. + 7.*MANTLETOCRUST"
   ]
  },
  {
   "cell_type": "code",
   "execution_count": 42,
   "metadata": {
    "collapsed": false
   },
   "outputs": [],
   "source": [
    "#gSwarm.particleCoordinates.data[particleID][1]"
   ]
  },
  {
   "cell_type": "code",
   "execution_count": 43,
   "metadata": {
    "collapsed": false
   },
   "outputs": [],
   "source": [
    "##############\n",
    "#For the slab_IC, we'll also add a crustal weak zone following the dipping perturbation\n",
    "##############\n",
    "\n",
    "if checkpointLoad != True:\n",
    "    if not symmetricIC:\n",
    "        for particleID in range(gSwarm.particleCoordinates.data.shape[0]):\n",
    "            if gSwarm.particleCoordinates.data[particleID][1] < 0.:\n",
    "                materialVariable.data[particleID] = airIndex\n",
    "                \n",
    "            elif (\n",
    "                Oc.evaluate(list(gSwarm.particleCoordinates.data[particleID])) and\n",
    "                Tri.evaluate(list(gSwarm.particleCoordinates.data[particleID])) and\n",
    "                gSwarm.particleCoordinates.data[particleID][1] > (MAXY - ndp.maxDepth) and\n",
    "                Cc.evaluate(list(gSwarm.particleCoordinates.data[particleID])) == False\n",
    "                \n",
    "                ):\n",
    "                materialVariable.data[particleID] = crustIndex\n",
    "                \n",
    "            elif (\n",
    "                Oc.evaluate(list(gSwarm.particleCoordinates.data[particleID])) and\n",
    "                Tri.evaluate(list(gSwarm.particleCoordinates.data[particleID])) and\n",
    "                gSwarm.particleCoordinates.data[particleID][1] > (MAXY - ndp.maxDepth) and\n",
    "                Hc.evaluate(list(gSwarm.particleCoordinates.data[particleID])) == False\n",
    "                \n",
    "                ):\n",
    "                materialVariable.data[particleID] = harzIndex"
   ]
  },
  {
   "cell_type": "code",
   "execution_count": 44,
   "metadata": {
    "collapsed": false
   },
   "outputs": [],
   "source": [
    "##############\n",
    "#This is how we use the material graph object to test / apply material transformations\n",
    "##############\n",
    "DG.build_condition_list(materialVariable)\n",
    "\n",
    "for i in range(2): #Need to go through a number of times\n",
    "    materialVariable.data[:] = fn.branching.conditional(DG.condition_list).evaluate(gSwarm)"
   ]
  },
  {
   "cell_type": "code",
   "execution_count": 45,
   "metadata": {
    "collapsed": false
   },
   "outputs": [],
   "source": [
    "#maxDepth"
   ]
  },
  {
   "cell_type": "code",
   "execution_count": 46,
   "metadata": {
    "collapsed": false
   },
   "outputs": [],
   "source": [
    "#fig2= glucifer.Figure()\n",
    "#fig2.append( glucifer.objects.Points(gSwarm,materialVariable))\n",
    "#fig2.append( glucifer.objects.Surface(mesh, depthFn))\n",
    "\n",
    "#fig2.show()\n",
    "#fig2.save_database('test.gldb')"
   ]
  },
  {
   "cell_type": "markdown",
   "metadata": {
    "collapsed": false
   },
   "source": [
    "## Fault stuff\n",
    "\n"
   ]
  },
  {
   "cell_type": "code",
   "execution_count": 47,
   "metadata": {
    "collapsed": true
   },
   "outputs": [],
   "source": [
    "import marker2D"
   ]
  },
  {
   "cell_type": "code",
   "execution_count": 48,
   "metadata": {
    "collapsed": true
   },
   "outputs": [],
   "source": [
    "def update_swarm_from_faults(faults, proximityVariable, normalVectorVariable, signedDistanceVariable):\n",
    "    \"\"\"\n",
    "    Compute fault attributes from the marker-line objects in the 'faults' list.\n",
    "    Specifically:\n",
    "    \n",
    "      - proximityVariable carries information about which fault each swarm particle is close to (0 means none)\n",
    "      - normalVectorVariable maps the orientation of the fault to nearby swarm particles\n",
    "      - signedDistanceVariable carries the distance (positive means 'inside')  \n",
    "      \n",
    "      Unchecked error: if these variables are from different swarms \n",
    "      \n",
    "    \"\"\"\n",
    "    \n",
    "    for fault_seg in faults:\n",
    "\n",
    "        swarm = proximityVariable.swarm\n",
    "        \n",
    "        f, nz = fault_seg.compute_marker_proximity(swarm.particleCoordinates.data)    \n",
    "        proximityVariable.data[nz] = f[nz]\n",
    "\n",
    "        dv, nzv = fault_seg.compute_normals(swarm.particleCoordinates.data)\n",
    "        normalVectorVariable.data[nzv] = dv[nzv]\n",
    "\n",
    "        sd, dnz = fault_seg.compute_signed_distance(swarm.particleCoordinates.data)\n",
    "        signedDistanceVariable.data[dnz] = sd[dnz]\n",
    "    \n",
    "    return\n",
    "\n",
    "\n",
    "def update_swarm_from_line(fault, signedDistanceVariable):\n",
    "    \"\"\"\n",
    "    Compute fault attributes from the marker-line objects in the 'faults' list.\n",
    "    Specifically:\n",
    "    \n",
    "      - proximityVariable carries information about which fault each swarm particle is close to (0 means none)\n",
    "      - normalVectorVariable maps the orientation of the fault to nearby swarm particles\n",
    "      - signedDistanceVariable carries the distance (positive means 'inside')  \n",
    "      \n",
    "      Unchecked error: if these variables are from different swarms \n",
    "      \n",
    "    \"\"\"\n",
    "        \n",
    "    sd, dnz = fault.compute_signed_distance(gSwarm.particleCoordinates.data)\n",
    "    signedDistanceVariable.data[dnz] = sd[dnz]\n",
    "    \n",
    "    return\n",
    "\n",
    "\n",
    "def mask_materials(fault, material, materialVariable, proximityVariable, normalVectorVariable, signedDistanceVariable):\n",
    "\n",
    "    \"\"\"\n",
    "    set the key fault-related swarm variabels to zero, based on material typr\n",
    "    \"\"\"\n",
    "    \n",
    "    fptsMask1 = (materialVariable.data[:,0] != material)\n",
    "    fptsMask2 = (proximityVariable.data[:,0] == fault.ID )\n",
    "\n",
    "    fptsMaskOut = fptsMask1 & fptsMask2\n",
    "\n",
    "    normalVectorVariable.data[fptsMaskOut,:] = [0.0,0.0]\n",
    "    proximityVariable.data[fptsMaskOut] = 0\n",
    "    signedDistanceVariable.data[fptsMaskOut] = 0.0\n",
    "    \n",
    "    \n",
    "def fault_strainrate_fns(fault_list, velocityField, faultNormalVariable, proximityproVariable):\n",
    "\n",
    "    ## This is a quick / short cut way to find the resolved stress components.\n",
    "    \n",
    "    strainRateFn = fn.tensor.symmetric( velocityField.fn_gradient )\n",
    "\n",
    "\n",
    "    #  n1 * edot_11 * n1 + \n",
    "    #  n2 * edot_21 * n1 + \n",
    "    #  n1 * edot_21 * n2 +\n",
    "    #  n2 * edot_22 * n2 \n",
    "\n",
    "#     _edotn_SFn = ( directorVector[0] * strainRateFn[0] * directorVector[0] + \n",
    "#                    directorVector[1] * strainRateFn[2] * directorVector[0] + # Symmetry !! \n",
    "#                    directorVector[0] * strainRateFn[2] * directorVector[1] + \n",
    "#                    directorVector[1] * strainRateFn[1] * directorVector[1]                          \n",
    "#                 )\n",
    "    \n",
    "    \n",
    "    ## \"OPTIMIZED\" VERSION\n",
    "    \n",
    "    _edotn_SFn = (        directorVector[0]**2 * strainRateFn[0]  + \n",
    "                    2.0 * directorVector[1]    * strainRateFn[2] * directorVector[0] + \n",
    "                          directorVector[1]**2 * strainRateFn[1]                          \n",
    "                ) \n",
    "\n",
    "    # any non-zero proximity requires the computation of the above\n",
    "    \n",
    "    _edotn_SFn_Map    = { 0: 0.0 }\n",
    "    for f in fault_list:\n",
    "        _edotn_SFn_Map[f.ID] =  _edotn_SFn\n",
    "\n",
    "\n",
    "    #  s1 = -n2\n",
    "    #  s2 =  n1\n",
    "    #\n",
    "    # -n2 * edot_11 * n1 + \n",
    "    #  n1 * edot_21 * n1 + \n",
    "    # -n2 * edot_21 * n2 + \n",
    "    #  n1 * edot_22 * n2     \n",
    "\n",
    "#     _edots_SFn = ( -directorVector[1] * strainRateFn[0] * directorVector[0] + \n",
    "#                     directorVector[0] * strainRateFn[2] * directorVector[0] + \n",
    "#                    -directorVector[1] * strainRateFn[2] * directorVector[1] + \n",
    "#                     directorVector[0] * strainRateFn[1] * directorVector[1] \n",
    "#                 )\n",
    "    \n",
    "    ## \"OPTIMIZED\" VERSION\n",
    "\n",
    "   \n",
    "    _edots_SFn = (  directorVector[0] *  directorVector[1] *(strainRateFn[1] - strainRateFn[0]) +\n",
    "                    strainRateFn[2] * (directorVector[0]**2 - directorVector[1]**2)\n",
    "                 )\n",
    "    \n",
    "  \n",
    "    _edots_SFn_Map = { 0: 1.0e-15 }\n",
    "    \n",
    "    for f in fault_list:\n",
    "        _edots_SFn_Map[f.ID] =  _edots_SFn\n",
    "        \n",
    "        \n",
    "    #Finally, map the resolved strain rate to the proximity variable, \n",
    "    #which also makes resolved strain rate zero whereever proximity variable is zero \n",
    "\n",
    "\n",
    "    edotn_SFn =     fn.branching.map( fn_key = proximityVariable, \n",
    "                                      mapping = _edotn_SFn_Map)\n",
    "\n",
    "\n",
    "    edots_SFn =     fn.branching.map( fn_key = proximityVariable, \n",
    "                                      mapping = _edots_SFn_Map )\n",
    "\n",
    "    \n",
    "    return edotn_SFn, edots_SFn\n",
    "\n",
    "\n",
    "## Time update\n",
    "\n",
    "def faults_advance_in_time(faults,proximityVariable, directorVector, signedDistanceVariable, materialVariable, mmask):\n",
    "    for f in faults:\n",
    "        f.advection(dt)\n",
    "\n",
    "\n",
    "    update_swarm_from_faults(faults, proximityVariable, directorVector, signedDistanceVariable)\n",
    "    mask_materials(materialV, materialVariable, proximityVariable, directorVector, signedDistanceVariable)"
   ]
  },
  {
   "cell_type": "code",
   "execution_count": 49,
   "metadata": {
    "collapsed": true
   },
   "outputs": [],
   "source": [
    "introPoint = ndp.subzone - abs(ndp.subzone - ndp.lRidge)/2. #half way between ridge and Sz\n",
    "fthickness = ndp.MANTLETOCRUST/2. #initiale fault at half-depth of crust\n",
    "nfault = 200\n",
    "faultCoords =np.zeros((nfault, 2))\n",
    "\n",
    "reducedRocM = ndp.roc  - fthickness\n",
    "xlimslab = reducedRocM*math.cos(math.pi*(90. - dp.theta)/180)\n",
    "faultCoords[:, 0] = np.linspace(introPoint, ndp.subzone + xlimslab, nfault) #note SZ location is hardcoded here \n",
    "for index, xval in np.ndenumerate(faultCoords[:,0]):\n",
    "    #print index, xval\n",
    "    #swarmCoords[index[0], 1] = 1. - isodepthFn.evaluate((xval, 0.)) #This bit for the plate \n",
    "    if  xval < 0.:\n",
    "        faultCoords[index[0], 1] = 1. - fthickness #This bit for the plate \n",
    "        \n",
    "    else:\n",
    "        faultCoords[index[0], 1] = (1. - (fthickness) - (reducedRocM - ( math.sqrt((reducedRocM**2 - xval**2)))))\n",
    "        \n",
    "    \n",
    "faultCoords = faultCoords[faultCoords[:,1] > (1. - ndp.maxDepth)] #kill any deeper than cutoff\n",
    "\n",
    "\n",
    "\n",
    "\n",
    "#surface tracer:\n",
    "\n",
    "surfaceCoords =np.ones((nfault, 2))*1.\n",
    "surfaceCoords[:,0] = np.linspace(MINX, MAXX, nfault)"
   ]
  },
  {
   "cell_type": "code",
   "execution_count": 50,
   "metadata": {
    "collapsed": false
   },
   "outputs": [],
   "source": [
    "#from unsupported.interfaces import markerLine2D\n",
    "faults = []\n",
    "fault_seg  = marker2D.markerLine2D(mesh, velocityField, faultCoords[:, 0], faultCoords[:, 1], fthickness, 0.0, 0.0, crustIndex)\n",
    "faults.append(fault_seg)\n",
    "\n",
    "fault_seg  = marker2D.markerLine2D(mesh, velocityField, surfaceCoords[:, 0], surfaceCoords[:, 1], ndp.StALS, 0.0, 0.0, airIndex)\n",
    "faults.append(fault_seg)\n",
    "\n",
    "\n",
    "#Add the necessary swarm variables\n",
    "\n",
    "proximityVariable      = gSwarm.add_variable( dataType=\"int\", count=1 )\n",
    "signedDistanceVariable = gSwarm.add_variable( dataType=\"float\", count=1 )\n",
    "directorVector   = gSwarm.add_variable( dataType=\"double\", count=2)\n",
    "\n",
    "directorVector.data[:,:] = 0.0\n",
    "proximityVariable.data[:] = 0\n",
    "signedDistanceVariable.data[:] = 0.0\n",
    "\n",
    "\n",
    "\n",
    "# Call the Fault helper functions to initialize this info on the main material swarm\n",
    "\n",
    "    \n",
    "    \n",
    "update_swarm_from_faults(faults[1:], proximityVariable, directorVector, signedDistanceVariable)\n",
    "mask_materials(faults[1], airIndex, materialVariable, proximityVariable, directorVector, signedDistanceVariable)\n",
    "\n",
    "\n",
    "update_swarm_from_faults(faults[0:-1], proximityVariable, directorVector, signedDistanceVariable)\n",
    "mask_materials(faults[0], crustIndex, materialVariable, proximityVariable, directorVector, signedDistanceVariable)\n",
    "\n",
    "#Also switch off proximity beneath ndp.CRUSTVISCUTOFF depth\n",
    "proximityVariable.data[gSwarm.particleCoordinates.data[:,1]  < (1. - ndp.CRUSTVISCUTOFF)] = 0. \n",
    "\n",
    "\n",
    "# These should be general enough not to need updating when the faults move etc..\n",
    "#ie they should update as the fields/functions/swarm variables they are built on update\n",
    "edotn_SFn, edots_SFn = fault_strainrate_fns(faults, velocityField, directorVector, proximityVariable)"
   ]
  },
  {
   "cell_type": "code",
   "execution_count": null,
   "metadata": {
    "collapsed": false
   },
   "outputs": [],
   "source": []
  },
  {
   "cell_type": "code",
   "execution_count": 51,
   "metadata": {
    "collapsed": false
   },
   "outputs": [
    {
     "data": {
      "text/html": [
       "<img src='data:image/png;base64,iVBORw0KGgoAAAANSUhEUgAABLAAAAGQCAIAAAAx1w4JAAAgAElEQVR4nOy9eZxcV3Wou/YZau557lZLarVmS7Zk4QEbbGMb22AIQyDBcElC7n2BGx4khAfh3ZebkOEmIQkhkGASIARDMLPNYGMGO8YCz8i2ZFnW1Bp6noeaq86w3x/V3SpVnXNqn2GfOq1e3w/k6qo9rL32uPZap4pQSgFBEARBEARBEARZfwj1FgBBEARBEARBEASpD2gQIgiCIAiCIAiCrFPQIEQQBEEQBEEQBFmnoEGIIAiCIAiCIAiyTkGDEEEQBEEQBEEQZJ2CBiGCIAiCIAiCIMg6BQ1CBEEQBEEQBEGQdQoahAiCIAiCIAiCIOsUNAgRBEEQBEEQBEHWKWgQIgiCIAiCIAiCrFPQIEQQBEEQBEEQBFmnoEGIIAiCIAiCIAiyTkGDEEEQBEEQBEEQZJ2CBiGCIAiCIAiCIMg6BQ1CBEEQBEEQBEGQdQoahAiCIAiCIAiCIOsUNAgRBEEQBEEQBEHWKWgQIgiCIAiCIAiCrFPQIEQQBEEQBEEQBFmnoEGIIAiCIAiCIAiyTkGDEEEQBEEQBEEQZJ2CBiGCIAiCIAiCIMg6BQ1CBEEQBEEQBEGQdQoahAiCIAiCIAiCIOsUNAgRBEEQBEEQBEHWKWgQIgiCIAiCIAiCrFPQIEQQBEEQBEEQBFmnoEGIIAiCIAiCIAiyTkGDEEEQBEEQBEEQZJ2CBiGCIAiCIAiCIMg6BQ1CBEEQBEEQBEGQdQoahAiCIAiCIAiCIOsUNAgRBEEQBEEQBEHWKWgQIgiCIAiCIAiCrFPQIEQQBEEQBEEQBFmnoEGIIAiCIAiCIAiyTkGDEEEQBEEQBEEQZJ2CBiGCIAiCIAiCIMg6BQ1CBEEQBEEQBEGQdQoahAiCIAiCIAiCIOsUNAgRBEEQBEEQBEHWKWgQIgiCIAiCIAiCrFPQIEQQBEEQBEEQBFmnoEGIIAiCIAiCIAiyTkGDEEEQBEEQBEEQZJ2CBiGCIAiCIAiCIMg6BQ1CBEEQBEEQBEGQdQoahAiCIAiCIAiCIOsUNAgRBEEQBEEQBEHWKWgQIgiCIAiCIAiCrFPQIEQQBEEQBEEQBFmnoEGIIAiCIAiCIAiyTkGDEEEQBEEQBEEQZJ2CBiGCIAiC8OKDH/xgvUVAEARBECvQIEQQBEEQBEEQBFmnEEqpPzXNZtQTs/nBtnB3Qk4VtKm00hgWOxPyYk49Op0LSyQiCQs5TSRw/aaGM/OF6Yzy5HAqJAmvHWyMysJjZ1MdCWmwOTKXUykBoJBVtD2dsSPT2fGl4vWbGgZbI6t1FTX69Ei6qOmv3NhwcjYfD5FtbdGlvJZVtJ6GEAA8embp/LzSGBOaw5JAICSSq/sTRyezkki2tEZSBU3T6WJenc6ofU2hkzO5ggb7e6OSQM7MFa7f1CAJJFXQpjOKptOcovc2htpi8r0vzHU3Si1RaSGn7u+NPzOSHksV37SzpSMuA8BYsvj8ZC4RIrvbYwVN728KlUTVKE0X9AdPLAKh21ojEVloiUoJWXzs3FJRo7dvax5dKr4wkSZAQrI42BLa1xM/PZfPFPWdHdFkQZ3NqKfm8hqlNw40zmfVprDYkZCPz+Q74lJbTCqoNCwRAJhMK+mCtrUtMpVWCpr+wnhWFoWwCKPJ4r6e+O7O6HePzlFCru6LKzrd2BR+cSp3ZCJ7y2CDDrCU1wqKnlNpW0xKFrXZjJoqaFf1xcMy0XXoSsgAsJjXOuJSRBIOnk1lFLUpIguESoQ8NZqRCIRF6G+ObmiSCSF9jTIARCRhOq3IIumIy9MZZSmvRWQhW9DHU4WehpBA4LmJrEigLSanimpfQ2hDY+iHxxdAEPZ3R/d2xc8vFaZTSneD9PDQUl8i3BKXVJ3OZ9WIKDRExLSi7e2MbmgKvziZbYyI7TF5Kq0A0C0rI+Tl6ezp+cKOjshEUn1pOpdT1N0d0Y0t4URIzKtaeywkCnDPc7OZoralNdKZkHe0RTSAvgZZFMhcVlV0emYhnynquzuifY2hqbSSVbSGkNQel0rlz2XVtphEAX54fGFksXB5Z/xAf3w2qz48tHh8Jr+7I/L2Pe3x0PJdzMhSsTEszWSKMVn4xotzVKcH+hJPjqRBh75mabA1ev2mhsW8GpfFxbx2bqGwtS3cEpVeHJ7WVH1fTxSeu380pZ3f/ubWEO2W8i1zx4AAtPRDpAHUPHRshcxCUpeP/eKhmEgvv/03AAAWxiAzD52DEIoBABx7BM79CogAXYOwNH1q65uW9PDOcDLRvRmS06AWQMmDrkExq2aXjrVcE5WFbS0yCCIAwIs/hnwSdtwEoRgUM1AsQEsvzJxRZs7dl91W1On2DR1qcq4FMvlYV3xxaEerDG2bYOYM9F8OUhgAYGH8medfHE/mGgcuixXTG0PZ3u17ITUJhSwsTAJVoX0gvTD7wkRaAv1aOAvdO6F7EDoGjx8+FJ871X/dnRBpgJmzcOxhmD8PN38Amrpe/NUTJ0+e2hJT9t/yZtAUOH8ImnuhdzfkU3D0ISgUoHMAwgmYeBl692Q7dhydzCzScHtM3jL1RHN+CgiBzq2p/qtHFwvJpdlWmtkGM9CxBVo3QC4JM6dgbgQaOiE9D93bYfI4ZBYOR/eoDd1byMzZjNiuJzemjgEF6LsMBq+FYhbmRyHRCuk5GD58bqGYbd+2e9dOiDXB3DAc+i6k5qB7G2zcB/FWOP88LIxC5yCEGiAcOS9vmJ+b2Zg+1dDS9uy0rhYKe3cMtIYBdH1+dmaiIIY2Xh6eelkoLOUSffHOvt5QMVVQR+dzAwf/MhJrOL3jbbmivqVZjktkeHS02NS/tacFenbC5Ak49wIIFDq2nZqaJw1dW7WRzNLieFoTBl4xSCdmX3z85+Llcv/uN0WHoG0TDL8ADe2w6xYYO7qUyZ/R29pjQn+cwOIYTJ5QmjbMnD+RyM3MNe9YaB7cv2vrjyflx04tbOuMv3mD2pYdh/EjI6378pnUpuZwqKkdRl6A00+nkvNL/dduaIpCpOHY+YlzavNobGAzmd4sLI637ouOP9dUmF0cvLU4O9q6eGpPuwBXvePU6CTkUlu3DpKpE9DUBx0DkF2EhdEhsbfp3MFMUc80DypNvYn5U4O79g6dPqWmF7ZECzKBhVQ2c/rQhg0b4drfgORUenLkl+kWLdTwyu1drRPPwcwZ0FQIReHKN0M+A0cehFD08eH0s9Er5xJ9lIo3b22Yy2pb2yNHJ/InZjNdidDt25p/dGopIsB8Ti1qdHd35Ilz2ZhEtrSH+hoid2xvOjmT/9HJxcVcMSyKT3/vSx/98Ie+c2SuoNH9vfGrN8R1oCNLxZgkFDW9oFJBoEsFPRGSFrNqV6N8oCcOAL88lxxaKMRkQdXoQGu4s0F+6ly6ISLu74uPJwu7OmKpgqZqVAfSHhfPzeefHctubo6cnMsput4Vky7rirXH5bmM2hgV+xpCvzifTBe1rW2RjU3h4zP5s4uFwZZwX6P88FCyu0HSdUKB6jolhOzpjBZ0mipoCVmMhoRMUW+PSbGQ8Nx49uxc4fLeaEgUUgV1a2s0U9T2dMcIwPPjmecmMgVFawjLOzuiMxlloCXcFBELGg0J8PRoZrAt0hKVYhKZz2ljyeK2tkhUFl6czqXy6qbmUFGjeZVOppW5tHpFb1QShHRRW8rrmYImi7Q7EU4V1XBIaJDFY9O5lqj4pl2t9x2bf2okvb8ndtfl7ecWCqPJYn9TaCmvzeXUK7pjibCg61BQaVNEBIBfnE+9MJ4dbItc1hlJhMTJtDK8VEjltbgsCCI0R+RNTaFTc3lRgOmMOpksXtmX2NISJgSeHEmn8trrdzSPp4ojS8X+pvBlndGzC/mlnJZV6OaW0HPj2aWCGhbIgQ3xtpg8m1Hncmp/U6g9Js3n1Lyin5zNb2gKzWe1hogAFJqjUiIkxEPiE8Op0aViV0Le0hqWRTKxpChUPzKZW8gp8bB4dV+DQKAxInQnQiOLBR0gW9RVqkcl8UBfHCiIAgGAJ4fTZxcKC3nl/GIxVdAO9Cb6GuXt7ZF4SJxIFRvCYltMaolIMxnlxansRKq4pSXSGhMPns10xIWrNzT0NoYA4P5j86dm86/e3LixOfTLc8l0kSYiYiavbWgONUXEM3OFsVRxX0+kNRp6eCiZU9Wd7fEruqMRWVjIqCfnckQQrumPd8TkI5PZpog4vFg4eC61rS26vT08kVIaQ+JrtzWNJotD84WehLytPTKbVV6ezg8v5l/RlxhdKoYlsq0t2hgRVZ3mVf3EbP6K7viRycxL09nz88XrNyf6GkMTyeKG5jAAnJjNjywWrt2YODNX3NQSyha1hZzWHhc3NEWyBfWJkfQtW5vyiq7psK8nJgpkMqXM5RRZECKy0BASXpzOzWSUyWTx8u7Ezo7IucVCVCL9TeFMUQuJQntcmkgVZVFIhISlvDaaLB7ojecU/YETi1lF39YWOjadv7I3HhZIUtEawuL4UrEtLl/RHRtLFs8tFHOK1tsYaotKE2klp+g6hYKqJcJSWIK4LHbE5aH5vKLpV/YmQiI5NJ4ZWSzeubM5JApHJrOn5nNFlb56c0NzRBpbKo6mihNJpa9RvnpDIlPU86qeVfTxVKEtJjdHxJxCl/K6KIJIoLdBzhT147P5sEQaZKEjLm9uDYuEAMB8Tj23WJhKqafmcqfn8rdtbZJFcmah0NsYuqo3nlV1AIhKgqbTZF6PhYTSTPnRicXOBqkzFvrZ0GJLWLqsK5Yqqptawp0xOVXUNjaHycoBe2SpmClqOzuipT+PTGbPzuc3NEU2NYdWT0GKRkeTRVXXD41lnhvL3rGjeWNTaHSpuLklvLklfHgim1f17e3Rlqi4em4/PJF5Yjh9ZU/8wIa4qtNTs3lZJI1hMRESfzq0SCm8fntLWBKOTmZGk0pYhO7GcGtEHE8rhMJoshCRxbaY1NMgb2gMPXRq8fB4Zl9P7NWbm+Zy6k9OLgwvKbcONhY0Sig0RcTtHREA8uiZ5PBCfqAtcuPmxlRBfXkmHw8L6YIWlcT5nNIWlfd0R8OiMJIsbG+LnprLPTuaaYlJV/XFl/KaTmFLS1gQyOGJjCwKl3UuayNV0M7MF87M57e3Ry/rih6fyS3mtT1dUUWjU2llIacOtkaen8gMzef3dMUGWiKySNpj0niyqFEYaAlX2E2pgvb8eGY+p+7tjpXbOJzwwyAcTxafn8h+96W5E9P5nKrLIsiikCnohNCNLVFK9cmUQgmECREEolKqalTTaV6lAJQCECCCACIBCiCAIAggCSAQUlD1gqbrOhACkihsbYuGBJhMKQVVV6iu6iAAKDpoGhUF2NwSfuXGxsmUcnw2O59V8qquASE6JQIIhAgEIrIIlOYUnVISCdEQEZcKqq4DCCAAoQCyQAQCikYpQENYTIRFWYC0okdFgVI6mizqFABAFiAkCYpOVY0CkJgsdCWkuYya03RVpwSISCAsCxFJjMtCR1xqiggvTRSmckVNp4SAAIQQEAUiEiCE6Lpe1EGnFAAEIG0xsTMhT2aUokplUaBUX8prug6CACFRkEUii2KuqGoURAHCoqBqlAggEUpBoJSqOhBC8qpWqkunRCAgC0SnoOh6qYp4iEgiyRSpTqlISFiAIgVNBwKUAug6aEAJgEAIBUqBSARkkYQloTksFlQ6m1N1nQoEgBBFLwlOgFICRJZIRAICQkggOVUvalQQICySrEp1nYoC0SjVNSqIpCkkpooaAFAAjQKhFIDolBICAgFZEsKCUNT1vEJ1CgCUAAnJkJDFVEFTNEoE0hQWZJEs5nRKaVQmYVEkIoAObXFpU1Po6bF0Oq9rOqVAAIACJQAltYdFIoqkUNQVnepQ6lAhGiICCKquKSolggAEVE2nFGSBhEVB0XWVAgA0R8Q37mx+fiJ7Yjav6TpQUHSq6wACaQ5LKtVTBR0oBYDWmPThV3XnFfqNI/NjyXxOJQA6BaAAhAIFIKSkNIiHxGhISOY0lVIAuEY7cWfk9GZt+lda75gavzr1zOuzBymAKkiTYmcc8g00J2sFAB0oAAEQJAjFX6LdL0sbCaU7tNE9+jlQCkAIhBPQdxksjsP8MOj68moAVCdSlkRIKBLXUkQQQZRAVUFTQNe/Fb/tmDwYpflXKy9cJw5DZh40FQAABJBkUBUgFIgAopzSQmGay5PwqNj1bHTPoDLerc3KoMpU7VUngQKIIjT3gpJXMkuga0sk8cvIgQmxY5d27orCyRbIAqigl8aAOCx1PhC5cZM6tkUb3a2cASJ+J3rry9LmOM3eWHzhgDAC2RSABkAAQAk3nNS7z0udTXp2v3Y8RjTQVChNEkJA12B5xSOlFn89dudL8haZ6Jerp27KPduoLYlUTwoNT4f3/iq+v0jld6e+O1AcJQKBUAIIgVwSgAIRAPTSwNGIkBajo2JPhkQHlWGZFhv0HCE6gAgEQNdBICCFQSlQqqsg/jR6vSCQ1xWeAq0AF1ZfAkAAKAAFUtp5ib5ck06XKyI5IRomalgrlFZGAKqBoBNBBSlCi0ApIQCUEqAAoIL0QnhHgua2qSMiVSmAKsRkkYKSK62sL4W3/yDyaqD0KuWlW3JPURBSYkIBsU1b0EAakTp1EAfVEQAChCzPY9ALNJQR42FBT6hJoHppngKBAoT+K3JNkch35J84IW8aFbo0ILcVn4poRbqc5CIUEI9JWy9XTxKgFEgBQj9M3KjpZIc6nCGRq4ovFYj8eGT/8+L2/eqJO/JPAAUQSIHKEboy0gAopZToCg1nSahFT1OApBCfFloGtHEKRAchTIsUSJpEF4XGfm0SABQi/SD6mp9EXtmvT34w+fUmPV1qAZCS2igA5EE+GHnF/dGbh+Uehchvzj6ig3gotHtKagvr+RPyAK1szWovEkGgOoXVfXXqvk90vfWPAaDUsxIhlIJOV0chBVLahcmyiggBoEDLhsaFEUKX6yitx6U9sbR+VaUXBaJTCpQAKe2khAAQutxKSpdXiNICWlEIIWQ5A6UgEIEA1alOyQVJKQiEEKAaXZWXAIBAaOlQcaEhpU9L/xWILEBIFAqqruq0VAUhQGlp5C5rn5Q1l8JKGp0QoLIk6DpVKaUUBAJhWWiNyoqqLxX1gqID0QGIsLqKCiQsCaquKyoAUEJAEAghoGlQGjkAIIiE0OUdFijoAIRAWBSKmq5TIMtLMQChkiCEJMgrVKUUKBEIANBSGkmEqCwpml5aZhrDUlrRsgWtpAFCgRIQiCALlFLQAXRK9ZUVeqUPLnSfACAIgihQTaMaJYRQQpbVKghCRCQRWVR0LavoRfWiPhcJEQXQdAACAgGRLA+WgqrT5T5dTh+VhYgkpItaUaeEgkBIVCI5VadAoNR5FCSRXOgDgOXjGAFZEEoNB0KpRohASwMGAFSdllYvSoESIgCNyWJjRFjIapIAPY2hsVQxW9ApgCQSCkTXdEKIJFKJCJQQCSCv09LeCgDCsnYoEYgAoGorjSUgEiIIVNeXh/HqoG2JCM0ReSaj5DVKgVIdCKHxkCgSspTXNJ0uj0oghAABkARCgYgAiaig65BTVaoLiq5RSkSBhCVSUHSVlvZmCkBEAcISyau0JGJYFBojIiGgapBXNU0HRaMEgIgAQAklACCLhBAoaiACDUliTtEUnRKAmCw2hMW5nKJTiIhCd6MEOjm7mNd0IEBkARIRURRA1YBSqmgUgCTCgk5pRqFAaWn6CARUSqlOiAAigagsEIC2qKRSOpNVCirVdaAEBICwSBQKlNKwJAgAIgGdlO50KQXSEhXms1qmqC/3LMDKogQiAVkkm5ojt2xtHF0oHJ3JLeW15ohU1PWGkJQIiafns0s5DQhIAmkOi9s7Yu+5sr0zId/99PQvzyXTik51SoEIAg0Jgg5AKACBiEQlQSBAwhKJSmJLTIpKwgvj6aym6zqRRSKCIIq0KSwQAkt5mlc0ChCTiSSSTEFXdKAExOVBThRV1wkRgMoCaYyKBZWmijrVKQGIhISQQFJFXddLxzxCgcoC6WoIzWfVnKLpAAKBxpBEBJrNUw1AEoEAAaA6QFQiRY0WNEooCUuQU6muAxFAIBAWSEQmkiDGQiQqkg3NkZm0MpEqZlWaLmilyZIISbIAGUXTKA2LQl4FIFQkoANQCjIhpSNOQ1jc1BzqbwptbA7N5TRNo4Nt4UNjmeMzuZmMmtcooTQRlj54bfc797VVbgveQjnz+Pkk3wYgCIIgCIIgCIJccsS2vuL2L7/M216TeDfj3sPzALDzUy9wq+HClaL560BhKJgzaS1yBbb5NfFKct80sHJn7kF1VmNDpspe5dSt+Wfuyv5I1lUAKgAlDPlh+Q5VAFj2HTkWTgWJABWILrBFFuhEAEqFlUotdKSXruNBB2MVlK6Ll30IORIViC5RTaC6ALqZtCz9USBhETQRVFjxUcCyn05YqbFSyS4p90b5g+WoWPZGkhU1XnAcwYWP2Su6yNFW1mssgpWnI2Xzioe66LL31arYlSZccG8aee3gSGjbA9EbCdDdypkfRm58MnJFebIyD6HnWHSsVysSiwDVFa3F3cdaZltbLY/mWwsAgVc4pyGxFkfa2iIIGq4pg/VKyF6OJ8I4TmzK8Q/t2/j+L85nFfdFWSN+/OMf51rBvz4zdfL+f2m/431eFGaoXMLwOlAYCuZMWotcgW1+TZxJXj02vNJAzSlNvKvOamzoRJwQO54JXfbPX/7mD49OfOrZ5BNjhQ89Oj+T097+g5mWiPCqr09e3xfZ/sWxd+yKd989etvm6NYvjPU3Sjd9Y7Kg0nf9aPax+dhfHJx+cCjzhSPpf3ku+V/n83/82MJwUn3XgzMhSbrlmxNXdoUv+9L4O3Ynuv5l+I1b45v/bbSntfmmrw0XhNBd3588vaD+8c/nHj6X/ezzyc8fTj90Jvcnv1w8taC+56FZQuC2b0/tag9f8R/jb9sR77l75Dd2JnrvHrm8I/SKr4zrcuzt94+PpLQPPjL32Gj+H3+VvOdo+v5Tub94YvHFWeX3fjJX1OAN350aaJZe8ZXxO7fE+v915K5die67R67uiVxxz1hzWHz9dydnstp7fzr31Hjhr59Ofvflpe+8vPR3Ty/+ajL//kcWkgX9Ld+b7opLr/zPiZs3Rrd8YeyuXfHuu0f3b2rb9+/nuuPird+aShb19zw09/x08eOPL953MnvP0cynDiV/MVb4yH/NTGfU3/zBdGNEuvHrE1dtSOz84shdu+Ldnx2+fSC67Quj/U2hG74+uaBHfvuByWNzxf/34NJ3zmpfemHxs88nf3Y+/5GDSyNJ5b89OBuRyM3fnNzfGb7sS+O/uSvR9dmRa3ZuuuxzJ7e1hq/72gQh8LYfzAwtqh9+dOHh8/l/fi75hSPpB8/k/vSXiyfmlfc8NAcAd3xnekebvO/L42/dHu+9e+Ttuxr77h6+ojN04CvjUUl40/3ToyntA4/MPTKmfurZxXuOpu87mf3LJ5eOzCjv/elcVoVfu296c5P0iq9OvG5LbOO/jpTGwLW94b3/Md4aEe/4ztRMHt7709mnxwt//dTSN45nvv5y5hPPJH8+JXz44anFvPbW7013xsTr7p14zcbo4BfG3rEr3nP36A0bY7v+fbS9Ifzab0yki/pvPzR3aFr/88fnv3sq9+WjqX86lPzFaP7Djy5MZLR3/HCmMSLe+PWJq3tjO/999K5dia7PDt+6pWH754cHmuRX3zup6PSdD8y8PKd87ODCg2fy/3o49bkXUj8+r3zk4NKZpPbbD86IkvTab07s6wzv+dL4b+6Kd3925K3bYhv/bXRXq3zt1yZEAd72/Zkzi+ofPbrw8HDhU4cyX3gx/eBQ9k8fXzw+r/73H8/qFO74zvSOVnn/PeO/tq1xw93n37Er0XP3yL6u0IGvjMdk4Y33TY+ntfc/PPfLscLfP5P86rHMfSczf/lU6vB08X0/ncuq9E33T29slF75tYnXbYld9qWxj1zTuuuLox+4suEt90/ftSt+9/Opq3rCZCW0t/x/bXrymDQwJncOqON/mLpXpspJeZMOgkbEhYP3tt/xP6tmNOMpoeYpx6wQD1ckCyzEWIu7D8siz/gRj+ZbC+CmRn9O/JyqWIsjbW0RBA3XlMF6JWQvhwVbhTiu8aJZOfuTf22/433dDfK793U4LZAJ7s8Q3vzvLz/6P3a78BDaugR1dh/g230qC47vQuoFu/b4SW7oafDzjtbXciSqXF88Mqw27hBmrp5+6Orowl/lb5zpeeXsxPme7j5l9HBvb/9LE4ud/QPJ0SG1/0Bo4vA7G899UXlFrmWblJtvCQshWoyoS3GBPlvoIIkOcebk5rb40vjZwa6mybGR9KbrJ8fOhzfuVUZeTGzYkZk4293dOTe/0NsSf8/0PRtDhQejrz4k7aCClEidu1qeOrIUSrR1nplaXNh47eLwmUT/Nv38C30b++dGzoj9VxQmTjX39DdNH+5vjvcvvZRu7F8giW598Q3Znz+o7z3cfM2JtKC2bilOnO7u7swOv0w37s8PH92woa/77MMDfV3HJtP7O8PHF1S1c3sqlWxqbJzVIrlwA9XFXLEghWPK4nRXU/iWc1+Z7b328FSur7dv1+lvv619/gtzA7NbXnNqcum6Dj03ff6qluLTufYz7VdNKDEaSVAQhGImFWpVlmajza3Z6eGGjg2xkWca+gYXR0519W88NzKpb35FcvR0a98ATJ3Y0NESmTk70ESnizJEGjr12ZeFjbNyZyG90ByPDUw8Nt597dmphe1djQ3nH89uuvbM6FR4096NZ358e2f2P5c2a71726YPt7S2Hiu20HhbRM/LVGnXUslcbrZpMDs/0dTamRw/19bTmzl/vDhwzeLIycb+HYWRl2L9u+KjvzrQTo4uCbmOXSQ9syGq6TrNSPE8idDsUjbetbCwlGjtiI8dUnr3pkdPxPt3Jc+/nNi4W2riwccAACAASURBVDv/fGv/1vmJ85HeHdmZ0ZbOrtj82daG+AyNLcktBRIqKooeagwvDHU2xtJTI9e15OfGz7205a1zo0Pt/VvFs083bNo5NjZF+/emp8fCnZv0hclwc4dQTEVDUoZEFbUoyNHI0tnNUX1ybjHW0V8ce/myrtgzE0Vx877k+ZOJTTsXxs6GNuwmEy9v7myKzJ5cbN8zUZQh2iyC3lKc6YHkubwsJFqV2fOkY7AwdmJzV+vw2FS0fxc5d2hgQ9exySXSf4U4dqytp3dxfjbR1lXMJPPxHo2IOiUgECW7FI4ltNmRWFtPbnxI7htcHD0X6r8sN/xSeOPl+eGjTf3bC+Mnwn07MjOjUseAkpyXG1uopgqiDEC1bFqMJWDuXLi1NzN2sqF3a+HFhzfsOXD8sQeab/qt4W/9zWVveM/RL/3J5de8+thP7v31bdHvHk++eqB5fGbhdVsiEiHvviy+oUEqORs1IgtUFUAHEAqCBBSyJPqhR6bf8vrXPR2+7CfRV+XI6hcG+LOGuzQ7uVbqJ8HfUsu98oySuJE5UH4SN7FRde+4CoIjj4MRZVFIvai7AEHh+If27fzUC1tbIz/8rR1cK+JuEL7m31/+uSuD0BAcKPzwX7f17c2AjCVnpxYqAAEwCJpc/tKJC3+WR7sZG8ylLz+wRgA9BGoBQiulUQAQlgWokZkAJcuhoQYSmucqfUkFsV6nyhsoUFqKgKzQQEmH1MURpPTVSqX2lr6swyJx6QUpE+PiXqhRl30J2UvwecwHZIqVcCKMALRHm/7bxU8/FbritNbSOvHM+aPP9cHCD05n9nWFnxzN//aexEJe//ubWioyfvCR+U/e2nVU3jIrthwJ7fhx5LqEnjsub/amKZ7dfAWqg3iwthq4tqR1hss21uWyw8/CfSjfJQEX75KiZBD2NYYe/t1dXCvi/gxhU8TWTx0yDjLPnVHl6YM20H2QrbxYrudI66Dfei3fQehx9qCIizrL+Pm5i20hqLRDKupaLtDcGrxQow5CHuSKosxkqBap3ChlsQZLySipnbK8gbpR+pXnwcBE1TWHB4EVreoX1Wh4KL/QQeWC0RoVVWdnTF+d0uDugPlTuzDGVLspwXPLh9HDQFdGOJkUOr4Ue8vx0MCi0NjeeEXP4Exv4YWDmYeOyVuzw+102+Z7Pvu5zWNdf/TNZ+65a899z5751q91fOZQ8jO3tFKq7C0OpUn02sKLv5u6f1zsSAmJzzTcdSS0XXP7O8DMNwy1y6nGvZMhCOtqCeMVz2u8KjawsS0e4nJNYGwOvx2f06msYpXmEePmlcOckz1fr7EazFXuosKbI6JFUk/gbhDetq3p+zaSe6VZu+EExOR1EOAn26qKPLxsc7OOs6xTjl0fFu9bHKoC6EuxtQ/ZNT9YEpimzw4dig0eqFVaeSHubQmv4DRo/UzvRld28zJeIXlVu4f7QvkLG/VqRHg0elXp9QjpGgl1PRPa8+mG/wYA0AYvAvR89I5DxZd/v/O6rYkTh3927pDS/aFHz33gQOPHHlv4xI0tzTRVWmaa9SQA+WrhxbNy38da/vDY2XG67dVetMgMxyuY+/4N2k66CifB/Gmvgw7lYa7wxu61HXtKT6InOJ3KWLdao2RmBwNqU1ofuti9qe8hFy58HcFV4AuFE0Jeu7WZZ10A4PaGsjbXbEhAfXaGwO5GZji+63Wc0dYFs6FXgSWZGdXZa0YF1iyfxc9Q/ZplebKlZMbE1fLYGrQXEmeHDlmnMU9wQQbzNJ5AjWpxMEkpi5w107hP4HstpoMqO3QIgNZKUEPVDCPEYsrQlX/LExvIsyKqAzEMExgXlR36lXUhDCUcYk6wTJHIJ+VNme7Lvxe9+R/e95aJxm2v3r3pwfSGb57I3ncqN/D5UQBIFXUCQICKoA8qI285/Bc3bIxfn3+BXFAgq4TMjXIyxTik9CpjHUv2swoLfDvYVDfTwbWRy/cr3mHf3y0IyBWkGwzX5FUsrEprFbn5dO1iuJdVv/YE54U3RsSbBxu8laYa7h7C2YzGu4pLBUafiVlGN5X6n9cwO++12M2tnkNTjTmZywvRGpg77hyPugrs+vocB64QZiekK1hqcSFJeTxejTQrtTg/x7jTGIunqPqyxjhxlSSVvVxT1JUEVte6scFXWJZR073JaFBVCj8nNP0yvB+A3he7hQKZalU/sv2jsT+j9xdPvC33V7/3RPaHhye++vrW56aKH726iQD0qdOfm/tLnQgaEafE1nujr3s4eu2o2HVxLQ4mpucrs5uUhhOZ33LHaRPx1iXuUgB/4NcX1u87VjUnr523OOjH6iwV+vEnVjmwKjXElk7MhpyzEixwPkSLmq57/ANYBnD/Upl7npv5nQOdtb5UJoAx7uuZtdgd/GRec0Hta5c11OQ1JOolwNrT9sLBe1tueGfpNQHYoo7cln/yiLx99Kf3yCO/6oiAotGv3tleniUtRD/V+O5n5D2jcnceQitv+3BZ45K11zuOCH5HuCTg4pWou5B1F8AaTuIFvNV1wb5ObMXklXH8Q/t2feqF1+1o/uTrNjnJzwx3D2FfU6h2IhxqfLEbNF+zO8wKrKNVxm8IedtSlichLeplr4J3lpq5HDziSMw/MivQkwdCHFD3Jcu3HdplRYz9aE3NKVP+ac1xUu6eZb9iZxebApDi7Ej530NS/xfj3c00nb7zb/eqQ53Pf/kcad/x1QcPtKj3vmH5p6ViNP+mzKNXSy8dknfPik0npU1Dcr+n/gTHLbLGQ9U5S+8P7lfIADaqHP/Fc7Cku19MXBLwe2fCsBg6qDEgY8NlSm+xv+658L5RIEencs7zs8HdIHzifJp3FbXw8LDr58ZWGjueLH8uTSn2EwZvqyw4BwXHYhB32dmrcJbF1v7h3kRn3/jNEl9KUS6rsN8X+DAjXF6IMPajMzEMP605Toj5C8cCLLNw8F6zjxQiz5AWAHgmtJtc83dxmr98922v15/d+A//9hs7Y7duit4xEN2rnNqrnL4t94QOQlKI/X8tH3g0fDVLvXbltJmSBcMNy1lFa3TaVuPxLYNbcbhjV0j3o4UlcfBV563zmfEOoi42Hnu9jPfmFQUG6u7J44tUztGcAD58qQyt/6OoHp4//BxqxLuzlEuCs5haS1L3kbYK1+eSHcjADqf9oy5KsFWphxK6r9eTMz1XnZffILBjVyRqnsW3KVZdOK2VAIqzI6H2/oWD95rZhxQgTSLn4tufDu391h/c+fc3tb3nodkvHkl96ldJApQAFUFr0VN/s/CZqg523FjeGvNkm/BzoWAZWrxxMNPdi8evgcE5KpTDdZH0RJnB1JvnkBUzjz29gyo8TG8oqon8NX4p2VYVUC0YARhsCzuqwgbcDcJk4eJf7bqAtfocKNfBacMNNbOvk0lejc+n/9XqgqPwIIQJeW6/UfOPauLhacZupYw1ethNjm+4vVWOPwOPvRbGsMyKwlmCEdy31ELzNW/lDGoPtfeH+3bUrDVNYv8Vuea9rf/76p6vHfiz75248c/+z7O5H09H/uQXC6UEjXr6m7MfeU3+V63akkRV4uqSsXw6cBp1dvvXQQke4n+ci0tsOVgscFYC+zip482s3artXvFXl8/oovQE62XK7hnbcb3VJwFbFdVlfnl4P24iP60+b7BUyqoNIpANjWvfIJxIFgHAfFtltY8ZYA+9cFyFg+rWIT5rZq13RHAcm6tYrIN2tV19xHeW0TFraHhUixrAsWEXW+ttYG9PnHREuG/HyvfKmGbXgRSJlCaxIbn/oej1m//80S/t/qvPH80VNPrxxxcJwN7iqX9e+Jtrikc1IlEuxkAQbDBbsPTFJTBxwMXiWZ3X1qeGiesVimwLrlVb3E+Vw88zwR42z5KeHcMrsHrdense+uQtvNRCKJW5m2v8DcKozDiILaKDgM8t5qWxZ1gQ/Dg9n6kd6+V1FSz4byP5iUuHRt2hVS/8pPIpgrJ/7cKYizFIhmvYj4e4aTVcbM2yNnnVN1j2ExpMStBAzAnh4/KmV/3vb/y48ZZPH86nSeyLR1Ii1f7X0hf6tOlmPXl58fQVhRPE5GkSiycYzXEzqGoWywNbNwuexAHxnvseXosz5nVcsns31BoaaeyUy8BimBmmr9cw87MEi5L9j+VZrZpREnYhPZGk4jNS1LgPde5fKvPu/e1fqp2qZiQMj1OFz7canKqzKJlfA+tSac2qK5JBmReamP/poHAL3Gy0NfPW/WwdECMNyoThLRWpemEtD1ecOWnL89pKZjFTXDbWt7FUftiyqLHmamZD4MLYiRWbkD3XckoKRCHy8dCWj4U+sPsvfucj57/39cc+87Z9fVMzMw/Q9ysgi0SjQCbFjk81vvPh8CsrSin/alNm3AyqmsXWHcbNwuUAYN+ViFHigOiqGlrlFnO/FHAdaQ4WFk/WIrubkeG44j0MeMQXeIU/u7lF1WZ/Mn7kCVbl65SmCtx/1J27h3CwNcKQKrALolfwnkieY30VEfyYEGK+zlpc9vsQ0cS1aq74IKEDv5Mbqfx8emot4uzqumbiIOz6vLKv/vZgbPCA4yg7CgBA5oXGlza+8SN/8ue/d2bXtV+bClMlQbMRvRDVCxuV8d9Pfqsi29R9n+h66x8z1+g5azcgheUmzpMLa062tzWOn/UCR6J60iOOC3EgsPu7rTrW7gbHSvY/Y3CoYxOIonOvg7tB+Plnp3lX4Rf+D4V6Dj6jN3k8vOFzGyseh+ARRMEeI+2VDN6W47L8mu2yKIerT9tZdTzON+43VG/7umZptvpl9a7Xk9JY8FAb3oQIlgWLumJWbPlW7LYT1314298cvO3QQOfdowSg9B2kDXr6falv357/ZYueBG+sQWc3WavU5Wgb5IuYgBx/yy9AuS6wFXurGyrWkPoamdYYxhkFOThzFcc9xS+jrZJdrlcOqGeQlEigOcLdXuMeMvrMmK3fIQxUWFoFxNK5ZIjL5vA4OfGWp+4BJIzVVQfDgCP92AsJM8rolQZ4jxa7wTA1o7A8gbHLPN/D3Ewl9xnN7mucRU+xlGaXwC7j1njgw1l1ErqHAhSJDABAQiNv/FTXa5O//uAHZs6dOHhXd682/7uZ7x2XBgbC45+e3uyFb9ATJ9ilh+OJ4My9xkPPPvQdV7E9NDJ9wL3LsaZH2iuCfN6uif/rVT11FQsJl8K3jGaKNd2cLn3uZkU5okb9DiIuAnJNWMLDAR2odjnAUBVrLrLXGXaf3nbQ1w7cg86o1xRz4DSricuGsD8LUbNeNwcF/7vDq8lVdx97jQRquPH4TR+XX/nO/3Oy8XPPLzbomb3KqV3qGeH5+3vUOa+kXPdU9AIx/8hzArVNmLHWt/6AUzPCouanduuqFziQGKEAIBLY2cny/J0r+P8wfe2wVw8HpXVRDOPPxhD1KgzMHwzFsxsE6LkAnhBwzfPGQfO98oI6CAt0NtkZn2g1NGzWEBbGLdcY0epOcXwXUG1Jet4FXl1PVEeH8r6OrDmPDBJkhw6VF6C3DqSv/R9fn+t5eCZCgYRp4QcPPPTUqyb+bvGTd2UfatRtxePUlNnBaPRhxvHeeS2GQRAMNvfKd7lO8p7gNanvYyn+tJeH+6vuuyH1dL0tLxYC0Dp27K6rBACyinZ6tsBJoFW4h4y2x62r8NNn7W1FjPfxjqcuV2kt3mSUhNQS0lnAoQOCsElD/aIv6hhbErSZW0cJ2bEeJ2Yxnz6sBi5TmkU6eRuV4CyYymL1q1laeS+w950tTDNmhw5VPo5IIEliwq//bU6buuwffqOYz53+v/pAX2wpLu5Qzt2Ue/bTje8+Jg+4r9ry0/qaTI494ZcG7pVvNkmdbWH+69+rC01/ajfEQtX8DhIeGmC+BVGz1OhBnL+d6tzjxFhQdHh6NP1bV7bzEGgV7h7CX9vVsvLS0Px14HwIPu6FtzUc2avz1ptkfVO4HvZp9usu984rl4OK/V655jwN7BPzbtzgtkpmKdPqto8N39ZGTzq0WlpbxbIk9nxJse5WWlUpp2XZlNjgAcNy5g7e+8Ljj1x/59uefO+eW78985nnkgJAguZeWTzyp0v/1qwl3VftI1459v1cVWylcV+CM+w6DOu+ZXNSAg+Xssvt2yIYxKAX6t4xF+NyqTeEMQiIiZXUjvvdK5vfSyiFkaW8t2VWw90g3NoaXXnJ6I9iT8yIVyFG7Dg7Pbscvg5OVE5kM++Y8jXOf507wE+7vXoDsDUdbNVlJgDjRzWHk2FR1OS1XWEcY+HKNktfs0CzQqxVVG1IeIuDkr3cbplLsFWs/2ee6gFj8ae3V2luylkeXeG+nT84mb7x5ataN+8c6N9wfF4hQCWqDigjn1v4q3enf+BR7dVVe44zr3K1ML75VexWzSIYD+EdOwytcRBIzFi/43Aqiz+rYwrYz0sWuPdSmo0rA8Goyfu+4M9VnZfjf0Vi4ukJyq4I3lfXFJE9L7MC7gbho2cW7ST3TInE8KXfYjANC1LxX4cycG3mhZSWywNzhBupLsy36erPhagn55U63gy6GX51Edvz+VJ9bmA06QN2nwsQSJEY4XcMCri9asiFDaUwdiJyxe3zYlPyzr9q7x+4/uvT/3QoSQAaaWaXclYC2qbb2nkN66rA8Xnd207kfeFSE4uq13RkEyOM6x6zKtzqzNnBydPx401h1qGP7utwpuiALH3OqJfw3tdLAPZ2xzwvtgLuBqFepy6p08LsJGzSqaim90n26/FHW7TqJSdPkeHrVTgNSGcRs46jiS6lk4dXMWOMhdvKUm4WenWVzi+jhyVYF+6mfA+dyV6JYfhpXaYYqy833LcDAFpueNeY1PH98E3/8eF3dd/4jld+fWo0pcpUvaH43FWFY/3qBGdpga0HvQ215X2iCGBItnv8l4G9m/htcPxaXVZyZfQP1+3MgrpPnArsHlDLEzvI6yD9GuNVGxt5V8H9S2Vu39r0l54VxsUP6ynsZkDNgw6pldL6Psksvd2PKnDTBf70Xb1cVc7qYo8mot41LWjzyFnMGJg0xJmiynM5lsdWLuup7bKPuPavWeGMMns4Q/mpKLhXy9mhQ+G+HatfNqOC9ED8xgfiN4Q0Zan5mXRzVNBGrskf3qIMHwltnxZbP514V1JI8JDETjJrrGffahq71VUMSAfj06I0w48ME5CqZOzCVFcE5uuDRXsDteBXYK00r0r2dtcrK6q2GcJP+Q662K4e2A+rFdQ8oFoE7ds93FZk9wpGXflxoCICPDeevm5TnGst3A3C/qYQABAC1APrnbPSCQD1tmurF2hguzEN7DoeBHmCZs+4gb0tfDYzL3HZLw6ye3iS8H9EBdMgsaDmgTiAMntLIFaeyu8dBdBAAICcKIb/+xc+pp5/8I/f8tLv9m5vWbg594wG4r7C8d9s/weViPUQlhE3dhp7FpfmQUV6B2dx91ch1jVatJcHgZgOzPA71/GrqCYOTDu71h37YZVdBgcZfcPVvCYAlHBxVVIdFvJF78u9GO4ho5MZFcCZgnz3/1Iwst/cUD21HF8KglN5/FRjzSgsT2DXYXVwmvU7LnFQlN3FlAf+94t1dpcDvppLPJLkYmjVvw6yG2Kx0blZ1sB+fCbXOWs4/Kyj2jitzLaLpUBOSZve/773bW+RfziUFYDKoO5Uz384dY8jCdcijEqrtu7sEoSlm712zxdVCOqBfhX2ltrVieHgCf4uw+nahREHHn5vq2akloSWn9MatTkfJBTgkdN2f2bWNtwNwl+cTQKrGipSeTt0eKz4NU8MjHkZxbB2vpuV6dJpYwseTg8362z1jSwpK9MwLMHNyY9HxALX8msWa9Zeu+/bSuP5DWLQDi5cb3ZI1b+24DeFqwczLXtti5qX3G6Kqh5+ZgGBtgZqtVTeXr0v16IDeWrwnW/o+Oe3/mCu9JZOyWtzT11bOLya6KIfu68hpHt8PigHM0DAtyXI7AwQcLeMG9hvqTy8z6ouMEiKXZYlUDaqreO0S7w9OF1cGiXEeXnVt942qs6pquOKGeFuEBZ1veIdAmYdVH5Y9xwe09VNBAiLK5L9Vs/x+Y+lWHZ4RNPz7riaH9UMIeC37Do7aFq/byulmQB237ebJgjUsVvd3+x46H3yKlDCwvQy/NRldezU9E96Ips/w54AQFJoOC/33vw3DzwT2vtHj85LoPVqMx9L/sev5Q4CwNR9n6gOOuUmpK2oQote4B3HEaijsxt4e3h8wBN/HUtK93A6d7lmWQdBE8y3+3RvG145wCh1X4HtYFQgpCXG/RE/7gahDJWPLtRyqvJzsxjUGowZw+OquETgbmeDsfG68SE4uOnnihvbzCv4uce9xVZIs3sFOm6m+6oZlxQWCYOxRlphEfZp+GlFSp9veczE8MS7vpxIA3FObH5K6//uqeXfMj4uDcyThtC3/6j7LR91J6ctzAaP3SsPHodFru4davlnzffrhZ/WlIcV1cVTtxr44LgT3eyb3o4czxYfy5RB3krsyeaV9knlBmRV8Jt3tXpUrSn8f3aCVHoIy7B1PmPH7GBn0OWc12OXMaWMV19B21SCjxvPpw+LGtebcscGrYdnBQ9D/mxlsQ4iWivXLh7CHlVVL5yZrOy+RxbvpQ8QthpZ+4sCZEjkvo63v+Fj//J46Irf+dHMa/JP3/niX3/u5sZfzz8iUItN2a4AjFjftnjo0GaHaxebRRdzksG7A6pnxfq5khga+bwFWF06HPvA3eybznrKjanGLm2QDT9Dyq16QweS4VMPFZ9Wv2aAEEKYDiGSALEQ9y8G424QnpkvmH/IslWbUal3YvjSSxysL17FlFqX4M/F6hrBsxa7NxUc3x1y7VDTEmoVzXqP5RoHbXQWhOmsLvZC7Epl7enyh6CtGEGTp0RwzGartWJaaH5JHvxcZv/Pp4Tnh+ff1Kds04ajWq5Hn+MmD/tEs7XAmnlxg9MR9cXbeHJPiq3LzL3oxBW8tcNDiexqm5oncxMwZRdPNOD5rDc8qJffMhjcG5pYHDYbyLyGCZTkFccXeaxwNwhjMqcqKvXOf2fw3K3BA05iuCyW9xMgHla1mt8T0yt4W5I5dPkfx2GEAZkCJYJwOqmJtRvBLJpx9dM6Eqi+9h/HFxC+6o0CWRAbJ7Lw4T94/6bW2IcfnW9TF/v1mR3KWRE0PnWyx4j6EBddUwZPWCtzwcOtzRBb4cGMn7pirXSMIzyMyuF0m8AjewmLu2mv+rz2dRW1+tBGNYwSq4Tu74m5qowB7g8pdsVlO8mtz0ABxPjywPLRFFsBBg6mvWEul4oNwrWQ50VVYxim69g9aNYX7LX7D6dBwq9pQVAaJ9wEUPDG59rXXC+bzX27a4Jbpg5+W73hHV+hxYNLE+MT3xRAf3vmJ2/MPvp8aOeHWj9aAFu7sxtYtiRn+523iasdKdUP+ZCLX3jemx5uQ+XUawb5uY5Z+ME44b7GNbe4BYrqS1WX+qRVV/mWBZbZc6SGdVdWjnFSq4qiotAYXfsho/3NYTvJl9VxwdlPzDR0QZ11nUx2o8V8MA8Mc+GKw4LhAa4mhouA2VnB+km8+gYNOr7KrSkkv+EXhIF9CdxEB7YJq+ct6+EXQPndbwHsVDZ/4eC9CwfvnbrvEy03vFMHIUPCJw984Lr3/928Iv/45EKznrop/+wXZv8sQi0e6OCN2WJb364kVWKYufH9DP/z04ezpvE/Ksd9jb4JvJYGhgulMIbysQe3s7q+a+m3rBzjpFaSd8bEHW3RGjW4hrtBqGhOwl7pir6I6Re8Xni7TLdracSXYWFR1EzmM0GQwZA6Cuahke/yKOASx1e5QbDKKgiO3oJAHS12l7Ccv7meAmseIDhVZ4vK5of7dgBAqL1/NYFCxKfDl3/8qdSfP7lUynBl8cT7Ut++qvCSc2G54ElXuu+stbuAsJwcAruPI17BI0jbP6jFX65wcaFDQBCEi/72kc54SNW5T1vuBuF8vuZvKVKT1wAAQIDaUDsx/SMoWNh+a+LQFgQZDHEvmA975KqQhnWtiU2ah5BrouHl2BLY89Y5KLBWMItnFVVk96rScqvMcr/wHvYDhOePxzhgWYbC2Ilw345w346Fg/eufpYi0Ztve92P3rO39KcA+vWF51+f+0WvNmNWjsmfLsXzs9cuJRzrzfE9Y10WDbPXbkJUPMzlDzVlq+Nx0TrKiT0xu/4N2+LD04MXC0GBVv2sOnuxxLLwmgwt5lIFTg9+X4C7QTg0l69Vd3lnV3Y8oYQ60+Ha2xGYJV57TavG/cnA89Wct1qtxjl/AbxSF2v4hBdl8sbDA5ZXiXkU6Pgpl+oHmexmd19pxZuEYR5V48/Jj+XU4ocMCwfvLXkIY4MHWm545+pnBSJ/OfGmabHt9ffNXvXVCQJ0jzL09tzPPrnwyTjNVZdj/qctyjVgFkh/CXBJWrlezV9n2cvvT60XE2fhVM6uyTzElmVlN4Fj3JiattySngwVs9Bul8UawH7BaVRE6cclnAupafDY2aTj7Ixw/1KZl6dNDUIWW1t3OmODuud4IVeQL7ZYcX8yCGoPm1L3Z2Oscfko9prrDrBjTth9hidQ2uC+U5oQHD14K7mtdvmvAVpuBF4MOS33/0XT7/2vu6Lb1BHQ5gBApNpe5dQrCsceixzgI09AxgBvvH2kcJ0ojRF+dml99eyqdm7mbH104rQ5vA829iHg0IllSTwkCgL3hnD3EOZUr7yc9nRMqa1O8fmwbre6IJiAgfLmBao6HngVeGNWDu8HDDh1AacHuqxLs6sZr9wp7B8FilXnvzNPpie1u6zC2uHgrH9rhsJ6Rbl4lcVqIJ6UNv1j47v/M37nW36ifOzgAgAIVPt/Ul/erE2YFEir/jVLwwKPlG6ycCrEDUGxBoMihzFr6EDijBoeKZdtcN25HuvQdXFmBdjyZ3qB6feeuKr0tm3Nuzq4f6kMdw9hS9SbKsiyXQkfgAAAIABJREFUy9VODtuJKQDxJY7AzyPmRaVc3DKWQ9tqmjXkPgr2RuYHNR988jM+lkex3pZfNv35UrMKzwNsnBlm7id7veagY/W6KdZxCdbjmTKMTOvOMvhIJdJxeaCRZnd1RDZGRQ3EIsgnpc092kwaIrNiS1Xhqx1qWFfNcD4zkdzMBUMZbGWxkMGHoeuhC5ojbOcgHgEULGlI5V82jm2BUG8t+AppqS37+q8/FfLwbAKp4QS01K3DybK/J7atLWInrxO4ewg3t9j62YkLVHcvf4jrmtw/Gmcb+9tmddS1xb1v3af9JeMzsUXd1b4OsTWTeFfhBpfurGDacusQlusPJ25YCsIhebd0y//sPHDbrNgUIYUdyrkrC8cGtDHLws2sQWdYeTKZcfx8LHi9u9ly9nK6tnCA+z2Ux+22fQ2wtmOtnBnqS3CW4uBIUgaPkFBjLjT/F+e4P0AIPhiE+3vibAkrVUy9Cf6xCzV5zTgw63A7bksRJg+2EobX9cJzn4n/1EtOxqHh+VQKwqZrfY9gf9JchA+moxvs3kHWHQ8HKsuVXN2bTI3+9Oc5guWxoRLxv0JX/TB6w97Pn3nfT2bb9MU+bfq12Se3qSN2avdqZVt1hDrLWBPDknlEGXheLAvVrWPXpBsFBgTeshnO1rWIc8nrd9Ji/5GBitZ5J7Lzkrw8gJ2e8+M3Y7kbhMthr7V0avT784wPcng7P03NobW7DNikZkP90cSa03cQPJnO1kRPnPHuH7JyUJEF1vcItiQMYLC0VyOKawgA+3bobKBapHHsgfHnDsXQ88bD07KKgcDzYuPh0I5rP3bPVb/+e000fWf+Fzcpz70v9a1dyhmjLHbXFh+sO8/NnsBi3VIHUa92eydQCnRz9HcfMeH48qLueG7ZOFQCsZPRvGpuFiCbBAw439dI1dun5gvDi9xtQu4G4XMTGYCSTs0MPAKsC56hfl2Ng0Ctc27w8UkIf3RWGVAU+J4KgifTE9POmfvLqzbWlDmYA8Hn84G3nhlrHHtTPTTzfIMxjjFQMrNgIDAFkiPh0/LGb0dv/ZfnUiFd2aBMFk8/1XLix0ZZPLFXPZkmPvvignD097ylPt/Z8bu1rxdBkKFEHSVxWHWNb11hrbouDXcZW8SankLll6bkFPXp0bTNAm3D/Utlzl8was0ir2ofAWuFjzrH63Id37i7vao3WYNLxQbhUUA31L4yCBLV2q6X/nlXyqP8cs9/HQet3drX9Pyy5pLRg90oxyC3xTMokBmx9ZOHi8NL828YjL2hP36ysedJoF4c2qpZi5vR2pLWcxz0V83baesy/R8ha25MlsMYSO+ogcTlwYujYt2K5rxaTokr01e1jhRU7i3m7iFUNJafGyyH9/USVxyE8VQ8tcjjLo3RD2CZbO0umH5T7WSwq7sgD3jfZLOOGPe/djcEp0ODIIl7GZw9dMfpUpkavXbcRrOMHDtOA3HnWz74u7ceuLE/IoL+ltxjVyinJKryEczDLgjCYPYc9xH7FoXwi+N1UKaZMH6PEKPnldzUaOvhEX/GsNMGupWO46nRXDTDBXnN0xiRZJF7LdwNwmv7G2zmcD6GLIP2CCEX/V0nqkOqKmy2eklW68Ll0plZfuKsN+tufAchWM4soCA4rMVHmIIgiSfxQp6U4wmG+4pj2Vw2yvYynR06lDzzvLb9hh/FbvjwY4sE6Fbl/D8u/L1KKqKHzARjDLK1hfvnhNcunmwZLJ3lLQExNZ1U4WLUGm5Sth4e4RdZbZc1ccJjCSr05KBvWEU9F5wtraH+Joc/2cAOd4NwPufVD9PXxsodQy7+plj27y7yDrL6j3USLvWuFdbEqnTJ43/ETjBlsMZzCXHwc8UT30u94PJAZnboUGzwQGTwqimh5Whoy/fPFJ8aLxCgXercHyT/EwBsNt/PR1vri/+uHsbIwHoR/C7jgeFtiGEveDGP+OqYvfQ6LqS1Qq48U5G5oe66CsdXPpfC7xCeX8gzpzVy9dpXnvF0pBXPIer+L2CrY9n3o27dT0JmayU/L5DnIVsWia2zmKVhz2v2Z830LpP5Bu9APmcyuNRS0PrCq8HjIHFA4O2ud6CTuqkxO3SoZA0uy0HEBdL4jffedG1vGAAI0NtzTw+o475sVkEL8WKRx8OnxD1sspvOsi2GSWU+HBs8xF3JxPAPQy+WF/OonpOjOrTNLn5EAld8EQuHxYvf95nUQNGop7HNxnA3CBfy7B5CI1dvpfYtbl/Y/ci0auT4indVex5a437aWwvAGNniYY1cM7KErpmlYc9r+KcbrxpjsjoecN2X4/5sxBKdYrEc1b0v7FZkyyTmEShoWLutB3LYi+WRi91dUH9igwdWrUEA0ICkxPiT4X3jUvv9p7IKEe9uevsiaQjrPvz4lVmIV73uMR2EnLlZbbyqwmXDbTfBpD4fjg3OcB+HUlWClcoDEZ3rnRDuS6K1CyIWf1V/UqmH6qeeOJy0nemBmv5R9oZ10UWNNka4P0TI3SBcsmEQWrHyBKBh3KXdR0o4n2YsBfG0Ps8XnfUZ+MFOrd7joj/rncx9gIoZFo0xO+9eGjFj7CdCw095XEbURSHWY6w6GY/aPdSJLUOdpS4Wg7kOzwg4gAIZFzr/I/Gmr8Te+K4H507NFhq0TFKIFYVQ/YSquyNibVGvhgfhysPufY0TfPDPWNa+Wj0pf9MaR55rTh1KVv5vfvy2+su4wIr0xLS1K0YXMXiTAZeeDKZdwFqaxYIaEte+hxCoN8NrtRgCQLx8ApCLV9kRNuY5PyECRtBaUatnPJaX5QhrZpNwVZ23d7c+EBzXZb1wI/la6WVr8PrMjOWxUQD5lLz5iY/e2tTZu0850aKnQlSJUc+dhGt3EiGrsPtMfOhun2ZiHSc8NX/sxDKTdRoHXlNaM4V1ZnqRReA+kAfYBphhyKHD2olfK1i5fJMp9U9+NsK7Ru6/Q7ihKQSl86npGdXGLQYBAqRiSLHlcxQib+TbrQw9tVusSRXWPmVnZa8hzDTJvxW8TSdXuI9EoistLPf2XBpjwxZe3aWSoCqwplSOY11YMvLTibclV08H/2VwWSB7XtuznhJhRmxeEBq3q8PXF54fVMcWSOJbsdt/Fr3WvjwWNdpNzwnHNQZzBSjhZqm3lb46Zc1NPFAKt73xB/eYYEpNpTnQKgGOqnA2Ai9kqWkZeCI5Xf6H+yJQLq2u08eHU7xr5G4Q5pTlWwqyosUqSMUf1HyyUnD2TCe1Nf0JUEoEo8Hl0nFcLZZnRa1x6tf8+izzvh0pquPu6nsUtovPirKGXhS5Eyw8kapa24zF8tOJtyVXTwdbMnhlHtu1iMo/cnZkr8hFqz5d3qLDenFI6m/S07f/40+n/+9+nQh9+vSY1HFMHmSoheV9Fmn9wXGNfopqd8g5WOoN8zqAh/nhMqMFgbLvHGxzdd+avZeBgABgccR3f3lPgBgXTwAEgWh67fJXhLDR8NW7eZeERO4RndwriMnLVRi6vCuw3+FEFIh53HAZdsqljryQfHDloHdMvVeamrr3uHN8b6/Fyc8fGCtiVwwnyes9Ei8iUMI4xqKn2E+QQcMfkRg3KGfjxCKX59OwusDldxppdlAdKRL5fVd1EgCB6p3a/JXKcWYBEFuRbDXx4Ubm0ljWyvF5gXJfnUNPnaNc3jnJGGSwdX1Fa1gJTNaa5TJqamxSILpes3gblFslLLZPTSSB/M7+dtfF1IC7QbivJ86e2O5SSoBqVW7iS2t5I6v/sCQ1SUgvfl17ytV6SJP3gsvvrtGYwJxwfRu8DiqyVlLdp52H+xynwh3X7ia7RZhDYEa9B1gPP8aWWiezdVJxoFs/7QdTTssbx8XOUanrNTe9qlRcRC82a0sirT4u1auNjvFkGNRMY+HLDfiMYxcvmA2pl1R13/vY8duvSC3+MkhJWQ1No9zE8nRbyxSu/GE6UxiEIwzBq3bpbw7ddcXaNwjbYgZRqQSg+iubHB5RL7brvboAcQSvmilljRoxCcutCCNhuIqu0RTf1hQfzhy80zsgmNvt2tr2nOFV/Ju3tbvJ7onfyVbGgIzecjGIyfsVb7LEeVormVa9w04d59cFnUyT5n9qeNeToSvatCW6sqdcppzt1mercjkweOp7GcEYl8HSES6dwH42n90MdhCN7PgOpeanDnAQVu0Ge/IbyVSX+0cuF0/MPgsLLoxANhErV3h/Rpu5pXfhAx6/GBiVhSf4P0PI3SA8eC5Z8Q4BkCVBEiq/ItbS6mENc6rrYYT7MkQq/utNgUE+6PtwriKGL2uldzfQajyywXLScnmNHTS8irqpebJfQzpZowTkNMZi27ux32xVGnDK10CSFmKPRQ58Of7mYwtE/odzBSG8UR3fo5y2V85FWN9R1h3G5cLDpcPP5nMNOmW5Q/G2xoBg29VmNHpM1yhi8aFb7JfLkMOLuUFM/zCux3ZDqjKYRcI5a81FQaLMThyD3IZMLCmjS0UnctmB+5fKKAaPaRKqU23FQ0suOMDsPtzit/vbKR7IScv+9TB4z8ijaCjtWlG1O4z1ath2d9q4uDsZcCbAmukysvydU+B6pLEEG19ig3lNN8ex8IzbredHUk7a9rzY6gJZ3lkmQyLPRPY2bH7v3//+cwU48dPodQrIpY+yQ4cAIDZ4wI7Ma3d8EpPXlzZ1X1LqLkAJCzH4i2dyPCAlc8NP/dTjEtW89dUJTVRBSu68C59W/dIB4dkylrLLPO21HtMqaHQmo7qUqSbcDcI37Wz5x4vfoUAVvfxPTpFL1bDMIh4zLQhLGzv2As8qp5gVAVnlbeEsZnXNNbMcx/I7bzjDRZlZ4RXvs8jAu3fY9eDJUPFhsNmVczV9zd6pGURUM40FPDRj7U3ysEYzHdrKW46tSyWSJPEHYjdFt1x3rnD0BXknEWiZKWiR3b0S3JRga+qB01F9yVP3ZpYdlL0Xxv+LDBt3MasfW+JGMNsqtXPGc1yLJzeDFxdCqz4tGV2128M+PJxZlNVr+0qNBICCQIBWxabmNap4+703RnA3CCXRSLmONVmJs8B3G2kIAQLA8G20TiDE+2dPy/BjA7MjPln9z9qJ27O3jhtlcYntvcQ1jJdwjId7x+faivSMN7V1P8qA1yuSz9S0JWxNAZe9EzT9lLfdrnFrjYXOHRTrwXlaBUElkRyJfH88DHCGAikzBVmqNsNah7CyP7g/HXqV0k0WFmoqxP8twBZcnds+3+kYJvbqcYaqdwgQyvgFERcoD3OntQcPizCsNdqB2NScJx3NVoiVVNSO5I4HhvnwpgBA9GXH5kXl67p+fCbvtEZWuD9DmC5oBu+Wt7R2J9oKJfX4cU5KudlspsOu8l0nDSJAVh7SJKYKrN0wF7o0LdxLdfq9LVrVR7iIY+te3xOq+4cYvW/3kjX4xgDLwFw7Vxk1MGuIz/cdQYZWvWC5oTAswb0M5e+wF+uqs7JDh7JDh0gkPvGNP2ezBu2KVHHRUP2+YUvXxBx01keG/VWtjXrOwSpxq4RxK52z/JxGRcnN5MFJySBB5ZNmrE24cMNKiIsd1rp415i3hs9JybQug5fWyfmc+JkPTKXaDWTIKkbGlKdw9xBe3d9QI4WnVknpl0ac96eRkWYRse3m+sjkFzKhui5a+SlDnWWFm19BubLFa1GjcDuqM7/6cj1zPXRXrolzCgPOR8sax6vr1UDd35sRcAlZdMjoTnGM+5OWe0+d//dBF1g1Ahsuv8WL8qyVYG0L1XzTWaUewhjR4KAoT8p0X/uFjw1f13rXeY1scFQOJbVNwpqNphf+a7rDMp5GKBAoPRBHWWq2B9+oNQDw96TEVpdHk/ei372v7GiXrRYJee3WZndl1Ia7hzCvmIW9Gj5Eaaw0Aux9xJTOIFHp+VLz+g1x+s2oDB+bJvFwNjkpyk5fWBViR9M813qXn68ZgtkQZ1JRyz89wU2ZAbe1HGBLG7ZcWGblG+qQxUftQPme+/EsmsO4pLOLVO3GdE9lUR1v/EPXhfh/S1ISgOVawRM8bF19FxBParel1cAvmFbRToy3+mYfUNM/agnE0SXK/bSw6gTz51hiUQvjKsE2Ri/y8Tgc1WayNkTFt+9pdVYmO9wNwsl0EYx1Y/gNP0aWmp3hzzjEDNKYfsmPdYy3xXcDMQ4IC3l5L5S2T1S2+sIC03i1Gl+15L9VYz4qXB3j/Mf/bZ4FT9wmrHuviyq8pb53Og6y2NKGYUCQdaWM6Tl1iufeCfd+MHaRPA8Y86qoap3wPMHWFsCMQFkjAdpB3OklUFo1xf3NtukTStTgFRcRmLHzMBW/6NNyA8zz0FEHwU2sHh2briLvyRW0+16a510Ld4Pw4dNJqNSmvVXPpsFkmtzWoCDlG63lJYL7JZxlWjgceE6yLV/esFzRe06taF9iKJXLWekoOzE64qyNXdAFa6yBATpeXUR9z+516US7lfKzH3jjidPb5+z+4NXA47TqBkGHAVpgg6AO3ngeG2BEUPrUzaNUzuuspFIbnmrHgwYSw5dmaejyn4xxicbnVwsRyijq8MhQ5Y+6ew53g3Aqo1S9R1b+43Yw2I1kYv/IYPLwmE2l+EuGZ5adVe74Z1YEvr/QUo4HtwMmRTCVzHLwdO0Erh/GAl4aez3XVqxFFa1Fmcu5NK5XPHF6s1CuLu66WnziO6c/fhvDGPNhEPrpKGZtTi2Z6jg36/yMSeC5tBrl6eQgFf91VIK1FeTgnO3t/BcutkMcBBhSy0DBVQhb6YKZ54nS0WShdn53cP9SmfZ4ZRUlI4hSsHxszw0mjyvY/pEH+4891DAvqgosKYDbimQeTEMAqMWX5bD93Imlfi5ShUVKfkcZy5JXxGP54mY+/ePLQzVOAh0qBKMryvL/gG5dqWE4imMhK8IAgtZYFtize96b/gwPw5G5drGQn3fTbJfffN3bpKZOfrEsKzAK5lvXs9ZSa4+oy0Cllt4LZh1e2Mp9Hq52B4MzMayDBjl3nOeREJalEQAAGz90QS/811QVVS24KCWtJZKxjJaa91ZhlWaBcY/U6ieG+U8pIebfJFlWFDWsjNGedAl3D+F1GxLVdRIAgRCy/LK860n5X4JxMGdNTE3synQVdxem3mzmfqgx1QJzfCE6ZXZ0W5Ri/lHFuLdRkYXh6KX6LohXXqqtGlzOTkN7JggYnbnNb/nsdwqteuFV2YS5cMP1tr7Tk1/tteN2/n/23q3XkmQ5D4vIWmt3z/TMmXPhObyIPKRF0ZZl0aBhGRYhgbANW37yD/BfEPTgf+M/wAcDfrT9Jgg2DPnyYEuWcQxRpCiKoiiey5zb9Ex3770qww+ZVZWXiMzIrKy11u6ZwMzuWlWZEZHXii8iK1OXq0BD7JqcSTlmeJ32Gj4qV4aFStMULUnT2l5VShl+9O/9XouIPlK26aim59YGvT9UriV1HV47ZtPK9kY+5SFES0TokMheLq1mojazLJjNfewamDTm4PvxbOMHWaqTwf0wyXElRSTRZms/XAjzPJl/+xde7lakQocDwm9mEUKyYAksEBFYSoKEgUMB06oZDpLT4KzIGpPEw3xKu2eBgAGx/FgJgg9iP4W2Dk/VEjNRY/S37uxdPfxtoWTIN/QxtMiRq77iOy7wPLYQg4yh94F2WgDKYTekShOhiW/iJrSnXKzO3R6oMt1qOnrW1OVwfq/ozl6qADWvUIGeZdtZAtVXQy101UYlQGmZYyFTwfGfXLA/OTXKpP2CL+Y4GZwJ7IgaxcWGbfIAIMDDCQHgr33ng//63//2fjXKdDgg/OydBeDDIUIdF6pet5JRR25/qDRIKCUGsIFeqxHMjuMGTFiL71e1CxjwaHnc1ECAS0RXpCYvTUG1mM8t31nXkd3s3b+T1/jWTkcpxPJV95xrkL7kd9JorXQTM2ugpa6PSLdmHx7ifr60s5KfEUkFfKYFv8MuepOFAEeRLhZP0a9qchV1dciuBT9k23XeQj/ZgtPlAtn7vdQeUUAAmC3RoG+6kilS62dFmIkA4O3TfIWD6Q8HhD/+/BL80lRCISiB4o/wvrwVcEhEcBEbO70peXonw1dgXw/KA5aHHxFanwGCoB8BARklht4vWdRkJzVhjPFvI45jh5SBPSOZKhs4H9A9y6sECzchm3L3yNWTfunv87ZsjqFDJ7gwzJiHHVojnzmf4Stv2VzPAmkUwv7PQn89VUMbh1J3ZV65Fd6zRu8ko1hbkxFCpTNVE2zJlE9w/SdfmbGPMPmXeSgK29mHWguB6BdolpPkYsLYY5NQjHMEEaCt6DPBZSYA+PPXT//Lnzz/XUb/rz//AqBnYVlOCc7LLUcEnAyiHHxUEDsgRHZzeVEw/0zkRrUEGmqpYk2sKa1zgqN7zaZRXJZRs1QTxign6mmpQa/KsYvNDlrG1kF73A17FqMetHivqbW/hFZUFdsX7jQxzzv5zpW0B6XPc+k53KT/KMOkV9PtfR1ETaZ6Xgl9/XCgm+zLSFR6m4mPUFHvuxq4GuTeDcVWqDd2NLJIVnyFtKxfQgADeMKSbWsMMeYJASGpByclPwy/nT/DiWyKgI6gwwHhH3z6Zr1Wxu5kKrUr+Ubdua7UcBapAOzI79RZ0omhahXsbHU9RO3CM0TxAvCdQ740s5VZHzU4GvjexWuvH+CqqNwI482v4w26TMKBzdjuMRxATWtS7pMGLhk9iPKQ4yhW3cRW0dExWKXz9GrNd2/9ZBSNmUka45tXrMxriMJuP1DKqPLbU99qw/2LCjiKfEz5oB0JNtzW7Qc0qEm13Bae5hRArTVT2VonWzxuzVphzV4QyWmKr4Djt9wrLwl8ecbf/W62Q+doOhwQPl42gEbFeBrWYuHsMuToN9KTTfe3bOyWhOU8ynC9mvbzSv3eSIVGHWIdxL2WL4E0Q2aJ+iugtyy1fPzz0tRzY8J1x6NNwXGqlhvoOZpfQwK9e3MeSZWlOEVqWlB9EOnFHa1YgT8Wf1azV/OOoiszf44Twii6wjDZK2K0ikp+ioD/NeaYIS/xnMn+I9978rdatkHOEIasj/fEB5kslWBJRprizC0GDpdCFEIAlsBaguI2rK1VU3Uc6Hvkuwv9/O3z/4bwF792Dn/m6zzDR0LtFJyOcQSW75ZRjnq3Kx7I4BBXlYeeOoOIAgffrQ8MMXo5tV2xJA+RJkLZWr17B6k61zGeu925iNYdj8pFu0/0EtJYDfdzUy6HO0i6hjrWFpVzNcWbD2ov/QhtWqpQSNAU17r/cdRHY7yFI5gMZ3UdanqzCGF8XG8qXqANgvSJhpvxbLLbOA5GdCmEFDTkZbmGTdIIqaMWRiwsZ+1QpjULE0tTnoexZMPol5QqT1NzllIUJKy0YzGisY3kmJ+CJ0eP1v7DP31dzrufDgeEf/Vb8dEZfq7bfimWkVYCdno6GTDbMJDgCJV8G+SH07ETWii+Yy5luqFmhqLw3wS6Zf6kSuCoupyWyxT905qtm9SN2Y0k+3MNXTV+/877jvfKQG5HcDiaqhpWAd4eG2ls/Qz0Y7GFGvUe6cOrfaREuUOw05Be8d7MV2rzupMEy5S2m0NiWdd/n96Mrqe46A/H5N9e9l0GZsNaHiJA1XLWZluT5ZFxicpnsPtjMt5nEjNLl3JMphzOKBvfWdIyVGD142UBeDzGC32aacB5iDU6XMI/+GNmY5wNg6O7LqLsHZT0C0sY1KmIDJlmXDYSco1MSoSVqiAmwQIsUay2qD2rTy+4/uEZ9UVFEQQ/J0/14HCxr4SCG0Osd+uL3r8YZZfwe6d7tl2uqdsNQd2ddJLC0pP8qfJRR/rr10bN412i1kBxOYsywXOhBvP6GPmjMOeXhm7W9Yi56sq+h8tuqdG9BaHp18hQdrHdKHNxm/0PKzQVDzkkmuuHZIyiZnetBZCsXCL8+kN6qPtwOhwQ/uxdsuw1BtXkTp+XUTYXd60SC/UIwFq6zDk3ZK5SPbr7qyIfLThzxwTuR2/vl7xl0e3njgac459FTqWmqeWO8l7huI6xFITMr08HCdUs5xjL+crUrQa7oOXKoK7Nz6QQfdtG6TDf8/jJTpc5HWCC65HtfuYa/l8yjHEbovXPV/X9HGhg2MITG5PYx1KiPCBGAP3ru1pkM+7+bopiKgXTo+BnyeOY7YFa5PhUc4RUWPLx87cX7vZIOhwQZqY5tjQ8SjGh/DC8DDrkQei63ObY25g3NCX/9rFArH3Zp1CBf9jEtmjDFDnVRxKK2LVpFN4JothoUWjU+78pjlHwp+0RJGSvrdlW0BFWUmEeZqawfWqwC1qOK5SSxps17Tpck3KFD6qBJipX184hWU2/vwi3QjDDI7es12YsSWyxnuQrWuiYDqd6ERxLe3xBDYlzj9joGuXXdZYFdVa1wsSXheZmES1ePmFFK48x5GE9IUzpOQbakp4m/E9+82Nl4m46HBCemOiSIiLnH/KVhQCQbVhKwVN3FmHmCzhi6kitW70MZC/12bOF0gFsGzxzXdOuLLMizhfQzuvWfldkx8UoqkYqDm0iqES9gmUp49TopnDaAEElvWPpOIuhgFcLVKjh7sov6MA+ulor91XRETrok1XXRPRJvNWEfUMaPuOxXpudxJqcz4l0FXHVQomhrF3f36teBFem4701TUsG1K2cJTRYXQ3XXlY5h95gTJAaLRdIgKndmb1uqlLIbWSaxlcMwMuTWe1BFFT+7icPv/PLr2oy9tLhgPDDsyiCq0DeLZdHbqkYFrbBmot91BLMFDLs8JyXRmMS048HmNg3d8QQtdQhQIqz88ZO3xLwu3rzEl6YnZ9H0YAQ6iAF7t/WHBtyOS5GVMCrR5Mynlx4dJ2xd8MqSnTQJzvCxmtf5/T+0P6edmhfHR6ULpOwvGonxzpdufuJ4u7qnS+TsPYsu10rzr4VcNzzDFOPWU1ANOIL2YynsG8qAWk3rSmvk4t/YmpM10okuX8cYDHR0WGMjfuNl6cffv5zIV6hAAAgAElEQVT8l4z+F7/5CS/YIW6TtBMfSV4mNtp+CpRnnXDPEZnlrKpOTU0vaG0gi60jhTJX8Epmr6HsONEsR0mpAvAvJ7hnouLagoNEvjd05aLci31zI7rOMsLW2NqQZB10n5zfo8HdRnpvhZLubfTtocBmep9JKOL4kh80+YzqcgXwxlI9eEHpzSZVvSHIhh33Nw7j/+M/bcI9C8s8Y1bnxjJIK1gI4HG28eYmjK6/+NH5u19/aBPZTsd/Q8hDPHSRHrJcrQo4WoAVKUpPEGbB8K73EISptLQPmatcWNCV6hL5lEwBWrp30hX3TEDKEHncKPG+T0y+0tDi+k50/5m+wu/tTV3d0uh+FD6uxe+njAVi3ykkv3EOEjqWWmNrIe1feKmnplVVOznnJMlSlvfmcHo4/zuZ/J/FvKGnvuJcpRKYBh/eB6SJdM8cdThJdlKy1C5OUPDE73a4IxoAU4/NUfFnJZtmLSABEHUuLNuYiNklHE6FRFVped6/+zd/8TuvzmzqgXQ4IHzzaCFrsalUv8I7n9slBnxQO4IICeNCP6h7lgguef4F4obaLOs3kQsqbhwYo1voKXGPwDzM2dK99y+mCsGk16Qt6E/sZYV4jW/28r3zt/5O9artKZnCwyIbg16kZX3KT+/EviyTtEowHObD++o918y9LRMl4foIWUdkP7o+77kv9dHVSnTEO2iUP+XwSmCWlPXyUTzXpaolObJSQuyRBfMiLdIMwQ1Jwd2KExCCjT9t4phi/lMne0SEA8EgTv25AzWKgYrGccuU6O//0c/+5U/ftbFpp+M3lZnSMBoCzMV9K9lHRoj0IeIaw6v6Ouqk6Y3Loey0/l5yAr8QcGM4+b1gavAoidIT0IEnKRSmklWDsBGpFQd0a96R8YD5d0hkNafhmhYYHtR39jsa9kyaKp6NT98ber7F7OgFw7s3G4PVi0bhusxKz/8r2k/PtGKPGNcDgt4Nau0AScyyvV4+V+NCwMUIxtDKF7G4FO5AFaAoNYvfsevt8tWcuqrVF6mkoSWaxcctfAvgeqWuZnCQ+n/+Fz//gx+97cjeRIcDwj/80ZvkTnV5IOsEQgDLVaYlstmOoyLvajpNT0Qs7uBSYkH+fJfawqcgpnj8mytycyQaIISho/KcM1ahTjpAvTZ19qwNqPHpLtxt4UGf66DVZaSnZ2oLXo0G1k9HrKyjr17BtzLQj96U5fkC+9tSFcBfs2Kf3YTTbCcJ+3kkXFcX+o4K6ct702GEhznzlcs6J8x35W+VkFLATmz7HMAz6/UwM6h7qIwqtuDdsR2h2s5E0KEDIgD8m9ePHz8cjtcOF/DuYtfrJBTF1AsBANj8PtKMEUgJHsE605Qr2qGZevivQmgAsATTkL10VFzHzKrWvQBs7wLCjQtFNw8bUcRcHSnlPgSI1cnxGVL3GgXZGHA3Whu+AOk6C+dYena2XQcNHOLlWNlBdKs20scVd7K9B7oTp4zE57CFcBWqRozvmXLzSFoMlKbLMA9XD+RtNWF/D5WtXOs3wvMR3a0jutO6lqqDNEoRhdAstucqrFT2SUOjcNFoG+0kwjBjI4jxusBSNawpqpubShXSuIS1wrm5PxAAgAH4xgen1qytdDgg/PiDZIGuxu5PkR8SBpMVZWm1NWwQTxP6rxH5Rq41PbKdiuvEDXpVSdUhc6A8mlxd10qVwsbjIgMdtGtgSozunUoB7UKGwvviILR2/5V6/xreLV0N2Fyhjap2v8ZFqaT77HI3dMq08lG/rwdQgU1HtPwIKtSGdChVvW4yq0C0rogJ8m2DpRXf9yfspAr/G4xVREQq76FJ6bvbA6r8ZL2i/pthx0qTt4/ZAnTZIksucWkXjpRT+gWWTCRK3O4TN4kXsuVapVflDAiTSTFYjEI3TucJf/D6Sce4nw4HhN/92gMAlCAYuOcMBe2BAPI2iMh2IjYlvTyZ0wTGBfpKMgEAEOFktiryA4KBRJnDrG3KH7M6risa3UQsTmD0wNquommG29CqWJMCFP3zTGhHv6gvg+jnfTi3sojn1Yb3QOUaa3K/HqTDdahalvtEcV9OyttCWpxUoP3TYO5Qu0lPVtVG8VF/FFSAHBrACRUL8kBa3viK2MP+tY85lctNREDZkjUFbqVswZqRI7cAEH2lyFYD8XY4gkeQlOZjxCFAtry1suIWB6CYhogLApwnEYAHe4TUsS8QnHA6xerjUl8LE5/1wUwPp+e/ZPTNEwH4NZYU1GlSn+KiBNyei+FeAlgW5wbtlAaqAMBa+OxxfprJElli+UU5iFL0h7a87FNg1J8W0+dy2upxf4OIc9dkKVp8sNef5lXuTIF6tL1mpICJ6+36EHWU7atRoeajHEOYXXxFSirX2HXqk/Xh3pzuR5MvA12/to9wAVSNoA66Qs3cbtrsDWA2Ucauhf8B1R9aU8Yo4meZqaxRCgGIWOi1yKss6wQCIOlzSap8rJX45rclgowVv6RHn1KybjBOqaQ4rMLYuoj4ydlIp9H5TVXVUh/tfCEMdHX4IqxG//S3f+mDv/GXXqnKsIMOB4RfezlBHuvTO9zKvTB+RH4vToexCRGZKDYxVxIhgLVRBuV4F1L2zhb5YhPOD2OvsAENJ1srdKRy2kEn+XFaM+wkYppQkan8W7hH1RRqibupKVBcTtOh2zWtxlzWTul3BTBuqMx1oo77aY35KB0fypuF+6NoD/+etRUj0t9Duw9vl8Z1RSKT61Cnqv0lZMEKApa+C1ujW/1ysPRwP0Xxt6oga9l4WWr56azmNEspqW6ZV6BbdlWEhFIATdIpCFaWcsPQmC2BO0jDfvrOznJluSBn8KPI0CHACAdn3AAB4P/74Zt//G++6NG7hQ4HhN/7i2iXUXb0mmJQvL1BiRAMgAGyfQxWRoNnaA6gVrIICcglywZ+PFAE1wrHUFp021N5KqS9L9bg3QpVUU3Nh0PeyAJv4VqZBQTNxr7+PbfY+0XZhZKoENRvpz4H/A2RzE7pfS17UHlHdbMO9W4ouoNJMrHlbiDJnyfdBJlhTn1l3FPDh66tuKshkFOberrU9wB0Qyr4uTTGxeFtQZXzuJjoVrMIlmFRJAIao7T2Vg2ZlT1qsezjwlTTTjnAQShWKyO3vqWjjppCuEih8hrTlEzBgiYAQKJS7IXyjJyCuFRhplX0k5Z6/qNP3/23/+f3y8rvp8MB4cMp6kJ5pBU5yx6Df3vGMoElmGkxSotjrY+MO/+whmxwiWN5B7Lu4+tqkRfjgj/WpcRHYI0EE4sIe2q/OD43h1GJ6pZXw/pYtZOsnnCXE03JZwD7HYQAU7T4GLMLPafuRtY5JOtPj620Wvzz+ubdvRmUCe1Xr9uyG1Izrd0ydwPtVGOfG+2uaRR4UFbCtV1FdxXxV1NemaXqzcooJb7fyhgyPgnIEpRhA5sxkJ6G/NoVk96/nZW/LoEI2KiV8nZwRXQO2FgDt6UAoU0XrVuVuyYyxxx007okMiNEfDgZw8Qw498LoLWW3l5GqsbS4YDw7/zWJ+FPZYEo+VckRSQp3hZU2EummQgIEUP3g5SQhEgj7g0ikABhelhagNlSsW40bDXRpGCA7GkJTXwwkNj3UJ+61pQaP8A42sGeAJ6GLT7W26+Sk0zSQ8O5I6R5cIZhNPJNP06BK9CdY547V++e6cpVhzeRek1CgDuYKFjSB84as6moVPz9VePfnY2MwvUDAJCXtWycCdlG1qJSASmzbj1XGrohQiPsdeNTFPaTRPd8uYyZy8VRtZzeUyKxswSXuV4tK9uHCf7Tv/xJKekIOhwQ/vYvfQhLsxD4RZwJdZ81mjdzmmbZzGaThbm45n6OQERgbV3xQoI6lqxqAWyIko2dKYNfTUGb/DRahLRRUvdHFLtpKH+alDjxPJVT7WoDYq4UShxuhex8re1ol96ilSb1XuoIaa50c5upTJo3fWZjDCaSr8cKvU5b3HmL69W7VUGuN+nsJv28LTmqGkTcighAcI01Toy3AM1sSOz2dVqjoM4PYt6cRoY9TdWJwMSyeMmjVpoBEAEFu3gwTIiyTUljme1vwcyo5QzqnKHaDbAVZybLrjIKjfo19bdenf+j92BTmcdLsaI0q3oFIgBiI3QYT/dZAJbjpKVlfm2EM5JEwZ8jWscIJtnwlh3XBIgJVtw7SXH5NdHW4tawuQjR0OWgZy02K0oaRv3Oti6We8ZKJgcB09HfwZ9xZL4X1BdjPIj61MhWIY0UmjiipOshpGS4s7HuPFakV2/QCphm2il3v9p651R3ZeZ22n4RjZQxVkgqOs2ruTk7vC5zLzWLYII2fNm2uT14fuWpfuCqpUpWIRTGRBIKTNGt7dMZLsTc3TUceHM5fU5LIq0sRZMTLFElieJ63ExV5eRDQfOUgC/AT99cRu7JINDhgPBPf/oIUtUjmJYCYl51bPb0FBMo/UxEZHg9hWzlzqbtiksULVam3CEQ3CJomow41a1kwGPFMfpKQFrcprhh/Kf4Viu7jfFQGjMsef1KTdZdIiYjkp/kORdVBx0dj7oJ3QlIuIka14zNFqjcozjbQ5Xx+tSkT3dgahSxDpGrqSEFn8t0TefUUUOyA57dIjJ76GKKToYO4UWa1QAMbZcHNGjJaV0s44BQg4qfssxIsCKFJNBQ5TCknDo9cWG6o/qY6GDtM7eo82xNTuEtkVy0jIMV2VLYCfDf+sbLsi776XBA+MMvnrJ7G5yzLQgqCIZxBi57p3GY5zMIRWyosottvgga/XexjKdR128Tn6QluFiIj3thomczRbkkxmV0XLhdCKAUz2/l7xuACfGIQ10LQusJRH2aFBWld70rRGqtPLv0oUHv853xqC8Njamhe0M7t6JCbd5bVyzow6+WqOW9Qh/QqNFKGrUPDTj3kbBGrCdjKdkdDOxWFZo6didDfdCHmtL7XGxcbTfl69PG0AjzA8HIq/Ny1xrF/ZMCC3CHl1r5zc/1KI/A1W1HAtgCNMxMXuRgvBmey8168nc+fvjai6mmzl46HBC+mHJLEdd/MO5QDKhDtzCx6OpBQC5FCZik2lB2Z/UeUdiohUMwc4yEAEjolkD3+Vr5iSotbMpMx7yaSvCMcMXxVB/fTAoCIAQCYZvTAVSd7gW5sp2WZSivKeig5hfS8RmeO91HgY+MLl9N/PGkc7C+J9RXxmvWzMBuc6sG3en+yi0lbXxlaLIrEIo/2mgPWGB45b84Tzub3hOKGXLzb6/mRzZnUx8WbRubsWnaAZ7in43kbfNSWCOTGKbc8alZiT3/1sFyc2IR9NUiMoUVYbGlTdodOXfRlTaVMZwcyjAbU3kEtohBAICI+LUBpbkCJwD3OZ7g+sPgR73zkcCHqqt+EQyCyc/GkNmOGwtUvEbU9g85HFkaSME4JLBEcz5FHUW90/XSz5i5dJiMQu6qTaOuQNGh1UHdvvMr001MritXRfVVnrithqs3onMCHNBY99knWdqj6kHF3NMc1+xjhZQ7lzA8o/7DE1Yt25SUHvWCwCbSA0gEhBen6eFs2gKwZTsySrqXdKIKBSaEZSeI4wkRsLV37BO4JzNBCUYJOUrKZCXP8IQoz1voSFhuLD4S4v5FMIoPH99e6PPH53/sxG9+8yUAkGDrV2shyJal3SpRMMclme68CAz3Gz1mzQBE34xK2hCBdS4PTB51DBweQpZWfxavFeunZfawDCT+ecekILboTg5qUsVAQ6ObzdBc8qieC7nVjEMf615i4voj2L4fdOWqKItD+SKh7mEyonPuUqAs/VmY9cqKkpyg91bGDmAAxVLoGd7bRHScPjqfdcubslvbjmzovfParosEiPbpSW8fI2Pl95K6FmvJUHwPI5iXJ3PKtn1baMEhLurZV+MJvyH1ozA0pVskPegSkJvSwPhENv++lB4c2BNDOwgungHEHDIeUKFuDeHJTNXQ0bdfnV89HI7XDhfgSCrrni4oBNW2aKR3sWTrAZCIAKwQVixJ7NASuHjy0jER0Uc3g5cgLpobd85hm9zcTVHw81VggVQ/uHiTpD4cMtzpZpQZh6QXcKyJgMuxkyuxmskRVYGaA+DlnDwhAAz7kLPPi39Nuc+LrlyuscOkI2x40Dg9gi3vgzuepLI890h4XyjvWQz8wgt3Z1hYV11XWXbWURJqhCME8PaJPcIsVSGoFwlLdDjdB3U2eaEGAb2d7cVayQfuQSkSyWZYXTRuv6o8UFNVeWQNvKWeBm8C/Id5llhu6SmCQTghTiZSL0nn3YGYPGIiH6ntCgBABhArp5whYJpA1bEQEInIZl6GtKQ/fztr+O2kKwHCxsiFqoOHvSy6v0TrCdZQ+KYGLRCFgWkKz8+YqNYy/gqYlADmGmQtKYOaVMhpqPA1Lqc7ijj/OJtkmT+4cdtHy0ta1FlpszrfQ1PJ91WTKujeIIJA9IO10628+N12ZLXct7U4r2DlH1fAUWHDeyDJvdedvZxgVKNUnVQ7aWA79qn3nAYIxwhLDyv07AaRo8MnHNSYIm1xgf06azkUA06LobzBqi7FhI7I11kewVWg7bUNCk7wguqVdZjOh01giTI4xokg3ndSNiaN8TvwFauY8vaqY2yECYEALsxXb6maL07XGOaHA8LP3s0AMBncxmhMYcgbfacT1zPHTPiFqBT06cTDovCCVHoVaw6MnZFXyCq/ItwwwXy4bD8UsE64P6IstbDgxHYDjTZL7ez00uHm7/LOI/m9oAxLUiGpjsNXpKS+estzhW+HMR6GrAM8oyYeiGqakg2nbod5+V1BDaEYkVpdjuX0+pKicH1lYv0vspnZzPaIXGuynfWmFPdM0Z2Swkq4WkPvoFTHojGA2+KpaxIxnuj+ipKQD2NyBTYTi/dWIFgA3RVFKfzqKktLQH65H1xsuNZOoDRCCABg1mgrmwNxtqWd86X1DDKUoPDSuk1SYv5pFBUAAP72r39NYDiSDgeEf/jpWwg7GYuoot7kUWH+YpwMGsM1aZKS8iS64eGWAkdCa6dMLB1+CzTphbY9D/GG84dQ7v8SsvBdvSK+PaE+W47k2cqQ/UOVWVfjFhSO7tgVKSr5upT3bk/d75JKxnGl7eNU9gxW76uE5r4bTa7ddGU7SVmo7rKXi1P2m7diNsctea1LfuR7G7B9+tzQScH6X/bbsqMmhJ3My5pr+FyzaW7SDQ71p2SAJQ9qtVJ5OsH4irbladU8B08lYZylK7MqRSXhfv9ZjBqY6MD2b54mwWRLsCkJbBIR+oeYByqCQAFTFAQwBoRetmGYOGc29WWaU/gUwUwIAL/3Gx8xQkbT4YDwk5cTgDhEoo1dVnJAJgE3iJbIWtWivKCGGzok56g0RXlh50IAeHnCs+sgAK5wJ8Pnb1+4vnpbvLIOjIZeG9yGAMVZgnypVVNShPXL6F3NKB80o/XNEjZ/6LlKrzLvyCf1KH2frDC/BzrqPfJMgmXPRM2IrhO7uBpV5pXsTvjObq2KcMJUKpCnvyZJovuihXdId65egfZrfs2yXweZgBxzGk65OT+GqVhFPA5QUWWNYyeR+KOJS1U1kbWE2VKSgUdHrfBZJsRoUx4CAESKPrkkAFxWGjL7OhbJIJwmBOkTzuA0CnnKri90QwBDAAD/65989mc/f9Sr10dX2mVUOnWcwrhXQPmSaL/7CnvgoERbHLZn6JFrME7ehLgM5+jpw8mcT6GGOKE5mXQnKCyfXBJQYSairGxuqTYu9/i8aYGK8S6OBQnXCSEA0f6NqwgV8yZrIXZJrsW4SEDQeWAo+XR1gPCGRJk2PZmuRc8LjbyXdFCRD2rZnO31DfFqpOK4Xh2GMdn7erq3ofdlp5tMPcd3gqND6wdXmwATilIV7t/KDhHt/mpF/KOImNNwwyDiVco3BHLxDMby1wjgdpjMvurzAZKkPW1wnxRYOOAPl1k8LC1bYSskS29E8p0VaYkA4P/409d/9rPnDwj/9z/9DACMQWFYAVtT4Rs1BF71nUExzdg24yl6g/GBzazjIrx+N7+dt65OAO9merLpCmQiQAOnQgQt4NDgrI7x6wIXd8RtKjWnB5P984t0xmSUpJt7SpKxFdytfvzrb2LYLuOo6+XHj7AxtPtt3M3gyubsV9ZzKx1kqOnZapqMTVPIWOa5+uiGl/2I7iesdbox3aFKStrv/hyixkKld/+QSr6TljpWDdre+fr4W70hV9NOSFo1lmP53FAWllJIujVHjDXTnGF230xpQnQf8rERhGoUlgCAmEARUfJp0modixbjEipU1UGj208dFohCR9v5hp/P9jw9/2Mn/vgn7wAACY1f0ZhCeaz1GLbSxfBL3+RQAQIRWYBLvOPxsrSSLME8JywoSLQ9shYulQgaNwkFEvWODG3CErEtpPeRHWp51GsCGQdSWR+NwmID4eLUGUmDLcy2E6nugHJfZqEAtPw93NN5DN2JpdVK2iGzO42SNNO64M/p5HlcJ8k5t7y0NtoZV6TsL8s2SSCYpjwND3Xu7FF6l8FuW2SvEzGNSchchnRUDRN+ZdgI6c001Hc5oMvREl3QCkbmnv9RhU1htk0kI1tQnXFWEMYroVhZiUs/TY0AMBPZLVWcOOO+roDjuMXqiSoF6AHTtBSPmybfXhHhC/czAWFtEYG1mzH5g9fPP0L48cMEABdrrT+5Mfs4kNjvCCu0uTrkrCEUyy/ZpGrxTL9eeEgDKhIvCQzC/tJLdCm6rp9qYow1QmUUriiobZhUBDVmIsaBxM1MzA2NaZiJUyump22f3l5Ku8zuFq2wGVw9KFyXs9wJ6m0t8igr6sqGV7W2uy3InbST56HYb38bNWmyfxYBbm5EORkITrOrOWuqRa46B/M0ZZ4u8R7jqq+ZDnW8dpD0hU9f6RqKhl66On+zRnxIQoVUAiJU7ZKQYaXYAG37jkqzMQPjfhIc3040z5Dy7QNTbMhy3RJXPEn6Yi+MUnW8WR7Z3Gla9deelOLN5KlwN36QeR18W38w4Q9eP+kU6afjQ5AGIOsW8RDSwcGCL4N9GbEU5NA2ci2ZWT8JxLg7aTJnVNwXa+PPn4rS1BFZAbjJCOpHzaBnnu95gRkCU3JN9XhqCzj+Hog/YqWJA/TGA/qStiPFbtm9Iq5GQ/TpYHJv9dBE9zL0DqjGsGj330YHNcQo72wrlV6cgxqDxZDXobHdqbkIsVk1dp0MViIAoWAAWE+A0FRJu6Kst6M5slD6IoZ/4jBHJy7SJtdVchRIayQFiC0EIhDhZHAqWoEhHyCQCxXH5bf44IISCdTeePI6K4JQ4NfTaq3VDx/Mr339hU6NfrrSOYTJCzAqczVs4QZ2ofvITohCDi3sz6AsLt4nY9CVxXInXbjMbIctCVaP7cxjmXXkdlo/hKXCUCzk7p3+W13c81p8PqfKmzvwzbm6mAbGpBDABLxsZT+q1hl8F3Ffv+4td5a/g+H9QAg93b/OGg3zNFcOfClJ0vO4VuiOkDSpVLd1dtCVR6Im+NZEDcE9jjtVcw2iO5wK2ttCtQ18zrhe9lLwjbUhiWwZCEi6xI/KfgtFYbublTcdg21PvI83hEUdFkgpiz7W0pBkRWiVVGVAPFuwNavI0WIrtlWMN/UR0IAkJnc3hLFctyFioRT+EL2lAco97d2F/sq3XraUoIcOB4SPyTd1CGjAHaq+7tMZGL5cnUh7fQqkHBJE3IZCmO5qmafxR80QkHWBulKnJFjdBbEfIk/Ikb4Lh/OwjLcZAeOCRv1u0XUK18+vVJrr+QroiRvqaOmfSOoXooZnS1CwQeh+/UbsH5vxHJCpZbjchnL4MbBXUnYxhEINJc752B9lQI+FOsyML9zfSat6oklQI+R6SyFx0/2dpHHuH0T68bLWXlWZcnHYUNARdP+x4oSYNz6BvDVOaSKpl53C4E3AIkYXmuZOxRfyRJYn8nmLtN9FjHHxwhV1vughLOJhak2FvBRcWVUjYLGgSRabHjnAAt/JwMkj3VgqAQBYAL0N4o3cLV6iszPRy5ituDxLMkHdp6HCkXM+p1mPwFg6WV5l4a8//NHbP/70TV3vfXQ4IPxnP3ob/SZCwhcnPK+Sa6e/5+HX7S8fVsD17AXZKUB5EMwA/sKr6WsvYnzK9EbmukjZIM1gmLTf6IBtx8JhkEvZ946rOuua+RX1Yf2AVSqZyS3K5p4BTlTuu+AUPejVr2OrnUafgX3SreLRcKUst+yS7qbQ9cF2ziZi06tn6pRJtz491mVRKJt4uK2PwnUHE2X2a/o4yr7sa1J1KBX6pIZJR7IhA601i54JweC5PQPM+3w4RdWYYZUGHNhsnsRkBYM/+9XkwmtvXASMYmPNmIyZ43iYGEisK6WlYHsY1uLCyaQPjMk/90SDcJ7gvOyx2UQIOBk8G3w4oTHp25AAgRC5YicWJgW3m1xu1hei6NJ3x6rLzZvo/cXF/sM/fV3gN4QOB4QPU4p9iOjRHd/hYDEBWDCIH56zjTMQDOKDwWTK2Vx/eYQgcFqlkC+ZEQgQYDI4LccEItIvvDwTRgcGtA1o9J8UVpK5OVlzMMG4NywhGu40yD0S+BnS3VaMYnmw80Zbm0NI5EbSk/JrMupK659ceP3OVkMD38vY3FkrdIBxd6t4xREalN+xN6dqP6xW2pCiYXZRlS5htrKUAnxNBq5y2B5K5eL30T10xXvQoUrdSu50YUgMO/TRvWXkvIrTuzpoTOsf4JvBkws0NbMulIgUaRqShIwp/dJoQMUigiHhMymqe7srNcew5XU2xGzAPgN8cDImykFPM7290IWB+xpITEQwEzxeyHIbvhskYyiPt2QpN8DBVVLpWHS3QSjIjVd+zzGGOsEffvqWSTqUDgeE/86302WvhN6LEHqPrWvDzCVzduf1CZTiQXKjXujM2Qe8E+JHD+bFybhEM8E/+/Gbz95ePLeVbaF4oXSEV2fzyUuDtVPnEQCQzsaEYHmPOa/SkIAI7O7ZJfLRIRjM15ofdssAACAASURBVHq78ik0EkP3BaNN5SErcpO7U0vUcVc1IgLiunZ8F6dNpdHW2HhEeFAAoaHg4zR4FrZvgTT6HxfwKXT9vlFxUND1IHpe2n7ZSOr2w5umzrBDpEF0uxvsUbfs1L7/ProW3zn9564vHNSxynI6Cm0hlH3JUS4CNoTVLH4hcruLSn6zPLIS547udUUVXNTFOjM/4WDhzVMsYtU51lgbagAniFfL9Q1LGr2TkCEAACKuqEnZrU4GTaY1BV3UG9Ih6EB4OEcAAQE++eCkkreDDgeE/+63P4A49kJL+C4mejdbG4+cCfFC9Oai/Zaq1beMCAT47hIcJR8sTKYg2QQJEuIZvpvpzZyHkjg9CZ5mmAm2zsWGnQozAsaBUyylDrGU7EsvsghlrdcEJABZvpHzZMOcdvz9sVG4kPYYy0iE1PhprEqN4yz4nUTC9UC27xndQ9Hu3/C7f2pqx3to9GdEV3YwjRWn4tYhkoiW3Q36+Vnm3uZyHFsRCsNKziDfNotf2p951q72kGJS7BsnAs2CXQIgJAzNw6JuyTdHDmPk+IotE1MznIufgqc93oIQdjKRONJtEBPxE3sOrgYtUxIX+9FYnnxcgghRXAaYG5zOEmb3KQ0McgTA8HA0IrBkp2lL/HAy/9Vf/Xpd6X10OCD8rW99AOCifL6wKIyIeHmnA/G7NttH/584/i6Wfv72EnqPGH8EgEG0Jo4Nc0svieBi6XGOEOHiBmB7AwFAdMQ9Zpf8+JWUFT85rNbiOmE2T5qxyNKv+n1mTl+dKAbhZKTczJyG0gN/ewfttpMXrTRh1Ca6Wwu++aXfyvb4Lx7ztlKMqn5ZQ8ozyKQZRscBnv2cR7hnGGpqR33iq4GTe8aoheoa5YFKvLsDa0PyFeuJT1zsx+oOxh47N770DBIpfEiCLomgRtLkc2LONCvPdyF1Dcry+NBVhiMIiLx5WBaKmTgXcuCc8qzlLbBF6VkJTBnB4haDk0XVChnIdwimJyHByxMiQsK0PIA1gU8EsACzGAfZRh8GWS4WPMoQyuh3qIx7K1l8mrc7ZwPf+fAsqz+GDgeE3/vBFwDwFMSJpSZJerR36hCC/9yu3UJC/83cClqSuaY2Rfiks6XS+ZphYgJrc2iCRjkbBXO57EhaqrEJ6NQrD9d/dIe7pCId9s5hGW7P/UVhSW3y4GSWLasQiMCHcilPLnpfBNKWz08pnM9HpnVLoyr1IQosPu2nfgiiynmsZTl819OM8kJWi52+jfTmmDZhPx99fR0C4AVSaiVMv7vouMUER9CQltVwe0Z1IlG0PqmWmDWgSy+aoaTkn9icB1DJfPXU8hLNEm/RgXTFmOyWRlGpQ2oi7DYBDmGtF0aBNp0ytB1l1wxp4g1GWY2aD9UvW23iCTCZEqjIMFpAWUCIS2Gjn3JfeXk2Oe5umhlZFUjPKN7CyOuiAj8+zxwven17of/hn/5EIXgXHQ4If/8ffZrfbLHeyCAZNCX3FEK+QhecIybuM9JCiooGe41Z2g491J5+CMDXUkWRbFOe5a9yEgMAAMvPeTVCZq404ekinoiEqSvlN7nIvn9faEuApYfVxmSgX3PzIzU1c5HVqkWiVPB0GPV3clXOPWDgYDus1Z/QRQRwSnfYuiGxXevmpHR23LAa763GngVdv9Ike7rNiaPOBdct45X6f7lIygKjN0sknTH4u/JtrExq9GLHwtqeZcuwttVvNQ1QQjqKvAVaLJRGp2gxZgUANoug5GSyoxWeLBngT3JHgNMEJgnz8bqxdxNtRM0I4GdfNC8uXEMbrtT1Faysw2D5iQAT+l1neqaGfFEr0Q8+v3RwaqLDAeHZrYKVo9ITC+YCcqigtG6ZwIrOjDGuY46NzgpG5x7wjYtEUHfNVHQpjImkD1W9EibjoVlsz6rPgm0rnFhXbM6FZmB3iKrotcxymIpQRqaH0Obb0TX13Zq/KemqdATvowQpA+saNyZD5aZ6msfWWEJjQ0O3peei2KgGZfn0Mb/DqrtDlWokuVGLGQ6k8h4jkRJHTTKp3YLFgM9CfqOBNiez6BiSJPZ67btaDREDrLTZKNVVSYimb7HbcRQ7S5ImtgSw2FG50sjiB4KL/4g1e4IwGZwM2xU6O60Y1WAYapefFOJGke2dhjSjqkQkm2N08XDCOr44TeaXP3r+S0Z/6eMH6ZE7uvGDE55qWhAgPzVEacQ2LIw/1Yy2qlCSn3FGMIhA6bGh5HrJoDlh10GFCIRgTL5WoRpDa4lzNt4PE+hGcDYfL16Z2G23TmsIzP2jSCgCxdf9LoKDtNfhId4LeIz8UVbOTgUr2Wn9cwPaWbSD1H6/Q2qjxp9kJTyL2tu9hiZidR9EcDvDnTeYNZturO5Q7uHe4iSbFmAazJNWsnAPJcpBZ8ZU9Eez/HRim8gQGUOlT184IgAiSr9sXJ+SyhbNyeXqK2aSbzKYGoNOt+1v4j0vH7THMHr3RLPdpCYxttXDEE58Zes9AmVYOvMteMIpLYf7Qgrc/BRpSBFCoOUjs7RNiUWqrEqpFg8T/ud/5RNZtTF0OCD8xgeT8MTts0hfPNlgm0/JD8FElJidXKNchAinCbfgtf83jQhhhROAqya+628gJA/WuTARzzsEK2yZZdKFtPjZOY0G5l9HFtVa+jcz/XaGVLrTJpLjUZcw5YDLkA1dhuA4zG8piKJ/RlMv21Gf8uWOjuMg4nCe9+QAbqAr+xaaqNwuOhf986DcPXdzqlowEgLpYNtX3uEdYDefXe22v9HZt7/GB6smxGyur2A5FdfEZGKDgceZFDqVLcBsmfP0Nh6pzalSJ4GKUbxOVowQEDE9uTD1OPN6xmFbskS2onACwepbg2ZhG7C0rVXNuqmvg7r23CPRL4VJYm6TUGIvC4I3FsStL906ctmJvuiSDp5sa54vnui/+39/VFVtJx0OCGcLAGAQJ4SzCXs4ASBR6mOIozqAAGCYTZDdViP+MEsO3BMgEdg52NKJw0QACEg2Xxce/5BXOAZegex2aRrGYA+nrMc8IJ4n4Ts07TTLz86cb0rikD8ggmB/JXkG6qUdL0L5u8Rogl5v6k+5L0sdRISsmgUSkwpQV1J1rA09zPpXqDXWVk4mnnum9wD2tFK5XRR2k4rYCXtsbVe51d3TV6dDwk1Dx9qoDpAzLFCxOW56LGzZmyYrhg2COiNyFebpCBzh9mxoiBEjLIqkVTBz5eEWqCiiom2zjI1ViKn5sBlBstkhct/35BqU0fqGkiCDj3Ey3hzfReRhBXc/UrtobKWD5cSe/YH+o6TFjOdqmNtOdruDYBDOxleFO2Vk+YARTwYnjCCAtfZ7338j6DyMDgeErx4MALw84cvzhGbz/LthI/gXcKlhBAAkREr3ryQAa9HabDFp3HjWD5YCea9EBtCDtoiHGwIwAyy2J8sDGQGMvA0vAVyILpb50C50qgzcZx8Td9Qqq5arQ8ooYgJGcjMz/huOIwZKopxQQe0recmD7XKi5LdwfMsy3UWOp/ScIuaSEzGQeBdFPeF16BlBwbtV9bkj1XjoRzfHikhoiHPqUHruLTuSspc8T6OrbBiuqSnW380QqxYlu9tInXH1VgGctAYJOVaNSlNXKXMTV6l6OYwn+4jzQIhMLKSspBeAUgAH9a1TWha7gVX+yAunC3pwDAhEKVgLpv5MI6R8CSEGAckQfbNWFq85AQJuIVbC1W5EoNmCtdHHZQTwYA7Ha8cDwrMBACK4zDRbwRJPaXWyuM87yX3Ei2mSyBez8LJJkSTctWE2ApOAStdl5EJNhtl/yaynLixIX+rBhP44jUSl9WJdblpwVst7RDW+idCtOuA3pCkRyXtpCmq1aNb/PmUgjibeRFG32Pc69x4NzKaYfTZdmruw7JW8VyxztmbXZRHdCYVRvf3bW8PH2aa6GtrFdifdLRR0dIR6XwYocufNCs9Bw+vRl6FH9hFRfK4yn2SELzvbdL5pVUyJMR8/qHDKLDkObVSyMOn0i2MT2xijXxGwRPD7msgvaO6XmsJIomggFh2brFuOjfzFORa+mBmmBASA66mFHE6VYAKg2yMnu59GTF3aSMsM9KZCLdC6b2JogBO4IygjgHM2+Dd+9RWn5kg6HBC6TUTfXey7md8z0n3shzK4IIIZyAc+akQE2TJoLllspNv0aWVaM8ZvGBOSpQXgu21RC7vc+C4aPXeN70aRXNS8q/P8YUE3hlswEKlOMMXfA2D4TKYwbqoaXgAobLHEpo2uECF2/hTmh86gHiz7oTXnE+5sw/koc6riCe75oK+aJYF15XTiNLuD+rJrqkKIoe4VpJq3esUdR7dSKXd3X03We0n3WcbWCMF9lkKmzF88hGXHo7sjft/xZiY9qRlbnUmqqcySGcaYdQWd3A9K7kkBTxYsZRFBZ/XxRAAWaTUB5SiWFhoU4mDeCG401NK6cMxxaxsWXy/7+fvvmvLy02KxhpY3EzyIaQvzxMko/oHJ2kdGPzjFJzS6xaHBPLgcSCDETr754fk3viHu0DmKDgeEf/bzR1iOk5QOG5gwWkLJpCEGtrFEQtik8D0el57vwh7uITzONLPhfN5apqUfo0HRB+Uk2HUUcZrWjPw0hkoAfsVtqmYEEuUvgytzY/hWV70BLcMVt9bxrhsTY1hEeDHBB6fpxQnDFSdjIy8Fl0QhVz6lhKrLYHEMEXu5SwgyV0KCFm4jy91u/SQvpYIy+/VcfEI9uSS6iTXcWs2jlLymcXsdWYc2X5V53vOv1p0KghIzUl+KbnffAGKMTCll9pHLfjp02uJoyOhQ7IApJhjl0IxtdT48ppEaoICiasheVnJEaJANCYR9KvTp5y40a4pHIQeAg3J2nD5xZv43CfdZTCgiO442e5A9bwAAgIhwhVJoROZLw63/yEMY4Juvzl97mCpud/C1JwE5Rwbhw4dof81k1WoBGbgFq9/8cPrwLO3QOYwOB4T/97/+IvyZ910CmC3a8BXBTaWqw8z9IjkOUXI1bYg50R4BDPKdfA0AbsNI1anXTWk84MmzlM3VJTpGeeKYmEJafh/R6HWVoMwUzcqqJg8iSJ97sdaaywSEh/a5NFNQTZbg8QJvn+Z5ZvSpaCUkTbVDmBCWKUXHBrnvIbKlLNeicnRL3YiFPLtIicdU1J6f64uqlN00Fmn0bit+Vbo3Favd5Gojla0ZVnqHSh0Omqu1lF7QESn5XHsKz/tpBYHXfxFUitZc8iElIEPAmFkqOR1ttW6E3iAuHRVGAlNaoFe2oASK/ch8pvBuCUaTpdJpernY1ABM8/qtTpjKjZMVdFqSmOW49sJG7xi889w/YdBCkBJyM7VdA9eSiCo/TPj4NL9+qseh6ls/+OMH84WHAWrmMTPgEgkjgN/61suqMjvpWsdOCPbq4rHcomJhI20DFYXYWGKU+wC1W3gpKITb/8bgecqMLYTzhCeTdRfGNUEA/gO8XEi+qMAXNunZy/AoEC37FRW8qeU5MCui3n2ZMubcPRvbJU1aJFPcdS2dY9yi7SCLWwjwZMUAacO7i5j0lmD2S361LyHivvlWL4ltBbCtGXPHS+HxYNOFd26Wn4eP7wtZ3AjgB4R3oYWje9GjRoVZaqWB/WwUkLtV138uzRpRX2Vt79FjyJsNXV4rg327kWz+1hIVvL6HEQIQonp3lCCjAltIj3XGTRTBMoutiQZUbmHlLrLKkEHJzd4pn4psk3ShuMWKiwCq38yDMStMUESx4hHBTH4/l8W0E8cIemvZl2AJGKy2paJx7FyGcZIhvZbZADxZ+uKJnmZiHrcRIsFk8O1T1GiMlzqDDABA5CvqT370zi23PJQOB4S/+92PIPmMVW5PBHwxTWFCBPGDOvQdMI2bUfCXIQ/iABANognDge6574xZzUgchTXx7E3b0LuYN1fGkvhHGevkabpHcWNPl7xXJC+kttJkkb7J/CVxsE0U3Ufc8FMn5988Nhzyscsvy5xelz/AllmxVGjQwjQ4hjgVRY9r/mDMUYb3hSp30T1Z68+lWjV6DqzX51ItEtXeM8eLVIsWXnlNdGT53IurT4IlLrCheT0z+KAeIemhpnwIk8GuT9kLm89oKkNDER+7HIFHlj8tIM9ZC1gtiRAQRfgm2UsxA+am/JotYMs6itXArYQnbZESOSsBzVvI0qNL5CPHrOMCuVW0WPnhP43KIlBZ8uCxW55qASw5lbccRvFdEXJJCOHJ0pN128T4vXiNcR9ALW1G6T6USd94S/bv/9FPy9L30+GA8L/8ra8DwHdenZk4GBP7oJmivWe270AzotV1sfyMuBX7NQEQ0Wzp0c75JjRPRDbdWMgH/foCNKIOwAzBJbroAgPy8M73OVWKj31HiCXQrZ//Kzg8KkoOADeJaoF7Cantu8HU8QBM82BYoMrks/nVAAARzh1fMVYEsCmbZRy3YLH19dPGegw9O1v/VvjxnnCriva07DMqrPJdFF5LxtJIuXJ4oEy3HY8HtnsBEzCBmUp2qRGLpMjR9mEkwcxgK8EznJsztf0S0khWM3VmpeLPkDv6WAgfDUOAyWD1II6GKg8CJMzD6lK0GnE+cQHAxdn4F73wNRNLGYesqIxR6SFwuEWFwC3IK26VSMthFQWbHJAgP0EcCeZtdRuRQ38EgLQcQgiEZK1bb4gG4TxhcMYEuWw/ezdLokfR4YDww7MBgMd4h1E2VOga6Yn/4k00S/nU/HEkKVkQTsJYzgCMjX8I9kwSJrW6TIYS4BADD1HQySyYkX/OVEBYoqUg7oANfp5HJIP1CUtLG3xqY7hHfC1S1ui9xHTeCZB01BgY5clbKhNLQNiyCWuae3zKIIvypc4WkJl7b2HT7bTknhEAuJXFnEyWh9JY/q2QCVoq+eY9R9MunGO6lIal7iqqk3OQ9nIc2AQdKijhg+apnsL3vFpEEU6sSZqqgP/Oh0UHLd5BExxoKKuUOtqzHiSYmiqqp3MFssLG5c5EOxvzCx+dkt1G9oktKtRCwjlvmyLrWWWptdMlVy6ZZOKqsru1o8YnkVzzeUQkG7Ybmt7KnMxLRGCBLttJEjwvRCCiC5EPGUJgJREg0HnCb7w4my1+igAwIf7qxy+EUg6jwwHh68cZAH72JoK2zdMeFffmjBmvwWWUYaRPzQ5Ul0vyaiCkQyB45GM8uKVoA1OUXUTsN7GEMFvvfOKHIDJqRiXy1UQEQkUAEOEJ0WCwHnvfW77zdbcjRFV5/QqPS3s2C3eQP4x2efm5jhndd7PQMiEgXGZ5t9ct012Q0CCsWcnMwppuMLqsO/ndTdU/Dzq6usby13DrlnhXPUejTDcmUZZUwZ+1zvqx0m2bILAG4qv0B3uDo5aaYN3CTemV0puapyJF43uwy9tbinslLykkt2lcTZK2HGI6JUsCsARPZMnSJy/PKPSQ9RYugHZa3MY7ujUmFzyrSO/4yHUXulhgFBOc82xDo7WikvJU69yewNr0YBN8lrHn9tRghQS0hjcEo61Q8sTsTL0UBLPFz54ucxwO/LVPXvy93/1FnuM4OhwQfvFkwblJApKhekqu40GLl8GldJ+uSq0l5TaILyZz7guKrRFwCuJBG2CI/y33GGAKTAC4nBeBBIhkDNNR19SVWovQoZSOTic8BaHrdLxfgWrLHHZPjgJbVRfYXjruuIkJfcbImSRQdEYPAUG2TDnPcRS1cb5C1EMt4uYRmPeDvqrGO6QjGqXKc9RUqolGtmV9xn30HkukFq7qEa3dJjWMkmcaJ7BHJQGnMA8Tma3GgQLWLQZqdkud/TLTp1/MX1wsJpZhTARueRoBgAE8mWDT+R4KIg+CosbAZKKv2kJxS9QzVyFi12J9a0+AJkgd9pr9fSzkcbqFDXkWJn0e/ThN6QIu4jrUliMzICUnusE08cXat5f01Pbf+42Pv/3qLMobRIcDwu+8OgO4A/g2qpwxn/ZClJ5Gd0P+eW/V+Ubd7DJNRoZIFRaJ5CzmF+SPfSJK5+0K9KzFiucjpEqQhmeBALO1s3K7Ex2JkiTiA7WpEqryqIkINJ/Cm3DGI7AEM6gyClTr15Vhs4eugO0PMn7uKgIzilrr6mjD8m5N8SGKHcdkJ+f3sm8fRyN76VFV38a3wZ5uF8VjmT4tVse9LuX2r/xRIq3pZIAE4UOC0MNa4llOhQCmxijnuN0hyGORJQOH6It3c7xxRpgl5kRue5J4t5Mw5KcLOm/pBWBnrY+pVNzx6HfW8H55zlRMVBUYydg8RWGsvs1WsAnYkFMgZpHIsJazROXaOZmtSD72Uwr/pK1PALguZEUAgH/ygy/aN+ttpsMBoaMPT3HEmQKAnlOxF2YzCBpMQ745UNJ/DP0427cXa6HexUyepGW6d1+oIj/uM7aYXhOQtfyOO4VBibCtPcjJxI1CAE8XmufkDEiVpjUQSYueYTi1RLrPQkUVm4FojZDd92qs17WFoSJz5OPbVjxciZ6rdTvQG6LO2FpXZYfKTg7u6aHl7c5eVjtzx6mYlBOXA18DHVMFNapVWnp/7hOtTzZwvJOuKUfOMLUq0Pti2/jGxPJnWVQMceWTfYNc1bUK7yT2vjMV9TWtKELFx0wA7M4SLZTmLg/mojOpDOgAAFBcwyWK1gwn8ZCv2EmNAMvJCBVvOAqI0VuAQtZscSGz5NIs0DRXcGUDsQQTQ1AiIIo2NooQHIElSI6yCJ0gyX6Tk3GLIiNjml0purk2sreQXQaVAy9fPNo//NEbpmRD6XBA+BefPQHA63ivGF8LxG0tFVD+xGEwZ4jjEm+dIjzoaxExCcFl3SrnjqtiDErBUKUNymxPEbIjLGq0lL422wWjxUQjhxdX8LWgASOj42TQIMDs5oVoR6BSgyEiGjDuXNC0ccMRslYwBsOh9KIKBlS9khMVDdvN+E6gIo+cda0tvNWrr8I605o3sPAzaAjGA3dn8K3J2hlGlEkKhXZX0P6abSr7HiyX8FGSEhRVzLJ2uYW8TUyq2Hg4FUx8rfXfmGBI9qvNEdjblCmXcRl969ximtSjxCYOR+f3b/mOvBayaGCbMpoZKbup8bO3EHKmE3tTQRE2sXb7efR7MTSMDYLbk5A1ldnciyXZoKY3vGVbh5b9PjjExc0bCIjAnC4ABIFtTLWPldYuiV7B7dpasLDt1cjHJ5bIKsW1Guag4DU5Gfz1bzz/TWX+++99CpDYmVtwBWODdL06IXzn1fmTl5PZ4tEI7niQhZufYMjt2RrzIABCH4IDd2ODcicDOHHYbWUbnh2PaLyHirYGJ0AAChYGOGVoS8IQC0mMifw7VbLR0GibS4iAXE8VFEvWcUvGyGlC9gAZBDwZV/NL/hSGi/ZNMuGfTOEjPkx+MSM7jifaFU2GSfMpJJfD9E0A2LZE0zQAPx1kWfMDYQt6bX21IqrIhMmE680jbJ1ODM4Uq8xFUQ+6apbvaKpaTLOvbltzX9lq1cOJu/I6rLTHU9NXokKuApyGpvH+FXVXViGjMLcr7w7qLot90sJxV8/pyowAS4Cod9z3Kl2St0xDdd47BxsCnI2Zsi/VYhuEFyKjISmbP7rgZErhVcx+VtFpKMgFzVg7Gtf/MLy/fe+J4M71WxLIcknez8GhA2euh9UYTI68ywaFTSqjm2oTiACIyG7xFPLIsvD+R/QFc/gi3bWEkfyNl9Pnjza/P5YOB4Rv3kV7VJIPo3koZcOWXBA5AkwGLdFpMpMxy1THtZ/biiM59dyPbx6dE8DFItmoZpPGoGD2InfaOhKgoWX0UqwSbspA6GMI2SbQd9OtHmlKchFV+05KFF7lIEhAaTzqAwDyG5ymChDR40xpRLGLJgNnSXyqDUXN4C7daTCsD0hPAerDxR3gHAS0HGWbgCkEOKdTPs84IURk9kDLk8moWkkh+C8nO8LYXKfMiuxqp67YFU1joo80nVNM8+Uw5G9YyiFDRHn/JpSYUUeAnfulu2qJhPgKFaq5r/Zz63/7q+VYdjTs4yGQQVyd+AkbFScO2AyxX68zBghhpnTfuOwtzHugM292SWVEQCREfDA4GTphcUVYLFxxFnIFsuKSaLW/xfYlmBCd5x9L5gi55YSTQQPbq98ZqGhMGsnDtOpCw9DZ8hwazN0s/P2c+ALG+8bGCfwBdi66qjxw5fuvn9yRDYfS4YDwP/vNT2CpHCQw6JwKXHwiqJQnCz9+c/nR509Ps7XFHR8pX+us8PVEobC4Q62/VvS3xLvy0Nom0Dc5QRjNpzjNln8NFhNcLtZysD/oTQyAk3s8S30vUB7WEcFMFB44SwrHUqtejxe6zMoFOcsMEbuILBUnGT1hNLsB8Kep+tZHsLYnuBb3SDnZrqNllx6q0UfKfwVbTIMaJRfRbYiE6y853dBuv1I3vRvqLu89YyuRekb/TQsqeVbHcBf8r4vQJikt1dSovlv5yfqjVZy4N2QWodLqv9+VUmabExHY7LO8yLEZgKqJY4QImiMn3Nc6RPT5k303wyX9WiuQncEUm+5tyWiR/0gwfli3tGieKumsX0vWOi8Bmpx7LHemJfLmOCDNFsja5Lwv44JuC7f48DkPvsJCGq9eWm7yBp1YH7gUDcPfy6XZWhUpABUbdyBYFhVa4cD7sGQTwr/4yTtJmVF0OCC8EAHAgzE+YoOJwcdUt8N4QTd2o8gHawyCLnS0bdeC2+802hY8d+y9QlGnITcZlTxZiLCs/PRjvKAjUlQF+XODLp6O6VALgYnSXyTJyLNyg5bJwzkiq+EmnhOh1BMIk7k+n4aiKShHzZYknM22jVwAiv6Vgp/LU/EgWq24/nxVWLL33adBarejG2qGwnU33Vst35s+Cd1Eve6GbtX2iNJR8PfKopVsq2ka65+ZvDIRHU2qyyIURpOZIDBlmhTc3M9VOgwtJ7vRRfWgEtrka9NCSw2vApXiE8VCMUIRtg+eNlOIZgpZbVYfLdGA8hJDsusRaJm8VS5x57GvqfQdGxNzo/yLVgAAIABJREFUNOeKgTGfPiMAQjAGJ4Mo7+7vik7BzEXrhztxHkseZMLaIYgTvNxzR86vJeYQAiDCyXAhv9CMDgELwjzTYqdGe9Gv5ucCMSKcETFf0KgTbAxMnYGXBjocEH7v+1+AP4eQABDSQ86ZIkaQPk6OgH7hLScrhkhpRccojIIcvr8E6CTlvzRVwc7GaQG8+SLQjFt5dSARgbWwLEINnQtaFIgAkwm3PmLGYYqQKU2Q6ZU8aJh81x4erPpG8qf3cRoy/pokXTC18arw9wzSCTHzCQ0baZSJNownIvIUSdSoUxMs2fNCLORNXskdUpSmak4dLXhNINEka2dv7DP0C7n0+tykSvdU1/XBJKvtkMpv1aHK+SD7Q8MWg/8lyiut3JrSJKzLzaZQdJ99lYiwmTIdS150OcYMAu1LWCMUV4shuMck436t//SdJ71yEHIX/fnR8iBFfyJWz8TjHXvDyW2SV+vMHG07cjhwJdmh62s8BqV8hcRvbGY9JqZ8UgYEs4VZri6+bMoFZAuMTAu0KLMBS0k/AKBo6w1vwqLPzDiW0mPAN0hqAIipR5/0hDh5gIrr56Xun3cX+J1fflUr7V46HBA+WgKAGciSP/AgrIzzxOdCMcJGZMkS5Yud818rYuAwR9YmtGAkxPRD3yAN1zndlE0Xuzpv8MVp+8guxJl8mVg5Wa6mHc0Q4cUJTbBRCdMHhQGo27WGWJaF1EsmWoBoYVotUPyxLoJZxmaeEjgVLcHOlZcKil5jtlTQSqMuwfBd6kqVI1BVViFv0tF8E+jey+GMfbgn7EgpbAXelayaP62fBhZzTz98dqS0575cVHtD8O/iI0n1ahwnrX27gIzFXhUaXkCMLM5KKDrLvQ3Wgn1ZAQhuW8HQDNPDw9AQzyxLKjsqAsXrH+SBxyo6vwL5YlgAslvfQBUH9MkCEFjdtSBM64reQ7o1U9aun1vltnmumcQnfZCYI5NBMc5WNHat3QyUbdPEBLnHWQKGWzoi5OoRAcAgfOvV9I0Ppw9OLnAcKfT914+////8UFRxEB0OCP/Wdz8GALIeNYUfdhHA08xNGSYNNARP3PYb3rUSmp8UQqa4nVj0z+8yRCF+Y0lCUWBXpSwQkVlWRTvXiv8cVj0lMe86Kj5OtCR48xguWdcNZfR5tywYPikrCBsA4B6sW0JpLL3EI4AbvIv6CxLYZZMdBJhi2VJTXvzEw1dicbbPSewPlQSZBiy8Dh2l3e923o8hih5s6TirTsEUxR9qanxlHeQVuKbdvmNCeTZ0qPNm16i6MlHh132RUreji3Ak/wrv6LEeisRrLBuPsWojFW9mx7a9YrD82MVrqn5BB/AIl0Ot3c3AHMR4TdjDCU/p2jIKWRUKkBzOXESrGNqe7NFzOf/K3pHok9EqnTYZqA0VRGZddgnOt55wChO4zxr1/WBrCh0qDsQVTwFHCpOG6kmfAsbX6aaM21PdYCPhB4cNWReJCI8ng4D4+ERP7nOpWKF3F/onf/H8zyH87V/6EJZRYonfkCNFOlaoM7/a2n95RkTxgRMbIwywDIqOGmF45gdhxsSeiLBGnd3+s48z2bA9iSwAKjwlTlvM6sRgDJFqfChGXiShggS9iUVveB9MBpYTPrfGCafmyOvECqP1S99If6Rw1K0s/VvT1VD4Ck1m4xCjFeovVDXLmdO281VIE5iTQVOY1iB1g7IqhRsO7TIOepwcI1gvKcRmGUqN+/k8Y5DUTA21PqSB9jPB7OII6tZzoFaSDmXd7rn3KnXbU4S8cni/+0iZDRR7BElraY3ZCK0mBACaKwJTY6Ep7yov8HAmzyOqV4Pj6T6qW17oQe2lWPpyIQuYbiC4yKpUe/xeEQN/CGVO4iMuNrHKwvg2xX7PzfhRN46ES52J6OBxnmZ29raaZ6pig37o/iTnsTkzOLep3O/taDFW1vL7YhkMovTXYLx9SWr4GTDBKMelK+j79mWmTz+/fP5kZ6JgJZ2nk4G//PUHlaI76HBA6GeB0teiESyhFfDlqQisa84U6KTMaGGIAAYTjKeaajD49DN6hPAwZYAh+sU7hxSCERCMYbYtcW4hi7EbpYMyexkBHoyR1ufilqXhPTXbFR9Hk7LNm0tACR6SCb6DRddkngRLNIsbwUK13oo+Qml6AQCwyGxpM5OdSd6X1vfz9K3Y817M9Fmwv7bFapNhPhrrbrBWgfnbbJRdxCnXZ3/fnDTqKYvQjTT0VST6mdoZHtouQ/pdt4ZdpvlIuvM+XyDWu6mgW5SYALtPEMtn8t3dpYtBfsxShWPydo+PJCcpaXqf84J7dkzMS2Y5A8x2CT1VKyD3+CvVlfIHD4obDmYcXNwjfZC+8ItgTVYzu79uW8GH0fZYV/JnYCwvojSWh8h/zZWbxYhRx8Hkceg2QMjNX4yfrtfnyURswvADwoRo0i/gCIo1M00wBVnIoW4AY8CA+49W9f7jX/3ov/lbvywzG0OHA0JPhNmBnMHfJaIE8nYxBjdfCUFpSK9wAgFOJ0zMblQUGTFD/ytzgsd5cd74v1J3iuYH3gqOLgkBrLBm1W7sZPAWXQreCUgdTg9T7k3z6TA8cSGWgst/bvPYAM4XwXJK4mCxDi/FQ7kXEPPvjWQCJVlXNqAYNDOPlusYOsNZ/XZl9srQx8pkm3Stb76Hq96sLTr0UXsPk3JoCtOHuPTl22n8KbEcZje7PA9aKuRqsY2uQfIc0JOrW9xOtqMUuC2pDP39lLrlDqHWl0H4IFXpupBWJY17iYh2Ua94zC6aq4LS3T5kqRwSXeU/LJtOIpekWFT+SHRRkRTNNLoz0whjal8bxAlT43ytomHzmsOrYjkYU4ICw8o9skSzZZcYBoz8gtKokvM3X9iBCNLQYpLTJT4ZfDlFNuO24A8ByB0yuaENSiXHch3CBLQ2tscJiGgCRAQLYBHtIuXTN5cffP5UKvwIuhIgtJQetreOOMRtqbxrDOPOAA9AlAE4mXgRs2JMEcB8ic6vwFpOj6UoDUCHtIahlr9pwjzcgUAYjcx0tTMtcvlVpeUJBuBk0Kw7VS0rKDe+HuLiyeDLbbcb/+zdLLAnzAefg+IIC1BEIKAHY6bwyI1QtyzwrSyYnw4y6J/XrYIChBzcC1+0ywfXWiLQfTAuqFLjnd6JnYKcmu02AgrX9durzNR14RftNqviuPVl22seNeUuOA0S6jaGCsZflcke0LKT+X7qx8xXobsCTjepgeNIKo7gG95L7BBjPSPdsppxSrfntEpdb5xGBiGjvvfixqCtpPqwUyyF5cV+YMjlJ7DWJ1+MrVSLZQuJvLM1FBDBfyaT2VWqVY7odI29xYl/gYCMEfsfq6tBczKYIs1IKmfEBOAKwz+LKbxkYWQqX4II4geCofGEgQOduD4XJrZ+jS7Mlt4+5WH+bfIgC9YmZ18XG4lwTsAoACAYA257HYqf/vMfv/0Hf/zzEsMRdDgg/Oc/fgtRTGEjAgDjvo5bz4B3I8aj/DVia5fdSqE6YeCKiIB8oGl7Is03MawHApRGiEqB7Z81LW4njyMAEoXnz6R5w0sCqG0GhYAGDS7HSHCqEwEBzRbeXObQ7UIAT3N2WuqisgAUg5cnARFcyH78MKWeqOViMjjp5i9GEqMVUucrJ+98wa+eF67+Y2n5N0M5V4eqSU7QYzpRfN1VAYk4Itq7D0LWU5g3yx7+jMCjEpfpCJu+Qz19H+G8Kv2U8+nHzFehq2EwTYfX1MD9gMaqJiWX4QHEvtv19rCGWkuTpM/RqXbOz9OwTt12TmpKVzgWiTGA2pRRbWCZCuFFGMDtRPMazdZSYDZR/N5CgI9fTB+9ZPaz1DsU1/VZmJ28Tbr1PyHEihHQlpsInuaW9aYARK7wQo7sdoivmOMY0vTIXGkIt4vyHOo0QPaZYAs5ZPjkyszbuRwvQQ3Xy88TTCbh5c4F8JuIJKzPk3mau2ckLR1/MH24k2w8v7mwFayR4bgnENAWpiMAgtkqphraDHUvUlGH2deftPaqUGLNVF2zwmmKcoRg0MNN4nYejQwwDDms7PIaIIKni52t66uxuzPISatyvMopc+VU64bKz9/NCaiihcllpjlzU2kIubKTi6kHN5XZm0lueEeWhNqMcmi3Eig/NrWWYJ+LmfZWTcIsFrdvysri7UrTbSTFU1UHafJeGdX0Fee4yh/C55qY52rtNarObwKbWVJpcl38emO0XJuAESA7JTijzI4NMsd3Yy5NHaOrohqwRXanjqBK9rhOaOSzX8kSrcvJqmxT2EBwNlvMzAL8/HG+WJqynXgKkYZUxKKKdaGkVNt4k32BVo+A1FukG8Dz9nDOEnABDQ+p17At50RM8B7fFpuwbBRIwwLXYRVDTj5plEKGpIk+DiYQMJtGZGmNgZP0zEvJ3TVkLVwsWQunNMIC/+Ff+uivfeeDmty9dDgg/K1vvQSAJMiF/ks5tMta0njMLIljrB+unAtXPWPy7/pr6Tvoj4NMn4e0rHkMPCnLv+tmxfFgjnr2svMoIoBFfLKUT/rLJOJHuiUfrCfOaRU6YNZ9jx2QZL1Yfpkr82QrTnWkxKSdbIlgrs9zBBi2SV1SOlZ0zvOV4Z4v8gzCS4OndRvmcrXy0oN/q1QJeSIf9pVSV1PsqJpcxKG21U2s2t0lur7WqiBM79O7pat1wwLdGFoENEqT+ynRcyM1fKtOwPJRyJLQzS+nf0vquR9AAueiOxBTk7DAqECi67LxkK6InuaoWYnozaPDTTGe0akbxdA4dRDi89QFim3FtmJxFY3RY8Yj7pAir7GEMEuaEcCyR+QaKeXNxejs+JI736StkCZAhNMkO20Qpqwwywely2hE/GCapkkMOBPCk7VPlt/ucrZkLU3GHyRuDALA3/71V3/z1z4S+A2jwwHhDz9/AgCDacckgHBrJKrNZLjErNyOL4ZwM9cxTY0AL0/m5cmDRw+6ovhbJgvRIBoO+rs4cQwNYj+HM9gR0S0hdgs0S2jF02yXIjA9Oeoq23Mk7rva2utDMQ15f8wGrznXUiF7UQVaUgTzG4WqKbxdDdOZCNSif3lCNAD4BHCx6dtHoWQoPYe0rDqsutst4xfG385QYwaLMmd7XDjJv/65Nl0BI7Hvgj7q0DaR/txhQKEGui3kgQ3USh3ikhroU7jB8VTjM5DJ8+icmNrHZYOjRMK7dHEzhj91+Kh5Ch/RCxDIiABI1aa0miWLe1VyE8dIJVBBJaixg/HIJrX4CMACWaDwu8plMVqUFAEmgyZBFdtT5jUqaWwwkIb+iIVly4oWnzJu1c6KxMVRnagVfoC0iQzbIY65pIVFeDGlvcZZ1wY91HT2kFiYQO3cg4AADxO+Op+2PYEwejoZ/PrLE8ZRQAwukNAusQ3c6ikKQiDgqxfmPElaErj4jY2fBz8uFp4suWVoZAEAfv8fffo//cFPpEKPosMB4Z9/9gj+qPmQ4k4hUOoBRgDvCXAjDZjBhT7xxdIHp2lC32nzjhv1AwQCmoHISo6MbVSnG8LgCmcpOSxQQ2lvlX4gGIOT4ZwyPMWQVTXjRaMjh74AOCFMBk/8+XpVxWJMvaQnQMq2M+Vyamw+gYfbpVYAainMI7JE85xptHStXkr1r/R9hAnxPOHp1PZZHhOb3klZn1N/cslr7kPuspZY+MWmLiXptowZOUMpHKHtvPdqk0yuVwDAIVV8JfLNDur2Z6Bw3cGqlfazbeXAmmdjpbdNY7EZNpxae1c9Pf/CGEOEgMZFCiK/t4o6GmPHl+ARgmj6orBMjM+ce7ra57jY91KWgBjYWjLl1JXjTHmi6Gx7yt6oBuDFZJylipln3Rl+k6AQ+2peTStabsofRzKgnQLvBoUVmjZuxitXL9h7ZwsEhJvPYTLPIjEmjDtwIorgio3gCoseG+cG82WGs6FPPphObifGsOsgfHg2j7Odt9hdetI5YRDIQjRopgnPJjkCm16/s2+epCiJZ2mXnrC2V1IQzwsIAL7/+ul//IOfSoUeRYcDwl/5+AEA5nRaSMZvBOkMwITol2SnoNAjw2hBZZh5geiXmX729jJN/ktFzAxlippv2dUGlz+ZiyI89iYcQkRrgtSXU5iGJMeByZ+vA8fvRMPb2OmPtSLU8zG6jW8W9gbxlB4VQjOBtTDvWnO4grsAxZWxEaLzGSkQBJsEF08C42E4GTTo92hNAGtKFE1rbaQANZw4mi09zkHP0xBTnavjipGseWFyglcXjUKhVCQ+GMa9WBRXZF/K0GeQXA0gre+2xn7VPwKZt3Y3r17ifUNcmq/oOsTU9nEekN2J9zsLWgt3296IBGSt2hGXUd1oUKSv5sqyYj43FwwSjJNJL/UQFcjMCACNoQkMKN4PuY84+4arQpX+Wmy6GeDx4vfhzwGMXVAI66XMqhfZ/V7k/TeQ3ZqTAkuTFvtJMe4yKEdwNtldzwphhTtbfiAAv2Bzw4w0+3AZQG2qMgBnYwzg0oKRzgRwAfrZu/nzd9ZCutrOErx+N79+8oc/Ivpj1cJUyy4WzmUPaIgsXGzk+kDEC9k5bgfhJaeqVgB4tPS1F+lBh8PpcED4+//4R1BwFLk1svF2vxbAEqGh7379xdnkGpY/6XQeEgKAGeDpAnbZ+ZA9/yWagyg2piONs0NUuPIE3xVHTCR7J0+7oBZabxnyXxTMAJdo+x0GIuGiw7aambID0AXKZhFKEbm3W8uTW6oPsMVXowkEmIK5CVsg7ioM/dqJdOYhgAvBTOQcQrpidVkGXHkzX0dKltzLoGw3a4j3QAEQImWnR7TxVOiUOSAtXcL9f5vkDSZtyTsrqS6xZvb08CznvR+gtV+TQW1yOD0XPSO6Y6X7es6NCyT5NI8G3lKxA1NHu7YJ2fWLZfGJULkRQs4RTpDDLLIrjQDIElyqjZ7NxwhgDBa83lkdaG16iRDoItsfRDgT5ScegDu7PNwaFVuMs4Us22CBxaUvmwFKVo/Z7OvKhWnKFwEMwmSICC6WAOFs4IOzOU/c6y2MmMQ791iAx9laotkuYZqwSAhAYAmeZrIcSiaA9eMmZ226+G4yeJ0ZfLFkLSXAEgEQaWYaLKvHfDTJcQ9E+J1fef6byvzxT94B+Do9mSRy7Y6pw6jzAQAAAcwz/MufPCJRFuwudXm/dQmtcWpyQTVpuJFwvfxgbHHyPpvtCS1qXWaIBm4proWIQHH1+46OW6sYwpdn/2kqUnigBkiREbcdsgOWiN5l1Hdm3slgs9nO4Zw98RsCuFial3mOys0vkLVsBWyOrxaNOmkyaSvQYbLUhAIOZmYulqirFASQHXUitULNKthLku6Zd+RwiX3J2MRDutUdw4GNbj2AtPRc9OyjZ9FVYJ/PZQBJs+UoPRZHcDM/JPrwbDRvepPHpDKquaNkMRIiqghELkSAzlRgTjJH9nITRgCz9SYUi5MpuM06/J3ZZbAmK2Do3NZJLCq64PJbICKaDD6c0Wg2v8wVhSzYkT6sZQ9/GQaR5h5QqY86E3peTL3ZwmzBZtarcQtoF3aYBXto/S8IUQd7kIq6JWRpOXV8cTxg1oHDVXUrz9mCpSXlZsqkaIsB27S19rpfq2PwzQ9OL8zzjxCu44YIZkLyM+LW2QjIIt/5COiR2D1UYhHRITAZrKsPkmzUhgucq5kDNJv2DUsyFiWC9Kg/XLrXCiot0GW2+k1F1r6/dmFnecejdGuAMr29zHW5QU2F4e9tFMiSEODc8tVlQZN1YXCScL2z+nuYs4E0UhRKFkqCAB+ezRnT4dY3gW/yuorSJMf3lSJo7BBTRZyZj6iXsUD73NwlWfHoYpybwp2q5le2X2+IKgu19BU1kejw3McqoWKIoZlba5ZBs1yFVd8jJuVxXdltZqcZtzky/vzJcpqlzGZa9nyUk0kKBOhjxwDPubtvujhMyP/eXi1YeGcTABF+/GDy4CnCtqElD2zAWxybcYjZ7vCZYJsu5greIjLMJ4DLTE9PZPNtRzm0GqMZnicHnWBCfDitBvKWfWXorXlWXOIKjxOZxWCl9UD25foxPu9xzb7FXWj9kxLFC2UpVSMf/lFRwqvw/LtcCiuaiBDp5OxSDGxyBIPbWkLXudhNORao6zvRX//OB7/+9RectJF0OCD8nV/+EADMsh5zqb51OPnoLKFfs5vS0ueYkYt+x1GEcBU0vzsmzxzAIE7hEuc1V7xwOMzqTg/cxhr6bw5LfSUTTa7fL5vYhHg4STsvcE6eE3LB2wDjNBCnlzCRpWydLzJDBxdnhkGDTHfiznMMcj6xZ2W026LkDoeJp5/og0sEADwbw3xlLJP304D3DhnASc6clyRExZ8/0rzbGIhmvyKzZbbpkpD8FoHPQKuumQx//EpmBAhIc7celIyp6Eoc+ewwkB5JKdU5mmm4sdqnYqGWvqJuaqrD1km5NX1Hg0qoY0Df6HU/tea6Rjcuj2F0n2DkOXgXHWfUMICOxB/8/fIAL9YSoxECML51RstsMp7YbeWD7vD60W6nkUtuAz6KCAmSCWKVm5UJyZVQd8i8J+I3juyTcS8qtzGHjzgV7QIG7zsOBmebHB8XGQEIkAdv1tctol8PJ3QpJhOQD/2lS6sIQkWCDR8zpQXGrjVdJgOECBPCw7QKWnNmte5XHpZ2QFjJOp8A0obUXW7CySzfthIAQO6MIW+Br9vXwA9eP/31X/ywKnQnHQ4I/4NfeQVrgSWUDQDkV48uCqWJJswix0swzXI9mJ/fklsID9Maxksy83OcMfBwwheTi+YSAkxgTiduM6M0P4t2c+SW9WESRvtahuwXt02Te8yLyESLCCDbqJPW0Ns0bd2awQrsNCC9h9vtUnTOy3TfGAx/ENDF2ov+hCf0n1Zv3gsg5HdY5VVay+cOybHFLdfUxsKWsPQ9RvC3RVhdi6AT9Vt1+y0jBPviVEe8Y1cEy2boLRDLHvhW37JuODj8iq5P3d2ytSeM7f8l56qU4uAee+gAv95YI9AcGuxTajxuIukScqm0tVHuoycTrLgT9o5HYO229RW3bGSy/OXeN8Kxe4mkBEhBamQypldovBDAcuZ7YjS5z9DKNs1k4Oz2KvfHNpRScy5gAgDrdjVyuqO/zRiuXFjA5TH57jJhRuHOtJ3yzadwJUpSIMs3yGIAXp7xw/PkzjQ3qXLOo84AXB/uc6eTYdAnuM4xE6CNsoM7IsF6s5/xrsRFXJ/++O38T3/4RizSIDocEH7+aCHrrxiMici8tbB87ZVW7uxbYRsHQUZmSNYhIgIBPMU7Aa3bEnFDxg+FJ0tPMyGR60EWaJ4t1ZbWo+THKWYr+43AQQ1J0byL8rONKDYhDjeju28tXeZ8dlPwTg/xqFMZUpRZVZcfR6wom/IQLrNqof7mYlr1zNaap+IaVNtJu3aJlVB8F5Nd1L4xzV7qA8EH0O76q3eBckHH9tavwGcHXa0Jrt/l2RCFPldrzXTWZORubMmQFQa5m1XSvs7LWYupBrwnRqQS80qnKdDiIKYF4eQ4BwEsYbwvA6QpErYZh0IJClabfIPvU84X71YnZZ7IbaMKvjIQiPBi04hlgbJkSG5F6wpfShYpnrjTJwngYmFd0lyogjgXzeQ0x0JqZ7GHO3YUgb4zz+jtI33xNBORJZiXtakYDtKsuV+e8GT8Rq4WINqRjzseca3z8DYiuF2CBBV9MycbkCDBRy8Ox2uHC/jXP3sHkDami/GeDC77pfg/iHhC/y1vSK69iWBa14lFW9AiYLaALHYqeMyI28hxi3OT0+akEYMACHYyiEjWgiWw6LdvseQ+e7VJ6oQIFlCYcV70Ze6T+2545ZAR6zj1ZQq+Mc6/1IvgadLzgOmOHEWPLTcGMZjCeHCr3iJm9fP5dg8+ZcDSBDWUOO8Zn3BzMmYMZJLqu94UbXQfoMZT2UEmEAKCsN74YBotsI/fzVtwrAI3L85zJGWl6TvYvcHyzIWr7Sat3anuPRZzlt2TAlfGjYUds/wmu+vYQMwuCmluRGX5iB8uW+4tFHilc1gT/5wQaTvJI5WEkC5DzYk150zd256FhSh+Dv5jqPC5RZgp2z8HvVfUmXM+V2bq+X3U2Q6W7Z+5abFYbN4WrdWnv4kUfjvJqeMhQMyHgdruD8GyRXzZARN+IJSDuTgXIa1Qzf21BBcb7RCT1LNBeHk2H71IDhyM4QMgEIZwmNnWAgQRAIgwARokRDgBnOJ1qd/+6OSia4fS4YDwX/3sCcKSIyDBaYLJGCDjXe4LjDEGfvWTh1eTYT3/BEBkIduZE4HMunQxTMzN8xSMyOyFw5bAgwACtETWusWhebAM196fLx8VRxRGEaRUKne//FKMe+qmJOOmWPT0YyfwjRAsng3OzYJr5kRgXqFby6JBmILFlmIh5I1Sgp7ifm7ypLdh21t6D/ml+SHXNrYOsUsvoNOE56m++06sQ4q8m/ThiJuEBZVabJsCCpYVILgw558wYzrN2ENDqs4zyX0mI5hX79wbKTUcC2Y60oytyZu0i9TB8sk6cQpehwp1kjr6+o/hq0gs+GlLyahBpWhqwnzxYRh+4ajQIL21wtkEVWGq58Ny80AXAQARwSC8vRQPe4t/JcwuZAv2Na1/9LS40cVsCMtLHjmNIplpNRHZfNNUl2OxxWwYCGXfnxRHAsAfA7/eQQAENIAPJ3NadsqIjbwlJW7WGgJOfjsPJATrjoZfxi8zutLbWcCCOC9/UDM8PGCuKcCWW3Z2Z6Ti6QUIBO8u9tMvLo/CnvVbuuUQSyzv+UsAsQVlDJwmfJjw4YQfvThBXCnf//zy/ddPsopj6HBA+L0ffL5eI8IJcTI4AVqyRNbtKbSiaCL46dv53ZwtTtxYrN/URYjJLqdrbmOBKHbwbO40Dgd6J0WSwSQIhcAFipd7yfAg2E5iFdxW8Y3wjaKce5CS0SuG8pjJJrh1MmgMwjpFYLL6FDdpuJ51Q7CCli3yLyseAFIbf4ueNwGuWzzdo0S0AAAgAElEQVTzcwhAUFeSVa1/1eD2V94+qJjXacRcaRkxto7kkrSWLorVrkvHY18IbQVTPk6NSgREOE142r7ua1rUWS5jxkl7iM9O83a/dbwpdgAmEJ02Ciq9A7OfrbpnPqONlBoK3rJOhkUXA5+mo+nLCGcU9fWjfIYfyr6HCtCLhtZYKDEHw8qMe4RucluQJKxZaralFxNJjS2lYtb03gEQ1LFtyM2/8JcQFBFd2L1Rl1zlBit+0d9FfpFqAS8kBzkm81tgafqt5gvHybud/HIJnrJTrrhEi7VFa4sjnCb4pa+dX55wphyPb4bWFGQEIDRwOhlEAguztVYwtFkcDOi3Zlj3alxNcrEE0qs+Zo1LRDUcIFKPT/iZSBF3OvoWQhSAEwKAMXA++c89bXEOw3iOoxkNwsmYF2Y6TWQwqogffP70v/2rz0Reg+hwQPijL+btB+HJ4Nm4eB7MyzGahID+D3321s7ENI+7Y+1qmUTP/fzgxwm6Q2Di/uy7vL+FaMwyYywwB10HigUbk8CYNcuqw/JR74JkXIqNT+aiAL+eVfU5clIFBuGM6LdXRXcHp8aX1WTw5WmaDE64BCkFCOb+vJjw5bR82cvhaQ3N/AGobltedCt4A6hbIhZgT4Era513/n/23m3XuiQ7E/pGxFxr7/9QVZmVlbZxg2m33RiQLAECJBCIGxAXiEueAYlbXoLHgAfgCbgArqAvWt19gXADwmrsarurbFfl4f/33mvNiI+LOJ/mYR12/pmuocx/zzVnxIgR5/GNiBhRIfxqAPYoDKEysGmiruFjGGP2Lgq2bEfNwWT247VJbl2LGrq/7gLJEKjPlGUggoSxNHO0rvTOZQ/pHvrfb2iBFgp8I9heZd4FdVueF4S5Fd0Jb+R0J2h1meTfl/5VtZxbMhasIoWF2Fcnf+fotRVnj0vtXmqXxF6KtxUOdqzZhfmVK6BaCR60qHDP0+hyq+Usbu26GQdi5ahefx24J0PPeWot20H1jus5NXipEnovBYSQmC2/ejbPc+tlviCTKSsEZgMTbosO/9R6Rp71Ujv2K59aQetacW/Fdop2FaiuYnelSHGyDDJE2IUKLAirBIOt2MWCVcGQALTgbLJmEDfiZWFcTJYAlcKX2X6c7Yez+fqJs3UbmgMby59/ferKc0O6OyD8wy/S1RnOzSOEWsmksqQJwi1YiU3FWBPHZuq8aYqCKGQlKYAoB2eixcndfpj1XKdsa4W4Nc8p4abcVdCqRe0ebAIKoqM1hfWFowBIqF5n97i0Gqni0UeCIsoJqf3Vq8a6s7DB+1GvfCoi+fE8n42NF753LzV1rJSAgnmwBb0Mu5JsG04ciLBkuIJm4yhc8dEihSfi5sHFqSBPDoX9meR6XNlhRaxDbou5UfdhGKfyY5mXEQmVZTMvIinHwFTjm+olbF2hO/h6Y+U+CNNn+71QdS9VsX4YJHue74SjKnqFVOS18vKp0Svken8SNbK4d3qvyW9k0x1CoeV3Sbe/QI7RIH0BxuqAiPJ1j5RgpjVhWw3LSS3nsXD8cuFARHwQZIbsrWN7V+9rKLTVEVcChox3KeZ6AQFbuLWoI0oz7DJUD4kPJzsbFtXl1ZTRCScAMCQlV9/LIFUElezFEUYauvOCS35TR1uPmO+GFb9dL/MQP5Y7cs6CZMh2iDj8qk7ZtAi8GFcveWCBwGN3ybT5cnLwHkksjeXZWmOT5g/gOKl/6196N5T+RnR3QPhf/7tfph+CmXKe7dnS2GpLJ8je3Zo+Xgo1/uTJWmZAB2HppUxOOgorhSBUvDOyN1Z0xJOOomdACsJCZf/S1G4/J/zuU50jE6amaS1PM42Fy6O3r4QL6DFovlValmH5O5hGGjdOURghcDrbs2HjwoPNv0uJunfVZYW5DCPhu1ThItMzy+UDuvTaUBunaX8bjusPJptqLFoY1rEt4wQEctBK9W452Q40CNgBXqtyz3HmbkIbwXAuzKalyk+VxqrSbXi/Is+NDfZieh3cfKtUlnO6q2v+YGiLjev+iVyS6qvVwqXNrx9veYbZ8JLDn6uWrC0QZ8dm0UKnusSkMltnyu/biKtltWHBDZSanBXyWXI4vo9LtvfCZX3ZNua+zjZM5QKUh19aNFsh4VwdbpQQ1se2vJbmNyAN6yMwlWqdpFlMoHULDCVwIm1AYtKCE4ECNMLiB+PrVk6Ja8NRHiUdMfJ8dxT7xQV2d9dFR7Gkv85ESRBVKAz4PK5tMin2beJRJgLOb9J//vd/8t/8+789Fuc2dHdA+O2ZiOYAAqQBjKWxVZv0EEWp+DIZYioQ7lqSFnk8qPaKEtdmq5N1llLsNh+4S9Eak9q3yz2s6tYcnRtbS0jP8yy697sG+UnvwrSVkWEA6gKJAvMWqY1sgiwDtdLA+nOTvdh1OvXbJk1rRRp/u+w+L8+WceBIgbMBQgRKlbsmerc+1C1nMcUtNC6lPVh3mHe6BeEuv04b25dsX5KSVa92ZIzS1pjutgKEqeKedJ9WcHe6R6ks8FxWV1aj53SRCrWDFRpDRxt4V5V1TE+Xslrgcz+6efu8jOH1md01U2OznDephY4lbR/f1lFZj/cGPhv8hfeJC796QVm+6c1Qu4x/5fTekGT/l2/XCsiWywWbS6cDhdZ0isHLgZ4Gr72IKjm3TFmVOeuNlv3GI+ORe1RmUn9v6zr/ElIQJX5LpPd9Wh2dDDtIF4Zs2ySktTtYVughlQrrz57ZcnCIx/+IkHiTw0qAbuuTOkx3VzYJLXSiUgL0C0F7en1702KeJgGcLU0PEtyW7g4I//yrE6q5N2Kh3kIH084/X3Uq7Icux1WlFY4KUFX5igCTwoNSU4neKyjfKVri5cznfc7snd0kyRtZlf3HP0gWbblyBx/XBGvwnfQ+JRnaV5WQgxFPmr2U7nVs2A7uV9EFQluM9LnoUo7uG+ogxXCBFcRZyUhYW29zb6QdFrJy23zLwKu0rdFsCjUYHoSgsbTDbK3MT6Nbm0a0wI1+EIuj3WLCRcwLBjXmf+48KN5CT12iLfjntsTm3xtSZxS5BYdh81ljNXq/zGFXpd+Q1XdCN5fwu83yUvPrgIW1KHuTyMP09XxWf7emKdf3LfjBeQe2S1TOxeuVXBVvLwKBxpF4uvmt5yVlIBESwujk7bIGuVosNeLakU4ykPujN1HzZrVKJrBhoSy3JneSaxBd/sKQlRaRK147BK/U61pJLL/Bq4ZkQC+Cg6g3k6pLbyDJgsohgKU/w8UMYNadzjf4jgvyrIEGWQUYuOeJpLMGOzxYVeZACQDlndh6BWnJUuHcDndlELeTFvhHP//wP/yjvxpKeSO6OyD87fcHoO/QSUilVjqhELa0JQTPJjwbfjzT2mq4IwWzwUvjHLZRRKX4E5JovDkuYoeKF1wbqzpvMjXklo3+NLFs9Ow1vt77bdxacudflTq6ldIu2zBU1f1NcNBQklV1OY30B9CAI7WoB630qE/0SAGVi1CbG48uvbVKIOG+0d6Mk8HlVTWzZb5xKJ70UPwST69wy+tw1QaxSF0I3248ZfGUZvoL8HVOr6txXupzYpFn56n7+Q4kzb/34H+N6vqdIIpdid7dNPu3gnZtJShoofyHLJVzmdZfKNlFW8ILbt1K+mbrpfR3B61UpBVpLpxRaz6VO3OVbeey7CrdgWl1yOhGBR79KOyI4yzi25IPLSM4KhGIILrYa29cyH9kSuo+ZY4Eu57JWf6TC9mTnGWA1sqfcVaRa2FLEJoqYM6wfC3SFEiwIDgrf6lhJFKgzmwNdXZ6nhNF/LlDpUSHvYZVRK3kOKW3FY7RCo9KlQqDwN1qmFp5gyhapVACJmzgNsMV69+ezJ/84mMd89Z0d0D4zckA0D3gZ0v01aoVEk+5hp8uhGvNFMxsjVe+wZI4Ww6XWiCTggJUz5lK1gdEQCXQqp5XhoaNsHYfG310dVWE8tWPCIFE3O0lK4NplQ8BlMhBeW9TdXZrF8j1eFo15FjgpGglQ/wQvbO4HhSg0dnS2qXTwJ17IwgAWvD2qD57o98dRLUdpsdQwV1s2Dk4HWBcY9oqoqspVGl9OhnhNpk+CkoCcMMQ7Qp5r+5p7GXYrU7HZiett0+fG0F5j1sKpkTcoq9ci0VfnW7vj/zmgIKD5++Q9pbZJyL2RrqsRezK4yjw96ugFmmvV+1EPYNyf2BNKVjSgvk09p0YHnbSSONdJGmm80XOLoZ2vtYrLgtM7tES6c//M8wRztdDbsf0f3ML7PUYf4VqbFCz72ieQ6pN/wRtaaUbs4ka0+VdZ0i1NjhO3dNxkqMaLRQkjJyXHYGz5cvc6GkCrSvlVEQwiVTnnhTS1RHdfcjulc1uN+xC9YepBjvR7cZsaQydH43SWAFDnOesWzQW7+IAVJ6fhVGn0kwFhBjCRtcOPhfO+6ZHSWcj5v5TwStcTF9vGS0otneB0mjdA6er6VAblpx/oqr+agPLQBFVCm8P6nhQABVEq75jYgpF8Dipz95MUnMuxcx/5EYPwTTo7fGCgIjiLNYVZxHobCKkQBQeNMLNG3kzFF1Wb4tfImp1aND9tqQFrB1fZBNHNtcFYxteHLRy8M/m07ujopWzdfsNUPeipl1Q5Gz7jpH7MpRvrVitxd0W04mw1vFE/MnhLTG3I7EY0DZelTdH79XZTiC4hIN74btfCIjftM8FeDuy6C2F3URXjZ03HXjvMYov6SqLdKEwd9Ckvw/K+T5qy3ZXHkeBK0vpDwEf3qzuO3NyYxTLArxu2W1LrVnLSE/b5pf0muMATUpuqcfaZqItIOENC2wfK9bt3u+6c6pBKJmxSlGR0yJ3NLuVokRP2+wFGlr44x1e7OxKy5Nw4nRCrOam0Y1rdb+YRdbs1g+T/PhRz525PFVGVNS5VjMkFHFQxdoAiZnFWUjHUzbAFGd0ds2mqxWSrPefBQVX2FddHcKY2W0MAsBQ5nyf1JY23rtxIHgiyS5OExy0/OSoTXAXaSw/fzNtSOAqujsg/OsPM4LVp0fZco6VCeU9o2U9xQFCiah2HG0WmwXQg0HAks+ztWE7siV0t9ERljiTp5mD1UYq1B2pmqROJUgrjAgEotOZBt+mbJQMWaIFWnw4dXYHPB7kt94e8vXsBa18kqKzGMvZUvyum3Ua9piNYzD51bP51fP8Mg/0ngbJst9LWwHyH2mKIXGaLa3sXg1y43hzhnugjvQFHFnYckx2oc60jiMvm+P34UzGGmqxfI/Htt0wC2G26+J31Alrq/KKJK9JaaK5LO5mzWuXMDfkeTHdMOldGtrFzPtW6DvQLua71f3raXQGZJjUPbaCL9G2IWhxFN3MczlA38Tn9o+0E2BeZGvJrYlSr56sMxxZPghYp0dWKmGPZf9dyVGL6AYobp82VnUPreTY3YHm4o4uhSi5hOvEGrn602p/CnLOMOtjfKXKkjlcgRJpLyu2lF9/7HtzX8kFu4F4tjy3DgYbzYqkU9Srq7K6mpaCZPaC4vPcbl7LcJxzGuH2bdawMSuoVhk3dv22z2j19s1NIhLI/y9oUvLHv/M+okEAFr4c7kp3B4T/9u++BXDQCcK51imxePxbWNA0LrF0wSy1LMsCWzktXVf7OgWQ/tFjAmdLBwkd5jS0GauCZoMPZzPQWaW/rCcyiahoBQqc3xzqVTsEbzftmpD4M2ClYQ+lz086zdvmqTh6mfk3T/PAQWgpATHDmtJIQqDgu0xFk08cXPFsIL7M9mRs17dqaSncQXWVl5gtTDCXKicF3BmZ1/oDBeM/ebisBmVFrEtklijqCDRus2/tpSuh3lr6XRy+EG8p5JUK47qJ4juj5ZztsKvsL6QtCsQmM8rOVDaGuS1I2FWSqxxWM7VReG7jtoX5QKXaolN/B8RCmmY+6JIAo5MmeyloOO3EfkfawH0rIl1m7GYTacCD/ypQBRxySnxHlV+kvqhFsxshrsHvoIbCON8t5Vx7xdTYxHE3DUTVqPyaK0YLBeI3PLftkTWSl/BfC0+0Vg9aiZJltz0uEQV50J1+fjLWWCJgy/C6I0P7kmhX+XzTUOwNHhVKdP969X+gazkPd+05p6CDW463vAGagEBJ5z663ELRtispNEv2bRQCAY6TTMrfhyFAXNGo1AYP3Sl//tXzh2yrrVL4IawQ/md/+BmAf+d33707ijuId1RKq3AfZYQ7Tkem20EssRZFpeEmOOpxl9cX0CGilwSgBHT+eXyouom5WyDjXBn3aHeMCyStg6D9212ahXh5O6lJ1/2VwGl2Y1DgLLlhhlV4rWTS0kGblXiZhSEfDiz5YrjxQFQ3EQLtQtggPoCwkTKWuGB4D0ZJVmS4a0Jq96OXTKejOIRSg+FlxKqU0zu26a8W5nxarbrG+fnzmqNbcVfc9JIbLMj5ahEB1G5vowNBB7LtZbkrwsBcsMZ/UyvevqOspwdfSLc9r5iNaJ1PI7oe4y3QBfm7U5SFMLtg2JVibOdwW+RwAbdVMN/j+QnZRJY07dEHAv2tOvspnH1IaV1Vo8PBvUy0G3Pp58bEiz4SpnlK/34sOOf/HVW/UnQkAzwduepXw4m2puEXxmRzXT4m1i+bRTPioBNY0hjrtpbpRR6jFSaGG7+UUDeKSlvsShxgKwsYmIA3B3VQIiK2SSxhdAKAET7NA/3Dn0uKB+eKhi0tZJLsykeKakqKAAWfP07ehaEEE84CLpfsOX/tTqIGC78AIjhOcsiVnS4kFIgSrUVBSOrttiCByiCgEjloJRAFKUtHtMjbB/VGq8Mkk8hBo6lMCagFoFiBpf3lBzNnarEmyLsvEd4dELrq+Fd+cmTy6cOUarJz+D2A1jkLCuVgSS2ipVx58paMvBRd6ODEIrauDXhEPKuB4cEnCYnV0XgRrWpJhIb2bFgASALA7IxSmc0h1nhPg3NrxJ3+GyUXkWrLdRWgY9XYR/XgomsjUwbLCRG6Zdr6xHAh8XIiBSlntMnLTAKbbT13YXyxwBuliiEj1O2WQlOAEiUd0Jzjcy/1Zlm7VEePK9tVci6zHTaZL+bRwdr91DfGXQIvLrPIbx+6N2V4bDaof3ag+IaI/UTLQCM4t5HiINbm5YboYjgifW/pfjDsU6CNzXUh4ivQD6AVrVM+ZE+qOuK/Vtpsl4UWaCVg9Km4dRotwGh6HKmoJM3gYFapPkgAAqMmsNQwxrLLIAjjnwEIK3jUiKeXTCMfqycBIWMXfejOT2UhWQD1Oak2YybctpdXFgWG+OZkTsZay9x6nWvLyItmWOgpF4Q/5/Z4UEctSvXy4O7ThlN0B5YD4kHLUctDwIsc1o37Oi4rpv8JiIi1NMVSbGd5xK1NnQ0taSFm8yEiB/pi07Xk2VKAaYIO9585sSz5OOln646e4Y3Sh2yjoIRMI0Bbhwuq05paSz1i3IHunsD//P9+DeAf/Pm3H07GNdaXmefGXU7e9axNhgBLnG12N6EjfzuCPOjk6BbwV7gw9AqyBUtFkvGv0m5FO4NSTcEk00W0QHTZOpkN3U2Ukts0ejTcHOhv0msBXTUoLDGve1Y37Da7YwxMt9G6GCkLUiJKROgdqOb3a/imv2fqN+1lnP7ocHNEuC/vynzyYll2MyZJ10gpOagx5B7cfiohlQ51588idva6LZdw5e6g1YcB/2aqV8fgt76i3Wd0iUwbW+3VNhFZ/Lk94jLlFb3RIvGJ0A8GQe0q89tW0BZu16f46dTUiga8kSrL7PeIiMbe33pD7WVtYyNYH1GD4rusf0eypQGy+1ywz/6t3rcGtsU5wyveXRmreK0620TzTWaSwqQs3bj534Gbt2q6LeIFskCrxVRG9Vyfaq9IsKBtLnnyE0ZXe2OmGlJmY8+W4Va8HK/66SaXriqx/Fd9WI7yRsvDJEr1tbpcijpLKWv4Fx/OT2eeDLVIpXj3YbjUgpXMRSkogbWcbQGr6ivqAvfKLUy7jlgYWTP4actsk7CkcTfIZx8s8Tcfzy9nY9xX8LFw7hFMM+7ZbfnzSaYR7nfeH98ev/+A8OdfnwD86mmOBdm2a2+lULEBo4RyoIWr42jPcNjvZNJ2QkE7xI6wlCAzyhAwFrUPop7hKzWnnlKf28+sh/iwnf2EIVA4xjopqB64YVtWHXlsfxtrFia97IELyceIsU8sz83vy4UamFHo8SKM5WxqcJV++yXcnZN5FsESoExroHAE1eLn2fLpbOuPqzjeHe8UeRldENHMkyweduxL2B6yp2RJ8av8ew+6zBtOb9/uAh9Wf1+bdthP8uDL4l4MO39Dt6JdZX7bCtrC7ftlJog0MEPek/t3XlBdgFHRghN5Fn8uodWozPWZXJveUDcVGtwSZaNUI5JtZmTbyDGK9+agtcq2p1WuGYL1n+5gWtg/1lG1xjlPg39PBFWGZBE4h4cxIz1XFe7ukIhsJb3MQgUjMVsg5Q9f1a/yn+VjoZYLn2e+nGjNENK3Cmw47ZLhUrd4AlhLv98yn+Gl+D+W5wieC6gGvivquiLyBaXIUIH57tZizcYprlq0GjkV8ZclVjqKdxxJkHia+XQ2cbUyFpGIw+ZUAqEoQMh47FME/8Uffd5L8pZ0d0Dobv94nq10LhPwBTFp+fzNFNGvg3Z5OPHeZdy9gCAg/hCgX5BWfjsvqljFczqOWrRsAtZfeVlAl+UxrjSWFAxjW/IZKcXKerh3aTJTjhoLq8GSOkRHjBQxZnDBZIfaHFWtIa0Pu4QQSvePkgMw4GxrW0wuQ1ZYZS0vlrgCDqWZwJYXAbZWHdXD2W4syiBhLQa7b7M6FUAJSMzWxh2/tYmgymAphwobaztiV2kOlhlLGloc+hCxaZCLBd+ZhVrPulvkWYhj2CLJhZYYpvHb6eR7lNYdN0Ix+/f7j/GuUbL3xu2PH7dO5VbRbwg/dlkNLk6ibJj3pRuWav2GQwuUZJr1SlvqeQbYRf2J7j7HfTYVZuVab5S77nsuKD8t3ArvOQhwBQ1FEEB691pnAtU8qmU0Ah/O81xvaS2hUtAEHGSiu+mumTrX1ldbDObJBqlyFWy5xXeVmcnBwcx/oVJixUleZY+iRFe6T8ZbYk+QItYofSFm4MzaH2HOVEX9IppFvYLVKRQCtFWXZm5xUAtzb/Cq4IBltyXUccN+typgcKbolW4JB98c7oDg0LSoPA9leXVCGcvTXI9KIlDh/JclbPAuwnCs7C++Pv13/+vPR7m/Fd0dEH77MgN4CUvmLAYo/2ANns5mNskhaH6gzxk8ztbvQmZjqIDbz5CphwF5++fIdjRG+/Cxuw9c1yai3xgZmnvCa5Lx6XEoN7F6cMuXub0dPYujUp5b2OMu4/Oun0r/K918itekGUQYBfTl0MpjhbOxuXecPFYH+A/41wwWV5cmLVrHeHQJnctrlPJnLfL5o2rn+lTJm+dJyVoRgwWBaWhD+DNeq2X96nHCw6HcptwQm/7ZTg/iz1R2Eh4sXXaUqlVYGsO6BW/rnIOtUwbXBfUpg9p0sV9xvJ1C2+U0mOsr1eJetDAg3DvpAV2j7nW1kJundbGEca64jG6lCK9olzciSYPHLWlUsxc31I4C3GO/ZH4Kg9vi+LayvXIVHL2moWdTWtw2rC6b3DrG1BEKWwA0gV2cCLecDtAih6maeLxUAEQBtq+4NpN9krCnMVbxqiD9IbdVwFoEoAT+/vbK/0HJy68adT71i6hveAAQ3H462axl2MrYQNwCJVYTmaSrlbPIHHcfQmhp3bbMDHtHEmCaZNIM++QkiuG9CJU7gQnv1j5Xl8Qfvkqmilblc6p4dkNDHkAmJVowiSp9kUA1SpJkhoDQ6Ipb7hxkNVz3y+fU7CRtPZ0XarIAWkkFY1m2y6eZf/LL55VUr6a7A8J/9tUJWWnoWgsEnF+jczqCTEBRlN9KKlqhvIE8lvBwZKmK1bckKdZMpAmTEqBTXqs6T6s6dDUq7oxg0sgFC6sW7aDj4voeYpp9i+mvTTCPZYdQ9OMH6XC0Q4dQaYwQhF6aJCAqFOGKOpfMlUP/WHhcz6k0/CEeajiE5t7WVIhYHxo4WzzPwasPalEbWTCJoNqRnjEcDdMdRt3JYlvUURgLeTFoEXUlJNw9kN1CjEO35Hufu5KU79l5v3nNS+Kp2I63o1y4+gGtQ2ipAgx53U3fWmTcVHsfXu9JbZ9m3CmtS5P+lGi72J+cnn1/+g7EuM0FC8BA+A0Q95Uz3YCGtd2I9TGUPRPCTlnaALcoHEY1YHucRVWm5F1Ean/FLTluwG+tvk4xy3P67qi+eDxMOtuJErAT4TZzdYp/6I5hs/yl8F1tJuAYBZ+tUoNxJmsGpKFGzT/i4+LXmlBNdAu8GGsMc98Bi7pN58JqzzI4/kfQBvO5r28gkLCKlaWYb52zAMl3BzXltRiCOTW1Ws3uiJz9YV7LoagFINk9uiMQ5YAWRSk8HNQh7KYVETW4Szr/SWC2nEvRDKn8dSvDPkJA3MUECgqDm9gzk4RC5wBUgUqAL959/6+d+HufPwBwBacEky6XFsLgmpUMBLDpyDOM28nNOpJSaio2YqezoCrwQTaksrR19PpFBjNEqu2Izo0yM27W+mbNMO2JoL4LMev7JciDu9Clr2aGqxoduftYfRoMrnnFX+uQ/JSS1u3ndFYN5fLgIaRWafVQmqZGgM0O/MIe07bVpoVXo5+SuoknoCCLCrLPZ8l8+TyllJkSUPDV89mMVfqVUVeowmSWbApVBoHDpIPAG8kNbCQ5mwzoj4X0zbjHpgw/gk4j4WQUIjXQzoTF+M++6bezPLgp2qShB6D4WnLQtuqW+cdSkmuSkm6H2RP9h0U3UafvSt+VhK+d7k4fUHvF29ByXznH1yYno+Go1m6LSIvK7jCpmxUO00URnnH2p0N26xXEBYvuBOuWgzjOiocQ2eevX8wvP57Rvziulj3+vshZ2iCBsZ5P94/NJ8JEfpEnrHPZTpBOta4LPp6cyKWyRVwLkOlkoCwAACAASURBVGFCSnBofIQKk28bJ28HSQ5SzV+fDb955tzVtglrS68f63NkvWohQRlOIbLQxwP8tkIQwgeNqIiQnAcYEm39s1iIEb/CvFTwEjbxehv6kukEBN8/qN//7PjuEE4vNju53h7VH3zxMEruVnR3QPj3v3gE8PYgIgKRepSptESptlQiL3YHgmJvsuTjpGIBxr4XyzMYDxJD5W6wWEL1HqjYfBU84IG+6SWNe95XbDWOJQxZRUB+Y0zB96jk7XFKo2QGhZRQ+92qaeNnJN914U64JdOna5FhW6k3tMQoAZY399e4bhTrJR6tRj2Ct5kQgMK5HEWIrCssjIIcDECReTO/6ux6XCfb2Vhjm1T6ciexEmOKLRuPw4YF6FVibacWco5NWwvs466V8SAogEnOwUZKRUYDMVbxFHs/XY2rzvdLiFXrao7ID0SkNfdSGQVI14+Wg8fN09qtWy1Ff32scnGKo4g3L+FuE14Ithr+lTF4rau/Om2sYtkT+IdBdY3Mg/zbZkxLtI78+rFuhgdLBZPB1rlXosUvQ3bMrsvozkXtmS9DnlvHmlkqrNriWkkNzZ9dtNWtSHYfi19BXxu6AxwWeyVfNWfnekinADtTadQ6KV2fbUXkmci3xDFkQXq2+agxbhyqKHU9qhwUN6WxyJZkZiD2yk3YGOf3ACZFUKz4xWcRBTlbfzPEiASYFA9dfx6Cg/b3Px8k+DJZEDToOGyAo1Ydjexs8fe+eNRK/Dkt5sXsW/rJLKV4E7r7EuR/8Hs/AnDU6mk2JOaurSCQBEOWg15Z35HQT7O+RzydfVlL1gMZgxNKw4RCFBGCSkPMYlWySDE9tj25eJMHYuThnN+MBoHsU8JlbrF+ttZKnhkAvnCUYFKYKe3Z2VgCuZtjAqC4N9kNkBK14b6EWX8NB0BXbHAMBYGyRuo8t4ezBcq52NniTKywBXrBLSv063PdlCAGp0PrMX0QQvLU7QJmxbjZNKkQUG5fcHeeKfJVANIt5GMtT/8NSV6MZbrbOLVyrkTqiiiAKW3bXSEvIzZC+dnkRtdS7xVvc+DXxwwXp7gacXd73pbQgo1lV/hXo9cUoFvmuwQYBL6yQ+6mTY1HLlw7WkiWUjmV2xRr27e7lGFvet+QSqfoxIPLXuxlTT6lO85iCUrWKChOiypl9Vk6wo/iuy1Ya6icLqBSixaBEHKDycDrZKXiEsWHdERq0G6OlQkrVKKCL89O0kERLN9Fja5cX44fGiGc742Ef0ptOGOuQNuvuVz7luolAL/w418oCoQ2wYMiuAIeD+pAnoydDV5m+2JcuXqc5UrStQi3fe5B46jVty8dB8AkDko+e5wEeDZmNjiPXd+qkSrr0I0FVOhbIdA3L/P/9H9/lRYt02qWf3M2m7TjK+nuK4SOJgW/56+Exu38zMzlf8w9JTWynEwo9pG+aLMFaZLWwpjG+oJqKHPMskNShAgOSh4n0d17VdLmuupekjDC9XfzpUO8jtweSwrPFqfZVu07MpyBF0NrxpsoezgMMVfpDREMTluH3z4V45EvvuE03OnmAoQzo2jbR627xTLNmCQIXshbleDijLXlsNq22VpUmEoXwjfvO6dW+xKsvOh873aeTI6WR9P06lbfTVY6j9uHsGGr3d7Mr1Srb2aR99z2vL4q5MXRNyZxfbEMla6rOS/zvybkbeO+Dm2R8OoyHzHYXTxX1kVPDimeg1J1Y3m2G9h2l/U2rqXrDqlmww2M6q9SiepRSR0muSVpTn+123a2pl2m0A845FzBvUKevJIcetwOtyXL66KsHrtI3O81tJYIUK/vieA4XL9rjrgBWsvjwVeWiEylI3UJ4tTQj2CLVhuHgRL+bU/zlEfgBmUiDBCp2FnUyRxTRXRXjJXIcVJK+Wwq1Q3l1x77kF0A8Hm2Z2sBMQ6mZr4zMgcZ1CIKogSPkz7o/jEuCp7O/OZsTtZ+PPPJsLzAO0Xy6399TU0AWEn7WLMEYHJFrXHzoZW41bW70t0B4V98cwLwPHu9M9254b+7RVg/ntg4fldNd6QrF00hHJYTiLMdlJgkmitYuKhBk5zvF7GjK1HvjvrvfvZwPPTWesv89GQc7R9QUe8WgRJojYMWDThgOR4D06nqFlEPRKvGIQeX/Ai/GHHwq3iZWPgetskTSBpRScwWZG37EtRuUzNTUG8QqA+qVehyuNbkRBfpH/3Nw6ySA2CuVJve1cZPQL3J07bExuC/sqqMWXQNIivEzoEZodR+w26k8W9lslJ9G/A2oxFnnMhGYS4Somr+G6kr0pborR65EGx70m2YewO/7fyvkeRWubgfvYqEN8PFt6+LamfkztPHGwMvKv7ll3FRLRRiXyPNn3MzeHaIrIRoS1TMHOJufl7LPXO2uTorAKEaHFFqzBfQpnJs1Y8oXqNLBOtng8qqJHWtSUCAqbrdL/9IzPE43KIhkHmhAZPCmRWvKGF1fAoAjOHJQIlyqoxF4SQmupro6Rkh7zEh1tNlVM1ZY31I8tAxxP2kV2MI0voNnM7haq1uB38eWuRBS71DU0DSGJLKeQIFqUaweeSKgrCUl9k+n/mSOWyM/STOSQQM6a6M/3A21SpcjvgIvsz89mSNJS2VMHMr4/9owW+/nx4mpSA5MpQIFCE1XA81ni8KS+YcxLF+d9THVd+mV9PdAeH/8qffADhbS9Q3Ebo2/3jQRxX28VXGijVqmi2U/0sRSZjK3e0YLEYDNBH4BIe4RHR5a59P9i+/PZ9NbyYIMHcbBJIAcnxLdg0FgIXMxiNn585kXBgdu8RQUZKAUXJqR5oyDQU5aNGrWRIGPF+9hspy2pG7FCbObLZ0ZkVKZaUbdFb3Sw6VD5uw1TXGTaxaUQQieNBDDSLW1CI5Q5TEH+Wc1Et1+Gah2sNjO2vl4fbobS3vcQA/0DfZ8dtMbqYuXkCLaQtx1EsjXszPMpudMu2iLnMu/hzFujLRG8bdpWffhNXfcnqFLvhd9vKNFKbb6vVOyTsD3WIjlI0pLDDpa77NxHCbXi8IO9N2Fkw1K5P1XcqLC2xJUd7lSrUXdKRWSPkzA7GVf8ESUymRY3NfFQGOb5a8xIxHTE4rbVSzpKBGz4gQCU4EZ0tD6zTT+u6v4HB+06AsndscfWMoDdMkbFqwWlU5EyutYAHjt2n6LPgtaaRADhqPkz5my5xOVyXduS6628XpnPD7MvFq86RkrKyVIjaSMlyQXpXUbPnrZ1OFzJ5FAUoIAQUWokVVzA9avTlMbtixmd2GwPsH9e6gJuV0p56ceRnkKEUA4P1B/eLDaTm/19PdAeGHkwFgTNDOM68cBITQwNmydv+RbQFUCnE5PozvfX34oJUV13y9G9rc8uIU+oOuq7CkuC+Y4XQnKDDkaeaDSOfaDMI5a1ke+gTOysKqP2mFdwetRQTu9phw/UYIp8os13zXqDMhdqmU3oJnS1NZkFpG3pbReO+V/Ka+JvZAIMKNGe1CfL9oVclIKbw9iMrepv4UhtU4C3WWsghLnsfHdrlwCUSiYtBsFfkNdTFuR9n9nCOr2AXk54D+Noc0bRcjI+FvH+qyup7upPYLzmY8q3+3UHaJ9uijV3O/Y0or9BuwN6LlhjkyENy1OX+ilVUqcL0rqjdL7ieNFVizKMF1NNIaB/PIhQmPlOa9DCnMYVR2ZcRywu4migUPrUkMN0Vtbnm1/Cwg4XAOteCz7dxiEBePtmVrnSYtegyHI3byAdy+Nsa+vQTMWoN/YhuSs2TtVr4vPGP4IviqJiTiY4QWVp7vEpCzwTcv5sVY1vxcr+NBd5YbHHenYAafnAtylA+hSAU8TjX8IWHDmmvLUkCtoJQWenVxJqtFu5n859+8PM/Ov0Qh+8eTJfn2qD9/c+iJOdTw3YfP30x/97PHcT5vQ3cHhH/66xOA2a2hZc5vY7f8OM8RumVFIiLQSrQSYdoK6EIq1w6aMeRsLFlf7+iScU5HLGnGXoYKc02+nZIAMJNPhm3LdVG7RpkY0PnAZHiZHRzFT47Tl+8OMRWXwXy0cvueVW3wSoItk/XWnSanWQOU7mhMYMPeTwEmLQclKr+ooz+Jhk0pY7GF2e7yIpEuFb3REt+8WHa9ZRPVEOrweR2KsOyjAoEo56qnNeZsovG062xpmZfUIcnCPHYhxSlmeBaX6L/v0TbEu43RHWiN6yasv0ZrNpQb0I1LZ4FdPSr/hgpa0sluSstVkH/l4P0nR68j3DUVs2SMBHC7LKwjoU2fbiVO1E5qhssQIJz18YG81/c1oZy+4zzKDYJI/ONMzFvrdHXhsf/dbQrrf8u93A8ZdNPpmZJPMw8HNen+zE8Elw9xCi7m4qBLrahouU4NrQTxUnh0roIKQubOPmrzvH/rrzer0kiRLGCz2mprjcBMOlcpktpPHkImwVF3RjiSxsLS39HtJyrJ2krMUTVIBzX7ZILX/VZ0AMCk8fZQrEESOM18Pnk/lSRoWWnX1uI007LROYEz8eFsv3mef/U0d5JlJoyklwgl8699+eY//L33nYg3pbsDwj/5xROQfL842ByJoLX9Bqchj9p5kZVq/dB68Cb5JmgCI502BcBQ40e9DBKhmY9rLU+znUmSYT+zhNzUm4IlsgAAGPomUg9ngjcP+m+eTL5zmSiY0ZWeiJZwlyBSNmNv2GO1EoEfrMVFHMAMCiA2DBOdI86OlODxoFS99byVYcjBiwVYwFQentLqcK1rWyJH9+4axsa60x+9leAgoqr1yCJ8Edjfwdo0ns3qwopK99N304btqLv1G2l7eCe3a7WyK1np3WC7RJuY3wpnXq8gLlNnA9Dt6crC2CsTB89/26hj4WoevnPaMIj0n++b6rIce8Pet7jH3Ksvtyq+io8Mnvdyle3Rpf4RPCjkSxTrOyhm22gS2bGdpdTrC516ofp26w4zf4qlPDCSfV9+IflTDjGS3TQWyJBpzVK7a40rvEOcZ37xRk+jwznlDWGjEOzeGt8jE3xTSMlWMu1X3E6oDdtllJLjpNySTc7Tw7CBqt3l65MulTEBn85YOIlqKbZSDsPWr+hSaJQNEi9nToOjiW6/lLujQjLBItAb58iv5zBvHWGbLBYwiCpetoPA//XL5//tz74d5OZmdHdA+O2LQWhwdTcCXMvp1plWMgOGqj8QhcWm2KxH/XrzBvVwHi4lURsmIlSzcHvNGxAqvvVUmieTnSKtD7oC+ZuP569ezsu9z28VsC7FDItKZJOJ4G4pHOdaOawrsekKcidSZZ6d7U7gL8OoSAAGy1dvc04RUsqH8J4SjGfN+C2Fua57xUYmVI7nSyYdMiAp0nFC3WlPbnn50uk/ZSvaD2oS/uqpvSCH+YRUibilUWuB0orZTasjhpmczct1a0PBQZxH4B2KTNNxe3F3osbxJL9FgitocyPJDTo7o16WYKKY5jVxbyLJxijDOf3SdC8j2ZPWJ4ucbwQ3SmL3cSNtUvJHyd2SJAChwdd6p82dcOk1kD1X8qNmlcs5WI2q0yHw9qAf/GGokaa6SUY3gSxdhdebtqtXURUIbIaJsja817NqmgLXxg9mSgcLdNEpLkdtNt3kay0MiwbkIQL5zcnWRvDIlrnCWHNNP8S54ixCaJFDhTP9sgWT4zQVvwSmBNHbZNdKIOLvFg4b/Ogu+lbidMVUJlHzW6OItt1/FrDWnmzhHL+UgYpRbOcwEiQVpFh9GGsUWlTXUwuJ2WA2Yfuo26e4AflPKhRzntRoxTmLqDKFr/L347j96a+f/8lfflhmcz3dHRD+nR8f4LO0z+fXydqXs7W0trleXBCHu8Sw6aOilUxKVL8S6+AiEBsOOkZI7567chM26MoMdXlQ8nhwKTbDUHoohqPnc7FbPZpYmtxwBtwJNxdcKRy0mrJt+yKYlHp3lOMEJSqHyiobkRuHln7cU0VJFQor+yugoIDWVvsoWnpQbscs3dwSikAUoJV60GNHUeMO2DMu7CBanK2N175nLLtj/gqgGCK9FNeH6d+BSMwGjdloYBpL0K75UI//sMavv0efTazvOqnkXH85LguBu24ECzPmyvtrdKzmfO568vGrc+N0LxWvQ237vSzt3frZYtxr6H5lNxrAc0XjdQDY9jxeXxrfIaTkOPWt+dqR/20ZvWHzWrJqLMGDetVkTw29Rm1KZ8qMUzPdj2aOwaSVvyUgf098PJuXdJonUpuRVV23hmiOlm9Lb5mXE7OfcivzhrSO33KI7BQ7XxJIf+qAWyqrVHlE/O0ICnG3pQQTg3IByviuYE+WH0/uXPugMMpNTxLflmTJ3KCsFL58N72ZlJa+ez8AliI2lWGGeDMkFTWb3kk+S/tyznf4wVjLfJ+oQAveHvSPjvo48ABT6E4CUeJX7QQALIR9OCgqnFN1Dj1zjrbjNFdijmJJEjwZ+2bSR422/AN8RlguHQHMDOT7PWsd1azbbZKKHiE60epn7qe1POzcfHUB3R0Q/ld//AXg3E9JXCodbN4tqaeZu/LQCuKX4QigWtgLIakACKsrVGLDqN/QhxTBQankYtifbu340qyk1SJa5P1x+tm76dhmr9cdmGwfwRBFJL+dGdhVTWmQmGfOmdmJwGzthxf7MtOwwJndGb5Wnwl/q02WNpFZyYqoblcGCDyd7cu8BN4MaYhcY3fjjttl/myW73dPlI0bS9nZSPXU6JwIN7lY9iwqjpOgvfHAmwuyIXx5mbGj2jdHMRXE+dFNPrfcxS0uhZK7s/PZaowHtuziGZOvw2H/7ThUrpJqO3R6ZMnAvdso5+6rogujiPQ7yWaS5mEl3A1oO7C/kufqp8voKvh/O1aX0b1V/CXYskeAC+Tsm0Y2G0zYVYCupBsyHA0oS3NYP/h26k5Z2cdryTOvNEYBtfeEJlmoMgRtd4UQi4aBjSSDxqoE0yS6mVy7k62fXZn9DrNfY1AUsLzsutCCgmFb/OJEpSMFqLA+hAuQvNoJwm1mtBQV/B8qJVrLMexKZE9TJePtAkslPbR0BiYsJk6xFn/1cX6avVLb2jIcKwb5+0DDbw1j1PQiqeA10DHKPeIX0IlQon78oN8d1U8fD4fi0sSU7bwWBdCTmpSIKHefc/+aQVBPMmlRzulnpkJGAwQKFJ0UbAJxm6ulfDwby9ZUEriptOGOoZFEFJM1RR9gtj0tr6cT0QNt/9Nar1UrQCtRbUzKTx463mhuS3cHhP/pH/wEgGLhdoVEtCuIdHTurPsXp7xcfVgbiq/RPxMHAQTWoDa/EHBaviTI5/6xXipRQmMb/ZJLZ+TCJaHy1cv88WxUfbWKq+bgcDb8y7IZOxMWW5OIdIwkQlh3qK2CWQ3wSIN7prS2FW8J0spgFatNPg0I5Mna0QFBARY8d7aHDqq4RejmYV3MLe8FGjhqmVRvOXlxO69HfcUomCWxPKOWM09/rK9+FrDFDyyTjpgw411i0dtR6jTNZN4LzvbDWB3rvevuVb4R5aPCtS5GWbPEMEs3o+sVyZ6GeMfkFmhULpeV1zXWob3mqdenTM/ZGng7DbPP1ubUT+4OcHA/LVtv93/Zl8K+8FsKdVsIW/q3I2BscfK9XuQkDDsI+TazR65gpZ9+3ek0szUFDy9DrDuotLIRYZdNqVe1Nkm/c7L5NDK0tHoI894Q9S9mjgxI58Lw+WyNJdzRGNTOZZx43fuKi2BFl/LTvcCvHDRFRgCzpXepTQ6mUH8eRAkmpTuDil+2ShsYk/4oBUzLTMwVvsNs7V9+e/qrD/PXL+bNsYJ+qO/dIKzly8nOFo9a3k/6INJZH/RXgyhA3JWARevwmmjyU9TZeiU8KO/SnqWaVmqGIsSk/QUhdZsjpPE8v2VQqM4CJQEIUJS/y8CDhBjsTP4bv3V3L6PTvRPwCxQNdJNwFvZn76azxa8+Jsc7okSTM3whCSW/sDyo4EkHJ70TznrvpQIdFilrUoB8IVrKOqbQdnYBe5kh7l6KbDDxe+R4NnYGLXCeOxPnUcNSWVAUrKUBmiCuBxKxSy0AIN/W+xvMIwemwM4elgqR4Us+fyzDs0rUouACuyBW/CFawfQVCS50HwGUgl24I2CzmB3mAiXiHAPHIjKEtR0XpVVGyx8+RB1mnHQmgouyb7olKQLt9/16+bWIldTDBvi0xy0XqBND2twXcTdkWCS6y95EnWL8BJTLHcTYHJAVYBPoWjjRcriM58ViXJ+FijaZbvZwi0PS3tR3pXjzcngNWuyPr5IdWRh9blOk9xs2BNgxot2EukMr4J3v56rRYK1vzCZ1lKAhSBkym8x7MiwVAyEKpOocqpLOBALAJsUlNYNuS4m1EJU796lSGRiAU7Z+BrhTXemKsYU8LH3Pr8/uaHOsnsP5FIlFHDTbrBzFb0ryH3r+R7xnS4bVswapJNICiMyDPVhOeGNhJGg+SX8DkfYoRTVJCAh0tkepLhJXJVmbJGGF9myfy6OSUizs+dgMcZ5moyDWK6itOs6n2dj23owUZKhbCTFpdVDKGkMLLULA1g3EcSFEZkP2ejwhSqDhTCpSqF9lhbZ9sqtaOWBiLExRgP7HpPDHv/N2lN9b0d1XCF21tLe6hBKHgnp/0GltRvCg5SE7D8tmlEsbTxGGL0F+vaAA1sLdZwGg2pbL0DUJKGCaRGVIXAhj4x0RpdAJ1ubmJig6aOWRZNsSBTCEsdZYnuNFJxnpkiezhtLat5yQCr19AO6reCaeGaHIauGPns2OqbcOSmTAJjEFsjs7hM4I00umn7TzZazcPRY7zpwGprL0M4kZB3IAhCFm2794NgyF7QaBXrA86SUxiXDt5FKoXgreppsl8ny2JhvPuhxXy7EXi4iWh73sIotQzrIt0kiMdVrkLtl/19Makwpd7Gwam5JsObwyLLlhcnfSrLfX9muq9p8EvUqGOU6nGfZKRfFOAt2KLiu9my+bErjG11ngER68EbxnvRrDvlZPL0hgrUhvZhr6eme8eFzQK7QksQBE3MvXSz5jyeK3/9PqeIOmN1JDiEytWtJVkn4ULlkIrgfd/Jjx8BtNDzKptC7YAYUhB6U/2DoTs+WZlfrVnWOzl+PDEwy+W04mtZX86mgm5UqqNAlW9v0e1M10SMLdSJHapQQsDViBtXXzkMhlTfeylh9OszW05GzTUmIUwZWn9h5iWF1mJq6QxH1x20qDG4Jsw7LfhSjiT4F5fx/J40Y7CjKr2ZAl//hv/tabl/nqFZI1uj8g9LA5bIrN1rgFsMAvPpx/+eGsQsfSEEW+nC2CaUd6DpSjTh81e9sAqmwbcdFCBUXbOYpMWsctvczdwtZAtHejnzdK5dfwNYUQbmJ0P6pgWsnhMIydJJFQIj6DBcLL74Etpwlx5dye7ZJ0pUSem1BhDfqRYgc8Bb6Jd05XZpmdTdjdC7qQHuz1MuuqxgKWhQ9r6YRqoXKzgULwoJQWVQ/WhOnvqc9TYP6l+l5G64tYlFaT22607CS0SL2zv1tgaQhbUrHCz3VYEV6L8l11sIG/H3HMshjqd0bepiAucnUuy8cq6iatKsqxUwe7hYL7Q8Ys15TPsip4WwG6qXTmpSu4/ZDoNuaXNRZbe24++d9AgpCsauaWEUXX/Isi+MlXi0wqakyX0ZaSkdHMUIRZ51QwKfSwgdq/lGKYfL0leTijEMAWf5grRZFP+lXAeIfBWN7smruFVCr1g9nRwSSEOBRkeZr5fLJnk23fGvOOIA3ApDrHMpH2u3Gt/dHlaNh1pc6MAtx1aE3JcVLIvZxu8QSwFES8DpFr5rl2mCvARQuTzCtHIGOTtyRLngyrNuk+HZVo1Xf9QCjQ3fLtvSUyh+/e5wiVeN8ibw7al1Eq31oHVFW+YusSADiIPE53x2t3T+Dj2QJ40AoCJaIBrXHU8uaoXCVZ8nm2c6oRni3cEq1WeHfUv/uTh0kXcoalwbCzWdBxzRPII37BQcmkJR5JEv+VH8/2bI3HgwQW/Yg0iYQe1l5RV0Uk4dfbC9KCz9/oox44Qy3TVhShg8pSdTEK3h66go+PYFEo0JBJycOkdLzvD3EQ6SAaN0A644cmJiUHJUoll5iFVCEOgySEPzjYddKjw55uxkFTMj4gACU8KJWOlrEcBrI9I4qYFChW6uEo2RO8xJkwoatGOOb6aBeaZi/aUpaY+/brqLHGxulnuwpXXklEMTKOWoYrnbBNe1PqsZY2TM9jhvdRkulvyN08Ydexm6fb0MX87lFMV/L8ruBNO+REurlIWzrC9q56s069SBsL4ZWrb0feVxT+bWPjJmvUQuSFj6WXahUgxBKzXKUNEQu8SlE6DdStzrCNNkbaEmy10AomW52ADeLXTsWYH4fvRRKM7Mt9+TJFvMBHHblF4A/gLc2VTQJFKpsoxwcJ+xRa7VpTJ8SCll5BjEJk0Ro9qJQ728q6NKYWRjjBQcnD1NE8J61Q2sRbTwcIDvCXDDaLIFZBHif1oBRUXUexnznAnGc9X/BjU1VxUnk2mE0nQLloLtrdwJHhVaVEC7QWS8zWzuSLW99ggIteiU6CqmxpvNJo3Z+/fjL/8Off/2sn3hwUgNlaB6YtIJSfvp3+zo+O4ZabzDZDiDjXva43yMMkhlZXexuZ+o8zq6DcltgdPn7yML05KNdFVFafoZ78WC1xEEo1k/X6smnEA4U5yOw3XuKgpbl9XJxbXuFw0azg4W9DAcHMNua76fO5u6WaUjrmSbkGABjwRw/6xw+68YPTMGL0ZwUKLKkED1odtByUqLpsUvJhkPGNnc5/T75lw6FxEesP6WbCFkxFCd5M8tO3Wqcc5X276PcUfJxpbWvjaSYIFr9KtlKF3UJE4YaropHZk9l9J8FCcr27kyLhSsMajvzlSbhV2g4dV3is0cVpXFqIfiC4g/5+Mct7YImOGefS6J8IfYIi3ZA21tENUcGtY3aok6kVl4+1KnfTobLz2Ek/mbKd68WeZXgJz6C1ZnM2ONu0hrQbjIzpcmy5fQhMEXbrfgAAIABJREFULtm3Vkc912SKMsDWQl9NyTaefXTfpMAhtT1WlFKiFQ4ik8r9rTTS+v2dsnKNXAUsezLmTNfVvOrJl0YOlCsg50PbeHIkY8HCUt+xjLeSDc2n5RYsp6WfjLXNPYoETnPpvtYWsibJwyHFAIObNAlUW4xLaDfP1oKk5OpvPm7kO3I7LJr6YJA3blmtrTxZo9HKO0pIH0UmwcOkD9FtJWGz2+h9Nt2aRoSB4kHhwKsqLPB0/y2jd3cq8z/+H38DIN68TsIA377Yv/44G4aiSSYbd4TMDUA0wFdPM1Afiq3cYklCczFAh756NgYWrgqUKPizfJKdzFYikLhjONvJK0xXsGcVJpm1oGqx9VQlsKQoQdF5OBNfP8+mZlBwicOj8jtjOxYN9s8f+6QBf2pYifMzHdMHgV8/mWnRg4sb75qN+GKBZ2uN8WdE+106+eLKQEbFyYewhPRckjpDnc/488yPZu4cxIzcsh8dLzFFvrKF6aZgb6VceCtD1mxGPgnasWAkw4BBkWYnaON+VtowRYDQt+5KEiwGG2jQxK+tLZGlfHoHw/cqiF6v+P7RKBc/jNzh3hnZ2b4+lSK9aZ/wenU9z+yQplMsF3Zcdh8Xg19cFi0SKUfq0XTh2uQYLnZK40IZO/PAUrl6fLZnrZBpfQpB/Yrf0ozplO/uKTGPnqqaYNukaImDEq3lbNhXSjKpLKDCRXQduFIl3wuQ1EW3s3Bvkww6CiX6ZMhcWQT1ddRIJClgAtjKY2mbUJS5Zaghk8apWIughX9ThW9AIkgogc2mWma6UMxlIb3/UiC5qiXOfd03aaRV7gIjkaJSJVP3MycxXnJqkailJz+XIiBO1jIrNICzBWC1SNIva+mC79agWfg27kBGT5WfBO8719ndmO6ewD/+598CRWVY8tuTOVkaW+9W1gpWcHKHSel2VEv3mjoHPETJcfLocVkMutt2AgQ18WgvEPuHO7XVr8LgJqV6z/CtsL6ICKBF8jU3ErOlKTPjGvc3J/tx7nm4zJJznwyG+vnIOb9DIt55qfhyaNLhTNrx+F0Z3SIZy3lOXn83DHJDM6NDrR08KXDGJYYrNgwR0eDyhLMqT9n+4rjTiSci+tJ1ImfmKOu9aEmRLbMoF5LUf2pPzyWxo8pcro9dEEuuyWyd4IYK78swcs+UR73HImFI/9Oiy+RZGDz20sb2sxDs+jbcRrxvNd3d7PI9oZuXw/U4/lYVX/vZwHj448KvnOGCaPXaqqrDb5muw+JSOYk4u3n+5qDKTUibIE+dSbI/xZL56spwxsgn79X+P5On2RqutQ76NYz+YcXRxQZFmHoLYKUBioLu3gRYvnHQX1S2Ow7OVSBVpsR2WKRlPUaby2JSqQyrBqYUDpNSjWAMG+VKjh34bN1yb7F+l0eqZ1kWWnDlxqIWuE5M6qI+6HQuV4JWTEAJjpPEU1tErRBIhgYBd7mjczEqJqDzqJKSsMDZ8GQZ22TRW8KegEI8Uco55e1UkAB4e+huub0xvcKWUY2mGSarQFbhIpgtZgNr48btZAvxVI45CnzQalKiSJVGrwT1JCRMwBDxvkehB+GU7K4F0tgEGvvac/eAabgEwsci6W6nqDa6NhcMElAilu4qlQYKhS3fCSewHF9SUUi1q0IQHIBmo1VIo9+lQl+sQKh/111+7OC3NYxWtfc8MS2pQ1Y8GdIi6obU3z3RUhZyHIjhezUc4HGSnzxO7w664hm5LWSbjXtldzOQRBjcZHhVicnrJs+XsJyAyjFxm7K1MuhsgHBLhdH87pt7L6KaTyaqr9lBSluUl9ysOU7yNnS9VnxvfNHlf6tENxbqoja8m9vFYrwabSneu9b79xW07pS7nGT2ugdtVN04nXRUmeCi/DJaMWN5BYcImrS/ZHwwZUnTbZLkJVcR6PLNXDo8rTdZNuNuNnOmN0qghhcRDjiXYlQPg9/+5eiSrY5C0Q0Wp5bxBOa0wWhpb2cQCt5qpZyT/YyLQj9Ra2GyLZBAXODsLggQTSMp0VjUzBudxx2IzbqCALPBx5faH5+092aXwmf2blJgXA1mWDNTAqMfob5e6ULqpriThT0Ec22/1ChpLFNmMhRngZOxNrQ98eqoV8+0P+fELDWvEBvaSjEmJaGbZt0iqXxl3pXAksa3Sb+Dz7tvFSixAL54P/3rX76pc35rujsgfDwo9+8hNoxQXhEHlqvoNmlfZVFXbwjMVl5maxwAQ7430WOIvLJIztaE5tbR7qLfzniOC1HgATHG9AF9eyRpN7jAEsHDQU25N5eS+4OSo5ZJRcbx/sHqflM6T0o57ImNURZnjlD2EfOx/AL4O+urSP1S6Ri6muSqSoxj7laHluXsVMDWci4vSyjX6EPZVPNS78lFMBaTwvujentQKYirC0XpdKNsUOtuNREonZlGGuIYvuSkhJN3buxnflXe9HoZLQFr96d/cKIXoZmAaob91nmB6I1JpTECdCpidypFjB6Wv5TxIIlFGpXSvcFMl/+tEn1l4LGQ3F1x714+VfF2o++sAin+7BTgoqQ8fTfYUraNWMAVQ+gWvSGEE7/7ZRNjGahrNYApfzOgkuDKrZOe2/+iRCSZ1aMK3BHONFdnVUN4c8lVc8YnSp59sCQJpSvrNquIKvjxv4a29vlBuHcHdVBQHS2yZjUqQ1dRQnw827O1Nt3rRwCVN4gAJPqJ2bC5q+uoDyj9qZAMHvUjs3rfrF+qE78cmULSnayr8liZUErJm3Vxv+JCUeIUp0ofjAsrkueIDvb5xN8d1aR9M5gESikhJDjlE78ezhwmEhLQm+TWC6cekwAlOg3WCo8H9dM30x99+fDZm0lly6KpHvrKBGOVMxRMVMWJwg1VLB1fKuVCq1Z4d9CT8l36+cSH6d7T+v0B4e/95AHAb70/JjjIVAqxV2RK8yjPnfcCvph4+183UlxmS6lDoCQUc5NGBAnpa9bcc/iR2loc4BREr2xfrUZGv2bWyzQFf/Czxz/82ZsfPag3k9ZKYkYr7ykCcScyFaBVOuvo/xuvNOfC9z4PCtVtse5xs76wxHuOajKWYGocKgKjdtP5guQVR8n6HUNEJcU2ACQM4/9nYlA91SmcLf/6yXz1PJ9tLba13vNrvpdCVSNsy5OgHWDgFKjjDagiC8wezvv2ZFuDZYmKFkze7aRTXX2R3RwbZ4IyZpuJm2h/F42EFv27JXMai7dH6o4pYdmScStaKpe7zx7A62dqG+2SaiG5Lga7VbleyecWYrD40364CfVmmVdpmw3dZizaRcPRtoSdnY9FEDdb2eBkoQ+YgirVJcJ59eusZ00KWsSC1ZSULxC13PaUZaFJMH8oMZUlrHHIVZLGWEZMpvbdjWhH5S+YSpw5vgC9Y0vDwqYUord3MMKvPblzO4MURKn2li2g1DNUUXi9a6LpPWn4b2UdDRZE6zx4T5uqeJkbG6x3MtlwCaOsVB2WIIXuTm+DHx/1l+8Of/jF42dvD+E4oESNjuI31GapF+0O7s4MVXkhlKNDmYSC/PhB/c77hy/e6GwF0mmuA5875dt6cG3iqKBHtashAtCKVmIt3brmP/kXH/7xX9zdy+jdncr8q58dAZCcHTp3ZynDQT0BtIK/qW5tPc2RRFV+ce2LXpelNO5SSEzKX21ZcBZnfBISc61J1sn4tW0WR1GFEIhJDvu9gDJuFSfDuAu5Ig2A+P++evnwUmKl0NAc4JqUaJGn2XeloyiK81BGH4jdmw8qYVY+59N6M4Tl5ivfi203XMmNSwFSqVUeWbpUTIqh0JWU9w0SEOhQaTZ04C2tjqQhXmxqvG2QrDlJeci6U/psW0ZFAjIePU7BQmGECYvZno04TVZsmwF9lGz1UpxFJZX+uMIGh9oXeugatRNFyXY1yrXU59Z3P7Mpj6+tBL+K7rsrUzvVnMvpTql8NzDm3tTrTbfM6cZ2uDAWrkRc9Ah1b1oR+zLBomLbWKIt+uporT3vEWmuN77FgDJQy7iEgUq5hl4yxtL50zwp60VC9U6mLUIEVWJ7lFbhy7yz8MOMSbI5b38ty7J+hLRO5g83+cZAERF21FMFaI1JyYu7ij6UeO400QdOiqmoftX4KFagBbYRVZIKH3KfdwOBBkSJ99uxntfAsFRuFuI8G/vyZJXgNPNptrPtV60Spiu4RSmBtenQEgVHJWLhLr0TCTtyRSzxzdl++JX9+VfnSUvcXSykY1S5gdzY+xRgs4YUl9n9Vu6s1ggY2m9PrqIJ4Plkf/HteS2Fa+nuK4T/ye//GMGi4wxeClRKJi0aAgVris3cq13WhY2bHPIoYc9tqG8CkKNSU7OR8dw4h9YeWUErHjQepuIeCGktPZL5swo2HeNwb3j3ePArPIRf+xa/chXWSP3tC5nNJUvFEP/0r56/PXVWzkLCbv86LdNh3JOxcE6QQjgBAFEibvGwzkffBtZJcOS3BqFmuw5Xe4EpftRv1PwiwfAPg5RZgNULgV3Z1uMmYchJKz05I187TyydYWj3S5TCtqInni1b6barnEdaj0tCOoGLSG25rVfCJiJgyn3PC0w7JbAuxBZY2g9RF9sddfV83N+h2exl/gnTrYT8NAHVrtyxebgJ25vTjtQ/kSa4Q81vRryN6ORK6k2dG266uOFlGIFajqM0UsmMC2jkFW586VFvNutvZiHWrmgesY6IZiHk4Fud3sb0q+m4sJtmU44IxMLaEpgvzOPrrzuRnYrk9ncyyOZdsfaUBktYi6eTNVEFFWjl1a1QVt4QH3RUvwepkdF/VoTQ7Zes7bNBeyku04tfZ2Ke7WxpWHkAbSQPGtghW60jIM7lx0KjBQzx6+f5xVjkelvmrtYGUQG4fcsqW3gkcbJpgx4J6wIFCG7Bk+XzObpNBAEKLXmYZFIJgOSpD0lBFKZwr5pkDVgERy2qjC1A7gT33VH/e//y+zH329DdAeH//mffAvjFt6fcSCHC95P68v0EimlsYFWRau2QTLGJOuJ8X6CQo1Zfvpt+/KBU5oyH5NlaETmqcp+Fd2kVUxQRNRucLV/ONFYetKisv9OjzYyBAxuqOeEam47gZSbDKdk45GqdgKTb1lwqnAUzY9lHKAGCAngxzi+r52/9ulIhEUkRaMGj1pOrcyFAJe3oIlqk71JxwfsHpSN9oLBXHPBFoTK/yYnl4CSlQzehvAQCZwvwg1GNFB0rwTRu2qfZznPCWJUzqhJsXKhmsJwdu9YjujGKUCN0W1hJCgbpyiBBZ49oQ9VAo3Q91t5anVqaxReCdWuzy6GaZMqbSscKwCX5THFu4f+mku3TxEiORkNyov70fptEX4HCILSDtsz8GwP8hlraVmhl5xe1sFPyltVQd92NTfWCm9r3iLFA6VwGaithfbUa0BZVZ0JuYgW9lkJJPt42jcX9lNl72aVOpfv5Yylmk4H0QmUnYQQFFi5gE0HpeGtPIdepqzVK89FDGwlaXPKN0au8uUAuThsEKW7vm0SclGXQ2gHkh79qzdBaw0wXLtwSDXyvpiyhZt8Pf1DuRshMPC0F+7D8U5HDdWBwpydxtc23d2YFaBxAzaO39orOVQISLqT09UHCGD5o9dM3k1YJf0oveoR8QrGEtVQKWmVCCihyVOpBp6HCx2JqTn/05ZvP39x9R+fdAeE/+/ULgNmGEhNYYDb45mx+9WRs6ekpOpiJxaIUNCBu/2Sp1RrCWL/MRPBs7NfP5pRdUOc+zdbf8fqmhAjulFvUq411bQMEzsZ8mGmzcfyg5e1BvT+qB12uNtqhrypvGnPGC/qm6XphhgHD2lE02GRmAxRhJC2SNaNnYxDrjJOGPBk+GTPblJSlv1gzkhJaJg55bcSMSuMl2R/K7ZWDUnLUYlNAOLyZEE18cv/0oWj2JDR0F4dk685lbgWilDxM3aOOLlWE+H2o5vK+xdFvVSP+5bb9z77M1g66tawS/nGl1tFNCplYPhsb57NQq5nusD6hXaHhLE0P21wF9KF18X7Mpekqr663f49wwrqoTV1cn7sLOFyMIS+T9hrIuhVDdN7tW2i6piJeDZMPJs6dPKxdirI/M1tj2HbqCTPriF6r8wf9lJVnO4kCM+xBbGlJyN4cH3WwpMAH3sXcXs+n7D6WL0eyJP2kEJsC78Ab4jyLlNGkuC8DAui0hRAkRGc5qFJMmWFcZMuS9pqbCvkWwUj/kNJ+mUB1wFJBCayFYeZGIkYOZxpbiX2tkHkvyRUH5JuoQqKiwINWP36jVUgqryqVy8508MdvgtuAiBsVVyZd9WIaS8OkDyhAi4crMW6BTEOWCMY2n8ot/FuVEwFbe0ACS6/9YfGo2HhryY8zv3qenXPSiIFdCRyUytXaACPptq3Nxu2l9Q3FucN5MZal9UYEWimt6CDn//mLp3/6V08LpXoTujsg/OWHM8Log6xErcXLnCnCWWXHxSOtcNAyW8zt7XlMfjtiZTzP9ilcHJE3OBKztU9nkyFAQX67TTmKE6ApDAczKcRMefcQlnuzwCPKm2NMN/d8i/IQOFG3Y/hhRQ6TvDmo4yRaqYNa2jApqC85QBga3FPoOr4P21AA7icqJJMD1iQ2pq65phVG8NNHXd1c4/pMHJ1U0ft6R5xjum6TZ8wAM6Bc5taSp5nPZ6vqW3NiGGZtp5+c1nJw5zgHAWLD680e2dATm8wgtbTNfSxMw78ya+3UNIr6FCA4uArjaz3RDqPvps5u1/CPqr9enp7PR2V0bGeieoK4mIZcbqECvpqC3qY4SnqXSBw8X0B9/eo6nnvpmuQ2xu1axV4NKu9N6IJUJPv3ytRbWrKObeC+WYBevhv1chhDhsPdYgKN9tEz43k00bUrxAcO2hSrv40OnTFqtP9MpSp+AQCUiE5KffSqv1DiQWsOrJ3TBIQNLpWuouCu8SC81qQOWqQMkJ8FosDAm1MFoJC2L0sJiuowzMIQnASThpOyOewCKb1JKoEW+BXbAAW5vVMRooabchm4ZWpndoBFot4NAaD8zR8QUcKnk01aS5aB6NQn20yV8ZOkfksW2S1Rpty5D+Iu4OLHs7WsCgnxvnkBJu2gfoGxMy8y4WayqoOV6BGhVDMU4OXJSSG7VSVEazoFSJ7j5XVKotQU/OydPijfTLu1KSIKHgASsBYn4zAhMv6ilThfkgC+ejb//T/8Je5MdweEnz36lbjBuAEElMxg/0C0bVieZ39Fn3tTwDyR4FyoIPHtskwusyE4vbM4mUy3ZTlFCu0w/LT45jQ/nc2vnuKi5r5ZMCSUcGaBGdqQ2W8lmASn2Z4MjbXWioQibQfTzWKFUdbSMvmjJkQSWPMyF0UBZIvk/UTjcPCo1GzxdDaNhLE8YEmbpTAaCvtF3jMPx98W/gxxLZl7KuNJJrZ7sJazLfJeR1ikzKLozyxv95VdTXaL8/qAw2XaIztGgVWtZF2aTKh66somCecuuHduYHdm/DxR3lPJYeO6ksaNZKQ07qNXBjx5iu10WQWI1OucncBX5uX1i+KudG+oX0yYr5LKRrpWmAUI0X6sLuJZE7c4R7ZftF2U4Z3NXwpkIiFHu0s0n4eHEpQPnfij8uyedZlJY6FEtMhBe3947jyQDPkEQ6H3TgOSqgOA3K7G4CfVG4WtiEQXEs77ms3XRrOLnpP+OSr5tRIO2EEIHpT6/K0+ep/zlZPVxFwJ3h21UgLChn0+fuvjIIkMYWYK2lik6qPOb3rIHFi4ed+GcjjNPFtaGw4gjqaxoCgLoCDOiUy8/dj9qxQOIg9aptxA61uPkOKK3TnCkMDNqegJxVIIKA0p7vhabL6VX79OgZaKbkpdot7XONotUaaDg0Kd7TeelJwNLSgCpRiNFzkXa3k8yJsDVGbZqDYCE26HYVw2Zt+byE3p7oDw//nrk39yB/VEtGBqr5bs1a3NFrsU6liTks8ep8Fht/ogqzNmSJCjd86Zk5bHgzr41TdRiuUymBuPkpYjxZeCRp0ZAxy1PPQ6Z0rG+j3VBn7pOQ5AvUgDKue6JEAcE7Ms5r26jMXZNm8zcp1IICfyq5e5LescxLmUL5t4m1hDcOhCh4HZ9/LSvpDy6/6zEGOHez/jue3xxF2LMjbktWFrptfr0RunOI4yvBh1QyQOt8YWOzFg17bG7SsKDn9cyHCdAcefbpTgq9IeI8YlEb8XdKep+DWLaNsgtY8uLZZalsvQzCbWbeC1xFjPTvchBnViZHHZpJytwrqFir+o9dVTCT1mawP2ZhcQ4nx1C8RYzORs/fXeo1yQ0Egu7Qy7lzdSnAvW8u08cw6zqYM6uVojQRNo8lhzrx0txH8ir2SFhIEYS2t50OrhoESG6g0hs7Vn7zwkNAYp3NnEJEVkEmglujwQuKBVVF+UyFweL5FQT+Gu6bRywtg6B/zjjhsCzD26l/3Hkna8+SyHuEJ5mNTDJO4ck2RFOlvnHEOku4bbuwGkEDz50ekUkQvmbBMEbDpO1OlevsSk4GD9SSg5iHp7kK9fjAltVJpVbpcjrdRROSceiMUYajZlxN24COC330//8e//uM36benugDCcuRMhFCgKk1I/OurHSYU1Ln/P6NBGFPi8O06T9s5E3Mm0d8f+jq90NFMgAh1v2RRAaJsO5NrEPLtbDf3V3g5xLexnqKwdkQQ4TNXlqg4fDVVdhohHraa0pcEHNxbGuYoJwZCO2Bawbn2EL/uqhFN4HGKbsHRYswlvJAdaRQgLmNKfdbR1lCnUUbtLaeHFsoJfD9sSUy0caIdRLC+yThbcQDcsVDdcju+Wr4PnvpElFvgG2ppCnlgN2IDUGTPGV2tmidXoR2gj0m3/LZRc1df2CzeQC+g27t200KDvqFD+hl6RFiaBHxKNB6T+l0sBbTaVXcVnLYHmeSW90sh798pd0Hmcz8NenE7YIX/g4aCHJuMt+Wsck1cAwU/pixVYm4sJYzEb2i3WRwEhZtGWmqsVVTCb4Zoof/zhlZ8W7DmVQZyi1Tkg43CC+PWj5iN5Mvz1s3kxtJZu92Bc/spJC8rtU15N1JJ50JfIleewmFbti4qclUCJX1OtFVCBZe4eJoCxYr5KkFmWmqeXKAmYVCvJijBKbt3lED6MQIVzj1F9ooDgydiZgBVbtn4S1q1YAoAoh51iRlg30apw8k9+AbbMm6Tce6sBC9tHBi2dTpkr0oT1y3ck+HL25yotAYgO4L0CpEJ+c3KXboYyEclRqzMNfJztUSsA/+1/9Lv/5R99hjvT3QFhWNYjIFoLDc6WXz/PljwoUVpUXCkltIh2DaqnLD+djRIqAUSs5ccX+/NvzrlbKwlfs4bidpzDfW0U4oKsiLW0oHGuZ/3uglT1XsqlnX8EoJX68VE9HhLUUCI/e6cfYhOuOEiAB95NMKqOZhtDohI4t0rRQUur2WYF42lSNb6N87LAL8pLNXuwGPIkmEMiglWA7uCKgn3JLMUtQuX3g7KD8+MghUyYMn/+Z177EGiBUgD7ZrrVNbuy9uvEWEq+RLFyW9ZVuJ4MC3tI+nEadgS0ssHbmG9gfraTNvhQmOKzoNsZqpx5X7ufnvJcmfqqj9vZ7Ehxe9A7qMl3oCsr9YZt4jtpXq9ZRSsg5/USv1nk0ftFLXTTJxk8rxCLp0sqd9HKlw/GANwO+W1DUKN5L09N8YMx9qrK81bRrkxJCKfDjQAEe/NUd7tIHdsfcVuZpePXymMAN+S80qxiYvmpItvbUeZUphi7Br0AiZfZngxPhv6KiqZwjOVcLFB47DB7pxmdSKZd0Ag59XquSPCZ5zkqJTrM+vXUXCq41RCjFo3WWaKBgThwxsrJjS0bqxZ5/xD00wypO91yNpiDF8IqcSskIYJJq4POPBNmzLuFk5NCgBjlgGFtut2RgNuDnHBuxo4BBUhUOB2GpFvxtjb0CBu9nzQF+eFkTfAXq5W8P2gFmrQ2CQhOxj6d7MeTAfAP/uzbb15K48Ed6BXOEGr4LYI0BgQtaYiz4dnAGs50J71IwFgqpX76bvry7eFBq7zGZsvzbE8GJhzDs6C7dVIEAmqIEu06sgBKlBLoSYylIS3EUmiHJ74FYRM6E3BhsBkAUIKDUsqt/w+HGQFgyW9PPBnrW4yooxat1ZujH69UBgmT8YBigaezPdvUELudkRRDMuwgzW5Xl3w9i4QSHEREiRIctLw/To8H1RqqmC2Ph5wx/smFSQCS/nSvZT1ctjIXIC0miqKTlOe7so25ASr7D/mU2IBgLX4CicuaJIyltZANfj/b2Sg9drd9+J5e8NWQo65nJpelOTN6xYJtuNbpSIjOXKa0+VUm6bhTi3Lnwp1miUu2rsZt9ILbp+JDpwCWXSgUbJYn9e8GLLbaQPVxoOEsRFvJyLZ8sviT0eLsvCudWxX4lYioP8LdjtU1DK+hW6V4A5CzM7mbSF4x2Svtggy3yXjQ+TfTKGg7fGO0IJeXbWbTZLXfbUAdhUCaN/ULAvP/z96bNMu2ZGdC3+e+I+Kc27wmU6TaNFQGQkVhiAJDAwYwLQYw4y8jBmAFVqgwxKBkpEpSZirfy5f33XPvORHbfTFY3jc7Ik5zX2N45rsnYodv9+X9+pavpr9L6r7Ul1eDPb/CCfMNsZYeD8iPjRifBezlnjLwkLeRGocChdbhdSkZEzKilHKI+j4BGlWi/LFgJdGDwm6dCCheMpzDWTRc1KeVeKkYMgEMJISXqA8WAYQFMm9mCjHCnnUKzjJjq3onqLGokvFzXt4fg0XcaMcJ9qcGaKLNRQGuAHjokDFRRXwezlNlXZeFtrjlYOSvyhG0NCQjeowFxv8Wcnb1voqoh5zAHmuIvLL0VHW66BH56L2LzUTCBQJEA6tffnv61Y8gMP3eWACkeKC8988LpJ4Qq/PO41/+4c3vvbIwUXxGapBxqVzBVEPoKOrNFQiOXAm6XKUAotrMJXlpwg126zqJwCnaJ2zlFhPNTuAF96tfXfbc+eD8b+5OigMXQwOTmPs4SNUYAAAgAElEQVSEdiqvzQAIA8aYEI3oTflw8fDe5+pDBNIirxesPgg0DKhY8LDXfp2mcFjWvZDbG3fJXmOcYb11LxYBZQZ8a65ofEJXCvXV0VTWQm0UJ7ol/d4xyNN912xBa3/IkXWXvcYIlQpWGYc1DB8VR3+7tRISvLTlY1kWa8zIKBfQmdL1an1orh7bWDlthgOeBOzR5KNYtudicJ+Z9Z8zyGNu7JlgybSQeRFDMcJjqrjk5aelx43RU7DKM8LOp9T4HZZzeXXPUuMlhZzp/+vpuOCNmhu/ArZ2xG54/pi0bJBXAKGUyjHbbRi4cJH2Ew1MIS6c0sYsyhQp7VmaDZ6tbFMCOxIZk5bEWTxhfWiGVEXSQgO3r1kvNrVomfzN+T34aRyWaoJmMyKcHenh04bPIpmVfi6V6LGHna6wuWTDs2yc3sHF4Ki+2FlBAl97kUE1y2AN3+yttVlqLRhAzdFZStNdWgbMOfQCgrCiLLg3XIwxAw91XiBGcLOYFOKuJFv5VXXtuRgsNhBBdTtvqC263VsLqw0fjneNdJQ2GnKxXPQitWi4RKjC9KSj+w/f7n7++aHvpOdNLw4I/4s/ugUAmVbUL4n3D+7f/vr+N+9d9M6YV0m7FTAGlCMoMAhfPeAglUwkFl4+IHCwVSD7Ilu3MRZKDlnzM8yhZtMJq0OywAark/dH50RWgQvPYtTJCtjkD8tCgHqH3E47KeQI8e5KwkrzjVM1bfXJybsH573saXbd/RX7vb2mKhHAFD6lVDTU04UZ35bAtNyhDLEztIYmrYmioh6ZkJwZGkja2vSP0It4KefLPA30fscnxc3Ct/tgFz7Ec4bcGRoGrf9VeHSljfxFTn+GyCIbHsSfBeUeHf48eFmLcyYVZcJ+J6XYrKtRhiQ2E5pabQKpOQ3GJp7pT0nnT8VJ+S/CQD8Cn11VzPct9Wzns6bHgdVL5tTl45Ga+KKwcKP272FRIV1zcXau9lH48/TbmYecZnp0qoVXA+I3bUrawhhPw/HPwFmABwVjJSI8W+00RyjEexTCyNnJ2XbFUI5KZWAGNMdSMmO2SWBxq7bdQEVEjYxxeDheEiJ4XH75GuufLiqikQDHpmVRdE9X3T05YmFroDN7p3jYnvIXkdyxwaOWMs1Y5al0kKVQ3mSiIBUR7mmU8atKTSPuvdw9eN/xsFW+OFOrnhIRaVeQcjqN6mQkLmTxFBjx8P3yVNOVo8fqZWeMrRVHDXFYjCE8GHR2JdhrCqCYbbGwxMejf/BBf3XQnPSNETNHLGCJ13u72CDXMLmloXVIyDZRBQL4cJK//tWHtveeO704IPyv/+g1EOdKtZJEOd1+jjiRX357OsbLr3Knyt5iAggpLhkZN7BKkNCVXkIuvRNnmpNVroR8oIIQoz6IKBLVvvXmrbBP1Qu98SFAnlzQR+3kRaPzQHByfo3MfFlkvxVW3kpY6Q8SoASz19XL0cn7k39Y235pYUEvmMl1RUFMNTBhpSXPLRSBXqXWR/zOcr8YDQfU4fsB/yAiMxs33YOs4WJpqj2qw+jdu6MTcHwivr2xHjj5yoy7nLdOxFouNmCjsmBOCz6TkkG51JexANQnUgnNoo5IgN3FUogKDzMaRhM17uPFnAyC1vYucONMuvRwnSY2f+uyiz+jV58dzFzSlv5KXc3EzxHznQCS8+l7StaZdPnIs/vwKdMzVvr89F98R3FebsDhEXymzIqMjQP8EWl7A5NRCN9pUaLxr6eibgFqN1obW/D46DkHLabvnOvz6YHQJBmN4PBQa6ZCeT4ShULUFibIyaCPAVbUNboEO+P/pHk/VfuobS5Cl8DynDuQcupR8dzP4KA8Y1Ce8sMarjhv2HyTGHOqAiTpr4nUt5xhAI5owG2JjgXShwfTXzX0AAQk95a76F8UaT225yq8dO2vgYQITiucp5cYbjotJ8YcxM1SxGAEABjSBxFIYNW95Jt0Ucs1JycnJ/Hex7sapKVXkaFjYYjFmDQ9VycfjqsA1vAQgq4MOqZtM/BXv3j3f/36hx+Y/t/88gOA1zuzFLe/JKi4t+y+OF4iQbm0d/nAPOVVDTHsA4aA1KreKX/5BcjvCERw8t67MJfLd5Pj37ja6dPcRjKhplESkxGezBerFJx87AQTdZNNQyoiDBBIF0C2WQ5SkKn98vZg91GHUFAx8j4E7htYdFfFFnumbhyZgWJ12Y2wT4WXvK8K8BpIpci/GHN0fvVSOiDNW4CKmvLy0pVeCKnqZS+A8+JWWRuEV8+EOLHK3y86PQT4p/frt/euPf9qMu5Xf1orz9lnF3mLe5sDFQ3grnKm/JWYoJjD0fpVvCR30oNyNmms3tFV6TdyXJCu5eSIIaA6f+I9N5i5qLxaHT5sL/FA2kjfCSB50fRCWPLpxfYlfG9JfbnSnjFtT109llru8dHFXVrKp03jo7T8Oadh+7bwQMldMj9ud/6coeKmJpxIe8yMU6riwjVTCHdpiM8PiyrXcdRFDU/XgyIHeBk6FszJN+djDxKm9EZCnzCTAoMSge65434AogXwIowsOMt8swIKkDbsG0NZDK2tihqWGTzPxB839HgRJ0PPXbfZJvzKdGQoFNjUgSIueOasjlJ2jpcMG+ZoMNMl/aOUVd/DbPnw4Fy6uIw3n6cIXNWD7NCepua4Q2YLWEtjCsZV1IcFTl7SLHfAycN5cQ4esKaywawLZSxHAHzz4P6Pf7wb9eNzpk8Qh/AegAsaZ3EpIkKyIqeUUeYj9mpdAYlQZXIRiYkqbwvBzkNm3CXCYitmGYupknFekXxdliieEywmgn0qxgOQ7468IGgUTBeXbiEMGwFFHRKJ6S9LWbzSyj/KTJ1LZBy939kUv7OWUsZN7BKpRND/lFwGM0SMjWHl/xdFT4oUspwI9z+uGnWnKqG0jRCheotNlooSI9MNDqeJbWI/DXKG8QYZ/7KaDpceGT3+vOz1qt+KL6PNt5hXGXHkmmpfclNdlGIForgdL8gYvdJsp08EMZuv5x+lP/Wfv7pLcp65c9yGrAOzn/PpEzO9z1vdcDN4enUzBvXaEjaeTFmXJ1f0ydIl9H+a2XW2t1O6crO9tPrvZhSMScGmR3vpQC1mmmr8UG2MzfZelioRG1aXI6NCt/ZW4qK7i1RUVJgkxMB8++C8eDDTWS4tifwHicWIGrB0SzFp6s0IHDWp+NUUrkDi03pn3lyo7L6aukrJHT4gQdkno/EVNlpBWmuS54XNASnHa+wiTwTOi/jKg+aoTAYmODbBA6BYI0NN3Nm2aIr+HUsfkCPKpYqLcgnARecZAjgHl1jomDyCuY4yQAqGaxZ4oEaXSBJpJ7oADvy4ese2Q9VjpQ6oIFxabHOOiEy4MUa8h0/QpMxSMHTKSwkEcnKyOngJvHrZTcbQUkzhLdY7fPVhnZDwbOnFAaECbufhJXrdVKa/N/iV7jNrBfYIZiR2KMIGBFrY0oaq2wObvSHBG4mLo6gkXEolzJhe8SLOeRCUbNjm65fbqDddsqTeqDlRdX/RAtWsrqS6RF9DaVk8ddqp97D6+5OP8TuTnXboO87hIAFbTMoba3YapiCvCalcvAAQOCc2igOHKS6wdD/Z/izFBqcnQereBoq0jR/lmexNRW7mnGURACDsj6fxgTOvQEOpnE3tJC3nzWCE+nn1GI6nYr6yGmi/9nIdzUIYlnfBw+6IiidJLSGu3/3EyGiWzoobrnm9/mH42yfmZV+uuk3pyyCdhWTXknqW0WoKv3psXz5dvu4uzHy2D5/e6lkJw/3rhabfk/fKK6vQ5D38OIAgAOwtDxbGXCCRHdeV9s6Gx20MUZCW0lmFidkSnblnGxdQsLureCfiQsQ7GR5miS12Hs5L74su5pp2UwkJ+hO/dtuhjA2Xzg9QPAZ5uzOvdlWQhbZAy8PSAcpRXelpcHJX8AK9OZEXyY7i2hKquuqd0TdbVRJABDVGyXtZYn0TPxmY71xiYKAWY3YDJ3Eoay5BS8mba8MMqdIQvSfbWX+z8GZhbiCLf/Wt7Ckk1NSdAdG+TpRVoIuGhWnmJcuvpD4YV4hihF56EHogD3dyCFJw83mEQ01jeY4QXuQUdA3RrU6ke5j2xRCQQzwkBSGEhlgUdeCfM1uLf/aTH75TmS9uFgDWQIRJq080OjwrX70qg6mkUt3FiyEPC/fFAtJhNYA1IiEkRLvuGGBefoX5Xc1Qs6Qj7xlI49fdIpdFb5+91mCx3f2PAGO3SamEbloXr/avVVdzCOvERsTc11LKeEpJo4TIjcVRI/TdJq1zemfMI/iILQyZqBodKN2jFtw12yX7HKOuEA0F8ySWyVRqsiUFBV3drlftlGazgkenluGt9/nL+bMhpq7ruSDpbBN0duOPTeNimvVxRlZwSbpmbNqTof66IUV5uXSW/Mvh07OnZ++QmgF55Ot9mnbRpxrOq+rZzixdpqc3YlbCYPuZZN2m4aI9auPrM6XrOorAzWJ+9nb3R293bw4zx9AX1ThpTilzu7T4ET9AAbxysaNi6mfn95PROZs/uNq9epfl6rFGiIZV1eJFrOEXezt6XU6rOM99Ogb7483j6NDI7DXgHoGG4bQkYxCzwhMFVJ2rLEPBUO86JdeAgK9qf5ls+Ifq/cTAxpDopYeF0GCFQAVPQuD1YuxYTzd3hzUVu1uDKBqKepn1gFAoRoCjl2BJVL+YKAnqlFvjXEx7tkEOEdn77JM0tlZd5M4mqDLGFSVohxJAuq0wFEMZh/iKsyah0DI1eLAHqJK7kZY0QRpTZfzpq+V/+hc/mTTl2dKLA8LXewPgVMRGYdLtjBdD2urdYj472Dd7mngVnUZLze0MuBj87M3uz392W/pCFpHVwztTrJIGSIapkk4gxotsncqLiZihcz5ZaD3E6voJ0b5SzvxIP2hBAzpf2OOFX0nQd7YIWViixNdqgLOJzuCAq1z+FQYuMsadoPhpLXbv4yr3a4dTR8A1KOxekWS887TFKliunoR/p6s87ARIFmjMPblpep5PoDqXdJNiOw32BEqI3Bhj02/1FYGFXK5Q2Lkoke151hAypGlG6FWD3Tt/ZrD7vW7SnOmQcVnVgfzJAVgDSD49/OvTJctuO0nx76dJn7KuS9L5TeSHkzKz9eln51ydbrsjdZN/ic5+rjLH5Xw4uq8+rF99cB+OfgQCqreuH44n7zMBSCQlvnE7Rs8uEjpcTcoj3x1TcLMYu7Riaz0eVpGTuJOPQTMqkTEB9S8ipcKaJW931hTqgOVeHzzfUH19J65UfGGKH/hPEZre7gcQmAh+POAhlnON44ICZZkkMD5IKKnlpgSGWQ+WxLcnL+CIlJhH4H0BuiL23BsuACCrL+6VBScvD6s4F80mBBAcLG2tFOS95Nux/nApL4AFKK5cy3dEOkeBUV+PFT8sqVRjlHEN7J5hBCdNijtjuGgpgUlsV7jDJAx5sF0PxiIZ/CyOWS2NludFTuJFGe0i488/3//z378dvfic6cUB4dcfVgCrS2iQi8pPCkij/zovi8GrnVlM4e0oaNPSGFgDawnB7z6urVqwiM/3qx2Cgbhai4MGMUogDfBqZ9Q/TJjl+kt03N/ffNXTjo18RyFcOWNI3uy4WARViuJ+HIQX0fCgTT2GkYEXBc8bLqkiLcDtYlH7HdUSSv8WIiH8UWjyZJPxo3AxCeJWOQWugUDzI0LhvhRfZsl0paQJM+0J7VxVIaA0q0+GgdSj/KHMVm5I5XZ1AdUD2iTuWcmwsy+IxcOTVEE7c54oiBq6EztDVec5qXrxqTY3W1Ozu1Evw39O6Km+pgN1mm00TWbf0/Y8rPySH69NP0CYkNNkwXzS9H0A0penH+pwP5ruRw/Pk0yEn0uzQFMjH31qYQPZowCr4Oj9yYmT0a1Y/YYMn56pd/L8QvFiPF/nni7CU1OXeK7w85WTuN3Z8bkwefvaofr2uH7zsQ3tXXJ9FV7qsjSOND3k6L0rBkkSxisP04nMQwGJVbw3CQDvW1XDoamVVt7iJsawVaXEp/zAcDeb6sLq/YNz3pfuCnJKYZ5rOYEcFvPmYDEaOIlueyPDRmv4xavly1dlJG+BLmVBwTay+DKdDA33FF0SVu0MxeX5Gtum+oQEIYairkGmITSLVnhf+QWoYIVwZ/n21u6W0XILj0LvNjkEwfww4/l68L+4WXqk+ezpxQHhbz6uKHtNssCgWQPey9f3/usPKyQNGggs1AsTAHJ08vfvHv7udw/d+iEImsERkeYpMzyDc2H6iWC3mGOxMqIXUhEGW0eMdr5MoYipa9X7TFt6URXcn/wxBEYUU/vDRIe7FEMacmdp4+r0jSYsG41mhQk4+iZGC5ikRGUlBaiSOP+a97InmS41jm1QuRWu4G5dZfun8WtSZjfEl7dLV/m5U7TIsSjuH2CFFiDMEEj5DtmjsKvX51qNdLbbZ640CIaGeqth4RDDe9p4DEyT64YEQRGiVB6p0gZjMMg4SR0+EzO0UBltsph0BbrpXBc0Rb75101mdPTjvMKumov77fuffhyt+JTpR9ZjW/K3lOOycp6UODikLn7xbKbzrZwWPvwyLE8EJ4d16rHx0qczfnN6Ys+R9/hICxtkYa6ROB/B7cK/+INXS8H3HCx2ZiuIY4OS+vR6Z26W5ItjcGZ3aSrXy6is/sl7DdHeZo5/ptdvGUmUpAjWUu5ecFOBlWfAkbOGO6ETrBozqmtjGfA9EWJY+3RoKy9glsCrm/GaEUtHfQAeZYMEEm+HGyXHneF+IRg9B0X+14Bv9/a4irtItCOrl6/v3Lv7tfCrzzxxIai+VG1rmroY7hYmQ6gkYGmYtCDaCH5p8jwkhBbWAKpd7EUvgBtBDYtC0JXbkSZH57++c8dC0a5AClqXeNWZilwlZtBXol8iCoD/4c+/6Ih4/rS8dAV//tMboOLBnKC/pglOJb2cCBOFIKIbqBfG8Wa6vYsdrl25s2KtPTnvKV4qF0yS+ppYCEM+OEHeIeX+JLFclD/kL+mJUsmA4LVoDUruCvNPXYrGcLfAOXEIjmMV5omMrmp6fjYs5qDmp21XZQ4DgDwsdF6chxfCBANNL+jwYCw+3pHOmOUG42kvkqCoQjx7MZYJt2cMbzNuM4D62a0DerSrKgAgSCoqSYoAeJHffnQdtRmRR7zKvYGHnJqGC45qSdlQTSB4byrz0lTKDh04rkiOxQDWwNCc0jlDti6RR03WZCjJ/YBUM3p6fnMqxYzlxw17doayQ2I+eent+wpq5XuFr0+t2nDsrzlSUR+l6cWncoxNecOaN349W2Lj3GyapPn7Q01ycUelDfulsdAnqOIRacqH/yjStF3Tfeaaci4vZLz1VefLpKTWiOp8Yr9RjrNJxS1esvLPiJIuSa3RWXNmSEd/PCqRTJNKNqfgp8q+FGg4Yf21gkLmt/erJU/x6b0TYzfHsvW72P764TgLkDR7gz1huUVqOMe6G0bkJdQxu7FNNUj9g4yYi3D2+XyPxsC1dUULku+5LjoLCSyWq6+cKoJiFTCR6ta16C8yuOno6kmsKuLQby85IiqTpXyy+iRNlqLPAMr7k3OdN3CmlnRVnbxnjHqR7g9TPrUmzDN5Tqp4GHKlry5NBVK/pNDLRUZUhenaRlkz8G0XbjzNtCuSFx5EgCcTTksENR+aWOnUaxIedTxPU5iOG4ndYgH84nft5fZLpBe/Ifz13QnA0ghr6k405GLDpk2Br0UmUtgHh4FvnS5TaAA5WC7GNIqVRI6BTrLX3JdNTlQi5tT/N66Yd8CbG7smj57FW1lJNi0WUb3PqaQsiUxUfdRDPMRFLy4S8JWA2Fkc16B5IhANKVOBjUJYJKjEHhOo0dKv+bR0Q5pRH+n6sklZouKLJPw+uH8DaifO0Dgf7aZMp0r7o+5KpoKGuNmZtR0BbfX4Hq2XsLEQhTI+6Uort428jdwsWe3+ZkHjKyDLwLpUiYk7OrcBzVZKIqnRezK5eZQosxgVxwk5RY5islFvvMe0TltQ1j6v7Bqe7pr0BF2Mllt4AVhwJTP7bJX2TZmzey8L1Uqe7sKcL0TA8PnGAhm++CxEni3kxWt5gQqmRU4HvrCEmGYp2LFL5ih7yDXg/LVkPlVxdbgdz37n+J2GnVX6B3Ul/NGdAk2ot8ikA31RxMPqfvHb48NaoRXv5r5RMiwZJ4awSVsTqil6sSYK4YecCXzHAFgojrysgu3M8yS1c8ixlUrc00kupmHCCYDE0l24eo+jiLW83RmANZYQmZ65KOfNZwezG7Uq+0qR+p/8DAR2Brb0xSq4X+Xo2xlL9flR114kga96Kc1ca2qDSgEwZpkdRIOblAVIOiwJAtawiBKeC8wP5tpHyZxQgMWY/RL8zy+GOxOjcwzPJeYfFgNrKc08igxTvmVk7uLMvgUhPZ3zAP7qF+/+9uuHIbHPmF4cEGroDNEeZvDawtxkJLzWMlaTJIqxiq9e5LTKx5P/cPJHJ50bzDzPvZe5R+hxXUrxYmkMliSUismD7+7d6tmsH03HVXylA0EjsAZ2dIgYYm95WLi0nqwauQEFeFgrONGHaxODTQ0NFp8Y/dAkKVJdlMBDZGSEIDGSBOPX9IdhOy38HwOW3FtjTHYHVZY1PE0ozb1MdQjoXf+7h7oDOPyYn/T8tQC+3lnKJRx26Op8iGFGPT6cvBpnk3ROqsUfzEuTNGmLsJ7ILl2KB7ed3W6U0jNnDIdqZjWGb3VK0B1VpkWqI6ieP0z65+r9yl5wqBNbIqGUJlmKnWwr21PSGUB+Zc0XZmvZw3OQbyCHuLLGC4m5KudzjcblXOQlGZ4FOT+m6isrfnaQv42rsYn7Bh/DuXN2V8gb4syEvMrdsyJdnAg+14JvtQ66ZVR1zbyu8og528tozojo6WTS+zU94bpjqPJ/Kd5uaqrn2Zj88qklNM5hSd6w98pKXcWMjCqoLXAoZWSFliqVuVvDzqylZ2220iqdMDsEl25dF+gx7PzgXlQ6aDM89URgDf/zP7h9tbMKvRZjgm7qyNSx5IGM4WHh57e7xdRxoqSefAFoiRW7GLMY1LSSqg4Wi2UcNAVYBF4vlGKcSLEEGC5j+mOpKSn/RngPhzwp4+yogK5EshZrlghiWZlkgsRPbncLaYmd5UE9gc5IEQFowNvFvjkYLy1/IaqhmiqK8Ed7UVB+yqzgyeHf/fYeL5xeHBC+f3CA3uQISQvoFV6x54r3WHvl7kEKeKWAWAFth9slAZpLZsJAxIcbNCewI1eLdoR2QgEihz1vrDHgCqmFYvRQpFtRFJK2rdjOCWg8gs9uzBL8+xZTU3BYzH/z87c/fVVZpOpeqR5Wo3Uj0G/H9QPxlV2itNSJGjrq8hABwZ3ljtwZMrqjLDdHvZnUNWdrNzuCJISpH6o2aXV0CIgQZrBnNsqjMa7uEg/aWoypBKkgsC/HsCmyr2TreaEmrP+KmeAGJ8Hgkzo9RFTPn0S9y7adtpGewmPMbvrOp1I6pWdSfdvOOBs59JkwLzeOEzumJqzovrQJhzjtmKmdxibYI7AMxTPYamDPQU4r+KTpwvF4xORoQW+XQg9M+MHnBRVXpSfiw+9wZF+k6pHlC54Ad4elbaSnVDTIHM7dS3iHrfKazWNAjGe7bV0/PGMeQ90EBGSLttye57zM+dclearYXfrniXOuwymZnsYPQ2+u1+DijUSQNL73whdKGW9CgeEcu0uoSldqs8u9lqrAWCh+NMTNYpYYh7mfGG1VNWvn48VeklvqkfTZwXYQL7wjIic3C1JW5Ryi428fnPf4r/741R+93f3+691hCeZ1/aVxhY0B8Tg6/7uP66n3WFj+AaAuasSvXlafh57qsMDQWjTdyMgJAHJ38tVMEkKwN9xbLNbs65vTIqM0vnAEAMVo0A7CEjQDgZBeh1jy9Y5f3Cw3C62Ccckj4iEPq/fxw+qFGiRvPlc9RCB7ayEjIy4tOarQ+VRZZTgUWqGf3927H0Ng+v/0Z6+AeP0t8KjM7TT54PGycANUJgLBWCs+iYZpllwMjQQQ2OxHDIUDeSOgMbjZF3fSxNu9+fLGcmQRTcCS6yofTmn/qaC+rl5bvMvivyoF6y8a8sbatwfL+hJPgAfnP5z83cnniJjx18Xip692Ft1+U1G7fRdSh7uQYJcZNkov0Os+gDRpGir3L0IvJYzfcE1ctEdQrj/Fw84VehwNAizfFq0G7UFcw9rhngnV7B2GL7w+iU63+WFJkZPzTkSRoCt1nlsK2jL09NmovVM1OJ8IYHifO8xZfqkNFEU6KUP6V0pNmM2TKXj/iq+2kom4pAQjWBbIuYwtnZCxSZ0AMuEmOa+7P1POUXdJ+i5R5ZMbEAv4nkDjabq2oZdscy+UXgRFTwJ+PaUV3yHaD+k66vuTeUvXrqijZuUfU88gD70XY2Bs1pxi8XZ3YAzN0YbkhgpaXdAiD4lWXfEFEjWsboSzUHQtk3huFySBOO9bNbxc/FYHhRNllEN5jSBtn+h5lsUrnHMOH1affMU1mASja7dhIsUaWJKG3uPdw7p6XxkoxWmh7kAH0fKKojqsn9PRyf/z9f27e//zzw9/+HZn61ldVqfMbdKN9CLeY/WqLzZqQv1Vxf6ILuu0YwJf1HCGFjsT3FWsrQ0e1Nbv6GX14rw81PhBGVQy+ttJl4tUO1Jaw8XyZuF+IbswV4ETBgyxOoBy8qJRMARiyL3hfjG3i/326JwHBE7wsHonlbOS4Uw+Ov/ufo0WzIOMcTbqnGtanSejDvZvPp4+np4o+jqfXnw/+M80dIbeC2GssakSI0vc7szbmzZyKMNFf1gcqpBLwhjSJKvPXFRZbhrvsAkQ1mhodUmFC2ENehs5ZdZXkdWJE/G+CQQIQETEibzK7pLDVO8DRAhAymIJ4JsH97sPTjonLSeH//OXH+4e8m2p0kxyv3Ah+ukQILTeOlN2G3edNfjsNQROPjTT+0JCo43P1TcAACAASURBVFEyCw11AbwPW0cXL7WqpmHnBSLCfFVevGgMD7ZzUtZR2NsuY7S3qxcuX0QDYZZBXZIGDJMAvVCOyBJB3UFaWcfgjepLoU0g40x1ARdBo4vdwFRiBwl7azOA8xd7qcU4a9u8MxlT8bnk8015QsyM3txRu8NHa/JPlT4ZYz1giOat/L4jvCekZ2nac43aJ+rnmcnMDyI9D+mP7ulL5F+aUtCpcxQrs7s68a5iVGYBpkbW7yMLq2oL3wIlQ/f4o3rHn+eP0mMCIaRWELEhfBF0/NSwkE6oGs9cAbAY0/jiPyurFozvENuje0pQCb3gi0NfcqQH/ZVNC1ma6pXPiZ01N4sB4b14kdXj5KFCZhAELRAczhMYhbJLdm2Igc1mTbg/yd+/ezAwv3p/Ornq+CtfMQHISJqWomWPEDUHweJBjda4xCsTneEizostwpaIw2KNNcpnJs6zFcE45R4Td1D8pu50iBxFUrGaEzkY8+XNQvDoxHVIViKbujq59/7uIcM8ErtFfv/N/tViPqx+ddmxiQcirU2Lq7YL8LB6BZYmV5jzNBdJXQqDqDzz/cn/1S/ej7I9Z3pxQPjbjysA74qZ1e0vFIByWPj2YE+1/1rGMVMwEOZVdBTrnLgmBmB0cALkzTX9aglAVu9zQDjw40nuHhAXXnwaKgqgJnGGoltwzCWAc/Lg/I1llFUQI2EggZvF7BeuXj4evcMAGInIh+7+1AoOi3m1s1/fu67U0Nh002fIXYmrCkRkVIhS4LMyl492mXHZ5xp8j3MA3ak8AYpJ1qFhp2pQc1lPuDYzhMpyQBjyzZ7/4mc3/U4etSma1iAedCVqaN6q3OxMNrFZSiMzTUwzBE1vS51tA50TaC5Qq+r7z920Gl8f9kv6PFuS/hSykq5p/VvbPfpozovN21vXnYXQZ1LQmafSPU5bVFoIG6P40umaGi7scF5T6vO08DlKuUCkcF16OlEbNV7706cUB/xQy39E0U/o1rANdCVMNhUWjEHkEi6RyqHgtlMFJthHdDn7g1jd36iInFHPKZzf7AP5NqUdN68cUuuHR1I+fCfNlJrkiq+TwlhqXHUmsvklHc+KLtJ9lfa6Ze2vjnVxLSml2tSlo6VMpe2hZ/TVnbmDrtqaIY3PBQ/O352899VD7cDQUUINTexFfHGpHdhOFdMnOASxZnpsevh3R/fXv3r/2/v1vlfYi8VaGt9dqaUa+yaUvawTT3nhVULAw8RCO6lDIEJOJ19zt5L+CZUmpq4En0GsAJ0IzodQfuWrD97dO3lw4Z4t91pdmQecl6MvWE6Bc/yH9w/f3Lt11EsBmRfkBgxs4vVDAMDwUlhFxp6xlnur/lPAxmqy7W6tgqoj+KLpxQGh3nIWl2F1GJXQGbSgMXj34I7VrWhwhw9CojCm5NbTzZWJfU1Bccsd8qSqxMHpNWVWWhTx8sGtvvL52BrFEUJSL7Eac2oPeOedBDC0cKh8CgFOXj4+eFd7GBGkCQioZLCZrOSrAz+7sWsKVV7vdwIE8YjQi6zNNkRAVagNjZTcYH3gNXbKCRwOjceLN0SYnB2rk+d+Hxz0h+ajClpw9PjHd+vEqqD2IpeVzaM4brDrAsIklQxTozgDztz7xOkzkTWGsB8Dtdfua/NboIR4tbN/8Haxxgz1Xsr8bB/k5yW/0ewgeUsjSCylWDLv1IMKpyBv/HSb3bqCGRt2VP510lB9c/sYr49tbugpdSsvUzat4gnc70W9c7HG0eVFPke6utlP6Kf50LfZWH+9qvDHpeum0rm3fhypF1INebCUxuzoVki7J6fAU5ypItC+PZYpiSA5AeHmuXm+KOWYB65G5pVrlIUsug28z8DAHlWotw0q1UBu2EsFZ3s+jQ/RHAZrWO/0hM5AEQDgRFwxhzxkFUEpQmzwQUtQtlQY1ViU05zExH/4xe7Lm12dXyQgimBvEc/TDDv1MmPQKUHDsgLopV2fg/RrK6LiSqAAYG/NXBcPEJ5WeXd0H091WOR4Z6UT5Oi865TS9Pqs10Nurqk14JcXWb08nAaHdKOn7VmAOy2ve8WCJCsTrdpjfNcNAOA8j6v3IskHLlWvrZ++ef2EQk5eXBM+q3jLIGtiJVioBlYKaopxzjef1vDWmleLocax1LsUCfTsjFlqDx2pV/7w7fKv/pPP2k557vSJbghVLZjAzsCUPiQEgBjIzWLe7pZjHXclO62Slo0vR97HeCY6dMZkjlcKJCDACoFgVysZ5NfnDIIhbhbWSoP5HSdQf6IedOL9xHrt5MQhah62gx7+9nFXvMj7e/8Pvzu6mkoWvnDiupCTr+MQRrgpwtXBs/RNnCw2JcZHf8whHG7OGXUmuwzp1rR4hGCRGf2VnU7y1f1a3g2XTHy1Z6kHFz1zBb43hc6ygtABiEjSmKhay+lRV7w648YVasaBarjQTds9IXbGfHFj//JPXr3Zm53BTIicZu/wV+l+SjNKeZEAk1V3X7CW9vd6h34N7JtTd2nuvk/OcvdX/zI+ZOG8JOFbWCRPRAGbNV6ezlLxAizxc7X8Jbj1sxzgduLm1wvfeq50bbHPNyO/ZynuSeGzaX4pfkXx3Zrs0aFPV0mh+p4lsbdoA9E2RQwlk+dSKvB8/vMTZLpHz8pzQwg6MHIi6+8byedYRIOONMRI+XJwKg7zVGVFBp0ADVpjGkpiIs53SrTh75Mhl1qCXEJjZEmrXgCignsFd09gIX/++c1/+cc3jXB5wyC9KKiXSMfvlfQSYPI7UuXqXmsrW50MozqWk8F3R6H6VkHJYCS6ChIWwyV4Gi0ZNn7+ypZadlGWQhn4HGyTFxEfJTUR6JYdTmJnqB6YTIJ2pKE5Myko9y5MKKE6mKFBcDbDWuHad6s4CwQKnoyENWYQ5zP8F+QCJS+fFOgseLMzxtJ7rD4Okwb9Bt8c+Gq/5NvdNB2B//Gf/+S//7MXj03/4oHpv/rgUPSyIVXzs4Q3i+FPX++8z+y9TiXt0UbWk1IZc7S8dTu5ci5Vb+lk/+Jm+eXaBnmcng6EIb+4WUTkYS2d/BTTSBgjvqqIYWOCSjm1qorqFVim4+pLzQbEyf36YE+ru19jLzACDIUFxdL0JTxKS45U1U+KGDLAuY6AbfY/SESCgHQQRzTC3zSeg33Kibi1epoW2OhEF1eGuz93RAhAys4YC/HGOJ+UE6ImflQCaQjzsStbAvSfiXl//0Msggbyl3/y+u3B/u//+OHd/frgpjzJZKNXP9hbZ3ncW0K9hEEhx0i0TeqVYeFdF9Rb5XCQutxtmYQUU/RcGVVVM12saQnFFr9dywaLOPzpRRn5MxvJtWlwl95lmXJvLwScmsq/V+nTtFrT963tz5fqKVUc6HMjOYH3k1jeF6SzLxFcjDl6v6XR+aR1Jx3QCBVnfjxvyLParp8S23toiTjkov1WInQpeKuyMIlmjw3Fl1hntK2zBGk0qLIfGKiwrmggBi5I61gl/ULsTLi5anKnB0IY0kI8cFiML1TJQu749+jkf/3374Oa03ZTScPSUp2p3sQSpTjwFcWRzdteCgOOi1jrqU3moUpTM/HMKatqco5rMTRCJ6KS9KhCmdu+t8Z7scSaD+h8uKN02TqcfKLNp0AYfYO4xMyChKwiFCGMT+sm3IyX0o4ACiyhfodKLVwo/yR5Aaim14Z2d6SA8bJGGV04jXrSMEahegJiQGsLtxcBIMrq8bA6Q/oQrl6MAYUe4eL1YHFv4U6p+jB0f/Obj0cne3tmvj0xvTgg/Gc/OaTPApycxNvRuC8RAt6f/CreIMwnBNaWAjGsQ3hrClfMGC3Y+Hq/VICTiLVGyzyb9EJpIW6WeL2LlpT0iHWl/YdUJmRAXrnhBXlBCXnypoUkO7g7OjLnFIl2wIK8u8wOAMISTsIiMaohKVmRg4Qpg6fXReSy8yDUEhHkR9I1ImeogX2Thk8N6Os30uqenUQiOHpfyrR82KMIFL5nBiMiw+eZuS76VtUR9a5VkllncY544N/++sPtYr7+MFRKP5Om6ksd1xW2GpDS7IfblY73mjOEDoQA55Mvqrv8/eQg+xOnZ6zwKtD1mJ6dpXGvFfVOD8UfL1wZp8StzX76/9PFKW+BRJyDW9xt0vqaZ3rUfpOTNbDWyNr6gtdx1aBsc0ndJUtyMkMk8Z25AEP2Kmmz8jd+mvVYOqYTR35282TdwxLpBJj0t8LZPeIHpoQSjNyItL9gFYHIIDpx20gAKsieki65Ae1MOXnp8ZtUr0MgDhTBw1qPS8elfDx1Ea+HTReZoSyprD5koSHDfUasNACJxPIJKjISkglDHLFHQUxiNwmRxVBULTXw3QNyhy253ZnTKt5rmAC47s1VHE7UK7jmXiDtp4kfLqeBNiG8QSFBERqmbhBAG+0y65ULL/koAulOQoDDwpNDQydj10vimbdmXfCJUXiQSQVoNMW6cNEVotBPnEdaT+muRUTuT5nNlngJDAg9H5x3nt4NSPqHb48fjm5/+7KQ7cVVRn/+eXHvHqPGBRQdh8TB//b+dPfgIbQEcxzYvOLY6PgFqJ6NgvptWG2trakMEpyXrz6cSovtsbkCqV6AAVm9/NOdu1/li4NNTjUJvW6OTkpViDKCFgmdITqMihtjfFxWi9Kb/2Cipho0IvxaX+r5MkRMsTs0BQnggbVw6STIOwsBQ7zd2y9vl/RibaIsEfmEZIGl6FIGy9rBUmPSDWFszuYZ1QyOIXc2uGyq+40LJTrNGY1oZDWqJqcDes6phIFrCitO1jzQpIAeweZ7QITg3YP/1d3Jj65Sh+3dfBp+6ddwnEGdBi8Hnx6dYhH9GF/wcnHuXPFqzYLMhvpp6dHM5vkX5yzd5gA/qq7LUrmmn6nIH2QqN9uNKfWDQIPfJZGTurdJ2sYRXTo/Ubfg3Ork/cNpmMUa3Cwmx1y6qugLUqehR2NQOT7keD9PVV+7XBOnMTLtn9gH1h4slRnbWdjSCp9tH8Ujde4pJp2IVXOrllzoU//M2BQU5Js3Bt8efnIzrbmNKuGICMRJ40tPw6NX7BULYrjt4JTN33bHIXizmObA1hsyyxAPwxe4BIChKj2CRs0um/NQAKQY8vqiF1EBhKJB7Z3ZEZw/EG6Vkw/ckshAruA9jl68j6x9k4JiJKiGTmrMolxgHDWJ/3pibRSgw12aKDKrb1szuSwsn7zw6ET9rbIYKdFZkUxHqT08aDUQePHRlTcXYw6Wt7vKyW3J8wvghQJfGhMyj3v5FkVdcUCOq6xehgKp1ckv71rFxmdPLw4Iv33QOR7xHQu9wTh83uPo5H71LhmXSYAcFvDqHXMk2tH75axc3uw1UeRwu7PpopXAg/PJc40hY0zR+ASgCZFzxOvNNY7e3x393ZorkbjGEJ0IWWavXgPvtgBFGOMuJDQRF0b4qhXES9RGwxlpR8qKf7WxRTV1t0/hNDH1KlGYvInqyvVevrnPYtQ6SAZ1BNOy3O1YAkbRC9jRtKboiRNWdSK4QcUJLrJyGkYBV/FgsDvXDGokZg31Pp3tirsoJXyOuH3oTguClEucHKikY9seVbezwY13QcbFT0E1jGxydJvX6CeZ5ulrGT+e3c0PIwpulSmTz1s0RDkhp255zjBM1yKwSSYZPJunx3CT43eexvSzmOvfZfpOMOhMDvM96I8qPUUwMWHJX56ALSw1LVZmPzyOiI2pHRm1QcECrB53JzkNDSeeOenRrddB1T7qwQ1cJMAydoiBR9BMcG9NHQ4ZdWgnIUgjx1XWgtNXS/5RfRtnD4DO107tEfTCGD9yxaYbGJrIqCTtzDYReLU3rxdburBrTmnTsmOogAnDrcCMEALW0JbcplQf746uvxkiZRn6imVkTQTwIITpcjTmiFO9gNxJBB6sfEi2NyJpNZbMwr2T6CsiOKtvuQ7EMF+CppdZr/DFmOBjJfawXtuURnrS8fNd61sbCAOhwMbZTIhXRa2itAhEJcanAAWLwc7aJK2oBqDuPUSSCDHirYUXGDPjQECoAWh171KVGposIvAQDdJ+XxlP5c9vb+xvfwSB6f/n//dbhHgPQFzMiuJYQKMw2QRpCL1AhF6vmdRLcdKWJBgv2nyY2ALAkgrwkt20CJyXk/OlUXIjLdtHR4REuD4WDy9w8ZJaX1u9PJzaSHhxgFX5PRjhEc0kivWmy+HooDYmBncnCiYFYb4ymPmyLkgDSMRX5hds3XNGd8DhS+x5naBB/AMAdCIfVlkLEdmGtqEADytCbNai58du0tguuoZYAlFuAJJ7axabtlnx4o8rfNSzSaMpIqtg0ctDViWOlK4HYV1vrDEmjkGA6XHLkmy1sHkAtUOxkVn4DCy5ANJfA45ybefoBL7t+6NXWgifkjlrV1GU2RfO+pMZZpP8t9agGZM08UW7QdeZFPM9bggvqWXEtD5DsTHjI020Hlf7c1V1eTkbOc/Kya5N5Vlf1XPN5NhaB9enIVq4tsBHEiDN36cWe/WIbLOSZ8gYCjGvLyuKbmevKo9wBgJnbqcmcMKAjuvbGHg106IZxRaIZXqoo8XAvoQXySnXMa69gw8IHdRzU03W4TJKj5QJTOpGsWdG7BcCKhvfYBGnVe6dzPZFq2qLIy92iMeQUPaGHb+WP3gvriEvgQNpzrLYTsVu/QhJuO5TXJRCR58B1QVphiTFUGjOOBUsppAw1JXDtGnXq+fPuPSytIDNYBBH7wqXGPqKlPd+mRWUwLL2l3AS/NQHhs2oj32K84XRUz2WoreLShPDBSnJw2KtQVt3kUxwt8u0ZAU4ge8f/MPqT04kuJmhDT5DI5tdsR0tU0S9fJKqvfFkTmIDY+LF58PJH3YvjtdevIK7owMCcI+MenVFC8Q9QKoHofsVKHpCIKBa/X5+sG/2NgxQ+D8B3Fh+drCqu5i4YAnGqWFNtZOe8uB8qIYks8/Xfg+rfyo+C4B8J6bjaQyzCgFzaUqFxAmi7Tss5mCD+itBE7aBeEteVKY3Yyao3W6u/t6VFct+GfVG0dDO01eBs5s34z1+qjPC/sHR5WV6oqnVomqaiqpuixy9HNc+EKJIBzqcl4+nyoNRpjx/zk3JT0O9eLUYY0LpaYeSaEhZtKwuXrug7ZTwxUx0mrcx2DkWJO3PcWc888acg4h8BCkEF3J3NrJvqHlcoAY46RrbH+vTqSv1J6/+nS9iJGdcCi96G5dVUmV9HNN8ESa5vujmjafBsOvkA1svTH+6aKKdLWc2Ey9PZQmPGNDR8sa1kPsp8O+J5T+3ZOB8jc9WTsAUoyPpGdN5MD0Y/PBft/Vc0S26r7+9sUtxieOkO5qLonuX3tjoDIr34v22AC+x4Bm8NDL1M9vZRDJigqnVgEZGjEIi6BR1lDMw3OF/jHYrJp8VY+Q27g/BKnLyU+GqyxqtY54QgHhK0CwtKG0rEhT8/nbSC4TjOkbsAo0rkr9ytOsM4SmF1qhlVkRjsXN60piQnvI6VP6w4GCp7l4C15pK4OBOFeLRmKurzlRPsz6LkfryLyRMDEgngJAaL1HiLUHkcydbsAdJC5DcWQB+rS7lWP4RwWL5ZmeXhgep1+BizWFJqFhZ9IbHruYlqYA8B9VEATc1RAaJncFioTDwi5vl3X1r+fzs6cUB4ZuDBbAz8UIQ0KCZKGUnRSBBINwFp3lu8iwXncGHxXip9yQAwMfVf3lrMtyPRRK0xqTpW6Yg9BEYys0it8uZCEjlTEXxOd75QgADvj0sP7mxb/bmsBgbL/fbslJ3AELxYYMr3cSEfsjTCFDVdjeUJ7Xl06iiOYO5AoowNxrEdu6tq284EaO9b+xm1RIYuQ7XkW8INxFXp7hJjKKSgc8xQIiF2C1t8cP9vDo+I7Odek8vLD3ktPqH1acpOONhuy9jOUNummBR32XdmbbR/aOBDYfIPt2X6g4jwswFzAHR6FlaEcFWwcAuYHXBNyRkXElEvs1Uz5OhfrUvRUa/CADlWC5QRI3S9JYF66UHF6czL55lPLdFNtOPDOvsKelpr8+5yCcV21bxdM796fRcUoJ0H7azPSW9EEKbpXnzO2b2ZQm5PkUTC/0CvBiwnqH7xDWOXgn/SmmEdKFaZEwG/PbenWrPGZNEa3mzo5lnYfEpMs1d5OPunKq/Tc6SaZ0xrnr/AzBsVkI11qbIFt1eqAqSJZtHFN4HQ98zneQdeU07NqeNAJDWpLBLhAAn1auKU5HN74yPa+Z10KkEAGNg0DR0RFw4xM+wIlAItHCxxhhxHs7JKpVfFpCW2C8VLggWTKlnE4jJJzZXkeirhogGYUxCkVR8lq1vEarLWmtwAsNKxmwC35IgQgsF+u5i+YEwwM3evN6T5GkVVzEIgaESQq2RTk5OvdvD+pbh851dSI1mrnDXF0PTECYRLyTmvoS+EjELiZ3FzgQfV3/z1f1XPwIbQrW5XL3GNwAIa/n2UAWINiau3Hh5xIhYLOmAIHwAPeDF/9PdmkJqlrNKBL+799bYhobF4NWeSydoCgy9AIAXnDwXy4M1+2WKCs9OZYR91n12Y/eGzvvkR6cRlqQFJYL7ozuuin0kbJQMPyUlVVKtVNsWhNv+zX2PGqm9SPE2MiKkUUPqvpUs7Ql6ubOzIagxhHVar5zefK5EJvqgh/ptEuwt/+Jnr+uIkmEttmdHV18pOkqL0guOIi6aeHJy9nXN7ShNCAgQYBUIeLvwYE26e9NL0IFIY1QSw3LAbuGXr5af3sa4rGlvzuUMKCZgJLjhqWBH0zwRAKvDqQz0O5wX/cKL5HjAixydKtbk/VBPAV7U3CYT87NLWCkJWKp5lk/okWTmTIFX/1Kms5zGuDQZPPtRphdi4Jv0jLBzm+Bnac7Z4+WJ6UJw2//+goP1lKKrc+raNy+quM2XvlxUXeWC7YqGEvCN7T6VWRpXI14eVu+VGwiIgixYPCk+lbzowAymo2T260Jaogym3TBZs1NuJs72ChtEJHCPNQ+hocuYNAPjASFwGrBEGhJE1V8a1qvBmAqoKrpzjnjcEmRwUsgILcoiVFOtnBvxWFZsFE1QKIwR/6ZJYIi9NVaVpraylo04M70M5Pde7T7bGTWk68YeEHhwDc4JY/ubDSPdzcXjlKwYKv2FpCV9AWczsicWy2XYBdl0Kr4icBqSLlFRWKLmlakFj2aqooul8IvoIQdjFkvnRW8Hg9IsQRMuOyHqJhBe5H71vp4fjXjg64+nu2N0Kgqk1VV3bdPQiqsJYn1dk4SBWEPncb967wngw9H/8v0PHxD+/bsjgFWviQW6LAxY+vlEcWOt4E9BEQ0FwX4wDpHXEUoef8tFIMD96t/sTbkJgqEAm/xbIucvnSKtXn730R2DUmNeBSz+bb4Pl59Q7o74h3enu1W8ZG17NWBtNPKo8sORljSSqACJ8o5vDGTUJsDFJw216aCegqtXG3hZbXCEqSED1WtOZFTdCOLqb0YvhAGGOPUVPUx/irpayvIvU6Bz7+Svf33XokvdbrvMyaOWogVTGIMnVNxAjrlngeroq13Etb+HorwAsJZptmYfxkx76rQmPVe8yOrgvHxz751kwxJB2ruG1MZlo9VJNXvzKolk+KT7u5WoRdWOZydTM71TzNFLebDrf03oc/rWtrj1kSRdzGF/X9KYQ9v89enlv0S6sKJ+5H4oI9Wnp6OydI7Mz7Dr6prx/Fekp7zfv8v+VOmTWgpcUHHv0a576XwpocfHu+v0pOnPRiZ1qi656IgyOc0QL8sAT2TmHf35dYa+tjAnarh1wavjxF62HI48LyeXQYti23Bcjkrt7f/S4SiohlBQuSRReNZ4yckizZgLgmioFP2mDXn8lsNDawMoCvWlfNInLzit8mZnb3dcTCn2zwUPh6y0CCRgTdYoEsGvvz397uh8jCMY2czcFV7E+bG7WMZbLJCLoTUwBjvLRgarY7YAt7tqquqUNMRizJudebUrGZBQux7RIJbCGrPlG4SLJQtvLkSwCiyczFVdxeh1JiAuwW8f3Lf33nlxXkBYYjFcTIKwVUyOAEFH3c3IZmvQyjzNCsiampYGIiLeKrsvDK/21txY4zyTByxDefdwoSPex6cXB4QfktOu2PSTx1cfV1SWZHFiEgX4F+fF+cJRUrEmquVRQLejl9/cHaUIcyYiltAIh6GkhA2aVa2ORT2ca++xWJh8RTvmpuYis0C86qOLqaApDrZ1epLtSEcpbWeZ2phMehZnoW5VlcYIo6lus7wZtT+LihZTxPAQ2qXef4RexAffntHB6pjweljqhSTxnCvETrzZmZ0lgyflzKbIfP8n5eiGWhzDNSNld8NkEvWoGAN7AAOJbNWYciPcKOfB+fvo2VbKfwVJ1tFUwJwrF/T+6B6cD/1eT4kNHJe2pjwLJEhV0ppYLG+svZwvEwR/Tpe/oAFnr6jg7K9zFJ1S2Y0ShbiP4z83XC8UHwaZLm70tVSdzT/LMKSIm79elZ5ewktX9Mko/M5T2m/KyVAcvVuT6HK8/dL9uYGjZmjqHPGd5RKqvbeqJvHNo6ZOWMVhGmecPu0Rjiuk4X2S+oMA62CbTtzTlkRvQqW0Wy8r7g5FF+lBPpAaV4UWloTRD2SgJw8hFcLpz0MTygbyVT/on4JBZxEJAFFSKd3ot+iLOCwGauE1tNUTGIPXO+4s87PEvhbJNbL4digCXR54f1pPDjvLw1IxQulz9xrLn9VCR7koxS1OxHvxkrq32hky8w0gwANGhBQs3xZDamwt773IOgqSIMJV5OPqeme0hnxleXfy3x5zyEWJzv8ksrxexHAyQdWFZEQN0eckSNH7D7bviBM5eXqCEl2Pelm9eEAI50U01KEPZl/CZKaaeYgBJiyEBno7XHrTQbzDMYZvbuztYlQLWgL7xEpQINU63Vnz5a0Fslzi85vlPyqCur9QenFA+NXdCrT96LycohtbqI2QiRqlZSqgTHB7ESUBOjwSd7X0pvdYozJB6t6jaQfyzQAAIABJREFU8yc1ngYBmBQEsZvIhhqaNmu0EkHXLcS+yzSmjzW0QolUJQXN0/Rx9aMbmLARLYYV/CD6a1T92ZLWYDFxucWVbYjdzuyjZ9Ipw96dpCSsFWtCZxojzhXhUAhCvIAinAawDsmL6ErPLeny15NfHk6xJyUQE09gyqg2qk5Mufbyh/5YKA8vkBBfU1Rv7kz/JxaDL26MNW0JiP+25UwOv9VjdQUAq95qGyhx1jXWIOrwzRcihDOArCVlmDtkOq7y/rhul9dRPqtomvaGdtudzjx1W/HY8XmTEidXP3oM/3rOqG/ATF5ZDZtv517vGdcXSmdKntEZn78cYU9MG4R9b2mepW3wP8Vs38N2jgjNx3G9nY/3kjH2PZOk+TRjRyYo8so6RqmpUTAwZs8C3sfXqByNSH/2XFxUwQe3vwUnMOl81qubuqiSN0gAjwI7svdWOp0XL+L9rPHjoMfDXFUsOwGErsF4erjXOM2Ad8d1rbWeMu+h7h8EpxUpLsMYs1UFAFOGihA5eqzO36/eSXW7nLzVt68GHZ8QT8KTLsK/REm9Osazl9G9pylAjuJJRYBeFNIEvw9skYSI4OQGIGr18v7kT04ajw/GVN4LvMB5SGntwvInUS1SCXTFRREgQtG6uP8l/0M1mWFFOY9qOUiI8WgMbqwxSRuqiL2CKFyIpMWbm1ivic0RkR35F3/06k8/398sJmpHhuuAQgMwXO0K8P7B/d03xxXZB+Of/eTm9kfgZfRPPt8DsMC+DhBfYRIhJESnG6rPBVEBo/8M5h1E/y4WO2t2HAhuADiP90fv4wY43FKisR0taW21XSijrw5OD9buTLysZtKgbPCgrhw+eLk/5agAXuNYdMqokQCJShE1FiUsYQHqHT2xEMbAkjtLqbhiepGTk9MYdVayumSmGDcJOmeSEmlrh6Xt3PJkMxi26VnD6jcBBP7BQT1VeaZbs2711i3Ni7dA6a1UqSYk0L+tkx/VFUgsNJ8flp1pDfXZ3urlCmYoqUSvZzkIbfymfgAnnlKK8q/k9bY5ymveDMC8Z24cxMnojQsqlfpvkhSwz3K2rEemLaqDHKmutmOWrqttyMzNX2CX57laPitHqj+zn7fIuLBvXgi5bRD2bJPmMgqHecZ7zCRNCb5ox3lk2X2a88AXlzDdiFgZIk/EfxOCWiO+wQHZPL2q9wdlDZ+2qLP+vZNxdd60xwD4Stq2JGnKmkZuCNPqup/y7qO6J8mohywvKXtMUm4j68aZn3KPQUz9WhteT4a5hu/r4Rtmg8T4CoQHnG/7QxBclCtz6YGj80eXeUwFlRk3ptDZcfqaeI8Xvhclq3Kdoq+1wU8CU6m9hoGLXSkWMDTJBHXU7Yjqn+PeYIj9VvFqQybQt7TnpaT902gFN7NaPzvvm4ENsg8ygNKGaayWdJiqJnLlEZKHSHJd79aNrfRDY6OsAkWevOxN1JUFhDAGxggAA+4tbnY0wWErqE9DqMNYq+Ddvf+bX380xBe3te1kut8E82UXEGPYAYBeKv3x57v/9k/fTlrwbOnFAeFf/skbAL//dvmjz3a3y9ilvaHYGEWQYIj7UWTwkvVrASRBgsSJS5idhZ24OhG0orBgu1VY9Kkkw4ucvDivAhJmKymBCKzBQjks5rAz1kSRVHEuBXwfdhPxPkz9TJJaFqeLTRZ8s/DovItGXGmC6gh5EB63i/nssFhjnJeTx3H1KApXevwQDQKWkvo/0Rl6Jyz+sI+njk3lBgI6jEPVzKZ+bm5QdMFchBR9RH8isGrXO8FsWlph6ZY3ehLCLAwrGs7y9e7c75Jg9aoRgYfV//t3R4hX3YlgSInCKGF+OjcdWP/0LOxmh8Ni057CIw/TBeRK+7k72b3IaRCbckzsvAkbs2lI5pDDeO4eIsDWb9OQ6dlMl+S5ZOY8I5h5dEUX9vAlpG4zwS+ylJ61zEcP2WDvfAodjy8g+kfclqQBmHCeV6UpApFGRf+i12LmdA1VnNUvl85glhHQGtk+VS81vzKy89e2ZOvgono0iKxBPEz6zEYaDY1CzN0Y1CSReA0CCphU8sdVAycNmDxXwjTiF6KW5KDuQWL3IcoR9HOCQd2oATCRoY+vhes4whCHxZSWdOquLmPOGGIrc7Rl3jIVbrpT7pJsY5D9+QEOLHHXsM+i5U+4YGg6XPnUC43ua7ha9fvOmF1zC1ryveEBizDdZUFiKTc727xtCEMxkR8LoE8taaI2n0TCyk4YnSUKNzrTJB/VsASL5e1iNY5cWCE+8MzOY5XCyJBBezVfmYYbSP/Nvft33xx/9e1pdbV/mvBHnXKEBpZJNfX+73+6/9vfPrS0P3d6cUD4r/7scwA///zmfhV0WnCM7HXQv6VI8Cg88BQYKCaMkVL8IyJORGOjG2Cxpp/cbRJYUk2EqwUYXS8txuwsTG1Ovjq5d/Kweu9lYQwzGElL86mWZVSzUCeMJamvM7vaKJQAA1UmR+UOwoabvV1sgD0e4qSAj9UqLDaK+LEU7SSEnO0ogyJfeCpt6FBEQ9tqFQtojLHqZ8wIy90ctGBUyI5nHXFY5m7SAAALg8vfJlc6YyRSkx8ny3PRppT7u8bbKZoi3d5UJ2GuQoCTk6OXnbWHhYuhILH9sSs7GNyWKu2TxUgbivPyNHpNO3YAPJ+c0vS4LONmSvMvf8eQORqduo9OM1Z78sOUHd2sQwbuc68p4PI8G+nC4X7KrLj83ediuLfR4HOll6iiZTBePvWLa/ztypSOkIwQnlxW8eQinJm3283fz9feiksnwOiCwqbJcFu5Y8aeo+MdNstQVkFmMKX8O6hdigyKEE1iiTsSWuxNxBgDVRYCi+HONgMaNltTli1YSNsfWcUDOyKfCFZYG0mb4Ye2hnWDsnw8BzOo80l+QSXOrOU0gtYCJfBVQgOofqA1PCyZ85X4gkSW01fKipV30/Qxgp2Cqgg7d4vZGSNCKaePCCDmPCOsxzIPCw7BqakiLlqDg+VCqmeHs0tixPoAerdW3wTpPMmUEoqHZBRraTG29a1PGhgJZy4Xk51DiWAx0Zoks9ZV1cXX+Dshrd9QlCPysGJ1sjc87MzNLsSdV6ZIo3f4+IqObb5ZJZNTDCFWJ06kVlEUYWw2hWBwO1JifREA//jt6au7H34cQk1/+9uH39yd7k7VIl3IJQSbwOrl6INFZwi92u0pACBYDHbGqkPeCBIoIl78KqIms68P9mC628hGh01koak3F4X2sjdcDFeHtebyJESnkKOToy9tu6sL7Z67tSaoa5L48pW9XYwhvB8H2QNiaDkGQzm9HXWQo5ObxTqnmQrS6mKMiIo99ot+LvIU1+wZSxlYwqpUjZBOWZFQ582oATJIUdqCDgSLPaHaNTN9O9vDi0ov++jEe7bOLpszQMpfUHd5MEBPsr2h0bMmS0SxT1d48Y4X7C1eL8brXt4eGiUxSdV8nkgE39lTZqSZ++mrIW3wiVNDTsHqL0BtqXzCtmVMU8kEliQ3W/y0si1Cxtna3quHe7gxPCJN1t641G0W5BMz/pM07IvnJe1SruAT1vi9TZ8GypZpuiKfuEoYGeKnFjacH0Mz8dGrF+9Yk7QBJNpyr5zGzfY1DJ13rgQp7ThmuUbBgvS0reDMjBdpfy7POvHSHW0zYgo8w6ATqNn5amf+uz/97PV+6d4QX+EvHHZmYN+RDppYeFD8i1d/MzFL4bcBrmvJBHcGH/NJK3QAUIsTQQGZ3vt1opd6uQkIcYIPq787+o8n/7D6cZTAADRr2jrIEmdTNakyrvDeBcPBqqSdNSYCvGlPxI74uMrqfdX/guMaHUlEK6maUAxwYpkdEIFG0Ww4rCr4YfSRN5SHHJ3/uLriVQjE+WAF6hFDhQEUWIPbw3AYhynOGZ/9S1XqnAxahyfv750/OX9j+eXNjvEeNuD5guwQhTAaqSbfPVEvsKeAMcxFmO0J7S+Gh8WY+N7B8l/+4asLG/bo9IkA4dcf19VXwRHC9VgpS4u7zADX6ysAyZPHybuT88XsDUauOgJO5Li6273ZJce1BABbKDUK4IEH510BRlRX0Rpaw6NzM2dWCDfFUqDF4u4+4q6oea70yULuFhJ89+CO4qdB6AKOUZXFaEJNgLQwVuSUQrLMJ72aPRtwodkvS6L8Ya1izCUKrIrraFCMkEjYhVOXidQoFISE0HOrFydQZGjj7SfYTi8R3B2LK3zW7mGifsIgCiimDir7I0z3slSGR61akT4SNzsrl8QDJLzIB/XVvJkznZGDQpIpLMR5lTX0zUwyjoLeos+9iJMeFQFQm/vyani8ASEuMTcK0DEEQrlMpq6U+FOY5HEA2wIu3F8u4wiVhpojuODFvlFnpZ3PDWs+ETAYVTNo/fUFX87dPqrw655/4tTxfpemRw/6hbVclE3Pv3MLZqOo3IoLYdvk7WFF0j/aoOTc7nsubTT93P4PdG0pH9avB823ySl9BqPNz3YNilaWk2g/mCGJs3TxzJx0S/M43RZ6+PdH97/83ftDe0kIIMmLA+97dJK94nXEiYa2irMu3sCIiAxvX5N60iwgROH1JOGTOEpB4B7O6I6WWEKsaVtgyOjPMz2OnOmILs4ikUwq6PKK4CShr8rzV4Cj96svuJvtY09QuvT3iE44BT4qGScfhsq2HXb8D24Xy+qOX1FNdlguWL0cXaVSKo2DX+rkDruBJUohfWUsljXaEp+aIlLq+3Re4iCx4ZRIKHvfYNuqU9seFh+VrL3wdw/+V+9X58aOfgdXUJF5I2CNDEzmwsxUtl8vVqL3TFH7r3jXaPh7r1s5y7OnTwQITefeR1dgbbCaGfd+2aj/T43n7X2co3FUGk76wcm3D251UaFSoDHuGyPcVT0LKYUQY7iQELmv0GagiAW7zzSHY+1p1AEsFgcLY8JsEIDEstB7OJGTl+Pa3BqHd9VhTJoyPu0jAoh4+Pcn/093rpj+W2mxXAx2VpJGdRkUMbLzAOiJo5f71bUXlhonILazmcsGoW8TPYRKNeC9KGbuV40Er2KSXmEwH8VIXyCARvRx9ub4sOYbQkWGXIx5tRgUW8nDmmD/FktE4P4kD6tXPZC+Tdvfw+QkLGkkz4oR8WfBKaAhjMbSiviQsAa7uaSsb/PwGEX9UPIqzlKC0o9TK5clDtZcusVUZ9nENEbX/1Ws9ijv5fjz+jQo+gmhD59c9/OkS1vwKAw0e4nbP0/Ss/cBJ58vT9eS9JxsvaR/tt46U9Q2yLv8zQmoeumUAMA8bbPKwyNCubTJZlThuyLHYTEpJsG8Zo6VPURj6LZVADh2BZFYDA92UFDmhgfc6fnU5El9o/3hBXcP/qsPbgCb6pPitPqjkx6lDFcLARGYiT8ZIsRzbt43jHeqApt9x6unikatlYxS/qKRuaydtbc7awxDePmG3qK1/T1rS2tMFny7szS01dXp+dT3AkV1waqJ4300AUqUQVoGhuosI7otTa2qzdzUYU7sG4oEwexhZ37+xX4xSAiuQGVlAdP2BXXPeCQb8mev9z97vRQzl113Z+lCzkQQcCJ3D24Nwu4c45v5diZaqEkLF1P5AZwBDH2ofj+U/Qk6n/kSI3dk1OgbJQEsuDMBPZs4iPGWJaitrl58cO0oIlgLLPzNR/dvfvlhXPrzpU8ECK3t1j3hvTgviQIShmwXashLY2gID3qhMNk9h+7y0e5dU9OVymA6yTHlCImXu/oVMDhYqndQ16JB5Ekp4Xo7+Y5FuYqCJR5vbBXzVjxPa7wll8D49xtrC2Ny87WNTBA3PWfY+tGE+zEMzTlOFCYZsRwVa0brkKJHAJE19hLR9olvaQaJk5ePKXhB50+5kPuEHVCLFsIKrTGD5SRZVFC1UAafDFGorVaHnjG4WXC7NzbOeQHWSt7aVxwbEX0aCWRg3RhPmeGGtzP86evFGqruhGt6DNw1oSqHRFyc0qGogiWrcUxUnpLpHoLJ7WqnhFTTsc4mIh9b52iD1B2+WpAMJl0rVzrfPQQ6j9hXpycC0AsY0sEbj0ifhr/eSC+BSK8s8yl9MGS2n56+82Fp0iNad/miu6KxF5kOTioxzXGwRcgF3PZjB1wCB7n5fvHj3hhIJe0avVlK9uoPE1FW40lO4ZPzcu8mW/0Q4mYVqi2kWHIpLXnFT+qYvbBQQQWbQEFw3jarqKGZpFD6G8XIRciAdGWsASFWyTqWIthb2mx6kSIrT8U/p9UJ8PnBGDZXetTG7I1ZTIo3MZ9vxcjud7AGCwDCAjYKvRfLw87YQUPDH9bycfXLrthnhEYzT7ez/OnrxWTeKPRogwaBeE2VihAkp5f6j4g8rPj13fH9g19sa9LTHPrpxxyGOybffKeI8Q9OkkecMmZkX2B67cYyW4GmsY48SbhyiOElDGAtX1kWUoSKocxorbaTkioPDku+UlaeKxOESgJC4OQhwEKzkLsl3+lLcmmLoAKutpQNs2OJf/0Pd227nzu9OCD83/7+DsDHU3Cs07gPZRw2Aoa4XczBwNogtEjJi6wO3oVOy5xnt/rLb9V3LyLio89PBqFH3mAN8FqdzHQKmay/atB7NbdtWysAsHocvZSeMj3k1NkLDrd2F90clxupFG80d6oAF2pUBDGiyFnDmJqPq/94dKcOEFLlK3HFD8lQ0ZqHyimCkcASNEHr0qphYmX8p0x9VCcPun7luSWyqMhERAxmtiTBG460TrnLMyaNUer15twSLx9O/qu72qKw2YsSZC2GXAqqdcKMqKQBbP1c+/nVznx+WMwk+B6Jt/szXnbmac6FEE7oxHv1/hXMryWuvqq+xXDfTuXia/FKcfwL0Bm0tLhn2OKu+qIZufwsF2oNPOdH9jiJYAZJe6OI/u2GwsenYRHTyp99QjxLuqr4yVJ+TAkv3Kyc5vztjyo9onVXwbxLx2sSOGeaPVchykdeCsMwRVJbJXQ7z0ZVbUZOJtP743osdOAGJ0L9oVwDU1o7bYoM9zZ7iN1myuLVQYldAZLp7FhqXwURjkzbFK60De6SF6msP+oC0r1cWYAvXanXx/7rvf2Pf+/281cLCw5Lyk8o/XpCgI8n9+DGzsMEuLH4yS2XAh/0KSM6YjHmp692bw5WAOfFAU5hL2jAP367f3NjbXs7Ql1exsAwsyrh4CXgpRdMF5Xy7X75eCptnRhEx53G2s6YzKuPloGAYmRd5Zv79X71HuHOjZ1PyIR8SO53xrYBxyu+wXt8dedOTuLlimqQNl3QXzXIg5NS+qHdkG6NnBcn4fqX5M7wyxvz2e1SwPc82BWkjzO75WYiX1S67dHx0yDhe2tud3n8lHU8OvHiAaxeweZovQn0Zkn/JhHDYsdaU8+bXhwQfv1hRTLwC9xnCn4QFeTiBPWQL293rxf7atdym4ReU9e7XMeCT76oqVueH433ewG8x/3R3VrD0mctwkIqJ61Otc/25k3n2JHx16Pzq7taU0zBRlqu1mBpV0L3CsSLrHFDNJSfHJZXO3Nc/cmJb3S11djXcDFxxlXFFxV5ltIOIfbW/OS1ebNjc98i1ULpwCdhY0CKsGVXRxCdiBeqIeK8Y6iI0BabXVxLxQYeu67Ez9CVS2rHtv0n7TeRgalKsWeM1QxUvODrwdI77fcn/4tvHmbB90TwrrjDTUO8wYsU4zTfHuIZWZk7d5MBGlvFYHUtbbkPKz2f9IEArJFDUHEeUjIlbzbSxYQTHwWSW5zQE5PAUKbkY7OHn4mAoq7NnD2OH/w+KqlYm5fTdUElj8u8UUJP3iXw7JNhxcel/4+9N2uyLDnOxD73OOfcmzeXqqyq3ruBRgONheACAoMhNZrhkBpRoExm4kjzQtmYtgfNg570J/SkxfQok5neRpuZzKgxyWQjkmMEqSGJIQWSWAmAbPS+VHdVZVYudzsn3PUQy4k4y82bVZmNJq0djax7z40T4bF5uHv48hFH7+qBBjzHN8ClxqezlLvv9mnmFlR04PfwFhnuqT+3B2rFtBTRETI78GTLoSEXvfNyonXbRIZbHuQx3X5b7MCsFCG9oolPN9KEbTwBOufypvq042ye/q7Ag3n9yv3lct1zk0nOM1akko0qztd2JBAgTms5rV3A0PF+tOwDCeT98/r+vGmSCh3/YlVP142KGnaKeCqICvaXeQqfCx6ZoKKthJGwZEzkIvIz4EJjnNeJ3DS+wAUK4rSr3ZLkjUiTDGBKioJg8utFf/FABOi6UVEFUWGyBZbW3ggWtUUIIzQrimnnLmKAzXSMaCLA9li70IhCURp6crc8Xdm0KorbKER0HdB4J18E1Igize9NAFAa+srTe//lrz7/5Wdnrf0jAFImVaARtartUkDyIe0V4HIZOOvZw53icPrX34fwxcMJEmphmHcrb27ZhtclAkiVVrXcW9Qlc9940DAZ9u90o9AmH0sTpieV6EIxgs89SClOAAAhzBttVDsGfH4Nhb/eFpn0g3k9XzeTwnhj59AGExTqLqaT/RaEk62PGEXr4+urJ4pOXBQilPgFHDKDGua9qVkmPoqZaYE3tVWgK6ym39Upq9ItrVg3cm9u5zUg6J50PQpJ8CasU0OTshuC1Z2zRFAll6rRScLF+Oi447VJzPM3iY9RcmvxV+lGI2mLdw68gTKOKBsyPHZD6FppVxrQOlLWosmxo7GE0002URR2pgIhK0m/U+6VdJ6SxdkrOsJic34fKap107PbyetKO5WChDC8F2o+LnsF6hi+9mI5RWIDK7cFZMdKm2posOijc4P+/UvBphkIcz1eZa7bSSwMsvPuJwLbc7aP/9ZHDT6y6F2bjmVI63RdbfW+XvhkYFsMVevoj6g6L+wtZzE7RBS6ScXZlr+48otKyEVua9tCrgpNT6ycvKRfXC7iLrSiYAjLSX2eY/CtC6ErXvflFD+uupFmOg+OVc+ktr1y6F4+XICTKpZrZ4ySMm0DyDORS1NUW53X3VXiGL97Z/askbpRBazCQm16iacZF6yerUrsVQNLId7WkwAYxrLJVmWHMYvA5LiXoOIeUsCwkmNBpy7tQ3i/cWE3+1oQp/pXb+9FRJETceOcumA5iVcBga7F2uCxg/TUjkBqnB1aK5oCgA6xHe6nteDBwnoT36wmJzoQwyXM2Jy3Q63AWiEiY8glJlfFspFvvnf+7bvzrzy7V5WJuKgUMPc8pyGaGHaXUNQzIlOCVVhRKwDwxMx8+bndUVyuCK5dIHz7ZA0gWvutazspeLc0RRSsQ9QQlxi9bvRoUa/q1obYQeQLB+m+L8M+YqR70mZFD4yzAgXzpPA7J1o8uLotdNlIkzTlNC7pBY4TyURgBWsBQXdLwxmf3pqYJ2bpxEQTQy4vDTMVCWNOhLHIG9GZkRgmcXkkAtjLdhJGSoGDqSFQI21yIgPP2nrkFSo+EHA2hh2pKAfXP5GQRCXiMVRyYhhELqlMrWQl3VHqNUXeED8Tk6YVlfn9Y8u7kwp6E59DEqsJ7SKIn1QVKLpRmC8GV5kEor8hdKfb5anNyKD8GUqnOMYXKEj+cYxbohlyEfkHY5LRCJ/hh7trxJ+E3h0DBfo+3AAkOGHqxiHlRFl+KVANZsZI/gaBWh+JeOlmXLOifck//34Br7hpsQYCdBEOiQ5DMaqJ6Da8QWmxBW5XDY8ouV+mcL8723fwcd595CauqvClIK35WiXVD3N1XQ623EEORCFWMUT6hivf+HWsvHYf9Iq0XEQXRlScW8JgJvJgs3iR+UmLAkFCWojspQ7X1KNJVyEPDwwAkRamxZ+ywjkMndCpQLx5bBPesuUxNeWkegKlIjBsLZEePH5V4eMa+sgFitR70tmF5bjARcUI/AUFPsM3q4p17X2m2tfyxWfI+9ppnLJel/0Has2BnUa7ZdWSMLCdnvnsgEQANRYlI+aGU3/R4EYkxIJU56BFgyEYW02xAtBO1koljQmj04JMXtw9WjaLJstP4jabM3p1xsYF8e2doira+4XBvC9WtMkD0FvR3/z+0TfePIfPa4IglxAUTMqOBSAUhnZKmgS/zkSM8Oa88eHDhX3+oMI1w7ULhG7hFuHy2QIfnNYUlqu75eqkhLTAWtoYQG4CXAQaz5z6gt2d5IKjpGMKoCPiN1Yb6/lukCdkDhkAopQYL3a93roSvOqiFnGJJeFX3ICJuXr9jVWsGlHFbkEle2mUgIqoZGLadJGiksTF0nhWBcTDxj9f26NluHPy9pNs+vQ9s4H1uIf/2jF3f2O41GRQexDkakPUhEC5CjRWlo1N3iGF2gExhJSwWMlgJgS/UTbIrC5DUUjo2asj7OVwP6bhOwEuHaAz7xwScH3LoqitW12CBA9q6/dRW0bkwC5Cg97fcJ4SqVVKarjrQ2f5OnoNJaJD0DZRO5UeyVq6aXS3sWy+UAM9SK8peGH0I4Un63FTzdpZpuFt986F4WrG67wYki3QX/uRUXvE3GgajFIuKnf5qreCa5UHPnzI5yV7sv27G548Jlyqwuubmq0VIZu+XgOM4DVqsPkhzk924dP9fIl6tvw919Qhod8DWjfqvtG+MNhQrMhpo5gGrjC91knBfcetvJ5EAHC6LWLqZCn20OeICPH4IgVKhhk3x9hAYId8UFz0OFP6JFr5+Zn+AxChMNnxxzQ8pL1Pvh5N0NOWEyO0RjE5aQpFybFVrkSq2s0by0WcbMxz0CBIxQgYXWkuCiSGKbl+oJDumipDe1NjChLtxlFNKwkfFEQKcnyRevas2wfky8ad5uTcclRXNi+RM/f+EWG3YvY2U3lRDfwWYFWtSryL82IF+ahGUSxmwk5hpiUbpsZqZq0bO0jhVkkh0Kf3y4NJYZz4lvBS3Olo4Avjs3ltv/n22aIOSSNih/zq9/5cy8bO17pyl4DJnu/zh0/sXbu9KD4EgfBLz+wCqJKYnI3qycKGBCnppUcCCmIQe6NoAomST9uqYKaCnP9PYlDmeLdQFRMmBRUuUHDKfqoSoeHHAAAgAElEQVQP7eomqo0yTF2NDnXCSTmbw9ydVYG11RikKfKJaQG3kkXFBTUWoBZtkgzntaJuAKWw7j1GHfnQZuqdYJidW6EuazleNOmVprSXWzlayEJmk9tFBEA9jQijq5JJb8M8V+g5E0nPiD7RILkdBxNyu7bTp6h7uXTgjODD3PbJFBFMUKVICHsaqWKHtiiosUGcCyRTnSY4SLAunEl8k7PAO+3WjuGvNawbR+8iRR5hHHqn0+ZC4zB0RiZD7KMku7Bj7YqKR9dgcyPn7qNwhArvkaKACCThFAgomSatg064Xifi3pxhWBa9Xia1o1yN1CWhldl22IBNfxencP289k+utQvgmkTha5KmPlJD95iwmdNDbwwvHtKhEnphiQswGhIkOuWvbLIvMb0jdJc69GG4mWHt1gAiacBM7f+cPBiOsRKZmqHKyTFeknM7HURtHrY0pXKOL9C8PNS5RW01lAr4QIqBNelfATn8mWkkBUdWW5qFUYVW3klrExRMO4YNcTwfgz65bZ1COL2Uveu2HsO4hNlSPx7ZBHjmSmOZUF8ey4HzJnL2Mwtyk4I7SjWZlB4fRQj3ftOCDydFYAaUAUNUGjy9W02Zm2ZYy5pIe2FxqTfbEs9pRG8u9RJZYIwi18FEzj7OByVV1eC36rcP9bTTigcLa0UYWhiUIcxOGk8ekTVUr5hwPSUFA2niFQWYcWtaTAvuHNztDCZPa9EffDA/XjTMVJpwL6qeS+wHlaRkMbgkc0jmmsJaCtwRrKgrJgIJu0f9ZHUr/9pnDwen5mrh2oXO27MCQJmzRVkqyZD2kb1yyj1XtSAmCdSD1QtjBJSMmzvl+UoWjXVim1Xxd+ri11TJxERWJCaeox73piHYCZICyWeNdsmGyABi2EkUKdRWDDhG5VAlbq88lUCkUGpvM1SxakU2tzj8NwYZgiiUsGPo2YPpO2frxdqqL5Y2Swpy8SEN0+nSJuOZdBAwCpt0MJaJn90VeWW4EU3zbRCJuKU5fnK4CWEXpEcBqPUmpWNEnAAQoWCyqpo1BwJcmsA6LgL4y6Ux4m5SWtBrpTezqi5/bd9QILUrZXL+xCFjPQ20n1ikeitPAAzYkT4nokVEKBwRvQDDCXBf10cjZ1OOpvbImw6Ual9lIqUs6S91cB4BCqbVvZp18Is7MleSbgEftkkGLVNHQTu4ueH0Ic56cci2BMLwi25dsJuqTZVnWIVtmz4Mnx8JvUcCTbQBHz50pwnAFsh8CNgOIjYIP6mhuyxs7pGOyyyX7qDnnwKDe0GF2y/1QfI0DBtOmbTh3r67dEPbNeJ4uDa99sia7zChneOFAhMNdZZ1cDnPRprtHwRpTQAVHOKKJWZY/a4PDoa2j/PuqF9JKSckY50eAbd+HBW15BTz7ctEMMyVgSoJS23JZ58dmTJ/vaKqgIXa7imsCIdtHANRXdrMzzNGMUsZRXeR0fhJaYGTEKqqSomjkH+dEJAOfBKyAdX4qUVTySnUWz6BTDCyY0LFvLLavhu4ptJwbXUTo9Z2SlfWLpuWJXb3Elbx9vnKgPrcVrpnlOLlR37vhU525eAqByWQO9bV2QJCodzy/ckCZqLIgOSjoo2CQDPmZw/KWcVHC9uI3j2pO+nhFODgPxVnQRNOUBXnK3tjwqLasZQicnMKhVK41VDPi6pxY9t2D9OKxXo3t3SUyYuNgxsKUAgFuc9ty3aY2+oVQYig1rXwn//o+JM3J5+7M+1VfJXwIeUhnDe9xOKeiSYApCgYJrMbIAFa0zkFiKJUWSudrYVIS0NONZVcSnkRxTCtGhGFVZXxrRKse5EVSLJOsjcFVEsqIr1OQIAmoY2UGcB6NUmn+UFMWs9FAhPd2Cm+8sLs9sxEM+s+7gotuZOTpgs21e4428gUK0ChxtDehIvgBODWpoA4GMMCZECduw4FnKYmwZBsiLLV5UC7B5eitfB26jPaKfj2Tnlzagy1Rri5yqjb0UYHRTDXQqDiWQ5RTa59h85sAgkMEUMLZjJ91HsNgUpGVRCNmDBqyP3aassUTDCEgsh0Lnn7OIUYPLG9UTyoO0fJj070d/UFA3ZElDJmxe1JDW5uzg5ncJF5xaO7TSYYpq4pxRA0khqRkid6Y3YqQ12JaHY+tUxS7wjfilfZWMg50IovOIbrYBV0UYFrhb8u8szjgA5tjM3rqT8s26y/4WNkixevHvon6kXFHykY5WBF8Bvtint+ieouUlR1y/ROryvcFt42JFKw7XymB0SC+G8giY+AZTxlyPuMKXXZ1i4ikUXIYMwXbHwlbTd9/p4kFs6cMHw9BaEgKg32J2anCGfEGCiGzVVjg+5Cq60i5BYe6QSF/xTUizujE0O3dtvM2p2LUQ3/xAPUyz8XOyW6oNcUvoIdc8Ugor3S3NotZyXHhimcQrUVL/jkIdO6vQIA2HBzhSCXuv+spbUd9hqkYCQZG6DeEh96Dxquo504JQIVHx9BAUbG91j1WZoVwcc+q1/XVj6Y1ydL+9Kt6qm90gzc0LWStvrp67rECPD2aXO2zhJCu3p2Kr65U+yUPCmpMlndopm1oKqeL2XRdB05valaR1bOQVsWNC2S+3ZCVcm4ZRu4mT96/ez/+sHRSK1XBh+GWSp6m8FZ5Um4ERSCqnYucVtvUwDOE1f8YhSRZUNOn2G11R4FBYw6s0y4G+hw1+OoGMOnH3A/+yWT8sIaqlJigJhU1W44+lK7DeoWY0M2CcPSfbNVGxGgEi7NLPRo0fz43rJkDsqXHhCJ6tk6T2iSIxF642FSmsMpv3tSd/Gw2JuYs7X4y55YX9uyi9LZ7Z6z0tahnFA6NBp+TIhjtGcCwICqKlYWi1rmdRvZ2ZOGNEDMJSEVxbWLUTZsXnRUb+RuAVK50E3NyUOTghuRkDi3i6RfZbmKUxRM6ihwYkuUvUsECcuUna9zbwCYyPvoKViVDMlQMuK2/6QAFQQbBCe/ZdKtBzglWTsNQxQ/HHPe/sPrEcJtYej2haDpUskW7jAMcCdJRW1fO/O7AZMti7X19qTNvw6wHXOZj/ymedi2uWsaqE53LpTDt4Ftyj9mQ1criHQMGa4fkk19xaLgVcPF6KW0ZnihP/qodo6/9ox/tOqSSrIn46YKFLhJ7fkKDhxRkYXNiLZ/gF677uCgDoXdHhTMiPZBAxUQ1o004twIYAxpHa+O2hkJxoE6WElG1bX7bvBuH2wcjrsnZ/3UO88bgIgMswQPFCb0T10CmCFCwOg1bwoKtUnoGNc18gkKtBF9br98MK9tyx0p4O8nBXDGtZG3NVDJ+kcxBMHIpA0NRWIOw9CYyF0TLjrvsmfXLjxPCeCM68hnBwO2QhY4W8m8ro8WlsKdbHbxm75CcOalTeRIIh/Ym3QN4veisatGQd6MtrEqXoroXvoNXALmDwqmfuxGj9rQutMgoYRM2n7NRk3IWuS8Gbv+uDK4doHwu3fn8KsWABRUMCaGpyUezEP3FHBmh1H3oT0qlux8BiYFoFRHQS3nWRWorbIfZW0VUs7agRwpCVf94UaeQY0mBgMuUqYO01wCNExspLDcXZOYGJr3rEz9r86KQZVicCW0m3Vl9ZUHq0ZVRvJqu3t3GRioUemzETldDRDxBvreSa3OOjpikSuAe+24pwSo9CpkAjNbK0FYyMak0ey2nkKkcit6vBrI8xO/O5/vToFe46OneP/kT6mlMzp3d2i2jXI8Uk9YzS5Zz7yxrk+DLw1WReGkCbOf4BIsTIJZhvMIHEZHQxNwt8HSlXIzKhYqVICYUteN7iv5pHbXWFhk8Y+6gEwUB8bTsk7PR/muC5+Mw4aynYVCYYtRl7i3nzIG6PGsTz9isB1r29tLj9GcXtTu6Fbdrv4N8Dg1XytcJVYJ3di22gtJ5QUc/tVuhN5OfIQaLkL3wpHJWYes4oF3L4Gydj5uY+M6CoMd1Q69Co25hdHqwvNKuvUkur1QWcaaZwUTZrbPSGw4euC1pR4aGRCY036B4RJPL2utbe+u0plKsosmMoAFB0XyqMCc6mgHJlWgVBoqDDXrLhdurX5wFrTqBAwIjQC8PjdXkF4AwdesLWjdY2Be67funtfNwFJNmLR4j6JKKA03NoS/9Ac2Aap91f4WIAqCTkrTWK1tn+nzglNBVFa8WPVEl3y6gU5X862hob70LHbco9VT2xCRqmdhOpPnKmKgIDQSeJ5AJofXA4FBp2vr21OAtGA23O6KDcqXiGBGSlw40w5iBCKaGKotIqdLAHMIKao+9xjFd8N2fGqv/Iefv3Y3wms3GX31wRpAZYJLLCkIk4Lm62x4nVTEQKFU+Fya7RrJCI2ClCBUi1gBYmSZHrH1OqWcLCggoMK0tTr5EAQbpEFyXLgnq9GegiaGJ4W/6GamqcnutSn5658QreqMvJIXlkBEU8Oz0hRM4XIFGpefAsDpyp4usyyiaSUFg5gHsqDGYnk0HQBNg0Xdy0EOQFGLWkW8zk+wGKzbgwk2BJ2Etq4m713W4UGyESM2MZqsm5psA3nRKLzirIg7OPTO/KhU6KZY4GhjEUp27DDd+Muo8OWrDQ7aESu1FjJ49owzAK4tp3FIkTKEMgmF6mrhMD79CrVjxZ7QxjGir87UVjT1189HoifZdsj1UL0axk03Fhuv9ZphC7Ul4G3IOdCqvwmS4E8M6KIZvr75H6z5ozOZj43J1YzcQC3XNUZDCPPjW7BuolIjrW54f4sfxlRJfaBugZTYDm8Nwqix6eZ56fsceBEvl8mGfRP6fP1wE6hKLrj9mt/hdGai15K2Bo3ae6M/TE45a0XqwdTxCgArq82AkaNiQMs62CVihWEtcl8LBRTsEuVNCzJmbE7a0n2vnTgApFl3i8RQ0ksI+YtMWnAbk6Vth3RdD6vlfQGFhhsCz0lKaL91o2jvRbyQGjDpZg2J5Dtp0AKLtV2HeERJNzwCTpT6ylOz/YlPA9EuBAVRiCdHRO7aNMkBkHPOAd34RKHeO0xdRnirIu5pR6Yk54mJZYMmsTVzy6JtMJ2EyPWFqlRRixDIEBfMHLk7SprJ5Q6FxkR2BOyWXBh2zTFQFfTEXjkruADWVqyqEgyoYExLnjBptCRVQIPrsIusQQTgVz9z44tPzXDNcO0CocvVuWzCZYRCBOdru7LR4RbMMAQQRCEMVSaf4d2DK5OIDZjXUjdqVYWEVB15GqVkHVCt63wdeRPzlGVs94Kb5MLQp29PJ4VHy4mRleGCya1wlxg0xr71ITtjYHpCYfDEXvHEbrlb8qwgZlpan5d8cJs3uaxTELm2SiYQiZLp2c17yTKKWHm9LixUX4gFYFWbYCCpI7IHgA6a05Kc13UaCyzI0dFOo4Nfu6cUsFYlydaZueG1Xtv+3VwDE/DvORf4bc8ZxllvqItzhuAGaZDA3BOWIrrD74zWFntD+UPRTOpVdZSv38gFzNuFP/sLsx7n0jtic/E0ZPhMf7+oUUr+0EWFHwX6kvJo0bwv3UoUCBpfv/oug2V6yo7xfFcPF0pel4PrE5yuWyS7iG3+qEBP/XJZuAwdeAy4upqHapIt9tbjLO2NG/GCHy7bQh+UQOB+ES8njAQIHT16x1oJ5wjlpGcMo2nhfJM21pgxCZFhJ+cGlrTbPYrb786PJT90hyxlBubf5/oNWbwHS7RyVpqzISlhFSKBpaYem0v+pBdAhKxo745PVbUWOV+LTaO8DEHQ5+f1e76xHYQogBhqz1xWFDEjNYGJditzc1r0u4TkSNpmUyhguxni259CLMwWuduzYrdyqc0ojph22cWMrdSkugii9M5ZfWdmnEQYjJK8BoEJ1rtGAeq8pNquOtfBNppGTiglJHWL4SE0RBOKxYhQclgd1N1LpLRTspe3/SiETmTj5OOUrp3boyDm0nb2nORjRcZGktf8JqZpwbdnReFcfQg7Bd+ZFWXBAo2XB8bQU/vVzz8zm5TZ/WP6KQSMx48frL7+4xNcM1y7yei7J2sgC3Sp0CY1bCdMDFuFWihURCnfYm6F7pV8XkujXnYLhsoUNE9O0FcLJCZ3ANrL4nRrhKBYRN47ywWSQttk8pUBMBqRH3ww90uRVFQbi2D4ENRfmWynBRHctbVDQ9A0ujvlozksubSKAwyB70mwJPUPiSYFFUyrWi2UBALY1I6bEgrdOkmmTwGv+IIVH10qX4M57Qjf0jglXtgLu2xZS8HsxL/0BGlHIx9JqM/4Z8U5vrVzTH5zDXslUBLUy/XVsF8HncCYbk6N85FLgrho6IsbdQpnVlv7sDFQRu1UIaNRpCJVb38yTDYs/SAD5xWiN+oK2zNP0MwJIdDzS+rXmakwWNftatgYyyZtfeCJjv8+NIPuNFPt5nIZK39pMAyAksRCFGveUH+XC9j0YwsXVDhE2PNH+RHa/Z02FvCZXbbANPE/2Azd/jwal7wJ58ereXv46Ih8myGOVfp3+7c68Jivb4DIp22lFRkq9wiNZi+mflFjZeLXhLdsf062ZK8ad1BtsggZfG3LHgxoRMODEec7z7kMvjfQQCqtERRDqQXThqzqukGma8dw9/rkXV3iuPDNhYLToXo8H9Q5I4fNLYbWBikUAt2YcEK7H0bWB4N2S6wtVqmtVUIaBziw8KQRpXwBDcKYT2bX1YdgCCKIpjROttif8vHSZwdzWZHP6+EVmSyalFkZXZ6Oy+3/7EQaz8wFfB+cWzJasLOWI6va2GQBu/lu/YPyrRc3HkFF3ztd25DKy/UzeOHRWtp14StuWVXHH8AJ4KQZPen3IlIGEHk+XOOxD4osdPKmBWorvnDGGiejmTPSIWmbIrDTDKhSmknLMAwzk64b9VGcSI+WFi53jqoSztfyyv2lDTKtIzqNysOF/fZysVj3/MKie0sIwPdwaU/6hrhXDdcuEO5WiXVmWEtZfCfFslEAhiEuMBa6BElUz2rLhLKAbQBNAuAS2EV+AVRdfkIotQ6dxDBEAhWb0KsoKAQtQbS2p6CZaNl6V1tuPA+i2vHFwVAu5suLeKsXWtzJBgs6qe15LU0MkxzKpmIdPCuH9FfDWrCZ1yKq7TIF4ENRuRghLZlwuJAGMcdHqiRADXHtc3QME5KAA9w12/6UV42umpjZo+2kVWi46U2qIkP+st4ZbWaG1IppQQtRm4xx8NRKqXx+GDhv5dA7p0YyRNYZpSZUwwm6jd/A8YgFEYwhFZVkfCI51PC3JxV2z6QxF/a2QIIyqRA4VuhXeCIUDp5D3sUPXVE3VhvLjGORv6dOS6q2SRc2ZYOwNTjZeQOT2H/csgr9s5MuxsGfNCnJyEUdrwjQSMzbwXEHwwia27Cqmg++f/R4sKHdiyUEGmUBOj3qSIPj/X3s/gS8/gbAlqviMaui7YpteOsRYLOiYdNPWy4Q9Txc5+x6NAj7d+yaaPyVCNwV99rTyx+dzi7xokqdsUkkx9TilRVTdHZm14c6/brNCdJ9ZwC18IqqAsaQ2IzEBkLdPrEE6tyGpXxDF4kBvt9VrEjYqPzXtCKnTZbO0x5R7fyYiiu9AUhoOxAltsHWAUwLsqDGCTJxB+hQtDgK2RG0rUtJB2V351MwFr6ecnTIv0JIQlCq3y96urTRW0xBBlhnbVJfQZC5Y+YLjpzymOBNtFw2Be0UcyNHRMohvJyFwqI0OivMykrTSeSoapgMce1ubNLDJeLqLDWJ1laspAj6Ezi4bbbLjQAmKhiVYYLWqmvbzq4PGjRkahb77W+IfPQChcI6ESzIigDaBCDqIqySOt44TKJ6HtnHKYqOS44zacNqRJ4pBKcEYAz9zJM7n39y58cPVt+9u5g3XrZfN5rG17GiFqSkhkASbrQE89rd7yQsbIexCT09XjXPH0x6o3DFcO0moz/79Azw9raR2ckWtyNnqiqomD1CRCZJt6CAFYiSARvOyZe6WKOwAksqpI2qVfXZFUAqaMSbGwMgqFdY+JNGRVVEw+0zoK2dh8PZ5hQHQGVoYsjZa2soid4ddy0qqpBwc69qLdXirLu7BDI0HlUXCbkPe0hVfBZ1v9uJAGaaFN7LLF6Huqt/HzLUkCGqCmaFKK0bweApGxp0PzFhYrBfcWN11eiYIDTA4as2gYSJQkFuUsPhoYvGZR0aPIHaoch+UYWqy9NoyF3SkUINcZrnQBIGQgHDtFuanZKZyW3ROqitBsxmIs2K38b5Z9fmRssb+JvweCQQVJ32jQz5BEcb3hZq98tAO5vbTgsGbBpBP6z0lqxeVzrflknssArDRVQvHEk36In5f+79SAQRbVoLGWqRHlUz958PluwuxS1HbHugwdU4DqLIU9FsyXxfh8B25YPxyNVeFSZXJPK3VV1VsQ48GobDbRFhPLnRJSojz8Jf5arYWNcQXUyRcbFBhjoWqbcMtZDL6ySBRhGhMCjM2J3QgOyy4esAjHC9fawGgEAC6g6+dqwJ+gI29Q9xGvg00CA5kpwNcOcFx4D07vqSBkIlna60lB7I20j4IgCR9Uf2OMJadFk7s09/6UTxQOmAU9SqEpNzqGOiRoaNLARQKFNGuI33GxqYdwXE2a/lKLq8aHHS3K3WU3tlaXxXDWlMaxF6OqRX9QXI3fDFOTeEJ3aLyuT7IqwBQ+zzoYfyVvV8ZZfdDH8AiInKgvz+7nDw7l9RiWEOM4G1RZhAnHvQGtKDabE/NVbJamvP7Hhu47NzcVEMLzNF8JFUzycGKZ2iE1gbTCNeoasjDgD8koirImpPKPwW3oD7TYDKUACo4HgpR4vmvbOanb9fUleLpVNfKERC86EUG3Ur3rPs6VQBULjsCkfz5t68myDgyuHaBUKX0GNi3JyQAYh9QNgOzy3QRkRARDCEWzuFybOqqaqKmviaIzb+cdjkCr8Y/ZL2Hnr+NjpWlFTr9Bpx1pkDu9/u5C6ZU8Haek8qoraVgogTN1kE0/RESnFynDK1VC/8zUSibM8pGqvztbDhLFCLF2vDVWmQSIsg8KpCABW1imUtLiVjN/doaJ5zquyCbi5FlzbcnWrnTf+1Y2KviBGl/SYSaalkOg7ZKxiCFKVgouKSlIhoY7URtdIZqhZEtBZtrIrk2xxUFT0f6h4GY4yNr4JA3XXRg2RKVV1INO8VrXoR36TZiHWr7LzsVkBOMgsOLNomXiRnF+CvVZ1PbFZoSAS5CEY5i45Ak1iXjGJJ3SUTPgWOpiujbn+3EIXmvOYPB9SP+fhayqdVW8+L/s+bYEsL4cvAY1Y4NtSD1W6elyvpWmziOoTnq4WrxFAVSeDn0XHuNtkrmJCmy6J3ZZsuIfNdriwWcDvOH46R8oxiEzTH7iJFqBnL6zMCVzVVF54XotpJAztwplGHnAzA5pPJ8wvsTwrpHeVpnT4IZIJIx1yVQWXfJZ0ULvxguNjpndahKEW/rYhbVlA6MeI0iKChxo4kClDF2KtMwYMHSOQh4RNUJU0fTowZMdL3B3H3sO0cUgSis0ZOl/ZgWh5URWVA+SnsuM2hFgAX3048Tm529ivzr31i9+m9clp6SSzeBzOhFpH0spRgQE0fUwCAYVir1JrCUuffFg0Fa/q7RpJAUOKMt6ktTlbNvbN60UgjalVj9kIrcAyeVWmsRumb/DTmIxk/qZM7fVD6gmhWEhM5UzJRxCGCt1WM09he8LhqqnA15GWOsGBmE761Y1zoP1X9YF7/wetnbx2vzmtrVdFy+xRDKVEY1Ti2rr6q4L2ymBpid2MLTYc+VZWcre237p4PTftVwrWbjH7jrTMAdeNvPCxAgrIgYTgDNie1KwAl6++WyRDWibo/OJihFnW6TEX7MEJkq3RI78fEgixMk2sr9R5kYGJYAatUW18LOZvMeIUIrAQEYfbnBPmbZBKFUd/TZGGl1o5R7EdKS9Icc1HgzekYGtHC+am3toQKQAQNqGCfqkcJNu9+vNsbpm1Blu5kc1DVVaNE4GAfqL13080DZL12D8KT3Dh2UCvbPUoCbuT/EkIkzxSTkUwvrjarsPWAbYhCl00/XQc6su2grUjUXxFRJ2ArDb810C/1OTX7DWic/3Y1JAk2x7gLUhCjAMXYvRRKdyedsgEsDFmhzqZwtRlCG3CbwINmNoPIDHhVKHIr00FjIPc8ZGPp/dT+vyvJa18ajJ3ZhnnrTOOWb10EI9UMTKLtOgX23sg/X9bKN7x6ZWz3FcGlWOUPQUj76MuB1wUpE3LF9W0Fl2508x5NPCcGXhxkqkcIUrfQwGXaRX3V7jfKP2x+dazMQMMCqA56uGtL+HvYDLSa2JmmuObHGjH3nJkH6iQCJDsQolwCIlQFK1ST1FyKkFc3qU0hRIwO86YIsoNvqX+ma2LC7OI6UmDKBzLp+fOFpwWf1t3E9c4CWRJ/HuKWMVJgpWqYGh1gLbqMQsKOpa4QqrSu9bhuQg/RGeH2fIwVpLVT8IJySYmJFrV8/dXTgoiJmOGTUChAEEl9UkDuaoTaSC1upmL7a6tFdgGt/i2AiJrMowNCLoG3+9ouJwG0FyNh3WiwgINhpUTIzxZBMN9VgLrccfapIJoWZtE0zl/w5rRYnNYDa91bmg4qhQAX1tEPAwyTeKcpOl/JwYS9JxpwvrYUuKOOGy8rDENBVrI9RIBhzEpTGdqbGEZxsrL3502KnAF8pA0FgEbw+v11rw9XDNcuED67VwJoEjZUCbVVJ2WVTES0djK7i/tKMATDfLayLicnKzFrE7xRVZSC0O2rSzbExLBCVv3sJEDBYKbFOqUpXTtIZtqfFIZx/7zO32WfRpMg4vnPGBQmcrmilJrLB2KaZStPCUpSv89959EACGRz638CrEXfV1mBdS2lARNF/UQfgnZjC/ECQEifo0rO+LbR+H78eaiN4fPG/8C5NBJoBQC4aCMdOTN8IW+GPnz0ai5EUe9Jp18+hNRQLZR+RTJTkfaSEhslIpVsKtyb7j58Ja3J71iAMn/cds8wf1gmFI4QrJ5IGS7xTg97BUhhKdYCKCy6ul7qSXOwO5cAACAASURBVGsiZIgsom+kt9+U3O1jJNrPyJS09vxpBT3F8/BsXijuDIznAL8y1ETL3GyOkrG5/Qtwyw6nQZVCv+iGBq9IOL0S2EgwPoa/6fCRWYdACK00SkLG16qOr+NLpVknDElewyUzSph+uKjBAVrhvptw3dEBVTUE6fCl/uoBURZKfxo6C1u2NWW9A0vgG7LDMSzbwq5Zq2B/VGaSjAJMqK30Mw8PgHbZOa/6T5kJb5aX9VDzuHuec0vmn/N4dSBUzGe11RwrJtqfmFp0WYuoEmG/MgZ4uGr9ME5XtuSQ6yqJbNg5hYoQX3eo24rIVgwerQQCKmNEpXEp6TWGUYhzAwWUyIKs1fXCarCK5Pa6tps+WgGrym0UWSd3toWcFruDFPlse9ljQ5BMV9+5Q84SZLrjWGKi8uBuGH/0DTmcgpSZbmEN2g538UIgFawal5ROG8X787o/lt6LjboTxAlb55w7KVpNQRQQ1VWj9xqJl7dRddKfUyVMSjbQk3U+DITKsCgeruzRwhomyRecWz5M4dIJ8J6R1wzXbjL6Dz5zAyGThofWBAOi6oJwijfLdjRDF41tgimyQq1kBNwH6lEXx1YpWO8RQ0RFqDBUFZgUbLhl860oBZsKgo89A7Qry12FHS3ro0XTJLdYLnrXXmUOd8xTu0VrWjkg/LSPgkcsKK4o+NY6t22qsNZHLVL4kDWFSW/afdVezsitJwgQRW1HKEwsRrRTUmkixQpI5Wejq96VcVuzEY2pgDJuF90XNbhfplVSa4xKnROEvF0IWiNvAEBhqDRpEsE2dcdgzxCGxNOS+NpQ4c2CQGyFAEO0Y3i/MrsTNoFMuayDjUXTOUeJANSi676j3ijmQxyNUtyTBG9d7BaCuIhLI1yQqLvE9qvIodsvyqzpWIuqldTqJ5r7axprQRHu9LIuaTpzcY1vOuu2g4Qf2fReis42lUe8VLGFz9QloriGJdjF4vGlzpFiF7/tDO+vFK5PGnzkc25cIrhGBNL1/dGRkj46mFwaLr2wKHeH9hQ7O3Y2N5dzwgMfL0JgkyjXabtDONODbEOD8ZWCiXPfGXZbe4yCEXx8rRyDxFIv9AAdO/z2p3Z9h0+eF8llrQvpW7wXStn8tIYmCxN+CSCnfE+6Gbywejgk312widQ0kDqMhWLZ2L4EMTG0V/E6XBuqYm2VGR33R5e8jsdXhz8lkwntzOLmRaxKxoAZs5JLYjiLx97wOp7Q8RdOflIf31Ipn9+89r6g1TIGSmhyG2silEyinIoyhsAuq2NbsNtD43Nxx075D0ykoCTpVvuqRg4yDLhbkIad2yG5Mk6msKrrYBgq0LXVdFlEFrdkmhYUGyKAiNj0NpaqwkUoaDvlGtL2RTARD+xJEtVpZWJkGsApSjBv5Hxta6tWtbbSpGERCIVxcWsE6rOy71TmC0/89c9DOC0YwI1JEkTDzR0B0Fq0FhXxCzEoCTKeUhNCFi1yKZEhEc12BSuRtVVR7JT87F5Zskm4S/ICvxfoQ+Lp6KrLYCIRLHwwz3YNra0eL5vjRXO0bKLHz6C8gdZFNeg8oAplVg7EJ1vvBISORD7erenIYOcNdJ849l1URSk/OLytvANRbdRfkyIMgypcpBMilIYmBU0KLp01s+aHQYZAp8+tE5R4ihOlAyoYO2VIyth5xQvLZBgkvoQCIsqcHXhetB4jsghaBgrSrJfoYHLPyDQtVJyL/sUgQ5mpNFQWXJZUMaeHlqe0Cb0zwfdYgnUrgmCfXmaPjmD8xTn+peGU0tw73e4PnBfJIhoABRrbfe0CRUKnaPIl6Gijbq+zZx8RtPtpYLzimI6N5YUs5mYjzbSOzVVFqjUqB2eFrgourk4vMvHdln3Oa9224OUqHFzJ20DKvQw+3xIuhUA6nWMNPc5APdq7l+rydk1czaLtcrx9pmkQm00pU1LWDFFY2RafvN7RFzfVqMNtRlY1kzDyDhqGGaybsFNQYWCIUk5cFJzTOhWsXXw5dAOyEEIga81f8aEpcnI1tg4Cb5rXcYHpBnV0bJTRnz6jSf1DrbsyiMZnQViRa0dVFUQTQ8XIO330FbC5YKtALdrrKq2t3p/bxNFEV409ry2bflAbZYYLpNfp3LSgnYJUIaIY6ZvmS4eQiRlMCtBaZG5VSYmY8svTVlgaAhfDRlUZQU1P3RfbqgheuHW/eG/M8JLCEDFDkrtAl5rbcKaL7JFmItDUmIKy+SVvgds9Rh0nSF6685udiQxRQdipeFJ467K4nLqqXPUq4HAxQQWbgsgwWYWE7BTMtFPSrOBEI+9lFWdpO3Qj7nc3AWWhRQgF1P6smuYe0/AwicfhxrK9iHf8pCi5FIhR5rm1U/z7Xzzstn/VcO0CoYN58AkleNGcidR7dQdjNQQRJXkxdR4lwsRgVnLBLaVywxjSaDqZXUV1vpb35/WqiaZvChWrGhM22K5qSklVXFzQKMm7f9wrhEaxrNVZZTCx10hljFVgjimLBMVKBKoMVQWXTIUBMwqmkoiJGe4MCHUAgPcD1CiuBjCcnQBJ6+T1XuQHxIWyTAdTRJ2+oXB2oHGVkpYFH06Kp/ernZJsEEcHgMKGTp4V7M2dicIVvPrINwS1AqJWUnXnaHBK9P+bGC6Ltowo1o1yhypraGADqI/ERf56lipDEx+vlgqmImkFhIJoWvL+hDuHqoKs6tLKw2Vz/7w5WnSvA2NXAIAo3gZ7POHXOQNEyZVffG9Qqg6foqyy2SCJoLxxMBxuyNPyElrzjPRhh/1K5eZB5sWLwIGudaalz8xR/t+WEG8fO88jkzU2QBczvBcspZaN21xV2KSh0kFEHkc+fgzYzMDpyOeNcMVy7WNI9I9Z/rorfJzXr7wvj9pETqkeEa2+pXhXRBprPPKr45qhpHhCLYcrD8fWlsLwZgIxRH0SYqW9pwjyjfWx73uCMgjKFfPNnSw0iSoa28b5J1e5xB+V85rS66/OAYoRMTsNcYduDMvecTUmbnXd3drrRwZMTwgeOlG7S0WHlMCexRpMHAE93CkPJsUl1u1W6gEV6NKmTZICa+f6lOPoePhZ4QP3xgqnBf2dF/cr094nZFH64qrJxpumhvamqAyRv3ej2krT6LqWxqpVkaibCFqDCw1DIqftBC1Cq8HPJDQlJnArEbbMgALEcCOQTpphFEwInoz9poloWtCtHfPCjcnelKP628Vr7cQ1JAQONgnAURBVzpaPwMSNaGMVTNmWauWD8MFHp1cCSNWKNzpsoo+eggg7han9jYbbaG5GFHG4etyvAwHWjXO0QTZ/gIqerVt7UAqVk7r+Bi4jLhYClEVUvRxBxgDArZn503fmA9N5pXDtAuEfvn4KeDkqrnVn3ubE7jgIAPraw8LAsLf2JcVadV6rTdPwuZcS1lh9E7pqMumS0nK59AWA3G0SwEQla9izgMdRE3GeiFAWLsqwlwmD6AgeWjFKClWBC3dJTGyIDGF/am5UXBWU6kUSNrvFMcGT0gNANftZ4WMrO6mmsS3aTGSYaovGQlQNd2KD6klt750357VqmIaBDa3+Ji4ENoULRlwVbAwVTIbYGXu2kZSB85WVXPGVmUtrK8zGHqsqJ0QqaX08grUf6lbd4kZ1f8KV4dJoachacZhQ0JDNSv61l2+WqS9t5FjC0I1wEH4ICiJjKMx7Sz0VxC54lFIXzX6NgfJosO0fm4G0pzIitrcoqpJmFjv+MMjPy77ewcu03Atj7l4hpKe3O8vSTvY9J12jTFvZam7x5DJAA59GhTTqlbyitq++9CNAlye+UNr9GK4WrnZIr3eCOpLNIzbWey3n1rZ5O2FJt4LhyjebOHZeZPgsvulvkXR1CHqafWDDxaY75IelNUBVVyK11cVacrtHVVAatjHDuHObRSOfk4ecSZAE74PTqiG7b2QMyHaQD5QSGgtyeY0T2DAdNF5kw1uiuLdo5k0I90YXlG/byux6EuSTI61fkyhBlHtcayNacIzq6WFp8Wdvnc8btaSUsFjkdQFoW1MAYKAg1KprS4WhWUlV4cIi+rPLJnxUVEgLxaj4Q0qJOKwaDPECf2uME1K8yOIw7+UsoXiIO6uoIAI54Y0IWIvUFiIAKffWDQFWYBX35vXpUkRpt6SJcZdDCm3lTzcy4k3Ogj0wQAxjfBDGtdVlLXXr05SykOkSAIQsvNTnHheEg0m2FRrRo0W9aiRGIc33CTGD0UqnKTgOKsgl7e9KWFlZZTGTvOWuYSqZSp/BwrPBjuR6H55g9+1yer9+tD5bX3ti+msXCN8+rZEyIApVNJKok4LFJgMGZIJZNhE45JuHgv3dHzLJIVaRH1yi0Ji6ngCACVXBJg0ji/jJBTUiq+rEQiJKjes5IYji8lKQ1lZcQjDDLmotEalhCpEwB6hQI6hFGxWxKha11QfL5uHauhiDnTcSU+1U2sXadqJDpWPo8WRQyZn5KBEdTIyIWKgbHCs+LS+DCiZVWjUyr6WxznnVM/k94danCvUSA4GAxmqtIpasKhIaETui6HrLpWRWgeVa1rYVg+CtyTUhdGlfWyg4iuMU0GnbYqKSuRGxIiJYWYlm4Oqis4qeLO1vvfKwlyhpuLn+L6SwKo0o+cFKaIFqLbZxC2Ik1R7l/zLDcEzJMgKt6T264louRFKyMTRjWrbi8xQ+p0/Gb5BPmtcxs3E/jo6V5wui2LsZUg3AhVr6LaCVXAeGaytwC+zRxLXea5undwtMNvx60ZAkeq1tqtsSqQ8FHk0eGV/dPxm42iG93gnaOEaXGsBrGO2OtPoIbw88aSsUr6PNE54m/2ZUUfVganYKMy3ZPCKZ8I02ogsr/QPesYueN+k6U2iC2DCRTztBkpHYzksD5TXPmpsKGsP2I0G/GU8fhQKGujEMNwzViPybC2nJwwiNlaWNYdgGKuldQxGi9xCy3qVcmYYYE1mFPrRcrhsFVHGy7sbKIcXxyq4bUUW8AejIHdmiYlhFI7qqZV5r3eiYn1J2pCpCWjKnmIdhmsb56zCZyQRBYRghbKq7b1NVNIkMoqSk5NAXG2J5AACYsVMaAa0biCaB5NPZIohqLXK8aI4WTaNqocvaeTqpKtaiCF6C2nqEtcPkk6j5mxXPVw4Pibd39fZRClVRJ4i7ZJGlwUq0lmz0RSGS5XVL+z5hjs2lFz/O5m5iUHBvPyhq2x33GFNVCcw+VG1CVUi9+KNEquo56pOl/cYbZ4N9vUK49iijX31uFwlv2l/SXkIjFIZYlYjFqovvKvEamFTBnahesSrpyoN+gxtl73hMNCt5UtDpWlT9XEqQTuMsiECgBSvAbd46F643TCr7RUnWm5g6o3+XLJ5kyMrYY6WI95pNMO1UpSB+ERFJyq+xD4bFpAXTOuY+6rWgQMFUGPJOBYBVGGYDd5WqAFT1ZG1df2NsVQ1G5NbGDewGLwSBCsJ3qm5xbURBQaBi3cxK7GOcD22RpNa33LWRyIgWQNAEuThALjhQp6/t4iFAUTiK5+7lmMj7i7ellbCopdGwbvL4ru7fWvR40QzyB4PLNS/ig4D6zFQDmgqC6zaliANecoz3u/5NFSiLiqNmWUTkCEzRkr6HUNAdph2M35KRyfgcj9RAV0mS391fQ6gMNaJrm42ZM5Hup5uIqBBQGJaLQ8plnIBbJRtnYYxzGIBOPWPVDjF8qIy3EdqyrQTB7ivjGGsIcka9guHz5vYvEQdnIyKPC5osmquCRxTHr7S2j+HR4LFGe2ifhvj6G0n0hp/6z8eepM+TG5UMBNgteafQ4zXIKDcZHb4YkkMg8iO9AsH1KDAGgwgTNBzPw+A9Yno8RJ/oxToNU2mwEOnPozrfmI0Qh7H2iub8TKcQSz384pRvQ3p/IlImMsS1doIy5s21J51zXMmOJemW93p833oYiIBpyjGoMWyT254iy0SYddbfWWXdVYTBl4T90fa9DGw45h2nUFvUo47v+bx41NUvBFIm3iloZaGqLnlHvyLrWLR00XccPANVD7uAnNOK+yqKxTrwX17g6YXtDVxSy3cTrGrT5KzgIBcRhU+CtX4SN6w814C7vJXgguhkCsMwzMtGm1WTsrVdPPMfSGmZ4CnAbsEA1yIKnRquCpzXyqrSY9x6ptDOMZQKEBFWCEy5b1cJKNj7mqYtLptHC8B0Cbh2gfB8LQAM+bwFkZimbKsxMKqGuBG14glPWsAbuJMaIhX0JIUMvLqBqAmEk4BGZbXS2gIAgfYrs6jt2rbD7flOcuqzZBOrWtsyOAqQakxVz4yp4blalx59dL8SlUTrcEEVNx2HAFHemFXahW7gg2gp6ao1DRwg9gTsTvjGxBDobN2crqCQRSNpvGinIPHFCdF3N+zQFtTdU2kvyV7IuJNKD5rM1EDXO9QwI1vaLebHVw1Tbd0d6AAnHT854iVBYCVxWkxNS4v2YiuPTJAmmMSJ7mCQSMVJWslcSTEG8ZSKh0A8+9JWFAh5E5Vd1iTNblyZMTW0qIMAmR86GoJop3UOqGDUrYDYkf6RREiJeTIWjaKptW9I2tWG9oaOiKyOHeKdV1uImrOWaPQ4ig3tdqAz+9TfTDR8Gimwsnoh6xPBBH3TKCbDj2Nw+IgNhj5fFVyfUJROWgp6nY0+MlwJVh+Frn2YOGxo6IrRGNosOvRrt11N+fv8/TH5ZwMWuuGGBnjntO6QE9pIhLNiPsf5eMmAvwAkydnjNYfJCRKcDVNePMdkkx3HIGMlKlbIEEfXx3zM/YfxmsO89M7KViyAN7IiKDEVwFr6tFnhoomwQrEWilqBwXaZnCxEXS66Vzplu1XBREwu2Aw6K82KyxqmRAiWoqMay3Q9EDmbtbgg83EYwr8D8VCnUKMmvU95qPbcVgCwgoXagrE3MQUgRKcra3PtbcsH5l2JRq/qOKOM31AkZ6gqbPKzX8xDVzg+miP7fPCS/jrArCSb1w93m6UwKwYYpTSnMgGGXMxS60q48RclFZE0hwORceaHcWIo2sLFIVKKAdq9TAHDogoLWlldNO4OElVBomjsMGcYKyjJuxQFWbC7sTppdZjw8p1Jv8KrhWsXCP/FK8cIaza9wfCBRdwcCwmptRpi+gbyEP1l1e/t0lBRUt1ILZBAoVOyWxgqiGoRK+EyjGBVbd2eFarYn/DehN49aeKgBxsDFXjnwMi8JvwwUnHAOcQunAg7fo9BgIFL4dIKlb5LIE9WyDnjAlaLghhkwxVdK8ept5C0uXasNPTpw8kH5/b+vK4FtSdvmi2uBJnKkGp71zFwAAxegyhAMMSOfuakJCnReQXBf5pymUE9LQmxhbxdNSmCNOixjfvT5T9V72vbthcXTCP5KykO/W6OH9Fjk9i+xAHXjYmrsmO4TxsS+XKE5QkkltpekKLp5dNN179hslBNhiKt26k84sXvuDA7QHKzXwZYDT/7g+ppt5I3n3vDeu2uhEY8GE0gxW5r6OSKxeA0JXVvqLwzh+osaz7CsFlyHofeHh99ONbsRxA2Y7Vl7z4KXftJ4dAZohE0Li+EXRK6uiH4sNIkJJ12M06rn9t3YINQ+tZgJwY0tQN0Mvnd6WbJq5g31Jxj3tJ7Qryh0qQAGESRTo4cFp0fdZz6iaIRpSAPd2sgx3YPJEVMGkk+xSvB9qF31mQffC7LyUzJ0UCAFYl2QAlj1t2krjtMPDWY9xwfAibDJ454Ga/lAduV6zkrVXBIQxAFmfYE8wPVMnpeUI+BKpoOizW8Pvya005JwBA7izZAVSlmnRzjR1TRWDoVa5y9cZqwkXwfKOgKohIWBKhgMH8wkTOiE+lMZUeISo91CtlQ1CqQ+cm66VADjuoOP5LJxLorx372UeNWFaEoyAqacM3jrNCcC1RsRgGFS7fYDgAUt2bFfsUrK/fnzSqY8KXyPHtmXRlcW1FgnXCctVfDwMVK3SnMidi4aN1OjxE0CVDRqmQirBpL5DQ9ngd2KNreTFaGntqtBmb3SuHafQgLNnBbPeGqC8LNqdmfmIIpUgENZvtubXKcxWSF7U/MZw6nT+yW05IL7oZvBKNk2p8YH8gjJ5UUYsAwqwKNzWgIA0UIFSyiJVMxHMNRGWCmytCk5MZq3agNZKBvUu9WAzOLBAVLUoShhtQw4BMJYlLynZ1qVrEoNPFjVKWy4OcOJgWTy9PgghEz0U7BCtopSYCUkvYxh7+TVMMh98SID4BQSxMQiIYbHadHorjQW5eGnO77zqM09KnD6fMHk2npw24ZRml4UqBgnhguY/wx7Y6hhlGtGDsVl4yyYMNUhEw/fWbNMLgXt2SApwt71XfGI4sgnrcdYaBknk14WrDzA54aU1DQU1FSXfpWx9XDP2xNz0lDRxVVQaljuj+rclTdv9Z5seaFQy+oLPipg6IIFNwFpWZq+6PoZCxOJzEbHkpq7sPQEqMwXGSIjPFkericK5k49BJRybxb8qzkWZWESevyKKoKTrd9MHvOmsiGsvNRs9kd0B5cDP1ecUIuCHDWs6OlHw8IncnqNTDaYramXNQ1ULbWujVR2Oqbqr7qHm4DY21ePS7DNX7ofb5wbV4SI4p/LvvSIzbdMeAYq4J6u2krxHrlFFByscQFGxmdHhsx7hp3GYjCAWdEJzQRN3KeE+9S7QYFe89SnDEpuDQuND8XBRXZmZjS16S2LhVtfxSNN2adMjiYFC/fnh7sFI4fK4iiw1q/L47NnpYc4685Zt4NUMm4OS12CpqY1uNdKYT7D4lVo2qRkqO205BhMkw7Jd2albOqG+abgKrgvcoUiRMJUxsunBSpBtsbcKXnSnu3EeREqGEqY3g5L3plgWUIVHB2trrMDaxkXBjMpI0khXZyzEU5Sb0oXhoUTC6GDYILCvXWkkJV0QiaIHukJ5Rh2q345rTcLXzSS/UC2LDnPANF4YeO4tkPf8ebzAJuTYvSB1bV4KXlRq8tFoaCJyVVzIWhyKsrXEh8xGgCHV7OMD1/s/rEzckz+9Ve6YI1kot0uFNwbMcrX/zkRuO7lis4W9tbs/Jrnz38/BM7cZlF9EgxLfn2zMxKU5o2p6cfpVgzQKQqurbScnoh+VnqmcignZJLJp9uIcys4xKJyQRWigNTulfyzz29OzAZVwt6zfCtd+b/5Dd/fO3d+Bg+ho/hY/gYPoaP4WP4GD6Gj+Fj+BsE/9Xvv3Pdwpq6oCbX3ZP3Tuvvf7D45M3qmf3q//7h0Z+8Nf/EYfmPfur20/vlH7x++juvnDxcNEvRupFX7q9qlSd3q5dvT+a1HC3t6dLeX9QAJoZ++VM3fvmlg8/dmf7WXz38wQeL3cr88qcO9ir+b//gvdeOlkur+yV/9YW9Lz45e+90/d335+crOV7ZVaON1f2J+drLB+dr/c7d84L53/z0gYD+xSvH98+bquDPPzn98nN733jt9JvvnJ/XzX5V/OMv3fnP/taTpyv7P3/r/tdfffja0dqq7lX8tc/e3C35S8/sLmr53vvzP3j97I3jVS1aMX36zvSrz+1+4Ymdzz2x8+rR6t5ZUxq8cbxaWnzyZvWje4v/8wfHi9oqaGLo9qx4Zr96/qD6hU/s/dX95dHCvvVwdbaW2zvmq8/v/dl7i2+9fW5JpsznjSr0U4fTX/vMjZduTd58uBbFB+f1jan5zt3zo4XslvzrP3X4s0/NfvfVkz9+8+y7dxcPlk1jtSx4r6Dbu8XPPbVroQKcrZqHS5nX8qmb07XI3dP10/vVP/7Snd/+y4e//+qJku6WRoBlrYa1YlbSL9zZ/bdePnj3pDle1j+6vzxd2ZXIwaRYNfrgvG5UP3U4+Y2fvfOLL+x95+78f//ug/dO6xs7pgB954PzVa3P3Zj8R1+68ysvHbiV8M13zv/4rbNVrc8elJ+9M/1fvn3//rz+/BOz529Uf/rO+brR5/aLn3tm93sfLH/v1YcHVbE3YSZ64aB84ebk6f1qvravP1wfTPjP313cPVuvrT5/UH32zs57Z/U33jxdW3lyt/wPfub2r//Urf/j+w9++5WTP37rdNVIwebOrGhET1eWgJ2Krai12Jnwp25Vv/bpm//eF2/90z+/94MPlsfL5oPzelHLjWnxpWdmX35m982Hqzu75Uu3Js/fqHZLUxr6+qsn3727+OBs/dTeZGnta0frv7q3FMXK2kUjE8MHU/PTT83+45+/83uvnfzzHz1U1V98Ye8XP7H7F++vnt2vfvfVk++/v5iV9PPP7t6cFi/enPzdF/fdyPxPf37vvbPaMP3Mkzt3z+v786Yq6G8/t/vOaf3m8fqsltLQc7vV331p79UH62+/e96Ivnxn+qnDyb15c2/e/MxTs1956eD3Xz3503fnP3x/XgtuTM2d3fL2zJyt5WQpR4t6ZeVkqStrAdyaFl94audwap7dr/7y/uqD8/rV48XZSlVRGfr8Ezsv35n87ef3iPl3fnT07buLiaFP3Jz+8N58afXGpPj04YRIXz1aLxr7YN4o8UuHxX/xd557uLSvHS0Lxq9++uY33jr7H/7k7sOFKKCkJdNeyT/99OxrL9/89S8c/m/fuf+d9+a7E7NYC4BbM/Orn7n5xSd3fvuvHn79xyfvntbnjUwZC8Gbx8vzlRWgYHp6r/rVz9y4s1vsl6Yy9MnDyevH66f3ix/eW/4/Pzpe1ALiedNMDKtivhYl7FfmfGV3J/zcQfWf/+KTh9Pyf/32/TeOVyCcr2xV8D/8wuHvvvrwz99ZWOhLh9OffXr2l/eW756uD2fFL724/+bJ+nvvLu4v6sLQ3dO6UTy3X710e/qVZ2fP7lcAvvnO2cnSlobeP2uOFs2DZWOYdku+MS0OJ3w4K/crBuHb7y7ePFnvVebd0/WqkaKgmaG9aTEr6MG8WTWyslhbefqg+jc+dfDV53e/e3fx/fcXf/r2+aJRQKcFH+6Yl25NQPjLD1bnay2M/vRTOz+6t3rrZN2IgIhBlcETu2XJdLSwJ6tGFdPCWLFr8cHlnU79B7eUOQAAEqNJREFU83emd3aL81r2SmOY7y/q2uq8bt4/axpBVdBuaW7NzL/zucP/9MtP/OX9xY+P1s8flP/0z+7/6bvn89quGinI7FS4s1vdnPDhbvHDu4vjpVVgVppP3qx++aX9H91fkeJrn7356oPlf/dH756tbGX4xZuTlZW7pw0IX3hi+pVnd3/rlZOThT2rm8aCCbPSTAwtRRe1tRaloTt7RW2xtvL8QflLL9749t3zN47W9xZNZUgUi9pOC37xcHp/XhPw5G45K+mH91ana3FOAyLKhJ3SfOmZ2clK7p6uK8N3z9Zr8cefqiqBlQuDaQkRmhQsIpOCn9gtG9H3TuuViBVtRA3RXmUKAwY9uVf+redmD5by7sP1B4vmwbyxoi/cmOxX/L3356L65F71b79840/ePn/jeF1bNYae3S/VwhLePF6VTNMJlUS1ZVWZlGSI7p7VRPjMrenDlX2wqHdK8wvP792eFV94cue//1d335/XaiHQnYJ3K55VfLSQwx3+lZdu/JOvPlUZ+md/cfTPvv/geGkPJrxq9HQtUJ2UNCn4eC5MIEYB+vLzs7//4sEfv332/752Ol/LS7eqJ2flH75xdrySqcETe+XzB5MHi+b147WI7FXF/pQaq2e1quqs4oK5sTKr+M6svHu6rhUv3px+4mb55+/MXz9e7Va8PzHTgkVwZ1Z86dnZ8zcmL9+efOfu/HdeOfnR/SUEn7hZff6Jne/dnZ+u5OaOWTbyyoPV+cpaYKegz97Z+cpzu68drW5Oi0blvZNmLfr0XvFHb5ydrcUQ/dSTO7d3zawyR/Pm9eMVACacr2VtZa8qPndn+omDyWsPV9//YH6ylGlBz+xVv/Fzt5/eL3/ze0ffuXsuopXhsmBDeGqvaBT3z+28tj7bH+GFG9XTu1Wj+v5pDaK3T9dHi2av4k8fThYWbxwvH66stVoZ3qvYBY5/erc4r+VoaZ/aLQ9nxVvHq0Ujy0ZrK0/vVZOS756tDeHmpBLIs/vVzZl582F9vKhFcLyyjdX9Cf/Siwf/4NM3njso/8dv3vvO3fNVLdOSCOQS6r71sAbLhHm3NM/dqArCqw/XZ6tmVpgvPzd7dr9662Q9LemwKt47r2/Pip95arZs9IN5vVjL7d3ip5+c/d5rD/+/t+fLtSxFHi4aItyelS5P1axigErDd2amVrqzw5+5PT1a2N9/7WRS8CduVr/345MHC1swnpwVn7m9c7yqTxb6+Senv/byzV9+6eB0Zf/l66fzWr745M7nn9gB8F//y3e/9e68EXn+RvVgbt8/W989a/Yq/nsvHpyu5fXjZcX0wo3qVz598GfvLH7/tZOC6Zc+tf+ffPmJ145W33p3URZ496T+xuun7503K2uZ+Znd8j/8+dsP5vYP3zi5NSv/3c8fvnR7+pvfe/Du6WrVAMDRsnl2v/zk4fQ3fvb2v3rj7Lvvz2urBOxPzNGiuT9v5rWc13ZWmC8+NXt6r7y/qO+e1a8frVdWd0v+e5/a+867i7+4txDVzz2xc76Sv/hgsWp0UtAvvLD71ef2nt2v/pt/+c6DRVMU/JnDyV5lHiyau2dNYcDA8zem/+iLh//6J/d/8/tHf/TG6Y8fLK3o3sSsan24biYFH+4Uh1Pz88/uHs3tmyer5w+qlw4nX3/15HhhP3k4+f/bu5MfObK8gOPvxZ6RW2Vm7d7L27S7bZpBA8MgNDADGnHggBCCC1f+GQ5w54bEBYkjCCSW0Wia8dB0T4+nZ7q9lO1aXHvumbFHPA7hSmeVq2x3M7Yb4vuRSqqMF5nx3i/eexG/qojI379Sv9S0w0S5uvbpvjcIs8fd4Idrw3GUmZo4P2PNV0xL19rjpD1OhnGqa2K2bP3Ju81bS+5qO3jYDeNUXW7am/34v7eG++NkoWyWTM01NcfUVpr2P30+uLMzyoRYrlp/erP1oOOvdWMvycqmnK+Yf3ar9atLZSHE7Y3R33y4t96LdE2dn3HmyoapiQedIFXibNX6w3eat9eHqRKXm/Y3z1f+c230yc5YZeLAi5NMNEqGpWvbw7AbZCpLXUu/0nR+70r9u5frf/3B9j/e64/D1DHlrGuULW2pag3D9KMtz48zx9DO1K1zNStMM1OTF5vOe3Olv/+0vdEPFyvmYs3KMjEMk16QSinPzVgtxwgy1fMTR9f+/P3Zd+ZL+enl7Y3Rh5uj3XFsSHlz0V3rhnd2vO1hnCmla9I1dduQtxac25vj3WFiG/IbZ8umLlc7oVDqSqv0vav1b1+qPWgHf/uT/Y+2xn6sWiVjqWY2S8avnSkLJfa9ZNY1dkfJ/YPgftvrBKljaLOuLoU88BLH0FxTW6yaYaIWqqaja70g/mw/6PlJlKqKpb2/7LbHycNOaBryj280/+LXF9b70d99st/z07VetDUMvVg1S/qtJfdSw1lp2L+7UnMM7X47uLsfzJWN3zhXed2ZmnjuCrK3oB+kUoo4VaudwJDaxabVD9Kypflx5kXZO/OlcZTd3ffPzVhzZTN/yzjKPt/3y5aWTz0PO+HdAz9Js3rJuNJ0lmtW20sMTdYd3Yuzuwd+xdIbjjFbNvpB+qATzDj65aYjhLh7EAghFitm3dGFEF0/2RxEXS+72LTO159drauEWOuGmRIrzSP3dO4MYy/OlFI/2hytNJybC6UoVS331NsyvTj7j0eDjpfcWnRXGnbV1qdLt4fR1jC2dHm15TiGtt4LVzthyzUuNex7B0Gcqast5/kPX+0EQoi8OROf7fuWLoaRkkqYupwrG5PQrfXDvWG8XLPO1Kwng6hi6Xnbd0Zxx0suNewkU4+6Ycs1ztSsOFXm0W853R3FrqnlNf94a/xkEF2fLV2bfbr1tpcMw/Riw84rNgzTlaZTO9rMIMkyJVxTm7S65ZrWc9+lutoJMiWutpxhmLrW8Wd574zi7WG0XLUaJWPy3ihVuiYma/5028uE6vnJIErfm3ddU1vrRS3XCJOs66dxlkWpuDhj5V0or1iYqL1xbEppGPJs7ZUu137UDUuG1vGTTKnLTedhN4zS7Naiq0uZKvWoEzZdo1l6ttd6QbI9iGccY6lmHvuoewf+Wi9crtl5DPfHsa1reWz9OFNCDIK0autlS/PiLM2UqUvH0IQQ670wVeJSwxZCZEqMo3R3HG8Po6plXG4e6WZJpn667T0ZhGdqdtM1qpY+WzYmW3cM7fuPhlGafe/ajMrU+ZkT7mD+eGs8CNNLDfvCjH1nx5NSGFKu98M4VVdnS9dnnWPrJ5n6YH2cpuls2arZWsnUFirPGr7eCzVN1m19tRM0S8Zki3d2vDhT7y+6+R0X24P4s33/fMMyhGyVjWMDZ9rOMJ6rGPujZGsYzZXN+bJpG9KLs46f9PzkvQU3X213FG/2o/mKeW5qmK/3Q0PK5ZolhHjYCeNMTZozDNPJRj/d8ZMsu9R08oGTu98OpBCXGvbPdj1b11xLy+euVCkvyp6v8MdbYyHE15efXQHysBuMosyUcqFqTneYVKl/fzhwDe23LlQnC4dhevfAb5bMlabd9ZN/uduzTF3XhC7F15fLmhStsrnaDkZBpuvi6qxj69q/rfaHYXptrvTDx6N35pzvXK7d2fF0Tb57eDQVQvSCJM1EplTF0r04O3Eq2+xHu6Oo7hhJpmYcoxckV1uOrkklxA8eD3aH8bcuVJ8fOxv98KOtccXSr7YcS5dhovJZIp/2k1QkQq33AkvXLtTtmZK+VLVGUXZ7fbhUM9+dd4UQUaomI32jH8265qNu4JrahYb96a7nGNpK097sRwsV0zG0x91QCdEqGW0/UUpdaNj5rR15PHUpR1H6rw/6QpMrM3aYqo1e0CxZ316p/mLXU0I0S8ZyzVrvh+fqdr7Jtpd8vu8rIWYc492FUsdL9kbx2bqV71klRJqpn+/5UohzdatRMtZ64e4ovtpyGiUjVer7jwZ+pC40LFOTX5srtb2k6RoP2oGhyUsNexxlSabqjn5nx4tS9d5CyTG07WG0NYjnysZCxbKNpw3fHkSmriVKZZlarlmPu2HTNSqWPn1zwzjKyofXyN3eHKtM/eb5Spqpz/b9UZRJIRxDuzrruKa2NYg2+tFCxcz3xdYg+sHj4ULV/JVFN++BH2+Nd0fxH1ybEUJ0/MTW5ZN+1KqYHS/2okyX2kLVGITp3ig+W7fzoTQM08e9cM41vThLlTpXt+yjt17k03J+9tn1E0OTVVtf7QQfPRmnmag7mqXL63Pu9MCcjL4frQ0/WB9dmy39zkp1+rDyuBu6pnavHSSpWmk5k2P3aifoh+mTXnR9zrk2+6yfx6nq+EkvSNM0c0x9rmw86oaDIJ0tG8Mwcy3txnwpy9TPdj1L127Ml4QQP94YaZr4xpmKEGJ7GP1kywsTtdK0zs/YmRJ+kp3U56P1XtgP01sL7tm69dPt8UzJuDBjbw6i+fLTQ96jbngwTqI0CxPxzfPlyWFRCLE3jlslI87U/YPgSsvRNXkwjvPUZb5i5r1uoxfe6wSLrvXeYkmcbhLAg3GyPYqWq9YoSjteslg1l6rWIExrtn6/HQyC9NqsU7X1jp/0gzQ/oEystoO7B8GMo3/rQnVnGHf9ZKXpTHrmiabH7Ke7XpiodxdK+TFrrRf6cbZQMRslQwjRC9KDcbxUtcpTl3f2g3S9F3b8NEiyIEmvtJx8KhCHX/QnhAiSrOsnlq51/OTijD19urLejwwplg/3y84wftwL58rG5aYTJJljaFuDaG8cn6vb0xNdHo04VYYu7x/4O6P4xpwrpcjX8eLsw83RpYY9fXDc6EcVS2tMTdpRqtZ64ThKZxxjtmz8fM8/V7MWq9b2MFquWdMhe9gJ236yePRINNlrq51Al/LmojtZGCRZlKrP9r0oUb99sXZi2B91w/1x4hjyxnzp3kHgmtrFhh2l6s6OtzuOrzedK7NOHt66oz9/N82TQRQmanKum+/EPCz5kjxJnn7L3jhe70XzZaPuGAdefLFh61ImmfLjZ8e+e22/7aUX63bFfnoCudoJ2l6yPYpKuv6dyzVDk1uDqFEySoejYHoqE0JMTken+9XzPt/3w0TdXHTzPxJ5cbrRj2xdKiGWqlbLNXZH8T/8ortUMf7oRrPtJY96YeMwI5i4s+PtjuLzM/bzpzTi8HGGDzpBq2TOlY29cZw/9SM/t1nrhfnRXwjR8ZMfb4z2hvGFhnVzsdxyjf96Ml6umtPTRd4b//l+b60XXW061+ecM6928vk6vP2EEAAAAADwVrz2h8oAAAAAAL6aSAgBAAAAoKBICAEAAACgoEgIAQAAAKCgSAgBAAAAoKBICAEAAACgoEgIAQAAAKCgSAgBAAAAoKBICAEAAACgoEgIAQAAAKCgSAgBAAAAoKBICAEAAACgoEgIAQAAAKCgSAgBAAAAoKBICAEAAACgoEgIAQAAAKCgSAgBAAAAoKBICAEAAACgoEgIAQAAAKCgSAgBAAAAoKBICAEAAACgoEgIAQAAAKCgSAgBAAAAoKBICAEAAACgoIy3XYGikFK+7SoAAAAA/2copd52FQqBhPBNkFJ+7a8+kUIIKQ7zQjX9Uj79mbxUpxZJNbXasaLDj332crpISKFOLxJCqBOLDjeknm30CxQ93ag8XCSPFE1V+IQiIYQ6Up8jRSeE4gVFJ0bppKLDCk+34liUpqt6NGInhuIFRSdEaboVx6J0Sijy3nJKkRCvGKXpqh6L0glFL4/S6UVPt3tCVY9F6XjRCVE62nnU8QY+F6WTR8exKH2Boi8QpRP6+dHu/Vy/OjVKLywS4sQoTe+aU4teHqUvXPR06QlRmuohL5x5XiFKJxS9wsxzLEpCCDE57VBPf44sPHWFw9/Vs9enL3zu9xctPP13NQn4kYUvq+r/ri0vbdeXbcsLF76sqq+3LUJOt+uX2JZTq/0a2/LF9tHrbsvRass335YvN3ZeoS1Ha/X62vJlxo58TW05odq/nLbIv3ws8EZwySgAAAAAFBQJIQAAAAAUFAkhAAAAABQUCSEAAAAAFBQJIQAAAAAUFAkhAAAAABQUCSEAAAAAFBQJIQAAAAAUlFTT3wuJ10NK+fKVAAAAABwiT3kzjLddgaKgQwMAAACviH+ovDFcMgoAAAAABUVCCAAAAAAFRUIIAAAAAAVFQggAAAAABcVTRgEAAACgoPgP4ZsgpeRBSQAAAMCr4/z5zSAhfO2klEoppRR9GgAAAHgVnDm/MSSEAAAAAL5auK/tjSEhBAAAAICCIiEEAAAAgIIiIQQAAACAgjLedgX+/5s8ToYroQEAAAB8pfA9hAAAAABQUFwyCgAAAAAFRUIIAAAAAAVFQggAAAAABUVCCAAAAAAFRUIIAAAAAAVFQggAAAAABfU/0QxNOSUd6OMAAAAASUVORK5CYII='>"
      ],
      "text/plain": [
       "<IPython.core.display.HTML object>"
      ]
     },
     "metadata": {},
     "output_type": "display_data"
    },
    {
     "data": {
      "text/plain": [
       "'test.gldb'"
      ]
     },
     "execution_count": 51,
     "metadata": {},
     "output_type": "execute_result"
    }
   ],
   "source": [
    "## Take a look at the locations of the materials\n",
    "\n",
    "\n",
    "#Note we only use this mesh director for visualizing the directorVector (vector-on-swarm viewing not suppoted yet)\n",
    "meshDirector = uw.mesh.MeshVariable( mesh, 2 )\n",
    "projectDirector = uw.utils.MeshVariable_Projection( meshDirector, directorVector, type=1 )\n",
    "projectDirector.solve()    \n",
    "\n",
    "figMaterials = glucifer.Figure( figsize=(1200,400), boundingBox=((-2.0, -0.0, 0.0), (2.0, 1.0, 0.0)) )\n",
    "\n",
    "#Plot swarm associated with each fault\n",
    "for f in faults:\n",
    "    figMaterials.append( glucifer.objects.Points(f.swarm, colours=\"Black Black\", pointSize=2.0, colourBar=False) )\n",
    "\n",
    "\n",
    "#plot mesh director viz. guy\n",
    "figMaterials.append( glucifer.objects.VectorArrows(mesh, meshDirector, scaling=.08, \n",
    "                                               resolutionI=100, resolutionJ=20, opacity=0.25) )\n",
    "\n",
    "\n",
    "#Proximity variable - this is the colour\n",
    "figMaterials.append( glucifer.objects.Points(gSwarm, proximityVariable, \n",
    "                                             pointSize=5.0,  opacity=0.75) )\n",
    "\n",
    "\n",
    "#signedDistanceVariable - this variable goes to zero where the proximity cutoff is\n",
    "#note that it's signed...faults have a direction\n",
    "#figMaterials.append( glucifer.objects.Points(gSwarm, signedDistanceVariable, \n",
    "#                                             pointSize=2.0))\n",
    "\n",
    "#Add mesh\n",
    "#figMaterials.append( glucifer.objects.Mesh(mesh, opacity=0.1) )\n",
    "\n",
    "#figMaterials.show()\n",
    "#figMaterials.save_database('test.gldb')"
   ]
  },
  {
   "cell_type": "markdown",
   "metadata": {},
   "source": [
    "Rheology\n",
    "-----\n",
    "\n"
   ]
  },
  {
   "cell_type": "code",
   "execution_count": 52,
   "metadata": {
    "collapsed": false
   },
   "outputs": [],
   "source": [
    "##############\n",
    "#Set up any functions required by the rheology\n",
    "##############\n",
    "strainRate_2ndInvariant = fn.tensor.second_invariant( \n",
    "                            fn.tensor.symmetric( \n",
    "                            velocityField.fn_gradient ))\n",
    "\n",
    "def safe_visc(func, viscmin=ndp.eta_min, viscmax=ndp.eta_max):\n",
    "    return fn.misc.max(viscmin, fn.misc.min(viscmax, func))"
   ]
  },
  {
   "cell_type": "code",
   "execution_count": 53,
   "metadata": {
    "collapsed": true
   },
   "outputs": [],
   "source": [
    "#strainRate_2ndInvariant = fn.misc.constant(ndp.SR) #dummy fucntion to check which mechanisms are at active are reference strain rate"
   ]
  },
  {
   "cell_type": "code",
   "execution_count": 54,
   "metadata": {
    "collapsed": false
   },
   "outputs": [],
   "source": [
    "#ndp.crust_cohesion_fac"
   ]
  },
  {
   "cell_type": "code",
   "execution_count": 55,
   "metadata": {
    "collapsed": false
   },
   "outputs": [],
   "source": [
    "############\n",
    "#Rheology: create UW2 functions for all viscous mechanisms\n",
    "#############\n",
    "\n",
    "omega = fn.misc.constant(1.) #this function can hold any arbitary viscosity modifications \n",
    "\n",
    "\n",
    "##Diffusion Creep\n",
    "\n",
    "diffusion = fn.misc.min(ndp.eta_max, fn.math.exp(-1*ndp.Edf + ndp.Edf / (temperatureField + 1e-8)))\n",
    "\n",
    "\n",
    "\n",
    "##Define the Plasticity\n",
    "ys =  ndp.cm + (depthFn*ndp.fcmd)\n",
    "ysMax = 10e4*1e6*sf.stress\n",
    "ysf = fn.misc.min(ys, ysMax)\n",
    "yielding = ysf/(2.*(strainRate_2ndInvariant))\n",
    "\n",
    "##Crust rheology\n",
    "#crustys =  ndp.cohesion*ndp.crust_cohesion_fac + (depthFn*ndp.fcd*ndp.crust_fc_fac)\n",
    "crustys =  ndp.cc + (depthFn*ndp.fccd) #only weakened cohesion is discussed, not fc\n",
    "crustvisc = crustys/(2.*(strainRate_2ndInvariant)) \n",
    "\n",
    "\n",
    "##Interface rheology\n",
    "interfaceys =  ndp.ci + (depthFn*ndp.fcid) #only weakened cohesion is discussed, not fc\n",
    "interfacevisc = interfaceys/(2.*(strainRate_2ndInvariant))\n",
    "\n"
   ]
  },
  {
   "cell_type": "code",
   "execution_count": 56,
   "metadata": {
    "collapsed": false
   },
   "outputs": [],
   "source": [
    "############\n",
    "#Rheology: combine viscous mechanisms in various ways \n",
    "#harmonic: harmonic average of all mechanims\n",
    "#min: minimum effective viscosity of the mechanims\n",
    "#mixed: takes the minimum of the harmonic and the plastic effective viscosity\n",
    "#############\n",
    "\n",
    "#linear rheology \n",
    "linearviscosityFn = safe_visc(diffusion)\n",
    "\n",
    "\n",
    "\n",
    "interfaceCond = operator.and_((depthFn < ndp.CRUSTVISCUTOFF), (depthFn > ndp.MANTLETOCRUST))    \n",
    "\n",
    "\n",
    "#combined rheology    \n",
    "\n",
    "\n",
    "finalviscosityFn  = fn.branching.conditional([(depthFn < ndp.LOWMANTLEDEPTH, safe_visc(fn.misc.min(diffusion, yielding))),\n",
    "                                  (True, safe_visc(safe_visc(diffusion*ndp.low_mantle_visc_fac)))])\n",
    "\n",
    "#crust rheology    \n",
    "#finalcrustviscosityFn = safe_visc(fn.misc.min(ndp.eta_max_crust, \n",
    "#                                              crustyielding)) #cohesion weakening factor also applies to eta_0\n",
    "\n",
    "crustviscosityFn = safe_visc(fn.misc.min(linearviscosityFn, crustvisc), ndp.eta_max_crust)\n",
    "interfaceviscosityFn = safe_visc(fn.misc.min(linearviscosityFn, interfacevisc), ndp.eta_max_interface)\n",
    "\n",
    "if ndp.eta_max_crust == ndp.eta_min_crust: #If these are equal, set to constant visc. \n",
    "    crustviscosityFn = fn.misc.constant(ndp.eta_min_crust)\n",
    "    \n",
    "if ndp.eta_max_interface == ndp.eta_min_interface: #If these are equal, set to constant visc. \n",
    "    interfaceviscosityFn = fn.misc.constant(ndp.eta_min_interface)\n",
    "    \n",
    "\n",
    "\n",
    "finalcrustviscosityFn  = fn.branching.conditional([(depthFn < ndp.MANTLETOCRUST, crustviscosityFn),\n",
    "                                                     (interfaceCond, interfaceviscosityFn), #\n",
    "                                                     (True, finalviscosityFn)])"
   ]
  },
  {
   "cell_type": "markdown",
   "metadata": {},
   "source": [
    "Stokes system setup\n",
    "-----\n"
   ]
  },
  {
   "cell_type": "code",
   "execution_count": 57,
   "metadata": {
    "collapsed": true
   },
   "outputs": [],
   "source": [
    "buoyancyFn =  ndp.RA*temperatureField\n"
   ]
  },
  {
   "cell_type": "code",
   "execution_count": 58,
   "metadata": {
    "collapsed": false
   },
   "outputs": [],
   "source": [
    "densityMapFn = fn.branching.map( fn_key = materialVariable,\n",
    "                         mapping = {airIndex:ndp.StRA,\n",
    "                                    crustIndex:buoyancyFn, \n",
    "                                    mantleIndex:buoyancyFn,\n",
    "                                    harzIndex:buoyancyFn} )"
   ]
  },
  {
   "cell_type": "code",
   "execution_count": 59,
   "metadata": {
    "collapsed": true
   },
   "outputs": [],
   "source": [
    "\n",
    "# Define our vertical unit vector using a python tuple (this will be automatically converted to a function).\n",
    "gravity = ( 0.0, 1.0 )\n",
    "\n",
    "# Now create a buoyancy force vector using the density and the vertical unit vector. \n",
    "buoyancyFn = densityMapFn * gravity"
   ]
  },
  {
   "cell_type": "code",
   "execution_count": 60,
   "metadata": {
    "collapsed": true
   },
   "outputs": [],
   "source": [
    "stokesPIC = uw.systems.Stokes(velocityField=velocityField, \n",
    "                              pressureField=pressureField,\n",
    "                              conditions=[freeslipBC,],\n",
    "                              fn_viscosity=linearviscosityFn, \n",
    "                              fn_bodyforce=buoyancyFn )"
   ]
  },
  {
   "cell_type": "code",
   "execution_count": 61,
   "metadata": {
    "collapsed": true
   },
   "outputs": [],
   "source": [
    "solver = uw.systems.Solver(stokesPIC)\n",
    "if not checkpointLoad:\n",
    "    solver.solve() #A solve on the linear visocisty is unhelpful unless we're starting from scratch"
   ]
  },
  {
   "cell_type": "code",
   "execution_count": null,
   "metadata": {
    "collapsed": false
   },
   "outputs": [],
   "source": [
    "\n"
   ]
  },
  {
   "cell_type": "code",
   "execution_count": 118,
   "metadata": {
    "collapsed": false
   },
   "outputs": [],
   "source": [
    "viscosityMapFn1 = fn.branching.map( fn_key = materialVariable,\n",
    "                         mapping = {crustIndex:finalcrustviscosityFn,\n",
    "                                    mantleIndex:finalviscosityFn,\n",
    "                                    harzIndex:finalviscosityFn,\n",
    "                                    airIndex:ndp.Steta_n} )\n",
    "\n",
    "\n",
    "delta_Steata2 = ndp.Steta_n - ndp.Steta_s\n",
    "delta_eta_fault = 0.\n",
    "\n",
    "if subductionFault:  \n",
    "    if ndp.eta_min_fault == ndp.eta_min_fault:#Transverse rheology is isoviscous\n",
    "        delta_eta_fault = fn.misc.min(0.999, fn.misc.max (0.,   ndp.eta_min_crust - ndp.eta_min_fault))       \n",
    "        \n",
    "    else:\n",
    "        #Transverse viscosity is related the Mohr-Coulomb criterion\n",
    "        delta_eta_fault = fn.misc.min(0.999, fn.misc.max (0., \n",
    "        viscosityMapFn1 - ((edotn_SFn*viscosityMapFn1 + ndp.fcfd * pressureField)  + ndp.cf)/edots_SFn))\n",
    "   "
   ]
  },
  {
   "cell_type": "code",
   "execution_count": 119,
   "metadata": {
    "collapsed": false
   },
   "outputs": [
    {
     "data": {
      "text/plain": [
       "(array([ 0.]), 0.0)"
      ]
     },
     "execution_count": 119,
     "metadata": {},
     "output_type": "execute_result"
    }
   ],
   "source": [
    "np.unique(delta_eta_fault.evaluate(gSwarm)), delta_Steata2"
   ]
  },
  {
   "cell_type": "code",
   "execution_count": 78,
   "metadata": {
    "collapsed": false
   },
   "outputs": [],
   "source": [
    "# This one maps to my fault-proximity variable (which also picks only materialV)\n",
    "viscosityMapFn2    = { 0: 0.0, \n",
    "                           1: delta_eta_fault, \n",
    "                           3: delta_Steata2\n",
    "                       }\n",
    "    \n",
    "\n",
    "viscosityMapFn2  = fn.branching.map( fn_key = proximityVariable, \n",
    "                                           mapping = viscosityMapFn2)"
   ]
  },
  {
   "cell_type": "code",
   "execution_count": 79,
   "metadata": {
    "collapsed": false
   },
   "outputs": [],
   "source": [
    "#orientation = -1.*90. * math.pi / 180.0  #vertical\n",
    "#math.cos(orientation), math.sin(orientation)"
   ]
  },
  {
   "cell_type": "code",
   "execution_count": 80,
   "metadata": {
    "collapsed": false
   },
   "outputs": [],
   "source": [
    "#stickyAir"
   ]
  },
  {
   "cell_type": "code",
   "execution_count": 81,
   "metadata": {
    "collapsed": false
   },
   "outputs": [],
   "source": [
    "#Add the non-linear viscosity to the Stokes system\n",
    "stokesPIC.fn_viscosity = viscosityMapFn1\n",
    "\n",
    "if stickyAir or subductionFault:\n",
    "    stokesPIC.fn_viscosity2 = viscosityMapFn2\n",
    "    stokesPIC._fn_director   = directorVector\n"
   ]
  },
  {
   "cell_type": "code",
   "execution_count": 82,
   "metadata": {
    "collapsed": false
   },
   "outputs": [
    {
     "name": "stdout",
     "output_type": "stream",
     "text": [
      "\u001b[1;35m\n",
      " \n",
      "Pressure iterations:   3\n",
      "Velocity iterations:   1 (presolve)      \n",
      "Velocity iterations:  -1 (pressure solve)\n",
      "Velocity iterations:   1 (backsolve)     \n",
      "Velocity iterations:   1 (total solve)   \n",
      " \n",
      "SCR RHS  solve time: 3.5953e-01\n",
      "Pressure solve time: 3.3884e-02\n",
      "Velocity solve time: 4.2022e-01 (backsolve)\n",
      "Total solve time   : 8.8049e-01\n",
      " \n",
      "Velocity solution min/max: 0.0000e+00/0.0000e+00\n",
      "Pressure solution min/max: 0.0000e+00/0.0000e+00\n",
      " \n",
      "\u001b[00m\n"
     ]
    }
   ],
   "source": [
    "solver.set_inner_method(\"mumps\")\n",
    "solver.options.scr.ksp_type=\"cg\"\n",
    "solver.set_penalty(1.0e7)\n",
    "solver.options.scr.ksp_rtol = 1.0e-4\n",
    "solver.solve(nonLinearIterate=True)\n",
    "solver.print_stats()"
   ]
  },
  {
   "cell_type": "code",
   "execution_count": 83,
   "metadata": {
    "collapsed": false
   },
   "outputs": [],
   "source": [
    "#Check which particles are yielding\n",
    "#yieldingCheck.data[:] = 0\n",
    "\n",
    "#yieldconditions = [ ( finalviscosityFn < Visc , 1), \n",
    "#               ( True                                           , 0) ]\n",
    "\n",
    "# use the branching conditional function to set each particle's index\n",
    "#yieldingCheck.data[:] = fn.branching.conditional( yieldconditions ).evaluate(gSwarm)"
   ]
  },
  {
   "cell_type": "code",
   "execution_count": 84,
   "metadata": {
    "collapsed": false,
    "scrolled": true
   },
   "outputs": [],
   "source": [
    "#fig= glucifer.Figure()\n",
    "#fig.append( glucifer.objects.Points(gSwarm,yieldingCheck))\n",
    "\n",
    "#fig.append( glucifer.objects.Surface(mesh,ndflm, logScale=True))\n",
    "#fig.show()"
   ]
  },
  {
   "cell_type": "markdown",
   "metadata": {},
   "source": [
    "Advection-diffusion System setup\n",
    "-----"
   ]
  },
  {
   "cell_type": "code",
   "execution_count": 85,
   "metadata": {
    "collapsed": false
   },
   "outputs": [],
   "source": [
    "advDiff = uw.systems.AdvectionDiffusion( phiField       = temperatureField, \n",
    "                                         phiDotField    = temperatureDotField, \n",
    "                                         velocityField  = velocityField,\n",
    "                                         fn_sourceTerm    = 0.0,\n",
    "                                         fn_diffusivity = 1.0, \n",
    "                                         #conditions     = [neumannTempBC, dirichTempBC] )\n",
    "                                         conditions     = [ dirichTempBC] )\n",
    "\n",
    "passiveadvector = uw.systems.SwarmAdvector( swarm         = gSwarm, \n",
    "                                     velocityField = velocityField, \n",
    "                                     order         = 1)"
   ]
  },
  {
   "cell_type": "code",
   "execution_count": 86,
   "metadata": {
    "collapsed": true
   },
   "outputs": [],
   "source": [
    "population_control = uw.swarm.PopulationControl(gSwarm,deleteThreshold=0.2,splitThreshold=1.,maxDeletions=3,maxSplits=0, aggressive=True, particlesPerCell=ppc)"
   ]
  },
  {
   "cell_type": "markdown",
   "metadata": {},
   "source": [
    "Analysis functions / routines\n",
    "-----\n",
    "\n",
    "Most of the metrics we want to calculate are either:\n",
    "\n",
    "* extrema of some field / function\n",
    "* integral of some field / function\n",
    "* average value of some function (integral divide by area)\n",
    "\n",
    "In addition, we also want to be able to determine these metrics over some restricted part of the domain, where the restriction may either be due some value of a field, a material type, or something more arbitrary.\n",
    "\n",
    "Much of he challenge lies in defining these restriction functions in an efficient and robust way (i.e they don't break down as the model evolves)\n",
    "\n",
    "For volume integrals, and extrema, we build a hierarchy of restriction functions, each borrowing from the previous, until we have divided the domain into a number of sub regions of interest. \n",
    "\n",
    "In general, averages are found afterwards by combining the integral and the area of the relavent subregion"
   ]
  },
  {
   "cell_type": "code",
   "execution_count": null,
   "metadata": {
    "collapsed": false
   },
   "outputs": [],
   "source": []
  },
  {
   "cell_type": "code",
   "execution_count": null,
   "metadata": {
    "collapsed": false
   },
   "outputs": [],
   "source": []
  },
  {
   "cell_type": "code",
   "execution_count": 87,
   "metadata": {
    "collapsed": false
   },
   "outputs": [],
   "source": [
    "###################\n",
    "#Volume Restriction functions\n",
    "###################\n",
    "\n",
    "#Level 1. Global\n",
    "\n",
    "globRestFn = fn.misc.constant(1.)\n",
    "\n",
    "#Level 2. Rock - air:\n",
    "rockRestFn = uw.swarm.SwarmVariable(gSwarm, dataType='double', count=1)\n",
    "rockRestFn.data[:] = 0.\n",
    "rockRestFn.data[np.where(materialVariable.data[:] != airIndex)] = 1.\n",
    "rockRestFn *= globRestFn #Add next level up in heirarchy\n",
    "\n",
    "\n",
    "#Level 3. lithosphere - mantle:\n",
    "tempMM = fn.view.min_max(temperatureField)\n",
    "tempMM.evaluate(mesh)\n",
    "TMAX = tempMM.max_global()\n",
    "mantleconditions = [ (                                  temperatureField < 0.9*TMAX, 1.),\n",
    "                   (                                                   True , 0.) ]\n",
    "lithRestFn = fn.branching.conditional(mantleconditions)\n",
    "lithRestFn*=rockRestFn #Add next level up in heirarchy\n",
    "\n",
    "\n",
    "#Level 4. lower plate - upper plate:\n",
    "\n",
    "\n",
    "#This whole section simply builds a restriction Fn that separates the upper and lower plate \n",
    "#It's pretty cumbersome, and will need to advected, rebuilt\n",
    "#can YOU think of a better way?\n",
    "\n",
    "\n",
    "    \n",
    "fthickness = 20e3/dp.LS #initialize tracking swarm at ~ mid lithosphere depth\n",
    "\n",
    "if dp.sense == 'Right':\n",
    "    introPoint = ndp.lRidge + fthickness #\n",
    "else:\n",
    "    introPoint = ndp.rRidge - fthickness #\n",
    "nfault = 200\n",
    "slabCoords =np.zeros((nfault, 2))\n",
    "\n",
    "reducedRocM = ndp.roc  - fthickness\n",
    "xlimslab = reducedRocM*math.cos(math.pi*(90. - dp.theta)/180)\n",
    "slabCoords[:, 0] = np.linspace(introPoint, ndp.subzone + xlimslab, nfault) #note SZ location is hardcoded here \n",
    "for index, xval in np.ndenumerate(slabCoords[:,0]):\n",
    "    #print index, xval\n",
    "    #swarmCoords[index[0], 1] = 1. - isodepthFn.evaluate((xval, 0.)) #This bit for the plate \n",
    "    if  xval < 0.:\n",
    "        slabCoords[index[0], 1] = 1. - fthickness #This bit for the plate \n",
    "        \n",
    "    else:\n",
    "        slabCoords[index[0], 1] = (1. - (fthickness) - (reducedRocM - ( math.sqrt((reducedRocM**2 - xval**2)))))\n",
    "        \n",
    "slabCoords = slabCoords[slabCoords[:,1] > (1. - ndp.maxDepth)] #kill any deeper than cutoff\n",
    "\n",
    "slab_line  = marker2D.markerLine2D(mesh, velocityField, slabCoords[:, 0], slabCoords[:, 1], 1e9/dp.LS, 0.0, 0.0, crustIndex)\n",
    "lowerPlateRestFn = gSwarm.add_variable( dataType=\"double\", count=1 )\n",
    "lowerPlateRestFn.data[:] = 0.0\n",
    "\n",
    "update_swarm_from_line(slab_line, lowerPlateRestFn )\n",
    "lowerPlateRestFn.data[np.where(lowerPlateRestFn.data != 0.)] += fthickness #assume instances of 0. are actually where no fault on proc\n",
    "lowerPlateRestFn.data[np.where(lowerPlateRestFn.data > 0*fthickness)] = 1.\n",
    "lowerPlateRestFn.data[np.where(lowerPlateRestFn.data <= 0.*fthickness)] = 0. \n",
    "lowerPlateRestFn *= lithRestFn #Add next level up in heirarchy\n",
    "\n",
    "#Also see if we can stick the the Velocity and coords on to this swarm as well\n",
    "tipVar = uw.swarm.SwarmVariable(slab_line.swarm, dataType='double', count=4)\n",
    "tipVar.data[:,:2] = velocityField.evaluate(slab_line.swarm)\n",
    "tipVar.data[:,2:] = xFn.evaluate(slab_line.swarm)\n",
    "tipVar.data[:,3:] = yFn.evaluate(slab_line.swarm)\n",
    "\n",
    "\n",
    "#Level 5. hinge of lower plate:\n",
    "\n",
    "hingeSpatialconditions = [ (           operator.and_( (depthFn < MAXY - (150e3/dp.LS)),  (xFn > ndp.subzone - 50e3/dp.LS)), 1.),\n",
    "                   (                                                   True , 0.) ]\n",
    "\n",
    "hingeRestFn = fn.branching.conditional(hingeSpatialconditions)\n",
    "hingeRestFn*=lowerPlateRestFn #Add next level up in heirarchy\n",
    "\n",
    "\n",
    "#Level 6. crust/interface in hinge of lower plate:"
   ]
  },
  {
   "cell_type": "code",
   "execution_count": 88,
   "metadata": {
    "collapsed": true
   },
   "outputs": [],
   "source": [
    "respltconditions = [ \n",
    "                    (                                  hingeRestFn*2. > rockRestFn*1., 1.),\n",
    "                    (                                  lowerPlateRestFn*3. > hingeRestFn*2. , 3.),\n",
    "                    (                                  lithRestFn*5. > lowerPlateRestFn*3. , 4.),\n",
    "                   (                                                   True , 0.) ]\n",
    "\n",
    "respltFn = fn.branching.conditional(respltconditions )"
   ]
  },
  {
   "cell_type": "code",
   "execution_count": 89,
   "metadata": {
    "collapsed": false
   },
   "outputs": [],
   "source": [
    "fig= glucifer.Figure()\n",
    "fig.append( glucifer.objects.Points(gSwarm,respltFn))\n",
    "#fig.show()\n",
    "#fig.save_database('test_restrict.gldb')"
   ]
  },
  {
   "cell_type": "code",
   "execution_count": 90,
   "metadata": {
    "collapsed": true
   },
   "outputs": [],
   "source": [
    "###################\n",
    "#Surface Restriction functions\n",
    "###################\n",
    "\n",
    "def platenessFn(val = 0.1):\n",
    "    normgradV = fn.math.abs(velocityField.fn_gradient[0]/fn.math.sqrt(velocityField[0]*velocityField[0])) #[du*/dx]/sqrt(u*u)\n",
    "\n",
    "\n",
    "\n",
    "    srconditions = [ (                                  normgradV < val, 1.),\n",
    "                   (                                                   True , 0.) ]\n",
    "\n",
    "\n",
    "    return fn.branching.conditional(srconditions)\n",
    "\n",
    "srRestFn = platenessFn(val = 0.1)"
   ]
  },
  {
   "cell_type": "code",
   "execution_count": 91,
   "metadata": {
    "collapsed": false
   },
   "outputs": [],
   "source": [
    "###################\n",
    "#Setup any Functions to be integrated\n",
    "###################\n",
    "\n",
    "sqrtv2 = fn.math.sqrt(fn.math.dot(velocityField,velocityField))\n",
    "vx = velocityField[0]\n",
    "v2x = fn.math.dot(velocityField[0],velocityField[0])\n",
    "sqrtv2x = fn.math.sqrt(fn.math.dot(velocityField[0],velocityField[0]))\n",
    "dw = temperatureField*velocityField[1]\n",
    "sinner = fn.math.dot( strainRate_2ndInvariant, strainRate_2ndInvariant )\n",
    "vd = 2.*viscosityMapFn1*sinner\n",
    "dTdZ = temperatureField.fn_gradient[1]\n",
    "\n"
   ]
  },
  {
   "cell_type": "code",
   "execution_count": 92,
   "metadata": {
    "collapsed": false
   },
   "outputs": [],
   "source": [
    "###################\n",
    "#Create integral, max/min templates \n",
    "###################\n",
    "\n",
    "def volumeint(Fn = 1., rFn=globRestFn):\n",
    "    return uw.utils.Integral( Fn*rFn,  mesh )\n",
    "\n",
    "def surfint(Fn = 1., rFn=globRestFn, surfaceIndexSet=mesh.specialSets[\"MaxJ_VertexSet\"]):\n",
    "    return uw.utils.Integral( Fn*rFn, mesh=mesh, integrationType='Surface', surfaceIndexSet=surfaceIndexSet)\n",
    "\n",
    "def maxMin(Fn = 1.):\n",
    "    #maxMin(Fn = 1., rFn=globRestFn\n",
    "    #vuFn = fn.view.min_max(Fn*rFn) #the restriction functions don't work with the view.min_max fn yet\n",
    "    vuFn = fn.view.min_max(Fn)\n",
    "    return vuFn\n",
    "    \n",
    "   \n",
    "    "
   ]
  },
  {
   "cell_type": "code",
   "execution_count": 93,
   "metadata": {
    "collapsed": false
   },
   "outputs": [],
   "source": [
    "#Setup volume integrals on different sub regions\n",
    "\n",
    "##Whole rock domain\n",
    "\n",
    "_areaintRock = volumeint(rockRestFn)\n",
    "_tempintRock = volumeint(temperatureField, rockRestFn)\n",
    "_rmsintRock = volumeint(sqrtv2,rockRestFn)\n",
    "_dwintRock = volumeint(dw,rockRestFn)\n",
    "_vdintRock = volumeint(vd,rockRestFn)\n",
    "\n",
    "##Lith \n",
    "\n",
    "_areaintLith  = volumeint(lithRestFn)\n",
    "_tempintLith  = volumeint(temperatureField, lithRestFn)\n",
    "_rmsintLith  = volumeint(sqrtv2,lithRestFn)\n",
    "_dwintLith  = volumeint(dw,lithRestFn)\n",
    "_vdintLith  = volumeint(vd,lithRestFn)\n",
    "\n",
    "##Lower plate\n",
    "\n",
    "_areaintLower  = volumeint(lowerPlateRestFn)\n",
    "_tempintLower  = volumeint(temperatureField, lowerPlateRestFn)\n",
    "_rmsintLower  = volumeint(sqrtv2,lowerPlateRestFn)\n",
    "_dwintLower = volumeint(dw,lowerPlateRestFn)\n",
    "_vdintLower  = volumeint(vd,lowerPlateRestFn)\n",
    "\n",
    "##Hinge lower plate\n",
    "\n",
    "_areaintHinge  = volumeint(hingeRestFn)\n",
    "_vdintHinge  = volumeint(vd,hingeRestFn)"
   ]
  },
  {
   "cell_type": "code",
   "execution_count": 94,
   "metadata": {
    "collapsed": true
   },
   "outputs": [],
   "source": [
    "#Setup surface integrals\n",
    "\n",
    "_surfLength = surfint()\n",
    "_rmsSurf = surfint(v2x)\n",
    "_nuTop = surfint(dTdZ)\n",
    "_nuBottom = surfint(dTdZ, surfaceIndexSet=mesh.specialSets[\"MinJ_VertexSet\"])\n",
    "_plateness = surfint(srRestFn)"
   ]
  },
  {
   "cell_type": "code",
   "execution_count": 95,
   "metadata": {
    "collapsed": false
   },
   "outputs": [],
   "source": [
    "#Setup max min fns (at the moment, we can't pass restriction function to view.min_max, so we're limited to whole volume or surface extrema)\n",
    "\n",
    "##Whole rock domain\n",
    "\n",
    "#_maxMinVisc = maxMin(viscosityMapFn1)  #These don't work on swarm variables or mapping functions, yet\n",
    "#dummyFn = _maxMinVisc.evaluate(mesh)\n",
    "#_maxMinStressInv = maxMin(2*viscosityMapFn1*strainRate_2ndInvariant) #These don't work on swarm variables or mapping functions, yet\n",
    "#dummyFn = _maxMinStress.evaluate(mesh)\n",
    "#_maxMinVd = maxMin(vd) #These don't work on swarm variables or mapping functions, yet\n",
    "#dummyFn = _maxMinVd.evaluate(mesh)\n",
    "\n",
    "\n",
    "_maxMinVel = maxMin(velocityField) \n",
    "dummyFn = _maxMinVel.evaluate(mesh)\n",
    "\n",
    "_maxMinSr = maxMin(strainRate_2ndInvariant) \n",
    "dummyFn = _maxMinSr.evaluate(mesh)\n",
    "\n",
    "\n",
    "#Surface extrema\n",
    "_maxMinVxSurf = maxMin(vx)\n",
    "dummyFn = _maxMinVxSurf.evaluate(tWalls)\n"
   ]
  },
  {
   "cell_type": "code",
   "execution_count": 96,
   "metadata": {
    "collapsed": false
   },
   "outputs": [],
   "source": [
    "#Volume Ints\n",
    "areaintRock = _areaintRock.evaluate()[0]\n",
    "tempintRock = _tempintRock.evaluate()[0]\n",
    "rmsintRock = _rmsintRock.evaluate()[0]\n",
    "dwintRock = _dwintRock.evaluate()[0]\n",
    "vdintRock = _vdintRock.evaluate()[0]\n",
    "areaintLith = _areaintLith.evaluate()[0]\n",
    "tempintLith = _tempintLith.evaluate()[0]\n",
    "rmsintLith = _rmsintLith.evaluate()[0]\n",
    "dwintLith = _dwintLith.evaluate()[0]\n",
    "vdintLith = _vdintLith.evaluate()[0]\n",
    "areaintLower = _areaintLower.evaluate()[0]\n",
    "tempintLower = _tempintLower.evaluate()[0]\n",
    "rmsintLower = _rmsintLower.evaluate()[0]\n",
    "dwintLower = _dwintLower.evaluate()[0]\n",
    "vdintLower = _vdintLower.evaluate()[0]\n",
    "vdintHinge = _vdintHinge.evaluate()[0]\n",
    "areaintHinge = _areaintHinge.evaluate()[0]\n",
    "\n",
    "#Surface Ints\n",
    "surfLength = _surfLength.evaluate()[0]\n",
    "rmsSurf = _rmsSurf.evaluate()[0]\n",
    "nuTop = _nuTop.evaluate()[0]\n",
    "nuBottom = _nuBottom.evaluate()[0]\n",
    "plateness = _plateness.evaluate()[0]\n",
    "\n",
    "#Max mins\n",
    "maxVel = _maxMinVel.max_global()\n",
    "minVel = _maxMinVel.min_global() \n",
    "maxSr = _maxMinSr.max_global()\n",
    "minSr = _maxMinSr.min_global()\n",
    "maxVxsurf = _maxMinVxSurf.max_global()\n",
    "minVxsurf = _maxMinVxSurf.min_global()"
   ]
  },
  {
   "cell_type": "markdown",
   "metadata": {},
   "source": [
    "print(areaintRock)\n",
    "print(tempintRock)\n",
    "print(rmsintRock)\n",
    "print(dwintRock)\n",
    "print(vdintRock)\n",
    "print(areaintLith)\n",
    "print(tempintLith )\n",
    "print(rmsintLith)\n",
    "print(dwintLith)\n",
    "print(vdintLith)\n",
    "print(areaintLower)\n",
    "print(tempintLower)\n",
    "print(rmsintLower) \n",
    "print(dwintLower)\n",
    "print(vdintLower)\n",
    "print(vdintHinge)\n",
    "\n",
    "print(surfLength)\n",
    "print(rmsSurf)\n",
    "print(nuTop)\n",
    "print(nuBottom)\n",
    "print(plateness)\n",
    "\n",
    "\n",
    "print(maxVel)\n",
    "print(minVel)\n",
    "print(maxSr)\n",
    "print(minSr)\n",
    "print(maxVxsurf)\n",
    "print(minVxsurf)"
   ]
  },
  {
   "cell_type": "code",
   "execution_count": null,
   "metadata": {
    "collapsed": true
   },
   "outputs": [],
   "source": []
  },
  {
   "cell_type": "markdown",
   "metadata": {},
   "source": [
    "Viz.\n",
    "-----"
   ]
  },
  {
   "cell_type": "code",
   "execution_count": 97,
   "metadata": {
    "collapsed": false
   },
   "outputs": [],
   "source": [
    "#viscVariable = gSwarm.add_variable( dataType=\"float\", count=1 )\n",
    "#viscVariable.data[:] = viscosityMapFn1.evaluate(gSwarm)"
   ]
  },
  {
   "cell_type": "code",
   "execution_count": 100,
   "metadata": {
    "collapsed": false
   },
   "outputs": [],
   "source": [
    "if figures == 'gldb':\n",
    "    #Pack some stuff into a database as well\n",
    "    figDb = glucifer.Figure()\n",
    "    #figDb.append( glucifer.objects.Mesh(mesh))\n",
    "    figDb.append( glucifer.objects.VectorArrows(mesh,velocityField, scaling=0.0005))\n",
    "    #figDb.append( glucifer.objects.Points(gSwarm,tracerVariable, colours= 'white black'))\n",
    "    figDb.append( glucifer.objects.Points(gSwarm,materialVariable))\n",
    "    #figDb.append( glucifer.objects.Points(gSwarm,viscMinVariable))\n",
    "    #figDb.append( glucifer.objects.Points(gSwarm,fnViscMin))\n",
    "    #figDb.append( glucifer.objects.Points(gSwarm,viscosityMapFn1, logScale=True))\n",
    "    figDb.append( glucifer.objects.Points(gSwarm, strainRate_2ndInvariant))\n",
    "    figDb.append( glucifer.objects.Points(gSwarm,temperatureField))\n",
    "    \n",
    "    \n",
    "    figRestrict= glucifer.Figure()\n",
    "    figRestrict.append( glucifer.objects.Points(gSwarm,respltFn))\n",
    "    figRestrict.append( glucifer.objects.Points(slab_line.swarm, colours=\"Black Black\", pointSize=2.0, colourBar=False) )\n",
    "\n",
    "elif figures == 'store':\n",
    "    fullpath = os.path.join(outputPath + \"gldbs/\")\n",
    "    store = glucifer.Store(fullpath + 'subduction.gldb')\n",
    "\n",
    "    figTemp = glucifer.Figure(store,figsize=(300*np.round(aspectRatio,2),300))\n",
    "    figTemp.append( glucifer.objects.Points(gSwarm,temperatureField))\n",
    "\n",
    "    figVisc= glucifer.Figure(store, figsize=(300*np.round(aspectRatio,2),300))\n",
    "    figVisc.append( glucifer.objects.Points(gSwarm,viscosityMapFn1, logScale=True, valueRange =[1e-3,1e5]))\n",
    "\n",
    "    #figMech= glucifer.Figure(store, figsize=(300*np.round(aspectRatio,2),300))\n",
    "    #figMech.append( glucifer.objects.Points(gSwarm,fnViscMin))"
   ]
  },
  {
   "cell_type": "markdown",
   "metadata": {},
   "source": [
    "**Miscellania**"
   ]
  },
  {
   "cell_type": "code",
   "execution_count": 185,
   "metadata": {
    "collapsed": false
   },
   "outputs": [
    {
     "name": "stderr",
     "output_type": "stream",
     "text": [
      "/usr/local/lib/python2.7/dist-packages/numpy/core/numeric.py:190: VisibleDeprecationWarning: using a non-integer number instead of an integer will result in an error in the future\n",
      "  a = empty(shape, dtype, order)\n"
     ]
    }
   ],
   "source": [
    "##############\n",
    "#Create a numpy array at the surface to get surface information on (using parallel-friendly evaluate_global)\n",
    "##############\n",
    "\n",
    "surface_xs = np.linspace(mesh.minCoord[0], mesh.maxCoord[0], mesh.elementRes[0] + 1)\n",
    "surface_nodes = np.array(zip(surface_xs, np.ones(len(surface_xs)*mesh.maxCoord[1]))) #For evaluation surface velocity\n",
    "normgradV = velocityField.fn_gradient[0]/fn.math.sqrt(velocityField[0]*velocityField[0])\n",
    "\n",
    "tempMM = fn.view.min_max(temperatureField)\n",
    "dummy = tempMM.evaluate(mesh)\n",
    "\n"
   ]
  },
  {
   "cell_type": "code",
   "execution_count": 186,
   "metadata": {
    "collapsed": false
   },
   "outputs": [],
   "source": [
    "##############\n",
    "#These functions handle checkpointing\n",
    "##############\n",
    "\n",
    "\n",
    "#Subzone = ndp.subzone\n",
    "\n",
    "\n",
    "def checkpoint1(step, checkpointPath,filename, filewrites):\n",
    "    path = checkpointPath + str(step) \n",
    "    os.mkdir(path)\n",
    "    ##Write and save the file, if not already a writing step\n",
    "    if not step % filewrites == 0:\n",
    "        f_o.write((22*'%-15s ' + '\\n') % (areaintRock, tempintRock, rmsintRock, dwintRock, vdintRock,\n",
    "                                  areaintLith, tempintLith,rmsintLith, dwintLith, vdintLith,\n",
    "                                  areaintLower, tempintLower, rmsintLower, dwintLower, vdintLower, \n",
    "                                  vdintHinge,rmsSurf, nuTop, nuBottom, plateness, ndp.subzone, realtime))\n",
    "    filename.close()\n",
    "    shutil.copyfile(os.path.join(outputPath, outputFile), os.path.join(path, outputFile))\n",
    "\n",
    "\n",
    "def checkpoint2(step, checkpointPath, swarm, filename, varlist = [materialVariable], varnames = ['materialVariable']):\n",
    "    path = checkpointPath + str(step) \n",
    "    velfile = \"velocityField\" + \".hdf5\"\n",
    "    tempfile = \"temperatureField\" + \".hdf5\"\n",
    "    pressfile = \"pressureField\" + \".hdf5\"\n",
    "    velocityField.save(os.path.join(path, velfile))\n",
    "    temperatureField.save(os.path.join(path, tempfile))\n",
    "    pressureField.save(os.path.join(path, pressfile))\n",
    "    swarm.save(os.path.join(path, \"swarm.h5\") ) \n",
    "    for ix in range(len(varlist)):\n",
    "        varb = varlist[ix]\n",
    "        varb.save(os.path.join(path,varnames[ix] + \".h5\"))\n",
    "    \n",
    "    #Save the parameters\n",
    "    dict_list = [dp, sf, ndp] #if any of the dictionaries have changed, this list needs to be rebuilt\n",
    "    save_pickles(dict_list, dict_names, path)\n",
    "    "
   ]
  },
  {
   "cell_type": "code",
   "execution_count": 187,
   "metadata": {
    "collapsed": true
   },
   "outputs": [],
   "source": [
    "##############\n",
    "#These functions handle checkpointing\n",
    "##############\n",
    "\n",
    "def getnearpos(array,value):\n",
    "    idx = (np.abs(array-value)).argmin()\n",
    "    return idx \n",
    "\n",
    "def plate_info(srfilename, minx, maxx,  searchdx, oldszloc = 0.0):\n",
    "    \"\"\"\n",
    "    Use the surface strain rate field to find the location of the subduction zone in 2d\n",
    "    \n",
    "    \"\"\"\n",
    "    if type(srfilename) == str: #read surface strain rate points from file\n",
    "        sr = np.load(srfilename)\n",
    "    else:\n",
    "        sr =  srfilename        #read surface strain rates directly from array\n",
    "    xs = np.linspace(minx,maxx,sr.shape[0] )\n",
    "    #infs at the ends of the SR data...replace with adjacent values\n",
    "    sr[0] = sr[1] \n",
    "    sr[-1] = sr[2]\n",
    "    #Normalize\n",
    "    srx = (sr- sr.mean()) /(sr.max() - sr.min())\n",
    "    #reduce the search domain, to near the previous PB location\n",
    "    lx, rx = getnearpos(xs, oldszloc - searchdx),  getnearpos(xs, oldszloc + searchdx)\n",
    "    red_xs, red_sr = xs[lx:rx], srx[lx:rx]\n",
    "    #return the minima\n",
    "    newszLoc = red_xs[np.argmin(red_sr)]\n",
    "    return newszLoc "
   ]
  },
  {
   "cell_type": "code",
   "execution_count": 188,
   "metadata": {
    "collapsed": false
   },
   "outputs": [],
   "source": [
    "# initialise timer for computation\n",
    "start = time.clock()\n"
   ]
  },
  {
   "cell_type": "code",
   "execution_count": 118,
   "metadata": {
    "collapsed": false
   },
   "outputs": [],
   "source": [
    "#max_vx_surf(velocityField, mesh)"
   ]
  },
  {
   "cell_type": "markdown",
   "metadata": {},
   "source": [
    "Main simulation loop\n",
    "-----\n"
   ]
  },
  {
   "cell_type": "code",
   "execution_count": 190,
   "metadata": {
    "collapsed": false
   },
   "outputs": [
    {
     "ename": "KeyboardInterrupt",
     "evalue": "",
     "output_type": "error",
     "traceback": [
      "\u001b[1;31m\u001b[0m",
      "\u001b[1;31mKeyboardInterrupt\u001b[0mTraceback (most recent call last)",
      "\u001b[1;32m<ipython-input-190-f9c389f79938>\u001b[0m in \u001b[0;36m<module>\u001b[1;34m()\u001b[0m\n\u001b[0;32m    105\u001b[0m             \u001b[0mfnamedb\u001b[0m \u001b[1;33m=\u001b[0m \u001b[1;34m\"restrictFig\"\u001b[0m \u001b[1;33m+\u001b[0m \u001b[1;34m\"_\"\u001b[0m \u001b[1;33m+\u001b[0m \u001b[0mstr\u001b[0m\u001b[1;33m(\u001b[0m\u001b[0mstep\u001b[0m\u001b[1;33m)\u001b[0m \u001b[1;33m+\u001b[0m \u001b[1;34m\".gldb\"\u001b[0m\u001b[1;33m\u001b[0m\u001b[0m\n\u001b[0;32m    106\u001b[0m             \u001b[0mfullpath\u001b[0m \u001b[1;33m=\u001b[0m \u001b[0mos\u001b[0m\u001b[1;33m.\u001b[0m\u001b[0mpath\u001b[0m\u001b[1;33m.\u001b[0m\u001b[0mjoin\u001b[0m\u001b[1;33m(\u001b[0m\u001b[0moutputPath\u001b[0m \u001b[1;33m+\u001b[0m \u001b[1;34m\"gldbs/\"\u001b[0m \u001b[1;33m+\u001b[0m \u001b[0mfnamedb\u001b[0m\u001b[1;33m)\u001b[0m\u001b[1;33m\u001b[0m\u001b[0m\n\u001b[1;32m--> 107\u001b[1;33m             \u001b[0mfigRestrict\u001b[0m\u001b[1;33m.\u001b[0m\u001b[0msave_database\u001b[0m\u001b[1;33m(\u001b[0m\u001b[0mfullpath\u001b[0m\u001b[1;33m)\u001b[0m\u001b[1;33m\u001b[0m\u001b[0m\n\u001b[0m\u001b[0;32m    108\u001b[0m         \u001b[1;32melif\u001b[0m \u001b[0mfigures\u001b[0m \u001b[1;33m==\u001b[0m \u001b[1;34m'store'\u001b[0m\u001b[1;33m:\u001b[0m\u001b[1;33m\u001b[0m\u001b[0m\n\u001b[0;32m    109\u001b[0m             \u001b[0mfullpath\u001b[0m \u001b[1;33m=\u001b[0m \u001b[0mos\u001b[0m\u001b[1;33m.\u001b[0m\u001b[0mpath\u001b[0m\u001b[1;33m.\u001b[0m\u001b[0mjoin\u001b[0m\u001b[1;33m(\u001b[0m\u001b[0moutputPath\u001b[0m \u001b[1;33m+\u001b[0m \u001b[1;34m\"gldbs/\"\u001b[0m\u001b[1;33m)\u001b[0m\u001b[1;33m\u001b[0m\u001b[0m\n",
      "\u001b[1;32m/root/underworld2/glucifer/_glucifer.pyc\u001b[0m in \u001b[0;36msave_database\u001b[1;34m(self, filename, regen)\u001b[0m\n\u001b[0;32m    574\u001b[0m     \u001b[1;32mdef\u001b[0m \u001b[0msave_database\u001b[0m\u001b[1;33m(\u001b[0m\u001b[0mself\u001b[0m\u001b[1;33m,\u001b[0m \u001b[0mfilename\u001b[0m\u001b[1;33m,\u001b[0m \u001b[0mregen\u001b[0m\u001b[1;33m=\u001b[0m\u001b[0mTrue\u001b[0m\u001b[1;33m)\u001b[0m\u001b[1;33m:\u001b[0m\u001b[1;33m\u001b[0m\u001b[0m\n\u001b[0;32m    575\u001b[0m         \u001b[1;32mif\u001b[0m \u001b[0mregen\u001b[0m\u001b[1;33m:\u001b[0m\u001b[1;33m\u001b[0m\u001b[0m\n\u001b[1;32m--> 576\u001b[1;33m             \u001b[0mself\u001b[0m\u001b[1;33m.\u001b[0m\u001b[0m_generate_DB\u001b[0m\u001b[1;33m(\u001b[0m\u001b[1;33m)\u001b[0m\u001b[1;33m\u001b[0m\u001b[0m\n\u001b[0m\u001b[0;32m    577\u001b[0m         \u001b[1;32mreturn\u001b[0m \u001b[0mself\u001b[0m\u001b[1;33m.\u001b[0m\u001b[0mdb\u001b[0m\u001b[1;33m.\u001b[0m\u001b[0msave\u001b[0m\u001b[1;33m(\u001b[0m\u001b[0mfilename\u001b[0m\u001b[1;33m)\u001b[0m\u001b[1;33m\u001b[0m\u001b[0m\n\u001b[0;32m    578\u001b[0m \u001b[1;33m\u001b[0m\u001b[0m\n",
      "\u001b[1;32m/root/underworld2/glucifer/_glucifer.pyc\u001b[0m in \u001b[0;36m_generate_DB\u001b[1;34m(self)\u001b[0m\n\u001b[0;32m    609\u001b[0m         \u001b[1;32mif\u001b[0m \u001b[0mlen\u001b[0m\u001b[1;33m(\u001b[0m\u001b[0mself\u001b[0m\u001b[1;33m.\u001b[0m\u001b[0mdraw\u001b[0m\u001b[1;33m.\u001b[0m\u001b[0mvertices\u001b[0m\u001b[1;33m)\u001b[0m \u001b[1;33m>\u001b[0m \u001b[1;36m0\u001b[0m\u001b[1;33m:\u001b[0m\u001b[1;33m\u001b[0m\u001b[0m\n\u001b[0;32m    610\u001b[0m             \u001b[0mobjects\u001b[0m\u001b[1;33m.\u001b[0m\u001b[0mappend\u001b[0m\u001b[1;33m(\u001b[0m\u001b[0mself\u001b[0m\u001b[1;33m.\u001b[0m\u001b[0mdraw\u001b[0m\u001b[1;33m)\u001b[0m\u001b[1;33m\u001b[0m\u001b[0m\n\u001b[1;32m--> 611\u001b[1;33m         \u001b[0mself\u001b[0m\u001b[1;33m.\u001b[0m\u001b[0mdb\u001b[0m\u001b[1;33m.\u001b[0m\u001b[0m_generate\u001b[0m\u001b[1;33m(\u001b[0m\u001b[0mself\u001b[0m\u001b[1;33m.\u001b[0m\u001b[0mname\u001b[0m\u001b[1;33m,\u001b[0m \u001b[0mobjects\u001b[0m\u001b[1;33m,\u001b[0m \u001b[0mself\u001b[0m\u001b[1;33m)\u001b[0m\u001b[1;33m\u001b[0m\u001b[0m\n\u001b[0m\u001b[0;32m    612\u001b[0m \u001b[1;33m\u001b[0m\u001b[0m\n\u001b[0;32m    613\u001b[0m     \u001b[1;32mdef\u001b[0m \u001b[0m_generate_image\u001b[0m\u001b[1;33m(\u001b[0m\u001b[0mself\u001b[0m\u001b[1;33m,\u001b[0m \u001b[0mfilename\u001b[0m\u001b[1;33m=\u001b[0m\u001b[1;34m\"\"\u001b[0m\u001b[1;33m,\u001b[0m \u001b[0msize\u001b[0m\u001b[1;33m=\u001b[0m\u001b[1;33m(\u001b[0m\u001b[1;36m0\u001b[0m\u001b[1;33m,\u001b[0m\u001b[1;36m0\u001b[0m\u001b[1;33m)\u001b[0m\u001b[1;33m)\u001b[0m\u001b[1;33m:\u001b[0m\u001b[1;33m\u001b[0m\u001b[0m\n",
      "\u001b[1;32m/root/underworld2/glucifer/_glucifer.pyc\u001b[0m in \u001b[0;36m_generate\u001b[1;34m(self, figname, objects, props)\u001b[0m\n\u001b[0;32m    218\u001b[0m \u001b[1;33m\u001b[0m\u001b[0m\n\u001b[0;32m    219\u001b[0m             \u001b[1;31m# go ahead and fill db\u001b[0m\u001b[1;33m\u001b[0m\u001b[1;33m\u001b[0m\u001b[0m\n\u001b[1;32m--> 220\u001b[1;33m             \u001b[0mlibUnderworld\u001b[0m\u001b[1;33m.\u001b[0m\u001b[0mgLucifer\u001b[0m\u001b[1;33m.\u001b[0m\u001b[0m_lucDatabase_Execute\u001b[0m\u001b[1;33m(\u001b[0m\u001b[0mself\u001b[0m\u001b[1;33m.\u001b[0m\u001b[0m_db\u001b[0m\u001b[1;33m,\u001b[0m\u001b[0mNone\u001b[0m\u001b[1;33m)\u001b[0m\u001b[1;33m\u001b[0m\u001b[0m\n\u001b[0m\u001b[0;32m    221\u001b[0m \u001b[1;33m\u001b[0m\u001b[0m\n\u001b[0;32m    222\u001b[0m             \u001b[1;31m#Output any custom geometry on objects\u001b[0m\u001b[1;33m\u001b[0m\u001b[1;33m\u001b[0m\u001b[0m\n",
      "\u001b[1;31mKeyboardInterrupt\u001b[0m: "
     ]
    }
   ],
   "source": [
    "#while step < 6:\n",
    "while realtime < 0.001:\n",
    "\n",
    "    # solve Stokes and advection systems\n",
    "    solver.solve(nonLinearIterate=True)\n",
    "    dt = advDiff.get_max_dt()\n",
    "    if step == 0:\n",
    "        dt = 0.\n",
    "    advDiff.integrate(dt)\n",
    "    passiveadvector.integrate(dt)\n",
    "    slab_line.advection(dt)\n",
    "    for f in faults:\n",
    "        f.advection(dt)\n",
    "        \n",
    "    \n",
    " \n",
    "    \n",
    "    # Increment\n",
    "    realtime += dt\n",
    "    step += 1\n",
    "    timevals.append(realtime)\n",
    "    ################\n",
    "    #Update temperature field in the air region\n",
    "    #Do this better...\n",
    "    ################\n",
    "    if (step % sticky_air_temp == 0):\n",
    "        for index, coord in enumerate(mesh.data):\n",
    "            if coord[1] >= 1.:\n",
    "                temperatureField.data[index] = ndp.TSP\n",
    "\n",
    "    # Calculate the Metrics, only on 1 of the processors:\n",
    "    ################\n",
    "    if (step % metric_output == 0):\n",
    "        ###############\n",
    "        #Rebuild the restriction functions where necessary\n",
    "        ###############\n",
    "        lowerPlateRestFn = gSwarm.add_variable( dataType=\"double\", count=1 )\n",
    "        lowerPlateRestFn.data[:] = 0.0\n",
    "        update_swarm_from_line(slab_line, lowerPlateRestFn )\n",
    "        lowerPlateRestFn.data[np.where(lowerPlateRestFn.data >= -1.*fthickness)] = 1.\n",
    "        lowerPlateRestFn.data[np.where(lowerPlateRestFn.data < -1.*fthickness)] = 0. \n",
    "        lowerPlateRestFn *= lithRestFn #Add next level up in hierarchy\n",
    "        \n",
    "        ###############\n",
    "        #Metrics\n",
    "        ###############\n",
    "        areaintRock = _areaintRock.evaluate()[0] #trivial except when using sticky air\n",
    "        tempintRock = _tempintRock.evaluate()[0]\n",
    "        rmsintRock = _rmsintRock.evaluate()[0]\n",
    "        dwintRock = _dwintRock.evaluate()[0]\n",
    "        vdintRock = _vdintRock.evaluate()[0]\n",
    "        areaintLith = _areaintLith.evaluate()[0]\n",
    "        tempintLith = _tempintLith.evaluate()[0]\n",
    "        rmsintLith = _rmsintLith.evaluate()[0]\n",
    "        dwintLith = _dwintLith.evaluate()[0]\n",
    "        vdintLith = _vdintLith.evaluate()[0]\n",
    "        areaintLower = _areaintLower.evaluate()[0]\n",
    "        tempintLower = _tempintLower.evaluate()[0]\n",
    "        rmsintLower = _rmsintLower.evaluate()[0]\n",
    "        dwintLower = _dwintLower.evaluate()[0]\n",
    "        vdintLower = _vdintLower.evaluate()[0]\n",
    "        vdintHinge = _vdintHinge.evaluate()[0]\n",
    "        #Surface integrals\n",
    "        rmsSurf = _rmsSurf.evaluate()[0]\n",
    "        nuTop = _nuTop.evaluate()[0]\n",
    "        nuBottom = _nuBottom.evaluate()[0]\n",
    "        plateness = _plateness.evaluate()[0]\n",
    "        #extrema\n",
    "        maxVel = _maxMinVel.max_global()\n",
    "        minVel = _maxMinVel.min_global() \n",
    "        maxSr = _maxMinSr.max_global()\n",
    "        minSr = _maxMinSr.min_global()\n",
    "        maxVxsurf = _maxMinVxSurf.max_global()\n",
    "        minVxsurf = _maxMinVxSurf.min_global()\n",
    "        # output to summary text file\n",
    "        if uw.rank()==0:\n",
    "            f_o.write((22*'%-15s ' + '\\n') % (areaintRock, tempintRock, rmsintRock, dwintRock, vdintRock,\n",
    "                                  areaintLith, tempintLith,rmsintLith, dwintLith, vdintLith,\n",
    "                                  areaintLower, tempintLower, rmsintLower, dwintLower, vdintLower, \n",
    "                                  vdintHinge,rmsSurf, nuTop, nuBottom, plateness, ndp.subzone, realtime))\n",
    "    ################\n",
    "    #Also repopulate entire swarm periodically\n",
    "    ################\n",
    "    #if step % swarm_repop == 0:\n",
    "    population_control.repopulate()   \n",
    "    ################\n",
    "    #Checkpoint\n",
    "    ################\n",
    "    if step % checkpoint_every == 0:\n",
    "        if uw.rank() == 0:\n",
    "            checkpoint1(step, checkpointPath,f_o, metric_output)           \n",
    "        checkpoint2(step, checkpointPath, gSwarm, f_o, varlist = varlist, varnames = varnames)\n",
    "        f_o = open(os.path.join(outputPath, outputFile), 'a') #is this line supposed to be here?\n",
    "    ################\n",
    "    #Gldb output\n",
    "    ################ \n",
    "    if (step % gldbs_output == 0): \n",
    "        if figures == 'gldb':\n",
    "            #Remember to rebuild any necessary swarm variables\n",
    "            fnamedb = \"dbFig\" + \"_\" + str(step) + \".gldb\"\n",
    "            fullpath = os.path.join(outputPath + \"gldbs/\" + fnamedb)\n",
    "            figDb.save_database(fullpath)\n",
    "            \n",
    "            #Temp figure\n",
    "            fnamedb = \"restrictFig\" + \"_\" + str(step) + \".gldb\"\n",
    "            fullpath = os.path.join(outputPath + \"gldbs/\" + fnamedb)\n",
    "            figRestrict.save_database(fullpath)\n",
    "        elif figures == 'store':      \n",
    "            fullpath = os.path.join(outputPath + \"gldbs/\")\n",
    "            store.step = step\n",
    "            #Save figures to store\n",
    "            figVisc.save( fullpath + \"Visc\" + str(step).zfill(4))\n",
    "            #figMech.save( fullPath + \"Mech\" + str(step).zfill(4))\n",
    "            figTemp.save( fullpath + \"Temp\"    + str(step).zfill(4))\n",
    "    ################\n",
    "    #Files output\n",
    "    ################ \n",
    "    if (step % files_output == 0):\n",
    "\n",
    "        vel_surface = velocityField.evaluate_global(surface_nodes)\n",
    "        norm_surface_sr = normgradV.evaluate_global(surface_nodes)\n",
    "        if uw.rank() == 0:\n",
    "            fnametemp = \"velsurface\" + \"_\" + str(step)\n",
    "            fullpath = os.path.join(outputPath + \"files/\" + fnametemp)\n",
    "            np.save(fullpath, vel_surface)\n",
    "            fnametemp = \"norm_surface_sr\" + \"_\" + str(step)\n",
    "            fullpath = os.path.join(outputPath + \"files/\" + fnametemp)\n",
    "            np.save(fullpath, norm_surface_sr)\n",
    "            \n",
    "        #Save the slab_lineand tipswarm coords \n",
    "        fnametemp1 = \"midSwarm\" + \"_\" + str(step)\n",
    "        fullpath1 = os.path.join(outputPath + \"files/\" + fnametemp1)\n",
    "        slab_line.swarm.save(fullpath1)\n",
    "        #tipVar.data[:,:2] = velocityField.evaluate(tipSwarm)\n",
    "        #tipVar.data[:,2:] = xFn.evaluate(tipSwarm)\n",
    "        #tipVar.data[:,3:] = yFn.evaluate(tipSwarm)\n",
    "        #comm.barrier()\n",
    "        #fnametemp2 = \"tipSwarm\" + \"_\" + str(step)\n",
    "        #fullpath2 = os.path.join(outputPath + \"files/\" + fnametemp2)\n",
    "        #tipVar.save('fullpath2')\n",
    "            \n",
    "    ################\n",
    "    #Update the subduction zone / plate information\n",
    "    ################ \n",
    "    \n",
    "    comm.barrier()\n",
    "    if (step % files_output == 0):\n",
    "        \n",
    "        if uw.rank() == 0:\n",
    "            fnametemp = \"norm_surface_sr\" + \"_\" + str(step) + \".npy\"\n",
    "            fullpath = os.path.join(outputPath + \"files/\" + fnametemp)\n",
    "            ndp.subzone = plate_info(fullpath, MINX, MAXX,  800e3/dp.LS, oldszloc = ndp.subzone)\n",
    "            \n",
    "        else:\n",
    "            ndp.subzone = None\n",
    "        \n",
    "        comm.barrier()    \n",
    "        #send out the updated info for sz location\n",
    "        \n",
    "        ndp.subzone = comm.bcast(ndp.subzone, root=0)\n",
    "\n",
    "        #Has the polarity reversed?\n",
    "\n",
    "        if dp.sense == 'right':\n",
    "            tempop = operator.lt\n",
    "            szoffet *= -1\n",
    "        else:\n",
    "            tempop = operator.gt\n",
    "            \n",
    "        #Update the relevant parts of the material graph\n",
    "        #Remove and rebuild edges related to crust\n",
    "        DG.remove_edges_from([(mantleIndex,crustIndex)])\n",
    "        DG.add_edges_from([(mantleIndex,crustIndex)])\n",
    "        DG.remove_edges_from([(harzIndex,crustIndex)])\n",
    "        DG.add_edges_from([(harzIndex,crustIndex)])\n",
    "\n",
    "        #... to crust\n",
    "        DG.add_transition((mantleIndex,crustIndex), depthFn, operator.lt, 0.5)\n",
    "        DG.add_transition((mantleIndex,crustIndex), xFn, tempop , ndp.subzone) #No crust on the upper plate\n",
    "        DG.add_transition((mantleIndex,crustIndex), ageVariable, operator.gt, 0.2)\n",
    "\n",
    "        DG.add_transition((harzIndex,crustIndex), depthFn, operator.lt, ndp.MANTLETOCRUST)\n",
    "        DG.add_transition((harzIndex,crustIndex), xFn, tempop, ndp.subzone) #This one sets no crust on the upper plate\n",
    "        DG.add_transition((harzIndex,crustIndex), ageVariable, operator.gt, crustageCond)\n",
    "        \n",
    "        comm.barrier()\n",
    "                   \n",
    "    \n",
    "    ################\n",
    "    #Particle update\n",
    "    ###############    \n",
    "    #ageVariable.data[:] += dt #increment the ages (is this efficient?)\n",
    "    ageDT += dt\n",
    "    \n",
    "    if step % swarm_update == 0:\n",
    "        #Increment age stuff. \n",
    "        ageConditions = [ (depthFn < ndp.AGETRACKDEPTH, ageVariable + ageDT ),  #add ageDThere\n",
    "                  (True, 0.) ]\n",
    "        ageVariable.data[:] = fn.branching.conditional( ageConditions ).evaluate(gSwarm)        \n",
    "        ageDT = 0. #reset the age incrementer\n",
    "        \n",
    "        #Apply any materialVariable changes\n",
    "        for i in range(2): #go through twice\n",
    "            materialVariable.data[:] = fn.branching.conditional(DG.condition_list).evaluate(gSwarm)\n",
    "        \n",
    "        #Also update any information related to faults:\n",
    "        update_swarm_from_faults(faults[1:], proximityVariable, directorVector, signedDistanceVariable)\n",
    "        mask_materials(faults[1], airIndex, materialVariable, proximityVariable, directorVector, signedDistanceVariable)\n",
    "\n",
    "        update_swarm_from_faults(faults[0:-1], proximityVariable, directorVector, signedDistanceVariable)\n",
    "        mask_materials(faults[0], crustIndex, materialVariable, proximityVariable, directorVector, signedDistanceVariable)\n",
    "        \n",
    "        proximityVariable.data[gSwarm.particleCoordinates.data[:,1]  < (1. - ndp.CRUSTVISCUTOFF)] = 0.\n",
    "            \n",
    "    \n",
    "\n",
    "    \n",
    "f_o.close()\n",
    "print 'step =',step"
   ]
  },
  {
   "cell_type": "code",
   "execution_count": null,
   "metadata": {
    "collapsed": true
   },
   "outputs": [],
   "source": []
  }
 ],
 "metadata": {
  "kernelspec": {
   "display_name": "Python 2",
   "language": "python",
   "name": "python2"
  },
  "language_info": {
   "codemirror_mode": {
    "name": "ipython",
    "version": 2
   },
   "file_extension": ".py",
   "mimetype": "text/x-python",
   "name": "python",
   "nbconvert_exporter": "python",
   "pygments_lexer": "ipython2",
   "version": "2.7.9"
  },
  "widgets": {
   "state": {},
   "version": "1.1.2"
  }
 },
 "nbformat": 4,
 "nbformat_minor": 0
}
