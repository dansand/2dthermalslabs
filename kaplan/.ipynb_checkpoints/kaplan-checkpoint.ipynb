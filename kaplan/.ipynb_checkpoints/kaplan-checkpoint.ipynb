{
 "cells": [
  {
   "cell_type": "markdown",
   "metadata": {},
   "source": [
    "## Thermal subduction, linear rheology:\n",
    "\n",
    "\n",
    "The viscous rheology in this model is similar to the models described in the PhD thesis of Micheal Kaplan\n",
    "\n",
    "\n",
    "\n",
    "**Keywords:** subduction, thermally-activated creep, \n",
    "\n",
    "\n",
    "**References:**\n",
    "\n",
    "\n",
    "Kaplan, Michael. Numerical Geodynamics of Solid Planetary Deformation. Diss. University of Southern California, 2015."
   ]
  },
  {
   "cell_type": "code",
   "execution_count": 1,
   "metadata": {
    "collapsed": false
   },
   "outputs": [
    {
     "name": "stderr",
     "output_type": "stream",
     "text": [
      "/root/underworld2/unsupported/interfaces/__init__.py:9: UserWarning: \n",
      "\n",
      "The interface module is not supported.\n",
      "Questions should be addressed to louis.moresi@unimelb.edu.au \n",
      " \n",
      "  Questions should be addressed to louis.moresi@unimelb.edu.au \\n \"\"\"\n"
     ]
    }
   ],
   "source": [
    "import numpy as np\n",
    "import underworld as uw\n",
    "import math\n",
    "from underworld import function as fn\n",
    "import glucifer\n",
    "\n",
    "import os\n",
    "import sys\n",
    "import natsort\n",
    "import shutil\n",
    "from easydict import EasyDict as edict\n",
    "import operator\n",
    "import pint\n",
    "import time\n",
    "import operator\n",
    "from slippy2 import boundary_layer2d\n",
    "from slippy2 import material_graph\n",
    "from slippy2 import spmesh\n",
    "from slippy2 import phase_function\n",
    "from unsupported.interfaces import markerLine2D\n",
    "\n",
    "from mpi4py import MPI\n",
    "comm = MPI.COMM_WORLD\n",
    "rank = comm.Get_rank()"
   ]
  },
  {
   "cell_type": "markdown",
   "metadata": {},
   "source": [
    "Model name and directories\n",
    "-----"
   ]
  },
  {
   "cell_type": "code",
   "execution_count": 2,
   "metadata": {
    "collapsed": false
   },
   "outputs": [],
   "source": [
    "############\n",
    "#Model letter and number\n",
    "############\n",
    "\n",
    "\n",
    "#Model letter identifier default\n",
    "Model = \"T\"\n",
    "\n",
    "#Model number identifier default:\n",
    "ModNum = 0\n",
    "\n",
    "#Any isolated letter / integer command line args are interpreted as Model/ModelNum\n",
    "\n",
    "if len(sys.argv) == 1:\n",
    "    ModNum = ModNum \n",
    "elif sys.argv[1] == '-f': #\n",
    "    ModNum = ModNum \n",
    "else:\n",
    "    for farg in sys.argv[1:]:\n",
    "        if not '=' in farg: #then Assume it's a not a paramter argument\n",
    "            try:\n",
    "                ModNum = int(farg) #try to convert everingthing to a float, else remains string\n",
    "            except ValueError:\n",
    "                Model  = farg"
   ]
  },
  {
   "cell_type": "code",
   "execution_count": 3,
   "metadata": {
    "collapsed": false
   },
   "outputs": [],
   "source": [
    "###########\n",
    "#Standard output directory setup\n",
    "###########\n",
    "\n",
    "\n",
    "outputPath = \"results\" + \"/\" +  str(Model) + \"/\" + str(ModNum) + \"/\" \n",
    "imagePath = outputPath + 'images/'\n",
    "filePath = outputPath + 'files/'\n",
    "checkpointPath = outputPath + 'checkpoint/'\n",
    "dbPath = outputPath + 'gldbs/'\n",
    "outputFile = 'results_model' + Model + '_' + str(ModNum) + '.dat'\n",
    "\n",
    "if uw.rank()==0:\n",
    "    # make directories if they don't exist\n",
    "    if not os.path.isdir(outputPath):\n",
    "        os.makedirs(outputPath)\n",
    "    if not os.path.isdir(checkpointPath):\n",
    "        os.makedirs(checkpointPath)\n",
    "    if not os.path.isdir(imagePath):\n",
    "        os.makedirs(imagePath)\n",
    "    if not os.path.isdir(dbPath):\n",
    "        os.makedirs(dbPath)\n",
    "    if not os.path.isdir(filePath):\n",
    "        os.makedirs(filePath)\n",
    "\n",
    "        \n",
    "comm.Barrier() #Barrier here so no procs run the check in the next cell too early"
   ]
  },
  {
   "cell_type": "code",
   "execution_count": 4,
   "metadata": {
    "collapsed": false
   },
   "outputs": [
    {
     "name": "stdout",
     "output_type": "stream",
     "text": [
      "results/T/0/checkpoint/ is empty\n"
     ]
    }
   ],
   "source": [
    "###########\n",
    "#Check if starting from checkpoint\n",
    "###########\n",
    "\n",
    "checkdirs = []\n",
    "for dirpath, dirnames, files in os.walk(checkpointPath):\n",
    "    if files:\n",
    "        print dirpath, 'has files'\n",
    "        checkpointLoad = True\n",
    "        checkdirs.append(dirpath)\n",
    "    if not files:\n",
    "        print dirpath, 'is empty'\n",
    "        checkpointLoad = False"
   ]
  },
  {
   "cell_type": "code",
   "execution_count": 5,
   "metadata": {
    "collapsed": true
   },
   "outputs": [],
   "source": [
    "# setup summary output file (name above)\n",
    "if checkpointLoad:\n",
    "    checkpointLoadDir = natsort.natsort(checkdirs)[-1]\n",
    "    if uw.rank() == 0:\n",
    "        shutil.copyfile(os.path.join(checkpointLoadDir, outputFile), outputPath+outputFile)\n",
    "    comm.Barrier()\n",
    "    f_o = open(os.path.join(outputPath, outputFile), 'a')\n",
    "    prevdata = np.genfromtxt(os.path.join(outputPath, outputFile), skip_header=0, skip_footer=0)\n",
    "    if len(prevdata.shape) == 1: #this is in case there is only one line in previous file\n",
    "        realtime = prevdata[-1]\n",
    "    else:\n",
    "        realtime = prevdata[prevdata.shape[0]-1, -1]\n",
    "    step = int(checkpointLoadDir.split('/')[-1])\n",
    "    timevals = [0.]\n",
    "else:\n",
    "    f_o = open(outputPath+outputFile, 'w')\n",
    "    realtime = 0.\n",
    "    step = 0\n",
    "    timevals = [0.]"
   ]
  },
  {
   "cell_type": "markdown",
   "metadata": {},
   "source": [
    "Setup parameters\n",
    "-----\n",
    "\n",
    "Set simulation parameters for test."
   ]
  },
  {
   "cell_type": "markdown",
   "metadata": {},
   "source": [
    "**Use pint to setup any unit conversions we'll need**"
   ]
  },
  {
   "cell_type": "code",
   "execution_count": 6,
   "metadata": {
    "collapsed": false
   },
   "outputs": [
    {
     "name": "stderr",
     "output_type": "stream",
     "text": [
      "/usr/local/lib/python2.7/dist-packages/IPython/core/formatters.py:92: DeprecationWarning: DisplayFormatter._ipython_display_formatter_default is deprecated: use @default decorator instead.\n",
      "  def _ipython_display_formatter_default(self):\n",
      "/usr/local/lib/python2.7/dist-packages/IPython/core/formatters.py:98: DeprecationWarning: DisplayFormatter._formatters_default is deprecated: use @default decorator instead.\n",
      "  def _formatters_default(self):\n",
      "/usr/local/lib/python2.7/dist-packages/IPython/core/formatters.py:677: DeprecationWarning: PlainTextFormatter._deferred_printers_default is deprecated: use @default decorator instead.\n",
      "  def _deferred_printers_default(self):\n",
      "/usr/local/lib/python2.7/dist-packages/IPython/core/formatters.py:669: DeprecationWarning: PlainTextFormatter._singleton_printers_default is deprecated: use @default decorator instead.\n",
      "  def _singleton_printers_default(self):\n",
      "/usr/local/lib/python2.7/dist-packages/IPython/core/formatters.py:672: DeprecationWarning: PlainTextFormatter._type_printers_default is deprecated: use @default decorator instead.\n",
      "  def _type_printers_default(self):\n",
      "/usr/local/lib/python2.7/dist-packages/IPython/core/formatters.py:669: DeprecationWarning: PlainTextFormatter._singleton_printers_default is deprecated: use @default decorator instead.\n",
      "  def _singleton_printers_default(self):\n",
      "/usr/local/lib/python2.7/dist-packages/IPython/core/formatters.py:672: DeprecationWarning: PlainTextFormatter._type_printers_default is deprecated: use @default decorator instead.\n",
      "  def _type_printers_default(self):\n",
      "/usr/local/lib/python2.7/dist-packages/IPython/core/formatters.py:677: DeprecationWarning: PlainTextFormatter._deferred_printers_default is deprecated: use @default decorator instead.\n",
      "  def _deferred_printers_default(self):\n"
     ]
    },
    {
     "data": {
      "text/html": [
       "10000.0 meter/megayear"
      ],
      "text/latex": [
       "$10000.0 \\frac{meter}{megayear}$"
      ],
      "text/plain": [
       "<Quantity(10000.0, 'meter / megayear')>"
      ]
     },
     "execution_count": 6,
     "metadata": {},
     "output_type": "execute_result"
    }
   ],
   "source": [
    "u = pint.UnitRegistry()\n",
    "cmpery = 1.*u.cm/u.year\n",
    "mpermy = 1.*u.m/u.megayear\n",
    "year = 1.*u.year\n",
    "spery = year.to(u.sec)\n",
    "cmpery.to(mpermy)"
   ]
  },
  {
   "cell_type": "code",
   "execution_count": 7,
   "metadata": {
    "collapsed": false
   },
   "outputs": [
    {
     "name": "stdout",
     "output_type": "stream",
     "text": [
      "(0.04, 1.2675505856327397e-11)\n"
     ]
    }
   ],
   "source": [
    "box_half_width =4000e3\n",
    "age_at_trench = 100e6\n",
    "cmperyear = box_half_width / age_at_trench #m/y\n",
    "mpersec = cmperyear*(cmpery.to(u.m/u.second)).magnitude #m/sec\n",
    "print(cmperyear, mpersec )"
   ]
  },
  {
   "cell_type": "markdown",
   "metadata": {},
   "source": [
    "**Set parameter dictionaries**\n",
    "\n",
    "* Parameters are stored in dictionaries. \n",
    "* If starting from checkpoint, parameters are loaded using pickle\n",
    "* If params are passed in as flags to the script, they overwrite \n"
   ]
  },
  {
   "cell_type": "code",
   "execution_count": 8,
   "metadata": {
    "collapsed": false
   },
   "outputs": [],
   "source": [
    "###########\n",
    "#Parameter / settings dictionaries get saved&loaded using pickle\n",
    "###########\n",
    " \n",
    "dp = edict({}) #dimensional parameters\n",
    "sf = edict({}) #scaling factors\n",
    "ndp = edict({}) #dimensionless paramters\n",
    "md = edict({}) #model paramters, flags etc\n",
    "#od = edict({}) #output frequencies\n",
    "\n"
   ]
  },
  {
   "cell_type": "code",
   "execution_count": 9,
   "metadata": {
    "collapsed": false
   },
   "outputs": [],
   "source": [
    "dict_list = [dp, sf, ndp, md]\n",
    "dict_names = ['dp.pkl', 'sf.pkl', 'ndp.pkl', 'md.pkl']\n",
    "\n",
    "def save_pickles(dict_list, dict_names, dictPath):\n",
    "    import pickle\n",
    "    counter = 0\n",
    "    for pdict in dict_list:\n",
    "        myfile = os.path.join(dictPath, dict_names[counter])\n",
    "        with open(myfile, 'wb') as f:\n",
    "            pickle.dump(pdict, f)\n",
    "        counter+=1\n",
    "\n",
    "\n",
    "#ended up having to pretty much write a hard-coded function\n",
    "#All dictionaries we want checkpointed will have to  be added here \n",
    "#and where the function is called\n",
    "#Fortunately, this function is only called ONCE\n",
    "\n",
    "def load_pickles():\n",
    "    import pickle\n",
    "    dirpath = os.path.join(checkpointPath, str(step))\n",
    "    dpfile = open(os.path.join(dirpath, 'dp.pkl'), 'r')\n",
    "    dp = pickle.load(dpfile)\n",
    "#    #\n",
    "    ndpfile = open(os.path.join(dirpath, 'ndp.pkl'), 'r')\n",
    "    ndp = edict(pickle.load(ndpfile))\n",
    "    #\n",
    "    sffile = open(os.path.join(dirpath, 'sf.pkl'), 'r')\n",
    "    sf = edict(pickle.load(sffile))\n",
    "    #\n",
    "    mdfile = open(os.path.join(dirpath, 'md.pkl'), 'r')\n",
    "    md = edict(pickle.load(mdfile))\n",
    "    return dp, ndp, sf, md"
   ]
  },
  {
   "cell_type": "code",
   "execution_count": 17,
   "metadata": {
    "collapsed": false
   },
   "outputs": [],
   "source": [
    "###########\n",
    "#Store the physical parameters, scale factors and dimensionless pramters in easyDicts\n",
    "#Mainly helps with avoiding overwriting variables\n",
    "###########\n",
    "\n",
    "\n",
    "dp = edict({'LS':670*1e3, #Scaling Length scale\n",
    "            'depth':670*1e3, #Depth of domain\n",
    "            'rho':3300.,  #reference density\n",
    "            'g':9.8, #surface gravity\n",
    "            'eta0':1e20, #reference viscosity\n",
    "            'k':1e-6, #thermal diffusivity\n",
    "            'a':3e-5, #surface thermal expansivity\n",
    "            'R':8.314, #gas constant\n",
    "            'TP':1673., #mantle potential temp (K)\n",
    "            'TS':273., #surface temp (K)\n",
    "            #Rheology - flow law paramters\n",
    "            'Adf':3e-11, #pre-exp factor for diffusion creep\n",
    "            'Edf':1e5, #Total viscosity variation in the Kaplan model\n",
    "            'cm':40e6, #mantle cohesion in Byerlee law\n",
    "            'cc':40e6, #mantle cohesion in Byerlee law\n",
    "            'ci':40e6, #mantle cohesion in Byerlee law\n",
    "            'cf':40e6, #mantle cohesion in Byerlee law\n",
    "            'fcm':0.03,   #mantle friction coefficient in Byerlee law (tan(phi))\n",
    "            'fcc':0.03,   #crust friction coefficient \n",
    "            'fci':0.03,   #subduction interface friction coefficient\n",
    "            'fcf':0.03,   #subduction interface friction coefficient\n",
    "            #Rheology - cutoff values\n",
    "            'eta_min':1e17, \n",
    "            'eta_max':1e25, #viscosity max in the mantle material\n",
    "            'eta_min_crust':1e20, #viscosity min in the weak-crust material\n",
    "            'eta_max_crust':1e20, #viscosity max in the weak-crust material\n",
    "            'eta_min_interface':1e20, #viscosity min in the subduction interface material\n",
    "            'eta_max_interface':1e20, #viscosity max in the subduction interface material\n",
    "            'eta_min_fault':1e20, #viscosity min in the subduction interface material\n",
    "            'eta_max_fault':1e20, #viscosity max in the subduction interface material\n",
    "            #Length scales\n",
    "            'MANTLETOCRUST':10.*1e3, #Crust depth\n",
    "            'HARZBURGDEPTH':40e3,\n",
    "            'CRUSTTOMANTLE':800.*1e3,\n",
    "            'LITHTOMANTLE':(900.*1e3),\n",
    "            'MANTLETOLITH':200.*1e3, \n",
    "            'TOPOHEIGHT':10.*1e3,  #rock-air topography limits\n",
    "            'CRUSTTOECL':100.*1e3,\n",
    "            'LOWMANTLEDEPTH':660.*1e3, \n",
    "            'CRUSTVISCUTOFF':150.*1e3, #Deeper than this, crust material rheology reverts to mantle rheology\n",
    "            'AGETRACKDEPTH':100e3, #above this depth we track the age of the lithsphere (below age is assumed zero)\n",
    "            #Slab and plate parameters\n",
    "            'roc':250e3,     #radius of curvature of slab\n",
    "            'subzone':0.0,   #X position of subduction zone...km\n",
    "            'lRidge':-0.5*(670e3*4),  #For depth = 670 km, aspect ratio of 4, this puts the ridges at MINX, MAXX\n",
    "            'rRidge':0.5*(670e3*4),\n",
    "            'maxDepth':250e3,\n",
    "            'theta':70., #Angle to truncate the slab (can also control with a maxDepth param)\n",
    "            'slabmaxAge':60e6, #age of subduction plate at trench\n",
    "            'platemaxAge':60e6, #max age of slab (Plate model)\n",
    "            'sense':'Right', #dip direction\n",
    "            'op_age_fac':0.5, #this controls the overidding plate age reduction\n",
    "            #Misc\n",
    "            'StALS':100e3, #depth of sticky air layer\n",
    "            'Steta_n':1e19, #stick air viscosity, normal\n",
    "            'Steta_s':1e18, #stick air viscosity, shear \n",
    "            'plate_vel':4,\n",
    "            'low_mantle_visc_fac':30.\n",
    "           })\n",
    "\n",
    "#append any derived parameters to the dictionary\n",
    "dp.deltaT = dp.TP - dp.TS\n",
    "\n",
    "\n"
   ]
  },
  {
   "cell_type": "code",
   "execution_count": 18,
   "metadata": {
    "collapsed": false
   },
   "outputs": [],
   "source": [
    "#Modelling and Physics switches\n",
    "\n",
    "md = edict({'refineMesh':False,\n",
    "            'stickyAir':False,\n",
    "            'subductionFault':True,\n",
    "            'symmetricIcs':False,\n",
    "            'velBcs':False,\n",
    "            'aspectRatio':4,\n",
    "            'compBuoyancy':False, #use compositional & phase buoyancy, or simply thermal\n",
    "            'periodicBcs':False,\n",
    "            'RES':128\n",
    "            })"
   ]
  },
  {
   "cell_type": "code",
   "execution_count": 19,
   "metadata": {
    "collapsed": false
   },
   "outputs": [],
   "source": [
    "###########\n",
    "#If starting from a checkpoint load params from file\n",
    "###########\n",
    "\n",
    "if checkpointLoad:\n",
    "    dp, ndp, sf, md = load_pickles()  #remember to add any extra dictionaries\n"
   ]
  },
  {
   "cell_type": "code",
   "execution_count": 20,
   "metadata": {
    "collapsed": false
   },
   "outputs": [],
   "source": [
    "###########\n",
    "#If command line args are given, overwrite\n",
    "#Note that this assumes that params as commans line args/\n",
    "#only append to the 'dimensional' and 'model' dictionary (not the non-dimensional)\n",
    "###########    \n",
    "\n",
    "\n",
    "###########\n",
    "#If extra arguments are provided to the script\" eg:\n",
    "### >>> uw.py 2 dp.arg1=1 dp.arg2=foo dp.arg3=3.0\n",
    "###\n",
    "###This would assign ModNum = 2, all other values go into the dp dictionary, under key names provided\n",
    "###\n",
    "###Two operators are searched for, = & *=\n",
    "###\n",
    "###If =, parameter is re-assigned to givn value\n",
    "###If *=, parameter is multipled by given value\n",
    "###\n",
    "### >>> uw.py 2 dp.arg1=1 dp.arg2=foo dp.arg3*=3.0\n",
    "###########\n",
    "\n",
    "for farg in sys.argv[1:]:\n",
    "    try:\n",
    "        (dicitem,val) = farg.split(\"=\") #Split on equals operator\n",
    "        (dic,arg) = dicitem.split(\".\") #colon notation\n",
    "        if '*=' in farg:\n",
    "            (dicitem,val) = farg.split(\"*=\") #If in-place multiplication, split on '*='\n",
    "            (dic,arg) = dicitem.split(\".\")\n",
    "        \n",
    "        try:\n",
    "            val = float(val) #try to convert everything to a float, else remains string\n",
    "        except ValueError:\n",
    "            pass\n",
    "        #Update the dictionary\n",
    "        if farg.startswith('dp'):\n",
    "            if '*=' in farg:\n",
    "                dp[arg] = dp[arg]*val #multiply parameter by given factor\n",
    "            else:\n",
    "                dp[arg] = val    #or reassign parameter by given value\n",
    "        if farg.startswith('md'):\n",
    "            if '*=' in farg:\n",
    "                md[arg] = md[arg]*val #multiply parameter by given factor\n",
    "            else:\n",
    "                md[arg] = val    #or reassign parameter by given value\n",
    "                \n",
    "    except:\n",
    "        pass\n",
    "            \n",
    "\n",
    "comm.barrier()"
   ]
  },
  {
   "cell_type": "code",
   "execution_count": 21,
   "metadata": {
    "collapsed": false
   },
   "outputs": [],
   "source": [
    "#Only build these guys first time around, otherwise the read from checkpoints\n",
    "#Important because some of these params (like SZ location) may change during model evolution\n",
    "\n",
    "\n",
    "if not checkpointLoad:\n",
    "\n",
    "    \n",
    "    \n",
    "    sf = edict({'stress':dp.LS**2/(dp.k*dp.eta0),\n",
    "                'lith_grad':dp.rho*dp.g*(dp.LS)**3/(dp.eta0*dp.k) , \n",
    "                'vel':dp.LS/dp.k,\n",
    "                'SR':dp.LS**2/dp.k    \n",
    "               })\n",
    "\n",
    "    #dimensionless parameters\n",
    "\n",
    "    ndp = edict({'RA':(dp.g*dp.rho*dp.a*(dp.TP - dp.TS)*(dp.LS)**3)/(dp.k*dp.eta0),\n",
    "                 'Edf':math.log(dp.Edf),\n",
    "                 'TSP':0., \n",
    "                 'TBP':1.,\n",
    "                 'TPP':(dp.TP - dp.TS)/dp.deltaT, #dimensionless potential temp\n",
    "                 'TS':dp.TS/dp.deltaT,\n",
    "                 'TP':dp.TP/dp.deltaT,\n",
    "                 'cm':dp.cm*sf.stress,\n",
    "                 'cc':dp.cc*sf.stress,    #{dimensionless cohesion in mantle, crust, interface}\n",
    "                 'ci':dp.ci*sf.stress,\n",
    "                 'cf':dp.cf*sf.stress,\n",
    "                 'fcmd':dp.fcm*sf.lith_grad, \n",
    "                 'fccd':dp.fcc*sf.lith_grad, #{dimensionless friction coefficient in mantle, crust, interface}\n",
    "                 'fcid':dp.fci*sf.lith_grad, \n",
    "                 'fcfd':dp.fci*sf.lith_grad, \n",
    "                 #Rheology - cutoff values\n",
    "                 'eta_min':dp.eta_min/dp.eta0, \n",
    "                 'eta_max':dp.eta_max/dp.eta0, #viscosity max in the mantle material\n",
    "                 'eta_min_crust':dp.eta_min_crust/dp.eta0, #viscosity min in the weak-crust material\n",
    "                 'eta_max_crust':dp.eta_max_crust/dp.eta0, #viscosity max in the weak-crust material\n",
    "                 'eta_min_interface':dp.eta_min_interface/dp.eta0, #viscosity min in the subduction interface material\n",
    "                 'eta_max_interface':dp.eta_max_interface/dp.eta0, #viscosity max in the subduction interface material\n",
    "                 'eta_min_fault':dp.eta_min_fault/dp.eta0, #viscosity min in the subduction interface material\n",
    "                 'eta_max_fault':dp.eta_max_fault/dp.eta0, #viscosity max in the subduction interface material   \n",
    "                 #Length scales\n",
    "                 'MANTLETOCRUST':dp.MANTLETOCRUST/dp.LS, #Crust depth\n",
    "                 'HARZBURGDEPTH':dp.HARZBURGDEPTH/dp.LS,\n",
    "                 'CRUSTTOMANTLE':dp.CRUSTTOMANTLE/dp.LS,\n",
    "                 'LITHTOMANTLE':dp.LITHTOMANTLE/dp.LS,\n",
    "                 'MANTLETOLITH':dp.MANTLETOLITH/dp.LS,\n",
    "                 'TOPOHEIGHT':dp.TOPOHEIGHT/dp.LS,  #rock-air topography limits\n",
    "                 'CRUSTTOECL':dp.CRUSTTOECL/dp.LS,\n",
    "                 'LOWMANTLEDEPTH':dp.LOWMANTLEDEPTH/dp.LS, \n",
    "                 'CRUSTVISCUTOFF':dp.CRUSTVISCUTOFF/dp.LS, #Deeper than this, crust material rheology reverts to mantle rheology\n",
    "                 'AGETRACKDEPTH':dp.AGETRACKDEPTH/dp.LS,\n",
    "                 #Slab and plate parameters\n",
    "                 'roc':dp.roc/dp.LS,     #radius of curvature of slab\n",
    "                 'subzone':dp.subzone/dp.LS,   #X position of subduction zone...km\n",
    "                 'lRidge':dp.lRidge/dp.LS,  #For depth = 670 km, aspect ratio of 4, this puts the ridges at MINX, MAXX\n",
    "                 'rRidge':dp.rRidge/dp.LS,\n",
    "                 'maxDepth':dp.maxDepth/dp.LS,    \n",
    "                 #misc\n",
    "                 'Steta_n':dp.Steta_n/dp.eta0, #stick air viscosity, normal\n",
    "                 'Steta_s':dp.Steta_n/dp.eta0, #stick air viscosity, shear \n",
    "                 'StALS':dp.StALS/dp.LS,\n",
    "                 'plate_vel':sf.vel*dp.plate_vel*(cmpery.to(u.m/u.second)).magnitude,\n",
    "                 'low_mantle_visc_fac':dp.low_mantle_visc_fac\n",
    "                })\n",
    "\n",
    "\n",
    "\n",
    "    #Append any more derived paramters\n",
    "    ndp.StRA = (3300.*dp.g*(dp.LS)**3)/(dp.eta0 *dp.k) #Composisitional Rayleigh number for rock-air buoyancy force\n",
    "    dp.CVR = (0.1*(dp.k/dp.LS)*ndp.RA**(2/3.))\n",
    "    ndp.CVR = dp.CVR*sf.vel #characteristic velocity"
   ]
  },
  {
   "cell_type": "code",
   "execution_count": 22,
   "metadata": {
    "collapsed": false
   },
   "outputs": [
    {
     "data": {
      "text/plain": [
       "13.815510557964274"
      ]
     },
     "execution_count": 22,
     "metadata": {},
     "output_type": "execute_result"
    }
   ],
   "source": [
    "ndp.Edf"
   ]
  },
  {
   "cell_type": "code",
   "execution_count": 16,
   "metadata": {
    "collapsed": false
   },
   "outputs": [
    {
     "data": {
      "text/plain": [
       "(849.2588923739356, 670000000000.0, 3.168876464081849e-10)"
      ]
     },
     "execution_count": 16,
     "metadata": {},
     "output_type": "execute_result"
    }
   ],
   "source": [
    "ndp.plate_vel, sf.vel, (cmpery.to(u.m/u.second)).magnitude"
   ]
  },
  {
   "cell_type": "markdown",
   "metadata": {},
   "source": [
    "**Model setup parameters**"
   ]
  },
  {
   "cell_type": "code",
   "execution_count": 25,
   "metadata": {
    "collapsed": false
   },
   "outputs": [],
   "source": [
    "###########\n",
    "#Model setup parameters\n",
    "###########\n",
    "\n",
    "#Domain and Mesh paramters\n",
    "dim = 2          # number of spatial dimensions\n",
    "\n",
    "tot_depth = np.round(dp.depth/dp.LS, 3)\n",
    "\n",
    "#These options allow us to explore the choice of different length scalings\n",
    "\n",
    "if tot_depth == 1.: #Depth equal to length scale\n",
    "    MINY = 0.\n",
    "    MAXY = 1.\n",
    "elif tot_depth > 1.: #Depth larger than to length scale\n",
    "    MINY = 0.\n",
    "    MAXY = tot_depth\n",
    "    \n",
    "elif tot_depth < 1.: #Depth smaller to length scale\n",
    "    MINY = np.round(1. - tot_depth, 2)\n",
    "    MAXY = 1.\n",
    "    \n",
    "MINX = np.round(-1.*tot_depth*md.aspectRatio/2., 2)  #Aspect ratio is fixed, x-domain shifts according to system depth and length scale\n",
    "\n",
    "MAXX = np.round(1.*tot_depth*md.aspectRatio/2., 2)\n",
    "\n",
    "if MINX == 0.:\n",
    "    squareModel = True\n",
    "else: \n",
    "    squareModel = False\n",
    "    \n",
    "    \n",
    "\n",
    "Xres = int(md.RES*md.aspectRatio)\n",
    "#if MINY == 0.5:\n",
    "#    Xres = int(2.*RES*aspectRatio)\n",
    "    \n",
    "\n",
    "if md.stickyAir:\n",
    "    Yres = md.RES\n",
    "    MAXY = np.round(MAXY + dp.StALS/dp.LS, 2)\n",
    "    \n",
    "else:\n",
    "    Yres = md.RES\n",
    "    MAXY = np.round(MAXY, 2)\n",
    "\n",
    "periodic = [False, False]\n",
    "if md.periodicBcs:\n",
    "    periodic = [True, False]\n",
    "    \n",
    "elementType = \"Q1/dQ0\"\n",
    "#elementType =\"Q2/DPC1\"\n",
    "\n",
    "\n",
    "#System/Solver stuff\n",
    "PIC_integration=True\n",
    "ppc = 25\n",
    "\n",
    "#Metric output stuff\n",
    "figures =  'gldb' #glucifer Store won't work on all machines, if not, set to 'gldb' \n",
    "swarm_repop, swarm_update = 10, 10\n",
    "gldbs_output = 2\n",
    "checkpoint_every, files_output = 2, 100\n",
    "metric_output = 1\n",
    "sticky_air_temp = 1e6"
   ]
  },
  {
   "cell_type": "markdown",
   "metadata": {},
   "source": [
    "Create mesh and finite element variables\n",
    "------"
   ]
  },
  {
   "cell_type": "code",
   "execution_count": 26,
   "metadata": {
    "collapsed": false
   },
   "outputs": [],
   "source": [
    "mesh = uw.mesh.FeMesh_Cartesian( elementType = (elementType),\n",
    "                                 elementRes  = (Xres, Yres), \n",
    "                                 minCoord    = (MINX, MINY), \n",
    "                                 maxCoord    = (MAXX, MAXY), periodic=periodic)\n",
    "\n",
    "velocityField       = uw.mesh.MeshVariable( mesh=mesh,         nodeDofCount=2 )\n",
    "pressureField       = uw.mesh.MeshVariable( mesh=mesh.subMesh, nodeDofCount=1 )\n",
    "temperatureField    = uw.mesh.MeshVariable( mesh=mesh,         nodeDofCount=1 )\n",
    "temperatureDotField = uw.mesh.MeshVariable( mesh=mesh,         nodeDofCount=1 )"
   ]
  },
  {
   "cell_type": "code",
   "execution_count": 27,
   "metadata": {
    "collapsed": true
   },
   "outputs": [],
   "source": [
    "mesh.reset()"
   ]
  },
  {
   "cell_type": "code",
   "execution_count": 136,
   "metadata": {
    "collapsed": false
   },
   "outputs": [],
   "source": [
    "###########\n",
    "#Mesh refinement\n",
    "###########\n",
    "\n",
    "#X-Axis\n",
    "\n",
    "if md.refineMesh:\n",
    "    mesh.reset()\n",
    "    axis = 0\n",
    "    origcoords = np.linspace(mesh.minCoord[axis], mesh.maxCoord[axis], mesh.elementRes[axis] + 1)\n",
    "    edge_rest_lengths = np.diff(origcoords)\n",
    "\n",
    "    deform_lengths = edge_rest_lengths.copy()\n",
    "    min_point =  (abs(mesh.maxCoord[axis]) - abs(mesh.minCoord[axis]))/2.\n",
    "    el_reduction = 0.5001\n",
    "    dx = mesh.maxCoord[axis] - min_point\n",
    "\n",
    "    deform_lengths = deform_lengths - \\\n",
    "                                    ((1.-el_reduction) *deform_lengths[0]) + \\\n",
    "                                    abs((origcoords[1:] - min_point))*((0.5*deform_lengths[0])/dx)\n",
    "\n",
    "    #print(edge_rest_lengths.shape, deform_lengths.shape)\n",
    "\n",
    "    spmesh.deform_1d(deform_lengths, mesh,axis = 'x',norm = 'Min', constraints = [])"
   ]
  },
  {
   "cell_type": "code",
   "execution_count": 137,
   "metadata": {
    "collapsed": false
   },
   "outputs": [],
   "source": [
    "axis = 1\n",
    "orgs = np.linspace(mesh.minCoord[axis], mesh.maxCoord[axis], mesh.elementRes[axis] + 1)\n",
    "\n",
    "value_to_constrain = MAXY #nodes will remain along this line\n",
    "\n",
    "\n",
    "yconst = [(spmesh.find_closest(orgs, value_to_constrain), np.array([value_to_constrain,0]))]"
   ]
  },
  {
   "cell_type": "code",
   "execution_count": 138,
   "metadata": {
    "collapsed": false,
    "scrolled": true
   },
   "outputs": [],
   "source": [
    "###########\n",
    "#Mesh refinement\n",
    "###########\n",
    "\n",
    "if md.refineMesh:\n",
    "    #Y-Axis\n",
    "    axis = 1\n",
    "    origcoords = np.linspace(mesh.minCoord[axis], mesh.maxCoord[axis], mesh.elementRes[axis] + 1)\n",
    "    edge_rest_lengths = np.diff(origcoords)\n",
    "\n",
    "    deform_lengths = edge_rest_lengths.copy()\n",
    "    min_point =  (mesh.maxCoord[axis])\n",
    "    el_reduction = 0.5001\n",
    "    dx = mesh.maxCoord[axis]\n",
    "\n",
    "    deform_lengths = deform_lengths - \\\n",
    "                                    ((1.-el_reduction)*deform_lengths[0]) + \\\n",
    "                                    abs((origcoords[1:] - min_point))*((0.5*deform_lengths[0])/dx)\n",
    "\n",
    "    #print(edge_rest_lengths.shape, deform_lengths.shape)\n",
    "\n",
    "    spmesh.deform_1d(deform_lengths, mesh,axis = 'y',norm = 'Min', constraints = yconst)"
   ]
  },
  {
   "cell_type": "code",
   "execution_count": 139,
   "metadata": {
    "collapsed": false
   },
   "outputs": [],
   "source": [
    "#fig= glucifer.Figure()\n",
    "\n",
    "#fig.append(glucifer.objects.Mesh(mesh))\n",
    "\n",
    "#fig.show()\n",
    "#fig.save_database('test.gldb')"
   ]
  },
  {
   "cell_type": "code",
   "execution_count": 140,
   "metadata": {
    "collapsed": false
   },
   "outputs": [],
   "source": [
    "#THis is a hack for adding a sticky air domain, we refine MAXY and things like the temperature stencil work from Y = 1. \n",
    "\n",
    "if md.stickyAir:\n",
    "    MAXY = 1."
   ]
  },
  {
   "cell_type": "markdown",
   "metadata": {},
   "source": [
    "Initial conditions\n",
    "-------\n"
   ]
  },
  {
   "cell_type": "code",
   "execution_count": 141,
   "metadata": {
    "collapsed": false
   },
   "outputs": [],
   "source": [
    "coordinate = fn.input()\n",
    "depthFn = MAXY - coordinate[1] #a function providing the depth\n",
    "\n",
    "\n",
    "xFn = coordinate[0]  #a function providing the x-coordinate\n",
    "yFn = coordinate[1]\n"
   ]
  },
  {
   "cell_type": "code",
   "execution_count": 142,
   "metadata": {
    "collapsed": false
   },
   "outputs": [],
   "source": [
    "\n",
    "def age_fn(xFn, sz = 0.0, lMOR=MINX, rMOR=MAXX, opFac=1., conjugate_plate = False):\n",
    "    \"\"\"\n",
    "    Simple function to generate a discrete 1-d (i.e x-coordinate) function for the age of the thermal BC. \n",
    "    All paramters are dimensionless\n",
    "    sz: location of subduction zone\n",
    "    lMOR: location of left-hand MOR\n",
    "    rMOR: location of right-hand MOR\n",
    "    opFac: uniform reduce the age of the right hand plate by this factor\n",
    "    conjugate_plate: if True, build plates on the outer sides of the MORs, if False, age = 0. \n",
    "    \"\"\"\n",
    "    \n",
    "    if lMOR < MINX:\n",
    "        lMOR = MINX\n",
    "    if rMOR > MAXX:\n",
    "        rMOR = MAXX\n",
    "    r_grad =  1./(abs(rMOR-sz))\n",
    "    l_grad =  1./(abs(sz-lMOR))\n",
    "    if conjugate_plate:\n",
    "        ageFn = fn.branching.conditional([(operator.and_(xFn > lMOR, xFn < sz) , (xFn + abs(lMOR))/(abs(sz-lMOR))), \n",
    "                                      (operator.and_(xFn < rMOR, xFn >= sz), (1.-(xFn + abs(sz))/abs(rMOR-sz))*opFac),\n",
    "                                      (xFn > rMOR, r_grad*opFac*(xFn -abs(rMOR)) / (abs(MAXX-rMOR))),\n",
    "                                      (True, l_grad*fn.math.abs((((xFn + abs(lMOR)) / (abs(lMOR - MINX))))))\n",
    "                                         ])\n",
    "    else:    \n",
    "        \n",
    "        ageFn = fn.branching.conditional([(operator.and_(xFn > lMOR, xFn < sz) , (xFn + abs(lMOR))/(abs(sz-lMOR))), \n",
    "                                      (operator.and_(xFn < rMOR, xFn >= sz), (1.-(xFn + abs(sz))/abs(rMOR-sz))*opFac),\n",
    "\n",
    "                                      (True, 0.0)])\n",
    "    return ageFn"
   ]
  },
  {
   "cell_type": "code",
   "execution_count": 143,
   "metadata": {
    "collapsed": false
   },
   "outputs": [],
   "source": [
    "###########\n",
    "#Thermal initial condition - half-space coooling\n",
    "###########\n",
    "\n",
    "\n",
    "#  a few conversions\n",
    "ageAtTrenchSeconds = min(dp.platemaxAge*(3600*24*365), dp.slabmaxAge*(3600*24*365))\n",
    "#slab perturbation params (mostly dimensionless / model params here)\n",
    "phi = 90. - dp.theta\n",
    "Org = (ndp.subzone, MAXY-ndp.roc)\n",
    "\n",
    "#First build the top TBL\n",
    "ageFn = age_fn(xFn, sz =ndp.subzone, lMOR=ndp.lRidge,rMOR=ndp.rRidge, conjugate_plate=True, opFac = dp.op_age_fac)\n",
    "#dimensionlize the age function\n",
    "ageFn *= ageAtTrenchSeconds #seconds to year\n",
    "w0 = (2.*math.sqrt(dp.k*ageAtTrenchSeconds))/dp.LS #diffusion depth of plate at the trench\n",
    "\n",
    "tempBL = (ndp.TP - ndp.TS) *fn.math.erf((depthFn*dp.LS)/(2.*fn.math.sqrt(dp.k*ageFn))) + ndp.TSP #boundary layer function\n",
    "tempTBL =  fn.branching.conditional([(depthFn < w0, tempBL),\n",
    "                          (True, ndp.TPP)])\n",
    "\n",
    "if not md.symmetricIcs:\n",
    "    if not checkpointLoad:\n",
    "        out = uw.utils.MeshVariable_Projection( temperatureField, tempTBL) #apply function with projection\n",
    "        out.solve()\n",
    "\n"
   ]
  },
  {
   "cell_type": "code",
   "execution_count": 144,
   "metadata": {
    "collapsed": false
   },
   "outputs": [],
   "source": [
    "#Now build the perturbation part\n",
    "def inCircleFnGenerator(centre, radius):\n",
    "    coord = fn.input()\n",
    "    offsetFn = coord - centre\n",
    "    return fn.math.dot( offsetFn, offsetFn ) < radius**2\n",
    "\n",
    "\n",
    "\n",
    "#We use three circles to define our slab and crust perturbation,  \n",
    "Oc = inCircleFnGenerator(Org , ndp.roc)\n",
    "Ic = inCircleFnGenerator(Org , ndp.roc - w0)\n",
    "Cc = inCircleFnGenerator(Org , ndp.roc - (1.2*ndp.MANTLETOCRUST)) #... weak zone on 'outside' of slab\n",
    "Hc = inCircleFnGenerator(Org , ndp.roc - ndp.HARZBURGDEPTH) #... Harzburgite layer \n",
    "dx = (ndp.roc)/(np.math.tan((np.math.pi/180.)*phi))\n",
    "\n",
    "#We'll also create a triangle which will truncate the circles defining the slab...\n",
    "if dp.sense == 'Left':\n",
    "    ptx = ndp.subzone - dx\n",
    "else:\n",
    "    ptx = ndp.subzone + dx\n",
    "coords = ((0.+ ndp.subzone, MAXY), (0.+ ndp.subzone, MAXY-ndp.roc), (ptx, MAXY))\n",
    "Tri = fn.shape.Polygon(np.array(coords))\n",
    "\n",
    "#Actually apply the perturbation - could probably avoid particle walk here\n",
    "if not md.symmetricIcs:\n",
    "    if not checkpointLoad:\n",
    "        sdFn = ((ndp.roc - fn.math.sqrt((coordinate[0] - Org[0])**2. + (coordinate[1] - Org[1])**2.)))\n",
    "        slabFn = ndp.TPP*fn.math.erf((sdFn*dp.LS)/(2.*math.sqrt(dp.k*ageAtTrenchSeconds))) + ndp.TSP\n",
    "        for index, coord in enumerate(mesh.data):\n",
    "            if (\n",
    "                Oc.evaluate(tuple(coord)) and\n",
    "                Tri.evaluate(tuple(coord)) and not\n",
    "                Ic.evaluate(tuple(coord)) and\n",
    "                coord[1] > (MAXY - ndp.maxDepth)\n",
    "                ): #In the quarter-circle defining the lithosphere\n",
    "                temperatureField.data[index] = slabFn.evaluate(mesh)[index]\n"
   ]
  },
  {
   "cell_type": "code",
   "execution_count": 145,
   "metadata": {
    "collapsed": false
   },
   "outputs": [],
   "source": [
    "#sdFn = ((RocM - fn.math.sqrt((coordinate[0] - Org[0])**2. + (coordinate[1] - Org[1])**2.)))\n",
    "#slabFn = ndp.TPP*fn.math.erf((sdFn*dp.LS)/(2.*math.sqrt(dp.k*ageAtTrenchSeconds))) + ndp.TSP\n",
    "#sdFn, slabFn"
   ]
  },
  {
   "cell_type": "code",
   "execution_count": 146,
   "metadata": {
    "collapsed": false
   },
   "outputs": [],
   "source": [
    "#Make sure material in sticky air region is at the surface temperature.\n",
    "for index, coord in enumerate(mesh.data):\n",
    "            if coord[1] >= MAXY:\n",
    "                temperatureField.data[index] = ndp.TSP"
   ]
  },
  {
   "cell_type": "code",
   "execution_count": 147,
   "metadata": {
    "collapsed": false
   },
   "outputs": [],
   "source": [
    "#fn.math.erf((sdFn*dp.LS)/(2.*fn.math.sqrt(dp.k*(slabmaxAge*(3600*24*365))))) \n",
    "#CRUSTVISCUTOFF, MANTLETOCRUST*3"
   ]
  },
  {
   "cell_type": "markdown",
   "metadata": {
    "collapsed": false
   },
   "source": [
    "def matplot_field(temperatureField, dp):\n",
    "    if uw.nProcs() != 1:\n",
    "        print(\"only in Serial folks\")\n",
    "    else:\n",
    "        import matplotlib.pyplot as pyplt\n",
    "        try :\n",
    "            if(__IPYTHON__) :\n",
    "                get_ipython().magic(u'matplotlib inline')\n",
    "        except NameError :\n",
    "            pass\n",
    "        field_data = temperatureField.data.reshape(mesh.elementRes[1] + 1, mesh.elementRes[0] + 1)\n",
    "        fig, ax = pyplt.subplots(figsize=(32,2))\n",
    "        ql = dp.LS/1e3\n",
    "        pyplt.ioff()\n",
    "        cax =ax.imshow(np.flipud(field_data), cmap='coolwarm', aspect = 0.5, extent=[0,ql*aspectRatio,ql, 0])\n",
    "        fig.colorbar(cax, orientation='horizontal' )\n",
    "        #ax.set_x([0,dp.LS*aspectRatio])\n",
    "        pyplt.tight_layout()\n",
    "        \n",
    "        return fig, ax\n",
    "        \n",
    "fig, ax = matplot_field(temperatureField, dp)\n",
    "fig.savefig('test.png')       "
   ]
  },
  {
   "cell_type": "code",
   "execution_count": 148,
   "metadata": {
    "collapsed": false
   },
   "outputs": [
    {
     "data": {
      "text/plain": [
       "(0.0, 1.0)"
      ]
     },
     "execution_count": 148,
     "metadata": {},
     "output_type": "execute_result"
    }
   ],
   "source": [
    "temperatureField.data.min(), temperatureField.data.max()"
   ]
  },
  {
   "cell_type": "code",
   "execution_count": null,
   "metadata": {
    "collapsed": false
   },
   "outputs": [],
   "source": [
    "\n"
   ]
  },
  {
   "cell_type": "code",
   "execution_count": 149,
   "metadata": {
    "collapsed": false
   },
   "outputs": [],
   "source": [
    "\n",
    "#ageFn = age_fn(xFn)"
   ]
  },
  {
   "cell_type": "code",
   "execution_count": 150,
   "metadata": {
    "collapsed": false
   },
   "outputs": [],
   "source": [
    "\n",
    "#fig= glucifer.Figure(quality=3)\n",
    "\n",
    "#fig.append( glucifer.objects.Surface(mesh,temperatureField ))\n",
    "#fig.append( glucifer.objects.Mesh(mesh))\n",
    "#fig.show()\n",
    "\n",
    "##fig.save_database('test.gldb')\n",
    "#fig.save_image('test.png')\n"
   ]
  },
  {
   "cell_type": "markdown",
   "metadata": {},
   "source": [
    "Boundary conditions\n",
    "-------"
   ]
  },
  {
   "cell_type": "code",
   "execution_count": 151,
   "metadata": {
    "collapsed": false
   },
   "outputs": [
    {
     "name": "stdout",
     "output_type": "stream",
     "text": [
      "2\n"
     ]
    }
   ],
   "source": [
    "for index in mesh.specialSets[\"MinJ_VertexSet\"]:\n",
    "    temperatureField.data[index] = ndp.TBP\n",
    "for index in mesh.specialSets[\"MaxJ_VertexSet\"]:\n",
    "    temperatureField.data[index] = ndp.TSP\n",
    "    \n",
    "iWalls = mesh.specialSets[\"MinI_VertexSet\"] + mesh.specialSets[\"MaxI_VertexSet\"]\n",
    "jWalls = mesh.specialSets[\"MinJ_VertexSet\"] + mesh.specialSets[\"MaxJ_VertexSet\"]\n",
    "tWalls = mesh.specialSets[\"MaxJ_VertexSet\"]\n",
    "bWalls =mesh.specialSets[\"MinJ_VertexSet\"]\n",
    "\n",
    "VelBCs = mesh.specialSets[\"Empty\"]\n",
    "\n",
    "\n",
    "\n",
    "if md.velBcs:\n",
    "    for index in list(tWalls.data):\n",
    "\n",
    "        if (mesh.data[int(index)][0] < (ndp.subzone - 0.05*aspectRatio) and \n",
    "            mesh.data[int(index)][0] > (mesh.minCoord[0] + 0.05*aspectRatio)): #Only push with a portion of teh overiding plate\n",
    "            #print \"first\"\n",
    "            VelBCs.add(int(index))\n",
    "            #Set the plate velocities for the kinematic phase\n",
    "            velocityField.data[index] = [ndp.plate_vel, 0.]\n",
    "        \n",
    "        elif (mesh.data[int(index)][0] > (ndp.subzone + 0.05*aspectRatio) and \n",
    "            mesh.data[int(index)][0] < (mesh.maxCoord[0] - 0.05*aspectRatio)):\n",
    "            #print \"second\"\n",
    "            VelBCs.add(int(index))\n",
    "            #Set the plate velocities for the kinematic phase\n",
    "            velocityField.data[index] = [0., 0.]\n",
    "        \n",
    "\n",
    "#If periodic, we'll fix a the x-vel at a single node - at the bottom left (index 0)\n",
    "Fixed = mesh.specialSets[\"Empty\"]\n",
    "Fixed.add(int(0))        \n",
    "        \n",
    "\n",
    "if periodic[0] == False:\n",
    "    if md.velBcs:\n",
    "        print(1)\n",
    "        freeslipBC = uw.conditions.DirichletCondition( variable      = velocityField, \n",
    "                                               indexSetsPerDof = ( iWalls + VelBCs, jWalls) )\n",
    "    else:\n",
    "        print(2)\n",
    "        freeslipBC = uw.conditions.DirichletCondition( variable      = velocityField, \n",
    "                                               indexSetsPerDof = ( iWalls, jWalls) )\n",
    "\n",
    "\n",
    "\n",
    "\n",
    "\n",
    "\n",
    "if periodic[0] == True:\n",
    "    if md.velBcs:\n",
    "        print(3)\n",
    "        freeslipBC = uw.conditions.DirichletCondition( variable      = velocityField, \n",
    "                                               indexSetsPerDof = ( Fixed + VelBCs , jWalls) )\n",
    "    else:\n",
    "        print(4)\n",
    "        freeslipBC = uw.conditions.DirichletCondition( variable      = velocityField, \n",
    "                                               indexSetsPerDof = ( Fixed, jWalls) )\n",
    "        \n",
    "    \n",
    "    \n",
    "    \n",
    "# also set dirichlet for temp field\n",
    "dirichTempBC = uw.conditions.DirichletCondition(     variable=temperatureField, \n",
    "                                              indexSetsPerDof=(tWalls,) )\n",
    "dT_dy = [0.,0.]\n",
    "\n",
    "# also set dirichlet for temp field\n",
    "neumannTempBC = uw.conditions.NeumannCondition( dT_dy, variable=temperatureField, \n",
    "                                         nodeIndexSet=bWalls)\n",
    "\n"
   ]
  },
  {
   "cell_type": "code",
   "execution_count": null,
   "metadata": {
    "collapsed": false
   },
   "outputs": [],
   "source": []
  },
  {
   "cell_type": "code",
   "execution_count": 152,
   "metadata": {
    "collapsed": false
   },
   "outputs": [],
   "source": [
    "#check VelBCs are where we want them\n",
    "#test = np.zeros(len(tWalls.data))\n",
    "#VelBCs\n",
    "#tWalls.data\n",
    "#tWalls.data[VelBCs.data]\n",
    "#test[np.in1d(tWalls.data, VelBCs.data)] = 1.\n",
    "#test\n",
    "\n"
   ]
  },
  {
   "cell_type": "code",
   "execution_count": null,
   "metadata": {
    "collapsed": false
   },
   "outputs": [],
   "source": []
  },
  {
   "cell_type": "markdown",
   "metadata": {},
   "source": [
    "Swarm setup\n",
    "-----\n"
   ]
  },
  {
   "cell_type": "code",
   "execution_count": 153,
   "metadata": {
    "collapsed": false
   },
   "outputs": [],
   "source": [
    "###########\n",
    "#Material Swarm and variables\n",
    "###########\n",
    "\n",
    "#create material swarm\n",
    "gSwarm = uw.swarm.Swarm(mesh=mesh, particleEscape=True)\n",
    "\n",
    "#create swarm variables\n",
    "yieldingCheck = gSwarm.add_variable( dataType=\"int\", count=1 )\n",
    "#tracerVariable = gSwarm.add_variable( dataType=\"int\", count=1)\n",
    "materialVariable = gSwarm.add_variable( dataType=\"int\", count=1 )\n",
    "ageVariable = gSwarm.add_variable( dataType=\"double\", count=1 )\n",
    "#testVariable = gSwarm.add_variable( dataType=\"float\", count=1 )\n",
    "\n",
    "\n",
    "#these lists  are part of the checkpointing implementation\n",
    "varlist = [materialVariable, yieldingCheck, ageVariable]\n",
    "varnames = ['materialVariable', 'yieldingCheck', 'ageVariable']"
   ]
  },
  {
   "cell_type": "code",
   "execution_count": 154,
   "metadata": {
    "collapsed": false
   },
   "outputs": [],
   "source": [
    "mantleIndex = 0\n",
    "crustIndex = 1\n",
    "harzIndex = 2\n",
    "airIndex = 3\n",
    "\n",
    "\n",
    "\n",
    "if checkpointLoad:\n",
    "    temperatureField.load(os.path.join(checkpointLoadDir, \"temperatureField\" + \".hdf5\"))\n",
    "    pressureField.load(os.path.join(checkpointLoadDir, \"pressureField\" + \".hdf5\"))\n",
    "    velocityField.load(os.path.join(checkpointLoadDir, \"velocityField\" + \".hdf5\"))\n",
    "    gSwarm.load(os.path.join(checkpointLoadDir, \"swarm\" + \".h5\"))\n",
    "    for ix in range(len(varlist)):\n",
    "        varb = varlist[ix]\n",
    "        varb.load(os.path.join(checkpointLoadDir,varnames[ix] + \".h5\"))\n",
    "\n",
    "else:\n",
    "\n",
    "    # Layouts are used to populate the swarm across the whole domain\n",
    "    layout = uw.swarm.layouts.PerCellRandomLayout(swarm=gSwarm, particlesPerCell=ppc)\n",
    "    gSwarm.populate_using_layout( layout=layout ) # Now use it to populate.\n",
    "    # Swarm variables\n",
    "    materialVariable.data[:] = mantleIndex\n",
    "    #tracerVariable.data[:] = 1\n",
    "    yieldingCheck.data[:] = 0\n",
    "    ageVariable.data[:] = -1\n",
    "\n",
    "    #Set initial air and crust materials (allow the graph to take care of lithsophere)\n",
    "    #########\n",
    "    #This initial material setup will be model dependent\n",
    "    #########\n",
    "    for particleID in range(gSwarm.particleCoordinates.data.shape[0]):\n",
    "        if (1. - gSwarm.particleCoordinates.data[particleID][1]) < ndp.MANTLETOCRUST:\n",
    "                 materialVariable.data[particleID] = crustIndex"
   ]
  },
  {
   "cell_type": "markdown",
   "metadata": {
    "collapsed": false
   },
   "source": [
    "###########\n",
    "#This block sets up a checkboard layout of passive tracers\n",
    "###########\n",
    "\n",
    "square_size = 0.1\n",
    "xlist = np.arange(mesh.minCoord[0] + square_size/2., mesh.maxCoord[0] + square_size/2., square_size)\n",
    "xlist = zip(xlist[:], xlist[1:])[::2]\n",
    "ylist = np.arange(mesh.minCoord[1] + square_size/2., mesh.maxCoord[1] + square_size/2., square_size)\n",
    "ylist = zip(ylist[:], ylist[1:])[::2]\n",
    "xops = []\n",
    "for vals in xlist:\n",
    "    xops.append( (operator.and_(   operator.gt(coordinate[0],vals[0]),   operator.lt(coordinate[0],vals[1])  ),0.) )\n",
    "xops.append((True,1.))\n",
    "\n",
    "testfunc = fn.branching.conditional(xops) \n",
    "\n",
    "yops = []\n",
    "for vals in ylist:\n",
    "    yops.append( (operator.and_(   operator.gt(coordinate[1],vals[0]),   operator.lt(coordinate[1],vals[1])  ),0.) )\n",
    "yops.append((True,testfunc))\n",
    "\n",
    "testfunc2 = fn.branching.conditional(yops) \n",
    "tracerVariable.data[:] = testfunc.evaluate(gSwarm)\n",
    "tracerVariable.data[:] = testfunc2.evaluate(gSwarm)"
   ]
  },
  {
   "cell_type": "code",
   "execution_count": null,
   "metadata": {
    "collapsed": false
   },
   "outputs": [],
   "source": []
  },
  {
   "cell_type": "code",
   "execution_count": 155,
   "metadata": {
    "collapsed": false
   },
   "outputs": [],
   "source": [
    "##############\n",
    "#Set the initial particle age for particles above the critical depth; \n",
    "#only material older than crustageCond will be transformed to crust / harzburgite\n",
    "##############\n",
    "\n",
    "ageVariable.data[:] = 0. #start with all zero\n",
    "ageVariable.data[:] = ageFn.evaluate(gSwarm)/sf.SR\n",
    "crustageCond = 2e6*(3600.*365.*24.)/sf.SR #set inital age above critical depth. (x...Ma)\n",
    "\n",
    "\n",
    "\n",
    "ageConditions = [ (depthFn < ndp.AGETRACKDEPTH, ageVariable),  #In the main loop we add ageVariable + dt here\n",
    "                  (True, 0.) ]\n",
    "                 \n",
    "#apply conditional \n",
    "ageVariable.data[:] = fn.branching.conditional( ageConditions ).evaluate(gSwarm)\n",
    "\n",
    "ageDT = 0.#this is used in the main loop for short term time increments"
   ]
  },
  {
   "cell_type": "code",
   "execution_count": 156,
   "metadata": {
    "collapsed": false
   },
   "outputs": [],
   "source": [
    "#fig= glucifer.Figure()\n",
    "#fig.append( glucifer.objects.Points(gSwarm,ageVariable))\n",
    "#fig.append( glucifer.objects.Points(gSwarm, viscosityMapFn, logScale=True, valueRange =[1e-3,1e5]))\n",
    "\n",
    "\n",
    "#fig.show()"
   ]
  },
  {
   "cell_type": "code",
   "execution_count": 157,
   "metadata": {
    "collapsed": false
   },
   "outputs": [],
   "source": [
    "##############\n",
    "#Here we set up a directed graph object that we we use to control the transformation from one material type to another\n",
    "##############\n",
    "\n",
    "#All depth conditions are given as (km/D) where D is the length scale,\n",
    "#note that 'model depths' are used, e.g. 1-z, where z is the vertical Underworld coordinate\n",
    "#All temp conditions are in dimensionless temp. [0. - 1.]\n",
    "\n",
    "#Need a list of all material indexes (safer in parallel)\n",
    "material_list = [0,1,2,3]\n",
    "\n",
    "if not checkpointLoad:\n",
    "    materialVariable.data[:] = 0 #Initialize to zero \n",
    "\n",
    "#Setup the graph object\n",
    "DG = material_graph.MatGraph()\n",
    "\n",
    "#Important: First thing to do is to add all the material types to the graph (i.e add nodes)\n",
    "DG.add_nodes_from(material_list)\n",
    "\n",
    "#Now set the conditions for transformations\n",
    "\n",
    "hs = 2e3/dp.LS  #add some hysteresis to the depths of transition\n",
    "\n",
    "#... to mantle\n",
    "DG.add_transition((crustIndex,mantleIndex), depthFn, operator.gt, ndp.CRUSTTOMANTLE + hs)\n",
    "DG.add_transition((harzIndex,mantleIndex), depthFn, operator.gt, ndp.CRUSTTOMANTLE + hs)\n",
    "DG.add_transition((airIndex,mantleIndex), depthFn, operator.gt, ndp.TOPOHEIGHT + hs)\n",
    "\n",
    "#... to crust\n",
    "DG.add_transition((mantleIndex,crustIndex), depthFn, operator.lt, ndp.MANTLETOCRUST)\n",
    "DG.add_transition((mantleIndex,crustIndex), xFn, operator.lt, ndp.subzone + 4.*ndp.MANTLETOCRUST) #No crust on the upper plate\n",
    "DG.add_transition((mantleIndex,crustIndex), ageVariable, operator.gt, crustageCond)\n",
    "\n",
    "\n",
    "DG.add_transition((harzIndex,crustIndex), depthFn, operator.lt, ndp.MANTLETOCRUST)\n",
    "DG.add_transition((harzIndex,crustIndex), xFn, operator.lt, ndp.subzone + 4.*ndp.MANTLETOCRUST) #This one sets no crust on the upper plate\n",
    "DG.add_transition((harzIndex,crustIndex), ageVariable, operator.gt, crustageCond)\n",
    "\n",
    "#... to Harzbugite\n",
    "DG.add_transition((mantleIndex,harzIndex), depthFn, operator.lt, ndp.HARZBURGDEPTH)\n",
    "DG.add_transition((mantleIndex,harzIndex), depthFn, operator.gt, ndp.MANTLETOCRUST)\n",
    "DG.add_transition((mantleIndex,harzIndex), ageVariable, operator.gt, crustageCond) #Note we can mix functions and swarm variabls\n",
    "\n",
    "\n",
    "\n",
    "#... to air\n",
    "DG.add_transition((mantleIndex,airIndex), depthFn, operator.lt,0.)\n",
    "DG.add_transition((crustIndex,airIndex), depthFn, operator.lt, 0. )\n",
    "DG.add_transition((harzIndex,airIndex), depthFn, operator.lt, 0. )\n"
   ]
  },
  {
   "cell_type": "code",
   "execution_count": 158,
   "metadata": {
    "collapsed": false
   },
   "outputs": [],
   "source": [
    "#CRUSTTOMANTLE, HARZBURGDEPTH, 0. + 7.*MANTLETOCRUST"
   ]
  },
  {
   "cell_type": "code",
   "execution_count": 159,
   "metadata": {
    "collapsed": false
   },
   "outputs": [],
   "source": [
    "#gSwarm.particleCoordinates.data[particleID][1]"
   ]
  },
  {
   "cell_type": "code",
   "execution_count": 160,
   "metadata": {
    "collapsed": false
   },
   "outputs": [],
   "source": [
    "##############\n",
    "#For the slab_IC, we'll also add a crustal weak zone following the dipping perturbation\n",
    "##############\n",
    "\n",
    "if checkpointLoad != True:\n",
    "    if not md.symmetricIcs:\n",
    "        for particleID in range(gSwarm.particleCoordinates.data.shape[0]):\n",
    "            if gSwarm.particleCoordinates.data[particleID][1] < 0.:\n",
    "                materialVariable.data[particleID] = airIndex\n",
    "                \n",
    "            elif (\n",
    "                Oc.evaluate(list(gSwarm.particleCoordinates.data[particleID])) and\n",
    "                Tri.evaluate(list(gSwarm.particleCoordinates.data[particleID])) and\n",
    "                gSwarm.particleCoordinates.data[particleID][1] > (MAXY - ndp.maxDepth) and\n",
    "                Cc.evaluate(list(gSwarm.particleCoordinates.data[particleID])) == False\n",
    "                \n",
    "                ):\n",
    "                materialVariable.data[particleID] = crustIndex\n",
    "                \n",
    "            elif (\n",
    "                Oc.evaluate(list(gSwarm.particleCoordinates.data[particleID])) and\n",
    "                Tri.evaluate(list(gSwarm.particleCoordinates.data[particleID])) and\n",
    "                gSwarm.particleCoordinates.data[particleID][1] > (MAXY - ndp.maxDepth) and\n",
    "                Hc.evaluate(list(gSwarm.particleCoordinates.data[particleID])) == False\n",
    "                \n",
    "                ):\n",
    "                materialVariable.data[particleID] = harzIndex"
   ]
  },
  {
   "cell_type": "code",
   "execution_count": 161,
   "metadata": {
    "collapsed": false
   },
   "outputs": [],
   "source": [
    "##############\n",
    "#This is how we use the material graph object to test / apply material transformations\n",
    "##############\n",
    "DG.build_condition_list(materialVariable)\n",
    "\n",
    "for i in range(2): #Need to go through a number of times\n",
    "    materialVariable.data[:] = fn.branching.conditional(DG.condition_list).evaluate(gSwarm)"
   ]
  },
  {
   "cell_type": "code",
   "execution_count": 162,
   "metadata": {
    "collapsed": false
   },
   "outputs": [],
   "source": [
    "#maxDepth"
   ]
  },
  {
   "cell_type": "code",
   "execution_count": 163,
   "metadata": {
    "collapsed": false
   },
   "outputs": [],
   "source": [
    "#fig2= glucifer.Figure()\n",
    "#fig2.append( glucifer.objects.Points(gSwarm,materialVariable))\n",
    "#fig2.append( glucifer.objects.Surface(mesh, depthFn))\n",
    "\n",
    "#fig2.show()\n",
    "#fig2.save_database('test.gldb')"
   ]
  },
  {
   "cell_type": "markdown",
   "metadata": {
    "collapsed": false
   },
   "source": [
    "## Fault stuff\n",
    "\n"
   ]
  },
  {
   "cell_type": "code",
   "execution_count": 164,
   "metadata": {
    "collapsed": true
   },
   "outputs": [],
   "source": [
    "import marker2D"
   ]
  },
  {
   "cell_type": "code",
   "execution_count": 165,
   "metadata": {
    "collapsed": true
   },
   "outputs": [],
   "source": [
    "def update_swarm_from_faults(faults, proximityVariable, normalVectorVariable, signedDistanceVariable):\n",
    "    \"\"\"\n",
    "    Compute fault attributes from the marker-line objects in the 'faults' list.\n",
    "    Specifically:\n",
    "    \n",
    "      - proximityVariable carries information about which fault each swarm particle is close to (0 means none)\n",
    "      - normalVectorVariable maps the orientation of the fault to nearby swarm particles\n",
    "      - signedDistanceVariable carries the distance (positive means 'inside')  \n",
    "      \n",
    "      Unchecked error: if these variables are from different swarms \n",
    "      \n",
    "    \"\"\"\n",
    "    \n",
    "    for fault_seg in faults:\n",
    "\n",
    "        swarm = proximityVariable.swarm\n",
    "        \n",
    "        f, nz = fault_seg.compute_marker_proximity(swarm.particleCoordinates.data)    \n",
    "        proximityVariable.data[nz] = f[nz]\n",
    "\n",
    "        dv, nzv = fault_seg.compute_normals(swarm.particleCoordinates.data)\n",
    "        normalVectorVariable.data[nzv] = dv[nzv]\n",
    "\n",
    "        sd, dnz = fault_seg.compute_signed_distance(swarm.particleCoordinates.data)\n",
    "        signedDistanceVariable.data[dnz] = sd[dnz]\n",
    "    \n",
    "    return\n",
    "\n",
    "\n",
    "def update_swarm_from_line(fault, signedDistanceVariable):\n",
    "    \"\"\"\n",
    "    Compute fault attributes from the marker-line objects in the 'faults' list.\n",
    "    Specifically:\n",
    "    \n",
    "      - proximityVariable carries information about which fault each swarm particle is close to (0 means none)\n",
    "      - normalVectorVariable maps the orientation of the fault to nearby swarm particles\n",
    "      - signedDistanceVariable carries the distance (positive means 'inside')  \n",
    "      \n",
    "      Unchecked error: if these variables are from different swarms \n",
    "      \n",
    "    \"\"\"\n",
    "        \n",
    "    sd, dnz = fault.compute_signed_distance(gSwarm.particleCoordinates.data)\n",
    "    signedDistanceVariable.data[dnz] = sd[dnz]\n",
    "    \n",
    "    return\n",
    "\n",
    "\n",
    "def mask_materials(fault, material, materialVariable, proximityVariable, normalVectorVariable, signedDistanceVariable):\n",
    "\n",
    "    \"\"\"\n",
    "    set the key fault-related swarm variabels to zero, based on material typr\n",
    "    \"\"\"\n",
    "    \n",
    "    fptsMask1 = (materialVariable.data[:,0] != material)\n",
    "    fptsMask2 = (proximityVariable.data[:,0] == fault.ID )\n",
    "\n",
    "    fptsMaskOut = fptsMask1 & fptsMask2\n",
    "\n",
    "    normalVectorVariable.data[fptsMaskOut,:] = [0.0,0.0]\n",
    "    proximityVariable.data[fptsMaskOut] = 0\n",
    "    signedDistanceVariable.data[fptsMaskOut] = 0.0\n",
    "    \n",
    "    \n",
    "def fault_strainrate_fns(fault_list, velocityField, faultNormalVariable, proximityproVariable):\n",
    "\n",
    "    ## This is a quick / short cut way to find the resolved stress components.\n",
    "    \n",
    "    strainRateFn = fn.tensor.symmetric( velocityField.fn_gradient )\n",
    "\n",
    "    \n",
    "    _edotn_SFn = (        directorVector[0]**2 * strainRateFn[0]  + \n",
    "                    2.0 * directorVector[1]    * strainRateFn[2] * directorVector[0] + \n",
    "                          directorVector[1]**2 * strainRateFn[1]                          \n",
    "                ) \n",
    "\n",
    "    # any non-zero proximity requires the computation of the above\n",
    "    \n",
    "    _edotn_SFn_Map    = { 0: 0.0 }\n",
    "    for f in fault_list:\n",
    "        _edotn_SFn_Map[f.ID] =  _edotn_SFn\n",
    "\n",
    "\n",
    "\n",
    "   \n",
    "    _edots_SFn = (  directorVector[0] *  directorVector[1] *(strainRateFn[1] - strainRateFn[0]) +\n",
    "                    strainRateFn[2] * (directorVector[0]**2 - directorVector[1]**2)\n",
    "                 )\n",
    "    \n",
    "  \n",
    "    _edots_SFn_Map = { 0: 1.0e-15 }\n",
    "    \n",
    "    for f in fault_list:\n",
    "        _edots_SFn_Map[f.ID] =  _edots_SFn\n",
    "        \n",
    "        \n",
    "    #Finally, map the resolved strain rate to the proximity variable, \n",
    "    #which also makes resolved strain rate zero whereever proximity variable is zero \n",
    "\n",
    "\n",
    "    edotn_SFn =     fn.branching.map( fn_key = proximityVariable, \n",
    "                                      mapping = _edotn_SFn_Map)\n",
    "\n",
    "\n",
    "    edots_SFn =     fn.branching.map( fn_key = proximityVariable, \n",
    "                                      mapping = _edots_SFn_Map )\n",
    "\n",
    "    \n",
    "    return edotn_SFn, edots_SFn\n",
    "\n",
    "\n",
    "## Time update\n",
    "\n",
    "def faults_advance_in_time(faults,proximityVariable, directorVector, signedDistanceVariable, materialVariable, mmask):\n",
    "    for f in faults:\n",
    "        f.advection(dt)\n",
    "\n",
    "\n",
    "    update_swarm_from_faults(faults, proximityVariable, directorVector, signedDistanceVariable)\n",
    "    mask_materials(materialV, materialVariable, proximityVariable, directorVector, signedDistanceVariable)"
   ]
  },
  {
   "cell_type": "code",
   "execution_count": 4,
   "metadata": {
    "collapsed": false
   },
   "outputs": [
    {
     "data": {
      "text/plain": [
       "81"
      ]
     },
     "execution_count": 4,
     "metadata": {},
     "output_type": "execute_result"
    }
   ],
   "source": [
    "3**4"
   ]
  },
  {
   "cell_type": "code",
   "execution_count": 166,
   "metadata": {
    "collapsed": true
   },
   "outputs": [],
   "source": [
    "introPoint = ndp.subzone - abs(ndp.subzone - ndp.lRidge)/2. #half way between ridge and Sz\n",
    "fthickness = ndp.MANTLETOCRUST/2. #initiale fault at half-depth of crust\n",
    "nfault = 200\n",
    "faultCoords =np.zeros((nfault, 2))\n",
    "\n",
    "reducedRocM = ndp.roc  - fthickness\n",
    "xlimslab = reducedRocM*math.cos(math.pi*(90. - dp.theta)/180)\n",
    "faultCoords[:, 0] = np.linspace(introPoint, ndp.subzone + xlimslab, nfault) #note SZ location is hardcoded here \n",
    "for index, xval in np.ndenumerate(faultCoords[:,0]):\n",
    "    #print index, xval\n",
    "    #swarmCoords[index[0], 1] = 1. - isodepthFn.evaluate((xval, 0.)) #This bit for the plate \n",
    "    if  xval < ndp.subzone:\n",
    "        faultCoords[index[0], 1] = 1. - fthickness #This bit for the plate \n",
    "        \n",
    "    else:\n",
    "        faultCoords[index[0], 1] = (1. - (fthickness) - (reducedRocM - ( math.sqrt((reducedRocM**2 - (xval-ndp.subzone)**2)))))\n",
    "        \n",
    "    \n",
    "faultCoords = faultCoords[faultCoords[:,1] > (1. - ndp.maxDepth)] #kill any deeper than cutoff\n",
    "\n",
    "\n",
    "#surface tracer:\n",
    "\n",
    "surfaceCoords =np.ones((nfault, 2))*1.\n",
    "surfaceCoords[:,0] = np.linspace(MINX, MAXX, nfault)"
   ]
  },
  {
   "cell_type": "code",
   "execution_count": 167,
   "metadata": {
    "collapsed": false
   },
   "outputs": [],
   "source": [
    "#from unsupported.interfaces import markerLine2D\n",
    "faults = []\n",
    "fault_seg  = marker2D.markerLine2D(mesh, velocityField, faultCoords[:, 0], faultCoords[:, 1], fthickness, 0.0, 0.0, crustIndex)\n",
    "faults.append(fault_seg)\n",
    "\n",
    "fault_seg  = marker2D.markerLine2D(mesh, velocityField, surfaceCoords[:, 0], surfaceCoords[:, 1], ndp.StALS, 0.0, 0.0, airIndex)\n",
    "faults.append(fault_seg)\n",
    "\n",
    "\n",
    "#Add the necessary swarm variables\n",
    "\n",
    "proximityVariable      = gSwarm.add_variable( dataType=\"int\", count=1 )\n",
    "signedDistanceVariable = gSwarm.add_variable( dataType=\"float\", count=1 )\n",
    "directorVector   = gSwarm.add_variable( dataType=\"double\", count=2)\n",
    "\n",
    "directorVector.data[:,:] = 0.0\n",
    "proximityVariable.data[:] = 0\n",
    "signedDistanceVariable.data[:] = 0.0\n",
    "\n",
    "\n",
    "\n",
    "# Call the Fault helper functions to initialize this info on the main material swarm\n",
    "\n",
    "    \n",
    "    \n",
    "update_swarm_from_faults(faults[1:], proximityVariable, directorVector, signedDistanceVariable)\n",
    "mask_materials(faults[1], airIndex, materialVariable, proximityVariable, directorVector, signedDistanceVariable)\n",
    "\n",
    "\n",
    "update_swarm_from_faults(faults[0:-1], proximityVariable, directorVector, signedDistanceVariable)\n",
    "mask_materials(faults[0], crustIndex, materialVariable, proximityVariable, directorVector, signedDistanceVariable)\n",
    "\n",
    "#Also switch off proximity beneath ndp.CRUSTVISCUTOFF depth\n",
    "proximityVariable.data[gSwarm.particleCoordinates.data[:,1]  < (1. - ndp.CRUSTVISCUTOFF)] = 0. \n",
    "\n",
    "\n",
    "# These should be general enough not to need updating when the faults move etc..\n",
    "#ie they should update as the fields/functions/swarm variables they are built on update\n",
    "edotn_SFn, edots_SFn = fault_strainrate_fns(faults, velocityField, directorVector, proximityVariable)"
   ]
  },
  {
   "cell_type": "code",
   "execution_count": null,
   "metadata": {
    "collapsed": false
   },
   "outputs": [],
   "source": []
  },
  {
   "cell_type": "code",
   "execution_count": 168,
   "metadata": {
    "collapsed": false
   },
   "outputs": [],
   "source": [
    "## Take a look at the locations of the materials\n",
    "\n",
    "\n",
    "#Note we only use this mesh director for visualizing the directorVector (vector-on-swarm viewing not suppoted yet)\n",
    "meshDirector = uw.mesh.MeshVariable( mesh, 2 )\n",
    "projectDirector = uw.utils.MeshVariable_Projection( meshDirector, directorVector, type=1 )\n",
    "projectDirector.solve()    \n",
    "\n",
    "figMaterials = glucifer.Figure( figsize=(1200,400), boundingBox=((-2.0, -0.0, 0.0), (2.0, 1.0, 0.0)) )\n",
    "\n",
    "#Plot swarm associated with each fault\n",
    "for f in faults:\n",
    "    figMaterials.append( glucifer.objects.Points(f.swarm, colours=\"Black Black\", pointSize=2.0, colourBar=False) )\n",
    "\n",
    "\n",
    "#plot mesh director viz. guy\n",
    "figMaterials.append( glucifer.objects.VectorArrows(mesh, meshDirector, scaling=.08, \n",
    "                                               resolutionI=100, resolutionJ=20, opacity=0.25) )\n",
    "\n",
    "\n",
    "#Proximity variable - this is the colour\n",
    "figMaterials.append( glucifer.objects.Points(gSwarm, proximityVariable, \n",
    "                                             pointSize=5.0,  opacity=0.75) )\n",
    "\n",
    "\n",
    "#signedDistanceVariable - this variable goes to zero where the proximity cutoff is\n",
    "#note that it's signed...faults have a direction\n",
    "#figMaterials.append( glucifer.objects.Points(gSwarm, signedDistanceVariable, \n",
    "#                                             pointSize=2.0))\n",
    "\n",
    "#Add mesh\n",
    "#figMaterials.append( glucifer.objects.Mesh(mesh, opacity=0.1) )\n",
    "\n",
    "#figMaterials.show()\n",
    "#figMaterials.save_database('test.gldb')"
   ]
  },
  {
   "cell_type": "markdown",
   "metadata": {},
   "source": [
    "Rheology\n",
    "-----\n",
    "\n"
   ]
  },
  {
   "cell_type": "code",
   "execution_count": 169,
   "metadata": {
    "collapsed": false
   },
   "outputs": [],
   "source": [
    "##############\n",
    "#Set up any functions required by the rheology\n",
    "##############\n",
    "strainRate_2ndInvariant = fn.tensor.second_invariant( \n",
    "                            fn.tensor.symmetric( \n",
    "                            velocityField.fn_gradient ))\n",
    "\n",
    "def safe_visc(func, viscmin=ndp.eta_min, viscmax=ndp.eta_max):\n",
    "    return fn.misc.max(viscmin, fn.misc.min(viscmax, func))"
   ]
  },
  {
   "cell_type": "code",
   "execution_count": 170,
   "metadata": {
    "collapsed": true
   },
   "outputs": [],
   "source": [
    "#strainRate_2ndInvariant = fn.misc.constant(ndp.SR) #dummy fucntion to check which mechanisms are at active are reference strain rate"
   ]
  },
  {
   "cell_type": "code",
   "execution_count": 171,
   "metadata": {
    "collapsed": false
   },
   "outputs": [],
   "source": [
    "#ndp.crust_cohesion_fac"
   ]
  },
  {
   "cell_type": "code",
   "execution_count": 172,
   "metadata": {
    "collapsed": false
   },
   "outputs": [],
   "source": [
    "############\n",
    "#Rheology: create UW2 functions for all viscous mechanisms\n",
    "#############\n",
    "\n",
    "omega = fn.misc.constant(1.) #this function can hold any arbitary viscosity modifications \n",
    "\n",
    "\n",
    "##Diffusion Creep\n",
    "diffusion = fn.misc.min(ndp.eta_max, fn.math.exp(-1*ndp.Edf + ndp.Edf / (temperatureField + 1e-8)))\n",
    "\n",
    "\n",
    "\n",
    "##Define the Plasticity\n",
    "ys =  ndp.cm + (depthFn*ndp.fcmd)\n",
    "ysMax = 10e4*1e6*sf.stress\n",
    "ysf = fn.misc.min(ys, ysMax)\n",
    "yielding = ysf/(2.*(strainRate_2ndInvariant))\n",
    "\n",
    "##Crust rheology\n",
    "#crustys =  ndp.cohesion*ndp.crust_cohesion_fac + (depthFn*ndp.fcd*ndp.crust_fc_fac)\n",
    "crustys =  ndp.cc + (depthFn*ndp.fccd) #only weakened cohesion is discussed, not fc\n",
    "crustvisc = crustys/(2.*(strainRate_2ndInvariant)) \n",
    "\n",
    "\n",
    "##Interface rheology\n",
    "interfaceys =  ndp.ci + (depthFn*ndp.fcid) #only weakened cohesion is discussed, not fc\n",
    "interfacevisc = interfaceys/(2.*(strainRate_2ndInvariant))\n",
    "\n"
   ]
  },
  {
   "cell_type": "code",
   "execution_count": 173,
   "metadata": {
    "collapsed": false
   },
   "outputs": [],
   "source": [
    "############\n",
    "#Rheology: combine viscous mechanisms in various ways \n",
    "#harmonic: harmonic average of all mechanims\n",
    "#min: minimum effective viscosity of the mechanims\n",
    "#mixed: takes the minimum of the harmonic and the plastic effective viscosity\n",
    "#############\n",
    "\n",
    "#linear rheology \n",
    "linearviscosityFn = safe_visc(diffusion)\n",
    "\n",
    "\n",
    "\n",
    "interfaceCond = operator.and_((depthFn < ndp.CRUSTVISCUTOFF), (depthFn > ndp.MANTLETOCRUST))    \n",
    "\n",
    "\n",
    "#combined rheology    \n",
    "finalviscosityFn  = fn.branching.conditional([(depthFn < ndp.LOWMANTLEDEPTH, safe_visc(fn.misc.min(diffusion, yielding))),\n",
    "                                  (True, safe_visc(safe_visc(diffusion*ndp.low_mantle_visc_fac)))])\n",
    "\n",
    "#crust rheology    \n",
    "#finalcrustviscosityFn = safe_visc(fn.misc.min(ndp.eta_max_crust, \n",
    "#                                              crustyielding)) #cohesion weakening factor also applies to eta_0\n",
    "\n",
    "crustviscosityFn = safe_visc(fn.misc.min(linearviscosityFn, crustvisc), ndp.eta_max_crust)\n",
    "interfaceviscosityFn = safe_visc(fn.misc.min(linearviscosityFn, interfacevisc), ndp.eta_max_interface)\n",
    "\n",
    "if ndp.eta_max_crust == ndp.eta_min_crust: #If these are equal, set to constant visc. \n",
    "    crustviscosityFn = fn.misc.constant(ndp.eta_min_crust)\n",
    "    \n",
    "if ndp.eta_max_interface == ndp.eta_min_interface: #If these are equal, set to constant visc. \n",
    "    interfaceviscosityFn = fn.misc.constant(ndp.eta_min_interface)\n",
    "    \n",
    "\n",
    "\n",
    "finalcrustviscosityFn  = fn.branching.conditional([(depthFn < ndp.MANTLETOCRUST, crustviscosityFn),\n",
    "                                                     (interfaceCond, interfaceviscosityFn), #\n",
    "                                                     (True, finalviscosityFn)])"
   ]
  },
  {
   "cell_type": "markdown",
   "metadata": {},
   "source": [
    "Stokes system setup\n",
    "-----\n"
   ]
  },
  {
   "cell_type": "code",
   "execution_count": 174,
   "metadata": {
    "collapsed": true
   },
   "outputs": [],
   "source": [
    "buoyancyFn =  ndp.RA*temperatureField\n"
   ]
  },
  {
   "cell_type": "code",
   "execution_count": 175,
   "metadata": {
    "collapsed": false
   },
   "outputs": [],
   "source": [
    "densityMapFn = fn.branching.map( fn_key = materialVariable,\n",
    "                         mapping = {airIndex:ndp.StRA,\n",
    "                                    crustIndex:buoyancyFn, \n",
    "                                    mantleIndex:buoyancyFn,\n",
    "                                    harzIndex:buoyancyFn} )"
   ]
  },
  {
   "cell_type": "code",
   "execution_count": 176,
   "metadata": {
    "collapsed": true
   },
   "outputs": [],
   "source": [
    "\n",
    "# Define our vertical unit vector using a python tuple (this will be automatically converted to a function).\n",
    "gravity = ( 0.0, 1.0 )\n",
    "\n",
    "# Now create a buoyancy force vector using the density and the vertical unit vector. \n",
    "buoyancyFn = densityMapFn * gravity"
   ]
  },
  {
   "cell_type": "code",
   "execution_count": 177,
   "metadata": {
    "collapsed": true
   },
   "outputs": [],
   "source": [
    "stokesPIC = uw.systems.Stokes(velocityField=velocityField, \n",
    "                              pressureField=pressureField,\n",
    "                              conditions=[freeslipBC,],\n",
    "                              fn_viscosity=linearviscosityFn, \n",
    "                              fn_bodyforce=buoyancyFn )"
   ]
  },
  {
   "cell_type": "code",
   "execution_count": 178,
   "metadata": {
    "collapsed": true
   },
   "outputs": [],
   "source": [
    "solver = uw.systems.Solver(stokesPIC)\n",
    "if not checkpointLoad:\n",
    "    solver.solve() #A solve on the linear visocisty is unhelpful unless we're starting from scratch"
   ]
  },
  {
   "cell_type": "code",
   "execution_count": null,
   "metadata": {
    "collapsed": false
   },
   "outputs": [],
   "source": [
    "\n"
   ]
  },
  {
   "cell_type": "code",
   "execution_count": 211,
   "metadata": {
    "collapsed": false
   },
   "outputs": [],
   "source": [
    "viscosityMapFn1 = fn.branching.map( fn_key = materialVariable,\n",
    "                         mapping = {crustIndex:finalcrustviscosityFn,\n",
    "                                    mantleIndex:finalviscosityFn,\n",
    "                                    harzIndex:finalviscosityFn,\n",
    "                                    airIndex:ndp.Steta_n} )\n",
    "\n",
    "\n",
    "delta_Steata2 = ndp.Steta_n - ndp.Steta_s\n",
    "delta_eta_fault = 0.\n",
    "\n",
    "if md.subductionFault:  \n",
    "    if ndp.eta_min_fault == ndp.eta_min_fault:#Transverse rheology is isoviscous\n",
    "        delta_eta_fault = fn.misc.min(0.999, fn.misc.max (0.,   ndp.eta_min_crust - ndp.eta_min_fault))       \n",
    "        \n",
    "    else:\n",
    "        #Transverse viscosity is related the Mohr-Coulomb criterion\n",
    "        delta_eta_fault = fn.misc.min(0.999, fn.misc.max (0., \n",
    "        viscosityMapFn1 - ((edotn_SFn*viscosityMapFn1 + ndp.fcfd * pressureField)  + ndp.cf)/edots_SFn))\n",
    "   "
   ]
  },
  {
   "cell_type": "code",
   "execution_count": 212,
   "metadata": {
    "collapsed": false
   },
   "outputs": [
    {
     "data": {
      "text/plain": [
       "(array([ 0.99]), 0.0)"
      ]
     },
     "execution_count": 212,
     "metadata": {},
     "output_type": "execute_result"
    }
   ],
   "source": [
    "np.unique(delta_eta_fault.evaluate(gSwarm)), delta_Steata2"
   ]
  },
  {
   "cell_type": "code",
   "execution_count": 213,
   "metadata": {
    "collapsed": false
   },
   "outputs": [],
   "source": [
    "# This one maps to my fault-proximity variable (which also picks only materialV)\n",
    "viscosityMapFn2    = { 0: 0.0, \n",
    "                           1: delta_eta_fault, \n",
    "                           3: delta_Steata2\n",
    "                       }\n",
    "    \n",
    "\n",
    "viscosityMapFn2  = fn.branching.map( fn_key = proximityVariable, \n",
    "                                           mapping = viscosityMapFn2)"
   ]
  },
  {
   "cell_type": "code",
   "execution_count": 214,
   "metadata": {
    "collapsed": false
   },
   "outputs": [],
   "source": [
    "#orientation = -1.*90. * math.pi / 180.0  #vertical\n",
    "#math.cos(orientation), math.sin(orientation)"
   ]
  },
  {
   "cell_type": "code",
   "execution_count": 215,
   "metadata": {
    "collapsed": false
   },
   "outputs": [],
   "source": [
    "#stickyAir"
   ]
  },
  {
   "cell_type": "code",
   "execution_count": 216,
   "metadata": {
    "collapsed": false
   },
   "outputs": [],
   "source": [
    "#Add the non-linear viscosity to the Stokes system\n",
    "stokesPIC.fn_viscosity = viscosityMapFn1\n",
    "\n",
    "if md.stickyAir or md.subductionFault:\n",
    "    stokesPIC.fn_viscosity2 = viscosityMapFn2\n",
    "    stokesPIC._fn_director   = directorVector\n"
   ]
  },
  {
   "cell_type": "code",
   "execution_count": 217,
   "metadata": {
    "collapsed": false
   },
   "outputs": [
    {
     "name": "stdout",
     "output_type": "stream",
     "text": [
      "\u001b[1;35m\n",
      " \n",
      "Pressure iterations:   3\n",
      "Velocity iterations:   1 (presolve)      \n",
      "Velocity iterations:  -1 (pressure solve)\n",
      "Velocity iterations:   1 (backsolve)     \n",
      "Velocity iterations:   1 (total solve)   \n",
      " \n",
      "SCR RHS  solve time: 2.3680e+00\n",
      "Pressure solve time: 1.8017e-01\n",
      "Velocity solve time: 2.4071e+00 (backsolve)\n",
      "Total solve time   : 5.2180e+00\n",
      " \n",
      "Velocity solution min/max: 0.0000e+00/0.0000e+00\n",
      "Pressure solution min/max: 0.0000e+00/0.0000e+00\n",
      " \n",
      "\u001b[00m\n"
     ]
    }
   ],
   "source": [
    "solver.set_inner_method(\"mumps\")\n",
    "solver.options.scr.ksp_type=\"cg\"\n",
    "solver.set_penalty(1.0e7)\n",
    "solver.options.scr.ksp_rtol = 1.0e-4\n",
    "solver.solve(nonLinearIterate=True)\n",
    "solver.print_stats()"
   ]
  },
  {
   "cell_type": "code",
   "execution_count": 186,
   "metadata": {
    "collapsed": false
   },
   "outputs": [],
   "source": [
    "#Check which particles are yielding\n",
    "#yieldingCheck.data[:] = 0\n",
    "\n",
    "#yieldconditions = [ ( finalviscosityFn < Visc , 1), \n",
    "#               ( True                                           , 0) ]\n",
    "\n",
    "# use the branching conditional function to set each particle's index\n",
    "#yieldingCheck.data[:] = fn.branching.conditional( yieldconditions ).evaluate(gSwarm)"
   ]
  },
  {
   "cell_type": "code",
   "execution_count": 204,
   "metadata": {
    "collapsed": false
   },
   "outputs": [],
   "source": [
    "#velocityFieldIso       = uw.mesh.MeshVariable( mesh=mesh,         nodeDofCount=2 )\n",
    "#velocityFieldIso.data[:] = velocityField.data.copy()\n",
    "\n",
    "\n",
    "\n",
    "#strainRate_2ndInvariantIso = fn.tensor.second_invariant( \n",
    "#                            fn.tensor.symmetric( \n",
    "#                            velocityFieldIso.fn_gradient ))"
   ]
  },
  {
   "cell_type": "code",
   "execution_count": 253,
   "metadata": {
    "collapsed": false,
    "scrolled": true
   },
   "outputs": [
    {
     "data": {
      "text/html": [
       "<img src='data:image/png;base64,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'>"
      ],
      "text/plain": [
       "<IPython.core.display.HTML object>"
      ]
     },
     "metadata": {},
     "output_type": "display_data"
    }
   ],
   "source": [
    "fig= glucifer.Figure()\n",
    "fig.append( glucifer.objects.Points(gSwarm, strainRate_2ndInvariant))\n",
    "#fig.append( glucifer.objects.VectorArrows(mesh,velocityField -velocityFieldIso))\n",
    "\n",
    "#fig.append( glucifer.objects.Surface(mesh,ndflm, logScale=True))\n",
    "fig.show()"
   ]
  },
  {
   "cell_type": "code",
   "execution_count": 220,
   "metadata": {
    "collapsed": false
   },
   "outputs": [
    {
     "data": {
      "text/plain": [
       "'test.gldb'"
      ]
     },
     "execution_count": 220,
     "metadata": {},
     "output_type": "execute_result"
    }
   ],
   "source": [
    "fig.save_database('test.gldb')"
   ]
  },
  {
   "cell_type": "markdown",
   "metadata": {},
   "source": [
    "Advection-diffusion System setup\n",
    "-----"
   ]
  },
  {
   "cell_type": "code",
   "execution_count": 221,
   "metadata": {
    "collapsed": false
   },
   "outputs": [],
   "source": [
    "advDiff = uw.systems.AdvectionDiffusion( phiField       = temperatureField, \n",
    "                                         phiDotField    = temperatureDotField, \n",
    "                                         velocityField  = velocityField,\n",
    "                                         fn_sourceTerm    = 0.0,\n",
    "                                         fn_diffusivity = 1.0, \n",
    "                                         #conditions     = [neumannTempBC, dirichTempBC] )\n",
    "                                         conditions     = [ dirichTempBC] )\n",
    "\n",
    "passiveadvector = uw.systems.SwarmAdvector( swarm         = gSwarm, \n",
    "                                     velocityField = velocityField, \n",
    "                                     order         = 1)"
   ]
  },
  {
   "cell_type": "code",
   "execution_count": 222,
   "metadata": {
    "collapsed": true
   },
   "outputs": [],
   "source": [
    "population_control = uw.swarm.PopulationControl(gSwarm,deleteThreshold=0.2,splitThreshold=1.,maxDeletions=3,maxSplits=0, aggressive=True, particlesPerCell=ppc)"
   ]
  },
  {
   "cell_type": "markdown",
   "metadata": {},
   "source": [
    "Analysis functions / routines\n",
    "-----\n",
    "\n",
    "Most of the metrics we want to calculate are either:\n",
    "\n",
    "* extrema of some field / function\n",
    "* integral of some field / function\n",
    "* average value of some function (integral divide by area)\n",
    "\n",
    "In addition, we also want to be able to determine these metrics over some restricted part of the domain, where the restriction may either be due some value of a field, a material type, or something more arbitrary.\n",
    "\n",
    "Much of he challenge lies in defining these restriction functions in an efficient and robust way (i.e they don't break down as the model evolves)\n",
    "\n",
    "For volume integrals, and extrema, we build a hierarchy of restriction functions, each borrowing from the previous, until we have divided the domain into a number of sub regions of interest. \n",
    "\n",
    "In general, averages are found afterwards by combining the integral and the area of the relavent subregion"
   ]
  },
  {
   "cell_type": "code",
   "execution_count": null,
   "metadata": {
    "collapsed": false
   },
   "outputs": [],
   "source": []
  },
  {
   "cell_type": "code",
   "execution_count": null,
   "metadata": {
    "collapsed": false
   },
   "outputs": [],
   "source": []
  },
  {
   "cell_type": "code",
   "execution_count": 223,
   "metadata": {
    "collapsed": false
   },
   "outputs": [],
   "source": [
    "###################\n",
    "#Volume Restriction functions\n",
    "###################\n",
    "\n",
    "#Level 1. Global\n",
    "globRestFn = fn.misc.constant(1.)\n",
    "\n",
    "#Level 2. Rock - air:\n",
    "rockRestFn = uw.swarm.SwarmVariable(gSwarm, dataType='double', count=1)\n",
    "rockRestFn.data[:] = 0.\n",
    "rockRestFn.data[np.where(materialVariable.data[:] != airIndex)] = 1.\n",
    "rockRestFn *= globRestFn #Add next level up in heirarchy\n",
    "\n",
    "\n",
    "#Level 3. lithosphere - mantle:\n",
    "tempMM = fn.view.min_max(temperatureField)\n",
    "tempMM.evaluate(mesh)\n",
    "TMAX = tempMM.max_global()\n",
    "mantleconditions = [ (                                  temperatureField < 0.9*TMAX, 1.),\n",
    "                   (                                                   True , 0.) ]\n",
    "lithRestFn = fn.branching.conditional(mantleconditions)\n",
    "lithRestFn*=rockRestFn #Add next level up in heirarchy\n",
    "\n",
    "\n",
    "#Level 4. lower plate - upper plate:\n",
    "\n",
    "\n",
    "#This whole section simply builds a restriction Fn that separates the upper and lower plate \n",
    "#It's pretty cumbersome, and will need to advected, rebuilt\n",
    "#can YOU think of a better way?\n",
    "\n",
    "\n",
    "    \n",
    "fthickness = 20e3/dp.LS #initialize tracking swarm at ~ mid lithosphere depth\n",
    "\n",
    "if dp.sense == 'Right':\n",
    "    introPoint = ndp.lRidge + fthickness #\n",
    "else:\n",
    "    introPoint = ndp.rRidge - fthickness #\n",
    "nfault = 200\n",
    "slabCoords =np.zeros((nfault, 2))\n",
    "\n",
    "reducedRocM = ndp.roc  - fthickness\n",
    "xlimslab = reducedRocM*math.cos(math.pi*(90. - dp.theta)/180)\n",
    "slabCoords[:, 0] = np.linspace(introPoint, ndp.subzone + xlimslab, nfault) #note SZ location is hardcoded here \n",
    "for index, xval in np.ndenumerate(slabCoords[:,0]):\n",
    "    #print index, xval\n",
    "    #swarmCoords[index[0], 1] = 1. - isodepthFn.evaluate((xval, 0.)) #This bit for the plate \n",
    "    if  xval < ndp.subzone:\n",
    "        slabCoords[index[0], 1] = 1. - fthickness #This bit for the plate \n",
    "        \n",
    "    else:\n",
    "        slabCoords[index[0], 1] = (1. - (fthickness) - (reducedRocM - ( math.sqrt((reducedRocM**2 - (xval-ndp.subzone)**2)))))\n",
    "        \n",
    "slabCoords = slabCoords[slabCoords[:,1] > (1. - ndp.maxDepth)] #kill any deeper than cutoff\n",
    "\n",
    "slab_line  = marker2D.markerLine2D(mesh, velocityField, slabCoords[:, 0], slabCoords[:, 1], 1e9/dp.LS, 0.0, 0.0, crustIndex)\n",
    "lowerPlateRestFn = gSwarm.add_variable( dataType=\"double\", count=1 )\n",
    "lowerPlateRestFn.data[:] = 0.0\n",
    "\n",
    "update_swarm_from_line(slab_line, lowerPlateRestFn )\n",
    "lowerPlateRestFn.data[np.where(lowerPlateRestFn.data != 0.)] += fthickness #assume instances of 0. are actually where no fault on proc\n",
    "lowerPlateRestFn.data[np.where(lowerPlateRestFn.data > 0*fthickness)] = 1.\n",
    "lowerPlateRestFn.data[np.where(lowerPlateRestFn.data <= 0.*fthickness)] = 0. \n",
    "lowerPlateRestFn *= lithRestFn #Add next level up in heirarchy\n",
    "\n",
    "#Also see if we can stick the the Velocity and coords on to this swarm as well\n",
    "tipVar = uw.swarm.SwarmVariable(slab_line.swarm, dataType='double', count=4)\n",
    "tipVar.data[:,:2] = velocityField.evaluate(slab_line.swarm)\n",
    "tipVar.data[:,2:] = xFn.evaluate(slab_line.swarm)\n",
    "tipVar.data[:,3:] = yFn.evaluate(slab_line.swarm)\n",
    "\n",
    "\n",
    "#Level 5. hinge of lower plate:\n",
    "\n",
    "hingeSpatialconditions = [ (           operator.and_( (depthFn < MAXY - (150e3/dp.LS)),  (xFn > ndp.subzone - 50e3/dp.LS)), 1.),\n",
    "                   (                                                   True , 0.) ]\n",
    "\n",
    "hingeRestFn = fn.branching.conditional(hingeSpatialconditions)\n",
    "hingeRestFn*=lowerPlateRestFn #Add next level up in heirarchy\n",
    "\n",
    "\n",
    "#Level 6. crust/interface in hinge of lower plate:"
   ]
  },
  {
   "cell_type": "code",
   "execution_count": 224,
   "metadata": {
    "collapsed": true
   },
   "outputs": [],
   "source": [
    "respltconditions = [ \n",
    "                    (                                  hingeRestFn*2. > rockRestFn*1., 1.),\n",
    "                    (                                  lowerPlateRestFn*3. > hingeRestFn*2. , 3.),\n",
    "                    (                                  lithRestFn*5. > lowerPlateRestFn*3. , 4.),\n",
    "                   (                                                   True , 0.) ]\n",
    "\n",
    "respltFn = fn.branching.conditional(respltconditions )"
   ]
  },
  {
   "cell_type": "code",
   "execution_count": 225,
   "metadata": {
    "collapsed": false
   },
   "outputs": [],
   "source": [
    "fig= glucifer.Figure()\n",
    "fig.append( glucifer.objects.Points(gSwarm,respltFn))\n",
    "#fig.show()\n",
    "#fig.save_database('test_restrict.gldb')"
   ]
  },
  {
   "cell_type": "code",
   "execution_count": 226,
   "metadata": {
    "collapsed": true
   },
   "outputs": [],
   "source": [
    "###################\n",
    "#Surface Restriction functions\n",
    "###################\n",
    "\n",
    "def platenessFn(val = 0.1):\n",
    "    normgradV = fn.math.abs(velocityField.fn_gradient[0]/fn.math.sqrt(velocityField[0]*velocityField[0])) #[du*/dx]/sqrt(u*u)\n",
    "\n",
    "\n",
    "\n",
    "    srconditions = [ (                                  normgradV < val, 1.),\n",
    "                   (                                                   True , 0.) ]\n",
    "\n",
    "\n",
    "    return fn.branching.conditional(srconditions)\n",
    "\n",
    "srRestFn = platenessFn(val = 0.1)"
   ]
  },
  {
   "cell_type": "code",
   "execution_count": 227,
   "metadata": {
    "collapsed": false
   },
   "outputs": [],
   "source": [
    "###################\n",
    "#Setup any Functions to be integrated\n",
    "###################\n",
    "\n",
    "sqrtv2 = fn.math.sqrt(fn.math.dot(velocityField,velocityField))\n",
    "vx = velocityField[0]\n",
    "v2x = fn.math.dot(velocityField[0],velocityField[0])\n",
    "sqrtv2x = fn.math.sqrt(fn.math.dot(velocityField[0],velocityField[0]))\n",
    "dw = temperatureField*velocityField[1]\n",
    "sinner = fn.math.dot( strainRate_2ndInvariant, strainRate_2ndInvariant )\n",
    "vd = 2.*viscosityMapFn1*sinner\n",
    "dTdZ = temperatureField.fn_gradient[1]\n",
    "\n"
   ]
  },
  {
   "cell_type": "code",
   "execution_count": 228,
   "metadata": {
    "collapsed": false
   },
   "outputs": [],
   "source": [
    "###################\n",
    "#Create integral, max/min templates \n",
    "###################\n",
    "\n",
    "def volumeint(Fn = 1., rFn=globRestFn):\n",
    "    return uw.utils.Integral( Fn*rFn,  mesh )\n",
    "\n",
    "def surfint(Fn = 1., rFn=globRestFn, surfaceIndexSet=mesh.specialSets[\"MaxJ_VertexSet\"]):\n",
    "    return uw.utils.Integral( Fn*rFn, mesh=mesh, integrationType='Surface', surfaceIndexSet=surfaceIndexSet)\n",
    "\n",
    "def maxMin(Fn = 1.):\n",
    "    #maxMin(Fn = 1., rFn=globRestFn\n",
    "    #vuFn = fn.view.min_max(Fn*rFn) #the restriction functions don't work with the view.min_max fn yet\n",
    "    vuFn = fn.view.min_max(Fn)\n",
    "    return vuFn\n",
    "    \n",
    "   \n",
    "    "
   ]
  },
  {
   "cell_type": "code",
   "execution_count": 229,
   "metadata": {
    "collapsed": false
   },
   "outputs": [],
   "source": [
    "#Setup volume integrals on different sub regions\n",
    "\n",
    "##Whole rock domain\n",
    "\n",
    "_areaintRock = volumeint(rockRestFn)\n",
    "_tempintRock = volumeint(temperatureField, rockRestFn)\n",
    "_rmsintRock = volumeint(sqrtv2,rockRestFn)\n",
    "_dwintRock = volumeint(dw,rockRestFn)\n",
    "_vdintRock = volumeint(vd,rockRestFn)\n",
    "\n",
    "##Lith \n",
    "\n",
    "_areaintLith  = volumeint(lithRestFn)\n",
    "_tempintLith  = volumeint(temperatureField, lithRestFn)\n",
    "_rmsintLith  = volumeint(sqrtv2,lithRestFn)\n",
    "_dwintLith  = volumeint(dw,lithRestFn)\n",
    "_vdintLith  = volumeint(vd,lithRestFn)\n",
    "\n",
    "##Lower plate\n",
    "\n",
    "_areaintLower  = volumeint(lowerPlateRestFn)\n",
    "_tempintLower  = volumeint(temperatureField, lowerPlateRestFn)\n",
    "_rmsintLower  = volumeint(sqrtv2,lowerPlateRestFn)\n",
    "_dwintLower = volumeint(dw,lowerPlateRestFn)\n",
    "_vdintLower  = volumeint(vd,lowerPlateRestFn)\n",
    "\n",
    "##Hinge lower plate\n",
    "\n",
    "_areaintHinge  = volumeint(hingeRestFn)\n",
    "_vdintHinge  = volumeint(vd,hingeRestFn)"
   ]
  },
  {
   "cell_type": "code",
   "execution_count": 230,
   "metadata": {
    "collapsed": true
   },
   "outputs": [],
   "source": [
    "#Setup surface integrals\n",
    "\n",
    "_surfLength = surfint()\n",
    "_rmsSurf = surfint(v2x)\n",
    "_nuTop = surfint(dTdZ)\n",
    "_nuBottom = surfint(dTdZ, surfaceIndexSet=mesh.specialSets[\"MinJ_VertexSet\"])\n",
    "_plateness = surfint(srRestFn)"
   ]
  },
  {
   "cell_type": "code",
   "execution_count": 231,
   "metadata": {
    "collapsed": false
   },
   "outputs": [],
   "source": [
    "#Setup max min fns (at the moment, we can't pass restriction function to view.min_max, so we're limited to whole volume or surface extrema)\n",
    "\n",
    "##Whole rock domain\n",
    "\n",
    "#_maxMinVisc = maxMin(viscosityMapFn1)  #These don't work on swarm variables or mapping functions, yet\n",
    "#dummyFn = _maxMinVisc.evaluate(mesh)\n",
    "#_maxMinStressInv = maxMin(2*viscosityMapFn1*strainRate_2ndInvariant) #These don't work on swarm variables or mapping functions, yet\n",
    "#dummyFn = _maxMinStress.evaluate(mesh)\n",
    "#_maxMinVd = maxMin(vd) #These don't work on swarm variables or mapping functions, yet\n",
    "#dummyFn = _maxMinVd.evaluate(mesh)\n",
    "\n",
    "\n",
    "_maxMinVel = maxMin(velocityField) \n",
    "dummyFn = _maxMinVel.evaluate(mesh)\n",
    "\n",
    "_maxMinSr = maxMin(strainRate_2ndInvariant) \n",
    "dummyFn = _maxMinSr.evaluate(mesh)\n",
    "\n",
    "\n",
    "#Surface extrema\n",
    "_maxMinVxSurf = maxMin(vx)\n",
    "dummyFn = _maxMinVxSurf.evaluate(tWalls)\n"
   ]
  },
  {
   "cell_type": "code",
   "execution_count": 232,
   "metadata": {
    "collapsed": false
   },
   "outputs": [],
   "source": [
    "#Volume Ints\n",
    "areaintRock = _areaintRock.evaluate()[0]\n",
    "tempintRock = _tempintRock.evaluate()[0]\n",
    "rmsintRock = _rmsintRock.evaluate()[0]\n",
    "dwintRock = _dwintRock.evaluate()[0]\n",
    "vdintRock = _vdintRock.evaluate()[0]\n",
    "areaintLith = _areaintLith.evaluate()[0]\n",
    "tempintLith = _tempintLith.evaluate()[0]\n",
    "rmsintLith = _rmsintLith.evaluate()[0]\n",
    "dwintLith = _dwintLith.evaluate()[0]\n",
    "vdintLith = _vdintLith.evaluate()[0]\n",
    "areaintLower = _areaintLower.evaluate()[0]\n",
    "tempintLower = _tempintLower.evaluate()[0]\n",
    "rmsintLower = _rmsintLower.evaluate()[0]\n",
    "dwintLower = _dwintLower.evaluate()[0]\n",
    "vdintLower = _vdintLower.evaluate()[0]\n",
    "vdintHinge = _vdintHinge.evaluate()[0]\n",
    "areaintHinge = _areaintHinge.evaluate()[0]\n",
    "\n",
    "#Surface Ints\n",
    "surfLength = _surfLength.evaluate()[0]\n",
    "rmsSurf = _rmsSurf.evaluate()[0]\n",
    "nuTop = _nuTop.evaluate()[0]\n",
    "nuBottom = _nuBottom.evaluate()[0]\n",
    "plateness = _plateness.evaluate()[0]\n",
    "\n",
    "#Max mins\n",
    "maxVel = _maxMinVel.max_global()\n",
    "minVel = _maxMinVel.min_global() \n",
    "maxSr = _maxMinSr.max_global()\n",
    "minSr = _maxMinSr.min_global()\n",
    "maxVxsurf = _maxMinVxSurf.max_global()\n",
    "minVxsurf = _maxMinVxSurf.min_global()"
   ]
  },
  {
   "cell_type": "code",
   "execution_count": 233,
   "metadata": {
    "collapsed": false
   },
   "outputs": [
    {
     "name": "stdout",
     "output_type": "stream",
     "text": [
      "4.00000000003\n",
      "3.81737025622\n",
      "929.734218038\n",
      "12.9610497473\n",
      "25483200.0991\n",
      "0.369045869804\n",
      "0.191606746006\n",
      "173.089032073\n",
      "-10.8148349687\n",
      "18555779.661\n",
      "0.243508421345\n",
      "0.125424258857\n",
      "112.576099593\n",
      "-10.5962254585\n",
      "14946711.7212\n",
      "13414614.42\n",
      "4.0\n",
      "826455.517606\n",
      "-77.1932649279\n",
      "0.0\n",
      "2.8125\n",
      "993.708623197\n",
      "0.0\n",
      "62424.7776435\n",
      "0.0143122580904\n",
      "588.023310124\n",
      "-484.207672079\n"
     ]
    }
   ],
   "source": [
    "print(areaintRock)\n",
    "print(tempintRock)\n",
    "print(rmsintRock)\n",
    "print(dwintRock)\n",
    "print(vdintRock)\n",
    "print(areaintLith)\n",
    "print(tempintLith )\n",
    "print(rmsintLith)\n",
    "print(dwintLith)\n",
    "print(vdintLith)\n",
    "print(areaintLower)\n",
    "print(tempintLower)\n",
    "print(rmsintLower) \n",
    "print(dwintLower)\n",
    "print(vdintLower)\n",
    "print(vdintHinge)\n",
    "\n",
    "print(surfLength)\n",
    "print(rmsSurf)\n",
    "print(nuTop)\n",
    "print(nuBottom)\n",
    "print(plateness)\n",
    "\n",
    "\n",
    "print(maxVel)\n",
    "print(minVel)\n",
    "print(maxSr)\n",
    "print(minSr)\n",
    "print(maxVxsurf)\n",
    "print(minVxsurf)"
   ]
  },
  {
   "cell_type": "code",
   "execution_count": null,
   "metadata": {
    "collapsed": true
   },
   "outputs": [],
   "source": []
  },
  {
   "cell_type": "markdown",
   "metadata": {},
   "source": [
    "Viz.\n",
    "-----"
   ]
  },
  {
   "cell_type": "code",
   "execution_count": 234,
   "metadata": {
    "collapsed": false
   },
   "outputs": [],
   "source": [
    "#viscVariable = gSwarm.add_variable( dataType=\"float\", count=1 )\n",
    "#viscVariable.data[:] = viscosityMapFn1.evaluate(gSwarm)"
   ]
  },
  {
   "cell_type": "code",
   "execution_count": 235,
   "metadata": {
    "collapsed": false
   },
   "outputs": [],
   "source": [
    "if figures == 'gldb':\n",
    "    #Pack some stuff into a database as well\n",
    "    figDb = glucifer.Figure()\n",
    "    #figDb.append( glucifer.objects.Mesh(mesh))\n",
    "    figDb.append( glucifer.objects.VectorArrows(mesh,velocityField, scaling=0.0005))\n",
    "    #figDb.append( glucifer.objects.Points(gSwarm,tracerVariable, colours= 'white black'))\n",
    "    figDb.append( glucifer.objects.Points(gSwarm,materialVariable))\n",
    "    #figDb.append( glucifer.objects.Points(gSwarm,viscMinVariable))\n",
    "    #figDb.append( glucifer.objects.Points(gSwarm,fnViscMin))\n",
    "    #figDb.append( glucifer.objects.Points(gSwarm,viscosityMapFn1, logScale=True))\n",
    "    figDb.append( glucifer.objects.Points(gSwarm, strainRate_2ndInvariant))\n",
    "    figDb.append( glucifer.objects.Points(gSwarm,temperatureField))\n",
    "    \n",
    "    \n",
    "    figRestrict= glucifer.Figure()\n",
    "    figRestrict.append( glucifer.objects.Points(gSwarm,respltFn))\n",
    "    figRestrict.append( glucifer.objects.Points(slab_line.swarm, colours=\"Black Black\", pointSize=2.0, colourBar=False) )\n",
    "\n",
    "elif figures == 'store':\n",
    "    fullpath = os.path.join(outputPath + \"gldbs/\")\n",
    "    store = glucifer.Store(fullpath + 'subduction.gldb')\n",
    "\n",
    "    figTemp = glucifer.Figure(store,figsize=(300*np.round(aspectRatio,2),300))\n",
    "    figTemp.append( glucifer.objects.Points(gSwarm,temperatureField))\n",
    "\n",
    "    figVisc= glucifer.Figure(store, figsize=(300*np.round(aspectRatio,2),300))\n",
    "    figVisc.append( glucifer.objects.Points(gSwarm,viscosityMapFn1, logScale=True, valueRange =[1e-3,1e5]))\n",
    "\n",
    "    #figMech= glucifer.Figure(store, figsize=(300*np.round(aspectRatio,2),300))\n",
    "    #figMech.append( glucifer.objects.Points(gSwarm,fnViscMin))"
   ]
  },
  {
   "cell_type": "markdown",
   "metadata": {},
   "source": [
    "**Miscellania**"
   ]
  },
  {
   "cell_type": "code",
   "execution_count": 236,
   "metadata": {
    "collapsed": false
   },
   "outputs": [
    {
     "name": "stderr",
     "output_type": "stream",
     "text": [
      "/usr/local/lib/python2.7/dist-packages/numpy/core/numeric.py:190: VisibleDeprecationWarning: using a non-integer number instead of an integer will result in an error in the future\n",
      "  a = empty(shape, dtype, order)\n"
     ]
    }
   ],
   "source": [
    "##############\n",
    "#Create a numpy array at the surface to get surface information on (using parallel-friendly evaluate_global)\n",
    "##############\n",
    "\n",
    "surface_xs = np.linspace(mesh.minCoord[0], mesh.maxCoord[0], mesh.elementRes[0] + 1)\n",
    "surface_nodes = np.array(zip(surface_xs, np.ones(len(surface_xs)*mesh.maxCoord[1]))) #For evaluation surface velocity\n",
    "normgradV = velocityField.fn_gradient[0]/fn.math.sqrt(velocityField[0]*velocityField[0])\n",
    "\n",
    "tempMM = fn.view.min_max(temperatureField)\n",
    "dummy = tempMM.evaluate(mesh)\n",
    "\n"
   ]
  },
  {
   "cell_type": "code",
   "execution_count": 103,
   "metadata": {
    "collapsed": false
   },
   "outputs": [],
   "source": [
    "##############\n",
    "#These functions handle checkpointing\n",
    "##############\n",
    "\n",
    "\n",
    "#Subzone = ndp.subzone\n",
    "\n",
    "\n",
    "def checkpoint1(step, checkpointPath,filename, filewrites):\n",
    "    path = checkpointPath + str(step) \n",
    "    os.mkdir(path)\n",
    "    ##Write and save the file, if not already a writing step\n",
    "    if not step % filewrites == 0:\n",
    "        f_o.write((22*'%-15s ' + '\\n') % (areaintRock, tempintRock, rmsintRock, dwintRock, vdintRock,\n",
    "                                  areaintLith, tempintLith,rmsintLith, dwintLith, vdintLith,\n",
    "                                  areaintLower, tempintLower, rmsintLower, dwintLower, vdintLower, \n",
    "                                  vdintHinge,rmsSurf, nuTop, nuBottom, plateness, ndp.subzone, realtime))\n",
    "    filename.close()\n",
    "    shutil.copyfile(os.path.join(outputPath, outputFile), os.path.join(path, outputFile))\n",
    "\n",
    "\n",
    "def checkpoint2(step, checkpointPath, swarm, filename, varlist = [materialVariable], varnames = ['materialVariable']):\n",
    "    path = checkpointPath + str(step) \n",
    "    velfile = \"velocityField\" + \".hdf5\"\n",
    "    tempfile = \"temperatureField\" + \".hdf5\"\n",
    "    pressfile = \"pressureField\" + \".hdf5\"\n",
    "    velocityField.save(os.path.join(path, velfile))\n",
    "    temperatureField.save(os.path.join(path, tempfile))\n",
    "    pressureField.save(os.path.join(path, pressfile))\n",
    "    swarm.save(os.path.join(path, \"swarm.h5\") ) \n",
    "    for ix in range(len(varlist)):\n",
    "        varb = varlist[ix]\n",
    "        varb.save(os.path.join(path,varnames[ix] + \".h5\"))\n",
    "    \n",
    "    #Save the parameters\n",
    "    dict_list = [dp, sf, ndp, md] #if any of the dictionaries have changed, this list needs to be rebuilt\n",
    "    save_pickles(dict_list, dict_names, path)\n",
    "    "
   ]
  },
  {
   "cell_type": "code",
   "execution_count": 104,
   "metadata": {
    "collapsed": true
   },
   "outputs": [],
   "source": [
    "##############\n",
    "#These functions handle checkpointing\n",
    "##############\n",
    "\n",
    "def getnearpos(array,value):\n",
    "    idx = (np.abs(array-value)).argmin()\n",
    "    return idx \n",
    "\n",
    "def plate_info(srfilename, minx, maxx,  searchdx, oldszloc = 0.0):\n",
    "    \"\"\"\n",
    "    Use the surface strain rate field to find the location of the subduction zone in 2d\n",
    "    \n",
    "    \"\"\"\n",
    "    if type(srfilename) == str: #read surface strain rate points from file\n",
    "        sr = np.load(srfilename)\n",
    "    else:\n",
    "        sr =  srfilename        #read surface strain rates directly from array\n",
    "    xs = np.linspace(minx,maxx,sr.shape[0] )\n",
    "    #infs at the ends of the SR data...replace with adjacent values\n",
    "    sr[0] = sr[1] \n",
    "    sr[-1] = sr[2]\n",
    "    #Normalize\n",
    "    srx = (sr- sr.mean()) /(sr.max() - sr.min())\n",
    "    #reduce the search domain, to near the previous PB location\n",
    "    lx, rx = getnearpos(xs, oldszloc - searchdx),  getnearpos(xs, oldszloc + searchdx)\n",
    "    red_xs, red_sr = xs[lx:rx], srx[lx:rx]\n",
    "    #return the minima\n",
    "    newszLoc = red_xs[np.argmin(red_sr)]\n",
    "    return newszLoc "
   ]
  },
  {
   "cell_type": "code",
   "execution_count": 105,
   "metadata": {
    "collapsed": false
   },
   "outputs": [],
   "source": [
    "# initialise timer for computation\n",
    "start = time.clock()\n"
   ]
  },
  {
   "cell_type": "code",
   "execution_count": 106,
   "metadata": {
    "collapsed": false
   },
   "outputs": [],
   "source": [
    "#max_vx_surf(velocityField, mesh)"
   ]
  },
  {
   "cell_type": "markdown",
   "metadata": {},
   "source": [
    "Main simulation loop\n",
    "-----\n"
   ]
  },
  {
   "cell_type": "code",
   "execution_count": 190,
   "metadata": {
    "collapsed": false
   },
   "outputs": [
    {
     "ename": "KeyboardInterrupt",
     "evalue": "",
     "output_type": "error",
     "traceback": [
      "\u001b[1;31m\u001b[0m",
      "\u001b[1;31mKeyboardInterrupt\u001b[0mTraceback (most recent call last)",
      "\u001b[1;32m<ipython-input-190-f9c389f79938>\u001b[0m in \u001b[0;36m<module>\u001b[1;34m()\u001b[0m\n\u001b[0;32m    105\u001b[0m             \u001b[0mfnamedb\u001b[0m \u001b[1;33m=\u001b[0m \u001b[1;34m\"restrictFig\"\u001b[0m \u001b[1;33m+\u001b[0m \u001b[1;34m\"_\"\u001b[0m \u001b[1;33m+\u001b[0m \u001b[0mstr\u001b[0m\u001b[1;33m(\u001b[0m\u001b[0mstep\u001b[0m\u001b[1;33m)\u001b[0m \u001b[1;33m+\u001b[0m \u001b[1;34m\".gldb\"\u001b[0m\u001b[1;33m\u001b[0m\u001b[0m\n\u001b[0;32m    106\u001b[0m             \u001b[0mfullpath\u001b[0m \u001b[1;33m=\u001b[0m \u001b[0mos\u001b[0m\u001b[1;33m.\u001b[0m\u001b[0mpath\u001b[0m\u001b[1;33m.\u001b[0m\u001b[0mjoin\u001b[0m\u001b[1;33m(\u001b[0m\u001b[0moutputPath\u001b[0m \u001b[1;33m+\u001b[0m \u001b[1;34m\"gldbs/\"\u001b[0m \u001b[1;33m+\u001b[0m \u001b[0mfnamedb\u001b[0m\u001b[1;33m)\u001b[0m\u001b[1;33m\u001b[0m\u001b[0m\n\u001b[1;32m--> 107\u001b[1;33m             \u001b[0mfigRestrict\u001b[0m\u001b[1;33m.\u001b[0m\u001b[0msave_database\u001b[0m\u001b[1;33m(\u001b[0m\u001b[0mfullpath\u001b[0m\u001b[1;33m)\u001b[0m\u001b[1;33m\u001b[0m\u001b[0m\n\u001b[0m\u001b[0;32m    108\u001b[0m         \u001b[1;32melif\u001b[0m \u001b[0mfigures\u001b[0m \u001b[1;33m==\u001b[0m \u001b[1;34m'store'\u001b[0m\u001b[1;33m:\u001b[0m\u001b[1;33m\u001b[0m\u001b[0m\n\u001b[0;32m    109\u001b[0m             \u001b[0mfullpath\u001b[0m \u001b[1;33m=\u001b[0m \u001b[0mos\u001b[0m\u001b[1;33m.\u001b[0m\u001b[0mpath\u001b[0m\u001b[1;33m.\u001b[0m\u001b[0mjoin\u001b[0m\u001b[1;33m(\u001b[0m\u001b[0moutputPath\u001b[0m \u001b[1;33m+\u001b[0m \u001b[1;34m\"gldbs/\"\u001b[0m\u001b[1;33m)\u001b[0m\u001b[1;33m\u001b[0m\u001b[0m\n",
      "\u001b[1;32m/root/underworld2/glucifer/_glucifer.pyc\u001b[0m in \u001b[0;36msave_database\u001b[1;34m(self, filename, regen)\u001b[0m\n\u001b[0;32m    574\u001b[0m     \u001b[1;32mdef\u001b[0m \u001b[0msave_database\u001b[0m\u001b[1;33m(\u001b[0m\u001b[0mself\u001b[0m\u001b[1;33m,\u001b[0m \u001b[0mfilename\u001b[0m\u001b[1;33m,\u001b[0m \u001b[0mregen\u001b[0m\u001b[1;33m=\u001b[0m\u001b[0mTrue\u001b[0m\u001b[1;33m)\u001b[0m\u001b[1;33m:\u001b[0m\u001b[1;33m\u001b[0m\u001b[0m\n\u001b[0;32m    575\u001b[0m         \u001b[1;32mif\u001b[0m \u001b[0mregen\u001b[0m\u001b[1;33m:\u001b[0m\u001b[1;33m\u001b[0m\u001b[0m\n\u001b[1;32m--> 576\u001b[1;33m             \u001b[0mself\u001b[0m\u001b[1;33m.\u001b[0m\u001b[0m_generate_DB\u001b[0m\u001b[1;33m(\u001b[0m\u001b[1;33m)\u001b[0m\u001b[1;33m\u001b[0m\u001b[0m\n\u001b[0m\u001b[0;32m    577\u001b[0m         \u001b[1;32mreturn\u001b[0m \u001b[0mself\u001b[0m\u001b[1;33m.\u001b[0m\u001b[0mdb\u001b[0m\u001b[1;33m.\u001b[0m\u001b[0msave\u001b[0m\u001b[1;33m(\u001b[0m\u001b[0mfilename\u001b[0m\u001b[1;33m)\u001b[0m\u001b[1;33m\u001b[0m\u001b[0m\n\u001b[0;32m    578\u001b[0m \u001b[1;33m\u001b[0m\u001b[0m\n",
      "\u001b[1;32m/root/underworld2/glucifer/_glucifer.pyc\u001b[0m in \u001b[0;36m_generate_DB\u001b[1;34m(self)\u001b[0m\n\u001b[0;32m    609\u001b[0m         \u001b[1;32mif\u001b[0m \u001b[0mlen\u001b[0m\u001b[1;33m(\u001b[0m\u001b[0mself\u001b[0m\u001b[1;33m.\u001b[0m\u001b[0mdraw\u001b[0m\u001b[1;33m.\u001b[0m\u001b[0mvertices\u001b[0m\u001b[1;33m)\u001b[0m \u001b[1;33m>\u001b[0m \u001b[1;36m0\u001b[0m\u001b[1;33m:\u001b[0m\u001b[1;33m\u001b[0m\u001b[0m\n\u001b[0;32m    610\u001b[0m             \u001b[0mobjects\u001b[0m\u001b[1;33m.\u001b[0m\u001b[0mappend\u001b[0m\u001b[1;33m(\u001b[0m\u001b[0mself\u001b[0m\u001b[1;33m.\u001b[0m\u001b[0mdraw\u001b[0m\u001b[1;33m)\u001b[0m\u001b[1;33m\u001b[0m\u001b[0m\n\u001b[1;32m--> 611\u001b[1;33m         \u001b[0mself\u001b[0m\u001b[1;33m.\u001b[0m\u001b[0mdb\u001b[0m\u001b[1;33m.\u001b[0m\u001b[0m_generate\u001b[0m\u001b[1;33m(\u001b[0m\u001b[0mself\u001b[0m\u001b[1;33m.\u001b[0m\u001b[0mname\u001b[0m\u001b[1;33m,\u001b[0m \u001b[0mobjects\u001b[0m\u001b[1;33m,\u001b[0m \u001b[0mself\u001b[0m\u001b[1;33m)\u001b[0m\u001b[1;33m\u001b[0m\u001b[0m\n\u001b[0m\u001b[0;32m    612\u001b[0m \u001b[1;33m\u001b[0m\u001b[0m\n\u001b[0;32m    613\u001b[0m     \u001b[1;32mdef\u001b[0m \u001b[0m_generate_image\u001b[0m\u001b[1;33m(\u001b[0m\u001b[0mself\u001b[0m\u001b[1;33m,\u001b[0m \u001b[0mfilename\u001b[0m\u001b[1;33m=\u001b[0m\u001b[1;34m\"\"\u001b[0m\u001b[1;33m,\u001b[0m \u001b[0msize\u001b[0m\u001b[1;33m=\u001b[0m\u001b[1;33m(\u001b[0m\u001b[1;36m0\u001b[0m\u001b[1;33m,\u001b[0m\u001b[1;36m0\u001b[0m\u001b[1;33m)\u001b[0m\u001b[1;33m)\u001b[0m\u001b[1;33m:\u001b[0m\u001b[1;33m\u001b[0m\u001b[0m\n",
      "\u001b[1;32m/root/underworld2/glucifer/_glucifer.pyc\u001b[0m in \u001b[0;36m_generate\u001b[1;34m(self, figname, objects, props)\u001b[0m\n\u001b[0;32m    218\u001b[0m \u001b[1;33m\u001b[0m\u001b[0m\n\u001b[0;32m    219\u001b[0m             \u001b[1;31m# go ahead and fill db\u001b[0m\u001b[1;33m\u001b[0m\u001b[1;33m\u001b[0m\u001b[0m\n\u001b[1;32m--> 220\u001b[1;33m             \u001b[0mlibUnderworld\u001b[0m\u001b[1;33m.\u001b[0m\u001b[0mgLucifer\u001b[0m\u001b[1;33m.\u001b[0m\u001b[0m_lucDatabase_Execute\u001b[0m\u001b[1;33m(\u001b[0m\u001b[0mself\u001b[0m\u001b[1;33m.\u001b[0m\u001b[0m_db\u001b[0m\u001b[1;33m,\u001b[0m\u001b[0mNone\u001b[0m\u001b[1;33m)\u001b[0m\u001b[1;33m\u001b[0m\u001b[0m\n\u001b[0m\u001b[0;32m    221\u001b[0m \u001b[1;33m\u001b[0m\u001b[0m\n\u001b[0;32m    222\u001b[0m             \u001b[1;31m#Output any custom geometry on objects\u001b[0m\u001b[1;33m\u001b[0m\u001b[1;33m\u001b[0m\u001b[0m\n",
      "\u001b[1;31mKeyboardInterrupt\u001b[0m: "
     ]
    }
   ],
   "source": [
    "#while step < 6:\n",
    "while realtime < 0.002:\n",
    "\n",
    "    # solve Stokes and advection systems\n",
    "    solver.solve(nonLinearIterate=True)\n",
    "    dt = advDiff.get_max_dt()\n",
    "    if step == 0:\n",
    "        dt = 0.\n",
    "    advDiff.integrate(dt)\n",
    "    passiveadvector.integrate(dt)\n",
    "    slab_line.advection(dt)\n",
    "    for f in faults:\n",
    "        f.advection(dt)\n",
    "        \n",
    "    \n",
    " \n",
    "    \n",
    "    # Increment\n",
    "    realtime += dt\n",
    "    step += 1\n",
    "    timevals.append(realtime)\n",
    "    ################\n",
    "    #Update temperature field in the air region\n",
    "    #Do this better...\n",
    "    ################\n",
    "    if (step % sticky_air_temp == 0):\n",
    "        for index, coord in enumerate(mesh.data):\n",
    "            if coord[1] >= 1.:\n",
    "                temperatureField.data[index] = ndp.TSP\n",
    "\n",
    "    # Calculate the Metrics, only on 1 of the processors:\n",
    "    ################\n",
    "    if (step % metric_output == 0):\n",
    "        ###############\n",
    "        #Rebuild the restriction functions where necessary\n",
    "        ###############\n",
    "        lowerPlateRestFn = gSwarm.add_variable( dataType=\"double\", count=1 )\n",
    "        lowerPlateRestFn.data[:] = 0.0\n",
    "        update_swarm_from_line(slab_line, lowerPlateRestFn )\n",
    "        lowerPlateRestFn.data[np.where(lowerPlateRestFn.data >= -1.*fthickness)] = 1.\n",
    "        lowerPlateRestFn.data[np.where(lowerPlateRestFn.data < -1.*fthickness)] = 0. \n",
    "        lowerPlateRestFn *= lithRestFn #Add next level up in hierarchy\n",
    "        \n",
    "        ###############\n",
    "        #Metrics\n",
    "        ###############\n",
    "        areaintRock = _areaintRock.evaluate()[0] #trivial except when using sticky air\n",
    "        tempintRock = _tempintRock.evaluate()[0]\n",
    "        rmsintRock = _rmsintRock.evaluate()[0]\n",
    "        dwintRock = _dwintRock.evaluate()[0]\n",
    "        vdintRock = _vdintRock.evaluate()[0]\n",
    "        areaintLith = _areaintLith.evaluate()[0]\n",
    "        tempintLith = _tempintLith.evaluate()[0]\n",
    "        rmsintLith = _rmsintLith.evaluate()[0]\n",
    "        dwintLith = _dwintLith.evaluate()[0]\n",
    "        vdintLith = _vdintLith.evaluate()[0]\n",
    "        areaintLower = _areaintLower.evaluate()[0]\n",
    "        tempintLower = _tempintLower.evaluate()[0]\n",
    "        rmsintLower = _rmsintLower.evaluate()[0]\n",
    "        dwintLower = _dwintLower.evaluate()[0]\n",
    "        vdintLower = _vdintLower.evaluate()[0]\n",
    "        vdintHinge = _vdintHinge.evaluate()[0]\n",
    "        #Surface integrals\n",
    "        rmsSurf = _rmsSurf.evaluate()[0]\n",
    "        nuTop = _nuTop.evaluate()[0]\n",
    "        nuBottom = _nuBottom.evaluate()[0]\n",
    "        plateness = _plateness.evaluate()[0]\n",
    "        #extrema\n",
    "        maxVel = _maxMinVel.max_global()\n",
    "        minVel = _maxMinVel.min_global() \n",
    "        maxSr = _maxMinSr.max_global()\n",
    "        minSr = _maxMinSr.min_global()\n",
    "        maxVxsurf = _maxMinVxSurf.max_global()\n",
    "        minVxsurf = _maxMinVxSurf.min_global()\n",
    "        # output to summary text file\n",
    "        if uw.rank()==0:\n",
    "            f_o.write((22*'%-15s ' + '\\n') % (areaintRock, tempintRock, rmsintRock, dwintRock, vdintRock,\n",
    "                                  areaintLith, tempintLith,rmsintLith, dwintLith, vdintLith,\n",
    "                                  areaintLower, tempintLower, rmsintLower, dwintLower, vdintLower, \n",
    "                                  vdintHinge,rmsSurf, nuTop, nuBottom, plateness, ndp.subzone, realtime))\n",
    "    ################\n",
    "    #Also repopulate entire swarm periodically\n",
    "    ################\n",
    "    #if step % swarm_repop == 0:\n",
    "    population_control.repopulate()   \n",
    "    ################\n",
    "    #Checkpoint\n",
    "    ################\n",
    "    if step % checkpoint_every == 0:\n",
    "        if uw.rank() == 0:\n",
    "            checkpoint1(step, checkpointPath,f_o, metric_output)           \n",
    "        checkpoint2(step, checkpointPath, gSwarm, f_o, varlist = varlist, varnames = varnames)\n",
    "        f_o = open(os.path.join(outputPath, outputFile), 'a') #is this line supposed to be here?\n",
    "    ################\n",
    "    #Gldb output\n",
    "    ################ \n",
    "    if (step % gldbs_output == 0): \n",
    "        if figures == 'gldb':\n",
    "            #Remember to rebuild any necessary swarm variables\n",
    "            fnamedb = \"dbFig\" + \"_\" + str(step) + \".gldb\"\n",
    "            fullpath = os.path.join(outputPath + \"gldbs/\" + fnamedb)\n",
    "            figDb.save_database(fullpath)\n",
    "            \n",
    "            #Temp figure\n",
    "            fnamedb = \"restrictFig\" + \"_\" + str(step) + \".gldb\"\n",
    "            fullpath = os.path.join(outputPath + \"gldbs/\" + fnamedb)\n",
    "            figRestrict.save_database(fullpath)\n",
    "        elif figures == 'store':      \n",
    "            fullpath = os.path.join(outputPath + \"gldbs/\")\n",
    "            store.step = step\n",
    "            #Save figures to store\n",
    "            figVisc.save( fullpath + \"Visc\" + str(step).zfill(4))\n",
    "            #figMech.save( fullPath + \"Mech\" + str(step).zfill(4))\n",
    "            figTemp.save( fullpath + \"Temp\"    + str(step).zfill(4))\n",
    "    ################\n",
    "    #Files output\n",
    "    ################ \n",
    "    if (step % files_output == 0):\n",
    "\n",
    "        vel_surface = velocityField.evaluate_global(surface_nodes)\n",
    "        norm_surface_sr = normgradV.evaluate_global(surface_nodes)\n",
    "        if uw.rank() == 0:\n",
    "            fnametemp = \"velsurface\" + \"_\" + str(step)\n",
    "            fullpath = os.path.join(outputPath + \"files/\" + fnametemp)\n",
    "            np.save(fullpath, vel_surface)\n",
    "            fnametemp = \"norm_surface_sr\" + \"_\" + str(step)\n",
    "            fullpath = os.path.join(outputPath + \"files/\" + fnametemp)\n",
    "            np.save(fullpath, norm_surface_sr)\n",
    "            \n",
    "        #Save the slab_lineand tipswarm coords \n",
    "        fnametemp1 = \"midSwarm\" + \"_\" + str(step)\n",
    "        fullpath1 = os.path.join(outputPath + \"files/\" + fnametemp1)\n",
    "        slab_line.swarm.save(fullpath1)\n",
    "        #tipVar.data[:,:2] = velocityField.evaluate(tipSwarm)\n",
    "        #tipVar.data[:,2:] = xFn.evaluate(tipSwarm)\n",
    "        #tipVar.data[:,3:] = yFn.evaluate(tipSwarm)\n",
    "        #comm.barrier()\n",
    "        #fnametemp2 = \"tipSwarm\" + \"_\" + str(step)\n",
    "        #fullpath2 = os.path.join(outputPath + \"files/\" + fnametemp2)\n",
    "        #tipVar.save('fullpath2')\n",
    "            \n",
    "    ################\n",
    "    #Update the subduction zone / plate information\n",
    "    ################ \n",
    "    \n",
    "    comm.barrier()\n",
    "    if (step % files_output == 0):\n",
    "        \n",
    "        if uw.rank() == 0:\n",
    "            fnametemp = \"norm_surface_sr\" + \"_\" + str(step) + \".npy\"\n",
    "            fullpath = os.path.join(outputPath + \"files/\" + fnametemp)\n",
    "            ndp.subzone = plate_info(fullpath, MINX, MAXX,  800e3/dp.LS, oldszloc = ndp.subzone)\n",
    "            \n",
    "        else:\n",
    "            ndp.subzone = None\n",
    "        \n",
    "        comm.barrier()    \n",
    "        #send out the updated info for sz location\n",
    "        \n",
    "        ndp.subzone = comm.bcast(ndp.subzone, root=0)\n",
    "\n",
    "        #Has the polarity reversed?\n",
    "\n",
    "        if dp.sense == 'right':\n",
    "            tempop = operator.lt\n",
    "            szoffet *= -1\n",
    "        else:\n",
    "            tempop = operator.gt\n",
    "            \n",
    "        #Update the relevant parts of the material graph\n",
    "        #Remove and rebuild edges related to crust\n",
    "        DG.remove_edges_from([(mantleIndex,crustIndex)])\n",
    "        DG.add_edges_from([(mantleIndex,crustIndex)])\n",
    "        DG.remove_edges_from([(harzIndex,crustIndex)])\n",
    "        DG.add_edges_from([(harzIndex,crustIndex)])\n",
    "\n",
    "        #... to crust\n",
    "        DG.add_transition((mantleIndex,crustIndex), depthFn, operator.lt, 0.5)\n",
    "        DG.add_transition((mantleIndex,crustIndex), xFn, tempop , ndp.subzone) #No crust on the upper plate\n",
    "        DG.add_transition((mantleIndex,crustIndex), ageVariable, operator.gt, 0.2)\n",
    "\n",
    "        DG.add_transition((harzIndex,crustIndex), depthFn, operator.lt, ndp.MANTLETOCRUST)\n",
    "        DG.add_transition((harzIndex,crustIndex), xFn, tempop, ndp.subzone) #This one sets no crust on the upper plate\n",
    "        DG.add_transition((harzIndex,crustIndex), ageVariable, operator.gt, crustageCond)\n",
    "        \n",
    "        comm.barrier()\n",
    "                   \n",
    "    \n",
    "    ################\n",
    "    #Particle update\n",
    "    ###############    \n",
    "    #ageVariable.data[:] += dt #increment the ages (is this efficient?)\n",
    "    ageDT += dt\n",
    "    \n",
    "    if step % swarm_update == 0:\n",
    "        #Increment age stuff. \n",
    "        ageConditions = [ (depthFn < ndp.AGETRACKDEPTH, ageVariable + ageDT ),  #add ageDThere\n",
    "                  (True, 0.) ]\n",
    "        ageVariable.data[:] = fn.branching.conditional( ageConditions ).evaluate(gSwarm)        \n",
    "        ageDT = 0. #reset the age incrementer\n",
    "        \n",
    "        #Apply any materialVariable changes\n",
    "        for i in range(2): #go through twice\n",
    "            materialVariable.data[:] = fn.branching.conditional(DG.condition_list).evaluate(gSwarm)\n",
    "        \n",
    "        #Also update any information related to faults:\n",
    "        update_swarm_from_faults(faults[1:], proximityVariable, directorVector, signedDistanceVariable)\n",
    "        mask_materials(faults[1], airIndex, materialVariable, proximityVariable, directorVector, signedDistanceVariable)\n",
    "\n",
    "        update_swarm_from_faults(faults[0:-1], proximityVariable, directorVector, signedDistanceVariable)\n",
    "        mask_materials(faults[0], crustIndex, materialVariable, proximityVariable, directorVector, signedDistanceVariable)\n",
    "        \n",
    "        proximityVariable.data[gSwarm.particleCoordinates.data[:,1]  < (1. - ndp.CRUSTVISCUTOFF)] = 0.\n",
    "            \n",
    "    \n",
    "\n",
    "    \n",
    "f_o.close()\n",
    "print 'step =',step"
   ]
  },
  {
   "cell_type": "code",
   "execution_count": 239,
   "metadata": {
    "collapsed": false
   },
   "outputs": [],
   "source": [
    "vxTi = velocityField[0].evaluate(surface_nodes)\n",
    "vxIso = velocityFieldIso[0].evaluate(surface_nodes)"
   ]
  },
  {
   "cell_type": "code",
   "execution_count": 240,
   "metadata": {
    "collapsed": false
   },
   "outputs": [
    {
     "name": "stdout",
     "output_type": "stream",
     "text": [
      "Populating the interactive namespace from numpy and matplotlib\n"
     ]
    },
    {
     "name": "stderr",
     "output_type": "stream",
     "text": [
      "/usr/local/lib/python2.7/dist-packages/ipykernel/pylab/config.py:66: DeprecationWarning: metadata {'config': True} was set from the constructor.  Metadata should be set using the .tag() method, e.g., Int().tag(key1='value1', key2='value2')\n",
      "  inline backend.\"\"\"\n",
      "/usr/local/lib/python2.7/dist-packages/ipykernel/pylab/config.py:71: DeprecationWarning: metadata {'config': True} was set from the constructor.  Metadata should be set using the .tag() method, e.g., Int().tag(key1='value1', key2='value2')\n",
      "  'retina', 'jpeg', 'svg', 'pdf'.\"\"\")\n",
      "/usr/local/lib/python2.7/dist-packages/ipykernel/pylab/config.py:85: DeprecationWarning: metadata {'config': True} was set from the constructor.  Metadata should be set using the .tag() method, e.g., Int().tag(key1='value1', key2='value2')\n",
      "  use `figure_formats` instead)\"\"\")\n",
      "/usr/local/lib/python2.7/dist-packages/ipykernel/pylab/config.py:95: DeprecationWarning: metadata {'config': True} was set from the constructor.  Metadata should be set using the .tag() method, e.g., Int().tag(key1='value1', key2='value2')\n",
      "  \"\"\"\n",
      "/usr/local/lib/python2.7/dist-packages/ipykernel/pylab/config.py:114: DeprecationWarning: metadata {'config': True} was set from the constructor.  Metadata should be set using the .tag() method, e.g., Int().tag(key1='value1', key2='value2')\n",
      "  \"\"\")\n",
      "/usr/local/lib/python2.7/dist-packages/ipykernel/pylab/config.py:44: DeprecationWarning: InlineBackend._config_changed is deprecated: use @observe and @unobserve instead.\n",
      "  def _config_changed(self, name, old, new):\n",
      "/usr/local/lib/python2.7/dist-packages/traitlets/traitlets.py:770: DeprecationWarning: A parent of InlineBackend._config_changed has adopted the new @observe(change) API\n",
      "  clsname, change_or_name), DeprecationWarning)\n",
      "WARNING: pylab import has clobbered these variables: ['f', 'rank', 'step', 'axis']\n",
      "`%matplotlib` prevents importing * from pylab and numpy\n"
     ]
    }
   ],
   "source": [
    "%pylab inline"
   ]
  },
  {
   "cell_type": "code",
   "execution_count": 248,
   "metadata": {
    "collapsed": false
   },
   "outputs": [
    {
     "data": {
      "text/plain": [
       "[<matplotlib.lines.Line2D at 0x7fdebfe9c110>]"
      ]
     },
     "execution_count": 248,
     "metadata": {},
     "output_type": "execute_result"
    },
    {
     "data": {
      "image/png": "[encoded data removed]",
      "text/plain": [
       "<matplotlib.figure.Figure at 0x7fdec0058290>"
      ]
     },
     "metadata": {},
     "output_type": "display_data"
    }
   ],
   "source": [
    "fig, axes = plt.subplots(figsize=(16,4))\n",
    "axes.plot(vxTi)\n",
    "axes.plot(vxIso)\n"
   ]
  },
  {
   "cell_type": "code",
   "execution_count": 256,
   "metadata": {
    "collapsed": false
   },
   "outputs": [
    {
     "data": {
      "text/plain": [
       "<matplotlib.text.Text at 0x7fdebd5eaad0>"
      ]
     },
     "execution_count": 256,
     "metadata": {},
     "output_type": "execute_result"
    },
    {
     "data": {
      "image/png": "[encoded data removed]",
      "text/plain": [
       "<matplotlib.figure.Figure at 0x7fdebd55dc10>"
      ]
     },
     "metadata": {},
     "output_type": "display_data"
    }
   ],
   "source": [
    "fig, axes = plt.subplots(figsize=(16,4))\n",
    "#axes.plot(vxTi)\n",
    "axes.plot(surface_xs, vxTi - vxIso)\n",
    "fig.savefig('Ti_minus_Iso.png')\n",
    "plt.title('surface velocity residual - T. Iso minus Iso. weak zone')"
   ]
  },
  {
   "cell_type": "code",
   "execution_count": 249,
   "metadata": {
    "collapsed": true
   },
   "outputs": [],
   "source": []
  },
  {
   "cell_type": "code",
   "execution_count": null,
   "metadata": {
    "collapsed": true
   },
   "outputs": [],
   "source": []
  }
 ],
 "metadata": {
  "kernelspec": {
   "display_name": "Python 2",
   "language": "python",
   "name": "python2"
  },
  "language_info": {
   "codemirror_mode": {
    "name": "ipython",
    "version": 2
   },
   "file_extension": ".py",
   "mimetype": "text/x-python",
   "name": "python",
   "nbconvert_exporter": "python",
   "pygments_lexer": "ipython2",
   "version": "2.7.9"
  },
  "widgets": {
   "state": {},
   "version": "1.1.2"
  }
 },
 "nbformat": 4,
 "nbformat_minor": 0
}
