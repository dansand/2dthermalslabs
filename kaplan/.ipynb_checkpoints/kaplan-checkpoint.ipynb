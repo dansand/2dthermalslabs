{
 "cells": [
  {
   "cell_type": "markdown",
   "metadata": {},
   "source": [
    "## Thermal subduction, linear rheology:\n",
    "\n",
    "\n",
    "The viscous rheology in this model is similar to the models described in the PhD thesis of Micheal Kaplan\n",
    "\n",
    "\n",
    "\n",
    "**Keywords:** subduction, thermally-activated creep, \n",
    "\n",
    "\n",
    "**References:**\n",
    "\n",
    "\n",
    "Kaplan, Michael. Numerical Geodynamics of Solid Planetary Deformation. Diss. University of Southern California, 2015."
   ]
  },
  {
   "cell_type": "code",
   "execution_count": 68,
   "metadata": {
    "collapsed": false
   },
   "outputs": [],
   "source": [
    "import numpy as np\n",
    "import underworld as uw\n",
    "import math\n",
    "from underworld import function as fn\n",
    "import glucifer\n",
    "\n",
    "import os\n",
    "import sys\n",
    "import natsort\n",
    "import shutil\n",
    "from easydict import EasyDict as edict\n",
    "import operator\n",
    "import pint\n",
    "import time\n",
    "import operator\n",
    "from slippy2 import boundary_layer2d\n",
    "from slippy2 import material_graph\n",
    "from slippy2 import spmesh\n",
    "from slippy2 import phase_function\n",
    "\n",
    "from mpi4py import MPI\n",
    "comm = MPI.COMM_WORLD\n",
    "rank = comm.Get_rank()"
   ]
  },
  {
   "cell_type": "markdown",
   "metadata": {},
   "source": [
    "Model name and directories\n",
    "-----"
   ]
  },
  {
   "cell_type": "code",
   "execution_count": 69,
   "metadata": {
    "collapsed": true
   },
   "outputs": [],
   "source": [
    "############\n",
    "#Model name.  \n",
    "############\n",
    "Model = \"T\"\n",
    "ModNum = 0\n",
    "\n",
    "if len(sys.argv) == 1:\n",
    "    ModIt = \"Base\"\n",
    "elif sys.argv[1] == '-f':\n",
    "    ModIt = \"Base\"\n",
    "else:\n",
    "    ModIt = str(sys.argv[1])"
   ]
  },
  {
   "cell_type": "code",
   "execution_count": 70,
   "metadata": {
    "collapsed": false
   },
   "outputs": [],
   "source": [
    "###########\n",
    "#Standard output directory setup\n",
    "###########\n",
    "\n",
    "\n",
    "outputPath = \"results\" + \"/\" +  str(Model) + \"/\" + str(ModNum) + \"/\" + str(ModIt) + \"/\"\n",
    "imagePath = outputPath + 'images/'\n",
    "filePath = outputPath + 'files/'\n",
    "checkpointPath = outputPath + 'checkpoint/'\n",
    "dbPath = outputPath + 'gldbs/'\n",
    "outputFile = 'results_model' + Model + '_' + str(ModNum) + '_' + str(ModIt) + '.dat'\n",
    "\n",
    "if uw.rank()==0:\n",
    "    # make directories if they don't exist\n",
    "    if not os.path.isdir(outputPath):\n",
    "        os.makedirs(outputPath)\n",
    "    if not os.path.isdir(checkpointPath):\n",
    "        os.makedirs(checkpointPath)\n",
    "    if not os.path.isdir(imagePath):\n",
    "        os.makedirs(imagePath)\n",
    "    if not os.path.isdir(dbPath):\n",
    "        os.makedirs(dbPath)\n",
    "    if not os.path.isdir(filePath):\n",
    "        os.makedirs(filePath)\n",
    "        \n",
    "comm.Barrier() #Barrier here so no procs run the check in the next cell too early"
   ]
  },
  {
   "cell_type": "code",
   "execution_count": 71,
   "metadata": {
    "collapsed": false
   },
   "outputs": [
    {
     "name": "stdout",
     "output_type": "stream",
     "text": [
      "results/T/0/Base/checkpoint/ is empty\n"
     ]
    }
   ],
   "source": [
    "###########\n",
    "#Check if starting from checkpoint\n",
    "###########\n",
    "\n",
    "checkdirs = []\n",
    "for dirpath, dirnames, files in os.walk(checkpointPath):\n",
    "    if files:\n",
    "        print dirpath, 'has files'\n",
    "        checkpointLoad = True\n",
    "        checkdirs.append(dirpath)\n",
    "    if not files:\n",
    "        print dirpath, 'is empty'\n",
    "        checkpointLoad = False"
   ]
  },
  {
   "cell_type": "markdown",
   "metadata": {},
   "source": [
    "Setup parameters\n",
    "-----\n",
    "\n",
    "Set simulation parameters for test."
   ]
  },
  {
   "cell_type": "markdown",
   "metadata": {},
   "source": [
    "**Use pint to setup any unit conversions we'll need**"
   ]
  },
  {
   "cell_type": "code",
   "execution_count": 72,
   "metadata": {
    "collapsed": false
   },
   "outputs": [
    {
     "data": {
      "text/html": [
       "10000.0 meter/megayear"
      ],
      "text/latex": [
       "$10000.0 \\frac{meter}{megayear}$"
      ],
      "text/plain": [
       "<Quantity(10000.0, 'meter / megayear')>"
      ]
     },
     "execution_count": 72,
     "metadata": {},
     "output_type": "execute_result"
    }
   ],
   "source": [
    "u = pint.UnitRegistry()\n",
    "cmpery = 1.*u.cm/u.year\n",
    "mpermy = 1.*u.m/u.megayear\n",
    "year = 1.*u.year\n",
    "spery = year.to(u.sec)\n",
    "cmpery.to(mpermy)"
   ]
  },
  {
   "cell_type": "code",
   "execution_count": 73,
   "metadata": {
    "collapsed": false
   },
   "outputs": [
    {
     "name": "stdout",
     "output_type": "stream",
     "text": [
      "(0.04, 1.2675505856327397e-11)\n"
     ]
    }
   ],
   "source": [
    "box_half_width =4000e3\n",
    "age_at_trench = 100e6\n",
    "cmperyear = box_half_width / age_at_trench #m/y\n",
    "mpersec = cmperyear*(cmpery.to(u.m/u.second)).magnitude #m/sec\n",
    "print(cmperyear, mpersec )"
   ]
  },
  {
   "cell_type": "markdown",
   "metadata": {},
   "source": [
    "**Set parameter dictionaries**"
   ]
  },
  {
   "cell_type": "code",
   "execution_count": 74,
   "metadata": {
    "collapsed": false
   },
   "outputs": [],
   "source": [
    "###########\n",
    "#Store the physical parameters, scale factors and dimensionless pramters in easyDicts\n",
    "#Mainly helps with avoiding overwriting variables\n",
    "###########\n",
    "\n",
    "\n",
    "#Style => parameters_like_this\n",
    "\n",
    "dp = edict({'LS':670.*1e3, #Scaling Length scale\n",
    "            'depth':670*1e3, #Depth of domain\n",
    "           'rho':3300.,  #reference density\n",
    "           'g':9.8, #surface gravity\n",
    "           'eta0':1.2e20, #Dislocation creep at 250 km, 1573 K, 1e-15 s-1 \n",
    "           'k':1e-6, #thermal diffusivity\n",
    "           'a':3e-5, #surface thermal expansivity\n",
    "           'TP':1673., #mantle potential temp (K)\n",
    "           'TS':273., #surface temp (K)\n",
    "           'cohesion':80e6, #cohesion in scalar yield function\n",
    "           'fc':0.03,   #friction coefficient in yield function(tan(phi))\n",
    "           'Adf':3e-11, #pre-exp factor for diffusion creep\n",
    "           'Edf':1e5,\n",
    "           #'Vdf':4e-6,\n",
    "           #'Elm':2.0e5,\n",
    "           #'Vlm':1.1e-6,\n",
    "           #'SR':1e-15,\n",
    "           #'rDepth':250e3, #reference depth (used to scale / normalize the flow laws)\n",
    "           'R':8.314, #gas constant\n",
    "           #'Cp':1250., #Specific heat (Jkg-1K-1)\n",
    "           'StALS':100e3, #depth of sticky air layer\n",
    "           'plate_vel':4})\n",
    "\n",
    "#Adiabatic heating stuff\n",
    "#dp.dTa = (dp.a*dp.g*(dp.TP))/dp.Cp #adibatic gradient, at Tp\n",
    "#dp.deltaTa = (dp.TP + dp.dTa*dp.LS) - dp.TS  #Adiabatic Temp at base of mantle, minus Ts\n",
    "dp.deltaT = dp.TP - dp.TS\n",
    "#dp.rTemp= dp.TP + dp.rDepth*dp.dTa #reference temp, (potential temp + adiabat)\n",
    "\n",
    "\n",
    "#scale_factors\n",
    "\n",
    "sf = edict({'stress':dp.LS**2/(dp.k*dp.eta0),\n",
    "            'lith_grad':dp.rho*dp.g*(dp.LS)**3/(dp.eta0*dp.k) , \n",
    "            'vel':dp.LS/dp.k,\n",
    "            'SR':dp.LS**2/dp.k,\n",
    "            #'W':(-1./dp.Ba)*(np.log(1.-dp.rho*dp.g*dp.Ba*dp.LS))/(dp.R*dp.deltaTa), #Including adiabatic compression, and deltaTa\n",
    "            #'E': 1./(dp.R*dp.deltaT), #using deltaTa, the guesstimated adiabatic temp differnnce to scale these paramters\n",
    "            #'Ads':(dp.eta0**(ndp.n-2))*((dp.k)**(ndp.n-1))*((dp.LS)**(2. - 2*ndp.n))       \n",
    "           })\n",
    "\n",
    "#dimensionless parameters\n",
    "\n",
    "ndp = edict({'RA':(dp.g*dp.rho*dp.a*(dp.TP - dp.TS)*(dp.LS)**3)/(dp.k*dp.eta0),\n",
    "            'cohesion':dp.cohesion*sf.stress,\n",
    "            'fcd':dp.fc*sf.lith_grad,\n",
    "            'gamma':dp.fc/(dp.a*dp.deltaT),\n",
    "            #'Wdf':dp.Vdf*sf.W,\n",
    "            'Edf':math.log(dp.Edf),\n",
    "            #'Wps':dp.Vpr*sf.W,\n",
    "            #'Eps':dp.Epr*sf.E,\n",
    "            #'Wds':dp.Vds*sf.W,\n",
    "            #'Eds':dp.Eds*sf.E,\n",
    "            #'Elm':dp.Elm*sf.E,\n",
    "            #'Elm':dp.Elm*sf.E,\n",
    "            #'Wlm':dp.Vlm*sf.W,\n",
    "            'TSP':0., \n",
    "            'TBP':1.,\n",
    "            'TPP':(dp.TP - dp.TS)/dp.deltaT, #dimensionless potential temp\n",
    "            #'rDepth':dp.rDepth/dp.LS,\n",
    "            #'rTemp':(dp.rTemp- dp.TS)/dp.deltaT,\n",
    "            #'n':3.5, #Dislocation creep stress exponent\n",
    "            'np':20., #Peierls creep stress exponent\n",
    "            'TS':dp.TS/dp.deltaT,\n",
    "            'TP':dp.TP/dp.deltaT,\n",
    "            'eta_min':1e-3, \n",
    "            'eta_max':1e5, #viscosity max in the mantle material\n",
    "            #'eta_min_crust':1e-3, #crust viscosity, if using isoviscous weak crust\n",
    "            #'eta_max_crust':0.3, #viscosity max in the weak-crust material\n",
    "            #'H':0.,\n",
    "            #'Tmvp':0.6,\n",
    "            #'Di': dp.a*dp.g*dp.LS/dp.Cp, #Dissipation number\n",
    "            'Steta0':5e-2,\n",
    "            'plate_vel':sf.vel*dp.plate_vel*(cmpery.to(u.m/u.second)).magnitude,\n",
    "            'low_mantle_visc_fac':10.,\n",
    "            'crust_cohesion_fac':0.01,\n",
    "            #'crust_fc_fac':0.01\n",
    "            })\n",
    "\n",
    "\n",
    "\n",
    "#Make some further additions to paramter dictionaries\n",
    "\n",
    "#dp.VR = (0.1*(dp.k/dp.LS)*ndp.RA**(2/3.)) #characteristic velocity from a scaling relationship\n",
    "#dp.SR = dp.VR/dp.LS #characteristic strain rate\n",
    "#ndp.VR = dp.VR*sf.vel #characteristic velocity\n",
    "#ndp.SR = dp.SR*sf.SR #characteristic strain rate\n",
    "\n",
    "\n",
    "#ndp.SR = dp.SR*sf.SR #characteristic strain rate\n",
    "\n",
    "ndp.StRA = (3300.*dp.g*(dp.LS)**3)/(dp.eta0 *dp.k) #Composisitional Rayleigh number for rock-air buoyancy force\n",
    "#ndp.TaP = 1. - ndp.TPP,  #Dimensionles adiabtic component of delta t"
   ]
  },
  {
   "cell_type": "code",
   "execution_count": 75,
   "metadata": {
    "collapsed": false
   },
   "outputs": [
    {
     "data": {
      "text/plain": [
       "2431668.8550000004"
      ]
     },
     "execution_count": 75,
     "metadata": {},
     "output_type": "execute_result"
    }
   ],
   "source": [
    "t1 = 2918002.6260000006\n",
    "ndp.fcd"
   ]
  },
  {
   "cell_type": "code",
   "execution_count": 76,
   "metadata": {
    "collapsed": false
   },
   "outputs": [
    {
     "data": {
      "text/plain": [
       "3404336.397000001"
      ]
     },
     "execution_count": 76,
     "metadata": {},
     "output_type": "execute_result"
    }
   ],
   "source": [
    "#40000./sf.vel, \n",
    "ndp.RA\n",
    "#ndp.plate_vel\n",
    "#ndp.Edf\n",
    "#3404336."
   ]
  },
  {
   "cell_type": "code",
   "execution_count": 77,
   "metadata": {
    "collapsed": false
   },
   "outputs": [],
   "source": [
    "#(4.0065172577e-06*sf.SR)/(3600.*24*365)"
   ]
  },
  {
   "cell_type": "code",
   "execution_count": 78,
   "metadata": {
    "collapsed": false
   },
   "outputs": [
    {
     "data": {
      "text/plain": [
       "(2263.019582399744, 849.2588923739356, 3404336.397000001, 1400.0)"
      ]
     },
     "execution_count": 78,
     "metadata": {},
     "output_type": "execute_result"
    }
   ],
   "source": [
    "dp.CVR = (0.1*(dp.k/dp.LS)*ndp.RA**(2/3.))\n",
    "ndp.CVR = dp.CVR*sf.vel #characteristic velocity\n",
    "ndp.CVR, ndp.plate_vel, ndp.RA , (dp.TP - dp.TS)\n"
   ]
  },
  {
   "cell_type": "code",
   "execution_count": 79,
   "metadata": {
    "collapsed": false
   },
   "outputs": [],
   "source": [
    "###########\n",
    "#lengths scales for various processes (material transistions etc.)\n",
    "###########\n",
    "\n",
    "MANTLETOCRUST = (8.*1e3)/dp.LS #Crust depth\n",
    "HARZBURGDEPTH = MANTLETOCRUST + (27.7e3/dp.LS)\n",
    "CRUSTTOMANTLE = (800.*1e3)/dp.LS\n",
    "LITHTOMANTLE = (900.*1e3)/dp.LS\n",
    "MANTLETOLITH = (200.*1e3)/dp.LS\n",
    "TOPOHEIGHT = (10.*1e3)/dp.LS  #rock-air topography limits\n",
    "CRUSTTOECL  = (100.*1e3)/dp.LS\n",
    "#AVGTEMP = ndp.TPP #Used to define lithosphere\n",
    "LOWMANTLEDEPTH = (660.*1e3)/dp.LS \n",
    "CRUSTVISCUTOFF = (100.*1e3)/dp.LS #Deeper than this, crust material rheology reverts to mantle rheology\n",
    "AGETRACKDEPTH = 100e3/dp.LS #above this depth we track the age of the lithsphere (below age is assumed zero)\n"
   ]
  },
  {
   "cell_type": "code",
   "execution_count": 80,
   "metadata": {
    "collapsed": false
   },
   "outputs": [],
   "source": [
    "#MINX"
   ]
  },
  {
   "cell_type": "markdown",
   "metadata": {},
   "source": [
    "**Model setup parameters**"
   ]
  },
  {
   "cell_type": "code",
   "execution_count": 81,
   "metadata": {
    "collapsed": false
   },
   "outputs": [],
   "source": [
    "###########\n",
    "#Model setup parameters\n",
    "###########\n",
    "\n",
    "#Modelling and Physics switches\n",
    "refineMesh = True\n",
    "stickyAir = False\n",
    "meltViscosityReduction = False\n",
    "symmetricIC = False\n",
    "VelBC = False\n",
    "aspectRatio = 4\n",
    "compBuoyancy = False #use compositional & phase buoyancy, or simply thermal\n",
    "viscMechs = ['diffusion', 'dislocation', 'peierls', 'yielding']\n",
    "viscCombine = 'harmonic' #'harmonic', 'min', 'mixed'....\n",
    "\n",
    "#Domain and Mesh paramters\n",
    "dim = 2          # number of spatial dimensions\n",
    "\n",
    "tot_depth = np.round(dp.depth/dp.LS, 3)\n",
    "\n",
    "#These options allow us to explore the choice of different length scalings\n",
    "\n",
    "if tot_depth == 1.: #Depth equal to length scale\n",
    "    MINY = 0.\n",
    "    MAXY = 1.\n",
    "elif tot_depth > 1.: #Depth larger than to length scale\n",
    "    MINY = 0.\n",
    "    MAXY = tot_depth\n",
    "    \n",
    "elif tot_depth < 1.: #Depth smaller to length scale\n",
    "    MINY = np.round(1. - tot_depth, 3)\n",
    "    MAXY = 1.\n",
    "    \n",
    "MINX = np.round(-1.*tot_depth*aspectRatio/2., 3)  #Aspect ratio is fixed, x-domain shifts according to system depth and length scale\n",
    "\n",
    "MAXX = np.round(1.*tot_depth*aspectRatio/2., )\n",
    "\n",
    "if MINX == 0.:\n",
    "    squareModel = True\n",
    "else: \n",
    "    squareModel = False\n",
    "    \n",
    "    \n",
    "RES = 64\n",
    "Xres = int(RES*aspectRatio)\n",
    "#if MINY == 0.5:\n",
    "#    Xres = int(2.*RES*aspectRatio)\n",
    "    \n",
    "\n",
    "if stickyAir:\n",
    "    Yres = RES\n",
    "    MAXY = np.round(MAXY + dp.StALS/dp.LS, 3)\n",
    "    \n",
    "else:\n",
    "    Yres = RES\n",
    "    MAXY = np.round(MAXY, 3)\n",
    "\n",
    "periodic = [False, False]\n",
    "elementType = \"Q1/dQ0\"\n",
    "#elementType =\"Q2/DPC1\"\n",
    "\n",
    "\n",
    "#System/Solver stuff\n",
    "PIC_integration=True\n",
    "ppc = 25\n",
    "\n",
    "#Metric output stuff\n",
    "figures =  'gldb' #glucifer Store won't work on all machines, if not, set to 'gldb' \n",
    "swarm_repop, swarm_update = 10, 10\n",
    "gldbs_output = 2\n",
    "checkpoint_every, files_output = 5, 20\n",
    "metric_output = 5\n",
    "sticky_air_temp = 5"
   ]
  },
  {
   "cell_type": "code",
   "execution_count": 82,
   "metadata": {
    "collapsed": false
   },
   "outputs": [
    {
     "data": {
      "text/plain": [
       "(0.0, 2.0)"
      ]
     },
     "execution_count": 82,
     "metadata": {},
     "output_type": "execute_result"
    }
   ],
   "source": [
    "MINY, MAXY"
   ]
  },
  {
   "cell_type": "code",
   "execution_count": 83,
   "metadata": {
    "collapsed": false
   },
   "outputs": [
    {
     "data": {
      "text/plain": [
       "(0.0, 2.0, -4.0, 4.0, 2.0)"
      ]
     },
     "execution_count": 83,
     "metadata": {},
     "output_type": "execute_result"
    }
   ],
   "source": [
    "MINY, MAXY,MINX, MAXX, tot_depth"
   ]
  },
  {
   "cell_type": "markdown",
   "metadata": {},
   "source": [
    "Create mesh and finite element variables\n",
    "------"
   ]
  },
  {
   "cell_type": "code",
   "execution_count": 84,
   "metadata": {
    "collapsed": false
   },
   "outputs": [],
   "source": [
    "mesh = uw.mesh.FeMesh_Cartesian( elementType = (elementType),\n",
    "                                 elementRes  = (Xres, Yres), \n",
    "                                 minCoord    = (MINX, MINY), \n",
    "                                 maxCoord    = (MAXX, MAXY), periodic=periodic)\n",
    "\n",
    "velocityField       = uw.mesh.MeshVariable( mesh=mesh,         nodeDofCount=2 )\n",
    "pressureField       = uw.mesh.MeshVariable( mesh=mesh.subMesh, nodeDofCount=1 )\n",
    "temperatureField    = uw.mesh.MeshVariable( mesh=mesh,         nodeDofCount=1 )\n",
    "temperatureDotField = uw.mesh.MeshVariable( mesh=mesh,         nodeDofCount=1 )"
   ]
  },
  {
   "cell_type": "code",
   "execution_count": 85,
   "metadata": {
    "collapsed": true
   },
   "outputs": [],
   "source": [
    "mesh.reset()"
   ]
  },
  {
   "cell_type": "code",
   "execution_count": 86,
   "metadata": {
    "collapsed": false
   },
   "outputs": [
    {
     "name": "stdout",
     "output_type": "stream",
     "text": [
      "Min\n",
      "(256, 0.015628125, 6.000799999999999, 0.99960000000000093)\n",
      "('edges', 256)\n",
      "-- iteration 0 --\n",
      "| F( p_n ) |^2: 0.00049571230011\n",
      "| p_n+1 - p_n |^2: 34.1405068746\n",
      "-- iteration 1 --\n",
      "| F( p_n ) |^2: 1.31641163559e-29\n",
      "Min, Max element width: \n",
      "0.01563\n",
      "0.04687\n"
     ]
    }
   ],
   "source": [
    "###########\n",
    "#Mesh refinement\n",
    "###########\n",
    "\n",
    "#X-Axis\n",
    "\n",
    "if refineMesh:\n",
    "    mesh.reset()\n",
    "    axis = 0\n",
    "    origcoords = np.linspace(mesh.minCoord[axis], mesh.maxCoord[axis], mesh.elementRes[axis] + 1)\n",
    "    edge_rest_lengths = np.diff(origcoords)\n",
    "\n",
    "    deform_lengths = edge_rest_lengths.copy()\n",
    "    min_point =  (abs(mesh.maxCoord[axis]) - abs(mesh.minCoord[axis]))/2.\n",
    "    el_reduction = 0.5001\n",
    "    dx = mesh.maxCoord[axis] - min_point\n",
    "\n",
    "    deform_lengths = deform_lengths - \\\n",
    "                                    ((1.-el_reduction) *deform_lengths[0]) + \\\n",
    "                                    abs((origcoords[1:] - min_point))*((0.5*deform_lengths[0])/dx)\n",
    "\n",
    "    #print(edge_rest_lengths.shape, deform_lengths.shape)\n",
    "\n",
    "    spmesh.deform_1d(deform_lengths, mesh,axis = 'x',norm = 'Min', constraints = [])"
   ]
  },
  {
   "cell_type": "code",
   "execution_count": 87,
   "metadata": {
    "collapsed": false
   },
   "outputs": [],
   "source": [
    "axis = 1\n",
    "orgs = np.linspace(mesh.minCoord[axis], mesh.maxCoord[axis], mesh.elementRes[axis] + 1)\n",
    "\n",
    "value_to_constrain = MAXY #nodes will remain along this line\n",
    "\n",
    "\n",
    "yconst = [(spmesh.find_closest(orgs, value_to_constrain), np.array([value_to_constrain,0]))]"
   ]
  },
  {
   "cell_type": "code",
   "execution_count": 88,
   "metadata": {
    "collapsed": false,
    "scrolled": true
   },
   "outputs": [
    {
     "name": "stdout",
     "output_type": "stream",
     "text": [
      "Min\n",
      "(64, 0.015628125, 1.4923874999999998, 1.0313396825396834)\n",
      "('edges', 64)\n",
      "-- iteration 0 --\n",
      "| F( p_n ) |^2: 0.000503580749318\n",
      "| p_n+1 - p_n |^2: 2.20071501862\n",
      "-- iteration 1 --\n",
      "| F( p_n ) |^2: 1.58631627282e-30\n",
      "Min, Max element width: \n",
      "0.01563\n",
      "0.04687\n"
     ]
    }
   ],
   "source": [
    "###########\n",
    "#Mesh refinement\n",
    "###########\n",
    "\n",
    "if refineMesh:\n",
    "    #Y-Axis\n",
    "    axis = 1\n",
    "    origcoords = np.linspace(mesh.minCoord[axis], mesh.maxCoord[axis], mesh.elementRes[axis] + 1)\n",
    "    edge_rest_lengths = np.diff(origcoords)\n",
    "\n",
    "    deform_lengths = edge_rest_lengths.copy()\n",
    "    min_point =  (mesh.maxCoord[axis])\n",
    "    el_reduction = 0.5001\n",
    "    dx = mesh.maxCoord[axis]\n",
    "\n",
    "    deform_lengths = deform_lengths - \\\n",
    "                                    ((1.-el_reduction)*deform_lengths[0]) + \\\n",
    "                                    abs((origcoords[1:] - min_point))*((0.5*deform_lengths[0])/dx)\n",
    "\n",
    "    #print(edge_rest_lengths.shape, deform_lengths.shape)\n",
    "\n",
    "    spmesh.deform_1d(deform_lengths, mesh,axis = 'y',norm = 'Min', constraints = yconst)"
   ]
  },
  {
   "cell_type": "code",
   "execution_count": 89,
   "metadata": {
    "collapsed": false
   },
   "outputs": [],
   "source": [
    "#fig= glucifer.Figure()\n",
    "\n",
    "#fig.append(glucifer.objects.Mesh(mesh))\n",
    "\n",
    "#fig.show()\n",
    "#fig.save_database('test.gldb')"
   ]
  },
  {
   "cell_type": "code",
   "execution_count": 90,
   "metadata": {
    "collapsed": true
   },
   "outputs": [],
   "source": [
    "#THis is a hack for adding a sticky air domain, we refine MAXY and things like the temperature stencil work from Y = 1. \n",
    "\n",
    "if stickyAir:\n",
    "    MAXY = 1."
   ]
  },
  {
   "cell_type": "markdown",
   "metadata": {},
   "source": [
    "Initial conditions\n",
    "-------\n"
   ]
  },
  {
   "cell_type": "code",
   "execution_count": 91,
   "metadata": {
    "collapsed": false
   },
   "outputs": [],
   "source": [
    "coordinate = fn.input()\n",
    "depthFn = MAXY - coordinate[1] #a function providing the depth\n",
    "\n",
    "\n",
    "xFn = coordinate[0]  #a function providing the x-coordinate\n",
    "\n",
    "#potTempFn = ndp.TPP + (depthFn)*ndp.TaP #a function providing the adiabatic temp at any depth\n",
    "#abHeatFn = -1.*velocityField[1]*temperatureField*ndp.Di #a function providing the adiabatic heating rate"
   ]
  },
  {
   "cell_type": "code",
   "execution_count": null,
   "metadata": {
    "collapsed": false
   },
   "outputs": [],
   "source": []
  },
  {
   "cell_type": "markdown",
   "metadata": {
    "collapsed": false
   },
   "source": [
    "###########\n",
    "#Thermal initial condition:\n",
    "#if symmetricIC, we build a symmetric downwelling on top of a sinusoidal perturbation\n",
    "##########\n",
    "\n",
    "#Sinusoidal initial condition\n",
    "A = 0.2\n",
    "sinFn = depthFn + A*(fn.math.cos( math.pi * coordinate[0])  * fn.math.sin( math.pi * coordinate[1] ))        \n",
    "iD = 1000e3/dp.LS #Initial Slab depth\n",
    "dl =  2*math.sqrt(dp.k*160e6*3600*24*365) #diffusion Length at ... My\n",
    "w0 = dl/dp.LS #Boundary layer/slab initial condition\n",
    "delX1 = fn.misc.min(fn.math.abs(coordinate[0] - -0.), fn.math.abs(coordinate[0] - -2.))\n",
    "delX = fn.misc.min(delX1 , fn.math.abs(coordinate[0] - 2.))\n",
    "w = w0*fn.math.sqrt(delX + 1e-7)\n",
    "tempBL = (potTempFn) *fn.math.erf((depthFn)/w) + ndp.TSP\n",
    "delX = fn.misc.min(fn.math.abs(coordinate[0] - - 1.) , fn.math.abs(coordinate[0] - 1.))\n",
    "tempSlab = (potTempFn ) *fn.math.erf((delX*2.)/w0) + ndp.TSP       \n",
    "tempFn1 =  fn.misc.min(tempBL, tempSlab)\n",
    "blFn = fn.branching.conditional([(depthFn < iD, tempFn1), \n",
    "                                    (True, potTempFn)])\n",
    "\n",
    "tempFn = 0.*sinFn + 1.*blFn #partition the temp between these the symmetric downwelling and sinusoid\n",
    "if symmetricIC:  \n",
    "    if not checkpointLoad:\n",
    "        temperatureField.data[:] = tempFn.evaluate(mesh)  "
   ]
  },
  {
   "cell_type": "code",
   "execution_count": 92,
   "metadata": {
    "collapsed": false
   },
   "outputs": [],
   "source": [
    "\n",
    "def age_fn(xFn, sz = 0.0, lMOR=MINX, rMOR=MAXX, opFac=1., conjugate_plate = False):\n",
    "    \"\"\"\n",
    "    Simple function to generate a discrete 1-d (i.e x-coordinate) function for the age of the thermal BC. \n",
    "    All paramters are dimensionless\n",
    "    sz: location of subduction zone\n",
    "    lMOR: location of left-hand MOR\n",
    "    rMOR: location of right-hand MOR\n",
    "    opFac: uniform reduce the age of the right hand plate by this factor\n",
    "    conjugate_plate: if True, build plates on the outer sides of the MORs, if False, age = 0. \n",
    "    \"\"\"\n",
    "    \n",
    "    if lMOR < MINX:\n",
    "        lMOR = MINX\n",
    "    if rMOR > MAXX:\n",
    "        rMOR = MAXX\n",
    "    r_grad =  1./(abs(rMOR-sz))\n",
    "    l_grad =  1./(abs(sz-lMOR))\n",
    "    if conjugate_plate:\n",
    "        ageFn = fn.branching.conditional([(operator.and_(xFn > lMOR, xFn < sz) , (xFn + abs(lMOR))/(abs(sz-lMOR))), \n",
    "                                      (operator.and_(xFn < rMOR, xFn >= sz), (1.-(xFn + abs(sz))/abs(rMOR-sz))*opFac),\n",
    "                                      (xFn > rMOR, r_grad*opFac*(xFn -abs(rMOR)) / (abs(MAXX-rMOR))),\n",
    "                                      (True, l_grad*fn.math.abs((((xFn + abs(lMOR)) / (abs(lMOR - MINX))))))\n",
    "                                         ])\n",
    "    else:    \n",
    "        \n",
    "        ageFn = fn.branching.conditional([(operator.and_(xFn > lMOR, xFn < sz) , (xFn + abs(lMOR))/(abs(sz-lMOR))), \n",
    "                                      (operator.and_(xFn < rMOR, xFn >= sz), (1.-(xFn + abs(sz))/abs(rMOR-sz))*opFac),\n",
    "\n",
    "                                      (True, 0.0)])\n",
    "    return ageFn"
   ]
  },
  {
   "cell_type": "code",
   "execution_count": 93,
   "metadata": {
    "collapsed": false
   },
   "outputs": [],
   "source": [
    "###########\n",
    "#Thermal initial condition 2: \n",
    "#if symmetricIC == False, we build an asymmetric subduction-zone\n",
    "###########\n",
    "\n",
    "\n",
    "\n",
    "\n",
    "#Main control paramters are:\n",
    "\n",
    "Roc = 250e3 #radius of curvature of slab\n",
    "\n",
    "theta = 70. #Angle to truncate the slab (can also do with with a cutoff depth)\n",
    "subzone = 0.0 #X position of subduction zone...in model coordinates\n",
    "slabmaxAge = 75e6 #age of subduction plate at trench\n",
    "platemaxAge = 75e6 #max age of slab (Plate model)\n",
    "ageAtTrenchSeconds = min(platemaxAge*(3600*24*365), slabmaxAge*(3600*24*365))\n",
    "\n",
    "\n",
    "sense = 'Right' #dip direction\n",
    "op_age_fac = 0.01 #this controls the overidding plate age reduction\n",
    "\n",
    "\n",
    "#First build the top TBL\n",
    "#Create functions between zero and one, to control age distribution\n",
    "\n",
    "\n",
    "\n",
    "\n",
    "\n",
    "\n",
    "#ageFn1 = fn.misc.max(0., 1. - fn.math.abs(xFn/MAXX))\n",
    "\n",
    "#ageFn  = fn.branching.conditional([(coordinate[0] <= 0, ageFn1),\n",
    " #                                 (True, ageFn1/op_age_fac)])\n",
    "    \n",
    "    \n",
    "lRidge = -0.5*(670e3*4)/dp.LS  #For depth = 670 km, aspect ratio of 4, this puts the ridges at MINX, MAXX\n",
    "rRidge = 0.5*(670e3*4)/dp.LS\n",
    "\n",
    "#ageFn = age_fn(xFn, sz = -0.5, lMOR=-2., rMOR=2.)\n",
    "ageFn = age_fn(xFn, sz =0., lMOR=lRidge,rMOR=rRidge, conjugate_plate=True, opFac = op_age_fac)\n",
    "\n",
    "#dimensionlize the age function\n",
    "ageFn *= slabmaxAge*(3600*24*365)\n",
    "#ageFn = fn.misc.min(ageFn, platemaxAge*(3600*24*365)) #apply plate model\n",
    "\n",
    "w0 = (2.*math.sqrt(dp.k*ageAtTrenchSeconds))/dp.LS #diffusion depth of plate at the trench\n",
    "\n",
    "tempBL = (ndp.TP - ndp.TS) *fn.math.erf((depthFn*dp.LS)/(2.*fn.math.sqrt(dp.k*ageFn))) + ndp.TSP #boundary layer function\n",
    "\n",
    "tempTBL =  fn.branching.conditional([(depthFn < w0, tempBL),\n",
    "                          (True, ndp.TPP)])\n",
    "\n",
    "if not symmetricIC:\n",
    "    if not checkpointLoad:\n",
    "        out = uw.utils.MeshVariable_Projection( temperatureField, tempTBL) #apply function with projection\n",
    "        out.solve()\n",
    "\n",
    "\n",
    "\n"
   ]
  },
  {
   "cell_type": "code",
   "execution_count": 94,
   "metadata": {
    "collapsed": false
   },
   "outputs": [],
   "source": [
    "#Now build the perturbation part\n",
    "def inCircleFnGenerator(centre, radius):\n",
    "    coord = fn.input()\n",
    "    offsetFn = coord - centre\n",
    "    return fn.math.dot( offsetFn, offsetFn ) < radius**2\n",
    "\n",
    "\n",
    "\n",
    "#Setup slab perturbation params (mostly dimensionlesl / model params here)\n",
    "phi = 90. - theta\n",
    "RocM = (Roc/dp.LS)\n",
    "CrustM = MANTLETOCRUST\n",
    "Org = (subzone, MAXY-RocM)\n",
    "maxDepth = 250e3/dp.LS\n",
    "\n",
    "#We use three circles to define our slab and crust perturbation,  \n",
    "Oc = inCircleFnGenerator(Org , RocM)\n",
    "Ic = inCircleFnGenerator(Org , RocM - w0)\n",
    "Cc = inCircleFnGenerator(Org , RocM - (1.2*CrustM)) #... weak zone on 'outside' of slab\n",
    "Hc = inCircleFnGenerator(Org , RocM - HARZBURGDEPTH) #... Harzburgite layer \n",
    "dx = (RocM)/(np.math.tan((np.math.pi/180.)*phi))\n",
    "\n",
    "#We'll also create a triangle which will truncate the circles defining the slab...\n",
    "if sense == 'Left':\n",
    "    ptx = subzone - dx\n",
    "else:\n",
    "    ptx = subzone + dx\n",
    "coords = ((0.+subzone, MAXY), (0.+subzone, MAXY-RocM), (ptx, MAXY))\n",
    "Tri = fn.shape.Polygon(np.array(coords))\n",
    "\n",
    "#Actually apply the perturbation - could probably avoid particle walk here\n",
    "if not symmetricIC:\n",
    "    if not checkpointLoad:\n",
    "        sdFn = ((RocM - fn.math.sqrt((coordinate[0] - Org[0])**2. + (coordinate[1] - Org[1])**2.)))\n",
    "        slabFn = ndp.TPP*fn.math.erf((sdFn*dp.LS)/(2.*math.sqrt(dp.k*ageAtTrenchSeconds))) + ndp.TSP\n",
    "        for index, coord in enumerate(mesh.data):\n",
    "            if (\n",
    "                Oc.evaluate(tuple(coord)) and\n",
    "                Tri.evaluate(tuple(coord)) and not\n",
    "                Ic.evaluate(tuple(coord)) and\n",
    "                coord[1] > (MAXY - maxDepth)\n",
    "                ): #In the quarter-circle defining the lithosphere\n",
    "                temperatureField.data[index] = slabFn.evaluate(mesh)[index]\n"
   ]
  },
  {
   "cell_type": "code",
   "execution_count": 95,
   "metadata": {
    "collapsed": false
   },
   "outputs": [
    {
     "data": {
      "text/plain": [
       "(<underworld.function._function.multiply at 0x7f29949cb350>,\n",
       " <underworld.function._function.add at 0x7f2994620950>)"
      ]
     },
     "execution_count": 95,
     "metadata": {},
     "output_type": "execute_result"
    }
   ],
   "source": [
    "sdFn = ((RocM - fn.math.sqrt((coordinate[0] - Org[0])**2. + (coordinate[1] - Org[1])**2.)))\n",
    "slabFn = ndp.TPP*fn.math.erf((sdFn*dp.LS)/(2.*math.sqrt(dp.k*ageAtTrenchSeconds))) + ndp.TSP\n",
    "sdFn, slabFn"
   ]
  },
  {
   "cell_type": "code",
   "execution_count": 96,
   "metadata": {
    "collapsed": false
   },
   "outputs": [],
   "source": [
    "#Make sure material in sticky air region is at the surface temperature.\n",
    "for index, coord in enumerate(mesh.data):\n",
    "            if coord[1] >= MAXY:\n",
    "                temperatureField.data[index] = ndp.TSP"
   ]
  },
  {
   "cell_type": "code",
   "execution_count": 97,
   "metadata": {
    "collapsed": false
   },
   "outputs": [
    {
     "data": {
      "text/plain": [
       "(0.14925373134328357, 0.03582089552238806)"
      ]
     },
     "execution_count": 97,
     "metadata": {},
     "output_type": "execute_result"
    }
   ],
   "source": [
    "#fn.math.erf((sdFn*dp.LS)/(2.*fn.math.sqrt(dp.k*(slabmaxAge*(3600*24*365))))) \n",
    "CRUSTVISCUTOFF, MANTLETOCRUST*3"
   ]
  },
  {
   "cell_type": "markdown",
   "metadata": {
    "collapsed": false
   },
   "source": [
    "def matplot_field(temperatureField, dp):\n",
    "    if uw.nProcs() != 1:\n",
    "        print(\"only in Serial folks\")\n",
    "    else:\n",
    "        import matplotlib.pyplot as pyplt\n",
    "        try :\n",
    "            if(__IPYTHON__) :\n",
    "                get_ipython().magic(u'matplotlib inline')\n",
    "        except NameError :\n",
    "            pass\n",
    "        field_data = temperatureField.data.reshape(mesh.elementRes[1] + 1, mesh.elementRes[0] + 1)\n",
    "        fig, ax = pyplt.subplots(figsize=(32,2))\n",
    "        ql = dp.LS/1e3\n",
    "        pyplt.ioff()\n",
    "        cax =ax.imshow(np.flipud(field_data), cmap='coolwarm', aspect = 0.5, extent=[0,ql*aspectRatio,ql, 0])\n",
    "        fig.colorbar(cax, orientation='horizontal' )\n",
    "        #ax.set_x([0,dp.LS*aspectRatio])\n",
    "        pyplt.tight_layout()\n",
    "        \n",
    "        return fig, ax\n",
    "        \n",
    "fig, ax = matplot_field(temperatureField, dp)\n",
    "fig.savefig('test.png')       "
   ]
  },
  {
   "cell_type": "code",
   "execution_count": 98,
   "metadata": {
    "collapsed": false
   },
   "outputs": [
    {
     "data": {
      "text/plain": [
       "(0.0, 1.0)"
      ]
     },
     "execution_count": 98,
     "metadata": {},
     "output_type": "execute_result"
    }
   ],
   "source": [
    "temperatureField.data.min(), temperatureField.data.max()"
   ]
  },
  {
   "cell_type": "code",
   "execution_count": null,
   "metadata": {
    "collapsed": false
   },
   "outputs": [],
   "source": [
    "\n"
   ]
  },
  {
   "cell_type": "code",
   "execution_count": 99,
   "metadata": {
    "collapsed": false
   },
   "outputs": [],
   "source": [
    "\n",
    "#ageFn = age_fn(xFn)"
   ]
  },
  {
   "cell_type": "code",
   "execution_count": 100,
   "metadata": {
    "collapsed": false
   },
   "outputs": [
    {
     "data": {
      "text/html": [
       "<img src='data:image/png;base64,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'>"
      ],
      "text/plain": [
       "<IPython.core.display.HTML object>"
      ]
     },
     "metadata": {},
     "output_type": "display_data"
    }
   ],
   "source": [
    "fig= glucifer.Figure(quality=3)\n",
    "\n",
    "fig.append( glucifer.objects.Surface(mesh,temperatureField ))\n",
    "#fig.append( glucifer.objects.Mesh(mesh))\n",
    "#fig.show()\n",
    "\n",
    "#fig.save_database('test.gldb')\n",
    "#fig.save_image('test.png')\n"
   ]
  },
  {
   "cell_type": "markdown",
   "metadata": {},
   "source": [
    "Boundary conditions\n",
    "-------"
   ]
  },
  {
   "cell_type": "code",
   "execution_count": 101,
   "metadata": {
    "collapsed": false
   },
   "outputs": [
    {
     "name": "stdout",
     "output_type": "stream",
     "text": [
      "2\n"
     ]
    }
   ],
   "source": [
    "for index in mesh.specialSets[\"MinJ_VertexSet\"]:\n",
    "    temperatureField.data[index] = ndp.TBP\n",
    "for index in mesh.specialSets[\"MaxJ_VertexSet\"]:\n",
    "    temperatureField.data[index] = ndp.TSP\n",
    "    \n",
    "iWalls = mesh.specialSets[\"MinI_VertexSet\"] + mesh.specialSets[\"MaxI_VertexSet\"]\n",
    "jWalls = mesh.specialSets[\"MinJ_VertexSet\"] + mesh.specialSets[\"MaxJ_VertexSet\"]\n",
    "tWalls = mesh.specialSets[\"MaxJ_VertexSet\"]\n",
    "bWalls =mesh.specialSets[\"MinJ_VertexSet\"]\n",
    "\n",
    "VelBCs = mesh.specialSets[\"Empty\"]\n",
    "\n",
    "\n",
    "\n",
    "if VelBC:\n",
    "    for index in list(tWalls.data):\n",
    "\n",
    "        if (mesh.data[int(index)][0] < (subzone - 0.05*aspectRatio) and \n",
    "            mesh.data[int(index)][0] > (mesh.minCoord[0] + 0.05*aspectRatio)): #Only push with a portion of teh overiding plate\n",
    "            #print \"first\"\n",
    "            VelBCs.add(int(index))\n",
    "            #Set the plate velocities for the kinematic phase\n",
    "            velocityField.data[index] = [ndp.plate_vel, 0.]\n",
    "        \n",
    "        elif (mesh.data[int(index)][0] > (subzone + 0.05*aspectRatio) and \n",
    "            mesh.data[int(index)][0] < (mesh.maxCoord[0] - 0.05*aspectRatio)):\n",
    "            #print \"second\"\n",
    "            VelBCs.add(int(index))\n",
    "            #Set the plate velocities for the kinematic phase\n",
    "            velocityField.data[index] = [0., 0.]\n",
    "        \n",
    "\n",
    "#If periodic, we'll fix a the x-vel at a single node - at the bottom left (index 0)\n",
    "Fixed = mesh.specialSets[\"Empty\"]\n",
    "Fixed.add(int(0))        \n",
    "        \n",
    "\n",
    "if periodic[0] == False:\n",
    "    if VelBC:\n",
    "        print(1)\n",
    "        freeslipBC = uw.conditions.DirichletCondition( variable      = velocityField, \n",
    "                                               indexSetsPerDof = ( iWalls + VelBCs, jWalls) )\n",
    "    else:\n",
    "        print(2)\n",
    "        freeslipBC = uw.conditions.DirichletCondition( variable      = velocityField, \n",
    "                                               indexSetsPerDof = ( iWalls, jWalls) )\n",
    "\n",
    "\n",
    "\n",
    "\n",
    "\n",
    "\n",
    "if periodic[0] == True:\n",
    "    if VelBC:\n",
    "        print(3)\n",
    "        freeslipBC = uw.conditions.DirichletCondition( variable      = velocityField, \n",
    "                                               indexSetsPerDof = ( Fixed + VelBCs , jWalls) )\n",
    "    else:\n",
    "        print(4)\n",
    "        freeslipBC = uw.conditions.DirichletCondition( variable      = velocityField, \n",
    "                                               indexSetsPerDof = ( Fixed, jWalls) )\n",
    "        \n",
    "    \n",
    "    \n",
    "    \n",
    "# also set dirichlet for temp field\n",
    "dirichTempBC = uw.conditions.DirichletCondition(     variable=temperatureField, \n",
    "                                              indexSetsPerDof=(tWalls,) )\n",
    "dT_dy = [0.,0.]\n",
    "\n",
    "# also set dirichlet for temp field\n",
    "neumannTempBC = uw.conditions.NeumannCondition( dT_dy, variable=temperatureField, \n",
    "                                         nodeIndexSet=bWalls)\n",
    "\n"
   ]
  },
  {
   "cell_type": "code",
   "execution_count": null,
   "metadata": {
    "collapsed": false
   },
   "outputs": [],
   "source": []
  },
  {
   "cell_type": "code",
   "execution_count": 102,
   "metadata": {
    "collapsed": false
   },
   "outputs": [],
   "source": [
    "#check VelBCs are where we want them\n",
    "#test = np.zeros(len(tWalls.data))\n",
    "#VelBCs\n",
    "#tWalls.data\n",
    "#tWalls.data[VelBCs.data]\n",
    "#test[np.in1d(tWalls.data, VelBCs.data)] = 1.\n",
    "#test\n",
    "\n"
   ]
  },
  {
   "cell_type": "code",
   "execution_count": null,
   "metadata": {
    "collapsed": false
   },
   "outputs": [],
   "source": []
  },
  {
   "cell_type": "markdown",
   "metadata": {},
   "source": [
    "Swarm setup\n",
    "-----\n"
   ]
  },
  {
   "cell_type": "code",
   "execution_count": 103,
   "metadata": {
    "collapsed": false
   },
   "outputs": [],
   "source": [
    "###########\n",
    "#Material Swarm and variables\n",
    "###########\n",
    "\n",
    "#create material swarm\n",
    "gSwarm = uw.swarm.Swarm(mesh=mesh, particleEscape=True)\n",
    "\n",
    "#create swarm variables\n",
    "yieldingCheck = gSwarm.add_variable( dataType=\"int\", count=1 )\n",
    "#tracerVariable = gSwarm.add_variable( dataType=\"int\", count=1)\n",
    "materialVariable = gSwarm.add_variable( dataType=\"int\", count=1 )\n",
    "ageVariable = gSwarm.add_variable( dataType=\"double\", count=1 )\n",
    "#testVariable = gSwarm.add_variable( dataType=\"float\", count=1 )\n",
    "\n",
    "\n",
    "#these lists  are part of the checkpointing implementation\n",
    "varlist = [materialVariable, yieldingCheck, ageVariable]\n",
    "varnames = ['materialVariable', 'yieldingCheck', 'ageVariable']"
   ]
  },
  {
   "cell_type": "code",
   "execution_count": 104,
   "metadata": {
    "collapsed": false
   },
   "outputs": [],
   "source": [
    "mantleIndex = 0\n",
    "crustIndex = 1\n",
    "harzIndex = 2\n",
    "airIndex = 3\n",
    "\n",
    "\n",
    "\n",
    "if checkpointLoad:\n",
    "    checkpointLoadDir = natsort.natsort(checkdirs)[-1]\n",
    "    temperatureField.load(os.path.join(checkpointLoadDir, \"temperatureField\" + \".hdf5\"))\n",
    "    pressureField.load(os.path.join(checkpointLoadDir, \"pressureField\" + \".hdf5\"))\n",
    "    velocityField.load(os.path.join(checkpointLoadDir, \"velocityField\" + \".hdf5\"))\n",
    "    gSwarm.load(os.path.join(checkpointLoadDir, \"swarm\" + \".h5\"))\n",
    "    for ix in range(len(varlist)):\n",
    "        varb = varlist[ix]\n",
    "        varb.load(os.path.join(checkpointLoadDir,varnames[ix] + \".h5\"))\n",
    "\n",
    "else:\n",
    "\n",
    "    # Layouts are used to populate the swarm across the whole domain\n",
    "    layout = uw.swarm.layouts.PerCellRandomLayout(swarm=gSwarm, particlesPerCell=ppc)\n",
    "    gSwarm.populate_using_layout( layout=layout ) # Now use it to populate.\n",
    "    # Swarm variables\n",
    "    materialVariable.data[:] = mantleIndex\n",
    "    #tracerVariable.data[:] = 1\n",
    "    yieldingCheck.data[:] = 0\n",
    "    ageVariable.data[:] = -1\n",
    "\n",
    "    #Set initial air and crust materials (allow the graph to take care of lithsophere)\n",
    "    #########\n",
    "    #This initial material setup will be model dependent\n",
    "    #########\n",
    "    for particleID in range(gSwarm.particleCoordinates.data.shape[0]):\n",
    "        if (1. - gSwarm.particleCoordinates.data[particleID][1]) < MANTLETOCRUST:\n",
    "                 materialVariable.data[particleID] = crustIndex"
   ]
  },
  {
   "cell_type": "markdown",
   "metadata": {
    "collapsed": false
   },
   "source": [
    "###########\n",
    "#This block sets up a checkboard layout of passive tracers\n",
    "###########\n",
    "\n",
    "square_size = 0.1\n",
    "xlist = np.arange(mesh.minCoord[0] + square_size/2., mesh.maxCoord[0] + square_size/2., square_size)\n",
    "xlist = zip(xlist[:], xlist[1:])[::2]\n",
    "ylist = np.arange(mesh.minCoord[1] + square_size/2., mesh.maxCoord[1] + square_size/2., square_size)\n",
    "ylist = zip(ylist[:], ylist[1:])[::2]\n",
    "xops = []\n",
    "for vals in xlist:\n",
    "    xops.append( (operator.and_(   operator.gt(coordinate[0],vals[0]),   operator.lt(coordinate[0],vals[1])  ),0.) )\n",
    "xops.append((True,1.))\n",
    "\n",
    "testfunc = fn.branching.conditional(xops) \n",
    "\n",
    "yops = []\n",
    "for vals in ylist:\n",
    "    yops.append( (operator.and_(   operator.gt(coordinate[1],vals[0]),   operator.lt(coordinate[1],vals[1])  ),0.) )\n",
    "yops.append((True,testfunc))\n",
    "\n",
    "testfunc2 = fn.branching.conditional(yops) \n",
    "tracerVariable.data[:] = testfunc.evaluate(gSwarm)\n",
    "tracerVariable.data[:] = testfunc2.evaluate(gSwarm)"
   ]
  },
  {
   "cell_type": "code",
   "execution_count": null,
   "metadata": {
    "collapsed": false
   },
   "outputs": [],
   "source": []
  },
  {
   "cell_type": "code",
   "execution_count": 105,
   "metadata": {
    "collapsed": false
   },
   "outputs": [],
   "source": [
    "##############\n",
    "#Set the initial particle age for particles above the critical depth; \n",
    "#only material older than crustageCond will be transformed to crust / harzburgite\n",
    "##############\n",
    "\n",
    "ageVariable.data[:] = 0. #start with all zero\n",
    "ageVariable.data[:] = ageFn.evaluate(gSwarm)/sf.SR\n",
    "crustageCond = 2e6*(3600.*365.*24.)/sf.SR #set inital age above critical depth. (x...Ma)\n",
    "\n",
    "\n",
    "\n",
    "ageConditions = [ (depthFn < AGETRACKDEPTH, ageVariable),  #In the main loop we add ageVariable + dt here\n",
    "                  (True, 0.) ]\n",
    "                 \n",
    "#apply conditional \n",
    "ageVariable.data[:] = fn.branching.conditional( ageConditions ).evaluate(gSwarm)\n",
    "\n",
    "ageDT = 0.#this is used in the main loop for short term time increments"
   ]
  },
  {
   "cell_type": "code",
   "execution_count": 106,
   "metadata": {
    "collapsed": false
   },
   "outputs": [],
   "source": [
    "#fig= glucifer.Figure()\n",
    "#fig.append( glucifer.objects.Points(gSwarm,ageVariable))\n",
    "#fig.append( glucifer.objects.Points(gSwarm, viscosityMapFn, logScale=True, valueRange =[1e-3,1e5]))\n",
    "\n",
    "\n",
    "#fig.show()"
   ]
  },
  {
   "cell_type": "code",
   "execution_count": 107,
   "metadata": {
    "collapsed": false
   },
   "outputs": [],
   "source": [
    "##############\n",
    "#Here we set up a directed graph object that we we use to control the transformation from one material type to another\n",
    "##############\n",
    "\n",
    "#All depth conditions are given as (km/D) where D is the length scale,\n",
    "#note that 'model depths' are used, e.g. 1-z, where z is the vertical Underworld coordinate\n",
    "#All temp conditions are in dimensionless temp. [0. - 1.]\n",
    "\n",
    "#Need a list of all material indexes (safer in parallel)\n",
    "material_list = [0,1,2,3]\n",
    "\n",
    "if not checkpointLoad:\n",
    "    materialVariable.data[:] = 0 #Initialize to zero \n",
    "\n",
    "#Setup the graph object\n",
    "DG = material_graph.MatGraph()\n",
    "\n",
    "#Important: First thing to do is to add all the material types to the graph (i.e add nodes)\n",
    "DG.add_nodes_from(material_list)\n",
    "\n",
    "#Now set the conditions for transformations\n",
    "\n",
    "hs = 2e3/dp.LS  #add some hysteresis to the depths of transition\n",
    "\n",
    "#... to mantle\n",
    "DG.add_transition((crustIndex,mantleIndex), depthFn, operator.gt, CRUSTTOMANTLE + hs)\n",
    "DG.add_transition((harzIndex,mantleIndex), depthFn, operator.gt, CRUSTTOMANTLE + hs)\n",
    "DG.add_transition((airIndex,mantleIndex), depthFn, operator.gt, TOPOHEIGHT + hs)\n",
    "\n",
    "#... to crust\n",
    "DG.add_transition((mantleIndex,crustIndex), depthFn, operator.lt, MANTLETOCRUST)\n",
    "#DG.add_transition((mantleIndex,crustIndex), xFn, operator.lt, 0. + 7.*MANTLETOCRUST) #No crust on the upper plate\n",
    "DG.add_transition((mantleIndex,crustIndex), ageVariable, operator.gt, crustageCond)\n",
    "\n",
    "\n",
    "DG.add_transition((harzIndex,crustIndex), depthFn, operator.lt, MANTLETOCRUST)\n",
    "#DG.add_transition((harzIndex,crustIndex), xFn, operator.lt, 0. + 7.*MANTLETOCRUST) #This one sets no crust on the upper plate\n",
    "DG.add_transition((harzIndex,crustIndex), ageVariable, operator.gt, crustageCond)\n",
    "\n",
    "#... to Harzbugite\n",
    "DG.add_transition((mantleIndex,harzIndex), depthFn, operator.lt, HARZBURGDEPTH)\n",
    "DG.add_transition((mantleIndex,harzIndex), depthFn, operator.gt, MANTLETOCRUST)\n",
    "DG.add_transition((mantleIndex,harzIndex), ageVariable, operator.gt, crustageCond) #Note we can mix functions and swarm variabls\n",
    "\n",
    "\n",
    "\n",
    "#... to air\n",
    "DG.add_transition((mantleIndex,airIndex), depthFn, operator.lt,0.)\n",
    "DG.add_transition((crustIndex,airIndex), depthFn, operator.lt, 0. )\n",
    "DG.add_transition((harzIndex,airIndex), depthFn, operator.lt, 0. )\n"
   ]
  },
  {
   "cell_type": "code",
   "execution_count": 108,
   "metadata": {
    "collapsed": false
   },
   "outputs": [],
   "source": [
    "#7.*MANTLETOCRUST"
   ]
  },
  {
   "cell_type": "code",
   "execution_count": 109,
   "metadata": {
    "collapsed": false
   },
   "outputs": [
    {
     "data": {
      "text/plain": [
       "[0, 1, 2, 3]"
      ]
     },
     "execution_count": 109,
     "metadata": {},
     "output_type": "execute_result"
    }
   ],
   "source": [
    "DG.nodes()"
   ]
  },
  {
   "cell_type": "code",
   "execution_count": 110,
   "metadata": {
    "collapsed": false
   },
   "outputs": [
    {
     "data": {
      "text/plain": [
       "(1.1940298507462686, 0.05328358208955224, 0.08358208955223881)"
      ]
     },
     "execution_count": 110,
     "metadata": {},
     "output_type": "execute_result"
    }
   ],
   "source": [
    "CRUSTTOMANTLE, HARZBURGDEPTH, 0. + 7.*MANTLETOCRUST"
   ]
  },
  {
   "cell_type": "code",
   "execution_count": 111,
   "metadata": {
    "collapsed": false
   },
   "outputs": [],
   "source": [
    "#gSwarm.particleCoordinates.data[particleID][1]"
   ]
  },
  {
   "cell_type": "code",
   "execution_count": 112,
   "metadata": {
    "collapsed": false
   },
   "outputs": [],
   "source": [
    "##############\n",
    "#For the slab_IC, we'll also add a crustal weak zone following the dipping perturbation\n",
    "##############\n",
    "\n",
    "if checkpointLoad != True:\n",
    "    if not symmetricIC:\n",
    "        for particleID in range(gSwarm.particleCoordinates.data.shape[0]):\n",
    "            if gSwarm.particleCoordinates.data[particleID][1] < 0.:\n",
    "                materialVariable.data[particleID] = airIndex\n",
    "                \n",
    "            elif (\n",
    "                Oc.evaluate(list(gSwarm.particleCoordinates.data[particleID])) and\n",
    "                Tri.evaluate(list(gSwarm.particleCoordinates.data[particleID])) and\n",
    "                gSwarm.particleCoordinates.data[particleID][1] > (MAXY - maxDepth) and\n",
    "                Cc.evaluate(list(gSwarm.particleCoordinates.data[particleID])) == False\n",
    "                \n",
    "                ):\n",
    "                materialVariable.data[particleID] = crustIndex\n",
    "                \n",
    "            elif (\n",
    "                Oc.evaluate(list(gSwarm.particleCoordinates.data[particleID])) and\n",
    "                Tri.evaluate(list(gSwarm.particleCoordinates.data[particleID])) and\n",
    "                gSwarm.particleCoordinates.data[particleID][1] > (MAXY - maxDepth) and\n",
    "                Hc.evaluate(list(gSwarm.particleCoordinates.data[particleID])) == False\n",
    "                \n",
    "                ):\n",
    "                materialVariable.data[particleID] = harzIndex"
   ]
  },
  {
   "cell_type": "code",
   "execution_count": 113,
   "metadata": {
    "collapsed": false
   },
   "outputs": [],
   "source": [
    "##############\n",
    "#This is how we use the material graph object to test / apply material transformations\n",
    "##############\n",
    "DG.build_condition_list(materialVariable)\n",
    "\n",
    "for i in range(2): #Need to go through a number of times\n",
    "    materialVariable.data[:] = fn.branching.conditional(DG.condition_list).evaluate(gSwarm)"
   ]
  },
  {
   "cell_type": "code",
   "execution_count": 114,
   "metadata": {
    "collapsed": false
   },
   "outputs": [],
   "source": [
    "#maxDepth"
   ]
  },
  {
   "cell_type": "code",
   "execution_count": 150,
   "metadata": {
    "collapsed": false
   },
   "outputs": [
    {
     "data": {
      "text/html": [
       "<img src='data:image/png;base64,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'>"
      ],
      "text/plain": [
       "<IPython.core.display.HTML object>"
      ]
     },
     "metadata": {},
     "output_type": "display_data"
    }
   ],
   "source": [
    "#fig2= glucifer.Figure()\n",
    "#fig2.append( glucifer.objects.Points(gSwarm,materialVariable))\n",
    "#fig2.append( glucifer.objects.Surface(mesh, depthFn))\n",
    "\n",
    "#fig2.show()\n",
    "#fig2.save_database('test.gldb')"
   ]
  },
  {
   "cell_type": "markdown",
   "metadata": {
    "collapsed": false
   },
   "source": [
    "## phase and compositional buoyancy\n",
    "\n",
    "This was designed for EBA models, needs a rethink for Boussinesq"
   ]
  },
  {
   "cell_type": "code",
   "execution_count": 118,
   "metadata": {
    "collapsed": false
   },
   "outputs": [],
   "source": [
    "##############\n",
    "#Set up phase buoyancy contributions\n",
    "#the phase function approach of Yuen and Christenson is implemented in the Slippy2 phase_function class \n",
    "##############\n",
    "\n",
    "\n",
    "#olivine\n",
    "olivinePhase = phase_function.component_phases(name = 'ol', \n",
    "                        depths=[410e3,660e3], #depths of phase transitions along adiabat\n",
    "                        temps = [1600., 1900.], #temperatures of phase transitions along adiabat\n",
    "                        widths = [20e3, 20e3], #width if transition\n",
    "                        claps=[2.e6, -2.5e6],  #Clapeyron slope of trnasition\n",
    "                        densities = [180., 400.]) #density change of phase transition\n",
    "\n",
    "olivinePhase.build_nd_dict(dp.LS, dp.rho, dp.g, dp.deltaT)\n",
    "\n",
    "\n",
    "rp = olivinePhase.nd_reduced_pressure(depthFn, \n",
    "                                   temperatureField,\n",
    "                                   olivinePhase.ndp['depths'][0],\n",
    "                                   olivinePhase.ndp['claps'][0],\n",
    "                                   olivinePhase.ndp['temps'][0])\n",
    "\n",
    "#ph_410 = olivinePhase.nd_phase(rp, test.ndp['widths'][0])\n",
    "#pf_sum = test.phase_function_sum(temperatureField, depthFn)\n",
    "\n",
    "olivine_phase_buoyancy = olivinePhase.buoyancy_sum(temperatureField, depthFn, dp.g, dp.LS, dp.k, dp.eta0)\n",
    "\n",
    "#garnet\n",
    "garnetPhase = phase_function.component_phases(name = 'grt', \n",
    "                        depths=[60e3,400e3, 720e3],\n",
    "                        temps = [1000., 1600., 1900.], \n",
    "                        widths = [20e3, 20e3, 20e3], \n",
    "                        claps=[0.e6, 1.e6, 1.e6], \n",
    "                        densities = [350., 150., 400.])\n",
    "\n",
    "garnetPhase.build_nd_dict(dp.LS, dp.rho, dp.g, dp.deltaT)\n",
    "\n",
    "\n",
    "rp = garnetPhase.nd_reduced_pressure(depthFn, \n",
    "                                   temperatureField,\n",
    "                                   garnetPhase.ndp['depths'][0],\n",
    "                                   garnetPhase.ndp['claps'][0],\n",
    "                                   garnetPhase.ndp['temps'][0])\n",
    "\n",
    "#ph_410 = olivinePhase.nd_phase(rp, test.ndp['widths'][0])\n",
    "#pf_sum = test.phase_function_sum(temperatureField, depthFn)\n",
    "\n",
    "garnet_phase_buoyancy = garnetPhase.buoyancy_sum(temperatureField, depthFn, dp.g, dp.LS, dp.k, dp.eta0)"
   ]
  },
  {
   "cell_type": "code",
   "execution_count": 119,
   "metadata": {
    "collapsed": false
   },
   "outputs": [],
   "source": [
    "##############\n",
    "#Set up compositional buoyancy contributions\n",
    "##############\n",
    "\n",
    "bouyancy_factor = (dp.g*dp.LS**3)/(dp.eta0*dp.k)\n",
    "\n",
    "basalt_comp_buoyancy  = (dp.rho - 2940.)*bouyancy_factor\n",
    "harz_comp_buoyancy = (dp.rho - 3235.)*bouyancy_factor\n",
    "pyrolite_comp_buoyancy = (dp.rho - 3300.)*bouyancy_factor\n",
    "\n",
    "#print(basalt_comp_buoyancy, harz_comp_buoyancy, pyrolite_comp_buoyancy)\n",
    "\n",
    "\n",
    "#this function accounts for the decrease in expansivity, and acts to reduce the rayleigh number with depth\n",
    "alphaRatio = 1.2/3\n",
    "taFn = 1. - (depthFn)*(1. - alphaRatio) \n",
    "\n",
    "\n",
    "if not compBuoyancy:\n",
    "    pyrolitebuoyancyFn =  (ndp.RA*temperatureField*taFn)\n",
    "    harzbuoyancyFn =      (ndp.RA*temperatureField*taFn) \n",
    "    basaltbuoyancyFn =    (ndp.RA*temperatureField*taFn)\n",
    "\n",
    "else : \n",
    "    pyrolitebuoyancyFn =  (ndp.RA*temperatureField*taFn) -\\\n",
    "                          (0.6*olivine_phase_buoyancy + 0.4*garnet_phase_buoyancy) +\\\n",
    "                           pyrolite_comp_buoyancy\n",
    "    harzbuoyancyFn =      (ndp.RA*temperatureField*taFn) -\\\n",
    "                          (0.8*olivine_phase_buoyancy + 0.2*garnet_phase_buoyancy) +\\\n",
    "                           harz_comp_buoyancy\n",
    "    basaltbuoyancyFn =    (ndp.RA*temperatureField*taFn) -\\\n",
    "                          (1.*garnet_phase_buoyancy) +\\\n",
    "                           basalt_comp_buoyancy"
   ]
  },
  {
   "cell_type": "markdown",
   "metadata": {},
   "source": [
    "Rheology\n",
    "-----\n",
    "\n"
   ]
  },
  {
   "cell_type": "code",
   "execution_count": 120,
   "metadata": {
    "collapsed": false
   },
   "outputs": [],
   "source": [
    "##############\n",
    "#Set up any functions required by the rheology\n",
    "##############\n",
    "strainRate_2ndInvariant = fn.tensor.second_invariant( \n",
    "                            fn.tensor.symmetric( \n",
    "                            velocityField.fn_gradient ))\n",
    "\n",
    "def safe_visc(func, viscmin=ndp.eta_min, viscmax=ndp.eta_max):\n",
    "    return fn.misc.max(viscmin, fn.misc.min(viscmax, func))"
   ]
  },
  {
   "cell_type": "code",
   "execution_count": 121,
   "metadata": {
    "collapsed": true
   },
   "outputs": [],
   "source": [
    "#strainRate_2ndInvariant = fn.misc.constant(ndp.SR) #dummy fucntion to check which mechanisms are at active are reference strain rate"
   ]
  },
  {
   "cell_type": "code",
   "execution_count": 122,
   "metadata": {
    "collapsed": false
   },
   "outputs": [
    {
     "data": {
      "text/plain": [
       "0.01"
      ]
     },
     "execution_count": 122,
     "metadata": {},
     "output_type": "execute_result"
    }
   ],
   "source": [
    "ndp.crust_cohesion_fac"
   ]
  },
  {
   "cell_type": "code",
   "execution_count": 123,
   "metadata": {
    "collapsed": false
   },
   "outputs": [],
   "source": [
    "############\n",
    "#Rheology: create UW2 functions for all viscous mechanisms\n",
    "#############\n",
    "\n",
    "omega = fn.misc.constant(1.) #this function can hold any arbitary viscosity modifications \n",
    "\n",
    "\n",
    "##Diffusion Creep\n",
    "\n",
    "diffusion = fn.misc.min(ndp.eta_max, fn.math.exp(-1*ndp.Edf + ndp.Edf / (temperatureField + 1e-8)))\n",
    "\n",
    "\n",
    "\n",
    "##Define the Plasticity\n",
    "ys =  ndp.cohesion + (depthFn*ndp.fcd)\n",
    "ysMax = 10e4*1e6*sf.stress\n",
    "ysf = fn.misc.min(ys, ysMax)\n",
    "yielding = ysf/(2.*(strainRate_2ndInvariant))\n",
    "\n",
    "##Crust rheology\n",
    "#crustys =  ndp.cohesion*ndp.crust_cohesion_fac + (depthFn*ndp.fcd*ndp.crust_fc_fac)\n",
    "crustys =  ndp.cohesion*ndp.crust_cohesion_fac + (depthFn*ndp.fcd) #only weakened cohesion is discussed, not fc\n",
    "\n",
    "crustyielding = crustys/(2.*(strainRate_2ndInvariant)) #extra factor to account for underworld second invariant form\n",
    "\n",
    "\n"
   ]
  },
  {
   "cell_type": "code",
   "execution_count": 124,
   "metadata": {
    "collapsed": false
   },
   "outputs": [],
   "source": [
    "############\n",
    "#Rheology: combine viscous mechanisms in various ways \n",
    "#harmonic: harmonic average of all mechanims\n",
    "#min: minimum effective viscosity of the mechanims\n",
    "#mixed: takes the minimum of the harmonic and the plastic effective viscosity\n",
    "#############\n",
    "\n",
    "#linear rheology \n",
    "linearviscosityFn = safe_visc(diffusion)\n",
    "\n",
    "\n",
    "\n",
    "\n",
    "#combined rheology    \n",
    "\n",
    "\n",
    "finalviscosityFn  = fn.branching.conditional([(depthFn < LOWMANTLEDEPTH, safe_visc(fn.misc.min(diffusion, yielding))),\n",
    "                                  (True, safe_visc(safe_visc(diffusion*ndp.low_mantle_visc_fac)))])\n",
    "\n",
    "#crust rheology    \n",
    "finalcrustviscosityFn = safe_visc(fn.misc.min(ndp.crust_cohesion_fac*diffusion, \n",
    "                                              crustyielding)) #cohesion weakening factor also applies to eta_0\n",
    "\n"
   ]
  },
  {
   "cell_type": "code",
   "execution_count": 145,
   "metadata": {
    "collapsed": false
   },
   "outputs": [],
   "source": [
    "#.low_mantle_visc_fac"
   ]
  },
  {
   "cell_type": "code",
   "execution_count": 141,
   "metadata": {
    "collapsed": false,
    "scrolled": true
   },
   "outputs": [
    {
     "data": {
      "text/html": [
       "<img src='data:image/png;base64,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'>"
      ],
      "text/plain": [
       "<IPython.core.display.HTML object>"
      ]
     },
     "metadata": {},
     "output_type": "display_data"
    },
    {
     "data": {
      "text/plain": [
       "'test.gldb'"
      ]
     },
     "execution_count": 141,
     "metadata": {},
     "output_type": "execute_result"
    }
   ],
   "source": [
    "#fig= glucifer.Figure()\n",
    "#fig.append( glucifer.objects.Points(gSwarm,finalviscosityFn, logScale=True))\n",
    "#fig.append( glucifer.objects.Surface(mesh,finalviscosityFn, logScale=True))\n",
    "#fig.append( glucifer.objects.VectorArrows(mesh,velocityField, scaling=0.05))\n",
    "\n",
    "\n",
    "#fig.show()\n",
    "#fig.save_database('test.gldb')"
   ]
  },
  {
   "cell_type": "markdown",
   "metadata": {},
   "source": [
    "Stokes system setup\n",
    "-----\n"
   ]
  },
  {
   "cell_type": "code",
   "execution_count": 129,
   "metadata": {
    "collapsed": false
   },
   "outputs": [],
   "source": [
    "densityMapFn = fn.branching.map( fn_key = materialVariable,\n",
    "                         mapping = {airIndex:ndp.StRA,\n",
    "                                    crustIndex:basaltbuoyancyFn, \n",
    "                                    mantleIndex:pyrolitebuoyancyFn,\n",
    "                                    harzIndex:harzbuoyancyFn} )"
   ]
  },
  {
   "cell_type": "code",
   "execution_count": 130,
   "metadata": {
    "collapsed": true
   },
   "outputs": [],
   "source": [
    "\n",
    "# Define our vertical unit vector using a python tuple (this will be automatically converted to a function).\n",
    "gravity = ( 0.0, 1.0 )\n",
    "\n",
    "# Now create a buoyancy force vector using the density and the vertical unit vector. \n",
    "buoyancyFn = densityMapFn * gravity"
   ]
  },
  {
   "cell_type": "code",
   "execution_count": 131,
   "metadata": {
    "collapsed": true
   },
   "outputs": [],
   "source": [
    "stokesPIC = uw.systems.Stokes(velocityField=velocityField, \n",
    "                              pressureField=pressureField,\n",
    "                              conditions=[freeslipBC,],\n",
    "                              fn_viscosity=linearviscosityFn, \n",
    "                              fn_bodyforce=buoyancyFn )"
   ]
  },
  {
   "cell_type": "code",
   "execution_count": 132,
   "metadata": {
    "collapsed": true
   },
   "outputs": [],
   "source": [
    "solver = uw.systems.Solver(stokesPIC)\n",
    "if not checkpointLoad:\n",
    "    solver.solve() #A solve on the linear visocisty is unhelpful unless we're starting from scratch"
   ]
  },
  {
   "cell_type": "code",
   "execution_count": 133,
   "metadata": {
    "collapsed": false
   },
   "outputs": [],
   "source": [
    "\n",
    "\n",
    "viscosityMapFn1 = fn.branching.map( fn_key = materialVariable,\n",
    "                         mapping = {crustIndex:finalviscosityFn,\n",
    "                                    mantleIndex:finalviscosityFn,\n",
    "                                    harzIndex:finalviscosityFn,\n",
    "                                    airIndex:ndp.Steta0} )\n",
    "\n",
    "if stickyAir:\n",
    "    viscosityMapFn2 = fn.branching.map( fn_key = materialVariable,\n",
    "                         mapping = {crustIndex:0.,\n",
    "                                    mantleIndex:0.,\n",
    "                                    harzIndex:0.,\n",
    "                                    airIndex:ndp.Steta0*0.9} ) # -> \\eta_2 = 0.1 * \\eta_1\n",
    "\n"
   ]
  },
  {
   "cell_type": "code",
   "execution_count": 134,
   "metadata": {
    "collapsed": true
   },
   "outputs": [],
   "source": [
    "# director orientation in Sticky air\n",
    "if stickyAir:\n",
    "    directorVector   = gSwarm.add_variable( dataType=\"double\", count=2)\n",
    "\n",
    "    orientation = -1.*180. * math.pi / 180.0  #vertical\n",
    "    directorVector.data[:,0] = math.cos(orientation)\n",
    "    directorVector.data[:,1] = math.sin(orientation)\n",
    "    math.cos(orientation)"
   ]
  },
  {
   "cell_type": "code",
   "execution_count": 135,
   "metadata": {
    "collapsed": false
   },
   "outputs": [],
   "source": [
    "#orientation = -1.*90. * math.pi / 180.0  #vertical\n",
    "#math.cos(orientation), math.sin(orientation)"
   ]
  },
  {
   "cell_type": "code",
   "execution_count": 143,
   "metadata": {
    "collapsed": false
   },
   "outputs": [],
   "source": [
    "#stickyAir"
   ]
  },
  {
   "cell_type": "code",
   "execution_count": 136,
   "metadata": {
    "collapsed": false
   },
   "outputs": [],
   "source": [
    "#Add the non-linear viscosity to the Stokes system\n",
    "stokesPIC.fn_viscosity = viscosityMapFn1\n",
    "\n",
    "if stickyAir: #If sticky air, add the Transverse anisotropic components to Stokes\n",
    "    stokesPIC.fn_viscosity2 = viscosityMapFn2\n",
    "    stokesPIC._fn_director   = directorVector\n"
   ]
  },
  {
   "cell_type": "code",
   "execution_count": 137,
   "metadata": {
    "collapsed": false
   },
   "outputs": [
    {
     "name": "stdout",
     "output_type": "stream",
     "text": [
      "\u001b[1;35m\n",
      " \n",
      "Pressure iterations:   4\n",
      "Velocity iterations:   1 (presolve)      \n",
      "Velocity iterations:  -1 (pressure solve)\n",
      "Velocity iterations:   1 (backsolve)     \n",
      "Velocity iterations:   1 (total solve)   \n",
      " \n",
      "SCR RHS  solve time: 4.8766e-01\n",
      "Pressure solve time: 5.9217e-02\n",
      "Velocity solve time: 4.1586e-01 (backsolve)\n",
      "Total solve time   : 1.0485e+00\n",
      " \n",
      "Velocity solution min/max: 0.0000e+00/0.0000e+00\n",
      "Pressure solution min/max: 0.0000e+00/0.0000e+00\n",
      " \n",
      "\u001b[00m\n"
     ]
    }
   ],
   "source": [
    "solver.set_inner_method(\"mumps\")\n",
    "solver.options.scr.ksp_type=\"cg\"\n",
    "solver.set_penalty(1.0e7)\n",
    "solver.options.scr.ksp_rtol = 1.0e-4\n",
    "solver.solve(nonLinearIterate=True)\n",
    "solver.print_stats()"
   ]
  },
  {
   "cell_type": "code",
   "execution_count": 146,
   "metadata": {
    "collapsed": false
   },
   "outputs": [
    {
     "data": {
      "text/plain": [
       "'test.gldb'"
      ]
     },
     "execution_count": 146,
     "metadata": {},
     "output_type": "execute_result"
    }
   ],
   "source": [
    "#fig= glucifer.Figure()\n",
    "#fig.append( glucifer.objects.Points(gSwarm,finalviscosityFn, logScale=True))\n",
    "#fig.append( glucifer.objects.Surface(mesh,temperatureField))\n",
    "#fig.append( glucifer.objects.VectorArrows(mesh,velocityField, scaling=0.05))\n",
    "\n",
    "\n",
    "#fig.show()\n",
    "#fig.save_database('test.gldb')"
   ]
  },
  {
   "cell_type": "code",
   "execution_count": 146,
   "metadata": {
    "collapsed": false
   },
   "outputs": [],
   "source": [
    "#Check which particles are yielding\n",
    "#yieldingCheck.data[:] = 0\n",
    "\n",
    "#yieldconditions = [ ( finalviscosityFn < Visc , 1), \n",
    "#               ( True                                           , 0) ]\n",
    "\n",
    "# use the branching conditional function to set each particle's index\n",
    "#yieldingCheck.data[:] = fn.branching.conditional( yieldconditions ).evaluate(gSwarm)"
   ]
  },
  {
   "cell_type": "code",
   "execution_count": 147,
   "metadata": {
    "collapsed": false,
    "scrolled": true
   },
   "outputs": [],
   "source": [
    "#fig= glucifer.Figure()\n",
    "#fig.append( glucifer.objects.Points(gSwarm,yieldingCheck))\n",
    "\n",
    "#fig.append( glucifer.objects.Surface(mesh,ndflm, logScale=True))\n",
    "#fig.show()"
   ]
  },
  {
   "cell_type": "markdown",
   "metadata": {},
   "source": [
    "Advection-diffusion System setup\n",
    "-----"
   ]
  },
  {
   "cell_type": "code",
   "execution_count": 217,
   "metadata": {
    "collapsed": false
   },
   "outputs": [],
   "source": [
    "advDiff = uw.systems.AdvectionDiffusion( phiField       = temperatureField, \n",
    "                                         phiDotField    = temperatureDotField, \n",
    "                                         velocityField  = velocityField,\n",
    "                                         fn_sourceTerm    = 0.0,\n",
    "                                         fn_diffusivity = 1.0, \n",
    "                                         #conditions     = [neumannTempBC, dirichTempBC] )\n",
    "                                         conditions     = [ dirichTempBC] )\n",
    "\n",
    "passiveadvector = uw.systems.SwarmAdvector( swarm         = gSwarm, \n",
    "                                     velocityField = velocityField, \n",
    "                                     order         = 1)"
   ]
  },
  {
   "cell_type": "code",
   "execution_count": 218,
   "metadata": {
    "collapsed": false
   },
   "outputs": [],
   "source": [
    "#I was playing around with a tailored diffusivity to target the slab\n",
    "\n",
    "#inCircleFnGenerator#Now build the perturbation part\n",
    "#def htan(centre, radius, widthPh, farVal = 0.01, fac = 10.):\n",
    "#    coord = fn.input()\n",
    "#    offsetFn = coord - centre\n",
    "#    dist = fn.math.sqrt(fn.math.dot( offsetFn, offsetFn ))\n",
    "    \n",
    "    \n",
    "#    return (((fn.math.tanh(((radius - dist))/widthPh) + 1.) /2.))*fac + farVal\n",
    "\n",
    "#tfun = htan((0.1, 0.9), 0.1, 0.1, 0.1)"
   ]
  },
  {
   "cell_type": "code",
   "execution_count": 219,
   "metadata": {
    "collapsed": true
   },
   "outputs": [],
   "source": [
    "for index in mesh.specialSets[\"MinJ_VertexSet\"]:\n",
    "    temperatureField.data[index] = ndp.TBP\n",
    "for index in mesh.specialSets[\"MaxJ_VertexSet\"]:\n",
    "    temperatureField.data[index] = ndp.TSP"
   ]
  },
  {
   "cell_type": "code",
   "execution_count": 220,
   "metadata": {
    "collapsed": false
   },
   "outputs": [
    {
     "data": {
      "text/plain": [
       "25527.958657761388"
      ]
     },
     "execution_count": 220,
     "metadata": {},
     "output_type": "execute_result"
    }
   ],
   "source": [
    "velocityField.data.max()"
   ]
  },
  {
   "cell_type": "code",
   "execution_count": 221,
   "metadata": {
    "collapsed": false
   },
   "outputs": [],
   "source": [
    "############\n",
    "#Slightly Diffuse the initial perturbation\n",
    "#############\n",
    "\n",
    "timetoDifffuse = 0.#Million years\n",
    "incrementtoDiffuse = 0.2 #Million years\n",
    "\n",
    "timetoDifffuse = (timetoDifffuse*1e6*(spery)/sf.SR).magnitude\n",
    "incrementtoDiffuse = (incrementtoDiffuse*1e6*(spery)/sf.SR).magnitude\n",
    "\n",
    "totAdt = 0.\n",
    "it = 0\n",
    "while totAdt < timetoDifffuse:\n",
    "    dtad = advDiff.get_max_dt()\n",
    "    print(\"step\") + str(it) \n",
    "    advDiff.integrate(incrementtoDiffuse)\n",
    "    totAdt += incrementtoDiffuse\n",
    "    it += 1\n",
    "    \n",
    "#Reset Boundary conds.   \n",
    "for index in mesh.specialSets[\"MinJ_VertexSet\"]:\n",
    "    temperatureField.data[index] = ndp.TBP\n",
    "for index in mesh.specialSets[\"MaxJ_VertexSet\"]:\n",
    "    temperatureField.data[index] = ndp.TSP\n",
    "    \n",
    "comm.Barrier()"
   ]
  },
  {
   "cell_type": "code",
   "execution_count": 222,
   "metadata": {
    "collapsed": true
   },
   "outputs": [],
   "source": [
    "population_control = uw.swarm.PopulationControl(gSwarm,deleteThreshold=0.2,splitThreshold=1.,maxDeletions=3,maxSplits=0, aggressive=True, particlesPerCell=ppc)"
   ]
  },
  {
   "cell_type": "markdown",
   "metadata": {},
   "source": [
    "Analysis functions / routines\n",
    "-----"
   ]
  },
  {
   "cell_type": "code",
   "execution_count": 223,
   "metadata": {
    "collapsed": true
   },
   "outputs": [],
   "source": [
    "#These are functions we can use to evuate integrals over restricted parts of the domain\n",
    "# For instance, we can exclude the thermal lithosphere from integrals\n",
    "\n",
    "def temprestrictionFn(lithval = 0.9):\n",
    "\n",
    "    tempMM = fn.view.min_max(temperatureField)\n",
    "    tempMM.evaluate(mesh)\n",
    "    TMAX = tempMM.max_global()\n",
    "    mantleconditions = [ (                                  temperatureField > lithval*TMAX, 1.),\n",
    "                   (                                                   True , 0.) ]\n",
    "\n",
    "\n",
    "    return fn.branching.conditional(mantleconditions)\n",
    "\n",
    "mantlerestrictFn = temprestrictionFn(lithval = 0.85)\n",
    "\n",
    "\n",
    "\n",
    "def platenessFn(val = 0.1):\n",
    "    normgradV = fn.math.abs(velocityField.fn_gradient[0]/fn.math.sqrt(velocityField[0]*velocityField[0])) #[du*/dx]/sqrt(u*u)\n",
    "\n",
    "\n",
    "\n",
    "    srconditions = [ (                                  normgradV < val, 1.),\n",
    "                   (                                                   True , 0.) ]\n",
    "\n",
    "\n",
    "    return fn.branching.conditional(srconditions)\n",
    "\n",
    "srrestrictFn = platenessFn(val = 0.1)"
   ]
  },
  {
   "cell_type": "code",
   "execution_count": 224,
   "metadata": {
    "collapsed": false
   },
   "outputs": [
    {
     "ename": "NameError",
     "evalue": "name 'viscosityMapFn' is not defined",
     "output_type": "error",
     "traceback": [
      "\u001b[1;31m\u001b[0m",
      "\u001b[1;31mNameError\u001b[0mTraceback (most recent call last)",
      "\u001b[1;32m<ipython-input-224-29310057d60d>\u001b[0m in \u001b[0;36m<module>\u001b[1;34m()\u001b[0m\n\u001b[0;32m      9\u001b[0m \u001b[1;33m\u001b[0m\u001b[0m\n\u001b[0;32m     10\u001b[0m \u001b[0msinner\u001b[0m \u001b[1;33m=\u001b[0m \u001b[0mfn\u001b[0m\u001b[1;33m.\u001b[0m\u001b[0mmath\u001b[0m\u001b[1;33m.\u001b[0m\u001b[0mdot\u001b[0m\u001b[1;33m(\u001b[0m \u001b[0mstrainRate_2ndInvariant\u001b[0m\u001b[1;33m,\u001b[0m \u001b[0mstrainRate_2ndInvariant\u001b[0m \u001b[1;33m)\u001b[0m\u001b[1;33m\u001b[0m\u001b[0m\n\u001b[1;32m---> 11\u001b[1;33m \u001b[0mvdint\u001b[0m \u001b[1;33m=\u001b[0m \u001b[0muw\u001b[0m\u001b[1;33m.\u001b[0m\u001b[0mutils\u001b[0m\u001b[1;33m.\u001b[0m\u001b[0mIntegral\u001b[0m\u001b[1;33m(\u001b[0m \u001b[1;33m(\u001b[0m\u001b[1;36m2.\u001b[0m\u001b[1;33m*\u001b[0m\u001b[0mviscosityMapFn\u001b[0m\u001b[1;33m*\u001b[0m\u001b[0msinner\u001b[0m\u001b[1;33m)\u001b[0m\u001b[1;33m,\u001b[0m \u001b[0mmesh\u001b[0m \u001b[1;33m)\u001b[0m \u001b[1;31m#Is it two or four here?\u001b[0m\u001b[1;33m\u001b[0m\u001b[0m\n\u001b[0m\u001b[0;32m     12\u001b[0m \u001b[1;33m\u001b[0m\u001b[0m\n\u001b[0;32m     13\u001b[0m \u001b[0mmantleArea\u001b[0m   \u001b[1;33m=\u001b[0m \u001b[0muw\u001b[0m\u001b[1;33m.\u001b[0m\u001b[0mutils\u001b[0m\u001b[1;33m.\u001b[0m\u001b[0mIntegral\u001b[0m\u001b[1;33m(\u001b[0m \u001b[0mmantlerestrictFn\u001b[0m\u001b[1;33m,\u001b[0m \u001b[0mmesh\u001b[0m \u001b[1;33m)\u001b[0m\u001b[1;33m\u001b[0m\u001b[0m\n",
      "\u001b[1;31mNameError\u001b[0m: name 'viscosityMapFn' is not defined"
     ]
    }
   ],
   "source": [
    "#Setup volume integrals \n",
    "\n",
    "tempint = uw.utils.Integral( temperatureField, mesh )\n",
    "areaint = uw.utils.Integral( 1.,               mesh )\n",
    "\n",
    "v2int   = uw.utils.Integral( fn.math.dot(velocityField,velocityField), mesh )\n",
    "\n",
    "dwint   = uw.utils.Integral( temperatureField*velocityField[1], mesh )\n",
    "\n",
    "sinner = fn.math.dot( strainRate_2ndInvariant, strainRate_2ndInvariant )\n",
    "vdint = uw.utils.Integral( (2.*viscosityMapFn1*sinner), mesh ) #Is it two or four here?\n",
    "\n",
    "mantleArea   = uw.utils.Integral( mantlerestrictFn, mesh )\n",
    "mantleTemp = uw.utils.Integral( temperatureField*mantlerestrictFn, mesh )\n",
    "mantleVisc = uw.utils.Integral( finalviscosityFn*mantlerestrictFn, mesh )\n",
    "mantleVd = uw.utils.Integral( (2.*viscosityMapFn1*sinner*mantlerestrictFn), mesh ) #these now work on MappingFunctions"
   ]
  },
  {
   "cell_type": "code",
   "execution_count": null,
   "metadata": {
    "collapsed": true
   },
   "outputs": [],
   "source": []
  },
  {
   "cell_type": "code",
   "execution_count": null,
   "metadata": {
    "collapsed": true
   },
   "outputs": [],
   "source": [
    "#Setup surface integrals\n",
    "\n",
    "rmsSurfInt = uw.utils.Integral( fn=velocityField[0]*velocityField[0], mesh=mesh, integrationType='Surface', \n",
    "                          surfaceIndexSet=mesh.specialSets[\"MaxJ_VertexSet\"])\n",
    "nuTop      = uw.utils.Integral( fn=temperatureField.fn_gradient[1],    mesh=mesh, integrationType='Surface', \n",
    "                          surfaceIndexSet=mesh.specialSets[\"MaxJ_VertexSet\"])\n",
    "nuBottom   = uw.utils.Integral( fn=temperatureField.fn_gradient[1],    mesh=mesh, integrationType='Surface', \n",
    "                          surfaceIndexSet=mesh.specialSets[\"MinJ_VertexSet\"])\n",
    "\n",
    "plateint  = uw.utils.Integral( fn=srrestrictFn, mesh=mesh, integrationType='Surface', #Integrate the plateness function\n",
    "                          surfaceIndexSet=mesh.specialSets[\"MaxJ_VertexSet\"]) \n",
    "\n",
    "surfint  = uw.utils.Integral( fn=1., mesh=mesh, integrationType='Surface',   #Surface length function (i.e. domain width)\n",
    "                          surfaceIndexSet=mesh.specialSets[\"MaxJ_VertexSet\"])"
   ]
  },
  {
   "cell_type": "code",
   "execution_count": null,
   "metadata": {
    "collapsed": true
   },
   "outputs": [],
   "source": [
    "#Define functions for the evaluation of integrals\n",
    "\n",
    "def basic_int(ourIntegral):           #This one just hands back the evaluated integral\n",
    "    return ourIntegral.evaluate()[0]\n",
    "\n",
    "def avg_temp():\n",
    "    return tempint.evaluate()[0]/areaint.evaluate()[0]\n",
    "\n",
    "def nusseltTB(temp_field, mesh):\n",
    "    return -nuTop.evaluate()[0], -nuBottom.evaluate()[0]\n",
    "\n",
    "def rms():\n",
    "    return math.sqrt(v2int.evaluate()[0]/areaint.evaluate()[0])\n",
    "\n",
    "def rms_surf():\n",
    "    return math.sqrt(rmsSurfInt.evaluate()[0])\n",
    "\n",
    "def max_vx_surf(velfield, mesh):\n",
    "    vuvelxfn = fn.view.min_max(velfield[0])\n",
    "    vuvelxfn.evaluate(mesh.specialSets[\"MaxJ_VertexSet\"])\n",
    "    return vuvelxfn.max_global()\n",
    "\n",
    "\n",
    "def visc_extr(viscfn):\n",
    "    vuviscfn = fn.view.min_max(viscfn)\n",
    "    vuviscfn.evaluate(mesh)\n",
    "    return vuviscfn.max_global(), vuviscfn.min_global()"
   ]
  },
  {
   "cell_type": "code",
   "execution_count": null,
   "metadata": {
    "collapsed": false
   },
   "outputs": [],
   "source": [
    "#v2sum_integral  = uw.utils.Integral( mesh=mesh, fn=fn.math.dot( velocityField, velocityField ) )\n",
    "#volume_integral = uw.utils.Integral( mesh=mesh, fn=1. )\n",
    "#Vrms = math.sqrt( v2sum_integral.evaluate()[0] )/volume_integral.evaluate()[0]\n",
    "\n",
    "\n",
    "\n",
    "#if(uw.rank()==0):\n",
    "#    print('Initial Vrms = {0:.3f}'.format(Vrms))\n",
    "\n",
    "# Check the Metrics\n",
    "\n",
    "#Avg_temp = avg_temp()\n",
    "Rms = rms()\n",
    "Rms_surf = rms_surf()\n",
    "Max_vx_surf = max_vx_surf(velocityField, mesh)\n",
    "Rms, Rms_surf, Max_vx_surf \n",
    "#Gravwork = basic_int(dwint)\n",
    "#Viscdis = basic_int(vdint)\n",
    "#nu1, nu0 = nusseltTB(temperatureField, mesh) # return top then bottom\n",
    "#etamax, etamin = visc_extr(finalviscosityFn)\n",
    "\n",
    "#Area_mantle = basic_int(mantleArea)\n",
    "#Viscmantle = basic_int(mantleVisc)\n",
    "#Tempmantle = basic_int(mantleTemp)\n",
    "#Viscdismantle = basic_int(mantleVd)"
   ]
  },
  {
   "cell_type": "markdown",
   "metadata": {},
   "source": [
    "Viz.\n",
    "-----"
   ]
  },
  {
   "cell_type": "code",
   "execution_count": null,
   "metadata": {
    "collapsed": false
   },
   "outputs": [],
   "source": [
    "#viscVariable = gSwarm.add_variable( dataType=\"float\", count=1 )\n",
    "#viscVariable.data[:] = viscosityMapFn1.evaluate(gSwarm)"
   ]
  },
  {
   "cell_type": "code",
   "execution_count": null,
   "metadata": {
    "collapsed": false
   },
   "outputs": [],
   "source": [
    "if figures == 'gldb':\n",
    "    #Pack some stuff into a database as well\n",
    "    figDb = glucifer.Figure()\n",
    "    #figDb.append( glucifer.objects.Mesh(mesh))\n",
    "    figDb.append( glucifer.objects.VectorArrows(mesh,velocityField, scaling=0.0005))\n",
    "    #figDb.append( glucifer.objects.Points(gSwarm,tracerVariable, colours= 'white black'))\n",
    "    figDb.append( glucifer.objects.Points(gSwarm,materialVariable))\n",
    "    #figDb.append( glucifer.objects.Points(gSwarm,viscMinVariable))\n",
    "    #figDb.append( glucifer.objects.Points(gSwarm,fnViscMin))\n",
    "    figDb.append( glucifer.objects.Points(gSwarm,viscosityMapFn1, logScale=True))\n",
    "    #figDb.append( glucifer.objects.Points(gSwarm, strainRate_2ndInvariant, logScale=True))\n",
    "    figDb.append( glucifer.objects.Points(gSwarm,temperatureField))\n",
    "\n",
    "elif figures == 'store':\n",
    "    fullpath = os.path.join(outputPath + \"gldbs/\")\n",
    "    store = glucifer.Store(fullpath + 'subduction')\n",
    "\n",
    "    figTemp = glucifer.Figure(store,figsize=(300*np.round(aspectRatio,2),300))\n",
    "    figTemp.append( glucifer.objects.Points(gSwarm,temperatureField))\n",
    "\n",
    "    figVisc= glucifer.Figure(store, figsize=(300*np.round(aspectRatio,2),300))\n",
    "    figVisc.append( glucifer.objects.Points(gSwarm,viscosityMapFn1, logScale=True, valueRange =[1e-3,1e5]))\n",
    "\n",
    "    #figMech= glucifer.Figure(store, figsize=(300*np.round(aspectRatio,2),300))\n",
    "    #figMech.append( glucifer.objects.Points(gSwarm,fnViscMin))"
   ]
  },
  {
   "cell_type": "code",
   "execution_count": null,
   "metadata": {
    "collapsed": false
   },
   "outputs": [],
   "source": [
    "##############\n",
    "#Create a numpy array at the surface to get surface information on (using parallel-friendly evaluate_global)\n",
    "##############\n",
    "\n",
    "surface_xs = np.linspace(mesh.minCoord[0], mesh.maxCoord[0], mesh.elementRes[0] + 1)\n",
    "surface_nodes = np.array(zip(surface_xs, np.ones(len(surface_xs)*mesh.maxCoord[1]))) #For evaluation surface velocity\n",
    "normgradV = velocityField.fn_gradient[0]/fn.math.sqrt(velocityField[0]*velocityField[0])\n",
    "\n",
    "tempMM = fn.view.min_max(temperatureField)\n",
    "dummy = tempMM.evaluate(mesh)\n",
    "\n"
   ]
  },
  {
   "cell_type": "markdown",
   "metadata": {},
   "source": [
    "**Miscellania**"
   ]
  },
  {
   "cell_type": "code",
   "execution_count": null,
   "metadata": {
    "collapsed": false
   },
   "outputs": [],
   "source": [
    "##############\n",
    "#These functions handle checkpointing\n",
    "##############\n",
    "\n",
    "\n",
    "def checkpoint1(step, checkpointPath,filename, filewrites):\n",
    "    path = checkpointPath + str(step) \n",
    "    os.mkdir(path)\n",
    "    ##Write and save the file, if not already a writing step\n",
    "    if not step % filewrites == 0:\n",
    "        filename.write((17*'%-15s ' + '\\n') % (realtime, Viscdis, float(nu0), float(nu1), Avg_temp,\n",
    "                                              Tempmantle,TMAX,\n",
    "                                              Rms,Rms_surf,Max_vx_surf,Gravwork, etamax, etamin, \n",
    "                                              Area_mantle, Viscmantle,  Viscdismantle,Plateness ))\n",
    "    filename.close()\n",
    "    shutil.copyfile(os.path.join(outputPath, outputFile), os.path.join(path, outputFile))\n",
    "\n",
    "\n",
    "def checkpoint2(step, checkpointPath, swarm, filename, varlist = [materialVariable], varnames = ['materialVariable']):\n",
    "    path = checkpointPath + str(step) \n",
    "    velfile = \"velocityField\" + \".hdf5\"\n",
    "    tempfile = \"temperatureField\" + \".hdf5\"\n",
    "    pressfile = \"pressureField\" + \".hdf5\"\n",
    "    velocityField.save(os.path.join(path, velfile))\n",
    "    temperatureField.save(os.path.join(path, tempfile))\n",
    "    pressureField.save(os.path.join(path, pressfile))\n",
    "    swarm.save(os.path.join(path, \"swarm.h5\") ) \n",
    "    for ix in range(len(varlist)):\n",
    "        varb = varlist[ix]\n",
    "        varb.save(os.path.join(path,varnames[ix] + \".h5\"))\n",
    "    "
   ]
  },
  {
   "cell_type": "code",
   "execution_count": null,
   "metadata": {
    "collapsed": false
   },
   "outputs": [],
   "source": [
    "# initialise timer for computation\n",
    "start = time.clock()\n",
    "# setup summary output file (name above)\n",
    "if checkpointLoad:\n",
    "    if uw.rank() == 0:\n",
    "        shutil.copyfile(os.path.join(checkpointLoadDir, outputFile), outputPath+outputFile)\n",
    "    comm.Barrier()\n",
    "    f_o = open(os.path.join(outputPath, outputFile), 'a')\n",
    "    prevdata = np.genfromtxt(os.path.join(outputPath, outputFile), skip_header=0, skip_footer=0)\n",
    "    if len(prevdata.shape) == 1: #this is in case there is only one line in previous file\n",
    "        realtime = prevdata[0]\n",
    "    else:\n",
    "        realtime = prevdata[prevdata.shape[0]-1, 0]\n",
    "    step = int(checkpointLoadDir.split('/')[-1])\n",
    "    timevals = [0.]\n",
    "else:\n",
    "    f_o = open(outputPath+outputFile, 'w')\n",
    "    realtime = 0.\n",
    "    step = 0\n",
    "    timevals = [0.]"
   ]
  },
  {
   "cell_type": "markdown",
   "metadata": {},
   "source": [
    "Main simulation loop\n",
    "-----\n"
   ]
  },
  {
   "cell_type": "code",
   "execution_count": null,
   "metadata": {
    "collapsed": false
   },
   "outputs": [],
   "source": [
    "#while step < 6:\n",
    "while realtime < 1.:\n",
    "\n",
    "    # solve Stokes and advection systems\n",
    "    solver.solve(nonLinearIterate=True)\n",
    "    dt = advDiff.get_max_dt()\n",
    "    if step == 0:\n",
    "        dt = 0.\n",
    "    advDiff.integrate(dt)\n",
    "    passiveadvector.integrate(dt)\n",
    "    \n",
    "    # Increment\n",
    "    realtime += dt\n",
    "    step += 1\n",
    "    timevals.append(realtime)\n",
    "    ################\n",
    "    #Update temperature field in the air region\n",
    "    #Do this better...\n",
    "    ################\n",
    "    if (step % sticky_air_temp == 0):\n",
    "        for index, coord in enumerate(mesh.data):\n",
    "            if coord[1] >= 1.:\n",
    "                temperatureField.data[index] = ndp.TSP\n",
    "\n",
    "    # Calculate the Metrics, only on 1 of the processors:\n",
    "    ################\n",
    "    if (step % metric_output == 0):\n",
    "        ###############\n",
    "        #Swarm - based Metrics\n",
    "        ###############\n",
    "        # Calculate the RMS velocity and Nusselt number.\n",
    "        # Calculate the Metrics, only on 1 of the processors:\n",
    "        mantlerestrictFn = temprestrictionFn() #rebuild the mantle restriction function (but these should be dynamic?)\n",
    "        srrestrictFn = platenessFn(val = 0.1) #rebuild the plateness restriction function\n",
    "        dummy = tempMM.evaluate(mesh) #Re-evaluate any fn.view.min_max guys\n",
    "        #Rebuild these integrals (a test because metrics changes after a restart)\n",
    "        mantleArea   = uw.utils.Integral( mantlerestrictFn, mesh )\n",
    "        mantleTemp = uw.utils.Integral( temperatureField*mantlerestrictFn, mesh )\n",
    "        mantleVisc = uw.utils.Integral( finalviscosityFn*mantlerestrictFn, mesh )\n",
    "        mantleVd = uw.utils.Integral( (4.*viscosityMapFn1*sinner*mantlerestrictFn), mesh ) #these now work on MappingFunctions\n",
    "        ###\n",
    "        Avg_temp = avg_temp()\n",
    "        Rms = rms()\n",
    "        Rms_surf = rms_surf()\n",
    "        Max_vx_surf = max_vx_surf(velocityField, mesh)\n",
    "        Gravwork = basic_int(dwint)\n",
    "        Viscdis = basic_int(vdint)\n",
    "        nu1, nu0 = nusseltTB(temperatureField, mesh) # return top then bottom\n",
    "        etamax, etamin = visc_extr(finalviscosityFn)\n",
    "        Area_mantle = basic_int(mantleArea)\n",
    "        Viscmantle = basic_int(mantleVisc)\n",
    "        Tempmantle = basic_int(mantleTemp)\n",
    "        Viscdismantle = basic_int(mantleVd)\n",
    "        Plateness = basic_int(plateint)/basic_int(surfint)\n",
    "        TMAX = tempMM.max_global()\n",
    "        # output to summary text file\n",
    "        if uw.rank()==0:\n",
    "            f_o.write((17*'%-15s ' + '\\n') % (realtime, Viscdis, float(nu0), float(nu1), Avg_temp,\n",
    "                                              Tempmantle,TMAX,\n",
    "                                              Rms,Rms_surf,Max_vx_surf,Gravwork, etamax, etamin, \n",
    "                                              Area_mantle, Viscmantle,  Viscdismantle,Plateness ))\n",
    "    ################\n",
    "    #Also repopulate entire swarm periodically\n",
    "    ################\n",
    "    #if step % swarm_repop == 0:\n",
    "    population_control.repopulate()   \n",
    "    ################\n",
    "    #Checkpoint\n",
    "    ################\n",
    "    if step % checkpoint_every == 0:\n",
    "        if uw.rank() == 0:\n",
    "            checkpoint1(step, checkpointPath,f_o, metric_output)           \n",
    "        checkpoint2(step, checkpointPath, gSwarm, f_o, varlist = varlist, varnames = varnames)\n",
    "        f_o = open(os.path.join(outputPath, outputFile), 'a') #is this line supposed to be here?\n",
    "    ################\n",
    "    #Gldb output\n",
    "    ################ \n",
    "    if (step % gldbs_output == 0): \n",
    "        if figures == 'gldb':\n",
    "            #Remember to rebuild any necessary swarm variables\n",
    "            fnamedb = \"dbFig\" + \"_\" + str(ModIt) + \"_\" + str(step) + \".gldb\"\n",
    "            fullpath = os.path.join(outputPath + \"gldbs/\" + fnamedb)\n",
    "            figDb.save_database(fullpath)\n",
    "        elif figures == 'store':      \n",
    "            fullpath = os.path.join(outputPath + \"gldbs/\")\n",
    "            store.step = step\n",
    "            #Save figures to store\n",
    "            figVisc.save( fullPath + \"Visc\" + str(step).zfill(4))\n",
    "            #figMech.save( fullPath + \"Mech\" + str(step).zfill(4))\n",
    "            figTemp.save(    outputPath + \"Temp\"    + str(step).zfill(4))\n",
    "    ################\n",
    "    #Files output\n",
    "    ################ \n",
    "    if (step % files_output == 0):\n",
    "\n",
    "        vel_surface = velocityField.evaluate_global(surface_nodes)\n",
    "        norm_surface_sr = normgradV.evaluate_global(surface_nodes)\n",
    "        if uw.rank() == 0:\n",
    "            fnametemp = \"velsurface\" + \"_\" + str(ModIt) + \"_\" + str(step)\n",
    "            fullpath = os.path.join(outputPath + \"files/\" + fnametemp)\n",
    "            np.save(fullpath, vel_surface)\n",
    "            fnametemp = \"norm_surface_sr\" + \"_\" + str(ModIt) + \"_\" + str(step)\n",
    "            fullpath = os.path.join(outputPath + \"files/\" + fnametemp)\n",
    "            np.save(fullpath, norm_surface_sr)\n",
    "    ################\n",
    "    #Particle update\n",
    "    ###############    \n",
    "    #ageVariable.data[:] += dt #increment the ages (is this efficient?)\n",
    "    ageDT += dt\n",
    "    \n",
    "    if step % swarm_update == 0:\n",
    "        #Increment age stuff. \n",
    "        ageConditions = [ (depthFn < AGETRACKDEPTH, ageVariable + ageDT ),  #add ageDThere\n",
    "                  (True, 0.) ]\n",
    "        ageVariable.data[:] = fn.branching.conditional( ageConditions ).evaluate(gSwarm)        \n",
    "        ageDT = 0. #reset the age incrementer\n",
    "        \n",
    "        #Apply any materialVariable changes\n",
    "        for i in range(2): #go through twice\n",
    "            materialVariable.data[:] = fn.branching.conditional(DG.condition_list).evaluate(gSwarm)\n",
    "\n",
    "    \n",
    "f_o.close()\n",
    "print 'step =',step"
   ]
  },
  {
   "cell_type": "code",
   "execution_count": null,
   "metadata": {
    "collapsed": true
   },
   "outputs": [],
   "source": [
    "saved = glucifer.Viewer('subduction')"
   ]
  },
  {
   "cell_type": "code",
   "execution_count": null,
   "metadata": {
    "collapsed": false
   },
   "outputs": [],
   "source": [
    "saved.steps"
   ]
  },
  {
   "cell_type": "code",
   "execution_count": null,
   "metadata": {
    "collapsed": false
   },
   "outputs": [],
   "source": [
    "#Re-visualise the final timestep\n",
    "saved.step = saved.steps[-1]\n",
    "for name in saved:\n",
    "    print(name)\n",
    "    fig = saved[name]\n",
    "    fig.quality = 2\n",
    "    fig.properties[\"title\"] = \"Timestep ##\"\n",
    "    fig.show()\n",
    "    fig.save_image(name )"
   ]
  },
  {
   "cell_type": "code",
   "execution_count": null,
   "metadata": {
    "collapsed": false
   },
   "outputs": [],
   "source": [
    "figDb.save_database('test.gldb')"
   ]
  },
  {
   "cell_type": "code",
   "execution_count": null,
   "metadata": {
    "collapsed": false
   },
   "outputs": [],
   "source": [
    "vel_surface = velocityField.evaluate_global(surface_nodes)\n",
    "norm_surface_sr = normgradV.evaluate_global(surface_nodes)"
   ]
  },
  {
   "cell_type": "code",
   "execution_count": null,
   "metadata": {
    "collapsed": false
   },
   "outputs": [],
   "source": [
    "x180 = np.copy(vel_surface)"
   ]
  },
  {
   "cell_type": "code",
   "execution_count": null,
   "metadata": {
    "collapsed": true
   },
   "outputs": [],
   "source": [
    "x90 = np.copy(vel_surface)"
   ]
  },
  {
   "cell_type": "code",
   "execution_count": null,
   "metadata": {
    "collapsed": false
   },
   "outputs": [],
   "source": [
    "import matplotlib.pylab as plt\n",
    "%pylab inline"
   ]
  },
  {
   "cell_type": "code",
   "execution_count": null,
   "metadata": {
    "collapsed": false
   },
   "outputs": [],
   "source": [
    "plt.plot(x180[:,0])\n",
    "plt.plot(x90[:,0])"
   ]
  },
  {
   "cell_type": "code",
   "execution_count": 128,
   "metadata": {
    "collapsed": false
   },
   "outputs": [
    {
     "data": {
      "text/plain": [
       "(257, 2)"
      ]
     },
     "execution_count": 128,
     "metadata": {},
     "output_type": "execute_result"
    }
   ],
   "source": [
    "vel_surface.shape"
   ]
  },
  {
   "cell_type": "code",
   "execution_count": 148,
   "metadata": {
    "collapsed": true
   },
   "outputs": [],
   "source": [
    "np.copy?"
   ]
  },
  {
   "cell_type": "code",
   "execution_count": null,
   "metadata": {
    "collapsed": true
   },
   "outputs": [],
   "source": []
  }
 ],
 "metadata": {
  "kernelspec": {
   "display_name": "Python 2",
   "language": "python",
   "name": "python2"
  },
  "language_info": {
   "codemirror_mode": {
    "name": "ipython",
    "version": 2
   },
   "file_extension": ".py",
   "mimetype": "text/x-python",
   "name": "python",
   "nbconvert_exporter": "python",
   "pygments_lexer": "ipython2",
   "version": "2.7.9"
  },
  "widgets": {
   "state": {},
   "version": "1.1.2"
  }
 },
 "nbformat": 4,
 "nbformat_minor": 0
}
