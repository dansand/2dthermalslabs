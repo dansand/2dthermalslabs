{
 "cells": [
  {
   "cell_type": "markdown",
   "metadata": {},
   "source": [
    "## Thermal subduction, linear rheology:\n",
    "\n",
    "\n",
    "The viscous rheology in this model is similar to the models described in the PhD thesis of Micheal Kaplan\n",
    "\n",
    "\n",
    "\n",
    "**Keywords:** subduction, thermally-activated creep, \n",
    "\n",
    "\n",
    "**References:**\n",
    "\n",
    "\n",
    "Kaplan, Michael. Numerical Geodynamics of Solid Planetary Deformation. Diss. University of Southern California, 2015."
   ]
  },
  {
   "cell_type": "code",
   "execution_count": 3,
   "metadata": {
    "collapsed": false
   },
   "outputs": [],
   "source": [
    "import numpy as np\n",
    "import underworld as uw\n",
    "import math\n",
    "from underworld import function as fn\n",
    "import glucifer\n",
    "\n",
    "import os\n",
    "import sys\n",
    "import natsort\n",
    "import shutil\n",
    "from easydict import EasyDict as edict\n",
    "import operator\n",
    "import pint\n",
    "import time\n",
    "import operator\n",
    "from slippy2 import boundary_layer2d\n",
    "from slippy2 import material_graph\n",
    "from slippy2 import spmesh\n",
    "from slippy2 import phase_function\n",
    "from unsupported.interfaces import markerLine2D\n",
    "\n",
    "from mpi4py import MPI\n",
    "comm = MPI.COMM_WORLD\n",
    "rank = comm.Get_rank()"
   ]
  },
  {
   "cell_type": "code",
   "execution_count": 4,
   "metadata": {
    "collapsed": true
   },
   "outputs": [],
   "source": [
    "#####\n",
    "#Stubborn version number conflicts - need to figure out my Docker container runs an old version. For now...\n",
    "#####\n",
    "try:\n",
    "    natsort.natsort = natsort.natsorted\n",
    "except:\n",
    "    natsort.natsort = natsort.natsort"
   ]
  },
  {
   "cell_type": "markdown",
   "metadata": {},
   "source": [
    "Model name and directories\n",
    "-----"
   ]
  },
  {
   "cell_type": "code",
   "execution_count": 5,
   "metadata": {
    "collapsed": false
   },
   "outputs": [],
   "source": [
    "############\n",
    "#Model letter and number\n",
    "############\n",
    "\n",
    "\n",
    "#Model letter identifier default\n",
    "Model = \"T\"\n",
    "\n",
    "#Model number identifier default:\n",
    "ModNum = 0\n",
    "\n",
    "#Any isolated letter / integer command line args are interpreted as Model/ModelNum\n",
    "\n",
    "if len(sys.argv) == 1:\n",
    "    ModNum = ModNum \n",
    "elif sys.argv[1] == '-f': #\n",
    "    ModNum = ModNum \n",
    "else:\n",
    "    for farg in sys.argv[1:]:\n",
    "        if not '=' in farg: #then Assume it's a not a paramter argument\n",
    "            try:\n",
    "                ModNum = int(farg) #try to convert everingthing to a float, else remains string\n",
    "            except ValueError:\n",
    "                Model  = farg"
   ]
  },
  {
   "cell_type": "code",
   "execution_count": 6,
   "metadata": {
    "collapsed": false
   },
   "outputs": [],
   "source": [
    "###########\n",
    "#Standard output directory setup\n",
    "###########\n",
    "\n",
    "outputPath = \"results\" + \"/\" +  str(Model) + \"/\" + str(ModNum) + \"/\" \n",
    "imagePath = outputPath + 'images/'\n",
    "filePath = outputPath + 'files/'\n",
    "checkpointPath = outputPath + 'checkpoint/'\n",
    "dbPath = outputPath + 'gldbs/'\n",
    "outputFile = 'results_model' + Model + '_' + str(ModNum) + '.dat'\n",
    "\n",
    "if uw.rank()==0:\n",
    "    # make directories if they don't exist\n",
    "    if not os.path.isdir(outputPath):\n",
    "        os.makedirs(outputPath)\n",
    "    if not os.path.isdir(checkpointPath):\n",
    "        os.makedirs(checkpointPath)\n",
    "    if not os.path.isdir(imagePath):\n",
    "        os.makedirs(imagePath)\n",
    "    if not os.path.isdir(dbPath):\n",
    "        os.makedirs(dbPath)\n",
    "    if not os.path.isdir(filePath):\n",
    "        os.makedirs(filePath)\n",
    "\n",
    "        \n",
    "comm.Barrier() #Barrier here so no procs run the check in the next cell too early"
   ]
  },
  {
   "cell_type": "code",
   "execution_count": 7,
   "metadata": {
    "collapsed": false
   },
   "outputs": [
    {
     "name": "stdout",
     "output_type": "stream",
     "text": [
      "results/T/0/checkpoint/ is empty\n"
     ]
    }
   ],
   "source": [
    "###########\n",
    "#Check if starting from checkpoint\n",
    "###########\n",
    "\n",
    "checkdirs = []\n",
    "for dirpath, dirnames, files in os.walk(checkpointPath):\n",
    "    if files:\n",
    "        print dirpath, 'has files'\n",
    "        checkpointLoad = True\n",
    "        checkdirs.append(dirpath)\n",
    "    if not files:\n",
    "        print dirpath, 'is empty'\n",
    "        checkpointLoad = False"
   ]
  },
  {
   "cell_type": "code",
   "execution_count": 8,
   "metadata": {
    "collapsed": true
   },
   "outputs": [],
   "source": [
    "# setup summary output file (name above)\n",
    "if checkpointLoad:\n",
    "    checkpointLoadDir = natsort.natsort(checkdirs)[-1]\n",
    "    if uw.rank() == 0:\n",
    "        shutil.copyfile(os.path.join(checkpointLoadDir, outputFile), outputPath+outputFile)\n",
    "    comm.Barrier()\n",
    "    f_o = open(os.path.join(outputPath, outputFile), 'a')\n",
    "    prevdata = np.genfromtxt(os.path.join(outputPath, outputFile), skip_header=0, skip_footer=0)\n",
    "    if len(prevdata.shape) == 1: #this is in case there is only one line in previous file\n",
    "        realtime = prevdata[-1]  #This corresponds to the column you write time data to\n",
    "    else:\n",
    "        realtime = prevdata[prevdata.shape[0]-1, -1]\n",
    "    step = int(checkpointLoadDir.split('/')[-1])\n",
    "    timevals = [0.]\n",
    "else:\n",
    "    f_o = open(outputPath+outputFile, 'w')\n",
    "    realtime = 0.\n",
    "    step = 0\n",
    "    timevals = [0.]"
   ]
  },
  {
   "cell_type": "markdown",
   "metadata": {},
   "source": [
    "Setup parameters\n",
    "-----\n",
    "\n",
    "Set simulation parameters for test."
   ]
  },
  {
   "cell_type": "markdown",
   "metadata": {},
   "source": [
    "**Use pint to setup any unit conversions we'll need**"
   ]
  },
  {
   "cell_type": "code",
   "execution_count": 9,
   "metadata": {
    "collapsed": false
   },
   "outputs": [
    {
     "data": {
      "text/html": [
       "10000.0 meter/megayear"
      ],
      "text/latex": [
       "$10000.0 \\frac{meter}{megayear}$"
      ],
      "text/plain": [
       "<Quantity(10000.0, 'meter / megayear')>"
      ]
     },
     "execution_count": 9,
     "metadata": {},
     "output_type": "execute_result"
    }
   ],
   "source": [
    "u = pint.UnitRegistry()\n",
    "cmpery = 1.*u.cm/u.year\n",
    "mpermy = 1.*u.m/u.megayear\n",
    "year = 1.*u.year\n",
    "spery = year.to(u.sec)\n",
    "cmpery.to(mpermy)"
   ]
  },
  {
   "cell_type": "code",
   "execution_count": 10,
   "metadata": {
    "collapsed": false
   },
   "outputs": [
    {
     "name": "stdout",
     "output_type": "stream",
     "text": [
      "(0.04, 1.2675505856327397e-11)\n"
     ]
    }
   ],
   "source": [
    "box_half_width =4000e3\n",
    "age_at_trench = 100e6\n",
    "cmperyear = box_half_width / age_at_trench #m/y\n",
    "mpersec = cmperyear*(cmpery.to(u.m/u.second)).magnitude #m/sec\n",
    "print(cmperyear, mpersec )"
   ]
  },
  {
   "cell_type": "markdown",
   "metadata": {},
   "source": [
    "**Set parameter dictionaries**\n",
    "\n",
    "* Parameters are stored in dictionaries. \n",
    "* If starting from checkpoint, parameters are loaded using pickle\n",
    "* If params are passed in as flags to the script, they overwrite \n"
   ]
  },
  {
   "cell_type": "code",
   "execution_count": 11,
   "metadata": {
    "collapsed": false
   },
   "outputs": [],
   "source": [
    "###########\n",
    "#Parameter / settings dictionaries get saved&loaded using pickle\n",
    "###########\n",
    " \n",
    "dp = edict({}) #dimensional parameters\n",
    "sf = edict({}) #scaling factors\n",
    "ndp = edict({}) #dimensionless paramters\n",
    "md = edict({}) #model paramters, flags etc\n",
    "#od = edict({}) #output frequencies\n",
    "\n"
   ]
  },
  {
   "cell_type": "code",
   "execution_count": 12,
   "metadata": {
    "collapsed": false
   },
   "outputs": [],
   "source": [
    "dict_list = [dp, sf, ndp, md]\n",
    "dict_names = ['dp.pkl', 'sf.pkl', 'ndp.pkl', 'md.pkl']\n",
    "\n",
    "def save_pickles(dict_list, dict_names, dictPath):\n",
    "    import pickle\n",
    "    counter = 0\n",
    "    for pdict in dict_list:\n",
    "        myfile = os.path.join(dictPath, dict_names[counter])\n",
    "        with open(myfile, 'wb') as f:\n",
    "            pickle.dump(pdict, f)\n",
    "        counter+=1\n",
    "\n",
    "\n",
    "#ended up having to pretty much write a hard-coded function\n",
    "#All dictionaries we want checkpointed will have to  be added here \n",
    "#and where the function is called\n",
    "#Fortunately, this function is only called ONCE\n",
    "\n",
    "def load_pickles():\n",
    "    import pickle\n",
    "    dirpath = os.path.join(checkpointPath, str(step))\n",
    "    dpfile = open(os.path.join(dirpath, 'dp.pkl'), 'r')\n",
    "    dp = pickle.load(dpfile)\n",
    "#    #\n",
    "    ndpfile = open(os.path.join(dirpath, 'ndp.pkl'), 'r')\n",
    "    ndp = edict(pickle.load(ndpfile))\n",
    "    #\n",
    "    sffile = open(os.path.join(dirpath, 'sf.pkl'), 'r')\n",
    "    sf = edict(pickle.load(sffile))\n",
    "    #\n",
    "    mdfile = open(os.path.join(dirpath, 'md.pkl'), 'r')\n",
    "    md = edict(pickle.load(mdfile))\n",
    "    return dp, ndp, sf, md"
   ]
  },
  {
   "cell_type": "code",
   "execution_count": 13,
   "metadata": {
    "collapsed": false
   },
   "outputs": [],
   "source": [
    "###########\n",
    "#Store the physical parameters, scale factors and dimensionless pramters in easyDicts\n",
    "#Mainly helps with avoiding overwriting variables\n",
    "###########\n",
    "\n",
    "\n",
    "dp = edict({'LS':2900*1e3, #Scaling Length scale\n",
    "            'depth':660*1e3, #Depth of domain\n",
    "            'rho':3300.,  #reference density\n",
    "            'g':9.8, #surface gravity\n",
    "            'eta0':2.5e20, #reference viscosity\n",
    "            'k':1e-6, #thermal diffusivity\n",
    "            'a':3e-5, #surface thermal expansivity\n",
    "            'R':8.314, #gas constant\n",
    "            'TP':1673., #mantle potential temp (K)\n",
    "            'TS':273., #surface temp (K)\n",
    "            #Rheology - flow law paramters\n",
    "            'Adf':3e-11, #pre-exp factor for diffusion creep\n",
    "            'Edf':1e5, #Total viscosity variation in the Kaplan model\n",
    "            'cm':40e6, #mantle cohesion in Byerlee law\n",
    "            'cc':40e6, #mantle cohesion in Byerlee law\n",
    "            'ci':40e6, #mantle cohesion in Byerlee law\n",
    "            'cf':40e6, #mantle cohesion in Byerlee law\n",
    "            'fcm':0.06,   #mantle friction coefficient in Byerlee law (tan(phi))\n",
    "            'fcc':0.06,   #crust friction coefficient \n",
    "            'fci':0.06,   #subduction interface friction coefficient\n",
    "            'fcf':0.06,   #subduction interface friction coefficient\n",
    "            #Rheology - cutoff values\n",
    "            'eta_min':1e17, \n",
    "            'eta_max':1e25, #viscosity max in the mantle material\n",
    "            'eta_min_crust':2.5e19, #viscosity min in the weak-crust material\n",
    "            'eta_max_crust':2.5e19, #viscosity max in the weak-crust material\n",
    "            'eta_min_interface':2.5e19, #viscosity min in the subduction interface material\n",
    "            'eta_max_interface':2.5e19, #viscosity max in the subduction interface material\n",
    "            'eta_min_fault':2.5e19, #viscosity min in the subduction interface material\n",
    "            'eta_max_fault':2.5e19, #viscosity max in the subduction interface material\n",
    "            #Length scales\n",
    "            'MANTLETOCRUST':8.*1e3, #Crust depth\n",
    "            'HARZBURGDEPTH':40e3,\n",
    "            'CRUSTTOMANTLE':800.*1e3,\n",
    "            'LITHTOMANTLE':(900.*1e3),\n",
    "            'MANTLETOLITH':200.*1e3, \n",
    "            'TOPOHEIGHT':10.*1e3,  #rock-air topography limits\n",
    "            'CRUSTTOECL':100.*1e3,\n",
    "            'LOWMANTLEDEPTH':660.*1e3, \n",
    "            'CRUSTVISCUTOFF':150.*1e3, #Deeper than this, crust material rheology reverts to mantle rheology\n",
    "            'AGETRACKDEPTH':100e3, #above this depth we track the age of the lithsphere (below age is assumed zero)\n",
    "            #Slab and plate parameters\n",
    "            'roc':250e3,     #radius of curvature of slab\n",
    "            'subzone':0.0,   #X position of subduction zone..\n",
    "            'lRidge':-0.5*(660e3*6),  #For depth = 670 km, aspect ratio of 6, this puts the ridges at MINX, MAXX\n",
    "            'rRidge':0.5*(660e3*6),\n",
    "            'maxDepth':250e3,\n",
    "            'theta':70., #Angle to truncate the slab (can also control with a maxDepth param)\n",
    "            'slabmaxAge':60e6, #age of subduction plate at trench\n",
    "            'platemaxAge':60e6, #max age of slab (Plate model)\n",
    "            'sense':'Right', #dip direction\n",
    "            'op_age_fac':0.5, #this controls the overidding plate age reduction\n",
    "            #Misc\n",
    "            'StALS':100e3, #depth of sticky air layer\n",
    "            'Steta_n':1e19, #stick air viscosity, normal\n",
    "            'Steta_s':1e18, #stick air viscosity, shear \n",
    "            'plate_vel':4,\n",
    "            'low_mantle_visc_fac':30.\n",
    "           })\n",
    "\n",
    "#append any derived parameters to the dictionary\n",
    "dp.deltaT = dp.TP - dp.TS\n",
    "\n",
    "\n",
    "\n"
   ]
  },
  {
   "cell_type": "code",
   "execution_count": 14,
   "metadata": {
    "collapsed": false
   },
   "outputs": [],
   "source": [
    "#Modelling and Physics switches\n",
    "\n",
    "md = edict({'refineMesh':True,\n",
    "            'stickyAir':False,\n",
    "            'subductionFault':False,\n",
    "            'symmetricIcs':False,\n",
    "            'velBcs':False,\n",
    "            'aspectRatio':6,\n",
    "            'compBuoyancy':False, #use compositional & phase buoyancy, or simply thermal\n",
    "            'periodicBcs':False,\n",
    "            'RES':64,\n",
    "            'PIC_integration':True,\n",
    "            'ppc':25,\n",
    "            'elementType':\"Q1/dQ0\"\n",
    "            })\n",
    "\n",
    "#\"Q2/DPC1\""
   ]
  },
  {
   "cell_type": "code",
   "execution_count": null,
   "metadata": {
    "collapsed": false
   },
   "outputs": [],
   "source": []
  },
  {
   "cell_type": "code",
   "execution_count": 15,
   "metadata": {
    "collapsed": false
   },
   "outputs": [],
   "source": [
    "###########\n",
    "#If starting from a checkpoint load params from file\n",
    "###########\n",
    "\n",
    "if checkpointLoad:\n",
    "    dp, ndp, sf, md = load_pickles()  #remember to add any extra dictionaries\n"
   ]
  },
  {
   "cell_type": "code",
   "execution_count": 16,
   "metadata": {
    "collapsed": false
   },
   "outputs": [],
   "source": [
    "###########\n",
    "#If command line args are given, overwrite\n",
    "#Note that this assumes that params as commans line args/\n",
    "#only append to the 'dimensional' and 'model' dictionary (not the non-dimensional)\n",
    "###########    \n",
    "\n",
    "\n",
    "###########\n",
    "#If extra arguments are provided to the script\" eg:\n",
    "### >>> uw.py 2 dp.arg1=1 dp.arg2=foo dp.arg3=3.0\n",
    "###\n",
    "###This would assign ModNum = 2, all other values go into the dp dictionary, under key names provided\n",
    "###\n",
    "###Two operators are searched for, = & *=\n",
    "###\n",
    "###If =, parameter is re-assigned to givn value\n",
    "###If *=, parameter is multipled by given value\n",
    "###\n",
    "### >>> uw.py 2 dp.arg1=1 dp.arg2=foo dp.arg3*=3.0\n",
    "###########\n",
    "\n",
    "for farg in sys.argv[1:]:\n",
    "    try:\n",
    "        (dicitem,val) = farg.split(\"=\") #Split on equals operator\n",
    "        (dic,arg) = dicitem.split(\".\") #colon notation\n",
    "        if '*=' in farg:\n",
    "            (dicitem,val) = farg.split(\"*=\") #If in-place multiplication, split on '*='\n",
    "            (dic,arg) = dicitem.split(\".\")\n",
    "            \n",
    "        if val == 'True': \n",
    "            val = True\n",
    "        elif val == 'False':     #First check if args are boolean\n",
    "            val = False\n",
    "        else:\n",
    "            try:\n",
    "                val = float(val) #next try to convert  to a float,\n",
    "            except ValueError:\n",
    "                pass             #otherwise leave as string\n",
    "        #Update the dictionary\n",
    "        if farg.startswith('dp'):\n",
    "            if '*=' in farg:\n",
    "                dp[arg] = dp[arg]*val #multiply parameter by given factor\n",
    "            else:\n",
    "                dp[arg] = val    #or reassign parameter by given value\n",
    "        if farg.startswith('md'):\n",
    "            if '*=' in farg:\n",
    "                md[arg] = md[arg]*val #multiply parameter by given factor\n",
    "            else:\n",
    "                md[arg] = val    #or reassign parameter by given value\n",
    "                \n",
    "    except:\n",
    "        pass\n",
    "            \n",
    "\n",
    "comm.barrier()"
   ]
  },
  {
   "cell_type": "code",
   "execution_count": 17,
   "metadata": {
    "collapsed": true
   },
   "outputs": [],
   "source": [
    "#print('refine Mesh is: ', md.refineMesh)"
   ]
  },
  {
   "cell_type": "code",
   "execution_count": 18,
   "metadata": {
    "collapsed": false
   },
   "outputs": [],
   "source": [
    "#Only build these guys first time around, otherwise the read from checkpoints\n",
    "#Important because some of these params (like SZ location) may change during model evolution\n",
    "\n",
    "\n",
    "if not checkpointLoad:\n",
    "\n",
    "    \n",
    "    \n",
    "    sf = edict({'stress':dp.LS**2/(dp.k*dp.eta0),\n",
    "                'lith_grad':dp.rho*dp.g*(dp.LS)**3/(dp.eta0*dp.k) , \n",
    "                'vel':dp.LS/dp.k,\n",
    "                'SR':dp.LS**2/dp.k    \n",
    "               })\n",
    "\n",
    "    #dimensionless parameters\n",
    "\n",
    "    ndp = edict({'RA':(dp.g*dp.rho*dp.a*(dp.TP - dp.TS)*(dp.LS)**3)/(dp.k*dp.eta0),\n",
    "                 'Edf':math.log(dp.Edf),\n",
    "                 'TSP':0., \n",
    "                 'TBP':1.,\n",
    "                 'TPP':(dp.TP - dp.TS)/dp.deltaT, #dimensionless potential temp\n",
    "                 'TS':dp.TS/dp.deltaT,\n",
    "                 'TP':dp.TP/dp.deltaT,\n",
    "                 'cm':dp.cm*sf.stress,\n",
    "                 'cc':dp.cc*sf.stress,    #{dimensionless cohesion in mantle, crust, interface}\n",
    "                 'ci':dp.ci*sf.stress,\n",
    "                 'cf':dp.cf*sf.stress,\n",
    "                 'fcmd':dp.fcm*sf.lith_grad, \n",
    "                 'fccd':dp.fcc*sf.lith_grad, #{dimensionless friction coefficient in mantle, crust, interface}\n",
    "                 'fcid':dp.fci*sf.lith_grad, \n",
    "                 'fcfd':dp.fci*sf.lith_grad, \n",
    "                 #Rheology - cutoff values\n",
    "                 'eta_min':dp.eta_min/dp.eta0, \n",
    "                 'eta_max':dp.eta_max/dp.eta0, #viscosity max in the mantle material\n",
    "                 'eta_min_crust':dp.eta_min_crust/dp.eta0, #viscosity min in the weak-crust material\n",
    "                 'eta_max_crust':dp.eta_max_crust/dp.eta0, #viscosity max in the weak-crust material\n",
    "                 'eta_min_interface':dp.eta_min_interface/dp.eta0, #viscosity min in the subduction interface material\n",
    "                 'eta_max_interface':dp.eta_max_interface/dp.eta0, #viscosity max in the subduction interface material\n",
    "                 'eta_min_fault':dp.eta_min_fault/dp.eta0, #viscosity min in the subduction interface material\n",
    "                 'eta_max_fault':dp.eta_max_fault/dp.eta0, #viscosity max in the subduction interface material   \n",
    "                 #Length scales\n",
    "                 'MANTLETOCRUST':dp.MANTLETOCRUST/dp.LS, #Crust depth\n",
    "                 'HARZBURGDEPTH':dp.HARZBURGDEPTH/dp.LS,\n",
    "                 'CRUSTTOMANTLE':dp.CRUSTTOMANTLE/dp.LS,\n",
    "                 'LITHTOMANTLE':dp.LITHTOMANTLE/dp.LS,\n",
    "                 'MANTLETOLITH':dp.MANTLETOLITH/dp.LS,\n",
    "                 'TOPOHEIGHT':dp.TOPOHEIGHT/dp.LS,  #rock-air topography limits\n",
    "                 'CRUSTTOECL':dp.CRUSTTOECL/dp.LS,\n",
    "                 'LOWMANTLEDEPTH':dp.LOWMANTLEDEPTH/dp.LS, \n",
    "                 'CRUSTVISCUTOFF':dp.CRUSTVISCUTOFF/dp.LS, #Deeper than this, crust material rheology reverts to mantle rheology\n",
    "                 'AGETRACKDEPTH':dp.AGETRACKDEPTH/dp.LS,\n",
    "                 #Slab and plate parameters\n",
    "                 'roc':dp.roc/dp.LS,     #radius of curvature of slab\n",
    "                 'subzone':dp.subzone/dp.LS,   #X position of subduction zone..\n",
    "                 'lRidge':np.round(dp.lRidge/dp.LS, 3),  #For depth = 670 km, aspect ratio of 4, this puts the ridges at MINX, MAXX\n",
    "                 'rRidge':np.round(dp.rRidge/dp.LS, 3),\n",
    "                 'maxDepth':dp.maxDepth/dp.LS,    \n",
    "                 #misc\n",
    "                 'Steta_n':dp.Steta_n/dp.eta0, #stick air viscosity, normal\n",
    "                 'Steta_s':dp.Steta_n/dp.eta0, #stick air viscosity, shear \n",
    "                 'StALS':dp.StALS/dp.LS,\n",
    "                 'plate_vel':sf.vel*dp.plate_vel*(cmpery.to(u.m/u.second)).magnitude,\n",
    "                 'low_mantle_visc_fac':dp.low_mantle_visc_fac\n",
    "                })\n",
    "\n",
    "\n",
    "\n",
    "    #Append any more derived paramters\n",
    "    ndp.StRA = (3300.*dp.g*(dp.LS)**3)/(dp.eta0 *dp.k) #Composisitional Rayleigh number for rock-air buoyancy force\n",
    "    dp.CVR = (0.1*(dp.k/dp.LS)*ndp.RA**(2/3.))\n",
    "    ndp.CVR = dp.CVR*sf.vel #characteristic velocity"
   ]
  },
  {
   "cell_type": "markdown",
   "metadata": {},
   "source": [
    "**Model setup parameters**"
   ]
  },
  {
   "cell_type": "code",
   "execution_count": 19,
   "metadata": {
    "collapsed": true
   },
   "outputs": [],
   "source": [
    "if 'Q2' in md.elementType:\n",
    "    md.RES = int(0.5*md.RES)"
   ]
  },
  {
   "cell_type": "code",
   "execution_count": 20,
   "metadata": {
    "collapsed": false
   },
   "outputs": [],
   "source": [
    "###########\n",
    "#Model setup parameters\n",
    "###########\n",
    "\n",
    "dim = 2          # number of spatial dimensions\n",
    "\n",
    "\n",
    "#Domain and Mesh paramters\n",
    "Xres = int(md.RES*8)   #more than twice the resolution in X-dim, which will be 'corrected' by the refinement we'll use in Y\n",
    "\n",
    "\n",
    "MINY = 1. - (dp.depth/dp.LS)\n",
    "if md.stickyAir:\n",
    "    Yres = int(md.RES)\n",
    "    MAXY = 1. + dp.StALS/dp.LS #150km\n",
    "    \n",
    "else:\n",
    "    Yres = int(md.RES)\n",
    "    MAXY = 1.\n",
    "\n",
    "\n",
    "periodic = [False, False]\n",
    "if md.periodicBcs:\n",
    "    periodic = [True, False]\n",
    "    \n",
    "    \n",
    "hw = np.round(0.5*(dp.depth/dp.LS)*md.aspectRatio, 3)\n",
    "MINX = -1.*hw\n",
    "\n",
    "MAXX = hw\n",
    "MAXY = 1.\n",
    "    \n",
    "    \n",
    "\n",
    "Xres = int(md.RES*md.aspectRatio) #careful\n",
    "#if MINY == 0.5:\n",
    "#    Xres = int(2.*RES*md.aspectRatio)\n",
    "    \n",
    "\n",
    "if md.stickyAir:\n",
    "    Yres = int(md.RES)\n",
    "    MAXY = np.round(MAXY + dp.StALS/dp.LS, 3)\n",
    "    \n",
    "else:\n",
    "    Yres = int(md.RES)\n",
    "    MAXY = np.round(MAXY, 3)\n",
    "\n",
    "periodic = [False, False]\n",
    "if md.periodicBcs:\n",
    "    periodic = [True, False]\n",
    "    \n"
   ]
  },
  {
   "cell_type": "markdown",
   "metadata": {},
   "source": [
    "### Metric output"
   ]
  },
  {
   "cell_type": "code",
   "execution_count": 21,
   "metadata": {
    "collapsed": true
   },
   "outputs": [],
   "source": [
    "#Metric output stuff\n",
    "figures =  'gldb' #glucifer Store won't work on all machines, if not, set to 'gldb' \n",
    "swarm_repop, swarm_update = 10, 10\n",
    "gldbs_output = 100\n",
    "checkpoint_every, files_output = 200, 100\n",
    "metric_output = 10\n",
    "sticky_air_temp = 1e6"
   ]
  },
  {
   "cell_type": "code",
   "execution_count": 22,
   "metadata": {
    "collapsed": false
   },
   "outputs": [],
   "source": [
    "#dp.lRidge/dp.LS, np.round(0.5*(dp.depth/dp.LS)*md.aspectRatio, 1)\n",
    "#np.round(0.5*(dp.depth/dp.LS)*md.aspectRatio, 1), ndp.lRidge\n",
    "#np.round(dp.lRidge/dp.LS, 5)\n",
    "#md.aspectRatio\n",
    "#-0.5*(660e3*6)/dp.LS, np.round(0.5*(dp.depth/dp.LS)*md.aspectRatio, 3)\n",
    "#mesh.maxCoord[0], ndp.rRidge"
   ]
  },
  {
   "cell_type": "markdown",
   "metadata": {},
   "source": [
    "Create mesh and finite element variables\n",
    "------"
   ]
  },
  {
   "cell_type": "code",
   "execution_count": 23,
   "metadata": {
    "collapsed": false
   },
   "outputs": [],
   "source": [
    "mesh = uw.mesh.FeMesh_Cartesian( elementType = (md.elementType),\n",
    "                                 elementRes  = (Xres, Yres), \n",
    "                                 minCoord    = (MINX, MINY), \n",
    "                                 maxCoord    = (MAXX, MAXY), periodic=periodic)\n",
    "\n",
    "velocityField       = uw.mesh.MeshVariable( mesh=mesh,         nodeDofCount=2 )\n",
    "pressureField       = uw.mesh.MeshVariable( mesh=mesh.subMesh, nodeDofCount=1 )\n",
    "temperatureField    = uw.mesh.MeshVariable( mesh=mesh,         nodeDofCount=1 )\n",
    "temperatureDotField = uw.mesh.MeshVariable( mesh=mesh,         nodeDofCount=1 )"
   ]
  },
  {
   "cell_type": "code",
   "execution_count": 24,
   "metadata": {
    "collapsed": true
   },
   "outputs": [],
   "source": [
    "coordinate = fn.input()\n",
    "depthFn = MAXY - coordinate[1] #a function providing the depth\n",
    "\n",
    "\n",
    "xFn = coordinate[0]  #a function providing the x-coordinate\n",
    "yFn = coordinate[1]\n"
   ]
  },
  {
   "cell_type": "code",
   "execution_count": 25,
   "metadata": {
    "collapsed": false
   },
   "outputs": [],
   "source": [
    "mesh.reset()\n",
    "\n",
    "jWalls = mesh.specialSets[\"MinJ_VertexSet\"] + mesh.specialSets[\"MaxJ_VertexSet\"]\n",
    "yFn = coordinate[1]\n",
    "yField = uw.mesh.MeshVariable( mesh=mesh, nodeDofCount=1 )\n",
    "yField.data[:] = 0.\n",
    "yBC = uw.conditions.DirichletCondition( variable=yField, indexSetsPerDof=(jWalls,) )\n",
    "\n",
    "# set bottom wall temperature bc\n",
    "for index in mesh.specialSets[\"MinJ_VertexSet\"]:\n",
    "    yField.data[index] = mesh.minCoord[1]\n",
    "# set top wall temperature bc\n",
    "for index in mesh.specialSets[\"MaxJ_VertexSet\"]:\n",
    "    yField.data[index] = mesh.maxCoord[1]\n",
    "    \n",
    "    \n",
    "    \n",
    "s = 2.5\n",
    "intensityFac = 1.5\n",
    "intensityFn = (((yFn - MINY)/(MAXY-MINY))**s)\n",
    "intensityFn *= intensityFac\n",
    "intensityFn += 1.\n",
    "\n",
    "\n",
    "yLaplaceEquation = uw.systems.SteadyStateHeat(temperatureField=yField, fn_diffusivity=intensityFn, conditions=[yBC,])\n",
    "\n",
    "# get the default heat equation solver\n",
    "yLaplaceSolver = uw.systems.Solver(yLaplaceEquation)\n",
    "# solve\n",
    "yLaplaceSolver.solve()\n",
    "\n",
    "\n",
    "#Get the array of Y positions - copy may be necessary, not sure. \n",
    "newYpos = yField.data.copy() \n",
    "\n",
    "uw.barrier()\n",
    "with mesh.deform_mesh():\n",
    "     mesh.data[:,1] = newYpos[:,0]"
   ]
  },
  {
   "cell_type": "code",
   "execution_count": null,
   "metadata": {
    "collapsed": true
   },
   "outputs": [],
   "source": []
  },
  {
   "cell_type": "code",
   "execution_count": 26,
   "metadata": {
    "collapsed": false
   },
   "outputs": [],
   "source": [
    "#fig= glucifer.Figure()\n",
    "#fig.append(glucifer.objects.Mesh(mesh))\n",
    "#fig.append( glucifer.objects.Surface(mesh,intensityFn, discrete=True))\n",
    "#fig.show()\n",
    "#fig.save_database('test.gldb')"
   ]
  },
  {
   "cell_type": "code",
   "execution_count": 27,
   "metadata": {
    "collapsed": false
   },
   "outputs": [],
   "source": [
    "#THis is a hack for adding a sticky air domain, we refine MAXY and things like the temperature stencil work from Y = 1. \n",
    "\n",
    "if md.stickyAir:\n",
    "    MAXY = 1."
   ]
  },
  {
   "cell_type": "code",
   "execution_count": null,
   "metadata": {
    "collapsed": false
   },
   "outputs": [],
   "source": []
  },
  {
   "cell_type": "markdown",
   "metadata": {},
   "source": [
    "Initial conditions\n",
    "-------\n"
   ]
  },
  {
   "cell_type": "code",
   "execution_count": null,
   "metadata": {
    "collapsed": false
   },
   "outputs": [],
   "source": []
  },
  {
   "cell_type": "code",
   "execution_count": 28,
   "metadata": {
    "collapsed": false
   },
   "outputs": [],
   "source": [
    "\n",
    "def age_fn(xFn, sz = 0.0, lMOR=MINX, rMOR=MAXX, opFac=1., conjugate_plate = False):\n",
    "    \"\"\"\n",
    "    Simple function to generate a discrete 1-d (i.e x-coordinate) function for the age of the thermal BC. \n",
    "    All paramters are dimensionless\n",
    "    sz: location of subduction zone\n",
    "    lMOR: location of left-hand MOR\n",
    "    rMOR: location of right-hand MOR\n",
    "    opFac: uniform reduce the age of the right hand plate by this factor\n",
    "    conjugate_plate: if True, build plates on the outer sides of the MORs, if False, age = 0. \n",
    "    \"\"\"\n",
    "    \n",
    "    if lMOR < MINX:\n",
    "        lMOR = MINX\n",
    "    if rMOR > MAXX:\n",
    "        rMOR = MAXX\n",
    "\n",
    "    if conjugate_plate:\n",
    "        ageFn = fn.branching.conditional([(operator.and_(xFn > lMOR, xFn < sz) , (xFn + abs(lMOR))/(abs(sz-lMOR))), \n",
    "                                      (operator.and_(xFn < rMOR, xFn >= sz), (1.-(xFn + abs(sz))/abs(rMOR-sz))*opFac),\n",
    "                                      (xFn > rMOR, opFac*(xFn -abs(rMOR)) / abs(rMOR-sz) ),\n",
    "                                      (True, fn.math.abs((((xFn + abs(lMOR)) / (abs(sz-lMOR))))))\n",
    "                                         ])\n",
    "    else:    \n",
    "        \n",
    "        ageFn = fn.branching.conditional([(operator.and_(xFn > lMOR, xFn < sz) , (xFn + abs(lMOR))/(abs(sz-lMOR))), \n",
    "                                      (operator.and_(xFn < rMOR, xFn >= sz), (1.-(xFn + abs(sz))/abs(rMOR-sz))*opFac),\n",
    "\n",
    "                                      (True, 0.0)])\n",
    "    return ageFn"
   ]
  },
  {
   "cell_type": "code",
   "execution_count": 29,
   "metadata": {
    "collapsed": false
   },
   "outputs": [],
   "source": [
    "#ndp.lRidge *= 0.5"
   ]
  },
  {
   "cell_type": "code",
   "execution_count": 30,
   "metadata": {
    "collapsed": false
   },
   "outputs": [],
   "source": [
    "###########\n",
    "#Thermal initial condition - half-space cooling\n",
    "###########\n",
    "\n",
    "#  a few conversions\n",
    "ageAtTrenchSeconds = min(dp.platemaxAge*(3600*24*365), dp.slabmaxAge*(3600*24*365))\n",
    "#slab perturbation params (mostly dimensionless / model params here)\n",
    "phi = 90. - dp.theta\n",
    "Org = (ndp.subzone, MAXY-ndp.roc)\n",
    "\n",
    "#First build the top TBL\n",
    "ageFn = age_fn(xFn, sz =ndp.subzone, lMOR=ndp.lRidge,rMOR=ndp.rRidge, conjugate_plate=True, opFac = dp.op_age_fac)\n",
    "#dimensionlize the age function\n",
    "ageFn *= ageAtTrenchSeconds #seconds to year\n",
    "w0 = (2.3*math.sqrt(dp.k*ageAtTrenchSeconds))/dp.LS #diffusion depth of plate at the trench\n",
    "\n",
    "tempBL = (ndp.TPP - ndp.TSP)*fn.math.erf((depthFn*dp.LS)/(2.*fn.math.sqrt(dp.k*ageFn))) + ndp.TSP #boundary layer function\n",
    "tempTBL =  fn.branching.conditional([(depthFn < w0, tempBL),\n",
    "                          (True, ndp.TPP)])\n",
    "\n",
    "if not md.symmetricIcs:\n",
    "    if not checkpointLoad:\n",
    "        out = uw.utils.MeshVariable_Projection( temperatureField, tempTBL) #apply function with projection\n",
    "        out.solve()\n",
    "\n"
   ]
  },
  {
   "cell_type": "code",
   "execution_count": 31,
   "metadata": {
    "collapsed": false
   },
   "outputs": [],
   "source": [
    "#w0*dp.LS"
   ]
  },
  {
   "cell_type": "code",
   "execution_count": 32,
   "metadata": {
    "collapsed": false
   },
   "outputs": [],
   "source": [
    "#Now build the perturbation part\n",
    "def inCircleFnGenerator(centre, radius):\n",
    "    coord = fn.input()\n",
    "    offsetFn = coord - centre\n",
    "    return fn.math.dot( offsetFn, offsetFn ) < radius**2\n",
    "\n",
    "\n",
    "\n",
    "#We use circles to define our slab and crust perturbation,  \n",
    "Oc = inCircleFnGenerator(Org , ndp.roc)\n",
    "Ic = inCircleFnGenerator(Org , ndp.roc - w0)\n",
    "Cc = inCircleFnGenerator(Org , ndp.roc - (1.2*ndp.MANTLETOCRUST)) #... weak zone on 'outside' of slab\n",
    "Hc = inCircleFnGenerator(Org , ndp.roc - ndp.HARZBURGDEPTH) #... Harzburgite layer \n",
    "dx = (ndp.roc)/(np.math.tan((np.math.pi/180.)*phi))\n",
    "\n",
    "#We'll also create a triangle which will truncate the circles defining the slab...\n",
    "if dp.sense == 'Left':\n",
    "    ptx = ndp.subzone - dx\n",
    "else:\n",
    "    ptx = ndp.subzone + dx\n",
    "coords = ((0.+ ndp.subzone, MAXY), (0.+ ndp.subzone, MAXY-ndp.roc), (ptx, MAXY))\n",
    "Tri = fn.shape.Polygon(np.array(coords))\n",
    "\n",
    "#Actually apply the perturbation - could probably avoid particle walk here\n",
    "if not md.symmetricIcs:\n",
    "    if not checkpointLoad:\n",
    "        sdFn = ((ndp.roc - fn.math.sqrt((coordinate[0] - Org[0])**2. + (coordinate[1] - Org[1])**2.)))\n",
    "        slabFn = ndp.TPP*fn.math.erf((sdFn*dp.LS)/(2.*math.sqrt(dp.k*ageAtTrenchSeconds))) + ndp.TSP\n",
    "        for index, coord in enumerate(mesh.data):\n",
    "            if (\n",
    "                Oc.evaluate(tuple(coord)) and\n",
    "                Tri.evaluate(tuple(coord)) and not\n",
    "                Ic.evaluate(tuple(coord)) and\n",
    "                coord[1] > (MAXY - ndp.maxDepth)\n",
    "                ): #In the quarter-circle defining the lithosphere\n",
    "                temperatureField.data[index] = slabFn.evaluate(mesh)[index]\n"
   ]
  },
  {
   "cell_type": "code",
   "execution_count": 33,
   "metadata": {
    "collapsed": false
   },
   "outputs": [],
   "source": [
    "#sdFn = ((RocM - fn.math.sqrt((coordinate[0] - Org[0])**2. + (coordinate[1] - Org[1])**2.)))\n",
    "#slabFn = ndp.TPP*fn.math.erf((sdFn*dp.LS)/(2.*math.sqrt(dp.k*ageAtTrenchSeconds))) + ndp.TSP\n",
    "#sdFn, slabFn"
   ]
  },
  {
   "cell_type": "code",
   "execution_count": 34,
   "metadata": {
    "collapsed": false
   },
   "outputs": [],
   "source": [
    "#Make sure material in sticky air region is at the surface temperature.\n",
    "for index, coord in enumerate(mesh.data):\n",
    "            if coord[1] >= MAXY:\n",
    "                temperatureField.data[index] = ndp.TSP"
   ]
  },
  {
   "cell_type": "code",
   "execution_count": 35,
   "metadata": {
    "collapsed": false
   },
   "outputs": [],
   "source": [
    "#fn.math.erf((sdFn*dp.LS)/(2.*fn.math.sqrt(dp.k*(slabmaxAge*(3600*24*365))))) \n",
    "#CRUSTVISCUTOFF, MANTLETOCRUST*3"
   ]
  },
  {
   "cell_type": "markdown",
   "metadata": {
    "collapsed": false
   },
   "source": [
    "def matplot_field(temperatureField, dp):\n",
    "    if uw.nProcs() != 1:\n",
    "        print(\"only in Serial folks\")\n",
    "    else:\n",
    "        import matplotlib.pyplot as pyplt\n",
    "        try :\n",
    "            if(__IPYTHON__) :\n",
    "                get_ipython().magic(u'matplotlib inline')\n",
    "        except NameError :\n",
    "            pass\n",
    "        field_data = temperatureField.data.reshape(mesh.elementRes[1] + 1, mesh.elementRes[0] + 1)\n",
    "        fig, ax = pyplt.subplots(figsize=(32,2))\n",
    "        ql = dp.LS/1e3\n",
    "        pyplt.ioff()\n",
    "        cax =ax.imshow(np.flipud(field_data), cmap='coolwarm', aspect = 0.5, extent=[0,ql*aspectRatio,ql, 0])\n",
    "        fig.colorbar(cax, orientation='horizontal' )\n",
    "        #ax.set_x([0,dp.LS*aspectRatio])\n",
    "        pyplt.tight_layout()\n",
    "        \n",
    "        return fig, ax\n",
    "        \n",
    "fig, ax = matplot_field(temperatureField, dp)\n",
    "fig.savefig('test.png')       "
   ]
  },
  {
   "cell_type": "code",
   "execution_count": 36,
   "metadata": {
    "collapsed": false
   },
   "outputs": [
    {
     "data": {
      "text/plain": [
       "(0.0, 1.0)"
      ]
     },
     "execution_count": 36,
     "metadata": {},
     "output_type": "execute_result"
    }
   ],
   "source": [
    "temperatureField.data.min(), temperatureField.data.max()\n"
   ]
  },
  {
   "cell_type": "code",
   "execution_count": 38,
   "metadata": {
    "collapsed": false
   },
   "outputs": [],
   "source": [
    "#fig= glucifer.Figure(quality=3)\n",
    "#fig.append( glucifer.objects.Surface(mesh,temperatureField))\n",
    "#fig.append( glucifer.objects.Surface(mesh,pressureField))\n",
    "\n",
    "\n",
    "#fig.append( glucifer.objects.Points(gSwarm,temperatureField ))\n",
    "#fig.append( glucifer.objects.Mesh(mesh))\n",
    "#fig.show()\n",
    "##\n",
    "#fig.save_database('test.gldb')\n",
    "#fig.save_image('test.png')\n"
   ]
  },
  {
   "cell_type": "markdown",
   "metadata": {},
   "source": [
    "Boundary conditions\n",
    "-------"
   ]
  },
  {
   "cell_type": "code",
   "execution_count": 125,
   "metadata": {
    "collapsed": false
   },
   "outputs": [
    {
     "name": "stdout",
     "output_type": "stream",
     "text": [
      "2\n"
     ]
    }
   ],
   "source": [
    "for index in mesh.specialSets[\"MinJ_VertexSet\"]:\n",
    "    temperatureField.data[index] = ndp.TBP\n",
    "for index in mesh.specialSets[\"MaxJ_VertexSet\"]:\n",
    "    temperatureField.data[index] = ndp.TSP\n",
    "    \n",
    "iWalls = mesh.specialSets[\"MinI_VertexSet\"] + mesh.specialSets[\"MaxI_VertexSet\"]\n",
    "jWalls = mesh.specialSets[\"MinJ_VertexSet\"] + mesh.specialSets[\"MaxJ_VertexSet\"]\n",
    "tWalls = mesh.specialSets[\"MaxJ_VertexSet\"]\n",
    "bWalls =mesh.specialSets[\"MinJ_VertexSet\"]\n",
    "\n",
    "VelBCs = mesh.specialSets[\"Empty\"]\n",
    "\n",
    "\n",
    "\n",
    "if md.velBcs:\n",
    "    for index in list(tWalls.data):\n",
    "\n",
    "        if (mesh.data[int(index)][0] < (ndp.subzone - 0.05*md.aspectRatio) and \n",
    "            mesh.data[int(index)][0] > (mesh.minCoord[0] + 0.05*md.aspectRatio)): #Only push with a portion of teh overiding plate\n",
    "            #print \"first\"\n",
    "            VelBCs.add(int(index))\n",
    "            #Set the plate velocities for the kinematic phase\n",
    "            velocityField.data[index] = [ndp.plate_vel, 0.]\n",
    "        \n",
    "        elif (mesh.data[int(index)][0] > (ndp.subzone + 0.05*md.aspectRatio) and \n",
    "            mesh.data[int(index)][0] < (mesh.maxCoord[0] - 0.05*md.aspectRatio)):\n",
    "            #print \"second\"\n",
    "            VelBCs.add(int(index))\n",
    "            #Set the plate velocities for the kinematic phase\n",
    "            velocityField.data[index] = [0., 0.]\n",
    "        \n",
    "\n",
    "#If periodic, we'll fix a the x-vel at a single node - at the bottom left (index 0)\n",
    "Fixed = mesh.specialSets[\"Empty\"]\n",
    "Fixed.add(int(0))        \n",
    "        \n",
    "\n",
    "if periodic[0] == False:\n",
    "    if md.velBcs:\n",
    "        print(1)\n",
    "        freeslipBC = uw.conditions.DirichletCondition( variable      = velocityField, \n",
    "                                               indexSetsPerDof = ( iWalls + VelBCs, jWalls) )\n",
    "    else:\n",
    "        print(2)\n",
    "        freeslipBC = uw.conditions.DirichletCondition( variable      = velocityField, \n",
    "                                               indexSetsPerDof = ( iWalls, jWalls) )\n",
    "\n",
    "\n",
    "\n",
    "\n",
    "\n",
    "\n",
    "if periodic[0] == True:\n",
    "    if md.velBcs:\n",
    "        print(3)\n",
    "        freeslipBC = uw.conditions.DirichletCondition( variable      = velocityField, \n",
    "                                               indexSetsPerDof = ( Fixed + VelBCs , jWalls) )\n",
    "    else:\n",
    "        print(4)\n",
    "        freeslipBC = uw.conditions.DirichletCondition( variable      = velocityField, \n",
    "                                               indexSetsPerDof = ( Fixed, jWalls) )\n",
    "        \n",
    "    \n",
    "    \n",
    "    \n",
    "# also set dirichlet for temp field\n",
    "dirichTempBC = uw.conditions.DirichletCondition(     variable=temperatureField, \n",
    "                                              indexSetsPerDof=(tWalls,) )\n",
    "dT_dy = [0.,0.]\n",
    "\n",
    "# also set dirichlet for temp field\n",
    "neumannTempBC = uw.conditions.NeumannCondition( dT_dy, variable=temperatureField, \n",
    "                                         nodeIndexSet=bWalls)\n",
    "\n"
   ]
  },
  {
   "cell_type": "code",
   "execution_count": null,
   "metadata": {
    "collapsed": false
   },
   "outputs": [],
   "source": []
  },
  {
   "cell_type": "code",
   "execution_count": 126,
   "metadata": {
    "collapsed": false
   },
   "outputs": [],
   "source": [
    "#check VelBCs are where we want them\n",
    "#test = np.zeros(len(tWalls.data))\n",
    "#VelBCs\n",
    "#tWalls.data\n",
    "#tWalls.data[VelBCs.data]\n",
    "#test[np.in1d(tWalls.data, VelBCs.data)] = 1.\n",
    "#test\n",
    "\n"
   ]
  },
  {
   "cell_type": "code",
   "execution_count": null,
   "metadata": {
    "collapsed": false
   },
   "outputs": [],
   "source": []
  },
  {
   "cell_type": "markdown",
   "metadata": {},
   "source": [
    "Swarm setup\n",
    "-----\n"
   ]
  },
  {
   "cell_type": "code",
   "execution_count": 127,
   "metadata": {
    "collapsed": false
   },
   "outputs": [],
   "source": [
    "###########\n",
    "#Material Swarm and variables\n",
    "###########\n",
    "\n",
    "#create material swarm\n",
    "gSwarm = uw.swarm.Swarm(mesh=mesh, particleEscape=True)\n",
    "\n",
    "#create swarm variables\n",
    "yieldingCheck = gSwarm.add_variable( dataType=\"int\", count=1 )\n",
    "materialVariable = gSwarm.add_variable( dataType=\"int\", count=1 )\n",
    "ageVariable = gSwarm.add_variable( dataType=\"double\", count=1 )\n",
    "\n",
    "\n",
    "#these lists  are part of the checkpointing implementation\n",
    "varlist = [materialVariable, yieldingCheck, ageVariable]\n",
    "varnames = ['materialVariable', 'yieldingCheck', 'ageVariable']"
   ]
  },
  {
   "cell_type": "code",
   "execution_count": 128,
   "metadata": {
    "collapsed": false
   },
   "outputs": [],
   "source": [
    "mantleIndex = 0\n",
    "crustIndex = 1\n",
    "harzIndex = 2\n",
    "airIndex = 3\n",
    "\n",
    "\n",
    "\n",
    "if checkpointLoad:\n",
    "    temperatureField.load(os.path.join(checkpointLoadDir, \"temperatureField\" + \".hdf5\"))\n",
    "    pressureField.load(os.path.join(checkpointLoadDir, \"pressureField\" + \".hdf5\"))\n",
    "    velocityField.load(os.path.join(checkpointLoadDir, \"velocityField\" + \".hdf5\"))\n",
    "    gSwarm.load(os.path.join(checkpointLoadDir, \"swarm\" + \".h5\"))\n",
    "    for ix in range(len(varlist)):\n",
    "        varb = varlist[ix]\n",
    "        varb.load(os.path.join(checkpointLoadDir,varnames[ix] + \".h5\"))\n",
    "\n",
    "else:\n",
    "\n",
    "    # Layouts are used to populate the swarm across the whole domain\n",
    "    layout = uw.swarm.layouts.PerCellRandomLayout(swarm=gSwarm, particlesPerCell=int(md.ppc))\n",
    "    gSwarm.populate_using_layout( layout=layout ) # Now use it to populate.\n",
    "    # Swarm variables\n",
    "    materialVariable.data[:] = mantleIndex\n",
    "    #tracerVariable.data[:] = 1\n",
    "    yieldingCheck.data[:] = 0\n",
    "    ageVariable.data[:] = -1\n",
    "\n",
    "    #Set initial air and crust materials (allow the graph to take care of lithsophere)\n",
    "    #########\n",
    "    #This initial material setup will be model dependent\n",
    "    #########\n",
    "    for particleID in range(gSwarm.particleCoordinates.data.shape[0]):\n",
    "        if (1. - gSwarm.particleCoordinates.data[particleID][1]) < ndp.MANTLETOCRUST:\n",
    "                 materialVariable.data[particleID] = crustIndex"
   ]
  },
  {
   "cell_type": "code",
   "execution_count": 129,
   "metadata": {
    "collapsed": false
   },
   "outputs": [
    {
     "data": {
      "text/plain": [
       "array([ 0, -1, -1,  1,  2,  3], dtype=int32)"
      ]
     },
     "execution_count": 129,
     "metadata": {},
     "output_type": "execute_result"
    }
   ],
   "source": [
    "###########\n",
    "#Little swarm to track subduction zone, ridge location\n",
    "###########\n",
    "swarmPlateBoundary = uw.swarm.Swarm( mesh=mesh )\n",
    "\n",
    "swarmCoords = np.array([ [0.0,1.], [-0.6999,1.],[0.6999,1.],[ndp.subzone,1.], [ndp.lRidge,1.],[ndp.rRidge,1.]])\n",
    "\n",
    "\n",
    "swarmPlateBoundary.add_particles_with_coordinates(swarmCoords)"
   ]
  },
  {
   "cell_type": "markdown",
   "metadata": {
    "collapsed": false
   },
   "source": [
    "###########\n",
    "#This block sets up a checkboard layout of passive tracers\n",
    "###########\n",
    "\n",
    "square_size = 0.1\n",
    "xlist = np.arange(mesh.minCoord[0] + square_size/2., mesh.maxCoord[0] + square_size/2., square_size)\n",
    "xlist = zip(xlist[:], xlist[1:])[::2]\n",
    "ylist = np.arange(mesh.minCoord[1] + square_size/2., mesh.maxCoord[1] + square_size/2., square_size)\n",
    "ylist = zip(ylist[:], ylist[1:])[::2]\n",
    "xops = []\n",
    "for vals in xlist:\n",
    "    xops.append( (operator.and_(   operator.gt(coordinate[0],vals[0]),   operator.lt(coordinate[0],vals[1])  ),0.) )\n",
    "xops.append((True,1.))\n",
    "\n",
    "testfunc = fn.branching.conditional(xops) \n",
    "\n",
    "yops = []\n",
    "for vals in ylist:\n",
    "    yops.append( (operator.and_(   operator.gt(coordinate[1],vals[0]),   operator.lt(coordinate[1],vals[1])  ),0.) )\n",
    "yops.append((True,testfunc))\n",
    "\n",
    "testfunc2 = fn.branching.conditional(yops) \n",
    "tracerVariable.data[:] = testfunc.evaluate(gSwarm)\n",
    "tracerVariable.data[:] = testfunc2.evaluate(gSwarm)"
   ]
  },
  {
   "cell_type": "code",
   "execution_count": null,
   "metadata": {
    "collapsed": false
   },
   "outputs": [],
   "source": []
  },
  {
   "cell_type": "code",
   "execution_count": 130,
   "metadata": {
    "collapsed": false
   },
   "outputs": [],
   "source": [
    "##############\n",
    "#Set the initial particle age for particles above the critical depth; \n",
    "#only material older than crustageCond will be transformed to crust / harzburgite\n",
    "##############\n",
    "\n",
    "ageVariable.data[:] = 0. #start with all zero\n",
    "ageVariable.data[:] = ageFn.evaluate(gSwarm)/sf.SR\n",
    "crustageCond = 2e6*(3600.*365.*24.)/sf.SR #set inital age above critical depth. (x...Ma)\n",
    "\n",
    "\n",
    "\n",
    "ageConditions = [ (depthFn < ndp.AGETRACKDEPTH, ageVariable),  #In the main loop we add ageVariable + dt here\n",
    "                  (True, 0.) ]\n",
    "                 \n",
    "#apply conditional \n",
    "ageVariable.data[:] = fn.branching.conditional( ageConditions ).evaluate(gSwarm)\n",
    "\n",
    "ageDT = 0.#this is used in the main loop for short term time increments"
   ]
  },
  {
   "cell_type": "code",
   "execution_count": 131,
   "metadata": {
    "collapsed": false
   },
   "outputs": [],
   "source": [
    "#fig= glucifer.Figure()\n",
    "#fig.append( glucifer.objects.Points(gSwarm,ageVariable))\n",
    "#fig.append( glucifer.objects.Points(gSwarm, viscosityMapFn, logScale=True, valueRange =[1e-3,1e5]))\n",
    "\n",
    "\n",
    "#fig.show()"
   ]
  },
  {
   "cell_type": "code",
   "execution_count": 132,
   "metadata": {
    "collapsed": false
   },
   "outputs": [],
   "source": [
    "##############\n",
    "#Here we set up a directed graph object that we we use to control the transformation from one material type to another\n",
    "##############\n",
    "\n",
    "#All depth conditions are given as (km/D) where D is the length scale,\n",
    "#note that 'model depths' are used, e.g. 1-z, where z is the vertical Underworld coordinate\n",
    "#All temp conditions are in dimensionless temp. [0. - 1.]\n",
    "\n",
    "#Need a list of all material indexes (safer in parallel)\n",
    "material_list = [0,1,2,3]\n",
    "\n",
    "if not checkpointLoad:\n",
    "    materialVariable.data[:] = 0 #Initialize to zero \n",
    "\n",
    "#Setup the graph object\n",
    "DG = material_graph.MatGraph()\n",
    "\n",
    "#Important: First thing to do is to add all the material types to the graph (i.e add nodes)\n",
    "DG.add_nodes_from(material_list)\n",
    "\n",
    "#Now set the conditions for transformations\n",
    "\n",
    "hs = 2e3/dp.LS  #add some hysteresis to the depths of transition\n",
    "\n",
    "#... to mantle\n",
    "DG.add_transition((crustIndex,mantleIndex), depthFn, operator.gt, ndp.CRUSTTOMANTLE + hs)\n",
    "DG.add_transition((harzIndex,mantleIndex), depthFn, operator.gt, ndp.CRUSTTOMANTLE + hs)\n",
    "DG.add_transition((airIndex,mantleIndex), depthFn, operator.gt, ndp.TOPOHEIGHT + hs)\n",
    "\n",
    "#... to crust\n",
    "DG.add_transition((mantleIndex,crustIndex), depthFn, operator.lt, ndp.MANTLETOCRUST)\n",
    "DG.add_transition((mantleIndex,crustIndex), xFn, operator.lt, ndp.subzone + 4.*ndp.MANTLETOCRUST) #No crust on the upper plate\n",
    "DG.add_transition((mantleIndex,crustIndex), ageVariable, operator.gt, crustageCond)\n",
    "\n",
    "\n",
    "DG.add_transition((harzIndex,crustIndex), depthFn, operator.lt, ndp.MANTLETOCRUST)\n",
    "DG.add_transition((harzIndex,crustIndex), xFn, operator.lt, ndp.subzone + 4.*ndp.MANTLETOCRUST) #This one sets no crust on the upper plate\n",
    "DG.add_transition((harzIndex,crustIndex), ageVariable, operator.gt, crustageCond)\n",
    "\n",
    "#... to Harzbugite\n",
    "DG.add_transition((mantleIndex,harzIndex), depthFn, operator.lt, ndp.HARZBURGDEPTH)\n",
    "DG.add_transition((mantleIndex,harzIndex), depthFn, operator.gt, ndp.MANTLETOCRUST)\n",
    "DG.add_transition((mantleIndex,harzIndex), ageVariable, operator.gt, crustageCond) #Note we can mix functions and swarm variabls\n",
    "\n",
    "\n",
    "#... to air\n",
    "DG.add_transition((mantleIndex,airIndex), depthFn, operator.lt,0.)\n",
    "DG.add_transition((crustIndex,airIndex), depthFn, operator.lt, 0. )\n",
    "DG.add_transition((harzIndex,airIndex), depthFn, operator.lt, 0. )\n"
   ]
  },
  {
   "cell_type": "code",
   "execution_count": 133,
   "metadata": {
    "collapsed": false
   },
   "outputs": [],
   "source": [
    "#CRUSTTOMANTLE, HARZBURGDEPTH, 0. + 7.*MANTLETOCRUST"
   ]
  },
  {
   "cell_type": "code",
   "execution_count": 134,
   "metadata": {
    "collapsed": false
   },
   "outputs": [],
   "source": [
    "#gSwarm.particleCoordinates.data[particleID][1]"
   ]
  },
  {
   "cell_type": "code",
   "execution_count": 135,
   "metadata": {
    "collapsed": false
   },
   "outputs": [],
   "source": [
    "##############\n",
    "#For the slab_IC, we'll also add a crustal weak zone following the dipping perturbation\n",
    "##############\n",
    "\n",
    "if checkpointLoad != True:\n",
    "    if not md.symmetricIcs:\n",
    "        for particleID in range(gSwarm.particleCoordinates.data.shape[0]):\n",
    "            if gSwarm.particleCoordinates.data[particleID][1] < 0.:\n",
    "                materialVariable.data[particleID] = airIndex\n",
    "                \n",
    "            elif (\n",
    "                Oc.evaluate(list(gSwarm.particleCoordinates.data[particleID])) and\n",
    "                Tri.evaluate(list(gSwarm.particleCoordinates.data[particleID])) and\n",
    "                gSwarm.particleCoordinates.data[particleID][1] > (MAXY - ndp.maxDepth) and\n",
    "                Cc.evaluate(list(gSwarm.particleCoordinates.data[particleID])) == False\n",
    "                \n",
    "                ):\n",
    "                materialVariable.data[particleID] = crustIndex\n",
    "                \n",
    "            elif (\n",
    "                Oc.evaluate(list(gSwarm.particleCoordinates.data[particleID])) and\n",
    "                Tri.evaluate(list(gSwarm.particleCoordinates.data[particleID])) and\n",
    "                gSwarm.particleCoordinates.data[particleID][1] > (MAXY - ndp.maxDepth) and\n",
    "                Hc.evaluate(list(gSwarm.particleCoordinates.data[particleID])) == False\n",
    "                \n",
    "                ):\n",
    "                materialVariable.data[particleID] = harzIndex"
   ]
  },
  {
   "cell_type": "code",
   "execution_count": 136,
   "metadata": {
    "collapsed": false
   },
   "outputs": [],
   "source": [
    "##############\n",
    "#This is how we use the material graph object to test / apply material transformations\n",
    "##############\n",
    "DG.build_condition_list(materialVariable)\n",
    "\n",
    "for i in range(2): #Need to go through a number of times\n",
    "    materialVariable.data[:] = fn.branching.conditional(DG.condition_list).evaluate(gSwarm)"
   ]
  },
  {
   "cell_type": "code",
   "execution_count": 137,
   "metadata": {
    "collapsed": false
   },
   "outputs": [],
   "source": [
    "#maxDepth"
   ]
  },
  {
   "cell_type": "code",
   "execution_count": 138,
   "metadata": {
    "collapsed": false
   },
   "outputs": [],
   "source": [
    "#fig2= glucifer.Figure()\n",
    "#fig2.append( glucifer.objects.Points(gSwarm,materialVariable))\n",
    "#fig2.append( glucifer.objects.Surface(mesh, depthFn))\n",
    "\n",
    "#fig2.show()\n",
    "#fig2.save_database('test.gldb')"
   ]
  },
  {
   "cell_type": "markdown",
   "metadata": {
    "collapsed": false
   },
   "source": [
    "## Fault stuff\n",
    "\n"
   ]
  },
  {
   "cell_type": "code",
   "execution_count": 139,
   "metadata": {
    "collapsed": true
   },
   "outputs": [],
   "source": [
    "import marker2D"
   ]
  },
  {
   "cell_type": "code",
   "execution_count": 140,
   "metadata": {
    "collapsed": true
   },
   "outputs": [],
   "source": [
    "def update_swarm_from_faults(faults, proximityVariable, normalVectorVariable, signedDistanceVariable):\n",
    "    \"\"\"\n",
    "    Compute fault attributes from the marker-line objects in the 'faults' list.\n",
    "    Specifically:\n",
    "    \n",
    "      - proximityVariable carries information about which fault each swarm particle is close to (0 means none)\n",
    "      - normalVectorVariable maps the orientation of the fault to nearby swarm particles\n",
    "      - signedDistanceVariable carries the distance (positive means 'inside')  \n",
    "      \n",
    "      Unchecked error: if these variables are from different swarms \n",
    "      \n",
    "    \"\"\"\n",
    "    \n",
    "    if type(faults) == list:\n",
    "    \n",
    "        for fault_seg in faults:\n",
    "            swarm = proximityVariable.swarm\n",
    "\n",
    "            f, nz = fault_seg.compute_marker_proximity(swarm.particleCoordinates.data)    \n",
    "            proximityVariable.data[nz] = f[nz]\n",
    "\n",
    "            dv, nzv = fault_seg.compute_normals(swarm.particleCoordinates.data)\n",
    "            normalVectorVariable.data[nzv] = dv[nzv]\n",
    "\n",
    "            sd, dnz = fault_seg.compute_signed_distance(swarm.particleCoordinates.data)\n",
    "            signedDistanceVariable.data[dnz] = sd[dnz]\n",
    "    else:\n",
    "        fault_seg = faults\n",
    "        swarm = proximityVariable.swarm\n",
    "\n",
    "        f, nz = fault_seg.compute_marker_proximity(swarm.particleCoordinates.data)    \n",
    "        proximityVariable.data[nz] = f[nz]\n",
    "\n",
    "        dv, nzv = fault_seg.compute_normals(swarm.particleCoordinates.data)\n",
    "        normalVectorVariable.data[nzv] = dv[nzv]\n",
    "\n",
    "        sd, dnz = fault_seg.compute_signed_distance(swarm.particleCoordinates.data)\n",
    "        signedDistanceVariable.data[dnz] = sd[dnz]\n",
    "    \n",
    "    return\n",
    "\n",
    "\n",
    "def update_swarm_from_line(fault, signedDistanceVariable):\n",
    "    \"\"\"\n",
    "    Compute fault attributes from the marker-line objects in the 'faults' list.\n",
    "    Specifically:\n",
    "    \n",
    "      - proximityVariable carries information about which fault each swarm particle is close to (0 means none)\n",
    "      - normalVectorVariable maps the orientation of the fault to nearby swarm particles\n",
    "      - signedDistanceVariable carries the distance (positive means 'inside')  \n",
    "      \n",
    "      Unchecked error: if these variables are from different swarms \n",
    "      \n",
    "    \"\"\"\n",
    "        \n",
    "    sd, dnz = fault.compute_signed_distance(gSwarm.particleCoordinates.data)\n",
    "    signedDistanceVariable.data[dnz] = sd[dnz]\n",
    "    \n",
    "    return\n",
    "\n",
    "\n",
    "def mask_materials(fault, material, materialVariable, proximityVariable, normalVectorVariable, signedDistanceVariable):\n",
    "\n",
    "    \"\"\"\n",
    "    set the key fault-related swarm variabels to zero, based on material typr\n",
    "    \"\"\"\n",
    "    \n",
    "    fptsMask1 = (materialVariable.data[:,0] != material)\n",
    "    fptsMask2 = (proximityVariable.data[:,0] == fault.ID )\n",
    "\n",
    "    fptsMaskOut = fptsMask1 & fptsMask2\n",
    "\n",
    "    normalVectorVariable.data[fptsMaskOut,:] = [0.0,0.0]\n",
    "    proximityVariable.data[fptsMaskOut] = 0\n",
    "    signedDistanceVariable.data[fptsMaskOut] = 0.0\n",
    "    \n",
    "    \n",
    "def fault_strainrate_fns(fault_list, velocityField, faultNormalVariable, proximityproVariable):\n",
    "\n",
    "    ## This is a quick / short cut way to find the resolved stress components.\n",
    "    \n",
    "    strainRateFn = fn.tensor.symmetric( velocityField.fn_gradient )\n",
    "\n",
    "    \n",
    "    _edotn_SFn = (        directorVector[0]**2 * strainRateFn[0]  + \n",
    "                    2.0 * directorVector[1]    * strainRateFn[2] * directorVector[0] + \n",
    "                          directorVector[1]**2 * strainRateFn[1]                          \n",
    "                ) \n",
    "\n",
    "    # any non-zero proximity requires the computation of the above\n",
    "    \n",
    "    _edotn_SFn_Map    = { 0: 0.0 }\n",
    "    for f in fault_list:\n",
    "        _edotn_SFn_Map[f.ID] =  _edotn_SFn\n",
    "\n",
    "\n",
    "\n",
    "   \n",
    "    _edots_SFn = (  directorVector[0] *  directorVector[1] *(strainRateFn[1] - strainRateFn[0]) +\n",
    "                    strainRateFn[2] * (directorVector[0]**2 - directorVector[1]**2)\n",
    "                 )\n",
    "    \n",
    "  \n",
    "    _edots_SFn_Map = { 0: 1.0e-15 }\n",
    "    \n",
    "    for f in fault_list:\n",
    "        _edots_SFn_Map[f.ID] =  _edots_SFn\n",
    "        \n",
    "        \n",
    "    #Finally, map the resolved strain rate to the proximity variable, \n",
    "    #which also makes resolved strain rate zero whereever proximity variable is zero \n",
    "\n",
    "\n",
    "    edotn_SFn =     fn.branching.map( fn_key = proximityVariable, \n",
    "                                      mapping = _edotn_SFn_Map)\n",
    "\n",
    "\n",
    "    edots_SFn =     fn.branching.map( fn_key = proximityVariable, \n",
    "                                      mapping = _edots_SFn_Map )\n",
    "\n",
    "    \n",
    "    return edotn_SFn, edots_SFn\n",
    "\n",
    "\n",
    "## Time update\n",
    "\n",
    "def faults_advance_in_time(faults,proximityVariable, directorVector, signedDistanceVariable, materialVariable, mmask):\n",
    "    for f in faults:\n",
    "        f.advection(dt)\n",
    "\n",
    "\n",
    "    update_swarm_from_faults(faults, proximityVariable, directorVector, signedDistanceVariable)\n",
    "    mask_materials(materialV, materialVariable, proximityVariable, directorVector, signedDistanceVariable)"
   ]
  },
  {
   "cell_type": "code",
   "execution_count": null,
   "metadata": {
    "collapsed": false
   },
   "outputs": [],
   "source": []
  },
  {
   "cell_type": "code",
   "execution_count": 141,
   "metadata": {
    "collapsed": true
   },
   "outputs": [],
   "source": [
    "###########\n",
    "#Initial Coordinates for inerfaces and faults\n",
    "###########\n",
    "\n",
    "#subduction fault\n",
    "introPoint = ndp.subzone - abs(ndp.subzone - ndp.lRidge)/2. #half way between ridge and Sz\n",
    "faultthickness = ndp.MANTLETOCRUST/2. #initiale fault at half-depth of crust\n",
    "nfault = 200\n",
    "faultCoords =np.zeros((nfault, 2))\n",
    "\n",
    "reducedRocM = ndp.roc  - faultthickness\n",
    "xlimslab = reducedRocM*math.cos(math.pi*(90. - dp.theta)/180)\n",
    "faultCoords[:, 0] = np.linspace(introPoint, ndp.subzone + xlimslab, nfault) #note SZ location is hardcoded here \n",
    "for index, xval in np.ndenumerate(faultCoords[:,0]):\n",
    "    #print index, xval\n",
    "    #swarmCoords[index[0], 1] = 1. - isodepthFn.evaluate((xval, 0.)) #This bit for the plate \n",
    "    if  xval < ndp.subzone:\n",
    "        faultCoords[index[0], 1] = MAXY - faultthickness #This bit for the plate \n",
    "        \n",
    "    else:\n",
    "        faultCoords[index[0], 1] = (MAXY - (faultthickness) - (reducedRocM - ( math.sqrt((reducedRocM**2 - (xval-ndp.subzone)**2)))))\n",
    "        \n",
    "    \n",
    "faultCoords = faultCoords[faultCoords[:,1] > (MAXY - ndp.maxDepth)] #kill any deeper than cutoff\n",
    "\n",
    "\n",
    "#surface tracer interface:\n",
    "surfaceCoords =np.ones((nfault, 2))*1.\n",
    "surfaceCoords[:,0] = np.linspace(MINX, MAXX, nfault)\n",
    "\n",
    "\n",
    "\n",
    "#interface that tracks the shape and position of the slab\n",
    "midthickness = 20e3/dp.LS #initialize tracking swarm at ~ mid lithosphere depth\n",
    "\n",
    "if dp.sense == 'Right':\n",
    "    introPoint = ndp.lRidge + midthickness #\n",
    "else:\n",
    "    introPoint = ndp.rRidge - midthickness #\n",
    "nfault = 200\n",
    "slabCoords =np.zeros((nfault, 2))\n",
    "\n",
    "reducedRocM = ndp.roc  - midthickness\n",
    "xlimslab = reducedRocM*math.cos(math.pi*(90. - dp.theta)/180)\n",
    "slabCoords[:, 0] = np.linspace(introPoint, ndp.subzone + xlimslab, nfault) #note SZ location is hardcoded here \n",
    "for index, xval in np.ndenumerate(slabCoords[:,0]):\n",
    "    #print index, xval\n",
    "    #swarmCoords[index[0], 1] = 1. - isodepthFn.evaluate((xval, 0.)) #This bit for the plate \n",
    "    if  xval < ndp.subzone:\n",
    "        slabCoords[index[0], 1] = MAXY - midthickness #This bit for the plate \n",
    "        \n",
    "    else:\n",
    "        slabCoords[index[0], 1] = (MAXY - (midthickness) - (reducedRocM - ( math.sqrt((reducedRocM**2 - (xval-ndp.subzone)**2)))))\n",
    "        \n",
    "slabCoords = slabCoords[slabCoords[:,1] > (MAXY - ndp.maxDepth)] #kill any deeper than cutoff\n"
   ]
  },
  {
   "cell_type": "code",
   "execution_count": 142,
   "metadata": {
    "collapsed": false
   },
   "outputs": [],
   "source": [
    "#Initiaze the swarms in a \n",
    "fault_seg  = marker2D.markerLine2D(mesh, velocityField, [], [], faultthickness, 0.0, 0.0, crustIndex)\n",
    "surface_seg  = marker2D.markerLine2D(mesh, velocityField, [], [], ndp.StALS, 0.0, 0.0, airIndex)\n",
    "slab_seg  = marker2D.markerLine2D(mesh, velocityField, [], [], 1e9/dp.LS, 0.0, 0.0, crustIndex)   #Note very large fault thickness \n",
    "\n",
    "\n",
    "#These lists are used to checkpoint the marker lines, similar to the swarm variables.        \n",
    "interfaces = []\n",
    "interfaces.append(fault_seg)\n",
    "interfaces.append(surface_seg)\n",
    "interfaces.append(slab_seg)\n",
    "interfacenames = ['fault_seg', 'surface_seg', 'slab_seg']\n",
    "\n",
    "#If restarting, load the swarms from file Interfaces are just swarms, so should be fine to rely on parallel h5 machinery here\n",
    "if checkpointLoad:\n",
    "    for ix in range(len(interfaces)):\n",
    "        tempname = interfacenames[ix]\n",
    "        interfaces[ix].swarm.load(os.path.join(checkpointLoadDir,  tempname + \".h5\"))\n",
    "\n",
    "#otherwise add the point from at the initial locations\n",
    "else:\n",
    "    fault_seg.add_points(faultCoords[:, 0], faultCoords[:, 1])\n",
    "    surface_seg.add_points(surfaceCoords[:, 0], surfaceCoords[:, 1])\n",
    "    slab_seg.add_points(slabCoords[:, 0], slabCoords[:, 1]) \n",
    "    \n"
   ]
  },
  {
   "cell_type": "code",
   "execution_count": 143,
   "metadata": {
    "collapsed": false
   },
   "outputs": [],
   "source": [
    "#Add the necessary swarm variables\n",
    "\n",
    "proximityVariable      = gSwarm.add_variable( dataType=\"int\", count=1 )\n",
    "signedDistanceVariable = gSwarm.add_variable( dataType=\"float\", count=1 )\n",
    "directorVector   = gSwarm.add_variable( dataType=\"double\", count=2)\n",
    "\n",
    "directorVector.data[:,:] = 0.0\n",
    "proximityVariable.data[:] = 0\n",
    "signedDistanceVariable.data[:] = 0.0\n",
    "\n",
    "\n",
    "\n",
    "# Call the Fault helper functions to initialize this info on the main material swarm\n",
    "    \n",
    "update_swarm_from_faults(surface_seg, proximityVariable, directorVector, signedDistanceVariable)\n",
    "mask_materials(surface_seg, airIndex, materialVariable, proximityVariable, directorVector, signedDistanceVariable)\n",
    "\n",
    "\n",
    "update_swarm_from_faults(fault_seg, proximityVariable, directorVector, signedDistanceVariable)\n",
    "mask_materials(fault_seg, crustIndex, materialVariable, proximityVariable, directorVector, signedDistanceVariable)\n",
    "\n",
    "#Also switch off proximity beneath ndp.CRUSTVISCUTOFF depth\n",
    "proximityVariable.data[gSwarm.particleCoordinates.data[:,1]  < (1. - ndp.CRUSTVISCUTOFF)] = 0. \n",
    "\n",
    "# These should be general enough not to need updating when the faults move etc..\n",
    "#ie they should update as the fields/functions/swarm variables they are built on update\n",
    "edotn_SFn, edots_SFn = fault_strainrate_fns(interfaces, velocityField, directorVector, proximityVariable)"
   ]
  },
  {
   "cell_type": "code",
   "execution_count": null,
   "metadata": {
    "collapsed": false
   },
   "outputs": [],
   "source": []
  },
  {
   "cell_type": "code",
   "execution_count": 145,
   "metadata": {
    "collapsed": false
   },
   "outputs": [],
   "source": [
    "## Take a look at the locations of the materials\n",
    "\n",
    "#Note we only use this mesh director for visualizing the directorVector (vector-on-swarm viewing not suppoted yet)\n",
    "#meshDirector = uw.mesh.MeshVariable( mesh, 2 )\n",
    "#projectDirector = uw.utils.MeshVariable_Projection( meshDirector, directorVector, type=1 )\n",
    "#projectDirector.solve()    \n",
    "\n",
    "#figMaterials = glucifer.Figure( figsize=(1200,400), boundingBox=((-2.0, -0.0, 0.0), (2.0, 1.0, 0.0)) )\n",
    "\n",
    "#Plot swarm associated with each fault\n",
    "#for f in faults:\n",
    "#    figMaterials.append( glucifer.objects.Points(f.swarm, colours=\"Black Black\", pointSize=2.0, colourBar=False) )\n",
    "\n",
    "\n",
    "#plot mesh director viz. guy\n",
    "#figMaterials.append( glucifer.objects.VectorArrows(mesh, meshDirector, scaling=.08, \n",
    "#                                               resolutionI=100, resolutionJ=20, opacity=0.25) )\n",
    "\n",
    "\n",
    "#Proximity variable - this is the colour\n",
    "#figMaterials.append( glucifer.objects.Points(gSwarm, proximityVariable, \n",
    "#                                             pointSize=5.0,  opacity=0.75) )\n",
    "\n",
    "\n",
    "#signedDistanceVariable - this variable goes to zero where the proximity cutoff is\n",
    "#note that it's signed...faults have a direction\n",
    "#figMaterials.append( glucifer.objects.Points(gSwarm, signedDistanceVariable, \n",
    "#                                             pointSize=2.0))\n",
    "\n",
    "#Add mesh\n",
    "#figMaterials.append( glucifer.objects.Mesh(mesh, opacity=0.1) )\n",
    "\n",
    "#figMaterials.show()\n",
    "#figMaterials.save_database('test.gldb')"
   ]
  },
  {
   "cell_type": "markdown",
   "metadata": {},
   "source": [
    "Rheology\n",
    "-----\n",
    "\n"
   ]
  },
  {
   "cell_type": "code",
   "execution_count": 146,
   "metadata": {
    "collapsed": false
   },
   "outputs": [],
   "source": [
    "##############\n",
    "#Set up any functions required by the rheology\n",
    "##############\n",
    "strainRate_2ndInvariant = fn.tensor.second_invariant( \n",
    "                            fn.tensor.symmetric( \n",
    "                            velocityField.fn_gradient ))\n",
    "\n",
    "def safe_visc(func, viscmin=ndp.eta_min, viscmax=ndp.eta_max):\n",
    "    return fn.misc.max(viscmin, fn.misc.min(viscmax, func))"
   ]
  },
  {
   "cell_type": "code",
   "execution_count": 147,
   "metadata": {
    "collapsed": true
   },
   "outputs": [],
   "source": [
    "#strainRate_2ndInvariant = fn.misc.constant(ndp.SR) #dummy fucntion to check which mechanisms are at active are reference strain rate"
   ]
  },
  {
   "cell_type": "code",
   "execution_count": 148,
   "metadata": {
    "collapsed": false
   },
   "outputs": [],
   "source": [
    "#ndp.crust_cohesion_fac"
   ]
  },
  {
   "cell_type": "code",
   "execution_count": 149,
   "metadata": {
    "collapsed": false
   },
   "outputs": [],
   "source": [
    "############\n",
    "#Rheology: create UW2 functions for all viscous mechanisms\n",
    "#############\n",
    "omega = fn.misc.constant(1.) #this function can hold any arbitary viscosity modifications \n",
    "\n",
    "\n",
    "##Diffusion Creep\n",
    "diffusion = fn.misc.min(ndp.eta_max, fn.math.exp(-1*ndp.Edf + ndp.Edf / (temperatureField + 1e-8)))\n",
    "\n",
    "\n",
    "##Define the Plasticity\n",
    "ys =  ndp.cm + (depthFn*ndp.fcmd)\n",
    "ysMax = 10e4*1e6*sf.stress\n",
    "ysf = fn.misc.min(ys, ysMax)\n",
    "yielding = ysf/(2.*(strainRate_2ndInvariant))\n",
    "\n",
    "##Crust rheology\n",
    "#crustys =  ndp.cohesion*ndp.crust_cohesion_fac + (depthFn*ndp.fcd*ndp.crust_fc_fac)\n",
    "crustys =  ndp.cc + (depthFn*ndp.fccd) #only weakened cohesion is discussed, not fc\n",
    "crustvisc = crustys/(2.*(strainRate_2ndInvariant)) \n",
    "\n",
    "\n",
    "##Interface rheology\n",
    "interfaceys =  ndp.ci + (depthFn*ndp.fcid) #only weakened cohesion is discussed, not fc\n",
    "interfacevisc = interfaceys/(2.*(strainRate_2ndInvariant))\n"
   ]
  },
  {
   "cell_type": "code",
   "execution_count": 150,
   "metadata": {
    "collapsed": false
   },
   "outputs": [],
   "source": [
    "############\n",
    "#Rheology: combine viscous mechanisms in various ways \n",
    "#harmonic: harmonic average of all mechanims\n",
    "#min: minimum effective viscosity of the mechanims\n",
    "#mixed: takes the minimum of the harmonic and the plastic effective viscosity\n",
    "#############\n",
    "\n",
    "#linear rheology \n",
    "linearviscosityFn = safe_visc(diffusion)\n",
    "\n",
    "\n",
    "\n",
    "interfaceCond = operator.and_((depthFn < ndp.CRUSTVISCUTOFF), (depthFn > ndp.MANTLETOCRUST))    \n",
    "\n",
    "\n",
    "#combined rheology    \n",
    "finalviscosityFn  = fn.branching.conditional([(depthFn < ndp.LOWMANTLEDEPTH, safe_visc(fn.misc.min(diffusion, yielding))),\n",
    "                                  (True, safe_visc(safe_visc(diffusion*ndp.low_mantle_visc_fac)))])\n",
    "\n",
    "#crust rheology    \n",
    "#finalcrustviscosityFn = safe_visc(fn.misc.min(ndp.eta_max_crust, \n",
    "#                                              crustyielding)) #cohesion weakening factor also applies to eta_0\n",
    "\n",
    "crustviscosityFn = safe_visc(fn.misc.min(linearviscosityFn, crustvisc), ndp.eta_max_crust)\n",
    "interfaceviscosityFn = safe_visc(fn.misc.min(linearviscosityFn, interfacevisc), ndp.eta_max_interface)\n",
    "\n",
    "if ndp.eta_max_crust == ndp.eta_min_crust: #If these are equal, set to constant visc. \n",
    "    crustviscosityFn = fn.misc.constant(ndp.eta_min_crust)\n",
    "    \n",
    "if ndp.eta_max_interface == ndp.eta_min_interface: #If these are equal, set to constant visc. \n",
    "    interfaceviscosityFn = fn.misc.constant(ndp.eta_min_interface)\n",
    "    \n",
    "\n",
    "\n",
    "finalcrustviscosityFn  = fn.branching.conditional([(depthFn < ndp.MANTLETOCRUST, crustviscosityFn),\n",
    "                                                     (interfaceCond, interfaceviscosityFn), #\n",
    "                                                     (True, finalviscosityFn)])"
   ]
  },
  {
   "cell_type": "markdown",
   "metadata": {},
   "source": [
    "Stokes system setup\n",
    "-----\n"
   ]
  },
  {
   "cell_type": "code",
   "execution_count": 151,
   "metadata": {
    "collapsed": true
   },
   "outputs": [],
   "source": [
    "buoyancyFn =  ndp.RA*temperatureField\n"
   ]
  },
  {
   "cell_type": "code",
   "execution_count": 152,
   "metadata": {
    "collapsed": false
   },
   "outputs": [],
   "source": [
    "densityMapFn = fn.branching.map( fn_key = materialVariable,\n",
    "                         mapping = {airIndex:ndp.StRA,\n",
    "                                    crustIndex:buoyancyFn, \n",
    "                                    mantleIndex:buoyancyFn,\n",
    "                                    harzIndex:buoyancyFn} )"
   ]
  },
  {
   "cell_type": "code",
   "execution_count": 153,
   "metadata": {
    "collapsed": true
   },
   "outputs": [],
   "source": [
    "\n",
    "# Define our vertical unit vector using a python tuple (this will be automatically converted to a function).\n",
    "gravity = ( 0.0, 1.0 )\n",
    "\n",
    "# Now create a buoyancy force vector using the density and the vertical unit vector. \n",
    "buoyancyFn = densityMapFn * gravity"
   ]
  },
  {
   "cell_type": "code",
   "execution_count": 154,
   "metadata": {
    "collapsed": true
   },
   "outputs": [],
   "source": [
    "if md.PIC_integration:\n",
    "    stokesPIC = uw.systems.Stokes(velocityField=velocityField, \n",
    "                              pressureField=pressureField,\n",
    "                              conditions=[freeslipBC,],\n",
    "                              fn_viscosity=linearviscosityFn, \n",
    "                              fn_bodyforce=buoyancyFn,\n",
    "                             swarm=gSwarm)\n",
    "    \n",
    "\n",
    "else:\n",
    "    stokesPIC = uw.systems.Stokes(velocityField=velocityField, \n",
    "                              pressureField=pressureField,\n",
    "                              conditions=[freeslipBC,],\n",
    "                              fn_viscosity=linearviscosityFn, \n",
    "                              fn_bodyforce=buoyancyFn )"
   ]
  },
  {
   "cell_type": "code",
   "execution_count": 155,
   "metadata": {
    "collapsed": true
   },
   "outputs": [],
   "source": [
    "solver = uw.systems.Solver(stokesPIC)\n",
    "if not checkpointLoad:\n",
    "    solver.solve() #A solve on the linear visocisty is unhelpful unless we're starting from scratch"
   ]
  },
  {
   "cell_type": "code",
   "execution_count": null,
   "metadata": {
    "collapsed": false
   },
   "outputs": [],
   "source": [
    "\n"
   ]
  },
  {
   "cell_type": "code",
   "execution_count": 156,
   "metadata": {
    "collapsed": false
   },
   "outputs": [],
   "source": [
    "viscosityMapFn1 = fn.branching.map( fn_key = materialVariable,\n",
    "                         mapping = {crustIndex:finalcrustviscosityFn,\n",
    "                                    mantleIndex:finalviscosityFn,\n",
    "                                    harzIndex:finalviscosityFn,\n",
    "                                    airIndex:ndp.Steta_n} )\n",
    "\n",
    "\n",
    "delta_Steata2 = ndp.Steta_n - ndp.Steta_s\n",
    "delta_eta_fault = 0.\n",
    "\n",
    "if md.subductionFault:  \n",
    "    if ndp.eta_min_fault == ndp.eta_min_fault:#Transverse rheology is isoviscous\n",
    "        delta_eta_fault = fn.misc.min(0.999, fn.misc.max (0.,   ndp.eta_min_crust - ndp.eta_min_fault))       \n",
    "        \n",
    "    else:\n",
    "        #Transverse viscosity is related the Mohr-Coulomb criterion\n",
    "        delta_eta_fault = fn.misc.min(0.999, fn.misc.max (0., \n",
    "        viscosityMapFn1 - ((edotn_SFn*viscosityMapFn1 + ndp.fcfd * pressureField)  + ndp.cf)/edots_SFn))\n",
    "   "
   ]
  },
  {
   "cell_type": "code",
   "execution_count": 157,
   "metadata": {
    "collapsed": false
   },
   "outputs": [],
   "source": [
    "# This one maps to my fault-proximity variable (which also picks only materialV)\n",
    "viscosityMapFn2    = { 0: 0.0, \n",
    "                           1: delta_eta_fault, \n",
    "                           3: delta_Steata2\n",
    "                       }\n",
    "    \n",
    "\n",
    "viscosityMapFn2  = fn.branching.map( fn_key = proximityVariable, \n",
    "                                           mapping = viscosityMapFn2)"
   ]
  },
  {
   "cell_type": "code",
   "execution_count": 158,
   "metadata": {
    "collapsed": false
   },
   "outputs": [],
   "source": [
    "#orientation = -1.*90. * math.pi / 180.0  #vertical\n",
    "#math.cos(orientation), math.sin(orientation)"
   ]
  },
  {
   "cell_type": "code",
   "execution_count": 159,
   "metadata": {
    "collapsed": false
   },
   "outputs": [],
   "source": [
    "#stickyAir"
   ]
  },
  {
   "cell_type": "code",
   "execution_count": 160,
   "metadata": {
    "collapsed": false
   },
   "outputs": [],
   "source": [
    "#Add the non-linear viscosity to the Stokes system\n",
    "stokesPIC.fn_viscosity = viscosityMapFn1\n",
    "\n",
    "if md.stickyAir or md.subductionFault:\n",
    "    stokesPIC.fn_viscosity2 = viscosityMapFn2\n",
    "    stokesPIC._fn_director   = directorVector\n"
   ]
  },
  {
   "cell_type": "code",
   "execution_count": 161,
   "metadata": {
    "collapsed": false
   },
   "outputs": [
    {
     "name": "stdout",
     "output_type": "stream",
     "text": [
      "\u001b[1;35m\n",
      " \n",
      "Pressure iterations:   3\n",
      "Velocity iterations:   1 (presolve)      \n",
      "Velocity iterations:  -1 (pressure solve)\n",
      "Velocity iterations:   1 (backsolve)     \n",
      "Velocity iterations:   1 (total solve)   \n",
      " \n",
      "SCR RHS  solve time: 5.7287e-01\n",
      "Pressure solve time: 5.6107e-02\n",
      "Velocity solve time: 5.7941e-01 (backsolve)\n",
      "Total solve time   : 1.2965e+00\n",
      " \n",
      "Velocity solution min/max: 0.0000e+00/0.0000e+00\n",
      "Pressure solution min/max: 0.0000e+00/0.0000e+00\n",
      " \n",
      "\u001b[00m\n"
     ]
    }
   ],
   "source": [
    "solver.set_inner_method(\"mumps\")\n",
    "solver.options.scr.ksp_type=\"cg\"\n",
    "solver.set_penalty(1.0e7)\n",
    "solver.options.scr.ksp_rtol = 1.0e-4\n",
    "solver.solve(nonLinearIterate=True)\n",
    "solver.print_stats()"
   ]
  },
  {
   "cell_type": "code",
   "execution_count": 162,
   "metadata": {
    "collapsed": false
   },
   "outputs": [],
   "source": [
    "#Check which particles are yielding\n",
    "#yieldingCheck.data[:] = 0\n",
    "\n",
    "#yieldconditions = [ ( finalviscosityFn < Visc , 1), \n",
    "#               ( True                                           , 0) ]\n",
    "\n",
    "# use the branching conditional function to set each particle's index\n",
    "#yieldingCheck.data[:] = fn.branching.conditional( yieldconditions ).evaluate(gSwarm)"
   ]
  },
  {
   "cell_type": "code",
   "execution_count": 163,
   "metadata": {
    "collapsed": false
   },
   "outputs": [],
   "source": [
    "#velocityFieldIso       = uw.mesh.MeshVariable( mesh=mesh,         nodeDofCount=2 )\n",
    "#velocityFieldIso.data[:] = velocityField.data.copy()\n",
    "\n",
    "\n",
    "\n",
    "#strainRate_2ndInvariantIso = fn.tensor.second_invariant( \n",
    "#                            fn.tensor.symmetric( \n",
    "#                            velocityFieldIso.fn_gradient ))"
   ]
  },
  {
   "cell_type": "markdown",
   "metadata": {},
   "source": [
    "Advection-diffusion System setup\n",
    "-----"
   ]
  },
  {
   "cell_type": "code",
   "execution_count": 164,
   "metadata": {
    "collapsed": false
   },
   "outputs": [],
   "source": [
    "advDiff = uw.systems.AdvectionDiffusion( phiField       = temperatureField, \n",
    "                                         phiDotField    = temperatureDotField, \n",
    "                                         velocityField  = velocityField,\n",
    "                                         fn_sourceTerm    = 0.0,\n",
    "                                         fn_diffusivity = 1.0, \n",
    "                                         #conditions     = [neumannTempBC, dirichTempBC] )\n",
    "                                         conditions     = [ dirichTempBC] )\n",
    "\n",
    "passiveadvector = uw.systems.SwarmAdvector( swarm         = gSwarm, \n",
    "                                     velocityField = velocityField, \n",
    "                                     order         = 1)"
   ]
  },
  {
   "cell_type": "code",
   "execution_count": 165,
   "metadata": {
    "collapsed": true
   },
   "outputs": [],
   "source": [
    "population_control = uw.swarm.PopulationControl(gSwarm,deleteThreshold=0.2,splitThreshold=1.,maxDeletions=3,maxSplits=0, aggressive=True, particlesPerCell=int(md.ppc))"
   ]
  },
  {
   "cell_type": "markdown",
   "metadata": {},
   "source": [
    "Analysis functions / routines\n",
    "-----\n",
    "\n",
    "Most of the metrics we want to calculate are either:\n",
    "\n",
    "* extrema of some field / function\n",
    "* integral of some field / function\n",
    "* average value of some function (integral divide by area)\n",
    "\n",
    "In addition, we also want to be able to determine these metrics over some restricted part of the domain, where the restriction may either be due some value of a field, a material type, or something more arbitrary.\n",
    "\n",
    "Much of he challenge lies in defining these restriction functions in an efficient and robust way (i.e they don't break down as the model evolves)\n",
    "\n",
    "For volume integrals, and extrema, we build a hierarchy of restriction functions, each borrowing from the previous, until we have divided the domain into a number of sub regions of interest. \n",
    "\n",
    "In general, averages are found afterwards by combining the integral and the area of the relavent subregion"
   ]
  },
  {
   "cell_type": "code",
   "execution_count": 174,
   "metadata": {
    "collapsed": false
   },
   "outputs": [],
   "source": [
    "###################\n",
    "#Volume Restriction functions\n",
    "###################\n",
    "\n",
    "#Level 1. Global\n",
    "globRestFn = fn.misc.constant(1.)\n",
    "\n",
    "#Level 2. Rock - air:\n",
    "rockRestFn = uw.swarm.SwarmVariable(gSwarm, dataType='double', count=1)\n",
    "rockRestFn.data[:] = 0.\n",
    "rockRestFn.data[np.where(materialVariable.data[:] != airIndex)] = 1.\n",
    "rockRestFn *= globRestFn #Add next level up in heirarchy\n",
    "\n",
    "\n",
    "#Level 3. lithosphere - mantle:\n",
    "tempMM = fn.view.min_max(temperatureField)\n",
    "tempMM.evaluate(mesh)\n",
    "TMAX = tempMM.max_global()\n",
    "mantleconditions = [ (                                  operator.and_(temperatureField < 0.9*TMAX, operator.and_(xFn> ndp.lRidge,xFn< ndp.rRidge )), 1.),\n",
    "                   (                                                   True , 0.) ]\n",
    "lithRestFn = fn.branching.conditional(mantleconditions)\n",
    "lithRestFn*=rockRestFn #Add next level up in heirarchy\n",
    "\n",
    "\n",
    "#Level 4. lower plate - upper plate:\n",
    "\n",
    "\n",
    "#This whole section simply builds a restriction Fn that separates the upper and lower plate \n",
    "#It's pretty cumbersome, and will need to advected, rebuilt\n",
    "#can YOU think of a better way?\n",
    "   \n",
    "lowerPlateRestFn = gSwarm.add_variable( dataType=\"double\", count=1 )\n",
    "lowerPlateRestFn.data[:] = 0.0\n",
    "\n",
    "update_swarm_from_line(slab_seg, lowerPlateRestFn )\n",
    "lowerPlateRestFn.data[np.where(lowerPlateRestFn.data != 0.)] += midthickness #assume instances of 0. are actually where no fault on proc\n",
    "lowerPlateRestFn.data[np.where(lowerPlateRestFn.data > 0.*midthickness)] = 1.\n",
    "lowerPlateRestFn.data[np.where(lowerPlateRestFn.data <= 0.*midthickness)] = 0. \n",
    "lowerPlateRestFn *= lithRestFn #Add next level up in heirarchy\n",
    "\n",
    "#The lowerPlateRestFn isn't working on restart - no idea why\n",
    "#slab_seg seems to load, other variables seem okay. \n",
    "#print(str(ndp.lRidge), str(ndp.rRidge), str(TMAX), str(midthickness), str(slab_seg.swarm.particleGlobalCount), lowerPlateRestFn.evaluate(gSwarm).max())\n",
    "\n",
    "\n",
    "#Also see if we can stick the the Velocity and coords on to this swarm as well\n",
    "tipVar = uw.swarm.SwarmVariable(slab_seg.swarm, dataType='double', count=4)\n",
    "tipVar.data[:,:2] = velocityField.evaluate(slab_seg.swarm)\n",
    "tipVar.data[:,2:] = xFn.evaluate(slab_seg.swarm)\n",
    "tipVar.data[:,3:] = yFn.evaluate(slab_seg.swarm)\n",
    "\n",
    "\n",
    "#Level 5. hinge of lower plate:\n",
    "\n",
    "hinge60Spatialconditions = [ (           operator.and_( (depthFn < (60e3/dp.LS)),  (xFn > ndp.subzone - 60e3/dp.LS)), 1.),\n",
    "                   (                                                   True , 0.) ]\n",
    "\n",
    "hinge60RestFn = fn.branching.conditional(hinge60Spatialconditions)\n",
    "hinge60RestFn*=lowerPlateRestFn #Add next level up in heirarchy\n",
    "\n",
    "\n",
    "\n",
    "hinge180Spatialconditions = [ (           operator.and_( (depthFn < (180e3/dp.LS)),  (xFn > ndp.subzone - 180e3/dp.LS)), 1.),\n",
    "                   (                                                   True , 0.) ]\n",
    "\n",
    "hinge180RestFn = fn.branching.conditional(hinge180Spatialconditions)\n",
    "hinge180RestFn*=lowerPlateRestFn #Add next level up in heirarchy\n",
    "\n",
    "\n",
    "#Level 6. crust/interface in hinge of lower plate:\n",
    "\n",
    "interfaceRestFn = uw.swarm.SwarmVariable(gSwarm, dataType='double', count=1)\n",
    "interfaceRestFn.data[:] = 0.\n",
    "interfaceRestFn.data[np.where(materialVariable.data[:] == crustIndex)] = 1.\n",
    "interfaceRestFn *= hinge60RestFn #Add next level up in heirarchy\n"
   ]
  },
  {
   "cell_type": "code",
   "execution_count": 89,
   "metadata": {
    "collapsed": false
   },
   "outputs": [],
   "source": [
    "respltconditions = [ \n",
    "                    (                                  hinge60RestFn*2. > rockRestFn*1., 1.),\n",
    "                    (                                  lowerPlateRestFn*3. > hinge60RestFn*2. , 3.),\n",
    "                    (                                  lithRestFn*5. > lowerPlateRestFn*3. , 4.),\n",
    "                   (                                                   True , 0.) ]\n",
    "\n",
    "respltFn = fn.branching.conditional(respltconditions )"
   ]
  },
  {
   "cell_type": "code",
   "execution_count": 90,
   "metadata": {
    "collapsed": false
   },
   "outputs": [
    {
     "data": {
      "text/html": [
       "<img src='data:image/png;base64,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'>"
      ],
      "text/plain": [
       "<IPython.core.display.HTML object>"
      ]
     },
     "metadata": {},
     "output_type": "display_data"
    }
   ],
   "source": [
    "#figR= glucifer.Figure()\n",
    "#fig.append( glucifer.objects.Points(gSwarm,respltFn))\n",
    "#fig.append( glucifer.objects.Points(gSwarm,lithRestFn))\n",
    "#figR.append( glucifer.objects.Points(gSwarm,lowerPlateRestFn))\n",
    "#fig.append( glucifer.objects.Points(gSwarm,hinge180RestFn))\n",
    "#fig.append( glucifer.objects.Points(gSwarm,interfaceRestFn))\n",
    "#fig.show()\n",
    "#figR.save_database('lptest.gldb')"
   ]
  },
  {
   "cell_type": "code",
   "execution_count": 91,
   "metadata": {
    "collapsed": true
   },
   "outputs": [],
   "source": [
    "###################\n",
    "#Surface Restriction functions\n",
    "###################\n",
    "\n",
    "def platenessFn(val = 0.1):\n",
    "    normgradV = fn.math.abs(velocityField.fn_gradient[0]/fn.math.sqrt(velocityField[0]*velocityField[0])) #[du*/dx]/sqrt(u*u)\n",
    "\n",
    "\n",
    "\n",
    "    srconditions = [ (                                  normgradV < val, 1.),\n",
    "                   (                                                   True , 0.) ]\n",
    "\n",
    "\n",
    "    return fn.branching.conditional(srconditions)\n",
    "\n",
    "srRestFn = platenessFn(val = 0.1)"
   ]
  },
  {
   "cell_type": "code",
   "execution_count": 92,
   "metadata": {
    "collapsed": false
   },
   "outputs": [],
   "source": [
    "###################\n",
    "#Setup any Functions to be integrated\n",
    "###################\n",
    "\n",
    "sqrtv2 = fn.math.sqrt(fn.math.dot(velocityField,velocityField))\n",
    "vx = velocityField[0]\n",
    "v2x = fn.math.dot(velocityField[0],velocityField[0])\n",
    "sqrtv2x = fn.math.sqrt(fn.math.dot(velocityField[0],velocityField[0]))\n",
    "dw = temperatureField*velocityField[1]\n",
    "sinner = fn.math.dot( strainRate_2ndInvariant, strainRate_2ndInvariant )\n",
    "vd = 2.*viscosityMapFn1*sinner\n",
    "dTdZ = temperatureField.fn_gradient[1]\n",
    "\n"
   ]
  },
  {
   "cell_type": "code",
   "execution_count": 93,
   "metadata": {
    "collapsed": false
   },
   "outputs": [],
   "source": [
    "###################\n",
    "#Create integral, max/min templates \n",
    "###################\n",
    "\n",
    "def volumeint(Fn = 1., rFn=globRestFn):\n",
    "    return uw.utils.Integral( Fn*rFn,  mesh )\n",
    "\n",
    "def surfint(Fn = 1., rFn=globRestFn, surfaceIndexSet=mesh.specialSets[\"MaxJ_VertexSet\"]):\n",
    "    return uw.utils.Integral( Fn*rFn, mesh=mesh, integrationType='Surface', surfaceIndexSet=surfaceIndexSet)\n",
    "\n",
    "def maxMin(Fn = 1.):\n",
    "    #maxMin(Fn = 1., rFn=globRestFn\n",
    "    #vuFn = fn.view.min_max(Fn*rFn) #the restriction functions don't work with the view.min_max fn yet\n",
    "    vuFn = fn.view.min_max(Fn)\n",
    "    return vuFn\n",
    "    \n",
    "   \n",
    "    "
   ]
  },
  {
   "cell_type": "code",
   "execution_count": 94,
   "metadata": {
    "collapsed": false
   },
   "outputs": [],
   "source": [
    "#Setup volume integrals on different sub regions\n",
    "\n",
    "##Whole rock domain\n",
    "\n",
    "_areaintRock = volumeint(rockRestFn)\n",
    "_tempintRock = volumeint(temperatureField, rockRestFn)\n",
    "_rmsintRock = volumeint(sqrtv2,rockRestFn)\n",
    "_dwintRock = volumeint(dw,rockRestFn)\n",
    "_vdintRock = volumeint(vd,rockRestFn)\n",
    "\n",
    "##Lith \n",
    "\n",
    "_areaintLith  = volumeint(lithRestFn)\n",
    "_tempintLith  = volumeint(temperatureField, lithRestFn)\n",
    "_rmsintLith  = volumeint(sqrtv2,lithRestFn)\n",
    "_dwintLith  = volumeint(dw,lithRestFn)\n",
    "_vdintLith  = volumeint(vd,lithRestFn)\n",
    "\n",
    "##Lower plate\n",
    "\n",
    "_areaintLower  = volumeint(lowerPlateRestFn)\n",
    "_tempintLower  = volumeint(temperatureField, lowerPlateRestFn)\n",
    "_rmsintLower  = volumeint(sqrtv2,lowerPlateRestFn)\n",
    "_dwintLower = volumeint(dw,lowerPlateRestFn)\n",
    "_vdintLower  = volumeint(vd,lowerPlateRestFn)\n",
    "\n",
    "##Hinge lower plate\n",
    "\n",
    "_areaintHinge180  = volumeint(hinge180RestFn)\n",
    "_vdintHinge180  = volumeint(vd,hinge180RestFn)\n",
    "\n",
    "_areaintHinge60  = volumeint(hinge60RestFn)\n",
    "_vdintHinge60  = volumeint(vd,hinge60RestFn)\n",
    "\n",
    "\n",
    "##Interface\n",
    "\n",
    "_areaintInterface  = volumeint(interfaceRestFn)\n",
    "_vdintInterface = volumeint(vd,interfaceRestFn)"
   ]
  },
  {
   "cell_type": "code",
   "execution_count": 95,
   "metadata": {
    "collapsed": false
   },
   "outputs": [],
   "source": [
    "#Setup surface integrals\n",
    "\n",
    "_surfLength = surfint()\n",
    "_rmsSurf = surfint(v2x)\n",
    "_nuTop = surfint(dTdZ)\n",
    "_nuBottom = surfint(dTdZ, surfaceIndexSet=mesh.specialSets[\"MinJ_VertexSet\"])\n",
    "_plateness = surfint(srRestFn)\n",
    "_pressure = surfint(pressureField)"
   ]
  },
  {
   "cell_type": "code",
   "execution_count": 96,
   "metadata": {
    "collapsed": false
   },
   "outputs": [],
   "source": [
    "#Setup max min fns (at the moment, we can't pass restriction function to view.min_max, so we're limited to whole volume or surface extrema)\n",
    "\n",
    "##Whole rock domain\n",
    "\n",
    "#_maxMinVisc = maxMin(viscosityMapFn1)  #These don't work on swarm variables or mapping functions, yet\n",
    "#dummyFn = _maxMinVisc.evaluate(mesh)\n",
    "#_maxMinStressInv = maxMin(2*viscosityMapFn1*strainRate_2ndInvariant) #These don't work on swarm variables or mapping functions, yet\n",
    "#dummyFn = _maxMinStress.evaluate(mesh)\n",
    "#_maxMinVd = maxMin(vd) #These don't work on swarm variables or mapping functions, yet\n",
    "#dummyFn = _maxMinVd.evaluate(mesh)\n",
    "\n",
    "\n",
    "_maxMinVel = maxMin(velocityField) \n",
    "dummyFn = _maxMinVel.evaluate(mesh)\n",
    "\n",
    "_maxMinSr = maxMin(strainRate_2ndInvariant) \n",
    "dummyFn = _maxMinSr.evaluate(mesh)\n",
    "\n",
    "\n",
    "#Surface extrema\n",
    "_maxMinVxSurf = maxMin(vx)\n",
    "dummyFn = _maxMinVxSurf.evaluate(tWalls)\n"
   ]
  },
  {
   "cell_type": "code",
   "execution_count": 98,
   "metadata": {
    "collapsed": false
   },
   "outputs": [],
   "source": [
    "#Volume Ints\n",
    "areaintRock = _areaintRock.evaluate()[0]\n",
    "tempintRock = _tempintRock.evaluate()[0]\n",
    "rmsintRock = _rmsintRock.evaluate()[0]\n",
    "dwintRock = _dwintRock.evaluate()[0]\n",
    "vdintRock = _vdintRock.evaluate()[0]\n",
    "areaintLith = _areaintLith.evaluate()[0]\n",
    "tempintLith = _tempintLith.evaluate()[0]\n",
    "rmsintLith = _rmsintLith.evaluate()[0]\n",
    "dwintLith = _dwintLith.evaluate()[0]\n",
    "vdintLith = _vdintLith.evaluate()[0]\n",
    "areaintLower = _areaintLower.evaluate()[0]\n",
    "tempintLower = _tempintLower.evaluate()[0]\n",
    "rmsintLower = _rmsintLower.evaluate()[0]\n",
    "dwintLower = _dwintLower.evaluate()[0]\n",
    "vdintLower = _vdintLower.evaluate()[0]\n",
    "vdintHinge180 = _vdintHinge180.evaluate()[0]\n",
    "areaintHinge180 = _areaintHinge180.evaluate()[0]\n",
    "vdintHinge60 = _vdintHinge60.evaluate()[0]\n",
    "areaintHinge60= _areaintHinge60.evaluate()[0]\n",
    "vdintInterface = _vdintInterface.evaluate()[0]\n",
    "areaintInterface= _areaintInterface.evaluate()[0]\n",
    "\n",
    "#Surface Ints\n",
    "surfLength = _surfLength.evaluate()[0]\n",
    "rmsSurf = _rmsSurf.evaluate()[0]\n",
    "nuTop = _nuTop.evaluate()[0]\n",
    "nuBottom = _nuBottom.evaluate()[0]\n",
    "plateness = _plateness.evaluate()[0]\n",
    "pressureSurf = _pressure.evaluate()[0]\n",
    "\n",
    "#Max mins\n",
    "maxVel = _maxMinVel.max_global()\n",
    "minVel = _maxMinVel.min_global() \n",
    "maxSr = _maxMinSr.max_global()\n",
    "minSr = _maxMinSr.min_global()\n",
    "maxVxsurf = _maxMinVxSurf.max_global()\n",
    "minVxsurf = _maxMinVxSurf.min_global()"
   ]
  },
  {
   "cell_type": "markdown",
   "metadata": {
    "collapsed": false
   },
   "source": [
    "print(areaintRock)\n",
    "print(tempintRock)\n",
    "print(rmsintRock)\n",
    "print(dwintRock)\n",
    "print(vdintRock)\n",
    "print(areaintLith)\n",
    "print(tempintLith )\n",
    "print(rmsintLith)\n",
    "print(dwintLith)\n",
    "print(vdintLith)\n",
    "print(areaintLower)\n",
    "print(tempintLower)\n",
    "print(rmsintLower) \n",
    "print(dwintLower)\n",
    "print(vdintLower)\n",
    "print(vdintHinge60)\n",
    "print(vdintHinge180)\n",
    "print(vdintInterface)\n",
    "\n",
    "print(surfLength)\n",
    "print(rmsSurf)\n",
    "print(nuTop)\n",
    "print(nuBottom)\n",
    "print(plateness)\n",
    "\n",
    "\n",
    "print(maxVel)\n",
    "print(minVel)\n",
    "print(maxSr)\n",
    "print(minSr)\n",
    "print(maxVxsurf)\n",
    "print(minVxsurf)"
   ]
  },
  {
   "cell_type": "markdown",
   "metadata": {},
   "source": [
    "Viz.\n",
    "-----"
   ]
  },
  {
   "cell_type": "code",
   "execution_count": 89,
   "metadata": {
    "collapsed": false
   },
   "outputs": [],
   "source": [
    "#viscVariable = gSwarm.add_variable( dataType=\"float\", count=1 )\n",
    "#viscVariable.data[:] = viscosityMapFn1.evaluate(gSwarm)"
   ]
  },
  {
   "cell_type": "code",
   "execution_count": 39,
   "metadata": {
    "collapsed": false
   },
   "outputs": [],
   "source": [
    "if figures == 'gldb':\n",
    "    #Pack some stuff into a database as well\n",
    "    figDb = glucifer.Figure()\n",
    "    figDb.append( glucifer.objects.Points(swarmPlateBoundary, pointSize=4))\n",
    "    #figDb.append( glucifer.objects.Mesh(mesh))\n",
    "    figDb.append( glucifer.objects.VectorArrows(mesh,velocityField, scaling=0.0005))\n",
    "    #figDb.append( glucifer.objects.Points(gSwarm,tracerVariable, colours= 'white black'))\n",
    "    figDb.append( glucifer.objects.Points(gSwarm,materialVariable))\n",
    "    \n",
    "    #figDb.append( glucifer.objects.Points(gSwarm,viscMinVariable))\n",
    "    #figDb.append( glucifer.objects.Points(gSwarm,fnViscMin))\n",
    "    #figDb.append( glucifer.objects.Points(gSwarm, viscosityMapFn1, logScale=True))\n",
    "    #figDb.append( glucifer.objects.Points(gSwarm, strainRate_2ndInvariant, logScale=True))\n",
    "    figDb.append( glucifer.objects.Points(gSwarm,temperatureField))\n",
    "    figDb.append( glucifer.objects.Points(gSwarm,pressureField))\n",
    "    \n",
    "    \n",
    "    #figRestrict= glucifer.Figure()\n",
    "    #figRestrict.append( glucifer.objects.Points(gSwarm,respltFn))\n",
    "    #figRestrict.append( glucifer.objects.Points(gSwarm,lithRestFn))\n",
    "    #figRestrict.append( glucifer.objects.Points(gSwarm,lowerPlateRestFn))\n",
    "    #figRestrict.append( glucifer.objects.Points(gSwarm,hinge180RestFn))\n",
    "    #figRestrict.append( glucifer.objects.Points(gSwarm,interfaceRestFn))\n",
    "    #figRestrict.append( glucifer.objects.Points(interfaces[0].swarm, colours=\"Blue Blue\", pointSize=2.0, colourBar=False) )\n",
    "    #figRestrict.append( glucifer.objects.Points(interfaces[1].swarm, colours=\"Red Red\", pointSize=2.0, colourBar=False) )\n",
    "    #figRestrict.append( glucifer.objects.Points(slab_seg.swarm, colours=\"Black Black\", pointSize=2.0, colourBar=False) )\n",
    "\n",
    "elif figures == 'store':\n",
    "    fullpath = os.path.join(outputPath + \"gldbs/\")\n",
    "    store = glucifer.Store(fullpath + 'subduction.gldb')\n",
    "\n",
    "    figTemp = glucifer.Figure(store,figsize=(300*np.round(md.aspectRatio,2),300))\n",
    "    figTemp.append( glucifer.objects.Points(gSwarm,temperatureField))\n",
    "\n",
    "    figVisc= glucifer.Figure(store, figsize=(300*np.round(md.aspectRatio,2),300))\n",
    "    figVisc.append( glucifer.objects.Points(gSwarm,viscosityMapFn1, logScale=True, valueRange =[1e-3,1e5]))\n",
    "    \n",
    "    figSr= glucifer.Figure(store, figsize=(300*np.round(md.aspectRatio,2),300))\n",
    "    figSr.append( glucifer.objects.Points(gSwarm,strainRate_2ndInvariant, logScale=True))\n",
    "    figSr.append( glucifer.objects.VectorArrows(mesh,velocityField, scaling=0.0005))\n",
    "\n",
    "    #figMech= glucifer.Figure(store, figsize=(300*np.round(md.aspectRatio,2),300))\n",
    "    #figMech.append( glucifer.objects.Points(gSwarm,fnViscMin))"
   ]
  },
  {
   "cell_type": "markdown",
   "metadata": {},
   "source": [
    "**Miscellania**"
   ]
  },
  {
   "cell_type": "code",
   "execution_count": 236,
   "metadata": {
    "collapsed": false
   },
   "outputs": [
    {
     "name": "stderr",
     "output_type": "stream",
     "text": [
      "/usr/local/lib/python2.7/dist-packages/numpy/core/numeric.py:190: VisibleDeprecationWarning: using a non-integer number instead of an integer will result in an error in the future\n",
      "  a = empty(shape, dtype, order)\n"
     ]
    }
   ],
   "source": [
    "##############\n",
    "#Create a numpy array at the surface to get surface information on (using parallel-friendly evaluate_global)\n",
    "##############\n",
    "\n",
    "surface_xs = np.linspace(mesh.minCoord[0], mesh.maxCoord[0], mesh.elementRes[0] + 1)\n",
    "surface_nodes = np.array(zip(surface_xs, np.ones(len(surface_xs)*mesh.maxCoord[1]))) #For evaluation surface velocity\n",
    "normgradV = velocityField.fn_gradient[0]/fn.math.sqrt(velocityField[0]*velocityField[0])\n",
    "\n",
    "tempMM = fn.view.min_max(temperatureField)\n",
    "dummy = tempMM.evaluate(mesh)\n",
    "\n"
   ]
  },
  {
   "cell_type": "code",
   "execution_count": null,
   "metadata": {
    "collapsed": true
   },
   "outputs": [],
   "source": []
  },
  {
   "cell_type": "code",
   "execution_count": 114,
   "metadata": {
    "collapsed": false
   },
   "outputs": [],
   "source": [
    "##############\n",
    "#These functions handle checkpointing\n",
    "##############\n",
    "\n",
    "\n",
    "#Subzone = ndp.subzone\n",
    "\n",
    "\n",
    "def checkpoint1(step, checkpointPath,filename, filewrites):\n",
    "    path = checkpointPath + str(step) \n",
    "    os.mkdir(path)\n",
    "    ##Write and save the file, if not already a writing step\n",
    "    if not step % filewrites == 0:\n",
    "        f_o.write((30*'%-15s ' + '\\n') % (areaintRock, tempintRock, rmsintRock, dwintRock, vdintRock,\n",
    "                                  areaintLith, tempintLith,rmsintLith, dwintLith, vdintLith,\n",
    "                                  areaintLower, tempintLower, rmsintLower, dwintLower, vdintLower, \n",
    "                                  areaintHinge180,vdintHinge180, areaintHinge60, vdintHinge60, \n",
    "                                  areaintInterface, vdintInterface, vdintInterface,\n",
    "                                  rmsSurf, nuTop, nuBottom, plateness, ndp.subzone,ndp.lRidge, ndp.rRidge, realtime))\n",
    "    filename.close()\n",
    "    shutil.copyfile(os.path.join(outputPath, outputFile), os.path.join(path, outputFile))\n",
    "\n",
    "\n",
    "def checkpoint2(step, checkpointPath, swarm, filename, varlist = [materialVariable], varnames = ['materialVariable']):\n",
    "    path = checkpointPath + str(step) \n",
    "    velfile = \"velocityField\" + \".hdf5\"\n",
    "    tempfile = \"temperatureField\" + \".hdf5\"\n",
    "    pressfile = \"pressureField\" + \".hdf5\"\n",
    "    velocityField.save(os.path.join(path, velfile))\n",
    "    temperatureField.save(os.path.join(path, tempfile))\n",
    "    pressureField.save(os.path.join(path, pressfile))\n",
    "    swarm.save(os.path.join(path, \"swarm.h5\") ) \n",
    "    for ix in range(len(varlist)):\n",
    "        varb = varlist[ix]\n",
    "        varb.save(os.path.join(path,varnames[ix] + \".h5\"))\n",
    "    \n",
    "    #Save the parameters\n",
    "    dict_list = [dp, sf, ndp, md] #if any of the dictionaries have changed, this list needs to be rebuilt\n",
    "    save_pickles(dict_list, dict_names, path)\n",
    "    \n",
    "#Simple Checkpoint function for the faults / interfaces (markerLine2D)\n",
    "def checkpoint3(step,  checkpointPath, interfaces,interfacenames ):\n",
    "    path = checkpointPath + str(step)\n",
    "    for ix in range(len(interfaces)):\n",
    "        intf = interfaces[ix]\n",
    "        intf.swarm.save(os.path.join(path,interfacenames[ix] + \".h5\"))\n",
    "    \n",
    "    "
   ]
  },
  {
   "cell_type": "code",
   "execution_count": null,
   "metadata": {
    "collapsed": true
   },
   "outputs": [],
   "source": []
  },
  {
   "cell_type": "code",
   "execution_count": 46,
   "metadata": {
    "collapsed": true
   },
   "outputs": [],
   "source": [
    "##############\n",
    "#Simple function to return info about location of plate boundaries\n",
    "##############\n",
    "\n",
    "def getnearpos(array,value):\n",
    "    idx = (np.abs(array-value)).argmin()\n",
    "    return idx \n",
    "\n",
    "def plate_info(srfilename, minx, maxx,  searchdx, oldloc = 0.0, plateType='convergent'):\n",
    "    \"\"\"\n",
    "    Use the surface strain rate field to find the location of the plateBoundaries in 2d\n",
    "    This is extremely simple, and not parallel. We can probable do a lot better with uw Functions\n",
    "    At this stage, it's looking at the surface strain field for minima (convergence) & maxima (divergence)\n",
    "    The search is restricted to bounds minx, maxx around the old location.\n",
    "    This will work if the plate boundaries are well defined. If not, it will be useless.\n",
    "    \n",
    "    \"\"\"\n",
    "    if type(srfilename) == str: #read surface strain rate points from file\n",
    "        sr = np.load(srfilename)\n",
    "    else:\n",
    "        sr =  srfilename        #read surface strain rates directly from array\n",
    "    xs = np.linspace(minx,maxx,sr.shape[0] )\n",
    "    #infs at the ends of the SR data...replace with adjacent values\n",
    "    sr[0] = sr[1] \n",
    "    sr[-1] = sr[2]\n",
    "    \n",
    "    #Normalize\n",
    "    srx = (sr- sr.mean()) /(sr.max() - sr.min())\n",
    "    #reduce the search domain, to near the previous PB location\n",
    "    lx, rx = getnearpos(xs, oldloc - searchdx),  getnearpos(xs, oldloc + searchdx)\n",
    "    red_xs, red_sr = xs[lx:rx], srx[lx:rx]\n",
    "    #return the minima\n",
    "    if plateType == 'convergent':\n",
    "        newLoc = red_xs[np.argmin(red_sr)] #Look for local minima (negative maxima) in strain rate - subduction zone\n",
    "    else:\n",
    "        newLoc = red_xs[np.argmax(red_sr)] #Look for local minima (negative maxima) in strain rate - subduction zone\n",
    "    return newLoc"
   ]
  },
  {
   "cell_type": "code",
   "execution_count": 116,
   "metadata": {
    "collapsed": false
   },
   "outputs": [],
   "source": [
    "# initialise timer for computation\n",
    "start = time.clock()\n"
   ]
  },
  {
   "cell_type": "markdown",
   "metadata": {},
   "source": [
    "Main simulation loop\n",
    "-----\n"
   ]
  },
  {
   "cell_type": "code",
   "execution_count": 190,
   "metadata": {
    "collapsed": false
   },
   "outputs": [
    {
     "ename": "KeyboardInterrupt",
     "evalue": "",
     "output_type": "error",
     "traceback": [
      "\u001b[1;31m\u001b[0m",
      "\u001b[1;31mKeyboardInterrupt\u001b[0mTraceback (most recent call last)",
      "\u001b[1;32m<ipython-input-190-f9c389f79938>\u001b[0m in \u001b[0;36m<module>\u001b[1;34m()\u001b[0m\n\u001b[0;32m    105\u001b[0m             \u001b[0mfnamedb\u001b[0m \u001b[1;33m=\u001b[0m \u001b[1;34m\"restrictFig\"\u001b[0m \u001b[1;33m+\u001b[0m \u001b[1;34m\"_\"\u001b[0m \u001b[1;33m+\u001b[0m \u001b[0mstr\u001b[0m\u001b[1;33m(\u001b[0m\u001b[0mstep\u001b[0m\u001b[1;33m)\u001b[0m \u001b[1;33m+\u001b[0m \u001b[1;34m\".gldb\"\u001b[0m\u001b[1;33m\u001b[0m\u001b[0m\n\u001b[0;32m    106\u001b[0m             \u001b[0mfullpath\u001b[0m \u001b[1;33m=\u001b[0m \u001b[0mos\u001b[0m\u001b[1;33m.\u001b[0m\u001b[0mpath\u001b[0m\u001b[1;33m.\u001b[0m\u001b[0mjoin\u001b[0m\u001b[1;33m(\u001b[0m\u001b[0moutputPath\u001b[0m \u001b[1;33m+\u001b[0m \u001b[1;34m\"gldbs/\"\u001b[0m \u001b[1;33m+\u001b[0m \u001b[0mfnamedb\u001b[0m\u001b[1;33m)\u001b[0m\u001b[1;33m\u001b[0m\u001b[0m\n\u001b[1;32m--> 107\u001b[1;33m             \u001b[0mfigRestrict\u001b[0m\u001b[1;33m.\u001b[0m\u001b[0msave_database\u001b[0m\u001b[1;33m(\u001b[0m\u001b[0mfullpath\u001b[0m\u001b[1;33m)\u001b[0m\u001b[1;33m\u001b[0m\u001b[0m\n\u001b[0m\u001b[0;32m    108\u001b[0m         \u001b[1;32melif\u001b[0m \u001b[0mfigures\u001b[0m \u001b[1;33m==\u001b[0m \u001b[1;34m'store'\u001b[0m\u001b[1;33m:\u001b[0m\u001b[1;33m\u001b[0m\u001b[0m\n\u001b[0;32m    109\u001b[0m             \u001b[0mfullpath\u001b[0m \u001b[1;33m=\u001b[0m \u001b[0mos\u001b[0m\u001b[1;33m.\u001b[0m\u001b[0mpath\u001b[0m\u001b[1;33m.\u001b[0m\u001b[0mjoin\u001b[0m\u001b[1;33m(\u001b[0m\u001b[0moutputPath\u001b[0m \u001b[1;33m+\u001b[0m \u001b[1;34m\"gldbs/\"\u001b[0m\u001b[1;33m)\u001b[0m\u001b[1;33m\u001b[0m\u001b[0m\n",
      "\u001b[1;32m/root/underworld2/glucifer/_glucifer.pyc\u001b[0m in \u001b[0;36msave_database\u001b[1;34m(self, filename, regen)\u001b[0m\n\u001b[0;32m    574\u001b[0m     \u001b[1;32mdef\u001b[0m \u001b[0msave_database\u001b[0m\u001b[1;33m(\u001b[0m\u001b[0mself\u001b[0m\u001b[1;33m,\u001b[0m \u001b[0mfilename\u001b[0m\u001b[1;33m,\u001b[0m \u001b[0mregen\u001b[0m\u001b[1;33m=\u001b[0m\u001b[0mTrue\u001b[0m\u001b[1;33m)\u001b[0m\u001b[1;33m:\u001b[0m\u001b[1;33m\u001b[0m\u001b[0m\n\u001b[0;32m    575\u001b[0m         \u001b[1;32mif\u001b[0m \u001b[0mregen\u001b[0m\u001b[1;33m:\u001b[0m\u001b[1;33m\u001b[0m\u001b[0m\n\u001b[1;32m--> 576\u001b[1;33m             \u001b[0mself\u001b[0m\u001b[1;33m.\u001b[0m\u001b[0m_generate_DB\u001b[0m\u001b[1;33m(\u001b[0m\u001b[1;33m)\u001b[0m\u001b[1;33m\u001b[0m\u001b[0m\n\u001b[0m\u001b[0;32m    577\u001b[0m         \u001b[1;32mreturn\u001b[0m \u001b[0mself\u001b[0m\u001b[1;33m.\u001b[0m\u001b[0mdb\u001b[0m\u001b[1;33m.\u001b[0m\u001b[0msave\u001b[0m\u001b[1;33m(\u001b[0m\u001b[0mfilename\u001b[0m\u001b[1;33m)\u001b[0m\u001b[1;33m\u001b[0m\u001b[0m\n\u001b[0;32m    578\u001b[0m \u001b[1;33m\u001b[0m\u001b[0m\n",
      "\u001b[1;32m/root/underworld2/glucifer/_glucifer.pyc\u001b[0m in \u001b[0;36m_generate_DB\u001b[1;34m(self)\u001b[0m\n\u001b[0;32m    609\u001b[0m         \u001b[1;32mif\u001b[0m \u001b[0mlen\u001b[0m\u001b[1;33m(\u001b[0m\u001b[0mself\u001b[0m\u001b[1;33m.\u001b[0m\u001b[0mdraw\u001b[0m\u001b[1;33m.\u001b[0m\u001b[0mvertices\u001b[0m\u001b[1;33m)\u001b[0m \u001b[1;33m>\u001b[0m \u001b[1;36m0\u001b[0m\u001b[1;33m:\u001b[0m\u001b[1;33m\u001b[0m\u001b[0m\n\u001b[0;32m    610\u001b[0m             \u001b[0mobjects\u001b[0m\u001b[1;33m.\u001b[0m\u001b[0mappend\u001b[0m\u001b[1;33m(\u001b[0m\u001b[0mself\u001b[0m\u001b[1;33m.\u001b[0m\u001b[0mdraw\u001b[0m\u001b[1;33m)\u001b[0m\u001b[1;33m\u001b[0m\u001b[0m\n\u001b[1;32m--> 611\u001b[1;33m         \u001b[0mself\u001b[0m\u001b[1;33m.\u001b[0m\u001b[0mdb\u001b[0m\u001b[1;33m.\u001b[0m\u001b[0m_generate\u001b[0m\u001b[1;33m(\u001b[0m\u001b[0mself\u001b[0m\u001b[1;33m.\u001b[0m\u001b[0mname\u001b[0m\u001b[1;33m,\u001b[0m \u001b[0mobjects\u001b[0m\u001b[1;33m,\u001b[0m \u001b[0mself\u001b[0m\u001b[1;33m)\u001b[0m\u001b[1;33m\u001b[0m\u001b[0m\n\u001b[0m\u001b[0;32m    612\u001b[0m \u001b[1;33m\u001b[0m\u001b[0m\n\u001b[0;32m    613\u001b[0m     \u001b[1;32mdef\u001b[0m \u001b[0m_generate_image\u001b[0m\u001b[1;33m(\u001b[0m\u001b[0mself\u001b[0m\u001b[1;33m,\u001b[0m \u001b[0mfilename\u001b[0m\u001b[1;33m=\u001b[0m\u001b[1;34m\"\"\u001b[0m\u001b[1;33m,\u001b[0m \u001b[0msize\u001b[0m\u001b[1;33m=\u001b[0m\u001b[1;33m(\u001b[0m\u001b[1;36m0\u001b[0m\u001b[1;33m,\u001b[0m\u001b[1;36m0\u001b[0m\u001b[1;33m)\u001b[0m\u001b[1;33m)\u001b[0m\u001b[1;33m:\u001b[0m\u001b[1;33m\u001b[0m\u001b[0m\n",
      "\u001b[1;32m/root/underworld2/glucifer/_glucifer.pyc\u001b[0m in \u001b[0;36m_generate\u001b[1;34m(self, figname, objects, props)\u001b[0m\n\u001b[0;32m    218\u001b[0m \u001b[1;33m\u001b[0m\u001b[0m\n\u001b[0;32m    219\u001b[0m             \u001b[1;31m# go ahead and fill db\u001b[0m\u001b[1;33m\u001b[0m\u001b[1;33m\u001b[0m\u001b[0m\n\u001b[1;32m--> 220\u001b[1;33m             \u001b[0mlibUnderworld\u001b[0m\u001b[1;33m.\u001b[0m\u001b[0mgLucifer\u001b[0m\u001b[1;33m.\u001b[0m\u001b[0m_lucDatabase_Execute\u001b[0m\u001b[1;33m(\u001b[0m\u001b[0mself\u001b[0m\u001b[1;33m.\u001b[0m\u001b[0m_db\u001b[0m\u001b[1;33m,\u001b[0m\u001b[0mNone\u001b[0m\u001b[1;33m)\u001b[0m\u001b[1;33m\u001b[0m\u001b[0m\n\u001b[0m\u001b[0;32m    221\u001b[0m \u001b[1;33m\u001b[0m\u001b[0m\n\u001b[0;32m    222\u001b[0m             \u001b[1;31m#Output any custom geometry on objects\u001b[0m\u001b[1;33m\u001b[0m\u001b[1;33m\u001b[0m\u001b[0m\n",
      "\u001b[1;31mKeyboardInterrupt\u001b[0m: "
     ]
    }
   ],
   "source": [
    "#while step < 6:\n",
    "while realtime < 0.002:\n",
    "\n",
    "    # solve Stokes and advection systems\n",
    "    solver.solve(nonLinearIterate=True)\n",
    "    \n",
    "    #remove drift /null space in pressure\n",
    "    pressureField.data[:] -= pressureSurf/surfLength\n",
    "    \n",
    "    \n",
    "    dt = advDiff.get_max_dt()\n",
    "    if step == 0:\n",
    "        dt = 0.\n",
    "    advDiff.integrate(dt)\n",
    "    passiveadvector.integrate(dt)\n",
    "    for f in interfaces:\n",
    "        f.advection(dt)\n",
    "    \n",
    "    \n",
    "    \n",
    "    # Increment\n",
    "    realtime += dt\n",
    "    step += 1\n",
    "    timevals.append(realtime)\n",
    "    ################\n",
    "    #Update temperature field in the air region\n",
    "    #Do this better...\n",
    "    ################\n",
    "    if (step % sticky_air_temp == 0):\n",
    "        for index, coord in enumerate(mesh.data):\n",
    "            if coord[1] >= 1.:\n",
    "                temperatureField.data[index] = ndp.TSP\n",
    "                \n",
    "    ################\n",
    "    #Files output\n",
    "    ################ \n",
    "    if (step % files_output == 0):\n",
    "\n",
    "        vel_surface = velocityField.evaluate_global(surface_nodes)\n",
    "        norm_surface_sr = normgradV.evaluate_global(surface_nodes)\n",
    "        if uw.rank() == 0:\n",
    "            fnametemp = \"velsurface\" + \"_\" + str(step)\n",
    "            fullpath = os.path.join(outputPath + \"files/\" + fnametemp)\n",
    "            np.save(fullpath, vel_surface)\n",
    "            fnametemp = \"norm_surface_sr\" + \"_\" + str(step)\n",
    "            fullpath = os.path.join(outputPath + \"files/\" + fnametemp)\n",
    "            np.save(fullpath, norm_surface_sr)\n",
    "            \n",
    "        #Save the slab_seg and tipswarm coords \n",
    "        fnametemp1 = \"midSwarm\" + \"_\" + str(step)\n",
    "        fullpath1 = os.path.join(outputPath + \"files/\" + fnametemp1)\n",
    "        slab_seg.swarm.save(fullpath1)\n",
    "        #tipVar.data[:,:2] = velocityField.evaluate(tipSwarm)\n",
    "        #tipVar.data[:,2:] = xFn.evaluate(tipSwarm)\n",
    "        #tipVar.data[:,3:] = yFn.evaluate(tipSwarm)\n",
    "        #comm.barrier()\n",
    "        #fnametemp2 = \"tipSwarm\" + \"_\" + str(step)\n",
    "        #fullpath2 = os.path.join(outputPath + \"files/\" + fnametemp2)\n",
    "        #tipVar.save('fullpath2')          \n",
    "                \n",
    "                \n",
    "    ################\n",
    "    #Update the subduction zone / plate information\n",
    "    ################ \n",
    "    \n",
    "    comm.barrier()\n",
    "    if (step % files_output == 0):\n",
    "        \n",
    "        if uw.rank() == 0:\n",
    "            fnametemp = \"norm_surface_sr\" + \"_\" + str(step) + \".npy\"\n",
    "            fullpath = os.path.join(outputPath + \"files/\" + fnametemp)\n",
    "            ndp.subzone = plate_info(fullpath, MINX, MAXX,  200e3/dp.LS, oldloc = ndp.subzone, plateType='convergent')\n",
    "            ndp.lRidge = plate_info(fullpath, MINX, MAXX,  200e3/dp.LS, oldloc = ndp.lRidge, plateType='divergent')\n",
    "            ndp.rRidge = plate_info(fullpath, MINX, MAXX,  200e3/dp.LS, oldloc = ndp.rRidge, plateType='divergent')\n",
    "\n",
    "            \n",
    "        else:\n",
    "            ndp.subzone = None\n",
    "            ndp.lRidge = None\n",
    "            ndp.rRidge = None\n",
    "        \n",
    "        comm.barrier()    \n",
    "        #send out the updated info for sz location\n",
    "        \n",
    "        ndp.subzone = comm.bcast(ndp.subzone, root=0)\n",
    "        ndp.lRidge = comm.bcast(ndp.lRidge, root=0)\n",
    "        ndp.rRidge = comm.bcast(ndp.rRidge, root=0)\n",
    "        \n",
    "        \n",
    "        #rebuild the swarm that carries these points...just for testing\n",
    "        #del swarmPlateBoundary\n",
    "        #swarmPlateBoundary = uw.swarm.Swarm( mesh=mesh )\n",
    "        #swarmCoords = np.array([ [0.0,1.], [-0.68300,1.],[0.68300,1.],[ndp.subzone,1.], [-0.5,1.],[ndp.rRidge,1.]])\n",
    "        #swarmPlateBoundary.add_particles_with_coordinates(swarmCoords)\n",
    "                \n",
    "    ################\n",
    "    # Calculate the Metrics\n",
    "    ################\n",
    "    if (step % metric_output == 0):\n",
    "        ###############\n",
    "        #Rebuild the restriction functions where necessary\n",
    "        ###############\n",
    "        \n",
    "        #Lithosphere - mantle:\n",
    "        tempMM = fn.view.min_max(temperatureField)\n",
    "        tempMM.evaluate(mesh)\n",
    "        TMAX = tempMM.max_global()\n",
    "        mantleconditions = [ (                                  operator.and_(temperatureField < 0.9*TMAX, operator.and_(xFn> ndp.lRidge,xFn< ndp.rRidge )), 1.),\n",
    "                   (                                                   True , 0.) ]\n",
    "        lithRestFn = fn.branching.conditional(mantleconditions)\n",
    "        lithRestFn*=rockRestFn #Add next level up in heirarchy\n",
    "        \n",
    "        #Lower plate\n",
    "        \n",
    "        lowerPlateRestFn = gSwarm.add_variable( dataType=\"double\", count=1 )\n",
    "        lowerPlateRestFn.data[:] = 0.0\n",
    "        update_swarm_from_line(slab_seg, lowerPlateRestFn )\n",
    "        lowerPlateRestFn.data[np.where(lowerPlateRestFn.data >= -1.*midthickness)] = 1.\n",
    "        lowerPlateRestFn.data[np.where(lowerPlateRestFn.data < -1.*midthickness)] = 0. \n",
    "        lowerPlateRestFn *= lithRestFn #Add next level up in hierarchy\n",
    "        \n",
    "        #Hinge\n",
    "        \n",
    "        hinge60Spatialconditions = [ (           operator.and_( (depthFn < MAXY - (60e3/dp.LS)),  (xFn > ndp.subzone - 60e3/dp.LS)), 1.),\n",
    "                   (                                                   True , 0.) ]\n",
    "        hinge60RestFn = fn.branching.conditional(hinge60Spatialconditions)\n",
    "        hinge60RestFn*=lowerPlateRestFn #Add next level up in hierarchy\n",
    "\n",
    "\n",
    "\n",
    "        hinge180Spatialconditions = [ (           operator.and_( (depthFn < MAXY - (180e3/dp.LS)),  (xFn > ndp.subzone - 180e3/dp.LS)), 1.),\n",
    "                           (                                                   True , 0.) ]\n",
    "        hinge180RestFn = fn.branching.conditional(hinge180Spatialconditions)\n",
    "        hinge180RestFn*=lowerPlateRestFn #Add next level up in hierarchy\n",
    "        \n",
    "        ###############\n",
    "        #Metrics\n",
    "        ###############\n",
    "        areaintRock = _areaintRock.evaluate()[0] #trivial except when using sticky air\n",
    "        tempintRock = _tempintRock.evaluate()[0]\n",
    "        rmsintRock = _rmsintRock.evaluate()[0]\n",
    "        dwintRock = _dwintRock.evaluate()[0]\n",
    "        vdintRock = _vdintRock.evaluate()[0]\n",
    "        areaintLith = _areaintLith.evaluate()[0]\n",
    "        tempintLith = _tempintLith.evaluate()[0]\n",
    "        rmsintLith = _rmsintLith.evaluate()[0]\n",
    "        dwintLith = _dwintLith.evaluate()[0]\n",
    "        vdintLith = _vdintLith.evaluate()[0]\n",
    "        areaintLower = _areaintLower.evaluate()[0]\n",
    "        tempintLower = _tempintLower.evaluate()[0]\n",
    "        rmsintLower = _rmsintLower.evaluate()[0]\n",
    "        dwintLower = _dwintLower.evaluate()[0]\n",
    "        vdintLower = _vdintLower.evaluate()[0]\n",
    "        vdintHinge180 = _vdintHinge180.evaluate()[0]\n",
    "        areaintHinge180 = _areaintHinge180.evaluate()[0]\n",
    "        vdintHinge60 = _vdintHinge60.evaluate()[0]\n",
    "        areaintHinge60= _areaintHinge60.evaluate()[0]\n",
    "        vdintInterface = _vdintInterface.evaluate()[0]\n",
    "        areaintInterface= _areaintInterface.evaluate()[0]\n",
    "        #Surface integrals\n",
    "        rmsSurf = _rmsSurf.evaluate()[0]\n",
    "        nuTop = _nuTop.evaluate()[0]\n",
    "        nuBottom = _nuBottom.evaluate()[0]\n",
    "        plateness = _plateness.evaluate()[0]\n",
    "        #extrema\n",
    "        maxVel = _maxMinVel.max_global()\n",
    "        minVel = _maxMinVel.min_global() \n",
    "        maxSr = _maxMinSr.max_global()\n",
    "        minSr = _maxMinSr.min_global()\n",
    "        maxVxsurf = _maxMinVxSurf.max_global()\n",
    "        minVxsurf = _maxMinVxSurf.min_global()\n",
    "        # output to summary text file\n",
    "        if uw.rank()==0:\n",
    "            f_o.write((30*'%-15s ' + '\\n') % (areaintRock, tempintRock, rmsintRock, dwintRock, vdintRock,\n",
    "                                  areaintLith, tempintLith,rmsintLith, dwintLith, vdintLith,\n",
    "                                  areaintLower, tempintLower, rmsintLower, dwintLower, vdintLower, \n",
    "                                  areaintHinge180,vdintHinge180, areaintHinge60, vdintHinge60, \n",
    "                                  areaintInterface, vdintInterface, vdintInterface,\n",
    "                                  rmsSurf, nuTop, nuBottom, plateness, ndp.subzone,ndp.lRidge, ndp.rRidge, realtime))\n",
    "    ################\n",
    "    #Also repopulate entire swarm periodically\n",
    "    ################\n",
    "    #if step % swarm_repop == 0:\n",
    "    population_control.repopulate()   \n",
    "    ################\n",
    "    #Gldb output\n",
    "    ################ \n",
    "    if (step % gldbs_output == 0): \n",
    "        if figures == 'gldb':\n",
    "            \n",
    "            \n",
    "            #Remember to rebuild any necessary swarm variables\n",
    "            fnamedb = \"dbFig\" + \"_\" + str(step) + \".gldb\"\n",
    "            fullpath = os.path.join(outputPath + \"gldbs/\" + fnamedb)\n",
    "            figDb.save_database(fullpath)\n",
    "            \n",
    "            #Temp figure\n",
    "            #fnamedb = \"restrictFig\" + \"_\" + str(step) + \".gldb\"\n",
    "            #fullpath = os.path.join(outputPath + \"gldbs/\" + fnamedb)\n",
    "            #figRestrict.save_database(fullpath)\n",
    "            \n",
    "            \n",
    "            \n",
    "            \n",
    "        elif figures == 'store':      \n",
    "            fullpath = os.path.join(outputPath + \"gldbs/\")\n",
    "            store.step = step\n",
    "            #Save figures to store\n",
    "            figVisc.save( fullpath + \"Visc\" + str(step).zfill(4))\n",
    "            #figMech.save( fullPath + \"Mech\" + str(step).zfill(4))\n",
    "            figTemp.save( fullpath + \"Temp\"    + str(step).zfill(4))\n",
    "            figSr.save( fullpath + \"Str_rte\"    + str(step).zfill(4))\n",
    "\n",
    "        \n",
    "\n",
    "        \n",
    "\n",
    "    ################\n",
    "    #Particle update\n",
    "    ###############    \n",
    "    #ageVariable.data[:] += dt #increment the ages (is this efficient?)\n",
    "    ageDT += dt\n",
    "    \n",
    "    if step % swarm_update == 0:\n",
    "        \n",
    "        \n",
    "        #This is hardcoded to assume subduction is towards the right\n",
    "        tempop = operator.lt\n",
    "        szoffset = 200e3/dp.LS\n",
    "\n",
    "        #Update the relevant parts of the material graph\n",
    "        #Remove and rebuild edges related to crust\n",
    "        DG.remove_edges_from([(mantleIndex,crustIndex)])\n",
    "        DG.add_edges_from([(mantleIndex,crustIndex)])\n",
    "        DG.remove_edges_from([(harzIndex,crustIndex)])\n",
    "        DG.add_edges_from([(harzIndex,crustIndex)])\n",
    "\n",
    "        #... to crust\n",
    "        DG.add_transition((mantleIndex,crustIndex), depthFn, operator.lt, 0.5)\n",
    "        DG.add_transition((mantleIndex,crustIndex), xFn, tempop , ndp.subzone - szoffset) #No crust on the upper plate\n",
    "        DG.add_transition((mantleIndex,crustIndex), ageVariable, operator.gt, 0.2)\n",
    "\n",
    "        DG.add_transition((harzIndex,crustIndex), depthFn, operator.lt, ndp.MANTLETOCRUST)\n",
    "        DG.add_transition((harzIndex,crustIndex), xFn, tempop, ndp.subzone - szoffset) #This one sets no crust on the upper plate\n",
    "        DG.add_transition((harzIndex,crustIndex), ageVariable, operator.gt, crustageCond)\n",
    "        \n",
    "        comm.barrier()\n",
    "        \n",
    "    \n",
    "        \n",
    "        \n",
    "        #Increment age stuff. \n",
    "        ageConditions = [ (depthFn < ndp.AGETRACKDEPTH, ageVariable + ageDT ),  #add ageDThere\n",
    "                  (True, 0.) ]\n",
    "        ageVariable.data[:] = fn.branching.conditional( ageConditions ).evaluate(gSwarm)        \n",
    "        ageDT = 0. #reset the age incrementer\n",
    "        \n",
    "        #Apply any materialVariable changes\n",
    "        for i in range(2): #go through twice\n",
    "            materialVariable.data[:] = fn.branching.conditional(DG.condition_list).evaluate(gSwarm)\n",
    "        \n",
    "        #Also update any information related to faults / interfaces:\n",
    "        update_swarm_from_faults(surface_seg, proximityVariable, directorVector, signedDistanceVariable)\n",
    "        mask_materials(surface_seg, airIndex, materialVariable, proximityVariable, directorVector, signedDistanceVariable)\n",
    "        \n",
    "        update_swarm_from_faults(fault_seg, proximityVariable, directorVector, signedDistanceVariable)\n",
    "        mask_materials(fault_seg, crustIndex, materialVariable, proximityVariable, directorVector, signedDistanceVariable)\n",
    "        \n",
    "        proximityVariable.data[gSwarm.particleCoordinates.data[:,1]  < (1. - ndp.CRUSTVISCUTOFF)] = 0.\n",
    "        \n",
    "        #And add extra particles to interfaces as necessary\n",
    "        #subduction fault\n",
    "        introPoint = ndp.subzone - abs(ndp.subzone - ndp.lRidge)/2. #half way between ridge and Sz\n",
    "        fault_seg.add_points([introPoint],[MAXY - faultthickness])\n",
    "        #Slab / mid swarm\n",
    "        if dp.sense == 'Right':\n",
    "            introPoint = ndp.lRidge + midthickness #\n",
    "        else:\n",
    "            introPoint = ndp.rRidge - midthickness #\n",
    "        slab_seg.add_points([introPoint],[MAXY - midthickness])\n",
    "        \n",
    "    ################\n",
    "    #Checkpoint\n",
    "    ################\n",
    "    if step % checkpoint_every == 0:\n",
    "        if uw.rank() == 0:\n",
    "            checkpoint1(step, checkpointPath,f_o, metric_output)           \n",
    "        checkpoint2(step, checkpointPath, gSwarm, f_o, varlist = varlist, varnames = varnames)\n",
    "        checkpoint3(step,  checkpointPath, interfaces,interfacenames )\n",
    "        f_o = open(os.path.join(outputPath, outputFile), 'a') #is this line supposed to be here?\n",
    "\n",
    "    \n",
    "f_o.close()\n",
    "print 'step =',step"
   ]
  },
  {
   "cell_type": "code",
   "execution_count": 120,
   "metadata": {
    "collapsed": false
   },
   "outputs": [],
   "source": []
  },
  {
   "cell_type": "code",
   "execution_count": null,
   "metadata": {
    "collapsed": false
   },
   "outputs": [],
   "source": []
  },
  {
   "cell_type": "code",
   "execution_count": 98,
   "metadata": {
    "collapsed": false
   },
   "outputs": [],
   "source": [
    "#vxTi = velocityField[0].evaluate(surface_nodes)\n",
    "#vxIso = velocityFieldIso[0].evaluate(surface_nodes)\n",
    "#%pylab inline\n",
    "#fig, axes = plt.subplots(figsize=(16,4))\n",
    "#axes.plot(vxTi)\n",
    "#axes.plot(vxIso)\n",
    "\n",
    "\n",
    "#fig, axes = plt.subplots(figsize=(16,4))\n",
    "#axes.plot(vxTi)\n",
    "#axes.plot(surface_xs, vxTi - vxIso)\n",
    "#fig.savefig('Ti_minus_Iso.png')\n",
    "#plt.title('surface velocity residual - T. Iso minus Iso. weak zone')\n"
   ]
  },
  {
   "cell_type": "code",
   "execution_count": null,
   "metadata": {
    "collapsed": false
   },
   "outputs": [],
   "source": []
  },
  {
   "cell_type": "code",
   "execution_count": 249,
   "metadata": {
    "collapsed": true
   },
   "outputs": [],
   "source": []
  },
  {
   "cell_type": "code",
   "execution_count": 102,
   "metadata": {
    "collapsed": false
   },
   "outputs": [
    {
     "data": {
      "text/html": [
       "<img src='data:image/png;base64,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'>"
      ],
      "text/plain": [
       "<IPython.core.display.HTML object>"
      ]
     },
     "metadata": {},
     "output_type": "display_data"
    }
   ],
   "source": [
    "#figRestrict.show()"
   ]
  },
  {
   "cell_type": "code",
   "execution_count": 40,
   "metadata": {
    "collapsed": false
   },
   "outputs": [
    {
     "data": {
      "text/html": [
       "<img src='data:image/png;base64,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'>"
      ],
      "text/plain": [
       "<IPython.core.display.HTML object>"
      ]
     },
     "metadata": {},
     "output_type": "display_data"
    }
   ],
   "source": [
    "figDb.show()"
   ]
  },
  {
   "cell_type": "code",
   "execution_count": 41,
   "metadata": {
    "collapsed": false
   },
   "outputs": [
    {
     "data": {
      "text/plain": [
       "'test.gldb'"
      ]
     },
     "execution_count": 41,
     "metadata": {},
     "output_type": "execute_result"
    }
   ],
   "source": [
    "figDb.save_database('test.gldb')"
   ]
  },
  {
   "cell_type": "code",
   "execution_count": 82,
   "metadata": {
    "collapsed": false
   },
   "outputs": [],
   "source": [
    "surfaceArea = uw.utils.Integral(fn=1.0,mesh=mesh, integrationType='surface', surfaceIndexSet=tWalls)\n",
    "surfacePressureIntegral = uw.utils.Integral(fn=pressureField, mesh=mesh, integrationType='surface', surfaceIndexSet=tWalls)\n",
    "\n",
    "(area,)   = surfaceArea.evaluate()\n",
    "(p0,)     = surfacePressureIntegral.evaluate() \n",
    "  \n"
   ]
  },
  {
   "cell_type": "code",
   "execution_count": 80,
   "metadata": {
    "collapsed": true
   },
   "outputs": [],
   "source": [
    "pressureField.data[:] -= p0 / area"
   ]
  },
  {
   "cell_type": "code",
   "execution_count": 55,
   "metadata": {
    "collapsed": false
   },
   "outputs": [
    {
     "data": {
      "text/plain": [
       "-0.68300000000000005"
      ]
     },
     "execution_count": 55,
     "metadata": {},
     "output_type": "execute_result"
    }
   ],
   "source": [
    "ndp.lRidge"
   ]
  }
 ],
 "metadata": {
  "kernelspec": {
   "display_name": "Python 2",
   "language": "python",
   "name": "python2"
  },
  "language_info": {
   "codemirror_mode": {
    "name": "ipython",
    "version": 2
   },
   "file_extension": ".py",
   "mimetype": "text/x-python",
   "name": "python",
   "nbconvert_exporter": "python",
   "pygments_lexer": "ipython2",
   "version": "2.7.9"
  },
  "widgets": {
   "state": {},
   "version": "1.1.2"
  }
 },
 "nbformat": 4,
 "nbformat_minor": 0
}
