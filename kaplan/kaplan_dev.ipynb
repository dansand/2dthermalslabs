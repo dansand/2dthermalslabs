{
 "cells": [
  {
   "cell_type": "markdown",
   "metadata": {},
   "source": [
    "## Thermal subduction, linear rheology:\n",
    "\n",
    "\n",
    "The viscous rheology in this model is similar to the models described in the PhD thesis of Micheal Kaplan\n",
    "\n",
    "\n",
    "\n",
    "**Keywords:** subduction, thermally-activated creep, \n",
    "\n",
    "\n",
    "**References:**\n",
    "\n",
    "\n",
    "Kaplan, Michael. Numerical Geodynamics of Solid Planetary Deformation. Diss. University of Southern California, 2015."
   ]
  },
  {
   "cell_type": "code",
   "execution_count": 1,
   "metadata": {
    "collapsed": false
   },
   "outputs": [
    {
     "name": "stderr",
     "output_type": "stream",
     "text": [
      "/root/underworld2/unsupported/interfaces/__init__.py:9: UserWarning: \n",
      "\n",
      "The interface module is not supported.\n",
      "Questions should be addressed to louis.moresi@unimelb.edu.au \n",
      " \n",
      "  Questions should be addressed to louis.moresi@unimelb.edu.au \\n \"\"\"\n"
     ]
    }
   ],
   "source": [
    "import numpy as np\n",
    "import underworld as uw\n",
    "import math\n",
    "from underworld import function as fn\n",
    "import glucifer\n",
    "\n",
    "import os\n",
    "import sys\n",
    "import natsort\n",
    "import shutil\n",
    "from easydict import EasyDict as edict\n",
    "import operator\n",
    "import pint\n",
    "import time\n",
    "import operator\n",
    "from slippy2 import boundary_layer2d\n",
    "from slippy2 import material_graph\n",
    "from slippy2 import spmesh\n",
    "from slippy2 import phase_function\n",
    "from unsupported.interfaces import markerLine2D\n",
    "\n",
    "from mpi4py import MPI\n",
    "comm = MPI.COMM_WORLD\n",
    "rank = comm.Get_rank()"
   ]
  },
  {
   "cell_type": "code",
   "execution_count": 2,
   "metadata": {
    "collapsed": true
   },
   "outputs": [],
   "source": [
    "#####\n",
    "#Stubborn version number conflicts - need to figure out my Docker container runs an old version. For now...\n",
    "#####\n",
    "try:\n",
    "    natsort.natsort = natsort.natsorted\n",
    "except:\n",
    "    natsort.natsort = natsort.natsort"
   ]
  },
  {
   "cell_type": "markdown",
   "metadata": {},
   "source": [
    "Model name and directories\n",
    "-----"
   ]
  },
  {
   "cell_type": "code",
   "execution_count": 3,
   "metadata": {
    "collapsed": false
   },
   "outputs": [],
   "source": [
    "############\n",
    "#Model letter and number\n",
    "############\n",
    "\n",
    "\n",
    "#Model letter identifier default\n",
    "Model = \"T\"\n",
    "\n",
    "#Model number identifier default:\n",
    "ModNum = 0\n",
    "\n",
    "#Any isolated letter / integer command line args are interpreted as Model/ModelNum\n",
    "\n",
    "if len(sys.argv) == 1:\n",
    "    ModNum = ModNum \n",
    "elif sys.argv[1] == '-f': #\n",
    "    ModNum = ModNum \n",
    "else:\n",
    "    for farg in sys.argv[1:]:\n",
    "        if not '=' in farg: #then Assume it's a not a paramter argument\n",
    "            try:\n",
    "                ModNum = int(farg) #try to convert everingthing to a float, else remains string\n",
    "            except ValueError:\n",
    "                Model  = farg"
   ]
  },
  {
   "cell_type": "code",
   "execution_count": 4,
   "metadata": {
    "collapsed": false
   },
   "outputs": [],
   "source": [
    "###########\n",
    "#Standard output directory setup\n",
    "###########\n",
    "\n",
    "outputPath = \"results\" + \"/\" +  str(Model) + \"/\" + str(ModNum) + \"/\" \n",
    "imagePath = outputPath + 'images/'\n",
    "filePath = outputPath + 'files/'\n",
    "checkpointPath = outputPath + 'checkpoint/'\n",
    "dbPath = outputPath + 'gldbs/'\n",
    "outputFile = 'results_model' + Model + '_' + str(ModNum) + '.dat'\n",
    "\n",
    "if uw.rank()==0:\n",
    "    # make directories if they don't exist\n",
    "    if not os.path.isdir(outputPath):\n",
    "        os.makedirs(outputPath)\n",
    "    if not os.path.isdir(checkpointPath):\n",
    "        os.makedirs(checkpointPath)\n",
    "    if not os.path.isdir(imagePath):\n",
    "        os.makedirs(imagePath)\n",
    "    if not os.path.isdir(dbPath):\n",
    "        os.makedirs(dbPath)\n",
    "    if not os.path.isdir(filePath):\n",
    "        os.makedirs(filePath)\n",
    "\n",
    "        \n",
    "comm.Barrier() #Barrier here so no procs run the check in the next cell too early"
   ]
  },
  {
   "cell_type": "code",
   "execution_count": 5,
   "metadata": {
    "collapsed": false
   },
   "outputs": [
    {
     "name": "stdout",
     "output_type": "stream",
     "text": [
      "results/T/0/checkpoint/ is empty\n"
     ]
    }
   ],
   "source": [
    "###########\n",
    "#Check if starting from checkpoint\n",
    "###########\n",
    "\n",
    "checkdirs = []\n",
    "for dirpath, dirnames, files in os.walk(checkpointPath):\n",
    "    if files:\n",
    "        print dirpath, 'has files'\n",
    "        checkpointLoad = True\n",
    "        checkdirs.append(dirpath)\n",
    "    if not files:\n",
    "        print dirpath, 'is empty'\n",
    "        checkpointLoad = False"
   ]
  },
  {
   "cell_type": "code",
   "execution_count": 6,
   "metadata": {
    "collapsed": true
   },
   "outputs": [],
   "source": [
    "# setup summary output file (name above)\n",
    "if checkpointLoad:\n",
    "    checkpointLoadDir = natsort.natsort(checkdirs)[-1]\n",
    "    if uw.rank() == 0:\n",
    "        shutil.copyfile(os.path.join(checkpointLoadDir, outputFile), outputPath+outputFile)\n",
    "    comm.Barrier()\n",
    "    f_o = open(os.path.join(outputPath, outputFile), 'a')\n",
    "    prevdata = np.genfromtxt(os.path.join(outputPath, outputFile), skip_header=0, skip_footer=0)\n",
    "    if len(prevdata.shape) == 1: #this is in case there is only one line in previous file\n",
    "        realtime = prevdata[-1]  #This corresponds to the column you write time data to\n",
    "    else:\n",
    "        realtime = prevdata[prevdata.shape[0]-1, -1]\n",
    "    step = int(checkpointLoadDir.split('/')[-1])\n",
    "    timevals = [0.]\n",
    "else:\n",
    "    f_o = open(outputPath+outputFile, 'w')\n",
    "    realtime = 0.\n",
    "    step = 0\n",
    "    timevals = [0.]"
   ]
  },
  {
   "cell_type": "markdown",
   "metadata": {},
   "source": [
    "Setup parameters\n",
    "-----\n",
    "\n",
    "Set simulation parameters for test."
   ]
  },
  {
   "cell_type": "markdown",
   "metadata": {},
   "source": [
    "**Use pint to setup any unit conversions we'll need**"
   ]
  },
  {
   "cell_type": "code",
   "execution_count": 7,
   "metadata": {
    "collapsed": false
   },
   "outputs": [
    {
     "data": {
      "text/html": [
       "10000.0 meter/megayear"
      ],
      "text/latex": [
       "$10000.0 \\frac{meter}{megayear}$"
      ],
      "text/plain": [
       "<Quantity(10000.0, 'meter / megayear')>"
      ]
     },
     "execution_count": 7,
     "metadata": {},
     "output_type": "execute_result"
    }
   ],
   "source": [
    "u = pint.UnitRegistry()\n",
    "cmpery = 1.*u.cm/u.year\n",
    "mpermy = 1.*u.m/u.megayear\n",
    "year = 1.*u.year\n",
    "spery = year.to(u.sec)\n",
    "cmpery.to(mpermy)"
   ]
  },
  {
   "cell_type": "code",
   "execution_count": 8,
   "metadata": {
    "collapsed": false
   },
   "outputs": [
    {
     "name": "stdout",
     "output_type": "stream",
     "text": [
      "(0.04, 1.2675505856327397e-11)\n"
     ]
    }
   ],
   "source": [
    "box_half_width =4000e3\n",
    "age_at_trench = 100e6\n",
    "cmperyear = box_half_width / age_at_trench #m/y\n",
    "mpersec = cmperyear*(cmpery.to(u.m/u.second)).magnitude #m/sec\n",
    "print(cmperyear, mpersec )"
   ]
  },
  {
   "cell_type": "markdown",
   "metadata": {},
   "source": [
    "**Set parameter dictionaries**\n",
    "\n",
    "* Parameters are stored in dictionaries. \n",
    "* If starting from checkpoint, parameters are loaded using pickle\n",
    "* If params are passed in as flags to the script, they overwrite \n"
   ]
  },
  {
   "cell_type": "code",
   "execution_count": 9,
   "metadata": {
    "collapsed": false
   },
   "outputs": [],
   "source": [
    "###########\n",
    "#Parameter / settings dictionaries get saved&loaded using pickle\n",
    "###########\n",
    " \n",
    "dp = edict({}) #dimensional parameters\n",
    "sf = edict({}) #scaling factors\n",
    "ndp = edict({}) #dimensionless paramters\n",
    "md = edict({}) #model paramters, flags etc\n",
    "#od = edict({}) #output frequencies\n",
    "\n"
   ]
  },
  {
   "cell_type": "code",
   "execution_count": 10,
   "metadata": {
    "collapsed": false
   },
   "outputs": [],
   "source": [
    "dict_list = [dp, sf, ndp, md]\n",
    "dict_names = ['dp.pkl', 'sf.pkl', 'ndp.pkl', 'md.pkl']\n",
    "\n",
    "def save_pickles(dict_list, dict_names, dictPath):\n",
    "    import pickle\n",
    "    counter = 0\n",
    "    for pdict in dict_list:\n",
    "        myfile = os.path.join(dictPath, dict_names[counter])\n",
    "        with open(myfile, 'wb') as f:\n",
    "            pickle.dump(pdict, f)\n",
    "        counter+=1\n",
    "\n",
    "\n",
    "#ended up having to pretty much write a hard-coded function\n",
    "#All dictionaries we want checkpointed will have to  be added here \n",
    "#and where the function is called\n",
    "#Fortunately, this function is only called ONCE\n",
    "\n",
    "def load_pickles():\n",
    "    import pickle\n",
    "    dirpath = os.path.join(checkpointPath, str(step))\n",
    "    dpfile = open(os.path.join(dirpath, 'dp.pkl'), 'r')\n",
    "    dp = pickle.load(dpfile)\n",
    "#    #\n",
    "    ndpfile = open(os.path.join(dirpath, 'ndp.pkl'), 'r')\n",
    "    ndp = edict(pickle.load(ndpfile))\n",
    "    #\n",
    "    sffile = open(os.path.join(dirpath, 'sf.pkl'), 'r')\n",
    "    sf = edict(pickle.load(sffile))\n",
    "    #\n",
    "    mdfile = open(os.path.join(dirpath, 'md.pkl'), 'r')\n",
    "    md = edict(pickle.load(mdfile))\n",
    "    return dp, ndp, sf, md"
   ]
  },
  {
   "cell_type": "code",
   "execution_count": 11,
   "metadata": {
    "collapsed": false
   },
   "outputs": [],
   "source": [
    "###########\n",
    "#Store the physical parameters, scale factors and dimensionless pramters in easyDicts\n",
    "#Mainly helps with avoiding overwriting variables\n",
    "###########\n",
    "\n",
    "\n",
    "dp = edict({'LS':2900*1e3, #Scaling Length scale\n",
    "            'depth':660*1e3, #Depth of domain\n",
    "            'rho':3300.,  #reference density\n",
    "            'g':9.8, #surface gravity\n",
    "            'eta0':2.5e20, #reference viscosity\n",
    "            'k':1e-6, #thermal diffusivity\n",
    "            'a':3e-5, #surface thermal expansivity\n",
    "            'R':8.314, #gas constant\n",
    "            'TP':1673., #mantle potential temp (K)\n",
    "            'TS':273., #surface temp (K)\n",
    "            #Rheology - flow law paramters\n",
    "            'Adf':3e-11, #pre-exp factor for diffusion creep\n",
    "            #'Edf':1e5, #Total viscosity variation in the Kaplan model\n",
    "            'Edf':3e5,\n",
    "            'cm':40e6, #mantle cohesion in Byerlee law\n",
    "            'cc':40e6, #mantle cohesion in Byerlee law\n",
    "            'fcm':0.06,   #mantle friction coefficient in Byerlee law (tan(phi))\n",
    "            'fcc':0.06,   #crust friction coefficient \n",
    "            #Rheology - cutoff values\n",
    "            'eta_min':1e17, \n",
    "            'eta_max':1e25, #viscosity max in the mantle material\n",
    "            'eta_min_crust':2.5e19, #viscosity min in the weak-crust material\n",
    "            'eta_max_crust':2.5e19, #viscosity max in the weak-crust material\n",
    "            #Length scales\n",
    "            'MANTLETOCRUST':8.*1e3, #Crust depth\n",
    "            'HARZBURGDEPTH':40e3,\n",
    "            'CRUSTTOMANTLE':800.*1e3,\n",
    "            'LITHTOMANTLE':(900.*1e3),\n",
    "            'MANTLETOLITH':200.*1e3, \n",
    "            'TOPOHEIGHT':10.*1e3,  #rock-air topography limits\n",
    "            'CRUSTTOECL':100.*1e3,\n",
    "            'LOWMANTLEDEPTH':660.*1e3, \n",
    "            'CRUSTVISCUTOFF':150.*1e3, #Deeper than this, crust material rheology reverts to mantle rheology\n",
    "            'AGETRACKDEPTH':100e3, #above this depth we track the age of the lithsphere (below age is assumed zero)\n",
    "            #Slab and plate parameters\n",
    "            'roc':250e3,     #radius of curvature of slab\n",
    "            'subzone':0.0,   #X position of subduction zone..\n",
    "            'lRidge':-0.5*(660e3*6),  #For depth = 670 km, aspect ratio of 6, this puts the ridges at MINX, MAXX\n",
    "            'rRidge':0.5*(660e3*6),\n",
    "            'maxDepth':250e3,\n",
    "            'theta':70., #Angle to truncate the slab (can also control with a maxDepth param)\n",
    "            'slabmaxAge':60e6, #age of subduction plate at trench\n",
    "            'platemaxAge':60e6, #max age of slab (Plate model)\n",
    "            'sense':'Right', #dip direction\n",
    "            'op_age_fac':0.5, #this controls the overidding plate age reduction\n",
    "            #Misc\n",
    "            'StALS':100e3, #depth of sticky air layer\n",
    "            'Steta_n':1e19, #stick air viscosity, normal\n",
    "            'Steta_s':1e18, #stick air viscosity, shear \n",
    "            'plate_vel':4,\n",
    "            'low_mantle_visc_fac':30.\n",
    "           })\n",
    "\n",
    "#append any derived parameters to the dictionary\n",
    "dp.deltaT = dp.TP - dp.TS\n",
    "\n",
    "\n",
    "\n"
   ]
  },
  {
   "cell_type": "code",
   "execution_count": 12,
   "metadata": {
    "collapsed": false
   },
   "outputs": [],
   "source": [
    "#Modelling and Physics switches\n",
    "\n",
    "md = edict({'refineMesh':True,\n",
    "            'stickyAir':False,\n",
    "            'subductionFault':False,\n",
    "            'symmetricIcs':False,\n",
    "            'velBcs':False,\n",
    "            'aspectRatio':6,\n",
    "            'compBuoyancy':False, #use compositional & phase buoyancy, or simply thermal\n",
    "            'periodicBcs':False,\n",
    "            'RES':48,\n",
    "            'PIC_integration':True,\n",
    "            'ppc':25,\n",
    "            'elementType':\"Q1/dQ0\"\n",
    "            })\n",
    "\n",
    "#\"Q2/DPC1\""
   ]
  },
  {
   "cell_type": "code",
   "execution_count": null,
   "metadata": {
    "collapsed": false
   },
   "outputs": [],
   "source": []
  },
  {
   "cell_type": "code",
   "execution_count": 13,
   "metadata": {
    "collapsed": false
   },
   "outputs": [],
   "source": [
    "###########\n",
    "#If starting from a checkpoint load params from file\n",
    "###########\n",
    "\n",
    "if checkpointLoad:\n",
    "    dp, ndp, sf, md = load_pickles()  #remember to add any extra dictionaries\n"
   ]
  },
  {
   "cell_type": "code",
   "execution_count": 14,
   "metadata": {
    "collapsed": false
   },
   "outputs": [],
   "source": [
    "###########\n",
    "#If command line args are given, overwrite\n",
    "#Note that this assumes that params as commans line args/\n",
    "#only append to the 'dimensional' and 'model' dictionary (not the non-dimensional)\n",
    "###########    \n",
    "\n",
    "\n",
    "###########\n",
    "#If extra arguments are provided to the script\" eg:\n",
    "### >>> uw.py 2 dp.arg1=1 dp.arg2=foo dp.arg3=3.0\n",
    "###\n",
    "###This would assign ModNum = 2, all other values go into the dp dictionary, under key names provided\n",
    "###\n",
    "###Two operators are searched for, = & *=\n",
    "###\n",
    "###If =, parameter is re-assigned to givn value\n",
    "###If *=, parameter is multipled by given value\n",
    "###\n",
    "### >>> uw.py 2 dp.arg1=1 dp.arg2=foo dp.arg3*=3.0\n",
    "###########\n",
    "\n",
    "for farg in sys.argv[1:]:\n",
    "    try:\n",
    "        (dicitem,val) = farg.split(\"=\") #Split on equals operator\n",
    "        (dic,arg) = dicitem.split(\".\") #colon notation\n",
    "        if '*=' in farg:\n",
    "            (dicitem,val) = farg.split(\"*=\") #If in-place multiplication, split on '*='\n",
    "            (dic,arg) = dicitem.split(\".\")\n",
    "            \n",
    "        if val == 'True': \n",
    "            val = True\n",
    "        elif val == 'False':     #First check if args are boolean\n",
    "            val = False\n",
    "        else:\n",
    "            try:\n",
    "                val = float(val) #next try to convert  to a float,\n",
    "            except ValueError:\n",
    "                pass             #otherwise leave as string\n",
    "        #Update the dictionary\n",
    "        if farg.startswith('dp'):\n",
    "            if '*=' in farg:\n",
    "                dp[arg] = dp[arg]*val #multiply parameter by given factor\n",
    "            else:\n",
    "                dp[arg] = val    #or reassign parameter by given value\n",
    "        if farg.startswith('md'):\n",
    "            if '*=' in farg:\n",
    "                md[arg] = md[arg]*val #multiply parameter by given factor\n",
    "            else:\n",
    "                md[arg] = val    #or reassign parameter by given value\n",
    "                \n",
    "    except:\n",
    "        pass\n",
    "            \n",
    "\n",
    "comm.barrier()"
   ]
  },
  {
   "cell_type": "code",
   "execution_count": 15,
   "metadata": {
    "collapsed": true
   },
   "outputs": [],
   "source": [
    "#this block mostly helps with consistency in resolutions test, \n",
    "#allowing to test consistent particle density / node spacing \n",
    "#in models with different res. / element types\n",
    "\n",
    "if md.elementType != \"Q1/dQ0\":\n",
    "    md.RES = int(md.RES/2)     #halve the resolution if using Q2 element\n",
    "    \n",
    "\n",
    "\n",
    "comm.barrier()    \n",
    "#md.ppc = int(md.ppc / (md.RES/128.))          #this keeps the total particles uniform, normalised by 50 ppc @ 128"
   ]
  },
  {
   "cell_type": "code",
   "execution_count": 16,
   "metadata": {
    "collapsed": true
   },
   "outputs": [],
   "source": [
    "#print('refine Mesh is: ', md.refineMesh)"
   ]
  },
  {
   "cell_type": "code",
   "execution_count": 17,
   "metadata": {
    "collapsed": false
   },
   "outputs": [],
   "source": [
    "#Only build these guys first time around, otherwise the read from checkpoints\n",
    "#Important because some of these params (like SZ location) may change during model evolution\n",
    "\n",
    "\n",
    "if not checkpointLoad:\n",
    "\n",
    "    \n",
    "    \n",
    "    sf = edict({'stress':dp.LS**2/(dp.k*dp.eta0),\n",
    "                'lith_grad':dp.rho*dp.g*(dp.LS)**3/(dp.eta0*dp.k) , \n",
    "                'vel':dp.LS/dp.k,\n",
    "                'SR':dp.LS**2/dp.k, \n",
    "                'E': 1./(dp.R*dp.deltaT)\n",
    "               })\n",
    "\n",
    "    #dimensionless parameters\n",
    "\n",
    "    ndp = edict({'RA':(dp.g*dp.rho*dp.a*(dp.TP - dp.TS)*(dp.LS)**3)/(dp.k*dp.eta0),\n",
    "                 #'Edf':math.log(dp.Edf),\n",
    "                 'Edf':dp.Edf*sf.E,\n",
    "                 'TSP':0., \n",
    "                 'TBP':1.,\n",
    "                 'TPP':(dp.TP - dp.TS)/dp.deltaT, #dimensionless potential temp\n",
    "                 'TS':dp.TS/dp.deltaT,\n",
    "                 'TP':dp.TP/dp.deltaT,\n",
    "                 'cm':dp.cm*sf.stress,\n",
    "                 'cc':dp.cc*sf.stress,    #{dimensionless cohesion in mantle, crust, interface}\n",
    "                 'fcmd':dp.fcm*sf.lith_grad, \n",
    "                 'fccd':dp.fcc*sf.lith_grad, #{dimensionless friction coefficient in mantle, crust, interface}\n",
    "                 #Rheology - cutoff values\n",
    "                 'eta_min':dp.eta_min/dp.eta0, \n",
    "                 'eta_max':dp.eta_max/dp.eta0, #viscosity max in the mantle material\n",
    "                 'eta_min_crust':dp.eta_min_crust/dp.eta0, #viscosity min in the weak-crust material\n",
    "                 'eta_max_crust':dp.eta_max_crust/dp.eta0, #viscosity max in the weak-crust material \n",
    "                 #Length scales\n",
    "                 'MANTLETOCRUST':dp.MANTLETOCRUST/dp.LS, #Crust depth\n",
    "                 'HARZBURGDEPTH':dp.HARZBURGDEPTH/dp.LS,\n",
    "                 'CRUSTTOMANTLE':dp.CRUSTTOMANTLE/dp.LS,\n",
    "                 'LITHTOMANTLE':dp.LITHTOMANTLE/dp.LS,\n",
    "                 'MANTLETOLITH':dp.MANTLETOLITH/dp.LS,\n",
    "                 'TOPOHEIGHT':dp.TOPOHEIGHT/dp.LS,  #rock-air topography limits\n",
    "                 'CRUSTTOECL':dp.CRUSTTOECL/dp.LS,\n",
    "                 'LOWMANTLEDEPTH':dp.LOWMANTLEDEPTH/dp.LS, \n",
    "                 'CRUSTVISCUTOFF':dp.CRUSTVISCUTOFF/dp.LS, #Deeper than this, crust material rheology reverts to mantle rheology\n",
    "                 'AGETRACKDEPTH':dp.AGETRACKDEPTH/dp.LS,\n",
    "                 #Slab and plate parameters\n",
    "                 'roc':dp.roc/dp.LS,     #radius of curvature of slab\n",
    "                 'subzone':dp.subzone/dp.LS,   #X position of subduction zone..\n",
    "                 'lRidge':np.round(dp.lRidge/dp.LS, 3),  #For depth = 670 km, aspect ratio of 4, this puts the ridges at MINX, MAXX\n",
    "                 'rRidge':np.round(dp.rRidge/dp.LS, 3),\n",
    "                 'maxDepth':dp.maxDepth/dp.LS,    \n",
    "                 #misc\n",
    "                 'Steta_n':dp.Steta_n/dp.eta0, #stick air viscosity, normal\n",
    "                 'Steta_s':dp.Steta_n/dp.eta0, #stick air viscosity, shear \n",
    "                 'StALS':dp.StALS/dp.LS,\n",
    "                 'plate_vel':sf.vel*dp.plate_vel*(cmpery.to(u.m/u.second)).magnitude,\n",
    "                 'low_mantle_visc_fac':dp.low_mantle_visc_fac\n",
    "                })\n",
    "\n",
    "\n",
    "\n",
    "    #Append any more derived paramters\n",
    "    ndp.StRA = (3300.*dp.g*(dp.LS)**3)/(dp.eta0 *dp.k) #Composisitional Rayleigh number for rock-air buoyancy force\n",
    "    dp.CVR = (0.1*(dp.k/dp.LS)*ndp.RA**(2/3.))\n",
    "    ndp.CVR = dp.CVR*sf.vel #characteristic velocity"
   ]
  },
  {
   "cell_type": "code",
   "execution_count": 18,
   "metadata": {
    "collapsed": false
   },
   "outputs": [],
   "source": [
    "#0.05*dp.LS"
   ]
  },
  {
   "cell_type": "code",
   "execution_count": 19,
   "metadata": {
    "collapsed": false
   },
   "outputs": [
    {
     "data": {
      "text/plain": [
       "(25.77408158355957, 132508363.68000002)"
      ]
     },
     "execution_count": 19,
     "metadata": {},
     "output_type": "execute_result"
    }
   ],
   "source": [
    "ndp.Edf, ndp.RA\n"
   ]
  },
  {
   "cell_type": "markdown",
   "metadata": {},
   "source": [
    "**Model setup parameters**"
   ]
  },
  {
   "cell_type": "code",
   "execution_count": null,
   "metadata": {
    "collapsed": true
   },
   "outputs": [],
   "source": []
  },
  {
   "cell_type": "code",
   "execution_count": 20,
   "metadata": {
    "collapsed": false
   },
   "outputs": [],
   "source": [
    "###########\n",
    "#Model setup parameters\n",
    "###########\n",
    "\n",
    "dim = 2          # number of spatial dimensions\n",
    "\n",
    "\n",
    "#Domain and Mesh paramters\n",
    "Xres = int(md.RES*8)   #more than twice the resolution in X-dim, which will be 'corrected' by the refinement we'll use in Y\n",
    "\n",
    "\n",
    "MINY = 1. - (dp.depth/dp.LS)\n",
    "if md.stickyAir:\n",
    "    Yres = int(md.RES)\n",
    "    MAXY = 1. + dp.StALS/dp.LS #150km\n",
    "    \n",
    "else:\n",
    "    Yres = int(md.RES)\n",
    "    MAXY = 1.\n",
    "\n",
    "\n",
    "periodic = [False, False]\n",
    "if md.periodicBcs:\n",
    "    periodic = [True, False]\n",
    "    \n",
    "    \n",
    "hw = np.round(0.5*(dp.depth/dp.LS)*md.aspectRatio, 3)\n",
    "MINX = -1.*hw\n",
    "\n",
    "MAXX = hw\n",
    "MAXY = 1.\n",
    "    \n",
    "    \n",
    "\n",
    "Xres = int(md.RES*md.aspectRatio) #careful\n",
    "#if MINY == 0.5:\n",
    "#    Xres = int(2.*RES*md.aspectRatio)\n",
    "    \n",
    "\n",
    "if md.stickyAir:\n",
    "    Yres = int(md.RES)\n",
    "    MAXY = np.round(MAXY + dp.StALS/dp.LS, 3)\n",
    "    \n",
    "else:\n",
    "    Yres = int(md.RES)\n",
    "    MAXY = np.round(MAXY, 3)\n",
    "\n",
    "periodic = [False, False]\n",
    "if md.periodicBcs:\n",
    "    periodic = [True, False]\n",
    "    \n"
   ]
  },
  {
   "cell_type": "markdown",
   "metadata": {},
   "source": [
    "### Metric output"
   ]
  },
  {
   "cell_type": "code",
   "execution_count": 21,
   "metadata": {
    "collapsed": true
   },
   "outputs": [],
   "source": [
    "#Metric output stuff\n",
    "figures =  'store' #glucifer Store won't work on all machines, if not, set to 'gldb' \n",
    "swarm_repop, swarm_update = 5, 10\n",
    "gldbs_output = 25\n",
    "checkpoint_every, files_output = 100, 50\n",
    "metric_output = 20\n",
    "sticky_air_temp = 1e6"
   ]
  },
  {
   "cell_type": "code",
   "execution_count": 22,
   "metadata": {
    "collapsed": false
   },
   "outputs": [],
   "source": [
    "#dp.lRidge/dp.LS, np.round(0.5*(dp.depth/dp.LS)*md.aspectRatio, 1)\n",
    "#np.round(0.5*(dp.depth/dp.LS)*md.aspectRatio, 1), ndp.lRidge\n",
    "#np.round(dp.lRidge/dp.LS, 5)\n",
    "#md.aspectRatio\n",
    "#-0.5*(660e3*6)/dp.LS, np.round(0.5*(dp.depth/dp.LS)*md.aspectRatio, 3)\n",
    "#mesh.maxCoord[0], ndp.rRidge"
   ]
  },
  {
   "cell_type": "markdown",
   "metadata": {},
   "source": [
    "Create mesh and finite element variables\n",
    "------"
   ]
  },
  {
   "cell_type": "code",
   "execution_count": 23,
   "metadata": {
    "collapsed": false
   },
   "outputs": [],
   "source": [
    "mesh = uw.mesh.FeMesh_Cartesian( elementType = (md.elementType),\n",
    "                                 elementRes  = (Xres, Yres), \n",
    "                                 minCoord    = (MINX, MINY), \n",
    "                                 maxCoord    = (MAXX, MAXY), periodic=periodic)\n",
    "\n",
    "velocityField       = uw.mesh.MeshVariable( mesh=mesh,         nodeDofCount=2 )\n",
    "pressureField       = uw.mesh.MeshVariable( mesh=mesh.subMesh, nodeDofCount=1 )\n",
    "temperatureField    = uw.mesh.MeshVariable( mesh=mesh,         nodeDofCount=1 )\n",
    "temperatureDotField = uw.mesh.MeshVariable( mesh=mesh,         nodeDofCount=1 )\n",
    "\n",
    "\n",
    "velocityField.data[:]       = [0.,0.]\n",
    "pressureField.data[:]       = 0.\n",
    "temperatureDotField.data[:] = 0."
   ]
  },
  {
   "cell_type": "code",
   "execution_count": 24,
   "metadata": {
    "collapsed": true
   },
   "outputs": [],
   "source": [
    "coordinate = fn.input()\n",
    "depthFn = MAXY - coordinate[1] #a function providing the depth\n",
    "\n",
    "\n",
    "xFn = coordinate[0]  #a function providing the x-coordinate\n",
    "yFn = coordinate[1]\n"
   ]
  },
  {
   "cell_type": "code",
   "execution_count": 25,
   "metadata": {
    "collapsed": false
   },
   "outputs": [],
   "source": [
    "mesh.reset()\n",
    "\n",
    "jWalls = mesh.specialSets[\"MinJ_VertexSet\"] + mesh.specialSets[\"MaxJ_VertexSet\"]\n",
    "yFn = coordinate[1]\n",
    "yField = uw.mesh.MeshVariable( mesh=mesh, nodeDofCount=1 )\n",
    "yField.data[:] = 0.\n",
    "yBC = uw.conditions.DirichletCondition( variable=yField, indexSetsPerDof=(jWalls,) )\n",
    "\n",
    "# set bottom wall temperature bc\n",
    "for index in mesh.specialSets[\"MinJ_VertexSet\"]:\n",
    "    yField.data[index] = mesh.minCoord[1]\n",
    "# set top wall temperature bc\n",
    "for index in mesh.specialSets[\"MaxJ_VertexSet\"]:\n",
    "    yField.data[index] = mesh.maxCoord[1]\n",
    "    \n",
    "    \n",
    "    \n",
    "s = 2.5\n",
    "intensityFac = 1.5\n",
    "intensityFn = (((yFn - MINY)/(MAXY-MINY))**s)\n",
    "intensityFn *= intensityFac\n",
    "intensityFn += 1.\n",
    "\n",
    "\n",
    "yLaplaceEquation = uw.systems.SteadyStateHeat(temperatureField=yField, fn_diffusivity=intensityFn, conditions=[yBC,])\n",
    "\n",
    "# get the default heat equation solver\n",
    "yLaplaceSolver = uw.systems.Solver(yLaplaceEquation)\n",
    "# solve\n",
    "yLaplaceSolver.solve()\n",
    "\n",
    "\n",
    "#Get the array of Y positions - copy may be necessary, not sure. \n",
    "newYpos = yField.data.copy() \n",
    "\n",
    "uw.barrier()\n",
    "with mesh.deform_mesh():\n",
    "     mesh.data[:,1] = newYpos[:,0]"
   ]
  },
  {
   "cell_type": "code",
   "execution_count": 26,
   "metadata": {
    "collapsed": false
   },
   "outputs": [],
   "source": [
    "#THis is a hack for adding a sticky air domain, we refine MAXY and things like the temperature stencil work from Y = 1. \n",
    "\n",
    "if md.stickyAir:\n",
    "    MAXY = 1."
   ]
  },
  {
   "cell_type": "code",
   "execution_count": null,
   "metadata": {
    "collapsed": false
   },
   "outputs": [],
   "source": []
  },
  {
   "cell_type": "markdown",
   "metadata": {},
   "source": [
    "Initial conditions\n",
    "-------\n"
   ]
  },
  {
   "cell_type": "code",
   "execution_count": null,
   "metadata": {
    "collapsed": false
   },
   "outputs": [],
   "source": []
  },
  {
   "cell_type": "code",
   "execution_count": 27,
   "metadata": {
    "collapsed": false
   },
   "outputs": [],
   "source": [
    "\n",
    "def age_fn(xFn, sz = 0.0, lMOR=MINX, rMOR=MAXX, opFac=1., conjugate_plate = False):\n",
    "    \"\"\"\n",
    "    Simple function to generate a discrete 1-d (i.e x-coordinate) function for the age of the thermal BC. \n",
    "    All paramters are dimensionless\n",
    "    sz: location of subduction zone\n",
    "    lMOR: location of left-hand MOR\n",
    "    rMOR: location of right-hand MOR\n",
    "    opFac: uniform reduce the age of the right hand plate by this factor\n",
    "    conjugate_plate: if True, build plates on the outer sides of the MORs, if False, age = 0. \n",
    "    \"\"\"\n",
    "    \n",
    "    if lMOR < MINX:\n",
    "        lMOR = MINX\n",
    "    if rMOR > MAXX:\n",
    "        rMOR = MAXX\n",
    "\n",
    "    if conjugate_plate:\n",
    "        ageFn = fn.branching.conditional([(operator.and_(xFn > lMOR, xFn < sz) , (xFn + abs(lMOR))/(abs(sz-lMOR))), \n",
    "                                      (operator.and_(xFn <= rMOR, xFn >= sz), (1.-(xFn + abs(sz))/abs(rMOR-sz))*opFac),\n",
    "                                      (xFn > rMOR, opFac*(xFn -abs(rMOR)) / abs(rMOR-sz) ),\n",
    "                                      (True, fn.math.abs((((xFn + abs(lMOR)) / (abs(sz-lMOR))))))\n",
    "                                         ])\n",
    "    else:    \n",
    "        \n",
    "        ageFn = fn.branching.conditional([(operator.and_(xFn > lMOR, xFn < sz) , (xFn + abs(lMOR))/(abs(sz-lMOR))), \n",
    "                                      (operator.and_(xFn < rMOR, xFn >= sz), (1.-(xFn + abs(sz))/abs(rMOR-sz))*opFac),\n",
    "\n",
    "                                      (True, 0.0)])\n",
    "    return ageFn"
   ]
  },
  {
   "cell_type": "code",
   "execution_count": 28,
   "metadata": {
    "collapsed": false
   },
   "outputs": [],
   "source": [
    "###########\n",
    "#Thermal initial condition - half-space cooling\n",
    "###########\n",
    "\n",
    "#  a few conversions\n",
    "ageAtTrenchSeconds = min(dp.platemaxAge*(3600*24*365), dp.slabmaxAge*(3600*24*365))\n",
    "\n",
    "#slab perturbation params (mostly dimensionless / model params here)\n",
    "phi = 90. - dp.theta\n",
    "Org = (ndp.subzone, MAXY-ndp.roc)\n",
    "\n",
    "#First build the top TBL\n",
    "ageFn = age_fn(xFn, sz =ndp.subzone, lMOR=ndp.lRidge,rMOR=ndp.rRidge, conjugate_plate=True, opFac = dp.op_age_fac)\n",
    "\n",
    "#dimensionlize the age function\n",
    "ageFn = fn.misc.min(fn.misc.constant(dp.platemaxAge*(3600*24*365)), ageFn*fn.misc.constant(dp.slabmaxAge*(3600*24*365))) #seconds to year\n",
    "#ageFn *= testFn  #seconds to year\n",
    "w0 = (2.3*math.sqrt(dp.k*ageAtTrenchSeconds))/dp.LS #diffusion depth of plate at the trench\n",
    "\n",
    "tempBL = (ndp.TPP - ndp.TSP)*fn.math.erf((depthFn*dp.LS)/(2.*fn.math.sqrt(dp.k*ageFn))) + ndp.TSP #boundary layer function\n",
    "tempTBL =  fn.branching.conditional([(depthFn < w0, tempBL),\n",
    "                          (True, ndp.TPP)])\n",
    "\n",
    "if not md.symmetricIcs:\n",
    "    if not checkpointLoad:\n",
    "        out = uw.utils.MeshVariable_Projection( temperatureField, tempTBL) #apply function with projection\n",
    "        out.solve()\n",
    "\n"
   ]
  },
  {
   "cell_type": "code",
   "execution_count": 29,
   "metadata": {
    "collapsed": false
   },
   "outputs": [],
   "source": [
    "#testFn = min(fn.misc.constant(dp.platemaxAge*(3600*24*365)), dp.slabmaxAge*(3600*24*365)) #seconds to year\n"
   ]
  },
  {
   "cell_type": "code",
   "execution_count": 30,
   "metadata": {
    "collapsed": false
   },
   "outputs": [],
   "source": [
    "#Now build the perturbation part\n",
    "def inCircleFnGenerator(centre, radius):\n",
    "    coord = fn.input()\n",
    "    offsetFn = coord - centre\n",
    "    return fn.math.dot( offsetFn, offsetFn ) < radius**2\n",
    "\n",
    "\n",
    "\n",
    "#We use circles to define our slab and crust perturbation,  \n",
    "Oc = inCircleFnGenerator(Org , ndp.roc)\n",
    "Ic = inCircleFnGenerator(Org , ndp.roc - w0)\n",
    "Cc = inCircleFnGenerator(Org , ndp.roc - (1.2*ndp.MANTLETOCRUST)) #... weak zone on 'outside' of slab\n",
    "Hc = inCircleFnGenerator(Org , ndp.roc - ndp.HARZBURGDEPTH) #... Harzburgite layer \n",
    "dx = (ndp.roc)/(np.math.tan((np.math.pi/180.)*phi))\n",
    "\n",
    "#We'll also create a triangle which will truncate the circles defining the slab...\n",
    "if dp.sense == 'Left':\n",
    "    ptx = ndp.subzone - dx\n",
    "else:\n",
    "    ptx = ndp.subzone + dx\n",
    "coords = ((0.+ ndp.subzone, MAXY), (0.+ ndp.subzone, MAXY-ndp.roc), (ptx, MAXY))\n",
    "Tri = fn.shape.Polygon(np.array(coords))\n",
    "\n",
    "#Actually apply the perturbation - could probably avoid particle walk here\n",
    "if not md.symmetricIcs:\n",
    "    if not checkpointLoad:\n",
    "        sdFn = ((ndp.roc - fn.math.sqrt((coordinate[0] - Org[0])**2. + (coordinate[1] - Org[1])**2.)))\n",
    "        slabFn = ndp.TPP*fn.math.erf((sdFn*dp.LS)/(2.*math.sqrt(dp.k*ageAtTrenchSeconds))) + ndp.TSP\n",
    "        for index, coord in enumerate(mesh.data):\n",
    "            if (\n",
    "                Oc.evaluate(tuple(coord)) and\n",
    "                Tri.evaluate(tuple(coord)) and not\n",
    "                Ic.evaluate(tuple(coord)) and\n",
    "                coord[1] > (MAXY - ndp.maxDepth)\n",
    "                ): #In the quarter-circle defining the lithosphere\n",
    "                temperatureField.data[index] = slabFn.evaluate(mesh)[index]\n"
   ]
  },
  {
   "cell_type": "code",
   "execution_count": 31,
   "metadata": {
    "collapsed": false
   },
   "outputs": [],
   "source": [
    "#Make sure material in sticky air region is at the surface temperature.\n",
    "for index, coord in enumerate(mesh.data):\n",
    "            if coord[1] >= MAXY:\n",
    "                temperatureField.data[index] = ndp.TSP"
   ]
  },
  {
   "cell_type": "markdown",
   "metadata": {
    "collapsed": false
   },
   "source": [
    "def matplot_field(temperatureField, dp):\n",
    "    if uw.nProcs() != 1:\n",
    "        print(\"only in Serial folks\")\n",
    "    else:\n",
    "        import matplotlib.pyplot as pyplt\n",
    "        try :\n",
    "            if(__IPYTHON__) :\n",
    "                get_ipython().magic(u'matplotlib inline')\n",
    "        except NameError :\n",
    "            pass\n",
    "        field_data = temperatureField.data.reshape(mesh.elementRes[1] + 1, mesh.elementRes[0] + 1)\n",
    "        fig, ax = pyplt.subplots(figsize=(32,2))\n",
    "        ql = dp.LS/1e3\n",
    "        pyplt.ioff()\n",
    "        cax =ax.imshow(np.flipud(field_data), cmap='coolwarm', aspect = 0.5, extent=[0,ql*aspectRatio,ql, 0])\n",
    "        fig.colorbar(cax, orientation='horizontal' )\n",
    "        #ax.set_x([0,dp.LS*aspectRatio])\n",
    "        pyplt.tight_layout()\n",
    "        \n",
    "        return fig, ax\n",
    "        \n",
    "fig, ax = matplot_field(temperatureField, dp)\n",
    "fig.savefig('test.png')       "
   ]
  },
  {
   "cell_type": "code",
   "execution_count": 32,
   "metadata": {
    "collapsed": false
   },
   "outputs": [
    {
     "data": {
      "text/html": [
       "<img src='data:image/png;base64,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'>"
      ],
      "text/plain": [
       "<IPython.core.display.HTML object>"
      ]
     },
     "metadata": {},
     "output_type": "display_data"
    }
   ],
   "source": [
    "fig= glucifer.Figure(quality=3)\n",
    "fig.append( glucifer.objects.Surface(mesh,temperatureField))\n",
    "#fig.append( glucifer.objects.Surface(mesh,pressureField))\n",
    "\n",
    "\n",
    "#fig.append( glucifer.objects.Points(gSwarm,temperatureField ))\n",
    "#fig.append( glucifer.objects.Mesh(mesh))\n",
    "#fig.show()\n",
    "##\n",
    "#fig.save_database('test.gldb')\n",
    "#fig.save_image('test.png')\n"
   ]
  },
  {
   "cell_type": "code",
   "execution_count": 33,
   "metadata": {
    "collapsed": false
   },
   "outputs": [
    {
     "data": {
      "text/plain": [
       "60000000.0"
      ]
     },
     "execution_count": 33,
     "metadata": {},
     "output_type": "execute_result"
    }
   ],
   "source": [
    "#ageFn.evaluate(mesh).max()/(3600*24*365.)"
   ]
  },
  {
   "cell_type": "markdown",
   "metadata": {},
   "source": [
    "Boundary conditions\n",
    "-------"
   ]
  },
  {
   "cell_type": "code",
   "execution_count": 38,
   "metadata": {
    "collapsed": false
   },
   "outputs": [
    {
     "name": "stdout",
     "output_type": "stream",
     "text": [
      "2\n"
     ]
    }
   ],
   "source": [
    "for index in mesh.specialSets[\"MinJ_VertexSet\"]:\n",
    "    temperatureField.data[index] = ndp.TBP\n",
    "for index in mesh.specialSets[\"MaxJ_VertexSet\"]:\n",
    "    temperatureField.data[index] = ndp.TSP\n",
    "    \n",
    "iWalls = mesh.specialSets[\"MinI_VertexSet\"] + mesh.specialSets[\"MaxI_VertexSet\"]\n",
    "jWalls = mesh.specialSets[\"MinJ_VertexSet\"] + mesh.specialSets[\"MaxJ_VertexSet\"]\n",
    "tWalls = mesh.specialSets[\"MaxJ_VertexSet\"]\n",
    "bWalls =mesh.specialSets[\"MinJ_VertexSet\"]\n",
    "\n",
    "VelBCs = mesh.specialSets[\"Empty\"]\n",
    "\n",
    "\n",
    "\n",
    "if md.velBcs:\n",
    "    for index in list(tWalls.data):\n",
    "\n",
    "        if (mesh.data[int(index)][0] < (ndp.subzone - 0.05*md.aspectRatio) and \n",
    "            mesh.data[int(index)][0] > (mesh.minCoord[0] + 0.05*md.aspectRatio)): #Only push with a portion of teh overiding plate\n",
    "            #print \"first\"\n",
    "            VelBCs.add(int(index))\n",
    "            #Set the plate velocities for the kinematic phase\n",
    "            velocityField.data[index] = [ndp.plate_vel, 0.]\n",
    "        \n",
    "        elif (mesh.data[int(index)][0] > (ndp.subzone + 0.05*md.aspectRatio) and \n",
    "            mesh.data[int(index)][0] < (mesh.maxCoord[0] - 0.05*md.aspectRatio)):\n",
    "            #print \"second\"\n",
    "            VelBCs.add(int(index))\n",
    "            #Set the plate velocities for the kinematic phase\n",
    "            velocityField.data[index] = [0., 0.]\n",
    "        \n",
    "\n",
    "#If periodic, we'll fix a the x-vel at a single node - at the bottom left (index 0)\n",
    "Fixed = mesh.specialSets[\"Empty\"]\n",
    "Fixed.add(int(0))        \n",
    "        \n",
    "\n",
    "if periodic[0] == False:\n",
    "    if md.velBcs:\n",
    "        print(1)\n",
    "        freeslipBC = uw.conditions.DirichletCondition( variable      = velocityField, \n",
    "                                               indexSetsPerDof = ( iWalls + VelBCs, jWalls) )\n",
    "    else:\n",
    "        print(2)\n",
    "        freeslipBC = uw.conditions.DirichletCondition( variable      = velocityField, \n",
    "                                               indexSetsPerDof = ( iWalls, jWalls) )\n",
    "\n",
    "\n",
    "\n",
    "\n",
    "if periodic[0] == True:\n",
    "    if md.velBcs:\n",
    "        print(3)\n",
    "        freeslipBC = uw.conditions.DirichletCondition( variable      = velocityField, \n",
    "                                               indexSetsPerDof = ( Fixed + VelBCs , jWalls) )\n",
    "    else:\n",
    "        print(4)\n",
    "        freeslipBC = uw.conditions.DirichletCondition( variable      = velocityField, \n",
    "                                               indexSetsPerDof = ( Fixed, jWalls) )\n",
    "        \n",
    "    \n",
    "    \n",
    "    \n",
    "# also set dirichlet for temp field\n",
    "dirichTempBC = uw.conditions.DirichletCondition(     variable=temperatureField, \n",
    "                                              indexSetsPerDof=(tWalls,) )\n",
    "dT_dy = [0.,0.]\n",
    "\n",
    "# also set dirichlet for temp field\n",
    "neumannTempBC = uw.conditions.NeumannCondition( dT_dy, variable=temperatureField, \n",
    "                                         nodeIndexSet=bWalls)\n",
    "\n"
   ]
  },
  {
   "cell_type": "code",
   "execution_count": null,
   "metadata": {
    "collapsed": false
   },
   "outputs": [],
   "source": []
  },
  {
   "cell_type": "code",
   "execution_count": 39,
   "metadata": {
    "collapsed": false
   },
   "outputs": [],
   "source": [
    "#check VelBCs are where we want them\n",
    "#test = np.zeros(len(tWalls.data))\n",
    "#VelBCs\n",
    "#tWalls.data\n",
    "#tWalls.data[VelBCs.data]\n",
    "#test[np.in1d(tWalls.data, VelBCs.data)] = 1.\n",
    "#test\n",
    "\n"
   ]
  },
  {
   "cell_type": "code",
   "execution_count": null,
   "metadata": {
    "collapsed": false
   },
   "outputs": [],
   "source": []
  },
  {
   "cell_type": "markdown",
   "metadata": {},
   "source": [
    "Swarm setup\n",
    "-----\n"
   ]
  },
  {
   "cell_type": "code",
   "execution_count": 40,
   "metadata": {
    "collapsed": false
   },
   "outputs": [],
   "source": [
    "###########\n",
    "#Material Swarm and variables\n",
    "###########\n",
    "\n",
    "#create material swarm\n",
    "gSwarm = uw.swarm.Swarm(mesh=mesh, particleEscape=True)\n",
    "\n",
    "#create swarm variables\n",
    "yieldingCheck = gSwarm.add_variable( dataType=\"int\", count=1 )\n",
    "materialVariable = gSwarm.add_variable( dataType=\"int\", count=1 )\n",
    "ageVariable = gSwarm.add_variable( dataType=\"double\", count=1 )\n",
    "\n",
    "\n",
    "#these lists  are part of the checkpointing implementation\n",
    "varlist = [materialVariable, yieldingCheck, ageVariable]\n",
    "varnames = ['materialVariable', 'yieldingCheck', 'ageVariable']"
   ]
  },
  {
   "cell_type": "code",
   "execution_count": 41,
   "metadata": {
    "collapsed": false
   },
   "outputs": [],
   "source": [
    "mantleIndex = 0\n",
    "crustIndex = 1\n",
    "harzIndex = 2\n",
    "airIndex = 3\n",
    "\n",
    "\n",
    "\n",
    "if checkpointLoad:\n",
    "    temperatureField.load(os.path.join(checkpointLoadDir, \"temperatureField\" + \".hdf5\"))\n",
    "    pressureField.load(os.path.join(checkpointLoadDir, \"pressureField\" + \".hdf5\"))\n",
    "    velocityField.load(os.path.join(checkpointLoadDir, \"velocityField\" + \".hdf5\"))\n",
    "    gSwarm.load(os.path.join(checkpointLoadDir, \"swarm\" + \".h5\"))\n",
    "    for ix in range(len(varlist)):\n",
    "        varb = varlist[ix]\n",
    "        varb.load(os.path.join(checkpointLoadDir,varnames[ix] + \".h5\"))\n",
    "\n",
    "else:\n",
    "\n",
    "    # Layouts are used to populate the swarm across the whole domain\n",
    "    layout = uw.swarm.layouts.PerCellRandomLayout(swarm=gSwarm, particlesPerCell=int(md.ppc))\n",
    "    gSwarm.populate_using_layout( layout=layout ) # Now use it to populate.\n",
    "    # Swarm variables\n",
    "    materialVariable.data[:] = mantleIndex\n",
    "    #tracerVariable.data[:] = 1\n",
    "    yieldingCheck.data[:] = 0\n",
    "    ageVariable.data[:] = -1\n",
    "\n",
    "    #Set initial air and crust materials (allow the graph to take care of lithsophere)\n",
    "    #########\n",
    "    #This initial material setup will be model dependent\n",
    "    #########\n",
    "    for particleID in range(gSwarm.particleCoordinates.data.shape[0]):\n",
    "        if (1. - gSwarm.particleCoordinates.data[particleID][1]) < ndp.MANTLETOCRUST:\n",
    "                 materialVariable.data[particleID] = crustIndex"
   ]
  },
  {
   "cell_type": "code",
   "execution_count": 42,
   "metadata": {
    "collapsed": false
   },
   "outputs": [
    {
     "data": {
      "text/plain": [
       "array([0, 1, 2], dtype=int32)"
      ]
     },
     "execution_count": 42,
     "metadata": {},
     "output_type": "execute_result"
    }
   ],
   "source": [
    "###########\n",
    "#Little swarm to track subduction zone, ridge location\n",
    "###########\n",
    "swarmPlateBoundary = uw.swarm.Swarm( mesh=mesh )\n",
    "\n",
    "swarmCoords = np.array([ [ndp.subzone,1.], [ndp.lRidge,1.],[ndp.rRidge,1.]])\n",
    "\n",
    "\n",
    "swarmPlateBoundary.add_particles_with_coordinates(swarmCoords)"
   ]
  },
  {
   "cell_type": "markdown",
   "metadata": {
    "collapsed": false
   },
   "source": [
    "###########\n",
    "#This block sets up a checkboard layout of passive tracers\n",
    "###########\n",
    "\n",
    "square_size = 0.1\n",
    "xlist = np.arange(mesh.minCoord[0] + square_size/2., mesh.maxCoord[0] + square_size/2., square_size)\n",
    "xlist = zip(xlist[:], xlist[1:])[::2]\n",
    "ylist = np.arange(mesh.minCoord[1] + square_size/2., mesh.maxCoord[1] + square_size/2., square_size)\n",
    "ylist = zip(ylist[:], ylist[1:])[::2]\n",
    "xops = []\n",
    "for vals in xlist:\n",
    "    xops.append( (operator.and_(   operator.gt(coordinate[0],vals[0]),   operator.lt(coordinate[0],vals[1])  ),0.) )\n",
    "xops.append((True,1.))\n",
    "\n",
    "testfunc = fn.branching.conditional(xops) \n",
    "\n",
    "yops = []\n",
    "for vals in ylist:\n",
    "    yops.append( (operator.and_(   operator.gt(coordinate[1],vals[0]),   operator.lt(coordinate[1],vals[1])  ),0.) )\n",
    "yops.append((True,testfunc))\n",
    "\n",
    "testfunc2 = fn.branching.conditional(yops) \n",
    "tracerVariable.data[:] = testfunc.evaluate(gSwarm)\n",
    "tracerVariable.data[:] = testfunc2.evaluate(gSwarm)"
   ]
  },
  {
   "cell_type": "code",
   "execution_count": null,
   "metadata": {
    "collapsed": false
   },
   "outputs": [],
   "source": []
  },
  {
   "cell_type": "code",
   "execution_count": 43,
   "metadata": {
    "collapsed": false
   },
   "outputs": [],
   "source": [
    "##############\n",
    "#Set the initial particle age for particles above the critical depth; \n",
    "#only material older than crustageCond will be transformed to crust / harzburgite\n",
    "##############\n",
    "\n",
    "ageVariable.data[:] = 0. #start with all zero\n",
    "ageVariable.data[:] = ageFn.evaluate(gSwarm)/sf.SR\n",
    "crustageCond = 8e6*(3600.*365.*24.)/sf.SR #set inital age above critical depth. (x...Ma)\n",
    "\n",
    "\n",
    "\n",
    "ageConditions = [ (depthFn < ndp.AGETRACKDEPTH, ageVariable),  #In the main loop we add ageVariable + dt here\n",
    "                  (True, 0.) ]\n",
    "                 \n",
    "#apply conditional \n",
    "ageVariable.data[:] = fn.branching.conditional( ageConditions ).evaluate(gSwarm)\n",
    "\n",
    "ageDT = 0.#this is used in the main loop for short term time increments"
   ]
  },
  {
   "cell_type": "code",
   "execution_count": 44,
   "metadata": {
    "collapsed": false
   },
   "outputs": [],
   "source": [
    "##############\n",
    "#Here we set up a directed graph object that we we use to control the transformation from one material type to another\n",
    "##############\n",
    "\n",
    "#All depth conditions are given as (km/D) where D is the length scale,\n",
    "#note that 'model depths' are used, e.g. 1-z, where z is the vertical Underworld coordinate\n",
    "#All temp conditions are in dimensionless temp. [0. - 1.]\n",
    "\n",
    "#Need a list of all material indexes (safer in parallel)\n",
    "material_list = [0,1,2,3]\n",
    "\n",
    "if not checkpointLoad:\n",
    "    materialVariable.data[:] = 0 #Initialize to zero \n",
    "\n",
    "#Setup the graph object\n",
    "DG = material_graph.MatGraph()\n",
    "\n",
    "#Important: First thing to do is to add all the material types to the graph (i.e add nodes)\n",
    "DG.add_nodes_from(material_list)\n",
    "\n",
    "#Now set the conditions for transformations\n",
    "\n",
    "hs = 2e3/dp.LS  #add some hysteresis to the depths of transition\n",
    "\n",
    "#... to mantle\n",
    "DG.add_transition((crustIndex,mantleIndex), depthFn, operator.gt, ndp.CRUSTTOMANTLE + hs)\n",
    "DG.add_transition((harzIndex,mantleIndex), depthFn, operator.gt, ndp.CRUSTTOMANTLE + hs)\n",
    "DG.add_transition((airIndex,mantleIndex), depthFn, operator.gt, ndp.TOPOHEIGHT + hs)\n",
    "\n",
    "#... to crust\n",
    "DG.add_transition((mantleIndex,crustIndex), depthFn, operator.lt, ndp.MANTLETOCRUST)\n",
    "#DG.add_transition((mantleIndex,crustIndex), xFn, operator.lt, ndp.subzone + 4.*ndp.MANTLETOCRUST) #No crust on the upper plate\n",
    "DG.add_transition((mantleIndex,crustIndex), xFn, operator.lt, ndp.subzone) #No crust on the upper plate\n",
    "DG.add_transition((mantleIndex,crustIndex), ageVariable, operator.gt, crustageCond)\n",
    "\n",
    "\n",
    "\n",
    "DG.add_transition((harzIndex,crustIndex), depthFn, operator.lt, ndp.MANTLETOCRUST)\n",
    "DG.add_transition((harzIndex,crustIndex), xFn, operator.lt, ndp.subzone) #This one sets no crust on the upper plate\n",
    "DG.add_transition((harzIndex,crustIndex), ageVariable, operator.gt, crustageCond)\n",
    "\n",
    "#... to Harzbugite\n",
    "DG.add_transition((mantleIndex,harzIndex), depthFn, operator.lt, ndp.HARZBURGDEPTH)\n",
    "#DG.add_transition((mantleIndex,harzIndex), depthFn, operator.gt, ndp.MANTLETOCRUST)\n",
    "DG.add_transition((mantleIndex,harzIndex), ageVariable, operator.gt, crustageCond) #Note we can mix functions and swarm variabls\n",
    "\n",
    "\n",
    "#... to air\n",
    "DG.add_transition((mantleIndex,airIndex), depthFn, operator.lt,0.)\n",
    "DG.add_transition((crustIndex,airIndex), depthFn, operator.lt, 0. )\n",
    "DG.add_transition((harzIndex,airIndex), depthFn, operator.lt, 0. )\n",
    "\n",
    "\n",
    "\n",
    "\n",
    "\n",
    "\n",
    "\n"
   ]
  },
  {
   "cell_type": "code",
   "execution_count": 45,
   "metadata": {
    "collapsed": false
   },
   "outputs": [],
   "source": [
    "#CRUSTTOMANTLE, HARZBURGDEPTH, 0. + 7.*MANTLETOCRUST"
   ]
  },
  {
   "cell_type": "code",
   "execution_count": 46,
   "metadata": {
    "collapsed": false
   },
   "outputs": [
    {
     "data": {
      "text/plain": [
       "0.002758620689655172"
      ]
     },
     "execution_count": 46,
     "metadata": {},
     "output_type": "execute_result"
    }
   ],
   "source": [
    "ndp.MANTLETOCRUST"
   ]
  },
  {
   "cell_type": "code",
   "execution_count": 47,
   "metadata": {
    "collapsed": false
   },
   "outputs": [],
   "source": [
    "##############\n",
    "#For the slab_IC, we'll also add a crustal weak zone following the dipping perturbation\n",
    "##############\n",
    "\n",
    "if checkpointLoad != True:\n",
    "    if not md.symmetricIcs:\n",
    "        for particleID in range(gSwarm.particleCoordinates.data.shape[0]):\n",
    "            if gSwarm.particleCoordinates.data[particleID][1] < 0.:\n",
    "                materialVariable.data[particleID] = airIndex\n",
    "                \n",
    "            elif (\n",
    "                Oc.evaluate(list(gSwarm.particleCoordinates.data[particleID])) and\n",
    "                Tri.evaluate(list(gSwarm.particleCoordinates.data[particleID])) and\n",
    "                gSwarm.particleCoordinates.data[particleID][1] > (MAXY - ndp.maxDepth) and\n",
    "                Cc.evaluate(list(gSwarm.particleCoordinates.data[particleID])) == False\n",
    "                \n",
    "                ):\n",
    "                materialVariable.data[particleID] = crustIndex\n",
    "                \n",
    "            elif (\n",
    "                Oc.evaluate(list(gSwarm.particleCoordinates.data[particleID])) and\n",
    "                Tri.evaluate(list(gSwarm.particleCoordinates.data[particleID])) and\n",
    "                gSwarm.particleCoordinates.data[particleID][1] > (MAXY - ndp.maxDepth) and\n",
    "                Hc.evaluate(list(gSwarm.particleCoordinates.data[particleID])) == False\n",
    "                \n",
    "                ):\n",
    "                materialVariable.data[particleID] = harzIndex"
   ]
  },
  {
   "cell_type": "code",
   "execution_count": 48,
   "metadata": {
    "collapsed": true
   },
   "outputs": [],
   "source": [
    "#DG.remove_edges_from([(mantleIndex,crustIndex)])\n",
    "#DG.remove_edges_from([(harzIndex,crustIndex)])\n"
   ]
  },
  {
   "cell_type": "code",
   "execution_count": 49,
   "metadata": {
    "collapsed": false
   },
   "outputs": [],
   "source": [
    "#DG.build_condition_list(materialVariable)\n",
    "#print(len(DG.condition_list))\n",
    "#DG.condition_list"
   ]
  },
  {
   "cell_type": "code",
   "execution_count": 50,
   "metadata": {
    "collapsed": false
   },
   "outputs": [],
   "source": [
    "#DG.edges()\n",
    "#DG.build_condition_list(materialVariable)"
   ]
  },
  {
   "cell_type": "code",
   "execution_count": 51,
   "metadata": {
    "collapsed": false
   },
   "outputs": [],
   "source": [
    "##############\n",
    "#This is how we use the material graph object to test / apply material transformations\n",
    "##############\n",
    "DG.build_condition_list(materialVariable)\n",
    "\n",
    "for i in range(1): #Need to go through a number of times\n",
    "    materialVariable.data[:] = fn.branching.conditional(DG.condition_list).evaluate(gSwarm)"
   ]
  },
  {
   "cell_type": "code",
   "execution_count": 114,
   "metadata": {
    "collapsed": false
   },
   "outputs": [],
   "source": [
    "fig= glucifer.Figure(quality=3)\n",
    "\n",
    "fig.append( glucifer.objects.Points(gSwarm ,materialVariable ))\n",
    "#fig.append( glucifer.objects.Mesh(mesh))\n",
    "#fig.show()\n",
    "##\n",
    "#fig.save_database('test.gldb')"
   ]
  },
  {
   "cell_type": "code",
   "execution_count": null,
   "metadata": {
    "collapsed": true
   },
   "outputs": [],
   "source": []
  },
  {
   "cell_type": "code",
   "execution_count": 53,
   "metadata": {
    "collapsed": false
   },
   "outputs": [
    {
     "data": {
      "text/plain": [
       "(0, 1)"
      ]
     },
     "execution_count": 53,
     "metadata": {},
     "output_type": "execute_result"
    }
   ],
   "source": [
    "mantleIndex,crustIndex"
   ]
  },
  {
   "cell_type": "code",
   "execution_count": 54,
   "metadata": {
    "collapsed": false
   },
   "outputs": [
    {
     "data": {
      "text/plain": [
       "[(0, 1), (0, 2), (0, 3), (1, 0), (1, 3), (2, 0), (2, 1), (2, 3), (3, 0)]"
      ]
     },
     "execution_count": 54,
     "metadata": {},
     "output_type": "execute_result"
    }
   ],
   "source": [
    "DG.edges()"
   ]
  },
  {
   "cell_type": "markdown",
   "metadata": {},
   "source": [
    "## Test - careful\n",
    "\n",
    "Now that we have our initial material layout, we'll place some more restrictions on material transitions\n"
   ]
  },
  {
   "cell_type": "code",
   "execution_count": 55,
   "metadata": {
    "collapsed": false
   },
   "outputs": [],
   "source": [
    "DG.remove_edges_from([(mantleIndex,crustIndex)])\n",
    "DG.add_edges_from([(mantleIndex,crustIndex)])\n",
    "\n",
    "#... to crust\n",
    "DG.add_transition((mantleIndex,crustIndex), depthFn, operator.lt, ndp.MANTLETOCRUST)\n",
    "DG.add_transition((mantleIndex,crustIndex), xFn, operator.lt, 0.5*ndp.lRidge) #No crust on the upper plate\n",
    "DG.add_transition((mantleIndex,crustIndex), ageVariable, operator.gt, crustageCond)\n",
    "\n",
    "\n",
    "#Make sure to rebuild the condition list if you want changes to be applied\n",
    "DG.build_condition_list(materialVariable)\n"
   ]
  },
  {
   "cell_type": "markdown",
   "metadata": {
    "collapsed": false
   },
   "source": [
    "## Fault stuff\n",
    "\n"
   ]
  },
  {
   "cell_type": "code",
   "execution_count": 56,
   "metadata": {
    "collapsed": false
   },
   "outputs": [
    {
     "name": "stderr",
     "output_type": "stream",
     "text": [
      "/workspace/2dthermalslabs/kaplan/unsupported_dan/interfaces/__init__.py:9: UserWarning: \n",
      "\n",
      "The interface module is not supported.\n",
      "Questions should be addressed to louis.moresi@unimelb.edu.au \n",
      " \n",
      "  Questions should be addressed to louis.moresi@unimelb.edu.au \\n \"\"\"\n",
      "/workspace/2dthermalslabs/kaplan/unsupported_dan/faults/__init__.py:9: UserWarning: \n",
      "\n",
      "The fault module is not supported.\n",
      "Questions should be addressed to louis.moresi@unimelb.edu.au \n",
      " \n",
      "  Questions should be addressed to louis.moresi@unimelb.edu.au \\n \"\"\"\n"
     ]
    }
   ],
   "source": [
    "from unsupported_dan.interfaces.marker2D import markerLine2D\n",
    "from unsupported_dan.faults.faults2D import fault2D, fault_collection"
   ]
  },
  {
   "cell_type": "code",
   "execution_count": 57,
   "metadata": {
    "collapsed": true
   },
   "outputs": [],
   "source": [
    "def copy_markerLine2D(ml, thickness=False, ID=False):\n",
    "    \n",
    "    \"\"\"\n",
    "    \n",
    "    \"\"\"\n",
    "    if not thickness:\n",
    "        thickness = ml.thickness\n",
    "    if not ID:\n",
    "        ID = -1*ml.ID\n",
    "    new_line = markerLine2D(mesh, velocityField, [], [], thickness,  ID)\n",
    "    if ml.swarm.particleCoordinates.data.shape[0] > 0:\n",
    "        new_line.swarm.add_particles_with_coordinates(ml.swarm.particleCoordinates.data.copy())\n",
    "        \n",
    "    new_line.rebuild()\n",
    "    return new_line"
   ]
  },
  {
   "cell_type": "code",
   "execution_count": 58,
   "metadata": {
    "collapsed": true
   },
   "outputs": [],
   "source": [
    "###########\n",
    "#Initial Coordinates for inerfaces and faults\n",
    "###########\n",
    "\n",
    "#subduction fault\n",
    "introPoint = ndp.subzone - abs(ndp.subzone - ndp.lRidge)/2. #half way between ridge and Sz\n",
    "faultthickness = ndp.MANTLETOCRUST #initialise fault at bottom of the crust\n",
    "nfault = 1000\n",
    "faultCoords =np.zeros((nfault, 2))\n",
    "\n",
    "reducedRocM = ndp.roc  - faultthickness\n",
    "xlimslab = reducedRocM*math.cos(math.pi*(90. - dp.theta)/180)\n",
    "faultCoords[:, 0] = np.linspace(introPoint, ndp.subzone + xlimslab, nfault) #note SZ location is hardcoded here \n",
    "for index, xval in np.ndenumerate(faultCoords[:,0]):\n",
    "    #print index, xval\n",
    "    #swarmCoords[index[0], 1] = 1. - isodepthFn.evaluate((xval, 0.)) #This bit for the plate \n",
    "    if  xval < ndp.subzone:\n",
    "        faultCoords[index[0], 1] = MAXY - faultthickness #This bit for the plate \n",
    "        \n",
    "    else:\n",
    "        faultCoords[index[0], 1] = (MAXY - (faultthickness) - (reducedRocM - ( math.sqrt((reducedRocM**2 - (xval-ndp.subzone)**2)))))\n",
    "        \n",
    "    \n",
    "faultCoords = faultCoords[faultCoords[:,1] > (MAXY - ndp.maxDepth)] #kill any deeper than cutoff\n",
    "\n",
    "\n",
    "#surface tracer interface:\n",
    "surfaceCoords =np.ones((nfault, 2))*1.\n",
    "surfaceCoords[:,0] = np.linspace(MINX, MAXX, nfault)\n",
    "\n",
    "\n",
    "\n"
   ]
  },
  {
   "cell_type": "code",
   "execution_count": 59,
   "metadata": {
    "collapsed": false
   },
   "outputs": [],
   "source": [
    "#Initiaze the swarms in a \n",
    "fault  = fault2D(mesh, velocityField, [], [], faultthickness, 0., 0., crustIndex)\n",
    "surface  = fault2D(mesh, velocityField, [], [], ndp.StALS, 0., 0., airIndex)\n",
    "#slab_seg  = marker2D.markerLine2D(mesh, velocityField, [], [], 1e9/dp.LS, crustIndex)   #Note very large fault thickness \n",
    "\n",
    "fault_coll = fault_collection([fault])\n",
    "\n",
    "\n",
    "\n",
    "#Initiaze the swarms in a \n",
    "#fault_seg  = marker2D.markerLine2D(mesh, velocityField, [], [], faultthickness, 0.0, 0.0, crustIndex)\n",
    "#surface_seg  = marker2D.markerLine2D(mesh, velocityField, [], [], ndp.StALS, 0.0, 0.0, airIndex)\n",
    "#slab_seg  = marker2D.markerLine2D(mesh, velocityField, [], [], 1e9/dp.LS, 0.0, 0.0, crustIndex)   #Note very large fault thickness\n",
    "\n",
    "#These lists are used to checkpoint the marker lines, similar to the swarm variables.        \n",
    "interfaces = []\n",
    "interfaces.append(fault)\n",
    "interfaces.append(surface)\n",
    "interfacenames = ['fault_seg', 'surface_seg']\n",
    "\n",
    "\n",
    "#If restarting, load the swarms from file Interfaces are just swarms, so should be fine to rely on parallel h5 machinery here\n",
    "if checkpointLoad:\n",
    "    for ix in range(len(interfaces)):\n",
    "        tempname = interfacenames[ix]\n",
    "        interfaces[ix].swarm.load(os.path.join(checkpointLoadDir,  tempname + \".h5\"))\n",
    "\n",
    "#otherwise add the point from at the initial locations\n",
    "else:\n",
    "    fault.add_points(faultCoords[:, 0], faultCoords[:, 1])\n",
    "    surface.add_points(surfaceCoords[:, 0], surfaceCoords[:, 1])\n",
    "    #slab_seg.add_points(slabCoords[:, 0], slabCoords[:, 1]) \n",
    "    \n"
   ]
  },
  {
   "cell_type": "code",
   "execution_count": 60,
   "metadata": {
    "collapsed": false
   },
   "outputs": [],
   "source": [
    "#Add variables to the surface swarm\n",
    "surfaceVelx = surface.swarm.add_variable( dataType=\"float\", count=1 )\n",
    "surfaceVelx.data[...] = velocityField[0].evaluate(surface.swarm)"
   ]
  },
  {
   "cell_type": "code",
   "execution_count": 61,
   "metadata": {
    "collapsed": true
   },
   "outputs": [],
   "source": [
    "#Add the necessary swarm variables\n",
    "\n",
    "proximityVariable      = gSwarm.add_variable( dataType=\"int\", count=1 )\n",
    "signedDistanceVariable = gSwarm.add_variable( dataType=\"float\", count=1 )\n",
    "directorVector   = gSwarm.add_variable( dataType=\"double\", count=2)\n",
    "\n",
    "directorVector.data[:,:] = 0.0\n",
    "proximityVariable.data[:] = 0\n",
    "signedDistanceVariable.data[:] = 0.0"
   ]
  },
  {
   "cell_type": "code",
   "execution_count": 62,
   "metadata": {
    "collapsed": false
   },
   "outputs": [],
   "source": [
    "#inform the mesh of the fault\n",
    "\n",
    "sd, pts0 = fault.compute_signed_distance(gSwarm.particleCoordinates.data, distance=w0)\n",
    "sp, pts0 = fault.compute_marker_proximity(gSwarm.particleCoordinates.data)\n",
    "\n",
    "proximityVariable.data[np.logical_and(sd<0,sp == fault.ID)] = sp[np.logical_and(sd<0,sp == fault.ID)]\n",
    "\n",
    "dv, nzv = fault.compute_normals(gSwarm.particleCoordinates.data)\n",
    "directorVector.data[nzv] = dv[nzv]\n",
    "\n",
    "\n",
    "\n",
    "\n",
    "edotn_SFn, edots_SFn = fault_coll.global_fault_strainrate_fns(velocityField, directorVector, proximityVariable)\n"
   ]
  },
  {
   "cell_type": "code",
   "execution_count": 63,
   "metadata": {
    "collapsed": false
   },
   "outputs": [],
   "source": [
    "\n",
    "\n",
    "# Call the Fault helper functions to initialize this info on the main material swarm\n",
    "    \n",
    "#update_swarm_from_faults(surface_seg, proximityVariable, directorVector, signedDistanceVariable)\n",
    "#mask_materials(surface_seg, airIndex, materialVariable, proximityVariable, directorVector, signedDistanceVariable)\n",
    "\n",
    "#update_swarm_from_faults(fault_seg, proximityVariable, directorVector, signedDistanceVariable)\n",
    "#mask_materials(fault_seg, crustIndex, materialVariable, proximityVariable, directorVector, signedDistanceVariable)\n",
    "\n",
    "#Also switch off proximity beneath ndp.CRUSTVISCUTOFF depth\n",
    "#proximityVariable.data[gSwarm.particleCoordinates.data[:,1]  < (1. - ndp.CRUSTVISCUTOFF)] = 0. \n",
    "\n",
    "# These should be general enough not to need updating when the faults move etc..\n",
    "#ie they should update as the fields/functions/swarm variables they are built on update\n",
    "#edotn_SFn, edots_SFn = fault_strainrate_fns(interfaces, velocityField, directorVector, proximityVariable)"
   ]
  },
  {
   "cell_type": "code",
   "execution_count": 64,
   "metadata": {
    "collapsed": false
   },
   "outputs": [],
   "source": [
    "## Take a look at the locations of the materials\n",
    "\n",
    "#Note we only use this mesh director for visualizing the directorVector (vector-on-swarm viewing not suppoted yet)\n",
    "#meshDirector = uw.mesh.MeshVariable( mesh, 2 )\n",
    "#projectDirector = uw.utils.MeshVariable_Projection( meshDirector, directorVector, type=1 )\n",
    "#projectDirector.solve()    \n",
    "\n",
    "figMaterials = glucifer.Figure( figsize=(1200,400))\n",
    "\n",
    "#Plot swarm associated with each fault\n",
    "figMaterials.append( glucifer.objects.Points(fault.swarm, colours=\"Black Black\", pointSize=2.0, colourBar=False) )\n",
    "\n",
    "\n",
    "#plot mesh director viz. guy\n",
    "#figMaterials.append( glucifer.objects.VectorArrows(mesh, meshDirector, scaling=.08, \n",
    "#                                               resolutionI=100, resolutionJ=20, opacity=0.25) )\n",
    "\n",
    "\n",
    "#Proximity variable - this is the colour\n",
    "figMaterials.append( glucifer.objects.Points(gSwarm, proximityVariable, \n",
    "                                             pointSize=5.0,  opacity=0.75) )\n",
    "\n",
    "\n",
    "#signedDistanceVariable - this variable goes to zero where the proximity cutoff is\n",
    "#note that it's signed...faults have a direction\n",
    "#figMaterials.append( glucifer.objects.Points(gSwarm, signedDistanceVariable, \n",
    "#                                             pointSize=2.0))\n",
    "\n",
    "#Add mesh\n",
    "#figMaterials.append( glucifer.objects.Mesh(mesh, opacity=0.1) )\n",
    "\n",
    "#figMaterials.show()\n",
    "#figMaterials.save_database('test.gldb')"
   ]
  },
  {
   "cell_type": "code",
   "execution_count": null,
   "metadata": {
    "collapsed": true
   },
   "outputs": [],
   "source": []
  },
  {
   "cell_type": "markdown",
   "metadata": {},
   "source": [
    "Rheology\n",
    "-----\n",
    "\n"
   ]
  },
  {
   "cell_type": "code",
   "execution_count": 65,
   "metadata": {
    "collapsed": false
   },
   "outputs": [],
   "source": [
    "##############\n",
    "#Set up any functions required by the rheology\n",
    "##############\n",
    "strainRate_2ndInvariant = fn.tensor.second_invariant( \n",
    "                            fn.tensor.symmetric( \n",
    "                            velocityField.fn_gradient ))\n",
    "\n",
    "def safe_visc(func, viscmin=ndp.eta_min, viscmax=ndp.eta_max):\n",
    "    return fn.misc.max(viscmin, fn.misc.min(viscmax, func))"
   ]
  },
  {
   "cell_type": "code",
   "execution_count": 66,
   "metadata": {
    "collapsed": true
   },
   "outputs": [],
   "source": [
    "#strainRate_2ndInvariant = fn.misc.constant(ndp.SR) #dummy fucntion to check which mechanisms are at active are reference strain rate"
   ]
  },
  {
   "cell_type": "code",
   "execution_count": 67,
   "metadata": {
    "collapsed": false
   },
   "outputs": [],
   "source": [
    "############\n",
    "#Rheology: create UW2 functions for all viscous mechanisms\n",
    "#############\n",
    "omega = fn.misc.constant(1.) #this function can hold any arbitary viscosity modifications \n",
    "\n",
    "\n",
    "#Note Because we're not using the pressure term, creep values will be unrealistically low at higher temps. \n",
    "#However this adpatation of the flow law gives us a nearly iso-viscous mantle, and a consistent viscosity (eta(T)) profile in the lithsphere\n",
    "dfScale = (math.exp(ndp.Edf/(1. + ndp.TS) ))\n",
    "diffusion = safe_visc((1./dfScale)*fn.math.exp(ndp.Edf / (temperatureField + ndp.TS)))\n",
    "\n",
    "##Define the Plasticity\n",
    "ys =  ndp.cm + (depthFn*ndp.fcmd)\n",
    "ysMax = 10e4*1e6*sf.stress\n",
    "ysf = fn.misc.min(ys, ysMax)\n",
    "yielding = ysf/(2.*(strainRate_2ndInvariant))\n",
    "\n",
    "##Crust rheology\n",
    "crustys =  ndp.cc + (depthFn*ndp.fccd) #only weakened cohesion is discussed, not fc\n",
    "crustvisc = crustys/(2.*(strainRate_2ndInvariant)) \n",
    "\n",
    "\n"
   ]
  },
  {
   "cell_type": "code",
   "execution_count": 68,
   "metadata": {
    "collapsed": false
   },
   "outputs": [],
   "source": [
    "#fig2= glucifer.Figure()\n",
    "#fig2.append( glucifer.objects.Surface(mesh, diffusion, logScale=True))\n",
    "#fig2.show()"
   ]
  },
  {
   "cell_type": "code",
   "execution_count": 69,
   "metadata": {
    "collapsed": false
   },
   "outputs": [],
   "source": [
    "############\n",
    "#Rheology: combine viscous mechanisms in various ways \n",
    "#harmonic: harmonic average of all mechanims\n",
    "#min: minimum effective viscosity of the mechanims\n",
    "#mixed: takes the minimum of the harmonic and the plastic effective viscosity\n",
    "#############\n",
    "\n",
    "\n",
    "#combined rheology    \n",
    "finalviscosityFn  = fn.branching.conditional([(depthFn < ndp.LOWMANTLEDEPTH, safe_visc(fn.misc.min(diffusion, yielding))),\n",
    "                                  (True, safe_visc(safe_visc(diffusion*ndp.low_mantle_visc_fac)))])\n",
    "\n",
    "\n",
    "crustviscosityFn = safe_visc(fn.misc.min(finalviscosityFn, crustvisc), ndp.eta_max_crust)\n",
    "\n",
    "if ndp.eta_max_crust == ndp.eta_min_crust: #If these are equal, set to constant visc. \n",
    "    crustviscosityFn = fn.misc.constant(ndp.eta_min_crust)\n",
    "    \n",
    "\n",
    "\n",
    "finalcrustviscosityFn  = fn.branching.conditional([(depthFn < ndp.CRUSTVISCUTOFF, crustviscosityFn),\n",
    "                                                     (True, finalviscosityFn)])"
   ]
  },
  {
   "cell_type": "markdown",
   "metadata": {},
   "source": [
    "Stokes system setup\n",
    "-----\n"
   ]
  },
  {
   "cell_type": "code",
   "execution_count": 70,
   "metadata": {
    "collapsed": true
   },
   "outputs": [],
   "source": [
    "buoyancyFn =  ndp.RA*temperatureField\n"
   ]
  },
  {
   "cell_type": "code",
   "execution_count": 71,
   "metadata": {
    "collapsed": false
   },
   "outputs": [],
   "source": [
    "densityMapFn = fn.branching.map( fn_key = materialVariable,\n",
    "                         mapping = {airIndex:ndp.StRA,\n",
    "                                    crustIndex:buoyancyFn, \n",
    "                                    mantleIndex:buoyancyFn,\n",
    "                                    harzIndex:buoyancyFn} )"
   ]
  },
  {
   "cell_type": "code",
   "execution_count": 72,
   "metadata": {
    "collapsed": true
   },
   "outputs": [],
   "source": [
    "\n",
    "# Define our vertical unit vector using a python tuple (this will be automatically converted to a function).\n",
    "gravity = ( 0.0, 1.0 )\n",
    "\n",
    "# Now create a buoyancy force vector using the density and the vertical unit vector. \n",
    "buoyancyFn = densityMapFn * gravity"
   ]
  },
  {
   "cell_type": "code",
   "execution_count": 67,
   "metadata": {
    "collapsed": false
   },
   "outputs": [
    {
     "name": "stderr",
     "output_type": "stream",
     "text": [
      "/root/underworld2/underworld/systems/_stokes.py:70: UserWarning: 'swarm' paramater has been renamed to 'voronoi_swarm'. Please update your models. 'swarm' parameter will be removed in the next release.\n",
      "  \"'swarm' parameter will be removed in the next release.\")\n"
     ]
    }
   ],
   "source": [
    "if md.PIC_integration:\n",
    "    stokesPIC = uw.systems.Stokes(velocityField=velocityField, \n",
    "                              pressureField=pressureField,\n",
    "                              conditions=[freeslipBC,],\n",
    "                              fn_viscosity=diffusion, \n",
    "                              fn_bodyforce=buoyancyFn,\n",
    "                              swarm=gSwarm)\n",
    "    \n",
    "\n",
    "else:\n",
    "    stokesPIC = uw.systems.Stokes(velocityField=velocityField, \n",
    "                              pressureField=pressureField,\n",
    "                              conditions=[freeslipBC,],\n",
    "                              fn_viscosity=diffusion, \n",
    "                              fn_bodyforce=buoyancyFn )"
   ]
  },
  {
   "cell_type": "code",
   "execution_count": 68,
   "metadata": {
    "collapsed": true
   },
   "outputs": [],
   "source": [
    "solver = uw.systems.Solver(stokesPIC)\n",
    "if not checkpointLoad:\n",
    "    solver.solve() #A solve on the linear visocisty is unhelpful unless we're starting from scratch"
   ]
  },
  {
   "cell_type": "code",
   "execution_count": 69,
   "metadata": {
    "collapsed": false
   },
   "outputs": [],
   "source": [
    "viscosityMapFn1 = fn.branching.map( fn_key = materialVariable,\n",
    "                         mapping = {crustIndex:finalcrustviscosityFn,\n",
    "                                    mantleIndex:finalviscosityFn,\n",
    "                                    harzIndex:finalviscosityFn,\n",
    "                                    airIndex:ndp.Steta_n} )\n",
    "\n",
    "\n",
    "delta_Steata2 = ndp.Steta_n - ndp.Steta_s\n",
    "delta_eta_fault = 0.\n",
    "\n",
    "if md.subductionFault:  \n",
    "    if ndp.eta_min_fault == ndp.eta_min_fault:#Transverse rheology is isoviscous\n",
    "        delta_eta_fault = fn.misc.min(0.999, fn.misc.max (0.,   ndp.eta_min_crust - ndp.eta_min_fault))       \n",
    "        \n",
    "    else:\n",
    "        #Transverse viscosity is related the Mohr-Coulomb criterion\n",
    "        delta_eta_fault = fn.misc.min(0.999, fn.misc.max (0., \n",
    "        viscosityMapFn1 - ((edotn_SFn*viscosityMapFn1 + ndp.fcfd * pressureField)  + ndp.cf)/edots_SFn))\n",
    "   "
   ]
  },
  {
   "cell_type": "code",
   "execution_count": 70,
   "metadata": {
    "collapsed": false
   },
   "outputs": [],
   "source": [
    "# This one maps to my fault-proximity variable (which also picks only materialV)\n",
    "viscosityMapFn2    = { 0: 0.0, \n",
    "                           1: delta_eta_fault, \n",
    "                           3: delta_Steata2\n",
    "                       }\n",
    "    \n",
    "\n",
    "viscosityMapFn2  = fn.branching.map( fn_key = proximityVariable, \n",
    "                                           mapping = viscosityMapFn2)"
   ]
  },
  {
   "cell_type": "code",
   "execution_count": 71,
   "metadata": {
    "collapsed": false
   },
   "outputs": [],
   "source": [
    "#orientation = -1.*90. * math.pi / 180.0  #vertical\n",
    "#math.cos(orientation), math.sin(orientation)"
   ]
  },
  {
   "cell_type": "code",
   "execution_count": 72,
   "metadata": {
    "collapsed": false
   },
   "outputs": [],
   "source": [
    "#md.subductionFault"
   ]
  },
  {
   "cell_type": "code",
   "execution_count": 73,
   "metadata": {
    "collapsed": false
   },
   "outputs": [],
   "source": [
    "#Add the non-linear viscosity to the Stokes system\n",
    "stokesPIC.fn_viscosity = viscosityMapFn1\n",
    "\n",
    "if md.stickyAir or md.subductionFault:\n",
    "    stokesPIC.fn_viscosity2 = viscosityMapFn2\n",
    "    stokesPIC._fn_director   = directorVector\n"
   ]
  },
  {
   "cell_type": "code",
   "execution_count": 74,
   "metadata": {
    "collapsed": false
   },
   "outputs": [
    {
     "name": "stdout",
     "output_type": "stream",
     "text": [
      "\u001b[1;35m\n",
      " \n",
      "Pressure iterations:   3\n",
      "Velocity iterations:   1 (presolve)      \n",
      "Velocity iterations:  -1 (pressure solve)\n",
      "Velocity iterations:   1 (backsolve)     \n",
      "Velocity iterations:   1 (total solve)   \n",
      " \n",
      "SCR RHS  solve time: 7.6641e-01\n",
      "Pressure solve time: 6.2539e-02\n",
      "Velocity solve time: 8.0989e-01 (backsolve)\n",
      "Total solve time   : 1.7503e+00\n",
      " \n",
      "Velocity solution min/max: 0.0000e+00/0.0000e+00\n",
      "Pressure solution min/max: 0.0000e+00/0.0000e+00\n",
      " \n",
      "\u001b[00m\n"
     ]
    }
   ],
   "source": [
    "solver.set_inner_method(\"mumps\")\n",
    "solver.options.scr.ksp_type=\"cg\"\n",
    "solver.set_penalty(1.0e7)\n",
    "solver.options.scr.ksp_rtol = 1.0e-4\n",
    "solver.solve(nonLinearIterate=True)\n",
    "solver.print_stats()"
   ]
  },
  {
   "cell_type": "code",
   "execution_count": 75,
   "metadata": {
    "collapsed": false
   },
   "outputs": [],
   "source": [
    "#Check which particles are yielding\n",
    "#yieldingCheck.data[:] = 0\n",
    "\n",
    "#yieldconditions = [ ( finalviscosityFn < Visc , 1), \n",
    "#               ( True                                           , 0) ]\n",
    "\n",
    "# use the branching conditional function to set each particle's index\n",
    "#yieldingCheck.data[:] = fn.branching.conditional( yieldconditions ).evaluate(gSwarm)"
   ]
  },
  {
   "cell_type": "code",
   "execution_count": 76,
   "metadata": {
    "collapsed": false
   },
   "outputs": [],
   "source": [
    "#velocityFieldIso       = uw.mesh.MeshVariable( mesh=mesh,         nodeDofCount=2 )\n",
    "#velocityFieldIso.data[:] = velocityField.data.copy()\n",
    "\n",
    "\n",
    "\n",
    "#strainRate_2ndInvariantIso = fn.tensor.second_invariant( \n",
    "#                            fn.tensor.symmetric( \n",
    "#                            velocityFieldIso.fn_gradient ))"
   ]
  },
  {
   "cell_type": "code",
   "execution_count": 77,
   "metadata": {
    "collapsed": true
   },
   "outputs": [],
   "source": [
    "#Set up a swarm Stress function\n",
    "\n",
    "swarmStressFn = 2.*stokesPIC.fn_viscosity*strainRate_2ndInvariant"
   ]
  },
  {
   "cell_type": "markdown",
   "metadata": {},
   "source": [
    "sym_strainRate = fn.tensor.symmetric( \n",
    "                            velocityField.fn_gradient )\n",
    "\n",
    "\n",
    "eig1       = uw.mesh.MeshVariable( mesh=mesh,         nodeDofCount=2 )\n",
    "\n",
    "eig2       = uw.mesh.MeshVariable( mesh=mesh,         nodeDofCount=2 )\n",
    "\n",
    "\n",
    "meshVisc = uw.mesh.MeshVariable( mesh, 1)\n",
    "projectGuy = uw.utils.MeshVariable_Projection(meshVisc, viscosityMapFn1, type=0 )\n",
    "projectGuy.solve() "
   ]
  },
  {
   "cell_type": "markdown",
   "metadata": {},
   "source": [
    "ssr = sym_strainRate.evaluate(mesh)\n",
    "\n",
    "\n",
    "for ti, val in enumerate(eig1.data):\n",
    "    eigVals, eigVex= np.linalg.eigh(np.array([[ssr[ti][0],ssr[ti][2]],[ssr[ti][2],ssr[ti][0]]]), UPLO='U')\n",
    "    #eig1.data[ti] = meshVisc.data[ti]*eigVals[0]*eigVex[0]\n",
    "    #eig2.data[ti] = meshVisc.data[ti]*eigVals[1]*eigVex[1]\n",
    "    eig1.data[ti] = eigVex[0]\n",
    "    eig2.data[ti] = eigVex[1]"
   ]
  },
  {
   "cell_type": "code",
   "execution_count": 78,
   "metadata": {
    "collapsed": false
   },
   "outputs": [],
   "source": [
    "#np.linalg.eigh(np.array([[1,1],[1,1]]), UPLO='U')"
   ]
  },
  {
   "cell_type": "markdown",
   "metadata": {},
   "source": [
    "mantleconditions = [ (                                  operator.and_(temperatureField < 0.9*TMAX, operator.and_(xFn> ndp.lRidge,xFn< ndp.rRidge )), 1.),\n",
    "                   (                                                   True , 0.) ]\n",
    "lithRestFn = fn.branching.conditional(mantleconditions)\n",
    "\n",
    "fig= glucifer.Figure(quality=3)\n",
    "fig.append( glucifer.objects.Surface(mesh,temperatureField))\n",
    "fig.append( glucifer.objects.VectorArrows(mesh,eig1*lithRestFn,arrowHead=0., scaling=1e-2, resolutionI=16*10, resolutionJ=16*2 ))\n",
    "#fig.append( glucifer.objects.VectorArrows(mesh,eig2,arrowHead=0., scaling=1e-2, resolutionI=16*5, resolutionJ=16))\n",
    "\n",
    "\n",
    "fig.show()\n",
    "##\n",
    "fig.save_database('test.gldb')"
   ]
  },
  {
   "cell_type": "markdown",
   "metadata": {},
   "source": [
    "Advection-diffusion System setup\n",
    "-----"
   ]
  },
  {
   "cell_type": "code",
   "execution_count": 73,
   "metadata": {
    "collapsed": false
   },
   "outputs": [],
   "source": [
    "advDiff = uw.systems.AdvectionDiffusion( phiField       = temperatureField, \n",
    "                                         phiDotField    = temperatureDotField, \n",
    "                                         velocityField  = velocityField,\n",
    "                                         fn_sourceTerm    = 0.0,\n",
    "                                         fn_diffusivity = 1.0, \n",
    "                                         #conditions     = [neumannTempBC, dirichTempBC] )\n",
    "                                         conditions     = [ dirichTempBC] )\n",
    "\n",
    "passiveadvector = uw.systems.SwarmAdvector( swarm         = gSwarm, \n",
    "                                     velocityField = velocityField, \n",
    "                                     order         = 1)"
   ]
  },
  {
   "cell_type": "code",
   "execution_count": 74,
   "metadata": {
    "collapsed": false
   },
   "outputs": [],
   "source": [
    "#population_control = uw.swarm.PopulationControl(gSwarm,deleteThreshold=0.2,splitThreshold=1.,maxDeletions=3,maxSplits=0, aggressive=True, particlesPerCell=int(md.ppc))\n",
    "\n",
    "population_control = uw.swarm.PopulationControl(gSwarm,deleteThreshold=0.006,splitThreshold=0.1,maxDeletions=int(md.ppc/5),maxSplits=int(md.ppc/5), aggressive=True,aggressiveThreshold=0.9, particlesPerCell=int(md.ppc))"
   ]
  },
  {
   "cell_type": "markdown",
   "metadata": {},
   "source": [
    "Analysis functions / routines\n",
    "-----\n",
    "\n",
    "Most of the metrics we want to calculate are either:\n",
    "\n",
    "* extrema of some field / function\n",
    "* integral of some field / function\n",
    "* average value of some function (integral divide by area)\n",
    "\n",
    "In addition, we also want to be able to determine these metrics over some restricted part of the domain, where the restriction may either be due some value of a field, a material type, or something more arbitrary.\n",
    "\n",
    "Much of he challenge lies in defining these restriction functions in an efficient and robust way (i.e they don't break down as the model evolves)\n",
    "\n",
    "For volume integrals, and extrema, we build a hierarchy of restriction functions, each borrowing from the previous, until we have divided the domain into a number of sub regions of interest. \n",
    "\n",
    "In general, averages are found afterwards by combining the integral and the area of the relavent subregion"
   ]
  },
  {
   "cell_type": "code",
   "execution_count": 75,
   "metadata": {
    "collapsed": false
   },
   "outputs": [],
   "source": [
    "###################\n",
    "#Volume Restriction functions\n",
    "###################\n",
    "\n",
    "#Level 1. Global\n",
    "globRestFn = fn.misc.constant(1.)\n",
    "\n",
    "#Level 2. Rock - air:\n",
    "rockRestFn = uw.swarm.SwarmVariable(gSwarm, dataType='double', count=1)\n",
    "rockRestFn.data[:] = 0.\n",
    "rockRestFn.data[np.where(materialVariable.data[:] != airIndex)] = 1.\n",
    "rockRestFn *= globRestFn #Add next level up in heirarchy\n",
    "\n",
    "\n",
    "#Level 3. lithosphere - mantle:\n",
    "tempMM = fn.view.min_max(temperatureField)\n",
    "tempMM.evaluate(mesh)\n",
    "TMAX = tempMM.max_global()\n",
    "mantleconditions = [ (                                  operator.and_(temperatureField < 0.9*TMAX, operator.and_(xFn> ndp.lRidge,xFn< ndp.rRidge )), 1.),\n",
    "                   (                                                   True , 0.) ]\n",
    "lithRestFn = fn.branching.conditional(mantleconditions)\n",
    "lithRestFn*=rockRestFn #Add next level up in heirarchy\n",
    "\n",
    "\n",
    "#Level 4. lower plate - upper plate:\n",
    "\n",
    "\n",
    "#This whole section simply builds a restriction Fn that separates the upper and lower plate \n",
    "#It's pretty cumbersome, and will need to advected, rebuilt\n",
    "#can YOU think of a better way?\n",
    "   \n",
    "lowerPlateRestFn = gSwarm.add_variable( dataType=\"double\", count=1 )\n",
    "lowerPlateRestFn.data[:] = 0.0\n",
    "sd, pts0 = fault.compute_signed_distance(gSwarm.particleCoordinates.data, distance=w0)\n",
    "sp, pts0 = fault.compute_marker_proximity(gSwarm.particleCoordinates.data, distance=w0)\n",
    "\n",
    "lowerPlateRestFn.data[np.logical_and(sd>0,sp == fault.ID)] = sp[np.logical_and(sd>0,sp == fault.ID)]\n",
    "lowerPlateRestFn *= lithRestFn #Add next level up in heirarchy\n",
    "#The lowerPlateRestFn isn't working on restart - no idea why\n",
    "\n",
    "\n",
    "\n",
    "#Level 5. hinge of lower plate:\n",
    "\n",
    "hinge60Spatialconditions = [ (           operator.and_( (depthFn < (60e3/dp.LS)),  (xFn > ndp.subzone - 60e3/dp.LS)), 1.),\n",
    "                   (                                                   True , 0.) ]\n",
    "\n",
    "hinge60RestFn = fn.branching.conditional(hinge60Spatialconditions)\n",
    "hinge60RestFn*=lowerPlateRestFn #Add next level up in heirarchy\n",
    "\n",
    "\n",
    "\n",
    "hinge180Spatialconditions = [ (           operator.and_( (depthFn < (180e3/dp.LS)),  (xFn > ndp.subzone - 180e3/dp.LS)), 1.),\n",
    "                   (                                                   True , 0.) ]\n",
    "\n",
    "hinge180RestFn = fn.branching.conditional(hinge180Spatialconditions)\n",
    "hinge180RestFn*=lowerPlateRestFn #Add next level up in heirarchy\n",
    "\n",
    "\n",
    "#Level 6. crust/interface in hinge of lower plate:\n",
    "\n",
    "interfaceRestFn = uw.swarm.SwarmVariable(gSwarm, dataType='double', count=1)\n",
    "interfaceRestFn.data[:] = 0.\n",
    "interfaceRestFn.data[np.where(materialVariable.data[:] == crustIndex)] = 1.\n",
    "interfaceRestFn *= hinge60RestFn #Add next level up in heirarchy\n"
   ]
  },
  {
   "cell_type": "code",
   "execution_count": 76,
   "metadata": {
    "collapsed": false
   },
   "outputs": [],
   "source": [
    "respltconditions = [ \n",
    "                    (                                  hinge60RestFn*2. > rockRestFn*1., 1.),\n",
    "                    (                                  lowerPlateRestFn*3. > hinge60RestFn*2. , 3.),\n",
    "                    (                                  lithRestFn*5. > lowerPlateRestFn*3. , 4.),\n",
    "                   (                                                   True , 0.) ]\n",
    "\n",
    "respltFn = fn.branching.conditional(respltconditions )"
   ]
  },
  {
   "cell_type": "code",
   "execution_count": 77,
   "metadata": {
    "collapsed": false
   },
   "outputs": [],
   "source": [
    "#figR= glucifer.Figure()\n",
    "#fig.append( glucifer.objects.Points(gSwarm,respltFn))\n",
    "#fig.append( glucifer.objects.Points(gSwarm,lithRestFn))\n",
    "#figR.append( glucifer.objects.Points(gSwarm,lowerPlateRestFn))\n",
    "#fig.append( glucifer.objects.Points(gSwarm,hinge180RestFn))\n",
    "#fig.append( glucifer.objects.Points(gSwarm,interfaceRestFn))\n",
    "#figR.show()\n",
    "#figR.save_database('lptest.gldb')"
   ]
  },
  {
   "cell_type": "code",
   "execution_count": 78,
   "metadata": {
    "collapsed": true
   },
   "outputs": [],
   "source": [
    "###################\n",
    "#Surface Restriction functions\n",
    "###################\n",
    "\n",
    "def platenessFn(val = 0.1):\n",
    "    normgradV = fn.math.abs(velocityField.fn_gradient[0]/fn.math.sqrt(velocityField[0]*velocityField[0])) #[du*/dx]/sqrt(u*u)\n",
    "\n",
    "\n",
    "\n",
    "    srconditions = [ (                                  normgradV < val, 1.),\n",
    "                   (                                                   True , 0.) ]\n",
    "\n",
    "\n",
    "    return fn.branching.conditional(srconditions)\n",
    "\n",
    "srRestFn = platenessFn(val = 0.1)"
   ]
  },
  {
   "cell_type": "code",
   "execution_count": 79,
   "metadata": {
    "collapsed": false
   },
   "outputs": [
    {
     "ename": "NameError",
     "evalue": "name 'viscosityMapFn1' is not defined",
     "output_type": "error",
     "traceback": [
      "\u001b[1;31m\u001b[0m",
      "\u001b[1;31mNameError\u001b[0mTraceback (most recent call last)",
      "\u001b[1;32m<ipython-input-79-f7aeaf3a94ed>\u001b[0m in \u001b[0;36m<module>\u001b[1;34m()\u001b[0m\n\u001b[0;32m      9\u001b[0m \u001b[0mdw\u001b[0m \u001b[1;33m=\u001b[0m \u001b[0mtemperatureField\u001b[0m\u001b[1;33m*\u001b[0m\u001b[0mvelocityField\u001b[0m\u001b[1;33m[\u001b[0m\u001b[1;36m1\u001b[0m\u001b[1;33m]\u001b[0m\u001b[1;33m\u001b[0m\u001b[0m\n\u001b[0;32m     10\u001b[0m \u001b[0msinner\u001b[0m \u001b[1;33m=\u001b[0m \u001b[0mfn\u001b[0m\u001b[1;33m.\u001b[0m\u001b[0mmath\u001b[0m\u001b[1;33m.\u001b[0m\u001b[0mdot\u001b[0m\u001b[1;33m(\u001b[0m \u001b[0mstrainRate_2ndInvariant\u001b[0m\u001b[1;33m,\u001b[0m \u001b[0mstrainRate_2ndInvariant\u001b[0m \u001b[1;33m)\u001b[0m\u001b[1;33m\u001b[0m\u001b[0m\n\u001b[1;32m---> 11\u001b[1;33m \u001b[0mvd\u001b[0m \u001b[1;33m=\u001b[0m \u001b[1;36m2.\u001b[0m\u001b[1;33m*\u001b[0m\u001b[0mviscosityMapFn1\u001b[0m\u001b[1;33m*\u001b[0m\u001b[0msinner\u001b[0m\u001b[1;33m\u001b[0m\u001b[0m\n\u001b[0m\u001b[0;32m     12\u001b[0m \u001b[0mdTdZ\u001b[0m \u001b[1;33m=\u001b[0m \u001b[0mtemperatureField\u001b[0m\u001b[1;33m.\u001b[0m\u001b[0mfn_gradient\u001b[0m\u001b[1;33m[\u001b[0m\u001b[1;36m1\u001b[0m\u001b[1;33m]\u001b[0m\u001b[1;33m\u001b[0m\u001b[0m\n\u001b[0;32m     13\u001b[0m \u001b[1;33m\u001b[0m\u001b[0m\n",
      "\u001b[1;31mNameError\u001b[0m: name 'viscosityMapFn1' is not defined"
     ]
    }
   ],
   "source": [
    "###################\n",
    "#Setup any Functions to be integrated\n",
    "###################\n",
    "\n",
    "sqrtv2 = fn.math.sqrt(fn.math.dot(velocityField,velocityField))\n",
    "vx = velocityField[0]\n",
    "v2x = fn.math.dot(velocityField[0],velocityField[0])\n",
    "sqrtv2x = fn.math.sqrt(fn.math.dot(velocityField[0],velocityField[0]))\n",
    "dw = temperatureField*velocityField[1]\n",
    "sinner = fn.math.dot( strainRate_2ndInvariant, strainRate_2ndInvariant )\n",
    "vd = 2.*viscosityMapFn1*sinner\n",
    "dTdZ = temperatureField.fn_gradient[1]\n",
    "\n"
   ]
  },
  {
   "cell_type": "code",
   "execution_count": 80,
   "metadata": {
    "collapsed": false
   },
   "outputs": [],
   "source": [
    "###################\n",
    "#Create integral, max/min templates \n",
    "###################\n",
    "\n",
    "def volumeint(Fn = 1., rFn=globRestFn):\n",
    "    return uw.utils.Integral( Fn*rFn,  mesh )\n",
    "\n",
    "def surfint(Fn = 1., rFn=globRestFn, surfaceIndexSet=mesh.specialSets[\"MaxJ_VertexSet\"]):\n",
    "    return uw.utils.Integral( Fn*rFn, mesh=mesh, integrationType='Surface', surfaceIndexSet=surfaceIndexSet)\n",
    "\n",
    "def maxMin(Fn = 1.):\n",
    "    #maxMin(Fn = 1., rFn=globRestFn\n",
    "    #vuFn = fn.view.min_max(Fn*rFn) #the restriction functions don't work with the view.min_max fn yet\n",
    "    vuFn = fn.view.min_max(Fn)\n",
    "    return vuFn\n",
    "    \n",
    "   \n",
    "    "
   ]
  },
  {
   "cell_type": "code",
   "execution_count": 81,
   "metadata": {
    "collapsed": false
   },
   "outputs": [
    {
     "ename": "NameError",
     "evalue": "name 'vd' is not defined",
     "output_type": "error",
     "traceback": [
      "\u001b[1;31m\u001b[0m",
      "\u001b[1;31mNameError\u001b[0mTraceback (most recent call last)",
      "\u001b[1;32m<ipython-input-81-d8313933e505>\u001b[0m in \u001b[0;36m<module>\u001b[1;34m()\u001b[0m\n\u001b[0;32m      7\u001b[0m \u001b[0m_rmsintRock\u001b[0m \u001b[1;33m=\u001b[0m \u001b[0mvolumeint\u001b[0m\u001b[1;33m(\u001b[0m\u001b[0msqrtv2\u001b[0m\u001b[1;33m,\u001b[0m\u001b[0mrockRestFn\u001b[0m\u001b[1;33m)\u001b[0m\u001b[1;33m\u001b[0m\u001b[0m\n\u001b[0;32m      8\u001b[0m \u001b[0m_dwintRock\u001b[0m \u001b[1;33m=\u001b[0m \u001b[0mvolumeint\u001b[0m\u001b[1;33m(\u001b[0m\u001b[0mdw\u001b[0m\u001b[1;33m,\u001b[0m\u001b[0mrockRestFn\u001b[0m\u001b[1;33m)\u001b[0m\u001b[1;33m\u001b[0m\u001b[0m\n\u001b[1;32m----> 9\u001b[1;33m \u001b[0m_vdintRock\u001b[0m \u001b[1;33m=\u001b[0m \u001b[0mvolumeint\u001b[0m\u001b[1;33m(\u001b[0m\u001b[0mvd\u001b[0m\u001b[1;33m,\u001b[0m\u001b[0mrockRestFn\u001b[0m\u001b[1;33m)\u001b[0m\u001b[1;33m\u001b[0m\u001b[0m\n\u001b[0m\u001b[0;32m     10\u001b[0m \u001b[1;33m\u001b[0m\u001b[0m\n\u001b[0;32m     11\u001b[0m \u001b[1;31m##Lith\u001b[0m\u001b[1;33m\u001b[0m\u001b[1;33m\u001b[0m\u001b[0m\n",
      "\u001b[1;31mNameError\u001b[0m: name 'vd' is not defined"
     ]
    }
   ],
   "source": [
    "#Setup volume integrals on different sub regions\n",
    "\n",
    "##Whole rock domain\n",
    "\n",
    "_areaintRock = volumeint(rockRestFn)\n",
    "_tempintRock = volumeint(temperatureField, rockRestFn)\n",
    "_rmsintRock = volumeint(sqrtv2,rockRestFn)\n",
    "_dwintRock = volumeint(dw,rockRestFn)\n",
    "_vdintRock = volumeint(vd,rockRestFn)\n",
    "\n",
    "##Lith \n",
    "\n",
    "_areaintLith  = volumeint(lithRestFn)\n",
    "_tempintLith  = volumeint(temperatureField, lithRestFn)\n",
    "_rmsintLith  = volumeint(sqrtv2,lithRestFn)\n",
    "_dwintLith  = volumeint(dw,lithRestFn)\n",
    "_vdintLith  = volumeint(vd,lithRestFn)\n",
    "\n",
    "##Lower plate\n",
    "\n",
    "_areaintLower  = volumeint(lowerPlateRestFn)\n",
    "_tempintLower  = volumeint(temperatureField, lowerPlateRestFn)\n",
    "_rmsintLower  = volumeint(sqrtv2,lowerPlateRestFn)\n",
    "_dwintLower = volumeint(dw,lowerPlateRestFn)\n",
    "_vdintLower  = volumeint(vd,lowerPlateRestFn)\n",
    "\n",
    "##Hinge lower plate\n",
    "\n",
    "_areaintHinge180  = volumeint(hinge180RestFn)\n",
    "_vdintHinge180  = volumeint(vd,hinge180RestFn)\n",
    "\n",
    "_areaintHinge60  = volumeint(hinge60RestFn)\n",
    "_vdintHinge60  = volumeint(vd,hinge60RestFn)\n",
    "\n",
    "\n",
    "##Interface\n",
    "\n",
    "_areaintInterface  = volumeint(interfaceRestFn)\n",
    "_vdintInterface = volumeint(vd,interfaceRestFn)"
   ]
  },
  {
   "cell_type": "code",
   "execution_count": 82,
   "metadata": {
    "collapsed": false
   },
   "outputs": [
    {
     "ename": "NameError",
     "evalue": "name 'dTdZ' is not defined",
     "output_type": "error",
     "traceback": [
      "\u001b[1;31m\u001b[0m",
      "\u001b[1;31mNameError\u001b[0mTraceback (most recent call last)",
      "\u001b[1;32m<ipython-input-82-31a434933dac>\u001b[0m in \u001b[0;36m<module>\u001b[1;34m()\u001b[0m\n\u001b[0;32m      3\u001b[0m \u001b[0m_surfLength\u001b[0m \u001b[1;33m=\u001b[0m \u001b[0msurfint\u001b[0m\u001b[1;33m(\u001b[0m\u001b[1;33m)\u001b[0m\u001b[1;33m\u001b[0m\u001b[0m\n\u001b[0;32m      4\u001b[0m \u001b[0m_rmsSurf\u001b[0m \u001b[1;33m=\u001b[0m \u001b[0msurfint\u001b[0m\u001b[1;33m(\u001b[0m\u001b[0mv2x\u001b[0m\u001b[1;33m)\u001b[0m\u001b[1;33m\u001b[0m\u001b[0m\n\u001b[1;32m----> 5\u001b[1;33m \u001b[0m_nuTop\u001b[0m \u001b[1;33m=\u001b[0m \u001b[0msurfint\u001b[0m\u001b[1;33m(\u001b[0m\u001b[0mdTdZ\u001b[0m\u001b[1;33m)\u001b[0m\u001b[1;33m\u001b[0m\u001b[0m\n\u001b[0m\u001b[0;32m      6\u001b[0m \u001b[0m_nuBottom\u001b[0m \u001b[1;33m=\u001b[0m \u001b[0msurfint\u001b[0m\u001b[1;33m(\u001b[0m\u001b[0mdTdZ\u001b[0m\u001b[1;33m,\u001b[0m \u001b[0msurfaceIndexSet\u001b[0m\u001b[1;33m=\u001b[0m\u001b[0mmesh\u001b[0m\u001b[1;33m.\u001b[0m\u001b[0mspecialSets\u001b[0m\u001b[1;33m[\u001b[0m\u001b[1;34m\"MinJ_VertexSet\"\u001b[0m\u001b[1;33m]\u001b[0m\u001b[1;33m)\u001b[0m\u001b[1;33m\u001b[0m\u001b[0m\n\u001b[0;32m      7\u001b[0m \u001b[0m_plateness\u001b[0m \u001b[1;33m=\u001b[0m \u001b[0msurfint\u001b[0m\u001b[1;33m(\u001b[0m\u001b[0msrRestFn\u001b[0m\u001b[1;33m)\u001b[0m\u001b[1;33m\u001b[0m\u001b[0m\n",
      "\u001b[1;31mNameError\u001b[0m: name 'dTdZ' is not defined"
     ]
    }
   ],
   "source": [
    "#Setup surface integrals\n",
    "\n",
    "_surfLength = surfint()\n",
    "_rmsSurf = surfint(sqrtv2x)\n",
    "_nuTop = surfint(dTdZ)\n",
    "_nuBottom = surfint(dTdZ, surfaceIndexSet=mesh.specialSets[\"MinJ_VertexSet\"])\n",
    "_plateness = surfint(srRestFn)\n",
    "_pressure = surfint(pressureField)"
   ]
  },
  {
   "cell_type": "code",
   "execution_count": 83,
   "metadata": {
    "collapsed": false
   },
   "outputs": [],
   "source": [
    "#Setup max min fns (at the moment, we can't pass restriction function to view.min_max, so we're limited to whole volume or surface extrema)\n",
    "\n",
    "##Whole rock domain\n",
    "\n",
    "#_maxMinVisc = maxMin(viscosityMapFn1)  #These don't work on swarm variables or mapping functions, yet\n",
    "#dummyFn = _maxMinVisc.evaluate(mesh)\n",
    "#_maxMinStressInv = maxMin(2*viscosityMapFn1*strainRate_2ndInvariant) #These don't work on swarm variables or mapping functions, yet\n",
    "#dummyFn = _maxMinStress.evaluate(mesh)\n",
    "#_maxMinVd = maxMin(vd) #These don't work on swarm variables or mapping functions, yet\n",
    "#dummyFn = _maxMinVd.evaluate(mesh)\n",
    "\n",
    "\n",
    "_maxMinVel = maxMin(velocityField) \n",
    "dummyFn = _maxMinVel.evaluate(mesh)\n",
    "\n",
    "_maxMinSr = maxMin(strainRate_2ndInvariant) \n",
    "dummyFn = _maxMinSr.evaluate(mesh)\n",
    "\n",
    "\n",
    "#Surface extrema\n",
    "_maxMinVxSurf = maxMin(vx)\n",
    "dummyFn = _maxMinVxSurf.evaluate(tWalls)\n"
   ]
  },
  {
   "cell_type": "code",
   "execution_count": 90,
   "metadata": {
    "collapsed": false
   },
   "outputs": [],
   "source": [
    "#Volume Ints\n",
    "areaintRock = _areaintRock.evaluate()[0]\n",
    "tempintRock = _tempintRock.evaluate()[0]\n",
    "rmsintRock = _rmsintRock.evaluate()[0]\n",
    "dwintRock = _dwintRock.evaluate()[0]\n",
    "vdintRock = _vdintRock.evaluate()[0]\n",
    "areaintLith = _areaintLith.evaluate()[0]\n",
    "tempintLith = _tempintLith.evaluate()[0]\n",
    "rmsintLith = _rmsintLith.evaluate()[0]\n",
    "dwintLith = _dwintLith.evaluate()[0]\n",
    "vdintLith = _vdintLith.evaluate()[0]\n",
    "areaintLower = _areaintLower.evaluate()[0]\n",
    "tempintLower = _tempintLower.evaluate()[0]\n",
    "rmsintLower = _rmsintLower.evaluate()[0]\n",
    "dwintLower = _dwintLower.evaluate()[0]\n",
    "vdintLower = _vdintLower.evaluate()[0]\n",
    "vdintHinge180 = _vdintHinge180.evaluate()[0]\n",
    "areaintHinge180 = _areaintHinge180.evaluate()[0]\n",
    "vdintHinge60 = _vdintHinge60.evaluate()[0]\n",
    "areaintHinge60= _areaintHinge60.evaluate()[0]\n",
    "vdintInterface = _vdintInterface.evaluate()[0]\n",
    "areaintInterface= _areaintInterface.evaluate()[0]\n",
    "\n",
    "#Surface Ints\n",
    "surfLength = _surfLength.evaluate()[0]\n",
    "rmsSurf = _rmsSurf.evaluate()[0]\n",
    "nuTop = _nuTop.evaluate()[0]\n",
    "nuBottom = _nuBottom.evaluate()[0]\n",
    "plateness = _plateness.evaluate()[0]\n",
    "pressureSurf = _pressure.evaluate()[0]\n",
    "\n",
    "#Max mins\n",
    "maxVel = _maxMinVel.max_global()\n",
    "minVel = _maxMinVel.min_global() \n",
    "maxSr = _maxMinSr.max_global()\n",
    "minSr = _maxMinSr.min_global()\n",
    "maxVxsurf = _maxMinVxSurf.max_global()\n",
    "minVxsurf = _maxMinVxSurf.min_global()"
   ]
  },
  {
   "cell_type": "markdown",
   "metadata": {
    "collapsed": false
   },
   "source": [
    "print(areaintRock)\n",
    "print(tempintRock)\n",
    "print(rmsintRock)\n",
    "print(dwintRock)\n",
    "print(vdintRock)\n",
    "print(areaintLith)\n",
    "print(tempintLith )\n",
    "print(rmsintLith)\n",
    "print(dwintLith)\n",
    "print(vdintLith)\n",
    "print(areaintLower)\n",
    "print(tempintLower)\n",
    "print(rmsintLower) \n",
    "print(dwintLower)\n",
    "print(vdintLower)\n",
    "print(vdintHinge60)\n",
    "print(vdintHinge180)\n",
    "print(vdintInterface)\n",
    "\n",
    "print(surfLength)\n",
    "print(rmsSurf)\n",
    "print(nuTop)\n",
    "print(nuBottom)\n",
    "print(plateness)\n",
    "\n",
    "\n",
    "print(maxVel)\n",
    "print(minVel)\n",
    "print(maxSr)\n",
    "print(minSr)\n",
    "print(maxVxsurf)\n",
    "print(minVxsurf)"
   ]
  },
  {
   "cell_type": "markdown",
   "metadata": {},
   "source": [
    "Viz.\n",
    "-----"
   ]
  },
  {
   "cell_type": "code",
   "execution_count": 102,
   "metadata": {
    "collapsed": false
   },
   "outputs": [],
   "source": [
    "#Build a depth dependent mask for the vizualisation\n",
    "\n",
    "depthVariable      = gSwarm.add_variable( dataType=\"float\", count=1 )\n",
    "depthVariable.data[:] = depthFn.evaluate(gSwarm)\n",
    "\n",
    "vizVariable      = gSwarm.add_variable( dataType=\"int\", count=1 )\n",
    "vizVariable.data[:] = 0\n",
    "\n",
    "for index, value in enumerate(depthVariable.data[:]):\n",
    "    #print index, value\n",
    "    if np.random.rand(1)**5 > value/(MAXY - MINY):\n",
    "        vizVariable.data[index] = 1\n",
    "        \n",
    "del index, value    #get rid of any variables that might be pointing at the .data handles (these are!)"
   ]
  },
  {
   "cell_type": "code",
   "execution_count": 109,
   "metadata": {
    "collapsed": false
   },
   "outputs": [],
   "source": [
    "if figures == 'gldb':\n",
    "    #Pack some stuff into a database as well\n",
    "    figDb = glucifer.Figure()\n",
    "    #figDb.append( glucifer.objects.Points(swarmPlateBoundary, pointSize=4))\n",
    "    #figDb.append( glucifer.objects.Mesh(mesh))\n",
    "    #figDb.append( glucifer.objects.VectorArrows(mesh,velocityField, scaling=0.0005))\n",
    "    #figDb.append( glucifer.objects.Points(gSwarm,tracerVariable, colours= 'white black'))\n",
    "    figDb.append( glucifer.objects.Points(gSwarm,materialVariable))\n",
    "    \n",
    "    #figDb.append( glucifer.objects.Points(gSwarm,viscMinVariable))\n",
    "    figDb.append( glucifer.objects.Points(gSwarm, ageVariable))\n",
    "    #figDb.append( glucifer.objects.Points(gSwarm, viscosityMapFn1, logScale=True))\n",
    "    #figDb.append( glucifer.objects.Points(gSwarm, strainRate_2ndInvariant, logScale=True))\n",
    "    #figDb.append( glucifer.objects.Points(gSwarm,temperatureField))\n",
    "    #figDb.append( glucifer.objects.Points(gSwarm,pressureField))\n",
    "    figDb.append( glucifer.objects.Points(fault.swarm, pointSize=3))\n",
    "    \n",
    "    \n",
    "    #figRestrict= glucifer.Figure()\n",
    "    #figRestrict.append( glucifer.objects.Points(gSwarm,respltFn))\n",
    "    #figRestrict.append( glucifer.objects.Points(gSwarm,lithRestFn))\n",
    "    #figRestrict.append( glucifer.objects.Points(gSwarm,lowerPlateRestFn))\n",
    "    #figRestrict.append( glucifer.objects.Points(gSwarm,hinge180RestFn))\n",
    "    #figRestrict.append( glucifer.objects.Points(gSwarm,interfaceRestFn))\n",
    "    #figRestrict.append( glucifer.objects.Points(interfaces[0].swarm, colours=\"Blue Blue\", pointSize=2.0, colourBar=False) )\n",
    "    #figRestrict.append( glucifer.objects.Points(interfaces[1].swarm, colours=\"Red Red\", pointSize=2.0, colourBar=False) )\n",
    "    #figRestrict.append( glucifer.objects.Points(slab_seg.swarm, colours=\"Black Black\", pointSize=2.0, colourBar=False) )\n",
    "\n",
    "elif figures == 'store':\n",
    "    fullpath = os.path.join(outputPath + \"gldbs/\")\n",
    "    store1 = glucifer.Store(fullpath + 'subduction1.gldb')\n",
    "    store2 = glucifer.Store(fullpath + 'subduction2.gldb')\n",
    "    store3 = glucifer.Store(fullpath + 'subduction3.gldb')\n",
    "\n",
    "\n",
    "    figTemp = glucifer.Figure(store1,figsize=(300*np.round(md.aspectRatio,2),300))\n",
    "    figTemp.append( glucifer.objects.Points(gSwarm,temperatureField, fn_mask=vizVariable))\n",
    "\n",
    "    figVisc= glucifer.Figure(store2, figsize=(300*np.round(md.aspectRatio,2),300))\n",
    "    figVisc.append( glucifer.objects.Points(gSwarm,viscosityMapFn1, logScale=True, valueRange =[1.,1e5], fn_mask=vizVariable))\n",
    "\n",
    "\n",
    "    figMat= glucifer.Figure(store3, figsize=(300*np.round(md.aspectRatio,2),300))\n",
    "    #fn_mask=vizVariable\n",
    "    #matPoints = glucifer.objects.Points(gSwarm,materialVariable, fn_mask=vizVariable)\n",
    "    figMat.append(glucifer.objects.Points(gSwarm,materialVariable, fn_mask=vizVariable))\n",
    "    #matPoints._fn_mask = uw.function.Function.convert(fn_mask)\n",
    "    #figMat.append(matPoints )\n",
    "    #figMat.append( glucifer.objects.Points(fault.swarm, pointSize=3))\n",
    "    #figMat.append( glucifer.objects.Points(swarmPlateBoundary, pointSize=4))"
   ]
  },
  {
   "cell_type": "code",
   "execution_count": 113,
   "metadata": {
    "collapsed": false
   },
   "outputs": [],
   "source": [
    "#figTemp.show()"
   ]
  },
  {
   "cell_type": "code",
   "execution_count": 98,
   "metadata": {
    "collapsed": true
   },
   "outputs": [],
   "source": [
    "#matPoints = glucifer.objects.Points(gSwarm,materialVariable, fn_mask=vizVariable)\n",
    "#figMat= glucifer.Figure(store3, figsize=(300*np.round(md.aspectRatio,2),300))\n",
    "#figMat.append(matPoints )"
   ]
  },
  {
   "cell_type": "markdown",
   "metadata": {},
   "source": [
    "**Miscellania**"
   ]
  },
  {
   "cell_type": "code",
   "execution_count": 93,
   "metadata": {
    "collapsed": false
   },
   "outputs": [
    {
     "name": "stderr",
     "output_type": "stream",
     "text": [
      "/usr/local/lib/python2.7/dist-packages/numpy/core/numeric.py:190: VisibleDeprecationWarning: using a non-integer number instead of an integer will result in an error in the future\n",
      "  a = empty(shape, dtype, order)\n"
     ]
    }
   ],
   "source": [
    "##############\n",
    "#Create a numpy array at the surface to get surface information on (using parallel-friendly evaluate_global)\n",
    "##############\n",
    "\n",
    "surface_xs = np.linspace(mesh.minCoord[0], mesh.maxCoord[0], mesh.elementRes[0] + 1)\n",
    "surface_nodes = np.array(zip(surface_xs, np.ones(len(surface_xs)*mesh.maxCoord[1]))) #For evaluation surface velocity\n",
    "normgradV = velocityField.fn_gradient[0]/fn.math.sqrt(velocityField[0]*velocityField[0])\n",
    "\n",
    "tempMM = fn.view.min_max(temperatureField)\n",
    "dummy = tempMM.evaluate(mesh)\n",
    "\n"
   ]
  },
  {
   "cell_type": "code",
   "execution_count": null,
   "metadata": {
    "collapsed": true
   },
   "outputs": [],
   "source": []
  },
  {
   "cell_type": "code",
   "execution_count": 94,
   "metadata": {
    "collapsed": false
   },
   "outputs": [],
   "source": [
    "##############\n",
    "#These functions handle checkpointing\n",
    "##############\n",
    "\n",
    "\n",
    "#Subzone = ndp.subzone\n",
    "\n",
    "\n",
    "def checkpoint1(step, checkpointPath,filename, filewrites):\n",
    "    path = checkpointPath + str(step) \n",
    "    os.mkdir(path)\n",
    "    ##Write and save the file, if not already a writing step\n",
    "    if not step % filewrites == 0:\n",
    "        f_o.write((30*'%-15s ' + '\\n') % (areaintRock, tempintRock, rmsintRock, dwintRock, vdintRock,\n",
    "                                  areaintLith, tempintLith,rmsintLith, dwintLith, vdintLith,\n",
    "                                  areaintLower, tempintLower, rmsintLower, dwintLower, vdintLower, \n",
    "                                  areaintHinge180,vdintHinge180, areaintHinge60, vdintHinge60, \n",
    "                                  areaintInterface, vdintInterface, vdintInterface,\n",
    "                                  rmsSurf, nuTop, nuBottom, plateness, ndp.subzone,ndp.lRidge, ndp.rRidge, realtime))\n",
    "    filename.close()\n",
    "    shutil.copyfile(os.path.join(outputPath, outputFile), os.path.join(path, outputFile))\n",
    "\n",
    "\n",
    "def checkpoint2(step, checkpointPath, swarm, filename, varlist = [materialVariable], varnames = ['materialVariable']):\n",
    "    path = checkpointPath + str(step) \n",
    "    velfile = \"velocityField\" + \".hdf5\"\n",
    "    tempfile = \"temperatureField\" + \".hdf5\"\n",
    "    pressfile = \"pressureField\" + \".hdf5\"\n",
    "    velocityField.save(os.path.join(path, velfile))\n",
    "    temperatureField.save(os.path.join(path, tempfile))\n",
    "    pressureField.save(os.path.join(path, pressfile))\n",
    "    swarm.save(os.path.join(path, \"swarm.h5\") ) \n",
    "    for ix in range(len(varlist)):\n",
    "        varb = varlist[ix]\n",
    "        varb.save(os.path.join(path,varnames[ix] + \".h5\"))\n",
    "    \n",
    "    #Save the parameters\n",
    "    dict_list = [dp, sf, ndp, md] #if any of the dictionaries have changed, this list needs to be rebuilt\n",
    "    save_pickles(dict_list, dict_names, path)\n",
    "    \n",
    "#Simple Checkpoint function for the faults / interfaces (markerLine2D)\n",
    "def checkpoint3(step,  checkpointPath, interfaces,interfacenames ):\n",
    "    path = checkpointPath + str(step)\n",
    "    for ix in range(len(interfaces)):\n",
    "        intf = interfaces[ix]\n",
    "        intf.swarm.save(os.path.join(path,interfacenames[ix] + \".h5\"))\n",
    "    \n",
    "    "
   ]
  },
  {
   "cell_type": "code",
   "execution_count": 95,
   "metadata": {
    "collapsed": false
   },
   "outputs": [],
   "source": [
    "def plate_infoFn(velocityField,xFn,  depthLimit, xsearchlim = 1.0, currentloc = 0.0, plateType='convergent'):\n",
    "    \"\"\"\n",
    "    This functions is used to track the plate boundaries in 2D.\n",
    "    It returns the x value of the max / min of the x velocity gradient.\n",
    "    \n",
    "    \"\"\"\n",
    "    \n",
    "    #Restriction fucntion \n",
    "    restictionFn = fn.branching.conditional([(operator.and_(fn.math.abs(xFn - currentloc) < xsearchlim, depthFn < depthLimit) , 1.),                                       \n",
    "                                             (True, 0.0)])\n",
    "    \n",
    "    #Normalised surface vel gradient\n",
    "    normgradV = velocityField.fn_gradient[0]/fn.math.sqrt(velocityField[0]*velocityField[0])\n",
    "\n",
    "    \n",
    "    plateFn0 = normgradV*restictionFn\n",
    "    \n",
    "    plateFn = fn.branching.conditional([(plateFn0 > 1e20, 0.),             #This attempts to fix inf values that appear at sidewalls                          \n",
    "                                             (True, plateFn0)])\n",
    "    \n",
    "    extremFn = fn.view.min_max(plateFn)\n",
    "    dummy = extremFn.evaluate(mesh)\n",
    "    \n",
    "    \n",
    "    print(extremFn.min_global(), extremFn.max_global())\n",
    "\n",
    "    #get global max\n",
    "    if plateType == 'convergent':   \n",
    "        testFn = fn.branching.conditional([(extremFn < extremFn.min_global() + 1e-10, coordinate[0]),                                       \n",
    "                                             (True, (-9999999.))])\n",
    "        extremFn2 = fn.view.min_max(testFn)\n",
    "        dummy2 = extremFn2.evaluate(mesh)\n",
    "        if extremFn2.max_global() == -9999999.:\n",
    "            return currentloc\n",
    "        else:\n",
    "            return extremFn2.max_global()\n",
    "    elif plateType == 'divergent':\n",
    "        testFn = fn.branching.conditional([(extremFn > extremFn.max_global() - 1e-3, coordinate[0]),                                       \n",
    "                                             (True, (-9999999.))])\n",
    "        extremFn2 = fn.view.min_max(testFn)\n",
    "        dummy2 = extremFn2.evaluate(mesh)\n",
    "        if extremFn2.max_global() == -9999999.:\n",
    "            return currentloc\n",
    "        else:\n",
    "            return extremFn2.max_global()\n",
    "    else:\n",
    "        raise ValueError('plateType should be one of convergent/divergent')"
   ]
  },
  {
   "cell_type": "code",
   "execution_count": 96,
   "metadata": {
    "collapsed": true
   },
   "outputs": [],
   "source": [
    "from scipy.spatial import cKDTree as kdTree\n",
    "\n",
    "def nn_evaluation(fromSwarm, toSwarm, n=1, weighted=False):\n",
    "    \"\"\"\n",
    "    This function provides nearest neighbour information for uw swarms, \n",
    "    given the \"toSwarm\", this function returns the indices of the n nearest neighbours in \"fromSwarm\"\n",
    "    it also returns the inverse-distance if weighted=True. \n",
    "    \n",
    "    The function works in parallel.\n",
    "    \n",
    "    The arrays come out a bit differently when used in nearest neighbour form\n",
    "    (n = 1), or IDW: (n > 1). The examples belowe show how to fill out a swarm variable in each case. \n",
    "    \n",
    "    \n",
    "    Usage n = 1:\n",
    "    ------------\n",
    "    ix, weights = nn_evaluation(swarm, fault.swarm, n=n, weighted=False)\n",
    "    toSwarmVar.data[:][:,0] =  fromSwarmVar.evaluate(fromSwarm)[_ix][:,0]\n",
    "    \n",
    "    Usage n > 1:\n",
    "    ------------\n",
    "    ix, weights = nn_evaluation(swarm, fault.swarm, n=n, weighted=False)\n",
    "    toSwarmVar.data[:][:,0] =  np.average(fromSwarmVar.evaluate(fromSwarm)[ix][:,:,0], weights=weights, axis=1)\n",
    "    \n",
    "    \"\"\"\n",
    "    \n",
    "    #print(\"fromSwarm data shape\", fromSwarm.particleCoordinates.data.shape)\n",
    "    \n",
    "    if len(toSwarm.particleCoordinates.data) > 0: #this is required for safety in parallel\n",
    "        \n",
    "        #we rebuild the tree as we assume the fromSwarm is being advected\n",
    "        fromSwarm.tree = kdTree(fromSwarm.particleCoordinates.data) \n",
    "        tree = fromSwarm.tree\n",
    "        d, ix = tree.query(toSwarm.particleCoordinates.data, n)\n",
    "        if n == 1:\n",
    "            weights = np.ones(toSwarm.particleCoordinates.data.shape[0])\n",
    "        elif not weighted:\n",
    "            weights = np.ones((toSwarm.particleCoordinates.data.shape[0], n))*(1./n)\n",
    "        else:\n",
    "            weights = (1./d[:])/(1./d[:]).sum(axis=1)[:,None]\n",
    "        return ix,  weights \n",
    "    else:\n",
    "        return  np.empty(0., dtype=\"int\"),  np.empty(0., dtype=\"int\")"
   ]
  },
  {
   "cell_type": "code",
   "execution_count": 97,
   "metadata": {
    "collapsed": false
   },
   "outputs": [],
   "source": [
    "# initialise timer for computation\n",
    "start = time.clock()\n"
   ]
  },
  {
   "cell_type": "markdown",
   "metadata": {},
   "source": [
    "Main simulation loop\n",
    "-----\n"
   ]
  },
  {
   "cell_type": "code",
   "execution_count": 65,
   "metadata": {
    "collapsed": false
   },
   "outputs": [
    {
     "ename": "NameError",
     "evalue": "name 'solver' is not defined",
     "output_type": "error",
     "traceback": [
      "\u001b[1;31m\u001b[0m",
      "\u001b[1;31mNameError\u001b[0mTraceback (most recent call last)",
      "\u001b[1;32m<ipython-input-65-702559f5d346>\u001b[0m in \u001b[0;36m<module>\u001b[1;34m()\u001b[0m\n\u001b[0;32m      3\u001b[0m \u001b[1;33m\u001b[0m\u001b[0m\n\u001b[0;32m      4\u001b[0m     \u001b[1;31m# solve Stokes and advection systems\u001b[0m\u001b[1;33m\u001b[0m\u001b[1;33m\u001b[0m\u001b[0m\n\u001b[1;32m----> 5\u001b[1;33m     \u001b[0msolver\u001b[0m\u001b[1;33m.\u001b[0m\u001b[0msolve\u001b[0m\u001b[1;33m(\u001b[0m\u001b[0mnonLinearIterate\u001b[0m\u001b[1;33m=\u001b[0m\u001b[0mTrue\u001b[0m\u001b[1;33m)\u001b[0m\u001b[1;33m\u001b[0m\u001b[0m\n\u001b[0m\u001b[0;32m      6\u001b[0m \u001b[1;33m\u001b[0m\u001b[0m\n\u001b[0;32m      7\u001b[0m     \u001b[1;31m#remove drift /null space in pressure\u001b[0m\u001b[1;33m\u001b[0m\u001b[1;33m\u001b[0m\u001b[0m\n",
      "\u001b[1;31mNameError\u001b[0m: name 'solver' is not defined"
     ]
    }
   ],
   "source": [
    "#while step < 6:\n",
    "while realtime < 0.00004:\n",
    "\n",
    "    # solve Stokes and advection systems\n",
    "    solver.solve(nonLinearIterate=True)\n",
    "    \n",
    "    #remove drift /null space in pressure\n",
    "    pressureField.data[:] -= pressureSurf/surfLength\n",
    "    \n",
    "    \n",
    "    dt = advDiff.get_max_dt()\n",
    "    if step == 0:\n",
    "        dt = 0.\n",
    "    advDiff.integrate(dt)\n",
    "    passiveadvector.integrate(dt)\n",
    "    #advect any interfaces\n",
    "    fault.advection(dt)\n",
    "    \n",
    "    \n",
    "    \n",
    "    # Increment\n",
    "    realtime += dt\n",
    "    step += 1\n",
    "    timevals.append(realtime)\n",
    "    ################\n",
    "    #Update temperature field in the air region\n",
    "    #Do this better...\n",
    "    ################\n",
    "    if (step % sticky_air_temp == 0):\n",
    "        for index, coord in enumerate(mesh.data):\n",
    "            if coord[1] >= 1.:\n",
    "                temperatureField.data[index] = ndp.TSP\n",
    "                \n",
    "    ################\n",
    "    #Files output\n",
    "    ################ \n",
    "    if (step % files_output == 0):\n",
    "        \n",
    "        gSwarm.update_particle_owners()\n",
    "        \n",
    "        #Save the fault swarm\n",
    "        fnametemp1 = \"faultSwarm\" + \"_\" + str(step)\n",
    "        fullpath1 = os.path.join(outputPath + \"files/\" + fnametemp1)\n",
    "        fault.swarm.save(fullpath1)\n",
    "        \n",
    "        #build a metric swarm and save values\n",
    "        #Copy the fault and jitter, this is the swarm we'll capture inteface details on \n",
    "\n",
    "        metricSwarm  = copy_markerLine2D(fault)\n",
    "        \n",
    "        #translate the metric swarm into desired location\n",
    "        ds = ndp.MANTLETOCRUST/2.\n",
    "        with metricSwarm.swarm.deform_swarm():\n",
    "            metricSwarm.swarm.particleCoordinates.data[...] -= metricSwarm.director.data[...]*ds\n",
    "            \n",
    "        \n",
    "        gSwarm.update_particle_owners()\n",
    "        metricSwarm.swarm.update_particle_owners()\n",
    "         \n",
    "        comm.barrier()\n",
    "        #build the arrays for nearest neighbour evaluation on the metric swarm\n",
    "        _ix, _weights = nn_evaluation(gSwarm, metricSwarm.swarm, n=5, weighted=True)\n",
    "        #_ix, _weights = nn_evaluation(gSwarm, metricSwarm.swarm, n=1, weighted=False)\n",
    "        \n",
    "        \n",
    "        \n",
    "        #set up some swarm variables\n",
    "        interfaceSinv = metricSwarm.swarm.add_variable( dataType=\"float\", count=1 )\n",
    "        if len(metricSwarm.swarm.particleCoordinates.data) > 0:\n",
    "            interfaceSinv.data[:] = strainRate_2ndInvariant.evaluate(metricSwarm.swarm)\n",
    "        \n",
    "        interfaceVisc = metricSwarm.swarm.add_variable( dataType=\"float\", count=1 )\n",
    "        if len(metricSwarm.swarm.particleCoordinates.data) > 0:\n",
    "            interfaceVisc.data[:][:,0] = np.average(viscosityMapFn1.evaluate(gSwarm)[_ix][:,:,0], weights=_weights, axis=1)\n",
    "\n",
    "    \n",
    "        interfaceStress = metricSwarm.swarm.add_variable( dataType=\"float\", count=1 )\n",
    "        if len(metricSwarm.swarm.particleCoordinates.data) > 0:\n",
    "            interfaceStress.data[:][:,0] = np.average(swarmStressFn.evaluate(gSwarm)[_ix][:,:,0], weights=_weights, axis=1)\n",
    "\n",
    "        \n",
    "        uw.barrier()\n",
    "        #Save metric swarm and swarm vars. \n",
    "        fnametemp = \"metricSwarm\" + \"_\" + str(step) + '.h5'\n",
    "        fullpath = os.path.join(outputPath + \"files/\" + fnametemp)\n",
    "        metricSwarm.swarm.save(fullpath)\n",
    "        #\n",
    "        uw.barrier()\n",
    "        fnametemp = \"interfaceSinv\" + \"_\" + str(step)+ '.h5'\n",
    "        fullpath = os.path.join(outputPath + \"files/\" + fnametemp)\n",
    "        interfaceSinv.save(fullpath)\n",
    "        #\n",
    "        uw.barrier()\n",
    "        fnametemp = \"interfaceVisc\" + \"_\" + str(step) + '.h5'\n",
    "        fullpath = os.path.join(outputPath + \"files/\" + fnametemp)\n",
    "        interfaceVisc.save(fullpath)\n",
    "        #\n",
    "        uw.barrier()\n",
    "        fnametemp = \"interfaceStress\" + \"_\" + str(step) + '.h5'\n",
    "        fullpath = os.path.join(outputPath + \"files/\" + fnametemp)\n",
    "        interfaceStress.save(fullpath)\n",
    "        \n",
    "        \n",
    "        del metricSwarm, interfaceSinv, interfaceVisc,interfaceStress, _ix, _weights #now delete them\n",
    "        \n",
    "        #Now the surface x vels.\n",
    "        surfaceVelx.data[...] = velocityField[0].evaluate(surface.swarm)\n",
    "        fnametemp = \"velxSurface\" + \"_\" + str(step) + '.h5'\n",
    "        fullpath = os.path.join(outputPath + \"files/\" + fnametemp)\n",
    "        surfaceVelx.save(fullpath)\n",
    "\n",
    "    ################\n",
    "    #Fault / interface repair\n",
    "    ################    \n",
    "    #Any functions to do with repairing the interfaces should go here\n",
    "    \n",
    "                \n",
    "    ################\n",
    "    #Update the subduction zone / plate information\n",
    "    ################ \n",
    "    \n",
    "    comm.barrier()\n",
    "    if (step % files_output == 0):\n",
    "        \n",
    "\n",
    "        ndp.subzone = plate_infoFn(velocityField,xFn,  20e3/dp.LS, xsearchlim = 200e3/dp.LS, currentloc = ndp.subzone, plateType='convergent')\n",
    "        ndp.lRidge = plate_infoFn(velocityField,xFn,  20e3/dp.LS, xsearchlim = 200e3/dp.LS, currentloc = ndp.lRidge, plateType='divergent')\n",
    "        ndp.rRidge = plate_infoFn(velocityField,xFn,  20e3/dp.LS, xsearchlim = 200e3/dp.LS, currentloc = ndp.rRidge, plateType='divergent')\n",
    "\n",
    "                \n",
    "    ################\n",
    "    # Calculate the Metrics\n",
    "    ################\n",
    "    if (step % metric_output == 0):\n",
    "        ###############\n",
    "        #Rebuild the restriction functions where necessary\n",
    "        ###############\n",
    "        \n",
    "        #Lithosphere - mantle:\n",
    "        tempMM = fn.view.min_max(temperatureField)\n",
    "        tempMM.evaluate(mesh)\n",
    "        TMAX = tempMM.max_global()\n",
    "        mantleconditions = [ (                                  operator.and_(temperatureField < 0.9*TMAX, operator.and_(xFn> ndp.lRidge,xFn< ndp.rRidge )), 1.),\n",
    "                   (                                                   True , 0.) ]\n",
    "        lithRestFn = fn.branching.conditional(mantleconditions)\n",
    "        lithRestFn*=rockRestFn #Add next level up in heirarchy\n",
    "        \n",
    "        #Lower plate\n",
    "        \n",
    "        lowerPlateRestFn = gSwarm.add_variable( dataType=\"double\", count=1 ) #weirdly we have to rebuild this one...\n",
    "        lowerPlateRestFn.data[:] = 0.0\n",
    "        sd, pts0 = fault.compute_signed_distance(gSwarm.particleCoordinates.data, distance=w0)\n",
    "        sp, pts0 = fault.compute_marker_proximity(gSwarm.particleCoordinates.data, distance=w0)\n",
    "        lowerPlateRestFn.data[np.logical_and(sd>0,sp == fault.ID)] = sp[np.logical_and(sd>0,sp == fault.ID)]\n",
    "        lowerPlateRestFn *= lithRestFn #Add next level up in heirarchy\n",
    "        \n",
    "        #Hinge\n",
    "        \n",
    "        hinge60Spatialconditions = [ (           operator.and_( (depthFn < MAXY - (60e3/dp.LS)),  (xFn > ndp.subzone - 60e3/dp.LS)), 1.),\n",
    "                   (                                                   True , 0.) ]\n",
    "        hinge60RestFn = fn.branching.conditional(hinge60Spatialconditions)\n",
    "        hinge60RestFn*=lowerPlateRestFn #Add next level up in hierarchy\n",
    "\n",
    "\n",
    "\n",
    "        hinge180Spatialconditions = [ (           operator.and_( (depthFn < MAXY - (180e3/dp.LS)),  (xFn > ndp.subzone - 180e3/dp.LS)), 1.),\n",
    "                           (                                                   True , 0.) ]\n",
    "        hinge180RestFn = fn.branching.conditional(hinge180Spatialconditions)\n",
    "        hinge180RestFn*=lowerPlateRestFn #Add next level up in hierarchy\n",
    "        \n",
    "        ###############\n",
    "        #Metrics\n",
    "        ###############\n",
    "        areaintRock = _areaintRock.evaluate()[0] #trivial except when using sticky air\n",
    "        tempintRock = _tempintRock.evaluate()[0]\n",
    "        rmsintRock = _rmsintRock.evaluate()[0]\n",
    "        dwintRock = _dwintRock.evaluate()[0]\n",
    "        vdintRock = _vdintRock.evaluate()[0]\n",
    "        areaintLith = _areaintLith.evaluate()[0]\n",
    "        tempintLith = _tempintLith.evaluate()[0]\n",
    "        rmsintLith = _rmsintLith.evaluate()[0]\n",
    "        dwintLith = _dwintLith.evaluate()[0]\n",
    "        vdintLith = _vdintLith.evaluate()[0]\n",
    "        areaintLower = _areaintLower.evaluate()[0]\n",
    "        tempintLower = _tempintLower.evaluate()[0]\n",
    "        rmsintLower = _rmsintLower.evaluate()[0]\n",
    "        dwintLower = _dwintLower.evaluate()[0]\n",
    "        vdintLower = _vdintLower.evaluate()[0]\n",
    "        vdintHinge180 = _vdintHinge180.evaluate()[0]\n",
    "        areaintHinge180 = _areaintHinge180.evaluate()[0]\n",
    "        vdintHinge60 = _vdintHinge60.evaluate()[0]\n",
    "        areaintHinge60= _areaintHinge60.evaluate()[0]\n",
    "        vdintInterface = _vdintInterface.evaluate()[0]\n",
    "        areaintInterface= _areaintInterface.evaluate()[0]\n",
    "        #Surface integrals\n",
    "        rmsSurf = _rmsSurf.evaluate()[0]\n",
    "        nuTop = _nuTop.evaluate()[0]\n",
    "        nuBottom = _nuBottom.evaluate()[0]\n",
    "        plateness = _plateness.evaluate()[0]\n",
    "        #extrema\n",
    "        maxVel = _maxMinVel.max_global()\n",
    "        minVel = _maxMinVel.min_global() \n",
    "        maxSr = _maxMinSr.max_global()\n",
    "        minSr = _maxMinSr.min_global()\n",
    "        maxVxsurf = _maxMinVxSurf.max_global()\n",
    "        minVxsurf = _maxMinVxSurf.min_global()\n",
    "        # output to summary text file\n",
    "        if uw.rank()==0:\n",
    "            f_o.write((30*'%-15s ' + '\\n') % (areaintRock, tempintRock, rmsintRock, dwintRock, vdintRock,\n",
    "                                  areaintLith, tempintLith,rmsintLith, dwintLith, vdintLith,\n",
    "                                  areaintLower, tempintLower, rmsintLower, dwintLower, vdintLower, \n",
    "                                  areaintHinge180,vdintHinge180, areaintHinge60, vdintHinge60, \n",
    "                                  areaintInterface, vdintInterface, vdintInterface,\n",
    "                                  rmsSurf, nuTop, nuBottom, plateness, ndp.subzone,ndp.lRidge, ndp.rRidge, realtime))\n",
    "    ################\n",
    "    #Also repopulate entire swarm periodically\n",
    "    ################\n",
    "    if step % swarm_repop == 0:\n",
    "        population_control.repopulate()   \n",
    "    ################\n",
    "    #Gldb output\n",
    "    ################ \n",
    "    if (step % gldbs_output == 0): \n",
    "        \n",
    "        #ReBuild the depth dependent mask for the vizualisation\n",
    "        depthVariable      = gSwarm.add_variable( dataType=\"float\", count=1 )\n",
    "        depthVariable.data[:] = depthFn.evaluate(gSwarm)\n",
    "        vizVariable      = gSwarm.add_variable( dataType=\"int\", count=1 )\n",
    "        vizVariable.data[:] = 0\n",
    "        for index, value in enumerate(depthVariable.data[:]):\n",
    "            #print index, value\n",
    "            if np.random.rand(1)**5 > value/(MAXY - MINY):\n",
    "                vizVariable.data[index] = 1\n",
    "        del index, value    #get rid of any variables that might be pointing at the .data handles (these are!)\n",
    "        \n",
    "        \n",
    "        \n",
    "        if figures == 'gldb':\n",
    "            \n",
    "            \n",
    "            #Remember to rebuild any necessary swarm variables\n",
    "            fnamedb = \"dbFig\" + \"_\" + str(step) + \".gldb\"\n",
    "            fullpath = os.path.join(outputPath + \"gldbs/\" + fnamedb)\n",
    "            figDb.save_database(fullpath)\n",
    "           \n",
    "            \n",
    "        elif figures == 'store':      \n",
    "            \n",
    "            \n",
    "        \n",
    "            store1.step = step\n",
    "            store2.step = step\n",
    "            store3.step = step\n",
    "            \n",
    "            #Save figures to store\n",
    "            fullpath = os.path.join(outputPath + \"gldbs/\")\n",
    "            figVisc.save( fullpath + \"Visc\" + str(step).zfill(4))\n",
    "            #figMech.save( fullPath + \"Mech\" + str(step).zfill(4))\n",
    "            figTemp.save( fullpath + \"Temp\"    + str(step).zfill(4))\n",
    "            figMat.save( fullpath + \"Mat\"    + str(step).zfill(4))\n",
    "\n",
    "        \n",
    "\n",
    "        \n",
    "\n",
    "    ################\n",
    "    #Particle update\n",
    "    ###############    \n",
    "    #ageVariable.data[:] += dt #increment the ages (is this efficient?)\n",
    "    ageDT += dt\n",
    "    \n",
    "    if step % swarm_update == 0:\n",
    "        \n",
    "        #Increment age stuff. \n",
    "        ageConditions = [ (depthFn < ndp.AGETRACKDEPTH, ageVariable + ageDT ),  #add ageDThere\n",
    "                  (True, 0.) ]\n",
    "        ageVariable.data[:] = fn.branching.conditional( ageConditions ).evaluate(gSwarm)        \n",
    "        ageDT = 0. #reset the age incrementer\n",
    "        \n",
    "        \n",
    "        #This is hardcoded to assume subduction is towards the right\n",
    "        tempop = operator.lt\n",
    "\n",
    "        #Update the relevant parts of the material graph\n",
    "        #Remove and rebuild edges related to crust\n",
    "        DG.remove_edges_from([(mantleIndex,crustIndex)])\n",
    "        DG.add_edges_from([(mantleIndex,crustIndex)])\n",
    "        DG.remove_edges_from([(harzIndex,crustIndex)])\n",
    "        DG.add_edges_from([(harzIndex,crustIndex)])\n",
    "\n",
    "        #... to crust\n",
    "        DG.add_transition((mantleIndex,crustIndex), depthFn, operator.lt, ndp.MANTLETOCRUST)\n",
    "        DG.add_transition((mantleIndex,crustIndex), xFn, operator.lt, 0.5*ndp.lRidge) #No crust on the upper plate\n",
    "        DG.add_transition((mantleIndex,crustIndex), ageVariable, operator.gt, crustageCond)\n",
    "\n",
    "        DG.add_transition((harzIndex,crustIndex), depthFn, operator.lt, ndp.MANTLETOCRUST)\n",
    "        DG.add_transition((harzIndex,crustIndex), xFn, tempop, 0.5*ndp.lRidge) #This one sets no crust on the upper plate\n",
    "        DG.add_transition((harzIndex,crustIndex), ageVariable, operator.gt, crustageCond)\n",
    "        \n",
    "        \n",
    "        #Make sure to rebuild the condition list if you want changes to be applied\n",
    "        DG.build_condition_list(materialVariable)\n",
    "        \n",
    "        comm.barrier()\n",
    "    \n",
    "    \n",
    "        \n",
    "        \n",
    "        #Apply any materialVariable changes\n",
    "        for i in range(2): #go through twice\n",
    "            materialVariable.data[:] = fn.branching.conditional(DG.condition_list).evaluate(gSwarm)\n",
    "        \n",
    "        #Also update any information related to faults / interfaces:\n",
    "\n",
    "        sd, pts0 = fault.compute_signed_distance(gSwarm.particleCoordinates.data, distance=w0)\n",
    "        sp, pts0 = fault.compute_marker_proximity(gSwarm.particleCoordinates.data)\n",
    "\n",
    "        proximityVariable.data[np.logical_and(sd<0,sp == fault.ID)] = sp[np.logical_and(sd<0,sp == fault.ID)]\n",
    "\n",
    "        dv, nzv = fault.compute_normals(gSwarm.particleCoordinates.data)\n",
    "        directorVector.data[nzv] = dv[nzv]\n",
    "\n",
    "        proximityVariable.data[gSwarm.particleCoordinates.data[:,1]  < (1. - ndp.CRUSTVISCUTOFF)] = 0.\n",
    "        \n",
    "        #And add extra particles to interfaces as necessary\n",
    "        #subduction fault\n",
    "        introPoint = ndp.subzone - abs(ndp.subzone - ndp.lRidge)/2. #half way between ridge and Sz\n",
    "        fault.add_points([introPoint],[MAXY - faultthickness])\n",
    "        \n",
    "    ################\n",
    "    #Checkpoint\n",
    "    ################\n",
    "    if step % checkpoint_every == 0:\n",
    "        if uw.rank() == 0:\n",
    "            checkpoint1(step, checkpointPath,f_o, metric_output)           \n",
    "        checkpoint2(step, checkpointPath, gSwarm, f_o, varlist = varlist, varnames = varnames)\n",
    "        checkpoint3(step,  checkpointPath, interfaces,interfacenames )\n",
    "        f_o = open(os.path.join(outputPath, outputFile), 'a') #is this line supposed to be here?\n",
    "\n",
    "    \n",
    "f_o.close()\n",
    "print 'step =',step"
   ]
  },
  {
   "cell_type": "code",
   "execution_count": 69,
   "metadata": {
    "collapsed": false
   },
   "outputs": [
    {
     "data": {
      "text/plain": [
       "[]"
      ]
     },
     "execution_count": 69,
     "metadata": {},
     "output_type": "execute_result"
    }
   ],
   "source": []
  },
  {
   "cell_type": "code",
   "execution_count": null,
   "metadata": {
    "collapsed": false
   },
   "outputs": [],
   "source": []
  },
  {
   "cell_type": "code",
   "execution_count": 98,
   "metadata": {
    "collapsed": false
   },
   "outputs": [],
   "source": [
    "#vxTi = velocityField[0].evaluate(surface_nodes)\n",
    "#vxIso = velocityFieldIso[0].evaluate(surface_nodes)\n",
    "#%pylab inline\n",
    "#fig, axes = plt.subplots(figsize=(16,4))\n",
    "#axes.plot(vxTi)\n",
    "#axes.plot(vxIso)\n",
    "\n",
    "\n",
    "#fig, axes = plt.subplots(figsize=(16,4))\n",
    "#axes.plot(vxTi)\n",
    "#axes.plot(surface_xs, vxTi - vxIso)\n",
    "#fig.savefig('Ti_minus_Iso.png')\n",
    "#plt.title('surface velocity residual - T. Iso minus Iso. weak zone')\n"
   ]
  }
 ],
 "metadata": {
  "kernelspec": {
   "display_name": "Python 2",
   "language": "python",
   "name": "python2"
  },
  "language_info": {
   "codemirror_mode": {
    "name": "ipython",
    "version": 2
   },
   "file_extension": ".py",
   "mimetype": "text/x-python",
   "name": "python",
   "nbconvert_exporter": "python",
   "pygments_lexer": "ipython2",
   "version": "2.7.9"
  },
  "widgets": {
   "state": {},
   "version": "1.1.2"
  }
 },
 "nbformat": 4,
 "nbformat_minor": 0
}
