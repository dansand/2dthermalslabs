{
 "cells": [
  {
   "cell_type": "markdown",
   "metadata": {},
   "source": [
    "## Thermal subduction, linear rheology:\n",
    "\n",
    "\n",
    "The viscous rheology in this model is similar to the models described in the PhD thesis of Micheal Kaplan\n",
    "\n",
    "\n",
    "\n",
    "**Keywords:** subduction, thermally-activated creep, \n",
    "\n",
    "\n",
    "**References:**\n",
    "\n",
    "\n",
    "Kaplan, Michael. Numerical Geodynamics of Solid Planetary Deformation. Diss. University of Southern California, 2015."
   ]
  },
  {
   "cell_type": "code",
   "execution_count": 78,
   "metadata": {
    "collapsed": false
   },
   "outputs": [],
   "source": [
    "import numpy as np\n",
    "import underworld as uw\n",
    "import math\n",
    "from underworld import function as fn\n",
    "import glucifer\n",
    "\n",
    "import os\n",
    "import sys\n",
    "import natsort\n",
    "import shutil\n",
    "from easydict import EasyDict as edict\n",
    "import operator\n",
    "import pint\n",
    "import time\n",
    "import operator\n",
    "from slippy2 import boundary_layer2d\n",
    "from slippy2 import material_graph\n",
    "from slippy2 import spmesh\n",
    "from slippy2 import phase_function\n",
    "from unsupported.interfaces import markerLine2D\n",
    "\n",
    "from mpi4py import MPI\n",
    "comm = MPI.COMM_WORLD\n",
    "rank = comm.Get_rank()"
   ]
  },
  {
   "cell_type": "code",
   "execution_count": 79,
   "metadata": {
    "collapsed": true
   },
   "outputs": [],
   "source": [
    "#####\n",
    "#Stubborn version number conflicts - need to figure out my Docker container runs an old version. For now...\n",
    "#####\n",
    "try:\n",
    "    natsort.natsort = natsort.natsorted\n",
    "except:\n",
    "    natsort.natsort = natsort.natsort"
   ]
  },
  {
   "cell_type": "markdown",
   "metadata": {},
   "source": [
    "Model name and directories\n",
    "-----"
   ]
  },
  {
   "cell_type": "code",
   "execution_count": 80,
   "metadata": {
    "collapsed": false
   },
   "outputs": [],
   "source": [
    "############\n",
    "#Model letter and number\n",
    "############\n",
    "\n",
    "\n",
    "#Model letter identifier default\n",
    "Model = \"T\"\n",
    "\n",
    "#Model number identifier default:\n",
    "ModNum = 0\n",
    "\n",
    "#Any isolated letter / integer command line args are interpreted as Model/ModelNum\n",
    "\n",
    "if len(sys.argv) == 1:\n",
    "    ModNum = ModNum \n",
    "elif sys.argv[1] == '-f': #\n",
    "    ModNum = ModNum \n",
    "else:\n",
    "    for farg in sys.argv[1:]:\n",
    "        if not '=' in farg: #then Assume it's a not a paramter argument\n",
    "            try:\n",
    "                ModNum = int(farg) #try to convert everingthing to a float, else remains string\n",
    "            except ValueError:\n",
    "                Model  = farg"
   ]
  },
  {
   "cell_type": "code",
   "execution_count": 81,
   "metadata": {
    "collapsed": false
   },
   "outputs": [],
   "source": [
    "###########\n",
    "#Standard output directory setup\n",
    "###########\n",
    "\n",
    "outputPath = \"results\" + \"/\" +  str(Model) + \"/\" + str(ModNum) + \"/\" \n",
    "imagePath = outputPath + 'images/'\n",
    "filePath = outputPath + 'files/'\n",
    "checkpointPath = outputPath + 'checkpoint/'\n",
    "dbPath = outputPath + 'gldbs/'\n",
    "outputFile = 'results_model' + Model + '_' + str(ModNum) + '.dat'\n",
    "\n",
    "if uw.rank()==0:\n",
    "    # make directories if they don't exist\n",
    "    if not os.path.isdir(outputPath):\n",
    "        os.makedirs(outputPath)\n",
    "    if not os.path.isdir(checkpointPath):\n",
    "        os.makedirs(checkpointPath)\n",
    "    if not os.path.isdir(imagePath):\n",
    "        os.makedirs(imagePath)\n",
    "    if not os.path.isdir(dbPath):\n",
    "        os.makedirs(dbPath)\n",
    "    if not os.path.isdir(filePath):\n",
    "        os.makedirs(filePath)\n",
    "\n",
    "        \n",
    "comm.Barrier() #Barrier here so no procs run the check in the next cell too early"
   ]
  },
  {
   "cell_type": "code",
   "execution_count": 82,
   "metadata": {
    "collapsed": false
   },
   "outputs": [
    {
     "name": "stdout",
     "output_type": "stream",
     "text": [
      "results/T/0/checkpoint/ is empty\n"
     ]
    }
   ],
   "source": [
    "###########\n",
    "#Check if starting from checkpoint\n",
    "###########\n",
    "\n",
    "checkdirs = []\n",
    "for dirpath, dirnames, files in os.walk(checkpointPath):\n",
    "    if files:\n",
    "        print dirpath, 'has files'\n",
    "        checkpointLoad = True\n",
    "        checkdirs.append(dirpath)\n",
    "    if not files:\n",
    "        print dirpath, 'is empty'\n",
    "        checkpointLoad = False"
   ]
  },
  {
   "cell_type": "code",
   "execution_count": 83,
   "metadata": {
    "collapsed": true
   },
   "outputs": [],
   "source": [
    "# setup summary output file (name above)\n",
    "if checkpointLoad:\n",
    "    checkpointLoadDir = natsort.natsort(checkdirs)[-1]\n",
    "    if uw.rank() == 0:\n",
    "        shutil.copyfile(os.path.join(checkpointLoadDir, outputFile), outputPath+outputFile)\n",
    "    comm.Barrier()\n",
    "    f_o = open(os.path.join(outputPath, outputFile), 'a')\n",
    "    prevdata = np.genfromtxt(os.path.join(outputPath, outputFile), skip_header=0, skip_footer=0)\n",
    "    if len(prevdata.shape) == 1: #this is in case there is only one line in previous file\n",
    "        realtime = prevdata[-1]  #This corresponds to the column you write time data to\n",
    "    else:\n",
    "        realtime = prevdata[prevdata.shape[0]-1, -1]\n",
    "    step = int(checkpointLoadDir.split('/')[-1])\n",
    "    timevals = [0.]\n",
    "else:\n",
    "    f_o = open(outputPath+outputFile, 'w')\n",
    "    realtime = 0.\n",
    "    step = 0\n",
    "    timevals = [0.]"
   ]
  },
  {
   "cell_type": "markdown",
   "metadata": {},
   "source": [
    "Setup parameters\n",
    "-----\n",
    "\n",
    "Set simulation parameters for test."
   ]
  },
  {
   "cell_type": "markdown",
   "metadata": {},
   "source": [
    "**Use pint to setup any unit conversions we'll need**"
   ]
  },
  {
   "cell_type": "code",
   "execution_count": 84,
   "metadata": {
    "collapsed": false
   },
   "outputs": [
    {
     "data": {
      "text/html": [
       "10000.0 meter/megayear"
      ],
      "text/latex": [
       "$10000.0 \\frac{meter}{megayear}$"
      ],
      "text/plain": [
       "<Quantity(10000.0, 'meter / megayear')>"
      ]
     },
     "execution_count": 84,
     "metadata": {},
     "output_type": "execute_result"
    }
   ],
   "source": [
    "u = pint.UnitRegistry()\n",
    "cmpery = 1.*u.cm/u.year\n",
    "mpermy = 1.*u.m/u.megayear\n",
    "year = 1.*u.year\n",
    "spery = year.to(u.sec)\n",
    "cmpery.to(mpermy)"
   ]
  },
  {
   "cell_type": "code",
   "execution_count": 85,
   "metadata": {
    "collapsed": false
   },
   "outputs": [
    {
     "name": "stdout",
     "output_type": "stream",
     "text": [
      "(0.04, 1.2675505856327397e-11)\n"
     ]
    }
   ],
   "source": [
    "box_half_width =4000e3\n",
    "age_at_trench = 100e6\n",
    "cmperyear = box_half_width / age_at_trench #m/y\n",
    "mpersec = cmperyear*(cmpery.to(u.m/u.second)).magnitude #m/sec\n",
    "print(cmperyear, mpersec )"
   ]
  },
  {
   "cell_type": "markdown",
   "metadata": {},
   "source": [
    "**Set parameter dictionaries**\n",
    "\n",
    "* Parameters are stored in dictionaries. \n",
    "* If starting from checkpoint, parameters are loaded using pickle\n",
    "* If params are passed in as flags to the script, they overwrite \n"
   ]
  },
  {
   "cell_type": "code",
   "execution_count": 86,
   "metadata": {
    "collapsed": false
   },
   "outputs": [],
   "source": [
    "###########\n",
    "#Parameter / settings dictionaries get saved&loaded using pickle\n",
    "###########\n",
    " \n",
    "dp = edict({}) #dimensional parameters\n",
    "sf = edict({}) #scaling factors\n",
    "ndp = edict({}) #dimensionless paramters\n",
    "md = edict({}) #model paramters, flags etc\n",
    "#od = edict({}) #output frequencies\n",
    "\n"
   ]
  },
  {
   "cell_type": "code",
   "execution_count": 87,
   "metadata": {
    "collapsed": false
   },
   "outputs": [],
   "source": [
    "dict_list = [dp, sf, ndp, md]\n",
    "dict_names = ['dp.pkl', 'sf.pkl', 'ndp.pkl', 'md.pkl']\n",
    "\n",
    "def save_pickles(dict_list, dict_names, dictPath):\n",
    "    import pickle\n",
    "    counter = 0\n",
    "    for pdict in dict_list:\n",
    "        myfile = os.path.join(dictPath, dict_names[counter])\n",
    "        with open(myfile, 'wb') as f:\n",
    "            pickle.dump(pdict, f)\n",
    "        counter+=1\n",
    "\n",
    "\n",
    "#ended up having to pretty much write a hard-coded function\n",
    "#All dictionaries we want checkpointed will have to  be added here \n",
    "#and where the function is called\n",
    "#Fortunately, this function is only called ONCE\n",
    "\n",
    "def load_pickles():\n",
    "    import pickle\n",
    "    dirpath = os.path.join(checkpointPath, str(step))\n",
    "    dpfile = open(os.path.join(dirpath, 'dp.pkl'), 'r')\n",
    "    dp = pickle.load(dpfile)\n",
    "#    #\n",
    "    ndpfile = open(os.path.join(dirpath, 'ndp.pkl'), 'r')\n",
    "    ndp = edict(pickle.load(ndpfile))\n",
    "    #\n",
    "    sffile = open(os.path.join(dirpath, 'sf.pkl'), 'r')\n",
    "    sf = edict(pickle.load(sffile))\n",
    "    #\n",
    "    mdfile = open(os.path.join(dirpath, 'md.pkl'), 'r')\n",
    "    md = edict(pickle.load(mdfile))\n",
    "    return dp, ndp, sf, md"
   ]
  },
  {
   "cell_type": "code",
   "execution_count": 88,
   "metadata": {
    "collapsed": false
   },
   "outputs": [],
   "source": [
    "###########\n",
    "#Store the physical parameters, scale factors and dimensionless pramters in easyDicts\n",
    "#Mainly helps with avoiding overwriting variables\n",
    "###########\n",
    "\n",
    "\n",
    "dp = edict({'LS':2900*1e3, #Scaling Length scale\n",
    "            'depth':660*1e3, #Depth of domain\n",
    "            'rho':3300.,  #reference density\n",
    "            'g':9.8, #surface gravity\n",
    "            'eta0':2.5e20, #reference viscosity\n",
    "            'k':1e-6, #thermal diffusivity\n",
    "            'a':3e-5, #surface thermal expansivity\n",
    "            'R':8.314, #gas constant\n",
    "            'TP':1673., #mantle potential temp (K)\n",
    "            'TS':273., #surface temp (K)\n",
    "            #Rheology - flow law paramters\n",
    "            'Adf':3e-11, #pre-exp factor for diffusion creep\n",
    "            #'Edf':1e5, #Total viscosity variation in the Kaplan model\n",
    "            'Edf':3e5,\n",
    "            'cm':40e6, #mantle cohesion in Byerlee law\n",
    "            'cc':40e6, #mantle cohesion in Byerlee law\n",
    "            'fcm':0.06,   #mantle friction coefficient in Byerlee law (tan(phi))\n",
    "            'fcc':0.06,   #crust friction coefficient \n",
    "            #Rheology - cutoff values\n",
    "            'eta_min':1e17, \n",
    "            'eta_max':1e25, #viscosity max in the mantle material\n",
    "            'eta_min_crust':2.5e19, #viscosity min in the weak-crust material\n",
    "            'eta_max_crust':2.5e19, #viscosity max in the weak-crust material\n",
    "            #Length scales\n",
    "            'MANTLETOCRUST':8.*1e3, #Crust depth\n",
    "            'HARZBURGDEPTH':40e3,\n",
    "            'CRUSTTOMANTLE':800.*1e3,\n",
    "            'LITHTOMANTLE':(900.*1e3),\n",
    "            'MANTLETOLITH':200.*1e3, \n",
    "            'TOPOHEIGHT':10.*1e3,  #rock-air topography limits\n",
    "            'CRUSTTOECL':100.*1e3,\n",
    "            'LOWMANTLEDEPTH':660.*1e3, \n",
    "            'CRUSTVISCUTOFF':150.*1e3, #Deeper than this, crust material rheology reverts to mantle rheology\n",
    "            'AGETRACKDEPTH':100e3, #above this depth we track the age of the lithsphere (below age is assumed zero)\n",
    "            #Slab and plate parameters\n",
    "            'roc':250e3,     #radius of curvature of slab\n",
    "            'subzone':0.0,   #X position of subduction zone..\n",
    "            'lRidge':-0.5*(660e3*6),  #For depth = 670 km, aspect ratio of 6, this puts the ridges at MINX, MAXX\n",
    "            'rRidge':0.5*(660e3*6),\n",
    "            'maxDepth':250e3,\n",
    "            'theta':70., #Angle to truncate the slab (can also control with a maxDepth param)\n",
    "            'slabmaxAge':60e6, #age of subduction plate at trench\n",
    "            'platemaxAge':60e6, #max age of slab (Plate model)\n",
    "            'sense':'Right', #dip direction\n",
    "            'op_age_fac':0.5, #this controls the overidding plate age reduction\n",
    "            #Misc\n",
    "            'StALS':100e3, #depth of sticky air layer\n",
    "            'Steta_n':1e19, #stick air viscosity, normal\n",
    "            'Steta_s':1e18, #stick air viscosity, shear \n",
    "            'plate_vel':4,\n",
    "            'low_mantle_visc_fac':30.\n",
    "           })\n",
    "\n",
    "#append any derived parameters to the dictionary\n",
    "dp.deltaT = dp.TP - dp.TS\n",
    "\n",
    "\n",
    "\n"
   ]
  },
  {
   "cell_type": "code",
   "execution_count": 89,
   "metadata": {
    "collapsed": false
   },
   "outputs": [],
   "source": [
    "#Modelling and Physics switches\n",
    "\n",
    "md = edict({'refineMesh':True,\n",
    "            'stickyAir':False,\n",
    "            'subductionFault':False,\n",
    "            'symmetricIcs':False,\n",
    "            'velBcs':False,\n",
    "            'aspectRatio':6,\n",
    "            'compBuoyancy':False, #use compositional & phase buoyancy, or simply thermal\n",
    "            'periodicBcs':False,\n",
    "            'RES':48,\n",
    "            'PIC_integration':True,\n",
    "            'ppc':25,\n",
    "            'elementType':\"Q1/dQ0\"\n",
    "            })\n",
    "\n",
    "#\"Q2/DPC1\""
   ]
  },
  {
   "cell_type": "code",
   "execution_count": null,
   "metadata": {
    "collapsed": false
   },
   "outputs": [],
   "source": []
  },
  {
   "cell_type": "code",
   "execution_count": 90,
   "metadata": {
    "collapsed": false
   },
   "outputs": [],
   "source": [
    "###########\n",
    "#If starting from a checkpoint load params from file\n",
    "###########\n",
    "\n",
    "if checkpointLoad:\n",
    "    dp, ndp, sf, md = load_pickles()  #remember to add any extra dictionaries\n"
   ]
  },
  {
   "cell_type": "code",
   "execution_count": 91,
   "metadata": {
    "collapsed": false
   },
   "outputs": [],
   "source": [
    "###########\n",
    "#If command line args are given, overwrite\n",
    "#Note that this assumes that params as commans line args/\n",
    "#only append to the 'dimensional' and 'model' dictionary (not the non-dimensional)\n",
    "###########    \n",
    "\n",
    "\n",
    "###########\n",
    "#If extra arguments are provided to the script\" eg:\n",
    "### >>> uw.py 2 dp.arg1=1 dp.arg2=foo dp.arg3=3.0\n",
    "###\n",
    "###This would assign ModNum = 2, all other values go into the dp dictionary, under key names provided\n",
    "###\n",
    "###Two operators are searched for, = & *=\n",
    "###\n",
    "###If =, parameter is re-assigned to givn value\n",
    "###If *=, parameter is multipled by given value\n",
    "###\n",
    "### >>> uw.py 2 dp.arg1=1 dp.arg2=foo dp.arg3*=3.0\n",
    "###########\n",
    "\n",
    "for farg in sys.argv[1:]:\n",
    "    try:\n",
    "        (dicitem,val) = farg.split(\"=\") #Split on equals operator\n",
    "        (dic,arg) = dicitem.split(\".\") #colon notation\n",
    "        if '*=' in farg:\n",
    "            (dicitem,val) = farg.split(\"*=\") #If in-place multiplication, split on '*='\n",
    "            (dic,arg) = dicitem.split(\".\")\n",
    "            \n",
    "        if val == 'True': \n",
    "            val = True\n",
    "        elif val == 'False':     #First check if args are boolean\n",
    "            val = False\n",
    "        else:\n",
    "            try:\n",
    "                val = float(val) #next try to convert  to a float,\n",
    "            except ValueError:\n",
    "                pass             #otherwise leave as string\n",
    "        #Update the dictionary\n",
    "        if farg.startswith('dp'):\n",
    "            if '*=' in farg:\n",
    "                dp[arg] = dp[arg]*val #multiply parameter by given factor\n",
    "            else:\n",
    "                dp[arg] = val    #or reassign parameter by given value\n",
    "        if farg.startswith('md'):\n",
    "            if '*=' in farg:\n",
    "                md[arg] = md[arg]*val #multiply parameter by given factor\n",
    "            else:\n",
    "                md[arg] = val    #or reassign parameter by given value\n",
    "                \n",
    "    except:\n",
    "        pass\n",
    "            \n",
    "\n",
    "comm.barrier()"
   ]
  },
  {
   "cell_type": "code",
   "execution_count": 92,
   "metadata": {
    "collapsed": true
   },
   "outputs": [],
   "source": [
    "#this block mostly helps with consistency in resolutions test, \n",
    "#allowing to test consistent particle density / node spacing \n",
    "#in models with different res. / element types\n",
    "\n",
    "if md.elementType != \"Q1/dQ0\":\n",
    "    md.RES = int(md.RES/2)     #halve the resolution if using Q2 element\n",
    "    \n",
    "\n",
    "\n",
    "comm.barrier()    \n",
    "#md.ppc = int(md.ppc / (md.RES/128.))          #this keeps the total particles uniform, normalised by 50 ppc @ 128"
   ]
  },
  {
   "cell_type": "code",
   "execution_count": 93,
   "metadata": {
    "collapsed": true
   },
   "outputs": [],
   "source": [
    "#print('refine Mesh is: ', md.refineMesh)"
   ]
  },
  {
   "cell_type": "code",
   "execution_count": 94,
   "metadata": {
    "collapsed": false
   },
   "outputs": [],
   "source": [
    "#Only build these guys first time around, otherwise the read from checkpoints\n",
    "#Important because some of these params (like SZ location) may change during model evolution\n",
    "\n",
    "\n",
    "if not checkpointLoad:\n",
    "\n",
    "    \n",
    "    \n",
    "    sf = edict({'stress':dp.LS**2/(dp.k*dp.eta0),\n",
    "                'lith_grad':dp.rho*dp.g*(dp.LS)**3/(dp.eta0*dp.k) , \n",
    "                'vel':dp.LS/dp.k,\n",
    "                'SR':dp.LS**2/dp.k, \n",
    "                'E': 1./(dp.R*dp.deltaT)\n",
    "               })\n",
    "\n",
    "    #dimensionless parameters\n",
    "\n",
    "    ndp = edict({'RA':(dp.g*dp.rho*dp.a*(dp.TP - dp.TS)*(dp.LS)**3)/(dp.k*dp.eta0),\n",
    "                 #'Edf':math.log(dp.Edf),\n",
    "                 'Edf':dp.Edf*sf.E,\n",
    "                 'TSP':0., \n",
    "                 'TBP':1.,\n",
    "                 'TPP':(dp.TP - dp.TS)/dp.deltaT, #dimensionless potential temp\n",
    "                 'TS':dp.TS/dp.deltaT,\n",
    "                 'TP':dp.TP/dp.deltaT,\n",
    "                 'cm':dp.cm*sf.stress,\n",
    "                 'cc':dp.cc*sf.stress,    #{dimensionless cohesion in mantle, crust, interface}\n",
    "                 'fcmd':dp.fcm*sf.lith_grad, \n",
    "                 'fccd':dp.fcc*sf.lith_grad, #{dimensionless friction coefficient in mantle, crust, interface}\n",
    "                 #Rheology - cutoff values\n",
    "                 'eta_min':dp.eta_min/dp.eta0, \n",
    "                 'eta_max':dp.eta_max/dp.eta0, #viscosity max in the mantle material\n",
    "                 'eta_min_crust':dp.eta_min_crust/dp.eta0, #viscosity min in the weak-crust material\n",
    "                 'eta_max_crust':dp.eta_max_crust/dp.eta0, #viscosity max in the weak-crust material \n",
    "                 #Length scales\n",
    "                 'MANTLETOCRUST':dp.MANTLETOCRUST/dp.LS, #Crust depth\n",
    "                 'HARZBURGDEPTH':dp.HARZBURGDEPTH/dp.LS,\n",
    "                 'CRUSTTOMANTLE':dp.CRUSTTOMANTLE/dp.LS,\n",
    "                 'LITHTOMANTLE':dp.LITHTOMANTLE/dp.LS,\n",
    "                 'MANTLETOLITH':dp.MANTLETOLITH/dp.LS,\n",
    "                 'TOPOHEIGHT':dp.TOPOHEIGHT/dp.LS,  #rock-air topography limits\n",
    "                 'CRUSTTOECL':dp.CRUSTTOECL/dp.LS,\n",
    "                 'LOWMANTLEDEPTH':dp.LOWMANTLEDEPTH/dp.LS, \n",
    "                 'CRUSTVISCUTOFF':dp.CRUSTVISCUTOFF/dp.LS, #Deeper than this, crust material rheology reverts to mantle rheology\n",
    "                 'AGETRACKDEPTH':dp.AGETRACKDEPTH/dp.LS,\n",
    "                 #Slab and plate parameters\n",
    "                 'roc':dp.roc/dp.LS,     #radius of curvature of slab\n",
    "                 'subzone':dp.subzone/dp.LS,   #X position of subduction zone..\n",
    "                 'lRidge':np.round(dp.lRidge/dp.LS, 3),  #For depth = 670 km, aspect ratio of 4, this puts the ridges at MINX, MAXX\n",
    "                 'rRidge':np.round(dp.rRidge/dp.LS, 3),\n",
    "                 'maxDepth':dp.maxDepth/dp.LS,    \n",
    "                 #misc\n",
    "                 'Steta_n':dp.Steta_n/dp.eta0, #stick air viscosity, normal\n",
    "                 'Steta_s':dp.Steta_n/dp.eta0, #stick air viscosity, shear \n",
    "                 'StALS':dp.StALS/dp.LS,\n",
    "                 'plate_vel':sf.vel*dp.plate_vel*(cmpery.to(u.m/u.second)).magnitude,\n",
    "                 'low_mantle_visc_fac':dp.low_mantle_visc_fac\n",
    "                })\n",
    "\n",
    "\n",
    "\n",
    "    #Append any more derived paramters\n",
    "    ndp.StRA = (3300.*dp.g*(dp.LS)**3)/(dp.eta0 *dp.k) #Composisitional Rayleigh number for rock-air buoyancy force\n",
    "    dp.CVR = (0.1*(dp.k/dp.LS)*ndp.RA**(2/3.))\n",
    "    ndp.CVR = dp.CVR*sf.vel #characteristic velocity"
   ]
  },
  {
   "cell_type": "code",
   "execution_count": 95,
   "metadata": {
    "collapsed": false
   },
   "outputs": [],
   "source": [
    "#0.05*dp.LS"
   ]
  },
  {
   "cell_type": "code",
   "execution_count": 96,
   "metadata": {
    "collapsed": false
   },
   "outputs": [
    {
     "data": {
      "text/plain": [
       "(25.77408158355957, 132508363.68000002)"
      ]
     },
     "execution_count": 96,
     "metadata": {},
     "output_type": "execute_result"
    }
   ],
   "source": [
    "ndp.Edf, ndp.RA\n"
   ]
  },
  {
   "cell_type": "markdown",
   "metadata": {},
   "source": [
    "**Model setup parameters**"
   ]
  },
  {
   "cell_type": "code",
   "execution_count": null,
   "metadata": {
    "collapsed": true
   },
   "outputs": [],
   "source": []
  },
  {
   "cell_type": "code",
   "execution_count": 97,
   "metadata": {
    "collapsed": false
   },
   "outputs": [],
   "source": [
    "###########\n",
    "#Model setup parameters\n",
    "###########\n",
    "\n",
    "dim = 2          # number of spatial dimensions\n",
    "\n",
    "\n",
    "#Domain and Mesh paramters\n",
    "Xres = int(md.RES*8)   #more than twice the resolution in X-dim, which will be 'corrected' by the refinement we'll use in Y\n",
    "\n",
    "\n",
    "MINY = 1. - (dp.depth/dp.LS)\n",
    "if md.stickyAir:\n",
    "    Yres = int(md.RES)\n",
    "    MAXY = 1. + dp.StALS/dp.LS #150km\n",
    "    \n",
    "else:\n",
    "    Yres = int(md.RES)\n",
    "    MAXY = 1.\n",
    "\n",
    "\n",
    "periodic = [False, False]\n",
    "if md.periodicBcs:\n",
    "    periodic = [True, False]\n",
    "    \n",
    "    \n",
    "hw = np.round(0.5*(dp.depth/dp.LS)*md.aspectRatio, 3)\n",
    "MINX = -1.*hw\n",
    "\n",
    "MAXX = hw\n",
    "MAXY = 1.\n",
    "    \n",
    "    \n",
    "\n",
    "Xres = int(md.RES*md.aspectRatio) #careful\n",
    "#if MINY == 0.5:\n",
    "#    Xres = int(2.*RES*md.aspectRatio)\n",
    "    \n",
    "\n",
    "if md.stickyAir:\n",
    "    Yres = int(md.RES)\n",
    "    MAXY = np.round(MAXY + dp.StALS/dp.LS, 3)\n",
    "    \n",
    "else:\n",
    "    Yres = int(md.RES)\n",
    "    MAXY = np.round(MAXY, 3)\n",
    "\n",
    "periodic = [False, False]\n",
    "if md.periodicBcs:\n",
    "    periodic = [True, False]\n",
    "    \n"
   ]
  },
  {
   "cell_type": "markdown",
   "metadata": {},
   "source": [
    "### Metric output"
   ]
  },
  {
   "cell_type": "code",
   "execution_count": 98,
   "metadata": {
    "collapsed": true
   },
   "outputs": [],
   "source": [
    "#Metric output stuff\n",
    "figures =  'store' #glucifer Store won't work on all machines, if not, set to 'gldb' \n",
    "swarm_repop, swarm_update = 5, 10\n",
    "gldbs_output = 25\n",
    "checkpoint_every, files_output = 100, 50\n",
    "metric_output = 20\n",
    "sticky_air_temp = 1e6"
   ]
  },
  {
   "cell_type": "code",
   "execution_count": 99,
   "metadata": {
    "collapsed": false
   },
   "outputs": [],
   "source": [
    "#dp.lRidge/dp.LS, np.round(0.5*(dp.depth/dp.LS)*md.aspectRatio, 1)\n",
    "#np.round(0.5*(dp.depth/dp.LS)*md.aspectRatio, 1), ndp.lRidge\n",
    "#np.round(dp.lRidge/dp.LS, 5)\n",
    "#md.aspectRatio\n",
    "#-0.5*(660e3*6)/dp.LS, np.round(0.5*(dp.depth/dp.LS)*md.aspectRatio, 3)\n",
    "#mesh.maxCoord[0], ndp.rRidge"
   ]
  },
  {
   "cell_type": "markdown",
   "metadata": {},
   "source": [
    "Create mesh and finite element variables\n",
    "------"
   ]
  },
  {
   "cell_type": "code",
   "execution_count": 100,
   "metadata": {
    "collapsed": false
   },
   "outputs": [],
   "source": [
    "mesh = uw.mesh.FeMesh_Cartesian( elementType = (md.elementType),\n",
    "                                 elementRes  = (Xres, Yres), \n",
    "                                 minCoord    = (MINX, MINY), \n",
    "                                 maxCoord    = (MAXX, MAXY), periodic=periodic)\n",
    "\n",
    "velocityField       = uw.mesh.MeshVariable( mesh=mesh,         nodeDofCount=2 )\n",
    "pressureField       = uw.mesh.MeshVariable( mesh=mesh.subMesh, nodeDofCount=1 )\n",
    "temperatureField    = uw.mesh.MeshVariable( mesh=mesh,         nodeDofCount=1 )\n",
    "temperatureDotField = uw.mesh.MeshVariable( mesh=mesh,         nodeDofCount=1 )\n",
    "\n",
    "\n",
    "velocityField.data[:]       = [0.,0.]\n",
    "pressureField.data[:]       = 0.\n",
    "temperatureDotField.data[:] = 0."
   ]
  },
  {
   "cell_type": "code",
   "execution_count": 101,
   "metadata": {
    "collapsed": true
   },
   "outputs": [],
   "source": [
    "coordinate = fn.input()\n",
    "depthFn = MAXY - coordinate[1] #a function providing the depth\n",
    "\n",
    "\n",
    "xFn = coordinate[0]  #a function providing the x-coordinate\n",
    "yFn = coordinate[1]\n"
   ]
  },
  {
   "cell_type": "code",
   "execution_count": 102,
   "metadata": {
    "collapsed": false
   },
   "outputs": [],
   "source": [
    "mesh.reset()\n",
    "\n",
    "jWalls = mesh.specialSets[\"MinJ_VertexSet\"] + mesh.specialSets[\"MaxJ_VertexSet\"]\n",
    "yFn = coordinate[1]\n",
    "yField = uw.mesh.MeshVariable( mesh=mesh, nodeDofCount=1 )\n",
    "yField.data[:] = 0.\n",
    "yBC = uw.conditions.DirichletCondition( variable=yField, indexSetsPerDof=(jWalls,) )\n",
    "\n",
    "# set bottom wall temperature bc\n",
    "for index in mesh.specialSets[\"MinJ_VertexSet\"]:\n",
    "    yField.data[index] = mesh.minCoord[1]\n",
    "# set top wall temperature bc\n",
    "for index in mesh.specialSets[\"MaxJ_VertexSet\"]:\n",
    "    yField.data[index] = mesh.maxCoord[1]\n",
    "    \n",
    "    \n",
    "    \n",
    "s = 2.5\n",
    "intensityFac = 1.5\n",
    "intensityFn = (((yFn - MINY)/(MAXY-MINY))**s)\n",
    "intensityFn *= intensityFac\n",
    "intensityFn += 1.\n",
    "\n",
    "\n",
    "yLaplaceEquation = uw.systems.SteadyStateHeat(temperatureField=yField, fn_diffusivity=intensityFn, conditions=[yBC,])\n",
    "\n",
    "# get the default heat equation solver\n",
    "yLaplaceSolver = uw.systems.Solver(yLaplaceEquation)\n",
    "# solve\n",
    "yLaplaceSolver.solve()\n",
    "\n",
    "\n",
    "#Get the array of Y positions - copy may be necessary, not sure. \n",
    "newYpos = yField.data.copy() \n",
    "\n",
    "uw.barrier()\n",
    "with mesh.deform_mesh():\n",
    "     mesh.data[:,1] = newYpos[:,0]"
   ]
  },
  {
   "cell_type": "code",
   "execution_count": 103,
   "metadata": {
    "collapsed": false
   },
   "outputs": [],
   "source": [
    "#THis is a hack for adding a sticky air domain, we refine MAXY and things like the temperature stencil work from Y = 1. \n",
    "\n",
    "if md.stickyAir:\n",
    "    MAXY = 1."
   ]
  },
  {
   "cell_type": "code",
   "execution_count": null,
   "metadata": {
    "collapsed": false
   },
   "outputs": [],
   "source": []
  },
  {
   "cell_type": "markdown",
   "metadata": {},
   "source": [
    "Initial conditions\n",
    "-------\n"
   ]
  },
  {
   "cell_type": "code",
   "execution_count": null,
   "metadata": {
    "collapsed": false
   },
   "outputs": [],
   "source": []
  },
  {
   "cell_type": "code",
   "execution_count": 104,
   "metadata": {
    "collapsed": false
   },
   "outputs": [],
   "source": [
    "\n",
    "def age_fn(xFn, sz = 0.0, lMOR=MINX, rMOR=MAXX, opFac=1., conjugate_plate = False):\n",
    "    \"\"\"\n",
    "    Simple function to generate a discrete 1-d (i.e x-coordinate) function for the age of the thermal BC. \n",
    "    All paramters are dimensionless\n",
    "    sz: location of subduction zone\n",
    "    lMOR: location of left-hand MOR\n",
    "    rMOR: location of right-hand MOR\n",
    "    opFac: uniform reduce the age of the right hand plate by this factor\n",
    "    conjugate_plate: if True, build plates on the outer sides of the MORs, if False, age = 0. \n",
    "    \"\"\"\n",
    "    \n",
    "    if lMOR < MINX:\n",
    "        lMOR = MINX\n",
    "    if rMOR > MAXX:\n",
    "        rMOR = MAXX\n",
    "\n",
    "    if conjugate_plate:\n",
    "        ageFn = fn.branching.conditional([(operator.and_(xFn > lMOR, xFn < sz) , (xFn + abs(lMOR))/(abs(sz-lMOR))), \n",
    "                                      (operator.and_(xFn < rMOR, xFn >= sz), (1.-(xFn + abs(sz))/abs(rMOR-sz))*opFac),\n",
    "                                      (xFn > rMOR, opFac*(xFn -abs(rMOR)) / abs(rMOR-sz) ),\n",
    "                                      (True, fn.math.abs((((xFn + abs(lMOR)) / (abs(sz-lMOR))))))\n",
    "                                         ])\n",
    "    else:    \n",
    "        \n",
    "        ageFn = fn.branching.conditional([(operator.and_(xFn > lMOR, xFn < sz) , (xFn + abs(lMOR))/(abs(sz-lMOR))), \n",
    "                                      (operator.and_(xFn < rMOR, xFn >= sz), (1.-(xFn + abs(sz))/abs(rMOR-sz))*opFac),\n",
    "\n",
    "                                      (True, 0.0)])\n",
    "    return ageFn"
   ]
  },
  {
   "cell_type": "code",
   "execution_count": 105,
   "metadata": {
    "collapsed": false
   },
   "outputs": [],
   "source": [
    "#ndp.lRidge *= 0.5"
   ]
  },
  {
   "cell_type": "code",
   "execution_count": 106,
   "metadata": {
    "collapsed": false
   },
   "outputs": [],
   "source": [
    "###########\n",
    "#Thermal initial condition - half-space cooling\n",
    "###########\n",
    "\n",
    "#  a few conversions\n",
    "ageAtTrenchSeconds = min(dp.platemaxAge*(3600*24*365), dp.slabmaxAge*(3600*24*365))\n",
    "#slab perturbation params (mostly dimensionless / model params here)\n",
    "phi = 90. - dp.theta\n",
    "Org = (ndp.subzone, MAXY-ndp.roc)\n",
    "\n",
    "#First build the top TBL\n",
    "ageFn = age_fn(xFn, sz =ndp.subzone, lMOR=ndp.lRidge,rMOR=ndp.rRidge, conjugate_plate=True, opFac = dp.op_age_fac)\n",
    "#dimensionlize the age function\n",
    "ageFn *= ageAtTrenchSeconds #seconds to year\n",
    "w0 = (2.3*math.sqrt(dp.k*ageAtTrenchSeconds))/dp.LS #diffusion depth of plate at the trench\n",
    "\n",
    "tempBL = (ndp.TPP - ndp.TSP)*fn.math.erf((depthFn*dp.LS)/(2.*fn.math.sqrt(dp.k*ageFn))) + ndp.TSP #boundary layer function\n",
    "tempTBL =  fn.branching.conditional([(depthFn < w0, tempBL),\n",
    "                          (True, ndp.TPP)])\n",
    "\n",
    "if not md.symmetricIcs:\n",
    "    if not checkpointLoad:\n",
    "        out = uw.utils.MeshVariable_Projection( temperatureField, tempTBL) #apply function with projection\n",
    "        out.solve()\n",
    "\n"
   ]
  },
  {
   "cell_type": "code",
   "execution_count": 107,
   "metadata": {
    "collapsed": false
   },
   "outputs": [
    {
     "data": {
      "text/plain": [
       "0.03449917953840105"
      ]
     },
     "execution_count": 107,
     "metadata": {},
     "output_type": "execute_result"
    }
   ],
   "source": [
    "w0"
   ]
  },
  {
   "cell_type": "code",
   "execution_count": 108,
   "metadata": {
    "collapsed": false
   },
   "outputs": [],
   "source": [
    "#Now build the perturbation part\n",
    "def inCircleFnGenerator(centre, radius):\n",
    "    coord = fn.input()\n",
    "    offsetFn = coord - centre\n",
    "    return fn.math.dot( offsetFn, offsetFn ) < radius**2\n",
    "\n",
    "\n",
    "\n",
    "#We use circles to define our slab and crust perturbation,  \n",
    "Oc = inCircleFnGenerator(Org , ndp.roc)\n",
    "Ic = inCircleFnGenerator(Org , ndp.roc - w0)\n",
    "Cc = inCircleFnGenerator(Org , ndp.roc - (1.2*ndp.MANTLETOCRUST)) #... weak zone on 'outside' of slab\n",
    "Hc = inCircleFnGenerator(Org , ndp.roc - ndp.HARZBURGDEPTH) #... Harzburgite layer \n",
    "dx = (ndp.roc)/(np.math.tan((np.math.pi/180.)*phi))\n",
    "\n",
    "#We'll also create a triangle which will truncate the circles defining the slab...\n",
    "if dp.sense == 'Left':\n",
    "    ptx = ndp.subzone - dx\n",
    "else:\n",
    "    ptx = ndp.subzone + dx\n",
    "coords = ((0.+ ndp.subzone, MAXY), (0.+ ndp.subzone, MAXY-ndp.roc), (ptx, MAXY))\n",
    "Tri = fn.shape.Polygon(np.array(coords))\n",
    "\n",
    "#Actually apply the perturbation - could probably avoid particle walk here\n",
    "if not md.symmetricIcs:\n",
    "    if not checkpointLoad:\n",
    "        sdFn = ((ndp.roc - fn.math.sqrt((coordinate[0] - Org[0])**2. + (coordinate[1] - Org[1])**2.)))\n",
    "        slabFn = ndp.TPP*fn.math.erf((sdFn*dp.LS)/(2.*math.sqrt(dp.k*ageAtTrenchSeconds))) + ndp.TSP\n",
    "        for index, coord in enumerate(mesh.data):\n",
    "            if (\n",
    "                Oc.evaluate(tuple(coord)) and\n",
    "                Tri.evaluate(tuple(coord)) and not\n",
    "                Ic.evaluate(tuple(coord)) and\n",
    "                coord[1] > (MAXY - ndp.maxDepth)\n",
    "                ): #In the quarter-circle defining the lithosphere\n",
    "                temperatureField.data[index] = slabFn.evaluate(mesh)[index]\n"
   ]
  },
  {
   "cell_type": "code",
   "execution_count": 109,
   "metadata": {
    "collapsed": false
   },
   "outputs": [],
   "source": [
    "#sdFn = ((RocM - fn.math.sqrt((coordinate[0] - Org[0])**2. + (coordinate[1] - Org[1])**2.)))\n",
    "#slabFn = ndp.TPP*fn.math.erf((sdFn*dp.LS)/(2.*math.sqrt(dp.k*ageAtTrenchSeconds))) + ndp.TSP\n",
    "#sdFn, slabFn"
   ]
  },
  {
   "cell_type": "code",
   "execution_count": 110,
   "metadata": {
    "collapsed": false
   },
   "outputs": [],
   "source": [
    "#Make sure material in sticky air region is at the surface temperature.\n",
    "for index, coord in enumerate(mesh.data):\n",
    "            if coord[1] >= MAXY:\n",
    "                temperatureField.data[index] = ndp.TSP"
   ]
  },
  {
   "cell_type": "code",
   "execution_count": 111,
   "metadata": {
    "collapsed": false
   },
   "outputs": [],
   "source": [
    "#fn.math.erf((sdFn*dp.LS)/(2.*fn.math.sqrt(dp.k*(slabmaxAge*(3600*24*365))))) \n",
    "#CRUSTVISCUTOFF, MANTLETOCRUST*3"
   ]
  },
  {
   "cell_type": "markdown",
   "metadata": {
    "collapsed": false
   },
   "source": [
    "def matplot_field(temperatureField, dp):\n",
    "    if uw.nProcs() != 1:\n",
    "        print(\"only in Serial folks\")\n",
    "    else:\n",
    "        import matplotlib.pyplot as pyplt\n",
    "        try :\n",
    "            if(__IPYTHON__) :\n",
    "                get_ipython().magic(u'matplotlib inline')\n",
    "        except NameError :\n",
    "            pass\n",
    "        field_data = temperatureField.data.reshape(mesh.elementRes[1] + 1, mesh.elementRes[0] + 1)\n",
    "        fig, ax = pyplt.subplots(figsize=(32,2))\n",
    "        ql = dp.LS/1e3\n",
    "        pyplt.ioff()\n",
    "        cax =ax.imshow(np.flipud(field_data), cmap='coolwarm', aspect = 0.5, extent=[0,ql*aspectRatio,ql, 0])\n",
    "        fig.colorbar(cax, orientation='horizontal' )\n",
    "        #ax.set_x([0,dp.LS*aspectRatio])\n",
    "        pyplt.tight_layout()\n",
    "        \n",
    "        return fig, ax\n",
    "        \n",
    "fig, ax = matplot_field(temperatureField, dp)\n",
    "fig.savefig('test.png')       "
   ]
  },
  {
   "cell_type": "code",
   "execution_count": 112,
   "metadata": {
    "collapsed": false
   },
   "outputs": [
    {
     "data": {
      "text/plain": [
       "(0.0, 1.0)"
      ]
     },
     "execution_count": 112,
     "metadata": {},
     "output_type": "execute_result"
    }
   ],
   "source": [
    "temperatureField.data.min(), temperatureField.data.max()\n"
   ]
  },
  {
   "cell_type": "code",
   "execution_count": 113,
   "metadata": {
    "collapsed": false
   },
   "outputs": [],
   "source": [
    "fig= glucifer.Figure(quality=3)\n",
    "fig.append( glucifer.objects.Surface(mesh,temperatureField))\n",
    "#fig.append( glucifer.objects.Surface(mesh,pressureField))\n",
    "\n",
    "\n",
    "#fig.append( glucifer.objects.Points(gSwarm,temperatureField ))\n",
    "#fig.append( glucifer.objects.Mesh(mesh))\n",
    "#fig.show()\n",
    "##\n",
    "#fig.save_database('test.gldb')\n",
    "#fig.save_image('test.png')\n"
   ]
  },
  {
   "cell_type": "code",
   "execution_count": 114,
   "metadata": {
    "collapsed": false
   },
   "outputs": [],
   "source": [
    "#test = fig.objects[0]\n",
    "#test.properties"
   ]
  },
  {
   "cell_type": "markdown",
   "metadata": {},
   "source": [
    "Boundary conditions\n",
    "-------"
   ]
  },
  {
   "cell_type": "code",
   "execution_count": 115,
   "metadata": {
    "collapsed": false
   },
   "outputs": [
    {
     "name": "stdout",
     "output_type": "stream",
     "text": [
      "2\n"
     ]
    }
   ],
   "source": [
    "for index in mesh.specialSets[\"MinJ_VertexSet\"]:\n",
    "    temperatureField.data[index] = ndp.TBP\n",
    "for index in mesh.specialSets[\"MaxJ_VertexSet\"]:\n",
    "    temperatureField.data[index] = ndp.TSP\n",
    "    \n",
    "iWalls = mesh.specialSets[\"MinI_VertexSet\"] + mesh.specialSets[\"MaxI_VertexSet\"]\n",
    "jWalls = mesh.specialSets[\"MinJ_VertexSet\"] + mesh.specialSets[\"MaxJ_VertexSet\"]\n",
    "tWalls = mesh.specialSets[\"MaxJ_VertexSet\"]\n",
    "bWalls =mesh.specialSets[\"MinJ_VertexSet\"]\n",
    "\n",
    "VelBCs = mesh.specialSets[\"Empty\"]\n",
    "\n",
    "\n",
    "\n",
    "if md.velBcs:\n",
    "    for index in list(tWalls.data):\n",
    "\n",
    "        if (mesh.data[int(index)][0] < (ndp.subzone - 0.05*md.aspectRatio) and \n",
    "            mesh.data[int(index)][0] > (mesh.minCoord[0] + 0.05*md.aspectRatio)): #Only push with a portion of teh overiding plate\n",
    "            #print \"first\"\n",
    "            VelBCs.add(int(index))\n",
    "            #Set the plate velocities for the kinematic phase\n",
    "            velocityField.data[index] = [ndp.plate_vel, 0.]\n",
    "        \n",
    "        elif (mesh.data[int(index)][0] > (ndp.subzone + 0.05*md.aspectRatio) and \n",
    "            mesh.data[int(index)][0] < (mesh.maxCoord[0] - 0.05*md.aspectRatio)):\n",
    "            #print \"second\"\n",
    "            VelBCs.add(int(index))\n",
    "            #Set the plate velocities for the kinematic phase\n",
    "            velocityField.data[index] = [0., 0.]\n",
    "        \n",
    "\n",
    "#If periodic, we'll fix a the x-vel at a single node - at the bottom left (index 0)\n",
    "Fixed = mesh.specialSets[\"Empty\"]\n",
    "Fixed.add(int(0))        \n",
    "        \n",
    "\n",
    "if periodic[0] == False:\n",
    "    if md.velBcs:\n",
    "        print(1)\n",
    "        freeslipBC = uw.conditions.DirichletCondition( variable      = velocityField, \n",
    "                                               indexSetsPerDof = ( iWalls + VelBCs, jWalls) )\n",
    "    else:\n",
    "        print(2)\n",
    "        freeslipBC = uw.conditions.DirichletCondition( variable      = velocityField, \n",
    "                                               indexSetsPerDof = ( iWalls, jWalls) )\n",
    "\n",
    "\n",
    "\n",
    "\n",
    "if periodic[0] == True:\n",
    "    if md.velBcs:\n",
    "        print(3)\n",
    "        freeslipBC = uw.conditions.DirichletCondition( variable      = velocityField, \n",
    "                                               indexSetsPerDof = ( Fixed + VelBCs , jWalls) )\n",
    "    else:\n",
    "        print(4)\n",
    "        freeslipBC = uw.conditions.DirichletCondition( variable      = velocityField, \n",
    "                                               indexSetsPerDof = ( Fixed, jWalls) )\n",
    "        \n",
    "    \n",
    "    \n",
    "    \n",
    "# also set dirichlet for temp field\n",
    "dirichTempBC = uw.conditions.DirichletCondition(     variable=temperatureField, \n",
    "                                              indexSetsPerDof=(tWalls,) )\n",
    "dT_dy = [0.,0.]\n",
    "\n",
    "# also set dirichlet for temp field\n",
    "neumannTempBC = uw.conditions.NeumannCondition( dT_dy, variable=temperatureField, \n",
    "                                         nodeIndexSet=bWalls)\n",
    "\n"
   ]
  },
  {
   "cell_type": "code",
   "execution_count": null,
   "metadata": {
    "collapsed": false
   },
   "outputs": [],
   "source": []
  },
  {
   "cell_type": "code",
   "execution_count": 116,
   "metadata": {
    "collapsed": false
   },
   "outputs": [],
   "source": [
    "#check VelBCs are where we want them\n",
    "#test = np.zeros(len(tWalls.data))\n",
    "#VelBCs\n",
    "#tWalls.data\n",
    "#tWalls.data[VelBCs.data]\n",
    "#test[np.in1d(tWalls.data, VelBCs.data)] = 1.\n",
    "#test\n",
    "\n"
   ]
  },
  {
   "cell_type": "code",
   "execution_count": null,
   "metadata": {
    "collapsed": false
   },
   "outputs": [],
   "source": []
  },
  {
   "cell_type": "markdown",
   "metadata": {},
   "source": [
    "Swarm setup\n",
    "-----\n"
   ]
  },
  {
   "cell_type": "code",
   "execution_count": 117,
   "metadata": {
    "collapsed": false
   },
   "outputs": [],
   "source": [
    "###########\n",
    "#Material Swarm and variables\n",
    "###########\n",
    "\n",
    "#create material swarm\n",
    "gSwarm = uw.swarm.Swarm(mesh=mesh, particleEscape=True)\n",
    "\n",
    "#create swarm variables\n",
    "yieldingCheck = gSwarm.add_variable( dataType=\"int\", count=1 )\n",
    "materialVariable = gSwarm.add_variable( dataType=\"int\", count=1 )\n",
    "ageVariable = gSwarm.add_variable( dataType=\"double\", count=1 )\n",
    "\n",
    "\n",
    "#these lists  are part of the checkpointing implementation\n",
    "varlist = [materialVariable, yieldingCheck, ageVariable]\n",
    "varnames = ['materialVariable', 'yieldingCheck', 'ageVariable']"
   ]
  },
  {
   "cell_type": "code",
   "execution_count": 118,
   "metadata": {
    "collapsed": false
   },
   "outputs": [],
   "source": [
    "mantleIndex = 0\n",
    "crustIndex = 1\n",
    "harzIndex = 2\n",
    "airIndex = 3\n",
    "\n",
    "\n",
    "\n",
    "if checkpointLoad:\n",
    "    temperatureField.load(os.path.join(checkpointLoadDir, \"temperatureField\" + \".hdf5\"))\n",
    "    pressureField.load(os.path.join(checkpointLoadDir, \"pressureField\" + \".hdf5\"))\n",
    "    velocityField.load(os.path.join(checkpointLoadDir, \"velocityField\" + \".hdf5\"))\n",
    "    gSwarm.load(os.path.join(checkpointLoadDir, \"swarm\" + \".h5\"))\n",
    "    for ix in range(len(varlist)):\n",
    "        varb = varlist[ix]\n",
    "        varb.load(os.path.join(checkpointLoadDir,varnames[ix] + \".h5\"))\n",
    "\n",
    "else:\n",
    "\n",
    "    # Layouts are used to populate the swarm across the whole domain\n",
    "    layout = uw.swarm.layouts.PerCellRandomLayout(swarm=gSwarm, particlesPerCell=int(md.ppc))\n",
    "    gSwarm.populate_using_layout( layout=layout ) # Now use it to populate.\n",
    "    # Swarm variables\n",
    "    materialVariable.data[:] = mantleIndex\n",
    "    #tracerVariable.data[:] = 1\n",
    "    yieldingCheck.data[:] = 0\n",
    "    ageVariable.data[:] = -1\n",
    "\n",
    "    #Set initial air and crust materials (allow the graph to take care of lithsophere)\n",
    "    #########\n",
    "    #This initial material setup will be model dependent\n",
    "    #########\n",
    "    for particleID in range(gSwarm.particleCoordinates.data.shape[0]):\n",
    "        if (1. - gSwarm.particleCoordinates.data[particleID][1]) < ndp.MANTLETOCRUST:\n",
    "                 materialVariable.data[particleID] = crustIndex"
   ]
  },
  {
   "cell_type": "code",
   "execution_count": 119,
   "metadata": {
    "collapsed": false
   },
   "outputs": [
    {
     "data": {
      "text/plain": [
       "array([0, 1, 2], dtype=int32)"
      ]
     },
     "execution_count": 119,
     "metadata": {},
     "output_type": "execute_result"
    }
   ],
   "source": [
    "###########\n",
    "#Little swarm to track subduction zone, ridge location\n",
    "###########\n",
    "swarmPlateBoundary = uw.swarm.Swarm( mesh=mesh )\n",
    "\n",
    "swarmCoords = np.array([ [ndp.subzone,1.], [ndp.lRidge,1.],[ndp.rRidge,1.]])\n",
    "\n",
    "\n",
    "swarmPlateBoundary.add_particles_with_coordinates(swarmCoords)"
   ]
  },
  {
   "cell_type": "markdown",
   "metadata": {
    "collapsed": false
   },
   "source": [
    "###########\n",
    "#This block sets up a checkboard layout of passive tracers\n",
    "###########\n",
    "\n",
    "square_size = 0.1\n",
    "xlist = np.arange(mesh.minCoord[0] + square_size/2., mesh.maxCoord[0] + square_size/2., square_size)\n",
    "xlist = zip(xlist[:], xlist[1:])[::2]\n",
    "ylist = np.arange(mesh.minCoord[1] + square_size/2., mesh.maxCoord[1] + square_size/2., square_size)\n",
    "ylist = zip(ylist[:], ylist[1:])[::2]\n",
    "xops = []\n",
    "for vals in xlist:\n",
    "    xops.append( (operator.and_(   operator.gt(coordinate[0],vals[0]),   operator.lt(coordinate[0],vals[1])  ),0.) )\n",
    "xops.append((True,1.))\n",
    "\n",
    "testfunc = fn.branching.conditional(xops) \n",
    "\n",
    "yops = []\n",
    "for vals in ylist:\n",
    "    yops.append( (operator.and_(   operator.gt(coordinate[1],vals[0]),   operator.lt(coordinate[1],vals[1])  ),0.) )\n",
    "yops.append((True,testfunc))\n",
    "\n",
    "testfunc2 = fn.branching.conditional(yops) \n",
    "tracerVariable.data[:] = testfunc.evaluate(gSwarm)\n",
    "tracerVariable.data[:] = testfunc2.evaluate(gSwarm)"
   ]
  },
  {
   "cell_type": "code",
   "execution_count": null,
   "metadata": {
    "collapsed": false
   },
   "outputs": [],
   "source": []
  },
  {
   "cell_type": "code",
   "execution_count": 120,
   "metadata": {
    "collapsed": false
   },
   "outputs": [],
   "source": [
    "##############\n",
    "#Set the initial particle age for particles above the critical depth; \n",
    "#only material older than crustageCond will be transformed to crust / harzburgite\n",
    "##############\n",
    "\n",
    "ageVariable.data[:] = 0. #start with all zero\n",
    "ageVariable.data[:] = ageFn.evaluate(gSwarm)/sf.SR\n",
    "crustageCond = 8e6*(3600.*365.*24.)/sf.SR #set inital age above critical depth. (x...Ma)\n",
    "\n",
    "\n",
    "\n",
    "ageConditions = [ (depthFn < ndp.AGETRACKDEPTH, ageVariable),  #In the main loop we add ageVariable + dt here\n",
    "                  (True, 0.) ]\n",
    "                 \n",
    "#apply conditional \n",
    "ageVariable.data[:] = fn.branching.conditional( ageConditions ).evaluate(gSwarm)\n",
    "\n",
    "ageDT = 0.#this is used in the main loop for short term time increments"
   ]
  },
  {
   "cell_type": "code",
   "execution_count": 121,
   "metadata": {
    "collapsed": false
   },
   "outputs": [],
   "source": [
    "##############\n",
    "#Here we set up a directed graph object that we we use to control the transformation from one material type to another\n",
    "##############\n",
    "\n",
    "#All depth conditions are given as (km/D) where D is the length scale,\n",
    "#note that 'model depths' are used, e.g. 1-z, where z is the vertical Underworld coordinate\n",
    "#All temp conditions are in dimensionless temp. [0. - 1.]\n",
    "\n",
    "#Need a list of all material indexes (safer in parallel)\n",
    "material_list = [0,1,2,3]\n",
    "\n",
    "if not checkpointLoad:\n",
    "    materialVariable.data[:] = 0 #Initialize to zero \n",
    "\n",
    "#Setup the graph object\n",
    "DG = material_graph.MatGraph()\n",
    "\n",
    "#Important: First thing to do is to add all the material types to the graph (i.e add nodes)\n",
    "DG.add_nodes_from(material_list)\n",
    "\n",
    "#Now set the conditions for transformations\n",
    "\n",
    "hs = 2e3/dp.LS  #add some hysteresis to the depths of transition\n",
    "\n",
    "#... to mantle\n",
    "DG.add_transition((crustIndex,mantleIndex), depthFn, operator.gt, ndp.CRUSTTOMANTLE + hs)\n",
    "DG.add_transition((harzIndex,mantleIndex), depthFn, operator.gt, ndp.CRUSTTOMANTLE + hs)\n",
    "DG.add_transition((airIndex,mantleIndex), depthFn, operator.gt, ndp.TOPOHEIGHT + hs)\n",
    "\n",
    "#... to crust\n",
    "DG.add_transition((mantleIndex,crustIndex), depthFn, operator.lt, ndp.MANTLETOCRUST)\n",
    "#DG.add_transition((mantleIndex,crustIndex), xFn, operator.lt, ndp.subzone + 4.*ndp.MANTLETOCRUST) #No crust on the upper plate\n",
    "DG.add_transition((mantleIndex,crustIndex), xFn, operator.lt, ndp.subzone) #No crust on the upper plate\n",
    "DG.add_transition((mantleIndex,crustIndex), ageVariable, operator.gt, crustageCond)\n",
    "\n",
    "\n",
    "\n",
    "DG.add_transition((harzIndex,crustIndex), depthFn, operator.lt, ndp.MANTLETOCRUST)\n",
    "DG.add_transition((harzIndex,crustIndex), xFn, operator.lt, ndp.subzone) #This one sets no crust on the upper plate\n",
    "DG.add_transition((harzIndex,crustIndex), ageVariable, operator.gt, crustageCond)\n",
    "\n",
    "#... to Harzbugite\n",
    "DG.add_transition((mantleIndex,harzIndex), depthFn, operator.lt, ndp.HARZBURGDEPTH)\n",
    "#DG.add_transition((mantleIndex,harzIndex), depthFn, operator.gt, ndp.MANTLETOCRUST)\n",
    "DG.add_transition((mantleIndex,harzIndex), ageVariable, operator.gt, crustageCond) #Note we can mix functions and swarm variabls\n",
    "\n",
    "\n",
    "#... to air\n",
    "DG.add_transition((mantleIndex,airIndex), depthFn, operator.lt,0.)\n",
    "DG.add_transition((crustIndex,airIndex), depthFn, operator.lt, 0. )\n",
    "DG.add_transition((harzIndex,airIndex), depthFn, operator.lt, 0. )\n",
    "\n",
    "\n",
    "\n",
    "\n",
    "\n",
    "\n",
    "\n"
   ]
  },
  {
   "cell_type": "code",
   "execution_count": 122,
   "metadata": {
    "collapsed": false
   },
   "outputs": [],
   "source": [
    "#CRUSTTOMANTLE, HARZBURGDEPTH, 0. + 7.*MANTLETOCRUST"
   ]
  },
  {
   "cell_type": "code",
   "execution_count": 123,
   "metadata": {
    "collapsed": false
   },
   "outputs": [
    {
     "data": {
      "text/plain": [
       "0.002758620689655172"
      ]
     },
     "execution_count": 123,
     "metadata": {},
     "output_type": "execute_result"
    }
   ],
   "source": [
    "ndp.MANTLETOCRUST"
   ]
  },
  {
   "cell_type": "code",
   "execution_count": 124,
   "metadata": {
    "collapsed": false
   },
   "outputs": [],
   "source": [
    "##############\n",
    "#For the slab_IC, we'll also add a crustal weak zone following the dipping perturbation\n",
    "##############\n",
    "\n",
    "if checkpointLoad != True:\n",
    "    if not md.symmetricIcs:\n",
    "        for particleID in range(gSwarm.particleCoordinates.data.shape[0]):\n",
    "            if gSwarm.particleCoordinates.data[particleID][1] < 0.:\n",
    "                materialVariable.data[particleID] = airIndex\n",
    "                \n",
    "            elif (\n",
    "                Oc.evaluate(list(gSwarm.particleCoordinates.data[particleID])) and\n",
    "                Tri.evaluate(list(gSwarm.particleCoordinates.data[particleID])) and\n",
    "                gSwarm.particleCoordinates.data[particleID][1] > (MAXY - ndp.maxDepth) and\n",
    "                Cc.evaluate(list(gSwarm.particleCoordinates.data[particleID])) == False\n",
    "                \n",
    "                ):\n",
    "                materialVariable.data[particleID] = crustIndex\n",
    "                \n",
    "            elif (\n",
    "                Oc.evaluate(list(gSwarm.particleCoordinates.data[particleID])) and\n",
    "                Tri.evaluate(list(gSwarm.particleCoordinates.data[particleID])) and\n",
    "                gSwarm.particleCoordinates.data[particleID][1] > (MAXY - ndp.maxDepth) and\n",
    "                Hc.evaluate(list(gSwarm.particleCoordinates.data[particleID])) == False\n",
    "                \n",
    "                ):\n",
    "                materialVariable.data[particleID] = harzIndex"
   ]
  },
  {
   "cell_type": "code",
   "execution_count": 125,
   "metadata": {
    "collapsed": true
   },
   "outputs": [],
   "source": [
    "#DG.remove_edges_from([(mantleIndex,crustIndex)])\n",
    "#DG.remove_edges_from([(harzIndex,crustIndex)])\n"
   ]
  },
  {
   "cell_type": "code",
   "execution_count": 126,
   "metadata": {
    "collapsed": false
   },
   "outputs": [],
   "source": [
    "#DG.build_condition_list(materialVariable)\n",
    "#print(len(DG.condition_list))\n",
    "#DG.condition_list"
   ]
  },
  {
   "cell_type": "code",
   "execution_count": 127,
   "metadata": {
    "collapsed": false
   },
   "outputs": [],
   "source": [
    "#DG.edges()\n",
    "#DG.build_condition_list(materialVariable)"
   ]
  },
  {
   "cell_type": "code",
   "execution_count": 128,
   "metadata": {
    "collapsed": false
   },
   "outputs": [],
   "source": [
    "##############\n",
    "#This is how we use the material graph object to test / apply material transformations\n",
    "##############\n",
    "DG.build_condition_list(materialVariable)\n",
    "\n",
    "for i in range(1): #Need to go through a number of times\n",
    "    materialVariable.data[:] = fn.branching.conditional(DG.condition_list).evaluate(gSwarm)"
   ]
  },
  {
   "cell_type": "code",
   "execution_count": 132,
   "metadata": {
    "collapsed": false
   },
   "outputs": [
    {
     "data": {
      "text/html": [
       "<img src='data:image/png;base64,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'>"
      ],
      "text/plain": [
       "<IPython.core.display.HTML object>"
      ]
     },
     "metadata": {},
     "output_type": "display_data"
    }
   ],
   "source": [
    "fig= glucifer.Figure(quality=3)\n",
    "\n",
    "fig.append( glucifer.objects.Points(gSwarm ,materialVariable ))\n",
    "#fig.append( glucifer.objects.Mesh(mesh))\n",
    "fig.show()\n",
    "##\n",
    "#fig.save_database('test.gldb')"
   ]
  },
  {
   "cell_type": "code",
   "execution_count": null,
   "metadata": {
    "collapsed": true
   },
   "outputs": [],
   "source": []
  },
  {
   "cell_type": "code",
   "execution_count": 135,
   "metadata": {
    "collapsed": false
   },
   "outputs": [
    {
     "data": {
      "text/plain": [
       "(0, 1)"
      ]
     },
     "execution_count": 135,
     "metadata": {},
     "output_type": "execute_result"
    }
   ],
   "source": [
    "mantleIndex,crustIndex"
   ]
  },
  {
   "cell_type": "code",
   "execution_count": 136,
   "metadata": {
    "collapsed": false
   },
   "outputs": [
    {
     "data": {
      "text/plain": [
       "[(0, 1), (0, 2), (0, 3), (1, 0), (1, 3), (2, 0), (2, 1), (2, 3), (3, 0)]"
      ]
     },
     "execution_count": 136,
     "metadata": {},
     "output_type": "execute_result"
    }
   ],
   "source": [
    "DG.edges()"
   ]
  },
  {
   "cell_type": "markdown",
   "metadata": {},
   "source": [
    "## Test - careful\n",
    "\n",
    "Now that we have our initial material layout, we'll place some more restrictions on material transitions\n"
   ]
  },
  {
   "cell_type": "code",
   "execution_count": 137,
   "metadata": {
    "collapsed": false
   },
   "outputs": [],
   "source": [
    "DG.remove_edges_from([(mantleIndex,crustIndex)])\n",
    "DG.add_edges_from([(mantleIndex,crustIndex)])\n",
    "\n",
    "#... to crust\n",
    "DG.add_transition((mantleIndex,crustIndex), depthFn, operator.lt, ndp.MANTLETOCRUST)\n",
    "DG.add_transition((mantleIndex,crustIndex), xFn, operator.lt, 0.5*ndp.lRidge) #No crust on the upper plate\n",
    "DG.add_transition((mantleIndex,crustIndex), ageVariable, operator.gt, crustageCond)\n",
    "\n",
    "\n",
    "#Make sure to rebuild the condition list if you want changes to be applied\n",
    "DG.build_condition_list(materialVariable)\n"
   ]
  },
  {
   "cell_type": "markdown",
   "metadata": {
    "collapsed": false
   },
   "source": [
    "## Fault stuff\n",
    "\n"
   ]
  },
  {
   "cell_type": "code",
   "execution_count": 138,
   "metadata": {
    "collapsed": false
   },
   "outputs": [
    {
     "name": "stderr",
     "output_type": "stream",
     "text": [
      "/workspace/2dthermalslabs/kaplan/unsupported_dan/interfaces/__init__.py:9: UserWarning: \n",
      "\n",
      "The interface module is not supported.\n",
      "Questions should be addressed to louis.moresi@unimelb.edu.au \n",
      " \n",
      "  Questions should be addressed to louis.moresi@unimelb.edu.au \\n \"\"\"\n",
      "/workspace/2dthermalslabs/kaplan/unsupported_dan/faults/__init__.py:9: UserWarning: \n",
      "\n",
      "The fault module is not supported.\n",
      "Questions should be addressed to louis.moresi@unimelb.edu.au \n",
      " \n",
      "  Questions should be addressed to louis.moresi@unimelb.edu.au \\n \"\"\"\n"
     ]
    }
   ],
   "source": [
    "from unsupported_dan.interfaces.marker2D import markerLine2D\n",
    "from unsupported_dan.faults.faults2D import fault2D, fault_collection"
   ]
  },
  {
   "cell_type": "code",
   "execution_count": 139,
   "metadata": {
    "collapsed": true
   },
   "outputs": [],
   "source": [
    "def copy_markerLine2D(ml, thickness=False, ID=False):\n",
    "    \n",
    "    \"\"\"\n",
    "    \n",
    "    \"\"\"\n",
    "    if not thickness:\n",
    "        thickness = ml.thickness\n",
    "    if not ID:\n",
    "        ID = -1*ml.ID\n",
    "    new_line = markerLine2D(mesh, velocityField, [], [], thickness,  ID)\n",
    "    if ml.swarm.particleCoordinates.data.shape[0] > 0:\n",
    "        new_line.swarm.add_particles_with_coordinates(ml.swarm.particleCoordinates.data.copy())\n",
    "        \n",
    "    new_line.rebuild()\n",
    "    return new_line"
   ]
  },
  {
   "cell_type": "code",
   "execution_count": 140,
   "metadata": {
    "collapsed": true
   },
   "outputs": [],
   "source": [
    "###########\n",
    "#Initial Coordinates for inerfaces and faults\n",
    "###########\n",
    "\n",
    "#subduction fault\n",
    "introPoint = ndp.subzone - abs(ndp.subzone - ndp.lRidge)/2. #half way between ridge and Sz\n",
    "faultthickness = ndp.MANTLETOCRUST #initialise fault at bottom of the crust\n",
    "nfault = 1000\n",
    "faultCoords =np.zeros((nfault, 2))\n",
    "\n",
    "reducedRocM = ndp.roc  - faultthickness\n",
    "xlimslab = reducedRocM*math.cos(math.pi*(90. - dp.theta)/180)\n",
    "faultCoords[:, 0] = np.linspace(introPoint, ndp.subzone + xlimslab, nfault) #note SZ location is hardcoded here \n",
    "for index, xval in np.ndenumerate(faultCoords[:,0]):\n",
    "    #print index, xval\n",
    "    #swarmCoords[index[0], 1] = 1. - isodepthFn.evaluate((xval, 0.)) #This bit for the plate \n",
    "    if  xval < ndp.subzone:\n",
    "        faultCoords[index[0], 1] = MAXY - faultthickness #This bit for the plate \n",
    "        \n",
    "    else:\n",
    "        faultCoords[index[0], 1] = (MAXY - (faultthickness) - (reducedRocM - ( math.sqrt((reducedRocM**2 - (xval-ndp.subzone)**2)))))\n",
    "        \n",
    "    \n",
    "faultCoords = faultCoords[faultCoords[:,1] > (MAXY - ndp.maxDepth)] #kill any deeper than cutoff\n",
    "\n",
    "\n",
    "#surface tracer interface:\n",
    "surfaceCoords =np.ones((nfault, 2))*1.\n",
    "surfaceCoords[:,0] = np.linspace(MINX, MAXX, nfault)\n",
    "\n",
    "\n",
    "\n"
   ]
  },
  {
   "cell_type": "code",
   "execution_count": 141,
   "metadata": {
    "collapsed": false
   },
   "outputs": [],
   "source": [
    "#Initiaze the swarms in a \n",
    "fault  = fault2D(mesh, velocityField, [], [], faultthickness, 0., 0., crustIndex)\n",
    "surface  = fault2D(mesh, velocityField, [], [], ndp.StALS, 0., 0., airIndex)\n",
    "#slab_seg  = marker2D.markerLine2D(mesh, velocityField, [], [], 1e9/dp.LS, crustIndex)   #Note very large fault thickness \n",
    "\n",
    "fault_coll = fault_collection([fault])\n",
    "\n",
    "\n",
    "\n",
    "#Initiaze the swarms in a \n",
    "#fault_seg  = marker2D.markerLine2D(mesh, velocityField, [], [], faultthickness, 0.0, 0.0, crustIndex)\n",
    "#surface_seg  = marker2D.markerLine2D(mesh, velocityField, [], [], ndp.StALS, 0.0, 0.0, airIndex)\n",
    "#slab_seg  = marker2D.markerLine2D(mesh, velocityField, [], [], 1e9/dp.LS, 0.0, 0.0, crustIndex)   #Note very large fault thickness\n",
    "\n",
    "#These lists are used to checkpoint the marker lines, similar to the swarm variables.        \n",
    "interfaces = []\n",
    "interfaces.append(fault)\n",
    "interfaces.append(surface)\n",
    "interfacenames = ['fault_seg', 'surface_seg']\n",
    "\n",
    "\n",
    "#If restarting, load the swarms from file Interfaces are just swarms, so should be fine to rely on parallel h5 machinery here\n",
    "if checkpointLoad:\n",
    "    for ix in range(len(interfaces)):\n",
    "        tempname = interfacenames[ix]\n",
    "        interfaces[ix].swarm.load(os.path.join(checkpointLoadDir,  tempname + \".h5\"))\n",
    "\n",
    "#otherwise add the point from at the initial locations\n",
    "else:\n",
    "    fault.add_points(faultCoords[:, 0], faultCoords[:, 1])\n",
    "    surface.add_points(surfaceCoords[:, 0], surfaceCoords[:, 1])\n",
    "    #slab_seg.add_points(slabCoords[:, 0], slabCoords[:, 1]) \n",
    "    \n"
   ]
  },
  {
   "cell_type": "code",
   "execution_count": 142,
   "metadata": {
    "collapsed": false
   },
   "outputs": [],
   "source": [
    "#Add variables to the surface swarm\n",
    "surfaceVelx = surface.swarm.add_variable( dataType=\"float\", count=1 )\n",
    "surfaceVelx.data[...] = velocityField[0].evaluate(surface.swarm)"
   ]
  },
  {
   "cell_type": "code",
   "execution_count": 143,
   "metadata": {
    "collapsed": true
   },
   "outputs": [],
   "source": [
    "#Add the necessary swarm variables\n",
    "\n",
    "proximityVariable      = gSwarm.add_variable( dataType=\"int\", count=1 )\n",
    "signedDistanceVariable = gSwarm.add_variable( dataType=\"float\", count=1 )\n",
    "directorVector   = gSwarm.add_variable( dataType=\"double\", count=2)\n",
    "\n",
    "directorVector.data[:,:] = 0.0\n",
    "proximityVariable.data[:] = 0\n",
    "signedDistanceVariable.data[:] = 0.0"
   ]
  },
  {
   "cell_type": "code",
   "execution_count": 144,
   "metadata": {
    "collapsed": false
   },
   "outputs": [],
   "source": [
    "#inform the mesh of the fault\n",
    "\n",
    "sd, pts0 = fault.compute_signed_distance(gSwarm.particleCoordinates.data, distance=w0)\n",
    "sp, pts0 = fault.compute_marker_proximity(gSwarm.particleCoordinates.data)\n",
    "\n",
    "proximityVariable.data[np.logical_and(sd<0,sp == fault.ID)] = sp[np.logical_and(sd<0,sp == fault.ID)]\n",
    "\n",
    "dv, nzv = fault.compute_normals(gSwarm.particleCoordinates.data)\n",
    "directorVector.data[nzv] = dv[nzv]\n",
    "\n",
    "\n",
    "\n",
    "\n",
    "edotn_SFn, edots_SFn = fault_coll.global_fault_strainrate_fns(velocityField, directorVector, proximityVariable)\n"
   ]
  },
  {
   "cell_type": "code",
   "execution_count": 145,
   "metadata": {
    "collapsed": false
   },
   "outputs": [],
   "source": [
    "\n",
    "\n",
    "# Call the Fault helper functions to initialize this info on the main material swarm\n",
    "    \n",
    "#update_swarm_from_faults(surface_seg, proximityVariable, directorVector, signedDistanceVariable)\n",
    "#mask_materials(surface_seg, airIndex, materialVariable, proximityVariable, directorVector, signedDistanceVariable)\n",
    "\n",
    "#update_swarm_from_faults(fault_seg, proximityVariable, directorVector, signedDistanceVariable)\n",
    "#mask_materials(fault_seg, crustIndex, materialVariable, proximityVariable, directorVector, signedDistanceVariable)\n",
    "\n",
    "#Also switch off proximity beneath ndp.CRUSTVISCUTOFF depth\n",
    "#proximityVariable.data[gSwarm.particleCoordinates.data[:,1]  < (1. - ndp.CRUSTVISCUTOFF)] = 0. \n",
    "\n",
    "# These should be general enough not to need updating when the faults move etc..\n",
    "#ie they should update as the fields/functions/swarm variables they are built on update\n",
    "#edotn_SFn, edots_SFn = fault_strainrate_fns(interfaces, velocityField, directorVector, proximityVariable)"
   ]
  },
  {
   "cell_type": "code",
   "execution_count": 146,
   "metadata": {
    "collapsed": false
   },
   "outputs": [],
   "source": [
    "## Take a look at the locations of the materials\n",
    "\n",
    "#Note we only use this mesh director for visualizing the directorVector (vector-on-swarm viewing not suppoted yet)\n",
    "#meshDirector = uw.mesh.MeshVariable( mesh, 2 )\n",
    "#projectDirector = uw.utils.MeshVariable_Projection( meshDirector, directorVector, type=1 )\n",
    "#projectDirector.solve()    \n",
    "\n",
    "figMaterials = glucifer.Figure( figsize=(1200,400))\n",
    "\n",
    "#Plot swarm associated with each fault\n",
    "figMaterials.append( glucifer.objects.Points(fault.swarm, colours=\"Black Black\", pointSize=2.0, colourBar=False) )\n",
    "\n",
    "\n",
    "#plot mesh director viz. guy\n",
    "#figMaterials.append( glucifer.objects.VectorArrows(mesh, meshDirector, scaling=.08, \n",
    "#                                               resolutionI=100, resolutionJ=20, opacity=0.25) )\n",
    "\n",
    "\n",
    "#Proximity variable - this is the colour\n",
    "figMaterials.append( glucifer.objects.Points(gSwarm, proximityVariable, \n",
    "                                             pointSize=5.0,  opacity=0.75) )\n",
    "\n",
    "\n",
    "#signedDistanceVariable - this variable goes to zero where the proximity cutoff is\n",
    "#note that it's signed...faults have a direction\n",
    "#figMaterials.append( glucifer.objects.Points(gSwarm, signedDistanceVariable, \n",
    "#                                             pointSize=2.0))\n",
    "\n",
    "#Add mesh\n",
    "#figMaterials.append( glucifer.objects.Mesh(mesh, opacity=0.1) )\n",
    "\n",
    "#figMaterials.show()\n",
    "#figMaterials.save_database('test.gldb')"
   ]
  },
  {
   "cell_type": "code",
   "execution_count": null,
   "metadata": {
    "collapsed": true
   },
   "outputs": [],
   "source": []
  },
  {
   "cell_type": "markdown",
   "metadata": {},
   "source": [
    "Rheology\n",
    "-----\n",
    "\n"
   ]
  },
  {
   "cell_type": "code",
   "execution_count": 147,
   "metadata": {
    "collapsed": false
   },
   "outputs": [],
   "source": [
    "##############\n",
    "#Set up any functions required by the rheology\n",
    "##############\n",
    "strainRate_2ndInvariant = fn.tensor.second_invariant( \n",
    "                            fn.tensor.symmetric( \n",
    "                            velocityField.fn_gradient ))\n",
    "\n",
    "def safe_visc(func, viscmin=ndp.eta_min, viscmax=ndp.eta_max):\n",
    "    return fn.misc.max(viscmin, fn.misc.min(viscmax, func))"
   ]
  },
  {
   "cell_type": "code",
   "execution_count": 148,
   "metadata": {
    "collapsed": true
   },
   "outputs": [],
   "source": [
    "#strainRate_2ndInvariant = fn.misc.constant(ndp.SR) #dummy fucntion to check which mechanisms are at active are reference strain rate"
   ]
  },
  {
   "cell_type": "code",
   "execution_count": 149,
   "metadata": {
    "collapsed": false
   },
   "outputs": [],
   "source": [
    "############\n",
    "#Rheology: create UW2 functions for all viscous mechanisms\n",
    "#############\n",
    "omega = fn.misc.constant(1.) #this function can hold any arbitary viscosity modifications \n",
    "\n",
    "\n",
    "#Note Because we're not using the pressure term, creep values will be unrealistically low at higher temps. \n",
    "#However this adpatation of the flow law gives us a nearly iso-viscous mantle, and a consistent viscosity (eta(T)) profile in the lithsphere\n",
    "dfScale = (math.exp(ndp.Edf/(1. + ndp.TS) ))\n",
    "diffusion = safe_visc((1./dfScale)*fn.math.exp(ndp.Edf / (temperatureField + ndp.TS)))\n",
    "\n",
    "##Define the Plasticity\n",
    "ys =  ndp.cm + (depthFn*ndp.fcmd)\n",
    "ysMax = 10e4*1e6*sf.stress\n",
    "ysf = fn.misc.min(ys, ysMax)\n",
    "yielding = ysf/(2.*(strainRate_2ndInvariant))\n",
    "\n",
    "##Crust rheology\n",
    "crustys =  ndp.cc + (depthFn*ndp.fccd) #only weakened cohesion is discussed, not fc\n",
    "crustvisc = crustys/(2.*(strainRate_2ndInvariant)) \n",
    "\n",
    "\n"
   ]
  },
  {
   "cell_type": "code",
   "execution_count": 150,
   "metadata": {
    "collapsed": false
   },
   "outputs": [],
   "source": [
    "#fig2= glucifer.Figure()\n",
    "#fig2.append( glucifer.objects.Surface(mesh, diffusion, logScale=True))\n",
    "#fig2.show()"
   ]
  },
  {
   "cell_type": "code",
   "execution_count": 151,
   "metadata": {
    "collapsed": false
   },
   "outputs": [],
   "source": [
    "############\n",
    "#Rheology: combine viscous mechanisms in various ways \n",
    "#harmonic: harmonic average of all mechanims\n",
    "#min: minimum effective viscosity of the mechanims\n",
    "#mixed: takes the minimum of the harmonic and the plastic effective viscosity\n",
    "#############\n",
    "\n",
    "\n",
    "#combined rheology    \n",
    "finalviscosityFn  = fn.branching.conditional([(depthFn < ndp.LOWMANTLEDEPTH, safe_visc(fn.misc.min(diffusion, yielding))),\n",
    "                                  (True, safe_visc(safe_visc(diffusion*ndp.low_mantle_visc_fac)))])\n",
    "\n",
    "\n",
    "crustviscosityFn = safe_visc(fn.misc.min(finalviscosityFn, crustvisc), ndp.eta_max_crust)\n",
    "\n",
    "if ndp.eta_max_crust == ndp.eta_min_crust: #If these are equal, set to constant visc. \n",
    "    crustviscosityFn = fn.misc.constant(ndp.eta_min_crust)\n",
    "    \n",
    "\n",
    "\n",
    "finalcrustviscosityFn  = fn.branching.conditional([(depthFn < ndp.CRUSTVISCUTOFF, crustviscosityFn),\n",
    "                                                     (True, finalviscosityFn)])"
   ]
  },
  {
   "cell_type": "markdown",
   "metadata": {},
   "source": [
    "Stokes system setup\n",
    "-----\n"
   ]
  },
  {
   "cell_type": "code",
   "execution_count": 152,
   "metadata": {
    "collapsed": true
   },
   "outputs": [],
   "source": [
    "buoyancyFn =  ndp.RA*temperatureField\n"
   ]
  },
  {
   "cell_type": "code",
   "execution_count": 153,
   "metadata": {
    "collapsed": false
   },
   "outputs": [],
   "source": [
    "densityMapFn = fn.branching.map( fn_key = materialVariable,\n",
    "                         mapping = {airIndex:ndp.StRA,\n",
    "                                    crustIndex:buoyancyFn, \n",
    "                                    mantleIndex:buoyancyFn,\n",
    "                                    harzIndex:buoyancyFn} )"
   ]
  },
  {
   "cell_type": "code",
   "execution_count": 154,
   "metadata": {
    "collapsed": true
   },
   "outputs": [],
   "source": [
    "\n",
    "# Define our vertical unit vector using a python tuple (this will be automatically converted to a function).\n",
    "gravity = ( 0.0, 1.0 )\n",
    "\n",
    "# Now create a buoyancy force vector using the density and the vertical unit vector. \n",
    "buoyancyFn = densityMapFn * gravity"
   ]
  },
  {
   "cell_type": "code",
   "execution_count": 67,
   "metadata": {
    "collapsed": false
   },
   "outputs": [
    {
     "name": "stderr",
     "output_type": "stream",
     "text": [
      "/root/underworld2/underworld/systems/_stokes.py:70: UserWarning: 'swarm' paramater has been renamed to 'voronoi_swarm'. Please update your models. 'swarm' parameter will be removed in the next release.\n",
      "  \"'swarm' parameter will be removed in the next release.\")\n"
     ]
    }
   ],
   "source": [
    "if md.PIC_integration:\n",
    "    stokesPIC = uw.systems.Stokes(velocityField=velocityField, \n",
    "                              pressureField=pressureField,\n",
    "                              conditions=[freeslipBC,],\n",
    "                              fn_viscosity=diffusion, \n",
    "                              fn_bodyforce=buoyancyFn,\n",
    "                              swarm=gSwarm)\n",
    "    \n",
    "\n",
    "else:\n",
    "    stokesPIC = uw.systems.Stokes(velocityField=velocityField, \n",
    "                              pressureField=pressureField,\n",
    "                              conditions=[freeslipBC,],\n",
    "                              fn_viscosity=diffusion, \n",
    "                              fn_bodyforce=buoyancyFn )"
   ]
  },
  {
   "cell_type": "code",
   "execution_count": 68,
   "metadata": {
    "collapsed": true
   },
   "outputs": [],
   "source": [
    "solver = uw.systems.Solver(stokesPIC)\n",
    "if not checkpointLoad:\n",
    "    solver.solve() #A solve on the linear visocisty is unhelpful unless we're starting from scratch"
   ]
  },
  {
   "cell_type": "code",
   "execution_count": 69,
   "metadata": {
    "collapsed": false
   },
   "outputs": [],
   "source": [
    "viscosityMapFn1 = fn.branching.map( fn_key = materialVariable,\n",
    "                         mapping = {crustIndex:finalcrustviscosityFn,\n",
    "                                    mantleIndex:finalviscosityFn,\n",
    "                                    harzIndex:finalviscosityFn,\n",
    "                                    airIndex:ndp.Steta_n} )\n",
    "\n",
    "\n",
    "delta_Steata2 = ndp.Steta_n - ndp.Steta_s\n",
    "delta_eta_fault = 0.\n",
    "\n",
    "if md.subductionFault:  \n",
    "    if ndp.eta_min_fault == ndp.eta_min_fault:#Transverse rheology is isoviscous\n",
    "        delta_eta_fault = fn.misc.min(0.999, fn.misc.max (0.,   ndp.eta_min_crust - ndp.eta_min_fault))       \n",
    "        \n",
    "    else:\n",
    "        #Transverse viscosity is related the Mohr-Coulomb criterion\n",
    "        delta_eta_fault = fn.misc.min(0.999, fn.misc.max (0., \n",
    "        viscosityMapFn1 - ((edotn_SFn*viscosityMapFn1 + ndp.fcfd * pressureField)  + ndp.cf)/edots_SFn))\n",
    "   "
   ]
  },
  {
   "cell_type": "code",
   "execution_count": 70,
   "metadata": {
    "collapsed": false
   },
   "outputs": [],
   "source": [
    "# This one maps to my fault-proximity variable (which also picks only materialV)\n",
    "viscosityMapFn2    = { 0: 0.0, \n",
    "                           1: delta_eta_fault, \n",
    "                           3: delta_Steata2\n",
    "                       }\n",
    "    \n",
    "\n",
    "viscosityMapFn2  = fn.branching.map( fn_key = proximityVariable, \n",
    "                                           mapping = viscosityMapFn2)"
   ]
  },
  {
   "cell_type": "code",
   "execution_count": 71,
   "metadata": {
    "collapsed": false
   },
   "outputs": [],
   "source": [
    "#orientation = -1.*90. * math.pi / 180.0  #vertical\n",
    "#math.cos(orientation), math.sin(orientation)"
   ]
  },
  {
   "cell_type": "code",
   "execution_count": 72,
   "metadata": {
    "collapsed": false
   },
   "outputs": [],
   "source": [
    "#md.subductionFault"
   ]
  },
  {
   "cell_type": "code",
   "execution_count": 73,
   "metadata": {
    "collapsed": false
   },
   "outputs": [],
   "source": [
    "#Add the non-linear viscosity to the Stokes system\n",
    "stokesPIC.fn_viscosity = viscosityMapFn1\n",
    "\n",
    "if md.stickyAir or md.subductionFault:\n",
    "    stokesPIC.fn_viscosity2 = viscosityMapFn2\n",
    "    stokesPIC._fn_director   = directorVector\n"
   ]
  },
  {
   "cell_type": "code",
   "execution_count": 74,
   "metadata": {
    "collapsed": false
   },
   "outputs": [
    {
     "name": "stdout",
     "output_type": "stream",
     "text": [
      "\u001b[1;35m\n",
      " \n",
      "Pressure iterations:   3\n",
      "Velocity iterations:   1 (presolve)      \n",
      "Velocity iterations:  -1 (pressure solve)\n",
      "Velocity iterations:   1 (backsolve)     \n",
      "Velocity iterations:   1 (total solve)   \n",
      " \n",
      "SCR RHS  solve time: 7.6641e-01\n",
      "Pressure solve time: 6.2539e-02\n",
      "Velocity solve time: 8.0989e-01 (backsolve)\n",
      "Total solve time   : 1.7503e+00\n",
      " \n",
      "Velocity solution min/max: 0.0000e+00/0.0000e+00\n",
      "Pressure solution min/max: 0.0000e+00/0.0000e+00\n",
      " \n",
      "\u001b[00m\n"
     ]
    }
   ],
   "source": [
    "solver.set_inner_method(\"mumps\")\n",
    "solver.options.scr.ksp_type=\"cg\"\n",
    "solver.set_penalty(1.0e7)\n",
    "solver.options.scr.ksp_rtol = 1.0e-4\n",
    "solver.solve(nonLinearIterate=True)\n",
    "solver.print_stats()"
   ]
  },
  {
   "cell_type": "code",
   "execution_count": 75,
   "metadata": {
    "collapsed": false
   },
   "outputs": [],
   "source": [
    "#Check which particles are yielding\n",
    "#yieldingCheck.data[:] = 0\n",
    "\n",
    "#yieldconditions = [ ( finalviscosityFn < Visc , 1), \n",
    "#               ( True                                           , 0) ]\n",
    "\n",
    "# use the branching conditional function to set each particle's index\n",
    "#yieldingCheck.data[:] = fn.branching.conditional( yieldconditions ).evaluate(gSwarm)"
   ]
  },
  {
   "cell_type": "code",
   "execution_count": 76,
   "metadata": {
    "collapsed": false
   },
   "outputs": [],
   "source": [
    "#velocityFieldIso       = uw.mesh.MeshVariable( mesh=mesh,         nodeDofCount=2 )\n",
    "#velocityFieldIso.data[:] = velocityField.data.copy()\n",
    "\n",
    "\n",
    "\n",
    "#strainRate_2ndInvariantIso = fn.tensor.second_invariant( \n",
    "#                            fn.tensor.symmetric( \n",
    "#                            velocityFieldIso.fn_gradient ))"
   ]
  },
  {
   "cell_type": "code",
   "execution_count": 77,
   "metadata": {
    "collapsed": true
   },
   "outputs": [],
   "source": [
    "#Set up a swarm Stress function\n",
    "\n",
    "swarmStressFn = 2.*stokesPIC.fn_viscosity*strainRate_2ndInvariant"
   ]
  },
  {
   "cell_type": "markdown",
   "metadata": {},
   "source": [
    "sym_strainRate = fn.tensor.symmetric( \n",
    "                            velocityField.fn_gradient )\n",
    "\n",
    "\n",
    "eig1       = uw.mesh.MeshVariable( mesh=mesh,         nodeDofCount=2 )\n",
    "\n",
    "eig2       = uw.mesh.MeshVariable( mesh=mesh,         nodeDofCount=2 )\n",
    "\n",
    "\n",
    "meshVisc = uw.mesh.MeshVariable( mesh, 1)\n",
    "projectGuy = uw.utils.MeshVariable_Projection(meshVisc, viscosityMapFn1, type=0 )\n",
    "projectGuy.solve() "
   ]
  },
  {
   "cell_type": "markdown",
   "metadata": {},
   "source": [
    "ssr = sym_strainRate.evaluate(mesh)\n",
    "\n",
    "\n",
    "for ti, val in enumerate(eig1.data):\n",
    "    eigVals, eigVex= np.linalg.eigh(np.array([[ssr[ti][0],ssr[ti][2]],[ssr[ti][2],ssr[ti][0]]]), UPLO='U')\n",
    "    #eig1.data[ti] = meshVisc.data[ti]*eigVals[0]*eigVex[0]\n",
    "    #eig2.data[ti] = meshVisc.data[ti]*eigVals[1]*eigVex[1]\n",
    "    eig1.data[ti] = eigVex[0]\n",
    "    eig2.data[ti] = eigVex[1]"
   ]
  },
  {
   "cell_type": "code",
   "execution_count": 78,
   "metadata": {
    "collapsed": false
   },
   "outputs": [],
   "source": [
    "#np.linalg.eigh(np.array([[1,1],[1,1]]), UPLO='U')"
   ]
  },
  {
   "cell_type": "markdown",
   "metadata": {},
   "source": [
    "mantleconditions = [ (                                  operator.and_(temperatureField < 0.9*TMAX, operator.and_(xFn> ndp.lRidge,xFn< ndp.rRidge )), 1.),\n",
    "                   (                                                   True , 0.) ]\n",
    "lithRestFn = fn.branching.conditional(mantleconditions)\n",
    "\n",
    "fig= glucifer.Figure(quality=3)\n",
    "fig.append( glucifer.objects.Surface(mesh,temperatureField))\n",
    "fig.append( glucifer.objects.VectorArrows(mesh,eig1*lithRestFn,arrowHead=0., scaling=1e-2, resolutionI=16*10, resolutionJ=16*2 ))\n",
    "#fig.append( glucifer.objects.VectorArrows(mesh,eig2,arrowHead=0., scaling=1e-2, resolutionI=16*5, resolutionJ=16))\n",
    "\n",
    "\n",
    "fig.show()\n",
    "##\n",
    "fig.save_database('test.gldb')"
   ]
  },
  {
   "cell_type": "markdown",
   "metadata": {},
   "source": [
    "Advection-diffusion System setup\n",
    "-----"
   ]
  },
  {
   "cell_type": "code",
   "execution_count": 79,
   "metadata": {
    "collapsed": false
   },
   "outputs": [],
   "source": [
    "advDiff = uw.systems.AdvectionDiffusion( phiField       = temperatureField, \n",
    "                                         phiDotField    = temperatureDotField, \n",
    "                                         velocityField  = velocityField,\n",
    "                                         fn_sourceTerm    = 0.0,\n",
    "                                         fn_diffusivity = 1.0, \n",
    "                                         #conditions     = [neumannTempBC, dirichTempBC] )\n",
    "                                         conditions     = [ dirichTempBC] )\n",
    "\n",
    "passiveadvector = uw.systems.SwarmAdvector( swarm         = gSwarm, \n",
    "                                     velocityField = velocityField, \n",
    "                                     order         = 1)"
   ]
  },
  {
   "cell_type": "code",
   "execution_count": 64,
   "metadata": {
    "collapsed": false
   },
   "outputs": [
    {
     "ename": "NameError",
     "evalue": "name 'gSwarm' is not defined",
     "output_type": "error",
     "traceback": [
      "\u001b[1;31m\u001b[0m",
      "\u001b[1;31mNameError\u001b[0mTraceback (most recent call last)",
      "\u001b[1;32m<ipython-input-64-cee718343334>\u001b[0m in \u001b[0;36m<module>\u001b[1;34m()\u001b[0m\n\u001b[0;32m      1\u001b[0m \u001b[1;31m#population_control = uw.swarm.PopulationControl(gSwarm,deleteThreshold=0.2,splitThreshold=1.,maxDeletions=3,maxSplits=0, aggressive=True, particlesPerCell=int(md.ppc))\u001b[0m\u001b[1;33m\u001b[0m\u001b[1;33m\u001b[0m\u001b[0m\n\u001b[0;32m      2\u001b[0m \u001b[1;33m\u001b[0m\u001b[0m\n\u001b[1;32m----> 3\u001b[1;33m \u001b[0mpopulation_control\u001b[0m \u001b[1;33m=\u001b[0m \u001b[0muw\u001b[0m\u001b[1;33m.\u001b[0m\u001b[0mswarm\u001b[0m\u001b[1;33m.\u001b[0m\u001b[0mPopulationControl\u001b[0m\u001b[1;33m(\u001b[0m\u001b[0mgSwarm\u001b[0m\u001b[1;33m,\u001b[0m\u001b[0mdeleteThreshold\u001b[0m\u001b[1;33m=\u001b[0m\u001b[1;36m0.006\u001b[0m\u001b[1;33m,\u001b[0m\u001b[0msplitThreshold\u001b[0m\u001b[1;33m=\u001b[0m\u001b[1;36m0.1\u001b[0m\u001b[1;33m,\u001b[0m\u001b[0mmaxDeletions\u001b[0m\u001b[1;33m=\u001b[0m\u001b[0mint\u001b[0m\u001b[1;33m(\u001b[0m\u001b[0mmd\u001b[0m\u001b[1;33m.\u001b[0m\u001b[0mppc\u001b[0m\u001b[1;33m/\u001b[0m\u001b[1;36m5\u001b[0m\u001b[1;33m)\u001b[0m\u001b[1;33m,\u001b[0m\u001b[0mmaxSplits\u001b[0m\u001b[1;33m=\u001b[0m\u001b[0mint\u001b[0m\u001b[1;33m(\u001b[0m\u001b[0mmd\u001b[0m\u001b[1;33m.\u001b[0m\u001b[0mppc\u001b[0m\u001b[1;33m/\u001b[0m\u001b[1;36m5\u001b[0m\u001b[1;33m)\u001b[0m\u001b[1;33m,\u001b[0m \u001b[0maggressive\u001b[0m\u001b[1;33m=\u001b[0m\u001b[0mTrue\u001b[0m\u001b[1;33m,\u001b[0m\u001b[0maggressiveThreshold\u001b[0m\u001b[1;33m=\u001b[0m\u001b[1;36m0.9\u001b[0m\u001b[1;33m,\u001b[0m \u001b[0mparticlesPerCell\u001b[0m\u001b[1;33m=\u001b[0m\u001b[0mint\u001b[0m\u001b[1;33m(\u001b[0m\u001b[0mmd\u001b[0m\u001b[1;33m.\u001b[0m\u001b[0mppc\u001b[0m\u001b[1;33m)\u001b[0m\u001b[1;33m)\u001b[0m\u001b[1;33m\u001b[0m\u001b[0m\n\u001b[0m",
      "\u001b[1;31mNameError\u001b[0m: name 'gSwarm' is not defined"
     ]
    }
   ],
   "source": [
    "#population_control = uw.swarm.PopulationControl(gSwarm,deleteThreshold=0.2,splitThreshold=1.,maxDeletions=3,maxSplits=0, aggressive=True, particlesPerCell=int(md.ppc))\n",
    "\n",
    "population_control = uw.swarm.PopulationControl(gSwarm,deleteThreshold=0.006,splitThreshold=0.1,maxDeletions=int(md.ppc/5),maxSplits=int(md.ppc/5), aggressive=True,aggressiveThreshold=0.9, particlesPerCell=int(md.ppc))"
   ]
  },
  {
   "cell_type": "markdown",
   "metadata": {},
   "source": [
    "Analysis functions / routines\n",
    "-----\n",
    "\n",
    "Most of the metrics we want to calculate are either:\n",
    "\n",
    "* extrema of some field / function\n",
    "* integral of some field / function\n",
    "* average value of some function (integral divide by area)\n",
    "\n",
    "In addition, we also want to be able to determine these metrics over some restricted part of the domain, where the restriction may either be due some value of a field, a material type, or something more arbitrary.\n",
    "\n",
    "Much of he challenge lies in defining these restriction functions in an efficient and robust way (i.e they don't break down as the model evolves)\n",
    "\n",
    "For volume integrals, and extrema, we build a hierarchy of restriction functions, each borrowing from the previous, until we have divided the domain into a number of sub regions of interest. \n",
    "\n",
    "In general, averages are found afterwards by combining the integral and the area of the relavent subregion"
   ]
  },
  {
   "cell_type": "code",
   "execution_count": 81,
   "metadata": {
    "collapsed": false
   },
   "outputs": [],
   "source": [
    "###################\n",
    "#Volume Restriction functions\n",
    "###################\n",
    "\n",
    "#Level 1. Global\n",
    "globRestFn = fn.misc.constant(1.)\n",
    "\n",
    "#Level 2. Rock - air:\n",
    "rockRestFn = uw.swarm.SwarmVariable(gSwarm, dataType='double', count=1)\n",
    "rockRestFn.data[:] = 0.\n",
    "rockRestFn.data[np.where(materialVariable.data[:] != airIndex)] = 1.\n",
    "rockRestFn *= globRestFn #Add next level up in heirarchy\n",
    "\n",
    "\n",
    "#Level 3. lithosphere - mantle:\n",
    "tempMM = fn.view.min_max(temperatureField)\n",
    "tempMM.evaluate(mesh)\n",
    "TMAX = tempMM.max_global()\n",
    "mantleconditions = [ (                                  operator.and_(temperatureField < 0.9*TMAX, operator.and_(xFn> ndp.lRidge,xFn< ndp.rRidge )), 1.),\n",
    "                   (                                                   True , 0.) ]\n",
    "lithRestFn = fn.branching.conditional(mantleconditions)\n",
    "lithRestFn*=rockRestFn #Add next level up in heirarchy\n",
    "\n",
    "\n",
    "#Level 4. lower plate - upper plate:\n",
    "\n",
    "\n",
    "#This whole section simply builds a restriction Fn that separates the upper and lower plate \n",
    "#It's pretty cumbersome, and will need to advected, rebuilt\n",
    "#can YOU think of a better way?\n",
    "   \n",
    "lowerPlateRestFn = gSwarm.add_variable( dataType=\"double\", count=1 )\n",
    "lowerPlateRestFn.data[:] = 0.0\n",
    "sd, pts0 = fault.compute_signed_distance(gSwarm.particleCoordinates.data, distance=w0)\n",
    "sp, pts0 = fault.compute_marker_proximity(gSwarm.particleCoordinates.data, distance=w0)\n",
    "\n",
    "lowerPlateRestFn.data[np.logical_and(sd>0,sp == fault.ID)] = sp[np.logical_and(sd>0,sp == fault.ID)]\n",
    "lowerPlateRestFn *= lithRestFn #Add next level up in heirarchy\n",
    "#The lowerPlateRestFn isn't working on restart - no idea why\n",
    "\n",
    "\n",
    "\n",
    "#Level 5. hinge of lower plate:\n",
    "\n",
    "hinge60Spatialconditions = [ (           operator.and_( (depthFn < (60e3/dp.LS)),  (xFn > ndp.subzone - 60e3/dp.LS)), 1.),\n",
    "                   (                                                   True , 0.) ]\n",
    "\n",
    "hinge60RestFn = fn.branching.conditional(hinge60Spatialconditions)\n",
    "hinge60RestFn*=lowerPlateRestFn #Add next level up in heirarchy\n",
    "\n",
    "\n",
    "\n",
    "hinge180Spatialconditions = [ (           operator.and_( (depthFn < (180e3/dp.LS)),  (xFn > ndp.subzone - 180e3/dp.LS)), 1.),\n",
    "                   (                                                   True , 0.) ]\n",
    "\n",
    "hinge180RestFn = fn.branching.conditional(hinge180Spatialconditions)\n",
    "hinge180RestFn*=lowerPlateRestFn #Add next level up in heirarchy\n",
    "\n",
    "\n",
    "#Level 6. crust/interface in hinge of lower plate:\n",
    "\n",
    "interfaceRestFn = uw.swarm.SwarmVariable(gSwarm, dataType='double', count=1)\n",
    "interfaceRestFn.data[:] = 0.\n",
    "interfaceRestFn.data[np.where(materialVariable.data[:] == crustIndex)] = 1.\n",
    "interfaceRestFn *= hinge60RestFn #Add next level up in heirarchy\n"
   ]
  },
  {
   "cell_type": "code",
   "execution_count": 82,
   "metadata": {
    "collapsed": false
   },
   "outputs": [],
   "source": [
    "respltconditions = [ \n",
    "                    (                                  hinge60RestFn*2. > rockRestFn*1., 1.),\n",
    "                    (                                  lowerPlateRestFn*3. > hinge60RestFn*2. , 3.),\n",
    "                    (                                  lithRestFn*5. > lowerPlateRestFn*3. , 4.),\n",
    "                   (                                                   True , 0.) ]\n",
    "\n",
    "respltFn = fn.branching.conditional(respltconditions )"
   ]
  },
  {
   "cell_type": "code",
   "execution_count": 83,
   "metadata": {
    "collapsed": false
   },
   "outputs": [],
   "source": [
    "#figR= glucifer.Figure()\n",
    "#fig.append( glucifer.objects.Points(gSwarm,respltFn))\n",
    "#fig.append( glucifer.objects.Points(gSwarm,lithRestFn))\n",
    "#figR.append( glucifer.objects.Points(gSwarm,lowerPlateRestFn))\n",
    "#fig.append( glucifer.objects.Points(gSwarm,hinge180RestFn))\n",
    "#fig.append( glucifer.objects.Points(gSwarm,interfaceRestFn))\n",
    "#figR.show()\n",
    "#figR.save_database('lptest.gldb')"
   ]
  },
  {
   "cell_type": "code",
   "execution_count": 84,
   "metadata": {
    "collapsed": true
   },
   "outputs": [],
   "source": [
    "###################\n",
    "#Surface Restriction functions\n",
    "###################\n",
    "\n",
    "def platenessFn(val = 0.1):\n",
    "    normgradV = fn.math.abs(velocityField.fn_gradient[0]/fn.math.sqrt(velocityField[0]*velocityField[0])) #[du*/dx]/sqrt(u*u)\n",
    "\n",
    "\n",
    "\n",
    "    srconditions = [ (                                  normgradV < val, 1.),\n",
    "                   (                                                   True , 0.) ]\n",
    "\n",
    "\n",
    "    return fn.branching.conditional(srconditions)\n",
    "\n",
    "srRestFn = platenessFn(val = 0.1)"
   ]
  },
  {
   "cell_type": "code",
   "execution_count": 85,
   "metadata": {
    "collapsed": false
   },
   "outputs": [],
   "source": [
    "###################\n",
    "#Setup any Functions to be integrated\n",
    "###################\n",
    "\n",
    "sqrtv2 = fn.math.sqrt(fn.math.dot(velocityField,velocityField))\n",
    "vx = velocityField[0]\n",
    "v2x = fn.math.dot(velocityField[0],velocityField[0])\n",
    "sqrtv2x = fn.math.sqrt(fn.math.dot(velocityField[0],velocityField[0]))\n",
    "dw = temperatureField*velocityField[1]\n",
    "sinner = fn.math.dot( strainRate_2ndInvariant, strainRate_2ndInvariant )\n",
    "vd = 2.*viscosityMapFn1*sinner\n",
    "dTdZ = temperatureField.fn_gradient[1]\n",
    "\n"
   ]
  },
  {
   "cell_type": "code",
   "execution_count": 86,
   "metadata": {
    "collapsed": false
   },
   "outputs": [],
   "source": [
    "###################\n",
    "#Create integral, max/min templates \n",
    "###################\n",
    "\n",
    "def volumeint(Fn = 1., rFn=globRestFn):\n",
    "    return uw.utils.Integral( Fn*rFn,  mesh )\n",
    "\n",
    "def surfint(Fn = 1., rFn=globRestFn, surfaceIndexSet=mesh.specialSets[\"MaxJ_VertexSet\"]):\n",
    "    return uw.utils.Integral( Fn*rFn, mesh=mesh, integrationType='Surface', surfaceIndexSet=surfaceIndexSet)\n",
    "\n",
    "def maxMin(Fn = 1.):\n",
    "    #maxMin(Fn = 1., rFn=globRestFn\n",
    "    #vuFn = fn.view.min_max(Fn*rFn) #the restriction functions don't work with the view.min_max fn yet\n",
    "    vuFn = fn.view.min_max(Fn)\n",
    "    return vuFn\n",
    "    \n",
    "   \n",
    "    "
   ]
  },
  {
   "cell_type": "code",
   "execution_count": 87,
   "metadata": {
    "collapsed": false
   },
   "outputs": [],
   "source": [
    "#Setup volume integrals on different sub regions\n",
    "\n",
    "##Whole rock domain\n",
    "\n",
    "_areaintRock = volumeint(rockRestFn)\n",
    "_tempintRock = volumeint(temperatureField, rockRestFn)\n",
    "_rmsintRock = volumeint(sqrtv2,rockRestFn)\n",
    "_dwintRock = volumeint(dw,rockRestFn)\n",
    "_vdintRock = volumeint(vd,rockRestFn)\n",
    "\n",
    "##Lith \n",
    "\n",
    "_areaintLith  = volumeint(lithRestFn)\n",
    "_tempintLith  = volumeint(temperatureField, lithRestFn)\n",
    "_rmsintLith  = volumeint(sqrtv2,lithRestFn)\n",
    "_dwintLith  = volumeint(dw,lithRestFn)\n",
    "_vdintLith  = volumeint(vd,lithRestFn)\n",
    "\n",
    "##Lower plate\n",
    "\n",
    "_areaintLower  = volumeint(lowerPlateRestFn)\n",
    "_tempintLower  = volumeint(temperatureField, lowerPlateRestFn)\n",
    "_rmsintLower  = volumeint(sqrtv2,lowerPlateRestFn)\n",
    "_dwintLower = volumeint(dw,lowerPlateRestFn)\n",
    "_vdintLower  = volumeint(vd,lowerPlateRestFn)\n",
    "\n",
    "##Hinge lower plate\n",
    "\n",
    "_areaintHinge180  = volumeint(hinge180RestFn)\n",
    "_vdintHinge180  = volumeint(vd,hinge180RestFn)\n",
    "\n",
    "_areaintHinge60  = volumeint(hinge60RestFn)\n",
    "_vdintHinge60  = volumeint(vd,hinge60RestFn)\n",
    "\n",
    "\n",
    "##Interface\n",
    "\n",
    "_areaintInterface  = volumeint(interfaceRestFn)\n",
    "_vdintInterface = volumeint(vd,interfaceRestFn)"
   ]
  },
  {
   "cell_type": "code",
   "execution_count": 88,
   "metadata": {
    "collapsed": false
   },
   "outputs": [],
   "source": [
    "#Setup surface integrals\n",
    "\n",
    "_surfLength = surfint()\n",
    "_rmsSurf = surfint(v2x)\n",
    "_nuTop = surfint(dTdZ)\n",
    "_nuBottom = surfint(dTdZ, surfaceIndexSet=mesh.specialSets[\"MinJ_VertexSet\"])\n",
    "_plateness = surfint(srRestFn)\n",
    "_pressure = surfint(pressureField)"
   ]
  },
  {
   "cell_type": "code",
   "execution_count": 89,
   "metadata": {
    "collapsed": false
   },
   "outputs": [],
   "source": [
    "#Setup max min fns (at the moment, we can't pass restriction function to view.min_max, so we're limited to whole volume or surface extrema)\n",
    "\n",
    "##Whole rock domain\n",
    "\n",
    "#_maxMinVisc = maxMin(viscosityMapFn1)  #These don't work on swarm variables or mapping functions, yet\n",
    "#dummyFn = _maxMinVisc.evaluate(mesh)\n",
    "#_maxMinStressInv = maxMin(2*viscosityMapFn1*strainRate_2ndInvariant) #These don't work on swarm variables or mapping functions, yet\n",
    "#dummyFn = _maxMinStress.evaluate(mesh)\n",
    "#_maxMinVd = maxMin(vd) #These don't work on swarm variables or mapping functions, yet\n",
    "#dummyFn = _maxMinVd.evaluate(mesh)\n",
    "\n",
    "\n",
    "_maxMinVel = maxMin(velocityField) \n",
    "dummyFn = _maxMinVel.evaluate(mesh)\n",
    "\n",
    "_maxMinSr = maxMin(strainRate_2ndInvariant) \n",
    "dummyFn = _maxMinSr.evaluate(mesh)\n",
    "\n",
    "\n",
    "#Surface extrema\n",
    "_maxMinVxSurf = maxMin(vx)\n",
    "dummyFn = _maxMinVxSurf.evaluate(tWalls)\n"
   ]
  },
  {
   "cell_type": "code",
   "execution_count": 90,
   "metadata": {
    "collapsed": false
   },
   "outputs": [],
   "source": [
    "#Volume Ints\n",
    "areaintRock = _areaintRock.evaluate()[0]\n",
    "tempintRock = _tempintRock.evaluate()[0]\n",
    "rmsintRock = _rmsintRock.evaluate()[0]\n",
    "dwintRock = _dwintRock.evaluate()[0]\n",
    "vdintRock = _vdintRock.evaluate()[0]\n",
    "areaintLith = _areaintLith.evaluate()[0]\n",
    "tempintLith = _tempintLith.evaluate()[0]\n",
    "rmsintLith = _rmsintLith.evaluate()[0]\n",
    "dwintLith = _dwintLith.evaluate()[0]\n",
    "vdintLith = _vdintLith.evaluate()[0]\n",
    "areaintLower = _areaintLower.evaluate()[0]\n",
    "tempintLower = _tempintLower.evaluate()[0]\n",
    "rmsintLower = _rmsintLower.evaluate()[0]\n",
    "dwintLower = _dwintLower.evaluate()[0]\n",
    "vdintLower = _vdintLower.evaluate()[0]\n",
    "vdintHinge180 = _vdintHinge180.evaluate()[0]\n",
    "areaintHinge180 = _areaintHinge180.evaluate()[0]\n",
    "vdintHinge60 = _vdintHinge60.evaluate()[0]\n",
    "areaintHinge60= _areaintHinge60.evaluate()[0]\n",
    "vdintInterface = _vdintInterface.evaluate()[0]\n",
    "areaintInterface= _areaintInterface.evaluate()[0]\n",
    "\n",
    "#Surface Ints\n",
    "surfLength = _surfLength.evaluate()[0]\n",
    "rmsSurf = _rmsSurf.evaluate()[0]\n",
    "nuTop = _nuTop.evaluate()[0]\n",
    "nuBottom = _nuBottom.evaluate()[0]\n",
    "plateness = _plateness.evaluate()[0]\n",
    "pressureSurf = _pressure.evaluate()[0]\n",
    "\n",
    "#Max mins\n",
    "maxVel = _maxMinVel.max_global()\n",
    "minVel = _maxMinVel.min_global() \n",
    "maxSr = _maxMinSr.max_global()\n",
    "minSr = _maxMinSr.min_global()\n",
    "maxVxsurf = _maxMinVxSurf.max_global()\n",
    "minVxsurf = _maxMinVxSurf.min_global()"
   ]
  },
  {
   "cell_type": "markdown",
   "metadata": {
    "collapsed": false
   },
   "source": [
    "print(areaintRock)\n",
    "print(tempintRock)\n",
    "print(rmsintRock)\n",
    "print(dwintRock)\n",
    "print(vdintRock)\n",
    "print(areaintLith)\n",
    "print(tempintLith )\n",
    "print(rmsintLith)\n",
    "print(dwintLith)\n",
    "print(vdintLith)\n",
    "print(areaintLower)\n",
    "print(tempintLower)\n",
    "print(rmsintLower) \n",
    "print(dwintLower)\n",
    "print(vdintLower)\n",
    "print(vdintHinge60)\n",
    "print(vdintHinge180)\n",
    "print(vdintInterface)\n",
    "\n",
    "print(surfLength)\n",
    "print(rmsSurf)\n",
    "print(nuTop)\n",
    "print(nuBottom)\n",
    "print(plateness)\n",
    "\n",
    "\n",
    "print(maxVel)\n",
    "print(minVel)\n",
    "print(maxSr)\n",
    "print(minSr)\n",
    "print(maxVxsurf)\n",
    "print(minVxsurf)"
   ]
  },
  {
   "cell_type": "markdown",
   "metadata": {},
   "source": [
    "Viz.\n",
    "-----"
   ]
  },
  {
   "cell_type": "code",
   "execution_count": 174,
   "metadata": {
    "collapsed": false
   },
   "outputs": [],
   "source": [
    "#Build a depth dependent mask for the vizualisation\n",
    "\n",
    "depthVariable      = gSwarm.add_variable( dataType=\"float\", count=1 )\n",
    "depthVariable.data[:] = depthFn.evaluate(gSwarm)\n",
    "\n",
    "vizVariable      = gSwarm.add_variable( dataType=\"int\", count=1 )\n",
    "vizVariable.data[:] = 0\n",
    "\n",
    "for index, value in enumerate(depthVariable.data[:]):\n",
    "    #print index, value\n",
    "    if np.random.rand(1)**5 > value/(MAXY - MINY):\n",
    "        vizVariable.data[index] = 1\n",
    "        \n",
    "del index, value    #get rid of any variables that might be pointing at the .data handles (these are!)"
   ]
  },
  {
   "cell_type": "code",
   "execution_count": 180,
   "metadata": {
    "collapsed": false
   },
   "outputs": [],
   "source": [
    "if figures == 'gldb':\n",
    "    #Pack some stuff into a database as well\n",
    "    figDb = glucifer.Figure()\n",
    "    #figDb.append( glucifer.objects.Points(swarmPlateBoundary, pointSize=4))\n",
    "    #figDb.append( glucifer.objects.Mesh(mesh))\n",
    "    #figDb.append( glucifer.objects.VectorArrows(mesh,velocityField, scaling=0.0005))\n",
    "    #figDb.append( glucifer.objects.Points(gSwarm,tracerVariable, colours= 'white black'))\n",
    "    figDb.append( glucifer.objects.Points(gSwarm,materialVariable))\n",
    "    \n",
    "    #figDb.append( glucifer.objects.Points(gSwarm,viscMinVariable))\n",
    "    figDb.append( glucifer.objects.Points(gSwarm, ageVariable))\n",
    "    #figDb.append( glucifer.objects.Points(gSwarm, viscosityMapFn1, logScale=True))\n",
    "    #figDb.append( glucifer.objects.Points(gSwarm, strainRate_2ndInvariant, logScale=True))\n",
    "    #figDb.append( glucifer.objects.Points(gSwarm,temperatureField))\n",
    "    #figDb.append( glucifer.objects.Points(gSwarm,pressureField))\n",
    "    figDb.append( glucifer.objects.Points(fault.swarm, pointSize=3))\n",
    "    \n",
    "    \n",
    "    #figRestrict= glucifer.Figure()\n",
    "    #figRestrict.append( glucifer.objects.Points(gSwarm,respltFn))\n",
    "    #figRestrict.append( glucifer.objects.Points(gSwarm,lithRestFn))\n",
    "    #figRestrict.append( glucifer.objects.Points(gSwarm,lowerPlateRestFn))\n",
    "    #figRestrict.append( glucifer.objects.Points(gSwarm,hinge180RestFn))\n",
    "    #figRestrict.append( glucifer.objects.Points(gSwarm,interfaceRestFn))\n",
    "    #figRestrict.append( glucifer.objects.Points(interfaces[0].swarm, colours=\"Blue Blue\", pointSize=2.0, colourBar=False) )\n",
    "    #figRestrict.append( glucifer.objects.Points(interfaces[1].swarm, colours=\"Red Red\", pointSize=2.0, colourBar=False) )\n",
    "    #figRestrict.append( glucifer.objects.Points(slab_seg.swarm, colours=\"Black Black\", pointSize=2.0, colourBar=False) )\n",
    "\n",
    "elif figures == 'store':\n",
    "    fullpath = os.path.join(outputPath + \"gldbs/\")\n",
    "    store1 = glucifer.Store(fullpath + 'subduction1.gldb')\n",
    "    store2 = glucifer.Store(fullpath + 'subduction2.gldb')\n",
    "    store3 = glucifer.Store(fullpath + 'subduction3.gldb')\n",
    "\n",
    "\n",
    "    figTemp = glucifer.Figure(store1,figsize=(300*np.round(md.aspectRatio,2),300))\n",
    "    figTemp.append( glucifer.objects.Points(gSwarm,temperatureField, fn_mask=vizVariable))\n",
    "\n",
    "    figVisc= glucifer.Figure(store2, figsize=(300*np.round(md.aspectRatio,2),300))\n",
    "    figVisc.append( glucifer.objects.Points(gSwarm,viscosityMapFn1, logScale=True, valueRange =[1.,1e5], fn_mask=vizVariable))\n",
    "\n",
    "\n",
    "    figMat= glucifer.Figure(store3, figsize=(300*np.round(md.aspectRatio,2),300))\n",
    "    matPoints = glucifer.objects.Points(gSwarm,materialVariable)\n",
    "    matPoints._fn_mask=vizVariable\n",
    "    figMat.append(matPoints )\n",
    "    #figMat.append( glucifer.objects.Points(fault.swarm, pointSize=3))\n",
    "    #figMat.append( glucifer.objects.Points(swarmPlateBoundary, pointSize=4))"
   ]
  },
  {
   "cell_type": "code",
   "execution_count": 182,
   "metadata": {
    "collapsed": true
   },
   "outputs": [],
   "source": [
    "#matPoints = glucifer.objects.Points(gSwarm,materialVariable, fn_mask=vizVariable)\n",
    "#figMat= glucifer.Figure(store3, figsize=(300*np.round(md.aspectRatio,2),300))\n",
    "#figMat.append(matPoints )"
   ]
  },
  {
   "cell_type": "markdown",
   "metadata": {},
   "source": [
    "**Miscellania**"
   ]
  },
  {
   "cell_type": "code",
   "execution_count": 93,
   "metadata": {
    "collapsed": false
   },
   "outputs": [
    {
     "name": "stderr",
     "output_type": "stream",
     "text": [
      "/usr/local/lib/python2.7/dist-packages/numpy/core/numeric.py:190: VisibleDeprecationWarning: using a non-integer number instead of an integer will result in an error in the future\n",
      "  a = empty(shape, dtype, order)\n"
     ]
    }
   ],
   "source": [
    "##############\n",
    "#Create a numpy array at the surface to get surface information on (using parallel-friendly evaluate_global)\n",
    "##############\n",
    "\n",
    "surface_xs = np.linspace(mesh.minCoord[0], mesh.maxCoord[0], mesh.elementRes[0] + 1)\n",
    "surface_nodes = np.array(zip(surface_xs, np.ones(len(surface_xs)*mesh.maxCoord[1]))) #For evaluation surface velocity\n",
    "normgradV = velocityField.fn_gradient[0]/fn.math.sqrt(velocityField[0]*velocityField[0])\n",
    "\n",
    "tempMM = fn.view.min_max(temperatureField)\n",
    "dummy = tempMM.evaluate(mesh)\n",
    "\n"
   ]
  },
  {
   "cell_type": "code",
   "execution_count": null,
   "metadata": {
    "collapsed": true
   },
   "outputs": [],
   "source": []
  },
  {
   "cell_type": "code",
   "execution_count": 94,
   "metadata": {
    "collapsed": false
   },
   "outputs": [],
   "source": [
    "##############\n",
    "#These functions handle checkpointing\n",
    "##############\n",
    "\n",
    "\n",
    "#Subzone = ndp.subzone\n",
    "\n",
    "\n",
    "def checkpoint1(step, checkpointPath,filename, filewrites):\n",
    "    path = checkpointPath + str(step) \n",
    "    os.mkdir(path)\n",
    "    ##Write and save the file, if not already a writing step\n",
    "    if not step % filewrites == 0:\n",
    "        f_o.write((30*'%-15s ' + '\\n') % (areaintRock, tempintRock, rmsintRock, dwintRock, vdintRock,\n",
    "                                  areaintLith, tempintLith,rmsintLith, dwintLith, vdintLith,\n",
    "                                  areaintLower, tempintLower, rmsintLower, dwintLower, vdintLower, \n",
    "                                  areaintHinge180,vdintHinge180, areaintHinge60, vdintHinge60, \n",
    "                                  areaintInterface, vdintInterface, vdintInterface,\n",
    "                                  rmsSurf, nuTop, nuBottom, plateness, ndp.subzone,ndp.lRidge, ndp.rRidge, realtime))\n",
    "    filename.close()\n",
    "    shutil.copyfile(os.path.join(outputPath, outputFile), os.path.join(path, outputFile))\n",
    "\n",
    "\n",
    "def checkpoint2(step, checkpointPath, swarm, filename, varlist = [materialVariable], varnames = ['materialVariable']):\n",
    "    path = checkpointPath + str(step) \n",
    "    velfile = \"velocityField\" + \".hdf5\"\n",
    "    tempfile = \"temperatureField\" + \".hdf5\"\n",
    "    pressfile = \"pressureField\" + \".hdf5\"\n",
    "    velocityField.save(os.path.join(path, velfile))\n",
    "    temperatureField.save(os.path.join(path, tempfile))\n",
    "    pressureField.save(os.path.join(path, pressfile))\n",
    "    swarm.save(os.path.join(path, \"swarm.h5\") ) \n",
    "    for ix in range(len(varlist)):\n",
    "        varb = varlist[ix]\n",
    "        varb.save(os.path.join(path,varnames[ix] + \".h5\"))\n",
    "    \n",
    "    #Save the parameters\n",
    "    dict_list = [dp, sf, ndp, md] #if any of the dictionaries have changed, this list needs to be rebuilt\n",
    "    save_pickles(dict_list, dict_names, path)\n",
    "    \n",
    "#Simple Checkpoint function for the faults / interfaces (markerLine2D)\n",
    "def checkpoint3(step,  checkpointPath, interfaces,interfacenames ):\n",
    "    path = checkpointPath + str(step)\n",
    "    for ix in range(len(interfaces)):\n",
    "        intf = interfaces[ix]\n",
    "        intf.swarm.save(os.path.join(path,interfacenames[ix] + \".h5\"))\n",
    "    \n",
    "    "
   ]
  },
  {
   "cell_type": "code",
   "execution_count": 95,
   "metadata": {
    "collapsed": false
   },
   "outputs": [],
   "source": [
    "def plate_infoFn(velocityField,xFn,  depthLimit, xsearchlim = 1.0, currentloc = 0.0, plateType='convergent'):\n",
    "    \"\"\"\n",
    "    This functions is used to track the plate boundaries in 2D.\n",
    "    It returns the x value of the max / min of the x velocity gradient.\n",
    "    \n",
    "    \"\"\"\n",
    "    \n",
    "    #Restriction fucntion \n",
    "    restictionFn = fn.branching.conditional([(operator.and_(fn.math.abs(xFn - currentloc) < xsearchlim, depthFn < depthLimit) , 1.),                                       \n",
    "                                             (True, 0.0)])\n",
    "    \n",
    "    #Normalised surface vel gradient\n",
    "    normgradV = velocityField.fn_gradient[0]/fn.math.sqrt(velocityField[0]*velocityField[0])\n",
    "\n",
    "    \n",
    "    plateFn0 = normgradV*restictionFn\n",
    "    \n",
    "    plateFn = fn.branching.conditional([(plateFn0 > 1e20, 0.),             #This attempts to fix inf values that appear at sidewalls                          \n",
    "                                             (True, plateFn0)])\n",
    "    \n",
    "    extremFn = fn.view.min_max(plateFn)\n",
    "    dummy = extremFn.evaluate(mesh)\n",
    "    \n",
    "    \n",
    "    print(extremFn.min_global(), extremFn.max_global())\n",
    "\n",
    "    #get global max\n",
    "    if plateType == 'convergent':   \n",
    "        testFn = fn.branching.conditional([(extremFn < extremFn.min_global() + 1e-10, coordinate[0]),                                       \n",
    "                                             (True, (-9999999.))])\n",
    "        extremFn2 = fn.view.min_max(testFn)\n",
    "        dummy2 = extremFn2.evaluate(mesh)\n",
    "        if extremFn2.max_global() == -9999999.:\n",
    "            return currentloc\n",
    "        else:\n",
    "            return extremFn2.max_global()\n",
    "    elif plateType == 'divergent':\n",
    "        testFn = fn.branching.conditional([(extremFn > extremFn.max_global() - 1e-3, coordinate[0]),                                       \n",
    "                                             (True, (-9999999.))])\n",
    "        extremFn2 = fn.view.min_max(testFn)\n",
    "        dummy2 = extremFn2.evaluate(mesh)\n",
    "        if extremFn2.max_global() == -9999999.:\n",
    "            return currentloc\n",
    "        else:\n",
    "            return extremFn2.max_global()\n",
    "    else:\n",
    "        raise ValueError('plateType should be one of convergent/divergent')"
   ]
  },
  {
   "cell_type": "code",
   "execution_count": 96,
   "metadata": {
    "collapsed": true
   },
   "outputs": [],
   "source": [
    "from scipy.spatial import cKDTree as kdTree\n",
    "\n",
    "def nn_evaluation(fromSwarm, toSwarm, n=1, weighted=False):\n",
    "    \"\"\"\n",
    "    This function provides nearest neighbour information for uw swarms, \n",
    "    given the \"toSwarm\", this function returns the indices of the n nearest neighbours in \"fromSwarm\"\n",
    "    it also returns the inverse-distance if weighted=True. \n",
    "    \n",
    "    The function works in parallel.\n",
    "    \n",
    "    The arrays come out a bit differently when used in nearest neighbour form\n",
    "    (n = 1), or IDW: (n > 1). The examples belowe show how to fill out a swarm variable in each case. \n",
    "    \n",
    "    \n",
    "    Usage n = 1:\n",
    "    ------------\n",
    "    ix, weights = nn_evaluation(swarm, fault.swarm, n=n, weighted=False)\n",
    "    toSwarmVar.data[:][:,0] =  fromSwarmVar.evaluate(fromSwarm)[_ix][:,0]\n",
    "    \n",
    "    Usage n > 1:\n",
    "    ------------\n",
    "    ix, weights = nn_evaluation(swarm, fault.swarm, n=n, weighted=False)\n",
    "    toSwarmVar.data[:][:,0] =  np.average(fromSwarmVar.evaluate(fromSwarm)[ix][:,:,0], weights=weights, axis=1)\n",
    "    \n",
    "    \"\"\"\n",
    "    \n",
    "    #print(\"fromSwarm data shape\", fromSwarm.particleCoordinates.data.shape)\n",
    "    \n",
    "    if len(toSwarm.particleCoordinates.data) > 0: #this is required for safety in parallel\n",
    "        \n",
    "        #we rebuild the tree as we assume the fromSwarm is being advected\n",
    "        fromSwarm.tree = kdTree(fromSwarm.particleCoordinates.data) \n",
    "        tree = fromSwarm.tree\n",
    "        d, ix = tree.query(toSwarm.particleCoordinates.data, n)\n",
    "        if n == 1:\n",
    "            weights = np.ones(toSwarm.particleCoordinates.data.shape[0])\n",
    "        elif not weighted:\n",
    "            weights = np.ones((toSwarm.particleCoordinates.data.shape[0], n))*(1./n)\n",
    "        else:\n",
    "            weights = (1./d[:])/(1./d[:]).sum(axis=1)[:,None]\n",
    "        return ix,  weights \n",
    "    else:\n",
    "        return  np.empty(0., dtype=\"int\"),  np.empty(0., dtype=\"int\")"
   ]
  },
  {
   "cell_type": "code",
   "execution_count": 97,
   "metadata": {
    "collapsed": false
   },
   "outputs": [],
   "source": [
    "# initialise timer for computation\n",
    "start = time.clock()\n"
   ]
  },
  {
   "cell_type": "markdown",
   "metadata": {},
   "source": [
    "Main simulation loop\n",
    "-----\n"
   ]
  },
  {
   "cell_type": "code",
   "execution_count": 65,
   "metadata": {
    "collapsed": false
   },
   "outputs": [
    {
     "ename": "NameError",
     "evalue": "name 'solver' is not defined",
     "output_type": "error",
     "traceback": [
      "\u001b[1;31m\u001b[0m",
      "\u001b[1;31mNameError\u001b[0mTraceback (most recent call last)",
      "\u001b[1;32m<ipython-input-65-702559f5d346>\u001b[0m in \u001b[0;36m<module>\u001b[1;34m()\u001b[0m\n\u001b[0;32m      3\u001b[0m \u001b[1;33m\u001b[0m\u001b[0m\n\u001b[0;32m      4\u001b[0m     \u001b[1;31m# solve Stokes and advection systems\u001b[0m\u001b[1;33m\u001b[0m\u001b[1;33m\u001b[0m\u001b[0m\n\u001b[1;32m----> 5\u001b[1;33m     \u001b[0msolver\u001b[0m\u001b[1;33m.\u001b[0m\u001b[0msolve\u001b[0m\u001b[1;33m(\u001b[0m\u001b[0mnonLinearIterate\u001b[0m\u001b[1;33m=\u001b[0m\u001b[0mTrue\u001b[0m\u001b[1;33m)\u001b[0m\u001b[1;33m\u001b[0m\u001b[0m\n\u001b[0m\u001b[0;32m      6\u001b[0m \u001b[1;33m\u001b[0m\u001b[0m\n\u001b[0;32m      7\u001b[0m     \u001b[1;31m#remove drift /null space in pressure\u001b[0m\u001b[1;33m\u001b[0m\u001b[1;33m\u001b[0m\u001b[0m\n",
      "\u001b[1;31mNameError\u001b[0m: name 'solver' is not defined"
     ]
    }
   ],
   "source": [
    "#while step < 6:\n",
    "while realtime < 0.00004:\n",
    "\n",
    "    # solve Stokes and advection systems\n",
    "    solver.solve(nonLinearIterate=True)\n",
    "    \n",
    "    #remove drift /null space in pressure\n",
    "    pressureField.data[:] -= pressureSurf/surfLength\n",
    "    \n",
    "    \n",
    "    dt = advDiff.get_max_dt()\n",
    "    if step == 0:\n",
    "        dt = 0.\n",
    "    advDiff.integrate(dt)\n",
    "    passiveadvector.integrate(dt)\n",
    "    #advect any interfaces\n",
    "    fault.advection(dt)\n",
    "    \n",
    "    \n",
    "    \n",
    "    # Increment\n",
    "    realtime += dt\n",
    "    step += 1\n",
    "    timevals.append(realtime)\n",
    "    ################\n",
    "    #Update temperature field in the air region\n",
    "    #Do this better...\n",
    "    ################\n",
    "    if (step % sticky_air_temp == 0):\n",
    "        for index, coord in enumerate(mesh.data):\n",
    "            if coord[1] >= 1.:\n",
    "                temperatureField.data[index] = ndp.TSP\n",
    "                \n",
    "    ################\n",
    "    #Files output\n",
    "    ################ \n",
    "    if (step % files_output == 0):\n",
    "        \n",
    "        gSwarm.update_particle_owners()\n",
    "        \n",
    "        #Save the fault swarm\n",
    "        fnametemp1 = \"faultSwarm\" + \"_\" + str(step)\n",
    "        fullpath1 = os.path.join(outputPath + \"files/\" + fnametemp1)\n",
    "        fault.swarm.save(fullpath1)\n",
    "        \n",
    "        #build a metric swarm and save values\n",
    "        #Copy the fault and jitter, this is the swarm we'll capture inteface details on \n",
    "\n",
    "        metricSwarm  = copy_markerLine2D(fault)\n",
    "        \n",
    "        #translate the metric swarm into desired location\n",
    "        ds = ndp.MANTLETOCRUST/2.\n",
    "        with metricSwarm.swarm.deform_swarm():\n",
    "            metricSwarm.swarm.particleCoordinates.data[...] -= metricSwarm.director.data[...]*ds\n",
    "            \n",
    "        \n",
    "        gSwarm.update_particle_owners()\n",
    "        metricSwarm.swarm.update_particle_owners()\n",
    "         \n",
    "        comm.barrier()\n",
    "        #build the arrays for nearest neighbour evaluation on the metric swarm\n",
    "        _ix, _weights = nn_evaluation(gSwarm, metricSwarm.swarm, n=5, weighted=True)\n",
    "        #_ix, _weights = nn_evaluation(gSwarm, metricSwarm.swarm, n=1, weighted=False)\n",
    "        \n",
    "        \n",
    "        \n",
    "        #set up some swarm variables\n",
    "        interfaceSinv = metricSwarm.swarm.add_variable( dataType=\"float\", count=1 )\n",
    "        if len(metricSwarm.swarm.particleCoordinates.data) > 0:\n",
    "            interfaceSinv.data[:] = strainRate_2ndInvariant.evaluate(metricSwarm.swarm)\n",
    "        \n",
    "        interfaceVisc = metricSwarm.swarm.add_variable( dataType=\"float\", count=1 )\n",
    "        if len(metricSwarm.swarm.particleCoordinates.data) > 0:\n",
    "            interfaceVisc.data[:][:,0] = np.average(viscosityMapFn1.evaluate(gSwarm)[_ix][:,:,0], weights=_weights, axis=1)\n",
    "\n",
    "    \n",
    "        interfaceStress = metricSwarm.swarm.add_variable( dataType=\"float\", count=1 )\n",
    "        if len(metricSwarm.swarm.particleCoordinates.data) > 0:\n",
    "            interfaceStress.data[:][:,0] = np.average(swarmStressFn.evaluate(gSwarm)[_ix][:,:,0], weights=_weights, axis=1)\n",
    "\n",
    "        \n",
    "        uw.barrier()\n",
    "        #Save metric swarm and swarm vars. \n",
    "        fnametemp = \"metricSwarm\" + \"_\" + str(step) + '.h5'\n",
    "        fullpath = os.path.join(outputPath + \"files/\" + fnametemp)\n",
    "        metricSwarm.swarm.save(fullpath)\n",
    "        #\n",
    "        uw.barrier()\n",
    "        fnametemp = \"interfaceSinv\" + \"_\" + str(step)+ '.h5'\n",
    "        fullpath = os.path.join(outputPath + \"files/\" + fnametemp)\n",
    "        interfaceSinv.save(fullpath)\n",
    "        #\n",
    "        uw.barrier()\n",
    "        fnametemp = \"interfaceVisc\" + \"_\" + str(step) + '.h5'\n",
    "        fullpath = os.path.join(outputPath + \"files/\" + fnametemp)\n",
    "        interfaceVisc.save(fullpath)\n",
    "        #\n",
    "        uw.barrier()\n",
    "        fnametemp = \"interfaceStress\" + \"_\" + str(step) + '.h5'\n",
    "        fullpath = os.path.join(outputPath + \"files/\" + fnametemp)\n",
    "        interfaceStress.save(fullpath)\n",
    "        \n",
    "        \n",
    "        del metricSwarm, interfaceSinv, interfaceVisc,interfaceStress, _ix, _weights #now delete them\n",
    "        \n",
    "        #Now the surface x vels.\n",
    "        surfaceVelx.data[...] = velocityField[0].evaluate(surface.swarm)\n",
    "        fnametemp = \"velxSurface\" + \"_\" + str(step) + '.h5'\n",
    "        fullpath = os.path.join(outputPath + \"files/\" + fnametemp)\n",
    "        surfaceVelx.save(fullpath)\n",
    "\n",
    "    ################\n",
    "    #Fault / interface repair\n",
    "    ################    \n",
    "    #Any functions to do with repairing the interfaces should go here\n",
    "    \n",
    "                \n",
    "    ################\n",
    "    #Update the subduction zone / plate information\n",
    "    ################ \n",
    "    \n",
    "    comm.barrier()\n",
    "    if (step % files_output == 0):\n",
    "        \n",
    "\n",
    "        ndp.subzone = plate_infoFn(velocityField,xFn,  20e3/dp.LS, xsearchlim = 200e3/dp.LS, currentloc = ndp.subzone, plateType='convergent')\n",
    "        ndp.lRidge = plate_infoFn(velocityField,xFn,  20e3/dp.LS, xsearchlim = 200e3/dp.LS, currentloc = ndp.lRidge, plateType='divergent')\n",
    "        ndp.rRidge = plate_infoFn(velocityField,xFn,  20e3/dp.LS, xsearchlim = 200e3/dp.LS, currentloc = ndp.rRidge, plateType='divergent')\n",
    "\n",
    "                \n",
    "    ################\n",
    "    # Calculate the Metrics\n",
    "    ################\n",
    "    if (step % metric_output == 0):\n",
    "        ###############\n",
    "        #Rebuild the restriction functions where necessary\n",
    "        ###############\n",
    "        \n",
    "        #Lithosphere - mantle:\n",
    "        tempMM = fn.view.min_max(temperatureField)\n",
    "        tempMM.evaluate(mesh)\n",
    "        TMAX = tempMM.max_global()\n",
    "        mantleconditions = [ (                                  operator.and_(temperatureField < 0.9*TMAX, operator.and_(xFn> ndp.lRidge,xFn< ndp.rRidge )), 1.),\n",
    "                   (                                                   True , 0.) ]\n",
    "        lithRestFn = fn.branching.conditional(mantleconditions)\n",
    "        lithRestFn*=rockRestFn #Add next level up in heirarchy\n",
    "        \n",
    "        #Lower plate\n",
    "        \n",
    "        lowerPlateRestFn = gSwarm.add_variable( dataType=\"double\", count=1 ) #weirdly we have to rebuild this one...\n",
    "        lowerPlateRestFn.data[:] = 0.0\n",
    "        sd, pts0 = fault.compute_signed_distance(gSwarm.particleCoordinates.data, distance=w0)\n",
    "        sp, pts0 = fault.compute_marker_proximity(gSwarm.particleCoordinates.data, distance=w0)\n",
    "        lowerPlateRestFn.data[np.logical_and(sd>0,sp == fault.ID)] = sp[np.logical_and(sd>0,sp == fault.ID)]\n",
    "        lowerPlateRestFn *= lithRestFn #Add next level up in heirarchy\n",
    "        \n",
    "        #Hinge\n",
    "        \n",
    "        hinge60Spatialconditions = [ (           operator.and_( (depthFn < MAXY - (60e3/dp.LS)),  (xFn > ndp.subzone - 60e3/dp.LS)), 1.),\n",
    "                   (                                                   True , 0.) ]\n",
    "        hinge60RestFn = fn.branching.conditional(hinge60Spatialconditions)\n",
    "        hinge60RestFn*=lowerPlateRestFn #Add next level up in hierarchy\n",
    "\n",
    "\n",
    "\n",
    "        hinge180Spatialconditions = [ (           operator.and_( (depthFn < MAXY - (180e3/dp.LS)),  (xFn > ndp.subzone - 180e3/dp.LS)), 1.),\n",
    "                           (                                                   True , 0.) ]\n",
    "        hinge180RestFn = fn.branching.conditional(hinge180Spatialconditions)\n",
    "        hinge180RestFn*=lowerPlateRestFn #Add next level up in hierarchy\n",
    "        \n",
    "        ###############\n",
    "        #Metrics\n",
    "        ###############\n",
    "        areaintRock = _areaintRock.evaluate()[0] #trivial except when using sticky air\n",
    "        tempintRock = _tempintRock.evaluate()[0]\n",
    "        rmsintRock = _rmsintRock.evaluate()[0]\n",
    "        dwintRock = _dwintRock.evaluate()[0]\n",
    "        vdintRock = _vdintRock.evaluate()[0]\n",
    "        areaintLith = _areaintLith.evaluate()[0]\n",
    "        tempintLith = _tempintLith.evaluate()[0]\n",
    "        rmsintLith = _rmsintLith.evaluate()[0]\n",
    "        dwintLith = _dwintLith.evaluate()[0]\n",
    "        vdintLith = _vdintLith.evaluate()[0]\n",
    "        areaintLower = _areaintLower.evaluate()[0]\n",
    "        tempintLower = _tempintLower.evaluate()[0]\n",
    "        rmsintLower = _rmsintLower.evaluate()[0]\n",
    "        dwintLower = _dwintLower.evaluate()[0]\n",
    "        vdintLower = _vdintLower.evaluate()[0]\n",
    "        vdintHinge180 = _vdintHinge180.evaluate()[0]\n",
    "        areaintHinge180 = _areaintHinge180.evaluate()[0]\n",
    "        vdintHinge60 = _vdintHinge60.evaluate()[0]\n",
    "        areaintHinge60= _areaintHinge60.evaluate()[0]\n",
    "        vdintInterface = _vdintInterface.evaluate()[0]\n",
    "        areaintInterface= _areaintInterface.evaluate()[0]\n",
    "        #Surface integrals\n",
    "        rmsSurf = _rmsSurf.evaluate()[0]\n",
    "        nuTop = _nuTop.evaluate()[0]\n",
    "        nuBottom = _nuBottom.evaluate()[0]\n",
    "        plateness = _plateness.evaluate()[0]\n",
    "        #extrema\n",
    "        maxVel = _maxMinVel.max_global()\n",
    "        minVel = _maxMinVel.min_global() \n",
    "        maxSr = _maxMinSr.max_global()\n",
    "        minSr = _maxMinSr.min_global()\n",
    "        maxVxsurf = _maxMinVxSurf.max_global()\n",
    "        minVxsurf = _maxMinVxSurf.min_global()\n",
    "        # output to summary text file\n",
    "        if uw.rank()==0:\n",
    "            f_o.write((30*'%-15s ' + '\\n') % (areaintRock, tempintRock, rmsintRock, dwintRock, vdintRock,\n",
    "                                  areaintLith, tempintLith,rmsintLith, dwintLith, vdintLith,\n",
    "                                  areaintLower, tempintLower, rmsintLower, dwintLower, vdintLower, \n",
    "                                  areaintHinge180,vdintHinge180, areaintHinge60, vdintHinge60, \n",
    "                                  areaintInterface, vdintInterface, vdintInterface,\n",
    "                                  rmsSurf, nuTop, nuBottom, plateness, ndp.subzone,ndp.lRidge, ndp.rRidge, realtime))\n",
    "    ################\n",
    "    #Also repopulate entire swarm periodically\n",
    "    ################\n",
    "    if step % swarm_repop == 0:\n",
    "        population_control.repopulate()   \n",
    "    ################\n",
    "    #Gldb output\n",
    "    ################ \n",
    "    if (step % gldbs_output == 0): \n",
    "        \n",
    "        #ReBuild the depth dependent mask for the vizualisation\n",
    "        depthVariable      = gSwarm.add_variable( dataType=\"float\", count=1 )\n",
    "        depthVariable.data[:] = depthFn.evaluate(gSwarm)\n",
    "        vizVariable      = gSwarm.add_variable( dataType=\"int\", count=1 )\n",
    "        vizVariable.data[:] = 0\n",
    "        for index, value in enumerate(depthVariable.data[:]):\n",
    "            #print index, value\n",
    "            if np.random.rand(1)**5 > value/(MAXY - MINY):\n",
    "                vizVariable.data[index] = 1\n",
    "        del index, value    #get rid of any variables that might be pointing at the .data handles (these are!)\n",
    "        \n",
    "        \n",
    "        \n",
    "        if figures == 'gldb':\n",
    "            \n",
    "            \n",
    "            #Remember to rebuild any necessary swarm variables\n",
    "            fnamedb = \"dbFig\" + \"_\" + str(step) + \".gldb\"\n",
    "            fullpath = os.path.join(outputPath + \"gldbs/\" + fnamedb)\n",
    "            figDb.save_database(fullpath)\n",
    "\n",
    "            \n",
    "            \n",
    "            \n",
    "        elif figures == 'store':      \n",
    "            \n",
    "            \n",
    "            #rebuild the figures masks - see if this helps with 'seeing' the vizVariable (and doesn't bugger the store)\n",
    "            matPoints._fn_mask=vizVariable\n",
    "    \n",
    "            \n",
    "            store1.step = step\n",
    "            store2.step = step\n",
    "            store3.step = step\n",
    "            \n",
    "            #Save figures to store\n",
    "            fullpath = os.path.join(outputPath + \"gldbs/\")\n",
    "            figVisc.save( fullpath + \"Visc\" + str(step).zfill(4))\n",
    "            #figMech.save( fullPath + \"Mech\" + str(step).zfill(4))\n",
    "            figTemp.save( fullpath + \"Temp\"    + str(step).zfill(4))\n",
    "            figMat.save( fullpath + \"Mat\"    + str(step).zfill(4))\n",
    "\n",
    "        \n",
    "\n",
    "        \n",
    "\n",
    "    ################\n",
    "    #Particle update\n",
    "    ###############    \n",
    "    #ageVariable.data[:] += dt #increment the ages (is this efficient?)\n",
    "    ageDT += dt\n",
    "    \n",
    "    if step % swarm_update == 0:\n",
    "        \n",
    "        #Increment age stuff. \n",
    "        ageConditions = [ (depthFn < ndp.AGETRACKDEPTH, ageVariable + ageDT ),  #add ageDThere\n",
    "                  (True, 0.) ]\n",
    "        ageVariable.data[:] = fn.branching.conditional( ageConditions ).evaluate(gSwarm)        \n",
    "        ageDT = 0. #reset the age incrementer\n",
    "        \n",
    "        \n",
    "        #This is hardcoded to assume subduction is towards the right\n",
    "        tempop = operator.lt\n",
    "\n",
    "        #Update the relevant parts of the material graph\n",
    "        #Remove and rebuild edges related to crust\n",
    "        DG.remove_edges_from([(mantleIndex,crustIndex)])\n",
    "        DG.add_edges_from([(mantleIndex,crustIndex)])\n",
    "        DG.remove_edges_from([(harzIndex,crustIndex)])\n",
    "        DG.add_edges_from([(harzIndex,crustIndex)])\n",
    "\n",
    "        #... to crust\n",
    "        DG.add_transition((mantleIndex,crustIndex), depthFn, operator.lt, ndp.MANTLETOCRUST)\n",
    "        DG.add_transition((mantleIndex,crustIndex), xFn, operator.lt, 0.5*ndp.lRidge) #No crust on the upper plate\n",
    "        DG.add_transition((mantleIndex,crustIndex), ageVariable, operator.gt, crustageCond)\n",
    "\n",
    "        DG.add_transition((harzIndex,crustIndex), depthFn, operator.lt, ndp.MANTLETOCRUST)\n",
    "        DG.add_transition((harzIndex,crustIndex), xFn, tempop, 0.5*ndp.lRidge) #This one sets no crust on the upper plate\n",
    "        DG.add_transition((harzIndex,crustIndex), ageVariable, operator.gt, crustageCond)\n",
    "        \n",
    "        \n",
    "        #Make sure to rebuild the condition list if you want changes to be applied\n",
    "        DG.build_condition_list(materialVariable)\n",
    "        \n",
    "        comm.barrier()\n",
    "    \n",
    "    \n",
    "        \n",
    "        \n",
    "        #Apply any materialVariable changes\n",
    "        for i in range(2): #go through twice\n",
    "            materialVariable.data[:] = fn.branching.conditional(DG.condition_list).evaluate(gSwarm)\n",
    "        \n",
    "        #Also update any information related to faults / interfaces:\n",
    "\n",
    "        sd, pts0 = fault.compute_signed_distance(gSwarm.particleCoordinates.data, distance=w0)\n",
    "        sp, pts0 = fault.compute_marker_proximity(gSwarm.particleCoordinates.data)\n",
    "\n",
    "        proximityVariable.data[np.logical_and(sd<0,sp == fault.ID)] = sp[np.logical_and(sd<0,sp == fault.ID)]\n",
    "\n",
    "        dv, nzv = fault.compute_normals(gSwarm.particleCoordinates.data)\n",
    "        directorVector.data[nzv] = dv[nzv]\n",
    "\n",
    "        proximityVariable.data[gSwarm.particleCoordinates.data[:,1]  < (1. - ndp.CRUSTVISCUTOFF)] = 0.\n",
    "        \n",
    "        #And add extra particles to interfaces as necessary\n",
    "        #subduction fault\n",
    "        introPoint = ndp.subzone - abs(ndp.subzone - ndp.lRidge)/2. #half way between ridge and Sz\n",
    "        fault.add_points([introPoint],[MAXY - faultthickness])\n",
    "        \n",
    "    ################\n",
    "    #Checkpoint\n",
    "    ################\n",
    "    if step % checkpoint_every == 0:\n",
    "        if uw.rank() == 0:\n",
    "            checkpoint1(step, checkpointPath,f_o, metric_output)           \n",
    "        checkpoint2(step, checkpointPath, gSwarm, f_o, varlist = varlist, varnames = varnames)\n",
    "        checkpoint3(step,  checkpointPath, interfaces,interfacenames )\n",
    "        f_o = open(os.path.join(outputPath, outputFile), 'a') #is this line supposed to be here?\n",
    "\n",
    "    \n",
    "f_o.close()\n",
    "print 'step =',step"
   ]
  },
  {
   "cell_type": "code",
   "execution_count": 69,
   "metadata": {
    "collapsed": false
   },
   "outputs": [
    {
     "data": {
      "text/plain": [
       "[]"
      ]
     },
     "execution_count": 69,
     "metadata": {},
     "output_type": "execute_result"
    }
   ],
   "source": []
  },
  {
   "cell_type": "code",
   "execution_count": null,
   "metadata": {
    "collapsed": false
   },
   "outputs": [],
   "source": []
  },
  {
   "cell_type": "code",
   "execution_count": 98,
   "metadata": {
    "collapsed": false
   },
   "outputs": [],
   "source": [
    "#vxTi = velocityField[0].evaluate(surface_nodes)\n",
    "#vxIso = velocityFieldIso[0].evaluate(surface_nodes)\n",
    "#%pylab inline\n",
    "#fig, axes = plt.subplots(figsize=(16,4))\n",
    "#axes.plot(vxTi)\n",
    "#axes.plot(vxIso)\n",
    "\n",
    "\n",
    "#fig, axes = plt.subplots(figsize=(16,4))\n",
    "#axes.plot(vxTi)\n",
    "#axes.plot(surface_xs, vxTi - vxIso)\n",
    "#fig.savefig('Ti_minus_Iso.png')\n",
    "#plt.title('surface velocity residual - T. Iso minus Iso. weak zone')\n"
   ]
  }
 ],
 "metadata": {
  "kernelspec": {
   "display_name": "Python 2",
   "language": "python",
   "name": "python2"
  },
  "language_info": {
   "codemirror_mode": {
    "name": "ipython",
    "version": 2
   },
   "file_extension": ".py",
   "mimetype": "text/x-python",
   "name": "python",
   "nbconvert_exporter": "python",
   "pygments_lexer": "ipython2",
   "version": "2.7.9"
  },
  "widgets": {
   "state": {},
   "version": "1.1.2"
  }
 },
 "nbformat": 4,
 "nbformat_minor": 0
}
