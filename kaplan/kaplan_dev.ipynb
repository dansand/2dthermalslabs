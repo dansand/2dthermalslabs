{
 "cells": [
  {
   "cell_type": "markdown",
   "metadata": {},
   "source": [
    "## Thermal subduction, linear rheology:\n",
    "\n",
    "\n",
    "The viscous rheology in this model is similar to the models described in the PhD thesis of Micheal Kaplan\n",
    "\n",
    "\n",
    "\n",
    "**Keywords:** subduction, thermally-activated creep, \n",
    "\n",
    "\n",
    "**References:**\n",
    "\n",
    "\n",
    "Kaplan, Michael. Numerical Geodynamics of Solid Planetary Deformation. Diss. University of Southern California, 2015."
   ]
  },
  {
   "cell_type": "code",
   "execution_count": 67,
   "metadata": {
    "collapsed": false
   },
   "outputs": [],
   "source": [
    "import numpy as np\n",
    "import underworld as uw\n",
    "import math\n",
    "from underworld import function as fn\n",
    "import glucifer\n",
    "\n",
    "import os\n",
    "import sys\n",
    "import natsort\n",
    "import shutil\n",
    "from easydict import EasyDict as edict\n",
    "import operator\n",
    "import pint\n",
    "import time\n",
    "import operator\n",
    "from slippy2 import boundary_layer2d\n",
    "from slippy2 import material_graph\n",
    "from slippy2 import spmesh\n",
    "from slippy2 import phase_function\n",
    "from unsupported.interfaces import markerLine2D\n",
    "\n",
    "from mpi4py import MPI\n",
    "comm = MPI.COMM_WORLD\n",
    "rank = comm.Get_rank()"
   ]
  },
  {
   "cell_type": "code",
   "execution_count": 68,
   "metadata": {
    "collapsed": true
   },
   "outputs": [],
   "source": [
    "#####\n",
    "#Stubborn version number conflicts - need to figure out my Docker container runs an old version. For now...\n",
    "#####\n",
    "try:\n",
    "    natsort.natsort = natsort.natsorted\n",
    "except:\n",
    "    natsort.natsort = natsort.natsort"
   ]
  },
  {
   "cell_type": "markdown",
   "metadata": {},
   "source": [
    "Model name and directories\n",
    "-----"
   ]
  },
  {
   "cell_type": "code",
   "execution_count": 69,
   "metadata": {
    "collapsed": false
   },
   "outputs": [],
   "source": [
    "############\n",
    "#Model letter and number\n",
    "############\n",
    "\n",
    "\n",
    "#Model letter identifier default\n",
    "Model = \"T\"\n",
    "\n",
    "#Model number identifier default:\n",
    "ModNum = 0\n",
    "\n",
    "#Any isolated letter / integer command line args are interpreted as Model/ModelNum\n",
    "\n",
    "if len(sys.argv) == 1:\n",
    "    ModNum = ModNum \n",
    "elif sys.argv[1] == '-f': #\n",
    "    ModNum = ModNum \n",
    "else:\n",
    "    for farg in sys.argv[1:]:\n",
    "        if not '=' in farg: #then Assume it's a not a paramter argument\n",
    "            try:\n",
    "                ModNum = int(farg) #try to convert everingthing to a float, else remains string\n",
    "            except ValueError:\n",
    "                Model  = farg"
   ]
  },
  {
   "cell_type": "code",
   "execution_count": 70,
   "metadata": {
    "collapsed": false
   },
   "outputs": [],
   "source": [
    "###########\n",
    "#Standard output directory setup\n",
    "###########\n",
    "\n",
    "outputPath = \"results\" + \"/\" +  str(Model) + \"/\" + str(ModNum) + \"/\" \n",
    "imagePath = outputPath + 'images/'\n",
    "filePath = outputPath + 'files/'\n",
    "checkpointPath = outputPath + 'checkpoint/'\n",
    "dbPath = outputPath + 'gldbs/'\n",
    "outputFile = 'results_model' + Model + '_' + str(ModNum) + '.dat'\n",
    "\n",
    "if uw.rank()==0:\n",
    "    # make directories if they don't exist\n",
    "    if not os.path.isdir(outputPath):\n",
    "        os.makedirs(outputPath)\n",
    "    if not os.path.isdir(checkpointPath):\n",
    "        os.makedirs(checkpointPath)\n",
    "    if not os.path.isdir(imagePath):\n",
    "        os.makedirs(imagePath)\n",
    "    if not os.path.isdir(dbPath):\n",
    "        os.makedirs(dbPath)\n",
    "    if not os.path.isdir(filePath):\n",
    "        os.makedirs(filePath)\n",
    "\n",
    "        \n",
    "comm.Barrier() #Barrier here so no procs run the check in the next cell too early"
   ]
  },
  {
   "cell_type": "code",
   "execution_count": 71,
   "metadata": {
    "collapsed": false
   },
   "outputs": [
    {
     "name": "stdout",
     "output_type": "stream",
     "text": [
      "results/T/0/checkpoint/ is empty\n"
     ]
    }
   ],
   "source": [
    "###########\n",
    "#Check if starting from checkpoint\n",
    "###########\n",
    "\n",
    "checkdirs = []\n",
    "for dirpath, dirnames, files in os.walk(checkpointPath):\n",
    "    if files:\n",
    "        print dirpath, 'has files'\n",
    "        checkpointLoad = True\n",
    "        checkdirs.append(dirpath)\n",
    "    if not files:\n",
    "        print dirpath, 'is empty'\n",
    "        checkpointLoad = False"
   ]
  },
  {
   "cell_type": "code",
   "execution_count": 72,
   "metadata": {
    "collapsed": true
   },
   "outputs": [],
   "source": [
    "# setup summary output file (name above)\n",
    "if checkpointLoad:\n",
    "    checkpointLoadDir = natsort.natsort(checkdirs)[-1]\n",
    "    if uw.rank() == 0:\n",
    "        shutil.copyfile(os.path.join(checkpointLoadDir, outputFile), outputPath+outputFile)\n",
    "    comm.Barrier()\n",
    "    f_o = open(os.path.join(outputPath, outputFile), 'a')\n",
    "    prevdata = np.genfromtxt(os.path.join(outputPath, outputFile), skip_header=0, skip_footer=0)\n",
    "    if len(prevdata.shape) == 1: #this is in case there is only one line in previous file\n",
    "        realtime = prevdata[-1]  #This corresponds to the column you write time data to\n",
    "    else:\n",
    "        realtime = prevdata[prevdata.shape[0]-1, -1]\n",
    "    step = int(checkpointLoadDir.split('/')[-1])\n",
    "    timevals = [0.]\n",
    "else:\n",
    "    f_o = open(outputPath+outputFile, 'w')\n",
    "    realtime = 0.\n",
    "    step = 0\n",
    "    timevals = [0.]"
   ]
  },
  {
   "cell_type": "markdown",
   "metadata": {},
   "source": [
    "Setup parameters\n",
    "-----\n",
    "\n",
    "Set simulation parameters for test."
   ]
  },
  {
   "cell_type": "markdown",
   "metadata": {},
   "source": [
    "**Use pint to setup any unit conversions we'll need**"
   ]
  },
  {
   "cell_type": "code",
   "execution_count": 73,
   "metadata": {
    "collapsed": false
   },
   "outputs": [
    {
     "data": {
      "text/html": [
       "10000.0 meter/megayear"
      ],
      "text/latex": [
       "$10000.0 \\frac{meter}{megayear}$"
      ],
      "text/plain": [
       "<Quantity(10000.0, 'meter / megayear')>"
      ]
     },
     "execution_count": 73,
     "metadata": {},
     "output_type": "execute_result"
    }
   ],
   "source": [
    "u = pint.UnitRegistry()\n",
    "cmpery = 1.*u.cm/u.year\n",
    "mpermy = 1.*u.m/u.megayear\n",
    "year = 1.*u.year\n",
    "spery = year.to(u.sec)\n",
    "cmpery.to(mpermy)"
   ]
  },
  {
   "cell_type": "code",
   "execution_count": 74,
   "metadata": {
    "collapsed": false
   },
   "outputs": [
    {
     "name": "stdout",
     "output_type": "stream",
     "text": [
      "(0.04, 1.2675505856327397e-11)\n"
     ]
    }
   ],
   "source": [
    "box_half_width =4000e3\n",
    "age_at_trench = 100e6\n",
    "cmperyear = box_half_width / age_at_trench #m/y\n",
    "mpersec = cmperyear*(cmpery.to(u.m/u.second)).magnitude #m/sec\n",
    "print(cmperyear, mpersec )"
   ]
  },
  {
   "cell_type": "markdown",
   "metadata": {},
   "source": [
    "**Set parameter dictionaries**\n",
    "\n",
    "* Parameters are stored in dictionaries. \n",
    "* If starting from checkpoint, parameters are loaded using pickle\n",
    "* If params are passed in as flags to the script, they overwrite \n"
   ]
  },
  {
   "cell_type": "code",
   "execution_count": 75,
   "metadata": {
    "collapsed": false
   },
   "outputs": [],
   "source": [
    "###########\n",
    "#Parameter / settings dictionaries get saved&loaded using pickle\n",
    "###########\n",
    " \n",
    "dp = edict({}) #dimensional parameters\n",
    "sf = edict({}) #scaling factors\n",
    "ndp = edict({}) #dimensionless paramters\n",
    "md = edict({}) #model paramters, flags etc\n",
    "#od = edict({}) #output frequencies\n",
    "\n"
   ]
  },
  {
   "cell_type": "code",
   "execution_count": 76,
   "metadata": {
    "collapsed": false
   },
   "outputs": [],
   "source": [
    "dict_list = [dp, sf, ndp, md]\n",
    "dict_names = ['dp.pkl', 'sf.pkl', 'ndp.pkl', 'md.pkl']\n",
    "\n",
    "def save_pickles(dict_list, dict_names, dictPath):\n",
    "    import pickle\n",
    "    counter = 0\n",
    "    for pdict in dict_list:\n",
    "        myfile = os.path.join(dictPath, dict_names[counter])\n",
    "        with open(myfile, 'wb') as f:\n",
    "            pickle.dump(pdict, f)\n",
    "        counter+=1\n",
    "\n",
    "\n",
    "#ended up having to pretty much write a hard-coded function\n",
    "#All dictionaries we want checkpointed will have to  be added here \n",
    "#and where the function is called\n",
    "#Fortunately, this function is only called ONCE\n",
    "\n",
    "def load_pickles():\n",
    "    import pickle\n",
    "    dirpath = os.path.join(checkpointPath, str(step))\n",
    "    dpfile = open(os.path.join(dirpath, 'dp.pkl'), 'r')\n",
    "    dp = pickle.load(dpfile)\n",
    "#    #\n",
    "    ndpfile = open(os.path.join(dirpath, 'ndp.pkl'), 'r')\n",
    "    ndp = edict(pickle.load(ndpfile))\n",
    "    #\n",
    "    sffile = open(os.path.join(dirpath, 'sf.pkl'), 'r')\n",
    "    sf = edict(pickle.load(sffile))\n",
    "    #\n",
    "    mdfile = open(os.path.join(dirpath, 'md.pkl'), 'r')\n",
    "    md = edict(pickle.load(mdfile))\n",
    "    return dp, ndp, sf, md"
   ]
  },
  {
   "cell_type": "code",
   "execution_count": 77,
   "metadata": {
    "collapsed": false
   },
   "outputs": [],
   "source": [
    "###########\n",
    "#Store the physical parameters, scale factors and dimensionless pramters in easyDicts\n",
    "#Mainly helps with avoiding overwriting variables\n",
    "###########\n",
    "\n",
    "\n",
    "dp = edict({'LS':2900*1e3, #Scaling Length scale\n",
    "            'depth':660*1e3, #Depth of domain\n",
    "            'rho':3300.,  #reference density\n",
    "            'g':9.8, #surface gravity\n",
    "            'eta0':2.5e20, #reference viscosity\n",
    "            'k':1e-6, #thermal diffusivity\n",
    "            'a':3e-5, #surface thermal expansivity\n",
    "            'R':8.314, #gas constant\n",
    "            'TP':1673., #mantle potential temp (K)\n",
    "            'TS':273., #surface temp (K)\n",
    "            #Rheology - flow law paramters\n",
    "            'Adf':3e-11, #pre-exp factor for diffusion creep\n",
    "            #'Edf':1e5, #Total viscosity variation in the Kaplan model\n",
    "            'Edf':3e5,\n",
    "            'cm':40e6, #mantle cohesion in Byerlee law\n",
    "            'cc':40e6, #mantle cohesion in Byerlee law\n",
    "            'fcm':0.06,   #mantle friction coefficient in Byerlee law (tan(phi))\n",
    "            'fcc':0.06,   #crust friction coefficient \n",
    "            #Rheology - cutoff values\n",
    "            'eta_min':1e17, \n",
    "            'eta_max':1e25, #viscosity max in the mantle material\n",
    "            'eta_min_crust':2.5e19, #viscosity min in the weak-crust material\n",
    "            'eta_max_crust':2.5e19, #viscosity max in the weak-crust material\n",
    "            #Length scales\n",
    "            'MANTLETOCRUST':8.*1e3, #Crust depth\n",
    "            'HARZBURGDEPTH':40e3,\n",
    "            'CRUSTTOMANTLE':800.*1e3,\n",
    "            'LITHTOMANTLE':(900.*1e3),\n",
    "            'MANTLETOLITH':200.*1e3, \n",
    "            'TOPOHEIGHT':10.*1e3,  #rock-air topography limits\n",
    "            'CRUSTTOECL':100.*1e3,\n",
    "            'LOWMANTLEDEPTH':660.*1e3, \n",
    "            'CRUSTVISCUTOFF':150.*1e3, #Deeper than this, crust material rheology reverts to mantle rheology\n",
    "            'AGETRACKDEPTH':100e3, #above this depth we track the age of the lithsphere (below age is assumed zero)\n",
    "            #Slab and plate parameters\n",
    "            'roc':250e3,     #radius of curvature of slab\n",
    "            'subzone':0.0,   #X position of subduction zone..\n",
    "            'lRidge':-0.5*(660e3*6),  #For depth = 670 km, aspect ratio of 6, this puts the ridges at MINX, MAXX\n",
    "            'rRidge':0.5*(660e3*6),\n",
    "            'maxDepth':250e3,\n",
    "            'theta':70., #Angle to truncate the slab (can also control with a maxDepth param)\n",
    "            'slabmaxAge':60e6, #age of subduction plate at trench\n",
    "            'platemaxAge':60e6, #max age of slab (Plate model)\n",
    "            'sense':'Right', #dip direction\n",
    "            'op_age_fac':0.5, #this controls the overidding plate age reduction\n",
    "            #Misc\n",
    "            'StALS':100e3, #depth of sticky air layer\n",
    "            'Steta_n':1e19, #stick air viscosity, normal\n",
    "            'Steta_s':1e18, #stick air viscosity, shear \n",
    "            'plate_vel':4,\n",
    "            'low_mantle_visc_fac':30.\n",
    "           })\n",
    "\n",
    "#append any derived parameters to the dictionary\n",
    "dp.deltaT = dp.TP - dp.TS\n",
    "\n",
    "\n",
    "\n"
   ]
  },
  {
   "cell_type": "code",
   "execution_count": 78,
   "metadata": {
    "collapsed": false
   },
   "outputs": [],
   "source": [
    "#Modelling and Physics switches\n",
    "\n",
    "md = edict({'refineMesh':True,\n",
    "            'stickyAir':False,\n",
    "            'subductionFault':False,\n",
    "            'symmetricIcs':False,\n",
    "            'velBcs':False,\n",
    "            'aspectRatio':6,\n",
    "            'compBuoyancy':False, #use compositional & phase buoyancy, or simply thermal\n",
    "            'periodicBcs':False,\n",
    "            'RES':48,\n",
    "            'PIC_integration':True,\n",
    "            'ppc':25,\n",
    "            'elementType':\"Q1/dQ0\"\n",
    "            })\n",
    "\n",
    "#\"Q2/DPC1\""
   ]
  },
  {
   "cell_type": "code",
   "execution_count": null,
   "metadata": {
    "collapsed": false
   },
   "outputs": [],
   "source": []
  },
  {
   "cell_type": "code",
   "execution_count": 79,
   "metadata": {
    "collapsed": false
   },
   "outputs": [],
   "source": [
    "###########\n",
    "#If starting from a checkpoint load params from file\n",
    "###########\n",
    "\n",
    "if checkpointLoad:\n",
    "    dp, ndp, sf, md = load_pickles()  #remember to add any extra dictionaries\n"
   ]
  },
  {
   "cell_type": "code",
   "execution_count": 80,
   "metadata": {
    "collapsed": false
   },
   "outputs": [],
   "source": [
    "###########\n",
    "#If command line args are given, overwrite\n",
    "#Note that this assumes that params as commans line args/\n",
    "#only append to the 'dimensional' and 'model' dictionary (not the non-dimensional)\n",
    "###########    \n",
    "\n",
    "\n",
    "###########\n",
    "#If extra arguments are provided to the script\" eg:\n",
    "### >>> uw.py 2 dp.arg1=1 dp.arg2=foo dp.arg3=3.0\n",
    "###\n",
    "###This would assign ModNum = 2, all other values go into the dp dictionary, under key names provided\n",
    "###\n",
    "###Two operators are searched for, = & *=\n",
    "###\n",
    "###If =, parameter is re-assigned to givn value\n",
    "###If *=, parameter is multipled by given value\n",
    "###\n",
    "### >>> uw.py 2 dp.arg1=1 dp.arg2=foo dp.arg3*=3.0\n",
    "###########\n",
    "\n",
    "for farg in sys.argv[1:]:\n",
    "    try:\n",
    "        (dicitem,val) = farg.split(\"=\") #Split on equals operator\n",
    "        (dic,arg) = dicitem.split(\".\") #colon notation\n",
    "        if '*=' in farg:\n",
    "            (dicitem,val) = farg.split(\"*=\") #If in-place multiplication, split on '*='\n",
    "            (dic,arg) = dicitem.split(\".\")\n",
    "            \n",
    "        if val == 'True': \n",
    "            val = True\n",
    "        elif val == 'False':     #First check if args are boolean\n",
    "            val = False\n",
    "        else:\n",
    "            try:\n",
    "                val = float(val) #next try to convert  to a float,\n",
    "            except ValueError:\n",
    "                pass             #otherwise leave as string\n",
    "        #Update the dictionary\n",
    "        if farg.startswith('dp'):\n",
    "            if '*=' in farg:\n",
    "                dp[arg] = dp[arg]*val #multiply parameter by given factor\n",
    "            else:\n",
    "                dp[arg] = val    #or reassign parameter by given value\n",
    "        if farg.startswith('md'):\n",
    "            if '*=' in farg:\n",
    "                md[arg] = md[arg]*val #multiply parameter by given factor\n",
    "            else:\n",
    "                md[arg] = val    #or reassign parameter by given value\n",
    "                \n",
    "    except:\n",
    "        pass\n",
    "            \n",
    "\n",
    "comm.barrier()"
   ]
  },
  {
   "cell_type": "code",
   "execution_count": 81,
   "metadata": {
    "collapsed": true
   },
   "outputs": [],
   "source": [
    "#this block mostly helps with consistency in resolutions test, \n",
    "#allowing to test consistent particle density / node spacing \n",
    "#in models with different res. / element types\n",
    "\n",
    "if md.elementType != \"Q1/dQ0\":\n",
    "    md.RES = int(md.RES/2)     #halve the resolution if using Q2 element\n",
    "    \n",
    "\n",
    "\n",
    "comm.barrier()    \n",
    "#md.ppc = int(md.ppc / (md.RES/128.))          #this keeps the total particles uniform, normalised by 50 ppc @ 128"
   ]
  },
  {
   "cell_type": "code",
   "execution_count": 82,
   "metadata": {
    "collapsed": true
   },
   "outputs": [],
   "source": [
    "#print('refine Mesh is: ', md.refineMesh)"
   ]
  },
  {
   "cell_type": "code",
   "execution_count": 83,
   "metadata": {
    "collapsed": false
   },
   "outputs": [],
   "source": [
    "#Only build these guys first time around, otherwise the read from checkpoints\n",
    "#Important because some of these params (like SZ location) may change during model evolution\n",
    "\n",
    "\n",
    "if not checkpointLoad:\n",
    "\n",
    "    \n",
    "    \n",
    "    sf = edict({'stress':dp.LS**2/(dp.k*dp.eta0),\n",
    "                'lith_grad':dp.rho*dp.g*(dp.LS)**3/(dp.eta0*dp.k) , \n",
    "                'vel':dp.LS/dp.k,\n",
    "                'SR':dp.LS**2/dp.k, \n",
    "                'E': 1./(dp.R*dp.deltaT)\n",
    "               })\n",
    "\n",
    "    #dimensionless parameters\n",
    "\n",
    "    ndp = edict({'RA':(dp.g*dp.rho*dp.a*(dp.TP - dp.TS)*(dp.LS)**3)/(dp.k*dp.eta0),\n",
    "                 #'Edf':math.log(dp.Edf),\n",
    "                 'Edf':dp.Edf*sf.E,\n",
    "                 'TSP':0., \n",
    "                 'TBP':1.,\n",
    "                 'TPP':(dp.TP - dp.TS)/dp.deltaT, #dimensionless potential temp\n",
    "                 'TS':dp.TS/dp.deltaT,\n",
    "                 'TP':dp.TP/dp.deltaT,\n",
    "                 'cm':dp.cm*sf.stress,\n",
    "                 'cc':dp.cc*sf.stress,    #{dimensionless cohesion in mantle, crust, interface}\n",
    "                 'fcmd':dp.fcm*sf.lith_grad, \n",
    "                 'fccd':dp.fcc*sf.lith_grad, #{dimensionless friction coefficient in mantle, crust, interface}\n",
    "                 #Rheology - cutoff values\n",
    "                 'eta_min':dp.eta_min/dp.eta0, \n",
    "                 'eta_max':dp.eta_max/dp.eta0, #viscosity max in the mantle material\n",
    "                 'eta_min_crust':dp.eta_min_crust/dp.eta0, #viscosity min in the weak-crust material\n",
    "                 'eta_max_crust':dp.eta_max_crust/dp.eta0, #viscosity max in the weak-crust material \n",
    "                 #Length scales\n",
    "                 'MANTLETOCRUST':dp.MANTLETOCRUST/dp.LS, #Crust depth\n",
    "                 'HARZBURGDEPTH':dp.HARZBURGDEPTH/dp.LS,\n",
    "                 'CRUSTTOMANTLE':dp.CRUSTTOMANTLE/dp.LS,\n",
    "                 'LITHTOMANTLE':dp.LITHTOMANTLE/dp.LS,\n",
    "                 'MANTLETOLITH':dp.MANTLETOLITH/dp.LS,\n",
    "                 'TOPOHEIGHT':dp.TOPOHEIGHT/dp.LS,  #rock-air topography limits\n",
    "                 'CRUSTTOECL':dp.CRUSTTOECL/dp.LS,\n",
    "                 'LOWMANTLEDEPTH':dp.LOWMANTLEDEPTH/dp.LS, \n",
    "                 'CRUSTVISCUTOFF':dp.CRUSTVISCUTOFF/dp.LS, #Deeper than this, crust material rheology reverts to mantle rheology\n",
    "                 'AGETRACKDEPTH':dp.AGETRACKDEPTH/dp.LS,\n",
    "                 #Slab and plate parameters\n",
    "                 'roc':dp.roc/dp.LS,     #radius of curvature of slab\n",
    "                 'subzone':dp.subzone/dp.LS,   #X position of subduction zone..\n",
    "                 'lRidge':np.round(dp.lRidge/dp.LS, 3),  #For depth = 670 km, aspect ratio of 4, this puts the ridges at MINX, MAXX\n",
    "                 'rRidge':np.round(dp.rRidge/dp.LS, 3),\n",
    "                 'maxDepth':dp.maxDepth/dp.LS,    \n",
    "                 #misc\n",
    "                 'Steta_n':dp.Steta_n/dp.eta0, #stick air viscosity, normal\n",
    "                 'Steta_s':dp.Steta_n/dp.eta0, #stick air viscosity, shear \n",
    "                 'StALS':dp.StALS/dp.LS,\n",
    "                 'plate_vel':sf.vel*dp.plate_vel*(cmpery.to(u.m/u.second)).magnitude,\n",
    "                 'low_mantle_visc_fac':dp.low_mantle_visc_fac\n",
    "                })\n",
    "\n",
    "\n",
    "\n",
    "    #Append any more derived paramters\n",
    "    ndp.StRA = (3300.*dp.g*(dp.LS)**3)/(dp.eta0 *dp.k) #Composisitional Rayleigh number for rock-air buoyancy force\n",
    "    dp.CVR = (0.1*(dp.k/dp.LS)*ndp.RA**(2/3.))\n",
    "    ndp.CVR = dp.CVR*sf.vel #characteristic velocity"
   ]
  },
  {
   "cell_type": "code",
   "execution_count": 84,
   "metadata": {
    "collapsed": false
   },
   "outputs": [],
   "source": [
    "#0.05*dp.LS"
   ]
  },
  {
   "cell_type": "code",
   "execution_count": 85,
   "metadata": {
    "collapsed": false
   },
   "outputs": [
    {
     "data": {
      "text/plain": [
       "(25.77408158355957, 132508363.68000002)"
      ]
     },
     "execution_count": 85,
     "metadata": {},
     "output_type": "execute_result"
    }
   ],
   "source": [
    "ndp.Edf, ndp.RA\n",
    "#sf.lith_grad\n",
    "#dp.TP - dp.TS"
   ]
  },
  {
   "cell_type": "markdown",
   "metadata": {},
   "source": [
    "**Model setup parameters**"
   ]
  },
  {
   "cell_type": "code",
   "execution_count": null,
   "metadata": {
    "collapsed": true
   },
   "outputs": [],
   "source": []
  },
  {
   "cell_type": "code",
   "execution_count": 86,
   "metadata": {
    "collapsed": false
   },
   "outputs": [],
   "source": [
    "###########\n",
    "#Model setup parameters\n",
    "###########\n",
    "\n",
    "dim = 2          # number of spatial dimensions\n",
    "\n",
    "\n",
    "#Domain and Mesh paramters\n",
    "Xres = int(md.RES*8)   #more than twice the resolution in X-dim, which will be 'corrected' by the refinement we'll use in Y\n",
    "\n",
    "\n",
    "MINY = 1. - (dp.depth/dp.LS)\n",
    "if md.stickyAir:\n",
    "    Yres = int(md.RES)\n",
    "    MAXY = 1. + dp.StALS/dp.LS #150km\n",
    "    \n",
    "else:\n",
    "    Yres = int(md.RES)\n",
    "    MAXY = 1.\n",
    "\n",
    "\n",
    "periodic = [False, False]\n",
    "if md.periodicBcs:\n",
    "    periodic = [True, False]\n",
    "    \n",
    "    \n",
    "hw = np.round(0.5*(dp.depth/dp.LS)*md.aspectRatio, 3)\n",
    "MINX = -1.*hw\n",
    "\n",
    "MAXX = hw\n",
    "MAXY = 1.\n",
    "    \n",
    "    \n",
    "\n",
    "Xres = int(md.RES*md.aspectRatio) #careful\n",
    "#if MINY == 0.5:\n",
    "#    Xres = int(2.*RES*md.aspectRatio)\n",
    "    \n",
    "\n",
    "if md.stickyAir:\n",
    "    Yres = int(md.RES)\n",
    "    MAXY = np.round(MAXY + dp.StALS/dp.LS, 3)\n",
    "    \n",
    "else:\n",
    "    Yres = int(md.RES)\n",
    "    MAXY = np.round(MAXY, 3)\n",
    "\n",
    "periodic = [False, False]\n",
    "if md.periodicBcs:\n",
    "    periodic = [True, False]\n",
    "    \n"
   ]
  },
  {
   "cell_type": "markdown",
   "metadata": {},
   "source": [
    "### Metric output"
   ]
  },
  {
   "cell_type": "code",
   "execution_count": 87,
   "metadata": {
    "collapsed": true
   },
   "outputs": [],
   "source": [
    "#Metric output stuff\n",
    "figures =  'store' #glucifer Store won't work on all machines, if not, set to 'gldb' \n",
    "swarm_repop, swarm_update = 10, 10\n",
    "gldbs_output = 25\n",
    "checkpoint_every, files_output = 100, 50\n",
    "metric_output = 20\n",
    "sticky_air_temp = 1e6"
   ]
  },
  {
   "cell_type": "code",
   "execution_count": 88,
   "metadata": {
    "collapsed": false
   },
   "outputs": [],
   "source": [
    "#dp.lRidge/dp.LS, np.round(0.5*(dp.depth/dp.LS)*md.aspectRatio, 1)\n",
    "#np.round(0.5*(dp.depth/dp.LS)*md.aspectRatio, 1), ndp.lRidge\n",
    "#np.round(dp.lRidge/dp.LS, 5)\n",
    "#md.aspectRatio\n",
    "#-0.5*(660e3*6)/dp.LS, np.round(0.5*(dp.depth/dp.LS)*md.aspectRatio, 3)\n",
    "#mesh.maxCoord[0], ndp.rRidge"
   ]
  },
  {
   "cell_type": "markdown",
   "metadata": {},
   "source": [
    "Create mesh and finite element variables\n",
    "------"
   ]
  },
  {
   "cell_type": "code",
   "execution_count": 89,
   "metadata": {
    "collapsed": false
   },
   "outputs": [],
   "source": [
    "mesh = uw.mesh.FeMesh_Cartesian( elementType = (md.elementType),\n",
    "                                 elementRes  = (Xres, Yres), \n",
    "                                 minCoord    = (MINX, MINY), \n",
    "                                 maxCoord    = (MAXX, MAXY), periodic=periodic)\n",
    "\n",
    "velocityField       = uw.mesh.MeshVariable( mesh=mesh,         nodeDofCount=2 )\n",
    "pressureField       = uw.mesh.MeshVariable( mesh=mesh.subMesh, nodeDofCount=1 )\n",
    "temperatureField    = uw.mesh.MeshVariable( mesh=mesh,         nodeDofCount=1 )\n",
    "temperatureDotField = uw.mesh.MeshVariable( mesh=mesh,         nodeDofCount=1 )\n",
    "\n",
    "\n",
    "velocityField.data[:]       = [0.,0.]\n",
    "pressureField.data[:]       = 0.\n",
    "temperatureDotField.data[:] = 0."
   ]
  },
  {
   "cell_type": "code",
   "execution_count": 90,
   "metadata": {
    "collapsed": true
   },
   "outputs": [],
   "source": [
    "coordinate = fn.input()\n",
    "depthFn = MAXY - coordinate[1] #a function providing the depth\n",
    "\n",
    "\n",
    "xFn = coordinate[0]  #a function providing the x-coordinate\n",
    "yFn = coordinate[1]\n"
   ]
  },
  {
   "cell_type": "code",
   "execution_count": 91,
   "metadata": {
    "collapsed": false
   },
   "outputs": [],
   "source": [
    "mesh.reset()\n",
    "\n",
    "jWalls = mesh.specialSets[\"MinJ_VertexSet\"] + mesh.specialSets[\"MaxJ_VertexSet\"]\n",
    "yFn = coordinate[1]\n",
    "yField = uw.mesh.MeshVariable( mesh=mesh, nodeDofCount=1 )\n",
    "yField.data[:] = 0.\n",
    "yBC = uw.conditions.DirichletCondition( variable=yField, indexSetsPerDof=(jWalls,) )\n",
    "\n",
    "# set bottom wall temperature bc\n",
    "for index in mesh.specialSets[\"MinJ_VertexSet\"]:\n",
    "    yField.data[index] = mesh.minCoord[1]\n",
    "# set top wall temperature bc\n",
    "for index in mesh.specialSets[\"MaxJ_VertexSet\"]:\n",
    "    yField.data[index] = mesh.maxCoord[1]\n",
    "    \n",
    "    \n",
    "    \n",
    "s = 2.5\n",
    "intensityFac = 1.5\n",
    "intensityFn = (((yFn - MINY)/(MAXY-MINY))**s)\n",
    "intensityFn *= intensityFac\n",
    "intensityFn += 1.\n",
    "\n",
    "\n",
    "yLaplaceEquation = uw.systems.SteadyStateHeat(temperatureField=yField, fn_diffusivity=intensityFn, conditions=[yBC,])\n",
    "\n",
    "# get the default heat equation solver\n",
    "yLaplaceSolver = uw.systems.Solver(yLaplaceEquation)\n",
    "# solve\n",
    "yLaplaceSolver.solve()\n",
    "\n",
    "\n",
    "#Get the array of Y positions - copy may be necessary, not sure. \n",
    "newYpos = yField.data.copy() \n",
    "\n",
    "uw.barrier()\n",
    "with mesh.deform_mesh():\n",
    "     mesh.data[:,1] = newYpos[:,0]"
   ]
  },
  {
   "cell_type": "code",
   "execution_count": 92,
   "metadata": {
    "collapsed": false
   },
   "outputs": [],
   "source": [
    "#THis is a hack for adding a sticky air domain, we refine MAXY and things like the temperature stencil work from Y = 1. \n",
    "\n",
    "if md.stickyAir:\n",
    "    MAXY = 1."
   ]
  },
  {
   "cell_type": "code",
   "execution_count": null,
   "metadata": {
    "collapsed": false
   },
   "outputs": [],
   "source": []
  },
  {
   "cell_type": "markdown",
   "metadata": {},
   "source": [
    "Initial conditions\n",
    "-------\n"
   ]
  },
  {
   "cell_type": "code",
   "execution_count": null,
   "metadata": {
    "collapsed": false
   },
   "outputs": [],
   "source": []
  },
  {
   "cell_type": "code",
   "execution_count": 93,
   "metadata": {
    "collapsed": false
   },
   "outputs": [],
   "source": [
    "\n",
    "def age_fn(xFn, sz = 0.0, lMOR=MINX, rMOR=MAXX, opFac=1., conjugate_plate = False):\n",
    "    \"\"\"\n",
    "    Simple function to generate a discrete 1-d (i.e x-coordinate) function for the age of the thermal BC. \n",
    "    All paramters are dimensionless\n",
    "    sz: location of subduction zone\n",
    "    lMOR: location of left-hand MOR\n",
    "    rMOR: location of right-hand MOR\n",
    "    opFac: uniform reduce the age of the right hand plate by this factor\n",
    "    conjugate_plate: if True, build plates on the outer sides of the MORs, if False, age = 0. \n",
    "    \"\"\"\n",
    "    \n",
    "    if lMOR < MINX:\n",
    "        lMOR = MINX\n",
    "    if rMOR > MAXX:\n",
    "        rMOR = MAXX\n",
    "\n",
    "    if conjugate_plate:\n",
    "        ageFn = fn.branching.conditional([(operator.and_(xFn > lMOR, xFn < sz) , (xFn + abs(lMOR))/(abs(sz-lMOR))), \n",
    "                                      (operator.and_(xFn < rMOR, xFn >= sz), (1.-(xFn + abs(sz))/abs(rMOR-sz))*opFac),\n",
    "                                      (xFn > rMOR, opFac*(xFn -abs(rMOR)) / abs(rMOR-sz) ),\n",
    "                                      (True, fn.math.abs((((xFn + abs(lMOR)) / (abs(sz-lMOR))))))\n",
    "                                         ])\n",
    "    else:    \n",
    "        \n",
    "        ageFn = fn.branching.conditional([(operator.and_(xFn > lMOR, xFn < sz) , (xFn + abs(lMOR))/(abs(sz-lMOR))), \n",
    "                                      (operator.and_(xFn < rMOR, xFn >= sz), (1.-(xFn + abs(sz))/abs(rMOR-sz))*opFac),\n",
    "\n",
    "                                      (True, 0.0)])\n",
    "    return ageFn"
   ]
  },
  {
   "cell_type": "code",
   "execution_count": 94,
   "metadata": {
    "collapsed": false
   },
   "outputs": [],
   "source": [
    "#ndp.lRidge *= 0.5"
   ]
  },
  {
   "cell_type": "code",
   "execution_count": 95,
   "metadata": {
    "collapsed": false
   },
   "outputs": [],
   "source": [
    "###########\n",
    "#Thermal initial condition - half-space cooling\n",
    "###########\n",
    "\n",
    "#  a few conversions\n",
    "ageAtTrenchSeconds = min(dp.platemaxAge*(3600*24*365), dp.slabmaxAge*(3600*24*365))\n",
    "#slab perturbation params (mostly dimensionless / model params here)\n",
    "phi = 90. - dp.theta\n",
    "Org = (ndp.subzone, MAXY-ndp.roc)\n",
    "\n",
    "#First build the top TBL\n",
    "ageFn = age_fn(xFn, sz =ndp.subzone, lMOR=ndp.lRidge,rMOR=ndp.rRidge, conjugate_plate=True, opFac = dp.op_age_fac)\n",
    "#dimensionlize the age function\n",
    "ageFn *= ageAtTrenchSeconds #seconds to year\n",
    "w0 = (2.3*math.sqrt(dp.k*ageAtTrenchSeconds))/dp.LS #diffusion depth of plate at the trench\n",
    "\n",
    "tempBL = (ndp.TPP - ndp.TSP)*fn.math.erf((depthFn*dp.LS)/(2.*fn.math.sqrt(dp.k*ageFn))) + ndp.TSP #boundary layer function\n",
    "tempTBL =  fn.branching.conditional([(depthFn < w0, tempBL),\n",
    "                          (True, ndp.TPP)])\n",
    "\n",
    "if not md.symmetricIcs:\n",
    "    if not checkpointLoad:\n",
    "        out = uw.utils.MeshVariable_Projection( temperatureField, tempTBL) #apply function with projection\n",
    "        out.solve()\n",
    "\n"
   ]
  },
  {
   "cell_type": "code",
   "execution_count": 96,
   "metadata": {
    "collapsed": false
   },
   "outputs": [
    {
     "data": {
      "text/plain": [
       "0.03449917953840105"
      ]
     },
     "execution_count": 96,
     "metadata": {},
     "output_type": "execute_result"
    }
   ],
   "source": [
    "w0"
   ]
  },
  {
   "cell_type": "code",
   "execution_count": 97,
   "metadata": {
    "collapsed": false
   },
   "outputs": [],
   "source": [
    "#Now build the perturbation part\n",
    "def inCircleFnGenerator(centre, radius):\n",
    "    coord = fn.input()\n",
    "    offsetFn = coord - centre\n",
    "    return fn.math.dot( offsetFn, offsetFn ) < radius**2\n",
    "\n",
    "\n",
    "\n",
    "#We use circles to define our slab and crust perturbation,  \n",
    "Oc = inCircleFnGenerator(Org , ndp.roc)\n",
    "Ic = inCircleFnGenerator(Org , ndp.roc - w0)\n",
    "Cc = inCircleFnGenerator(Org , ndp.roc - (1.2*ndp.MANTLETOCRUST)) #... weak zone on 'outside' of slab\n",
    "Hc = inCircleFnGenerator(Org , ndp.roc - ndp.HARZBURGDEPTH) #... Harzburgite layer \n",
    "dx = (ndp.roc)/(np.math.tan((np.math.pi/180.)*phi))\n",
    "\n",
    "#We'll also create a triangle which will truncate the circles defining the slab...\n",
    "if dp.sense == 'Left':\n",
    "    ptx = ndp.subzone - dx\n",
    "else:\n",
    "    ptx = ndp.subzone + dx\n",
    "coords = ((0.+ ndp.subzone, MAXY), (0.+ ndp.subzone, MAXY-ndp.roc), (ptx, MAXY))\n",
    "Tri = fn.shape.Polygon(np.array(coords))\n",
    "\n",
    "#Actually apply the perturbation - could probably avoid particle walk here\n",
    "if not md.symmetricIcs:\n",
    "    if not checkpointLoad:\n",
    "        sdFn = ((ndp.roc - fn.math.sqrt((coordinate[0] - Org[0])**2. + (coordinate[1] - Org[1])**2.)))\n",
    "        slabFn = ndp.TPP*fn.math.erf((sdFn*dp.LS)/(2.*math.sqrt(dp.k*ageAtTrenchSeconds))) + ndp.TSP\n",
    "        for index, coord in enumerate(mesh.data):\n",
    "            if (\n",
    "                Oc.evaluate(tuple(coord)) and\n",
    "                Tri.evaluate(tuple(coord)) and not\n",
    "                Ic.evaluate(tuple(coord)) and\n",
    "                coord[1] > (MAXY - ndp.maxDepth)\n",
    "                ): #In the quarter-circle defining the lithosphere\n",
    "                temperatureField.data[index] = slabFn.evaluate(mesh)[index]\n"
   ]
  },
  {
   "cell_type": "code",
   "execution_count": 98,
   "metadata": {
    "collapsed": false
   },
   "outputs": [],
   "source": [
    "#sdFn = ((RocM - fn.math.sqrt((coordinate[0] - Org[0])**2. + (coordinate[1] - Org[1])**2.)))\n",
    "#slabFn = ndp.TPP*fn.math.erf((sdFn*dp.LS)/(2.*math.sqrt(dp.k*ageAtTrenchSeconds))) + ndp.TSP\n",
    "#sdFn, slabFn"
   ]
  },
  {
   "cell_type": "code",
   "execution_count": 99,
   "metadata": {
    "collapsed": false
   },
   "outputs": [],
   "source": [
    "#Make sure material in sticky air region is at the surface temperature.\n",
    "for index, coord in enumerate(mesh.data):\n",
    "            if coord[1] >= MAXY:\n",
    "                temperatureField.data[index] = ndp.TSP"
   ]
  },
  {
   "cell_type": "code",
   "execution_count": 100,
   "metadata": {
    "collapsed": false
   },
   "outputs": [],
   "source": [
    "#fn.math.erf((sdFn*dp.LS)/(2.*fn.math.sqrt(dp.k*(slabmaxAge*(3600*24*365))))) \n",
    "#CRUSTVISCUTOFF, MANTLETOCRUST*3"
   ]
  },
  {
   "cell_type": "markdown",
   "metadata": {
    "collapsed": false
   },
   "source": [
    "def matplot_field(temperatureField, dp):\n",
    "    if uw.nProcs() != 1:\n",
    "        print(\"only in Serial folks\")\n",
    "    else:\n",
    "        import matplotlib.pyplot as pyplt\n",
    "        try :\n",
    "            if(__IPYTHON__) :\n",
    "                get_ipython().magic(u'matplotlib inline')\n",
    "        except NameError :\n",
    "            pass\n",
    "        field_data = temperatureField.data.reshape(mesh.elementRes[1] + 1, mesh.elementRes[0] + 1)\n",
    "        fig, ax = pyplt.subplots(figsize=(32,2))\n",
    "        ql = dp.LS/1e3\n",
    "        pyplt.ioff()\n",
    "        cax =ax.imshow(np.flipud(field_data), cmap='coolwarm', aspect = 0.5, extent=[0,ql*aspectRatio,ql, 0])\n",
    "        fig.colorbar(cax, orientation='horizontal' )\n",
    "        #ax.set_x([0,dp.LS*aspectRatio])\n",
    "        pyplt.tight_layout()\n",
    "        \n",
    "        return fig, ax\n",
    "        \n",
    "fig, ax = matplot_field(temperatureField, dp)\n",
    "fig.savefig('test.png')       "
   ]
  },
  {
   "cell_type": "code",
   "execution_count": 101,
   "metadata": {
    "collapsed": false
   },
   "outputs": [
    {
     "data": {
      "text/plain": [
       "(0.0, 1.0)"
      ]
     },
     "execution_count": 101,
     "metadata": {},
     "output_type": "execute_result"
    }
   ],
   "source": [
    "temperatureField.data.min(), temperatureField.data.max()\n"
   ]
  },
  {
   "cell_type": "code",
   "execution_count": 102,
   "metadata": {
    "collapsed": false
   },
   "outputs": [],
   "source": [
    "#fig= glucifer.Figure(quality=3)\n",
    "#fig.append( glucifer.objects.Surface(mesh,temperatureField))\n",
    "#fig.append( glucifer.objects.Surface(mesh,pressureField))\n",
    "\n",
    "\n",
    "#fig.append( glucifer.objects.Points(gSwarm,temperatureField ))\n",
    "#fig.append( glucifer.objects.Mesh(mesh))\n",
    "#fig.show()\n",
    "##\n",
    "#fig.save_database('test.gldb')\n",
    "#fig.save_image('test.png')\n"
   ]
  },
  {
   "cell_type": "markdown",
   "metadata": {},
   "source": [
    "Boundary conditions\n",
    "-------"
   ]
  },
  {
   "cell_type": "code",
   "execution_count": 103,
   "metadata": {
    "collapsed": false
   },
   "outputs": [
    {
     "name": "stdout",
     "output_type": "stream",
     "text": [
      "2\n"
     ]
    }
   ],
   "source": [
    "for index in mesh.specialSets[\"MinJ_VertexSet\"]:\n",
    "    temperatureField.data[index] = ndp.TBP\n",
    "for index in mesh.specialSets[\"MaxJ_VertexSet\"]:\n",
    "    temperatureField.data[index] = ndp.TSP\n",
    "    \n",
    "iWalls = mesh.specialSets[\"MinI_VertexSet\"] + mesh.specialSets[\"MaxI_VertexSet\"]\n",
    "jWalls = mesh.specialSets[\"MinJ_VertexSet\"] + mesh.specialSets[\"MaxJ_VertexSet\"]\n",
    "tWalls = mesh.specialSets[\"MaxJ_VertexSet\"]\n",
    "bWalls =mesh.specialSets[\"MinJ_VertexSet\"]\n",
    "\n",
    "VelBCs = mesh.specialSets[\"Empty\"]\n",
    "\n",
    "\n",
    "\n",
    "if md.velBcs:\n",
    "    for index in list(tWalls.data):\n",
    "\n",
    "        if (mesh.data[int(index)][0] < (ndp.subzone - 0.05*md.aspectRatio) and \n",
    "            mesh.data[int(index)][0] > (mesh.minCoord[0] + 0.05*md.aspectRatio)): #Only push with a portion of teh overiding plate\n",
    "            #print \"first\"\n",
    "            VelBCs.add(int(index))\n",
    "            #Set the plate velocities for the kinematic phase\n",
    "            velocityField.data[index] = [ndp.plate_vel, 0.]\n",
    "        \n",
    "        elif (mesh.data[int(index)][0] > (ndp.subzone + 0.05*md.aspectRatio) and \n",
    "            mesh.data[int(index)][0] < (mesh.maxCoord[0] - 0.05*md.aspectRatio)):\n",
    "            #print \"second\"\n",
    "            VelBCs.add(int(index))\n",
    "            #Set the plate velocities for the kinematic phase\n",
    "            velocityField.data[index] = [0., 0.]\n",
    "        \n",
    "\n",
    "#If periodic, we'll fix a the x-vel at a single node - at the bottom left (index 0)\n",
    "Fixed = mesh.specialSets[\"Empty\"]\n",
    "Fixed.add(int(0))        \n",
    "        \n",
    "\n",
    "if periodic[0] == False:\n",
    "    if md.velBcs:\n",
    "        print(1)\n",
    "        freeslipBC = uw.conditions.DirichletCondition( variable      = velocityField, \n",
    "                                               indexSetsPerDof = ( iWalls + VelBCs, jWalls) )\n",
    "    else:\n",
    "        print(2)\n",
    "        freeslipBC = uw.conditions.DirichletCondition( variable      = velocityField, \n",
    "                                               indexSetsPerDof = ( iWalls, jWalls) )\n",
    "\n",
    "\n",
    "\n",
    "\n",
    "if periodic[0] == True:\n",
    "    if md.velBcs:\n",
    "        print(3)\n",
    "        freeslipBC = uw.conditions.DirichletCondition( variable      = velocityField, \n",
    "                                               indexSetsPerDof = ( Fixed + VelBCs , jWalls) )\n",
    "    else:\n",
    "        print(4)\n",
    "        freeslipBC = uw.conditions.DirichletCondition( variable      = velocityField, \n",
    "                                               indexSetsPerDof = ( Fixed, jWalls) )\n",
    "        \n",
    "    \n",
    "    \n",
    "    \n",
    "# also set dirichlet for temp field\n",
    "dirichTempBC = uw.conditions.DirichletCondition(     variable=temperatureField, \n",
    "                                              indexSetsPerDof=(tWalls,) )\n",
    "dT_dy = [0.,0.]\n",
    "\n",
    "# also set dirichlet for temp field\n",
    "neumannTempBC = uw.conditions.NeumannCondition( dT_dy, variable=temperatureField, \n",
    "                                         nodeIndexSet=bWalls)\n",
    "\n"
   ]
  },
  {
   "cell_type": "code",
   "execution_count": null,
   "metadata": {
    "collapsed": false
   },
   "outputs": [],
   "source": []
  },
  {
   "cell_type": "code",
   "execution_count": 104,
   "metadata": {
    "collapsed": false
   },
   "outputs": [],
   "source": [
    "#check VelBCs are where we want them\n",
    "#test = np.zeros(len(tWalls.data))\n",
    "#VelBCs\n",
    "#tWalls.data\n",
    "#tWalls.data[VelBCs.data]\n",
    "#test[np.in1d(tWalls.data, VelBCs.data)] = 1.\n",
    "#test\n",
    "\n"
   ]
  },
  {
   "cell_type": "code",
   "execution_count": null,
   "metadata": {
    "collapsed": false
   },
   "outputs": [],
   "source": []
  },
  {
   "cell_type": "markdown",
   "metadata": {},
   "source": [
    "Swarm setup\n",
    "-----\n"
   ]
  },
  {
   "cell_type": "code",
   "execution_count": 105,
   "metadata": {
    "collapsed": false
   },
   "outputs": [],
   "source": [
    "###########\n",
    "#Material Swarm and variables\n",
    "###########\n",
    "\n",
    "#create material swarm\n",
    "gSwarm = uw.swarm.Swarm(mesh=mesh, particleEscape=True)\n",
    "\n",
    "#create swarm variables\n",
    "yieldingCheck = gSwarm.add_variable( dataType=\"int\", count=1 )\n",
    "materialVariable = gSwarm.add_variable( dataType=\"int\", count=1 )\n",
    "ageVariable = gSwarm.add_variable( dataType=\"double\", count=1 )\n",
    "\n",
    "\n",
    "#these lists  are part of the checkpointing implementation\n",
    "varlist = [materialVariable, yieldingCheck, ageVariable]\n",
    "varnames = ['materialVariable', 'yieldingCheck', 'ageVariable']"
   ]
  },
  {
   "cell_type": "code",
   "execution_count": 106,
   "metadata": {
    "collapsed": false
   },
   "outputs": [],
   "source": [
    "mantleIndex = 0\n",
    "crustIndex = 1\n",
    "harzIndex = 2\n",
    "airIndex = 3\n",
    "\n",
    "\n",
    "\n",
    "if checkpointLoad:\n",
    "    temperatureField.load(os.path.join(checkpointLoadDir, \"temperatureField\" + \".hdf5\"))\n",
    "    pressureField.load(os.path.join(checkpointLoadDir, \"pressureField\" + \".hdf5\"))\n",
    "    velocityField.load(os.path.join(checkpointLoadDir, \"velocityField\" + \".hdf5\"))\n",
    "    gSwarm.load(os.path.join(checkpointLoadDir, \"swarm\" + \".h5\"))\n",
    "    for ix in range(len(varlist)):\n",
    "        varb = varlist[ix]\n",
    "        varb.load(os.path.join(checkpointLoadDir,varnames[ix] + \".h5\"))\n",
    "\n",
    "else:\n",
    "\n",
    "    # Layouts are used to populate the swarm across the whole domain\n",
    "    layout = uw.swarm.layouts.PerCellRandomLayout(swarm=gSwarm, particlesPerCell=int(md.ppc))\n",
    "    gSwarm.populate_using_layout( layout=layout ) # Now use it to populate.\n",
    "    # Swarm variables\n",
    "    materialVariable.data[:] = mantleIndex\n",
    "    #tracerVariable.data[:] = 1\n",
    "    yieldingCheck.data[:] = 0\n",
    "    ageVariable.data[:] = -1\n",
    "\n",
    "    #Set initial air and crust materials (allow the graph to take care of lithsophere)\n",
    "    #########\n",
    "    #This initial material setup will be model dependent\n",
    "    #########\n",
    "    for particleID in range(gSwarm.particleCoordinates.data.shape[0]):\n",
    "        if (1. - gSwarm.particleCoordinates.data[particleID][1]) < ndp.MANTLETOCRUST:\n",
    "                 materialVariable.data[particleID] = crustIndex"
   ]
  },
  {
   "cell_type": "code",
   "execution_count": 107,
   "metadata": {
    "collapsed": false
   },
   "outputs": [
    {
     "data": {
      "text/plain": [
       "array([0, 1, 2], dtype=int32)"
      ]
     },
     "execution_count": 107,
     "metadata": {},
     "output_type": "execute_result"
    }
   ],
   "source": [
    "###########\n",
    "#Little swarm to track subduction zone, ridge location\n",
    "###########\n",
    "swarmPlateBoundary = uw.swarm.Swarm( mesh=mesh )\n",
    "\n",
    "swarmCoords = np.array([ [ndp.subzone,1.], [ndp.lRidge,1.],[ndp.rRidge,1.]])\n",
    "\n",
    "\n",
    "swarmPlateBoundary.add_particles_with_coordinates(swarmCoords)"
   ]
  },
  {
   "cell_type": "markdown",
   "metadata": {
    "collapsed": false
   },
   "source": [
    "###########\n",
    "#This block sets up a checkboard layout of passive tracers\n",
    "###########\n",
    "\n",
    "square_size = 0.1\n",
    "xlist = np.arange(mesh.minCoord[0] + square_size/2., mesh.maxCoord[0] + square_size/2., square_size)\n",
    "xlist = zip(xlist[:], xlist[1:])[::2]\n",
    "ylist = np.arange(mesh.minCoord[1] + square_size/2., mesh.maxCoord[1] + square_size/2., square_size)\n",
    "ylist = zip(ylist[:], ylist[1:])[::2]\n",
    "xops = []\n",
    "for vals in xlist:\n",
    "    xops.append( (operator.and_(   operator.gt(coordinate[0],vals[0]),   operator.lt(coordinate[0],vals[1])  ),0.) )\n",
    "xops.append((True,1.))\n",
    "\n",
    "testfunc = fn.branching.conditional(xops) \n",
    "\n",
    "yops = []\n",
    "for vals in ylist:\n",
    "    yops.append( (operator.and_(   operator.gt(coordinate[1],vals[0]),   operator.lt(coordinate[1],vals[1])  ),0.) )\n",
    "yops.append((True,testfunc))\n",
    "\n",
    "testfunc2 = fn.branching.conditional(yops) \n",
    "tracerVariable.data[:] = testfunc.evaluate(gSwarm)\n",
    "tracerVariable.data[:] = testfunc2.evaluate(gSwarm)"
   ]
  },
  {
   "cell_type": "code",
   "execution_count": null,
   "metadata": {
    "collapsed": false
   },
   "outputs": [],
   "source": []
  },
  {
   "cell_type": "code",
   "execution_count": 108,
   "metadata": {
    "collapsed": false
   },
   "outputs": [],
   "source": [
    "##############\n",
    "#Set the initial particle age for particles above the critical depth; \n",
    "#only material older than crustageCond will be transformed to crust / harzburgite\n",
    "##############\n",
    "\n",
    "ageVariable.data[:] = 0. #start with all zero\n",
    "ageVariable.data[:] = ageFn.evaluate(gSwarm)/sf.SR\n",
    "crustageCond = 8e6*(3600.*365.*24.)/sf.SR #set inital age above critical depth. (x...Ma)\n",
    "\n",
    "\n",
    "\n",
    "ageConditions = [ (depthFn < ndp.AGETRACKDEPTH, ageVariable),  #In the main loop we add ageVariable + dt here\n",
    "                  (True, 0.) ]\n",
    "                 \n",
    "#apply conditional \n",
    "ageVariable.data[:] = fn.branching.conditional( ageConditions ).evaluate(gSwarm)\n",
    "\n",
    "ageDT = 0.#this is used in the main loop for short term time increments"
   ]
  },
  {
   "cell_type": "code",
   "execution_count": 143,
   "metadata": {
    "collapsed": false
   },
   "outputs": [
    {
     "data": {
      "text/plain": [
       "7.499643281807372e-06"
      ]
     },
     "execution_count": 143,
     "metadata": {},
     "output_type": "execute_result"
    }
   ],
   "source": [
    "crustageCond"
   ]
  },
  {
   "cell_type": "code",
   "execution_count": 137,
   "metadata": {
    "collapsed": false
   },
   "outputs": [],
   "source": [
    "##############\n",
    "#Here we set up a directed graph object that we we use to control the transformation from one material type to another\n",
    "##############\n",
    "\n",
    "#All depth conditions are given as (km/D) where D is the length scale,\n",
    "#note that 'model depths' are used, e.g. 1-z, where z is the vertical Underworld coordinate\n",
    "#All temp conditions are in dimensionless temp. [0. - 1.]\n",
    "\n",
    "#Need a list of all material indexes (safer in parallel)\n",
    "material_list = [0,1,2,3]\n",
    "\n",
    "if not checkpointLoad:\n",
    "    materialVariable.data[:] = 0 #Initialize to zero \n",
    "\n",
    "#Setup the graph object\n",
    "DG = material_graph.MatGraph()\n",
    "\n",
    "#Important: First thing to do is to add all the material types to the graph (i.e add nodes)\n",
    "DG.add_nodes_from(material_list)\n",
    "\n",
    "#Now set the conditions for transformations\n",
    "\n",
    "hs = 2e3/dp.LS  #add some hysteresis to the depths of transition\n",
    "\n",
    "#... to mantle\n",
    "DG.add_transition((crustIndex,mantleIndex), depthFn, operator.gt, ndp.CRUSTTOMANTLE + hs)\n",
    "DG.add_transition((harzIndex,mantleIndex), depthFn, operator.gt, ndp.CRUSTTOMANTLE + hs)\n",
    "DG.add_transition((airIndex,mantleIndex), depthFn, operator.gt, ndp.TOPOHEIGHT + hs)\n",
    "\n",
    "#... to crust\n",
    "DG.add_transition((mantleIndex,crustIndex), depthFn, operator.lt, ndp.MANTLETOCRUST)\n",
    "DG.add_transition((mantleIndex,crustIndex), xFn, operator.lt, ndp.subzone + 4.*ndp.MANTLETOCRUST) #No crust on the upper plate\n",
    "DG.add_transition((mantleIndex,crustIndex), ageVariable, operator.gt, crustageCond)\n",
    "\n",
    "\n",
    "\n",
    "DG.add_transition((harzIndex,crustIndex), depthFn, operator.lt, ndp.MANTLETOCRUST)\n",
    "DG.add_transition((harzIndex,crustIndex), xFn, operator.lt, ndp.subzone + 4.*ndp.MANTLETOCRUST) #This one sets no crust on the upper plate\n",
    "DG.add_transition((harzIndex,crustIndex), ageVariable, operator.gt, crustageCond)\n",
    "\n",
    "#... to Harzbugite\n",
    "DG.add_transition((mantleIndex,harzIndex), depthFn, operator.lt, ndp.HARZBURGDEPTH)\n",
    "DG.add_transition((mantleIndex,harzIndex), depthFn, operator.gt, ndp.MANTLETOCRUST)\n",
    "DG.add_transition((mantleIndex,harzIndex), ageVariable, operator.gt, crustageCond) #Note we can mix functions and swarm variabls\n",
    "\n",
    "\n",
    "#... to air\n",
    "DG.add_transition((mantleIndex,airIndex), depthFn, operator.lt,0.)\n",
    "DG.add_transition((crustIndex,airIndex), depthFn, operator.lt, 0. )\n",
    "DG.add_transition((harzIndex,airIndex), depthFn, operator.lt, 0. )\n",
    "\n",
    "\n",
    "\n",
    "\n",
    "\n",
    "\n",
    "\n"
   ]
  },
  {
   "cell_type": "code",
   "execution_count": 138,
   "metadata": {
    "collapsed": false
   },
   "outputs": [],
   "source": [
    "#CRUSTTOMANTLE, HARZBURGDEPTH, 0. + 7.*MANTLETOCRUST"
   ]
  },
  {
   "cell_type": "code",
   "execution_count": 139,
   "metadata": {
    "collapsed": false
   },
   "outputs": [
    {
     "data": {
      "text/plain": [
       "0.002758620689655172"
      ]
     },
     "execution_count": 139,
     "metadata": {},
     "output_type": "execute_result"
    }
   ],
   "source": [
    "ndp.MANTLETOCRUST"
   ]
  },
  {
   "cell_type": "code",
   "execution_count": 140,
   "metadata": {
    "collapsed": false
   },
   "outputs": [],
   "source": [
    "##############\n",
    "#For the slab_IC, we'll also add a crustal weak zone following the dipping perturbation\n",
    "##############\n",
    "\n",
    "if checkpointLoad != True:\n",
    "    if not md.symmetricIcs:\n",
    "        for particleID in range(gSwarm.particleCoordinates.data.shape[0]):\n",
    "            if gSwarm.particleCoordinates.data[particleID][1] < 0.:\n",
    "                materialVariable.data[particleID] = airIndex\n",
    "                \n",
    "            elif (\n",
    "                Oc.evaluate(list(gSwarm.particleCoordinates.data[particleID])) and\n",
    "                Tri.evaluate(list(gSwarm.particleCoordinates.data[particleID])) and\n",
    "                gSwarm.particleCoordinates.data[particleID][1] > (MAXY - ndp.maxDepth) and\n",
    "                Cc.evaluate(list(gSwarm.particleCoordinates.data[particleID])) == False\n",
    "                \n",
    "                ):\n",
    "                materialVariable.data[particleID] = crustIndex\n",
    "                \n",
    "            elif (\n",
    "                Oc.evaluate(list(gSwarm.particleCoordinates.data[particleID])) and\n",
    "                Tri.evaluate(list(gSwarm.particleCoordinates.data[particleID])) and\n",
    "                gSwarm.particleCoordinates.data[particleID][1] > (MAXY - ndp.maxDepth) and\n",
    "                Hc.evaluate(list(gSwarm.particleCoordinates.data[particleID])) == False\n",
    "                \n",
    "                ):\n",
    "                materialVariable.data[particleID] = harzIndex"
   ]
  },
  {
   "cell_type": "code",
   "execution_count": 141,
   "metadata": {
    "collapsed": false
   },
   "outputs": [],
   "source": [
    "##############\n",
    "#This is how we use the material graph object to test / apply material transformations\n",
    "##############\n",
    "DG.build_condition_list(materialVariable)\n",
    "\n",
    "for i in range(2): #Need to go through a number of times\n",
    "    materialVariable.data[:] = fn.branching.conditional(DG.condition_list).evaluate(gSwarm)"
   ]
  },
  {
   "cell_type": "code",
   "execution_count": 145,
   "metadata": {
    "collapsed": false
   },
   "outputs": [
    {
     "data": {
      "text/html": [
       "<img src='data:image/png;base64,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'>"
      ],
      "text/plain": [
       "<IPython.core.display.HTML object>"
      ]
     },
     "metadata": {},
     "output_type": "display_data"
    }
   ],
   "source": [
    "#fig= glucifer.Figure(quality=3)\n",
    "\n",
    "#fig.append( glucifer.objects.Points(gSwarm,materialVariable ))\n",
    "#fig.append( glucifer.objects.Mesh(mesh))\n",
    "#fig.show()\n",
    "##\n",
    "#fig.save_database('test.gldb')"
   ]
  },
  {
   "cell_type": "markdown",
   "metadata": {},
   "source": [
    "## Test - careful\n",
    "\n",
    "Now that we have our initial material layout, we'll place some more restrictions on material transitions\n"
   ]
  },
  {
   "cell_type": "code",
   "execution_count": 133,
   "metadata": {
    "collapsed": false
   },
   "outputs": [
    {
     "data": {
      "text/plain": [
       "-800000.0"
      ]
     },
     "execution_count": 133,
     "metadata": {},
     "output_type": "execute_result"
    }
   ],
   "source": [
    "DG.remove_edges_from([(mantleIndex,crustIndex)])\n",
    "DG.add_edges_from([(mantleIndex,crustIndex)])\n",
    "\n",
    "#... to crust\n",
    "DG.add_transition((mantleIndex,crustIndex), depthFn, operator.lt, ndp.MANTLETOCRUST)\n",
    "DG.add_transition((mantleIndex,crustIndex), xFn, operator.lt, 0.5*ndp.lRidge) #No crust on the upper plate\n",
    "DG.add_transition((mantleIndex,crustIndex), ageVariable, operator.gt, crustageCond)\n"
   ]
  },
  {
   "cell_type": "markdown",
   "metadata": {
    "collapsed": false
   },
   "source": [
    "## Fault stuff\n",
    "\n"
   ]
  },
  {
   "cell_type": "code",
   "execution_count": 117,
   "metadata": {
    "collapsed": false
   },
   "outputs": [
    {
     "name": "stderr",
     "output_type": "stream",
     "text": [
      "/workspace/2dthermalslabs/kaplan/unsupported_dan/interfaces/__init__.py:9: UserWarning: \n",
      "\n",
      "The interface module is not supported.\n",
      "Questions should be addressed to louis.moresi@unimelb.edu.au \n",
      " \n",
      "  Questions should be addressed to louis.moresi@unimelb.edu.au \\n \"\"\"\n",
      "/workspace/2dthermalslabs/kaplan/unsupported_dan/faults/__init__.py:9: UserWarning: \n",
      "\n",
      "The fault module is not supported.\n",
      "Questions should be addressed to louis.moresi@unimelb.edu.au \n",
      " \n",
      "  Questions should be addressed to louis.moresi@unimelb.edu.au \\n \"\"\"\n"
     ]
    }
   ],
   "source": [
    "from unsupported_dan.interfaces.marker2D import markerLine2D\n",
    "from unsupported_dan.faults.faults2D import fault2D, fault_collection"
   ]
  },
  {
   "cell_type": "code",
   "execution_count": 50,
   "metadata": {
    "collapsed": true
   },
   "outputs": [],
   "source": [
    "def copy_markerLine2D(ml, thickness=False, ID=False):\n",
    "    \n",
    "    \"\"\"\n",
    "    \n",
    "    \"\"\"\n",
    "    if not thickness:\n",
    "        thickness = ml.thickness\n",
    "    if not ID:\n",
    "        ID = -1*ml.ID\n",
    "    new_line = markerLine2D(mesh, velocityField, [], [], thickness,  ID)\n",
    "    if ml.swarm.particleCoordinates.data.shape[0] > 0:\n",
    "        new_line.swarm.add_particles_with_coordinates(ml.swarm.particleCoordinates.data.copy())\n",
    "        \n",
    "    new_line.rebuild()\n",
    "    return new_line"
   ]
  },
  {
   "cell_type": "code",
   "execution_count": 51,
   "metadata": {
    "collapsed": true
   },
   "outputs": [],
   "source": [
    "###########\n",
    "#Initial Coordinates for inerfaces and faults\n",
    "###########\n",
    "\n",
    "#subduction fault\n",
    "introPoint = ndp.subzone - abs(ndp.subzone - ndp.lRidge)/2. #half way between ridge and Sz\n",
    "faultthickness = ndp.MANTLETOCRUST #initialise fault at bottom of the crust\n",
    "nfault = 1000\n",
    "faultCoords =np.zeros((nfault, 2))\n",
    "\n",
    "reducedRocM = ndp.roc  - faultthickness\n",
    "xlimslab = reducedRocM*math.cos(math.pi*(90. - dp.theta)/180)\n",
    "faultCoords[:, 0] = np.linspace(introPoint, ndp.subzone + xlimslab, nfault) #note SZ location is hardcoded here \n",
    "for index, xval in np.ndenumerate(faultCoords[:,0]):\n",
    "    #print index, xval\n",
    "    #swarmCoords[index[0], 1] = 1. - isodepthFn.evaluate((xval, 0.)) #This bit for the plate \n",
    "    if  xval < ndp.subzone:\n",
    "        faultCoords[index[0], 1] = MAXY - faultthickness #This bit for the plate \n",
    "        \n",
    "    else:\n",
    "        faultCoords[index[0], 1] = (MAXY - (faultthickness) - (reducedRocM - ( math.sqrt((reducedRocM**2 - (xval-ndp.subzone)**2)))))\n",
    "        \n",
    "    \n",
    "faultCoords = faultCoords[faultCoords[:,1] > (MAXY - ndp.maxDepth)] #kill any deeper than cutoff\n",
    "\n",
    "\n",
    "#surface tracer interface:\n",
    "surfaceCoords =np.ones((nfault, 2))*1.\n",
    "surfaceCoords[:,0] = np.linspace(MINX, MAXX, nfault)\n",
    "\n",
    "\n",
    "\n"
   ]
  },
  {
   "cell_type": "code",
   "execution_count": 52,
   "metadata": {
    "collapsed": false
   },
   "outputs": [],
   "source": [
    "#Initiaze the swarms in a \n",
    "fault  = fault2D(mesh, velocityField, [], [], faultthickness, 0., 0., crustIndex)\n",
    "surface  = fault2D(mesh, velocityField, [], [], ndp.StALS, 0., 0., airIndex)\n",
    "#slab_seg  = marker2D.markerLine2D(mesh, velocityField, [], [], 1e9/dp.LS, crustIndex)   #Note very large fault thickness \n",
    "\n",
    "fault_coll = fault_collection([fault])\n",
    "\n",
    "\n",
    "\n",
    "#Initiaze the swarms in a \n",
    "#fault_seg  = marker2D.markerLine2D(mesh, velocityField, [], [], faultthickness, 0.0, 0.0, crustIndex)\n",
    "#surface_seg  = marker2D.markerLine2D(mesh, velocityField, [], [], ndp.StALS, 0.0, 0.0, airIndex)\n",
    "#slab_seg  = marker2D.markerLine2D(mesh, velocityField, [], [], 1e9/dp.LS, 0.0, 0.0, crustIndex)   #Note very large fault thickness\n",
    "\n",
    "#These lists are used to checkpoint the marker lines, similar to the swarm variables.        \n",
    "interfaces = []\n",
    "interfaces.append(fault)\n",
    "interfaces.append(surface)\n",
    "interfacenames = ['fault_seg', 'surface_seg']\n",
    "\n",
    "\n",
    "#If restarting, load the swarms from file Interfaces are just swarms, so should be fine to rely on parallel h5 machinery here\n",
    "if checkpointLoad:\n",
    "    for ix in range(len(interfaces)):\n",
    "        tempname = interfacenames[ix]\n",
    "        interfaces[ix].swarm.load(os.path.join(checkpointLoadDir,  tempname + \".h5\"))\n",
    "\n",
    "#otherwise add the point from at the initial locations\n",
    "else:\n",
    "    fault.add_points(faultCoords[:, 0], faultCoords[:, 1])\n",
    "    surface.add_points(surfaceCoords[:, 0], surfaceCoords[:, 1])\n",
    "    #slab_seg.add_points(slabCoords[:, 0], slabCoords[:, 1]) \n",
    "    \n"
   ]
  },
  {
   "cell_type": "code",
   "execution_count": 53,
   "metadata": {
    "collapsed": true
   },
   "outputs": [],
   "source": [
    "#Add the necessary swarm variables\n",
    "\n",
    "proximityVariable      = gSwarm.add_variable( dataType=\"int\", count=1 )\n",
    "signedDistanceVariable = gSwarm.add_variable( dataType=\"float\", count=1 )\n",
    "directorVector   = gSwarm.add_variable( dataType=\"double\", count=2)\n",
    "\n",
    "directorVector.data[:,:] = 0.0\n",
    "proximityVariable.data[:] = 0\n",
    "signedDistanceVariable.data[:] = 0.0"
   ]
  },
  {
   "cell_type": "code",
   "execution_count": 54,
   "metadata": {
    "collapsed": false
   },
   "outputs": [],
   "source": [
    "#inform the mesh of the fault\n",
    "\n",
    "sd, pts0 = fault.compute_signed_distance(gSwarm.particleCoordinates.data, distance=w0)\n",
    "sp, pts0 = fault.compute_marker_proximity(gSwarm.particleCoordinates.data)\n",
    "\n",
    "proximityVariable.data[np.logical_and(sd<0,sp == fault.ID)] = sp[np.logical_and(sd<0,sp == fault.ID)]\n",
    "\n",
    "dv, nzv = fault.compute_normals(gSwarm.particleCoordinates.data)\n",
    "directorVector.data[nzv] = dv[nzv]\n",
    "\n",
    "\n",
    "\n",
    "\n",
    "edotn_SFn, edots_SFn = fault_coll.global_fault_strainrate_fns(velocityField, directorVector, proximityVariable)\n"
   ]
  },
  {
   "cell_type": "code",
   "execution_count": 55,
   "metadata": {
    "collapsed": false
   },
   "outputs": [],
   "source": [
    "\n",
    "\n",
    "# Call the Fault helper functions to initialize this info on the main material swarm\n",
    "    \n",
    "#update_swarm_from_faults(surface_seg, proximityVariable, directorVector, signedDistanceVariable)\n",
    "#mask_materials(surface_seg, airIndex, materialVariable, proximityVariable, directorVector, signedDistanceVariable)\n",
    "\n",
    "#update_swarm_from_faults(fault_seg, proximityVariable, directorVector, signedDistanceVariable)\n",
    "#mask_materials(fault_seg, crustIndex, materialVariable, proximityVariable, directorVector, signedDistanceVariable)\n",
    "\n",
    "#Also switch off proximity beneath ndp.CRUSTVISCUTOFF depth\n",
    "#proximityVariable.data[gSwarm.particleCoordinates.data[:,1]  < (1. - ndp.CRUSTVISCUTOFF)] = 0. \n",
    "\n",
    "# These should be general enough not to need updating when the faults move etc..\n",
    "#ie they should update as the fields/functions/swarm variables they are built on update\n",
    "#edotn_SFn, edots_SFn = fault_strainrate_fns(interfaces, velocityField, directorVector, proximityVariable)"
   ]
  },
  {
   "cell_type": "code",
   "execution_count": 56,
   "metadata": {
    "collapsed": false
   },
   "outputs": [],
   "source": [
    "## Take a look at the locations of the materials\n",
    "\n",
    "#Note we only use this mesh director for visualizing the directorVector (vector-on-swarm viewing not suppoted yet)\n",
    "#meshDirector = uw.mesh.MeshVariable( mesh, 2 )\n",
    "#projectDirector = uw.utils.MeshVariable_Projection( meshDirector, directorVector, type=1 )\n",
    "#projectDirector.solve()    \n",
    "\n",
    "figMaterials = glucifer.Figure( figsize=(1200,400))\n",
    "\n",
    "#Plot swarm associated with each fault\n",
    "figMaterials.append( glucifer.objects.Points(fault.swarm, colours=\"Black Black\", pointSize=2.0, colourBar=False) )\n",
    "\n",
    "\n",
    "#plot mesh director viz. guy\n",
    "#figMaterials.append( glucifer.objects.VectorArrows(mesh, meshDirector, scaling=.08, \n",
    "#                                               resolutionI=100, resolutionJ=20, opacity=0.25) )\n",
    "\n",
    "\n",
    "#Proximity variable - this is the colour\n",
    "figMaterials.append( glucifer.objects.Points(gSwarm, proximityVariable, \n",
    "                                             pointSize=5.0,  opacity=0.75) )\n",
    "\n",
    "\n",
    "#signedDistanceVariable - this variable goes to zero where the proximity cutoff is\n",
    "#note that it's signed...faults have a direction\n",
    "#figMaterials.append( glucifer.objects.Points(gSwarm, signedDistanceVariable, \n",
    "#                                             pointSize=2.0))\n",
    "\n",
    "#Add mesh\n",
    "#figMaterials.append( glucifer.objects.Mesh(mesh, opacity=0.1) )\n",
    "\n",
    "#figMaterials.show()\n",
    "#figMaterials.save_database('test.gldb')"
   ]
  },
  {
   "cell_type": "code",
   "execution_count": null,
   "metadata": {
    "collapsed": true
   },
   "outputs": [],
   "source": []
  },
  {
   "cell_type": "markdown",
   "metadata": {},
   "source": [
    "Rheology\n",
    "-----\n",
    "\n"
   ]
  },
  {
   "cell_type": "code",
   "execution_count": 58,
   "metadata": {
    "collapsed": false
   },
   "outputs": [],
   "source": [
    "##############\n",
    "#Set up any functions required by the rheology\n",
    "##############\n",
    "strainRate_2ndInvariant = fn.tensor.second_invariant( \n",
    "                            fn.tensor.symmetric( \n",
    "                            velocityField.fn_gradient ))\n",
    "\n",
    "def safe_visc(func, viscmin=ndp.eta_min, viscmax=ndp.eta_max):\n",
    "    return fn.misc.max(viscmin, fn.misc.min(viscmax, func))"
   ]
  },
  {
   "cell_type": "code",
   "execution_count": 59,
   "metadata": {
    "collapsed": true
   },
   "outputs": [],
   "source": [
    "#strainRate_2ndInvariant = fn.misc.constant(ndp.SR) #dummy fucntion to check which mechanisms are at active are reference strain rate"
   ]
  },
  {
   "cell_type": "code",
   "execution_count": 60,
   "metadata": {
    "collapsed": false
   },
   "outputs": [],
   "source": [
    "############\n",
    "#Rheology: create UW2 functions for all viscous mechanisms\n",
    "#############\n",
    "omega = fn.misc.constant(1.) #this function can hold any arbitary viscosity modifications \n",
    "\n",
    "\n",
    "#Note Because we're not using the pressure term, creep values will be unrealistically low at higher temps. \n",
    "#However this adpatation of the flow law gives us a nearly iso-viscous mantle, and a consistent viscosity (eta(T)) profile in the lithsphere\n",
    "dfScale = (math.exp(ndp.Edf/(1. + ndp.TS) ))\n",
    "diffusion = safe_visc((1./dfScale)*fn.math.exp(ndp.Edf / (temperatureField + ndp.TS)))\n",
    "\n",
    "##Define the Plasticity\n",
    "ys =  ndp.cm + (depthFn*ndp.fcmd)\n",
    "ysMax = 10e4*1e6*sf.stress\n",
    "ysf = fn.misc.min(ys, ysMax)\n",
    "yielding = ysf/(2.*(strainRate_2ndInvariant))\n",
    "\n",
    "##Crust rheology\n",
    "crustys =  ndp.cc + (depthFn*ndp.fccd) #only weakened cohesion is discussed, not fc\n",
    "crustvisc = crustys/(2.*(strainRate_2ndInvariant)) \n",
    "\n",
    "\n"
   ]
  },
  {
   "cell_type": "code",
   "execution_count": 61,
   "metadata": {
    "collapsed": false
   },
   "outputs": [],
   "source": [
    "#fig2= glucifer.Figure()\n",
    "#fig2.append( glucifer.objects.Surface(mesh, diffusion, logScale=True))\n",
    "#fig2.show()"
   ]
  },
  {
   "cell_type": "code",
   "execution_count": 62,
   "metadata": {
    "collapsed": false
   },
   "outputs": [],
   "source": [
    "############\n",
    "#Rheology: combine viscous mechanisms in various ways \n",
    "#harmonic: harmonic average of all mechanims\n",
    "#min: minimum effective viscosity of the mechanims\n",
    "#mixed: takes the minimum of the harmonic and the plastic effective viscosity\n",
    "#############\n",
    "\n",
    "\n",
    "#combined rheology    \n",
    "finalviscosityFn  = fn.branching.conditional([(depthFn < ndp.LOWMANTLEDEPTH, safe_visc(fn.misc.min(diffusion, yielding))),\n",
    "                                  (True, safe_visc(safe_visc(diffusion*ndp.low_mantle_visc_fac)))])\n",
    "\n",
    "\n",
    "crustviscosityFn = safe_visc(fn.misc.min(finalviscosityFn, crustvisc), ndp.eta_max_crust)\n",
    "\n",
    "if ndp.eta_max_crust == ndp.eta_min_crust: #If these are equal, set to constant visc. \n",
    "    crustviscosityFn = fn.misc.constant(ndp.eta_min_crust)\n",
    "    \n",
    "\n",
    "\n",
    "finalcrustviscosityFn  = fn.branching.conditional([(depthFn < ndp.CRUSTVISCUTOFF, crustviscosityFn),\n",
    "                                                     (True, finalviscosityFn)])"
   ]
  },
  {
   "cell_type": "markdown",
   "metadata": {},
   "source": [
    "Stokes system setup\n",
    "-----\n"
   ]
  },
  {
   "cell_type": "code",
   "execution_count": 63,
   "metadata": {
    "collapsed": true
   },
   "outputs": [],
   "source": [
    "buoyancyFn =  ndp.RA*temperatureField\n"
   ]
  },
  {
   "cell_type": "code",
   "execution_count": 64,
   "metadata": {
    "collapsed": false
   },
   "outputs": [],
   "source": [
    "densityMapFn = fn.branching.map( fn_key = materialVariable,\n",
    "                         mapping = {airIndex:ndp.StRA,\n",
    "                                    crustIndex:buoyancyFn, \n",
    "                                    mantleIndex:buoyancyFn,\n",
    "                                    harzIndex:buoyancyFn} )"
   ]
  },
  {
   "cell_type": "code",
   "execution_count": 65,
   "metadata": {
    "collapsed": true
   },
   "outputs": [],
   "source": [
    "\n",
    "# Define our vertical unit vector using a python tuple (this will be automatically converted to a function).\n",
    "gravity = ( 0.0, 1.0 )\n",
    "\n",
    "# Now create a buoyancy force vector using the density and the vertical unit vector. \n",
    "buoyancyFn = densityMapFn * gravity"
   ]
  },
  {
   "cell_type": "code",
   "execution_count": 66,
   "metadata": {
    "collapsed": false
   },
   "outputs": [
    {
     "name": "stderr",
     "output_type": "stream",
     "text": [
      "/root/underworld2/underworld/systems/_stokes.py:70: UserWarning: 'swarm' paramater has been renamed to 'voronoi_swarm'. Please update your models. 'swarm' parameter will be removed in the next release.\n",
      "  \"'swarm' parameter will be removed in the next release.\")\n"
     ]
    }
   ],
   "source": [
    "if md.PIC_integration:\n",
    "    stokesPIC = uw.systems.Stokes(velocityField=velocityField, \n",
    "                              pressureField=pressureField,\n",
    "                              conditions=[freeslipBC,],\n",
    "                              fn_viscosity=diffusion, \n",
    "                              fn_bodyforce=buoyancyFn,\n",
    "                              swarm=gSwarm)\n",
    "    \n",
    "\n",
    "else:\n",
    "    stokesPIC = uw.systems.Stokes(velocityField=velocityField, \n",
    "                              pressureField=pressureField,\n",
    "                              conditions=[freeslipBC,],\n",
    "                              fn_viscosity=diffusion, \n",
    "                              fn_bodyforce=buoyancyFn )"
   ]
  },
  {
   "cell_type": "code",
   "execution_count": 67,
   "metadata": {
    "collapsed": true
   },
   "outputs": [],
   "source": [
    "solver = uw.systems.Solver(stokesPIC)\n",
    "if not checkpointLoad:\n",
    "    solver.solve() #A solve on the linear visocisty is unhelpful unless we're starting from scratch"
   ]
  },
  {
   "cell_type": "code",
   "execution_count": 68,
   "metadata": {
    "collapsed": false
   },
   "outputs": [],
   "source": [
    "viscosityMapFn1 = fn.branching.map( fn_key = materialVariable,\n",
    "                         mapping = {crustIndex:finalcrustviscosityFn,\n",
    "                                    mantleIndex:finalviscosityFn,\n",
    "                                    harzIndex:finalviscosityFn,\n",
    "                                    airIndex:ndp.Steta_n} )\n",
    "\n",
    "\n",
    "delta_Steata2 = ndp.Steta_n - ndp.Steta_s\n",
    "delta_eta_fault = 0.\n",
    "\n",
    "if md.subductionFault:  \n",
    "    if ndp.eta_min_fault == ndp.eta_min_fault:#Transverse rheology is isoviscous\n",
    "        delta_eta_fault = fn.misc.min(0.999, fn.misc.max (0.,   ndp.eta_min_crust - ndp.eta_min_fault))       \n",
    "        \n",
    "    else:\n",
    "        #Transverse viscosity is related the Mohr-Coulomb criterion\n",
    "        delta_eta_fault = fn.misc.min(0.999, fn.misc.max (0., \n",
    "        viscosityMapFn1 - ((edotn_SFn*viscosityMapFn1 + ndp.fcfd * pressureField)  + ndp.cf)/edots_SFn))\n",
    "   "
   ]
  },
  {
   "cell_type": "code",
   "execution_count": 69,
   "metadata": {
    "collapsed": false
   },
   "outputs": [],
   "source": [
    "# This one maps to my fault-proximity variable (which also picks only materialV)\n",
    "viscosityMapFn2    = { 0: 0.0, \n",
    "                           1: delta_eta_fault, \n",
    "                           3: delta_Steata2\n",
    "                       }\n",
    "    \n",
    "\n",
    "viscosityMapFn2  = fn.branching.map( fn_key = proximityVariable, \n",
    "                                           mapping = viscosityMapFn2)"
   ]
  },
  {
   "cell_type": "code",
   "execution_count": 70,
   "metadata": {
    "collapsed": false
   },
   "outputs": [],
   "source": [
    "#orientation = -1.*90. * math.pi / 180.0  #vertical\n",
    "#math.cos(orientation), math.sin(orientation)"
   ]
  },
  {
   "cell_type": "code",
   "execution_count": 71,
   "metadata": {
    "collapsed": false
   },
   "outputs": [],
   "source": [
    "#md.subductionFault"
   ]
  },
  {
   "cell_type": "code",
   "execution_count": 72,
   "metadata": {
    "collapsed": false
   },
   "outputs": [],
   "source": [
    "#Add the non-linear viscosity to the Stokes system\n",
    "stokesPIC.fn_viscosity = viscosityMapFn1\n",
    "\n",
    "if md.stickyAir or md.subductionFault:\n",
    "    stokesPIC.fn_viscosity2 = viscosityMapFn2\n",
    "    stokesPIC._fn_director   = directorVector\n"
   ]
  },
  {
   "cell_type": "code",
   "execution_count": 73,
   "metadata": {
    "collapsed": false
   },
   "outputs": [
    {
     "name": "stdout",
     "output_type": "stream",
     "text": [
      "\u001b[1;35m\n",
      " \n",
      "Pressure iterations:   3\n",
      "Velocity iterations:   1 (presolve)      \n",
      "Velocity iterations:  -1 (pressure solve)\n",
      "Velocity iterations:   1 (backsolve)     \n",
      "Velocity iterations:   1 (total solve)   \n",
      " \n",
      "SCR RHS  solve time: 6.7976e-01\n",
      "Pressure solve time: 5.3247e-02\n",
      "Velocity solve time: 6.3372e-01 (backsolve)\n",
      "Total solve time   : 1.4950e+00\n",
      " \n",
      "Velocity solution min/max: 0.0000e+00/0.0000e+00\n",
      "Pressure solution min/max: 0.0000e+00/0.0000e+00\n",
      " \n",
      "\u001b[00m\n"
     ]
    }
   ],
   "source": [
    "solver.set_inner_method(\"mumps\")\n",
    "solver.options.scr.ksp_type=\"cg\"\n",
    "solver.set_penalty(1.0e7)\n",
    "solver.options.scr.ksp_rtol = 1.0e-4\n",
    "solver.solve(nonLinearIterate=True)\n",
    "solver.print_stats()"
   ]
  },
  {
   "cell_type": "code",
   "execution_count": 74,
   "metadata": {
    "collapsed": false
   },
   "outputs": [],
   "source": [
    "#Check which particles are yielding\n",
    "#yieldingCheck.data[:] = 0\n",
    "\n",
    "#yieldconditions = [ ( finalviscosityFn < Visc , 1), \n",
    "#               ( True                                           , 0) ]\n",
    "\n",
    "# use the branching conditional function to set each particle's index\n",
    "#yieldingCheck.data[:] = fn.branching.conditional( yieldconditions ).evaluate(gSwarm)"
   ]
  },
  {
   "cell_type": "code",
   "execution_count": 75,
   "metadata": {
    "collapsed": false
   },
   "outputs": [],
   "source": [
    "#velocityFieldIso       = uw.mesh.MeshVariable( mesh=mesh,         nodeDofCount=2 )\n",
    "#velocityFieldIso.data[:] = velocityField.data.copy()\n",
    "\n",
    "\n",
    "\n",
    "#strainRate_2ndInvariantIso = fn.tensor.second_invariant( \n",
    "#                            fn.tensor.symmetric( \n",
    "#                            velocityFieldIso.fn_gradient ))"
   ]
  },
  {
   "cell_type": "code",
   "execution_count": 168,
   "metadata": {
    "collapsed": true
   },
   "outputs": [],
   "source": [
    "#Set up a swarm Stress function\n",
    "\n",
    "swarmStressFn = 2.*stokesPIC.fn_viscosity*strainRate_2ndInvariant"
   ]
  },
  {
   "cell_type": "markdown",
   "metadata": {},
   "source": [
    "sym_strainRate = fn.tensor.symmetric( \n",
    "                            velocityField.fn_gradient )\n",
    "\n",
    "\n",
    "eig1       = uw.mesh.MeshVariable( mesh=mesh,         nodeDofCount=2 )\n",
    "\n",
    "eig2       = uw.mesh.MeshVariable( mesh=mesh,         nodeDofCount=2 )\n",
    "\n",
    "\n",
    "meshVisc = uw.mesh.MeshVariable( mesh, 1)\n",
    "projectGuy = uw.utils.MeshVariable_Projection(meshVisc, viscosityMapFn1, type=0 )\n",
    "projectGuy.solve() "
   ]
  },
  {
   "cell_type": "markdown",
   "metadata": {},
   "source": [
    "ssr = sym_strainRate.evaluate(mesh)\n",
    "\n",
    "\n",
    "for ti, val in enumerate(eig1.data):\n",
    "    eigVals, eigVex= np.linalg.eigh(np.array([[ssr[ti][0],ssr[ti][2]],[ssr[ti][2],ssr[ti][0]]]), UPLO='U')\n",
    "    #eig1.data[ti] = meshVisc.data[ti]*eigVals[0]*eigVex[0]\n",
    "    #eig2.data[ti] = meshVisc.data[ti]*eigVals[1]*eigVex[1]\n",
    "    eig1.data[ti] = eigVex[0]\n",
    "    eig2.data[ti] = eigVex[1]"
   ]
  },
  {
   "cell_type": "code",
   "execution_count": 189,
   "metadata": {
    "collapsed": false
   },
   "outputs": [
    {
     "data": {
      "text/plain": [
       "(array([ 0.,  2.]), array([[-0.70710678,  0.70710678],\n",
       "        [ 0.70710678,  0.70710678]]))"
      ]
     },
     "execution_count": 189,
     "metadata": {},
     "output_type": "execute_result"
    }
   ],
   "source": [
    "#np.linalg.eigh(np.array([[1,1],[1,1]]), UPLO='U')"
   ]
  },
  {
   "cell_type": "markdown",
   "metadata": {},
   "source": [
    "mantleconditions = [ (                                  operator.and_(temperatureField < 0.9*TMAX, operator.and_(xFn> ndp.lRidge,xFn< ndp.rRidge )), 1.),\n",
    "                   (                                                   True , 0.) ]\n",
    "lithRestFn = fn.branching.conditional(mantleconditions)\n",
    "\n",
    "fig= glucifer.Figure(quality=3)\n",
    "fig.append( glucifer.objects.Surface(mesh,temperatureField))\n",
    "fig.append( glucifer.objects.VectorArrows(mesh,eig1*lithRestFn,arrowHead=0., scaling=1e-2, resolutionI=16*10, resolutionJ=16*2 ))\n",
    "#fig.append( glucifer.objects.VectorArrows(mesh,eig2,arrowHead=0., scaling=1e-2, resolutionI=16*5, resolutionJ=16))\n",
    "\n",
    "\n",
    "fig.show()\n",
    "##\n",
    "fig.save_database('test.gldb')"
   ]
  },
  {
   "cell_type": "markdown",
   "metadata": {},
   "source": [
    "Advection-diffusion System setup\n",
    "-----"
   ]
  },
  {
   "cell_type": "code",
   "execution_count": 155,
   "metadata": {
    "collapsed": false
   },
   "outputs": [],
   "source": [
    "advDiff = uw.systems.AdvectionDiffusion( phiField       = temperatureField, \n",
    "                                         phiDotField    = temperatureDotField, \n",
    "                                         velocityField  = velocityField,\n",
    "                                         fn_sourceTerm    = 0.0,\n",
    "                                         fn_diffusivity = 1.0, \n",
    "                                         #conditions     = [neumannTempBC, dirichTempBC] )\n",
    "                                         conditions     = [ dirichTempBC] )\n",
    "\n",
    "passiveadvector = uw.systems.SwarmAdvector( swarm         = gSwarm, \n",
    "                                     velocityField = velocityField, \n",
    "                                     order         = 1)"
   ]
  },
  {
   "cell_type": "code",
   "execution_count": 156,
   "metadata": {
    "collapsed": true
   },
   "outputs": [],
   "source": [
    "population_control = uw.swarm.PopulationControl(gSwarm,deleteThreshold=0.2,splitThreshold=1.,maxDeletions=3,maxSplits=0, aggressive=True, particlesPerCell=int(md.ppc))"
   ]
  },
  {
   "cell_type": "markdown",
   "metadata": {},
   "source": [
    "Analysis functions / routines\n",
    "-----\n",
    "\n",
    "Most of the metrics we want to calculate are either:\n",
    "\n",
    "* extrema of some field / function\n",
    "* integral of some field / function\n",
    "* average value of some function (integral divide by area)\n",
    "\n",
    "In addition, we also want to be able to determine these metrics over some restricted part of the domain, where the restriction may either be due some value of a field, a material type, or something more arbitrary.\n",
    "\n",
    "Much of he challenge lies in defining these restriction functions in an efficient and robust way (i.e they don't break down as the model evolves)\n",
    "\n",
    "For volume integrals, and extrema, we build a hierarchy of restriction functions, each borrowing from the previous, until we have divided the domain into a number of sub regions of interest. \n",
    "\n",
    "In general, averages are found afterwards by combining the integral and the area of the relavent subregion"
   ]
  },
  {
   "cell_type": "code",
   "execution_count": 169,
   "metadata": {
    "collapsed": false
   },
   "outputs": [],
   "source": [
    "###################\n",
    "#Volume Restriction functions\n",
    "###################\n",
    "\n",
    "#Level 1. Global\n",
    "globRestFn = fn.misc.constant(1.)\n",
    "\n",
    "#Level 2. Rock - air:\n",
    "rockRestFn = uw.swarm.SwarmVariable(gSwarm, dataType='double', count=1)\n",
    "rockRestFn.data[:] = 0.\n",
    "rockRestFn.data[np.where(materialVariable.data[:] != airIndex)] = 1.\n",
    "rockRestFn *= globRestFn #Add next level up in heirarchy\n",
    "\n",
    "\n",
    "#Level 3. lithosphere - mantle:\n",
    "tempMM = fn.view.min_max(temperatureField)\n",
    "tempMM.evaluate(mesh)\n",
    "TMAX = tempMM.max_global()\n",
    "mantleconditions = [ (                                  operator.and_(temperatureField < 0.9*TMAX, operator.and_(xFn> ndp.lRidge,xFn< ndp.rRidge )), 1.),\n",
    "                   (                                                   True , 0.) ]\n",
    "lithRestFn = fn.branching.conditional(mantleconditions)\n",
    "lithRestFn*=rockRestFn #Add next level up in heirarchy\n",
    "\n",
    "\n",
    "#Level 4. lower plate - upper plate:\n",
    "\n",
    "\n",
    "#This whole section simply builds a restriction Fn that separates the upper and lower plate \n",
    "#It's pretty cumbersome, and will need to advected, rebuilt\n",
    "#can YOU think of a better way?\n",
    "   \n",
    "lowerPlateRestFn = gSwarm.add_variable( dataType=\"double\", count=1 )\n",
    "lowerPlateRestFn.data[:] = 0.0\n",
    "sd, pts0 = fault.compute_signed_distance(gSwarm.particleCoordinates.data, distance=w0)\n",
    "sp, pts0 = fault.compute_marker_proximity(gSwarm.particleCoordinates.data, distance=w0)\n",
    "\n",
    "lowerPlateRestFn.data[np.logical_and(sd>0,sp == fault.ID)] = sp[np.logical_and(sd>0,sp == fault.ID)]\n",
    "lowerPlateRestFn *= lithRestFn #Add next level up in heirarchy\n",
    "#The lowerPlateRestFn isn't working on restart - no idea why\n",
    "\n",
    "\n",
    "\n",
    "#Level 5. hinge of lower plate:\n",
    "\n",
    "hinge60Spatialconditions = [ (           operator.and_( (depthFn < (60e3/dp.LS)),  (xFn > ndp.subzone - 60e3/dp.LS)), 1.),\n",
    "                   (                                                   True , 0.) ]\n",
    "\n",
    "hinge60RestFn = fn.branching.conditional(hinge60Spatialconditions)\n",
    "hinge60RestFn*=lowerPlateRestFn #Add next level up in heirarchy\n",
    "\n",
    "\n",
    "\n",
    "hinge180Spatialconditions = [ (           operator.and_( (depthFn < (180e3/dp.LS)),  (xFn > ndp.subzone - 180e3/dp.LS)), 1.),\n",
    "                   (                                                   True , 0.) ]\n",
    "\n",
    "hinge180RestFn = fn.branching.conditional(hinge180Spatialconditions)\n",
    "hinge180RestFn*=lowerPlateRestFn #Add next level up in heirarchy\n",
    "\n",
    "\n",
    "#Level 6. crust/interface in hinge of lower plate:\n",
    "\n",
    "interfaceRestFn = uw.swarm.SwarmVariable(gSwarm, dataType='double', count=1)\n",
    "interfaceRestFn.data[:] = 0.\n",
    "interfaceRestFn.data[np.where(materialVariable.data[:] == crustIndex)] = 1.\n",
    "interfaceRestFn *= hinge60RestFn #Add next level up in heirarchy\n"
   ]
  },
  {
   "cell_type": "code",
   "execution_count": 170,
   "metadata": {
    "collapsed": false
   },
   "outputs": [],
   "source": [
    "respltconditions = [ \n",
    "                    (                                  hinge60RestFn*2. > rockRestFn*1., 1.),\n",
    "                    (                                  lowerPlateRestFn*3. > hinge60RestFn*2. , 3.),\n",
    "                    (                                  lithRestFn*5. > lowerPlateRestFn*3. , 4.),\n",
    "                   (                                                   True , 0.) ]\n",
    "\n",
    "respltFn = fn.branching.conditional(respltconditions )"
   ]
  },
  {
   "cell_type": "code",
   "execution_count": 171,
   "metadata": {
    "collapsed": false
   },
   "outputs": [],
   "source": [
    "#figR= glucifer.Figure()\n",
    "#fig.append( glucifer.objects.Points(gSwarm,respltFn))\n",
    "#fig.append( glucifer.objects.Points(gSwarm,lithRestFn))\n",
    "#figR.append( glucifer.objects.Points(gSwarm,lowerPlateRestFn))\n",
    "#fig.append( glucifer.objects.Points(gSwarm,hinge180RestFn))\n",
    "#fig.append( glucifer.objects.Points(gSwarm,interfaceRestFn))\n",
    "#figR.show()\n",
    "#figR.save_database('lptest.gldb')"
   ]
  },
  {
   "cell_type": "code",
   "execution_count": 172,
   "metadata": {
    "collapsed": true
   },
   "outputs": [],
   "source": [
    "###################\n",
    "#Surface Restriction functions\n",
    "###################\n",
    "\n",
    "def platenessFn(val = 0.1):\n",
    "    normgradV = fn.math.abs(velocityField.fn_gradient[0]/fn.math.sqrt(velocityField[0]*velocityField[0])) #[du*/dx]/sqrt(u*u)\n",
    "\n",
    "\n",
    "\n",
    "    srconditions = [ (                                  normgradV < val, 1.),\n",
    "                   (                                                   True , 0.) ]\n",
    "\n",
    "\n",
    "    return fn.branching.conditional(srconditions)\n",
    "\n",
    "srRestFn = platenessFn(val = 0.1)"
   ]
  },
  {
   "cell_type": "code",
   "execution_count": 173,
   "metadata": {
    "collapsed": false
   },
   "outputs": [],
   "source": [
    "###################\n",
    "#Setup any Functions to be integrated\n",
    "###################\n",
    "\n",
    "sqrtv2 = fn.math.sqrt(fn.math.dot(velocityField,velocityField))\n",
    "vx = velocityField[0]\n",
    "v2x = fn.math.dot(velocityField[0],velocityField[0])\n",
    "sqrtv2x = fn.math.sqrt(fn.math.dot(velocityField[0],velocityField[0]))\n",
    "dw = temperatureField*velocityField[1]\n",
    "sinner = fn.math.dot( strainRate_2ndInvariant, strainRate_2ndInvariant )\n",
    "vd = 2.*viscosityMapFn1*sinner\n",
    "dTdZ = temperatureField.fn_gradient[1]\n",
    "\n"
   ]
  },
  {
   "cell_type": "code",
   "execution_count": 174,
   "metadata": {
    "collapsed": false
   },
   "outputs": [],
   "source": [
    "###################\n",
    "#Create integral, max/min templates \n",
    "###################\n",
    "\n",
    "def volumeint(Fn = 1., rFn=globRestFn):\n",
    "    return uw.utils.Integral( Fn*rFn,  mesh )\n",
    "\n",
    "def surfint(Fn = 1., rFn=globRestFn, surfaceIndexSet=mesh.specialSets[\"MaxJ_VertexSet\"]):\n",
    "    return uw.utils.Integral( Fn*rFn, mesh=mesh, integrationType='Surface', surfaceIndexSet=surfaceIndexSet)\n",
    "\n",
    "def maxMin(Fn = 1.):\n",
    "    #maxMin(Fn = 1., rFn=globRestFn\n",
    "    #vuFn = fn.view.min_max(Fn*rFn) #the restriction functions don't work with the view.min_max fn yet\n",
    "    vuFn = fn.view.min_max(Fn)\n",
    "    return vuFn\n",
    "    \n",
    "   \n",
    "    "
   ]
  },
  {
   "cell_type": "code",
   "execution_count": 175,
   "metadata": {
    "collapsed": false
   },
   "outputs": [],
   "source": [
    "#Setup volume integrals on different sub regions\n",
    "\n",
    "##Whole rock domain\n",
    "\n",
    "_areaintRock = volumeint(rockRestFn)\n",
    "_tempintRock = volumeint(temperatureField, rockRestFn)\n",
    "_rmsintRock = volumeint(sqrtv2,rockRestFn)\n",
    "_dwintRock = volumeint(dw,rockRestFn)\n",
    "_vdintRock = volumeint(vd,rockRestFn)\n",
    "\n",
    "##Lith \n",
    "\n",
    "_areaintLith  = volumeint(lithRestFn)\n",
    "_tempintLith  = volumeint(temperatureField, lithRestFn)\n",
    "_rmsintLith  = volumeint(sqrtv2,lithRestFn)\n",
    "_dwintLith  = volumeint(dw,lithRestFn)\n",
    "_vdintLith  = volumeint(vd,lithRestFn)\n",
    "\n",
    "##Lower plate\n",
    "\n",
    "_areaintLower  = volumeint(lowerPlateRestFn)\n",
    "_tempintLower  = volumeint(temperatureField, lowerPlateRestFn)\n",
    "_rmsintLower  = volumeint(sqrtv2,lowerPlateRestFn)\n",
    "_dwintLower = volumeint(dw,lowerPlateRestFn)\n",
    "_vdintLower  = volumeint(vd,lowerPlateRestFn)\n",
    "\n",
    "##Hinge lower plate\n",
    "\n",
    "_areaintHinge180  = volumeint(hinge180RestFn)\n",
    "_vdintHinge180  = volumeint(vd,hinge180RestFn)\n",
    "\n",
    "_areaintHinge60  = volumeint(hinge60RestFn)\n",
    "_vdintHinge60  = volumeint(vd,hinge60RestFn)\n",
    "\n",
    "\n",
    "##Interface\n",
    "\n",
    "_areaintInterface  = volumeint(interfaceRestFn)\n",
    "_vdintInterface = volumeint(vd,interfaceRestFn)"
   ]
  },
  {
   "cell_type": "code",
   "execution_count": 176,
   "metadata": {
    "collapsed": false
   },
   "outputs": [],
   "source": [
    "#Setup surface integrals\n",
    "\n",
    "_surfLength = surfint()\n",
    "_rmsSurf = surfint(v2x)\n",
    "_nuTop = surfint(dTdZ)\n",
    "_nuBottom = surfint(dTdZ, surfaceIndexSet=mesh.specialSets[\"MinJ_VertexSet\"])\n",
    "_plateness = surfint(srRestFn)\n",
    "_pressure = surfint(pressureField)"
   ]
  },
  {
   "cell_type": "code",
   "execution_count": 177,
   "metadata": {
    "collapsed": false
   },
   "outputs": [],
   "source": [
    "#Setup max min fns (at the moment, we can't pass restriction function to view.min_max, so we're limited to whole volume or surface extrema)\n",
    "\n",
    "##Whole rock domain\n",
    "\n",
    "#_maxMinVisc = maxMin(viscosityMapFn1)  #These don't work on swarm variables or mapping functions, yet\n",
    "#dummyFn = _maxMinVisc.evaluate(mesh)\n",
    "#_maxMinStressInv = maxMin(2*viscosityMapFn1*strainRate_2ndInvariant) #These don't work on swarm variables or mapping functions, yet\n",
    "#dummyFn = _maxMinStress.evaluate(mesh)\n",
    "#_maxMinVd = maxMin(vd) #These don't work on swarm variables or mapping functions, yet\n",
    "#dummyFn = _maxMinVd.evaluate(mesh)\n",
    "\n",
    "\n",
    "_maxMinVel = maxMin(velocityField) \n",
    "dummyFn = _maxMinVel.evaluate(mesh)\n",
    "\n",
    "_maxMinSr = maxMin(strainRate_2ndInvariant) \n",
    "dummyFn = _maxMinSr.evaluate(mesh)\n",
    "\n",
    "\n",
    "#Surface extrema\n",
    "_maxMinVxSurf = maxMin(vx)\n",
    "dummyFn = _maxMinVxSurf.evaluate(tWalls)\n"
   ]
  },
  {
   "cell_type": "code",
   "execution_count": 178,
   "metadata": {
    "collapsed": false
   },
   "outputs": [],
   "source": [
    "#Volume Ints\n",
    "areaintRock = _areaintRock.evaluate()[0]\n",
    "tempintRock = _tempintRock.evaluate()[0]\n",
    "rmsintRock = _rmsintRock.evaluate()[0]\n",
    "dwintRock = _dwintRock.evaluate()[0]\n",
    "vdintRock = _vdintRock.evaluate()[0]\n",
    "areaintLith = _areaintLith.evaluate()[0]\n",
    "tempintLith = _tempintLith.evaluate()[0]\n",
    "rmsintLith = _rmsintLith.evaluate()[0]\n",
    "dwintLith = _dwintLith.evaluate()[0]\n",
    "vdintLith = _vdintLith.evaluate()[0]\n",
    "areaintLower = _areaintLower.evaluate()[0]\n",
    "tempintLower = _tempintLower.evaluate()[0]\n",
    "rmsintLower = _rmsintLower.evaluate()[0]\n",
    "dwintLower = _dwintLower.evaluate()[0]\n",
    "vdintLower = _vdintLower.evaluate()[0]\n",
    "vdintHinge180 = _vdintHinge180.evaluate()[0]\n",
    "areaintHinge180 = _areaintHinge180.evaluate()[0]\n",
    "vdintHinge60 = _vdintHinge60.evaluate()[0]\n",
    "areaintHinge60= _areaintHinge60.evaluate()[0]\n",
    "vdintInterface = _vdintInterface.evaluate()[0]\n",
    "areaintInterface= _areaintInterface.evaluate()[0]\n",
    "\n",
    "#Surface Ints\n",
    "surfLength = _surfLength.evaluate()[0]\n",
    "rmsSurf = _rmsSurf.evaluate()[0]\n",
    "nuTop = _nuTop.evaluate()[0]\n",
    "nuBottom = _nuBottom.evaluate()[0]\n",
    "plateness = _plateness.evaluate()[0]\n",
    "pressureSurf = _pressure.evaluate()[0]\n",
    "\n",
    "#Max mins\n",
    "maxVel = _maxMinVel.max_global()\n",
    "minVel = _maxMinVel.min_global() \n",
    "maxSr = _maxMinSr.max_global()\n",
    "minSr = _maxMinSr.min_global()\n",
    "maxVxsurf = _maxMinVxSurf.max_global()\n",
    "minVxsurf = _maxMinVxSurf.min_global()"
   ]
  },
  {
   "cell_type": "markdown",
   "metadata": {
    "collapsed": false
   },
   "source": [
    "print(areaintRock)\n",
    "print(tempintRock)\n",
    "print(rmsintRock)\n",
    "print(dwintRock)\n",
    "print(vdintRock)\n",
    "print(areaintLith)\n",
    "print(tempintLith )\n",
    "print(rmsintLith)\n",
    "print(dwintLith)\n",
    "print(vdintLith)\n",
    "print(areaintLower)\n",
    "print(tempintLower)\n",
    "print(rmsintLower) \n",
    "print(dwintLower)\n",
    "print(vdintLower)\n",
    "print(vdintHinge60)\n",
    "print(vdintHinge180)\n",
    "print(vdintInterface)\n",
    "\n",
    "print(surfLength)\n",
    "print(rmsSurf)\n",
    "print(nuTop)\n",
    "print(nuBottom)\n",
    "print(plateness)\n",
    "\n",
    "\n",
    "print(maxVel)\n",
    "print(minVel)\n",
    "print(maxSr)\n",
    "print(minSr)\n",
    "print(maxVxsurf)\n",
    "print(minVxsurf)"
   ]
  },
  {
   "cell_type": "markdown",
   "metadata": {},
   "source": [
    "Viz.\n",
    "-----"
   ]
  },
  {
   "cell_type": "code",
   "execution_count": 179,
   "metadata": {
    "collapsed": false
   },
   "outputs": [],
   "source": [
    "#Build a depth dependent mask for the vizualisation\n",
    "\n",
    "depthVariable      = gSwarm.add_variable( dataType=\"float\", count=1 )\n",
    "depthVariable.data[:] = depthFn.evaluate(gSwarm)\n",
    "\n",
    "vizVariable      = gSwarm.add_variable( dataType=\"int\", count=1 )\n",
    "vizVariable.data[:] = 0\n",
    "\n",
    "for index, value in enumerate(depthVariable.data[:]):\n",
    "    #print index, value\n",
    "    if np.random.rand(1)**5 > value/(MAXY - MINY):\n",
    "        vizVariable.data[index] = 1\n",
    "        \n",
    "del index, value    #get rid of any variables that might be pointing at the .data handles (these are!)"
   ]
  },
  {
   "cell_type": "code",
   "execution_count": 180,
   "metadata": {
    "collapsed": false
   },
   "outputs": [],
   "source": [
    "if figures == 'gldb':\n",
    "    #Pack some stuff into a database as well\n",
    "    figDb = glucifer.Figure()\n",
    "    #figDb.append( glucifer.objects.Points(swarmPlateBoundary, pointSize=4))\n",
    "    #figDb.append( glucifer.objects.Mesh(mesh))\n",
    "    #figDb.append( glucifer.objects.VectorArrows(mesh,velocityField, scaling=0.0005))\n",
    "    #figDb.append( glucifer.objects.Points(gSwarm,tracerVariable, colours= 'white black'))\n",
    "    figDb.append( glucifer.objects.Points(gSwarm,materialVariable))\n",
    "    \n",
    "    #figDb.append( glucifer.objects.Points(gSwarm,viscMinVariable))\n",
    "    figDb.append( glucifer.objects.Points(gSwarm, ageVariable))\n",
    "    #figDb.append( glucifer.objects.Points(gSwarm, viscosityMapFn1, logScale=True))\n",
    "    #figDb.append( glucifer.objects.Points(gSwarm, strainRate_2ndInvariant, logScale=True))\n",
    "    #figDb.append( glucifer.objects.Points(gSwarm,temperatureField))\n",
    "    #figDb.append( glucifer.objects.Points(gSwarm,pressureField))\n",
    "    figDb.append( glucifer.objects.Points(fault.swarm, pointSize=3))\n",
    "    \n",
    "    \n",
    "    #figRestrict= glucifer.Figure()\n",
    "    #figRestrict.append( glucifer.objects.Points(gSwarm,respltFn))\n",
    "    #figRestrict.append( glucifer.objects.Points(gSwarm,lithRestFn))\n",
    "    #figRestrict.append( glucifer.objects.Points(gSwarm,lowerPlateRestFn))\n",
    "    #figRestrict.append( glucifer.objects.Points(gSwarm,hinge180RestFn))\n",
    "    #figRestrict.append( glucifer.objects.Points(gSwarm,interfaceRestFn))\n",
    "    #figRestrict.append( glucifer.objects.Points(interfaces[0].swarm, colours=\"Blue Blue\", pointSize=2.0, colourBar=False) )\n",
    "    #figRestrict.append( glucifer.objects.Points(interfaces[1].swarm, colours=\"Red Red\", pointSize=2.0, colourBar=False) )\n",
    "    #figRestrict.append( glucifer.objects.Points(slab_seg.swarm, colours=\"Black Black\", pointSize=2.0, colourBar=False) )\n",
    "\n",
    "elif figures == 'store':\n",
    "    fullpath = os.path.join(outputPath + \"gldbs/\")\n",
    "    store1 = glucifer.Store(fullpath + 'subduction1.gldb')\n",
    "    store2 = glucifer.Store(fullpath + 'subduction2.gldb')\n",
    "    store3 = glucifer.Store(fullpath + 'subduction3.gldb')\n",
    "\n",
    "\n",
    "    figTemp = glucifer.Figure(store1,figsize=(300*np.round(md.aspectRatio,2),300))\n",
    "    figTemp.append( glucifer.objects.Points(gSwarm,temperatureField, fn_mask=vizVariable))\n",
    "\n",
    "    figVisc= glucifer.Figure(store2, figsize=(300*np.round(md.aspectRatio,2),300))\n",
    "    figVisc.append( glucifer.objects.Points(gSwarm,viscosityMapFn1, logScale=True, valueRange =[1.,1e5], fn_mask=vizVariable))\n",
    "\n",
    "\n",
    "    figMat= glucifer.Figure(store3, figsize=(300*np.round(md.aspectRatio,2),300))\n",
    "    figMat.append( glucifer.objects.Points(gSwarm,materialVariable, fn_mask=vizVariable))\n",
    "    figMat.append( glucifer.objects.Points(gSwarm,ageVariable, fn_mask=vizVariable))\n",
    "    figMat.append( glucifer.objects.Points(fault.swarm, pointSize=3))\n",
    "    figMat.append( glucifer.objects.Points(swarmPlateBoundary, pointSize=4))"
   ]
  },
  {
   "cell_type": "markdown",
   "metadata": {},
   "source": [
    "**Miscellania**"
   ]
  },
  {
   "cell_type": "code",
   "execution_count": 181,
   "metadata": {
    "collapsed": false
   },
   "outputs": [
    {
     "name": "stderr",
     "output_type": "stream",
     "text": [
      "/usr/local/lib/python2.7/dist-packages/numpy/core/numeric.py:190: VisibleDeprecationWarning: using a non-integer number instead of an integer will result in an error in the future\n",
      "  a = empty(shape, dtype, order)\n"
     ]
    }
   ],
   "source": [
    "##############\n",
    "#Create a numpy array at the surface to get surface information on (using parallel-friendly evaluate_global)\n",
    "##############\n",
    "\n",
    "surface_xs = np.linspace(mesh.minCoord[0], mesh.maxCoord[0], mesh.elementRes[0] + 1)\n",
    "surface_nodes = np.array(zip(surface_xs, np.ones(len(surface_xs)*mesh.maxCoord[1]))) #For evaluation surface velocity\n",
    "normgradV = velocityField.fn_gradient[0]/fn.math.sqrt(velocityField[0]*velocityField[0])\n",
    "\n",
    "tempMM = fn.view.min_max(temperatureField)\n",
    "dummy = tempMM.evaluate(mesh)\n",
    "\n"
   ]
  },
  {
   "cell_type": "code",
   "execution_count": null,
   "metadata": {
    "collapsed": true
   },
   "outputs": [],
   "source": []
  },
  {
   "cell_type": "code",
   "execution_count": 182,
   "metadata": {
    "collapsed": false
   },
   "outputs": [],
   "source": [
    "##############\n",
    "#These functions handle checkpointing\n",
    "##############\n",
    "\n",
    "\n",
    "#Subzone = ndp.subzone\n",
    "\n",
    "\n",
    "def checkpoint1(step, checkpointPath,filename, filewrites):\n",
    "    path = checkpointPath + str(step) \n",
    "    os.mkdir(path)\n",
    "    ##Write and save the file, if not already a writing step\n",
    "    if not step % filewrites == 0:\n",
    "        f_o.write((30*'%-15s ' + '\\n') % (areaintRock, tempintRock, rmsintRock, dwintRock, vdintRock,\n",
    "                                  areaintLith, tempintLith,rmsintLith, dwintLith, vdintLith,\n",
    "                                  areaintLower, tempintLower, rmsintLower, dwintLower, vdintLower, \n",
    "                                  areaintHinge180,vdintHinge180, areaintHinge60, vdintHinge60, \n",
    "                                  areaintInterface, vdintInterface, vdintInterface,\n",
    "                                  rmsSurf, nuTop, nuBottom, plateness, ndp.subzone,ndp.lRidge, ndp.rRidge, realtime))\n",
    "    filename.close()\n",
    "    shutil.copyfile(os.path.join(outputPath, outputFile), os.path.join(path, outputFile))\n",
    "\n",
    "\n",
    "def checkpoint2(step, checkpointPath, swarm, filename, varlist = [materialVariable], varnames = ['materialVariable']):\n",
    "    path = checkpointPath + str(step) \n",
    "    velfile = \"velocityField\" + \".hdf5\"\n",
    "    tempfile = \"temperatureField\" + \".hdf5\"\n",
    "    pressfile = \"pressureField\" + \".hdf5\"\n",
    "    velocityField.save(os.path.join(path, velfile))\n",
    "    temperatureField.save(os.path.join(path, tempfile))\n",
    "    pressureField.save(os.path.join(path, pressfile))\n",
    "    swarm.save(os.path.join(path, \"swarm.h5\") ) \n",
    "    for ix in range(len(varlist)):\n",
    "        varb = varlist[ix]\n",
    "        varb.save(os.path.join(path,varnames[ix] + \".h5\"))\n",
    "    \n",
    "    #Save the parameters\n",
    "    dict_list = [dp, sf, ndp, md] #if any of the dictionaries have changed, this list needs to be rebuilt\n",
    "    save_pickles(dict_list, dict_names, path)\n",
    "    \n",
    "#Simple Checkpoint function for the faults / interfaces (markerLine2D)\n",
    "def checkpoint3(step,  checkpointPath, interfaces,interfacenames ):\n",
    "    path = checkpointPath + str(step)\n",
    "    for ix in range(len(interfaces)):\n",
    "        intf = interfaces[ix]\n",
    "        intf.swarm.save(os.path.join(path,interfacenames[ix] + \".h5\"))\n",
    "    \n",
    "    "
   ]
  },
  {
   "cell_type": "code",
   "execution_count": 183,
   "metadata": {
    "collapsed": false
   },
   "outputs": [],
   "source": [
    "def plate_infoFn(velocityField,xFn,  depthLimit, xsearchlim = 1.0, currentloc = 0.0, plateType='convergent'):\n",
    "    \"\"\"\n",
    "    This functions is used to track the plate boundaries in 2D.\n",
    "    It returns the x value of the max / min of the x velocity gradient.\n",
    "    \n",
    "    \"\"\"\n",
    "    \n",
    "    #Restriction fucntion \n",
    "    restictionFn = fn.branching.conditional([(operator.and_(fn.math.abs(xFn - currentloc) < xsearchlim, depthFn < depthLimit) , 1.),                                       \n",
    "                                             (True, 0.0)])\n",
    "    \n",
    "    #Normalised surface vel gradient\n",
    "    normgradV = velocityField.fn_gradient[0]/fn.math.sqrt(velocityField[0]*velocityField[0])\n",
    "\n",
    "    \n",
    "    plateFn0 = normgradV*restictionFn\n",
    "    \n",
    "    plateFn = fn.branching.conditional([(plateFn0 > 1e20, 0.),             #This attempts to fix inf values that appear at sidewalls                          \n",
    "                                             (True, plateFn0)])\n",
    "    \n",
    "    extremFn = fn.view.min_max(plateFn)\n",
    "    dummy = extremFn.evaluate(mesh)\n",
    "    \n",
    "    \n",
    "    print(extremFn.min_global(), extremFn.max_global())\n",
    "\n",
    "    #get global max\n",
    "    if plateType == 'convergent':   \n",
    "        testFn = fn.branching.conditional([(extremFn < extremFn.min_global() + 1e-10, coordinate[0]),                                       \n",
    "                                             (True, (-9999999.))])\n",
    "        extremFn2 = fn.view.min_max(testFn)\n",
    "        dummy2 = extremFn2.evaluate(mesh)\n",
    "        return extremFn2.max_global()\n",
    "    elif plateType == 'divergent':\n",
    "        testFn = fn.branching.conditional([(extremFn > extremFn.max_global() - 1e-3, coordinate[0]),                                       \n",
    "                                             (True, (-9999999.))])\n",
    "        extremFn2 = fn.view.min_max(testFn)\n",
    "        dummy2 = extremFn2.evaluate(mesh)\n",
    "        return extremFn2.max_global()\n",
    "    else:\n",
    "        raise ValueError('plateType should be one of convergent/divergent')"
   ]
  },
  {
   "cell_type": "code",
   "execution_count": 59,
   "metadata": {
    "collapsed": true
   },
   "outputs": [],
   "source": [
    "from scipy.spatial import cKDTree as kdTree\n",
    "\n",
    "def nn_evaluation(fromSwarm, toSwarm, n=1, weighted=False):\n",
    "    \"\"\"\n",
    "    This function provides nearest neighbour information for uw swarms, \n",
    "    given the \"toSwarm\", this function returns the indices of the n nearest neighbours in \"fromSwarm\"\n",
    "    it also returns the inverse-distance if weighted=True. \n",
    "    \n",
    "    The function works in parallel.\n",
    "    \n",
    "    The arrays come out a bit differently when used in nearest neighbour form\n",
    "    (n = 1), or IDW: (n > 1). The examples belowe show how to fill out a swarm variable in each case. \n",
    "    \n",
    "    \n",
    "    Usage n = 1:\n",
    "    ------------\n",
    "    ix, weights = nn_evaluation(swarm, fault.swarm, n=n, weighted=False)\n",
    "    toSwarmVar.data[:][:,0] =  fromSwarmVar.evaluate(fromSwarm)[_ix][:,0]\n",
    "    \n",
    "    Usage n > 1:\n",
    "    ------------\n",
    "    ix, weights = nn_evaluation(swarm, fault.swarm, n=n, weighted=False)\n",
    "    toSwarmVar.data[:][:,0] =  np.average(fromSwarmVar.evaluate(fromSwarm)[ix][:,:,0], weights=weights, axis=1)\n",
    "    \n",
    "    \"\"\"\n",
    "    \n",
    "    #print(\"fromSwarm data shape\", fromSwarm.particleCoordinates.data.shape)\n",
    "    \n",
    "    if len(toSwarm.particleCoordinates.data) > 0: #this is required for safety in parallel\n",
    "        \n",
    "        #we rebuild the tree as we assume the fromSwarm is being advected\n",
    "        fromSwarm.tree = kdTree(fromSwarm.particleCoordinates.data) \n",
    "        tree = fromSwarm.tree\n",
    "        d, ix = tree.query(toSwarm.particleCoordinates.data, n)\n",
    "        if n == 1:\n",
    "            weights = np.ones(toSwarm.particleCoordinates.data.shape[0])\n",
    "        elif not weighted:\n",
    "            weights = np.ones((toSwarm.particleCoordinates.data.shape[0], n))*(1./n)\n",
    "        else:\n",
    "            weights = (1./d[:])/(1./d[:]).sum(axis=1)[:,None]\n",
    "        return ix,  weights \n",
    "    else:\n",
    "        return  np.empty(0., dtype=\"int\"),  np.empty(0., dtype=\"int\")"
   ]
  },
  {
   "cell_type": "code",
   "execution_count": 185,
   "metadata": {
    "collapsed": false
   },
   "outputs": [],
   "source": [
    "# initialise timer for computation\n",
    "start = time.clock()\n"
   ]
  },
  {
   "cell_type": "markdown",
   "metadata": {},
   "source": [
    "Main simulation loop\n",
    "-----\n"
   ]
  },
  {
   "cell_type": "code",
   "execution_count": 188,
   "metadata": {
    "collapsed": false
   },
   "outputs": [
    {
     "name": "stdout",
     "output_type": "stream",
     "text": [
      "(-2292.8644431135936, 151.8684394687717)\n",
      "(-0.2598530090152354, 878.4160152950503)\n",
      "(-0.0, 281.70903074346046)\n"
     ]
    },
    {
     "ename": "KeyboardInterrupt",
     "evalue": "",
     "output_type": "error",
     "traceback": [
      "\u001b[1;31m\u001b[0m",
      "\u001b[1;31mKeyboardInterrupt\u001b[0mTraceback (most recent call last)",
      "\u001b[1;32m<ipython-input-188-672a85ba6342>\u001b[0m in \u001b[0;36m<module>\u001b[1;34m()\u001b[0m\n\u001b[0;32m      3\u001b[0m \u001b[1;33m\u001b[0m\u001b[0m\n\u001b[0;32m      4\u001b[0m     \u001b[1;31m# solve Stokes and advection systems\u001b[0m\u001b[1;33m\u001b[0m\u001b[1;33m\u001b[0m\u001b[0m\n\u001b[1;32m----> 5\u001b[1;33m     \u001b[0msolver\u001b[0m\u001b[1;33m.\u001b[0m\u001b[0msolve\u001b[0m\u001b[1;33m(\u001b[0m\u001b[0mnonLinearIterate\u001b[0m\u001b[1;33m=\u001b[0m\u001b[0mTrue\u001b[0m\u001b[1;33m)\u001b[0m\u001b[1;33m\u001b[0m\u001b[0m\n\u001b[0m\u001b[0;32m      6\u001b[0m \u001b[1;33m\u001b[0m\u001b[0m\n\u001b[0;32m      7\u001b[0m     \u001b[1;31m#remove drift /null space in pressure\u001b[0m\u001b[1;33m\u001b[0m\u001b[1;33m\u001b[0m\u001b[0m\n",
      "\u001b[1;32m/root/underworld2/underworld/systems/_bsscr.pyc\u001b[0m in \u001b[0;36msolve\u001b[1;34m(self, nonLinearIterate, nonLinearTolerance, nonLinearKillNonConvergent, nonLinearMaxIterations, print_stats, reinitialise, **kwargs)\u001b[0m\n\u001b[0;32m    379\u001b[0m         \u001b[1;31m# solve\u001b[0m\u001b[1;33m\u001b[0m\u001b[1;33m\u001b[0m\u001b[0m\n\u001b[0;32m    380\u001b[0m         \u001b[1;32mif\u001b[0m \u001b[0mnonLinear\u001b[0m \u001b[1;32mand\u001b[0m \u001b[0mnonLinearIterate\u001b[0m\u001b[1;33m:\u001b[0m\u001b[1;33m\u001b[0m\u001b[0m\n\u001b[1;32m--> 381\u001b[1;33m             \u001b[0mlibUnderworld\u001b[0m\u001b[1;33m.\u001b[0m\u001b[0mStgFEM\u001b[0m\u001b[1;33m.\u001b[0m\u001b[0mSystemLinearEquations_NonLinearExecute\u001b[0m\u001b[1;33m(\u001b[0m\u001b[0mself\u001b[0m\u001b[1;33m.\u001b[0m\u001b[0m_stokesSLE\u001b[0m\u001b[1;33m.\u001b[0m\u001b[0m_cself\u001b[0m\u001b[1;33m,\u001b[0m \u001b[0mNone\u001b[0m\u001b[1;33m)\u001b[0m\u001b[1;33m\u001b[0m\u001b[0m\n\u001b[0m\u001b[0;32m    382\u001b[0m         \u001b[1;32melse\u001b[0m\u001b[1;33m:\u001b[0m\u001b[1;33m\u001b[0m\u001b[0m\n\u001b[0;32m    383\u001b[0m             \u001b[0mlibUnderworld\u001b[0m\u001b[1;33m.\u001b[0m\u001b[0mStgFEM\u001b[0m\u001b[1;33m.\u001b[0m\u001b[0mSystemLinearEquations_ExecuteSolver\u001b[0m\u001b[1;33m(\u001b[0m\u001b[0mself\u001b[0m\u001b[1;33m.\u001b[0m\u001b[0m_stokesSLE\u001b[0m\u001b[1;33m.\u001b[0m\u001b[0m_cself\u001b[0m\u001b[1;33m,\u001b[0m \u001b[0mNone\u001b[0m\u001b[1;33m)\u001b[0m\u001b[1;33m\u001b[0m\u001b[0m\n",
      "\u001b[1;31mKeyboardInterrupt\u001b[0m: "
     ]
    }
   ],
   "source": [
    "#while step < 6:\n",
    "while realtime < 0.00004:\n",
    "\n",
    "    # solve Stokes and advection systems\n",
    "    solver.solve(nonLinearIterate=True)\n",
    "    \n",
    "    #remove drift /null space in pressure\n",
    "    pressureField.data[:] -= pressureSurf/surfLength\n",
    "    \n",
    "    \n",
    "    dt = advDiff.get_max_dt()\n",
    "    if step == 0:\n",
    "        dt = 0.\n",
    "    advDiff.integrate(dt)\n",
    "    passiveadvector.integrate(dt)\n",
    "    #advect any interfaces\n",
    "    fault.advection(dt)\n",
    "    \n",
    "    \n",
    "    \n",
    "    # Increment\n",
    "    realtime += dt\n",
    "    step += 1\n",
    "    timevals.append(realtime)\n",
    "    ################\n",
    "    #Update temperature field in the air region\n",
    "    #Do this better...\n",
    "    ################\n",
    "    if (step % sticky_air_temp == 0):\n",
    "        for index, coord in enumerate(mesh.data):\n",
    "            if coord[1] >= 1.:\n",
    "                temperatureField.data[index] = ndp.TSP\n",
    "                \n",
    "    ################\n",
    "    #Files output\n",
    "    ################ \n",
    "    if (step % files_output == 0):\n",
    "        \n",
    "        gSwarm.update_particle_owners()\n",
    "        \n",
    "        #Save the fault swarm\n",
    "        fnametemp1 = \"faultSwarm\" + \"_\" + str(step)\n",
    "        fullpath1 = os.path.join(outputPath + \"files/\" + fnametemp1)\n",
    "        fault.swarm.save(fullpath1)\n",
    "        \n",
    "        #build a metric swarm and save values\n",
    "        #Copy the fault and jitter, this is the swarm we'll capture inteface details on \n",
    "\n",
    "        metricSwarm  = copy_markerLine2D(fault)\n",
    "        \n",
    "        #translate the metric swarm into desired location\n",
    "        ds = ndp.MANTLETOCRUST/2.\n",
    "        with metricSwarm.swarm.deform_swarm():\n",
    "            metricSwarm.swarm.particleCoordinates.data[...] -= metricSwarm.director.data[...]*ds\n",
    "            \n",
    "        \n",
    "        gSwarm.update_particle_owners()\n",
    "        metricSwarm.swarm.update_particle_owners()\n",
    "         \n",
    "        comm.barrier()\n",
    "        #build the arrays for nearest neighbour evaluation on the metric swarm\n",
    "        _ix, _weights = nn_evaluation(gSwarm, metricSwarm.swarm, n=5, weighted=True)\n",
    "        #_ix, _weights = nn_evaluation(gSwarm, metricSwarm.swarm, n=1, weighted=False)\n",
    "        \n",
    "        \n",
    "        \n",
    "        #set up some swarm variables\n",
    "        interfaceSinv = metricSwarm.swarm.add_variable( dataType=\"float\", count=1 )\n",
    "        if len(metricSwarm.swarm.particleCoordinates.data) > 0:\n",
    "            interfaceSinv.data[:] = strainRate_2ndInvariant.evaluate(metricSwarm.swarm)\n",
    "        \n",
    "        interfaceVisc = metricSwarm.swarm.add_variable( dataType=\"float\", count=1 )\n",
    "        if len(metricSwarm.swarm.particleCoordinates.data) > 0:\n",
    "            interfaceVisc.data[:][:,0] = np.average(viscosityMapFn1.evaluate(gSwarm)[_ix][:,:,0], weights=_weights, axis=1)\n",
    "\n",
    "    \n",
    "        interfaceStress = metricSwarm.swarm.add_variable( dataType=\"float\", count=1 )\n",
    "        if len(metricSwarm.swarm.particleCoordinates.data) > 0:\n",
    "            interfaceStress.data[:][:,0] = np.average(swarmStressFn.evaluate(gSwarm)[_ix][:,:,0], weights=_weights, axis=1)\n",
    "\n",
    "        \n",
    "        uw.barrier()\n",
    "        #Save metric swarm and swarm vars. \n",
    "        fnametemp = \"metricSwarm\" + \"_\" + str(step) + '.h5'\n",
    "        fullpath = os.path.join(outputPath + \"files/\" + fnametemp)\n",
    "        metricSwarm.swarm.save(fullpath)\n",
    "        #\n",
    "        uw.barrier()\n",
    "        fnametemp = \"interfaceSinv\" + \"_\" + str(step)+ '.h5'\n",
    "        fullpath = os.path.join(outputPath + \"files/\" + fnametemp)\n",
    "        interfaceSinv.save(fullpath)\n",
    "        #\n",
    "        uw.barrier()\n",
    "        fnametemp = \"interfaceVisc\" + \"_\" + str(step) + '.h5'\n",
    "        fullpath = os.path.join(outputPath + \"files/\" + fnametemp)\n",
    "        interfaceVisc.save(fullpath)\n",
    "        #\n",
    "        uw.barrier()\n",
    "        fnametemp = \"interfaceStress\" + \"_\" + str(step) + '.h5'\n",
    "        fullpath = os.path.join(outputPath + \"files/\" + fnametemp)\n",
    "        interfaceStress.save(fullpath)\n",
    "        \n",
    "        \n",
    "        del metricSwarm, interfaceSinv, interfaceVisc,interfaceStress, _ix, _weights #now delete them\n",
    "\n",
    "    ################\n",
    "    #Fault / interface repair\n",
    "    ################    \n",
    "    #Any functions to do with repairing the interfaces should go here\n",
    "    \n",
    "                \n",
    "    ################\n",
    "    #Update the subduction zone / plate information\n",
    "    ################ \n",
    "    \n",
    "    comm.barrier()\n",
    "    if (step % files_output == 0):\n",
    "        \n",
    "\n",
    "        ndp.subzone = plate_infoFn(velocityField,xFn,  20e3/dp.LS, xsearchlim = 200e3/dp.LS, currentloc = ndp.subzone, plateType='convergent')\n",
    "        ndp.lRidge = plate_infoFn(velocityField,xFn,  20e3/dp.LS, xsearchlim = 200e3/dp.LS, currentloc = ndp.lRidge, plateType='divergent')\n",
    "        ndp.rRidge = plate_infoFn(velocityField,xFn,  20e3/dp.LS, xsearchlim = 200e3/dp.LS, currentloc = ndp.rRidge, plateType='divergent')\n",
    "\n",
    "                \n",
    "    ################\n",
    "    # Calculate the Metrics\n",
    "    ################\n",
    "    if (step % metric_output == 0):\n",
    "        ###############\n",
    "        #Rebuild the restriction functions where necessary\n",
    "        ###############\n",
    "        \n",
    "        #Lithosphere - mantle:\n",
    "        tempMM = fn.view.min_max(temperatureField)\n",
    "        tempMM.evaluate(mesh)\n",
    "        TMAX = tempMM.max_global()\n",
    "        mantleconditions = [ (                                  operator.and_(temperatureField < 0.9*TMAX, operator.and_(xFn> ndp.lRidge,xFn< ndp.rRidge )), 1.),\n",
    "                   (                                                   True , 0.) ]\n",
    "        lithRestFn = fn.branching.conditional(mantleconditions)\n",
    "        lithRestFn*=rockRestFn #Add next level up in heirarchy\n",
    "        \n",
    "        #Lower plate\n",
    "        \n",
    "        lowerPlateRestFn = gSwarm.add_variable( dataType=\"double\", count=1 ) #weirdly we have to rebuild this one...\n",
    "        lowerPlateRestFn.data[:] = 0.0\n",
    "        sd, pts0 = fault.compute_signed_distance(gSwarm.particleCoordinates.data, distance=w0)\n",
    "        sp, pts0 = fault.compute_marker_proximity(gSwarm.particleCoordinates.data, distance=w0)\n",
    "        lowerPlateRestFn.data[np.logical_and(sd>0,sp == fault.ID)] = sp[np.logical_and(sd>0,sp == fault.ID)]\n",
    "        lowerPlateRestFn *= lithRestFn #Add next level up in heirarchy\n",
    "        \n",
    "        #Hinge\n",
    "        \n",
    "        hinge60Spatialconditions = [ (           operator.and_( (depthFn < MAXY - (60e3/dp.LS)),  (xFn > ndp.subzone - 60e3/dp.LS)), 1.),\n",
    "                   (                                                   True , 0.) ]\n",
    "        hinge60RestFn = fn.branching.conditional(hinge60Spatialconditions)\n",
    "        hinge60RestFn*=lowerPlateRestFn #Add next level up in hierarchy\n",
    "\n",
    "\n",
    "\n",
    "        hinge180Spatialconditions = [ (           operator.and_( (depthFn < MAXY - (180e3/dp.LS)),  (xFn > ndp.subzone - 180e3/dp.LS)), 1.),\n",
    "                           (                                                   True , 0.) ]\n",
    "        hinge180RestFn = fn.branching.conditional(hinge180Spatialconditions)\n",
    "        hinge180RestFn*=lowerPlateRestFn #Add next level up in hierarchy\n",
    "        \n",
    "        ###############\n",
    "        #Metrics\n",
    "        ###############\n",
    "        areaintRock = _areaintRock.evaluate()[0] #trivial except when using sticky air\n",
    "        tempintRock = _tempintRock.evaluate()[0]\n",
    "        rmsintRock = _rmsintRock.evaluate()[0]\n",
    "        dwintRock = _dwintRock.evaluate()[0]\n",
    "        vdintRock = _vdintRock.evaluate()[0]\n",
    "        areaintLith = _areaintLith.evaluate()[0]\n",
    "        tempintLith = _tempintLith.evaluate()[0]\n",
    "        rmsintLith = _rmsintLith.evaluate()[0]\n",
    "        dwintLith = _dwintLith.evaluate()[0]\n",
    "        vdintLith = _vdintLith.evaluate()[0]\n",
    "        areaintLower = _areaintLower.evaluate()[0]\n",
    "        tempintLower = _tempintLower.evaluate()[0]\n",
    "        rmsintLower = _rmsintLower.evaluate()[0]\n",
    "        dwintLower = _dwintLower.evaluate()[0]\n",
    "        vdintLower = _vdintLower.evaluate()[0]\n",
    "        vdintHinge180 = _vdintHinge180.evaluate()[0]\n",
    "        areaintHinge180 = _areaintHinge180.evaluate()[0]\n",
    "        vdintHinge60 = _vdintHinge60.evaluate()[0]\n",
    "        areaintHinge60= _areaintHinge60.evaluate()[0]\n",
    "        vdintInterface = _vdintInterface.evaluate()[0]\n",
    "        areaintInterface= _areaintInterface.evaluate()[0]\n",
    "        #Surface integrals\n",
    "        rmsSurf = _rmsSurf.evaluate()[0]\n",
    "        nuTop = _nuTop.evaluate()[0]\n",
    "        nuBottom = _nuBottom.evaluate()[0]\n",
    "        plateness = _plateness.evaluate()[0]\n",
    "        #extrema\n",
    "        maxVel = _maxMinVel.max_global()\n",
    "        minVel = _maxMinVel.min_global() \n",
    "        maxSr = _maxMinSr.max_global()\n",
    "        minSr = _maxMinSr.min_global()\n",
    "        maxVxsurf = _maxMinVxSurf.max_global()\n",
    "        minVxsurf = _maxMinVxSurf.min_global()\n",
    "        # output to summary text file\n",
    "        if uw.rank()==0:\n",
    "            f_o.write((30*'%-15s ' + '\\n') % (areaintRock, tempintRock, rmsintRock, dwintRock, vdintRock,\n",
    "                                  areaintLith, tempintLith,rmsintLith, dwintLith, vdintLith,\n",
    "                                  areaintLower, tempintLower, rmsintLower, dwintLower, vdintLower, \n",
    "                                  areaintHinge180,vdintHinge180, areaintHinge60, vdintHinge60, \n",
    "                                  areaintInterface, vdintInterface, vdintInterface,\n",
    "                                  rmsSurf, nuTop, nuBottom, plateness, ndp.subzone,ndp.lRidge, ndp.rRidge, realtime))\n",
    "    ################\n",
    "    #Also repopulate entire swarm periodically\n",
    "    ################\n",
    "    #if step % swarm_repop == 0:\n",
    "    population_control.repopulate()   \n",
    "    ################\n",
    "    #Gldb output\n",
    "    ################ \n",
    "    if (step % gldbs_output == 0): \n",
    "        \n",
    "        #ReBuild the depth dependent mask for the vizualisation\n",
    "        depthVariable      = gSwarm.add_variable( dataType=\"float\", count=1 )\n",
    "        depthVariable.data[:] = depthFn.evaluate(gSwarm)\n",
    "        vizVariable      = gSwarm.add_variable( dataType=\"int\", count=1 )\n",
    "        vizVariable.data[:] = 0\n",
    "        for index, value in enumerate(depthVariable.data[:]):\n",
    "            #print index, value\n",
    "            if np.random.rand(1)**5 > value/(MAXY - MINY):\n",
    "                vizVariable.data[index] = 1\n",
    "        del index, value    #get rid of any variables that might be pointing at the .data handles (these are!)\n",
    "        \n",
    "        \n",
    "        \n",
    "        if figures == 'gldb':\n",
    "            \n",
    "            \n",
    "            #Remember to rebuild any necessary swarm variables\n",
    "            fnamedb = \"dbFig\" + \"_\" + str(step) + \".gldb\"\n",
    "            fullpath = os.path.join(outputPath + \"gldbs/\" + fnamedb)\n",
    "            figDb.save_database(fullpath)\n",
    "\n",
    "            \n",
    "            \n",
    "            \n",
    "        elif figures == 'store':      \n",
    "            fullpath = os.path.join(outputPath + \"gldbs/\")\n",
    "            store1.step = step\n",
    "            store2.step = step\n",
    "            store3.step = step\n",
    "            #Save figures to store\n",
    "            figVisc.save( fullpath + \"Visc\" + str(step).zfill(4))\n",
    "            #figMech.save( fullPath + \"Mech\" + str(step).zfill(4))\n",
    "            figTemp.save( fullpath + \"Temp\"    + str(step).zfill(4))\n",
    "            figMat.save( fullpath + \"Mat\"    + str(step).zfill(4))\n",
    "\n",
    "        \n",
    "\n",
    "        \n",
    "\n",
    "    ################\n",
    "    #Particle update\n",
    "    ###############    \n",
    "    #ageVariable.data[:] += dt #increment the ages (is this efficient?)\n",
    "    ageDT += dt\n",
    "    \n",
    "    if step % swarm_update == 0:\n",
    "        \n",
    "        #Increment age stuff. \n",
    "        ageConditions = [ (depthFn < ndp.AGETRACKDEPTH, ageVariable + ageDT ),  #add ageDThere\n",
    "                  (True, 0.) ]\n",
    "        ageVariable.data[:] = fn.branching.conditional( ageConditions ).evaluate(gSwarm)        \n",
    "        ageDT = 0. #reset the age incrementer\n",
    "        \n",
    "        \n",
    "        #This is hardcoded to assume subduction is towards the right\n",
    "        tempop = operator.lt\n",
    "\n",
    "        #Update the relevant parts of the material graph\n",
    "        #Remove and rebuild edges related to crust\n",
    "        DG.remove_edges_from([(mantleIndex,crustIndex)])\n",
    "        DG.add_edges_from([(mantleIndex,crustIndex)])\n",
    "        DG.remove_edges_from([(harzIndex,crustIndex)])\n",
    "        DG.add_edges_from([(harzIndex,crustIndex)])\n",
    "\n",
    "        #... to crust\n",
    "        DG.add_transition((mantleIndex,crustIndex), depthFn, operator.lt, ndp.MANTLETOCRUST)\n",
    "        DG.add_transition((mantleIndex,crustIndex), xFn, operator.lt, 0.5*ndp.lRidge) #No crust on the upper plate\n",
    "        DG.add_transition((mantleIndex,crustIndex), ageVariable, operator.gt, crustageCond)\n",
    "\n",
    "        DG.add_transition((harzIndex,crustIndex), depthFn, operator.lt, ndp.MANTLETOCRUST)\n",
    "        DG.add_transition((harzIndex,crustIndex), xFn, tempop, 0.5*ndp.lRidge) #This one sets no crust on the upper plate\n",
    "        DG.add_transition((harzIndex,crustIndex), ageVariable, operator.gt, crustageCond)\n",
    "        \n",
    "        comm.barrier()\n",
    "        \n",
    "\n",
    "        \n",
    "    \n",
    "        \n",
    "        \n",
    "        \n",
    "        \n",
    "        #Apply any materialVariable changes\n",
    "        for i in range(2): #go through twice\n",
    "            materialVariable.data[:] = fn.branching.conditional(DG.condition_list).evaluate(gSwarm)\n",
    "        \n",
    "        #Also update any information related to faults / interfaces:\n",
    "\n",
    "        sd, pts0 = fault.compute_signed_distance(gSwarm.particleCoordinates.data, distance=w0)\n",
    "        sp, pts0 = fault.compute_marker_proximity(gSwarm.particleCoordinates.data)\n",
    "\n",
    "        proximityVariable.data[np.logical_and(sd<0,sp == fault.ID)] = sp[np.logical_and(sd<0,sp == fault.ID)]\n",
    "\n",
    "        dv, nzv = fault.compute_normals(gSwarm.particleCoordinates.data)\n",
    "        directorVector.data[nzv] = dv[nzv]\n",
    "\n",
    "        proximityVariable.data[gSwarm.particleCoordinates.data[:,1]  < (1. - ndp.CRUSTVISCUTOFF)] = 0.\n",
    "        \n",
    "        #And add extra particles to interfaces as necessary\n",
    "        #subduction fault\n",
    "        introPoint = ndp.subzone - abs(ndp.subzone - ndp.lRidge)/2. #half way between ridge and Sz\n",
    "        fault.add_points([introPoint],[MAXY - faultthickness])\n",
    "        \n",
    "    ################\n",
    "    #Checkpoint\n",
    "    ################\n",
    "    if step % checkpoint_every == 0:\n",
    "        if uw.rank() == 0:\n",
    "            checkpoint1(step, checkpointPath,f_o, metric_output)           \n",
    "        checkpoint2(step, checkpointPath, gSwarm, f_o, varlist = varlist, varnames = varnames)\n",
    "        checkpoint3(step,  checkpointPath, interfaces,interfacenames )\n",
    "        f_o = open(os.path.join(outputPath, outputFile), 'a') #is this line supposed to be here?\n",
    "\n",
    "    \n",
    "f_o.close()\n",
    "print 'step =',step"
   ]
  },
  {
   "cell_type": "code",
   "execution_count": 120,
   "metadata": {
    "collapsed": false
   },
   "outputs": [],
   "source": []
  },
  {
   "cell_type": "code",
   "execution_count": null,
   "metadata": {
    "collapsed": false
   },
   "outputs": [],
   "source": []
  },
  {
   "cell_type": "code",
   "execution_count": 98,
   "metadata": {
    "collapsed": false
   },
   "outputs": [],
   "source": [
    "#vxTi = velocityField[0].evaluate(surface_nodes)\n",
    "#vxIso = velocityFieldIso[0].evaluate(surface_nodes)\n",
    "#%pylab inline\n",
    "#fig, axes = plt.subplots(figsize=(16,4))\n",
    "#axes.plot(vxTi)\n",
    "#axes.plot(vxIso)\n",
    "\n",
    "\n",
    "#fig, axes = plt.subplots(figsize=(16,4))\n",
    "#axes.plot(vxTi)\n",
    "#axes.plot(surface_xs, vxTi - vxIso)\n",
    "#fig.savefig('Ti_minus_Iso.png')\n",
    "#plt.title('surface velocity residual - T. Iso minus Iso. weak zone')\n"
   ]
  }
 ],
 "metadata": {
  "kernelspec": {
   "display_name": "Python 2",
   "language": "python",
   "name": "python2"
  },
  "language_info": {
   "codemirror_mode": {
    "name": "ipython",
    "version": 2
   },
   "file_extension": ".py",
   "mimetype": "text/x-python",
   "name": "python",
   "nbconvert_exporter": "python",
   "pygments_lexer": "ipython2",
   "version": "2.7.9"
  },
  "widgets": {
   "state": {},
   "version": "1.1.2"
  }
 },
 "nbformat": 4,
 "nbformat_minor": 0
}
