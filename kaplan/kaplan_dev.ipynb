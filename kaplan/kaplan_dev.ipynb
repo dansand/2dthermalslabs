{
 "cells": [
  {
   "cell_type": "markdown",
   "metadata": {},
   "source": [
    "## Thermal subduction, linear rheology:\n",
    "\n",
    "\n",
    "The viscous rheology in this model is similar to the models described in the PhD thesis of Micheal Kaplan\n",
    "\n",
    "\n",
    "\n",
    "**Keywords:** subduction, thermally-activated creep, \n",
    "\n",
    "\n",
    "**References:**\n",
    "\n",
    "\n",
    "Kaplan, Michael. Numerical Geodynamics of Solid Planetary Deformation. Diss. University of Southern California, 2015."
   ]
  },
  {
   "cell_type": "code",
   "execution_count": 1,
   "metadata": {
    "collapsed": false
   },
   "outputs": [
    {
     "name": "stderr",
     "output_type": "stream",
     "text": [
      "/root/underworld2/unsupported/interfaces/__init__.py:9: UserWarning: \n",
      "\n",
      "The interface module is not supported.\n",
      "Questions should be addressed to louis.moresi@unimelb.edu.au \n",
      " \n",
      "  Questions should be addressed to louis.moresi@unimelb.edu.au \\n \"\"\"\n"
     ]
    }
   ],
   "source": [
    "import numpy as np\n",
    "import underworld as uw\n",
    "import math\n",
    "from underworld import function as fn\n",
    "import glucifer\n",
    "\n",
    "import os\n",
    "import sys\n",
    "import natsort\n",
    "import shutil\n",
    "from easydict import EasyDict as edict\n",
    "import operator\n",
    "import pint\n",
    "import time\n",
    "import operator\n",
    "from slippy2 import boundary_layer2d\n",
    "from slippy2 import material_graph\n",
    "from slippy2 import spmesh\n",
    "from slippy2 import phase_function\n",
    "from unsupported.interfaces import markerLine2D\n",
    "\n",
    "from mpi4py import MPI\n",
    "comm = MPI.COMM_WORLD\n",
    "rank = comm.Get_rank()"
   ]
  },
  {
   "cell_type": "code",
   "execution_count": 2,
   "metadata": {
    "collapsed": true
   },
   "outputs": [],
   "source": [
    "#####\n",
    "#Stubborn version number conflicts - need to figure out my Docker container runs an old version. For now...\n",
    "#####\n",
    "try:\n",
    "    natsort.natsort = natsort.natsorted\n",
    "except:\n",
    "    natsort.natsort = natsort.natsort"
   ]
  },
  {
   "cell_type": "markdown",
   "metadata": {},
   "source": [
    "Model name and directories\n",
    "-----"
   ]
  },
  {
   "cell_type": "code",
   "execution_count": 3,
   "metadata": {
    "collapsed": false
   },
   "outputs": [],
   "source": [
    "############\n",
    "#Model letter and number\n",
    "############\n",
    "\n",
    "\n",
    "#Model letter identifier default\n",
    "Model = \"T\"\n",
    "\n",
    "#Model number identifier default:\n",
    "ModNum = 0\n",
    "\n",
    "#Any isolated letter / integer command line args are interpreted as Model/ModelNum\n",
    "\n",
    "if len(sys.argv) == 1:\n",
    "    ModNum = ModNum \n",
    "elif sys.argv[1] == '-f': #\n",
    "    ModNum = ModNum \n",
    "else:\n",
    "    for farg in sys.argv[1:]:\n",
    "        if not '=' in farg: #then Assume it's a not a paramter argument\n",
    "            try:\n",
    "                ModNum = int(farg) #try to convert everingthing to a float, else remains string\n",
    "            except ValueError:\n",
    "                Model  = farg"
   ]
  },
  {
   "cell_type": "code",
   "execution_count": 4,
   "metadata": {
    "collapsed": false
   },
   "outputs": [],
   "source": [
    "###########\n",
    "#Standard output directory setup\n",
    "###########\n",
    "\n",
    "outputPath = \"results\" + \"/\" +  str(Model) + \"/\" + str(ModNum) + \"/\" \n",
    "imagePath = outputPath + 'images/'\n",
    "filePath = outputPath + 'files/'\n",
    "checkpointPath = outputPath + 'checkpoint/'\n",
    "dbPath = outputPath + 'gldbs/'\n",
    "outputFile = 'results_model' + Model + '_' + str(ModNum) + '.dat'\n",
    "\n",
    "if uw.rank()==0:\n",
    "    # make directories if they don't exist\n",
    "    if not os.path.isdir(outputPath):\n",
    "        os.makedirs(outputPath)\n",
    "    if not os.path.isdir(checkpointPath):\n",
    "        os.makedirs(checkpointPath)\n",
    "    if not os.path.isdir(imagePath):\n",
    "        os.makedirs(imagePath)\n",
    "    if not os.path.isdir(dbPath):\n",
    "        os.makedirs(dbPath)\n",
    "    if not os.path.isdir(filePath):\n",
    "        os.makedirs(filePath)\n",
    "\n",
    "        \n",
    "comm.Barrier() #Barrier here so no procs run the check in the next cell too early"
   ]
  },
  {
   "cell_type": "code",
   "execution_count": 5,
   "metadata": {
    "collapsed": false
   },
   "outputs": [
    {
     "name": "stdout",
     "output_type": "stream",
     "text": [
      "results/T/0/checkpoint/ is empty\n"
     ]
    }
   ],
   "source": [
    "###########\n",
    "#Check if starting from checkpoint\n",
    "###########\n",
    "\n",
    "checkdirs = []\n",
    "for dirpath, dirnames, files in os.walk(checkpointPath):\n",
    "    if files:\n",
    "        print dirpath, 'has files'\n",
    "        checkpointLoad = True\n",
    "        checkdirs.append(dirpath)\n",
    "    if not files:\n",
    "        print dirpath, 'is empty'\n",
    "        checkpointLoad = False"
   ]
  },
  {
   "cell_type": "code",
   "execution_count": 6,
   "metadata": {
    "collapsed": true
   },
   "outputs": [],
   "source": [
    "# setup summary output file (name above)\n",
    "if checkpointLoad:\n",
    "    checkpointLoadDir = natsort.natsort(checkdirs)[-1]\n",
    "    if uw.rank() == 0:\n",
    "        shutil.copyfile(os.path.join(checkpointLoadDir, outputFile), outputPath+outputFile)\n",
    "    comm.Barrier()\n",
    "    f_o = open(os.path.join(outputPath, outputFile), 'a')\n",
    "    prevdata = np.genfromtxt(os.path.join(outputPath, outputFile), skip_header=0, skip_footer=0)\n",
    "    if len(prevdata.shape) == 1: #this is in case there is only one line in previous file\n",
    "        realtime = prevdata[-1]  #This corresponds to the column you write time data to\n",
    "    else:\n",
    "        realtime = prevdata[prevdata.shape[0]-1, -1]\n",
    "    step = int(checkpointLoadDir.split('/')[-1])\n",
    "    timevals = [0.]\n",
    "else:\n",
    "    f_o = open(outputPath+outputFile, 'w')\n",
    "    realtime = 0.\n",
    "    step = 0\n",
    "    timevals = [0.]"
   ]
  },
  {
   "cell_type": "markdown",
   "metadata": {},
   "source": [
    "Setup parameters\n",
    "-----\n",
    "\n",
    "Set simulation parameters for test."
   ]
  },
  {
   "cell_type": "markdown",
   "metadata": {},
   "source": [
    "**Use pint to setup any unit conversions we'll need**"
   ]
  },
  {
   "cell_type": "code",
   "execution_count": 7,
   "metadata": {
    "collapsed": false
   },
   "outputs": [
    {
     "data": {
      "text/html": [
       "10000.0 meter/megayear"
      ],
      "text/latex": [
       "$10000.0 \\frac{meter}{megayear}$"
      ],
      "text/plain": [
       "<Quantity(10000.0, 'meter / megayear')>"
      ]
     },
     "execution_count": 7,
     "metadata": {},
     "output_type": "execute_result"
    }
   ],
   "source": [
    "u = pint.UnitRegistry()\n",
    "cmpery = 1.*u.cm/u.year\n",
    "mpermy = 1.*u.m/u.megayear\n",
    "year = 1.*u.year\n",
    "spery = year.to(u.sec)\n",
    "cmpery.to(mpermy)"
   ]
  },
  {
   "cell_type": "code",
   "execution_count": 8,
   "metadata": {
    "collapsed": false
   },
   "outputs": [
    {
     "name": "stdout",
     "output_type": "stream",
     "text": [
      "(0.04, 1.2675505856327397e-11)\n"
     ]
    }
   ],
   "source": [
    "box_half_width =4000e3\n",
    "age_at_trench = 100e6\n",
    "cmperyear = box_half_width / age_at_trench #m/y\n",
    "mpersec = cmperyear*(cmpery.to(u.m/u.second)).magnitude #m/sec\n",
    "print(cmperyear, mpersec )"
   ]
  },
  {
   "cell_type": "markdown",
   "metadata": {},
   "source": [
    "**Set parameter dictionaries**\n",
    "\n",
    "* Parameters are stored in dictionaries. \n",
    "* If starting from checkpoint, parameters are loaded using pickle\n",
    "* If params are passed in as flags to the script, they overwrite \n"
   ]
  },
  {
   "cell_type": "code",
   "execution_count": 9,
   "metadata": {
    "collapsed": false
   },
   "outputs": [],
   "source": [
    "###########\n",
    "#Parameter / settings dictionaries get saved&loaded using pickle\n",
    "###########\n",
    " \n",
    "dp = edict({}) #dimensional parameters\n",
    "sf = edict({}) #scaling factors\n",
    "ndp = edict({}) #dimensionless paramters\n",
    "md = edict({}) #model paramters, flags etc\n",
    "#od = edict({}) #output frequencies\n",
    "\n"
   ]
  },
  {
   "cell_type": "code",
   "execution_count": 10,
   "metadata": {
    "collapsed": false
   },
   "outputs": [],
   "source": [
    "dict_list = [dp, sf, ndp, md]\n",
    "dict_names = ['dp.pkl', 'sf.pkl', 'ndp.pkl', 'md.pkl']\n",
    "\n",
    "def save_pickles(dict_list, dict_names, dictPath):\n",
    "    import pickle\n",
    "    counter = 0\n",
    "    for pdict in dict_list:\n",
    "        myfile = os.path.join(dictPath, dict_names[counter])\n",
    "        with open(myfile, 'wb') as f:\n",
    "            pickle.dump(pdict, f)\n",
    "        counter+=1\n",
    "\n",
    "\n",
    "#ended up having to pretty much write a hard-coded function\n",
    "#All dictionaries we want checkpointed will have to  be added here \n",
    "#and where the function is called\n",
    "#Fortunately, this function is only called ONCE\n",
    "\n",
    "def load_pickles():\n",
    "    import pickle\n",
    "    dirpath = os.path.join(checkpointPath, str(step))\n",
    "    dpfile = open(os.path.join(dirpath, 'dp.pkl'), 'r')\n",
    "    dp = pickle.load(dpfile)\n",
    "#    #\n",
    "    ndpfile = open(os.path.join(dirpath, 'ndp.pkl'), 'r')\n",
    "    ndp = edict(pickle.load(ndpfile))\n",
    "    #\n",
    "    sffile = open(os.path.join(dirpath, 'sf.pkl'), 'r')\n",
    "    sf = edict(pickle.load(sffile))\n",
    "    #\n",
    "    mdfile = open(os.path.join(dirpath, 'md.pkl'), 'r')\n",
    "    md = edict(pickle.load(mdfile))\n",
    "    return dp, ndp, sf, md"
   ]
  },
  {
   "cell_type": "code",
   "execution_count": 11,
   "metadata": {
    "collapsed": false
   },
   "outputs": [],
   "source": [
    "###########\n",
    "#Store the physical parameters, scale factors and dimensionless pramters in easyDicts\n",
    "#Mainly helps with avoiding overwriting variables\n",
    "###########\n",
    "\n",
    "\n",
    "dp = edict({'LS':2900*1e3, #Scaling Length scale\n",
    "            'depth':660*1e3, #Depth of domain\n",
    "            'rho':3300.,  #reference density\n",
    "            'g':9.8, #surface gravity\n",
    "            'eta0':2.5e20, #reference viscosity\n",
    "            'k':1e-6, #thermal diffusivity\n",
    "            'a':3e-5, #surface thermal expansivity\n",
    "            'R':8.314, #gas constant\n",
    "            'TP':1673., #mantle potential temp (K)\n",
    "            'TS':273., #surface temp (K)\n",
    "            #Rheology - flow law paramters\n",
    "            'Adf':3e-11, #pre-exp factor for diffusion creep\n",
    "            #'Edf':1e5, #Total viscosity variation in the Kaplan model\n",
    "            'Edf':3e5,\n",
    "            'cm':40e6, #mantle cohesion in Byerlee law\n",
    "            'cc':40e6, #mantle cohesion in Byerlee law\n",
    "            'ci':40e6, #mantle cohesion in Byerlee law\n",
    "            'cf':40e6, #mantle cohesion in Byerlee law\n",
    "            'fcm':0.06,   #mantle friction coefficient in Byerlee law (tan(phi))\n",
    "            'fcc':0.06,   #crust friction coefficient \n",
    "            'fci':0.06,   #subduction interface friction coefficient\n",
    "            'fcf':0.06,   #subduction interface friction coefficient\n",
    "            #Rheology - cutoff values\n",
    "            'eta_min':1e17, \n",
    "            'eta_max':1e25, #viscosity max in the mantle material\n",
    "            'eta_min_crust':2.5e19, #viscosity min in the weak-crust material\n",
    "            'eta_max_crust':2.5e19, #viscosity max in the weak-crust material\n",
    "            'eta_min_interface':2.5e19, #viscosity min in the subduction interface material\n",
    "            'eta_max_interface':2.5e19, #viscosity max in the subduction interface material\n",
    "            'eta_min_fault':2.5e19, #viscosity min in the subduction interface material\n",
    "            'eta_max_fault':2.5e19, #viscosity max in the subduction interface material\n",
    "            #Length scales\n",
    "            'MANTLETOCRUST':8.*1e3, #Crust depth\n",
    "            'HARZBURGDEPTH':40e3,\n",
    "            'CRUSTTOMANTLE':800.*1e3,\n",
    "            'LITHTOMANTLE':(900.*1e3),\n",
    "            'MANTLETOLITH':200.*1e3, \n",
    "            'TOPOHEIGHT':10.*1e3,  #rock-air topography limits\n",
    "            'CRUSTTOECL':100.*1e3,\n",
    "            'LOWMANTLEDEPTH':660.*1e3, \n",
    "            'CRUSTVISCUTOFF':150.*1e3, #Deeper than this, crust material rheology reverts to mantle rheology\n",
    "            'AGETRACKDEPTH':100e3, #above this depth we track the age of the lithsphere (below age is assumed zero)\n",
    "            #Slab and plate parameters\n",
    "            'roc':250e3,     #radius of curvature of slab\n",
    "            'subzone':0.0,   #X position of subduction zone..\n",
    "            'lRidge':-0.5*(660e3*6),  #For depth = 670 km, aspect ratio of 6, this puts the ridges at MINX, MAXX\n",
    "            'rRidge':0.5*(660e3*6),\n",
    "            'maxDepth':250e3,\n",
    "            'theta':70., #Angle to truncate the slab (can also control with a maxDepth param)\n",
    "            'slabmaxAge':60e6, #age of subduction plate at trench\n",
    "            'platemaxAge':60e6, #max age of slab (Plate model)\n",
    "            'sense':'Right', #dip direction\n",
    "            'op_age_fac':0.5, #this controls the overidding plate age reduction\n",
    "            #Misc\n",
    "            'StALS':100e3, #depth of sticky air layer\n",
    "            'Steta_n':1e19, #stick air viscosity, normal\n",
    "            'Steta_s':1e18, #stick air viscosity, shear \n",
    "            'plate_vel':4,\n",
    "            'low_mantle_visc_fac':30.\n",
    "           })\n",
    "\n",
    "#append any derived parameters to the dictionary\n",
    "dp.deltaT = dp.TP - dp.TS\n",
    "\n",
    "\n",
    "\n"
   ]
  },
  {
   "cell_type": "code",
   "execution_count": 12,
   "metadata": {
    "collapsed": false
   },
   "outputs": [],
   "source": [
    "#Modelling and Physics switches\n",
    "\n",
    "md = edict({'refineMesh':True,\n",
    "            'stickyAir':False,\n",
    "            'subductionFault':False,\n",
    "            'symmetricIcs':False,\n",
    "            'velBcs':False,\n",
    "            'aspectRatio':6,\n",
    "            'compBuoyancy':False, #use compositional & phase buoyancy, or simply thermal\n",
    "            'periodicBcs':False,\n",
    "            'RES':48,\n",
    "            'PIC_integration':True,\n",
    "            'ppc':25,\n",
    "            'elementType':\"Q1/dQ0\"\n",
    "            })\n",
    "\n",
    "#\"Q2/DPC1\""
   ]
  },
  {
   "cell_type": "code",
   "execution_count": null,
   "metadata": {
    "collapsed": false
   },
   "outputs": [],
   "source": []
  },
  {
   "cell_type": "code",
   "execution_count": 13,
   "metadata": {
    "collapsed": false
   },
   "outputs": [],
   "source": [
    "###########\n",
    "#If starting from a checkpoint load params from file\n",
    "###########\n",
    "\n",
    "if checkpointLoad:\n",
    "    dp, ndp, sf, md = load_pickles()  #remember to add any extra dictionaries\n"
   ]
  },
  {
   "cell_type": "code",
   "execution_count": 14,
   "metadata": {
    "collapsed": false
   },
   "outputs": [],
   "source": [
    "###########\n",
    "#If command line args are given, overwrite\n",
    "#Note that this assumes that params as commans line args/\n",
    "#only append to the 'dimensional' and 'model' dictionary (not the non-dimensional)\n",
    "###########    \n",
    "\n",
    "\n",
    "###########\n",
    "#If extra arguments are provided to the script\" eg:\n",
    "### >>> uw.py 2 dp.arg1=1 dp.arg2=foo dp.arg3=3.0\n",
    "###\n",
    "###This would assign ModNum = 2, all other values go into the dp dictionary, under key names provided\n",
    "###\n",
    "###Two operators are searched for, = & *=\n",
    "###\n",
    "###If =, parameter is re-assigned to givn value\n",
    "###If *=, parameter is multipled by given value\n",
    "###\n",
    "### >>> uw.py 2 dp.arg1=1 dp.arg2=foo dp.arg3*=3.0\n",
    "###########\n",
    "\n",
    "for farg in sys.argv[1:]:\n",
    "    try:\n",
    "        (dicitem,val) = farg.split(\"=\") #Split on equals operator\n",
    "        (dic,arg) = dicitem.split(\".\") #colon notation\n",
    "        if '*=' in farg:\n",
    "            (dicitem,val) = farg.split(\"*=\") #If in-place multiplication, split on '*='\n",
    "            (dic,arg) = dicitem.split(\".\")\n",
    "            \n",
    "        if val == 'True': \n",
    "            val = True\n",
    "        elif val == 'False':     #First check if args are boolean\n",
    "            val = False\n",
    "        else:\n",
    "            try:\n",
    "                val = float(val) #next try to convert  to a float,\n",
    "            except ValueError:\n",
    "                pass             #otherwise leave as string\n",
    "        #Update the dictionary\n",
    "        if farg.startswith('dp'):\n",
    "            if '*=' in farg:\n",
    "                dp[arg] = dp[arg]*val #multiply parameter by given factor\n",
    "            else:\n",
    "                dp[arg] = val    #or reassign parameter by given value\n",
    "        if farg.startswith('md'):\n",
    "            if '*=' in farg:\n",
    "                md[arg] = md[arg]*val #multiply parameter by given factor\n",
    "            else:\n",
    "                md[arg] = val    #or reassign parameter by given value\n",
    "                \n",
    "    except:\n",
    "        pass\n",
    "            \n",
    "\n",
    "comm.barrier()"
   ]
  },
  {
   "cell_type": "code",
   "execution_count": 15,
   "metadata": {
    "collapsed": true
   },
   "outputs": [],
   "source": [
    "#print('refine Mesh is: ', md.refineMesh)"
   ]
  },
  {
   "cell_type": "code",
   "execution_count": 16,
   "metadata": {
    "collapsed": false
   },
   "outputs": [],
   "source": [
    "#Only build these guys first time around, otherwise the read from checkpoints\n",
    "#Important because some of these params (like SZ location) may change during model evolution\n",
    "\n",
    "\n",
    "if not checkpointLoad:\n",
    "\n",
    "    \n",
    "    \n",
    "    sf = edict({'stress':dp.LS**2/(dp.k*dp.eta0),\n",
    "                'lith_grad':dp.rho*dp.g*(dp.LS)**3/(dp.eta0*dp.k) , \n",
    "                'vel':dp.LS/dp.k,\n",
    "                'SR':dp.LS**2/dp.k, \n",
    "                'E': 1./(dp.R*dp.deltaT)\n",
    "               })\n",
    "\n",
    "    #dimensionless parameters\n",
    "\n",
    "    ndp = edict({'RA':(dp.g*dp.rho*dp.a*(dp.TP - dp.TS)*(dp.LS)**3)/(dp.k*dp.eta0),\n",
    "                 #'Edf':math.log(dp.Edf),\n",
    "                 'Edf':dp.Edf*sf.E,\n",
    "                 'TSP':0., \n",
    "                 'TBP':1.,\n",
    "                 'TPP':(dp.TP - dp.TS)/dp.deltaT, #dimensionless potential temp\n",
    "                 'TS':dp.TS/dp.deltaT,\n",
    "                 'TP':dp.TP/dp.deltaT,\n",
    "                 'cm':dp.cm*sf.stress,\n",
    "                 'cc':dp.cc*sf.stress,    #{dimensionless cohesion in mantle, crust, interface}\n",
    "                 'ci':dp.ci*sf.stress,\n",
    "                 'cf':dp.cf*sf.stress,\n",
    "                 'fcmd':dp.fcm*sf.lith_grad, \n",
    "                 'fccd':dp.fcc*sf.lith_grad, #{dimensionless friction coefficient in mantle, crust, interface}\n",
    "                 'fcid':dp.fci*sf.lith_grad, \n",
    "                 'fcfd':dp.fci*sf.lith_grad, \n",
    "                 #Rheology - cutoff values\n",
    "                 'eta_min':dp.eta_min/dp.eta0, \n",
    "                 'eta_max':dp.eta_max/dp.eta0, #viscosity max in the mantle material\n",
    "                 'eta_min_crust':dp.eta_min_crust/dp.eta0, #viscosity min in the weak-crust material\n",
    "                 'eta_max_crust':dp.eta_max_crust/dp.eta0, #viscosity max in the weak-crust material\n",
    "                 'eta_min_interface':dp.eta_min_interface/dp.eta0, #viscosity min in the subduction interface material\n",
    "                 'eta_max_interface':dp.eta_max_interface/dp.eta0, #viscosity max in the subduction interface material\n",
    "                 'eta_min_fault':dp.eta_min_fault/dp.eta0, #viscosity min in the subduction interface material\n",
    "                 'eta_max_fault':dp.eta_max_fault/dp.eta0, #viscosity max in the subduction interface material   \n",
    "                 #Length scales\n",
    "                 'MANTLETOCRUST':dp.MANTLETOCRUST/dp.LS, #Crust depth\n",
    "                 'HARZBURGDEPTH':dp.HARZBURGDEPTH/dp.LS,\n",
    "                 'CRUSTTOMANTLE':dp.CRUSTTOMANTLE/dp.LS,\n",
    "                 'LITHTOMANTLE':dp.LITHTOMANTLE/dp.LS,\n",
    "                 'MANTLETOLITH':dp.MANTLETOLITH/dp.LS,\n",
    "                 'TOPOHEIGHT':dp.TOPOHEIGHT/dp.LS,  #rock-air topography limits\n",
    "                 'CRUSTTOECL':dp.CRUSTTOECL/dp.LS,\n",
    "                 'LOWMANTLEDEPTH':dp.LOWMANTLEDEPTH/dp.LS, \n",
    "                 'CRUSTVISCUTOFF':dp.CRUSTVISCUTOFF/dp.LS, #Deeper than this, crust material rheology reverts to mantle rheology\n",
    "                 'AGETRACKDEPTH':dp.AGETRACKDEPTH/dp.LS,\n",
    "                 #Slab and plate parameters\n",
    "                 'roc':dp.roc/dp.LS,     #radius of curvature of slab\n",
    "                 'subzone':dp.subzone/dp.LS,   #X position of subduction zone..\n",
    "                 'lRidge':np.round(dp.lRidge/dp.LS, 3),  #For depth = 670 km, aspect ratio of 4, this puts the ridges at MINX, MAXX\n",
    "                 'rRidge':np.round(dp.rRidge/dp.LS, 3),\n",
    "                 'maxDepth':dp.maxDepth/dp.LS,    \n",
    "                 #misc\n",
    "                 'Steta_n':dp.Steta_n/dp.eta0, #stick air viscosity, normal\n",
    "                 'Steta_s':dp.Steta_n/dp.eta0, #stick air viscosity, shear \n",
    "                 'StALS':dp.StALS/dp.LS,\n",
    "                 'plate_vel':sf.vel*dp.plate_vel*(cmpery.to(u.m/u.second)).magnitude,\n",
    "                 'low_mantle_visc_fac':dp.low_mantle_visc_fac\n",
    "                })\n",
    "\n",
    "\n",
    "\n",
    "    #Append any more derived paramters\n",
    "    ndp.StRA = (3300.*dp.g*(dp.LS)**3)/(dp.eta0 *dp.k) #Composisitional Rayleigh number for rock-air buoyancy force\n",
    "    dp.CVR = (0.1*(dp.k/dp.LS)*ndp.RA**(2/3.))\n",
    "    ndp.CVR = dp.CVR*sf.vel #characteristic velocity"
   ]
  },
  {
   "cell_type": "code",
   "execution_count": 17,
   "metadata": {
    "collapsed": false
   },
   "outputs": [
    {
     "data": {
      "text/plain": [
       "(25.77408158355957, 0.195)"
      ]
     },
     "execution_count": 17,
     "metadata": {},
     "output_type": "execute_result"
    }
   ],
   "source": [
    "ndp.Edf, ndp.TS\n",
    "#sf.lith_grad"
   ]
  },
  {
   "cell_type": "markdown",
   "metadata": {},
   "source": [
    "**Model setup parameters**"
   ]
  },
  {
   "cell_type": "code",
   "execution_count": 18,
   "metadata": {
    "collapsed": true
   },
   "outputs": [],
   "source": [
    "if 'Q2' in md.elementType:\n",
    "    md.RES = int(0.5*md.RES)"
   ]
  },
  {
   "cell_type": "code",
   "execution_count": 19,
   "metadata": {
    "collapsed": false
   },
   "outputs": [],
   "source": [
    "###########\n",
    "#Model setup parameters\n",
    "###########\n",
    "\n",
    "dim = 2          # number of spatial dimensions\n",
    "\n",
    "\n",
    "#Domain and Mesh paramters\n",
    "Xres = int(md.RES*8)   #more than twice the resolution in X-dim, which will be 'corrected' by the refinement we'll use in Y\n",
    "\n",
    "\n",
    "MINY = 1. - (dp.depth/dp.LS)\n",
    "if md.stickyAir:\n",
    "    Yres = int(md.RES)\n",
    "    MAXY = 1. + dp.StALS/dp.LS #150km\n",
    "    \n",
    "else:\n",
    "    Yres = int(md.RES)\n",
    "    MAXY = 1.\n",
    "\n",
    "\n",
    "periodic = [False, False]\n",
    "if md.periodicBcs:\n",
    "    periodic = [True, False]\n",
    "    \n",
    "    \n",
    "hw = np.round(0.5*(dp.depth/dp.LS)*md.aspectRatio, 3)\n",
    "MINX = -1.*hw\n",
    "\n",
    "MAXX = hw\n",
    "MAXY = 1.\n",
    "    \n",
    "    \n",
    "\n",
    "Xres = int(md.RES*md.aspectRatio) #careful\n",
    "#if MINY == 0.5:\n",
    "#    Xres = int(2.*RES*md.aspectRatio)\n",
    "    \n",
    "\n",
    "if md.stickyAir:\n",
    "    Yres = int(md.RES)\n",
    "    MAXY = np.round(MAXY + dp.StALS/dp.LS, 3)\n",
    "    \n",
    "else:\n",
    "    Yres = int(md.RES)\n",
    "    MAXY = np.round(MAXY, 3)\n",
    "\n",
    "periodic = [False, False]\n",
    "if md.periodicBcs:\n",
    "    periodic = [True, False]\n",
    "    \n"
   ]
  },
  {
   "cell_type": "markdown",
   "metadata": {},
   "source": [
    "### Metric output"
   ]
  },
  {
   "cell_type": "code",
   "execution_count": 20,
   "metadata": {
    "collapsed": true
   },
   "outputs": [],
   "source": [
    "#Metric output stuff\n",
    "figures =  'gldb' #glucifer Store won't work on all machines, if not, set to 'gldb' \n",
    "swarm_repop, swarm_update = 10, 10\n",
    "gldbs_output = 5\n",
    "checkpoint_every, files_output = 10, 10\n",
    "metric_output = 2\n",
    "sticky_air_temp = 1e6"
   ]
  },
  {
   "cell_type": "code",
   "execution_count": 21,
   "metadata": {
    "collapsed": false
   },
   "outputs": [],
   "source": [
    "#dp.lRidge/dp.LS, np.round(0.5*(dp.depth/dp.LS)*md.aspectRatio, 1)\n",
    "#np.round(0.5*(dp.depth/dp.LS)*md.aspectRatio, 1), ndp.lRidge\n",
    "#np.round(dp.lRidge/dp.LS, 5)\n",
    "#md.aspectRatio\n",
    "#-0.5*(660e3*6)/dp.LS, np.round(0.5*(dp.depth/dp.LS)*md.aspectRatio, 3)\n",
    "#mesh.maxCoord[0], ndp.rRidge"
   ]
  },
  {
   "cell_type": "markdown",
   "metadata": {},
   "source": [
    "Create mesh and finite element variables\n",
    "------"
   ]
  },
  {
   "cell_type": "code",
   "execution_count": 22,
   "metadata": {
    "collapsed": false
   },
   "outputs": [],
   "source": [
    "mesh = uw.mesh.FeMesh_Cartesian( elementType = (md.elementType),\n",
    "                                 elementRes  = (Xres, Yres), \n",
    "                                 minCoord    = (MINX, MINY), \n",
    "                                 maxCoord    = (MAXX, MAXY), periodic=periodic)\n",
    "\n",
    "velocityField       = uw.mesh.MeshVariable( mesh=mesh,         nodeDofCount=2 )\n",
    "pressureField       = uw.mesh.MeshVariable( mesh=mesh.subMesh, nodeDofCount=1 )\n",
    "temperatureField    = uw.mesh.MeshVariable( mesh=mesh,         nodeDofCount=1 )\n",
    "temperatureDotField = uw.mesh.MeshVariable( mesh=mesh,         nodeDofCount=1 )"
   ]
  },
  {
   "cell_type": "code",
   "execution_count": 23,
   "metadata": {
    "collapsed": true
   },
   "outputs": [],
   "source": [
    "coordinate = fn.input()\n",
    "depthFn = MAXY - coordinate[1] #a function providing the depth\n",
    "\n",
    "\n",
    "xFn = coordinate[0]  #a function providing the x-coordinate\n",
    "yFn = coordinate[1]\n"
   ]
  },
  {
   "cell_type": "code",
   "execution_count": 24,
   "metadata": {
    "collapsed": false
   },
   "outputs": [],
   "source": [
    "mesh.reset()\n",
    "\n",
    "jWalls = mesh.specialSets[\"MinJ_VertexSet\"] + mesh.specialSets[\"MaxJ_VertexSet\"]\n",
    "yFn = coordinate[1]\n",
    "yField = uw.mesh.MeshVariable( mesh=mesh, nodeDofCount=1 )\n",
    "yField.data[:] = 0.\n",
    "yBC = uw.conditions.DirichletCondition( variable=yField, indexSetsPerDof=(jWalls,) )\n",
    "\n",
    "# set bottom wall temperature bc\n",
    "for index in mesh.specialSets[\"MinJ_VertexSet\"]:\n",
    "    yField.data[index] = mesh.minCoord[1]\n",
    "# set top wall temperature bc\n",
    "for index in mesh.specialSets[\"MaxJ_VertexSet\"]:\n",
    "    yField.data[index] = mesh.maxCoord[1]\n",
    "    \n",
    "    \n",
    "    \n",
    "s = 2.5\n",
    "intensityFac = 1.5\n",
    "intensityFn = (((yFn - MINY)/(MAXY-MINY))**s)\n",
    "intensityFn *= intensityFac\n",
    "intensityFn += 1.\n",
    "\n",
    "\n",
    "yLaplaceEquation = uw.systems.SteadyStateHeat(temperatureField=yField, fn_diffusivity=intensityFn, conditions=[yBC,])\n",
    "\n",
    "# get the default heat equation solver\n",
    "yLaplaceSolver = uw.systems.Solver(yLaplaceEquation)\n",
    "# solve\n",
    "yLaplaceSolver.solve()\n",
    "\n",
    "\n",
    "#Get the array of Y positions - copy may be necessary, not sure. \n",
    "newYpos = yField.data.copy() \n",
    "\n",
    "uw.barrier()\n",
    "with mesh.deform_mesh():\n",
    "     mesh.data[:,1] = newYpos[:,0]"
   ]
  },
  {
   "cell_type": "code",
   "execution_count": null,
   "metadata": {
    "collapsed": true
   },
   "outputs": [],
   "source": []
  },
  {
   "cell_type": "code",
   "execution_count": 25,
   "metadata": {
    "collapsed": false
   },
   "outputs": [],
   "source": [
    "#fig= glucifer.Figure()\n",
    "#fig.append(glucifer.objects.Mesh(mesh))\n",
    "#fig.append( glucifer.objects.Surface(mesh,intensityFn, discrete=True))\n",
    "#fig.show()\n",
    "#fig.save_database('test.gldb')"
   ]
  },
  {
   "cell_type": "code",
   "execution_count": 26,
   "metadata": {
    "collapsed": false
   },
   "outputs": [],
   "source": [
    "#THis is a hack for adding a sticky air domain, we refine MAXY and things like the temperature stencil work from Y = 1. \n",
    "\n",
    "if md.stickyAir:\n",
    "    MAXY = 1."
   ]
  },
  {
   "cell_type": "code",
   "execution_count": null,
   "metadata": {
    "collapsed": false
   },
   "outputs": [],
   "source": []
  },
  {
   "cell_type": "markdown",
   "metadata": {},
   "source": [
    "Initial conditions\n",
    "-------\n"
   ]
  },
  {
   "cell_type": "code",
   "execution_count": null,
   "metadata": {
    "collapsed": false
   },
   "outputs": [],
   "source": []
  },
  {
   "cell_type": "code",
   "execution_count": 27,
   "metadata": {
    "collapsed": false
   },
   "outputs": [],
   "source": [
    "\n",
    "def age_fn(xFn, sz = 0.0, lMOR=MINX, rMOR=MAXX, opFac=1., conjugate_plate = False):\n",
    "    \"\"\"\n",
    "    Simple function to generate a discrete 1-d (i.e x-coordinate) function for the age of the thermal BC. \n",
    "    All paramters are dimensionless\n",
    "    sz: location of subduction zone\n",
    "    lMOR: location of left-hand MOR\n",
    "    rMOR: location of right-hand MOR\n",
    "    opFac: uniform reduce the age of the right hand plate by this factor\n",
    "    conjugate_plate: if True, build plates on the outer sides of the MORs, if False, age = 0. \n",
    "    \"\"\"\n",
    "    \n",
    "    if lMOR < MINX:\n",
    "        lMOR = MINX\n",
    "    if rMOR > MAXX:\n",
    "        rMOR = MAXX\n",
    "\n",
    "    if conjugate_plate:\n",
    "        ageFn = fn.branching.conditional([(operator.and_(xFn > lMOR, xFn < sz) , (xFn + abs(lMOR))/(abs(sz-lMOR))), \n",
    "                                      (operator.and_(xFn < rMOR, xFn >= sz), (1.-(xFn + abs(sz))/abs(rMOR-sz))*opFac),\n",
    "                                      (xFn > rMOR, opFac*(xFn -abs(rMOR)) / abs(rMOR-sz) ),\n",
    "                                      (True, fn.math.abs((((xFn + abs(lMOR)) / (abs(sz-lMOR))))))\n",
    "                                         ])\n",
    "    else:    \n",
    "        \n",
    "        ageFn = fn.branching.conditional([(operator.and_(xFn > lMOR, xFn < sz) , (xFn + abs(lMOR))/(abs(sz-lMOR))), \n",
    "                                      (operator.and_(xFn < rMOR, xFn >= sz), (1.-(xFn + abs(sz))/abs(rMOR-sz))*opFac),\n",
    "\n",
    "                                      (True, 0.0)])\n",
    "    return ageFn"
   ]
  },
  {
   "cell_type": "code",
   "execution_count": 28,
   "metadata": {
    "collapsed": false
   },
   "outputs": [],
   "source": [
    "#ndp.lRidge *= 0.5"
   ]
  },
  {
   "cell_type": "code",
   "execution_count": 29,
   "metadata": {
    "collapsed": false
   },
   "outputs": [],
   "source": [
    "###########\n",
    "#Thermal initial condition - half-space cooling\n",
    "###########\n",
    "\n",
    "#  a few conversions\n",
    "ageAtTrenchSeconds = min(dp.platemaxAge*(3600*24*365), dp.slabmaxAge*(3600*24*365))\n",
    "#slab perturbation params (mostly dimensionless / model params here)\n",
    "phi = 90. - dp.theta\n",
    "Org = (ndp.subzone, MAXY-ndp.roc)\n",
    "\n",
    "#First build the top TBL\n",
    "ageFn = age_fn(xFn, sz =ndp.subzone, lMOR=ndp.lRidge,rMOR=ndp.rRidge, conjugate_plate=True, opFac = dp.op_age_fac)\n",
    "#dimensionlize the age function\n",
    "ageFn *= ageAtTrenchSeconds #seconds to year\n",
    "w0 = (2.3*math.sqrt(dp.k*ageAtTrenchSeconds))/dp.LS #diffusion depth of plate at the trench\n",
    "\n",
    "tempBL = (ndp.TPP - ndp.TSP)*fn.math.erf((depthFn*dp.LS)/(2.*fn.math.sqrt(dp.k*ageFn))) + ndp.TSP #boundary layer function\n",
    "tempTBL =  fn.branching.conditional([(depthFn < w0, tempBL),\n",
    "                          (True, ndp.TPP)])\n",
    "\n",
    "if not md.symmetricIcs:\n",
    "    if not checkpointLoad:\n",
    "        out = uw.utils.MeshVariable_Projection( temperatureField, tempTBL) #apply function with projection\n",
    "        out.solve()\n",
    "\n"
   ]
  },
  {
   "cell_type": "code",
   "execution_count": 30,
   "metadata": {
    "collapsed": false
   },
   "outputs": [
    {
     "data": {
      "text/plain": [
       "0.03449917953840105"
      ]
     },
     "execution_count": 30,
     "metadata": {},
     "output_type": "execute_result"
    }
   ],
   "source": [
    "w0"
   ]
  },
  {
   "cell_type": "code",
   "execution_count": 31,
   "metadata": {
    "collapsed": false
   },
   "outputs": [],
   "source": [
    "#Now build the perturbation part\n",
    "def inCircleFnGenerator(centre, radius):\n",
    "    coord = fn.input()\n",
    "    offsetFn = coord - centre\n",
    "    return fn.math.dot( offsetFn, offsetFn ) < radius**2\n",
    "\n",
    "\n",
    "\n",
    "#We use circles to define our slab and crust perturbation,  \n",
    "Oc = inCircleFnGenerator(Org , ndp.roc)\n",
    "Ic = inCircleFnGenerator(Org , ndp.roc - w0)\n",
    "Cc = inCircleFnGenerator(Org , ndp.roc - (1.2*ndp.MANTLETOCRUST)) #... weak zone on 'outside' of slab\n",
    "Hc = inCircleFnGenerator(Org , ndp.roc - ndp.HARZBURGDEPTH) #... Harzburgite layer \n",
    "dx = (ndp.roc)/(np.math.tan((np.math.pi/180.)*phi))\n",
    "\n",
    "#We'll also create a triangle which will truncate the circles defining the slab...\n",
    "if dp.sense == 'Left':\n",
    "    ptx = ndp.subzone - dx\n",
    "else:\n",
    "    ptx = ndp.subzone + dx\n",
    "coords = ((0.+ ndp.subzone, MAXY), (0.+ ndp.subzone, MAXY-ndp.roc), (ptx, MAXY))\n",
    "Tri = fn.shape.Polygon(np.array(coords))\n",
    "\n",
    "#Actually apply the perturbation - could probably avoid particle walk here\n",
    "if not md.symmetricIcs:\n",
    "    if not checkpointLoad:\n",
    "        sdFn = ((ndp.roc - fn.math.sqrt((coordinate[0] - Org[0])**2. + (coordinate[1] - Org[1])**2.)))\n",
    "        slabFn = ndp.TPP*fn.math.erf((sdFn*dp.LS)/(2.*math.sqrt(dp.k*ageAtTrenchSeconds))) + ndp.TSP\n",
    "        for index, coord in enumerate(mesh.data):\n",
    "            if (\n",
    "                Oc.evaluate(tuple(coord)) and\n",
    "                Tri.evaluate(tuple(coord)) and not\n",
    "                Ic.evaluate(tuple(coord)) and\n",
    "                coord[1] > (MAXY - ndp.maxDepth)\n",
    "                ): #In the quarter-circle defining the lithosphere\n",
    "                temperatureField.data[index] = slabFn.evaluate(mesh)[index]\n"
   ]
  },
  {
   "cell_type": "code",
   "execution_count": 32,
   "metadata": {
    "collapsed": false
   },
   "outputs": [],
   "source": [
    "#sdFn = ((RocM - fn.math.sqrt((coordinate[0] - Org[0])**2. + (coordinate[1] - Org[1])**2.)))\n",
    "#slabFn = ndp.TPP*fn.math.erf((sdFn*dp.LS)/(2.*math.sqrt(dp.k*ageAtTrenchSeconds))) + ndp.TSP\n",
    "#sdFn, slabFn"
   ]
  },
  {
   "cell_type": "code",
   "execution_count": 33,
   "metadata": {
    "collapsed": false
   },
   "outputs": [],
   "source": [
    "#Make sure material in sticky air region is at the surface temperature.\n",
    "for index, coord in enumerate(mesh.data):\n",
    "            if coord[1] >= MAXY:\n",
    "                temperatureField.data[index] = ndp.TSP"
   ]
  },
  {
   "cell_type": "code",
   "execution_count": 34,
   "metadata": {
    "collapsed": false
   },
   "outputs": [],
   "source": [
    "#fn.math.erf((sdFn*dp.LS)/(2.*fn.math.sqrt(dp.k*(slabmaxAge*(3600*24*365))))) \n",
    "#CRUSTVISCUTOFF, MANTLETOCRUST*3"
   ]
  },
  {
   "cell_type": "markdown",
   "metadata": {
    "collapsed": false
   },
   "source": [
    "def matplot_field(temperatureField, dp):\n",
    "    if uw.nProcs() != 1:\n",
    "        print(\"only in Serial folks\")\n",
    "    else:\n",
    "        import matplotlib.pyplot as pyplt\n",
    "        try :\n",
    "            if(__IPYTHON__) :\n",
    "                get_ipython().magic(u'matplotlib inline')\n",
    "        except NameError :\n",
    "            pass\n",
    "        field_data = temperatureField.data.reshape(mesh.elementRes[1] + 1, mesh.elementRes[0] + 1)\n",
    "        fig, ax = pyplt.subplots(figsize=(32,2))\n",
    "        ql = dp.LS/1e3\n",
    "        pyplt.ioff()\n",
    "        cax =ax.imshow(np.flipud(field_data), cmap='coolwarm', aspect = 0.5, extent=[0,ql*aspectRatio,ql, 0])\n",
    "        fig.colorbar(cax, orientation='horizontal' )\n",
    "        #ax.set_x([0,dp.LS*aspectRatio])\n",
    "        pyplt.tight_layout()\n",
    "        \n",
    "        return fig, ax\n",
    "        \n",
    "fig, ax = matplot_field(temperatureField, dp)\n",
    "fig.savefig('test.png')       "
   ]
  },
  {
   "cell_type": "code",
   "execution_count": 35,
   "metadata": {
    "collapsed": false
   },
   "outputs": [
    {
     "data": {
      "text/plain": [
       "(0.0, 1.0)"
      ]
     },
     "execution_count": 35,
     "metadata": {},
     "output_type": "execute_result"
    }
   ],
   "source": [
    "temperatureField.data.min(), temperatureField.data.max()\n"
   ]
  },
  {
   "cell_type": "code",
   "execution_count": 36,
   "metadata": {
    "collapsed": false
   },
   "outputs": [],
   "source": [
    "#fig= glucifer.Figure(quality=3)\n",
    "#fig.append( glucifer.objects.Surface(mesh,temperatureField))\n",
    "#fig.append( glucifer.objects.Surface(mesh,pressureField))\n",
    "\n",
    "\n",
    "#fig.append( glucifer.objects.Points(gSwarm,temperatureField ))\n",
    "#fig.append( glucifer.objects.Mesh(mesh))\n",
    "#fig.show()\n",
    "##\n",
    "#fig.save_database('test.gldb')\n",
    "#fig.save_image('test.png')\n"
   ]
  },
  {
   "cell_type": "markdown",
   "metadata": {},
   "source": [
    "Boundary conditions\n",
    "-------"
   ]
  },
  {
   "cell_type": "code",
   "execution_count": 37,
   "metadata": {
    "collapsed": false
   },
   "outputs": [
    {
     "name": "stdout",
     "output_type": "stream",
     "text": [
      "2\n"
     ]
    }
   ],
   "source": [
    "for index in mesh.specialSets[\"MinJ_VertexSet\"]:\n",
    "    temperatureField.data[index] = ndp.TBP\n",
    "for index in mesh.specialSets[\"MaxJ_VertexSet\"]:\n",
    "    temperatureField.data[index] = ndp.TSP\n",
    "    \n",
    "iWalls = mesh.specialSets[\"MinI_VertexSet\"] + mesh.specialSets[\"MaxI_VertexSet\"]\n",
    "jWalls = mesh.specialSets[\"MinJ_VertexSet\"] + mesh.specialSets[\"MaxJ_VertexSet\"]\n",
    "tWalls = mesh.specialSets[\"MaxJ_VertexSet\"]\n",
    "bWalls =mesh.specialSets[\"MinJ_VertexSet\"]\n",
    "\n",
    "VelBCs = mesh.specialSets[\"Empty\"]\n",
    "\n",
    "\n",
    "\n",
    "if md.velBcs:\n",
    "    for index in list(tWalls.data):\n",
    "\n",
    "        if (mesh.data[int(index)][0] < (ndp.subzone - 0.05*md.aspectRatio) and \n",
    "            mesh.data[int(index)][0] > (mesh.minCoord[0] + 0.05*md.aspectRatio)): #Only push with a portion of teh overiding plate\n",
    "            #print \"first\"\n",
    "            VelBCs.add(int(index))\n",
    "            #Set the plate velocities for the kinematic phase\n",
    "            velocityField.data[index] = [ndp.plate_vel, 0.]\n",
    "        \n",
    "        elif (mesh.data[int(index)][0] > (ndp.subzone + 0.05*md.aspectRatio) and \n",
    "            mesh.data[int(index)][0] < (mesh.maxCoord[0] - 0.05*md.aspectRatio)):\n",
    "            #print \"second\"\n",
    "            VelBCs.add(int(index))\n",
    "            #Set the plate velocities for the kinematic phase\n",
    "            velocityField.data[index] = [0., 0.]\n",
    "        \n",
    "\n",
    "#If periodic, we'll fix a the x-vel at a single node - at the bottom left (index 0)\n",
    "Fixed = mesh.specialSets[\"Empty\"]\n",
    "Fixed.add(int(0))        \n",
    "        \n",
    "\n",
    "if periodic[0] == False:\n",
    "    if md.velBcs:\n",
    "        print(1)\n",
    "        freeslipBC = uw.conditions.DirichletCondition( variable      = velocityField, \n",
    "                                               indexSetsPerDof = ( iWalls + VelBCs, jWalls) )\n",
    "    else:\n",
    "        print(2)\n",
    "        freeslipBC = uw.conditions.DirichletCondition( variable      = velocityField, \n",
    "                                               indexSetsPerDof = ( iWalls, jWalls) )\n",
    "\n",
    "\n",
    "\n",
    "\n",
    "\n",
    "\n",
    "if periodic[0] == True:\n",
    "    if md.velBcs:\n",
    "        print(3)\n",
    "        freeslipBC = uw.conditions.DirichletCondition( variable      = velocityField, \n",
    "                                               indexSetsPerDof = ( Fixed + VelBCs , jWalls) )\n",
    "    else:\n",
    "        print(4)\n",
    "        freeslipBC = uw.conditions.DirichletCondition( variable      = velocityField, \n",
    "                                               indexSetsPerDof = ( Fixed, jWalls) )\n",
    "        \n",
    "    \n",
    "    \n",
    "    \n",
    "# also set dirichlet for temp field\n",
    "dirichTempBC = uw.conditions.DirichletCondition(     variable=temperatureField, \n",
    "                                              indexSetsPerDof=(tWalls,) )\n",
    "dT_dy = [0.,0.]\n",
    "\n",
    "# also set dirichlet for temp field\n",
    "neumannTempBC = uw.conditions.NeumannCondition( dT_dy, variable=temperatureField, \n",
    "                                         nodeIndexSet=bWalls)\n",
    "\n"
   ]
  },
  {
   "cell_type": "code",
   "execution_count": null,
   "metadata": {
    "collapsed": false
   },
   "outputs": [],
   "source": []
  },
  {
   "cell_type": "code",
   "execution_count": 38,
   "metadata": {
    "collapsed": false
   },
   "outputs": [],
   "source": [
    "#check VelBCs are where we want them\n",
    "#test = np.zeros(len(tWalls.data))\n",
    "#VelBCs\n",
    "#tWalls.data\n",
    "#tWalls.data[VelBCs.data]\n",
    "#test[np.in1d(tWalls.data, VelBCs.data)] = 1.\n",
    "#test\n",
    "\n"
   ]
  },
  {
   "cell_type": "code",
   "execution_count": null,
   "metadata": {
    "collapsed": false
   },
   "outputs": [],
   "source": []
  },
  {
   "cell_type": "markdown",
   "metadata": {},
   "source": [
    "Swarm setup\n",
    "-----\n"
   ]
  },
  {
   "cell_type": "code",
   "execution_count": 39,
   "metadata": {
    "collapsed": false
   },
   "outputs": [],
   "source": [
    "###########\n",
    "#Material Swarm and variables\n",
    "###########\n",
    "\n",
    "#create material swarm\n",
    "gSwarm = uw.swarm.Swarm(mesh=mesh, particleEscape=True)\n",
    "\n",
    "#create swarm variables\n",
    "yieldingCheck = gSwarm.add_variable( dataType=\"int\", count=1 )\n",
    "materialVariable = gSwarm.add_variable( dataType=\"int\", count=1 )\n",
    "ageVariable = gSwarm.add_variable( dataType=\"double\", count=1 )\n",
    "\n",
    "\n",
    "#these lists  are part of the checkpointing implementation\n",
    "varlist = [materialVariable, yieldingCheck, ageVariable]\n",
    "varnames = ['materialVariable', 'yieldingCheck', 'ageVariable']"
   ]
  },
  {
   "cell_type": "code",
   "execution_count": 40,
   "metadata": {
    "collapsed": false
   },
   "outputs": [],
   "source": [
    "mantleIndex = 0\n",
    "crustIndex = 1\n",
    "harzIndex = 2\n",
    "airIndex = 3\n",
    "\n",
    "\n",
    "\n",
    "if checkpointLoad:\n",
    "    temperatureField.load(os.path.join(checkpointLoadDir, \"temperatureField\" + \".hdf5\"))\n",
    "    pressureField.load(os.path.join(checkpointLoadDir, \"pressureField\" + \".hdf5\"))\n",
    "    velocityField.load(os.path.join(checkpointLoadDir, \"velocityField\" + \".hdf5\"))\n",
    "    gSwarm.load(os.path.join(checkpointLoadDir, \"swarm\" + \".h5\"))\n",
    "    for ix in range(len(varlist)):\n",
    "        varb = varlist[ix]\n",
    "        varb.load(os.path.join(checkpointLoadDir,varnames[ix] + \".h5\"))\n",
    "\n",
    "else:\n",
    "\n",
    "    # Layouts are used to populate the swarm across the whole domain\n",
    "    layout = uw.swarm.layouts.PerCellRandomLayout(swarm=gSwarm, particlesPerCell=int(md.ppc))\n",
    "    gSwarm.populate_using_layout( layout=layout ) # Now use it to populate.\n",
    "    # Swarm variables\n",
    "    materialVariable.data[:] = mantleIndex\n",
    "    #tracerVariable.data[:] = 1\n",
    "    yieldingCheck.data[:] = 0\n",
    "    ageVariable.data[:] = -1\n",
    "\n",
    "    #Set initial air and crust materials (allow the graph to take care of lithsophere)\n",
    "    #########\n",
    "    #This initial material setup will be model dependent\n",
    "    #########\n",
    "    for particleID in range(gSwarm.particleCoordinates.data.shape[0]):\n",
    "        if (1. - gSwarm.particleCoordinates.data[particleID][1]) < ndp.MANTLETOCRUST:\n",
    "                 materialVariable.data[particleID] = crustIndex"
   ]
  },
  {
   "cell_type": "code",
   "execution_count": 41,
   "metadata": {
    "collapsed": false
   },
   "outputs": [
    {
     "data": {
      "text/plain": [
       "array([ 0, -1, -1,  1,  2,  3], dtype=int32)"
      ]
     },
     "execution_count": 41,
     "metadata": {},
     "output_type": "execute_result"
    }
   ],
   "source": [
    "###########\n",
    "#Little swarm to track subduction zone, ridge location\n",
    "###########\n",
    "swarmPlateBoundary = uw.swarm.Swarm( mesh=mesh )\n",
    "\n",
    "swarmCoords = np.array([ [0.0,1.], [-0.6999,1.],[0.6999,1.],[ndp.subzone,1.], [ndp.lRidge,1.],[ndp.rRidge,1.]])\n",
    "\n",
    "\n",
    "swarmPlateBoundary.add_particles_with_coordinates(swarmCoords)"
   ]
  },
  {
   "cell_type": "markdown",
   "metadata": {
    "collapsed": false
   },
   "source": [
    "###########\n",
    "#This block sets up a checkboard layout of passive tracers\n",
    "###########\n",
    "\n",
    "square_size = 0.1\n",
    "xlist = np.arange(mesh.minCoord[0] + square_size/2., mesh.maxCoord[0] + square_size/2., square_size)\n",
    "xlist = zip(xlist[:], xlist[1:])[::2]\n",
    "ylist = np.arange(mesh.minCoord[1] + square_size/2., mesh.maxCoord[1] + square_size/2., square_size)\n",
    "ylist = zip(ylist[:], ylist[1:])[::2]\n",
    "xops = []\n",
    "for vals in xlist:\n",
    "    xops.append( (operator.and_(   operator.gt(coordinate[0],vals[0]),   operator.lt(coordinate[0],vals[1])  ),0.) )\n",
    "xops.append((True,1.))\n",
    "\n",
    "testfunc = fn.branching.conditional(xops) \n",
    "\n",
    "yops = []\n",
    "for vals in ylist:\n",
    "    yops.append( (operator.and_(   operator.gt(coordinate[1],vals[0]),   operator.lt(coordinate[1],vals[1])  ),0.) )\n",
    "yops.append((True,testfunc))\n",
    "\n",
    "testfunc2 = fn.branching.conditional(yops) \n",
    "tracerVariable.data[:] = testfunc.evaluate(gSwarm)\n",
    "tracerVariable.data[:] = testfunc2.evaluate(gSwarm)"
   ]
  },
  {
   "cell_type": "code",
   "execution_count": null,
   "metadata": {
    "collapsed": false
   },
   "outputs": [],
   "source": []
  },
  {
   "cell_type": "code",
   "execution_count": 42,
   "metadata": {
    "collapsed": false
   },
   "outputs": [],
   "source": [
    "##############\n",
    "#Set the initial particle age for particles above the critical depth; \n",
    "#only material older than crustageCond will be transformed to crust / harzburgite\n",
    "##############\n",
    "\n",
    "ageVariable.data[:] = 0. #start with all zero\n",
    "ageVariable.data[:] = ageFn.evaluate(gSwarm)/sf.SR\n",
    "crustageCond = 2e6*(3600.*365.*24.)/sf.SR #set inital age above critical depth. (x...Ma)\n",
    "\n",
    "\n",
    "\n",
    "ageConditions = [ (depthFn < ndp.AGETRACKDEPTH, ageVariable),  #In the main loop we add ageVariable + dt here\n",
    "                  (True, 0.) ]\n",
    "                 \n",
    "#apply conditional \n",
    "ageVariable.data[:] = fn.branching.conditional( ageConditions ).evaluate(gSwarm)\n",
    "\n",
    "ageDT = 0.#this is used in the main loop for short term time increments"
   ]
  },
  {
   "cell_type": "code",
   "execution_count": 43,
   "metadata": {
    "collapsed": false
   },
   "outputs": [],
   "source": [
    "#fig= glucifer.Figure()\n",
    "#fig.append( glucifer.objects.Points(gSwarm,ageVariable))\n",
    "#fig.append( glucifer.objects.Points(gSwarm, viscosityMapFn, logScale=True, valueRange =[1e-3,1e5]))\n",
    "\n",
    "\n",
    "#fig.show()"
   ]
  },
  {
   "cell_type": "code",
   "execution_count": 44,
   "metadata": {
    "collapsed": false
   },
   "outputs": [],
   "source": [
    "##############\n",
    "#Here we set up a directed graph object that we we use to control the transformation from one material type to another\n",
    "##############\n",
    "\n",
    "#All depth conditions are given as (km/D) where D is the length scale,\n",
    "#note that 'model depths' are used, e.g. 1-z, where z is the vertical Underworld coordinate\n",
    "#All temp conditions are in dimensionless temp. [0. - 1.]\n",
    "\n",
    "#Need a list of all material indexes (safer in parallel)\n",
    "material_list = [0,1,2,3]\n",
    "\n",
    "if not checkpointLoad:\n",
    "    materialVariable.data[:] = 0 #Initialize to zero \n",
    "\n",
    "#Setup the graph object\n",
    "DG = material_graph.MatGraph()\n",
    "\n",
    "#Important: First thing to do is to add all the material types to the graph (i.e add nodes)\n",
    "DG.add_nodes_from(material_list)\n",
    "\n",
    "#Now set the conditions for transformations\n",
    "\n",
    "hs = 2e3/dp.LS  #add some hysteresis to the depths of transition\n",
    "\n",
    "#... to mantle\n",
    "DG.add_transition((crustIndex,mantleIndex), depthFn, operator.gt, ndp.CRUSTTOMANTLE + hs)\n",
    "DG.add_transition((harzIndex,mantleIndex), depthFn, operator.gt, ndp.CRUSTTOMANTLE + hs)\n",
    "DG.add_transition((airIndex,mantleIndex), depthFn, operator.gt, ndp.TOPOHEIGHT + hs)\n",
    "\n",
    "#... to crust\n",
    "DG.add_transition((mantleIndex,crustIndex), depthFn, operator.lt, ndp.MANTLETOCRUST)\n",
    "DG.add_transition((mantleIndex,crustIndex), xFn, operator.lt, ndp.subzone + 4.*ndp.MANTLETOCRUST) #No crust on the upper plate\n",
    "DG.add_transition((mantleIndex,crustIndex), ageVariable, operator.gt, crustageCond)\n",
    "\n",
    "\n",
    "DG.add_transition((harzIndex,crustIndex), depthFn, operator.lt, ndp.MANTLETOCRUST)\n",
    "DG.add_transition((harzIndex,crustIndex), xFn, operator.lt, ndp.subzone + 4.*ndp.MANTLETOCRUST) #This one sets no crust on the upper plate\n",
    "DG.add_transition((harzIndex,crustIndex), ageVariable, operator.gt, crustageCond)\n",
    "\n",
    "#... to Harzbugite\n",
    "DG.add_transition((mantleIndex,harzIndex), depthFn, operator.lt, ndp.HARZBURGDEPTH)\n",
    "DG.add_transition((mantleIndex,harzIndex), depthFn, operator.gt, ndp.MANTLETOCRUST)\n",
    "DG.add_transition((mantleIndex,harzIndex), ageVariable, operator.gt, crustageCond) #Note we can mix functions and swarm variabls\n",
    "\n",
    "\n",
    "#... to air\n",
    "DG.add_transition((mantleIndex,airIndex), depthFn, operator.lt,0.)\n",
    "DG.add_transition((crustIndex,airIndex), depthFn, operator.lt, 0. )\n",
    "DG.add_transition((harzIndex,airIndex), depthFn, operator.lt, 0. )\n"
   ]
  },
  {
   "cell_type": "code",
   "execution_count": 45,
   "metadata": {
    "collapsed": false
   },
   "outputs": [],
   "source": [
    "#CRUSTTOMANTLE, HARZBURGDEPTH, 0. + 7.*MANTLETOCRUST"
   ]
  },
  {
   "cell_type": "code",
   "execution_count": 46,
   "metadata": {
    "collapsed": false
   },
   "outputs": [],
   "source": [
    "#gSwarm.particleCoordinates.data[particleID][1]"
   ]
  },
  {
   "cell_type": "code",
   "execution_count": 47,
   "metadata": {
    "collapsed": false
   },
   "outputs": [],
   "source": [
    "##############\n",
    "#For the slab_IC, we'll also add a crustal weak zone following the dipping perturbation\n",
    "##############\n",
    "\n",
    "if checkpointLoad != True:\n",
    "    if not md.symmetricIcs:\n",
    "        for particleID in range(gSwarm.particleCoordinates.data.shape[0]):\n",
    "            if gSwarm.particleCoordinates.data[particleID][1] < 0.:\n",
    "                materialVariable.data[particleID] = airIndex\n",
    "                \n",
    "            elif (\n",
    "                Oc.evaluate(list(gSwarm.particleCoordinates.data[particleID])) and\n",
    "                Tri.evaluate(list(gSwarm.particleCoordinates.data[particleID])) and\n",
    "                gSwarm.particleCoordinates.data[particleID][1] > (MAXY - ndp.maxDepth) and\n",
    "                Cc.evaluate(list(gSwarm.particleCoordinates.data[particleID])) == False\n",
    "                \n",
    "                ):\n",
    "                materialVariable.data[particleID] = crustIndex\n",
    "                \n",
    "            elif (\n",
    "                Oc.evaluate(list(gSwarm.particleCoordinates.data[particleID])) and\n",
    "                Tri.evaluate(list(gSwarm.particleCoordinates.data[particleID])) and\n",
    "                gSwarm.particleCoordinates.data[particleID][1] > (MAXY - ndp.maxDepth) and\n",
    "                Hc.evaluate(list(gSwarm.particleCoordinates.data[particleID])) == False\n",
    "                \n",
    "                ):\n",
    "                materialVariable.data[particleID] = harzIndex"
   ]
  },
  {
   "cell_type": "code",
   "execution_count": 48,
   "metadata": {
    "collapsed": false
   },
   "outputs": [],
   "source": [
    "##############\n",
    "#This is how we use the material graph object to test / apply material transformations\n",
    "##############\n",
    "DG.build_condition_list(materialVariable)\n",
    "\n",
    "for i in range(2): #Need to go through a number of times\n",
    "    materialVariable.data[:] = fn.branching.conditional(DG.condition_list).evaluate(gSwarm)"
   ]
  },
  {
   "cell_type": "code",
   "execution_count": 49,
   "metadata": {
    "collapsed": false
   },
   "outputs": [],
   "source": [
    "#maxDepth"
   ]
  },
  {
   "cell_type": "markdown",
   "metadata": {
    "collapsed": false
   },
   "source": [
    "## Fault stuff\n",
    "\n"
   ]
  },
  {
   "cell_type": "code",
   "execution_count": 51,
   "metadata": {
    "collapsed": false
   },
   "outputs": [
    {
     "name": "stderr",
     "output_type": "stream",
     "text": [
      "/workspace/2dthermalslabs/kaplan/unsupported_dan/interfaces/__init__.py:9: UserWarning: \n",
      "\n",
      "The interface module is not supported.\n",
      "Questions should be addressed to louis.moresi@unimelb.edu.au \n",
      " \n",
      "  Questions should be addressed to louis.moresi@unimelb.edu.au \\n \"\"\"\n",
      "/workspace/2dthermalslabs/kaplan/unsupported_dan/faults/__init__.py:9: UserWarning: \n",
      "\n",
      "The fault module is not supported.\n",
      "Questions should be addressed to louis.moresi@unimelb.edu.au \n",
      " \n",
      "  Questions should be addressed to louis.moresi@unimelb.edu.au \\n \"\"\"\n"
     ]
    }
   ],
   "source": [
    "from unsupported_dan.interfaces.marker2D import markerLine2D\n",
    "from unsupported_dan.faults.faults2D import fault2D, fault_collection"
   ]
  },
  {
   "cell_type": "code",
   "execution_count": 129,
   "metadata": {
    "collapsed": true
   },
   "outputs": [],
   "source": [
    "def copy_markerLine2D(ml, thickness=False, ID=False):\n",
    "    \n",
    "    \"\"\"\n",
    "    \n",
    "    \"\"\"\n",
    "    if not thickness:\n",
    "        thickness = ml.thickness\n",
    "    if not ID:\n",
    "        ID = -1*ml.ID\n",
    "    new_line = markerLine2D(mesh, velocityField, [], [], thickness,  ID)\n",
    "    if ml.swarm.particleCoordinates.data.shape[0] > 0:\n",
    "        new_line.swarm.add_particles_with_coordinates(ml.swarm.particleCoordinates.data.copy())\n",
    "        \n",
    "    new_line.rebuild()\n",
    "    return new_line"
   ]
  },
  {
   "cell_type": "code",
   "execution_count": 52,
   "metadata": {
    "collapsed": true
   },
   "outputs": [],
   "source": [
    "###########\n",
    "#Initial Coordinates for inerfaces and faults\n",
    "###########\n",
    "\n",
    "#subduction fault\n",
    "introPoint = ndp.subzone - abs(ndp.subzone - ndp.lRidge)/2. #half way between ridge and Sz\n",
    "faultthickness = ndp.MANTLETOCRUST #initialise fault at bottom of the crust\n",
    "nfault = 1000\n",
    "faultCoords =np.zeros((nfault, 2))\n",
    "\n",
    "reducedRocM = ndp.roc  - faultthickness\n",
    "xlimslab = reducedRocM*math.cos(math.pi*(90. - dp.theta)/180)\n",
    "faultCoords[:, 0] = np.linspace(introPoint, ndp.subzone + xlimslab, nfault) #note SZ location is hardcoded here \n",
    "for index, xval in np.ndenumerate(faultCoords[:,0]):\n",
    "    #print index, xval\n",
    "    #swarmCoords[index[0], 1] = 1. - isodepthFn.evaluate((xval, 0.)) #This bit for the plate \n",
    "    if  xval < ndp.subzone:\n",
    "        faultCoords[index[0], 1] = MAXY - faultthickness #This bit for the plate \n",
    "        \n",
    "    else:\n",
    "        faultCoords[index[0], 1] = (MAXY - (faultthickness) - (reducedRocM - ( math.sqrt((reducedRocM**2 - (xval-ndp.subzone)**2)))))\n",
    "        \n",
    "    \n",
    "faultCoords = faultCoords[faultCoords[:,1] > (MAXY - ndp.maxDepth)] #kill any deeper than cutoff\n",
    "\n",
    "\n",
    "#surface tracer interface:\n",
    "surfaceCoords =np.ones((nfault, 2))*1.\n",
    "surfaceCoords[:,0] = np.linspace(MINX, MAXX, nfault)\n",
    "\n",
    "\n",
    "\n"
   ]
  },
  {
   "cell_type": "code",
   "execution_count": 53,
   "metadata": {
    "collapsed": false
   },
   "outputs": [],
   "source": [
    "#Initiaze the swarms in a \n",
    "fault  = fault2D(mesh, velocityField, [], [], faultthickness, 0., 0., crustIndex)\n",
    "surface  = fault2D(mesh, velocityField, [], [], ndp.StALS, 0., 0., airIndex)\n",
    "#slab_seg  = marker2D.markerLine2D(mesh, velocityField, [], [], 1e9/dp.LS, crustIndex)   #Note very large fault thickness \n",
    "\n",
    "fault_coll = fault_collection([fault])\n",
    "\n",
    "\n",
    "\n",
    "#Initiaze the swarms in a \n",
    "#fault_seg  = marker2D.markerLine2D(mesh, velocityField, [], [], faultthickness, 0.0, 0.0, crustIndex)\n",
    "#surface_seg  = marker2D.markerLine2D(mesh, velocityField, [], [], ndp.StALS, 0.0, 0.0, airIndex)\n",
    "#slab_seg  = marker2D.markerLine2D(mesh, velocityField, [], [], 1e9/dp.LS, 0.0, 0.0, crustIndex)   #Note very large fault thickness\n",
    "\n",
    "#These lists are used to checkpoint the marker lines, similar to the swarm variables.        \n",
    "interfaces = []\n",
    "interfaces.append(fault)\n",
    "interfaces.append(surface)\n",
    "interfacenames = ['fault_seg', 'surface_seg']\n",
    "\n",
    "\n",
    "#If restarting, load the swarms from file Interfaces are just swarms, so should be fine to rely on parallel h5 machinery here\n",
    "if checkpointLoad:\n",
    "    for ix in range(len(interfaces)):\n",
    "        tempname = interfacenames[ix]\n",
    "        interfaces[ix].swarm.load(os.path.join(checkpointLoadDir,  tempname + \".h5\"))\n",
    "\n",
    "#otherwise add the point from at the initial locations\n",
    "else:\n",
    "    fault.add_points(faultCoords[:, 0], faultCoords[:, 1])\n",
    "    surface.add_points(surfaceCoords[:, 0], surfaceCoords[:, 1])\n",
    "    #slab_seg.add_points(slabCoords[:, 0], slabCoords[:, 1]) \n",
    "    \n"
   ]
  },
  {
   "cell_type": "code",
   "execution_count": 54,
   "metadata": {
    "collapsed": true
   },
   "outputs": [],
   "source": [
    "#Add the necessary swarm variables\n",
    "\n",
    "proximityVariable      = gSwarm.add_variable( dataType=\"int\", count=1 )\n",
    "signedDistanceVariable = gSwarm.add_variable( dataType=\"float\", count=1 )\n",
    "directorVector   = gSwarm.add_variable( dataType=\"double\", count=2)\n",
    "\n",
    "directorVector.data[:,:] = 0.0\n",
    "proximityVariable.data[:] = 0\n",
    "signedDistanceVariable.data[:] = 0.0"
   ]
  },
  {
   "cell_type": "code",
   "execution_count": 55,
   "metadata": {
    "collapsed": false
   },
   "outputs": [],
   "source": [
    "#inform the mesh of the fault\n",
    "\n",
    "sd, pts0 = fault.compute_signed_distance(gSwarm.particleCoordinates.data, distance=w0)\n",
    "sp, pts0 = fault.compute_marker_proximity(gSwarm.particleCoordinates.data)\n",
    "\n",
    "proximityVariable.data[np.logical_and(sd<0,sp == fault.ID)] = sp[np.logical_and(sd<0,sp == fault.ID)]\n",
    "\n",
    "dv, nzv = fault.compute_normals(gSwarm.particleCoordinates.data)\n",
    "directorVector.data[nzv] = dv[nzv]\n",
    "\n",
    "\n",
    "\n",
    "\n",
    "edotn_SFn, edots_SFn = fault_coll.global_fault_strainrate_fns(velocityField, directorVector, proximityVariable)\n"
   ]
  },
  {
   "cell_type": "code",
   "execution_count": 56,
   "metadata": {
    "collapsed": false
   },
   "outputs": [],
   "source": [
    "\n",
    "\n",
    "# Call the Fault helper functions to initialize this info on the main material swarm\n",
    "    \n",
    "#update_swarm_from_faults(surface_seg, proximityVariable, directorVector, signedDistanceVariable)\n",
    "#mask_materials(surface_seg, airIndex, materialVariable, proximityVariable, directorVector, signedDistanceVariable)\n",
    "\n",
    "#update_swarm_from_faults(fault_seg, proximityVariable, directorVector, signedDistanceVariable)\n",
    "#mask_materials(fault_seg, crustIndex, materialVariable, proximityVariable, directorVector, signedDistanceVariable)\n",
    "\n",
    "#Also switch off proximity beneath ndp.CRUSTVISCUTOFF depth\n",
    "#proximityVariable.data[gSwarm.particleCoordinates.data[:,1]  < (1. - ndp.CRUSTVISCUTOFF)] = 0. \n",
    "\n",
    "# These should be general enough not to need updating when the faults move etc..\n",
    "#ie they should update as the fields/functions/swarm variables they are built on update\n",
    "#edotn_SFn, edots_SFn = fault_strainrate_fns(interfaces, velocityField, directorVector, proximityVariable)"
   ]
  },
  {
   "cell_type": "code",
   "execution_count": 57,
   "metadata": {
    "collapsed": false
   },
   "outputs": [
    {
     "data": {
      "text/html": [
       "<img src='data:image/png;base64,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'>"
      ],
      "text/plain": [
       "<IPython.core.display.HTML object>"
      ]
     },
     "metadata": {},
     "output_type": "display_data"
    },
    {
     "data": {
      "text/plain": [
       "'test.gldb'"
      ]
     },
     "execution_count": 57,
     "metadata": {},
     "output_type": "execute_result"
    }
   ],
   "source": [
    "## Take a look at the locations of the materials\n",
    "\n",
    "#Note we only use this mesh director for visualizing the directorVector (vector-on-swarm viewing not suppoted yet)\n",
    "#meshDirector = uw.mesh.MeshVariable( mesh, 2 )\n",
    "#projectDirector = uw.utils.MeshVariable_Projection( meshDirector, directorVector, type=1 )\n",
    "#projectDirector.solve()    \n",
    "\n",
    "figMaterials = glucifer.Figure( figsize=(1200,400))\n",
    "\n",
    "#Plot swarm associated with each fault\n",
    "figMaterials.append( glucifer.objects.Points(fault.swarm, colours=\"Black Black\", pointSize=2.0, colourBar=False) )\n",
    "\n",
    "\n",
    "#plot mesh director viz. guy\n",
    "#figMaterials.append( glucifer.objects.VectorArrows(mesh, meshDirector, scaling=.08, \n",
    "#                                               resolutionI=100, resolutionJ=20, opacity=0.25) )\n",
    "\n",
    "\n",
    "#Proximity variable - this is the colour\n",
    "figMaterials.append( glucifer.objects.Points(gSwarm, proximityVariable, \n",
    "                                             pointSize=5.0,  opacity=0.75) )\n",
    "\n",
    "\n",
    "#signedDistanceVariable - this variable goes to zero where the proximity cutoff is\n",
    "#note that it's signed...faults have a direction\n",
    "#figMaterials.append( glucifer.objects.Points(gSwarm, signedDistanceVariable, \n",
    "#                                             pointSize=2.0))\n",
    "\n",
    "#Add mesh\n",
    "#figMaterials.append( glucifer.objects.Mesh(mesh, opacity=0.1) )\n",
    "\n",
    "figMaterials.show()\n",
    "figMaterials.save_database('test.gldb')"
   ]
  },
  {
   "cell_type": "markdown",
   "metadata": {},
   "source": [
    "Rheology\n",
    "-----\n",
    "\n"
   ]
  },
  {
   "cell_type": "code",
   "execution_count": 58,
   "metadata": {
    "collapsed": false
   },
   "outputs": [],
   "source": [
    "##############\n",
    "#Set up any functions required by the rheology\n",
    "##############\n",
    "strainRate_2ndInvariant = fn.tensor.second_invariant( \n",
    "                            fn.tensor.symmetric( \n",
    "                            velocityField.fn_gradient ))\n",
    "\n",
    "def safe_visc(func, viscmin=ndp.eta_min, viscmax=ndp.eta_max):\n",
    "    return fn.misc.max(viscmin, fn.misc.min(viscmax, func))"
   ]
  },
  {
   "cell_type": "code",
   "execution_count": 59,
   "metadata": {
    "collapsed": true
   },
   "outputs": [],
   "source": [
    "#strainRate_2ndInvariant = fn.misc.constant(ndp.SR) #dummy fucntion to check which mechanisms are at active are reference strain rate"
   ]
  },
  {
   "cell_type": "code",
   "execution_count": 60,
   "metadata": {
    "collapsed": false
   },
   "outputs": [],
   "source": [
    "############\n",
    "#Rheology: create UW2 functions for all viscous mechanisms\n",
    "#############\n",
    "omega = fn.misc.constant(1.) #this function can hold any arbitary viscosity modifications \n",
    "\n",
    "\n",
    "##Diffusion Creep\n",
    "#diffusion0 = fn.misc.min(ndp.eta_max, fn.math.exp(-1*ndp.Edf + ndp.Edf / (temperatureField + 1e-8)))\n",
    "#diffusion = fn.math.exp(ndp.Edf / (temperatureField + ndp.TS))\n",
    "\n",
    "\n",
    "#Note Because we're not using the pressure term, creep values will be unrealistically low at higehr temps. \n",
    "#However this adpatation of theflow law gives us a nearly iso-viscous mantle, and a consistent viscosity (eta(T)) profile in the lithsphere\n",
    "dfScale = (math.exp(ndp.Edf/(1. + ndp.TS) ))\n",
    "diffusion = safe_visc((1./dfScale)*fn.math.exp(ndp.Edf / (temperatureField + ndp.TS)))\n",
    "\n",
    "##Define the Plasticity\n",
    "ys =  ndp.cm + (depthFn*ndp.fcmd)\n",
    "ysMax = 10e4*1e6*sf.stress\n",
    "ysf = fn.misc.min(ys, ysMax)\n",
    "yielding = ysf/(2.*(strainRate_2ndInvariant))\n",
    "\n",
    "##Crust rheology\n",
    "#crustys =  ndp.cohesion*ndp.crust_cohesion_fac + (depthFn*ndp.fcd*ndp.crust_fc_fac)\n",
    "crustys =  ndp.cc + (depthFn*ndp.fccd) #only weakened cohesion is discussed, not fc\n",
    "crustvisc = crustys/(2.*(strainRate_2ndInvariant)) \n",
    "\n",
    "\n",
    "##Interface rheology\n",
    "interfaceys =  ndp.ci + (depthFn*ndp.fcid) #only weakened cohesion is discussed, not fc\n",
    "interfacevisc = interfaceys/(2.*(strainRate_2ndInvariant))\n"
   ]
  },
  {
   "cell_type": "code",
   "execution_count": 61,
   "metadata": {
    "collapsed": false
   },
   "outputs": [
    {
     "data": {
      "text/plain": [
       "2327985428.547984"
      ]
     },
     "execution_count": 61,
     "metadata": {},
     "output_type": "execute_result"
    }
   ],
   "source": [
    "\n",
    "(math.exp(ndp.Edf/(1. + ndp.TS) ))"
   ]
  },
  {
   "cell_type": "code",
   "execution_count": 62,
   "metadata": {
    "collapsed": false
   },
   "outputs": [],
   "source": [
    "#diffusion.evaluate(mesh).min()"
   ]
  },
  {
   "cell_type": "code",
   "execution_count": 63,
   "metadata": {
    "collapsed": false
   },
   "outputs": [],
   "source": [
    "#fig2= glucifer.Figure()\n",
    "#fig2.append( glucifer.objects.Surface(mesh, diffusion, logScale=True))\n",
    "\n",
    "#fig2.show()"
   ]
  },
  {
   "cell_type": "code",
   "execution_count": 64,
   "metadata": {
    "collapsed": false
   },
   "outputs": [],
   "source": [
    "############\n",
    "#Rheology: combine viscous mechanisms in various ways \n",
    "#harmonic: harmonic average of all mechanims\n",
    "#min: minimum effective viscosity of the mechanims\n",
    "#mixed: takes the minimum of the harmonic and the plastic effective viscosity\n",
    "#############\n",
    "\n",
    "#linear rheology \n",
    "linearviscosityFn = safe_visc(diffusion)\n",
    "\n",
    "\n",
    "\n",
    "interfaceCond = operator.and_((depthFn < ndp.CRUSTVISCUTOFF), (depthFn > ndp.MANTLETOCRUST))    \n",
    "\n",
    "\n",
    "#combined rheology    \n",
    "finalviscosityFn  = fn.branching.conditional([(depthFn < ndp.LOWMANTLEDEPTH, safe_visc(fn.misc.min(diffusion, yielding))),\n",
    "                                  (True, safe_visc(safe_visc(diffusion*ndp.low_mantle_visc_fac)))])\n",
    "\n",
    "#crust rheology    \n",
    "#finalcrustviscosityFn = safe_visc(fn.misc.min(ndp.eta_max_crust, \n",
    "#                                              crustyielding)) #cohesion weakening factor also applies to eta_0\n",
    "\n",
    "crustviscosityFn = safe_visc(fn.misc.min(linearviscosityFn, crustvisc), ndp.eta_max_crust)\n",
    "interfaceviscosityFn = safe_visc(fn.misc.min(linearviscosityFn, interfacevisc), ndp.eta_max_interface)\n",
    "\n",
    "if ndp.eta_max_crust == ndp.eta_min_crust: #If these are equal, set to constant visc. \n",
    "    crustviscosityFn = fn.misc.constant(ndp.eta_min_crust)\n",
    "    \n",
    "if ndp.eta_max_interface == ndp.eta_min_interface: #If these are equal, set to constant visc. \n",
    "    interfaceviscosityFn = fn.misc.constant(ndp.eta_min_interface)\n",
    "    \n",
    "\n",
    "\n",
    "finalcrustviscosityFn  = fn.branching.conditional([(depthFn < ndp.MANTLETOCRUST, crustviscosityFn),\n",
    "                                                     (interfaceCond, interfaceviscosityFn), #\n",
    "                                                     (True, finalviscosityFn)])"
   ]
  },
  {
   "cell_type": "markdown",
   "metadata": {},
   "source": [
    "Stokes system setup\n",
    "-----\n"
   ]
  },
  {
   "cell_type": "code",
   "execution_count": 65,
   "metadata": {
    "collapsed": true
   },
   "outputs": [],
   "source": [
    "buoyancyFn =  ndp.RA*temperatureField\n"
   ]
  },
  {
   "cell_type": "code",
   "execution_count": 66,
   "metadata": {
    "collapsed": false
   },
   "outputs": [],
   "source": [
    "densityMapFn = fn.branching.map( fn_key = materialVariable,\n",
    "                         mapping = {airIndex:ndp.StRA,\n",
    "                                    crustIndex:buoyancyFn, \n",
    "                                    mantleIndex:buoyancyFn,\n",
    "                                    harzIndex:buoyancyFn} )"
   ]
  },
  {
   "cell_type": "code",
   "execution_count": 67,
   "metadata": {
    "collapsed": true
   },
   "outputs": [],
   "source": [
    "\n",
    "# Define our vertical unit vector using a python tuple (this will be automatically converted to a function).\n",
    "gravity = ( 0.0, 1.0 )\n",
    "\n",
    "# Now create a buoyancy force vector using the density and the vertical unit vector. \n",
    "buoyancyFn = densityMapFn * gravity"
   ]
  },
  {
   "cell_type": "code",
   "execution_count": 68,
   "metadata": {
    "collapsed": false
   },
   "outputs": [
    {
     "name": "stderr",
     "output_type": "stream",
     "text": [
      "/root/underworld2/underworld/systems/_stokes.py:70: UserWarning: 'swarm' paramater has been renamed to 'voronoi_swarm'. Please update your models. 'swarm' parameter will be removed in the next release.\n",
      "  \"'swarm' parameter will be removed in the next release.\")\n"
     ]
    }
   ],
   "source": [
    "if md.PIC_integration:\n",
    "    stokesPIC = uw.systems.Stokes(velocityField=velocityField, \n",
    "                              pressureField=pressureField,\n",
    "                              conditions=[freeslipBC,],\n",
    "                              fn_viscosity=linearviscosityFn, \n",
    "                              fn_bodyforce=buoyancyFn,\n",
    "                             swarm=gSwarm)\n",
    "    \n",
    "\n",
    "else:\n",
    "    stokesPIC = uw.systems.Stokes(velocityField=velocityField, \n",
    "                              pressureField=pressureField,\n",
    "                              conditions=[freeslipBC,],\n",
    "                              fn_viscosity=linearviscosityFn, \n",
    "                              fn_bodyforce=buoyancyFn )"
   ]
  },
  {
   "cell_type": "code",
   "execution_count": 69,
   "metadata": {
    "collapsed": true
   },
   "outputs": [],
   "source": [
    "solver = uw.systems.Solver(stokesPIC)\n",
    "if not checkpointLoad:\n",
    "    solver.solve() #A solve on the linear visocisty is unhelpful unless we're starting from scratch"
   ]
  },
  {
   "cell_type": "code",
   "execution_count": 70,
   "metadata": {
    "collapsed": false
   },
   "outputs": [],
   "source": [
    "viscosityMapFn1 = fn.branching.map( fn_key = materialVariable,\n",
    "                         mapping = {crustIndex:finalcrustviscosityFn,\n",
    "                                    mantleIndex:finalviscosityFn,\n",
    "                                    harzIndex:finalviscosityFn,\n",
    "                                    airIndex:ndp.Steta_n} )\n",
    "\n",
    "\n",
    "delta_Steata2 = ndp.Steta_n - ndp.Steta_s\n",
    "delta_eta_fault = 0.\n",
    "\n",
    "if md.subductionFault:  \n",
    "    if ndp.eta_min_fault == ndp.eta_min_fault:#Transverse rheology is isoviscous\n",
    "        delta_eta_fault = fn.misc.min(0.999, fn.misc.max (0.,   ndp.eta_min_crust - ndp.eta_min_fault))       \n",
    "        \n",
    "    else:\n",
    "        #Transverse viscosity is related the Mohr-Coulomb criterion\n",
    "        delta_eta_fault = fn.misc.min(0.999, fn.misc.max (0., \n",
    "        viscosityMapFn1 - ((edotn_SFn*viscosityMapFn1 + ndp.fcfd * pressureField)  + ndp.cf)/edots_SFn))\n",
    "   "
   ]
  },
  {
   "cell_type": "code",
   "execution_count": 76,
   "metadata": {
    "collapsed": false
   },
   "outputs": [],
   "source": [
    "# This one maps to my fault-proximity variable (which also picks only materialV)\n",
    "viscosityMapFn2    = { 0: 0.0, \n",
    "                           1: delta_eta_fault, \n",
    "                           3: delta_Steata2\n",
    "                       }\n",
    "    \n",
    "\n",
    "viscosityMapFn2  = fn.branching.map( fn_key = proximityVariable, \n",
    "                                           mapping = viscosityMapFn2)"
   ]
  },
  {
   "cell_type": "code",
   "execution_count": 77,
   "metadata": {
    "collapsed": false
   },
   "outputs": [],
   "source": [
    "#orientation = -1.*90. * math.pi / 180.0  #vertical\n",
    "#math.cos(orientation), math.sin(orientation)"
   ]
  },
  {
   "cell_type": "code",
   "execution_count": 78,
   "metadata": {
    "collapsed": false
   },
   "outputs": [],
   "source": [
    "#stickyAir"
   ]
  },
  {
   "cell_type": "code",
   "execution_count": 79,
   "metadata": {
    "collapsed": false
   },
   "outputs": [],
   "source": [
    "#Add the non-linear viscosity to the Stokes system\n",
    "stokesPIC.fn_viscosity = viscosityMapFn1\n",
    "\n",
    "if md.stickyAir or md.subductionFault:\n",
    "    stokesPIC.fn_viscosity2 = viscosityMapFn2\n",
    "    stokesPIC._fn_director   = directorVector\n"
   ]
  },
  {
   "cell_type": "code",
   "execution_count": 80,
   "metadata": {
    "collapsed": false
   },
   "outputs": [
    {
     "name": "stdout",
     "output_type": "stream",
     "text": [
      "\u001b[1;35m\n",
      " \n",
      "Pressure iterations:   3\n",
      "Velocity iterations:   1 (presolve)      \n",
      "Velocity iterations:  -1 (pressure solve)\n",
      "Velocity iterations:   1 (backsolve)     \n",
      "Velocity iterations:   1 (total solve)   \n",
      " \n",
      "SCR RHS  solve time: 6.6929e-01\n",
      "Pressure solve time: 6.4343e-02\n",
      "Velocity solve time: 5.9662e-01 (backsolve)\n",
      "Total solve time   : 1.4895e+00\n",
      " \n",
      "Velocity solution min/max: 0.0000e+00/0.0000e+00\n",
      "Pressure solution min/max: 0.0000e+00/0.0000e+00\n",
      " \n",
      "\u001b[00m\n"
     ]
    }
   ],
   "source": [
    "solver.set_inner_method(\"mumps\")\n",
    "solver.options.scr.ksp_type=\"cg\"\n",
    "solver.set_penalty(1.0e7)\n",
    "solver.options.scr.ksp_rtol = 1.0e-4\n",
    "solver.solve(nonLinearIterate=True)\n",
    "solver.print_stats()"
   ]
  },
  {
   "cell_type": "code",
   "execution_count": 129,
   "metadata": {
    "collapsed": false
   },
   "outputs": [],
   "source": [
    "#Check which particles are yielding\n",
    "#yieldingCheck.data[:] = 0\n",
    "\n",
    "#yieldconditions = [ ( finalviscosityFn < Visc , 1), \n",
    "#               ( True                                           , 0) ]\n",
    "\n",
    "# use the branching conditional function to set each particle's index\n",
    "#yieldingCheck.data[:] = fn.branching.conditional( yieldconditions ).evaluate(gSwarm)"
   ]
  },
  {
   "cell_type": "code",
   "execution_count": 130,
   "metadata": {
    "collapsed": false
   },
   "outputs": [],
   "source": [
    "#velocityFieldIso       = uw.mesh.MeshVariable( mesh=mesh,         nodeDofCount=2 )\n",
    "#velocityFieldIso.data[:] = velocityField.data.copy()\n",
    "\n",
    "\n",
    "\n",
    "#strainRate_2ndInvariantIso = fn.tensor.second_invariant( \n",
    "#                            fn.tensor.symmetric( \n",
    "#                            velocityFieldIso.fn_gradient ))"
   ]
  },
  {
   "cell_type": "markdown",
   "metadata": {},
   "source": [
    "Advection-diffusion System setup\n",
    "-----"
   ]
  },
  {
   "cell_type": "code",
   "execution_count": 71,
   "metadata": {
    "collapsed": false
   },
   "outputs": [],
   "source": [
    "advDiff = uw.systems.AdvectionDiffusion( phiField       = temperatureField, \n",
    "                                         phiDotField    = temperatureDotField, \n",
    "                                         velocityField  = velocityField,\n",
    "                                         fn_sourceTerm    = 0.0,\n",
    "                                         fn_diffusivity = 1.0, \n",
    "                                         #conditions     = [neumannTempBC, dirichTempBC] )\n",
    "                                         conditions     = [ dirichTempBC] )\n",
    "\n",
    "passiveadvector = uw.systems.SwarmAdvector( swarm         = gSwarm, \n",
    "                                     velocityField = velocityField, \n",
    "                                     order         = 1)"
   ]
  },
  {
   "cell_type": "code",
   "execution_count": 72,
   "metadata": {
    "collapsed": true
   },
   "outputs": [],
   "source": [
    "population_control = uw.swarm.PopulationControl(gSwarm,deleteThreshold=0.2,splitThreshold=1.,maxDeletions=3,maxSplits=0, aggressive=True, particlesPerCell=int(md.ppc))"
   ]
  },
  {
   "cell_type": "markdown",
   "metadata": {},
   "source": [
    "Analysis functions / routines\n",
    "-----\n",
    "\n",
    "Most of the metrics we want to calculate are either:\n",
    "\n",
    "* extrema of some field / function\n",
    "* integral of some field / function\n",
    "* average value of some function (integral divide by area)\n",
    "\n",
    "In addition, we also want to be able to determine these metrics over some restricted part of the domain, where the restriction may either be due some value of a field, a material type, or something more arbitrary.\n",
    "\n",
    "Much of he challenge lies in defining these restriction functions in an efficient and robust way (i.e they don't break down as the model evolves)\n",
    "\n",
    "For volume integrals, and extrema, we build a hierarchy of restriction functions, each borrowing from the previous, until we have divided the domain into a number of sub regions of interest. \n",
    "\n",
    "In general, averages are found afterwards by combining the integral and the area of the relavent subregion"
   ]
  },
  {
   "cell_type": "code",
   "execution_count": 73,
   "metadata": {
    "collapsed": false
   },
   "outputs": [],
   "source": [
    "###################\n",
    "#Volume Restriction functions\n",
    "###################\n",
    "\n",
    "#Level 1. Global\n",
    "globRestFn = fn.misc.constant(1.)\n",
    "\n",
    "#Level 2. Rock - air:\n",
    "rockRestFn = uw.swarm.SwarmVariable(gSwarm, dataType='double', count=1)\n",
    "rockRestFn.data[:] = 0.\n",
    "rockRestFn.data[np.where(materialVariable.data[:] != airIndex)] = 1.\n",
    "rockRestFn *= globRestFn #Add next level up in heirarchy\n",
    "\n",
    "\n",
    "#Level 3. lithosphere - mantle:\n",
    "tempMM = fn.view.min_max(temperatureField)\n",
    "tempMM.evaluate(mesh)\n",
    "TMAX = tempMM.max_global()\n",
    "mantleconditions = [ (                                  operator.and_(temperatureField < 0.9*TMAX, operator.and_(xFn> ndp.lRidge,xFn< ndp.rRidge )), 1.),\n",
    "                   (                                                   True , 0.) ]\n",
    "lithRestFn = fn.branching.conditional(mantleconditions)\n",
    "lithRestFn*=rockRestFn #Add next level up in heirarchy\n",
    "\n",
    "\n",
    "#Level 4. lower plate - upper plate:\n",
    "\n",
    "\n",
    "#This whole section simply builds a restriction Fn that separates the upper and lower plate \n",
    "#It's pretty cumbersome, and will need to advected, rebuilt\n",
    "#can YOU think of a better way?\n",
    "   \n",
    "lowerPlateRestFn = gSwarm.add_variable( dataType=\"double\", count=1 )\n",
    "lowerPlateRestFn.data[:] = 0.0\n",
    "sd, pts0 = fault.compute_signed_distance(gSwarm.particleCoordinates.data, distance=w0)\n",
    "sp, pts0 = fault.compute_marker_proximity(gSwarm.particleCoordinates.data, distance=w0)\n",
    "\n",
    "lowerPlateRestFn.data[np.logical_and(sd>0,sp == fault.ID)] = sp[np.logical_and(sd>0,sp == fault.ID)]\n",
    "lowerPlateRestFn *= lithRestFn #Add next level up in heirarchy\n",
    "#The lowerPlateRestFn isn't working on restart - no idea why\n",
    "\n",
    "\n",
    "\n",
    "#Level 5. hinge of lower plate:\n",
    "\n",
    "hinge60Spatialconditions = [ (           operator.and_( (depthFn < (60e3/dp.LS)),  (xFn > ndp.subzone - 60e3/dp.LS)), 1.),\n",
    "                   (                                                   True , 0.) ]\n",
    "\n",
    "hinge60RestFn = fn.branching.conditional(hinge60Spatialconditions)\n",
    "hinge60RestFn*=lowerPlateRestFn #Add next level up in heirarchy\n",
    "\n",
    "\n",
    "\n",
    "hinge180Spatialconditions = [ (           operator.and_( (depthFn < (180e3/dp.LS)),  (xFn > ndp.subzone - 180e3/dp.LS)), 1.),\n",
    "                   (                                                   True , 0.) ]\n",
    "\n",
    "hinge180RestFn = fn.branching.conditional(hinge180Spatialconditions)\n",
    "hinge180RestFn*=lowerPlateRestFn #Add next level up in heirarchy\n",
    "\n",
    "\n",
    "#Level 6. crust/interface in hinge of lower plate:\n",
    "\n",
    "interfaceRestFn = uw.swarm.SwarmVariable(gSwarm, dataType='double', count=1)\n",
    "interfaceRestFn.data[:] = 0.\n",
    "interfaceRestFn.data[np.where(materialVariable.data[:] == crustIndex)] = 1.\n",
    "interfaceRestFn *= hinge60RestFn #Add next level up in heirarchy\n"
   ]
  },
  {
   "cell_type": "code",
   "execution_count": 74,
   "metadata": {
    "collapsed": false
   },
   "outputs": [],
   "source": [
    "respltconditions = [ \n",
    "                    (                                  hinge60RestFn*2. > rockRestFn*1., 1.),\n",
    "                    (                                  lowerPlateRestFn*3. > hinge60RestFn*2. , 3.),\n",
    "                    (                                  lithRestFn*5. > lowerPlateRestFn*3. , 4.),\n",
    "                   (                                                   True , 0.) ]\n",
    "\n",
    "respltFn = fn.branching.conditional(respltconditions )"
   ]
  },
  {
   "cell_type": "code",
   "execution_count": 75,
   "metadata": {
    "collapsed": false
   },
   "outputs": [
    {
     "data": {
      "text/html": [
       "<img src='data:image/png;base64,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'>"
      ],
      "text/plain": [
       "<IPython.core.display.HTML object>"
      ]
     },
     "metadata": {},
     "output_type": "display_data"
    }
   ],
   "source": [
    "figR= glucifer.Figure()\n",
    "#fig.append( glucifer.objects.Points(gSwarm,respltFn))\n",
    "#fig.append( glucifer.objects.Points(gSwarm,lithRestFn))\n",
    "figR.append( glucifer.objects.Points(gSwarm,lowerPlateRestFn))\n",
    "#fig.append( glucifer.objects.Points(gSwarm,hinge180RestFn))\n",
    "#fig.append( glucifer.objects.Points(gSwarm,interfaceRestFn))\n",
    "figR.show()\n",
    "#figR.save_database('lptest.gldb')"
   ]
  },
  {
   "cell_type": "code",
   "execution_count": 76,
   "metadata": {
    "collapsed": true
   },
   "outputs": [],
   "source": [
    "###################\n",
    "#Surface Restriction functions\n",
    "###################\n",
    "\n",
    "def platenessFn(val = 0.1):\n",
    "    normgradV = fn.math.abs(velocityField.fn_gradient[0]/fn.math.sqrt(velocityField[0]*velocityField[0])) #[du*/dx]/sqrt(u*u)\n",
    "\n",
    "\n",
    "\n",
    "    srconditions = [ (                                  normgradV < val, 1.),\n",
    "                   (                                                   True , 0.) ]\n",
    "\n",
    "\n",
    "    return fn.branching.conditional(srconditions)\n",
    "\n",
    "srRestFn = platenessFn(val = 0.1)"
   ]
  },
  {
   "cell_type": "code",
   "execution_count": 80,
   "metadata": {
    "collapsed": false
   },
   "outputs": [],
   "source": [
    "###################\n",
    "#Setup any Functions to be integrated\n",
    "###################\n",
    "\n",
    "sqrtv2 = fn.math.sqrt(fn.math.dot(velocityField,velocityField))\n",
    "vx = velocityField[0]\n",
    "v2x = fn.math.dot(velocityField[0],velocityField[0])\n",
    "sqrtv2x = fn.math.sqrt(fn.math.dot(velocityField[0],velocityField[0]))\n",
    "dw = temperatureField*velocityField[1]\n",
    "sinner = fn.math.dot( strainRate_2ndInvariant, strainRate_2ndInvariant )\n",
    "vd = 2.*viscosityMapFn1*sinner\n",
    "dTdZ = temperatureField.fn_gradient[1]\n",
    "\n"
   ]
  },
  {
   "cell_type": "code",
   "execution_count": 81,
   "metadata": {
    "collapsed": false
   },
   "outputs": [],
   "source": [
    "###################\n",
    "#Create integral, max/min templates \n",
    "###################\n",
    "\n",
    "def volumeint(Fn = 1., rFn=globRestFn):\n",
    "    return uw.utils.Integral( Fn*rFn,  mesh )\n",
    "\n",
    "def surfint(Fn = 1., rFn=globRestFn, surfaceIndexSet=mesh.specialSets[\"MaxJ_VertexSet\"]):\n",
    "    return uw.utils.Integral( Fn*rFn, mesh=mesh, integrationType='Surface', surfaceIndexSet=surfaceIndexSet)\n",
    "\n",
    "def maxMin(Fn = 1.):\n",
    "    #maxMin(Fn = 1., rFn=globRestFn\n",
    "    #vuFn = fn.view.min_max(Fn*rFn) #the restriction functions don't work with the view.min_max fn yet\n",
    "    vuFn = fn.view.min_max(Fn)\n",
    "    return vuFn\n",
    "    \n",
    "   \n",
    "    "
   ]
  },
  {
   "cell_type": "code",
   "execution_count": 82,
   "metadata": {
    "collapsed": false
   },
   "outputs": [],
   "source": [
    "#Setup volume integrals on different sub regions\n",
    "\n",
    "##Whole rock domain\n",
    "\n",
    "_areaintRock = volumeint(rockRestFn)\n",
    "_tempintRock = volumeint(temperatureField, rockRestFn)\n",
    "_rmsintRock = volumeint(sqrtv2,rockRestFn)\n",
    "_dwintRock = volumeint(dw,rockRestFn)\n",
    "_vdintRock = volumeint(vd,rockRestFn)\n",
    "\n",
    "##Lith \n",
    "\n",
    "_areaintLith  = volumeint(lithRestFn)\n",
    "_tempintLith  = volumeint(temperatureField, lithRestFn)\n",
    "_rmsintLith  = volumeint(sqrtv2,lithRestFn)\n",
    "_dwintLith  = volumeint(dw,lithRestFn)\n",
    "_vdintLith  = volumeint(vd,lithRestFn)\n",
    "\n",
    "##Lower plate\n",
    "\n",
    "_areaintLower  = volumeint(lowerPlateRestFn)\n",
    "_tempintLower  = volumeint(temperatureField, lowerPlateRestFn)\n",
    "_rmsintLower  = volumeint(sqrtv2,lowerPlateRestFn)\n",
    "_dwintLower = volumeint(dw,lowerPlateRestFn)\n",
    "_vdintLower  = volumeint(vd,lowerPlateRestFn)\n",
    "\n",
    "##Hinge lower plate\n",
    "\n",
    "_areaintHinge180  = volumeint(hinge180RestFn)\n",
    "_vdintHinge180  = volumeint(vd,hinge180RestFn)\n",
    "\n",
    "_areaintHinge60  = volumeint(hinge60RestFn)\n",
    "_vdintHinge60  = volumeint(vd,hinge60RestFn)\n",
    "\n",
    "\n",
    "##Interface\n",
    "\n",
    "_areaintInterface  = volumeint(interfaceRestFn)\n",
    "_vdintInterface = volumeint(vd,interfaceRestFn)"
   ]
  },
  {
   "cell_type": "code",
   "execution_count": 83,
   "metadata": {
    "collapsed": false
   },
   "outputs": [],
   "source": [
    "#Setup surface integrals\n",
    "\n",
    "_surfLength = surfint()\n",
    "_rmsSurf = surfint(v2x)\n",
    "_nuTop = surfint(dTdZ)\n",
    "_nuBottom = surfint(dTdZ, surfaceIndexSet=mesh.specialSets[\"MinJ_VertexSet\"])\n",
    "_plateness = surfint(srRestFn)\n",
    "_pressure = surfint(pressureField)"
   ]
  },
  {
   "cell_type": "code",
   "execution_count": 84,
   "metadata": {
    "collapsed": false
   },
   "outputs": [],
   "source": [
    "#Setup max min fns (at the moment, we can't pass restriction function to view.min_max, so we're limited to whole volume or surface extrema)\n",
    "\n",
    "##Whole rock domain\n",
    "\n",
    "#_maxMinVisc = maxMin(viscosityMapFn1)  #These don't work on swarm variables or mapping functions, yet\n",
    "#dummyFn = _maxMinVisc.evaluate(mesh)\n",
    "#_maxMinStressInv = maxMin(2*viscosityMapFn1*strainRate_2ndInvariant) #These don't work on swarm variables or mapping functions, yet\n",
    "#dummyFn = _maxMinStress.evaluate(mesh)\n",
    "#_maxMinVd = maxMin(vd) #These don't work on swarm variables or mapping functions, yet\n",
    "#dummyFn = _maxMinVd.evaluate(mesh)\n",
    "\n",
    "\n",
    "_maxMinVel = maxMin(velocityField) \n",
    "dummyFn = _maxMinVel.evaluate(mesh)\n",
    "\n",
    "_maxMinSr = maxMin(strainRate_2ndInvariant) \n",
    "dummyFn = _maxMinSr.evaluate(mesh)\n",
    "\n",
    "\n",
    "#Surface extrema\n",
    "_maxMinVxSurf = maxMin(vx)\n",
    "dummyFn = _maxMinVxSurf.evaluate(tWalls)\n"
   ]
  },
  {
   "cell_type": "code",
   "execution_count": 85,
   "metadata": {
    "collapsed": false
   },
   "outputs": [],
   "source": [
    "#Volume Ints\n",
    "areaintRock = _areaintRock.evaluate()[0]\n",
    "tempintRock = _tempintRock.evaluate()[0]\n",
    "rmsintRock = _rmsintRock.evaluate()[0]\n",
    "dwintRock = _dwintRock.evaluate()[0]\n",
    "vdintRock = _vdintRock.evaluate()[0]\n",
    "areaintLith = _areaintLith.evaluate()[0]\n",
    "tempintLith = _tempintLith.evaluate()[0]\n",
    "rmsintLith = _rmsintLith.evaluate()[0]\n",
    "dwintLith = _dwintLith.evaluate()[0]\n",
    "vdintLith = _vdintLith.evaluate()[0]\n",
    "areaintLower = _areaintLower.evaluate()[0]\n",
    "tempintLower = _tempintLower.evaluate()[0]\n",
    "rmsintLower = _rmsintLower.evaluate()[0]\n",
    "dwintLower = _dwintLower.evaluate()[0]\n",
    "vdintLower = _vdintLower.evaluate()[0]\n",
    "vdintHinge180 = _vdintHinge180.evaluate()[0]\n",
    "areaintHinge180 = _areaintHinge180.evaluate()[0]\n",
    "vdintHinge60 = _vdintHinge60.evaluate()[0]\n",
    "areaintHinge60= _areaintHinge60.evaluate()[0]\n",
    "vdintInterface = _vdintInterface.evaluate()[0]\n",
    "areaintInterface= _areaintInterface.evaluate()[0]\n",
    "\n",
    "#Surface Ints\n",
    "surfLength = _surfLength.evaluate()[0]\n",
    "rmsSurf = _rmsSurf.evaluate()[0]\n",
    "nuTop = _nuTop.evaluate()[0]\n",
    "nuBottom = _nuBottom.evaluate()[0]\n",
    "plateness = _plateness.evaluate()[0]\n",
    "pressureSurf = _pressure.evaluate()[0]\n",
    "\n",
    "#Max mins\n",
    "maxVel = _maxMinVel.max_global()\n",
    "minVel = _maxMinVel.min_global() \n",
    "maxSr = _maxMinSr.max_global()\n",
    "minSr = _maxMinSr.min_global()\n",
    "maxVxsurf = _maxMinVxSurf.max_global()\n",
    "minVxsurf = _maxMinVxSurf.min_global()"
   ]
  },
  {
   "cell_type": "markdown",
   "metadata": {
    "collapsed": false
   },
   "source": [
    "print(areaintRock)\n",
    "print(tempintRock)\n",
    "print(rmsintRock)\n",
    "print(dwintRock)\n",
    "print(vdintRock)\n",
    "print(areaintLith)\n",
    "print(tempintLith )\n",
    "print(rmsintLith)\n",
    "print(dwintLith)\n",
    "print(vdintLith)\n",
    "print(areaintLower)\n",
    "print(tempintLower)\n",
    "print(rmsintLower) \n",
    "print(dwintLower)\n",
    "print(vdintLower)\n",
    "print(vdintHinge60)\n",
    "print(vdintHinge180)\n",
    "print(vdintInterface)\n",
    "\n",
    "print(surfLength)\n",
    "print(rmsSurf)\n",
    "print(nuTop)\n",
    "print(nuBottom)\n",
    "print(plateness)\n",
    "\n",
    "\n",
    "print(maxVel)\n",
    "print(minVel)\n",
    "print(maxSr)\n",
    "print(minSr)\n",
    "print(maxVxsurf)\n",
    "print(minVxsurf)"
   ]
  },
  {
   "cell_type": "code",
   "execution_count": 128,
   "metadata": {
    "collapsed": true
   },
   "outputs": [],
   "source": [
    "##Any swarm variables that we'll want access to as meshVariables\n",
    "\n",
    "meshVisc = uw.mesh.MeshVariable( mesh, 1)\n",
    "projectGuy = uw.utils.MeshVariable_Projection(meshVisc, viscosityMapFn1, type=0 )\n",
    "projectGuy.solve() "
   ]
  },
  {
   "cell_type": "markdown",
   "metadata": {},
   "source": [
    "Viz.\n",
    "-----"
   ]
  },
  {
   "cell_type": "code",
   "execution_count": 86,
   "metadata": {
    "collapsed": false
   },
   "outputs": [],
   "source": [
    "#viscVariable = gSwarm.add_variable( dataType=\"float\", count=1 )\n",
    "#viscVariable.data[:] = viscosityMapFn1.evaluate(gSwarm)"
   ]
  },
  {
   "cell_type": "code",
   "execution_count": 87,
   "metadata": {
    "collapsed": false
   },
   "outputs": [],
   "source": [
    "if figures == 'gldb':\n",
    "    #Pack some stuff into a database as well\n",
    "    figDb = glucifer.Figure()\n",
    "    figDb.append( glucifer.objects.Points(swarmPlateBoundary, pointSize=4))\n",
    "    #figDb.append( glucifer.objects.Mesh(mesh))\n",
    "    figDb.append( glucifer.objects.VectorArrows(mesh,velocityField, scaling=0.0005))\n",
    "    #figDb.append( glucifer.objects.Points(gSwarm,tracerVariable, colours= 'white black'))\n",
    "    figDb.append( glucifer.objects.Points(gSwarm,materialVariable))\n",
    "    \n",
    "    #figDb.append( glucifer.objects.Points(gSwarm,viscMinVariable))\n",
    "    #figDb.append( glucifer.objects.Points(gSwarm,fnViscMin))\n",
    "    #figDb.append( glucifer.objects.Points(gSwarm, viscosityMapFn1, logScale=True))\n",
    "    #figDb.append( glucifer.objects.Points(gSwarm, strainRate_2ndInvariant, logScale=True))\n",
    "    figDb.append( glucifer.objects.Points(gSwarm,temperatureField))\n",
    "    figDb.append( glucifer.objects.Points(gSwarm,pressureField))\n",
    "    \n",
    "    \n",
    "    #figRestrict= glucifer.Figure()\n",
    "    #figRestrict.append( glucifer.objects.Points(gSwarm,respltFn))\n",
    "    #figRestrict.append( glucifer.objects.Points(gSwarm,lithRestFn))\n",
    "    #figRestrict.append( glucifer.objects.Points(gSwarm,lowerPlateRestFn))\n",
    "    #figRestrict.append( glucifer.objects.Points(gSwarm,hinge180RestFn))\n",
    "    #figRestrict.append( glucifer.objects.Points(gSwarm,interfaceRestFn))\n",
    "    #figRestrict.append( glucifer.objects.Points(interfaces[0].swarm, colours=\"Blue Blue\", pointSize=2.0, colourBar=False) )\n",
    "    #figRestrict.append( glucifer.objects.Points(interfaces[1].swarm, colours=\"Red Red\", pointSize=2.0, colourBar=False) )\n",
    "    #figRestrict.append( glucifer.objects.Points(slab_seg.swarm, colours=\"Black Black\", pointSize=2.0, colourBar=False) )\n",
    "\n",
    "elif figures == 'store':\n",
    "    fullpath = os.path.join(outputPath + \"gldbs/\")\n",
    "    store = glucifer.Store(fullpath + 'subduction.gldb')\n",
    "\n",
    "    figTemp = glucifer.Figure(store,figsize=(300*np.round(md.aspectRatio,2),300))\n",
    "    figTemp.append( glucifer.objects.Points(gSwarm,temperatureField))\n",
    "\n",
    "    figVisc= glucifer.Figure(store, figsize=(300*np.round(md.aspectRatio,2),300))\n",
    "    figVisc.append( glucifer.objects.Points(gSwarm,viscosityMapFn1, logScale=True, valueRange =[1e-3,1e5]))\n",
    "    \n",
    "    figSr= glucifer.Figure(store, figsize=(300*np.round(md.aspectRatio,2),300))\n",
    "    figSr.append( glucifer.objects.Points(gSwarm,strainRate_2ndInvariant, logScale=True))\n",
    "    figSr.append( glucifer.objects.VectorArrows(mesh,velocityField, scaling=0.0005))\n",
    "\n",
    "    #figMech= glucifer.Figure(store, figsize=(300*np.round(md.aspectRatio,2),300))\n",
    "    #figMech.append( glucifer.objects.Points(gSwarm,fnViscMin))"
   ]
  },
  {
   "cell_type": "markdown",
   "metadata": {},
   "source": [
    "**Miscellania**"
   ]
  },
  {
   "cell_type": "code",
   "execution_count": 88,
   "metadata": {
    "collapsed": false
   },
   "outputs": [
    {
     "name": "stderr",
     "output_type": "stream",
     "text": [
      "/usr/local/lib/python2.7/dist-packages/numpy/core/numeric.py:190: VisibleDeprecationWarning: using a non-integer number instead of an integer will result in an error in the future\n",
      "  a = empty(shape, dtype, order)\n"
     ]
    }
   ],
   "source": [
    "##############\n",
    "#Create a numpy array at the surface to get surface information on (using parallel-friendly evaluate_global)\n",
    "##############\n",
    "\n",
    "surface_xs = np.linspace(mesh.minCoord[0], mesh.maxCoord[0], mesh.elementRes[0] + 1)\n",
    "surface_nodes = np.array(zip(surface_xs, np.ones(len(surface_xs)*mesh.maxCoord[1]))) #For evaluation surface velocity\n",
    "normgradV = velocityField.fn_gradient[0]/fn.math.sqrt(velocityField[0]*velocityField[0])\n",
    "\n",
    "tempMM = fn.view.min_max(temperatureField)\n",
    "dummy = tempMM.evaluate(mesh)\n",
    "\n"
   ]
  },
  {
   "cell_type": "code",
   "execution_count": null,
   "metadata": {
    "collapsed": true
   },
   "outputs": [],
   "source": []
  },
  {
   "cell_type": "code",
   "execution_count": 89,
   "metadata": {
    "collapsed": false
   },
   "outputs": [],
   "source": [
    "##############\n",
    "#These functions handle checkpointing\n",
    "##############\n",
    "\n",
    "\n",
    "#Subzone = ndp.subzone\n",
    "\n",
    "\n",
    "def checkpoint1(step, checkpointPath,filename, filewrites):\n",
    "    path = checkpointPath + str(step) \n",
    "    os.mkdir(path)\n",
    "    ##Write and save the file, if not already a writing step\n",
    "    if not step % filewrites == 0:\n",
    "        f_o.write((30*'%-15s ' + '\\n') % (areaintRock, tempintRock, rmsintRock, dwintRock, vdintRock,\n",
    "                                  areaintLith, tempintLith,rmsintLith, dwintLith, vdintLith,\n",
    "                                  areaintLower, tempintLower, rmsintLower, dwintLower, vdintLower, \n",
    "                                  areaintHinge180,vdintHinge180, areaintHinge60, vdintHinge60, \n",
    "                                  areaintInterface, vdintInterface, vdintInterface,\n",
    "                                  rmsSurf, nuTop, nuBottom, plateness, ndp.subzone,ndp.lRidge, ndp.rRidge, realtime))\n",
    "    filename.close()\n",
    "    shutil.copyfile(os.path.join(outputPath, outputFile), os.path.join(path, outputFile))\n",
    "\n",
    "\n",
    "def checkpoint2(step, checkpointPath, swarm, filename, varlist = [materialVariable], varnames = ['materialVariable']):\n",
    "    path = checkpointPath + str(step) \n",
    "    velfile = \"velocityField\" + \".hdf5\"\n",
    "    tempfile = \"temperatureField\" + \".hdf5\"\n",
    "    pressfile = \"pressureField\" + \".hdf5\"\n",
    "    velocityField.save(os.path.join(path, velfile))\n",
    "    temperatureField.save(os.path.join(path, tempfile))\n",
    "    pressureField.save(os.path.join(path, pressfile))\n",
    "    swarm.save(os.path.join(path, \"swarm.h5\") ) \n",
    "    for ix in range(len(varlist)):\n",
    "        varb = varlist[ix]\n",
    "        varb.save(os.path.join(path,varnames[ix] + \".h5\"))\n",
    "    \n",
    "    #Save the parameters\n",
    "    dict_list = [dp, sf, ndp, md] #if any of the dictionaries have changed, this list needs to be rebuilt\n",
    "    save_pickles(dict_list, dict_names, path)\n",
    "    \n",
    "#Simple Checkpoint function for the faults / interfaces (markerLine2D)\n",
    "def checkpoint3(step,  checkpointPath, interfaces,interfacenames ):\n",
    "    path = checkpointPath + str(step)\n",
    "    for ix in range(len(interfaces)):\n",
    "        intf = interfaces[ix]\n",
    "        intf.swarm.save(os.path.join(path,interfacenames[ix] + \".h5\"))\n",
    "    \n",
    "    "
   ]
  },
  {
   "cell_type": "code",
   "execution_count": 126,
   "metadata": {
    "collapsed": false
   },
   "outputs": [],
   "source": [
    "def plate_infoFn(velocityField,xFn,  depthLimit, xsearchlim = 1.0, currentloc = 0.0, plateType='convergent'):\n",
    "    \"\"\"\n",
    "    This functions is used to track the plate boundaries in 2D.\n",
    "    It returns the x value of the max / min of the x velocity gradient.\n",
    "    \n",
    "    \"\"\"\n",
    "    \n",
    "    #Restriction fucntion \n",
    "    restictionFn = fn.branching.conditional([(operator.and_(fn.math.abs(xFn - currentloc) < xsearchlim, depthFn < depthLimit) , 1.),                                       \n",
    "                                             (True, 0.0)])\n",
    "    \n",
    "    #Normalised surface vel gradient\n",
    "    normgradV = velocityField.fn_gradient[0]/fn.math.sqrt(velocityField[0]*velocityField[0])\n",
    "\n",
    "    \n",
    "    plateFn0 = normgradV*restictionFn\n",
    "    \n",
    "    plateFn = fn.branching.conditional([(plateFn0 > 1e20, 0.),             #This attempts to fix inf values that appear at sidewalls                          \n",
    "                                             (True, plateFn0)])\n",
    "    \n",
    "    extremFn = fn.view.min_max(plateFn)\n",
    "    dummy = extremFn.evaluate(mesh)\n",
    "    \n",
    "    \n",
    "    print(extremFn.min_global(), extremFn.max_global())\n",
    "\n",
    "    #get global max\n",
    "    if plateType == 'convergent':   \n",
    "        testFn = fn.branching.conditional([(extremFn < extremFn.min_global() + 1e-10, coordinate[0]),                                       \n",
    "                                             (True, (-9999999.))])\n",
    "        extremFn2 = fn.view.min_max(testFn)\n",
    "        dummy2 = extremFn2.evaluate(mesh)\n",
    "        return extremFn2.max_global()\n",
    "    elif plateType == 'divergent':\n",
    "        testFn = fn.branching.conditional([(extremFn > extremFn.max_global() - 1e-3, coordinate[0]),                                       \n",
    "                                             (True, (-9999999.))])\n",
    "        extremFn2 = fn.view.min_max(testFn)\n",
    "        dummy2 = extremFn2.evaluate(mesh)\n",
    "        return extremFn2.max_global()\n",
    "    else:\n",
    "        raise ValueError('plateType should be one of convergent/divergent')"
   ]
  },
  {
   "cell_type": "code",
   "execution_count": 127,
   "metadata": {
    "collapsed": false
   },
   "outputs": [],
   "source": [
    "# initialise timer for computation\n",
    "start = time.clock()\n"
   ]
  },
  {
   "cell_type": "markdown",
   "metadata": {},
   "source": [
    "Main simulation loop\n",
    "-----\n"
   ]
  },
  {
   "cell_type": "code",
   "execution_count": null,
   "metadata": {
    "collapsed": false
   },
   "outputs": [],
   "source": [
    "#while step < 6:\n",
    "while realtime < 0.002:\n",
    "\n",
    "    # solve Stokes and advection systems\n",
    "    solver.solve(nonLinearIterate=True)\n",
    "    \n",
    "    #remove drift /null space in pressure\n",
    "    pressureField.data[:] -= pressureSurf/surfLength\n",
    "    \n",
    "    \n",
    "    dt = advDiff.get_max_dt()\n",
    "    if step == 0:\n",
    "        dt = 0.\n",
    "    advDiff.integrate(dt)\n",
    "    passiveadvector.integrate(dt)\n",
    "    #advect any interfaces\n",
    "    fault.advection(dt)\n",
    "    \n",
    "    \n",
    "    \n",
    "    # Increment\n",
    "    realtime += dt\n",
    "    step += 1\n",
    "    timevals.append(realtime)\n",
    "    ################\n",
    "    #Update temperature field in the air region\n",
    "    #Do this better...\n",
    "    ################\n",
    "    if (step % sticky_air_temp == 0):\n",
    "        for index, coord in enumerate(mesh.data):\n",
    "            if coord[1] >= 1.:\n",
    "                temperatureField.data[index] = ndp.TSP\n",
    "                \n",
    "    ################\n",
    "    #Files output\n",
    "    ################ \n",
    "    if (step % files_output == 0):\n",
    "        \n",
    "        #Save the fault swarm\n",
    "        fnametemp1 = \"faultSwarm\" + \"_\" + str(step)\n",
    "        fullpath1 = os.path.join(outputPath + \"files/\" + fnametemp1)\n",
    "        fault.swarm.save(fullpath1)\n",
    "        \n",
    "        #build a metric swarm and save values\n",
    "        #Copy the fault and jitter, this is the swarm we'll capture inteface details on \n",
    "\n",
    "        metricSwarm  = copy_markerLine2D(fault)\n",
    "        \n",
    "        \n",
    "        ds = ndp.MANTLETOCRUST\n",
    "        with metricSwarm.swarm.deform_swarm():\n",
    "            metricSwarm.swarm.particleCoordinates.data[...] -= metricSwarm.director.data[...]*ds\n",
    "        \n",
    "        #set up some swarm variables\n",
    "        interfaceSinv = metricSwarm.swarm.add_variable( dataType=\"float\", count=1 )\n",
    "        interfaceSinv.data[:] = strainRate_2ndInvariant.evaluate(metricSwarm.swarm)\n",
    "        \n",
    "        interfaceVisc = metricSwarm.swarm.add_variable( dataType=\"float\", count=1 )\n",
    "        interfaceVisc.data[:] = meshVisc.evaluate(metricSwarm.swarm)\n",
    "        \n",
    "        uw.barrier()\n",
    "        #Save metric swarm and swarm vars. \n",
    "        fnametemp = \"metricSwarm\" + \"_\" + str(step)\n",
    "        fullpath = os.path.join(outputPath + \"files/\" + fnametemp)\n",
    "        metricSwarm.swarm.save(fullpath)\n",
    "        #\n",
    "        uw.barrier()\n",
    "        fnametemp = \"interfaceSinv\" + \"_\" + str(step)\n",
    "        fullpath = os.path.join(outputPath + \"files/\" + fnametemp)\n",
    "        interfaceSinv.save(fullpath)\n",
    "        #\n",
    "        uw.barrier()\n",
    "        fnametemp = \"interfaceVisc\" + \"_\" + str(step)\n",
    "        fullpath = os.path.join(outputPath + \"files/\" + fnametemp)\n",
    "        interfaceVisc.save(fullpath)\n",
    "        \n",
    "        \n",
    "        del metricSwarm, interfaceSinv, interfaceVisc #now delete them\n",
    "\n",
    "    ################\n",
    "    #Fault / interface repair\n",
    "    ################    \n",
    "    #Any functions to do with repairing the interfaces should go here\n",
    "    \n",
    "                \n",
    "    ################\n",
    "    #Update the subduction zone / plate information\n",
    "    ################ \n",
    "    \n",
    "    comm.barrier()\n",
    "    if (step % files_output == 0):\n",
    "        \n",
    "\n",
    "        ndp.subzone = plate_infoFn(velocityField,xFn,  20e3/dp.LS, xsearchlim = 200e3/dp.LS, currentloc = ndp.subzone, plateType='convergent')\n",
    "        ndp.lRidge = plate_infoFn(velocityField,xFn,  20e3/dp.LS, xsearchlim = 200e3/dp.LS, currentloc = ndp.lRidge, plateType='divergent')\n",
    "        ndp.rRidge = plate_infoFn(velocityField,xFn,  20e3/dp.LS, xsearchlim = 200e3/dp.LS, currentloc = ndp.rRidge, plateType='divergent')\n",
    "\n",
    "                \n",
    "    ################\n",
    "    # Calculate the Metrics\n",
    "    ################\n",
    "    if (step % metric_output == 0):\n",
    "        ###############\n",
    "        #Rebuild the restriction functions where necessary\n",
    "        ###############\n",
    "        \n",
    "        #Lithosphere - mantle:\n",
    "        tempMM = fn.view.min_max(temperatureField)\n",
    "        tempMM.evaluate(mesh)\n",
    "        TMAX = tempMM.max_global()\n",
    "        mantleconditions = [ (                                  operator.and_(temperatureField < 0.9*TMAX, operator.and_(xFn> ndp.lRidge,xFn< ndp.rRidge )), 1.),\n",
    "                   (                                                   True , 0.) ]\n",
    "        lithRestFn = fn.branching.conditional(mantleconditions)\n",
    "        lithRestFn*=rockRestFn #Add next level up in heirarchy\n",
    "        \n",
    "        #Lower plate\n",
    "        \n",
    "        lowerPlateRestFn = gSwarm.add_variable( dataType=\"double\", count=1 ) #weirdly we have to rebuild this one...\n",
    "        lowerPlateRestFn.data[:] = 0.0\n",
    "        sd, pts0 = fault.compute_signed_distance(gSwarm.particleCoordinates.data, distance=w0)\n",
    "        sp, pts0 = fault.compute_marker_proximity(gSwarm.particleCoordinates.data, distance=w0)\n",
    "        lowerPlateRestFn.data[np.logical_and(sd>0,sp == fault.ID)] = sp[np.logical_and(sd>0,sp == fault.ID)]\n",
    "        lowerPlateRestFn *= lithRestFn #Add next level up in heirarchy\n",
    "        \n",
    "        #Hinge\n",
    "        \n",
    "        hinge60Spatialconditions = [ (           operator.and_( (depthFn < MAXY - (60e3/dp.LS)),  (xFn > ndp.subzone - 60e3/dp.LS)), 1.),\n",
    "                   (                                                   True , 0.) ]\n",
    "        hinge60RestFn = fn.branching.conditional(hinge60Spatialconditions)\n",
    "        hinge60RestFn*=lowerPlateRestFn #Add next level up in hierarchy\n",
    "\n",
    "\n",
    "\n",
    "        hinge180Spatialconditions = [ (           operator.and_( (depthFn < MAXY - (180e3/dp.LS)),  (xFn > ndp.subzone - 180e3/dp.LS)), 1.),\n",
    "                           (                                                   True , 0.) ]\n",
    "        hinge180RestFn = fn.branching.conditional(hinge180Spatialconditions)\n",
    "        hinge180RestFn*=lowerPlateRestFn #Add next level up in hierarchy\n",
    "        \n",
    "        ###############\n",
    "        #Metrics\n",
    "        ###############\n",
    "        areaintRock = _areaintRock.evaluate()[0] #trivial except when using sticky air\n",
    "        tempintRock = _tempintRock.evaluate()[0]\n",
    "        rmsintRock = _rmsintRock.evaluate()[0]\n",
    "        dwintRock = _dwintRock.evaluate()[0]\n",
    "        vdintRock = _vdintRock.evaluate()[0]\n",
    "        areaintLith = _areaintLith.evaluate()[0]\n",
    "        tempintLith = _tempintLith.evaluate()[0]\n",
    "        rmsintLith = _rmsintLith.evaluate()[0]\n",
    "        dwintLith = _dwintLith.evaluate()[0]\n",
    "        vdintLith = _vdintLith.evaluate()[0]\n",
    "        areaintLower = _areaintLower.evaluate()[0]\n",
    "        tempintLower = _tempintLower.evaluate()[0]\n",
    "        rmsintLower = _rmsintLower.evaluate()[0]\n",
    "        dwintLower = _dwintLower.evaluate()[0]\n",
    "        vdintLower = _vdintLower.evaluate()[0]\n",
    "        vdintHinge180 = _vdintHinge180.evaluate()[0]\n",
    "        areaintHinge180 = _areaintHinge180.evaluate()[0]\n",
    "        vdintHinge60 = _vdintHinge60.evaluate()[0]\n",
    "        areaintHinge60= _areaintHinge60.evaluate()[0]\n",
    "        vdintInterface = _vdintInterface.evaluate()[0]\n",
    "        areaintInterface= _areaintInterface.evaluate()[0]\n",
    "        #Surface integrals\n",
    "        rmsSurf = _rmsSurf.evaluate()[0]\n",
    "        nuTop = _nuTop.evaluate()[0]\n",
    "        nuBottom = _nuBottom.evaluate()[0]\n",
    "        plateness = _plateness.evaluate()[0]\n",
    "        #extrema\n",
    "        maxVel = _maxMinVel.max_global()\n",
    "        minVel = _maxMinVel.min_global() \n",
    "        maxSr = _maxMinSr.max_global()\n",
    "        minSr = _maxMinSr.min_global()\n",
    "        maxVxsurf = _maxMinVxSurf.max_global()\n",
    "        minVxsurf = _maxMinVxSurf.min_global()\n",
    "        # output to summary text file\n",
    "        if uw.rank()==0:\n",
    "            f_o.write((30*'%-15s ' + '\\n') % (areaintRock, tempintRock, rmsintRock, dwintRock, vdintRock,\n",
    "                                  areaintLith, tempintLith,rmsintLith, dwintLith, vdintLith,\n",
    "                                  areaintLower, tempintLower, rmsintLower, dwintLower, vdintLower, \n",
    "                                  areaintHinge180,vdintHinge180, areaintHinge60, vdintHinge60, \n",
    "                                  areaintInterface, vdintInterface, vdintInterface,\n",
    "                                  rmsSurf, nuTop, nuBottom, plateness, ndp.subzone,ndp.lRidge, ndp.rRidge, realtime))\n",
    "    ################\n",
    "    #Also repopulate entire swarm periodically\n",
    "    ################\n",
    "    #if step % swarm_repop == 0:\n",
    "    population_control.repopulate()   \n",
    "    ################\n",
    "    #Gldb output\n",
    "    ################ \n",
    "    if (step % gldbs_output == 0): \n",
    "        if figures == 'gldb':\n",
    "            \n",
    "            \n",
    "            #Remember to rebuild any necessary swarm variables\n",
    "            fnamedb = \"dbFig\" + \"_\" + str(step) + \".gldb\"\n",
    "            fullpath = os.path.join(outputPath + \"gldbs/\" + fnamedb)\n",
    "            figDb.save_database(fullpath)\n",
    "            \n",
    "            #Temp figure\n",
    "            #fnamedb = \"restrictFig\" + \"_\" + str(step) + \".gldb\"\n",
    "            #fullpath = os.path.join(outputPath + \"gldbs/\" + fnamedb)\n",
    "            #figRestrict.save_database(fullpath)\n",
    "            \n",
    "            \n",
    "            \n",
    "            \n",
    "        elif figures == 'store':      \n",
    "            fullpath = os.path.join(outputPath + \"gldbs/\")\n",
    "            store.step = step\n",
    "            #Save figures to store\n",
    "            figVisc.save( fullpath + \"Visc\" + str(step).zfill(4))\n",
    "            #figMech.save( fullPath + \"Mech\" + str(step).zfill(4))\n",
    "            figTemp.save( fullpath + \"Temp\"    + str(step).zfill(4))\n",
    "            figSr.save( fullpath + \"Str_rte\"    + str(step).zfill(4))\n",
    "\n",
    "        \n",
    "\n",
    "        \n",
    "\n",
    "    ################\n",
    "    #Particle update\n",
    "    ###############    \n",
    "    #ageVariable.data[:] += dt #increment the ages (is this efficient?)\n",
    "    ageDT += dt\n",
    "    \n",
    "    if step % swarm_update == 0:\n",
    "        \n",
    "        \n",
    "        #This is hardcoded to assume subduction is towards the right\n",
    "        tempop = operator.lt\n",
    "        szoffset = 200e3/dp.LS\n",
    "\n",
    "        #Update the relevant parts of the material graph\n",
    "        #Remove and rebuild edges related to crust\n",
    "        DG.remove_edges_from([(mantleIndex,crustIndex)])\n",
    "        DG.add_edges_from([(mantleIndex,crustIndex)])\n",
    "        DG.remove_edges_from([(harzIndex,crustIndex)])\n",
    "        DG.add_edges_from([(harzIndex,crustIndex)])\n",
    "\n",
    "        #... to crust\n",
    "        DG.add_transition((mantleIndex,crustIndex), depthFn, operator.lt, 0.5)\n",
    "        DG.add_transition((mantleIndex,crustIndex), xFn, tempop , ndp.subzone - szoffset) #No crust on the upper plate\n",
    "        DG.add_transition((mantleIndex,crustIndex), ageVariable, operator.gt, 0.2)\n",
    "\n",
    "        DG.add_transition((harzIndex,crustIndex), depthFn, operator.lt, ndp.MANTLETOCRUST)\n",
    "        DG.add_transition((harzIndex,crustIndex), xFn, tempop, ndp.subzone - szoffset) #This one sets no crust on the upper plate\n",
    "        DG.add_transition((harzIndex,crustIndex), ageVariable, operator.gt, crustageCond)\n",
    "        \n",
    "        comm.barrier()\n",
    "        \n",
    "    \n",
    "        \n",
    "        \n",
    "        #Increment age stuff. \n",
    "        ageConditions = [ (depthFn < ndp.AGETRACKDEPTH, ageVariable + ageDT ),  #add ageDThere\n",
    "                  (True, 0.) ]\n",
    "        ageVariable.data[:] = fn.branching.conditional( ageConditions ).evaluate(gSwarm)        \n",
    "        ageDT = 0. #reset the age incrementer\n",
    "        \n",
    "        #Apply any materialVariable changes\n",
    "        for i in range(2): #go through twice\n",
    "            materialVariable.data[:] = fn.branching.conditional(DG.condition_list).evaluate(gSwarm)\n",
    "        \n",
    "        #Also update any information related to faults / interfaces:\n",
    "\n",
    "        sd, pts0 = fault.compute_signed_distance(gSwarm.particleCoordinates.data, distance=w0)\n",
    "        sp, pts0 = fault.compute_marker_proximity(gSwarm.particleCoordinates.data)\n",
    "\n",
    "        proximityVariable.data[np.logical_and(sd<0,sp == fault.ID)] = sp[np.logical_and(sd<0,sp == fault.ID)]\n",
    "\n",
    "        dv, nzv = fault.compute_normals(gSwarm.particleCoordinates.data)\n",
    "        directorVector.data[nzv] = dv[nzv]\n",
    "\n",
    "        proximityVariable.data[gSwarm.particleCoordinates.data[:,1]  < (1. - ndp.CRUSTVISCUTOFF)] = 0.\n",
    "        \n",
    "        #And add extra particles to interfaces as necessary\n",
    "        #subduction fault\n",
    "        introPoint = ndp.subzone - abs(ndp.subzone - ndp.lRidge)/2. #half way between ridge and Sz\n",
    "        fault.add_points([introPoint],[MAXY - faultthickness])\n",
    "        \n",
    "    ################\n",
    "    #Checkpoint\n",
    "    ################\n",
    "    if step % checkpoint_every == 0:\n",
    "        if uw.rank() == 0:\n",
    "            checkpoint1(step, checkpointPath,f_o, metric_output)           \n",
    "        checkpoint2(step, checkpointPath, gSwarm, f_o, varlist = varlist, varnames = varnames)\n",
    "        checkpoint3(step,  checkpointPath, interfaces,interfacenames )\n",
    "        f_o = open(os.path.join(outputPath, outputFile), 'a') #is this line supposed to be here?\n",
    "\n",
    "    \n",
    "f_o.close()\n",
    "print 'step =',step"
   ]
  },
  {
   "cell_type": "code",
   "execution_count": 120,
   "metadata": {
    "collapsed": false
   },
   "outputs": [],
   "source": []
  },
  {
   "cell_type": "code",
   "execution_count": null,
   "metadata": {
    "collapsed": false
   },
   "outputs": [],
   "source": []
  },
  {
   "cell_type": "code",
   "execution_count": 98,
   "metadata": {
    "collapsed": false
   },
   "outputs": [],
   "source": [
    "#vxTi = velocityField[0].evaluate(surface_nodes)\n",
    "#vxIso = velocityFieldIso[0].evaluate(surface_nodes)\n",
    "#%pylab inline\n",
    "#fig, axes = plt.subplots(figsize=(16,4))\n",
    "#axes.plot(vxTi)\n",
    "#axes.plot(vxIso)\n",
    "\n",
    "\n",
    "#fig, axes = plt.subplots(figsize=(16,4))\n",
    "#axes.plot(vxTi)\n",
    "#axes.plot(surface_xs, vxTi - vxIso)\n",
    "#fig.savefig('Ti_minus_Iso.png')\n",
    "#plt.title('surface velocity residual - T. Iso minus Iso. weak zone')\n"
   ]
  },
  {
   "cell_type": "code",
   "execution_count": 130,
   "metadata": {
    "collapsed": false
   },
   "outputs": [],
   "source": [
    "from scipy.interpolate import Rbf"
   ]
  },
  {
   "cell_type": "code",
   "execution_count": 131,
   "metadata": {
    "collapsed": true
   },
   "outputs": [],
   "source": [
    "rbfi = Rbf(fault.swarm.particleCoordinates.data[:,0], fault.swarm.particleCoordinates.data[:,0])"
   ]
  },
  {
   "cell_type": "code",
   "execution_count": 132,
   "metadata": {
    "collapsed": false
   },
   "outputs": [
    {
     "data": {
      "text/plain": [
       "<scipy.interpolate.rbf.Rbf at 0x7fdc30c73ed0>"
      ]
     },
     "execution_count": 132,
     "metadata": {},
     "output_type": "execute_result"
    }
   ],
   "source": [
    "rbfi"
   ]
  },
  {
   "cell_type": "code",
   "execution_count": null,
   "metadata": {
    "collapsed": true
   },
   "outputs": [],
   "source": []
  }
 ],
 "metadata": {
  "kernelspec": {
   "display_name": "Python 2",
   "language": "python",
   "name": "python2"
  },
  "language_info": {
   "codemirror_mode": {
    "name": "ipython",
    "version": 2
   },
   "file_extension": ".py",
   "mimetype": "text/x-python",
   "name": "python",
   "nbconvert_exporter": "python",
   "pygments_lexer": "ipython2",
   "version": "2.7.9"
  },
  "widgets": {
   "state": {},
   "version": "1.1.2"
  }
 },
 "nbformat": 4,
 "nbformat_minor": 0
}
