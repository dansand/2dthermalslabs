{
 "cells": [
  {
   "cell_type": "markdown",
   "metadata": {},
   "source": [
    "## Thermal subduction, linear rheology:\n",
    "\n",
    "\n",
    "The viscous rheology in this model is similar to the models described in the PhD thesis of Micheal Kaplan\n",
    "\n",
    "\n",
    "\n",
    "**Keywords:** subduction, thermally-activated creep, \n",
    "\n",
    "\n",
    "**References:**\n",
    "\n",
    "\n",
    "Kaplan, Michael. Numerical Geodynamics of Solid Planetary Deformation. Diss. University of Southern California, 2015."
   ]
  },
  {
   "cell_type": "code",
   "execution_count": 18,
   "metadata": {
    "collapsed": false
   },
   "outputs": [],
   "source": [
    "import numpy as np\n",
    "import underworld as uw\n",
    "import math\n",
    "from underworld import function as fn\n",
    "import glucifer\n",
    "\n",
    "import os\n",
    "import sys\n",
    "import natsort\n",
    "import shutil\n",
    "from easydict import EasyDict as edict\n",
    "import operator\n",
    "import pint\n",
    "import time\n",
    "import operator\n",
    "from slippy2 import boundary_layer2d\n",
    "from slippy2 import material_graph\n",
    "from slippy2 import spmesh\n",
    "from slippy2 import phase_function\n",
    "from unsupported.interfaces import markerLine2D\n",
    "\n",
    "from mpi4py import MPI\n",
    "comm = MPI.COMM_WORLD\n",
    "rank = comm.Get_rank()"
   ]
  },
  {
   "cell_type": "code",
   "execution_count": 19,
   "metadata": {
    "collapsed": true
   },
   "outputs": [],
   "source": [
    "#####\n",
    "#Stubborn version number conflicts - need to figure out my Docker container runs an old version. For now...\n",
    "#####\n",
    "try:\n",
    "    natsort.natsort = natsort.natsorted\n",
    "except:\n",
    "    natsort.natsort = natsort.natsort"
   ]
  },
  {
   "cell_type": "markdown",
   "metadata": {},
   "source": [
    "Model name and directories\n",
    "-----"
   ]
  },
  {
   "cell_type": "code",
   "execution_count": 20,
   "metadata": {
    "collapsed": false
   },
   "outputs": [],
   "source": [
    "############\n",
    "#Model letter and number\n",
    "############\n",
    "\n",
    "\n",
    "#Model letter identifier default\n",
    "Model = \"T\"\n",
    "\n",
    "#Model number identifier default:\n",
    "ModNum = 0\n",
    "\n",
    "#Any isolated letter / integer command line args are interpreted as Model/ModelNum\n",
    "\n",
    "if len(sys.argv) == 1:\n",
    "    ModNum = ModNum \n",
    "elif sys.argv[1] == '-f': #\n",
    "    ModNum = ModNum \n",
    "else:\n",
    "    for farg in sys.argv[1:]:\n",
    "        if not '=' in farg: #then Assume it's a not a paramter argument\n",
    "            try:\n",
    "                ModNum = int(farg) #try to convert everingthing to a float, else remains string\n",
    "            except ValueError:\n",
    "                Model  = farg"
   ]
  },
  {
   "cell_type": "code",
   "execution_count": 21,
   "metadata": {
    "collapsed": false
   },
   "outputs": [],
   "source": [
    "###########\n",
    "#Standard output directory setup\n",
    "###########\n",
    "\n",
    "outputPath = \"results\" + \"/\" +  str(Model) + \"/\" + str(ModNum) + \"/\" \n",
    "imagePath = outputPath + 'images/'\n",
    "filePath = outputPath + 'files/'\n",
    "checkpointPath = outputPath + 'checkpoint/'\n",
    "dbPath = outputPath + 'gldbs/'\n",
    "outputFile = 'results_model' + Model + '_' + str(ModNum) + '.dat'\n",
    "\n",
    "if uw.rank()==0:\n",
    "    # make directories if they don't exist\n",
    "    if not os.path.isdir(outputPath):\n",
    "        os.makedirs(outputPath)\n",
    "    if not os.path.isdir(checkpointPath):\n",
    "        os.makedirs(checkpointPath)\n",
    "    if not os.path.isdir(imagePath):\n",
    "        os.makedirs(imagePath)\n",
    "    if not os.path.isdir(dbPath):\n",
    "        os.makedirs(dbPath)\n",
    "    if not os.path.isdir(filePath):\n",
    "        os.makedirs(filePath)\n",
    "\n",
    "        \n",
    "comm.Barrier() #Barrier here so no procs run the check in the next cell too early"
   ]
  },
  {
   "cell_type": "code",
   "execution_count": 22,
   "metadata": {
    "collapsed": false
   },
   "outputs": [
    {
     "name": "stdout",
     "output_type": "stream",
     "text": [
      "results/T/0/checkpoint/ is empty\n"
     ]
    }
   ],
   "source": [
    "###########\n",
    "#Check if starting from checkpoint\n",
    "###########\n",
    "\n",
    "checkdirs = []\n",
    "for dirpath, dirnames, files in os.walk(checkpointPath):\n",
    "    if files:\n",
    "        print dirpath, 'has files'\n",
    "        checkpointLoad = True\n",
    "        checkdirs.append(dirpath)\n",
    "    if not files:\n",
    "        print dirpath, 'is empty'\n",
    "        checkpointLoad = False"
   ]
  },
  {
   "cell_type": "code",
   "execution_count": 23,
   "metadata": {
    "collapsed": true
   },
   "outputs": [],
   "source": [
    "# setup summary output file (name above)\n",
    "if checkpointLoad:\n",
    "    checkpointLoadDir = natsort.natsort(checkdirs)[-1]\n",
    "    if uw.rank() == 0:\n",
    "        shutil.copyfile(os.path.join(checkpointLoadDir, outputFile), outputPath+outputFile)\n",
    "    comm.Barrier()\n",
    "    f_o = open(os.path.join(outputPath, outputFile), 'a')\n",
    "    prevdata = np.genfromtxt(os.path.join(outputPath, outputFile), skip_header=0, skip_footer=0)\n",
    "    if len(prevdata.shape) == 1: #this is in case there is only one line in previous file\n",
    "        realtime = prevdata[-1]  #This corresponds to the column you write time data to\n",
    "    else:\n",
    "        realtime = prevdata[prevdata.shape[0]-1, -1]\n",
    "    step = int(checkpointLoadDir.split('/')[-1])\n",
    "    timevals = [0.]\n",
    "else:\n",
    "    f_o = open(outputPath+outputFile, 'w')\n",
    "    realtime = 0.\n",
    "    step = 0\n",
    "    timevals = [0.]"
   ]
  },
  {
   "cell_type": "markdown",
   "metadata": {},
   "source": [
    "Setup parameters\n",
    "-----\n",
    "\n",
    "Set simulation parameters for test."
   ]
  },
  {
   "cell_type": "markdown",
   "metadata": {},
   "source": [
    "**Use pint to setup any unit conversions we'll need**"
   ]
  },
  {
   "cell_type": "code",
   "execution_count": 24,
   "metadata": {
    "collapsed": false
   },
   "outputs": [
    {
     "data": {
      "text/html": [
       "10000.0 meter/megayear"
      ],
      "text/latex": [
       "$10000.0 \\frac{meter}{megayear}$"
      ],
      "text/plain": [
       "<Quantity(10000.0, 'meter / megayear')>"
      ]
     },
     "execution_count": 24,
     "metadata": {},
     "output_type": "execute_result"
    }
   ],
   "source": [
    "u = pint.UnitRegistry()\n",
    "cmpery = 1.*u.cm/u.year\n",
    "mpermy = 1.*u.m/u.megayear\n",
    "year = 1.*u.year\n",
    "spery = year.to(u.sec)\n",
    "cmpery.to(mpermy)"
   ]
  },
  {
   "cell_type": "code",
   "execution_count": 25,
   "metadata": {
    "collapsed": false
   },
   "outputs": [
    {
     "name": "stdout",
     "output_type": "stream",
     "text": [
      "(0.04, 1.2675505856327397e-11)\n"
     ]
    }
   ],
   "source": [
    "box_half_width =4000e3\n",
    "age_at_trench = 100e6\n",
    "cmperyear = box_half_width / age_at_trench #m/y\n",
    "mpersec = cmperyear*(cmpery.to(u.m/u.second)).magnitude #m/sec\n",
    "print(cmperyear, mpersec )"
   ]
  },
  {
   "cell_type": "markdown",
   "metadata": {},
   "source": [
    "**Set parameter dictionaries**\n",
    "\n",
    "* Parameters are stored in dictionaries. \n",
    "* If starting from checkpoint, parameters are loaded using pickle\n",
    "* If params are passed in as flags to the script, they overwrite \n"
   ]
  },
  {
   "cell_type": "code",
   "execution_count": 26,
   "metadata": {
    "collapsed": false
   },
   "outputs": [],
   "source": [
    "###########\n",
    "#Parameter / settings dictionaries get saved&loaded using pickle\n",
    "###########\n",
    " \n",
    "dp = edict({}) #dimensional parameters\n",
    "sf = edict({}) #scaling factors\n",
    "ndp = edict({}) #dimensionless paramters\n",
    "md = edict({}) #model paramters, flags etc\n",
    "#od = edict({}) #output frequencies\n",
    "\n"
   ]
  },
  {
   "cell_type": "code",
   "execution_count": 27,
   "metadata": {
    "collapsed": false
   },
   "outputs": [],
   "source": [
    "dict_list = [dp, sf, ndp, md]\n",
    "dict_names = ['dp.pkl', 'sf.pkl', 'ndp.pkl', 'md.pkl']\n",
    "\n",
    "def save_pickles(dict_list, dict_names, dictPath):\n",
    "    import pickle\n",
    "    counter = 0\n",
    "    for pdict in dict_list:\n",
    "        myfile = os.path.join(dictPath, dict_names[counter])\n",
    "        with open(myfile, 'wb') as f:\n",
    "            pickle.dump(pdict, f)\n",
    "        counter+=1\n",
    "\n",
    "\n",
    "#ended up having to pretty much write a hard-coded function\n",
    "#All dictionaries we want checkpointed will have to  be added here \n",
    "#and where the function is called\n",
    "#Fortunately, this function is only called ONCE\n",
    "\n",
    "def load_pickles():\n",
    "    import pickle\n",
    "    dirpath = os.path.join(checkpointPath, str(step))\n",
    "    dpfile = open(os.path.join(dirpath, 'dp.pkl'), 'r')\n",
    "    dp = pickle.load(dpfile)\n",
    "#    #\n",
    "    ndpfile = open(os.path.join(dirpath, 'ndp.pkl'), 'r')\n",
    "    ndp = edict(pickle.load(ndpfile))\n",
    "    #\n",
    "    sffile = open(os.path.join(dirpath, 'sf.pkl'), 'r')\n",
    "    sf = edict(pickle.load(sffile))\n",
    "    #\n",
    "    mdfile = open(os.path.join(dirpath, 'md.pkl'), 'r')\n",
    "    md = edict(pickle.load(mdfile))\n",
    "    return dp, ndp, sf, md"
   ]
  },
  {
   "cell_type": "code",
   "execution_count": 28,
   "metadata": {
    "collapsed": false
   },
   "outputs": [],
   "source": [
    "###########\n",
    "#Store the physical parameters, scale factors and dimensionless pramters in easyDicts\n",
    "#Mainly helps with avoiding overwriting variables\n",
    "###########\n",
    "\n",
    "\n",
    "dp = edict({'LS':2900*1e3, #Scaling Length scale\n",
    "            'depth':660*1e3, #Depth of domain\n",
    "            'rho':3300.,  #reference density\n",
    "            'g':9.8, #surface gravity\n",
    "            'eta0':2.5e20, #reference viscosity\n",
    "            'k':1e-6, #thermal diffusivity\n",
    "            'a':3e-5, #surface thermal expansivity\n",
    "            'R':8.314, #gas constant\n",
    "            'TP':1673., #mantle potential temp (K)\n",
    "            'TS':273., #surface temp (K)\n",
    "            #Rheology - flow law paramters\n",
    "            'Adf':3e-11, #pre-exp factor for diffusion creep\n",
    "            #'Edf':1e5, #Total viscosity variation in the Kaplan model\n",
    "            'Edf':3e5,\n",
    "            'cm':40e6, #mantle cohesion in Byerlee law\n",
    "            'cc':40e6, #mantle cohesion in Byerlee law\n",
    "            'ci':40e6, #mantle cohesion in Byerlee law\n",
    "            'cf':40e6, #mantle cohesion in Byerlee law\n",
    "            'fcm':0.06,   #mantle friction coefficient in Byerlee law (tan(phi))\n",
    "            'fcc':0.06,   #crust friction coefficient \n",
    "            'fci':0.06,   #subduction interface friction coefficient\n",
    "            'fcf':0.06,   #subduction interface friction coefficient\n",
    "            #Rheology - cutoff values\n",
    "            'eta_min':1e17, \n",
    "            'eta_max':1e25, #viscosity max in the mantle material\n",
    "            'eta_min_crust':2.5e19, #viscosity min in the weak-crust material\n",
    "            'eta_max_crust':2.5e19, #viscosity max in the weak-crust material\n",
    "            'eta_min_interface':2.5e19, #viscosity min in the subduction interface material\n",
    "            'eta_max_interface':2.5e19, #viscosity max in the subduction interface material\n",
    "            'eta_min_fault':2.5e19, #viscosity min in the subduction interface material\n",
    "            'eta_max_fault':2.5e19, #viscosity max in the subduction interface material\n",
    "            #Length scales\n",
    "            'MANTLETOCRUST':8.*1e3, #Crust depth\n",
    "            'HARZBURGDEPTH':40e3,\n",
    "            'CRUSTTOMANTLE':800.*1e3,\n",
    "            'LITHTOMANTLE':(900.*1e3),\n",
    "            'MANTLETOLITH':200.*1e3, \n",
    "            'TOPOHEIGHT':10.*1e3,  #rock-air topography limits\n",
    "            'CRUSTTOECL':100.*1e3,\n",
    "            'LOWMANTLEDEPTH':660.*1e3, \n",
    "            'CRUSTVISCUTOFF':150.*1e3, #Deeper than this, crust material rheology reverts to mantle rheology\n",
    "            'AGETRACKDEPTH':100e3, #above this depth we track the age of the lithsphere (below age is assumed zero)\n",
    "            #Slab and plate parameters\n",
    "            'roc':250e3,     #radius of curvature of slab\n",
    "            'subzone':0.0,   #X position of subduction zone..\n",
    "            'lRidge':-0.5*(660e3*6),  #For depth = 670 km, aspect ratio of 6, this puts the ridges at MINX, MAXX\n",
    "            'rRidge':0.5*(660e3*6),\n",
    "            'maxDepth':250e3,\n",
    "            'theta':70., #Angle to truncate the slab (can also control with a maxDepth param)\n",
    "            'slabmaxAge':60e6, #age of subduction plate at trench\n",
    "            'platemaxAge':60e6, #max age of slab (Plate model)\n",
    "            'sense':'Right', #dip direction\n",
    "            'op_age_fac':0.5, #this controls the overidding plate age reduction\n",
    "            #Misc\n",
    "            'StALS':100e3, #depth of sticky air layer\n",
    "            'Steta_n':1e19, #stick air viscosity, normal\n",
    "            'Steta_s':1e18, #stick air viscosity, shear \n",
    "            'plate_vel':4,\n",
    "            'low_mantle_visc_fac':30.\n",
    "           })\n",
    "\n",
    "#append any derived parameters to the dictionary\n",
    "dp.deltaT = dp.TP - dp.TS\n",
    "\n",
    "\n",
    "\n"
   ]
  },
  {
   "cell_type": "code",
   "execution_count": 29,
   "metadata": {
    "collapsed": false
   },
   "outputs": [],
   "source": [
    "#Modelling and Physics switches\n",
    "\n",
    "md = edict({'refineMesh':True,\n",
    "            'stickyAir':False,\n",
    "            'subductionFault':False,\n",
    "            'symmetricIcs':False,\n",
    "            'velBcs':False,\n",
    "            'aspectRatio':6,\n",
    "            'compBuoyancy':False, #use compositional & phase buoyancy, or simply thermal\n",
    "            'periodicBcs':False,\n",
    "            'RES':64,\n",
    "            'PIC_integration':True,\n",
    "            'ppc':25,\n",
    "            'elementType':\"Q1/dQ0\"\n",
    "            })\n",
    "\n",
    "#\"Q2/DPC1\""
   ]
  },
  {
   "cell_type": "code",
   "execution_count": null,
   "metadata": {
    "collapsed": false
   },
   "outputs": [],
   "source": []
  },
  {
   "cell_type": "code",
   "execution_count": 30,
   "metadata": {
    "collapsed": false
   },
   "outputs": [],
   "source": [
    "###########\n",
    "#If starting from a checkpoint load params from file\n",
    "###########\n",
    "\n",
    "if checkpointLoad:\n",
    "    dp, ndp, sf, md = load_pickles()  #remember to add any extra dictionaries\n"
   ]
  },
  {
   "cell_type": "code",
   "execution_count": 31,
   "metadata": {
    "collapsed": false
   },
   "outputs": [],
   "source": [
    "###########\n",
    "#If command line args are given, overwrite\n",
    "#Note that this assumes that params as commans line args/\n",
    "#only append to the 'dimensional' and 'model' dictionary (not the non-dimensional)\n",
    "###########    \n",
    "\n",
    "\n",
    "###########\n",
    "#If extra arguments are provided to the script\" eg:\n",
    "### >>> uw.py 2 dp.arg1=1 dp.arg2=foo dp.arg3=3.0\n",
    "###\n",
    "###This would assign ModNum = 2, all other values go into the dp dictionary, under key names provided\n",
    "###\n",
    "###Two operators are searched for, = & *=\n",
    "###\n",
    "###If =, parameter is re-assigned to givn value\n",
    "###If *=, parameter is multipled by given value\n",
    "###\n",
    "### >>> uw.py 2 dp.arg1=1 dp.arg2=foo dp.arg3*=3.0\n",
    "###########\n",
    "\n",
    "for farg in sys.argv[1:]:\n",
    "    try:\n",
    "        (dicitem,val) = farg.split(\"=\") #Split on equals operator\n",
    "        (dic,arg) = dicitem.split(\".\") #colon notation\n",
    "        if '*=' in farg:\n",
    "            (dicitem,val) = farg.split(\"*=\") #If in-place multiplication, split on '*='\n",
    "            (dic,arg) = dicitem.split(\".\")\n",
    "            \n",
    "        if val == 'True': \n",
    "            val = True\n",
    "        elif val == 'False':     #First check if args are boolean\n",
    "            val = False\n",
    "        else:\n",
    "            try:\n",
    "                val = float(val) #next try to convert  to a float,\n",
    "            except ValueError:\n",
    "                pass             #otherwise leave as string\n",
    "        #Update the dictionary\n",
    "        if farg.startswith('dp'):\n",
    "            if '*=' in farg:\n",
    "                dp[arg] = dp[arg]*val #multiply parameter by given factor\n",
    "            else:\n",
    "                dp[arg] = val    #or reassign parameter by given value\n",
    "        if farg.startswith('md'):\n",
    "            if '*=' in farg:\n",
    "                md[arg] = md[arg]*val #multiply parameter by given factor\n",
    "            else:\n",
    "                md[arg] = val    #or reassign parameter by given value\n",
    "                \n",
    "    except:\n",
    "        pass\n",
    "            \n",
    "\n",
    "comm.barrier()"
   ]
  },
  {
   "cell_type": "code",
   "execution_count": 32,
   "metadata": {
    "collapsed": true
   },
   "outputs": [],
   "source": [
    "#print('refine Mesh is: ', md.refineMesh)"
   ]
  },
  {
   "cell_type": "code",
   "execution_count": 33,
   "metadata": {
    "collapsed": false
   },
   "outputs": [],
   "source": [
    "#Only build these guys first time around, otherwise the read from checkpoints\n",
    "#Important because some of these params (like SZ location) may change during model evolution\n",
    "\n",
    "\n",
    "if not checkpointLoad:\n",
    "\n",
    "    \n",
    "    \n",
    "    sf = edict({'stress':dp.LS**2/(dp.k*dp.eta0),\n",
    "                'lith_grad':dp.rho*dp.g*(dp.LS)**3/(dp.eta0*dp.k) , \n",
    "                'vel':dp.LS/dp.k,\n",
    "                'SR':dp.LS**2/dp.k, \n",
    "                'E': 1./(dp.R*dp.deltaT)\n",
    "               })\n",
    "\n",
    "    #dimensionless parameters\n",
    "\n",
    "    ndp = edict({'RA':(dp.g*dp.rho*dp.a*(dp.TP - dp.TS)*(dp.LS)**3)/(dp.k*dp.eta0),\n",
    "                 #'Edf':math.log(dp.Edf),\n",
    "                 'Edf':dp.Edf*sf.E,\n",
    "                 'TSP':0., \n",
    "                 'TBP':1.,\n",
    "                 'TPP':(dp.TP - dp.TS)/dp.deltaT, #dimensionless potential temp\n",
    "                 'TS':dp.TS/dp.deltaT,\n",
    "                 'TP':dp.TP/dp.deltaT,\n",
    "                 'cm':dp.cm*sf.stress,\n",
    "                 'cc':dp.cc*sf.stress,    #{dimensionless cohesion in mantle, crust, interface}\n",
    "                 'ci':dp.ci*sf.stress,\n",
    "                 'cf':dp.cf*sf.stress,\n",
    "                 'fcmd':dp.fcm*sf.lith_grad, \n",
    "                 'fccd':dp.fcc*sf.lith_grad, #{dimensionless friction coefficient in mantle, crust, interface}\n",
    "                 'fcid':dp.fci*sf.lith_grad, \n",
    "                 'fcfd':dp.fci*sf.lith_grad, \n",
    "                 #Rheology - cutoff values\n",
    "                 'eta_min':dp.eta_min/dp.eta0, \n",
    "                 'eta_max':dp.eta_max/dp.eta0, #viscosity max in the mantle material\n",
    "                 'eta_min_crust':dp.eta_min_crust/dp.eta0, #viscosity min in the weak-crust material\n",
    "                 'eta_max_crust':dp.eta_max_crust/dp.eta0, #viscosity max in the weak-crust material\n",
    "                 'eta_min_interface':dp.eta_min_interface/dp.eta0, #viscosity min in the subduction interface material\n",
    "                 'eta_max_interface':dp.eta_max_interface/dp.eta0, #viscosity max in the subduction interface material\n",
    "                 'eta_min_fault':dp.eta_min_fault/dp.eta0, #viscosity min in the subduction interface material\n",
    "                 'eta_max_fault':dp.eta_max_fault/dp.eta0, #viscosity max in the subduction interface material   \n",
    "                 #Length scales\n",
    "                 'MANTLETOCRUST':dp.MANTLETOCRUST/dp.LS, #Crust depth\n",
    "                 'HARZBURGDEPTH':dp.HARZBURGDEPTH/dp.LS,\n",
    "                 'CRUSTTOMANTLE':dp.CRUSTTOMANTLE/dp.LS,\n",
    "                 'LITHTOMANTLE':dp.LITHTOMANTLE/dp.LS,\n",
    "                 'MANTLETOLITH':dp.MANTLETOLITH/dp.LS,\n",
    "                 'TOPOHEIGHT':dp.TOPOHEIGHT/dp.LS,  #rock-air topography limits\n",
    "                 'CRUSTTOECL':dp.CRUSTTOECL/dp.LS,\n",
    "                 'LOWMANTLEDEPTH':dp.LOWMANTLEDEPTH/dp.LS, \n",
    "                 'CRUSTVISCUTOFF':dp.CRUSTVISCUTOFF/dp.LS, #Deeper than this, crust material rheology reverts to mantle rheology\n",
    "                 'AGETRACKDEPTH':dp.AGETRACKDEPTH/dp.LS,\n",
    "                 #Slab and plate parameters\n",
    "                 'roc':dp.roc/dp.LS,     #radius of curvature of slab\n",
    "                 'subzone':dp.subzone/dp.LS,   #X position of subduction zone..\n",
    "                 'lRidge':np.round(dp.lRidge/dp.LS, 3),  #For depth = 670 km, aspect ratio of 4, this puts the ridges at MINX, MAXX\n",
    "                 'rRidge':np.round(dp.rRidge/dp.LS, 3),\n",
    "                 'maxDepth':dp.maxDepth/dp.LS,    \n",
    "                 #misc\n",
    "                 'Steta_n':dp.Steta_n/dp.eta0, #stick air viscosity, normal\n",
    "                 'Steta_s':dp.Steta_n/dp.eta0, #stick air viscosity, shear \n",
    "                 'StALS':dp.StALS/dp.LS,\n",
    "                 'plate_vel':sf.vel*dp.plate_vel*(cmpery.to(u.m/u.second)).magnitude,\n",
    "                 'low_mantle_visc_fac':dp.low_mantle_visc_fac\n",
    "                })\n",
    "\n",
    "\n",
    "\n",
    "    #Append any more derived paramters\n",
    "    ndp.StRA = (3300.*dp.g*(dp.LS)**3)/(dp.eta0 *dp.k) #Composisitional Rayleigh number for rock-air buoyancy force\n",
    "    dp.CVR = (0.1*(dp.k/dp.LS)*ndp.RA**(2/3.))\n",
    "    ndp.CVR = dp.CVR*sf.vel #characteristic velocity"
   ]
  },
  {
   "cell_type": "code",
   "execution_count": 34,
   "metadata": {
    "collapsed": false
   },
   "outputs": [
    {
     "data": {
      "text/plain": [
       "(25.77408158355957, 0.195)"
      ]
     },
     "execution_count": 34,
     "metadata": {},
     "output_type": "execute_result"
    }
   ],
   "source": [
    "ndp.Edf, ndp.TS\n",
    "#sf.lith_grad"
   ]
  },
  {
   "cell_type": "markdown",
   "metadata": {},
   "source": [
    "**Model setup parameters**"
   ]
  },
  {
   "cell_type": "code",
   "execution_count": 35,
   "metadata": {
    "collapsed": true
   },
   "outputs": [],
   "source": [
    "if 'Q2' in md.elementType:\n",
    "    md.RES = int(0.5*md.RES)"
   ]
  },
  {
   "cell_type": "code",
   "execution_count": 36,
   "metadata": {
    "collapsed": false
   },
   "outputs": [],
   "source": [
    "###########\n",
    "#Model setup parameters\n",
    "###########\n",
    "\n",
    "dim = 2          # number of spatial dimensions\n",
    "\n",
    "\n",
    "#Domain and Mesh paramters\n",
    "Xres = int(md.RES*8)   #more than twice the resolution in X-dim, which will be 'corrected' by the refinement we'll use in Y\n",
    "\n",
    "\n",
    "MINY = 1. - (dp.depth/dp.LS)\n",
    "if md.stickyAir:\n",
    "    Yres = int(md.RES)\n",
    "    MAXY = 1. + dp.StALS/dp.LS #150km\n",
    "    \n",
    "else:\n",
    "    Yres = int(md.RES)\n",
    "    MAXY = 1.\n",
    "\n",
    "\n",
    "periodic = [False, False]\n",
    "if md.periodicBcs:\n",
    "    periodic = [True, False]\n",
    "    \n",
    "    \n",
    "hw = np.round(0.5*(dp.depth/dp.LS)*md.aspectRatio, 3)\n",
    "MINX = -1.*hw\n",
    "\n",
    "MAXX = hw\n",
    "MAXY = 1.\n",
    "    \n",
    "    \n",
    "\n",
    "Xres = int(md.RES*md.aspectRatio) #careful\n",
    "#if MINY == 0.5:\n",
    "#    Xres = int(2.*RES*md.aspectRatio)\n",
    "    \n",
    "\n",
    "if md.stickyAir:\n",
    "    Yres = int(md.RES)\n",
    "    MAXY = np.round(MAXY + dp.StALS/dp.LS, 3)\n",
    "    \n",
    "else:\n",
    "    Yres = int(md.RES)\n",
    "    MAXY = np.round(MAXY, 3)\n",
    "\n",
    "periodic = [False, False]\n",
    "if md.periodicBcs:\n",
    "    periodic = [True, False]\n",
    "    \n"
   ]
  },
  {
   "cell_type": "markdown",
   "metadata": {},
   "source": [
    "### Metric output"
   ]
  },
  {
   "cell_type": "code",
   "execution_count": 37,
   "metadata": {
    "collapsed": true
   },
   "outputs": [],
   "source": [
    "#Metric output stuff\n",
    "figures =  'store' #glucifer Store won't work on all machines, if not, set to 'gldb' \n",
    "swarm_repop, swarm_update = 10, 10\n",
    "gldbs_output = 5\n",
    "checkpoint_every, files_output = 10, 10\n",
    "metric_output = 2\n",
    "sticky_air_temp = 1e6"
   ]
  },
  {
   "cell_type": "code",
   "execution_count": 38,
   "metadata": {
    "collapsed": false
   },
   "outputs": [],
   "source": [
    "#dp.lRidge/dp.LS, np.round(0.5*(dp.depth/dp.LS)*md.aspectRatio, 1)\n",
    "#np.round(0.5*(dp.depth/dp.LS)*md.aspectRatio, 1), ndp.lRidge\n",
    "#np.round(dp.lRidge/dp.LS, 5)\n",
    "#md.aspectRatio\n",
    "#-0.5*(660e3*6)/dp.LS, np.round(0.5*(dp.depth/dp.LS)*md.aspectRatio, 3)\n",
    "#mesh.maxCoord[0], ndp.rRidge"
   ]
  },
  {
   "cell_type": "markdown",
   "metadata": {},
   "source": [
    "Create mesh and finite element variables\n",
    "------"
   ]
  },
  {
   "cell_type": "code",
   "execution_count": 39,
   "metadata": {
    "collapsed": false
   },
   "outputs": [],
   "source": [
    "mesh = uw.mesh.FeMesh_Cartesian( elementType = (md.elementType),\n",
    "                                 elementRes  = (Xres, Yres), \n",
    "                                 minCoord    = (MINX, MINY), \n",
    "                                 maxCoord    = (MAXX, MAXY), periodic=periodic)\n",
    "\n",
    "velocityField       = uw.mesh.MeshVariable( mesh=mesh,         nodeDofCount=2 )\n",
    "pressureField       = uw.mesh.MeshVariable( mesh=mesh.subMesh, nodeDofCount=1 )\n",
    "temperatureField    = uw.mesh.MeshVariable( mesh=mesh,         nodeDofCount=1 )\n",
    "temperatureDotField = uw.mesh.MeshVariable( mesh=mesh,         nodeDofCount=1 )"
   ]
  },
  {
   "cell_type": "code",
   "execution_count": 40,
   "metadata": {
    "collapsed": true
   },
   "outputs": [],
   "source": [
    "coordinate = fn.input()\n",
    "depthFn = MAXY - coordinate[1] #a function providing the depth\n",
    "\n",
    "\n",
    "xFn = coordinate[0]  #a function providing the x-coordinate\n",
    "yFn = coordinate[1]\n"
   ]
  },
  {
   "cell_type": "code",
   "execution_count": 41,
   "metadata": {
    "collapsed": false
   },
   "outputs": [],
   "source": [
    "mesh.reset()\n",
    "\n",
    "jWalls = mesh.specialSets[\"MinJ_VertexSet\"] + mesh.specialSets[\"MaxJ_VertexSet\"]\n",
    "yFn = coordinate[1]\n",
    "yField = uw.mesh.MeshVariable( mesh=mesh, nodeDofCount=1 )\n",
    "yField.data[:] = 0.\n",
    "yBC = uw.conditions.DirichletCondition( variable=yField, indexSetsPerDof=(jWalls,) )\n",
    "\n",
    "# set bottom wall temperature bc\n",
    "for index in mesh.specialSets[\"MinJ_VertexSet\"]:\n",
    "    yField.data[index] = mesh.minCoord[1]\n",
    "# set top wall temperature bc\n",
    "for index in mesh.specialSets[\"MaxJ_VertexSet\"]:\n",
    "    yField.data[index] = mesh.maxCoord[1]\n",
    "    \n",
    "    \n",
    "    \n",
    "s = 2.5\n",
    "intensityFac = 1.5\n",
    "intensityFn = (((yFn - MINY)/(MAXY-MINY))**s)\n",
    "intensityFn *= intensityFac\n",
    "intensityFn += 1.\n",
    "\n",
    "\n",
    "yLaplaceEquation = uw.systems.SteadyStateHeat(temperatureField=yField, fn_diffusivity=intensityFn, conditions=[yBC,])\n",
    "\n",
    "# get the default heat equation solver\n",
    "yLaplaceSolver = uw.systems.Solver(yLaplaceEquation)\n",
    "# solve\n",
    "yLaplaceSolver.solve()\n",
    "\n",
    "\n",
    "#Get the array of Y positions - copy may be necessary, not sure. \n",
    "newYpos = yField.data.copy() \n",
    "\n",
    "uw.barrier()\n",
    "with mesh.deform_mesh():\n",
    "     mesh.data[:,1] = newYpos[:,0]"
   ]
  },
  {
   "cell_type": "code",
   "execution_count": null,
   "metadata": {
    "collapsed": true
   },
   "outputs": [],
   "source": []
  },
  {
   "cell_type": "code",
   "execution_count": 42,
   "metadata": {
    "collapsed": false
   },
   "outputs": [],
   "source": [
    "#fig= glucifer.Figure()\n",
    "#fig.append(glucifer.objects.Mesh(mesh))\n",
    "#fig.append( glucifer.objects.Surface(mesh,intensityFn, discrete=True))\n",
    "#fig.show()\n",
    "#fig.save_database('test.gldb')"
   ]
  },
  {
   "cell_type": "code",
   "execution_count": 43,
   "metadata": {
    "collapsed": false
   },
   "outputs": [],
   "source": [
    "#THis is a hack for adding a sticky air domain, we refine MAXY and things like the temperature stencil work from Y = 1. \n",
    "\n",
    "if md.stickyAir:\n",
    "    MAXY = 1."
   ]
  },
  {
   "cell_type": "code",
   "execution_count": null,
   "metadata": {
    "collapsed": false
   },
   "outputs": [],
   "source": []
  },
  {
   "cell_type": "markdown",
   "metadata": {},
   "source": [
    "Initial conditions\n",
    "-------\n"
   ]
  },
  {
   "cell_type": "code",
   "execution_count": null,
   "metadata": {
    "collapsed": false
   },
   "outputs": [],
   "source": []
  },
  {
   "cell_type": "code",
   "execution_count": 44,
   "metadata": {
    "collapsed": false
   },
   "outputs": [],
   "source": [
    "\n",
    "def age_fn(xFn, sz = 0.0, lMOR=MINX, rMOR=MAXX, opFac=1., conjugate_plate = False):\n",
    "    \"\"\"\n",
    "    Simple function to generate a discrete 1-d (i.e x-coordinate) function for the age of the thermal BC. \n",
    "    All paramters are dimensionless\n",
    "    sz: location of subduction zone\n",
    "    lMOR: location of left-hand MOR\n",
    "    rMOR: location of right-hand MOR\n",
    "    opFac: uniform reduce the age of the right hand plate by this factor\n",
    "    conjugate_plate: if True, build plates on the outer sides of the MORs, if False, age = 0. \n",
    "    \"\"\"\n",
    "    \n",
    "    if lMOR < MINX:\n",
    "        lMOR = MINX\n",
    "    if rMOR > MAXX:\n",
    "        rMOR = MAXX\n",
    "\n",
    "    if conjugate_plate:\n",
    "        ageFn = fn.branching.conditional([(operator.and_(xFn > lMOR, xFn < sz) , (xFn + abs(lMOR))/(abs(sz-lMOR))), \n",
    "                                      (operator.and_(xFn < rMOR, xFn >= sz), (1.-(xFn + abs(sz))/abs(rMOR-sz))*opFac),\n",
    "                                      (xFn > rMOR, opFac*(xFn -abs(rMOR)) / abs(rMOR-sz) ),\n",
    "                                      (True, fn.math.abs((((xFn + abs(lMOR)) / (abs(sz-lMOR))))))\n",
    "                                         ])\n",
    "    else:    \n",
    "        \n",
    "        ageFn = fn.branching.conditional([(operator.and_(xFn > lMOR, xFn < sz) , (xFn + abs(lMOR))/(abs(sz-lMOR))), \n",
    "                                      (operator.and_(xFn < rMOR, xFn >= sz), (1.-(xFn + abs(sz))/abs(rMOR-sz))*opFac),\n",
    "\n",
    "                                      (True, 0.0)])\n",
    "    return ageFn"
   ]
  },
  {
   "cell_type": "code",
   "execution_count": 45,
   "metadata": {
    "collapsed": false
   },
   "outputs": [],
   "source": [
    "#ndp.lRidge *= 0.5"
   ]
  },
  {
   "cell_type": "code",
   "execution_count": 46,
   "metadata": {
    "collapsed": false
   },
   "outputs": [],
   "source": [
    "###########\n",
    "#Thermal initial condition - half-space cooling\n",
    "###########\n",
    "\n",
    "#  a few conversions\n",
    "ageAtTrenchSeconds = min(dp.platemaxAge*(3600*24*365), dp.slabmaxAge*(3600*24*365))\n",
    "#slab perturbation params (mostly dimensionless / model params here)\n",
    "phi = 90. - dp.theta\n",
    "Org = (ndp.subzone, MAXY-ndp.roc)\n",
    "\n",
    "#First build the top TBL\n",
    "ageFn = age_fn(xFn, sz =ndp.subzone, lMOR=ndp.lRidge,rMOR=ndp.rRidge, conjugate_plate=True, opFac = dp.op_age_fac)\n",
    "#dimensionlize the age function\n",
    "ageFn *= ageAtTrenchSeconds #seconds to year\n",
    "w0 = (2.3*math.sqrt(dp.k*ageAtTrenchSeconds))/dp.LS #diffusion depth of plate at the trench\n",
    "\n",
    "tempBL = (ndp.TPP - ndp.TSP)*fn.math.erf((depthFn*dp.LS)/(2.*fn.math.sqrt(dp.k*ageFn))) + ndp.TSP #boundary layer function\n",
    "tempTBL =  fn.branching.conditional([(depthFn < w0, tempBL),\n",
    "                          (True, ndp.TPP)])\n",
    "\n",
    "if not md.symmetricIcs:\n",
    "    if not checkpointLoad:\n",
    "        out = uw.utils.MeshVariable_Projection( temperatureField, tempTBL) #apply function with projection\n",
    "        out.solve()\n",
    "\n"
   ]
  },
  {
   "cell_type": "code",
   "execution_count": 47,
   "metadata": {
    "collapsed": false
   },
   "outputs": [
    {
     "data": {
      "text/plain": [
       "0.03449917953840105"
      ]
     },
     "execution_count": 47,
     "metadata": {},
     "output_type": "execute_result"
    }
   ],
   "source": [
    "w0"
   ]
  },
  {
   "cell_type": "code",
   "execution_count": 48,
   "metadata": {
    "collapsed": false
   },
   "outputs": [],
   "source": [
    "#Now build the perturbation part\n",
    "def inCircleFnGenerator(centre, radius):\n",
    "    coord = fn.input()\n",
    "    offsetFn = coord - centre\n",
    "    return fn.math.dot( offsetFn, offsetFn ) < radius**2\n",
    "\n",
    "\n",
    "\n",
    "#We use circles to define our slab and crust perturbation,  \n",
    "Oc = inCircleFnGenerator(Org , ndp.roc)\n",
    "Ic = inCircleFnGenerator(Org , ndp.roc - w0)\n",
    "Cc = inCircleFnGenerator(Org , ndp.roc - (1.2*ndp.MANTLETOCRUST)) #... weak zone on 'outside' of slab\n",
    "Hc = inCircleFnGenerator(Org , ndp.roc - ndp.HARZBURGDEPTH) #... Harzburgite layer \n",
    "dx = (ndp.roc)/(np.math.tan((np.math.pi/180.)*phi))\n",
    "\n",
    "#We'll also create a triangle which will truncate the circles defining the slab...\n",
    "if dp.sense == 'Left':\n",
    "    ptx = ndp.subzone - dx\n",
    "else:\n",
    "    ptx = ndp.subzone + dx\n",
    "coords = ((0.+ ndp.subzone, MAXY), (0.+ ndp.subzone, MAXY-ndp.roc), (ptx, MAXY))\n",
    "Tri = fn.shape.Polygon(np.array(coords))\n",
    "\n",
    "#Actually apply the perturbation - could probably avoid particle walk here\n",
    "if not md.symmetricIcs:\n",
    "    if not checkpointLoad:\n",
    "        sdFn = ((ndp.roc - fn.math.sqrt((coordinate[0] - Org[0])**2. + (coordinate[1] - Org[1])**2.)))\n",
    "        slabFn = ndp.TPP*fn.math.erf((sdFn*dp.LS)/(2.*math.sqrt(dp.k*ageAtTrenchSeconds))) + ndp.TSP\n",
    "        for index, coord in enumerate(mesh.data):\n",
    "            if (\n",
    "                Oc.evaluate(tuple(coord)) and\n",
    "                Tri.evaluate(tuple(coord)) and not\n",
    "                Ic.evaluate(tuple(coord)) and\n",
    "                coord[1] > (MAXY - ndp.maxDepth)\n",
    "                ): #In the quarter-circle defining the lithosphere\n",
    "                temperatureField.data[index] = slabFn.evaluate(mesh)[index]\n"
   ]
  },
  {
   "cell_type": "code",
   "execution_count": 49,
   "metadata": {
    "collapsed": false
   },
   "outputs": [],
   "source": [
    "#sdFn = ((RocM - fn.math.sqrt((coordinate[0] - Org[0])**2. + (coordinate[1] - Org[1])**2.)))\n",
    "#slabFn = ndp.TPP*fn.math.erf((sdFn*dp.LS)/(2.*math.sqrt(dp.k*ageAtTrenchSeconds))) + ndp.TSP\n",
    "#sdFn, slabFn"
   ]
  },
  {
   "cell_type": "code",
   "execution_count": 50,
   "metadata": {
    "collapsed": false
   },
   "outputs": [],
   "source": [
    "#Make sure material in sticky air region is at the surface temperature.\n",
    "for index, coord in enumerate(mesh.data):\n",
    "            if coord[1] >= MAXY:\n",
    "                temperatureField.data[index] = ndp.TSP"
   ]
  },
  {
   "cell_type": "code",
   "execution_count": 51,
   "metadata": {
    "collapsed": false
   },
   "outputs": [],
   "source": [
    "#fn.math.erf((sdFn*dp.LS)/(2.*fn.math.sqrt(dp.k*(slabmaxAge*(3600*24*365))))) \n",
    "#CRUSTVISCUTOFF, MANTLETOCRUST*3"
   ]
  },
  {
   "cell_type": "markdown",
   "metadata": {
    "collapsed": false
   },
   "source": [
    "def matplot_field(temperatureField, dp):\n",
    "    if uw.nProcs() != 1:\n",
    "        print(\"only in Serial folks\")\n",
    "    else:\n",
    "        import matplotlib.pyplot as pyplt\n",
    "        try :\n",
    "            if(__IPYTHON__) :\n",
    "                get_ipython().magic(u'matplotlib inline')\n",
    "        except NameError :\n",
    "            pass\n",
    "        field_data = temperatureField.data.reshape(mesh.elementRes[1] + 1, mesh.elementRes[0] + 1)\n",
    "        fig, ax = pyplt.subplots(figsize=(32,2))\n",
    "        ql = dp.LS/1e3\n",
    "        pyplt.ioff()\n",
    "        cax =ax.imshow(np.flipud(field_data), cmap='coolwarm', aspect = 0.5, extent=[0,ql*aspectRatio,ql, 0])\n",
    "        fig.colorbar(cax, orientation='horizontal' )\n",
    "        #ax.set_x([0,dp.LS*aspectRatio])\n",
    "        pyplt.tight_layout()\n",
    "        \n",
    "        return fig, ax\n",
    "        \n",
    "fig, ax = matplot_field(temperatureField, dp)\n",
    "fig.savefig('test.png')       "
   ]
  },
  {
   "cell_type": "code",
   "execution_count": 52,
   "metadata": {
    "collapsed": false
   },
   "outputs": [
    {
     "data": {
      "text/plain": [
       "(0.0, 1.0)"
      ]
     },
     "execution_count": 52,
     "metadata": {},
     "output_type": "execute_result"
    }
   ],
   "source": [
    "temperatureField.data.min(), temperatureField.data.max()\n"
   ]
  },
  {
   "cell_type": "code",
   "execution_count": 53,
   "metadata": {
    "collapsed": false
   },
   "outputs": [],
   "source": [
    "#fig= glucifer.Figure(quality=3)\n",
    "#fig.append( glucifer.objects.Surface(mesh,temperatureField))\n",
    "#fig.append( glucifer.objects.Surface(mesh,pressureField))\n",
    "\n",
    "\n",
    "#fig.append( glucifer.objects.Points(gSwarm,temperatureField ))\n",
    "#fig.append( glucifer.objects.Mesh(mesh))\n",
    "#fig.show()\n",
    "##\n",
    "#fig.save_database('test.gldb')\n",
    "#fig.save_image('test.png')\n"
   ]
  },
  {
   "cell_type": "markdown",
   "metadata": {},
   "source": [
    "Boundary conditions\n",
    "-------"
   ]
  },
  {
   "cell_type": "code",
   "execution_count": 54,
   "metadata": {
    "collapsed": false
   },
   "outputs": [
    {
     "name": "stdout",
     "output_type": "stream",
     "text": [
      "2\n"
     ]
    }
   ],
   "source": [
    "for index in mesh.specialSets[\"MinJ_VertexSet\"]:\n",
    "    temperatureField.data[index] = ndp.TBP\n",
    "for index in mesh.specialSets[\"MaxJ_VertexSet\"]:\n",
    "    temperatureField.data[index] = ndp.TSP\n",
    "    \n",
    "iWalls = mesh.specialSets[\"MinI_VertexSet\"] + mesh.specialSets[\"MaxI_VertexSet\"]\n",
    "jWalls = mesh.specialSets[\"MinJ_VertexSet\"] + mesh.specialSets[\"MaxJ_VertexSet\"]\n",
    "tWalls = mesh.specialSets[\"MaxJ_VertexSet\"]\n",
    "bWalls =mesh.specialSets[\"MinJ_VertexSet\"]\n",
    "\n",
    "VelBCs = mesh.specialSets[\"Empty\"]\n",
    "\n",
    "\n",
    "\n",
    "if md.velBcs:\n",
    "    for index in list(tWalls.data):\n",
    "\n",
    "        if (mesh.data[int(index)][0] < (ndp.subzone - 0.05*md.aspectRatio) and \n",
    "            mesh.data[int(index)][0] > (mesh.minCoord[0] + 0.05*md.aspectRatio)): #Only push with a portion of teh overiding plate\n",
    "            #print \"first\"\n",
    "            VelBCs.add(int(index))\n",
    "            #Set the plate velocities for the kinematic phase\n",
    "            velocityField.data[index] = [ndp.plate_vel, 0.]\n",
    "        \n",
    "        elif (mesh.data[int(index)][0] > (ndp.subzone + 0.05*md.aspectRatio) and \n",
    "            mesh.data[int(index)][0] < (mesh.maxCoord[0] - 0.05*md.aspectRatio)):\n",
    "            #print \"second\"\n",
    "            VelBCs.add(int(index))\n",
    "            #Set the plate velocities for the kinematic phase\n",
    "            velocityField.data[index] = [0., 0.]\n",
    "        \n",
    "\n",
    "#If periodic, we'll fix a the x-vel at a single node - at the bottom left (index 0)\n",
    "Fixed = mesh.specialSets[\"Empty\"]\n",
    "Fixed.add(int(0))        \n",
    "        \n",
    "\n",
    "if periodic[0] == False:\n",
    "    if md.velBcs:\n",
    "        print(1)\n",
    "        freeslipBC = uw.conditions.DirichletCondition( variable      = velocityField, \n",
    "                                               indexSetsPerDof = ( iWalls + VelBCs, jWalls) )\n",
    "    else:\n",
    "        print(2)\n",
    "        freeslipBC = uw.conditions.DirichletCondition( variable      = velocityField, \n",
    "                                               indexSetsPerDof = ( iWalls, jWalls) )\n",
    "\n",
    "\n",
    "\n",
    "\n",
    "\n",
    "\n",
    "if periodic[0] == True:\n",
    "    if md.velBcs:\n",
    "        print(3)\n",
    "        freeslipBC = uw.conditions.DirichletCondition( variable      = velocityField, \n",
    "                                               indexSetsPerDof = ( Fixed + VelBCs , jWalls) )\n",
    "    else:\n",
    "        print(4)\n",
    "        freeslipBC = uw.conditions.DirichletCondition( variable      = velocityField, \n",
    "                                               indexSetsPerDof = ( Fixed, jWalls) )\n",
    "        \n",
    "    \n",
    "    \n",
    "    \n",
    "# also set dirichlet for temp field\n",
    "dirichTempBC = uw.conditions.DirichletCondition(     variable=temperatureField, \n",
    "                                              indexSetsPerDof=(tWalls,) )\n",
    "dT_dy = [0.,0.]\n",
    "\n",
    "# also set dirichlet for temp field\n",
    "neumannTempBC = uw.conditions.NeumannCondition( dT_dy, variable=temperatureField, \n",
    "                                         nodeIndexSet=bWalls)\n",
    "\n"
   ]
  },
  {
   "cell_type": "code",
   "execution_count": null,
   "metadata": {
    "collapsed": false
   },
   "outputs": [],
   "source": []
  },
  {
   "cell_type": "code",
   "execution_count": 55,
   "metadata": {
    "collapsed": false
   },
   "outputs": [],
   "source": [
    "#check VelBCs are where we want them\n",
    "#test = np.zeros(len(tWalls.data))\n",
    "#VelBCs\n",
    "#tWalls.data\n",
    "#tWalls.data[VelBCs.data]\n",
    "#test[np.in1d(tWalls.data, VelBCs.data)] = 1.\n",
    "#test\n",
    "\n"
   ]
  },
  {
   "cell_type": "code",
   "execution_count": null,
   "metadata": {
    "collapsed": false
   },
   "outputs": [],
   "source": []
  },
  {
   "cell_type": "markdown",
   "metadata": {},
   "source": [
    "Swarm setup\n",
    "-----\n"
   ]
  },
  {
   "cell_type": "code",
   "execution_count": 56,
   "metadata": {
    "collapsed": false
   },
   "outputs": [],
   "source": [
    "###########\n",
    "#Material Swarm and variables\n",
    "###########\n",
    "\n",
    "#create material swarm\n",
    "gSwarm = uw.swarm.Swarm(mesh=mesh, particleEscape=True)\n",
    "\n",
    "#create swarm variables\n",
    "yieldingCheck = gSwarm.add_variable( dataType=\"int\", count=1 )\n",
    "materialVariable = gSwarm.add_variable( dataType=\"int\", count=1 )\n",
    "ageVariable = gSwarm.add_variable( dataType=\"double\", count=1 )\n",
    "\n",
    "\n",
    "#these lists  are part of the checkpointing implementation\n",
    "varlist = [materialVariable, yieldingCheck, ageVariable]\n",
    "varnames = ['materialVariable', 'yieldingCheck', 'ageVariable']"
   ]
  },
  {
   "cell_type": "code",
   "execution_count": 57,
   "metadata": {
    "collapsed": false
   },
   "outputs": [],
   "source": [
    "mantleIndex = 0\n",
    "crustIndex = 1\n",
    "harzIndex = 2\n",
    "airIndex = 3\n",
    "\n",
    "\n",
    "\n",
    "if checkpointLoad:\n",
    "    temperatureField.load(os.path.join(checkpointLoadDir, \"temperatureField\" + \".hdf5\"))\n",
    "    pressureField.load(os.path.join(checkpointLoadDir, \"pressureField\" + \".hdf5\"))\n",
    "    velocityField.load(os.path.join(checkpointLoadDir, \"velocityField\" + \".hdf5\"))\n",
    "    gSwarm.load(os.path.join(checkpointLoadDir, \"swarm\" + \".h5\"))\n",
    "    for ix in range(len(varlist)):\n",
    "        varb = varlist[ix]\n",
    "        varb.load(os.path.join(checkpointLoadDir,varnames[ix] + \".h5\"))\n",
    "\n",
    "else:\n",
    "\n",
    "    # Layouts are used to populate the swarm across the whole domain\n",
    "    layout = uw.swarm.layouts.PerCellRandomLayout(swarm=gSwarm, particlesPerCell=int(md.ppc))\n",
    "    gSwarm.populate_using_layout( layout=layout ) # Now use it to populate.\n",
    "    # Swarm variables\n",
    "    materialVariable.data[:] = mantleIndex\n",
    "    #tracerVariable.data[:] = 1\n",
    "    yieldingCheck.data[:] = 0\n",
    "    ageVariable.data[:] = -1\n",
    "\n",
    "    #Set initial air and crust materials (allow the graph to take care of lithsophere)\n",
    "    #########\n",
    "    #This initial material setup will be model dependent\n",
    "    #########\n",
    "    for particleID in range(gSwarm.particleCoordinates.data.shape[0]):\n",
    "        if (1. - gSwarm.particleCoordinates.data[particleID][1]) < ndp.MANTLETOCRUST:\n",
    "                 materialVariable.data[particleID] = crustIndex"
   ]
  },
  {
   "cell_type": "code",
   "execution_count": 58,
   "metadata": {
    "collapsed": false
   },
   "outputs": [
    {
     "data": {
      "text/plain": [
       "array([ 0, -1, -1,  1,  2,  3], dtype=int32)"
      ]
     },
     "execution_count": 58,
     "metadata": {},
     "output_type": "execute_result"
    }
   ],
   "source": [
    "###########\n",
    "#Little swarm to track subduction zone, ridge location\n",
    "###########\n",
    "swarmPlateBoundary = uw.swarm.Swarm( mesh=mesh )\n",
    "\n",
    "swarmCoords = np.array([ [0.0,1.], [-0.6999,1.],[0.6999,1.],[ndp.subzone,1.], [ndp.lRidge,1.],[ndp.rRidge,1.]])\n",
    "\n",
    "\n",
    "swarmPlateBoundary.add_particles_with_coordinates(swarmCoords)"
   ]
  },
  {
   "cell_type": "markdown",
   "metadata": {
    "collapsed": false
   },
   "source": [
    "###########\n",
    "#This block sets up a checkboard layout of passive tracers\n",
    "###########\n",
    "\n",
    "square_size = 0.1\n",
    "xlist = np.arange(mesh.minCoord[0] + square_size/2., mesh.maxCoord[0] + square_size/2., square_size)\n",
    "xlist = zip(xlist[:], xlist[1:])[::2]\n",
    "ylist = np.arange(mesh.minCoord[1] + square_size/2., mesh.maxCoord[1] + square_size/2., square_size)\n",
    "ylist = zip(ylist[:], ylist[1:])[::2]\n",
    "xops = []\n",
    "for vals in xlist:\n",
    "    xops.append( (operator.and_(   operator.gt(coordinate[0],vals[0]),   operator.lt(coordinate[0],vals[1])  ),0.) )\n",
    "xops.append((True,1.))\n",
    "\n",
    "testfunc = fn.branching.conditional(xops) \n",
    "\n",
    "yops = []\n",
    "for vals in ylist:\n",
    "    yops.append( (operator.and_(   operator.gt(coordinate[1],vals[0]),   operator.lt(coordinate[1],vals[1])  ),0.) )\n",
    "yops.append((True,testfunc))\n",
    "\n",
    "testfunc2 = fn.branching.conditional(yops) \n",
    "tracerVariable.data[:] = testfunc.evaluate(gSwarm)\n",
    "tracerVariable.data[:] = testfunc2.evaluate(gSwarm)"
   ]
  },
  {
   "cell_type": "code",
   "execution_count": null,
   "metadata": {
    "collapsed": false
   },
   "outputs": [],
   "source": []
  },
  {
   "cell_type": "code",
   "execution_count": 59,
   "metadata": {
    "collapsed": false
   },
   "outputs": [],
   "source": [
    "##############\n",
    "#Set the initial particle age for particles above the critical depth; \n",
    "#only material older than crustageCond will be transformed to crust / harzburgite\n",
    "##############\n",
    "\n",
    "ageVariable.data[:] = 0. #start with all zero\n",
    "ageVariable.data[:] = ageFn.evaluate(gSwarm)/sf.SR\n",
    "crustageCond = 2e6*(3600.*365.*24.)/sf.SR #set inital age above critical depth. (x...Ma)\n",
    "\n",
    "\n",
    "\n",
    "ageConditions = [ (depthFn < ndp.AGETRACKDEPTH, ageVariable),  #In the main loop we add ageVariable + dt here\n",
    "                  (True, 0.) ]\n",
    "                 \n",
    "#apply conditional \n",
    "ageVariable.data[:] = fn.branching.conditional( ageConditions ).evaluate(gSwarm)\n",
    "\n",
    "ageDT = 0.#this is used in the main loop for short term time increments"
   ]
  },
  {
   "cell_type": "code",
   "execution_count": 60,
   "metadata": {
    "collapsed": false
   },
   "outputs": [],
   "source": [
    "#fig= glucifer.Figure()\n",
    "#fig.append( glucifer.objects.Points(gSwarm,ageVariable))\n",
    "#fig.append( glucifer.objects.Points(gSwarm, viscosityMapFn, logScale=True, valueRange =[1e-3,1e5]))\n",
    "\n",
    "\n",
    "#fig.show()"
   ]
  },
  {
   "cell_type": "code",
   "execution_count": 61,
   "metadata": {
    "collapsed": false
   },
   "outputs": [],
   "source": [
    "##############\n",
    "#Here we set up a directed graph object that we we use to control the transformation from one material type to another\n",
    "##############\n",
    "\n",
    "#All depth conditions are given as (km/D) where D is the length scale,\n",
    "#note that 'model depths' are used, e.g. 1-z, where z is the vertical Underworld coordinate\n",
    "#All temp conditions are in dimensionless temp. [0. - 1.]\n",
    "\n",
    "#Need a list of all material indexes (safer in parallel)\n",
    "material_list = [0,1,2,3]\n",
    "\n",
    "if not checkpointLoad:\n",
    "    materialVariable.data[:] = 0 #Initialize to zero \n",
    "\n",
    "#Setup the graph object\n",
    "DG = material_graph.MatGraph()\n",
    "\n",
    "#Important: First thing to do is to add all the material types to the graph (i.e add nodes)\n",
    "DG.add_nodes_from(material_list)\n",
    "\n",
    "#Now set the conditions for transformations\n",
    "\n",
    "hs = 2e3/dp.LS  #add some hysteresis to the depths of transition\n",
    "\n",
    "#... to mantle\n",
    "DG.add_transition((crustIndex,mantleIndex), depthFn, operator.gt, ndp.CRUSTTOMANTLE + hs)\n",
    "DG.add_transition((harzIndex,mantleIndex), depthFn, operator.gt, ndp.CRUSTTOMANTLE + hs)\n",
    "DG.add_transition((airIndex,mantleIndex), depthFn, operator.gt, ndp.TOPOHEIGHT + hs)\n",
    "\n",
    "#... to crust\n",
    "DG.add_transition((mantleIndex,crustIndex), depthFn, operator.lt, ndp.MANTLETOCRUST)\n",
    "DG.add_transition((mantleIndex,crustIndex), xFn, operator.lt, ndp.subzone + 4.*ndp.MANTLETOCRUST) #No crust on the upper plate\n",
    "DG.add_transition((mantleIndex,crustIndex), ageVariable, operator.gt, crustageCond)\n",
    "\n",
    "\n",
    "DG.add_transition((harzIndex,crustIndex), depthFn, operator.lt, ndp.MANTLETOCRUST)\n",
    "DG.add_transition((harzIndex,crustIndex), xFn, operator.lt, ndp.subzone + 4.*ndp.MANTLETOCRUST) #This one sets no crust on the upper plate\n",
    "DG.add_transition((harzIndex,crustIndex), ageVariable, operator.gt, crustageCond)\n",
    "\n",
    "#... to Harzbugite\n",
    "DG.add_transition((mantleIndex,harzIndex), depthFn, operator.lt, ndp.HARZBURGDEPTH)\n",
    "DG.add_transition((mantleIndex,harzIndex), depthFn, operator.gt, ndp.MANTLETOCRUST)\n",
    "DG.add_transition((mantleIndex,harzIndex), ageVariable, operator.gt, crustageCond) #Note we can mix functions and swarm variabls\n",
    "\n",
    "\n",
    "#... to air\n",
    "DG.add_transition((mantleIndex,airIndex), depthFn, operator.lt,0.)\n",
    "DG.add_transition((crustIndex,airIndex), depthFn, operator.lt, 0. )\n",
    "DG.add_transition((harzIndex,airIndex), depthFn, operator.lt, 0. )\n"
   ]
  },
  {
   "cell_type": "code",
   "execution_count": 62,
   "metadata": {
    "collapsed": false
   },
   "outputs": [],
   "source": [
    "#CRUSTTOMANTLE, HARZBURGDEPTH, 0. + 7.*MANTLETOCRUST"
   ]
  },
  {
   "cell_type": "code",
   "execution_count": 63,
   "metadata": {
    "collapsed": false
   },
   "outputs": [],
   "source": [
    "#gSwarm.particleCoordinates.data[particleID][1]"
   ]
  },
  {
   "cell_type": "code",
   "execution_count": 64,
   "metadata": {
    "collapsed": false
   },
   "outputs": [],
   "source": [
    "##############\n",
    "#For the slab_IC, we'll also add a crustal weak zone following the dipping perturbation\n",
    "##############\n",
    "\n",
    "if checkpointLoad != True:\n",
    "    if not md.symmetricIcs:\n",
    "        for particleID in range(gSwarm.particleCoordinates.data.shape[0]):\n",
    "            if gSwarm.particleCoordinates.data[particleID][1] < 0.:\n",
    "                materialVariable.data[particleID] = airIndex\n",
    "                \n",
    "            elif (\n",
    "                Oc.evaluate(list(gSwarm.particleCoordinates.data[particleID])) and\n",
    "                Tri.evaluate(list(gSwarm.particleCoordinates.data[particleID])) and\n",
    "                gSwarm.particleCoordinates.data[particleID][1] > (MAXY - ndp.maxDepth) and\n",
    "                Cc.evaluate(list(gSwarm.particleCoordinates.data[particleID])) == False\n",
    "                \n",
    "                ):\n",
    "                materialVariable.data[particleID] = crustIndex\n",
    "                \n",
    "            elif (\n",
    "                Oc.evaluate(list(gSwarm.particleCoordinates.data[particleID])) and\n",
    "                Tri.evaluate(list(gSwarm.particleCoordinates.data[particleID])) and\n",
    "                gSwarm.particleCoordinates.data[particleID][1] > (MAXY - ndp.maxDepth) and\n",
    "                Hc.evaluate(list(gSwarm.particleCoordinates.data[particleID])) == False\n",
    "                \n",
    "                ):\n",
    "                materialVariable.data[particleID] = harzIndex"
   ]
  },
  {
   "cell_type": "code",
   "execution_count": 65,
   "metadata": {
    "collapsed": false
   },
   "outputs": [],
   "source": [
    "##############\n",
    "#This is how we use the material graph object to test / apply material transformations\n",
    "##############\n",
    "DG.build_condition_list(materialVariable)\n",
    "\n",
    "for i in range(2): #Need to go through a number of times\n",
    "    materialVariable.data[:] = fn.branching.conditional(DG.condition_list).evaluate(gSwarm)"
   ]
  },
  {
   "cell_type": "code",
   "execution_count": 66,
   "metadata": {
    "collapsed": false
   },
   "outputs": [],
   "source": [
    "#maxDepth"
   ]
  },
  {
   "cell_type": "markdown",
   "metadata": {
    "collapsed": false
   },
   "source": [
    "## Fault stuff\n",
    "\n"
   ]
  },
  {
   "cell_type": "code",
   "execution_count": 67,
   "metadata": {
    "collapsed": false
   },
   "outputs": [
    {
     "name": "stderr",
     "output_type": "stream",
     "text": [
      "/workspace/2dthermalslabs/kaplan/unsupported_dan/interfaces/__init__.py:9: UserWarning: \n",
      "\n",
      "The interface module is not supported.\n",
      "Questions should be addressed to louis.moresi@unimelb.edu.au \n",
      " \n",
      "  Questions should be addressed to louis.moresi@unimelb.edu.au \\n \"\"\"\n",
      "/workspace/2dthermalslabs/kaplan/unsupported_dan/faults/__init__.py:9: UserWarning: \n",
      "\n",
      "The fault module is not supported.\n",
      "Questions should be addressed to louis.moresi@unimelb.edu.au \n",
      " \n",
      "  Questions should be addressed to louis.moresi@unimelb.edu.au \\n \"\"\"\n"
     ]
    }
   ],
   "source": [
    "from unsupported_dan.interfaces.marker2D import markerLine2D\n",
    "from unsupported_dan.faults.faults2D import fault2D, fault_collection"
   ]
  },
  {
   "cell_type": "code",
   "execution_count": 68,
   "metadata": {
    "collapsed": true
   },
   "outputs": [],
   "source": [
    "def copy_markerLine2D(ml, thickness=False, ID=False):\n",
    "    \n",
    "    \"\"\"\n",
    "    \n",
    "    \"\"\"\n",
    "    if not thickness:\n",
    "        thickness = ml.thickness\n",
    "    if not ID:\n",
    "        ID = -1*ml.ID\n",
    "    new_line = markerLine2D(mesh, velocityField, [], [], thickness,  ID)\n",
    "    if ml.swarm.particleCoordinates.data.shape[0] > 0:\n",
    "        new_line.swarm.add_particles_with_coordinates(ml.swarm.particleCoordinates.data.copy())\n",
    "        \n",
    "    new_line.rebuild()\n",
    "    return new_line"
   ]
  },
  {
   "cell_type": "code",
   "execution_count": 69,
   "metadata": {
    "collapsed": true
   },
   "outputs": [],
   "source": [
    "###########\n",
    "#Initial Coordinates for inerfaces and faults\n",
    "###########\n",
    "\n",
    "#subduction fault\n",
    "introPoint = ndp.subzone - abs(ndp.subzone - ndp.lRidge)/2. #half way between ridge and Sz\n",
    "faultthickness = ndp.MANTLETOCRUST #initialise fault at bottom of the crust\n",
    "nfault = 1000\n",
    "faultCoords =np.zeros((nfault, 2))\n",
    "\n",
    "reducedRocM = ndp.roc  - faultthickness\n",
    "xlimslab = reducedRocM*math.cos(math.pi*(90. - dp.theta)/180)\n",
    "faultCoords[:, 0] = np.linspace(introPoint, ndp.subzone + xlimslab, nfault) #note SZ location is hardcoded here \n",
    "for index, xval in np.ndenumerate(faultCoords[:,0]):\n",
    "    #print index, xval\n",
    "    #swarmCoords[index[0], 1] = 1. - isodepthFn.evaluate((xval, 0.)) #This bit for the plate \n",
    "    if  xval < ndp.subzone:\n",
    "        faultCoords[index[0], 1] = MAXY - faultthickness #This bit for the plate \n",
    "        \n",
    "    else:\n",
    "        faultCoords[index[0], 1] = (MAXY - (faultthickness) - (reducedRocM - ( math.sqrt((reducedRocM**2 - (xval-ndp.subzone)**2)))))\n",
    "        \n",
    "    \n",
    "faultCoords = faultCoords[faultCoords[:,1] > (MAXY - ndp.maxDepth)] #kill any deeper than cutoff\n",
    "\n",
    "\n",
    "#surface tracer interface:\n",
    "surfaceCoords =np.ones((nfault, 2))*1.\n",
    "surfaceCoords[:,0] = np.linspace(MINX, MAXX, nfault)\n",
    "\n",
    "\n",
    "\n"
   ]
  },
  {
   "cell_type": "code",
   "execution_count": 70,
   "metadata": {
    "collapsed": false
   },
   "outputs": [],
   "source": [
    "#Initiaze the swarms in a \n",
    "fault  = fault2D(mesh, velocityField, [], [], faultthickness, 0., 0., crustIndex)\n",
    "surface  = fault2D(mesh, velocityField, [], [], ndp.StALS, 0., 0., airIndex)\n",
    "#slab_seg  = marker2D.markerLine2D(mesh, velocityField, [], [], 1e9/dp.LS, crustIndex)   #Note very large fault thickness \n",
    "\n",
    "fault_coll = fault_collection([fault])\n",
    "\n",
    "\n",
    "\n",
    "#Initiaze the swarms in a \n",
    "#fault_seg  = marker2D.markerLine2D(mesh, velocityField, [], [], faultthickness, 0.0, 0.0, crustIndex)\n",
    "#surface_seg  = marker2D.markerLine2D(mesh, velocityField, [], [], ndp.StALS, 0.0, 0.0, airIndex)\n",
    "#slab_seg  = marker2D.markerLine2D(mesh, velocityField, [], [], 1e9/dp.LS, 0.0, 0.0, crustIndex)   #Note very large fault thickness\n",
    "\n",
    "#These lists are used to checkpoint the marker lines, similar to the swarm variables.        \n",
    "interfaces = []\n",
    "interfaces.append(fault)\n",
    "interfaces.append(surface)\n",
    "interfacenames = ['fault_seg', 'surface_seg']\n",
    "\n",
    "\n",
    "#If restarting, load the swarms from file Interfaces are just swarms, so should be fine to rely on parallel h5 machinery here\n",
    "if checkpointLoad:\n",
    "    for ix in range(len(interfaces)):\n",
    "        tempname = interfacenames[ix]\n",
    "        interfaces[ix].swarm.load(os.path.join(checkpointLoadDir,  tempname + \".h5\"))\n",
    "\n",
    "#otherwise add the point from at the initial locations\n",
    "else:\n",
    "    fault.add_points(faultCoords[:, 0], faultCoords[:, 1])\n",
    "    surface.add_points(surfaceCoords[:, 0], surfaceCoords[:, 1])\n",
    "    #slab_seg.add_points(slabCoords[:, 0], slabCoords[:, 1]) \n",
    "    \n"
   ]
  },
  {
   "cell_type": "code",
   "execution_count": 71,
   "metadata": {
    "collapsed": true
   },
   "outputs": [],
   "source": [
    "#Add the necessary swarm variables\n",
    "\n",
    "proximityVariable      = gSwarm.add_variable( dataType=\"int\", count=1 )\n",
    "signedDistanceVariable = gSwarm.add_variable( dataType=\"float\", count=1 )\n",
    "directorVector   = gSwarm.add_variable( dataType=\"double\", count=2)\n",
    "\n",
    "directorVector.data[:,:] = 0.0\n",
    "proximityVariable.data[:] = 0\n",
    "signedDistanceVariable.data[:] = 0.0"
   ]
  },
  {
   "cell_type": "code",
   "execution_count": 72,
   "metadata": {
    "collapsed": false
   },
   "outputs": [],
   "source": [
    "#inform the mesh of the fault\n",
    "\n",
    "sd, pts0 = fault.compute_signed_distance(gSwarm.particleCoordinates.data, distance=w0)\n",
    "sp, pts0 = fault.compute_marker_proximity(gSwarm.particleCoordinates.data)\n",
    "\n",
    "proximityVariable.data[np.logical_and(sd<0,sp == fault.ID)] = sp[np.logical_and(sd<0,sp == fault.ID)]\n",
    "\n",
    "dv, nzv = fault.compute_normals(gSwarm.particleCoordinates.data)\n",
    "directorVector.data[nzv] = dv[nzv]\n",
    "\n",
    "\n",
    "\n",
    "\n",
    "edotn_SFn, edots_SFn = fault_coll.global_fault_strainrate_fns(velocityField, directorVector, proximityVariable)\n"
   ]
  },
  {
   "cell_type": "code",
   "execution_count": 73,
   "metadata": {
    "collapsed": false
   },
   "outputs": [],
   "source": [
    "\n",
    "\n",
    "# Call the Fault helper functions to initialize this info on the main material swarm\n",
    "    \n",
    "#update_swarm_from_faults(surface_seg, proximityVariable, directorVector, signedDistanceVariable)\n",
    "#mask_materials(surface_seg, airIndex, materialVariable, proximityVariable, directorVector, signedDistanceVariable)\n",
    "\n",
    "#update_swarm_from_faults(fault_seg, proximityVariable, directorVector, signedDistanceVariable)\n",
    "#mask_materials(fault_seg, crustIndex, materialVariable, proximityVariable, directorVector, signedDistanceVariable)\n",
    "\n",
    "#Also switch off proximity beneath ndp.CRUSTVISCUTOFF depth\n",
    "#proximityVariable.data[gSwarm.particleCoordinates.data[:,1]  < (1. - ndp.CRUSTVISCUTOFF)] = 0. \n",
    "\n",
    "# These should be general enough not to need updating when the faults move etc..\n",
    "#ie they should update as the fields/functions/swarm variables they are built on update\n",
    "#edotn_SFn, edots_SFn = fault_strainrate_fns(interfaces, velocityField, directorVector, proximityVariable)"
   ]
  },
  {
   "cell_type": "code",
   "execution_count": 74,
   "metadata": {
    "collapsed": false
   },
   "outputs": [],
   "source": [
    "## Take a look at the locations of the materials\n",
    "\n",
    "#Note we only use this mesh director for visualizing the directorVector (vector-on-swarm viewing not suppoted yet)\n",
    "#meshDirector = uw.mesh.MeshVariable( mesh, 2 )\n",
    "#projectDirector = uw.utils.MeshVariable_Projection( meshDirector, directorVector, type=1 )\n",
    "#projectDirector.solve()    \n",
    "\n",
    "figMaterials = glucifer.Figure( figsize=(1200,400))\n",
    "\n",
    "#Plot swarm associated with each fault\n",
    "figMaterials.append( glucifer.objects.Points(fault.swarm, colours=\"Black Black\", pointSize=2.0, colourBar=False) )\n",
    "\n",
    "\n",
    "#plot mesh director viz. guy\n",
    "#figMaterials.append( glucifer.objects.VectorArrows(mesh, meshDirector, scaling=.08, \n",
    "#                                               resolutionI=100, resolutionJ=20, opacity=0.25) )\n",
    "\n",
    "\n",
    "#Proximity variable - this is the colour\n",
    "figMaterials.append( glucifer.objects.Points(gSwarm, proximityVariable, \n",
    "                                             pointSize=5.0,  opacity=0.75) )\n",
    "\n",
    "\n",
    "#signedDistanceVariable - this variable goes to zero where the proximity cutoff is\n",
    "#note that it's signed...faults have a direction\n",
    "#figMaterials.append( glucifer.objects.Points(gSwarm, signedDistanceVariable, \n",
    "#                                             pointSize=2.0))\n",
    "\n",
    "#Add mesh\n",
    "#figMaterials.append( glucifer.objects.Mesh(mesh, opacity=0.1) )\n",
    "\n",
    "#figMaterials.show()\n",
    "#figMaterials.save_database('test.gldb')"
   ]
  },
  {
   "cell_type": "markdown",
   "metadata": {},
   "source": [
    "Rheology\n",
    "-----\n",
    "\n"
   ]
  },
  {
   "cell_type": "code",
   "execution_count": 75,
   "metadata": {
    "collapsed": false
   },
   "outputs": [],
   "source": [
    "##############\n",
    "#Set up any functions required by the rheology\n",
    "##############\n",
    "strainRate_2ndInvariant = fn.tensor.second_invariant( \n",
    "                            fn.tensor.symmetric( \n",
    "                            velocityField.fn_gradient ))\n",
    "\n",
    "def safe_visc(func, viscmin=ndp.eta_min, viscmax=ndp.eta_max):\n",
    "    return fn.misc.max(viscmin, fn.misc.min(viscmax, func))"
   ]
  },
  {
   "cell_type": "code",
   "execution_count": 76,
   "metadata": {
    "collapsed": true
   },
   "outputs": [],
   "source": [
    "#strainRate_2ndInvariant = fn.misc.constant(ndp.SR) #dummy fucntion to check which mechanisms are at active are reference strain rate"
   ]
  },
  {
   "cell_type": "code",
   "execution_count": 91,
   "metadata": {
    "collapsed": false
   },
   "outputs": [],
   "source": [
    "############\n",
    "#Rheology: create UW2 functions for all viscous mechanisms\n",
    "#############\n",
    "omega = fn.misc.constant(1.) #this function can hold any arbitary viscosity modifications \n",
    "\n",
    "\n",
    "##Diffusion Creep\n",
    "#diffusion0 = fn.misc.min(ndp.eta_max, fn.math.exp(-1*ndp.Edf + ndp.Edf / (temperatureField + 1e-8)))\n",
    "#diffusion = fn.math.exp(ndp.Edf / (temperatureField + ndp.TS))\n",
    "\n",
    "\n",
    "#Note Because we're not using the pressure term, creep values will be unrealistically low at higehr temps. \n",
    "#However this adpatation of theflow law gives us a nearly iso-viscous mantle, and a consistent viscosity (eta(T)) profile in the lithsphere\n",
    "dfScale = (math.exp(ndp.Edf/(1. + ndp.TS) ))\n",
    "diffusion = safe_visc((1./dfScale)*fn.math.exp(ndp.Edf / (temperatureField + ndp.TS)))\n",
    "\n",
    "##Define the Plasticity\n",
    "ys =  ndp.cm + (depthFn*ndp.fcmd)\n",
    "ysMax = 10e4*1e6*sf.stress\n",
    "ysf = fn.misc.min(ys, ysMax)\n",
    "yielding = ysf/(2.*(strainRate_2ndInvariant))\n",
    "\n",
    "##Crust rheology\n",
    "#crustys =  ndp.cohesion*ndp.crust_cohesion_fac + (depthFn*ndp.fcd*ndp.crust_fc_fac)\n",
    "crustys =  ndp.cc + (depthFn*ndp.fccd) #only weakened cohesion is discussed, not fc\n",
    "crustvisc = crustys/(2.*(strainRate_2ndInvariant)) \n",
    "\n",
    "\n",
    "##Interface rheology\n",
    "interfaceys =  ndp.ci + (depthFn*ndp.fcid) #only weakened cohesion is discussed, not fc\n",
    "interfacevisc = interfaceys/(2.*(strainRate_2ndInvariant))\n"
   ]
  },
  {
   "cell_type": "code",
   "execution_count": 93,
   "metadata": {
    "collapsed": false
   },
   "outputs": [],
   "source": [
    "#fig2= glucifer.Figure()\n",
    "#fig2.append( glucifer.objects.Surface(mesh, diffusion, logScale=True))\n",
    "#fig2.show()"
   ]
  },
  {
   "cell_type": "code",
   "execution_count": 94,
   "metadata": {
    "collapsed": false
   },
   "outputs": [],
   "source": [
    "############\n",
    "#Rheology: combine viscous mechanisms in various ways \n",
    "#harmonic: harmonic average of all mechanims\n",
    "#min: minimum effective viscosity of the mechanims\n",
    "#mixed: takes the minimum of the harmonic and the plastic effective viscosity\n",
    "#############\n",
    "\n",
    "#linear rheology \n",
    "linearviscosityFn = safe_visc(diffusion)\n",
    "\n",
    "\n",
    "\n",
    "interfaceCond = operator.and_((depthFn < ndp.CRUSTVISCUTOFF), (depthFn > ndp.MANTLETOCRUST))    \n",
    "\n",
    "\n",
    "#combined rheology    \n",
    "finalviscosityFn  = fn.branching.conditional([(depthFn < ndp.LOWMANTLEDEPTH, safe_visc(fn.misc.min(diffusion, yielding))),\n",
    "                                  (True, safe_visc(safe_visc(diffusion*ndp.low_mantle_visc_fac)))])\n",
    "\n",
    "#crust rheology    \n",
    "#finalcrustviscosityFn = safe_visc(fn.misc.min(ndp.eta_max_crust, \n",
    "#                                              crustyielding)) #cohesion weakening factor also applies to eta_0\n",
    "\n",
    "crustviscosityFn = safe_visc(fn.misc.min(linearviscosityFn, crustvisc), ndp.eta_max_crust)\n",
    "interfaceviscosityFn = safe_visc(fn.misc.min(linearviscosityFn, interfacevisc), ndp.eta_max_interface)\n",
    "\n",
    "if ndp.eta_max_crust == ndp.eta_min_crust: #If these are equal, set to constant visc. \n",
    "    crustviscosityFn = fn.misc.constant(ndp.eta_min_crust)\n",
    "    \n",
    "if ndp.eta_max_interface == ndp.eta_min_interface: #If these are equal, set to constant visc. \n",
    "    interfaceviscosityFn = fn.misc.constant(ndp.eta_min_interface)\n",
    "    \n",
    "\n",
    "\n",
    "finalcrustviscosityFn  = fn.branching.conditional([(depthFn < ndp.MANTLETOCRUST, crustviscosityFn),\n",
    "                                                     (interfaceCond, interfaceviscosityFn), #\n",
    "                                                     (True, finalviscosityFn)])"
   ]
  },
  {
   "cell_type": "markdown",
   "metadata": {},
   "source": [
    "Stokes system setup\n",
    "-----\n"
   ]
  },
  {
   "cell_type": "code",
   "execution_count": 95,
   "metadata": {
    "collapsed": true
   },
   "outputs": [],
   "source": [
    "buoyancyFn =  ndp.RA*temperatureField\n"
   ]
  },
  {
   "cell_type": "code",
   "execution_count": 96,
   "metadata": {
    "collapsed": false
   },
   "outputs": [],
   "source": [
    "densityMapFn = fn.branching.map( fn_key = materialVariable,\n",
    "                         mapping = {airIndex:ndp.StRA,\n",
    "                                    crustIndex:buoyancyFn, \n",
    "                                    mantleIndex:buoyancyFn,\n",
    "                                    harzIndex:buoyancyFn} )"
   ]
  },
  {
   "cell_type": "code",
   "execution_count": 97,
   "metadata": {
    "collapsed": true
   },
   "outputs": [],
   "source": [
    "\n",
    "# Define our vertical unit vector using a python tuple (this will be automatically converted to a function).\n",
    "gravity = ( 0.0, 1.0 )\n",
    "\n",
    "# Now create a buoyancy force vector using the density and the vertical unit vector. \n",
    "buoyancyFn = densityMapFn * gravity"
   ]
  },
  {
   "cell_type": "code",
   "execution_count": 98,
   "metadata": {
    "collapsed": false
   },
   "outputs": [
    {
     "name": "stderr",
     "output_type": "stream",
     "text": [
      "/root/underworld2/underworld/systems/_stokes.py:70: UserWarning: 'swarm' paramater has been renamed to 'voronoi_swarm'. Please update your models. 'swarm' parameter will be removed in the next release.\n",
      "  \"'swarm' parameter will be removed in the next release.\")\n"
     ]
    }
   ],
   "source": [
    "if md.PIC_integration:\n",
    "    stokesPIC = uw.systems.Stokes(velocityField=velocityField, \n",
    "                              pressureField=pressureField,\n",
    "                              conditions=[freeslipBC,],\n",
    "                              fn_viscosity=linearviscosityFn, \n",
    "                              fn_bodyforce=buoyancyFn,\n",
    "                             swarm=gSwarm)\n",
    "    \n",
    "\n",
    "else:\n",
    "    stokesPIC = uw.systems.Stokes(velocityField=velocityField, \n",
    "                              pressureField=pressureField,\n",
    "                              conditions=[freeslipBC,],\n",
    "                              fn_viscosity=linearviscosityFn, \n",
    "                              fn_bodyforce=buoyancyFn )"
   ]
  },
  {
   "cell_type": "code",
   "execution_count": 99,
   "metadata": {
    "collapsed": true
   },
   "outputs": [],
   "source": [
    "solver = uw.systems.Solver(stokesPIC)\n",
    "if not checkpointLoad:\n",
    "    solver.solve() #A solve on the linear visocisty is unhelpful unless we're starting from scratch"
   ]
  },
  {
   "cell_type": "code",
   "execution_count": 100,
   "metadata": {
    "collapsed": false
   },
   "outputs": [],
   "source": [
    "viscosityMapFn1 = fn.branching.map( fn_key = materialVariable,\n",
    "                         mapping = {crustIndex:finalcrustviscosityFn,\n",
    "                                    mantleIndex:finalviscosityFn,\n",
    "                                    harzIndex:finalviscosityFn,\n",
    "                                    airIndex:ndp.Steta_n} )\n",
    "\n",
    "\n",
    "delta_Steata2 = ndp.Steta_n - ndp.Steta_s\n",
    "delta_eta_fault = 0.\n",
    "\n",
    "if md.subductionFault:  \n",
    "    if ndp.eta_min_fault == ndp.eta_min_fault:#Transverse rheology is isoviscous\n",
    "        delta_eta_fault = fn.misc.min(0.999, fn.misc.max (0.,   ndp.eta_min_crust - ndp.eta_min_fault))       \n",
    "        \n",
    "    else:\n",
    "        #Transverse viscosity is related the Mohr-Coulomb criterion\n",
    "        delta_eta_fault = fn.misc.min(0.999, fn.misc.max (0., \n",
    "        viscosityMapFn1 - ((edotn_SFn*viscosityMapFn1 + ndp.fcfd * pressureField)  + ndp.cf)/edots_SFn))\n",
    "   "
   ]
  },
  {
   "cell_type": "code",
   "execution_count": 101,
   "metadata": {
    "collapsed": false
   },
   "outputs": [],
   "source": [
    "# This one maps to my fault-proximity variable (which also picks only materialV)\n",
    "viscosityMapFn2    = { 0: 0.0, \n",
    "                           1: delta_eta_fault, \n",
    "                           3: delta_Steata2\n",
    "                       }\n",
    "    \n",
    "\n",
    "viscosityMapFn2  = fn.branching.map( fn_key = proximityVariable, \n",
    "                                           mapping = viscosityMapFn2)"
   ]
  },
  {
   "cell_type": "code",
   "execution_count": 72,
   "metadata": {
    "collapsed": false
   },
   "outputs": [],
   "source": [
    "#orientation = -1.*90. * math.pi / 180.0  #vertical\n",
    "#math.cos(orientation), math.sin(orientation)"
   ]
  },
  {
   "cell_type": "code",
   "execution_count": 103,
   "metadata": {
    "collapsed": false
   },
   "outputs": [],
   "source": [
    "#md.subductionFault"
   ]
  },
  {
   "cell_type": "code",
   "execution_count": 104,
   "metadata": {
    "collapsed": false
   },
   "outputs": [],
   "source": [
    "#Add the non-linear viscosity to the Stokes system\n",
    "stokesPIC.fn_viscosity = viscosityMapFn1\n",
    "\n",
    "if md.stickyAir or md.subductionFault:\n",
    "    stokesPIC.fn_viscosity2 = viscosityMapFn2\n",
    "    stokesPIC._fn_director   = directorVector\n"
   ]
  },
  {
   "cell_type": "code",
   "execution_count": null,
   "metadata": {
    "collapsed": false
   },
   "outputs": [],
   "source": [
    "solver.set_inner_method(\"mumps\")\n",
    "solver.options.scr.ksp_type=\"cg\"\n",
    "solver.set_penalty(1.0e7)\n",
    "solver.options.scr.ksp_rtol = 1.0e-4\n",
    "solver.solve(nonLinearIterate=True)\n",
    "solver.print_stats()"
   ]
  },
  {
   "cell_type": "code",
   "execution_count": 76,
   "metadata": {
    "collapsed": false
   },
   "outputs": [],
   "source": [
    "#Check which particles are yielding\n",
    "#yieldingCheck.data[:] = 0\n",
    "\n",
    "#yieldconditions = [ ( finalviscosityFn < Visc , 1), \n",
    "#               ( True                                           , 0) ]\n",
    "\n",
    "# use the branching conditional function to set each particle's index\n",
    "#yieldingCheck.data[:] = fn.branching.conditional( yieldconditions ).evaluate(gSwarm)"
   ]
  },
  {
   "cell_type": "code",
   "execution_count": 77,
   "metadata": {
    "collapsed": false
   },
   "outputs": [],
   "source": [
    "#velocityFieldIso       = uw.mesh.MeshVariable( mesh=mesh,         nodeDofCount=2 )\n",
    "#velocityFieldIso.data[:] = velocityField.data.copy()\n",
    "\n",
    "\n",
    "\n",
    "#strainRate_2ndInvariantIso = fn.tensor.second_invariant( \n",
    "#                            fn.tensor.symmetric( \n",
    "#                            velocityFieldIso.fn_gradient ))"
   ]
  },
  {
   "cell_type": "markdown",
   "metadata": {},
   "source": [
    "Advection-diffusion System setup\n",
    "-----"
   ]
  },
  {
   "cell_type": "code",
   "execution_count": 78,
   "metadata": {
    "collapsed": false
   },
   "outputs": [],
   "source": [
    "advDiff = uw.systems.AdvectionDiffusion( phiField       = temperatureField, \n",
    "                                         phiDotField    = temperatureDotField, \n",
    "                                         velocityField  = velocityField,\n",
    "                                         fn_sourceTerm    = 0.0,\n",
    "                                         fn_diffusivity = 1.0, \n",
    "                                         #conditions     = [neumannTempBC, dirichTempBC] )\n",
    "                                         conditions     = [ dirichTempBC] )\n",
    "\n",
    "passiveadvector = uw.systems.SwarmAdvector( swarm         = gSwarm, \n",
    "                                     velocityField = velocityField, \n",
    "                                     order         = 1)"
   ]
  },
  {
   "cell_type": "code",
   "execution_count": 79,
   "metadata": {
    "collapsed": true
   },
   "outputs": [],
   "source": [
    "population_control = uw.swarm.PopulationControl(gSwarm,deleteThreshold=0.2,splitThreshold=1.,maxDeletions=3,maxSplits=0, aggressive=True, particlesPerCell=int(md.ppc))"
   ]
  },
  {
   "cell_type": "markdown",
   "metadata": {},
   "source": [
    "Analysis functions / routines\n",
    "-----\n",
    "\n",
    "Most of the metrics we want to calculate are either:\n",
    "\n",
    "* extrema of some field / function\n",
    "* integral of some field / function\n",
    "* average value of some function (integral divide by area)\n",
    "\n",
    "In addition, we also want to be able to determine these metrics over some restricted part of the domain, where the restriction may either be due some value of a field, a material type, or something more arbitrary.\n",
    "\n",
    "Much of he challenge lies in defining these restriction functions in an efficient and robust way (i.e they don't break down as the model evolves)\n",
    "\n",
    "For volume integrals, and extrema, we build a hierarchy of restriction functions, each borrowing from the previous, until we have divided the domain into a number of sub regions of interest. \n",
    "\n",
    "In general, averages are found afterwards by combining the integral and the area of the relavent subregion"
   ]
  },
  {
   "cell_type": "code",
   "execution_count": 80,
   "metadata": {
    "collapsed": false
   },
   "outputs": [],
   "source": [
    "###################\n",
    "#Volume Restriction functions\n",
    "###################\n",
    "\n",
    "#Level 1. Global\n",
    "globRestFn = fn.misc.constant(1.)\n",
    "\n",
    "#Level 2. Rock - air:\n",
    "rockRestFn = uw.swarm.SwarmVariable(gSwarm, dataType='double', count=1)\n",
    "rockRestFn.data[:] = 0.\n",
    "rockRestFn.data[np.where(materialVariable.data[:] != airIndex)] = 1.\n",
    "rockRestFn *= globRestFn #Add next level up in heirarchy\n",
    "\n",
    "\n",
    "#Level 3. lithosphere - mantle:\n",
    "tempMM = fn.view.min_max(temperatureField)\n",
    "tempMM.evaluate(mesh)\n",
    "TMAX = tempMM.max_global()\n",
    "mantleconditions = [ (                                  operator.and_(temperatureField < 0.9*TMAX, operator.and_(xFn> ndp.lRidge,xFn< ndp.rRidge )), 1.),\n",
    "                   (                                                   True , 0.) ]\n",
    "lithRestFn = fn.branching.conditional(mantleconditions)\n",
    "lithRestFn*=rockRestFn #Add next level up in heirarchy\n",
    "\n",
    "\n",
    "#Level 4. lower plate - upper plate:\n",
    "\n",
    "\n",
    "#This whole section simply builds a restriction Fn that separates the upper and lower plate \n",
    "#It's pretty cumbersome, and will need to advected, rebuilt\n",
    "#can YOU think of a better way?\n",
    "   \n",
    "lowerPlateRestFn = gSwarm.add_variable( dataType=\"double\", count=1 )\n",
    "lowerPlateRestFn.data[:] = 0.0\n",
    "sd, pts0 = fault.compute_signed_distance(gSwarm.particleCoordinates.data, distance=w0)\n",
    "sp, pts0 = fault.compute_marker_proximity(gSwarm.particleCoordinates.data, distance=w0)\n",
    "\n",
    "lowerPlateRestFn.data[np.logical_and(sd>0,sp == fault.ID)] = sp[np.logical_and(sd>0,sp == fault.ID)]\n",
    "lowerPlateRestFn *= lithRestFn #Add next level up in heirarchy\n",
    "#The lowerPlateRestFn isn't working on restart - no idea why\n",
    "\n",
    "\n",
    "\n",
    "#Level 5. hinge of lower plate:\n",
    "\n",
    "hinge60Spatialconditions = [ (           operator.and_( (depthFn < (60e3/dp.LS)),  (xFn > ndp.subzone - 60e3/dp.LS)), 1.),\n",
    "                   (                                                   True , 0.) ]\n",
    "\n",
    "hinge60RestFn = fn.branching.conditional(hinge60Spatialconditions)\n",
    "hinge60RestFn*=lowerPlateRestFn #Add next level up in heirarchy\n",
    "\n",
    "\n",
    "\n",
    "hinge180Spatialconditions = [ (           operator.and_( (depthFn < (180e3/dp.LS)),  (xFn > ndp.subzone - 180e3/dp.LS)), 1.),\n",
    "                   (                                                   True , 0.) ]\n",
    "\n",
    "hinge180RestFn = fn.branching.conditional(hinge180Spatialconditions)\n",
    "hinge180RestFn*=lowerPlateRestFn #Add next level up in heirarchy\n",
    "\n",
    "\n",
    "#Level 6. crust/interface in hinge of lower plate:\n",
    "\n",
    "interfaceRestFn = uw.swarm.SwarmVariable(gSwarm, dataType='double', count=1)\n",
    "interfaceRestFn.data[:] = 0.\n",
    "interfaceRestFn.data[np.where(materialVariable.data[:] == crustIndex)] = 1.\n",
    "interfaceRestFn *= hinge60RestFn #Add next level up in heirarchy\n"
   ]
  },
  {
   "cell_type": "code",
   "execution_count": null,
   "metadata": {
    "collapsed": false
   },
   "outputs": [],
   "source": [
    "respltconditions = [ \n",
    "                    (                                  hinge60RestFn*2. > rockRestFn*1., 1.),\n",
    "                    (                                  lowerPlateRestFn*3. > hinge60RestFn*2. , 3.),\n",
    "                    (                                  lithRestFn*5. > lowerPlateRestFn*3. , 4.),\n",
    "                   (                                                   True , 0.) ]\n",
    "\n",
    "respltFn = fn.branching.conditional(respltconditions )"
   ]
  },
  {
   "cell_type": "code",
   "execution_count": null,
   "metadata": {
    "collapsed": false
   },
   "outputs": [],
   "source": [
    "figR= glucifer.Figure()\n",
    "#fig.append( glucifer.objects.Points(gSwarm,respltFn))\n",
    "#fig.append( glucifer.objects.Points(gSwarm,lithRestFn))\n",
    "figR.append( glucifer.objects.Points(gSwarm,lowerPlateRestFn))\n",
    "#fig.append( glucifer.objects.Points(gSwarm,hinge180RestFn))\n",
    "#fig.append( glucifer.objects.Points(gSwarm,interfaceRestFn))\n",
    "figR.show()\n",
    "#figR.save_database('lptest.gldb')"
   ]
  },
  {
   "cell_type": "code",
   "execution_count": null,
   "metadata": {
    "collapsed": true
   },
   "outputs": [],
   "source": [
    "###################\n",
    "#Surface Restriction functions\n",
    "###################\n",
    "\n",
    "def platenessFn(val = 0.1):\n",
    "    normgradV = fn.math.abs(velocityField.fn_gradient[0]/fn.math.sqrt(velocityField[0]*velocityField[0])) #[du*/dx]/sqrt(u*u)\n",
    "\n",
    "\n",
    "\n",
    "    srconditions = [ (                                  normgradV < val, 1.),\n",
    "                   (                                                   True , 0.) ]\n",
    "\n",
    "\n",
    "    return fn.branching.conditional(srconditions)\n",
    "\n",
    "srRestFn = platenessFn(val = 0.1)"
   ]
  },
  {
   "cell_type": "code",
   "execution_count": null,
   "metadata": {
    "collapsed": false
   },
   "outputs": [],
   "source": [
    "###################\n",
    "#Setup any Functions to be integrated\n",
    "###################\n",
    "\n",
    "sqrtv2 = fn.math.sqrt(fn.math.dot(velocityField,velocityField))\n",
    "vx = velocityField[0]\n",
    "v2x = fn.math.dot(velocityField[0],velocityField[0])\n",
    "sqrtv2x = fn.math.sqrt(fn.math.dot(velocityField[0],velocityField[0]))\n",
    "dw = temperatureField*velocityField[1]\n",
    "sinner = fn.math.dot( strainRate_2ndInvariant, strainRate_2ndInvariant )\n",
    "vd = 2.*viscosityMapFn1*sinner\n",
    "dTdZ = temperatureField.fn_gradient[1]\n",
    "\n"
   ]
  },
  {
   "cell_type": "code",
   "execution_count": null,
   "metadata": {
    "collapsed": false
   },
   "outputs": [],
   "source": [
    "###################\n",
    "#Create integral, max/min templates \n",
    "###################\n",
    "\n",
    "def volumeint(Fn = 1., rFn=globRestFn):\n",
    "    return uw.utils.Integral( Fn*rFn,  mesh )\n",
    "\n",
    "def surfint(Fn = 1., rFn=globRestFn, surfaceIndexSet=mesh.specialSets[\"MaxJ_VertexSet\"]):\n",
    "    return uw.utils.Integral( Fn*rFn, mesh=mesh, integrationType='Surface', surfaceIndexSet=surfaceIndexSet)\n",
    "\n",
    "def maxMin(Fn = 1.):\n",
    "    #maxMin(Fn = 1., rFn=globRestFn\n",
    "    #vuFn = fn.view.min_max(Fn*rFn) #the restriction functions don't work with the view.min_max fn yet\n",
    "    vuFn = fn.view.min_max(Fn)\n",
    "    return vuFn\n",
    "    \n",
    "   \n",
    "    "
   ]
  },
  {
   "cell_type": "code",
   "execution_count": null,
   "metadata": {
    "collapsed": false
   },
   "outputs": [],
   "source": [
    "#Setup volume integrals on different sub regions\n",
    "\n",
    "##Whole rock domain\n",
    "\n",
    "_areaintRock = volumeint(rockRestFn)\n",
    "_tempintRock = volumeint(temperatureField, rockRestFn)\n",
    "_rmsintRock = volumeint(sqrtv2,rockRestFn)\n",
    "_dwintRock = volumeint(dw,rockRestFn)\n",
    "_vdintRock = volumeint(vd,rockRestFn)\n",
    "\n",
    "##Lith \n",
    "\n",
    "_areaintLith  = volumeint(lithRestFn)\n",
    "_tempintLith  = volumeint(temperatureField, lithRestFn)\n",
    "_rmsintLith  = volumeint(sqrtv2,lithRestFn)\n",
    "_dwintLith  = volumeint(dw,lithRestFn)\n",
    "_vdintLith  = volumeint(vd,lithRestFn)\n",
    "\n",
    "##Lower plate\n",
    "\n",
    "_areaintLower  = volumeint(lowerPlateRestFn)\n",
    "_tempintLower  = volumeint(temperatureField, lowerPlateRestFn)\n",
    "_rmsintLower  = volumeint(sqrtv2,lowerPlateRestFn)\n",
    "_dwintLower = volumeint(dw,lowerPlateRestFn)\n",
    "_vdintLower  = volumeint(vd,lowerPlateRestFn)\n",
    "\n",
    "##Hinge lower plate\n",
    "\n",
    "_areaintHinge180  = volumeint(hinge180RestFn)\n",
    "_vdintHinge180  = volumeint(vd,hinge180RestFn)\n",
    "\n",
    "_areaintHinge60  = volumeint(hinge60RestFn)\n",
    "_vdintHinge60  = volumeint(vd,hinge60RestFn)\n",
    "\n",
    "\n",
    "##Interface\n",
    "\n",
    "_areaintInterface  = volumeint(interfaceRestFn)\n",
    "_vdintInterface = volumeint(vd,interfaceRestFn)"
   ]
  },
  {
   "cell_type": "code",
   "execution_count": null,
   "metadata": {
    "collapsed": false
   },
   "outputs": [],
   "source": [
    "#Setup surface integrals\n",
    "\n",
    "_surfLength = surfint()\n",
    "_rmsSurf = surfint(v2x)\n",
    "_nuTop = surfint(dTdZ)\n",
    "_nuBottom = surfint(dTdZ, surfaceIndexSet=mesh.specialSets[\"MinJ_VertexSet\"])\n",
    "_plateness = surfint(srRestFn)\n",
    "_pressure = surfint(pressureField)"
   ]
  },
  {
   "cell_type": "code",
   "execution_count": null,
   "metadata": {
    "collapsed": false
   },
   "outputs": [],
   "source": [
    "#Setup max min fns (at the moment, we can't pass restriction function to view.min_max, so we're limited to whole volume or surface extrema)\n",
    "\n",
    "##Whole rock domain\n",
    "\n",
    "#_maxMinVisc = maxMin(viscosityMapFn1)  #These don't work on swarm variables or mapping functions, yet\n",
    "#dummyFn = _maxMinVisc.evaluate(mesh)\n",
    "#_maxMinStressInv = maxMin(2*viscosityMapFn1*strainRate_2ndInvariant) #These don't work on swarm variables or mapping functions, yet\n",
    "#dummyFn = _maxMinStress.evaluate(mesh)\n",
    "#_maxMinVd = maxMin(vd) #These don't work on swarm variables or mapping functions, yet\n",
    "#dummyFn = _maxMinVd.evaluate(mesh)\n",
    "\n",
    "\n",
    "_maxMinVel = maxMin(velocityField) \n",
    "dummyFn = _maxMinVel.evaluate(mesh)\n",
    "\n",
    "_maxMinSr = maxMin(strainRate_2ndInvariant) \n",
    "dummyFn = _maxMinSr.evaluate(mesh)\n",
    "\n",
    "\n",
    "#Surface extrema\n",
    "_maxMinVxSurf = maxMin(vx)\n",
    "dummyFn = _maxMinVxSurf.evaluate(tWalls)\n"
   ]
  },
  {
   "cell_type": "code",
   "execution_count": null,
   "metadata": {
    "collapsed": false
   },
   "outputs": [],
   "source": [
    "#Volume Ints\n",
    "areaintRock = _areaintRock.evaluate()[0]\n",
    "tempintRock = _tempintRock.evaluate()[0]\n",
    "rmsintRock = _rmsintRock.evaluate()[0]\n",
    "dwintRock = _dwintRock.evaluate()[0]\n",
    "vdintRock = _vdintRock.evaluate()[0]\n",
    "areaintLith = _areaintLith.evaluate()[0]\n",
    "tempintLith = _tempintLith.evaluate()[0]\n",
    "rmsintLith = _rmsintLith.evaluate()[0]\n",
    "dwintLith = _dwintLith.evaluate()[0]\n",
    "vdintLith = _vdintLith.evaluate()[0]\n",
    "areaintLower = _areaintLower.evaluate()[0]\n",
    "tempintLower = _tempintLower.evaluate()[0]\n",
    "rmsintLower = _rmsintLower.evaluate()[0]\n",
    "dwintLower = _dwintLower.evaluate()[0]\n",
    "vdintLower = _vdintLower.evaluate()[0]\n",
    "vdintHinge180 = _vdintHinge180.evaluate()[0]\n",
    "areaintHinge180 = _areaintHinge180.evaluate()[0]\n",
    "vdintHinge60 = _vdintHinge60.evaluate()[0]\n",
    "areaintHinge60= _areaintHinge60.evaluate()[0]\n",
    "vdintInterface = _vdintInterface.evaluate()[0]\n",
    "areaintInterface= _areaintInterface.evaluate()[0]\n",
    "\n",
    "#Surface Ints\n",
    "surfLength = _surfLength.evaluate()[0]\n",
    "rmsSurf = _rmsSurf.evaluate()[0]\n",
    "nuTop = _nuTop.evaluate()[0]\n",
    "nuBottom = _nuBottom.evaluate()[0]\n",
    "plateness = _plateness.evaluate()[0]\n",
    "pressureSurf = _pressure.evaluate()[0]\n",
    "\n",
    "#Max mins\n",
    "maxVel = _maxMinVel.max_global()\n",
    "minVel = _maxMinVel.min_global() \n",
    "maxSr = _maxMinSr.max_global()\n",
    "minSr = _maxMinSr.min_global()\n",
    "maxVxsurf = _maxMinVxSurf.max_global()\n",
    "minVxsurf = _maxMinVxSurf.min_global()"
   ]
  },
  {
   "cell_type": "markdown",
   "metadata": {
    "collapsed": false
   },
   "source": [
    "print(areaintRock)\n",
    "print(tempintRock)\n",
    "print(rmsintRock)\n",
    "print(dwintRock)\n",
    "print(vdintRock)\n",
    "print(areaintLith)\n",
    "print(tempintLith )\n",
    "print(rmsintLith)\n",
    "print(dwintLith)\n",
    "print(vdintLith)\n",
    "print(areaintLower)\n",
    "print(tempintLower)\n",
    "print(rmsintLower) \n",
    "print(dwintLower)\n",
    "print(vdintLower)\n",
    "print(vdintHinge60)\n",
    "print(vdintHinge180)\n",
    "print(vdintInterface)\n",
    "\n",
    "print(surfLength)\n",
    "print(rmsSurf)\n",
    "print(nuTop)\n",
    "print(nuBottom)\n",
    "print(plateness)\n",
    "\n",
    "\n",
    "print(maxVel)\n",
    "print(minVel)\n",
    "print(maxSr)\n",
    "print(minSr)\n",
    "print(maxVxsurf)\n",
    "print(minVxsurf)"
   ]
  },
  {
   "cell_type": "code",
   "execution_count": null,
   "metadata": {
    "collapsed": true
   },
   "outputs": [],
   "source": [
    "##Any swarm variables that we'll want access to as meshVariables\n",
    "\n",
    "meshVisc = uw.mesh.MeshVariable( mesh, 1)\n",
    "projectGuy = uw.utils.MeshVariable_Projection(meshVisc, viscosityMapFn1, type=0 )\n",
    "projectGuy.solve() "
   ]
  },
  {
   "cell_type": "markdown",
   "metadata": {},
   "source": [
    "Viz.\n",
    "-----"
   ]
  },
  {
   "cell_type": "code",
   "execution_count": 78,
   "metadata": {
    "collapsed": false
   },
   "outputs": [],
   "source": [
    "#Build a depth dependent mask for the vizualisation\n",
    "\n",
    "depthVariable      = gSwarm.add_variable( dataType=\"float\", count=1 )\n",
    "depthVariable.data[:] = depthFn.evaluate(gSwarm)\n",
    "\n",
    "vizVariable      = gSwarm.add_variable( dataType=\"int\", count=1 )\n",
    "vizVariable.data[:] = 0\n",
    "\n",
    "for index, value in enumerate(depthVariable.data[:]):\n",
    "    #print index, value\n",
    "    if np.random.rand(1)**5 > value/(MAXY - MINY):\n",
    "        vizVariable.data[index] = 1\n",
    "        \n",
    "del index, value    #get rid of any variables that might be pointing at the .data handles (these are!)"
   ]
  },
  {
   "cell_type": "code",
   "execution_count": 87,
   "metadata": {
    "collapsed": true
   },
   "outputs": [],
   "source": [
    "figures = 'gldb'"
   ]
  },
  {
   "cell_type": "code",
   "execution_count": 88,
   "metadata": {
    "collapsed": false
   },
   "outputs": [],
   "source": [
    "if figures == 'gldb':\n",
    "    #Pack some stuff into a database as well\n",
    "    figDb = glucifer.Figure()\n",
    "    figDb.append( glucifer.objects.Points(swarmPlateBoundary, pointSize=4))\n",
    "    #figDb.append( glucifer.objects.Mesh(mesh))\n",
    "    figDb.append( glucifer.objects.VectorArrows(mesh,velocityField, scaling=0.0005))\n",
    "    #figDb.append( glucifer.objects.Points(gSwarm,tracerVariable, colours= 'white black'))\n",
    "    figDb.append( glucifer.objects.Points(gSwarm,materialVariable))\n",
    "    \n",
    "    #figDb.append( glucifer.objects.Points(gSwarm,viscMinVariable))\n",
    "    #figDb.append( glucifer.objects.Points(gSwarm,fnViscMin))\n",
    "    #figDb.append( glucifer.objects.Points(gSwarm, viscosityMapFn1, logScale=True))\n",
    "    #figDb.append( glucifer.objects.Points(gSwarm, strainRate_2ndInvariant, logScale=True))\n",
    "    figDb.append( glucifer.objects.Points(gSwarm,temperatureField))\n",
    "    figDb.append( glucifer.objects.Points(gSwarm,pressureField))\n",
    "    \n",
    "    \n",
    "    #figRestrict= glucifer.Figure()\n",
    "    #figRestrict.append( glucifer.objects.Points(gSwarm,respltFn))\n",
    "    #figRestrict.append( glucifer.objects.Points(gSwarm,lithRestFn))\n",
    "    #figRestrict.append( glucifer.objects.Points(gSwarm,lowerPlateRestFn))\n",
    "    #figRestrict.append( glucifer.objects.Points(gSwarm,hinge180RestFn))\n",
    "    #figRestrict.append( glucifer.objects.Points(gSwarm,interfaceRestFn))\n",
    "    #figRestrict.append( glucifer.objects.Points(interfaces[0].swarm, colours=\"Blue Blue\", pointSize=2.0, colourBar=False) )\n",
    "    #figRestrict.append( glucifer.objects.Points(interfaces[1].swarm, colours=\"Red Red\", pointSize=2.0, colourBar=False) )\n",
    "    #figRestrict.append( glucifer.objects.Points(slab_seg.swarm, colours=\"Black Black\", pointSize=2.0, colourBar=False) )\n",
    "\n",
    "elif figures == 'store':\n",
    "    fullpath = os.path.join(outputPath + \"gldbs/\")\n",
    "    store1 = glucifer.Store(fullpath + 'subduction1.gldb')\n",
    "    store2 = glucifer.Store(fullpath + 'subduction2.gldb')\n",
    "    store3 = glucifer.Store(fullpath + 'subduction3.gldb')\n",
    "    store4 = glucifer.Store(fullpath + 'subduction4.gldb')\n",
    "\n",
    "\n",
    "    figTemp = glucifer.Figure(store1,figsize=(300*np.round(md.aspectRatio,2),300))\n",
    "    figTemp.append( glucifer.objects.Points(gSwarm,temperatureField, fn_mask=vizVariable))\n",
    "\n",
    "    figVisc= glucifer.Figure(store2, figsize=(300*np.round(md.aspectRatio,2),300))\n",
    "    figVisc.append( glucifer.objects.Points(gSwarm,viscosityMapFn1, logScale=True, valueRange =[1.,1e5], fn_mask=vizVariable))\n",
    "\n",
    "\n",
    "    figMat= glucifer.Figure(store4, figsize=(300*np.round(md.aspectRatio,2),300))\n",
    "    figMat.append( glucifer.objects.Points(gSwarm,materialVariable, fn_mask=vizVariable))"
   ]
  },
  {
   "cell_type": "code",
   "execution_count": 89,
   "metadata": {
    "collapsed": false
   },
   "outputs": [
    {
     "data": {
      "text/html": [
       "<img src='data:image/png;base64,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'>"
      ],
      "text/plain": [
       "<IPython.core.display.HTML object>"
      ]
     },
     "metadata": {},
     "output_type": "display_data"
    }
   ],
   "source": [
    "figDb.show()"
   ]
  },
  {
   "cell_type": "markdown",
   "metadata": {},
   "source": [
    "**Miscellania**"
   ]
  },
  {
   "cell_type": "code",
   "execution_count": 88,
   "metadata": {
    "collapsed": false
   },
   "outputs": [
    {
     "name": "stderr",
     "output_type": "stream",
     "text": [
      "/usr/local/lib/python2.7/dist-packages/numpy/core/numeric.py:190: VisibleDeprecationWarning: using a non-integer number instead of an integer will result in an error in the future\n",
      "  a = empty(shape, dtype, order)\n"
     ]
    }
   ],
   "source": [
    "##############\n",
    "#Create a numpy array at the surface to get surface information on (using parallel-friendly evaluate_global)\n",
    "##############\n",
    "\n",
    "surface_xs = np.linspace(mesh.minCoord[0], mesh.maxCoord[0], mesh.elementRes[0] + 1)\n",
    "surface_nodes = np.array(zip(surface_xs, np.ones(len(surface_xs)*mesh.maxCoord[1]))) #For evaluation surface velocity\n",
    "normgradV = velocityField.fn_gradient[0]/fn.math.sqrt(velocityField[0]*velocityField[0])\n",
    "\n",
    "tempMM = fn.view.min_max(temperatureField)\n",
    "dummy = tempMM.evaluate(mesh)\n",
    "\n"
   ]
  },
  {
   "cell_type": "code",
   "execution_count": null,
   "metadata": {
    "collapsed": true
   },
   "outputs": [],
   "source": []
  },
  {
   "cell_type": "code",
   "execution_count": 89,
   "metadata": {
    "collapsed": false
   },
   "outputs": [],
   "source": [
    "##############\n",
    "#These functions handle checkpointing\n",
    "##############\n",
    "\n",
    "\n",
    "#Subzone = ndp.subzone\n",
    "\n",
    "\n",
    "def checkpoint1(step, checkpointPath,filename, filewrites):\n",
    "    path = checkpointPath + str(step) \n",
    "    os.mkdir(path)\n",
    "    ##Write and save the file, if not already a writing step\n",
    "    if not step % filewrites == 0:\n",
    "        f_o.write((30*'%-15s ' + '\\n') % (areaintRock, tempintRock, rmsintRock, dwintRock, vdintRock,\n",
    "                                  areaintLith, tempintLith,rmsintLith, dwintLith, vdintLith,\n",
    "                                  areaintLower, tempintLower, rmsintLower, dwintLower, vdintLower, \n",
    "                                  areaintHinge180,vdintHinge180, areaintHinge60, vdintHinge60, \n",
    "                                  areaintInterface, vdintInterface, vdintInterface,\n",
    "                                  rmsSurf, nuTop, nuBottom, plateness, ndp.subzone,ndp.lRidge, ndp.rRidge, realtime))\n",
    "    filename.close()\n",
    "    shutil.copyfile(os.path.join(outputPath, outputFile), os.path.join(path, outputFile))\n",
    "\n",
    "\n",
    "def checkpoint2(step, checkpointPath, swarm, filename, varlist = [materialVariable], varnames = ['materialVariable']):\n",
    "    path = checkpointPath + str(step) \n",
    "    velfile = \"velocityField\" + \".hdf5\"\n",
    "    tempfile = \"temperatureField\" + \".hdf5\"\n",
    "    pressfile = \"pressureField\" + \".hdf5\"\n",
    "    velocityField.save(os.path.join(path, velfile))\n",
    "    temperatureField.save(os.path.join(path, tempfile))\n",
    "    pressureField.save(os.path.join(path, pressfile))\n",
    "    swarm.save(os.path.join(path, \"swarm.h5\") ) \n",
    "    for ix in range(len(varlist)):\n",
    "        varb = varlist[ix]\n",
    "        varb.save(os.path.join(path,varnames[ix] + \".h5\"))\n",
    "    \n",
    "    #Save the parameters\n",
    "    dict_list = [dp, sf, ndp, md] #if any of the dictionaries have changed, this list needs to be rebuilt\n",
    "    save_pickles(dict_list, dict_names, path)\n",
    "    \n",
    "#Simple Checkpoint function for the faults / interfaces (markerLine2D)\n",
    "def checkpoint3(step,  checkpointPath, interfaces,interfacenames ):\n",
    "    path = checkpointPath + str(step)\n",
    "    for ix in range(len(interfaces)):\n",
    "        intf = interfaces[ix]\n",
    "        intf.swarm.save(os.path.join(path,interfacenames[ix] + \".h5\"))\n",
    "    \n",
    "    "
   ]
  },
  {
   "cell_type": "code",
   "execution_count": 126,
   "metadata": {
    "collapsed": false
   },
   "outputs": [],
   "source": [
    "def plate_infoFn(velocityField,xFn,  depthLimit, xsearchlim = 1.0, currentloc = 0.0, plateType='convergent'):\n",
    "    \"\"\"\n",
    "    This functions is used to track the plate boundaries in 2D.\n",
    "    It returns the x value of the max / min of the x velocity gradient.\n",
    "    \n",
    "    \"\"\"\n",
    "    \n",
    "    #Restriction fucntion \n",
    "    restictionFn = fn.branching.conditional([(operator.and_(fn.math.abs(xFn - currentloc) < xsearchlim, depthFn < depthLimit) , 1.),                                       \n",
    "                                             (True, 0.0)])\n",
    "    \n",
    "    #Normalised surface vel gradient\n",
    "    normgradV = velocityField.fn_gradient[0]/fn.math.sqrt(velocityField[0]*velocityField[0])\n",
    "\n",
    "    \n",
    "    plateFn0 = normgradV*restictionFn\n",
    "    \n",
    "    plateFn = fn.branching.conditional([(plateFn0 > 1e20, 0.),             #This attempts to fix inf values that appear at sidewalls                          \n",
    "                                             (True, plateFn0)])\n",
    "    \n",
    "    extremFn = fn.view.min_max(plateFn)\n",
    "    dummy = extremFn.evaluate(mesh)\n",
    "    \n",
    "    \n",
    "    print(extremFn.min_global(), extremFn.max_global())\n",
    "\n",
    "    #get global max\n",
    "    if plateType == 'convergent':   \n",
    "        testFn = fn.branching.conditional([(extremFn < extremFn.min_global() + 1e-10, coordinate[0]),                                       \n",
    "                                             (True, (-9999999.))])\n",
    "        extremFn2 = fn.view.min_max(testFn)\n",
    "        dummy2 = extremFn2.evaluate(mesh)\n",
    "        return extremFn2.max_global()\n",
    "    elif plateType == 'divergent':\n",
    "        testFn = fn.branching.conditional([(extremFn > extremFn.max_global() - 1e-3, coordinate[0]),                                       \n",
    "                                             (True, (-9999999.))])\n",
    "        extremFn2 = fn.view.min_max(testFn)\n",
    "        dummy2 = extremFn2.evaluate(mesh)\n",
    "        return extremFn2.max_global()\n",
    "    else:\n",
    "        raise ValueError('plateType should be one of convergent/divergent')"
   ]
  },
  {
   "cell_type": "code",
   "execution_count": 127,
   "metadata": {
    "collapsed": false
   },
   "outputs": [],
   "source": [
    "# initialise timer for computation\n",
    "start = time.clock()\n"
   ]
  },
  {
   "cell_type": "markdown",
   "metadata": {},
   "source": [
    "Main simulation loop\n",
    "-----\n"
   ]
  },
  {
   "cell_type": "code",
   "execution_count": null,
   "metadata": {
    "collapsed": false
   },
   "outputs": [],
   "source": [
    "#while step < 6:\n",
    "while realtime < 0.002:\n",
    "\n",
    "    # solve Stokes and advection systems\n",
    "    solver.solve(nonLinearIterate=True)\n",
    "    \n",
    "    #remove drift /null space in pressure\n",
    "    pressureField.data[:] -= pressureSurf/surfLength\n",
    "    \n",
    "    \n",
    "    dt = advDiff.get_max_dt()\n",
    "    if step == 0:\n",
    "        dt = 0.\n",
    "    advDiff.integrate(dt)\n",
    "    passiveadvector.integrate(dt)\n",
    "    #advect any interfaces\n",
    "    fault.advection(dt)\n",
    "    \n",
    "    \n",
    "    \n",
    "    # Increment\n",
    "    realtime += dt\n",
    "    step += 1\n",
    "    timevals.append(realtime)\n",
    "    ################\n",
    "    #Update temperature field in the air region\n",
    "    #Do this better...\n",
    "    ################\n",
    "    if (step % sticky_air_temp == 0):\n",
    "        for index, coord in enumerate(mesh.data):\n",
    "            if coord[1] >= 1.:\n",
    "                temperatureField.data[index] = ndp.TSP\n",
    "                \n",
    "    ################\n",
    "    #Files output\n",
    "    ################ \n",
    "    if (step % files_output == 0):\n",
    "        \n",
    "        #Save the fault swarm\n",
    "        fnametemp1 = \"faultSwarm\" + \"_\" + str(step)\n",
    "        fullpath1 = os.path.join(outputPath + \"files/\" + fnametemp1)\n",
    "        fault.swarm.save(fullpath1)\n",
    "        \n",
    "        #build a metric swarm and save values\n",
    "        #Copy the fault and jitter, this is the swarm we'll capture inteface details on \n",
    "\n",
    "        metricSwarm  = copy_markerLine2D(fault)\n",
    "        \n",
    "        \n",
    "        ds = ndp.MANTLETOCRUST\n",
    "        with metricSwarm.swarm.deform_swarm():\n",
    "            metricSwarm.swarm.particleCoordinates.data[...] -= metricSwarm.director.data[...]*ds\n",
    "        \n",
    "        #set up some swarm variables\n",
    "        interfaceSinv = metricSwarm.swarm.add_variable( dataType=\"float\", count=1 )\n",
    "        interfaceSinv.data[:] = strainRate_2ndInvariant.evaluate(metricSwarm.swarm)\n",
    "        \n",
    "        interfaceVisc = metricSwarm.swarm.add_variable( dataType=\"float\", count=1 )\n",
    "        interfaceVisc.data[:] = meshVisc.evaluate(metricSwarm.swarm)\n",
    "        \n",
    "        uw.barrier()\n",
    "        #Save metric swarm and swarm vars. \n",
    "        fnametemp = \"metricSwarm\" + \"_\" + str(step)\n",
    "        fullpath = os.path.join(outputPath + \"files/\" + fnametemp)\n",
    "        metricSwarm.swarm.save(fullpath)\n",
    "        #\n",
    "        uw.barrier()\n",
    "        fnametemp = \"interfaceSinv\" + \"_\" + str(step)\n",
    "        fullpath = os.path.join(outputPath + \"files/\" + fnametemp)\n",
    "        interfaceSinv.save(fullpath)\n",
    "        #\n",
    "        uw.barrier()\n",
    "        fnametemp = \"interfaceVisc\" + \"_\" + str(step)\n",
    "        fullpath = os.path.join(outputPath + \"files/\" + fnametemp)\n",
    "        interfaceVisc.save(fullpath)\n",
    "        \n",
    "        \n",
    "        del metricSwarm, interfaceSinv, interfaceVisc #now delete them\n",
    "\n",
    "    ################\n",
    "    #Fault / interface repair\n",
    "    ################    \n",
    "    #Any functions to do with repairing the interfaces should go here\n",
    "    \n",
    "                \n",
    "    ################\n",
    "    #Update the subduction zone / plate information\n",
    "    ################ \n",
    "    \n",
    "    comm.barrier()\n",
    "    if (step % files_output == 0):\n",
    "        \n",
    "\n",
    "        ndp.subzone = plate_infoFn(velocityField,xFn,  20e3/dp.LS, xsearchlim = 200e3/dp.LS, currentloc = ndp.subzone, plateType='convergent')\n",
    "        ndp.lRidge = plate_infoFn(velocityField,xFn,  20e3/dp.LS, xsearchlim = 200e3/dp.LS, currentloc = ndp.lRidge, plateType='divergent')\n",
    "        ndp.rRidge = plate_infoFn(velocityField,xFn,  20e3/dp.LS, xsearchlim = 200e3/dp.LS, currentloc = ndp.rRidge, plateType='divergent')\n",
    "\n",
    "                \n",
    "    ################\n",
    "    # Calculate the Metrics\n",
    "    ################\n",
    "    if (step % metric_output == 0):\n",
    "        ###############\n",
    "        #Rebuild the restriction functions where necessary\n",
    "        ###############\n",
    "        \n",
    "        #Lithosphere - mantle:\n",
    "        tempMM = fn.view.min_max(temperatureField)\n",
    "        tempMM.evaluate(mesh)\n",
    "        TMAX = tempMM.max_global()\n",
    "        mantleconditions = [ (                                  operator.and_(temperatureField < 0.9*TMAX, operator.and_(xFn> ndp.lRidge,xFn< ndp.rRidge )), 1.),\n",
    "                   (                                                   True , 0.) ]\n",
    "        lithRestFn = fn.branching.conditional(mantleconditions)\n",
    "        lithRestFn*=rockRestFn #Add next level up in heirarchy\n",
    "        \n",
    "        #Lower plate\n",
    "        \n",
    "        lowerPlateRestFn = gSwarm.add_variable( dataType=\"double\", count=1 ) #weirdly we have to rebuild this one...\n",
    "        lowerPlateRestFn.data[:] = 0.0\n",
    "        sd, pts0 = fault.compute_signed_distance(gSwarm.particleCoordinates.data, distance=w0)\n",
    "        sp, pts0 = fault.compute_marker_proximity(gSwarm.particleCoordinates.data, distance=w0)\n",
    "        lowerPlateRestFn.data[np.logical_and(sd>0,sp == fault.ID)] = sp[np.logical_and(sd>0,sp == fault.ID)]\n",
    "        lowerPlateRestFn *= lithRestFn #Add next level up in heirarchy\n",
    "        \n",
    "        #Hinge\n",
    "        \n",
    "        hinge60Spatialconditions = [ (           operator.and_( (depthFn < MAXY - (60e3/dp.LS)),  (xFn > ndp.subzone - 60e3/dp.LS)), 1.),\n",
    "                   (                                                   True , 0.) ]\n",
    "        hinge60RestFn = fn.branching.conditional(hinge60Spatialconditions)\n",
    "        hinge60RestFn*=lowerPlateRestFn #Add next level up in hierarchy\n",
    "\n",
    "\n",
    "\n",
    "        hinge180Spatialconditions = [ (           operator.and_( (depthFn < MAXY - (180e3/dp.LS)),  (xFn > ndp.subzone - 180e3/dp.LS)), 1.),\n",
    "                           (                                                   True , 0.) ]\n",
    "        hinge180RestFn = fn.branching.conditional(hinge180Spatialconditions)\n",
    "        hinge180RestFn*=lowerPlateRestFn #Add next level up in hierarchy\n",
    "        \n",
    "        ###############\n",
    "        #Metrics\n",
    "        ###############\n",
    "        areaintRock = _areaintRock.evaluate()[0] #trivial except when using sticky air\n",
    "        tempintRock = _tempintRock.evaluate()[0]\n",
    "        rmsintRock = _rmsintRock.evaluate()[0]\n",
    "        dwintRock = _dwintRock.evaluate()[0]\n",
    "        vdintRock = _vdintRock.evaluate()[0]\n",
    "        areaintLith = _areaintLith.evaluate()[0]\n",
    "        tempintLith = _tempintLith.evaluate()[0]\n",
    "        rmsintLith = _rmsintLith.evaluate()[0]\n",
    "        dwintLith = _dwintLith.evaluate()[0]\n",
    "        vdintLith = _vdintLith.evaluate()[0]\n",
    "        areaintLower = _areaintLower.evaluate()[0]\n",
    "        tempintLower = _tempintLower.evaluate()[0]\n",
    "        rmsintLower = _rmsintLower.evaluate()[0]\n",
    "        dwintLower = _dwintLower.evaluate()[0]\n",
    "        vdintLower = _vdintLower.evaluate()[0]\n",
    "        vdintHinge180 = _vdintHinge180.evaluate()[0]\n",
    "        areaintHinge180 = _areaintHinge180.evaluate()[0]\n",
    "        vdintHinge60 = _vdintHinge60.evaluate()[0]\n",
    "        areaintHinge60= _areaintHinge60.evaluate()[0]\n",
    "        vdintInterface = _vdintInterface.evaluate()[0]\n",
    "        areaintInterface= _areaintInterface.evaluate()[0]\n",
    "        #Surface integrals\n",
    "        rmsSurf = _rmsSurf.evaluate()[0]\n",
    "        nuTop = _nuTop.evaluate()[0]\n",
    "        nuBottom = _nuBottom.evaluate()[0]\n",
    "        plateness = _plateness.evaluate()[0]\n",
    "        #extrema\n",
    "        maxVel = _maxMinVel.max_global()\n",
    "        minVel = _maxMinVel.min_global() \n",
    "        maxSr = _maxMinSr.max_global()\n",
    "        minSr = _maxMinSr.min_global()\n",
    "        maxVxsurf = _maxMinVxSurf.max_global()\n",
    "        minVxsurf = _maxMinVxSurf.min_global()\n",
    "        # output to summary text file\n",
    "        if uw.rank()==0:\n",
    "            f_o.write((30*'%-15s ' + '\\n') % (areaintRock, tempintRock, rmsintRock, dwintRock, vdintRock,\n",
    "                                  areaintLith, tempintLith,rmsintLith, dwintLith, vdintLith,\n",
    "                                  areaintLower, tempintLower, rmsintLower, dwintLower, vdintLower, \n",
    "                                  areaintHinge180,vdintHinge180, areaintHinge60, vdintHinge60, \n",
    "                                  areaintInterface, vdintInterface, vdintInterface,\n",
    "                                  rmsSurf, nuTop, nuBottom, plateness, ndp.subzone,ndp.lRidge, ndp.rRidge, realtime))\n",
    "    ################\n",
    "    #Also repopulate entire swarm periodically\n",
    "    ################\n",
    "    #if step % swarm_repop == 0:\n",
    "    population_control.repopulate()   \n",
    "    ################\n",
    "    #Gldb output\n",
    "    ################ \n",
    "    if (step % gldbs_output == 0): \n",
    "        if figures == 'gldb':\n",
    "            \n",
    "            \n",
    "            #Remember to rebuild any necessary swarm variables\n",
    "            fnamedb = \"dbFig\" + \"_\" + str(step) + \".gldb\"\n",
    "            fullpath = os.path.join(outputPath + \"gldbs/\" + fnamedb)\n",
    "            figDb.save_database(fullpath)\n",
    "            \n",
    "            #Temp figure\n",
    "            #fnamedb = \"restrictFig\" + \"_\" + str(step) + \".gldb\"\n",
    "            #fullpath = os.path.join(outputPath + \"gldbs/\" + fnamedb)\n",
    "            #figRestrict.save_database(fullpath)\n",
    "            \n",
    "            \n",
    "            \n",
    "            \n",
    "        elif figures == 'store':      \n",
    "            fullpath = os.path.join(outputPath + \"gldbs/\")\n",
    "            store.step = step\n",
    "            #Save figures to store\n",
    "            figVisc.save( fullpath + \"Visc\" + str(step).zfill(4))\n",
    "            #figMech.save( fullPath + \"Mech\" + str(step).zfill(4))\n",
    "            figTemp.save( fullpath + \"Temp\"    + str(step).zfill(4))\n",
    "            figMat.save( fullpath + \"Mat\"    + str(step).zfill(4))\n",
    "\n",
    "        \n",
    "\n",
    "        \n",
    "\n",
    "    ################\n",
    "    #Particle update\n",
    "    ###############    \n",
    "    #ageVariable.data[:] += dt #increment the ages (is this efficient?)\n",
    "    ageDT += dt\n",
    "    \n",
    "    if step % swarm_update == 0:\n",
    "        \n",
    "        \n",
    "        #This is hardcoded to assume subduction is towards the right\n",
    "        tempop = operator.lt\n",
    "        szoffset = 200e3/dp.LS\n",
    "\n",
    "        #Update the relevant parts of the material graph\n",
    "        #Remove and rebuild edges related to crust\n",
    "        DG.remove_edges_from([(mantleIndex,crustIndex)])\n",
    "        DG.add_edges_from([(mantleIndex,crustIndex)])\n",
    "        DG.remove_edges_from([(harzIndex,crustIndex)])\n",
    "        DG.add_edges_from([(harzIndex,crustIndex)])\n",
    "\n",
    "        #... to crust\n",
    "        DG.add_transition((mantleIndex,crustIndex), depthFn, operator.lt, 0.5)\n",
    "        DG.add_transition((mantleIndex,crustIndex), xFn, tempop , ndp.subzone - szoffset) #No crust on the upper plate\n",
    "        DG.add_transition((mantleIndex,crustIndex), ageVariable, operator.gt, 0.2)\n",
    "\n",
    "        DG.add_transition((harzIndex,crustIndex), depthFn, operator.lt, ndp.MANTLETOCRUST)\n",
    "        DG.add_transition((harzIndex,crustIndex), xFn, tempop, ndp.subzone - szoffset) #This one sets no crust on the upper plate\n",
    "        DG.add_transition((harzIndex,crustIndex), ageVariable, operator.gt, crustageCond)\n",
    "        \n",
    "        comm.barrier()\n",
    "        \n",
    "    \n",
    "        \n",
    "        \n",
    "        #Increment age stuff. \n",
    "        ageConditions = [ (depthFn < ndp.AGETRACKDEPTH, ageVariable + ageDT ),  #add ageDThere\n",
    "                  (True, 0.) ]\n",
    "        ageVariable.data[:] = fn.branching.conditional( ageConditions ).evaluate(gSwarm)        \n",
    "        ageDT = 0. #reset the age incrementer\n",
    "        \n",
    "        #Apply any materialVariable changes\n",
    "        for i in range(2): #go through twice\n",
    "            materialVariable.data[:] = fn.branching.conditional(DG.condition_list).evaluate(gSwarm)\n",
    "        \n",
    "        #Also update any information related to faults / interfaces:\n",
    "\n",
    "        sd, pts0 = fault.compute_signed_distance(gSwarm.particleCoordinates.data, distance=w0)\n",
    "        sp, pts0 = fault.compute_marker_proximity(gSwarm.particleCoordinates.data)\n",
    "\n",
    "        proximityVariable.data[np.logical_and(sd<0,sp == fault.ID)] = sp[np.logical_and(sd<0,sp == fault.ID)]\n",
    "\n",
    "        dv, nzv = fault.compute_normals(gSwarm.particleCoordinates.data)\n",
    "        directorVector.data[nzv] = dv[nzv]\n",
    "\n",
    "        proximityVariable.data[gSwarm.particleCoordinates.data[:,1]  < (1. - ndp.CRUSTVISCUTOFF)] = 0.\n",
    "        \n",
    "        #And add extra particles to interfaces as necessary\n",
    "        #subduction fault\n",
    "        introPoint = ndp.subzone - abs(ndp.subzone - ndp.lRidge)/2. #half way between ridge and Sz\n",
    "        fault.add_points([introPoint],[MAXY - faultthickness])\n",
    "        \n",
    "    ################\n",
    "    #Checkpoint\n",
    "    ################\n",
    "    if step % checkpoint_every == 0:\n",
    "        if uw.rank() == 0:\n",
    "            checkpoint1(step, checkpointPath,f_o, metric_output)           \n",
    "        checkpoint2(step, checkpointPath, gSwarm, f_o, varlist = varlist, varnames = varnames)\n",
    "        checkpoint3(step,  checkpointPath, interfaces,interfacenames )\n",
    "        f_o = open(os.path.join(outputPath, outputFile), 'a') #is this line supposed to be here?\n",
    "\n",
    "    \n",
    "f_o.close()\n",
    "print 'step =',step"
   ]
  },
  {
   "cell_type": "code",
   "execution_count": 120,
   "metadata": {
    "collapsed": false
   },
   "outputs": [],
   "source": []
  },
  {
   "cell_type": "code",
   "execution_count": null,
   "metadata": {
    "collapsed": false
   },
   "outputs": [],
   "source": []
  },
  {
   "cell_type": "code",
   "execution_count": 98,
   "metadata": {
    "collapsed": false
   },
   "outputs": [],
   "source": [
    "#vxTi = velocityField[0].evaluate(surface_nodes)\n",
    "#vxIso = velocityFieldIso[0].evaluate(surface_nodes)\n",
    "#%pylab inline\n",
    "#fig, axes = plt.subplots(figsize=(16,4))\n",
    "#axes.plot(vxTi)\n",
    "#axes.plot(vxIso)\n",
    "\n",
    "\n",
    "#fig, axes = plt.subplots(figsize=(16,4))\n",
    "#axes.plot(vxTi)\n",
    "#axes.plot(surface_xs, vxTi - vxIso)\n",
    "#fig.savefig('Ti_minus_Iso.png')\n",
    "#plt.title('surface velocity residual - T. Iso minus Iso. weak zone')\n"
   ]
  },
  {
   "cell_type": "code",
   "execution_count": 130,
   "metadata": {
    "collapsed": false
   },
   "outputs": [],
   "source": [
    "from scipy.interpolate import Rbf"
   ]
  },
  {
   "cell_type": "code",
   "execution_count": 131,
   "metadata": {
    "collapsed": true
   },
   "outputs": [],
   "source": [
    "rbfi = Rbf(fault.swarm.particleCoordinates.data[:,0], fault.swarm.particleCoordinates.data[:,0])"
   ]
  },
  {
   "cell_type": "code",
   "execution_count": 132,
   "metadata": {
    "collapsed": false
   },
   "outputs": [
    {
     "data": {
      "text/plain": [
       "<scipy.interpolate.rbf.Rbf at 0x7fdc30c73ed0>"
      ]
     },
     "execution_count": 132,
     "metadata": {},
     "output_type": "execute_result"
    }
   ],
   "source": [
    "rbfi"
   ]
  },
  {
   "cell_type": "code",
   "execution_count": null,
   "metadata": {
    "collapsed": true
   },
   "outputs": [],
   "source": []
  }
 ],
 "metadata": {
  "kernelspec": {
   "display_name": "Python 2",
   "language": "python",
   "name": "python2"
  },
  "language_info": {
   "codemirror_mode": {
    "name": "ipython",
    "version": 2
   },
   "file_extension": ".py",
   "mimetype": "text/x-python",
   "name": "python",
   "nbconvert_exporter": "python",
   "pygments_lexer": "ipython2",
   "version": "2.7.9"
  },
  "widgets": {
   "state": {},
   "version": "1.1.2"
  }
 },
 "nbformat": 4,
 "nbformat_minor": 0
}
