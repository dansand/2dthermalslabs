{
 "cells": [
  {
   "cell_type": "markdown",
   "metadata": {},
   "source": [
    "Korenaga 2011\n",
    "======\n",
    "\n",
    "Temperature dependent convection\n",
    "----\n",
    "\n",
    "This Notebooks implements the case of two-dimensional, incompressible, internally-heated fmantle convection.\n",
    "\n",
    "\n",
    "**Keywords:** Stokes system, advective diffusive systems, analysis tools, tools for post analysis, rheologies\n",
    "\n",
    "\n",
    "**References**\n",
    "\n",
    "Korenaga, Jun. \"Scaling of plate tectonic convection with pseudoplastic rheology.\" Journal of Geophysical Research: Solid Earth 115.B11 (2010).\n",
    "http://onlinelibrary.wiley.com/doi/10.1029/2010JB007670/full"
   ]
  },
  {
   "cell_type": "code",
   "execution_count": 1,
   "metadata": {
    "collapsed": false
   },
   "outputs": [],
   "source": [
    "import numpy as np\n",
    "import underworld as uw\n",
    "import math\n",
    "from underworld import function as fn\n",
    "import glucifer\n",
    "\n",
    "import os\n",
    "import sys\n",
    "import glob\n",
    "import natsort\n",
    "import shutil\n",
    "from easydict import EasyDict as edict\n",
    "import operator\n",
    "import pint\n",
    "import time\n",
    "import operator\n",
    "from slippy2 import boundary_layer2d\n",
    "from slippy2 import material_graph\n",
    "from slippy2 import spmesh\n",
    "\n",
    "from mpi4py import MPI\n",
    "comm = MPI.COMM_WORLD\n",
    "rank = comm.Get_rank()"
   ]
  },
  {
   "cell_type": "code",
   "execution_count": 2,
   "metadata": {
    "collapsed": true
   },
   "outputs": [],
   "source": [
    "#####\n",
    "#Stubborn version number conflicts - need to figure out my Docker container runs an old version. For now...\n",
    "#####\n",
    "try:\n",
    "    natsort.natsort = natsort.natsorted\n",
    "except:\n",
    "    natsort.natsort = natsort.natsort"
   ]
  },
  {
   "cell_type": "markdown",
   "metadata": {},
   "source": [
    "Model name and directories\n",
    "-----"
   ]
  },
  {
   "cell_type": "code",
   "execution_count": 3,
   "metadata": {
    "collapsed": true
   },
   "outputs": [],
   "source": [
    "############\n",
    "#Model letter and number\n",
    "############\n",
    "\n",
    "\n",
    "#Model letter identifier default\n",
    "Model = \"Z\"\n",
    "\n",
    "#Model number identifier default:\n",
    "ModNum = 0\n",
    "\n",
    "#Any isolated letter / integer command line args are interpreted as Model/ModelNum\n",
    "\n",
    "if len(sys.argv) == 1:\n",
    "    ModNum = ModNum \n",
    "elif sys.argv[1] == '-f': #\n",
    "    ModNum = ModNum \n",
    "else:\n",
    "    for farg in sys.argv[1:]:\n",
    "        if not '=' in farg: #then Assume it's a not a paramter argument\n",
    "            try:\n",
    "                ModNum = int(farg) #try to convert everingthing to a float, else remains string\n",
    "            except ValueError:\n",
    "                Model  = farg"
   ]
  },
  {
   "cell_type": "code",
   "execution_count": 4,
   "metadata": {
    "collapsed": false
   },
   "outputs": [],
   "source": [
    "###########\n",
    "#Standard output directory setup\n",
    "###########\n",
    "\n",
    "outputPath = \"results\" + \"/\" +  str(Model) + \"/\" + str(ModNum) + \"/\" \n",
    "imagePath = outputPath + 'images/'\n",
    "filePath = outputPath + 'files/'\n",
    "checkpointPath = outputPath + 'checkpoint/'\n",
    "dbPath = outputPath + 'gldbs/'\n",
    "outputFile = 'results_model' + Model + '_' + str(ModNum) + '.dat'\n",
    "\n",
    "if uw.rank()==0:\n",
    "    # make directories if they don't exist\n",
    "    if not os.path.isdir(outputPath):\n",
    "        os.makedirs(outputPath)\n",
    "    if not os.path.isdir(checkpointPath):\n",
    "        os.makedirs(checkpointPath)\n",
    "    if not os.path.isdir(imagePath):\n",
    "        os.makedirs(imagePath)\n",
    "    if not os.path.isdir(dbPath):\n",
    "        os.makedirs(dbPath)\n",
    "    if not os.path.isdir(filePath):\n",
    "        os.makedirs(filePath)\n"
   ]
  },
  {
   "cell_type": "code",
   "execution_count": 5,
   "metadata": {
    "collapsed": true
   },
   "outputs": [],
   "source": [
    "###########\n",
    "#you can hard code a different checkpoint Load path here, \n",
    "###########\n",
    "\n",
    "checkpointLoadPath = checkpointPath\n",
    "#checkpointLoadPath = 'results/Z/6/checkpoint/'\n",
    "\n",
    "        \n",
    "comm.Barrier() #Barrier here so no procs run the check in the next cell too early"
   ]
  },
  {
   "cell_type": "code",
   "execution_count": 6,
   "metadata": {
    "collapsed": false
   },
   "outputs": [],
   "source": [
    "###########\n",
    "#Check if starting from checkpoint\n",
    "###########\n",
    "\n",
    "checkdirs = []\n",
    "for dirpath, dirnames, files in os.walk(checkpointLoadPath):\n",
    "    if files:\n",
    "        #print dirpath, 'has files'\n",
    "        if checkpointPath != checkpointLoadPath:\n",
    "            print(\"You're loading checkpoints from somewhere other than *outputPath* ...careful\")\n",
    "        checkpointLoad = True\n",
    "        checkdirs.append(dirpath)\n",
    "    if not files:\n",
    "        #print dirpath, 'is empty'\n",
    "        checkpointLoad = False\n",
    "        \n",
    "comm.Barrier()"
   ]
  },
  {
   "cell_type": "code",
   "execution_count": 7,
   "metadata": {
    "collapsed": false
   },
   "outputs": [
    {
     "name": "stdout",
     "output_type": "stream",
     "text": [
      "False\n"
     ]
    }
   ],
   "source": [
    "print(checkpointLoad)"
   ]
  },
  {
   "cell_type": "code",
   "execution_count": 8,
   "metadata": {
    "collapsed": false
   },
   "outputs": [],
   "source": [
    "# setup summary output file (name above)\n",
    "if checkpointLoad:\n",
    "    checkpointLoadDir = natsort.natsort(checkdirs)[-1] #Get the most recent checkpoint directory\n",
    "    fuzzyFile = glob.glob(os.path.join(checkpointLoadDir, '*.dat'))[0]\n",
    "    if uw.rank() == 0:\n",
    "        shutil.copyfile(fuzzyFile, outputPath+outputFile)\n",
    "    comm.Barrier()\n",
    "    f_o = open(os.path.join(outputPath, outputFile), 'a')\n",
    "    prevdata = np.genfromtxt(os.path.join(outputPath, outputFile), skip_header=0, skip_footer=0)\n",
    "    if len(prevdata.shape) == 1: #this is in case there is only one line in previous file\n",
    "        realtime = prevdata[-1]  #This corresponds to the column you write time data to\n",
    "    else:\n",
    "        realtime = prevdata[prevdata.shape[0]-1, -1]\n",
    "    step = int(checkpointLoadDir.split('/')[-1])\n",
    "    timevals = [0.]\n",
    "else:\n",
    "    f_o = open(outputPath+outputFile, 'w')\n",
    "    realtime = 0.\n",
    "    step = 0\n",
    "    timevals = [0.]"
   ]
  },
  {
   "cell_type": "markdown",
   "metadata": {},
   "source": [
    "Setup parameters\n",
    "-----\n",
    "\n",
    "Set simulation parameters for test."
   ]
  },
  {
   "cell_type": "markdown",
   "metadata": {},
   "source": [
    "**Use pint to setup any unit conversions we'll need**"
   ]
  },
  {
   "cell_type": "code",
   "execution_count": 9,
   "metadata": {
    "collapsed": false
   },
   "outputs": [
    {
     "name": "stderr",
     "output_type": "stream",
     "text": [
      "/usr/local/lib/python2.7/dist-packages/IPython/core/formatters.py:92: DeprecationWarning: DisplayFormatter._ipython_display_formatter_default is deprecated: use @default decorator instead.\n",
      "  def _ipython_display_formatter_default(self):\n",
      "/usr/local/lib/python2.7/dist-packages/IPython/core/formatters.py:98: DeprecationWarning: DisplayFormatter._formatters_default is deprecated: use @default decorator instead.\n",
      "  def _formatters_default(self):\n",
      "/usr/local/lib/python2.7/dist-packages/IPython/core/formatters.py:677: DeprecationWarning: PlainTextFormatter._deferred_printers_default is deprecated: use @default decorator instead.\n",
      "  def _deferred_printers_default(self):\n",
      "/usr/local/lib/python2.7/dist-packages/IPython/core/formatters.py:669: DeprecationWarning: PlainTextFormatter._singleton_printers_default is deprecated: use @default decorator instead.\n",
      "  def _singleton_printers_default(self):\n",
      "/usr/local/lib/python2.7/dist-packages/IPython/core/formatters.py:672: DeprecationWarning: PlainTextFormatter._type_printers_default is deprecated: use @default decorator instead.\n",
      "  def _type_printers_default(self):\n",
      "/usr/local/lib/python2.7/dist-packages/IPython/core/formatters.py:669: DeprecationWarning: PlainTextFormatter._singleton_printers_default is deprecated: use @default decorator instead.\n",
      "  def _singleton_printers_default(self):\n",
      "/usr/local/lib/python2.7/dist-packages/IPython/core/formatters.py:672: DeprecationWarning: PlainTextFormatter._type_printers_default is deprecated: use @default decorator instead.\n",
      "  def _type_printers_default(self):\n",
      "/usr/local/lib/python2.7/dist-packages/IPython/core/formatters.py:677: DeprecationWarning: PlainTextFormatter._deferred_printers_default is deprecated: use @default decorator instead.\n",
      "  def _deferred_printers_default(self):\n"
     ]
    },
    {
     "data": {
      "text/html": [
       "10000.0 meter/megayear"
      ],
      "text/latex": [
       "$10000.0 \\frac{meter}{megayear}$"
      ],
      "text/plain": [
       "<Quantity(10000.0, 'meter / megayear')>"
      ]
     },
     "execution_count": 9,
     "metadata": {},
     "output_type": "execute_result"
    }
   ],
   "source": [
    "u = pint.UnitRegistry()\n",
    "cmpery = 1.*u.cm/u.year\n",
    "mpermy = 1.*u.m/u.megayear\n",
    "year = 1.*u.year\n",
    "spery = year.to(u.sec)\n",
    "cmpery.to(mpermy)"
   ]
  },
  {
   "cell_type": "code",
   "execution_count": 10,
   "metadata": {
    "collapsed": false
   },
   "outputs": [],
   "source": [
    "#box_half_width =4000e3\n",
    "#age_at_trench = 100e6\n",
    "#cmperyear = box_half_width / age_at_trench #m/y\n",
    "#mpersec = cmperyear*(cmpery.to(u.m/u.second)).magnitude #m/sec\n",
    "#print(cmperyear, mpersec )"
   ]
  },
  {
   "cell_type": "markdown",
   "metadata": {},
   "source": [
    "**Set parameter dictionaries**"
   ]
  },
  {
   "cell_type": "code",
   "execution_count": 11,
   "metadata": {
    "collapsed": true
   },
   "outputs": [],
   "source": [
    "###########\n",
    "#Parameter / settings dictionaries get saved&loaded using pickle\n",
    "###########\n",
    " \n",
    "dp = edict({}) #dimensional parameters\n",
    "sf = edict({}) #scaling factors\n",
    "ndp = edict({}) #dimensionless paramters\n",
    "md = edict({}) #model paramters, flags etc\n",
    "#od = edict({}) #output frequencies\n"
   ]
  },
  {
   "cell_type": "code",
   "execution_count": 12,
   "metadata": {
    "collapsed": true
   },
   "outputs": [],
   "source": [
    "dict_list = [dp, sf, ndp, md]\n",
    "dict_names = ['dp.pkl', 'sf.pkl', 'ndp.pkl', 'md.pkl']\n",
    "\n",
    "def save_pickles(dict_list, dict_names, dictPath):\n",
    "    import pickle\n",
    "    counter = 0\n",
    "    for pdict in dict_list:\n",
    "        myfile = os.path.join(dictPath, dict_names[counter])\n",
    "        with open(myfile, 'wb') as f:\n",
    "            pickle.dump(pdict, f)\n",
    "        counter+=1\n",
    "\n",
    "\n",
    "#ended up having to pretty much write a hard-coded function\n",
    "#All dictionaries we want checkpointed will have to  be added here \n",
    "#and where the function is called\n",
    "#Fortunately, this function is only called ONCE\n",
    "\n",
    "def load_pickles():\n",
    "    import pickle\n",
    "    dirpath = os.path.join(checkpointLoadPath, str(step))\n",
    "    dpfile = open(os.path.join(dirpath, 'dp.pkl'), 'r')\n",
    "    dp = pickle.load(dpfile)\n",
    "#    #\n",
    "    ndpfile = open(os.path.join(dirpath, 'ndp.pkl'), 'r')\n",
    "    ndp = edict(pickle.load(ndpfile))\n",
    "    #\n",
    "    sffile = open(os.path.join(dirpath, 'sf.pkl'), 'r')\n",
    "    sf = edict(pickle.load(sffile))\n",
    "    #\n",
    "    mdfile = open(os.path.join(dirpath, 'md.pkl'), 'r')\n",
    "    md = edict(pickle.load(mdfile))\n",
    "    return dp, ndp, sf, md"
   ]
  },
  {
   "cell_type": "code",
   "execution_count": 13,
   "metadata": {
    "collapsed": false
   },
   "outputs": [],
   "source": [
    "#dimensional parameter dictionary\n",
    "dp = edict({'LS':2900.*1e3,\n",
    "           'rho':3300,\n",
    "           'g':9.8, \n",
    "           #'eta0':5e20,\n",
    "           #'eta0':1e21,    #This will give Ra ~ 2e7, closer to models by Van Hunen, Billen etc.\n",
    "           'eta0': 2.05e22, #This will give Ra = 1e6 as quoted on Korenaga's paper\n",
    "           'k':1e-6,\n",
    "           'a':2e-5,\n",
    "           'c':1200., # Heat capacity J kg−1 K-1 \n",
    "           'deltaT':1300, \n",
    "           'TS':273.,\n",
    "           'cohesion':1e4, #i.e totally negligable...\n",
    "           'fc':0.015,\n",
    "            #'fc':0.03,\n",
    "           'E':162123.00, #with this choice, ndp.E = 15.\n",
    "           'V':3.457e-07, ## 1e-10, can be considered negligible, 3.457e-07 gives ndp.W of 3.\n",
    "           'R':8.314,\n",
    "           'StALS':100e3,\n",
    "           'subzone':0.0,   #X position of subduction zone...km\n",
    "           'orientation':30.,\n",
    "           'faultDepth':250e3,\n",
    "            'w0':145e3,\n",
    "            'H':3.709e-12 #Internal heating W kg-1, gives ndp.H = 20.\n",
    "           })\n",
    "\n",
    "dp.etaFault = dp.eta0*0.01 #this will be the fault (linear) viscosity value in either the isotropic or TI case\n",
    "dp.TI = dp.TS + dp.deltaT\n",
    "\n",
    "\n",
    "#scale_factors\n",
    "\n",
    "\n"
   ]
  },
  {
   "cell_type": "code",
   "execution_count": 31,
   "metadata": {
    "collapsed": false
   },
   "outputs": [],
   "source": [
    "#Modelling and Physics switches\n",
    "\n",
    "md = edict({'refineMesh':True,\n",
    "            'stickyAir':False,\n",
    "            'subductionFault':False,\n",
    "            'symmetricIcs':False,\n",
    "            'velBcs':False,\n",
    "            'aspectRatio':4,\n",
    "            'compBuoyancy':False, #use compositional & phase buoyancy, or simply thermal\n",
    "            'periodicBcs':True,\n",
    "            'melt_viscosity_reduction':False,\n",
    "            'lower_mantle':False,\n",
    "            'faultType':'None', #or 'Trans', Iso', or None\n",
    "            'RES':128,\n",
    "            'loadRES':64,\n",
    "            #'elementType':\"Q1/dQ0\"\n",
    "            'elementType':\"Q2/DPC1\",\n",
    "            'loadTemp':True, #a flag to load a specific temp file\n",
    "            'courantFac':0.5,\n",
    "             'ppc':50\n",
    "            })"
   ]
  },
  {
   "cell_type": "raw",
   "metadata": {},
   "source": [
    "#print(md.faultType)"
   ]
  },
  {
   "cell_type": "code",
   "execution_count": 15,
   "metadata": {
    "collapsed": true
   },
   "outputs": [],
   "source": [
    "###########\n",
    "#If starting from a checkpoint load params from file\n",
    "###########\n",
    "\n",
    "if checkpointLoad:\n",
    "    dp, ndp, sf, md = load_pickles()  #remember to add any extra dictionaries"
   ]
  },
  {
   "cell_type": "code",
   "execution_count": 16,
   "metadata": {
    "collapsed": false
   },
   "outputs": [],
   "source": [
    "###########\n",
    "#If command line args are given, overwrite\n",
    "#Note that this assumes that params as commans line args/\n",
    "#only append to the 'dimensional' and 'model' dictionary (not the non-dimensional)\n",
    "###########    \n",
    "\n",
    "\n",
    "###########\n",
    "#If extra arguments are provided to the script\" eg:\n",
    "### >>> uw.py 2 dp.arg1=1 dp.arg2=foo dp.arg3=3.0\n",
    "###\n",
    "###This would assign ModNum = 2, all other values go into the dp dictionary, under key names provided\n",
    "###\n",
    "###Two operators are searched for, = & *=\n",
    "###\n",
    "###If =, parameter is re-assigned to givn value\n",
    "###If *=, parameter is multipled by given value\n",
    "###\n",
    "### >>> uw.py 2 dp.arg1=1 dp.arg2=foo dp.arg3*=3.0\n",
    "###########\n",
    "\n",
    "for farg in sys.argv[1:]:\n",
    "    try:\n",
    "        (dicitem,val) = farg.split(\"=\") #Split on equals operator\n",
    "        (dic,arg) = dicitem.split(\".\") #colon notation\n",
    "        if '*=' in farg:\n",
    "            (dicitem,val) = farg.split(\"*=\") #If in-place multiplication, split on '*='\n",
    "            (dic,arg) = dicitem.split(\".\")\n",
    "            \n",
    "        if val == 'True': \n",
    "            val = True\n",
    "        elif val == 'False':     #First check if args are boolean\n",
    "            val = False\n",
    "        else:\n",
    "            try:\n",
    "                val = float(val) #next try to convert  to a float,\n",
    "            except ValueError:\n",
    "                pass             #otherwise leave as string\n",
    "        #Update the dictionary\n",
    "        if farg.startswith('dp'):\n",
    "            if '*=' in farg:\n",
    "                dp[arg] = dp[arg]*val #multiply parameter by given factor\n",
    "            else:\n",
    "                dp[arg] = val    #or reassign parameter by given value\n",
    "        if farg.startswith('md'):\n",
    "            if '*=' in farg:\n",
    "                md[arg] = md[arg]*val #multiply parameter by given factor\n",
    "            else:\n",
    "                md[arg] = val    #or reassign parameter by given value\n",
    "                \n",
    "    except:\n",
    "        pass\n",
    "            \n",
    "\n",
    "comm.barrier()"
   ]
  },
  {
   "cell_type": "code",
   "execution_count": 17,
   "metadata": {
    "collapsed": false
   },
   "outputs": [],
   "source": [
    "if not checkpointLoad:\n",
    "    sf = edict({'stress':dp.LS**2/(dp.k*dp.eta0),\n",
    "                'lith_grad':dp.rho*dp.g*(dp.LS)**3/(dp.eta0*dp.k) ,\n",
    "                 'vel':dp.LS/dp.k,\n",
    "                 'SR':dp.LS**2/dp.k,\n",
    "                 'W':(dp.rho*dp.g*dp.LS)/(dp.R*dp.deltaT), #This is the activation energy scale, in terms of depth (not pressure)\n",
    "                 'E': 1./(dp.R*dp.deltaT), #To scale E, V, we used a guesstimated adiabatic deltaT\n",
    "                 'H':(dp.LS)**2/(dp.c*dp.deltaT*dp.k)\n",
    "\n",
    "               }) \n",
    "\n",
    "    \n",
    "    #dimensionless parameters\n",
    "\n",
    "\n",
    "    ndp = edict({'RA':(dp.g*dp.rho*dp.a*dp.deltaT*(dp.LS)**3)/(dp.k*dp.eta0),\n",
    "                'cohesion':dp.cohesion*sf.stress,\n",
    "                'fcd':dp.fc*sf.lith_grad,\n",
    "                'gamma':dp.fc/(dp.a*dp.deltaT),\n",
    "                'E':dp.E*sf.E,\n",
    "                'W':dp.V*sf.W,\n",
    "                'TSP':0., \n",
    "                'TIP':1.,\n",
    "                'n':1.,\n",
    "                'TS':dp.TS/dp.deltaT,\n",
    "                'TI':dp.TI/dp.deltaT,\n",
    "                'eta_min':1e-3,\n",
    "                'eta_max':1e5,\n",
    "                'H':20.,\n",
    "                'Tmvp':0.6,\n",
    "                'Steta0':1e2,\n",
    "                'subzone':dp.subzone/dp.LS,   #X position of subduction zone..\n",
    "                'orientation':dp.orientation,\n",
    "                'faultDepth':dp.faultDepth/dp.LS,\n",
    "                 'etaFault':dp.etaFault/dp.eta0,\n",
    "                 'w0':dp.w0/dp.LS,\n",
    "                 'H':dp.H*sf.H\n",
    "                })\n",
    "\n",
    "\n",
    "\n",
    "    #ndp.RA = 1e6 #this is what Korenaga sets it to\n",
    "\n",
    "#Some final derived values go into the Dictionaries\n",
    "dp.VR = (0.1*(dp.k/dp.LS)*ndp.RA**(2/3.)) #characteristic velocity\n",
    "dp.SR = dp.VR/dp.LS #characteristic strain rate\n",
    "ndp.VR = dp.VR*sf.vel #characteristic velocity\n",
    "ndp.SR = dp.SR*sf.SR #characteristic strain rate\n",
    "ndp.StRA = (3300.*dp.g*(dp.LS)**3)/(dp.eta0 *dp.k) #Composisitional Rayleigh number for rock-air buoyancy force\n"
   ]
  },
  {
   "cell_type": "markdown",
   "metadata": {},
   "source": [
    "**Model setup parameters**"
   ]
  },
  {
   "cell_type": "code",
   "execution_count": 18,
   "metadata": {
    "collapsed": true
   },
   "outputs": [],
   "source": [
    "#md.RES = 128"
   ]
  },
  {
   "cell_type": "code",
   "execution_count": 19,
   "metadata": {
    "collapsed": false
   },
   "outputs": [],
   "source": [
    "###########\n",
    "#Model setup parameters\n",
    "###########\n",
    "\n",
    "\n",
    "\n",
    "\n",
    "MINX = -0.5*(md.aspectRatio)\n",
    "MAXX = 0.5*(md.aspectRatio)\n",
    "MINY = 0.\n",
    "MAXY = 1.\n",
    "\n",
    "    \n",
    "    \n",
    "dim = 2          # number of spatial dimensions\n",
    "\n",
    "\n",
    "#MESH STUFF\n",
    "\n",
    "Xres = int(md.RES*md.aspectRatio*2)\n",
    "\n",
    "\n",
    "if md.stickyAir:\n",
    "    Yres = int(md.RES)\n",
    "    MAXY = 1. + dp.StALS/dp.LS #150km\n",
    "    \n",
    "else:\n",
    "    Yres = int(md.RES)\n",
    "    MAXY = 1.\n",
    "\n",
    "\n",
    "periodic = [False, False]\n",
    "if md.periodicBcs:\n",
    "    periodic = [True, False]\n",
    "\n",
    "\n",
    "\n",
    "#System/Solver stuff\n",
    "\n",
    "PIC_integration=True\n",
    "ppc = 25\n",
    "\n",
    "#Output and safety stuff\n",
    "\n",
    "\n",
    "\n",
    "#Metric output stuff\n",
    "figures =  'gldb' #glucifer Store won't work on all machines, if not, set to 'gldb' \n",
    "swarm_repop, swarm_update = 1e6, 20\n",
    "gldbs_output = 5\n",
    "checkpoint_every, files_output = 100, 100\n",
    "metric_output = 10\n",
    "sticky_air_temp = 1e6"
   ]
  },
  {
   "cell_type": "markdown",
   "metadata": {},
   "source": [
    "Create mesh and finite element variables\n",
    "------"
   ]
  },
  {
   "cell_type": "code",
   "execution_count": 20,
   "metadata": {
    "collapsed": false
   },
   "outputs": [],
   "source": [
    "\n",
    "\n",
    "mesh = uw.mesh.FeMesh_Cartesian( elementType = (md.elementType),\n",
    "                                 elementRes  = (Xres, Yres), \n",
    "                                 minCoord    = (MINX, MINY), \n",
    "                                 maxCoord    = (MAXX, MAXY), periodic=periodic)\n",
    "\n",
    "velocityField       = uw.mesh.MeshVariable( mesh=mesh,         nodeDofCount=2 )\n",
    "pressureField       = uw.mesh.MeshVariable( mesh=mesh.subMesh, nodeDofCount=1 )\n",
    "temperatureField    = uw.mesh.MeshVariable( mesh=mesh,         nodeDofCount=1 )\n",
    "temperatureDotField = uw.mesh.MeshVariable( mesh=mesh,         nodeDofCount=1 )\n",
    "\n",
    "# Initialise values\n",
    "velocityField.data[:]       = [0.,0.]\n",
    "pressureField.data[:]       = 0.\n",
    "temperatureDotField.data[:] = 0."
   ]
  },
  {
   "cell_type": "code",
   "execution_count": 21,
   "metadata": {
    "collapsed": true
   },
   "outputs": [],
   "source": [
    "coordinate = fn.input()\n",
    "depthFn = MAXY - coordinate[1] #a function providing the depth\n",
    "\n",
    "\n",
    "xFn = coordinate[0]  #a function providing the x-coordinate\n",
    "yFn = coordinate[1]"
   ]
  },
  {
   "cell_type": "code",
   "execution_count": null,
   "metadata": {
    "collapsed": true
   },
   "outputs": [],
   "source": []
  },
  {
   "cell_type": "markdown",
   "metadata": {},
   "source": [
    "## Mesh refinement"
   ]
  },
  {
   "cell_type": "code",
   "execution_count": 22,
   "metadata": {
    "collapsed": false
   },
   "outputs": [],
   "source": [
    "mesh.reset()\n",
    "\n",
    "jWalls = mesh.specialSets[\"MinJ_VertexSet\"] + mesh.specialSets[\"MaxJ_VertexSet\"]\n",
    "yFn = coordinate[1]\n",
    "yField = uw.mesh.MeshVariable( mesh=mesh, nodeDofCount=1 )\n",
    "yField.data[:] = 0.\n",
    "yBC = uw.conditions.DirichletCondition( variable=yField, indexSetsPerDof=(jWalls,) )\n",
    "\n",
    "# set bottom wall temperature bc\n",
    "for index in mesh.specialSets[\"MinJ_VertexSet\"]:\n",
    "    yField.data[index] = mesh.minCoord[1]\n",
    "# set top wall temperature bc\n",
    "for index in mesh.specialSets[\"MaxJ_VertexSet\"]:\n",
    "    yField.data[index] = mesh.maxCoord[1]\n",
    "    \n",
    "    \n",
    "    \n",
    "s = 2.\n",
    "intensityFac = 5.\n",
    "intensityFn = MINY + (MAXY-MINY)*(((yFn - MINY)/(MAXY-MINY))**s)\n",
    "intensityFn *= intensityFac\n",
    "intensityFn += 1.\n",
    "\n",
    "\n",
    "yLaplaceEquation = uw.systems.SteadyStateHeat(temperatureField=yField, fn_diffusivity=intensityFn, conditions=[yBC,])\n",
    "\n",
    "# get the default heat equation solver\n",
    "yLaplaceSolver = uw.systems.Solver(yLaplaceEquation)\n",
    "# solve\n",
    "yLaplaceSolver.solve()\n",
    "\n",
    "\n",
    "#Get the array of Y positions - copy may be necessary, not sure. \n",
    "newYpos = yField.data.copy() \n",
    "\n",
    "uw.barrier()\n",
    "with mesh.deform_mesh():\n",
    "     mesh.data[:,1] = newYpos[:,0]\n"
   ]
  },
  {
   "cell_type": "code",
   "execution_count": null,
   "metadata": {
    "collapsed": false
   },
   "outputs": [],
   "source": []
  },
  {
   "cell_type": "code",
   "execution_count": 23,
   "metadata": {
    "collapsed": false
   },
   "outputs": [],
   "source": [
    "fig= glucifer.Figure()\n",
    "#fig.append( glucifer.objects.Surface(mesh, yField))\n",
    "fig.append(glucifer.objects.Mesh(mesh))\n",
    "#fig.append( glucifer.objects.Points(swarm, temperatureField))\n",
    "#fig.show()\n",
    "#fig.save_database('test.gldb')"
   ]
  },
  {
   "cell_type": "markdown",
   "metadata": {},
   "source": [
    "Initial conditions\n",
    "-------\n"
   ]
  },
  {
   "cell_type": "code",
   "execution_count": 24,
   "metadata": {
    "collapsed": false
   },
   "outputs": [],
   "source": [
    "#Sinusoidal initial condition\n",
    "A = 0.2\n",
    "sinFn = depthFn + A*(fn.math.cos( math.pi * coordinate[0])  * fn.math.sin( math.pi * coordinate[1] ))        \n",
    "    \n",
    "#Boundary layer/slab initial condition\n",
    "#w0 = 0.1\n",
    "\n",
    "\n",
    "delX = -1.*fn.math.abs((coordinate[0]/MINX))   + 1.\n",
    "w = ndp.w0*fn.math.sqrt(delX + 1e-10)\n",
    "tempBL = (ndp.TIP - ndp.TSP) *fn.math.erf((depthFn)/w) + ndp.TSP\n",
    "#\n",
    "                   \n",
    "tempSlab = (ndp.TIP - ndp.TSP) *fn.math.erf((fn.math.abs(xFn)*2.)/ndp.w0) + ndp.TSP       \n",
    "\n",
    "tempFn1 =  fn.misc.min(tempBL, tempSlab)\n",
    "                   \n",
    "blFn = fn.branching.conditional([(coordinate[1] > 0.25, tempFn1), \n",
    "                                    (True, 1.)])\n",
    "\n",
    "\n",
    "tempFn = blFn #partition the temp between these two fuctions\n",
    "#tempFn = sinFn #partition the temp between these two fuctions"
   ]
  },
  {
   "cell_type": "code",
   "execution_count": 25,
   "metadata": {
    "collapsed": false
   },
   "outputs": [],
   "source": [
    "if not checkpointLoad:\n",
    "    temperatureField.data[:] = tempFn.evaluate(mesh)  "
   ]
  },
  {
   "cell_type": "code",
   "execution_count": 26,
   "metadata": {
    "collapsed": false
   },
   "outputs": [],
   "source": [
    "np.random.seed(20)#set seed for reproducibility\n",
    "temperatureField.data[:,0] += (np.random.rand(mesh.data.shape[0]) -  0.5)*1e-2"
   ]
  },
  {
   "cell_type": "code",
   "execution_count": 27,
   "metadata": {
    "collapsed": true
   },
   "outputs": [],
   "source": [
    "#Make sure material in stick air region is at the surface temperature.\n",
    "for index, coord in enumerate(mesh.data):\n",
    "            if coord[1] >= 1.:\n",
    "                temperatureField.data[index] = ndp.TSP"
   ]
  },
  {
   "cell_type": "code",
   "execution_count": 52,
   "metadata": {
    "collapsed": false
   },
   "outputs": [
    {
     "data": {
      "text/plain": [
       "((1024, 128), 'Q2')"
      ]
     },
     "execution_count": 52,
     "metadata": {},
     "output_type": "execute_result"
    }
   ],
   "source": [
    "mesh.elementRes, mesh.elementType"
   ]
  },
  {
   "cell_type": "code",
   "execution_count": 55,
   "metadata": {
    "collapsed": false
   },
   "outputs": [],
   "source": [
    "#instead of checkpoint loading, do this\n",
    "\n",
    "\n",
    "if (md.loadTemp ==True) and (md.RES==128):\n",
    "    temperatureField.load(os.path.join(\"temperature128.h5\"))\n"
   ]
  },
  {
   "cell_type": "markdown",
   "metadata": {
    "collapsed": true
   },
   "source": [
    "#This whole bit can read in and resave a field at a different resolution\n",
    "\n",
    "###Hardcode the subduction zone location, for some reason this isn't going in the dict\n",
    "ndp.subzone=0.375\n",
    "       \n",
    "loadXres = int(md.loadRES*md.aspectRatio*2)\n",
    "\n",
    "loadYres = int(md.loadRES)\n",
    "    \n",
    "\n",
    "    \n",
    "meshSaved = uw.mesh.FeMesh_Cartesian(  elementType = (md.elementType),\n",
    "                                 elementRes  = (loadXres, loadYres), \n",
    "                                 minCoord    = (MINX, MINY), \n",
    "                                 maxCoord    = (MAXX, MAXY), periodic=[False,False], partitioned=True)\n",
    "    \n",
    "    \n",
    "    \n",
    "temperatureFieldSaved    = uw.mesh.MeshVariable( mesh=meshSaved,         nodeDofCount=1 )\n",
    "#temperatureDotFieldSaved = uw.mesh.MeshVariable( mesh=meshSaved,         nodeDofCount=1 )\n",
    "#pressureFieldSaved       = uw.mesh.MeshVariable( mesh=meshSaved.subMesh, nodeDofCount=1 )\n",
    "#velocityFieldSaved       = uw.mesh.MeshVariable( mesh=meshSaved,         nodeDofCount=2 )\n",
    "\n",
    "\n",
    "savedjWalls = meshSaved.specialSets[\"MinJ_VertexSet\"] + meshSaved.specialSets[\"MaxJ_VertexSet\"]\n",
    "yFn = coordinate[1]\n",
    "yField = uw.mesh.MeshVariable( mesh=meshSaved, nodeDofCount=1 )\n",
    "yField.data[:] = 0.\n",
    "yBC = uw.conditions.DirichletCondition( variable=yField, indexSetsPerDof=(savedjWalls,) )\n",
    "\n",
    "# set bottom wall temperature bc\n",
    "for index in meshSaved.specialSets[\"MinJ_VertexSet\"]:\n",
    "    yField.data[index] = meshSaved.minCoord[1]\n",
    "# set top wall temperature bc\n",
    "for index in meshSaved.specialSets[\"MaxJ_VertexSet\"]:\n",
    "    yField.data[index] = meshSaved.maxCoord[1]\n",
    "\n",
    "\n",
    "\n",
    "s = 2.\n",
    "intensityFac = 5.\n",
    "intensityFn = MINY + (MAXY-MINY)*(((yFn - MINY)/(MAXY-MINY))**s)\n",
    "intensityFn *= intensityFac\n",
    "intensityFn += 1.\n",
    "\n",
    "\n",
    "yLaplaceEquation = uw.systems.SteadyStateHeat(temperatureField=yField, fn_diffusivity=intensityFn, conditions=[yBC,])\n",
    "\n",
    "# get the default heat equation solver\n",
    "yLaplaceSolver = uw.systems.Solver(yLaplaceEquation)\n",
    "# solve\n",
    "yLaplaceSolver.solve()\n",
    "\n",
    "\n",
    "#Get the array of Y positions - copy may be necessary, not sure. \n",
    "newYpos = yField.data.copy() \n",
    "\n",
    "uw.barrier()\n",
    "with meshSaved.deform_mesh():\n",
    "     meshSaved.data[:,1] = newYpos[:,0]\n",
    "        \n",
    "uw.barrier()\n",
    "\n",
    "\n",
    "checkpointLoadDir = 'results/Z/6/checkpoint/8680'   \n",
    "    \n",
    "#checkpointLoadDir = natsort.natsort(checkdirs)[-1]\n",
    "temperatureFieldSaved.load(os.path.join(checkpointLoadDir, \"temperatureField\" + \".hdf5\"))\n",
    "\n",
    "uw.barrier()\n",
    "\n",
    "\n",
    "temperatureField.data[:] = temperatureFieldSaved.evaluate(mesh)"
   ]
  },
  {
   "cell_type": "markdown",
   "metadata": {},
   "source": [
    "**Boundary conditions**"
   ]
  },
  {
   "cell_type": "code",
   "execution_count": 29,
   "metadata": {
    "collapsed": false
   },
   "outputs": [],
   "source": [
    "for index in mesh.specialSets[\"MinJ_VertexSet\"]:\n",
    "    temperatureField.data[index] = ndp.TIP\n",
    "for index in mesh.specialSets[\"MaxJ_VertexSet\"]:\n",
    "    temperatureField.data[index] = ndp.TSP\n",
    "    \n",
    "iWalls = mesh.specialSets[\"MinI_VertexSet\"] + mesh.specialSets[\"MaxI_VertexSet\"]\n",
    "jWalls = mesh.specialSets[\"MinJ_VertexSet\"] + mesh.specialSets[\"MaxJ_VertexSet\"]\n",
    "tWalls = mesh.specialSets[\"MaxJ_VertexSet\"]\n",
    "bWalls =mesh.specialSets[\"MinJ_VertexSet\"]\n",
    "\n",
    "\n",
    "freeslipBC = uw.conditions.DirichletCondition( variable      = velocityField, \n",
    "                                               indexSetsPerDof = ( iWalls, jWalls) )\n",
    "\n",
    "\n",
    "#if md.periodicBcs:\n",
    "#    freeslipBC = uw.conditions.DirichletCondition( variable      = velocityField, \n",
    "#                                                indexSetsPerDof = ( None, jWalls) )\n",
    "    \n",
    "#Try this one again   \n",
    "#If periodic, we'll fix a the x-vel at a single node - at the bottom left (index 0)\n",
    "Fixed = mesh.specialSets[\"Empty\"]\n",
    "Fixed.add(int(0))    \n",
    "if md.periodicBcs:\n",
    "    freeslipBC = uw.conditions.DirichletCondition( variable      = velocityField, \n",
    "                                               indexSetsPerDof = ( Fixed, jWalls) )\n",
    "        \n",
    "\n",
    "# also set dirichlet for temp field\n",
    "dirichTempBC = uw.conditions.DirichletCondition(     variable=temperatureField, \n",
    "                                              indexSetsPerDof=(tWalls,) )\n",
    "dT_dy = [0.,0.]\n",
    "\n",
    "# also set dirichlet for temp field\n",
    "neumannTempBC = uw.conditions.NeumannCondition( dT_dy, variable=temperatureField, \n",
    "                                         nodeIndexSet=bWalls)\n",
    "\n"
   ]
  },
  {
   "cell_type": "code",
   "execution_count": 30,
   "metadata": {
    "collapsed": false
   },
   "outputs": [],
   "source": [
    "###########\n",
    "#Material Swarm and variables\n",
    "###########\n",
    "\n",
    "#create material swarm\n",
    "swarm = uw.swarm.Swarm(mesh=mesh, particleEscape=True)\n",
    "\n",
    "\n",
    "\n",
    "\n",
    "\n"
   ]
  },
  {
   "cell_type": "code",
   "execution_count": 53,
   "metadata": {
    "collapsed": false
   },
   "outputs": [],
   "source": []
  },
  {
   "cell_type": "code",
   "execution_count": 48,
   "metadata": {
    "collapsed": false
   },
   "outputs": [],
   "source": []
  },
  {
   "cell_type": "code",
   "execution_count": 54,
   "metadata": {
    "collapsed": false
   },
   "outputs": [
    {
     "data": {
      "text/plain": [
       "<underworld.utils._utils.SavedFileData at 0x7f3b1784ac10>"
      ]
     },
     "execution_count": 54,
     "metadata": {},
     "output_type": "execute_result"
    }
   ],
   "source": [
    "#temperatureField.save('temperature128.h5')"
   ]
  },
  {
   "cell_type": "markdown",
   "metadata": {},
   "source": [
    "Particles\n",
    "-----\n"
   ]
  },
  {
   "cell_type": "code",
   "execution_count": null,
   "metadata": {
    "collapsed": true
   },
   "outputs": [],
   "source": [
    "###########\n",
    "#Material Swarm and variables\n",
    "###########\n",
    "\n",
    "#create material swarm\n",
    "swarm = uw.swarm.Swarm(mesh=mesh, particleEscape=True)\n",
    "\n",
    "proximityVariable      = swarm.add_variable( dataType=\"int\", count=1 )\n",
    "signedDistanceVariable = swarm.add_variable( dataType=\"float\", count=1 )\n",
    "directorVector   = swarm.add_variable( dataType=\"double\", count=2)\n",
    "    \n",
    "\n",
    "\n",
    "\n",
    "#these lists  are part of the checkpointing implementation\n",
    "varlist = []\n",
    "varnames = []"
   ]
  },
  {
   "cell_type": "code",
   "execution_count": null,
   "metadata": {
    "collapsed": true
   },
   "outputs": [],
   "source": [
    "if checkpointLoad:\n",
    "    temperatureField.load(os.path.join(checkpointLoadDir, \"temperatureField\" + \".hdf5\"))\n",
    "    pressureField.load(os.path.join(checkpointLoadDir, \"pressureField\" + \".hdf5\"))\n",
    "    velocityField.load(os.path.join(checkpointLoadDir, \"velocityField\" + \".hdf5\"))\n",
    "    swarm.load(os.path.join(checkpointLoadDir, \"swarm\" + \".h5\"))\n",
    "    for ix in range(len(varlist)):\n",
    "        varb = varlist[ix]\n",
    "        varb.load(os.path.join(checkpointLoadDir,varnames[ix] + \".h5\"))\n",
    "\n",
    "else:\n",
    "\n",
    "    # Layouts are used to populate the swarm across the whole domain\n",
    "    layout = uw.swarm.layouts.PerCellRandomLayout(swarm=swarm, particlesPerCell=int(md.ppc))\n",
    "    swarm.populate_using_layout( layout=layout ) # Now use it to populate.\n",
    "    # Swarm variables\n",
    "    directorVector.data[:,:] = 0.0\n",
    "    proximityVariable.data[:] = 0\n",
    "    signedDistanceVariable.data[:] = 0.0\n",
    "\n",
    "    #Set initial air and crust materials (allow the graph to take care of lithsophere)\n",
    "    #########\n",
    "    #This initial material setup will be model dependent\n",
    "    #########\n",
    "    #for particleID in range(swarm.particleCoordinates.data.shape[0]):\n",
    "    #    if (1. - swarm.particleCoordinates.data[particleID][1]) < ndp.MANTLETOCRUST:\n",
    "    #             materialVariable.data[particleID] = crustIndex"
   ]
  },
  {
   "cell_type": "code",
   "execution_count": 56,
   "metadata": {
    "collapsed": false
   },
   "outputs": [
    {
     "data": {
      "text/html": [
       "<img src='data:image/png;base64,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'>"
      ],
      "text/plain": [
       "<IPython.core.display.HTML object>"
      ]
     },
     "metadata": {},
     "output_type": "display_data"
    }
   ],
   "source": [
    "fig= glucifer.Figure()\n",
    "fig.append( glucifer.objects.Surface(mesh, temperatureField))\n",
    "#fig.append( glucifer.objects.Points(swarmPlateBoundary, pointSize=3))\n",
    "#fig.show()\n",
    "#fig.save_database('test.gldb')\n"
   ]
  },
  {
   "cell_type": "markdown",
   "metadata": {},
   "source": [
    "Set up material parameters and functions\n",
    "-----\n",
    "\n",
    "Setup the viscosity to be a function of the temperature. Recall that these functions and values are preserved for the entire simulation time. "
   ]
  },
  {
   "cell_type": "code",
   "execution_count": null,
   "metadata": {
    "collapsed": false
   },
   "outputs": [],
   "source": [
    "# The yeilding of the upper slab is dependent on the strain rate.\n",
    "strainRate_2ndInvariant = fn.tensor.second_invariant( \n",
    "                            fn.tensor.symmetric( \n",
    "                            velocityField.fn_gradient ))\n",
    "\n",
    "\n",
    "\n"
   ]
  },
  {
   "cell_type": "code",
   "execution_count": null,
   "metadata": {
    "collapsed": false
   },
   "outputs": [],
   "source": [
    "############\n",
    "#Rheology\n",
    "#############\n",
    "#\n",
    "#The final mantle rheology is composed as follows*:\n",
    "\n",
    "\n",
    "omega = fn.misc.constant(1.)\n",
    "\n",
    "if md.melt_viscosity_reduction:\n",
    "    mvr =  fn.branching.conditional( [ (temperatureField > (ndp.Tmvp + 7.5*(1. - coordinate[1])) , 0.1 ),   (         True, 1.) ] )\n",
    "    omega = omega*mvr\n",
    "\n",
    "\n",
    "#implementation of the lower mantle viscosity increase, similar to Bello et al. 2015\n",
    "a = 1.\n",
    "B = 30.\n",
    "d0 = 660e3/dp.LS  \n",
    "ds = d0/10.\n",
    "if md.lower_mantle:\n",
    "    inner1 = 1. - 0.5*(1. - fn.math.tanh(((1. - d0)-(coordinate[1]))/(ds)))\n",
    "    modfac = a*fn.math.exp(np.log(B)*inner1)\n",
    "    omega = omega*modfac\n",
    "\n",
    "\n",
    "\n",
    "#linearVisc = fn.math.exp(thetaT*(1. - temperatureField) + thetaZ*(depthFn))\n",
    "\n",
    "enthalpyFn = ndp.E + depthFn*ndp.W #\"activation enthalpy\"\n",
    "linearVisc = fn.misc.min(ndp.eta_max, omega*fn.math.exp(((enthalpyFn)/(temperatureField + ndp.TS)) \n",
    "                                                        - ((ndp.E )/(ndp.TIP + ndp.TS))))\n",
    "\n",
    "\n",
    "\n",
    "ys =  ndp.cohesion + ndp.fcd*depthFn #tau_1 * 1e-5 is the cohesion value used in the paper\n",
    "\n",
    "yielding = ys/(strainRate_2ndInvariant + 1e-15) #extra factor to account for underworld second invariant form\n",
    "\n",
    "\n",
    "mantleviscosityFn0 = fn.misc.max(fn.misc.min(1./(((1./linearVisc) + (1./yielding))), ndp.eta_max), ndp.eta_min)\n",
    "\n",
    "\n",
    "ridgeX = mesh.maxCoord[0] - (1./md.RES) #leave two elements to help decouple ridges.\n",
    "mantleviscosityFn = fn.branching.conditional([(operator.and_(fn.math.abs(xFn) > ridgeX, depthFn < (1./md.RES)), 1.), \n",
    "                                    (True, mantleviscosityFn0)])"
   ]
  },
  {
   "cell_type": "code",
   "execution_count": null,
   "metadata": {
    "collapsed": false
   },
   "outputs": [],
   "source": []
  },
  {
   "cell_type": "code",
   "execution_count": null,
   "metadata": {
    "collapsed": false
   },
   "outputs": [],
   "source": [
    "figVisc= glucifer.Figure(figsize=(300*np.round(md.aspectRatio,2),300))\n",
    "#figVisc.append( glucifer.objects.Points(swarm,linearVisc, pointSize=2,logScale=True, valueRange =[1e-3,1e5]))\n",
    "figVisc.append( glucifer.objects.Points(swarm,mantleviscosityFn, pointSize=2,logScale=True))\n",
    "\n",
    "#figVisc.append(glucifer.objects.VectorArrows(mesh, velocityField, scaling=0.0001))\n",
    "#figVisc.show()"
   ]
  },
  {
   "cell_type": "markdown",
   "metadata": {},
   "source": [
    "## Faults and fault rheology"
   ]
  },
  {
   "cell_type": "code",
   "execution_count": null,
   "metadata": {
    "collapsed": false
   },
   "outputs": [],
   "source": []
  },
  {
   "cell_type": "code",
   "execution_count": null,
   "metadata": {
    "collapsed": false
   },
   "outputs": [],
   "source": [
    "#####\n",
    "#Faults \n",
    "#####\n",
    "from marker2D import markerLine2D\n",
    "#from unsupported.interfaces import markerLine2D\n",
    "\n",
    "\n",
    "uw.barrier()\n",
    "\n",
    "def update_swarm_from_faults(faults, proximityVariable, normalVectorVariable, signedDistanceVariable):\n",
    "    \"\"\"\n",
    "    Compute fault attributes from the marker-line objects in the 'faults' list.\n",
    "    Specifically:\n",
    "\n",
    "      - proximityVariable carries information about which fault each swarm particle is close to (0 means none)\n",
    "      - normalVectorVariable maps the orientation of the fault to nearby swarm particles\n",
    "      - signedDistanceVariable carries the distance (positive means 'inside')  \n",
    "\n",
    "      Unchecked error: if these variables are from different swarms \n",
    "\n",
    "    \"\"\"\n",
    "\n",
    "    for fault_seg in faults:\n",
    "\n",
    "        swarm = proximityVariable.swarm\n",
    "\n",
    "        f, nz = fault_seg.compute_marker_proximity(swarm.particleCoordinates.data)    \n",
    "        proximityVariable.data[nz] = f[nz]\n",
    "\n",
    "        dv, nzv = fault_seg.compute_normals(swarm.particleCoordinates.data)\n",
    "        normalVectorVariable.data[nzv] = dv[nzv]\n",
    "\n",
    "        sd, dnz = fault_seg.compute_signed_distance(swarm.particleCoordinates.data)\n",
    "        signedDistanceVariable.data[dnz] = sd[dnz]\n",
    "\n",
    "    return\n",
    "\n",
    "\n",
    "def mask_materials(material, materialVariable, proximityVariable, normalVectorVariable, signedDistanceVariable):\n",
    "\n",
    "    fptsMaskOut = np.where(materialVariable.data[:,0] != material)[0]\n",
    "\n",
    "    normalVectorVariable.data[fptsMaskOut,:] = [0.0,0.0]\n",
    "    proximityVariable.data[fptsMaskOut] = 0\n",
    "    signedDistanceVariable.data[fptsMaskOut] = 0.0\n",
    "\n",
    "\n",
    "def fault_strainrate_fns(fault_list, velocityField, faultNormalVariable, proximityproVariable):\n",
    "\n",
    "    ## This is a quick / short cut way to find the resolved stress components.\n",
    "\n",
    "    strainRateFn = fn.tensor.symmetric( velocityField.fn_gradient )\n",
    "\n",
    "\n",
    "\n",
    "    ## \"OPTIMIZED\" VERSION\n",
    "\n",
    "    _edotn_SFn = (        directorVector[0]**2 * strainRateFn[0]  + \n",
    "                    2.0 * directorVector[1]    * strainRateFn[2] * directorVector[0] + \n",
    "                          directorVector[1]**2 * strainRateFn[1]                          \n",
    "                ) \n",
    "\n",
    "    # any non-zero proximity requires the computation of the above\n",
    "\n",
    "    _edotn_SFn_Map    = { 0: 0.0 }\n",
    "    for f in fault_list:\n",
    "        _edotn_SFn_Map[f.ID] =  _edotn_SFn\n",
    "\n",
    "\n",
    "    _edots_SFn = (  directorVector[0] *  directorVector[1] *(strainRateFn[1] - strainRateFn[0]) +\n",
    "                    strainRateFn[2] * (directorVector[0]**2 - directorVector[1]**2)\n",
    "                 )\n",
    "\n",
    "\n",
    "    _edots_SFn_Map = { 0: 1.0e-15 }\n",
    "\n",
    "    for f in fault_list:\n",
    "        _edots_SFn_Map[f.ID] =  _edots_SFn\n",
    "\n",
    "\n",
    "    edotn_SFn =     fn.branching.map( fn_key = proximityVariable, \n",
    "                                      mapping = _edotn_SFn_Map)\n",
    "\n",
    "\n",
    "    edots_SFn =     fn.branching.map( fn_key = proximityVariable, \n",
    "                                      mapping = _edots_SFn_Map )\n",
    "\n",
    "\n",
    "    return edotn_SFn, edots_SFn\n",
    "\n",
    "\n",
    "\n",
    "\n",
    "\n"
   ]
  },
  {
   "cell_type": "code",
   "execution_count": null,
   "metadata": {
    "collapsed": false
   },
   "outputs": [],
   "source": [
    "\n",
    "fthickness = (1./md.RES)\n",
    "\n",
    "forientation = np.radians(ndp.orientation)\n",
    "flength    = ndp.faultDepth/np.tan(forientation)\n",
    "fstart = ndp.subzone - 2.*ndp.w0\n",
    "faultLine1 = (fstart, 1.0)\n",
    "faultLine2 = (faultLine1[0] - flength * np.cos(forientation), faultLine1[1]-flength*np.sin(forientation) )\n",
    "\n",
    "faultLineXs = np.linspace(faultLine1[0], faultLine2[0], 50)\n",
    "faultLineYs = np.linspace(faultLine1[1], faultLine2[1], 50)\n",
    "\n",
    "faults = []\n",
    "\n",
    "# Build a fault object out of this\n",
    "\n",
    "fault_seg1  = markerLine2D(mesh, velocityField, faultLineXs, faultLineYs, fthickness, 0.0, 0.0, 1)\n",
    "faults.append(fault_seg1)"
   ]
  },
  {
   "cell_type": "code",
   "execution_count": null,
   "metadata": {
    "collapsed": false
   },
   "outputs": [],
   "source": [
    "## Call the Fault helper functions \n",
    "\n",
    "proximityVariable.data[:] = 0\n",
    "\n",
    "update_swarm_from_faults(faults, proximityVariable, directorVector, signedDistanceVariable)\n",
    "#mask_materials(materialV, materialVariable, proximityVariable, directorVector, signedDistanceVariable)\n",
    "\n",
    "# These should be general enough not to need updating when the faults move etc\n",
    "\n",
    "edotn_SFn, edots_SFn = fault_strainrate_fns(faults, velocityField, directorVector, proximityVariable)"
   ]
  },
  {
   "cell_type": "code",
   "execution_count": null,
   "metadata": {
    "collapsed": false
   },
   "outputs": [],
   "source": [
    "fig= glucifer.Figure()\n",
    "fig.append( glucifer.objects.Points(swarm, proximityVariable))\n",
    "#fig.append( glucifer.objects.VectorArrows(mesh, velocityField, scaling = 0.001))\n",
    "#fig.show()\n",
    "#fig.save_database('test.gldb')\n"
   ]
  },
  {
   "cell_type": "code",
   "execution_count": null,
   "metadata": {
    "collapsed": false
   },
   "outputs": [],
   "source": [
    "# This one maps to the fault-proximity variable \n",
    "\n",
    "# Delta Visc \n",
    "\n",
    "\n",
    "viscosityTI2_fn = fn.misc.min(mantleviscosityFn*0.999, fn.misc.max(0.0, mantleviscosityFn -  ndp.etaFault))\n",
    "\n",
    "viscosityTIMap    = { 0: 0.0, \n",
    "                     1: viscosityTI2_fn\n",
    "                   }\n",
    "\n",
    "viscosityISOMap    = { 0: mantleviscosityFn, \n",
    "                     1: ndp.etaFault\n",
    "                   }\n",
    "\n",
    "\n",
    "isoViscosityFn  = fn.branching.map( fn_key  = proximityVariable, \n",
    "                                       mapping = viscosityISOMap )\n",
    "\n",
    "secondViscosityFn  = fn.branching.map( fn_key  = proximityVariable, \n",
    "                                       mapping = viscosityTIMap )"
   ]
  },
  {
   "cell_type": "markdown",
   "metadata": {},
   "source": [
    "System setup\n",
    "-----\n",
    "\n",
    "Since we are using a previously constructed temperature field, we will use a single Stokes solve to get consistent velocity and pressure fields.\n",
    "\n",
    "**Setup a Stokes system**"
   ]
  },
  {
   "cell_type": "code",
   "execution_count": null,
   "metadata": {
    "collapsed": false
   },
   "outputs": [],
   "source": [
    "# Here we set a viscosity value of '1.' for both materials\n",
    "#viscosityMapFn = fn.branching.map( fn_key = materialVariable,\n",
    "#                         mapping = {lithosphereIndex:mantleviscosityFn, \n",
    "#                                    crustIndex:10.,\n",
    "#                                    mantleIndex:mantleviscosityFn, \n",
    "#                                    eclIndex:mantleviscosityFn,\n",
    "#                                    airIndex:ndp.Steta0} )\n",
    "\n",
    "#densityMapFn = fn.branching.map( fn_key = materialVariable,\n",
    "#                         mapping = {airIndex:ndp.StRA, \n",
    "#                                    lithosphereIndex:ndp.RA*temperatureField, \n",
    "#                                    crustIndex:ndp.RA*temperatureField, \n",
    "#                                    mantleIndex:ndp.RA*temperatureField} )"
   ]
  },
  {
   "cell_type": "code",
   "execution_count": null,
   "metadata": {
    "collapsed": false
   },
   "outputs": [],
   "source": [
    "# Construct our density function.\n",
    "densityFn = ndp.RA * temperatureField\n",
    "\n",
    "# Define our vertical unit vector using a python tuple (this will be automatically converted to a function).\n",
    "gravity = ( 0.0, 1.0 )\n",
    "\n",
    "# Now create a buoyancy force vector using the density and the vertical unit vector. \n",
    "buoyancyFn = densityFn * gravity"
   ]
  },
  {
   "cell_type": "code",
   "execution_count": null,
   "metadata": {
    "collapsed": false
   },
   "outputs": [],
   "source": [
    "#md.faultType = 'Iso'"
   ]
  },
  {
   "cell_type": "code",
   "execution_count": null,
   "metadata": {
    "collapsed": false
   },
   "outputs": [],
   "source": [
    "if md.faultType == 'Trans':\n",
    "    stokesPIC = uw.systems.Stokes(velocityField=velocityField, \n",
    "                              pressureField=pressureField,\n",
    "                              conditions=[freeslipBC,],\n",
    "                              fn_viscosity=mantleviscosityFn,\n",
    "                              _fn_viscosity2  = secondViscosityFn,\n",
    "                              _fn_director    = directorVector, \n",
    "                              fn_bodyforce=buoyancyFn )\n",
    "\n",
    "elif md.faultType == 'Iso':\n",
    "    stokesPIC = uw.systems.Stokes(velocityField=velocityField, \n",
    "                              pressureField=pressureField,\n",
    "                              conditions=[freeslipBC,],\n",
    "                              fn_viscosity=isoViscosityFn,\n",
    "                              fn_bodyforce=buoyancyFn )\n",
    "\n",
    "else:\n",
    "    stokesPIC = uw.systems.Stokes(velocityField=velocityField, \n",
    "                              pressureField=pressureField,\n",
    "                              conditions=[freeslipBC,],\n",
    "                              fn_viscosity=mantleviscosityFn, \n",
    "                              fn_bodyforce=buoyancyFn )\n",
    "    \n",
    "\n",
    "                              "
   ]
  },
  {
   "cell_type": "markdown",
   "metadata": {},
   "source": [
    "**Set up and solve the Stokes system**"
   ]
  },
  {
   "cell_type": "code",
   "execution_count": null,
   "metadata": {
    "collapsed": true
   },
   "outputs": [],
   "source": [
    "solver = uw.systems.Solver(stokesPIC)"
   ]
  },
  {
   "cell_type": "markdown",
   "metadata": {},
   "source": [
    "**Add the non-linear viscosity to the Stokes system**\n"
   ]
  },
  {
   "cell_type": "markdown",
   "metadata": {
    "collapsed": false
   },
   "source": [
    "solver.set_inner_method(\"mumps\")\n",
    "solver.options.scr.ksp_type=\"cg\"\n",
    "solver.set_penalty(1.0e6)\n",
    "solver.options.scr.ksp_rtol = 1.0e-3\n",
    "solver.solve(nonLinearIterate=True)\n",
    "solver.print_stats()"
   ]
  },
  {
   "cell_type": "code",
   "execution_count": null,
   "metadata": {
    "collapsed": true
   },
   "outputs": [],
   "source": [
    "solver.set_inner_method(\"mumps\")\n",
    "solver.options.scr.ksp_type=\"cg\"\n",
    "solver.set_penalty(1.0e7)\n",
    "solver.options.scr.ksp_rtol = 1.0e-4\n",
    "solver.solve(nonLinearIterate=True)\n",
    "solver.print_stats()"
   ]
  },
  {
   "cell_type": "markdown",
   "metadata": {},
   "source": [
    "solver.set_inner_method(\"mumps\")\n",
    "solver.set_penalty(1.0e6)\n",
    "solver.options.scr.ksp_rtol = 1.0e-6\n",
    "\n",
    "\n",
    "solver.solve( nonLinearIterate=True,  print_stats=False)\n",
    "#solver.solve( nonLinearIterate=True, nonLinearTolerance=0.00001, print_stats=False)"
   ]
  },
  {
   "cell_type": "markdown",
   "metadata": {},
   "source": [
    "#Set more advanced solver option\n",
    "solver.options.main.Q22_pc_type='gkgdiag'\n",
    "#solver.options.A11.ksp_rtol=1e-2\n",
    "#solver.options.scr.ksp_rtol=1e-3\n",
    "#solver.options.A11.ksp_type=\"cg\"\n",
    "solver.options.scr.use_previous_guess = True\n",
    "#solver.options.scr.ksp_set_min_it_converge = 1\n",
    "#solver.options.main.penalty=10.0\n",
    "\n",
    "#solver.options.mg.levels = 3\n",
    "#solver.options.main.remove_constant_pressure_null_space=True\n",
    "#solver.options.main.penalty = 1e2\n",
    "\n",
    "solver.options.A11.ksp_rtol=1e-4\n",
    "solver.options.scr.ksp_rtol=1e-4\n",
    "\n",
    "solver.options.A11.ksp_monitor=''\n",
    "solver.options.A11.ksp_converged_reason=''\n",
    "solver.solve( nonLinearIterate=True, nonLinearTolerance=0.00001, print_stats=False)"
   ]
  },
  {
   "cell_type": "markdown",
   "metadata": {},
   "source": [
    "solver.set_inner_method(\"mg\")\n",
    "solver.set_penalty(1.0)\n",
    "solver.solve( nonLinearIterate=True, nonLinearTolerance=0.00001, print_stats=False)\n",
    "solver.print_stats()"
   ]
  },
  {
   "cell_type": "markdown",
   "metadata": {},
   "source": [
    "**Create an advective diffusive system**"
   ]
  },
  {
   "cell_type": "code",
   "execution_count": null,
   "metadata": {
    "collapsed": true
   },
   "outputs": [],
   "source": [
    "advDiff = uw.systems.AdvectionDiffusion( phiField       = temperatureField, \n",
    "                                         phiDotField    = temperatureDotField, \n",
    "                                         velocityField  = velocityField,\n",
    "                                         fn_sourceTerm    = ndp.H,\n",
    "                                         fn_diffusivity = 1.0, \n",
    "                                         conditions     = [neumannTempBC, dirichTempBC] )\n",
    "\n",
    "passiveadvector = uw.systems.SwarmAdvector( swarm         = swarm, \n",
    "                                     velocityField = velocityField, \n",
    "                                     order         = 1)"
   ]
  },
  {
   "cell_type": "code",
   "execution_count": null,
   "metadata": {
    "collapsed": true
   },
   "outputs": [],
   "source": [
    "population_control = uw.swarm.PopulationControl(swarm,deleteThreshold=0.2, splitThreshold=1.,maxDeletions=3,maxSplits=0, aggressive=True, particlesPerCell=ppc)"
   ]
  },
  {
   "cell_type": "code",
   "execution_count": null,
   "metadata": {
    "collapsed": false
   },
   "outputs": [],
   "source": [
    "###################\n",
    "#Volume Restriction functions\n",
    "###################\n",
    "\n",
    "#Level 1. Global\n",
    "globRestFn = fn.misc.constant(1.)\n",
    "\n",
    "\n",
    "#Level 2. lithosphere - mantle:\n",
    "tempMM = fn.view.min_max(temperatureField)\n",
    "tempMM.evaluate(mesh)\n",
    "TMAX = tempMM.max_global()\n",
    "mantleconditions = [ (                                  temperatureField < 0.9*TMAX, 1.),\n",
    "                   (                                                   True , 0.) ]\n",
    "lithRestFn = fn.branching.conditional(mantleconditions)\n",
    "lithRestFn*=globRestFn #Add next level up in heirarchy\n"
   ]
  },
  {
   "cell_type": "code",
   "execution_count": null,
   "metadata": {
    "collapsed": true
   },
   "outputs": [],
   "source": [
    "###################\n",
    "#Surface Restriction functions\n",
    "###################\n",
    "\n",
    "def platenessFn(val = 0.1):\n",
    "    normgradV = fn.math.abs(velocityField.fn_gradient[0]/fn.math.sqrt(velocityField[0]*velocityField[0])) #[du*/dx]/sqrt(u*u)\n",
    "\n",
    "\n",
    "\n",
    "    srconditions = [ (                                  normgradV < val, 1.),\n",
    "                   (                                                   True , 0.) ]\n",
    "\n",
    "\n",
    "    return fn.branching.conditional(srconditions)\n",
    "\n",
    "srRestFn = platenessFn(val = 0.1)"
   ]
  },
  {
   "cell_type": "code",
   "execution_count": null,
   "metadata": {
    "collapsed": false
   },
   "outputs": [],
   "source": [
    "###################\n",
    "#Setup any Functions to be integrated\n",
    "###################\n",
    "\n",
    "sqrtv2 = fn.math.sqrt(fn.math.dot(velocityField,velocityField))\n",
    "vx = velocityField[0]\n",
    "v2x = fn.math.dot(velocityField[0],velocityField[0])\n",
    "sqrtv2x = fn.math.sqrt(fn.math.dot(velocityField[0],velocityField[0]))\n",
    "dw = temperatureField*velocityField[1]\n",
    "sinner = fn.math.dot( strainRate_2ndInvariant, strainRate_2ndInvariant )\n",
    "vd = 2.*mantleviscosityFn*sinner\n",
    "dTdZ = temperatureField.fn_gradient[1]\n"
   ]
  },
  {
   "cell_type": "code",
   "execution_count": null,
   "metadata": {
    "collapsed": true
   },
   "outputs": [],
   "source": [
    "###################\n",
    "#Create integral, max/min templates \n",
    "###################\n",
    "\n",
    "def volumeint(Fn = 1., rFn=globRestFn):\n",
    "    return uw.utils.Integral( Fn*rFn,  mesh )\n",
    "\n",
    "def surfint(Fn = 1., rFn=globRestFn, surfaceIndexSet=mesh.specialSets[\"MaxJ_VertexSet\"]):\n",
    "    return uw.utils.Integral( Fn*rFn, mesh=mesh, integrationType='Surface', surfaceIndexSet=surfaceIndexSet)\n",
    "\n",
    "def maxMin(Fn = 1.):\n",
    "    #maxMin(Fn = 1., rFn=globRestFn\n",
    "    #vuFn = fn.view.min_max(Fn*rFn) #the restriction functions don't work with the view.min_max fn yet\n",
    "    vuFn = fn.view.min_max(Fn)\n",
    "    return vuFn"
   ]
  },
  {
   "cell_type": "code",
   "execution_count": null,
   "metadata": {
    "collapsed": false
   },
   "outputs": [],
   "source": [
    "#Setup volume integrals on different sub regions\n",
    "\n",
    "##Whole rock domain\n",
    "\n",
    "_areaintRock = volumeint(globRestFn)\n",
    "_tempintRock = volumeint(temperatureField, globRestFn)\n",
    "_rmsintRock = volumeint(sqrtv2, globRestFn)\n",
    "_dwintRock = volumeint(dw, globRestFn)\n",
    "_vdintRock = volumeint(vd, globRestFn)\n",
    "\n",
    "##Lith \n",
    "\n",
    "_areaintLith  = volumeint(lithRestFn)\n",
    "_tempintLith  = volumeint(temperatureField, lithRestFn)\n",
    "_rmsintLith  = volumeint(sqrtv2,lithRestFn)\n",
    "_dwintLith  = volumeint(dw,lithRestFn)\n",
    "_vdintLith  = volumeint(vd,lithRestFn)"
   ]
  },
  {
   "cell_type": "code",
   "execution_count": null,
   "metadata": {
    "collapsed": false
   },
   "outputs": [],
   "source": [
    "#Setup surface integrals\n",
    "\n",
    "_surfLength = surfint()\n",
    "_rmsSurf = surfint(v2x)\n",
    "_nuTop = surfint(dTdZ)\n",
    "_nuBottom = surfint(dTdZ, surfaceIndexSet=mesh.specialSets[\"MinJ_VertexSet\"])\n",
    "_plateness = surfint(srRestFn)"
   ]
  },
  {
   "cell_type": "code",
   "execution_count": null,
   "metadata": {
    "collapsed": false
   },
   "outputs": [],
   "source": [
    "_maxMinVel = maxMin(velocityField) \n",
    "dummyFn = _maxMinVel.evaluate(mesh)\n",
    "\n",
    "_maxMinSr = maxMin(strainRate_2ndInvariant) \n",
    "dummyFn = _maxMinSr.evaluate(mesh)\n",
    "\n",
    "\n",
    "#Surface extrema\n",
    "_maxMinVxSurf = maxMin(vx)\n",
    "dummyFn = _maxMinVxSurf.evaluate(tWalls)"
   ]
  },
  {
   "cell_type": "code",
   "execution_count": null,
   "metadata": {
    "collapsed": false
   },
   "outputs": [],
   "source": [
    "#Volume Ints\n",
    "areaintRock = _areaintRock.evaluate()[0]\n",
    "tempintRock = _tempintRock.evaluate()[0]\n",
    "rmsintRock = _rmsintRock.evaluate()[0]\n",
    "dwintRock = _dwintRock.evaluate()[0]\n",
    "vdintRock = _vdintRock.evaluate()[0]\n",
    "areaintLith = _areaintLith.evaluate()[0]\n",
    "tempintLith = _tempintLith.evaluate()[0]\n",
    "rmsintLith = _rmsintLith.evaluate()[0]\n",
    "dwintLith = _dwintLith.evaluate()[0]\n",
    "vdintLith = _vdintLith.evaluate()[0]\n",
    "\n",
    "\n",
    "#Surface Ints\n",
    "surfLength = _surfLength.evaluate()[0]\n",
    "rmsSurf = _rmsSurf.evaluate()[0]\n",
    "nuTop = _nuTop.evaluate()[0]\n",
    "nuBottom = _nuBottom.evaluate()[0]\n",
    "plateness = _plateness.evaluate()[0]\n",
    "\n",
    "#Max mins\n",
    "maxVel = _maxMinVel.max_global()\n",
    "minVel = _maxMinVel.min_global() \n",
    "maxSr = _maxMinSr.max_global()\n",
    "minSr = _maxMinSr.min_global()\n",
    "maxVxsurf = _maxMinVxSurf.max_global()\n",
    "minVxsurf = _maxMinVxSurf.min_global()"
   ]
  },
  {
   "cell_type": "code",
   "execution_count": null,
   "metadata": {
    "collapsed": false
   },
   "outputs": [],
   "source": [
    "print(areaintRock)\n",
    "print(tempintRock)\n",
    "print(rmsintRock)\n",
    "print(dwintRock)\n",
    "print(vdintRock)\n",
    "print(areaintLith)\n",
    "print(tempintLith )\n",
    "print(rmsintLith)\n",
    "print(dwintLith)\n",
    "print(vdintLith)\n",
    "\n",
    "print(surfLength)\n",
    "print(rmsSurf)\n",
    "print(nuTop)\n",
    "print(nuBottom)\n",
    "print(plateness)\n",
    "\n",
    "\n",
    "print(maxVel)\n",
    "print(minVel)\n",
    "print(maxSr)\n",
    "print(minSr)\n",
    "print(maxVxsurf)\n",
    "print(minVxsurf)"
   ]
  },
  {
   "cell_type": "markdown",
   "metadata": {},
   "source": [
    "Viz.\n",
    "-----"
   ]
  },
  {
   "cell_type": "code",
   "execution_count": null,
   "metadata": {
    "collapsed": false
   },
   "outputs": [],
   "source": [
    "if figures == 'store':\n",
    "    fullpath = os.path.join(outputPath + \"gldbs/\")\n",
    "    store = glucifer.Store(fullpath + 'subduction.gldb')\n",
    "\n",
    "    figTemp = glucifer.Figure(store,figsize=(300*np.round(md.aspectRatio,2),300))\n",
    "    figTemp.append( glucifer.objects.Points(swarm,temperatureField))\n",
    "\n",
    "    figVisc= glucifer.Figure(store, figsize=(300*np.round(md.aspectRatio,2),300))\n",
    "    figVisc.append( glucifer.objects.Points(swarm,mantleviscosityFn, logScale=True, valueRange =[1e-3,1e5]))\n",
    "    \n",
    "    figSr= glucifer.Figure(store, figsize=(300*np.round(md.aspectRatio,2),300))\n",
    "    figSr.append( glucifer.objects.Points(swarm,strainRate_2ndInvariant, logScale=True))\n",
    "    figSr.append( glucifer.objects.VectorArrows(mesh,velocityField, scaling=0.0005))\n",
    "    \n",
    "if figures == 'gldb':\n",
    "    #Pack some stuff into a database as well\n",
    "    figDb = glucifer.Figure()\n",
    "    #figDb.append( glucifer.objects.Mesh(mesh))\n",
    "    figDb.append( glucifer.objects.VectorArrows(mesh,velocityField, scaling=0.0005))\n",
    "    #figDb.append( glucifer.objects.Points(swarm,tracerVariable, colours= 'white black'))\n",
    "    #figDb.append( glucifer.objects.Points(swarm,materialVariable))\n",
    "    #figDb.append( glucifer.objects.Points(swarm,viscMinVariable))\n",
    "    #figDb.append( glucifer.objects.Points(swarm,fnViscMin))\n",
    "    figDb.append( glucifer.objects.Points(swarm, mantleviscosityFn, logScale=True))\n",
    "    #figDb.append( glucifer.objects.Points(swarm, strainRate_2ndInvariant, logScale=True))\n",
    "    figDb.append( glucifer.objects.Points(swarm,temperatureField))"
   ]
  },
  {
   "cell_type": "markdown",
   "metadata": {
    "collapsed": false
   },
   "source": [
    "#### Miscellania\n"
   ]
  },
  {
   "cell_type": "code",
   "execution_count": null,
   "metadata": {
    "collapsed": false
   },
   "outputs": [],
   "source": [
    "##############\n",
    "#Create a numpy array at the surface to get surface information on (using parallel-friendly evaluate_global)\n",
    "##############\n",
    "\n",
    "surface_xs = np.linspace(mesh.minCoord[0], mesh.maxCoord[0], mesh.elementRes[0] + 1)\n",
    "surface_nodes = np.array(zip(surface_xs, np.ones(len(surface_xs)*mesh.maxCoord[1]))) #For evaluation surface velocity\n",
    "normgradV = velocityField.fn_gradient[0]/fn.math.sqrt(velocityField[0]*velocityField[0])\n",
    "\n",
    "tempMM = fn.view.min_max(temperatureField)\n",
    "dummy = tempMM.evaluate(mesh)"
   ]
  },
  {
   "cell_type": "code",
   "execution_count": null,
   "metadata": {
    "collapsed": true
   },
   "outputs": [],
   "source": [
    "##############\n",
    "#Simple function to return info about location of plate boundaries\n",
    "##############\n",
    "\n",
    "def getnearpos(array,value):\n",
    "    idx = (np.abs(array-value)).argmin()\n",
    "    return idx \n",
    "\n",
    "def plate_info(srfilename, minx, maxx,  searchdx, oldszloc = 0.0):\n",
    "    \"\"\"\n",
    "    Use the surface strain rate field to find the location of the subduction zone in 2d\n",
    "    \n",
    "    \"\"\"\n",
    "    if type(srfilename) == str: #read surface strain rate points from file\n",
    "        sr = np.load(srfilename)\n",
    "    else:\n",
    "        sr =  srfilename        #read surface strain rates directly from array\n",
    "    xs = np.linspace(minx,maxx,sr.shape[0] )\n",
    "    #infs at the ends of the SR data...replace with adjacent values\n",
    "    sr[0] = sr[1] \n",
    "    sr[-1] = sr[2]\n",
    "    #Normalize\n",
    "    srx = (sr- sr.mean()) /(sr.max() - sr.min())\n",
    "    #reduce the search domain, to near the previous PB location\n",
    "    lx, rx = getnearpos(xs, oldszloc - searchdx),  getnearpos(xs, oldszloc + searchdx)\n",
    "    red_xs, red_sr = xs[lx:rx], srx[lx:rx]\n",
    "    #return the minima\n",
    "    newszLoc = red_xs[np.argmin(red_sr)]\n",
    "    return newszLoc "
   ]
  },
  {
   "cell_type": "code",
   "execution_count": null,
   "metadata": {
    "collapsed": false
   },
   "outputs": [],
   "source": [
    "##############\n",
    "#These functions handle checkpointing\n",
    "##############\n",
    "\n",
    "\n",
    "#Subzone = ndp.subzone\n",
    "\n",
    "\n",
    "def checkpoint1(step, checkpointPath,filename, filewrites):\n",
    "    path = checkpointPath + str(step) \n",
    "    os.mkdir(path)\n",
    "    ##Write and save the file, if not already a writing step\n",
    "    if not step % filewrites == 0:\n",
    "        f_o.write((16*'%-15s ' + '\\n') % (areaintRock, tempintRock, rmsintRock, dwintRock, vdintRock,\n",
    "                                  areaintLith, tempintLith,rmsintLith, dwintLith, vdintLith,\n",
    "                                  rmsSurf, nuTop, nuBottom, plateness, ndp.subzone, realtime))\n",
    "    filename.close()\n",
    "    shutil.copyfile(os.path.join(outputPath, outputFile), os.path.join(path, outputFile))\n",
    "\n",
    "\n",
    "def checkpoint2(step, checkpointPath, swarm, filename, varlist = [], varnames = []):\n",
    "    path = checkpointPath + str(step) \n",
    "    velfile = \"velocityField\" + \".hdf5\"\n",
    "    tempfile = \"temperatureField\" + \".hdf5\"\n",
    "    pressfile = \"pressureField\" + \".hdf5\"\n",
    "    velocityField.save(os.path.join(path, velfile))\n",
    "    temperatureField.save(os.path.join(path, tempfile))\n",
    "    pressureField.save(os.path.join(path, pressfile))\n",
    "    swarm.save(os.path.join(path, \"swarm.h5\") ) \n",
    "    for ix in range(len(varlist)):\n",
    "        varb = varlist[ix]\n",
    "        varb.save(os.path.join(path,varnames[ix] + \".h5\"))\n",
    "    \n",
    "    #Save the parameters\n",
    "    dict_list = [dp, sf, ndp, md] #if any of the dictionaries have changed, this list needs to be rebuilt\n",
    "    save_pickles(dict_list, dict_names, path)\n",
    "    \n",
    "#Simple Checkpoint function for the faults / interfaces (markerLine2D)\n",
    "def checkpoint3(step,  checkpointPath, interfaces,interfacenames ):\n",
    "    path = checkpointPath + str(step)\n",
    "    for ix in range(len(interfaces)):\n",
    "        intf = interfaces[ix]\n",
    "        intf.swarm.save(os.path.join(path,interfacenames[ix] + \".h5\"))\n",
    "    "
   ]
  },
  {
   "cell_type": "code",
   "execution_count": null,
   "metadata": {
    "collapsed": false
   },
   "outputs": [],
   "source": [
    "tempMM.max_global(), temperatureField.data.max()"
   ]
  },
  {
   "cell_type": "markdown",
   "metadata": {},
   "source": [
    "Main simulation loop\n",
    "-----\n"
   ]
  },
  {
   "cell_type": "code",
   "execution_count": null,
   "metadata": {
    "collapsed": false
   },
   "outputs": [],
   "source": [
    "# initialise timer for computation\n",
    "start = time.clock()"
   ]
  },
  {
   "cell_type": "code",
   "execution_count": null,
   "metadata": {
    "collapsed": true
   },
   "outputs": [],
   "source": [
    "#while step < 21:\n",
    "while realtime < 1.:\n",
    "\n",
    "    # solve Stokes and advection systems\n",
    "    solver.solve(nonLinearIterate=True)\n",
    "    dt = advDiff.get_max_dt()*md.courantFac\n",
    "    if step == 0:\n",
    "        dt = 0.\n",
    "    advDiff.integrate(dt)\n",
    "    #passiveadvector.integrate(dt)\n",
    "    #for f in interfaces:\n",
    "    #    f.advection(dt)\n",
    "    \n",
    "\n",
    "    # Increment\n",
    "    realtime += dt\n",
    "    step += 1\n",
    "    timevals.append(realtime)\n",
    "    \n",
    "    ################\n",
    "    #Update temperature field in the air region\n",
    "    #Do this better...\n",
    "    ################\n",
    "    if (step % sticky_air_temp == 0):\n",
    "        for index, coord in enumerate(mesh.data):\n",
    "            if coord[1] >= 1.:\n",
    "                temperatureField.data[index] = ndp.TSP\n",
    "                \n",
    "                \n",
    "    ################\n",
    "    # Calculate the Metrics\n",
    "    ################\n",
    "    if (step % metric_output == 0):\n",
    "        \n",
    "        ###############\n",
    "        #Metrics\n",
    "        ###############\n",
    "        areaintRock = _areaintRock.evaluate()[0] #trivial except when using sticky air\n",
    "        tempintRock = _tempintRock.evaluate()[0]\n",
    "        rmsintRock = _rmsintRock.evaluate()[0]\n",
    "        dwintRock = _dwintRock.evaluate()[0]\n",
    "        vdintRock = _vdintRock.evaluate()[0]\n",
    "        areaintLith = _areaintLith.evaluate()[0]\n",
    "        tempintLith = _tempintLith.evaluate()[0]\n",
    "        rmsintLith = _rmsintLith.evaluate()[0]\n",
    "        dwintLith = _dwintLith.evaluate()[0]\n",
    "        vdintLith = _vdintLith.evaluate()[0]\n",
    "    \n",
    "        #Surface integrals\n",
    "        rmsSurf = _rmsSurf.evaluate()[0]\n",
    "        nuTop = _nuTop.evaluate()[0]\n",
    "        nuBottom = _nuBottom.evaluate()[0]\n",
    "        plateness = _plateness.evaluate()[0]\n",
    "        #extrema\n",
    "        maxVel = _maxMinVel.max_global()\n",
    "        minVel = _maxMinVel.min_global() \n",
    "        maxSr = _maxMinSr.max_global()\n",
    "        minSr = _maxMinSr.min_global()\n",
    "        maxVxsurf = _maxMinVxSurf.max_global()\n",
    "        minVxsurf = _maxMinVxSurf.min_global()\n",
    "        # output to summary text file\n",
    "        if uw.rank()==0:\n",
    "            f_o.write((16*'%-15s ' + '\\n') % (areaintRock, tempintRock, rmsintRock, dwintRock, vdintRock,\n",
    "                                  areaintLith, tempintLith,rmsintLith, dwintLith, vdintLith,\n",
    "                                  rmsSurf, nuTop, nuBottom, plateness, ndp.subzone, realtime))\n",
    "\n",
    "    ################\n",
    "    #Also repopulate entire swarm periodically\n",
    "    ################\n",
    "    #if step % swarm_repop == 0:\n",
    "    #population_control.repopulate()   \n",
    "    ################\n",
    "    #Gldb output\n",
    "    ################ \n",
    "    if (step % gldbs_output == 0): \n",
    "        if figures == 'gldb':\n",
    "            #Remember to rebuild any necessary swarm variables\n",
    "            fnamedb = \"dbFig\" + \"_\" + str(step) + \".gldb\"\n",
    "            fullpath = os.path.join(outputPath + \"gldbs/\" + fnamedb)\n",
    "            figDb.save_database(fullpath)\n",
    "            \n",
    "            #Temp figure\n",
    "            #fnamedb = \"restrictFig\" + \"_\" + str(step) + \".gldb\"\n",
    "            #fullpath = os.path.join(outputPath + \"gldbs/\" + fnamedb)\n",
    "            #figRestrict.save_database(fullpath)\n",
    "        elif figures == 'store':      \n",
    "            fullpath = os.path.join(outputPath + \"gldbs/\")\n",
    "            store.step = step\n",
    "            #Save figures to store\n",
    "            figVisc.save( fullpath + \"Visc\" + str(step).zfill(4))\n",
    "            #figMech.save( fullPath + \"Mech\" + str(step).zfill(4))\n",
    "            figTemp.save( fullpath + \"Temp\"    + str(step).zfill(4))\n",
    "            figSr.save( fullpath + \"Str_rte\"    + str(step).zfill(4))\n",
    "            \n",
    "    ################\n",
    "    #Files output\n",
    "    ################ \n",
    "    if (step % files_output == 0):\n",
    "\n",
    "        vel_surface = velocityField.evaluate_global(surface_nodes)\n",
    "        norm_surface_sr = normgradV.evaluate_global(surface_nodes)\n",
    "        if uw.rank() == 0:\n",
    "            fnametemp = \"velsurface\" + \"_\" + str(step)\n",
    "            fullpath = os.path.join(outputPath + \"files/\" + fnametemp)\n",
    "            np.save(fullpath, vel_surface)\n",
    "            fnametemp = \"norm_surface_sr\" + \"_\" + str(step)\n",
    "            fullpath = os.path.join(outputPath + \"files/\" + fnametemp)\n",
    "            np.save(fullpath, norm_surface_sr)\n",
    "            \n",
    "    ################\n",
    "    #Update the subduction zone / plate information\n",
    "    ################ \n",
    "    \n",
    "    comm.barrier()\n",
    "    if (step % files_output == 0):\n",
    "        \n",
    "        if uw.rank() == 0:\n",
    "            fnametemp = \"norm_surface_sr\" + \"_\" + str(step) + \".npy\"\n",
    "            fullpath = os.path.join(outputPath + \"files/\" + fnametemp)\n",
    "            ndp.subzone = plate_info(fullpath, MINX, MAXX,  800e3/dp.LS, oldszloc = ndp.subzone)\n",
    "            \n",
    "    \n",
    "    \n",
    "    \n",
    "    ################\n",
    "    #Checkpoint\n",
    "    ################\n",
    "    if step % checkpoint_every == 0:\n",
    "        if uw.rank() == 0:\n",
    "            checkpoint1(step, checkpointPath,f_o, metric_output)           \n",
    "        checkpoint2(step, checkpointPath, swarm, f_o, varlist = varlist, varnames = varnames)\n",
    "        #checkpoint3(step,  checkpointPath, interfaces,interfacenames )\n",
    "        f_o = open(os.path.join(outputPath, outputFile), 'a') #is this line supposed to be here?    \n",
    "    \n",
    "    \n",
    "    \n",
    "    \n",
    "f_o.close()\n",
    "print 'step =',step"
   ]
  },
  {
   "cell_type": "code",
   "execution_count": null,
   "metadata": {
    "collapsed": false
   },
   "outputs": [],
   "source": [
    "xvelMean = uw.utils.Integral(velocityField[0],  mesh )\n",
    "xvelMean.evaluate()"
   ]
  },
  {
   "cell_type": "code",
   "execution_count": null,
   "metadata": {
    "collapsed": false
   },
   "outputs": [],
   "source": [
    "velocityField[0].evaluate(iWalls).max()"
   ]
  },
  {
   "cell_type": "code",
   "execution_count": null,
   "metadata": {
    "collapsed": false
   },
   "outputs": [],
   "source": []
  },
  {
   "cell_type": "code",
   "execution_count": null,
   "metadata": {
    "collapsed": false
   },
   "outputs": [],
   "source": [
    "figVisc= glucifer.Figure(figsize=(300*np.round(md.aspectRatio,2),300))\n",
    "#figVisc.append( glucifer.objects.Points(swarm,linearVisc, pointSize=2,logScale=True, valueRange =[1e-3,1e5]))\n",
    "figVisc.append( glucifer.objects.Points(swarm,linearVisc, pointSize=2,logScale=True))\n",
    "\n",
    "figVisc.append(glucifer.objects.VectorArrows(mesh, velocityField, scaling=0.001))\n",
    "figVisc.show()"
   ]
  },
  {
   "cell_type": "code",
   "execution_count": null,
   "metadata": {
    "collapsed": false
   },
   "outputs": [],
   "source": [
    "velocityField[0].evaluate(iWalls)"
   ]
  },
  {
   "cell_type": "code",
   "execution_count": null,
   "metadata": {
    "collapsed": true
   },
   "outputs": [],
   "source": []
  }
 ],
 "metadata": {
  "kernelspec": {
   "display_name": "Python 2",
   "language": "python",
   "name": "python2"
  },
  "language_info": {
   "codemirror_mode": {
    "name": "ipython",
    "version": 2
   },
   "file_extension": ".py",
   "mimetype": "text/x-python",
   "name": "python",
   "nbconvert_exporter": "python",
   "pygments_lexer": "ipython2",
   "version": "2.7.9"
  },
  "widgets": {
   "state": {},
   "version": "1.1.2"
  }
 },
 "nbformat": 4,
 "nbformat_minor": 0
}
