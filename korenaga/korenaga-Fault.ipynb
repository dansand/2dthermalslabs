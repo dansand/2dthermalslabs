{
 "cells": [
  {
   "cell_type": "markdown",
   "metadata": {},
   "source": [
    "Korenaga 2011\n",
    "======\n",
    "\n",
    "Temperature dependent convection\n",
    "----\n",
    "\n",
    "This Notebooks implements the case of two-dimensional, incompressible, internally-heated fmantle convection.\n",
    "\n",
    "\n",
    "**Keywords:** Stokes system, advective diffusive systems, analysis tools, tools for post analysis, rheologies\n",
    "\n",
    "\n",
    "**References**\n",
    "\n",
    "Korenaga, Jun. \"Scaling of plate tectonic convection with pseudoplastic rheology.\" Journal of Geophysical Research: Solid Earth 115.B11 (2010).\n",
    "http://onlinelibrary.wiley.com/doi/10.1029/2010JB007670/full"
   ]
  },
  {
   "cell_type": "code",
   "execution_count": 1,
   "metadata": {
    "collapsed": false
   },
   "outputs": [],
   "source": [
    "import numpy as np\n",
    "import underworld as uw\n",
    "import math\n",
    "from underworld import function as fn\n",
    "import glucifer\n",
    "\n",
    "import os\n",
    "import sys\n",
    "import natsort\n",
    "import shutil\n",
    "from easydict import EasyDict as edict\n",
    "import operator\n",
    "import pint\n",
    "import time\n",
    "import operator\n",
    "from slippy2 import boundary_layer2d\n",
    "from slippy2 import material_graph\n",
    "from slippy2 import spmesh\n",
    "\n",
    "from mpi4py import MPI\n",
    "comm = MPI.COMM_WORLD\n",
    "rank = comm.Get_rank()"
   ]
  },
  {
   "cell_type": "markdown",
   "metadata": {},
   "source": [
    "Model name and directories\n",
    "-----"
   ]
  },
  {
   "cell_type": "code",
   "execution_count": 2,
   "metadata": {
    "collapsed": true
   },
   "outputs": [],
   "source": [
    "############\n",
    "#Model letter and number\n",
    "############\n",
    "\n",
    "\n",
    "#Model letter identifier default\n",
    "Model = \"T\"\n",
    "\n",
    "#Model number identifier default:\n",
    "ModNum = 0\n",
    "\n",
    "#Any isolated letter / integer command line args are interpreted as Model/ModelNum\n",
    "\n",
    "if len(sys.argv) == 1:\n",
    "    ModNum = ModNum \n",
    "elif sys.argv[1] == '-f': #\n",
    "    ModNum = ModNum \n",
    "else:\n",
    "    for farg in sys.argv[1:]:\n",
    "        if not '=' in farg: #then Assume it's a not a paramter argument\n",
    "            try:\n",
    "                ModNum = int(farg) #try to convert everingthing to a float, else remains string\n",
    "            except ValueError:\n",
    "                Model  = farg"
   ]
  },
  {
   "cell_type": "code",
   "execution_count": 3,
   "metadata": {
    "collapsed": false
   },
   "outputs": [],
   "source": [
    "###########\n",
    "#Standard output directory setup\n",
    "###########\n",
    "\n",
    "outputPath = \"results\" + \"/\" +  str(Model) + \"/\" + str(ModNum) + \"/\" \n",
    "imagePath = outputPath + 'images/'\n",
    "filePath = outputPath + 'files/'\n",
    "checkpointPath = outputPath + 'checkpoint/'\n",
    "dbPath = outputPath + 'gldbs/'\n",
    "outputFile = 'results_model' + Model + '_' + str(ModNum) + '.dat'\n",
    "\n",
    "if uw.rank()==0:\n",
    "    # make directories if they don't exist\n",
    "    if not os.path.isdir(outputPath):\n",
    "        os.makedirs(outputPath)\n",
    "    if not os.path.isdir(checkpointPath):\n",
    "        os.makedirs(checkpointPath)\n",
    "    if not os.path.isdir(imagePath):\n",
    "        os.makedirs(imagePath)\n",
    "    if not os.path.isdir(dbPath):\n",
    "        os.makedirs(dbPath)\n",
    "    if not os.path.isdir(filePath):\n",
    "        os.makedirs(filePath)\n",
    "\n",
    "        \n",
    "comm.Barrier() #Barrier here so no procs run the check in the next cell too early"
   ]
  },
  {
   "cell_type": "code",
   "execution_count": 4,
   "metadata": {
    "collapsed": false
   },
   "outputs": [
    {
     "name": "stdout",
     "output_type": "stream",
     "text": [
      "results/T/0/checkpoint/ is empty\n"
     ]
    }
   ],
   "source": [
    "###########\n",
    "#Check if starting from checkpoint\n",
    "###########\n",
    "\n",
    "checkdirs = []\n",
    "for dirpath, dirnames, files in os.walk(checkpointPath):\n",
    "    if files:\n",
    "        print dirpath, 'has files'\n",
    "        checkpointLoad = True\n",
    "        checkdirs.append(dirpath)\n",
    "    if not files:\n",
    "        print dirpath, 'is empty'\n",
    "        checkpointLoad = False"
   ]
  },
  {
   "cell_type": "code",
   "execution_count": 5,
   "metadata": {
    "collapsed": true
   },
   "outputs": [],
   "source": [
    "# setup summary output file (name above)\n",
    "if checkpointLoad:\n",
    "    checkpointLoadDir = natsort.natsort(checkdirs)[-1]\n",
    "    if uw.rank() == 0:\n",
    "        shutil.copyfile(os.path.join(checkpointLoadDir, outputFile), outputPath+outputFile)\n",
    "    comm.Barrier()\n",
    "    f_o = open(os.path.join(outputPath, outputFile), 'a')\n",
    "    prevdata = np.genfromtxt(os.path.join(outputPath, outputFile), skip_header=0, skip_footer=0)\n",
    "    if len(prevdata.shape) == 1: #this is in case there is only one line in previous file\n",
    "        realtime = prevdata[-1]  #This corresponds to the column you write time data to\n",
    "    else:\n",
    "        realtime = prevdata[prevdata.shape[0]-1, -1]\n",
    "    step = int(checkpointLoadDir.split('/')[-1])\n",
    "    timevals = [0.]\n",
    "else:\n",
    "    f_o = open(outputPath+outputFile, 'w')\n",
    "    realtime = 0.\n",
    "    step = 0\n",
    "    timevals = [0.]"
   ]
  },
  {
   "cell_type": "markdown",
   "metadata": {},
   "source": [
    "Setup parameters\n",
    "-----\n",
    "\n",
    "Set simulation parameters for test."
   ]
  },
  {
   "cell_type": "markdown",
   "metadata": {},
   "source": [
    "**Use pint to setup any unit conversions we'll need**"
   ]
  },
  {
   "cell_type": "code",
   "execution_count": 6,
   "metadata": {
    "collapsed": false
   },
   "outputs": [
    {
     "name": "stderr",
     "output_type": "stream",
     "text": [
      "/usr/local/lib/python2.7/dist-packages/IPython/core/formatters.py:92: DeprecationWarning: DisplayFormatter._ipython_display_formatter_default is deprecated: use @default decorator instead.\n",
      "  def _ipython_display_formatter_default(self):\n",
      "/usr/local/lib/python2.7/dist-packages/IPython/core/formatters.py:98: DeprecationWarning: DisplayFormatter._formatters_default is deprecated: use @default decorator instead.\n",
      "  def _formatters_default(self):\n",
      "/usr/local/lib/python2.7/dist-packages/IPython/core/formatters.py:677: DeprecationWarning: PlainTextFormatter._deferred_printers_default is deprecated: use @default decorator instead.\n",
      "  def _deferred_printers_default(self):\n",
      "/usr/local/lib/python2.7/dist-packages/IPython/core/formatters.py:669: DeprecationWarning: PlainTextFormatter._singleton_printers_default is deprecated: use @default decorator instead.\n",
      "  def _singleton_printers_default(self):\n",
      "/usr/local/lib/python2.7/dist-packages/IPython/core/formatters.py:672: DeprecationWarning: PlainTextFormatter._type_printers_default is deprecated: use @default decorator instead.\n",
      "  def _type_printers_default(self):\n",
      "/usr/local/lib/python2.7/dist-packages/IPython/core/formatters.py:669: DeprecationWarning: PlainTextFormatter._singleton_printers_default is deprecated: use @default decorator instead.\n",
      "  def _singleton_printers_default(self):\n",
      "/usr/local/lib/python2.7/dist-packages/IPython/core/formatters.py:672: DeprecationWarning: PlainTextFormatter._type_printers_default is deprecated: use @default decorator instead.\n",
      "  def _type_printers_default(self):\n",
      "/usr/local/lib/python2.7/dist-packages/IPython/core/formatters.py:677: DeprecationWarning: PlainTextFormatter._deferred_printers_default is deprecated: use @default decorator instead.\n",
      "  def _deferred_printers_default(self):\n"
     ]
    },
    {
     "data": {
      "text/html": [
       "10000.0 meter/megayear"
      ],
      "text/latex": [
       "$10000.0 \\frac{meter}{megayear}$"
      ],
      "text/plain": [
       "<Quantity(10000.0, 'meter / megayear')>"
      ]
     },
     "execution_count": 6,
     "metadata": {},
     "output_type": "execute_result"
    }
   ],
   "source": [
    "u = pint.UnitRegistry()\n",
    "cmpery = 1.*u.cm/u.year\n",
    "mpermy = 1.*u.m/u.megayear\n",
    "year = 1.*u.year\n",
    "spery = year.to(u.sec)\n",
    "cmpery.to(mpermy)"
   ]
  },
  {
   "cell_type": "code",
   "execution_count": 7,
   "metadata": {
    "collapsed": false
   },
   "outputs": [],
   "source": [
    "#box_half_width =4000e3\n",
    "#age_at_trench = 100e6\n",
    "#cmperyear = box_half_width / age_at_trench #m/y\n",
    "#mpersec = cmperyear*(cmpery.to(u.m/u.second)).magnitude #m/sec\n",
    "#print(cmperyear, mpersec )"
   ]
  },
  {
   "cell_type": "markdown",
   "metadata": {},
   "source": [
    "**Set parameter dictionaries**"
   ]
  },
  {
   "cell_type": "code",
   "execution_count": 8,
   "metadata": {
    "collapsed": true
   },
   "outputs": [],
   "source": [
    "###########\n",
    "#Parameter / settings dictionaries get saved&loaded using pickle\n",
    "###########\n",
    " \n",
    "dp = edict({}) #dimensional parameters\n",
    "sf = edict({}) #scaling factors\n",
    "ndp = edict({}) #dimensionless paramters\n",
    "md = edict({}) #model paramters, flags etc\n",
    "#od = edict({}) #output frequencies\n"
   ]
  },
  {
   "cell_type": "code",
   "execution_count": 9,
   "metadata": {
    "collapsed": true
   },
   "outputs": [],
   "source": [
    "dict_list = [dp, sf, ndp, md]\n",
    "dict_names = ['dp.pkl', 'sf.pkl', 'ndp.pkl', 'md.pkl']\n",
    "\n",
    "def save_pickles(dict_list, dict_names, dictPath):\n",
    "    import pickle\n",
    "    counter = 0\n",
    "    for pdict in dict_list:\n",
    "        myfile = os.path.join(dictPath, dict_names[counter])\n",
    "        with open(myfile, 'wb') as f:\n",
    "            pickle.dump(pdict, f)\n",
    "        counter+=1\n",
    "\n",
    "\n",
    "#ended up having to pretty much write a hard-coded function\n",
    "#All dictionaries we want checkpointed will have to  be added here \n",
    "#and where the function is called\n",
    "#Fortunately, this function is only called ONCE\n",
    "\n",
    "def load_pickles():\n",
    "    import pickle\n",
    "    dirpath = os.path.join(checkpointPath, str(step))\n",
    "    dpfile = open(os.path.join(dirpath, 'dp.pkl'), 'r')\n",
    "    dp = pickle.load(dpfile)\n",
    "#    #\n",
    "    ndpfile = open(os.path.join(dirpath, 'ndp.pkl'), 'r')\n",
    "    ndp = edict(pickle.load(ndpfile))\n",
    "    #\n",
    "    sffile = open(os.path.join(dirpath, 'sf.pkl'), 'r')\n",
    "    sf = edict(pickle.load(sffile))\n",
    "    #\n",
    "    mdfile = open(os.path.join(dirpath, 'md.pkl'), 'r')\n",
    "    md = edict(pickle.load(mdfile))\n",
    "    return dp, ndp, sf, md"
   ]
  },
  {
   "cell_type": "code",
   "execution_count": 10,
   "metadata": {
    "collapsed": false
   },
   "outputs": [],
   "source": [
    "#dimensional parameter dictionary\n",
    "dp = edict({'LS':2900.*1e3,\n",
    "           'rho':3300,\n",
    "           'g':9.8, \n",
    "           #'eta0':5e20,\n",
    "           #'eta0':1e21,    #This will give Ra ~ 2e7, closer to models by Van Hunen, Billen etc.\n",
    "           'eta0': 2.05e22, #This will give Ra = 1e6 as quoted on Korenaga's paper\n",
    "           'k':1e-6,\n",
    "           'a':2e-5, \n",
    "           'deltaT':1300, \n",
    "           'TS':273.,\n",
    "           'cohesion':1e6, #Not sure where this one came from...\n",
    "           'fc':0.0156,\n",
    "            #'fc':0.03,\n",
    "           'E':320000.,\n",
    "           'V':1.*(10**-6), #this is a value from Crameri and Tackley (2015)\n",
    "           'R':8.314,\n",
    "           'StALS':100e3,\n",
    "            'subzone':0.0   #X position of subduction zone...km\n",
    "           })\n",
    "\n",
    "dp['TI'] = dp.TS + dp.deltaT\n",
    "\n",
    "\n",
    "#scale_factors\n",
    "\n",
    "\n"
   ]
  },
  {
   "cell_type": "code",
   "execution_count": 11,
   "metadata": {
    "collapsed": false
   },
   "outputs": [],
   "source": [
    "#0.6*dp.a*dp.deltaT"
   ]
  },
  {
   "cell_type": "code",
   "execution_count": 12,
   "metadata": {
    "collapsed": true
   },
   "outputs": [],
   "source": [
    "#Modelling and Physics switches\n",
    "\n",
    "md = edict({'refineMesh':True,\n",
    "            'stickyAir':False,\n",
    "            'subductionFault':False,\n",
    "            'symmetricIcs':False,\n",
    "            'velBcs':False,\n",
    "            'aspectRatio':4,\n",
    "            'compBuoyancy':False, #use compositional & phase buoyancy, or simply thermal\n",
    "            'periodicBcs':False,\n",
    "            'melt_viscosity_reduction':True,\n",
    "            'lower_mantle':True,\n",
    "            'RES':48,\n",
    "            'elementType':\"Q2/DPC1\"\n",
    "            })"
   ]
  },
  {
   "cell_type": "code",
   "execution_count": 13,
   "metadata": {
    "collapsed": true
   },
   "outputs": [],
   "source": [
    "###########\n",
    "#If starting from a checkpoint load params from file\n",
    "###########\n",
    "\n",
    "if checkpointLoad:\n",
    "    dp, ndp, sf, md = load_pickles()  #remember to add any extra dictionaries"
   ]
  },
  {
   "cell_type": "code",
   "execution_count": 14,
   "metadata": {
    "collapsed": false
   },
   "outputs": [],
   "source": [
    "###########\n",
    "#If command line args are given, overwrite\n",
    "#Note that this assumes that params as commans line args/\n",
    "#only append to the 'dimensional' and 'model' dictionary (not the non-dimensional)\n",
    "###########    \n",
    "\n",
    "\n",
    "###########\n",
    "#If extra arguments are provided to the script\" eg:\n",
    "### >>> uw.py 2 dp.arg1=1 dp.arg2=foo dp.arg3=3.0\n",
    "###\n",
    "###This would assign ModNum = 2, all other values go into the dp dictionary, under key names provided\n",
    "###\n",
    "###Two operators are searched for, = & *=\n",
    "###\n",
    "###If =, parameter is re-assigned to givn value\n",
    "###If *=, parameter is multipled by given value\n",
    "###\n",
    "### >>> uw.py 2 dp.arg1=1 dp.arg2=foo dp.arg3*=3.0\n",
    "###########\n",
    "\n",
    "for farg in sys.argv[1:]:\n",
    "    try:\n",
    "        (dicitem,val) = farg.split(\"=\") #Split on equals operator\n",
    "        (dic,arg) = dicitem.split(\".\") #colon notation\n",
    "        if '*=' in farg:\n",
    "            (dicitem,val) = farg.split(\"*=\") #If in-place multiplication, split on '*='\n",
    "            (dic,arg) = dicitem.split(\".\")\n",
    "            \n",
    "        if val == 'True': \n",
    "            val = True\n",
    "        elif val == 'False':     #First check if args are boolean\n",
    "            val = False\n",
    "        else:\n",
    "            try:\n",
    "                val = float(val) #next try to convert  to a float,\n",
    "            except ValueError:\n",
    "                pass             #otherwise leave as string\n",
    "        #Update the dictionary\n",
    "        if farg.startswith('dp'):\n",
    "            if '*=' in farg:\n",
    "                dp[arg] = dp[arg]*val #multiply parameter by given factor\n",
    "            else:\n",
    "                dp[arg] = val    #or reassign parameter by given value\n",
    "        if farg.startswith('md'):\n",
    "            if '*=' in farg:\n",
    "                md[arg] = md[arg]*val #multiply parameter by given factor\n",
    "            else:\n",
    "                md[arg] = val    #or reassign parameter by given value\n",
    "                \n",
    "    except:\n",
    "        pass\n",
    "            \n",
    "\n",
    "comm.barrier()"
   ]
  },
  {
   "cell_type": "code",
   "execution_count": 15,
   "metadata": {
    "collapsed": false
   },
   "outputs": [],
   "source": [
    "if not checkpointLoad:\n",
    "    sf = edict({'stress':dp.LS**2/(dp.k*dp.eta0),\n",
    "                'lith_grad':dp.rho*dp.g*(dp.LS)**3/(dp.eta0*dp.k) ,\n",
    "                 'vel':dp.LS/dp.k,\n",
    "                 'SR':dp.LS**2/dp.k,\n",
    "                 'W':(dp.rho*dp.g*dp.LS)/(dp.R*dp.deltaT), #This is the activation energy scale, in terms of depth (not pressure)\n",
    "                 'E': 1./(dp.R*dp.deltaT)}) #To scale E, V, we used a guesstimated adiabatic deltaT\n",
    "\n",
    "    #dimensionless parameters\n",
    "\n",
    "\n",
    "    ndp = edict({'RA':(dp.g*dp.rho*dp.a*dp.deltaT*(dp.LS)**3)/(dp.k*dp.eta0),\n",
    "                'cohesion':dp.cohesion*sf.stress,\n",
    "                'fcd':dp.fc*sf.lith_grad,\n",
    "                'gamma':dp.fc/(dp.a*dp.deltaT),\n",
    "                'E':dp.E*sf.E,\n",
    "                'W':dp.V*sf.W,\n",
    "                'TSP':0., \n",
    "                'TIP':1.,\n",
    "                'n':1.,\n",
    "                'TS':dp.TS/dp.deltaT,\n",
    "                'TI':dp.TI/dp.deltaT,\n",
    "                'eta_min':1e-3,\n",
    "                'eta_max':1e5,\n",
    "                'H':20.,\n",
    "                'Tmvp':0.6,\n",
    "                 'Steta0':1e2,\n",
    "                'subzone':dp.subzone/dp.LS,   #X position of subduction zone..\n",
    "                })\n",
    "\n",
    "\n",
    "\n",
    "    #ndp.RA = 1e6 #this is what Korenaga sets it to\n",
    "\n",
    "#Some final derived values go into the Dictionaries\n",
    "dp.VR = (0.1*(dp.k/dp.LS)*ndp.RA**(2/3.)) #characteristic velocity\n",
    "dp.SR = dp.VR/dp.LS #characteristic strain rate\n",
    "ndp.VR = dp.VR*sf.vel #characteristic velocity\n",
    "ndp.SR = dp.SR*sf.SR #characteristic strain rate\n",
    "ndp.StRA = (3300.*dp.g*(dp.LS)**3)/(dp.eta0 *dp.k) #Composisitional Rayleigh number for rock-air buoyancy force\n"
   ]
  },
  {
   "cell_type": "code",
   "execution_count": null,
   "metadata": {
    "collapsed": false
   },
   "outputs": [],
   "source": []
  },
  {
   "cell_type": "markdown",
   "metadata": {},
   "source": [
    "**Model setup parameters**"
   ]
  },
  {
   "cell_type": "code",
   "execution_count": 16,
   "metadata": {
    "collapsed": false
   },
   "outputs": [],
   "source": [
    "###########\n",
    "#Model setup parameters\n",
    "###########\n",
    "\n",
    "\n",
    "\n",
    "\n",
    "MINX = -0.5*(md.aspectRatio)\n",
    "MAXX = 0.5*(md.aspectRatio)\n",
    "MINY = 0.\n",
    "MAXY = 1.\n",
    "\n",
    "    \n",
    "    \n",
    "dim = 2          # number of spatial dimensions\n",
    "\n",
    "\n",
    "#MESH STUFF\n",
    "\n",
    "Xres = int(md.RES*md.aspectRatio*2)\n",
    "\n",
    "\n",
    "if md.stickyAir:\n",
    "    Yres = int(md.RES)\n",
    "    MAXY = 1. + dp.StALS/dp.LS #150km\n",
    "    \n",
    "else:\n",
    "    Yres = int(md.RES)\n",
    "    MAXY = 1.\n",
    "\n",
    "\n",
    "periodic = [False, False]\n",
    "if md.periodicBcs:\n",
    "    periodic = [True, False]\n",
    "\n",
    "\n",
    "\n",
    "#System/Solver stuff\n",
    "\n",
    "PIC_integration=True\n",
    "ppc = 25\n",
    "\n",
    "#Output and safety stuff\n",
    "\n",
    "\n",
    "\n",
    "#Metric output stuff\n",
    "figures =  'gldb' #glucifer Store won't work on all machines, if not, set to 'gldb' \n",
    "swarm_repop, swarm_update = 10, 10\n",
    "gldbs_output = 20\n",
    "checkpoint_every, files_output = 50, 50\n",
    "metric_output = 50\n",
    "sticky_air_temp = 1e6"
   ]
  },
  {
   "cell_type": "markdown",
   "metadata": {},
   "source": [
    "Create mesh and finite element variables\n",
    "------"
   ]
  },
  {
   "cell_type": "code",
   "execution_count": 17,
   "metadata": {
    "collapsed": false
   },
   "outputs": [],
   "source": [
    "\n",
    "\n",
    "mesh = uw.mesh.FeMesh_Cartesian( elementType = (md.elementType),\n",
    "                                 elementRes  = (Xres, Yres), \n",
    "                                 minCoord    = (MINX, MINY), \n",
    "                                 maxCoord    = (MAXX, MAXY), periodic=periodic)\n",
    "\n",
    "velocityField       = uw.mesh.MeshVariable( mesh=mesh,         nodeDofCount=2 )\n",
    "pressureField       = uw.mesh.MeshVariable( mesh=mesh.subMesh, nodeDofCount=1 )\n",
    "temperatureField    = uw.mesh.MeshVariable( mesh=mesh,         nodeDofCount=1 )\n",
    "temperatureDotField = uw.mesh.MeshVariable( mesh=mesh,         nodeDofCount=1 )"
   ]
  },
  {
   "cell_type": "code",
   "execution_count": 18,
   "metadata": {
    "collapsed": true
   },
   "outputs": [],
   "source": [
    "coordinate = fn.input()\n",
    "depthFn = MAXY - coordinate[1] #a function providing the depth\n",
    "\n",
    "\n",
    "xFn = coordinate[0]  #a function providing the x-coordinate\n",
    "yFn = coordinate[1]"
   ]
  },
  {
   "cell_type": "markdown",
   "metadata": {},
   "source": [
    "## Mesh refinement"
   ]
  },
  {
   "cell_type": "code",
   "execution_count": 19,
   "metadata": {
    "collapsed": false
   },
   "outputs": [
    {
     "name": "stdout",
     "output_type": "stream",
     "text": [
      "('mesh shape is :', (74593, 2))\n"
     ]
    }
   ],
   "source": [
    "print(\"mesh shape is :\", mesh.data.shape)"
   ]
  },
  {
   "cell_type": "code",
   "execution_count": 20,
   "metadata": {
    "collapsed": false
   },
   "outputs": [],
   "source": [
    "mesh.reset()\n",
    "\n",
    "jWalls = mesh.specialSets[\"MinJ_VertexSet\"] + mesh.specialSets[\"MaxJ_VertexSet\"]\n",
    "yFn = coordinate[1]\n",
    "yField = uw.mesh.MeshVariable( mesh=mesh, nodeDofCount=1 )\n",
    "yField.data[:] = 0.\n",
    "yBC = uw.conditions.DirichletCondition( variable=yField, indexSetsPerDof=(jWalls,) )\n",
    "\n",
    "# set bottom wall temperature bc\n",
    "for index in mesh.specialSets[\"MinJ_VertexSet\"]:\n",
    "    yField.data[index] = mesh.minCoord[1]\n",
    "# set top wall temperature bc\n",
    "for index in mesh.specialSets[\"MaxJ_VertexSet\"]:\n",
    "    yField.data[index] = mesh.maxCoord[1]\n",
    "    \n",
    "    \n",
    "    \n",
    "s = 2.\n",
    "intensityFac = 5.\n",
    "intensityFn = MINY + (MAXY-MINY)*(((yFn - MINY)/(MAXY-MINY))**s)\n",
    "intensityFn *= intensityFac\n",
    "intensityFn += 1.\n",
    "\n",
    "\n",
    "yLaplaceEquation = uw.systems.SteadyStateHeat(temperatureField=yField, fn_diffusivity=intensityFn, conditions=[yBC,])\n",
    "\n",
    "# get the default heat equation solver\n",
    "yLaplaceSolver = uw.systems.Solver(yLaplaceEquation)\n",
    "# solve\n",
    "yLaplaceSolver.solve()\n",
    "\n",
    "\n",
    "#Get the array of Y positions - copy may be necessary, not sure. \n",
    "newYpos = yField.data.copy() \n",
    "\n",
    "uw.barrier()\n",
    "with mesh.deform_mesh():\n",
    "     mesh.data[:,1] = newYpos[:,0]\n"
   ]
  },
  {
   "cell_type": "code",
   "execution_count": null,
   "metadata": {
    "collapsed": false
   },
   "outputs": [],
   "source": []
  },
  {
   "cell_type": "code",
   "execution_count": 21,
   "metadata": {
    "collapsed": false
   },
   "outputs": [],
   "source": [
    "fig= glucifer.Figure()\n",
    "#fig.append( glucifer.objects.Surface(mesh, yField))\n",
    "fig.append(glucifer.objects.Mesh(mesh))\n",
    "#fig.append( glucifer.objects.Points(gSwarm, temperatureField))\n",
    "#fig.show()\n",
    "#fig.save_database('test.gldb')"
   ]
  },
  {
   "cell_type": "markdown",
   "metadata": {},
   "source": [
    "Initial conditions\n",
    "-------\n"
   ]
  },
  {
   "cell_type": "code",
   "execution_count": 22,
   "metadata": {
    "collapsed": false
   },
   "outputs": [],
   "source": [
    "#Sinusoidal initial condition\n",
    "A = 0.2\n",
    "sinFn = depthFn + A*(fn.math.cos( math.pi * coordinate[0])  * fn.math.sin( math.pi * coordinate[1] ))        \n",
    "    \n",
    "#Boundary layer/slab initial condition\n",
    "#w0 = 0.05\n",
    "w0 = 0.1\n",
    "delX = -1.*fn.math.abs((coordinate[0]/MINX))   + 1.\n",
    "w = w0*fn.math.sqrt(delX + 1e-10)\n",
    "tempBL = (ndp.TIP - ndp.TSP) *fn.math.erf((depthFn)/w) + ndp.TSP\n",
    "#\n",
    "                   \n",
    "tempSlab = (ndp.TIP - ndp.TSP) *fn.math.erf((fn.math.abs(xFn)*2.)/w0) + ndp.TSP       \n",
    "\n",
    "tempFn1 =  fn.misc.min(tempBL, tempSlab)\n",
    "                   \n",
    "blFn = fn.branching.conditional([(coordinate[1] > 0.5, tempFn1), \n",
    "                                    (True, 1.)])\n",
    "\n",
    "\n",
    "tempFn = blFn #partition the temp between these two fuctions\n",
    "tempFn = sinFn #partition the temp between these two fuctions"
   ]
  },
  {
   "cell_type": "code",
   "execution_count": 23,
   "metadata": {
    "collapsed": false
   },
   "outputs": [],
   "source": [
    "if not checkpointLoad:\n",
    "    temperatureField.data[:] = tempFn.evaluate(mesh)  "
   ]
  },
  {
   "cell_type": "code",
   "execution_count": 24,
   "metadata": {
    "collapsed": false
   },
   "outputs": [],
   "source": [
    "np.random.seed(20)#set seed for reproducibility\n",
    "temperatureField.data[:,0] += (np.random.rand(mesh.data.shape[0]) -  0.5)*1e-2"
   ]
  },
  {
   "cell_type": "code",
   "execution_count": 25,
   "metadata": {
    "collapsed": true
   },
   "outputs": [],
   "source": [
    "#Make sure material in stick air region is at the surface temperature.\n",
    "for index, coord in enumerate(mesh.data):\n",
    "            if coord[1] >= 1.:\n",
    "                temperatureField.data[index] = ndp.TSP"
   ]
  },
  {
   "cell_type": "code",
   "execution_count": 26,
   "metadata": {
    "collapsed": false
   },
   "outputs": [
    {
     "data": {
      "text/html": [
       "<img src='data:image/png;base64,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'>"
      ],
      "text/plain": [
       "<IPython.core.display.HTML object>"
      ]
     },
     "metadata": {},
     "output_type": "display_data"
    }
   ],
   "source": [
    "fig= glucifer.Figure()\n",
    "fig.append( glucifer.objects.Surface(mesh, temperatureField))\n",
    "#fig.append( glucifer.objects.Points(gSwarm, temperatureField))\n",
    "#fig.show()\n"
   ]
  },
  {
   "cell_type": "code",
   "execution_count": null,
   "metadata": {
    "collapsed": false
   },
   "outputs": [],
   "source": []
  },
  {
   "cell_type": "markdown",
   "metadata": {},
   "source": [
    "**Boundary conditions**"
   ]
  },
  {
   "cell_type": "code",
   "execution_count": 27,
   "metadata": {
    "collapsed": false
   },
   "outputs": [],
   "source": [
    "for index in mesh.specialSets[\"MinJ_VertexSet\"]:\n",
    "    temperatureField.data[index] = ndp.TIP\n",
    "for index in mesh.specialSets[\"MaxJ_VertexSet\"]:\n",
    "    temperatureField.data[index] = ndp.TSP\n",
    "    \n",
    "iWalls = mesh.specialSets[\"MinI_VertexSet\"] + mesh.specialSets[\"MaxI_VertexSet\"]\n",
    "jWalls = mesh.specialSets[\"MinJ_VertexSet\"] + mesh.specialSets[\"MaxJ_VertexSet\"]\n",
    "tWalls = mesh.specialSets[\"MaxJ_VertexSet\"]\n",
    "bWalls =mesh.specialSets[\"MinJ_VertexSet\"]\n",
    "\n",
    "\n",
    "freeslipBC = uw.conditions.DirichletCondition( variable      = velocityField, \n",
    "                                               indexSetsPerDof = ( iWalls, jWalls) )\n",
    "\n",
    "\n",
    "#if md.periodicBcs:\n",
    "#    freeslipBC = uw.conditions.DirichletCondition( variable      = velocityField, \n",
    " #                                              indexSetsPerDof = ( None, jWalls) )\n",
    "\n",
    "# also set dirichlet for temp field\n",
    "dirichTempBC = uw.conditions.DirichletCondition(     variable=temperatureField, \n",
    "                                              indexSetsPerDof=(tWalls,) )\n",
    "dT_dy = [0.,0.]\n",
    "\n",
    "# also set dirichlet for temp field\n",
    "neumannTempBC = uw.conditions.NeumannCondition( dT_dy, variable=temperatureField, \n",
    "                                         nodeIndexSet=bWalls)\n",
    "\n"
   ]
  },
  {
   "cell_type": "markdown",
   "metadata": {},
   "source": [
    "Particles\n",
    "-----\n"
   ]
  },
  {
   "cell_type": "code",
   "execution_count": 28,
   "metadata": {
    "collapsed": false
   },
   "outputs": [],
   "source": [
    "###########\n",
    "#Material Swarm and variables\n",
    "###########\n",
    "\n",
    "#create material swarm\n",
    "gSwarm = uw.swarm.Swarm(mesh=mesh, particleEscape=True)\n",
    "\n",
    "#create swarm variables\n",
    "#yieldingCheck = gSwarm.add_variable( dataType=\"int\", count=1 )\n",
    "#materialVariable = gSwarm.add_variable( dataType=\"int\", count=1 )\n",
    "#ageVariable = gSwarm.add_variable( dataType=\"double\", count=1 )\n",
    "\n",
    "\n",
    "#these lists  are part of the checkpointing implementation\n",
    "varlist = []\n",
    "varnames = []\n",
    "#varlist = [materialVariable, yieldingCheck, ageVariable]\n",
    "#varnames = ['materialVariable', 'yieldingCheck', 'ageVariable']"
   ]
  },
  {
   "cell_type": "code",
   "execution_count": 29,
   "metadata": {
    "collapsed": false
   },
   "outputs": [],
   "source": [
    "#For starters, we're not going to worry about checkpointing the swarm, as no materials. Maybe add this later\n",
    "\n",
    "layout = uw.swarm.layouts.PerCellRandomLayout(swarm=gSwarm, particlesPerCell=ppc)\n",
    "# Now use it to populate.\n",
    "gSwarm.populate_using_layout( layout=layout )"
   ]
  },
  {
   "cell_type": "code",
   "execution_count": 30,
   "metadata": {
    "collapsed": true
   },
   "outputs": [],
   "source": [
    "if checkpointLoad:\n",
    "    checkpointLoadDir = natsort.natsort(checkdirs)[-1]\n",
    "    temperatureField.load(os.path.join(checkpointLoadDir, \"temperatureField\" + \".hdf5\"))\n",
    "    pressureField.load(os.path.join(checkpointLoadDir, \"pressureField\" + \".hdf5\"))\n",
    "    velocityField.load(os.path.join(checkpointLoadDir, \"velocityField\" + \".hdf5\"))\n",
    "    gSwarm.load(os.path.join(checkpointLoadDir, \"swarm\" + \".h5\"))"
   ]
  },
  {
   "cell_type": "markdown",
   "metadata": {
    "collapsed": false
   },
   "source": [
    "\n",
    "if checkpointLoad:\n",
    "    checkpointLoadDir = natsort.natsort(checkdirs)[-1]\n",
    "    temperatureField.load(os.path.join(checkpointLoadDir, \"temperatureField\" + \".hdf5\"))\n",
    "    pressureField.load(os.path.join(checkpointLoadDir, \"pressureField\" + \".hdf5\"))\n",
    "    velocityField.load(os.path.join(checkpointLoadDir, \"velocityField\" + \".hdf5\"))\n",
    "    gSwarm.load(os.path.join(checkpointLoadDir, \"swarm\" + \".h5\"))\n",
    "    for ix in range(len(varlist)):\n",
    "        varb = varlist[ix]\n",
    "        varb.load(os.path.join(checkpointLoadDir,varnames[ix] + \".h5\"))\n",
    "\n",
    "else:\n",
    "\n",
    "    # Layouts are used to populate the swarm across the whole domain\n",
    "    # Create the layout object\n",
    "    layout = uw.swarm.layouts.PerCellRandomLayout(swarm=gSwarm, particlesPerCell=ppc)\n",
    "    # Now use it to populate.\n",
    "    gSwarm.populate_using_layout( layout=layout )\n",
    "\n",
    "    # Swarm variables\n",
    "    materialVariable.data[:] = mantleIndex\n",
    "    tracerVariable.data[:] = 1\n",
    "    yieldingCheck.data[:] = 0\n",
    "    timeVariable.data[:] = 0.\n",
    "    \n",
    "    #Set initial air and crust materials (allow the graph to take care of lithsophere)\n",
    "    #########\n",
    "    #This initial material setup will be model dependent\n",
    "    #########\n",
    "    for particleID in range(gSwarm.particleCoordinates.data.shape[0]):\n",
    "        if (1. - gSwarm.particleCoordinates.data[particleID][1]) < MANTLETOCRUST:\n",
    "                 materialVariable.data[particleID] = crustIndex"
   ]
  },
  {
   "cell_type": "markdown",
   "metadata": {
    "collapsed": true
   },
   "source": [
    "**Passive tracer layout**"
   ]
  },
  {
   "cell_type": "markdown",
   "metadata": {
    "collapsed": false
   },
   "source": [
    "**Material swarm and graphs**"
   ]
  },
  {
   "cell_type": "markdown",
   "metadata": {},
   "source": [
    "Set up material parameters and functions\n",
    "-----\n",
    "\n",
    "Setup the viscosity to be a function of the temperature. Recall that these functions and values are preserved for the entire simulation time. "
   ]
  },
  {
   "cell_type": "code",
   "execution_count": 31,
   "metadata": {
    "collapsed": false
   },
   "outputs": [],
   "source": [
    "# The yeilding of the upper slab is dependent on the strain rate.\n",
    "strainRate_2ndInvariant = fn.tensor.second_invariant( \n",
    "                            fn.tensor.symmetric( \n",
    "                            velocityField.fn_gradient ))\n",
    "\n",
    "\n",
    "#thetaT = (dp.E*dp.deltaT)/(dp.R*(dp.TS + dp.deltaT)**2)\n",
    "thetaT = 15. #overuling\n",
    "thetaZ = 0.\n",
    "\n",
    "#gamma = dp.fc/(dp.a*dp.deltaT)\n",
    "#print(thetaT, thetaZ )\n"
   ]
  },
  {
   "cell_type": "code",
   "execution_count": 40,
   "metadata": {
    "collapsed": false
   },
   "outputs": [
    {
     "data": {
      "text/plain": [
       "(20.22208191158774, 1300)"
      ]
     },
     "execution_count": 40,
     "metadata": {},
     "output_type": "execute_result"
    }
   ],
   "source": [
    "thetaT, dp.deltaT"
   ]
  },
  {
   "cell_type": "code",
   "execution_count": 33,
   "metadata": {
    "collapsed": false
   },
   "outputs": [
    {
     "data": {
      "text/plain": [
       "0.5999999999999999"
      ]
     },
     "execution_count": 33,
     "metadata": {},
     "output_type": "execute_result"
    }
   ],
   "source": [
    "dp.fc/(dp.a*dp.deltaT)"
   ]
  },
  {
   "cell_type": "code",
   "execution_count": 34,
   "metadata": {
    "collapsed": false
   },
   "outputs": [],
   "source": [
    "#overide these parameters to match the reference case quoted on page 5\n",
    "#theta = 15.\n",
    "#gamma = 0.6\n",
    "#ndp.E = 11.\n",
    "#ndp.W = 3.\n",
    "\n"
   ]
  },
  {
   "cell_type": "code",
   "execution_count": 35,
   "metadata": {
    "collapsed": false
   },
   "outputs": [],
   "source": [
    "############\n",
    "#Rheology\n",
    "#############\n",
    "#\n",
    "#The final mantle rheology is composed as follows*:\n",
    "# \n",
    "#\n",
    "# mantleviscosityFn = max{  min{(1/omega*nonlinearVisc + 1/eta_p)**-1,\n",
    "#                           eta_max},\n",
    "#                           eta_min}\n",
    "#                      \n",
    "#nonlinearVisc => FK viscosity (could be linear or non linear)\n",
    "#eta_p   => stress-limiting effective viscosity\n",
    "#\n",
    "\n",
    "\n",
    "omega = fn.misc.constant(1.)\n",
    "\n",
    "if md.melt_viscosity_reduction:\n",
    "    mvr =  fn.branching.conditional( [ (temperatureField > (ndp.Tmvp + 7.5*(1. - coordinate[1])) , 0.1 ),   (         True, 1.) ] )\n",
    "    omega = omega*mvr\n",
    "\n",
    "\n",
    "#implementation of the lower mantle viscosity increase, similar to Bello et al. 2015\n",
    "a = 1.\n",
    "B = 30.\n",
    "d0 = 660e3/dp.LS  \n",
    "ds = d0/10.\n",
    "if md.lower_mantle:\n",
    "    inner1 = 1. - 0.5*(1. - fn.math.tanh(((1. - d0)-(coordinate[1]))/(ds)))\n",
    "    modfac = a*fn.math.exp(np.log(B)*inner1)\n",
    "    omega = omega*modfac\n",
    "\n",
    "\n",
    "\n",
    "linearVisc = fn.math.exp(thetaT*(1. - temperatureField) + thetaZ*(depthFn))\n",
    "\n",
    "\n",
    "ys =  ndp.cohesion + ndp.fcd*depthFn #tau_1 * 1e-5 is the cohesion value used in the paper\n",
    "\n",
    "yielding = ys/(strainRate_2ndInvariant + 1e-15) #extra factor to account for underworld second invariant form\n",
    "\n",
    "\n",
    "mantleviscosityFn = fn.misc.max(fn.misc.min(1./(((1./linearVisc) + (1./yielding))), ndp.eta_max), ndp.eta_min)\n",
    "\n"
   ]
  },
  {
   "cell_type": "code",
   "execution_count": 36,
   "metadata": {
    "collapsed": false
   },
   "outputs": [],
   "source": [
    "fig= glucifer.Figure()\n",
    "fig.append( glucifer.objects.Surface(mesh, mantleviscosityFn, logScale=True))\n",
    "#fig.append( glucifer.objects.VectorArrows(mesh, velocityField, scaling = 0.001))\n",
    "\n",
    "#fig.show()\n"
   ]
  },
  {
   "cell_type": "markdown",
   "metadata": {},
   "source": [
    "System setup\n",
    "-----\n",
    "\n",
    "Since we are using a previously constructed temperature field, we will use a single Stokes solve to get consistent velocity and pressure fields.\n",
    "\n",
    "**Setup a Stokes system**"
   ]
  },
  {
   "cell_type": "code",
   "execution_count": 37,
   "metadata": {
    "collapsed": false
   },
   "outputs": [],
   "source": [
    "# Here we set a viscosity value of '1.' for both materials\n",
    "#viscosityMapFn = fn.branching.map( fn_key = materialVariable,\n",
    "#                         mapping = {lithosphereIndex:mantleviscosityFn, \n",
    "#                                    crustIndex:10.,\n",
    "#                                    mantleIndex:mantleviscosityFn, \n",
    "#                                    eclIndex:mantleviscosityFn,\n",
    "#                                    airIndex:ndp.Steta0} )\n",
    "\n",
    "#densityMapFn = fn.branching.map( fn_key = materialVariable,\n",
    "#                         mapping = {airIndex:ndp.StRA, \n",
    "#                                    lithosphereIndex:ndp.RA*temperatureField, \n",
    "#                                    crustIndex:ndp.RA*temperatureField, \n",
    "#                                    mantleIndex:ndp.RA*temperatureField} )"
   ]
  },
  {
   "cell_type": "code",
   "execution_count": 197,
   "metadata": {
    "collapsed": false
   },
   "outputs": [],
   "source": [
    "# Construct our density function.\n",
    "densityFn = ndp.RA * temperatureField\n",
    "\n",
    "# Define our vertical unit vector using a python tuple (this will be automatically converted to a function).\n",
    "gravity = ( 0.0, 1.0 )\n",
    "\n",
    "# Now create a buoyancy force vector using the density and the vertical unit vector. \n",
    "buoyancyFn = densityFn * gravity"
   ]
  },
  {
   "cell_type": "code",
   "execution_count": 198,
   "metadata": {
    "collapsed": false
   },
   "outputs": [],
   "source": [
    "stokesPIC = uw.systems.Stokes(velocityField=velocityField, \n",
    "                              pressureField=pressureField,\n",
    "                              conditions=[freeslipBC,],\n",
    "                              fn_viscosity=mantleviscosityFn, \n",
    "                              fn_bodyforce=buoyancyFn )"
   ]
  },
  {
   "cell_type": "markdown",
   "metadata": {},
   "source": [
    "**Set up and solve the Stokes system**"
   ]
  },
  {
   "cell_type": "code",
   "execution_count": null,
   "metadata": {
    "collapsed": true
   },
   "outputs": [],
   "source": [
    "solver = uw.systems.Solver(stokesPIC)"
   ]
  },
  {
   "cell_type": "markdown",
   "metadata": {},
   "source": [
    "**Add the non-linear viscosity to the Stokes system**\n"
   ]
  },
  {
   "cell_type": "code",
   "execution_count": null,
   "metadata": {
    "collapsed": false
   },
   "outputs": [],
   "source": [
    "solver.set_inner_method(\"mumps\")\n",
    "solver.options.scr.ksp_type=\"cg\"\n",
    "solver.set_penalty(1.0e7)\n",
    "solver.options.scr.ksp_rtol = 1.0e-4\n",
    "solver.solve(nonLinearIterate=True)\n",
    "solver.print_stats()"
   ]
  },
  {
   "cell_type": "markdown",
   "metadata": {},
   "source": [
    "**Create an advective diffusive system**"
   ]
  },
  {
   "cell_type": "code",
   "execution_count": null,
   "metadata": {
    "collapsed": true
   },
   "outputs": [],
   "source": [
    "advDiff = uw.systems.AdvectionDiffusion( phiField       = temperatureField, \n",
    "                                         phiDotField    = temperatureDotField, \n",
    "                                         velocityField  = velocityField,\n",
    "                                         fn_sourceTerm    = 20.0,\n",
    "                                         fn_diffusivity = 1.0, \n",
    "                                         conditions     = [neumannTempBC, dirichTempBC] )\n",
    "\n",
    "passiveadvector = uw.systems.SwarmAdvector( swarm         = gSwarm, \n",
    "                                     velocityField = velocityField, \n",
    "                                     order         = 1)"
   ]
  },
  {
   "cell_type": "code",
   "execution_count": null,
   "metadata": {
    "collapsed": true
   },
   "outputs": [],
   "source": [
    "population_control = uw.swarm.PopulationControl(gSwarm,deleteThreshold=0.2,splitThreshold=1.,maxDeletions=3,maxSplits=0, aggressive=True, particlesPerCell=ppc)"
   ]
  },
  {
   "cell_type": "markdown",
   "metadata": {},
   "source": [
    "Analysis functions / routines\n",
    "-----\n",
    "\n",
    "Most of the metrics we want to calculate are either:\n",
    "\n",
    "* extrema of some field / function\n",
    "* integral of some field / function\n",
    "* average value of some function (integral divide by area)\n",
    "\n",
    "In addition, we also want to be able to determine these metrics over some restricted part of the domain, where the restriction may either be due some value of a field, a material type, or something more arbitrary.\n",
    "\n",
    "Much of he challenge lies in defining these restriction functions in an efficient and robust way (i.e they don't break down as the model evolves)\n",
    "\n",
    "For volume integrals, and extrema, we build a hierarchy of restriction functions, each borrowing from the previous, until we have divided the domain into a number of sub regions of interest. \n",
    "\n",
    "In general, averages are found afterwards by combining the integral and the area of the relavent subregion"
   ]
  },
  {
   "cell_type": "code",
   "execution_count": 112,
   "metadata": {
    "collapsed": false
   },
   "outputs": [],
   "source": [
    "###################\n",
    "#Volume Restriction functions\n",
    "###################\n",
    "\n",
    "#Level 1. Global\n",
    "globRestFn = fn.misc.constant(1.)\n",
    "\n",
    "\n",
    "\n",
    "\n",
    "#Level 2. lithosphere - mantle:\n",
    "tempMM = fn.view.min_max(temperatureField)\n",
    "tempMM.evaluate(mesh)\n",
    "TMAX = tempMM.max_global()\n",
    "mantleconditions = [ (                                  temperatureField < 0.9*TMAX, 1.),\n",
    "                   (                                                   True , 0.) ]\n",
    "lithRestFn = fn.branching.conditional(mantleconditions)\n",
    "lithRestFn*=globRestFn #Add next level up in heirarchy\n",
    "\n",
    "\n",
    "\n",
    "\n"
   ]
  },
  {
   "cell_type": "code",
   "execution_count": 113,
   "metadata": {
    "collapsed": true
   },
   "outputs": [],
   "source": [
    "###################\n",
    "#Surface Restriction functions\n",
    "###################\n",
    "\n",
    "def platenessFn(val = 0.1):\n",
    "    normgradV = fn.math.abs(velocityField.fn_gradient[0]/fn.math.sqrt(velocityField[0]*velocityField[0])) #[du*/dx]/sqrt(u*u)\n",
    "\n",
    "\n",
    "\n",
    "    srconditions = [ (                                  normgradV < val, 1.),\n",
    "                   (                                                   True , 0.) ]\n",
    "\n",
    "\n",
    "    return fn.branching.conditional(srconditions)\n",
    "\n",
    "srRestFn = platenessFn(val = 0.1)"
   ]
  },
  {
   "cell_type": "code",
   "execution_count": 115,
   "metadata": {
    "collapsed": false
   },
   "outputs": [],
   "source": [
    "###################\n",
    "#Setup any Functions to be integrated\n",
    "###################\n",
    "\n",
    "sqrtv2 = fn.math.sqrt(fn.math.dot(velocityField,velocityField))\n",
    "vx = velocityField[0]\n",
    "v2x = fn.math.dot(velocityField[0],velocityField[0])\n",
    "sqrtv2x = fn.math.sqrt(fn.math.dot(velocityField[0],velocityField[0]))\n",
    "dw = temperatureField*velocityField[1]\n",
    "sinner = fn.math.dot( strainRate_2ndInvariant, strainRate_2ndInvariant )\n",
    "vd = 2.*mantleviscosityFn*sinner\n",
    "dTdZ = temperatureField.fn_gradient[1]\n"
   ]
  },
  {
   "cell_type": "code",
   "execution_count": 116,
   "metadata": {
    "collapsed": true
   },
   "outputs": [],
   "source": [
    "###################\n",
    "#Create integral, max/min templates \n",
    "###################\n",
    "\n",
    "def volumeint(Fn = 1., rFn=globRestFn):\n",
    "    return uw.utils.Integral( Fn*rFn,  mesh )\n",
    "\n",
    "def surfint(Fn = 1., rFn=globRestFn, surfaceIndexSet=mesh.specialSets[\"MaxJ_VertexSet\"]):\n",
    "    return uw.utils.Integral( Fn*rFn, mesh=mesh, integrationType='Surface', surfaceIndexSet=surfaceIndexSet)\n",
    "\n",
    "def maxMin(Fn = 1.):\n",
    "    #maxMin(Fn = 1., rFn=globRestFn\n",
    "    #vuFn = fn.view.min_max(Fn*rFn) #the restriction functions don't work with the view.min_max fn yet\n",
    "    vuFn = fn.view.min_max(Fn)\n",
    "    return vuFn"
   ]
  },
  {
   "cell_type": "code",
   "execution_count": 117,
   "metadata": {
    "collapsed": false
   },
   "outputs": [],
   "source": [
    "#Setup volume integrals on different sub regions\n",
    "\n",
    "##Whole rock domain\n",
    "\n",
    "_areaintRock = volumeint(globRestFn)\n",
    "_tempintRock = volumeint(temperatureField, globRestFn)\n",
    "_rmsintRock = volumeint(sqrtv2, globRestFn)\n",
    "_dwintRock = volumeint(dw, globRestFn)\n",
    "_vdintRock = volumeint(vd, globRestFn)\n",
    "\n",
    "##Lith \n",
    "\n",
    "_areaintLith  = volumeint(lithRestFn)\n",
    "_tempintLith  = volumeint(temperatureField, lithRestFn)\n",
    "_rmsintLith  = volumeint(sqrtv2,lithRestFn)\n",
    "_dwintLith  = volumeint(dw,lithRestFn)\n",
    "_vdintLith  = volumeint(vd,lithRestFn)"
   ]
  },
  {
   "cell_type": "code",
   "execution_count": 118,
   "metadata": {
    "collapsed": false
   },
   "outputs": [],
   "source": [
    "#Setup surface integrals\n",
    "\n",
    "_surfLength = surfint()\n",
    "_rmsSurf = surfint(v2x)\n",
    "_nuTop = surfint(dTdZ)\n",
    "_nuBottom = surfint(dTdZ, surfaceIndexSet=mesh.specialSets[\"MinJ_VertexSet\"])\n",
    "_plateness = surfint(srRestFn)"
   ]
  },
  {
   "cell_type": "code",
   "execution_count": 119,
   "metadata": {
    "collapsed": false
   },
   "outputs": [],
   "source": [
    "_maxMinVel = maxMin(velocityField) \n",
    "dummyFn = _maxMinVel.evaluate(mesh)\n",
    "\n",
    "_maxMinSr = maxMin(strainRate_2ndInvariant) \n",
    "dummyFn = _maxMinSr.evaluate(mesh)\n",
    "\n",
    "\n",
    "#Surface extrema\n",
    "_maxMinVxSurf = maxMin(vx)\n",
    "dummyFn = _maxMinVxSurf.evaluate(tWalls)"
   ]
  },
  {
   "cell_type": "code",
   "execution_count": 120,
   "metadata": {
    "collapsed": false
   },
   "outputs": [],
   "source": [
    "#Volume Ints\n",
    "areaintRock = _areaintRock.evaluate()[0]\n",
    "tempintRock = _tempintRock.evaluate()[0]\n",
    "rmsintRock = _rmsintRock.evaluate()[0]\n",
    "dwintRock = _dwintRock.evaluate()[0]\n",
    "vdintRock = _vdintRock.evaluate()[0]\n",
    "areaintLith = _areaintLith.evaluate()[0]\n",
    "tempintLith = _tempintLith.evaluate()[0]\n",
    "rmsintLith = _rmsintLith.evaluate()[0]\n",
    "dwintLith = _dwintLith.evaluate()[0]\n",
    "vdintLith = _vdintLith.evaluate()[0]\n",
    "\n",
    "\n",
    "#Surface Ints\n",
    "surfLength = _surfLength.evaluate()[0]\n",
    "rmsSurf = _rmsSurf.evaluate()[0]\n",
    "nuTop = _nuTop.evaluate()[0]\n",
    "nuBottom = _nuBottom.evaluate()[0]\n",
    "plateness = _plateness.evaluate()[0]\n",
    "\n",
    "#Max mins\n",
    "maxVel = _maxMinVel.max_global()\n",
    "minVel = _maxMinVel.min_global() \n",
    "maxSr = _maxMinSr.max_global()\n",
    "minSr = _maxMinSr.min_global()\n",
    "maxVxsurf = _maxMinVxSurf.max_global()\n",
    "minVxsurf = _maxMinVxSurf.min_global()"
   ]
  },
  {
   "cell_type": "code",
   "execution_count": 121,
   "metadata": {
    "collapsed": false
   },
   "outputs": [
    {
     "name": "stdout",
     "output_type": "stream",
     "text": [
      "4.0\n",
      "3.84398417101\n",
      "139.504595786\n",
      "-0.4315512626\n",
      "44372726.5295\n",
      "0.353501693105\n",
      "0.190095394984\n",
      "18.9696864372\n",
      "-2.26239248666\n",
      "43148778.3803\n",
      "4.0\n",
      "9671.91192953\n",
      "-93.2162803362\n",
      "3.38422276137\n",
      "3.10115396516\n",
      "184.622816194\n",
      "0.0\n",
      "7234.48552674\n",
      "0.0325389215321\n",
      "51.4939810532\n",
      "-51.4939812812\n"
     ]
    }
   ],
   "source": [
    "print(areaintRock)\n",
    "print(tempintRock)\n",
    "print(rmsintRock)\n",
    "print(dwintRock)\n",
    "print(vdintRock)\n",
    "print(areaintLith)\n",
    "print(tempintLith )\n",
    "print(rmsintLith)\n",
    "print(dwintLith)\n",
    "print(vdintLith)\n",
    "\n",
    "print(surfLength)\n",
    "print(rmsSurf)\n",
    "print(nuTop)\n",
    "print(nuBottom)\n",
    "print(plateness)\n",
    "\n",
    "\n",
    "print(maxVel)\n",
    "print(minVel)\n",
    "print(maxSr)\n",
    "print(minSr)\n",
    "print(maxVxsurf)\n",
    "print(minVxsurf)"
   ]
  },
  {
   "cell_type": "markdown",
   "metadata": {},
   "source": [
    "Viz.\n",
    "-----"
   ]
  },
  {
   "cell_type": "code",
   "execution_count": 124,
   "metadata": {
    "collapsed": false
   },
   "outputs": [],
   "source": [
    "if figures == 'store':\n",
    "    fullpath = os.path.join(outputPath + \"gldbs/\")\n",
    "    store = glucifer.Store(fullpath + 'subduction.gldb')\n",
    "\n",
    "    figTemp = glucifer.Figure(store,figsize=(300*np.round(md.aspectRatio,2),300))\n",
    "    figTemp.append( glucifer.objects.Points(gSwarm,temperatureField))\n",
    "\n",
    "    figVisc= glucifer.Figure(store, figsize=(300*np.round(md.aspectRatio,2),300))\n",
    "    figVisc.append( glucifer.objects.Points(gSwarm,mantleviscosityFn, logScale=True, valueRange =[1e-3,1e5]))\n",
    "    \n",
    "    figSr= glucifer.Figure(store, figsize=(300*np.round(md.aspectRatio,2),300))\n",
    "    figSr.append( glucifer.objects.Points(gSwarm,strainRate_2ndInvariant, logScale=True))\n",
    "    figSr.append( glucifer.objects.VectorArrows(mesh,velocityField, scaling=0.0005))\n",
    "    \n",
    "if figures == 'gldb':\n",
    "    #Pack some stuff into a database as well\n",
    "    figDb = glucifer.Figure()\n",
    "    #figDb.append( glucifer.objects.Mesh(mesh))\n",
    "    figDb.append( glucifer.objects.VectorArrows(mesh,velocityField, scaling=0.0005))\n",
    "    #figDb.append( glucifer.objects.Points(gSwarm,tracerVariable, colours= 'white black'))\n",
    "    #figDb.append( glucifer.objects.Points(gSwarm,materialVariable))\n",
    "    #figDb.append( glucifer.objects.Points(gSwarm,viscMinVariable))\n",
    "    #figDb.append( glucifer.objects.Points(gSwarm,fnViscMin))\n",
    "    figDb.append( glucifer.objects.Points(gSwarm, mantleviscosityFn, logScale=True))\n",
    "    #figDb.append( glucifer.objects.Points(gSwarm, strainRate_2ndInvariant, logScale=True))\n",
    "    figDb.append( glucifer.objects.Points(gSwarm,temperatureField))"
   ]
  },
  {
   "cell_type": "markdown",
   "metadata": {
    "collapsed": false
   },
   "source": [
    "#### Miscellania\n"
   ]
  },
  {
   "cell_type": "code",
   "execution_count": 126,
   "metadata": {
    "collapsed": false
   },
   "outputs": [
    {
     "name": "stderr",
     "output_type": "stream",
     "text": [
      "/usr/local/lib/python2.7/dist-packages/numpy/core/numeric.py:190: VisibleDeprecationWarning: using a non-integer number instead of an integer will result in an error in the future\n",
      "  a = empty(shape, dtype, order)\n"
     ]
    }
   ],
   "source": [
    "##############\n",
    "#Create a numpy array at the surface to get surface information on (using parallel-friendly evaluate_global)\n",
    "##############\n",
    "\n",
    "surface_xs = np.linspace(mesh.minCoord[0], mesh.maxCoord[0], mesh.elementRes[0] + 1)\n",
    "surface_nodes = np.array(zip(surface_xs, np.ones(len(surface_xs)*mesh.maxCoord[1]))) #For evaluation surface velocity\n",
    "normgradV = velocityField.fn_gradient[0]/fn.math.sqrt(velocityField[0]*velocityField[0])\n",
    "\n",
    "tempMM = fn.view.min_max(temperatureField)\n",
    "dummy = tempMM.evaluate(mesh)"
   ]
  },
  {
   "cell_type": "code",
   "execution_count": null,
   "metadata": {
    "collapsed": true
   },
   "outputs": [],
   "source": [
    "##############\n",
    "#Simple function to return info about location of plate boundaries\n",
    "##############\n",
    "\n",
    "def getnearpos(array,value):\n",
    "    idx = (np.abs(array-value)).argmin()\n",
    "    return idx \n",
    "\n",
    "def plate_info(srfilename, minx, maxx,  searchdx, oldszloc = 0.0):\n",
    "    \"\"\"\n",
    "    Use the surface strain rate field to find the location of the subduction zone in 2d\n",
    "    \n",
    "    \"\"\"\n",
    "    if type(srfilename) == str: #read surface strain rate points from file\n",
    "        sr = np.load(srfilename)\n",
    "    else:\n",
    "        sr =  srfilename        #read surface strain rates directly from array\n",
    "    xs = np.linspace(minx,maxx,sr.shape[0] )\n",
    "    #infs at the ends of the SR data...replace with adjacent values\n",
    "    sr[0] = sr[1] \n",
    "    sr[-1] = sr[2]\n",
    "    #Normalize\n",
    "    srx = (sr- sr.mean()) /(sr.max() - sr.min())\n",
    "    #reduce the search domain, to near the previous PB location\n",
    "    lx, rx = getnearpos(xs, oldszloc - searchdx),  getnearpos(xs, oldszloc + searchdx)\n",
    "    red_xs, red_sr = xs[lx:rx], srx[lx:rx]\n",
    "    #return the minima\n",
    "    newszLoc = red_xs[np.argmin(red_sr)]\n",
    "    return newszLoc "
   ]
  },
  {
   "cell_type": "code",
   "execution_count": 129,
   "metadata": {
    "collapsed": false
   },
   "outputs": [],
   "source": [
    "##############\n",
    "#These functions handle checkpointing\n",
    "##############\n",
    "\n",
    "\n",
    "#Subzone = ndp.subzone\n",
    "\n",
    "\n",
    "def checkpoint1(step, checkpointPath,filename, filewrites):\n",
    "    path = checkpointPath + str(step) \n",
    "    os.mkdir(path)\n",
    "    ##Write and save the file, if not already a writing step\n",
    "    if not step % filewrites == 0:\n",
    "        f_o.write((16*'%-15s ' + '\\n') % (areaintRock, tempintRock, rmsintRock, dwintRock, vdintRock,\n",
    "                                  areaintLith, tempintLith,rmsintLith, dwintLith, vdintLith,\n",
    "                                  rmsSurf, nuTop, nuBottom, plateness, ndp.subzone, realtime))\n",
    "    filename.close()\n",
    "    shutil.copyfile(os.path.join(outputPath, outputFile), os.path.join(path, outputFile))\n",
    "\n",
    "\n",
    "def checkpoint2(step, checkpointPath, swarm, filename, varlist = [], varnames = []):\n",
    "    path = checkpointPath + str(step) \n",
    "    velfile = \"velocityField\" + \".hdf5\"\n",
    "    tempfile = \"temperatureField\" + \".hdf5\"\n",
    "    pressfile = \"pressureField\" + \".hdf5\"\n",
    "    velocityField.save(os.path.join(path, velfile))\n",
    "    temperatureField.save(os.path.join(path, tempfile))\n",
    "    pressureField.save(os.path.join(path, pressfile))\n",
    "    swarm.save(os.path.join(path, \"swarm.h5\") ) \n",
    "    for ix in range(len(varlist)):\n",
    "        varb = varlist[ix]\n",
    "        varb.save(os.path.join(path,varnames[ix] + \".h5\"))\n",
    "    \n",
    "    #Save the parameters\n",
    "    dict_list = [dp, sf, ndp, md] #if any of the dictionaries have changed, this list needs to be rebuilt\n",
    "    save_pickles(dict_list, dict_names, path)\n",
    "    \n",
    "#Simple Checkpoint function for the faults / interfaces (markerLine2D)\n",
    "def checkpoint3(step,  checkpointPath, interfaces,interfacenames ):\n",
    "    path = checkpointPath + str(step)\n",
    "    for ix in range(len(interfaces)):\n",
    "        intf = interfaces[ix]\n",
    "        intf.swarm.save(os.path.join(path,interfacenames[ix] + \".h5\"))\n",
    "    "
   ]
  },
  {
   "cell_type": "code",
   "execution_count": null,
   "metadata": {
    "collapsed": false
   },
   "outputs": [],
   "source": [
    "tempMM.max_global(), temperatureField.data.max()"
   ]
  },
  {
   "cell_type": "markdown",
   "metadata": {},
   "source": [
    "Main simulation loop\n",
    "-----\n"
   ]
  },
  {
   "cell_type": "code",
   "execution_count": 130,
   "metadata": {
    "collapsed": false
   },
   "outputs": [],
   "source": [
    "# initialise timer for computation\n",
    "start = time.clock()"
   ]
  },
  {
   "cell_type": "code",
   "execution_count": null,
   "metadata": {
    "collapsed": false
   },
   "outputs": [],
   "source": []
  },
  {
   "cell_type": "code",
   "execution_count": 134,
   "metadata": {
    "collapsed": false
   },
   "outputs": [
    {
     "ename": "RuntimeError",
     "evalue": "Error encountered. Full restart recommended as exception safety not guaranteed. Error message:\nSomething went wrong in _PCDVC_Calculate2D: Problem has an under resolved cell (Cell Id = 0).\nYou may need to check your initial particle layout configuration. A per cell layout might give better results than a global layout, especially where you have a deformed mesh. Also, if particles are able to escape the domain, you can enable aggressive population control by setting the 'particleEscape' swarm constructor parameter.",
     "output_type": "error",
     "traceback": [
      "\u001b[1;31m\u001b[0m",
      "\u001b[1;31mRuntimeError\u001b[0mTraceback (most recent call last)",
      "\u001b[1;32m<ipython-input-134-dbe34ebaf2ff>\u001b[0m in \u001b[0;36m<module>\u001b[1;34m()\u001b[0m\n\u001b[0;32m     72\u001b[0m     \u001b[1;31m################\u001b[0m\u001b[1;33m\u001b[0m\u001b[1;33m\u001b[0m\u001b[0m\n\u001b[0;32m     73\u001b[0m     \u001b[1;31m#if step % swarm_repop == 0:\u001b[0m\u001b[1;33m\u001b[0m\u001b[1;33m\u001b[0m\u001b[0m\n\u001b[1;32m---> 74\u001b[1;33m     \u001b[0mpopulation_control\u001b[0m\u001b[1;33m.\u001b[0m\u001b[0mrepopulate\u001b[0m\u001b[1;33m(\u001b[0m\u001b[1;33m)\u001b[0m\u001b[1;33m\u001b[0m\u001b[0m\n\u001b[0m\u001b[0;32m     75\u001b[0m     \u001b[1;31m################\u001b[0m\u001b[1;33m\u001b[0m\u001b[1;33m\u001b[0m\u001b[0m\n\u001b[0;32m     76\u001b[0m     \u001b[1;31m#Gldb output\u001b[0m\u001b[1;33m\u001b[0m\u001b[1;33m\u001b[0m\u001b[0m\n",
      "\u001b[1;32m/root/underworld2/underworld/swarm/_population_control.pyc\u001b[0m in \u001b[0;36mrepopulate\u001b[1;34m(self)\u001b[0m\n\u001b[0;32m     91\u001b[0m         \u001b[0mThis\u001b[0m \u001b[0mmethod\u001b[0m \u001b[0mrepopulates\u001b[0m \u001b[0mthe\u001b[0m \u001b[0mswarm\u001b[0m\u001b[1;33m.\u001b[0m\u001b[1;33m\u001b[0m\u001b[0m\n\u001b[0;32m     92\u001b[0m         \"\"\"\n\u001b[1;32m---> 93\u001b[1;33m         \u001b[0mself\u001b[0m\u001b[1;33m.\u001b[0m\u001b[0m_swarm\u001b[0m\u001b[1;33m.\u001b[0m\u001b[0m_voronoi_swarm\u001b[0m\u001b[1;33m.\u001b[0m\u001b[0mrepopulate\u001b[0m\u001b[1;33m(\u001b[0m\u001b[0mweights_calculator\u001b[0m\u001b[1;33m=\u001b[0m\u001b[0mself\u001b[0m\u001b[1;33m.\u001b[0m\u001b[0m_weights\u001b[0m\u001b[1;33m)\u001b[0m\u001b[1;33m\u001b[0m\u001b[0m\n\u001b[0m\u001b[0;32m     94\u001b[0m         \u001b[1;31m# repopulation potentially adds/removes particles... so we need to increment\u001b[0m\u001b[1;33m\u001b[0m\u001b[1;33m\u001b[0m\u001b[0m\n\u001b[0;32m     95\u001b[0m         \u001b[1;31m# the swarm id.  note that this should occur *after* the repopulate call\u001b[0m\u001b[1;33m\u001b[0m\u001b[1;33m\u001b[0m\u001b[0m\n",
      "\u001b[1;32m/root/underworld2/underworld/swarm/_integration_swarm.pyc\u001b[0m in \u001b[0;36mrepopulate\u001b[1;34m(self, weights_calculator)\u001b[0m\n\u001b[0;32m    139\u001b[0m         \u001b[1;31m# if weights calculator is PCDVC, then we need to always run as it potentially performs population control\u001b[0m\u001b[1;33m\u001b[0m\u001b[1;33m\u001b[0m\u001b[0m\n\u001b[0;32m    140\u001b[0m         \u001b[1;32mif\u001b[0m \u001b[1;33m(\u001b[0m\u001b[0mself\u001b[0m\u001b[1;33m.\u001b[0m\u001b[0m_mappedToState\u001b[0m \u001b[1;33m!=\u001b[0m \u001b[0mself\u001b[0m\u001b[1;33m.\u001b[0m\u001b[0m_mappedSwarm\u001b[0m\u001b[1;33m(\u001b[0m\u001b[1;33m)\u001b[0m\u001b[1;33m.\u001b[0m\u001b[0mstateId\u001b[0m\u001b[1;33m)\u001b[0m \u001b[1;32mor\u001b[0m \u001b[0misinstance\u001b[0m\u001b[1;33m(\u001b[0m\u001b[0mweights_calculator\u001b[0m\u001b[1;33m,\u001b[0m\u001b[0muw\u001b[0m\u001b[1;33m.\u001b[0m\u001b[0mswarm\u001b[0m\u001b[1;33m.\u001b[0m\u001b[0m_weights\u001b[0m\u001b[1;33m.\u001b[0m\u001b[0mPCDVC\u001b[0m\u001b[1;33m)\u001b[0m\u001b[1;33m:\u001b[0m\u001b[1;33m\u001b[0m\u001b[0m\n\u001b[1;32m--> 141\u001b[1;33m             \u001b[0mlibUnderworld\u001b[0m\u001b[1;33m.\u001b[0m\u001b[0mPICellerator\u001b[0m\u001b[1;33m.\u001b[0m\u001b[0mWeightsCalculator_CalculateAll\u001b[0m\u001b[1;33m(\u001b[0m \u001b[0mweights_calculator\u001b[0m\u001b[1;33m.\u001b[0m\u001b[0m_cself\u001b[0m\u001b[1;33m,\u001b[0m \u001b[0mself\u001b[0m\u001b[1;33m.\u001b[0m\u001b[0m_cself\u001b[0m \u001b[1;33m)\u001b[0m\u001b[1;33m\u001b[0m\u001b[0m\n\u001b[0m\u001b[0;32m    142\u001b[0m             \u001b[0mlibUnderworld\u001b[0m\u001b[1;33m.\u001b[0m\u001b[0mPICellerator\u001b[0m\u001b[1;33m.\u001b[0m\u001b[0mIntegrationPointsSwarm_ClearSwarmMaps\u001b[0m\u001b[1;33m(\u001b[0m \u001b[0mself\u001b[0m\u001b[1;33m.\u001b[0m\u001b[0m_cself\u001b[0m \u001b[1;33m)\u001b[0m\u001b[1;33m\u001b[0m\u001b[0m\n\u001b[0;32m    143\u001b[0m \u001b[1;33m\u001b[0m\u001b[0m\n",
      "\u001b[1;31mRuntimeError\u001b[0m: Error encountered. Full restart recommended as exception safety not guaranteed. Error message:\nSomething went wrong in _PCDVC_Calculate2D: Problem has an under resolved cell (Cell Id = 0).\nYou may need to check your initial particle layout configuration. A per cell layout might give better results than a global layout, especially where you have a deformed mesh. Also, if particles are able to escape the domain, you can enable aggressive population control by setting the 'particleEscape' swarm constructor parameter."
     ]
    }
   ],
   "source": [
    "#while step < 21:\n",
    "while realtime < 1.:\n",
    "\n",
    "    # solve Stokes and advection systems\n",
    "    solver.solve(nonLinearIterate=True)\n",
    "    dt = advDiff.get_max_dt()\n",
    "    if step == 0:\n",
    "        dt = 0.\n",
    "    advDiff.integrate(dt)\n",
    "    #passiveadvector.integrate(dt)\n",
    "    #for f in interfaces:\n",
    "    #    f.advection(dt)\n",
    "    \n",
    "\n",
    "    # Increment\n",
    "    realtime += dt\n",
    "    step += 1\n",
    "    timevals.append(realtime)\n",
    "    \n",
    "    ################\n",
    "    #Update temperature field in the air region\n",
    "    #Do this better...\n",
    "    ################\n",
    "    if (step % sticky_air_temp == 0):\n",
    "        for index, coord in enumerate(mesh.data):\n",
    "            if coord[1] >= 1.:\n",
    "                temperatureField.data[index] = ndp.TSP\n",
    "                \n",
    "                \n",
    "    ################\n",
    "    # Calculate the Metrics\n",
    "    ################\n",
    "    if (step % metric_output == 0):\n",
    "        \n",
    "        ###############\n",
    "        #Metrics\n",
    "        ###############\n",
    "        areaintRock = _areaintRock.evaluate()[0] #trivial except when using sticky air\n",
    "        tempintRock = _tempintRock.evaluate()[0]\n",
    "        rmsintRock = _rmsintRock.evaluate()[0]\n",
    "        dwintRock = _dwintRock.evaluate()[0]\n",
    "        vdintRock = _vdintRock.evaluate()[0]\n",
    "        areaintLith = _areaintLith.evaluate()[0]\n",
    "        tempintLith = _tempintLith.evaluate()[0]\n",
    "        rmsintLith = _rmsintLith.evaluate()[0]\n",
    "        dwintLith = _dwintLith.evaluate()[0]\n",
    "        vdintLith = _vdintLith.evaluate()[0]\n",
    "    \n",
    "        #Surface integrals\n",
    "        rmsSurf = _rmsSurf.evaluate()[0]\n",
    "        nuTop = _nuTop.evaluate()[0]\n",
    "        nuBottom = _nuBottom.evaluate()[0]\n",
    "        plateness = _plateness.evaluate()[0]\n",
    "        #extrema\n",
    "        maxVel = _maxMinVel.max_global()\n",
    "        minVel = _maxMinVel.min_global() \n",
    "        maxSr = _maxMinSr.max_global()\n",
    "        minSr = _maxMinSr.min_global()\n",
    "        maxVxsurf = _maxMinVxSurf.max_global()\n",
    "        minVxsurf = _maxMinVxSurf.min_global()\n",
    "        # output to summary text file\n",
    "        if uw.rank()==0:\n",
    "            f_o.write((16*'%-15s ' + '\\n') % (areaintRock, tempintRock, rmsintRock, dwintRock, vdintRock,\n",
    "                                  areaintLith, tempintLith,rmsintLith, dwintLith, vdintLith,\n",
    "                                  rmsSurf, nuTop, nuBottom, plateness, ndp.subzone, realtime))\n",
    "\n",
    "    ################\n",
    "    #Also repopulate entire swarm periodically\n",
    "    ################\n",
    "    #if step % swarm_repop == 0:\n",
    "    population_control.repopulate()   \n",
    "    ################\n",
    "    #Gldb output\n",
    "    ################ \n",
    "    if (step % gldbs_output == 0): \n",
    "        if figures == 'gldb':\n",
    "            #Remember to rebuild any necessary swarm variables\n",
    "            fnamedb = \"dbFig\" + \"_\" + str(step) + \".gldb\"\n",
    "            fullpath = os.path.join(outputPath + \"gldbs/\" + fnamedb)\n",
    "            figDb.save_database(fullpath)\n",
    "            \n",
    "            #Temp figure\n",
    "            #fnamedb = \"restrictFig\" + \"_\" + str(step) + \".gldb\"\n",
    "            #fullpath = os.path.join(outputPath + \"gldbs/\" + fnamedb)\n",
    "            #figRestrict.save_database(fullpath)\n",
    "        elif figures == 'store':      \n",
    "            fullpath = os.path.join(outputPath + \"gldbs/\")\n",
    "            store.step = step\n",
    "            #Save figures to store\n",
    "            figVisc.save( fullpath + \"Visc\" + str(step).zfill(4))\n",
    "            #figMech.save( fullPath + \"Mech\" + str(step).zfill(4))\n",
    "            figTemp.save( fullpath + \"Temp\"    + str(step).zfill(4))\n",
    "            figSr.save( fullpath + \"Str_rte\"    + str(step).zfill(4))\n",
    "            \n",
    "    ################\n",
    "    #Files output\n",
    "    ################ \n",
    "    if (step % files_output == 0):\n",
    "\n",
    "        vel_surface = velocityField.evaluate_global(surface_nodes)\n",
    "        norm_surface_sr = normgradV.evaluate_global(surface_nodes)\n",
    "        if uw.rank() == 0:\n",
    "            fnametemp = \"velsurface\" + \"_\" + str(step)\n",
    "            fullpath = os.path.join(outputPath + \"files/\" + fnametemp)\n",
    "            np.save(fullpath, vel_surface)\n",
    "            fnametemp = \"norm_surface_sr\" + \"_\" + str(step)\n",
    "            fullpath = os.path.join(outputPath + \"files/\" + fnametemp)\n",
    "            np.save(fullpath, norm_surface_sr)\n",
    "            \n",
    "    ################\n",
    "    #Update the subduction zone / plate information\n",
    "    ################ \n",
    "    \n",
    "    comm.barrier()\n",
    "    if (step % files_output == 0):\n",
    "        \n",
    "        if uw.rank() == 0:\n",
    "            fnametemp = \"norm_surface_sr\" + \"_\" + str(step) + \".npy\"\n",
    "            fullpath = os.path.join(outputPath + \"files/\" + fnametemp)\n",
    "            ndp.subzone = plate_info(fullpath, MINX, MAXX,  800e3/dp.LS, oldszloc = ndp.subzone)\n",
    "            \n",
    "    \n",
    "    \n",
    "    \n",
    "    ################\n",
    "    #Checkpoint\n",
    "    ################\n",
    "    if step % checkpoint_every == 0:\n",
    "        if uw.rank() == 0:\n",
    "            checkpoint1(step, checkpointPath,f_o, metric_output)           \n",
    "        checkpoint2(step, checkpointPath, gSwarm, f_o, varlist = varlist, varnames = varnames)\n",
    "        #checkpoint3(step,  checkpointPath, interfaces,interfacenames )\n",
    "        f_o = open(os.path.join(outputPath, outputFile), 'a') #is this line supposed to be here?    \n",
    "    \n",
    "    \n",
    "    \n",
    "    \n",
    "f_o.close()\n",
    "print 'step =',step"
   ]
  },
  {
   "cell_type": "code",
   "execution_count": 47,
   "metadata": {
    "collapsed": false
   },
   "outputs": [
    {
     "data": {
      "text/plain": [
       "[0.0035152338272530807]"
      ]
     },
     "execution_count": 47,
     "metadata": {},
     "output_type": "execute_result"
    }
   ],
   "source": [
    "xvelMean = uw.utils.Integral(velocityField[0],  mesh )\n",
    "xvelMean.evaluate()"
   ]
  },
  {
   "cell_type": "code",
   "execution_count": 46,
   "metadata": {
    "collapsed": false
   },
   "outputs": [
    {
     "data": {
      "text/plain": [
       "0.0"
      ]
     },
     "execution_count": 46,
     "metadata": {},
     "output_type": "execute_result"
    }
   ],
   "source": [
    "velocityField[0].evaluate(iWalls).max()"
   ]
  },
  {
   "cell_type": "code",
   "execution_count": 93,
   "metadata": {
    "collapsed": false
   },
   "outputs": [],
   "source": [
    "figVisc= glucifer.Figure(figsize=(300*np.round(md.aspectRatio,2),300))\n",
    "figVisc.append( glucifer.objects.Points(gSwarm,mantleviscosityFn, logScale=True, valueRange =[1e-3,1e5]))\n",
    "figVisc.append(glucifer.objects.VectorArrows(mesh, velocityField))"
   ]
  },
  {
   "cell_type": "code",
   "execution_count": 94,
   "metadata": {
    "collapsed": false
   },
   "outputs": [
    {
     "data": {
      "text/plain": [
       "'test.gldb'"
      ]
     },
     "execution_count": 94,
     "metadata": {},
     "output_type": "execute_result"
    }
   ],
   "source": [
    "#figVisc.save_database('test.gldb')"
   ]
  },
  {
   "cell_type": "code",
   "execution_count": 63,
   "metadata": {
    "collapsed": false
   },
   "outputs": [
    {
     "data": {
      "text/html": [
       "<img src='data:image/png;base64,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'>"
      ],
      "text/plain": [
       "<IPython.core.display.HTML object>"
      ]
     },
     "metadata": {},
     "output_type": "display_data"
    },
    {
     "data": {
      "text/plain": [
       "'test.gldb'"
      ]
     },
     "execution_count": 63,
     "metadata": {},
     "output_type": "execute_result"
    }
   ],
   "source": [
    "fig= glucifer.Figure()\n",
    "#fig.append( glucifer.objects.Surface(mesh, temperatureField))\n",
    "fig.append(glucifer.objects.Mesh(mesh))\n",
    "#fig.append( glucifer.objects.Points(gSwarm, temperatureField))\n",
    "fig.show()\n",
    "fig.save_database('test.gldb')"
   ]
  },
  {
   "cell_type": "code",
   "execution_count": null,
   "metadata": {
    "collapsed": true
   },
   "outputs": [],
   "source": []
  }
 ],
 "metadata": {
  "kernelspec": {
   "display_name": "Python 2",
   "language": "python",
   "name": "python2"
  },
  "language_info": {
   "codemirror_mode": {
    "name": "ipython",
    "version": 2
   },
   "file_extension": ".py",
   "mimetype": "text/x-python",
   "name": "python",
   "nbconvert_exporter": "python",
   "pygments_lexer": "ipython2",
   "version": "2.7.9"
  },
  "widgets": {
   "state": {},
   "version": "1.1.2"
  }
 },
 "nbformat": 4,
 "nbformat_minor": 0
}
