{
 "cells": [
  {
   "cell_type": "markdown",
   "metadata": {},
   "source": [
    "Korenaga 2011\n",
    "======\n",
    "\n",
    "Temperature dependent convection\n",
    "----\n",
    "\n",
    "This Notebooks implements the case of two-dimensional, incompressible, internally-heated fmantle convection.\n",
    "\n",
    "\n",
    "**Keywords:** Stokes system, advective diffusive systems, analysis tools, tools for post analysis, rheologies\n",
    "\n",
    "\n",
    "**References**\n",
    "\n",
    "Korenaga, Jun. \"Scaling of plate tectonic convection with pseudoplastic rheology.\" Journal of Geophysical Research: Solid Earth 115.B11 (2010).\n",
    "http://onlinelibrary.wiley.com/doi/10.1029/2010JB007670/full"
   ]
  },
  {
   "cell_type": "code",
   "execution_count": 1,
   "metadata": {
    "collapsed": false
   },
   "outputs": [],
   "source": [
    "import numpy as np\n",
    "import underworld as uw\n",
    "import math\n",
    "from underworld import function as fn\n",
    "import glucifer\n",
    "\n",
    "import os\n",
    "import sys\n",
    "import natsort\n",
    "import shutil\n",
    "from easydict import EasyDict as edict\n",
    "import operator\n",
    "import pint\n",
    "import time\n",
    "import operator\n",
    "from slippy2 import boundary_layer2d\n",
    "from slippy2 import material_graph\n",
    "\n",
    "from mpi4py import MPI\n",
    "comm = MPI.COMM_WORLD\n",
    "rank = comm.Get_rank()"
   ]
  },
  {
   "cell_type": "markdown",
   "metadata": {},
   "source": [
    "Model name and directories\n",
    "-----"
   ]
  },
  {
   "cell_type": "code",
   "execution_count": 2,
   "metadata": {
    "collapsed": true
   },
   "outputs": [],
   "source": [
    "############\n",
    "#Model name.  \n",
    "############\n",
    "Model = \"T\"\n",
    "ModNum = 6\n",
    "\n",
    "if len(sys.argv) == 1:\n",
    "    ModIt = \"Base\"\n",
    "elif sys.argv[1] == '-f':\n",
    "    ModIt = \"Base\"\n",
    "else:\n",
    "    ModIt = str(sys.argv[1])"
   ]
  },
  {
   "cell_type": "code",
   "execution_count": 3,
   "metadata": {
    "collapsed": false
   },
   "outputs": [],
   "source": [
    "###########\n",
    "#Standard output directory setup\n",
    "###########\n",
    "\n",
    "\n",
    "outputPath = \"results\" + \"/\" +  str(Model) + \"/\" + str(ModNum) + \"/\" + str(ModIt) + \"/\"\n",
    "imagePath = outputPath + 'images/'\n",
    "filePath = outputPath + 'files/'\n",
    "checkpointPath = outputPath + 'checkpoint/'\n",
    "dbPath = outputPath + 'gldbs/'\n",
    "outputFile = 'results_model' + Model + '_' + str(ModNum) + '_' + str(ModIt) + '.dat'\n",
    "\n",
    "if uw.rank()==0:\n",
    "    # make directories if they don't exist\n",
    "    if not os.path.isdir(outputPath):\n",
    "        os.makedirs(outputPath)\n",
    "    if not os.path.isdir(checkpointPath):\n",
    "        os.makedirs(checkpointPath)\n",
    "    if not os.path.isdir(imagePath):\n",
    "        os.makedirs(imagePath)\n",
    "    if not os.path.isdir(dbPath):\n",
    "        os.makedirs(dbPath)\n",
    "    if not os.path.isdir(filePath):\n",
    "        os.makedirs(filePath)\n",
    "        \n",
    "comm.Barrier() #Barrier here so no procs run the check in the next cell too early"
   ]
  },
  {
   "cell_type": "code",
   "execution_count": 4,
   "metadata": {
    "collapsed": false
   },
   "outputs": [
    {
     "name": "stdout",
     "output_type": "stream",
     "text": [
      "results/T/3/Base/checkpoint/ is empty\n"
     ]
    }
   ],
   "source": [
    "###########\n",
    "#Check if starting from checkpoint\n",
    "###########\n",
    "\n",
    "checkdirs = []\n",
    "for dirpath, dirnames, files in os.walk(checkpointPath):\n",
    "    if files:\n",
    "        print dirpath, 'has files'\n",
    "        checkpointLoad = True\n",
    "        checkdirs.append(dirpath)\n",
    "    if not files:\n",
    "        print dirpath, 'is empty'\n",
    "        checkpointLoad = False"
   ]
  },
  {
   "cell_type": "markdown",
   "metadata": {},
   "source": [
    "Setup parameters\n",
    "-----\n",
    "\n",
    "Set simulation parameters for test."
   ]
  },
  {
   "cell_type": "markdown",
   "metadata": {},
   "source": [
    "**Use pint to setup any unit conversions we'll need**"
   ]
  },
  {
   "cell_type": "code",
   "execution_count": 5,
   "metadata": {
    "collapsed": false
   },
   "outputs": [],
   "source": [
    "#u = pint.UnitRegistry()\n",
    "#cmpery = u.cm/u.year\n",
    "#mpermy = u.m/u.megayear\n",
    "\n",
    "#cmpery.to(mpermy)"
   ]
  },
  {
   "cell_type": "markdown",
   "metadata": {},
   "source": [
    "**Set parameter dictionaries**"
   ]
  },
  {
   "cell_type": "code",
   "execution_count": 6,
   "metadata": {
    "collapsed": false
   },
   "outputs": [],
   "source": [
    "#dimensional parameter dictionary\n",
    "dp = edict({'LS':2900.*1e3,\n",
    "           'rho':3300,\n",
    "           'g':9.8, \n",
    "           'eta0':1e21,    #This will give Ra ~ 2e7, closer to models by Van Hunen, Billen etc.\n",
    "           #'eta0': 2.12e22, #This will give Ra = 1e6 as quoted on Korenaga's paper\n",
    "           'k':1e-6,\n",
    "           'a':2e-5, \n",
    "           'deltaT':1350, #Hunen\n",
    "           'TS':273.,\n",
    "           'cohesion':21e6,\n",
    "           'fc':0.04,\n",
    "           'E':240000.,\n",
    "           'V':6.34*(10**-7),\n",
    "           'R':8.314})\n",
    "\n",
    "dp['TI'] = dp.TS + dp.deltaT\n",
    "\n",
    "\n",
    "#scale_factors\n",
    "\n",
    "sf = edict({'stress':dp.LS**2/(dp.k*dp.eta0),\n",
    "            'lith_grad':dp.rho*dp.g*(dp.LS)**3/(dp.eta0*dp.k) ,\n",
    "            'vel':dp.LS/dp.k,\n",
    "            'SR':dp.LS**2/dp.k,\n",
    "            'W':(dp.rho*dp.g*dp.LS)/(dp.R*dp.deltaT), #This is the activation energy scale, in terms of depth (not pressure)\n",
    "            'E': 1./(dp.R*dp.deltaT)})\n",
    "\n",
    "#dimensionless parameters\n",
    "\n",
    "\n",
    "ndp = edict({'RA':(dp.g*dp.rho*dp.a*dp.deltaT*(dp.LS)**3)/(dp.k*dp.eta0),\n",
    "            'cohesion':dp.cohesion*sf.stress,\n",
    "            'fcd':dp.fc*sf.lith_grad,\n",
    "            'gamma':dp.fc/(dp.a*dp.deltaT),\n",
    "            'E':dp.E*sf.E,\n",
    "             'W':dp.V*sf.W,\n",
    "            'TSP':0., \n",
    "            'TIP':1.,\n",
    "            'n':1.,\n",
    "            'TS':dp.TS/dp.deltaT,\n",
    "            'TI':dp.TI/dp.deltaT,\n",
    "            'eta_min':1e-3,\n",
    "            'eta_max':1e5,\n",
    "            'H':20.,\n",
    "            'Tmvp':0.6})\n",
    "\n",
    "\n",
    "\n",
    "#ndp.RA = 1e6 #this is what Korenaga sets it to\n",
    "\n",
    "dp.VR = (0.1*(dp.k/dp.LS)*ndp.RA**(2/3.)) #characteristic velocity\n",
    "dp.SR = dp.VR/dp.LS #characteristic strain rate\n",
    "\n",
    "ndp.VR = dp.VR*sf.vel #characteristic velocity\n",
    "ndp.SR = dp.SR*sf.SR #characteristic strain rate"
   ]
  },
  {
   "cell_type": "code",
   "execution_count": 7,
   "metadata": {
    "collapsed": false
   },
   "outputs": [
    {
     "data": {
      "text/plain": [
       "5.297652687568493"
      ]
     },
     "execution_count": 7,
     "metadata": {},
     "output_type": "execute_result"
    }
   ],
   "source": [
    "#(dp.g*dp.rho*dp.a*dp.deltaT*(dp.LS)**3)/(dp.k*1e6)\n",
    "#sf.SR/(60*60*24*365*1e6)\n",
    "#dp.LS**2/dp.k\n",
    "#sf.SR\n",
    "ndp.W"
   ]
  },
  {
   "cell_type": "code",
   "execution_count": 8,
   "metadata": {
    "collapsed": false
   },
   "outputs": [],
   "source": [
    "#hDim = 5.44e-12 #crameri and tackley\n",
    "#hDim = 2.47e-11 #Turcott and Schubert\n",
    "#tc = 3\n",
    "#Ts = (dp.rho*hDim*dp.LS**2)/tc\n",
    "\n",
    "#RAh = Ts*(dp.a*dp.g*dp.rho*(dp.LS**3))/(dp.k*dp.eta0)\n",
    "#print(Ts, RAh)"
   ]
  },
  {
   "cell_type": "code",
   "execution_count": 9,
   "metadata": {
    "collapsed": false
   },
   "outputs": [],
   "source": [
    "#A few parameters defining lengths scales, affects materal transistions etc.\n",
    "MANTLETOCRUST = (20.*1e3)/dp.LS #Crust depth\n",
    "CRUSTTOMANTLE = (900.*1e3)/dp.LS \n",
    "LITHTOMANTLE = (900.*1e3)/dp.LS \n",
    "MANTLETOLITH = (200.*1e3)/dp.LS \n",
    "TOPOHEIGHT = (0.*1e3)/dp.LS  #rock-air topography limits\n",
    "CRUSTTOECL  = (100.*1e3)/dp.LS\n",
    "AVGTEMP = ndp.TIP #Used to define lithosphere\n"
   ]
  },
  {
   "cell_type": "markdown",
   "metadata": {},
   "source": [
    "**Model setup parameters**"
   ]
  },
  {
   "cell_type": "code",
   "execution_count": 10,
   "metadata": {
    "collapsed": false
   },
   "outputs": [],
   "source": [
    "###########\n",
    "#Model setup parameters\n",
    "###########\n",
    "\n",
    "refineMesh = False\n",
    "stickyAir = False \n",
    "arrhenius = True\n",
    "lower_mantle = False\n",
    "melt_viscosity_reduction= False\n",
    "\n",
    "\n",
    "\n",
    "MINX = -2.\n",
    "MINY = 0.\n",
    "MAXX = 2.\n",
    "\n",
    "#MAXY = 1.035\n",
    "MAXY = 1.\n",
    "\n",
    "if MINX == 0.:\n",
    "    squareModel = True\n",
    "else: \n",
    "    squareModel = False\n",
    "    \n",
    "    \n",
    "dim = 2          # number of spatial dimensions\n",
    "\n",
    "\n",
    "#MESH STUFF\n",
    "\n",
    "RES = 92\n",
    "\n",
    "\n",
    "Xres = int(RES*4)\n",
    "\n",
    "\n",
    "if stickyAir:\n",
    "    Yres = RES\n",
    "    MAXY = 1. + dp.StALS/dp.LS #150km\n",
    "    \n",
    "else:\n",
    "    Yres = RES\n",
    "    MAXY = 1.\n",
    "\n",
    "\n",
    "periodic = [True, False]\n",
    "#elementType = \"Q1/dQ0\"\n",
    "elementType =\"Q2/DPC1\"\n",
    "\n",
    "\n",
    "#System/Solver stuff\n",
    "\n",
    "PIC_integration=True\n",
    "ppc = 25\n",
    "\n",
    "#Output and safety stuff\n",
    "\n",
    "swarm_repop, swarm_update = 10, 10\n",
    "gldbs_output = 50\n",
    "checkpoint_every, files_output = 50, 50\n",
    "metric_output = 10"
   ]
  },
  {
   "cell_type": "markdown",
   "metadata": {},
   "source": [
    "Create mesh and finite element variables\n",
    "------"
   ]
  },
  {
   "cell_type": "code",
   "execution_count": 11,
   "metadata": {
    "collapsed": false
   },
   "outputs": [],
   "source": [
    "mesh = uw.mesh.FeMesh_Cartesian( elementType = (\"Q1/dQ0\"),\n",
    "                                 elementRes  = (Xres, Yres), \n",
    "                                 minCoord    = (MINX, MINY), \n",
    "                                 maxCoord    = (MAXX, MAXY))\n",
    "velocityField       = uw.mesh.MeshVariable( mesh=mesh,         nodeDofCount=2 )\n",
    "pressureField       = uw.mesh.MeshVariable( mesh=mesh.subMesh, nodeDofCount=1 )\n",
    "temperatureField    = uw.mesh.MeshVariable( mesh=mesh,         nodeDofCount=1 )\n",
    "temperatureDotField = uw.mesh.MeshVariable( mesh=mesh,         nodeDofCount=1 )"
   ]
  },
  {
   "cell_type": "markdown",
   "metadata": {},
   "source": [
    "Initial conditions\n",
    "-------\n"
   ]
  },
  {
   "cell_type": "markdown",
   "metadata": {},
   "source": [
    "**Plot initial temperature**"
   ]
  },
  {
   "cell_type": "code",
   "execution_count": 12,
   "metadata": {
    "collapsed": true
   },
   "outputs": [],
   "source": [
    "coordinate = fn.input()\n",
    "depthFn = 1. - coordinate[1]"
   ]
  },
  {
   "cell_type": "code",
   "execution_count": 13,
   "metadata": {
    "collapsed": false
   },
   "outputs": [],
   "source": [
    "if not checkpointLoad:\n",
    "    # Setup temperature initial condition via numpy arrays\n",
    "    A = 0.2\n",
    "    #Note that width = height = 1\n",
    "    pertCoeff = depthFn + A*(fn.math.cos( math.pi * coordinate[0])  * fn.math.sin( math.pi * coordinate[1] ))        \n",
    "    temperatureField.data[:] = pertCoeff.evaluate(mesh)  "
   ]
  },
  {
   "cell_type": "code",
   "execution_count": 14,
   "metadata": {
    "collapsed": false
   },
   "outputs": [
    {
     "data": {
      "text/plain": [
       "False"
      ]
     },
     "execution_count": 14,
     "metadata": {},
     "output_type": "execute_result"
    }
   ],
   "source": [
    "SlabIC = True\n",
    "checkpointLoad"
   ]
  },
  {
   "cell_type": "code",
   "execution_count": null,
   "metadata": {
    "collapsed": true
   },
   "outputs": [],
   "source": [
    "slabFn = fn.math.erf()"
   ]
  },
  {
   "cell_type": "code",
   "execution_count": 37,
   "metadata": {
    "collapsed": false
   },
   "outputs": [],
   "source": [
    "if not checkpointLoad and SlabIC:\n",
    "    temperatureField.data[:] = 1.\n",
    "    def wbl(x, w0 = 0.1):\n",
    "        #print x\n",
    "        delx = 1. - abs(x)\n",
    "        Wbl = w0*math.sqrt(delx + 1e-7)\n",
    "        if Wbl== 0.: #to avoid division by zero\n",
    "            Wbl = 1e-8\n",
    "        return Wbl\n",
    "\n",
    "\n",
    "    def tempf(z,w,tm=1., ts = 0.12):\n",
    "        temp = (tm - ts) *math.erf((1-z)/w) + ts\n",
    "        return temp\n",
    "    \n",
    "    for index, coord in enumerate(mesh.data):\n",
    "        if coord[0] > 0. and coord[0] < 1:\n",
    "            w = wbl(coord[0])\n",
    "            t = tempf(coord[1], w)\n",
    "            temperatureField.data[index] = t\n",
    "        elif coord[0] < 0. and coord[0] > -1.:\n",
    "            w = wbl(coord[0])\n",
    "            t = tempf(coord[1], w)\n",
    "            temperatureField.data[index] = t\n",
    "        \n",
    "\n",
    "\n",
    "    #for index, coord in enumerate(mesh.data):\n",
    "    #    if abs(coord[0]) < wbl(0)/2. and coord[1] > 0.5:\n",
    "    #        w = wbl(0)/2.\n",
    "    #        d = w - abs(coord[0])\n",
    "    #        t = tempf(d, coord[1], w)\n",
    "    #        temperatureField.data[index] = t\n",
    "\n",
    "    for index, coord in enumerate(mesh.data):\n",
    "        if abs(coord[0]) < wbl(0)/2. and coord[1] > 0.5 and coord[1] < 0.99:\n",
    "            w = wbl(0)\n",
    "            d = 1. - abs(coord[0])\n",
    "            t = tempf(d, w)\n",
    "            temperatureField.data[index] = t"
   ]
  },
  {
   "cell_type": "code",
   "execution_count": 38,
   "metadata": {
    "collapsed": false
   },
   "outputs": [],
   "source": [
    "if not checkpointLoad:\n",
    "    random_temp_fac = 0.05\n",
    "    for index, coord in enumerate(mesh.data):\n",
    "        pertCoeff = (random_temp_fac *(np.random.rand(1)[0] - 0.5)) #this should create values between [-0.5,0.5] from uniform dist.\n",
    "        temperatureField.data[index] += pertCoeff"
   ]
  },
  {
   "cell_type": "code",
   "execution_count": 41,
   "metadata": {
    "collapsed": false
   },
   "outputs": [
    {
     "data": {
      "text/html": [
       "<img src='data:image/png;base64,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'>"
      ],
      "text/plain": [
       "<IPython.core.display.HTML object>"
      ]
     },
     "metadata": {},
     "output_type": "display_data"
    }
   ],
   "source": [
    "figtemp = glucifer.Figure()\n",
    "figtemp.append( glucifer.objects.Surface(mesh, temperatureField) )\n",
    "\n",
    "figtemp.show()\n",
    "#figtemp.save_database('test.gldb')"
   ]
  },
  {
   "cell_type": "markdown",
   "metadata": {},
   "source": [
    "**Boundary conditions**"
   ]
  },
  {
   "cell_type": "code",
   "execution_count": 40,
   "metadata": {
    "collapsed": false
   },
   "outputs": [],
   "source": [
    "for index in mesh.specialSets[\"MinJ_VertexSet\"]:\n",
    "    temperatureField.data[index] = ndp.TIP\n",
    "for index in mesh.specialSets[\"MaxJ_VertexSet\"]:\n",
    "    temperatureField.data[index] = ndp.TSP\n",
    "    \n",
    "iWalls = mesh.specialSets[\"MinI_VertexSet\"] + mesh.specialSets[\"MaxI_VertexSet\"]\n",
    "jWalls = mesh.specialSets[\"MinJ_VertexSet\"] + mesh.specialSets[\"MaxJ_VertexSet\"]\n",
    "tWalls = mesh.specialSets[\"MaxJ_VertexSet\"]\n",
    "bWalls =mesh.specialSets[\"MinJ_VertexSet\"]\n",
    "\n",
    "\n",
    "freeslipBC = uw.conditions.DirichletCondition( variable      = velocityField, \n",
    "                                               indexSetsPerDof = ( iWalls, jWalls) )\n",
    "# also set dirichlet for temp field\n",
    "dirichTempBC = uw.conditions.DirichletCondition(     variable=temperatureField, \n",
    "                                              indexSetsPerDof=(tWalls,) )\n",
    "dT_dy = [0.,0.]\n",
    "\n",
    "# also set dirichlet for temp field\n",
    "neumannTempBC = uw.conditions.NeumannCondition( dT_dy, variable=temperatureField, \n",
    "                                         nodeIndexSet=bWalls)\n",
    "\n"
   ]
  },
  {
   "cell_type": "markdown",
   "metadata": {},
   "source": [
    "Particles\n",
    "-----\n"
   ]
  },
  {
   "cell_type": "code",
   "execution_count": null,
   "metadata": {
    "collapsed": false
   },
   "outputs": [],
   "source": [
    "###########\n",
    "#Material Swarm and variables\n",
    "###########\n",
    "\n",
    "\n",
    "gSwarm = uw.swarm.Swarm(mesh=mesh, particleEscape=True)\n",
    "\n",
    "yieldingCheck = gSwarm.add_variable( dataType=\"int\", count=1 )\n",
    "tracerVariable = gSwarm.add_variable( dataType=\"int\", count=1)\n",
    "materialVariable = gSwarm.add_variable( dataType=\"int\", count=1 )\n",
    "timeVariable = gSwarm.add_variable( dataType=\"float\", count=1 )\n",
    "\n",
    "\n"
   ]
  },
  {
   "cell_type": "code",
   "execution_count": null,
   "metadata": {
    "collapsed": false
   },
   "outputs": [],
   "source": [
    "varlist = [tracerVariable, tracerVariable, yieldingCheck]\n",
    "\n",
    "varlist = [materialVariable, yieldingCheck, timeVariable]\n",
    "varnames = ['materialVariable', 'yieldingCheck', 'timeVariable']"
   ]
  },
  {
   "cell_type": "code",
   "execution_count": null,
   "metadata": {
    "collapsed": false
   },
   "outputs": [],
   "source": [
    "mantleIndex = 0\n",
    "lithosphereIndex = 1\n",
    "crustIndex = 2\n",
    "eclIndex = 3\n",
    "\n",
    "\n",
    "if checkpointLoad:\n",
    "    checkpointLoadDir = natsort.natsort(checkdirs)[-1]\n",
    "    temperatureField.load(os.path.join(checkpointLoadDir, \"temperatureField\" + \".hdf5\"))\n",
    "    pressureField.load(os.path.join(checkpointLoadDir, \"pressureField\" + \".hdf5\"))\n",
    "    velocityField.load(os.path.join(checkpointLoadDir, \"velocityField\" + \".hdf5\"))\n",
    "    gSwarm.load(os.path.join(checkpointLoadDir, \"swarm\" + \".h5\"))\n",
    "    for ix in range(len(varlist)):\n",
    "        varb = varlist[ix]\n",
    "        varb.load(os.path.join(checkpointLoadDir,varnames[ix] + \".h5\"))\n",
    "\n",
    "else:\n",
    "\n",
    "    # Layouts are used to populate the swarm across the whole domain\n",
    "    # Create the layout object\n",
    "    layout = uw.swarm.layouts.PerCellRandomLayout(swarm=gSwarm, particlesPerCell=ppc)\n",
    "    # Now use it to populate.\n",
    "    gSwarm.populate_using_layout( layout=layout )\n",
    "\n",
    "    # Swarm variables\n",
    "    materialVariable.data[:] = mantleIndex\n",
    "    tracerVariable.data[:] = 1\n",
    "    yieldingCheck.data[:] = 0\n",
    "    timeVariable.data[:] = 0.\n",
    "    \n",
    "    #Set initial air and crust materials (allow the graph to take care of lithsophere)\n",
    "    #########\n",
    "    #This initial material setup will be model dependent\n",
    "    #########\n",
    "    for particleID in range(gSwarm.particleCoordinates.data.shape[0]):\n",
    "        if (1. - gSwarm.particleCoordinates.data[particleID][1]) < MANTLETOCRUST:\n",
    "                 materialVariable.data[particleID] = crustIndex"
   ]
  },
  {
   "cell_type": "markdown",
   "metadata": {
    "collapsed": true
   },
   "source": [
    "**Passive tracer layout**"
   ]
  },
  {
   "cell_type": "code",
   "execution_count": null,
   "metadata": {
    "collapsed": false
   },
   "outputs": [],
   "source": [
    "#Passive tracers are not included in checkpoint - Probably best to remove this once models are properly bugchecked\n",
    "\n",
    "square_size = 0.1\n",
    "\n",
    "xlist = np.arange(mesh.minCoord[0] + square_size/2., mesh.maxCoord[0] + square_size/2., square_size)\n",
    "xlist = zip(xlist[:], xlist[1:])[::2]\n",
    "ylist = np.arange(mesh.minCoord[1] + square_size/2., mesh.maxCoord[1] + square_size/2., square_size)\n",
    "ylist = zip(ylist[:], ylist[1:])[::2]\n",
    "xops = []\n",
    "for vals in xlist:\n",
    "    xops.append( (operator.and_(   operator.gt(coordinate[0],vals[0]),   operator.lt(coordinate[0],vals[1])  ),0.) )\n",
    "xops.append((True,1.))\n",
    "\n",
    "testfunc = fn.branching.conditional(xops) \n",
    "\n",
    "yops = []\n",
    "for vals in ylist:\n",
    "    yops.append( (operator.and_(   operator.gt(coordinate[1],vals[0]),   operator.lt(coordinate[1],vals[1])  ),0.) )\n",
    "yops.append((True,testfunc))\n",
    "\n",
    "testfunc2 = fn.branching.conditional(yops) \n",
    "\n",
    "tracerVariable.data[:] = testfunc.evaluate(gSwarm)\n",
    "tracerVariable.data[:] = testfunc2.evaluate(gSwarm)"
   ]
  },
  {
   "cell_type": "markdown",
   "metadata": {
    "collapsed": false
   },
   "source": [
    "**Material swarm and graphs**"
   ]
  },
  {
   "cell_type": "code",
   "execution_count": null,
   "metadata": {
    "collapsed": false
   },
   "outputs": [],
   "source": [
    "\n",
    "##############\n",
    "#Important: This is a quick fix for a bug that arises in parallel runs\n",
    "##############\n",
    "material_list = [0,1,2,3]"
   ]
  },
  {
   "cell_type": "code",
   "execution_count": null,
   "metadata": {
    "collapsed": true
   },
   "outputs": [],
   "source": []
  },
  {
   "cell_type": "code",
   "execution_count": null,
   "metadata": {
    "collapsed": false
   },
   "outputs": [],
   "source": [
    "#All depth conditions are given as (km/D) where D is the length scale,\n",
    "#note that 'model depths' are used, e.g. 1-z, where z is the vertical Underworld coordinate\n",
    "#All temp conditions are in dimensionless temp. [0. - 1.]\n",
    "\n",
    "materialVariable.data[:] = 0\n",
    "\n",
    "#######Graph object\n",
    "#DG = nx.DiGraph(field=\"Depth\")\n",
    "DG = material_graph.MatGraph()\n",
    "\n",
    "#Important: First thing to do is to add all the material types to the graph (i.e add nodes)\n",
    "DG.add_nodes_from(material_list)\n",
    "\n",
    "\n",
    "#Anything to mantle\n",
    "DG.add_transition((crustIndex,mantleIndex), depthFn, operator.gt, CRUSTTOMANTLE)\n",
    "\n",
    "#Anything to crust\n",
    "DG.add_transition((mantleIndex,crustIndex), depthFn, operator.lt, MANTLETOCRUST)\n",
    "\n",
    "#Anything to lithsphere\n",
    "#DG.add_transition((mantleIndex,lithosphereIndex), depthFn, operator.lt, MANTLETOLITH)\n",
    "#DG.add_transition((mantleIndex,lithosphereIndex), temperatureField, operator.lt, 0.85*AVGTEMP)\n",
    "\n",
    "\n",
    "#crust to eclogite\n",
    "#DG.add_edges_from([(3,2)])\n",
    "#DG[3][2]['depthcondition'] =CRUSTTOECL\n",
    "#DG.add_transition((3,2), depthFn, operator.gt, CRUSTTOECL)"
   ]
  },
  {
   "cell_type": "code",
   "execution_count": null,
   "metadata": {
    "collapsed": true
   },
   "outputs": [],
   "source": [
    "#dummyData = np.copy(materialVariable.data)#This is part of a hack that resets ages when a material type changes\n",
    "\n",
    "DG.build_condition_list(materialVariable)\n",
    "for i in range(2): #Need to go through twice first time through\n",
    "    materialVariable.data[:] = fn.branching.conditional(DG.condition_list).evaluate(gSwarm)\n",
    "    \n",
    "#timeVariable.data[np.where(dummyData[:] != materialVariable.data[:])] = 0. #resets those ages when a material type change\n",
    "#np.unique(timeVariable.data)"
   ]
  },
  {
   "cell_type": "code",
   "execution_count": null,
   "metadata": {
    "collapsed": false
   },
   "outputs": [],
   "source": []
  },
  {
   "cell_type": "code",
   "execution_count": null,
   "metadata": {
    "collapsed": false
   },
   "outputs": [],
   "source": []
  },
  {
   "cell_type": "code",
   "execution_count": null,
   "metadata": {
    "collapsed": false
   },
   "outputs": [],
   "source": [
    "fig= glucifer.Figure()\n",
    "#fig.append( glucifer.objects.Points(gSwarm,tracerVariable, colours= 'white black'))\n",
    "fig.append( glucifer.objects.Points(gSwarm,materialVariable))\n",
    "#fig.append( glucifer.objects.Surface(mesh, dummyField))\n",
    "#fig.show()"
   ]
  },
  {
   "cell_type": "markdown",
   "metadata": {},
   "source": [
    "Set up material parameters and functions\n",
    "-----\n",
    "\n",
    "Setup the viscosity to be a function of the temperature. Recall that these functions and values are preserved for the entire simulation time. "
   ]
  },
  {
   "cell_type": "code",
   "execution_count": null,
   "metadata": {
    "collapsed": false
   },
   "outputs": [],
   "source": [
    "# The yeilding of the upper slab is dependent on the strain rate.\n",
    "strainRate_2ndInvariant = fn.tensor.second_invariant( \n",
    "                            fn.tensor.symmetric( \n",
    "                            velocityField.fn_gradient ))\n",
    "\n",
    "\n",
    "theta = (dp.E *dp.deltaT)/(dp.R*(dp.TS + dp.deltaT)**2)\n",
    "\n",
    "gamma = dp.fc/(dp.a*dp.deltaT)\n",
    "print(theta, gamma )\n"
   ]
  },
  {
   "cell_type": "code",
   "execution_count": null,
   "metadata": {
    "collapsed": false
   },
   "outputs": [],
   "source": [
    "#overide these parameters to match the reference case quoted on page 5\n",
    "theta = 15.\n",
    "gamma = 0.6\n",
    "ndp.E = 11.\n",
    "ndp.W = 3.\n",
    "\n"
   ]
  },
  {
   "cell_type": "code",
   "execution_count": null,
   "metadata": {
    "collapsed": false
   },
   "outputs": [],
   "source": [
    "############\n",
    "#Rheology\n",
    "#############\n",
    "#\n",
    "#The final mantle rheology is composed as follows*:\n",
    "# \n",
    "#\n",
    "# mantleviscosityFn = max{  min{(1/omega*nonlinearVisc + 1/eta_p)**-1,\n",
    "#                           eta_max},\n",
    "#                           eta_min}\n",
    "#                      \n",
    "#nonlinearVisc => FK viscosity (could be linear or non linear)\n",
    "#eta_p   => stress-limiting effective viscosity\n",
    "#\n",
    "\n",
    "\n",
    "omega = fn.misc.constant(1.)\n",
    "\n",
    "if melt_viscosity_reduction:\n",
    "    mvr =  fn.branching.conditional( [ (temperatureField > (ndp.Tmvp + 7.5*(1. - coordinate[1])) , 0.1 ),   (         True, 1.) ] )\n",
    "    omega = omega*mvr\n",
    "\n",
    "\n",
    "#implementation of the lower mantle viscosity increase, similar to Bello et al. 2015\n",
    "a = 1.\n",
    "B = 30.\n",
    "d0 = 660e3/dp.LS  \n",
    "ds = d0/10.\n",
    "if lower_mantle:\n",
    "    inner1 = 1. - 0.5*(1. - fn.math.tanh(((1. - d0)-(coordinate[1]))/(ds)))\n",
    "    modfac = a*fn.math.exp(np.log(B)*inner1)\n",
    "    omega = omega*modfac\n",
    "\n",
    "\n",
    "\n",
    "linearVisc = fn.math.exp(theta*(1. - temperatureField))\n",
    "nl_correction = (strainRate_2ndInvariant/ndp.SR)**((1.-ndp.n)/(ndp.n))\n",
    "nonlinearVisc = omega*nl_correction*linearVisc\n",
    "if arrhenius:\n",
    "    enthalpyFn = ndp.E + depthFn*ndp.W #\"activation enthalpy\"\n",
    "    nonlinearVisc = fn.misc.min(ndp.eta_max, omega*fn.math.exp(((enthalpyFn)/(ndp.n*(temperatureField + ndp.TS))) \n",
    "                                                        - ((ndp.E )/(ndp.n*(ndp.TIP + ndp.TS)))))\n",
    "\n",
    "ys =  (gamma*ndp.RA*1e-5) + (depthFn*gamma*ndp.RA) #tau_1 * 1e-5 is the cohesion value used in the paper\n",
    "if arrhenius:\n",
    "    ys =  ndp.cohesion + (depthFn*gamma*ndp.RA) #In this case we'll use a more standard cohesion\n",
    "yielding = ys/(strainRate_2ndInvariant/math.sqrt(0.5)) #extra factor to account for underworld second invariant form\n",
    "\n",
    "\n",
    "mantleviscosityFn = fn.misc.max(fn.misc.min(1./(((1./nonlinearVisc) + (1./yielding))), ndp.eta_max), ndp.eta_min)\n",
    "\n",
    "\n",
    "##Crust rheology\n",
    "ysc = ys\n",
    "#ysc = ys*0.1\n",
    "crust_yielding = ys/(strainRate_2ndInvariant/math.sqrt(0.5)) #extra factor to account for underworld second invariant form\n",
    "crustviscosityFn = fn.misc.max(fn.misc.min(1./(((1./nonlinearVisc) + (1./crust_yielding))), ndp.eta_max), ndp.eta_min)\n"
   ]
  },
  {
   "cell_type": "code",
   "execution_count": null,
   "metadata": {
    "collapsed": false
   },
   "outputs": [],
   "source": [
    "(2/16.)*dp.LS, (0.06)*dp.LS"
   ]
  },
  {
   "cell_type": "markdown",
   "metadata": {},
   "source": [
    "**Plot the initial viscosity**\n",
    "\n",
    "Plot the viscosity, which is a function of temperature, using the initial temperature conditions set above."
   ]
  },
  {
   "cell_type": "code",
   "execution_count": null,
   "metadata": {
    "collapsed": false
   },
   "outputs": [],
   "source": [
    "figEta = glucifer.Figure()\n",
    "figEta.append( glucifer.objects.Surface(mesh, enthalpyFn, logScale=True) )\n",
    "#figEta.save_database('test.gldb')\n",
    "figEta.show()"
   ]
  },
  {
   "cell_type": "markdown",
   "metadata": {},
   "source": [
    "System setup\n",
    "-----\n",
    "\n",
    "Since we are using a previously constructed temperature field, we will use a single Stokes solve to get consistent velocity and pressure fields.\n",
    "\n",
    "**Setup a Stokes system**"
   ]
  },
  {
   "cell_type": "code",
   "execution_count": null,
   "metadata": {
    "collapsed": false
   },
   "outputs": [],
   "source": [
    "# Here we set a viscosity value of '1.' for both materials\n",
    "viscosityMapFn = fn.branching.map( fn_key = materialVariable,\n",
    "                         mapping = {lithosphereIndex:mantleviscosityFn, \n",
    "                                    crustIndex:crustviscosityFn,\n",
    "                                    mantleIndex:mantleviscosityFn, \n",
    "                                    eclIndex:mantleviscosityFn} )"
   ]
  },
  {
   "cell_type": "code",
   "execution_count": null,
   "metadata": {
    "collapsed": false
   },
   "outputs": [],
   "source": [
    "# Construct our density function.\n",
    "densityFn = ndp.RA * temperatureField\n",
    "\n",
    "# Define our vertical unit vector using a python tuple (this will be automatically converted to a function).\n",
    "gravity = ( 0.0, 1.0 )\n",
    "\n",
    "# Now create a buoyancy force vector using the density and the vertical unit vector. \n",
    "buoyancyFn = densityFn * gravity"
   ]
  },
  {
   "cell_type": "code",
   "execution_count": null,
   "metadata": {
    "collapsed": false
   },
   "outputs": [],
   "source": [
    "stokesPIC = uw.systems.Stokes(velocityField=velocityField, \n",
    "                              pressureField=pressureField,\n",
    "                              conditions=[freeslipBC,],\n",
    "                              fn_viscosity=linearVisc, \n",
    "                              fn_bodyforce=buoyancyFn )"
   ]
  },
  {
   "cell_type": "markdown",
   "metadata": {},
   "source": [
    "**Set up and solve the Stokes system**"
   ]
  },
  {
   "cell_type": "code",
   "execution_count": null,
   "metadata": {
    "collapsed": false
   },
   "outputs": [],
   "source": [
    "solver = uw.systems.Solver(stokesPIC)\n",
    "solver.solve()"
   ]
  },
  {
   "cell_type": "markdown",
   "metadata": {},
   "source": [
    "**Add the non-linear viscosity to the Stokes system**\n"
   ]
  },
  {
   "cell_type": "code",
   "execution_count": null,
   "metadata": {
    "collapsed": true
   },
   "outputs": [],
   "source": [
    "stokesPIC.fn_viscosity = viscosityMapFn"
   ]
  },
  {
   "cell_type": "code",
   "execution_count": null,
   "metadata": {
    "collapsed": false
   },
   "outputs": [],
   "source": [
    "solver.set_inner_method(\"mumps\")\n",
    "solver.options.scr.ksp_type=\"cg\"\n",
    "solver.set_penalty(1.0e7)\n",
    "solver.options.scr.ksp_rtol = 1.0e-4\n",
    "solver.solve(nonLinearIterate=True)\n",
    "solver.print_stats()"
   ]
  },
  {
   "cell_type": "code",
   "execution_count": null,
   "metadata": {
    "collapsed": false
   },
   "outputs": [],
   "source": []
  },
  {
   "cell_type": "code",
   "execution_count": null,
   "metadata": {
    "collapsed": false
   },
   "outputs": [],
   "source": []
  },
  {
   "cell_type": "markdown",
   "metadata": {},
   "source": [
    "**Create an advective diffusive system**"
   ]
  },
  {
   "cell_type": "code",
   "execution_count": null,
   "metadata": {
    "collapsed": true
   },
   "outputs": [],
   "source": [
    "advDiff = uw.systems.AdvectionDiffusion( phiField       = temperatureField, \n",
    "                                         phiDotField    = temperatureDotField, \n",
    "                                         velocityField  = velocityField,\n",
    "                                         fn_sourceTerm    = 20.0,\n",
    "                                         fn_diffusivity = 1.0, \n",
    "                                         conditions     = [neumannTempBC, dirichTempBC] )\n",
    "\n",
    "passiveadvector = uw.systems.SwarmAdvector( swarm         = gSwarm, \n",
    "                                     velocityField = velocityField, \n",
    "                                     order         = 1)"
   ]
  },
  {
   "cell_type": "code",
   "execution_count": null,
   "metadata": {
    "collapsed": true
   },
   "outputs": [],
   "source": [
    "population_control = uw.swarm.PopulationControl(gSwarm,deleteThreshold=0.2,splitThreshold=1.,maxDeletions=3,maxSplits=0, aggressive=True, particlesPerCell=ppc)"
   ]
  },
  {
   "cell_type": "markdown",
   "metadata": {},
   "source": [
    "Analysis tools\n",
    "-----"
   ]
  },
  {
   "cell_type": "code",
   "execution_count": null,
   "metadata": {
    "collapsed": true
   },
   "outputs": [],
   "source": [
    "#These are functions we can use to evuate integrals over restricted parts of the domain\n",
    "# For instance, we can exclude the thermal lithosphere from integrals\n",
    "\n",
    "def temprestrictionFn(lithval = 0.9):\n",
    "\n",
    "    tempMM = fn.view.min_max(temperatureField)\n",
    "    tempMM.evaluate(mesh)\n",
    "    TMAX = tempMM.max_global()\n",
    "    mantleconditions = [ (                                  temperatureField > lithval*TMAX, 1.),\n",
    "                   (                                                   True , 0.) ]\n",
    "\n",
    "\n",
    "    return fn.branching.conditional(mantleconditions)\n",
    "\n",
    "mantlerestrictFn = temprestrictionFn(lithval = 0.85)\n",
    "\n",
    "\n",
    "\n",
    "def platenessFn(val = 0.1):\n",
    "    normgradV = fn.math.abs(velocityField.fn_gradient[0]/fn.math.sqrt(velocityField[0]*velocityField[0])) #[du*/dx]/sqrt(u*u)\n",
    "\n",
    "\n",
    "\n",
    "    srconditions = [ (                                  normgradV < val, 1.),\n",
    "                   (                                                   True , 0.) ]\n",
    "\n",
    "\n",
    "    return fn.branching.conditional(srconditions)\n",
    "\n",
    "srrestrictFn = platenessFn(val = 0.1)"
   ]
  },
  {
   "cell_type": "code",
   "execution_count": null,
   "metadata": {
    "collapsed": false
   },
   "outputs": [],
   "source": [
    "#fig = glucifer.Figure()\n",
    "#fig.append( glucifer.objects.Surface(mesh, mantlerestrictFn) )\n",
    "\n",
    "#fig.show()\n",
    "#fig.save_database('test.gldb')"
   ]
  },
  {
   "cell_type": "code",
   "execution_count": null,
   "metadata": {
    "collapsed": false
   },
   "outputs": [],
   "source": [
    "#Setup volume integrals \n",
    "\n",
    "tempint = uw.utils.Integral( temperatureField, mesh )\n",
    "areaint = uw.utils.Integral( 1.,               mesh )\n",
    "\n",
    "v2int   = uw.utils.Integral( fn.math.dot(velocityField,velocityField), mesh )\n",
    "\n",
    "dwint   = uw.utils.Integral( temperatureField*velocityField[1], mesh )\n",
    "\n",
    "sinner = fn.math.dot( strainRate_2ndInvariant, strainRate_2ndInvariant )\n",
    "vdint = uw.utils.Integral( (4.*viscosityMapFn*sinner), mesh )\n",
    "\n",
    "mantleArea   = uw.utils.Integral( mantlerestrictFn, mesh )\n",
    "mantleTemp = uw.utils.Integral( temperatureField*mantlerestrictFn, mesh )\n",
    "mantleVisc = uw.utils.Integral( mantleviscosityFn*mantlerestrictFn, mesh )\n",
    "mantleVd = uw.utils.Integral( (4.*viscosityMapFn*sinner*mantlerestrictFn), mesh ) #these now work on MappingFunctions"
   ]
  },
  {
   "cell_type": "code",
   "execution_count": null,
   "metadata": {
    "collapsed": true
   },
   "outputs": [],
   "source": [
    "#Setup surface integrals\n",
    "\n",
    "rmsSurfInt = uw.utils.Integral( fn=velocityField[0]*velocityField[0], mesh=mesh, integrationType='Surface', \n",
    "                          surfaceIndexSet=mesh.specialSets[\"MaxJ_VertexSet\"])\n",
    "nuTop      = uw.utils.Integral( fn=temperatureField.fn_gradient[1],    mesh=mesh, integrationType='Surface', \n",
    "                          surfaceIndexSet=mesh.specialSets[\"MaxJ_VertexSet\"])\n",
    "nuBottom   = uw.utils.Integral( fn=temperatureField.fn_gradient[1],    mesh=mesh, integrationType='Surface', \n",
    "                          surfaceIndexSet=mesh.specialSets[\"MinJ_VertexSet\"])\n",
    "\n",
    "plateint  = uw.utils.Integral( fn=srrestrictFn, mesh=mesh, integrationType='Surface', #Integrate the plateness function\n",
    "                          surfaceIndexSet=mesh.specialSets[\"MaxJ_VertexSet\"]) \n",
    "\n",
    "surfint  = uw.utils.Integral( fn=1., mesh=mesh, integrationType='Surface',   #Surface length function (i.e. domain width)\n",
    "                          surfaceIndexSet=mesh.specialSets[\"MaxJ_VertexSet\"])"
   ]
  },
  {
   "cell_type": "code",
   "execution_count": null,
   "metadata": {
    "collapsed": true
   },
   "outputs": [],
   "source": [
    "#Define functions for the evaluation of integrals\n",
    "\n",
    "def basic_int(ourIntegral):           #This one just hands back the evaluated integral\n",
    "    return ourIntegral.evaluate()[0]\n",
    "\n",
    "def avg_temp():\n",
    "    return tempint.evaluate()[0]/areaint.evaluate()[0]\n",
    "\n",
    "def nusseltTB(temp_field, mesh):\n",
    "    return -nuTop.evaluate()[0], -nuBottom.evaluate()[0]\n",
    "\n",
    "def rms():\n",
    "    return math.sqrt(v2int.evaluate()[0]/areaint.evaluate()[0])\n",
    "\n",
    "def rms_surf():\n",
    "    return math.sqrt(rmsSurfInt.evaluate()[0])\n",
    "\n",
    "def max_vx_surf(velfield, mesh):\n",
    "    vuvelxfn = fn.view.min_max(velfield[0])\n",
    "    vuvelxfn.evaluate(mesh.specialSets[\"MaxJ_VertexSet\"])\n",
    "    return vuvelxfn.max_global()\n",
    "\n",
    "\n",
    "def visc_extr(viscfn):\n",
    "    vuviscfn = fn.view.min_max(viscfn)\n",
    "    vuviscfn.evaluate(mesh)\n",
    "    return vuviscfn.max_global(), vuviscfn.min_global()"
   ]
  },
  {
   "cell_type": "code",
   "execution_count": null,
   "metadata": {
    "collapsed": false
   },
   "outputs": [],
   "source": [
    "#v2sum_integral  = uw.utils.Integral( mesh=mesh, fn=fn.math.dot( velocityField, velocityField ) )\n",
    "#volume_integral = uw.utils.Integral( mesh=mesh, fn=1. )\n",
    "#Vrms = math.sqrt( v2sum_integral.evaluate()[0] )/volume_integral.evaluate()[0]\n",
    "\n",
    "\n",
    "\n",
    "#if(uw.rank()==0):\n",
    "#    print('Initial Vrms = {0:.3f}'.format(Vrms))"
   ]
  },
  {
   "cell_type": "code",
   "execution_count": null,
   "metadata": {
    "collapsed": false
   },
   "outputs": [],
   "source": [
    "# Check the Metrics\n",
    "\n",
    "#Avg_temp = avg_temp()\n",
    "#Rms = rms()\n",
    "#Rms_surf = rms_surf()\n",
    "#Max_vx_surf = max_vx_surf(velocityField, mesh)\n",
    "#Gravwork = basic_int(dwint)\n",
    "#Viscdis = basic_int(vdint)\n",
    "#nu1, nu0 = nusseltTB(temperatureField, mesh) # return top then bottom\n",
    "#etamax, etamin = visc_extr(mantleviscosityFn)\n",
    "\n",
    "#Area_mantle = basic_int(mantleArea)\n",
    "#Viscmantle = basic_int(mantleVisc)\n",
    "#Tempmantle = basic_int(mantleTemp)\n",
    "#Viscdismantle = basic_int(mantleVd)"
   ]
  },
  {
   "cell_type": "code",
   "execution_count": null,
   "metadata": {
    "collapsed": false
   },
   "outputs": [],
   "source": [
    "#Tempmantle/Area_mantle, Viscmantle/Area_mantle\n",
    "#Plateness = basic_int(plateint)/basic_int(surfint)"
   ]
  },
  {
   "cell_type": "code",
   "execution_count": null,
   "metadata": {
    "collapsed": true
   },
   "outputs": [],
   "source": []
  },
  {
   "cell_type": "markdown",
   "metadata": {},
   "source": [
    "Viz.\n",
    "-----"
   ]
  },
  {
   "cell_type": "code",
   "execution_count": null,
   "metadata": {
    "collapsed": false
   },
   "outputs": [],
   "source": [
    "#tracerVariable.data"
   ]
  },
  {
   "cell_type": "code",
   "execution_count": null,
   "metadata": {
    "collapsed": false
   },
   "outputs": [],
   "source": [
    "#Pack some stuff into a database as well\n",
    "figDb = glucifer.Figure()\n",
    "#figDb.append( glucifer.objects.Mesh(mesh))\n",
    "figDb.append( glucifer.objects.VectorArrows(mesh,velocityField, scaling=0.0005))\n",
    "figDb.append( glucifer.objects.Points(gSwarm,tracerVariable, colours= 'white black'))\n",
    "figDb.append( glucifer.objects.Surface(mesh, mantleviscosityFn, logScale=True))\n",
    "figDb.append( glucifer.objects.Surface(mesh, temperatureField))\n",
    "#figDb.show()"
   ]
  },
  {
   "cell_type": "code",
   "execution_count": null,
   "metadata": {
    "collapsed": true
   },
   "outputs": [],
   "source": []
  },
  {
   "cell_type": "code",
   "execution_count": null,
   "metadata": {
    "collapsed": false
   },
   "outputs": [],
   "source": [
    "\n",
    "def checkpoint1(step, checkpointPath,filename, filewrites):\n",
    "    path = checkpointPath + str(step) \n",
    "    os.mkdir(path)\n",
    "    ##Write and save the file, if not already a writing step\n",
    "    if not step % filewrites == 0:\n",
    "        filename.write((17*'%-15s ' + '\\n') % (realtime, Viscdis, float(nu0), float(nu1), Avg_temp,\n",
    "                                              Tempmantle,TMAX,\n",
    "                                              Rms,Rms_surf,Max_vx_surf,Gravwork, etamax, etamin, \n",
    "                                              Area_mantle, Viscmantle,  Viscdismantle,Plateness ))\n",
    "    filename.close()\n",
    "    shutil.copyfile(os.path.join(outputPath, outputFile), os.path.join(path, outputFile))\n",
    "\n",
    "\n",
    "def checkpoint2(step, checkpointPath, swarm, filename, varlist = [materialVariable], varnames = ['materialVariable']):\n",
    "    path = checkpointPath + str(step) \n",
    "    velfile = \"velocityField\" + \".hdf5\"\n",
    "    tempfile = \"temperatureField\" + \".hdf5\"\n",
    "    pressfile = \"pressureField\" + \".hdf5\"\n",
    "    velocityField.save(os.path.join(path, velfile))\n",
    "    temperatureField.save(os.path.join(path, tempfile))\n",
    "    pressureField.save(os.path.join(path, pressfile))\n",
    "    swarm.save(os.path.join(path, \"swarm.h5\") ) \n",
    "    for ix in range(len(varlist)):\n",
    "        varb = varlist[ix]\n",
    "        varb.save(os.path.join(path,varnames[ix] + \".h5\"))\n",
    "    "
   ]
  },
  {
   "cell_type": "markdown",
   "metadata": {},
   "source": [
    "**Miscellania**"
   ]
  },
  {
   "cell_type": "code",
   "execution_count": null,
   "metadata": {
    "collapsed": false
   },
   "outputs": [],
   "source": [
    "surface_xs = np.linspace(mesh.minCoord[0], mesh.maxCoord[0], mesh.elementRes[0] + 1)\n",
    "surface_nodes = np.array(zip(surface_xs, np.ones(len(surface_xs)*mesh.maxCoord[1]))) #For evaluation surface velocity\n",
    "\n",
    "\n",
    "normgradV = velocityField.fn_gradient[0]/fn.math.sqrt(velocityField[0]*velocityField[0])\n",
    "\n",
    "tempMM = fn.view.min_max(temperatureField)\n",
    "dummy = tempMM.evaluate(mesh)\n",
    "\n"
   ]
  },
  {
   "cell_type": "code",
   "execution_count": null,
   "metadata": {
    "collapsed": false
   },
   "outputs": [],
   "source": [
    "tempMM.max_global(), temperatureField.data.max()"
   ]
  },
  {
   "cell_type": "markdown",
   "metadata": {},
   "source": [
    "Main simulation loop\n",
    "-----\n",
    "\n",
    "Run a few advection and Stokes solver steps to make sure we are in, or close to, equilibrium."
   ]
  },
  {
   "cell_type": "code",
   "execution_count": null,
   "metadata": {
    "collapsed": false
   },
   "outputs": [],
   "source": [
    "# initialise timer for computation\n",
    "start = time.clock()\n",
    "# setup summary output file (name above)\n",
    "if checkpointLoad:\n",
    "    if uw.rank() == 0:\n",
    "        shutil.copyfile(os.path.join(checkpointLoadDir, outputFile), outputPath+outputFile)\n",
    "    comm.Barrier()\n",
    "    f_o = open(os.path.join(outputPath, outputFile), 'a')\n",
    "    prevdata = np.genfromtxt(os.path.join(outputPath, outputFile), skip_header=0, skip_footer=0)\n",
    "    if len(prevdata.shape) == 1: #this is in case there is only one line in previous file\n",
    "        realtime = prevdata[0]\n",
    "    else:\n",
    "        realtime = prevdata[prevdata.shape[0]-1, 0]\n",
    "    step = int(checkpointLoadDir.split('/')[-1])\n",
    "    timevals = [0.]\n",
    "else:\n",
    "    f_o = open(outputPath+outputFile, 'w')\n",
    "    realtime = 0.\n",
    "    step = 0\n",
    "    timevals = [0.]"
   ]
  },
  {
   "cell_type": "code",
   "execution_count": null,
   "metadata": {
    "collapsed": false
   },
   "outputs": [],
   "source": [
    "#while step < 21:\n",
    "while realtime < 1.:\n",
    "\n",
    "    # solve Stokes and advection systems\n",
    "    solver.solve(nonLinearIterate=True)\n",
    "    dt = advDiff.get_max_dt()\n",
    "    if step == 0:\n",
    "        dt = 0.\n",
    "    advDiff.integrate(dt)\n",
    "    passiveadvector.integrate(dt)\n",
    "    \n",
    "\n",
    "    # Increment\n",
    "    realtime += dt\n",
    "    step += 1\n",
    "    timevals.append(realtime)\n",
    "    ################\n",
    "    #Gldb output\n",
    "    ################ \n",
    "    if (step % gldbs_output == 0):\n",
    "        #Rebuild any necessary swarm variables\n",
    "        #Write gldbs\n",
    "        fnamedb = \"dbFig\" + \"_\" + str(ModIt) + \"_\" + str(step) + \".gldb\"\n",
    "        fullpath = os.path.join(outputPath + \"gldbs/\" + fnamedb)\n",
    "        #figDb.show()\n",
    "        figDb.save_database(fullpath)\n",
    "    ################\n",
    "    #Files output\n",
    "    ################ \n",
    "    if (step % files_output == 0):\n",
    "\n",
    "        vel_surface = velocityField.evaluate_global(surface_nodes)\n",
    "        norm_surface_sr = normgradV.evaluate_global(surface_nodes)\n",
    "        if uw.rank() == 0:\n",
    "            fnametemp = \"velsurface\" + \"_\" + str(ModIt) + \"_\" + str(step)\n",
    "            fullpath = os.path.join(outputPath + \"files/\" + fnametemp)\n",
    "            np.save(fullpath, vel_surface)\n",
    "            fnametemp = \"norm_surface_sr\" + \"_\" + str(ModIt) + \"_\" + str(step)\n",
    "            fullpath = os.path.join(outputPath + \"files/\" + fnametemp)\n",
    "            np.save(fullpath, norm_surface_sr)\n",
    "    ################            \n",
    "    # Calculate the Metrics, only on 1 of the processors:\n",
    "    ################\n",
    "    if (step % metric_output == 0):\n",
    "        ###############\n",
    "        #Swarm - based Metrics\n",
    "        ###############\n",
    "        # Calculate the RMS velocity and Nusselt number.\n",
    "        # Calculate the Metrics, only on 1 of the processors:\n",
    "        mantlerestrictFn = temprestrictionFn() #rebuild the mantle restriction function (but these should be dynamic?)\n",
    "        srrestrictFn = platenessFn(val = 0.1) #rebuild the plateness restriction function\n",
    "        dummy = tempMM.evaluate(mesh) #Re-evaluate any fn.view.min_max guys\n",
    "        #Rebuild these integrals (a test because metrics changes after a restart)\n",
    "        mantleArea   = uw.utils.Integral( mantlerestrictFn, mesh )\n",
    "        mantleTemp = uw.utils.Integral( temperatureField*mantlerestrictFn, mesh )\n",
    "        mantleVisc = uw.utils.Integral( mantleviscosityFn*mantlerestrictFn, mesh )\n",
    "        mantleVd = uw.utils.Integral( (4.*viscosityMapFn*sinner*mantlerestrictFn), mesh ) #these now work on MappingFunctions\n",
    "        ###\n",
    "        Avg_temp = avg_temp()\n",
    "        Rms = rms()\n",
    "        Rms_surf = rms_surf()\n",
    "        Max_vx_surf = max_vx_surf(velocityField, mesh)\n",
    "        Gravwork = basic_int(dwint)\n",
    "        Viscdis = basic_int(vdint)\n",
    "        nu1, nu0 = nusseltTB(temperatureField, mesh) # return top then bottom\n",
    "        etamax, etamin = visc_extr(mantleviscosityFn)\n",
    "        Area_mantle = basic_int(mantleArea)\n",
    "        Viscmantle = basic_int(mantleVisc)\n",
    "        Tempmantle = basic_int(mantleTemp)\n",
    "        Viscdismantle = basic_int(mantleVd)\n",
    "        Plateness = basic_int(plateint)/basic_int(surfint)\n",
    "        TMAX = tempMM.max_global()\n",
    "        # output to summary text file\n",
    "        if uw.rank()==0:\n",
    "            f_o.write((17*'%-15s ' + '\\n') % (realtime, Viscdis, float(nu0), float(nu1), Avg_temp,\n",
    "                                              Tempmantle,TMAX,\n",
    "                                              Rms,Rms_surf,Max_vx_surf,Gravwork, etamax, etamin, \n",
    "                                              Area_mantle, Viscmantle,  Viscdismantle,Plateness ))\n",
    "    ################\n",
    "    #Also repopulate entire swarm periodically\n",
    "    ################\n",
    "    #if step % swarm_repop == 0:\n",
    "    population_control.repopulate()\n",
    "    \n",
    "    ################\n",
    "    #Checkpoint\n",
    "    ################\n",
    "    if step % checkpoint_every == 0:\n",
    "        if uw.rank() == 0:\n",
    "            checkpoint1(step, checkpointPath,f_o, metric_output)           \n",
    "        checkpoint2(step, checkpointPath, gSwarm, f_o, varlist = varlist, varnames = varnames)\n",
    "        f_o = open(os.path.join(outputPath, outputFile), 'a') #is this line supposed to be here?\n",
    "    ################\n",
    "    #Particle update\n",
    "    ###############\n",
    "    timeVariable.data[:] += dt #increment the ages (is this efficient?)\n",
    "    dummyData = np.copy(materialVariable.data)#This is part of a hack that resets ages when a material type changes\n",
    "    if step % swarm_update == 0:\n",
    "        for i in range(2): #Need to go through twice first time through\n",
    "            materialVariable.data[:] = fn.branching.conditional(DG.condition_list).evaluate(gSwarm)\n",
    "    timeVariable.data[np.where(dummyData[:] != materialVariable.data[:])] = 0. #resets those ages when a material type change\n",
    "    \n",
    "f_o.close()\n",
    "print 'step =',step"
   ]
  },
  {
   "cell_type": "code",
   "execution_count": null,
   "metadata": {
    "collapsed": true
   },
   "outputs": [],
   "source": []
  }
 ],
 "metadata": {
  "kernelspec": {
   "display_name": "Python 2",
   "language": "python",
   "name": "python2"
  },
  "language_info": {
   "codemirror_mode": {
    "name": "ipython",
    "version": 2
   },
   "file_extension": ".py",
   "mimetype": "text/x-python",
   "name": "python",
   "nbconvert_exporter": "python",
   "pygments_lexer": "ipython2",
   "version": "2.7.9"
  },
  "widgets": {
   "state": {},
   "version": "1.1.2"
  }
 },
 "nbformat": 4,
 "nbformat_minor": 0
}
