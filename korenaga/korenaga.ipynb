{
 "cells": [
  {
   "cell_type": "markdown",
   "metadata": {},
   "source": [
    "Korenaga 2011\n",
    "======\n",
    "\n",
    "Temperature dependent convection\n",
    "----\n",
    "\n",
    "This Notebooks implements the case of two-dimensional, incompressible, internally-heated fmantle convection.\n",
    "\n",
    "\n",
    "**Keywords:** Stokes system, advective diffusive systems, analysis tools, tools for post analysis, rheologies\n",
    "\n",
    "\n",
    "**References**\n",
    "\n",
    "Korenaga, Jun. \"Scaling of plate tectonic convection with pseudoplastic rheology.\" Journal of Geophysical Research: Solid Earth 115.B11 (2010).\n",
    "http://onlinelibrary.wiley.com/doi/10.1029/2010JB007670/full"
   ]
  },
  {
   "cell_type": "code",
   "execution_count": 1,
   "metadata": {
    "collapsed": false
   },
   "outputs": [],
   "source": [
    "import numpy as np\n",
    "import underworld as uw\n",
    "import math\n",
    "from underworld import function as fn\n",
    "import glucifer\n",
    "\n",
    "import os\n",
    "import sys\n",
    "import natsort\n",
    "import shutil\n",
    "from easydict import EasyDict as edict\n",
    "import operator\n",
    "import pint\n",
    "import time\n",
    "import operator\n",
    "from slippy2 import boundary_layer2d\n",
    "from slippy2 import material_graph\n",
    "from slippy2 import spmesh\n",
    "\n",
    "from mpi4py import MPI\n",
    "comm = MPI.COMM_WORLD\n",
    "rank = comm.Get_rank()"
   ]
  },
  {
   "cell_type": "markdown",
   "metadata": {},
   "source": [
    "Model name and directories\n",
    "-----"
   ]
  },
  {
   "cell_type": "code",
   "execution_count": 29,
   "metadata": {
    "collapsed": true
   },
   "outputs": [],
   "source": [
    "############\n",
    "#Model name.  \n",
    "############\n",
    "Model = \"T\"\n",
    "ModNum = 10\n",
    "\n",
    "if len(sys.argv) == 1:\n",
    "    ModIt = \"Base\"\n",
    "elif sys.argv[1] == '-f':\n",
    "    ModIt = \"Base\"\n",
    "else:\n",
    "    ModIt = str(sys.argv[1])"
   ]
  },
  {
   "cell_type": "code",
   "execution_count": 30,
   "metadata": {
    "collapsed": false
   },
   "outputs": [],
   "source": [
    "###########\n",
    "#Standard output directory setup\n",
    "###########\n",
    "\n",
    "\n",
    "outputPath = \"results\" + \"/\" +  str(Model) + \"/\" + str(ModNum) + \"/\" + str(ModIt) + \"/\"\n",
    "imagePath = outputPath + 'images/'\n",
    "filePath = outputPath + 'files/'\n",
    "checkpointPath = outputPath + 'checkpoint/'\n",
    "dbPath = outputPath + 'gldbs/'\n",
    "outputFile = 'results_model' + Model + '_' + str(ModNum) + '_' + str(ModIt) + '.dat'\n",
    "\n",
    "if uw.rank()==0:\n",
    "    # make directories if they don't exist\n",
    "    if not os.path.isdir(outputPath):\n",
    "        os.makedirs(outputPath)\n",
    "    if not os.path.isdir(checkpointPath):\n",
    "        os.makedirs(checkpointPath)\n",
    "    if not os.path.isdir(imagePath):\n",
    "        os.makedirs(imagePath)\n",
    "    if not os.path.isdir(dbPath):\n",
    "        os.makedirs(dbPath)\n",
    "    if not os.path.isdir(filePath):\n",
    "        os.makedirs(filePath)\n",
    "        \n",
    "comm.Barrier() #Barrier here so no procs run the check in the next cell too early"
   ]
  },
  {
   "cell_type": "code",
   "execution_count": 31,
   "metadata": {
    "collapsed": false
   },
   "outputs": [
    {
     "name": "stdout",
     "output_type": "stream",
     "text": [
      "results/T/6/Base/checkpoint/ is empty\n"
     ]
    }
   ],
   "source": [
    "###########\n",
    "#Check if starting from checkpoint\n",
    "###########\n",
    "\n",
    "checkdirs = []\n",
    "for dirpath, dirnames, files in os.walk(checkpointPath):\n",
    "    if files:\n",
    "        print dirpath, 'has files'\n",
    "        checkpointLoad = True\n",
    "        checkdirs.append(dirpath)\n",
    "    if not files:\n",
    "        print dirpath, 'is empty'\n",
    "        checkpointLoad = False"
   ]
  },
  {
   "cell_type": "markdown",
   "metadata": {},
   "source": [
    "Setup parameters\n",
    "-----\n",
    "\n",
    "Set simulation parameters for test."
   ]
  },
  {
   "cell_type": "markdown",
   "metadata": {},
   "source": [
    "**Use pint to setup any unit conversions we'll need**"
   ]
  },
  {
   "cell_type": "code",
   "execution_count": 32,
   "metadata": {
    "collapsed": false
   },
   "outputs": [],
   "source": [
    "#u = pint.UnitRegistry()\n",
    "#cmpery = u.cm/u.year\n",
    "#mpermy = u.m/u.megayear\n",
    "\n",
    "#cmpery.to(mpermy)"
   ]
  },
  {
   "cell_type": "markdown",
   "metadata": {},
   "source": [
    "**Set parameter dictionaries**"
   ]
  },
  {
   "cell_type": "code",
   "execution_count": 33,
   "metadata": {
    "collapsed": false
   },
   "outputs": [],
   "source": [
    "#dimensional parameter dictionary\n",
    "dp = edict({'LS':2900.*1e3,\n",
    "           'rho':3300,\n",
    "           'g':9.8, \n",
    "           'eta0':1e21,    #This will give Ra ~ 2e7, closer to models by Van Hunen, Billen etc.\n",
    "           #'eta0': 2.12e22, #This will give Ra = 1e6 as quoted on Korenaga's paper\n",
    "           'k':1e-6,\n",
    "           'a':2e-5, \n",
    "           'deltaT':1350, #Hunen\n",
    "           'TS':273.,\n",
    "           'cohesion':21e6,\n",
    "           'fc':0.04,\n",
    "           'E':240000.,\n",
    "           'V':6.34*(10**-7),\n",
    "           'R':8.314})\n",
    "\n",
    "dp['TI'] = dp.TS + dp.deltaT\n",
    "\n",
    "\n",
    "#scale_factors\n",
    "\n",
    "sf = edict({'stress':dp.LS**2/(dp.k*dp.eta0),\n",
    "            'lith_grad':dp.rho*dp.g*(dp.LS)**3/(dp.eta0*dp.k) ,\n",
    "            'vel':dp.LS/dp.k,\n",
    "            'SR':dp.LS**2/dp.k,\n",
    "            'W':(dp.rho*dp.g*dp.LS)/(dp.R*dp.deltaT), #This is the activation energy scale, in terms of depth (not pressure)\n",
    "            'E': 1./(dp.R*dp.deltaT)})\n",
    "\n",
    "#dimensionless parameters\n",
    "\n",
    "\n",
    "ndp = edict({'RA':(dp.g*dp.rho*dp.a*dp.deltaT*(dp.LS)**3)/(dp.k*dp.eta0),\n",
    "            'cohesion':dp.cohesion*sf.stress,\n",
    "            'fcd':dp.fc*sf.lith_grad,\n",
    "            'gamma':dp.fc/(dp.a*dp.deltaT),\n",
    "            'E':dp.E*sf.E,\n",
    "             'W':dp.V*sf.W,\n",
    "            'TSP':0., \n",
    "            'TIP':1.,\n",
    "            'n':1.,\n",
    "            'TS':dp.TS/dp.deltaT,\n",
    "            'TI':dp.TI/dp.deltaT,\n",
    "            'eta_min':1e-3,\n",
    "            'eta_max':1e5,\n",
    "            'H':20.,\n",
    "            'Tmvp':0.6})\n",
    "\n",
    "\n",
    "\n",
    "#ndp.RA = 1e6 #this is what Korenaga sets it to\n",
    "\n",
    "dp.VR = (0.1*(dp.k/dp.LS)*ndp.RA**(2/3.)) #characteristic velocity\n",
    "dp.SR = dp.VR/dp.LS #characteristic strain rate\n",
    "\n",
    "ndp.VR = dp.VR*sf.vel #characteristic velocity\n",
    "ndp.SR = dp.SR*sf.SR #characteristic strain rate"
   ]
  },
  {
   "cell_type": "code",
   "execution_count": 34,
   "metadata": {
    "collapsed": false
   },
   "outputs": [
    {
     "data": {
      "text/plain": [
       "5.297652687568493"
      ]
     },
     "execution_count": 34,
     "metadata": {},
     "output_type": "execute_result"
    }
   ],
   "source": [
    "#(dp.g*dp.rho*dp.a*dp.deltaT*(dp.LS)**3)/(dp.k*1e6)\n",
    "#sf.SR/(60*60*24*365*1e6)\n",
    "#dp.LS**2/dp.k\n",
    "#sf.SR\n",
    "ndp.W"
   ]
  },
  {
   "cell_type": "code",
   "execution_count": 35,
   "metadata": {
    "collapsed": false
   },
   "outputs": [],
   "source": [
    "#hDim = 5.44e-12 #crameri and tackley\n",
    "#hDim = 2.47e-11 #Turcott and Schubert\n",
    "#tc = 3\n",
    "#Ts = (dp.rho*hDim*dp.LS**2)/tc\n",
    "\n",
    "#RAh = Ts*(dp.a*dp.g*dp.rho*(dp.LS**3))/(dp.k*dp.eta0)\n",
    "#print(Ts, RAh)"
   ]
  },
  {
   "cell_type": "code",
   "execution_count": 36,
   "metadata": {
    "collapsed": false
   },
   "outputs": [],
   "source": [
    "#A few parameters defining lengths scales, affects materal transistions etc.\n",
    "MANTLETOCRUST = (20.*1e3)/dp.LS #Crust depth\n",
    "CRUSTTOMANTLE = (900.*1e3)/dp.LS \n",
    "LITHTOMANTLE = (900.*1e3)/dp.LS \n",
    "MANTLETOLITH = (200.*1e3)/dp.LS \n",
    "TOPOHEIGHT = (0.*1e3)/dp.LS  #rock-air topography limits\n",
    "CRUSTTOECL  = (100.*1e3)/dp.LS\n",
    "AVGTEMP = ndp.TIP #Used to define lithosphere\n"
   ]
  },
  {
   "cell_type": "markdown",
   "metadata": {},
   "source": [
    "**Model setup parameters**"
   ]
  },
  {
   "cell_type": "code",
   "execution_count": 37,
   "metadata": {
    "collapsed": false
   },
   "outputs": [],
   "source": [
    "###########\n",
    "#Model setup parameters\n",
    "###########\n",
    "\n",
    "refineMesh = True\n",
    "stickyAir = False \n",
    "arrhenius = True\n",
    "lower_mantle = False\n",
    "melt_viscosity_reduction= False\n",
    "SlabIC = False\n",
    "\n",
    "\n",
    "\n",
    "MINX = -2.\n",
    "MINY = 0.\n",
    "MAXX = 2.\n",
    "\n",
    "#MAXY = 1.035\n",
    "MAXY = 1.\n",
    "\n",
    "if MINX == 0.:\n",
    "    squareModel = True\n",
    "else: \n",
    "    squareModel = False\n",
    "    \n",
    "    \n",
    "dim = 2          # number of spatial dimensions\n",
    "\n",
    "\n",
    "#MESH STUFF\n",
    "\n",
    "RES = 64\n",
    "\n",
    "\n",
    "Xres = int(RES*4)\n",
    "\n",
    "\n",
    "if stickyAir:\n",
    "    Yres = RES\n",
    "    MAXY = 1. + dp.StALS/dp.LS #150km\n",
    "    \n",
    "else:\n",
    "    Yres = RES\n",
    "    MAXY = 1.\n",
    "\n",
    "\n",
    "periodic = [True, False]\n",
    "elementType = \"Q1/dQ0\"\n",
    "#elementType =\"Q2/DPC1\"\n",
    "\n",
    "\n",
    "#System/Solver stuff\n",
    "\n",
    "PIC_integration=True\n",
    "ppc = 25\n",
    "\n",
    "#Output and safety stuff\n",
    "\n",
    "swarm_repop, swarm_update = 10, 10\n",
    "gldbs_output = 50\n",
    "checkpoint_every, files_output = 50, 50\n",
    "metric_output = 10"
   ]
  },
  {
   "cell_type": "markdown",
   "metadata": {},
   "source": [
    "Create mesh and finite element variables\n",
    "------"
   ]
  },
  {
   "cell_type": "code",
   "execution_count": 38,
   "metadata": {
    "collapsed": false
   },
   "outputs": [],
   "source": [
    "mesh = uw.mesh.FeMesh_Cartesian( elementType = (elementType),\n",
    "                                 elementRes  = (Xres, Yres), \n",
    "                                 minCoord    = (MINX, MINY), \n",
    "                                 maxCoord    = (MAXX, MAXY), periodic=periodic)\n",
    "\n",
    "velocityField       = uw.mesh.MeshVariable( mesh=mesh,         nodeDofCount=2 )\n",
    "pressureField       = uw.mesh.MeshVariable( mesh=mesh.subMesh, nodeDofCount=1 )\n",
    "temperatureField    = uw.mesh.MeshVariable( mesh=mesh,         nodeDofCount=1 )\n",
    "temperatureDotField = uw.mesh.MeshVariable( mesh=mesh,         nodeDofCount=1 )"
   ]
  },
  {
   "cell_type": "code",
   "execution_count": 39,
   "metadata": {
    "collapsed": false
   },
   "outputs": [],
   "source": [
    "axis = 1\n",
    "orgs = np.linspace(mesh.minCoord[axis], mesh.maxCoord[axis], mesh.elementRes[axis] + 1)\n",
    "\n",
    "value_to_constrain = 1.\n",
    "\n",
    "\n",
    "yconst = [(spmesh.find_closest(orgs, value_to_constrain), np.array([value_to_constrain,0]))]"
   ]
  },
  {
   "cell_type": "code",
   "execution_count": 40,
   "metadata": {
    "collapsed": true
   },
   "outputs": [],
   "source": [
    "mesh.reset()"
   ]
  },
  {
   "cell_type": "code",
   "execution_count": 41,
   "metadata": {
    "collapsed": false
   },
   "outputs": [
    {
     "name": "stdout",
     "output_type": "stream",
     "text": [
      "Min\n",
      "(64, 0.0093765624999999995, 0.84619375000000008, 0.62499047619047554)\n",
      "('edges', 64)\n",
      "-- iteration 0 --\n",
      "| F( p_n ) |^2: 8.05648611886e-05\n",
      "| p_n+1 - p_n |^2: 0.352079185376\n",
      "-- iteration 1 --\n",
      "| F( p_n ) |^2: 3.12512226132e-31\n",
      "Min, Max element width: \n",
      "0.00938\n",
      "0.02187\n"
     ]
    }
   ],
   "source": [
    "#Y-Axis\n",
    "if refineMesh:\n",
    "    #Y-Axis\n",
    "    axis = 1\n",
    "    origcoords = np.linspace(mesh.minCoord[axis], mesh.maxCoord[axis], mesh.elementRes[axis] + 1)\n",
    "    edge_rest_lengths = np.diff(origcoords)\n",
    "\n",
    "    deform_lengths = edge_rest_lengths.copy()\n",
    "    min_point =  (mesh.maxCoord[axis])\n",
    "    el_reduction = 0.6001\n",
    "    dx = mesh.maxCoord[axis]\n",
    "\n",
    "    deform_lengths = deform_lengths - \\\n",
    "                                    ((1.-el_reduction)*deform_lengths[0]) + \\\n",
    "                                    abs((origcoords[1:] - min_point))*((0.5*deform_lengths[0])/dx)\n",
    "\n",
    "    #print(edge_rest_lengths.shape, deform_lengths.shape)\n",
    "\n",
    "    spmesh.deform_1d(deform_lengths, mesh,axis = 'y',norm = 'Min', constraints = yconst)"
   ]
  },
  {
   "cell_type": "markdown",
   "metadata": {},
   "source": [
    "Initial conditions\n",
    "-------\n"
   ]
  },
  {
   "cell_type": "markdown",
   "metadata": {},
   "source": [
    "**Plot initial temperature**"
   ]
  },
  {
   "cell_type": "code",
   "execution_count": 42,
   "metadata": {
    "collapsed": true
   },
   "outputs": [],
   "source": [
    "coordinate = fn.input()\n",
    "depthFn = 1. - coordinate[1]"
   ]
  },
  {
   "cell_type": "code",
   "execution_count": 43,
   "metadata": {
    "collapsed": false
   },
   "outputs": [],
   "source": [
    "if not checkpointLoad:\n",
    "    # Setup temperature initial condition via numpy arrays\n",
    "    A = 0.2\n",
    "    #Note that width = height = 1\n",
    "    pertCoeff = depthFn + A*(fn.math.cos( math.pi * coordinate[0])  * fn.math.sin( math.pi * coordinate[1] ))        \n",
    "    temperatureField.data[:] = pertCoeff.evaluate(mesh)  "
   ]
  },
  {
   "cell_type": "code",
   "execution_count": 44,
   "metadata": {
    "collapsed": false
   },
   "outputs": [
    {
     "data": {
      "text/plain": [
       "False"
      ]
     },
     "execution_count": 44,
     "metadata": {},
     "output_type": "execute_result"
    }
   ],
   "source": [
    "\n",
    "checkpointLoad"
   ]
  },
  {
   "cell_type": "code",
   "execution_count": 45,
   "metadata": {
    "collapsed": true
   },
   "outputs": [],
   "source": [
    "slabFn = fn.math.erf()"
   ]
  },
  {
   "cell_type": "code",
   "execution_count": 46,
   "metadata": {
    "collapsed": false
   },
   "outputs": [],
   "source": [
    "if not checkpointLoad and SlabIC:\n",
    "    temperatureField.data[:] = 1.\n",
    "    def wbl(x, w0 = 0.1):\n",
    "        #print x\n",
    "        delx = 1. - abs(x)\n",
    "        Wbl = w0*math.sqrt(delx + 1e-7)\n",
    "        if Wbl== 0.: #to avoid division by zero\n",
    "            Wbl = 1e-8\n",
    "        return Wbl\n",
    "\n",
    "\n",
    "    def tempf(z,w,tm=1., ts = 0.12):\n",
    "        temp = (tm - ts) *math.erf((1-z)/w) + ts\n",
    "        return temp\n",
    "    \n",
    "    for index, coord in enumerate(mesh.data):\n",
    "        if coord[0] > 0. and coord[0] < 1:\n",
    "            w = wbl(coord[0])\n",
    "            t = tempf(coord[1], w)\n",
    "            temperatureField.data[index] = t\n",
    "        elif coord[0] < 0. and coord[0] > -1.:\n",
    "            w = wbl(coord[0])\n",
    "            t = tempf(coord[1], w)\n",
    "            temperatureField.data[index] = t\n",
    "        \n",
    "\n",
    "\n",
    "    #for index, coord in enumerate(mesh.data):\n",
    "    #    if abs(coord[0]) < wbl(0)/2. and coord[1] > 0.5:\n",
    "    #        w = wbl(0)/2.\n",
    "    #        d = w - abs(coord[0])\n",
    "    #        t = tempf(d, coord[1], w)\n",
    "    #        temperatureField.data[index] = t\n",
    "\n",
    "    for index, coord in enumerate(mesh.data):\n",
    "        if abs(coord[0]) < wbl(0)/2. and coord[1] > 0.5 and coord[1] < 0.99:\n",
    "            w = wbl(0)\n",
    "            d = 1. - abs(coord[0])\n",
    "            t = tempf(d, w)\n",
    "            temperatureField.data[index] = t"
   ]
  },
  {
   "cell_type": "code",
   "execution_count": 47,
   "metadata": {
    "collapsed": false
   },
   "outputs": [],
   "source": [
    "if not checkpointLoad:\n",
    "    random_temp_fac = 0.05\n",
    "    for index, coord in enumerate(mesh.data):\n",
    "        pertCoeff = (random_temp_fac *(np.random.rand(1)[0] - 0.5)) #this should create values between [-0.5,0.5] from uniform dist.\n",
    "        temperatureField.data[index] += pertCoeff"
   ]
  },
  {
   "cell_type": "code",
   "execution_count": 48,
   "metadata": {
    "collapsed": false
   },
   "outputs": [
    {
     "data": {
      "text/html": [
       "<img src='data:image/png;base64,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'>"
      ],
      "text/plain": [
       "<IPython.core.display.HTML object>"
      ]
     },
     "metadata": {},
     "output_type": "display_data"
    },
    {
     "data": {
      "text/plain": [
       "'test.gldb'"
      ]
     },
     "execution_count": 48,
     "metadata": {},
     "output_type": "execute_result"
    }
   ],
   "source": [
    "figtemp = glucifer.Figure()\n",
    "figtemp.append( glucifer.objects.Surface(mesh, temperatureField) )\n",
    "figtemp.append( glucifer.objects.Mesh(mesh))\n",
    "\n",
    "figtemp.show()\n",
    "figtemp.save_database('test.gldb')"
   ]
  },
  {
   "cell_type": "code",
   "execution_count": 49,
   "metadata": {
    "collapsed": false
   },
   "outputs": [],
   "source": [
    "\n",
    "\n",
    "  "
   ]
  },
  {
   "cell_type": "markdown",
   "metadata": {},
   "source": [
    "**Boundary conditions**"
   ]
  },
  {
   "cell_type": "code",
   "execution_count": 50,
   "metadata": {
    "collapsed": false
   },
   "outputs": [],
   "source": [
    "for index in mesh.specialSets[\"MinJ_VertexSet\"]:\n",
    "    temperatureField.data[index] = ndp.TIP\n",
    "for index in mesh.specialSets[\"MaxJ_VertexSet\"]:\n",
    "    temperatureField.data[index] = ndp.TSP\n",
    "    \n",
    "iWalls = mesh.specialSets[\"MinI_VertexSet\"] + mesh.specialSets[\"MaxI_VertexSet\"]\n",
    "jWalls = mesh.specialSets[\"MinJ_VertexSet\"] + mesh.specialSets[\"MaxJ_VertexSet\"]\n",
    "tWalls = mesh.specialSets[\"MaxJ_VertexSet\"]\n",
    "bWalls =mesh.specialSets[\"MinJ_VertexSet\"]\n",
    "\n",
    "\n",
    "freeslipBC = uw.conditions.DirichletCondition( variable      = velocityField, \n",
    "                                               indexSetsPerDof = ( iWalls, jWalls) )\n",
    "\n",
    "#If periodic, we'll fix a the x-vel at a single node - at the bottom left (index 0)\n",
    "Fixed = mesh.specialSets[\"Empty\"]\n",
    "Fixed.add(int(0))\n",
    "if periodic[0] == True:\n",
    "    freeslipBC = uw.conditions.DirichletCondition( variable      = velocityField, \n",
    "                                               indexSetsPerDof = ( Fixed , jWalls) )\n",
    "# also set dirichlet for temp field\n",
    "dirichTempBC = uw.conditions.DirichletCondition(     variable=temperatureField, \n",
    "                                              indexSetsPerDof=(tWalls,) )\n",
    "dT_dy = [0.,0.]\n",
    "\n",
    "# also set dirichlet for temp field\n",
    "neumannTempBC = uw.conditions.NeumannCondition( dT_dy, variable=temperatureField, \n",
    "                                         nodeIndexSet=bWalls)\n",
    "\n"
   ]
  },
  {
   "cell_type": "markdown",
   "metadata": {},
   "source": [
    "Particles\n",
    "-----\n"
   ]
  },
  {
   "cell_type": "code",
   "execution_count": 51,
   "metadata": {
    "collapsed": false
   },
   "outputs": [],
   "source": [
    "###########\n",
    "#Material Swarm and variables\n",
    "###########\n",
    "\n",
    "\n",
    "gSwarm = uw.swarm.Swarm(mesh=mesh, particleEscape=True)\n",
    "\n",
    "yieldingCheck = gSwarm.add_variable( dataType=\"int\", count=1 )\n",
    "tracerVariable = gSwarm.add_variable( dataType=\"int\", count=1)\n",
    "materialVariable = gSwarm.add_variable( dataType=\"int\", count=1 )\n",
    "timeVariable = gSwarm.add_variable( dataType=\"float\", count=1 )\n",
    "\n",
    "\n"
   ]
  },
  {
   "cell_type": "code",
   "execution_count": 52,
   "metadata": {
    "collapsed": false
   },
   "outputs": [],
   "source": [
    "varlist = [tracerVariable, tracerVariable, yieldingCheck]\n",
    "\n",
    "varlist = [materialVariable, yieldingCheck, timeVariable]\n",
    "varnames = ['materialVariable', 'yieldingCheck', 'timeVariable']"
   ]
  },
  {
   "cell_type": "code",
   "execution_count": 53,
   "metadata": {
    "collapsed": false
   },
   "outputs": [],
   "source": [
    "mantleIndex = 0\n",
    "lithosphereIndex = 1\n",
    "crustIndex = 2\n",
    "eclIndex = 3\n",
    "\n",
    "\n",
    "if checkpointLoad:\n",
    "    checkpointLoadDir = natsort.natsort(checkdirs)[-1]\n",
    "    temperatureField.load(os.path.join(checkpointLoadDir, \"temperatureField\" + \".hdf5\"))\n",
    "    pressureField.load(os.path.join(checkpointLoadDir, \"pressureField\" + \".hdf5\"))\n",
    "    velocityField.load(os.path.join(checkpointLoadDir, \"velocityField\" + \".hdf5\"))\n",
    "    gSwarm.load(os.path.join(checkpointLoadDir, \"swarm\" + \".h5\"))\n",
    "    for ix in range(len(varlist)):\n",
    "        varb = varlist[ix]\n",
    "        varb.load(os.path.join(checkpointLoadDir,varnames[ix] + \".h5\"))\n",
    "\n",
    "else:\n",
    "\n",
    "    # Layouts are used to populate the swarm across the whole domain\n",
    "    # Create the layout object\n",
    "    layout = uw.swarm.layouts.PerCellRandomLayout(swarm=gSwarm, particlesPerCell=ppc)\n",
    "    # Now use it to populate.\n",
    "    gSwarm.populate_using_layout( layout=layout )\n",
    "\n",
    "    # Swarm variables\n",
    "    materialVariable.data[:] = mantleIndex\n",
    "    tracerVariable.data[:] = 1\n",
    "    yieldingCheck.data[:] = 0\n",
    "    timeVariable.data[:] = 0.\n",
    "    \n",
    "    #Set initial air and crust materials (allow the graph to take care of lithsophere)\n",
    "    #########\n",
    "    #This initial material setup will be model dependent\n",
    "    #########\n",
    "    for particleID in range(gSwarm.particleCoordinates.data.shape[0]):\n",
    "        if (1. - gSwarm.particleCoordinates.data[particleID][1]) < MANTLETOCRUST:\n",
    "                 materialVariable.data[particleID] = crustIndex"
   ]
  },
  {
   "cell_type": "markdown",
   "metadata": {
    "collapsed": true
   },
   "source": [
    "**Passive tracer layout**"
   ]
  },
  {
   "cell_type": "code",
   "execution_count": 54,
   "metadata": {
    "collapsed": false
   },
   "outputs": [],
   "source": [
    "#Passive tracers are not included in checkpoint - Probably best to remove this once models are properly bugchecked\n",
    "\n",
    "square_size = 0.1\n",
    "\n",
    "xlist = np.arange(mesh.minCoord[0] + square_size/2., mesh.maxCoord[0] + square_size/2., square_size)\n",
    "xlist = zip(xlist[:], xlist[1:])[::2]\n",
    "ylist = np.arange(mesh.minCoord[1] + square_size/2., mesh.maxCoord[1] + square_size/2., square_size)\n",
    "ylist = zip(ylist[:], ylist[1:])[::2]\n",
    "xops = []\n",
    "for vals in xlist:\n",
    "    xops.append( (operator.and_(   operator.gt(coordinate[0],vals[0]),   operator.lt(coordinate[0],vals[1])  ),0.) )\n",
    "xops.append((True,1.))\n",
    "\n",
    "testfunc = fn.branching.conditional(xops) \n",
    "\n",
    "yops = []\n",
    "for vals in ylist:\n",
    "    yops.append( (operator.and_(   operator.gt(coordinate[1],vals[0]),   operator.lt(coordinate[1],vals[1])  ),0.) )\n",
    "yops.append((True,testfunc))\n",
    "\n",
    "testfunc2 = fn.branching.conditional(yops) \n",
    "\n",
    "tracerVariable.data[:] = testfunc.evaluate(gSwarm)\n",
    "tracerVariable.data[:] = testfunc2.evaluate(gSwarm)"
   ]
  },
  {
   "cell_type": "markdown",
   "metadata": {
    "collapsed": false
   },
   "source": [
    "**Material swarm and graphs**"
   ]
  },
  {
   "cell_type": "code",
   "execution_count": 55,
   "metadata": {
    "collapsed": false
   },
   "outputs": [],
   "source": [
    "\n",
    "##############\n",
    "#Important: This is a quick fix for a bug that arises in parallel runs\n",
    "##############\n",
    "material_list = [0,1,2,3]"
   ]
  },
  {
   "cell_type": "code",
   "execution_count": null,
   "metadata": {
    "collapsed": true
   },
   "outputs": [],
   "source": []
  },
  {
   "cell_type": "code",
   "execution_count": 56,
   "metadata": {
    "collapsed": false
   },
   "outputs": [],
   "source": [
    "#All depth conditions are given as (km/D) where D is the length scale,\n",
    "#note that 'model depths' are used, e.g. 1-z, where z is the vertical Underworld coordinate\n",
    "#All temp conditions are in dimensionless temp. [0. - 1.]\n",
    "\n",
    "materialVariable.data[:] = 0\n",
    "\n",
    "#######Graph object\n",
    "#DG = nx.DiGraph(field=\"Depth\")\n",
    "DG = material_graph.MatGraph()\n",
    "\n",
    "#Important: First thing to do is to add all the material types to the graph (i.e add nodes)\n",
    "DG.add_nodes_from(material_list)\n",
    "\n",
    "\n",
    "#Anything to mantle\n",
    "DG.add_transition((crustIndex,mantleIndex), depthFn, operator.gt, CRUSTTOMANTLE)\n",
    "\n",
    "#Anything to crust\n",
    "DG.add_transition((mantleIndex,crustIndex), depthFn, operator.lt, MANTLETOCRUST)\n",
    "\n",
    "#Anything to lithsphere\n",
    "#DG.add_transition((mantleIndex,lithosphereIndex), depthFn, operator.lt, MANTLETOLITH)\n",
    "#DG.add_transition((mantleIndex,lithosphereIndex), temperatureField, operator.lt, 0.85*AVGTEMP)\n",
    "\n",
    "\n",
    "#crust to eclogite\n",
    "#DG.add_edges_from([(3,2)])\n",
    "#DG[3][2]['depthcondition'] =CRUSTTOECL\n",
    "#DG.add_transition((3,2), depthFn, operator.gt, CRUSTTOECL)"
   ]
  },
  {
   "cell_type": "code",
   "execution_count": 57,
   "metadata": {
    "collapsed": true
   },
   "outputs": [],
   "source": [
    "#dummyData = np.copy(materialVariable.data)#This is part of a hack that resets ages when a material type changes\n",
    "\n",
    "DG.build_condition_list(materialVariable)\n",
    "for i in range(2): #Need to go through twice first time through\n",
    "    materialVariable.data[:] = fn.branching.conditional(DG.condition_list).evaluate(gSwarm)\n",
    "    \n",
    "#timeVariable.data[np.where(dummyData[:] != materialVariable.data[:])] = 0. #resets those ages when a material type change\n",
    "#np.unique(timeVariable.data)"
   ]
  },
  {
   "cell_type": "code",
   "execution_count": null,
   "metadata": {
    "collapsed": false
   },
   "outputs": [],
   "source": []
  },
  {
   "cell_type": "code",
   "execution_count": null,
   "metadata": {
    "collapsed": false
   },
   "outputs": [],
   "source": []
  },
  {
   "cell_type": "code",
   "execution_count": 58,
   "metadata": {
    "collapsed": false
   },
   "outputs": [],
   "source": [
    "fig= glucifer.Figure()\n",
    "#fig.append( glucifer.objects.Points(gSwarm,tracerVariable, colours= 'white black'))\n",
    "fig.append( glucifer.objects.Points(gSwarm,materialVariable))\n",
    "#fig.append( glucifer.objects.Surface(mesh, dummyField))\n",
    "#fig.show()"
   ]
  },
  {
   "cell_type": "markdown",
   "metadata": {},
   "source": [
    "Set up material parameters and functions\n",
    "-----\n",
    "\n",
    "Setup the viscosity to be a function of the temperature. Recall that these functions and values are preserved for the entire simulation time. "
   ]
  },
  {
   "cell_type": "code",
   "execution_count": 59,
   "metadata": {
    "collapsed": false
   },
   "outputs": [
    {
     "name": "stdout",
     "output_type": "stream",
     "text": [
      "(14.794420225563012, 1.4814814814814814)\n"
     ]
    }
   ],
   "source": [
    "# The yeilding of the upper slab is dependent on the strain rate.\n",
    "strainRate_2ndInvariant = fn.tensor.second_invariant( \n",
    "                            fn.tensor.symmetric( \n",
    "                            velocityField.fn_gradient ))\n",
    "\n",
    "\n",
    "theta = (dp.E *dp.deltaT)/(dp.R*(dp.TS + dp.deltaT)**2)\n",
    "\n",
    "gamma = dp.fc/(dp.a*dp.deltaT)\n",
    "print(theta, gamma )\n"
   ]
  },
  {
   "cell_type": "code",
   "execution_count": 60,
   "metadata": {
    "collapsed": false
   },
   "outputs": [],
   "source": [
    "#overide these parameters to match the reference case quoted on page 5\n",
    "theta = 15.\n",
    "gamma = 0.6\n",
    "ndp.E = 11.\n",
    "ndp.W = 3.\n",
    "\n"
   ]
  },
  {
   "cell_type": "code",
   "execution_count": 61,
   "metadata": {
    "collapsed": false
   },
   "outputs": [],
   "source": [
    "############\n",
    "#Rheology\n",
    "#############\n",
    "#\n",
    "#The final mantle rheology is composed as follows*:\n",
    "# \n",
    "#\n",
    "# mantleviscosityFn = max{  min{(1/omega*nonlinearVisc + 1/eta_p)**-1,\n",
    "#                           eta_max},\n",
    "#                           eta_min}\n",
    "#                      \n",
    "#nonlinearVisc => FK viscosity (could be linear or non linear)\n",
    "#eta_p   => stress-limiting effective viscosity\n",
    "#\n",
    "\n",
    "\n",
    "omega = fn.misc.constant(1.)\n",
    "\n",
    "if melt_viscosity_reduction:\n",
    "    mvr =  fn.branching.conditional( [ (temperatureField > (ndp.Tmvp + 7.5*(1. - coordinate[1])) , 0.1 ),   (         True, 1.) ] )\n",
    "    omega = omega*mvr\n",
    "\n",
    "\n",
    "#implementation of the lower mantle viscosity increase, similar to Bello et al. 2015\n",
    "a = 1.\n",
    "B = 30.\n",
    "d0 = 660e3/dp.LS  \n",
    "ds = d0/10.\n",
    "if lower_mantle:\n",
    "    inner1 = 1. - 0.5*(1. - fn.math.tanh(((1. - d0)-(coordinate[1]))/(ds)))\n",
    "    modfac = a*fn.math.exp(np.log(B)*inner1)\n",
    "    omega = omega*modfac\n",
    "\n",
    "\n",
    "\n",
    "linearVisc = fn.math.exp(theta*(1. - temperatureField))\n",
    "nl_correction = (strainRate_2ndInvariant/ndp.SR)**((1.-ndp.n)/(ndp.n))\n",
    "nonlinearVisc = omega*nl_correction*linearVisc\n",
    "if arrhenius:\n",
    "    enthalpyFn = ndp.E + depthFn*ndp.W #\"activation enthalpy\"\n",
    "    nonlinearVisc = fn.misc.min(ndp.eta_max, omega*fn.math.exp(((enthalpyFn)/(ndp.n*(temperatureField + ndp.TS))) \n",
    "                                                        - ((ndp.E )/(ndp.n*(ndp.TIP + ndp.TS)))))\n",
    "\n",
    "ys =  (gamma*ndp.RA*1e-5) + (depthFn*gamma*ndp.RA) #tau_1 * 1e-5 is the cohesion value used in the paper\n",
    "if arrhenius:\n",
    "    ys =  ndp.cohesion + (depthFn*gamma*ndp.RA) #In this case we'll use a more standard cohesion\n",
    "yielding = ys/(strainRate_2ndInvariant/math.sqrt(0.5)) #extra factor to account for underworld second invariant form\n",
    "\n",
    "\n",
    "mantleviscosityFn = fn.misc.max(fn.misc.min(1./(((1./nonlinearVisc) + (1./yielding))), ndp.eta_max), ndp.eta_min)\n",
    "\n",
    "\n",
    "##Crust rheology\n",
    "ysc = ys\n",
    "#ysc = ys*0.1\n",
    "crust_yielding = ys/(strainRate_2ndInvariant/math.sqrt(0.5)) #extra factor to account for underworld second invariant form\n",
    "crustviscosityFn = fn.misc.max(fn.misc.min(1./(((1./nonlinearVisc) + (1./crust_yielding))), ndp.eta_max), ndp.eta_min)\n"
   ]
  },
  {
   "cell_type": "code",
   "execution_count": 62,
   "metadata": {
    "collapsed": false
   },
   "outputs": [
    {
     "data": {
      "text/plain": [
       "(362500.0, 174000.0)"
      ]
     },
     "execution_count": 62,
     "metadata": {},
     "output_type": "execute_result"
    }
   ],
   "source": [
    "(2/16.)*dp.LS, (0.06)*dp.LS"
   ]
  },
  {
   "cell_type": "markdown",
   "metadata": {},
   "source": [
    "**Plot the initial viscosity**\n",
    "\n",
    "Plot the viscosity, which is a function of temperature, using the initial temperature conditions set above."
   ]
  },
  {
   "cell_type": "code",
   "execution_count": 63,
   "metadata": {
    "collapsed": false
   },
   "outputs": [
    {
     "data": {
      "text/html": [
       "<img src='data:image/png;base64,iVBORw0KGgoAAAANSUhEUgAAAoAAAAHgCAIAAAC6s0uzAAAJyElEQVR4nO3dS3YbRQBA0Soni+EcRuyMdTCBncGEMStJmoFQ1HZ+DorqpaV7Bz6IY7lL8uelqkutuW3bAADWeqoHAACPSIABICDAABAQYAAICDAABAQYAAICDAABAQaAgAADQECAASAgwAAQEGAACAgwAAQEGAACAgwAAQEGgIAAA0BAgAEgIMAAEBBgAAgIMAAEBBgAAgIMAAEBBoCAAANAQIABICDAABAQYAAICDAABAQYAAICDAABAQaAgAADQECAASAgwAAQEGAACAgwAAQEGAACAgwAAQEGgIAAA0BAgAEgIMAAEBBgAAgIMAAEBBgAAgIMAAEBBoCAAANAQIABICDAABAQYAAICDAABAQYAAICDAABAQaAgAADQECAASAgwAAQEGAACAgwAAQEGAACAgwAAQEGgIAAA0BAgAEgIMAAEBBgAAgIMAAEBBgAAgIMAAEBBoCAAANAQIABICDAABAQYAAICDAABAQYAAICDAABAQaAgAADQECAASAgwAAQEGAACAgwAAQEGAACAgwAAQEGgIAAA0BAgAEgIMAAEBBgAAgIMAAEBBgAAgIMAAEBBoCAAANAQIABICDAABAQYAAICDAABAQYAAICDAABAQaAgAADQECAASAgwAAQEGAACAgwAAQEGAACAgwAAQEGgIAAA0BAgAEgIMAAEBBgAAgIMAAEBBgAAgIMAAEBBoCAAANAQIABICDAABAQYAAICDAABAQYAAICDAABAQaAgAADQECAASAgwAAQEGAACAgwAAQEGAACAgwAAQEGgIAAA0BAgAEgIMAAEBBgAAgIMAAEBBgAAgIMAAEBBoCAAANAQIABICDAABAQYAAICDAABAQYAAICDAABAQaAgAADQECAASAgwAAQEGAACAgwAAQEGAACAgwAAQEGgIAAA0BAgAEgIMAAEBBgAAgIMAAEBBgAAgIMAIG3aw4z51xzIAC40rZtC46yIsBzzp//+HPBgQDgSn//+suaAy2aAb95WvGvCQA4ilUBngIMABeLAvzWDBgAdpYtQa85DgAcw6oZsCVoANhZFOCnNwIMABdmwAAQcA4YAAJ2QQNAwOuAASBgCRoAAmbAABBwLWgACNiEBQABS9AAELAEDQABu6ABIOBSlAAQsAQNAAEBBoDAsl3Qa44DAMfgdcAAEPA6YAAIeBkSAARswgKAgCVoAAgs24S15jgAcAyLAvxkCRoAdrwMCQACLsQBAAGbsAAgsCrAbwQYAC68HSEABCxBA0DAlbAAILDqdcBmwACw40pYABCwBA0AAZuwACDg/YABIGAGDAAB54ABIGAJGgACLkUJAIFVF+KwBA0AO2bAABBwDhgAAnZBA0DA64ABIGAJGgACZsAAEBBgAAhYggaAgF3QABAQYAAILDsHvOY4AHAMNmEBQMASNAAEBBgAAs4BA0DADBgAAjZhAUDAlbAAIGAGDAABAQaAwKIAPwkwAOysCvAQYAC4WBTg8f79ogMBwBGsCvBmBgwAF2bAABBYFeB3AgwAF2bAABBwDhgAAmbAABAQYAAICDAABAQYAAI2YQFAwAwYAAICDAABAQaAwLIAOwcMABfLNmGZAQPAhTdjAIDAogBPM2AA2HEOGAACdkEDQECAASAgwAAQcC1oAAiYAQNAQIABIGAJGgACZsAAEHAhDgAImAEDQECAASAgwAAQsAsaAAJmwAAQEGAACAgwAAQWBXh6HTAA7NiEBQABS9AAEBBgAAgIMAAEnAMGgIAZMAAEBBgAAt4PGAACy84BmwEDwIUlaAAIWIIGgIAZMAAEnAMGgIAlaAAIWIIGgIBLUQJAwAwYAAICDAABS9AAEFgU4PnODBgALrwOGAACXgcMAAGbsAAgYBMWAATMgAEgIMAAELAEDQABM2AACJgBA0DADBgAAgIMAAFL0AAQWBVgb8YAADvejAEAAt6MAQACNmEBQMAmLAAImAEDQGBut5+bzjlvfQgA+F4WlHGsCTAA8MJTPQAAeEQCDAABAQaAgAADQECAASAgwAAQEGAACAgwAAQEGAACAgwAAQEGgIAAA0BAgAEgIMAAEBBgAAgIMAAEBBgAAgIMAAEBBoCAAANAQIABICDAABAQYAAICDAABAQYAAICDAABAQaAgAADQECAASAgwAAQEGAACAgwAAQEGAACAgwAAQEGgIAAA0BAgAEgIMAAEBBgAAgIMAAEBBgAAgIMAAEBBoCAAANAQIABICDAABAQYAAICDAABAQYAAICDAABAQaAgAADQECAASAgwAAQEGAACAgwAAQEGAACAgwAAQEGgIAAA0BAgAEgIMAAEBBgAAgIMAAEBBgAAgIMAAEBBoCAAANAQIABICDAABAQYAAICDAABAQYAAICDAABAQaAgAADQECAASAgwAAQEGAACAgwAAQEGAACAgwAAQEGgIAAA0BAgAEgIMAAEBBgAAgIMAAEBBgAAgIMAAEBBoCAAANAQIABICDAABAQYAAICDAABAQYAAICDAABAQaAgAADQECAASAgwAAQEGAACAgwAAQEGAACAgwAAQEGgIAAA0BAgAEgIMAAEBBgAAgIMAAEBBgAAgIMAAEBBoCAAANAQIABICDAABAQYAAICDAABAQYAAICDAABAQaAgAADQECAASAgwAAQEGAACAgwAAQEGAACAgwAAQEGgIAAA0BAgAEgIMAAEBBgAAgIMAAE3tYDuNacsx4CAIFt2+ohXOXYAZ5z/vT7X3OOOcYc2+k/xunm3Ob46ObpE57fPH/Of3c/BX1/c44xzl/t/D+3sbv76auNy80xxzZ2dz99tbG7+yfGdrm5eyzPb348tlcMdYwPn/Di5nlsXxzqmGN7cfN83G8f6ukTLkN9dvMVQz0/us+P7VVD/ew3bvvKUJ/9wFy+cee7bN821Gc/MOcfquc/JJ8e6m5sY4xx+hv0hY/bGON/fpzbK77+tUe/1eDHNubNB/+Kj1eMYV4/hq8c5YaDH9s2bzn4+ds/4+AsQQNAQIABICDAABAQYAAICDAABAQYAAICDAABAQaAwDz0lURcBgvgYR26X+PoV8Iax/8GwCOY89j/1j+Qx3mq72ACZgkaAAICDAABAQaAgAADQOBRTtcDwA/lwDPg/Ra4O9gOB3fpxe+pX9XbefHc3vFTfTeP9KgBVl/48b34Pd22bds2v7C3cDdN+qp7eqRHDfB+5dwqOvyY/J4u8zhP7z090qMGGDiix7lMROhxnuSjP1IBBtaxBL3G6Ul+hKf60I9UgIEVDvon8ohO59rHfa3WftLRH+nhrwUNHMKHue9B/1bCd3fsBXQAOChL0AAQEGAACAgwAAQEGAACAgwAAQEGgMC/GptoFgGC9ioAAAAASUVORK5CYII='>"
      ],
      "text/plain": [
       "<IPython.core.display.HTML object>"
      ]
     },
     "metadata": {},
     "output_type": "display_data"
    }
   ],
   "source": [
    "figEta = glucifer.Figure()\n",
    "figEta.append( glucifer.objects.Surface(mesh, enthalpyFn, logScale=True) )\n",
    "#figEta.save_database('test.gldb')\n",
    "figEta.show()"
   ]
  },
  {
   "cell_type": "markdown",
   "metadata": {},
   "source": [
    "System setup\n",
    "-----\n",
    "\n",
    "Since we are using a previously constructed temperature field, we will use a single Stokes solve to get consistent velocity and pressure fields.\n",
    "\n",
    "**Setup a Stokes system**"
   ]
  },
  {
   "cell_type": "code",
   "execution_count": 64,
   "metadata": {
    "collapsed": false
   },
   "outputs": [],
   "source": [
    "# Here we set a viscosity value of '1.' for both materials\n",
    "viscosityMapFn = fn.branching.map( fn_key = materialVariable,\n",
    "                         mapping = {lithosphereIndex:mantleviscosityFn, \n",
    "                                    crustIndex:crustviscosityFn,\n",
    "                                    mantleIndex:mantleviscosityFn, \n",
    "                                    eclIndex:mantleviscosityFn} )"
   ]
  },
  {
   "cell_type": "code",
   "execution_count": 65,
   "metadata": {
    "collapsed": false
   },
   "outputs": [],
   "source": [
    "# Construct our density function.\n",
    "densityFn = ndp.RA * temperatureField\n",
    "\n",
    "# Define our vertical unit vector using a python tuple (this will be automatically converted to a function).\n",
    "gravity = ( 0.0, 1.0 )\n",
    "\n",
    "# Now create a buoyancy force vector using the density and the vertical unit vector. \n",
    "buoyancyFn = densityFn * gravity"
   ]
  },
  {
   "cell_type": "code",
   "execution_count": 66,
   "metadata": {
    "collapsed": false
   },
   "outputs": [],
   "source": [
    "stokesPIC = uw.systems.Stokes(velocityField=velocityField, \n",
    "                              pressureField=pressureField,\n",
    "                              conditions=[freeslipBC,],\n",
    "                              fn_viscosity=linearVisc, \n",
    "                              fn_bodyforce=buoyancyFn )"
   ]
  },
  {
   "cell_type": "markdown",
   "metadata": {},
   "source": [
    "**Set up and solve the Stokes system**"
   ]
  },
  {
   "cell_type": "code",
   "execution_count": 67,
   "metadata": {
    "collapsed": false
   },
   "outputs": [],
   "source": [
    "solver = uw.systems.Solver(stokesPIC)\n",
    "solver.solve()"
   ]
  },
  {
   "cell_type": "markdown",
   "metadata": {},
   "source": [
    "**Add the non-linear viscosity to the Stokes system**\n"
   ]
  },
  {
   "cell_type": "code",
   "execution_count": 68,
   "metadata": {
    "collapsed": true
   },
   "outputs": [],
   "source": [
    "stokesPIC.fn_viscosity = viscosityMapFn"
   ]
  },
  {
   "cell_type": "code",
   "execution_count": 69,
   "metadata": {
    "collapsed": false
   },
   "outputs": [
    {
     "name": "stdout",
     "output_type": "stream",
     "text": [
      "\u001b[1;35m\n",
      " \n",
      "Pressure iterations:   3\n",
      "Velocity iterations:   1 (presolve)      \n",
      "Velocity iterations:  -1 (pressure solve)\n",
      "Velocity iterations:   1 (backsolve)     \n",
      "Velocity iterations:   1 (total solve)   \n",
      " \n",
      "SCR RHS  solve time: 4.9857e-01\n",
      "Pressure solve time: 3.1256e-02\n",
      "Velocity solve time: 4.8525e-01 (backsolve)\n",
      "Total solve time   : 1.0822e+00\n",
      " \n",
      "Velocity solution min/max: 0.0000e+00/0.0000e+00\n",
      "Pressure solution min/max: 0.0000e+00/0.0000e+00\n",
      " \n",
      "\u001b[00m\n"
     ]
    }
   ],
   "source": [
    "solver.set_inner_method(\"mumps\")\n",
    "solver.options.scr.ksp_type=\"cg\"\n",
    "solver.set_penalty(1.0e7)\n",
    "solver.options.scr.ksp_rtol = 1.0e-4\n",
    "solver.solve(nonLinearIterate=True)\n",
    "solver.print_stats()"
   ]
  },
  {
   "cell_type": "code",
   "execution_count": null,
   "metadata": {
    "collapsed": false
   },
   "outputs": [],
   "source": []
  },
  {
   "cell_type": "code",
   "execution_count": null,
   "metadata": {
    "collapsed": false
   },
   "outputs": [],
   "source": []
  },
  {
   "cell_type": "markdown",
   "metadata": {},
   "source": [
    "**Create an advective diffusive system**"
   ]
  },
  {
   "cell_type": "code",
   "execution_count": 70,
   "metadata": {
    "collapsed": true
   },
   "outputs": [],
   "source": [
    "advDiff = uw.systems.AdvectionDiffusion( phiField       = temperatureField, \n",
    "                                         phiDotField    = temperatureDotField, \n",
    "                                         velocityField  = velocityField,\n",
    "                                         fn_sourceTerm    = 20.0,\n",
    "                                         fn_diffusivity = 1.0, \n",
    "                                         conditions     = [neumannTempBC, dirichTempBC] )\n",
    "\n",
    "passiveadvector = uw.systems.SwarmAdvector( swarm         = gSwarm, \n",
    "                                     velocityField = velocityField, \n",
    "                                     order         = 1)"
   ]
  },
  {
   "cell_type": "code",
   "execution_count": 71,
   "metadata": {
    "collapsed": true
   },
   "outputs": [],
   "source": [
    "population_control = uw.swarm.PopulationControl(gSwarm,deleteThreshold=0.2,splitThreshold=1.,maxDeletions=3,maxSplits=0, aggressive=True, particlesPerCell=ppc)"
   ]
  },
  {
   "cell_type": "markdown",
   "metadata": {},
   "source": [
    "Analysis tools\n",
    "-----"
   ]
  },
  {
   "cell_type": "code",
   "execution_count": 72,
   "metadata": {
    "collapsed": true
   },
   "outputs": [],
   "source": [
    "#These are functions we can use to evuate integrals over restricted parts of the domain\n",
    "# For instance, we can exclude the thermal lithosphere from integrals\n",
    "\n",
    "def temprestrictionFn(lithval = 0.9):\n",
    "\n",
    "    tempMM = fn.view.min_max(temperatureField)\n",
    "    tempMM.evaluate(mesh)\n",
    "    TMAX = tempMM.max_global()\n",
    "    mantleconditions = [ (                                  temperatureField > lithval*TMAX, 1.),\n",
    "                   (                                                   True , 0.) ]\n",
    "\n",
    "\n",
    "    return fn.branching.conditional(mantleconditions)\n",
    "\n",
    "mantlerestrictFn = temprestrictionFn(lithval = 0.85)\n",
    "\n",
    "\n",
    "\n",
    "def platenessFn(val = 0.1):\n",
    "    normgradV = fn.math.abs(velocityField.fn_gradient[0]/fn.math.sqrt(velocityField[0]*velocityField[0])) #[du*/dx]/sqrt(u*u)\n",
    "\n",
    "\n",
    "\n",
    "    srconditions = [ (                                  normgradV < val, 1.),\n",
    "                   (                                                   True , 0.) ]\n",
    "\n",
    "\n",
    "    return fn.branching.conditional(srconditions)\n",
    "\n",
    "srrestrictFn = platenessFn(val = 0.1)"
   ]
  },
  {
   "cell_type": "code",
   "execution_count": 73,
   "metadata": {
    "collapsed": false
   },
   "outputs": [],
   "source": [
    "#fig = glucifer.Figure()\n",
    "#fig.append( glucifer.objects.Surface(mesh, mantlerestrictFn) )\n",
    "\n",
    "#fig.show()\n",
    "#fig.save_database('test.gldb')"
   ]
  },
  {
   "cell_type": "code",
   "execution_count": 74,
   "metadata": {
    "collapsed": false
   },
   "outputs": [],
   "source": [
    "#Setup volume integrals \n",
    "\n",
    "tempint = uw.utils.Integral( temperatureField, mesh )\n",
    "areaint = uw.utils.Integral( 1.,               mesh )\n",
    "\n",
    "v2int   = uw.utils.Integral( fn.math.dot(velocityField,velocityField), mesh )\n",
    "\n",
    "dwint   = uw.utils.Integral( temperatureField*velocityField[1], mesh )\n",
    "\n",
    "sinner = fn.math.dot( strainRate_2ndInvariant, strainRate_2ndInvariant )\n",
    "vdint = uw.utils.Integral( (4.*viscosityMapFn*sinner), mesh )\n",
    "\n",
    "mantleArea   = uw.utils.Integral( mantlerestrictFn, mesh )\n",
    "mantleTemp = uw.utils.Integral( temperatureField*mantlerestrictFn, mesh )\n",
    "mantleVisc = uw.utils.Integral( mantleviscosityFn*mantlerestrictFn, mesh )\n",
    "mantleVd = uw.utils.Integral( (4.*viscosityMapFn*sinner*mantlerestrictFn), mesh ) #these now work on MappingFunctions"
   ]
  },
  {
   "cell_type": "code",
   "execution_count": 75,
   "metadata": {
    "collapsed": true
   },
   "outputs": [],
   "source": [
    "#Setup surface integrals\n",
    "\n",
    "rmsSurfInt = uw.utils.Integral( fn=velocityField[0]*velocityField[0], mesh=mesh, integrationType='Surface', \n",
    "                          surfaceIndexSet=mesh.specialSets[\"MaxJ_VertexSet\"])\n",
    "nuTop      = uw.utils.Integral( fn=temperatureField.fn_gradient[1],    mesh=mesh, integrationType='Surface', \n",
    "                          surfaceIndexSet=mesh.specialSets[\"MaxJ_VertexSet\"])\n",
    "nuBottom   = uw.utils.Integral( fn=temperatureField.fn_gradient[1],    mesh=mesh, integrationType='Surface', \n",
    "                          surfaceIndexSet=mesh.specialSets[\"MinJ_VertexSet\"])\n",
    "\n",
    "plateint  = uw.utils.Integral( fn=srrestrictFn, mesh=mesh, integrationType='Surface', #Integrate the plateness function\n",
    "                          surfaceIndexSet=mesh.specialSets[\"MaxJ_VertexSet\"]) \n",
    "\n",
    "surfint  = uw.utils.Integral( fn=1., mesh=mesh, integrationType='Surface',   #Surface length function (i.e. domain width)\n",
    "                          surfaceIndexSet=mesh.specialSets[\"MaxJ_VertexSet\"])"
   ]
  },
  {
   "cell_type": "code",
   "execution_count": 76,
   "metadata": {
    "collapsed": true
   },
   "outputs": [],
   "source": [
    "#Define functions for the evaluation of integrals\n",
    "\n",
    "def basic_int(ourIntegral):           #This one just hands back the evaluated integral\n",
    "    return ourIntegral.evaluate()[0]\n",
    "\n",
    "def avg_temp():\n",
    "    return tempint.evaluate()[0]/areaint.evaluate()[0]\n",
    "\n",
    "def nusseltTB(temp_field, mesh):\n",
    "    return -nuTop.evaluate()[0], -nuBottom.evaluate()[0]\n",
    "\n",
    "def rms():\n",
    "    return math.sqrt(v2int.evaluate()[0]/areaint.evaluate()[0])\n",
    "\n",
    "def rms_surf():\n",
    "    return math.sqrt(rmsSurfInt.evaluate()[0])\n",
    "\n",
    "def max_vx_surf(velfield, mesh):\n",
    "    vuvelxfn = fn.view.min_max(velfield[0])\n",
    "    vuvelxfn.evaluate(mesh.specialSets[\"MaxJ_VertexSet\"])\n",
    "    return vuvelxfn.max_global()\n",
    "\n",
    "\n",
    "def visc_extr(viscfn):\n",
    "    vuviscfn = fn.view.min_max(viscfn)\n",
    "    vuviscfn.evaluate(mesh)\n",
    "    return vuviscfn.max_global(), vuviscfn.min_global()"
   ]
  },
  {
   "cell_type": "code",
   "execution_count": 77,
   "metadata": {
    "collapsed": false
   },
   "outputs": [],
   "source": [
    "#v2sum_integral  = uw.utils.Integral( mesh=mesh, fn=fn.math.dot( velocityField, velocityField ) )\n",
    "#volume_integral = uw.utils.Integral( mesh=mesh, fn=1. )\n",
    "#Vrms = math.sqrt( v2sum_integral.evaluate()[0] )/volume_integral.evaluate()[0]\n",
    "\n",
    "\n",
    "\n",
    "#if(uw.rank()==0):\n",
    "#    print('Initial Vrms = {0:.3f}'.format(Vrms))"
   ]
  },
  {
   "cell_type": "code",
   "execution_count": 78,
   "metadata": {
    "collapsed": false
   },
   "outputs": [],
   "source": [
    "# Check the Metrics\n",
    "\n",
    "#Avg_temp = avg_temp()\n",
    "#Rms = rms()\n",
    "#Rms_surf = rms_surf()\n",
    "#Max_vx_surf = max_vx_surf(velocityField, mesh)\n",
    "#Gravwork = basic_int(dwint)\n",
    "#Viscdis = basic_int(vdint)\n",
    "#nu1, nu0 = nusseltTB(temperatureField, mesh) # return top then bottom\n",
    "#etamax, etamin = visc_extr(mantleviscosityFn)\n",
    "\n",
    "#Area_mantle = basic_int(mantleArea)\n",
    "#Viscmantle = basic_int(mantleVisc)\n",
    "#Tempmantle = basic_int(mantleTemp)\n",
    "#Viscdismantle = basic_int(mantleVd)"
   ]
  },
  {
   "cell_type": "code",
   "execution_count": 79,
   "metadata": {
    "collapsed": false
   },
   "outputs": [],
   "source": [
    "#Tempmantle/Area_mantle, Viscmantle/Area_mantle\n",
    "#Plateness = basic_int(plateint)/basic_int(surfint)"
   ]
  },
  {
   "cell_type": "code",
   "execution_count": null,
   "metadata": {
    "collapsed": true
   },
   "outputs": [],
   "source": []
  },
  {
   "cell_type": "markdown",
   "metadata": {},
   "source": [
    "Viz.\n",
    "-----"
   ]
  },
  {
   "cell_type": "code",
   "execution_count": 80,
   "metadata": {
    "collapsed": false
   },
   "outputs": [],
   "source": [
    "#tracerVariable.data"
   ]
  },
  {
   "cell_type": "code",
   "execution_count": 81,
   "metadata": {
    "collapsed": false
   },
   "outputs": [],
   "source": [
    "#Pack some stuff into a database as well\n",
    "figDb = glucifer.Figure()\n",
    "#figDb.append( glucifer.objects.Mesh(mesh))\n",
    "figDb.append( glucifer.objects.VectorArrows(mesh,velocityField, scaling=0.0005))\n",
    "figDb.append( glucifer.objects.Points(gSwarm,tracerVariable, colours= 'white black'))\n",
    "figDb.append( glucifer.objects.Surface(mesh, mantleviscosityFn, logScale=True))\n",
    "figDb.append( glucifer.objects.Surface(mesh, temperatureField))\n",
    "#figDb.show()"
   ]
  },
  {
   "cell_type": "code",
   "execution_count": 82,
   "metadata": {
    "collapsed": false
   },
   "outputs": [
    {
     "data": {
      "text/html": [
       "<img src='data:image/png;base64,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'>"
      ],
      "text/plain": [
       "<IPython.core.display.HTML object>"
      ]
     },
     "metadata": {},
     "output_type": "display_data"
    }
   ],
   "source": [
    "figDb.show()\n"
   ]
  },
  {
   "cell_type": "code",
   "execution_count": 92,
   "metadata": {
    "collapsed": false
   },
   "outputs": [
    {
     "data": {
      "text/plain": [
       "array([ 0.,  0.,  0.,  0.,  0.,  0.])"
      ]
     },
     "execution_count": 92,
     "metadata": {},
     "output_type": "execute_result"
    }
   ],
   "source": [
    "velocityField.data[iWalls.data][np.where(velocityField.data[iWalls.data] == 0)]"
   ]
  },
  {
   "cell_type": "code",
   "execution_count": null,
   "metadata": {
    "collapsed": false
   },
   "outputs": [],
   "source": [
    "\n",
    "def checkpoint1(step, checkpointPath,filename, filewrites):\n",
    "    path = checkpointPath + str(step) \n",
    "    os.mkdir(path)\n",
    "    ##Write and save the file, if not already a writing step\n",
    "    if not step % filewrites == 0:\n",
    "        filename.write((17*'%-15s ' + '\\n') % (realtime, Viscdis, float(nu0), float(nu1), Avg_temp,\n",
    "                                              Tempmantle,TMAX,\n",
    "                                              Rms,Rms_surf,Max_vx_surf,Gravwork, etamax, etamin, \n",
    "                                              Area_mantle, Viscmantle,  Viscdismantle,Plateness ))\n",
    "    filename.close()\n",
    "    shutil.copyfile(os.path.join(outputPath, outputFile), os.path.join(path, outputFile))\n",
    "\n",
    "\n",
    "def checkpoint2(step, checkpointPath, swarm, filename, varlist = [materialVariable], varnames = ['materialVariable']):\n",
    "    path = checkpointPath + str(step) \n",
    "    velfile = \"velocityField\" + \".hdf5\"\n",
    "    tempfile = \"temperatureField\" + \".hdf5\"\n",
    "    pressfile = \"pressureField\" + \".hdf5\"\n",
    "    velocityField.save(os.path.join(path, velfile))\n",
    "    temperatureField.save(os.path.join(path, tempfile))\n",
    "    pressureField.save(os.path.join(path, pressfile))\n",
    "    swarm.save(os.path.join(path, \"swarm.h5\") ) \n",
    "    for ix in range(len(varlist)):\n",
    "        varb = varlist[ix]\n",
    "        varb.save(os.path.join(path,varnames[ix] + \".h5\"))\n",
    "    "
   ]
  },
  {
   "cell_type": "markdown",
   "metadata": {},
   "source": [
    "**Miscellania**"
   ]
  },
  {
   "cell_type": "code",
   "execution_count": null,
   "metadata": {
    "collapsed": false
   },
   "outputs": [],
   "source": [
    "surface_xs = np.linspace(mesh.minCoord[0], mesh.maxCoord[0], mesh.elementRes[0] + 1)\n",
    "surface_nodes = np.array(zip(surface_xs, np.ones(len(surface_xs)*mesh.maxCoord[1]))) #For evaluation surface velocity\n",
    "\n",
    "\n",
    "normgradV = velocityField.fn_gradient[0]/fn.math.sqrt(velocityField[0]*velocityField[0])\n",
    "\n",
    "tempMM = fn.view.min_max(temperatureField)\n",
    "dummy = tempMM.evaluate(mesh)\n",
    "\n"
   ]
  },
  {
   "cell_type": "code",
   "execution_count": null,
   "metadata": {
    "collapsed": false
   },
   "outputs": [],
   "source": [
    "tempMM.max_global(), temperatureField.data.max()"
   ]
  },
  {
   "cell_type": "markdown",
   "metadata": {},
   "source": [
    "Main simulation loop\n",
    "-----\n",
    "\n",
    "Run a few advection and Stokes solver steps to make sure we are in, or close to, equilibrium."
   ]
  },
  {
   "cell_type": "code",
   "execution_count": null,
   "metadata": {
    "collapsed": false
   },
   "outputs": [],
   "source": [
    "# initialise timer for computation\n",
    "start = time.clock()\n",
    "# setup summary output file (name above)\n",
    "if checkpointLoad:\n",
    "    if uw.rank() == 0:\n",
    "        shutil.copyfile(os.path.join(checkpointLoadDir, outputFile), outputPath+outputFile)\n",
    "    comm.Barrier()\n",
    "    f_o = open(os.path.join(outputPath, outputFile), 'a')\n",
    "    prevdata = np.genfromtxt(os.path.join(outputPath, outputFile), skip_header=0, skip_footer=0)\n",
    "    if len(prevdata.shape) == 1: #this is in case there is only one line in previous file\n",
    "        realtime = prevdata[0]\n",
    "    else:\n",
    "        realtime = prevdata[prevdata.shape[0]-1, 0]\n",
    "    step = int(checkpointLoadDir.split('/')[-1])\n",
    "    timevals = [0.]\n",
    "else:\n",
    "    f_o = open(outputPath+outputFile, 'w')\n",
    "    realtime = 0.\n",
    "    step = 0\n",
    "    timevals = [0.]"
   ]
  },
  {
   "cell_type": "code",
   "execution_count": null,
   "metadata": {
    "collapsed": false
   },
   "outputs": [],
   "source": [
    "#while step < 21:\n",
    "while realtime < 1.:\n",
    "\n",
    "    # solve Stokes and advection systems\n",
    "    solver.solve(nonLinearIterate=True)\n",
    "    dt = advDiff.get_max_dt()\n",
    "    if step == 0:\n",
    "        dt = 0.\n",
    "    advDiff.integrate(dt)\n",
    "    passiveadvector.integrate(dt)\n",
    "    \n",
    "\n",
    "    # Increment\n",
    "    realtime += dt\n",
    "    step += 1\n",
    "    timevals.append(realtime)\n",
    "    ################\n",
    "    #Gldb output\n",
    "    ################ \n",
    "    if (step % gldbs_output == 0):\n",
    "        #Rebuild any necessary swarm variables\n",
    "        #Write gldbs\n",
    "        fnamedb = \"dbFig\" + \"_\" + str(ModIt) + \"_\" + str(step) + \".gldb\"\n",
    "        fullpath = os.path.join(outputPath + \"gldbs/\" + fnamedb)\n",
    "        #figDb.show()\n",
    "        figDb.save_database(fullpath)\n",
    "    ################\n",
    "    #Files output\n",
    "    ################ \n",
    "    if (step % files_output == 0):\n",
    "\n",
    "        vel_surface = velocityField.evaluate_global(surface_nodes)\n",
    "        norm_surface_sr = normgradV.evaluate_global(surface_nodes)\n",
    "        if uw.rank() == 0:\n",
    "            fnametemp = \"velsurface\" + \"_\" + str(ModIt) + \"_\" + str(step)\n",
    "            fullpath = os.path.join(outputPath + \"files/\" + fnametemp)\n",
    "            np.save(fullpath, vel_surface)\n",
    "            fnametemp = \"norm_surface_sr\" + \"_\" + str(ModIt) + \"_\" + str(step)\n",
    "            fullpath = os.path.join(outputPath + \"files/\" + fnametemp)\n",
    "            np.save(fullpath, norm_surface_sr)\n",
    "    ################            \n",
    "    # Calculate the Metrics, only on 1 of the processors:\n",
    "    ################\n",
    "    if (step % metric_output == 0):\n",
    "        ###############\n",
    "        #Swarm - based Metrics\n",
    "        ###############\n",
    "        # Calculate the RMS velocity and Nusselt number.\n",
    "        # Calculate the Metrics, only on 1 of the processors:\n",
    "        mantlerestrictFn = temprestrictionFn() #rebuild the mantle restriction function (but these should be dynamic?)\n",
    "        srrestrictFn = platenessFn(val = 0.1) #rebuild the plateness restriction function\n",
    "        dummy = tempMM.evaluate(mesh) #Re-evaluate any fn.view.min_max guys\n",
    "        #Rebuild these integrals (a test because metrics changes after a restart)\n",
    "        mantleArea   = uw.utils.Integral( mantlerestrictFn, mesh )\n",
    "        mantleTemp = uw.utils.Integral( temperatureField*mantlerestrictFn, mesh )\n",
    "        mantleVisc = uw.utils.Integral( mantleviscosityFn*mantlerestrictFn, mesh )\n",
    "        mantleVd = uw.utils.Integral( (4.*viscosityMapFn*sinner*mantlerestrictFn), mesh ) #these now work on MappingFunctions\n",
    "        ###\n",
    "        Avg_temp = avg_temp()\n",
    "        Rms = rms()\n",
    "        Rms_surf = rms_surf()\n",
    "        Max_vx_surf = max_vx_surf(velocityField, mesh)\n",
    "        Gravwork = basic_int(dwint)\n",
    "        Viscdis = basic_int(vdint)\n",
    "        nu1, nu0 = nusseltTB(temperatureField, mesh) # return top then bottom\n",
    "        etamax, etamin = visc_extr(mantleviscosityFn)\n",
    "        Area_mantle = basic_int(mantleArea)\n",
    "        Viscmantle = basic_int(mantleVisc)\n",
    "        Tempmantle = basic_int(mantleTemp)\n",
    "        Viscdismantle = basic_int(mantleVd)\n",
    "        Plateness = basic_int(plateint)/basic_int(surfint)\n",
    "        TMAX = tempMM.max_global()\n",
    "        # output to summary text file\n",
    "        if uw.rank()==0:\n",
    "            f_o.write((17*'%-15s ' + '\\n') % (realtime, Viscdis, float(nu0), float(nu1), Avg_temp,\n",
    "                                              Tempmantle,TMAX,\n",
    "                                              Rms,Rms_surf,Max_vx_surf,Gravwork, etamax, etamin, \n",
    "                                              Area_mantle, Viscmantle,  Viscdismantle,Plateness ))\n",
    "    ################\n",
    "    #Also repopulate entire swarm periodically\n",
    "    ################\n",
    "    #if step % swarm_repop == 0:\n",
    "    population_control.repopulate()\n",
    "    \n",
    "    ################\n",
    "    #Checkpoint\n",
    "    ################\n",
    "    if step % checkpoint_every == 0:\n",
    "        if uw.rank() == 0:\n",
    "            checkpoint1(step, checkpointPath,f_o, metric_output)           \n",
    "        checkpoint2(step, checkpointPath, gSwarm, f_o, varlist = varlist, varnames = varnames)\n",
    "        f_o = open(os.path.join(outputPath, outputFile), 'a') #is this line supposed to be here?\n",
    "    ################\n",
    "    #Particle update\n",
    "    ###############\n",
    "    timeVariable.data[:] += dt #increment the ages (is this efficient?)\n",
    "    dummyData = np.copy(materialVariable.data)#This is part of a hack that resets ages when a material type changes\n",
    "    if step % swarm_update == 0:\n",
    "        for i in range(2): #Need to go through twice first time through\n",
    "            materialVariable.data[:] = fn.branching.conditional(DG.condition_list).evaluate(gSwarm)\n",
    "    timeVariable.data[np.where(dummyData[:] != materialVariable.data[:])] = 0. #resets those ages when a material type change\n",
    "    \n",
    "f_o.close()\n",
    "print 'step =',step"
   ]
  },
  {
   "cell_type": "code",
   "execution_count": null,
   "metadata": {
    "collapsed": true
   },
   "outputs": [],
   "source": []
  }
 ],
 "metadata": {
  "kernelspec": {
   "display_name": "Python 2",
   "language": "python",
   "name": "python2"
  },
  "language_info": {
   "codemirror_mode": {
    "name": "ipython",
    "version": 2
   },
   "file_extension": ".py",
   "mimetype": "text/x-python",
   "name": "python",
   "nbconvert_exporter": "python",
   "pygments_lexer": "ipython2",
   "version": "2.7.9"
  },
  "widgets": {
   "state": {},
   "version": "1.1.2"
  }
 },
 "nbformat": 4,
 "nbformat_minor": 0
}
