{
 "cells": [
  {
   "cell_type": "markdown",
   "metadata": {},
   "source": [
    "Korenaga 2011\n",
    "======\n",
    "\n",
    "Temperature dependent convection\n",
    "----\n",
    "\n",
    "This Notebooks implements the case of two-dimensional, incompressible, internally-heated fmantle convection.\n",
    "\n",
    "\n",
    "**Keywords:** Stokes system, advective diffusive systems, analysis tools, tools for post analysis, rheologies\n",
    "\n",
    "\n",
    "**References**\n",
    "\n",
    "Korenaga, Jun. \"Scaling of plate tectonic convection with pseudoplastic rheology.\" Journal of Geophysical Research: Solid Earth 115.B11 (2010).\n",
    "http://onlinelibrary.wiley.com/doi/10.1029/2010JB007670/full"
   ]
  },
  {
   "cell_type": "code",
   "execution_count": 7,
   "metadata": {
    "collapsed": false
   },
   "outputs": [],
   "source": [
    "import numpy as np\n",
    "import underworld as uw\n",
    "import math\n",
    "from underworld import function as fn\n",
    "import glucifer\n",
    "\n",
    "import os\n",
    "import sys\n",
    "import natsort\n",
    "import shutil\n",
    "from easydict import EasyDict as edict\n",
    "import operator\n",
    "import pint\n",
    "import time\n",
    "import operator\n",
    "from slippy2 import boundary_layer2d\n",
    "from slippy2 import material_graph\n",
    "\n",
    "from mpi4py import MPI\n",
    "comm = MPI.COMM_WORLD\n",
    "rank = comm.Get_rank()"
   ]
  },
  {
   "cell_type": "markdown",
   "metadata": {},
   "source": [
    "Model name and directories\n",
    "-----"
   ]
  },
  {
   "cell_type": "code",
   "execution_count": 8,
   "metadata": {
    "collapsed": true
   },
   "outputs": [],
   "source": [
    "############\n",
    "#Model name.  \n",
    "############\n",
    "Model = \"T\"\n",
    "ModNum = 3\n",
    "\n",
    "if len(sys.argv) == 1:\n",
    "    ModIt = \"Base\"\n",
    "elif sys.argv[1] == '-f':\n",
    "    ModIt = \"Base\"\n",
    "else:\n",
    "    ModIt = str(sys.argv[1])"
   ]
  },
  {
   "cell_type": "code",
   "execution_count": 9,
   "metadata": {
    "collapsed": false
   },
   "outputs": [],
   "source": [
    "###########\n",
    "#Standard output directory setup\n",
    "###########\n",
    "\n",
    "\n",
    "outputPath = \"results\" + \"/\" +  str(Model) + \"/\" + str(ModNum) + \"/\" + str(ModIt) + \"/\"\n",
    "imagePath = outputPath + 'images/'\n",
    "filePath = outputPath + 'files/'\n",
    "checkpointPath = outputPath + 'checkpoint/'\n",
    "dbPath = outputPath + 'gldbs/'\n",
    "outputFile = 'results_model' + Model + '_' + str(ModNum) + '_' + str(ModIt) + '.dat'\n",
    "\n",
    "if uw.rank()==0:\n",
    "    # make directories if they don't exist\n",
    "    if not os.path.isdir(outputPath):\n",
    "        os.makedirs(outputPath)\n",
    "    if not os.path.isdir(checkpointPath):\n",
    "        os.makedirs(checkpointPath)\n",
    "    if not os.path.isdir(imagePath):\n",
    "        os.makedirs(imagePath)\n",
    "    if not os.path.isdir(dbPath):\n",
    "        os.makedirs(dbPath)\n",
    "    if not os.path.isdir(filePath):\n",
    "        os.makedirs(filePath)\n",
    "        \n",
    "comm.Barrier() #Barrier here so no procs run the check in the next cell too early"
   ]
  },
  {
   "cell_type": "code",
   "execution_count": 10,
   "metadata": {
    "collapsed": false
   },
   "outputs": [
    {
     "name": "stdout",
     "output_type": "stream",
     "text": [
      "results/T/3/Base/checkpoint/ is empty\n"
     ]
    }
   ],
   "source": [
    "###########\n",
    "#Check if starting from checkpoint\n",
    "###########\n",
    "\n",
    "checkdirs = []\n",
    "for dirpath, dirnames, files in os.walk(checkpointPath):\n",
    "    if files:\n",
    "        print dirpath, 'has files'\n",
    "        checkpointLoad = True\n",
    "        checkdirs.append(dirpath)\n",
    "    if not files:\n",
    "        print dirpath, 'is empty'\n",
    "        checkpointLoad = False"
   ]
  },
  {
   "cell_type": "markdown",
   "metadata": {},
   "source": [
    "Setup parameters\n",
    "-----\n",
    "\n",
    "Set simulation parameters for test."
   ]
  },
  {
   "cell_type": "markdown",
   "metadata": {},
   "source": [
    "**Use pint to setup any unit conversions we'll need**"
   ]
  },
  {
   "cell_type": "code",
   "execution_count": 11,
   "metadata": {
    "collapsed": false
   },
   "outputs": [],
   "source": [
    "#u = pint.UnitRegistry()\n",
    "#cmpery = u.cm/u.year\n",
    "#mpermy = u.m/u.megayear\n",
    "\n",
    "#cmpery.to(mpermy)"
   ]
  },
  {
   "cell_type": "markdown",
   "metadata": {},
   "source": [
    "**Set parameter dictionaries**"
   ]
  },
  {
   "cell_type": "code",
   "execution_count": 12,
   "metadata": {
    "collapsed": false
   },
   "outputs": [],
   "source": [
    "#dimensional parameter dictionary\n",
    "dp = edict({'LS':2900.*1e3,\n",
    "           'rho':3300,\n",
    "           'g':9.8, \n",
    "           #'eta0':1e21,    #This will give Ra ~ 2e7, closer to models by Van Hunen, Billen etc.\n",
    "           'eta0': 2.12e22, #This will give Ra = 1e6 as quoted on Korenaga's paper\n",
    "           'k':1e-6,\n",
    "           'a':2e-5, \n",
    "           'deltaT':1350, #Hunen\n",
    "           'TS':273.,\n",
    "           'cohesion':21e6,\n",
    "           'fc':0.02,\n",
    "           'E':240000.,\n",
    "           'R':8.314})\n",
    "\n",
    "dp['TI'] = dp.TS + dp.deltaT\n",
    "\n",
    "\n",
    "#scale_factors\n",
    "\n",
    "sf = edict({'stress':dp.LS**2/(dp.k*dp.eta0),\n",
    "            'lith_grad':dp.rho*dp.g*(dp.LS)**3/(dp.eta0*dp.k) ,\n",
    "            'vel':dp.LS/dp.k,\n",
    "            'SR':dp.LS**2/dp.k,\n",
    "            'W':(dp.rho*dp.g*dp.LS)/(dp.R*dp.deltaT), #This is the activation energy scale, in terms of depth (not pressure)\n",
    "            'E': 1./(dp.R*dp.deltaT)})\n",
    "\n",
    "#dimensionless parameters\n",
    "\n",
    "\n",
    "ndp = edict({'RA':(dp.g*dp.rho*dp.a*dp.deltaT*(dp.LS)**3)/(dp.k*dp.eta0),\n",
    "            'cohesion':dp.cohesion*sf.stress,\n",
    "            'fcd':dp.fc*sf.lith_grad,\n",
    "            'gamma':dp.fc/(dp.a*dp.deltaT),\n",
    "            'E':dp.E*sf.E,\n",
    "            'TSP':0., \n",
    "            'TIP':1.,\n",
    "            'n':1.,\n",
    "            'TS':dp.TS/dp.deltaT,\n",
    "            'TI':dp.TI/dp.deltaT,\n",
    "            'eta_min':1e-3,\n",
    "            'eta_max':1e5,\n",
    "            'H':20.,\n",
    "            'Tmvp':0.6})\n",
    "\n",
    "\n",
    "\n",
    "#ndp.RA = 1e6 #this is what Korenaga sets it to\n",
    "\n",
    "dp.VR = (0.1*(dp.k/dp.LS)*ndp.RA**(2/3.)) #characteristic velocity\n",
    "dp.SR = dp.VR/dp.LS #characteristic strain rate\n",
    "\n",
    "ndp.VR = dp.VR*sf.vel #characteristic velocity\n",
    "ndp.SR = dp.SR*sf.SR #characteristic strain rate"
   ]
  },
  {
   "cell_type": "code",
   "execution_count": 13,
   "metadata": {
    "collapsed": false
   },
   "outputs": [
    {
     "data": {
      "text/plain": [
       "1004527.6896226417"
      ]
     },
     "execution_count": 13,
     "metadata": {},
     "output_type": "execute_result"
    }
   ],
   "source": [
    "#(dp.g*dp.rho*dp.a*dp.deltaT*(dp.LS)**3)/(dp.k*1e6)\n",
    "ndp.RA"
   ]
  },
  {
   "cell_type": "code",
   "execution_count": 14,
   "metadata": {
    "collapsed": false
   },
   "outputs": [],
   "source": [
    "#hDim = 5.44e-12 #crameri and tackley\n",
    "#hDim = 2.47e-11 #Turcott and Schubert\n",
    "#tc = 3\n",
    "#Ts = (dp.rho*hDim*dp.LS**2)/tc\n",
    "\n",
    "#RAh = Ts*(dp.a*dp.g*dp.rho*(dp.LS**3))/(dp.k*dp.eta0)\n",
    "#print(Ts, RAh)"
   ]
  },
  {
   "cell_type": "code",
   "execution_count": 15,
   "metadata": {
    "collapsed": false
   },
   "outputs": [],
   "source": [
    "#A few parameters defining lengths scales, affects materal transistions etc.\n",
    "MANTLETOCRUST = (20.*1e3)/dp.LS #Crust depth\n",
    "CRUSTTOMANTLE = (900.*1e3)/dp.LS \n",
    "LITHTOMANTLE = (900.*1e3)/dp.LS \n",
    "MANTLETOLITH = (200.*1e3)/dp.LS \n",
    "TOPOHEIGHT = (0.*1e3)/dp.LS  #rock-air topography limits\n",
    "CRUSTTOECL  = (100.*1e3)/dp.LS\n",
    "AVGTEMP = ndp.TIP #Used to define lithosphere\n"
   ]
  },
  {
   "cell_type": "markdown",
   "metadata": {},
   "source": [
    "**Model setup parameters**"
   ]
  },
  {
   "cell_type": "code",
   "execution_count": 16,
   "metadata": {
    "collapsed": false
   },
   "outputs": [],
   "source": [
    "###########\n",
    "#Model setup parameters\n",
    "###########\n",
    "\n",
    "refineMesh = False\n",
    "stickyAir = False \n",
    "arrhenius = True\n",
    "lower_mantle = False\n",
    "melt_viscosity_reduction= False\n",
    "\n",
    "\n",
    "\n",
    "MINX = -2.\n",
    "MINY = 0.\n",
    "MAXX = 2.\n",
    "\n",
    "#MAXY = 1.035\n",
    "MAXY = 1.\n",
    "\n",
    "if MINX == 0.:\n",
    "    squareModel = True\n",
    "else: \n",
    "    squareModel = False\n",
    "    \n",
    "    \n",
    "dim = 2          # number of spatial dimensions\n",
    "\n",
    "\n",
    "#MESH STUFF\n",
    "\n",
    "RES = 92\n",
    "\n",
    "\n",
    "Xres = int(RES*4)\n",
    "\n",
    "\n",
    "if stickyAir:\n",
    "    Yres = RES\n",
    "    MAXY = 1. + dp.StALS/dp.LS #150km\n",
    "    \n",
    "else:\n",
    "    Yres = RES\n",
    "    MAXY = 1.\n",
    "\n",
    "\n",
    "periodic = [True, False]\n",
    "#elementType = \"Q1/dQ0\"\n",
    "elementType =\"Q2/DPC1\"\n",
    "\n",
    "\n",
    "#System/Solver stuff\n",
    "\n",
    "PIC_integration=True\n",
    "ppc = 25\n",
    "\n",
    "#Output and safety stuff\n",
    "\n",
    "swarm_repop, swarm_update = 10, 10\n",
    "gldbs_output = 50\n",
    "checkpoint_every, files_output = 50, 50\n",
    "metric_output = 10"
   ]
  },
  {
   "cell_type": "markdown",
   "metadata": {},
   "source": [
    "Create mesh and finite element variables\n",
    "------"
   ]
  },
  {
   "cell_type": "code",
   "execution_count": 17,
   "metadata": {
    "collapsed": false
   },
   "outputs": [],
   "source": [
    "mesh = uw.mesh.FeMesh_Cartesian( elementType = (\"Q1/dQ0\"),\n",
    "                                 elementRes  = (Xres, Yres), \n",
    "                                 minCoord    = (MINX, MINY), \n",
    "                                 maxCoord    = (MAXX, MAXY))\n",
    "velocityField       = uw.mesh.MeshVariable( mesh=mesh,         nodeDofCount=2 )\n",
    "pressureField       = uw.mesh.MeshVariable( mesh=mesh.subMesh, nodeDofCount=1 )\n",
    "temperatureField    = uw.mesh.MeshVariable( mesh=mesh,         nodeDofCount=1 )\n",
    "temperatureDotField = uw.mesh.MeshVariable( mesh=mesh,         nodeDofCount=1 )"
   ]
  },
  {
   "cell_type": "markdown",
   "metadata": {},
   "source": [
    "Initial conditions\n",
    "-------\n"
   ]
  },
  {
   "cell_type": "markdown",
   "metadata": {},
   "source": [
    "**Plot initial temperature**"
   ]
  },
  {
   "cell_type": "code",
   "execution_count": 18,
   "metadata": {
    "collapsed": true
   },
   "outputs": [],
   "source": [
    "coordinate = fn.input()\n",
    "depthFn = 1. - coordinate[1]"
   ]
  },
  {
   "cell_type": "code",
   "execution_count": 19,
   "metadata": {
    "collapsed": false
   },
   "outputs": [],
   "source": [
    "if not checkpointLoad:\n",
    "    # Setup temperature initial condition via numpy arrays\n",
    "    A = 0.2\n",
    "    #Note that width = height = 1\n",
    "    pertCoeff = depthFn + A*(fn.math.cos( math.pi * coordinate[0])  * fn.math.sin( math.pi * coordinate[1] ))        \n",
    "    temperatureField.data[:] = pertCoeff.evaluate(mesh)  "
   ]
  },
  {
   "cell_type": "code",
   "execution_count": 20,
   "metadata": {
    "collapsed": false
   },
   "outputs": [],
   "source": [
    "if not checkpointLoad:\n",
    "    random_temp_fac = 0.05\n",
    "    for index, coord in enumerate(mesh.data):\n",
    "        pertCoeff = (random_temp_fac *(np.random.rand(1)[0] - 0.5)) #this should create values between [-0.5,0.5] from uniform dist.\n",
    "        temperatureField.data[index] += pertCoeff"
   ]
  },
  {
   "cell_type": "code",
   "execution_count": 21,
   "metadata": {
    "collapsed": false
   },
   "outputs": [],
   "source": [
    "figtemp = glucifer.Figure()\n",
    "figtemp.append( glucifer.objects.Surface(mesh, temperatureField) )\n",
    "\n",
    "#figtemp.show()\n",
    "#figtemp.save_database('test.gldb')"
   ]
  },
  {
   "cell_type": "markdown",
   "metadata": {},
   "source": [
    "**Boundary conditions**"
   ]
  },
  {
   "cell_type": "code",
   "execution_count": 22,
   "metadata": {
    "collapsed": false
   },
   "outputs": [],
   "source": [
    "for index in mesh.specialSets[\"MinJ_VertexSet\"]:\n",
    "    temperatureField.data[index] = ndp.TIP\n",
    "for index in mesh.specialSets[\"MaxJ_VertexSet\"]:\n",
    "    temperatureField.data[index] = ndp.TSP\n",
    "    \n",
    "iWalls = mesh.specialSets[\"MinI_VertexSet\"] + mesh.specialSets[\"MaxI_VertexSet\"]\n",
    "jWalls = mesh.specialSets[\"MinJ_VertexSet\"] + mesh.specialSets[\"MaxJ_VertexSet\"]\n",
    "tWalls = mesh.specialSets[\"MaxJ_VertexSet\"]\n",
    "bWalls =mesh.specialSets[\"MinJ_VertexSet\"]\n",
    "\n",
    "\n",
    "freeslipBC = uw.conditions.DirichletCondition( variable      = velocityField, \n",
    "                                               indexSetsPerDof = ( iWalls, jWalls) )\n",
    "# also set dirichlet for temp field\n",
    "dirichTempBC = uw.conditions.DirichletCondition(     variable=temperatureField, \n",
    "                                              indexSetsPerDof=(tWalls,) )\n",
    "dT_dy = [0.,0.]\n",
    "\n",
    "# also set dirichlet for temp field\n",
    "neumannTempBC = uw.conditions.NeumannCondition( dT_dy, variable=temperatureField, \n",
    "                                         nodeIndexSet=bWalls)\n",
    "\n"
   ]
  },
  {
   "cell_type": "markdown",
   "metadata": {},
   "source": [
    "Particles\n",
    "-----\n"
   ]
  },
  {
   "cell_type": "code",
   "execution_count": 23,
   "metadata": {
    "collapsed": false
   },
   "outputs": [],
   "source": [
    "###########\n",
    "#Material Swarm and variables\n",
    "###########\n",
    "\n",
    "\n",
    "gSwarm = uw.swarm.Swarm(mesh=mesh, particleEscape=True)\n",
    "\n",
    "yieldingCheck = gSwarm.add_variable( dataType=\"int\", count=1 )\n",
    "tracerVariable = gSwarm.add_variable( dataType=\"int\", count=1)\n",
    "materialVariable = gSwarm.add_variable( dataType=\"int\", count=1 )\n",
    "timeVariable = gSwarm.add_variable( dataType=\"float\", count=1 )\n",
    "\n",
    "\n"
   ]
  },
  {
   "cell_type": "code",
   "execution_count": 24,
   "metadata": {
    "collapsed": false
   },
   "outputs": [],
   "source": [
    "varlist = [tracerVariable, tracerVariable, yieldingCheck]\n",
    "\n",
    "varlist = [materialVariable, yieldingCheck, timeVariable]\n",
    "varnames = ['materialVariable', 'yieldingCheck', 'timeVariable']"
   ]
  },
  {
   "cell_type": "code",
   "execution_count": 25,
   "metadata": {
    "collapsed": false
   },
   "outputs": [],
   "source": [
    "mantleIndex = 0\n",
    "lithosphereIndex = 1\n",
    "crustIndex = 2\n",
    "eclIndex = 3\n",
    "\n",
    "\n",
    "if checkpointLoad:\n",
    "    checkpointLoadDir = natsort.natsorted(checkdirs)[-1]\n",
    "    temperatureField.load(os.path.join(checkpointLoadDir, \"temperatureField\" + \".hdf5\"))\n",
    "    pressureField.load(os.path.join(checkpointLoadDir, \"pressureField\" + \".hdf5\"))\n",
    "    velocityField.load(os.path.join(checkpointLoadDir, \"velocityField\" + \".hdf5\"))\n",
    "    gSwarm.load(os.path.join(checkpointLoadDir, \"swarm\" + \".h5\"))\n",
    "    for ix in range(len(varlist)):\n",
    "        varb = varlist[ix]\n",
    "        varb.load(os.path.join(checkpointLoadDir,varnames[ix] + \".h5\"))\n",
    "\n",
    "else:\n",
    "\n",
    "    # Layouts are used to populate the swarm across the whole domain\n",
    "    # Create the layout object\n",
    "    layout = uw.swarm.layouts.PerCellRandomLayout(swarm=gSwarm, particlesPerCell=ppc)\n",
    "    # Now use it to populate.\n",
    "    gSwarm.populate_using_layout( layout=layout )\n",
    "\n",
    "    # Swarm variables\n",
    "    materialVariable.data[:] = mantleIndex\n",
    "    tracerVariable.data[:] = 1\n",
    "    yieldingCheck.data[:] = 0\n",
    "    timeVariable.data[:] = 0.\n",
    "    \n",
    "    #Set initial air and crust materials (allow the graph to take care of lithsophere)\n",
    "    #########\n",
    "    #This initial material setup will be model dependent\n",
    "    #########\n",
    "    for particleID in range(gSwarm.particleCoordinates.data.shape[0]):\n",
    "        if (1. - gSwarm.particleCoordinates.data[particleID][1]) < MANTLETOCRUST:\n",
    "                 materialVariable.data[particleID] = crustIndex"
   ]
  },
  {
   "cell_type": "markdown",
   "metadata": {
    "collapsed": true
   },
   "source": [
    "**Passive tracer layout**"
   ]
  },
  {
   "cell_type": "code",
   "execution_count": 26,
   "metadata": {
    "collapsed": false
   },
   "outputs": [],
   "source": [
    "#Passive tracers are not included in checkpoint - Probably best to remove this once models are properly bugchecked\n",
    "\n",
    "square_size = 0.1\n",
    "\n",
    "xlist = np.arange(mesh.minCoord[0] + square_size/2., mesh.maxCoord[0] + square_size/2., square_size)\n",
    "xlist = zip(xlist[:], xlist[1:])[::2]\n",
    "ylist = np.arange(mesh.minCoord[1] + square_size/2., mesh.maxCoord[1] + square_size/2., square_size)\n",
    "ylist = zip(ylist[:], ylist[1:])[::2]\n",
    "xops = []\n",
    "for vals in xlist:\n",
    "    xops.append( (operator.and_(   operator.gt(coordinate[0],vals[0]),   operator.lt(coordinate[0],vals[1])  ),0.) )\n",
    "xops.append((True,1.))\n",
    "\n",
    "testfunc = fn.branching.conditional(xops) \n",
    "\n",
    "yops = []\n",
    "for vals in ylist:\n",
    "    yops.append( (operator.and_(   operator.gt(coordinate[1],vals[0]),   operator.lt(coordinate[1],vals[1])  ),0.) )\n",
    "yops.append((True,testfunc))\n",
    "\n",
    "testfunc2 = fn.branching.conditional(yops) \n",
    "\n",
    "tracerVariable.data[:] = testfunc.evaluate(gSwarm)\n",
    "tracerVariable.data[:] = testfunc2.evaluate(gSwarm)"
   ]
  },
  {
   "cell_type": "markdown",
   "metadata": {
    "collapsed": false
   },
   "source": [
    "**Material swarm and graphs**"
   ]
  },
  {
   "cell_type": "code",
   "execution_count": 27,
   "metadata": {
    "collapsed": false
   },
   "outputs": [],
   "source": [
    "\n",
    "##############\n",
    "#Important: This is a quick fix for a bug that arises in parallel runs\n",
    "##############\n",
    "material_list = [0,1,2,3]"
   ]
  },
  {
   "cell_type": "code",
   "execution_count": null,
   "metadata": {
    "collapsed": true
   },
   "outputs": [],
   "source": []
  },
  {
   "cell_type": "code",
   "execution_count": 28,
   "metadata": {
    "collapsed": false
   },
   "outputs": [],
   "source": [
    "#All depth conditions are given as (km/D) where D is the length scale,\n",
    "#note that 'model depths' are used, e.g. 1-z, where z is the vertical Underworld coordinate\n",
    "#All temp conditions are in dimensionless temp. [0. - 1.]\n",
    "\n",
    "materialVariable.data[:] = 0\n",
    "\n",
    "#######Graph object\n",
    "#DG = nx.DiGraph(field=\"Depth\")\n",
    "DG = material_graph.MatGraph()\n",
    "\n",
    "#Important: First thing to do is to add all the material types to the graph (i.e add nodes)\n",
    "DG.add_nodes_from(material_list)\n",
    "\n",
    "\n",
    "#Anything to mantle\n",
    "DG.add_transition((crustIndex,mantleIndex), depthFn, operator.gt, CRUSTTOMANTLE)\n",
    "\n",
    "#Anything to crust\n",
    "DG.add_transition((mantleIndex,crustIndex), depthFn, operator.lt, MANTLETOCRUST)\n",
    "\n",
    "#Anything to lithsphere\n",
    "#DG.add_transition((mantleIndex,lithosphereIndex), depthFn, operator.lt, MANTLETOLITH)\n",
    "#DG.add_transition((mantleIndex,lithosphereIndex), temperatureField, operator.lt, 0.85*AVGTEMP)\n",
    "\n",
    "\n",
    "#crust to eclogite\n",
    "#DG.add_edges_from([(3,2)])\n",
    "#DG[3][2]['depthcondition'] =CRUSTTOECL\n",
    "#DG.add_transition((3,2), depthFn, operator.gt, CRUSTTOECL)"
   ]
  },
  {
   "cell_type": "code",
   "execution_count": 29,
   "metadata": {
    "collapsed": true
   },
   "outputs": [],
   "source": [
    "#dummyData = np.copy(materialVariable.data)#This is part of a hack that resets ages when a material type changes\n",
    "\n",
    "DG.build_condition_list(materialVariable)\n",
    "for i in range(2): #Need to go through twice first time through\n",
    "    materialVariable.data[:] = fn.branching.conditional(DG.condition_list).evaluate(gSwarm)\n",
    "    \n",
    "#timeVariable.data[np.where(dummyData[:] != materialVariable.data[:])] = 0. #resets those ages when a material type change\n",
    "#np.unique(timeVariable.data)"
   ]
  },
  {
   "cell_type": "code",
   "execution_count": null,
   "metadata": {
    "collapsed": false
   },
   "outputs": [],
   "source": []
  },
  {
   "cell_type": "code",
   "execution_count": null,
   "metadata": {
    "collapsed": false
   },
   "outputs": [],
   "source": []
  },
  {
   "cell_type": "code",
   "execution_count": 30,
   "metadata": {
    "collapsed": false
   },
   "outputs": [],
   "source": [
    "fig= glucifer.Figure()\n",
    "#fig.append( glucifer.objects.Points(gSwarm,tracerVariable, colours= 'white black'))\n",
    "fig.append( glucifer.objects.Points(gSwarm,materialVariable))\n",
    "#fig.append( glucifer.objects.Surface(mesh, dummyField))\n",
    "#fig.show()"
   ]
  },
  {
   "cell_type": "markdown",
   "metadata": {},
   "source": [
    "Set up material parameters and functions\n",
    "-----\n",
    "\n",
    "Setup the viscosity to be a function of the temperature. Recall that these functions and values are preserved for the entire simulation time. "
   ]
  },
  {
   "cell_type": "code",
   "execution_count": 31,
   "metadata": {
    "collapsed": false
   },
   "outputs": [
    {
     "name": "stdout",
     "output_type": "stream",
     "text": [
      "(14.794420225563012, 0.7407407407407407)\n"
     ]
    }
   ],
   "source": [
    "# The yeilding of the upper slab is dependent on the strain rate.\n",
    "strainRate_2ndInvariant = fn.tensor.second_invariant( \n",
    "                            fn.tensor.symmetric( \n",
    "                            velocityField.fn_gradient ))\n",
    "\n",
    "\n",
    "theta = (dp.E *dp.deltaT)/(dp.R*(dp.TS + dp.deltaT)**2)\n",
    "\n",
    "gamma = dp.fc/(dp.a*dp.deltaT)\n",
    "print(theta, gamma )\n"
   ]
  },
  {
   "cell_type": "code",
   "execution_count": 53,
   "metadata": {
    "collapsed": false
   },
   "outputs": [],
   "source": [
    "#overide these parameters to match the reference case quoted on page 5\n",
    "theta = 15.\n",
    "gamma = 0.6\n",
    "ndp.E = 2.5\n",
    "\n"
   ]
  },
  {
   "cell_type": "code",
   "execution_count": 54,
   "metadata": {
    "collapsed": false
   },
   "outputs": [],
   "source": [
    "############\n",
    "#Rheology\n",
    "#############\n",
    "#\n",
    "#The final mantle rheology is composed as follows*:\n",
    "# \n",
    "#\n",
    "# mantleviscosityFn = max{  min{(1/omega*nonlinearVisc + 1/eta_p)**-1,\n",
    "#                           eta_max},\n",
    "#                           eta_min}\n",
    "#                      \n",
    "#nonlinearVisc => FK viscosity (could be linear or non linear)\n",
    "#eta_p   => stress-limiting effective viscosity\n",
    "#\n",
    "\n",
    "\n",
    "omega = fn.misc.constant(1.)\n",
    "\n",
    "if melt_viscosity_reduction:\n",
    "    mvr =  fn.branching.conditional( [ (temperatureField > (ndp.Tmvp + 7.5*(1. - coordinate[1])) , 0.1 ),   (         True, 1.) ] )\n",
    "    omega = omega*mvr\n",
    "\n",
    "\n",
    "#implementation of the lower mantle viscosity increase, similar to Bello et al. 2015\n",
    "a = 1.\n",
    "B = 30.\n",
    "d0 = 660e3/dp.LS  \n",
    "ds = d0/10.\n",
    "if lower_mantle:\n",
    "    inner1 = 1. - 0.5*(1. - fn.math.tanh(((1. - d0)-(coordinate[1]))/(ds)))\n",
    "    modfac = a*fn.math.exp(np.log(B)*inner1)\n",
    "    omega = omega*modfac\n",
    "\n",
    "\n",
    "\n",
    "linearVisc = fn.math.exp(theta*(1. - temperatureField))\n",
    "nl_correction = (strainRate_2ndInvariant/ndp.SR)**((1.-ndp.n)/(ndp.n))\n",
    "nonlinearVisc = omega*nl_correction*linearVisc\n",
    "if arrhenius:\n",
    "    nonlinearVisc = fn.misc.min(ndp.eta_max, omega*fn.math.exp(((ndp.E)/(ndp.n*(temperatureField + ndp.TS))) \n",
    "                                                        - ((ndp.E )/(ndp.n*(ndp.TIP + ndp.TS)))))\n",
    "\n",
    "ys =  (gamma*ndp.RA*1e-5) + (depthFn*gamma*ndp.RA) #tau_1 * 1e-5 is the cohesion value used in the paper\n",
    "if arrhenius:\n",
    "    ys =  ndp.cohesion + (depthFn*gamma*ndp.RA) #In this case we'll use a more standard cohesion\n",
    "yielding = ys/(strainRate_2ndInvariant/math.sqrt(0.5)) #extra factor to account for underworld second invariant form\n",
    "\n",
    "\n",
    "mantleviscosityFn = fn.misc.max(fn.misc.min(1./(((1./nonlinearVisc) + (1./yielding))), ndp.eta_max), ndp.eta_min)\n",
    "\n",
    "\n",
    "##Crust rheology\n",
    "ysc = ys\n",
    "#ysc = ys*0.1\n",
    "crust_yielding = ys/(strainRate_2ndInvariant/math.sqrt(0.5)) #extra factor to account for underworld second invariant form\n",
    "crustviscosityFn = fn.misc.max(fn.misc.min(1./(((1./nonlinearVisc) + (1./crust_yielding))), ndp.eta_max), ndp.eta_min)\n"
   ]
  },
  {
   "cell_type": "code",
   "execution_count": 61,
   "metadata": {
    "collapsed": false
   },
   "outputs": [
    {
     "data": {
      "text/plain": [
       "(362500.0, 174000.0)"
      ]
     },
     "execution_count": 61,
     "metadata": {},
     "output_type": "execute_result"
    }
   ],
   "source": [
    "(2/16.)*dp.LS, (0.06)*dp.LS"
   ]
  },
  {
   "cell_type": "markdown",
   "metadata": {},
   "source": [
    "**Plot the initial viscosity**\n",
    "\n",
    "Plot the viscosity, which is a function of temperature, using the initial temperature conditions set above."
   ]
  },
  {
   "cell_type": "code",
   "execution_count": 57,
   "metadata": {
    "collapsed": false
   },
   "outputs": [
    {
     "data": {
      "text/html": [
       "<img src='data:image/png;base64,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'>"
      ],
      "text/plain": [
       "<IPython.core.display.HTML object>"
      ]
     },
     "metadata": {},
     "output_type": "display_data"
    }
   ],
   "source": [
    "figEta = glucifer.Figure()\n",
    "figEta.append( glucifer.objects.Surface(mesh, temperatureField, logScale=False) )\n",
    "#figEta.save_database('test.gldb')\n",
    "figEta.show()"
   ]
  },
  {
   "cell_type": "markdown",
   "metadata": {},
   "source": [
    "System setup\n",
    "-----\n",
    "\n",
    "Since we are using a previously constructed temperature field, we will use a single Stokes solve to get consistent velocity and pressure fields.\n",
    "\n",
    "**Setup a Stokes system**"
   ]
  },
  {
   "cell_type": "code",
   "execution_count": 91,
   "metadata": {
    "collapsed": false
   },
   "outputs": [],
   "source": [
    "# Here we set a viscosity value of '1.' for both materials\n",
    "viscosityMapFn = fn.branching.map( fn_key = materialVariable,\n",
    "                         mapping = {lithosphereIndex:mantleviscosityFn, \n",
    "                                    crustIndex:crustviscosityFn,\n",
    "                                    mantleIndex:mantleviscosityFn, \n",
    "                                    eclIndex:mantleviscosityFn} )"
   ]
  },
  {
   "cell_type": "code",
   "execution_count": 92,
   "metadata": {
    "collapsed": false
   },
   "outputs": [],
   "source": [
    "# Construct our density function.\n",
    "densityFn = ndp.RA * temperatureField\n",
    "\n",
    "# Define our vertical unit vector using a python tuple (this will be automatically converted to a function).\n",
    "gravity = ( 0.0, 1.0 )\n",
    "\n",
    "# Now create a buoyancy force vector using the density and the vertical unit vector. \n",
    "buoyancyFn = densityFn * gravity"
   ]
  },
  {
   "cell_type": "code",
   "execution_count": 93,
   "metadata": {
    "collapsed": false
   },
   "outputs": [],
   "source": [
    "stokesPIC = uw.systems.Stokes(velocityField=velocityField, \n",
    "                              pressureField=pressureField,\n",
    "                              conditions=[freeslipBC,],\n",
    "                              fn_viscosity=linearVisc, \n",
    "                              fn_bodyforce=buoyancyFn )"
   ]
  },
  {
   "cell_type": "markdown",
   "metadata": {},
   "source": [
    "**Set up and solve the Stokes system**"
   ]
  },
  {
   "cell_type": "code",
   "execution_count": 94,
   "metadata": {
    "collapsed": false
   },
   "outputs": [],
   "source": [
    "solver = uw.systems.Solver(stokesPIC)\n",
    "solver.solve()"
   ]
  },
  {
   "cell_type": "markdown",
   "metadata": {},
   "source": [
    "**Add the non-linear viscosity to the Stokes system**\n"
   ]
  },
  {
   "cell_type": "code",
   "execution_count": 95,
   "metadata": {
    "collapsed": true
   },
   "outputs": [],
   "source": [
    "stokesPIC.fn_viscosity = viscosityMapFn"
   ]
  },
  {
   "cell_type": "code",
   "execution_count": 96,
   "metadata": {
    "collapsed": false
   },
   "outputs": [
    {
     "name": "stdout",
     "output_type": "stream",
     "text": [
      "\u001b[1;35m\n",
      " \n",
      "Pressure iterations:   3\n",
      "Velocity iterations:   1 (presolve)      \n",
      "Velocity iterations:  -1 (pressure solve)\n",
      "Velocity iterations:   1 (backsolve)     \n",
      "Velocity iterations:   1 (total solve)   \n",
      " \n",
      "SCR RHS  solve time: 2.2418e+00\n",
      "Pressure solve time: 2.5832e-01\n",
      "Velocity solve time: 2.2333e+00 (backsolve)\n",
      "Total solve time   : 5.0508e+00\n",
      " \n",
      "Velocity solution min/max: 0.0000e+00/0.0000e+00\n",
      "Pressure solution min/max: 0.0000e+00/0.0000e+00\n",
      " \n",
      "\u001b[00m\n"
     ]
    }
   ],
   "source": [
    "solver.set_inner_method(\"mumps\")\n",
    "solver.options.scr.ksp_type=\"cg\"\n",
    "solver.set_penalty(1.0e7)\n",
    "solver.options.scr.ksp_rtol = 1.0e-4\n",
    "solver.solve(nonLinearIterate=True)\n",
    "solver.print_stats()"
   ]
  },
  {
   "cell_type": "code",
   "execution_count": null,
   "metadata": {
    "collapsed": false
   },
   "outputs": [],
   "source": []
  },
  {
   "cell_type": "code",
   "execution_count": null,
   "metadata": {
    "collapsed": false
   },
   "outputs": [],
   "source": []
  },
  {
   "cell_type": "markdown",
   "metadata": {},
   "source": [
    "**Create an advective diffusive system**"
   ]
  },
  {
   "cell_type": "code",
   "execution_count": 97,
   "metadata": {
    "collapsed": true
   },
   "outputs": [],
   "source": [
    "advDiff = uw.systems.AdvectionDiffusion( phiField       = temperatureField, \n",
    "                                         phiDotField    = temperatureDotField, \n",
    "                                         velocityField  = velocityField,\n",
    "                                         fn_sourceTerm    = 20.0,\n",
    "                                         fn_diffusivity = 1.0, \n",
    "                                         conditions     = [neumannTempBC, dirichTempBC] )\n",
    "\n",
    "passiveadvector = uw.systems.SwarmAdvector( swarm         = gSwarm, \n",
    "                                     velocityField = velocityField, \n",
    "                                     order         = 1)"
   ]
  },
  {
   "cell_type": "code",
   "execution_count": 98,
   "metadata": {
    "collapsed": true
   },
   "outputs": [],
   "source": [
    "population_control = uw.swarm.PopulationControl(gSwarm,deleteThreshold=0.2,splitThreshold=1.,maxDeletions=3,maxSplits=0, aggressive=True, particlesPerCell=ppc)"
   ]
  },
  {
   "cell_type": "markdown",
   "metadata": {},
   "source": [
    "Analysis tools\n",
    "-----"
   ]
  },
  {
   "cell_type": "code",
   "execution_count": 116,
   "metadata": {
    "collapsed": true
   },
   "outputs": [],
   "source": [
    "#These are functions we can use to evuate integrals over restricted parts of the domain\n",
    "# For instance, we can exclude the thermal lithosphere from integrals\n",
    "\n",
    "def temprestrictionFn(lithval = 0.9):\n",
    "\n",
    "    tempMM = fn.view.min_max(temperatureField)\n",
    "    tempMM.evaluate(mesh)\n",
    "    TMAX = tempMM.max_global()\n",
    "    mantleconditions = [ (                                  temperatureField > lithval*TMAX, 1.),\n",
    "                   (                                                   True , 0.) ]\n",
    "\n",
    "\n",
    "    return fn.branching.conditional(mantleconditions)\n",
    "\n",
    "mantlerestrictFn = temprestrictionFn(lithval = 0.85)\n",
    "\n",
    "\n",
    "\n",
    "def platenessFn(val = 0.1):\n",
    "    normgradV = fn.math.abs(velocityField.fn_gradient[0]/fn.math.sqrt(velocityField[0]*velocityField[0])) #[du*/dx]/sqrt(u*u)\n",
    "\n",
    "\n",
    "\n",
    "    srconditions = [ (                                  normgradV < val, 1.),\n",
    "                   (                                                   True , 0.) ]\n",
    "\n",
    "\n",
    "    return fn.branching.conditional(srconditions)\n",
    "\n",
    "srrestrictFn = platenessFn(val = 0.1)"
   ]
  },
  {
   "cell_type": "code",
   "execution_count": 117,
   "metadata": {
    "collapsed": false
   },
   "outputs": [
    {
     "data": {
      "text/plain": [
       "'test.gldb'"
      ]
     },
     "execution_count": 117,
     "metadata": {},
     "output_type": "execute_result"
    }
   ],
   "source": [
    "#fig = glucifer.Figure()\n",
    "#fig.append( glucifer.objects.Surface(mesh, mantlerestrictFn) )\n",
    "\n",
    "#fig.show()\n",
    "#fig.save_database('test.gldb')"
   ]
  },
  {
   "cell_type": "code",
   "execution_count": 107,
   "metadata": {
    "collapsed": false
   },
   "outputs": [],
   "source": [
    "#Setup volume integrals \n",
    "\n",
    "tempint = uw.utils.Integral( temperatureField, mesh )\n",
    "areaint = uw.utils.Integral( 1.,               mesh )\n",
    "\n",
    "v2int   = uw.utils.Integral( fn.math.dot(velocityField,velocityField), mesh )\n",
    "\n",
    "dwint   = uw.utils.Integral( temperatureField*velocityField[1], mesh )\n",
    "\n",
    "sinner = fn.math.dot( strainRate_2ndInvariant, strainRate_2ndInvariant )\n",
    "vdint = uw.utils.Integral( (4.*viscosityMapFn*sinner), mesh )\n",
    "\n",
    "mantleArea   = uw.utils.Integral( mantlerestrictFn, mesh )\n",
    "mantleTemp = uw.utils.Integral( temperatureField*mantlerestrictFn, mesh )\n",
    "mantleVisc = uw.utils.Integral( mantleviscosityFn*mantlerestrictFn, mesh )\n",
    "mantleVd = uw.utils.Integral( (4.*viscosityMapFn*sinner*mantlerestrictFn), mesh ) #these now work on MappingFunctions"
   ]
  },
  {
   "cell_type": "code",
   "execution_count": 101,
   "metadata": {
    "collapsed": true
   },
   "outputs": [],
   "source": [
    "#Setup surface integrals\n",
    "\n",
    "rmsSurfInt = uw.utils.Integral( fn=velocityField[0]*velocityField[0], mesh=mesh, integrationType='Surface', \n",
    "                          surfaceIndexSet=mesh.specialSets[\"MaxJ_VertexSet\"])\n",
    "nuTop      = uw.utils.Integral( fn=temperatureField.fn_gradient[1],    mesh=mesh, integrationType='Surface', \n",
    "                          surfaceIndexSet=mesh.specialSets[\"MaxJ_VertexSet\"])\n",
    "nuBottom   = uw.utils.Integral( fn=temperatureField.fn_gradient[1],    mesh=mesh, integrationType='Surface', \n",
    "                          surfaceIndexSet=mesh.specialSets[\"MinJ_VertexSet\"])\n",
    "\n",
    "plateint  = uw.utils.Integral( fn=srrestrictFn, mesh=mesh, integrationType='Surface', #Integrate the plateness function\n",
    "                          surfaceIndexSet=mesh.specialSets[\"MaxJ_VertexSet\"]) \n",
    "\n",
    "surfint  = uw.utils.Integral( fn=1., mesh=mesh, integrationType='Surface',   #Surface length function (i.e. domain width)\n",
    "                          surfaceIndexSet=mesh.specialSets[\"MaxJ_VertexSet\"])"
   ]
  },
  {
   "cell_type": "code",
   "execution_count": 102,
   "metadata": {
    "collapsed": true
   },
   "outputs": [],
   "source": [
    "#Define functions for the evaluation of integrals\n",
    "\n",
    "def basic_int(ourIntegral):           #This one just hands back the evaluated integral\n",
    "    return ourIntegral.evaluate()[0]\n",
    "\n",
    "def avg_temp():\n",
    "    return tempint.evaluate()[0]/areaint.evaluate()[0]\n",
    "\n",
    "def nusseltTB(temp_field, mesh):\n",
    "    return -nuTop.evaluate()[0], -nuBottom.evaluate()[0]\n",
    "\n",
    "def rms():\n",
    "    return math.sqrt(v2int.evaluate()[0]/areaint.evaluate()[0])\n",
    "\n",
    "def rms_surf():\n",
    "    return math.sqrt(rmsSurfInt.evaluate()[0])\n",
    "\n",
    "def max_vx_surf(velfield, mesh):\n",
    "    vuvelxfn = fn.view.min_max(velfield[0])\n",
    "    vuvelxfn.evaluate(mesh.specialSets[\"MaxJ_VertexSet\"])\n",
    "    return vuvelxfn.max_global()\n",
    "\n",
    "\n",
    "def visc_extr(viscfn):\n",
    "    vuviscfn = fn.view.min_max(viscfn)\n",
    "    vuviscfn.evaluate(mesh)\n",
    "    return vuviscfn.max_global(), vuviscfn.min_global()"
   ]
  },
  {
   "cell_type": "code",
   "execution_count": 103,
   "metadata": {
    "collapsed": false
   },
   "outputs": [],
   "source": [
    "#v2sum_integral  = uw.utils.Integral( mesh=mesh, fn=fn.math.dot( velocityField, velocityField ) )\n",
    "#volume_integral = uw.utils.Integral( mesh=mesh, fn=1. )\n",
    "#Vrms = math.sqrt( v2sum_integral.evaluate()[0] )/volume_integral.evaluate()[0]\n",
    "\n",
    "\n",
    "\n",
    "#if(uw.rank()==0):\n",
    "#    print('Initial Vrms = {0:.3f}'.format(Vrms))"
   ]
  },
  {
   "cell_type": "code",
   "execution_count": 55,
   "metadata": {
    "collapsed": false
   },
   "outputs": [],
   "source": [
    "# Check the Metrics\n",
    "\n",
    "#Avg_temp = avg_temp()\n",
    "#Rms = rms()\n",
    "#Rms_surf = rms_surf()\n",
    "#Max_vx_surf = max_vx_surf(velocityField, mesh)\n",
    "#Gravwork = basic_int(dwint)\n",
    "#Viscdis = basic_int(vdint)\n",
    "#nu1, nu0 = nusseltTB(temperatureField, mesh) # return top then bottom\n",
    "#etamax, etamin = visc_extr(mantleviscosityFn)\n",
    "\n",
    "#Area_mantle = basic_int(mantleArea)\n",
    "#Viscmantle = basic_int(mantleVisc)\n",
    "#Tempmantle = basic_int(mantleTemp)\n",
    "#Viscdismantle = basic_int(mantleVd)"
   ]
  },
  {
   "cell_type": "code",
   "execution_count": 60,
   "metadata": {
    "collapsed": false
   },
   "outputs": [],
   "source": [
    "#Tempmantle/Area_mantle, Viscmantle/Area_mantle\n",
    "#Plateness = basic_int(plateint)/basic_int(surfint)"
   ]
  },
  {
   "cell_type": "code",
   "execution_count": 108,
   "metadata": {
    "collapsed": true
   },
   "outputs": [],
   "source": []
  },
  {
   "cell_type": "markdown",
   "metadata": {},
   "source": [
    "Viz.\n",
    "-----"
   ]
  },
  {
   "cell_type": "code",
   "execution_count": 66,
   "metadata": {
    "collapsed": false
   },
   "outputs": [],
   "source": [
    "#tracerVariable.data"
   ]
  },
  {
   "cell_type": "code",
   "execution_count": 67,
   "metadata": {
    "collapsed": false
   },
   "outputs": [],
   "source": [
    "#Pack some stuff into a database as well\n",
    "figDb = glucifer.Figure()\n",
    "#figDb.append( glucifer.objects.Mesh(mesh))\n",
    "figDb.append( glucifer.objects.VectorArrows(mesh,velocityField, scaling=0.0005))\n",
    "figDb.append( glucifer.objects.Points(gSwarm,tracerVariable, colours= 'white black'))\n",
    "figDb.append( glucifer.objects.Surface(mesh, mantleviscosityFn, logScale=True))\n",
    "figDb.append( glucifer.objects.Surface(mesh, temperatureField))\n",
    "#figDb.show()"
   ]
  },
  {
   "cell_type": "code",
   "execution_count": null,
   "metadata": {
    "collapsed": true
   },
   "outputs": [],
   "source": []
  },
  {
   "cell_type": "code",
   "execution_count": 68,
   "metadata": {
    "collapsed": false
   },
   "outputs": [],
   "source": [
    "\n",
    "def checkpoint1(step, checkpointPath,filename, filewrites):\n",
    "    path = checkpointPath + str(step) \n",
    "    os.mkdir(path)\n",
    "    ##Write and save the file, if not already a writing step\n",
    "    if not step % filewrites == 0:\n",
    "        filename.write((17*'%-15s ' + '\\n') % (realtime, Viscdis, float(nu0), float(nu1), Avg_temp,\n",
    "                                              Tempmantle,TMAX,\n",
    "                                              Rms,Rms_surf,Max_vx_surf,Gravwork, etamax, etamin, \n",
    "                                              Area_mantle, Viscmantle,  Viscdismantle,Plateness ))\n",
    "    filename.close()\n",
    "    shutil.copyfile(os.path.join(outputPath, outputFile), os.path.join(path, outputFile))\n",
    "\n",
    "\n",
    "def checkpoint2(step, checkpointPath, swarm, filename, varlist = [materialVariable], varnames = ['materialVariable']):\n",
    "    path = checkpointPath + str(step) \n",
    "    velfile = \"velocityField\" + \".hdf5\"\n",
    "    tempfile = \"temperatureField\" + \".hdf5\"\n",
    "    pressfile = \"pressureField\" + \".hdf5\"\n",
    "    velocityField.save(os.path.join(path, velfile))\n",
    "    temperatureField.save(os.path.join(path, tempfile))\n",
    "    pressureField.save(os.path.join(path, pressfile))\n",
    "    swarm.save(os.path.join(path, \"swarm.h5\") ) \n",
    "    for ix in range(len(varlist)):\n",
    "        varb = varlist[ix]\n",
    "        varb.save(os.path.join(path,varnames[ix] + \".h5\"))\n",
    "    "
   ]
  },
  {
   "cell_type": "markdown",
   "metadata": {},
   "source": [
    "**Miscellania**"
   ]
  },
  {
   "cell_type": "code",
   "execution_count": 34,
   "metadata": {
    "collapsed": false
   },
   "outputs": [],
   "source": [
    "surface_xs = np.linspace(mesh.minCoord[0], mesh.maxCoord[0], mesh.elementRes[0] + 1)\n",
    "surface_nodes = np.array(zip(surface_xs, np.ones(len(surface_xs)*mesh.maxCoord[1]))) #For evaluation surface velocity\n",
    "\n",
    "\n",
    "normgradV = velocityField.fn_gradient[0]/fn.math.sqrt(velocityField[0]*velocityField[0])\n",
    "\n",
    "tempMM = fn.view.min_max(temperatureField)\n",
    "dummy = tempMM.evaluate(mesh)\n",
    "\n"
   ]
  },
  {
   "cell_type": "code",
   "execution_count": 36,
   "metadata": {
    "collapsed": false
   },
   "outputs": [
    {
     "data": {
      "text/plain": [
       "(1.0890113793298568, 1.0890113793298568)"
      ]
     },
     "execution_count": 36,
     "metadata": {},
     "output_type": "execute_result"
    }
   ],
   "source": [
    "tempMM.max_global(), temperatureField.data.max()"
   ]
  },
  {
   "cell_type": "markdown",
   "metadata": {},
   "source": [
    "Main simulation loop\n",
    "-----\n",
    "\n",
    "Run a few advection and Stokes solver steps to make sure we are in, or close to, equilibrium."
   ]
  },
  {
   "cell_type": "code",
   "execution_count": 70,
   "metadata": {
    "collapsed": false
   },
   "outputs": [],
   "source": [
    "# initialise timer for computation\n",
    "start = time.clock()\n",
    "# setup summary output file (name above)\n",
    "if checkpointLoad:\n",
    "    if uw.rank() == 0:\n",
    "        shutil.copyfile(os.path.join(checkpointLoadDir, outputFile), outputPath+outputFile)\n",
    "    comm.Barrier()\n",
    "    f_o = open(os.path.join(outputPath, outputFile), 'a')\n",
    "    prevdata = np.genfromtxt(os.path.join(outputPath, outputFile), skip_header=0, skip_footer=0)\n",
    "    if len(prevdata.shape) == 1: #this is in case there is only one line in previous file\n",
    "        realtime = prevdata[0]\n",
    "    else:\n",
    "        realtime = prevdata[prevdata.shape[0]-1, 0]\n",
    "    step = int(checkpointLoadDir.split('/')[-1])\n",
    "    timevals = [0.]\n",
    "else:\n",
    "    f_o = open(outputPath+outputFile, 'w')\n",
    "    realtime = 0.\n",
    "    step = 0\n",
    "    timevals = [0.]"
   ]
  },
  {
   "cell_type": "code",
   "execution_count": 459,
   "metadata": {
    "collapsed": false
   },
   "outputs": [
    {
     "ename": "ValueError",
     "evalue": "I/O operation on closed file",
     "output_type": "error",
     "traceback": [
      "\u001b[0;31m---------------------------------------------------------------------------\u001b[0m",
      "\u001b[0;31mValueError\u001b[0m                                Traceback (most recent call last)",
      "\u001b[0;32m<ipython-input-459-ca241600c9cd>\u001b[0m in \u001b[0;36m<module>\u001b[0;34m()\u001b[0m\n\u001b[1;32m     54\u001b[0m         \u001b[0;32mif\u001b[0m \u001b[0muw\u001b[0m\u001b[0;34m.\u001b[0m\u001b[0mrank\u001b[0m\u001b[0;34m(\u001b[0m\u001b[0;34m)\u001b[0m\u001b[0;34m==\u001b[0m\u001b[0;36m0\u001b[0m\u001b[0;34m:\u001b[0m\u001b[0;34m\u001b[0m\u001b[0m\n\u001b[1;32m     55\u001b[0m             f_o.write((11*'%-15s ' + '\\n') % (realtime, Viscdis, float(nu0), float(nu1), Avg_temp, \n\u001b[0;32m---> 56\u001b[0;31m                                               Rms,Rms_surf,Max_vx_surf,Gravwork, etamax, etamin))\n\u001b[0m\u001b[1;32m     57\u001b[0m     \u001b[0;31m################\u001b[0m\u001b[0;34m\u001b[0m\u001b[0;34m\u001b[0m\u001b[0m\n\u001b[1;32m     58\u001b[0m     \u001b[0;31m#Also repopulate entire swarm periodically\u001b[0m\u001b[0;34m\u001b[0m\u001b[0;34m\u001b[0m\u001b[0m\n",
      "\u001b[0;31mValueError\u001b[0m: I/O operation on closed file"
     ]
    }
   ],
   "source": [
    "#while step < 21:\n",
    "while realtime < 1.:\n",
    "\n",
    "    # solve Stokes and advection systems\n",
    "    solver.solve(nonLinearIterate=True)\n",
    "    dt = advDiff.get_max_dt()\n",
    "    if step == 0:\n",
    "        dt = 0.\n",
    "    advDiff.integrate(dt)\n",
    "    passiveadvector.integrate(dt)\n",
    "    \n",
    "\n",
    "    # Increment\n",
    "    realtime += dt\n",
    "    step += 1\n",
    "    timevals.append(realtime)\n",
    "    ################\n",
    "    #Gldb output\n",
    "    ################ \n",
    "    if (step % gldbs_output == 0):\n",
    "        #Rebuild any necessary swarm variables\n",
    "        #Write gldbs\n",
    "        fnamedb = \"dbFig\" + \"_\" + str(ModIt) + \"_\" + str(step) + \".gldb\"\n",
    "        fullpath = os.path.join(outputPath + \"gldbs/\" + fnamedb)\n",
    "        #figDb.show()\n",
    "        figDb.save_database(fullpath)\n",
    "    ################\n",
    "    #Files output\n",
    "    ################ \n",
    "    if (step % files_output == 0):\n",
    "\n",
    "        vel_surface = velocityField.evaluate_global(surface_nodes)\n",
    "        norm_surface_sr = normgradV.evaluate_global(surface_nodes)\n",
    "        if uw.rank() == 0:\n",
    "            fnametemp = \"velsurface\" + \"_\" + str(ModIt) + \"_\" + str(step)\n",
    "            fullpath = os.path.join(outputPath + \"files/\" + fnametemp)\n",
    "            np.save(fullpath, vel_surface)\n",
    "            fnametemp = \"norm_surface_sr\" + \"_\" + str(ModIt) + \"_\" + str(step)\n",
    "            fullpath = os.path.join(outputPath + \"files/\" + fnametemp)\n",
    "            np.save(fullpath, norm_surface_sr)\n",
    "    ################            \n",
    "    # Calculate the Metrics, only on 1 of the processors:\n",
    "    ################\n",
    "    if (step % metric_output == 0):\n",
    "        ###############\n",
    "        #Swarm - based Metrics\n",
    "        ###############\n",
    "        # Calculate the RMS velocity and Nusselt number.\n",
    "        # Calculate the Metrics, only on 1 of the processors:\n",
    "        mantlerestrictFn = temprestrictionFn() #rebuild the mantle restriction function (but these should be dynamic?)\n",
    "        srrestrictFn = platenessFn(val = 0.1) #rebuild the plateness restriction function\n",
    "        dummy = tempMM.evaluate(mesh) #Re-evaluate any fn.view.min_max guys\n",
    "        #Rebuild these integrals (a test because metrics changes after a restart)\n",
    "        mantleArea   = uw.utils.Integral( mantlerestrictFn, mesh )\n",
    "        mantleTemp = uw.utils.Integral( temperatureField*mantlerestrictFn, mesh )\n",
    "        mantleVisc = uw.utils.Integral( mantleviscosityFn*mantlerestrictFn, mesh )\n",
    "        mantleVd = uw.utils.Integral( (4.*viscosityMapFn*sinner*mantlerestrictFn), mesh ) #these now work on MappingFunctions\n",
    "        ###\n",
    "        Avg_temp = avg_temp()\n",
    "        Rms = rms()\n",
    "        Rms_surf = rms_surf()\n",
    "        Max_vx_surf = max_vx_surf(velocityField, mesh)\n",
    "        Gravwork = basic_int(dwint)\n",
    "        Viscdis = basic_int(vdint)\n",
    "        nu1, nu0 = nusseltTB(temperatureField, mesh) # return top then bottom\n",
    "        etamax, etamin = visc_extr(mantleviscosityFn)\n",
    "        Area_mantle = basic_int(mantleArea)\n",
    "        Viscmantle = basic_int(mantleVisc)\n",
    "        Tempmantle = basic_int(mantleTemp)\n",
    "        Viscdismantle = basic_int(mantleVd)\n",
    "        Plateness = basic_int(plateint)/basic_int(surfint)\n",
    "        TMAX = tempMM.max_global()\n",
    "        # output to summary text file\n",
    "        if uw.rank()==0:\n",
    "            f_o.write((17*'%-15s ' + '\\n') % (realtime, Viscdis, float(nu0), float(nu1), Avg_temp,\n",
    "                                              Tempmantle,TMAX,\n",
    "                                              Rms,Rms_surf,Max_vx_surf,Gravwork, etamax, etamin, \n",
    "                                              Area_mantle, Viscmantle,  Viscdismantle,Plateness ))\n",
    "    ################\n",
    "    #Also repopulate entire swarm periodically\n",
    "    ################\n",
    "    #if step % swarm_repop == 0:\n",
    "    population_control.repopulate()\n",
    "    \n",
    "    ################\n",
    "    #Checkpoint\n",
    "    ################\n",
    "    if step % checkpoint_every == 0:\n",
    "        if uw.rank() == 0:\n",
    "            checkpoint1(step, checkpointPath,f_o, metric_output)           \n",
    "        checkpoint2(step, checkpointPath, gSwarm, f_o, varlist = varlist, varnames = varnames)\n",
    "        f_o = open(os.path.join(outputPath, outputFile), 'a') #is this line supposed to be here?\n",
    "    ################\n",
    "    #Particle update\n",
    "    ###############\n",
    "    timeVariable.data[:] += dt #increment the ages (is this efficient?)\n",
    "    dummyData = np.copy(materialVariable.data)#This is part of a hack that resets ages when a material type changes\n",
    "    if step % swarm_update == 0:\n",
    "        for i in range(2): #Need to go through twice first time through\n",
    "            materialVariable.data[:] = fn.branching.conditional(DG.condition_list).evaluate(gSwarm)\n",
    "    timeVariable.data[np.where(dummyData[:] != materialVariable.data[:])] = 0. #resets those ages when a material type change\n",
    "    \n",
    "f_o.close()\n",
    "print 'step =',step"
   ]
  },
  {
   "cell_type": "code",
   "execution_count": null,
   "metadata": {
    "collapsed": true
   },
   "outputs": [],
   "source": []
  }
 ],
 "metadata": {
  "kernelspec": {
   "display_name": "Python 2",
   "language": "python",
   "name": "python2"
  },
  "language_info": {
   "codemirror_mode": {
    "name": "ipython",
    "version": 2
   },
   "file_extension": ".py",
   "mimetype": "text/x-python",
   "name": "python",
   "nbconvert_exporter": "python",
   "pygments_lexer": "ipython2",
   "version": "2.7.9"
  },
  "widgets": {
   "state": {},
   "version": "1.1.2"
  }
 },
 "nbformat": 4,
 "nbformat_minor": 0
}
