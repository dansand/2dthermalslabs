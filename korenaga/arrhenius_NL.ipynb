{
 "cells": [
  {
   "cell_type": "markdown",
   "metadata": {},
   "source": [
    "This Notebook implements two-dimensional, incompressible, internally-heated mantle convection. The model is similar to Korenaga 2010, but with a shear-thinning arrhenius-viscosity law.\n",
    "\n",
    "\n",
    "**Keywords:** Stokes system, advective diffusive systems, analysis tools, tools for post analysis, rheologies\n",
    "\n",
    "\n",
    "**References**\n",
    "\n",
    "Korenaga, Jun. \"Scaling of plate tectonic convection with pseudoplastic rheology.\" Journal of Geophysical Research: Solid Earth 115.B11 (2010).\n",
    "http://onlinelibrary.wiley.com/doi/10.1029/2010JB007670/full"
   ]
  },
  {
   "cell_type": "code",
   "execution_count": 1,
   "metadata": {
    "collapsed": false
   },
   "outputs": [],
   "source": [
    "import numpy as np\n",
    "import underworld as uw\n",
    "import math\n",
    "from underworld import function as fn\n",
    "import glucifer\n",
    "\n",
    "import os\n",
    "import sys\n",
    "import natsort\n",
    "import shutil\n",
    "from easydict import EasyDict as edict\n",
    "import slippy2 as sp\n",
    "import operator\n",
    "import pint\n",
    "import time\n",
    "import operator\n",
    "\n",
    "from mpi4py import MPI\n",
    "comm = MPI.COMM_WORLD\n",
    "rank = comm.Get_rank()"
   ]
  },
  {
   "cell_type": "markdown",
   "metadata": {},
   "source": [
    "Model name and directories\n",
    "-----"
   ]
  },
  {
   "cell_type": "code",
   "execution_count": 2,
   "metadata": {
    "collapsed": true
   },
   "outputs": [],
   "source": [
    "############\n",
    "#Model name.  \n",
    "############\n",
    "Model = \"T\"\n",
    "ModNum = 0\n",
    "\n",
    "if len(sys.argv) == 1:\n",
    "    ModIt = \"Base\"\n",
    "elif sys.argv[1] == '-f':\n",
    "    ModIt = \"Base\"\n",
    "else:\n",
    "    ModIt = str(sys.argv[1])"
   ]
  },
  {
   "cell_type": "code",
   "execution_count": 3,
   "metadata": {
    "collapsed": false
   },
   "outputs": [],
   "source": [
    "###########\n",
    "#Standard output directory setup\n",
    "###########\n",
    "\n",
    "\n",
    "outputPath = \"results\" + \"/\" +  str(Model) + \"/\" + str(ModNum) + \"/\" + str(ModIt) + \"/\"\n",
    "imagePath = outputPath + 'images/'\n",
    "filePath = outputPath + 'files/'\n",
    "checkpointPath = outputPath + 'checkpoint/'\n",
    "dbPath = outputPath + 'gldbs/'\n",
    "outputFile = 'results_model' + Model + '_' + str(ModNum) + '_' + str(ModIt) + '.dat'\n",
    "\n",
    "if uw.rank()==0:\n",
    "    # make directories if they don't exist\n",
    "    if not os.path.isdir(outputPath):\n",
    "        os.makedirs(outputPath)\n",
    "    if not os.path.isdir(checkpointPath):\n",
    "        os.makedirs(checkpointPath)\n",
    "    if not os.path.isdir(imagePath):\n",
    "        os.makedirs(imagePath)\n",
    "    if not os.path.isdir(dbPath):\n",
    "        os.makedirs(dbPath)\n",
    "    if not os.path.isdir(filePath):\n",
    "        os.makedirs(filePath)\n",
    "        \n",
    "comm.Barrier() #Barrier here so no procs run the check in the next cell too early"
   ]
  },
  {
   "cell_type": "code",
   "execution_count": 4,
   "metadata": {
    "collapsed": false
   },
   "outputs": [
    {
     "name": "stdout",
     "output_type": "stream",
     "text": [
      "results/T/0/Base/checkpoint/ is empty\n"
     ]
    }
   ],
   "source": [
    "###########\n",
    "#Check if starting from checkpoint\n",
    "###########\n",
    "\n",
    "checkdirs = []\n",
    "for dirpath, dirnames, files in os.walk(checkpointPath):\n",
    "    if files:\n",
    "        print dirpath, 'has files'\n",
    "        checkpointLoad = True\n",
    "        checkdirs.append(dirpath)\n",
    "    if not files:\n",
    "        print dirpath, 'is empty'\n",
    "        checkpointLoad = False"
   ]
  },
  {
   "cell_type": "markdown",
   "metadata": {},
   "source": [
    "Setup parameters\n",
    "-----\n",
    "\n",
    "Set simulation parameters for test."
   ]
  },
  {
   "cell_type": "markdown",
   "metadata": {},
   "source": [
    "**Use pint to setup any unit conversions we'll need**"
   ]
  },
  {
   "cell_type": "code",
   "execution_count": 5,
   "metadata": {
    "collapsed": false
   },
   "outputs": [],
   "source": [
    "#u = pint.UnitRegistry()\n",
    "#cmpery = u.cm/u.year\n",
    "#mpermy = u.m/u.megayear\n",
    "\n",
    "#cmpery.to(mpermy)"
   ]
  },
  {
   "cell_type": "markdown",
   "metadata": {},
   "source": [
    "**Set parameter dictionaries**"
   ]
  },
  {
   "cell_type": "code",
   "execution_count": 6,
   "metadata": {
    "collapsed": false
   },
   "outputs": [],
   "source": [
    "#dimensional parameter dictionary\n",
    "dp = edict({'LS':2900.*1e3,\n",
    "           'rho':3300,\n",
    "           'g':9.8, \n",
    "           'eta0':1e21, #I think...page 14\n",
    "           'k':1e-6,\n",
    "           'a':2e-5, \n",
    "           'deltaT':1350, #Hunen\n",
    "           'TS':273.,\n",
    "           'cohesion':21e6,\n",
    "           'fc':0.02,\n",
    "           'E':240000.,\n",
    "           'R':8.314})\n",
    "\n",
    "dp['TI'] = dp.TS + dp.deltaT\n",
    "\n",
    "\n",
    "#scale_factors\n",
    "\n",
    "sf = edict({'stress':dp.LS**2/(dp.k*dp.eta0),\n",
    "            'lith_grad':dp.rho*dp.g*(dp.LS)**3/(dp.eta0*dp.k) ,\n",
    "            'vel':dp.LS/dp.k,\n",
    "            'SR':dp.LS**2/dp.k,\n",
    "            'W':(dp.rho*dp.g*dp.LS)/(dp.R*dp.deltaT), #This is the activation energy scale, in terms of depth (not pressure)\n",
    "            'E': 1./(dp.R*dp.deltaT)})\n",
    "\n",
    "#dimensionless parameters\n",
    "\n",
    "ndp = edict({'RA':(dp.g*dp.rho*dp.a*dp.deltaT*(dp.LS)**3)/(dp.k*dp.eta0),\n",
    "            'cohesion':dp.cohesion*sf.stress,\n",
    "            'fcd':dp.fc*sf.lith_grad,\n",
    "            'gamma':dp.fc/(dp.a*dp.deltaT),\n",
    "            'E':dp.E*sf.E,\n",
    "            'TSP':0., \n",
    "            'TIP':1.,\n",
    "            'n':1.,\n",
    "            'TS':dp.TS/dp.deltaT,\n",
    "            'TI':dp.TI/dp.deltaT,\n",
    "            'eta_min':1e-3,\n",
    "            'eta_max':1e5,\n",
    "            'H':20.})\n",
    "\n",
    "\n",
    "\n",
    "\n",
    "#ndp.RA = 1e6\n",
    "dp.VR = (0.1*(dp.k/dp.LS)*ndp.RA**(2/3.)) #characteristic velocity\n",
    "dp.SR = dp.VR/dp.LS #characteristic strain rate\n",
    "\n",
    "ndp.VR = dp.VR*sf.vel #characteristic velocity\n",
    "ndp.SR = dp.SR*sf.SR #characteristic strain rate"
   ]
  },
  {
   "cell_type": "code",
   "execution_count": 7,
   "metadata": {
    "collapsed": false
   },
   "outputs": [
    {
     "data": {
      "text/plain": [
       "21.382941758212386"
      ]
     },
     "execution_count": 7,
     "metadata": {},
     "output_type": "execute_result"
    }
   ],
   "source": [
    "#Make this smaller\n",
    "ndp.E"
   ]
  },
  {
   "cell_type": "code",
   "execution_count": 8,
   "metadata": {
    "collapsed": false
   },
   "outputs": [
    {
     "data": {
      "text/plain": [
       "(7683.0179696370315, 7683.017969637031)"
      ]
     },
     "execution_count": 8,
     "metadata": {},
     "output_type": "execute_result"
    }
   ],
   "source": [
    "ndp.SR, ndp.VR #these should be the same for dimensionless length scale = 1."
   ]
  },
  {
   "cell_type": "code",
   "execution_count": 9,
   "metadata": {
    "collapsed": false
   },
   "outputs": [
    {
     "data": {
      "text/plain": [
       "(1623.0, 273.0, 1.2022222222222223, 0.20222222222222222, 0.0, 1.0)"
      ]
     },
     "execution_count": 9,
     "metadata": {},
     "output_type": "execute_result"
    }
   ],
   "source": [
    "#Temperature convention\n",
    "dp.TI, dp.TS, ndp.TI, ndp.TS, ndp.TSP, ndp.TIP"
   ]
  },
  {
   "cell_type": "markdown",
   "metadata": {},
   "source": [
    "**Model setup parameters**"
   ]
  },
  {
   "cell_type": "code",
   "execution_count": 10,
   "metadata": {
    "collapsed": true
   },
   "outputs": [],
   "source": [
    "###########\n",
    "#Model setup parameters\n",
    "###########\n",
    "\n",
    "refineMesh = True\n",
    "stickyAir = False\n",
    "stress_dependent = True\n",
    "lower_mantle = True\n",
    "melt_viscosity_reduction= False\n",
    "\n",
    "\n",
    "\n",
    "MINX = -2.\n",
    "MINY = 0.\n",
    "MAXX = 2.\n",
    "\n",
    "#MAXY = 1.035\n",
    "MAXY = 1.\n",
    "\n",
    "if MINX == 0.:\n",
    "    squareModel = True\n",
    "else: \n",
    "    squareModel = False\n",
    "    \n",
    "    \n",
    "dim = 2          # number of spatial dimensions\n",
    "\n",
    "\n",
    "#MESH STUFF\n",
    "\n",
    "RES = 64\n",
    "\n",
    "\n",
    "Xres = int(RES*4)\n",
    "\n",
    "\n",
    "if stickyAir:\n",
    "    Yres = RES\n",
    "    MAXY = 1. + dp.StALS/dp.LS #150km\n",
    "    \n",
    "else:\n",
    "    Yres = RES\n",
    "    MAXY = 1.\n",
    "\n",
    "\n",
    "periodic = [True, False]\n",
    "elementType = \"Q1/dQ0\"\n",
    "#elementType =\"Q2/DPC1\"\n",
    "\n",
    "\n",
    "#System/Solver stuff\n",
    "\n",
    "PIC_integration=True\n",
    "ppc = 25\n",
    "\n",
    "#Output and safety stuff\n",
    "\n",
    "swarm_repop = 5\n",
    "files_output = 1\n",
    "gldbs_output = 20\n",
    "checkpoint_every = 2\n",
    "metric_output = 10"
   ]
  },
  {
   "cell_type": "markdown",
   "metadata": {},
   "source": [
    "Create mesh and finite element variables\n",
    "------"
   ]
  },
  {
   "cell_type": "code",
   "execution_count": 11,
   "metadata": {
    "collapsed": false
   },
   "outputs": [],
   "source": [
    "mesh = uw.mesh.FeMesh_Cartesian( elementType = (\"Q1/dQ0\"),\n",
    "                                 elementRes  = (Xres, Yres), \n",
    "                                 minCoord    = (MINX, MINY), \n",
    "                                 maxCoord    = (MAXX, MAXY))\n",
    "velocityField       = uw.mesh.MeshVariable( mesh=mesh,         nodeDofCount=2 )\n",
    "pressureField       = uw.mesh.MeshVariable( mesh=mesh.subMesh, nodeDofCount=1 )\n",
    "temperatureField    = uw.mesh.MeshVariable( mesh=mesh,         nodeDofCount=1 )\n",
    "temperatureDotField = uw.mesh.MeshVariable( mesh=mesh,         nodeDofCount=1 )"
   ]
  },
  {
   "cell_type": "markdown",
   "metadata": {},
   "source": [
    "Initial conditions\n",
    "-------\n"
   ]
  },
  {
   "cell_type": "markdown",
   "metadata": {},
   "source": [
    "**Plot initial temperature**"
   ]
  },
  {
   "cell_type": "code",
   "execution_count": 12,
   "metadata": {
    "collapsed": true
   },
   "outputs": [],
   "source": [
    "coordinate = fn.input()\n",
    "depthFn = 1. - coordinate[1]"
   ]
  },
  {
   "cell_type": "code",
   "execution_count": 13,
   "metadata": {
    "collapsed": false
   },
   "outputs": [],
   "source": [
    "s = 7.0\n",
    "b = 1.02\n",
    "\n",
    "\n",
    "depth_temp = 1. - ((b)*((1. - depthFn)/(b))**s) #larger values of s bring the average temp closer to 1.\n",
    "\n",
    "if not checkpointLoad:\n",
    "    # Setup temperature initial condition via numpy arrays\n",
    "    A = 0.2\n",
    "    #Note that width = height = 1\n",
    "    pertCoeff = fn.misc.min(1., depth_temp + \n",
    "                            A*(fn.math.cos( math.pi * coordinate[0])  * fn.math.sin( math.pi * coordinate[1] )))        \n",
    "    temperatureField.data[:] = pertCoeff.evaluate(mesh)  "
   ]
  },
  {
   "cell_type": "code",
   "execution_count": 14,
   "metadata": {
    "collapsed": false
   },
   "outputs": [
    {
     "data": {
      "text/html": [
       "<img src='data:image/png;base64,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'>"
      ],
      "text/plain": [
       "<IPython.core.display.HTML object>"
      ]
     },
     "metadata": {},
     "output_type": "display_data"
    }
   ],
   "source": [
    "figtemp = glucifer.Figure()\n",
    "figtemp.append( glucifer.objects.Surface(mesh, temperatureField) )\n",
    "figtemp.show()"
   ]
  },
  {
   "cell_type": "code",
   "execution_count": 15,
   "metadata": {
    "collapsed": false
   },
   "outputs": [
    {
     "data": {
      "text/plain": [
       "0.1120286178138081"
      ]
     },
     "execution_count": 15,
     "metadata": {},
     "output_type": "execute_result"
    }
   ],
   "source": [
    "temperatureField.data.min()"
   ]
  },
  {
   "cell_type": "markdown",
   "metadata": {},
   "source": [
    "**Boundary conditions**"
   ]
  },
  {
   "cell_type": "code",
   "execution_count": 16,
   "metadata": {
    "collapsed": false
   },
   "outputs": [
    {
     "data": {
      "text/plain": [
       "(1.0, 0.0)"
      ]
     },
     "execution_count": 16,
     "metadata": {},
     "output_type": "execute_result"
    }
   ],
   "source": [
    "ndp.TIP, ndp.TSP"
   ]
  },
  {
   "cell_type": "code",
   "execution_count": 17,
   "metadata": {
    "collapsed": false
   },
   "outputs": [],
   "source": [
    "for index in mesh.specialSets[\"MinJ_VertexSet\"]:\n",
    "    temperatureField.data[index] = ndp.TIP\n",
    "for index in mesh.specialSets[\"MaxJ_VertexSet\"]:\n",
    "    temperatureField.data[index] = ndp.TSP\n",
    "    \n",
    "iWalls = mesh.specialSets[\"MinI_VertexSet\"] + mesh.specialSets[\"MaxI_VertexSet\"]\n",
    "jWalls = mesh.specialSets[\"MinJ_VertexSet\"] + mesh.specialSets[\"MaxJ_VertexSet\"]\n",
    "tWalls = mesh.specialSets[\"MaxJ_VertexSet\"]\n",
    "bWalls =mesh.specialSets[\"MinJ_VertexSet\"]\n",
    "\n",
    "\n",
    "freeslipBC = uw.conditions.DirichletCondition( variable      = velocityField, \n",
    "                                               indexSetsPerDof = ( iWalls, jWalls) )\n",
    "# also set dirichlet for temp field\n",
    "dirichTempBC = uw.conditions.DirichletCondition(     variable=temperatureField, \n",
    "                                              indexSetsPerDof=(tWalls,) )\n",
    "dT_dy = [0.,0.]\n",
    "\n",
    "# also set dirichlet for temp field\n",
    "neumannTempBC = uw.conditions.NeumannCondition( dT_dy, variable=temperatureField, \n",
    "                                         nodeIndexSet=bWalls)\n",
    "\n"
   ]
  },
  {
   "cell_type": "markdown",
   "metadata": {},
   "source": [
    "Particles\n",
    "-----\n"
   ]
  },
  {
   "cell_type": "code",
   "execution_count": 18,
   "metadata": {
    "collapsed": false
   },
   "outputs": [],
   "source": [
    "###########\n",
    "#Material Swarm and variables\n",
    "###########\n",
    "\n",
    "gSwarm = uw.swarm.Swarm(mesh=mesh, particleEscape=True)\n",
    "tracerVariable = gSwarm.add_variable( dataType=\"int\", count=1)\n",
    "layout = uw.swarm.layouts.PerCellRandomLayout(swarm=gSwarm, particlesPerCell=ppc)\n",
    "# Now use it to populate.\n",
    "gSwarm.populate_using_layout( layout=layout )\n",
    "tracerVariable.data[:] = 1"
   ]
  },
  {
   "cell_type": "code",
   "execution_count": null,
   "metadata": {
    "collapsed": true
   },
   "outputs": [],
   "source": []
  },
  {
   "cell_type": "code",
   "execution_count": 388,
   "metadata": {
    "collapsed": false
   },
   "outputs": [],
   "source": [
    "square_size = 0.1\n",
    "\n",
    "xlist = np.arange(mesh.minCoord[0] + square_size/2., mesh.maxCoord[0] + square_size/2., square_size)\n",
    "xlist = zip(xlist[:], xlist[1:])[::2]\n",
    "ylist = np.arange(mesh.minCoord[1] + square_size/2., mesh.maxCoord[1] + square_size/2., square_size)\n",
    "ylist = zip(ylist[:], ylist[1:])[::2]\n",
    "xops = []\n",
    "for vals in xlist:\n",
    "    xops.append( (operator.and_(   operator.gt(coordinate[0],vals[0]),   operator.lt(coordinate[0],vals[1])  ),0.) )\n",
    "xops.append((True,1.))\n",
    "\n",
    "testfunc = fn.branching.conditional(xops) \n",
    "\n",
    "yops = []\n",
    "for vals in ylist:\n",
    "    yops.append( (operator.and_(   operator.gt(coordinate[1],vals[0]),   operator.lt(coordinate[1],vals[1])  ),0.) )\n",
    "yops.append((True,testfunc))\n",
    "\n",
    "testfunc2 = fn.branching.conditional(yops) "
   ]
  },
  {
   "cell_type": "code",
   "execution_count": 389,
   "metadata": {
    "collapsed": false
   },
   "outputs": [],
   "source": [
    "tracerVariable.data[:] = testfunc.evaluate(gSwarm)\n",
    "tracerVariable.data[:] = testfunc2.evaluate(gSwarm)"
   ]
  },
  {
   "cell_type": "code",
   "execution_count": null,
   "metadata": {
    "collapsed": true
   },
   "outputs": [],
   "source": []
  },
  {
   "cell_type": "code",
   "execution_count": 390,
   "metadata": {
    "collapsed": false
   },
   "outputs": [],
   "source": [
    "#Pack some stuff into a database as well\n",
    "fig= glucifer.Figure()\n",
    "fig.append( glucifer.objects.Points(gSwarm,tracerVariable, colours= 'white black'))\n",
    "#fig.append( glucifer.objects.Surface(mesh, dummyField))\n",
    "#fig.show()"
   ]
  },
  {
   "cell_type": "markdown",
   "metadata": {},
   "source": [
    "Set up material parameters and functions\n",
    "-----\n",
    "\n",
    "Setup the viscosity to be a function of the temperature. Recall that these functions and values are preserved for the entire simulation time. "
   ]
  },
  {
   "cell_type": "code",
   "execution_count": 391,
   "metadata": {
    "collapsed": false
   },
   "outputs": [
    {
     "name": "stdout",
     "output_type": "stream",
     "text": [
      "(18.493025281953766, 0.7407407407407407)\n"
     ]
    }
   ],
   "source": [
    "# The yeilding of the upper slab is dependent on the strain rate.\n",
    "strainRate_2ndInvariant = fn.tensor.second_invariant( \n",
    "                            fn.tensor.symmetric( \n",
    "                            velocityField.fn_gradient ))\n",
    "\n",
    "\n",
    "theta = (dp.E *dp.deltaT)/(dp.R*(dp.TS + dp.deltaT)**2)\n",
    "\n",
    "gamma = dp.fc/(dp.a*dp.deltaT)\n",
    "print(theta, gamma )\n"
   ]
  },
  {
   "cell_type": "code",
   "execution_count": 393,
   "metadata": {
    "collapsed": false
   },
   "outputs": [],
   "source": [
    "#overidde these parameters to match the reference case quoted on page 5\n",
    "theta = 11.\n",
    "gamma = 0.6\n",
    "\n",
    "ndp.cohesion = gamma*ndp.RA*1e-5 #cohesion value used in the paper\n"
   ]
  },
  {
   "cell_type": "code",
   "execution_count": 394,
   "metadata": {
    "collapsed": false
   },
   "outputs": [],
   "source": [
    "############\n",
    "#Rheology\n",
    "#############\n",
    "#\n",
    "#The final mantle rheology is composed as follows*:\n",
    "# \n",
    "#\n",
    "# mantleviscosityFn = min{min{omega*eta_arr, eta_max}, \n",
    "#                         max{eta_p, eta_min}}\n",
    "#                      \n",
    "#eta_min => min allowable viscosity\n",
    "#eta_max => max allowable viscosity\n",
    "#eta_arr => arhennius viscosity (could be linear or non linear)\n",
    "#eta_p   => stress-limiting effective viscosity\n",
    "#omega   => a field that accounts for fuzzy physics - plate boundary shear zones, lower mantle, melt viscosity reduction\n",
    "#\n",
    "#Note the when nonlinearity is activated for the arhennius, the non_linear_correction term is truncated\n",
    "# final_non_linear_correction = max{100., \n",
    "#                                   min{0.01, non_linear_correction}}\n",
    "#\n",
    "#\n",
    "#\n",
    "# *an alternative way of composing similar rheology 'elements' can be found in Ratnaswamy (2016))\n",
    "\n",
    "omega = fn.misc.constant(1.)\n",
    "\n",
    "\n",
    "#implementation of the melt viscosity reduction, similar to Crameri and Tackley. 2015\n",
    "\n",
    "if melt_viscosity_reduction:\n",
    "    mvr =  fn.branching.conditional( [ (temperatureField > (ndp.Tmvp + 7.5*(1. - coordinate[1])) , 0.1 ),   (         True, 1.) ] )\n",
    "    omega = omega*mvr\n",
    "\n",
    "\n",
    "#implementation of the lower mantle viscosity increase, similar to Bello et al. 2015\n",
    "a = 1.\n",
    "B = 30.\n",
    "d0 = 660e3/dp.LS  \n",
    "ds = d0/10.\n",
    "if lower_mantle:\n",
    "    inner1 = 1. - 0.5*(1. - fn.math.tanh(((1. - d0)-(coordinate[1]))/(ds)))\n",
    "    modfac = a*fn.math.exp(np.log(B)*inner1)\n",
    "    omega = omega*modfac\n",
    "\n",
    "############\n",
    "#Mantle\n",
    "############\n",
    "\n",
    "#linear viscosity\n",
    "#linearVisc = fn.math.exp(((ndp.E))/(temperatureField + ndp.TS)) - ((ndp.E)/(ndp.TIP + ndp.TS))\n",
    "\n",
    "#linear viscosity\n",
    "linearVisc = fn.misc.min(ndp.eta_max, fn.math.exp(((ndp.E)/(temperatureField + ndp.TS)) \n",
    "                                                        - ((ndp.E )/(ndp.TIP + ndp.TS))))\n",
    "\n",
    "\n",
    "#stress (strain rate) dependent non-linear viscosity (set ndp.n = 1 for linear rheology)\n",
    "nl_correction = (strainRate_2ndInvariant/ndp.SR)**((1.-ndp.n)/(ndp.n))\n",
    "#nl_correction_final = fn.misc.min(10., fn.misc.max(0.1, nl_correction))\n",
    "nonlinearVisc = fn.misc.min(ndp.eta_max, fn.math.exp(((ndp.E)/(ndp.n*(temperatureField + ndp.TS))) \n",
    "                                                        - ((ndp.E )/(ndp.n*(ndp.TIP + ndp.TS)))))\n",
    "\n",
    "arhennius = fn.misc.max(ndp.eta_min, (fn.misc.min(ndp.eta_max, nl_correction*nonlinearVisc)))\n",
    " \n",
    "\n",
    "ys =  (depthFn*gamma*ndp.RA)#Stress-limiting effective viscosity\n",
    "eta_p = fn.misc.max(ndp.eta_min, ys/(strainRate_2ndInvariant/math.sqrt(0.5))) #extra factor to account for underworld second invariant form\n",
    "\n",
    "\n",
    "#combine these\n",
    "mantleviscosityFn = fn.exception.SafeMaths(fn.misc.min(arhennius, eta_p))"
   ]
  },
  {
   "cell_type": "code",
   "execution_count": 396,
   "metadata": {
    "collapsed": false
   },
   "outputs": [],
   "source": [
    "#linearVisc = fn.math.exp(((ndp.E))/(temperatureField + ndp.TSp))\n",
    "#linearVisc = fn.misc.max(ndp.eta_max, fn.math.exp(((ndp.E))/(temperatureField + ndp.TS)))\n",
    "\n"
   ]
  },
  {
   "cell_type": "markdown",
   "metadata": {},
   "source": [
    "**Plot the initial viscosity**\n",
    "\n",
    "Plot the viscosity, which is a function of temperature, using the initial temperature conditions set above."
   ]
  },
  {
   "cell_type": "code",
   "execution_count": 397,
   "metadata": {
    "collapsed": false
   },
   "outputs": [
    {
     "data": {
      "text/plain": [
       "(7683.0179696370315, 7683.017969637031)"
      ]
     },
     "execution_count": 397,
     "metadata": {},
     "output_type": "execute_result"
    }
   ],
   "source": [
    "ndp.SR, ndp.VR"
   ]
  },
  {
   "cell_type": "code",
   "execution_count": 398,
   "metadata": {
    "collapsed": false
   },
   "outputs": [
    {
     "data": {
      "text/plain": [
       "(0.0, 7683.017969637031)"
      ]
     },
     "execution_count": 398,
     "metadata": {},
     "output_type": "execute_result"
    }
   ],
   "source": [
    "#strainRate_2ndInvariant.evaluate(mesh).max(), ndp.SR\n",
    "velocityField.data.max(), ndp.VR"
   ]
  },
  {
   "cell_type": "code",
   "execution_count": 412,
   "metadata": {
    "collapsed": false
   },
   "outputs": [
    {
     "data": {
      "text/html": [
       "<img src='data:image/png;base64,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'>"
      ],
      "text/plain": [
       "<IPython.core.display.HTML object>"
      ]
     },
     "metadata": {},
     "output_type": "display_data"
    }
   ],
   "source": [
    "figEta = glucifer.Figure()\n",
    "#figEta.append( glucifer.objects.Surface(mesh, temperatureField) )\n",
    "figEta.append( glucifer.objects.Surface(mesh, linearVisc, logScale=True) )\n",
    "#figEta.append( glucifer.objects.Surface(mesh, strainRate_2ndInvariant) )\n",
    "figEta.append( glucifer.objects.VectorArrows(mesh,velocityField, scaling=0.000005))\n",
    "#figEta.append( glucifer.objects.Points(gSwarm,tracerVariable, colours= 'white black'))\n",
    "#figEta.append( glucifer.objects.Surface(mesh, mantleviscosityFn, logScale=True))\n",
    "figEta.show()"
   ]
  },
  {
   "cell_type": "markdown",
   "metadata": {},
   "source": [
    "System setup\n",
    "-----\n",
    "\n",
    "Since we are using a previously constructed temperature field, we will use a single Stokes solve to get consistent velocity and pressure fields.\n",
    "\n",
    "**Setup a Stokes system**"
   ]
  },
  {
   "cell_type": "code",
   "execution_count": 400,
   "metadata": {
    "collapsed": false
   },
   "outputs": [],
   "source": [
    "# Construct our density function.\n",
    "densityFn = ndp.RA * temperatureField\n",
    "\n",
    "# Define our vertical unit vector using a python tuple (this will be automatically converted to a function).\n",
    "gravity = ( 0.0, 1.0 )\n",
    "\n",
    "# Now create a buoyancy force vector using the density and the vertical unit vector. \n",
    "buoyancyFn = densityFn * gravity"
   ]
  },
  {
   "cell_type": "code",
   "execution_count": 401,
   "metadata": {
    "collapsed": false
   },
   "outputs": [],
   "source": [
    "stokesPIC = uw.systems.Stokes(velocityField=velocityField, \n",
    "                              pressureField=pressureField,\n",
    "                              conditions=[freeslipBC,],\n",
    "                              fn_viscosity=linearVisc, \n",
    "                              fn_bodyforce=buoyancyFn )"
   ]
  },
  {
   "cell_type": "markdown",
   "metadata": {},
   "source": [
    "**Set up and solve the Stokes system**"
   ]
  },
  {
   "cell_type": "code",
   "execution_count": 402,
   "metadata": {
    "collapsed": false
   },
   "outputs": [],
   "source": [
    "solver = uw.systems.Solver(stokesPIC)\n",
    "solver.solve()"
   ]
  },
  {
   "cell_type": "markdown",
   "metadata": {},
   "source": [
    "**Add the non-linear viscosity to the Stokes system**\n"
   ]
  },
  {
   "cell_type": "code",
   "execution_count": 403,
   "metadata": {
    "collapsed": true
   },
   "outputs": [],
   "source": [
    "stokesPIC.fn_viscosity = mantleviscosityFn"
   ]
  },
  {
   "cell_type": "code",
   "execution_count": 404,
   "metadata": {
    "collapsed": false
   },
   "outputs": [
    {
     "name": "stdout",
     "output_type": "stream",
     "text": [
      "\u001b[1;35m\n",
      " \n",
      "Pressure iterations:   3\n",
      "Velocity iterations:   1 (presolve)      \n",
      "Velocity iterations:  -1 (pressure solve)\n",
      "Velocity iterations:   1 (backsolve)     \n",
      "Velocity iterations:   1 (total solve)   \n",
      " \n",
      "SCR RHS  solve time: 4.2304e-01\n",
      "Pressure solve time: 7.1821e-02\n",
      "Velocity solve time: 2.2342e-01 (backsolve)\n",
      "Total solve time   : 7.9024e-01\n",
      " \n",
      "Velocity solution min/max: 0.0000e+00/0.0000e+00\n",
      "Pressure solution min/max: 0.0000e+00/0.0000e+00\n",
      " \n",
      "\u001b[00m\n"
     ]
    }
   ],
   "source": [
    "solver.set_inner_method(\"superludist\")\n",
    "solver.options.scr.ksp_type=\"cg\"\n",
    "solver.set_penalty(1.0e7)\n",
    "solver.options.scr.ksp_rtol = 1.0e-4\n",
    "solver.solve(nonLinearIterate=True)\n",
    "solver.print_stats()"
   ]
  },
  {
   "cell_type": "markdown",
   "metadata": {},
   "source": [
    "**Create an advective diffusive system**"
   ]
  },
  {
   "cell_type": "code",
   "execution_count": 95,
   "metadata": {
    "collapsed": true
   },
   "outputs": [],
   "source": [
    "advDiff = uw.systems.AdvectionDiffusion( phiField       = temperatureField, \n",
    "                                         phiDotField    = temperatureDotField, \n",
    "                                         velocityField  = velocityField,\n",
    "                                         fn_sourceTerm    = 20.0,\n",
    "                                         fn_diffusivity = 1.0, \n",
    "                                         conditions     = [neumannTempBC, dirichTempBC] )\n",
    "\n",
    "passiveadvector = uw.systems.SwarmAdvector( swarm         = gSwarm, \n",
    "                                     velocityField = velocityField, \n",
    "                                     order         = 1)"
   ]
  },
  {
   "cell_type": "code",
   "execution_count": 96,
   "metadata": {
    "collapsed": true
   },
   "outputs": [],
   "source": [
    "population_control = uw.swarm.PopulationControl(gSwarm,deleteThreshold=0.2,splitThreshold=1.,maxDeletions=3,maxSplits=0, aggressive=True, particlesPerCell=ppc)"
   ]
  },
  {
   "cell_type": "markdown",
   "metadata": {},
   "source": [
    "Analysis tools\n",
    "-----"
   ]
  },
  {
   "cell_type": "code",
   "execution_count": 97,
   "metadata": {
    "collapsed": false
   },
   "outputs": [],
   "source": [
    "tempint = uw.utils.Integral( temperatureField, mesh )\n",
    "areaint = uw.utils.Integral( 1.,               mesh )\n",
    "\n",
    "v2int   = uw.utils.Integral( fn.math.dot(velocityField,velocityField), mesh )\n",
    "\n",
    "dwint   = uw.utils.Integral( temperatureField*velocityField[1], mesh )\n",
    "\n",
    "sinner = fn.math.dot( strainRate_2ndInvariant, strainRate_2ndInvariant )\n",
    "vdint = uw.utils.Integral( (4.*mantleviscosityFn*sinner), mesh )"
   ]
  },
  {
   "cell_type": "code",
   "execution_count": 98,
   "metadata": {
    "collapsed": true
   },
   "outputs": [],
   "source": [
    "rmsSurfInt = uw.utils.Integral( fn=velocityField[0]*velocityField[0], mesh=mesh, integrationType='Surface', \n",
    "                          surfaceIndexSet=mesh.specialSets[\"MaxJ_VertexSet\"])\n",
    "nuTop      = uw.utils.Integral( fn=temperatureField.fn_gradient[1],    mesh=mesh, integrationType='Surface', \n",
    "                          surfaceIndexSet=mesh.specialSets[\"MaxJ_VertexSet\"])\n",
    "nuBottom   = uw.utils.Integral( fn=temperatureField.fn_gradient[1],    mesh=mesh, integrationType='Surface', \n",
    "                          surfaceIndexSet=mesh.specialSets[\"MinJ_VertexSet\"])"
   ]
  },
  {
   "cell_type": "code",
   "execution_count": 99,
   "metadata": {
    "collapsed": true
   },
   "outputs": [],
   "source": [
    "def avg_temp():\n",
    "    return tempint.evaluate()[0]/areaint.evaluate()[0]\n",
    "\n",
    "def nusseltTB(temp_field, mesh):\n",
    "    return -nuTop.evaluate()[0], -nuBottom.evaluate()[0]\n",
    "\n",
    "def rms():\n",
    "    return math.sqrt(v2int.evaluate()[0]/areaint.evaluate()[0])\n",
    "\n",
    "def rms_surf():\n",
    "    return math.sqrt(rmsSurfInt.evaluate()[0])\n",
    "\n",
    "def max_vx_surf(velfield, mesh):\n",
    "    vuvelxfn = fn.view.min_max(velfield[0])\n",
    "    vuvelxfn.evaluate(mesh.specialSets[\"MaxJ_VertexSet\"])\n",
    "    return vuvelxfn.max_global()\n",
    "\n",
    "def gravwork(workfn):\n",
    "    return workfn.evaluate()[0]\n",
    "\n",
    "def viscdis(vdissfn):\n",
    "    return vdissfn.evaluate()[0]\n",
    "\n",
    "def visc_extr(viscfn):\n",
    "    vuviscfn = fn.view.min_max(viscfn)\n",
    "    vuviscfn.evaluate(mesh)\n",
    "    return vuviscfn.max_global(), vuviscfn.min_global()"
   ]
  },
  {
   "cell_type": "code",
   "execution_count": 100,
   "metadata": {
    "collapsed": false
   },
   "outputs": [
    {
     "name": "stdout",
     "output_type": "stream",
     "text": [
      "Initial Vrms = 3.523\n"
     ]
    }
   ],
   "source": [
    "v2sum_integral  = uw.utils.Integral( mesh=mesh, fn=fn.math.dot( velocityField, velocityField ) )\n",
    "volume_integral = uw.utils.Integral( mesh=mesh, fn=1. )\n",
    "Vrms = math.sqrt( v2sum_integral.evaluate()[0] )/volume_integral.evaluate()[0]\n",
    "\n",
    "\n",
    "\n",
    "if(uw.rank()==0):\n",
    "    print('Initial Vrms = {0:.3f}'.format(Vrms))"
   ]
  },
  {
   "cell_type": "code",
   "execution_count": 101,
   "metadata": {
    "collapsed": false
   },
   "outputs": [],
   "source": [
    "# Calculate the Metrics, only on 1 of the processors:\n",
    "Avg_temp = avg_temp()\n",
    "Rms = rms()\n",
    "Rms_surf = rms_surf()\n",
    "Max_vx_surf = max_vx_surf(velocityField, mesh)\n",
    "Gravwork = gravwork(dwint)\n",
    "Viscdis = viscdis(vdint)\n",
    "nu1, nu0 = nusseltTB(temperatureField, mesh) # return top then bottom\n",
    "etamax, etamin = visc_extr(mantleviscosityFn)"
   ]
  },
  {
   "cell_type": "code",
   "execution_count": 102,
   "metadata": {
    "collapsed": false
   },
   "outputs": [
    {
     "name": "stdout",
     "output_type": "stream",
     "text": [
      "Initial RMS_surf = 0.166\n"
     ]
    }
   ],
   "source": [
    "if(uw.rank()==0):\n",
    "    print('Initial RMS_surf = {0:.3f}'.format(Rms_surf))"
   ]
  },
  {
   "cell_type": "markdown",
   "metadata": {},
   "source": [
    "Viz.\n",
    "-----"
   ]
  },
  {
   "cell_type": "code",
   "execution_count": 103,
   "metadata": {
    "collapsed": false
   },
   "outputs": [],
   "source": [
    "#tracerVariable.data"
   ]
  },
  {
   "cell_type": "code",
   "execution_count": 60,
   "metadata": {
    "collapsed": false
   },
   "outputs": [
    {
     "ename": "RuntimeError",
     "evalue": "Value overflow error was encountered while evaluating function.",
     "output_type": "error",
     "traceback": [
      "\u001b[0;31m---------------------------------------------------------------------------\u001b[0m",
      "\u001b[0;31mRuntimeError\u001b[0m                              Traceback (most recent call last)",
      "\u001b[0;32m<ipython-input-60-56d64109535f>\u001b[0m in \u001b[0;36m<module>\u001b[0;34m()\u001b[0m\n\u001b[1;32m      6\u001b[0m \u001b[0mfigDb\u001b[0m\u001b[0;34m.\u001b[0m\u001b[0mappend\u001b[0m\u001b[0;34m(\u001b[0m \u001b[0mglucifer\u001b[0m\u001b[0;34m.\u001b[0m\u001b[0mobjects\u001b[0m\u001b[0;34m.\u001b[0m\u001b[0mSurface\u001b[0m\u001b[0;34m(\u001b[0m\u001b[0mmesh\u001b[0m\u001b[0;34m,\u001b[0m \u001b[0mmantleviscosityFn\u001b[0m\u001b[0;34m,\u001b[0m \u001b[0mlogScale\u001b[0m\u001b[0;34m=\u001b[0m\u001b[0mTrue\u001b[0m\u001b[0;34m)\u001b[0m\u001b[0;34m)\u001b[0m\u001b[0;34m\u001b[0m\u001b[0m\n\u001b[1;32m      7\u001b[0m \u001b[0mfigDb\u001b[0m\u001b[0;34m.\u001b[0m\u001b[0mappend\u001b[0m\u001b[0;34m(\u001b[0m \u001b[0mglucifer\u001b[0m\u001b[0;34m.\u001b[0m\u001b[0mobjects\u001b[0m\u001b[0;34m.\u001b[0m\u001b[0mSurface\u001b[0m\u001b[0;34m(\u001b[0m\u001b[0mmesh\u001b[0m\u001b[0;34m,\u001b[0m \u001b[0mtemperatureField\u001b[0m\u001b[0;34m)\u001b[0m\u001b[0;34m)\u001b[0m\u001b[0;34m\u001b[0m\u001b[0m\n\u001b[0;32m----> 8\u001b[0;31m \u001b[0mfigDb\u001b[0m\u001b[0;34m.\u001b[0m\u001b[0mshow\u001b[0m\u001b[0;34m(\u001b[0m\u001b[0;34m)\u001b[0m\u001b[0;34m\u001b[0m\u001b[0m\n\u001b[0m",
      "\u001b[0;32m/Users/dansandiford/Documents/programming/dev/underworld2/glucifer/_glucifer.pyc\u001b[0m in \u001b[0;36mshow\u001b[0;34m(self, type)\u001b[0m\n\u001b[1;32m    501\u001b[0m         \"\"\"\n\u001b[1;32m    502\u001b[0m \u001b[0;34m\u001b[0m\u001b[0m\n\u001b[0;32m--> 503\u001b[0;31m         \u001b[0mself\u001b[0m\u001b[0;34m.\u001b[0m\u001b[0m_generate_DB\u001b[0m\u001b[0;34m(\u001b[0m\u001b[0;34m)\u001b[0m\u001b[0;34m\u001b[0m\u001b[0m\n\u001b[0m\u001b[1;32m    504\u001b[0m         \u001b[0;32mtry\u001b[0m\u001b[0;34m:\u001b[0m\u001b[0;34m\u001b[0m\u001b[0m\n\u001b[1;32m    505\u001b[0m             \u001b[0;32mif\u001b[0m \u001b[0m__IPYTHON__\u001b[0m\u001b[0;34m:\u001b[0m\u001b[0;34m\u001b[0m\u001b[0m\n",
      "\u001b[0;32m/Users/dansandiford/Documents/programming/dev/underworld2/glucifer/_glucifer.pyc\u001b[0m in \u001b[0;36m_generate_DB\u001b[0;34m(self)\u001b[0m\n\u001b[1;32m    569\u001b[0m         \u001b[0;32mif\u001b[0m \u001b[0mlen\u001b[0m\u001b[0;34m(\u001b[0m\u001b[0mself\u001b[0m\u001b[0;34m.\u001b[0m\u001b[0mdraw\u001b[0m\u001b[0;34m.\u001b[0m\u001b[0mvertices\u001b[0m\u001b[0;34m)\u001b[0m \u001b[0;34m>\u001b[0m \u001b[0;36m0\u001b[0m\u001b[0;34m:\u001b[0m\u001b[0;34m\u001b[0m\u001b[0m\n\u001b[1;32m    570\u001b[0m             \u001b[0mobjects\u001b[0m\u001b[0;34m.\u001b[0m\u001b[0mappend\u001b[0m\u001b[0;34m(\u001b[0m\u001b[0mself\u001b[0m\u001b[0;34m.\u001b[0m\u001b[0mdraw\u001b[0m\u001b[0;34m)\u001b[0m\u001b[0;34m\u001b[0m\u001b[0m\n\u001b[0;32m--> 571\u001b[0;31m         \u001b[0mself\u001b[0m\u001b[0;34m.\u001b[0m\u001b[0mdb\u001b[0m\u001b[0;34m.\u001b[0m\u001b[0m_generate\u001b[0m\u001b[0;34m(\u001b[0m\u001b[0mself\u001b[0m\u001b[0;34m.\u001b[0m\u001b[0mname\u001b[0m\u001b[0;34m,\u001b[0m \u001b[0mobjects\u001b[0m\u001b[0;34m,\u001b[0m \u001b[0mself\u001b[0m\u001b[0;34m)\u001b[0m\u001b[0;34m\u001b[0m\u001b[0m\n\u001b[0m\u001b[1;32m    572\u001b[0m \u001b[0;34m\u001b[0m\u001b[0m\n\u001b[1;32m    573\u001b[0m     \u001b[0;32mdef\u001b[0m \u001b[0m_generate_image\u001b[0m\u001b[0;34m(\u001b[0m\u001b[0mself\u001b[0m\u001b[0;34m,\u001b[0m \u001b[0mfilename\u001b[0m\u001b[0;34m=\u001b[0m\u001b[0;34m\"\"\u001b[0m\u001b[0;34m,\u001b[0m \u001b[0msize\u001b[0m\u001b[0;34m=\u001b[0m\u001b[0;34m(\u001b[0m\u001b[0;36m0\u001b[0m\u001b[0;34m,\u001b[0m\u001b[0;36m0\u001b[0m\u001b[0;34m)\u001b[0m\u001b[0;34m)\u001b[0m\u001b[0;34m:\u001b[0m\u001b[0;34m\u001b[0m\u001b[0m\n",
      "\u001b[0;32m/Users/dansandiford/Documents/programming/dev/underworld2/glucifer/_glucifer.pyc\u001b[0m in \u001b[0;36m_generate\u001b[0;34m(self, figname, objects, props)\u001b[0m\n\u001b[1;32m    192\u001b[0m \u001b[0;34m\u001b[0m\u001b[0m\n\u001b[1;32m    193\u001b[0m             \u001b[0;31m# go ahead and fill db\u001b[0m\u001b[0;34m\u001b[0m\u001b[0;34m\u001b[0m\u001b[0m\n\u001b[0;32m--> 194\u001b[0;31m             \u001b[0mlibUnderworld\u001b[0m\u001b[0;34m.\u001b[0m\u001b[0mgLucifer\u001b[0m\u001b[0;34m.\u001b[0m\u001b[0m_lucDatabase_Execute\u001b[0m\u001b[0;34m(\u001b[0m\u001b[0mself\u001b[0m\u001b[0;34m.\u001b[0m\u001b[0m_db\u001b[0m\u001b[0;34m,\u001b[0m\u001b[0mNone\u001b[0m\u001b[0;34m)\u001b[0m\u001b[0;34m\u001b[0m\u001b[0m\n\u001b[0m\u001b[1;32m    195\u001b[0m \u001b[0;34m\u001b[0m\u001b[0m\n\u001b[1;32m    196\u001b[0m             \u001b[0;31m#Output any custom geometry on objects\u001b[0m\u001b[0;34m\u001b[0m\u001b[0;34m\u001b[0m\u001b[0m\n",
      "\u001b[0;31mRuntimeError\u001b[0m: Value overflow error was encountered while evaluating function."
     ]
    }
   ],
   "source": [
    "#Pack some stuff into a database as well\n",
    "figDb = glucifer.Figure()\n",
    "#figDb.append( glucifer.objects.Mesh(mesh))\n",
    "figDb.append( glucifer.objects.VectorArrows(mesh,velocityField, scaling=0.0005))\n",
    "figDb.append( glucifer.objects.Points(gSwarm,tracerVariable, colours= 'white black'))\n",
    "figDb.append( glucifer.objects.Surface(mesh, mantleviscosityFn, logScale=True))\n",
    "figDb.append( glucifer.objects.Surface(mesh, temperatureField))\n",
    "figDb.show()"
   ]
  },
  {
   "cell_type": "markdown",
   "metadata": {},
   "source": [
    "Main simulation loop\n",
    "-----\n",
    "\n",
    "Run a few advection and Stokes solver steps to make sure we are in, or close to, equilibrium."
   ]
  },
  {
   "cell_type": "code",
   "execution_count": 105,
   "metadata": {
    "collapsed": false
   },
   "outputs": [
    {
     "data": {
      "text/plain": [
       "0.0"
      ]
     },
     "execution_count": 105,
     "metadata": {},
     "output_type": "execute_result"
    }
   ],
   "source": [
    "temperatureField.data.min()"
   ]
  },
  {
   "cell_type": "code",
   "execution_count": 106,
   "metadata": {
    "collapsed": true
   },
   "outputs": [],
   "source": [
    "\n",
    "steps_end = 5"
   ]
  },
  {
   "cell_type": "code",
   "execution_count": 107,
   "metadata": {
    "collapsed": false
   },
   "outputs": [],
   "source": [
    "# initialise timer for computation\n",
    "start = time.clock()\n",
    "# setup summary output file (name above)\n",
    "if checkpointLoad:\n",
    "    if uw.rank() == 0:\n",
    "        shutil.copyfile(os.path.join(checkpointLoadDir, outputFile), outputPath+outputFile)\n",
    "    comm.Barrier()\n",
    "    f_o = open(os.path.join(outputPath, outputFile), 'a')\n",
    "    prevdata = np.genfromtxt(os.path.join(outputPath, outputFile), skip_header=0, skip_footer=0)\n",
    "    if len(prevdata.shape) == 1: #this is in case there is only one line in previous file\n",
    "        realtime = prevdata[0]\n",
    "    else:\n",
    "        realtime = prevdata[prevdata.shape[0]-1, 0]\n",
    "    step = int(checkpointLoadDir.split('/')[-1])\n",
    "    timevals = [0.]\n",
    "else:\n",
    "    f_o = open(outputPath+outputFile, 'w')\n",
    "    realtime = 0.\n",
    "    step = 0\n",
    "    timevals = [0.]"
   ]
  },
  {
   "cell_type": "code",
   "execution_count": 108,
   "metadata": {
    "collapsed": false
   },
   "outputs": [
    {
     "name": "stdout",
     "output_type": "stream",
     "text": [
      "step = 5\n"
     ]
    }
   ],
   "source": [
    "#while step < steps_end:\n",
    "while realtime < 1.:\n",
    "\n",
    "    # solve Stokes and advection systems\n",
    "    solver.solve(nonLinearIterate=True)\n",
    "    dt = advDiff.get_max_dt()\n",
    "    if step == 0:\n",
    "        dt = 0.\n",
    "    advDiff.integrate(dt)\n",
    "    passiveadvector.integrate(dt)\n",
    "    \n",
    "\n",
    "    # Increment\n",
    "    realtime += dt\n",
    "    step += 1\n",
    "    timevals.append(realtime)\n",
    "    ################\n",
    "    #Gldb output\n",
    "    ################ \n",
    "    if (step % gldbs_output == 0):\n",
    "        #Rebuild any necessary swarm variables\n",
    "        #Write gldbs\n",
    "        fnamedb = \"dbFig\" + \"_\" + str(ModIt) + \"_\" + str(step) + \".gldb\"\n",
    "        fullpath = os.path.join(outputPath + \"gldbs/\" + fnamedb)\n",
    "        #figDb.show()\n",
    "        figDb.save_database(fullpath)\n",
    "    ################            \n",
    "    # Calculate the Metrics, only on 1 of the processors:\n",
    "    ################\n",
    "    if (step % metric_output == 0):\n",
    "        ###############\n",
    "        #Swarm - based Metrics\n",
    "        ###############\n",
    "        # Calculate the RMS velocity and Nusselt number.\n",
    "        # Calculate the Metrics, only on 1 of the processors:\n",
    "        Avg_temp = avg_temp()\n",
    "        Rms = rms()\n",
    "        Rms_surf = rms_surf()\n",
    "        Max_vx_surf = max_vx_surf(velocityField, mesh)\n",
    "        Gravwork = gravwork(dwint)\n",
    "        Viscdis = viscdis(vdint)\n",
    "        nu1, nu0 = nusseltTB(temperatureField, mesh) # return top then bottom\n",
    "        etamax, etamin = visc_extr(mantleviscosityFn)\n",
    "        # output to summary text file\n",
    "        if uw.rank()==0:\n",
    "            f_o.write((11*'%-15s ' + '\\n') % (realtime, Viscdis, float(nu0), float(nu1), Avg_temp, \n",
    "                                              Rms,Rms_surf,Max_vx_surf,Gravwork, etamax, etamin))\n",
    "    ################\n",
    "    #Also repopulate entire swarm periodically\n",
    "    ################\n",
    "    #if step % swarm_repop == 0:\n",
    "    population_control.repopulate()\n",
    "    \n",
    "f_o.close()\n",
    "print 'step =',step"
   ]
  },
  {
   "cell_type": "markdown",
   "metadata": {},
   "source": [
    "Comparison of benchmark values\n",
    "-----\n",
    "\n"
   ]
  },
  {
   "cell_type": "code",
   "execution_count": 109,
   "metadata": {
    "collapsed": false
   },
   "outputs": [
    {
     "ename": "NameError",
     "evalue": "name 'Nu' is not defined",
     "output_type": "error",
     "traceback": [
      "\u001b[0;31m---------------------------------------------------------------------------\u001b[0m",
      "\u001b[0;31mNameError\u001b[0m                                 Traceback (most recent call last)",
      "\u001b[0;32m<ipython-input-109-bdc74005965a>\u001b[0m in \u001b[0;36m<module>\u001b[0;34m()\u001b[0m\n\u001b[1;32m      1\u001b[0m \u001b[0;32mif\u001b[0m\u001b[0;34m(\u001b[0m\u001b[0muw\u001b[0m\u001b[0;34m.\u001b[0m\u001b[0mrank\u001b[0m\u001b[0;34m(\u001b[0m\u001b[0;34m)\u001b[0m\u001b[0;34m==\u001b[0m\u001b[0;36m0\u001b[0m\u001b[0;34m)\u001b[0m\u001b[0;34m:\u001b[0m\u001b[0;34m\u001b[0m\u001b[0m\n\u001b[0;32m----> 2\u001b[0;31m     \u001b[0;32mprint\u001b[0m\u001b[0;34m(\u001b[0m\u001b[0;34m'Nu   = {0:.3f}'\u001b[0m\u001b[0;34m.\u001b[0m\u001b[0mformat\u001b[0m\u001b[0;34m(\u001b[0m\u001b[0mNu\u001b[0m\u001b[0;34m)\u001b[0m\u001b[0;34m)\u001b[0m\u001b[0;34m\u001b[0m\u001b[0m\n\u001b[0m\u001b[1;32m      3\u001b[0m     \u001b[0;32mprint\u001b[0m\u001b[0;34m(\u001b[0m\u001b[0;34m'Vrms = {0:.3f}'\u001b[0m\u001b[0;34m.\u001b[0m\u001b[0mformat\u001b[0m\u001b[0;34m(\u001b[0m\u001b[0mVrms\u001b[0m\u001b[0;34m)\u001b[0m\u001b[0;34m)\u001b[0m\u001b[0;34m\u001b[0m\u001b[0m\n\u001b[1;32m      4\u001b[0m     \u001b[0mnp\u001b[0m\u001b[0;34m.\u001b[0m\u001b[0msavetxt\u001b[0m\u001b[0;34m(\u001b[0m\u001b[0moutputPath\u001b[0m\u001b[0;34m+\u001b[0m\u001b[0;34m'summary.txt'\u001b[0m\u001b[0;34m,\u001b[0m \u001b[0;34m[\u001b[0m\u001b[0mNu\u001b[0m\u001b[0;34m,\u001b[0m \u001b[0mVrms\u001b[0m\u001b[0;34m]\u001b[0m\u001b[0;34m)\u001b[0m\u001b[0;34m\u001b[0m\u001b[0m\n",
      "\u001b[0;31mNameError\u001b[0m: name 'Nu' is not defined"
     ]
    }
   ],
   "source": [
    "if(uw.rank()==0):\n",
    "    print('Nu   = {0:.3f}'.format(Nu))\n",
    "    print('Vrms = {0:.3f}'.format(Vrms))\n",
    "    np.savetxt(outputPath+'summary.txt', [Nu, Vrms])"
   ]
  },
  {
   "cell_type": "code",
   "execution_count": null,
   "metadata": {
    "collapsed": true
   },
   "outputs": [],
   "source": []
  },
  {
   "cell_type": "code",
   "execution_count": null,
   "metadata": {
    "collapsed": false
   },
   "outputs": [],
   "source": [
    "\n",
    "#figDb.show()\n"
   ]
  },
  {
   "cell_type": "code",
   "execution_count": null,
   "metadata": {
    "collapsed": false
   },
   "outputs": [],
   "source": [
    "temperatureField.data.min()"
   ]
  },
  {
   "cell_type": "code",
   "execution_count": null,
   "metadata": {
    "collapsed": false
   },
   "outputs": [],
   "source": [
    "ndp.TS"
   ]
  },
  {
   "cell_type": "code",
   "execution_count": null,
   "metadata": {
    "collapsed": false
   },
   "outputs": [],
   "source": [
    "6./realtime"
   ]
  },
  {
   "cell_type": "code",
   "execution_count": 41,
   "metadata": {
    "collapsed": false
   },
   "outputs": [
    {
     "data": {
      "text/plain": [
       "2485726880.0"
      ]
     },
     "execution_count": 41,
     "metadata": {},
     "output_type": "execute_result"
    }
   ],
   "source": [
    "ndp.RA"
   ]
  },
  {
   "cell_type": "code",
   "execution_count": 36,
   "metadata": {
    "collapsed": false
   },
   "outputs": [],
   "source": [
    "#temperatureField.evaluate(tWalls)"
   ]
  },
  {
   "cell_type": "code",
   "execution_count": null,
   "metadata": {
    "collapsed": true
   },
   "outputs": [],
   "source": []
  }
 ],
 "metadata": {
  "kernelspec": {
   "display_name": "Python 2",
   "language": "python",
   "name": "python2"
  },
  "language_info": {
   "codemirror_mode": {
    "name": "ipython",
    "version": 2
   },
   "file_extension": ".py",
   "mimetype": "text/x-python",
   "name": "python",
   "nbconvert_exporter": "python",
   "pygments_lexer": "ipython2",
   "version": "2.7.11"
  },
  "widgets": {
   "state": {},
   "version": "1.1.2"
  }
 },
 "nbformat": 4,
 "nbformat_minor": 0
}
