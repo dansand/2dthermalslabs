{
 "cells": [
  {
   "cell_type": "code",
   "execution_count": 1,
   "metadata": {
    "collapsed": false
   },
   "outputs": [
    {
     "name": "stdout",
     "output_type": "stream",
     "text": [
      "Populating the interactive namespace from numpy and matplotlib\n"
     ]
    }
   ],
   "source": [
    "import pandas as pd\n",
    "%pylab inline\n",
    "import seaborn as sns\n",
    "import glob2\n",
    "#Trying to work out a safety for natsort\n",
    "from types import ModuleType\n",
    "from natsort import natsort as ns\n",
    "if isinstance(ns, ModuleType):\n",
    "    natsort = ns.natsorted\n",
    "else:\n",
    "    nasort = ns"
   ]
  },
  {
   "cell_type": "code",
   "execution_count": 2,
   "metadata": {
    "collapsed": false
   },
   "outputs": [
    {
     "data": {
      "text/plain": [
       "48"
      ]
     },
     "execution_count": 2,
     "metadata": {},
     "output_type": "execute_result"
    }
   ],
   "source": [
    "#rdir = '/workspace'\n",
    "rdir = '../'\n",
    "dat_files = natsort(glob2.glob(rdir + '/results/B/**/*.dat'))\n",
    "len(dat_files)\n",
    "#dat_files"
   ]
  },
  {
   "cell_type": "code",
   "execution_count": 3,
   "metadata": {
    "collapsed": true
   },
   "outputs": [],
   "source": [
    "columns = ['areaintRock', 'tempintRock',  'rmsintRock', 'dwintRock', 'vdintRock',\n",
    "            'areaintLith', 'tempintLith','rmsintLith', 'dwintLith', 'vdintLith',\n",
    "                                  'rmsSurf', 'nuTop', 'nuBottom', 'plateness', 'subzone', 'realtime']"
   ]
  },
  {
   "cell_type": "code",
   "execution_count": 4,
   "metadata": {
    "collapsed": false
   },
   "outputs": [
    {
     "name": "stderr",
     "output_type": "stream",
     "text": [
      "/Users/dansandiford/anaconda/lib/python2.7/site-packages/ipykernel/__main__.py:9: ParserWarning: Falling back to the 'python' engine because the 'c' engine does not support regex separators (separators > 1 char and different from '\\s+' are interpreted as regex); you can avoid this warning by specifying engine='python'.\n"
     ]
    }
   ],
   "source": [
    "data = []\n",
    "realtime = []\n",
    "gooddata = []\n",
    "col = 'rmsintRock'\n",
    "\n",
    "for i in range(len(dat_files)):\n",
    "    \n",
    "    try:\n",
    "        df = pd.read_csv(dat_files[i], sep=\"\\s*\", header=None,  index_col=False)\n",
    "        df.columns = columns2 \n",
    "        realtime.append(df['realtime'])\n",
    "        data.append(df[col])\n",
    "        gooddata.append(i)\n",
    "        #print(i)\n",
    "    except:\n",
    "        pass\n",
    "    #    data.append(['NaN']*30)\n",
    "    #pd.concat(newdf, df.mean())\n",
    "    #print(df.mean())\n",
    "    #newdf.loc[i] = df.max()\n",
    "\n",
    "data = np.array(data)\n",
    "realtime = np.array(realtime)"
   ]
  },
  {
   "cell_type": "code",
   "execution_count": 5,
   "metadata": {
    "collapsed": false
   },
   "outputs": [],
   "source": [
    "params = []\n",
    "counter = 1\n",
    "faultType = []\n",
    "fc=[]\n",
    "viscFault = []\n",
    "for a in ['None', 'Iso', 'Trans']:\n",
    "    for b in [1., 2., 5., 10.]:\n",
    "        for c in [0.5, 0.1, 0.05, 0.01]:\n",
    "            faultType.append(a)\n",
    "            fc.append(b)\n",
    "            viscFault.append(c)\n",
    "            params.append([counter, a, b, c])\n",
    "            counter += 1"
   ]
  },
  {
   "cell_type": "code",
   "execution_count": 6,
   "metadata": {
    "collapsed": false
   },
   "outputs": [
    {
     "name": "stderr",
     "output_type": "stream",
     "text": [
      "/Users/dansandiford/anaconda/lib/python2.7/site-packages/ipykernel/__main__.py:4: ParserWarning: Falling back to the 'python' engine because the 'c' engine does not support regex separators (separators > 1 char and different from '\\s+' are interpreted as regex); you can avoid this warning by specifying engine='python'.\n"
     ]
    }
   ],
   "source": [
    "data = []\n",
    "\n",
    "for i in range(len(dat_files)):\n",
    "    df = pd.read_csv(dat_files[i], sep=\"\\s*\", header=None,  index_col=False)\n",
    "    data.append(df.mean())\n",
    "    #pd.concat(newdf, df.mean())\n",
    "    #print(df.mean())\n",
    "    #newdf.loc[i] = df.max()\n",
    "\n",
    "del df\n",
    "newdf = pd.DataFrame(data)\n",
    "    \n",
    "newdf.columns = columns"
   ]
  },
  {
   "cell_type": "code",
   "execution_count": 7,
   "metadata": {
    "collapsed": true
   },
   "outputs": [],
   "source": [
    "newdf['faultType'] = faultType\n",
    "newdf['fc'] = fc\n",
    "newdf['viscFault'] = viscFault"
   ]
  },
  {
   "cell_type": "code",
   "execution_count": 8,
   "metadata": {
    "collapsed": false
   },
   "outputs": [
    {
     "data": {
      "image/png": "[encoded data removed]",
      "text/plain": [
       "<matplotlib.figure.Figure at 0x118133290>"
      ]
     },
     "metadata": {},
     "output_type": "display_data"
    }
   ],
   "source": [
    "yaxis = 'rmsSurf' #'rmsSurf'#, 'nuTop' #\n",
    "kws = dict(s=40, linewidth=.5, edgecolor=\"w\")\n",
    "\n",
    "\n",
    "# plot\n",
    "sns.set_style('ticks')\n",
    "\n",
    "\n",
    "g = sns.FacetGrid(newdf,col='viscFault', hue=\"faultType\", palette=\"Set1\", size=5)\n",
    "g = g.map(plt.scatter, 'fc', yaxis,  **kws).add_legend()\n",
    "\n",
    "\n",
    "#g.set(ylim=(1., 1e4))\n",
    "#g.set(xlim=(0.002, 0.5))\n",
    "\n",
    "#g.fig.get_axes()[0].set_yscale('log')\n",
    "#g.fig.get_axes()[0].set_xscale('log')\n",
    "#g.fig.get_axes()[1].set_yscale('log')\n",
    "#g.fig.get_axes()[1].set_xscale('log')\n",
    "#g.fig.get_axes()[2].set_yscale('log')\n",
    "#g.fig.get_axes()[2].set_xscale('log')\n",
    "\n",
    "\n",
    "\n",
    "\n",
    "plt.show()\n"
   ]
  },
  {
   "cell_type": "code",
   "execution_count": 9,
   "metadata": {
    "collapsed": false
   },
   "outputs": [
    {
     "data": {
      "text/plain": [
       "[[1, 'None', 1.0, 0.5],\n",
       " [2, 'None', 1.0, 0.1],\n",
       " [3, 'None', 1.0, 0.05],\n",
       " [4, 'None', 1.0, 0.01],\n",
       " [5, 'None', 2.0, 0.5],\n",
       " [6, 'None', 2.0, 0.1],\n",
       " [7, 'None', 2.0, 0.05],\n",
       " [8, 'None', 2.0, 0.01],\n",
       " [9, 'None', 5.0, 0.5],\n",
       " [10, 'None', 5.0, 0.1],\n",
       " [11, 'None', 5.0, 0.05],\n",
       " [12, 'None', 5.0, 0.01],\n",
       " [13, 'None', 10.0, 0.5],\n",
       " [14, 'None', 10.0, 0.1],\n",
       " [15, 'None', 10.0, 0.05],\n",
       " [16, 'None', 10.0, 0.01],\n",
       " [17, 'Iso', 1.0, 0.5],\n",
       " [18, 'Iso', 1.0, 0.1],\n",
       " [19, 'Iso', 1.0, 0.05],\n",
       " [20, 'Iso', 1.0, 0.01],\n",
       " [21, 'Iso', 2.0, 0.5],\n",
       " [22, 'Iso', 2.0, 0.1],\n",
       " [23, 'Iso', 2.0, 0.05],\n",
       " [24, 'Iso', 2.0, 0.01],\n",
       " [25, 'Iso', 5.0, 0.5],\n",
       " [26, 'Iso', 5.0, 0.1],\n",
       " [27, 'Iso', 5.0, 0.05],\n",
       " [28, 'Iso', 5.0, 0.01],\n",
       " [29, 'Iso', 10.0, 0.5],\n",
       " [30, 'Iso', 10.0, 0.1],\n",
       " [31, 'Iso', 10.0, 0.05],\n",
       " [32, 'Iso', 10.0, 0.01],\n",
       " [33, 'Trans', 1.0, 0.5],\n",
       " [34, 'Trans', 1.0, 0.1],\n",
       " [35, 'Trans', 1.0, 0.05],\n",
       " [36, 'Trans', 1.0, 0.01],\n",
       " [37, 'Trans', 2.0, 0.5],\n",
       " [38, 'Trans', 2.0, 0.1],\n",
       " [39, 'Trans', 2.0, 0.05],\n",
       " [40, 'Trans', 2.0, 0.01],\n",
       " [41, 'Trans', 5.0, 0.5],\n",
       " [42, 'Trans', 5.0, 0.1],\n",
       " [43, 'Trans', 5.0, 0.05],\n",
       " [44, 'Trans', 5.0, 0.01],\n",
       " [45, 'Trans', 10.0, 0.5],\n",
       " [46, 'Trans', 10.0, 0.1],\n",
       " [47, 'Trans', 10.0, 0.05],\n",
       " [48, 'Trans', 10.0, 0.01]]"
      ]
     },
     "execution_count": 9,
     "metadata": {},
     "output_type": "execute_result"
    }
   ],
   "source": [
    "params"
   ]
  },
  {
   "cell_type": "code",
   "execution_count": null,
   "metadata": {
    "collapsed": true
   },
   "outputs": [],
   "source": []
  }
 ],
 "metadata": {
  "kernelspec": {
   "display_name": "Python 2",
   "language": "python",
   "name": "python2"
  },
  "language_info": {
   "codemirror_mode": {
    "name": "ipython",
    "version": 2
   },
   "file_extension": ".py",
   "mimetype": "text/x-python",
   "name": "python",
   "nbconvert_exporter": "python",
   "pygments_lexer": "ipython2",
   "version": "2.7.12"
  },
  "widgets": {
   "state": {},
   "version": "1.1.2"
  }
 },
 "nbformat": 4,
 "nbformat_minor": 0
}
