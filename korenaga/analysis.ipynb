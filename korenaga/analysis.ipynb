{
 "cells": [
  {
   "cell_type": "code",
   "execution_count": 1,
   "metadata": {
    "collapsed": false
   },
   "outputs": [
    {
     "name": "stdout",
     "output_type": "stream",
     "text": [
      "Populating the interactive namespace from numpy and matplotlib\n"
     ]
    }
   ],
   "source": [
    "%pylab inline\n",
    "import numpy as np\n",
    "import os\n",
    "import matplotlib.pyplot as plt"
   ]
  },
  {
   "cell_type": "code",
   "execution_count": 26,
   "metadata": {
    "collapsed": false
   },
   "outputs": [
    {
     "name": "stdout",
     "output_type": "stream",
     "text": [
      "total 420\r\n",
      "-rw-r--r-- 1 root root 2136 Jun 16 08:10 norm_surface_sr_Base_2750.npy\r\n",
      "-rw-r--r-- 1 root root 4192 Jun 16 08:10 velsurface_Base_2750.npy\r\n",
      "ls: write error\r\n"
     ]
    }
   ],
   "source": [
    "ls -lt results/T/11/Base/files/ | head -3"
   ]
  },
  {
   "cell_type": "code",
   "execution_count": 27,
   "metadata": {
    "collapsed": false
   },
   "outputs": [
    {
     "name": "stdout",
     "output_type": "stream",
     "text": [
      "279 results/T/11/Base/results_modelT_11_Base.dat\r\n"
     ]
    }
   ],
   "source": [
    "!wc -l results/T/11/Base/results_modelT_11_Base.dat"
   ]
  },
  {
   "cell_type": "code",
   "execution_count": 29,
   "metadata": {
    "collapsed": false
   },
   "outputs": [],
   "source": [
    "sr = np.load('results/T/11/Base/files/norm_surface_sr_Base_2750.npy')\n",
    "vel = np.load('results/T/11/Base/files/velsurface_Base_2750.npy')"
   ]
  },
  {
   "cell_type": "code",
   "execution_count": 30,
   "metadata": {
    "collapsed": false
   },
   "outputs": [
    {
     "data": {
      "text/plain": [
       "(-300, 300)"
      ]
     },
     "execution_count": 30,
     "metadata": {},
     "output_type": "execute_result"
    },
    {
     "data": {
      "image/png": "[encoded data removed]",
      "text/plain": [
       "<matplotlib.figure.Figure at 0x7faab0f2add0>"
      ]
     },
     "metadata": {},
     "output_type": "display_data"
    }
   ],
   "source": [
    "fig, axes = plt.subplots(figsize=(8,2))\n",
    "axes.plot(sr, color='g')\n",
    "axes.plot(vel)\n",
    "axes.set_ylim(-300, 300)"
   ]
  },
  {
   "cell_type": "code",
   "execution_count": 31,
   "metadata": {
    "collapsed": false
   },
   "outputs": [],
   "source": [
    "T2 = np.genfromtxt(\"results/T/11/Base/results_modelT_11_Base.dat\", skip_header=0, skip_footer=291-273)"
   ]
  },
  {
   "cell_type": "code",
   "execution_count": 32,
   "metadata": {
    "collapsed": false
   },
   "outputs": [
    {
     "data": {
      "text/plain": [
       "(261, 17)"
      ]
     },
     "execution_count": 32,
     "metadata": {},
     "output_type": "execute_result"
    }
   ],
   "source": [
    "T2.shape"
   ]
  },
  {
   "cell_type": "code",
   "execution_count": 33,
   "metadata": {
    "collapsed": false
   },
   "outputs": [
    {
     "data": {
      "text/plain": [
       "[<matplotlib.lines.Line2D at 0x7faab037f850>]"
      ]
     },
     "execution_count": 33,
     "metadata": {},
     "output_type": "execute_result"
    },
    {
     "data": {
      "image/png": "[encoded data removed]",
      "text/plain": [
       "<matplotlib.figure.Figure at 0x7faab044f710>"
      ]
     },
     "metadata": {},
     "output_type": "display_data"
    }
   ],
   "source": [
    "fig, axes = plt.subplots(figsize=(8,2))\n",
    "plt.plot(T2[:,0], T2[:,4], c='y',label=\"Avg. Temp\")\n",
    "plt.plot(T2[:,0], T2[:,5]/T2[:,-4], c='b',label=\"Avg. Temp. mantle\")\n",
    "plt.plot(T2[:,0], T2[:,6], c='r',label=\"Temp. max\")\n",
    "#axes.set_ylim(-300, 300)\n",
    "#axes.legend(loc=4)"
   ]
  },
  {
   "cell_type": "code",
   "execution_count": 34,
   "metadata": {
    "collapsed": false
   },
   "outputs": [
    {
     "data": {
      "text/plain": [
       "(1.02208487489, 0.97359247150200001)"
      ]
     },
     "execution_count": 34,
     "metadata": {},
     "output_type": "execute_result"
    }
   ],
   "source": [
    "T2[:,6].max(), T2[:,6].min()"
   ]
  },
  {
   "cell_type": "code",
   "execution_count": 42,
   "metadata": {
    "collapsed": false
   },
   "outputs": [
    {
     "data": {
      "text/plain": [
       "[<matplotlib.lines.Line2D at 0x7faab0400650>]"
      ]
     },
     "execution_count": 42,
     "metadata": {},
     "output_type": "execute_result"
    },
    {
     "data": {
      "image/png": "[encoded data removed]",
      "text/plain": [
       "<matplotlib.figure.Figure at 0x7faaaff8d3d0>"
      ]
     },
     "metadata": {},
     "output_type": "display_data"
    }
   ],
   "source": [
    "fig, axes = plt.subplots(figsize=(8,2))\n",
    "#plt.plot(T2[:,0], T2[:,5]/T2[:,-4], c='b',label=\"Avg. Temp. mantle\")\n",
    "plt.plot(T2[:,0], T2[:,-4], c='r',label=\"Avg. Area. mantle\")\n",
    "#plt.plot(T2[:,0], T2[:,-3]/T2[:,-4], c='g',label=\"Avg. Visc. mantle\")\n",
    "#plt.plot(T2[:,0], T2[:,-2], c='k',label=\"Avg. Visc. diss mantle\")\n",
    "\n",
    "\n",
    "#axes.set_ylim(-300, 300)\n",
    "#axes.legend(loc=4)"
   ]
  },
  {
   "cell_type": "code",
   "execution_count": 43,
   "metadata": {
    "collapsed": false
   },
   "outputs": [
    {
     "data": {
      "text/plain": [
       "<matplotlib.legend.Legend at 0x7faaafdcbf90>"
      ]
     },
     "execution_count": 43,
     "metadata": {},
     "output_type": "execute_result"
    },
    {
     "data": {
      "image/png": "[encoded data removed]",
      "text/plain": [
       "<matplotlib.figure.Figure at 0x7faaaff8dc90>"
      ]
     },
     "metadata": {},
     "output_type": "display_data"
    }
   ],
   "source": [
    "fig, axes = plt.subplots(figsize=(8,2))\n",
    "plt.plot(T2[:,0], T2[:,-1], c='b',label=\"Plateness\")\n",
    "axes.legend()"
   ]
  },
  {
   "cell_type": "code",
   "execution_count": 44,
   "metadata": {
    "collapsed": false
   },
   "outputs": [
    {
     "data": {
      "text/plain": [
       "<matplotlib.legend.Legend at 0x7faaafd12f50>"
      ]
     },
     "execution_count": 44,
     "metadata": {},
     "output_type": "execute_result"
    },
    {
     "data": {
      "image/png": "[encoded data removed]",
      "text/plain": [
       "<matplotlib.figure.Figure at 0x7faab184ca10>"
      ]
     },
     "metadata": {},
     "output_type": "display_data"
    }
   ],
   "source": [
    "fig, axes = plt.subplots(figsize=(8,2))\n",
    "plt.plot(T2[:,0], T2[:,3], c='b',label=\"Nusselt surface\")\n",
    "axes.legend()"
   ]
  },
  {
   "cell_type": "code",
   "execution_count": 45,
   "metadata": {
    "collapsed": false
   },
   "outputs": [
    {
     "data": {
      "text/plain": [
       "<matplotlib.legend.Legend at 0x7faaafbf0290>"
      ]
     },
     "execution_count": 45,
     "metadata": {},
     "output_type": "execute_result"
    },
    {
     "data": {
      "image/png": "[encoded data removed]",
      "text/plain": [
       "<matplotlib.figure.Figure at 0x7faaafe47e90>"
      ]
     },
     "metadata": {},
     "output_type": "display_data"
    }
   ],
   "source": [
    "fig, axes = plt.subplots(figsize=(8,2))\n",
    "plt.plot(T2[:,0], T2[:,7], c='r',label=\"Rms vel.\")\n",
    "plt.plot(T2[:,0], T2[:,8], c='b',label=\"Rms vel. surf\")\n",
    "axes.legend()"
   ]
  },
  {
   "cell_type": "code",
   "execution_count": null,
   "metadata": {
    "collapsed": true
   },
   "outputs": [],
   "source": []
  },
  {
   "cell_type": "code",
   "execution_count": 3,
   "metadata": {
    "collapsed": false
   },
   "outputs": [],
   "source": [
    "import pickle"
   ]
  },
  {
   "cell_type": "code",
   "execution_count": 9,
   "metadata": {
    "collapsed": false
   },
   "outputs": [],
   "source": [
    "fname = 'results/Z/6/checkpoint/8680/dp.pkl'\n",
    "with open(fname, 'rb') as handle:\n",
    "    b = pickle.load(handle)"
   ]
  },
  {
   "cell_type": "code",
   "execution_count": 10,
   "metadata": {
    "collapsed": false
   },
   "outputs": [
    {
     "data": {
      "text/plain": [
       "{'E': 162123.0,\n",
       " 'H': 3.709e-12,\n",
       " 'LS': 2900000.0,\n",
       " 'R': 8.314,\n",
       " 'SR': 1.1893408479302234e-16,\n",
       " 'StALS': 100000.0,\n",
       " 'TI': 1573.0,\n",
       " 'TS': 273.0,\n",
       " 'V': 3.4570000000000004e-23,\n",
       " 'VR': 3.449088458997648e-10,\n",
       " 'a': 2e-05,\n",
       " 'c': 1200.0,\n",
       " 'cohesion': 10000.0,\n",
       " 'deltaT': 1300,\n",
       " 'eta0': 2.05e+22,\n",
       " 'etaFault': 2.05e+20,\n",
       " 'faultDepth': 250000.0,\n",
       " 'fc': 0.0759375,\n",
       " 'g': 9.8,\n",
       " 'k': 1e-06,\n",
       " 'orientation': 30.0,\n",
       " 'rho': 3300,\n",
       " 'subzone': 0.0,\n",
       " 'w0': 300672.0}"
      ]
     },
     "execution_count": 10,
     "metadata": {},
     "output_type": "execute_result"
    }
   ],
   "source": [
    "b"
   ]
  },
  {
   "cell_type": "code",
   "execution_count": 12,
   "metadata": {
    "collapsed": false
   },
   "outputs": [
    {
     "name": "stdout",
     "output_type": "stream",
     "text": [
      "4.0             3.87228535521   1224.09845677   45.9423362283   23082143.6824   2.23681931354   1.77415915561   518.573704674   -38.9296968698  19640112.7738   1290724.49253   -93.2312385347  -0.0741274525121 3.34689771787   0.375           0.0127694926785 \r\n"
     ]
    }
   ],
   "source": [
    "!tail -1 'results/Z/6/checkpoint/8680/results_modelT_6.dat'"
   ]
  },
  {
   "cell_type": "code",
   "execution_count": null,
   "metadata": {
    "collapsed": true
   },
   "outputs": [],
   "source": []
  }
 ],
 "metadata": {
  "kernelspec": {
   "display_name": "Python 2",
   "language": "python",
   "name": "python2"
  },
  "language_info": {
   "codemirror_mode": {
    "name": "ipython",
    "version": 2
   },
   "file_extension": ".py",
   "mimetype": "text/x-python",
   "name": "python",
   "nbconvert_exporter": "python",
   "pygments_lexer": "ipython2",
   "version": "2.7.9"
  }
 },
 "nbformat": 4,
 "nbformat_minor": 0
}
