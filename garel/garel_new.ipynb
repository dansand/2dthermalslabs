{
 "cells": [
  {
   "cell_type": "markdown",
   "metadata": {},
   "source": [
    "## Composite, non-linear rheology:\n",
    "\n",
    "\n",
    "The viscous rheology in this model is similar to the Garel et al paper cited below. Other parts of the model setup are similar to Čížková and Bina (2015), Arredondo and Billen (2016) and Korenaga (2011). \n",
    "\n",
    "Here we use a dimensionless system. For the psuedo-plastic effective rheology a Drucker-prager model is used.\n",
    "\n",
    "\n",
    "**Keywords:** subduction, composite rheology, dislocation creep\n",
    "\n",
    "\n",
    "**References:**\n",
    "\n",
    "\n",
    "Garel, Fanny, et al. \"Interaction of subducted slabs with the mantle transition‐zone: A regime diagram from 2‐D thermo‐mechanical models with a mobile trench and an overriding plate.\" Geochemistry, Geophysics, Geosystems 15.5 (2014): 1739-1765.\n",
    "\n",
    "Čížková, Hana, and Craig R. Bina. \"Geodynamics of trench advance: Insights from a Philippine-Sea-style geometry.\" Earth and Planetary Science Letters 430 (2015): 408-415.\n",
    "\n",
    "Arredondo, Katrina M., and Magali I. Billen. \"The Effects of Phase Transitions and Compositional Layering in Two-dimensional Kinematic Models of Subduction.\" Journal of Geodynamics (2016).\n",
    "\n",
    "Korenaga, Jun. \"Scaling of plate tectonic convection with pseudoplastic rheology.\" Journal of Geophysical Research: Solid Earth 115.B11 (2010)."
   ]
  },
  {
   "cell_type": "code",
   "execution_count": 1,
   "metadata": {
    "collapsed": false
   },
   "outputs": [],
   "source": [
    "import numpy as np\n",
    "import underworld as uw\n",
    "import math\n",
    "from underworld import function as fn\n",
    "import glucifer\n",
    "\n",
    "import os\n",
    "import sys\n",
    "import natsort\n",
    "import shutil\n",
    "from easydict import EasyDict as edict\n",
    "import operator\n",
    "import pint\n",
    "import time\n",
    "import operator\n",
    "from slippy2 import boundary_layer2d\n",
    "from slippy2 import material_graph\n",
    "from slippy2 import spmesh\n",
    "from slippy2 import phase_function\n",
    "\n",
    "from mpi4py import MPI\n",
    "comm = MPI.COMM_WORLD\n",
    "rank = comm.Get_rank()"
   ]
  },
  {
   "cell_type": "code",
   "execution_count": 2,
   "metadata": {
    "collapsed": false
   },
   "outputs": [],
   "source": [
    "#store = glucifer.Store('subduction')\n",
    "#figParticle = glucifer.Figure( store, figsize=(960,300), name=\"Particles\" )\n",
    "\n",
    "#figParticle.save_database('test.gldb')"
   ]
  },
  {
   "cell_type": "markdown",
   "metadata": {},
   "source": [
    "Model name and directories\n",
    "-----"
   ]
  },
  {
   "cell_type": "code",
   "execution_count": 3,
   "metadata": {
    "collapsed": true
   },
   "outputs": [],
   "source": [
    "############\n",
    "#Model name.  \n",
    "############\n",
    "Model = \"T\"\n",
    "ModNum = 0\n",
    "\n",
    "if len(sys.argv) == 1:\n",
    "    ModIt = \"Base\"\n",
    "elif sys.argv[1] == '-f':\n",
    "    ModIt = \"Base\"\n",
    "else:\n",
    "    ModIt = str(sys.argv[1])"
   ]
  },
  {
   "cell_type": "code",
   "execution_count": 4,
   "metadata": {
    "collapsed": false
   },
   "outputs": [],
   "source": [
    "###########\n",
    "#Standard output directory setup\n",
    "###########\n",
    "\n",
    "\n",
    "outputPath = \"results\" + \"/\" +  str(Model) + \"/\" + str(ModNum) + \"/\" + str(ModIt) + \"/\"\n",
    "imagePath = outputPath + 'images/'\n",
    "filePath = outputPath + 'files/'\n",
    "checkpointPath = outputPath + 'checkpoint/'\n",
    "dbPath = outputPath + 'gldbs/'\n",
    "outputFile = 'results_model' + Model + '_' + str(ModNum) + '_' + str(ModIt) + '.dat'\n",
    "\n",
    "if uw.rank()==0:\n",
    "    # make directories if they don't exist\n",
    "    if not os.path.isdir(outputPath):\n",
    "        os.makedirs(outputPath)\n",
    "    if not os.path.isdir(checkpointPath):\n",
    "        os.makedirs(checkpointPath)\n",
    "    if not os.path.isdir(imagePath):\n",
    "        os.makedirs(imagePath)\n",
    "    if not os.path.isdir(dbPath):\n",
    "        os.makedirs(dbPath)\n",
    "    if not os.path.isdir(filePath):\n",
    "        os.makedirs(filePath)\n",
    "        \n",
    "comm.Barrier() #Barrier here so no procs run the check in the next cell too early"
   ]
  },
  {
   "cell_type": "code",
   "execution_count": 5,
   "metadata": {
    "collapsed": false
   },
   "outputs": [
    {
     "name": "stdout",
     "output_type": "stream",
     "text": [
      "results/T/0/Base/checkpoint/ is empty\n"
     ]
    }
   ],
   "source": [
    "###########\n",
    "#Check if starting from checkpoint\n",
    "###########\n",
    "\n",
    "checkdirs = []\n",
    "for dirpath, dirnames, files in os.walk(checkpointPath):\n",
    "    if files:\n",
    "        print dirpath, 'has files'\n",
    "        checkpointLoad = True\n",
    "        checkdirs.append(dirpath)\n",
    "    if not files:\n",
    "        print dirpath, 'is empty'\n",
    "        checkpointLoad = False"
   ]
  },
  {
   "cell_type": "markdown",
   "metadata": {},
   "source": [
    "Setup parameters\n",
    "-----\n",
    "\n",
    "Set simulation parameters for test."
   ]
  },
  {
   "cell_type": "markdown",
   "metadata": {},
   "source": [
    "**Use pint to setup any unit conversions we'll need**"
   ]
  },
  {
   "cell_type": "code",
   "execution_count": 6,
   "metadata": {
    "collapsed": false
   },
   "outputs": [
    {
     "data": {
      "text/html": [
       "10000.0 meter/megayear"
      ],
      "text/latex": [
       "$10000.0 \\frac{meter}{megayear}$"
      ],
      "text/plain": [
       "<Quantity(10000.0, 'meter / megayear')>"
      ]
     },
     "execution_count": 6,
     "metadata": {},
     "output_type": "execute_result"
    }
   ],
   "source": [
    "u = pint.UnitRegistry()\n",
    "cmpery = 1.*u.cm/u.year\n",
    "mpermy = 1.*u.m/u.megayear\n",
    "year = 1.*u.year\n",
    "spery = year.to(u.sec)\n",
    "cmpery.to(mpermy)"
   ]
  },
  {
   "cell_type": "code",
   "execution_count": 7,
   "metadata": {
    "collapsed": false
   },
   "outputs": [
    {
     "name": "stdout",
     "output_type": "stream",
     "text": [
      "(0.04, 1.2675505856327397e-11)\n"
     ]
    }
   ],
   "source": [
    "box_half_width =4000e3\n",
    "age_at_trench = 100e6\n",
    "cmperyear = box_half_width / age_at_trench #m/y\n",
    "mpersec = cmperyear*(cmpery.to(u.m/u.second)).magnitude #m/sec\n",
    "print(cmperyear, mpersec )"
   ]
  },
  {
   "cell_type": "markdown",
   "metadata": {},
   "source": [
    "**Model flags**"
   ]
  },
  {
   "cell_type": "code",
   "execution_count": 8,
   "metadata": {
    "collapsed": true
   },
   "outputs": [],
   "source": [
    "#Modelling and Physics switches\n",
    "refineMesh = True\n",
    "stickyAir = False \n",
    "meltViscosityReduction = False\n",
    "symmetricIC = False\n",
    "sticky_air_temp = 5\n",
    "eba = False  #Flag for extended boussinesq\n",
    "pressure_correct = False"
   ]
  },
  {
   "cell_type": "markdown",
   "metadata": {},
   "source": [
    "**Set parameter dictionaries**"
   ]
  },
  {
   "cell_type": "code",
   "execution_count": 67,
   "metadata": {
    "collapsed": false
   },
   "outputs": [],
   "source": [
    "###########\n",
    "#Store the physical parameters, scale factors and dimensionless pramters in easyDicts\n",
    "#Mainly helps with avoiding overwriting variables\n",
    "###########\n",
    "\n",
    "\n",
    "#Style => parameters_like_this\n",
    "\n",
    "dp = edict({'depth':0.5*2900.*1e3, #Depth\n",
    "            'LS':2900.*1e3, #Length scale\n",
    "           'rho':3300.,  #reference density\n",
    "           'g':9.8, #surface gravity\n",
    "           'eta0':1e20, #Dislocation creep at 250 km, 1573 K, 1e-15 s-1 \n",
    "           'k':1e-6, #thermal diffusivity\n",
    "           'a':3e-5, #surface thermal expansivity\n",
    "           'TP':1573., #mantle potential temp (K)\n",
    "           'TS':273., #surface temp (K)\n",
    "           'cohesion':2e6, #cohesion in Byerlee law\n",
    "           'fc':0.2,   #friction coefficient in Byerlee law (tan(phi))\n",
    "           'Adf':3e-11, #pre-exp factor for diffusion creep\n",
    "           'Ads':5e-16, #pre-exp factor for dislocation creep\n",
    "           'Apr':1e-150,#pre-exp factor for Peierls creep\n",
    "           'Edf':3e5,\n",
    "           'Eds':5.4e5,\n",
    "           'Epr':5.4e5,\n",
    "           'Vdf':4e-6,\n",
    "           'Vds':12e-6,\n",
    "           'Vpr':10e-6,\n",
    "           'Alm':2e-16,\n",
    "           'Elm':2.0e5,\n",
    "           'Vlm':1.5e-6,\n",
    "           'Ba':4.3e-12,  #A value to simulate pressure increase with depth\n",
    "            'BAdT':0.0005, #adiabatic temp gradient used to correct rheology if Boussinesq approx.\n",
    "           'SR':1e-15,\n",
    "           #'Dr':250e3, #Reference depth\n",
    "           'rDepth':250e3, #reference depth (used to scale / normalize the flow laws)\n",
    "           'R':8.314, #gas constant\n",
    "           'Cp':1250., #Specific heat (Jkg-1K-1)\n",
    "           'StALS':100e3, #depth of sticky air layer\n",
    "           'plate_vel':4})\n",
    "\n",
    "#Adiabatic heating stuff\n",
    "if eba:\n",
    "    dp.dTa = (dp.a*dp.g*(dp.TP))/dp.Cp #adibatic gradient, at Tp\n",
    "else:\n",
    "    dp.dTa = 0.    \n",
    "dp.deltaTa = (dp.TP + dp.dTa*dp.LS) - dp.TS  #Adiabatic Temp at base of mantle, minus Ts\n",
    "dp.rTemp= dp.TP + dp.rDepth*dp.dTa #reference temp, (potential temp + adiabat)\n",
    "\n",
    "\n",
    "#scale_factors\n",
    "\n",
    "sf = edict({'stress':dp.LS**2/(dp.k*dp.eta0),\n",
    "            'lith_grad':dp.rho*dp.g*(dp.LS)**3/(dp.eta0*dp.k) ,\n",
    "            'vel':dp.LS/dp.k,\n",
    "            'SR':dp.LS**2/dp.k,\n",
    "            'W':(-1./dp.Ba)*(np.log(1.-dp.rho*dp.g*dp.Ba*dp.LS))/(dp.R*dp.deltaTa), #Including adiabatic compression, and deltaTa\n",
    "            'E': 1./(dp.R*dp.deltaTa), #using deltaTa, the guesstimated adiabatic temp differnnce to scale these paramters\n",
    "            #'Ads':(dp.eta0**(ndp.n-2))*((dp.k)**(ndp.n-1))*((dp.LS)**(2. - 2*ndp.n))       \n",
    "           })\n",
    "\n",
    "#dimensionless parameters\n",
    "\n",
    "ndp = edict({'RA':(dp.g*dp.rho*dp.a*dp.deltaTa*(dp.LS)**3)/(dp.k*dp.eta0),\n",
    "            'cohesion':dp.cohesion*sf.stress,\n",
    "            'fcd':dp.fc*sf.lith_grad,\n",
    "            'gamma':dp.fc/(dp.a*dp.deltaTa),\n",
    "            'Wdf':dp.Vdf*sf.W,\n",
    "            'Edf':dp.Edf*sf.E,\n",
    "            'Wps':dp.Vpr*sf.W,\n",
    "            'Eps':dp.Epr*sf.E,\n",
    "            'Wds':dp.Vds*sf.W,\n",
    "            'Eds':dp.Eds*sf.E,\n",
    "            'Elm':dp.Elm*sf.E,\n",
    "            'Elm':dp.Elm*sf.E,\n",
    "            'Wlm':dp.Vlm*sf.W,\n",
    "            'TSP':0., \n",
    "            'TBP':1.,\n",
    "            'TPP':(dp.TP - dp.TS)/dp.deltaTa, #dimensionless potential temp\n",
    "            'rDepth':dp.rDepth/dp.LS,\n",
    "            'rTemp':(dp.rTemp- dp.TS)/dp.deltaTa,\n",
    "            'n':3.5, #Dislocation creep stress exponent\n",
    "            'np':20., #Peierls creep stress exponent\n",
    "            'TS':dp.TS/dp.deltaTa,\n",
    "            'TP':dp.TP/dp.deltaTa,\n",
    "            'eta_min':1e-3, \n",
    "            'eta_max':1e5, #viscosity max in the mantle material\n",
    "            'eta_max_crust':0.5, #viscosity max in the weak-crust material\n",
    "            'H':0.,\n",
    "            'Tmvp':0.6,\n",
    "            'Di': dp.a*dp.g*dp.LS/dp.Cp, #Dissipation number\n",
    "            'Steta0':1e2,\n",
    "            'plate_vel':sf.vel*dp.plate_vel*(cmpery.to(u.m/u.second)).magnitude,\n",
    "            'low_mantle_visc_fac':1.,\n",
    "            'crust_cohesion_fac':1.,\n",
    "            'crust_fc_fac':0.01})\n",
    "\n",
    "#Make some further additions to paramter dictionaries\n",
    "\n",
    "#dp.VR = (0.1*(dp.k/dp.LS)*ndp.RA**(2/3.)) #characteristic velocity from a scaling relationship\n",
    "#dp.SR = dp.VR/dp.LS #characteristic strain rate\n",
    "#ndp.VR = dp.VR*sf.vel #characteristic velocity\n",
    "#ndp.SR = dp.SR*sf.SR #characteristic strain rate\n",
    "\n",
    "\n",
    "ndp.SR = dp.SR*sf.SR #characteristic strain rate\n",
    "\n",
    "ndp.StRA = (3300.*dp.g*(dp.LS)**3)/(dp.eta0 *dp.k) #Composisitional Rayleigh number for rock-air buoyancy force\n",
    "ndp.TaP = 1. - ndp.TPP,  #Dimensionles adiabtic component of deltaT"
   ]
  },
  {
   "cell_type": "code",
   "execution_count": 68,
   "metadata": {
    "collapsed": false
   },
   "outputs": [
    {
     "data": {
      "text/plain": [
       "2900000.0"
      ]
     },
     "execution_count": 68,
     "metadata": {},
     "output_type": "execute_result"
    }
   ],
   "source": [
    "dp.LS"
   ]
  },
  {
   "cell_type": "code",
   "execution_count": 11,
   "metadata": {
    "collapsed": false
   },
   "outputs": [],
   "source": [
    "###########\n",
    "#lengths scales for various processes (material transistions etc.)\n",
    "###########\n",
    "\n",
    "MANTLETOCRUST = (20.*1e3)/dp.LS #Crust depth\n",
    "HARZBURGDEPTH = MANTLETOCRUST + (27.7e3/dp.LS)\n",
    "CRUSTTOMANTLE = (800.*1e3)/dp.LS\n",
    "LITHTOMANTLE = (900.*1e3)/dp.LS \n",
    "MANTLETOLITH = (200.*1e3)/dp.LS \n",
    "TOPOHEIGHT = (10.*1e3)/dp.LS  #rock-air topography limits\n",
    "CRUSTTOECL  = (100.*1e3)/dp.LS\n",
    "AVGTEMP = ndp.TPP #Used to define lithosphere\n",
    "LOWMANTLEDEPTH = (660.*1e3)/dp.LS \n",
    "CRUSTVISCUTOFF = (150.*1e3)/dp.LS #Deeper than this, crust material rheology reverts to mantle rheology\n",
    "AGETRACKDEPTH = 100e3/dp.LS #above this depth we track the age of the lithsphere (below age is assumed zero)\n"
   ]
  },
  {
   "cell_type": "markdown",
   "metadata": {},
   "source": [
    "**Model/ mesh  setup parameters**"
   ]
  },
  {
   "cell_type": "code",
   "execution_count": 12,
   "metadata": {
    "collapsed": false
   },
   "outputs": [],
   "source": [
    "###########\n",
    "#Model setup parameters\n",
    "###########\n",
    "\n",
    "compBuoyancy = False #use compositional & phase buoyancy, or simply thermal\n",
    "viscMechs = ['diffusion', 'dislocation', 'peierls', 'yielding']\n",
    "viscCombine = 'harmonic' #'harmonic', 'min', 'mixed'....\n",
    "\n",
    "#Domain and Mesh paramters\n",
    "\n",
    "RES = 64\n",
    "\n",
    "VelBC = False\n",
    "if dp.depth == 2900.e3:\n",
    "    aspectRatio = 10000e3/dp.depth\n",
    "    Xres = RES*4\n",
    "elif dp.depth == 0.5*2900.e3:\n",
    "    aspectRatio = 10000e3/dp.depth\n",
    "    Xres = RES*8\n",
    "else:\n",
    "    print (\"depth should be 2900km, or 1450 km\")\n",
    "\n",
    "dim = 2          # number of spatial dimensions\n",
    "hw = np.round(5000e3/dp.LS, 1)\n",
    "MINX = -1*hw\n",
    "MINY = 1. - (dp.depth/dp.LS)\n",
    "\n",
    "\n",
    "MAXX = hw\n",
    "MAXY = 1.\n",
    "\n",
    "\n",
    "if stickyAir:\n",
    "    Yres = RES\n",
    "    MAXY = 1. + dp.StALS/dp.LS #150km\n",
    "    \n",
    "else:\n",
    "    Yres = RES\n",
    "    MAXY = 1.\n",
    "\n",
    "periodic = [False, False]\n",
    "elementType = \"Q1/dQ0\"\n",
    "#elementType =\"Q2/DPC1\"\n",
    "\n",
    "\n",
    "#System/Solver stuff\n",
    "PIC_integration=True\n",
    "ppc = 25\n",
    "\n",
    "#Metric output stuff\n",
    "figures =  'gldb' #glucifer Store won't work on all machines, if not, set to 'gldb' \n",
    "swarm_repop, swarm_update = 10, 10\n",
    "gldbs_output = 6\n",
    "checkpoint_every, files_output = 6, 2 #checkpoint every needs to be greater or equal to metric_output \n",
    "metric_output = 6\n"
   ]
  },
  {
   "cell_type": "code",
   "execution_count": 13,
   "metadata": {
    "collapsed": false
   },
   "outputs": [
    {
     "data": {
      "text/plain": [
       "0.0"
      ]
     },
     "execution_count": 13,
     "metadata": {},
     "output_type": "execute_result"
    }
   ],
   "source": [
    "dp.dTa"
   ]
  },
  {
   "cell_type": "markdown",
   "metadata": {},
   "source": [
    "Create mesh and finite element variables\n",
    "------"
   ]
  },
  {
   "cell_type": "code",
   "execution_count": 14,
   "metadata": {
    "collapsed": false
   },
   "outputs": [],
   "source": [
    "mesh = uw.mesh.FeMesh_Cartesian( elementType = (elementType),\n",
    "                                 elementRes  = (Xres, Yres), \n",
    "                                 minCoord    = (MINX, MINY), \n",
    "                                 maxCoord    = (MAXX, MAXY), periodic=periodic)\n",
    "\n",
    "velocityField       = uw.mesh.MeshVariable( mesh=mesh,         nodeDofCount=2 )\n",
    "pressureField       = uw.mesh.MeshVariable( mesh=mesh.subMesh, nodeDofCount=1 )\n",
    "temperatureField    = uw.mesh.MeshVariable( mesh=mesh,         nodeDofCount=1 )\n",
    "temperatureDotField = uw.mesh.MeshVariable( mesh=mesh,         nodeDofCount=1 )"
   ]
  },
  {
   "cell_type": "code",
   "execution_count": 15,
   "metadata": {
    "collapsed": true
   },
   "outputs": [],
   "source": [
    "mesh.reset()\n"
   ]
  },
  {
   "cell_type": "code",
   "execution_count": 16,
   "metadata": {
    "collapsed": false
   },
   "outputs": [
    {
     "name": "stdout",
     "output_type": "stream",
     "text": [
      "Min\n",
      "(512, 0.0033867187499999774, 2.5840000000000054, 0.95999999999997443)\n",
      "('edges', 512)\n",
      "-- iteration 0 --\n",
      "| F( p_n ) |^2: 2.1341247797e-05\n",
      "| p_n+1 - p_n |^2: 11.8441792803\n",
      "-- iteration 1 --\n",
      "| F( p_n ) |^2: 4.40508176067e-30\n",
      "Min, Max element width: \n",
      "0.00339\n",
      "0.00989\n"
     ]
    }
   ],
   "source": [
    "###########\n",
    "#Mesh refinement\n",
    "###########\n",
    "\n",
    "#X-Axis\n",
    "\n",
    "if refineMesh:\n",
    "    mesh.reset()\n",
    "    axis = 0\n",
    "    origcoords = np.linspace(mesh.minCoord[axis], mesh.maxCoord[axis], mesh.elementRes[axis] + 1)\n",
    "    edge_rest_lengths = np.diff(origcoords)\n",
    "\n",
    "    deform_lengths = edge_rest_lengths.copy()\n",
    "    min_point =  (abs(mesh.maxCoord[axis]) - abs(mesh.minCoord[axis]))/2.\n",
    "    el_reduction = 0.51\n",
    "    dx = mesh.maxCoord[axis] - min_point\n",
    "\n",
    "    deform_lengths = deform_lengths - \\\n",
    "                                    ((1.-el_reduction) *deform_lengths[0]) + \\\n",
    "                                    abs((origcoords[1:] - min_point))*((0.5*deform_lengths[0])/dx)\n",
    "\n",
    "    #print(edge_rest_lengths.shape, deform_lengths.shape)\n",
    "\n",
    "    spmesh.deform_1d(deform_lengths, mesh,axis = 'x',norm = 'Min', constraints = [])"
   ]
  },
  {
   "cell_type": "code",
   "execution_count": 17,
   "metadata": {
    "collapsed": false
   },
   "outputs": [],
   "source": [
    "axis = 1\n",
    "orgs = np.linspace(mesh.minCoord[axis], mesh.maxCoord[axis], mesh.elementRes[axis] + 1)\n",
    "\n",
    "value_to_constrain = 1.\n",
    "\n",
    "\n",
    "yconst = [(spmesh.find_closest(orgs, value_to_constrain), np.array([value_to_constrain,0]))]"
   ]
  },
  {
   "cell_type": "code",
   "execution_count": 18,
   "metadata": {
    "collapsed": false,
    "scrolled": true
   },
   "outputs": [
    {
     "name": "stdout",
     "output_type": "stream",
     "text": [
      "Min\n",
      "(64, 0.00390625, 0.3115234375, 3.0634920634920637)\n",
      "('edges', 64)\n",
      "-- iteration 0 --\n",
      "| F( p_n ) |^2: 3.1486390129e-05\n",
      "| p_n+1 - p_n |^2: 0.137599723049\n",
      "-- iteration 1 --\n",
      "| F( p_n ) |^2: 3.42851641287e-31\n",
      "Min, Max element width: \n",
      "0.00391\n",
      "0.01172\n"
     ]
    }
   ],
   "source": [
    "###########\n",
    "#Mesh refinement\n",
    "###########\n",
    "\n",
    "if refineMesh:\n",
    "    #Y-Axis\n",
    "    axis = 1\n",
    "    origcoords = np.linspace(mesh.minCoord[axis], mesh.maxCoord[axis], mesh.elementRes[axis] + 1)\n",
    "    edge_rest_lengths = np.diff(origcoords)\n",
    "\n",
    "    deform_lengths = edge_rest_lengths.copy()\n",
    "    min_point =  (mesh.maxCoord[axis])\n",
    "    el_reduction = 0.5\n",
    "    dx = mesh.maxCoord[axis]\n",
    "\n",
    "    deform_lengths = deform_lengths - \\\n",
    "                                    ((1.-el_reduction)*deform_lengths[0]) + \\\n",
    "                                    abs((origcoords[1:] - min_point))*((0.5*deform_lengths[0])/dx)\n",
    "\n",
    "    #print(edge_rest_lengths.shape, deform_lengths.shape)\n",
    "\n",
    "    spmesh.deform_1d(deform_lengths, mesh,axis = 'y',norm = 'Min', constraints = yconst)"
   ]
  },
  {
   "cell_type": "code",
   "execution_count": 19,
   "metadata": {
    "collapsed": false
   },
   "outputs": [],
   "source": [
    "#fig= glucifer.Figure()\n",
    "#fig.append(glucifer.objects.Mesh(mesh))\n",
    "\n",
    "#fig.show()\n",
    "#fig.save_database('test.gldb')"
   ]
  },
  {
   "cell_type": "markdown",
   "metadata": {},
   "source": [
    "Initial conditions\n",
    "-------\n"
   ]
  },
  {
   "cell_type": "code",
   "execution_count": 20,
   "metadata": {
    "collapsed": false
   },
   "outputs": [],
   "source": [
    "coordinate = fn.input()\n",
    "depthFn = 1. - coordinate[1] #a function providing the depth\n",
    "xFn = coordinate[0]  #a function providing the x-coordinate\n",
    "yFn = coordinate[1]  #a function providing the y-coordinate\n",
    "\n",
    "potTempFn = ndp.TPP + (depthFn)*ndp.TaP #a function providing the adiabatic temp at any depth\n",
    "abHeatFn = -1.*velocityField[1]*temperatureField*ndp.Di #a function providing the adiabatic heating rate"
   ]
  },
  {
   "cell_type": "code",
   "execution_count": 21,
   "metadata": {
    "collapsed": false
   },
   "outputs": [],
   "source": [
    "#ndp.TaP"
   ]
  },
  {
   "cell_type": "code",
   "execution_count": 22,
   "metadata": {
    "collapsed": false
   },
   "outputs": [],
   "source": [
    "def age_fn(xFn, sz = 0.0, lMOR=MINX, rMOR=MAXX, opFac=1., conjugate_plate = False):\n",
    "    \"\"\"\n",
    "    Simple function to generate a discrete 1-d (i.e x-coordinate) function for the age of the thermal BC. \n",
    "    All paramters are dimensionless\n",
    "    sz: location of subduction zone\n",
    "    lMOR: location of left-hand MOR\n",
    "    rMOR: location of right-hand MOR\n",
    "    opFac: uniform reduce the age of the right hand plate by this factor\n",
    "    conjugate_plate: if True, build plates on the outer sides of the MORs, if False, age = 0. \n",
    "    \"\"\"\n",
    "    \n",
    "    if lMOR < MINX:\n",
    "        lMOR = MINX\n",
    "    if rMOR > MAXX:\n",
    "        rMOR = MAXX\n",
    "    r_grad =  1./(abs(rMOR-sz))\n",
    "    l_grad =  1./(abs(sz-lMOR))\n",
    "    if conjugate_plate:\n",
    "        ageFn = fn.branching.conditional([(operator.and_(xFn > lMOR, xFn < sz) , (xFn + abs(lMOR))/(abs(sz-lMOR))), \n",
    "                                      (operator.and_(xFn < rMOR, xFn >= sz), (1.-(xFn + abs(sz))/abs(rMOR-sz))*opFac),\n",
    "                                      (xFn > rMOR, r_grad*opFac*(xFn -abs(rMOR)) / (abs(MAXX-rMOR))),\n",
    "                                      (True, l_grad*fn.math.abs((((xFn + abs(lMOR)) / (abs(lMOR - MINX))))))\n",
    "                                         ])\n",
    "    else:    \n",
    "        \n",
    "        ageFn = fn.branching.conditional([(operator.and_(xFn > lMOR, xFn < sz) , (xFn + abs(lMOR))/(abs(sz-lMOR))), \n",
    "                                      (operator.and_(xFn < rMOR, xFn >= sz), (1.-(xFn + abs(sz))/abs(rMOR-sz))*opFac),\n",
    "\n",
    "                                      (True, 0.0)])\n",
    "    return ageFn"
   ]
  },
  {
   "cell_type": "code",
   "execution_count": 23,
   "metadata": {
    "collapsed": false
   },
   "outputs": [],
   "source": [
    "###########\n",
    "#Thermal initial condition:\n",
    "#if symmetricIC, we build a symmetric downwelling on top of a sinusoidal perturbation\n",
    "##########\n",
    "\n",
    "#Sinusoidal initial condition\n",
    "A = 0.2\n",
    "sinFn = depthFn + A*(fn.math.cos( math.pi * coordinate[0])  * fn.math.sin( math.pi * coordinate[1] ))        \n",
    "iD = 1000e3/dp.LS #Initial Slab depth\n",
    "dl =  2*math.sqrt(dp.k*160e6*3600*24*365) #diffusion Length at ... My\n",
    "w0 = dl/dp.LS #Boundary layer/slab initial condition\n",
    "delX1 = fn.misc.min(fn.math.abs(coordinate[0] - -0.), fn.math.abs(coordinate[0] - -2.))\n",
    "delX = fn.misc.min(delX1 , fn.math.abs(coordinate[0] - 2.))\n",
    "w = w0*fn.math.sqrt(delX + 1e-7)\n",
    "tempBL = (potTempFn) *fn.math.erf((depthFn)/w) + ndp.TSP\n",
    "delX = fn.misc.min(fn.math.abs(coordinate[0] - - 1.) , fn.math.abs(coordinate[0] - 1.))\n",
    "tempSlab = (potTempFn ) *fn.math.erf((delX*2.)/w0) + ndp.TSP       \n",
    "tempFn1 =  fn.misc.min(tempBL, tempSlab)\n",
    "blFn = fn.branching.conditional([(depthFn < iD, tempFn1), \n",
    "                                    (True, potTempFn)])\n",
    "\n",
    "tempFn = 0.*sinFn + 1.*blFn #partition the temp between these the symmetric downwelling and sinusoid\n",
    "if symmetricIC:  \n",
    "    if not checkpointLoad:\n",
    "        temperatureField.data[:] = tempFn.evaluate(mesh)  "
   ]
  },
  {
   "cell_type": "code",
   "execution_count": 24,
   "metadata": {
    "collapsed": false
   },
   "outputs": [],
   "source": [
    "###########\n",
    "#Thermal initial condition 2: \n",
    "#if symmetricIC == False, we build an asymmetric subduction-zone\n",
    "###########\n",
    "\n",
    "#Main control paramters are:\n",
    "\n",
    "Roc = 300e3 #radius of curvature of slab\n",
    "\n",
    "theta = 89. #Angle to truncate the slab (can also do with with a cutoff depth)\n",
    "subzone = 0.0 #X position of subduction zone...in model coordinates\n",
    "slabmaxAge = 40e6 #age of subduction plate at trench\n",
    "platemaxAge = 40e6 #max age of slab (Plate model)\n",
    "ageAtTrenchSeconds = min(platemaxAge*(3600*24*365), slabmaxAge*(3600*24*365))\n",
    "\n",
    "\n",
    "sense = 'Right' #dip direction\n",
    "op_age_fac = 1. #this controls the overidding plate speed, hence age reduction\n",
    "\n",
    "\n",
    "#First build the top TBL\n",
    "#lRidge = -0.5*(670e3*4)/dp.LS_SC  #For depth = 670 km, aspect ratio of 4, this puts the ridges at MINX, MAXX\n",
    "#rRidge = 0.5*(670e3*4)/dp.LS_SC\n",
    "\n",
    "#ageFn = age_fn(xFn, sz = -0.5, lMOR=-2., rMOR=2.)\n",
    "ageFn = age_fn(xFn, sz =0., conjugate_plate=True)\n",
    "\n",
    "#dimensionlize the age function\n",
    "ageFn *= slabmaxAge*(3600*24*365)\n",
    "#ageFn = fn.misc.min(ageFn, platemaxAge*(3600*24*365)) #apply plate model\n",
    "\n",
    "w0 = (2.*math.sqrt(dp.k*ageAtTrenchSeconds))/dp.LS #diffusion depth of plate at the trench\n",
    "\n",
    "tempBL = (potTempFn) *fn.math.erf((depthFn*dp.LS)/(2.*fn.math.sqrt(dp.k*ageFn))) + ndp.TSP #boundary layer function\n",
    "\n",
    "tempTBL =  fn.branching.conditional([(depthFn < w0, tempBL),\n",
    "                          (True, potTempFn)])\n",
    "\n",
    "if not symmetricIC:\n",
    "    if not checkpointLoad:\n",
    "        out = uw.utils.MeshVariable_Projection( temperatureField, tempTBL) #apply function with projection\n",
    "        out.solve()\n",
    "\n",
    "\n",
    "#Now build the perturbation part\n",
    "def inCircleFnGenerator(centre, radius):\n",
    "    coord = fn.input()\n",
    "    offsetFn = coord - centre\n",
    "    return fn.math.dot( offsetFn, offsetFn ) < radius**2\n",
    "\n",
    "#Setup slab perturbation params (mostly dimensionlesl / model params here)\n",
    "phi = 90. - theta\n",
    "RocM = (Roc/dp.LS)\n",
    "CrustM = MANTLETOCRUST\n",
    "Org = (subzone, 1.-RocM)\n",
    "maxDepth = 250e3/dp.LS\n",
    "\n",
    "#We use three circles to define our slab and crust perturbation,  \n",
    "Oc = inCircleFnGenerator(Org , RocM)\n",
    "O2 = inCircleFnGenerator(Org , RocM + (0.5*CrustM)) #increases the amount of crust in the interface\n",
    "Ic = inCircleFnGenerator(Org , RocM - w0)\n",
    "Cc = inCircleFnGenerator(Org , RocM - (1.*CrustM)) #... weak zone on 'inside' of slab\n",
    "Hc = inCircleFnGenerator(Org , RocM - HARZBURGDEPTH) #... Harzburgite layer \n",
    "dx = (RocM)/(np.math.tan((np.math.pi/180.)*phi))\n",
    "\n",
    "#We'll also create a triangle which will truncate the circles defining the slab...\n",
    "if sense == 'Left':\n",
    "    ptx = subzone - dx\n",
    "else:\n",
    "    ptx = subzone + dx\n",
    "coords = ((0.+subzone, 1), (0.+subzone, 1.-RocM), (ptx, 1.))\n",
    "Tri = fn.shape.Polygon(np.array(coords))\n",
    "\n",
    "#Actually apply the perturbation\n",
    "if not symmetricIC:\n",
    "    if not checkpointLoad:\n",
    "        sdFn = ((RocM - fn.math.sqrt((coordinate[0] - Org[0])**2. + (coordinate[1] - Org[1])**2.)))\n",
    "        slabFn = ndp.TPP*fn.math.erf((sdFn*dp.LS)/(2.*math.sqrt(dp.k*ageAtTrenchSeconds))) + ndp.TSP\n",
    "        for index, coord in enumerate(mesh.data):\n",
    "            if (\n",
    "                Oc.evaluate(tuple(coord)) and\n",
    "                Tri.evaluate(tuple(coord)) and not\n",
    "                Ic.evaluate(tuple(coord)) and\n",
    "                coord[1] > (1. - maxDepth)\n",
    "                ): #In the quarter-circle defining the lithosphere\n",
    "                temperatureField.data[index] = slabFn.evaluate(mesh)[index]\n",
    "\n"
   ]
  },
  {
   "cell_type": "code",
   "execution_count": 25,
   "metadata": {
    "collapsed": false
   },
   "outputs": [],
   "source": [
    "#Make sure material in sticky air region is at the surface temperature.\n",
    "for index, coord in enumerate(mesh.data):\n",
    "            if coord[1] >= 1.:\n",
    "                temperatureField.data[index] = ndp.TSP"
   ]
  },
  {
   "cell_type": "code",
   "execution_count": 26,
   "metadata": {
    "collapsed": false
   },
   "outputs": [
    {
     "data": {
      "text/plain": [
       "(0.05172413793103448, 0.020689655172413793)"
      ]
     },
     "execution_count": 26,
     "metadata": {},
     "output_type": "execute_result"
    }
   ],
   "source": [
    "#fn.math.erf((sdFn*dp.LS)/(2.*fn.math.sqrt(dp.k*(slabmaxAge*(3600*24*365))))) \n",
    "CRUSTVISCUTOFF, MANTLETOCRUST*3"
   ]
  },
  {
   "cell_type": "markdown",
   "metadata": {
    "collapsed": false
   },
   "source": [
    "def matplot_field(temperatureField, dp):\n",
    "    if uw.nProcs() != 1:\n",
    "        print(\"only in Serial folks\")\n",
    "    else:\n",
    "        import matplotlib.pyplot as pyplt\n",
    "        try :\n",
    "            if(__IPYTHON__) :\n",
    "                get_ipython().magic(u'matplotlib inline')\n",
    "        except NameError :\n",
    "            pass\n",
    "        field_data = temperatureField.data.reshape(mesh.elementRes[1] + 1, mesh.elementRes[0] + 1)\n",
    "        fig, ax = pyplt.subplots(figsize=(32,2))\n",
    "        ql = dp.LS/1e3\n",
    "        pyplt.ioff()\n",
    "        cax =ax.imshow(np.flipud(field_data), cmap='coolwarm', aspect = 0.5, extent=[0,ql*aspectRatio,ql, 0])\n",
    "        fig.colorbar(cax, orientation='horizontal' )\n",
    "        #ax.set_x([0,dp.LS*aspectRatio])\n",
    "        pyplt.tight_layout()\n",
    "        \n",
    "        return fig, ax\n",
    "        \n",
    "fig, ax = matplot_field(temperatureField, dp)\n",
    "fig.savefig('test.png')       "
   ]
  },
  {
   "cell_type": "code",
   "execution_count": 62,
   "metadata": {
    "collapsed": false
   },
   "outputs": [],
   "source": [
    "#fig= glucifer.Figure(quality=3)\n",
    "\n",
    "#fig.append( glucifer.objects.Surface(mesh,depthFn, discrete=True))\n",
    "#fig.append( glucifer.objects.Mesh(mesh))\n",
    "#fig.show()\n",
    "#fig.save_database('test.gldb')\n"
   ]
  },
  {
   "cell_type": "code",
   "execution_count": 28,
   "metadata": {
    "collapsed": false
   },
   "outputs": [
    {
     "data": {
      "text/plain": [
       "0.0"
      ]
     },
     "execution_count": 28,
     "metadata": {},
     "output_type": "execute_result"
    }
   ],
   "source": [
    "temperatureField.data.min()"
   ]
  },
  {
   "cell_type": "markdown",
   "metadata": {},
   "source": [
    "Boundary conditions\n",
    "-------"
   ]
  },
  {
   "cell_type": "code",
   "execution_count": 29,
   "metadata": {
    "collapsed": false
   },
   "outputs": [
    {
     "name": "stdout",
     "output_type": "stream",
     "text": [
      "2\n"
     ]
    }
   ],
   "source": [
    "iWalls = mesh.specialSets[\"MinI_VertexSet\"] + mesh.specialSets[\"MaxI_VertexSet\"]\n",
    "jWalls = mesh.specialSets[\"MinJ_VertexSet\"] + mesh.specialSets[\"MaxJ_VertexSet\"]\n",
    "tWalls = mesh.specialSets[\"MaxJ_VertexSet\"]\n",
    "bWalls =mesh.specialSets[\"MinJ_VertexSet\"]\n",
    "\n",
    "\n",
    "for index in mesh.specialSets[\"MinJ_VertexSet\"]:\n",
    "    temperatureField.data[index] = potTempFn.evaluate(bWalls).min() #Adiabatic temp at bottom of mesh/domain\n",
    "for index in mesh.specialSets[\"MaxJ_VertexSet\"]:\n",
    "    temperatureField.data[index] = ndp.TSP\n",
    "\n",
    "VelBCs = mesh.specialSets[\"Empty\"]\n",
    "\n",
    "\n",
    "\n",
    "if VelBC:\n",
    "    for index in list(tWalls.data):\n",
    "\n",
    "        if (mesh.data[int(index)][0] < (subzone - 0.05*aspectRatio) and \n",
    "            mesh.data[int(index)][0] > (mesh.minCoord[0] + 0.05*aspectRatio)): #Only push with a portion of teh overiding plate\n",
    "            #print \"first\"\n",
    "            VelBCs.add(int(index))\n",
    "            #Set the plate velocities for the kinematic phase\n",
    "            velocityField.data[index] = [ndp.plate_vel, 0.]\n",
    "        \n",
    "        elif (mesh.data[int(index)][0] > (subzone + 0.05*aspectRatio) and \n",
    "            mesh.data[int(index)][0] < (mesh.maxCoord[0] - 0.05*aspectRatio)):\n",
    "            #print \"second\"\n",
    "            VelBCs.add(int(index))\n",
    "            #Set the plate velocities for the kinematic phase\n",
    "            velocityField.data[index] = [0., 0.]\n",
    "        \n",
    "\n",
    "#If periodic, we'll fix a the x-vel at a single node - at the bottom left (index 0)\n",
    "Fixed = mesh.specialSets[\"Empty\"]\n",
    "Fixed.add(int(0))        \n",
    "        \n",
    "\n",
    "if periodic[0] == False:\n",
    "    if VelBC:\n",
    "        print(1)\n",
    "        freeslipBC = uw.conditions.DirichletCondition( variable      = velocityField, \n",
    "                                               indexSetsPerDof = ( iWalls + VelBCs, jWalls) )\n",
    "    else:\n",
    "        print(2)\n",
    "        freeslipBC = uw.conditions.DirichletCondition( variable      = velocityField, \n",
    "                                               indexSetsPerDof = ( iWalls, jWalls) )\n",
    "\n",
    "\n",
    "\n",
    "\n",
    "\n",
    "\n",
    "if periodic[0] == True:\n",
    "    if VelBC:\n",
    "        print(3)\n",
    "        freeslipBC = uw.conditions.DirichletCondition( variable      = velocityField, \n",
    "                                               indexSetsPerDof = ( Fixed + VelBCs , jWalls) )\n",
    "    else:\n",
    "        print(4)\n",
    "        freeslipBC = uw.conditions.DirichletCondition( variable      = velocityField, \n",
    "                                               indexSetsPerDof = ( Fixed, jWalls) )\n",
    "        \n",
    "    \n",
    "    \n",
    "    \n",
    "# also set dirichlet for temp field\n",
    "dirichTempBC = uw.conditions.DirichletCondition(     variable=temperatureField, \n",
    "                                              indexSetsPerDof=(tWalls,) )\n",
    "dT_dy = [0.,0.]\n",
    "\n",
    "# also set dirichlet for temp field\n",
    "neumannTempBC = uw.conditions.NeumannCondition( dT_dy, variable=temperatureField, \n",
    "                                         nodeIndexSet=bWalls)\n",
    "\n"
   ]
  },
  {
   "cell_type": "code",
   "execution_count": null,
   "metadata": {
    "collapsed": false
   },
   "outputs": [],
   "source": []
  },
  {
   "cell_type": "code",
   "execution_count": 30,
   "metadata": {
    "collapsed": false
   },
   "outputs": [],
   "source": [
    "#check VelBCs are where we want them\n",
    "#test = np.zeros(len(tWalls.data))\n",
    "#VelBCs\n",
    "#tWalls.data\n",
    "#tWalls.data[VelBCs.data]\n",
    "#test[np.in1d(tWalls.data, VelBCs.data)] = 1.\n",
    "#test\n",
    "\n"
   ]
  },
  {
   "cell_type": "code",
   "execution_count": null,
   "metadata": {
    "collapsed": false
   },
   "outputs": [],
   "source": []
  },
  {
   "cell_type": "markdown",
   "metadata": {},
   "source": [
    "Swarm setup\n",
    "-----\n"
   ]
  },
  {
   "cell_type": "code",
   "execution_count": 31,
   "metadata": {
    "collapsed": false
   },
   "outputs": [],
   "source": [
    "###########\n",
    "#Material Swarm and variables\n",
    "###########\n",
    "\n",
    "#create material swarm\n",
    "gSwarm = uw.swarm.Swarm(mesh=mesh, particleEscape=True)\n",
    "\n",
    "#create swarm variables\n",
    "yieldingCheck = gSwarm.add_variable( dataType=\"int\", count=1 )\n",
    "#tracerVariable = gSwarm.add_variable( dataType=\"int\", count=1)\n",
    "materialVariable = gSwarm.add_variable( dataType=\"int\", count=1 )\n",
    "ageVariable = gSwarm.add_variable( dataType=\"double\", count=1 )\n",
    "#testVariable = gSwarm.add_variable( dataType=\"float\", count=1 )\n",
    "\n",
    "\n",
    "#these lists  are part of the checkpointing implementation\n",
    "varlist = [materialVariable, yieldingCheck, ageVariable]\n",
    "varnames = ['materialVariable', 'yieldingCheck', 'ageVariable']"
   ]
  },
  {
   "cell_type": "code",
   "execution_count": 32,
   "metadata": {
    "collapsed": false
   },
   "outputs": [],
   "source": [
    "mantleIndex = 0\n",
    "crustIndex = 1\n",
    "harzIndex = 2\n",
    "airIndex = 3\n",
    "\n",
    "\n",
    "\n",
    "if checkpointLoad:\n",
    "    checkpointLoadDir = natsort.natsort(checkdirs)[-1]\n",
    "    temperatureField.load(os.path.join(checkpointLoadDir, \"temperatureField\" + \".hdf5\"))\n",
    "    pressureField.load(os.path.join(checkpointLoadDir, \"pressureField\" + \".hdf5\"))\n",
    "    velocityField.load(os.path.join(checkpointLoadDir, \"velocityField\" + \".hdf5\"))\n",
    "    gSwarm.load(os.path.join(checkpointLoadDir, \"swarm\" + \".h5\"))\n",
    "    for ix in range(len(varlist)):\n",
    "        varb = varlist[ix]\n",
    "        varb.load(os.path.join(checkpointLoadDir,varnames[ix] + \".h5\"))\n",
    "\n",
    "else:\n",
    "\n",
    "    # Layouts are used to populate the swarm across the whole domain\n",
    "    layout = uw.swarm.layouts.PerCellRandomLayout(swarm=gSwarm, particlesPerCell=ppc)\n",
    "    gSwarm.populate_using_layout( layout=layout ) # Now use it to populate.\n",
    "    # Swarm variables\n",
    "    materialVariable.data[:] = mantleIndex\n",
    "    #tracerVariable.data[:] = 1\n",
    "    yieldingCheck.data[:] = 0\n",
    "    ageVariable.data[:] = -1\n",
    "\n",
    "    #Set initial air and crust materials (allow the graph to take care of lithsophere)\n",
    "    #########\n",
    "    #This initial material setup will be model dependent\n",
    "    #########\n",
    "    for particleID in range(gSwarm.particleCoordinates.data.shape[0]):\n",
    "        if (1. - gSwarm.particleCoordinates.data[particleID][1]) < MANTLETOCRUST:\n",
    "                 materialVariable.data[particleID] = crustIndex"
   ]
  },
  {
   "cell_type": "markdown",
   "metadata": {
    "collapsed": false
   },
   "source": [
    "###########\n",
    "#This block sets up a checkboard layout of passive tracers\n",
    "###########\n",
    "\n",
    "square_size = 0.1\n",
    "xlist = np.arange(mesh.minCoord[0] + square_size/2., mesh.maxCoord[0] + square_size/2., square_size)\n",
    "xlist = zip(xlist[:], xlist[1:])[::2]\n",
    "ylist = np.arange(mesh.minCoord[1] + square_size/2., mesh.maxCoord[1] + square_size/2., square_size)\n",
    "ylist = zip(ylist[:], ylist[1:])[::2]\n",
    "xops = []\n",
    "for vals in xlist:\n",
    "    xops.append( (operator.and_(   operator.gt(coordinate[0],vals[0]),   operator.lt(coordinate[0],vals[1])  ),0.) )\n",
    "xops.append((True,1.))\n",
    "\n",
    "testfunc = fn.branching.conditional(xops) \n",
    "\n",
    "yops = []\n",
    "for vals in ylist:\n",
    "    yops.append( (operator.and_(   operator.gt(coordinate[1],vals[0]),   operator.lt(coordinate[1],vals[1])  ),0.) )\n",
    "yops.append((True,testfunc))\n",
    "\n",
    "testfunc2 = fn.branching.conditional(yops) \n",
    "tracerVariable.data[:] = testfunc.evaluate(gSwarm)\n",
    "tracerVariable.data[:] = testfunc2.evaluate(gSwarm)"
   ]
  },
  {
   "cell_type": "code",
   "execution_count": null,
   "metadata": {
    "collapsed": false
   },
   "outputs": [],
   "source": []
  },
  {
   "cell_type": "code",
   "execution_count": 33,
   "metadata": {
    "collapsed": false
   },
   "outputs": [],
   "source": [
    "##############\n",
    "#Set the initial particle age for particles above the critical depth; \n",
    "#only material older than crustageCond will be transformed to crust / harzburgite\n",
    "##############\n",
    "\n",
    "ageVariable.data[:] = 0. #start with all zero\n",
    "ageVariable.data[:] = ageFn.evaluate(gSwarm)/sf.SR\n",
    "crustageCond = 2e6*(3600.*365.*24.)/sf.SR #set inital age above critical depth. (x...Ma)\n",
    "\n",
    "\n",
    "\n",
    "ageConditions = [ (depthFn < AGETRACKDEPTH, ageVariable),  #In the main loop we add ageVariable + dt here\n",
    "                  (True, 0.) ]\n",
    "                 \n",
    "#apply conditional \n",
    "ageVariable.data[:] = fn.branching.conditional( ageConditions ).evaluate(gSwarm)\n",
    "\n",
    "ageDT = 0.#this is used in the main loop for short term time increments"
   ]
  },
  {
   "cell_type": "code",
   "execution_count": 34,
   "metadata": {
    "collapsed": false
   },
   "outputs": [],
   "source": [
    "#fig= glucifer.Figure()\n",
    "#fig.append( glucifer.objects.Points(gSwarm,ageVariable))\n",
    "#fig.append( glucifer.objects.Points(gSwarm, viscosityMapFn, logScale=True, valueRange =[1e-3,1e5]))\n",
    "\n",
    "#fig.append( glucifer.objects.Surface(mesh, strainRate_2ndInvariant, logScale=True, valueRange =[1e-3,1e5] ))\n",
    "#fig.append( glucifer.objects.VectorArrows(mesh,velocityField, scaling=0.002))\n",
    "#fig.append( glucifer.objects.Surface(mesh,densityMapFn))\n",
    "#fig.append( glucifer.objects.Surface(mesh,raylieghFn))\n",
    "\n",
    "#fig.show()"
   ]
  },
  {
   "cell_type": "code",
   "execution_count": 35,
   "metadata": {
    "collapsed": false
   },
   "outputs": [],
   "source": [
    "##############\n",
    "#Here we set up a directed graph object that we we use to control the transformation from one material type to another\n",
    "##############\n",
    "\n",
    "#All depth conditions are given as (km/D) where D is the length scale,\n",
    "#note that 'model depths' are used, e.g. 1-z, where z is the vertical Underworld coordinate\n",
    "#All temp conditions are in dimensionless temp. [0. - 1.]\n",
    "\n",
    "#Need a list of all material indexes (safer in parallel)\n",
    "material_list = [0,1,2,3]\n",
    "\n",
    "if not checkpointLoad:\n",
    "    materialVariable.data[:] = 0 #Initialize to zero \n",
    "\n",
    "#Setup the graph object\n",
    "DG = material_graph.MatGraph()\n",
    "\n",
    "#Important: First thing to do is to add all the material types to the graph (i.e add nodes)\n",
    "DG.add_nodes_from(material_list)\n",
    "\n",
    "#Now set the conditions for transformations\n",
    "\n",
    "hs = 2e3/dp.LS  #add some hysteresis to the depths of transition\n",
    "\n",
    "#... to mantle\n",
    "DG.add_transition((crustIndex,mantleIndex), depthFn, operator.gt, CRUSTTOMANTLE + hs)\n",
    "DG.add_transition((harzIndex,mantleIndex), depthFn, operator.gt, CRUSTTOMANTLE + hs)\n",
    "DG.add_transition((airIndex,mantleIndex), depthFn, operator.gt, TOPOHEIGHT + hs)\n",
    "\n",
    "#... to crust\n",
    "DG.add_transition((mantleIndex,crustIndex), depthFn, operator.lt, MANTLETOCRUST)\n",
    "DG.add_transition((mantleIndex,crustIndex), xFn, operator.lt, 0. + 7.*MANTLETOCRUST) #No crust on the upper plate\n",
    "DG.add_transition((mantleIndex,crustIndex), ageVariable, operator.gt, crustageCond)\n",
    "\n",
    "\n",
    "DG.add_transition((harzIndex,crustIndex), depthFn, operator.lt, MANTLETOCRUST)\n",
    "DG.add_transition((harzIndex,crustIndex), xFn, operator.lt, 0. + 7.*MANTLETOCRUST) #This one sets no crust on the upper plate\n",
    "DG.add_transition((harzIndex,crustIndex), ageVariable, operator.gt, crustageCond)\n",
    "\n",
    "#... to Harzbugite\n",
    "DG.add_transition((mantleIndex,harzIndex), depthFn, operator.lt, HARZBURGDEPTH)\n",
    "DG.add_transition((mantleIndex,harzIndex), depthFn, operator.gt, MANTLETOCRUST)\n",
    "DG.add_transition((mantleIndex,harzIndex), ageVariable, operator.gt, crustageCond) #Note we can mix functions and swarm variabls\n",
    "\n",
    "#... to air\n",
    "DG.add_transition((mantleIndex,airIndex), depthFn, operator.lt,0. - TOPOHEIGHT)\n",
    "DG.add_transition((crustIndex,airIndex), depthFn, operator.lt, 0. - TOPOHEIGHT)\n"
   ]
  },
  {
   "cell_type": "code",
   "execution_count": 36,
   "metadata": {
    "collapsed": false
   },
   "outputs": [],
   "source": [
    "#7.*MANTLETOCRUST"
   ]
  },
  {
   "cell_type": "code",
   "execution_count": 37,
   "metadata": {
    "collapsed": false
   },
   "outputs": [
    {
     "data": {
      "text/plain": [
       "[0, 1, 2, 3]"
      ]
     },
     "execution_count": 37,
     "metadata": {},
     "output_type": "execute_result"
    }
   ],
   "source": [
    "DG.nodes()"
   ]
  },
  {
   "cell_type": "code",
   "execution_count": 38,
   "metadata": {
    "collapsed": false
   },
   "outputs": [
    {
     "data": {
      "text/plain": [
       "(0.27586206896551724, 0.016448275862068963, 0.04827586206896552)"
      ]
     },
     "execution_count": 38,
     "metadata": {},
     "output_type": "execute_result"
    }
   ],
   "source": [
    "CRUSTTOMANTLE, HARZBURGDEPTH, 0. + 7.*MANTLETOCRUST"
   ]
  },
  {
   "cell_type": "code",
   "execution_count": 39,
   "metadata": {
    "collapsed": false
   },
   "outputs": [],
   "source": [
    "#gSwarm.particleCoordinates.data[particleID][1]"
   ]
  },
  {
   "cell_type": "code",
   "execution_count": 40,
   "metadata": {
    "collapsed": false
   },
   "outputs": [],
   "source": [
    "##############\n",
    "#For the slab_IC, we'll also add a crustal weak zone following the dipping perturbation\n",
    "##############\n",
    "\n",
    "if checkpointLoad != True:\n",
    "    if not symmetricIC:\n",
    "        for particleID in range(gSwarm.particleCoordinates.data.shape[0]):\n",
    "            if (\n",
    "                Oc.evaluate(list(gSwarm.particleCoordinates.data[particleID])) and\n",
    "                Tri.evaluate(list(gSwarm.particleCoordinates.data[particleID])) and\n",
    "                gSwarm.particleCoordinates.data[particleID][1] > (1. - maxDepth) and\n",
    "                Cc.evaluate(list(gSwarm.particleCoordinates.data[particleID])) == False\n",
    "                \n",
    "                ):\n",
    "                materialVariable.data[particleID] = crustIndex\n",
    "                \n",
    "            elif (\n",
    "                Oc.evaluate(list(gSwarm.particleCoordinates.data[particleID])) and\n",
    "                Tri.evaluate(list(gSwarm.particleCoordinates.data[particleID])) and\n",
    "                gSwarm.particleCoordinates.data[particleID][1] > (1. - maxDepth) and\n",
    "                Hc.evaluate(list(gSwarm.particleCoordinates.data[particleID])) == False\n",
    "                \n",
    "                ):\n",
    "                materialVariable.data[particleID] = harzIndex"
   ]
  },
  {
   "cell_type": "code",
   "execution_count": 41,
   "metadata": {
    "collapsed": false
   },
   "outputs": [],
   "source": [
    "##############\n",
    "#This is how we use the material graph object to test / apply material transformations\n",
    "##############\n",
    "DG.build_condition_list(materialVariable)\n",
    "\n",
    "for i in range(2): #Need to go through a number of times\n",
    "    materialVariable.data[:] = fn.branching.conditional(DG.condition_list).evaluate(gSwarm)"
   ]
  },
  {
   "cell_type": "code",
   "execution_count": 42,
   "metadata": {
    "collapsed": false
   },
   "outputs": [],
   "source": [
    "#maxDepth"
   ]
  },
  {
   "cell_type": "code",
   "execution_count": 43,
   "metadata": {
    "collapsed": false
   },
   "outputs": [],
   "source": [
    "#fig= glucifer.Figure()\n",
    "#fig.append( glucifer.objects.Points(gSwarm,materialVariable))\n",
    "#fig.append( glucifer.objects.Surface(mesh, corrTempFn))\n",
    "\n",
    "\n",
    "\n",
    "#fig.show()\n",
    "#fig.save_database('test.gldb')"
   ]
  },
  {
   "cell_type": "markdown",
   "metadata": {
    "collapsed": false
   },
   "source": [
    "## phase and compositional buoyancy"
   ]
  },
  {
   "cell_type": "code",
   "execution_count": 44,
   "metadata": {
    "collapsed": false
   },
   "outputs": [],
   "source": [
    "##############\n",
    "#Set up phase buoyancy contributions\n",
    "#the phase function approach of Yuen and Christenson is implemented in the Slippy2 phase_function class \n",
    "##############\n",
    "\n",
    "\n",
    "#olivine\n",
    "olivinePhase = phase_function.component_phases(name = 'ol', \n",
    "                        depths=[410e3,660e3], #depths of phase transitions along adiabat\n",
    "                        temps = [1600., 1900.], #temperatures of phase transitions along adiabat\n",
    "                        widths = [20e3, 20e3], #width if transition\n",
    "                        claps=[2.e6, -2.5e6],  #Clapeyron slope of trnasition\n",
    "                        densities = [180., 400.]) #density change of phase transition\n",
    "\n",
    "olivinePhase.build_nd_dict(dp.LS, dp.rho, dp.g, dp.deltaTa)\n",
    "\n",
    "\n",
    "rp = olivinePhase.nd_reduced_pressure(depthFn, \n",
    "                                   temperatureField,\n",
    "                                   olivinePhase.ndp['depths'][0],\n",
    "                                   olivinePhase.ndp['claps'][0],\n",
    "                                   olivinePhase.ndp['temps'][0])\n",
    "\n",
    "#ph_410 = olivinePhase.nd_phase(rp, test.ndp['widths'][0])\n",
    "#pf_sum = test.phase_function_sum(temperatureField, depthFn)\n",
    "\n",
    "olivine_phase_buoyancy = olivinePhase.buoyancy_sum(temperatureField, depthFn, dp.g, dp.LS, dp.k, dp.eta0)\n",
    "\n",
    "#garnet\n",
    "garnetPhase = phase_function.component_phases(name = 'grt', \n",
    "                        depths=[60e3,400e3, 720e3],\n",
    "                        temps = [1000., 1600., 1900.], \n",
    "                        widths = [20e3, 20e3, 20e3], \n",
    "                        claps=[0.e6, 1.e6, 1.e6], \n",
    "                        densities = [350., 150., 400.])\n",
    "\n",
    "garnetPhase.build_nd_dict(dp.LS, dp.rho, dp.g, dp.deltaTa)\n",
    "\n",
    "\n",
    "rp = garnetPhase.nd_reduced_pressure(depthFn, \n",
    "                                   temperatureField,\n",
    "                                   garnetPhase.ndp['depths'][0],\n",
    "                                   garnetPhase.ndp['claps'][0],\n",
    "                                   garnetPhase.ndp['temps'][0])\n",
    "\n",
    "#ph_410 = olivinePhase.nd_phase(rp, test.ndp['widths'][0])\n",
    "#pf_sum = test.phase_function_sum(temperatureField, depthFn)\n",
    "\n",
    "garnet_phase_buoyancy = garnetPhase.buoyancy_sum(temperatureField, depthFn, dp.g, dp.LS, dp.k, dp.eta0)"
   ]
  },
  {
   "cell_type": "code",
   "execution_count": 45,
   "metadata": {
    "collapsed": false
   },
   "outputs": [],
   "source": [
    "##############\n",
    "#Set up compositional buoyancy contributions\n",
    "##############\n",
    "\n",
    "bouyancy_factor = (dp.g*dp.LS**3)/(dp.eta0*dp.k)\n",
    "\n",
    "basalt_comp_buoyancy  = (dp.rho - 2940.)*bouyancy_factor\n",
    "harz_comp_buoyancy = (dp.rho - 3235.)*bouyancy_factor\n",
    "pyrolite_comp_buoyancy = (dp.rho - 3300.)*bouyancy_factor\n",
    "\n",
    "#print(basalt_comp_buoyancy, harz_comp_buoyancy, pyrolite_comp_buoyancy)\n",
    "\n",
    "\n",
    "#this function accounts for the decrease in expansivity, and acts to reduce the rayleigh number with depth\n",
    "alphaRatio = 1.2/3\n",
    "taFn = 1. - (depthFn)*(1. - alphaRatio) \n",
    "\n",
    "\n",
    "if not compBuoyancy:\n",
    "    pyrolitebuoyancyFn =  (ndp.RA*temperatureField*taFn)\n",
    "    harzbuoyancyFn =      (ndp.RA*temperatureField*taFn) \n",
    "    basaltbuoyancyFn =    (ndp.RA*temperatureField*taFn)\n",
    "\n",
    "else : \n",
    "    pyrolitebuoyancyFn =  (ndp.RA*temperatureField*taFn) -\\\n",
    "                          (0.6*olivine_phase_buoyancy + 0.4*garnet_phase_buoyancy) +\\\n",
    "                           pyrolite_comp_buoyancy\n",
    "    harzbuoyancyFn =      (ndp.RA*temperatureField*taFn) -\\\n",
    "                          (0.8*olivine_phase_buoyancy + 0.2*garnet_phase_buoyancy) +\\\n",
    "                           harz_comp_buoyancy\n",
    "    basaltbuoyancyFn =    (ndp.RA*temperatureField*taFn) -\\\n",
    "                          (1.*garnet_phase_buoyancy) +\\\n",
    "                           basalt_comp_buoyancy"
   ]
  },
  {
   "cell_type": "markdown",
   "metadata": {},
   "source": [
    "Rheology\n",
    "-----\n",
    "\n"
   ]
  },
  {
   "cell_type": "code",
   "execution_count": 46,
   "metadata": {
    "collapsed": false
   },
   "outputs": [],
   "source": [
    "##############\n",
    "#Set up any functions required by the rheology\n",
    "##############\n",
    "strainRate_2ndInvariant = fn.tensor.second_invariant( \n",
    "                            fn.tensor.symmetric( \n",
    "                            velocityField.fn_gradient ))\n",
    "\n",
    "def safe_visc(func, viscmin=ndp.eta_min, viscmax=ndp.eta_max):\n",
    "    return fn.misc.max(viscmin, fn.misc.min(viscmax, func))"
   ]
  },
  {
   "cell_type": "code",
   "execution_count": 47,
   "metadata": {
    "collapsed": true
   },
   "outputs": [],
   "source": [
    "#strainRate_2ndInvariant = fn.misc.constant(ndp.SR) #dummy fucntion to check which mechanisms are at active are reference strain rate"
   ]
  },
  {
   "cell_type": "code",
   "execution_count": 76,
   "metadata": {
    "collapsed": false
   },
   "outputs": [],
   "source": [
    "##############\n",
    "#Get dimensional viscosity values at reference values of temp, pressure, and strain rate\n",
    "##############\n",
    "dp.rPressure  = (-1./dp.Ba)*(np.log(1.-dp.rho*dp.g*dp.Ba*dp.rDepth))\n",
    "rDf = (1./dp.Adf)*np.exp( ((dp.Edf + dp.Vdf*dp.rPressure))/((dp.R*dp.rTemp)))\n",
    "rLm = (1./dp.Alm)*np.exp( ((dp.Elm + dp.Vlm*dp.rPressure))/((dp.R*dp.rTemp)))\n",
    "\n",
    "rDs = (1./dp.Ads**(1./ndp.n))*(dp.SR**((1.-ndp.n)/ndp.n))*np.exp( ((dp.Eds + dp.Vds*dp.rPressure))/((ndp.n*dp.R*dp.rTemp)))\n",
    "rPr = (1./dp.Apr**(1./ndp.np))*(dp.SR**((1.-ndp.np)/ndp.np))*np.exp( ((dp.Epr + dp.Vpr*dp.rPressure))/((ndp.np*dp.R*dp.rTemp)))\n",
    "\n",
    "dsfac = rDs/dp.eta0\n",
    "dffac = rDf/dp.eta0\n",
    "prfac = rPr/dp.eta0\n",
    "lmfac = rLm/dp.eta0"
   ]
  },
  {
   "cell_type": "code",
   "execution_count": 70,
   "metadata": {
    "collapsed": false
   },
   "outputs": [
    {
     "name": "stdout",
     "output_type": "stream",
     "text": [
      "(14.011226459318801, 37.880036755911945, 607.09292140054833, 5630.0652429983284)\n"
     ]
    }
   ],
   "source": [
    "#print(dsfac, dffac, prfac, lmfac)"
   ]
  },
  {
   "cell_type": "code",
   "execution_count": 71,
   "metadata": {
    "collapsed": false
   },
   "outputs": [],
   "source": [
    "#These guys are required because we are approximating compressibility in the pressure term for the flow law,\n",
    "#See 'non_linear_rheology' Notebook for more details\n",
    "\n",
    "if pressure_correct:\n",
    "    sf.W = (-1./dp.Ba)*(np.log(1.-dp.rho*dp.g*dp.Ba*dp.LS))/(dp.R*dp.deltaTa), #Including adiabatic compression, and deltaTa\n",
    "    corrDepthFn = fn.math.log(1. - dp.rho*dp.g*dp.Ba*dp.LS*depthFn)/np.log(1. - dp.rho*dp.g*dp.Ba*dp.LS)\n",
    "    correctrDepth = np.log(1. - dp.rho*dp.g*dp.Ba*dp.LS*ndp.rDepth)/np.log(1. - dp.rho*dp.g*dp.Ba*dp.LS)\n",
    "else:\n",
    "    corrDepthFn = depthFn\n",
    "    correctrDepth = ndp.rDepth\n",
    "    \n",
    "    \n",
    "if eba:\n",
    "    corrTempFn = temperatureField\n",
    "else:\n",
    "    corrTempFn = temperatureField + (dp.BAdT*dp.depth/dp.deltaTa)*depthFn  #if not extended Boussinesq, add approx. adiabatic component\n",
    "    \n",
    "    \n",
    "#ndp.rDepth*dp.LS, correctrDepth*dp.LS"
   ]
  },
  {
   "cell_type": "code",
   "execution_count": 72,
   "metadata": {
    "collapsed": false
   },
   "outputs": [
    {
     "data": {
      "text/plain": [
       "0.068533266565718509"
      ]
     },
     "execution_count": 72,
     "metadata": {},
     "output_type": "execute_result"
    }
   ],
   "source": [
    "np.log(1. - dp.rho*dp.g*dp.Ba*dp.LS*ndp.rDepth)/np.log(1. - dp.rho*dp.g*dp.Ba*dp.LS)"
   ]
  },
  {
   "cell_type": "code",
   "execution_count": 73,
   "metadata": {
    "collapsed": false
   },
   "outputs": [
    {
     "data": {
      "text/plain": [
       "0.08620689655172414"
      ]
     },
     "execution_count": 73,
     "metadata": {},
     "output_type": "execute_result"
    }
   ],
   "source": [
    "ndp.rDepth"
   ]
  },
  {
   "cell_type": "code",
   "execution_count": 77,
   "metadata": {
    "collapsed": false
   },
   "outputs": [],
   "source": [
    "############\n",
    "#Rheology: create UW2 functions for all viscous mechanisms\n",
    "#############\n",
    "\n",
    "omega = fn.misc.constant(1.) #this function can hold any arbitary viscosity modifications \n",
    "\n",
    "\n",
    "##Diffusion Creep\n",
    "diffusion = dffac*fn.math.exp( ((ndp.Edf + (corrDepthFn*ndp.Wdf))/((corrTempFn+ ndp.TS))) - \n",
    "              ((ndp.Edf + (correctrDepth*ndp.Wdf))/((ndp.rTemp + ndp.TS)))  ) \n",
    "\n",
    "\n",
    "##Diffusion Creep\n",
    "lmdiffusion = lmfac*fn.math.exp( ((ndp.Elm + (corrDepthFn*ndp.Wlm))/((corrTempFn+ ndp.TS))) - \n",
    "              ((ndp.Elm + (correctrDepth*ndp.Wlm))/((ndp.rTemp + ndp.TS)))  ) \n",
    "\n",
    "\n",
    "linearVisc = safe_visc(diffusion)\n",
    "\n",
    "##Dislocation Creep\n",
    "nl_correction = (strainRate_2ndInvariant/ndp.SR)**((1.-ndp.n)/(ndp.n))\n",
    "dislocation = dsfac*(nl_correction)*fn.math.exp( ((ndp.Eds + (corrDepthFn*ndp.Wds))/(ndp.n*(corrTempFn + ndp.TS))) -\n",
    "                                     ((ndp.Eds + (correctrDepth*ndp.Wds))/(ndp.n*(ndp.rTemp + ndp.TS))))\n",
    "\n",
    "\n",
    "\n",
    "##Peirls Creep\n",
    "nl_correction = (strainRate_2ndInvariant/ndp.SR)**((1.-ndp.np)/(ndp.np))\n",
    "\n",
    "peierls = prfac*(nl_correction)*fn.math.exp( ((ndp.Eps + (corrDepthFn*ndp.Wps))/(ndp.np*(corrTempFn+ ndp.TS))) -\n",
    "                                     ((ndp.Eps + (correctrDepth*ndp.Wps))/(ndp.np*(ndp.rTemp + ndp.TS))))\n",
    "\n",
    "\n",
    "##Define the Plasticity\n",
    "ys =  ndp.cohesion + (depthFn*ndp.fcd)\n",
    "ysMax = 10e4*1e6*sf.stress\n",
    "ysf = fn.misc.min(ys, ysMax)\n",
    "yielding = (math.sqrt(1.0)*ysf)/(2.*(strainRate_2ndInvariant)) #sqrt(0.5) converts for second invariant form in uw2\n",
    "\n",
    "##Crust rheology\n",
    "crustys =  ndp.cohesion*ndp.crust_cohesion_fac + (depthFn*ndp.fcd*ndp.crust_fc_fac)\n",
    "crustysf = fn.misc.min(crustys, ysMax)\n",
    "crustyielding = (math.sqrt(1.0)*crustysf)/(2.*(strainRate_2ndInvariant)) \n",
    "\n",
    "\n"
   ]
  },
  {
   "cell_type": "code",
   "execution_count": 64,
   "metadata": {
    "collapsed": false
   },
   "outputs": [],
   "source": [
    "#ndp.cohesion"
   ]
  },
  {
   "cell_type": "code",
   "execution_count": 55,
   "metadata": {
    "collapsed": false
   },
   "outputs": [],
   "source": [
    "#(dp.cohesion+ dp.fc*(3300.*9.8*dp.LS))/1e10, (ndp.cohesion + (1.*ndp.fcd))/(1e10*sf.stress)"
   ]
  },
  {
   "cell_type": "code",
   "execution_count": 79,
   "metadata": {
    "collapsed": false
   },
   "outputs": [],
   "source": [
    "############\n",
    "#Rheology: combine viscous mechanisms in various ways \n",
    "#harmonic: harmonic average of all mechanims\n",
    "#min: minimum effective viscosity of the mechanims\n",
    "#mixed: takes the minimum of the harmonic and the plastic effective viscosity\n",
    "#############\n",
    "\n",
    "#Map viscMechs list (defined in setup), to the actual functions, requires that same names are used.\n",
    "viscdict = {}\n",
    "for i in viscMechs:\n",
    "    viscdict[i] = locals()[i]\n",
    "\n",
    "#Condition for weak crust rheology to be active\n",
    "interfaceCond = operator.and_((depthFn < CRUSTVISCUTOFF), (depthFn > MANTLETOCRUST))    \n",
    "    \n",
    "#Harmonic average of all mechanisms    \n",
    "if viscCombine == 'harmonic':\n",
    "    denom = fn.misc.constant(0.)\n",
    "    for mech in viscdict.values():\n",
    "        denom += 1./mech\n",
    "    mantleviscosityFn = safe_visc(1./denom)\n",
    "    harmonic_test = mantleviscosityFn\n",
    "    #Only diffusuion creep for lower mantle\n",
    "    finalviscosityFn  = fn.branching.conditional([(depthFn < LOWMANTLEDEPTH, mantleviscosityFn),\n",
    "                                  (True, safe_visc(lmdiffusion*ndp.low_mantle_visc_fac))])\n",
    "                                        \n",
    "    \n",
    "    #Add the weaker crust mechanism, plus any cutoffs\n",
    "    crust_denom = denom + (1./crustyielding)\n",
    "    crustviscosityFn = safe_visc(1./crust_denom, viscmin=ndp.eta_min, viscmax=ndp.eta_max_crust)\n",
    "    interfaceviscosityFn = safe_visc(1./crust_denom, viscmin=ndp.eta_min, viscmax=ndp.eta_max_crust)\n",
    "    #Crust viscosity only active above between CRUSTVISCUTOFF and MANTLETOCRUST\n",
    "    finalcrustviscosityFn  = fn.branching.conditional([(depthFn < MANTLETOCRUST, crustviscosityFn),\n",
    "                                                     (interfaceCond, interfaceviscosityFn), #\n",
    "                                                     (True, finalviscosityFn)])\n",
    "\n",
    "    \n",
    "    \n",
    "if viscCombine == 'min':\n",
    "    mantleviscosityFn = fn.misc.constant(ndp.eta_max)\n",
    "    for mech in viscdict.values():\n",
    "        mantleviscosityFn = fn.misc.min(mech, mantleviscosityFn )\n",
    "    mantleviscosityFn = safe_visc(mantleviscosityFn)\n",
    "    min_test = mantleviscosityFn\n",
    "    #Only diffusion creep for lower mantle\n",
    "    finalviscosityFn  = fn.branching.conditional([(depthFn < LOWMANTLEDEPTH, mantleviscosityFn),\n",
    "                                  (True, safe_visc(lmdiffusion*ndp.low_mantle_visc_fac))])\n",
    "    #Add the weaker crust mechanism, plus any cutoffs\n",
    "    crustviscosityFn = safe_visc(fn.misc.min(finalviscosityFn, crustyielding), viscmin=ndp.eta_min, viscmax=ndp.eta_max_crust)\n",
    "    interfaceviscosityFn = safe_visc(fn.misc.min(finalviscosityFn, crustyielding), viscmin=ndp.eta_min, viscmax=ndp.eta_max_crust)\n",
    "    #Crust viscosity only active above CRUSTVISCUTOFF\n",
    "    #Crust viscosity only active above between CRUSTVISCUTOFF and MANTLETOCRUST\n",
    "    finalcrustviscosityFn  = fn.branching.conditional([(depthFn < MANTLETOCRUST, crustviscosityFn),\n",
    "                                                     (interfaceCond, interface), #\n",
    "                                                     (True, finalviscosityFn)])\n",
    "\n",
    "if viscCombine == 'mixed':\n",
    "    denom = fn.misc.constant(0.)\n",
    "    for mech in viscdict.values():\n",
    "        denom += 1./mech\n",
    "    mantleviscosityFn = safe_visc(fn.misc.min(yielding, (1./denom))) #min of harmonic average and yielding\n",
    "    mixed_test = mantleviscosityFn\n",
    "    #Only diffusuion creep for lower mantle\n",
    "    finalviscosityFn  = fn.branching.conditional([(depthFn < LOWMANTLEDEPTH, mantleviscosityFn),\n",
    "                                  (True, safe_visc(lmdiffusion*ndp.low_mantle_visc_fac))])\n",
    "    \n",
    "    #Add the weaker crust mechanism, plus any cutoffs\n",
    "    crust_denom = denom + (1./crustyielding)\n",
    "    crustviscosityFn = safe_visc(fn.misc.min(crustyielding,1./crust_denom), viscmin=ndp.eta_min, viscmax=ndp.eta_max_crust)\n",
    "    interfaceviscosityFn = safe_visc(fn.misc.min(crustyielding,1./crust_denom), viscmin=ndp.eta_min, viscmax=ndp.eta_max_crust)\n",
    "    #Crust viscosity only active above between CRUSTVISCUTOFF and MANTLETOCRUST\n",
    "    finalcrustviscosityFn  = fn.branching.conditional([(depthFn < MANTLETOCRUST, crustviscosityFn),\n",
    "                                                     (interfaceCond, interfaceviscosityFn), #\n",
    "                                                     (True, finalviscosityFn)])\n",
    "    \n",
    "\n"
   ]
  },
  {
   "cell_type": "code",
   "execution_count": 84,
   "metadata": {
    "collapsed": false
   },
   "outputs": [],
   "source": [
    "#ndp.low_mantle_visc_fac = 1.\n"
   ]
  },
  {
   "cell_type": "code",
   "execution_count": 80,
   "metadata": {
    "collapsed": false
   },
   "outputs": [],
   "source": [
    "#viscMinConditions = fn.misc.min(diffusion, dislocation, peierls, yielding)\n",
    "\n",
    "viscMin = fn.misc.constant(ndp.eta_max)\n",
    "#Generate the minimum viscosity function \n",
    "for mech in [safe_visc(diffusion), safe_visc(dislocation), safe_visc(peierls), safe_visc(yielding)]:\n",
    "    viscMin = fn.misc.min(mech, viscMin) \n",
    "    \n",
    "dm = 1e-5\n",
    "   \n",
    "    \n",
    "viscMinConditions = [ ( operator.and_((viscMin > (ndp.eta_max - dm) ),\n",
    "                           (viscMin < (ndp.eta_max + dm) ))  , 0),  #visc = ndp.eta_max\n",
    "                      ( operator.and_((viscMin > (diffusion - dm) ),\n",
    "                           (viscMin < (diffusion + dm) ))  , 1),  #visc = diffusion\n",
    "                      ( operator.and_((viscMin > (dislocation - dm) ),\n",
    "                           (viscMin < (dislocation + dm) ))  , 2),#visc = dislocation\n",
    "                      ( operator.and_((viscMin > (peierls - dm) ),\n",
    "                           (viscMin < (peierls + dm) ))  , 3),    #visc = peierls\n",
    "                      ( operator.and_((viscMin > (yielding - dm) ),\n",
    "                           (viscMin < (yielding + dm) ))  , 4),   #visc = yielding\n",
    "                      ( True                                           , 5) ] #visc = eta_min (should be)\n",
    "\n",
    "\n",
    "\n",
    "\n",
    "# use the branching conditional function to set each particle's index\n",
    "fnViscMin = fn.branching.conditional( viscMinConditions )\n",
    "\n"
   ]
  },
  {
   "cell_type": "code",
   "execution_count": 85,
   "metadata": {
    "collapsed": false,
    "scrolled": true
   },
   "outputs": [
    {
     "data": {
      "text/html": [
       "<img src='data:image/png;base64,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'>"
      ],
      "text/plain": [
       "<IPython.core.display.HTML object>"
      ]
     },
     "metadata": {},
     "output_type": "display_data"
    },
    {
     "ename": "KeyboardInterrupt",
     "evalue": "",
     "output_type": "error",
     "traceback": [
      "\u001b[1;31m\u001b[0m",
      "\u001b[1;31mKeyboardInterrupt\u001b[0mTraceback (most recent call last)",
      "\u001b[1;32m<ipython-input-85-db0e077a7f47>\u001b[0m in \u001b[0;36m<module>\u001b[1;34m()\u001b[0m\n\u001b[0;32m      2\u001b[0m \u001b[0mfig\u001b[0m\u001b[1;33m.\u001b[0m\u001b[0mappend\u001b[0m\u001b[1;33m(\u001b[0m \u001b[0mglucifer\u001b[0m\u001b[1;33m.\u001b[0m\u001b[0mobjects\u001b[0m\u001b[1;33m.\u001b[0m\u001b[0mPoints\u001b[0m\u001b[1;33m(\u001b[0m\u001b[0mgSwarm\u001b[0m\u001b[1;33m,\u001b[0m\u001b[0mfinalviscosityFn\u001b[0m\u001b[1;33m,\u001b[0m \u001b[0mlogScale\u001b[0m\u001b[1;33m=\u001b[0m\u001b[0mTrue\u001b[0m\u001b[1;33m)\u001b[0m\u001b[1;33m)\u001b[0m\u001b[1;33m\u001b[0m\u001b[0m\n\u001b[0;32m      3\u001b[0m \u001b[0mfig\u001b[0m\u001b[1;33m.\u001b[0m\u001b[0mshow\u001b[0m\u001b[1;33m(\u001b[0m\u001b[1;33m)\u001b[0m\u001b[1;33m\u001b[0m\u001b[0m\n\u001b[1;32m----> 4\u001b[1;33m \u001b[0mfig\u001b[0m\u001b[1;33m.\u001b[0m\u001b[0msave_database\u001b[0m\u001b[1;33m(\u001b[0m\u001b[1;34m'test.gldb'\u001b[0m\u001b[1;33m)\u001b[0m\u001b[1;33m\u001b[0m\u001b[0m\n\u001b[0m",
      "\u001b[1;32m/root/underworld2/glucifer/_glucifer.pyc\u001b[0m in \u001b[0;36msave_database\u001b[1;34m(self, filename, regen)\u001b[0m\n\u001b[0;32m    571\u001b[0m     \u001b[1;32mdef\u001b[0m \u001b[0msave_database\u001b[0m\u001b[1;33m(\u001b[0m\u001b[0mself\u001b[0m\u001b[1;33m,\u001b[0m \u001b[0mfilename\u001b[0m\u001b[1;33m,\u001b[0m \u001b[0mregen\u001b[0m\u001b[1;33m=\u001b[0m\u001b[0mTrue\u001b[0m\u001b[1;33m)\u001b[0m\u001b[1;33m:\u001b[0m\u001b[1;33m\u001b[0m\u001b[0m\n\u001b[0;32m    572\u001b[0m         \u001b[1;32mif\u001b[0m \u001b[0mregen\u001b[0m\u001b[1;33m:\u001b[0m\u001b[1;33m\u001b[0m\u001b[0m\n\u001b[1;32m--> 573\u001b[1;33m             \u001b[0mself\u001b[0m\u001b[1;33m.\u001b[0m\u001b[0m_generate_DB\u001b[0m\u001b[1;33m(\u001b[0m\u001b[1;33m)\u001b[0m\u001b[1;33m\u001b[0m\u001b[0m\n\u001b[0m\u001b[0;32m    574\u001b[0m         \u001b[1;32mreturn\u001b[0m \u001b[0mself\u001b[0m\u001b[1;33m.\u001b[0m\u001b[0mdb\u001b[0m\u001b[1;33m.\u001b[0m\u001b[0msave\u001b[0m\u001b[1;33m(\u001b[0m\u001b[0mfilename\u001b[0m\u001b[1;33m)\u001b[0m\u001b[1;33m\u001b[0m\u001b[0m\n\u001b[0;32m    575\u001b[0m \u001b[1;33m\u001b[0m\u001b[0m\n",
      "\u001b[1;32m/root/underworld2/glucifer/_glucifer.pyc\u001b[0m in \u001b[0;36m_generate_DB\u001b[1;34m(self)\u001b[0m\n\u001b[0;32m    606\u001b[0m         \u001b[1;32mif\u001b[0m \u001b[0mlen\u001b[0m\u001b[1;33m(\u001b[0m\u001b[0mself\u001b[0m\u001b[1;33m.\u001b[0m\u001b[0mdraw\u001b[0m\u001b[1;33m.\u001b[0m\u001b[0mvertices\u001b[0m\u001b[1;33m)\u001b[0m \u001b[1;33m>\u001b[0m \u001b[1;36m0\u001b[0m\u001b[1;33m:\u001b[0m\u001b[1;33m\u001b[0m\u001b[0m\n\u001b[0;32m    607\u001b[0m             \u001b[0mobjects\u001b[0m\u001b[1;33m.\u001b[0m\u001b[0mappend\u001b[0m\u001b[1;33m(\u001b[0m\u001b[0mself\u001b[0m\u001b[1;33m.\u001b[0m\u001b[0mdraw\u001b[0m\u001b[1;33m)\u001b[0m\u001b[1;33m\u001b[0m\u001b[0m\n\u001b[1;32m--> 608\u001b[1;33m         \u001b[0mself\u001b[0m\u001b[1;33m.\u001b[0m\u001b[0mdb\u001b[0m\u001b[1;33m.\u001b[0m\u001b[0m_generate\u001b[0m\u001b[1;33m(\u001b[0m\u001b[0mself\u001b[0m\u001b[1;33m.\u001b[0m\u001b[0mname\u001b[0m\u001b[1;33m,\u001b[0m \u001b[0mobjects\u001b[0m\u001b[1;33m,\u001b[0m \u001b[0mself\u001b[0m\u001b[1;33m)\u001b[0m\u001b[1;33m\u001b[0m\u001b[0m\n\u001b[0m\u001b[0;32m    609\u001b[0m \u001b[1;33m\u001b[0m\u001b[0m\n\u001b[0;32m    610\u001b[0m     \u001b[1;32mdef\u001b[0m \u001b[0m_generate_image\u001b[0m\u001b[1;33m(\u001b[0m\u001b[0mself\u001b[0m\u001b[1;33m,\u001b[0m \u001b[0mfilename\u001b[0m\u001b[1;33m=\u001b[0m\u001b[1;34m\"\"\u001b[0m\u001b[1;33m,\u001b[0m \u001b[0msize\u001b[0m\u001b[1;33m=\u001b[0m\u001b[1;33m(\u001b[0m\u001b[1;36m0\u001b[0m\u001b[1;33m,\u001b[0m\u001b[1;36m0\u001b[0m\u001b[1;33m)\u001b[0m\u001b[1;33m)\u001b[0m\u001b[1;33m:\u001b[0m\u001b[1;33m\u001b[0m\u001b[0m\n",
      "\u001b[1;32m/root/underworld2/glucifer/_glucifer.pyc\u001b[0m in \u001b[0;36m_generate\u001b[1;34m(self, figname, objects, props)\u001b[0m\n\u001b[0;32m    213\u001b[0m \u001b[1;33m\u001b[0m\u001b[0m\n\u001b[0;32m    214\u001b[0m             \u001b[1;31m# go ahead and fill db\u001b[0m\u001b[1;33m\u001b[0m\u001b[1;33m\u001b[0m\u001b[0m\n\u001b[1;32m--> 215\u001b[1;33m             \u001b[0mlibUnderworld\u001b[0m\u001b[1;33m.\u001b[0m\u001b[0mgLucifer\u001b[0m\u001b[1;33m.\u001b[0m\u001b[0m_lucDatabase_Execute\u001b[0m\u001b[1;33m(\u001b[0m\u001b[0mself\u001b[0m\u001b[1;33m.\u001b[0m\u001b[0m_db\u001b[0m\u001b[1;33m,\u001b[0m\u001b[0mNone\u001b[0m\u001b[1;33m)\u001b[0m\u001b[1;33m\u001b[0m\u001b[0m\n\u001b[0m\u001b[0;32m    216\u001b[0m \u001b[1;33m\u001b[0m\u001b[0m\n\u001b[0;32m    217\u001b[0m             \u001b[1;31m#Output any custom geometry on objects\u001b[0m\u001b[1;33m\u001b[0m\u001b[1;33m\u001b[0m\u001b[0m\n",
      "\u001b[1;31mKeyboardInterrupt\u001b[0m: "
     ]
    }
   ],
   "source": [
    "#fig= glucifer.Figure()\n",
    "#fig.append( glucifer.objects.Points(gSwarm,finalviscosityFn, logScale=True))\n",
    "#fig.show()\n",
    "#fig.save_database('test.gldb')"
   ]
  },
  {
   "cell_type": "code",
   "execution_count": null,
   "metadata": {
    "collapsed": true
   },
   "outputs": [],
   "source": [
    "#fig.save_database('test.gldb')"
   ]
  },
  {
   "cell_type": "markdown",
   "metadata": {},
   "source": [
    "Stokes system setup\n",
    "-----\n"
   ]
  },
  {
   "cell_type": "code",
   "execution_count": 59,
   "metadata": {
    "collapsed": false
   },
   "outputs": [],
   "source": [
    "densityMapFn = fn.branching.map( fn_key = materialVariable,\n",
    "                         mapping = {airIndex:ndp.StRA,\n",
    "                                    crustIndex:basaltbuoyancyFn, \n",
    "                                    mantleIndex:pyrolitebuoyancyFn,\n",
    "                                    harzIndex:harzbuoyancyFn} )"
   ]
  },
  {
   "cell_type": "code",
   "execution_count": 60,
   "metadata": {
    "collapsed": true
   },
   "outputs": [],
   "source": [
    "\n",
    "# Define our vertical unit vector using a python tuple (this will be automatically converted to a function).\n",
    "gravity = ( 0.0, 1.0 )\n",
    "\n",
    "# Now create a buoyancy force vector using the density and the vertical unit vector. \n",
    "buoyancyFn = densityMapFn * gravity"
   ]
  },
  {
   "cell_type": "code",
   "execution_count": 61,
   "metadata": {
    "collapsed": true
   },
   "outputs": [],
   "source": [
    "stokesPIC = uw.systems.Stokes(velocityField=velocityField, \n",
    "                              pressureField=pressureField,\n",
    "                              conditions=[freeslipBC,],\n",
    "                              fn_viscosity=linearVisc, \n",
    "                              fn_bodyforce=buoyancyFn )"
   ]
  },
  {
   "cell_type": "code",
   "execution_count": 90,
   "metadata": {
    "collapsed": true
   },
   "outputs": [],
   "source": [
    "solver = uw.systems.Solver(stokesPIC)\n",
    "if not checkpointLoad:\n",
    "    solver.solve() #A solve on the linear visocisty is unhelpful unless we're starting from scratch"
   ]
  },
  {
   "cell_type": "code",
   "execution_count": 91,
   "metadata": {
    "collapsed": false
   },
   "outputs": [],
   "source": [
    "#fig= glucifer.Figure()\n",
    "#fig.append( glucifer.objects.Points(gSwarm,materialVariable))\n",
    "#fig.append( glucifer.objects.Surface(mesh, finalviscosityFn, logScale=True))\n",
    "\n",
    "#fig.append( glucifer.objects.Surface(mesh, strainRate_2ndInvariant/ndp.SR, logScale=True))\n",
    "#fig.show()\n",
    "#fig.save_database('test.gldb')"
   ]
  },
  {
   "cell_type": "code",
   "execution_count": 92,
   "metadata": {
    "collapsed": false
   },
   "outputs": [],
   "source": [
    "viscosityMapFn = fn.branching.map( fn_key = materialVariable,\n",
    "                         mapping = {crustIndex:finalcrustviscosityFn,\n",
    "                                    mantleIndex:finalviscosityFn,\n",
    "                                    harzIndex:finalviscosityFn} )\n",
    "\n"
   ]
  },
  {
   "cell_type": "markdown",
   "metadata": {},
   "source": [
    "import matplotlib.pylab as pyplt\n",
    "%matplotlib inline\n",
    "\n",
    "\n",
    "\n",
    "##################\n",
    "#Output functions to numpy vertical averages, maxes, mins\n",
    "##################\n",
    "\n",
    "viscmapFnmesh = uw.mesh.MeshVariable(mesh,nodeDofCount=1)\n",
    "out = uw.utils.MeshVariable_Projection( viscmapFnmesh, viscosityMapFn)\n",
    "out.solve()\n",
    "\n",
    "\n",
    "#avDf = ndfp.evaluate(mesh).reshape(mesh.elementRes[1] + 1, mesh.elementRes[0] + 1).mean(axis=1)\n",
    "avDs = ndsp.evaluate(mesh).reshape(mesh.elementRes[1] + 1, mesh.elementRes[0] + 1).mean(axis=1)\n",
    "umantle = mantleviscosityFn.evaluate(mesh).reshape(mesh.elementRes[1] + 1, mesh.elementRes[0] + 1).mean(axis=1)\n",
    "lmantle = lowermantleviscosityFn.evaluate(mesh).reshape(mesh.elementRes[1] + 1, mesh.elementRes[0] + 1).mean(axis=1)\n",
    "eff = viscmapFnmesh.evaluate(mesh).reshape(mesh.elementRes[1] + 1, mesh.elementRes[0] + 1).mean(axis=1)\n",
    "\n",
    "effMin = viscmapFnmesh.evaluate(mesh).reshape(mesh.elementRes[1] + 1, mesh.elementRes[0] + 1).min(axis=1)\n",
    "effMax = viscmapFnmesh.evaluate(mesh).reshape(mesh.elementRes[1] + 1, mesh.elementRes[0] + 1).max(axis=1)\n",
    "\n",
    "###################\n",
    "#Plot\n",
    "###################\n",
    "import matplotlib.pylab as pyplt\n",
    "%matplotlib inline\n",
    "\n",
    "fig, ax = pyplt.subplots()\n",
    "#ax .plot(avDf, label = 'diff')\n",
    "#ax .plot(avDs, label = 'dis')\n",
    "ax .plot(eff, label = 'eff')\n",
    "ax .plot(effMax, label = 'effMax')\n",
    "ax .plot(effMin, label = 'effMin')\n",
    "#ax .plot(umantle, label = 'uman')\n",
    "#ax .plot(lmantle, label = 'lman')\n",
    "ax.set_yscale(\"log\", nonposy='clip')\n",
    "ax.legend(loc = 3)"
   ]
  },
  {
   "cell_type": "code",
   "execution_count": null,
   "metadata": {
    "collapsed": false
   },
   "outputs": [],
   "source": []
  },
  {
   "cell_type": "code",
   "execution_count": null,
   "metadata": {
    "collapsed": false
   },
   "outputs": [],
   "source": []
  },
  {
   "cell_type": "code",
   "execution_count": null,
   "metadata": {
    "collapsed": true
   },
   "outputs": [],
   "source": []
  },
  {
   "cell_type": "code",
   "execution_count": 65,
   "metadata": {
    "collapsed": true
   },
   "outputs": [],
   "source": [
    "#Add the non-linear viscosity to the Stokes system\n",
    "stokesPIC.fn_viscosity = viscosityMapFn"
   ]
  },
  {
   "cell_type": "code",
   "execution_count": 66,
   "metadata": {
    "collapsed": false
   },
   "outputs": [
    {
     "name": "stdout",
     "output_type": "stream",
     "text": [
      "\u001b[1;35m\n",
      " \n",
      "Pressure iterations:   3\n",
      "Velocity iterations:   1 (presolve)      \n",
      "Velocity iterations:  -1 (pressure solve)\n",
      "Velocity iterations:   1 (backsolve)     \n",
      "Velocity iterations:   1 (total solve)   \n",
      " \n",
      "SCR RHS  solve time: 7.6218e-01\n",
      "Pressure solve time: 7.0327e-02\n",
      "Velocity solve time: 7.4009e-01 (backsolve)\n",
      "Total solve time   : 1.6969e+00\n",
      " \n",
      "Velocity solution min/max: 0.0000e+00/0.0000e+00\n",
      "Pressure solution min/max: 0.0000e+00/0.0000e+00\n",
      " \n",
      "\u001b[00m\n"
     ]
    }
   ],
   "source": [
    "solver.set_inner_method(\"mumps\")\n",
    "solver.options.scr.ksp_type=\"cg\"\n",
    "solver.set_penalty(1.0e7)\n",
    "solver.options.scr.ksp_rtol = 1.0e-4\n",
    "solver.solve(nonLinearIterate=True)\n",
    "solver.print_stats()"
   ]
  },
  {
   "cell_type": "code",
   "execution_count": null,
   "metadata": {
    "collapsed": true
   },
   "outputs": [],
   "source": []
  },
  {
   "cell_type": "code",
   "execution_count": 67,
   "metadata": {
    "collapsed": false
   },
   "outputs": [],
   "source": [
    "#Check which particles are yielding\n",
    "#yieldingCheck.data[:] = 0\n",
    "\n",
    "#yieldconditions = [ ( mantleviscosityFn < Visc , 1), \n",
    "#               ( True                                           , 0) ]\n",
    "\n",
    "# use the branching conditional function to set each particle's index\n",
    "#yieldingCheck.data[:] = fn.branching.conditional( yieldconditions ).evaluate(gSwarm)"
   ]
  },
  {
   "cell_type": "code",
   "execution_count": 68,
   "metadata": {
    "collapsed": false,
    "scrolled": true
   },
   "outputs": [],
   "source": [
    "#fig= glucifer.Figure()\n",
    "#fig.append( glucifer.objects.Points(gSwarm,yieldingCheck))\n",
    "\n",
    "#fig.append( glucifer.objects.Surface(mesh,ndflm, logScale=True))\n",
    "#fig.show()"
   ]
  },
  {
   "cell_type": "markdown",
   "metadata": {},
   "source": [
    "Advection-diffusion System setup\n",
    "-----"
   ]
  },
  {
   "cell_type": "code",
   "execution_count": 295,
   "metadata": {
    "collapsed": false
   },
   "outputs": [],
   "source": [
    "advDiff = uw.systems.AdvectionDiffusion( phiField       = temperatureField, \n",
    "                                         phiDotField    = temperatureDotField, \n",
    "                                         velocityField  = velocityField,\n",
    "                                         fn_sourceTerm    = 0.0,\n",
    "                                         fn_diffusivity = 1.0, \n",
    "                                         #conditions     = [neumannTempBC, dirichTempBC] )\n",
    "                                         conditions     = [ dirichTempBC] )\n",
    "\n",
    "materialadvector = uw.systems.SwarmAdvector( swarm         = gSwarm, \n",
    "                                     velocityField = velocityField, \n",
    "                                     order         = 1)"
   ]
  },
  {
   "cell_type": "code",
   "execution_count": 296,
   "metadata": {
    "collapsed": false
   },
   "outputs": [],
   "source": [
    "#I was playing around with a tailored diffusivity to target the slab\n",
    "\n",
    "#inCircleFnGenerator#Now build the perturbation part\n",
    "#def htan(centre, radius, widthPh, farVal = 0.01, fac = 10.):\n",
    "#    coord = fn.input()\n",
    "#    offsetFn = coord - centre\n",
    "#    dist = fn.math.sqrt(fn.math.dot( offsetFn, offsetFn ))\n",
    "    \n",
    "    \n",
    "#    return (((fn.math.tanh(((radius - dist))/widthPh) + 1.) /2.))*fac + farVal\n",
    "\n",
    "#tfun = htan((0.1, 0.9), 0.1, 0.1, 0.1)"
   ]
  },
  {
   "cell_type": "code",
   "execution_count": 207,
   "metadata": {
    "collapsed": true
   },
   "outputs": [],
   "source": [
    "for index in mesh.specialSets[\"MinJ_VertexSet\"]:\n",
    "    temperatureField.data[index] = ndp.TBP\n",
    "for index in mesh.specialSets[\"MaxJ_VertexSet\"]:\n",
    "    temperatureField.data[index] = ndp.TSP"
   ]
  },
  {
   "cell_type": "code",
   "execution_count": 208,
   "metadata": {
    "collapsed": false
   },
   "outputs": [
    {
     "data": {
      "text/plain": [
       "214.26003226435839"
      ]
     },
     "execution_count": 208,
     "metadata": {},
     "output_type": "execute_result"
    }
   ],
   "source": [
    "velocityField.data.max()"
   ]
  },
  {
   "cell_type": "code",
   "execution_count": 209,
   "metadata": {
    "collapsed": false
   },
   "outputs": [],
   "source": [
    "############\n",
    "#Slightly Diffuse the initial perturbation\n",
    "#############\n",
    "\n",
    "timetoDifffuse = 0.#Million years\n",
    "incrementtoDiffuse = 0.2 #Million years\n",
    "\n",
    "timetoDifffuse = (timetoDifffuse*1e6*(spery)/sf.SR).magnitude\n",
    "incrementtoDiffuse = (incrementtoDiffuse*1e6*(spery)/sf.SR).magnitude\n",
    "\n",
    "totAdt = 0.\n",
    "it = 0\n",
    "while totAdt < timetoDifffuse:\n",
    "    dtad = advDiff.get_max_dt()\n",
    "    print(\"step\") + str(it) \n",
    "    advDiff.integrate(incrementtoDiffuse)\n",
    "    totAdt += incrementtoDiffuse\n",
    "    it += 1\n",
    "    \n",
    "#Reset Boundary conds.   \n",
    "for index in mesh.specialSets[\"MinJ_VertexSet\"]:\n",
    "    temperatureField.data[index] = ndp.TBP\n",
    "for index in mesh.specialSets[\"MaxJ_VertexSet\"]:\n",
    "    temperatureField.data[index] = ndp.TSP\n",
    "    \n",
    "comm.Barrier()"
   ]
  },
  {
   "cell_type": "code",
   "execution_count": 210,
   "metadata": {
    "collapsed": true
   },
   "outputs": [],
   "source": [
    "population_control = uw.swarm.PopulationControl(gSwarm,deleteThreshold=0.2,splitThreshold=1.,maxDeletions=3,maxSplits=0, aggressive=True, particlesPerCell=ppc)"
   ]
  },
  {
   "cell_type": "markdown",
   "metadata": {},
   "source": [
    "Analysis functions / routines\n",
    "-----"
   ]
  },
  {
   "cell_type": "code",
   "execution_count": 211,
   "metadata": {
    "collapsed": true
   },
   "outputs": [],
   "source": [
    "#These are functions we can use to evuate integrals over restricted parts of the domain\n",
    "# For instance, we can exclude the thermal lithosphere from integrals\n",
    "\n",
    "def temprestrictionFn(lithval = 0.9):\n",
    "\n",
    "    tempMM = fn.view.min_max(temperatureField)\n",
    "    tempMM.evaluate(mesh)\n",
    "    TMAX = tempMM.max_global()\n",
    "    mantleconditions = [ (                                  temperatureField > lithval*TMAX, 1.),\n",
    "                   (                                                   True , 0.) ]\n",
    "\n",
    "\n",
    "    return fn.branching.conditional(mantleconditions)\n",
    "\n",
    "mantlerestrictFn = temprestrictionFn(lithval = 0.85)\n",
    "\n",
    "\n",
    "\n",
    "def platenessFn(val = 0.1):\n",
    "    normgradV = fn.math.abs(velocityField.fn_gradient[0]/fn.math.sqrt(velocityField[0]*velocityField[0])) #[du*/dx]/sqrt(u*u)\n",
    "\n",
    "\n",
    "\n",
    "    srconditions = [ (                                  normgradV < val, 1.),\n",
    "                   (                                                   True , 0.) ]\n",
    "\n",
    "\n",
    "    return fn.branching.conditional(srconditions)\n",
    "\n",
    "srrestrictFn = platenessFn(val = 0.1)"
   ]
  },
  {
   "cell_type": "code",
   "execution_count": null,
   "metadata": {
    "collapsed": true
   },
   "outputs": [],
   "source": []
  },
  {
   "cell_type": "code",
   "execution_count": 212,
   "metadata": {
    "collapsed": false
   },
   "outputs": [],
   "source": [
    "#Setup volume integrals \n",
    "\n",
    "tempint = uw.utils.Integral( temperatureField, mesh )\n",
    "areaint = uw.utils.Integral( 1.,               mesh )\n",
    "\n",
    "v2int   = uw.utils.Integral( fn.math.dot(velocityField,velocityField), mesh )\n",
    "\n",
    "dwint   = uw.utils.Integral( temperatureField*velocityField[1], mesh )\n",
    "\n",
    "sinner = fn.math.dot( strainRate_2ndInvariant, strainRate_2ndInvariant )\n",
    "vdint = uw.utils.Integral( (2.*viscosityMapFn*sinner), mesh ) #Is it two or four here?\n",
    "\n",
    "mantleArea   = uw.utils.Integral( mantlerestrictFn, mesh )\n",
    "mantleTemp = uw.utils.Integral( temperatureField*mantlerestrictFn, mesh )\n",
    "mantleVisc = uw.utils.Integral( mantleviscosityFn*mantlerestrictFn, mesh )\n",
    "mantleVd = uw.utils.Integral( (2.*viscosityMapFn*sinner*mantlerestrictFn), mesh ) #these now work on MappingFunctions"
   ]
  },
  {
   "cell_type": "code",
   "execution_count": 213,
   "metadata": {
    "collapsed": true
   },
   "outputs": [],
   "source": [
    "#Setup surface integrals\n",
    "\n",
    "rmsSurfInt = uw.utils.Integral( fn=velocityField[0]*velocityField[0], mesh=mesh, integrationType='Surface', \n",
    "                          surfaceIndexSet=mesh.specialSets[\"MaxJ_VertexSet\"])\n",
    "nuTop      = uw.utils.Integral( fn=temperatureField.fn_gradient[1],    mesh=mesh, integrationType='Surface', \n",
    "                          surfaceIndexSet=mesh.specialSets[\"MaxJ_VertexSet\"])\n",
    "nuBottom   = uw.utils.Integral( fn=temperatureField.fn_gradient[1],    mesh=mesh, integrationType='Surface', \n",
    "                          surfaceIndexSet=mesh.specialSets[\"MinJ_VertexSet\"])\n",
    "\n",
    "plateint  = uw.utils.Integral( fn=srrestrictFn, mesh=mesh, integrationType='Surface', #Integrate the plateness function\n",
    "                          surfaceIndexSet=mesh.specialSets[\"MaxJ_VertexSet\"]) \n",
    "\n",
    "surfint  = uw.utils.Integral( fn=1., mesh=mesh, integrationType='Surface',   #Surface length function (i.e. domain width)\n",
    "                          surfaceIndexSet=mesh.specialSets[\"MaxJ_VertexSet\"])"
   ]
  },
  {
   "cell_type": "code",
   "execution_count": 214,
   "metadata": {
    "collapsed": true
   },
   "outputs": [],
   "source": [
    "#Define functions for the evaluation of integrals\n",
    "\n",
    "def basic_int(ourIntegral):           #This one just hands back the evaluated integral\n",
    "    return ourIntegral.evaluate()[0]\n",
    "\n",
    "def avg_temp():\n",
    "    return tempint.evaluate()[0]/areaint.evaluate()[0]\n",
    "\n",
    "def nusseltTB(temp_field, mesh):\n",
    "    return -nuTop.evaluate()[0], -nuBottom.evaluate()[0]\n",
    "\n",
    "def rms():\n",
    "    return math.sqrt(v2int.evaluate()[0]/areaint.evaluate()[0])\n",
    "\n",
    "def rms_surf():\n",
    "    return math.sqrt(rmsSurfInt.evaluate()[0])\n",
    "\n",
    "def max_vx_surf(velfield, mesh):\n",
    "    vuvelxfn = fn.view.min_max(velfield[0])\n",
    "    vuvelxfn.evaluate(mesh.specialSets[\"MaxJ_VertexSet\"])\n",
    "    return vuvelxfn.max_global()\n",
    "\n",
    "\n",
    "def visc_extr(viscfn):\n",
    "    vuviscfn = fn.view.min_max(viscfn)\n",
    "    vuviscfn.evaluate(mesh)\n",
    "    return vuviscfn.max_global(), vuviscfn.min_global()"
   ]
  },
  {
   "cell_type": "code",
   "execution_count": 215,
   "metadata": {
    "collapsed": false
   },
   "outputs": [
    {
     "data": {
      "text/plain": [
       "(32.97548879607268, 192.40476307108926, 161.3107452134814)"
      ]
     },
     "execution_count": 215,
     "metadata": {},
     "output_type": "execute_result"
    }
   ],
   "source": [
    "#v2sum_integral  = uw.utils.Integral( mesh=mesh, fn=fn.math.dot( velocityField, velocityField ) )\n",
    "#volume_integral = uw.utils.Integral( mesh=mesh, fn=1. )\n",
    "#Vrms = math.sqrt( v2sum_integral.evaluate()[0] )/volume_integral.evaluate()[0]\n",
    "\n",
    "\n",
    "\n",
    "#if(uw.rank()==0):\n",
    "#    print('Initial Vrms = {0:.3f}'.format(Vrms))\n",
    "\n",
    "# Check the Metrics\n",
    "\n",
    "#Avg_temp = avg_temp()\n",
    "Rms = rms()\n",
    "Rms_surf = rms_surf()\n",
    "Max_vx_surf = max_vx_surf(velocityField, mesh)\n",
    "Rms, Rms_surf, Max_vx_surf \n",
    "#Gravwork = basic_int(dwint)\n",
    "#Viscdis = basic_int(vdint)\n",
    "#nu1, nu0 = nusseltTB(temperatureField, mesh) # return top then bottom\n",
    "#etamax, etamin = visc_extr(mantleviscosityFn)\n",
    "\n",
    "#Area_mantle = basic_int(mantleArea)\n",
    "#Viscmantle = basic_int(mantleVisc)\n",
    "#Tempmantle = basic_int(mantleTemp)\n",
    "#Viscdismantle = basic_int(mantleVd)"
   ]
  },
  {
   "cell_type": "markdown",
   "metadata": {},
   "source": [
    "Viz.\n",
    "-----"
   ]
  },
  {
   "cell_type": "code",
   "execution_count": 219,
   "metadata": {
    "collapsed": false
   },
   "outputs": [],
   "source": [
    "if figures == 'gldb':\n",
    "    #Pack some stuff into a database as well\n",
    "    figDb = glucifer.Figure()\n",
    "    #figDb.append( glucifer.objects.Mesh(mesh))\n",
    "    figDb.append( glucifer.objects.VectorArrows(mesh,velocityField, scaling=0.00005))\n",
    "    #figDb.append( glucifer.objects.Points(gSwarm,tracerVariable, colours= 'white black'))\n",
    "    #figDb.append( glucifer.objects.Points(gSwarm,materialVariable))\n",
    "    #figDb.append( glucifer.objects.Points(gSwarm,viscMinVariable))\n",
    "    figDb.append( glucifer.objects.Points(gSwarm,fnViscMin))\n",
    "    figDb.append( glucifer.objects.Points(gSwarm,viscosityMapFn, logScale=True, valueRange =[1e-3,1e5]))\n",
    "    #figDb.append( glucifer.objects.Surface(mesh, strainRate_2ndInvariant, logScale=True))\n",
    "    figDb.append( glucifer.objects.Points(gSwarm,temperatureField))\n",
    "\n",
    "elif figures == 'store':\n",
    "    fullpath = os.path.join(outputPath + \"gldbs/\")\n",
    "    if checkpointLoad:\n",
    "        store = glucifer.Store(fullpath + 'subduction.gldb')\n",
    "    else:\n",
    "        store = glucifer.Store(fullpath + 'subduction')\n",
    "    \n",
    "\n",
    "    #figTemp = glucifer.Figure(store,figsize=(300*np.round(aspectRatio,2),300))\n",
    "    #figTemp.append( glucifer.objects.Points(gSwarm,temperatureField))\n",
    "\n",
    "    figVisc= glucifer.Figure(store, figsize=(300*np.round(aspectRatio,2),300))\n",
    "    figVisc.append( glucifer.objects.Points(gSwarm,viscosityMapFn, logScale=True, valueRange =[1e-3,1e5]))\n",
    "\n",
    "    figMech= glucifer.Figure(store, figsize=(300*np.round(aspectRatio,2),300))\n",
    "    figMech.append( glucifer.objects.Points(gSwarm,fnViscMin))"
   ]
  },
  {
   "cell_type": "markdown",
   "metadata": {},
   "source": [
    "**Miscellania**"
   ]
  },
  {
   "cell_type": "code",
   "execution_count": null,
   "metadata": {
    "collapsed": false
   },
   "outputs": [],
   "source": [
    "##############\n",
    "#Create a numpy array at the surface to get surface information on (using parallel-friendly evaluate_global)\n",
    "##############\n",
    "\n",
    "surface_xs = np.linspace(mesh.minCoord[0], mesh.maxCoord[0], mesh.elementRes[0] + 1)\n",
    "surface_nodes = np.array(zip(surface_xs, np.ones(len(surface_xs)*mesh.maxCoord[1]))) #For evaluation surface velocity\n",
    "normgradV = velocityField.fn_gradient[0]/fn.math.sqrt(velocityField[0]*velocityField[0])\n",
    "\n",
    "tempMM = fn.view.min_max(temperatureField)\n",
    "dummy = tempMM.evaluate(mesh)\n",
    "\n"
   ]
  },
  {
   "cell_type": "code",
   "execution_count": 89,
   "metadata": {
    "collapsed": false
   },
   "outputs": [],
   "source": [
    "##Coordinates for a swarm in the centre of the slab\n",
    "\n",
    "szLoc = 0.0 #put this up in slab setup section\n",
    "introPoint = MINX + 0.3\n",
    "midSwarmDepth = 30.e3/dp.LS\n",
    "swarmCoords =np.zeros((2000, 2))\n",
    "\n",
    "reducedRocM = RocM  - midSwarmDepth\n",
    "xlimslab = reducedRocM*math.cos(math.pi*(90. - theta)/180)\n",
    "swarmCoords[:, 0] = np.linspace(introPoint, szLoc + xlimslab, 2000) #note SZ location is hardcoded here \n",
    "for index, xval in np.ndenumerate(swarmCoords[:,0]):\n",
    "    #print index, xval\n",
    "    #swarmCoords[index[0], 1] = 1. - isodepthFn.evaluate((xval, 0.)) #This bit for the plate \n",
    "    if  xval < 0.:\n",
    "        swarmCoords[index[0], 1] = 1. - midSwarmDepth #This bit for the plate \n",
    "        \n",
    "    else:\n",
    "        swarmCoords[index[0], 1] = (1. - (midSwarmDepth) - (reducedRocM - ( math.sqrt((reducedRocM**2 - xval**2)))))\n",
    "        \n",
    "    \n",
    "swarmCoords = swarmCoords[swarmCoords[:,1] > (1. - maxDepth)] #kill any deeper than cutoff\n",
    "\n",
    "\n",
    "\n",
    "# initialise a mid-slab swarm to track geometry and a small swarm at the slab tip\n",
    "midSwarm = uw.swarm.Swarm( mesh=mesh )\n",
    "tipSwarm = uw.swarm.Swarm( mesh=mesh )\n",
    "\n",
    "midSwarm.add_particles_with_coordinates(swarmCoords)\n",
    "tipSwarm.add_particles_with_coordinates(swarmCoords[swarmCoords[:,1] < (1. - (maxDepth - 40e3/dp.LS))])\n",
    "\n",
    "passiveadvector2 = uw.systems.SwarmAdvector( swarm         = midSwarm, \n",
    "                                     velocityField = velocityField, \n",
    "                                     order         = 1)\n",
    "\n",
    "passiveadvector3 = uw.systems.SwarmAdvector( swarm         = tipSwarm, \n",
    "                                     velocityField = velocityField, \n",
    "                                     order         = 1)\n",
    "\n",
    "tipVar = uw.swarm.SwarmVariable(tipSwarm, dataType='double', count=4)\n",
    "tipVar.data[:,:2] = velocityField.evaluate(tipSwarm)\n",
    "tipVar.data[:,2:] = xFn.evaluate(tipSwarm)\n",
    "tipVar.data[:,3:] = yFn.evaluate(tipSwarm)"
   ]
  },
  {
   "cell_type": "code",
   "execution_count": 90,
   "metadata": {
    "collapsed": false
   },
   "outputs": [],
   "source": [
    "#Not parallel friendly yet\n",
    "#tipXvels = np.sum(velocityField[0].evaluate(tipSwarm)) /\\\n",
    "#    tipSwarm.particleGlobalCount\n",
    "#tipXvels = np.sum(velocityField[1].evaluate(tipSwarm)) /\\\n",
    "#    tipSwarm.particleGlobalCount\n",
    "    \n",
    "#tipXpos = np.sum(xFn.evaluate(tipSwarm)) /\\\n",
    "#    tipSwarm.particleGlobalCount\n",
    "#tipYpos = np.sum(yFn.evaluate(tipSwarm)) /\\\n",
    "#    tipSwarm.particleGlobalCount"
   ]
  },
  {
   "cell_type": "code",
   "execution_count": 37,
   "metadata": {
    "collapsed": false
   },
   "outputs": [
    {
     "ename": "NameError",
     "evalue": "name 'materialVariable' is not defined",
     "output_type": "error",
     "traceback": [
      "\u001b[1;31m\u001b[0m",
      "\u001b[1;31mNameError\u001b[0mTraceback (most recent call last)",
      "\u001b[1;32m<ipython-input-37-52a875271d8e>\u001b[0m in \u001b[0;36m<module>\u001b[1;34m()\u001b[0m\n\u001b[0;32m     20\u001b[0m \u001b[1;33m\u001b[0m\u001b[0m\n\u001b[0;32m     21\u001b[0m \u001b[1;33m\u001b[0m\u001b[0m\n\u001b[1;32m---> 22\u001b[1;33m \u001b[1;32mdef\u001b[0m \u001b[0mcheckpoint2\u001b[0m\u001b[1;33m(\u001b[0m\u001b[0mstep\u001b[0m\u001b[1;33m,\u001b[0m \u001b[0mcheckpointPath\u001b[0m\u001b[1;33m,\u001b[0m \u001b[0mswarm\u001b[0m\u001b[1;33m,\u001b[0m \u001b[0mfilename\u001b[0m\u001b[1;33m,\u001b[0m \u001b[0mvarlist\u001b[0m \u001b[1;33m=\u001b[0m \u001b[1;33m[\u001b[0m\u001b[0mmaterialVariable\u001b[0m\u001b[1;33m]\u001b[0m\u001b[1;33m,\u001b[0m \u001b[0mvarnames\u001b[0m \u001b[1;33m=\u001b[0m \u001b[1;33m[\u001b[0m\u001b[1;34m'materialVariable'\u001b[0m\u001b[1;33m]\u001b[0m\u001b[1;33m)\u001b[0m\u001b[1;33m:\u001b[0m\u001b[1;33m\u001b[0m\u001b[0m\n\u001b[0m\u001b[0;32m     23\u001b[0m     \u001b[0mpath\u001b[0m \u001b[1;33m=\u001b[0m \u001b[0mcheckpointPath\u001b[0m \u001b[1;33m+\u001b[0m \u001b[0mstr\u001b[0m\u001b[1;33m(\u001b[0m\u001b[0mstep\u001b[0m\u001b[1;33m)\u001b[0m\u001b[1;33m\u001b[0m\u001b[0m\n\u001b[0;32m     24\u001b[0m     \u001b[0mvelfile\u001b[0m \u001b[1;33m=\u001b[0m \u001b[1;34m\"velocityField\"\u001b[0m \u001b[1;33m+\u001b[0m \u001b[1;34m\".hdf5\"\u001b[0m\u001b[1;33m\u001b[0m\u001b[0m\n",
      "\u001b[1;31mNameError\u001b[0m: name 'materialVariable' is not defined"
     ]
    }
   ],
   "source": [
    "##############\n",
    "#These functions handle checkpointing\n",
    "##############\n",
    "\n",
    "#One limitation is that the Metrics have to exist...this means that these need to be computed first. \n",
    "#Sometimes, I forget and the whole thing breaks. Fix when this is put in Slippy\n",
    "\n",
    "def checkpoint1(step, checkpointPath,filename, filewrites):\n",
    "    path = checkpointPath + str(step) \n",
    "    os.mkdir(path)\n",
    "    ##Write and save the file, if not already a writing step\n",
    "    if not step % filewrites == 0:\n",
    "        filename.write((17*'%-15s ' + '\\n') % (realtime, Viscdis, float(nu0), float(nu1), Avg_temp,\n",
    "                                              Tempmantle,TMAX,\n",
    "                                              Rms,Rms_surf,Max_vx_surf,Gravwork, etamax, etamin, \n",
    "                                              Area_mantle, Viscmantle,  Viscdismantle,Plateness))\n",
    "    filename.close()\n",
    "    shutil.copyfile(os.path.join(outputPath, outputFile), os.path.join(path, outputFile))\n",
    "\n",
    "\n",
    "def checkpoint2(step, checkpointPath, swarm, filename, varlist = [materialVariable], varnames = ['materialVariable']):\n",
    "    path = checkpointPath + str(step) \n",
    "    velfile = \"velocityField\" + \".hdf5\"\n",
    "    tempfile = \"temperatureField\" + \".hdf5\"\n",
    "    pressfile = \"pressureField\" + \".hdf5\"\n",
    "    velocityField.save(os.path.join(path, velfile))\n",
    "    temperatureField.save(os.path.join(path, tempfile))\n",
    "    pressureField.save(os.path.join(path, pressfile))\n",
    "    swarm.save(os.path.join(path, \"swarm.h5\") ) \n",
    "    for ix in range(len(varlist)):\n",
    "        varb = varlist[ix]\n",
    "        varb.save(os.path.join(path,varnames[ix] + \".h5\"))\n",
    "    "
   ]
  },
  {
   "cell_type": "code",
   "execution_count": null,
   "metadata": {
    "collapsed": true
   },
   "outputs": [],
   "source": []
  },
  {
   "cell_type": "code",
   "execution_count": null,
   "metadata": {
    "collapsed": true
   },
   "outputs": [],
   "source": [
    "##############\n",
    "#This will allow us to evaluate viscous shear heating, and add the result directly to the temperature field\n",
    "##############\n",
    "\n",
    "viscDisMapFn = 2.*viscosityMapFn*sinner\n",
    "viscDisFnmesh = uw.mesh.MeshVariable(mesh,nodeDofCount=1)\n",
    "viscDisProj = uw.utils.MeshVariable_Projection( viscDisFnmesh, viscDisMapFn)\n",
    "viscDisProj.solve()"
   ]
  },
  {
   "cell_type": "code",
   "execution_count": null,
   "metadata": {
    "collapsed": false
   },
   "outputs": [],
   "source": [
    "# initialise timer for computation\n",
    "start = time.clock()\n",
    "# setup summary output file (name above)\n",
    "if checkpointLoad:\n",
    "    if uw.rank() == 0:\n",
    "        shutil.copyfile(os.path.join(checkpointLoadDir, outputFile), outputPath+outputFile)\n",
    "    comm.Barrier()\n",
    "    f_o = open(os.path.join(outputPath, outputFile), 'a')\n",
    "    prevdata = np.genfromtxt(os.path.join(outputPath, outputFile), skip_header=0, skip_footer=0)\n",
    "    if len(prevdata.shape) == 1: #this is in case there is only one line in previous file\n",
    "        realtime = prevdata[0]\n",
    "    else:\n",
    "        realtime = prevdata[prevdata.shape[0]-1, 0]\n",
    "    step = int(checkpointLoadDir.split('/')[-1])\n",
    "    timevals = [0.]\n",
    "else:\n",
    "    f_o = open(outputPath+outputFile, 'w')\n",
    "    realtime = 0.\n",
    "    step = 0\n",
    "    timevals = [0.]"
   ]
  },
  {
   "cell_type": "markdown",
   "metadata": {},
   "source": [
    "Main simulation loop\n",
    "-----\n"
   ]
  },
  {
   "cell_type": "code",
   "execution_count": 67,
   "metadata": {
    "collapsed": false
   },
   "outputs": [
    {
     "data": {
      "text/plain": [
       "array([[ 0.,  0.],\n",
       "       [ 0.,  0.],\n",
       "       [ 0.,  0.],\n",
       "       [ 0.,  0.],\n",
       "       [ 0.,  0.]])"
      ]
     },
     "execution_count": 67,
     "metadata": {},
     "output_type": "execute_result"
    }
   ],
   "source": []
  },
  {
   "cell_type": "code",
   "execution_count": null,
   "metadata": {
    "collapsed": true
   },
   "outputs": [],
   "source": [
    "#while step < 21:\n",
    "while realtime < 1.:\n",
    "\n",
    "    # solve Stokes and advection systems\n",
    "    solver.solve(nonLinearIterate=True)\n",
    "    dt = advDiff.get_max_dt()\n",
    "    if step == 0:\n",
    "        dt = 0.\n",
    "    advDiff.integrate(dt)\n",
    "    materialadvector.integrate(dt)\n",
    "    passiveadvector2.integrate(dt)\n",
    "    passiveadvector3.integrate(dt)\n",
    "    \n",
    "    #Add the adiabatic adjustment if in extended boussinesq model:\n",
    "    if eba:\n",
    "        temperatureField.data[:] += dt*abHeatFn.evaluate(mesh)\n",
    "    \n",
    "        #Add the viscous heating term\n",
    "         #Need to fix this (forgot 'dissipation number')\n",
    "        #viscDisProj = uw.utils.MeshVariable_Projection( viscDisFnmesh, viscDisMapFn)\n",
    "        #viscDisProj.solve()\n",
    "        #temperatureField.data[:] += dt*viscDisFnmesh.evaluate(mesh)\n",
    "    \n",
    "\n",
    "    # Increment\n",
    "    realtime += dt\n",
    "    step += 1\n",
    "    timevals.append(realtime)\n",
    "    ################\n",
    "    #Update temperature field in the air region\n",
    "    #Do this better...\n",
    "    ################\n",
    "    if (step % sticky_air_temp == 0):\n",
    "        for index, coord in enumerate(mesh.data):\n",
    "            if coord[1] >= 1.:\n",
    "                temperatureField.data[index] = ndp.TSP\n",
    "\n",
    "    # Calculate the Metrics, only on 1 of the processors:\n",
    "    ################\n",
    "    if (step % metric_output == 0):\n",
    "        ###############\n",
    "        #Swarm - based Metrics\n",
    "        ###############\n",
    "        # Calculate the RMS velocity and Nusselt number.\n",
    "        # Calculate the Metrics, only on 1 of the processors:\n",
    "        mantlerestrictFn = temprestrictionFn() #rebuild the mantle restriction function (but these should be dynamic?)\n",
    "        srrestrictFn = platenessFn(val = 0.1) #rebuild the plateness restriction function\n",
    "        dummy = tempMM.evaluate(mesh) #Re-evaluate any fn.view.min_max guys\n",
    "        #Rebuild these integrals (a test because metrics changes after a restart)\n",
    "        mantleArea   = uw.utils.Integral( mantlerestrictFn, mesh )\n",
    "        mantleTemp = uw.utils.Integral( temperatureField*mantlerestrictFn, mesh )\n",
    "        mantleVisc = uw.utils.Integral( mantleviscosityFn*mantlerestrictFn, mesh )\n",
    "        mantleVd = uw.utils.Integral( (4.*viscosityMapFn*sinner*mantlerestrictFn), mesh ) #these now work on MappingFunctions\n",
    "        ###\n",
    "        Avg_temp = avg_temp()\n",
    "        Rms = rms()\n",
    "        Rms_surf = rms_surf()\n",
    "        Max_vx_surf = max_vx_surf(velocityField, mesh)\n",
    "        Gravwork = basic_int(dwint)\n",
    "        Viscdis = basic_int(vdint)\n",
    "        nu1, nu0 = nusseltTB(temperatureField, mesh) # return top then bottom\n",
    "        etamax, etamin = visc_extr(mantleviscosityFn)\n",
    "        Area_mantle = basic_int(mantleArea)\n",
    "        Viscmantle = basic_int(mantleVisc)\n",
    "        Tempmantle = basic_int(mantleTemp)\n",
    "        Viscdismantle = basic_int(mantleVd)\n",
    "        Plateness = basic_int(plateint)/basic_int(surfint)\n",
    "        TMAX = tempMM.max_global()\n",
    "        # output to summary text file\n",
    "        if uw.rank()==0:\n",
    "            f_o.write((17*'%-15s ' + '\\n') % (realtime, Viscdis, float(nu0), float(nu1), Avg_temp,\n",
    "                                              Tempmantle,TMAX,\n",
    "                                              Rms,Rms_surf,Max_vx_surf,Gravwork, etamax, etamin, \n",
    "                                              Area_mantle, Viscmantle,  Viscdismantle,Plateness))\n",
    "    ################\n",
    "    #Also repopulate entire swarm periodically\n",
    "    ################\n",
    "    #if step % swarm_repop == 0:\n",
    "    population_control.repopulate()   \n",
    "    ################\n",
    "    #Checkpoint\n",
    "    ################\n",
    "    if step % checkpoint_every == 0:\n",
    "        if uw.rank() == 0:\n",
    "            checkpoint1(step, checkpointPath,f_o, metric_output)           \n",
    "        checkpoint2(step, checkpointPath, gSwarm, f_o, varlist = varlist, varnames = varnames)\n",
    "        f_o = open(os.path.join(outputPath, outputFile), 'a') #is this line supposed to be here?\n",
    "    ################\n",
    "    #Gldb output\n",
    "    ################ \n",
    "    if (step % gldbs_output == 0): \n",
    "        if figures == 'gldb':\n",
    "            #Remember to rebuild any necessary swarm variables\n",
    "            fnamedb = \"dbFig\" + \"_\" + str(ModIt) + \"_\" + str(step) + \".gldb\"\n",
    "            fullpath = os.path.join(outputPath + \"gldbs/\" + fnamedb)\n",
    "            figDb.save_database(fullpath)\n",
    "        elif figures == 'store':      \n",
    "            fullpath = os.path.join(outputPath + \"images/\") #in Bec's example pngs get automatically written in fig.Save stor is also uodated\n",
    "            store.step = step\n",
    "            #Save figures to store\n",
    "            figVisc.save( fullpath + \"Visc\" + str(step).zfill(4))\n",
    "            figMech.save( fullpath + \"Mech\" + str(step).zfill(4))\n",
    "            #figTemp.save(    outputPath + \"Temp\"    + str(step).zfill(4))\n",
    "    ################\n",
    "    #Files output\n",
    "    ################ \n",
    "    if (step % files_output == 0):\n",
    "\n",
    "        vel_surface = velocityField.evaluate_global(surface_nodes)\n",
    "        norm_surface_sr = normgradV.evaluate_global(surface_nodes)\n",
    "        if uw.rank() == 0:\n",
    "            fnametemp = \"velsurface\" + \"_\" + str(ModIt) + \"_\" + str(step)\n",
    "            fullpath = os.path.join(outputPath + \"files/\" + fnametemp)\n",
    "            np.save(fullpath, vel_surface)\n",
    "            fnametemp = \"norm_surface_sr\" + \"_\" + str(ModIt) + \"_\" + str(step)\n",
    "            fullpath = os.path.join(outputPath + \"files/\" + fnametemp)\n",
    "            np.save(fullpath, norm_surface_sr)\n",
    "        #Save the midswarm and tipswarm coords \n",
    "        fnametemp1 = \"midSwarm\" + \"_\" + str(ModIt) + \"_\" + str(step)\n",
    "        fullpath1 = os.path.join(outputPath + \"files/\" + fnametemp1)\n",
    "        midSwarm.save(fullpath1)\n",
    "        tipVar.data[:,:2] = velocityField.evaluate(tipSwarm)\n",
    "        tipVar.data[:,2:] = xFn.evaluate(tipSwarm)\n",
    "        tipVar.data[:,3:] = yFn.evaluate(tipSwarm)\n",
    "        #fnametemp2 = \"tipSwarm\" + \"_\" + str(ModIt) + \"_\" + str(step)\n",
    "        #fullpath2 = os.path.join(outputPath + \"files/\" + fnametemp2)\n",
    "        #tipSwarm.save(fullpath2)\n",
    "        \n",
    "    ################\n",
    "    #Particle update\n",
    "    ###############    \n",
    "    #ageVariable.data[:] += dt #increment the ages (is this efficient?)\n",
    "    ageDT += dt\n",
    "    \n",
    "    if step % swarm_update == 0:\n",
    "        #Increment age stuff. \n",
    "        ageConditions = [ (depthFn < AGETRACKDEPTH, ageVariable + ageDT ),  #add ageDThere\n",
    "                  (True, 0.) ]\n",
    "        ageVariable.data[:] = fn.branching.conditional( ageConditions ).evaluate(gSwarm)        \n",
    "        ageDT = 0. #reset the age incrementer\n",
    "        \n",
    "        #Apply any materialVariable changes\n",
    "        for i in range(2): #go through twice\n",
    "            materialVariable.data[:] = fn.branching.conditional(DG.condition_list).evaluate(gSwarm)\n",
    "\n",
    "    \n",
    "f_o.close()\n",
    "print 'step =',step"
   ]
  },
  {
   "cell_type": "code",
   "execution_count": null,
   "metadata": {
    "collapsed": false
   },
   "outputs": [],
   "source": [
    "#viscVariable = gSwarm.add_variable( dataType=\"float\", count=1 )\n",
    "#viscVariable.data[:] = viscosityMapFn.evaluate(gSwarm)\n",
    "\n",
    "#buoyVariable = gSwarm.add_variable( dataType=\"float\", count=1 )\n",
    "#buoyVariable.data[:] = densityMapFn.evaluate(gSwarm)"
   ]
  },
  {
   "cell_type": "code",
   "execution_count": null,
   "metadata": {
    "collapsed": false
   },
   "outputs": [],
   "source": [
    "#fig= glucifer.Figure()\n",
    "#fig.append( glucifer.objects.Points(gSwarm,ageVariable))\n",
    "#fig.append( glucifer.objects.Points(gSwarm, viscosityMapFn, logScale=True, valueRange =[1e-3,1e5]))\n",
    "\n",
    "#fig.append( glucifer.objects.Surface(mesh, strainRate_2ndInvariant, logScale=True, valueRange =[1e-3,1e5] ))\n",
    "#fig.append( glucifer.objects.VectorArrows(mesh,velocityField, scaling=0.002))\n",
    "#fig.append( glucifer.objects.Surface(mesh,densityMapFn))\n",
    "#fig.append( glucifer.objects.Surface(mesh,raylieghFn))\n",
    "\n",
    "#fig.show()\n",
    "#fig.save_database('test.gldb')"
   ]
  },
  {
   "cell_type": "code",
   "execution_count": 300,
   "metadata": {
    "collapsed": false
   },
   "outputs": [
    {
     "data": {
      "text/plain": [
       "239.75242232894851"
      ]
     },
     "execution_count": 300,
     "metadata": {},
     "output_type": "execute_result"
    }
   ],
   "source": [
    "velocityField.data[tWalls.data].max()"
   ]
  },
  {
   "cell_type": "code",
   "execution_count": 301,
   "metadata": {
    "collapsed": false
   },
   "outputs": [
    {
     "data": {
      "text/plain": [
       "325.43795809700674"
      ]
     },
     "execution_count": 301,
     "metadata": {},
     "output_type": "execute_result"
    }
   ],
   "source": [
    "velocityField.data.max()"
   ]
  },
  {
   "cell_type": "code",
   "execution_count": null,
   "metadata": {
    "collapsed": true
   },
   "outputs": [],
   "source": [
    "testFn  = fn.branching.conditional([(depthFn < MANTLETOCRUST*3, 2.),\n",
    "                                                     (interfaceCond, 1.), #\n",
    "                                                     (True, 0.)])"
   ]
  },
  {
   "cell_type": "code",
   "execution_count": 24,
   "metadata": {
    "collapsed": false
   },
   "outputs": [
    {
     "data": {
      "text/plain": [
       "(44.437143733652142, 27.756703243833382)"
      ]
     },
     "execution_count": 24,
     "metadata": {},
     "output_type": "execute_result"
    }
   ],
   "source": [
    "ndp.Wdf, ndp.Edf"
   ]
  },
  {
   "cell_type": "code",
   "execution_count": 87,
   "metadata": {
    "collapsed": false
   },
   "outputs": [
    {
     "data": {
      "text/plain": [
       "'results/T/0/Base/files/midSwarm_Base_2'"
      ]
     },
     "execution_count": 87,
     "metadata": {},
     "output_type": "execute_result"
    }
   ],
   "source": [
    "step = 2\n",
    "fnametemp = \"midSwarm\" + \"_\" + str(ModIt) + \"_\" + str(step)\n",
    "fullpath = os.path.join(outputPath + \"files/\" + fnametemp)\n",
    "fullpath"
   ]
  },
  {
   "cell_type": "code",
   "execution_count": 91,
   "metadata": {
    "collapsed": false
   },
   "outputs": [
    {
     "data": {
      "text/plain": [
       "<underworld.utils._utils.SavedFileData at 0x7f64200c3e10>"
      ]
     },
     "execution_count": 91,
     "metadata": {},
     "output_type": "execute_result"
    }
   ],
   "source": [
    "fnametemp = \"midSwarm\" + \"_\" + str(ModIt) + \"_\" + str(step)\n",
    "fullpath = os.path.join(outputPath + \"files/\" + fnametemp)\n",
    "midSwarm.save(fullpath)\n",
    "\n",
    "fnametemp = \"tipSwarm\" + \"_\" + str(ModIt) + \"_\" + str(step)\n",
    "fullpath = os.path.join(outputPath + \"files/\" + fnametemp)\n",
    "tipSwarm.save(fullpath)"
   ]
  },
  {
   "cell_type": "code",
   "execution_count": null,
   "metadata": {
    "collapsed": true
   },
   "outputs": [],
   "source": []
  }
 ],
 "metadata": {
  "kernelspec": {
   "display_name": "Python 2",
   "language": "python",
   "name": "python2"
  },
  "language_info": {
   "codemirror_mode": {
    "name": "ipython",
    "version": 2
   },
   "file_extension": ".py",
   "mimetype": "text/x-python",
   "name": "python",
   "nbconvert_exporter": "python",
   "pygments_lexer": "ipython2",
   "version": "2.7.9"
  },
  "widgets": {
   "state": {},
   "version": "1.1.2"
  }
 },
 "nbformat": 4,
 "nbformat_minor": 0
}
