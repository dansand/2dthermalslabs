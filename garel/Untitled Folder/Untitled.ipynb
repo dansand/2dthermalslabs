{
 "cells": [
  {
   "cell_type": "code",
   "execution_count": 3,
   "metadata": {
    "collapsed": false
   },
   "outputs": [],
   "source": [
    "import underworld as uw\n",
    "import math\n",
    "from underworld import function as fn\n",
    "import glucifer\n",
    "res=128\n",
    "mesh = uw.mesh.FeMesh_Cartesian(\"Q1/DQ0\", (res,res), (0.,0.), (1.,1.))\n",
    "velocityField = uw.mesh.MeshVariable(mesh,2)\n",
    "velocityField.data[:] = (0.,0.)\n",
    "\n",
    "pressureField = uw.mesh.MeshVariable(mesh.subMesh,1)\n",
    "pressureField.data[:] = 0.\n",
    "\n",
    "# Freeslip bc's\n",
    "IWalls = mesh.specialSets[\"MinI_VertexSet\"] + mesh.specialSets[\"MaxI_VertexSet\"]\n",
    "JWalls = mesh.specialSets[\"MinJ_VertexSet\"] + mesh.specialSets[\"MaxJ_VertexSet\"]\n",
    "freeslip = uw.conditions.DirichletCondition(velocityField, (IWalls, JWalls))\n",
    "# We are going to make use of one of the existing analytic solutions so that we may easily\n",
    "# obtain functions for a viscosity profile and forcing terms.\n",
    "# Exact solution solCx with defaults\n",
    "sol = fn.analytic.SolCx()\n",
    "stokesSystem = uw.systems.Stokes(velocityField,pressureField,sol.fn_viscosity,sol.fn_bodyforce,conditions=[freeslip,])"
   ]
  },
  {
   "cell_type": "code",
   "execution_count": 11,
   "metadata": {
    "collapsed": false
   },
   "outputs": [
    {
     "data": {
      "text/html": [
       "<img src='data:image/png;base64,iVBORw0KGgoAAAANSUhEUgAAAoAAAAHgCAIAAAC6s0uzAAAKQklEQVR4nO3YQa7jNhBAQXcw978ys8g2wJ8kZJ4oVx2g0ZJFPciz1voAAP+vP+oFAOAbCTAABAQYAAICDAABAQaAgAADQECAASAgwAAQEGAACAgwAAQEGAACAgwAAQEGgIAAA0BAgAEgIMAAEBBgAAgIMAAEBBgAAgIMAAEBBoCAAANAQIABICDAABAQYAAICDAABAQYAAICDAABAQaAgAADQECAASAgwAAQEGAACPyqF3inmalXANhmrVWv8EICfIrnFXgHXxSH+AsaAAICDAABAQaAgAADQECAASAgwAAQEGAACAgwAAQEGAACAgwAAQEGgIAAA0BAgAEgIMAAEBBgAAgIMAAEBBgAAgIMAAEBBoCAAANAQIABICDAABAQYAAICDAABAQYAAICfIeZefjAEzNPDPzCJQ9dtSV3zdw78NBMTpi1Vr3DC824scBLeKEd4gsYAAICDAABAQaAgAADQECAASAgwAAQEGAACAgwAAQEGAACAgwAAQEGgIAAA0BAgAEgIMAAEBBgAAgIMAAEBBgAAgIMAAEBBoCAAANAQIABICDAABAQYAAICDAABAQYAAICzKPNTL0Cf+OK38WSPJwA32H7KT0x8MTMtdbegc+/8ENL7h241rpiyb0DP5csyS02v+D4y/ZyAFS80A7xBQwAAQEGgIAAA0BAgAEgIMAAEBBgAAgIMAAEBBgAAgIMAAEBBoCAAANAQIABICDAABAQYAAICDAABAQYAAICDAABAQaAgAADQECAASAgwAAQEGAACAgwAAQEGAACAgwAAQG+w8w8f+aJgXtnbh/4ueGqP5bcOvPhAw/N5IRZa9U7vNDM5hv7/IHAW3ldHOIL+A7bn37HCaAlwAAQEGAACAgwAAQEGAACAgwAAQEGgIAAA0BAgAEgIMAAEBBgAAgIMAAEBBgAAgIMAAEBBoCAAANAQIABICDAABAQYAAICDAABAQYAAICDAABAQaAgAADQECAASAgwHeYmXqFn1lyl+1LPn/giZmW5OEE+EtdcURPLLnW2jvwiiVPDNx+4c+/6hMzr1iSQ8ZPdcKMGwu8hBfaIb6AASAgwAAQEGAACAgwAAQEGAACAgwAAQEGgIAAA0BAgAEgIMAAEBBgAAgIMAAEBBgAAgIMAAEBBoCAAANAQIABICDAABAQYAAICDAABAQYAAICDAABAQaAgAADQECAgXeamXqFn51Y8ooL5yPAt7jilD5/4ImZzx94aOZ225dca13x6/C1Zq1V7/BCM5tv7PMHAm/ldXGIL+A7bH/6HSeAlgADQECAASAgwAAQEGAACAgwAAQEGAACAgwAAQEGgIAAA0BAgAEgIMAAEBBgAAgIMAAEBBgAAgIMAAEBBoCAAANAQIABICDAABAQYAAICDAABAQYAAICDAABAQaAgADfYWaeP/PEkmxxxW9tySfP5AQB/lIzs9aqt/iB98gu23/rEw/P1y65/Tl//tHmLxe8hW90Rd4AfocX2iG+gAEgIMAAEBBgAAgIMAAEBBgAAgIMAAEBBoCAAANAQIABICDAABAQYAAICDAABAQYAAICDAABAQaAgAADQECAASAgwAAQEGAACAgwAAQEGAACAgwAAQEGgIAAA0BAgO8wM1fMhH/tigdy+5KO9jcTYLb5zneTl92T+XV4sllr1Tu80MzmG7t94AlXLAn8U472Ib6A73DF03/FkgAPIcAAEBBgAAgIMAAEBBgAAgIMAAEBBoCAAANAQIABICDAABAQYAAICDAABAQYAAICDAABAQaAgAADQECAASAgwAAQEGAACAgwAAQEGAACAgwAAQEGgIAAA0BAgAF+18zUK/zsiiX5CPAtTpyo7TOfP/AWV9zJ71xyu+dvyDkCzHOttbbPvOJ9t/3CT9xJSz5z4KGZnCDAd7jilF5x7K9YEvgGAgwAAQEGgIAAA0BAgAEgIMAAEBBgAAgIMAAEBBgAAgIMAAEBBoCAAANAQIABICDAABAQYAAICDAABAQYAAICDAABAQaAgAADQECAASAgwAAQEGAACAgwAAQEGAACAnyHmXn4QL7NFc+kJXkyAf5Sa60rjv0VS253xZJrrYcPnJntM7e7YkkO8dsfsf1QOaVAxfvnEF/Ad/D0A7yMAANAQIABICDAABAQYAAICDAABAQYAAICDAABAQaAgAADQECAASAgwAAQEGAACAgwAAQEGAACAgwAAQEGgIAAA0BAgAEgIMAAEBBgAAgIMAAEBBgAAgIMAAEBBniVmalX4LcI8B1OnKjtM6849t95J2fmiiX3Djwx8/kDucisteodXmhm843dPvDQzO2uWBLezTE8xBfwHU48/VecqCuWBPgXBBgAAgIMAAEBBoCAAANAQIABICDAABAQYAAICDAABAQYAAICDAABAQaAgAADQECAASAgwAAQEGAACAgwAAQEGAACAgwAAQEGgIAAA0BAgAEgIMAAEBBgAAgIMAAEBJhtZqZeIXDLVW/f88SFP3/J77xqDhHgO1xx7E94/rtprfX8JWdmrbV35vaBVyx5whVLcsL+J57PmVcJQMIL7RBfwAAQEGAACAgwAAQEGAACAgwAAQEGgIAAA0BAgAEgIMAAEBBgAAgIMAAEBBgAAgIMAAEBBoCAAANAQIABICDAABAQYAAICDAABAQYAAICDAABAQaAgAADQECAASAgwACvMjP1CvwWAb7DiRO1feaJgV+75N6Zt9zJvQNPzHz+QC4ya616hxeaueDGXrEkkPOuOMQX8PdyogBCAgwAAQEGgIAAA0BAgAEgIMAAEBBgAAgIMAAEBBgAAgIMAAEBBoCAAANAQIABICDAABAQYAAICDAABAQYAAICDAABAQaAgAADQECAASAgwAAQEGAACAgwAAQEGAACAsw2M1Ov8LPtS87M3pnbB56buX3gFUvuHXhi5hUnkc/nM2uteocXmrngxp5YcvvMK+7kF/K7fBU/9yG+gL/XiRO1faZj/0x+F/jvBBgAAgIMAAEBBoCAAANAQIABICDAABAQYAAICDAABAQYAAICDAABAQaAgAADQECAASAgwAAQEGAACAgwAAQEGAACAgwAAQEGgIAAA0BAgAEgIMAAEBBgAAgIMAAEBBgAAgJ8h5l5/syZ2Ttz+8ATM795ye0Dr1hy78ATrliSz+cza616hxeacWOBl/BCO8QXMAAEBBgAAgIMAAEBBoCAAANAQIABICDAABAQYAAICDAABAQYAAICDAABAQaAgAADQECAASAgwAAQEGAACAgwAAQEGAACAgwAAQEGgIAAA0BAgAEgIMAAEBBgAAgIMAAEftULvNbM1CsA8Fyz1qp3AICv4y9oAAgIMAAEBBgAAgIMAAEBBoCAAANAQIABICDAABAQYAAICDAABAQYAAICDAABAQaAgAADQECAASAgwAAQEGAACAgwAAQEGAACAgwAAQEGgIAAA0BAgAEgIMAAEBBgAAgIMAAEBBgAAgIMAAEBBoCAAANAQIABICDAABAQYAAI/Ak3rmqGYuxiHAAAAABJRU5ErkJggg=='>"
      ],
      "text/plain": [
       "<IPython.core.display.HTML object>"
      ]
     },
     "metadata": {},
     "output_type": "display_data"
    }
   ],
   "source": [
    "fig= glucifer.Figure()\n",
    "fig.append( glucifer.objects.VectorArrows(mesh, sol.fn_velocity))\n",
    "\n",
    "fig.show()\n",
    "#fig.save_database('test.gldb')"
   ]
  },
  {
   "cell_type": "code",
   "execution_count": 9,
   "metadata": {
    "collapsed": false
   },
   "outputs": [
    {
     "data": {
      "text/plain": [
       "array([[  0.00000000e+00,   0.00000000e+00],\n",
       "       [ -4.71437090e-04,   0.00000000e+00],\n",
       "       [ -9.42442107e-04,   0.00000000e+00],\n",
       "       ..., \n",
       "       [  7.35053091e-04,  -1.83259219e-18],\n",
       "       [  3.67619768e-04,  -1.83398751e-18],\n",
       "       [ -6.86866466e-19,  -1.83445269e-18]])"
      ]
     },
     "execution_count": 9,
     "metadata": {},
     "output_type": "execute_result"
    }
   ],
   "source": [
    "sol.fn_velocity.evaluate(mesh)"
   ]
  },
  {
   "cell_type": "code",
   "execution_count": null,
   "metadata": {
    "collapsed": true
   },
   "outputs": [],
   "source": []
  }
 ],
 "metadata": {
  "kernelspec": {
   "display_name": "Python 2",
   "language": "python",
   "name": "python2"
  },
  "language_info": {
   "codemirror_mode": {
    "name": "ipython",
    "version": 2
   },
   "file_extension": ".py",
   "mimetype": "text/x-python",
   "name": "python",
   "nbconvert_exporter": "python",
   "pygments_lexer": "ipython2",
   "version": "2.7.9"
  }
 },
 "nbformat": 4,
 "nbformat_minor": 0
}
