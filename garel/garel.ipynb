{
 "cells": [
  {
   "cell_type": "markdown",
   "metadata": {},
   "source": [
    "## composite, non-linear rheology:\n",
    "\n",
    "\n",
    "The viscous rheology in this model is similar to the Garel et al paper cited below. Other parts of the model setup are similar to Čížková and Bina (2015), Arredondo and Billen (2016) and Korenaga (2011). \n",
    "\n",
    "Here we use a dimensionless system. For the psuedo-plastic effective rheology a Drucker-prager model is used.\n",
    "\n",
    "\n",
    "**Keywords:** subduction, composite rheology, dislocation creep\n",
    "\n",
    "\n",
    "**References:**\n",
    "\n",
    "\n",
    "Garel, Fanny, et al. \"Interaction of subducted slabs with the mantle transition‐zone: A regime diagram from 2‐D thermo‐mechanical models with a mobile trench and an overriding plate.\" Geochemistry, Geophysics, Geosystems 15.5 (2014): 1739-1765.\n",
    "\n",
    "Čížková, Hana, and Craig R. Bina. \"Geodynamics of trench advance: Insights from a Philippine-Sea-style geometry.\" Earth and Planetary Science Letters 430 (2015): 408-415.\n",
    "\n",
    "Arredondo, Katrina M., and Magali I. Billen. \"The Effects of Phase Transitions and Compositional Layering in Two-dimensional Kinematic Models of Subduction.\" Journal of Geodynamics (2016).\n",
    "\n",
    "Korenaga, Jun. \"Scaling of plate tectonic convection with pseudoplastic rheology.\" Journal of Geophysical Research: Solid Earth 115.B11 (2010)."
   ]
  },
  {
   "cell_type": "code",
   "execution_count": 1,
   "metadata": {
    "collapsed": false
   },
   "outputs": [],
   "source": [
    "import numpy as np\n",
    "import underworld as uw\n",
    "import math\n",
    "from underworld import function as fn\n",
    "import glucifer\n",
    "\n",
    "import os\n",
    "import sys\n",
    "import natsort\n",
    "import shutil\n",
    "from easydict import EasyDict as edict\n",
    "import operator\n",
    "import pint\n",
    "import time\n",
    "import operator\n",
    "from slippy2 import boundary_layer2d\n",
    "from slippy2 import material_graph\n",
    "from slippy2 import spmesh\n",
    "from slippy2 import phase_function\n",
    "\n",
    "from mpi4py import MPI\n",
    "comm = MPI.COMM_WORLD\n",
    "rank = comm.Get_rank()"
   ]
  },
  {
   "cell_type": "markdown",
   "metadata": {},
   "source": [
    "Model name and directories\n",
    "-----"
   ]
  },
  {
   "cell_type": "code",
   "execution_count": 2,
   "metadata": {
    "collapsed": true
   },
   "outputs": [],
   "source": [
    "############\n",
    "#Model name.  \n",
    "############\n",
    "Model = \"T\"\n",
    "ModNum = 0\n",
    "\n",
    "if len(sys.argv) == 1:\n",
    "    ModIt = \"Base\"\n",
    "elif sys.argv[1] == '-f':\n",
    "    ModIt = \"Base\"\n",
    "else:\n",
    "    ModIt = str(sys.argv[1])"
   ]
  },
  {
   "cell_type": "code",
   "execution_count": 3,
   "metadata": {
    "collapsed": false
   },
   "outputs": [],
   "source": [
    "###########\n",
    "#Standard output directory setup\n",
    "###########\n",
    "\n",
    "\n",
    "outputPath = \"results\" + \"/\" +  str(Model) + \"/\" + str(ModNum) + \"/\" + str(ModIt) + \"/\"\n",
    "imagePath = outputPath + 'images/'\n",
    "filePath = outputPath + 'files/'\n",
    "checkpointPath = outputPath + 'checkpoint/'\n",
    "dbPath = outputPath + 'gldbs/'\n",
    "outputFile = 'results_model' + Model + '_' + str(ModNum) + '_' + str(ModIt) + '.dat'\n",
    "\n",
    "if uw.rank()==0:\n",
    "    # make directories if they don't exist\n",
    "    if not os.path.isdir(outputPath):\n",
    "        os.makedirs(outputPath)\n",
    "    if not os.path.isdir(checkpointPath):\n",
    "        os.makedirs(checkpointPath)\n",
    "    if not os.path.isdir(imagePath):\n",
    "        os.makedirs(imagePath)\n",
    "    if not os.path.isdir(dbPath):\n",
    "        os.makedirs(dbPath)\n",
    "    if not os.path.isdir(filePath):\n",
    "        os.makedirs(filePath)\n",
    "        \n",
    "comm.Barrier() #Barrier here so no procs run the check in the next cell too early"
   ]
  },
  {
   "cell_type": "code",
   "execution_count": 4,
   "metadata": {
    "collapsed": false
   },
   "outputs": [
    {
     "name": "stdout",
     "output_type": "stream",
     "text": [
      "results/T/0/Base/checkpoint/ is empty\n"
     ]
    }
   ],
   "source": [
    "###########\n",
    "#Check if starting from checkpoint\n",
    "###########\n",
    "\n",
    "checkdirs = []\n",
    "for dirpath, dirnames, files in os.walk(checkpointPath):\n",
    "    if files:\n",
    "        print dirpath, 'has files'\n",
    "        checkpointLoad = True\n",
    "        checkdirs.append(dirpath)\n",
    "    if not files:\n",
    "        print dirpath, 'is empty'\n",
    "        checkpointLoad = False"
   ]
  },
  {
   "cell_type": "markdown",
   "metadata": {},
   "source": [
    "Setup parameters\n",
    "-----\n",
    "\n",
    "Set simulation parameters for test."
   ]
  },
  {
   "cell_type": "markdown",
   "metadata": {},
   "source": [
    "**Use pint to setup any unit conversions we'll need**"
   ]
  },
  {
   "cell_type": "code",
   "execution_count": 5,
   "metadata": {
    "collapsed": false
   },
   "outputs": [
    {
     "data": {
      "text/html": [
       "10000.0 meter/megayear"
      ],
      "text/latex": [
       "$10000.0 \\frac{meter}{megayear}$"
      ],
      "text/plain": [
       "<Quantity(10000.0, 'meter / megayear')>"
      ]
     },
     "execution_count": 5,
     "metadata": {},
     "output_type": "execute_result"
    }
   ],
   "source": [
    "u = pint.UnitRegistry()\n",
    "cmpery = 1.*u.cm/u.year\n",
    "mpermy = 1.*u.m/u.megayear\n",
    "year = 1.*u.year\n",
    "spery = year.to(u.sec)\n",
    "cmpery.to(mpermy)"
   ]
  },
  {
   "cell_type": "code",
   "execution_count": null,
   "metadata": {
    "collapsed": false
   },
   "outputs": [],
   "source": []
  },
  {
   "cell_type": "markdown",
   "metadata": {},
   "source": [
    "**Set parameter dictionaries**"
   ]
  },
  {
   "cell_type": "code",
   "execution_count": 6,
   "metadata": {
    "collapsed": false
   },
   "outputs": [
    {
     "name": "stdout",
     "output_type": "stream",
     "text": [
      "(0.04, 1.2675505856327397e-11)\n"
     ]
    }
   ],
   "source": [
    "box_half_width =4000e3\n",
    "age_at_trench = 100e6\n",
    "cmperyear = box_half_width / age_at_trench #m/y\n",
    "mpersec = cmperyear*(cmpery.to(u.m/u.second)).magnitude #m/sec\n",
    "print(cmperyear, mpersec )"
   ]
  },
  {
   "cell_type": "code",
   "execution_count": null,
   "metadata": {
    "collapsed": false
   },
   "outputs": [],
   "source": []
  },
  {
   "cell_type": "code",
   "execution_count": 7,
   "metadata": {
    "collapsed": false
   },
   "outputs": [],
   "source": [
    "###########\n",
    "#Store the physical parameters, scale factors and dimensionless pramters in easyDicts\n",
    "#Mainly helps with avoiding overwriting variables\n",
    "###########\n",
    "\n",
    "dp = edict({'LS_RA':2900.*1e3, #Use full mantle depth for the Rayleigh number\n",
    "            'LS':2000.*1e3, #Depth of domain\n",
    "           'rho':3300.,  #reference density\n",
    "           'g':9.8, #surface gravity\n",
    "           'eta0':1e20, #Dislocation creep at 250 km, 1573 K, 1e-15 s-1 \n",
    "           'k':1e-6, #thermal diffusivity\n",
    "           'a':3e-5, #surface thermal expansivity\n",
    "           'TP':1573., #mantle potential temp (K)\n",
    "           'TS':273., #surface temp (K)\n",
    "           'cohesion':2e6, #cohesion in Byerlee law\n",
    "           'fc':0.2,   #friction coefficient in Byerlee law (tan(phi))\n",
    "           'Adf':3e-11, #pre-exp factor for diffusion creep\n",
    "           'Ads':5e-16, #pre-exp factor for dislocation creep\n",
    "           'Apr':1e-150,#pre-exp factor for Peierls creep\n",
    "           'Edf':3e5,\n",
    "           'Eds':5.4e5,\n",
    "           'Epr':5.4e5,\n",
    "           'Vdf':4e-6,\n",
    "           'Vds':12e-6,\n",
    "           'Vpr':10e-6,\n",
    "           'Alm':1.3e-16,\n",
    "           'Elm':2.0e5,\n",
    "           'Vlm':1.1e-6,\n",
    "           'Ba':4.3e-12,  #A value to simulate pressure increase with depth\n",
    "           'SR':1e-15,\n",
    "           #'Dr':250e3, #Reference depth\n",
    "           'rDepth':250e3, #reference depth (used to scale / normalize the flow laws)\n",
    "           'R':8.314, #gas constant\n",
    "           'Cp':1250., #Specific heat (Jkg-1K-1)\n",
    "           'StALS':100e3, #depth of sticky air layer\n",
    "           'plate_vel':4})\n",
    "\n",
    "#Adiabatic heating stuff\n",
    "dp.dTa = (dp.a*dp.g*(dp.TP))/dp.Cp #adibatic gradient, at Tp\n",
    "dp.deltaTa = (dp.TP + dp.dTa*dp.LS) - dp.TS  #Adiabatic Temp at base of mantle, minus Ts\n",
    "dp.deltaT = dp.deltaTa\n",
    "dp.rTemp= dp.TP + dp.rDepth*dp.dTa #reference temp, (potential temp + adiabat)\n",
    "\n",
    "\n",
    "#scale_factors\n",
    "\n",
    "sf = edict({'stress':dp.LS**2/(dp.k*dp.eta0),\n",
    "            'lith_grad':dp.rho*dp.g*(dp.LS)**3/(dp.eta0*dp.k) ,\n",
    "            'vel':dp.LS/dp.k,\n",
    "            'SR':dp.LS**2/dp.k,\n",
    "            'W':(-1./dp.Ba)*(np.log(1.-dp.rho*dp.g*dp.Ba*dp.LS))/(dp.R*dp.deltaTa), #Including adiabatic compression, and deltaTa\n",
    "            'E': 1./(dp.R*dp.deltaTa), #using deltaTa, the guesstimated adiabatic temp differnnce to scale these paramters\n",
    "            #'Ads':(dp.eta0**(ndp.n-2))*((dp.k)**(ndp.n-1))*((dp.LS)**(2. - 2*ndp.n))       \n",
    "           })\n",
    "\n",
    "#dimensionless parameters\n",
    "\n",
    "ndp = edict({'RA':(dp.g*dp.rho*dp.a*(dp.TP - dp.TS)*(dp.LS_RA)**3)/(dp.k*dp.eta0),\n",
    "            'cohesion':dp.cohesion*sf.stress,\n",
    "            'fcd':dp.fc*sf.lith_grad,\n",
    "            'gamma':dp.fc/(dp.a*dp.deltaT),\n",
    "            'Wdf':dp.Vdf*sf.W,\n",
    "            'Edf':dp.Edf*sf.E,\n",
    "            'Wps':dp.Vpr*sf.W,\n",
    "            'Eps':dp.Epr*sf.E,\n",
    "            'Wds':dp.Vds*sf.W,\n",
    "            'Eds':dp.Eds*sf.E,\n",
    "            'Elm':dp.Elm*sf.E,\n",
    "            'Elm':dp.Elm*sf.E,\n",
    "            'Wlm':dp.Vlm*sf.W,\n",
    "            'TSP':0., \n",
    "            'TBP':1.,\n",
    "            'TPP':(dp.TP - dp.TS)/dp.deltaT, #dimensionless potential temp\n",
    "            'rDepth':dp.rDepth/dp.LS,\n",
    "            'rTemp':(dp.rTemp- dp.TS)/dp.deltaT,\n",
    "            'n':3.5, #Dislocation creep stress exponent\n",
    "            'np':20., #Peierls creep stress exponent\n",
    "            'TS':dp.TS/dp.deltaT,\n",
    "            'TP':dp.TP/dp.deltaT,\n",
    "            'eta_crust':0.01, #crust viscosity, if using isoviscous weak crust\n",
    "            'eta_min':1e-3, \n",
    "            'eta_max':1e5, #viscosity max in the mantle material\n",
    "            'eta_max_crust':0.4, #viscosity max in the weak-crust material\n",
    "            'H':0.,\n",
    "            'Tmvp':0.6,\n",
    "            'Di': dp.a*dp.g*dp.LS/dp.Cp, #Dissipation number\n",
    "            'Steta0':1e2,\n",
    "            'plate_vel':sf.vel*dp.plate_vel*(cmpery.to(u.m/u.second)).magnitude,})\n",
    "\n",
    "\n",
    "\n",
    "#Make some further additions to paramter dictionaries\n",
    "\n",
    "#dp.VR = (0.1*(dp.k/dp.LS)*ndp.RA**(2/3.)) #characteristic velocity from a scaling relationship\n",
    "#dp.SR = dp.VR/dp.LS #characteristic strain rate\n",
    "#ndp.VR = dp.VR*sf.vel #characteristic velocity\n",
    "#ndp.SR = dp.SR*sf.SR #characteristic strain rate\n",
    "\n",
    "\n",
    "ndp.SR = dp.SR*sf.SR #characteristic strain rate\n",
    "\n",
    "ndp.StRA = (3300.*dp.g*(dp.LS)**3)/(dp.eta0 *dp.k) #Composisitional Rayleigh number for rock-air buoyancy force\n",
    "ndp.TaP = 1. - ndp.TPP,  #Dimensionles adiabtic component of delta t"
   ]
  },
  {
   "cell_type": "code",
   "execution_count": 8,
   "metadata": {
    "collapsed": false
   },
   "outputs": [
    {
     "data": {
      "text/plain": [
       "2535.1011712654795"
      ]
     },
     "execution_count": 8,
     "metadata": {},
     "output_type": "execute_result"
    }
   ],
   "source": [
    "#40000./sf.vel, \n",
    "#ndp.RA\n",
    "ndp.plate_vel"
   ]
  },
  {
   "cell_type": "code",
   "execution_count": 9,
   "metadata": {
    "collapsed": false
   },
   "outputs": [
    {
     "data": {
      "text/plain": [
       "(45568.60610653658, 2535.1011712654795, 307608701.40000004, 1300.0)"
      ]
     },
     "execution_count": 9,
     "metadata": {},
     "output_type": "execute_result"
    }
   ],
   "source": [
    "dp.CVR = (0.1*(dp.k/dp.LS)*ndp.RA**(2/3.))\n",
    "ndp.CVR = dp.CVR*sf.vel #characteristic velocity\n",
    "ndp.CVR, ndp.plate_vel, ndp.RA , (dp.TP - dp.TS)\n"
   ]
  },
  {
   "cell_type": "code",
   "execution_count": 10,
   "metadata": {
    "collapsed": false
   },
   "outputs": [],
   "source": [
    "###########\n",
    "#lengths scales for various processes (material transistions etc.)\n",
    "###########\n",
    "\n",
    "MANTLETOCRUST = (8.*1e3)/dp.LS #Crust depth\n",
    "HARZBURGDEPTH = MANTLETOCRUST + (27.7e3/dp.LS)\n",
    "CRUSTTOMANTLE = (800.*1e3)/dp.LS\n",
    "LITHTOMANTLE = (900.*1e3)/dp.LS \n",
    "MANTLETOLITH = (200.*1e3)/dp.LS \n",
    "TOPOHEIGHT = (10.*1e3)/dp.LS  #rock-air topography limits\n",
    "CRUSTTOECL  = (100.*1e3)/dp.LS\n",
    "AVGTEMP = ndp.TPP #Used to define lithosphere\n",
    "LOWMANTLEDEPTH = (660.*1e3)/dp.LS \n",
    "CRUSTVISCUTOFF = (100.*1e3)/dp.LS #Deeper than this, crust material rheology reverts to mantle rheology\n"
   ]
  },
  {
   "cell_type": "code",
   "execution_count": null,
   "metadata": {
    "collapsed": false
   },
   "outputs": [],
   "source": []
  },
  {
   "cell_type": "markdown",
   "metadata": {},
   "source": [
    "**Model setup parameters**"
   ]
  },
  {
   "cell_type": "code",
   "execution_count": 11,
   "metadata": {
    "collapsed": false
   },
   "outputs": [],
   "source": [
    "###########\n",
    "#Model setup parameters\n",
    "###########\n",
    "\n",
    "#Modelling and Physics switches\n",
    "refineMesh = False\n",
    "stickyAir = True \n",
    "meltViscosityReduction = False\n",
    "symmetricIC = False\n",
    "VelBC = False\n",
    "WeakZone = False\n",
    "aspectRatio = 4\n",
    "compBuoyancy = False #use compositional & phase buoyancy, or simply thermal\n",
    "viscMechs = ['diffusion', 'dislocation', 'peierls', 'yielding']\n",
    "viscCombine = 'harmonic' #'harmonic', 'min', 'mixed'....\n",
    "\n",
    "#Domaain and Mesh paramters\n",
    "dim = 2          # number of spatial dimensions\n",
    "MINX = -1.*aspectRatio/2.\n",
    "MINY = 0.\n",
    "MAXX = 1.*aspectRatio/2.\n",
    "MAXY = 1.\n",
    "if MINX == 0.:\n",
    "    squareModel = True\n",
    "else: \n",
    "    squareModel = False\n",
    "    \n",
    "    \n",
    "RES = 256\n",
    "Xres = int(RES*aspectRatio)\n",
    "if MINY == 0.5:\n",
    "    Xres = int(2.*RES*aspectRatio)\n",
    "    \n",
    "\n",
    "if stickyAir:\n",
    "    Yres = RES\n",
    "    MAXY = 1. + dp.StALS/dp.LS #150km\n",
    "    \n",
    "else:\n",
    "    Yres = RES\n",
    "    MAXY = 1.\n",
    "\n",
    "periodic = [True, False]\n",
    "elementType = \"Q1/dQ0\"\n",
    "#elementType =\"Q2/DPC1\"\n",
    "\n",
    "\n",
    "#System/Solver stuff\n",
    "PIC_integration=True\n",
    "ppc = 25\n",
    "\n",
    "#Metric output stuff\n",
    "swarm_repop, swarm_update = 10, 10\n",
    "gldbs_output = 10\n",
    "checkpoint_every, files_output = 10, 20\n",
    "metric_output = 10\n",
    "sticky_air_temp = 5"
   ]
  },
  {
   "cell_type": "markdown",
   "metadata": {},
   "source": [
    "Create mesh and finite element variables\n",
    "------"
   ]
  },
  {
   "cell_type": "code",
   "execution_count": 12,
   "metadata": {
    "collapsed": false
   },
   "outputs": [],
   "source": [
    "mesh = uw.mesh.FeMesh_Cartesian( elementType = (elementType),\n",
    "                                 elementRes  = (Xres, Yres), \n",
    "                                 minCoord    = (MINX, MINY), \n",
    "                                 maxCoord    = (MAXX, MAXY), periodic=periodic)\n",
    "\n",
    "velocityField       = uw.mesh.MeshVariable( mesh=mesh,         nodeDofCount=2 )\n",
    "pressureField       = uw.mesh.MeshVariable( mesh=mesh.subMesh, nodeDofCount=1 )\n",
    "temperatureField    = uw.mesh.MeshVariable( mesh=mesh,         nodeDofCount=1 )\n",
    "temperatureDotField = uw.mesh.MeshVariable( mesh=mesh,         nodeDofCount=1 )"
   ]
  },
  {
   "cell_type": "code",
   "execution_count": 13,
   "metadata": {
    "collapsed": true
   },
   "outputs": [],
   "source": [
    "mesh.reset()"
   ]
  },
  {
   "cell_type": "code",
   "execution_count": 14,
   "metadata": {
    "collapsed": false
   },
   "outputs": [],
   "source": [
    "###########\n",
    "#Mesh refinement\n",
    "###########\n",
    "\n",
    "#X-Axis\n",
    "\n",
    "if refineMesh:\n",
    "    mesh.reset()\n",
    "    axis = 0\n",
    "    origcoords = np.linspace(mesh.minCoord[axis], mesh.maxCoord[axis], mesh.elementRes[axis] + 1)\n",
    "    edge_rest_lengths = np.diff(origcoords)\n",
    "\n",
    "    deform_lengths = edge_rest_lengths.copy()\n",
    "    min_point =  (abs(mesh.maxCoord[axis]) - abs(mesh.minCoord[axis]))/2.\n",
    "    el_reduction = 0.5001\n",
    "    dx = mesh.maxCoord[axis] - min_point\n",
    "\n",
    "    deform_lengths = deform_lengths - \\\n",
    "                                    ((1.-el_reduction) *deform_lengths[0]) + \\\n",
    "                                    abs((origcoords[1:] - min_point))*((0.5*deform_lengths[0])/dx)\n",
    "\n",
    "    #print(edge_rest_lengths.shape, deform_lengths.shape)\n",
    "\n",
    "    spmesh.deform_1d(deform_lengths, mesh,axis = 'x',norm = 'Min', constraints = [])"
   ]
  },
  {
   "cell_type": "code",
   "execution_count": 15,
   "metadata": {
    "collapsed": false
   },
   "outputs": [],
   "source": [
    "axis = 1\n",
    "orgs = np.linspace(mesh.minCoord[axis], mesh.maxCoord[axis], mesh.elementRes[axis] + 1)\n",
    "\n",
    "value_to_constrain = 1.\n",
    "\n",
    "\n",
    "yconst = [(spmesh.find_closest(orgs, value_to_constrain), np.array([value_to_constrain,0]))]"
   ]
  },
  {
   "cell_type": "code",
   "execution_count": 16,
   "metadata": {
    "collapsed": false,
    "scrolled": true
   },
   "outputs": [],
   "source": [
    "###########\n",
    "#Mesh refinement\n",
    "###########\n",
    "\n",
    "if refineMesh:\n",
    "    #Y-Axis\n",
    "    axis = 1\n",
    "    origcoords = np.linspace(mesh.minCoord[axis], mesh.maxCoord[axis], mesh.elementRes[axis] + 1)\n",
    "    edge_rest_lengths = np.diff(origcoords)\n",
    "\n",
    "    deform_lengths = edge_rest_lengths.copy()\n",
    "    min_point =  (mesh.maxCoord[axis])\n",
    "    el_reduction = 0.5001\n",
    "    dx = mesh.maxCoord[axis]\n",
    "\n",
    "    deform_lengths = deform_lengths - \\\n",
    "                                    ((1.-el_reduction)*deform_lengths[0]) + \\\n",
    "                                    abs((origcoords[1:] - min_point))*((0.5*deform_lengths[0])/dx)\n",
    "\n",
    "    #print(edge_rest_lengths.shape, deform_lengths.shape)\n",
    "\n",
    "    spmesh.deform_1d(deform_lengths, mesh,axis = 'y',norm = 'Min', constraints = yconst)"
   ]
  },
  {
   "cell_type": "code",
   "execution_count": 17,
   "metadata": {
    "collapsed": false
   },
   "outputs": [],
   "source": [
    "fig= glucifer.Figure()\n",
    "\n",
    "fig.append(glucifer.objects.Mesh(mesh))\n",
    "\n",
    "#fig.show()\n",
    "#fig.save_database('test.gldb')"
   ]
  },
  {
   "cell_type": "markdown",
   "metadata": {},
   "source": [
    "Initial conditions\n",
    "-------\n"
   ]
  },
  {
   "cell_type": "code",
   "execution_count": 18,
   "metadata": {
    "collapsed": false
   },
   "outputs": [],
   "source": [
    "coordinate = fn.input()\n",
    "depthFn = 1. - coordinate[1] #a function providing the depth\n",
    "xFn = coordinate[0]  #a function providing the x-coordinate\n",
    "\n",
    "potTempFn = ndp.TPP + (depthFn)*ndp.TaP #a function providing the adiabatic temp at any depth\n",
    "abHeatFn = -1.*velocityField[1]*temperatureField*ndp.Di #a function providing the adiabatic heating rate"
   ]
  },
  {
   "cell_type": "code",
   "execution_count": null,
   "metadata": {
    "collapsed": false
   },
   "outputs": [],
   "source": []
  },
  {
   "cell_type": "code",
   "execution_count": 19,
   "metadata": {
    "collapsed": false
   },
   "outputs": [],
   "source": [
    "###########\n",
    "#Thermal initial condition:\n",
    "#if symmetricIC, we build a symmetric downwelling on top of a sinusoidal perturbation\n",
    "##########\n",
    "\n",
    "#Sinusoidal initial condition\n",
    "A = 0.2\n",
    "sinFn = depthFn + A*(fn.math.cos( math.pi * coordinate[0])  * fn.math.sin( math.pi * coordinate[1] ))        \n",
    "iD = 1000e3/dp.LS #Initial Slab depth\n",
    "dl =  2*math.sqrt(dp.k*160e6*3600*24*365) #diffusion Length at ... My\n",
    "w0 = dl/dp.LS #Boundary layer/slab initial condition\n",
    "delX1 = fn.misc.min(fn.math.abs(coordinate[0] - -0.), fn.math.abs(coordinate[0] - -2.))\n",
    "delX = fn.misc.min(delX1 , fn.math.abs(coordinate[0] - 2.))\n",
    "w = w0*fn.math.sqrt(delX + 1e-7)\n",
    "tempBL = (potTempFn) *fn.math.erf((depthFn)/w) + ndp.TSP\n",
    "delX = fn.misc.min(fn.math.abs(coordinate[0] - - 1.) , fn.math.abs(coordinate[0] - 1.))\n",
    "tempSlab = (potTempFn ) *fn.math.erf((delX*2.)/w0) + ndp.TSP       \n",
    "tempFn1 =  fn.misc.min(tempBL, tempSlab)\n",
    "blFn = fn.branching.conditional([(depthFn < iD, tempFn1), \n",
    "                                    (True, potTempFn)])\n",
    "\n",
    "tempFn = 0.*sinFn + 1.*blFn #partition the temp between these the symmetric downwelling and sinusoid\n",
    "if symmetricIC:  \n",
    "    if not checkpointLoad:\n",
    "        temperatureField.data[:] = tempFn.evaluate(mesh)  "
   ]
  },
  {
   "cell_type": "code",
   "execution_count": 20,
   "metadata": {
    "collapsed": false
   },
   "outputs": [],
   "source": [
    "###########\n",
    "#Thermal initial condition 2: \n",
    "#if symmetricIC == False, we build an asymmetric subduction-zone\n",
    "###########\n",
    "\n",
    "#Main control paramters are:\n",
    "\n",
    "Roc = 350e3 #radius of curvature of slab\n",
    "\n",
    "theta = 89. #Angle to truncate the slab (can also do with with a cutoff depth)\n",
    "subzone = 0.0 #X position of subduction zone...in model coordinates\n",
    "slabmaxAge = 100e6 #age of subduction plate at trench\n",
    "platemaxAge = 100e6 #max age of slab (Plate model)\n",
    "ageAtTrenchSeconds = min(platemaxAge*(3600*24*365), slabmaxAge*(3600*24*365))\n",
    "\n",
    "\n",
    "sense = 'Right' #dip direction\n",
    "op_age_fac = 1. #this controls the overidding plate speed, hence age reduction\n",
    "\n",
    "\n",
    "#First build the top TBL\n",
    "#Create functions between zero and one, to control age distribution\n",
    "ageFn1 = fn.misc.max(0., (1. - 1.*fn.math.abs(xFn)/(aspectRatio/2.) ))\n",
    "ageFn  = fn.branching.conditional([(coordinate[0] <= 0, ageFn1),\n",
    "                                  (True, ageFn1/op_age_fac)])\n",
    "\n",
    "#dimensionlize the age function\n",
    "ageFn *= slabmaxAge*(3600*24*365)\n",
    "#ageFn = fn.misc.min(ageFn, platemaxAge*(3600*24*365)) #apply plate model\n",
    "\n",
    "w0 = (2.*math.sqrt(dp.k*ageAtTrenchSeconds))/dp.LS #diffusion depth of plate at the trench\n",
    "\n",
    "tempBL = (potTempFn) *fn.math.erf((depthFn*dp.LS)/(2.*fn.math.sqrt(dp.k*ageFn))) + ndp.TSP #boundary layer function\n",
    "\n",
    "tempTBL =  fn.branching.conditional([(depthFn < w0, tempBL),\n",
    "                          (True, potTempFn)])\n",
    "\n",
    "if not symmetricIC:\n",
    "    if not checkpointLoad:\n",
    "        out = uw.utils.MeshVariable_Projection( temperatureField, tempTBL) #apply function with projection\n",
    "        out.solve()\n",
    "\n",
    "\n",
    "#Now build the perturbation part\n",
    "def inCircleFnGenerator(centre, radius):\n",
    "    coord = fn.input()\n",
    "    offsetFn = coord - centre\n",
    "    return fn.math.dot( offsetFn, offsetFn ) < radius**2\n",
    "\n",
    "#Setup slab perturbation params (mostly dimensionlesl / model params here)\n",
    "phi = 90. - theta\n",
    "RocM = (Roc/dp.LS)\n",
    "CrustM = MANTLETOCRUST\n",
    "Org = (subzone, 1.-RocM)\n",
    "maxDepth = 250e3/dp.LS\n",
    "\n",
    "#We use three circles to define our slab and crust perturbation,  \n",
    "Oc = inCircleFnGenerator(Org , RocM)\n",
    "Ic = inCircleFnGenerator(Org , RocM - w0)\n",
    "Cc = inCircleFnGenerator(Org , RocM + (1.5*CrustM)) #... weak zone on 'outside' of slab\n",
    "dx = (RocM)/(np.math.tan((np.math.pi/180.)*phi))\n",
    "\n",
    "#We'll also create a triangle which will truncate the circles defining the slab...\n",
    "if sense == 'Left':\n",
    "    ptx = subzone - dx\n",
    "else:\n",
    "    ptx = subzone + dx\n",
    "coords = ((0.+subzone, 1), (0.+subzone, 1.-RocM), (ptx, 1.))\n",
    "Tri = fn.shape.Polygon(np.array(coords))\n",
    "\n",
    "#Actually apply the perturbation\n",
    "if not symmetricIC:\n",
    "    if not checkpointLoad:\n",
    "        sdFn = ((RocM - fn.math.sqrt((coordinate[0] - Org[0])**2. + (coordinate[1] - Org[1])**2.)))\n",
    "        slabFn = ndp.TPP*fn.math.erf((sdFn*dp.LS)/(2.*math.sqrt(dp.k*ageAtTrenchSeconds))) + ndp.TSP\n",
    "        for index, coord in enumerate(mesh.data):\n",
    "            if (\n",
    "                Oc.evaluate(tuple(coord)) and\n",
    "                Tri.evaluate(tuple(coord)) and not\n",
    "                Ic.evaluate(tuple(coord)) and\n",
    "                coord[1] > (1. - maxDepth)\n",
    "                ): #In the quarter-circle defining the lithosphere\n",
    "                temperatureField.data[index] = slabFn.evaluate(mesh)[index]\n",
    "\n"
   ]
  },
  {
   "cell_type": "code",
   "execution_count": 21,
   "metadata": {
    "collapsed": false
   },
   "outputs": [],
   "source": [
    "#Make sure material in sticky air region is at the surface temperature.\n",
    "for index, coord in enumerate(mesh.data):\n",
    "            if coord[1] >= 1.:\n",
    "                temperatureField.data[index] = ndp.TSP"
   ]
  },
  {
   "cell_type": "code",
   "execution_count": 22,
   "metadata": {
    "collapsed": false
   },
   "outputs": [
    {
     "data": {
      "text/plain": [
       "(0.05, 0.015)"
      ]
     },
     "execution_count": 22,
     "metadata": {},
     "output_type": "execute_result"
    }
   ],
   "source": [
    "#fn.math.erf((sdFn*dp.LS)/(2.*fn.math.sqrt(dp.k*(slabmaxAge*(3600*24*365))))) \n",
    "CRUSTVISCUTOFF, MANTLETOCRUST*3"
   ]
  },
  {
   "cell_type": "markdown",
   "metadata": {
    "collapsed": false
   },
   "source": [
    "def matplot_field(temperatureField, dp):\n",
    "    if uw.nProcs() != 1:\n",
    "        print(\"only in Serial folks\")\n",
    "    else:\n",
    "        import matplotlib.pyplot as pyplt\n",
    "        try :\n",
    "            if(__IPYTHON__) :\n",
    "                get_ipython().magic(u'matplotlib inline')\n",
    "        except NameError :\n",
    "            pass\n",
    "        field_data = temperatureField.data.reshape(mesh.elementRes[1] + 1, mesh.elementRes[0] + 1)\n",
    "        fig, ax = pyplt.subplots(figsize=(32,2))\n",
    "        ql = dp.LS/1e3\n",
    "        pyplt.ioff()\n",
    "        cax =ax.imshow(np.flipud(field_data), cmap='coolwarm', aspect = 0.5, extent=[0,ql*aspectRatio,ql, 0])\n",
    "        fig.colorbar(cax, orientation='horizontal' )\n",
    "        #ax.set_x([0,dp.LS*aspectRatio])\n",
    "        pyplt.tight_layout()\n",
    "        \n",
    "        return fig, ax\n",
    "        \n",
    "fig, ax = matplot_field(temperatureField, dp)\n",
    "fig.savefig('test.png')       "
   ]
  },
  {
   "cell_type": "code",
   "execution_count": 23,
   "metadata": {
    "collapsed": false
   },
   "outputs": [],
   "source": [
    "fig= glucifer.Figure(quality=3)\n",
    "\n",
    "fig.append( glucifer.objects.Surface(mesh,temperatureField, discrete=True))\n",
    "#fig.append( glucifer.objects.Mesh(mesh))\n",
    "#fig.show()\n",
    "#fig.save_database('test.gldb')\n"
   ]
  },
  {
   "cell_type": "markdown",
   "metadata": {},
   "source": [
    "Boundary conditions\n",
    "-------"
   ]
  },
  {
   "cell_type": "code",
   "execution_count": 24,
   "metadata": {
    "collapsed": false
   },
   "outputs": [
    {
     "name": "stdout",
     "output_type": "stream",
     "text": [
      "4\n"
     ]
    }
   ],
   "source": [
    "for index in mesh.specialSets[\"MinJ_VertexSet\"]:\n",
    "    temperatureField.data[index] = ndp.TBP\n",
    "for index in mesh.specialSets[\"MaxJ_VertexSet\"]:\n",
    "    temperatureField.data[index] = ndp.TSP\n",
    "    \n",
    "iWalls = mesh.specialSets[\"MinI_VertexSet\"] + mesh.specialSets[\"MaxI_VertexSet\"]\n",
    "jWalls = mesh.specialSets[\"MinJ_VertexSet\"] + mesh.specialSets[\"MaxJ_VertexSet\"]\n",
    "tWalls = mesh.specialSets[\"MaxJ_VertexSet\"]\n",
    "bWalls =mesh.specialSets[\"MinJ_VertexSet\"]\n",
    "\n",
    "VelBCs = mesh.specialSets[\"Empty\"]\n",
    "\n",
    "\n",
    "\n",
    "if VelBC:\n",
    "    for index in list(tWalls.data):\n",
    "\n",
    "        if (mesh.data[int(index)][0] < (subzone - 0.05*aspectRatio) and \n",
    "            mesh.data[int(index)][0] > (mesh.minCoord[0] + 0.05*aspectRatio)): #Only push with a portion of teh overiding plate\n",
    "            #print \"first\"\n",
    "            VelBCs.add(int(index))\n",
    "            #Set the plate velocities for the kinematic phase\n",
    "            velocityField.data[index] = [ndp.plate_vel, 0.]\n",
    "        \n",
    "        elif (mesh.data[int(index)][0] > (subzone + 0.05*aspectRatio) and \n",
    "            mesh.data[int(index)][0] < (mesh.maxCoord[0] - 0.05*aspectRatio)):\n",
    "            #print \"second\"\n",
    "            VelBCs.add(int(index))\n",
    "            #Set the plate velocities for the kinematic phase\n",
    "            velocityField.data[index] = [0., 0.]\n",
    "        \n",
    "\n",
    "#If periodic, we'll fix a the x-vel at a single node - at the bottom left (index 0)\n",
    "Fixed = mesh.specialSets[\"Empty\"]\n",
    "Fixed.add(int(0))        \n",
    "        \n",
    "\n",
    "if periodic[0] == False:\n",
    "    if VelBC:\n",
    "        print(1)\n",
    "        freeslipBC = uw.conditions.DirichletCondition( variable      = velocityField, \n",
    "                                               indexSetsPerDof = ( iWalls + VelBCs, jWalls) )\n",
    "    else:\n",
    "        print(2)\n",
    "        freeslipBC = uw.conditions.DirichletCondition( variable      = velocityField, \n",
    "                                               indexSetsPerDof = ( iWalls, jWalls) )\n",
    "\n",
    "\n",
    "\n",
    "\n",
    "\n",
    "\n",
    "if periodic[0] == True:\n",
    "    if VelBC:\n",
    "        print(3)\n",
    "        freeslipBC = uw.conditions.DirichletCondition( variable      = velocityField, \n",
    "                                               indexSetsPerDof = ( Fixed + VelBCs , jWalls) )\n",
    "    else:\n",
    "        print(4)\n",
    "        freeslipBC = uw.conditions.DirichletCondition( variable      = velocityField, \n",
    "                                               indexSetsPerDof = ( Fixed, jWalls) )\n",
    "        \n",
    "    \n",
    "    \n",
    "    \n",
    "# also set dirichlet for temp field\n",
    "dirichTempBC = uw.conditions.DirichletCondition(     variable=temperatureField, \n",
    "                                              indexSetsPerDof=(tWalls,) )\n",
    "dT_dy = [0.,0.]\n",
    "\n",
    "# also set dirichlet for temp field\n",
    "neumannTempBC = uw.conditions.NeumannCondition( dT_dy, variable=temperatureField, \n",
    "                                         nodeIndexSet=bWalls)\n",
    "\n"
   ]
  },
  {
   "cell_type": "code",
   "execution_count": null,
   "metadata": {
    "collapsed": false
   },
   "outputs": [],
   "source": []
  },
  {
   "cell_type": "code",
   "execution_count": 25,
   "metadata": {
    "collapsed": false
   },
   "outputs": [],
   "source": [
    "#check VelBCs are where we want them\n",
    "#test = np.zeros(len(tWalls.data))\n",
    "#VelBCs\n",
    "#tWalls.data\n",
    "#tWalls.data[VelBCs.data]\n",
    "#test[np.in1d(tWalls.data, VelBCs.data)] = 1.\n",
    "#test\n",
    "\n"
   ]
  },
  {
   "cell_type": "code",
   "execution_count": null,
   "metadata": {
    "collapsed": false
   },
   "outputs": [],
   "source": []
  },
  {
   "cell_type": "markdown",
   "metadata": {},
   "source": [
    "Swarm setup\n",
    "-----\n"
   ]
  },
  {
   "cell_type": "code",
   "execution_count": 26,
   "metadata": {
    "collapsed": false
   },
   "outputs": [],
   "source": [
    "###########\n",
    "#Material Swarm and variables\n",
    "###########\n",
    "\n",
    "#create material swarm\n",
    "gSwarm = uw.swarm.Swarm(mesh=mesh, particleEscape=True)\n",
    "\n",
    "#create swarm variables\n",
    "yieldingCheck = gSwarm.add_variable( dataType=\"int\", count=1 )\n",
    "tracerVariable = gSwarm.add_variable( dataType=\"int\", count=1)\n",
    "materialVariable = gSwarm.add_variable( dataType=\"int\", count=1 )\n",
    "ageVariable = gSwarm.add_variable( dataType=\"float\", count=1 )\n",
    "testVariable = gSwarm.add_variable( dataType=\"float\", count=1 )\n",
    "\n",
    "\n",
    "#these lists  are part of the checkpointing implementation\n",
    "varlist = [tracerVariable, tracerVariable, yieldingCheck]\n",
    "varlist = [materialVariable, yieldingCheck, ageVariable]\n",
    "varnames = ['materialVariable', 'yieldingCheck', 'ageVariable']"
   ]
  },
  {
   "cell_type": "code",
   "execution_count": 27,
   "metadata": {
    "collapsed": false
   },
   "outputs": [],
   "source": [
    "mantleIndex = 0\n",
    "crustIndex = 1\n",
    "harzIndex = 2\n",
    "airIndex = 3\n",
    "\n",
    "\n",
    "\n",
    "if checkpointLoad:\n",
    "    checkpointLoadDir = natsort.natsort(checkdirs)[-1]\n",
    "    temperatureField.load(os.path.join(checkpointLoadDir, \"temperatureField\" + \".hdf5\"))\n",
    "    pressureField.load(os.path.join(checkpointLoadDir, \"pressureField\" + \".hdf5\"))\n",
    "    velocityField.load(os.path.join(checkpointLoadDir, \"velocityField\" + \".hdf5\"))\n",
    "    gSwarm.load(os.path.join(checkpointLoadDir, \"swarm\" + \".h5\"))\n",
    "    for ix in range(len(varlist)):\n",
    "        varb = varlist[ix]\n",
    "        varb.load(os.path.join(checkpointLoadDir,varnames[ix] + \".h5\"))\n",
    "\n",
    "else:\n",
    "\n",
    "    # Layouts are used to populate the swarm across the whole domain\n",
    "    layout = uw.swarm.layouts.PerCellRandomLayout(swarm=gSwarm, particlesPerCell=ppc)\n",
    "    gSwarm.populate_using_layout( layout=layout ) # Now use it to populate.\n",
    "    # Swarm variables\n",
    "    materialVariable.data[:] = mantleIndex\n",
    "    tracerVariable.data[:] = 1\n",
    "    yieldingCheck.data[:] = 0\n",
    "    ageVariable.data[:] = -1\n",
    "\n",
    "    #Set initial air and crust materials (allow the graph to take care of lithsophere)\n",
    "    #########\n",
    "    #This initial material setup will be model dependent\n",
    "    #########\n",
    "    for particleID in range(gSwarm.particleCoordinates.data.shape[0]):\n",
    "        if (1. - gSwarm.particleCoordinates.data[particleID][1]) < MANTLETOCRUST:\n",
    "                 materialVariable.data[particleID] = crustIndex"
   ]
  },
  {
   "cell_type": "code",
   "execution_count": 28,
   "metadata": {
    "collapsed": false
   },
   "outputs": [],
   "source": [
    "###########\n",
    "#This block sets up a checkboard layout of passive tracers\n",
    "###########\n",
    "\n",
    "square_size = 0.1\n",
    "xlist = np.arange(mesh.minCoord[0] + square_size/2., mesh.maxCoord[0] + square_size/2., square_size)\n",
    "xlist = zip(xlist[:], xlist[1:])[::2]\n",
    "ylist = np.arange(mesh.minCoord[1] + square_size/2., mesh.maxCoord[1] + square_size/2., square_size)\n",
    "ylist = zip(ylist[:], ylist[1:])[::2]\n",
    "xops = []\n",
    "for vals in xlist:\n",
    "    xops.append( (operator.and_(   operator.gt(coordinate[0],vals[0]),   operator.lt(coordinate[0],vals[1])  ),0.) )\n",
    "xops.append((True,1.))\n",
    "\n",
    "testfunc = fn.branching.conditional(xops) \n",
    "\n",
    "yops = []\n",
    "for vals in ylist:\n",
    "    yops.append( (operator.and_(   operator.gt(coordinate[1],vals[0]),   operator.lt(coordinate[1],vals[1])  ),0.) )\n",
    "yops.append((True,testfunc))\n",
    "\n",
    "testfunc2 = fn.branching.conditional(yops) \n",
    "tracerVariable.data[:] = testfunc.evaluate(gSwarm)\n",
    "tracerVariable.data[:] = testfunc2.evaluate(gSwarm)"
   ]
  },
  {
   "cell_type": "code",
   "execution_count": 29,
   "metadata": {
    "collapsed": false
   },
   "outputs": [
    {
     "data": {
      "text/plain": [
       "(-1.0, -1.0)"
      ]
     },
     "execution_count": 29,
     "metadata": {},
     "output_type": "execute_result"
    }
   ],
   "source": [
    "ageVariable.data.min(), ageVariable.data.max()"
   ]
  },
  {
   "cell_type": "code",
   "execution_count": 30,
   "metadata": {
    "collapsed": false
   },
   "outputs": [
    {
     "data": {
      "text/plain": [
       "array([  0.00000000e+00,   1.99999995e-05], dtype=float32)"
      ]
     },
     "execution_count": 30,
     "metadata": {},
     "output_type": "execute_result"
    }
   ],
   "source": [
    "#Set the inital particle age, for particles above the critical depth \n",
    "#(only these will be transformed to crust / harzburgite)\n",
    "\n",
    "ageVariable.data[:] = 0. #start with all zero\n",
    "crustageCond = 1e-05 #set inital age above critical depth. (about 1.2 Ma.) Might have to be shorter than this - need to experiment\n",
    "ageDT = crustageCond + 1e-5 #initalize ages\n",
    "ageConditions = [ (depthFn < 100e3/dp.LS , ageDT),  \n",
    "                  (True, 0.) ]\n",
    "                 \n",
    "\n",
    "ageEval = fn.branching.conditional( ageConditions ).evaluate(gSwarm)\n",
    "ageVariable.data[np.where(ageEval == 0)] = 0 #If below the critical depth, age is set to zero\n",
    "ageVariable.data[np.where(ageEval != 0)] += ageDT #If age above critical depth, increment age\n",
    "\n",
    "np.unique(ageVariable.data)"
   ]
  },
  {
   "cell_type": "markdown",
   "metadata": {
    "collapsed": false
   },
   "source": [
    "Swarm control (material graph)\n",
    "-----\n",
    "\n"
   ]
  },
  {
   "cell_type": "code",
   "execution_count": 31,
   "metadata": {
    "collapsed": false
   },
   "outputs": [],
   "source": [
    "##############\n",
    "#Here we set up a directed graph object that we we use to control the transformation from one material type to another\n",
    "##############\n",
    "\n",
    "#All depth conditions are given as (km/D) where D is the length scale,\n",
    "#note that 'model depths' are used, e.g. 1-z, where z is the vertical Underworld coordinate\n",
    "#All temp conditions are in dimensionless temp. [0. - 1.]\n",
    "\n",
    "#Need a list of all material indexes (safer in parallel)\n",
    "material_list = [0,1,2,3]\n",
    "\n",
    "if not checkpointLoad:\n",
    "    materialVariable.data[:] = 0 #Initialize to zero \n",
    "\n",
    "#Setup the graph object\n",
    "DG = material_graph.MatGraph()\n",
    "\n",
    "#Important: First thing to do is to add all the material types to the graph (i.e add nodes)\n",
    "DG.add_nodes_from(material_list)\n",
    "\n",
    "#Now set the conditions for transformations\n",
    "\n",
    "hs = 2e3/dp.LS  #add some hysteresis to the depths of transition\n",
    "\n",
    "#... to mantle\n",
    "DG.add_transition((crustIndex,mantleIndex), depthFn, operator.gt, CRUSTTOMANTLE + hs)\n",
    "DG.add_transition((harzIndex,mantleIndex), depthFn, operator.gt, CRUSTTOMANTLE + hs)\n",
    "DG.add_transition((airIndex,mantleIndex), depthFn, operator.gt, TOPOHEIGHT + hs)\n",
    "\n",
    "#... to crust\n",
    "DG.add_transition((mantleIndex,crustIndex), depthFn, operator.lt, MANTLETOCRUST - hs)\n",
    "DG.add_transition((mantleIndex,crustIndex), xFn, operator.lt, 0. + 7.*MANTLETOCRUST) #No crust on the upper plate\n",
    "DG.add_transition((mantleIndex,crustIndex), ageVariable, operator.gt, crustageCond)\n",
    "\n",
    "\n",
    "DG.add_transition((harzIndex,crustIndex), depthFn, operator.lt, MANTLETOCRUST - hs)\n",
    "DG.add_transition((harzIndex,crustIndex), xFn, operator.lt, 0. + 7.*MANTLETOCRUST) #This one sets no crust on the upper plate\n",
    "DG.add_transition((harzIndex,crustIndex), ageVariable, operator.gt, crustageCond)\n",
    "\n",
    "#... to Harzbugite\n",
    "DG.add_transition((mantleIndex,harzIndex), depthFn, operator.lt, HARZBURGDEPTH - hs)\n",
    "DG.add_transition((mantleIndex,harzIndex), depthFn, operator.gt, MANTLETOCRUST + hs)\n",
    "DG.add_transition((mantleIndex,harzIndex), ageVariable, operator.gt, crustageCond) #Note we can mix functions and swarm variabls\n",
    "\n",
    "#... to air\n",
    "DG.add_transition((mantleIndex,airIndex), depthFn, operator.lt,0. - TOPOHEIGHT)\n",
    "DG.add_transition((crustIndex,airIndex), depthFn, operator.lt, 0. - TOPOHEIGHT)\n"
   ]
  },
  {
   "cell_type": "code",
   "execution_count": 32,
   "metadata": {
    "collapsed": false
   },
   "outputs": [
    {
     "data": {
      "text/plain": [
       "[0, 1, 2, 3]"
      ]
     },
     "execution_count": 32,
     "metadata": {},
     "output_type": "execute_result"
    }
   ],
   "source": [
    "DG.nodes()"
   ]
  },
  {
   "cell_type": "code",
   "execution_count": 33,
   "metadata": {
    "collapsed": false
   },
   "outputs": [
    {
     "data": {
      "text/plain": [
       "(0.4, 0.01885, 0.035)"
      ]
     },
     "execution_count": 33,
     "metadata": {},
     "output_type": "execute_result"
    }
   ],
   "source": [
    "CRUSTTOMANTLE, HARZBURGDEPTH, 0. + 7.*MANTLETOCRUST"
   ]
  },
  {
   "cell_type": "code",
   "execution_count": 34,
   "metadata": {
    "collapsed": false
   },
   "outputs": [],
   "source": [
    "##############\n",
    "#For the slab_IC, we'll also add a crustal weak zone following the dipping perturbation\n",
    "##############\n",
    "\n",
    "if checkpointLoad != True:\n",
    "    if not symmetricIC:\n",
    "        for particleID in range(gSwarm.particleCoordinates.data.shape[0]):\n",
    "            if (\n",
    "                Cc.evaluate(list(gSwarm.particleCoordinates.data[particleID])) and\n",
    "                Tri.evaluate(list(gSwarm.particleCoordinates.data[particleID])) and\n",
    "                Oc.evaluate(list(gSwarm.particleCoordinates.data[particleID])) == False\n",
    "                ):\n",
    "                materialVariable.data[particleID] = crustIndex"
   ]
  },
  {
   "cell_type": "code",
   "execution_count": 35,
   "metadata": {
    "collapsed": false
   },
   "outputs": [],
   "source": [
    "##############\n",
    "#This is how we use the material graph object to test / apply material transformations\n",
    "##############\n",
    "DG.build_condition_list(materialVariable)\n",
    "\n",
    "for i in range(4): #Need to go through a number of times\n",
    "    materialVariable.data[:] = fn.branching.conditional(DG.condition_list).evaluate(gSwarm)"
   ]
  },
  {
   "cell_type": "code",
   "execution_count": 36,
   "metadata": {
    "collapsed": false
   },
   "outputs": [
    {
     "data": {
      "text/html": [
       "<img src='data:image/png;base64,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'>"
      ],
      "text/plain": [
       "<IPython.core.display.HTML object>"
      ]
     },
     "metadata": {},
     "output_type": "display_data"
    },
    {
     "data": {
      "text/plain": [
       "'test.gldb'"
      ]
     },
     "execution_count": 36,
     "metadata": {},
     "output_type": "execute_result"
    }
   ],
   "source": [
    "fig= glucifer.Figure()\n",
    "fig.append( glucifer.objects.Points(gSwarm,materialVariable))\n",
    "\n",
    "\n",
    "fig.show()\n",
    "fig.save_database('test.gldb')"
   ]
  },
  {
   "cell_type": "markdown",
   "metadata": {
    "collapsed": false
   },
   "source": [
    "## phase and compositional buoyancy"
   ]
  },
  {
   "cell_type": "code",
   "execution_count": null,
   "metadata": {
    "collapsed": false
   },
   "outputs": [],
   "source": [
    "##############\n",
    "#Set up phase buoyancy contributions\n",
    "#the phase function approach of Yuen and Christenson is implemented in the Slippy2 phase_function class \n",
    "##############\n",
    "\n",
    "\n",
    "#olivine\n",
    "olivinePhase = phase_function.component_phases(name = 'ol', \n",
    "                        depths=[410e3,660e3], #depths of phase transitions along adiabat\n",
    "                        temps = [1600., 1900.], #temperatures of phase transitions along adiabat\n",
    "                        widths = [20e3, 20e3], #width if transition\n",
    "                        claps=[2.e6, -2.5e6],  #Clapeyron slope of trnasition\n",
    "                        densities = [180., 400.]) #density change of phase transition\n",
    "\n",
    "olivinePhase.build_nd_dict(dp.LS, dp.rho, dp.g, dp.deltaTa)\n",
    "\n",
    "\n",
    "rp = olivinePhase.nd_reduced_pressure(depthFn, \n",
    "                                   temperatureField,\n",
    "                                   olivinePhase.ndp['depths'][0],\n",
    "                                   olivinePhase.ndp['claps'][0],\n",
    "                                   olivinePhase.ndp['temps'][0])\n",
    "\n",
    "#ph_410 = olivinePhase.nd_phase(rp, test.ndp['widths'][0])\n",
    "#pf_sum = test.phase_function_sum(temperatureField, depthFn)\n",
    "\n",
    "olivine_phase_buoyancy = olivinePhase.buoyancy_sum(temperatureField, depthFn, dp.g, dp.LS, dp.k, dp.eta0)\n",
    "\n",
    "#garnet\n",
    "garnetPhase = phase_function.component_phases(name = 'grt', \n",
    "                        depths=[60e3,400e3, 720e3],\n",
    "                        temps = [1000., 1600., 1900.], \n",
    "                        widths = [20e3, 20e3, 20e3], \n",
    "                        claps=[0.e6, 1.e6, 1.e6], \n",
    "                        densities = [350., 150., 400.])\n",
    "\n",
    "garnetPhase.build_nd_dict(dp.LS, dp.rho, dp.g, dp.deltaTa)\n",
    "\n",
    "\n",
    "rp = garnetPhase.nd_reduced_pressure(depthFn, \n",
    "                                   temperatureField,\n",
    "                                   garnetPhase.ndp['depths'][0],\n",
    "                                   garnetPhase.ndp['claps'][0],\n",
    "                                   garnetPhase.ndp['temps'][0])\n",
    "\n",
    "#ph_410 = olivinePhase.nd_phase(rp, test.ndp['widths'][0])\n",
    "#pf_sum = test.phase_function_sum(temperatureField, depthFn)\n",
    "\n",
    "garnet_phase_buoyancy = garnetPhase.buoyancy_sum(temperatureField, depthFn, dp.g, dp.LS, dp.k, dp.eta0)"
   ]
  },
  {
   "cell_type": "code",
   "execution_count": null,
   "metadata": {
    "collapsed": false
   },
   "outputs": [],
   "source": []
  },
  {
   "cell_type": "code",
   "execution_count": null,
   "metadata": {
    "collapsed": false
   },
   "outputs": [],
   "source": [
    "##############\n",
    "#Set up compositional buoyancy contributions\n",
    "##############\n",
    "\n",
    "bouyancy_factor = (dp.g*dp.LS**3)/(dp.eta0*dp.k)\n",
    "\n",
    "basalt_comp_buoyancy  = (dp.rho - 2940.)*bouyancy_factor\n",
    "harz_comp_buoyancy = (dp.rho - 3235.)*bouyancy_factor\n",
    "pyrolite_comp_buoyancy = (dp.rho - 3300.)*bouyancy_factor\n",
    "\n",
    "#print(basalt_comp_buoyancy, harz_comp_buoyancy, pyrolite_comp_buoyancy)\n",
    "\n",
    "\n",
    "#this function accounts for the decrease in expansivity, and acts to reduce the rayleigh number with depth\n",
    "alphaRatio = 1.2/3\n",
    "taFn = 1. - (depthFn)*(1. - alphaRatio) \n",
    "\n",
    "\n",
    "if not compBuoyancy:\n",
    "    pyrolitebuoyancyFn =  (ndp.RA*temperatureField*taFn)\n",
    "    harzbuoyancyFn =      (ndp.RA*temperatureField*taFn) \n",
    "    basaltbuoyancyFn =    (ndp.RA*temperatureField*taFn)\n",
    "\n",
    "else : \n",
    "    pyrolitebuoyancyFn =  (ndp.RA*temperatureField*taFn) -\\\n",
    "                          (0.6*olivine_phase_buoyancy + 0.4*garnet_phase_buoyancy) +\\\n",
    "                           pyrolite_comp_buoyancy\n",
    "    harzbuoyancyFn =      (ndp.RA*temperatureField*taFn) -\\\n",
    "                          (0.8*olivine_phase_buoyancy + 0.2*garnet_phase_buoyancy) +\\\n",
    "                           harz_comp_buoyancy\n",
    "    basaltbuoyancyFn =    (ndp.RA*temperatureField*taFn) -\\\n",
    "                          (1.*garnet_phase_buoyancy) +\\\n",
    "                           basalt_comp_buoyancy"
   ]
  },
  {
   "cell_type": "code",
   "execution_count": null,
   "metadata": {
    "collapsed": false
   },
   "outputs": [],
   "source": []
  },
  {
   "cell_type": "markdown",
   "metadata": {},
   "source": [
    "Rheology\n",
    "-----\n",
    "\n"
   ]
  },
  {
   "cell_type": "code",
   "execution_count": null,
   "metadata": {
    "collapsed": false
   },
   "outputs": [],
   "source": [
    "##############\n",
    "#Set up any functions required by the rheology\n",
    "##############\n",
    "strainRate_2ndInvariant = fn.tensor.second_invariant( \n",
    "                            fn.tensor.symmetric( \n",
    "                            velocityField.fn_gradient ))\n",
    "\n",
    "def safe_visc(func, viscmin=ndp.eta_min, viscmax=ndp.eta_max):\n",
    "    return fn.misc.max(viscmin, fn.misc.min(viscmax, func))"
   ]
  },
  {
   "cell_type": "code",
   "execution_count": null,
   "metadata": {
    "collapsed": false
   },
   "outputs": [],
   "source": [
    "##############\n",
    "#Get dimensional viscosity values at reference values of temp, pressure, and strain rate\n",
    "##############\n",
    "dp.rPressure  = (-1./dp.Ba)*(np.log(1.-dp.rho*dp.g*dp.Ba*dp.rDepth))\n",
    "rDf = (1./dp.Adf)*np.exp( ((dp.Edf + dp.Vdf*dp.rPressure))/((dp.R*dp.rTemp)))\n",
    "rDs = (1./dp.Ads**(1./ndp.n))*(dp.SR**((1.-ndp.n)/ndp.n))*np.exp( ((dp.Eds + dp.Vds*dp.rPressure))/((ndp.n*dp.R*dp.rTemp)))\n",
    "rPr = (1./dp.Apr**(1./ndp.np))*(dp.SR**((1.-ndp.np)/ndp.np))*np.exp( ((dp.Epr + dp.Vpr*dp.rPressure))/((ndp.np*dp.R*dp.rTemp)))\n",
    "\n",
    "dsfac = rDs/dp.eta0\n",
    "dffac = rDf/dp.eta0\n",
    "prfac = rPr/dp.eta0"
   ]
  },
  {
   "cell_type": "code",
   "execution_count": null,
   "metadata": {
    "collapsed": false
   },
   "outputs": [],
   "source": [
    "print(dsfac, dffac, prfac)"
   ]
  },
  {
   "cell_type": "code",
   "execution_count": null,
   "metadata": {
    "collapsed": false
   },
   "outputs": [],
   "source": [
    "#These guys are required because we are approximating compressibility in the pressure term for the flow law,\n",
    "#See 'non_linear_rheology' Notebook for more details\n",
    "\n",
    "corrDepthFn = fn.math.log(1. - dp.rho*dp.g*dp.Ba*dp.LS*depthFn)/np.log(1. - dp.rho*dp.g*dp.Ba*dp.LS)\n",
    "correctrDepth = np.log(1. - dp.rho*dp.g*dp.Ba*dp.LS*ndp.rDepth)/np.log(1. - dp.rho*dp.g*dp.Ba*dp.LS)\n",
    "\n",
    "ndp.rDepth*dp.LS, correctrDepth*dp.LS"
   ]
  },
  {
   "cell_type": "code",
   "execution_count": null,
   "metadata": {
    "collapsed": false
   },
   "outputs": [],
   "source": [
    "############\n",
    "#Rheology: create UW2 functions for all viscous mechanisms\n",
    "#############\n",
    "\n",
    "omega = fn.misc.constant(1.) #this function can hold any arbitary viscosity modifications \n",
    "\n",
    "\n",
    "##Diffusion Creep\n",
    "diffusion = dffac*fn.math.exp( ((ndp.Edf + (corrDepthFn*ndp.Wdf))/((temperatureField + ndp.TS))) - \n",
    "              ((ndp.Edf + (correctrDepth*ndp.Wdf))/((ndp.rTemp + ndp.TS)))  ) \n",
    "\n",
    "linearVisc = safe_visc(diffusion)\n",
    "\n",
    "##Dislocation Creep\n",
    "nl_correction = (strainRate_2ndInvariant/ndp.SR)**((1.-ndp.n)/(ndp.n))\n",
    "dislocation = dsfac*(nl_correction)*fn.math.exp( ((ndp.Eds + (corrDepthFn*ndp.Wds))/(ndp.n*(temperatureField + ndp.TS))) -\n",
    "                                     ((ndp.Eds + (correctrDepth*ndp.Wds))/(ndp.n*(ndp.rTemp + ndp.TS))))\n",
    "\n",
    "\n",
    "\n",
    "##Peirls Creep\n",
    "nl_correction = (strainRate_2ndInvariant/ndp.SR)**((1.-ndp.np)/(ndp.np))\n",
    "peierls = prfac*(nl_correction)*fn.math.exp( ((ndp.Eps + (corrDepthFn*ndp.Wps))/(ndp.n*(temperatureField + ndp.TS))) -\n",
    "                                     ((ndp.Eps + (correctrDepth*ndp.Wps))/(ndp.np*(ndp.rTemp + ndp.TS))))\n",
    "\n",
    "\n",
    "##Define the Plasticity\n",
    "ys =  ndp.cohesion + (depthFn*ndp.fcd)\n",
    "ysMax = 10e4*1e6*sf.stress\n",
    "ysf = fn.misc.min(ys, ysMax)\n",
    "yielding = safe_visc(ysf/(strainRate_2ndInvariant))\n",
    "\n",
    "\n",
    "\n",
    "##Crust rheology\n",
    "crustys =  ndp.cohesion + (depthFn*ndp.fcd*0.1)\n",
    "crustyielding = crustys/(strainRate_2ndInvariant) #extra factor to account for underworld second invariant form\n"
   ]
  },
  {
   "cell_type": "code",
   "execution_count": null,
   "metadata": {
    "collapsed": false
   },
   "outputs": [],
   "source": [
    "############\n",
    "#Rheology: combine viscous mechanisms in various ways \n",
    "#harmonic: harmonic average of all mechanims\n",
    "#min: minimum effective viscosity of the mechanims\n",
    "#mixed: takes the minimum of the harmonic and the plastic effective viscosity\n",
    "#############\n",
    "\n",
    "#Map viscMechs list (defined in setup), to the actual functions, requires that same names are used.\n",
    "viscdict = {}\n",
    "for i in viscMechs:\n",
    "    viscdict[i] = locals()[i]\n",
    "\n",
    "#Condition for weak crust rheology to be active\n",
    "interfaceCond = operator.and_((depthFn < CRUSTVISCUTOFF), (depthFn > MANTLETOCRUST))    \n",
    "    \n",
    "#Harmonic average of all mechanisms    \n",
    "if viscCombine == 'harmonic':\n",
    "    denom = fn.misc.constant(0.)\n",
    "    for mech in viscdict.values():\n",
    "        denom += 1./mech\n",
    "    mantleviscosityFn = safe_visc(1./denom)\n",
    "    harmonic_test = mantleviscosityFn\n",
    "    lowMantleViscFac = 10.\n",
    "    #Only diffusuion creep for lower mantle\n",
    "    finalviscosityFn  = fn.branching.conditional([(depthFn < LOWMANTLEDEPTH, mantleviscosityFn),\n",
    "                                  (True, safe_visc(diffusion*lowMantleViscFac))])\n",
    "    \n",
    "    #Add the weaker crust mechanism, plus any cutoffs\n",
    "    crust_denom = denom + (1./crustyielding)\n",
    "    crustviscosityFn1 = safe_visc(1./crust_denom, viscmin=ndp.eta_min, viscmax=ndp.eta_max)\n",
    "    crustviscosityFn2 = safe_visc(1./crust_denom, viscmin=ndp.eta_min, viscmax=ndp.eta_max_crust)\n",
    "    #Crust viscosity only active above between CRUSTVISCUTOFF and MANTLETOCRUST\n",
    "    finalcrustviscosityFn  = fn.branching.conditional([(depthFn < MANTLETOCRUST, crustviscosityFn2),\n",
    "                                                     (interfaceCond, crustviscosityFn2), #\n",
    "                                                     (True, finalviscosityFn)])\n",
    "\n",
    "    \n",
    "    \n",
    "if viscCombine == 'min':\n",
    "    mantleviscosityFn = fn.misc.constant(ndp.eta_max)\n",
    "    for mech in viscdict.values():\n",
    "        mantleviscosityFn = fn.misc.min(mech, mantleviscosityFn )\n",
    "    mantleviscosityFn = safe_visc(mantleviscosityFn)\n",
    "    min_test = mantleviscosityFn\n",
    "    #Only diffusion creep for lower mantle\n",
    "    finalviscosityFn  = fn.branching.conditional([(depthFn < LOWMANTLEDEPTH, mantleviscosityFn),\n",
    "                                  (True, safe_visc(diffusion*lowMantleViscFac))])\n",
    "    #Add the weaker crust mechanism, plus any cutoffs\n",
    "    crustviscosityFn1 = safe_visc(fn.misc.min(finalviscosityFn, crustyielding), viscmin=ndp.eta_min, viscmax=ndp.eta_max)\n",
    "    crustviscosityFn2 = safe_visc(fn.misc.min(finalviscosityFn, crustyielding), viscmin=ndp.eta_min, viscmax=ndp.eta_max_crust)\n",
    "    #Crust viscosity only active above CRUSTVISCUTOFF\n",
    "    #Crust viscosity only active above between CRUSTVISCUTOFF and MANTLETOCRUST\n",
    "    finalcrustviscosityFn  = fn.branching.conditional([(depthFn < MANTLETOCRUST, crustviscosityFn1),\n",
    "                                                     (interfaceCond, crustviscosityFn2), #\n",
    "                                                     (True, finalviscosityFn)])\n",
    "\n",
    "if viscCombine == 'mixed':\n",
    "    denom = fn.misc.constant(0.)\n",
    "    for mech in viscdict.values():\n",
    "        denom += 1./mech\n",
    "    mantleviscosityFn = safe_visc(fn.misc.min(yielding, (1./denom))) #min of harmonic average and yielding\n",
    "    mixed_test = mantleviscosityFn\n",
    "    lowMantleViscFac = 10.\n",
    "    #Only diffusuion creep for lower mantle\n",
    "    finalviscosityFn  = fn.branching.conditional([(depthFn < LOWMANTLEDEPTH, mantleviscosityFn),\n",
    "                                  (True, safe_visc(diffusion*lowMantleViscFac))])\n",
    "    \n",
    "    #Add the weaker crust mechanism, plus any cutoffs\n",
    "    crust_denom = denom + (1./crustyielding)\n",
    "    crustviscosityFn1 = safe_visc(fn.misc.min(crustyielding,1./crust_denom), viscmin=ndp.eta_min, viscmax=ndp.eta_max)\n",
    "    crustviscosityFn2 = safe_visc(fn.misc.min(crustyielding,1./crust_denom), viscmin=ndp.eta_min, viscmax=ndp.eta_max_crust)\n",
    "    #Crust viscosity only active above between CRUSTVISCUTOFF and MANTLETOCRUST\n",
    "    finalcrustviscosityFn  = fn.branching.conditional([(depthFn < MANTLETOCRUST, crustviscosityFn1),\n",
    "                                                     (interfaceCond, crustviscosityFn2), #\n",
    "                                                     (True, finalviscosityFn)])\n",
    "    \n",
    "    \n",
    "    \n",
    "#viscdict.keys(), viscdict.values()\n",
    "\n",
    "#Combine the viscous creep and plasticity\n",
    "#mantleviscosityFn0 = safe_visc(1./(((1./diffusion) + (1./dislocation) + (1./peierls)   + (1./yielding))))\n",
    "\n",
    "#lowMantleDepth = 660e3\n",
    "\n",
    "#crustviscosityFn = safe_visc(1./(((1./diffusion) + (1./dislocation) + (1./peierls) + (1./crustyielding))), viscmin=ndp.eta_min, viscmax=0.6)\n",
    "\n"
   ]
  },
  {
   "cell_type": "code",
   "execution_count": null,
   "metadata": {
    "collapsed": false
   },
   "outputs": [],
   "source": [
    "#viscCombine = 'mixed'\n",
    "#viscCombine\n",
    "#ndp.eta_max_crust"
   ]
  },
  {
   "cell_type": "code",
   "execution_count": null,
   "metadata": {
    "collapsed": false
   },
   "outputs": [],
   "source": [
    "fig= glucifer.Figure()\n",
    "#fig.append( glucifer.objects.Points(gSwarm, densityMapFn))\n",
    "fig.append( glucifer.objects.Surface(mesh, mantleviscosityFn, logScale=True))\n",
    "#fig.append( glucifer.objects.Surface(mesh, corrDepthFn - depthFn))\n",
    "\n",
    "#fig.show()"
   ]
  },
  {
   "cell_type": "code",
   "execution_count": null,
   "metadata": {
    "collapsed": false
   },
   "outputs": [],
   "source": [
    "############\n",
    "#Build a weak zone\n",
    "#############\n",
    "\n",
    "\n",
    "def disGen(centre):\n",
    "    coord = fn.input()\n",
    "    offsetFn = coord - centre\n",
    "    return fn.math.sqrt(fn.math.dot( offsetFn, offsetFn ))\n",
    "\n",
    "depth = 200.e3 #m\n",
    "angle = 20. #degrees\n",
    "num_circles = 50\n",
    "half_width = 5e3 #m\n",
    "\n",
    "\n",
    "xpos = depth/math.tan((angle*math.pi/180.))\n",
    "start = (0.075, 1.)\n",
    "end = (start[0] +xpos/dp.LS , start[1] - depth/dp.LS)\n",
    "xar = np.linspace(start[0], end[0], num_circles)\n",
    "yar = np.linspace(start[1], end[1], num_circles)\n",
    "fnBuilder = fn.misc.constant(1000.)\n",
    "for i in range(num_circles):\n",
    "    circ_dist = disGen((xar[i], yar[i]))\n",
    "    fnBuilder = fn.misc.min(circ_dist, fnBuilder)\n",
    "    \n",
    "sig = half_width/dp.LS\n",
    "gammaFn =  fn.math.exp(-fn.math.pow(fnBuilder, 2.) / (2. * fn.math.pow(sig, 2.)))"
   ]
  },
  {
   "cell_type": "code",
   "execution_count": null,
   "metadata": {
    "collapsed": false
   },
   "outputs": [],
   "source": [
    "testFn = disGen((0., 1.))"
   ]
  },
  {
   "cell_type": "code",
   "execution_count": null,
   "metadata": {
    "collapsed": true
   },
   "outputs": [],
   "source": [
    "weakVisc = 1.\n",
    "weakzoneFn = fn.misc.min((weakVisc/gammaFn*1.),ndp.eta_max)\n",
    "combmantleviscosityFn = fn.misc.max(ndp.eta_min, fn.misc.min(mantleviscosityFn, weakzoneFn))\n",
    "\n"
   ]
  },
  {
   "cell_type": "code",
   "execution_count": null,
   "metadata": {
    "collapsed": true
   },
   "outputs": [],
   "source": [
    "\n",
    "    "
   ]
  },
  {
   "cell_type": "code",
   "execution_count": null,
   "metadata": {
    "collapsed": false
   },
   "outputs": [],
   "source": [
    "#velocityField.data.max()"
   ]
  },
  {
   "cell_type": "markdown",
   "metadata": {},
   "source": [
    "import matplotlib.pylab as pyplt\n",
    "%matplotlib inline\n",
    "\n",
    "\n",
    "\n",
    "##################\n",
    "#Output functions to numpy vertical averages, maxes, mins\n",
    "##################\n",
    "\n",
    "viscmapFnmesh = uw.mesh.MeshVariable(mesh,nodeDofCount=1)\n",
    "out = uw.utils.MeshVariable_Projection( viscmapFnmesh, viscosityMapFn)\n",
    "out.solve()\n",
    "\n",
    "\n",
    "#avDf = ndfp.evaluate(mesh).reshape(mesh.elementRes[1] + 1, mesh.elementRes[0] + 1).mean(axis=1)\n",
    "avDs = ndsp.evaluate(mesh).reshape(mesh.elementRes[1] + 1, mesh.elementRes[0] + 1).mean(axis=1)\n",
    "umantle = mantleviscosityFn.evaluate(mesh).reshape(mesh.elementRes[1] + 1, mesh.elementRes[0] + 1).mean(axis=1)\n",
    "lmantle = lowermantleviscosityFn.evaluate(mesh).reshape(mesh.elementRes[1] + 1, mesh.elementRes[0] + 1).mean(axis=1)\n",
    "eff = viscmapFnmesh.evaluate(mesh).reshape(mesh.elementRes[1] + 1, mesh.elementRes[0] + 1).mean(axis=1)\n",
    "\n",
    "effMin = viscmapFnmesh.evaluate(mesh).reshape(mesh.elementRes[1] + 1, mesh.elementRes[0] + 1).min(axis=1)\n",
    "effMax = viscmapFnmesh.evaluate(mesh).reshape(mesh.elementRes[1] + 1, mesh.elementRes[0] + 1).max(axis=1)\n",
    "\n",
    "###################\n",
    "#Plot\n",
    "###################\n",
    "import matplotlib.pylab as pyplt\n",
    "%matplotlib inline\n",
    "\n",
    "fig, ax = pyplt.subplots()\n",
    "#ax .plot(avDf, label = 'diff')\n",
    "#ax .plot(avDs, label = 'dis')\n",
    "ax .plot(eff, label = 'eff')\n",
    "ax .plot(effMax, label = 'effMax')\n",
    "ax .plot(effMin, label = 'effMin')\n",
    "#ax .plot(umantle, label = 'uman')\n",
    "#ax .plot(lmantle, label = 'lman')\n",
    "ax.set_yscale(\"log\", nonposy='clip')\n",
    "ax.legend(loc = 3)"
   ]
  },
  {
   "cell_type": "code",
   "execution_count": null,
   "metadata": {
    "collapsed": false,
    "scrolled": true
   },
   "outputs": [],
   "source": [
    "#fig= glucifer.Figure()\n",
    "#fig.append( glucifer.objects.Points(gSwarm,materialVariable))\n",
    "#fig.append( glucifer.objects.Points(gSwarm,viscosityMapFn, logScale=True))\n",
    "#fig.append( glucifer.objects.Surface(mesh, ndfp, logScale=True))\n",
    "\n",
    "#fig.append( glucifer.objects.Surface(mesh,mantleviscosityFn, logScale=True))\n",
    "#fig.show()\n",
    "#fig.save_database('test.gldb')"
   ]
  },
  {
   "cell_type": "code",
   "execution_count": null,
   "metadata": {
    "collapsed": false
   },
   "outputs": [],
   "source": [
    "#ndp.SR"
   ]
  },
  {
   "cell_type": "code",
   "execution_count": null,
   "metadata": {
    "collapsed": false
   },
   "outputs": [],
   "source": []
  },
  {
   "cell_type": "markdown",
   "metadata": {},
   "source": [
    "Stokes system setup\n",
    "-----\n"
   ]
  },
  {
   "cell_type": "code",
   "execution_count": null,
   "metadata": {
    "collapsed": false
   },
   "outputs": [],
   "source": [
    "densityMapFn = fn.branching.map( fn_key = materialVariable,\n",
    "                         mapping = {airIndex:ndp.StRA,\n",
    "                                    crustIndex:basaltbuoyancyFn, \n",
    "                                    mantleIndex:pyrolitebuoyancyFn,\n",
    "                                    harzIndex:harzbuoyancyFn} )"
   ]
  },
  {
   "cell_type": "code",
   "execution_count": null,
   "metadata": {
    "collapsed": true
   },
   "outputs": [],
   "source": [
    "\n",
    "# Define our vertical unit vector using a python tuple (this will be automatically converted to a function).\n",
    "gravity = ( 0.0, 1.0 )\n",
    "\n",
    "# Now create a buoyancy force vector using the density and the vertical unit vector. \n",
    "buoyancyFn = densityMapFn * gravity"
   ]
  },
  {
   "cell_type": "code",
   "execution_count": null,
   "metadata": {
    "collapsed": true
   },
   "outputs": [],
   "source": [
    "stokesPIC = uw.systems.Stokes(velocityField=velocityField, \n",
    "                              pressureField=pressureField,\n",
    "                              conditions=[freeslipBC,],\n",
    "                              fn_viscosity=linearVisc, \n",
    "                              fn_bodyforce=buoyancyFn )"
   ]
  },
  {
   "cell_type": "code",
   "execution_count": null,
   "metadata": {
    "collapsed": true
   },
   "outputs": [],
   "source": [
    "solver = uw.systems.Solver(stokesPIC)\n",
    "if not checkpointLoad:\n",
    "    solver.solve() #A solve on the linear visocisty is unhelpful unless we're starting from scratch"
   ]
  },
  {
   "cell_type": "code",
   "execution_count": null,
   "metadata": {
    "collapsed": false
   },
   "outputs": [],
   "source": [
    "fig= glucifer.Figure()\n",
    "#fig.append( glucifer.objects.Points(gSwarm,tracerVariable, colours= 'white black'))\n",
    "#fig.append( glucifer.objects.Points(gSwarm,materialVariable))\n",
    "#fig.append( glucifer.objects.Surface(mesh, finalviscosityFn, logScale=True))\n",
    "\n",
    "#fig.append( glucifer.objects.Surface(mesh, strainRate_2ndInvariant/ndp.SR, logScale=True))\n",
    "#fig.show()\n",
    "#fig.save_database('test.gldb')"
   ]
  },
  {
   "cell_type": "code",
   "execution_count": null,
   "metadata": {
    "collapsed": false
   },
   "outputs": [],
   "source": [
    "if WeakZone:\n",
    "    print(1)\n",
    "    viscosityMapFn = fn.branching.map( fn_key = materialVariable,\n",
    "                         mapping = {crustIndex:combmantleviscosityFn,\n",
    "                                    mantleIndex:combmantleviscosityFn,\n",
    "                                    harzIndex:combmantleviscosityFn} )\n",
    "else: #Use weak crust\n",
    "    print(2)\n",
    "    viscosityMapFn = fn.branching.map( fn_key = materialVariable,\n",
    "                         mapping = {crustIndex:finalcrustviscosityFn,\n",
    "                                    mantleIndex:finalviscosityFn,\n",
    "                                    harzIndex:finalviscosityFn} )\n",
    "\n"
   ]
  },
  {
   "cell_type": "code",
   "execution_count": null,
   "metadata": {
    "collapsed": false
   },
   "outputs": [],
   "source": []
  },
  {
   "cell_type": "code",
   "execution_count": null,
   "metadata": {
    "collapsed": false
   },
   "outputs": [],
   "source": []
  },
  {
   "cell_type": "code",
   "execution_count": null,
   "metadata": {
    "collapsed": true
   },
   "outputs": [],
   "source": []
  },
  {
   "cell_type": "code",
   "execution_count": null,
   "metadata": {
    "collapsed": true
   },
   "outputs": [],
   "source": [
    "#Add the non-linear viscosity to the Stokes system\n",
    "stokesPIC.fn_viscosity = viscosityMapFn"
   ]
  },
  {
   "cell_type": "code",
   "execution_count": null,
   "metadata": {
    "collapsed": false
   },
   "outputs": [],
   "source": [
    "solver.set_inner_method(\"mumps\")\n",
    "solver.options.scr.ksp_type=\"cg\"\n",
    "solver.set_penalty(1.0e7)\n",
    "solver.options.scr.ksp_rtol = 1.0e-4\n",
    "solver.solve(nonLinearIterate=True)\n",
    "solver.print_stats()"
   ]
  },
  {
   "cell_type": "code",
   "execution_count": null,
   "metadata": {
    "collapsed": true
   },
   "outputs": [],
   "source": []
  },
  {
   "cell_type": "code",
   "execution_count": null,
   "metadata": {
    "collapsed": false
   },
   "outputs": [],
   "source": [
    "#Check which particles are yielding\n",
    "#yieldingCheck.data[:] = 0\n",
    "\n",
    "#yieldconditions = [ ( mantleviscosityFn < Visc , 1), \n",
    "#               ( True                                           , 0) ]\n",
    "\n",
    "# use the branching conditional function to set each particle's index\n",
    "#yieldingCheck.data[:] = fn.branching.conditional( yieldconditions ).evaluate(gSwarm)"
   ]
  },
  {
   "cell_type": "code",
   "execution_count": null,
   "metadata": {
    "collapsed": false,
    "scrolled": true
   },
   "outputs": [],
   "source": [
    "#fig= glucifer.Figure()\n",
    "#fig.append( glucifer.objects.Points(gSwarm,yieldingCheck))\n",
    "\n",
    "#fig.append( glucifer.objects.Surface(mesh,ndflm, logScale=True))\n",
    "#fig.show()"
   ]
  },
  {
   "cell_type": "markdown",
   "metadata": {},
   "source": [
    "Advection-diffusion System setup\n",
    "-----"
   ]
  },
  {
   "cell_type": "code",
   "execution_count": null,
   "metadata": {
    "collapsed": false
   },
   "outputs": [],
   "source": [
    "advDiff = uw.systems.AdvectionDiffusion( phiField       = temperatureField, \n",
    "                                         phiDotField    = temperatureDotField, \n",
    "                                         velocityField  = velocityField,\n",
    "                                         fn_sourceTerm    = 0.0,\n",
    "                                         fn_diffusivity = 1.0, \n",
    "                                         #conditions     = [neumannTempBC, dirichTempBC] )\n",
    "                                         conditions     = [ dirichTempBC] )\n",
    "\n",
    "passiveadvector = uw.systems.SwarmAdvector( swarm         = gSwarm, \n",
    "                                     velocityField = velocityField, \n",
    "                                     order         = 1)"
   ]
  },
  {
   "cell_type": "code",
   "execution_count": null,
   "metadata": {
    "collapsed": false
   },
   "outputs": [],
   "source": [
    "#I was playing around with a tailored diffusivity to target the slab\n",
    "\n",
    "#inCircleFnGenerator#Now build the perturbation part\n",
    "#def htan(centre, radius, widthPh, farVal = 0.01, fac = 10.):\n",
    "#    coord = fn.input()\n",
    "#    offsetFn = coord - centre\n",
    "#    dist = fn.math.sqrt(fn.math.dot( offsetFn, offsetFn ))\n",
    "    \n",
    "    \n",
    "#    return (((fn.math.tanh(((radius - dist))/widthPh) + 1.) /2.))*fac + farVal\n",
    "\n",
    "#tfun = htan((0.1, 0.9), 0.1, 0.1, 0.1)"
   ]
  },
  {
   "cell_type": "code",
   "execution_count": null,
   "metadata": {
    "collapsed": true
   },
   "outputs": [],
   "source": [
    "for index in mesh.specialSets[\"MinJ_VertexSet\"]:\n",
    "    temperatureField.data[index] = ndp.TBP\n",
    "for index in mesh.specialSets[\"MaxJ_VertexSet\"]:\n",
    "    temperatureField.data[index] = ndp.TSP"
   ]
  },
  {
   "cell_type": "code",
   "execution_count": null,
   "metadata": {
    "collapsed": false
   },
   "outputs": [],
   "source": [
    "velocityField.data.max()"
   ]
  },
  {
   "cell_type": "code",
   "execution_count": null,
   "metadata": {
    "collapsed": false
   },
   "outputs": [],
   "source": [
    "############\n",
    "#Slightly Diffuse the initial perturbation\n",
    "#############\n",
    "\n",
    "timetoDifffuse = 0.#Million years\n",
    "incrementtoDiffuse = 0.2 #Million years\n",
    "\n",
    "timetoDifffuse = (timetoDifffuse*1e6*(spery)/sf.SR).magnitude\n",
    "incrementtoDiffuse = (incrementtoDiffuse*1e6*(spery)/sf.SR).magnitude\n",
    "\n",
    "totAdt = 0.\n",
    "it = 0\n",
    "while totAdt < timetoDifffuse:\n",
    "    dtad = advDiff.get_max_dt()\n",
    "    print(\"step\") + str(it) \n",
    "    advDiff.integrate(incrementtoDiffuse)\n",
    "    totAdt += incrementtoDiffuse\n",
    "    it += 1\n",
    "    \n",
    "#Reset Boundary conds.   \n",
    "for index in mesh.specialSets[\"MinJ_VertexSet\"]:\n",
    "    temperatureField.data[index] = ndp.TBP\n",
    "for index in mesh.specialSets[\"MaxJ_VertexSet\"]:\n",
    "    temperatureField.data[index] = ndp.TSP\n",
    "    \n",
    "comm.Barrier()"
   ]
  },
  {
   "cell_type": "code",
   "execution_count": null,
   "metadata": {
    "collapsed": true
   },
   "outputs": [],
   "source": [
    "population_control = uw.swarm.PopulationControl(gSwarm,deleteThreshold=0.2,splitThreshold=1.,maxDeletions=3,maxSplits=0, aggressive=True, particlesPerCell=ppc)"
   ]
  },
  {
   "cell_type": "markdown",
   "metadata": {},
   "source": [
    "Analysis functions / routines\n",
    "-----"
   ]
  },
  {
   "cell_type": "code",
   "execution_count": null,
   "metadata": {
    "collapsed": true
   },
   "outputs": [],
   "source": [
    "#These are functions we can use to evuate integrals over restricted parts of the domain\n",
    "# For instance, we can exclude the thermal lithosphere from integrals\n",
    "\n",
    "def temprestrictionFn(lithval = 0.9):\n",
    "\n",
    "    tempMM = fn.view.min_max(temperatureField)\n",
    "    tempMM.evaluate(mesh)\n",
    "    TMAX = tempMM.max_global()\n",
    "    mantleconditions = [ (                                  temperatureField > lithval*TMAX, 1.),\n",
    "                   (                                                   True , 0.) ]\n",
    "\n",
    "\n",
    "    return fn.branching.conditional(mantleconditions)\n",
    "\n",
    "mantlerestrictFn = temprestrictionFn(lithval = 0.85)\n",
    "\n",
    "\n",
    "\n",
    "def platenessFn(val = 0.1):\n",
    "    normgradV = fn.math.abs(velocityField.fn_gradient[0]/fn.math.sqrt(velocityField[0]*velocityField[0])) #[du*/dx]/sqrt(u*u)\n",
    "\n",
    "\n",
    "\n",
    "    srconditions = [ (                                  normgradV < val, 1.),\n",
    "                   (                                                   True , 0.) ]\n",
    "\n",
    "\n",
    "    return fn.branching.conditional(srconditions)\n",
    "\n",
    "srrestrictFn = platenessFn(val = 0.1)"
   ]
  },
  {
   "cell_type": "code",
   "execution_count": null,
   "metadata": {
    "collapsed": true
   },
   "outputs": [],
   "source": []
  },
  {
   "cell_type": "code",
   "execution_count": null,
   "metadata": {
    "collapsed": false
   },
   "outputs": [],
   "source": [
    "#Setup volume integrals \n",
    "\n",
    "tempint = uw.utils.Integral( temperatureField, mesh )\n",
    "areaint = uw.utils.Integral( 1.,               mesh )\n",
    "\n",
    "v2int   = uw.utils.Integral( fn.math.dot(velocityField,velocityField), mesh )\n",
    "\n",
    "dwint   = uw.utils.Integral( temperatureField*velocityField[1], mesh )\n",
    "\n",
    "sinner = fn.math.dot( strainRate_2ndInvariant, strainRate_2ndInvariant )\n",
    "vdint = uw.utils.Integral( (2.*viscosityMapFn*sinner), mesh ) #Is it two or four here?\n",
    "\n",
    "mantleArea   = uw.utils.Integral( mantlerestrictFn, mesh )\n",
    "mantleTemp = uw.utils.Integral( temperatureField*mantlerestrictFn, mesh )\n",
    "mantleVisc = uw.utils.Integral( mantleviscosityFn*mantlerestrictFn, mesh )\n",
    "mantleVd = uw.utils.Integral( (2.*viscosityMapFn*sinner*mantlerestrictFn), mesh ) #these now work on MappingFunctions"
   ]
  },
  {
   "cell_type": "code",
   "execution_count": null,
   "metadata": {
    "collapsed": true
   },
   "outputs": [],
   "source": [
    "#Setup surface integrals\n",
    "\n",
    "rmsSurfInt = uw.utils.Integral( fn=velocityField[0]*velocityField[0], mesh=mesh, integrationType='Surface', \n",
    "                          surfaceIndexSet=mesh.specialSets[\"MaxJ_VertexSet\"])\n",
    "nuTop      = uw.utils.Integral( fn=temperatureField.fn_gradient[1],    mesh=mesh, integrationType='Surface', \n",
    "                          surfaceIndexSet=mesh.specialSets[\"MaxJ_VertexSet\"])\n",
    "nuBottom   = uw.utils.Integral( fn=temperatureField.fn_gradient[1],    mesh=mesh, integrationType='Surface', \n",
    "                          surfaceIndexSet=mesh.specialSets[\"MinJ_VertexSet\"])\n",
    "\n",
    "plateint  = uw.utils.Integral( fn=srrestrictFn, mesh=mesh, integrationType='Surface', #Integrate the plateness function\n",
    "                          surfaceIndexSet=mesh.specialSets[\"MaxJ_VertexSet\"]) \n",
    "\n",
    "surfint  = uw.utils.Integral( fn=1., mesh=mesh, integrationType='Surface',   #Surface length function (i.e. domain width)\n",
    "                          surfaceIndexSet=mesh.specialSets[\"MaxJ_VertexSet\"])"
   ]
  },
  {
   "cell_type": "code",
   "execution_count": null,
   "metadata": {
    "collapsed": true
   },
   "outputs": [],
   "source": [
    "#Define functions for the evaluation of integrals\n",
    "\n",
    "def basic_int(ourIntegral):           #This one just hands back the evaluated integral\n",
    "    return ourIntegral.evaluate()[0]\n",
    "\n",
    "def avg_temp():\n",
    "    return tempint.evaluate()[0]/areaint.evaluate()[0]\n",
    "\n",
    "def nusseltTB(temp_field, mesh):\n",
    "    return -nuTop.evaluate()[0], -nuBottom.evaluate()[0]\n",
    "\n",
    "def rms():\n",
    "    return math.sqrt(v2int.evaluate()[0]/areaint.evaluate()[0])\n",
    "\n",
    "def rms_surf():\n",
    "    return math.sqrt(rmsSurfInt.evaluate()[0])\n",
    "\n",
    "def max_vx_surf(velfield, mesh):\n",
    "    vuvelxfn = fn.view.min_max(velfield[0])\n",
    "    vuvelxfn.evaluate(mesh.specialSets[\"MaxJ_VertexSet\"])\n",
    "    return vuvelxfn.max_global()\n",
    "\n",
    "\n",
    "def visc_extr(viscfn):\n",
    "    vuviscfn = fn.view.min_max(viscfn)\n",
    "    vuviscfn.evaluate(mesh)\n",
    "    return vuviscfn.max_global(), vuviscfn.min_global()"
   ]
  },
  {
   "cell_type": "code",
   "execution_count": null,
   "metadata": {
    "collapsed": false
   },
   "outputs": [],
   "source": [
    "#v2sum_integral  = uw.utils.Integral( mesh=mesh, fn=fn.math.dot( velocityField, velocityField ) )\n",
    "#volume_integral = uw.utils.Integral( mesh=mesh, fn=1. )\n",
    "#Vrms = math.sqrt( v2sum_integral.evaluate()[0] )/volume_integral.evaluate()[0]\n",
    "\n",
    "\n",
    "\n",
    "#if(uw.rank()==0):\n",
    "#    print('Initial Vrms = {0:.3f}'.format(Vrms))\n",
    "\n",
    "# Check the Metrics\n",
    "\n",
    "#Avg_temp = avg_temp()\n",
    "Rms = rms()\n",
    "Rms_surf = rms_surf()\n",
    "Max_vx_surf = max_vx_surf(velocityField, mesh)\n",
    "Rms, Rms_surf, Max_vx_surf \n",
    "#Gravwork = basic_int(dwint)\n",
    "#Viscdis = basic_int(vdint)\n",
    "#nu1, nu0 = nusseltTB(temperatureField, mesh) # return top then bottom\n",
    "#etamax, etamin = visc_extr(mantleviscosityFn)\n",
    "\n",
    "#Area_mantle = basic_int(mantleArea)\n",
    "#Viscmantle = basic_int(mantleVisc)\n",
    "#Tempmantle = basic_int(mantleTemp)\n",
    "#Viscdismantle = basic_int(mantleVd)"
   ]
  },
  {
   "cell_type": "markdown",
   "metadata": {},
   "source": [
    "Viz.\n",
    "-----"
   ]
  },
  {
   "cell_type": "code",
   "execution_count": null,
   "metadata": {
    "collapsed": false
   },
   "outputs": [],
   "source": [
    "viscVariable = gSwarm.add_variable( dataType=\"float\", count=1 )\n",
    "viscVariable.data[:] = viscosityMapFn.evaluate(gSwarm)"
   ]
  },
  {
   "cell_type": "code",
   "execution_count": null,
   "metadata": {
    "collapsed": false
   },
   "outputs": [],
   "source": [
    "#Pack some stuff into a database as well\n",
    "figDb = glucifer.Figure()\n",
    "#figDb.append( glucifer.objects.Mesh(mesh))\n",
    "figDb.append( glucifer.objects.VectorArrows(mesh,velocityField, scaling=0.00005))\n",
    "#figDb.append( glucifer.objects.Points(gSwarm,tracerVariable, colours= 'white black'))\n",
    "figDb.append( glucifer.objects.Points(gSwarm,materialVariable))\n",
    "\n",
    "figDb.append( glucifer.objects.Points(gSwarm,viscosityMapFn, logScale=True, valueRange =[1e-3,1e5]))\n",
    "figDb.append( glucifer.objects.Surface(mesh, strainRate_2ndInvariant, logScale=True))\n",
    "figDb.append( glucifer.objects.Surface(mesh, temperatureField))\n",
    "#figDb.show()"
   ]
  },
  {
   "cell_type": "code",
   "execution_count": null,
   "metadata": {
    "collapsed": false
   },
   "outputs": [],
   "source": [
    "##############\n",
    "#Create a numpy array at the surface to get surface information on (using parallel-friendly evaluate_global)\n",
    "##############\n",
    "\n",
    "surface_xs = np.linspace(mesh.minCoord[0], mesh.maxCoord[0], mesh.elementRes[0] + 1)\n",
    "surface_nodes = np.array(zip(surface_xs, np.ones(len(surface_xs)*mesh.maxCoord[1]))) #For evaluation surface velocity\n",
    "normgradV = velocityField.fn_gradient[0]/fn.math.sqrt(velocityField[0]*velocityField[0])\n",
    "\n",
    "tempMM = fn.view.min_max(temperatureField)\n",
    "dummy = tempMM.evaluate(mesh)\n",
    "\n"
   ]
  },
  {
   "cell_type": "markdown",
   "metadata": {},
   "source": [
    "**Miscellania**"
   ]
  },
  {
   "cell_type": "code",
   "execution_count": null,
   "metadata": {
    "collapsed": false
   },
   "outputs": [],
   "source": [
    "##############\n",
    "#These functions handle checkpointing\n",
    "##############\n",
    "\n",
    "\n",
    "def checkpoint1(step, checkpointPath,filename, filewrites):\n",
    "    path = checkpointPath + str(step) \n",
    "    os.mkdir(path)\n",
    "    ##Write and save the file, if not already a writing step\n",
    "    if not step % filewrites == 0:\n",
    "        filename.write((17*'%-15s ' + '\\n') % (realtime, Viscdis, float(nu0), float(nu1), Avg_temp,\n",
    "                                              Tempmantle,TMAX,\n",
    "                                              Rms,Rms_surf,Max_vx_surf,Gravwork, etamax, etamin, \n",
    "                                              Area_mantle, Viscmantle,  Viscdismantle,Plateness ))\n",
    "    filename.close()\n",
    "    shutil.copyfile(os.path.join(outputPath, outputFile), os.path.join(path, outputFile))\n",
    "\n",
    "\n",
    "def checkpoint2(step, checkpointPath, swarm, filename, varlist = [materialVariable], varnames = ['materialVariable']):\n",
    "    path = checkpointPath + str(step) \n",
    "    velfile = \"velocityField\" + \".hdf5\"\n",
    "    tempfile = \"temperatureField\" + \".hdf5\"\n",
    "    pressfile = \"pressureField\" + \".hdf5\"\n",
    "    velocityField.save(os.path.join(path, velfile))\n",
    "    temperatureField.save(os.path.join(path, tempfile))\n",
    "    pressureField.save(os.path.join(path, pressfile))\n",
    "    swarm.save(os.path.join(path, \"swarm.h5\") ) \n",
    "    for ix in range(len(varlist)):\n",
    "        varb = varlist[ix]\n",
    "        varb.save(os.path.join(path,varnames[ix] + \".h5\"))\n",
    "    "
   ]
  },
  {
   "cell_type": "code",
   "execution_count": null,
   "metadata": {
    "collapsed": true
   },
   "outputs": [],
   "source": [
    "##############\n",
    "#This will allow us to evaluate viscous shear heating, and add the result directly to the temperature field\n",
    "##############\n",
    "\n",
    "viscDisMapFn = 2.*viscosityMapFn*sinner\n",
    "viscDisFnmesh = uw.mesh.MeshVariable(mesh,nodeDofCount=1)\n",
    "viscDisProj = uw.utils.MeshVariable_Projection( viscDisFnmesh, viscDisMapFn)\n",
    "viscDisProj.solve()"
   ]
  },
  {
   "cell_type": "code",
   "execution_count": null,
   "metadata": {
    "collapsed": false
   },
   "outputs": [],
   "source": [
    "# initialise timer for computation\n",
    "start = time.clock()\n",
    "# setup summary output file (name above)\n",
    "if checkpointLoad:\n",
    "    if uw.rank() == 0:\n",
    "        shutil.copyfile(os.path.join(checkpointLoadDir, outputFile), outputPath+outputFile)\n",
    "    comm.Barrier()\n",
    "    f_o = open(os.path.join(outputPath, outputFile), 'a')\n",
    "    prevdata = np.genfromtxt(os.path.join(outputPath, outputFile), skip_header=0, skip_footer=0)\n",
    "    if len(prevdata.shape) == 1: #this is in case there is only one line in previous file\n",
    "        realtime = prevdata[0]\n",
    "    else:\n",
    "        realtime = prevdata[prevdata.shape[0]-1, 0]\n",
    "    step = int(checkpointLoadDir.split('/')[-1])\n",
    "    timevals = [0.]\n",
    "else:\n",
    "    f_o = open(outputPath+outputFile, 'w')\n",
    "    realtime = 0.\n",
    "    step = 0\n",
    "    timevals = [0.]"
   ]
  },
  {
   "cell_type": "markdown",
   "metadata": {},
   "source": [
    "Main simulation loop\n",
    "-----\n"
   ]
  },
  {
   "cell_type": "code",
   "execution_count": null,
   "metadata": {
    "collapsed": false
   },
   "outputs": [],
   "source": [
    "#metric_output = 1"
   ]
  },
  {
   "cell_type": "code",
   "execution_count": null,
   "metadata": {
    "collapsed": true
   },
   "outputs": [],
   "source": [
    "#while step < 21:\n",
    "while realtime < 1.:\n",
    "\n",
    "    # solve Stokes and advection systems\n",
    "    solver.solve(nonLinearIterate=True)\n",
    "    dt = advDiff.get_max_dt()\n",
    "    if step == 0:\n",
    "        dt = 0.\n",
    "    advDiff.integrate(dt)\n",
    "    passiveadvector.integrate(dt)\n",
    "    \n",
    "    #Add the adiabatic adjustment:\n",
    "    temperatureField.data[:] += dt*abHeatFn.evaluate(mesh)\n",
    "    \n",
    "    #Add the viscous heating term\n",
    "     #Need to fix this (forgot 'dissipation number')\n",
    "    #viscDisProj = uw.utils.MeshVariable_Projection( viscDisFnmesh, viscDisMapFn)\n",
    "    #viscDisProj.solve()\n",
    "    #temperatureField.data[:] += dt*viscDisFnmesh.evaluate(mesh)\n",
    "    \n",
    "\n",
    "    # Increment\n",
    "    realtime += dt\n",
    "    step += 1\n",
    "    timevals.append(realtime)\n",
    "    ################\n",
    "    #Update temperature field in the air region\n",
    "    #Do this better...\n",
    "    ################\n",
    "    if (step % sticky_air_temp == 0):\n",
    "        for index, coord in enumerate(mesh.data):\n",
    "            if coord[1] >= 1.:\n",
    "                temperatureField.data[index] = ndp.TSP\n",
    "\n",
    "    # Calculate the Metrics, only on 1 of the processors:\n",
    "    ################\n",
    "    if (step % metric_output == 0):\n",
    "        ###############\n",
    "        #Swarm - based Metrics\n",
    "        ###############\n",
    "        # Calculate the RMS velocity and Nusselt number.\n",
    "        # Calculate the Metrics, only on 1 of the processors:\n",
    "        mantlerestrictFn = temprestrictionFn() #rebuild the mantle restriction function (but these should be dynamic?)\n",
    "        srrestrictFn = platenessFn(val = 0.1) #rebuild the plateness restriction function\n",
    "        dummy = tempMM.evaluate(mesh) #Re-evaluate any fn.view.min_max guys\n",
    "        #Rebuild these integrals (a test because metrics changes after a restart)\n",
    "        mantleArea   = uw.utils.Integral( mantlerestrictFn, mesh )\n",
    "        mantleTemp = uw.utils.Integral( temperatureField*mantlerestrictFn, mesh )\n",
    "        mantleVisc = uw.utils.Integral( mantleviscosityFn*mantlerestrictFn, mesh )\n",
    "        mantleVd = uw.utils.Integral( (4.*viscosityMapFn*sinner*mantlerestrictFn), mesh ) #these now work on MappingFunctions\n",
    "        ###\n",
    "        Avg_temp = avg_temp()\n",
    "        Rms = rms()\n",
    "        Rms_surf = rms_surf()\n",
    "        Max_vx_surf = max_vx_surf(velocityField, mesh)\n",
    "        Gravwork = basic_int(dwint)\n",
    "        Viscdis = basic_int(vdint)\n",
    "        nu1, nu0 = nusseltTB(temperatureField, mesh) # return top then bottom\n",
    "        etamax, etamin = visc_extr(mantleviscosityFn)\n",
    "        Area_mantle = basic_int(mantleArea)\n",
    "        Viscmantle = basic_int(mantleVisc)\n",
    "        Tempmantle = basic_int(mantleTemp)\n",
    "        Viscdismantle = basic_int(mantleVd)\n",
    "        Plateness = basic_int(plateint)/basic_int(surfint)\n",
    "        TMAX = tempMM.max_global()\n",
    "        # output to summary text file\n",
    "        if uw.rank()==0:\n",
    "            f_o.write((17*'%-15s ' + '\\n') % (realtime, Viscdis, float(nu0), float(nu1), Avg_temp,\n",
    "                                              Tempmantle,TMAX,\n",
    "                                              Rms,Rms_surf,Max_vx_surf,Gravwork, etamax, etamin, \n",
    "                                              Area_mantle, Viscmantle,  Viscdismantle,Plateness ))\n",
    "    ################\n",
    "    #Also repopulate entire swarm periodically\n",
    "    ################\n",
    "    #if step % swarm_repop == 0:\n",
    "    population_control.repopulate()   \n",
    "    ################\n",
    "    #Checkpoint\n",
    "    ################\n",
    "    if step % checkpoint_every == 0:\n",
    "        if uw.rank() == 0:\n",
    "            checkpoint1(step, checkpointPath,f_o, metric_output)           \n",
    "        checkpoint2(step, checkpointPath, gSwarm, f_o, varlist = varlist, varnames = varnames)\n",
    "        f_o = open(os.path.join(outputPath, outputFile), 'a') #is this line supposed to be here?\n",
    "    ################\n",
    "    #Gldb output\n",
    "    ################ \n",
    "    if (step % gldbs_output == 0):\n",
    "        #Rebuild any necessary swarm variables\n",
    "        viscVariable.data[:] = viscosityMapFn.evaluate(gSwarm)\n",
    "        #Write gldbs\n",
    "        fnamedb = \"dbFig\" + \"_\" + str(ModIt) + \"_\" + str(step) + \".gldb\"\n",
    "        fullpath = os.path.join(outputPath + \"gldbs/\" + fnamedb)\n",
    "        #figDb.show()\n",
    "        figDb.save_database(fullpath)\n",
    "    ################\n",
    "    #Files output\n",
    "    ################ \n",
    "    if (step % files_output == 0):\n",
    "\n",
    "        vel_surface = velocityField.evaluate_global(surface_nodes)\n",
    "        norm_surface_sr = normgradV.evaluate_global(surface_nodes)\n",
    "        if uw.rank() == 0:\n",
    "            fnametemp = \"velsurface\" + \"_\" + str(ModIt) + \"_\" + str(step)\n",
    "            fullpath = os.path.join(outputPath + \"files/\" + fnametemp)\n",
    "            np.save(fullpath, vel_surface)\n",
    "            fnametemp = \"norm_surface_sr\" + \"_\" + str(ModIt) + \"_\" + str(step)\n",
    "            fullpath = os.path.join(outputPath + \"files/\" + fnametemp)\n",
    "            np.save(fullpath, norm_surface_sr)\n",
    "    ################\n",
    "    #Particle update\n",
    "    ###############    \n",
    "    #ageVariable.data[:] += dt #increment the ages (is this efficient?)\n",
    "    ageDT += dt\n",
    "    \n",
    "    if step % swarm_update == 0:\n",
    "        #Increment age stuff. \n",
    "        ageEval = fn.branching.conditional( ageConditions ).evaluate(gSwarm)\n",
    "        ageVariable.data[np.where(ageEval == 0)] = 0 #If below the critical depth, age is set to zero\n",
    "        ageVariable.data[np.where(ageEval != 0)] += ageDT #If age above critical depth, increment age\n",
    "        ageDT = 0. #reset the age incrementer\n",
    "        \n",
    "        #Apply any materialVariable changes\n",
    "        for i in range(2): #Need to go through twice first time through\n",
    "            materialVariable.data[:] = fn.branching.conditional(DG.condition_list).evaluate(gSwarm)\n",
    "\n",
    "    \n",
    "f_o.close()\n",
    "print 'step =',step"
   ]
  },
  {
   "cell_type": "code",
   "execution_count": null,
   "metadata": {
    "collapsed": false
   },
   "outputs": [],
   "source": [
    "viscVariable = gSwarm.add_variable( dataType=\"float\", count=1 )\n",
    "viscVariable.data[:] = viscosityMapFn.evaluate(gSwarm)\n",
    "\n",
    "#buoyVariable = gSwarm.add_variable( dataType=\"float\", count=1 )\n",
    "#buoyVariable.data[:] = densityMapFn.evaluate(gSwarm)"
   ]
  },
  {
   "cell_type": "code",
   "execution_count": null,
   "metadata": {
    "collapsed": false
   },
   "outputs": [],
   "source": [
    "fig= glucifer.Figure()\n",
    "#fig.append( glucifer.objects.Points(gSwarm,buoyVariable))\n",
    "fig.append( glucifer.objects.Points(gSwarm, viscosityMapFn, logScale=True, valueRange =[1e-3,1e5]))\n",
    "#fig.append( glucifer.objects.Surface(mesh, strainRate_2ndInvariant, logScale=True, valueRange =[1e-3,1e5] ))\n",
    "#fig.append( glucifer.objects.VectorArrows(mesh,velocityField, scaling=0.002))\n",
    "#fig.append( glucifer.objects.Surface(mesh,densityMapFn))\n",
    "#fig.append( glucifer.objects.Surface(mesh,raylieghFn))\n",
    "\n",
    "fig.show()\n",
    "fig.save_database('test.gldb')"
   ]
  },
  {
   "cell_type": "code",
   "execution_count": null,
   "metadata": {
    "collapsed": false,
    "scrolled": true
   },
   "outputs": [],
   "source": [
    "#fig= glucifer.Figure()\n",
    "#fig.append( glucifer.objects.Points(gSwarm,testVariable))\n",
    "#fig.append( glucifer.objects.Points(gSwarm, viscosityMapFn, logScale=True, valueRange =[1e-3,1e5]))\n",
    "#fig.append( glucifer.objects.Surface(mesh, finalviscosityFn, logScale=True, valueRange =[1e-3,1e5] ))\n",
    "#fig.append( glucifer.objects.VectorArrows(mesh,velocityField, scaling=0.00002))\n",
    "#fig.append( glucifer.objects.Surface(mesh,pressureField))\n",
    "#fig.append( glucifer.objects.Surface(mesh,raylieghFn))\n",
    "\n",
    "#fig.show()\n",
    "#fig.save_database('test.gldb')\n",
    "\n"
   ]
  },
  {
   "cell_type": "code",
   "execution_count": null,
   "metadata": {
    "collapsed": false
   },
   "outputs": [],
   "source": [
    "velocityField.data[tWalls.data].max()"
   ]
  },
  {
   "cell_type": "code",
   "execution_count": null,
   "metadata": {
    "collapsed": false
   },
   "outputs": [],
   "source": [
    "velocityField.data.max()"
   ]
  },
  {
   "cell_type": "code",
   "execution_count": null,
   "metadata": {
    "collapsed": true
   },
   "outputs": [],
   "source": [
    "testFn  = fn.branching.conditional([(depthFn < MANTLETOCRUST*3, 2.),\n",
    "                                                     (interfaceCond, 1.), #\n",
    "                                                     (True, 0.)])"
   ]
  },
  {
   "cell_type": "code",
   "execution_count": null,
   "metadata": {
    "collapsed": true
   },
   "outputs": [],
   "source": []
  }
 ],
 "metadata": {
  "kernelspec": {
   "display_name": "Python 2",
   "language": "python",
   "name": "python2"
  },
  "language_info": {
   "codemirror_mode": {
    "name": "ipython",
    "version": 2
   },
   "file_extension": ".py",
   "mimetype": "text/x-python",
   "name": "python",
   "nbconvert_exporter": "python",
   "pygments_lexer": "ipython2",
   "version": "2.7.9"
  },
  "widgets": {
   "state": {},
   "version": "1.1.2"
  }
 },
 "nbformat": 4,
 "nbformat_minor": 0
}
