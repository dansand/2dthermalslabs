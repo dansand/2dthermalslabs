{
 "cells": [
  {
   "cell_type": "markdown",
   "metadata": {},
   "source": [
    "## composite, non-linear rheology:\n",
    "\n",
    "\n",
    "The viscous rheology in this model is similar to the Garel et al paper cited below. Other parts of the model setup are similar to Čížková and Bina (2015), Arredondo and Billen (2016) and Korenaga (2011). \n",
    "\n",
    "Here we use a dimensionless system. For the psuedo-plastic effective rheology a Drucker-prager model is used.\n",
    "\n",
    "\n",
    "**Keywords:** subduction, composite rheology, dislocation creep\n",
    "\n",
    "\n",
    "**References:**\n",
    "\n",
    "\n",
    "Garel, Fanny, et al. \"Interaction of subducted slabs with the mantle transition‐zone: A regime diagram from 2‐D thermo‐mechanical models with a mobile trench and an overriding plate.\" Geochemistry, Geophysics, Geosystems 15.5 (2014): 1739-1765.\n",
    "\n",
    "Čížková, Hana, and Craig R. Bina. \"Geodynamics of trench advance: Insights from a Philippine-Sea-style geometry.\" Earth and Planetary Science Letters 430 (2015): 408-415.\n",
    "\n",
    "Arredondo, Katrina M., and Magali I. Billen. \"The Effects of Phase Transitions and Compositional Layering in Two-dimensional Kinematic Models of Subduction.\" Journal of Geodynamics (2016).\n",
    "\n",
    "Korenaga, Jun. \"Scaling of plate tectonic convection with pseudoplastic rheology.\" Journal of Geophysical Research: Solid Earth 115.B11 (2010)."
   ]
  },
  {
   "cell_type": "code",
   "execution_count": 1,
   "metadata": {
    "collapsed": false
   },
   "outputs": [],
   "source": [
    "import numpy as np\n",
    "import underworld as uw\n",
    "import math\n",
    "from underworld import function as fn\n",
    "import glucifer\n",
    "\n",
    "import os\n",
    "import sys\n",
    "import natsort\n",
    "import shutil\n",
    "from easydict import EasyDict as edict\n",
    "import operator\n",
    "import pint\n",
    "import time\n",
    "import operator\n",
    "from slippy2 import boundary_layer2d\n",
    "from slippy2 import material_graph\n",
    "from slippy2 import spmesh\n",
    "\n",
    "from mpi4py import MPI\n",
    "comm = MPI.COMM_WORLD\n",
    "rank = comm.Get_rank()"
   ]
  },
  {
   "cell_type": "markdown",
   "metadata": {},
   "source": [
    "Model name and directories\n",
    "-----"
   ]
  },
  {
   "cell_type": "code",
   "execution_count": 2,
   "metadata": {
    "collapsed": true
   },
   "outputs": [],
   "source": [
    "############\n",
    "#Model name.  \n",
    "############\n",
    "Model = \"T\"\n",
    "ModNum = 0\n",
    "\n",
    "if len(sys.argv) == 1:\n",
    "    ModIt = \"Base\"\n",
    "elif sys.argv[1] == '-f':\n",
    "    ModIt = \"Base\"\n",
    "else:\n",
    "    ModIt = str(sys.argv[1])"
   ]
  },
  {
   "cell_type": "code",
   "execution_count": 3,
   "metadata": {
    "collapsed": false
   },
   "outputs": [],
   "source": [
    "###########\n",
    "#Standard output directory setup\n",
    "###########\n",
    "\n",
    "\n",
    "outputPath = \"results\" + \"/\" +  str(Model) + \"/\" + str(ModNum) + \"/\" + str(ModIt) + \"/\"\n",
    "imagePath = outputPath + 'images/'\n",
    "filePath = outputPath + 'files/'\n",
    "checkpointPath = outputPath + 'checkpoint/'\n",
    "dbPath = outputPath + 'gldbs/'\n",
    "outputFile = 'results_model' + Model + '_' + str(ModNum) + '_' + str(ModIt) + '.dat'\n",
    "\n",
    "if uw.rank()==0:\n",
    "    # make directories if they don't exist\n",
    "    if not os.path.isdir(outputPath):\n",
    "        os.makedirs(outputPath)\n",
    "    if not os.path.isdir(checkpointPath):\n",
    "        os.makedirs(checkpointPath)\n",
    "    if not os.path.isdir(imagePath):\n",
    "        os.makedirs(imagePath)\n",
    "    if not os.path.isdir(dbPath):\n",
    "        os.makedirs(dbPath)\n",
    "    if not os.path.isdir(filePath):\n",
    "        os.makedirs(filePath)\n",
    "        \n",
    "comm.Barrier() #Barrier here so no procs run the check in the next cell too early"
   ]
  },
  {
   "cell_type": "code",
   "execution_count": 4,
   "metadata": {
    "collapsed": false
   },
   "outputs": [
    {
     "name": "stdout",
     "output_type": "stream",
     "text": [
      "results/T/0/Base/checkpoint/ is empty\n",
      "results/T/0/Base/checkpoint/1 has files\n"
     ]
    }
   ],
   "source": [
    "###########\n",
    "#Check if starting from checkpoint\n",
    "###########\n",
    "\n",
    "checkdirs = []\n",
    "for dirpath, dirnames, files in os.walk(checkpointPath):\n",
    "    if files:\n",
    "        print dirpath, 'has files'\n",
    "        checkpointLoad = True\n",
    "        checkdirs.append(dirpath)\n",
    "    if not files:\n",
    "        print dirpath, 'is empty'\n",
    "        checkpointLoad = False"
   ]
  },
  {
   "cell_type": "markdown",
   "metadata": {},
   "source": [
    "Setup parameters\n",
    "-----\n",
    "\n",
    "Set simulation parameters for test."
   ]
  },
  {
   "cell_type": "markdown",
   "metadata": {},
   "source": [
    "**Use pint to setup any unit conversions we'll need**"
   ]
  },
  {
   "cell_type": "code",
   "execution_count": 5,
   "metadata": {
    "collapsed": false
   },
   "outputs": [
    {
     "data": {
      "text/html": [
       "10000.0 meter/megayear"
      ],
      "text/latex": [
       "$10000.0 \\frac{meter}{megayear}$"
      ],
      "text/plain": [
       "<Quantity(10000.0, 'meter / megayear')>"
      ]
     },
     "execution_count": 5,
     "metadata": {},
     "output_type": "execute_result"
    }
   ],
   "source": [
    "u = pint.UnitRegistry()\n",
    "cmpery = 1.*u.cm/u.year\n",
    "mpermy = 1.*u.m/u.megayear\n",
    "year = 1.*u.year\n",
    "spery = year.to(u.sec)\n",
    "cmpery.to(mpermy)"
   ]
  },
  {
   "cell_type": "code",
   "execution_count": null,
   "metadata": {
    "collapsed": false
   },
   "outputs": [],
   "source": []
  },
  {
   "cell_type": "markdown",
   "metadata": {},
   "source": [
    "**Set parameter dictionaries**"
   ]
  },
  {
   "cell_type": "code",
   "execution_count": 6,
   "metadata": {
    "collapsed": false
   },
   "outputs": [
    {
     "name": "stdout",
     "output_type": "stream",
     "text": [
      "(0.04, 1.2675505856327397e-11)\n"
     ]
    }
   ],
   "source": [
    "box_half_width =4000e3\n",
    "age_at_trench = 100e6\n",
    "cmperyear = box_half_width / age_at_trench #m/y\n",
    "mpersec = cmperyear*(cmpery.to(u.m/u.second)).magnitude #m/sec\n",
    "print(cmperyear, mpersec )"
   ]
  },
  {
   "cell_type": "code",
   "execution_count": null,
   "metadata": {
    "collapsed": false
   },
   "outputs": [],
   "source": []
  },
  {
   "cell_type": "code",
   "execution_count": 7,
   "metadata": {
    "collapsed": false
   },
   "outputs": [],
   "source": [
    "###########\n",
    "#Store the physical parameters, scale factors and dimensionless pramters in easyDicts\n",
    "#Mainly helps with avoiding overwriting variables\n",
    "###########\n",
    "\n",
    "dp = edict({'LS_RA':2900.*1e3, #Use full mantle depth for the Rayleigh number\n",
    "            'LS':2000.*1e3, #Depth of domain\n",
    "           'rho':3300.,  #reference density\n",
    "           'g':9.8, #surface gravity\n",
    "           'eta0':1e20, #Dislocation creep at 250 km, 1573 K, 1e-15 s-1 \n",
    "           'k':1e-6, #thermal diffusivity\n",
    "           'a':3e-5, #surface thermal expansivity\n",
    "           'TP':1573., #mantle potential temp (K)\n",
    "           'TS':273., #surface temp (K)\n",
    "           'cohesion':2e6, #cohesion in Byerlee law\n",
    "           'fc':0.2,   #friction coefficient in Byerlee law (tan(phi))\n",
    "           'Adf':3e-11, #pre-exp factor for diffusion creep\n",
    "           'Ads':5e-16, #pre-exp factor for dislocation creep\n",
    "           'Apr':1e-150,#pre-exp factor for Peierls creep\n",
    "           'Edf':3e5,\n",
    "           'Eds':5.4e5,\n",
    "           'Epr':5.4e5,\n",
    "           'Vdf':4e-6,\n",
    "           'Vds':12e-6,\n",
    "           'Vpr':10e-6,\n",
    "           'Alm':1.3e-16,\n",
    "           'Elm':2.0e5,\n",
    "           'Vlm':1.1e-6,\n",
    "           'Ba':4.3e-12,  #A value to simulate pressure increase with depth\n",
    "           'SR':1e-15,\n",
    "           #'Dr':250e3, #Reference depth\n",
    "           'rDepth':250e3, #reference depth (used to scale / normalize the flow laws)\n",
    "           'R':8.314, #gas constant\n",
    "           'Cp':1250., #Specific heat (Jkg-1K-1)\n",
    "           'StALS':100e3, #depth of sticky air layer\n",
    "           'plate_vel':4})\n",
    "\n",
    "#Adiabatic heating stuff\n",
    "dp.dTa = (dp.a*dp.g*(dp.TP))/dp.Cp #adibatic gradient, at Tp\n",
    "dp.deltaTa = (dp.TP + dp.dTa*dp.LS) - dp.TS  #Adiabatic Temp at base of mantle, minus Ts\n",
    "dp.deltaT = dp.deltaTa\n",
    "dp.rTemp= dp.TP + dp.rDepth*dp.dTa #reference temp, (potential temp + adiabat)\n",
    "\n",
    "\n",
    "#scale_factors\n",
    "\n",
    "sf = edict({'stress':dp.LS**2/(dp.k*dp.eta0),\n",
    "            'lith_grad':dp.rho*dp.g*(dp.LS)**3/(dp.eta0*dp.k) ,\n",
    "            'vel':dp.LS/dp.k,\n",
    "            'SR':dp.LS**2/dp.k,\n",
    "            'W':(-1./dp.Ba)*(np.log(1.-dp.rho*dp.g*dp.Ba*dp.LS))/(dp.R*dp.deltaTa), #Including adiabatic compression, and deltaTa\n",
    "            'E': 1./(dp.R*dp.deltaTa), #using deltaTa, the guesstimated adiabatic temp differnnce to scale these paramters\n",
    "            #'Ads':(dp.eta0**(ndp.n-2))*((dp.k)**(ndp.n-1))*((dp.LS)**(2. - 2*ndp.n))       \n",
    "           })\n",
    "\n",
    "#dimensionless parameters\n",
    "\n",
    "ndp = edict({'RA':(dp.g*dp.rho*dp.a*(dp.TP - dp.TS)*(dp.LS_RA)**3)/(dp.k*dp.eta0),\n",
    "            'cohesion':dp.cohesion*sf.stress,\n",
    "            'fcd':dp.fc*sf.lith_grad,\n",
    "            'gamma':dp.fc/(dp.a*dp.deltaT),\n",
    "            'Wdf':dp.Vdf*sf.W,\n",
    "            'Edf':dp.Edf*sf.E,\n",
    "            'Wps':dp.Vpr*sf.W,\n",
    "            'Eps':dp.Epr*sf.E,\n",
    "            'Wds':dp.Vds*sf.W,\n",
    "            'Eds':dp.Eds*sf.E,\n",
    "            'Elm':dp.Elm*sf.E,\n",
    "            'Elm':dp.Elm*sf.E,\n",
    "            'Wlm':dp.Vlm*sf.W,\n",
    "            'TSP':0., \n",
    "            'TBP':1.,\n",
    "            'TPP':(dp.TP - dp.TS)/dp.deltaT, #dimensionless potential temp\n",
    "            'rDepth':dp.rDepth/dp.LS,\n",
    "            'rTemp':(dp.rTemp- dp.TS)/dp.deltaT,\n",
    "            'n':3.5, #Dislocation creep stress exponent\n",
    "            'np':20., #Peierls creep stress exponent\n",
    "            'TS':dp.TS/dp.deltaT,\n",
    "            'TP':dp.TP/dp.deltaT,\n",
    "            'eta_crust':0.01, #crust viscosity, if using isoviscous weak crust\n",
    "            'eta_min':1e-3, \n",
    "            'eta_max':1e5, #viscosity max in the mantle material\n",
    "            'eta_max_crust':0.3, #viscosity max in the weak-crust material\n",
    "            'H':0.,\n",
    "            'Tmvp':0.6,\n",
    "            'Di': dp.a*dp.g*dp.LS/dp.Cp, #Dissipation number\n",
    "            'Steta0':1e2,\n",
    "            'plate_vel':sf.vel*dp.plate_vel*(cmpery.to(u.m/u.second)).magnitude,})\n",
    "\n",
    "\n",
    "\n",
    "#Make some further additions to paramter dictionaries\n",
    "\n",
    "#dp.VR = (0.1*(dp.k/dp.LS)*ndp.RA**(2/3.)) #characteristic velocity from a scaling relationship\n",
    "#dp.SR = dp.VR/dp.LS #characteristic strain rate\n",
    "#ndp.VR = dp.VR*sf.vel #characteristic velocity\n",
    "#ndp.SR = dp.SR*sf.SR #characteristic strain rate\n",
    "\n",
    "\n",
    "ndp.SR = dp.SR*sf.SR #characteristic strain rate\n",
    "\n",
    "ndp.StRA = (3300.*dp.g*(dp.LS)**3)/(dp.eta0 *dp.k) #Composisitional Rayleigh number for rock-air buoyancy force\n",
    "ndp.TaP = 1. - ndp.TPP,  #Dimensionles adiabtic component of delta t"
   ]
  },
  {
   "cell_type": "code",
   "execution_count": 8,
   "metadata": {
    "collapsed": false
   },
   "outputs": [
    {
     "data": {
      "text/plain": [
       "2535.1011712654795"
      ]
     },
     "execution_count": 8,
     "metadata": {},
     "output_type": "execute_result"
    }
   ],
   "source": [
    "#40000./sf.vel, \n",
    "#ndp.RA\n",
    "ndp.plate_vel"
   ]
  },
  {
   "cell_type": "code",
   "execution_count": 9,
   "metadata": {
    "collapsed": false
   },
   "outputs": [
    {
     "data": {
      "text/plain": [
       "(45568.60610653658, 2535.1011712654795, 307608701.40000004, 1300.0)"
      ]
     },
     "execution_count": 9,
     "metadata": {},
     "output_type": "execute_result"
    }
   ],
   "source": [
    "dp.CVR = (0.1*(dp.k/dp.LS)*ndp.RA**(2/3.))\n",
    "ndp.CVR = dp.CVR*sf.vel #characteristic velocity\n",
    "ndp.CVR, ndp.plate_vel, ndp.RA , (dp.TP - dp.TS)\n"
   ]
  },
  {
   "cell_type": "code",
   "execution_count": 10,
   "metadata": {
    "collapsed": false
   },
   "outputs": [],
   "source": [
    "###########\n",
    "#lengths scales for various processes (material transistions etc.)\n",
    "###########\n",
    "\n",
    "MANTLETOCRUST = (10.*1e3)/dp.LS #Crust depth\n",
    "HARZBURGDEPTH = MANTLETOCRUST + (27.7e3/dp.LS)\n",
    "CRUSTTOMANTLE = (300.*1e3)/dp.LS\n",
    "LITHTOMANTLE = (900.*1e3)/dp.LS \n",
    "MANTLETOLITH = (200.*1e3)/dp.LS \n",
    "TOPOHEIGHT = (10.*1e3)/dp.LS  #rock-air topography limits\n",
    "CRUSTTOECL  = (100.*1e3)/dp.LS\n",
    "AVGTEMP = ndp.TPP #Used to define lithosphere\n",
    "LOWMANTLEDEPTH = (660.*1e3)/dp.LS \n",
    "CRUSTVISCUTOFF = (100.*1e3)/dp.LS #Deeper than this, crust material rheology reverts to mantle rheology\n"
   ]
  },
  {
   "cell_type": "code",
   "execution_count": 31,
   "metadata": {
    "collapsed": false
   },
   "outputs": [],
   "source": []
  },
  {
   "cell_type": "markdown",
   "metadata": {},
   "source": [
    "**Model setup parameters**"
   ]
  },
  {
   "cell_type": "code",
   "execution_count": 11,
   "metadata": {
    "collapsed": false
   },
   "outputs": [],
   "source": [
    "###########\n",
    "#Model setup parameters\n",
    "###########\n",
    "\n",
    "#Modelling and Physics switches\n",
    "refineMesh = True\n",
    "stickyAir = False \n",
    "meltViscosityReduction = False\n",
    "symmetricIC = False\n",
    "VelBC = False\n",
    "WeakZone = False\n",
    "aspectRatio = 4\n",
    "compBuoyancy = False #use compositional & phase buoyancy, or simply thermal\n",
    "viscMechs = ['diffusion', 'dislocation', 'peierls', 'yielding']\n",
    "viscCombine = 'harmonic' #'harmonic', 'min', 'mixed'....\n",
    "\n",
    "#Domaain and Mesh paramters\n",
    "dim = 2          # number of spatial dimensions\n",
    "MINX = -1.*aspectRatio/2.\n",
    "MINY = 0.\n",
    "MAXX = 1.*aspectRatio/2.\n",
    "MAXY = 1.\n",
    "if MINX == 0.:\n",
    "    squareModel = True\n",
    "else: \n",
    "    squareModel = False\n",
    "    \n",
    "    \n",
    "RES = 192\n",
    "Xres = int(RES*aspectRatio)\n",
    "if stickyAir:\n",
    "    Yres = RES\n",
    "    MAXY = 1. + dp.StALS/dp.LS #150km\n",
    "    \n",
    "else:\n",
    "    Yres = RES\n",
    "    MAXY = 1.\n",
    "\n",
    "periodic = [True, False]\n",
    "elementType = \"Q1/dQ0\"\n",
    "#elementType =\"Q2/DPC1\"\n",
    "\n",
    "\n",
    "#System/Solver stuff\n",
    "PIC_integration=True\n",
    "ppc = 25\n",
    "\n",
    "#Metric output stuff\n",
    "swarm_repop, swarm_update = 10, 10\n",
    "gldbs_output = 10\n",
    "checkpoint_every, files_output = 10, 20\n",
    "metric_output = 10\n",
    "sticky_air_temp = 5"
   ]
  },
  {
   "cell_type": "markdown",
   "metadata": {},
   "source": [
    "Create mesh and finite element variables\n",
    "------"
   ]
  },
  {
   "cell_type": "code",
   "execution_count": 12,
   "metadata": {
    "collapsed": false
   },
   "outputs": [],
   "source": [
    "mesh = uw.mesh.FeMesh_Cartesian( elementType = (elementType),\n",
    "                                 elementRes  = (Xres, Yres), \n",
    "                                 minCoord    = (MINX, MINY), \n",
    "                                 maxCoord    = (MAXX, MAXY), periodic=periodic)\n",
    "\n",
    "velocityField       = uw.mesh.MeshVariable( mesh=mesh,         nodeDofCount=2 )\n",
    "pressureField       = uw.mesh.MeshVariable( mesh=mesh.subMesh, nodeDofCount=1 )\n",
    "temperatureField    = uw.mesh.MeshVariable( mesh=mesh,         nodeDofCount=1 )\n",
    "temperatureDotField = uw.mesh.MeshVariable( mesh=mesh,         nodeDofCount=1 )"
   ]
  },
  {
   "cell_type": "code",
   "execution_count": 13,
   "metadata": {
    "collapsed": true
   },
   "outputs": [],
   "source": [
    "mesh.reset()"
   ]
  },
  {
   "cell_type": "code",
   "execution_count": 14,
   "metadata": {
    "collapsed": false
   },
   "outputs": [
    {
     "name": "stdout",
     "output_type": "stream",
     "text": [
      "Min\n",
      "(768, 0.002604687500000185, 3.0004000000000142, 0.99960000000011373)\n",
      "('edges', 768)\n",
      "-- iteration 0 --\n",
      "| F( p_n ) |^2: 1.36285575386e-05\n",
      "| p_n+1 - p_n |^2: 25.5914964455\n",
      "-- iteration 1 --\n",
      "| F( p_n ) |^2: 1.52229350903e-29\n",
      "Min, Max element width: \n",
      "0.00260\n",
      "0.00781\n"
     ]
    }
   ],
   "source": [
    "\n",
    "#X-Axis\n",
    "\n",
    "if refineMesh:\n",
    "    mesh.reset()\n",
    "    axis = 0\n",
    "    origcoords = np.linspace(mesh.minCoord[axis], mesh.maxCoord[axis], mesh.elementRes[axis] + 1)\n",
    "    edge_rest_lengths = np.diff(origcoords)\n",
    "\n",
    "    deform_lengths = edge_rest_lengths.copy()\n",
    "    min_point =  (abs(mesh.maxCoord[axis]) - abs(mesh.minCoord[axis]))/2.\n",
    "    el_reduction = 0.5001\n",
    "    dx = mesh.maxCoord[axis] - min_point\n",
    "\n",
    "    deform_lengths = deform_lengths - \\\n",
    "                                    ((1.-el_reduction) *deform_lengths[0]) + \\\n",
    "                                    abs((origcoords[1:] - min_point))*((0.5*deform_lengths[0])/dx)\n",
    "\n",
    "    #print(edge_rest_lengths.shape, deform_lengths.shape)\n",
    "\n",
    "    spmesh.deform_1d(deform_lengths, mesh,axis = 'x',norm = 'Min', constraints = [])"
   ]
  },
  {
   "cell_type": "code",
   "execution_count": 15,
   "metadata": {
    "collapsed": false
   },
   "outputs": [],
   "source": [
    "axis = 1\n",
    "orgs = np.linspace(mesh.minCoord[axis], mesh.maxCoord[axis], mesh.elementRes[axis] + 1)\n",
    "\n",
    "value_to_constrain = 1.\n",
    "\n",
    "\n",
    "yconst = [(spmesh.find_closest(orgs, value_to_constrain), np.array([value_to_constrain,0]))]"
   ]
  },
  {
   "cell_type": "code",
   "execution_count": 16,
   "metadata": {
    "collapsed": false,
    "scrolled": true
   },
   "outputs": [
    {
     "name": "stdout",
     "output_type": "stream",
     "text": [
      "Min\n",
      "(192, 0.0026046875000000371, 0.74879791666666673, 1.0100691099476722)\n",
      "('edges', 192)\n",
      "-- iteration 0 --\n",
      "| F( p_n ) |^2: 1.3699911243e-05\n",
      "| p_n+1 - p_n |^2: 1.61615112952\n",
      "-- iteration 1 --\n",
      "| F( p_n ) |^2: 1.13745234436e-30\n",
      "Min, Max element width: \n",
      "0.00260\n",
      "0.00781\n"
     ]
    }
   ],
   "source": [
    "###########\n",
    "#Mesh refinement\n",
    "###########\n",
    "\n",
    "if refineMesh:\n",
    "    #Y-Axis\n",
    "    axis = 1\n",
    "    origcoords = np.linspace(mesh.minCoord[axis], mesh.maxCoord[axis], mesh.elementRes[axis] + 1)\n",
    "    edge_rest_lengths = np.diff(origcoords)\n",
    "\n",
    "    deform_lengths = edge_rest_lengths.copy()\n",
    "    min_point =  (mesh.maxCoord[axis])\n",
    "    el_reduction = 0.5001\n",
    "    dx = mesh.maxCoord[axis]\n",
    "\n",
    "    deform_lengths = deform_lengths - \\\n",
    "                                    ((1.-el_reduction)*deform_lengths[0]) + \\\n",
    "                                    abs((origcoords[1:] - min_point))*((0.5*deform_lengths[0])/dx)\n",
    "\n",
    "    #print(edge_rest_lengths.shape, deform_lengths.shape)\n",
    "\n",
    "    spmesh.deform_1d(deform_lengths, mesh,axis = 'y',norm = 'Min', constraints = yconst)"
   ]
  },
  {
   "cell_type": "code",
   "execution_count": 17,
   "metadata": {
    "collapsed": false
   },
   "outputs": [],
   "source": [
    "fig= glucifer.Figure()\n",
    "\n",
    "fig.append(glucifer.objects.Mesh(mesh))\n",
    "\n",
    "#fig.show()\n",
    "#fig.save_database('test.gldb')"
   ]
  },
  {
   "cell_type": "markdown",
   "metadata": {},
   "source": [
    "Initial conditions\n",
    "-------\n"
   ]
  },
  {
   "cell_type": "code",
   "execution_count": 18,
   "metadata": {
    "collapsed": false
   },
   "outputs": [],
   "source": [
    "coordinate = fn.input()\n",
    "depthFn = 1. - coordinate[1] #a function providing the depth\n",
    "xFn = coordinate[0]  #a function providing the x-coordinate\n",
    "\n",
    "potTempFn = ndp.TPP + (depthFn)*ndp.TaP #a function providing the adiabatic temp at any depth\n",
    "abHeatFn = -1.*velocityField[1]*temperatureField*ndp.Di #a function providing the adiabatic heating rate"
   ]
  },
  {
   "cell_type": "code",
   "execution_count": null,
   "metadata": {
    "collapsed": false
   },
   "outputs": [],
   "source": []
  },
  {
   "cell_type": "code",
   "execution_count": 19,
   "metadata": {
    "collapsed": false
   },
   "outputs": [],
   "source": [
    "###########\n",
    "#Thermal initial condition:\n",
    "#if symmetricIC, we build a symmetric downwelling on top of a sinusoidal perturbation\n",
    "##########\n",
    "\n",
    "#Sinusoidal initial condition\n",
    "A = 0.2\n",
    "sinFn = depthFn + A*(fn.math.cos( math.pi * coordinate[0])  * fn.math.sin( math.pi * coordinate[1] ))        \n",
    "iD = 1000e3/dp.LS #Initial Slab depth\n",
    "dl =  2*math.sqrt(dp.k*160e6*3600*24*365) #diffusion Length at ... My\n",
    "w0 = dl/dp.LS #Boundary layer/slab initial condition\n",
    "delX1 = fn.misc.min(fn.math.abs(coordinate[0] - -0.), fn.math.abs(coordinate[0] - -2.))\n",
    "delX = fn.misc.min(delX1 , fn.math.abs(coordinate[0] - 2.))\n",
    "w = w0*fn.math.sqrt(delX + 1e-7)\n",
    "tempBL = (potTempFn) *fn.math.erf((depthFn)/w) + ndp.TSP\n",
    "delX = fn.misc.min(fn.math.abs(coordinate[0] - - 1.) , fn.math.abs(coordinate[0] - 1.))\n",
    "tempSlab = (potTempFn ) *fn.math.erf((delX*2.)/w0) + ndp.TSP       \n",
    "tempFn1 =  fn.misc.min(tempBL, tempSlab)\n",
    "blFn = fn.branching.conditional([(depthFn < iD, tempFn1), \n",
    "                                    (True, potTempFn)])\n",
    "\n",
    "tempFn = 0.*sinFn + 1.*blFn #partition the temp between these the symmetric downwelling and sinusoid\n",
    "if symmetricIC:  \n",
    "    if not checkpointLoad:\n",
    "        temperatureField.data[:] = tempFn.evaluate(mesh)  "
   ]
  },
  {
   "cell_type": "code",
   "execution_count": 20,
   "metadata": {
    "collapsed": false
   },
   "outputs": [],
   "source": [
    "###########\n",
    "#Thermal initial condition 2: \n",
    "#if symmetricIC == False, we build an asymmetric subduction-zone\n",
    "###########\n",
    "\n",
    "#Main control paramters are:\n",
    "\n",
    "#Roc = 550e3 #radius of curvature of slab\n",
    "Roc = 550e3 #radius of curvature of slab\n",
    "\n",
    "theta = 89. #Angle to truncate the slab (can also do with with a cutoff depth)\n",
    "subzone = 0.0 #X position of subduction zone...in model coordinates\n",
    "slabmaxAge = 40e6 #age of subduction plate at trench\n",
    "platemaxAge = 40e6 #max age of slab (Plate model)\n",
    "ageAtTrenchSeconds = min(platemaxAge*(3600*24*365), slabmaxAge*(3600*24*365))\n",
    "\n",
    "\n",
    "sense = 'Right' #dip direction\n",
    "op_age_fac = 1. #this controls the overidding plate speed, hence age reduction\n",
    "\n",
    "\n",
    "#First build the top TBL\n",
    "#Create functions between zero and one, to control age distribution\n",
    "ageFn1 = fn.misc.max(0., (1. - 1.*fn.math.abs(xFn)/(aspectRatio/2.) ))\n",
    "ageFn  = fn.branching.conditional([(coordinate[0] <= 0, ageFn1),\n",
    "                                  (True, ageFn1/op_age_fac)])\n",
    "\n",
    "#dimensionlize the age function\n",
    "ageFn *= slabmaxAge*(3600*24*365)\n",
    "#ageFn = fn.misc.min(ageFn, platemaxAge*(3600*24*365)) #apply plate model\n",
    "\n",
    "w0 = (2.*math.sqrt(dp.k*ageAtTrenchSeconds))/dp.LS #diffusion depth of plate at the trench\n",
    "\n",
    "tempBL = (potTempFn) *fn.math.erf((depthFn*dp.LS)/(2.*fn.math.sqrt(dp.k*ageFn))) + ndp.TSP #boundary layer function\n",
    "\n",
    "tempTBL =  fn.branching.conditional([(depthFn < w0, tempBL),\n",
    "                          (True, potTempFn)])\n",
    "\n",
    "if not symmetricIC:\n",
    "    if not checkpointLoad:\n",
    "        out = uw.utils.MeshVariable_Projection( temperatureField, tempTBL) #apply function with projection\n",
    "        out.solve()\n",
    "\n",
    "\n",
    "#Now build the perturbation part\n",
    "def inCircleFnGenerator(centre, radius):\n",
    "    coord = fn.input()\n",
    "    offsetFn = coord - centre\n",
    "    return fn.math.dot( offsetFn, offsetFn ) < radius**2\n",
    "\n",
    "#Setup slab perturbation params (mostly dimensionlesl / model params here)\n",
    "phi = 90. - theta\n",
    "RocM = (Roc/dp.LS)\n",
    "CrustM = MANTLETOCRUST\n",
    "Org = (subzone, 1.-RocM)\n",
    "maxDepth = 250e3/dp.LS\n",
    "\n",
    "#We use three circles to define our slab and crust perturbation,  \n",
    "Oc = inCircleFnGenerator(Org , RocM)\n",
    "Ic = inCircleFnGenerator(Org , RocM - w0)\n",
    "Cc = inCircleFnGenerator(Org , RocM + (1.5*CrustM)) #... weak zone on 'outside' of slab\n",
    "dx = (RocM)/(np.math.tan((np.math.pi/180.)*phi))\n",
    "\n",
    "#We'll also create a triangle which will truncate the circles defining the slab...\n",
    "if sense == 'Left':\n",
    "    ptx = subzone - dx\n",
    "else:\n",
    "    ptx = subzone + dx\n",
    "coords = ((0.+subzone, 1), (0.+subzone, 1.-RocM), (ptx, 1.))\n",
    "Tri = fn.shape.Polygon(np.array(coords))\n",
    "\n",
    "#Actually apply the perturbation\n",
    "if not symmetricIC:\n",
    "    if not checkpointLoad:\n",
    "        sdFn = ((RocM - fn.math.sqrt((coordinate[0] - Org[0])**2. + (coordinate[1] - Org[1])**2.)))\n",
    "        slabFn = ndp.TPP*fn.math.erf((sdFn*dp.LS)/(2.*math.sqrt(dp.k*ageAtTrenchSeconds))) + ndp.TSP\n",
    "        for index, coord in enumerate(mesh.data):\n",
    "            if (\n",
    "                Oc.evaluate(tuple(coord)) and\n",
    "                Tri.evaluate(tuple(coord)) and not\n",
    "                Ic.evaluate(tuple(coord)) and\n",
    "                coord[1] > (1. - maxDepth)\n",
    "                ): #In the quarter-circle defining the lithosphere\n",
    "                temperatureField.data[index] = slabFn.evaluate(mesh)[index]\n",
    "\n"
   ]
  },
  {
   "cell_type": "code",
   "execution_count": 21,
   "metadata": {
    "collapsed": false
   },
   "outputs": [],
   "source": [
    "#Make sure material in sticky air region is at the surface temperature.\n",
    "for index, coord in enumerate(mesh.data):\n",
    "            if coord[1] >= 1.:\n",
    "                temperatureField.data[index] = ndp.TSP"
   ]
  },
  {
   "cell_type": "code",
   "execution_count": 56,
   "metadata": {
    "collapsed": false
   },
   "outputs": [
    {
     "data": {
      "text/plain": [
       "(0.05, 0.015)"
      ]
     },
     "execution_count": 56,
     "metadata": {},
     "output_type": "execute_result"
    }
   ],
   "source": [
    "#fn.math.erf((sdFn*dp.LS)/(2.*fn.math.sqrt(dp.k*(slabmaxAge*(3600*24*365))))) \n",
    "CRUSTVISCUTOFF, MANTLETOCRUST*3"
   ]
  },
  {
   "cell_type": "code",
   "execution_count": 74,
   "metadata": {
    "collapsed": false
   },
   "outputs": [],
   "source": [
    "#cond1 = depthFn < CRUSTVISCUTOFF\n",
    "#cond2 = depthFn > MANTLETOCRUST\n",
    "\n",
    "testCond = operator.and_((depthFn < CRUSTVISCUTOFF), (depthFn > MANTLETOCRUST))\n",
    "\n",
    "testFn  = fn.branching.conditional([((testCond), 1.),\n",
    "                                  (True, 0.)])"
   ]
  },
  {
   "cell_type": "code",
   "execution_count": 75,
   "metadata": {
    "collapsed": false,
    "scrolled": true
   },
   "outputs": [
    {
     "data": {
      "text/html": [
       "<img src='data:image/png;base64,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'>"
      ],
      "text/plain": [
       "<IPython.core.display.HTML object>"
      ]
     },
     "metadata": {},
     "output_type": "display_data"
    }
   ],
   "source": [
    "fig= glucifer.Figure()\n",
    "fig.append( glucifer.objects.Surface(mesh, testFn))\n",
    "\n",
    "#fig.append(glucifer.objects.Mesh(mesh))\n",
    "fig.save_database('test.gldb')\n",
    "\n",
    "fig.show()"
   ]
  },
  {
   "cell_type": "markdown",
   "metadata": {},
   "source": [
    "def matplot_field(temperatureField, dp):\n",
    "    if uw.nProcs() != 1:\n",
    "        print(\"only in Serial folks\")\n",
    "    else:\n",
    "        import matplotlib.pyplot as pyplt\n",
    "        try :\n",
    "            if(__IPYTHON__) :\n",
    "                get_ipython().magic(u'matplotlib inline')\n",
    "        except NameError :\n",
    "            pass\n",
    "        field_data = temperatureField.data.reshape(mesh.elementRes[1] + 1, mesh.elementRes[0] + 1)\n",
    "        fig, ax = pyplt.subplots()\n",
    "        ql = dp.LS/1e3\n",
    "        pyplt.ioff()\n",
    "        ax.imshow(np.flipud(field_data), cmap='coolwarm', extent=[0,ql*aspectRatio,ql, 0])\n",
    "        #ax.set_x([0,dp.LS*aspectRatio])\n",
    "        \n",
    "        return fig, ax\n",
    "        \n",
    "fig, ax = matplot_field(temperatureField, dp)\n",
    "fig.savefig('test.png')       "
   ]
  },
  {
   "cell_type": "code",
   "execution_count": 24,
   "metadata": {
    "collapsed": false
   },
   "outputs": [],
   "source": [
    "\n",
    "#testVariable.data[:] = temperatureField.evaluate(gSwarm)"
   ]
  },
  {
   "cell_type": "code",
   "execution_count": 25,
   "metadata": {
    "collapsed": false
   },
   "outputs": [],
   "source": [
    "#testVariable.data.mean()"
   ]
  },
  {
   "cell_type": "markdown",
   "metadata": {},
   "source": [
    "Boundary conditions\n",
    "-------"
   ]
  },
  {
   "cell_type": "code",
   "execution_count": 26,
   "metadata": {
    "collapsed": false
   },
   "outputs": [
    {
     "name": "stdout",
     "output_type": "stream",
     "text": [
      "4\n"
     ]
    }
   ],
   "source": [
    "for index in mesh.specialSets[\"MinJ_VertexSet\"]:\n",
    "    temperatureField.data[index] = ndp.TBP\n",
    "for index in mesh.specialSets[\"MaxJ_VertexSet\"]:\n",
    "    temperatureField.data[index] = ndp.TSP\n",
    "    \n",
    "iWalls = mesh.specialSets[\"MinI_VertexSet\"] + mesh.specialSets[\"MaxI_VertexSet\"]\n",
    "jWalls = mesh.specialSets[\"MinJ_VertexSet\"] + mesh.specialSets[\"MaxJ_VertexSet\"]\n",
    "tWalls = mesh.specialSets[\"MaxJ_VertexSet\"]\n",
    "bWalls =mesh.specialSets[\"MinJ_VertexSet\"]\n",
    "\n",
    "VelBCs = mesh.specialSets[\"Empty\"]\n",
    "\n",
    "\n",
    "\n",
    "if VelBC:\n",
    "    for index in list(tWalls.data):\n",
    "\n",
    "        if (mesh.data[int(index)][0] < (subzone - 0.05*aspectRatio) and \n",
    "            mesh.data[int(index)][0] > (mesh.minCoord[0] + 0.05*aspectRatio)): #Only push with a portion of teh overiding plate\n",
    "            #print \"first\"\n",
    "            VelBCs.add(int(index))\n",
    "            #Set the plate velocities for the kinematic phase\n",
    "            velocityField.data[index] = [ndp.plate_vel, 0.]\n",
    "        \n",
    "        elif (mesh.data[int(index)][0] > (subzone + 0.05*aspectRatio) and \n",
    "            mesh.data[int(index)][0] < (mesh.maxCoord[0] - 0.05*aspectRatio)):\n",
    "            #print \"second\"\n",
    "            VelBCs.add(int(index))\n",
    "            #Set the plate velocities for the kinematic phase\n",
    "            velocityField.data[index] = [0., 0.]\n",
    "        \n",
    "\n",
    "#If periodic, we'll fix a the x-vel at a single node - at the bottom left (index 0)\n",
    "Fixed = mesh.specialSets[\"Empty\"]\n",
    "Fixed.add(int(0))        \n",
    "        \n",
    "\n",
    "if periodic[0] == False:\n",
    "    if VelBC:\n",
    "        print(1)\n",
    "        freeslipBC = uw.conditions.DirichletCondition( variable      = velocityField, \n",
    "                                               indexSetsPerDof = ( iWalls + VelBCs, jWalls) )\n",
    "    else:\n",
    "        print(2)\n",
    "        freeslipBC = uw.conditions.DirichletCondition( variable      = velocityField, \n",
    "                                               indexSetsPerDof = ( iWalls, jWalls) )\n",
    "\n",
    "\n",
    "\n",
    "\n",
    "\n",
    "\n",
    "if periodic[0] == True:\n",
    "    if VelBC:\n",
    "        print(3)\n",
    "        freeslipBC = uw.conditions.DirichletCondition( variable      = velocityField, \n",
    "                                               indexSetsPerDof = ( Fixed + VelBCs , jWalls) )\n",
    "    else:\n",
    "        print(4)\n",
    "        freeslipBC = uw.conditions.DirichletCondition( variable      = velocityField, \n",
    "                                               indexSetsPerDof = ( Fixed, jWalls) )\n",
    "        \n",
    "    \n",
    "    \n",
    "    \n",
    "# also set dirichlet for temp field\n",
    "dirichTempBC = uw.conditions.DirichletCondition(     variable=temperatureField, \n",
    "                                              indexSetsPerDof=(tWalls,) )\n",
    "dT_dy = [0.,0.]\n",
    "\n",
    "# also set dirichlet for temp field\n",
    "neumannTempBC = uw.conditions.NeumannCondition( dT_dy, variable=temperatureField, \n",
    "                                         nodeIndexSet=bWalls)\n",
    "\n"
   ]
  },
  {
   "cell_type": "code",
   "execution_count": null,
   "metadata": {
    "collapsed": false
   },
   "outputs": [],
   "source": []
  },
  {
   "cell_type": "code",
   "execution_count": 27,
   "metadata": {
    "collapsed": false
   },
   "outputs": [],
   "source": [
    "#check VelBCs are where we want them\n",
    "#test = np.zeros(len(tWalls.data))\n",
    "#VelBCs\n",
    "#tWalls.data\n",
    "#tWalls.data[VelBCs.data]\n",
    "#test[np.in1d(tWalls.data, VelBCs.data)] = 1.\n",
    "#test\n",
    "\n"
   ]
  },
  {
   "cell_type": "code",
   "execution_count": null,
   "metadata": {
    "collapsed": false
   },
   "outputs": [],
   "source": []
  },
  {
   "cell_type": "markdown",
   "metadata": {},
   "source": [
    "Swarm setup\n",
    "-----\n"
   ]
  },
  {
   "cell_type": "code",
   "execution_count": 28,
   "metadata": {
    "collapsed": false
   },
   "outputs": [],
   "source": [
    "###########\n",
    "#Material Swarm and variables\n",
    "###########\n",
    "\n",
    "#create material swarm\n",
    "gSwarm = uw.swarm.Swarm(mesh=mesh, particleEscape=True)\n",
    "\n",
    "#create swarm variables\n",
    "yieldingCheck = gSwarm.add_variable( dataType=\"int\", count=1 )\n",
    "tracerVariable = gSwarm.add_variable( dataType=\"int\", count=1)\n",
    "materialVariable = gSwarm.add_variable( dataType=\"int\", count=1 )\n",
    "ageVariable = gSwarm.add_variable( dataType=\"float\", count=1 )\n",
    "testVariable = gSwarm.add_variable( dataType=\"float\", count=1 )\n",
    "\n",
    "\n",
    "#these lists  are part of the checkpointing implementation\n",
    "varlist = [tracerVariable, tracerVariable, yieldingCheck]\n",
    "varlist = [materialVariable, yieldingCheck, ageVariable]\n",
    "varnames = ['materialVariable', 'yieldingCheck', 'ageVariable']"
   ]
  },
  {
   "cell_type": "code",
   "execution_count": 29,
   "metadata": {
    "collapsed": false
   },
   "outputs": [],
   "source": [
    "mantleIndex = 0\n",
    "crustIndex = 1\n",
    "harzIndex = 2\n",
    "airIndex = 3\n",
    "\n",
    "\n",
    "\n",
    "if checkpointLoad:\n",
    "    checkpointLoadDir = natsort.natsort(checkdirs)[-1]\n",
    "    temperatureField.load(os.path.join(checkpointLoadDir, \"temperatureField\" + \".hdf5\"))\n",
    "    pressureField.load(os.path.join(checkpointLoadDir, \"pressureField\" + \".hdf5\"))\n",
    "    velocityField.load(os.path.join(checkpointLoadDir, \"velocityField\" + \".hdf5\"))\n",
    "    gSwarm.load(os.path.join(checkpointLoadDir, \"swarm\" + \".h5\"))\n",
    "    for ix in range(len(varlist)):\n",
    "        varb = varlist[ix]\n",
    "        varb.load(os.path.join(checkpointLoadDir,varnames[ix] + \".h5\"))\n",
    "\n",
    "else:\n",
    "\n",
    "    # Layouts are used to populate the swarm across the whole domain\n",
    "    layout = uw.swarm.layouts.PerCellRandomLayout(swarm=gSwarm, particlesPerCell=ppc)\n",
    "    gSwarm.populate_using_layout( layout=layout ) # Now use it to populate.\n",
    "    # Swarm variables\n",
    "    materialVariable.data[:] = mantleIndex\n",
    "    tracerVariable.data[:] = 1\n",
    "    yieldingCheck.data[:] = 0\n",
    "    ageVariable.data[:] = -1\n",
    "\n",
    "    #Set initial air and crust materials (allow the graph to take care of lithsophere)\n",
    "    #########\n",
    "    #This initial material setup will be model dependent\n",
    "    #########\n",
    "    for particleID in range(gSwarm.particleCoordinates.data.shape[0]):\n",
    "        if (1. - gSwarm.particleCoordinates.data[particleID][1]) < MANTLETOCRUST:\n",
    "                 materialVariable.data[particleID] = crustIndex"
   ]
  },
  {
   "cell_type": "code",
   "execution_count": 30,
   "metadata": {
    "collapsed": false
   },
   "outputs": [],
   "source": [
    "###########\n",
    "#This block sets up a checkboard layout of passive tracers\n",
    "###########\n",
    "\n",
    "square_size = 0.1\n",
    "xlist = np.arange(mesh.minCoord[0] + square_size/2., mesh.maxCoord[0] + square_size/2., square_size)\n",
    "xlist = zip(xlist[:], xlist[1:])[::2]\n",
    "ylist = np.arange(mesh.minCoord[1] + square_size/2., mesh.maxCoord[1] + square_size/2., square_size)\n",
    "ylist = zip(ylist[:], ylist[1:])[::2]\n",
    "xops = []\n",
    "for vals in xlist:\n",
    "    xops.append( (operator.and_(   operator.gt(coordinate[0],vals[0]),   operator.lt(coordinate[0],vals[1])  ),0.) )\n",
    "xops.append((True,1.))\n",
    "\n",
    "testfunc = fn.branching.conditional(xops) \n",
    "\n",
    "yops = []\n",
    "for vals in ylist:\n",
    "    yops.append( (operator.and_(   operator.gt(coordinate[1],vals[0]),   operator.lt(coordinate[1],vals[1])  ),0.) )\n",
    "yops.append((True,testfunc))\n",
    "\n",
    "testfunc2 = fn.branching.conditional(yops) \n",
    "tracerVariable.data[:] = testfunc.evaluate(gSwarm)\n",
    "tracerVariable.data[:] = testfunc2.evaluate(gSwarm)"
   ]
  },
  {
   "cell_type": "code",
   "execution_count": 31,
   "metadata": {
    "collapsed": false
   },
   "outputs": [
    {
     "data": {
      "text/plain": [
       "(-1.0, -1.0)"
      ]
     },
     "execution_count": 31,
     "metadata": {},
     "output_type": "execute_result"
    }
   ],
   "source": [
    "ageVariable.data.min(), ageVariable.data.max()"
   ]
  },
  {
   "cell_type": "code",
   "execution_count": 32,
   "metadata": {
    "collapsed": false
   },
   "outputs": [
    {
     "data": {
      "text/plain": [
       "array([  0.00000000e+00,   1.99999995e-05], dtype=float32)"
      ]
     },
     "execution_count": 32,
     "metadata": {},
     "output_type": "execute_result"
    }
   ],
   "source": [
    "#Set the inital particle age, for particles above the critical depth \n",
    "#(only these will be transformed to crust / harzburgite)\n",
    "\n",
    "ageVariable.data[:] = 0. #start with all zero\n",
    "crustageCond = 1e-05 #set inital age above critical depth. (about 1.2 Ma.) Might have to be shorter than this - need to experiment\n",
    "ageDT = crustageCond + 1e-5 #initalize ages\n",
    "ageConditions = [ (depthFn < 100e3/dp.LS , ageDT),  \n",
    "                  (True, 0.) ]\n",
    "                 \n",
    "\n",
    "ageEval = fn.branching.conditional( ageConditions ).evaluate(gSwarm)\n",
    "ageVariable.data[np.where(ageEval == 0)] = 0 #If below the critical depth, age is set to zero\n",
    "ageVariable.data[np.where(ageEval != 0)] += ageDT #If age above critical depth, increment age\n",
    "\n",
    "np.unique(ageVariable.data)"
   ]
  },
  {
   "cell_type": "markdown",
   "metadata": {
    "collapsed": false
   },
   "source": [
    "Swarm control (material graph)\n",
    "-----\n",
    "\n"
   ]
  },
  {
   "cell_type": "code",
   "execution_count": 33,
   "metadata": {
    "collapsed": false
   },
   "outputs": [],
   "source": [
    "##############\n",
    "#Here we set up a directed graph object that we we use to control the transformation from one material type to another\n",
    "##############\n",
    "\n",
    "#All depth conditions are given as (km/D) where D is the length scale,\n",
    "#note that 'model depths' are used, e.g. 1-z, where z is the vertical Underworld coordinate\n",
    "#All temp conditions are in dimensionless temp. [0. - 1.]\n",
    "\n",
    "#Need a list of all material indexes (safer in parallel)\n",
    "material_list = [0,1,2,3]\n",
    "\n",
    "if not checkpointLoad:\n",
    "    materialVariable.data[:] = 0 #Initialize to zero \n",
    "\n",
    "#Setup the graph object\n",
    "DG = material_graph.MatGraph()\n",
    "\n",
    "#Important: First thing to do is to add all the material types to the graph (i.e add nodes)\n",
    "DG.add_nodes_from(material_list)\n",
    "\n",
    "#Now set the conditions for transformations\n",
    "\n",
    "\n",
    "\n",
    "#... to mantle\n",
    "DG.add_transition((crustIndex,mantleIndex), depthFn, operator.gt, CRUSTTOMANTLE)\n",
    "DG.add_transition((harzIndex,mantleIndex), depthFn, operator.gt, CRUSTTOMANTLE)\n",
    "#DG.add_transition((airIndex,mantleIndex), depthFn, operator.gt, TOPOHEIGHT)\n",
    "\n",
    "#... to crust\n",
    "DG.add_transition((mantleIndex,crustIndex), depthFn, operator.lt, MANTLETOCRUST)\n",
    "DG.add_transition((mantleIndex,crustIndex), xFn, operator.lt, 0. + 7.*MANTLETOCRUST) #No crust on the upper plate\n",
    "DG.add_transition((mantleIndex,crustIndex), ageVariable, operator.gt, crustageCond)\n",
    "\n",
    "\n",
    "DG.add_transition((harzIndex,crustIndex), depthFn, operator.lt, MANTLETOCRUST)\n",
    "DG.add_transition((harzIndex,crustIndex), xFn, operator.lt, 0. + 7.*MANTLETOCRUST) #This one sets no crust on the upper plate\n",
    "DG.add_transition((harzIndex,crustIndex), ageVariable, operator.gt, crustageCond)\n",
    "\n",
    "#... to Harzbugite\n",
    "DG.add_transition((mantleIndex,harzIndex), depthFn, operator.lt, HARZBURGDEPTH)\n",
    "DG.add_transition((mantleIndex,harzIndex), depthFn, operator.gt, MANTLETOCRUST)\n",
    "DG.add_transition((mantleIndex,harzIndex), ageVariable, operator.gt, crustageCond) #Note we can mix functions and swarm variabls\n",
    "\n",
    "#... to air\n",
    "#DG.add_transition((mantleIndex,airIndex), depthFn, operator.lt,0. - TOPOHEIGHT)\n",
    "#DG.add_transition((crustIndex,airIndex), depthFn, operator.lt, 0. - TOPOHEIGHT)\n"
   ]
  },
  {
   "cell_type": "code",
   "execution_count": 34,
   "metadata": {
    "collapsed": false
   },
   "outputs": [
    {
     "data": {
      "text/plain": [
       "[0, 1, 2, 3]"
      ]
     },
     "execution_count": 34,
     "metadata": {},
     "output_type": "execute_result"
    }
   ],
   "source": [
    "DG.nodes()"
   ]
  },
  {
   "cell_type": "code",
   "execution_count": 35,
   "metadata": {
    "collapsed": false
   },
   "outputs": [
    {
     "data": {
      "text/plain": [
       "(0.15, 0.01885, 0.035)"
      ]
     },
     "execution_count": 35,
     "metadata": {},
     "output_type": "execute_result"
    }
   ],
   "source": [
    "CRUSTTOMANTLE, HARZBURGDEPTH, 0. + 7.*MANTLETOCRUST"
   ]
  },
  {
   "cell_type": "code",
   "execution_count": 36,
   "metadata": {
    "collapsed": false
   },
   "outputs": [],
   "source": [
    "##############\n",
    "#For the slab_IC, we'll also add a crustal weak zone following the dipping perturbation\n",
    "##############\n",
    "\n",
    "if checkpointLoad != True:\n",
    "    if not symmetricIC:\n",
    "        for particleID in range(gSwarm.particleCoordinates.data.shape[0]):\n",
    "            if (\n",
    "                Cc.evaluate(list(gSwarm.particleCoordinates.data[particleID])) and\n",
    "                Tri.evaluate(list(gSwarm.particleCoordinates.data[particleID])) and\n",
    "                Oc.evaluate(list(gSwarm.particleCoordinates.data[particleID])) == False\n",
    "                ):\n",
    "                materialVariable.data[particleID] = crustIndex"
   ]
  },
  {
   "cell_type": "code",
   "execution_count": 37,
   "metadata": {
    "collapsed": false
   },
   "outputs": [],
   "source": [
    "##############\n",
    "#This is how we use the material graph object to test / apply material transformations\n",
    "##############\n",
    "DG.build_condition_list(materialVariable)\n",
    "\n",
    "for i in range(1): #Need to go through a number of times\n",
    "    materialVariable.data[:] = fn.branching.conditional(DG.condition_list).evaluate(gSwarm)"
   ]
  },
  {
   "cell_type": "code",
   "execution_count": 38,
   "metadata": {
    "collapsed": false,
    "scrolled": true
   },
   "outputs": [],
   "source": [
    "#DG.build_condition_list(materialVariable)\n",
    "#materialVariable.data[:] = fn.branching.conditional(DG.condition_list).evaluate(gSwarm)\n"
   ]
  },
  {
   "cell_type": "code",
   "execution_count": 39,
   "metadata": {
    "collapsed": false
   },
   "outputs": [
    {
     "data": {
      "text/plain": [
       "[(<underworld.function._function.logical_and at 0x7fc82d6e7e90>, 1),\n",
       " (<underworld.function._function.logical_and at 0x7fc82d6f8510>, 2),\n",
       " (<underworld.function._function.logical_and at 0x7fc82d6ee290>, 0),\n",
       " (<underworld.function._function.logical_and at 0x7fc82d6eed50>, 0),\n",
       " (<underworld.function._function.logical_and at 0x7fc82d694fd0>, 1),\n",
       " (True, <underworld.swarm._swarmvariable.SwarmVariable at 0x7fc82d702a10>)]"
      ]
     },
     "execution_count": 39,
     "metadata": {},
     "output_type": "execute_result"
    }
   ],
   "source": [
    "DG.condition_list"
   ]
  },
  {
   "cell_type": "code",
   "execution_count": 40,
   "metadata": {
    "collapsed": false
   },
   "outputs": [
    {
     "data": {
      "text/plain": [
       "array([0, 1, 2], dtype=int32)"
      ]
     },
     "execution_count": 40,
     "metadata": {},
     "output_type": "execute_result"
    }
   ],
   "source": [
    "np.unique(materialVariable.data)"
   ]
  },
  {
   "cell_type": "code",
   "execution_count": 41,
   "metadata": {
    "collapsed": false
   },
   "outputs": [
    {
     "data": {
      "text/html": [
       "<img src='data:image/png;base64,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'>"
      ],
      "text/plain": [
       "<IPython.core.display.HTML object>"
      ]
     },
     "metadata": {},
     "output_type": "display_data"
    },
    {
     "data": {
      "text/plain": [
       "'test.gldb'"
      ]
     },
     "execution_count": 41,
     "metadata": {},
     "output_type": "execute_result"
    }
   ],
   "source": [
    "fig= glucifer.Figure()\n",
    "fig.append( glucifer.objects.Points(gSwarm,materialVariable))\n",
    "\n",
    "\n",
    "#fig.show()\n",
    "#fig.save_database('test.gldb')"
   ]
  },
  {
   "cell_type": "markdown",
   "metadata": {
    "collapsed": false
   },
   "source": [
    "## Temp, phase and compositional buoyancy"
   ]
  },
  {
   "cell_type": "code",
   "execution_count": 42,
   "metadata": {
    "collapsed": true
   },
   "outputs": [],
   "source": [
    "##############\n",
    "#Put this in Slippy\n",
    "##############\n",
    "\n",
    "from easydict import EasyDict as edict\n",
    "class component_phases():\n",
    "    \"\"\"\n",
    "    Class that allows you to create 'phase functions' for a mineral component\n",
    "\n",
    "    \"\"\"\n",
    "    def __init__(self,name, depths,temps, widths,claps,densities):\n",
    "        \"\"\"\n",
    "        Class initialiser.\n",
    "        Parameter\n",
    "        ---------\n",
    "        name : str\n",
    "            'Component', e.g olivine, pyroxene-garnet\n",
    "        depths: list\n",
    "            list of transition depths in kilometers\n",
    "        widths: list \n",
    "            list of transition widths in kilometers\n",
    "        claps: list \n",
    "            list of Clapeyron slopes in Pa/K\n",
    "        densities: list\n",
    "            list of density changes in kg/m3\n",
    "        Returns\n",
    "        -------\n",
    "        mesh : dp\n",
    "        Dictionary storing the phase-transition vales\n",
    "\n",
    "        \"\"\"\n",
    "        if not isinstance(depths,list):\n",
    "            raise TypeError(\"depths object passed in must be of type 'list'\")\n",
    "        if not isinstance(temps,list):\n",
    "            raise TypeError(\"temps object passed in must be of type 'list'\")\n",
    "        if not isinstance(widths,list):\n",
    "            raise TypeError(\"widths object passed in must be of type 'list'\")\n",
    "        if not isinstance(claps,list):\n",
    "            raise TypeError(\"claps object passed in must be of type 'list'\")\n",
    "        if not isinstance(densities,list):\n",
    "            raise TypeError(\"densities object passed in must be of type 'list'\")\n",
    "        if not len(depths) == len(widths) == len(claps) == len(densities):\n",
    "            raise ValueError( \"All lists of phase values should be the same length\")\n",
    "        self.dp = edict({})\n",
    "        self.dp.name = name\n",
    "        self.dp.depths = depths\n",
    "        self.dp.temps = temps\n",
    "        self.dp.widths = widths\n",
    "        self.dp.claps = claps\n",
    "        self.dp.densities = densities\n",
    "        \n",
    "    def build_nd_dict(self, lengthscale, densityscale, gravityscale, tempscale):\n",
    "        self.ndp = edict({})\n",
    "        self.ndp.name = self.dp.name\n",
    "        self.ndp.depths = [i/lengthscale for i in self.dp.depths]\n",
    "        self.ndp.temps = [i/tempscale for i in self.dp.temps]\n",
    "        self.ndp.widths = [i/lengthscale for i in self.dp.widths]\n",
    "        self.ndp.claps = [(i*(tempscale/(densityscale*gravityscale*lengthscale))) for i in self.dp.claps]\n",
    "        \n",
    "    def nd_reduced_pressure(self, depthFn, temperatureField, depthPh, clapPh, tempPh):\n",
    "        \"\"\"\n",
    "        Creates an Underworld function, representing the 'reduced pressure'\n",
    "        \"\"\"\n",
    "        return (depthFn - depthPh) - clapPh*(temperatureField - tempPh)\n",
    "\n",
    "    def nd_phase(self, reduced_p, widthPh):\n",
    "        \"\"\"\n",
    "        Creates an Underworld function, representing the phase function in the domain\n",
    "        \"\"\"\n",
    "        return 0.5*(1. + fn.math.tanh(reduced_p/(widthPh)))\n",
    "    \n",
    "    def phase_function_sum(self, temperatureField, depthFn):\n",
    "        \"\"\"\n",
    "        Creates an Underworld function, representing the Sum of the individual phase functions:\n",
    "        -----------\n",
    "        temperatureField : underworld.mesh._meshvariable.MeshVariable\n",
    "        \n",
    "        ...need to put warning in about running build_nd_dict first \n",
    "        \"\"\"    \n",
    "        \n",
    "        pf_sum = uw.function.misc.constant(0.)\n",
    "        \n",
    "        for phaseId in range(len(self.dp['depths'])):\n",
    "            #build reduced pressure\n",
    "            rp = self.nd_reduced_pressure(depthFn, \n",
    "                                   temperatureField,\n",
    "                                   self.ndp['depths'][phaseId ],\n",
    "                                   self.ndp['claps'][phaseId ],\n",
    "                                   self.ndp['temps'][phaseId ])\n",
    "            #build phase function\n",
    "            pf = self.nd_phase(rp, self.ndp['widths'][phaseId ])\n",
    "            pf_sum += pf\n",
    "        \n",
    "        return pf_sum\n",
    "    \n",
    "    def buoyancy_sum(self, temperatureField, depthFn, gravityscale, lengthscale, diffusivityscale, viscosityscale):\n",
    "        \"\"\"\n",
    "        Creates an Underworld function, representing the Sum of the individual phase functions...\n",
    "        and the associated density changes:\n",
    "        \n",
    "        pf_sum = Sum_k{ (Ra*delRho_k*pf_k/rho_0*eta_0*delta_t)}\n",
    "        -----------\n",
    "        temperatureField : underworld.mesh._meshvariable.MeshVariable\n",
    "        \n",
    "        ...need to put warning in about running build_nd_dict first \n",
    "        \"\"\"\n",
    "        bouyancy_factor = (gravityscale*lengthscale**3)/(viscosityscale*diffusivityscale)\n",
    "        \n",
    "        pf_sum = uw.function.misc.constant(0.)\n",
    "        \n",
    "        for phaseId in range(len(self.dp['depths'])):\n",
    "            #build reduced pressure\n",
    "            rp = self.nd_reduced_pressure(depthFn, \n",
    "                                   temperatureField,\n",
    "                                   self.ndp['depths'][phaseId ],\n",
    "                                   self.ndp['claps'][phaseId ],\n",
    "                                   self.ndp['temps'][phaseId ])\n",
    "            #build phase function\n",
    "            pf = self.nd_phase(rp, self.ndp['widths'][phaseId ])\n",
    "            pf_sum += bouyancy_factor*pf*self.dp['densities'][phaseId ] #we want the dimensional densities here\n",
    "        \n",
    "        return pf_sum"
   ]
  },
  {
   "cell_type": "code",
   "execution_count": 43,
   "metadata": {
    "collapsed": false
   },
   "outputs": [],
   "source": [
    "##############\n",
    "#Set up phase buoyancy contributions\n",
    "##############\n",
    "\n",
    "\n",
    "#olivine\n",
    "olivinePhase = component_phases(name = 'ol', \n",
    "                        depths=[410e3,660e3],\n",
    "                        temps = [1600., 1900.], \n",
    "                        widths = [20e3, 20e3], \n",
    "                        claps=[2.e6, -2.5e6], \n",
    "                        densities = [180., 400.])\n",
    "\n",
    "olivinePhase.build_nd_dict(dp.LS, dp.rho, dp.g, dp.deltaTa)\n",
    "\n",
    "\n",
    "rp = olivinePhase.nd_reduced_pressure(depthFn, \n",
    "                                   temperatureField,\n",
    "                                   olivinePhase.ndp['depths'][0],\n",
    "                                   olivinePhase.ndp['claps'][0],\n",
    "                                   olivinePhase.ndp['temps'][0])\n",
    "\n",
    "#ph_410 = olivinePhase.nd_phase(rp, test.ndp['widths'][0])\n",
    "#pf_sum = test.phase_function_sum(temperatureField, depthFn)\n",
    "\n",
    "olivine_phase_buoyancy = olivinePhase.buoyancy_sum(temperatureField, depthFn, dp.g, dp.LS, dp.k, dp.eta0)\n",
    "\n",
    "#garnet\n",
    "garnetPhase = component_phases(name = 'grt', \n",
    "                        depths=[60e3,400e3, 720e3],\n",
    "                        temps = [1000., 1600., 1900.], \n",
    "                        widths = [20e3, 20e3, 20e3], \n",
    "                        claps=[0.e6, 1.e6, 1.e6], \n",
    "                        densities = [350., 150., 400.])\n",
    "\n",
    "garnetPhase.build_nd_dict(dp.LS, dp.rho, dp.g, dp.deltaTa)\n",
    "\n",
    "\n",
    "rp = garnetPhase.nd_reduced_pressure(depthFn, \n",
    "                                   temperatureField,\n",
    "                                   garnetPhase.ndp['depths'][0],\n",
    "                                   garnetPhase.ndp['claps'][0],\n",
    "                                   garnetPhase.ndp['temps'][0])\n",
    "\n",
    "#ph_410 = olivinePhase.nd_phase(rp, test.ndp['widths'][0])\n",
    "#pf_sum = test.phase_function_sum(temperatureField, depthFn)\n",
    "\n",
    "garnet_phase_buoyancy = garnetPhase.buoyancy_sum(temperatureField, depthFn, dp.g, dp.LS, dp.k, dp.eta0)"
   ]
  },
  {
   "cell_type": "code",
   "execution_count": 44,
   "metadata": {
    "collapsed": false
   },
   "outputs": [
    {
     "name": "stdout",
     "output_type": "stream",
     "text": [
      "(282240000.0, 50960000.0, 0.0)\n"
     ]
    }
   ],
   "source": [
    "##############\n",
    "#Set up compositional buoyancy contributions\n",
    "##############\n",
    "\n",
    "bouyancy_factor = (dp.g*dp.LS**3)/(dp.eta0*dp.k)\n",
    "\n",
    "basalt_comp_buoyancy  = (dp.rho - 2940.)*bouyancy_factor\n",
    "harz_comp_buoyancy = (dp.rho - 3235.)*bouyancy_factor\n",
    "pyrolite_comp_buoyancy = (dp.rho - 3300.)*bouyancy_factor\n",
    "\n",
    "print(basalt_comp_buoyancy, harz_comp_buoyancy, pyrolite_comp_buoyancy)"
   ]
  },
  {
   "cell_type": "code",
   "execution_count": 45,
   "metadata": {
    "collapsed": false
   },
   "outputs": [],
   "source": [
    "#this accounts for the decreas in expansivity\n",
    "alphaRatio = 1.2/3\n",
    "taFn = 1. - (depthFn)*(1. - alphaRatio) \n",
    "#raylieghFn = ndp.RA*temperatureField*taFn\n",
    "\n",
    "\n",
    "if not compBuoyancy:\n",
    "    pyrolitebuoyancyFn =  (ndp.RA*temperatureField*taFn)\n",
    "    harzbuoyancyFn =      (ndp.RA*temperatureField*taFn) \n",
    "    basaltbuoyancyFn =    (ndp.RA*temperatureField*taFn)\n",
    "\n",
    "else : \n",
    "    pyrolitebuoyancyFn =  (ndp.RA*temperatureField*taFn) -\\\n",
    "                          (0.6*olivine_phase_buoyancy + 0.4*garnet_phase_buoyancy) +\\\n",
    "                           pyrolite_comp_buoyancy\n",
    "    harzbuoyancyFn =      (ndp.RA*temperatureField*taFn) -\\\n",
    "                          (0.8*olivine_phase_buoyancy + 0.2*garnet_phase_buoyancy) +\\\n",
    "                           harz_comp_buoyancy\n",
    "    basaltbuoyancyFn =    (ndp.RA*temperatureField*taFn) -\\\n",
    "                          (1.*garnet_phase_buoyancy) +\\\n",
    "                           basalt_comp_buoyancy"
   ]
  },
  {
   "cell_type": "code",
   "execution_count": null,
   "metadata": {
    "collapsed": false
   },
   "outputs": [],
   "source": []
  },
  {
   "cell_type": "markdown",
   "metadata": {},
   "source": [
    "Rheology\n",
    "-----\n",
    "\n"
   ]
  },
  {
   "cell_type": "code",
   "execution_count": 46,
   "metadata": {
    "collapsed": false
   },
   "outputs": [],
   "source": [
    "##############\n",
    "#Set up any functions required by the rheology\n",
    "##############\n",
    "strainRate_2ndInvariant = fn.tensor.second_invariant( \n",
    "                            fn.tensor.symmetric( \n",
    "                            velocityField.fn_gradient ))\n",
    "\n",
    "def safe_visc(func, viscmin=ndp.eta_min, viscmax=ndp.eta_max):\n",
    "    return fn.misc.max(viscmin, fn.misc.min(viscmax, func))"
   ]
  },
  {
   "cell_type": "code",
   "execution_count": 47,
   "metadata": {
    "collapsed": false
   },
   "outputs": [],
   "source": [
    "##############\n",
    "#Get dimensional viscosity values at reference values of temp, pressure, and strain rate\n",
    "##############\n",
    "dp.rPressure  = (-1./dp.Ba)*(np.log(1.-dp.rho*dp.g*dp.Ba*dp.rDepth))\n",
    "rDf = (1./dp.Adf)*np.exp( ((dp.Edf + dp.Vdf*dp.rPressure))/((dp.R*dp.rTemp)))\n",
    "rDs = (1./dp.Ads**(1./ndp.n))*(dp.SR**((1.-ndp.n)/ndp.n))*np.exp( ((dp.Eds + dp.Vds*dp.rPressure))/((ndp.n*dp.R*dp.rTemp)))\n",
    "rPr = (1./dp.Apr**(1./ndp.np))*(dp.SR**((1.-ndp.np)/ndp.np))*np.exp( ((dp.Epr + dp.Vpr*dp.rPressure))/((ndp.np*dp.R*dp.rTemp)))\n",
    "\n",
    "dsfac = rDs/dp.eta0\n",
    "dffac = rDf/dp.eta0\n",
    "prfac = rPr/dp.eta0"
   ]
  },
  {
   "cell_type": "code",
   "execution_count": 48,
   "metadata": {
    "collapsed": false
   },
   "outputs": [
    {
     "name": "stdout",
     "output_type": "stream",
     "text": [
      "(6.4552149291704541, 9.2139579090644208, 531.95364643459959)\n"
     ]
    }
   ],
   "source": [
    "print(dsfac, dffac, prfac)"
   ]
  },
  {
   "cell_type": "code",
   "execution_count": 49,
   "metadata": {
    "collapsed": false
   },
   "outputs": [
    {
     "data": {
      "text/plain": [
       "(250000.0, 217146.33749418327)"
      ]
     },
     "execution_count": 49,
     "metadata": {},
     "output_type": "execute_result"
    }
   ],
   "source": [
    "#These guys are required because we are approximating compressibility in the pressure term for the flow law,\n",
    "#See 'non_linear_rheology' Notebook for more details\n",
    "\n",
    "corrDepthFn = fn.math.log(1. - dp.rho*dp.g*dp.Ba*dp.LS*depthFn)/np.log(1. - dp.rho*dp.g*dp.Ba*dp.LS)\n",
    "correctrDepth = np.log(1. - dp.rho*dp.g*dp.Ba*dp.LS*ndp.rDepth)/np.log(1. - dp.rho*dp.g*dp.Ba*dp.LS)\n",
    "\n",
    "ndp.rDepth*dp.LS, correctrDepth*dp.LS"
   ]
  },
  {
   "cell_type": "code",
   "execution_count": 50,
   "metadata": {
    "collapsed": false
   },
   "outputs": [],
   "source": [
    "############\n",
    "#Rheology: create UW2 functions for all viscous mechanisms\n",
    "#############\n",
    "\n",
    "omega = fn.misc.constant(1.) #this function can hold any arbitary viscosity modifications \n",
    "\n",
    "\n",
    "##Diffusion Creep\n",
    "diffusion = dffac*fn.math.exp( ((ndp.Edf + (corrDepthFn*ndp.Wdf))/((temperatureField + ndp.TS))) - \n",
    "              ((ndp.Edf + (correctrDepth*ndp.Wdf))/((ndp.rTemp + ndp.TS)))  ) \n",
    "\n",
    "linearVisc = safe_visc(diffusion)\n",
    "\n",
    "##Dislocation Creep\n",
    "nl_correction = (strainRate_2ndInvariant/ndp.SR)**((1.-ndp.n)/(ndp.n))\n",
    "dislocation = dsfac*(nl_correction)*fn.math.exp( ((ndp.Eds + (corrDepthFn*ndp.Wds))/(ndp.n*(temperatureField + ndp.TS))) -\n",
    "                                     ((ndp.Eds + (correctrDepth*ndp.Wds))/(ndp.n*(ndp.rTemp + ndp.TS))))\n",
    "\n",
    "\n",
    "\n",
    "##Peirls Creep\n",
    "nl_correction = (strainRate_2ndInvariant/ndp.SR)**((1.-ndp.np)/(ndp.np))\n",
    "peierls = prfac*(nl_correction)*fn.math.exp( ((ndp.Eps + (corrDepthFn*ndp.Wps))/(ndp.n*(temperatureField + ndp.TS))) -\n",
    "                                     ((ndp.Eps + (correctrDepth*ndp.Wps))/(ndp.np*(ndp.rTemp + ndp.TS))))\n",
    "\n",
    "\n",
    "##Define the Plasticity\n",
    "ys =  ndp.cohesion + (depthFn*ndp.fcd)\n",
    "ysMax = 10e4*1e6*sf.stress\n",
    "ysf = fn.misc.min(ys, ysMax)\n",
    "yielding = safe_visc(ysf/(strainRate_2ndInvariant))\n",
    "\n",
    "\n",
    "\n",
    "##Crust rheology\n",
    "crustys =  ndp.cohesion + (depthFn*ndp.fcd*0.1)\n",
    "crustyielding = crustys/(strainRate_2ndInvariant) #extra factor to account for underworld second invariant form\n"
   ]
  },
  {
   "cell_type": "code",
   "execution_count": 51,
   "metadata": {
    "collapsed": false
   },
   "outputs": [],
   "source": [
    "############\n",
    "#Rheology: combine viscous mechanisms in various ways \n",
    "#harmonic: harmonic average of all mechanims\n",
    "#min: minimum effective viscosity of the mechanims\n",
    "#mixed: takes the minimum of the harmonic and the plastic effective viscosity\n",
    "#############\n",
    "\n",
    "#Map viscMechs list (defined in setup), to the actual functions, requires that same names are used.\n",
    "viscdict = {}\n",
    "for i in viscMechs:\n",
    "    viscdict[i] = locals()[i]\n",
    "\n",
    "#Condition for weak crust rheology to be active\n",
    "crustCond = operator.and_((depthFn < CRUSTVISCUTOFF), (depthFn > MANTLETOCRUST))    \n",
    "    \n",
    "#Harmonic average of all mechanisms    \n",
    "if viscCombine == 'harmonic':\n",
    "    denom = fn.misc.constant(0.)\n",
    "    for mech in viscdict.values():\n",
    "        denom += 1./mech\n",
    "    mantleviscosityFn = safe_visc(1./denom)\n",
    "    harmonic_test = mantleviscosityFn\n",
    "    lowMantleViscFac = 10.\n",
    "    #Only diffusuion creep for lower mantle\n",
    "    finalviscosityFn  = fn.branching.conditional([(depthFn < LOWMANTLEDEPTH, mantleviscosityFn),\n",
    "                                  (True, safe_visc(diffusion*lowMantleViscFac))])\n",
    "    \n",
    "    #Add the weaker crust mechanism, plus any cutoffs\n",
    "    crust_denom = denom + (1./crustyielding)\n",
    "    crustviscosityFn = safe_visc(1./crust_denom, viscmin=ndp.eta_min, viscmax=ndp.eta_max_crust)\n",
    "    #Crust viscosity only active above between CRUSTVISCUTOFF and MANTLETOCRUST\n",
    "    finalcrustviscosityFn  = fn.branching.conditional([(crustCond, crustviscosityFn),\n",
    "                                  (True, finalviscosityFn)])\n",
    "\n",
    "    \n",
    "    \n",
    "if viscCombine == 'min':\n",
    "    print 'yes'\n",
    "    mantleviscosityFn = fn.misc.constant(ndp.eta_max)\n",
    "    for mech in viscdict.values():\n",
    "        mantleviscosityFn = fn.misc.min(mech, mantleviscosityFn )\n",
    "    mantleviscosityFn = safe_visc(mantleviscosityFn)\n",
    "    min_test = mantleviscosityFn\n",
    "    #Only diffusion creep for lower mantle\n",
    "    finalviscosityFn  = fn.branching.conditional([(depthFn < LOWMANTLEDEPTH, mantleviscosityFn),\n",
    "                                  (True, safe_visc(diffusion*lowMantleViscFac))])\n",
    "    #Add the weaker crust mechanism, plus any cutoffs\n",
    "    crustviscosityFn = safe_visc(fn.misc.min(finalviscosityFn, crustyielding), viscmin=ndp.eta_min, viscmax=ndp.eta_max_crust)\n",
    "    #Crust viscosity only active above CRUSTVISCUTOFF\n",
    "    #Crust viscosity only active above between CRUSTVISCUTOFF and MANTLETOCRUST\n",
    "    finalcrustviscosityFn  = fn.branching.conditional([(crustCond, crustviscosityFn),\n",
    "                                  (True, finalviscosityFn)])\n",
    "\n",
    "if viscCombine == 'mixed':\n",
    "    denom = fn.misc.constant(0.)\n",
    "    for mech in viscdict.values():\n",
    "        denom += 1./mech\n",
    "    mantleviscosityFn = safe_visc(fn.misc.min(yielding, (1./denom))) #min of harmonic average and yielding\n",
    "    mixed_test = mantleviscosityFn\n",
    "    lowMantleViscFac = 10.\n",
    "    #Only diffusuion creep for lower mantle\n",
    "    finalviscosityFn  = fn.branching.conditional([(depthFn < LOWMANTLEDEPTH, mantleviscosityFn),\n",
    "                                  (True, safe_visc(diffusion*lowMantleViscFac))])\n",
    "    \n",
    "    #Add the weaker crust mechanism, plus any cutoffs\n",
    "    crust_denom = denom + (1./crustyielding)\n",
    "    crustviscosityFn = safe_visc(fn.misc.min(crustyielding,1./crust_denom), viscmin=ndp.eta_min, viscmax=ndp.eta_max_crust)\n",
    "    #Crust viscosity only active above between CRUSTVISCUTOFF and MANTLETOCRUST\n",
    "    finalcrustviscosityFn  = fn.branching.conditional([((depthFn < CRUSTVISCUTOFF and depthFn > MANTLETOCRUST), crustviscosityFn),\n",
    "                                  (True, finalviscosityFn)])\n",
    "    \n",
    "    \n",
    "    \n",
    "    \n",
    "    \n",
    "    \n",
    "    \n",
    "    \n",
    "#viscdict.keys(), viscdict.values()\n",
    "\n",
    "#Combine the viscous creep and plasticity\n",
    "#mantleviscosityFn0 = safe_visc(1./(((1./diffusion) + (1./dislocation) + (1./peierls)   + (1./yielding))))\n",
    "\n",
    "#lowMantleDepth = 660e3\n",
    "\n",
    "#crustviscosityFn = safe_visc(1./(((1./diffusion) + (1./dislocation) + (1./peierls) + (1./crustyielding))), viscmin=ndp.eta_min, viscmax=0.6)\n",
    "\n"
   ]
  },
  {
   "cell_type": "code",
   "execution_count": 52,
   "metadata": {
    "collapsed": false
   },
   "outputs": [
    {
     "data": {
      "text/plain": [
       "'harmonic'"
      ]
     },
     "execution_count": 52,
     "metadata": {},
     "output_type": "execute_result"
    }
   ],
   "source": [
    "#viscCombine = 'mixed'\n",
    "#viscCombine\n",
    "#ndp.eta_max_crust"
   ]
  },
  {
   "cell_type": "code",
   "execution_count": 53,
   "metadata": {
    "collapsed": false
   },
   "outputs": [
    {
     "data": {
      "text/html": [
       "<img src='data:image/png;base64,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'>"
      ],
      "text/plain": [
       "<IPython.core.display.HTML object>"
      ]
     },
     "metadata": {},
     "output_type": "display_data"
    }
   ],
   "source": [
    "fig= glucifer.Figure()\n",
    "#fig.append( glucifer.objects.Points(gSwarm, densityMapFn))\n",
    "fig.append( glucifer.objects.Surface(mesh, mantleviscosityFn, logScale=True))\n",
    "#fig.append( glucifer.objects.Surface(mesh, corrDepthFn - depthFn))\n",
    "\n",
    "#fig.show()"
   ]
  },
  {
   "cell_type": "code",
   "execution_count": 54,
   "metadata": {
    "collapsed": false
   },
   "outputs": [],
   "source": [
    "############\n",
    "#Build a weak zone\n",
    "#############\n",
    "\n",
    "\n",
    "def disGen(centre):\n",
    "    coord = fn.input()\n",
    "    offsetFn = coord - centre\n",
    "    return fn.math.sqrt(fn.math.dot( offsetFn, offsetFn ))\n",
    "\n",
    "depth = 200.e3 #m\n",
    "angle = 20. #degrees\n",
    "num_circles = 50\n",
    "half_width = 5e3 #m\n",
    "\n",
    "\n",
    "xpos = depth/math.tan((angle*math.pi/180.))\n",
    "start = (0.075, 1.)\n",
    "end = (start[0] +xpos/dp.LS , start[1] - depth/dp.LS)\n",
    "xar = np.linspace(start[0], end[0], num_circles)\n",
    "yar = np.linspace(start[1], end[1], num_circles)\n",
    "fnBuilder = fn.misc.constant(1000.)\n",
    "for i in range(num_circles):\n",
    "    circ_dist = disGen((xar[i], yar[i]))\n",
    "    fnBuilder = fn.misc.min(circ_dist, fnBuilder)\n",
    "    \n",
    "sig = half_width/dp.LS\n",
    "gammaFn =  fn.math.exp(-fn.math.pow(fnBuilder, 2.) / (2. * fn.math.pow(sig, 2.)))"
   ]
  },
  {
   "cell_type": "code",
   "execution_count": 55,
   "metadata": {
    "collapsed": false
   },
   "outputs": [],
   "source": [
    "testFn = disGen((0., 1.))"
   ]
  },
  {
   "cell_type": "code",
   "execution_count": 56,
   "metadata": {
    "collapsed": true
   },
   "outputs": [],
   "source": [
    "weakVisc = 1.\n",
    "weakzoneFn = fn.misc.min((weakVisc/gammaFn*1.),ndp.eta_max)\n",
    "combmantleviscosityFn = fn.misc.max(ndp.eta_min, fn.misc.min(mantleviscosityFn, weakzoneFn))\n",
    "\n"
   ]
  },
  {
   "cell_type": "code",
   "execution_count": null,
   "metadata": {
    "collapsed": true
   },
   "outputs": [],
   "source": [
    "\n",
    "    "
   ]
  },
  {
   "cell_type": "code",
   "execution_count": 57,
   "metadata": {
    "collapsed": false
   },
   "outputs": [],
   "source": [
    "#velocityField.data.max()"
   ]
  },
  {
   "cell_type": "markdown",
   "metadata": {},
   "source": [
    "import matplotlib.pylab as pyplt\n",
    "%matplotlib inline\n",
    "\n",
    "\n",
    "\n",
    "##################\n",
    "#Output functions to numpy vertical averages, maxes, mins\n",
    "##################\n",
    "\n",
    "viscmapFnmesh = uw.mesh.MeshVariable(mesh,nodeDofCount=1)\n",
    "out = uw.utils.MeshVariable_Projection( viscmapFnmesh, viscosityMapFn)\n",
    "out.solve()\n",
    "\n",
    "\n",
    "#avDf = ndfp.evaluate(mesh).reshape(mesh.elementRes[1] + 1, mesh.elementRes[0] + 1).mean(axis=1)\n",
    "avDs = ndsp.evaluate(mesh).reshape(mesh.elementRes[1] + 1, mesh.elementRes[0] + 1).mean(axis=1)\n",
    "umantle = mantleviscosityFn.evaluate(mesh).reshape(mesh.elementRes[1] + 1, mesh.elementRes[0] + 1).mean(axis=1)\n",
    "lmantle = lowermantleviscosityFn.evaluate(mesh).reshape(mesh.elementRes[1] + 1, mesh.elementRes[0] + 1).mean(axis=1)\n",
    "eff = viscmapFnmesh.evaluate(mesh).reshape(mesh.elementRes[1] + 1, mesh.elementRes[0] + 1).mean(axis=1)\n",
    "\n",
    "effMin = viscmapFnmesh.evaluate(mesh).reshape(mesh.elementRes[1] + 1, mesh.elementRes[0] + 1).min(axis=1)\n",
    "effMax = viscmapFnmesh.evaluate(mesh).reshape(mesh.elementRes[1] + 1, mesh.elementRes[0] + 1).max(axis=1)\n",
    "\n",
    "###################\n",
    "#Plot\n",
    "###################\n",
    "import matplotlib.pylab as pyplt\n",
    "%matplotlib inline\n",
    "\n",
    "fig, ax = pyplt.subplots()\n",
    "#ax .plot(avDf, label = 'diff')\n",
    "#ax .plot(avDs, label = 'dis')\n",
    "ax .plot(eff, label = 'eff')\n",
    "ax .plot(effMax, label = 'effMax')\n",
    "ax .plot(effMin, label = 'effMin')\n",
    "#ax .plot(umantle, label = 'uman')\n",
    "#ax .plot(lmantle, label = 'lman')\n",
    "ax.set_yscale(\"log\", nonposy='clip')\n",
    "ax.legend(loc = 3)"
   ]
  },
  {
   "cell_type": "code",
   "execution_count": 61,
   "metadata": {
    "collapsed": false,
    "scrolled": true
   },
   "outputs": [],
   "source": [
    "#fig= glucifer.Figure()\n",
    "#fig.append( glucifer.objects.Points(gSwarm,materialVariable))\n",
    "#fig.append( glucifer.objects.Points(gSwarm,viscosityMapFn, logScale=True))\n",
    "#fig.append( glucifer.objects.Surface(mesh, ndfp, logScale=True))\n",
    "\n",
    "#fig.append( glucifer.objects.Surface(mesh,mantleviscosityFn, logScale=True))\n",
    "#fig.show()\n",
    "#fig.save_database('test.gldb')"
   ]
  },
  {
   "cell_type": "code",
   "execution_count": 62,
   "metadata": {
    "collapsed": false
   },
   "outputs": [],
   "source": [
    "#ndp.SR"
   ]
  },
  {
   "cell_type": "code",
   "execution_count": null,
   "metadata": {
    "collapsed": false
   },
   "outputs": [],
   "source": []
  },
  {
   "cell_type": "markdown",
   "metadata": {},
   "source": [
    "Stokes system setup\n",
    "-----\n"
   ]
  },
  {
   "cell_type": "code",
   "execution_count": 63,
   "metadata": {
    "collapsed": false
   },
   "outputs": [],
   "source": [
    "densityMapFn = fn.branching.map( fn_key = materialVariable,\n",
    "                         mapping = {airIndex:ndp.StRA,\n",
    "                                    crustIndex:basaltbuoyancyFn, \n",
    "                                    mantleIndex:pyrolitebuoyancyFn,\n",
    "                                    harzIndex:harzbuoyancyFn} )"
   ]
  },
  {
   "cell_type": "code",
   "execution_count": 64,
   "metadata": {
    "collapsed": true
   },
   "outputs": [],
   "source": [
    "\n",
    "# Define our vertical unit vector using a python tuple (this will be automatically converted to a function).\n",
    "gravity = ( 0.0, 1.0 )\n",
    "\n",
    "# Now create a buoyancy force vector using the density and the vertical unit vector. \n",
    "buoyancyFn = densityMapFn * gravity"
   ]
  },
  {
   "cell_type": "code",
   "execution_count": 65,
   "metadata": {
    "collapsed": true
   },
   "outputs": [],
   "source": [
    "stokesPIC = uw.systems.Stokes(velocityField=velocityField, \n",
    "                              pressureField=pressureField,\n",
    "                              conditions=[freeslipBC,],\n",
    "                              fn_viscosity=linearVisc, \n",
    "                              fn_bodyforce=buoyancyFn )"
   ]
  },
  {
   "cell_type": "code",
   "execution_count": 66,
   "metadata": {
    "collapsed": true
   },
   "outputs": [],
   "source": [
    "solver = uw.systems.Solver(stokesPIC)\n",
    "if not checkpointLoad:\n",
    "    solver.solve() #A solve on the linear visocisty is unhelpful unless we're starting from scratch"
   ]
  },
  {
   "cell_type": "code",
   "execution_count": 67,
   "metadata": {
    "collapsed": false
   },
   "outputs": [],
   "source": [
    "fig= glucifer.Figure()\n",
    "#fig.append( glucifer.objects.Points(gSwarm,tracerVariable, colours= 'white black'))\n",
    "#fig.append( glucifer.objects.Points(gSwarm,materialVariable))\n",
    "#fig.append( glucifer.objects.Surface(mesh, finalviscosityFn, logScale=True))\n",
    "\n",
    "#fig.append( glucifer.objects.Surface(mesh, strainRate_2ndInvariant/ndp.SR, logScale=True))\n",
    "#fig.show()\n",
    "#fig.save_database('test.gldb')"
   ]
  },
  {
   "cell_type": "code",
   "execution_count": 68,
   "metadata": {
    "collapsed": false
   },
   "outputs": [
    {
     "name": "stdout",
     "output_type": "stream",
     "text": [
      "2\n"
     ]
    }
   ],
   "source": [
    "if WeakZone:\n",
    "    print(1)\n",
    "    viscosityMapFn = fn.branching.map( fn_key = materialVariable,\n",
    "                         mapping = {crustIndex:combmantleviscosityFn,\n",
    "                                    mantleIndex:combmantleviscosityFn,\n",
    "                                    harzIndex:combmantleviscosityFn} )\n",
    "else: #Use weak crust\n",
    "    print(2)\n",
    "    viscosityMapFn = fn.branching.map( fn_key = materialVariable,\n",
    "                         mapping = {crustIndex:finalcrustviscosityFn,\n",
    "                                    mantleIndex:finalviscosityFn,\n",
    "                                    harzIndex:finalviscosityFn} )\n",
    "\n"
   ]
  },
  {
   "cell_type": "code",
   "execution_count": null,
   "metadata": {
    "collapsed": false
   },
   "outputs": [],
   "source": []
  },
  {
   "cell_type": "code",
   "execution_count": null,
   "metadata": {
    "collapsed": false
   },
   "outputs": [],
   "source": []
  },
  {
   "cell_type": "code",
   "execution_count": null,
   "metadata": {
    "collapsed": true
   },
   "outputs": [],
   "source": []
  },
  {
   "cell_type": "code",
   "execution_count": 69,
   "metadata": {
    "collapsed": true
   },
   "outputs": [],
   "source": [
    "#Add the non-linear viscosity to the Stokes system\n",
    "stokesPIC.fn_viscosity = viscosityMapFn"
   ]
  },
  {
   "cell_type": "code",
   "execution_count": 70,
   "metadata": {
    "collapsed": false
   },
   "outputs": [
    {
     "name": "stdout",
     "output_type": "stream",
     "text": [
      "\u001b[1;35m\n",
      " \n",
      "Pressure iterations:   4\n",
      "Velocity iterations:   1 (presolve)      \n",
      "Velocity iterations:  -1 (pressure solve)\n",
      "Velocity iterations:   1 (backsolve)     \n",
      "Velocity iterations:   1 (total solve)   \n",
      " \n",
      "SCR RHS  solve time: 5.3009e-01\n",
      "Pressure solve time: 4.7355e-02\n",
      "Velocity solve time: 5.1964e-01 (backsolve)\n",
      "Total solve time   : 1.1589e+00\n",
      " \n",
      "Velocity solution min/max: 0.0000e+00/0.0000e+00\n",
      "Pressure solution min/max: 0.0000e+00/0.0000e+00\n",
      " \n",
      "\u001b[00m\n"
     ]
    }
   ],
   "source": [
    "solver.set_inner_method(\"mumps\")\n",
    "solver.options.scr.ksp_type=\"cg\"\n",
    "solver.set_penalty(1.0e7)\n",
    "solver.options.scr.ksp_rtol = 1.0e-4\n",
    "solver.solve(nonLinearIterate=True)\n",
    "solver.print_stats()"
   ]
  },
  {
   "cell_type": "code",
   "execution_count": null,
   "metadata": {
    "collapsed": true
   },
   "outputs": [],
   "source": []
  },
  {
   "cell_type": "code",
   "execution_count": 62,
   "metadata": {
    "collapsed": false
   },
   "outputs": [],
   "source": [
    "#Check which particles are yielding\n",
    "#yieldingCheck.data[:] = 0\n",
    "\n",
    "#yieldconditions = [ ( mantleviscosityFn < Visc , 1), \n",
    "#               ( True                                           , 0) ]\n",
    "\n",
    "# use the branching conditional function to set each particle's index\n",
    "#yieldingCheck.data[:] = fn.branching.conditional( yieldconditions ).evaluate(gSwarm)"
   ]
  },
  {
   "cell_type": "code",
   "execution_count": 300,
   "metadata": {
    "collapsed": false,
    "scrolled": true
   },
   "outputs": [],
   "source": [
    "#fig= glucifer.Figure()\n",
    "#fig.append( glucifer.objects.Points(gSwarm,yieldingCheck))\n",
    "\n",
    "#fig.append( glucifer.objects.Surface(mesh,ndflm, logScale=True))\n",
    "#fig.show()"
   ]
  },
  {
   "cell_type": "markdown",
   "metadata": {},
   "source": [
    "Advection-diffusion System setup\n",
    "-----"
   ]
  },
  {
   "cell_type": "code",
   "execution_count": 192,
   "metadata": {
    "collapsed": false
   },
   "outputs": [],
   "source": [
    "advDiff = uw.systems.AdvectionDiffusion( phiField       = temperatureField, \n",
    "                                         phiDotField    = temperatureDotField, \n",
    "                                         velocityField  = velocityField,\n",
    "                                         fn_sourceTerm    = 0.0,\n",
    "                                         fn_diffusivity = 1.0, \n",
    "                                         #conditions     = [neumannTempBC, dirichTempBC] )\n",
    "                                         conditions     = [ dirichTempBC] )\n",
    "\n",
    "passiveadvector = uw.systems.SwarmAdvector( swarm         = gSwarm, \n",
    "                                     velocityField = velocityField, \n",
    "                                     order         = 1)"
   ]
  },
  {
   "cell_type": "code",
   "execution_count": 193,
   "metadata": {
    "collapsed": false
   },
   "outputs": [],
   "source": [
    "#I was playing around with a tailored diffusivity to target the slab\n",
    "\n",
    "#inCircleFnGenerator#Now build the perturbation part\n",
    "#def htan(centre, radius, widthPh, farVal = 0.01, fac = 10.):\n",
    "#    coord = fn.input()\n",
    "#    offsetFn = coord - centre\n",
    "#    dist = fn.math.sqrt(fn.math.dot( offsetFn, offsetFn ))\n",
    "    \n",
    "    \n",
    "#    return (((fn.math.tanh(((radius - dist))/widthPh) + 1.) /2.))*fac + farVal\n",
    "\n",
    "#tfun = htan((0.1, 0.9), 0.1, 0.1, 0.1)"
   ]
  },
  {
   "cell_type": "code",
   "execution_count": 236,
   "metadata": {
    "collapsed": true
   },
   "outputs": [],
   "source": [
    "for index in mesh.specialSets[\"MinJ_VertexSet\"]:\n",
    "    temperatureField.data[index] = ndp.TBP\n",
    "for index in mesh.specialSets[\"MaxJ_VertexSet\"]:\n",
    "    temperatureField.data[index] = ndp.TSP"
   ]
  },
  {
   "cell_type": "code",
   "execution_count": 237,
   "metadata": {
    "collapsed": false
   },
   "outputs": [
    {
     "data": {
      "text/plain": [
       "1394.4794120332097"
      ]
     },
     "execution_count": 237,
     "metadata": {},
     "output_type": "execute_result"
    }
   ],
   "source": [
    "velocityField.data.max()"
   ]
  },
  {
   "cell_type": "code",
   "execution_count": 238,
   "metadata": {
    "collapsed": false
   },
   "outputs": [],
   "source": [
    "############\n",
    "#Slightly Diffuse the initial perturbation\n",
    "#############\n",
    "\n",
    "timetoDifffuse = 0.#Million years\n",
    "incrementtoDiffuse = 0.2 #Million years\n",
    "\n",
    "timetoDifffuse = (timetoDifffuse*1e6*(spery)/sf.SR).magnitude\n",
    "incrementtoDiffuse = (incrementtoDiffuse*1e6*(spery)/sf.SR).magnitude\n",
    "\n",
    "totAdt = 0.\n",
    "it = 0\n",
    "while totAdt < timetoDifffuse:\n",
    "    dtad = advDiff.get_max_dt()\n",
    "    print(\"step\") + str(it) \n",
    "    advDiff.integrate(incrementtoDiffuse)\n",
    "    totAdt += incrementtoDiffuse\n",
    "    it += 1\n",
    "    \n",
    "#Reset Boundary conds.   \n",
    "for index in mesh.specialSets[\"MinJ_VertexSet\"]:\n",
    "    temperatureField.data[index] = ndp.TBP\n",
    "for index in mesh.specialSets[\"MaxJ_VertexSet\"]:\n",
    "    temperatureField.data[index] = ndp.TSP\n",
    "    \n",
    "comm.Barrier()"
   ]
  },
  {
   "cell_type": "code",
   "execution_count": 239,
   "metadata": {
    "collapsed": true
   },
   "outputs": [],
   "source": [
    "population_control = uw.swarm.PopulationControl(gSwarm,deleteThreshold=0.2,splitThreshold=1.,maxDeletions=3,maxSplits=0, aggressive=True, particlesPerCell=ppc)"
   ]
  },
  {
   "cell_type": "markdown",
   "metadata": {},
   "source": [
    "Analysis functions / routines\n",
    "-----"
   ]
  },
  {
   "cell_type": "code",
   "execution_count": 240,
   "metadata": {
    "collapsed": true
   },
   "outputs": [],
   "source": [
    "#These are functions we can use to evuate integrals over restricted parts of the domain\n",
    "# For instance, we can exclude the thermal lithosphere from integrals\n",
    "\n",
    "def temprestrictionFn(lithval = 0.9):\n",
    "\n",
    "    tempMM = fn.view.min_max(temperatureField)\n",
    "    tempMM.evaluate(mesh)\n",
    "    TMAX = tempMM.max_global()\n",
    "    mantleconditions = [ (                                  temperatureField > lithval*TMAX, 1.),\n",
    "                   (                                                   True , 0.) ]\n",
    "\n",
    "\n",
    "    return fn.branching.conditional(mantleconditions)\n",
    "\n",
    "mantlerestrictFn = temprestrictionFn(lithval = 0.85)\n",
    "\n",
    "\n",
    "\n",
    "def platenessFn(val = 0.1):\n",
    "    normgradV = fn.math.abs(velocityField.fn_gradient[0]/fn.math.sqrt(velocityField[0]*velocityField[0])) #[du*/dx]/sqrt(u*u)\n",
    "\n",
    "\n",
    "\n",
    "    srconditions = [ (                                  normgradV < val, 1.),\n",
    "                   (                                                   True , 0.) ]\n",
    "\n",
    "\n",
    "    return fn.branching.conditional(srconditions)\n",
    "\n",
    "srrestrictFn = platenessFn(val = 0.1)"
   ]
  },
  {
   "cell_type": "code",
   "execution_count": null,
   "metadata": {
    "collapsed": true
   },
   "outputs": [],
   "source": []
  },
  {
   "cell_type": "code",
   "execution_count": 241,
   "metadata": {
    "collapsed": false
   },
   "outputs": [],
   "source": [
    "#Setup volume integrals \n",
    "\n",
    "tempint = uw.utils.Integral( temperatureField, mesh )\n",
    "areaint = uw.utils.Integral( 1.,               mesh )\n",
    "\n",
    "v2int   = uw.utils.Integral( fn.math.dot(velocityField,velocityField), mesh )\n",
    "\n",
    "dwint   = uw.utils.Integral( temperatureField*velocityField[1], mesh )\n",
    "\n",
    "sinner = fn.math.dot( strainRate_2ndInvariant, strainRate_2ndInvariant )\n",
    "vdint = uw.utils.Integral( (2.*viscosityMapFn*sinner), mesh ) #Is it two or four here?\n",
    "\n",
    "mantleArea   = uw.utils.Integral( mantlerestrictFn, mesh )\n",
    "mantleTemp = uw.utils.Integral( temperatureField*mantlerestrictFn, mesh )\n",
    "mantleVisc = uw.utils.Integral( mantleviscosityFn*mantlerestrictFn, mesh )\n",
    "mantleVd = uw.utils.Integral( (2.*viscosityMapFn*sinner*mantlerestrictFn), mesh ) #these now work on MappingFunctions"
   ]
  },
  {
   "cell_type": "code",
   "execution_count": 242,
   "metadata": {
    "collapsed": true
   },
   "outputs": [],
   "source": [
    "#Setup surface integrals\n",
    "\n",
    "rmsSurfInt = uw.utils.Integral( fn=velocityField[0]*velocityField[0], mesh=mesh, integrationType='Surface', \n",
    "                          surfaceIndexSet=mesh.specialSets[\"MaxJ_VertexSet\"])\n",
    "nuTop      = uw.utils.Integral( fn=temperatureField.fn_gradient[1],    mesh=mesh, integrationType='Surface', \n",
    "                          surfaceIndexSet=mesh.specialSets[\"MaxJ_VertexSet\"])\n",
    "nuBottom   = uw.utils.Integral( fn=temperatureField.fn_gradient[1],    mesh=mesh, integrationType='Surface', \n",
    "                          surfaceIndexSet=mesh.specialSets[\"MinJ_VertexSet\"])\n",
    "\n",
    "plateint  = uw.utils.Integral( fn=srrestrictFn, mesh=mesh, integrationType='Surface', #Integrate the plateness function\n",
    "                          surfaceIndexSet=mesh.specialSets[\"MaxJ_VertexSet\"]) \n",
    "\n",
    "surfint  = uw.utils.Integral( fn=1., mesh=mesh, integrationType='Surface',   #Surface length function (i.e. domain width)\n",
    "                          surfaceIndexSet=mesh.specialSets[\"MaxJ_VertexSet\"])"
   ]
  },
  {
   "cell_type": "code",
   "execution_count": 243,
   "metadata": {
    "collapsed": true
   },
   "outputs": [],
   "source": [
    "#Define functions for the evaluation of integrals\n",
    "\n",
    "def basic_int(ourIntegral):           #This one just hands back the evaluated integral\n",
    "    return ourIntegral.evaluate()[0]\n",
    "\n",
    "def avg_temp():\n",
    "    return tempint.evaluate()[0]/areaint.evaluate()[0]\n",
    "\n",
    "def nusseltTB(temp_field, mesh):\n",
    "    return -nuTop.evaluate()[0], -nuBottom.evaluate()[0]\n",
    "\n",
    "def rms():\n",
    "    return math.sqrt(v2int.evaluate()[0]/areaint.evaluate()[0])\n",
    "\n",
    "def rms_surf():\n",
    "    return math.sqrt(rmsSurfInt.evaluate()[0])\n",
    "\n",
    "def max_vx_surf(velfield, mesh):\n",
    "    vuvelxfn = fn.view.min_max(velfield[0])\n",
    "    vuvelxfn.evaluate(mesh.specialSets[\"MaxJ_VertexSet\"])\n",
    "    return vuvelxfn.max_global()\n",
    "\n",
    "\n",
    "def visc_extr(viscfn):\n",
    "    vuviscfn = fn.view.min_max(viscfn)\n",
    "    vuviscfn.evaluate(mesh)\n",
    "    return vuviscfn.max_global(), vuviscfn.min_global()"
   ]
  },
  {
   "cell_type": "code",
   "execution_count": 244,
   "metadata": {
    "collapsed": false
   },
   "outputs": [
    {
     "data": {
      "text/plain": [
       "(49.414476669082276, 299.31247371188755, 609.9273529460928)"
      ]
     },
     "execution_count": 244,
     "metadata": {},
     "output_type": "execute_result"
    }
   ],
   "source": [
    "#v2sum_integral  = uw.utils.Integral( mesh=mesh, fn=fn.math.dot( velocityField, velocityField ) )\n",
    "#volume_integral = uw.utils.Integral( mesh=mesh, fn=1. )\n",
    "#Vrms = math.sqrt( v2sum_integral.evaluate()[0] )/volume_integral.evaluate()[0]\n",
    "\n",
    "\n",
    "\n",
    "#if(uw.rank()==0):\n",
    "#    print('Initial Vrms = {0:.3f}'.format(Vrms))\n",
    "\n",
    "# Check the Metrics\n",
    "\n",
    "#Avg_temp = avg_temp()\n",
    "Rms = rms()\n",
    "Rms_surf = rms_surf()\n",
    "Max_vx_surf = max_vx_surf(velocityField, mesh)\n",
    "Rms, Rms_surf, Max_vx_surf \n",
    "#Gravwork = basic_int(dwint)\n",
    "#Viscdis = basic_int(vdint)\n",
    "#nu1, nu0 = nusseltTB(temperatureField, mesh) # return top then bottom\n",
    "#etamax, etamin = visc_extr(mantleviscosityFn)\n",
    "\n",
    "#Area_mantle = basic_int(mantleArea)\n",
    "#Viscmantle = basic_int(mantleVisc)\n",
    "#Tempmantle = basic_int(mantleTemp)\n",
    "#Viscdismantle = basic_int(mantleVd)"
   ]
  },
  {
   "cell_type": "markdown",
   "metadata": {},
   "source": [
    "Viz.\n",
    "-----"
   ]
  },
  {
   "cell_type": "code",
   "execution_count": 245,
   "metadata": {
    "collapsed": false
   },
   "outputs": [],
   "source": [
    "viscVariable = gSwarm.add_variable( dataType=\"float\", count=1 )\n",
    "viscVariable.data[:] = viscosityMapFn.evaluate(gSwarm)"
   ]
  },
  {
   "cell_type": "code",
   "execution_count": 246,
   "metadata": {
    "collapsed": false
   },
   "outputs": [],
   "source": [
    "#Pack some stuff into a database as well\n",
    "figDb = glucifer.Figure()\n",
    "#figDb.append( glucifer.objects.Mesh(mesh))\n",
    "figDb.append( glucifer.objects.VectorArrows(mesh,velocityField, scaling=0.00005))\n",
    "#figDb.append( glucifer.objects.Points(gSwarm,tracerVariable, colours= 'white black'))\n",
    "figDb.append( glucifer.objects.Points(gSwarm,materialVariable))\n",
    "\n",
    "figDb.append( glucifer.objects.Points(gSwarm,viscosityMapFn, logScale=True, valueRange =[1e-3,1e5]))\n",
    "figDb.append( glucifer.objects.Surface(mesh, strainRate_2ndInvariant, logScale=True))\n",
    "figDb.append( glucifer.objects.Surface(mesh, temperatureField))\n",
    "#figDb.show()"
   ]
  },
  {
   "cell_type": "code",
   "execution_count": 247,
   "metadata": {
    "collapsed": false
   },
   "outputs": [
    {
     "name": "stderr",
     "output_type": "stream",
     "text": [
      "/usr/local/lib/python2.7/dist-packages/numpy/core/numeric.py:190: VisibleDeprecationWarning: using a non-integer number instead of an integer will result in an error in the future\n",
      "  a = empty(shape, dtype, order)\n"
     ]
    }
   ],
   "source": [
    "##############\n",
    "#Create a numpy array at the surface to get surface information on (using parallel-friendly evaluate_global)\n",
    "##############\n",
    "\n",
    "surface_xs = np.linspace(mesh.minCoord[0], mesh.maxCoord[0], mesh.elementRes[0] + 1)\n",
    "surface_nodes = np.array(zip(surface_xs, np.ones(len(surface_xs)*mesh.maxCoord[1]))) #For evaluation surface velocity\n",
    "normgradV = velocityField.fn_gradient[0]/fn.math.sqrt(velocityField[0]*velocityField[0])\n",
    "\n",
    "tempMM = fn.view.min_max(temperatureField)\n",
    "dummy = tempMM.evaluate(mesh)\n",
    "\n"
   ]
  },
  {
   "cell_type": "markdown",
   "metadata": {},
   "source": [
    "**Miscellania**"
   ]
  },
  {
   "cell_type": "code",
   "execution_count": 248,
   "metadata": {
    "collapsed": false
   },
   "outputs": [],
   "source": [
    "##############\n",
    "#These functions handle checkpointing\n",
    "##############\n",
    "\n",
    "\n",
    "def checkpoint1(step, checkpointPath,filename, filewrites):\n",
    "    path = checkpointPath + str(step) \n",
    "    os.mkdir(path)\n",
    "    ##Write and save the file, if not already a writing step\n",
    "    if not step % filewrites == 0:\n",
    "        filename.write((17*'%-15s ' + '\\n') % (realtime, Viscdis, float(nu0), float(nu1), Avg_temp,\n",
    "                                              Tempmantle,TMAX,\n",
    "                                              Rms,Rms_surf,Max_vx_surf,Gravwork, etamax, etamin, \n",
    "                                              Area_mantle, Viscmantle,  Viscdismantle,Plateness ))\n",
    "    filename.close()\n",
    "    shutil.copyfile(os.path.join(outputPath, outputFile), os.path.join(path, outputFile))\n",
    "\n",
    "\n",
    "def checkpoint2(step, checkpointPath, swarm, filename, varlist = [materialVariable], varnames = ['materialVariable']):\n",
    "    path = checkpointPath + str(step) \n",
    "    velfile = \"velocityField\" + \".hdf5\"\n",
    "    tempfile = \"temperatureField\" + \".hdf5\"\n",
    "    pressfile = \"pressureField\" + \".hdf5\"\n",
    "    velocityField.save(os.path.join(path, velfile))\n",
    "    temperatureField.save(os.path.join(path, tempfile))\n",
    "    pressureField.save(os.path.join(path, pressfile))\n",
    "    swarm.save(os.path.join(path, \"swarm.h5\") ) \n",
    "    for ix in range(len(varlist)):\n",
    "        varb = varlist[ix]\n",
    "        varb.save(os.path.join(path,varnames[ix] + \".h5\"))\n",
    "    "
   ]
  },
  {
   "cell_type": "code",
   "execution_count": 249,
   "metadata": {
    "collapsed": true
   },
   "outputs": [],
   "source": [
    "##############\n",
    "#This will allow us to evaluate viscous shear heating, and add the result directly to the temperature field\n",
    "##############\n",
    "\n",
    "viscDisMapFn = 2.*viscosityMapFn*sinner\n",
    "viscDisFnmesh = uw.mesh.MeshVariable(mesh,nodeDofCount=1)\n",
    "viscDisProj = uw.utils.MeshVariable_Projection( viscDisFnmesh, viscDisMapFn)\n",
    "viscDisProj.solve()"
   ]
  },
  {
   "cell_type": "code",
   "execution_count": 250,
   "metadata": {
    "collapsed": false
   },
   "outputs": [],
   "source": [
    "# initialise timer for computation\n",
    "start = time.clock()\n",
    "# setup summary output file (name above)\n",
    "if checkpointLoad:\n",
    "    if uw.rank() == 0:\n",
    "        shutil.copyfile(os.path.join(checkpointLoadDir, outputFile), outputPath+outputFile)\n",
    "    comm.Barrier()\n",
    "    f_o = open(os.path.join(outputPath, outputFile), 'a')\n",
    "    prevdata = np.genfromtxt(os.path.join(outputPath, outputFile), skip_header=0, skip_footer=0)\n",
    "    if len(prevdata.shape) == 1: #this is in case there is only one line in previous file\n",
    "        realtime = prevdata[0]\n",
    "    else:\n",
    "        realtime = prevdata[prevdata.shape[0]-1, 0]\n",
    "    step = int(checkpointLoadDir.split('/')[-1])\n",
    "    timevals = [0.]\n",
    "else:\n",
    "    f_o = open(outputPath+outputFile, 'w')\n",
    "    realtime = 0.\n",
    "    step = 0\n",
    "    timevals = [0.]"
   ]
  },
  {
   "cell_type": "markdown",
   "metadata": {},
   "source": [
    "Main simulation loop\n",
    "-----\n"
   ]
  },
  {
   "cell_type": "code",
   "execution_count": 252,
   "metadata": {
    "collapsed": false
   },
   "outputs": [],
   "source": [
    "#metric_output = 1"
   ]
  },
  {
   "cell_type": "code",
   "execution_count": null,
   "metadata": {
    "collapsed": true
   },
   "outputs": [],
   "source": [
    "#while step < 21:\n",
    "while realtime < 1.:\n",
    "\n",
    "    # solve Stokes and advection systems\n",
    "    solver.solve(nonLinearIterate=True)\n",
    "    dt = advDiff.get_max_dt()\n",
    "    if step == 0:\n",
    "        dt = 0.\n",
    "    advDiff.integrate(dt)\n",
    "    passiveadvector.integrate(dt)\n",
    "    \n",
    "    #Add the adiabatic adjustment:\n",
    "    temperatureField.data[:] += dt*abHeatFn.evaluate(mesh)\n",
    "    \n",
    "    #Add the viscous heating term\n",
    "     #Need to fix this (forgot 'dissipation number')\n",
    "    #viscDisProj = uw.utils.MeshVariable_Projection( viscDisFnmesh, viscDisMapFn)\n",
    "    #viscDisProj.solve()\n",
    "    #temperatureField.data[:] += dt*viscDisFnmesh.evaluate(mesh)\n",
    "    \n",
    "\n",
    "    # Increment\n",
    "    realtime += dt\n",
    "    step += 1\n",
    "    timevals.append(realtime)\n",
    "    ################\n",
    "    #Update temperature field in the air region\n",
    "    #Do this better...\n",
    "    ################\n",
    "    if (step % sticky_air_temp == 0):\n",
    "        for index, coord in enumerate(mesh.data):\n",
    "            if coord[1] >= 1.:\n",
    "                temperatureField.data[index] = ndp.TSP\n",
    "\n",
    "    # Calculate the Metrics, only on 1 of the processors:\n",
    "    ################\n",
    "    if (step % metric_output == 0):\n",
    "        ###############\n",
    "        #Swarm - based Metrics\n",
    "        ###############\n",
    "        # Calculate the RMS velocity and Nusselt number.\n",
    "        # Calculate the Metrics, only on 1 of the processors:\n",
    "        mantlerestrictFn = temprestrictionFn() #rebuild the mantle restriction function (but these should be dynamic?)\n",
    "        srrestrictFn = platenessFn(val = 0.1) #rebuild the plateness restriction function\n",
    "        dummy = tempMM.evaluate(mesh) #Re-evaluate any fn.view.min_max guys\n",
    "        #Rebuild these integrals (a test because metrics changes after a restart)\n",
    "        mantleArea   = uw.utils.Integral( mantlerestrictFn, mesh )\n",
    "        mantleTemp = uw.utils.Integral( temperatureField*mantlerestrictFn, mesh )\n",
    "        mantleVisc = uw.utils.Integral( mantleviscosityFn*mantlerestrictFn, mesh )\n",
    "        mantleVd = uw.utils.Integral( (4.*viscosityMapFn*sinner*mantlerestrictFn), mesh ) #these now work on MappingFunctions\n",
    "        ###\n",
    "        Avg_temp = avg_temp()\n",
    "        Rms = rms()\n",
    "        Rms_surf = rms_surf()\n",
    "        Max_vx_surf = max_vx_surf(velocityField, mesh)\n",
    "        Gravwork = basic_int(dwint)\n",
    "        Viscdis = basic_int(vdint)\n",
    "        nu1, nu0 = nusseltTB(temperatureField, mesh) # return top then bottom\n",
    "        etamax, etamin = visc_extr(mantleviscosityFn)\n",
    "        Area_mantle = basic_int(mantleArea)\n",
    "        Viscmantle = basic_int(mantleVisc)\n",
    "        Tempmantle = basic_int(mantleTemp)\n",
    "        Viscdismantle = basic_int(mantleVd)\n",
    "        Plateness = basic_int(plateint)/basic_int(surfint)\n",
    "        TMAX = tempMM.max_global()\n",
    "        # output to summary text file\n",
    "        if uw.rank()==0:\n",
    "            f_o.write((17*'%-15s ' + '\\n') % (realtime, Viscdis, float(nu0), float(nu1), Avg_temp,\n",
    "                                              Tempmantle,TMAX,\n",
    "                                              Rms,Rms_surf,Max_vx_surf,Gravwork, etamax, etamin, \n",
    "                                              Area_mantle, Viscmantle,  Viscdismantle,Plateness ))\n",
    "    ################\n",
    "    #Also repopulate entire swarm periodically\n",
    "    ################\n",
    "    #if step % swarm_repop == 0:\n",
    "    population_control.repopulate()   \n",
    "    ################\n",
    "    #Checkpoint\n",
    "    ################\n",
    "    if step % checkpoint_every == 0:\n",
    "        if uw.rank() == 0:\n",
    "            checkpoint1(step, checkpointPath,f_o, metric_output)           \n",
    "        checkpoint2(step, checkpointPath, gSwarm, f_o, varlist = varlist, varnames = varnames)\n",
    "        f_o = open(os.path.join(outputPath, outputFile), 'a') #is this line supposed to be here?\n",
    "    ################\n",
    "    #Gldb output\n",
    "    ################ \n",
    "    if (step % gldbs_output == 0):\n",
    "        #Rebuild any necessary swarm variables\n",
    "        viscVariable.data[:] = viscosityMapFn.evaluate(gSwarm)\n",
    "        #Write gldbs\n",
    "        fnamedb = \"dbFig\" + \"_\" + str(ModIt) + \"_\" + str(step) + \".gldb\"\n",
    "        fullpath = os.path.join(outputPath + \"gldbs/\" + fnamedb)\n",
    "        #figDb.show()\n",
    "        figDb.save_database(fullpath)\n",
    "    ################\n",
    "    #Files output\n",
    "    ################ \n",
    "    if (step % files_output == 0):\n",
    "\n",
    "        vel_surface = velocityField.evaluate_global(surface_nodes)\n",
    "        norm_surface_sr = normgradV.evaluate_global(surface_nodes)\n",
    "        if uw.rank() == 0:\n",
    "            fnametemp = \"velsurface\" + \"_\" + str(ModIt) + \"_\" + str(step)\n",
    "            fullpath = os.path.join(outputPath + \"files/\" + fnametemp)\n",
    "            np.save(fullpath, vel_surface)\n",
    "            fnametemp = \"norm_surface_sr\" + \"_\" + str(ModIt) + \"_\" + str(step)\n",
    "            fullpath = os.path.join(outputPath + \"files/\" + fnametemp)\n",
    "            np.save(fullpath, norm_surface_sr)\n",
    "    ################\n",
    "    #Particle update\n",
    "    ###############    \n",
    "    #ageVariable.data[:] += dt #increment the ages (is this efficient?)\n",
    "    ageDT += dt\n",
    "    \n",
    "    if step % swarm_update == 0:\n",
    "        #Increment age stuff. \n",
    "        ageEval = fn.branching.conditional( ageConditions ).evaluate(gSwarm)\n",
    "        ageVariable.data[np.where(ageEval == 0)] = 0 #If below the critical depth, age is set to zero\n",
    "        ageVariable.data[np.where(ageEval != 0)] += ageDT #If age above critical depth, increment age\n",
    "        ageDT = 0. #reset the age incrementer\n",
    "        \n",
    "        #Apply any materialVariable changes\n",
    "        for i in range(2): #Need to go through twice first time through\n",
    "            materialVariable.data[:] = fn.branching.conditional(DG.condition_list).evaluate(gSwarm)\n",
    "\n",
    "    \n",
    "f_o.close()\n",
    "print 'step =',step"
   ]
  },
  {
   "cell_type": "code",
   "execution_count": 150,
   "metadata": {
    "collapsed": false
   },
   "outputs": [
    {
     "ename": "NameError",
     "evalue": "name 'densityMapFn' is not defined",
     "output_type": "error",
     "traceback": [
      "\u001b[1;31m\u001b[0m",
      "\u001b[1;31mNameError\u001b[0mTraceback (most recent call last)",
      "\u001b[1;32m<ipython-input-150-2eb5196e9dea>\u001b[0m in \u001b[0;36m<module>\u001b[1;34m()\u001b[0m\n\u001b[0;32m      3\u001b[0m \u001b[1;33m\u001b[0m\u001b[0m\n\u001b[0;32m      4\u001b[0m \u001b[0mbuoyVariable\u001b[0m \u001b[1;33m=\u001b[0m \u001b[0mgSwarm\u001b[0m\u001b[1;33m.\u001b[0m\u001b[0madd_variable\u001b[0m\u001b[1;33m(\u001b[0m \u001b[0mdataType\u001b[0m\u001b[1;33m=\u001b[0m\u001b[1;34m\"float\"\u001b[0m\u001b[1;33m,\u001b[0m \u001b[0mcount\u001b[0m\u001b[1;33m=\u001b[0m\u001b[1;36m1\u001b[0m \u001b[1;33m)\u001b[0m\u001b[1;33m\u001b[0m\u001b[0m\n\u001b[1;32m----> 5\u001b[1;33m \u001b[0mbuoyVariable\u001b[0m\u001b[1;33m.\u001b[0m\u001b[0mdata\u001b[0m\u001b[1;33m[\u001b[0m\u001b[1;33m:\u001b[0m\u001b[1;33m]\u001b[0m \u001b[1;33m=\u001b[0m \u001b[0mdensityMapFn\u001b[0m\u001b[1;33m.\u001b[0m\u001b[0mevaluate\u001b[0m\u001b[1;33m(\u001b[0m\u001b[0mgSwarm\u001b[0m\u001b[1;33m)\u001b[0m\u001b[1;33m\u001b[0m\u001b[0m\n\u001b[0m",
      "\u001b[1;31mNameError\u001b[0m: name 'densityMapFn' is not defined"
     ]
    }
   ],
   "source": [
    "viscVariable = gSwarm.add_variable( dataType=\"float\", count=1 )\n",
    "viscVariable.data[:] = viscosityMapFn.evaluate(gSwarm)\n",
    "\n",
    "buoyVariable = gSwarm.add_variable( dataType=\"float\", count=1 )\n",
    "buoyVariable.data[:] = densityMapFn.evaluate(gSwarm)"
   ]
  },
  {
   "cell_type": "code",
   "execution_count": 151,
   "metadata": {
    "collapsed": false
   },
   "outputs": [
    {
     "ename": "KeyboardInterrupt",
     "evalue": "",
     "output_type": "error",
     "traceback": [
      "\u001b[1;31m\u001b[0m",
      "\u001b[1;31mKeyboardInterrupt\u001b[0mTraceback (most recent call last)",
      "\u001b[1;32m<ipython-input-151-444167b56ddb>\u001b[0m in \u001b[0;36m<module>\u001b[1;34m()\u001b[0m\n\u001b[0;32m      7\u001b[0m \u001b[1;31m#fig.append( glucifer.objects.Surface(mesh,raylieghFn))\u001b[0m\u001b[1;33m\u001b[0m\u001b[1;33m\u001b[0m\u001b[0m\n\u001b[0;32m      8\u001b[0m \u001b[1;33m\u001b[0m\u001b[0m\n\u001b[1;32m----> 9\u001b[1;33m \u001b[0mfig\u001b[0m\u001b[1;33m.\u001b[0m\u001b[0mshow\u001b[0m\u001b[1;33m(\u001b[0m\u001b[1;33m)\u001b[0m\u001b[1;33m\u001b[0m\u001b[0m\n\u001b[0m\u001b[0;32m     10\u001b[0m \u001b[0mfig\u001b[0m\u001b[1;33m.\u001b[0m\u001b[0msave_database\u001b[0m\u001b[1;33m(\u001b[0m\u001b[1;34m'test.gldb'\u001b[0m\u001b[1;33m)\u001b[0m\u001b[1;33m\u001b[0m\u001b[0m\n",
      "\u001b[1;32m/root/underworld2/glucifer/_glucifer.pyc\u001b[0m in \u001b[0;36mshow\u001b[1;34m(self, type)\u001b[0m\n\u001b[0;32m    524\u001b[0m         \"\"\"\n\u001b[0;32m    525\u001b[0m \u001b[1;33m\u001b[0m\u001b[0m\n\u001b[1;32m--> 526\u001b[1;33m         \u001b[0mself\u001b[0m\u001b[1;33m.\u001b[0m\u001b[0m_generate_DB\u001b[0m\u001b[1;33m(\u001b[0m\u001b[1;33m)\u001b[0m\u001b[1;33m\u001b[0m\u001b[0m\n\u001b[0m\u001b[0;32m    527\u001b[0m         \u001b[1;32mif\u001b[0m \u001b[1;32mnot\u001b[0m \u001b[0mhaveLavaVu\u001b[0m \u001b[1;32mor\u001b[0m \u001b[0muw\u001b[0m\u001b[1;33m.\u001b[0m\u001b[0mrank\u001b[0m\u001b[1;33m(\u001b[0m\u001b[1;33m)\u001b[0m \u001b[1;33m>\u001b[0m \u001b[1;36m0\u001b[0m\u001b[1;33m:\u001b[0m\u001b[1;33m\u001b[0m\u001b[0m\n\u001b[0;32m    528\u001b[0m             \u001b[1;32mreturn\u001b[0m\u001b[1;33m\u001b[0m\u001b[0m\n",
      "\u001b[1;32m/root/underworld2/glucifer/_glucifer.pyc\u001b[0m in \u001b[0;36m_generate_DB\u001b[1;34m(self)\u001b[0m\n\u001b[0;32m    599\u001b[0m         \u001b[1;32mif\u001b[0m \u001b[0mlen\u001b[0m\u001b[1;33m(\u001b[0m\u001b[0mself\u001b[0m\u001b[1;33m.\u001b[0m\u001b[0mdraw\u001b[0m\u001b[1;33m.\u001b[0m\u001b[0mvertices\u001b[0m\u001b[1;33m)\u001b[0m \u001b[1;33m>\u001b[0m \u001b[1;36m0\u001b[0m\u001b[1;33m:\u001b[0m\u001b[1;33m\u001b[0m\u001b[0m\n\u001b[0;32m    600\u001b[0m             \u001b[0mobjects\u001b[0m\u001b[1;33m.\u001b[0m\u001b[0mappend\u001b[0m\u001b[1;33m(\u001b[0m\u001b[0mself\u001b[0m\u001b[1;33m.\u001b[0m\u001b[0mdraw\u001b[0m\u001b[1;33m)\u001b[0m\u001b[1;33m\u001b[0m\u001b[0m\n\u001b[1;32m--> 601\u001b[1;33m         \u001b[0mself\u001b[0m\u001b[1;33m.\u001b[0m\u001b[0mdb\u001b[0m\u001b[1;33m.\u001b[0m\u001b[0m_generate\u001b[0m\u001b[1;33m(\u001b[0m\u001b[0mself\u001b[0m\u001b[1;33m.\u001b[0m\u001b[0mname\u001b[0m\u001b[1;33m,\u001b[0m \u001b[0mobjects\u001b[0m\u001b[1;33m,\u001b[0m \u001b[0mself\u001b[0m\u001b[1;33m)\u001b[0m\u001b[1;33m\u001b[0m\u001b[0m\n\u001b[0m\u001b[0;32m    602\u001b[0m \u001b[1;33m\u001b[0m\u001b[0m\n\u001b[0;32m    603\u001b[0m     \u001b[1;32mdef\u001b[0m \u001b[0m_generate_image\u001b[0m\u001b[1;33m(\u001b[0m\u001b[0mself\u001b[0m\u001b[1;33m,\u001b[0m \u001b[0mfilename\u001b[0m\u001b[1;33m=\u001b[0m\u001b[1;34m\"\"\u001b[0m\u001b[1;33m,\u001b[0m \u001b[0msize\u001b[0m\u001b[1;33m=\u001b[0m\u001b[1;33m(\u001b[0m\u001b[1;36m0\u001b[0m\u001b[1;33m,\u001b[0m\u001b[1;36m0\u001b[0m\u001b[1;33m)\u001b[0m\u001b[1;33m)\u001b[0m\u001b[1;33m:\u001b[0m\u001b[1;33m\u001b[0m\u001b[0m\n",
      "\u001b[1;32m/root/underworld2/glucifer/_glucifer.pyc\u001b[0m in \u001b[0;36m_generate\u001b[1;34m(self, figname, objects, props)\u001b[0m\n\u001b[0;32m    209\u001b[0m \u001b[1;33m\u001b[0m\u001b[0m\n\u001b[0;32m    210\u001b[0m             \u001b[1;31m# go ahead and fill db\u001b[0m\u001b[1;33m\u001b[0m\u001b[1;33m\u001b[0m\u001b[0m\n\u001b[1;32m--> 211\u001b[1;33m             \u001b[0mlibUnderworld\u001b[0m\u001b[1;33m.\u001b[0m\u001b[0mgLucifer\u001b[0m\u001b[1;33m.\u001b[0m\u001b[0m_lucDatabase_Execute\u001b[0m\u001b[1;33m(\u001b[0m\u001b[0mself\u001b[0m\u001b[1;33m.\u001b[0m\u001b[0m_db\u001b[0m\u001b[1;33m,\u001b[0m\u001b[0mNone\u001b[0m\u001b[1;33m)\u001b[0m\u001b[1;33m\u001b[0m\u001b[0m\n\u001b[0m\u001b[0;32m    212\u001b[0m \u001b[1;33m\u001b[0m\u001b[0m\n\u001b[0;32m    213\u001b[0m             \u001b[1;31m#Output any custom geometry on objects\u001b[0m\u001b[1;33m\u001b[0m\u001b[1;33m\u001b[0m\u001b[0m\n",
      "\u001b[1;31mKeyboardInterrupt\u001b[0m: "
     ]
    }
   ],
   "source": [
    "fig= glucifer.Figure()\n",
    "#fig.append( glucifer.objects.Points(gSwarm,buoyVariable))\n",
    "fig.append( glucifer.objects.Points(gSwarm, viscosityMapFn, logScale=True, valueRange =[1e-3,1e5]))\n",
    "#fig.append( glucifer.objects.Surface(mesh, strainRate_2ndInvariant, logScale=True, valueRange =[1e-3,1e5] ))\n",
    "#fig.append( glucifer.objects.VectorArrows(mesh,velocityField, scaling=0.002))\n",
    "#fig.append( glucifer.objects.Surface(mesh,densityMapFn))\n",
    "#fig.append( glucifer.objects.Surface(mesh,raylieghFn))\n",
    "\n",
    "#fig.show()\n",
    "#fig.save_database('test.gldb')"
   ]
  },
  {
   "cell_type": "code",
   "execution_count": 35,
   "metadata": {
    "collapsed": false,
    "scrolled": true
   },
   "outputs": [
    {
     "data": {
      "text/html": [
       "<img src='data:image/png;base64,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'>"
      ],
      "text/plain": [
       "<IPython.core.display.HTML object>"
      ]
     },
     "metadata": {},
     "output_type": "display_data"
    },
    {
     "data": {
      "text/plain": [
       "'test.gldb'"
      ]
     },
     "execution_count": 35,
     "metadata": {},
     "output_type": "execute_result"
    }
   ],
   "source": [
    "fig= glucifer.Figure()\n",
    "#fig.append( glucifer.objects.Points(gSwarm,testVariable))\n",
    "fig.append( glucifer.objects.Points(gSwarm, viscosityMapFn, logScale=True, valueRange =[1e-3,1e5]))\n",
    "#fig.append( glucifer.objects.Surface(mesh, finalviscosityFn, logScale=True, valueRange =[1e-3,1e5] ))\n",
    "#fig.append( glucifer.objects.VectorArrows(mesh,velocityField, scaling=0.00002))\n",
    "#fig.append( glucifer.objects.Surface(mesh,pressureField))\n",
    "#fig.append( glucifer.objects.Surface(mesh,raylieghFn))\n",
    "\n",
    "#fig.show()\n",
    "#fig.save_database('test.gldb')\n",
    "\n"
   ]
  },
  {
   "cell_type": "code",
   "execution_count": 232,
   "metadata": {
    "collapsed": false
   },
   "outputs": [
    {
     "data": {
      "text/plain": [
       "609.92735294609281"
      ]
     },
     "execution_count": 232,
     "metadata": {},
     "output_type": "execute_result"
    }
   ],
   "source": [
    "velocityField.data[tWalls.data].max()"
   ]
  },
  {
   "cell_type": "code",
   "execution_count": 233,
   "metadata": {
    "collapsed": false
   },
   "outputs": [
    {
     "data": {
      "text/plain": [
       "1394.4794120332097"
      ]
     },
     "execution_count": 233,
     "metadata": {},
     "output_type": "execute_result"
    }
   ],
   "source": [
    "velocityField.data.max()"
   ]
  },
  {
   "cell_type": "code",
   "execution_count": 29,
   "metadata": {
    "collapsed": true
   },
   "outputs": [],
   "source": []
  },
  {
   "cell_type": "code",
   "execution_count": null,
   "metadata": {
    "collapsed": true
   },
   "outputs": [],
   "source": []
  }
 ],
 "metadata": {
  "kernelspec": {
   "display_name": "Python 2",
   "language": "python",
   "name": "python2"
  },
  "language_info": {
   "codemirror_mode": {
    "name": "ipython",
    "version": 2
   },
   "file_extension": ".py",
   "mimetype": "text/x-python",
   "name": "python",
   "nbconvert_exporter": "python",
   "pygments_lexer": "ipython2",
   "version": "2.7.9"
  },
  "widgets": {
   "state": {},
   "version": "1.1.2"
  }
 },
 "nbformat": 4,
 "nbformat_minor": 0
}
