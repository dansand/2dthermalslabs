{
 "cells": [
  {
   "cell_type": "markdown",
   "metadata": {},
   "source": [
    "## composite, non-linear rheology:\n",
    "\n",
    "\n",
    "The viscous rheology in this model is similar to the Garel et al paper cited below. Other parts of the model setup are similar to Čížková and Bina (2015), Arredondo and Billen (2016) and Korenaga (2011). \n",
    "\n",
    "Here we use a dimensionless system. For the psuedo-plastic effective rheology a Drucker-prager model is used.\n",
    "\n",
    "\n",
    "**Keywords:** subduction, composite rheology, dislocation creep\n",
    "\n",
    "\n",
    "**References:**\n",
    "\n",
    "\n",
    "Garel, Fanny, et al. \"Interaction of subducted slabs with the mantle transition‐zone: A regime diagram from 2‐D thermo‐mechanical models with a mobile trench and an overriding plate.\" Geochemistry, Geophysics, Geosystems 15.5 (2014): 1739-1765.\n",
    "\n",
    "Čížková, Hana, and Craig R. Bina. \"Geodynamics of trench advance: Insights from a Philippine-Sea-style geometry.\" Earth and Planetary Science Letters 430 (2015): 408-415.\n",
    "\n",
    "Arredondo, Katrina M., and Magali I. Billen. \"The Effects of Phase Transitions and Compositional Layering in Two-dimensional Kinematic Models of Subduction.\" Journal of Geodynamics (2016).\n",
    "\n",
    "Korenaga, Jun. \"Scaling of plate tectonic convection with pseudoplastic rheology.\" Journal of Geophysical Research: Solid Earth 115.B11 (2010)."
   ]
  },
  {
   "cell_type": "code",
   "execution_count": 41,
   "metadata": {
    "collapsed": false
   },
   "outputs": [],
   "source": [
    "import numpy as np\n",
    "import underworld as uw\n",
    "import math\n",
    "from underworld import function as fn\n",
    "import glucifer\n",
    "\n",
    "import os\n",
    "import sys\n",
    "import natsort\n",
    "import shutil\n",
    "from easydict import EasyDict as edict\n",
    "import operator\n",
    "import pint\n",
    "import time\n",
    "import operator\n",
    "from slippy2 import boundary_layer2d\n",
    "from slippy2 import material_graph\n",
    "from slippy2 import spmesh\n",
    "from slippy2 import phase_function\n",
    "\n",
    "from mpi4py import MPI\n",
    "comm = MPI.COMM_WORLD\n",
    "rank = comm.Get_rank()"
   ]
  },
  {
   "cell_type": "markdown",
   "metadata": {},
   "source": [
    "Model name and directories\n",
    "-----"
   ]
  },
  {
   "cell_type": "code",
   "execution_count": 42,
   "metadata": {
    "collapsed": true
   },
   "outputs": [],
   "source": [
    "############\n",
    "#Model name.  \n",
    "############\n",
    "Model = \"T\"\n",
    "ModNum = 0\n",
    "\n",
    "if len(sys.argv) == 1:\n",
    "    ModIt = \"Base\"\n",
    "elif sys.argv[1] == '-f':\n",
    "    ModIt = \"Base\"\n",
    "else:\n",
    "    ModIt = str(sys.argv[1])"
   ]
  },
  {
   "cell_type": "code",
   "execution_count": 43,
   "metadata": {
    "collapsed": false
   },
   "outputs": [],
   "source": [
    "###########\n",
    "#Standard output directory setup\n",
    "###########\n",
    "\n",
    "\n",
    "outputPath = \"results\" + \"/\" +  str(Model) + \"/\" + str(ModNum) + \"/\" + str(ModIt) + \"/\"\n",
    "imagePath = outputPath + 'images/'\n",
    "filePath = outputPath + 'files/'\n",
    "checkpointPath = outputPath + 'checkpoint/'\n",
    "dbPath = outputPath + 'gldbs/'\n",
    "outputFile = 'results_model' + Model + '_' + str(ModNum) + '_' + str(ModIt) + '.dat'\n",
    "\n",
    "if uw.rank()==0:\n",
    "    # make directories if they don't exist\n",
    "    if not os.path.isdir(outputPath):\n",
    "        os.makedirs(outputPath)\n",
    "    if not os.path.isdir(checkpointPath):\n",
    "        os.makedirs(checkpointPath)\n",
    "    if not os.path.isdir(imagePath):\n",
    "        os.makedirs(imagePath)\n",
    "    if not os.path.isdir(dbPath):\n",
    "        os.makedirs(dbPath)\n",
    "    if not os.path.isdir(filePath):\n",
    "        os.makedirs(filePath)\n",
    "        \n",
    "comm.Barrier() #Barrier here so no procs run the check in the next cell too early"
   ]
  },
  {
   "cell_type": "code",
   "execution_count": 44,
   "metadata": {
    "collapsed": false
   },
   "outputs": [
    {
     "name": "stdout",
     "output_type": "stream",
     "text": [
      "results/T/0/Base/checkpoint/ is empty\n"
     ]
    }
   ],
   "source": [
    "###########\n",
    "#Check if starting from checkpoint\n",
    "###########\n",
    "\n",
    "checkdirs = []\n",
    "for dirpath, dirnames, files in os.walk(checkpointPath):\n",
    "    if files:\n",
    "        print dirpath, 'has files'\n",
    "        checkpointLoad = True\n",
    "        checkdirs.append(dirpath)\n",
    "    if not files:\n",
    "        print dirpath, 'is empty'\n",
    "        checkpointLoad = False"
   ]
  },
  {
   "cell_type": "markdown",
   "metadata": {},
   "source": [
    "Setup parameters\n",
    "-----\n",
    "\n",
    "Set simulation parameters for test."
   ]
  },
  {
   "cell_type": "markdown",
   "metadata": {},
   "source": [
    "**Use pint to setup any unit conversions we'll need**"
   ]
  },
  {
   "cell_type": "code",
   "execution_count": 45,
   "metadata": {
    "collapsed": false
   },
   "outputs": [
    {
     "data": {
      "text/html": [
       "10000.0 meter/megayear"
      ],
      "text/latex": [
       "$10000.0 \\frac{meter}{megayear}$"
      ],
      "text/plain": [
       "<Quantity(10000.0, 'meter / megayear')>"
      ]
     },
     "execution_count": 45,
     "metadata": {},
     "output_type": "execute_result"
    }
   ],
   "source": [
    "u = pint.UnitRegistry()\n",
    "cmpery = 1.*u.cm/u.year\n",
    "mpermy = 1.*u.m/u.megayear\n",
    "year = 1.*u.year\n",
    "spery = year.to(u.sec)\n",
    "cmpery.to(mpermy)"
   ]
  },
  {
   "cell_type": "code",
   "execution_count": null,
   "metadata": {
    "collapsed": false
   },
   "outputs": [],
   "source": []
  },
  {
   "cell_type": "markdown",
   "metadata": {},
   "source": [
    "**Set parameter dictionaries**"
   ]
  },
  {
   "cell_type": "code",
   "execution_count": 46,
   "metadata": {
    "collapsed": false
   },
   "outputs": [
    {
     "name": "stdout",
     "output_type": "stream",
     "text": [
      "(0.04, 1.2675505856327397e-11)\n"
     ]
    }
   ],
   "source": [
    "box_half_width =4000e3\n",
    "age_at_trench = 100e6\n",
    "cmperyear = box_half_width / age_at_trench #m/y\n",
    "mpersec = cmperyear*(cmpery.to(u.m/u.second)).magnitude #m/sec\n",
    "print(cmperyear, mpersec )"
   ]
  },
  {
   "cell_type": "code",
   "execution_count": null,
   "metadata": {
    "collapsed": false
   },
   "outputs": [],
   "source": []
  },
  {
   "cell_type": "code",
   "execution_count": 47,
   "metadata": {
    "collapsed": false
   },
   "outputs": [],
   "source": [
    "###########\n",
    "#Store the physical parameters, scale factors and dimensionless pramters in easyDicts\n",
    "#Mainly helps with avoiding overwriting variables\n",
    "###########\n",
    "\n",
    "dp = edict({'LS_RA':2900.*1e3, #Use full mantle depth for the Rayleigh number\n",
    "            'LS':2000.*1e3, #Depth of domain\n",
    "           'rho':3300.,  #reference density\n",
    "           'g':9.8, #surface gravity\n",
    "           'eta0':1e20, #Dislocation creep at 250 km, 1573 K, 1e-15 s-1 \n",
    "           'k':1e-6, #thermal diffusivity\n",
    "           'a':3e-5, #surface thermal expansivity\n",
    "           'TP':1573., #mantle potential temp (K)\n",
    "           'TS':273., #surface temp (K)\n",
    "           'cohesion':2e6, #cohesion in Byerlee law\n",
    "           'fc':0.2,   #friction coefficient in Byerlee law (tan(phi))\n",
    "           'Adf':3e-11, #pre-exp factor for diffusion creep\n",
    "           'Ads':5e-16, #pre-exp factor for dislocation creep\n",
    "           'Apr':1e-150,#pre-exp factor for Peierls creep\n",
    "           'Edf':3e5,\n",
    "           'Eds':5.4e5,\n",
    "           'Epr':5.4e5,\n",
    "           'Vdf':4e-6,\n",
    "           'Vds':12e-6,\n",
    "           'Vpr':10e-6,\n",
    "           'Alm':1.3e-16,\n",
    "           'Elm':2.0e5,\n",
    "           'Vlm':1.1e-6,\n",
    "           'Ba':4.3e-12,  #A value to simulate pressure increase with depth\n",
    "           'SR':1e-15,\n",
    "           #'Dr':250e3, #Reference depth\n",
    "           'rDepth':250e3, #reference depth (used to scale / normalize the flow laws)\n",
    "           'R':8.314, #gas constant\n",
    "           'Cp':1250., #Specific heat (Jkg-1K-1)\n",
    "           'StALS':100e3, #depth of sticky air layer\n",
    "           'plate_vel':4})\n",
    "\n",
    "#Adiabatic heating stuff\n",
    "dp.dTa = (dp.a*dp.g*(dp.TP))/dp.Cp #adibatic gradient, at Tp\n",
    "dp.deltaTa = (dp.TP + dp.dTa*dp.LS) - dp.TS  #Adiabatic Temp at base of mantle, minus Ts\n",
    "dp.deltaT = dp.deltaTa\n",
    "dp.rTemp= dp.TP + dp.rDepth*dp.dTa #reference temp, (potential temp + adiabat)\n",
    "\n",
    "\n",
    "#scale_factors\n",
    "\n",
    "sf = edict({'stress':dp.LS**2/(dp.k*dp.eta0),\n",
    "            'lith_grad':dp.rho*dp.g*(dp.LS)**3/(dp.eta0*dp.k) ,\n",
    "            'vel':dp.LS/dp.k,\n",
    "            'SR':dp.LS**2/dp.k,\n",
    "            'W':(-1./dp.Ba)*(np.log(1.-dp.rho*dp.g*dp.Ba*dp.LS))/(dp.R*dp.deltaTa), #Including adiabatic compression, and deltaTa\n",
    "            'E': 1./(dp.R*dp.deltaTa), #using deltaTa, the guesstimated adiabatic temp differnnce to scale these paramters\n",
    "            #'Ads':(dp.eta0**(ndp.n-2))*((dp.k)**(ndp.n-1))*((dp.LS)**(2. - 2*ndp.n))       \n",
    "           })\n",
    "\n",
    "#dimensionless parameters\n",
    "\n",
    "ndp = edict({'RA':(dp.g*dp.rho*dp.a*(dp.TP - dp.TS)*(dp.LS_RA)**3)/(dp.k*dp.eta0),\n",
    "            'cohesion':dp.cohesion*sf.stress,\n",
    "            'fcd':dp.fc*sf.lith_grad,\n",
    "            'gamma':dp.fc/(dp.a*dp.deltaT),\n",
    "            'Wdf':dp.Vdf*sf.W,\n",
    "            'Edf':dp.Edf*sf.E,\n",
    "            'Wps':dp.Vpr*sf.W,\n",
    "            'Eps':dp.Epr*sf.E,\n",
    "            'Wds':dp.Vds*sf.W,\n",
    "            'Eds':dp.Eds*sf.E,\n",
    "            'Elm':dp.Elm*sf.E,\n",
    "            'Elm':dp.Elm*sf.E,\n",
    "            'Wlm':dp.Vlm*sf.W,\n",
    "            'TSP':0., \n",
    "            'TBP':1.,\n",
    "            'TPP':(dp.TP - dp.TS)/dp.deltaT, #dimensionless potential temp\n",
    "            'rDepth':dp.rDepth/dp.LS,\n",
    "            'rTemp':(dp.rTemp- dp.TS)/dp.deltaT,\n",
    "            'n':3.5, #Dislocation creep stress exponent\n",
    "            'np':20., #Peierls creep stress exponent\n",
    "            'TS':dp.TS/dp.deltaT,\n",
    "            'TP':dp.TP/dp.deltaT,\n",
    "            'eta_crust':0.01, #crust viscosity, if using isoviscous weak crust\n",
    "            'eta_min':1e-3, \n",
    "            'eta_max':1e5, #viscosity max in the mantle material\n",
    "            'eta_max_crust':0.3, #viscosity max in the weak-crust material\n",
    "            'H':0.,\n",
    "            'Tmvp':0.6,\n",
    "            'Di': dp.a*dp.g*dp.LS/dp.Cp, #Dissipation number\n",
    "            'Steta0':1e2,\n",
    "            'plate_vel':sf.vel*dp.plate_vel*(cmpery.to(u.m/u.second)).magnitude,})\n",
    "\n",
    "\n",
    "\n",
    "#Make some further additions to paramter dictionaries\n",
    "\n",
    "#dp.VR = (0.1*(dp.k/dp.LS)*ndp.RA**(2/3.)) #characteristic velocity from a scaling relationship\n",
    "#dp.SR = dp.VR/dp.LS #characteristic strain rate\n",
    "#ndp.VR = dp.VR*sf.vel #characteristic velocity\n",
    "#ndp.SR = dp.SR*sf.SR #characteristic strain rate\n",
    "\n",
    "\n",
    "ndp.SR = dp.SR*sf.SR #characteristic strain rate\n",
    "\n",
    "ndp.StRA = (3300.*dp.g*(dp.LS)**3)/(dp.eta0 *dp.k) #Composisitional Rayleigh number for rock-air buoyancy force\n",
    "ndp.TaP = 1. - ndp.TPP,  #Dimensionles adiabtic component of delta t"
   ]
  },
  {
   "cell_type": "code",
   "execution_count": 48,
   "metadata": {
    "collapsed": false
   },
   "outputs": [
    {
     "data": {
      "text/plain": [
       "2535.1011712654795"
      ]
     },
     "execution_count": 48,
     "metadata": {},
     "output_type": "execute_result"
    }
   ],
   "source": [
    "#40000./sf.vel, \n",
    "#ndp.RA\n",
    "ndp.plate_vel"
   ]
  },
  {
   "cell_type": "code",
   "execution_count": 49,
   "metadata": {
    "collapsed": false
   },
   "outputs": [
    {
     "data": {
      "text/plain": [
       "(45568.60610653658, 2535.1011712654795, 307608701.40000004, 1300.0)"
      ]
     },
     "execution_count": 49,
     "metadata": {},
     "output_type": "execute_result"
    }
   ],
   "source": [
    "dp.CVR = (0.1*(dp.k/dp.LS)*ndp.RA**(2/3.))\n",
    "ndp.CVR = dp.CVR*sf.vel #characteristic velocity\n",
    "ndp.CVR, ndp.plate_vel, ndp.RA , (dp.TP - dp.TS)\n"
   ]
  },
  {
   "cell_type": "code",
   "execution_count": 50,
   "metadata": {
    "collapsed": false
   },
   "outputs": [],
   "source": [
    "###########\n",
    "#lengths scales for various processes (material transistions etc.)\n",
    "###########\n",
    "\n",
    "MANTLETOCRUST = (10.*1e3)/dp.LS #Crust depth\n",
    "HARZBURGDEPTH = MANTLETOCRUST + (27.7e3/dp.LS)\n",
    "CRUSTTOMANTLE = (300.*1e3)/dp.LS\n",
    "LITHTOMANTLE = (900.*1e3)/dp.LS \n",
    "MANTLETOLITH = (200.*1e3)/dp.LS \n",
    "TOPOHEIGHT = (10.*1e3)/dp.LS  #rock-air topography limits\n",
    "CRUSTTOECL  = (100.*1e3)/dp.LS\n",
    "AVGTEMP = ndp.TPP #Used to define lithosphere\n",
    "LOWMANTLEDEPTH = (660.*1e3)/dp.LS \n",
    "CRUSTVISCUTOFF = (100.*1e3)/dp.LS #Deeper than this, crust material rheology reverts to mantle rheology\n"
   ]
  },
  {
   "cell_type": "code",
   "execution_count": null,
   "metadata": {
    "collapsed": false
   },
   "outputs": [],
   "source": []
  },
  {
   "cell_type": "markdown",
   "metadata": {},
   "source": [
    "**Model setup parameters**"
   ]
  },
  {
   "cell_type": "code",
   "execution_count": 96,
   "metadata": {
    "collapsed": false
   },
   "outputs": [],
   "source": [
    "###########\n",
    "#Model setup parameters\n",
    "###########\n",
    "\n",
    "#Modelling and Physics switches\n",
    "refineMesh = True\n",
    "stickyAir = False \n",
    "meltViscosityReduction = False\n",
    "symmetricIC = False\n",
    "VelBC = False\n",
    "WeakZone = False\n",
    "aspectRatio = 4\n",
    "compBuoyancy = False #use compositional & phase buoyancy, or simply thermal\n",
    "viscMechs = ['diffusion', 'dislocation', 'peierls', 'yielding']\n",
    "viscCombine = 'harmonic' #'harmonic', 'min', 'mixed'....\n",
    "\n",
    "#Domaain and Mesh paramters\n",
    "dim = 2          # number of spatial dimensions\n",
    "MINX = -1.*aspectRatio/2.\n",
    "MINY = 0.\n",
    "MAXX = 1.*aspectRatio/2.\n",
    "MAXY = 1.\n",
    "if MINX == 0.:\n",
    "    squareModel = True\n",
    "else: \n",
    "    squareModel = False\n",
    "    \n",
    "    \n",
    "RES = 64\n",
    "Xres = int(RES*aspectRatio)\n",
    "if MINY == 0.5:\n",
    "    Xres = int(2.*RES*aspectRatio)\n",
    "    \n",
    "\n",
    "if stickyAir:\n",
    "    Yres = RES\n",
    "    MAXY = 1. + dp.StALS/dp.LS #150km\n",
    "    \n",
    "else:\n",
    "    Yres = RES\n",
    "    MAXY = 1.\n",
    "\n",
    "periodic = [True, False]\n",
    "elementType = \"Q1/dQ0\"\n",
    "#elementType =\"Q2/DPC1\"\n",
    "\n",
    "\n",
    "#System/Solver stuff\n",
    "PIC_integration=True\n",
    "ppc = 25\n",
    "\n",
    "#Metric output stuff\n",
    "swarm_repop, swarm_update = 10, 10\n",
    "gldbs_output = 10\n",
    "checkpoint_every, files_output = 10, 20\n",
    "metric_output = 10\n",
    "sticky_air_temp = 5"
   ]
  },
  {
   "cell_type": "markdown",
   "metadata": {},
   "source": [
    "Create mesh and finite element variables\n",
    "------"
   ]
  },
  {
   "cell_type": "code",
   "execution_count": 97,
   "metadata": {
    "collapsed": false
   },
   "outputs": [],
   "source": [
    "mesh = uw.mesh.FeMesh_Cartesian( elementType = (elementType),\n",
    "                                 elementRes  = (Xres, Yres), \n",
    "                                 minCoord    = (MINX, MINY), \n",
    "                                 maxCoord    = (MAXX, MAXY), periodic=periodic)\n",
    "\n",
    "velocityField       = uw.mesh.MeshVariable( mesh=mesh,         nodeDofCount=2 )\n",
    "pressureField       = uw.mesh.MeshVariable( mesh=mesh.subMesh, nodeDofCount=1 )\n",
    "temperatureField    = uw.mesh.MeshVariable( mesh=mesh,         nodeDofCount=1 )\n",
    "temperatureDotField = uw.mesh.MeshVariable( mesh=mesh,         nodeDofCount=1 )"
   ]
  },
  {
   "cell_type": "code",
   "execution_count": 98,
   "metadata": {
    "collapsed": true
   },
   "outputs": [],
   "source": [
    "mesh.reset()"
   ]
  },
  {
   "cell_type": "code",
   "execution_count": 99,
   "metadata": {
    "collapsed": false
   },
   "outputs": [
    {
     "name": "stdout",
     "output_type": "stream",
     "text": [
      "Min\n",
      "(256, 0.0078140624999999998, 3.0003999999999995, 0.99960000000000093)\n",
      "('edges', 256)\n",
      "-- iteration 0 --\n",
      "| F( p_n ) |^2: 0.000123928075027\n",
      "| p_n+1 - p_n |^2: 8.53512671865\n",
      "-- iteration 1 --\n",
      "| F( p_n ) |^2: 3.29102908897e-30\n",
      "Min, Max element width: \n",
      "0.00781\n",
      "0.02344\n"
     ]
    }
   ],
   "source": [
    "\n",
    "#X-Axis\n",
    "\n",
    "if refineMesh:\n",
    "    mesh.reset()\n",
    "    axis = 0\n",
    "    origcoords = np.linspace(mesh.minCoord[axis], mesh.maxCoord[axis], mesh.elementRes[axis] + 1)\n",
    "    edge_rest_lengths = np.diff(origcoords)\n",
    "\n",
    "    deform_lengths = edge_rest_lengths.copy()\n",
    "    min_point =  (abs(mesh.maxCoord[axis]) - abs(mesh.minCoord[axis]))/2.\n",
    "    el_reduction = 0.5001\n",
    "    dx = mesh.maxCoord[axis] - min_point\n",
    "\n",
    "    deform_lengths = deform_lengths - \\\n",
    "                                    ((1.-el_reduction) *deform_lengths[0]) + \\\n",
    "                                    abs((origcoords[1:] - min_point))*((0.5*deform_lengths[0])/dx)\n",
    "\n",
    "    #print(edge_rest_lengths.shape, deform_lengths.shape)\n",
    "\n",
    "    spmesh.deform_1d(deform_lengths, mesh,axis = 'x',norm = 'Min', constraints = [])"
   ]
  },
  {
   "cell_type": "code",
   "execution_count": 100,
   "metadata": {
    "collapsed": false
   },
   "outputs": [],
   "source": [
    "axis = 1\n",
    "orgs = np.linspace(mesh.minCoord[axis], mesh.maxCoord[axis], mesh.elementRes[axis] + 1)\n",
    "\n",
    "value_to_constrain = 1.\n",
    "\n",
    "\n",
    "yconst = [(spmesh.find_closest(orgs, value_to_constrain), np.array([value_to_constrain,0]))]"
   ]
  },
  {
   "cell_type": "code",
   "execution_count": 101,
   "metadata": {
    "collapsed": false,
    "scrolled": true
   },
   "outputs": [
    {
     "name": "stdout",
     "output_type": "stream",
     "text": [
      "Min\n",
      "(64, 0.0078140624999999998, 0.74619374999999988, 1.0313396825396834)\n",
      "('edges', 64)\n",
      "-- iteration 0 --\n",
      "| F( p_n ) |^2: 0.000125895187329\n",
      "| p_n+1 - p_n |^2: 0.550178754655\n",
      "-- iteration 1 --\n",
      "| F( p_n ) |^2: 3.96579068205e-31\n",
      "Min, Max element width: \n",
      "0.00781\n",
      "0.02344\n"
     ]
    }
   ],
   "source": [
    "###########\n",
    "#Mesh refinement\n",
    "###########\n",
    "\n",
    "if refineMesh:\n",
    "    #Y-Axis\n",
    "    axis = 1\n",
    "    origcoords = np.linspace(mesh.minCoord[axis], mesh.maxCoord[axis], mesh.elementRes[axis] + 1)\n",
    "    edge_rest_lengths = np.diff(origcoords)\n",
    "\n",
    "    deform_lengths = edge_rest_lengths.copy()\n",
    "    min_point =  (mesh.maxCoord[axis])\n",
    "    el_reduction = 0.5001\n",
    "    dx = mesh.maxCoord[axis]\n",
    "\n",
    "    deform_lengths = deform_lengths - \\\n",
    "                                    ((1.-el_reduction)*deform_lengths[0]) + \\\n",
    "                                    abs((origcoords[1:] - min_point))*((0.5*deform_lengths[0])/dx)\n",
    "\n",
    "    #print(edge_rest_lengths.shape, deform_lengths.shape)\n",
    "\n",
    "    spmesh.deform_1d(deform_lengths, mesh,axis = 'y',norm = 'Min', constraints = yconst)"
   ]
  },
  {
   "cell_type": "code",
   "execution_count": 102,
   "metadata": {
    "collapsed": false
   },
   "outputs": [],
   "source": [
    "fig= glucifer.Figure()\n",
    "\n",
    "fig.append(glucifer.objects.Mesh(mesh))\n",
    "\n",
    "#fig.show()\n",
    "#fig.save_database('test.gldb')"
   ]
  },
  {
   "cell_type": "markdown",
   "metadata": {},
   "source": [
    "Initial conditions\n",
    "-------\n"
   ]
  },
  {
   "cell_type": "code",
   "execution_count": 103,
   "metadata": {
    "collapsed": false
   },
   "outputs": [],
   "source": [
    "coordinate = fn.input()\n",
    "depthFn = 1. - coordinate[1] #a function providing the depth\n",
    "xFn = coordinate[0]  #a function providing the x-coordinate\n",
    "\n",
    "potTempFn = ndp.TPP + (depthFn)*ndp.TaP #a function providing the adiabatic temp at any depth\n",
    "abHeatFn = -1.*velocityField[1]*temperatureField*ndp.Di #a function providing the adiabatic heating rate"
   ]
  },
  {
   "cell_type": "code",
   "execution_count": null,
   "metadata": {
    "collapsed": false
   },
   "outputs": [],
   "source": []
  },
  {
   "cell_type": "code",
   "execution_count": 104,
   "metadata": {
    "collapsed": false
   },
   "outputs": [],
   "source": [
    "###########\n",
    "#Thermal initial condition:\n",
    "#if symmetricIC, we build a symmetric downwelling on top of a sinusoidal perturbation\n",
    "##########\n",
    "\n",
    "#Sinusoidal initial condition\n",
    "A = 0.2\n",
    "sinFn = depthFn + A*(fn.math.cos( math.pi * coordinate[0])  * fn.math.sin( math.pi * coordinate[1] ))        \n",
    "iD = 1000e3/dp.LS #Initial Slab depth\n",
    "dl =  2*math.sqrt(dp.k*160e6*3600*24*365) #diffusion Length at ... My\n",
    "w0 = dl/dp.LS #Boundary layer/slab initial condition\n",
    "delX1 = fn.misc.min(fn.math.abs(coordinate[0] - -0.), fn.math.abs(coordinate[0] - -2.))\n",
    "delX = fn.misc.min(delX1 , fn.math.abs(coordinate[0] - 2.))\n",
    "w = w0*fn.math.sqrt(delX + 1e-7)\n",
    "tempBL = (potTempFn) *fn.math.erf((depthFn)/w) + ndp.TSP\n",
    "delX = fn.misc.min(fn.math.abs(coordinate[0] - - 1.) , fn.math.abs(coordinate[0] - 1.))\n",
    "tempSlab = (potTempFn ) *fn.math.erf((delX*2.)/w0) + ndp.TSP       \n",
    "tempFn1 =  fn.misc.min(tempBL, tempSlab)\n",
    "blFn = fn.branching.conditional([(depthFn < iD, tempFn1), \n",
    "                                    (True, potTempFn)])\n",
    "\n",
    "tempFn = 0.*sinFn + 1.*blFn #partition the temp between these the symmetric downwelling and sinusoid\n",
    "if symmetricIC:  \n",
    "    if not checkpointLoad:\n",
    "        temperatureField.data[:] = tempFn.evaluate(mesh)  "
   ]
  },
  {
   "cell_type": "code",
   "execution_count": 105,
   "metadata": {
    "collapsed": false
   },
   "outputs": [],
   "source": [
    "###########\n",
    "#Thermal initial condition 2: \n",
    "#if symmetricIC == False, we build an asymmetric subduction-zone\n",
    "###########\n",
    "\n",
    "#Main control paramters are:\n",
    "\n",
    "#Roc = 550e3 #radius of curvature of slab\n",
    "Roc = 550e3 #radius of curvature of slab\n",
    "\n",
    "theta = 89. #Angle to truncate the slab (can also do with with a cutoff depth)\n",
    "subzone = 0.0 #X position of subduction zone...in model coordinates\n",
    "slabmaxAge = 40e6 #age of subduction plate at trench\n",
    "platemaxAge = 40e6 #max age of slab (Plate model)\n",
    "ageAtTrenchSeconds = min(platemaxAge*(3600*24*365), slabmaxAge*(3600*24*365))\n",
    "\n",
    "\n",
    "sense = 'Right' #dip direction\n",
    "op_age_fac = 1. #this controls the overidding plate speed, hence age reduction\n",
    "\n",
    "\n",
    "#First build the top TBL\n",
    "#Create functions between zero and one, to control age distribution\n",
    "ageFn1 = fn.misc.max(0., (1. - 1.*fn.math.abs(xFn)/(aspectRatio/2.) ))\n",
    "ageFn  = fn.branching.conditional([(coordinate[0] <= 0, ageFn1),\n",
    "                                  (True, ageFn1/op_age_fac)])\n",
    "\n",
    "#dimensionlize the age function\n",
    "ageFn *= slabmaxAge*(3600*24*365)\n",
    "#ageFn = fn.misc.min(ageFn, platemaxAge*(3600*24*365)) #apply plate model\n",
    "\n",
    "w0 = (2.*math.sqrt(dp.k*ageAtTrenchSeconds))/dp.LS #diffusion depth of plate at the trench\n",
    "\n",
    "tempBL = (potTempFn) *fn.math.erf((depthFn*dp.LS)/(2.*fn.math.sqrt(dp.k*ageFn))) + ndp.TSP #boundary layer function\n",
    "\n",
    "tempTBL =  fn.branching.conditional([(depthFn < w0, tempBL),\n",
    "                          (True, potTempFn)])\n",
    "\n",
    "if not symmetricIC:\n",
    "    if not checkpointLoad:\n",
    "        out = uw.utils.MeshVariable_Projection( temperatureField, tempTBL) #apply function with projection\n",
    "        out.solve()\n",
    "\n",
    "\n",
    "#Now build the perturbation part\n",
    "def inCircleFnGenerator(centre, radius):\n",
    "    coord = fn.input()\n",
    "    offsetFn = coord - centre\n",
    "    return fn.math.dot( offsetFn, offsetFn ) < radius**2\n",
    "\n",
    "#Setup slab perturbation params (mostly dimensionlesl / model params here)\n",
    "phi = 90. - theta\n",
    "RocM = (Roc/dp.LS)\n",
    "CrustM = MANTLETOCRUST\n",
    "Org = (subzone, 1.-RocM)\n",
    "maxDepth = 250e3/dp.LS\n",
    "\n",
    "#We use three circles to define our slab and crust perturbation,  \n",
    "Oc = inCircleFnGenerator(Org , RocM)\n",
    "Ic = inCircleFnGenerator(Org , RocM - w0)\n",
    "Cc = inCircleFnGenerator(Org , RocM + (1.5*CrustM)) #... weak zone on 'outside' of slab\n",
    "dx = (RocM)/(np.math.tan((np.math.pi/180.)*phi))\n",
    "\n",
    "#We'll also create a triangle which will truncate the circles defining the slab...\n",
    "if sense == 'Left':\n",
    "    ptx = subzone - dx\n",
    "else:\n",
    "    ptx = subzone + dx\n",
    "coords = ((0.+subzone, 1), (0.+subzone, 1.-RocM), (ptx, 1.))\n",
    "Tri = fn.shape.Polygon(np.array(coords))\n",
    "\n",
    "#Actually apply the perturbation\n",
    "if not symmetricIC:\n",
    "    if not checkpointLoad:\n",
    "        sdFn = ((RocM - fn.math.sqrt((coordinate[0] - Org[0])**2. + (coordinate[1] - Org[1])**2.)))\n",
    "        slabFn = ndp.TPP*fn.math.erf((sdFn*dp.LS)/(2.*math.sqrt(dp.k*ageAtTrenchSeconds))) + ndp.TSP\n",
    "        for index, coord in enumerate(mesh.data):\n",
    "            if (\n",
    "                Oc.evaluate(tuple(coord)) and\n",
    "                Tri.evaluate(tuple(coord)) and not\n",
    "                Ic.evaluate(tuple(coord)) and\n",
    "                coord[1] > (1. - maxDepth)\n",
    "                ): #In the quarter-circle defining the lithosphere\n",
    "                temperatureField.data[index] = slabFn.evaluate(mesh)[index]\n",
    "\n"
   ]
  },
  {
   "cell_type": "code",
   "execution_count": 106,
   "metadata": {
    "collapsed": false
   },
   "outputs": [],
   "source": [
    "#Make sure material in sticky air region is at the surface temperature.\n",
    "for index, coord in enumerate(mesh.data):\n",
    "            if coord[1] >= 1.:\n",
    "                temperatureField.data[index] = ndp.TSP"
   ]
  },
  {
   "cell_type": "code",
   "execution_count": 107,
   "metadata": {
    "collapsed": false
   },
   "outputs": [
    {
     "data": {
      "text/plain": [
       "(0.05, 0.015)"
      ]
     },
     "execution_count": 107,
     "metadata": {},
     "output_type": "execute_result"
    }
   ],
   "source": [
    "#fn.math.erf((sdFn*dp.LS)/(2.*fn.math.sqrt(dp.k*(slabmaxAge*(3600*24*365))))) \n",
    "CRUSTVISCUTOFF, MANTLETOCRUST*3"
   ]
  },
  {
   "cell_type": "markdown",
   "metadata": {},
   "source": [
    "def matplot_field(temperatureField, dp):\n",
    "    if uw.nProcs() != 1:\n",
    "        print(\"only in Serial folks\")\n",
    "    else:\n",
    "        import matplotlib.pyplot as pyplt\n",
    "        try :\n",
    "            if(__IPYTHON__) :\n",
    "                get_ipython().magic(u'matplotlib inline')\n",
    "        except NameError :\n",
    "            pass\n",
    "        field_data = temperatureField.data.reshape(mesh.elementRes[1] + 1, mesh.elementRes[0] + 1)\n",
    "        fig, ax = pyplt.subplots(figsize=(32,4))\n",
    "        ql = dp.LS/1e3\n",
    "        pyplt.ioff()\n",
    "        cax =ax.imshow(np.flipud(field_data), cmap='coolwarm', extent=[0,ql*aspectRatio,ql, 0])\n",
    "        fig.colorbar(cax, orientation='horizontal' )\n",
    "        #ax.set_x([0,dp.LS*aspectRatio])\n",
    "        \n",
    "        return fig, ax\n",
    "        \n",
    "fig, ax = matplot_field(temperatureField, dp)\n",
    "fig.savefig('test.png')       "
   ]
  },
  {
   "cell_type": "code",
   "execution_count": 108,
   "metadata": {
    "collapsed": false
   },
   "outputs": [],
   "source": [
    "\n",
    "#testVariable.data[:] = temperatureField.evaluate(gSwarm)"
   ]
  },
  {
   "cell_type": "code",
   "execution_count": 109,
   "metadata": {
    "collapsed": false
   },
   "outputs": [
    {
     "data": {
      "text/html": [
       "<img src='data:image/png;base64,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'>"
      ],
      "text/plain": [
       "<IPython.core.display.HTML object>"
      ]
     },
     "metadata": {},
     "output_type": "display_data"
    }
   ],
   "source": [
    "fig= glucifer.Figure()\n",
    "\n",
    "fig.append( glucifer.objects.Surface(mesh,temperatureField))\n",
    "fig.append( glucifer.objects.Mesh(mesh))\n",
    "fig.show()\n",
    "#fig.save_database('test.gldb')\n"
   ]
  },
  {
   "cell_type": "markdown",
   "metadata": {},
   "source": [
    "Boundary conditions\n",
    "-------"
   ]
  },
  {
   "cell_type": "code",
   "execution_count": 68,
   "metadata": {
    "collapsed": false
   },
   "outputs": [
    {
     "name": "stdout",
     "output_type": "stream",
     "text": [
      "4\n"
     ]
    }
   ],
   "source": [
    "for index in mesh.specialSets[\"MinJ_VertexSet\"]:\n",
    "    temperatureField.data[index] = ndp.TBP\n",
    "for index in mesh.specialSets[\"MaxJ_VertexSet\"]:\n",
    "    temperatureField.data[index] = ndp.TSP\n",
    "    \n",
    "iWalls = mesh.specialSets[\"MinI_VertexSet\"] + mesh.specialSets[\"MaxI_VertexSet\"]\n",
    "jWalls = mesh.specialSets[\"MinJ_VertexSet\"] + mesh.specialSets[\"MaxJ_VertexSet\"]\n",
    "tWalls = mesh.specialSets[\"MaxJ_VertexSet\"]\n",
    "bWalls =mesh.specialSets[\"MinJ_VertexSet\"]\n",
    "\n",
    "VelBCs = mesh.specialSets[\"Empty\"]\n",
    "\n",
    "\n",
    "\n",
    "if VelBC:\n",
    "    for index in list(tWalls.data):\n",
    "\n",
    "        if (mesh.data[int(index)][0] < (subzone - 0.05*aspectRatio) and \n",
    "            mesh.data[int(index)][0] > (mesh.minCoord[0] + 0.05*aspectRatio)): #Only push with a portion of teh overiding plate\n",
    "            #print \"first\"\n",
    "            VelBCs.add(int(index))\n",
    "            #Set the plate velocities for the kinematic phase\n",
    "            velocityField.data[index] = [ndp.plate_vel, 0.]\n",
    "        \n",
    "        elif (mesh.data[int(index)][0] > (subzone + 0.05*aspectRatio) and \n",
    "            mesh.data[int(index)][0] < (mesh.maxCoord[0] - 0.05*aspectRatio)):\n",
    "            #print \"second\"\n",
    "            VelBCs.add(int(index))\n",
    "            #Set the plate velocities for the kinematic phase\n",
    "            velocityField.data[index] = [0., 0.]\n",
    "        \n",
    "\n",
    "#If periodic, we'll fix a the x-vel at a single node - at the bottom left (index 0)\n",
    "Fixed = mesh.specialSets[\"Empty\"]\n",
    "Fixed.add(int(0))        \n",
    "        \n",
    "\n",
    "if periodic[0] == False:\n",
    "    if VelBC:\n",
    "        print(1)\n",
    "        freeslipBC = uw.conditions.DirichletCondition( variable      = velocityField, \n",
    "                                               indexSetsPerDof = ( iWalls + VelBCs, jWalls) )\n",
    "    else:\n",
    "        print(2)\n",
    "        freeslipBC = uw.conditions.DirichletCondition( variable      = velocityField, \n",
    "                                               indexSetsPerDof = ( iWalls, jWalls) )\n",
    "\n",
    "\n",
    "\n",
    "\n",
    "\n",
    "\n",
    "if periodic[0] == True:\n",
    "    if VelBC:\n",
    "        print(3)\n",
    "        freeslipBC = uw.conditions.DirichletCondition( variable      = velocityField, \n",
    "                                               indexSetsPerDof = ( Fixed + VelBCs , jWalls) )\n",
    "    else:\n",
    "        print(4)\n",
    "        freeslipBC = uw.conditions.DirichletCondition( variable      = velocityField, \n",
    "                                               indexSetsPerDof = ( Fixed, jWalls) )\n",
    "        \n",
    "    \n",
    "    \n",
    "    \n",
    "# also set dirichlet for temp field\n",
    "dirichTempBC = uw.conditions.DirichletCondition(     variable=temperatureField, \n",
    "                                              indexSetsPerDof=(tWalls,) )\n",
    "dT_dy = [0.,0.]\n",
    "\n",
    "# also set dirichlet for temp field\n",
    "neumannTempBC = uw.conditions.NeumannCondition( dT_dy, variable=temperatureField, \n",
    "                                         nodeIndexSet=bWalls)\n",
    "\n"
   ]
  },
  {
   "cell_type": "code",
   "execution_count": null,
   "metadata": {
    "collapsed": false
   },
   "outputs": [],
   "source": []
  },
  {
   "cell_type": "code",
   "execution_count": 69,
   "metadata": {
    "collapsed": false
   },
   "outputs": [],
   "source": [
    "#check VelBCs are where we want them\n",
    "#test = np.zeros(len(tWalls.data))\n",
    "#VelBCs\n",
    "#tWalls.data\n",
    "#tWalls.data[VelBCs.data]\n",
    "#test[np.in1d(tWalls.data, VelBCs.data)] = 1.\n",
    "#test\n",
    "\n"
   ]
  },
  {
   "cell_type": "code",
   "execution_count": null,
   "metadata": {
    "collapsed": false
   },
   "outputs": [],
   "source": []
  },
  {
   "cell_type": "markdown",
   "metadata": {},
   "source": [
    "Swarm setup\n",
    "-----\n"
   ]
  },
  {
   "cell_type": "code",
   "execution_count": 70,
   "metadata": {
    "collapsed": false
   },
   "outputs": [],
   "source": [
    "###########\n",
    "#Material Swarm and variables\n",
    "###########\n",
    "\n",
    "#create material swarm\n",
    "gSwarm = uw.swarm.Swarm(mesh=mesh, particleEscape=True)\n",
    "\n",
    "#create swarm variables\n",
    "yieldingCheck = gSwarm.add_variable( dataType=\"int\", count=1 )\n",
    "tracerVariable = gSwarm.add_variable( dataType=\"int\", count=1)\n",
    "materialVariable = gSwarm.add_variable( dataType=\"int\", count=1 )\n",
    "ageVariable = gSwarm.add_variable( dataType=\"float\", count=1 )\n",
    "testVariable = gSwarm.add_variable( dataType=\"float\", count=1 )\n",
    "\n",
    "\n",
    "#these lists  are part of the checkpointing implementation\n",
    "varlist = [tracerVariable, tracerVariable, yieldingCheck]\n",
    "varlist = [materialVariable, yieldingCheck, ageVariable]\n",
    "varnames = ['materialVariable', 'yieldingCheck', 'ageVariable']"
   ]
  },
  {
   "cell_type": "code",
   "execution_count": 71,
   "metadata": {
    "collapsed": false
   },
   "outputs": [],
   "source": [
    "mantleIndex = 0\n",
    "crustIndex = 1\n",
    "harzIndex = 2\n",
    "airIndex = 3\n",
    "\n",
    "\n",
    "\n",
    "if checkpointLoad:\n",
    "    checkpointLoadDir = natsort.natsort(checkdirs)[-1]\n",
    "    temperatureField.load(os.path.join(checkpointLoadDir, \"temperatureField\" + \".hdf5\"))\n",
    "    pressureField.load(os.path.join(checkpointLoadDir, \"pressureField\" + \".hdf5\"))\n",
    "    velocityField.load(os.path.join(checkpointLoadDir, \"velocityField\" + \".hdf5\"))\n",
    "    gSwarm.load(os.path.join(checkpointLoadDir, \"swarm\" + \".h5\"))\n",
    "    for ix in range(len(varlist)):\n",
    "        varb = varlist[ix]\n",
    "        varb.load(os.path.join(checkpointLoadDir,varnames[ix] + \".h5\"))\n",
    "\n",
    "else:\n",
    "\n",
    "    # Layouts are used to populate the swarm across the whole domain\n",
    "    layout = uw.swarm.layouts.PerCellRandomLayout(swarm=gSwarm, particlesPerCell=ppc)\n",
    "    gSwarm.populate_using_layout( layout=layout ) # Now use it to populate.\n",
    "    # Swarm variables\n",
    "    materialVariable.data[:] = mantleIndex\n",
    "    tracerVariable.data[:] = 1\n",
    "    yieldingCheck.data[:] = 0\n",
    "    ageVariable.data[:] = -1\n",
    "\n",
    "    #Set initial air and crust materials (allow the graph to take care of lithsophere)\n",
    "    #########\n",
    "    #This initial material setup will be model dependent\n",
    "    #########\n",
    "    for particleID in range(gSwarm.particleCoordinates.data.shape[0]):\n",
    "        if (1. - gSwarm.particleCoordinates.data[particleID][1]) < MANTLETOCRUST:\n",
    "                 materialVariable.data[particleID] = crustIndex"
   ]
  },
  {
   "cell_type": "code",
   "execution_count": 72,
   "metadata": {
    "collapsed": false
   },
   "outputs": [],
   "source": [
    "###########\n",
    "#This block sets up a checkboard layout of passive tracers\n",
    "###########\n",
    "\n",
    "square_size = 0.1\n",
    "xlist = np.arange(mesh.minCoord[0] + square_size/2., mesh.maxCoord[0] + square_size/2., square_size)\n",
    "xlist = zip(xlist[:], xlist[1:])[::2]\n",
    "ylist = np.arange(mesh.minCoord[1] + square_size/2., mesh.maxCoord[1] + square_size/2., square_size)\n",
    "ylist = zip(ylist[:], ylist[1:])[::2]\n",
    "xops = []\n",
    "for vals in xlist:\n",
    "    xops.append( (operator.and_(   operator.gt(coordinate[0],vals[0]),   operator.lt(coordinate[0],vals[1])  ),0.) )\n",
    "xops.append((True,1.))\n",
    "\n",
    "testfunc = fn.branching.conditional(xops) \n",
    "\n",
    "yops = []\n",
    "for vals in ylist:\n",
    "    yops.append( (operator.and_(   operator.gt(coordinate[1],vals[0]),   operator.lt(coordinate[1],vals[1])  ),0.) )\n",
    "yops.append((True,testfunc))\n",
    "\n",
    "testfunc2 = fn.branching.conditional(yops) \n",
    "tracerVariable.data[:] = testfunc.evaluate(gSwarm)\n",
    "tracerVariable.data[:] = testfunc2.evaluate(gSwarm)"
   ]
  },
  {
   "cell_type": "code",
   "execution_count": 73,
   "metadata": {
    "collapsed": false
   },
   "outputs": [
    {
     "data": {
      "text/plain": [
       "(-1.0, -1.0)"
      ]
     },
     "execution_count": 73,
     "metadata": {},
     "output_type": "execute_result"
    }
   ],
   "source": [
    "ageVariable.data.min(), ageVariable.data.max()"
   ]
  },
  {
   "cell_type": "code",
   "execution_count": 74,
   "metadata": {
    "collapsed": false
   },
   "outputs": [
    {
     "data": {
      "text/plain": [
       "array([  0.00000000e+00,   1.99999995e-05], dtype=float32)"
      ]
     },
     "execution_count": 74,
     "metadata": {},
     "output_type": "execute_result"
    }
   ],
   "source": [
    "#Set the inital particle age, for particles above the critical depth \n",
    "#(only these will be transformed to crust / harzburgite)\n",
    "\n",
    "ageVariable.data[:] = 0. #start with all zero\n",
    "crustageCond = 1e-05 #set inital age above critical depth. (about 1.2 Ma.) Might have to be shorter than this - need to experiment\n",
    "ageDT = crustageCond + 1e-5 #initalize ages\n",
    "ageConditions = [ (depthFn < 100e3/dp.LS , ageDT),  \n",
    "                  (True, 0.) ]\n",
    "                 \n",
    "\n",
    "ageEval = fn.branching.conditional( ageConditions ).evaluate(gSwarm)\n",
    "ageVariable.data[np.where(ageEval == 0)] = 0 #If below the critical depth, age is set to zero\n",
    "ageVariable.data[np.where(ageEval != 0)] += ageDT #If age above critical depth, increment age\n",
    "\n",
    "np.unique(ageVariable.data)"
   ]
  },
  {
   "cell_type": "markdown",
   "metadata": {
    "collapsed": false
   },
   "source": [
    "Swarm control (material graph)\n",
    "-----\n",
    "\n"
   ]
  },
  {
   "cell_type": "code",
   "execution_count": 75,
   "metadata": {
    "collapsed": false
   },
   "outputs": [],
   "source": [
    "##############\n",
    "#Here we set up a directed graph object that we we use to control the transformation from one material type to another\n",
    "##############\n",
    "\n",
    "#All depth conditions are given as (km/D) where D is the length scale,\n",
    "#note that 'model depths' are used, e.g. 1-z, where z is the vertical Underworld coordinate\n",
    "#All temp conditions are in dimensionless temp. [0. - 1.]\n",
    "\n",
    "#Need a list of all material indexes (safer in parallel)\n",
    "material_list = [0,1,2,3]\n",
    "\n",
    "if not checkpointLoad:\n",
    "    materialVariable.data[:] = 0 #Initialize to zero \n",
    "\n",
    "#Setup the graph object\n",
    "DG = material_graph.MatGraph()\n",
    "\n",
    "#Important: First thing to do is to add all the material types to the graph (i.e add nodes)\n",
    "DG.add_nodes_from(material_list)\n",
    "\n",
    "#Now set the conditions for transformations\n",
    "\n",
    "\n",
    "\n",
    "#... to mantle\n",
    "DG.add_transition((crustIndex,mantleIndex), depthFn, operator.gt, CRUSTTOMANTLE)\n",
    "DG.add_transition((harzIndex,mantleIndex), depthFn, operator.gt, CRUSTTOMANTLE)\n",
    "#DG.add_transition((airIndex,mantleIndex), depthFn, operator.gt, TOPOHEIGHT)\n",
    "\n",
    "#... to crust\n",
    "DG.add_transition((mantleIndex,crustIndex), depthFn, operator.lt, MANTLETOCRUST)\n",
    "DG.add_transition((mantleIndex,crustIndex), xFn, operator.lt, 0. + 7.*MANTLETOCRUST) #No crust on the upper plate\n",
    "DG.add_transition((mantleIndex,crustIndex), ageVariable, operator.gt, crustageCond)\n",
    "\n",
    "\n",
    "DG.add_transition((harzIndex,crustIndex), depthFn, operator.lt, MANTLETOCRUST)\n",
    "DG.add_transition((harzIndex,crustIndex), xFn, operator.lt, 0. + 7.*MANTLETOCRUST) #This one sets no crust on the upper plate\n",
    "DG.add_transition((harzIndex,crustIndex), ageVariable, operator.gt, crustageCond)\n",
    "\n",
    "#... to Harzbugite\n",
    "DG.add_transition((mantleIndex,harzIndex), depthFn, operator.lt, HARZBURGDEPTH)\n",
    "DG.add_transition((mantleIndex,harzIndex), depthFn, operator.gt, MANTLETOCRUST)\n",
    "DG.add_transition((mantleIndex,harzIndex), ageVariable, operator.gt, crustageCond) #Note we can mix functions and swarm variabls\n",
    "\n",
    "#... to air\n",
    "#DG.add_transition((mantleIndex,airIndex), depthFn, operator.lt,0. - TOPOHEIGHT)\n",
    "#DG.add_transition((crustIndex,airIndex), depthFn, operator.lt, 0. - TOPOHEIGHT)\n"
   ]
  },
  {
   "cell_type": "code",
   "execution_count": 76,
   "metadata": {
    "collapsed": false
   },
   "outputs": [
    {
     "data": {
      "text/plain": [
       "[0, 1, 2, 3]"
      ]
     },
     "execution_count": 76,
     "metadata": {},
     "output_type": "execute_result"
    }
   ],
   "source": [
    "DG.nodes()"
   ]
  },
  {
   "cell_type": "code",
   "execution_count": 77,
   "metadata": {
    "collapsed": false
   },
   "outputs": [
    {
     "data": {
      "text/plain": [
       "(0.15, 0.01885, 0.035)"
      ]
     },
     "execution_count": 77,
     "metadata": {},
     "output_type": "execute_result"
    }
   ],
   "source": [
    "CRUSTTOMANTLE, HARZBURGDEPTH, 0. + 7.*MANTLETOCRUST"
   ]
  },
  {
   "cell_type": "code",
   "execution_count": 78,
   "metadata": {
    "collapsed": false
   },
   "outputs": [],
   "source": [
    "##############\n",
    "#For the slab_IC, we'll also add a crustal weak zone following the dipping perturbation\n",
    "##############\n",
    "\n",
    "if checkpointLoad != True:\n",
    "    if not symmetricIC:\n",
    "        for particleID in range(gSwarm.particleCoordinates.data.shape[0]):\n",
    "            if (\n",
    "                Cc.evaluate(list(gSwarm.particleCoordinates.data[particleID])) and\n",
    "                Tri.evaluate(list(gSwarm.particleCoordinates.data[particleID])) and\n",
    "                Oc.evaluate(list(gSwarm.particleCoordinates.data[particleID])) == False\n",
    "                ):\n",
    "                materialVariable.data[particleID] = crustIndex"
   ]
  },
  {
   "cell_type": "code",
   "execution_count": 79,
   "metadata": {
    "collapsed": false
   },
   "outputs": [],
   "source": [
    "##############\n",
    "#This is how we use the material graph object to test / apply material transformations\n",
    "##############\n",
    "DG.build_condition_list(materialVariable)\n",
    "\n",
    "for i in range(1): #Need to go through a number of times\n",
    "    materialVariable.data[:] = fn.branching.conditional(DG.condition_list).evaluate(gSwarm)"
   ]
  },
  {
   "cell_type": "code",
   "execution_count": 83,
   "metadata": {
    "collapsed": false
   },
   "outputs": [
    {
     "data": {
      "text/html": [
       "<img src='data:image/png;base64,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'>"
      ],
      "text/plain": [
       "<IPython.core.display.HTML object>"
      ]
     },
     "metadata": {},
     "output_type": "display_data"
    },
    {
     "data": {
      "text/plain": [
       "'test.gldb'"
      ]
     },
     "execution_count": 83,
     "metadata": {},
     "output_type": "execute_result"
    }
   ],
   "source": [
    "fig= glucifer.Figure()\n",
    "fig.append( glucifer.objects.Points(gSwarm,materialVariable))\n",
    "\n",
    "\n",
    "fig.show()\n",
    "fig.save_database('test.gldb')"
   ]
  },
  {
   "cell_type": "markdown",
   "metadata": {
    "collapsed": false
   },
   "source": [
    "## phase and compositional buoyancy"
   ]
  },
  {
   "cell_type": "code",
   "execution_count": 81,
   "metadata": {
    "collapsed": false
   },
   "outputs": [],
   "source": [
    "##############\n",
    "#Set up phase buoyancy contributions\n",
    "#the phase function approach of Yuen and Christenson is implemented in the Slippy2 phase_function class \n",
    "##############\n",
    "\n",
    "\n",
    "#olivine\n",
    "olivinePhase = phase_function.component_phases(name = 'ol', \n",
    "                        depths=[410e3,660e3], #depths of phase transitions along adiabat\n",
    "                        temps = [1600., 1900.], #temperatures of phase transitions along adiabat\n",
    "                        widths = [20e3, 20e3], #width if transition\n",
    "                        claps=[2.e6, -2.5e6],  #Clapeyron slope of trnasition\n",
    "                        densities = [180., 400.]) #density change of phase transition\n",
    "\n",
    "olivinePhase.build_nd_dict(dp.LS, dp.rho, dp.g, dp.deltaTa)\n",
    "\n",
    "\n",
    "rp = olivinePhase.nd_reduced_pressure(depthFn, \n",
    "                                   temperatureField,\n",
    "                                   olivinePhase.ndp['depths'][0],\n",
    "                                   olivinePhase.ndp['claps'][0],\n",
    "                                   olivinePhase.ndp['temps'][0])\n",
    "\n",
    "#ph_410 = olivinePhase.nd_phase(rp, test.ndp['widths'][0])\n",
    "#pf_sum = test.phase_function_sum(temperatureField, depthFn)\n",
    "\n",
    "olivine_phase_buoyancy = olivinePhase.buoyancy_sum(temperatureField, depthFn, dp.g, dp.LS, dp.k, dp.eta0)\n",
    "\n",
    "#garnet\n",
    "garnetPhase = phase_function.component_phases(name = 'grt', \n",
    "                        depths=[60e3,400e3, 720e3],\n",
    "                        temps = [1000., 1600., 1900.], \n",
    "                        widths = [20e3, 20e3, 20e3], \n",
    "                        claps=[0.e6, 1.e6, 1.e6], \n",
    "                        densities = [350., 150., 400.])\n",
    "\n",
    "garnetPhase.build_nd_dict(dp.LS, dp.rho, dp.g, dp.deltaTa)\n",
    "\n",
    "\n",
    "rp = garnetPhase.nd_reduced_pressure(depthFn, \n",
    "                                   temperatureField,\n",
    "                                   garnetPhase.ndp['depths'][0],\n",
    "                                   garnetPhase.ndp['claps'][0],\n",
    "                                   garnetPhase.ndp['temps'][0])\n",
    "\n",
    "#ph_410 = olivinePhase.nd_phase(rp, test.ndp['widths'][0])\n",
    "#pf_sum = test.phase_function_sum(temperatureField, depthFn)\n",
    "\n",
    "garnet_phase_buoyancy = garnetPhase.buoyancy_sum(temperatureField, depthFn, dp.g, dp.LS, dp.k, dp.eta0)"
   ]
  },
  {
   "cell_type": "code",
   "execution_count": null,
   "metadata": {
    "collapsed": false
   },
   "outputs": [],
   "source": []
  },
  {
   "cell_type": "code",
   "execution_count": 82,
   "metadata": {
    "collapsed": false
   },
   "outputs": [],
   "source": [
    "##############\n",
    "#Set up compositional buoyancy contributions\n",
    "##############\n",
    "\n",
    "bouyancy_factor = (dp.g*dp.LS**3)/(dp.eta0*dp.k)\n",
    "\n",
    "basalt_comp_buoyancy  = (dp.rho - 2940.)*bouyancy_factor\n",
    "harz_comp_buoyancy = (dp.rho - 3235.)*bouyancy_factor\n",
    "pyrolite_comp_buoyancy = (dp.rho - 3300.)*bouyancy_factor\n",
    "\n",
    "#print(basalt_comp_buoyancy, harz_comp_buoyancy, pyrolite_comp_buoyancy)\n",
    "\n",
    "\n",
    "#this function accounts for the decrease in expansivity, and acts to reduce the rayleigh number with depth\n",
    "alphaRatio = 1.2/3\n",
    "taFn = 1. - (depthFn)*(1. - alphaRatio) \n",
    "\n",
    "\n",
    "if not compBuoyancy:\n",
    "    pyrolitebuoyancyFn =  (ndp.RA*temperatureField*taFn)\n",
    "    harzbuoyancyFn =      (ndp.RA*temperatureField*taFn) \n",
    "    basaltbuoyancyFn =    (ndp.RA*temperatureField*taFn)\n",
    "\n",
    "else : \n",
    "    pyrolitebuoyancyFn =  (ndp.RA*temperatureField*taFn) -\\\n",
    "                          (0.6*olivine_phase_buoyancy + 0.4*garnet_phase_buoyancy) +\\\n",
    "                           pyrolite_comp_buoyancy\n",
    "    harzbuoyancyFn =      (ndp.RA*temperatureField*taFn) -\\\n",
    "                          (0.8*olivine_phase_buoyancy + 0.2*garnet_phase_buoyancy) +\\\n",
    "                           harz_comp_buoyancy\n",
    "    basaltbuoyancyFn =    (ndp.RA*temperatureField*taFn) -\\\n",
    "                          (1.*garnet_phase_buoyancy) +\\\n",
    "                           basalt_comp_buoyancy"
   ]
  },
  {
   "cell_type": "code",
   "execution_count": null,
   "metadata": {
    "collapsed": false
   },
   "outputs": [],
   "source": []
  },
  {
   "cell_type": "markdown",
   "metadata": {},
   "source": [
    "Rheology\n",
    "-----\n",
    "\n"
   ]
  },
  {
   "cell_type": "code",
   "execution_count": 86,
   "metadata": {
    "collapsed": false
   },
   "outputs": [],
   "source": [
    "##############\n",
    "#Set up any functions required by the rheology\n",
    "##############\n",
    "strainRate_2ndInvariant = fn.tensor.second_invariant( \n",
    "                            fn.tensor.symmetric( \n",
    "                            velocityField.fn_gradient ))\n",
    "\n",
    "def safe_visc(func, viscmin=ndp.eta_min, viscmax=ndp.eta_max):\n",
    "    return fn.misc.max(viscmin, fn.misc.min(viscmax, func))"
   ]
  },
  {
   "cell_type": "code",
   "execution_count": 87,
   "metadata": {
    "collapsed": false
   },
   "outputs": [],
   "source": [
    "##############\n",
    "#Get dimensional viscosity values at reference values of temp, pressure, and strain rate\n",
    "##############\n",
    "dp.rPressure  = (-1./dp.Ba)*(np.log(1.-dp.rho*dp.g*dp.Ba*dp.rDepth))\n",
    "rDf = (1./dp.Adf)*np.exp( ((dp.Edf + dp.Vdf*dp.rPressure))/((dp.R*dp.rTemp)))\n",
    "rDs = (1./dp.Ads**(1./ndp.n))*(dp.SR**((1.-ndp.n)/ndp.n))*np.exp( ((dp.Eds + dp.Vds*dp.rPressure))/((ndp.n*dp.R*dp.rTemp)))\n",
    "rPr = (1./dp.Apr**(1./ndp.np))*(dp.SR**((1.-ndp.np)/ndp.np))*np.exp( ((dp.Epr + dp.Vpr*dp.rPressure))/((ndp.np*dp.R*dp.rTemp)))\n",
    "\n",
    "dsfac = rDs/dp.eta0\n",
    "dffac = rDf/dp.eta0\n",
    "prfac = rPr/dp.eta0"
   ]
  },
  {
   "cell_type": "code",
   "execution_count": 88,
   "metadata": {
    "collapsed": false
   },
   "outputs": [
    {
     "name": "stdout",
     "output_type": "stream",
     "text": [
      "(6.4552149291704541, 9.2139579090644208, 531.95364643459959)\n"
     ]
    }
   ],
   "source": [
    "print(dsfac, dffac, prfac)"
   ]
  },
  {
   "cell_type": "code",
   "execution_count": 89,
   "metadata": {
    "collapsed": false
   },
   "outputs": [
    {
     "data": {
      "text/plain": [
       "(250000.0, 217146.33749418327)"
      ]
     },
     "execution_count": 89,
     "metadata": {},
     "output_type": "execute_result"
    }
   ],
   "source": [
    "#These guys are required because we are approximating compressibility in the pressure term for the flow law,\n",
    "#See 'non_linear_rheology' Notebook for more details\n",
    "\n",
    "corrDepthFn = fn.math.log(1. - dp.rho*dp.g*dp.Ba*dp.LS*depthFn)/np.log(1. - dp.rho*dp.g*dp.Ba*dp.LS)\n",
    "correctrDepth = np.log(1. - dp.rho*dp.g*dp.Ba*dp.LS*ndp.rDepth)/np.log(1. - dp.rho*dp.g*dp.Ba*dp.LS)\n",
    "\n",
    "ndp.rDepth*dp.LS, correctrDepth*dp.LS"
   ]
  },
  {
   "cell_type": "code",
   "execution_count": 91,
   "metadata": {
    "collapsed": false
   },
   "outputs": [],
   "source": [
    "############\n",
    "#Rheology: create UW2 functions for all viscous mechanisms\n",
    "#############\n",
    "\n",
    "omega = fn.misc.constant(1.) #this function can hold any arbitary viscosity modifications \n",
    "\n",
    "\n",
    "##Diffusion Creep\n",
    "diffusion = dffac*fn.math.exp( ((ndp.Edf + (corrDepthFn*ndp.Wdf))/((temperatureField + ndp.TS))) - \n",
    "              ((ndp.Edf + (correctrDepth*ndp.Wdf))/((ndp.rTemp + ndp.TS)))  ) \n",
    "\n",
    "linearVisc = safe_visc(diffusion)\n",
    "\n",
    "##Dislocation Creep\n",
    "nl_correction = (strainRate_2ndInvariant/ndp.SR)**((1.-ndp.n)/(ndp.n))\n",
    "dislocation = dsfac*(nl_correction)*fn.math.exp( ((ndp.Eds + (corrDepthFn*ndp.Wds))/(ndp.n*(temperatureField + ndp.TS))) -\n",
    "                                     ((ndp.Eds + (correctrDepth*ndp.Wds))/(ndp.n*(ndp.rTemp + ndp.TS))))\n",
    "\n",
    "\n",
    "\n",
    "##Peirls Creep\n",
    "nl_correction = (strainRate_2ndInvariant/ndp.SR)**((1.-ndp.np)/(ndp.np))\n",
    "peierls = prfac*(nl_correction)*fn.math.exp( ((ndp.Eps + (corrDepthFn*ndp.Wps))/(ndp.n*(temperatureField + ndp.TS))) -\n",
    "                                     ((ndp.Eps + (correctrDepth*ndp.Wps))/(ndp.np*(ndp.rTemp + ndp.TS))))\n",
    "\n",
    "\n",
    "##Define the Plasticity\n",
    "ys =  ndp.cohesion + (depthFn*ndp.fcd)\n",
    "ysMax = 10e4*1e6*sf.stress\n",
    "ysf = fn.misc.min(ys, ysMax)\n",
    "yielding = safe_visc(ysf/(strainRate_2ndInvariant))\n",
    "\n",
    "\n",
    "\n",
    "##Crust rheology\n",
    "crustys =  ndp.cohesion + (depthFn*ndp.fcd*0.1)\n",
    "crustyielding = crustys/(strainRate_2ndInvariant) #extra factor to account for underworld second invariant form\n"
   ]
  },
  {
   "cell_type": "code",
   "execution_count": 93,
   "metadata": {
    "collapsed": false
   },
   "outputs": [],
   "source": [
    "############\n",
    "#Rheology: combine viscous mechanisms in various ways \n",
    "#harmonic: harmonic average of all mechanims\n",
    "#min: minimum effective viscosity of the mechanims\n",
    "#mixed: takes the minimum of the harmonic and the plastic effective viscosity\n",
    "#############\n",
    "\n",
    "#Map viscMechs list (defined in setup), to the actual functions, requires that same names are used.\n",
    "viscdict = {}\n",
    "for i in viscMechs:\n",
    "    viscdict[i] = locals()[i]\n",
    "\n",
    "#Condition for weak crust rheology to be active\n",
    "interfaceCond = operator.and_((depthFn < CRUSTVISCUTOFF), (depthFn > MANTLETOCRUST))    \n",
    "    \n",
    "#Harmonic average of all mechanisms    \n",
    "if viscCombine == 'harmonic':\n",
    "    denom = fn.misc.constant(0.)\n",
    "    for mech in viscdict.values():\n",
    "        denom += 1./mech\n",
    "    mantleviscosityFn = safe_visc(1./denom)\n",
    "    harmonic_test = mantleviscosityFn\n",
    "    lowMantleViscFac = 10.\n",
    "    #Only diffusuion creep for lower mantle\n",
    "    finalviscosityFn  = fn.branching.conditional([(depthFn < LOWMANTLEDEPTH, mantleviscosityFn),\n",
    "                                  (True, safe_visc(diffusion*lowMantleViscFac))])\n",
    "    \n",
    "    #Add the weaker crust mechanism, plus any cutoffs\n",
    "    crust_denom = denom + (1./crustyielding)\n",
    "    crustviscosityFn1 = safe_visc(1./crust_denom, viscmin=ndp.eta_min, viscmax=ndp.eta_max)\n",
    "    crustviscosityFn2 = safe_visc(1./crust_denom, viscmin=ndp.eta_min, viscmax=ndp.eta_max_crust)\n",
    "    #Crust viscosity only active above between CRUSTVISCUTOFF and MANTLETOCRUST\n",
    "    finalcrustviscosityFn  = fn.branching.conditional([(depthFn < MANTLETOCRUST, crustviscosityFn1),\n",
    "                                                     (interfaceCond, crustviscosityFn2), #\n",
    "                                                     (True, finalviscosityFn)])\n",
    "\n",
    "    \n",
    "    \n",
    "if viscCombine == 'min':\n",
    "    mantleviscosityFn = fn.misc.constant(ndp.eta_max)\n",
    "    for mech in viscdict.values():\n",
    "        mantleviscosityFn = fn.misc.min(mech, mantleviscosityFn )\n",
    "    mantleviscosityFn = safe_visc(mantleviscosityFn)\n",
    "    min_test = mantleviscosityFn\n",
    "    #Only diffusion creep for lower mantle\n",
    "    finalviscosityFn  = fn.branching.conditional([(depthFn < LOWMANTLEDEPTH, mantleviscosityFn),\n",
    "                                  (True, safe_visc(diffusion*lowMantleViscFac))])\n",
    "    #Add the weaker crust mechanism, plus any cutoffs\n",
    "    crustviscosityFn1 = safe_visc(fn.misc.min(finalviscosityFn, crustyielding), viscmin=ndp.eta_min, viscmax=ndp.eta_max)\n",
    "    crustviscosityFn2 = safe_visc(fn.misc.min(finalviscosityFn, crustyielding), viscmin=ndp.eta_min, viscmax=ndp.eta_max_crust)\n",
    "    #Crust viscosity only active above CRUSTVISCUTOFF\n",
    "    #Crust viscosity only active above between CRUSTVISCUTOFF and MANTLETOCRUST\n",
    "    finalcrustviscosityFn  = fn.branching.conditional([(depthFn < MANTLETOCRUST, crustviscosityFn1),\n",
    "                                                     (interfaceCond, crustviscosityFn2), #\n",
    "                                                     (True, finalviscosityFn)])\n",
    "\n",
    "if viscCombine == 'mixed':\n",
    "    denom = fn.misc.constant(0.)\n",
    "    for mech in viscdict.values():\n",
    "        denom += 1./mech\n",
    "    mantleviscosityFn = safe_visc(fn.misc.min(yielding, (1./denom))) #min of harmonic average and yielding\n",
    "    mixed_test = mantleviscosityFn\n",
    "    lowMantleViscFac = 10.\n",
    "    #Only diffusuion creep for lower mantle\n",
    "    finalviscosityFn  = fn.branching.conditional([(depthFn < LOWMANTLEDEPTH, mantleviscosityFn),\n",
    "                                  (True, safe_visc(diffusion*lowMantleViscFac))])\n",
    "    \n",
    "    #Add the weaker crust mechanism, plus any cutoffs\n",
    "    crust_denom = denom + (1./crustyielding)\n",
    "    crustviscosityFn1 = safe_visc(fn.misc.min(crustyielding,1./crust_denom), viscmin=ndp.eta_min, viscmax=ndp.eta_max)\n",
    "    crustviscosityFn2 = safe_visc(fn.misc.min(crustyielding,1./crust_denom), viscmin=ndp.eta_min, viscmax=ndp.eta_max_crust)\n",
    "    #Crust viscosity only active above between CRUSTVISCUTOFF and MANTLETOCRUST\n",
    "    finalcrustviscosityFn  = fn.branching.conditional([(depthFn < MANTLETOCRUST, crustviscosityFn1),\n",
    "                                                     (interfaceCond, crustviscosityFn2), #\n",
    "                                                     (True, finalviscosityFn)])\n",
    "    \n",
    "    \n",
    "    \n",
    "#viscdict.keys(), viscdict.values()\n",
    "\n",
    "#Combine the viscous creep and plasticity\n",
    "#mantleviscosityFn0 = safe_visc(1./(((1./diffusion) + (1./dislocation) + (1./peierls)   + (1./yielding))))\n",
    "\n",
    "#lowMantleDepth = 660e3\n",
    "\n",
    "#crustviscosityFn = safe_visc(1./(((1./diffusion) + (1./dislocation) + (1./peierls) + (1./crustyielding))), viscmin=ndp.eta_min, viscmax=0.6)\n",
    "\n"
   ]
  },
  {
   "cell_type": "code",
   "execution_count": 94,
   "metadata": {
    "collapsed": false
   },
   "outputs": [],
   "source": [
    "#viscCombine = 'mixed'\n",
    "#viscCombine\n",
    "#ndp.eta_max_crust"
   ]
  },
  {
   "cell_type": "code",
   "execution_count": 111,
   "metadata": {
    "collapsed": false
   },
   "outputs": [
    {
     "data": {
      "text/html": [
       "<img src='data:image/png;base64,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'>"
      ],
      "text/plain": [
       "<IPython.core.display.HTML object>"
      ]
     },
     "metadata": {},
     "output_type": "display_data"
    }
   ],
   "source": [
    "fig= glucifer.Figure()\n",
    "#fig.append( glucifer.objects.Points(gSwarm, densityMapFn))\n",
    "fig.append( glucifer.objects.Surface(mesh, mantleviscosityFn, logScale=True))\n",
    "#fig.append( glucifer.objects.Surface(mesh, corrDepthFn - depthFn))\n",
    "\n",
    "#fig.show()"
   ]
  },
  {
   "cell_type": "code",
   "execution_count": 97,
   "metadata": {
    "collapsed": false
   },
   "outputs": [],
   "source": [
    "############\n",
    "#Build a weak zone\n",
    "#############\n",
    "\n",
    "\n",
    "def disGen(centre):\n",
    "    coord = fn.input()\n",
    "    offsetFn = coord - centre\n",
    "    return fn.math.sqrt(fn.math.dot( offsetFn, offsetFn ))\n",
    "\n",
    "depth = 200.e3 #m\n",
    "angle = 20. #degrees\n",
    "num_circles = 50\n",
    "half_width = 5e3 #m\n",
    "\n",
    "\n",
    "xpos = depth/math.tan((angle*math.pi/180.))\n",
    "start = (0.075, 1.)\n",
    "end = (start[0] +xpos/dp.LS , start[1] - depth/dp.LS)\n",
    "xar = np.linspace(start[0], end[0], num_circles)\n",
    "yar = np.linspace(start[1], end[1], num_circles)\n",
    "fnBuilder = fn.misc.constant(1000.)\n",
    "for i in range(num_circles):\n",
    "    circ_dist = disGen((xar[i], yar[i]))\n",
    "    fnBuilder = fn.misc.min(circ_dist, fnBuilder)\n",
    "    \n",
    "sig = half_width/dp.LS\n",
    "gammaFn =  fn.math.exp(-fn.math.pow(fnBuilder, 2.) / (2. * fn.math.pow(sig, 2.)))"
   ]
  },
  {
   "cell_type": "code",
   "execution_count": 98,
   "metadata": {
    "collapsed": false
   },
   "outputs": [],
   "source": [
    "testFn = disGen((0., 1.))"
   ]
  },
  {
   "cell_type": "code",
   "execution_count": 99,
   "metadata": {
    "collapsed": true
   },
   "outputs": [],
   "source": [
    "weakVisc = 1.\n",
    "weakzoneFn = fn.misc.min((weakVisc/gammaFn*1.),ndp.eta_max)\n",
    "combmantleviscosityFn = fn.misc.max(ndp.eta_min, fn.misc.min(mantleviscosityFn, weakzoneFn))\n",
    "\n"
   ]
  },
  {
   "cell_type": "code",
   "execution_count": null,
   "metadata": {
    "collapsed": true
   },
   "outputs": [],
   "source": [
    "\n",
    "    "
   ]
  },
  {
   "cell_type": "code",
   "execution_count": 100,
   "metadata": {
    "collapsed": false
   },
   "outputs": [],
   "source": [
    "#velocityField.data.max()"
   ]
  },
  {
   "cell_type": "markdown",
   "metadata": {},
   "source": [
    "import matplotlib.pylab as pyplt\n",
    "%matplotlib inline\n",
    "\n",
    "\n",
    "\n",
    "##################\n",
    "#Output functions to numpy vertical averages, maxes, mins\n",
    "##################\n",
    "\n",
    "viscmapFnmesh = uw.mesh.MeshVariable(mesh,nodeDofCount=1)\n",
    "out = uw.utils.MeshVariable_Projection( viscmapFnmesh, viscosityMapFn)\n",
    "out.solve()\n",
    "\n",
    "\n",
    "#avDf = ndfp.evaluate(mesh).reshape(mesh.elementRes[1] + 1, mesh.elementRes[0] + 1).mean(axis=1)\n",
    "avDs = ndsp.evaluate(mesh).reshape(mesh.elementRes[1] + 1, mesh.elementRes[0] + 1).mean(axis=1)\n",
    "umantle = mantleviscosityFn.evaluate(mesh).reshape(mesh.elementRes[1] + 1, mesh.elementRes[0] + 1).mean(axis=1)\n",
    "lmantle = lowermantleviscosityFn.evaluate(mesh).reshape(mesh.elementRes[1] + 1, mesh.elementRes[0] + 1).mean(axis=1)\n",
    "eff = viscmapFnmesh.evaluate(mesh).reshape(mesh.elementRes[1] + 1, mesh.elementRes[0] + 1).mean(axis=1)\n",
    "\n",
    "effMin = viscmapFnmesh.evaluate(mesh).reshape(mesh.elementRes[1] + 1, mesh.elementRes[0] + 1).min(axis=1)\n",
    "effMax = viscmapFnmesh.evaluate(mesh).reshape(mesh.elementRes[1] + 1, mesh.elementRes[0] + 1).max(axis=1)\n",
    "\n",
    "###################\n",
    "#Plot\n",
    "###################\n",
    "import matplotlib.pylab as pyplt\n",
    "%matplotlib inline\n",
    "\n",
    "fig, ax = pyplt.subplots()\n",
    "#ax .plot(avDf, label = 'diff')\n",
    "#ax .plot(avDs, label = 'dis')\n",
    "ax .plot(eff, label = 'eff')\n",
    "ax .plot(effMax, label = 'effMax')\n",
    "ax .plot(effMin, label = 'effMin')\n",
    "#ax .plot(umantle, label = 'uman')\n",
    "#ax .plot(lmantle, label = 'lman')\n",
    "ax.set_yscale(\"log\", nonposy='clip')\n",
    "ax.legend(loc = 3)"
   ]
  },
  {
   "cell_type": "code",
   "execution_count": 101,
   "metadata": {
    "collapsed": false,
    "scrolled": true
   },
   "outputs": [],
   "source": [
    "#fig= glucifer.Figure()\n",
    "#fig.append( glucifer.objects.Points(gSwarm,materialVariable))\n",
    "#fig.append( glucifer.objects.Points(gSwarm,viscosityMapFn, logScale=True))\n",
    "#fig.append( glucifer.objects.Surface(mesh, ndfp, logScale=True))\n",
    "\n",
    "#fig.append( glucifer.objects.Surface(mesh,mantleviscosityFn, logScale=True))\n",
    "#fig.show()\n",
    "#fig.save_database('test.gldb')"
   ]
  },
  {
   "cell_type": "code",
   "execution_count": 102,
   "metadata": {
    "collapsed": false
   },
   "outputs": [],
   "source": [
    "#ndp.SR"
   ]
  },
  {
   "cell_type": "code",
   "execution_count": null,
   "metadata": {
    "collapsed": false
   },
   "outputs": [],
   "source": []
  },
  {
   "cell_type": "markdown",
   "metadata": {},
   "source": [
    "Stokes system setup\n",
    "-----\n"
   ]
  },
  {
   "cell_type": "code",
   "execution_count": 103,
   "metadata": {
    "collapsed": false
   },
   "outputs": [],
   "source": [
    "densityMapFn = fn.branching.map( fn_key = materialVariable,\n",
    "                         mapping = {airIndex:ndp.StRA,\n",
    "                                    crustIndex:basaltbuoyancyFn, \n",
    "                                    mantleIndex:pyrolitebuoyancyFn,\n",
    "                                    harzIndex:harzbuoyancyFn} )"
   ]
  },
  {
   "cell_type": "code",
   "execution_count": 104,
   "metadata": {
    "collapsed": true
   },
   "outputs": [],
   "source": [
    "\n",
    "# Define our vertical unit vector using a python tuple (this will be automatically converted to a function).\n",
    "gravity = ( 0.0, 1.0 )\n",
    "\n",
    "# Now create a buoyancy force vector using the density and the vertical unit vector. \n",
    "buoyancyFn = densityMapFn * gravity"
   ]
  },
  {
   "cell_type": "code",
   "execution_count": 105,
   "metadata": {
    "collapsed": true
   },
   "outputs": [],
   "source": [
    "stokesPIC = uw.systems.Stokes(velocityField=velocityField, \n",
    "                              pressureField=pressureField,\n",
    "                              conditions=[freeslipBC,],\n",
    "                              fn_viscosity=linearVisc, \n",
    "                              fn_bodyforce=buoyancyFn )"
   ]
  },
  {
   "cell_type": "code",
   "execution_count": 106,
   "metadata": {
    "collapsed": true
   },
   "outputs": [],
   "source": [
    "solver = uw.systems.Solver(stokesPIC)\n",
    "if not checkpointLoad:\n",
    "    solver.solve() #A solve on the linear visocisty is unhelpful unless we're starting from scratch"
   ]
  },
  {
   "cell_type": "code",
   "execution_count": 107,
   "metadata": {
    "collapsed": false
   },
   "outputs": [],
   "source": [
    "fig= glucifer.Figure()\n",
    "#fig.append( glucifer.objects.Points(gSwarm,tracerVariable, colours= 'white black'))\n",
    "#fig.append( glucifer.objects.Points(gSwarm,materialVariable))\n",
    "#fig.append( glucifer.objects.Surface(mesh, finalviscosityFn, logScale=True))\n",
    "\n",
    "#fig.append( glucifer.objects.Surface(mesh, strainRate_2ndInvariant/ndp.SR, logScale=True))\n",
    "#fig.show()\n",
    "#fig.save_database('test.gldb')"
   ]
  },
  {
   "cell_type": "code",
   "execution_count": 108,
   "metadata": {
    "collapsed": false
   },
   "outputs": [
    {
     "name": "stdout",
     "output_type": "stream",
     "text": [
      "2\n"
     ]
    }
   ],
   "source": [
    "if WeakZone:\n",
    "    print(1)\n",
    "    viscosityMapFn = fn.branching.map( fn_key = materialVariable,\n",
    "                         mapping = {crustIndex:combmantleviscosityFn,\n",
    "                                    mantleIndex:combmantleviscosityFn,\n",
    "                                    harzIndex:combmantleviscosityFn} )\n",
    "else: #Use weak crust\n",
    "    print(2)\n",
    "    viscosityMapFn = fn.branching.map( fn_key = materialVariable,\n",
    "                         mapping = {crustIndex:finalcrustviscosityFn,\n",
    "                                    mantleIndex:finalviscosityFn,\n",
    "                                    harzIndex:finalviscosityFn} )\n",
    "\n"
   ]
  },
  {
   "cell_type": "code",
   "execution_count": null,
   "metadata": {
    "collapsed": false
   },
   "outputs": [],
   "source": []
  },
  {
   "cell_type": "code",
   "execution_count": null,
   "metadata": {
    "collapsed": false
   },
   "outputs": [],
   "source": []
  },
  {
   "cell_type": "code",
   "execution_count": null,
   "metadata": {
    "collapsed": true
   },
   "outputs": [],
   "source": []
  },
  {
   "cell_type": "code",
   "execution_count": 109,
   "metadata": {
    "collapsed": true
   },
   "outputs": [],
   "source": [
    "#Add the non-linear viscosity to the Stokes system\n",
    "stokesPIC.fn_viscosity = viscosityMapFn"
   ]
  },
  {
   "cell_type": "code",
   "execution_count": 110,
   "metadata": {
    "collapsed": false
   },
   "outputs": [
    {
     "name": "stdout",
     "output_type": "stream",
     "text": [
      "\u001b[1;35m\n",
      " \n",
      "Pressure iterations:   4\n",
      "Velocity iterations:   1 (presolve)      \n",
      "Velocity iterations:  -1 (pressure solve)\n",
      "Velocity iterations:   1 (backsolve)     \n",
      "Velocity iterations:   1 (total solve)   \n",
      " \n",
      "SCR RHS  solve time: 5.0232e-01\n",
      "Pressure solve time: 4.6526e-02\n",
      "Velocity solve time: 4.9937e-01 (backsolve)\n",
      "Total solve time   : 1.1103e+00\n",
      " \n",
      "Velocity solution min/max: 0.0000e+00/0.0000e+00\n",
      "Pressure solution min/max: 0.0000e+00/0.0000e+00\n",
      " \n",
      "\u001b[00m\n"
     ]
    }
   ],
   "source": [
    "solver.set_inner_method(\"mumps\")\n",
    "solver.options.scr.ksp_type=\"cg\"\n",
    "solver.set_penalty(1.0e7)\n",
    "solver.options.scr.ksp_rtol = 1.0e-4\n",
    "solver.solve(nonLinearIterate=True)\n",
    "solver.print_stats()"
   ]
  },
  {
   "cell_type": "code",
   "execution_count": null,
   "metadata": {
    "collapsed": true
   },
   "outputs": [],
   "source": []
  },
  {
   "cell_type": "code",
   "execution_count": 62,
   "metadata": {
    "collapsed": false
   },
   "outputs": [],
   "source": [
    "#Check which particles are yielding\n",
    "#yieldingCheck.data[:] = 0\n",
    "\n",
    "#yieldconditions = [ ( mantleviscosityFn < Visc , 1), \n",
    "#               ( True                                           , 0) ]\n",
    "\n",
    "# use the branching conditional function to set each particle's index\n",
    "#yieldingCheck.data[:] = fn.branching.conditional( yieldconditions ).evaluate(gSwarm)"
   ]
  },
  {
   "cell_type": "code",
   "execution_count": 300,
   "metadata": {
    "collapsed": false,
    "scrolled": true
   },
   "outputs": [],
   "source": [
    "#fig= glucifer.Figure()\n",
    "#fig.append( glucifer.objects.Points(gSwarm,yieldingCheck))\n",
    "\n",
    "#fig.append( glucifer.objects.Surface(mesh,ndflm, logScale=True))\n",
    "#fig.show()"
   ]
  },
  {
   "cell_type": "markdown",
   "metadata": {},
   "source": [
    "Advection-diffusion System setup\n",
    "-----"
   ]
  },
  {
   "cell_type": "code",
   "execution_count": 192,
   "metadata": {
    "collapsed": false
   },
   "outputs": [],
   "source": [
    "advDiff = uw.systems.AdvectionDiffusion( phiField       = temperatureField, \n",
    "                                         phiDotField    = temperatureDotField, \n",
    "                                         velocityField  = velocityField,\n",
    "                                         fn_sourceTerm    = 0.0,\n",
    "                                         fn_diffusivity = 1.0, \n",
    "                                         #conditions     = [neumannTempBC, dirichTempBC] )\n",
    "                                         conditions     = [ dirichTempBC] )\n",
    "\n",
    "passiveadvector = uw.systems.SwarmAdvector( swarm         = gSwarm, \n",
    "                                     velocityField = velocityField, \n",
    "                                     order         = 1)"
   ]
  },
  {
   "cell_type": "code",
   "execution_count": 193,
   "metadata": {
    "collapsed": false
   },
   "outputs": [],
   "source": [
    "#I was playing around with a tailored diffusivity to target the slab\n",
    "\n",
    "#inCircleFnGenerator#Now build the perturbation part\n",
    "#def htan(centre, radius, widthPh, farVal = 0.01, fac = 10.):\n",
    "#    coord = fn.input()\n",
    "#    offsetFn = coord - centre\n",
    "#    dist = fn.math.sqrt(fn.math.dot( offsetFn, offsetFn ))\n",
    "    \n",
    "    \n",
    "#    return (((fn.math.tanh(((radius - dist))/widthPh) + 1.) /2.))*fac + farVal\n",
    "\n",
    "#tfun = htan((0.1, 0.9), 0.1, 0.1, 0.1)"
   ]
  },
  {
   "cell_type": "code",
   "execution_count": 236,
   "metadata": {
    "collapsed": true
   },
   "outputs": [],
   "source": [
    "for index in mesh.specialSets[\"MinJ_VertexSet\"]:\n",
    "    temperatureField.data[index] = ndp.TBP\n",
    "for index in mesh.specialSets[\"MaxJ_VertexSet\"]:\n",
    "    temperatureField.data[index] = ndp.TSP"
   ]
  },
  {
   "cell_type": "code",
   "execution_count": 237,
   "metadata": {
    "collapsed": false
   },
   "outputs": [
    {
     "data": {
      "text/plain": [
       "1394.4794120332097"
      ]
     },
     "execution_count": 237,
     "metadata": {},
     "output_type": "execute_result"
    }
   ],
   "source": [
    "velocityField.data.max()"
   ]
  },
  {
   "cell_type": "code",
   "execution_count": 238,
   "metadata": {
    "collapsed": false
   },
   "outputs": [],
   "source": [
    "############\n",
    "#Slightly Diffuse the initial perturbation\n",
    "#############\n",
    "\n",
    "timetoDifffuse = 0.#Million years\n",
    "incrementtoDiffuse = 0.2 #Million years\n",
    "\n",
    "timetoDifffuse = (timetoDifffuse*1e6*(spery)/sf.SR).magnitude\n",
    "incrementtoDiffuse = (incrementtoDiffuse*1e6*(spery)/sf.SR).magnitude\n",
    "\n",
    "totAdt = 0.\n",
    "it = 0\n",
    "while totAdt < timetoDifffuse:\n",
    "    dtad = advDiff.get_max_dt()\n",
    "    print(\"step\") + str(it) \n",
    "    advDiff.integrate(incrementtoDiffuse)\n",
    "    totAdt += incrementtoDiffuse\n",
    "    it += 1\n",
    "    \n",
    "#Reset Boundary conds.   \n",
    "for index in mesh.specialSets[\"MinJ_VertexSet\"]:\n",
    "    temperatureField.data[index] = ndp.TBP\n",
    "for index in mesh.specialSets[\"MaxJ_VertexSet\"]:\n",
    "    temperatureField.data[index] = ndp.TSP\n",
    "    \n",
    "comm.Barrier()"
   ]
  },
  {
   "cell_type": "code",
   "execution_count": 239,
   "metadata": {
    "collapsed": true
   },
   "outputs": [],
   "source": [
    "population_control = uw.swarm.PopulationControl(gSwarm,deleteThreshold=0.2,splitThreshold=1.,maxDeletions=3,maxSplits=0, aggressive=True, particlesPerCell=ppc)"
   ]
  },
  {
   "cell_type": "markdown",
   "metadata": {},
   "source": [
    "Analysis functions / routines\n",
    "-----"
   ]
  },
  {
   "cell_type": "code",
   "execution_count": 240,
   "metadata": {
    "collapsed": true
   },
   "outputs": [],
   "source": [
    "#These are functions we can use to evuate integrals over restricted parts of the domain\n",
    "# For instance, we can exclude the thermal lithosphere from integrals\n",
    "\n",
    "def temprestrictionFn(lithval = 0.9):\n",
    "\n",
    "    tempMM = fn.view.min_max(temperatureField)\n",
    "    tempMM.evaluate(mesh)\n",
    "    TMAX = tempMM.max_global()\n",
    "    mantleconditions = [ (                                  temperatureField > lithval*TMAX, 1.),\n",
    "                   (                                                   True , 0.) ]\n",
    "\n",
    "\n",
    "    return fn.branching.conditional(mantleconditions)\n",
    "\n",
    "mantlerestrictFn = temprestrictionFn(lithval = 0.85)\n",
    "\n",
    "\n",
    "\n",
    "def platenessFn(val = 0.1):\n",
    "    normgradV = fn.math.abs(velocityField.fn_gradient[0]/fn.math.sqrt(velocityField[0]*velocityField[0])) #[du*/dx]/sqrt(u*u)\n",
    "\n",
    "\n",
    "\n",
    "    srconditions = [ (                                  normgradV < val, 1.),\n",
    "                   (                                                   True , 0.) ]\n",
    "\n",
    "\n",
    "    return fn.branching.conditional(srconditions)\n",
    "\n",
    "srrestrictFn = platenessFn(val = 0.1)"
   ]
  },
  {
   "cell_type": "code",
   "execution_count": null,
   "metadata": {
    "collapsed": true
   },
   "outputs": [],
   "source": []
  },
  {
   "cell_type": "code",
   "execution_count": 241,
   "metadata": {
    "collapsed": false
   },
   "outputs": [],
   "source": [
    "#Setup volume integrals \n",
    "\n",
    "tempint = uw.utils.Integral( temperatureField, mesh )\n",
    "areaint = uw.utils.Integral( 1.,               mesh )\n",
    "\n",
    "v2int   = uw.utils.Integral( fn.math.dot(velocityField,velocityField), mesh )\n",
    "\n",
    "dwint   = uw.utils.Integral( temperatureField*velocityField[1], mesh )\n",
    "\n",
    "sinner = fn.math.dot( strainRate_2ndInvariant, strainRate_2ndInvariant )\n",
    "vdint = uw.utils.Integral( (2.*viscosityMapFn*sinner), mesh ) #Is it two or four here?\n",
    "\n",
    "mantleArea   = uw.utils.Integral( mantlerestrictFn, mesh )\n",
    "mantleTemp = uw.utils.Integral( temperatureField*mantlerestrictFn, mesh )\n",
    "mantleVisc = uw.utils.Integral( mantleviscosityFn*mantlerestrictFn, mesh )\n",
    "mantleVd = uw.utils.Integral( (2.*viscosityMapFn*sinner*mantlerestrictFn), mesh ) #these now work on MappingFunctions"
   ]
  },
  {
   "cell_type": "code",
   "execution_count": 242,
   "metadata": {
    "collapsed": true
   },
   "outputs": [],
   "source": [
    "#Setup surface integrals\n",
    "\n",
    "rmsSurfInt = uw.utils.Integral( fn=velocityField[0]*velocityField[0], mesh=mesh, integrationType='Surface', \n",
    "                          surfaceIndexSet=mesh.specialSets[\"MaxJ_VertexSet\"])\n",
    "nuTop      = uw.utils.Integral( fn=temperatureField.fn_gradient[1],    mesh=mesh, integrationType='Surface', \n",
    "                          surfaceIndexSet=mesh.specialSets[\"MaxJ_VertexSet\"])\n",
    "nuBottom   = uw.utils.Integral( fn=temperatureField.fn_gradient[1],    mesh=mesh, integrationType='Surface', \n",
    "                          surfaceIndexSet=mesh.specialSets[\"MinJ_VertexSet\"])\n",
    "\n",
    "plateint  = uw.utils.Integral( fn=srrestrictFn, mesh=mesh, integrationType='Surface', #Integrate the plateness function\n",
    "                          surfaceIndexSet=mesh.specialSets[\"MaxJ_VertexSet\"]) \n",
    "\n",
    "surfint  = uw.utils.Integral( fn=1., mesh=mesh, integrationType='Surface',   #Surface length function (i.e. domain width)\n",
    "                          surfaceIndexSet=mesh.specialSets[\"MaxJ_VertexSet\"])"
   ]
  },
  {
   "cell_type": "code",
   "execution_count": 243,
   "metadata": {
    "collapsed": true
   },
   "outputs": [],
   "source": [
    "#Define functions for the evaluation of integrals\n",
    "\n",
    "def basic_int(ourIntegral):           #This one just hands back the evaluated integral\n",
    "    return ourIntegral.evaluate()[0]\n",
    "\n",
    "def avg_temp():\n",
    "    return tempint.evaluate()[0]/areaint.evaluate()[0]\n",
    "\n",
    "def nusseltTB(temp_field, mesh):\n",
    "    return -nuTop.evaluate()[0], -nuBottom.evaluate()[0]\n",
    "\n",
    "def rms():\n",
    "    return math.sqrt(v2int.evaluate()[0]/areaint.evaluate()[0])\n",
    "\n",
    "def rms_surf():\n",
    "    return math.sqrt(rmsSurfInt.evaluate()[0])\n",
    "\n",
    "def max_vx_surf(velfield, mesh):\n",
    "    vuvelxfn = fn.view.min_max(velfield[0])\n",
    "    vuvelxfn.evaluate(mesh.specialSets[\"MaxJ_VertexSet\"])\n",
    "    return vuvelxfn.max_global()\n",
    "\n",
    "\n",
    "def visc_extr(viscfn):\n",
    "    vuviscfn = fn.view.min_max(viscfn)\n",
    "    vuviscfn.evaluate(mesh)\n",
    "    return vuviscfn.max_global(), vuviscfn.min_global()"
   ]
  },
  {
   "cell_type": "code",
   "execution_count": 244,
   "metadata": {
    "collapsed": false
   },
   "outputs": [
    {
     "data": {
      "text/plain": [
       "(49.414476669082276, 299.31247371188755, 609.9273529460928)"
      ]
     },
     "execution_count": 244,
     "metadata": {},
     "output_type": "execute_result"
    }
   ],
   "source": [
    "#v2sum_integral  = uw.utils.Integral( mesh=mesh, fn=fn.math.dot( velocityField, velocityField ) )\n",
    "#volume_integral = uw.utils.Integral( mesh=mesh, fn=1. )\n",
    "#Vrms = math.sqrt( v2sum_integral.evaluate()[0] )/volume_integral.evaluate()[0]\n",
    "\n",
    "\n",
    "\n",
    "#if(uw.rank()==0):\n",
    "#    print('Initial Vrms = {0:.3f}'.format(Vrms))\n",
    "\n",
    "# Check the Metrics\n",
    "\n",
    "#Avg_temp = avg_temp()\n",
    "Rms = rms()\n",
    "Rms_surf = rms_surf()\n",
    "Max_vx_surf = max_vx_surf(velocityField, mesh)\n",
    "Rms, Rms_surf, Max_vx_surf \n",
    "#Gravwork = basic_int(dwint)\n",
    "#Viscdis = basic_int(vdint)\n",
    "#nu1, nu0 = nusseltTB(temperatureField, mesh) # return top then bottom\n",
    "#etamax, etamin = visc_extr(mantleviscosityFn)\n",
    "\n",
    "#Area_mantle = basic_int(mantleArea)\n",
    "#Viscmantle = basic_int(mantleVisc)\n",
    "#Tempmantle = basic_int(mantleTemp)\n",
    "#Viscdismantle = basic_int(mantleVd)"
   ]
  },
  {
   "cell_type": "markdown",
   "metadata": {},
   "source": [
    "Viz.\n",
    "-----"
   ]
  },
  {
   "cell_type": "code",
   "execution_count": 245,
   "metadata": {
    "collapsed": false
   },
   "outputs": [],
   "source": [
    "viscVariable = gSwarm.add_variable( dataType=\"float\", count=1 )\n",
    "viscVariable.data[:] = viscosityMapFn.evaluate(gSwarm)"
   ]
  },
  {
   "cell_type": "code",
   "execution_count": 246,
   "metadata": {
    "collapsed": false
   },
   "outputs": [],
   "source": [
    "#Pack some stuff into a database as well\n",
    "figDb = glucifer.Figure()\n",
    "#figDb.append( glucifer.objects.Mesh(mesh))\n",
    "figDb.append( glucifer.objects.VectorArrows(mesh,velocityField, scaling=0.00005))\n",
    "#figDb.append( glucifer.objects.Points(gSwarm,tracerVariable, colours= 'white black'))\n",
    "figDb.append( glucifer.objects.Points(gSwarm,materialVariable))\n",
    "\n",
    "figDb.append( glucifer.objects.Points(gSwarm,viscosityMapFn, logScale=True, valueRange =[1e-3,1e5]))\n",
    "figDb.append( glucifer.objects.Surface(mesh, strainRate_2ndInvariant, logScale=True))\n",
    "figDb.append( glucifer.objects.Surface(mesh, temperatureField))\n",
    "#figDb.show()"
   ]
  },
  {
   "cell_type": "code",
   "execution_count": 247,
   "metadata": {
    "collapsed": false
   },
   "outputs": [
    {
     "name": "stderr",
     "output_type": "stream",
     "text": [
      "/usr/local/lib/python2.7/dist-packages/numpy/core/numeric.py:190: VisibleDeprecationWarning: using a non-integer number instead of an integer will result in an error in the future\n",
      "  a = empty(shape, dtype, order)\n"
     ]
    }
   ],
   "source": [
    "##############\n",
    "#Create a numpy array at the surface to get surface information on (using parallel-friendly evaluate_global)\n",
    "##############\n",
    "\n",
    "surface_xs = np.linspace(mesh.minCoord[0], mesh.maxCoord[0], mesh.elementRes[0] + 1)\n",
    "surface_nodes = np.array(zip(surface_xs, np.ones(len(surface_xs)*mesh.maxCoord[1]))) #For evaluation surface velocity\n",
    "normgradV = velocityField.fn_gradient[0]/fn.math.sqrt(velocityField[0]*velocityField[0])\n",
    "\n",
    "tempMM = fn.view.min_max(temperatureField)\n",
    "dummy = tempMM.evaluate(mesh)\n",
    "\n"
   ]
  },
  {
   "cell_type": "markdown",
   "metadata": {},
   "source": [
    "**Miscellania**"
   ]
  },
  {
   "cell_type": "code",
   "execution_count": 248,
   "metadata": {
    "collapsed": false
   },
   "outputs": [],
   "source": [
    "##############\n",
    "#These functions handle checkpointing\n",
    "##############\n",
    "\n",
    "\n",
    "def checkpoint1(step, checkpointPath,filename, filewrites):\n",
    "    path = checkpointPath + str(step) \n",
    "    os.mkdir(path)\n",
    "    ##Write and save the file, if not already a writing step\n",
    "    if not step % filewrites == 0:\n",
    "        filename.write((17*'%-15s ' + '\\n') % (realtime, Viscdis, float(nu0), float(nu1), Avg_temp,\n",
    "                                              Tempmantle,TMAX,\n",
    "                                              Rms,Rms_surf,Max_vx_surf,Gravwork, etamax, etamin, \n",
    "                                              Area_mantle, Viscmantle,  Viscdismantle,Plateness ))\n",
    "    filename.close()\n",
    "    shutil.copyfile(os.path.join(outputPath, outputFile), os.path.join(path, outputFile))\n",
    "\n",
    "\n",
    "def checkpoint2(step, checkpointPath, swarm, filename, varlist = [materialVariable], varnames = ['materialVariable']):\n",
    "    path = checkpointPath + str(step) \n",
    "    velfile = \"velocityField\" + \".hdf5\"\n",
    "    tempfile = \"temperatureField\" + \".hdf5\"\n",
    "    pressfile = \"pressureField\" + \".hdf5\"\n",
    "    velocityField.save(os.path.join(path, velfile))\n",
    "    temperatureField.save(os.path.join(path, tempfile))\n",
    "    pressureField.save(os.path.join(path, pressfile))\n",
    "    swarm.save(os.path.join(path, \"swarm.h5\") ) \n",
    "    for ix in range(len(varlist)):\n",
    "        varb = varlist[ix]\n",
    "        varb.save(os.path.join(path,varnames[ix] + \".h5\"))\n",
    "    "
   ]
  },
  {
   "cell_type": "code",
   "execution_count": 249,
   "metadata": {
    "collapsed": true
   },
   "outputs": [],
   "source": [
    "##############\n",
    "#This will allow us to evaluate viscous shear heating, and add the result directly to the temperature field\n",
    "##############\n",
    "\n",
    "viscDisMapFn = 2.*viscosityMapFn*sinner\n",
    "viscDisFnmesh = uw.mesh.MeshVariable(mesh,nodeDofCount=1)\n",
    "viscDisProj = uw.utils.MeshVariable_Projection( viscDisFnmesh, viscDisMapFn)\n",
    "viscDisProj.solve()"
   ]
  },
  {
   "cell_type": "code",
   "execution_count": 250,
   "metadata": {
    "collapsed": false
   },
   "outputs": [],
   "source": [
    "# initialise timer for computation\n",
    "start = time.clock()\n",
    "# setup summary output file (name above)\n",
    "if checkpointLoad:\n",
    "    if uw.rank() == 0:\n",
    "        shutil.copyfile(os.path.join(checkpointLoadDir, outputFile), outputPath+outputFile)\n",
    "    comm.Barrier()\n",
    "    f_o = open(os.path.join(outputPath, outputFile), 'a')\n",
    "    prevdata = np.genfromtxt(os.path.join(outputPath, outputFile), skip_header=0, skip_footer=0)\n",
    "    if len(prevdata.shape) == 1: #this is in case there is only one line in previous file\n",
    "        realtime = prevdata[0]\n",
    "    else:\n",
    "        realtime = prevdata[prevdata.shape[0]-1, 0]\n",
    "    step = int(checkpointLoadDir.split('/')[-1])\n",
    "    timevals = [0.]\n",
    "else:\n",
    "    f_o = open(outputPath+outputFile, 'w')\n",
    "    realtime = 0.\n",
    "    step = 0\n",
    "    timevals = [0.]"
   ]
  },
  {
   "cell_type": "markdown",
   "metadata": {},
   "source": [
    "Main simulation loop\n",
    "-----\n"
   ]
  },
  {
   "cell_type": "code",
   "execution_count": 252,
   "metadata": {
    "collapsed": false
   },
   "outputs": [],
   "source": [
    "#metric_output = 1"
   ]
  },
  {
   "cell_type": "code",
   "execution_count": null,
   "metadata": {
    "collapsed": true
   },
   "outputs": [],
   "source": [
    "#while step < 21:\n",
    "while realtime < 1.:\n",
    "\n",
    "    # solve Stokes and advection systems\n",
    "    solver.solve(nonLinearIterate=True)\n",
    "    dt = advDiff.get_max_dt()\n",
    "    if step == 0:\n",
    "        dt = 0.\n",
    "    advDiff.integrate(dt)\n",
    "    passiveadvector.integrate(dt)\n",
    "    \n",
    "    #Add the adiabatic adjustment:\n",
    "    temperatureField.data[:] += dt*abHeatFn.evaluate(mesh)\n",
    "    \n",
    "    #Add the viscous heating term\n",
    "     #Need to fix this (forgot 'dissipation number')\n",
    "    #viscDisProj = uw.utils.MeshVariable_Projection( viscDisFnmesh, viscDisMapFn)\n",
    "    #viscDisProj.solve()\n",
    "    #temperatureField.data[:] += dt*viscDisFnmesh.evaluate(mesh)\n",
    "    \n",
    "\n",
    "    # Increment\n",
    "    realtime += dt\n",
    "    step += 1\n",
    "    timevals.append(realtime)\n",
    "    ################\n",
    "    #Update temperature field in the air region\n",
    "    #Do this better...\n",
    "    ################\n",
    "    if (step % sticky_air_temp == 0):\n",
    "        for index, coord in enumerate(mesh.data):\n",
    "            if coord[1] >= 1.:\n",
    "                temperatureField.data[index] = ndp.TSP\n",
    "\n",
    "    # Calculate the Metrics, only on 1 of the processors:\n",
    "    ################\n",
    "    if (step % metric_output == 0):\n",
    "        ###############\n",
    "        #Swarm - based Metrics\n",
    "        ###############\n",
    "        # Calculate the RMS velocity and Nusselt number.\n",
    "        # Calculate the Metrics, only on 1 of the processors:\n",
    "        mantlerestrictFn = temprestrictionFn() #rebuild the mantle restriction function (but these should be dynamic?)\n",
    "        srrestrictFn = platenessFn(val = 0.1) #rebuild the plateness restriction function\n",
    "        dummy = tempMM.evaluate(mesh) #Re-evaluate any fn.view.min_max guys\n",
    "        #Rebuild these integrals (a test because metrics changes after a restart)\n",
    "        mantleArea   = uw.utils.Integral( mantlerestrictFn, mesh )\n",
    "        mantleTemp = uw.utils.Integral( temperatureField*mantlerestrictFn, mesh )\n",
    "        mantleVisc = uw.utils.Integral( mantleviscosityFn*mantlerestrictFn, mesh )\n",
    "        mantleVd = uw.utils.Integral( (4.*viscosityMapFn*sinner*mantlerestrictFn), mesh ) #these now work on MappingFunctions\n",
    "        ###\n",
    "        Avg_temp = avg_temp()\n",
    "        Rms = rms()\n",
    "        Rms_surf = rms_surf()\n",
    "        Max_vx_surf = max_vx_surf(velocityField, mesh)\n",
    "        Gravwork = basic_int(dwint)\n",
    "        Viscdis = basic_int(vdint)\n",
    "        nu1, nu0 = nusseltTB(temperatureField, mesh) # return top then bottom\n",
    "        etamax, etamin = visc_extr(mantleviscosityFn)\n",
    "        Area_mantle = basic_int(mantleArea)\n",
    "        Viscmantle = basic_int(mantleVisc)\n",
    "        Tempmantle = basic_int(mantleTemp)\n",
    "        Viscdismantle = basic_int(mantleVd)\n",
    "        Plateness = basic_int(plateint)/basic_int(surfint)\n",
    "        TMAX = tempMM.max_global()\n",
    "        # output to summary text file\n",
    "        if uw.rank()==0:\n",
    "            f_o.write((17*'%-15s ' + '\\n') % (realtime, Viscdis, float(nu0), float(nu1), Avg_temp,\n",
    "                                              Tempmantle,TMAX,\n",
    "                                              Rms,Rms_surf,Max_vx_surf,Gravwork, etamax, etamin, \n",
    "                                              Area_mantle, Viscmantle,  Viscdismantle,Plateness ))\n",
    "    ################\n",
    "    #Also repopulate entire swarm periodically\n",
    "    ################\n",
    "    #if step % swarm_repop == 0:\n",
    "    population_control.repopulate()   \n",
    "    ################\n",
    "    #Checkpoint\n",
    "    ################\n",
    "    if step % checkpoint_every == 0:\n",
    "        if uw.rank() == 0:\n",
    "            checkpoint1(step, checkpointPath,f_o, metric_output)           \n",
    "        checkpoint2(step, checkpointPath, gSwarm, f_o, varlist = varlist, varnames = varnames)\n",
    "        f_o = open(os.path.join(outputPath, outputFile), 'a') #is this line supposed to be here?\n",
    "    ################\n",
    "    #Gldb output\n",
    "    ################ \n",
    "    if (step % gldbs_output == 0):\n",
    "        #Rebuild any necessary swarm variables\n",
    "        viscVariable.data[:] = viscosityMapFn.evaluate(gSwarm)\n",
    "        #Write gldbs\n",
    "        fnamedb = \"dbFig\" + \"_\" + str(ModIt) + \"_\" + str(step) + \".gldb\"\n",
    "        fullpath = os.path.join(outputPath + \"gldbs/\" + fnamedb)\n",
    "        #figDb.show()\n",
    "        figDb.save_database(fullpath)\n",
    "    ################\n",
    "    #Files output\n",
    "    ################ \n",
    "    if (step % files_output == 0):\n",
    "\n",
    "        vel_surface = velocityField.evaluate_global(surface_nodes)\n",
    "        norm_surface_sr = normgradV.evaluate_global(surface_nodes)\n",
    "        if uw.rank() == 0:\n",
    "            fnametemp = \"velsurface\" + \"_\" + str(ModIt) + \"_\" + str(step)\n",
    "            fullpath = os.path.join(outputPath + \"files/\" + fnametemp)\n",
    "            np.save(fullpath, vel_surface)\n",
    "            fnametemp = \"norm_surface_sr\" + \"_\" + str(ModIt) + \"_\" + str(step)\n",
    "            fullpath = os.path.join(outputPath + \"files/\" + fnametemp)\n",
    "            np.save(fullpath, norm_surface_sr)\n",
    "    ################\n",
    "    #Particle update\n",
    "    ###############    \n",
    "    #ageVariable.data[:] += dt #increment the ages (is this efficient?)\n",
    "    ageDT += dt\n",
    "    \n",
    "    if step % swarm_update == 0:\n",
    "        #Increment age stuff. \n",
    "        ageEval = fn.branching.conditional( ageConditions ).evaluate(gSwarm)\n",
    "        ageVariable.data[np.where(ageEval == 0)] = 0 #If below the critical depth, age is set to zero\n",
    "        ageVariable.data[np.where(ageEval != 0)] += ageDT #If age above critical depth, increment age\n",
    "        ageDT = 0. #reset the age incrementer\n",
    "        \n",
    "        #Apply any materialVariable changes\n",
    "        for i in range(2): #Need to go through twice first time through\n",
    "            materialVariable.data[:] = fn.branching.conditional(DG.condition_list).evaluate(gSwarm)\n",
    "\n",
    "    \n",
    "f_o.close()\n",
    "print 'step =',step"
   ]
  },
  {
   "cell_type": "code",
   "execution_count": 112,
   "metadata": {
    "collapsed": false
   },
   "outputs": [],
   "source": [
    "viscVariable = gSwarm.add_variable( dataType=\"float\", count=1 )\n",
    "viscVariable.data[:] = viscosityMapFn.evaluate(gSwarm)\n",
    "\n",
    "#buoyVariable = gSwarm.add_variable( dataType=\"float\", count=1 )\n",
    "#buoyVariable.data[:] = densityMapFn.evaluate(gSwarm)"
   ]
  },
  {
   "cell_type": "code",
   "execution_count": 113,
   "metadata": {
    "collapsed": false
   },
   "outputs": [
    {
     "data": {
      "text/html": [
       "<img src='data:image/png;base64,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'>"
      ],
      "text/plain": [
       "<IPython.core.display.HTML object>"
      ]
     },
     "metadata": {},
     "output_type": "display_data"
    },
    {
     "data": {
      "text/plain": [
       "'test.gldb'"
      ]
     },
     "execution_count": 113,
     "metadata": {},
     "output_type": "execute_result"
    }
   ],
   "source": [
    "fig= glucifer.Figure()\n",
    "#fig.append( glucifer.objects.Points(gSwarm,buoyVariable))\n",
    "fig.append( glucifer.objects.Points(gSwarm, viscosityMapFn, logScale=True, valueRange =[1e-3,1e5]))\n",
    "#fig.append( glucifer.objects.Surface(mesh, strainRate_2ndInvariant, logScale=True, valueRange =[1e-3,1e5] ))\n",
    "#fig.append( glucifer.objects.VectorArrows(mesh,velocityField, scaling=0.002))\n",
    "#fig.append( glucifer.objects.Surface(mesh,densityMapFn))\n",
    "#fig.append( glucifer.objects.Surface(mesh,raylieghFn))\n",
    "\n",
    "fig.show()\n",
    "fig.save_database('test.gldb')"
   ]
  },
  {
   "cell_type": "code",
   "execution_count": 118,
   "metadata": {
    "collapsed": false,
    "scrolled": true
   },
   "outputs": [],
   "source": [
    "#fig= glucifer.Figure()\n",
    "#fig.append( glucifer.objects.Points(gSwarm,testVariable))\n",
    "#fig.append( glucifer.objects.Points(gSwarm, viscosityMapFn, logScale=True, valueRange =[1e-3,1e5]))\n",
    "#fig.append( glucifer.objects.Surface(mesh, finalviscosityFn, logScale=True, valueRange =[1e-3,1e5] ))\n",
    "#fig.append( glucifer.objects.VectorArrows(mesh,velocityField, scaling=0.00002))\n",
    "#fig.append( glucifer.objects.Surface(mesh,pressureField))\n",
    "#fig.append( glucifer.objects.Surface(mesh,raylieghFn))\n",
    "\n",
    "#fig.show()\n",
    "#fig.save_database('test.gldb')\n",
    "\n"
   ]
  },
  {
   "cell_type": "code",
   "execution_count": 119,
   "metadata": {
    "collapsed": false
   },
   "outputs": [
    {
     "data": {
      "text/plain": [
       "502.53255904236056"
      ]
     },
     "execution_count": 119,
     "metadata": {},
     "output_type": "execute_result"
    }
   ],
   "source": [
    "velocityField.data[tWalls.data].max()"
   ]
  },
  {
   "cell_type": "code",
   "execution_count": 120,
   "metadata": {
    "collapsed": false
   },
   "outputs": [
    {
     "data": {
      "text/plain": [
       "1132.8575491414069"
      ]
     },
     "execution_count": 120,
     "metadata": {},
     "output_type": "execute_result"
    }
   ],
   "source": [
    "velocityField.data.max()"
   ]
  },
  {
   "cell_type": "code",
   "execution_count": 121,
   "metadata": {
    "collapsed": true
   },
   "outputs": [],
   "source": [
    "testFn  = fn.branching.conditional([(depthFn < MANTLETOCRUST*3, 2.),\n",
    "                                                     (interfaceCond, 1.), #\n",
    "                                                     (True, 0.)])"
   ]
  },
  {
   "cell_type": "code",
   "execution_count": null,
   "metadata": {
    "collapsed": true
   },
   "outputs": [],
   "source": []
  }
 ],
 "metadata": {
  "kernelspec": {
   "display_name": "Python 2",
   "language": "python",
   "name": "python2"
  },
  "language_info": {
   "codemirror_mode": {
    "name": "ipython",
    "version": 2
   },
   "file_extension": ".py",
   "mimetype": "text/x-python",
   "name": "python",
   "nbconvert_exporter": "python",
   "pygments_lexer": "ipython2",
   "version": "2.7.9"
  },
  "widgets": {
   "state": {},
   "version": "1.1.2"
  }
 },
 "nbformat": 4,
 "nbformat_minor": 0
}
