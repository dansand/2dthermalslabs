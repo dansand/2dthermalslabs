{
 "cells": [
  {
   "cell_type": "markdown",
   "metadata": {},
   "source": [
    "## composite, non-linear rheology:\n",
    "\n",
    "\n",
    "The viscous rheology in this model is similar to the Garel et al paper cited below. Other parts of the model setup are similar to Čížková and Bina (2015), Arredondo and Billen (2016) and Korenaga (2011). \n",
    "\n",
    "Here we use a dimensionless system. For the psuedo-plastic effective rheology a Drucker-prager model is used.\n",
    "\n",
    "\n",
    "**Keywords:** subduction, composite rheology, dislocation creep\n",
    "\n",
    "\n",
    "**References:**\n",
    "\n",
    "\n",
    "Garel, Fanny, et al. \"Interaction of subducted slabs with the mantle transition‐zone: A regime diagram from 2‐D thermo‐mechanical models with a mobile trench and an overriding plate.\" Geochemistry, Geophysics, Geosystems 15.5 (2014): 1739-1765.\n",
    "\n",
    "Čížková, Hana, and Craig R. Bina. \"Geodynamics of trench advance: Insights from a Philippine-Sea-style geometry.\" Earth and Planetary Science Letters 430 (2015): 408-415.\n",
    "\n",
    "Arredondo, Katrina M., and Magali I. Billen. \"The Effects of Phase Transitions and Compositional Layering in Two-dimensional Kinematic Models of Subduction.\" Journal of Geodynamics (2016).\n",
    "\n",
    "Korenaga, Jun. \"Scaling of plate tectonic convection with pseudoplastic rheology.\" Journal of Geophysical Research: Solid Earth 115.B11 (2010)."
   ]
  },
  {
   "cell_type": "code",
   "execution_count": 1,
   "metadata": {
    "collapsed": false
   },
   "outputs": [],
   "source": [
    "import numpy as np\n",
    "import underworld as uw\n",
    "import math\n",
    "from underworld import function as fn\n",
    "import glucifer\n",
    "\n",
    "import os\n",
    "import sys\n",
    "import natsort\n",
    "import shutil\n",
    "from easydict import EasyDict as edict\n",
    "import operator\n",
    "import pint\n",
    "import time\n",
    "import operator\n",
    "from slippy2 import boundary_layer2d\n",
    "from slippy2 import material_graph\n",
    "from slippy2 import spmesh\n",
    "from slippy2 import phase_function\n",
    "\n",
    "from mpi4py import MPI\n",
    "comm = MPI.COMM_WORLD\n",
    "rank = comm.Get_rank()"
   ]
  },
  {
   "cell_type": "markdown",
   "metadata": {},
   "source": [
    "Model name and directories\n",
    "-----"
   ]
  },
  {
   "cell_type": "code",
   "execution_count": 2,
   "metadata": {
    "collapsed": true
   },
   "outputs": [],
   "source": [
    "############\n",
    "#Model name.  \n",
    "############\n",
    "Model = \"T\"\n",
    "ModNum = 0\n",
    "\n",
    "if len(sys.argv) == 1:\n",
    "    ModIt = \"Base\"\n",
    "elif sys.argv[1] == '-f':\n",
    "    ModIt = \"Base\"\n",
    "else:\n",
    "    ModIt = str(sys.argv[1])"
   ]
  },
  {
   "cell_type": "code",
   "execution_count": 3,
   "metadata": {
    "collapsed": false
   },
   "outputs": [],
   "source": [
    "###########\n",
    "#Standard output directory setup\n",
    "###########\n",
    "\n",
    "\n",
    "outputPath = \"results\" + \"/\" +  str(Model) + \"/\" + str(ModNum) + \"/\" + str(ModIt) + \"/\"\n",
    "imagePath = outputPath + 'images/'\n",
    "filePath = outputPath + 'files/'\n",
    "checkpointPath = outputPath + 'checkpoint/'\n",
    "dbPath = outputPath + 'gldbs/'\n",
    "outputFile = 'results_model' + Model + '_' + str(ModNum) + '_' + str(ModIt) + '.dat'\n",
    "\n",
    "if uw.rank()==0:\n",
    "    # make directories if they don't exist\n",
    "    if not os.path.isdir(outputPath):\n",
    "        os.makedirs(outputPath)\n",
    "    if not os.path.isdir(checkpointPath):\n",
    "        os.makedirs(checkpointPath)\n",
    "    if not os.path.isdir(imagePath):\n",
    "        os.makedirs(imagePath)\n",
    "    if not os.path.isdir(dbPath):\n",
    "        os.makedirs(dbPath)\n",
    "    if not os.path.isdir(filePath):\n",
    "        os.makedirs(filePath)\n",
    "        \n",
    "comm.Barrier() #Barrier here so no procs run the check in the next cell too early"
   ]
  },
  {
   "cell_type": "code",
   "execution_count": 4,
   "metadata": {
    "collapsed": false
   },
   "outputs": [
    {
     "name": "stdout",
     "output_type": "stream",
     "text": [
      "results/T/0/Base/checkpoint/ is empty\n"
     ]
    }
   ],
   "source": [
    "###########\n",
    "#Check if starting from checkpoint\n",
    "###########\n",
    "\n",
    "checkdirs = []\n",
    "for dirpath, dirnames, files in os.walk(checkpointPath):\n",
    "    if files:\n",
    "        print dirpath, 'has files'\n",
    "        checkpointLoad = True\n",
    "        checkdirs.append(dirpath)\n",
    "    if not files:\n",
    "        print dirpath, 'is empty'\n",
    "        checkpointLoad = False"
   ]
  },
  {
   "cell_type": "markdown",
   "metadata": {},
   "source": [
    "Setup parameters\n",
    "-----\n",
    "\n",
    "Set simulation parameters for test."
   ]
  },
  {
   "cell_type": "markdown",
   "metadata": {},
   "source": [
    "**Use pint to setup any unit conversions we'll need**"
   ]
  },
  {
   "cell_type": "code",
   "execution_count": 5,
   "metadata": {
    "collapsed": false
   },
   "outputs": [
    {
     "data": {
      "text/html": [
       "10000.0 meter/megayear"
      ],
      "text/latex": [
       "$10000.0 \\frac{meter}{megayear}$"
      ],
      "text/plain": [
       "<Quantity(10000.0, 'meter / megayear')>"
      ]
     },
     "execution_count": 5,
     "metadata": {},
     "output_type": "execute_result"
    }
   ],
   "source": [
    "u = pint.UnitRegistry()\n",
    "cmpery = 1.*u.cm/u.year\n",
    "mpermy = 1.*u.m/u.megayear\n",
    "year = 1.*u.year\n",
    "spery = year.to(u.sec)\n",
    "cmpery.to(mpermy)"
   ]
  },
  {
   "cell_type": "code",
   "execution_count": null,
   "metadata": {
    "collapsed": false
   },
   "outputs": [],
   "source": []
  },
  {
   "cell_type": "markdown",
   "metadata": {},
   "source": [
    "**Set parameter dictionaries**"
   ]
  },
  {
   "cell_type": "code",
   "execution_count": 6,
   "metadata": {
    "collapsed": false
   },
   "outputs": [
    {
     "name": "stdout",
     "output_type": "stream",
     "text": [
      "(0.04, 1.2675505856327397e-11)\n"
     ]
    }
   ],
   "source": [
    "box_half_width =4000e3\n",
    "age_at_trench = 100e6\n",
    "cmperyear = box_half_width / age_at_trench #m/y\n",
    "mpersec = cmperyear*(cmpery.to(u.m/u.second)).magnitude #m/sec\n",
    "print(cmperyear, mpersec )"
   ]
  },
  {
   "cell_type": "code",
   "execution_count": null,
   "metadata": {
    "collapsed": false
   },
   "outputs": [],
   "source": []
  },
  {
   "cell_type": "code",
   "execution_count": 7,
   "metadata": {
    "collapsed": false
   },
   "outputs": [],
   "source": [
    "###########\n",
    "#Store the physical parameters, scale factors and dimensionless pramters in easyDicts\n",
    "#Mainly helps with avoiding overwriting variables\n",
    "###########\n",
    "\n",
    "dp = edict({'LS_RA':2900.*1e3, #Use full mantle depth for the Rayleigh number\n",
    "            'LS':2000.*1e3, #Depth of domain\n",
    "           'rho':3300.,  #reference density\n",
    "           'g':9.8, #surface gravity\n",
    "           'eta0':1e20, #Dislocation creep at 250 km, 1573 K, 1e-15 s-1 \n",
    "           'k':1e-6, #thermal diffusivity\n",
    "           'a':3e-5, #surface thermal expansivity\n",
    "           'TP':1573., #mantle potential temp (K)\n",
    "           'TS':273., #surface temp (K)\n",
    "           'cohesion':2e6, #cohesion in Byerlee law\n",
    "           'fc':0.2,   #friction coefficient in Byerlee law (tan(phi))\n",
    "           'Adf':3e-11, #pre-exp factor for diffusion creep\n",
    "           'Ads':5e-16, #pre-exp factor for dislocation creep\n",
    "           'Apr':1e-150,#pre-exp factor for Peierls creep\n",
    "           'Edf':3e5,\n",
    "           'Eds':5.4e5,\n",
    "           'Epr':5.4e5,\n",
    "           'Vdf':4e-6,\n",
    "           'Vds':12e-6,\n",
    "           'Vpr':10e-6,\n",
    "           'Alm':1.3e-16,\n",
    "           'Elm':2.0e5,\n",
    "           'Vlm':1.1e-6,\n",
    "           'Ba':4.3e-12,  #A value to simulate pressure increase with depth\n",
    "           'SR':1e-15,\n",
    "           #'Dr':250e3, #Reference depth\n",
    "           'rDepth':250e3, #reference depth (used to scale / normalize the flow laws)\n",
    "           'R':8.314, #gas constant\n",
    "           'Cp':1250., #Specific heat (Jkg-1K-1)\n",
    "           'StALS':100e3, #depth of sticky air layer\n",
    "           'plate_vel':4})\n",
    "\n",
    "#Adiabatic heating stuff\n",
    "dp.dTa = (dp.a*dp.g*(dp.TP))/dp.Cp #adibatic gradient, at Tp\n",
    "dp.deltaTa = (dp.TP + dp.dTa*dp.LS) - dp.TS  #Adiabatic Temp at base of mantle, minus Ts\n",
    "dp.deltaT = dp.deltaTa\n",
    "dp.rTemp= dp.TP + dp.rDepth*dp.dTa #reference temp, (potential temp + adiabat)\n",
    "\n",
    "\n",
    "#scale_factors\n",
    "\n",
    "sf = edict({'stress':dp.LS**2/(dp.k*dp.eta0),\n",
    "            'lith_grad':dp.rho*dp.g*(dp.LS)**3/(dp.eta0*dp.k) ,\n",
    "            'vel':dp.LS/dp.k,\n",
    "            'SR':dp.LS**2/dp.k,\n",
    "            'W':(-1./dp.Ba)*(np.log(1.-dp.rho*dp.g*dp.Ba*dp.LS))/(dp.R*dp.deltaTa), #Including adiabatic compression, and deltaTa\n",
    "            'E': 1./(dp.R*dp.deltaTa), #using deltaTa, the guesstimated adiabatic temp differnnce to scale these paramters\n",
    "            #'Ads':(dp.eta0**(ndp.n-2))*((dp.k)**(ndp.n-1))*((dp.LS)**(2. - 2*ndp.n))       \n",
    "           })\n",
    "\n",
    "#dimensionless parameters\n",
    "\n",
    "ndp = edict({'RA':(dp.g*dp.rho*dp.a*(dp.TP - dp.TS)*(dp.LS_RA)**3)/(dp.k*dp.eta0),\n",
    "            'cohesion':dp.cohesion*sf.stress,\n",
    "            'fcd':dp.fc*sf.lith_grad,\n",
    "            'gamma':dp.fc/(dp.a*dp.deltaT),\n",
    "            'Wdf':dp.Vdf*sf.W,\n",
    "            'Edf':dp.Edf*sf.E,\n",
    "            'Wps':dp.Vpr*sf.W,\n",
    "            'Eps':dp.Epr*sf.E,\n",
    "            'Wds':dp.Vds*sf.W,\n",
    "            'Eds':dp.Eds*sf.E,\n",
    "            'Elm':dp.Elm*sf.E,\n",
    "            'Elm':dp.Elm*sf.E,\n",
    "            'Wlm':dp.Vlm*sf.W,\n",
    "            'TSP':0., \n",
    "            'TBP':1.,\n",
    "            'TPP':(dp.TP - dp.TS)/dp.deltaT, #dimensionless potential temp\n",
    "            'rDepth':dp.rDepth/dp.LS,\n",
    "            'rTemp':(dp.rTemp- dp.TS)/dp.deltaT,\n",
    "            'n':3.5, #Dislocation creep stress exponent\n",
    "            'np':20., #Peierls creep stress exponent\n",
    "            'TS':dp.TS/dp.deltaT,\n",
    "            'TP':dp.TP/dp.deltaT,\n",
    "            'eta_crust':0.01, #crust viscosity, if using isoviscous weak crust\n",
    "            'eta_min':1e-3, \n",
    "            'eta_max':1e5, #viscosity max in the mantle material\n",
    "            'eta_max_crust':0.4, #viscosity max in the weak-crust material\n",
    "            'H':0.,\n",
    "            'Tmvp':0.6,\n",
    "            'Di': dp.a*dp.g*dp.LS/dp.Cp, #Dissipation number\n",
    "            'Steta0':1e2,\n",
    "            'plate_vel':sf.vel*dp.plate_vel*(cmpery.to(u.m/u.second)).magnitude,})\n",
    "\n",
    "\n",
    "\n",
    "#Make some further additions to paramter dictionaries\n",
    "\n",
    "#dp.VR = (0.1*(dp.k/dp.LS)*ndp.RA**(2/3.)) #characteristic velocity from a scaling relationship\n",
    "#dp.SR = dp.VR/dp.LS #characteristic strain rate\n",
    "#ndp.VR = dp.VR*sf.vel #characteristic velocity\n",
    "#ndp.SR = dp.SR*sf.SR #characteristic strain rate\n",
    "\n",
    "\n",
    "ndp.SR = dp.SR*sf.SR #characteristic strain rate\n",
    "\n",
    "ndp.StRA = (3300.*dp.g*(dp.LS)**3)/(dp.eta0 *dp.k) #Composisitional Rayleigh number for rock-air buoyancy force\n",
    "ndp.TaP = 1. - ndp.TPP,  #Dimensionles adiabtic component of delta t"
   ]
  },
  {
   "cell_type": "code",
   "execution_count": 8,
   "metadata": {
    "collapsed": false
   },
   "outputs": [
    {
     "data": {
      "text/plain": [
       "2535.1011712654795"
      ]
     },
     "execution_count": 8,
     "metadata": {},
     "output_type": "execute_result"
    }
   ],
   "source": [
    "#40000./sf.vel, \n",
    "#ndp.RA\n",
    "ndp.plate_vel"
   ]
  },
  {
   "cell_type": "code",
   "execution_count": 9,
   "metadata": {
    "collapsed": false
   },
   "outputs": [],
   "source": [
    "#(4.0065172577e-06*sf.SR)/(3600.*24*365)"
   ]
  },
  {
   "cell_type": "code",
   "execution_count": 10,
   "metadata": {
    "collapsed": false
   },
   "outputs": [
    {
     "data": {
      "text/plain": [
       "(45568.60610653658, 2535.1011712654795, 307608701.40000004, 1300.0)"
      ]
     },
     "execution_count": 10,
     "metadata": {},
     "output_type": "execute_result"
    }
   ],
   "source": [
    "dp.CVR = (0.1*(dp.k/dp.LS)*ndp.RA**(2/3.))\n",
    "ndp.CVR = dp.CVR*sf.vel #characteristic velocity\n",
    "ndp.CVR, ndp.plate_vel, ndp.RA , (dp.TP - dp.TS)\n"
   ]
  },
  {
   "cell_type": "code",
   "execution_count": 11,
   "metadata": {
    "collapsed": false
   },
   "outputs": [],
   "source": [
    "###########\n",
    "#lengths scales for various processes (material transistions etc.)\n",
    "###########\n",
    "\n",
    "MANTLETOCRUST = (8.*1e3)/dp.LS #Crust depth\n",
    "HARZBURGDEPTH = MANTLETOCRUST + (27.7e3/dp.LS)\n",
    "CRUSTTOMANTLE = (800.*1e3)/dp.LS\n",
    "LITHTOMANTLE = (900.*1e3)/dp.LS \n",
    "MANTLETOLITH = (200.*1e3)/dp.LS \n",
    "TOPOHEIGHT = (10.*1e3)/dp.LS  #rock-air topography limits\n",
    "CRUSTTOECL  = (100.*1e3)/dp.LS\n",
    "AVGTEMP = ndp.TPP #Used to define lithosphere\n",
    "LOWMANTLEDEPTH = (660.*1e3)/dp.LS \n",
    "CRUSTVISCUTOFF = (100.*1e3)/dp.LS #Deeper than this, crust material rheology reverts to mantle rheology\n",
    "AGETRACKDEPTH = 100e3/dp.LS #above this depth we track the age of the lithsphere (below age is assumed zero)\n"
   ]
  },
  {
   "cell_type": "code",
   "execution_count": null,
   "metadata": {
    "collapsed": false
   },
   "outputs": [],
   "source": []
  },
  {
   "cell_type": "markdown",
   "metadata": {},
   "source": [
    "**Model setup parameters**"
   ]
  },
  {
   "cell_type": "code",
   "execution_count": 12,
   "metadata": {
    "collapsed": false
   },
   "outputs": [],
   "source": [
    "###########\n",
    "#Model setup parameters\n",
    "###########\n",
    "\n",
    "#Modelling and Physics switches\n",
    "refineMesh = True\n",
    "stickyAir = False \n",
    "meltViscosityReduction = False\n",
    "symmetricIC = False\n",
    "VelBC = False\n",
    "WeakZone = False\n",
    "aspectRatio = 4\n",
    "compBuoyancy = False #use compositional & phase buoyancy, or simply thermal\n",
    "viscMechs = ['diffusion', 'dislocation', 'peierls', 'yielding']\n",
    "viscCombine = 'harmonic' #'harmonic', 'min', 'mixed'....\n",
    "\n",
    "#Domain and Mesh paramters\n",
    "dim = 2          # number of spatial dimensions\n",
    "MINX = -1.*aspectRatio/2.\n",
    "MINY = 0.\n",
    "MAXX = 1.*aspectRatio/2.\n",
    "MAXY = 1.\n",
    "if MINX == 0.:\n",
    "    squareModel = True\n",
    "else: \n",
    "    squareModel = False\n",
    "    \n",
    "    \n",
    "RES = 48\n",
    "Xres = int(RES*aspectRatio)\n",
    "if MINY == 0.5:\n",
    "    Xres = int(2.*RES*aspectRatio)\n",
    "    \n",
    "\n",
    "if stickyAir:\n",
    "    Yres = RES\n",
    "    MAXY = 1. + dp.StALS/dp.LS #150km\n",
    "    \n",
    "else:\n",
    "    Yres = RES\n",
    "    MAXY = 1.\n",
    "\n",
    "periodic = [True, False]\n",
    "elementType = \"Q1/dQ0\"\n",
    "#elementType =\"Q2/DPC1\"\n",
    "\n",
    "\n",
    "#System/Solver stuff\n",
    "PIC_integration=True\n",
    "ppc = 25\n",
    "\n",
    "#Metric output stuff\n",
    "swarm_repop, swarm_update = 10, 10\n",
    "gldbs_output = 10\n",
    "checkpoint_every, files_output = 10, 20\n",
    "metric_output = 10\n",
    "sticky_air_temp = 5"
   ]
  },
  {
   "cell_type": "markdown",
   "metadata": {},
   "source": [
    "Create mesh and finite element variables\n",
    "------"
   ]
  },
  {
   "cell_type": "code",
   "execution_count": 13,
   "metadata": {
    "collapsed": false
   },
   "outputs": [],
   "source": [
    "mesh = uw.mesh.FeMesh_Cartesian( elementType = (elementType),\n",
    "                                 elementRes  = (Xres, Yres), \n",
    "                                 minCoord    = (MINX, MINY), \n",
    "                                 maxCoord    = (MAXX, MAXY), periodic=periodic)\n",
    "\n",
    "velocityField       = uw.mesh.MeshVariable( mesh=mesh,         nodeDofCount=2 )\n",
    "pressureField       = uw.mesh.MeshVariable( mesh=mesh.subMesh, nodeDofCount=1 )\n",
    "temperatureField    = uw.mesh.MeshVariable( mesh=mesh,         nodeDofCount=1 )\n",
    "temperatureDotField = uw.mesh.MeshVariable( mesh=mesh,         nodeDofCount=1 )"
   ]
  },
  {
   "cell_type": "code",
   "execution_count": 14,
   "metadata": {
    "collapsed": true
   },
   "outputs": [],
   "source": [
    "mesh.reset()"
   ]
  },
  {
   "cell_type": "code",
   "execution_count": 15,
   "metadata": {
    "collapsed": false
   },
   "outputs": [
    {
     "name": "stdout",
     "output_type": "stream",
     "text": [
      "Min\n",
      "(256, 0.0078140624999999998, 3.0003999999999995, 0.99960000000000093)\n",
      "('edges', 256)\n",
      "-- iteration 0 --\n",
      "| F( p_n ) |^2: 0.000123928075027\n",
      "| p_n+1 - p_n |^2: 8.53512671865\n",
      "-- iteration 1 --\n",
      "| F( p_n ) |^2: 3.29102908897e-30\n",
      "Min, Max element width: \n",
      "0.00781\n",
      "0.02344\n"
     ]
    }
   ],
   "source": [
    "###########\n",
    "#Mesh refinement\n",
    "###########\n",
    "\n",
    "#X-Axis\n",
    "\n",
    "if refineMesh:\n",
    "    mesh.reset()\n",
    "    axis = 0\n",
    "    origcoords = np.linspace(mesh.minCoord[axis], mesh.maxCoord[axis], mesh.elementRes[axis] + 1)\n",
    "    edge_rest_lengths = np.diff(origcoords)\n",
    "\n",
    "    deform_lengths = edge_rest_lengths.copy()\n",
    "    min_point =  (abs(mesh.maxCoord[axis]) - abs(mesh.minCoord[axis]))/2.\n",
    "    el_reduction = 0.5001\n",
    "    dx = mesh.maxCoord[axis] - min_point\n",
    "\n",
    "    deform_lengths = deform_lengths - \\\n",
    "                                    ((1.-el_reduction) *deform_lengths[0]) + \\\n",
    "                                    abs((origcoords[1:] - min_point))*((0.5*deform_lengths[0])/dx)\n",
    "\n",
    "    #print(edge_rest_lengths.shape, deform_lengths.shape)\n",
    "\n",
    "    spmesh.deform_1d(deform_lengths, mesh,axis = 'x',norm = 'Min', constraints = [])"
   ]
  },
  {
   "cell_type": "code",
   "execution_count": 16,
   "metadata": {
    "collapsed": false
   },
   "outputs": [],
   "source": [
    "axis = 1\n",
    "orgs = np.linspace(mesh.minCoord[axis], mesh.maxCoord[axis], mesh.elementRes[axis] + 1)\n",
    "\n",
    "value_to_constrain = 1.\n",
    "\n",
    "\n",
    "yconst = [(spmesh.find_closest(orgs, value_to_constrain), np.array([value_to_constrain,0]))]"
   ]
  },
  {
   "cell_type": "code",
   "execution_count": 17,
   "metadata": {
    "collapsed": false,
    "scrolled": true
   },
   "outputs": [
    {
     "name": "stdout",
     "output_type": "stream",
     "text": [
      "Min\n",
      "(64, 0.0078140624999999998, 0.74619374999999988, 1.0313396825396834)\n",
      "('edges', 64)\n",
      "-- iteration 0 --\n",
      "| F( p_n ) |^2: 0.000125895187329\n",
      "| p_n+1 - p_n |^2: 0.550178754655\n",
      "-- iteration 1 --\n",
      "| F( p_n ) |^2: 3.96579068205e-31\n",
      "Min, Max element width: \n",
      "0.00781\n",
      "0.02344\n"
     ]
    }
   ],
   "source": [
    "###########\n",
    "#Mesh refinement\n",
    "###########\n",
    "\n",
    "if refineMesh:\n",
    "    #Y-Axis\n",
    "    axis = 1\n",
    "    origcoords = np.linspace(mesh.minCoord[axis], mesh.maxCoord[axis], mesh.elementRes[axis] + 1)\n",
    "    edge_rest_lengths = np.diff(origcoords)\n",
    "\n",
    "    deform_lengths = edge_rest_lengths.copy()\n",
    "    min_point =  (mesh.maxCoord[axis])\n",
    "    el_reduction = 0.5001\n",
    "    dx = mesh.maxCoord[axis]\n",
    "\n",
    "    deform_lengths = deform_lengths - \\\n",
    "                                    ((1.-el_reduction)*deform_lengths[0]) + \\\n",
    "                                    abs((origcoords[1:] - min_point))*((0.5*deform_lengths[0])/dx)\n",
    "\n",
    "    #print(edge_rest_lengths.shape, deform_lengths.shape)\n",
    "\n",
    "    spmesh.deform_1d(deform_lengths, mesh,axis = 'y',norm = 'Min', constraints = yconst)"
   ]
  },
  {
   "cell_type": "code",
   "execution_count": 18,
   "metadata": {
    "collapsed": false
   },
   "outputs": [],
   "source": [
    "fig= glucifer.Figure()\n",
    "\n",
    "fig.append(glucifer.objects.Mesh(mesh))\n",
    "\n",
    "#fig.show()\n",
    "#fig.save_database('test.gldb')"
   ]
  },
  {
   "cell_type": "markdown",
   "metadata": {},
   "source": [
    "Initial conditions\n",
    "-------\n"
   ]
  },
  {
   "cell_type": "code",
   "execution_count": 19,
   "metadata": {
    "collapsed": false
   },
   "outputs": [],
   "source": [
    "coordinate = fn.input()\n",
    "depthFn = 1. - coordinate[1] #a function providing the depth\n",
    "xFn = coordinate[0]  #a function providing the x-coordinate\n",
    "\n",
    "potTempFn = ndp.TPP + (depthFn)*ndp.TaP #a function providing the adiabatic temp at any depth\n",
    "abHeatFn = -1.*velocityField[1]*temperatureField*ndp.Di #a function providing the adiabatic heating rate"
   ]
  },
  {
   "cell_type": "code",
   "execution_count": null,
   "metadata": {
    "collapsed": false
   },
   "outputs": [],
   "source": []
  },
  {
   "cell_type": "code",
   "execution_count": 20,
   "metadata": {
    "collapsed": false
   },
   "outputs": [],
   "source": [
    "###########\n",
    "#Thermal initial condition:\n",
    "#if symmetricIC, we build a symmetric downwelling on top of a sinusoidal perturbation\n",
    "##########\n",
    "\n",
    "#Sinusoidal initial condition\n",
    "A = 0.2\n",
    "sinFn = depthFn + A*(fn.math.cos( math.pi * coordinate[0])  * fn.math.sin( math.pi * coordinate[1] ))        \n",
    "iD = 1000e3/dp.LS #Initial Slab depth\n",
    "dl =  2*math.sqrt(dp.k*160e6*3600*24*365) #diffusion Length at ... My\n",
    "w0 = dl/dp.LS #Boundary layer/slab initial condition\n",
    "delX1 = fn.misc.min(fn.math.abs(coordinate[0] - -0.), fn.math.abs(coordinate[0] - -2.))\n",
    "delX = fn.misc.min(delX1 , fn.math.abs(coordinate[0] - 2.))\n",
    "w = w0*fn.math.sqrt(delX + 1e-7)\n",
    "tempBL = (potTempFn) *fn.math.erf((depthFn)/w) + ndp.TSP\n",
    "delX = fn.misc.min(fn.math.abs(coordinate[0] - - 1.) , fn.math.abs(coordinate[0] - 1.))\n",
    "tempSlab = (potTempFn ) *fn.math.erf((delX*2.)/w0) + ndp.TSP       \n",
    "tempFn1 =  fn.misc.min(tempBL, tempSlab)\n",
    "blFn = fn.branching.conditional([(depthFn < iD, tempFn1), \n",
    "                                    (True, potTempFn)])\n",
    "\n",
    "tempFn = 0.*sinFn + 1.*blFn #partition the temp between these the symmetric downwelling and sinusoid\n",
    "if symmetricIC:  \n",
    "    if not checkpointLoad:\n",
    "        temperatureField.data[:] = tempFn.evaluate(mesh)  "
   ]
  },
  {
   "cell_type": "code",
   "execution_count": 21,
   "metadata": {
    "collapsed": false
   },
   "outputs": [],
   "source": [
    "###########\n",
    "#Thermal initial condition 2: \n",
    "#if symmetricIC == False, we build an asymmetric subduction-zone\n",
    "###########\n",
    "\n",
    "#Main control paramters are:\n",
    "\n",
    "Roc = 350e3 #radius of curvature of slab\n",
    "\n",
    "theta = 89. #Angle to truncate the slab (can also do with with a cutoff depth)\n",
    "subzone = 0.0 #X position of subduction zone...in model coordinates\n",
    "slabmaxAge = 40e6 #age of subduction plate at trench\n",
    "platemaxAge = 40e6 #max age of slab (Plate model)\n",
    "ageAtTrenchSeconds = min(platemaxAge*(3600*24*365), slabmaxAge*(3600*24*365))\n",
    "\n",
    "\n",
    "sense = 'Right' #dip direction\n",
    "op_age_fac = 1. #this controls the overidding plate speed, hence age reduction\n",
    "\n",
    "\n",
    "#First build the top TBL\n",
    "#Create functions between zero and one, to control age distribution\n",
    "ageFn1 = fn.misc.max(0., (1. - 1.*fn.math.abs(xFn)/(aspectRatio/2.) ))\n",
    "ageFn  = fn.branching.conditional([(coordinate[0] <= 0, ageFn1),\n",
    "                                  (True, ageFn1/op_age_fac)])\n",
    "\n",
    "#dimensionlize the age function\n",
    "ageFn *= slabmaxAge*(3600*24*365)\n",
    "#ageFn = fn.misc.min(ageFn, platemaxAge*(3600*24*365)) #apply plate model\n",
    "\n",
    "w0 = (2.*math.sqrt(dp.k*ageAtTrenchSeconds))/dp.LS #diffusion depth of plate at the trench\n",
    "\n",
    "tempBL = (potTempFn) *fn.math.erf((depthFn*dp.LS)/(2.*fn.math.sqrt(dp.k*ageFn))) + ndp.TSP #boundary layer function\n",
    "\n",
    "tempTBL =  fn.branching.conditional([(depthFn < w0, tempBL),\n",
    "                          (True, potTempFn)])\n",
    "\n",
    "if not symmetricIC:\n",
    "    if not checkpointLoad:\n",
    "        out = uw.utils.MeshVariable_Projection( temperatureField, tempTBL) #apply function with projection\n",
    "        out.solve()\n",
    "\n",
    "\n",
    "#Now build the perturbation part\n",
    "def inCircleFnGenerator(centre, radius):\n",
    "    coord = fn.input()\n",
    "    offsetFn = coord - centre\n",
    "    return fn.math.dot( offsetFn, offsetFn ) < radius**2\n",
    "\n",
    "#Setup slab perturbation params (mostly dimensionlesl / model params here)\n",
    "phi = 90. - theta\n",
    "RocM = (Roc/dp.LS)\n",
    "CrustM = MANTLETOCRUST\n",
    "Org = (subzone, 1.-RocM)\n",
    "maxDepth = 250e3/dp.LS\n",
    "\n",
    "#We use three circles to define our slab and crust perturbation,  \n",
    "Oc = inCircleFnGenerator(Org , RocM)\n",
    "Ic = inCircleFnGenerator(Org , RocM - w0)\n",
    "Cc = inCircleFnGenerator(Org , RocM + (1.5*CrustM)) #... weak zone on 'outside' of slab\n",
    "dx = (RocM)/(np.math.tan((np.math.pi/180.)*phi))\n",
    "\n",
    "#We'll also create a triangle which will truncate the circles defining the slab...\n",
    "if sense == 'Left':\n",
    "    ptx = subzone - dx\n",
    "else:\n",
    "    ptx = subzone + dx\n",
    "coords = ((0.+subzone, 1), (0.+subzone, 1.-RocM), (ptx, 1.))\n",
    "Tri = fn.shape.Polygon(np.array(coords))\n",
    "\n",
    "#Actually apply the perturbation\n",
    "if not symmetricIC:\n",
    "    if not checkpointLoad:\n",
    "        sdFn = ((RocM - fn.math.sqrt((coordinate[0] - Org[0])**2. + (coordinate[1] - Org[1])**2.)))\n",
    "        slabFn = ndp.TPP*fn.math.erf((sdFn*dp.LS)/(2.*math.sqrt(dp.k*ageAtTrenchSeconds))) + ndp.TSP\n",
    "        for index, coord in enumerate(mesh.data):\n",
    "            if (\n",
    "                Oc.evaluate(tuple(coord)) and\n",
    "                Tri.evaluate(tuple(coord)) and not\n",
    "                Ic.evaluate(tuple(coord)) and\n",
    "                coordinate[1] > (1. - maxDepth)\n",
    "                ): #In the quarter-circle defining the lithosphere\n",
    "                temperatureField.data[index] = slabFn.evaluate(mesh)[index]\n",
    "\n"
   ]
  },
  {
   "cell_type": "code",
   "execution_count": 22,
   "metadata": {
    "collapsed": false
   },
   "outputs": [],
   "source": [
    "#Make sure material in sticky air region is at the surface temperature.\n",
    "for index, coord in enumerate(mesh.data):\n",
    "            if coordinate[1] >= 1.:\n",
    "                temperatureField.data[index] = ndp.TSP"
   ]
  },
  {
   "cell_type": "code",
   "execution_count": 23,
   "metadata": {
    "collapsed": false
   },
   "outputs": [
    {
     "data": {
      "text/plain": [
       "(0.05, 0.012)"
      ]
     },
     "execution_count": 23,
     "metadata": {},
     "output_type": "execute_result"
    }
   ],
   "source": [
    "#fn.math.erf((sdFn*dp.LS)/(2.*fn.math.sqrt(dp.k*(slabmaxAge*(3600*24*365))))) \n",
    "CRUSTVISCUTOFF, MANTLETOCRUST*3"
   ]
  },
  {
   "cell_type": "markdown",
   "metadata": {
    "collapsed": false
   },
   "source": [
    "def matplot_field(temperatureField, dp):\n",
    "    if uw.nProcs() != 1:\n",
    "        print(\"only in Serial folks\")\n",
    "    else:\n",
    "        import matplotlib.pyplot as pyplt\n",
    "        try :\n",
    "            if(__IPYTHON__) :\n",
    "                get_ipython().magic(u'matplotlib inline')\n",
    "        except NameError :\n",
    "            pass\n",
    "        field_data = temperatureField.data.reshape(mesh.elementRes[1] + 1, mesh.elementRes[0] + 1)\n",
    "        fig, ax = pyplt.subplots(figsize=(32,2))\n",
    "        ql = dp.LS/1e3\n",
    "        pyplt.ioff()\n",
    "        cax =ax.imshow(np.flipud(field_data), cmap='coolwarm', aspect = 0.5, extent=[0,ql*aspectRatio,ql, 0])\n",
    "        fig.colorbar(cax, orientation='horizontal' )\n",
    "        #ax.set_x([0,dp.LS*aspectRatio])\n",
    "        pyplt.tight_layout()\n",
    "        \n",
    "        return fig, ax\n",
    "        \n",
    "fig, ax = matplot_field(temperatureField, dp)\n",
    "fig.savefig('test.png')       "
   ]
  },
  {
   "cell_type": "code",
   "execution_count": 24,
   "metadata": {
    "collapsed": false
   },
   "outputs": [],
   "source": [
    "fig= glucifer.Figure(quality=3)\n",
    "\n",
    "#fig.append( glucifer.objects.Surface(mesh,temperatureField, discrete=True))\n",
    "#fig.append( glucifer.objects.Mesh(mesh))\n",
    "#fig.show()\n",
    "#fig.save_database('test.gldb')\n"
   ]
  },
  {
   "cell_type": "markdown",
   "metadata": {},
   "source": [
    "Boundary conditions\n",
    "-------"
   ]
  },
  {
   "cell_type": "code",
   "execution_count": 25,
   "metadata": {
    "collapsed": false
   },
   "outputs": [
    {
     "name": "stdout",
     "output_type": "stream",
     "text": [
      "4\n"
     ]
    }
   ],
   "source": [
    "for index in mesh.specialSets[\"MinJ_VertexSet\"]:\n",
    "    temperatureField.data[index] = ndp.TBP\n",
    "for index in mesh.specialSets[\"MaxJ_VertexSet\"]:\n",
    "    temperatureField.data[index] = ndp.TSP\n",
    "    \n",
    "iWalls = mesh.specialSets[\"MinI_VertexSet\"] + mesh.specialSets[\"MaxI_VertexSet\"]\n",
    "jWalls = mesh.specialSets[\"MinJ_VertexSet\"] + mesh.specialSets[\"MaxJ_VertexSet\"]\n",
    "tWalls = mesh.specialSets[\"MaxJ_VertexSet\"]\n",
    "bWalls =mesh.specialSets[\"MinJ_VertexSet\"]\n",
    "\n",
    "VelBCs = mesh.specialSets[\"Empty\"]\n",
    "\n",
    "\n",
    "\n",
    "if VelBC:\n",
    "    for index in list(tWalls.data):\n",
    "\n",
    "        if (mesh.data[int(index)][0] < (subzone - 0.05*aspectRatio) and \n",
    "            mesh.data[int(index)][0] > (mesh.minCoord[0] + 0.05*aspectRatio)): #Only push with a portion of teh overiding plate\n",
    "            #print \"first\"\n",
    "            VelBCs.add(int(index))\n",
    "            #Set the plate velocities for the kinematic phase\n",
    "            velocityField.data[index] = [ndp.plate_vel, 0.]\n",
    "        \n",
    "        elif (mesh.data[int(index)][0] > (subzone + 0.05*aspectRatio) and \n",
    "            mesh.data[int(index)][0] < (mesh.maxCoord[0] - 0.05*aspectRatio)):\n",
    "            #print \"second\"\n",
    "            VelBCs.add(int(index))\n",
    "            #Set the plate velocities for the kinematic phase\n",
    "            velocityField.data[index] = [0., 0.]\n",
    "        \n",
    "\n",
    "#If periodic, we'll fix a the x-vel at a single node - at the bottom left (index 0)\n",
    "Fixed = mesh.specialSets[\"Empty\"]\n",
    "Fixed.add(int(0))        \n",
    "        \n",
    "\n",
    "if periodic[0] == False:\n",
    "    if VelBC:\n",
    "        print(1)\n",
    "        freeslipBC = uw.conditions.DirichletCondition( variable      = velocityField, \n",
    "                                               indexSetsPerDof = ( iWalls + VelBCs, jWalls) )\n",
    "    else:\n",
    "        print(2)\n",
    "        freeslipBC = uw.conditions.DirichletCondition( variable      = velocityField, \n",
    "                                               indexSetsPerDof = ( iWalls, jWalls) )\n",
    "\n",
    "\n",
    "\n",
    "\n",
    "\n",
    "\n",
    "if periodic[0] == True:\n",
    "    if VelBC:\n",
    "        print(3)\n",
    "        freeslipBC = uw.conditions.DirichletCondition( variable      = velocityField, \n",
    "                                               indexSetsPerDof = ( Fixed + VelBCs , jWalls) )\n",
    "    else:\n",
    "        print(4)\n",
    "        freeslipBC = uw.conditions.DirichletCondition( variable      = velocityField, \n",
    "                                               indexSetsPerDof = ( Fixed, jWalls) )\n",
    "        \n",
    "    \n",
    "    \n",
    "    \n",
    "# also set dirichlet for temp field\n",
    "dirichTempBC = uw.conditions.DirichletCondition(     variable=temperatureField, \n",
    "                                              indexSetsPerDof=(tWalls,) )\n",
    "dT_dy = [0.,0.]\n",
    "\n",
    "# also set dirichlet for temp field\n",
    "neumannTempBC = uw.conditions.NeumannCondition( dT_dy, variable=temperatureField, \n",
    "                                         nodeIndexSet=bWalls)\n",
    "\n"
   ]
  },
  {
   "cell_type": "code",
   "execution_count": null,
   "metadata": {
    "collapsed": false
   },
   "outputs": [],
   "source": []
  },
  {
   "cell_type": "code",
   "execution_count": 26,
   "metadata": {
    "collapsed": false
   },
   "outputs": [],
   "source": [
    "#check VelBCs are where we want them\n",
    "#test = np.zeros(len(tWalls.data))\n",
    "#VelBCs\n",
    "#tWalls.data\n",
    "#tWalls.data[VelBCs.data]\n",
    "#test[np.in1d(tWalls.data, VelBCs.data)] = 1.\n",
    "#test\n",
    "\n"
   ]
  },
  {
   "cell_type": "code",
   "execution_count": null,
   "metadata": {
    "collapsed": false
   },
   "outputs": [],
   "source": []
  },
  {
   "cell_type": "markdown",
   "metadata": {},
   "source": [
    "Swarm setup\n",
    "-----\n"
   ]
  },
  {
   "cell_type": "code",
   "execution_count": 27,
   "metadata": {
    "collapsed": false
   },
   "outputs": [],
   "source": [
    "###########\n",
    "#Material Swarm and variables\n",
    "###########\n",
    "\n",
    "#create material swarm\n",
    "gSwarm = uw.swarm.Swarm(mesh=mesh, particleEscape=True)\n",
    "\n",
    "#create swarm variables\n",
    "yieldingCheck = gSwarm.add_variable( dataType=\"int\", count=1 )\n",
    "#tracerVariable = gSwarm.add_variable( dataType=\"int\", count=1)\n",
    "materialVariable = gSwarm.add_variable( dataType=\"int\", count=1 )\n",
    "ageVariable = gSwarm.add_variable( dataType=\"double\", count=1 )\n",
    "#testVariable = gSwarm.add_variable( dataType=\"float\", count=1 )\n",
    "\n",
    "\n",
    "#these lists  are part of the checkpointing implementation\n",
    "varlist = [materialVariable, yieldingCheck, ageVariable]\n",
    "varnames = ['materialVariable', 'yieldingCheck', 'ageVariable']"
   ]
  },
  {
   "cell_type": "code",
   "execution_count": 28,
   "metadata": {
    "collapsed": false
   },
   "outputs": [],
   "source": [
    "mantleIndex = 0\n",
    "crustIndex = 1\n",
    "harzIndex = 2\n",
    "airIndex = 3\n",
    "\n",
    "\n",
    "\n",
    "if checkpointLoad:\n",
    "    checkpointLoadDir = natsort.natsort(checkdirs)[-1]\n",
    "    temperatureField.load(os.path.join(checkpointLoadDir, \"temperatureField\" + \".hdf5\"))\n",
    "    pressureField.load(os.path.join(checkpointLoadDir, \"pressureField\" + \".hdf5\"))\n",
    "    velocityField.load(os.path.join(checkpointLoadDir, \"velocityField\" + \".hdf5\"))\n",
    "    gSwarm.load(os.path.join(checkpointLoadDir, \"swarm\" + \".h5\"))\n",
    "    for ix in range(len(varlist)):\n",
    "        varb = varlist[ix]\n",
    "        varb.load(os.path.join(checkpointLoadDir,varnames[ix] + \".h5\"))\n",
    "\n",
    "else:\n",
    "\n",
    "    # Layouts are used to populate the swarm across the whole domain\n",
    "    layout = uw.swarm.layouts.PerCellRandomLayout(swarm=gSwarm, particlesPerCell=ppc)\n",
    "    gSwarm.populate_using_layout( layout=layout ) # Now use it to populate.\n",
    "    # Swarm variables\n",
    "    materialVariable.data[:] = mantleIndex\n",
    "    #tracerVariable.data[:] = 1\n",
    "    yieldingCheck.data[:] = 0\n",
    "    ageVariable.data[:] = -1\n",
    "\n",
    "    #Set initial air and crust materials (allow the graph to take care of lithsophere)\n",
    "    #########\n",
    "    #This initial material setup will be model dependent\n",
    "    #########\n",
    "    for particleID in range(gSwarm.particleCoordinates.data.shape[0]):\n",
    "        if (1. - gSwarm.particleCoordinates.data[particleID][1]) < MANTLETOCRUST:\n",
    "                 materialVariable.data[particleID] = crustIndex"
   ]
  },
  {
   "cell_type": "markdown",
   "metadata": {
    "collapsed": false
   },
   "source": [
    "###########\n",
    "#This block sets up a checkboard layout of passive tracers\n",
    "###########\n",
    "\n",
    "square_size = 0.1\n",
    "xlist = np.arange(mesh.minCoord[0] + square_size/2., mesh.maxCoord[0] + square_size/2., square_size)\n",
    "xlist = zip(xlist[:], xlist[1:])[::2]\n",
    "ylist = np.arange(mesh.minCoord[1] + square_size/2., mesh.maxCoord[1] + square_size/2., square_size)\n",
    "ylist = zip(ylist[:], ylist[1:])[::2]\n",
    "xops = []\n",
    "for vals in xlist:\n",
    "    xops.append( (operator.and_(   operator.gt(coordinate[0],vals[0]),   operator.lt(coordinate[0],vals[1])  ),0.) )\n",
    "xops.append((True,1.))\n",
    "\n",
    "testfunc = fn.branching.conditional(xops) \n",
    "\n",
    "yops = []\n",
    "for vals in ylist:\n",
    "    yops.append( (operator.and_(   operator.gt(coordinate[1],vals[0]),   operator.lt(coordinate[1],vals[1])  ),0.) )\n",
    "yops.append((True,testfunc))\n",
    "\n",
    "testfunc2 = fn.branching.conditional(yops) \n",
    "tracerVariable.data[:] = testfunc.evaluate(gSwarm)\n",
    "tracerVariable.data[:] = testfunc2.evaluate(gSwarm)"
   ]
  },
  {
   "cell_type": "code",
   "execution_count": null,
   "metadata": {
    "collapsed": false
   },
   "outputs": [],
   "source": []
  },
  {
   "cell_type": "code",
   "execution_count": 29,
   "metadata": {
    "collapsed": false
   },
   "outputs": [],
   "source": [
    "##############\n",
    "#Set the initial particle age for particles above the critical depth; \n",
    "#only material older than crustageCond will be transformed to crust / harzburgite\n",
    "##############\n",
    "\n",
    "ageVariable.data[:] = 0. #start with all zero\n",
    "ageVariable.data[:] = ageFn.evaluate(gSwarm)/sf.SR\n",
    "crustageCond = 2e6*(3600.*365.*24.)/sf.SR #set inital age above critical depth. (x...Ma)\n",
    "\n",
    "\n",
    "\n",
    "ageConditions = [ (depthFn < AGETRACKDEPTH, ageVariable),  #In the main loop we add ageVariable + dt here\n",
    "                  (True, 0.) ]\n",
    "                 \n",
    "#apply conditional \n",
    "ageVariable.data[:] = fn.branching.conditional( ageConditions ).evaluate(gSwarm)\n",
    "\n"
   ]
  },
  {
   "cell_type": "code",
   "execution_count": 30,
   "metadata": {
    "collapsed": false
   },
   "outputs": [],
   "source": [
    "fig= glucifer.Figure()\n",
    "fig.append( glucifer.objects.Points(gSwarm,ageVariable))\n",
    "#fig.append( glucifer.objects.Points(gSwarm, viscosityMapFn, logScale=True, valueRange =[1e-3,1e5]))\n",
    "\n",
    "#fig.append( glucifer.objects.Surface(mesh, strainRate_2ndInvariant, logScale=True, valueRange =[1e-3,1e5] ))\n",
    "#fig.append( glucifer.objects.VectorArrows(mesh,velocityField, scaling=0.002))\n",
    "#fig.append( glucifer.objects.Surface(mesh,densityMapFn))\n",
    "#fig.append( glucifer.objects.Surface(mesh,raylieghFn))\n",
    "\n",
    "#fig.show()"
   ]
  },
  {
   "cell_type": "code",
   "execution_count": 39,
   "metadata": {
    "collapsed": false
   },
   "outputs": [],
   "source": [
    "##############\n",
    "#Here we set up a directed graph object that we we use to control the transformation from one material type to another\n",
    "##############\n",
    "\n",
    "#All depth conditions are given as (km/D) where D is the length scale,\n",
    "#note that 'model depths' are used, e.g. 1-z, where z is the vertical Underworld coordinate\n",
    "#All temp conditions are in dimensionless temp. [0. - 1.]\n",
    "\n",
    "#Need a list of all material indexes (safer in parallel)\n",
    "material_list = [0,1,2,3]\n",
    "\n",
    "if not checkpointLoad:\n",
    "    materialVariable.data[:] = 0 #Initialize to zero \n",
    "\n",
    "#Setup the graph object\n",
    "DG = material_graph.MatGraph()\n",
    "\n",
    "#Important: First thing to do is to add all the material types to the graph (i.e add nodes)\n",
    "DG.add_nodes_from(material_list)\n",
    "\n",
    "#Now set the conditions for transformations\n",
    "\n",
    "hs = 2e3/dp.LS  #add some hysteresis to the depths of transition\n",
    "\n",
    "#... to mantle\n",
    "DG.add_transition((crustIndex,mantleIndex), depthFn, operator.gt, CRUSTTOMANTLE + hs)\n",
    "DG.add_transition((harzIndex,mantleIndex), depthFn, operator.gt, CRUSTTOMANTLE + hs)\n",
    "DG.add_transition((airIndex,mantleIndex), depthFn, operator.gt, TOPOHEIGHT + hs)\n",
    "\n",
    "#... to crust\n",
    "DG.add_transition((mantleIndex,crustIndex), depthFn, operator.lt, MANTLETOCRUST - hs)\n",
    "DG.add_transition((mantleIndex,crustIndex), xFn, operator.lt, 0. + 7.*MANTLETOCRUST) #No crust on the upper plate\n",
    "DG.add_transition((mantleIndex,crustIndex), ageVariable, operator.gt, crustageCond)\n",
    "\n",
    "\n",
    "DG.add_transition((harzIndex,crustIndex), depthFn, operator.lt, MANTLETOCRUST - hs)\n",
    "DG.add_transition((harzIndex,crustIndex), xFn, operator.lt, 0. + 7.*MANTLETOCRUST) #This one sets no crust on the upper plate\n",
    "DG.add_transition((harzIndex,crustIndex), ageVariable, operator.gt, crustageCond)\n",
    "\n",
    "#... to Harzbugite\n",
    "DG.add_transition((mantleIndex,harzIndex), depthFn, operator.lt, HARZBURGDEPTH - hs)\n",
    "DG.add_transition((mantleIndex,harzIndex), depthFn, operator.gt, MANTLETOCRUST + hs)\n",
    "DG.add_transition((mantleIndex,harzIndex), ageVariable, operator.gt, crustageCond) #Note we can mix functions and swarm variabls\n",
    "\n",
    "#... to air\n",
    "DG.add_transition((mantleIndex,airIndex), depthFn, operator.lt,0. - TOPOHEIGHT)\n",
    "DG.add_transition((crustIndex,airIndex), depthFn, operator.lt, 0. - TOPOHEIGHT)\n"
   ]
  },
  {
   "cell_type": "code",
   "execution_count": 40,
   "metadata": {
    "collapsed": false
   },
   "outputs": [
    {
     "data": {
      "text/plain": [
       "[0, 1, 2, 3]"
      ]
     },
     "execution_count": 40,
     "metadata": {},
     "output_type": "execute_result"
    }
   ],
   "source": [
    "DG.nodes()"
   ]
  },
  {
   "cell_type": "code",
   "execution_count": 33,
   "metadata": {
    "collapsed": false
   },
   "outputs": [
    {
     "data": {
      "text/plain": [
       "(0.4, 0.017849999999999998, 0.028)"
      ]
     },
     "execution_count": 33,
     "metadata": {},
     "output_type": "execute_result"
    }
   ],
   "source": [
    "CRUSTTOMANTLE, HARZBURGDEPTH, 0. + 7.*MANTLETOCRUST"
   ]
  },
  {
   "cell_type": "code",
   "execution_count": 34,
   "metadata": {
    "collapsed": false
   },
   "outputs": [],
   "source": [
    "##############\n",
    "#For the slab_IC, we'll also add a crustal weak zone following the dipping perturbation\n",
    "##############\n",
    "\n",
    "if checkpointLoad != True:\n",
    "    if not symmetricIC:\n",
    "        for particleID in range(gSwarm.particleCoordinates.data.shape[0]):\n",
    "            if (\n",
    "                Cc.evaluate(list(gSwarm.particleCoordinates.data[particleID])) and\n",
    "                Tri.evaluate(list(gSwarm.particleCoordinates.data[particleID])) and\n",
    "                Oc.evaluate(list(gSwarm.particleCoordinates.data[particleID])) == False and\n",
    "                coord[1] > (1. - maxDepth)\n",
    "                ):\n",
    "                materialVariable.data[particleID] = crustIndex"
   ]
  },
  {
   "cell_type": "code",
   "execution_count": 35,
   "metadata": {
    "collapsed": false
   },
   "outputs": [],
   "source": [
    "##############\n",
    "#This is how we use the material graph object to test / apply material transformations\n",
    "##############\n",
    "DG.build_condition_list(materialVariable)\n",
    "\n",
    "for i in range(4): #Need to go through a number of times\n",
    "    materialVariable.data[:] = fn.branching.conditional(DG.condition_list).evaluate(gSwarm)"
   ]
  },
  {
   "cell_type": "code",
   "execution_count": 38,
   "metadata": {
    "collapsed": false
   },
   "outputs": [
    {
     "data": {
      "text/plain": [
       "0.125"
      ]
     },
     "execution_count": 38,
     "metadata": {},
     "output_type": "execute_result"
    }
   ],
   "source": [
    "#maxDepth"
   ]
  },
  {
   "cell_type": "code",
   "execution_count": 41,
   "metadata": {
    "collapsed": false
   },
   "outputs": [
    {
     "data": {
      "text/html": [
       "<img src='data:image/png;base64,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'>"
      ],
      "text/plain": [
       "<IPython.core.display.HTML object>"
      ]
     },
     "metadata": {},
     "output_type": "display_data"
    },
    {
     "data": {
      "text/plain": [
       "'test.gldb'"
      ]
     },
     "execution_count": 41,
     "metadata": {},
     "output_type": "execute_result"
    }
   ],
   "source": [
    "fig= glucifer.Figure()\n",
    "fig.append( glucifer.objects.Points(gSwarm,materialVariable))\n",
    "fig.append( glucifer.objects.Surface(mesh,temperatureField))\n",
    "\n",
    "\n",
    "\n",
    "fig.show()\n",
    "fig.save_database('test.gldb')"
   ]
  },
  {
   "cell_type": "markdown",
   "metadata": {
    "collapsed": false
   },
   "source": [
    "## phase and compositional buoyancy"
   ]
  },
  {
   "cell_type": "code",
   "execution_count": 37,
   "metadata": {
    "collapsed": false
   },
   "outputs": [],
   "source": [
    "##############\n",
    "#Set up phase buoyancy contributions\n",
    "#the phase function approach of Yuen and Christenson is implemented in the Slippy2 phase_function class \n",
    "##############\n",
    "\n",
    "\n",
    "#olivine\n",
    "olivinePhase = phase_function.component_phases(name = 'ol', \n",
    "                        depths=[410e3,660e3], #depths of phase transitions along adiabat\n",
    "                        temps = [1600., 1900.], #temperatures of phase transitions along adiabat\n",
    "                        widths = [20e3, 20e3], #width if transition\n",
    "                        claps=[2.e6, -2.5e6],  #Clapeyron slope of trnasition\n",
    "                        densities = [180., 400.]) #density change of phase transition\n",
    "\n",
    "olivinePhase.build_nd_dict(dp.LS, dp.rho, dp.g, dp.deltaTa)\n",
    "\n",
    "\n",
    "rp = olivinePhase.nd_reduced_pressure(depthFn, \n",
    "                                   temperatureField,\n",
    "                                   olivinePhase.ndp['depths'][0],\n",
    "                                   olivinePhase.ndp['claps'][0],\n",
    "                                   olivinePhase.ndp['temps'][0])\n",
    "\n",
    "#ph_410 = olivinePhase.nd_phase(rp, test.ndp['widths'][0])\n",
    "#pf_sum = test.phase_function_sum(temperatureField, depthFn)\n",
    "\n",
    "olivine_phase_buoyancy = olivinePhase.buoyancy_sum(temperatureField, depthFn, dp.g, dp.LS, dp.k, dp.eta0)\n",
    "\n",
    "#garnet\n",
    "garnetPhase = phase_function.component_phases(name = 'grt', \n",
    "                        depths=[60e3,400e3, 720e3],\n",
    "                        temps = [1000., 1600., 1900.], \n",
    "                        widths = [20e3, 20e3, 20e3], \n",
    "                        claps=[0.e6, 1.e6, 1.e6], \n",
    "                        densities = [350., 150., 400.])\n",
    "\n",
    "garnetPhase.build_nd_dict(dp.LS, dp.rho, dp.g, dp.deltaTa)\n",
    "\n",
    "\n",
    "rp = garnetPhase.nd_reduced_pressure(depthFn, \n",
    "                                   temperatureField,\n",
    "                                   garnetPhase.ndp['depths'][0],\n",
    "                                   garnetPhase.ndp['claps'][0],\n",
    "                                   garnetPhase.ndp['temps'][0])\n",
    "\n",
    "#ph_410 = olivinePhase.nd_phase(rp, test.ndp['widths'][0])\n",
    "#pf_sum = test.phase_function_sum(temperatureField, depthFn)\n",
    "\n",
    "garnet_phase_buoyancy = garnetPhase.buoyancy_sum(temperatureField, depthFn, dp.g, dp.LS, dp.k, dp.eta0)"
   ]
  },
  {
   "cell_type": "code",
   "execution_count": null,
   "metadata": {
    "collapsed": false
   },
   "outputs": [],
   "source": []
  },
  {
   "cell_type": "code",
   "execution_count": 38,
   "metadata": {
    "collapsed": false
   },
   "outputs": [],
   "source": [
    "##############\n",
    "#Set up compositional buoyancy contributions\n",
    "##############\n",
    "\n",
    "bouyancy_factor = (dp.g*dp.LS**3)/(dp.eta0*dp.k)\n",
    "\n",
    "basalt_comp_buoyancy  = (dp.rho - 2940.)*bouyancy_factor\n",
    "harz_comp_buoyancy = (dp.rho - 3235.)*bouyancy_factor\n",
    "pyrolite_comp_buoyancy = (dp.rho - 3300.)*bouyancy_factor\n",
    "\n",
    "#print(basalt_comp_buoyancy, harz_comp_buoyancy, pyrolite_comp_buoyancy)\n",
    "\n",
    "\n",
    "#this function accounts for the decrease in expansivity, and acts to reduce the rayleigh number with depth\n",
    "alphaRatio = 1.2/3\n",
    "taFn = 1. - (depthFn)*(1. - alphaRatio) \n",
    "\n",
    "\n",
    "if not compBuoyancy:\n",
    "    pyrolitebuoyancyFn =  (ndp.RA*temperatureField*taFn)\n",
    "    harzbuoyancyFn =      (ndp.RA*temperatureField*taFn) \n",
    "    basaltbuoyancyFn =    (ndp.RA*temperatureField*taFn)\n",
    "\n",
    "else : \n",
    "    pyrolitebuoyancyFn =  (ndp.RA*temperatureField*taFn) -\\\n",
    "                          (0.6*olivine_phase_buoyancy + 0.4*garnet_phase_buoyancy) +\\\n",
    "                           pyrolite_comp_buoyancy\n",
    "    harzbuoyancyFn =      (ndp.RA*temperatureField*taFn) -\\\n",
    "                          (0.8*olivine_phase_buoyancy + 0.2*garnet_phase_buoyancy) +\\\n",
    "                           harz_comp_buoyancy\n",
    "    basaltbuoyancyFn =    (ndp.RA*temperatureField*taFn) -\\\n",
    "                          (1.*garnet_phase_buoyancy) +\\\n",
    "                           basalt_comp_buoyancy"
   ]
  },
  {
   "cell_type": "code",
   "execution_count": null,
   "metadata": {
    "collapsed": false
   },
   "outputs": [],
   "source": []
  },
  {
   "cell_type": "markdown",
   "metadata": {},
   "source": [
    "Rheology\n",
    "-----\n",
    "\n"
   ]
  },
  {
   "cell_type": "code",
   "execution_count": 39,
   "metadata": {
    "collapsed": false
   },
   "outputs": [],
   "source": [
    "##############\n",
    "#Set up any functions required by the rheology\n",
    "##############\n",
    "strainRate_2ndInvariant = fn.tensor.second_invariant( \n",
    "                            fn.tensor.symmetric( \n",
    "                            velocityField.fn_gradient ))\n",
    "\n",
    "def safe_visc(func, viscmin=ndp.eta_min, viscmax=ndp.eta_max):\n",
    "    return fn.misc.max(viscmin, fn.misc.min(viscmax, func))"
   ]
  },
  {
   "cell_type": "code",
   "execution_count": 40,
   "metadata": {
    "collapsed": false
   },
   "outputs": [],
   "source": [
    "##############\n",
    "#Get dimensional viscosity values at reference values of temp, pressure, and strain rate\n",
    "##############\n",
    "dp.rPressure  = (-1./dp.Ba)*(np.log(1.-dp.rho*dp.g*dp.Ba*dp.rDepth))\n",
    "rDf = (1./dp.Adf)*np.exp( ((dp.Edf + dp.Vdf*dp.rPressure))/((dp.R*dp.rTemp)))\n",
    "rDs = (1./dp.Ads**(1./ndp.n))*(dp.SR**((1.-ndp.n)/ndp.n))*np.exp( ((dp.Eds + dp.Vds*dp.rPressure))/((ndp.n*dp.R*dp.rTemp)))\n",
    "rPr = (1./dp.Apr**(1./ndp.np))*(dp.SR**((1.-ndp.np)/ndp.np))*np.exp( ((dp.Epr + dp.Vpr*dp.rPressure))/((ndp.np*dp.R*dp.rTemp)))\n",
    "\n",
    "dsfac = rDs/dp.eta0\n",
    "dffac = rDf/dp.eta0\n",
    "prfac = rPr/dp.eta0"
   ]
  },
  {
   "cell_type": "code",
   "execution_count": 41,
   "metadata": {
    "collapsed": false
   },
   "outputs": [
    {
     "name": "stdout",
     "output_type": "stream",
     "text": [
      "(6.4552149291704541, 9.2139579090644208, 531.95364643459959)\n"
     ]
    }
   ],
   "source": [
    "print(dsfac, dffac, prfac)"
   ]
  },
  {
   "cell_type": "code",
   "execution_count": 42,
   "metadata": {
    "collapsed": false
   },
   "outputs": [
    {
     "data": {
      "text/plain": [
       "(250000.0, 217146.33749418327)"
      ]
     },
     "execution_count": 42,
     "metadata": {},
     "output_type": "execute_result"
    }
   ],
   "source": [
    "#These guys are required because we are approximating compressibility in the pressure term for the flow law,\n",
    "#See 'non_linear_rheology' Notebook for more details\n",
    "\n",
    "corrDepthFn = fn.math.log(1. - dp.rho*dp.g*dp.Ba*dp.LS*depthFn)/np.log(1. - dp.rho*dp.g*dp.Ba*dp.LS)\n",
    "correctrDepth = np.log(1. - dp.rho*dp.g*dp.Ba*dp.LS*ndp.rDepth)/np.log(1. - dp.rho*dp.g*dp.Ba*dp.LS)\n",
    "\n",
    "ndp.rDepth*dp.LS, correctrDepth*dp.LS"
   ]
  },
  {
   "cell_type": "code",
   "execution_count": 43,
   "metadata": {
    "collapsed": false
   },
   "outputs": [],
   "source": [
    "############\n",
    "#Rheology: create UW2 functions for all viscous mechanisms\n",
    "#############\n",
    "\n",
    "omega = fn.misc.constant(1.) #this function can hold any arbitary viscosity modifications \n",
    "\n",
    "\n",
    "##Diffusion Creep\n",
    "diffusion = dffac*fn.math.exp( ((ndp.Edf + (corrDepthFn*ndp.Wdf))/((temperatureField + ndp.TS))) - \n",
    "              ((ndp.Edf + (correctrDepth*ndp.Wdf))/((ndp.rTemp + ndp.TS)))  ) \n",
    "\n",
    "linearVisc = safe_visc(diffusion)\n",
    "\n",
    "##Dislocation Creep\n",
    "nl_correction = (strainRate_2ndInvariant/ndp.SR)**((1.-ndp.n)/(ndp.n))\n",
    "dislocation = dsfac*(nl_correction)*fn.math.exp( ((ndp.Eds + (corrDepthFn*ndp.Wds))/(ndp.n*(temperatureField + ndp.TS))) -\n",
    "                                     ((ndp.Eds + (correctrDepth*ndp.Wds))/(ndp.n*(ndp.rTemp + ndp.TS))))\n",
    "\n",
    "\n",
    "\n",
    "##Peirls Creep\n",
    "nl_correction = (strainRate_2ndInvariant/ndp.SR)**((1.-ndp.np)/(ndp.np))\n",
    "peierls = prfac*(nl_correction)*fn.math.exp( ((ndp.Eps + (corrDepthFn*ndp.Wps))/(ndp.n*(temperatureField + ndp.TS))) -\n",
    "                                     ((ndp.Eps + (correctrDepth*ndp.Wps))/(ndp.np*(ndp.rTemp + ndp.TS))))\n",
    "\n",
    "\n",
    "##Define the Plasticity\n",
    "ys =  ndp.cohesion + (depthFn*ndp.fcd)\n",
    "ysMax = 10e4*1e6*sf.stress\n",
    "ysf = fn.misc.min(ys, ysMax)\n",
    "yielding = safe_visc(ysf/(strainRate_2ndInvariant))\n",
    "\n",
    "\n",
    "\n",
    "##Crust rheology\n",
    "crustys =  ndp.cohesion + (depthFn*ndp.fcd*0.1)\n",
    "crustyielding = crustys/(strainRate_2ndInvariant) #extra factor to account for underworld second invariant form\n",
    "\n",
    "\n",
    "#increase in lower mantle viscosity\n",
    "lowMantleViscFac = 10.\n"
   ]
  },
  {
   "cell_type": "code",
   "execution_count": 75,
   "metadata": {
    "collapsed": true
   },
   "outputs": [],
   "source": [
    "#viscCombine = 'mixed'"
   ]
  },
  {
   "cell_type": "code",
   "execution_count": 76,
   "metadata": {
    "collapsed": false
   },
   "outputs": [],
   "source": [
    "############\n",
    "#Rheology: combine viscous mechanisms in various ways \n",
    "#harmonic: harmonic average of all mechanims\n",
    "#min: minimum effective viscosity of the mechanims\n",
    "#mixed: takes the minimum of the harmonic and the plastic effective viscosity\n",
    "#############\n",
    "\n",
    "#Map viscMechs list (defined in setup), to the actual functions, requires that same names are used.\n",
    "viscdict = {}\n",
    "for i in viscMechs:\n",
    "    viscdict[i] = locals()[i]\n",
    "\n",
    "#Condition for weak crust rheology to be active\n",
    "interfaceCond = operator.and_((depthFn < CRUSTVISCUTOFF), (depthFn > MANTLETOCRUST))    \n",
    "    \n",
    "#Harmonic average of all mechanisms    \n",
    "if viscCombine == 'harmonic':\n",
    "    denom = fn.misc.constant(0.)\n",
    "    for mech in viscdict.values():\n",
    "        denom += 1./mech\n",
    "    mantleviscosityFn = safe_visc(1./denom)\n",
    "    harmonic_test = mantleviscosityFn\n",
    "    #Only diffusuion creep for lower mantle\n",
    "    finalviscosityFn  = fn.branching.conditional([(depthFn < LOWMANTLEDEPTH, mantleviscosityFn),\n",
    "                                  (True, safe_visc(diffusion*lowMantleViscFac))])\n",
    "    \n",
    "    #Add the weaker crust mechanism, plus any cutoffs\n",
    "    crust_denom = denom + (1./crustyielding)\n",
    "    crustviscosityFn1 = safe_visc(1./crust_denom, viscmin=ndp.eta_min, viscmax=ndp.eta_max)\n",
    "    crustviscosityFn2 = safe_visc(1./crust_denom, viscmin=ndp.eta_min, viscmax=ndp.eta_max_crust)\n",
    "    #Crust viscosity only active above between CRUSTVISCUTOFF and MANTLETOCRUST\n",
    "    finalcrustviscosityFn  = fn.branching.conditional([(depthFn < MANTLETOCRUST, crustviscosityFn2),\n",
    "                                                     (interfaceCond, crustviscosityFn2), #\n",
    "                                                     (True, finalviscosityFn)])\n",
    "\n",
    "    \n",
    "    \n",
    "if viscCombine == 'min':\n",
    "    mantleviscosityFn = fn.misc.constant(ndp.eta_max)\n",
    "    for mech in viscdict.values():\n",
    "        mantleviscosityFn = fn.misc.min(mech, mantleviscosityFn )\n",
    "    mantleviscosityFn = safe_visc(mantleviscosityFn)\n",
    "    min_test = mantleviscosityFn\n",
    "    #Only diffusion creep for lower mantle\n",
    "    finalviscosityFn  = fn.branching.conditional([(depthFn < LOWMANTLEDEPTH, mantleviscosityFn),\n",
    "                                  (True, safe_visc(diffusion*lowMantleViscFac))])\n",
    "    #Add the weaker crust mechanism, plus any cutoffs\n",
    "    crustviscosityFn1 = safe_visc(fn.misc.min(finalviscosityFn, crustyielding), viscmin=ndp.eta_min, viscmax=ndp.eta_max_crust)\n",
    "    crustviscosityFn2 = safe_visc(fn.misc.min(finalviscosityFn, crustyielding), viscmin=ndp.eta_min, viscmax=ndp.eta_max_crust)\n",
    "    #Crust viscosity only active above CRUSTVISCUTOFF\n",
    "    #Crust viscosity only active above between CRUSTVISCUTOFF and MANTLETOCRUST\n",
    "    finalcrustviscosityFn  = fn.branching.conditional([(depthFn < MANTLETOCRUST, crustviscosityFn1),\n",
    "                                                     (interfaceCond, crustviscosityFn2), #\n",
    "                                                     (True, finalviscosityFn)])\n",
    "\n",
    "if viscCombine == 'mixed':\n",
    "    denom = fn.misc.constant(0.)\n",
    "    for mech in viscdict.values():\n",
    "        denom += 1./mech\n",
    "    mantleviscosityFn = safe_visc(fn.misc.min(yielding, (1./denom))) #min of harmonic average and yielding\n",
    "    mixed_test = mantleviscosityFn\n",
    "    #Only diffusuion creep for lower mantle\n",
    "    finalviscosityFn  = fn.branching.conditional([(depthFn < LOWMANTLEDEPTH, mantleviscosityFn),\n",
    "                                  (True, safe_visc(diffusion*lowMantleViscFac))])\n",
    "    \n",
    "    #Add the weaker crust mechanism, plus any cutoffs\n",
    "    crust_denom = denom + (1./crustyielding)\n",
    "    crustviscosityFn1 = safe_visc(fn.misc.min(crustyielding,1./crust_denom), viscmin=ndp.eta_min, viscmax=ndp.eta_max_crust)\n",
    "    crustviscosityFn2 = safe_visc(fn.misc.min(crustyielding,1./crust_denom), viscmin=ndp.eta_min, viscmax=ndp.eta_max_crust)\n",
    "    #Crust viscosity only active above between CRUSTVISCUTOFF and MANTLETOCRUST\n",
    "    finalcrustviscosityFn  = fn.branching.conditional([(depthFn < MANTLETOCRUST, crustviscosityFn1),\n",
    "                                                     (interfaceCond, crustviscosityFn2), #\n",
    "                                                     (True, finalviscosityFn)])\n",
    "    \n",
    "    \n",
    "    \n",
    "#viscdict.keys(), viscdict.values()\n",
    "\n",
    "#Combine the viscous creep and plasticity\n",
    "#mantleviscosityFn0 = safe_visc(1./(((1./diffusion) + (1./dislocation) + (1./peierls)   + (1./yielding))))\n",
    "\n",
    "#lowMantleDepth = 660e3\n",
    "\n",
    "#crustviscosityFn = safe_visc(1./(((1./diffusion) + (1./dislocation) + (1./peierls) + (1./crustyielding))), viscmin=ndp.eta_min, viscmax=0.6)\n",
    "\n"
   ]
  },
  {
   "cell_type": "code",
   "execution_count": 48,
   "metadata": {
    "collapsed": false
   },
   "outputs": [],
   "source": [
    "fig= glucifer.Figure()\n",
    "#fig.append( glucifer.objects.Points(gSwarm, densityMapFn))\n",
    "fig.append( glucifer.objects.Surface(mesh, mantleviscosityFn, logScale=True))\n",
    "#fig.append( glucifer.objects.Surface(mesh, corrDepthFn - depthFn))\n",
    "\n",
    "#fig.show()"
   ]
  },
  {
   "cell_type": "code",
   "execution_count": 49,
   "metadata": {
    "collapsed": false
   },
   "outputs": [],
   "source": [
    "############\n",
    "#Build a weak zone\n",
    "#############\n",
    "\n",
    "\n",
    "def disGen(centre):\n",
    "    coord = fn.input()\n",
    "    offsetFn = coord - centre\n",
    "    return fn.math.sqrt(fn.math.dot( offsetFn, offsetFn ))\n",
    "\n",
    "depth = 200.e3 #m\n",
    "angle = 20. #degrees\n",
    "num_circles = 50\n",
    "half_width = 5e3 #m\n",
    "\n",
    "\n",
    "xpos = depth/math.tan((angle*math.pi/180.))\n",
    "start = (0.075, 1.)\n",
    "end = (start[0] +xpos/dp.LS , start[1] - depth/dp.LS)\n",
    "xar = np.linspace(start[0], end[0], num_circles)\n",
    "yar = np.linspace(start[1], end[1], num_circles)\n",
    "fnBuilder = fn.misc.constant(1000.)\n",
    "for i in range(num_circles):\n",
    "    circ_dist = disGen((xar[i], yar[i]))\n",
    "    fnBuilder = fn.misc.min(circ_dist, fnBuilder)\n",
    "    \n",
    "sig = half_width/dp.LS\n",
    "gammaFn =  fn.math.exp(-fn.math.pow(fnBuilder, 2.) / (2. * fn.math.pow(sig, 2.)))"
   ]
  },
  {
   "cell_type": "code",
   "execution_count": 50,
   "metadata": {
    "collapsed": false
   },
   "outputs": [],
   "source": [
    "testFn = disGen((0., 1.))"
   ]
  },
  {
   "cell_type": "code",
   "execution_count": 51,
   "metadata": {
    "collapsed": true
   },
   "outputs": [],
   "source": [
    "weakVisc = 1.\n",
    "weakzoneFn = fn.misc.min((weakVisc/gammaFn*1.),ndp.eta_max)\n",
    "combmantleviscosityFn = fn.misc.max(ndp.eta_min, fn.misc.min(mantleviscosityFn, weakzoneFn))\n",
    "\n"
   ]
  },
  {
   "cell_type": "code",
   "execution_count": null,
   "metadata": {
    "collapsed": true
   },
   "outputs": [],
   "source": [
    "\n",
    "    "
   ]
  },
  {
   "cell_type": "code",
   "execution_count": 52,
   "metadata": {
    "collapsed": false
   },
   "outputs": [],
   "source": [
    "#velocityField.data.max()"
   ]
  },
  {
   "cell_type": "markdown",
   "metadata": {},
   "source": [
    "import matplotlib.pylab as pyplt\n",
    "%matplotlib inline\n",
    "\n",
    "\n",
    "\n",
    "##################\n",
    "#Output functions to numpy vertical averages, maxes, mins\n",
    "##################\n",
    "\n",
    "viscmapFnmesh = uw.mesh.MeshVariable(mesh,nodeDofCount=1)\n",
    "out = uw.utils.MeshVariable_Projection( viscmapFnmesh, viscosityMapFn)\n",
    "out.solve()\n",
    "\n",
    "\n",
    "#avDf = ndfp.evaluate(mesh).reshape(mesh.elementRes[1] + 1, mesh.elementRes[0] + 1).mean(axis=1)\n",
    "avDs = ndsp.evaluate(mesh).reshape(mesh.elementRes[1] + 1, mesh.elementRes[0] + 1).mean(axis=1)\n",
    "umantle = mantleviscosityFn.evaluate(mesh).reshape(mesh.elementRes[1] + 1, mesh.elementRes[0] + 1).mean(axis=1)\n",
    "lmantle = lowermantleviscosityFn.evaluate(mesh).reshape(mesh.elementRes[1] + 1, mesh.elementRes[0] + 1).mean(axis=1)\n",
    "eff = viscmapFnmesh.evaluate(mesh).reshape(mesh.elementRes[1] + 1, mesh.elementRes[0] + 1).mean(axis=1)\n",
    "\n",
    "effMin = viscmapFnmesh.evaluate(mesh).reshape(mesh.elementRes[1] + 1, mesh.elementRes[0] + 1).min(axis=1)\n",
    "effMax = viscmapFnmesh.evaluate(mesh).reshape(mesh.elementRes[1] + 1, mesh.elementRes[0] + 1).max(axis=1)\n",
    "\n",
    "###################\n",
    "#Plot\n",
    "###################\n",
    "import matplotlib.pylab as pyplt\n",
    "%matplotlib inline\n",
    "\n",
    "fig, ax = pyplt.subplots()\n",
    "#ax .plot(avDf, label = 'diff')\n",
    "#ax .plot(avDs, label = 'dis')\n",
    "ax .plot(eff, label = 'eff')\n",
    "ax .plot(effMax, label = 'effMax')\n",
    "ax .plot(effMin, label = 'effMin')\n",
    "#ax .plot(umantle, label = 'uman')\n",
    "#ax .plot(lmantle, label = 'lman')\n",
    "ax.set_yscale(\"log\", nonposy='clip')\n",
    "ax.legend(loc = 3)"
   ]
  },
  {
   "cell_type": "code",
   "execution_count": 53,
   "metadata": {
    "collapsed": false,
    "scrolled": true
   },
   "outputs": [],
   "source": [
    "#fig= glucifer.Figure()\n",
    "#fig.append( glucifer.objects.Points(gSwarm,materialVariable))\n",
    "#fig.append( glucifer.objects.Points(gSwarm,viscosityMapFn, logScale=True))\n",
    "#fig.append( glucifer.objects.Surface(mesh, ndfp, logScale=True))\n",
    "\n",
    "#fig.append( glucifer.objects.Surface(mesh,mantleviscosityFn, logScale=True))\n",
    "#fig.show()\n",
    "#fig.save_database('test.gldb')"
   ]
  },
  {
   "cell_type": "code",
   "execution_count": 54,
   "metadata": {
    "collapsed": false
   },
   "outputs": [],
   "source": [
    "#ndp.SR"
   ]
  },
  {
   "cell_type": "code",
   "execution_count": null,
   "metadata": {
    "collapsed": false
   },
   "outputs": [],
   "source": []
  },
  {
   "cell_type": "markdown",
   "metadata": {},
   "source": [
    "Stokes system setup\n",
    "-----\n"
   ]
  },
  {
   "cell_type": "code",
   "execution_count": 55,
   "metadata": {
    "collapsed": false
   },
   "outputs": [],
   "source": [
    "densityMapFn = fn.branching.map( fn_key = materialVariable,\n",
    "                         mapping = {airIndex:ndp.StRA,\n",
    "                                    crustIndex:basaltbuoyancyFn, \n",
    "                                    mantleIndex:pyrolitebuoyancyFn,\n",
    "                                    harzIndex:harzbuoyancyFn} )"
   ]
  },
  {
   "cell_type": "code",
   "execution_count": 56,
   "metadata": {
    "collapsed": true
   },
   "outputs": [],
   "source": [
    "\n",
    "# Define our vertical unit vector using a python tuple (this will be automatically converted to a function).\n",
    "gravity = ( 0.0, 1.0 )\n",
    "\n",
    "# Now create a buoyancy force vector using the density and the vertical unit vector. \n",
    "buoyancyFn = densityMapFn * gravity"
   ]
  },
  {
   "cell_type": "code",
   "execution_count": 57,
   "metadata": {
    "collapsed": true
   },
   "outputs": [],
   "source": [
    "stokesPIC = uw.systems.Stokes(velocityField=velocityField, \n",
    "                              pressureField=pressureField,\n",
    "                              conditions=[freeslipBC,],\n",
    "                              fn_viscosity=linearVisc, \n",
    "                              fn_bodyforce=buoyancyFn )"
   ]
  },
  {
   "cell_type": "code",
   "execution_count": 58,
   "metadata": {
    "collapsed": true
   },
   "outputs": [],
   "source": [
    "solver = uw.systems.Solver(stokesPIC)\n",
    "if not checkpointLoad:\n",
    "    solver.solve() #A solve on the linear visocisty is unhelpful unless we're starting from scratch"
   ]
  },
  {
   "cell_type": "code",
   "execution_count": 59,
   "metadata": {
    "collapsed": false
   },
   "outputs": [],
   "source": [
    "fig= glucifer.Figure()\n",
    "#fig.append( glucifer.objects.Points(gSwarm,materialVariable))\n",
    "#fig.append( glucifer.objects.Surface(mesh, finalviscosityFn, logScale=True))\n",
    "\n",
    "#fig.append( glucifer.objects.Surface(mesh, strainRate_2ndInvariant/ndp.SR, logScale=True))\n",
    "#fig.show()\n",
    "#fig.save_database('test.gldb')"
   ]
  },
  {
   "cell_type": "code",
   "execution_count": 78,
   "metadata": {
    "collapsed": false
   },
   "outputs": [
    {
     "name": "stdout",
     "output_type": "stream",
     "text": [
      "2\n"
     ]
    }
   ],
   "source": [
    "if WeakZone:\n",
    "    print(1)\n",
    "    viscosityMapFn = fn.branching.map( fn_key = materialVariable,\n",
    "                         mapping = {crustIndex:combmantleviscosityFn,\n",
    "                                    mantleIndex:combmantleviscosityFn,\n",
    "                                    harzIndex:combmantleviscosityFn} )\n",
    "else: #Use weak crust\n",
    "    print(2)\n",
    "    viscosityMapFn = fn.branching.map( fn_key = materialVariable,\n",
    "                         mapping = {crustIndex:finalcrustviscosityFn,\n",
    "                                    mantleIndex:finalviscosityFn,\n",
    "                                    harzIndex:finalviscosityFn} )\n",
    "\n"
   ]
  },
  {
   "cell_type": "code",
   "execution_count": null,
   "metadata": {
    "collapsed": false
   },
   "outputs": [],
   "source": []
  },
  {
   "cell_type": "code",
   "execution_count": null,
   "metadata": {
    "collapsed": false
   },
   "outputs": [],
   "source": []
  },
  {
   "cell_type": "code",
   "execution_count": null,
   "metadata": {
    "collapsed": true
   },
   "outputs": [],
   "source": []
  },
  {
   "cell_type": "code",
   "execution_count": 79,
   "metadata": {
    "collapsed": true
   },
   "outputs": [],
   "source": [
    "#Add the non-linear viscosity to the Stokes system\n",
    "stokesPIC.fn_viscosity = viscosityMapFn"
   ]
  },
  {
   "cell_type": "code",
   "execution_count": 80,
   "metadata": {
    "collapsed": false
   },
   "outputs": [
    {
     "name": "stdout",
     "output_type": "stream",
     "text": [
      "\u001b[1;35m\n",
      " \n",
      "Pressure iterations:   5\n",
      "Velocity iterations:   1 (presolve)      \n",
      "Velocity iterations:  -1 (pressure solve)\n",
      "Velocity iterations:   1 (backsolve)     \n",
      "Velocity iterations:   1 (total solve)   \n",
      " \n",
      "SCR RHS  solve time: 4.5413e-01\n",
      "Pressure solve time: 5.2423e-02\n",
      "Velocity solve time: 4.5069e-01 (backsolve)\n",
      "Total solve time   : 1.0158e+00\n",
      " \n",
      "Velocity solution min/max: 0.0000e+00/0.0000e+00\n",
      "Pressure solution min/max: 0.0000e+00/0.0000e+00\n",
      " \n",
      "\u001b[00m\n"
     ]
    }
   ],
   "source": [
    "solver.set_inner_method(\"mumps\")\n",
    "solver.options.scr.ksp_type=\"cg\"\n",
    "solver.set_penalty(1.0e7)\n",
    "solver.options.scr.ksp_rtol = 1.0e-4\n",
    "solver.solve(nonLinearIterate=True)\n",
    "solver.print_stats()"
   ]
  },
  {
   "cell_type": "code",
   "execution_count": null,
   "metadata": {
    "collapsed": true
   },
   "outputs": [],
   "source": []
  },
  {
   "cell_type": "code",
   "execution_count": 63,
   "metadata": {
    "collapsed": false
   },
   "outputs": [],
   "source": [
    "#Check which particles are yielding\n",
    "#yieldingCheck.data[:] = 0\n",
    "\n",
    "#yieldconditions = [ ( mantleviscosityFn < Visc , 1), \n",
    "#               ( True                                           , 0) ]\n",
    "\n",
    "# use the branching conditional function to set each particle's index\n",
    "#yieldingCheck.data[:] = fn.branching.conditional( yieldconditions ).evaluate(gSwarm)"
   ]
  },
  {
   "cell_type": "code",
   "execution_count": null,
   "metadata": {
    "collapsed": false,
    "scrolled": true
   },
   "outputs": [],
   "source": [
    "#fig= glucifer.Figure()\n",
    "#fig.append( glucifer.objects.Points(gSwarm,yieldingCheck))\n",
    "\n",
    "#fig.append( glucifer.objects.Surface(mesh,ndflm, logScale=True))\n",
    "#fig.show()"
   ]
  },
  {
   "cell_type": "markdown",
   "metadata": {},
   "source": [
    "Advection-diffusion System setup\n",
    "-----"
   ]
  },
  {
   "cell_type": "code",
   "execution_count": null,
   "metadata": {
    "collapsed": false
   },
   "outputs": [],
   "source": [
    "advDiff = uw.systems.AdvectionDiffusion( phiField       = temperatureField, \n",
    "                                         phiDotField    = temperatureDotField, \n",
    "                                         velocityField  = velocityField,\n",
    "                                         fn_sourceTerm    = 0.0,\n",
    "                                         fn_diffusivity = 1.0, \n",
    "                                         #conditions     = [neumannTempBC, dirichTempBC] )\n",
    "                                         conditions     = [ dirichTempBC] )\n",
    "\n",
    "passiveadvector = uw.systems.SwarmAdvector( swarm         = gSwarm, \n",
    "                                     velocityField = velocityField, \n",
    "                                     order         = 1)"
   ]
  },
  {
   "cell_type": "code",
   "execution_count": null,
   "metadata": {
    "collapsed": false
   },
   "outputs": [],
   "source": [
    "#I was playing around with a tailored diffusivity to target the slab\n",
    "\n",
    "#inCircleFnGenerator#Now build the perturbation part\n",
    "#def htan(centre, radius, widthPh, farVal = 0.01, fac = 10.):\n",
    "#    coord = fn.input()\n",
    "#    offsetFn = coord - centre\n",
    "#    dist = fn.math.sqrt(fn.math.dot( offsetFn, offsetFn ))\n",
    "    \n",
    "    \n",
    "#    return (((fn.math.tanh(((radius - dist))/widthPh) + 1.) /2.))*fac + farVal\n",
    "\n",
    "#tfun = htan((0.1, 0.9), 0.1, 0.1, 0.1)"
   ]
  },
  {
   "cell_type": "code",
   "execution_count": null,
   "metadata": {
    "collapsed": true
   },
   "outputs": [],
   "source": [
    "for index in mesh.specialSets[\"MinJ_VertexSet\"]:\n",
    "    temperatureField.data[index] = ndp.TBP\n",
    "for index in mesh.specialSets[\"MaxJ_VertexSet\"]:\n",
    "    temperatureField.data[index] = ndp.TSP"
   ]
  },
  {
   "cell_type": "code",
   "execution_count": null,
   "metadata": {
    "collapsed": false
   },
   "outputs": [],
   "source": [
    "velocityField.data.max()"
   ]
  },
  {
   "cell_type": "code",
   "execution_count": null,
   "metadata": {
    "collapsed": false
   },
   "outputs": [],
   "source": [
    "############\n",
    "#Slightly Diffuse the initial perturbation\n",
    "#############\n",
    "\n",
    "timetoDifffuse = 0.#Million years\n",
    "incrementtoDiffuse = 0.2 #Million years\n",
    "\n",
    "timetoDifffuse = (timetoDifffuse*1e6*(spery)/sf.SR).magnitude\n",
    "incrementtoDiffuse = (incrementtoDiffuse*1e6*(spery)/sf.SR).magnitude\n",
    "\n",
    "totAdt = 0.\n",
    "it = 0\n",
    "while totAdt < timetoDifffuse:\n",
    "    dtad = advDiff.get_max_dt()\n",
    "    print(\"step\") + str(it) \n",
    "    advDiff.integrate(incrementtoDiffuse)\n",
    "    totAdt += incrementtoDiffuse\n",
    "    it += 1\n",
    "    \n",
    "#Reset Boundary conds.   \n",
    "for index in mesh.specialSets[\"MinJ_VertexSet\"]:\n",
    "    temperatureField.data[index] = ndp.TBP\n",
    "for index in mesh.specialSets[\"MaxJ_VertexSet\"]:\n",
    "    temperatureField.data[index] = ndp.TSP\n",
    "    \n",
    "comm.Barrier()"
   ]
  },
  {
   "cell_type": "code",
   "execution_count": null,
   "metadata": {
    "collapsed": true
   },
   "outputs": [],
   "source": [
    "population_control = uw.swarm.PopulationControl(gSwarm,deleteThreshold=0.2,splitThreshold=1.,maxDeletions=3,maxSplits=0, aggressive=True, particlesPerCell=ppc)"
   ]
  },
  {
   "cell_type": "markdown",
   "metadata": {},
   "source": [
    "Analysis functions / routines\n",
    "-----"
   ]
  },
  {
   "cell_type": "code",
   "execution_count": null,
   "metadata": {
    "collapsed": true
   },
   "outputs": [],
   "source": [
    "#These are functions we can use to evuate integrals over restricted parts of the domain\n",
    "# For instance, we can exclude the thermal lithosphere from integrals\n",
    "\n",
    "def temprestrictionFn(lithval = 0.9):\n",
    "\n",
    "    tempMM = fn.view.min_max(temperatureField)\n",
    "    tempMM.evaluate(mesh)\n",
    "    TMAX = tempMM.max_global()\n",
    "    mantleconditions = [ (                                  temperatureField > lithval*TMAX, 1.),\n",
    "                   (                                                   True , 0.) ]\n",
    "\n",
    "\n",
    "    return fn.branching.conditional(mantleconditions)\n",
    "\n",
    "mantlerestrictFn = temprestrictionFn(lithval = 0.85)\n",
    "\n",
    "\n",
    "\n",
    "def platenessFn(val = 0.1):\n",
    "    normgradV = fn.math.abs(velocityField.fn_gradient[0]/fn.math.sqrt(velocityField[0]*velocityField[0])) #[du*/dx]/sqrt(u*u)\n",
    "\n",
    "\n",
    "\n",
    "    srconditions = [ (                                  normgradV < val, 1.),\n",
    "                   (                                                   True , 0.) ]\n",
    "\n",
    "\n",
    "    return fn.branching.conditional(srconditions)\n",
    "\n",
    "srrestrictFn = platenessFn(val = 0.1)"
   ]
  },
  {
   "cell_type": "code",
   "execution_count": null,
   "metadata": {
    "collapsed": true
   },
   "outputs": [],
   "source": []
  },
  {
   "cell_type": "code",
   "execution_count": null,
   "metadata": {
    "collapsed": false
   },
   "outputs": [],
   "source": [
    "#Setup volume integrals \n",
    "\n",
    "tempint = uw.utils.Integral( temperatureField, mesh )\n",
    "areaint = uw.utils.Integral( 1.,               mesh )\n",
    "\n",
    "v2int   = uw.utils.Integral( fn.math.dot(velocityField,velocityField), mesh )\n",
    "\n",
    "dwint   = uw.utils.Integral( temperatureField*velocityField[1], mesh )\n",
    "\n",
    "sinner = fn.math.dot( strainRate_2ndInvariant, strainRate_2ndInvariant )\n",
    "vdint = uw.utils.Integral( (2.*viscosityMapFn*sinner), mesh ) #Is it two or four here?\n",
    "\n",
    "mantleArea   = uw.utils.Integral( mantlerestrictFn, mesh )\n",
    "mantleTemp = uw.utils.Integral( temperatureField*mantlerestrictFn, mesh )\n",
    "mantleVisc = uw.utils.Integral( mantleviscosityFn*mantlerestrictFn, mesh )\n",
    "mantleVd = uw.utils.Integral( (2.*viscosityMapFn*sinner*mantlerestrictFn), mesh ) #these now work on MappingFunctions"
   ]
  },
  {
   "cell_type": "code",
   "execution_count": null,
   "metadata": {
    "collapsed": true
   },
   "outputs": [],
   "source": [
    "#Setup surface integrals\n",
    "\n",
    "rmsSurfInt = uw.utils.Integral( fn=velocityField[0]*velocityField[0], mesh=mesh, integrationType='Surface', \n",
    "                          surfaceIndexSet=mesh.specialSets[\"MaxJ_VertexSet\"])\n",
    "nuTop      = uw.utils.Integral( fn=temperatureField.fn_gradient[1],    mesh=mesh, integrationType='Surface', \n",
    "                          surfaceIndexSet=mesh.specialSets[\"MaxJ_VertexSet\"])\n",
    "nuBottom   = uw.utils.Integral( fn=temperatureField.fn_gradient[1],    mesh=mesh, integrationType='Surface', \n",
    "                          surfaceIndexSet=mesh.specialSets[\"MinJ_VertexSet\"])\n",
    "\n",
    "plateint  = uw.utils.Integral( fn=srrestrictFn, mesh=mesh, integrationType='Surface', #Integrate the plateness function\n",
    "                          surfaceIndexSet=mesh.specialSets[\"MaxJ_VertexSet\"]) \n",
    "\n",
    "surfint  = uw.utils.Integral( fn=1., mesh=mesh, integrationType='Surface',   #Surface length function (i.e. domain width)\n",
    "                          surfaceIndexSet=mesh.specialSets[\"MaxJ_VertexSet\"])"
   ]
  },
  {
   "cell_type": "code",
   "execution_count": null,
   "metadata": {
    "collapsed": true
   },
   "outputs": [],
   "source": [
    "#Define functions for the evaluation of integrals\n",
    "\n",
    "def basic_int(ourIntegral):           #This one just hands back the evaluated integral\n",
    "    return ourIntegral.evaluate()[0]\n",
    "\n",
    "def avg_temp():\n",
    "    return tempint.evaluate()[0]/areaint.evaluate()[0]\n",
    "\n",
    "def nusseltTB(temp_field, mesh):\n",
    "    return -nuTop.evaluate()[0], -nuBottom.evaluate()[0]\n",
    "\n",
    "def rms():\n",
    "    return math.sqrt(v2int.evaluate()[0]/areaint.evaluate()[0])\n",
    "\n",
    "def rms_surf():\n",
    "    return math.sqrt(rmsSurfInt.evaluate()[0])\n",
    "\n",
    "def max_vx_surf(velfield, mesh):\n",
    "    vuvelxfn = fn.view.min_max(velfield[0])\n",
    "    vuvelxfn.evaluate(mesh.specialSets[\"MaxJ_VertexSet\"])\n",
    "    return vuvelxfn.max_global()\n",
    "\n",
    "\n",
    "def visc_extr(viscfn):\n",
    "    vuviscfn = fn.view.min_max(viscfn)\n",
    "    vuviscfn.evaluate(mesh)\n",
    "    return vuviscfn.max_global(), vuviscfn.min_global()"
   ]
  },
  {
   "cell_type": "code",
   "execution_count": null,
   "metadata": {
    "collapsed": false
   },
   "outputs": [],
   "source": [
    "#v2sum_integral  = uw.utils.Integral( mesh=mesh, fn=fn.math.dot( velocityField, velocityField ) )\n",
    "#volume_integral = uw.utils.Integral( mesh=mesh, fn=1. )\n",
    "#Vrms = math.sqrt( v2sum_integral.evaluate()[0] )/volume_integral.evaluate()[0]\n",
    "\n",
    "\n",
    "\n",
    "#if(uw.rank()==0):\n",
    "#    print('Initial Vrms = {0:.3f}'.format(Vrms))\n",
    "\n",
    "# Check the Metrics\n",
    "\n",
    "#Avg_temp = avg_temp()\n",
    "Rms = rms()\n",
    "Rms_surf = rms_surf()\n",
    "Max_vx_surf = max_vx_surf(velocityField, mesh)\n",
    "Rms, Rms_surf, Max_vx_surf \n",
    "#Gravwork = basic_int(dwint)\n",
    "#Viscdis = basic_int(vdint)\n",
    "#nu1, nu0 = nusseltTB(temperatureField, mesh) # return top then bottom\n",
    "#etamax, etamin = visc_extr(mantleviscosityFn)\n",
    "\n",
    "#Area_mantle = basic_int(mantleArea)\n",
    "#Viscmantle = basic_int(mantleVisc)\n",
    "#Tempmantle = basic_int(mantleTemp)\n",
    "#Viscdismantle = basic_int(mantleVd)"
   ]
  },
  {
   "cell_type": "markdown",
   "metadata": {},
   "source": [
    "Viz.\n",
    "-----"
   ]
  },
  {
   "cell_type": "code",
   "execution_count": null,
   "metadata": {
    "collapsed": false
   },
   "outputs": [],
   "source": [
    "viscVariable = gSwarm.add_variable( dataType=\"float\", count=1 )\n",
    "viscVariable.data[:] = viscosityMapFn.evaluate(gSwarm)"
   ]
  },
  {
   "cell_type": "code",
   "execution_count": null,
   "metadata": {
    "collapsed": false
   },
   "outputs": [],
   "source": [
    "#Pack some stuff into a database as well\n",
    "figDb = glucifer.Figure()\n",
    "#figDb.append( glucifer.objects.Mesh(mesh))\n",
    "figDb.append( glucifer.objects.VectorArrows(mesh,velocityField, scaling=0.00005))\n",
    "#figDb.append( glucifer.objects.Points(gSwarm,tracerVariable, colours= 'white black'))\n",
    "figDb.append( glucifer.objects.Points(gSwarm,materialVariable))\n",
    "\n",
    "figDb.append( glucifer.objects.Points(gSwarm,viscosityMapFn, logScale=True, valueRange =[1e-3,1e5]))\n",
    "figDb.append( glucifer.objects.Surface(mesh, strainRate_2ndInvariant, logScale=True))\n",
    "figDb.append( glucifer.objects.Surface(mesh, temperatureField))\n",
    "#figDb.show()"
   ]
  },
  {
   "cell_type": "code",
   "execution_count": null,
   "metadata": {
    "collapsed": false
   },
   "outputs": [],
   "source": [
    "##############\n",
    "#Create a numpy array at the surface to get surface information on (using parallel-friendly evaluate_global)\n",
    "##############\n",
    "\n",
    "surface_xs = np.linspace(mesh.minCoord[0], mesh.maxCoord[0], mesh.elementRes[0] + 1)\n",
    "surface_nodes = np.array(zip(surface_xs, np.ones(len(surface_xs)*mesh.maxCoord[1]))) #For evaluation surface velocity\n",
    "normgradV = velocityField.fn_gradient[0]/fn.math.sqrt(velocityField[0]*velocityField[0])\n",
    "\n",
    "tempMM = fn.view.min_max(temperatureField)\n",
    "dummy = tempMM.evaluate(mesh)\n",
    "\n"
   ]
  },
  {
   "cell_type": "markdown",
   "metadata": {},
   "source": [
    "**Miscellania**"
   ]
  },
  {
   "cell_type": "code",
   "execution_count": null,
   "metadata": {
    "collapsed": false
   },
   "outputs": [],
   "source": [
    "##############\n",
    "#These functions handle checkpointing\n",
    "##############\n",
    "\n",
    "\n",
    "def checkpoint1(step, checkpointPath,filename, filewrites):\n",
    "    path = checkpointPath + str(step) \n",
    "    os.mkdir(path)\n",
    "    ##Write and save the file, if not already a writing step\n",
    "    if not step % filewrites == 0:\n",
    "        filename.write((17*'%-15s ' + '\\n') % (realtime, Viscdis, float(nu0), float(nu1), Avg_temp,\n",
    "                                              Tempmantle,TMAX,\n",
    "                                              Rms,Rms_surf,Max_vx_surf,Gravwork, etamax, etamin, \n",
    "                                              Area_mantle, Viscmantle,  Viscdismantle,Plateness ))\n",
    "    filename.close()\n",
    "    shutil.copyfile(os.path.join(outputPath, outputFile), os.path.join(path, outputFile))\n",
    "\n",
    "\n",
    "def checkpoint2(step, checkpointPath, swarm, filename, varlist = [materialVariable], varnames = ['materialVariable']):\n",
    "    path = checkpointPath + str(step) \n",
    "    velfile = \"velocityField\" + \".hdf5\"\n",
    "    tempfile = \"temperatureField\" + \".hdf5\"\n",
    "    pressfile = \"pressureField\" + \".hdf5\"\n",
    "    velocityField.save(os.path.join(path, velfile))\n",
    "    temperatureField.save(os.path.join(path, tempfile))\n",
    "    pressureField.save(os.path.join(path, pressfile))\n",
    "    swarm.save(os.path.join(path, \"swarm.h5\") ) \n",
    "    for ix in range(len(varlist)):\n",
    "        varb = varlist[ix]\n",
    "        varb.save(os.path.join(path,varnames[ix] + \".h5\"))\n",
    "    "
   ]
  },
  {
   "cell_type": "code",
   "execution_count": null,
   "metadata": {
    "collapsed": true
   },
   "outputs": [],
   "source": [
    "##############\n",
    "#This will allow us to evaluate viscous shear heating, and add the result directly to the temperature field\n",
    "##############\n",
    "\n",
    "viscDisMapFn = 2.*viscosityMapFn*sinner\n",
    "viscDisFnmesh = uw.mesh.MeshVariable(mesh,nodeDofCount=1)\n",
    "viscDisProj = uw.utils.MeshVariable_Projection( viscDisFnmesh, viscDisMapFn)\n",
    "viscDisProj.solve()"
   ]
  },
  {
   "cell_type": "code",
   "execution_count": null,
   "metadata": {
    "collapsed": false
   },
   "outputs": [],
   "source": [
    "# initialise timer for computation\n",
    "start = time.clock()\n",
    "# setup summary output file (name above)\n",
    "if checkpointLoad:\n",
    "    if uw.rank() == 0:\n",
    "        shutil.copyfile(os.path.join(checkpointLoadDir, outputFile), outputPath+outputFile)\n",
    "    comm.Barrier()\n",
    "    f_o = open(os.path.join(outputPath, outputFile), 'a')\n",
    "    prevdata = np.genfromtxt(os.path.join(outputPath, outputFile), skip_header=0, skip_footer=0)\n",
    "    if len(prevdata.shape) == 1: #this is in case there is only one line in previous file\n",
    "        realtime = prevdata[0]\n",
    "    else:\n",
    "        realtime = prevdata[prevdata.shape[0]-1, 0]\n",
    "    step = int(checkpointLoadDir.split('/')[-1])\n",
    "    timevals = [0.]\n",
    "else:\n",
    "    f_o = open(outputPath+outputFile, 'w')\n",
    "    realtime = 0.\n",
    "    step = 0\n",
    "    timevals = [0.]"
   ]
  },
  {
   "cell_type": "markdown",
   "metadata": {},
   "source": [
    "Main simulation loop\n",
    "-----\n"
   ]
  },
  {
   "cell_type": "code",
   "execution_count": null,
   "metadata": {
    "collapsed": false
   },
   "outputs": [],
   "source": [
    "#metric_output = 1"
   ]
  },
  {
   "cell_type": "code",
   "execution_count": null,
   "metadata": {
    "collapsed": true
   },
   "outputs": [],
   "source": [
    "#while step < 21:\n",
    "while realtime < 1.:\n",
    "\n",
    "    # solve Stokes and advection systems\n",
    "    solver.solve(nonLinearIterate=True)\n",
    "    dt = advDiff.get_max_dt()\n",
    "    if step == 0:\n",
    "        dt = 0.\n",
    "    advDiff.integrate(dt)\n",
    "    passiveadvector.integrate(dt)\n",
    "    \n",
    "    #Add the adiabatic adjustment:\n",
    "    temperatureField.data[:] += dt*abHeatFn.evaluate(mesh)\n",
    "    \n",
    "    #Add the viscous heating term\n",
    "     #Need to fix this (forgot 'dissipation number')\n",
    "    #viscDisProj = uw.utils.MeshVariable_Projection( viscDisFnmesh, viscDisMapFn)\n",
    "    #viscDisProj.solve()\n",
    "    #temperatureField.data[:] += dt*viscDisFnmesh.evaluate(mesh)\n",
    "    \n",
    "\n",
    "    # Increment\n",
    "    realtime += dt\n",
    "    step += 1\n",
    "    timevals.append(realtime)\n",
    "    ################\n",
    "    #Update temperature field in the air region\n",
    "    #Do this better...\n",
    "    ################\n",
    "    if (step % sticky_air_temp == 0):\n",
    "        for index, coord in enumerate(mesh.data):\n",
    "            if coord[1] >= 1.:\n",
    "                temperatureField.data[index] = ndp.TSP\n",
    "\n",
    "    # Calculate the Metrics, only on 1 of the processors:\n",
    "    ################\n",
    "    if (step % metric_output == 0):\n",
    "        ###############\n",
    "        #Swarm - based Metrics\n",
    "        ###############\n",
    "        # Calculate the RMS velocity and Nusselt number.\n",
    "        # Calculate the Metrics, only on 1 of the processors:\n",
    "        mantlerestrictFn = temprestrictionFn() #rebuild the mantle restriction function (but these should be dynamic?)\n",
    "        srrestrictFn = platenessFn(val = 0.1) #rebuild the plateness restriction function\n",
    "        dummy = tempMM.evaluate(mesh) #Re-evaluate any fn.view.min_max guys\n",
    "        #Rebuild these integrals (a test because metrics changes after a restart)\n",
    "        mantleArea   = uw.utils.Integral( mantlerestrictFn, mesh )\n",
    "        mantleTemp = uw.utils.Integral( temperatureField*mantlerestrictFn, mesh )\n",
    "        mantleVisc = uw.utils.Integral( mantleviscosityFn*mantlerestrictFn, mesh )\n",
    "        mantleVd = uw.utils.Integral( (4.*viscosityMapFn*sinner*mantlerestrictFn), mesh ) #these now work on MappingFunctions\n",
    "        ###\n",
    "        Avg_temp = avg_temp()\n",
    "        Rms = rms()\n",
    "        Rms_surf = rms_surf()\n",
    "        Max_vx_surf = max_vx_surf(velocityField, mesh)\n",
    "        Gravwork = basic_int(dwint)\n",
    "        Viscdis = basic_int(vdint)\n",
    "        nu1, nu0 = nusseltTB(temperatureField, mesh) # return top then bottom\n",
    "        etamax, etamin = visc_extr(mantleviscosityFn)\n",
    "        Area_mantle = basic_int(mantleArea)\n",
    "        Viscmantle = basic_int(mantleVisc)\n",
    "        Tempmantle = basic_int(mantleTemp)\n",
    "        Viscdismantle = basic_int(mantleVd)\n",
    "        Plateness = basic_int(plateint)/basic_int(surfint)\n",
    "        TMAX = tempMM.max_global()\n",
    "        # output to summary text file\n",
    "        if uw.rank()==0:\n",
    "            f_o.write((17*'%-15s ' + '\\n') % (realtime, Viscdis, float(nu0), float(nu1), Avg_temp,\n",
    "                                              Tempmantle,TMAX,\n",
    "                                              Rms,Rms_surf,Max_vx_surf,Gravwork, etamax, etamin, \n",
    "                                              Area_mantle, Viscmantle,  Viscdismantle,Plateness ))\n",
    "    ################\n",
    "    #Also repopulate entire swarm periodically\n",
    "    ################\n",
    "    #if step % swarm_repop == 0:\n",
    "    population_control.repopulate()   \n",
    "    ################\n",
    "    #Checkpoint\n",
    "    ################\n",
    "    if step % checkpoint_every == 0:\n",
    "        if uw.rank() == 0:\n",
    "            checkpoint1(step, checkpointPath,f_o, metric_output)           \n",
    "        checkpoint2(step, checkpointPath, gSwarm, f_o, varlist = varlist, varnames = varnames)\n",
    "        f_o = open(os.path.join(outputPath, outputFile), 'a') #is this line supposed to be here?\n",
    "    ################\n",
    "    #Gldb output\n",
    "    ################ \n",
    "    if (step % gldbs_output == 0):\n",
    "        #Rebuild any necessary swarm variables\n",
    "        viscVariable.data[:] = viscosityMapFn.evaluate(gSwarm)\n",
    "        #Write gldbs\n",
    "        fnamedb = \"dbFig\" + \"_\" + str(ModIt) + \"_\" + str(step) + \".gldb\"\n",
    "        fullpath = os.path.join(outputPath + \"gldbs/\" + fnamedb)\n",
    "        #figDb.show()\n",
    "        figDb.save_database(fullpath)\n",
    "    ################\n",
    "    #Files output\n",
    "    ################ \n",
    "    if (step % files_output == 0):\n",
    "\n",
    "        vel_surface = velocityField.evaluate_global(surface_nodes)\n",
    "        norm_surface_sr = normgradV.evaluate_global(surface_nodes)\n",
    "        if uw.rank() == 0:\n",
    "            fnametemp = \"velsurface\" + \"_\" + str(ModIt) + \"_\" + str(step)\n",
    "            fullpath = os.path.join(outputPath + \"files/\" + fnametemp)\n",
    "            np.save(fullpath, vel_surface)\n",
    "            fnametemp = \"norm_surface_sr\" + \"_\" + str(ModIt) + \"_\" + str(step)\n",
    "            fullpath = os.path.join(outputPath + \"files/\" + fnametemp)\n",
    "            np.save(fullpath, norm_surface_sr)\n",
    "    ################\n",
    "    #Particle update\n",
    "    ###############    \n",
    "    #ageVariable.data[:] += dt #increment the ages (is this efficient?)\n",
    "    ageDT += dt\n",
    "    \n",
    "    if step % swarm_update == 0:\n",
    "        #Increment age stuff. \n",
    "        ageConditions = [ (depthFn < AGETRACKDEPTH, ageVariable + ageDT ),  #add ageDThere\n",
    "                  (True, 0.) ]\n",
    "        ageVariable.data[:] = fn.branching.conditional( ageConditions ).evaluate(gSwarm)        \n",
    "        ageDT = 0. #reset the age incrementer\n",
    "        \n",
    "        #Apply any materialVariable changes\n",
    "        for i in range(2): #Need to go through twice first time through\n",
    "            materialVariable.data[:] = fn.branching.conditional(DG.condition_list).evaluate(gSwarm)\n",
    "\n",
    "    \n",
    "f_o.close()\n",
    "print 'step =',step"
   ]
  },
  {
   "cell_type": "code",
   "execution_count": 81,
   "metadata": {
    "collapsed": false
   },
   "outputs": [],
   "source": [
    "viscVariable = gSwarm.add_variable( dataType=\"float\", count=1 )\n",
    "viscVariable.data[:] = viscosityMapFn.evaluate(gSwarm)\n",
    "\n",
    "#buoyVariable = gSwarm.add_variable( dataType=\"float\", count=1 )\n",
    "#buoyVariable.data[:] = densityMapFn.evaluate(gSwarm)"
   ]
  },
  {
   "cell_type": "code",
   "execution_count": 99,
   "metadata": {
    "collapsed": false
   },
   "outputs": [
    {
     "data": {
      "text/html": [
       "<img src='data:image/png;base64,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'>"
      ],
      "text/plain": [
       "<IPython.core.display.HTML object>"
      ]
     },
     "metadata": {},
     "output_type": "display_data"
    },
    {
     "data": {
      "text/plain": [
       "'test.gldb'"
      ]
     },
     "execution_count": 99,
     "metadata": {},
     "output_type": "execute_result"
    }
   ],
   "source": [
    "fig= glucifer.Figure()\n",
    "fig.append( glucifer.objects.Points(gSwarm,ageVariable))\n",
    "#fig.append( glucifer.objects.Points(gSwarm, viscosityMapFn, logScale=True, valueRange =[1e-3,1e5]))\n",
    "\n",
    "#fig.append( glucifer.objects.Surface(mesh, strainRate_2ndInvariant, logScale=True, valueRange =[1e-3,1e5] ))\n",
    "#fig.append( glucifer.objects.VectorArrows(mesh,velocityField, scaling=0.002))\n",
    "#fig.append( glucifer.objects.Surface(mesh,densityMapFn))\n",
    "#fig.append( glucifer.objects.Surface(mesh,raylieghFn))\n",
    "\n",
    "fig.show()\n",
    "fig.save_database('test.gldb')"
   ]
  },
  {
   "cell_type": "code",
   "execution_count": 72,
   "metadata": {
    "collapsed": false,
    "scrolled": true
   },
   "outputs": [
    {
     "data": {
      "text/html": [
       "<img src='data:image/png;base64,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'>"
      ],
      "text/plain": [
       "<IPython.core.display.HTML object>"
      ]
     },
     "metadata": {},
     "output_type": "display_data"
    }
   ],
   "source": [
    "fig= glucifer.Figure()\n",
    "#fig.append( glucifer.objects.Points(gSwarm,testVariable))\n",
    "#fig.append( glucifer.objects.Points(gSwarm, viscosityMapFn, logScale=True, valueRange =[1e-3,1e5]))\n",
    "#fig.append( glucifer.objects.Surface(mesh, finalviscosityFn, logScale=True, valueRange =[1e-3,1e5] ))#fig.append( glucifer.objects.VectorArrows(mesh,velocityField, scaling=0.00002))\n",
    "#fig.append( glucifer.objects.Surface(mesh,pressureField))\n",
    "fig.append( glucifer.objects.Surface(mesh,temperatureField))\n",
    "\n",
    "fig.show()\n",
    "#fig.save_database('test.gldb')\n",
    "\n"
   ]
  },
  {
   "cell_type": "code",
   "execution_count": null,
   "metadata": {
    "collapsed": false
   },
   "outputs": [],
   "source": [
    "velocityField.data[tWalls.data].max()"
   ]
  },
  {
   "cell_type": "code",
   "execution_count": null,
   "metadata": {
    "collapsed": false
   },
   "outputs": [],
   "source": [
    "velocityField.data.max()"
   ]
  },
  {
   "cell_type": "code",
   "execution_count": null,
   "metadata": {
    "collapsed": true
   },
   "outputs": [],
   "source": [
    "testFn  = fn.branching.conditional([(depthFn < MANTLETOCRUST*3, 2.),\n",
    "                                                     (interfaceCond, 1.), #\n",
    "                                                     (True, 0.)])"
   ]
  },
  {
   "cell_type": "code",
   "execution_count": null,
   "metadata": {
    "collapsed": true
   },
   "outputs": [],
   "source": []
  }
 ],
 "metadata": {
  "kernelspec": {
   "display_name": "Python 2",
   "language": "python",
   "name": "python2"
  },
  "language_info": {
   "codemirror_mode": {
    "name": "ipython",
    "version": 2
   },
   "file_extension": ".py",
   "mimetype": "text/x-python",
   "name": "python",
   "nbconvert_exporter": "python",
   "pygments_lexer": "ipython2",
   "version": "2.7.9"
  },
  "widgets": {
   "state": {},
   "version": "1.1.2"
  }
 },
 "nbformat": 4,
 "nbformat_minor": 0
}
