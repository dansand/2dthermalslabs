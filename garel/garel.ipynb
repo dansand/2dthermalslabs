{
 "cells": [
  {
   "cell_type": "markdown",
   "metadata": {},
   "source": [
    "## composite, non-linear rheology:\n",
    "\n",
    "\n",
    "The viscous rheology in this model is similar to the Garel et al paper cited below. Other parts of the model setup are similar to Čížková and Bina (2015), Arredondo and Billen (2016) and Korenaga (2011). \n",
    "\n",
    "Here we use a dimensionless system. For the psuedo-plastic effective rheology a Drucker-prager model is used.\n",
    "\n",
    "\n",
    "**Keywords:** thermal covection, dislocation creep\n",
    "\n",
    "\n",
    "**References**\n",
    "\n",
    "Garel et al...\n",
    "\n",
    "Čížková, Hana, and Craig R. Bina. \"Geodynamics of trench advance: Insights from a Philippine-Sea-style geometry.\" Earth and Planetary Science Letters 430 (2015): 408-415.\n",
    "\n",
    "Arredondo, Katrina M., and Magali I. Billen. \"The Effects of Phase Transitions and Compositional Layering in Two-dimensional Kinematic Models of Subduction.\" Journal of Geodynamics (2016).\n",
    "\n",
    "Korenaga, Jun. \"Scaling of plate tectonic convection with pseudoplastic rheology.\" Journal of Geophysical Research: Solid Earth 115.B11 (2010)."
   ]
  },
  {
   "cell_type": "code",
   "execution_count": 72,
   "metadata": {
    "collapsed": false
   },
   "outputs": [],
   "source": [
    "import numpy as np\n",
    "import underworld as uw\n",
    "import math\n",
    "from underworld import function as fn\n",
    "import glucifer\n",
    "\n",
    "import os\n",
    "import sys\n",
    "import natsort\n",
    "import shutil\n",
    "from easydict import EasyDict as edict\n",
    "import operator\n",
    "import pint\n",
    "import time\n",
    "import operator\n",
    "from slippy2 import boundary_layer2d\n",
    "from slippy2 import material_graph\n",
    "from slippy2 import spmesh\n",
    "\n",
    "from mpi4py import MPI\n",
    "comm = MPI.COMM_WORLD\n",
    "rank = comm.Get_rank()"
   ]
  },
  {
   "cell_type": "markdown",
   "metadata": {},
   "source": [
    "Model name and directories\n",
    "-----"
   ]
  },
  {
   "cell_type": "code",
   "execution_count": 73,
   "metadata": {
    "collapsed": true
   },
   "outputs": [],
   "source": [
    "############\n",
    "#Model name.  \n",
    "############\n",
    "Model = \"T\"\n",
    "ModNum = 1\n",
    "\n",
    "if len(sys.argv) == 1:\n",
    "    ModIt = \"Base\"\n",
    "elif sys.argv[1] == '-f':\n",
    "    ModIt = \"Base\"\n",
    "else:\n",
    "    ModIt = str(sys.argv[1])"
   ]
  },
  {
   "cell_type": "code",
   "execution_count": 74,
   "metadata": {
    "collapsed": false
   },
   "outputs": [],
   "source": [
    "###########\n",
    "#Standard output directory setup\n",
    "###########\n",
    "\n",
    "\n",
    "outputPath = \"results\" + \"/\" +  str(Model) + \"/\" + str(ModNum) + \"/\" + str(ModIt) + \"/\"\n",
    "imagePath = outputPath + 'images/'\n",
    "filePath = outputPath + 'files/'\n",
    "checkpointPath = outputPath + 'checkpoint/'\n",
    "dbPath = outputPath + 'gldbs/'\n",
    "outputFile = 'results_model' + Model + '_' + str(ModNum) + '_' + str(ModIt) + '.dat'\n",
    "\n",
    "if uw.rank()==0:\n",
    "    # make directories if they don't exist\n",
    "    if not os.path.isdir(outputPath):\n",
    "        os.makedirs(outputPath)\n",
    "    if not os.path.isdir(checkpointPath):\n",
    "        os.makedirs(checkpointPath)\n",
    "    if not os.path.isdir(imagePath):\n",
    "        os.makedirs(imagePath)\n",
    "    if not os.path.isdir(dbPath):\n",
    "        os.makedirs(dbPath)\n",
    "    if not os.path.isdir(filePath):\n",
    "        os.makedirs(filePath)\n",
    "        \n",
    "comm.Barrier() #Barrier here so no procs run the check in the next cell too early"
   ]
  },
  {
   "cell_type": "code",
   "execution_count": 75,
   "metadata": {
    "collapsed": false
   },
   "outputs": [
    {
     "name": "stdout",
     "output_type": "stream",
     "text": [
      "results/T/1/Base/checkpoint/ is empty\n"
     ]
    }
   ],
   "source": [
    "###########\n",
    "#Check if starting from checkpoint\n",
    "###########\n",
    "\n",
    "checkdirs = []\n",
    "for dirpath, dirnames, files in os.walk(checkpointPath):\n",
    "    if files:\n",
    "        print dirpath, 'has files'\n",
    "        checkpointLoad = True\n",
    "        checkdirs.append(dirpath)\n",
    "    if not files:\n",
    "        print dirpath, 'is empty'\n",
    "        checkpointLoad = False"
   ]
  },
  {
   "cell_type": "markdown",
   "metadata": {},
   "source": [
    "Setup parameters\n",
    "-----\n",
    "\n",
    "Set simulation parameters for test."
   ]
  },
  {
   "cell_type": "markdown",
   "metadata": {},
   "source": [
    "**Use pint to setup any unit conversions we'll need**"
   ]
  },
  {
   "cell_type": "code",
   "execution_count": 76,
   "metadata": {
    "collapsed": false
   },
   "outputs": [
    {
     "data": {
      "text/html": [
       "10000.0 meter/megayear"
      ],
      "text/latex": [
       "$10000.0 \\frac{meter}{megayear}$"
      ],
      "text/plain": [
       "<Quantity(10000.0, 'meter / megayear')>"
      ]
     },
     "execution_count": 76,
     "metadata": {},
     "output_type": "execute_result"
    }
   ],
   "source": [
    "u = pint.UnitRegistry()\n",
    "cmpery = 1.*u.cm/u.year\n",
    "mpermy = 1.*u.m/u.megayear\n",
    "year = 1.*u.year\n",
    "spery = year.to(u.sec)\n",
    "cmpery.to(mpermy)"
   ]
  },
  {
   "cell_type": "code",
   "execution_count": null,
   "metadata": {
    "collapsed": false
   },
   "outputs": [],
   "source": []
  },
  {
   "cell_type": "markdown",
   "metadata": {},
   "source": [
    "**Set parameter dictionaries**"
   ]
  },
  {
   "cell_type": "code",
   "execution_count": 77,
   "metadata": {
    "collapsed": false
   },
   "outputs": [
    {
     "name": "stdout",
     "output_type": "stream",
     "text": [
      "(0.04, 1.2675505856327397e-11)\n"
     ]
    }
   ],
   "source": [
    "box_half_width =4000e3\n",
    "age_at_trench = 100e6\n",
    "cmperyear = box_half_width / age_at_trench #m/y\n",
    "mpersec = cmperyear*(cmpery.to(u.m/u.second)).magnitude #m/sec\n",
    "print(cmperyear, mpersec )"
   ]
  },
  {
   "cell_type": "code",
   "execution_count": null,
   "metadata": {
    "collapsed": false
   },
   "outputs": [],
   "source": []
  },
  {
   "cell_type": "code",
   "execution_count": 184,
   "metadata": {
    "collapsed": false
   },
   "outputs": [],
   "source": [
    "###########\n",
    "#Store the physical paramters, scale factors and dimensionless pramters in easyDicts\n",
    "#Mainly helps with avoiding overwriting variables\n",
    "###########\n",
    "\n",
    "dp = edict({'LS_RA':2900.*1e3, #Use full mantle depth for the Rayleigh number\n",
    "            'LS':2000.*1e3,\n",
    "           'rho':3300,\n",
    "           'g':9.8, \n",
    "           'eta0':2e20, #Dislocation creep at 250 km, 1573 K, 1e-15 s-1 \n",
    "           'k':1e-6,\n",
    "           'a':3e-5, #surface thermal expansivity\n",
    "           'TP':1573., #potential temp\n",
    "           'TS':273., #surface temp\n",
    "           'cohesion':2e6, #\n",
    "           'fc':0.2,   \n",
    "           'Adf':3e-11,\n",
    "           'Ads':5e-16,\n",
    "           'Apr':1e-150,\n",
    "           'Edf':3e5,\n",
    "           'Eds':5.4e5,\n",
    "           'Epr':5.4e5,\n",
    "           'Vdf':4e-6,\n",
    "           'Vds':12e-6,\n",
    "           'Vpr':10e-6,\n",
    "           'Alm':1.3e-16,\n",
    "           'Elm':2.0e5,\n",
    "           'Vlm':1.1e-6,\n",
    "           'Ba':4.3e-12,  #A value to simulate pressure increase with depth\n",
    "           'SR':1e-15,\n",
    "           #'Dr':250e3, #Reference depth\n",
    "           'rDepth':250e3, #reference depth\n",
    "           'R':8.314,\n",
    "           'Cp':1250., #Jkg-1K-1\n",
    "           'StALS':100e3,\n",
    "           'plate_vel':4})\n",
    "\n",
    "#Adibatic heating stuff\n",
    "dp.dTa = (dp.a*dp.g*(dp.TP))/dp.Cp #adibatic gradient, at Tp\n",
    "dp.deltaTa = (dp.TP + dp.dTa*dp.LS) - dp.TS  #Adiabatic Temp at base of mantle, minus Ts\n",
    "dp.deltaT = dp.deltaTa\n",
    "dp.rTemp= dp.TP + dp.rDepth*dp.dTa #reference temp, (potential temp + adiabat)\n",
    "\n",
    "\n",
    "#scale_factors\n",
    "\n",
    "sf = edict({'stress':dp.LS**2/(dp.k*dp.eta0),\n",
    "            'lith_grad':dp.rho*dp.g*(dp.LS)**3/(dp.eta0*dp.k) ,\n",
    "            'vel':dp.LS/dp.k,\n",
    "            'SR':dp.LS**2/dp.k,\n",
    "            'W':(-1./dp.Ba)*(np.log(1.-dp.rho*dp.g*dp.Ba*dp.LS))/(dp.R*dp.deltaTa), #Including adiabatic compression, and deltaTa\n",
    "            'E': 1./(dp.R*dp.deltaTa), #using deltaTa, the guesstimated adiabatic temp differnnce to scale these paramters\n",
    "            #'Ads':(dp.eta0**(ndp.n-2))*((dp.k)**(ndp.n-1))*((dp.LS)**(2. - 2*ndp.n))       \n",
    "           })\n",
    "\n",
    "#dimensionless parameters\n",
    "\n",
    "ndp = edict({'RA':(dp.g*dp.rho*dp.a*(dp.TP - dp.TS)*(dp.LS_RA)**3)/(dp.k*dp.eta0),\n",
    "            'cohesion':dp.cohesion*sf.stress,\n",
    "            'fcd':dp.fc*sf.lith_grad,\n",
    "            'gamma':dp.fc/(dp.a*dp.deltaT),\n",
    "            'Wdf':dp.Vdf*sf.W,\n",
    "            'Edf':dp.Edf*sf.E,\n",
    "            'Wps':dp.Vpr*sf.W,\n",
    "            'Eps':dp.Epr*sf.E,\n",
    "            'Wds':dp.Vds*sf.W,\n",
    "            'Eds':dp.Eds*sf.E,\n",
    "            'Elm':dp.Elm*sf.E,\n",
    "            'Elm':dp.Elm*sf.E,\n",
    "           'Wlm':dp.Vlm*sf.W,\n",
    "            'TSP':0., \n",
    "            'TBP':1.,\n",
    "            'TPP':(dp.TP - dp.TS)/dp.deltaT, #dimensionless potential temp\n",
    "            'rDepth':dp.rDepth/dp.LS,\n",
    "             'rTemp':(dp.rTemp- dp.TS)/dp.deltaT,\n",
    "            'n':3.5, #Dislocation creep stress exponent\n",
    "             'np':20., #Peierls creep stress exponent\n",
    "            'TS':dp.TS/dp.deltaT,\n",
    "            'TP':dp.TP/dp.deltaT,\n",
    "             #'eta_crust':1e21/dp.eta0,\n",
    "             'eta_crust':0.01,\n",
    "            'eta_min':1e-3,\n",
    "            'eta_max':1e5,\n",
    "            'H':0.,\n",
    "            'Tmvp':0.6,\n",
    "             'Di': dp.a*dp.g*dp.LS/dp.Cp, #Dissipation number\n",
    "            'Steta0':1e2,\n",
    "            'plate_vel':sf.vel*dp.plate_vel*(cmpery.to(u.m/u.second)).magnitude,})\n",
    "\n",
    "\n",
    "\n",
    "#Make some further additions to paramter dictionaries\n",
    "\n",
    "#dp.VR = (0.1*(dp.k/dp.LS)*ndp.RA**(2/3.)) #characteristic velocity from a scaling relationship\n",
    "#dp.SR = dp.VR/dp.LS #characteristic strain rate\n",
    "#ndp.VR = dp.VR*sf.vel #characteristic velocity\n",
    "#ndp.SR = dp.SR*sf.SR #characteristic strain rate\n",
    "\n",
    "\n",
    "ndp.SR = dp.SR*sf.SR #characteristic strain rate\n",
    "\n",
    "ndp.StRA = (3300.*dp.g*(dp.LS)**3)/(dp.eta0 *dp.k) #Composisitional Rayleigh number for rock-air buoyancy force\n",
    "ndp.TaP = 1. - ndp.TPP,  #Dimensionles adiabtic component of delta t"
   ]
  },
  {
   "cell_type": "code",
   "execution_count": 136,
   "metadata": {
    "collapsed": false
   },
   "outputs": [
    {
     "data": {
      "text/plain": [
       "(0.6372738952219752, 0.6826146583192283)"
      ]
     },
     "execution_count": 136,
     "metadata": {},
     "output_type": "execute_result"
    }
   ],
   "source": [
    "#40000./sf.vel, \n",
    "ndp.TPP,ndp.rTemp"
   ]
  },
  {
   "cell_type": "code",
   "execution_count": 137,
   "metadata": {
    "collapsed": false
   },
   "outputs": [
    {
     "data": {
      "text/plain": [
       "(28706.423023996747, 2535.1011712654795, 153804350.70000002, 1300.0)"
      ]
     },
     "execution_count": 137,
     "metadata": {},
     "output_type": "execute_result"
    }
   ],
   "source": [
    "dp.CVR = (0.1*(dp.k/dp.LS)*ndp.RA**(2/3.))\n",
    "ndp.CVR = dp.CVR*sf.vel #characteristic velocity\n",
    "ndp.CVR, ndp.plate_vel, ndp.RA , (dp.TP - dp.TS)\n"
   ]
  },
  {
   "cell_type": "code",
   "execution_count": 138,
   "metadata": {
    "collapsed": false
   },
   "outputs": [],
   "source": [
    "###########\n",
    "#A few parameters defining lengths scales, affects materal transistions etc.\n",
    "###########\n",
    "\n",
    "MANTLETOCRUST = (12.*1e3)/dp.LS #Crust depth\n",
    "HARZBURGDEPTH = MANTLETOCRUST + (27.7e3/dp.LS)\n",
    "CRUSTTOMANTLE = (300.*1e3)/dp.LS\n",
    "LITHTOMANTLE = (900.*1e3)/dp.LS \n",
    "MANTLETOLITH = (200.*1e3)/dp.LS \n",
    "TOPOHEIGHT = (10.*1e3)/dp.LS  #rock-air topography limits\n",
    "CRUSTTOECL  = (100.*1e3)/dp.LS\n",
    "AVGTEMP = ndp.TPP #Used to define lithosphere\n",
    "LOWERMANTLE = (1000.*1e3)/dp.LS \n"
   ]
  },
  {
   "cell_type": "markdown",
   "metadata": {},
   "source": [
    "**Model setup parameters**"
   ]
  },
  {
   "cell_type": "code",
   "execution_count": 82,
   "metadata": {
    "collapsed": false
   },
   "outputs": [],
   "source": [
    "###########\n",
    "#Model setup parameters\n",
    "###########\n",
    "\n",
    "refineMesh = True\n",
    "stickyAir = False \n",
    "meltViscosityReduction = False\n",
    "symmetricIC = False\n",
    "VelBC = False\n",
    "WeakZone = False\n",
    "aspectRatio = 4\n",
    "compBuoyancy = False #use compositional & phase buoyancy, or simply thermal\n",
    "\n",
    "MINX = -1.*aspectRatio/2.\n",
    "MINY = 0.\n",
    "MAXX = 1.*aspectRatio/2.\n",
    "\n",
    "#MAXY = 1.035\n",
    "MAXY = 1.\n",
    "\n",
    "if MINX == 0.:\n",
    "    squareModel = True\n",
    "else: \n",
    "    squareModel = False\n",
    "    \n",
    "    \n",
    "dim = 2          # number of spatial dimensions\n",
    "\n",
    "\n",
    "#MESH STUFF\n",
    "\n",
    "RES = 160\n",
    "\n",
    "Xres = int(RES*aspectRatio)\n",
    "\n",
    "\n",
    "if stickyAir:\n",
    "    Yres = RES\n",
    "    MAXY = 1. + dp.StALS/dp.LS #150km\n",
    "    \n",
    "else:\n",
    "    Yres = RES\n",
    "    MAXY = 1.\n",
    "\n",
    "\n",
    "periodic = [False, False]\n",
    "elementType = \"Q1/dQ0\"\n",
    "#elementType =\"Q2/DPC1\"\n",
    "\n",
    "\n",
    "#System/Solver stuff\n",
    "\n",
    "PIC_integration=True\n",
    "ppc = 25\n",
    "\n",
    "#Output and safety stuff\n",
    "swarm_repop, swarm_update = 10, 10\n",
    "gldbs_output = 1\n",
    "checkpoint_every, files_output = 1, 20\n",
    "metric_output = 1\n",
    "sticky_air_temp = 5"
   ]
  },
  {
   "cell_type": "markdown",
   "metadata": {},
   "source": [
    "Create mesh and finite element variables\n",
    "------"
   ]
  },
  {
   "cell_type": "code",
   "execution_count": 83,
   "metadata": {
    "collapsed": false
   },
   "outputs": [],
   "source": [
    "mesh = uw.mesh.FeMesh_Cartesian( elementType = (elementType),\n",
    "                                 elementRes  = (Xres, Yres), \n",
    "                                 minCoord    = (MINX, MINY), \n",
    "                                 maxCoord    = (MAXX, MAXY), periodic=periodic)\n",
    "\n",
    "velocityField       = uw.mesh.MeshVariable( mesh=mesh,         nodeDofCount=2 )\n",
    "pressureField       = uw.mesh.MeshVariable( mesh=mesh.subMesh, nodeDofCount=1 )\n",
    "temperatureField    = uw.mesh.MeshVariable( mesh=mesh,         nodeDofCount=1 )\n",
    "temperatureDotField = uw.mesh.MeshVariable( mesh=mesh,         nodeDofCount=1 )"
   ]
  },
  {
   "cell_type": "code",
   "execution_count": 84,
   "metadata": {
    "collapsed": true
   },
   "outputs": [],
   "source": [
    "mesh.reset()"
   ]
  },
  {
   "cell_type": "code",
   "execution_count": 85,
   "metadata": {
    "collapsed": false
   },
   "outputs": [
    {
     "name": "stdout",
     "output_type": "stream",
     "text": [
      "Min\n",
      "(256, 0.012501562500000001, 4.200400000000001, -0.20040000000000086)\n",
      "('edges', 256)\n",
      "-- iteration 0 --\n",
      "| F( p_n ) |^2: 1.98165943146e-05\n",
      "| p_n+1 - p_n |^2: 1.36480086187\n",
      "-- iteration 1 --\n",
      "| F( p_n ) |^2: 3.58989730515e-30\n",
      "Min, Max element width: \n",
      "0.01250\n",
      "0.01875\n"
     ]
    }
   ],
   "source": [
    "\n",
    "#X-Axis\n",
    "\n",
    "if refineMesh:\n",
    "    mesh.reset()\n",
    "    axis = 0\n",
    "    origcoords = np.linspace(mesh.minCoord[axis], mesh.maxCoord[axis], mesh.elementRes[axis] + 1)\n",
    "    edge_rest_lengths = np.diff(origcoords)\n",
    "\n",
    "    deform_lengths = edge_rest_lengths.copy()\n",
    "    min_point =  (abs(mesh.maxCoord[axis]) - abs(mesh.minCoord[axis]))/2.\n",
    "    el_reduction = 0.8001\n",
    "    dx = mesh.maxCoord[axis] - min_point\n",
    "\n",
    "    deform_lengths = deform_lengths - \\\n",
    "                                    ((1.-el_reduction) *deform_lengths[0]) + \\\n",
    "                                    abs((origcoords[1:] - min_point))*((0.5*deform_lengths[0])/dx)\n",
    "\n",
    "    #print(edge_rest_lengths.shape, deform_lengths.shape)\n",
    "\n",
    "    spmesh.deform_1d(deform_lengths, mesh,axis = 'x',norm = 'Min', constraints = [])"
   ]
  },
  {
   "cell_type": "code",
   "execution_count": 86,
   "metadata": {
    "collapsed": false
   },
   "outputs": [],
   "source": [
    "axis = 1\n",
    "orgs = np.linspace(mesh.minCoord[axis], mesh.maxCoord[axis], mesh.elementRes[axis] + 1)\n",
    "\n",
    "value_to_constrain = 1.\n",
    "\n",
    "\n",
    "yconst = [(spmesh.find_closest(orgs, value_to_constrain), np.array([value_to_constrain,0]))]"
   ]
  },
  {
   "cell_type": "code",
   "execution_count": 87,
   "metadata": {
    "collapsed": false
   },
   "outputs": [
    {
     "name": "stdout",
     "output_type": "stream",
     "text": [
      "Min\n",
      "(64, 0.0093765624999999995, 0.84619375000000008, 0.62499047619047554)\n",
      "('edges', 64)\n",
      "-- iteration 0 --\n",
      "| F( p_n ) |^2: 8.05648611886e-05\n",
      "| p_n+1 - p_n |^2: 0.352079185376\n",
      "-- iteration 1 --\n",
      "| F( p_n ) |^2: 3.12512226132e-31\n",
      "Min, Max element width: \n",
      "0.00938\n",
      "0.02187\n"
     ]
    }
   ],
   "source": [
    "###########\n",
    "#Mesh refinement\n",
    "###########\n",
    "\n",
    "if refineMesh:\n",
    "    #Y-Axis\n",
    "    axis = 1\n",
    "    origcoords = np.linspace(mesh.minCoord[axis], mesh.maxCoord[axis], mesh.elementRes[axis] + 1)\n",
    "    edge_rest_lengths = np.diff(origcoords)\n",
    "\n",
    "    deform_lengths = edge_rest_lengths.copy()\n",
    "    min_point =  (mesh.maxCoord[axis])\n",
    "    el_reduction = 0.6001\n",
    "    dx = mesh.maxCoord[axis]\n",
    "\n",
    "    deform_lengths = deform_lengths - \\\n",
    "                                    ((1.-el_reduction)*deform_lengths[0]) + \\\n",
    "                                    abs((origcoords[1:] - min_point))*((0.5*deform_lengths[0])/dx)\n",
    "\n",
    "    #print(edge_rest_lengths.shape, deform_lengths.shape)\n",
    "\n",
    "    spmesh.deform_1d(deform_lengths, mesh,axis = 'y',norm = 'Min', constraints = yconst)"
   ]
  },
  {
   "cell_type": "markdown",
   "metadata": {},
   "source": [
    "Initial conditions\n",
    "-------\n"
   ]
  },
  {
   "cell_type": "code",
   "execution_count": 88,
   "metadata": {
    "collapsed": false
   },
   "outputs": [],
   "source": [
    "coordinate = fn.input()\n",
    "depthFn = 1. - coordinate[1] #a function providing the depth\n",
    "xFn = coordinate[0]  #a function providing the x-coordinate\n",
    "\n",
    "potTempFn = ndp.TPP + (depthFn)*ndp.TaP #a function providing the adiabatic temp at any depth\n",
    "abHeatFn = -1.*velocityField[1]*temperatureField*ndp.Di #a function providing the adiabatic heating rate"
   ]
  },
  {
   "cell_type": "code",
   "execution_count": null,
   "metadata": {
    "collapsed": false
   },
   "outputs": [],
   "source": []
  },
  {
   "cell_type": "code",
   "execution_count": 89,
   "metadata": {
    "collapsed": false
   },
   "outputs": [],
   "source": [
    "###########\n",
    "#Thermal initial condition:\n",
    "#if symmetricIC, we build a symmetric downwelling on top of a sinusoidal perturbation\n",
    "##########\n",
    "\n",
    "#Sinusoidal initial condition\n",
    "A = 0.2\n",
    "sinFn = depthFn + A*(fn.math.cos( math.pi * coordinate[0])  * fn.math.sin( math.pi * coordinate[1] ))        \n",
    "iD = 1000e3/dp.LS #Initial Slab depth\n",
    "dl =  2*math.sqrt(dp.k*160e6*3600*24*365) #diffusion Length at ... My\n",
    "w0 = dl/dp.LS #Boundary layer/slab initial condition\n",
    "delX1 = fn.misc.min(fn.math.abs(coordinate[0] - -0.), fn.math.abs(coordinate[0] - -2.))\n",
    "delX = fn.misc.min(delX1 , fn.math.abs(coordinate[0] - 2.))\n",
    "w = w0*fn.math.sqrt(delX + 1e-7)\n",
    "tempBL = (potTempFn) *fn.math.erf((depthFn)/w) + ndp.TSP\n",
    "delX = fn.misc.min(fn.math.abs(coordinate[0] - - 1.) , fn.math.abs(coordinate[0] - 1.))\n",
    "tempSlab = (potTempFn ) *fn.math.erf((delX*2.)/w0) + ndp.TSP       \n",
    "tempFn1 =  fn.misc.min(tempBL, tempSlab)\n",
    "blFn = fn.branching.conditional([(depthFn < iD, tempFn1), \n",
    "                                    (True, potTempFn)])\n",
    "\n",
    "tempFn = 0.*sinFn + 1.*blFn #partition the temp between these the symmetric downwelling and sinusoid\n",
    "if symmetricIC:  \n",
    "    if not checkpointLoad:\n",
    "        temperatureField.data[:] = tempFn.evaluate(mesh)  "
   ]
  },
  {
   "cell_type": "code",
   "execution_count": 90,
   "metadata": {
    "collapsed": false
   },
   "outputs": [],
   "source": [
    "###########\n",
    "#Thermal initial condition 2: \n",
    "#if symmetricIC == False, we build an asymmetric subduction-zone\n",
    "###########\n",
    "\n",
    "#Main control paramters are:\n",
    "\n",
    "#Roc = 550e3 #radius of curvature of slab\n",
    "Roc = 550e3 #radius of curvature of slab\n",
    "\n",
    "theta = 89. #Angle to truncate the slab (can also do with with a cutoff depth)\n",
    "subzone = 0.0 #X position of subduction zone...in model coordinates\n",
    "slabmaxAge = 40e6 #age of subduction plate at trench\n",
    "platemaxAge = 40e6 #max age of slab (Plate model)\n",
    "ageAtTrenchSeconds = min(platemaxAge*(3600*24*365), slabmaxAge*(3600*24*365))\n",
    "\n",
    "\n",
    "sense = 'Right' #dip direction\n",
    "op_age_fac = 1. #this controls the overidding plate speed, hence age reduction\n",
    "\n",
    "\n",
    "#First build the top TBL\n",
    "#Create functions between zero and one, to control age distribution\n",
    "ageFn1 = fn.misc.max(0., (1. - 1.1*fn.math.abs(xFn)/(aspectRatio/2.) ))\n",
    "ageFn  = fn.branching.conditional([(coordinate[0] <= 0, ageFn1),\n",
    "                                  (True, ageFn1/op_age_fac)])\n",
    "\n",
    "#dimensionlize the age function\n",
    "ageFn *= slabmaxAge*(3600*24*365)\n",
    "#ageFn = fn.misc.min(ageFn, platemaxAge*(3600*24*365)) #apply plate model\n",
    "\n",
    "w0 = (2.*math.sqrt(dp.k*ageAtTrenchSeconds))/dp.LS #diffusion depth of plate at the trench\n",
    "\n",
    "tempBL = (potTempFn) *fn.math.erf((depthFn*dp.LS)/(2.*fn.math.sqrt(dp.k*ageFn))) + ndp.TSP #boundary layer function\n",
    "\n",
    "tempTBL =  fn.branching.conditional([(depthFn < w0, tempBL),\n",
    "                          (True, potTempFn)])\n",
    "\n",
    "if not symmetricIC:\n",
    "    if not checkpointLoad:\n",
    "        out = uw.utils.MeshVariable_Projection( temperatureField, tempTBL) #apply function with projection\n",
    "        out.solve()\n",
    "\n",
    "\n",
    "#Now build the perturbation part\n",
    "def inCircleFnGenerator(centre, radius):\n",
    "    coord = fn.input()\n",
    "    offsetFn = coord - centre\n",
    "    return fn.math.dot( offsetFn, offsetFn ) < radius**2\n",
    "\n",
    "#Setup slab perturbation params (mostly dimensionlesl / model params here)\n",
    "phi = 90. - theta\n",
    "RocM = (Roc/dp.LS)\n",
    "CrustM = MANTLETOCRUST\n",
    "Org = (subzone, 1.-RocM)\n",
    "maxDepth = 250e3/dp.LS\n",
    "\n",
    "#We use three circles to define our slab and crust perturbation,  \n",
    "Oc = inCircleFnGenerator(Org , RocM)\n",
    "Ic = inCircleFnGenerator(Org , RocM - w0)\n",
    "Cc = inCircleFnGenerator(Org , RocM + (1.5*CrustM)) #... weak zone on 'outside' of slab\n",
    "dx = (RocM)/(np.math.tan((np.math.pi/180.)*phi))\n",
    "\n",
    "#We'll also create a triangle which will truncate the circles defining the slab...\n",
    "if sense == 'Left':\n",
    "    ptx = subzone - dx\n",
    "else:\n",
    "    ptx = subzone + dx\n",
    "coords = ((0.+subzone, 1), (0.+subzone, 1.-RocM), (ptx, 1.))\n",
    "Tri = fn.shape.Polygon(np.array(coords))\n",
    "\n",
    "#Actually apply the perturbation\n",
    "if not symmetricIC:\n",
    "    if not checkpointLoad:\n",
    "        sdFn = ((RocM - fn.math.sqrt((coordinate[0] - Org[0])**2. + (coordinate[1] - Org[1])**2.)))\n",
    "        slabFn = ndp.TPP*fn.math.erf((sdFn*dp.LS)/(2.*math.sqrt(dp.k*ageAtTrenchSeconds))) + ndp.TSP\n",
    "        for index, coord in enumerate(mesh.data):\n",
    "            if (\n",
    "                Oc.evaluate(tuple(coord)) and\n",
    "                Tri.evaluate(tuple(coord)) and not\n",
    "                Ic.evaluate(tuple(coord)) and\n",
    "                coord[1] > (1. - maxDepth)\n",
    "                ): #In the quarter-circle defining the lithosphere\n",
    "                temperatureField.data[index] = slabFn.evaluate(mesh)[index]\n",
    "\n"
   ]
  },
  {
   "cell_type": "code",
   "execution_count": 91,
   "metadata": {
    "collapsed": false
   },
   "outputs": [],
   "source": [
    "#Make sure material in sticky air region is at the surface temperature.\n",
    "for index, coord in enumerate(mesh.data):\n",
    "            if coord[1] >= 1.:\n",
    "                temperatureField.data[index] = ndp.TSP"
   ]
  },
  {
   "cell_type": "code",
   "execution_count": 92,
   "metadata": {
    "collapsed": false
   },
   "outputs": [],
   "source": [
    "#fn.math.erf((sdFn*dp.LS)/(2.*fn.math.sqrt(dp.k*(slabmaxAge*(3600*24*365))))) "
   ]
  },
  {
   "cell_type": "code",
   "execution_count": 93,
   "metadata": {
    "collapsed": false,
    "scrolled": true
   },
   "outputs": [],
   "source": [
    "fig= glucifer.Figure()\n",
    "fig.append( glucifer.objects.Surface(mesh, temperatureField))\n",
    "\n",
    "#fig.append(glucifer.objects.Mesh(mesh))\n",
    "#fig.save_database('test.gldb')\n",
    "\n",
    "#fig.show()"
   ]
  },
  {
   "cell_type": "markdown",
   "metadata": {},
   "source": [
    "def matplot_field(temperatureField, dp):\n",
    "    if uw.nProcs() != 1:\n",
    "        print(\"only in Serial folks\")\n",
    "    else:\n",
    "        import matplotlib.pyplot as pyplt\n",
    "        try :\n",
    "            if(__IPYTHON__) :\n",
    "                get_ipython().magic(u'matplotlib inline')\n",
    "        except NameError :\n",
    "            pass\n",
    "        field_data = temperatureField.data.reshape(mesh.elementRes[1] + 1, mesh.elementRes[0] + 1)\n",
    "        fig, ax = pyplt.subplots()\n",
    "        ql = dp.LS/1e3\n",
    "        pyplt.ioff()\n",
    "        ax.imshow(np.flipud(field_data), cmap='coolwarm', extent=[0,ql*aspectRatio,ql, 0])\n",
    "        #ax.set_x([0,dp.LS*aspectRatio])\n",
    "        \n",
    "        return fig, ax\n",
    "        \n",
    "fig, ax = matplot_field(temperatureField, dp)\n",
    "#show_colormap('cubehelix')        "
   ]
  },
  {
   "cell_type": "markdown",
   "metadata": {},
   "source": [
    "Boundary conditions\n",
    "-------"
   ]
  },
  {
   "cell_type": "code",
   "execution_count": 94,
   "metadata": {
    "collapsed": false
   },
   "outputs": [
    {
     "name": "stdout",
     "output_type": "stream",
     "text": [
      "2\n"
     ]
    }
   ],
   "source": [
    "for index in mesh.specialSets[\"MinJ_VertexSet\"]:\n",
    "    temperatureField.data[index] = ndp.TBP\n",
    "for index in mesh.specialSets[\"MaxJ_VertexSet\"]:\n",
    "    temperatureField.data[index] = ndp.TSP\n",
    "    \n",
    "iWalls = mesh.specialSets[\"MinI_VertexSet\"] + mesh.specialSets[\"MaxI_VertexSet\"]\n",
    "jWalls = mesh.specialSets[\"MinJ_VertexSet\"] + mesh.specialSets[\"MaxJ_VertexSet\"]\n",
    "tWalls = mesh.specialSets[\"MaxJ_VertexSet\"]\n",
    "bWalls =mesh.specialSets[\"MinJ_VertexSet\"]\n",
    "\n",
    "VelBCs = mesh.specialSets[\"Empty\"]\n",
    "\n",
    "\n",
    "\n",
    "if VelBC:\n",
    "    for index in list(tWalls.data):\n",
    "\n",
    "        if (mesh.data[int(index)][0] < (subzone - 0.05*aspectRatio) and \n",
    "            mesh.data[int(index)][0] > (mesh.minCoord[0] + 0.05*aspectRatio)): #Only push with a portion of teh overiding plate\n",
    "            #print \"first\"\n",
    "            VelBCs.add(int(index))\n",
    "            #Set the plate velocities for the kinematic phase\n",
    "            velocityField.data[index] = [ndp.plate_vel, 0.]\n",
    "        \n",
    "        elif (mesh.data[int(index)][0] > (subzone + 0.05*aspectRatio) and \n",
    "            mesh.data[int(index)][0] < (mesh.maxCoord[0] - 0.05*aspectRatio)):\n",
    "            #print \"second\"\n",
    "            VelBCs.add(int(index))\n",
    "            #Set the plate velocities for the kinematic phase\n",
    "            velocityField.data[index] = [0., 0.]\n",
    "        \n",
    "\n",
    "#If periodic, we'll fix a the x-vel at a single node - at the bottom left (index 0)\n",
    "Fixed = mesh.specialSets[\"Empty\"]\n",
    "Fixed.add(int(0))        \n",
    "        \n",
    "\n",
    "if periodic[0] == False:\n",
    "    if VelBC:\n",
    "        print(1)\n",
    "        freeslipBC = uw.conditions.DirichletCondition( variable      = velocityField, \n",
    "                                               indexSetsPerDof = ( iWalls + VelBCs, jWalls) )\n",
    "    else:\n",
    "        print(2)\n",
    "        freeslipBC = uw.conditions.DirichletCondition( variable      = velocityField, \n",
    "                                               indexSetsPerDof = ( iWalls, jWalls) )\n",
    "\n",
    "\n",
    "\n",
    "\n",
    "\n",
    "\n",
    "if periodic[0] == True:\n",
    "    if VelBC:\n",
    "        print(3)\n",
    "        freeslipBC = uw.conditions.DirichletCondition( variable      = velocityField, \n",
    "                                               indexSetsPerDof = ( Fixed + VelBCs , jWalls) )\n",
    "    else:\n",
    "        print(4)\n",
    "        freeslipBC = uw.conditions.DirichletCondition( variable      = velocityField, \n",
    "                                               indexSetsPerDof = ( Fixed, jWalls) )\n",
    "        \n",
    "    \n",
    "    \n",
    "    \n",
    "# also set dirichlet for temp field\n",
    "dirichTempBC = uw.conditions.DirichletCondition(     variable=temperatureField, \n",
    "                                              indexSetsPerDof=(tWalls,) )\n",
    "dT_dy = [0.,0.]\n",
    "\n",
    "# also set dirichlet for temp field\n",
    "neumannTempBC = uw.conditions.NeumannCondition( dT_dy, variable=temperatureField, \n",
    "                                         nodeIndexSet=bWalls)\n",
    "\n"
   ]
  },
  {
   "cell_type": "code",
   "execution_count": null,
   "metadata": {
    "collapsed": false
   },
   "outputs": [],
   "source": []
  },
  {
   "cell_type": "code",
   "execution_count": 95,
   "metadata": {
    "collapsed": false
   },
   "outputs": [],
   "source": [
    "#check VelBCs are where we want them\n",
    "#test = np.zeros(len(tWalls.data))\n",
    "#VelBCs\n",
    "#tWalls.data\n",
    "#tWalls.data[VelBCs.data]\n",
    "#test[np.in1d(tWalls.data, VelBCs.data)] = 1.\n",
    "#test\n",
    "\n"
   ]
  },
  {
   "cell_type": "code",
   "execution_count": null,
   "metadata": {
    "collapsed": false
   },
   "outputs": [],
   "source": []
  },
  {
   "cell_type": "markdown",
   "metadata": {},
   "source": [
    "Swarm setup\n",
    "-----\n"
   ]
  },
  {
   "cell_type": "code",
   "execution_count": 96,
   "metadata": {
    "collapsed": false
   },
   "outputs": [],
   "source": [
    "###########\n",
    "#Material Swarm and variables\n",
    "###########\n",
    "\n",
    "#create material swarm\n",
    "gSwarm = uw.swarm.Swarm(mesh=mesh, particleEscape=True)\n",
    "\n",
    "#create swarm variables\n",
    "yieldingCheck = gSwarm.add_variable( dataType=\"int\", count=1 )\n",
    "tracerVariable = gSwarm.add_variable( dataType=\"int\", count=1)\n",
    "materialVariable = gSwarm.add_variable( dataType=\"int\", count=1 )\n",
    "ageVariable = gSwarm.add_variable( dataType=\"float\", count=1 )\n",
    "\n",
    "\n",
    "#these lists  are part of the checkpointing implementation\n",
    "varlist = [tracerVariable, tracerVariable, yieldingCheck]\n",
    "varlist = [materialVariable, yieldingCheck, ageVariable]\n",
    "varnames = ['materialVariable', 'yieldingCheck', 'ageVariable']"
   ]
  },
  {
   "cell_type": "code",
   "execution_count": 97,
   "metadata": {
    "collapsed": false
   },
   "outputs": [],
   "source": [
    "mantleIndex = 0\n",
    "crustIndex = 1\n",
    "harzIndex = 2\n",
    "airIndex = 3\n",
    "\n",
    "\n",
    "\n",
    "if checkpointLoad:\n",
    "    checkpointLoadDir = natsort.natsort(checkdirs)[-1]\n",
    "    temperatureField.load(os.path.join(checkpointLoadDir, \"temperatureField\" + \".hdf5\"))\n",
    "    pressureField.load(os.path.join(checkpointLoadDir, \"pressureField\" + \".hdf5\"))\n",
    "    velocityField.load(os.path.join(checkpointLoadDir, \"velocityField\" + \".hdf5\"))\n",
    "    gSwarm.load(os.path.join(checkpointLoadDir, \"swarm\" + \".h5\"))\n",
    "    for ix in range(len(varlist)):\n",
    "        varb = varlist[ix]\n",
    "        varb.load(os.path.join(checkpointLoadDir,varnames[ix] + \".h5\"))\n",
    "\n",
    "else:\n",
    "\n",
    "    # Layouts are used to populate the swarm across the whole domain\n",
    "    layout = uw.swarm.layouts.PerCellRandomLayout(swarm=gSwarm, particlesPerCell=ppc)\n",
    "    gSwarm.populate_using_layout( layout=layout ) # Now use it to populate.\n",
    "    # Swarm variables\n",
    "    materialVariable.data[:] = mantleIndex\n",
    "    tracerVariable.data[:] = 1\n",
    "    yieldingCheck.data[:] = 0\n",
    "    ageVariable.data[:] = -1\n",
    "\n",
    "    #Set initial air and crust materials (allow the graph to take care of lithsophere)\n",
    "    #########\n",
    "    #This initial material setup will be model dependent\n",
    "    #########\n",
    "    for particleID in range(gSwarm.particleCoordinates.data.shape[0]):\n",
    "        if (1. - gSwarm.particleCoordinates.data[particleID][1]) < MANTLETOCRUST:\n",
    "                 materialVariable.data[particleID] = crustIndex"
   ]
  },
  {
   "cell_type": "code",
   "execution_count": 98,
   "metadata": {
    "collapsed": false
   },
   "outputs": [],
   "source": [
    "###########\n",
    "#This block sets up a checkboard layout of passive tracers\n",
    "###########\n",
    "\n",
    "square_size = 0.1\n",
    "xlist = np.arange(mesh.minCoord[0] + square_size/2., mesh.maxCoord[0] + square_size/2., square_size)\n",
    "xlist = zip(xlist[:], xlist[1:])[::2]\n",
    "ylist = np.arange(mesh.minCoord[1] + square_size/2., mesh.maxCoord[1] + square_size/2., square_size)\n",
    "ylist = zip(ylist[:], ylist[1:])[::2]\n",
    "xops = []\n",
    "for vals in xlist:\n",
    "    xops.append( (operator.and_(   operator.gt(coordinate[0],vals[0]),   operator.lt(coordinate[0],vals[1])  ),0.) )\n",
    "xops.append((True,1.))\n",
    "\n",
    "testfunc = fn.branching.conditional(xops) \n",
    "\n",
    "yops = []\n",
    "for vals in ylist:\n",
    "    yops.append( (operator.and_(   operator.gt(coordinate[1],vals[0]),   operator.lt(coordinate[1],vals[1])  ),0.) )\n",
    "yops.append((True,testfunc))\n",
    "\n",
    "testfunc2 = fn.branching.conditional(yops) \n",
    "tracerVariable.data[:] = testfunc.evaluate(gSwarm)\n",
    "tracerVariable.data[:] = testfunc2.evaluate(gSwarm)"
   ]
  },
  {
   "cell_type": "code",
   "execution_count": 99,
   "metadata": {
    "collapsed": false
   },
   "outputs": [
    {
     "data": {
      "text/plain": [
       "(-1.0, -1.0)"
      ]
     },
     "execution_count": 99,
     "metadata": {},
     "output_type": "execute_result"
    }
   ],
   "source": [
    "ageVariable.data.min(), ageVariable.data.max()"
   ]
  },
  {
   "cell_type": "code",
   "execution_count": 100,
   "metadata": {
    "collapsed": false
   },
   "outputs": [
    {
     "data": {
      "text/plain": [
       "array([  0.00000000e+00,   1.99999995e-05], dtype=float32)"
      ]
     },
     "execution_count": 100,
     "metadata": {},
     "output_type": "execute_result"
    }
   ],
   "source": [
    "#Set the inital particle age, for particles above the critical depth \n",
    "#(only these will be transformed to crust / harzburgite)\n",
    "\n",
    "ageVariable.data[:] = 0. #start with all zero\n",
    "crustageCond = 1e-05 #set inital age above critical depth. (about 1.2 Ma.) Might have to be shorter than this - need to experiment\n",
    "ageDT = crustageCond + 1e-5 #initalize ages\n",
    "ageConditions = [ (depthFn < 100e3/dp.LS , ageDT),  \n",
    "                  (True, 0.) ]\n",
    "                 \n",
    "\n",
    "ageEval = fn.branching.conditional( ageConditions ).evaluate(gSwarm)\n",
    "ageVariable.data[np.where(ageEval == 0)] = 0 #If below the critical depth, age is set to zero\n",
    "ageVariable.data[np.where(ageEval != 0)] += ageDT #If age above critical depth, increment age\n",
    "\n",
    "np.unique(ageVariable.data)"
   ]
  },
  {
   "cell_type": "markdown",
   "metadata": {
    "collapsed": false
   },
   "source": [
    "Swarm control (material graph)\n",
    "-----\n",
    "\n"
   ]
  },
  {
   "cell_type": "code",
   "execution_count": null,
   "metadata": {
    "collapsed": false
   },
   "outputs": [],
   "source": [
    "\n"
   ]
  },
  {
   "cell_type": "code",
   "execution_count": 101,
   "metadata": {
    "collapsed": false
   },
   "outputs": [],
   "source": [
    "##############\n",
    "#Here we set up a directed graph object that we we use to control the transformation from one material type to another\n",
    "##############\n",
    "\n",
    "#All depth conditions are given as (km/D) where D is the length scale,\n",
    "#note that 'model depths' are used, e.g. 1-z, where z is the vertical Underworld coordinate\n",
    "#All temp conditions are in dimensionless temp. [0. - 1.]\n",
    "\n",
    "#This is a quick fix for a bug that arises in parallel runs\n",
    "material_list = [0,1,2,3]\n",
    "\n",
    "if not checkpointLoad:\n",
    "    materialVariable.data[:] = 0 #Initialize to zero \n",
    "\n",
    "#Setup the graph object\n",
    "DG = material_graph.MatGraph()\n",
    "\n",
    "#Important: First thing to do is to add all the material types to the graph (i.e add nodes)\n",
    "DG.add_nodes_from(material_list)\n",
    "\n",
    "#Now set the conditions for transformations\n",
    "\n",
    "#... to mantle\n",
    "DG.add_transition((crustIndex,mantleIndex), depthFn, operator.gt, CRUSTTOMANTLE)\n",
    "DG.add_transition((harzIndex,mantleIndex), depthFn, operator.gt, CRUSTTOMANTLE)\n",
    "#DG.add_transition((airIndex,mantleIndex), depthFn, operator.gt, TOPOHEIGHT)\n",
    "\n",
    "#... to crust\n",
    "DG.add_transition((mantleIndex,crustIndex), depthFn, operator.lt, MANTLETOCRUST)\n",
    "DG.add_transition((mantleIndex,crustIndex), xFn, operator.lt, 0. + 7.*MANTLETOCRUST) #No crust on the upper plate\n",
    "DG.add_transition((mantleIndex,crustIndex), ageVariable, operator.gt, crustageCond)\n",
    "\n",
    "DG.add_transition((harzIndex,crustIndex), depthFn, operator.lt, MANTLETOCRUST)\n",
    "DG.add_transition((harzIndex,crustIndex), xFn, operator.lt, 0. + 7.*MANTLETOCRUST) #This one sets no crust on the upper plate\n",
    "DG.add_transition((harzIndex,crustIndex), ageVariable, operator.gt, crustageCond)\n",
    "\n",
    "#... to Harzbugite\n",
    "DG.add_transition((mantleIndex,harzIndex), depthFn, operator.lt, HARZBURGDEPTH)\n",
    "DG.add_transition((mantleIndex,harzIndex), depthFn, operator.gt, MANTLETOCRUST)\n",
    "DG.add_transition((mantleIndex,harzIndex), ageVariable, operator.gt, crustageCond) #Note we can mix functions and swarm variabls\n",
    "\n",
    "#... to air\n",
    "#DG.add_transition((mantleIndex,airIndex), depthFn, operator.lt,0. - TOPOHEIGHT)\n",
    "#DG.add_transition((crustIndex,airIndex), depthFn, operator.lt, 0. - TOPOHEIGHT)\n",
    "\n"
   ]
  },
  {
   "cell_type": "code",
   "execution_count": 102,
   "metadata": {
    "collapsed": false
   },
   "outputs": [
    {
     "data": {
      "text/plain": [
       "(0.15, 0.01985, 0.042)"
      ]
     },
     "execution_count": 102,
     "metadata": {},
     "output_type": "execute_result"
    }
   ],
   "source": [
    "CRUSTTOMANTLE, HARZBURGDEPTH, 0. + 7.*MANTLETOCRUST"
   ]
  },
  {
   "cell_type": "code",
   "execution_count": 103,
   "metadata": {
    "collapsed": false
   },
   "outputs": [],
   "source": [
    "##############\n",
    "#For the slab_IC, we'll also add a crustal weak zone following the dipping perturbation\n",
    "##############\n",
    "\n",
    "if checkpointLoad != True:\n",
    "    if not symmetricIC:\n",
    "        for particleID in range(gSwarm.particleCoordinates.data.shape[0]):\n",
    "            if (\n",
    "                Cc.evaluate(list(gSwarm.particleCoordinates.data[particleID])) and\n",
    "                Tri.evaluate(list(gSwarm.particleCoordinates.data[particleID])) and\n",
    "                Oc.evaluate(list(gSwarm.particleCoordinates.data[particleID])) == False\n",
    "                ):\n",
    "                materialVariable.data[particleID] = crustIndex"
   ]
  },
  {
   "cell_type": "code",
   "execution_count": 104,
   "metadata": {
    "collapsed": false
   },
   "outputs": [],
   "source": [
    "##############\n",
    "#This is how we use the material graph object to test / apply material transformations\n",
    "##############\n",
    "DG.build_condition_list(materialVariable)\n",
    "for i in range(3): #Need to go through a number of times\n",
    "    materialVariable.data[:] = fn.branching.conditional(DG.condition_list).evaluate(gSwarm)"
   ]
  },
  {
   "cell_type": "code",
   "execution_count": 105,
   "metadata": {
    "collapsed": false
   },
   "outputs": [],
   "source": [
    "#DG.build_condition_list(materialVariable)\n",
    "#materialVariable.data[:] = fn.branching.conditional(DG.condition_list).evaluate(gSwarm)"
   ]
  },
  {
   "cell_type": "markdown",
   "metadata": {
    "collapsed": false
   },
   "source": [
    "## Temp, phase and compositional buoyancy"
   ]
  },
  {
   "cell_type": "code",
   "execution_count": 106,
   "metadata": {
    "collapsed": true
   },
   "outputs": [],
   "source": [
    "##############\n",
    "#Put this in Slippy\n",
    "##############\n",
    "\n",
    "from easydict import EasyDict as edict\n",
    "class component_phases():\n",
    "    \"\"\"\n",
    "    Class that allows you to create 'phase functions' for a mineral component\n",
    "\n",
    "    \"\"\"\n",
    "    def __init__(self,name, depths,temps, widths,claps,densities):\n",
    "        \"\"\"\n",
    "        Class initialiser.\n",
    "        Parameter\n",
    "        ---------\n",
    "        name : str\n",
    "            'Component', e.g olivine, pyroxene-garnet\n",
    "        depths: list\n",
    "            list of transition depths in kilometers\n",
    "        widths: list \n",
    "            list of transition widths in kilometers\n",
    "        claps: list \n",
    "            list of Clapeyron slopes in Pa/K\n",
    "        densities: list\n",
    "            list of density changes in kg/m3\n",
    "        Returns\n",
    "        -------\n",
    "        mesh : dp\n",
    "        Dictionary storing the phase-transition vales\n",
    "\n",
    "        \"\"\"\n",
    "        if not isinstance(depths,list):\n",
    "            raise TypeError(\"depths object passed in must be of type 'list'\")\n",
    "        if not isinstance(temps,list):\n",
    "            raise TypeError(\"temps object passed in must be of type 'list'\")\n",
    "        if not isinstance(widths,list):\n",
    "            raise TypeError(\"widths object passed in must be of type 'list'\")\n",
    "        if not isinstance(claps,list):\n",
    "            raise TypeError(\"claps object passed in must be of type 'list'\")\n",
    "        if not isinstance(densities,list):\n",
    "            raise TypeError(\"densities object passed in must be of type 'list'\")\n",
    "        if not len(depths) == len(widths) == len(claps) == len(densities):\n",
    "            raise ValueError( \"All lists of phase values should be the same length\")\n",
    "        self.dp = edict({})\n",
    "        self.dp.name = name\n",
    "        self.dp.depths = depths\n",
    "        self.dp.temps = temps\n",
    "        self.dp.widths = widths\n",
    "        self.dp.claps = claps\n",
    "        self.dp.densities = densities\n",
    "        \n",
    "    def build_nd_dict(self, lengthscale, densityscale, gravityscale, tempscale):\n",
    "        self.ndp = edict({})\n",
    "        self.ndp.name = self.dp.name\n",
    "        self.ndp.depths = [i/lengthscale for i in self.dp.depths]\n",
    "        self.ndp.temps = [i/tempscale for i in self.dp.temps]\n",
    "        self.ndp.widths = [i/lengthscale for i in self.dp.widths]\n",
    "        self.ndp.claps = [(i*(tempscale/(densityscale*gravityscale*lengthscale))) for i in self.dp.claps]\n",
    "        \n",
    "    def nd_reduced_pressure(self, depthFn, temperatureField, depthPh, clapPh, tempPh):\n",
    "        \"\"\"\n",
    "        Creates an Underworld function, representing the 'reduced pressure'\n",
    "        \"\"\"\n",
    "        return (depthFn - depthPh) - clapPh*(temperatureField - tempPh)\n",
    "\n",
    "    def nd_phase(self, reduced_p, widthPh):\n",
    "        \"\"\"\n",
    "        Creates an Underworld function, representing the phase function in the domain\n",
    "        \"\"\"\n",
    "        return 0.5*(1. + fn.math.tanh(reduced_p/(widthPh)))\n",
    "    \n",
    "    def phase_function_sum(self, temperatureField, depthFn):\n",
    "        \"\"\"\n",
    "        Creates an Underworld function, representing the Sum of the individual phase functions:\n",
    "        -----------\n",
    "        temperatureField : underworld.mesh._meshvariable.MeshVariable\n",
    "        \n",
    "        ...need to put warning in about running build_nd_dict first \n",
    "        \"\"\"    \n",
    "        \n",
    "        pf_sum = uw.function.misc.constant(0.)\n",
    "        \n",
    "        for phaseId in range(len(self.dp['depths'])):\n",
    "            #build reduced pressure\n",
    "            rp = self.nd_reduced_pressure(depthFn, \n",
    "                                   temperatureField,\n",
    "                                   self.ndp['depths'][phaseId ],\n",
    "                                   self.ndp['claps'][phaseId ],\n",
    "                                   self.ndp['temps'][phaseId ])\n",
    "            #build phase function\n",
    "            pf = self.nd_phase(rp, self.ndp['widths'][phaseId ])\n",
    "            pf_sum += pf\n",
    "        \n",
    "        return pf_sum\n",
    "    \n",
    "    def buoyancy_sum(self, temperatureField, depthFn, gravityscale, lengthscale, diffusivityscale, viscosityscale):\n",
    "        \"\"\"\n",
    "        Creates an Underworld function, representing the Sum of the individual phase functions...\n",
    "        and the associated density changes:\n",
    "        \n",
    "        pf_sum = Sum_k{ (Ra*delRho_k*pf_k/rho_0*eta_0*delta_t)}\n",
    "        -----------\n",
    "        temperatureField : underworld.mesh._meshvariable.MeshVariable\n",
    "        \n",
    "        ...need to put warning in about running build_nd_dict first \n",
    "        \"\"\"\n",
    "        bouyancy_factor = (gravityscale*lengthscale**3)/(viscosityscale*diffusivityscale)\n",
    "        \n",
    "        pf_sum = uw.function.misc.constant(0.)\n",
    "        \n",
    "        for phaseId in range(len(self.dp['depths'])):\n",
    "            #build reduced pressure\n",
    "            rp = self.nd_reduced_pressure(depthFn, \n",
    "                                   temperatureField,\n",
    "                                   self.ndp['depths'][phaseId ],\n",
    "                                   self.ndp['claps'][phaseId ],\n",
    "                                   self.ndp['temps'][phaseId ])\n",
    "            #build phase function\n",
    "            pf = self.nd_phase(rp, self.ndp['widths'][phaseId ])\n",
    "            pf_sum += bouyancy_factor*pf*self.dp['densities'][phaseId ] #we want the dimensional densities here\n",
    "        \n",
    "        return pf_sum"
   ]
  },
  {
   "cell_type": "code",
   "execution_count": 107,
   "metadata": {
    "collapsed": false
   },
   "outputs": [],
   "source": [
    "##############\n",
    "#Set up phase buoyancy contributions\n",
    "##############\n",
    "\n",
    "\n",
    "#olivine\n",
    "olivinePhase = component_phases(name = 'ol', \n",
    "                        depths=[410e3,660e3],\n",
    "                        temps = [1600., 1900.], \n",
    "                        widths = [20e3, 20e3], \n",
    "                        claps=[2.e6, -2.5e6], \n",
    "                        densities = [180., 400.])\n",
    "\n",
    "olivinePhase.build_nd_dict(dp.LS, dp.rho, dp.g, dp.deltaTa)\n",
    "\n",
    "\n",
    "rp = olivinePhase.nd_reduced_pressure(depthFn, \n",
    "                                   temperatureField,\n",
    "                                   olivinePhase.ndp['depths'][0],\n",
    "                                   olivinePhase.ndp['claps'][0],\n",
    "                                   olivinePhase.ndp['temps'][0])\n",
    "\n",
    "#ph_410 = olivinePhase.nd_phase(rp, test.ndp['widths'][0])\n",
    "#pf_sum = test.phase_function_sum(temperatureField, depthFn)\n",
    "\n",
    "olivine_phase_buoyancy = olivinePhase.buoyancy_sum(temperatureField, depthFn, dp.g, dp.LS, dp.k, dp.eta0)\n",
    "\n",
    "#garnet\n",
    "garnetPhase = component_phases(name = 'grt', \n",
    "                        depths=[60e3,400e3, 720e3],\n",
    "                        temps = [1000., 1600., 1900.], \n",
    "                        widths = [20e3, 20e3, 20e3], \n",
    "                        claps=[0.e6, 1.e6, 1.e6], \n",
    "                        densities = [350., 150., 400.])\n",
    "\n",
    "garnetPhase.build_nd_dict(dp.LS, dp.rho, dp.g, dp.deltaTa)\n",
    "\n",
    "\n",
    "rp = garnetPhase.nd_reduced_pressure(depthFn, \n",
    "                                   temperatureField,\n",
    "                                   garnetPhase.ndp['depths'][0],\n",
    "                                   garnetPhase.ndp['claps'][0],\n",
    "                                   garnetPhase.ndp['temps'][0])\n",
    "\n",
    "#ph_410 = olivinePhase.nd_phase(rp, test.ndp['widths'][0])\n",
    "#pf_sum = test.phase_function_sum(temperatureField, depthFn)\n",
    "\n",
    "garnet_phase_buoyancy = garnetPhase.buoyancy_sum(temperatureField, depthFn, dp.g, dp.LS, dp.k, dp.eta0)"
   ]
  },
  {
   "cell_type": "code",
   "execution_count": 108,
   "metadata": {
    "collapsed": false
   },
   "outputs": [
    {
     "name": "stdout",
     "output_type": "stream",
     "text": [
      "(141120000.0, 25480000.0, 0.0)\n"
     ]
    }
   ],
   "source": [
    "##############\n",
    "#Set up compositional buoyancy contributions\n",
    "##############\n",
    "\n",
    "bouyancy_factor = (dp.g*dp.LS**3)/(dp.eta0*dp.k)\n",
    "\n",
    "basalt_comp_buoyancy  = (dp.rho - 2940.)*bouyancy_factor\n",
    "harz_comp_buoyancy = (dp.rho - 3235.)*bouyancy_factor\n",
    "pyrolite_comp_buoyancy = (dp.rho - 3300.)*bouyancy_factor\n",
    "\n",
    "print(basalt_comp_buoyancy, harz_comp_buoyancy, pyrolite_comp_buoyancy)"
   ]
  },
  {
   "cell_type": "code",
   "execution_count": 109,
   "metadata": {
    "collapsed": false
   },
   "outputs": [],
   "source": [
    "#this accounts for the decreas in expansivity\n",
    "alphaRatio = 1.2/3\n",
    "taFn = 1. - (depthFn)*(1. - alphaRatio) \n",
    "#raylieghFn = ndp.RA*temperatureField*taFn\n",
    "\n",
    "\n",
    "if not compBuoyancy:\n",
    "    pyrolitebuoyancyFn =  (ndp.RA*temperatureField*taFn)\n",
    "    harzbuoyancyFn =      (ndp.RA*temperatureField*taFn) \n",
    "    basaltbuoyancyFn =    (ndp.RA*temperatureField*taFn)\n",
    "\n",
    "else : \n",
    "    pyrolitebuoyancyFn =  (ndp.RA*temperatureField*taFn) -\\\n",
    "                          (0.6*olivine_phase_buoyancy + 0.4*garnet_phase_buoyancy) +\\\n",
    "                           pyrolite_comp_buoyancy\n",
    "    harzbuoyancyFn =      (ndp.RA*temperatureField*taFn) -\\\n",
    "                          (0.8*olivine_phase_buoyancy + 0.2*garnet_phase_buoyancy) +\\\n",
    "                           harz_comp_buoyancy\n",
    "    basaltbuoyancyFn =    (ndp.RA*temperatureField*taFn) -\\\n",
    "                          (1.*garnet_phase_buoyancy) +\\\n",
    "                           basalt_comp_buoyancy"
   ]
  },
  {
   "cell_type": "markdown",
   "metadata": {},
   "source": [
    "Rheology\n",
    "-----\n",
    "\n"
   ]
  },
  {
   "cell_type": "code",
   "execution_count": 110,
   "metadata": {
    "collapsed": false
   },
   "outputs": [],
   "source": [
    "##############\n",
    "#Set up any functions required by the rheology\n",
    "##############\n",
    "strainRate_2ndInvariant = fn.tensor.second_invariant( \n",
    "                            fn.tensor.symmetric( \n",
    "                            velocityField.fn_gradient ))\n",
    "\n",
    "def safe_visc(func, viscmin=ndp.eta_min, viscmax=ndp.eta_max):\n",
    "    return fn.misc.max(ndp.eta_min, fn.misc.min(ndp.eta_max, func))"
   ]
  },
  {
   "cell_type": "code",
   "execution_count": 197,
   "metadata": {
    "collapsed": false
   },
   "outputs": [],
   "source": [
    "##############\n",
    "#Get dimensional viscosity values at refernce values of temp, pressure, and strain rate\n",
    "##############\n",
    "dp.rPressure  = (-1./dp.Ba)*(np.log(1.-dp.rho*dp.g*dp.Ba*dp.rDepth))\n",
    "rDf = (1./dp.Adf)*np.exp( ((dp.Edf + dp.Vdf*dp.rPressure))/((dp.R*dp.rTemp)))\n",
    "rDs = (1./dp.Ads**(1./ndp.n))*(dp.SR**((1.-ndp.n)/ndp.n))*np.exp( ((dp.Eds + dp.Vds*dp.rPressure))/((ndp.n*dp.R*dp.rTemp)))\n",
    "rPr = (1./dp.Apr**(1./ndp.np))*(dp.SR**((1.-ndp.np)/ndp.np))*np.exp( ((dp.Epr + dp.Vpr*dp.rPressure))/((ndp.np*dp.R*dp.rTemp)))\n",
    "\n",
    "dsfac = rDs/dp.eta0\n",
    "dffac = rDf/dp.eta0\n",
    "prfac = rPr/dp.eta0"
   ]
  },
  {
   "cell_type": "code",
   "execution_count": 196,
   "metadata": {
    "collapsed": false
   },
   "outputs": [
    {
     "name": "stdout",
     "output_type": "stream",
     "text": [
      "(3.2276074645852271, 4.6069789545322104, 265.9768232172998)\n"
     ]
    }
   ],
   "source": [
    "print(dsfac, dffac, prfac)"
   ]
  },
  {
   "cell_type": "code",
   "execution_count": 208,
   "metadata": {
    "collapsed": false
   },
   "outputs": [
    {
     "data": {
      "text/plain": [
       "(250000.0, 217146.33749418327)"
      ]
     },
     "execution_count": 208,
     "metadata": {},
     "output_type": "execute_result"
    }
   ],
   "source": [
    "#These guys are required because we are approximating compressibility in the pressure term for the flow law,\n",
    "#See 'non_linear_rheology' Notebook for more details\n",
    "\n",
    "corrDepthFn = fn.math.log(1. - dp.rho*dp.g*dp.Ba*dp.LS*depthFn)/np.log(1. - dp.rho*dp.g*dp.Ba*dp.LS)\n",
    "correctrDepth = np.log(1. - dp.rho*dp.g*dp.Ba*dp.LS*ndp.rDepth)/np.log(1. - dp.rho*dp.g*dp.Ba*dp.LS)\n",
    "\n",
    "ndp.rDepth*dp.LS, correctrDepth*dp.LS"
   ]
  },
  {
   "cell_type": "code",
   "execution_count": 211,
   "metadata": {
    "collapsed": false
   },
   "outputs": [],
   "source": [
    "\n",
    "\n",
    "\n",
    "############\n",
    "#Rheology\n",
    "#############\n",
    "\n",
    "omega = fn.misc.constant(1.) #this function can hold any arbitary viscosity modifications \n",
    "\n",
    "\n",
    "##Diffusion Creep\n",
    "diffusion = dffac*fn.math.exp( ((ndp.Edf + (corrDepthFn*ndp.Wdf))/((temperatureField + ndp.TS))) - \n",
    "              ((ndp.Edf + (correctrDepth*ndp.Wdf))/((ndp.rTemp + ndp.TS)))  ) \n",
    "\n",
    "linearVisc = safe_visc(diffusion)\n",
    "\n",
    "##Dislocation Creep\n",
    "nl_correction = (strainRate_2ndInvariant/ndp.SR)**((1.-ndp.n)/(ndp.n))\n",
    "dislocation = dsfac*(nl_correction)*fn.math.exp( ((ndp.Eds + (corrDepthFn*ndp.Wds))/(ndp.n*(temperatureField + ndp.TS))) -\n",
    "                                     ((ndp.Eds + (correctrDepth*ndp.Wds))/(ndp.n*(ndp.rTemp + ndp.TS))))\n",
    "\n",
    "\n",
    "\n",
    "##Peirls Creep\n",
    "nl_correction = (strainRate_2ndInvariant/ndp.SR)**((1.-ndp.np)/(ndp.np))\n",
    "peierls = prfac*(nl_correction)*fn.math.exp( ((ndp.Eps + (corrDepthFn*ndp.Wps))/(ndp.n*(temperatureField + ndp.TS))) -\n",
    "                                     ((ndp.Eps + (correctrDepth*ndp.Wps))/(ndp.np*(ndp.rTemp + ndp.TS))))\n",
    "\n",
    "\n",
    "##Define the Plasticity\n",
    "ys =  ndp.cohesion + (depthFn*ndp.fcd)\n",
    "ysMax = 10e4*1e6*sf.stress\n",
    "ysf = fn.misc.min(ys, ysMax)\n",
    "plasticity = safe_visc(ysf/(strainRate_2ndInvariant))\n",
    "\n",
    "\n",
    "#Combine the viscous creep and plasticity\n",
    "mantleviscosityFn = safe_visc(1./(((1./diffusion) + (1./dislocation) + (1./peierls)   + (1./plasticity))))\n",
    "\n",
    "lowMantleDepth = 660e3\n",
    "lowMantleViscFac = 1.\n",
    "finalviscosityFn  = fn.branching.conditional([(depthFn < lowMantleDepth/dp.LS, mantleviscosityFn),\n",
    "                                  (True, diffusion*lowMantleViscFac)])\n",
    "\n",
    "\n",
    "##Crust rheology\n",
    "crustys =  ndp.cohesion + (depthFn*ndp.fcd*0.1)\n",
    "crustplasticity = crustys/(strainRate_2ndInvariant) #extra factor to account for underworld second invariant form\n",
    "crustviscosityFn = safe_visc(1./(((1./diffusion) + (1./dislocation) + (1./peierls) + (1./crustplasticity))), viscmin=ndp.eta_min, viscmax=1.)"
   ]
  },
  {
   "cell_type": "code",
   "execution_count": 207,
   "metadata": {
    "collapsed": false
   },
   "outputs": [
    {
     "data": {
      "text/html": [
       "<img src='data:image/png;base64,iVBORw0KGgoAAAANSUhEUgAAAoAAAAHgCAIAAAC6s0uzAAAgAElEQVR4nO2927IkuZWmtxY89t5ZWVWsE8lhz9T0mGnaZGM28wh6CF3pLXSvZ9CNHkdXegfdSWYjqc1ISmST3dWsQ2ZW7r3Dly5wWoDDI2LnIZBV9X1M7orwgANwOIB/LRzc1cwEAAAArkuYnQEAAIBfIggwAADABBBgAACACSDAAAAAE0CAAQAAJoAAAwAATAABBgAAmAACDAAAMAEEGAAAYAIIMAAAwAQQYAAAgAkgwAAAABNAgAEAACaAAAMAAEwAAQYAAJgAAgwAADABBBgAAGACCDAAAMAEEGAAAIAJIMAAAAATQIABAAAmgAADAABMAAEGAACYAAIMAAAwAQQYAABgAggwAADABBBgAACACSDAAAAAE0CAAQAAJoAAAwAATAABBgAAmAACDAAAMAEEGAAAYAIIMAAAwAQQYAAAgAkgwAAAABNAgAEAACaAAAMAAEwAAQYAAJgAAgwAADABBBgAAGACCDAAAMAEEGAAAIAJIMAAAAATQIABAAAmgAADAABMAAEGAACYAAIMAAAwAQQYAABgAggwAADABBBgAACACSDAAAAAE0CAAQAAJoAAAwAATAABBgAAmAACDAAAMAEEGAAAYAIIMAAAwAQQYAAAgAkgwAAAABNAgAEAACaAAAMAAEwAAQYAAJgAAgwAADABBBgAAGACCDAAAMAEEGAAAIAJIMAAAAATQIABAAAmgAADAABMAAEGAACYAAIMAAAwAQQYAABgAggwAADABBBgAACACSDAAAAAE0CAAQAAJoAAAwAATAABBgAAmAACDAAAMAEEGAAAYAIIMAAAwAQQYAAAgAkgwAAAABNAgAEAACaAAAMAAEwAAQYAAJgAAgwAADABBBgAAGACCDAAAMAEEGAAAIAJIMAAAAATQIABAAAmgAADAABMAAEGAACYAAIMAAAwAQQYAABgAggwAADABBBgAACACSDAAAAAE0CAAQAAJoAAAwAATAABBgAAmAACDAAAMAEEGAAAYAIIMAAAwAQQYAAAgAkgwAAAABNAgAEAACaAAAMAAEwAAQYAAJgAAgwAADABBBgAAGACCDAAAMAEEGAAAIAJIMAAAAATQIABAAAmgAADAABMAAEGAACYAAIMAAAwAQQYAABgAggwAADABBBgAACACSDAAAAAE0CAAQAAJoAAAwAATAABBgAAmAACDAAAMAEEGAAAYAIIMAAAwAQQYAAAgAkgwAAAABNAgAEAACaAAAMAAEwAAQYAAJgAAgwAADABBBgAAGACCDAAAMAEEGAAAIAJIMAAAAATQIABAAAmgAADAABMAAEGAACYAAIMAAAwAQQYAABgAggwAADABBBgAACACSDAAAAAE0CAAQAAJoAAAwAATAABBgAAmAACDAAAMAEEGAAAYAIIMAAAwAQQYAAAgAkgwAAAABNAgAEAACaAAAMAAEwAAQYAAJgAAgwAADABBBgAAGACCDAAAMAEEGAAAIAJIMAAAAATQIABAAAmgAADAABMAAEGAACYwOE6yajqdRICAAB4S8zsCqlcQ4BV9X/6X/+3oBZUgtrz5eGr5WWw9XHVx1UfVv3Xx2d/efjYTEVFxUTkq+ePnz97fFj18agPa/jxMfzp+5tvXx9URMRUJKjcLuvdwe6W9e5gt8t6t9jtsj47rM9u7NlhfXZYbxa7Ceuzm/Wjw/rRzfrRYb07rM+W9W453i3rs3C8tYfw8gf98Ud9eJCHR7l/kMcHeXiUh8f6QUxU5XjUh0d5fJTHRzke5XjUx2P8IOtRzMRM1jX/MxFJB+O/SPnsb2064gvMH9n+OiQHU4n/Px/4FPomcQxO6Q5Zf5aeS8i2KQ1P8YeGV3eB/bcNYt2vlxiRp8v2goIdZMX6nKiKt2hVJQQ5HORwkJuDHA5ye2t3t4+fffH4+VcPX3z58PlX/2Kf/PPj84djuD/qw1Hvj+H1o66vHz7+5k/Pv/nz82/+/Pl3f/56/cuv7MUmty4hM7H1TG59hZdcbt39GUSyiVPbc7poY4AmSBcgp9XnpI12PdcWYmk3cZ5NaFNufYgYyZmU+3RTJN3tOJv/HD5lyZpeQnO+YrD411ZZzd04FTNREQ0SVDSkLISQ/i1LOrKk6meHQ4rq5iZVyJtDjN9iLY3/gkpYZFnksMiySAiiejR9tBD/maio3B/D/VHvj/r6MYiKiT6u+nDUh1UfV02ZNIk5NhERNZOj6Wp6XPNxExNZXambiYnWvjkfjMXxP/z3/+OZgn1HXMkDfvGwFAF+9bh8o3exYq8mUYZV5NHk/jGYiai8/Hb5w7e3ZrqKRA2Oxb2usloQNRV58RDMZDVVlbtlvTusd4vFyn8I67NDkmFVEbFnB/voZn12WO8Oq4oEtbtwvFvWZ8uvD7qqSjATe5D1QY4PGizcmt6s8vAoDw/y+KiLhYPI8Rg1WI+PQSSoyPGox6McH9XWoKJqsq5yXGVdg1g+krqPWAKqlpufBZVF0+dYU4JaCK4iqMSzihTFMvRNMwR/xERkUQlaW2aM1jfnFInvw8206xLWtre1TYO3Tbdo1vcstvZ9xNr1GpdEEgM0YXQcZv9ILvNzpzTfBxZAH4n0educMVDliwKcjnMrw0WJb+TmoIfDcv8Qjo9hfQjHx9988fj5l+HHx/DqIWpwuD+qrfb833z+kXz08TcfPf/mo2ffPLPv/iYvX+n96xrtcZXjMReUioRz/f4lJkYQzV3nCToF8iKxG3HYWHWb8J06qloIEk5Gq5sAWxtoe2SQ29YiWBZZQpsZ6b920XZWkYq1VkXUp2N7f7T9T+x1V8saLIP4Xfeholo6agmaC1nFcpVbgoQkw7YsRWKPUQKjMN/c2LJE2ZPDwW4Ocjho0KjpshxkWWRZTHU1iTJ8tPBoIUbysCYZvj8GETGT6Lw9HHU11dwBdhXzuGpU4tKpRE3Jn5MGm/ODzC6pwO+MKwmwtf/UkvG1qCzL+mwRvZXHVaN5Hsv64aixOFTlENYlaDRYj6aryWp6NFlNZbXV9MVD+P5+Wa0pPvfJiiGbqrQkqY5CpSoh1TTLH5KqRcnMASzqVjiIRvm8SQKpIiEkC2P7d8mCF1Jj78MszZH4wZaQol3KT8GCjE4JfUL+V90kpOVzKPk3FYsGYRLj5NZbsoilfI3/VrWsr+V4jKGGKRU/RxK1ygXY/FuTveoSqtpfohX/VXQbTw0g7SmbkYntV8kttQiwmeYPqTZXr7RNpXYAm0GOHJs2v289IW+Tp+SybVQTDdGRKf1+NNFyxY0fdF1tXYOtN2FdluPtzaPIwUREwtFMjvrquKzHm1Vt/fx3xy++OP7Df3ymj/Lqlbx8pa9eyctX8upVOOaRnvwvlEvOBeJNNzXRVFje9+pRcdKytSTKJ+eHaVGj7Mva9pxSAlEkgnMANd0K89IY7YAYPgQLQUIIm4Uxq5UIQ82D6uBfDmDJwsghUw5b+y66j/Fv/NBkLHZSPnLN1+Iyn/oyNQ2xTB5XPa76aHpc9bhqvnorcR9XPVoOlsO46uZyGP+amkh0gR5XfTzK46qN+xhrQfI/6+lR/45r/WCqZmJHsUddi9EozjmJGhk7FYkf9GhyXLX2+VUvU9VLXbTr2FP5pfKKHnwsUFMREzWRNdfg+NU1vOtp8JUE+PnNcbVs2qwSVGNJBalVNA57LEFETdWChjX37avpGv0/EY0Oq8jRnDmTVdnfuVKfYgVa061yvUexUE2Oqcvdzlbb1jj2/qUkke4DFMmX5IOm6pXqRHZSSxUJrm/Jp1g+YuoiKTF41zY3w1oLSyoqTY3MCdUwS0lIUvxq9VeNNTh3tSlklFt3+6Ik1wxnY7L0JGKitubw8SqiPZz7GR9taNP1Z1lJN0crqSRTnxwD1KZY7bJ8meYiSVFJe8mx4uSiS2Ui3Sn55tY7WyMpjb9YfjW3uecUf6TkUCynWLpZs+BsuHh1Bzkush5kXWSNYZpJkKCiqkEXDUsQu395vH+m9zf397ffP9x+e7+8eDi8fAgv7p/98BBe3C8v7sOtPD4LjzeL3S52u9jNx6vqq2DHQ7D4b1GT43FRW4ItaodgmmqULcGWIEvKtrcjXS3KpmosjnhuK6/myrZtUU08uc1Isfc0jdXUJpUEclGLJuwSksQU1TnG2hQ7X8vqEcISLM5eHRZb1ESS4xX/Hk1V1Rvx6dqcUyWqLlp1HU1jNqym61HWR11NTIOG0FSeHOeazNrcbr1MqoovKRWTNPQaHZU4uHhY7CZY/Csix1Xv4yjuUR+OqRykLXFXz2NW5ZijjQUY71DywF1VD64zOeaz1mgNFBM3F47kPi24zsrbsNGmXfMHyb167pOTmRc7Pd+zVTFOZRabr20d31LCVvJ2aoDnHXMlAf7okCZb1qyUZbRPi1yJarBgEsyC6iGsWYDTKSISW34s6FCMl7aalhu25sZpeeCzK3fJAw7eG8na3GisiasX6cTsF4kcy6/OE/DfvBI3IZK5Zf6r+ZDahC/fSov2MpD6dHdCEW8bRVLPyrW5/No6JH6wWmvXWSJsrY180CdUrAQXZmOjVFXTYSSN3TBMqFxve0qVQzkZZx+m5q1aEsPctureJWT+axutMxq6ME20VahSYymDLmqL2KLHg6wf3xw/uzt+9uxRLcnw88Pxk7vjxzdrdMtU5Ivv//zVX/96/+3Lb+9vvr2//evxk3+8+fr/PXz9z/bRi/vww/1Hr496XHU1OQS5XdbbYEFTkR6CHYIcQtRaOwTxSryUryENriyhyvCSx35KL1mGfzTPNobSXVodneqKNLTVRnOVLb1EmaAsLGJBZBFbTEIwFVmDHFWPWscn0z2OzX+Vg9hN+rfeLHYIdq/hXvVB9V7D/aqPR1Wf4dJ/mLZ9i0SlWU0suavmK/xaBkVzx+VMwBTSd19rOzpaOwpn7ZnrY9dVorjG0j4Ei5cjkryah2MadCwV3kups4dEsgavq0Tf2tVYK/W2nBVl1ftFsV75zBcjS9ua3zXnVaM9nz4Ea9qLjNKtmclibGL+vhT5z2JRFDqG7CrRe+RKAny75GE4q1pWpE6Sntlquvq/kqpd8V8XTUOyufG3VkxKQkt9TQ50HqQsH8y1ljVnqN5YJ8BFkmNb8iGb4U9xMbhhRXMdQqOs7lBnbpkrk+5Xc1+7QZiC9hEWJ7/JRp+R4dFN3vZ+urzCDiPc2iX+ywl7dGum7Ka0sQBGvzdfT5rBzu7Zy8BJLjyj9NfWdEwp9WLyR4fg49vjZ8+Onz17/Ozu+Pmzxy8+evz0bv3k9vjp7fGT2+MnN4+fLLe23B6O3/3mX//027/+9evv7j89/P0nN1//4+Hr/+fm6386fP3t4VPJszyxx1xNxfWwUSmXIEvyifOHYAeVJVRXOM6hLGqlqfqJEq/BwZnU6j6kgZn8tb3k5E+nwnG3KgtJtVqWPImzhFYVVjma+lZWWmj0gG8Xuwl2s9gxa9X9MS1GKfZBGZDwi31cP+CsNq8KUiQ/d03J6a2CmgW4OtZNI9Xms7/etTotycEo00+vHyWoNSJdkpZGcbWWcxqrKyPArrQ3XY+aq6B+XDcWV1/ry30slUE2pMtPSjnqDTbub66utd5azlWcgyh6bCYheWVWp6Sup7/X24ZkYmmcrjiOIiKab5nKKnlE2ixEDU4jD/GDSF49tIS23eYhL++nJqstS/jqhqq6YY3V1W/zPnHjECd8/ZLmYE3dBy5WcDriphf9udLWZW0Pmkg/ddgm53KrTaDuLpSo96Q9jxO4PqTPlbr/l85r2yq8teGd9W7VwzifA7FsOsrxpWUnNec+J9RlPuZE+6GwNulUBr5X3c3tTp5zzgcVScsYq+ayLrfPqtaq1oRrL5wzWKzAwvevlz99nwJ/fLN++dHjl88fv/zo4cuPHr96/vjJzeNnf/v4V3/77lffhs9erJ+8vpfX93a8f1yPPx7txRq+Oy7fHQ9xtPkm2LPDKmKr8+riJFEZ36u5MpHUvpMa5frqRg1VogbEoezqcrkiK3VuVQkiJhJXPJRFhbEaHFcxU1Gt/rRTaJO4dlDLTTmusZyj29pQOpZatnHTg8m9LC9VgtohJM020dVkXfVoqmKralBZk2JVe11yH+IvzMpNN4ujEbXxbsbbtragqOi+Y7Y9rGJBVUXWOEeQhyXiX5Pk4RzN1FQtD31lIXeOuB+AsUVUQzpFinxKo3xlbEajzIuslgvQyh3O+fRDHe19rIUX6172g/tCqM539oC9BrvhOneDbDsaak0DPNHc3zFXmwNei8dWRKisRpP6k+VBY8vDMlbGk0Wq1sYRrTz8VW2ohCtAn1aZJM4dhyb3V2vIopriBKb2dyLS3jlPp8F+fLuOL7kjklOUfKRE66qZC9Ck5Oqxz5vLbYlWcj/Yur31v20/6I3c2i0WFfFiU5Lu5NwlrVkCzZ9VzIW+sg9VsxWqHmd8xDvpc+jEr89J7bXdlETWSPMXKDIyzmu79SF7dhLKv2r9W46b+IqRBkmbeuhmW6RoZB7jEZEfH8Off7j5y4uboM9+dXf88vnjl88e/v2P3/3718/C8XY53i7r7bPb+//01Y//za+/+e8+v/2vN7f/9XD7jw8Pf/zu7o/f3X774yEORHvrtqvwdbhPGymN/WCaLQp13V++V1mMc7Mt99dP2xcnrMYZZNE1ine80ujCPq56FFUpSiAhWJPJdhfAanW0rCl/s2g41PnInIF4i5MR71Z4lEFyzfOGqUprW1LuKmrNLKdo9bqKMZdD5hGu1i0bK7S7ZDNdzUwlpG6z/tOqsqZ5rLFoWMlkUa8S8ypiGgvBBk6zE28tdcMkmKyaO3bpqfZcFvJBf1C7axsY4n70e1N/pF5XO9ShYmbJG1TLbrHE4efrye/VBPjZYS2ule9i1mYOvKpvHnm2PIxcb3lQ0+CVWOL0RhnpUhWvH2kGvlia3vDMVm0N3/SD2zHnWkG0Wq+tiHaniO80tWh9I3g+LXUVrhXCGr/70gpPzVgXuOS2y5KLJ+fNteQucS+BJYeNrGp/luYL9Crof9qess1tNnoHE8l93lxzjcf8LJH0+c/l5iaNunTLvVZpS7m5QLPW2+4w09KRncjJ9gJLBVvNz5/VOlwmWep8iqVmtYrEibqg8uNj+PP3t3/94fDq8NXLh/uXDw9fLw+HT14/f/Vw95f/Lzzeh4eH//LV6//2k7/986//7f/97/7dH7+7/eN3d3/89vaP3909HOOsbL+oypdA8XuSYrlJ8ZCGoOOS++SBadazVN+0ru2Q0nuW/j136BJPUV3EDsFCsCBmkpbIxjU+3qwpnXIoXXydzrQ6KhadUlfu6obWYtJr6pGyBtsgb9mIzx1AWxVqS3GD+a6mldafR6FLIVtqYJYDtHVvbHGuWauy3yJuEV818VUsiK55FL0Vs6zHOT9lsHDN0XZLBdWbUCnPZipq0X/teypx4csNasqsfLIyEtOMA1iOxYtuSEcaDS6NLBuRaXg8mkrmrJztvXuvXEmAS8knW6MoQZxXLx1frmcmomqxiZa591pB24U2ZrLGQatVrN3Mk+/uWlpjV7aln/VruKp2NnJVx/1i/XXtZHzHWjFuFos15pi4/5Qao11EtSg7BfVGwO5gqWsVaSSsjfZJkeSSLFfkNa87o7FMO5Nl+BSE0o8XayCbSvXD4Kza4YpqzpsfUWgCiHbr8sxHYl6MfbHsp1tt/20FkzaSvs9Sa9YJlvGPpkvNqxm8bKQCqbesWg8mJkmWHldNbuKqj6scb58dn3+5LrIenq/3X+gPPxx+eHH45k8f//7/kh9eLB//7vubv//u5j/c3fy93fz96/Bv71c9aFl1VStNkRNpL3+398r9bPJ9811OTnxsv3F2OTvHUuwev0o8FZSqiea103F50fBmFQ0u9dBiNqpZbMUGStWgiGs+VyxujzCvXiXyet99g+qbQm4eefQ+nmNtcy7tpZRtsVnH1b75YKW6dCMWbkdiXrtaN4zUqxaXdGl9mqM1S36+aloJtRmjdu1dkoXhjMjxRTRjxc76rwVnInlKQkT8BOYmksbE8TkpN6HuvvCNyB2RnZb+nriSAN8tcQhBxHW+2QO28lgFS19zj5P73FXMuyPi2tWSp4TdrtZmT+2mcrh+KlW7fGelOhP1tuXuW5r72CioP+4pmuTsDbe4saq4lfDOIx+7olZjzpfg5k5KV9Jkw8Xsc+sD5PIxPRnJmn/yquMLRNomlEcy+iQ0m1nN0FsthHTfm47AzQJ2mSvhV6mDaZq3blsu7TLrr9o1eHMypk6Mm0Uc5kaCSwbK/Ii5CrbJXa5ORe9dCZcOt4SuXmwdMqn33bJDnBbxrnXY2XySbolNefDCw+2nf7l5/vL2d/9y8/JfDv/6d8d//tXyp1/Znz59+PPh5l5vbsKrl8vjy8Pji+X44nB8EW5eh+VZCHIIclgsKrHkmlB0JBZ4yL5mEOtMZHeleYgyD2ItdRRXJHbT8dQyrxQs5NN9yechw5SZsgVuCZarcTOAVAy7VFa5qnu7obT9qkOpGmh0vcqI5djwaq1DrzguoZpi3JfWnej7t3zZbZhNHdPmeKnMlq+wXntQi0pmcUJVNJj5x141MtzkRNc4VGsaUhftKnwrn8UbTrt+1cyS571bJVwb78i2kXW9blcCzqh129ty5YzHrHjzqWDM7wBO6lQL9BpcSYAPIY6zpxostTcvK+xLDdasuBIkjTmUleKlTON/ytOmQl7ioW5c2s9RubolKmneJVftSp2s6lq7NOZh+cnXibIAqvaDJi6F2rPH9Ms4Xq616dZX+7StDl50pWnwauI3RQye85ddDb9muxvfjl1P6Q1HkeS8VdtItHRDXb9QzfzUS+YrEpWyz3VzVineIsNrHvbP93GVttz28hYvOvc7aVlOWwj1koNY2cthuSO2OmjWeGBSs12dg7LwXlNZZkzyTtAY1+rsjzSm4leW+rnSMirT7dyLndFWhl2aKZy0611vljTd92N49qfDb384fPrlR3df3N9+en/7q9d/+lV40KMswQ5L2vh7s9i6rGUf8E2wm2Br2X3rrLFUNHnMNlnGfoXO5hZLqQDuATKlViRTI95wt4aolE+U2DJ/ZKWW5Ktf4qMp+u461ezGkC2VsE6CNgOYa6u+xRv2lT/faxdRcyR99yqVXRLvpm2bkkkehfYVq1xXZ5eISM6k5Kz6scA64mIi0cote2r9JfvnDcRfQ2w7uQS2l9OdFa9vVZHa88sWNz5RK0ZbZNnSKmZrJ8NuwNnluS1Jte3dySWQjjgZvh5XXAUduxs1ceri9MCHllArUGpWlu5jjC2GyjZdbr2F3L3mbs+kc1zqZ90c6bPtft2ECFoXKVg2oqVt3nVlXWk0VVxrwtUlEhH/yAIXbf3eGINWpKJ86MmzVkFzcpIdgRwi503NJedvTTEUVGVJ5+Tqu7mPxRyJl6Nqh5xuVMdUAm7wreSj3N8QZHHmv4mK06ozeXPltroertwyPwwlVhzcKLdlRCHntohfTCgbMSUTsWCXtqvUUkp1nVT6QXNuVZNx6ffOlYvSuglEjmUVYTWe0speDWlo0d3alLuQW52k3TWmIvdH/f718rAe5NVBfzyE++XuGFZXAw/Bbg/rs8MaDo0AH4JlOS8ZLvt80pBDvjrRuEmpjlElD0zzP1dbio1l2YeWusI51ygTU9G6ZcVsdeW25kT9wqvcCxd1KQtNpDy+o/TRrZbUxVZ1QWheUlRX2zrVkTJcm+2B5nZsKkaqPqnHKNovXth8q/RV3leScoGx5FcneLH6drNy4utbdky7vHXDyzHFUIeRzEoYGUweZwHOdmTtK2JUtaZ1Q9CF2iGIFMkvg4O+BEpu/eOPch/i+ufcG6cZ99QFxJEQMykTwOPllu+J6+0DTheZuyG/C82PQq9WOtzqzcQq1Rs+IlLucZbZqNd5r5vkwavkrHlDSfOOhB1bNf9WZNDaDGTVVNd3SO7fy4mlWveWsMt/ja4zzP3aCm3C+dpZUS/tVTP87/WDc7jTwUa4xyu9fep+tCdmJd/fTQ3OA1biGpuUBiB94XfDEtU6dhdYKpK7ovih6eBqKWWrvwh+7DvK+GEezEy1rnQoZRzF8jC+tYPDycLIKRZvuOzm0jwqK6Xy13VVmjvtUg3rxlDv3qVpS0vrE4/1b1md20wPZ+PTVCSthbUiZmXJmEpY7OYgd7fy7JncP1uOcne7fHwnn90ev7h7/Nvt46vgu4hUzPFfyFsH3XbeJJ9lCXE5QdNIVfMo1jrO79zfUux1cMuJnMVtympBoxLbTUhTs2uue2XgJN/oEnnS9dz9+qGO4s03m1jKOiw3JBNNxNo2yxYpETHr637qKHz9l9InqFVDsFbYKh6lReTwjdlSfiwxZ2Xyez0kF2DR4ChCwWTN48mS082Z9boouerqmoZeUuRbj7PrY6MTle6OH4J2l+M2f+8MQafbVN16d9lNzjsh17Yki9deeqr4scqN//laXMsDFjPNxZunVUK+neua1ribpMURqd9Pklx7223JJBvHdbWxXzOxkOpATDs6Aqoqas5qq527qR+VLfM65YDvzcsn76DHhqCbxdNNu+p1VEOuArkNS60c/jJTuZUotBEAH64mtFdo4i3o2HiK0qeDVZ5rS845VBcyRqaum4vBrCbRLPhK1xnjD40EStV7LV/LWaUjqAOVWTVzJVGXf3c5pVCdF5sux9QNhtcuvvhVlob3RTU+R6mMOfer9mpTD0mtu6e+xIyEIJLmCNQtg6i3qSwU2rjFFjQ/L0ksmBxXCWbpoRkmlgY5ypaPeDzEShqTPx719TFt3jsEOy63n37+lf361n64sxd39sPtpz/8639+8Zf/+Povfwj/9Ifln/4Q/vyHw9/9fvndt+GTWIh5+auEtIy5n/Rx/5pZ4eKdZL/fnSgWRGpgLWOSbp6iOHBSG4KIHFdd/SKjsOb1R27lgXPmVAP6FfkAACAASURBVMrsSWx9vhtPI0kq3j5IHvBxTb12udG9+5vuQGdDN6ivmU6vS4WskuYMshJ7vxUu62WNVtM9CqVpRAEu5SNRgNPG3ODejaI1QldcjQDn1QlaC6qeorUyFA0uG7csZanp39Lug2Z4vDE7SgmUCWDrIqkl0fbnm76iMXRia8+9d/5Q78XIynlfXEmAyxO0U/daVVaLjZaOZBssujdmyZ01v7fOj+qUjs8ZQSmMyppWS4qKrVV9JfZU4oVQ1VflWvF7o9PJjLZmWDxoZQlgufj6q6b/uYprPv9WDeE+XXV/U0Il4hRJUc3cmKV45G2hSekmYtXLK5ts2wDKUxdCMRjVR5WVTPLkbmkGlh5qb7mplXSLdRX7QbekJY2Qx00UUiuDz3/tPTX7KMlBqcuJfZl5A6UWX7Jl3OW4VX4hZ75sPTRJj98rtyZuh5O8QSKradboOK8c0u2oYzz5/WgpF9o8za20CF+9Y8kkCyMumTFNz9g3SUoruppF+V1FVNOz06U+F6ndbieiYt/o4fXN+vr2eH/7W/vk45uv/82z25f2w4u7Fy/+4YcX//Di9/ri//jr989+f/jd75f47+9+v/xubfKfiiI95SoONYesrM2iyOz41hHR/DWbdCqiRYzz/a0yHDNfXh+ieXFOsZlWEdWQ19+5xzs0clLG1crjAWrXUR+WWd56Eu0eWUOaaz+amiUbouwYdjW05rSr8KXm+HZt2Z4r7Vtdb5bqu+VbPRT1IsP5lBArRe4/VdsCz6ODlrd3rrlGVscx5aQa1rEiaWz/JqnJ5e6iyL+bO/BmqK35gy8X14rrHu7cxMwHbNdIDiLJ6uuNhkaVxem31XYfSz63uNz/jor5fXG1fcDmuhi3zrl0cLWnkzLUkO+4WPZOU23ejMR06tT9mryu8jm3Q+/Upu5ra2X2d6OkPVxSUNKokWv3S9GqGlayNI/jao630RaXTmyQI3OGRTmrlaedSLSNpKiYukhG9dS1jt4fHZxRqnvKgbb+QX+KtYeyXubo3WRPo9mWjZ5TUWkb7fh2WPUYNC1AazqgMpsXq3Rfkq5PzZZo+75HaW+Kug+5D0mdiab+TkREg6rZUVTMjqYmaU1WHp2OL/FMn8tEcsz2w/GTvz48/z+X39wu9publ7+9ffnbux9/85tXv/n6x1/fvtIXL9cXB3nxXF88Dy+eL6/toJYfA5yyJCpLfrNW3ZIQ0mOimydTNlsEpVHlsmfB/SsDp8meK8VpaTJYNFkwsS9tb2kV9Q5VOYhIMJVk1ogbk6wamQduLJ+1iIUlTgQ0wcrTtbrq7K29+l83zFtk1bSestXp7Lw0jaGpVrWimUqdpY7eqm7en2Yiq8TpA13TC8jazrOYmEXJRFaNlT8toC7V0o/3FhWMVvvqLMJWOWs30432t1dn4te+RTlwXZibZ2ja4HBEOtv00fCudzyPQvejbtfhWvuAS5lqruWxDamY2Sp5vYA69dWoku0QqCX7sBeATR3yXXmvx6VJ5Vag7rh56XD9YHMonubT3857nmwtXfb3W1cvvr4aa/d7lwUtXci2K7A24CbbVuJ3q3L7U05V1e1ZfW43JwxFPTeeIZ1q+lSaNmobM2Yvk/XAyXZYGnBZc6cutzlFMUlvU+yz7SLxgf1PPouWzbUgUnzf3JJE89IkEU3rZILaaiKal1Zo6XP9ouij6YtVjnZYVG7C+k/LTdDP4iOgv7h9/Zu7H39z9+PHh8fbj+zwsd28eH7z4vntCzvm9lguNq+0spAeqVH+ilNl90zm+lAI22hwGZo2r8HtoqfSwFNnKpu3q5UbWIaFdGRRpfngshykuGUikhdz5ctMXU+IjyWRxkH3t69Unr45ihRDsMSZOrTNmEcJkyxI2VriJdp+aWowW7Nu1SdhuZXkaRZDk1Pr13FLTd3aoha1+NSO5BX5gspqV4fly0OFTSSorlE3274vXnouxqjB/spqG7Aon1mGXbuPsViTE5Viofr7nny59LkuhJZkZuX7plfV4CsJ8DHbeG3HkghZd8vxujJN8nK1XOiWGl0zEOoptUlHX/0RcfVbtHyqN2Db++8pyHbjbPNr+0UHYW37ZRuqaeSb8waGwkaebRj2RIXLWdFOlvb6g2Fuhnf9QjYSe9kpO1bT5qfT0Z5X4vg3i9wwcDzutTZTu/byk7lTug+lm069lYiIWy9m/qdYyeIsX94O4Kqouck/Ebk/6quHwzE/6Pi4yh/s7mifHVcJKrfLervY7WG9W+x2WQ9aR7Biz7ik0ebyQDpZQn0AVvaJpbwRYXGb9VXL7G+VXu/1anOkd3F8b6yl+NMAcvWBfHEPbpGVvtvpgZO0tcxx5OHKIjN1MDx38dLut2lqRaPoIq5za7Ihfgi6OG27za1KTo5T3Y4pacf80wr/tNjepDgimz7TWzypzqgEk+ja5n6splvcTW8tWVbfxgfurrfdC765vKgO5td1+19rwY6WX1UBrqOqVWTjlXdifLpje7dcbRX0Kr6LcdPplgcBknWTO5rs8mr2AcRceeWho/3+0dVgHR+x02GGPFVBLrmVZ/yzCxMaPLZyu6DhlHGnIrLx43PrP3HK6AcbJLRnVZzGTp4y7kxr5nZ+tN1oU1fU2Ha7Zt7WaPKtes9ArMFak7T8ZjthBvdGVDUtNpSQJpiDWJyyiQNMId2kJMax/zFL6/ej63xQW5f6pgH/BvWQ33EkIsdVHtOrcEXjE2FFRIrLa+UJ7VF3ix63z8np/y5a3NxWcRu5zQObZU63a7ybfYa1vlXP2PxPIv577sijhJYdU2mFgUYN9gu4crFuTKrNftc61taEi/e3NxBaCRQrjbLft9/913kaRa5y9sJmCqbEH5zDV5R4q6mSHAdbReJzSdrc1iU4m5aRJgsWq5MXPuvp/kYt35n3iZnKkz+DvqVcTvkgzn5qZwPNit0TrYxkNXUuypW43hC0dPUvL4UtRqXkjjEPQYtILp1sa4s1iuC1YVtwY3NKNwG2R07G0Ia49H6ps2HPDnEMl+Pvke2Y0wZyCpvXI+zo/Uk/fueUU7/66LSaUHVMdZTdUSr9p50A5482mRFpL7mYwlrvl58evjAF17rrGPU2dKcWpfz99aoL4P/mqpse6JRUNpiaHLOVelzTQUkrv0yDrKq6WlANqx3z3tYo26uILbKYWUizxcf83nWJprDK0WSRKKVpwDA9RiNqrTa+b8iPZ+9ezFBcsbDv/vpHJ6Z+WZ2zlTrWZvFONxTpWeNWrOzdhq4bT8/rcIUfV57HxVwWg8SytDUHbcaKN8ZW9zWUO+72E1qUldy/+SrR+AM5r/2vzadiRKgl5XbTpWUwoO6Xi2WlqyuHGr/LpDMITEwWTa95qKcUr31H/8rY79JltwlWN213qNV5JPPniDcdUra1+b18tvTf1mqJq5GieaR5YdHPVoC7Cyu1ViVtULJ8t1TSVoxq75Q1q7WM8v5R7dPoExrmZl909wMOLudJetXK6rhbf4Pb30Q72nTkRtRTi6wTu5ePnJfknhK+vWDfwhtndHjOYDxq1NNdSJeT8rfssOzsD1XzBZu3Hz059WZDl+SOxOWkZMYkry4a1WGVOIZm6f7l1qL5ZC0ub3F/gwWTYHKMemwa3z6vQY4mqhLWzdPoLO4dkFVkMVmD03qJdTYu+Y5uTZRYOaiF+s7dpMeHkfoWh9iPP2tRXOkHnP2q2rhkuj4uoymg5B9LFub8IR30lc3yNdVlIu5OSfazi81kTiCjYlY1LVOYJRWrVWV7HzfilBJJgxE11KZNDKXJ3Zc+bKlv9Ro3w7wmkoZPxB1q3BL/W65pFlzDKDGXwJ0Gl37S2tZT1bafFx9coYoUpWyM2XLxJZK+TEqKTdJWoq2/WcnqE/v1t+JKAnwTShNI5LG1KLTeDIwOsRW7Lw8XuCX7omV9a4ylGmzif/DY7g0upz6l7H377OM5RzLKRkH3oj0fZ/rPrqJmG3o3g9sYxoK6ScHby+N0y0MwSrA8hSn1nm5zO8rhzhzBnpz70adh2fqrzpHEtamtGOfy25bAhbesDoHmuSgZinFZOWepZJswzrkpY4xxX1B9BZ9mcc5/sxLbKno0W03TBmK1/Egc6x7MXp6+vh1i7UaP4x7fJT2VPb7ut3GI3byvpJng6ECXIeXN24e0DkHn8neThUW8u2IvF1xvjYnUNwqn/ULlkeB1KWxSFndDpe6qkjgEHcPb4BmtdVBaY8XOTe1J+EbUdkTmJf1EBPkEp3lNw+ymlqug+eT25+lyb6z9LOzorGIE1Lj7lttc72kNtqyaVVm9bVwvfxBJb1/02asdhGvIT+1935wrCfDiJjCy0RELzLZHLJdF7wfXkO1Z205c24K8WFl3Dc1BlYvtbXDH9hPKdSR+0RPRvqEMn2DchnVc3TrnoASILsg4b6PLSZGE3XpdLOUuwoEBtf9TPdiUWy3txi7WbPFtYipi3OV2E0mtfjVaGV9glxOXUJby4jP5hKx2KGXxiGbByIUWZ7Piw31lrYtMVM00LXAVdft2NYjmJ2dpWgttuqqKrGqatieZxcHsuJJa+q6zCHAZTy5vG0w61y3FymHq1G/c7BuaHbd58U5R5Wb8uTwTsfQams0RbUu3jgzXEs2PgxCNg96aK2R5pcS2dlnaZ5/qZtyhbmbBvayllbxkNm0V1OetSULGdUab/5yqXTKySrP11lxUGeBNA67OybE2q03+/bis9q5Rl67PSeqS43BOXu81zn8zKjAOEm9RbwmWq62nb/K/04PWVqn19lvN9/Ck98LVngWd+8ayfcJtbxmKcVoIXUqkOB/aVFy/fFy6hQoXSO6ldqoLZ9tfLo3Fd9znjIJieF4Yd5/OxUFcm9k7b6hUg7xvq3x7O/pT2vR29LANe/bSNm0vNbZBTtyh7cDvplPrPg3uzuYCbZuT1CV1kfjoU4XqBD6+3CbX/ProAE3HVcWCyCq6RtFKMqyqpqa6xkcuWHl0ZcgfjvlZx6tZsOxYxw0ko9u3J8BuG1I+onsTwPmpTOI3GvnnP1evt4h0WYolVUukNH3Xj9cjseR0U5GiTGp8bPhAJ8WPZ6abkm+e5uXmuiN+Y6VxTaZpbq5+eCHcZurEZFFzVpmz81ub3Axr6lCdk2NtJOUUaS2GvLDSjWZpe0WuaudKnBfP+h4/X2y5+nqzhtdofu3V4LkM2xIo+W/uTn9fvE/YNP8nroR5K64kwMOl4+WLH9/Li1bykXyj8od+oX+qu+WscvxcT71reL4dlwnEJQGb8IPQA0Pg7DlnguimEEZxnCkn3XzZvRdPKXG94JRdF+FsxXBraPcjcdFZn53urG7VTA3svWf3YoYSSTvW7WKOy0Alr9tMjaWsYUzecNTPYLrGRVX5+QmrFvWtMlyGo/PBONAatyRsRr/zhyy6dTlVmuttdhwN5n2XGrjOR5anPeQHcbjHQDrfN6tyrKLWuk3iB1dLIZevXS+/h3ehupVBlv6X153UMKNoh4bj6MdS3/qDW0vuXG/h85C3Nqk4UyP/NXUOTBxPbky9PhtVhnNls7KJNreBRnTV3Y4ywFO2lW7LJN/K8RLoGK+1K5YHkbhC8J/F7z3ODamZa4hNzD/s4Jrye73XES61Lxl2Vfm41kXOdSFpNhWL15uXDko8RYowu/gHNuQ4b9sbuR/2zOnDZN+MrusbRLsnofsB3sDmGAU4XzZ9pt6gWJ8WNid05kStmTkZ+9mkNy+n2Zyy3fLS/lys+WHfWupwiWS7ZcL842uiZJYnMFh65098redqsorlR3BUf3epT8jKGiz++dXjptEtVF7Kwiu36ips9LhOG4fyzoZmrnejxG4IOiuHd5XUO1udBjsp9QdP1HZvYBXFynIiscyb/Sp+1vO0rvdfB4W6kUC/6CrrvHR1yfw52vzQVJVqiJRLs3Q8rrlzqdcEtuuqLFW69GrkvhCyjduIcV4kWz5sy6Qp55MrPJwf3BVB6SJ7U8D9VALXxeHmfypfBvs53yNXEuDg24oMlDJP8Vb/wPI66Vz5Ns8TzrW3dlLFJBtmYiT/F7LnFZ2JzU58e7PEN/Xz9Gbo0Rln03grrP1v1zucze2pKJ9+Sl9y7cKqc1GfqEXiGuyZc8eX7DKYPZVTUeWlinlGRjdH6tbP1coHKVtXo2vrPF1bTVcVJ8nxjQ5m4lZjpSsof03y6367jUNVfd2HUBdk+b2/tuSXcORJ3/pULHWPtlD3a5be7mFYbkS6lrf7q9LUxHzWsJx1802lpJtFyJVII/OlE9+rEvkn9edkl8K2v9RoXUU7IfUu8m4uL964WmhZlS1fULcctOSj67M12XnRh1YXJuewbewuoZSf4bpTbzPtXV5cC7QR/Y3hsj8nXZLwt8j6D/72XonrvQ2p+y71OtXaxzLnD1bPNC2GiTU/V/zgRLZU2zCD1f1vpccn2lpJcXOo/vBGSe+cVErvXQjpW9ko9abWn8ZjdLtLlk40gKfsjx4lpF3j3c/Jlu4Cn1Z53PLpzVk1J3Yy2rwHz43ElcDJZ80ubBTd5P6qieV3N2002I08r9ZIb3xOe8la6Y7duuXmLQtpire4v/650DvPm9SyB0mK7+sfglFVtl1DVPvrLkx3i9znxiTbntLeq1KuWspWRcQ9/cN37n6Q0/KHQaQ+h63M1uG7TeVvu5BLTIcsrukyUnGlm1g0OP1V3alxQ0mr8mV5vGEjut7S1XpGP2Rk/SkXyF7azD7oX3cFeHBp2v5p1s0NDPf3zLWGoMPgmsr7CNpRaPehTOqORpjzEd0ckXpKk1ybhuyOimwCjvATzmfP7buGQUUcx/DUqnCyFr9VvbLBx5qabn5tm8lGWU8UnuwL7fnDg7yFvvfqHZVNTi4tqE20uzGWIJuqfnGcLopc9+rWgCS66fWulsUgv2xbTMoEcH5JnDXjz0meJXnWOYb+QpLnKnlHUHnQf54STlrr1jzn5z/3T8LyI8xuqNmtgm7Ut/d990q5/Jo+S+qXvTccn41YuoveJ1ZZYkLppVN5G5JTVhM3rJotqDIwbtvmUHO3+TSwA/YV8TI0K8yeRavuP8PMDhuItt3vnq3QnJJMgH5mNTfKvkTG/fBWI0dcouXN1FC6+zVaXyzX4bpD0D1WfP5uJ4ZIWsvnrclBGGkDWGewDYRub4rdNp3NmV7Yt+f8fRDt6NCFCe32MW/HefEfslewmzxuLPk+bG1Ru/g8XlAEZ/O2H2B737dhnpruePJ0py/sb8eoO/SNojgZpXrkPQJpg2bUiSgYcalz3KAU6josr771X8jbcpL6pj2A2mbKT9bGbbsW2nHmZSPA6sU4S3WOpBd17UehG+mVRpU3Lpq0Tmq9Cd4RbOcfnJKUU7wpX3x9Ke8SziN2PiHfCZT3I/lb6S2A9haPVXnLVvM8TeZzHczpjhppfZivbkcCxgmNnx40MNOaU9pzSvMf6+UwJ1X5+wz4MvHleLZR70b7Vm7Kk7maAI964WL65aESSd9SuTbSa41TO/qgbcNpA2gbehvGd9WbvXEXcPHor8vJnn16KpmnBL4oJ9Ipxptr/gWXk9PR/sCJU97JJe9aDOdyssnxExIqB2oFO18Da93odCGGsTaMlIN+n5KWV7LXdVWriLrdR/5zWZmVHGhL/aa5Lqp0l/7ZVdo+l6N72KRfKV12H7XbjdpX9pZJ3yyWbqp4uwGpGVktxbS7ONmTLiR9zk1/ZJznzTdFKmKG84mdkZwXv+9VWafBbef/5o2ute9cVlRij5lLrH0KR86rpY1sTVynoo0/Wg2nmxoyyEk3+eLbQr5f4stkG882kkGQcU50c1aTk2HersUUD3gjk+qPpppeAuV6MirE8puINDMp0ny0emf27984ki1vpgfW/Genpr5RzDuR7HhnQ07fnbfNyU46b5rSe7JQ9zMzVs4Ls9FH+5TbksPEWq7uyMByd/1p+pZHocWKGMftSWmZtPoHYOWvzQYk2+ymKgrkR4+371coetwdrLuMWve3aHB+CGWdrSzjumX9szgxdh96gSkZj0rUFf/Y/erO1bxpZxRt+aL9T+NBlYHZZ+2fTYBOcM7mpISzpDrONHGllCtUXsg3dDpH0dY/+6ckRz+vshY3+9vnvzUwtYm2re3xP36z0IjtPS2b+uJp1kWbLIB31uO9Add6ElYYPL+sUDVDpbT6eKAUufWBY4DmqUXeHG2S0+bETU42PexoudYg9R1OhRlI0MXnbqJ4gp1w0v16YgaexpkIh/3fe1blPUHceVqpnfh2UdKbWM+fsl0Y456/2/VDbcW2Mj1sUnciRU0t66Ldw5+Ti1zWTvt9wH0mqhfonhkpdVlWXsk8kGG/Ykvr2mb3El/tY65+8NbTLUfqZzfCvPVn9vcguaVb7Vm1KzfZWZTg9WLjMu4lOPDSTkR+ep3K6Kfqk27unhXfPX7Ni7BqgD7OXAiW/3O26m5MnPTkMLsg/65MvPeUMzf2LUapD02rXDDWppWNzAv71XfMFT3gjfZsu7KmbnrR7Q1G9y0XZ2/dtJKzqVn+Do875JOn9FlvLuPUjy07enxh9BfNj55IbhPd++NpcW/zefH5b2YhdT3hqZa+U+Sn0n2D2nJKs8cGgdUmE/eWxMZha/ZoTZKPm2W4eeyzfxB08X5rV+WzVkUxiajfFuyebBU/lM1F25f79lO/W9EdvBZ+I7p9gbmXJomXgearLzz1MucvVusgs9+C0b2KoC2fgRIXDeoZanVnBDYG4k5Fak9xnV+r3oOaq1acGBmm206oW415kNXt6epyozLo80/pZRvGcnKDxrvJ/+luUdtI8lU4v++Kz+K48hxwU0hbE7vpZZx50pzSYq6+1RjcmPMmkU263TjFDs1Zl92gcVwnHKon3PfNJb8d7yqiE3GcKt8z/sUT5oHLSWfP2FfZUqU2I7BvxOmy1Xd1B/N4sd8MY83fZsC5anA8d+P+WrsSQkXKE6bKaHAZK86vNurU1/3U+76bdc5ZZcu4dE5CyvBy7tabZ27EO6VDgfHl7KTazxO360+aM9xfJ8b7D2oY/hDLbU9ix3HtXMmpWe1Bbgaruxs5L73jyWh9gyqblhq7Z1Ty42a4o6DdKacZmRGnfu0u+XRaqak+cbfj23DlOeD+wrZPeOnFsr+TfdkUr7hR+Ea8R2/oG6R7vtC7szYn9Ld1eJu7SC6pdqOc1WMXVtzTl9d4BvtBz5bRJjN7ZdJaQCeqQe6IL83Bbk62qZ6P8WSPMY52HMlJ6+7d2NvpMZR1baup19Qkw3HhVRBZVYJJfM+8aXKOk7j5R/huEmmGhYsj6z74xVnq327kdi61bm7/0gXNQ9Cy0WAp8r/zeVi2wxd2xfBBZOvwnL7v3ijpfSltOpJTd7at2IPx1berFqZtJ7PxMs9X2m2cEqvZKPAm/i6eE+L3pn3ggAsFeC/OeCHvZtnnZczdhpQ4K8MujHcnelUfi7d/Qkd7g2zn5pwu/+FZ5r+4vO1yYde+CfSWdeOi00/n/WnyPK7k4zA6/HVw9psXwskz33u7ezdK2+JroH+MqzYfqh/cPBsrHSxH4hn5yerDEsnOqBuILo+T1E5xpZkVVvWOskjztA0v7c1jm+qQcifA3gm7SIPr5+7XqoLdKfnEvQdryGjHUcr3yMLuBNv/ZjoI3+TpBO2l1c3KzlLQJqwb29j12sfZbjT4nOj6FHa9Sm9CtadsIzntPl+Yk90juRN/2kjD23G91xHu/dT5Otu6bm1dSN1KOXX3rC7aXuT7M0aFPtjBdu6sbUJnORN0J743UIt3IzD7AnpZQs1Qxfm4zkX0NC5oWte0f5/Ktms4UfMtr2csM7v1SZPxkfqWHne1eQGDuVa2yYOIFA+1urBVOPOiKuue19Esda46alsNLqJbVNOL7nbBc+fX+qdlbQOMr0iSQdAc1+ZDV9RDt68munFtI2PB7g+4bio1/74D7U5qRps3j10rF9grnDWD4wMBa0cOTNLD+puyPZl/KV2itza2F9KN0m9yso1ky/Yho2f7qk5c5OrN/2qvIzw/npO+tTsd46cd19aF2t7dxqPVaoBtfNVN8E3mdk7Zhi5eyF7Ub35zd2re1oK7hHdcx5rCH7qo2xb3tll4j81k4w9dn7N2wnCwwJo6Ho/El8elic7ygA5zGlyePVledGO+wm9KoV2KPJDP+vbA6hDL9uHP1c11U8tFO6vK+tlf7y21rzzaK8PSvw8O7pTs2JHSKhJ9oxsoUF9cw5/6qNpAXf53BiTa87KERCOmz8km8jeLtvehc7Qb2yMHK8v2R6MCzdf9G7ONZBzDKJJtIbihDlfNo0N3RfdXPpAhaIerD27R21gv27I8IdJPi3bLpTLsu6yNYflOZPgkZ9buXZbqW+ctXX1fCOMULjErzibWcIF//hNDm/9sf7Kd72pW3xtm6VFZEvKUcFXi/DeJtP8Q6Ty/zVysahmXdi/u9dt8pRPj3QXPOf7qwo5mfHPr92t0T2w02nw6IcPWpjiIqktId2rYeYetBqjdU5vDbdKXoLq5d+eu6MJoN1G6SHa++s7vtLad+LHpMt40km2wvie6rvRGPjQBTlSxy0W1GTrIlP6pC2NOpC+OVja9Tf/x/CkjH9Dk9FDPkKcqx24X7T+eW2z2rvI2KITLo9H6+9vn9s2a1baXufysd5KBQSQnfalNTkarsTRNA5tqfEi0xaVbavFgfeNeGfST5nbEryrVQ1XJi4qL3LZurhPdrfSON/t2cru35tZ93dnC7bqHjSrs1qzOvDjPiaRjyWx+6XuM3D9cKAOX5Crf+idFe0mXc2qJ8Akb6NxZp5Iu9/9tInmzaN8313sQx95Pe4Z2E8ZZLNsnQos/bO0p24S8J9qasiNl3fjXe9GeZcdTf8qphUu7dD9X/sRTL+W91923KLcPmSeZ6t0JF9ZB98KGshBa8998JK/ASgpdT5EycD3IUrMLaPCKwO546IW2HWu19wAAC05JREFUPuhKBl/Fz/KWLUO99Ob/9Adlf8Lr5IaZ9lECTYDhcM5p4S+MLLlN53TOtNqr/GcS1xP91htH60YTT5y48THfJK0+kt352fORbLkg2itwLQ/4kkAnbRjnzvp+YWtcimxK1LYBNiltH6C/PWtzynk2nvqbKMnmjPOKOsj8fnRvw3uvu13XNScT74eTW1e1/9pX+Qu66VrN00MBk+52m33d+4PT/zSv3jqVbe+h7ni0/cJm/5JBqd5ze8QnIVKX52y92E0BbtzcQTme8NKGZ0i+lvi5E+OzsZWz9qT6xAak3YZ7cYX3vu8gSxfENszD8FIGF9g13rE1txuh/62m+2aR7ER7Km9XYcrLGC5leE5W4pHSNgGaKAbe7a4foYOqfnJE8glKbE+tJtt4+hZxub38puHeXwTvK2m91FB/p9ew4z+9g8hyTznu+Nzn7mqsftCyhW8w71v3CkcPuF8F3Q+Zxr/FAR1sH/Kq7I7kr1kIu/couLcO56ONLraKsRXmsQS03bYOw22ubiee6Ev0leZkRWs6pKFKWX9jN/ZzWxRtF3UiJ62m6yba2IM+pd6WjLgecZzbJlfRbBl1uWdvR5MfG7eBYSR7sQ5v3pXXXhXmD0HvsdeVlJozCHQyhnGAHQW/4Mw58vMGib6jfLoa+kYxnrRhTp31pFN+os6w5x1er1PQUmVL79m+h3u8uGH8LoKNKJo2v9blVDJS024fUefLDn5tA2yz0Ytcm9wufZxNJC7UuJBPp3LivmzDhzd4H8BWb4oYPsVT7oXnxKhMG+2FF2jDVIaFdkm933W7aoCz0dQAbZc0peu4kgC/erxoEPqJbJtPz8+gO97jyt7dpcnD1bnwVoxMzb4v6jjrnZi0e++0fb1O/rTx5k/5G9u52H2/9kQkF7GJZ1AMZxvUJN8Jfg5cSYBfvxcBBoAPiXfzFHsUDX4pfKDbkAAAAH7efNCLsAAAAH6ufEjbkAAAAH4xzH8WNAAAwC+QqwnwddIBAAD4acAiLAAAgAmwCAsAAGACeMAAAAATuNYc8HWSAQAA+InAKmgAAIAJXOtlDLjAAAAADjxgAACACbAPGAAAYAKsggYAAJgAQ9AAAAAT4GUMAAAAE2AIGgAAYAIMQQMAAEyAIWgAAIAJsA0JAABgAld7FjRD0AAAAJUrCbAYAgwAAFBBgAEAACaAAAMAAEwAAQYAAJjA1QT4SukAAAD8JMADBgAAmAACDAAAMIFrCTBj0AAAAA48YAAAgAkgwAAAABNgFTQAAMAE8IABAAAmcDUBXq+UEAAAwE8BhqABAAAmwBA0AADABBBgAACACSDAAAAAEwizMwAAAPBLBA8YAABgAggwAADABBBgAACACSDAAAAAE0CAAQAAJsAqaAAAgAngAQMAAEwAAQYAAJgAL2MAAACYAB4wAADABBBgAACACSDAAAAAE7iWADMJDAAA4MADBgAAmAACDAAAMAGehAUAADABPGAAAIAJIMAAAAAT4ElYAAAAE8ADBgAAmMCVBFgRYAAAAAeroAEAACbAEDQAAMAEEGAAAIAJIMAAAAATYA4YAABgAnjAAAAAE0CAAQAAJsAQNAAAwATwgAEAACaAAAMAAEyAlzEAAABMAA8YAABgAggwAADABFgFDQAAMAE8YAAAgAkgwAAAABNAgAEAACbAHDAAAMAE8IABAAAmgAADAABMgCFoAACACeABAwAATAABBgAAmABD0AAAABPAAwYAAJgAAgwAADABhqABAAAmgAcMAAAwAQQYAABgAggwAADABJgDBgAAmAAeMAAAwAQQYAAAgAkwBA0AADABtffvm6rq+04CAADgXXEFZZTrCDAAAAB0MAQNAAAwAQQYAABgAggwAADABBBgAACACSDAAAAAE0CAAQAAJoAAAwAATAABBgAAmAACDAAAMAEEGAAAYAIIMAAAwAQQYAAAgAkgwAAAABNAgAEAACaAAAMAAEwAAQYAAJgAAgwAADABBBgAAGACCDAAAMAEEGAAAIAJIMAAAAATQIABAAAmgAADAABMAAEGAACYAAIMAAAwAQQYAABgAggwAADABBBgAACACSDAAAAAE0CAAQAAJoAAAwAATAABBgAAmAACDAAAMAEEGAAAYAIIMAAAwAQQYAAAgAkgwAAAABNAgAEAACaAAAMAAEwAAQYAAJgAAgwAADABBBgAAGACCDAAAMAEEGAAAIAJIMAAAAATQIABAAAmgAADAABMAAEGAACYAAIMAAAwAQQYAABgAggwAADABBBgAACACSDAAAAAE0CAAQAAJoAAAwAATAABBgAAmAACDAAAMAEEGAAAYAIIMAAAwAQQYAAAgAkgwAAAABNAgAEAACaAAAMAAEwAAQYAAJgAAgwAADABBBgAAGACCDAAAMAEEGAAAIAJIMAAAAATQIABAAAmgAADAABMAAEGAACYAAIMAAAwAQQYAABgAggwAADABBBgAACACSDAAAAAE0CAAQAAJoAAAwAATAABBgAAmAACDAAAMAEEGAAAYAIIMAAAwAQQYAAAgAkgwAAAABNAgAEAACaAAAMAAEwAAQYAAJgAAgwAADABBBgAAGACCDAAAMAEEGAAAIAJIMAAAAATQIABAAAmgAADAABMAAEGAACYAAIMAAAwAQQYAABgAggwAADABBBgAACACSDAAAAAE0CAAQAAJoAAAwAATAABBgAAmAACDAAAMAEEGAAAYAIIMAAAwAQQYAAAgAkgwAAAABNAgAEAACaAAAMAAEwAAQYAAJgAAgwAADABBBgAAGACCDAAAMAEEGAAAIAJIMAAAAATQIABAAAmgAADAABMAAEGAACYAAIMAAAwAQQYAABgAggwAADABBBgAACACSDAAAAAE0CAAQAAJoAAAwAATAABBgAAmAACDAAAMAEEGAAAYAIIMAAAwAQQYAAAgAkgwAAAABNAgAEAACaAAAMAAEwAAQYAAJjAYXYG3hZVnZ0FAACYgJnNzsJb8dMWYFX9T//L/64qKqJi8YPEr2oqm68xQPs1h0mnR0H3X1VEcmz5oIk7PcYm9auomLjTY2ziTh/krX5119J+3ebtgqyKlADd15y3k1kVFeu+5nSfntUYoGa1+XpBVvPV7eftoqzu3jg7k9WmwtQbl0+xp2W1qTC5UrWVZJxVlzcRkdgHnfhrIvKGf9UuiP9tU39fmRcTfe+Zv+DvW+RB3z4PZ1J5j5kXM32fmdf/+R/lJw5D0AAAABNAgAEAACaAAAMAAEwAAQYAAJgAAgwAADABBBgAAGACCDAAAMAEEGAAAIAJ6E/6SSI8BgsA4BfLT1q/5Kf+JCz56d8AgF8Cqj9tW/8nxC+nqH8GDhhD0AAAABNAgAEAACaAAAMAAEwAAQYAAJjAL2W6HgAA4IPiA/WAVXVvhdv2p0uOyM9iyRzAh8OwQZ1ouSfiuaT9/mJ5Umf4BrF9yKX9pIx1F6KO95C1d8OHuA2pLKPfrqff/nTJB0F9Ad4pe+q713JPxHNJ+/3Fckln+Daxfcil/VT13V7Ih3ZFWz5QDxgAPmQu79qe6oJ8+J3mh8zPqbS3Bsfbu/sfGj9DATazWO7e/f2Q6xnAz4O9phePl2CX9Im02ci2SD3bQdefa2m/waVZ5kPW4J+hAJ+4VR/ynQD4qbPX9J7aEj98PbgawyItvJPSlizz7yjL74s3u7QPnA9xDvid88FOcgD87OkaXezrT7RE2unb8DMu7Z/lpX2gWYx2zXAMufvpwiPyE7kfAD8VTqx2PNsYu3ikbezlJxqsvHVneDq2S06ZyOmL3QaWn86lRdAkAACACfwM54ABAAA+fBBgAACACSDAAAAAE0CAAQAAJoAAAwAATAABBgAAmMD/D3NJ4PEVDhGuAAAAAElFTkSuQmCC'>"
      ],
      "text/plain": [
       "<IPython.core.display.HTML object>"
      ]
     },
     "metadata": {},
     "output_type": "display_data"
    }
   ],
   "source": [
    "fig= glucifer.Figure()\n",
    "#fig.append( glucifer.objects.Points(gSwarm, densityMapFn))\n",
    "fig.append( glucifer.objects.Surface(mesh, finalviscosityFn, logScale=True))\n",
    "#fig.append( glucifer.objects.Surface(mesh, corrDepthFn - depthFn))\n",
    "\n",
    "#fig.show()"
   ]
  },
  {
   "cell_type": "code",
   "execution_count": 158,
   "metadata": {
    "collapsed": false
   },
   "outputs": [],
   "source": [
    "############\n",
    "#Build a weak zone\n",
    "#############\n",
    "\n",
    "\n",
    "def disGen(centre):\n",
    "    coord = fn.input()\n",
    "    offsetFn = coord - centre\n",
    "    return fn.math.sqrt(fn.math.dot( offsetFn, offsetFn ))\n",
    "\n",
    "depth = 200.e3 #m\n",
    "angle = 20. #degrees\n",
    "num_circles = 50\n",
    "half_width = 5e3 #m\n",
    "\n",
    "\n",
    "xpos = depth/math.tan((angle*math.pi/180.))\n",
    "start = (0.075, 1.)\n",
    "end = (start[0] +xpos/dp.LS , start[1] - depth/dp.LS)\n",
    "xar = np.linspace(start[0], end[0], num_circles)\n",
    "yar = np.linspace(start[1], end[1], num_circles)\n",
    "fnBuilder = fn.misc.constant(1000.)\n",
    "for i in range(num_circles):\n",
    "    circ_dist = disGen((xar[i], yar[i]))\n",
    "    fnBuilder = fn.misc.min(circ_dist, fnBuilder)\n",
    "    \n",
    "sig = half_width/dp.LS\n",
    "gammaFn =  fn.math.exp(-fn.math.pow(fnBuilder, 2.) / (2. * fn.math.pow(sig, 2.)))"
   ]
  },
  {
   "cell_type": "code",
   "execution_count": 159,
   "metadata": {
    "collapsed": false
   },
   "outputs": [],
   "source": [
    "testFn = disGen((0., 1.))"
   ]
  },
  {
   "cell_type": "code",
   "execution_count": 160,
   "metadata": {
    "collapsed": true
   },
   "outputs": [],
   "source": [
    "weakVisc = 1.\n",
    "weakzoneFn = fn.misc.min((weakVisc/gammaFn*1.),ndp.eta_max)\n",
    "combmantleviscosityFn = fn.misc.max(ndp.eta_min, fn.misc.min(mantleviscosityFn, weakzoneFn))\n",
    "\n"
   ]
  },
  {
   "cell_type": "code",
   "execution_count": null,
   "metadata": {
    "collapsed": true
   },
   "outputs": [],
   "source": [
    "\n",
    "    "
   ]
  },
  {
   "cell_type": "code",
   "execution_count": 161,
   "metadata": {
    "collapsed": false
   },
   "outputs": [],
   "source": [
    "#velocityField.data.max()"
   ]
  },
  {
   "cell_type": "markdown",
   "metadata": {},
   "source": [
    "import matplotlib.pylab as pyplt\n",
    "%matplotlib inline\n",
    "\n",
    "\n",
    "\n",
    "##################\n",
    "#Output functions to numpy vertical averages, maxes, mins\n",
    "##################\n",
    "\n",
    "viscmapFnmesh = uw.mesh.MeshVariable(mesh,nodeDofCount=1)\n",
    "out = uw.utils.MeshVariable_Projection( viscmapFnmesh, viscosityMapFn)\n",
    "out.solve()\n",
    "\n",
    "\n",
    "#avDf = ndfp.evaluate(mesh).reshape(mesh.elementRes[1] + 1, mesh.elementRes[0] + 1).mean(axis=1)\n",
    "avDs = ndsp.evaluate(mesh).reshape(mesh.elementRes[1] + 1, mesh.elementRes[0] + 1).mean(axis=1)\n",
    "umantle = mantleviscosityFn.evaluate(mesh).reshape(mesh.elementRes[1] + 1, mesh.elementRes[0] + 1).mean(axis=1)\n",
    "lmantle = lowermantleviscosityFn.evaluate(mesh).reshape(mesh.elementRes[1] + 1, mesh.elementRes[0] + 1).mean(axis=1)\n",
    "eff = viscmapFnmesh.evaluate(mesh).reshape(mesh.elementRes[1] + 1, mesh.elementRes[0] + 1).mean(axis=1)\n",
    "\n",
    "effMin = viscmapFnmesh.evaluate(mesh).reshape(mesh.elementRes[1] + 1, mesh.elementRes[0] + 1).min(axis=1)\n",
    "effMax = viscmapFnmesh.evaluate(mesh).reshape(mesh.elementRes[1] + 1, mesh.elementRes[0] + 1).max(axis=1)\n",
    "\n",
    "###################\n",
    "#Plot\n",
    "###################\n",
    "import matplotlib.pylab as pyplt\n",
    "%matplotlib inline\n",
    "\n",
    "fig, ax = pyplt.subplots()\n",
    "#ax .plot(avDf, label = 'diff')\n",
    "#ax .plot(avDs, label = 'dis')\n",
    "ax .plot(eff, label = 'eff')\n",
    "ax .plot(effMax, label = 'effMax')\n",
    "ax .plot(effMin, label = 'effMin')\n",
    "#ax .plot(umantle, label = 'uman')\n",
    "#ax .plot(lmantle, label = 'lman')\n",
    "ax.set_yscale(\"log\", nonposy='clip')\n",
    "ax.legend(loc = 3)"
   ]
  },
  {
   "cell_type": "code",
   "execution_count": 162,
   "metadata": {
    "collapsed": false,
    "scrolled": true
   },
   "outputs": [],
   "source": [
    "#fig= glucifer.Figure()\n",
    "#fig.append( glucifer.objects.Points(gSwarm,materialVariable))\n",
    "#fig.append( glucifer.objects.Points(gSwarm,viscosityMapFn, logScale=True))\n",
    "#fig.append( glucifer.objects.Surface(mesh, ndfp, logScale=True))\n",
    "\n",
    "#fig.append( glucifer.objects.Surface(mesh,mantleviscosityFn, logScale=True))\n",
    "#fig.show()\n",
    "#fig.save_database('test.gldb')"
   ]
  },
  {
   "cell_type": "code",
   "execution_count": 163,
   "metadata": {
    "collapsed": false
   },
   "outputs": [],
   "source": [
    "#ndp.SR"
   ]
  },
  {
   "cell_type": "code",
   "execution_count": null,
   "metadata": {
    "collapsed": false
   },
   "outputs": [],
   "source": []
  },
  {
   "cell_type": "markdown",
   "metadata": {},
   "source": [
    "Stokes system setup\n",
    "-----\n"
   ]
  },
  {
   "cell_type": "code",
   "execution_count": 164,
   "metadata": {
    "collapsed": false
   },
   "outputs": [],
   "source": [
    "densityMapFn = fn.branching.map( fn_key = materialVariable,\n",
    "                         mapping = {airIndex:ndp.StRA,\n",
    "                                    crustIndex:basaltbuoyancyFn, \n",
    "                                    mantleIndex:pyrolitebuoyancyFn,\n",
    "                                    harzIndex:harzbuoyancyFn} )"
   ]
  },
  {
   "cell_type": "code",
   "execution_count": 165,
   "metadata": {
    "collapsed": true
   },
   "outputs": [],
   "source": [
    "\n",
    "# Define our vertical unit vector using a python tuple (this will be automatically converted to a function).\n",
    "gravity = ( 0.0, 1.0 )\n",
    "\n",
    "# Now create a buoyancy force vector using the density and the vertical unit vector. \n",
    "buoyancyFn = densityMapFn * gravity"
   ]
  },
  {
   "cell_type": "code",
   "execution_count": 166,
   "metadata": {
    "collapsed": true
   },
   "outputs": [],
   "source": [
    "stokesPIC = uw.systems.Stokes(velocityField=velocityField, \n",
    "                              pressureField=pressureField,\n",
    "                              conditions=[freeslipBC,],\n",
    "                              fn_viscosity=linearVisc, \n",
    "                              fn_bodyforce=buoyancyFn )"
   ]
  },
  {
   "cell_type": "code",
   "execution_count": 167,
   "metadata": {
    "collapsed": true
   },
   "outputs": [],
   "source": [
    "solver = uw.systems.Solver(stokesPIC)\n",
    "if not checkpointLoad:\n",
    "    solver.solve() #A solve on the linear visocisty is unhelpful unless we're starting from scratch"
   ]
  },
  {
   "cell_type": "code",
   "execution_count": 171,
   "metadata": {
    "collapsed": false
   },
   "outputs": [
    {
     "data": {
      "text/html": [
       "<img src='data:image/png;base64,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'>"
      ],
      "text/plain": [
       "<IPython.core.display.HTML object>"
      ]
     },
     "metadata": {},
     "output_type": "display_data"
    }
   ],
   "source": [
    "fig= glucifer.Figure()\n",
    "#fig.append( glucifer.objects.Points(gSwarm,tracerVariable, colours= 'white black'))\n",
    "#fig.append( glucifer.objects.Points(gSwarm,materialVariable))\n",
    "fig.append( glucifer.objects.Surface(mesh, finalviscosityFn, logScale=True))\n",
    "\n",
    "#fig.append( glucifer.objects.Surface(mesh, strainRate_2ndInvariant/ndp.SR, logScale=True))\n",
    "#fig.show()\n",
    "#fig.save_database('test.gldb')"
   ]
  },
  {
   "cell_type": "code",
   "execution_count": 177,
   "metadata": {
    "collapsed": false
   },
   "outputs": [
    {
     "name": "stdout",
     "output_type": "stream",
     "text": [
      "2\n"
     ]
    }
   ],
   "source": [
    "if WeakZone:\n",
    "    print(1)\n",
    "    viscosityMapFn = fn.branching.map( fn_key = materialVariable,\n",
    "                         mapping = {crustIndex:combmantleviscosityFn,\n",
    "                                    mantleIndex:combmantleviscosityFn,\n",
    "                                    harzIndex:combmantleviscosityFn} )\n",
    "else: #Use weak crust\n",
    "    print(2)\n",
    "    viscosityMapFn = fn.branching.map( fn_key = materialVariable,\n",
    "                         mapping = {crustIndex:crustviscosityFn,\n",
    "                                    mantleIndex:finalviscosityFn,\n",
    "                                    harzIndex:finalviscosityFn} )\n",
    "\n"
   ]
  },
  {
   "cell_type": "code",
   "execution_count": null,
   "metadata": {
    "collapsed": false
   },
   "outputs": [],
   "source": []
  },
  {
   "cell_type": "code",
   "execution_count": null,
   "metadata": {
    "collapsed": false
   },
   "outputs": [],
   "source": []
  },
  {
   "cell_type": "code",
   "execution_count": null,
   "metadata": {
    "collapsed": true
   },
   "outputs": [],
   "source": []
  },
  {
   "cell_type": "code",
   "execution_count": 178,
   "metadata": {
    "collapsed": true
   },
   "outputs": [],
   "source": [
    "#Add the non-linear viscosity to the Stokes system\n",
    "stokesPIC.fn_viscosity = viscosityMapFn"
   ]
  },
  {
   "cell_type": "code",
   "execution_count": 179,
   "metadata": {
    "collapsed": false
   },
   "outputs": [
    {
     "name": "stdout",
     "output_type": "stream",
     "text": [
      "\u001b[1;35m\n",
      " \n",
      "Pressure iterations:   3\n",
      "Velocity iterations:   1 (presolve)      \n",
      "Velocity iterations:  -1 (pressure solve)\n",
      "Velocity iterations:   1 (backsolve)     \n",
      "Velocity iterations:   1 (total solve)   \n",
      " \n",
      "SCR RHS  solve time: 3.7912e-01\n",
      "Pressure solve time: 3.1154e-02\n",
      "Velocity solve time: 3.8077e-01 (backsolve)\n",
      "Total solve time   : 8.5594e-01\n",
      " \n",
      "Velocity solution min/max: 0.0000e+00/0.0000e+00\n",
      "Pressure solution min/max: 0.0000e+00/0.0000e+00\n",
      " \n",
      "\u001b[00m\n"
     ]
    }
   ],
   "source": [
    "solver.set_inner_method(\"mumps\")\n",
    "solver.options.scr.ksp_type=\"cg\"\n",
    "solver.set_penalty(1.0e7)\n",
    "solver.options.scr.ksp_rtol = 1.0e-4\n",
    "solver.solve(nonLinearIterate=True)\n",
    "solver.print_stats()"
   ]
  },
  {
   "cell_type": "code",
   "execution_count": null,
   "metadata": {
    "collapsed": true
   },
   "outputs": [],
   "source": []
  },
  {
   "cell_type": "code",
   "execution_count": 62,
   "metadata": {
    "collapsed": false
   },
   "outputs": [],
   "source": [
    "#Check which particles are yielding\n",
    "#yieldingCheck.data[:] = 0\n",
    "\n",
    "#yieldconditions = [ ( mantleviscosityFn < Visc , 1), \n",
    "#               ( True                                           , 0) ]\n",
    "\n",
    "# use the branching conditional function to set each particle's index\n",
    "#yieldingCheck.data[:] = fn.branching.conditional( yieldconditions ).evaluate(gSwarm)"
   ]
  },
  {
   "cell_type": "code",
   "execution_count": 300,
   "metadata": {
    "collapsed": false,
    "scrolled": true
   },
   "outputs": [],
   "source": [
    "#fig= glucifer.Figure()\n",
    "#fig.append( glucifer.objects.Points(gSwarm,yieldingCheck))\n",
    "\n",
    "#fig.append( glucifer.objects.Surface(mesh,ndflm, logScale=True))\n",
    "#fig.show()"
   ]
  },
  {
   "cell_type": "markdown",
   "metadata": {},
   "source": [
    "Advection-diffusion System setup\n",
    "-----"
   ]
  },
  {
   "cell_type": "code",
   "execution_count": 192,
   "metadata": {
    "collapsed": false
   },
   "outputs": [],
   "source": [
    "advDiff = uw.systems.AdvectionDiffusion( phiField       = temperatureField, \n",
    "                                         phiDotField    = temperatureDotField, \n",
    "                                         velocityField  = velocityField,\n",
    "                                         fn_sourceTerm    = 0.0,\n",
    "                                         fn_diffusivity = 1.0, \n",
    "                                         #conditions     = [neumannTempBC, dirichTempBC] )\n",
    "                                         conditions     = [ dirichTempBC] )\n",
    "\n",
    "passiveadvector = uw.systems.SwarmAdvector( swarm         = gSwarm, \n",
    "                                     velocityField = velocityField, \n",
    "                                     order         = 1)"
   ]
  },
  {
   "cell_type": "code",
   "execution_count": 193,
   "metadata": {
    "collapsed": false
   },
   "outputs": [],
   "source": [
    "#I was playing around with a tailored diffusivity to target the slab\n",
    "\n",
    "#inCircleFnGenerator#Now build the perturbation part\n",
    "#def htan(centre, radius, widthPh, farVal = 0.01, fac = 10.):\n",
    "#    coord = fn.input()\n",
    "#    offsetFn = coord - centre\n",
    "#    dist = fn.math.sqrt(fn.math.dot( offsetFn, offsetFn ))\n",
    "    \n",
    "    \n",
    "#    return (((fn.math.tanh(((radius - dist))/widthPh) + 1.) /2.))*fac + farVal\n",
    "\n",
    "#tfun = htan((0.1, 0.9), 0.1, 0.1, 0.1)"
   ]
  },
  {
   "cell_type": "code",
   "execution_count": 236,
   "metadata": {
    "collapsed": true
   },
   "outputs": [],
   "source": [
    "for index in mesh.specialSets[\"MinJ_VertexSet\"]:\n",
    "    temperatureField.data[index] = ndp.TBP\n",
    "for index in mesh.specialSets[\"MaxJ_VertexSet\"]:\n",
    "    temperatureField.data[index] = ndp.TSP"
   ]
  },
  {
   "cell_type": "code",
   "execution_count": 237,
   "metadata": {
    "collapsed": false
   },
   "outputs": [
    {
     "data": {
      "text/plain": [
       "1394.4794120332097"
      ]
     },
     "execution_count": 237,
     "metadata": {},
     "output_type": "execute_result"
    }
   ],
   "source": [
    "velocityField.data.max()"
   ]
  },
  {
   "cell_type": "code",
   "execution_count": 238,
   "metadata": {
    "collapsed": false
   },
   "outputs": [],
   "source": [
    "############\n",
    "#Slightly Diffuse the initial perturbation\n",
    "#############\n",
    "\n",
    "timetoDifffuse = 0.#Million years\n",
    "incrementtoDiffuse = 0.2 #Million years\n",
    "\n",
    "timetoDifffuse = (timetoDifffuse*1e6*(spery)/sf.SR).magnitude\n",
    "incrementtoDiffuse = (incrementtoDiffuse*1e6*(spery)/sf.SR).magnitude\n",
    "\n",
    "totAdt = 0.\n",
    "it = 0\n",
    "while totAdt < timetoDifffuse:\n",
    "    dtad = advDiff.get_max_dt()\n",
    "    print(\"step\") + str(it) \n",
    "    advDiff.integrate(incrementtoDiffuse)\n",
    "    totAdt += incrementtoDiffuse\n",
    "    it += 1\n",
    "    \n",
    "#Reset Boundary conds.   \n",
    "for index in mesh.specialSets[\"MinJ_VertexSet\"]:\n",
    "    temperatureField.data[index] = ndp.TBP\n",
    "for index in mesh.specialSets[\"MaxJ_VertexSet\"]:\n",
    "    temperatureField.data[index] = ndp.TSP\n",
    "    \n",
    "comm.Barrier()"
   ]
  },
  {
   "cell_type": "code",
   "execution_count": 239,
   "metadata": {
    "collapsed": true
   },
   "outputs": [],
   "source": [
    "population_control = uw.swarm.PopulationControl(gSwarm,deleteThreshold=0.2,splitThreshold=1.,maxDeletions=3,maxSplits=0, aggressive=True, particlesPerCell=ppc)"
   ]
  },
  {
   "cell_type": "markdown",
   "metadata": {},
   "source": [
    "Analysis functions / routines\n",
    "-----"
   ]
  },
  {
   "cell_type": "code",
   "execution_count": 240,
   "metadata": {
    "collapsed": true
   },
   "outputs": [],
   "source": [
    "#These are functions we can use to evuate integrals over restricted parts of the domain\n",
    "# For instance, we can exclude the thermal lithosphere from integrals\n",
    "\n",
    "def temprestrictionFn(lithval = 0.9):\n",
    "\n",
    "    tempMM = fn.view.min_max(temperatureField)\n",
    "    tempMM.evaluate(mesh)\n",
    "    TMAX = tempMM.max_global()\n",
    "    mantleconditions = [ (                                  temperatureField > lithval*TMAX, 1.),\n",
    "                   (                                                   True , 0.) ]\n",
    "\n",
    "\n",
    "    return fn.branching.conditional(mantleconditions)\n",
    "\n",
    "mantlerestrictFn = temprestrictionFn(lithval = 0.85)\n",
    "\n",
    "\n",
    "\n",
    "def platenessFn(val = 0.1):\n",
    "    normgradV = fn.math.abs(velocityField.fn_gradient[0]/fn.math.sqrt(velocityField[0]*velocityField[0])) #[du*/dx]/sqrt(u*u)\n",
    "\n",
    "\n",
    "\n",
    "    srconditions = [ (                                  normgradV < val, 1.),\n",
    "                   (                                                   True , 0.) ]\n",
    "\n",
    "\n",
    "    return fn.branching.conditional(srconditions)\n",
    "\n",
    "srrestrictFn = platenessFn(val = 0.1)"
   ]
  },
  {
   "cell_type": "code",
   "execution_count": null,
   "metadata": {
    "collapsed": true
   },
   "outputs": [],
   "source": []
  },
  {
   "cell_type": "code",
   "execution_count": 241,
   "metadata": {
    "collapsed": false
   },
   "outputs": [],
   "source": [
    "#Setup volume integrals \n",
    "\n",
    "tempint = uw.utils.Integral( temperatureField, mesh )\n",
    "areaint = uw.utils.Integral( 1.,               mesh )\n",
    "\n",
    "v2int   = uw.utils.Integral( fn.math.dot(velocityField,velocityField), mesh )\n",
    "\n",
    "dwint   = uw.utils.Integral( temperatureField*velocityField[1], mesh )\n",
    "\n",
    "sinner = fn.math.dot( strainRate_2ndInvariant, strainRate_2ndInvariant )\n",
    "vdint = uw.utils.Integral( (2.*viscosityMapFn*sinner), mesh ) #Is it two or four here?\n",
    "\n",
    "mantleArea   = uw.utils.Integral( mantlerestrictFn, mesh )\n",
    "mantleTemp = uw.utils.Integral( temperatureField*mantlerestrictFn, mesh )\n",
    "mantleVisc = uw.utils.Integral( mantleviscosityFn*mantlerestrictFn, mesh )\n",
    "mantleVd = uw.utils.Integral( (2.*viscosityMapFn*sinner*mantlerestrictFn), mesh ) #these now work on MappingFunctions"
   ]
  },
  {
   "cell_type": "code",
   "execution_count": 242,
   "metadata": {
    "collapsed": true
   },
   "outputs": [],
   "source": [
    "#Setup surface integrals\n",
    "\n",
    "rmsSurfInt = uw.utils.Integral( fn=velocityField[0]*velocityField[0], mesh=mesh, integrationType='Surface', \n",
    "                          surfaceIndexSet=mesh.specialSets[\"MaxJ_VertexSet\"])\n",
    "nuTop      = uw.utils.Integral( fn=temperatureField.fn_gradient[1],    mesh=mesh, integrationType='Surface', \n",
    "                          surfaceIndexSet=mesh.specialSets[\"MaxJ_VertexSet\"])\n",
    "nuBottom   = uw.utils.Integral( fn=temperatureField.fn_gradient[1],    mesh=mesh, integrationType='Surface', \n",
    "                          surfaceIndexSet=mesh.specialSets[\"MinJ_VertexSet\"])\n",
    "\n",
    "plateint  = uw.utils.Integral( fn=srrestrictFn, mesh=mesh, integrationType='Surface', #Integrate the plateness function\n",
    "                          surfaceIndexSet=mesh.specialSets[\"MaxJ_VertexSet\"]) \n",
    "\n",
    "surfint  = uw.utils.Integral( fn=1., mesh=mesh, integrationType='Surface',   #Surface length function (i.e. domain width)\n",
    "                          surfaceIndexSet=mesh.specialSets[\"MaxJ_VertexSet\"])"
   ]
  },
  {
   "cell_type": "code",
   "execution_count": 243,
   "metadata": {
    "collapsed": true
   },
   "outputs": [],
   "source": [
    "#Define functions for the evaluation of integrals\n",
    "\n",
    "def basic_int(ourIntegral):           #This one just hands back the evaluated integral\n",
    "    return ourIntegral.evaluate()[0]\n",
    "\n",
    "def avg_temp():\n",
    "    return tempint.evaluate()[0]/areaint.evaluate()[0]\n",
    "\n",
    "def nusseltTB(temp_field, mesh):\n",
    "    return -nuTop.evaluate()[0], -nuBottom.evaluate()[0]\n",
    "\n",
    "def rms():\n",
    "    return math.sqrt(v2int.evaluate()[0]/areaint.evaluate()[0])\n",
    "\n",
    "def rms_surf():\n",
    "    return math.sqrt(rmsSurfInt.evaluate()[0])\n",
    "\n",
    "def max_vx_surf(velfield, mesh):\n",
    "    vuvelxfn = fn.view.min_max(velfield[0])\n",
    "    vuvelxfn.evaluate(mesh.specialSets[\"MaxJ_VertexSet\"])\n",
    "    return vuvelxfn.max_global()\n",
    "\n",
    "\n",
    "def visc_extr(viscfn):\n",
    "    vuviscfn = fn.view.min_max(viscfn)\n",
    "    vuviscfn.evaluate(mesh)\n",
    "    return vuviscfn.max_global(), vuviscfn.min_global()"
   ]
  },
  {
   "cell_type": "code",
   "execution_count": 244,
   "metadata": {
    "collapsed": false
   },
   "outputs": [
    {
     "data": {
      "text/plain": [
       "(49.414476669082276, 299.31247371188755, 609.9273529460928)"
      ]
     },
     "execution_count": 244,
     "metadata": {},
     "output_type": "execute_result"
    }
   ],
   "source": [
    "#v2sum_integral  = uw.utils.Integral( mesh=mesh, fn=fn.math.dot( velocityField, velocityField ) )\n",
    "#volume_integral = uw.utils.Integral( mesh=mesh, fn=1. )\n",
    "#Vrms = math.sqrt( v2sum_integral.evaluate()[0] )/volume_integral.evaluate()[0]\n",
    "\n",
    "\n",
    "\n",
    "#if(uw.rank()==0):\n",
    "#    print('Initial Vrms = {0:.3f}'.format(Vrms))\n",
    "\n",
    "# Check the Metrics\n",
    "\n",
    "#Avg_temp = avg_temp()\n",
    "Rms = rms()\n",
    "Rms_surf = rms_surf()\n",
    "Max_vx_surf = max_vx_surf(velocityField, mesh)\n",
    "Rms, Rms_surf, Max_vx_surf \n",
    "#Gravwork = basic_int(dwint)\n",
    "#Viscdis = basic_int(vdint)\n",
    "#nu1, nu0 = nusseltTB(temperatureField, mesh) # return top then bottom\n",
    "#etamax, etamin = visc_extr(mantleviscosityFn)\n",
    "\n",
    "#Area_mantle = basic_int(mantleArea)\n",
    "#Viscmantle = basic_int(mantleVisc)\n",
    "#Tempmantle = basic_int(mantleTemp)\n",
    "#Viscdismantle = basic_int(mantleVd)"
   ]
  },
  {
   "cell_type": "markdown",
   "metadata": {},
   "source": [
    "Viz.\n",
    "-----"
   ]
  },
  {
   "cell_type": "code",
   "execution_count": 245,
   "metadata": {
    "collapsed": false
   },
   "outputs": [],
   "source": [
    "viscVariable = gSwarm.add_variable( dataType=\"float\", count=1 )\n",
    "viscVariable.data[:] = viscosityMapFn.evaluate(gSwarm)"
   ]
  },
  {
   "cell_type": "code",
   "execution_count": 246,
   "metadata": {
    "collapsed": false
   },
   "outputs": [],
   "source": [
    "#Pack some stuff into a database as well\n",
    "figDb = glucifer.Figure()\n",
    "#figDb.append( glucifer.objects.Mesh(mesh))\n",
    "figDb.append( glucifer.objects.VectorArrows(mesh,velocityField, scaling=0.00005))\n",
    "#figDb.append( glucifer.objects.Points(gSwarm,tracerVariable, colours= 'white black'))\n",
    "figDb.append( glucifer.objects.Points(gSwarm,materialVariable))\n",
    "\n",
    "figDb.append( glucifer.objects.Points(gSwarm,viscosityMapFn, logScale=True, valueRange =[1e-3,1e5]))\n",
    "figDb.append( glucifer.objects.Surface(mesh, strainRate_2ndInvariant, logScale=True))\n",
    "figDb.append( glucifer.objects.Surface(mesh, temperatureField))\n",
    "#figDb.show()"
   ]
  },
  {
   "cell_type": "code",
   "execution_count": 247,
   "metadata": {
    "collapsed": false
   },
   "outputs": [
    {
     "name": "stderr",
     "output_type": "stream",
     "text": [
      "/usr/local/lib/python2.7/dist-packages/numpy/core/numeric.py:190: VisibleDeprecationWarning: using a non-integer number instead of an integer will result in an error in the future\n",
      "  a = empty(shape, dtype, order)\n"
     ]
    }
   ],
   "source": [
    "##############\n",
    "#Create a numpy array at the surface to get surface information on (using parallel-friendly evaluate_global)\n",
    "##############\n",
    "\n",
    "surface_xs = np.linspace(mesh.minCoord[0], mesh.maxCoord[0], mesh.elementRes[0] + 1)\n",
    "surface_nodes = np.array(zip(surface_xs, np.ones(len(surface_xs)*mesh.maxCoord[1]))) #For evaluation surface velocity\n",
    "normgradV = velocityField.fn_gradient[0]/fn.math.sqrt(velocityField[0]*velocityField[0])\n",
    "\n",
    "tempMM = fn.view.min_max(temperatureField)\n",
    "dummy = tempMM.evaluate(mesh)\n",
    "\n"
   ]
  },
  {
   "cell_type": "markdown",
   "metadata": {},
   "source": [
    "**Miscellania**"
   ]
  },
  {
   "cell_type": "code",
   "execution_count": 248,
   "metadata": {
    "collapsed": false
   },
   "outputs": [],
   "source": [
    "##############\n",
    "#These functions handle checkpointing\n",
    "##############\n",
    "\n",
    "\n",
    "def checkpoint1(step, checkpointPath,filename, filewrites):\n",
    "    path = checkpointPath + str(step) \n",
    "    os.mkdir(path)\n",
    "    ##Write and save the file, if not already a writing step\n",
    "    if not step % filewrites == 0:\n",
    "        filename.write((17*'%-15s ' + '\\n') % (realtime, Viscdis, float(nu0), float(nu1), Avg_temp,\n",
    "                                              Tempmantle,TMAX,\n",
    "                                              Rms,Rms_surf,Max_vx_surf,Gravwork, etamax, etamin, \n",
    "                                              Area_mantle, Viscmantle,  Viscdismantle,Plateness ))\n",
    "    filename.close()\n",
    "    shutil.copyfile(os.path.join(outputPath, outputFile), os.path.join(path, outputFile))\n",
    "\n",
    "\n",
    "def checkpoint2(step, checkpointPath, swarm, filename, varlist = [materialVariable], varnames = ['materialVariable']):\n",
    "    path = checkpointPath + str(step) \n",
    "    velfile = \"velocityField\" + \".hdf5\"\n",
    "    tempfile = \"temperatureField\" + \".hdf5\"\n",
    "    pressfile = \"pressureField\" + \".hdf5\"\n",
    "    velocityField.save(os.path.join(path, velfile))\n",
    "    temperatureField.save(os.path.join(path, tempfile))\n",
    "    pressureField.save(os.path.join(path, pressfile))\n",
    "    swarm.save(os.path.join(path, \"swarm.h5\") ) \n",
    "    for ix in range(len(varlist)):\n",
    "        varb = varlist[ix]\n",
    "        varb.save(os.path.join(path,varnames[ix] + \".h5\"))\n",
    "    "
   ]
  },
  {
   "cell_type": "code",
   "execution_count": 249,
   "metadata": {
    "collapsed": true
   },
   "outputs": [],
   "source": [
    "##############\n",
    "#This will allow us to evaluate viscous shear heating, and add the result directly to the temperature field\n",
    "##############\n",
    "\n",
    "viscDisMapFn = 2.*viscosityMapFn*sinner\n",
    "viscDisFnmesh = uw.mesh.MeshVariable(mesh,nodeDofCount=1)\n",
    "viscDisProj = uw.utils.MeshVariable_Projection( viscDisFnmesh, viscDisMapFn)\n",
    "viscDisProj.solve()"
   ]
  },
  {
   "cell_type": "code",
   "execution_count": 250,
   "metadata": {
    "collapsed": false
   },
   "outputs": [],
   "source": [
    "# initialise timer for computation\n",
    "start = time.clock()\n",
    "# setup summary output file (name above)\n",
    "if checkpointLoad:\n",
    "    if uw.rank() == 0:\n",
    "        shutil.copyfile(os.path.join(checkpointLoadDir, outputFile), outputPath+outputFile)\n",
    "    comm.Barrier()\n",
    "    f_o = open(os.path.join(outputPath, outputFile), 'a')\n",
    "    prevdata = np.genfromtxt(os.path.join(outputPath, outputFile), skip_header=0, skip_footer=0)\n",
    "    if len(prevdata.shape) == 1: #this is in case there is only one line in previous file\n",
    "        realtime = prevdata[0]\n",
    "    else:\n",
    "        realtime = prevdata[prevdata.shape[0]-1, 0]\n",
    "    step = int(checkpointLoadDir.split('/')[-1])\n",
    "    timevals = [0.]\n",
    "else:\n",
    "    f_o = open(outputPath+outputFile, 'w')\n",
    "    realtime = 0.\n",
    "    step = 0\n",
    "    timevals = [0.]"
   ]
  },
  {
   "cell_type": "markdown",
   "metadata": {},
   "source": [
    "Main simulation loop\n",
    "-----\n"
   ]
  },
  {
   "cell_type": "code",
   "execution_count": 252,
   "metadata": {
    "collapsed": false
   },
   "outputs": [],
   "source": [
    "#metric_output = 1"
   ]
  },
  {
   "cell_type": "code",
   "execution_count": null,
   "metadata": {
    "collapsed": true
   },
   "outputs": [],
   "source": [
    "#while step < 21:\n",
    "while realtime < 1.:\n",
    "\n",
    "    # solve Stokes and advection systems\n",
    "    solver.solve(nonLinearIterate=True)\n",
    "    dt = advDiff.get_max_dt()\n",
    "    if step == 0:\n",
    "        dt = 0.\n",
    "    advDiff.integrate(dt)\n",
    "    passiveadvector.integrate(dt)\n",
    "    \n",
    "    #Add the adiabatic adjustment:\n",
    "    temperatureField.data[:] += dt*abHeatFn.evaluate(mesh)\n",
    "    \n",
    "    #Add the viscous heating term\n",
    "     #Need to fix this (forgot 'dissipation number')\n",
    "    #viscDisProj = uw.utils.MeshVariable_Projection( viscDisFnmesh, viscDisMapFn)\n",
    "    #viscDisProj.solve()\n",
    "    #temperatureField.data[:] += dt*viscDisFnmesh.evaluate(mesh)\n",
    "    \n",
    "\n",
    "    # Increment\n",
    "    realtime += dt\n",
    "    step += 1\n",
    "    timevals.append(realtime)\n",
    "    ################\n",
    "    #Update temperature field in the air region\n",
    "    #Do this better...\n",
    "    ################\n",
    "    if (step % sticky_air_temp == 0):\n",
    "        for index, coord in enumerate(mesh.data):\n",
    "            if coord[1] >= 1.:\n",
    "                temperatureField.data[index] = ndp.TSP\n",
    "\n",
    "    # Calculate the Metrics, only on 1 of the processors:\n",
    "    ################\n",
    "    if (step % metric_output == 0):\n",
    "        ###############\n",
    "        #Swarm - based Metrics\n",
    "        ###############\n",
    "        # Calculate the RMS velocity and Nusselt number.\n",
    "        # Calculate the Metrics, only on 1 of the processors:\n",
    "        mantlerestrictFn = temprestrictionFn() #rebuild the mantle restriction function (but these should be dynamic?)\n",
    "        srrestrictFn = platenessFn(val = 0.1) #rebuild the plateness restriction function\n",
    "        dummy = tempMM.evaluate(mesh) #Re-evaluate any fn.view.min_max guys\n",
    "        #Rebuild these integrals (a test because metrics changes after a restart)\n",
    "        mantleArea   = uw.utils.Integral( mantlerestrictFn, mesh )\n",
    "        mantleTemp = uw.utils.Integral( temperatureField*mantlerestrictFn, mesh )\n",
    "        mantleVisc = uw.utils.Integral( mantleviscosityFn*mantlerestrictFn, mesh )\n",
    "        mantleVd = uw.utils.Integral( (4.*viscosityMapFn*sinner*mantlerestrictFn), mesh ) #these now work on MappingFunctions\n",
    "        ###\n",
    "        Avg_temp = avg_temp()\n",
    "        Rms = rms()\n",
    "        Rms_surf = rms_surf()\n",
    "        Max_vx_surf = max_vx_surf(velocityField, mesh)\n",
    "        Gravwork = basic_int(dwint)\n",
    "        Viscdis = basic_int(vdint)\n",
    "        nu1, nu0 = nusseltTB(temperatureField, mesh) # return top then bottom\n",
    "        etamax, etamin = visc_extr(mantleviscosityFn)\n",
    "        Area_mantle = basic_int(mantleArea)\n",
    "        Viscmantle = basic_int(mantleVisc)\n",
    "        Tempmantle = basic_int(mantleTemp)\n",
    "        Viscdismantle = basic_int(mantleVd)\n",
    "        Plateness = basic_int(plateint)/basic_int(surfint)\n",
    "        TMAX = tempMM.max_global()\n",
    "        # output to summary text file\n",
    "        if uw.rank()==0:\n",
    "            f_o.write((17*'%-15s ' + '\\n') % (realtime, Viscdis, float(nu0), float(nu1), Avg_temp,\n",
    "                                              Tempmantle,TMAX,\n",
    "                                              Rms,Rms_surf,Max_vx_surf,Gravwork, etamax, etamin, \n",
    "                                              Area_mantle, Viscmantle,  Viscdismantle,Plateness ))\n",
    "    ################\n",
    "    #Also repopulate entire swarm periodically\n",
    "    ################\n",
    "    #if step % swarm_repop == 0:\n",
    "    population_control.repopulate()   \n",
    "    ################\n",
    "    #Checkpoint\n",
    "    ################\n",
    "    if step % checkpoint_every == 0:\n",
    "        if uw.rank() == 0:\n",
    "            checkpoint1(step, checkpointPath,f_o, metric_output)           \n",
    "        checkpoint2(step, checkpointPath, gSwarm, f_o, varlist = varlist, varnames = varnames)\n",
    "        f_o = open(os.path.join(outputPath, outputFile), 'a') #is this line supposed to be here?\n",
    "    ################\n",
    "    #Gldb output\n",
    "    ################ \n",
    "    if (step % gldbs_output == 0):\n",
    "        #Rebuild any necessary swarm variables\n",
    "        viscVariable.data[:] = viscosityMapFn.evaluate(gSwarm)\n",
    "        #Write gldbs\n",
    "        fnamedb = \"dbFig\" + \"_\" + str(ModIt) + \"_\" + str(step) + \".gldb\"\n",
    "        fullpath = os.path.join(outputPath + \"gldbs/\" + fnamedb)\n",
    "        #figDb.show()\n",
    "        figDb.save_database(fullpath)\n",
    "    ################\n",
    "    #Files output\n",
    "    ################ \n",
    "    if (step % files_output == 0):\n",
    "\n",
    "        vel_surface = velocityField.evaluate_global(surface_nodes)\n",
    "        norm_surface_sr = normgradV.evaluate_global(surface_nodes)\n",
    "        if uw.rank() == 0:\n",
    "            fnametemp = \"velsurface\" + \"_\" + str(ModIt) + \"_\" + str(step)\n",
    "            fullpath = os.path.join(outputPath + \"files/\" + fnametemp)\n",
    "            np.save(fullpath, vel_surface)\n",
    "            fnametemp = \"norm_surface_sr\" + \"_\" + str(ModIt) + \"_\" + str(step)\n",
    "            fullpath = os.path.join(outputPath + \"files/\" + fnametemp)\n",
    "            np.save(fullpath, norm_surface_sr)\n",
    "    ################\n",
    "    #Particle update\n",
    "    ###############    \n",
    "    #ageVariable.data[:] += dt #increment the ages (is this efficient?)\n",
    "    ageDT += dt\n",
    "    \n",
    "    if step % swarm_update == 0:\n",
    "        #Increment age stuff. \n",
    "        ageEval = fn.branching.conditional( ageConditions ).evaluate(gSwarm)\n",
    "        ageVariable.data[np.where(ageEval == 0)] = 0 #If below the critical depth, age is set to zero\n",
    "        ageVariable.data[np.where(ageEval != 0)] += ageDT #If age above critical depth, increment age\n",
    "        ageDT = 0. #reset the age incrementer\n",
    "        \n",
    "        #Apply any materialVariable changes\n",
    "        for i in range(2): #Need to go through twice first time through\n",
    "            materialVariable.data[:] = fn.branching.conditional(DG.condition_list).evaluate(gSwarm)\n",
    "\n",
    "    \n",
    "f_o.close()\n",
    "print 'step =',step"
   ]
  },
  {
   "cell_type": "code",
   "execution_count": 70,
   "metadata": {
    "collapsed": false
   },
   "outputs": [],
   "source": [
    "viscVariable = gSwarm.add_variable( dataType=\"float\", count=1 )\n",
    "viscVariable.data[:] = viscosityMapFn.evaluate(gSwarm)\n",
    "\n",
    "buoyVariable = gSwarm.add_variable( dataType=\"float\", count=1 )\n",
    "buoyVariable.data[:] = densityMapFn.evaluate(gSwarm)"
   ]
  },
  {
   "cell_type": "code",
   "execution_count": 75,
   "metadata": {
    "collapsed": false
   },
   "outputs": [
    {
     "data": {
      "text/html": [
       "<img src='data:image/png;base64,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'>"
      ],
      "text/plain": [
       "<IPython.core.display.HTML object>"
      ]
     },
     "metadata": {},
     "output_type": "display_data"
    },
    {
     "data": {
      "text/plain": [
       "'test.gldb'"
      ]
     },
     "execution_count": 75,
     "metadata": {},
     "output_type": "execute_result"
    }
   ],
   "source": [
    "fig= glucifer.Figure()\n",
    "fig.append( glucifer.objects.Points(gSwarm,buoyVariable))\n",
    "#fig.append( glucifer.objects.Points(gSwarm, viscosityMapFn, logScale=True, valueRange =[1e-3,1e5]))\n",
    "#fig.append( glucifer.objects.Surface(mesh, strainRate_2ndInvariant, logScale=True, valueRange =[1e-3,1e5] ))\n",
    "#fig.append( glucifer.objects.VectorArrows(mesh,velocityField, scaling=0.002))\n",
    "#fig.append( glucifer.objects.Surface(mesh,densityMapFn))\n",
    "#fig.append( glucifer.objects.Surface(mesh,raylieghFn))\n",
    "\n",
    "fig.show()\n",
    "fig.save_database('test.gldb')"
   ]
  },
  {
   "cell_type": "code",
   "execution_count": 183,
   "metadata": {
    "collapsed": false
   },
   "outputs": [
    {
     "data": {
      "text/html": [
       "<img src='data:image/png;base64,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'>"
      ],
      "text/plain": [
       "<IPython.core.display.HTML object>"
      ]
     },
     "metadata": {},
     "output_type": "display_data"
    }
   ],
   "source": [
    "fig= glucifer.Figure()\n",
    "#fig.append( glucifer.objects.Points(gSwarm,materialVariable))\n",
    "#fig.append( glucifer.objects.Points(gSwarm, viscosityMapFn, logScale=True, valueRange =[1e-3,1e5]))\n",
    "fig.append( glucifer.objects.Surface(mesh, finalviscosityFn, logScale=True, valueRange =[1e-3,1e5] ))\n",
    "#fig.append( glucifer.objects.VectorArrows(mesh,velocityField, scaling=0.00002))\n",
    "#fig.append( glucifer.objects.Surface(mesh,pressureField))\n",
    "#fig.append( glucifer.objects.Surface(mesh,raylieghFn))\n",
    "\n",
    "fig.show()\n",
    "#fig.save_database('test.gldb')\n",
    "\n"
   ]
  },
  {
   "cell_type": "code",
   "execution_count": 232,
   "metadata": {
    "collapsed": false
   },
   "outputs": [
    {
     "data": {
      "text/plain": [
       "609.92735294609281"
      ]
     },
     "execution_count": 232,
     "metadata": {},
     "output_type": "execute_result"
    }
   ],
   "source": [
    "velocityField.data[tWalls.data].max()"
   ]
  },
  {
   "cell_type": "code",
   "execution_count": 233,
   "metadata": {
    "collapsed": false
   },
   "outputs": [
    {
     "data": {
      "text/plain": [
       "1394.4794120332097"
      ]
     },
     "execution_count": 233,
     "metadata": {},
     "output_type": "execute_result"
    }
   ],
   "source": [
    "velocityField.data.max()"
   ]
  },
  {
   "cell_type": "code",
   "execution_count": null,
   "metadata": {
    "collapsed": true
   },
   "outputs": [],
   "source": []
  }
 ],
 "metadata": {
  "kernelspec": {
   "display_name": "Python 2",
   "language": "python",
   "name": "python2"
  },
  "language_info": {
   "codemirror_mode": {
    "name": "ipython",
    "version": 2
   },
   "file_extension": ".py",
   "mimetype": "text/x-python",
   "name": "python",
   "nbconvert_exporter": "python",
   "pygments_lexer": "ipython2",
   "version": "2.7.9"
  },
  "widgets": {
   "state": {},
   "version": "1.1.2"
  }
 },
 "nbformat": 4,
 "nbformat_minor": 0
}
