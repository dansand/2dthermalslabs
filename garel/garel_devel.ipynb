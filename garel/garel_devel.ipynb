{
 "cells": [
  {
   "cell_type": "markdown",
   "metadata": {},
   "source": [
    "## Composite, non-linear rheology:\n",
    "\n",
    "\n",
    "The viscous rheology in this model is similar to the Garel et al paper cited below. Other parts of the model setup are similar to Čížková and Bina (2015), Arredondo and Billen (2016) and Korenaga (2011). \n",
    "\n",
    "Here we use a dimensionless system. For the psuedo-plastic effective rheology a Drucker-prager model is used.\n",
    "\n",
    "\n",
    "**Keywords:** subduction, composite rheology, dislocation creep\n",
    "\n",
    "\n",
    "**References:**\n",
    "\n",
    "\n",
    "Garel, Fanny, et al. \"Interaction of subducted slabs with the mantle transition‐zone: A regime diagram from 2‐D thermo‐mechanical models with a mobile trench and an overriding plate.\" Geochemistry, Geophysics, Geosystems 15.5 (2014): 1739-1765.\n",
    "\n",
    "Čížková, Hana, and Craig R. Bina. \"Geodynamics of trench advance: Insights from a Philippine-Sea-style geometry.\" Earth and Planetary Science Letters 430 (2015): 408-415.\n",
    "\n",
    "Arredondo, Katrina M., and Magali I. Billen. \"The Effects of Phase Transitions and Compositional Layering in Two-dimensional Kinematic Models of Subduction.\" Journal of Geodynamics (2016).\n"
   ]
  },
  {
   "cell_type": "code",
   "execution_count": 1,
   "metadata": {
    "collapsed": false
   },
   "outputs": [
    {
     "name": "stderr",
     "output_type": "stream",
     "text": [
      "/root/underworld2/unsupported/interfaces/__init__.py:9: UserWarning: \n",
      "\n",
      "The interface module is not supported.\n",
      "Questions should be addressed to louis.moresi@unimelb.edu.au \n",
      " \n",
      "  Questions should be addressed to louis.moresi@unimelb.edu.au \\n \"\"\"\n"
     ]
    }
   ],
   "source": [
    "import numpy as np\n",
    "import underworld as uw\n",
    "import math\n",
    "from underworld import function as fn\n",
    "import glucifer\n",
    "\n",
    "import os\n",
    "import sys\n",
    "import natsort\n",
    "import shutil\n",
    "from easydict import EasyDict as edict\n",
    "import operator\n",
    "import pint\n",
    "import time\n",
    "import operator\n",
    "from slippy2 import boundary_layer2d\n",
    "from slippy2 import material_graph\n",
    "from slippy2 import spmesh\n",
    "from slippy2 import phase_function\n",
    "from unsupported.interfaces import markerLine2D\n",
    "\n",
    "\n",
    "from mpi4py import MPI\n",
    "comm = MPI.COMM_WORLD\n",
    "rank = comm.Get_rank()"
   ]
  },
  {
   "cell_type": "code",
   "execution_count": 2,
   "metadata": {
    "collapsed": false
   },
   "outputs": [],
   "source": [
    "#store = glucifer.Store('subduction')\n",
    "#figParticle = glucifer.Figure( store, figsize=(960,300), name=\"Particles\" )\n",
    "\n",
    "#figParticle.save_database('test.gldb')"
   ]
  },
  {
   "cell_type": "markdown",
   "metadata": {},
   "source": [
    "Model name and directories\n",
    "-----"
   ]
  },
  {
   "cell_type": "code",
   "execution_count": 3,
   "metadata": {
    "collapsed": true
   },
   "outputs": [],
   "source": [
    "############\n",
    "#Model letter and number\n",
    "############\n",
    "\n",
    "\n",
    "#Model letter identifier default\n",
    "Model = \"T\"\n",
    "\n",
    "#Model number identifier default:\n",
    "ModNum = 0\n",
    "\n",
    "#Any isolated letter / integer command line args are interpreted as Model/ModelNum\n",
    "\n",
    "if len(sys.argv) == 1:\n",
    "    ModNum = ModNum \n",
    "elif sys.argv[1] == '-f': #\n",
    "    ModNum = ModNum \n",
    "else:\n",
    "    for farg in sys.argv[1:]:\n",
    "        if not '=' in farg: #then Assume it's a not a paramter argument\n",
    "            try:\n",
    "                ModNum = int(farg) #try to convert everingthing to a float, else remains string\n",
    "            except ValueError:\n",
    "                Model  = farg"
   ]
  },
  {
   "cell_type": "code",
   "execution_count": 4,
   "metadata": {
    "collapsed": false
   },
   "outputs": [],
   "source": [
    "###########\n",
    "#Standard output directory setup\n",
    "###########\n",
    "\n",
    "\n",
    "outputPath = \"results\" + \"/\" +  str(Model) + \"/\" + str(ModNum) + \"/\" \n",
    "imagePath = outputPath + 'images/'\n",
    "filePath = outputPath + 'files/'\n",
    "checkpointPath = outputPath + 'checkpoint/'\n",
    "dbPath = outputPath + 'gldbs/'\n",
    "outputFile = 'results_model' + Model + '_' + str(ModNum) + '.dat'\n",
    "\n",
    "if uw.rank()==0:\n",
    "    # make directories if they don't exist\n",
    "    if not os.path.isdir(outputPath):\n",
    "        os.makedirs(outputPath)\n",
    "    if not os.path.isdir(checkpointPath):\n",
    "        os.makedirs(checkpointPath)\n",
    "    if not os.path.isdir(imagePath):\n",
    "        os.makedirs(imagePath)\n",
    "    if not os.path.isdir(dbPath):\n",
    "        os.makedirs(dbPath)\n",
    "    if not os.path.isdir(filePath):\n",
    "        os.makedirs(filePath)\n",
    "        \n",
    "comm.Barrier() #Barrier here so no procs run the check in the next cell too early"
   ]
  },
  {
   "cell_type": "code",
   "execution_count": 5,
   "metadata": {
    "collapsed": false
   },
   "outputs": [
    {
     "name": "stdout",
     "output_type": "stream",
     "text": [
      "results/T/0/checkpoint/ is empty\n"
     ]
    }
   ],
   "source": [
    "###########\n",
    "#Check if starting from checkpoint\n",
    "###########\n",
    "\n",
    "checkdirs = []\n",
    "for dirpath, dirnames, files in os.walk(checkpointPath):\n",
    "    if files:\n",
    "        print dirpath, 'has files'\n",
    "        checkpointLoad = True\n",
    "        checkdirs.append(dirpath)\n",
    "    if not files:\n",
    "        print dirpath, 'is empty'\n",
    "        checkpointLoad = False"
   ]
  },
  {
   "cell_type": "code",
   "execution_count": 6,
   "metadata": {
    "collapsed": true
   },
   "outputs": [],
   "source": [
    "# setup summary output file (name above)\n",
    "if checkpointLoad:\n",
    "    checkpointLoadDir = natsort.natsort(checkdirs)[-1]\n",
    "    if uw.rank() == 0:\n",
    "        shutil.copyfile(os.path.join(checkpointLoadDir, outputFile), outputPath+outputFile)\n",
    "    comm.Barrier()\n",
    "    f_o = open(os.path.join(outputPath, outputFile), 'a')\n",
    "    prevdata = np.genfromtxt(os.path.join(outputPath, outputFile), skip_header=0, skip_footer=0)\n",
    "    if len(prevdata.shape) == 1: #this is in case there is only one line in previous file\n",
    "        realtime = prevdata[-1]  #This corresponds to the column you write time data to\n",
    "    else:\n",
    "        realtime = prevdata[prevdata.shape[0]-1, -1]\n",
    "    step = int(checkpointLoadDir.split('/')[-1])\n",
    "    timevals = [0.]\n",
    "else:\n",
    "    f_o = open(outputPath+outputFile, 'w')\n",
    "    realtime = 0.\n",
    "    step = 0\n",
    "    timevals = [0.]"
   ]
  },
  {
   "cell_type": "markdown",
   "metadata": {},
   "source": [
    "Setup parameters\n",
    "-----\n",
    "\n",
    "Set simulation parameters for test."
   ]
  },
  {
   "cell_type": "markdown",
   "metadata": {},
   "source": [
    "**Use pint to setup any unit conversions we'll need**"
   ]
  },
  {
   "cell_type": "code",
   "execution_count": 7,
   "metadata": {
    "collapsed": false
   },
   "outputs": [
    {
     "name": "stderr",
     "output_type": "stream",
     "text": [
      "/usr/local/lib/python2.7/dist-packages/IPython/core/formatters.py:92: DeprecationWarning: DisplayFormatter._ipython_display_formatter_default is deprecated: use @default decorator instead.\n",
      "  def _ipython_display_formatter_default(self):\n",
      "/usr/local/lib/python2.7/dist-packages/IPython/core/formatters.py:98: DeprecationWarning: DisplayFormatter._formatters_default is deprecated: use @default decorator instead.\n",
      "  def _formatters_default(self):\n",
      "/usr/local/lib/python2.7/dist-packages/IPython/core/formatters.py:677: DeprecationWarning: PlainTextFormatter._deferred_printers_default is deprecated: use @default decorator instead.\n",
      "  def _deferred_printers_default(self):\n",
      "/usr/local/lib/python2.7/dist-packages/IPython/core/formatters.py:669: DeprecationWarning: PlainTextFormatter._singleton_printers_default is deprecated: use @default decorator instead.\n",
      "  def _singleton_printers_default(self):\n",
      "/usr/local/lib/python2.7/dist-packages/IPython/core/formatters.py:672: DeprecationWarning: PlainTextFormatter._type_printers_default is deprecated: use @default decorator instead.\n",
      "  def _type_printers_default(self):\n",
      "/usr/local/lib/python2.7/dist-packages/IPython/core/formatters.py:669: DeprecationWarning: PlainTextFormatter._singleton_printers_default is deprecated: use @default decorator instead.\n",
      "  def _singleton_printers_default(self):\n",
      "/usr/local/lib/python2.7/dist-packages/IPython/core/formatters.py:672: DeprecationWarning: PlainTextFormatter._type_printers_default is deprecated: use @default decorator instead.\n",
      "  def _type_printers_default(self):\n",
      "/usr/local/lib/python2.7/dist-packages/IPython/core/formatters.py:677: DeprecationWarning: PlainTextFormatter._deferred_printers_default is deprecated: use @default decorator instead.\n",
      "  def _deferred_printers_default(self):\n"
     ]
    },
    {
     "data": {
      "text/html": [
       "10000.0 meter/megayear"
      ],
      "text/latex": [
       "$10000.0 \\frac{meter}{megayear}$"
      ],
      "text/plain": [
       "<Quantity(10000.0, 'meter / megayear')>"
      ]
     },
     "execution_count": 7,
     "metadata": {},
     "output_type": "execute_result"
    }
   ],
   "source": [
    "u = pint.UnitRegistry()\n",
    "cmpery = 1.*u.cm/u.year\n",
    "mpermy = 1.*u.m/u.megayear\n",
    "year = 1.*u.year\n",
    "spery = year.to(u.sec)\n",
    "cmpery.to(mpermy)"
   ]
  },
  {
   "cell_type": "code",
   "execution_count": 8,
   "metadata": {
    "collapsed": false
   },
   "outputs": [
    {
     "name": "stdout",
     "output_type": "stream",
     "text": [
      "(0.04, 1.2675505856327397e-11)\n"
     ]
    }
   ],
   "source": [
    "box_half_width =4000e3\n",
    "age_at_trench = 100e6\n",
    "cmperyear = box_half_width / age_at_trench #m/y\n",
    "mpersec = cmperyear*(cmpery.to(u.m/u.second)).magnitude #m/sec\n",
    "print(cmperyear, mpersec )"
   ]
  },
  {
   "cell_type": "markdown",
   "metadata": {},
   "source": [
    "**Set parameter dictionaries**\n",
    "\n",
    "* Parameters are stored in dictionaries. \n",
    "* If starting from checkpoint, parameters are loaded using pickle\n",
    "* If params are passed in as flags to the script, they overwrite "
   ]
  },
  {
   "cell_type": "code",
   "execution_count": 9,
   "metadata": {
    "collapsed": true
   },
   "outputs": [],
   "source": [
    "###########\n",
    "#Parameter / settings dictionaries get saved&loaded using pickle\n",
    "###########\n",
    " \n",
    "dp = edict({}) #dimensional parameters\n",
    "sf = edict({}) #scaling factors\n",
    "ndp = edict({}) #dimensionless paramters\n",
    "md = edict({}) #model paramters, flags etc\n",
    "#od = edict({}) #output frequencies\n"
   ]
  },
  {
   "cell_type": "code",
   "execution_count": 10,
   "metadata": {
    "collapsed": true
   },
   "outputs": [],
   "source": [
    "dict_list = [dp, sf, ndp, md]\n",
    "dict_names = ['dp.pkl', 'sf.pkl', 'ndp.pkl', 'md.pkl']\n",
    "\n",
    "def save_pickles(dict_list, dict_names, dictPath):\n",
    "    import pickle\n",
    "    counter = 0\n",
    "    for pdict in dict_list:\n",
    "        myfile = os.path.join(dictPath, dict_names[counter])\n",
    "        with open(myfile, 'wb') as f:\n",
    "            pickle.dump(pdict, f)\n",
    "        counter+=1\n",
    "\n",
    "\n",
    "#ended up having to pretty much write a hard-coded function\n",
    "#All dictionaries we want checkpointed will have to  be added here \n",
    "#and where the function is called\n",
    "#Fortunately, this function is only called ONCE\n",
    "\n",
    "def load_pickles():\n",
    "    import pickle\n",
    "    dirpath = os.path.join(checkpointPath, str(step))\n",
    "    dpfile = open(os.path.join(dirpath, 'dp.pkl'), 'r')\n",
    "    dp = pickle.load(dpfile)\n",
    "#    #\n",
    "    ndpfile = open(os.path.join(dirpath, 'ndp.pkl'), 'r')\n",
    "    ndp = edict(pickle.load(ndpfile))\n",
    "    #\n",
    "    sffile = open(os.path.join(dirpath, 'sf.pkl'), 'r')\n",
    "    sf = edict(pickle.load(sffile))\n",
    "    #\n",
    "    mdfile = open(os.path.join(dirpath, 'md.pkl'), 'r')\n",
    "    md = edict(pickle.load(mdfile))\n",
    "    return dp, ndp, sf, md"
   ]
  },
  {
   "cell_type": "code",
   "execution_count": 11,
   "metadata": {
    "collapsed": false
   },
   "outputs": [],
   "source": [
    "###########\n",
    "#Store the physical parameters, scale factors and dimensionless pramters in easyDicts\n",
    "#Mainly helps with avoiding overwriting variables\n",
    "###########\n",
    "\n",
    "\n",
    "#Style => parameters_like_this\n",
    "\n",
    "dp = edict({#Main physical paramters\n",
    "           'depth':0.5*2900.*1e3, #Depth\n",
    "           'LS':2900.*1e3, #Length scale\n",
    "           'rho':3300.,  #reference density\n",
    "           'g':9.8, #surface gravity\n",
    "           'eta0':1e20, #Dislocation creep at 250 km, 1573 K, 1e-15 s-1 \n",
    "           'k':1e-6, #thermal diffusivity\n",
    "           'a':3e-5, #surface thermal expansivity\n",
    "           'R':8.314, #gas constant\n",
    "           'Cp':1250., #Specific heat (Jkg-1K-1)\n",
    "           'TP':1573., #mantle potential temp (K)\n",
    "           'TS':273., #surface temp (K)\n",
    "            #Rheology - flow law paramters\n",
    "           'cm':2e6, #mantle cohesion in Byerlee law\n",
    "           'cc':2e6, #mantle cohesion in Byerlee law\n",
    "           'ci':2e6, #mantle cohesion in Byerlee law\n",
    "           'cf':2e6, #mantle cohesion in Byerlee law\n",
    "           'fcm':0.2,   #mantle friction coefficient in Byerlee law (tan(phi))\n",
    "           'fcc':0.01,   #crust friction coefficient \n",
    "           'fci':0.01,   #subduction interface friction coefficient\n",
    "           'fcf':0.03,   #subduction interface friction coefficient\n",
    "           'Adf':3e-11, #pre-exp factor for diffusion creep\n",
    "           'Ads':5e-16, #pre-exp factor for dislocation creep\n",
    "           'Apr':1e-150,#pre-exp factor for Peierls creep\n",
    "           'Edf':3e5,\n",
    "           'Eds':5.4e5,\n",
    "           'Epr':5.4e5,\n",
    "           'Vdf':4e-6,\n",
    "           'Vds':12e-6,\n",
    "           'Vpr':10e-6,\n",
    "           'Alm':2e-16,\n",
    "           'Elm':2.0e5,\n",
    "           'Vlm':1.5e-6,\n",
    "           'SR':1e-15, #reference strain rate\n",
    "           'n':3.5, #Dislocation creep stress exponent\n",
    "           'np':20., #Peierls creep stress exponent \n",
    "           #Rheology - cutoff values\n",
    "           'eta_min':1e17, \n",
    "           'eta_max':1e25, #viscosity max in the mantle material\n",
    "           'eta_min_crust':1e17, #viscosity min in the weak-crust material\n",
    "           'eta_max_crust':0.5*1e20, #viscosity max in the weak-crust material\n",
    "           'eta_min_interface':1e17, #viscosity min in the subduction interface material\n",
    "           'eta_max_interface':0.5*1e20, #viscosity max in the subduction interface material\n",
    "           'eta_min_fault':1e20, #viscosity min in the subduction interface material\n",
    "           'eta_max_fault':1e20, #viscosity max in the subduction interface material\n",
    "           #Length scales\n",
    "           'MANTLETOCRUST':8.*1e3, #Crust depth\n",
    "           'HARZBURGDEPTH':40e3,\n",
    "           'CRUSTTOMANTLE':800.*1e3,\n",
    "           'LITHTOMANTLE':(900.*1e3),\n",
    "           'MANTLETOLITH':200.*1e3, \n",
    "           'TOPOHEIGHT':10.*1e3,  #rock-air topography limits\n",
    "           'CRUSTTOECL':100.*1e3,\n",
    "           'LOWMANTLEDEPTH':660.*1e3, \n",
    "           'CRUSTVISCUTOFF':150.*1e3, #Deeper than this, crust material rheology reverts to mantle rheology\n",
    "           'AGETRACKDEPTH':100e3, #above this depth we track the age of the lithsphere (below age is assumed zero)\n",
    "           #Slab and plate parameters\n",
    "           'roc':250e3,     #radius of curvature of slab\n",
    "           'subzone':0.0,   #X position of subduction zone...km\n",
    "           'lRidge':-1.*(5000e3),  #For depth = 670 km, aspect ratio of 4, this puts the ridges at MINX, MAXX\n",
    "           'rRidge':(5000e3),\n",
    "           'maxDepth':250e3,\n",
    "           'theta':70., #Angle to truncate the slab (can also control with a maxDepth param)\n",
    "           'slabmaxAge':60e6, #age of subduction plate at trench\n",
    "           'platemaxAge':60e6, #max age of slab (Plate model)\n",
    "           'sense':'Right', #dip direction\n",
    "           'op_age_fac':0.5, #this controls the overidding plate age reduction\n",
    "           #Misc\n",
    "           'rDepth':250e3, #reference depth (used to scale / normalize the flow laws)\n",
    "           'StALS':100e3, #depth of sticky air layer\n",
    "           'Steta_n':1e19, #stick air viscosity, normal\n",
    "           'Steta_s':1e18, #stick air viscosity, shear \n",
    "           'plate_vel':4,\n",
    "           'low_mantle_visc_fac':10.\n",
    "             })\n",
    "\n",
    "#append any derived parameters to the dictionary\n",
    "#Adiabatic heating stuff\n",
    "\n",
    "dp.dTa = (dp.a*dp.g*(dp.TP))/dp.Cp #adibatic gradient, at Tp\n",
    "dp.deltaTa = (dp.TP + dp.dTa*dp.LS) - dp.TS  #Adiabatic Temp at base of mantle, minus Ts\n",
    "dp.rTemp= dp.TP + dp.rDepth*dp.dTa #reference temp, (potential temp + adiabat)\n"
   ]
  },
  {
   "cell_type": "code",
   "execution_count": 12,
   "metadata": {
    "collapsed": false
   },
   "outputs": [
    {
     "data": {
      "text/plain": [
       "3.4482758620689657"
      ]
     },
     "execution_count": 12,
     "metadata": {},
     "output_type": "execute_result"
    }
   ],
   "source": [
    "10/2.9"
   ]
  },
  {
   "cell_type": "code",
   "execution_count": 13,
   "metadata": {
    "collapsed": true
   },
   "outputs": [],
   "source": [
    "#Modelling and Physics switches\n",
    "\n",
    "md = edict({'refineMesh':True,\n",
    "            'stickyAir':False,\n",
    "            'subductionFault':False,\n",
    "            'symmetricIcs':False,\n",
    "            'velBcs':False,\n",
    "            'aspectRatio':6.89, # 2*Aspect ratio of the garel model, i.e preserves width when only half depth is used\n",
    "            'compBuoyancy':False, #use compositional & phase buoyancy, or simply thermal\n",
    "            'periodicBcs':False,\n",
    "            'RES':128,\n",
    "            'PIC_integration':True,\n",
    "            'ppc':25,\n",
    "            'elementType':\"Q1/dQ0\",\n",
    "            'compBuoyancy':False, #use compositional & phase buoyancy, or simply thermal\n",
    "            'viscMechs':['diffusion', 'dislocation', 'peierls', 'yielding'],\n",
    "            'viscCombine':'harmonic' #'harmonic', 'min', 'mixed'....\n",
    "            })"
   ]
  },
  {
   "cell_type": "code",
   "execution_count": 14,
   "metadata": {
    "collapsed": true
   },
   "outputs": [],
   "source": [
    "###########\n",
    "#If starting from a checkpoint load params from file\n",
    "###########\n",
    "\n",
    "if checkpointLoad:\n",
    "    dp, ndp, sf, md = load_pickles()  #remember to add any extra dictionaries"
   ]
  },
  {
   "cell_type": "code",
   "execution_count": 15,
   "metadata": {
    "collapsed": true
   },
   "outputs": [],
   "source": [
    "###########\n",
    "#If command line args are given, overwrite\n",
    "#Note that this assumes that params as commans line args/\n",
    "#only append to the 'dimensional' and 'model' dictionary (not the non-dimensional)\n",
    "###########    \n",
    "\n",
    "\n",
    "###########\n",
    "#If extra arguments are provided to the script\" eg:\n",
    "### >>> uw.py 2 dp.arg1=1 dp.arg2=foo dp.arg3=3.0\n",
    "###\n",
    "###This would assign ModNum = 2, all other values go into the dp dictionary, under key names provided\n",
    "###\n",
    "###Two operators are searched for, = & *=\n",
    "###\n",
    "###If =, parameter is re-assigned to givn value\n",
    "###If *=, parameter is multipled by given value\n",
    "###\n",
    "### >>> uw.py 2 dp.arg1=1 dp.arg2=foo dp.arg3*=3.0\n",
    "###########\n",
    "\n",
    "for farg in sys.argv[1:]:\n",
    "    try:\n",
    "        (dicitem,val) = farg.split(\"=\") #Split on equals operator\n",
    "        (dic,arg) = dicitem.split(\".\") #colon notation\n",
    "        if '*=' in farg:\n",
    "            (dicitem,val) = farg.split(\"*=\") #If in-place multiplication, split on '*='\n",
    "            (dic,arg) = dicitem.split(\".\")\n",
    "            \n",
    "        if val == 'True': \n",
    "            val = True\n",
    "        elif val == 'False':     #First check if args are boolean\n",
    "            val = False\n",
    "        else:\n",
    "            try:\n",
    "                val = float(val) #next try to convert  to a float,\n",
    "            except ValueError:\n",
    "                pass             #otherwise leave as string\n",
    "        #Update the dictionary\n",
    "        if farg.startswith('dp'):\n",
    "            if '*=' in farg:\n",
    "                dp[arg] = dp[arg]*val #multiply parameter by given factor\n",
    "            else:\n",
    "                dp[arg] = val    #or reassign parameter by given value\n",
    "        if farg.startswith('md'):\n",
    "            if '*=' in farg:\n",
    "                md[arg] = md[arg]*val #multiply parameter by given factor\n",
    "            else:\n",
    "                md[arg] = val    #or reassign parameter by given value\n",
    "                \n",
    "    except:\n",
    "        pass\n",
    "            \n",
    "\n",
    "comm.barrier()"
   ]
  },
  {
   "cell_type": "code",
   "execution_count": 16,
   "metadata": {
    "collapsed": false
   },
   "outputs": [],
   "source": [
    "if not checkpointLoad:\n",
    "    \n",
    "    #Scaling factors, used to map the dimensional parameters to dimensionless\n",
    "    \n",
    "    sf = edict({'stress':dp.LS**2/(dp.k*dp.eta0),\n",
    "            'lith_grad':dp.rho*dp.g*(dp.LS)**3/(dp.eta0*dp.k) ,\n",
    "            'vel':dp.LS/dp.k,\n",
    "            'SR':dp.LS**2/dp.k,\n",
    "            'W':(dp.rho*dp.g*dp.LS)/(dp.R*dp.deltaTa), #Including adiabatic compression, and deltaTa\n",
    "            'E': 1./(dp.R*dp.deltaTa), #using deltaTa, the guesstimated adiabatic temp differnnce to scale these paramters\n",
    "            #'Ads':(dp.eta0**(ndp.n-2))*((dp.k)**(ndp.n-1))*((dp.LS)**(2. - 2*ndp.n))       \n",
    "           })\n",
    "    \n",
    "     #dimensionless parameters\n",
    "    ndp = edict({'RA':(dp.g*dp.rho*dp.a*dp.deltaTa*(dp.LS)**3)/(dp.k*dp.eta0),\n",
    "             'Di': dp.a*dp.g*dp.LS/dp.Cp, #Dissipation number\n",
    "             'H':0.,\n",
    "             #Temperatures and reference depth\n",
    "             'TSP':0., #dimensionless potential temp\n",
    "             'TPP':(dp.TP - dp.TS)/dp.deltaTa, #dimensionless potential temp\n",
    "             'TS':dp.TS/dp.deltaTa,\n",
    "             'TP':dp.TP/dp.deltaTa,\n",
    "             'rTemp':(dp.rTemp- dp.TS)/dp.deltaTa,\n",
    "             'rDepth':dp.rDepth/dp.LS,\n",
    "              #Rheology - flow law paramters        \n",
    "             'Wdf':dp.Vdf*sf.W,\n",
    "             'Edf':dp.Edf*sf.E,\n",
    "             'Wps':dp.Vpr*sf.W,\n",
    "             'Eps':dp.Epr*sf.E,\n",
    "             'Wds':dp.Vds*sf.W,      #{df  => diffusion creep}\n",
    "             'Eds':dp.Eds*sf.E,      #{ds  => dislocation creep}\n",
    "             'Elm':dp.Elm*sf.E,      #{pr  => Peierls creep}\n",
    "             'Elm':dp.Elm*sf.E,\n",
    "             'Wlm':dp.Vlm*sf.W,\n",
    "             'cm':dp.cm*sf.stress,\n",
    "             'cc':dp.cc*sf.stress,    #{dimensionless cohesion in mantl, crust, interface}\n",
    "             'ci':dp.ci*sf.stress,\n",
    "             'cf':dp.cf*sf.stress,\n",
    "             'fcmd':dp.fcm*sf.lith_grad, \n",
    "             'fccd':dp.fcc*sf.lith_grad, #{dimensionless friction coefficient in mantle, crust, interface}\n",
    "             'fcid':dp.fci*sf.lith_grad,\n",
    "             'fcfd':dp.fci*sf.lith_grad,\n",
    "             'n':dp.n, #Dislocation creep stress exponent\n",
    "             'np':dp.np, #Peierls creep stress exponent \n",
    "             #Rheology - cutoff values\n",
    "             'eta_min':dp.eta_min/dp.eta0, \n",
    "             'eta_max':dp.eta_max/dp.eta0, #viscosity max in the mantle material\n",
    "             'eta_min_crust':dp.eta_min_crust/dp.eta0, #viscosity min in the weak-crust material\n",
    "             'eta_max_crust':dp.eta_max_crust/dp.eta0, #viscosity max in the weak-crust material\n",
    "             'eta_min_interface':dp.eta_min_interface/dp.eta0, #viscosity min in the subduction interface material\n",
    "             'eta_max_interface':dp.eta_max_interface/dp.eta0, #viscosity max in the subduction interface material\n",
    "             'eta_min_fault':dp.eta_min_fault/dp.eta0, #viscosity min in the subduction interface material\n",
    "             'eta_max_fault':dp.eta_max_fault/dp.eta0, #viscosity max in the subduction interface material \n",
    "             #Lengths scales\n",
    "             'MANTLETOCRUST':dp.MANTLETOCRUST/dp.LS, #Crust depth\n",
    "             'HARZBURGDEPTH':dp.HARZBURGDEPTH/dp.LS,\n",
    "             'CRUSTTOMANTLE':dp.CRUSTTOMANTLE/dp.LS,\n",
    "             'LITHTOMANTLE':dp.LITHTOMANTLE/dp.LS,\n",
    "             'MANTLETOLITH':dp.MANTLETOLITH/dp.LS,\n",
    "             'TOPOHEIGHT':dp.TOPOHEIGHT/dp.LS,  #rock-air topography limits\n",
    "             'CRUSTTOECL':dp.CRUSTTOECL/dp.LS,\n",
    "             'LOWMANTLEDEPTH':dp.LOWMANTLEDEPTH/dp.LS, \n",
    "             'CRUSTVISCUTOFF':dp.CRUSTVISCUTOFF/dp.LS, #Deeper than this, crust material rheology reverts to mantle rheology\n",
    "             'AGETRACKDEPTH':dp.AGETRACKDEPTH/dp.LS,\n",
    "             #Slab and plate parameters\n",
    "             'roc':dp.roc/dp.LS,         #radius of curvature of slab\n",
    "             'subzone':dp.subzone/dp.LS, #X position of subduction zone...km\n",
    "             'lRidge':dp.lRidge/dp.LS,   #For depth = 670 km, aspect ratio of 4, this puts the ridges at MINX, MAXX\n",
    "             'rRidge':dp.rRidge/dp.LS,\n",
    "             'maxDepth':dp.maxDepth/dp.LS,\n",
    "             #Misc\n",
    "             'Steta_n':dp.Steta_n/dp.eta0, #stick air viscosity, normal\n",
    "             'Steta_s':dp.Steta_n/dp.eta0, #stick air viscosity, shear \n",
    "             'StALS':dp.StALS/dp.LS,\n",
    "             'plate_vel':sf.vel*dp.plate_vel*(cmpery.to(u.m/u.second)).magnitude,\n",
    "             'low_mantle_visc_fac':dp.low_mantle_visc_fac\n",
    "            })\n",
    "\n",
    "    #Append any more derived paramters\n",
    "    ndp.SR = dp.SR*sf.SR #characteristic strain rate\n",
    "    ndp.StRA = (3300.*dp.g*(dp.LS)**3)/(dp.eta0 *dp.k) #Composisitional Rayleigh number for rock-air buoyancy force\n",
    "    ndp.TaP = 1. - ndp.TPP,  #Dimensionles adiabtic component of deltaT"
   ]
  },
  {
   "cell_type": "code",
   "execution_count": null,
   "metadata": {
    "collapsed": true
   },
   "outputs": [],
   "source": []
  },
  {
   "cell_type": "markdown",
   "metadata": {},
   "source": [
    "**Model/ mesh  setup parameters**"
   ]
  },
  {
   "cell_type": "code",
   "execution_count": 17,
   "metadata": {
    "collapsed": false
   },
   "outputs": [],
   "source": [
    "###########\n",
    "#Model setup parameters\n",
    "###########\n",
    "\n",
    "dim = 2          # number of spatial dimensions\n",
    "\n",
    "\n",
    "#Domain and Mesh paramters\n",
    "Xres = int(md.RES*8)\n",
    "\n",
    "\n",
    "hw = np.round(5000e3/dp.LS, 1)\n",
    "MINX = -1*hw\n",
    "MINY = 1. - (dp.depth/dp.LS)\n",
    "\n",
    "\n",
    "MAXX = hw\n",
    "MAXY = 1.\n",
    "\n",
    "\n",
    "if md.stickyAir:\n",
    "    Yres = int(md.RES)\n",
    "    MAXY = 1. + dp.StALS/dp.LS #150km\n",
    "    \n",
    "else:\n",
    "    Yres = int(md.RES)\n",
    "    MAXY = 1.\n",
    "\n",
    "\n",
    "periodic = [False, False]\n",
    "if md.periodicBcs:\n",
    "    periodic = [True, False]\n",
    "\n",
    "\n",
    "\n",
    "\n",
    "#Metric output stuff\n",
    "figures =  'gldb' #glucifer Store won't work on all machines, if not, set to 'gldb' \n",
    "swarm_repop, swarm_update = 10, 10\n",
    "gldbs_output = 40\n",
    "checkpoint_every, files_output = 50, 20 #checkpoint every needs to be greater or equal to metric_output \n",
    "metric_output = 20\n",
    "sticky_air_temp = 1e6"
   ]
  },
  {
   "cell_type": "code",
   "execution_count": 18,
   "metadata": {
    "collapsed": false
   },
   "outputs": [],
   "source": [
    "mesh = uw.mesh.FeMesh_Cartesian( elementType = (md.elementType),\n",
    "                                 elementRes  = (Xres, Yres), \n",
    "                                 minCoord    = (MINX, MINY), \n",
    "                                 maxCoord    = (MAXX, MAXY), periodic=periodic)\n",
    "\n",
    "velocityField       = uw.mesh.MeshVariable( mesh=mesh,         nodeDofCount=2 )\n",
    "pressureField       = uw.mesh.MeshVariable( mesh=mesh.subMesh, nodeDofCount=1 )\n",
    "temperatureField    = uw.mesh.MeshVariable( mesh=mesh,         nodeDofCount=1 )\n",
    "temperatureDotField = uw.mesh.MeshVariable( mesh=mesh,         nodeDofCount=1 )"
   ]
  },
  {
   "cell_type": "code",
   "execution_count": 19,
   "metadata": {
    "collapsed": true
   },
   "outputs": [],
   "source": [
    "mesh.reset()\n"
   ]
  },
  {
   "cell_type": "code",
   "execution_count": 20,
   "metadata": {
    "collapsed": false
   },
   "outputs": [
    {
     "name": "stdout",
     "output_type": "stream",
     "text": [
      "Min\n",
      "(512, 0.0033867187499999774, 2.5840000000000054, 0.95999999999997443)\n",
      "('edges', 512)\n",
      "-- iteration 0 --\n",
      "| F( p_n ) |^2: 2.1341247797e-05\n",
      "| p_n+1 - p_n |^2: 11.8441792803\n",
      "-- iteration 1 --\n",
      "| F( p_n ) |^2: 4.40508176067e-30\n",
      "Min, Max element width: \n",
      "0.00339\n",
      "0.00989\n"
     ]
    },
    {
     "name": "stderr",
     "output_type": "stream",
     "text": [
      "/root/slippy2/slippy2/spmesh.py:213: DeprecationWarning: the sets module is deprecated\n",
      "  from sets import ImmutableSet as Set\n"
     ]
    }
   ],
   "source": [
    "###########\n",
    "#Mesh refinement\n",
    "###########\n",
    "\n",
    "#X-Axis\n",
    "\n",
    "if md.refineMesh:\n",
    "    mesh.reset()\n",
    "    axis = 0\n",
    "    origcoords = np.linspace(mesh.minCoord[axis], mesh.maxCoord[axis], mesh.elementRes[axis] + 1)\n",
    "    edge_rest_lengths = np.diff(origcoords)\n",
    "\n",
    "    deform_lengths = edge_rest_lengths.copy()\n",
    "    min_point =  (abs(mesh.maxCoord[axis]) - abs(mesh.minCoord[axis]))/2.\n",
    "    el_reduction = 0.51\n",
    "    dx = mesh.maxCoord[axis] - min_point\n",
    "\n",
    "    deform_lengths = deform_lengths - \\\n",
    "                                    ((1.-el_reduction) *deform_lengths[0]) + \\\n",
    "                                    abs((origcoords[1:] - min_point))*((0.5*deform_lengths[0])/dx)\n",
    "\n",
    "    #print(edge_rest_lengths.shape, deform_lengths.shape)\n",
    "\n",
    "    spmesh.deform_1d(deform_lengths, mesh,axis = 'x',norm = 'Min', constraints = [])"
   ]
  },
  {
   "cell_type": "code",
   "execution_count": 21,
   "metadata": {
    "collapsed": false
   },
   "outputs": [],
   "source": [
    "axis = 1\n",
    "orgs = np.linspace(mesh.minCoord[axis], mesh.maxCoord[axis], mesh.elementRes[axis] + 1)\n",
    "\n",
    "value_to_constrain = 1.\n",
    "\n",
    "\n",
    "yconst = [(spmesh.find_closest(orgs, value_to_constrain), np.array([value_to_constrain,0]))]"
   ]
  },
  {
   "cell_type": "code",
   "execution_count": 22,
   "metadata": {
    "collapsed": false,
    "scrolled": true
   },
   "outputs": [
    {
     "name": "stdout",
     "output_type": "stream",
     "text": [
      "Min\n",
      "(64, 0.00390625, 0.3115234375, 3.0634920634920637)\n",
      "('edges', 64)\n",
      "-- iteration 0 --\n",
      "| F( p_n ) |^2: 3.1486390129e-05\n",
      "| p_n+1 - p_n |^2: 0.137599723049\n",
      "-- iteration 1 --\n",
      "| F( p_n ) |^2: 3.42851641287e-31\n",
      "Min, Max element width: \n",
      "0.00391\n",
      "0.01172\n"
     ]
    }
   ],
   "source": [
    "###########\n",
    "#Mesh refinement\n",
    "###########\n",
    "\n",
    "if md.refineMesh:\n",
    "    #Y-Axis\n",
    "    axis = 1\n",
    "    origcoords = np.linspace(mesh.minCoord[axis], mesh.maxCoord[axis], mesh.elementRes[axis] + 1)\n",
    "    edge_rest_lengths = np.diff(origcoords)\n",
    "\n",
    "    deform_lengths = edge_rest_lengths.copy()\n",
    "    min_point =  (mesh.maxCoord[axis])\n",
    "    el_reduction = 0.5\n",
    "    dx = mesh.maxCoord[axis]\n",
    "\n",
    "    deform_lengths = deform_lengths - \\\n",
    "                                    ((1.-el_reduction)*deform_lengths[0]) + \\\n",
    "                                    abs((origcoords[1:] - min_point))*((0.5*deform_lengths[0])/dx)\n",
    "\n",
    "    #print(edge_rest_lengths.shape, deform_lengths.shape)\n",
    "\n",
    "    spmesh.deform_1d(deform_lengths, mesh,axis = 'y',norm = 'Min', constraints = yconst)"
   ]
  },
  {
   "cell_type": "code",
   "execution_count": 23,
   "metadata": {
    "collapsed": false
   },
   "outputs": [],
   "source": [
    "#THis is a hack for adding a sticky air domain, we refine MAXY and things like the temperature stencil work from Y = 1. \n",
    "\n",
    "if md.stickyAir:\n",
    "    MAXY = 1."
   ]
  },
  {
   "cell_type": "markdown",
   "metadata": {},
   "source": [
    "Initial conditions\n",
    "-------\n"
   ]
  },
  {
   "cell_type": "code",
   "execution_count": 24,
   "metadata": {
    "collapsed": false
   },
   "outputs": [],
   "source": [
    "coordinate = fn.input()\n",
    "depthFn = 1. - coordinate[1] #a function providing the depth\n",
    "xFn = coordinate[0]  #a function providing the x-coordinate\n",
    "yFn = coordinate[1]  #a function providing the y-coordinate\n",
    "\n",
    "potTempFn = ndp.TPP + (depthFn)*ndp.TaP #a function providing the adiabatic temp at any depth\n",
    "abHeatFn = -1.*velocityField[1]*temperatureField*ndp.Di #a function providing the adiabatic heating rate"
   ]
  },
  {
   "cell_type": "code",
   "execution_count": 25,
   "metadata": {
    "collapsed": false
   },
   "outputs": [],
   "source": [
    "#ndp.TaP"
   ]
  },
  {
   "cell_type": "code",
   "execution_count": 26,
   "metadata": {
    "collapsed": false
   },
   "outputs": [],
   "source": [
    "def age_fn(xFn, sz = 0.0, lMOR=MINX, rMOR=MAXX, opFac=1., conjugate_plate = False):\n",
    "    \"\"\"\n",
    "    Simple function to generate a discrete 1-d (i.e x-coordinate) function for the age of the thermal BC. \n",
    "    All paramters are dimensionless\n",
    "    sz: location of subduction zone\n",
    "    lMOR: location of left-hand MOR\n",
    "    rMOR: location of right-hand MOR\n",
    "    opFac: uniform reduce the age of the right hand plate by this factor\n",
    "    conjugate_plate: if True, build plates on the outer sides of the MORs, if False, age = 0. \n",
    "    \"\"\"\n",
    "    \n",
    "    if lMOR < MINX:\n",
    "        lMOR = MINX\n",
    "    if rMOR > MAXX:\n",
    "        rMOR = MAXX\n",
    "    r_grad =  1./(abs(rMOR-sz))\n",
    "    l_grad =  1./(abs(sz-lMOR))\n",
    "    if conjugate_plate:\n",
    "        ageFn = fn.branching.conditional([(operator.and_(xFn > lMOR, xFn < sz) , (xFn + abs(lMOR))/(abs(sz-lMOR))), \n",
    "                                      (operator.and_(xFn < rMOR, xFn >= sz), (1.-(xFn + abs(sz))/abs(rMOR-sz))*opFac),\n",
    "                                      (xFn > rMOR, r_grad*opFac*(xFn -abs(rMOR)) / (abs(MAXX-rMOR))),\n",
    "                                      (True, l_grad*fn.math.abs((((xFn + abs(lMOR)) / (abs(lMOR - MINX))))))\n",
    "                                         ])\n",
    "    else:    \n",
    "        \n",
    "        ageFn = fn.branching.conditional([(operator.and_(xFn > lMOR, xFn < sz) , (xFn + abs(lMOR))/(abs(sz-lMOR))), \n",
    "                                      (operator.and_(xFn < rMOR, xFn >= sz), (1.-(xFn + abs(sz))/abs(rMOR-sz))*opFac),\n",
    "\n",
    "                                      (True, 0.0)])\n",
    "    return ageFn"
   ]
  },
  {
   "cell_type": "code",
   "execution_count": 27,
   "metadata": {
    "collapsed": false
   },
   "outputs": [],
   "source": [
    "###########\n",
    "#Thermal initial condition:\n",
    "#if symmetricIC, we build a symmetric downwelling on top of a sinusoidal perturbation\n",
    "##########\n",
    "\n",
    "#Sinusoidal initial condition\n",
    "A = 0.2\n",
    "sinFn = depthFn + A*(fn.math.cos( math.pi * coordinate[0])  * fn.math.sin( math.pi * coordinate[1] ))        \n",
    "iD = 1000e3/dp.LS #Initial Slab depth\n",
    "dl =  2*math.sqrt(dp.k*160e6*3600*24*365) #diffusion Length at ... My\n",
    "w0 = dl/dp.LS #Boundary layer/slab initial condition\n",
    "delX1 = fn.misc.min(fn.math.abs(coordinate[0] - -0.), fn.math.abs(coordinate[0] - -2.))\n",
    "delX = fn.misc.min(delX1 , fn.math.abs(coordinate[0] - 2.))\n",
    "w = w0*fn.math.sqrt(delX + 1e-7)\n",
    "tempBL = (potTempFn) *fn.math.erf((depthFn)/w) + ndp.TSP\n",
    "delX = fn.misc.min(fn.math.abs(coordinate[0] - - 1.) , fn.math.abs(coordinate[0] - 1.))\n",
    "tempSlab = (potTempFn ) *fn.math.erf((delX*2.)/w0) + ndp.TSP       \n",
    "tempFn1 =  fn.misc.min(tempBL, tempSlab)\n",
    "blFn = fn.branching.conditional([(depthFn < iD, tempFn1), \n",
    "                                    (True, potTempFn)])\n",
    "\n",
    "tempFn = 0.*sinFn + 1.*blFn #partition the temp between these the symmetric downwelling and sinusoid\n",
    "if md.symmetricIcs:  \n",
    "    if not checkpointLoad:\n",
    "        temperatureField.data[:] = tempFn.evaluate(mesh)  "
   ]
  },
  {
   "cell_type": "markdown",
   "metadata": {
    "collapsed": false
   },
   "source": [
    "###########\n",
    "#Thermal initial condition 2: \n",
    "#if symmetricIC == False, we build an asymmetric subduction-zone\n",
    "###########\n",
    "\n",
    "#Main control paramters are:\n",
    "\n",
    "Roc = 250e3 #radius of curvature of slab\n",
    "\n",
    "theta = 75. #Angle to truncate the slab (can also do with with a cutoff depth)\n",
    "subzone = 0.0 #X position of subduction zone...in model coordinates\n",
    "slabmaxAge = 125e6 #age of subduction plate at trench\n",
    "platemaxAge = 125e6 #max age of slab (Plate model)\n",
    "ageAtTrenchSeconds = min(platemaxAge*(3600*24*365), slabmaxAge*(3600*24*365))\n",
    "\n",
    "\n",
    "sense = 'Right' #dip direction\n",
    "op_age_fac = 0.2 #this controls the overidding plate speed, hence age reduction\n",
    "\n",
    "\n",
    "#First build the top TBL\n",
    "#lRidge = -0.5*(670e3*4)/dp.LS_SC  #For depth = 670 km, aspect ratio of 4, this puts the ridges at MINX, MAXX\n",
    "#rRidge = 0.5*(670e3*4)/dp.LS_SC\n",
    "\n",
    "#ageFn = age_fn(xFn, sz = -0.5, lMOR=-2., rMOR=2.)\n",
    "ageFn = age_fn(xFn, sz =0., opFac=op_age_fac, conjugate_plate=True)\n",
    "\n",
    "#dimensionlize the age function\n",
    "ageFn *= slabmaxAge*(3600*24*365)\n",
    "#ageFn = fn.misc.min(ageFn, platemaxAge*(3600*24*365)) #apply plate model\n",
    "\n",
    "w0 = (2.3*math.sqrt(dp.k*ageAtTrenchSeconds))/dp.LS #diffusion depth of plate at the trench\n",
    "\n",
    "tempBL = (potTempFn) *fn.math.erf((depthFn*dp.LS)/(2.*fn.math.sqrt(dp.k*ageFn))) + ndp.TSP #boundary layer function\n",
    "\n",
    "tempTBL =  fn.branching.conditional([(depthFn < w0, tempBL),\n",
    "                          (True, potTempFn)])\n",
    "\n",
    "if not md.symmetricIcs:\n",
    "    if not checkpointLoad:\n",
    "        out = uw.utils.MeshVariable_Projection( temperatureField, tempTBL) #apply function with projection\n",
    "        out.solve()\n",
    "\n",
    "\n",
    "#Now build the perturbation part\n",
    "def inCircleFnGenerator(centre, radius):\n",
    "    coord = fn.input()\n",
    "    offsetFn = coord - centre\n",
    "    return fn.math.dot( offsetFn, offsetFn ) < radius**2\n",
    "\n",
    "#Setup slab perturbation params (mostly dimensionlesl / model params here)\n",
    "phi = 90. - theta\n",
    "RocM = (Roc/dp.LS)\n",
    "CrustM = ndp.MANTLETOCRUST\n",
    "Org = (subzone, 1.-RocM)\n",
    "maxDepth = 194e3/dp.LS\n",
    "\n",
    "#We use three circles to define our slab and crust perturbation,  \n",
    "Oc = inCircleFnGenerator(Org , RocM)\n",
    "Oc2 = inCircleFnGenerator(Org , RocM + (0.5*CrustM)) #increases the amount of crust in the interface\n",
    "Ic = inCircleFnGenerator(Org , RocM - w0)\n",
    "Cc = inCircleFnGenerator(Org , RocM - (1.*CrustM)) #... weak zone on 'inside' of slab\n",
    "Hc = inCircleFnGenerator(Org , RocM - ndp.HARZBURGDEPTH) #... Harzburgite layer \n",
    "dx = (RocM)/(np.math.tan((np.math.pi/180.)*phi))\n",
    "\n",
    "#We'll also create a triangle which will truncate the circles defining the slab...\n",
    "if sense == 'Left':\n",
    "    ptx = subzone - dx\n",
    "else:\n",
    "    ptx = subzone + dx\n",
    "coords = ((0.+subzone, 1), (0.+subzone, 1.-RocM), (ptx, 1.))\n",
    "Tri = fn.shape.Polygon(np.array(coords))\n",
    "\n",
    "#Actually apply the perturbation\n",
    "if not md.symmetricIcs:\n",
    "    if not checkpointLoad:\n",
    "        sdFn = ((RocM - fn.math.sqrt((coordinate[0] - Org[0])**2. + (coordinate[1] - Org[1])**2.)))\n",
    "        slabFn = ndp.TPP*fn.math.erf((sdFn*dp.LS)/(2.*math.sqrt(dp.k*ageAtTrenchSeconds))) + ndp.TSP\n",
    "        for index, coord in enumerate(mesh.data):\n",
    "            if (\n",
    "                Oc.evaluate(tuple(coord)) and\n",
    "                Tri.evaluate(tuple(coord)) and not\n",
    "                Ic.evaluate(tuple(coord)) and\n",
    "                coord[1] > (1. - maxDepth)\n",
    "                ): #In the quarter-circle defining the lithosphere\n",
    "                temperatureField.data[index] = slabFn.evaluate(mesh)[index]\n",
    "\n"
   ]
  },
  {
   "cell_type": "code",
   "execution_count": 28,
   "metadata": {
    "collapsed": true
   },
   "outputs": [],
   "source": [
    "###########\n",
    "#Thermal initial condition - half-space cooling\n",
    "###########\n",
    "\n",
    "#  a few conversions\n",
    "ageAtTrenchSeconds = min(dp.platemaxAge*(3600*24*365), dp.slabmaxAge*(3600*24*365))\n",
    "#slab perturbation params (mostly dimensionless / model params here)\n",
    "phi = 90. - dp.theta\n",
    "Org = (ndp.subzone, MAXY-ndp.roc)\n",
    "\n",
    "#First build the top TBL\n",
    "ageFn = age_fn(xFn, sz =ndp.subzone, lMOR=ndp.lRidge,rMOR=ndp.rRidge, conjugate_plate=True, opFac = dp.op_age_fac)\n",
    "#dimensionlize the age function\n",
    "ageFn *= ageAtTrenchSeconds #seconds to year\n",
    "w0 = (2.3*math.sqrt(dp.k*ageAtTrenchSeconds))/dp.LS #diffusion depth of plate at the trench\n",
    "\n",
    "tempBL = (ndp.TPP - ndp.TSP)*fn.math.erf((depthFn*dp.LS)/(2.*fn.math.sqrt(dp.k*ageFn))) + ndp.TSP #boundary layer function\n",
    "tempTBL =  fn.branching.conditional([(depthFn < w0, tempBL),\n",
    "                          (True, ndp.TPP)])\n",
    "\n",
    "if not md.symmetricIcs:\n",
    "    if not checkpointLoad:\n",
    "        out = uw.utils.MeshVariable_Projection( temperatureField, tempTBL) #apply function with projection\n",
    "        out.solve()\n",
    "\n"
   ]
  },
  {
   "cell_type": "code",
   "execution_count": 29,
   "metadata": {
    "collapsed": false
   },
   "outputs": [],
   "source": [
    "#Now build the perturbation part\n",
    "def inCircleFnGenerator(centre, radius):\n",
    "    coord = fn.input()\n",
    "    offsetFn = coord - centre\n",
    "    return fn.math.dot( offsetFn, offsetFn ) < radius**2\n",
    "\n",
    "\n",
    "\n",
    "#We use three circles to define our slab and crust perturbation,  \n",
    "Oc = inCircleFnGenerator(Org , ndp.roc)\n",
    "Oc2 = inCircleFnGenerator(Org , ndp.roc + (0.5*ndp.MANTLETOCRUST)) #increases the amount of crust in the interface\n",
    "Ic = inCircleFnGenerator(Org , ndp.roc - w0)\n",
    "Cc = inCircleFnGenerator(Org , ndp.roc - (1.2*ndp.MANTLETOCRUST)) #... weak zone on 'outside' of slab\n",
    "Hc = inCircleFnGenerator(Org , ndp.roc - ndp.HARZBURGDEPTH) #... Harzburgite layer \n",
    "dx = (ndp.roc)/(np.math.tan((np.math.pi/180.)*phi))\n",
    "\n",
    "#We'll also create a triangle which will truncate the circles defining the slab...\n",
    "if dp.sense == 'Left':\n",
    "    ptx = ndp.subzone - dx\n",
    "else:\n",
    "    ptx = ndp.subzone + dx\n",
    "coords = ((0.+ ndp.subzone, MAXY), (0.+ ndp.subzone, MAXY-ndp.roc), (ptx, MAXY))\n",
    "Tri = fn.shape.Polygon(np.array(coords))\n",
    "\n",
    "#Actually apply the perturbation - could probably avoid particle walk here\n",
    "if not md.symmetricIcs:\n",
    "    if not checkpointLoad:\n",
    "        sdFn = ((ndp.roc - fn.math.sqrt((coordinate[0] - Org[0])**2. + (coordinate[1] - Org[1])**2.)))\n",
    "        slabFn = ndp.TPP*fn.math.erf((sdFn*dp.LS)/(2.*math.sqrt(dp.k*ageAtTrenchSeconds))) + ndp.TSP\n",
    "        for index, coord in enumerate(mesh.data):\n",
    "            if (\n",
    "                Oc.evaluate(tuple(coord)) and\n",
    "                Tri.evaluate(tuple(coord)) and not\n",
    "                Ic.evaluate(tuple(coord)) and\n",
    "                coord[1] > (MAXY - ndp.maxDepth)\n",
    "                ): #In the quarter-circle defining the lithosphere\n",
    "                temperatureField.data[index] = slabFn.evaluate(mesh)[index]\n"
   ]
  },
  {
   "cell_type": "code",
   "execution_count": 30,
   "metadata": {
    "collapsed": false
   },
   "outputs": [],
   "source": [
    "#Make sure material in sticky air region is at the surface temperature.\n",
    "for index, coord in enumerate(mesh.data):\n",
    "            if coord[1] >= 1.:\n",
    "                temperatureField.data[index] = ndp.TSP"
   ]
  },
  {
   "cell_type": "markdown",
   "metadata": {
    "collapsed": false
   },
   "source": [
    "def matplot_field(temperatureField, dp):\n",
    "    if uw.nProcs() != 1:\n",
    "        print(\"only in Serial folks\")\n",
    "    else:\n",
    "        import matplotlib.pyplot as pyplt\n",
    "        try :\n",
    "            if(__IPYTHON__) :\n",
    "                get_ipython().magic(u'matplotlib inline')\n",
    "        except NameError :\n",
    "            pass\n",
    "        field_data = temperatureField.data.reshape(mesh.elementRes[1] + 1, mesh.elementRes[0] + 1)\n",
    "        fig, ax = pyplt.subplots(figsize=(32,2))\n",
    "        ql = dp.LS/1e3\n",
    "        pyplt.ioff()\n",
    "        cax =ax.imshow(np.flipud(field_data), cmap='coolwarm', aspect = 0.5, extent=[0,ql*aspectRatio,ql, 0])\n",
    "        fig.colorbar(cax, orientation='horizontal' )\n",
    "        #ax.set_x([0,dp.LS*aspectRatio])\n",
    "        pyplt.tight_layout()\n",
    "        \n",
    "        return fig, ax\n",
    "        \n",
    "fig, ax = matplot_field(temperatureField, dp)\n",
    "fig.savefig('test.png')       "
   ]
  },
  {
   "cell_type": "code",
   "execution_count": 31,
   "metadata": {
    "collapsed": false
   },
   "outputs": [],
   "source": [
    "fig= glucifer.Figure(quality=3)\n",
    "\n",
    "#fig.append( glucifer.objects.Surface(mesh,temperatureField, discrete=True))\n",
    "#fig.append( glucifer.objects.Mesh(mesh))\n",
    "#fig.append( glucifer.objects.Points())\n",
    "#fig.show()\n",
    "#fig.save_database('test.gldb')\n"
   ]
  },
  {
   "cell_type": "code",
   "execution_count": 32,
   "metadata": {
    "collapsed": false
   },
   "outputs": [],
   "source": [
    "#ndp.RA*ndp.TPP, ndp.RA*temperatureField.data.max()\n",
    "#ndp.TPP"
   ]
  },
  {
   "cell_type": "markdown",
   "metadata": {},
   "source": [
    "Boundary conditions\n",
    "-------"
   ]
  },
  {
   "cell_type": "code",
   "execution_count": 33,
   "metadata": {
    "collapsed": false
   },
   "outputs": [
    {
     "name": "stdout",
     "output_type": "stream",
     "text": [
      "2\n"
     ]
    }
   ],
   "source": [
    "iWalls = mesh.specialSets[\"MinI_VertexSet\"] + mesh.specialSets[\"MaxI_VertexSet\"]\n",
    "jWalls = mesh.specialSets[\"MinJ_VertexSet\"] + mesh.specialSets[\"MaxJ_VertexSet\"]\n",
    "tWalls = mesh.specialSets[\"MaxJ_VertexSet\"]\n",
    "bWalls =mesh.specialSets[\"MinJ_VertexSet\"]\n",
    "\n",
    "\n",
    "for index in mesh.specialSets[\"MinJ_VertexSet\"]:\n",
    "    temperatureField.data[index] = potTempFn.evaluate(bWalls).min() #Adiabatic temp at bottom of mesh/domain\n",
    "for index in mesh.specialSets[\"MaxJ_VertexSet\"]:\n",
    "    temperatureField.data[index] = ndp.TSP\n",
    "\n",
    "VelBCs = mesh.specialSets[\"Empty\"]\n",
    "\n",
    "\n",
    "\n",
    "if md.velBcs:\n",
    "    for index in list(tWalls.data):\n",
    "\n",
    "        if (mesh.data[int(index)][0] < (ndp.subzone - 0.05*md.aspectRatio) and \n",
    "            mesh.data[int(index)][0] > (mesh.minCoord[0] + 0.05*md.aspectRatio)): #Only push with a portion of teh overiding plate\n",
    "            #print \"first\"\n",
    "            VelBCs.add(int(index))\n",
    "            #Set the plate velocities for the kinematic phase\n",
    "            velocityField.data[index] = [ndp.plate_vel, 0.]\n",
    "        \n",
    "        elif (mesh.data[int(index)][0] > (ndp.subzone + 0.05*md.aspectRatio) and \n",
    "            mesh.data[int(index)][0] < (mesh.maxCoord[0] - 0.05*md.aspectRatio)):\n",
    "            #print \"second\"\n",
    "            VelBCs.add(int(index))\n",
    "            #Set the plate velocities for the kinematic phase\n",
    "            velocityField.data[index] = [0., 0.]\n",
    "        \n",
    "\n",
    "#If periodic, we'll fix a the x-vel at a single node - at the bottom left (index 0)\n",
    "Fixed = mesh.specialSets[\"Empty\"]\n",
    "Fixed.add(int(0))        \n",
    "        \n",
    "\n",
    "if periodic[0] == False:\n",
    "    if md.velBcs:\n",
    "        print(1)\n",
    "        freeslipBC = uw.conditions.DirichletCondition( variable      = velocityField, \n",
    "                                               indexSetsPerDof = ( iWalls + VelBCs, jWalls) )\n",
    "    else:\n",
    "        print(2)\n",
    "        freeslipBC = uw.conditions.DirichletCondition( variable      = velocityField, \n",
    "                                               indexSetsPerDof = ( iWalls, jWalls) )\n",
    "\n",
    "\n",
    "\n",
    "if periodic[0] == True:\n",
    "    if md.velBcs:\n",
    "        print(3)\n",
    "        freeslipBC = uw.conditions.DirichletCondition( variable      = velocityField, \n",
    "                                               indexSetsPerDof = ( Fixed + VelBCs , jWalls) )\n",
    "    else:\n",
    "        print(4)\n",
    "        freeslipBC = uw.conditions.DirichletCondition( variable      = velocityField, \n",
    "                                               indexSetsPerDof = ( Fixed, jWalls) )\n",
    "        \n",
    "    \n",
    "    \n",
    "    \n",
    "# also set dirichlet for temp field\n",
    "dirichTempBC = uw.conditions.DirichletCondition(     variable=temperatureField, \n",
    "                                              indexSetsPerDof=(tWalls,) )\n",
    "dT_dy = [0.,0.]\n",
    "\n",
    "# also set dirichlet for temp field\n",
    "neumannTempBC = uw.conditions.NeumannCondition( dT_dy, variable=temperatureField, \n",
    "                                         nodeIndexSet=bWalls)\n",
    "\n"
   ]
  },
  {
   "cell_type": "code",
   "execution_count": null,
   "metadata": {
    "collapsed": false
   },
   "outputs": [],
   "source": []
  },
  {
   "cell_type": "code",
   "execution_count": 34,
   "metadata": {
    "collapsed": false
   },
   "outputs": [],
   "source": [
    "#check VelBCs are where we want them\n",
    "#test = np.zeros(len(tWalls.data))\n",
    "#VelBCs\n",
    "#tWalls.data\n",
    "#tWalls.data[VelBCs.data]\n",
    "#test[np.in1d(tWalls.data, VelBCs.data)] = 1.\n",
    "#test\n",
    "\n"
   ]
  },
  {
   "cell_type": "code",
   "execution_count": null,
   "metadata": {
    "collapsed": false
   },
   "outputs": [],
   "source": []
  },
  {
   "cell_type": "markdown",
   "metadata": {},
   "source": [
    "Swarm setup\n",
    "-----\n"
   ]
  },
  {
   "cell_type": "code",
   "execution_count": 35,
   "metadata": {
    "collapsed": false
   },
   "outputs": [],
   "source": [
    "###########\n",
    "#Material Swarm and variables\n",
    "###########\n",
    "\n",
    "#create material swarm\n",
    "gSwarm = uw.swarm.Swarm(mesh=mesh, particleEscape=True)\n",
    "\n",
    "#create swarm variables\n",
    "yieldingCheck = gSwarm.add_variable( dataType=\"int\", count=1 )\n",
    "#tracerVariable = gSwarm.add_variable( dataType=\"int\", count=1)\n",
    "materialVariable = gSwarm.add_variable( dataType=\"int\", count=1 )\n",
    "ageVariable = gSwarm.add_variable( dataType=\"double\", count=1 )\n",
    "#testVariable = gSwarm.add_variable( dataType=\"float\", count=1 )\n",
    "\n",
    "\n",
    "#these lists  are part of the checkpointing implementation\n",
    "varlist = [materialVariable, yieldingCheck, ageVariable]\n",
    "varnames = ['materialVariable', 'yieldingCheck', 'ageVariable']"
   ]
  },
  {
   "cell_type": "code",
   "execution_count": 36,
   "metadata": {
    "collapsed": false
   },
   "outputs": [],
   "source": [
    "mantleIndex = 0\n",
    "crustIndex = 1\n",
    "harzIndex = 2\n",
    "airIndex = 3\n",
    "\n",
    "\n",
    "\n",
    "if checkpointLoad:\n",
    "    checkpointLoadDir = natsort.natsort(checkdirs)[-1]\n",
    "    temperatureField.load(os.path.join(checkpointLoadDir, \"temperatureField\" + \".hdf5\"))\n",
    "    pressureField.load(os.path.join(checkpointLoadDir, \"pressureField\" + \".hdf5\"))\n",
    "    velocityField.load(os.path.join(checkpointLoadDir, \"velocityField\" + \".hdf5\"))\n",
    "    gSwarm.load(os.path.join(checkpointLoadDir, \"swarm\" + \".h5\"))\n",
    "    for ix in range(len(varlist)):\n",
    "        varb = varlist[ix]\n",
    "        varb.load(os.path.join(checkpointLoadDir,varnames[ix] + \".h5\"))\n",
    "\n",
    "else:\n",
    "\n",
    "    # Layouts are used to populate the swarm across the whole domain\n",
    "    layout = uw.swarm.layouts.PerCellRandomLayout(swarm=gSwarm, particlesPerCell=md.ppc)\n",
    "    gSwarm.populate_using_layout( layout=layout ) # Now use it to populate.\n",
    "    # Swarm variables\n",
    "    materialVariable.data[:] = mantleIndex\n",
    "    #tracerVariable.data[:] = 1\n",
    "    yieldingCheck.data[:] = 0\n",
    "    ageVariable.data[:] = -1\n",
    "\n",
    "    #Set initial air and crust materials (allow the graph to take care of lithsophere)\n",
    "    #########\n",
    "    #This initial material setup will be model dependent\n",
    "    #########\n",
    "    for particleID in range(gSwarm.particleCoordinates.data.shape[0]):\n",
    "        if (1. - gSwarm.particleCoordinates.data[particleID][1]) < ndp.MANTLETOCRUST:\n",
    "                 materialVariable.data[particleID] = crustIndex"
   ]
  },
  {
   "cell_type": "markdown",
   "metadata": {
    "collapsed": false
   },
   "source": [
    "###########\n",
    "#This block sets up a checkboard layout of passive tracers\n",
    "###########\n",
    "\n",
    "square_size = 0.1\n",
    "xlist = np.arange(mesh.minCoord[0] + square_size/2., mesh.maxCoord[0] + square_size/2., square_size)\n",
    "xlist = zip(xlist[:], xlist[1:])[::2]\n",
    "ylist = np.arange(mesh.minCoord[1] + square_size/2., mesh.maxCoord[1] + square_size/2., square_size)\n",
    "ylist = zip(ylist[:], ylist[1:])[::2]\n",
    "xops = []\n",
    "for vals in xlist:\n",
    "    xops.append( (operator.and_(   operator.gt(coordinate[0],vals[0]),   operator.lt(coordinate[0],vals[1])  ),0.) )\n",
    "xops.append((True,1.))\n",
    "\n",
    "testfunc = fn.branching.conditional(xops) \n",
    "\n",
    "yops = []\n",
    "for vals in ylist:\n",
    "    yops.append( (operator.and_(   operator.gt(coordinate[1],vals[0]),   operator.lt(coordinate[1],vals[1])  ),0.) )\n",
    "yops.append((True,testfunc))\n",
    "\n",
    "testfunc2 = fn.branching.conditional(yops) \n",
    "tracerVariable.data[:] = testfunc.evaluate(gSwarm)\n",
    "tracerVariable.data[:] = testfunc2.evaluate(gSwarm)"
   ]
  },
  {
   "cell_type": "code",
   "execution_count": null,
   "metadata": {
    "collapsed": false
   },
   "outputs": [],
   "source": []
  },
  {
   "cell_type": "code",
   "execution_count": 37,
   "metadata": {
    "collapsed": false
   },
   "outputs": [],
   "source": [
    "##############\n",
    "#Set the initial particle age for particles above the critical depth; \n",
    "#only material older than crustageCond will be transformed to crust / harzburgite\n",
    "##############\n",
    "\n",
    "ageVariable.data[:] = 0. #start with all zero\n",
    "ageVariable.data[:] = ageFn.evaluate(gSwarm)/sf.SR\n",
    "crustageCond = 2e6*(3600.*365.*24.)/sf.SR #set inital age above critical depth. (x...Ma)\n",
    "\n",
    "\n",
    "\n",
    "ageConditions = [ (depthFn < ndp.AGETRACKDEPTH, ageVariable),  #In the main loop we add ageVariable + dt here\n",
    "                  (True, 0.) ]\n",
    "                 \n",
    "#apply conditional \n",
    "ageVariable.data[:] = fn.branching.conditional( ageConditions ).evaluate(gSwarm)\n",
    "\n",
    "ageDT = 0.#this is used in the main loop for short term time increments"
   ]
  },
  {
   "cell_type": "code",
   "execution_count": 38,
   "metadata": {
    "collapsed": false
   },
   "outputs": [],
   "source": [
    "#fig= glucifer.Figure()\n",
    "#fig.append( glucifer.objects.Points(gSwarm,ageVariable))\n",
    "#fig.append( glucifer.objects.Points(gSwarm, viscosityMapFn, logScale=True, valueRange =[1e-3,1e5]))\n",
    "\n",
    "#fig.append( glucifer.objects.Surface(mesh, strainRate_2ndInvariant, logScale=True, valueRange =[1e-3,1e5] ))\n",
    "#fig.append( glucifer.objects.VectorArrows(mesh,velocityField, scaling=0.002))\n",
    "#fig.append( glucifer.objects.Surface(mesh,densityMapFn))\n",
    "#fig.append( glucifer.objects.Surface(mesh,raylieghFn))\n",
    "\n",
    "#fig.show()"
   ]
  },
  {
   "cell_type": "code",
   "execution_count": 39,
   "metadata": {
    "collapsed": false
   },
   "outputs": [],
   "source": [
    "##############\n",
    "#Here we set up a directed graph object that we we use to control the transformation from one material type to another\n",
    "##############\n",
    "\n",
    "#All depth conditions are given as (km/D) where D is the length scale,\n",
    "#note that 'model depths' are used, e.g. 1-z, where z is the vertical Underworld coordinate\n",
    "#All temp conditions are in dimensionless temp. [0. - 1.]\n",
    "\n",
    "#Need a list of all material indexes (safer in parallel)\n",
    "material_list = [0,1,2,3]\n",
    "\n",
    "if not checkpointLoad:\n",
    "    materialVariable.data[:] = 0 #Initialize to zero \n",
    "\n",
    "#Setup the graph object\n",
    "DG = material_graph.MatGraph()\n",
    "\n",
    "#Important: First thing to do is to add all the material types to the graph (i.e add nodes)\n",
    "DG.add_nodes_from(material_list)\n",
    "\n",
    "#Now set the conditions for transformations\n",
    "\n",
    "hs = 2e3/dp.LS  #add some hysteresis to the depths of transition\n",
    "\n",
    "#... to mantle\n",
    "DG.add_transition((crustIndex,mantleIndex), depthFn, operator.gt, ndp.CRUSTTOMANTLE + hs)\n",
    "DG.add_transition((harzIndex,mantleIndex), depthFn, operator.gt, ndp.CRUSTTOMANTLE + hs)\n",
    "DG.add_transition((airIndex,mantleIndex), depthFn, operator.gt, ndp.TOPOHEIGHT + hs)\n",
    "\n",
    "#... to crust\n",
    "DG.add_transition((mantleIndex,crustIndex), depthFn, operator.lt, ndp.MANTLETOCRUST)\n",
    "DG.add_transition((mantleIndex,crustIndex), xFn, operator.lt, 0. + 7.*ndp.MANTLETOCRUST) #No crust on the upper plate\n",
    "DG.add_transition((mantleIndex,crustIndex), ageVariable, operator.gt, crustageCond)\n",
    "\n",
    "\n",
    "DG.add_transition((harzIndex,crustIndex), depthFn, operator.lt, ndp.MANTLETOCRUST)\n",
    "DG.add_transition((harzIndex,crustIndex), xFn, operator.lt, 0. + 7.*ndp.MANTLETOCRUST) #This one sets no crust on the upper plate\n",
    "DG.add_transition((harzIndex,crustIndex), ageVariable, operator.gt, crustageCond)\n",
    "\n",
    "#... to Harzbugite\n",
    "DG.add_transition((mantleIndex,harzIndex), depthFn, operator.lt, ndp.HARZBURGDEPTH)\n",
    "DG.add_transition((mantleIndex,harzIndex), depthFn, operator.gt, ndp.MANTLETOCRUST)\n",
    "DG.add_transition((mantleIndex,harzIndex), ageVariable, operator.gt, crustageCond) #Note we can mix functions and swarm variabls\n",
    "\n",
    "#... to air\n",
    "DG.add_transition((mantleIndex,airIndex), depthFn, operator.lt,0. - ndp.TOPOHEIGHT)\n",
    "DG.add_transition((crustIndex,airIndex), depthFn, operator.lt, 0. - ndp.TOPOHEIGHT)\n"
   ]
  },
  {
   "cell_type": "code",
   "execution_count": 40,
   "metadata": {
    "collapsed": false
   },
   "outputs": [],
   "source": [
    "#7.*MANTLETOCRUST"
   ]
  },
  {
   "cell_type": "code",
   "execution_count": 41,
   "metadata": {
    "collapsed": false
   },
   "outputs": [
    {
     "data": {
      "text/plain": [
       "[0, 1, 2, 3]"
      ]
     },
     "execution_count": 41,
     "metadata": {},
     "output_type": "execute_result"
    }
   ],
   "source": [
    "DG.nodes()"
   ]
  },
  {
   "cell_type": "code",
   "execution_count": 42,
   "metadata": {
    "collapsed": false
   },
   "outputs": [
    {
     "data": {
      "text/plain": [
       "(0.27586206896551724, 0.013793103448275862, 0.019310344827586205)"
      ]
     },
     "execution_count": 42,
     "metadata": {},
     "output_type": "execute_result"
    }
   ],
   "source": [
    "ndp.CRUSTTOMANTLE, ndp.HARZBURGDEPTH, 0. + 7.*ndp.MANTLETOCRUST"
   ]
  },
  {
   "cell_type": "code",
   "execution_count": 43,
   "metadata": {
    "collapsed": false
   },
   "outputs": [],
   "source": [
    "#gSwarm.particleCoordinates.data[particleID][1]"
   ]
  },
  {
   "cell_type": "code",
   "execution_count": 44,
   "metadata": {
    "collapsed": false
   },
   "outputs": [],
   "source": [
    "##############\n",
    "#For the slab_IC, we'll also add a crustal weak zone following the dipping perturbation\n",
    "##############\n",
    "\n",
    "if checkpointLoad != True:\n",
    "    if not md.symmetricIcs:\n",
    "        for particleID in range(gSwarm.particleCoordinates.data.shape[0]):\n",
    "            if (\n",
    "                Oc2.evaluate(list(gSwarm.particleCoordinates.data[particleID])) and\n",
    "                Tri.evaluate(list(gSwarm.particleCoordinates.data[particleID])) and\n",
    "                gSwarm.particleCoordinates.data[particleID][1] > (1. - ndp.maxDepth) and\n",
    "                Cc.evaluate(list(gSwarm.particleCoordinates.data[particleID])) == False\n",
    "                \n",
    "                ):\n",
    "                materialVariable.data[particleID] = crustIndex\n",
    "                \n",
    "            elif (\n",
    "                Oc.evaluate(list(gSwarm.particleCoordinates.data[particleID])) and\n",
    "                Tri.evaluate(list(gSwarm.particleCoordinates.data[particleID])) and\n",
    "                gSwarm.particleCoordinates.data[particleID][1] > (1. - ndp.maxDepth) and\n",
    "                Hc.evaluate(list(gSwarm.particleCoordinates.data[particleID])) == False\n",
    "                \n",
    "                ):\n",
    "                materialVariable.data[particleID] = harzIndex"
   ]
  },
  {
   "cell_type": "code",
   "execution_count": 45,
   "metadata": {
    "collapsed": false
   },
   "outputs": [],
   "source": [
    "##############\n",
    "#This is how we use the material graph object to test / apply material transformations\n",
    "##############\n",
    "DG.build_condition_list(materialVariable)\n",
    "\n",
    "for i in range(2): #Need to go through a number of times\n",
    "    materialVariable.data[:] = fn.branching.conditional(DG.condition_list).evaluate(gSwarm)"
   ]
  },
  {
   "cell_type": "code",
   "execution_count": 46,
   "metadata": {
    "collapsed": false
   },
   "outputs": [],
   "source": [
    "#maxDepth"
   ]
  },
  {
   "cell_type": "code",
   "execution_count": 47,
   "metadata": {
    "collapsed": false
   },
   "outputs": [
    {
     "data": {
      "text/html": [
       "<img src='data:image/png;base64,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'>"
      ],
      "text/plain": [
       "<IPython.core.display.HTML object>"
      ]
     },
     "metadata": {},
     "output_type": "display_data"
    },
    {
     "data": {
      "text/plain": [
       "'test.gldb'"
      ]
     },
     "execution_count": 47,
     "metadata": {},
     "output_type": "execute_result"
    }
   ],
   "source": [
    "fig= glucifer.Figure()\n",
    "fig.append( glucifer.objects.Points(gSwarm,materialVariable))\n",
    "#fig.append( glucifer.objects.Surface(mesh, corrTempFn))\n",
    "\n",
    "\n",
    "\n",
    "fig.show()\n",
    "fig.save_database('test.gldb')"
   ]
  },
  {
   "cell_type": "markdown",
   "metadata": {
    "collapsed": false
   },
   "source": [
    "## phase and compositional buoyancy"
   ]
  },
  {
   "cell_type": "code",
   "execution_count": 48,
   "metadata": {
    "collapsed": false
   },
   "outputs": [],
   "source": [
    "##############\n",
    "#Set up phase buoyancy contributions\n",
    "#the phase function approach of Yuen and Christenson is implemented in the Slippy2 phase_function class \n",
    "##############\n",
    "\n",
    "\n",
    "#olivine\n",
    "olivinePhase = phase_function.component_phases(name = 'ol', \n",
    "                        depths=[410e3,660e3], #depths of phase transitions along adiabat\n",
    "                        temps = [1600., 1900.], #temperatures of phase transitions along adiabat\n",
    "                        widths = [20e3, 20e3], #width if transition\n",
    "                        claps=[2.e6, -2.5e6],  #Clapeyron slope of trnasition\n",
    "                        densities = [180., 400.]) #density change of phase transition\n",
    "\n",
    "olivinePhase.build_nd_dict(dp.LS, dp.rho, dp.g, dp.deltaTa)\n",
    "\n",
    "\n",
    "rp = olivinePhase.nd_reduced_pressure(depthFn, \n",
    "                                   temperatureField,\n",
    "                                   olivinePhase.ndp['depths'][0],\n",
    "                                   olivinePhase.ndp['claps'][0],\n",
    "                                   olivinePhase.ndp['temps'][0])\n",
    "\n",
    "#ph_410 = olivinePhase.nd_phase(rp, test.ndp['widths'][0])\n",
    "#pf_sum = test.phase_function_sum(temperatureField, depthFn)\n",
    "\n",
    "olivine_phase_buoyancy = olivinePhase.buoyancy_sum(temperatureField, depthFn, dp.g, dp.LS, dp.k, dp.eta0)\n",
    "\n",
    "#garnet\n",
    "garnetPhase = phase_function.component_phases(name = 'grt', \n",
    "                        depths=[60e3,400e3, 720e3],\n",
    "                        temps = [1000., 1600., 1900.], \n",
    "                        widths = [20e3, 20e3, 20e3], \n",
    "                        claps=[0.e6, 1.e6, 1.e6], \n",
    "                        densities = [350., 150., 400.])\n",
    "\n",
    "garnetPhase.build_nd_dict(dp.LS, dp.rho, dp.g, dp.deltaTa)\n",
    "\n",
    "\n",
    "rp = garnetPhase.nd_reduced_pressure(depthFn, \n",
    "                                   temperatureField,\n",
    "                                   garnetPhase.ndp['depths'][0],\n",
    "                                   garnetPhase.ndp['claps'][0],\n",
    "                                   garnetPhase.ndp['temps'][0])\n",
    "\n",
    "#ph_410 = olivinePhase.nd_phase(rp, test.ndp['widths'][0])\n",
    "#pf_sum = test.phase_function_sum(temperatureField, depthFn)\n",
    "\n",
    "garnet_phase_buoyancy = garnetPhase.buoyancy_sum(temperatureField, depthFn, dp.g, dp.LS, dp.k, dp.eta0)"
   ]
  },
  {
   "cell_type": "code",
   "execution_count": 49,
   "metadata": {
    "collapsed": false
   },
   "outputs": [],
   "source": [
    "##############\n",
    "#Set up compositional buoyancy contributions\n",
    "##############\n",
    "\n",
    "bouyancy_factor = (dp.g*dp.LS**3)/(dp.eta0*dp.k)\n",
    "\n",
    "basalt_comp_buoyancy  = (dp.rho - 2940.)*bouyancy_factor\n",
    "harz_comp_buoyancy = (dp.rho - 3235.)*bouyancy_factor\n",
    "pyrolite_comp_buoyancy = (dp.rho - 3300.)*bouyancy_factor\n",
    "\n",
    "#print(basalt_comp_buoyancy, harz_comp_buoyancy, pyrolite_comp_buoyancy)\n",
    "\n",
    "\n",
    "#this function accounts for the decrease in expansivity, and acts to reduce the rayleigh number with depth\n",
    "alphaRatio = 1.2/3\n",
    "taFn = 1. - (depthFn)*(1. - alphaRatio) \n",
    "\n",
    "\n",
    "if not md.compBuoyancy:\n",
    "    pyrolitebuoyancyFn =  (ndp.RA*temperatureField*taFn)\n",
    "    harzbuoyancyFn =      (ndp.RA*temperatureField*taFn) \n",
    "    basaltbuoyancyFn =    (ndp.RA*temperatureField*taFn)\n",
    "\n",
    "else : \n",
    "    pyrolitebuoyancyFn =  (ndp.RA*temperatureField*taFn) -\\\n",
    "                          (0.6*olivine_phase_buoyancy + 0.4*garnet_phase_buoyancy) +\\\n",
    "                           pyrolite_comp_buoyancy\n",
    "    harzbuoyancyFn =      (ndp.RA*temperatureField*taFn) -\\\n",
    "                          (0.8*olivine_phase_buoyancy + 0.2*garnet_phase_buoyancy) +\\\n",
    "                           harz_comp_buoyancy\n",
    "    basaltbuoyancyFn =    (ndp.RA*temperatureField*taFn) -\\\n",
    "                          (1.*garnet_phase_buoyancy) +\\\n",
    "                           basalt_comp_buoyancy"
   ]
  },
  {
   "cell_type": "markdown",
   "metadata": {
    "collapsed": false
   },
   "source": [
    "## Faults / interfaces"
   ]
  },
  {
   "cell_type": "code",
   "execution_count": 50,
   "metadata": {
    "collapsed": false
   },
   "outputs": [],
   "source": [
    "import marker2D"
   ]
  },
  {
   "cell_type": "code",
   "execution_count": 51,
   "metadata": {
    "collapsed": true
   },
   "outputs": [],
   "source": [
    "def update_swarm_from_faults(faults, proximityVariable, normalVectorVariable, signedDistanceVariable):\n",
    "    \"\"\"\n",
    "    Compute fault attributes from the marker-line objects in the 'faults' list.\n",
    "    Specifically:\n",
    "    \n",
    "      - proximityVariable carries information about which fault each swarm particle is close to (0 means none)\n",
    "      - normalVectorVariable maps the orientation of the fault to nearby swarm particles\n",
    "      - signedDistanceVariable carries the distance (positive means 'inside')  \n",
    "      \n",
    "      Unchecked error: if these variables are from different swarms \n",
    "      \n",
    "    \"\"\"\n",
    "    \n",
    "    if type(faults) == list:\n",
    "    \n",
    "        for fault_seg in faults:\n",
    "            swarm = proximityVariable.swarm\n",
    "\n",
    "            f, nz = fault_seg.compute_marker_proximity(swarm.particleCoordinates.data)    \n",
    "            proximityVariable.data[nz] = f[nz]\n",
    "\n",
    "            dv, nzv = fault_seg.compute_normals(swarm.particleCoordinates.data)\n",
    "            normalVectorVariable.data[nzv] = dv[nzv]\n",
    "\n",
    "            sd, dnz = fault_seg.compute_signed_distance(swarm.particleCoordinates.data)\n",
    "            signedDistanceVariable.data[dnz] = sd[dnz]\n",
    "    else:\n",
    "        fault_seg = faults\n",
    "        swarm = proximityVariable.swarm\n",
    "\n",
    "        f, nz = fault_seg.compute_marker_proximity(swarm.particleCoordinates.data)    \n",
    "        proximityVariable.data[nz] = f[nz]\n",
    "\n",
    "        dv, nzv = fault_seg.compute_normals(swarm.particleCoordinates.data)\n",
    "        normalVectorVariable.data[nzv] = dv[nzv]\n",
    "\n",
    "        sd, dnz = fault_seg.compute_signed_distance(swarm.particleCoordinates.data)\n",
    "        signedDistanceVariable.data[dnz] = sd[dnz]\n",
    "    \n",
    "    return\n",
    "\n",
    "\n",
    "def update_swarm_from_line(fault, signedDistanceVariable):\n",
    "    \"\"\"\n",
    "    Compute fault attributes from the marker-line objects in the 'faults' list.\n",
    "    Specifically:\n",
    "    \n",
    "      - proximityVariable carries information about which fault each swarm particle is close to (0 means none)\n",
    "      - normalVectorVariable maps the orientation of the fault to nearby swarm particles\n",
    "      - signedDistanceVariable carries the distance (positive means 'inside')  \n",
    "      \n",
    "      Unchecked error: if these variables are from different swarms \n",
    "      \n",
    "    \"\"\"\n",
    "        \n",
    "    sd, dnz = fault.compute_signed_distance(gSwarm.particleCoordinates.data)\n",
    "    signedDistanceVariable.data[dnz] = sd[dnz]\n",
    "    \n",
    "    return\n",
    "\n",
    "\n",
    "def mask_materials(fault, material, materialVariable, proximityVariable, normalVectorVariable, signedDistanceVariable):\n",
    "\n",
    "    \"\"\"\n",
    "    set the key fault-related swarm variabels to zero, based on material typr\n",
    "    \"\"\"\n",
    "    \n",
    "    fptsMask1 = (materialVariable.data[:,0] != material)\n",
    "    fptsMask2 = (proximityVariable.data[:,0] == fault.ID )\n",
    "\n",
    "    fptsMaskOut = fptsMask1 & fptsMask2\n",
    "\n",
    "    normalVectorVariable.data[fptsMaskOut,:] = [0.0,0.0]\n",
    "    proximityVariable.data[fptsMaskOut] = 0\n",
    "    signedDistanceVariable.data[fptsMaskOut] = 0.0\n",
    "    \n",
    "    \n",
    "def fault_strainrate_fns(fault_list, velocityField, faultNormalVariable, proximityproVariable):\n",
    "\n",
    "    ## This is a quick / short cut way to find the resolved stress components.\n",
    "    \n",
    "    strainRateFn = fn.tensor.symmetric( velocityField.fn_gradient )\n",
    "\n",
    "    \n",
    "    _edotn_SFn = (        directorVector[0]**2 * strainRateFn[0]  + \n",
    "                    2.0 * directorVector[1]    * strainRateFn[2] * directorVector[0] + \n",
    "                          directorVector[1]**2 * strainRateFn[1]                          \n",
    "                ) \n",
    "\n",
    "    # any non-zero proximity requires the computation of the above\n",
    "    \n",
    "    _edotn_SFn_Map    = { 0: 0.0 }\n",
    "    for f in fault_list:\n",
    "        _edotn_SFn_Map[f.ID] =  _edotn_SFn\n",
    "\n",
    "\n",
    "\n",
    "   \n",
    "    _edots_SFn = (  directorVector[0] *  directorVector[1] *(strainRateFn[1] - strainRateFn[0]) +\n",
    "                    strainRateFn[2] * (directorVector[0]**2 - directorVector[1]**2)\n",
    "                 )\n",
    "    \n",
    "  \n",
    "    _edots_SFn_Map = { 0: 1.0e-15 }\n",
    "    \n",
    "    for f in fault_list:\n",
    "        _edots_SFn_Map[f.ID] =  _edots_SFn\n",
    "        \n",
    "        \n",
    "    #Finally, map the resolved strain rate to the proximity variable, \n",
    "    #which also makes resolved strain rate zero whereever proximity variable is zero \n",
    "\n",
    "\n",
    "    edotn_SFn =     fn.branching.map( fn_key = proximityVariable, \n",
    "                                      mapping = _edotn_SFn_Map)\n",
    "\n",
    "\n",
    "    edots_SFn =     fn.branching.map( fn_key = proximityVariable, \n",
    "                                      mapping = _edots_SFn_Map )\n",
    "\n",
    "    \n",
    "    return edotn_SFn, edots_SFn\n",
    "\n",
    "\n",
    "## Time update\n",
    "\n",
    "def faults_advance_in_time(faults,proximityVariable, directorVector, signedDistanceVariable, materialVariable, mmask):\n",
    "    for f in faults:\n",
    "        f.advection(dt)\n",
    "\n",
    "\n",
    "    update_swarm_from_faults(faults, proximityVariable, directorVector, signedDistanceVariable)\n",
    "    mask_materials(materialV, materialVariable, proximityVariable, directorVector, signedDistanceVariable)"
   ]
  },
  {
   "cell_type": "code",
   "execution_count": 52,
   "metadata": {
    "collapsed": true
   },
   "outputs": [],
   "source": [
    "###########\n",
    "#Initial Coordinates for inerfaces and faults\n",
    "###########\n",
    "\n",
    "#subduction fault\n",
    "introPoint = ndp.subzone - abs(ndp.subzone - ndp.lRidge)/2. #half way between ridge and Sz\n",
    "faultthickness = ndp.MANTLETOCRUST/2. #initiale fault at half-depth of crust\n",
    "nfault = 200\n",
    "faultCoords =np.zeros((nfault, 2))\n",
    "\n",
    "reducedRocM = ndp.roc  - faultthickness\n",
    "xlimslab = reducedRocM*math.cos(math.pi*(90. - dp.theta)/180)\n",
    "faultCoords[:, 0] = np.linspace(introPoint, ndp.subzone + xlimslab, nfault) #note SZ location is hardcoded here \n",
    "for index, xval in np.ndenumerate(faultCoords[:,0]):\n",
    "    #print index, xval\n",
    "    #swarmCoords[index[0], 1] = 1. - isodepthFn.evaluate((xval, 0.)) #This bit for the plate \n",
    "    if  xval < ndp.subzone:\n",
    "        faultCoords[index[0], 1] = MAXY - faultthickness #This bit for the plate \n",
    "        \n",
    "    else:\n",
    "        faultCoords[index[0], 1] = (MAXY - (faultthickness) - (reducedRocM - ( math.sqrt((reducedRocM**2 - (xval-ndp.subzone)**2)))))\n",
    "        \n",
    "    \n",
    "faultCoords = faultCoords[faultCoords[:,1] > (MAXY - ndp.maxDepth)] #kill any deeper than cutoff\n",
    "\n",
    "\n",
    "#surface tracer interface:\n",
    "surfaceCoords =np.ones((nfault, 2))*1.\n",
    "surfaceCoords[:,0] = np.linspace(MINX, MAXX, nfault)\n",
    "\n",
    "\n",
    "\n",
    "#interface that tracks the shape and position of the slab\n",
    "midthickness = 20e3/dp.LS #initialize tracking swarm at ~ mid lithosphere depth\n",
    "\n",
    "if dp.sense == 'Right':\n",
    "    introPoint = ndp.lRidge + midthickness #\n",
    "else:\n",
    "    introPoint = ndp.rRidge - midthickness #\n",
    "nfault = 200\n",
    "slabCoords =np.zeros((nfault, 2))\n",
    "\n",
    "reducedRocM = ndp.roc  - midthickness\n",
    "xlimslab = reducedRocM*math.cos(math.pi*(90. - dp.theta)/180)\n",
    "slabCoords[:, 0] = np.linspace(introPoint, ndp.subzone + xlimslab, nfault) #note SZ location is hardcoded here \n",
    "for index, xval in np.ndenumerate(slabCoords[:,0]):\n",
    "    #print index, xval\n",
    "    #swarmCoords[index[0], 1] = 1. - isodepthFn.evaluate((xval, 0.)) #This bit for the plate \n",
    "    if  xval < ndp.subzone:\n",
    "        slabCoords[index[0], 1] = MAXY - midthickness #This bit for the plate \n",
    "        \n",
    "    else:\n",
    "        slabCoords[index[0], 1] = (MAXY - (midthickness) - (reducedRocM - ( math.sqrt((reducedRocM**2 - (xval-ndp.subzone)**2)))))\n",
    "        \n",
    "slabCoords = slabCoords[slabCoords[:,1] > (MAXY - ndp.maxDepth)] #kill any deeper than cutoff\n"
   ]
  },
  {
   "cell_type": "code",
   "execution_count": 53,
   "metadata": {
    "collapsed": true
   },
   "outputs": [],
   "source": [
    "#Initiaze the swarms in a \n",
    "fault_seg  = marker2D.markerLine2D(mesh, velocityField, [], [], faultthickness, 0.0, 0.0, crustIndex)\n",
    "surface_seg  = marker2D.markerLine2D(mesh, velocityField, [], [], ndp.StALS, 0.0, 0.0, airIndex)\n",
    "slab_seg  = marker2D.markerLine2D(mesh, velocityField, [], [], 1e9/dp.LS, 0.0, 0.0, crustIndex)   #Note very large fault thickness \n",
    "\n",
    "\n",
    "#These lists are used to checkpoint the marker lines, similar to the swarm variables.        \n",
    "interfaces = []\n",
    "interfaces.append(fault_seg)\n",
    "interfaces.append(surface_seg)\n",
    "interfaces.append(slab_seg)\n",
    "interfacenames = ['fault_seg', 'surface_seg', 'slab_seg']\n",
    "\n",
    "#If restarting, load the swarms from file Interfaces are just swarms, so should be fine to rely on parallel h5 machinery here\n",
    "if checkpointLoad:\n",
    "    for ix in range(len(interfaces)):\n",
    "        tempname = interfacenames[ix]\n",
    "        interfaces[ix].swarm.load(os.path.join(checkpointLoadDir,  tempname + \".h5\"))\n",
    "\n",
    "#otherwise add the point from at the initial locations\n",
    "else:\n",
    "    fault_seg.add_points(faultCoords[:, 0], faultCoords[:, 1])\n",
    "    surface_seg.add_points(surfaceCoords[:, 0], surfaceCoords[:, 1])\n",
    "    slab_seg.add_points(slabCoords[:, 0], slabCoords[:, 1]) "
   ]
  },
  {
   "cell_type": "code",
   "execution_count": 54,
   "metadata": {
    "collapsed": true
   },
   "outputs": [],
   "source": [
    "#Add the necessary swarm variables\n",
    "\n",
    "proximityVariable      = gSwarm.add_variable( dataType=\"int\", count=1 )\n",
    "signedDistanceVariable = gSwarm.add_variable( dataType=\"float\", count=1 )\n",
    "directorVector   = gSwarm.add_variable( dataType=\"double\", count=2)\n",
    "\n",
    "directorVector.data[:,:] = 0.0\n",
    "proximityVariable.data[:] = 0\n",
    "signedDistanceVariable.data[:] = 0.0\n",
    "\n",
    "\n",
    "\n",
    "# Call the Fault helper functions to initialize this info on the main material swarm\n",
    "    \n",
    "update_swarm_from_faults(surface_seg, proximityVariable, directorVector, signedDistanceVariable)\n",
    "mask_materials(surface_seg, airIndex, materialVariable, proximityVariable, directorVector, signedDistanceVariable)\n",
    "\n",
    "\n",
    "update_swarm_from_faults(fault_seg, proximityVariable, directorVector, signedDistanceVariable)\n",
    "mask_materials(fault_seg, crustIndex, materialVariable, proximityVariable, directorVector, signedDistanceVariable)\n",
    "\n",
    "#Also switch off proximity beneath ndp.CRUSTVISCUTOFF depth\n",
    "proximityVariable.data[gSwarm.particleCoordinates.data[:,1]  < (1. - ndp.CRUSTVISCUTOFF)] = 0. \n",
    "\n",
    "# These should be general enough not to need updating when the faults move etc..\n",
    "#ie they should update as the fields/functions/swarm variables they are built on update\n",
    "edotn_SFn, edots_SFn = fault_strainrate_fns(interfaces, velocityField, directorVector, proximityVariable)"
   ]
  },
  {
   "cell_type": "code",
   "execution_count": 55,
   "metadata": {
    "collapsed": true
   },
   "outputs": [],
   "source": [
    "#Have to add these new swarm variable to our variable lists if we want them to get checkpointed\n",
    "\n",
    "varlist.append(proximityVariable )\n",
    "varlist.append(signedDistanceVariable)\n",
    "varlist.append(directorVector)\n",
    "\n",
    "varnames.append('proximityVariable')\n",
    "varnames.append('signedDistanceVariable')\n",
    "varnames.append('directorVector')\n",
    "\n",
    "\n",
    "if checkpointLoad:                              #Reload all swarm variables \n",
    "    for ix in range(len(varlist)):\n",
    "        varb = varlist[ix]\n",
    "        varb.load(os.path.join(checkpointLoadDir,varnames[ix] + \".h5\"))\n",
    "        \n",
    " "
   ]
  },
  {
   "cell_type": "code",
   "execution_count": null,
   "metadata": {
    "collapsed": true
   },
   "outputs": [],
   "source": []
  },
  {
   "cell_type": "code",
   "execution_count": null,
   "metadata": {
    "collapsed": true
   },
   "outputs": [],
   "source": []
  },
  {
   "cell_type": "code",
   "execution_count": null,
   "metadata": {
    "collapsed": true
   },
   "outputs": [],
   "source": []
  },
  {
   "cell_type": "code",
   "execution_count": null,
   "metadata": {
    "collapsed": true
   },
   "outputs": [],
   "source": []
  },
  {
   "cell_type": "markdown",
   "metadata": {},
   "source": [
    "Rheology\n",
    "-----\n",
    "\n"
   ]
  },
  {
   "cell_type": "code",
   "execution_count": 56,
   "metadata": {
    "collapsed": false
   },
   "outputs": [],
   "source": [
    "##############\n",
    "#Set up any functions required by the rheology\n",
    "##############\n",
    "strainRate_2ndInvariant = fn.tensor.second_invariant( \n",
    "                            fn.tensor.symmetric( \n",
    "                            velocityField.fn_gradient ))\n",
    "\n",
    "def safe_visc(func, viscmin=ndp.eta_min, viscmax=ndp.eta_max):\n",
    "    return fn.misc.max(viscmin, fn.misc.min(viscmax, func))"
   ]
  },
  {
   "cell_type": "code",
   "execution_count": 57,
   "metadata": {
    "collapsed": true
   },
   "outputs": [],
   "source": [
    "#strainRate_2ndInvariant = fn.misc.constant(ndp.SR) #dummy fucntion to check which mechanisms are at active are reference strain rate"
   ]
  },
  {
   "cell_type": "code",
   "execution_count": 58,
   "metadata": {
    "collapsed": false
   },
   "outputs": [],
   "source": [
    "##############\n",
    "#Get dimensional viscosity values at reference values of temp, pressure, and strain rate\n",
    "##############\n",
    "dp.rPressure  = dp.rho*dp.g*dp.rDepth\n",
    "rDf = (1./dp.Adf)*np.exp( ((dp.Edf + dp.Vdf*dp.rPressure))/((dp.R*dp.rTemp)))\n",
    "rLm = (1./dp.Alm)*np.exp( ((dp.Elm + dp.Vlm*dp.rPressure))/((dp.R*dp.rTemp)))\n",
    "\n",
    "rDs = (1./dp.Ads**(1./ndp.n))*(dp.SR**((1.-ndp.n)/ndp.n))*np.exp( ((dp.Eds + dp.Vds*dp.rPressure))/((ndp.n*dp.R*dp.rTemp)))\n",
    "rPr = (1./dp.Apr**(1./ndp.np))*(dp.SR**((1.-ndp.np)/ndp.np))*np.exp( ((dp.Epr + dp.Vpr*dp.rPressure))/((ndp.np*dp.R*dp.rTemp)))\n",
    "\n",
    "dsfac = rDs/dp.eta0\n",
    "dffac = rDf/dp.eta0\n",
    "prfac = rPr/dp.eta0\n",
    "lmfac = rLm/dp.eta0"
   ]
  },
  {
   "cell_type": "code",
   "execution_count": 59,
   "metadata": {
    "collapsed": false
   },
   "outputs": [],
   "source": [
    "#print(dsfac, dffac, prfac, lmfac)"
   ]
  },
  {
   "cell_type": "code",
   "execution_count": 60,
   "metadata": {
    "collapsed": false
   },
   "outputs": [],
   "source": [
    "#These guys are legacy - to be fixed\n",
    "\n",
    "corrDepthFn = depthFn\n",
    "correctrDepth = ndp.rDepth\n",
    "corrTempFn = temperatureField\n",
    "\n",
    "    \n"
   ]
  },
  {
   "cell_type": "code",
   "execution_count": null,
   "metadata": {
    "collapsed": false
   },
   "outputs": [],
   "source": []
  },
  {
   "cell_type": "code",
   "execution_count": null,
   "metadata": {
    "collapsed": false
   },
   "outputs": [],
   "source": []
  },
  {
   "cell_type": "code",
   "execution_count": 61,
   "metadata": {
    "collapsed": false
   },
   "outputs": [],
   "source": [
    "############\n",
    "#Rheology: create UW2 functions for all viscous mechanisms\n",
    "#############\n",
    "\n",
    "omega = fn.misc.constant(1.) #this function can hold any arbitary viscosity modifications \n",
    "\n",
    "\n",
    "##Diffusion Creep\n",
    "diffusion = dffac*fn.math.exp( ((ndp.Edf + (corrDepthFn*ndp.Wdf))/((corrTempFn+ ndp.TS))) - \n",
    "              ((ndp.Edf + (correctrDepth*ndp.Wdf))/((ndp.rTemp + ndp.TS)))  ) \n",
    "\n",
    "\n",
    "##Diffusion Creep\n",
    "lmdiffusion = lmfac*fn.math.exp( ((ndp.Elm + (corrDepthFn*ndp.Wlm))/((corrTempFn+ ndp.TS))) - \n",
    "              ((ndp.Elm + (correctrDepth*ndp.Wlm))/((ndp.rTemp + ndp.TS)))  ) \n",
    "\n",
    "\n",
    "linearVisc = safe_visc(diffusion)\n",
    "\n",
    "##Dislocation Creep\n",
    "nl_correction = (strainRate_2ndInvariant/ndp.SR)**((1.-ndp.n)/(ndp.n))\n",
    "dislocation = dsfac*(nl_correction)*fn.math.exp( ((ndp.Eds + (corrDepthFn*ndp.Wds))/(ndp.n*(corrTempFn + ndp.TS))) -\n",
    "                                     ((ndp.Eds + (correctrDepth*ndp.Wds))/(ndp.n*(ndp.rTemp + ndp.TS))))\n",
    "\n",
    "\n",
    "\n",
    "##Peirls Creep\n",
    "nl_correction = (strainRate_2ndInvariant/ndp.SR)**((1.-ndp.np)/(ndp.np))\n",
    "\n",
    "peierls = prfac*(nl_correction)*fn.math.exp( ((ndp.Eps + (corrDepthFn*ndp.Wps))/(ndp.np*(corrTempFn+ ndp.TS))) -\n",
    "                                     ((ndp.Eps + (correctrDepth*ndp.Wps))/(ndp.np*(ndp.rTemp + ndp.TS))))\n",
    "\n",
    "\n",
    "##Define the mantle Plasticity\n",
    "ys =  ndp.cm + (depthFn*ndp.fcmd)\n",
    "ysMax = 1e4*1e6*sf.stress\n",
    "ysf = fn.misc.min(ys, ysMax)\n",
    "yielding = (math.sqrt(1.0)*ysf)/(2.*(strainRate_2ndInvariant)) #sqrt(0.5) converts for second invariant form in uw2\n",
    "\n",
    "##Crust rheology\n",
    "crustys =  ndp.cc + (depthFn*ndp.fccd)\n",
    "crustysf = fn.misc.min(crustys, ysMax)\n",
    "crustyielding = (math.sqrt(1.0)*crustysf)/(2.*(strainRate_2ndInvariant)) \n",
    "\n",
    "\n",
    "##Interface rheology\n",
    "interfaceys =  ndp.ci + (depthFn*ndp.fcid) #only weakened cohesion is discussed, not fc\n",
    "crustysf = fn.misc.min(interfaceys, ysMax)\n",
    "interfaceyielding = interfaceys/(2.*(strainRate_2ndInvariant))\n"
   ]
  },
  {
   "cell_type": "code",
   "execution_count": 62,
   "metadata": {
    "collapsed": false
   },
   "outputs": [],
   "source": [
    "#(dp.cohesion+ dp.fc*(3300.*9.8*dp.LS))/1e10, (ndp.cohesion + (1.*ndp.fcd))/(1e10*sf.stress)"
   ]
  },
  {
   "cell_type": "code",
   "execution_count": 63,
   "metadata": {
    "collapsed": false
   },
   "outputs": [],
   "source": [
    "############\n",
    "#Rheology: combine viscous mechanisms in various ways \n",
    "#harmonic: harmonic average of all mechanims\n",
    "#min: minimum effective viscosity of the mechanims\n",
    "#mixed: takes the minimum of the harmonic and the plastic effective viscosity\n",
    "#############\n",
    "\n",
    "#Map viscMechs list (defined in setup), to the actual functions, requires that same names are used.\n",
    "viscdict = {}\n",
    "for i in md.viscMechs:\n",
    "    viscdict[i] = locals()[i]\n",
    "\n",
    "#Condition for weak crust rheology to be active\n",
    "interfaceCond = operator.and_((depthFn < ndp.CRUSTVISCUTOFF), (depthFn > ndp.MANTLETOCRUST))    \n",
    "    \n",
    "#Harmonic average of all mechanisms    \n",
    "if md.viscCombine == 'harmonic':\n",
    "    denom = fn.misc.constant(0.)\n",
    "    for mech in viscdict.values():\n",
    "        denom += 1./mech\n",
    "    mantleviscosityFn = safe_visc(1./denom)\n",
    "    harmonic_test = mantleviscosityFn\n",
    "    #Only diffusuion creep for lower mantle\n",
    "    finalviscosityFn  = fn.branching.conditional([(depthFn < ndp.LOWMANTLEDEPTH, mantleviscosityFn),\n",
    "                                  (True, safe_visc(lmdiffusion*ndp.low_mantle_visc_fac))])\n",
    "\n",
    "    #Add the weaker crust mechanism, plus any cutoffs\n",
    "    crust_denom = denom + (1./crustyielding)\n",
    "    crustviscosityFn = safe_visc(1./crust_denom, viscmin=ndp.eta_min_crust, viscmax=ndp.eta_max_crust)\n",
    "    #Add the subduction interface mechanism, plus any cutoffs\n",
    "    interface_denom = denom + (1./interfaceyielding)\n",
    "    interfaceviscosityFn = safe_visc(1./interface_denom, viscmin=ndp.eta_min_interface, viscmax=ndp.eta_max_interface)\n",
    "    #Crust viscosity only active above between CRUSTVISCUTOFF and MANTLETOCRUST\n",
    "    finalcrustviscosityFn  = fn.branching.conditional([(depthFn < ndp.MANTLETOCRUST, crustviscosityFn),\n",
    "                                                     (interfaceCond, interfaceviscosityFn), #\n",
    "                                                     (True, finalviscosityFn)])\n",
    "\n",
    "    \n",
    "    \n",
    "if md.viscCombine == 'min':\n",
    "    mantleviscosityFn = fn.misc.constant(ndp.eta_max)\n",
    "    for mech in viscdict.values():\n",
    "        mantleviscosityFn = fn.misc.min(mech, mantleviscosityFn )\n",
    "    mantleviscosityFn = safe_visc(mantleviscosityFn)\n",
    "    min_test = mantleviscosityFn\n",
    "    #Only diffusion creep for lower mantle\n",
    "    finalviscosityFn  = fn.branching.conditional([(depthFn < ndp.LOWMANTLEDEPTH, mantleviscosityFn),\n",
    "                                  (True, safe_visc(lmdiffusion*ndp.low_mantle_visc_fac))])\n",
    "    #Add the weaker crust and interface mechanisms, plus any cutoffs\n",
    "    crustviscosityFn = safe_visc(fn.misc.min(finalviscosityFn, crustyielding), viscmin=ndp.eta_min_crust, viscmax=ndp.eta_max_crust)\n",
    "    interfaceviscosityFn = safe_visc(fn.misc.min(finalviscosityFn, interfaceyielding), viscmin=ndp.eta_min_interface, viscmax=ndp.eta_max_interface)\n",
    "    #Crust viscosity only active above CRUSTVISCUTOFF\n",
    "    #Crust viscosity only active above between CRUSTVISCUTOFF and MANTLETOCRUST\n",
    "    finalcrustviscosityFn  = fn.branching.conditional([(depthFn < ndp.MANTLETOCRUST, crustviscosityFn),\n",
    "                                                     (interfaceCond, interfaceviscosityFn), #\n",
    "                                                     (True, finalviscosityFn)])\n",
    "\n",
    "if md.viscCombine == 'mixed':\n",
    "    denom = fn.misc.constant(0.)\n",
    "    for mech in viscdict.values():\n",
    "        denom += 1./mech\n",
    "    mantleviscosityFn = safe_visc(fn.misc.min(yielding, (1./denom))) #min of harmonic average and yielding\n",
    "    mixed_test = mantleviscosityFn\n",
    "    #Only diffusuion creep for lower mantle\n",
    "    finalviscosityFn  = fn.branching.conditional([(depthFn < LOWMANTLEDEPTH, mantleviscosityFn),\n",
    "                                  (True, safe_visc(lmdiffusion*ndp.low_mantle_visc_fac))])\n",
    "    \n",
    "    #Add the weaker crust mechanism, plus any cutoffs\n",
    "    crust_denom = denom + (1./crustyielding)\n",
    "    crustviscosityFn = safe_visc(fn.misc.min(crustyielding,1./crust_denom), viscmin=ndp.eta_min_crust, viscmax=ndp.eta_max_crust)\n",
    "\n",
    "    interface_denom = denom + (1./interfaceyielding)\n",
    "    interfaceviscosityFn = safe_visc(fn.misc.min(interfaceyielding,1./interface_denom), viscmin=ndp.eta_min_interface, viscmax=ndp.eta_max_interface)\n",
    "    #Crust viscosity only active above between CRUSTVISCUTOFF and MANTLETOCRUST\n",
    "    finalcrustviscosityFn  = fn.branching.conditional([(depthFn < MANTLETOCRUST, crustviscosityFn),\n",
    "                                                     (interfaceCond, interfaceviscosityFn), #\n",
    "                                                     (True, finalviscosityFn)])\n",
    "    \n",
    "\n"
   ]
  },
  {
   "cell_type": "code",
   "execution_count": 64,
   "metadata": {
    "collapsed": false
   },
   "outputs": [],
   "source": [
    "#ndp.low_mantle_visc_fac = 1.\n"
   ]
  },
  {
   "cell_type": "code",
   "execution_count": 65,
   "metadata": {
    "collapsed": false
   },
   "outputs": [],
   "source": [
    "#viscMinConditions = fn.misc.min(diffusion, dislocation, peierls, yielding)\n",
    "\n",
    "viscMin = fn.misc.constant(ndp.eta_max)\n",
    "#Generate the minimum viscosity function \n",
    "for mech in [safe_visc(diffusion), safe_visc(dislocation), safe_visc(peierls), safe_visc(yielding)]:\n",
    "    viscMin = fn.misc.min(mech, viscMin) \n",
    "    \n",
    "dm = 1e-5\n",
    "   \n",
    "    \n",
    "viscMinConditions = [ ( operator.and_((viscMin > (ndp.eta_max - dm) ),\n",
    "                           (viscMin < (ndp.eta_max + dm) ))  , 0),  #visc = ndp.eta_max\n",
    "                      ( operator.and_((viscMin > (diffusion - dm) ),\n",
    "                           (viscMin < (diffusion + dm) ))  , 1),  #visc = diffusion\n",
    "                      ( operator.and_((viscMin > (dislocation - dm) ),\n",
    "                           (viscMin < (dislocation + dm) ))  , 2),#visc = dislocation\n",
    "                      ( operator.and_((viscMin > (peierls - dm) ),\n",
    "                           (viscMin < (peierls + dm) ))  , 3),    #visc = peierls\n",
    "                      ( operator.and_((viscMin > (yielding - dm) ),\n",
    "                           (viscMin < (yielding + dm) ))  , 4),   #visc = yielding\n",
    "                      ( True                                           , 5) ] #visc = eta_min (should be)\n",
    "\n",
    "\n",
    "\n",
    "\n",
    "# use the branching conditional function to set each particle's index\n",
    "fnViscMin = fn.branching.conditional( viscMinConditions )\n",
    "\n"
   ]
  },
  {
   "cell_type": "code",
   "execution_count": 66,
   "metadata": {
    "collapsed": false,
    "scrolled": true
   },
   "outputs": [],
   "source": [
    "#fig= glucifer.Figure()\n",
    "#fig.append( glucifer.objects.Points(gSwarm,finalviscosityFn, logScale=True))\n",
    "#fig.show()\n",
    "#fig.save_database('test.gldb')"
   ]
  },
  {
   "cell_type": "code",
   "execution_count": 67,
   "metadata": {
    "collapsed": true
   },
   "outputs": [],
   "source": [
    "#fig.save_database('test.gldb')"
   ]
  },
  {
   "cell_type": "markdown",
   "metadata": {},
   "source": [
    "Stokes system setup\n",
    "-----\n"
   ]
  },
  {
   "cell_type": "code",
   "execution_count": 68,
   "metadata": {
    "collapsed": false
   },
   "outputs": [],
   "source": [
    "densityMapFn = fn.branching.map( fn_key = materialVariable,\n",
    "                         mapping = {airIndex:ndp.StRA,\n",
    "                                    crustIndex:basaltbuoyancyFn, \n",
    "                                    mantleIndex:pyrolitebuoyancyFn,\n",
    "                                    harzIndex:harzbuoyancyFn} )"
   ]
  },
  {
   "cell_type": "code",
   "execution_count": 69,
   "metadata": {
    "collapsed": true
   },
   "outputs": [],
   "source": [
    "\n",
    "# Define our vertical unit vector using a python tuple (this will be automatically converted to a function).\n",
    "gravity = ( 0.0, 1.0 )\n",
    "\n",
    "# Now create a buoyancy force vector using the density and the vertical unit vector. \n",
    "buoyancyFn = densityMapFn * gravity"
   ]
  },
  {
   "cell_type": "code",
   "execution_count": 70,
   "metadata": {
    "collapsed": true
   },
   "outputs": [],
   "source": [
    "stokesPIC = uw.systems.Stokes(velocityField=velocityField, \n",
    "                              pressureField=pressureField,\n",
    "                              conditions=[freeslipBC,],\n",
    "                              fn_viscosity=linearVisc, \n",
    "                              fn_bodyforce=buoyancyFn )"
   ]
  },
  {
   "cell_type": "code",
   "execution_count": 71,
   "metadata": {
    "collapsed": true
   },
   "outputs": [],
   "source": [
    "solver = uw.systems.Solver(stokesPIC)\n",
    "if not checkpointLoad:\n",
    "    solver.solve() #A solve on the linear visocisty is unhelpful unless we're starting from scratch"
   ]
  },
  {
   "cell_type": "code",
   "execution_count": 72,
   "metadata": {
    "collapsed": false
   },
   "outputs": [],
   "source": [
    "#fig= glucifer.Figure()\n",
    "#fig.append( glucifer.objects.Points(gSwarm,materialVariable))\n",
    "#fig.append( glucifer.objects.Surface(mesh, finalviscosityFn, logScale=True))\n",
    "\n",
    "#fig.append( glucifer.objects.Surface(mesh, strainRate_2ndInvariant/ndp.SR, logScale=True))\n",
    "#fig.show()\n",
    "#fig.save_database('test.gldb')"
   ]
  },
  {
   "cell_type": "code",
   "execution_count": 73,
   "metadata": {
    "collapsed": false
   },
   "outputs": [],
   "source": [
    "viscosityMapFn = fn.branching.map( fn_key = materialVariable,\n",
    "                         mapping = {crustIndex:finalcrustviscosityFn,\n",
    "                                    mantleIndex:finalviscosityFn,\n",
    "                                    harzIndex:finalviscosityFn} )\n",
    "\n"
   ]
  },
  {
   "cell_type": "markdown",
   "metadata": {},
   "source": [
    "import matplotlib.pylab as pyplt\n",
    "%matplotlib inline\n",
    "\n",
    "\n",
    "\n",
    "##################\n",
    "#Output functions to numpy vertical averages, maxes, mins\n",
    "##################\n",
    "\n",
    "viscmapFnmesh = uw.mesh.MeshVariable(mesh,nodeDofCount=1)\n",
    "out = uw.utils.MeshVariable_Projection( viscmapFnmesh, viscosityMapFn)\n",
    "out.solve()\n",
    "\n",
    "\n",
    "#avDf = ndfp.evaluate(mesh).reshape(mesh.elementRes[1] + 1, mesh.elementRes[0] + 1).mean(axis=1)\n",
    "avDs = ndsp.evaluate(mesh).reshape(mesh.elementRes[1] + 1, mesh.elementRes[0] + 1).mean(axis=1)\n",
    "umantle = mantleviscosityFn.evaluate(mesh).reshape(mesh.elementRes[1] + 1, mesh.elementRes[0] + 1).mean(axis=1)\n",
    "lmantle = lowermantleviscosityFn.evaluate(mesh).reshape(mesh.elementRes[1] + 1, mesh.elementRes[0] + 1).mean(axis=1)\n",
    "eff = viscmapFnmesh.evaluate(mesh).reshape(mesh.elementRes[1] + 1, mesh.elementRes[0] + 1).mean(axis=1)\n",
    "\n",
    "effMin = viscmapFnmesh.evaluate(mesh).reshape(mesh.elementRes[1] + 1, mesh.elementRes[0] + 1).min(axis=1)\n",
    "effMax = viscmapFnmesh.evaluate(mesh).reshape(mesh.elementRes[1] + 1, mesh.elementRes[0] + 1).max(axis=1)\n",
    "\n",
    "###################\n",
    "#Plot\n",
    "###################\n",
    "import matplotlib.pylab as pyplt\n",
    "%matplotlib inline\n",
    "\n",
    "fig, ax = pyplt.subplots()\n",
    "#ax .plot(avDf, label = 'diff')\n",
    "#ax .plot(avDs, label = 'dis')\n",
    "ax .plot(eff, label = 'eff')\n",
    "ax .plot(effMax, label = 'effMax')\n",
    "ax .plot(effMin, label = 'effMin')\n",
    "#ax .plot(umantle, label = 'uman')\n",
    "#ax .plot(lmantle, label = 'lman')\n",
    "ax.set_yscale(\"log\", nonposy='clip')\n",
    "ax.legend(loc = 3)"
   ]
  },
  {
   "cell_type": "code",
   "execution_count": null,
   "metadata": {
    "collapsed": false
   },
   "outputs": [],
   "source": []
  },
  {
   "cell_type": "code",
   "execution_count": null,
   "metadata": {
    "collapsed": false
   },
   "outputs": [],
   "source": []
  },
  {
   "cell_type": "code",
   "execution_count": null,
   "metadata": {
    "collapsed": true
   },
   "outputs": [],
   "source": []
  },
  {
   "cell_type": "code",
   "execution_count": 74,
   "metadata": {
    "collapsed": true
   },
   "outputs": [],
   "source": [
    "#Add the non-linear viscosity to the Stokes system\n",
    "stokesPIC.fn_viscosity = viscosityMapFn"
   ]
  },
  {
   "cell_type": "code",
   "execution_count": 75,
   "metadata": {
    "collapsed": false
   },
   "outputs": [
    {
     "name": "stdout",
     "output_type": "stream",
     "text": [
      "\u001b[1;35m\n",
      " \n",
      "Pressure iterations:   3\n",
      "Velocity iterations:   1 (presolve)      \n",
      "Velocity iterations:  -1 (pressure solve)\n",
      "Velocity iterations:   1 (backsolve)     \n",
      "Velocity iterations:   1 (total solve)   \n",
      " \n",
      "SCR RHS  solve time: 9.0853e-01\n",
      "Pressure solve time: 1.1831e-01\n",
      "Velocity solve time: 8.9038e-01 (backsolve)\n",
      "Total solve time   : 2.0860e+00\n",
      " \n",
      "Velocity solution min/max: 0.0000e+00/0.0000e+00\n",
      "Pressure solution min/max: 0.0000e+00/0.0000e+00\n",
      " \n",
      "\u001b[00m\n"
     ]
    }
   ],
   "source": [
    "solver.set_inner_method(\"mumps\")\n",
    "solver.options.scr.ksp_type=\"cg\"\n",
    "solver.set_penalty(1.0e7)\n",
    "solver.options.scr.ksp_rtol = 1.0e-4\n",
    "solver.solve(nonLinearIterate=True)\n",
    "solver.print_stats()"
   ]
  },
  {
   "cell_type": "code",
   "execution_count": null,
   "metadata": {
    "collapsed": true
   },
   "outputs": [],
   "source": []
  },
  {
   "cell_type": "code",
   "execution_count": 76,
   "metadata": {
    "collapsed": false
   },
   "outputs": [],
   "source": [
    "#Check which particles are yielding\n",
    "#yieldingCheck.data[:] = 0\n",
    "\n",
    "#yieldconditions = [ ( mantleviscosityFn < Visc , 1), \n",
    "#               ( True                                           , 0) ]\n",
    "\n",
    "# use the branching conditional function to set each particle's index\n",
    "#yieldingCheck.data[:] = fn.branching.conditional( yieldconditions ).evaluate(gSwarm)"
   ]
  },
  {
   "cell_type": "code",
   "execution_count": 77,
   "metadata": {
    "collapsed": false,
    "scrolled": true
   },
   "outputs": [],
   "source": [
    "#fig= glucifer.Figure()\n",
    "#fig.append( glucifer.objects.Points(gSwarm,yieldingCheck))\n",
    "\n",
    "#fig.append( glucifer.objects.Surface(mesh,ndflm, logScale=True))\n",
    "#fig.show()"
   ]
  },
  {
   "cell_type": "markdown",
   "metadata": {},
   "source": [
    "Advection-diffusion System setup\n",
    "-----"
   ]
  },
  {
   "cell_type": "code",
   "execution_count": 78,
   "metadata": {
    "collapsed": false
   },
   "outputs": [],
   "source": [
    "advDiff = uw.systems.AdvectionDiffusion( phiField       = temperatureField, \n",
    "                                         phiDotField    = temperatureDotField, \n",
    "                                         velocityField  = velocityField,\n",
    "                                         fn_sourceTerm    = 0.0,\n",
    "                                         fn_diffusivity = 1.0, \n",
    "                                         #conditions     = [neumannTempBC, dirichTempBC] )\n",
    "                                         conditions     = [ dirichTempBC] )\n",
    "\n",
    "materialadvector = uw.systems.SwarmAdvector( swarm         = gSwarm, \n",
    "                                     velocityField = velocityField, \n",
    "                                     order         = 1)"
   ]
  },
  {
   "cell_type": "code",
   "execution_count": 79,
   "metadata": {
    "collapsed": false
   },
   "outputs": [],
   "source": [
    "population_control = uw.swarm.PopulationControl(gSwarm,deleteThreshold=0.2,splitThreshold=1.,maxDeletions=3,maxSplits=0, aggressive=True, particlesPerCell=md.ppc)"
   ]
  },
  {
   "cell_type": "markdown",
   "metadata": {
    "collapsed": false
   },
   "source": [
    "############\n",
    "#Slightly Diffuse the initial perturbation\n",
    "#############\n",
    "\n",
    "#I was playing around with a tailored diffusivity to target the slab\n",
    "\n",
    "inCircleFnGenerator#Now build the perturbation part\n",
    "def htan(centre, radius, widthPh, farVal = 0.01, fac = 10.):\n",
    "    coord = fn.input()\n",
    "    offsetFn = coord - centre\n",
    "    dist = fn.math.sqrt(fn.math.dot( offsetFn, offsetFn ))\n",
    "    \n",
    "    \n",
    "    return (((fn.math.tanh(((radius - dist))/widthPh) + 1.) /2.))*fac + farVal\n",
    "\n",
    "tfun = htan((0.1, 0.9), 0.1, 0.1, 0.1)\n",
    "\n",
    "for index in mesh.specialSets[\"MinJ_VertexSet\"]:\n",
    "    temperatureField.data[index] = \n",
    "for index in mesh.specialSets[\"MaxJ_VertexSet\"]:\n",
    "    temperatureField.data[index] = \n",
    "\n",
    "timetoDifffuse = 0.#Million years\n",
    "incrementtoDiffuse = 0.2 #Million years\n",
    "\n",
    "timetoDifffuse = (timetoDifffuse*1e6*(spery)/sf.SR).magnitude\n",
    "incrementtoDiffuse = (incrementtoDiffuse*1e6*(spery)/sf.SR).magnitude\n",
    "\n",
    "totAdt = 0.\n",
    "it = 0\n",
    "while totAdt < timetoDifffuse:\n",
    "    dtad = advDiff.get_max_dt()\n",
    "    print(\"step\") + str(it) \n",
    "    advDiff.integrate(incrementtoDiffuse)\n",
    "    totAdt += incrementtoDiffuse\n",
    "    it += 1\n",
    "    \n",
    "#Reset Boundary conds.   \n",
    "for index in mesh.specialSets[\"MinJ_VertexSet\"]:\n",
    "    temperatureField.data[index] = ndp.TBP\n",
    "for index in mesh.specialSets[\"MaxJ_VertexSet\"]:\n",
    "    temperatureField.data[index] = ndp.TSP\n",
    "    \n",
    "comm.Barrier()"
   ]
  },
  {
   "cell_type": "markdown",
   "metadata": {},
   "source": [
    "Analysis functions / routines\n",
    "-----\n",
    "\n",
    "Most of the metrics we want to calculate are either:\n",
    "\n",
    "* extrema of some field / function\n",
    "* integral of some field / function\n",
    "* average value of some function (integral divide by area)\n",
    "\n",
    "In addition, we also want to be able to determine these metrics over some restricted part of the domain, where the restriction may either be due some value of a field, a material type, or something more arbitrary.\n",
    "\n",
    "Much of he challenge lies in defining these restriction functions in an efficient and robust way (i.e they don't break down as the model evolves)\n",
    "\n",
    "For volume integrals, and extrema, we build a hierarchy of restriction functions, each borrowing from the previous, until we have divided the domain into a number of sub regions of interest. \n",
    "\n",
    "In general, averages are found afterwards by combining the integral and the area of the relavent subregion"
   ]
  },
  {
   "cell_type": "code",
   "execution_count": 80,
   "metadata": {
    "collapsed": true
   },
   "outputs": [],
   "source": [
    "###################\n",
    "#Volume Restriction functions\n",
    "###################\n",
    "\n",
    "#Level 1. Global\n",
    "globRestFn = fn.misc.constant(1.)\n",
    "\n",
    "#Level 2. Rock - air:\n",
    "rockRestFn = uw.swarm.SwarmVariable(gSwarm, dataType='double', count=1)\n",
    "rockRestFn.data[:] = 0.\n",
    "rockRestFn.data[np.where(materialVariable.data[:] != airIndex)] = 1.\n",
    "rockRestFn *= globRestFn #Add next level up in heirarchy\n",
    "\n",
    "\n",
    "#Level 3. lithosphere - mantle:\n",
    "tempMM = fn.view.min_max(temperatureField)\n",
    "tempMM.evaluate(mesh)\n",
    "TMAX = tempMM.max_global()\n",
    "mantleconditions = [ (                                  temperatureField < 0.9*TMAX, 1.),\n",
    "                   (                                                   True , 0.) ]\n",
    "lithRestFn = fn.branching.conditional(mantleconditions)\n",
    "lithRestFn*=rockRestFn #Add next level up in heirarchy\n",
    "\n",
    "\n",
    "#Level 4. lower plate - upper plate:\n",
    "\n",
    "\n",
    "#This whole section simply builds a restriction Fn that separates the upper and lower plate \n",
    "#It's pretty cumbersome, and will need to advected, rebuilt\n",
    "#can YOU think of a better way?\n",
    "   \n",
    "lowerPlateRestFn = gSwarm.add_variable( dataType=\"double\", count=1 )\n",
    "lowerPlateRestFn.data[:] = 0.0\n",
    "\n",
    "update_swarm_from_line(slab_seg, lowerPlateRestFn )\n",
    "lowerPlateRestFn.data[np.where(lowerPlateRestFn.data != 0.)] += midthickness #assume instances of 0. are actually where no fault on proc\n",
    "lowerPlateRestFn.data[np.where(lowerPlateRestFn.data > 0.*midthickness)] = 1.\n",
    "lowerPlateRestFn.data[np.where(lowerPlateRestFn.data <= 0.*midthickness)] = 0. \n",
    "lowerPlateRestFn *= lithRestFn #Add next level up in heirarchy\n",
    "\n",
    "#Also see if we can stick the the Velocity and coords on to this swarm as well\n",
    "tipVar = uw.swarm.SwarmVariable(slab_seg.swarm, dataType='double', count=4)\n",
    "tipVar.data[:,:2] = velocityField.evaluate(slab_seg.swarm)\n",
    "tipVar.data[:,2:] = xFn.evaluate(slab_seg.swarm)\n",
    "tipVar.data[:,3:] = yFn.evaluate(slab_seg.swarm)\n",
    "\n",
    "\n",
    "#Level 5. hinge of lower plate:\n",
    "\n",
    "hinge60Spatialconditions = [ (           operator.and_( (depthFn < (60e3/dp.LS)),  (xFn > ndp.subzone - 60e3/dp.LS)), 1.),\n",
    "                   (                                                   True , 0.) ]\n",
    "\n",
    "hinge60RestFn = fn.branching.conditional(hinge60Spatialconditions)\n",
    "hinge60RestFn*=lowerPlateRestFn #Add next level up in heirarchy\n",
    "\n",
    "\n",
    "\n",
    "hinge180Spatialconditions = [ (           operator.and_( (depthFn < (180e3/dp.LS)),  (xFn > ndp.subzone - 180e3/dp.LS)), 1.),\n",
    "                   (                                                   True , 0.) ]\n",
    "\n",
    "hinge180RestFn = fn.branching.conditional(hinge180Spatialconditions)\n",
    "hinge180RestFn*=lowerPlateRestFn #Add next level up in heirarchy\n",
    "\n",
    "\n",
    "#Level 6. crust/interface in hinge of lower plate:\n",
    "\n",
    "interfaceRestFn = uw.swarm.SwarmVariable(gSwarm, dataType='double', count=1)\n",
    "interfaceRestFn.data[:] = 0.\n",
    "interfaceRestFn.data[np.where(materialVariable.data[:] == crustIndex)] = 1.\n",
    "interfaceRestFn *= hinge60RestFn #Add next level up in heirarchy"
   ]
  },
  {
   "cell_type": "code",
   "execution_count": 81,
   "metadata": {
    "collapsed": true
   },
   "outputs": [],
   "source": [
    "respltconditions = [ \n",
    "                    (                                  hinge60RestFn*2. > rockRestFn*1., 1.),\n",
    "                    (                                  lowerPlateRestFn*3. > hinge60RestFn*2. , 3.),\n",
    "                    (                                  lithRestFn*5. > lowerPlateRestFn*3. , 4.),\n",
    "                   (                                                   True , 0.) ]\n",
    "\n",
    "respltFn = fn.branching.conditional(respltconditions )"
   ]
  },
  {
   "cell_type": "code",
   "execution_count": 82,
   "metadata": {
    "collapsed": true
   },
   "outputs": [],
   "source": [
    "###################\n",
    "#Surface Restriction functions\n",
    "###################\n",
    "\n",
    "def platenessFn(val = 0.1):\n",
    "    normgradV = fn.math.abs(velocityField.fn_gradient[0]/fn.math.sqrt(velocityField[0]*velocityField[0])) #[du*/dx]/sqrt(u*u)\n",
    "\n",
    "\n",
    "\n",
    "    srconditions = [ (                                  normgradV < val, 1.),\n",
    "                   (                                                   True , 0.) ]\n",
    "\n",
    "\n",
    "    return fn.branching.conditional(srconditions)\n",
    "\n",
    "srRestFn = platenessFn(val = 0.1)"
   ]
  },
  {
   "cell_type": "code",
   "execution_count": 83,
   "metadata": {
    "collapsed": false
   },
   "outputs": [],
   "source": [
    "###################\n",
    "#Setup any Functions to be integrated\n",
    "###################\n",
    "\n",
    "sqrtv2 = fn.math.sqrt(fn.math.dot(velocityField,velocityField))\n",
    "vx = velocityField[0]\n",
    "v2x = fn.math.dot(velocityField[0],velocityField[0])\n",
    "sqrtv2x = fn.math.sqrt(fn.math.dot(velocityField[0],velocityField[0]))\n",
    "dw = temperatureField*velocityField[1]\n",
    "sinner = fn.math.dot( strainRate_2ndInvariant, strainRate_2ndInvariant )\n",
    "vd = 2.*viscosityMapFn*sinner\n",
    "dTdZ = temperatureField.fn_gradient[1]"
   ]
  },
  {
   "cell_type": "code",
   "execution_count": 84,
   "metadata": {
    "collapsed": true
   },
   "outputs": [],
   "source": [
    "###################\n",
    "#Create integral, max/min templates \n",
    "###################\n",
    "\n",
    "def volumeint(Fn = 1., rFn=globRestFn):\n",
    "    return uw.utils.Integral( Fn*rFn,  mesh )\n",
    "\n",
    "def surfint(Fn = 1., rFn=globRestFn, surfaceIndexSet=mesh.specialSets[\"MaxJ_VertexSet\"]):\n",
    "    return uw.utils.Integral( Fn*rFn, mesh=mesh, integrationType='Surface', surfaceIndexSet=surfaceIndexSet)\n",
    "\n",
    "def maxMin(Fn = 1.):\n",
    "    #maxMin(Fn = 1., rFn=globRestFn\n",
    "    #vuFn = fn.view.min_max(Fn*rFn) #the restriction functions don't work with the view.min_max fn yet\n",
    "    vuFn = fn.view.min_max(Fn)\n",
    "    return vuFn\n",
    "    "
   ]
  },
  {
   "cell_type": "code",
   "execution_count": 85,
   "metadata": {
    "collapsed": true
   },
   "outputs": [],
   "source": [
    "#Setup volume integrals on different sub regions\n",
    "\n",
    "##Whole rock domain\n",
    "\n",
    "_areaintRock = volumeint(rockRestFn)\n",
    "_tempintRock = volumeint(temperatureField, rockRestFn)\n",
    "_rmsintRock = volumeint(sqrtv2,rockRestFn)\n",
    "_dwintRock = volumeint(dw,rockRestFn)\n",
    "_vdintRock = volumeint(vd,rockRestFn)\n",
    "\n",
    "##Lith \n",
    "\n",
    "_areaintLith  = volumeint(lithRestFn)\n",
    "_tempintLith  = volumeint(temperatureField, lithRestFn)\n",
    "_rmsintLith  = volumeint(sqrtv2,lithRestFn)\n",
    "_dwintLith  = volumeint(dw,lithRestFn)\n",
    "_vdintLith  = volumeint(vd,lithRestFn)\n",
    "\n",
    "##Lower plate\n",
    "\n",
    "_areaintLower  = volumeint(lowerPlateRestFn)\n",
    "_tempintLower  = volumeint(temperatureField, lowerPlateRestFn)\n",
    "_rmsintLower  = volumeint(sqrtv2,lowerPlateRestFn)\n",
    "_dwintLower = volumeint(dw,lowerPlateRestFn)\n",
    "_vdintLower  = volumeint(vd,lowerPlateRestFn)\n",
    "\n",
    "##Hinge lower plate\n",
    "\n",
    "_areaintHinge180  = volumeint(hinge180RestFn)\n",
    "_vdintHinge180  = volumeint(vd,hinge180RestFn)\n",
    "\n",
    "_areaintHinge60  = volumeint(hinge60RestFn)\n",
    "_vdintHinge60  = volumeint(vd,hinge60RestFn)\n",
    "\n",
    "\n",
    "##Interface\n",
    "\n",
    "_areaintInterface  = volumeint(interfaceRestFn)\n",
    "_vdintInterface = volumeint(vd,interfaceRestFn)"
   ]
  },
  {
   "cell_type": "code",
   "execution_count": 86,
   "metadata": {
    "collapsed": true
   },
   "outputs": [],
   "source": [
    "#Setup surface integrals\n",
    "\n",
    "_surfLength = surfint()\n",
    "_rmsSurf = surfint(v2x)\n",
    "_nuTop = surfint(dTdZ)\n",
    "_nuBottom = surfint(dTdZ, surfaceIndexSet=mesh.specialSets[\"MinJ_VertexSet\"])\n",
    "_plateness = surfint(srRestFn)"
   ]
  },
  {
   "cell_type": "code",
   "execution_count": 87,
   "metadata": {
    "collapsed": true
   },
   "outputs": [],
   "source": [
    "#Setup max min fns (at the moment, we can't pass restriction function to view.min_max, so we're limited to whole volume or surface extrema)\n",
    "\n",
    "##Whole rock domain\n",
    "\n",
    "#_maxMinVisc = maxMin(viscosityMapFn1)  #These don't work on swarm variables or mapping functions, yet\n",
    "#dummyFn = _maxMinVisc.evaluate(mesh)\n",
    "#_maxMinStressInv = maxMin(2*viscosityMapFn1*strainRate_2ndInvariant) #These don't work on swarm variables or mapping functions, yet\n",
    "#dummyFn = _maxMinStress.evaluate(mesh)\n",
    "#_maxMinVd = maxMin(vd) #These don't work on swarm variables or mapping functions, yet\n",
    "#dummyFn = _maxMinVd.evaluate(mesh)\n",
    "\n",
    "\n",
    "_maxMinVel = maxMin(velocityField) \n",
    "dummyFn = _maxMinVel.evaluate(mesh)\n",
    "\n",
    "_maxMinSr = maxMin(strainRate_2ndInvariant) \n",
    "dummyFn = _maxMinSr.evaluate(mesh)\n",
    "\n",
    "\n",
    "#Surface extrema\n",
    "_maxMinVxSurf = maxMin(vx)\n",
    "dummyFn = _maxMinVxSurf.evaluate(tWalls)\n"
   ]
  },
  {
   "cell_type": "code",
   "execution_count": 88,
   "metadata": {
    "collapsed": true
   },
   "outputs": [],
   "source": [
    "#Volume Ints\n",
    "areaintRock = _areaintRock.evaluate()[0]\n",
    "tempintRock = _tempintRock.evaluate()[0]\n",
    "rmsintRock = _rmsintRock.evaluate()[0]\n",
    "dwintRock = _dwintRock.evaluate()[0]\n",
    "vdintRock = _vdintRock.evaluate()[0]\n",
    "areaintLith = _areaintLith.evaluate()[0]\n",
    "tempintLith = _tempintLith.evaluate()[0]\n",
    "rmsintLith = _rmsintLith.evaluate()[0]\n",
    "dwintLith = _dwintLith.evaluate()[0]\n",
    "vdintLith = _vdintLith.evaluate()[0]\n",
    "areaintLower = _areaintLower.evaluate()[0]\n",
    "tempintLower = _tempintLower.evaluate()[0]\n",
    "rmsintLower = _rmsintLower.evaluate()[0]\n",
    "dwintLower = _dwintLower.evaluate()[0]\n",
    "vdintLower = _vdintLower.evaluate()[0]\n",
    "vdintHinge180 = _vdintHinge180.evaluate()[0]\n",
    "areaintHinge180 = _areaintHinge180.evaluate()[0]\n",
    "vdintHinge60 = _vdintHinge60.evaluate()[0]\n",
    "areaintHinge60= _areaintHinge60.evaluate()[0]\n",
    "vdintInterface = _vdintInterface.evaluate()[0]\n",
    "areaintInterface= _areaintInterface.evaluate()[0]\n",
    "\n",
    "#Surface Ints\n",
    "surfLength = _surfLength.evaluate()[0]\n",
    "rmsSurf = _rmsSurf.evaluate()[0]\n",
    "nuTop = _nuTop.evaluate()[0]\n",
    "nuBottom = _nuBottom.evaluate()[0]\n",
    "plateness = _plateness.evaluate()[0]\n",
    "\n",
    "#Max mins\n",
    "maxVel = _maxMinVel.max_global()\n",
    "minVel = _maxMinVel.min_global() \n",
    "maxSr = _maxMinSr.max_global()\n",
    "minSr = _maxMinSr.min_global()\n",
    "maxVxsurf = _maxMinVxSurf.max_global()\n",
    "minVxsurf = _maxMinVxSurf.min_global()"
   ]
  },
  {
   "cell_type": "markdown",
   "metadata": {},
   "source": [
    "print(areaintRock)\n",
    "print(tempintRock)\n",
    "print(rmsintRock)\n",
    "print(dwintRock)\n",
    "print(vdintRock)\n",
    "print(areaintLith)\n",
    "print(tempintLith )\n",
    "print(rmsintLith)\n",
    "print(dwintLith)\n",
    "print(vdintLith)\n",
    "print(areaintLower)\n",
    "print(tempintLower)\n",
    "print(rmsintLower) \n",
    "print(dwintLower)\n",
    "print(vdintLower)\n",
    "print(vdintHinge60)\n",
    "print(vdintHinge180)\n",
    "print(vdintInterface)\n",
    "\n",
    "print(surfLength)\n",
    "print(rmsSurf)\n",
    "print(nuTop)\n",
    "print(nuBottom)\n",
    "print(plateness)\n",
    "\n",
    "\n",
    "print(maxVel)\n",
    "print(minVel)\n",
    "print(maxSr)\n",
    "print(minSr)\n",
    "print(maxVxsurf)\n",
    "print(minVxsurf)"
   ]
  },
  {
   "cell_type": "markdown",
   "metadata": {},
   "source": [
    "Viz.\n",
    "-----"
   ]
  },
  {
   "cell_type": "code",
   "execution_count": 89,
   "metadata": {
    "collapsed": false
   },
   "outputs": [],
   "source": [
    "if figures == 'gldb':\n",
    "    #Pack some stuff into a database as well\n",
    "    figDb = glucifer.Figure()\n",
    "    #figDb.append( glucifer.objects.Mesh(mesh))\n",
    "    figDb.append( glucifer.objects.VectorArrows(mesh,velocityField, scaling=0.0005))\n",
    "    #figDb.append( glucifer.objects.Points(gSwarm,tracerVariable, colours= 'white black'))\n",
    "    figDb.append( glucifer.objects.Points(gSwarm,materialVariable))\n",
    "    #figDb.append( glucifer.objects.Points(gSwarm,viscMinVariable))\n",
    "    #figDb.append( glucifer.objects.Points(gSwarm,fnViscMin))\n",
    "    figDb.append( glucifer.objects.Points(gSwarm,fnViscMin))\n",
    "    figDb.append( glucifer.objects.Points(gSwarm, viscosityMapFn, logScale=True))\n",
    "    figDb.append( glucifer.objects.Points(gSwarm, strainRate_2ndInvariant, logScale=True))\n",
    "    figDb.append( glucifer.objects.Points(gSwarm,temperatureField))\n",
    "    \n",
    "    \n",
    "    figRestrict= glucifer.Figure()\n",
    "    #figRestrict.append( glucifer.objects.Points(gSwarm,respltFn))\n",
    "    figRestrict.append( glucifer.objects.Points(gSwarm,lithRestFn))\n",
    "    figRestrict.append( glucifer.objects.Points(gSwarm,lowerPlateRestFn))\n",
    "    figRestrict.append( glucifer.objects.Points(gSwarm,hinge180RestFn))\n",
    "    figRestrict.append( glucifer.objects.Points(gSwarm,interfaceRestFn))\n",
    "    figRestrict.append( glucifer.objects.Points(interfaces[0].swarm, colours=\"Blue Blue\", pointSize=2.0, colourBar=False) )\n",
    "    figRestrict.append( glucifer.objects.Points(interfaces[1].swarm, colours=\"Red Red\", pointSize=2.0, colourBar=False) )\n",
    "    figRestrict.append( glucifer.objects.Points(slab_seg.swarm, colours=\"Black Black\", pointSize=2.0, colourBar=False) )\n",
    "\n",
    "elif figures == 'store':\n",
    "    fullpath = os.path.join(outputPath + \"gldbs/\")\n",
    "    store = glucifer.Store(fullpath + 'subduction.gldb')\n",
    "\n",
    "    figTemp = glucifer.Figure(store,figsize=(300*np.round(md.aspectRatio,2),300))\n",
    "    figTemp.append( glucifer.objects.Points(gSwarm,temperatureField))\n",
    "\n",
    "    figVisc= glucifer.Figure(store, figsize=(300*np.round(md.aspectRatio,2),300))\n",
    "    figVisc.append( glucifer.objects.Points(gSwarm,viscosityMapFn, logScale=True, valueRange =[1e-3,1e5]))\n",
    "    \n",
    "    figSr= glucifer.Figure(store, figsize=(300*np.round(md.aspectRatio,2),300))\n",
    "    figSr.append( glucifer.objects.Points(gSwarm,strainRate_2ndInvariant, logScale=True))\n",
    "    figSr.append( glucifer.objects.VectorArrows(mesh,velocityField, scaling=0.0005))\n",
    "\n",
    "    #figMech= glucifer.Figure(store, figsize=(300*np.round(md.aspectRatio,2),300))\n",
    "    #figMech.append( glucifer.objects.Points(gSwarm,fnViscMin))"
   ]
  },
  {
   "cell_type": "markdown",
   "metadata": {},
   "source": [
    "**Miscellania**"
   ]
  },
  {
   "cell_type": "code",
   "execution_count": 90,
   "metadata": {
    "collapsed": false
   },
   "outputs": [
    {
     "name": "stderr",
     "output_type": "stream",
     "text": [
      "/usr/local/lib/python2.7/dist-packages/numpy/core/numeric.py:190: VisibleDeprecationWarning: using a non-integer number instead of an integer will result in an error in the future\n",
      "  a = empty(shape, dtype, order)\n"
     ]
    }
   ],
   "source": [
    "##############\n",
    "#Create a numpy array at the surface to get surface information on (using parallel-friendly evaluate_global)\n",
    "##############\n",
    "\n",
    "surface_xs = np.linspace(mesh.minCoord[0], mesh.maxCoord[0], mesh.elementRes[0] + 1)\n",
    "surface_nodes = np.array(zip(surface_xs, np.ones(len(surface_xs)*mesh.maxCoord[1]))) #For evaluation surface velocity\n",
    "normgradV = velocityField.fn_gradient[0]/fn.math.sqrt(velocityField[0]*velocityField[0])\n",
    "\n",
    "tempMM = fn.view.min_max(temperatureField)\n",
    "dummy = tempMM.evaluate(mesh)\n",
    "\n"
   ]
  },
  {
   "cell_type": "code",
   "execution_count": 91,
   "metadata": {
    "collapsed": false
   },
   "outputs": [],
   "source": [
    "#Not parallel friendly yet\n",
    "#tipXvels = np.sum(velocityField[0].evaluate(tipSwarm)) /\\\n",
    "#    tipSwarm.particleGlobalCount\n",
    "#tipXvels = np.sum(velocityField[1].evaluate(tipSwarm)) /\\\n",
    "#    tipSwarm.particleGlobalCount\n",
    "    \n",
    "#tipXpos = np.sum(xFn.evaluate(tipSwarm)) /\\\n",
    "#    tipSwarm.particleGlobalCount\n",
    "#tipYpos = np.sum(yFn.evaluate(tipSwarm)) /\\\n",
    "#    tipSwarm.particleGlobalCount"
   ]
  },
  {
   "cell_type": "code",
   "execution_count": 114,
   "metadata": {
    "collapsed": false
   },
   "outputs": [],
   "source": [
    "##############\n",
    "#These functions handle checkpointing\n",
    "##############\n",
    "\n",
    "\n",
    "#Subzone = ndp.subzone\n",
    "\n",
    "\n",
    "def checkpoint1(step, checkpointPath,filename, filewrites):\n",
    "    path = checkpointPath + str(step) \n",
    "    os.mkdir(path)\n",
    "    ##Write and save the file, if not already a writing step\n",
    "    if not step % filewrites == 0:\n",
    "        f_o.write((28*'%-15s ' + '\\n') % (areaintRock, tempintRock, rmsintRock, dwintRock, vdintRock,\n",
    "                                  areaintLith, tempintLith,rmsintLith, dwintLith, vdintLith,\n",
    "                                  areaintLower, tempintLower, rmsintLower, dwintLower, vdintLower, \n",
    "                                  areaintHinge180,vdintHinge180, areaintHinge60, vdintHinge60, \n",
    "                                  areaintInterface, vdintInterface, vdintInterface,\n",
    "                                  rmsSurf, nuTop, nuBottom, plateness, ndp.subzone, realtime))\n",
    "    filename.close()\n",
    "    shutil.copyfile(os.path.join(outputPath, outputFile), os.path.join(path, outputFile))\n",
    "\n",
    "\n",
    "def checkpoint2(step, checkpointPath, swarm, filename, varlist = [materialVariable], varnames = ['materialVariable']):\n",
    "    path = checkpointPath + str(step) \n",
    "    velfile = \"velocityField\" + \".hdf5\"\n",
    "    tempfile = \"temperatureField\" + \".hdf5\"\n",
    "    pressfile = \"pressureField\" + \".hdf5\"\n",
    "    velocityField.save(os.path.join(path, velfile))\n",
    "    temperatureField.save(os.path.join(path, tempfile))\n",
    "    pressureField.save(os.path.join(path, pressfile))\n",
    "    swarm.save(os.path.join(path, \"swarm.h5\") ) \n",
    "    for ix in range(len(varlist)):\n",
    "        varb = varlist[ix]\n",
    "        varb.save(os.path.join(path,varnames[ix] + \".h5\"))\n",
    "    \n",
    "    #Save the parameters\n",
    "    dict_list = [dp, sf, ndp, md] #if any of the dictionaries have changed, this list needs to be rebuilt\n",
    "    save_pickles(dict_list, dict_names, path)\n",
    "    \n",
    "#Simple Checkpoint function for the faults / interfaces (markerLine2D)\n",
    "def checkpoint3(step,  checkpointPath, interfaces,interfacenames ):\n",
    "    path = checkpointPath + str(step)\n",
    "    for ix in range(len(interfaces)):\n",
    "        intf = interfaces[ix]\n",
    "        intf.swarm.save(os.path.join(path,interfacenames[ix] + \".h5\"))\n",
    "    \n",
    "    "
   ]
  },
  {
   "cell_type": "code",
   "execution_count": 115,
   "metadata": {
    "collapsed": true
   },
   "outputs": [],
   "source": [
    "##############\n",
    "#Simple function to return info about location of plate boundaries\n",
    "##############\n",
    "\n",
    "def getnearpos(array,value):\n",
    "    idx = (np.abs(array-value)).argmin()\n",
    "    return idx \n",
    "\n",
    "def plate_info(srfilename, minx, maxx,  searchdx, oldszloc = 0.0):\n",
    "    \"\"\"\n",
    "    Use the surface strain rate field to find the location of the subduction zone in 2d\n",
    "    \n",
    "    \"\"\"\n",
    "    if type(srfilename) == str: #read surface strain rate points from file\n",
    "        sr = np.load(srfilename)\n",
    "    else:\n",
    "        sr =  srfilename        #read surface strain rates directly from array\n",
    "    xs = np.linspace(minx,maxx,sr.shape[0] )\n",
    "    #infs at the ends of the SR data...replace with adjacent values\n",
    "    sr[0] = sr[1] \n",
    "    sr[-1] = sr[2]\n",
    "    #Normalize\n",
    "    srx = (sr- sr.mean()) /(sr.max() - sr.min())\n",
    "    #reduce the search domain, to near the previous PB location\n",
    "    lx, rx = getnearpos(xs, oldszloc - searchdx),  getnearpos(xs, oldszloc + searchdx)\n",
    "    red_xs, red_sr = xs[lx:rx], srx[lx:rx]\n",
    "    #return the minima\n",
    "    newszLoc = red_xs[np.argmin(red_sr)]\n",
    "    return newszLoc "
   ]
  },
  {
   "cell_type": "code",
   "execution_count": 116,
   "metadata": {
    "collapsed": true
   },
   "outputs": [],
   "source": [
    "##############\n",
    "#This will allow us to evaluate viscous shear heating, and add the result directly to the temperature field\n",
    "##############\n",
    "\n",
    "viscDisMapFn = 2.*viscosityMapFn*sinner\n",
    "viscDisFnmesh = uw.mesh.MeshVariable(mesh,nodeDofCount=1)\n",
    "viscDisProj = uw.utils.MeshVariable_Projection( viscDisFnmesh, viscDisMapFn)\n",
    "viscDisProj.solve()"
   ]
  },
  {
   "cell_type": "code",
   "execution_count": 117,
   "metadata": {
    "collapsed": false
   },
   "outputs": [],
   "source": [
    "# initialise timer for computation\n",
    "start = time.clock()\n"
   ]
  },
  {
   "cell_type": "markdown",
   "metadata": {},
   "source": [
    "Main simulation loop\n",
    "-----\n"
   ]
  },
  {
   "cell_type": "code",
   "execution_count": null,
   "metadata": {
    "collapsed": true
   },
   "outputs": [],
   "source": [
    "#while step < 21:\n",
    "while realtime < 1.:\n",
    "\n",
    "    # solve Stokes and advection systems\n",
    "    solver.solve(nonLinearIterate=True)\n",
    "    dt = advDiff.get_max_dt()\n",
    "    if step == 0:\n",
    "        dt = 0.\n",
    "    advDiff.integrate(dt)\n",
    "    materialadvector.integrate(dt)\n",
    "    for f in interfaces:\n",
    "        f.advection(dt)\n",
    "    \n",
    "    #Add the adiabatic adjustment \n",
    "    temperatureField.data[:] += dt*abHeatFn.evaluate(mesh)\n",
    "    \n",
    "    #Add the viscous heating term\n",
    "    #Need to fix this (forgot 'dissipation number')\n",
    "    #viscDisProj = uw.utils.MeshVariable_Projection( viscDisFnmesh, viscDisMapFn)\n",
    "    #viscDisProj.solve()\n",
    "    #temperatureField.data[:] += dt*viscDisFnmesh.evaluate(mesh)\n",
    "    \n",
    "\n",
    "    # Increment\n",
    "    realtime += dt\n",
    "    step += 1\n",
    "    timevals.append(realtime)\n",
    "    ################\n",
    "    #Update temperature field in the air region\n",
    "    #Do this better...\n",
    "    ################\n",
    "    if (step % sticky_air_temp == 0):\n",
    "        for index, coord in enumerate(mesh.data):\n",
    "            if coord[1] >= 1.:\n",
    "                temperatureField.data[index] = ndp.TSP\n",
    "\n",
    "    ################\n",
    "    # Calculate the Metrics\n",
    "    ################\n",
    "    if (step % metric_output == 0):\n",
    "        ###############\n",
    "        #Rebuild the restriction functions where necessary\n",
    "        ###############\n",
    "        lowerPlateRestFn = gSwarm.add_variable( dataType=\"double\", count=1 )\n",
    "        lowerPlateRestFn.data[:] = 0.0\n",
    "        update_swarm_from_line(slab_seg, lowerPlateRestFn )\n",
    "        lowerPlateRestFn.data[np.where(lowerPlateRestFn.data >= -1.*midthickness)] = 1.\n",
    "        lowerPlateRestFn.data[np.where(lowerPlateRestFn.data < -1.*midthickness)] = 0. \n",
    "        lowerPlateRestFn *= lithRestFn #Add next level up in hierarchy\n",
    "        \n",
    "        #Hinge\n",
    "        \n",
    "        hinge60Spatialconditions = [ (           operator.and_( (depthFn < MAXY - (60e3/dp.LS)),  (xFn > ndp.subzone - 60e3/dp.LS)), 1.),\n",
    "                   (                                                   True , 0.) ]\n",
    "        hinge60RestFn = fn.branching.conditional(hinge60Spatialconditions)\n",
    "        hinge60RestFn*=lowerPlateRestFn #Add next level up in hierarchy\n",
    "\n",
    "\n",
    "\n",
    "        hinge180Spatialconditions = [ (           operator.and_( (depthFn < MAXY - (180e3/dp.LS)),  (xFn > ndp.subzone - 180e3/dp.LS)), 1.),\n",
    "                           (                                                   True , 0.) ]\n",
    "        hinge180RestFn = fn.branching.conditional(hinge180Spatialconditions)\n",
    "        hinge180RestFn*=lowerPlateRestFn #Add next level up in hierarchy\n",
    "        \n",
    "        ###############\n",
    "        #Metrics\n",
    "        ###############\n",
    "        areaintRock = _areaintRock.evaluate()[0] #trivial except when using sticky air\n",
    "        tempintRock = _tempintRock.evaluate()[0]\n",
    "        rmsintRock = _rmsintRock.evaluate()[0]\n",
    "        dwintRock = _dwintRock.evaluate()[0]\n",
    "        vdintRock = _vdintRock.evaluate()[0]\n",
    "        areaintLith = _areaintLith.evaluate()[0]\n",
    "        tempintLith = _tempintLith.evaluate()[0]\n",
    "        rmsintLith = _rmsintLith.evaluate()[0]\n",
    "        dwintLith = _dwintLith.evaluate()[0]\n",
    "        vdintLith = _vdintLith.evaluate()[0]\n",
    "        areaintLower = _areaintLower.evaluate()[0]\n",
    "        tempintLower = _tempintLower.evaluate()[0]\n",
    "        rmsintLower = _rmsintLower.evaluate()[0]\n",
    "        dwintLower = _dwintLower.evaluate()[0]\n",
    "        vdintLower = _vdintLower.evaluate()[0]\n",
    "        vdintHinge180 = _vdintHinge180.evaluate()[0]\n",
    "        areaintHinge180 = _areaintHinge180.evaluate()[0]\n",
    "        vdintHinge60 = _vdintHinge60.evaluate()[0]\n",
    "        areaintHinge60= _areaintHinge60.evaluate()[0]\n",
    "        vdintInterface = _vdintInterface.evaluate()[0]\n",
    "        areaintInterface= _areaintInterface.evaluate()[0]\n",
    "        #Surface integrals\n",
    "        rmsSurf = _rmsSurf.evaluate()[0]\n",
    "        nuTop = _nuTop.evaluate()[0]\n",
    "        nuBottom = _nuBottom.evaluate()[0]\n",
    "        plateness = _plateness.evaluate()[0]\n",
    "        #extrema\n",
    "        maxVel = _maxMinVel.max_global()\n",
    "        minVel = _maxMinVel.min_global() \n",
    "        maxSr = _maxMinSr.max_global()\n",
    "        minSr = _maxMinSr.min_global()\n",
    "        maxVxsurf = _maxMinVxSurf.max_global()\n",
    "        minVxsurf = _maxMinVxSurf.min_global()\n",
    "        # output to text file...root proc. handles this one\n",
    "        if uw.rank()==0:\n",
    "            f_o.write((28*'%-15s ' + '\\n') % (areaintRock, tempintRock, rmsintRock, dwintRock, vdintRock,\n",
    "                                  areaintLith, tempintLith,rmsintLith, dwintLith, vdintLith,\n",
    "                                  areaintLower, tempintLower, rmsintLower, dwintLower, vdintLower, \n",
    "                                  areaintHinge180,vdintHinge180, areaintHinge60, vdintHinge60, \n",
    "                                  areaintInterface, vdintInterface, vdintInterface,\n",
    "                                  rmsSurf, nuTop, nuBottom, plateness, ndp.subzone, realtime))\n",
    "    ################\n",
    "    #Also repopulate entire swarm periodically\n",
    "    ################\n",
    "    #if step % swarm_repop == 0:\n",
    "    population_control.repopulate()   \n",
    "\n",
    "    ################\n",
    "    #Gldb output\n",
    "    ################ \n",
    "    if (step % gldbs_output == 0): \n",
    "        if figures == 'gldb':\n",
    "            #Remember to rebuild any necessary swarm variables\n",
    "            fnamedb = \"dbFig\" + \"_\" + str(step) + \".gldb\"\n",
    "            fullpath = os.path.join(outputPath + \"gldbs/\" + fnamedb)\n",
    "            figDb.save_database(fullpath)\n",
    "            \n",
    "            #Temp figure\n",
    "            fnamedb = \"restrictFig\" + \"_\" + str(step) + \".gldb\"\n",
    "            fullpath = os.path.join(outputPath + \"gldbs/\" + fnamedb)\n",
    "            figRestrict.save_database(fullpath)\n",
    "        elif figures == 'store':      \n",
    "            fullpath = os.path.join(outputPath + \"gldbs/\")\n",
    "            store.step = step\n",
    "            #Save figures to store\n",
    "            figVisc.save( fullpath + \"Visc\" + str(step).zfill(4))\n",
    "            #figMech.save( fullPath + \"Mech\" + str(step).zfill(4))\n",
    "            figTemp.save( fullpath + \"Temp\"    + str(step).zfill(4))\n",
    "            figSr.save( fullpath + \"Str_rte\"    + str(step).zfill(4))\n",
    "    ################\n",
    "    #Files output\n",
    "    ################ \n",
    "    if (step % files_output == 0):\n",
    "\n",
    "        vel_surface = velocityField.evaluate_global(surface_nodes)\n",
    "        norm_surface_sr = normgradV.evaluate_global(surface_nodes)\n",
    "        if uw.rank() == 0:\n",
    "            fnametemp = \"velsurface\" + \"_\" + str(step)\n",
    "            fullpath = os.path.join(outputPath + \"files/\" + fnametemp)\n",
    "            np.save(fullpath, vel_surface)\n",
    "            fnametemp = \"norm_surface_sr\" + \"_\" + str(step)\n",
    "            fullpath = os.path.join(outputPath + \"files/\" + fnametemp)\n",
    "            np.save(fullpath, norm_surface_sr)\n",
    "            \n",
    "        #Save the slab_seg and tipswarm coords \n",
    "        fnametemp1 = \"midSwarm\" + \"_\" + str(step)\n",
    "        fullpath1 = os.path.join(outputPath + \"files/\" + fnametemp1)\n",
    "        slab_seg.swarm.save(fullpath1)\n",
    "        #tipVar.data[:,:2] = velocityField.evaluate(tipSwarm)\n",
    "        #tipVar.data[:,2:] = xFn.evaluate(tipSwarm)\n",
    "        #tipVar.data[:,3:] = yFn.evaluate(tipSwarm)\n",
    "        #comm.barrier()\n",
    "        #fnametemp2 = \"tipSwarm\" + \"_\" + str(step)\n",
    "        #fullpath2 = os.path.join(outputPath + \"files/\" + fnametemp2)\n",
    "        #tipVar.save('fullpath2')\n",
    "        \n",
    "        \n",
    "    ################\n",
    "    #Update the subduction zone / plate information\n",
    "    ################ \n",
    "    \n",
    "    comm.barrier()\n",
    "    if (step % files_output == 0):\n",
    "        \n",
    "        if uw.rank() == 0:\n",
    "            fnametemp = \"norm_surface_sr\" + \"_\" + str(step) + \".npy\"\n",
    "            fullpath = os.path.join(outputPath + \"files/\" + fnametemp)\n",
    "            ndp.subzone = plate_info(fullpath, MINX, MAXX,  800e3/dp.LS, oldszloc = ndp.subzone)\n",
    "            \n",
    "        else:\n",
    "            ndp.subzone = None\n",
    "        \n",
    "        comm.barrier()    \n",
    "        #send out the updated info for sz location\n",
    "        \n",
    "        ndp.subzone = comm.bcast(ndp.subzone, root=0)\n",
    "\n",
    "        #Has the polarity reversed?\n",
    "\n",
    "        if dp.sense == 'right':\n",
    "            tempop = operator.lt\n",
    "            szoffet *= -1\n",
    "        else:\n",
    "            tempop = operator.gt\n",
    "            \n",
    "        #Update the relevant parts of the material graph\n",
    "        #Remove and rebuild edges related to crust\n",
    "        DG.remove_edges_from([(mantleIndex,crustIndex)])\n",
    "        DG.add_edges_from([(mantleIndex,crustIndex)])\n",
    "        DG.remove_edges_from([(harzIndex,crustIndex)])\n",
    "        DG.add_edges_from([(harzIndex,crustIndex)])\n",
    "\n",
    "        #... to crust\n",
    "        DG.add_transition((mantleIndex,crustIndex), depthFn, operator.lt, 0.5)\n",
    "        DG.add_transition((mantleIndex,crustIndex), xFn, tempop , ndp.subzone) #No crust on the upper plate\n",
    "        DG.add_transition((mantleIndex,crustIndex), ageVariable, operator.gt, 0.2)\n",
    "\n",
    "        DG.add_transition((harzIndex,crustIndex), depthFn, operator.lt, ndp.MANTLETOCRUST)\n",
    "        DG.add_transition((harzIndex,crustIndex), xFn, tempop, ndp.subzone) #This one sets no crust on the upper plate\n",
    "        DG.add_transition((harzIndex,crustIndex), ageVariable, operator.gt, crustageCond)\n",
    "        \n",
    "        comm.barrier()\n",
    "                   \n",
    "        \n",
    "        \n",
    "        \n",
    "    ################\n",
    "    #Particle update\n",
    "    ###############    \n",
    "    #ageVariable.data[:] += dt #increment the ages (is this efficient?)\n",
    "    ageDT += dt\n",
    "    \n",
    "    if step % swarm_update == 0:\n",
    "        #Increment age stuff. \n",
    "        ageConditions = [ (depthFn < ndp.AGETRACKDEPTH, ageVariable + ageDT ),  #add ageDThere\n",
    "                  (True, 0.) ]\n",
    "        ageVariable.data[:] = fn.branching.conditional( ageConditions ).evaluate(gSwarm)        \n",
    "        ageDT = 0. #reset the age incrementer\n",
    "        \n",
    "        #Apply any materialVariable changes\n",
    "        for i in range(2): #go through twice\n",
    "            materialVariable.data[:] = fn.branching.conditional(DG.condition_list).evaluate(gSwarm)\n",
    "        \n",
    "        #Also update any information related to faults / interfaces:\n",
    "        update_swarm_from_faults(surface_seg, proximityVariable, directorVector, signedDistanceVariable)\n",
    "        mask_materials(surface_seg, airIndex, materialVariable, proximityVariable, directorVector, signedDistanceVariable)\n",
    "        \n",
    "        update_swarm_from_faults(fault_seg, proximityVariable, directorVector, signedDistanceVariable)\n",
    "        mask_materials(fault_seg, crustIndex, materialVariable, proximityVariable, directorVector, signedDistanceVariable)\n",
    "        \n",
    "        proximityVariable.data[gSwarm.particleCoordinates.data[:,1]  < (1. - ndp.CRUSTVISCUTOFF)] = 0.\n",
    "        \n",
    "        #And add extra particles to interfaces as necessary\n",
    "        #subduction fault\n",
    "        introPoint = ndp.subzone - abs(ndp.subzone - ndp.lRidge)/2. #half way between ridge and Sz\n",
    "        fault_seg.add_points([introPoint],[MAXY - faultthickness])\n",
    "        #Slab / mid swarm\n",
    "        if dp.sense == 'Right':\n",
    "            introPoint = ndp.lRidge + midthickness #\n",
    "        else:\n",
    "            introPoint = ndp.rRidge - midthickness #\n",
    "        slab_seg.add_points([introPoint],[MAXY - midthickness])\n",
    "\n",
    "        \n",
    "    ################\n",
    "    #Checkpoint\n",
    "    ################\n",
    "    if step % checkpoint_every == 0:\n",
    "        if uw.rank() == 0:\n",
    "            checkpoint1(step, checkpointPath,f_o, metric_output)           \n",
    "        checkpoint2(step, checkpointPath, gSwarm, f_o, varlist = varlist, varnames = varnames)\n",
    "        checkpoint3(step,  checkpointPath, interfaces,interfacenames )\n",
    "        f_o = open(os.path.join(outputPath, outputFile), 'a') #is this line supposed to be here?        \n",
    "    \n",
    "f_o.close()\n",
    "print 'step =',step"
   ]
  },
  {
   "cell_type": "code",
   "execution_count": null,
   "metadata": {
    "collapsed": false
   },
   "outputs": [],
   "source": [
    "#viscVariable = gSwarm.add_variable( dataType=\"float\", count=1 )\n",
    "#viscVariable.data[:] = viscosityMapFn.evaluate(gSwarm)\n",
    "\n",
    "#buoyVariable = gSwarm.add_variable( dataType=\"float\", count=1 )\n",
    "#buoyVariable.data[:] = densityMapFn.evaluate(gSwarm)"
   ]
  },
  {
   "cell_type": "code",
   "execution_count": null,
   "metadata": {
    "collapsed": false
   },
   "outputs": [],
   "source": [
    "#fig= glucifer.Figure()\n",
    "#fig.append( glucifer.objects.Points(gSwarm,ageVariable))\n",
    "#fig.append( glucifer.objects.Points(gSwarm, viscosityMapFn, logScale=True, valueRange =[1e-3,1e5]))\n",
    "\n",
    "#fig.append( glucifer.objects.Surface(mesh, strainRate_2ndInvariant, logScale=True, valueRange =[1e-3,1e5] ))\n",
    "#fig.append( glucifer.objects.VectorArrows(mesh,velocityField, scaling=0.002))\n",
    "#fig.append( glucifer.objects.Surface(mesh,densityMapFn))\n",
    "#fig.append( glucifer.objects.Surface(mesh,raylieghFn))\n",
    "\n",
    "#fig.show()\n",
    "#fig.save_database('test.gldb')"
   ]
  },
  {
   "cell_type": "code",
   "execution_count": null,
   "metadata": {
    "collapsed": false
   },
   "outputs": [],
   "source": [
    "#print('proc #' + str(comm.rank) + \" \" + str(Max_vx_surf ) )\n",
    "#if uw.rank()==0:\n",
    "#    print('Proc 0' +  \" \" + str(Max_vx_surf ) )"
   ]
  },
  {
   "cell_type": "code",
   "execution_count": null,
   "metadata": {
    "collapsed": true
   },
   "outputs": [],
   "source": [
    "figDb.save_database('test.gldb')"
   ]
  },
  {
   "cell_type": "code",
   "execution_count": null,
   "metadata": {
    "collapsed": true
   },
   "outputs": [],
   "source": []
  }
 ],
 "metadata": {
  "kernelspec": {
   "display_name": "Python 2",
   "language": "python",
   "name": "python2"
  },
  "language_info": {
   "codemirror_mode": {
    "name": "ipython",
    "version": 2
   },
   "file_extension": ".py",
   "mimetype": "text/x-python",
   "name": "python",
   "nbconvert_exporter": "python",
   "pygments_lexer": "ipython2",
   "version": "2.7.9"
  },
  "widgets": {
   "state": {},
   "version": "1.1.2"
  }
 },
 "nbformat": 4,
 "nbformat_minor": 0
}
