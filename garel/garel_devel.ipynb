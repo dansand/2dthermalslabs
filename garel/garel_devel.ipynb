{
 "cells": [
  {
   "cell_type": "markdown",
   "metadata": {},
   "source": [
    "## Composite, non-linear rheology:\n",
    "\n",
    "\n",
    "The viscous rheology in this model is similar to the Garel et al paper cited below. Other parts of the model setup are similar to Čížková and Bina (2015), Arredondo and Billen (2016) and Korenaga (2011). \n",
    "\n",
    "Here we use a dimensionless system. For the psuedo-plastic effective rheology a Drucker-prager model is used.\n",
    "\n",
    "\n",
    "**Keywords:** subduction, composite rheology, dislocation creep\n",
    "\n",
    "\n",
    "**References:**\n",
    "\n",
    "\n",
    "Garel, Fanny, et al. \"Interaction of subducted slabs with the mantle transition‐zone: A regime diagram from 2‐D thermo‐mechanical models with a mobile trench and an overriding plate.\" Geochemistry, Geophysics, Geosystems 15.5 (2014): 1739-1765.\n",
    "\n",
    "Čížková, Hana, and Craig R. Bina. \"Geodynamics of trench advance: Insights from a Philippine-Sea-style geometry.\" Earth and Planetary Science Letters 430 (2015): 408-415.\n",
    "\n",
    "Arredondo, Katrina M., and Magali I. Billen. \"The Effects of Phase Transitions and Compositional Layering in Two-dimensional Kinematic Models of Subduction.\" Journal of Geodynamics (2016).\n"
   ]
  },
  {
   "cell_type": "code",
   "execution_count": 1,
   "metadata": {
    "collapsed": false
   },
   "outputs": [
    {
     "name": "stderr",
     "output_type": "stream",
     "text": [
      "/root/underworld2/unsupported/interfaces/__init__.py:9: UserWarning: \n",
      "\n",
      "The interface module is not supported.\n",
      "Questions should be addressed to louis.moresi@unimelb.edu.au \n",
      " \n",
      "  Questions should be addressed to louis.moresi@unimelb.edu.au \\n \"\"\"\n"
     ]
    }
   ],
   "source": [
    "import numpy as np\n",
    "import underworld as uw\n",
    "import math\n",
    "from underworld import function as fn\n",
    "import glucifer\n",
    "\n",
    "import os\n",
    "import sys\n",
    "import natsort\n",
    "import shutil\n",
    "from easydict import EasyDict as edict\n",
    "import operator\n",
    "import pint\n",
    "import time\n",
    "import operator\n",
    "from slippy2 import boundary_layer2d\n",
    "from slippy2 import material_graph\n",
    "from slippy2 import spmesh\n",
    "from slippy2 import phase_function\n",
    "from unsupported.interfaces import markerLine2D\n",
    "\n",
    "\n",
    "from mpi4py import MPI\n",
    "comm = MPI.COMM_WORLD\n",
    "rank = comm.Get_rank()"
   ]
  },
  {
   "cell_type": "code",
   "execution_count": 2,
   "metadata": {
    "collapsed": false
   },
   "outputs": [],
   "source": [
    "#store = glucifer.Store('subduction')\n",
    "#figParticle = glucifer.Figure( store, figsize=(960,300), name=\"Particles\" )\n",
    "\n",
    "#figParticle.save_database('test.gldb')"
   ]
  },
  {
   "cell_type": "markdown",
   "metadata": {},
   "source": [
    "Model name and directories\n",
    "-----"
   ]
  },
  {
   "cell_type": "code",
   "execution_count": 3,
   "metadata": {
    "collapsed": true
   },
   "outputs": [],
   "source": [
    "############\n",
    "#Model letter and number\n",
    "############\n",
    "\n",
    "\n",
    "#Model letter identifier default\n",
    "Model = \"T\"\n",
    "\n",
    "#Model number identifier default:\n",
    "ModNum = 0\n",
    "\n",
    "#Any isolated letter / integer command line args are interpreted as Model/ModelNum\n",
    "\n",
    "if len(sys.argv) == 1:\n",
    "    ModNum = ModNum \n",
    "elif sys.argv[1] == '-f': #\n",
    "    ModNum = ModNum \n",
    "else:\n",
    "    for farg in sys.argv[1:]:\n",
    "        if not '=' in farg: #then Assume it's a not a paramter argument\n",
    "            try:\n",
    "                ModNum = int(farg) #try to convert everingthing to a float, else remains string\n",
    "            except ValueError:\n",
    "                Model  = farg"
   ]
  },
  {
   "cell_type": "code",
   "execution_count": 4,
   "metadata": {
    "collapsed": false
   },
   "outputs": [],
   "source": [
    "###########\n",
    "#Standard output directory setup\n",
    "###########\n",
    "\n",
    "\n",
    "outputPath = \"results\" + \"/\" +  str(Model) + \"/\" + str(ModNum) + \"/\" \n",
    "imagePath = outputPath + 'images/'\n",
    "filePath = outputPath + 'files/'\n",
    "checkpointPath = outputPath + 'checkpoint/'\n",
    "dbPath = outputPath + 'gldbs/'\n",
    "outputFile = 'results_model' + Model + '_' + str(ModNum) + '.dat'\n",
    "\n",
    "if uw.rank()==0:\n",
    "    # make directories if they don't exist\n",
    "    if not os.path.isdir(outputPath):\n",
    "        os.makedirs(outputPath)\n",
    "    if not os.path.isdir(checkpointPath):\n",
    "        os.makedirs(checkpointPath)\n",
    "    if not os.path.isdir(imagePath):\n",
    "        os.makedirs(imagePath)\n",
    "    if not os.path.isdir(dbPath):\n",
    "        os.makedirs(dbPath)\n",
    "    if not os.path.isdir(filePath):\n",
    "        os.makedirs(filePath)\n",
    "        \n",
    "comm.Barrier() #Barrier here so no procs run the check in the next cell too early"
   ]
  },
  {
   "cell_type": "code",
   "execution_count": 5,
   "metadata": {
    "collapsed": false
   },
   "outputs": [
    {
     "name": "stdout",
     "output_type": "stream",
     "text": [
      "results/T/0/checkpoint/ is empty\n"
     ]
    }
   ],
   "source": [
    "###########\n",
    "#Check if starting from checkpoint\n",
    "###########\n",
    "\n",
    "checkdirs = []\n",
    "for dirpath, dirnames, files in os.walk(checkpointPath):\n",
    "    if files:\n",
    "        print dirpath, 'has files'\n",
    "        checkpointLoad = True\n",
    "        checkdirs.append(dirpath)\n",
    "    if not files:\n",
    "        print dirpath, 'is empty'\n",
    "        checkpointLoad = False"
   ]
  },
  {
   "cell_type": "code",
   "execution_count": 6,
   "metadata": {
    "collapsed": true
   },
   "outputs": [],
   "source": [
    "# setup summary output file (name above)\n",
    "if checkpointLoad:\n",
    "    checkpointLoadDir = natsort.natsort(checkdirs)[-1]\n",
    "    if uw.rank() == 0:\n",
    "        shutil.copyfile(os.path.join(checkpointLoadDir, outputFile), outputPath+outputFile)\n",
    "    comm.Barrier()\n",
    "    f_o = open(os.path.join(outputPath, outputFile), 'a')\n",
    "    prevdata = np.genfromtxt(os.path.join(outputPath, outputFile), skip_header=0, skip_footer=0)\n",
    "    if len(prevdata.shape) == 1: #this is in case there is only one line in previous file\n",
    "        realtime = prevdata[-1]  #This corresponds to the column you write time data to\n",
    "    else:\n",
    "        realtime = prevdata[prevdata.shape[0]-1, -1]\n",
    "    step = int(checkpointLoadDir.split('/')[-1])\n",
    "    timevals = [0.]\n",
    "else:\n",
    "    f_o = open(outputPath+outputFile, 'w')\n",
    "    realtime = 0.\n",
    "    step = 0\n",
    "    timevals = [0.]"
   ]
  },
  {
   "cell_type": "markdown",
   "metadata": {},
   "source": [
    "Setup parameters\n",
    "-----\n",
    "\n",
    "Set simulation parameters for test."
   ]
  },
  {
   "cell_type": "markdown",
   "metadata": {},
   "source": [
    "**Use pint to setup any unit conversions we'll need**"
   ]
  },
  {
   "cell_type": "code",
   "execution_count": 7,
   "metadata": {
    "collapsed": false
   },
   "outputs": [
    {
     "name": "stderr",
     "output_type": "stream",
     "text": [
      "/usr/local/lib/python2.7/dist-packages/IPython/core/formatters.py:92: DeprecationWarning: DisplayFormatter._ipython_display_formatter_default is deprecated: use @default decorator instead.\n",
      "  def _ipython_display_formatter_default(self):\n",
      "/usr/local/lib/python2.7/dist-packages/IPython/core/formatters.py:98: DeprecationWarning: DisplayFormatter._formatters_default is deprecated: use @default decorator instead.\n",
      "  def _formatters_default(self):\n",
      "/usr/local/lib/python2.7/dist-packages/IPython/core/formatters.py:677: DeprecationWarning: PlainTextFormatter._deferred_printers_default is deprecated: use @default decorator instead.\n",
      "  def _deferred_printers_default(self):\n",
      "/usr/local/lib/python2.7/dist-packages/IPython/core/formatters.py:669: DeprecationWarning: PlainTextFormatter._singleton_printers_default is deprecated: use @default decorator instead.\n",
      "  def _singleton_printers_default(self):\n",
      "/usr/local/lib/python2.7/dist-packages/IPython/core/formatters.py:672: DeprecationWarning: PlainTextFormatter._type_printers_default is deprecated: use @default decorator instead.\n",
      "  def _type_printers_default(self):\n",
      "/usr/local/lib/python2.7/dist-packages/IPython/core/formatters.py:669: DeprecationWarning: PlainTextFormatter._singleton_printers_default is deprecated: use @default decorator instead.\n",
      "  def _singleton_printers_default(self):\n",
      "/usr/local/lib/python2.7/dist-packages/IPython/core/formatters.py:672: DeprecationWarning: PlainTextFormatter._type_printers_default is deprecated: use @default decorator instead.\n",
      "  def _type_printers_default(self):\n",
      "/usr/local/lib/python2.7/dist-packages/IPython/core/formatters.py:677: DeprecationWarning: PlainTextFormatter._deferred_printers_default is deprecated: use @default decorator instead.\n",
      "  def _deferred_printers_default(self):\n"
     ]
    },
    {
     "data": {
      "text/html": [
       "10000.0 meter/megayear"
      ],
      "text/latex": [
       "$10000.0 \\frac{meter}{megayear}$"
      ],
      "text/plain": [
       "<Quantity(10000.0, 'meter / megayear')>"
      ]
     },
     "execution_count": 7,
     "metadata": {},
     "output_type": "execute_result"
    }
   ],
   "source": [
    "u = pint.UnitRegistry()\n",
    "cmpery = 1.*u.cm/u.year\n",
    "mpermy = 1.*u.m/u.megayear\n",
    "year = 1.*u.year\n",
    "spery = year.to(u.sec)\n",
    "cmpery.to(mpermy)"
   ]
  },
  {
   "cell_type": "code",
   "execution_count": 8,
   "metadata": {
    "collapsed": false
   },
   "outputs": [
    {
     "name": "stdout",
     "output_type": "stream",
     "text": [
      "(0.04, 1.2675505856327397e-11)\n"
     ]
    }
   ],
   "source": [
    "box_half_width =4000e3\n",
    "age_at_trench = 100e6\n",
    "cmperyear = box_half_width / age_at_trench #m/y\n",
    "mpersec = cmperyear*(cmpery.to(u.m/u.second)).magnitude #m/sec\n",
    "print(cmperyear, mpersec )"
   ]
  },
  {
   "cell_type": "markdown",
   "metadata": {},
   "source": [
    "**Set parameter dictionaries**\n",
    "\n",
    "* Parameters are stored in dictionaries. \n",
    "* If starting from checkpoint, parameters are loaded using pickle\n",
    "* If params are passed in as flags to the script, they overwrite "
   ]
  },
  {
   "cell_type": "code",
   "execution_count": 9,
   "metadata": {
    "collapsed": true
   },
   "outputs": [],
   "source": [
    "###########\n",
    "#Parameter / settings dictionaries get saved&loaded using pickle\n",
    "###########\n",
    " \n",
    "dp = edict({}) #dimensional parameters\n",
    "sf = edict({}) #scaling factors\n",
    "ndp = edict({}) #dimensionless paramters\n",
    "md = edict({}) #model paramters, flags etc\n",
    "#od = edict({}) #output frequencies\n"
   ]
  },
  {
   "cell_type": "code",
   "execution_count": 10,
   "metadata": {
    "collapsed": true
   },
   "outputs": [],
   "source": [
    "dict_list = [dp, sf, ndp, md]\n",
    "dict_names = ['dp.pkl', 'sf.pkl', 'ndp.pkl', 'md.pkl']\n",
    "\n",
    "def save_pickles(dict_list, dict_names, dictPath):\n",
    "    import pickle\n",
    "    counter = 0\n",
    "    for pdict in dict_list:\n",
    "        myfile = os.path.join(dictPath, dict_names[counter])\n",
    "        with open(myfile, 'wb') as f:\n",
    "            pickle.dump(pdict, f)\n",
    "        counter+=1\n",
    "\n",
    "\n",
    "#ended up having to pretty much write a hard-coded function\n",
    "#All dictionaries we want checkpointed will have to  be added here \n",
    "#and where the function is called\n",
    "#Fortunately, this function is only called ONCE\n",
    "\n",
    "def load_pickles():\n",
    "    import pickle\n",
    "    dirpath = os.path.join(checkpointPath, str(step))\n",
    "    dpfile = open(os.path.join(dirpath, 'dp.pkl'), 'r')\n",
    "    dp = pickle.load(dpfile)\n",
    "#    #\n",
    "    ndpfile = open(os.path.join(dirpath, 'ndp.pkl'), 'r')\n",
    "    ndp = edict(pickle.load(ndpfile))\n",
    "    #\n",
    "    sffile = open(os.path.join(dirpath, 'sf.pkl'), 'r')\n",
    "    sf = edict(pickle.load(sffile))\n",
    "    #\n",
    "    mdfile = open(os.path.join(dirpath, 'md.pkl'), 'r')\n",
    "    md = edict(pickle.load(mdfile))\n",
    "    return dp, ndp, sf, md"
   ]
  },
  {
   "cell_type": "code",
   "execution_count": 11,
   "metadata": {
    "collapsed": false
   },
   "outputs": [],
   "source": [
    "###########\n",
    "#Store the physical parameters, scale factors and dimensionless pramters in easyDicts\n",
    "#Mainly helps with avoiding overwriting variables\n",
    "###########\n",
    "\n",
    "\n",
    "#Style => parameters_like_this\n",
    "\n",
    "dp = edict({#Main physical paramters\n",
    "           'depth':0.5*2900.*1e3, #Depth\n",
    "           'LS':2900.*1e3, #Length scale\n",
    "           'rho':3300.,  #reference density\n",
    "           'g':9.8, #surface gravity\n",
    "           'eta0':1e20, #Dislocation creep at 250 km, 1573 K, 1e-15 s-1 \n",
    "           'k':1e-6, #thermal diffusivity\n",
    "           'a':3e-5, #surface thermal expansivity\n",
    "           'R':8.314, #gas constant\n",
    "           'Cp':1250., #Specific heat (Jkg-1K-1)\n",
    "           'TP':1573., #mantle potential temp (K)\n",
    "           'TS':273., #surface temp (K)\n",
    "            #Rheology - flow law paramters\n",
    "           'cm':2e6, #mantle cohesion in Byerlee law\n",
    "           'cc':2e6, #mantle cohesion in Byerlee law\n",
    "           'ci':2e6, #mantle cohesion in Byerlee law\n",
    "           'cf':2e6, #mantle cohesion in Byerlee law\n",
    "           'fcm':0.2,   #mantle friction coefficient in Byerlee law (tan(phi))\n",
    "           'fcc':0.01,   #crust friction coefficient \n",
    "           'fci':0.01,   #subduction interface friction coefficient\n",
    "           'fcf':0.03,   #subduction interface friction coefficient\n",
    "           'Adf':3e-11, #pre-exp factor for diffusion creep\n",
    "           'Ads':5e-16, #pre-exp factor for dislocation creep\n",
    "           'Apr':1e-150,#pre-exp factor for Peierls creep\n",
    "           'Edf':3e5,\n",
    "           'Eds':5.4e5,\n",
    "           'Epr':5.4e5,\n",
    "           'Vdf':4e-6,\n",
    "           'Vds':12e-6,\n",
    "           'Vpr':10e-6,\n",
    "           'Alm':2e-16,\n",
    "           'Elm':2.0e5,\n",
    "           'Vlm':1.5e-6,\n",
    "           'SR':1e-15, #reference strain rate\n",
    "           'n':3.5, #Dislocation creep stress exponent\n",
    "           'np':20., #Peierls creep stress exponent \n",
    "           #Rheology - cutoff values\n",
    "           'eta_min':1e17, \n",
    "           'eta_max':1e25, #viscosity max in the mantle material\n",
    "           'eta_min_crust':1e17, #viscosity min in the weak-crust material\n",
    "           'eta_max_crust':0.5*1e20, #viscosity max in the weak-crust material\n",
    "           'eta_min_interface':1e17, #viscosity min in the subduction interface material\n",
    "           'eta_max_interface':0.5*1e20, #viscosity max in the subduction interface material\n",
    "           'eta_min_fault':1e20, #viscosity min in the subduction interface material\n",
    "           'eta_max_fault':1e20, #viscosity max in the subduction interface material\n",
    "           #Length scales\n",
    "           'MANTLETOCRUST':8.*1e3, #Crust depth\n",
    "           'HARZBURGDEPTH':40e3,\n",
    "           'CRUSTTOMANTLE':800.*1e3,\n",
    "           'LITHTOMANTLE':(900.*1e3),\n",
    "           'MANTLETOLITH':200.*1e3, \n",
    "           'TOPOHEIGHT':10.*1e3,  #rock-air topography limits\n",
    "           'CRUSTTOECL':100.*1e3,\n",
    "           'LOWMANTLEDEPTH':660.*1e3, \n",
    "           'CRUSTVISCUTOFF':150.*1e3, #Deeper than this, crust material rheology reverts to mantle rheology\n",
    "           'AGETRACKDEPTH':100e3, #above this depth we track the age of the lithsphere (below age is assumed zero)\n",
    "           #Slab and plate parameters\n",
    "           'roc':250e3,     #radius of curvature of slab\n",
    "           'subzone':0.0,   #X position of subduction zone...km\n",
    "           'lRidge':-1.*(5000e3),  #For depth = 670 km, aspect ratio of 4, this puts the ridges at MINX, MAXX\n",
    "           'rRidge':(5000e3),\n",
    "           'maxDepth':250e3,\n",
    "           'theta':70., #Angle to truncate the slab (can also control with a maxDepth param)\n",
    "           'slabmaxAge':60e6, #age of subduction plate at trench\n",
    "           'platemaxAge':60e6, #max age of slab (Plate model)\n",
    "           'sense':'Right', #dip direction\n",
    "           'op_age_fac':0.5, #this controls the overidding plate age reduction\n",
    "           #Misc\n",
    "           'rDepth':250e3, #reference depth (used to scale / normalize the flow laws)\n",
    "           'StALS':100e3, #depth of sticky air layer\n",
    "           'Steta_n':1e19, #stick air viscosity, normal\n",
    "           'Steta_s':1e18, #stick air viscosity, shear \n",
    "           'plate_vel':4,\n",
    "           'low_mantle_visc_fac':10.\n",
    "             })\n",
    "\n",
    "#append any derived parameters to the dictionary\n",
    "#Adiabatic heating stuff\n",
    "\n",
    "dp.dTa = (dp.a*dp.g*(dp.TP))/dp.Cp #adibatic gradient, at Tp\n",
    "dp.deltaTa = (dp.TP + dp.dTa*dp.LS) - dp.TS  #Adiabatic Temp at base of mantle, minus Ts\n",
    "dp.rTemp= dp.TP + dp.rDepth*dp.dTa #reference temp, (potential temp + adiabat)\n"
   ]
  },
  {
   "cell_type": "code",
   "execution_count": 12,
   "metadata": {
    "collapsed": true
   },
   "outputs": [],
   "source": [
    "#Modelling and Physics switches\n",
    "\n",
    "md = edict({'refineMesh':True,\n",
    "            'stickyAir':False,\n",
    "            'subductionFault':False,\n",
    "            'symmetricIcs':False,\n",
    "            'velBcs':False,\n",
    "            'aspectRatio':6.89, # 2*Aspect ratio of the garel model, i.e preserves width when only half depth is used\n",
    "            'compBuoyancy':False, #use compositional & phase buoyancy, or simply thermal\n",
    "            'periodicBcs':False,\n",
    "            'RES':64,\n",
    "            'PIC_integration':True,\n",
    "            'ppc':25,\n",
    "            'elementType':\"Q1/dQ0\",\n",
    "            'compBuoyancy':False, #use compositional & phase buoyancy, or simply thermal\n",
    "            'viscMechs':['diffusion', 'dislocation', 'peierls', 'yielding'],\n",
    "            'viscCombine':'harmonic' #'harmonic', 'min', 'mixed'....\n",
    "            })"
   ]
  },
  {
   "cell_type": "code",
   "execution_count": 13,
   "metadata": {
    "collapsed": true
   },
   "outputs": [],
   "source": [
    "###########\n",
    "#If starting from a checkpoint load params from file\n",
    "###########\n",
    "\n",
    "if checkpointLoad:\n",
    "    dp, ndp, sf, md = load_pickles()  #remember to add any extra dictionaries"
   ]
  },
  {
   "cell_type": "code",
   "execution_count": 14,
   "metadata": {
    "collapsed": true
   },
   "outputs": [],
   "source": [
    "###########\n",
    "#If command line args are given, overwrite\n",
    "#Note that this assumes that params as commans line args/\n",
    "#only append to the 'dimensional' and 'model' dictionary (not the non-dimensional)\n",
    "###########    \n",
    "\n",
    "\n",
    "###########\n",
    "#If extra arguments are provided to the script\" eg:\n",
    "### >>> uw.py 2 dp.arg1=1 dp.arg2=foo dp.arg3=3.0\n",
    "###\n",
    "###This would assign ModNum = 2, all other values go into the dp dictionary, under key names provided\n",
    "###\n",
    "###Two operators are searched for, = & *=\n",
    "###\n",
    "###If =, parameter is re-assigned to givn value\n",
    "###If *=, parameter is multipled by given value\n",
    "###\n",
    "### >>> uw.py 2 dp.arg1=1 dp.arg2=foo dp.arg3*=3.0\n",
    "###########\n",
    "\n",
    "for farg in sys.argv[1:]:\n",
    "    try:\n",
    "        (dicitem,val) = farg.split(\"=\") #Split on equals operator\n",
    "        (dic,arg) = dicitem.split(\".\") #colon notation\n",
    "        if '*=' in farg:\n",
    "            (dicitem,val) = farg.split(\"*=\") #If in-place multiplication, split on '*='\n",
    "            (dic,arg) = dicitem.split(\".\")\n",
    "            \n",
    "        if val == 'True': \n",
    "            val = True\n",
    "        elif val == 'False':     #First check if args are boolean\n",
    "            val = False\n",
    "        else:\n",
    "            try:\n",
    "                val = float(val) #next try to convert  to a float,\n",
    "            except ValueError:\n",
    "                pass             #otherwise leave as string\n",
    "        #Update the dictionary\n",
    "        if farg.startswith('dp'):\n",
    "            if '*=' in farg:\n",
    "                dp[arg] = dp[arg]*val #multiply parameter by given factor\n",
    "            else:\n",
    "                dp[arg] = val    #or reassign parameter by given value\n",
    "        if farg.startswith('md'):\n",
    "            if '*=' in farg:\n",
    "                md[arg] = md[arg]*val #multiply parameter by given factor\n",
    "            else:\n",
    "                md[arg] = val    #or reassign parameter by given value\n",
    "                \n",
    "    except:\n",
    "        pass\n",
    "            \n",
    "\n",
    "comm.barrier()"
   ]
  },
  {
   "cell_type": "code",
   "execution_count": 15,
   "metadata": {
    "collapsed": false
   },
   "outputs": [],
   "source": [
    "if not checkpointLoad:\n",
    "    \n",
    "    #Scaling factors, used to map the dimensional parameters to dimensionless\n",
    "    \n",
    "    sf = edict({'stress':dp.LS**2/(dp.k*dp.eta0),\n",
    "            'lith_grad':dp.rho*dp.g*(dp.LS)**3/(dp.eta0*dp.k) ,\n",
    "            'vel':dp.LS/dp.k,\n",
    "            'SR':dp.LS**2/dp.k,\n",
    "            'W':(dp.rho*dp.g*dp.LS)/(dp.R*dp.deltaTa), #Including adiabatic compression, and deltaTa\n",
    "            'E': 1./(dp.R*dp.deltaTa), #using deltaTa, the guesstimated adiabatic temp differnnce to scale these paramters\n",
    "            #'Ads':(dp.eta0**(ndp.n-2))*((dp.k)**(ndp.n-1))*((dp.LS)**(2. - 2*ndp.n))       \n",
    "           })\n",
    "    \n",
    "     #dimensionless parameters\n",
    "    ndp = edict({'RA':(dp.g*dp.rho*dp.a*dp.deltaTa*(dp.LS)**3)/(dp.k*dp.eta0),\n",
    "             'Di': dp.a*dp.g*dp.LS/dp.Cp, #Dissipation number\n",
    "             'H':0.,\n",
    "             #Temperatures and reference depth\n",
    "             'TSP':0., #dimensionless potential temp\n",
    "             'TPP':(dp.TP - dp.TS)/dp.deltaTa, #dimensionless potential temp\n",
    "             'TS':dp.TS/dp.deltaTa,\n",
    "             'TP':dp.TP/dp.deltaTa,\n",
    "             'rTemp':(dp.rTemp- dp.TS)/dp.deltaTa,\n",
    "             'rDepth':dp.rDepth/dp.LS,\n",
    "              #Rheology - flow law paramters        \n",
    "             'Wdf':dp.Vdf*sf.W,\n",
    "             'Edf':dp.Edf*sf.E,\n",
    "             'Wps':dp.Vpr*sf.W,\n",
    "             'Eps':dp.Epr*sf.E,\n",
    "             'Wds':dp.Vds*sf.W,      #{df  => diffusion creep}\n",
    "             'Eds':dp.Eds*sf.E,      #{ds  => dislocation creep}\n",
    "             'Elm':dp.Elm*sf.E,      #{pr  => Peierls creep}\n",
    "             'Elm':dp.Elm*sf.E,\n",
    "             'Wlm':dp.Vlm*sf.W,\n",
    "             'cm':dp.cm*sf.stress,\n",
    "             'cc':dp.cc*sf.stress,    #{dimensionless cohesion in mantl, crust, interface}\n",
    "             'ci':dp.ci*sf.stress,\n",
    "             'cf':dp.cf*sf.stress,\n",
    "             'fcmd':dp.fcm*sf.lith_grad, \n",
    "             'fccd':dp.fcc*sf.lith_grad, #{dimensionless friction coefficient in mantle, crust, interface}\n",
    "             'fcid':dp.fci*sf.lith_grad,\n",
    "             'fcfd':dp.fci*sf.lith_grad,\n",
    "             'n':dp.n, #Dislocation creep stress exponent\n",
    "             'np':dp.np, #Peierls creep stress exponent \n",
    "             #Rheology - cutoff values\n",
    "             'eta_min':dp.eta_min/dp.eta0, \n",
    "             'eta_max':dp.eta_max/dp.eta0, #viscosity max in the mantle material\n",
    "             'eta_min_crust':dp.eta_min_crust/dp.eta0, #viscosity min in the weak-crust material\n",
    "             'eta_max_crust':dp.eta_max_crust/dp.eta0, #viscosity max in the weak-crust material\n",
    "             'eta_min_interface':dp.eta_min_interface/dp.eta0, #viscosity min in the subduction interface material\n",
    "             'eta_max_interface':dp.eta_max_interface/dp.eta0, #viscosity max in the subduction interface material\n",
    "             'eta_min_fault':dp.eta_min_fault/dp.eta0, #viscosity min in the subduction interface material\n",
    "             'eta_max_fault':dp.eta_max_fault/dp.eta0, #viscosity max in the subduction interface material \n",
    "             #Lengths scales\n",
    "             'MANTLETOCRUST':dp.MANTLETOCRUST/dp.LS, #Crust depth\n",
    "             'HARZBURGDEPTH':dp.HARZBURGDEPTH/dp.LS,\n",
    "             'CRUSTTOMANTLE':dp.CRUSTTOMANTLE/dp.LS,\n",
    "             'LITHTOMANTLE':dp.LITHTOMANTLE/dp.LS,\n",
    "             'MANTLETOLITH':dp.MANTLETOLITH/dp.LS,\n",
    "             'TOPOHEIGHT':dp.TOPOHEIGHT/dp.LS,  #rock-air topography limits\n",
    "             'CRUSTTOECL':dp.CRUSTTOECL/dp.LS,\n",
    "             'LOWMANTLEDEPTH':dp.LOWMANTLEDEPTH/dp.LS, \n",
    "             'CRUSTVISCUTOFF':dp.CRUSTVISCUTOFF/dp.LS, #Deeper than this, crust material rheology reverts to mantle rheology\n",
    "             'AGETRACKDEPTH':dp.AGETRACKDEPTH/dp.LS,\n",
    "             #Slab and plate parameters\n",
    "             'roc':dp.roc/dp.LS,         #radius of curvature of slab\n",
    "             'subzone':dp.subzone/dp.LS, #X position of subduction zone...km\n",
    "             'lRidge':dp.lRidge/dp.LS,   #For depth = 670 km, aspect ratio of 4, this puts the ridges at MINX, MAXX\n",
    "             'rRidge':dp.rRidge/dp.LS,\n",
    "             'maxDepth':dp.maxDepth/dp.LS,\n",
    "             #Misc\n",
    "             'Steta_n':dp.Steta_n/dp.eta0, #stick air viscosity, normal\n",
    "             'Steta_s':dp.Steta_n/dp.eta0, #stick air viscosity, shear \n",
    "             'StALS':dp.StALS/dp.LS,\n",
    "             'plate_vel':sf.vel*dp.plate_vel*(cmpery.to(u.m/u.second)).magnitude,\n",
    "             'low_mantle_visc_fac':dp.low_mantle_visc_fac\n",
    "            })\n",
    "\n",
    "    #Append any more derived paramters\n",
    "    ndp.SR = dp.SR*sf.SR #characteristic strain rate\n",
    "    ndp.StRA = (3300.*dp.g*(dp.LS)**3)/(dp.eta0 *dp.k) #Composisitional Rayleigh number for rock-air buoyancy force\n",
    "    ndp.TaP = 1. - ndp.TPP,  #Dimensionles adiabtic component of deltaT"
   ]
  },
  {
   "cell_type": "code",
   "execution_count": null,
   "metadata": {
    "collapsed": true
   },
   "outputs": [],
   "source": []
  },
  {
   "cell_type": "markdown",
   "metadata": {},
   "source": [
    "**Model/ mesh  setup parameters**"
   ]
  },
  {
   "cell_type": "code",
   "execution_count": 16,
   "metadata": {
    "collapsed": false
   },
   "outputs": [],
   "source": [
    "###########\n",
    "#Model setup parameters\n",
    "###########\n",
    "\n",
    "dim = 2          # number of spatial dimensions\n",
    "\n",
    "\n",
    "#Domain and Mesh paramters\n",
    "Xres = int(md.RES*8)\n",
    "\n",
    "\n",
    "hw = np.round(5000e3/dp.LS, 1)\n",
    "MINX = -1*hw\n",
    "MINY = 1. - (dp.depth/dp.LS)\n",
    "\n",
    "\n",
    "MAXX = hw\n",
    "MAXY = 1.\n",
    "\n",
    "\n",
    "if md.stickyAir:\n",
    "    Yres = int(md.RES)\n",
    "    MAXY = 1. + dp.StALS/dp.LS #150km\n",
    "    \n",
    "else:\n",
    "    Yres = int(md.RES)\n",
    "    MAXY = 1.\n",
    "\n",
    "\n",
    "periodic = [False, False]\n",
    "if md.periodicBcs:\n",
    "    periodic = [True, False]\n",
    "\n",
    "\n",
    "\n",
    "\n",
    "#Metric output stuff\n",
    "figures =  'gldb' #glucifer Store won't work on all machines, if not, set to 'gldb' \n",
    "swarm_repop, swarm_update = 10, 10\n",
    "gldbs_output = 40\n",
    "checkpoint_every, files_output = 50, 20 #checkpoint every needs to be greater or equal to metric_output \n",
    "metric_output = 20\n",
    "sticky_air_temp = 1e6"
   ]
  },
  {
   "cell_type": "code",
   "execution_count": 35,
   "metadata": {
    "collapsed": false
   },
   "outputs": [],
   "source": [
    "mesh = uw.mesh.FeMesh_Cartesian( elementType = (md.elementType),\n",
    "                                 elementRes  = (Xres, Yres), \n",
    "                                 minCoord    = (MINX, MINY), \n",
    "                                 maxCoord    = (MAXX, MAXY), periodic=periodic)\n",
    "\n",
    "velocityField       = uw.mesh.MeshVariable( mesh=mesh,         nodeDofCount=2 )\n",
    "pressureField       = uw.mesh.MeshVariable( mesh=mesh.subMesh, nodeDofCount=1 )\n",
    "temperatureField    = uw.mesh.MeshVariable( mesh=mesh,         nodeDofCount=1 )\n",
    "temperatureDotField = uw.mesh.MeshVariable( mesh=mesh,         nodeDofCount=1 )"
   ]
  },
  {
   "cell_type": "code",
   "execution_count": 36,
   "metadata": {
    "collapsed": true
   },
   "outputs": [],
   "source": [
    "mesh.reset()\n"
   ]
  },
  {
   "cell_type": "code",
   "execution_count": 19,
   "metadata": {
    "collapsed": false
   },
   "outputs": [
    {
     "name": "stdout",
     "output_type": "stream",
     "text": [
      "Min\n",
      "(512, 0.0033867187499999774, 2.5840000000000054, 0.95999999999997443)\n",
      "('edges', 512)\n",
      "-- iteration 0 --\n",
      "| F( p_n ) |^2: 2.1341247797e-05\n",
      "| p_n+1 - p_n |^2: 11.8441792803\n",
      "-- iteration 1 --\n",
      "| F( p_n ) |^2: 4.40508176067e-30\n",
      "Min, Max element width: \n",
      "0.00339\n",
      "0.00989\n"
     ]
    },
    {
     "name": "stderr",
     "output_type": "stream",
     "text": [
      "/root/slippy2/slippy2/spmesh.py:213: DeprecationWarning: the sets module is deprecated\n",
      "  from sets import ImmutableSet as Set\n"
     ]
    }
   ],
   "source": [
    "###########\n",
    "#Mesh refinement\n",
    "###########\n",
    "\n",
    "#X-Axis\n",
    "\n",
    "if md.refineMesh:\n",
    "    mesh.reset()\n",
    "    axis = 0\n",
    "    origcoords = np.linspace(mesh.minCoord[axis], mesh.maxCoord[axis], mesh.elementRes[axis] + 1)\n",
    "    edge_rest_lengths = np.diff(origcoords)\n",
    "\n",
    "    deform_lengths = edge_rest_lengths.copy()\n",
    "    min_point =  (abs(mesh.maxCoord[axis]) - abs(mesh.minCoord[axis]))/2.\n",
    "    el_reduction = 0.51\n",
    "    dx = mesh.maxCoord[axis] - min_point\n",
    "\n",
    "    deform_lengths = deform_lengths - \\\n",
    "                                    ((1.-el_reduction) *deform_lengths[0]) + \\\n",
    "                                    abs((origcoords[1:] - min_point))*((0.5*deform_lengths[0])/dx)\n",
    "\n",
    "    #print(edge_rest_lengths.shape, deform_lengths.shape)\n",
    "\n",
    "    spmesh.deform_1d(deform_lengths, mesh,axis = 'x',norm = 'Min', constraints = [])"
   ]
  },
  {
   "cell_type": "code",
   "execution_count": 20,
   "metadata": {
    "collapsed": false
   },
   "outputs": [],
   "source": [
    "axis = 1\n",
    "orgs = np.linspace(mesh.minCoord[axis], mesh.maxCoord[axis], mesh.elementRes[axis] + 1)\n",
    "\n",
    "value_to_constrain = 1.\n",
    "\n",
    "\n",
    "yconst = [(spmesh.find_closest(orgs, value_to_constrain), np.array([value_to_constrain,0]))]"
   ]
  },
  {
   "cell_type": "code",
   "execution_count": 21,
   "metadata": {
    "collapsed": false,
    "scrolled": true
   },
   "outputs": [
    {
     "name": "stdout",
     "output_type": "stream",
     "text": [
      "Min\n",
      "(64, 0.00390625, 0.3115234375, 3.0634920634920637)\n",
      "('edges', 64)\n",
      "-- iteration 0 --\n",
      "| F( p_n ) |^2: 3.1486390129e-05\n",
      "| p_n+1 - p_n |^2: 0.137599723049\n",
      "-- iteration 1 --\n",
      "| F( p_n ) |^2: 3.42851641287e-31\n",
      "Min, Max element width: \n",
      "0.00391\n",
      "0.01172\n"
     ]
    }
   ],
   "source": [
    "###########\n",
    "#Mesh refinement\n",
    "###########\n",
    "\n",
    "if md.refineMesh:\n",
    "    #Y-Axis\n",
    "    axis = 1\n",
    "    origcoords = np.linspace(mesh.minCoord[axis], mesh.maxCoord[axis], mesh.elementRes[axis] + 1)\n",
    "    edge_rest_lengths = np.diff(origcoords)\n",
    "\n",
    "    deform_lengths = edge_rest_lengths.copy()\n",
    "    min_point =  (mesh.maxCoord[axis])\n",
    "    el_reduction = 0.5\n",
    "    dx = mesh.maxCoord[axis]\n",
    "\n",
    "    deform_lengths = deform_lengths - \\\n",
    "                                    ((1.-el_reduction)*deform_lengths[0]) + \\\n",
    "                                    abs((origcoords[1:] - min_point))*((0.5*deform_lengths[0])/dx)\n",
    "\n",
    "    #print(edge_rest_lengths.shape, deform_lengths.shape)\n",
    "\n",
    "    spmesh.deform_1d(deform_lengths, mesh,axis = 'y',norm = 'Min', constraints = yconst)"
   ]
  },
  {
   "cell_type": "code",
   "execution_count": 22,
   "metadata": {
    "collapsed": false
   },
   "outputs": [],
   "source": [
    "#THis is a hack for adding a sticky air domain, we refine MAXY and things like the temperature stencil work from Y = 1. \n",
    "\n",
    "if md.stickyAir:\n",
    "    MAXY = 1."
   ]
  },
  {
   "cell_type": "markdown",
   "metadata": {},
   "source": [
    "Initial conditions\n",
    "-------\n"
   ]
  },
  {
   "cell_type": "code",
   "execution_count": 37,
   "metadata": {
    "collapsed": false
   },
   "outputs": [],
   "source": [
    "coordinate = fn.input()\n",
    "depthFn = 1. - coordinate[1] #a function providing the depth\n",
    "xFn = coordinate[0]  #a function providing the x-coordinate\n",
    "yFn = coordinate[1]  #a function providing the y-coordinate\n",
    "\n",
    "potTempFn = ndp.TPP + (depthFn)*ndp.TaP #a function providing the adiabatic temp at any depth\n",
    "abHeatFn = -1.*velocityField[1]*temperatureField*ndp.Di #a function providing the adiabatic heating rate"
   ]
  },
  {
   "cell_type": "code",
   "execution_count": 50,
   "metadata": {
    "collapsed": false
   },
   "outputs": [],
   "source": [
    "#potTempFn.evaluate(mesh).max()"
   ]
  },
  {
   "cell_type": "code",
   "execution_count": 39,
   "metadata": {
    "collapsed": false
   },
   "outputs": [],
   "source": [
    "def age_fn(xFn, sz = 0.0, lMOR=MINX, rMOR=MAXX, opFac=1., conjugate_plate = False):\n",
    "    \"\"\"\n",
    "    Simple function to generate a discrete 1-d (i.e x-coordinate) function for the age of the thermal BC. \n",
    "    All paramters are dimensionless\n",
    "    sz: location of subduction zone\n",
    "    lMOR: location of left-hand MOR\n",
    "    rMOR: location of right-hand MOR\n",
    "    opFac: uniform reduce the age of the right hand plate by this factor\n",
    "    conjugate_plate: if True, build plates on the outer sides of the MORs, if False, age = 0. \n",
    "    \"\"\"\n",
    "    \n",
    "    if lMOR < MINX:\n",
    "        lMOR = MINX\n",
    "    if rMOR > MAXX:\n",
    "        rMOR = MAXX\n",
    "    r_grad =  1./(abs(rMOR-sz))\n",
    "    l_grad =  1./(abs(sz-lMOR))\n",
    "    if conjugate_plate:\n",
    "        ageFn = fn.branching.conditional([(operator.and_(xFn > lMOR, xFn < sz) , (xFn + abs(lMOR))/(abs(sz-lMOR))), \n",
    "                                      (operator.and_(xFn < rMOR, xFn >= sz), (1.-(xFn + abs(sz))/abs(rMOR-sz))*opFac),\n",
    "                                      (xFn > rMOR, r_grad*opFac*(xFn -abs(rMOR)) / (abs(MAXX-rMOR))),\n",
    "                                      (True, l_grad*fn.math.abs((((xFn + abs(lMOR)) / (abs(lMOR - MINX))))))\n",
    "                                         ])\n",
    "    else:    \n",
    "        \n",
    "        ageFn = fn.branching.conditional([(operator.and_(xFn > lMOR, xFn < sz) , (xFn + abs(lMOR))/(abs(sz-lMOR))), \n",
    "                                      (operator.and_(xFn < rMOR, xFn >= sz), (1.-(xFn + abs(sz))/abs(rMOR-sz))*opFac),\n",
    "\n",
    "                                      (True, 0.0)])\n",
    "    return ageFn"
   ]
  },
  {
   "cell_type": "code",
   "execution_count": 44,
   "metadata": {
    "collapsed": false
   },
   "outputs": [
    {
     "data": {
      "text/plain": [
       "(70.0, 250000.0, 1892160000000000.0)"
      ]
     },
     "execution_count": 44,
     "metadata": {},
     "output_type": "execute_result"
    }
   ],
   "source": [
    "dp.theta, dp.roc, ageAtTrenchSeconds"
   ]
  },
  {
   "cell_type": "code",
   "execution_count": 40,
   "metadata": {
    "collapsed": true
   },
   "outputs": [],
   "source": [
    "###########\n",
    "#Thermal initial condition - half-space cooling\n",
    "###########\n",
    "\n",
    "#  a few conversions\n",
    "ageAtTrenchSeconds = min(dp.platemaxAge*(3600*24*365), dp.slabmaxAge*(3600*24*365))\n",
    "phi = 90. - dp.theta\n",
    "Org = (ndp.subzone, MAXY-ndp.roc)\n",
    "\n",
    "#First build the top TBL\n",
    "ageFn = age_fn(xFn, sz =ndp.subzone, lMOR=ndp.lRidge,rMOR=ndp.rRidge, conjugate_plate=True, opFac = dp.op_age_fac)\n",
    "ageFn *= ageAtTrenchSeconds #dimensionlize the age function\n",
    "w0 = (2.3*math.sqrt(dp.k*ageAtTrenchSeconds))/dp.LS #diffusion depth of plate at the trench\n",
    "\n",
    "tempBL = (potTempFn)*fn.math.erf((depthFn*dp.LS)/(2.*fn.math.sqrt(dp.k*ageFn))) + ndp.TSP #boundary layer function\n",
    "tempTBL =  fn.branching.conditional([(depthFn < w0, tempBL),\n",
    "                          (True, potTempFn)])\n",
    "\n",
    "if not md.symmetricIcs:\n",
    "    if not checkpointLoad:\n",
    "        out = uw.utils.MeshVariable_Projection( temperatureField, tempTBL) #apply function with projection\n",
    "        out.solve()\n",
    "\n"
   ]
  },
  {
   "cell_type": "code",
   "execution_count": 27,
   "metadata": {
    "collapsed": false
   },
   "outputs": [],
   "source": [
    "#Now build the perturbation part\n",
    "def inCircleFnGenerator(centre, radius):\n",
    "    coord = fn.input()\n",
    "    offsetFn = coord - centre\n",
    "    return fn.math.dot( offsetFn, offsetFn ) < radius**2\n",
    "\n",
    "\n",
    "\n",
    "#We use three circles to define our slab and crust perturbation,  \n",
    "Oc = inCircleFnGenerator(Org , ndp.roc)\n",
    "Oc2 = inCircleFnGenerator(Org , ndp.roc + (0.5*ndp.MANTLETOCRUST)) #increases the amount of crust in the interface\n",
    "Ic = inCircleFnGenerator(Org , ndp.roc - w0)\n",
    "Cc = inCircleFnGenerator(Org , ndp.roc - (1.2*ndp.MANTLETOCRUST)) #... weak zone on 'outside' of slab\n",
    "Hc = inCircleFnGenerator(Org , ndp.roc - ndp.HARZBURGDEPTH) #... Harzburgite layer \n",
    "dx = (ndp.roc)/(np.math.tan((np.math.pi/180.)*phi))\n",
    "\n",
    "#We'll also create a triangle which will truncate the circles defining the slab...\n",
    "if dp.sense == 'Left':\n",
    "    ptx = ndp.subzone - dx\n",
    "else:\n",
    "    ptx = ndp.subzone + dx\n",
    "coords = ((0.+ ndp.subzone, MAXY), (0.+ ndp.subzone, MAXY-ndp.roc), (ptx, MAXY))\n",
    "Tri = fn.shape.Polygon(np.array(coords))\n",
    "\n",
    "#Actually apply the perturbation - could probably avoid particle walk here\n",
    "if not md.symmetricIcs:\n",
    "    if not checkpointLoad:\n",
    "        sdFn = ((ndp.roc - fn.math.sqrt((coordinate[0] - Org[0])**2. + (coordinate[1] - Org[1])**2.)))\n",
    "        slabFn = ndp.TPP*fn.math.erf((sdFn*dp.LS)/(2.*math.sqrt(dp.k*ageAtTrenchSeconds))) + ndp.TSP\n",
    "        for index, coord in enumerate(mesh.data):\n",
    "            if (\n",
    "                Oc.evaluate(tuple(coord)) and\n",
    "                Tri.evaluate(tuple(coord)) and not\n",
    "                Ic.evaluate(tuple(coord)) and\n",
    "                coord[1] > (MAXY - ndp.maxDepth)\n",
    "                ): #In the quarter-circle defining the lithosphere\n",
    "                temperatureField.data[index] = slabFn.evaluate(mesh)[index]\n"
   ]
  },
  {
   "cell_type": "code",
   "execution_count": 28,
   "metadata": {
    "collapsed": false
   },
   "outputs": [],
   "source": [
    "#Make sure material in sticky air region is at the surface temperature.\n",
    "for index, coord in enumerate(mesh.data):\n",
    "            if coord[1] >= 1.:\n",
    "                temperatureField.data[index] = ndp.TSP"
   ]
  },
  {
   "cell_type": "markdown",
   "metadata": {
    "collapsed": false
   },
   "source": [
    "def matplot_field(temperatureField, dp):\n",
    "    if uw.nProcs() != 1:\n",
    "        print(\"only in Serial folks\")\n",
    "    else:\n",
    "        import matplotlib.pyplot as pyplt\n",
    "        try :\n",
    "            if(__IPYTHON__) :\n",
    "                get_ipython().magic(u'matplotlib inline')\n",
    "        except NameError :\n",
    "            pass\n",
    "        field_data = temperatureField.data.reshape(mesh.elementRes[1] + 1, mesh.elementRes[0] + 1)\n",
    "        fig, ax = pyplt.subplots(figsize=(32,2))\n",
    "        ql = dp.LS/1e3\n",
    "        pyplt.ioff()\n",
    "        cax =ax.imshow(np.flipud(field_data), cmap='coolwarm', aspect = 0.5, extent=[0,ql*aspectRatio,ql, 0])\n",
    "        fig.colorbar(cax, orientation='horizontal' )\n",
    "        #ax.set_x([0,dp.LS*aspectRatio])\n",
    "        pyplt.tight_layout()\n",
    "        \n",
    "        return fig, ax\n",
    "        \n",
    "fig, ax = matplot_field(temperatureField, dp)\n",
    "fig.savefig('test.png')       "
   ]
  },
  {
   "cell_type": "code",
   "execution_count": 29,
   "metadata": {
    "collapsed": false
   },
   "outputs": [],
   "source": [
    "#fig= glucifer.Figure(quality=3)\n",
    "#fig.append( glucifer.objects.Surface(mesh,temperatureField, discrete=True))\n",
    "#fig.append( glucifer.objects.Mesh(mesh))\n",
    "#fig.append( glucifer.objects.Points())\n",
    "#fig.show()\n",
    "#fig.save_database('test.gldb')\n"
   ]
  },
  {
   "cell_type": "code",
   "execution_count": 41,
   "metadata": {
    "collapsed": false
   },
   "outputs": [
    {
     "data": {
      "text/plain": [
       "(0.77274757866689248,\n",
       " 0.64725880121214252,\n",
       " 0.10870641393233287,\n",
       " 0.053577411543610481)"
      ]
     },
     "execution_count": 41,
     "metadata": {},
     "output_type": "execute_result"
    }
   ],
   "source": [
    "#temperatureField.data.max(), temperatureField.data.mean(), temperatureField.data.std(), temperatureField.data.min()\n",
    "#potTempFn.evaluate(mesh).max()\n",
    "#(0.7721588418240608, 0.61013468852904196, 0.1448762958609163, 0.0)\n",
    "#MAXX, MAXY"
   ]
  },
  {
   "cell_type": "markdown",
   "metadata": {},
   "source": [
    "Boundary conditions\n",
    "-------"
   ]
  },
  {
   "cell_type": "code",
   "execution_count": 52,
   "metadata": {
    "collapsed": false
   },
   "outputs": [
    {
     "name": "stdout",
     "output_type": "stream",
     "text": [
      "2\n"
     ]
    }
   ],
   "source": [
    "iWalls = mesh.specialSets[\"MinI_VertexSet\"] + mesh.specialSets[\"MaxI_VertexSet\"]\n",
    "jWalls = mesh.specialSets[\"MinJ_VertexSet\"] + mesh.specialSets[\"MaxJ_VertexSet\"]\n",
    "tWalls = mesh.specialSets[\"MaxJ_VertexSet\"]\n",
    "bWalls =mesh.specialSets[\"MinJ_VertexSet\"]\n",
    "\n",
    "\n",
    "for index in mesh.specialSets[\"MinJ_VertexSet\"]:\n",
    "    temperatureField.data[index] = potTempFn.evaluate(bWalls).min() #Adiabatic temp at bottom of mesh/domain\n",
    "for index in mesh.specialSets[\"MaxJ_VertexSet\"]:\n",
    "    temperatureField.data[index] = ndp.TSP\n",
    "\n",
    "VelBCs = mesh.specialSets[\"Empty\"]\n",
    "\n",
    "\n",
    "\n",
    "if md.velBcs:\n",
    "    for index in list(tWalls.data):\n",
    "\n",
    "        if (mesh.data[int(index)][0] < (ndp.subzone - 0.05*md.aspectRatio) and \n",
    "            mesh.data[int(index)][0] > (mesh.minCoord[0] + 0.05*md.aspectRatio)): #Only push with a portion of teh overiding plate\n",
    "            #print \"first\"\n",
    "            VelBCs.add(int(index))\n",
    "            #Set the plate velocities for the kinematic phase\n",
    "            velocityField.data[index] = [ndp.plate_vel, 0.]\n",
    "        \n",
    "        elif (mesh.data[int(index)][0] > (ndp.subzone + 0.05*md.aspectRatio) and \n",
    "            mesh.data[int(index)][0] < (mesh.maxCoord[0] - 0.05*md.aspectRatio)):\n",
    "            #print \"second\"\n",
    "            VelBCs.add(int(index))\n",
    "            #Set the plate velocities for the kinematic phase\n",
    "            velocityField.data[index] = [0., 0.]\n",
    "        \n",
    "\n",
    "#If periodic, we'll fix a the x-vel at a single node - at the bottom left (index 0)\n",
    "Fixed = mesh.specialSets[\"Empty\"]\n",
    "Fixed.add(int(0))        \n",
    "        \n",
    "\n",
    "if periodic[0] == False:\n",
    "    if md.velBcs:\n",
    "        print(1)\n",
    "        freeslipBC = uw.conditions.DirichletCondition( variable      = velocityField, \n",
    "                                               indexSetsPerDof = ( iWalls + VelBCs, jWalls) )\n",
    "    else:\n",
    "        print(2)\n",
    "        freeslipBC = uw.conditions.DirichletCondition( variable      = velocityField, \n",
    "                                               indexSetsPerDof = ( iWalls, jWalls) )\n",
    "\n",
    "\n",
    "\n",
    "if periodic[0] == True:\n",
    "    if md.velBcs:\n",
    "        print(3)\n",
    "        freeslipBC = uw.conditions.DirichletCondition( variable      = velocityField, \n",
    "                                               indexSetsPerDof = ( Fixed + VelBCs , jWalls) )\n",
    "    else:\n",
    "        print(4)\n",
    "        freeslipBC = uw.conditions.DirichletCondition( variable      = velocityField, \n",
    "                                               indexSetsPerDof = ( Fixed, jWalls) )\n",
    "        \n",
    "    \n",
    "    \n",
    "    \n",
    "# also set dirichlet for temp field\n",
    "dirichTempBC = uw.conditions.DirichletCondition(     variable=temperatureField, \n",
    "                                              indexSetsPerDof=(tWalls,) )\n",
    "dT_dy = [0.,0.]\n",
    "\n",
    "# also set dirichlet for temp field\n",
    "neumannTempBC = uw.conditions.NeumannCondition( dT_dy, variable=temperatureField, \n",
    "                                         nodeIndexSet=bWalls)\n",
    "\n"
   ]
  },
  {
   "cell_type": "code",
   "execution_count": 53,
   "metadata": {
    "collapsed": false
   },
   "outputs": [],
   "source": [
    "#check VelBCs are where we want them\n",
    "#test = np.zeros(len(tWalls.data))\n",
    "#VelBCs\n",
    "#tWalls.data\n",
    "#tWalls.data[VelBCs.data]\n",
    "#test[np.in1d(tWalls.data, VelBCs.data)] = 1.\n",
    "#test\n",
    "\n"
   ]
  },
  {
   "cell_type": "code",
   "execution_count": null,
   "metadata": {
    "collapsed": false
   },
   "outputs": [],
   "source": []
  },
  {
   "cell_type": "markdown",
   "metadata": {},
   "source": [
    "Swarm setup\n",
    "-----\n"
   ]
  },
  {
   "cell_type": "code",
   "execution_count": 54,
   "metadata": {
    "collapsed": false
   },
   "outputs": [],
   "source": [
    "###########\n",
    "#Material Swarm and variables\n",
    "###########\n",
    "\n",
    "#create material swarm\n",
    "gSwarm = uw.swarm.Swarm(mesh=mesh, particleEscape=True)\n",
    "\n",
    "#create swarm variables\n",
    "yieldingCheck = gSwarm.add_variable( dataType=\"int\", count=1 )\n",
    "#tracerVariable = gSwarm.add_variable( dataType=\"int\", count=1)\n",
    "materialVariable = gSwarm.add_variable( dataType=\"int\", count=1 )\n",
    "ageVariable = gSwarm.add_variable( dataType=\"double\", count=1 )\n",
    "#testVariable = gSwarm.add_variable( dataType=\"float\", count=1 )\n",
    "\n",
    "\n",
    "#these lists  are part of the checkpointing implementation\n",
    "varlist = [materialVariable, yieldingCheck, ageVariable]\n",
    "varnames = ['materialVariable', 'yieldingCheck', 'ageVariable']"
   ]
  },
  {
   "cell_type": "code",
   "execution_count": 55,
   "metadata": {
    "collapsed": false
   },
   "outputs": [],
   "source": [
    "mantleIndex = 0\n",
    "crustIndex = 1\n",
    "harzIndex = 2\n",
    "airIndex = 3\n",
    "\n",
    "\n",
    "\n",
    "if checkpointLoad:\n",
    "    checkpointLoadDir = natsort.natsort(checkdirs)[-1]\n",
    "    temperatureField.load(os.path.join(checkpointLoadDir, \"temperatureField\" + \".hdf5\"))\n",
    "    pressureField.load(os.path.join(checkpointLoadDir, \"pressureField\" + \".hdf5\"))\n",
    "    velocityField.load(os.path.join(checkpointLoadDir, \"velocityField\" + \".hdf5\"))\n",
    "    gSwarm.load(os.path.join(checkpointLoadDir, \"swarm\" + \".h5\"))\n",
    "    for ix in range(len(varlist)):\n",
    "        varb = varlist[ix]\n",
    "        varb.load(os.path.join(checkpointLoadDir,varnames[ix] + \".h5\"))\n",
    "\n",
    "else:\n",
    "\n",
    "    # Layouts are used to populate the swarm across the whole domain\n",
    "    layout = uw.swarm.layouts.PerCellRandomLayout(swarm=gSwarm, particlesPerCell=md.ppc)\n",
    "    gSwarm.populate_using_layout( layout=layout ) # Now use it to populate.\n",
    "    # Swarm variables\n",
    "    materialVariable.data[:] = mantleIndex\n",
    "    #tracerVariable.data[:] = 1\n",
    "    yieldingCheck.data[:] = 0\n",
    "    ageVariable.data[:] = -1\n",
    "\n",
    "    #Set initial air and crust materials (allow the graph to take care of lithsophere)\n",
    "    #########\n",
    "    #This initial material setup will be model dependent\n",
    "    #########\n",
    "    for particleID in range(gSwarm.particleCoordinates.data.shape[0]):\n",
    "        if (1. - gSwarm.particleCoordinates.data[particleID][1]) < ndp.MANTLETOCRUST:\n",
    "                 materialVariable.data[particleID] = crustIndex"
   ]
  },
  {
   "cell_type": "markdown",
   "metadata": {
    "collapsed": false
   },
   "source": [
    "###########\n",
    "#This block sets up a checkboard layout of passive tracers\n",
    "###########\n",
    "\n",
    "square_size = 0.1\n",
    "xlist = np.arange(mesh.minCoord[0] + square_size/2., mesh.maxCoord[0] + square_size/2., square_size)\n",
    "xlist = zip(xlist[:], xlist[1:])[::2]\n",
    "ylist = np.arange(mesh.minCoord[1] + square_size/2., mesh.maxCoord[1] + square_size/2., square_size)\n",
    "ylist = zip(ylist[:], ylist[1:])[::2]\n",
    "xops = []\n",
    "for vals in xlist:\n",
    "    xops.append( (operator.and_(   operator.gt(coordinate[0],vals[0]),   operator.lt(coordinate[0],vals[1])  ),0.) )\n",
    "xops.append((True,1.))\n",
    "\n",
    "testfunc = fn.branching.conditional(xops) \n",
    "\n",
    "yops = []\n",
    "for vals in ylist:\n",
    "    yops.append( (operator.and_(   operator.gt(coordinate[1],vals[0]),   operator.lt(coordinate[1],vals[1])  ),0.) )\n",
    "yops.append((True,testfunc))\n",
    "\n",
    "testfunc2 = fn.branching.conditional(yops) \n",
    "tracerVariable.data[:] = testfunc.evaluate(gSwarm)\n",
    "tracerVariable.data[:] = testfunc2.evaluate(gSwarm)"
   ]
  },
  {
   "cell_type": "code",
   "execution_count": null,
   "metadata": {
    "collapsed": false
   },
   "outputs": [],
   "source": []
  },
  {
   "cell_type": "code",
   "execution_count": 56,
   "metadata": {
    "collapsed": false
   },
   "outputs": [],
   "source": [
    "##############\n",
    "#Set the initial particle age for particles above the critical depth; \n",
    "#only material older than crustageCond will be transformed to crust / harzburgite\n",
    "##############\n",
    "\n",
    "ageVariable.data[:] = 0. #start with all zero\n",
    "ageVariable.data[:] = ageFn.evaluate(gSwarm)/sf.SR\n",
    "crustageCond = 2e6*(3600.*365.*24.)/sf.SR #set inital age above critical depth. (x...Ma)\n",
    "\n",
    "\n",
    "\n",
    "ageConditions = [ (depthFn < ndp.AGETRACKDEPTH, ageVariable),  #In the main loop we add ageVariable + dt here\n",
    "                  (True, 0.) ]\n",
    "                 \n",
    "#apply conditional \n",
    "ageVariable.data[:] = fn.branching.conditional( ageConditions ).evaluate(gSwarm)\n",
    "\n",
    "ageDT = 0.#this is used in the main loop for short term time increments"
   ]
  },
  {
   "cell_type": "code",
   "execution_count": 57,
   "metadata": {
    "collapsed": false
   },
   "outputs": [],
   "source": [
    "#fig= glucifer.Figure()\n",
    "#fig.append( glucifer.objects.Points(gSwarm,ageVariable))\n",
    "#fig.append( glucifer.objects.Points(gSwarm, viscosityMapFn, logScale=True, valueRange =[1e-3,1e5]))\n",
    "\n",
    "#fig.append( glucifer.objects.Surface(mesh, strainRate_2ndInvariant, logScale=True, valueRange =[1e-3,1e5] ))\n",
    "#fig.append( glucifer.objects.VectorArrows(mesh,velocityField, scaling=0.002))\n",
    "#fig.append( glucifer.objects.Surface(mesh,densityMapFn))\n",
    "#fig.append( glucifer.objects.Surface(mesh,raylieghFn))\n",
    "\n",
    "#fig.show()"
   ]
  },
  {
   "cell_type": "code",
   "execution_count": 58,
   "metadata": {
    "collapsed": false
   },
   "outputs": [],
   "source": [
    "##############\n",
    "#Here we set up a directed graph object that we we use to control the transformation from one material type to another\n",
    "##############\n",
    "\n",
    "#All depth conditions are given as (km/D) where D is the length scale,\n",
    "#note that 'model depths' are used, e.g. 1-z, where z is the vertical Underworld coordinate\n",
    "#All temp conditions are in dimensionless temp. [0. - 1.]\n",
    "\n",
    "#Need a list of all material indexes (safer in parallel)\n",
    "material_list = [0,1,2,3]\n",
    "\n",
    "if not checkpointLoad:\n",
    "    materialVariable.data[:] = 0 #Initialize to zero \n",
    "\n",
    "#Setup the graph object\n",
    "DG = material_graph.MatGraph()\n",
    "\n",
    "#Important: First thing to do is to add all the material types to the graph (i.e add nodes)\n",
    "DG.add_nodes_from(material_list)\n",
    "\n",
    "#Now set the conditions for transformations\n",
    "\n",
    "hs = 2e3/dp.LS  #add some hysteresis to the depths of transition\n",
    "\n",
    "#... to mantle\n",
    "DG.add_transition((crustIndex,mantleIndex), depthFn, operator.gt, ndp.CRUSTTOMANTLE + hs)\n",
    "DG.add_transition((harzIndex,mantleIndex), depthFn, operator.gt, ndp.CRUSTTOMANTLE + hs)\n",
    "DG.add_transition((airIndex,mantleIndex), depthFn, operator.gt, ndp.TOPOHEIGHT + hs)\n",
    "\n",
    "#... to crust\n",
    "DG.add_transition((mantleIndex,crustIndex), depthFn, operator.lt, ndp.MANTLETOCRUST)\n",
    "DG.add_transition((mantleIndex,crustIndex), xFn, operator.lt, 0. + 7.*ndp.MANTLETOCRUST) #No crust on the upper plate\n",
    "DG.add_transition((mantleIndex,crustIndex), ageVariable, operator.gt, crustageCond)\n",
    "\n",
    "\n",
    "DG.add_transition((harzIndex,crustIndex), depthFn, operator.lt, ndp.MANTLETOCRUST)\n",
    "DG.add_transition((harzIndex,crustIndex), xFn, operator.lt, 0. + 7.*ndp.MANTLETOCRUST) #This one sets no crust on the upper plate\n",
    "DG.add_transition((harzIndex,crustIndex), ageVariable, operator.gt, crustageCond)\n",
    "\n",
    "#... to Harzbugite\n",
    "DG.add_transition((mantleIndex,harzIndex), depthFn, operator.lt, ndp.HARZBURGDEPTH)\n",
    "DG.add_transition((mantleIndex,harzIndex), depthFn, operator.gt, ndp.MANTLETOCRUST)\n",
    "DG.add_transition((mantleIndex,harzIndex), ageVariable, operator.gt, crustageCond) #Note we can mix functions and swarm variabls\n",
    "\n",
    "#... to air\n",
    "DG.add_transition((mantleIndex,airIndex), depthFn, operator.lt,0. - ndp.TOPOHEIGHT)\n",
    "DG.add_transition((crustIndex,airIndex), depthFn, operator.lt, 0. - ndp.TOPOHEIGHT)\n"
   ]
  },
  {
   "cell_type": "code",
   "execution_count": 59,
   "metadata": {
    "collapsed": false
   },
   "outputs": [],
   "source": [
    "#7.*MANTLETOCRUST"
   ]
  },
  {
   "cell_type": "code",
   "execution_count": 60,
   "metadata": {
    "collapsed": false
   },
   "outputs": [
    {
     "data": {
      "text/plain": [
       "[0, 1, 2, 3]"
      ]
     },
     "execution_count": 60,
     "metadata": {},
     "output_type": "execute_result"
    }
   ],
   "source": [
    "DG.nodes()"
   ]
  },
  {
   "cell_type": "code",
   "execution_count": 61,
   "metadata": {
    "collapsed": false
   },
   "outputs": [
    {
     "data": {
      "text/plain": [
       "(0.27586206896551724, 0.013793103448275862, 0.019310344827586205)"
      ]
     },
     "execution_count": 61,
     "metadata": {},
     "output_type": "execute_result"
    }
   ],
   "source": [
    "ndp.CRUSTTOMANTLE, ndp.HARZBURGDEPTH, 0. + 7.*ndp.MANTLETOCRUST"
   ]
  },
  {
   "cell_type": "code",
   "execution_count": 62,
   "metadata": {
    "collapsed": false
   },
   "outputs": [],
   "source": [
    "#gSwarm.particleCoordinates.data[particleID][1]"
   ]
  },
  {
   "cell_type": "code",
   "execution_count": 63,
   "metadata": {
    "collapsed": false
   },
   "outputs": [],
   "source": [
    "##############\n",
    "#For the slab_IC, we'll also add a crustal weak zone following the dipping perturbation\n",
    "##############\n",
    "\n",
    "if checkpointLoad != True:\n",
    "    if not md.symmetricIcs:\n",
    "        for particleID in range(gSwarm.particleCoordinates.data.shape[0]):\n",
    "            if (\n",
    "                Oc2.evaluate(list(gSwarm.particleCoordinates.data[particleID])) and\n",
    "                Tri.evaluate(list(gSwarm.particleCoordinates.data[particleID])) and\n",
    "                gSwarm.particleCoordinates.data[particleID][1] > (1. - ndp.maxDepth) and\n",
    "                Cc.evaluate(list(gSwarm.particleCoordinates.data[particleID])) == False\n",
    "                \n",
    "                ):\n",
    "                materialVariable.data[particleID] = crustIndex\n",
    "                \n",
    "            elif (\n",
    "                Oc.evaluate(list(gSwarm.particleCoordinates.data[particleID])) and\n",
    "                Tri.evaluate(list(gSwarm.particleCoordinates.data[particleID])) and\n",
    "                gSwarm.particleCoordinates.data[particleID][1] > (1. - ndp.maxDepth) and\n",
    "                Hc.evaluate(list(gSwarm.particleCoordinates.data[particleID])) == False\n",
    "                \n",
    "                ):\n",
    "                materialVariable.data[particleID] = harzIndex"
   ]
  },
  {
   "cell_type": "code",
   "execution_count": 64,
   "metadata": {
    "collapsed": false
   },
   "outputs": [],
   "source": [
    "##############\n",
    "#This is how we use the material graph object to test / apply material transformations\n",
    "##############\n",
    "DG.build_condition_list(materialVariable)\n",
    "\n",
    "for i in range(2): #Need to go through a number of times\n",
    "    materialVariable.data[:] = fn.branching.conditional(DG.condition_list).evaluate(gSwarm)"
   ]
  },
  {
   "cell_type": "code",
   "execution_count": 65,
   "metadata": {
    "collapsed": false
   },
   "outputs": [],
   "source": [
    "#maxDepth"
   ]
  },
  {
   "cell_type": "code",
   "execution_count": 66,
   "metadata": {
    "collapsed": false
   },
   "outputs": [
    {
     "data": {
      "text/html": [
       "<img src='data:image/png;base64,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'>"
      ],
      "text/plain": [
       "<IPython.core.display.HTML object>"
      ]
     },
     "metadata": {},
     "output_type": "display_data"
    },
    {
     "data": {
      "text/plain": [
       "'test.gldb'"
      ]
     },
     "execution_count": 66,
     "metadata": {},
     "output_type": "execute_result"
    }
   ],
   "source": [
    "fig= glucifer.Figure()\n",
    "fig.append( glucifer.objects.Points(gSwarm,materialVariable))\n",
    "#fig.append( glucifer.objects.Surface(mesh, corrTempFn))\n",
    "\n",
    "\n",
    "\n",
    "fig.show()\n",
    "fig.save_database('test.gldb')"
   ]
  },
  {
   "cell_type": "markdown",
   "metadata": {
    "collapsed": false
   },
   "source": [
    "## phase and compositional buoyancy"
   ]
  },
  {
   "cell_type": "code",
   "execution_count": 67,
   "metadata": {
    "collapsed": false
   },
   "outputs": [],
   "source": [
    "##############\n",
    "#Set up phase buoyancy contributions\n",
    "#the phase function approach of Yuen and Christenson is implemented in the Slippy2 phase_function class \n",
    "##############\n",
    "\n",
    "\n",
    "#olivine\n",
    "olivinePhase = phase_function.component_phases(name = 'ol', \n",
    "                        depths=[410e3,660e3], #depths of phase transitions along adiabat\n",
    "                        temps = [1600., 1900.], #temperatures of phase transitions along adiabat\n",
    "                        widths = [20e3, 20e3], #width if transition\n",
    "                        claps=[2.e6, -2.5e6],  #Clapeyron slope of trnasition\n",
    "                        densities = [180., 400.]) #density change of phase transition\n",
    "\n",
    "olivinePhase.build_nd_dict(dp.LS, dp.rho, dp.g, dp.deltaTa)\n",
    "\n",
    "\n",
    "rp = olivinePhase.nd_reduced_pressure(depthFn, \n",
    "                                   temperatureField,\n",
    "                                   olivinePhase.ndp['depths'][0],\n",
    "                                   olivinePhase.ndp['claps'][0],\n",
    "                                   olivinePhase.ndp['temps'][0])\n",
    "\n",
    "#ph_410 = olivinePhase.nd_phase(rp, test.ndp['widths'][0])\n",
    "#pf_sum = test.phase_function_sum(temperatureField, depthFn)\n",
    "\n",
    "olivine_phase_buoyancy = olivinePhase.buoyancy_sum(temperatureField, depthFn, dp.g, dp.LS, dp.k, dp.eta0)\n",
    "\n",
    "#garnet\n",
    "garnetPhase = phase_function.component_phases(name = 'grt', \n",
    "                        depths=[60e3,400e3, 720e3],\n",
    "                        temps = [1000., 1600., 1900.], \n",
    "                        widths = [20e3, 20e3, 20e3], \n",
    "                        claps=[0.e6, 1.e6, 1.e6], \n",
    "                        densities = [350., 150., 400.])\n",
    "\n",
    "garnetPhase.build_nd_dict(dp.LS, dp.rho, dp.g, dp.deltaTa)\n",
    "\n",
    "\n",
    "rp = garnetPhase.nd_reduced_pressure(depthFn, \n",
    "                                   temperatureField,\n",
    "                                   garnetPhase.ndp['depths'][0],\n",
    "                                   garnetPhase.ndp['claps'][0],\n",
    "                                   garnetPhase.ndp['temps'][0])\n",
    "\n",
    "#ph_410 = olivinePhase.nd_phase(rp, test.ndp['widths'][0])\n",
    "#pf_sum = test.phase_function_sum(temperatureField, depthFn)\n",
    "\n",
    "garnet_phase_buoyancy = garnetPhase.buoyancy_sum(temperatureField, depthFn, dp.g, dp.LS, dp.k, dp.eta0)"
   ]
  },
  {
   "cell_type": "code",
   "execution_count": 68,
   "metadata": {
    "collapsed": false
   },
   "outputs": [],
   "source": [
    "##############\n",
    "#Set up compositional buoyancy contributions\n",
    "##############\n",
    "\n",
    "bouyancy_factor = (dp.g*dp.LS**3)/(dp.eta0*dp.k)\n",
    "\n",
    "basalt_comp_buoyancy  = (dp.rho - 2940.)*bouyancy_factor\n",
    "harz_comp_buoyancy = (dp.rho - 3235.)*bouyancy_factor\n",
    "pyrolite_comp_buoyancy = (dp.rho - 3300.)*bouyancy_factor\n",
    "\n",
    "#print(basalt_comp_buoyancy, harz_comp_buoyancy, pyrolite_comp_buoyancy)\n",
    "\n",
    "\n",
    "#this function accounts for the decrease in expansivity, and acts to reduce the rayleigh number with depth\n",
    "alphaRatio = 1.2/3\n",
    "taFn = 1. - (depthFn)*(1. - alphaRatio) \n",
    "\n",
    "\n",
    "if not md.compBuoyancy:\n",
    "    pyrolitebuoyancyFn =  (ndp.RA*temperatureField*taFn)\n",
    "    harzbuoyancyFn =      (ndp.RA*temperatureField*taFn) \n",
    "    basaltbuoyancyFn =    (ndp.RA*temperatureField*taFn)\n",
    "\n",
    "else : \n",
    "    pyrolitebuoyancyFn =  (ndp.RA*temperatureField*taFn) -\\\n",
    "                          (0.6*olivine_phase_buoyancy + 0.4*garnet_phase_buoyancy) +\\\n",
    "                           pyrolite_comp_buoyancy\n",
    "    harzbuoyancyFn =      (ndp.RA*temperatureField*taFn) -\\\n",
    "                          (0.8*olivine_phase_buoyancy + 0.2*garnet_phase_buoyancy) +\\\n",
    "                           harz_comp_buoyancy\n",
    "    basaltbuoyancyFn =    (ndp.RA*temperatureField*taFn) -\\\n",
    "                          (1.*garnet_phase_buoyancy) +\\\n",
    "                           basalt_comp_buoyancy"
   ]
  },
  {
   "cell_type": "markdown",
   "metadata": {
    "collapsed": false
   },
   "source": [
    "## Faults / interfaces"
   ]
  },
  {
   "cell_type": "code",
   "execution_count": 69,
   "metadata": {
    "collapsed": false
   },
   "outputs": [],
   "source": [
    "import marker2D"
   ]
  },
  {
   "cell_type": "code",
   "execution_count": 70,
   "metadata": {
    "collapsed": true
   },
   "outputs": [],
   "source": [
    "def update_swarm_from_faults(faults, proximityVariable, normalVectorVariable, signedDistanceVariable):\n",
    "    \"\"\"\n",
    "    Compute fault attributes from the marker-line objects in the 'faults' list.\n",
    "    Specifically:\n",
    "    \n",
    "      - proximityVariable carries information about which fault each swarm particle is close to (0 means none)\n",
    "      - normalVectorVariable maps the orientation of the fault to nearby swarm particles\n",
    "      - signedDistanceVariable carries the distance (positive means 'inside')  \n",
    "      \n",
    "      Unchecked error: if these variables are from different swarms \n",
    "      \n",
    "    \"\"\"\n",
    "    \n",
    "    if type(faults) == list:\n",
    "    \n",
    "        for fault_seg in faults:\n",
    "            swarm = proximityVariable.swarm\n",
    "\n",
    "            f, nz = fault_seg.compute_marker_proximity(swarm.particleCoordinates.data)    \n",
    "            proximityVariable.data[nz] = f[nz]\n",
    "\n",
    "            dv, nzv = fault_seg.compute_normals(swarm.particleCoordinates.data)\n",
    "            normalVectorVariable.data[nzv] = dv[nzv]\n",
    "\n",
    "            sd, dnz = fault_seg.compute_signed_distance(swarm.particleCoordinates.data)\n",
    "            signedDistanceVariable.data[dnz] = sd[dnz]\n",
    "    else:\n",
    "        fault_seg = faults\n",
    "        swarm = proximityVariable.swarm\n",
    "\n",
    "        f, nz = fault_seg.compute_marker_proximity(swarm.particleCoordinates.data)    \n",
    "        proximityVariable.data[nz] = f[nz]\n",
    "\n",
    "        dv, nzv = fault_seg.compute_normals(swarm.particleCoordinates.data)\n",
    "        normalVectorVariable.data[nzv] = dv[nzv]\n",
    "\n",
    "        sd, dnz = fault_seg.compute_signed_distance(swarm.particleCoordinates.data)\n",
    "        signedDistanceVariable.data[dnz] = sd[dnz]\n",
    "    \n",
    "    return\n",
    "\n",
    "\n",
    "def update_swarm_from_line(fault, signedDistanceVariable):\n",
    "    \"\"\"\n",
    "    Compute fault attributes from the marker-line objects in the 'faults' list.\n",
    "    Specifically:\n",
    "    \n",
    "      - proximityVariable carries information about which fault each swarm particle is close to (0 means none)\n",
    "      - normalVectorVariable maps the orientation of the fault to nearby swarm particles\n",
    "      - signedDistanceVariable carries the distance (positive means 'inside')  \n",
    "      \n",
    "      Unchecked error: if these variables are from different swarms \n",
    "      \n",
    "    \"\"\"\n",
    "        \n",
    "    sd, dnz = fault.compute_signed_distance(gSwarm.particleCoordinates.data)\n",
    "    signedDistanceVariable.data[dnz] = sd[dnz]\n",
    "    \n",
    "    return\n",
    "\n",
    "\n",
    "def mask_materials(fault, material, materialVariable, proximityVariable, normalVectorVariable, signedDistanceVariable):\n",
    "\n",
    "    \"\"\"\n",
    "    set the key fault-related swarm variabels to zero, based on material typr\n",
    "    \"\"\"\n",
    "    \n",
    "    fptsMask1 = (materialVariable.data[:,0] != material)\n",
    "    fptsMask2 = (proximityVariable.data[:,0] == fault.ID )\n",
    "\n",
    "    fptsMaskOut = fptsMask1 & fptsMask2\n",
    "\n",
    "    normalVectorVariable.data[fptsMaskOut,:] = [0.0,0.0]\n",
    "    proximityVariable.data[fptsMaskOut] = 0\n",
    "    signedDistanceVariable.data[fptsMaskOut] = 0.0\n",
    "    \n",
    "    \n",
    "def fault_strainrate_fns(fault_list, velocityField, faultNormalVariable, proximityproVariable):\n",
    "\n",
    "    ## This is a quick / short cut way to find the resolved stress components.\n",
    "    \n",
    "    strainRateFn = fn.tensor.symmetric( velocityField.fn_gradient )\n",
    "\n",
    "    \n",
    "    _edotn_SFn = (        directorVector[0]**2 * strainRateFn[0]  + \n",
    "                    2.0 * directorVector[1]    * strainRateFn[2] * directorVector[0] + \n",
    "                          directorVector[1]**2 * strainRateFn[1]                          \n",
    "                ) \n",
    "\n",
    "    # any non-zero proximity requires the computation of the above\n",
    "    \n",
    "    _edotn_SFn_Map    = { 0: 0.0 }\n",
    "    for f in fault_list:\n",
    "        _edotn_SFn_Map[f.ID] =  _edotn_SFn\n",
    "\n",
    "\n",
    "\n",
    "   \n",
    "    _edots_SFn = (  directorVector[0] *  directorVector[1] *(strainRateFn[1] - strainRateFn[0]) +\n",
    "                    strainRateFn[2] * (directorVector[0]**2 - directorVector[1]**2)\n",
    "                 )\n",
    "    \n",
    "  \n",
    "    _edots_SFn_Map = { 0: 1.0e-15 }\n",
    "    \n",
    "    for f in fault_list:\n",
    "        _edots_SFn_Map[f.ID] =  _edots_SFn\n",
    "        \n",
    "        \n",
    "    #Finally, map the resolved strain rate to the proximity variable, \n",
    "    #which also makes resolved strain rate zero whereever proximity variable is zero \n",
    "\n",
    "\n",
    "    edotn_SFn =     fn.branching.map( fn_key = proximityVariable, \n",
    "                                      mapping = _edotn_SFn_Map)\n",
    "\n",
    "\n",
    "    edots_SFn =     fn.branching.map( fn_key = proximityVariable, \n",
    "                                      mapping = _edots_SFn_Map )\n",
    "\n",
    "    \n",
    "    return edotn_SFn, edots_SFn\n",
    "\n",
    "\n",
    "## Time update\n",
    "\n",
    "def faults_advance_in_time(faults,proximityVariable, directorVector, signedDistanceVariable, materialVariable, mmask):\n",
    "    for f in faults:\n",
    "        f.advection(dt)\n",
    "\n",
    "\n",
    "    update_swarm_from_faults(faults, proximityVariable, directorVector, signedDistanceVariable)\n",
    "    mask_materials(materialV, materialVariable, proximityVariable, directorVector, signedDistanceVariable)"
   ]
  },
  {
   "cell_type": "code",
   "execution_count": 71,
   "metadata": {
    "collapsed": true
   },
   "outputs": [],
   "source": [
    "###########\n",
    "#Initial Coordinates for inerfaces and faults\n",
    "###########\n",
    "\n",
    "#subduction fault\n",
    "introPoint = ndp.subzone - abs(ndp.subzone - ndp.lRidge)/2. #half way between ridge and Sz\n",
    "faultthickness = ndp.MANTLETOCRUST/2. #initiale fault at half-depth of crust\n",
    "nfault = 200\n",
    "faultCoords =np.zeros((nfault, 2))\n",
    "\n",
    "reducedRocM = ndp.roc  - faultthickness\n",
    "xlimslab = reducedRocM*math.cos(math.pi*(90. - dp.theta)/180)\n",
    "faultCoords[:, 0] = np.linspace(introPoint, ndp.subzone + xlimslab, nfault) #note SZ location is hardcoded here \n",
    "for index, xval in np.ndenumerate(faultCoords[:,0]):\n",
    "    #print index, xval\n",
    "    #swarmCoords[index[0], 1] = 1. - isodepthFn.evaluate((xval, 0.)) #This bit for the plate \n",
    "    if  xval < ndp.subzone:\n",
    "        faultCoords[index[0], 1] = MAXY - faultthickness #This bit for the plate \n",
    "        \n",
    "    else:\n",
    "        faultCoords[index[0], 1] = (MAXY - (faultthickness) - (reducedRocM - ( math.sqrt((reducedRocM**2 - (xval-ndp.subzone)**2)))))\n",
    "        \n",
    "    \n",
    "faultCoords = faultCoords[faultCoords[:,1] > (MAXY - ndp.maxDepth)] #kill any deeper than cutoff\n",
    "\n",
    "\n",
    "#surface tracer interface:\n",
    "surfaceCoords =np.ones((nfault, 2))*1.\n",
    "surfaceCoords[:,0] = np.linspace(MINX, MAXX, nfault)\n",
    "\n",
    "\n",
    "\n",
    "#interface that tracks the shape and position of the slab\n",
    "midthickness = 20e3/dp.LS #initialize tracking swarm at ~ mid lithosphere depth\n",
    "\n",
    "if dp.sense == 'Right':\n",
    "    introPoint = ndp.lRidge + midthickness #\n",
    "else:\n",
    "    introPoint = ndp.rRidge - midthickness #\n",
    "nfault = 200\n",
    "slabCoords =np.zeros((nfault, 2))\n",
    "\n",
    "reducedRocM = ndp.roc  - midthickness\n",
    "xlimslab = reducedRocM*math.cos(math.pi*(90. - dp.theta)/180)\n",
    "slabCoords[:, 0] = np.linspace(introPoint, ndp.subzone + xlimslab, nfault) #note SZ location is hardcoded here \n",
    "for index, xval in np.ndenumerate(slabCoords[:,0]):\n",
    "    #print index, xval\n",
    "    #swarmCoords[index[0], 1] = 1. - isodepthFn.evaluate((xval, 0.)) #This bit for the plate \n",
    "    if  xval < ndp.subzone:\n",
    "        slabCoords[index[0], 1] = MAXY - midthickness #This bit for the plate \n",
    "        \n",
    "    else:\n",
    "        slabCoords[index[0], 1] = (MAXY - (midthickness) - (reducedRocM - ( math.sqrt((reducedRocM**2 - (xval-ndp.subzone)**2)))))\n",
    "        \n",
    "slabCoords = slabCoords[slabCoords[:,1] > (MAXY - ndp.maxDepth)] #kill any deeper than cutoff\n"
   ]
  },
  {
   "cell_type": "code",
   "execution_count": 72,
   "metadata": {
    "collapsed": true
   },
   "outputs": [],
   "source": [
    "#Initiaze the swarms in a \n",
    "fault_seg  = marker2D.markerLine2D(mesh, velocityField, [], [], faultthickness, 0.0, 0.0, crustIndex)\n",
    "surface_seg  = marker2D.markerLine2D(mesh, velocityField, [], [], ndp.StALS, 0.0, 0.0, airIndex)\n",
    "slab_seg  = marker2D.markerLine2D(mesh, velocityField, [], [], 1e9/dp.LS, 0.0, 0.0, crustIndex)   #Note very large fault thickness \n",
    "\n",
    "\n",
    "#These lists are used to checkpoint the marker lines, similar to the swarm variables.        \n",
    "interfaces = []\n",
    "interfaces.append(fault_seg)\n",
    "interfaces.append(surface_seg)\n",
    "interfaces.append(slab_seg)\n",
    "interfacenames = ['fault_seg', 'surface_seg', 'slab_seg']\n",
    "\n",
    "#If restarting, load the swarms from file Interfaces are just swarms, so should be fine to rely on parallel h5 machinery here\n",
    "if checkpointLoad:\n",
    "    for ix in range(len(interfaces)):\n",
    "        tempname = interfacenames[ix]\n",
    "        interfaces[ix].swarm.load(os.path.join(checkpointLoadDir,  tempname + \".h5\"))\n",
    "\n",
    "#otherwise add the point from at the initial locations\n",
    "else:\n",
    "    fault_seg.add_points(faultCoords[:, 0], faultCoords[:, 1])\n",
    "    surface_seg.add_points(surfaceCoords[:, 0], surfaceCoords[:, 1])\n",
    "    slab_seg.add_points(slabCoords[:, 0], slabCoords[:, 1]) "
   ]
  },
  {
   "cell_type": "code",
   "execution_count": 73,
   "metadata": {
    "collapsed": true
   },
   "outputs": [],
   "source": [
    "#Add the necessary swarm variables\n",
    "\n",
    "proximityVariable      = gSwarm.add_variable( dataType=\"int\", count=1 )\n",
    "signedDistanceVariable = gSwarm.add_variable( dataType=\"float\", count=1 )\n",
    "directorVector   = gSwarm.add_variable( dataType=\"double\", count=2)\n",
    "\n",
    "directorVector.data[:,:] = 0.0\n",
    "proximityVariable.data[:] = 0\n",
    "signedDistanceVariable.data[:] = 0.0\n",
    "\n",
    "\n",
    "\n",
    "# Call the Fault helper functions to initialize this info on the main material swarm\n",
    "    \n",
    "update_swarm_from_faults(surface_seg, proximityVariable, directorVector, signedDistanceVariable)\n",
    "mask_materials(surface_seg, airIndex, materialVariable, proximityVariable, directorVector, signedDistanceVariable)\n",
    "\n",
    "\n",
    "update_swarm_from_faults(fault_seg, proximityVariable, directorVector, signedDistanceVariable)\n",
    "mask_materials(fault_seg, crustIndex, materialVariable, proximityVariable, directorVector, signedDistanceVariable)\n",
    "\n",
    "#Also switch off proximity beneath ndp.CRUSTVISCUTOFF depth\n",
    "proximityVariable.data[gSwarm.particleCoordinates.data[:,1]  < (1. - ndp.CRUSTVISCUTOFF)] = 0. \n",
    "\n",
    "# These should be general enough not to need updating when the faults move etc..\n",
    "#ie they should update as the fields/functions/swarm variables they are built on update\n",
    "edotn_SFn, edots_SFn = fault_strainrate_fns(interfaces, velocityField, directorVector, proximityVariable)"
   ]
  },
  {
   "cell_type": "code",
   "execution_count": 74,
   "metadata": {
    "collapsed": true
   },
   "outputs": [],
   "source": [
    "#Have to add these new swarm variable to our variable lists if we want them to get checkpointed\n",
    "\n",
    "varlist.append(proximityVariable )\n",
    "varlist.append(signedDistanceVariable)\n",
    "varlist.append(directorVector)\n",
    "\n",
    "varnames.append('proximityVariable')\n",
    "varnames.append('signedDistanceVariable')\n",
    "varnames.append('directorVector')\n",
    "\n",
    "\n",
    "if checkpointLoad:                              #Reload all swarm variables \n",
    "    for ix in range(len(varlist)):\n",
    "        varb = varlist[ix]\n",
    "        varb.load(os.path.join(checkpointLoadDir,varnames[ix] + \".h5\"))\n",
    "        \n",
    " "
   ]
  },
  {
   "cell_type": "code",
   "execution_count": null,
   "metadata": {
    "collapsed": true
   },
   "outputs": [],
   "source": []
  },
  {
   "cell_type": "code",
   "execution_count": null,
   "metadata": {
    "collapsed": true
   },
   "outputs": [],
   "source": []
  },
  {
   "cell_type": "code",
   "execution_count": null,
   "metadata": {
    "collapsed": true
   },
   "outputs": [],
   "source": []
  },
  {
   "cell_type": "code",
   "execution_count": null,
   "metadata": {
    "collapsed": true
   },
   "outputs": [],
   "source": []
  },
  {
   "cell_type": "markdown",
   "metadata": {},
   "source": [
    "Rheology\n",
    "-----\n",
    "\n"
   ]
  },
  {
   "cell_type": "code",
   "execution_count": 75,
   "metadata": {
    "collapsed": false
   },
   "outputs": [],
   "source": [
    "##############\n",
    "#Set up any functions required by the rheology\n",
    "##############\n",
    "strainRate_2ndInvariant = fn.tensor.second_invariant( \n",
    "                            fn.tensor.symmetric( \n",
    "                            velocityField.fn_gradient ))\n",
    "\n",
    "def safe_visc(func, viscmin=ndp.eta_min, viscmax=ndp.eta_max):\n",
    "    return fn.misc.max(viscmin, fn.misc.min(viscmax, func))"
   ]
  },
  {
   "cell_type": "code",
   "execution_count": 76,
   "metadata": {
    "collapsed": true
   },
   "outputs": [],
   "source": [
    "#strainRate_2ndInvariant = fn.misc.constant(ndp.SR) #dummy fucntion to check which mechanisms are at active are reference strain rate"
   ]
  },
  {
   "cell_type": "code",
   "execution_count": 77,
   "metadata": {
    "collapsed": false
   },
   "outputs": [],
   "source": [
    "##############\n",
    "#Get dimensional viscosity values at reference values of temp, pressure, and strain rate\n",
    "##############\n",
    "dp.rPressure  = dp.rho*dp.g*dp.rDepth\n",
    "rDf = (1./dp.Adf)*np.exp( ((dp.Edf + dp.Vdf*dp.rPressure))/((dp.R*dp.rTemp)))\n",
    "rLm = (1./dp.Alm)*np.exp( ((dp.Elm + dp.Vlm*dp.rPressure))/((dp.R*dp.rTemp)))\n",
    "\n",
    "rDs = (1./dp.Ads**(1./ndp.n))*(dp.SR**((1.-ndp.n)/ndp.n))*np.exp( ((dp.Eds + dp.Vds*dp.rPressure))/((ndp.n*dp.R*dp.rTemp)))\n",
    "rPr = (1./dp.Apr**(1./ndp.np))*(dp.SR**((1.-ndp.np)/ndp.np))*np.exp( ((dp.Epr + dp.Vpr*dp.rPressure))/((ndp.np*dp.R*dp.rTemp)))\n",
    "\n",
    "dsfac = rDs/dp.eta0\n",
    "dffac = rDf/dp.eta0\n",
    "prfac = rPr/dp.eta0\n",
    "lmfac = rLm/dp.eta0"
   ]
  },
  {
   "cell_type": "code",
   "execution_count": 78,
   "metadata": {
    "collapsed": false
   },
   "outputs": [],
   "source": [
    "#print(dsfac, dffac, prfac, lmfac)"
   ]
  },
  {
   "cell_type": "code",
   "execution_count": 79,
   "metadata": {
    "collapsed": false
   },
   "outputs": [],
   "source": [
    "#These guys are legacy - to be fixed\n",
    "\n",
    "corrDepthFn = depthFn\n",
    "correctrDepth = ndp.rDepth\n",
    "corrTempFn = temperatureField\n",
    "\n",
    "    \n"
   ]
  },
  {
   "cell_type": "code",
   "execution_count": null,
   "metadata": {
    "collapsed": false
   },
   "outputs": [],
   "source": []
  },
  {
   "cell_type": "code",
   "execution_count": null,
   "metadata": {
    "collapsed": false
   },
   "outputs": [],
   "source": []
  },
  {
   "cell_type": "code",
   "execution_count": 80,
   "metadata": {
    "collapsed": false
   },
   "outputs": [],
   "source": [
    "############\n",
    "#Rheology: create UW2 functions for all viscous mechanisms\n",
    "#############\n",
    "\n",
    "omega = fn.misc.constant(1.) #this function can hold any arbitary viscosity modifications \n",
    "\n",
    "\n",
    "##Diffusion Creep\n",
    "diffusion = dffac*fn.math.exp( ((ndp.Edf + (corrDepthFn*ndp.Wdf))/((corrTempFn+ ndp.TS))) - \n",
    "              ((ndp.Edf + (correctrDepth*ndp.Wdf))/((ndp.rTemp + ndp.TS)))  ) \n",
    "\n",
    "\n",
    "##Diffusion Creep\n",
    "lmdiffusion = lmfac*fn.math.exp( ((ndp.Elm + (corrDepthFn*ndp.Wlm))/((corrTempFn+ ndp.TS))) - \n",
    "              ((ndp.Elm + (correctrDepth*ndp.Wlm))/((ndp.rTemp + ndp.TS)))  ) \n",
    "\n",
    "\n",
    "linearVisc = safe_visc(diffusion)\n",
    "\n",
    "##Dislocation Creep\n",
    "nl_correction = (strainRate_2ndInvariant/ndp.SR)**((1.-ndp.n)/(ndp.n))\n",
    "dislocation = dsfac*(nl_correction)*fn.math.exp( ((ndp.Eds + (corrDepthFn*ndp.Wds))/(ndp.n*(corrTempFn + ndp.TS))) -\n",
    "                                     ((ndp.Eds + (correctrDepth*ndp.Wds))/(ndp.n*(ndp.rTemp + ndp.TS))))\n",
    "\n",
    "\n",
    "\n",
    "##Peirls Creep\n",
    "nl_correction = (strainRate_2ndInvariant/ndp.SR)**((1.-ndp.np)/(ndp.np))\n",
    "\n",
    "peierls = prfac*(nl_correction)*fn.math.exp( ((ndp.Eps + (corrDepthFn*ndp.Wps))/(ndp.np*(corrTempFn+ ndp.TS))) -\n",
    "                                     ((ndp.Eps + (correctrDepth*ndp.Wps))/(ndp.np*(ndp.rTemp + ndp.TS))))\n",
    "\n",
    "\n",
    "##Define the mantle Plasticity\n",
    "ys =  ndp.cm + (depthFn*ndp.fcmd)\n",
    "ysMax = 1e4*1e6*sf.stress\n",
    "ysf = fn.misc.min(ys, ysMax)\n",
    "yielding = (math.sqrt(1.0)*ysf)/(2.*(strainRate_2ndInvariant)) #sqrt(0.5) converts for second invariant form in uw2\n",
    "\n",
    "##Crust rheology\n",
    "crustys =  ndp.cc + (depthFn*ndp.fccd)\n",
    "crustysf = fn.misc.min(crustys, ysMax)\n",
    "crustyielding = (math.sqrt(1.0)*crustysf)/(2.*(strainRate_2ndInvariant)) \n",
    "\n",
    "\n",
    "##Interface rheology\n",
    "interfaceys =  ndp.ci + (depthFn*ndp.fcid) #only weakened cohesion is discussed, not fc\n",
    "crustysf = fn.misc.min(interfaceys, ysMax)\n",
    "interfaceyielding = interfaceys/(2.*(strainRate_2ndInvariant))\n"
   ]
  },
  {
   "cell_type": "code",
   "execution_count": 81,
   "metadata": {
    "collapsed": false
   },
   "outputs": [],
   "source": [
    "#(dp.cohesion+ dp.fc*(3300.*9.8*dp.LS))/1e10, (ndp.cohesion + (1.*ndp.fcd))/(1e10*sf.stress)"
   ]
  },
  {
   "cell_type": "code",
   "execution_count": 82,
   "metadata": {
    "collapsed": false
   },
   "outputs": [],
   "source": [
    "############\n",
    "#Rheology: combine viscous mechanisms in various ways \n",
    "#harmonic: harmonic average of all mechanims\n",
    "#min: minimum effective viscosity of the mechanims\n",
    "#mixed: takes the minimum of the harmonic and the plastic effective viscosity\n",
    "#############\n",
    "\n",
    "#Map viscMechs list (defined in setup), to the actual functions, requires that same names are used.\n",
    "viscdict = {}\n",
    "for i in md.viscMechs:\n",
    "    viscdict[i] = locals()[i]\n",
    "\n",
    "#Condition for weak crust rheology to be active\n",
    "interfaceCond = operator.and_((depthFn < ndp.CRUSTVISCUTOFF), (depthFn > ndp.MANTLETOCRUST))    \n",
    "    \n",
    "#Harmonic average of all mechanisms    \n",
    "if md.viscCombine == 'harmonic':\n",
    "    denom = fn.misc.constant(0.)\n",
    "    for mech in viscdict.values():\n",
    "        denom += 1./mech\n",
    "    mantleviscosityFn = safe_visc(1./denom)\n",
    "    harmonic_test = mantleviscosityFn\n",
    "    #Only diffusuion creep for lower mantle\n",
    "    finalviscosityFn  = fn.branching.conditional([(depthFn < ndp.LOWMANTLEDEPTH, mantleviscosityFn),\n",
    "                                  (True, safe_visc(lmdiffusion*ndp.low_mantle_visc_fac))])\n",
    "\n",
    "    #Add the weaker crust mechanism, plus any cutoffs\n",
    "    crust_denom = denom + (1./crustyielding)\n",
    "    crustviscosityFn = safe_visc(1./crust_denom, viscmin=ndp.eta_min_crust, viscmax=ndp.eta_max_crust)\n",
    "    #Add the subduction interface mechanism, plus any cutoffs\n",
    "    interface_denom = denom + (1./interfaceyielding)\n",
    "    interfaceviscosityFn = safe_visc(1./interface_denom, viscmin=ndp.eta_min_interface, viscmax=ndp.eta_max_interface)\n",
    "    #Crust viscosity only active above between CRUSTVISCUTOFF and MANTLETOCRUST\n",
    "    finalcrustviscosityFn  = fn.branching.conditional([(depthFn < ndp.MANTLETOCRUST, crustviscosityFn),\n",
    "                                                     (interfaceCond, interfaceviscosityFn), #\n",
    "                                                     (True, finalviscosityFn)])\n",
    "\n",
    "    \n",
    "    \n",
    "if md.viscCombine == 'min':\n",
    "    mantleviscosityFn = fn.misc.constant(ndp.eta_max)\n",
    "    for mech in viscdict.values():\n",
    "        mantleviscosityFn = fn.misc.min(mech, mantleviscosityFn )\n",
    "    mantleviscosityFn = safe_visc(mantleviscosityFn)\n",
    "    min_test = mantleviscosityFn\n",
    "    #Only diffusion creep for lower mantle\n",
    "    finalviscosityFn  = fn.branching.conditional([(depthFn < ndp.LOWMANTLEDEPTH, mantleviscosityFn),\n",
    "                                  (True, safe_visc(lmdiffusion*ndp.low_mantle_visc_fac))])\n",
    "    #Add the weaker crust and interface mechanisms, plus any cutoffs\n",
    "    crustviscosityFn = safe_visc(fn.misc.min(finalviscosityFn, crustyielding), viscmin=ndp.eta_min_crust, viscmax=ndp.eta_max_crust)\n",
    "    interfaceviscosityFn = safe_visc(fn.misc.min(finalviscosityFn, interfaceyielding), viscmin=ndp.eta_min_interface, viscmax=ndp.eta_max_interface)\n",
    "    #Crust viscosity only active above CRUSTVISCUTOFF\n",
    "    #Crust viscosity only active above between CRUSTVISCUTOFF and MANTLETOCRUST\n",
    "    finalcrustviscosityFn  = fn.branching.conditional([(depthFn < ndp.MANTLETOCRUST, crustviscosityFn),\n",
    "                                                     (interfaceCond, interfaceviscosityFn), #\n",
    "                                                     (True, finalviscosityFn)])\n",
    "\n",
    "if md.viscCombine == 'mixed':\n",
    "    denom = fn.misc.constant(0.)\n",
    "    for mech in viscdict.values():\n",
    "        denom += 1./mech\n",
    "    mantleviscosityFn = safe_visc(fn.misc.min(yielding, (1./denom))) #min of harmonic average and yielding\n",
    "    mixed_test = mantleviscosityFn\n",
    "    #Only diffusuion creep for lower mantle\n",
    "    finalviscosityFn  = fn.branching.conditional([(depthFn < LOWMANTLEDEPTH, mantleviscosityFn),\n",
    "                                  (True, safe_visc(lmdiffusion*ndp.low_mantle_visc_fac))])\n",
    "    \n",
    "    #Add the weaker crust mechanism, plus any cutoffs\n",
    "    crust_denom = denom + (1./crustyielding)\n",
    "    crustviscosityFn = safe_visc(fn.misc.min(crustyielding,1./crust_denom), viscmin=ndp.eta_min_crust, viscmax=ndp.eta_max_crust)\n",
    "\n",
    "    interface_denom = denom + (1./interfaceyielding)\n",
    "    interfaceviscosityFn = safe_visc(fn.misc.min(interfaceyielding,1./interface_denom), viscmin=ndp.eta_min_interface, viscmax=ndp.eta_max_interface)\n",
    "    #Crust viscosity only active above between CRUSTVISCUTOFF and MANTLETOCRUST\n",
    "    finalcrustviscosityFn  = fn.branching.conditional([(depthFn < MANTLETOCRUST, crustviscosityFn),\n",
    "                                                     (interfaceCond, interfaceviscosityFn), #\n",
    "                                                     (True, finalviscosityFn)])\n",
    "    \n",
    "\n"
   ]
  },
  {
   "cell_type": "code",
   "execution_count": 83,
   "metadata": {
    "collapsed": false
   },
   "outputs": [],
   "source": [
    "#ndp.low_mantle_visc_fac = 1.\n"
   ]
  },
  {
   "cell_type": "code",
   "execution_count": 84,
   "metadata": {
    "collapsed": false
   },
   "outputs": [],
   "source": [
    "#viscMinConditions = fn.misc.min(diffusion, dislocation, peierls, yielding)\n",
    "\n",
    "viscMin = fn.misc.constant(ndp.eta_max)\n",
    "#Generate the minimum viscosity function \n",
    "for mech in [safe_visc(diffusion), safe_visc(dislocation), safe_visc(peierls), safe_visc(yielding)]:\n",
    "    viscMin = fn.misc.min(mech, viscMin) \n",
    "    \n",
    "dm = 1e-5\n",
    "   \n",
    "    \n",
    "viscMinConditions = [ ( operator.and_((viscMin > (ndp.eta_max - dm) ),\n",
    "                           (viscMin < (ndp.eta_max + dm) ))  , 0),  #visc = ndp.eta_max\n",
    "                      ( operator.and_((viscMin > (diffusion - dm) ),\n",
    "                           (viscMin < (diffusion + dm) ))  , 1),  #visc = diffusion\n",
    "                      ( operator.and_((viscMin > (dislocation - dm) ),\n",
    "                           (viscMin < (dislocation + dm) ))  , 2),#visc = dislocation\n",
    "                      ( operator.and_((viscMin > (peierls - dm) ),\n",
    "                           (viscMin < (peierls + dm) ))  , 3),    #visc = peierls\n",
    "                      ( operator.and_((viscMin > (yielding - dm) ),\n",
    "                           (viscMin < (yielding + dm) ))  , 4),   #visc = yielding\n",
    "                      ( True                                           , 5) ] #visc = eta_min (should be)\n",
    "\n",
    "\n",
    "\n",
    "\n",
    "# use the branching conditional function to set each particle's index\n",
    "fnViscMin = fn.branching.conditional( viscMinConditions )\n",
    "\n"
   ]
  },
  {
   "cell_type": "code",
   "execution_count": null,
   "metadata": {
    "collapsed": false,
    "scrolled": true
   },
   "outputs": [],
   "source": [
    "fig= glucifer.Figure()\n",
    "fig.append( glucifer.objects.Points(gSwarm,finalviscosityFn, logScale=True))\n",
    "#fig.show()\n",
    "#fig.save_database('test.gldb')"
   ]
  },
  {
   "cell_type": "markdown",
   "metadata": {},
   "source": [
    "Stokes system setup\n",
    "-----\n"
   ]
  },
  {
   "cell_type": "code",
   "execution_count": 68,
   "metadata": {
    "collapsed": false
   },
   "outputs": [],
   "source": [
    "densityMapFn = fn.branching.map( fn_key = materialVariable,\n",
    "                         mapping = {airIndex:ndp.StRA,\n",
    "                                    crustIndex:basaltbuoyancyFn, \n",
    "                                    mantleIndex:pyrolitebuoyancyFn,\n",
    "                                    harzIndex:harzbuoyancyFn} )"
   ]
  },
  {
   "cell_type": "code",
   "execution_count": 69,
   "metadata": {
    "collapsed": true
   },
   "outputs": [],
   "source": [
    "\n",
    "# Define our vertical unit vector using a python tuple (this will be automatically converted to a function).\n",
    "gravity = ( 0.0, 1.0 )\n",
    "\n",
    "# Now create a buoyancy force vector using the density and the vertical unit vector. \n",
    "buoyancyFn = densityMapFn * gravity"
   ]
  },
  {
   "cell_type": "code",
   "execution_count": 70,
   "metadata": {
    "collapsed": true
   },
   "outputs": [],
   "source": [
    "stokesPIC = uw.systems.Stokes(velocityField=velocityField, \n",
    "                              pressureField=pressureField,\n",
    "                              conditions=[freeslipBC,],\n",
    "                              fn_viscosity=linearVisc, \n",
    "                              fn_bodyforce=buoyancyFn )"
   ]
  },
  {
   "cell_type": "code",
   "execution_count": 71,
   "metadata": {
    "collapsed": true
   },
   "outputs": [],
   "source": [
    "solver = uw.systems.Solver(stokesPIC)\n",
    "if not checkpointLoad:\n",
    "    solver.solve() #A solve on the linear visocisty is unhelpful unless we're starting from scratch"
   ]
  },
  {
   "cell_type": "code",
   "execution_count": 72,
   "metadata": {
    "collapsed": false
   },
   "outputs": [],
   "source": [
    "#fig= glucifer.Figure()\n",
    "#fig.append( glucifer.objects.Points(gSwarm,materialVariable))\n",
    "#fig.append( glucifer.objects.Surface(mesh, finalviscosityFn, logScale=True))\n",
    "\n",
    "#fig.append( glucifer.objects.Surface(mesh, strainRate_2ndInvariant/ndp.SR, logScale=True))\n",
    "#fig.show()\n",
    "#fig.save_database('test.gldb')"
   ]
  },
  {
   "cell_type": "code",
   "execution_count": 73,
   "metadata": {
    "collapsed": false
   },
   "outputs": [],
   "source": [
    "viscosityMapFn = fn.branching.map( fn_key = materialVariable,\n",
    "                         mapping = {crustIndex:finalcrustviscosityFn,\n",
    "                                    mantleIndex:finalviscosityFn,\n",
    "                                    harzIndex:finalviscosityFn} )\n",
    "\n"
   ]
  },
  {
   "cell_type": "markdown",
   "metadata": {},
   "source": [
    "import matplotlib.pylab as pyplt\n",
    "%matplotlib inline\n",
    "\n",
    "\n",
    "\n",
    "##################\n",
    "#Output functions to numpy vertical averages, maxes, mins\n",
    "##################\n",
    "\n",
    "viscmapFnmesh = uw.mesh.MeshVariable(mesh,nodeDofCount=1)\n",
    "out = uw.utils.MeshVariable_Projection( viscmapFnmesh, viscosityMapFn)\n",
    "out.solve()\n",
    "\n",
    "\n",
    "#avDf = ndfp.evaluate(mesh).reshape(mesh.elementRes[1] + 1, mesh.elementRes[0] + 1).mean(axis=1)\n",
    "avDs = ndsp.evaluate(mesh).reshape(mesh.elementRes[1] + 1, mesh.elementRes[0] + 1).mean(axis=1)\n",
    "umantle = mantleviscosityFn.evaluate(mesh).reshape(mesh.elementRes[1] + 1, mesh.elementRes[0] + 1).mean(axis=1)\n",
    "lmantle = lowermantleviscosityFn.evaluate(mesh).reshape(mesh.elementRes[1] + 1, mesh.elementRes[0] + 1).mean(axis=1)\n",
    "eff = viscmapFnmesh.evaluate(mesh).reshape(mesh.elementRes[1] + 1, mesh.elementRes[0] + 1).mean(axis=1)\n",
    "\n",
    "effMin = viscmapFnmesh.evaluate(mesh).reshape(mesh.elementRes[1] + 1, mesh.elementRes[0] + 1).min(axis=1)\n",
    "effMax = viscmapFnmesh.evaluate(mesh).reshape(mesh.elementRes[1] + 1, mesh.elementRes[0] + 1).max(axis=1)\n",
    "\n",
    "###################\n",
    "#Plot\n",
    "###################\n",
    "import matplotlib.pylab as pyplt\n",
    "%matplotlib inline\n",
    "\n",
    "fig, ax = pyplt.subplots()\n",
    "#ax .plot(avDf, label = 'diff')\n",
    "#ax .plot(avDs, label = 'dis')\n",
    "ax .plot(eff, label = 'eff')\n",
    "ax .plot(effMax, label = 'effMax')\n",
    "ax .plot(effMin, label = 'effMin')\n",
    "#ax .plot(umantle, label = 'uman')\n",
    "#ax .plot(lmantle, label = 'lman')\n",
    "ax.set_yscale(\"log\", nonposy='clip')\n",
    "ax.legend(loc = 3)"
   ]
  },
  {
   "cell_type": "code",
   "execution_count": null,
   "metadata": {
    "collapsed": false
   },
   "outputs": [],
   "source": []
  },
  {
   "cell_type": "code",
   "execution_count": null,
   "metadata": {
    "collapsed": false
   },
   "outputs": [],
   "source": []
  },
  {
   "cell_type": "code",
   "execution_count": null,
   "metadata": {
    "collapsed": true
   },
   "outputs": [],
   "source": []
  },
  {
   "cell_type": "code",
   "execution_count": 74,
   "metadata": {
    "collapsed": true
   },
   "outputs": [],
   "source": [
    "#Add the non-linear viscosity to the Stokes system\n",
    "stokesPIC.fn_viscosity = viscosityMapFn"
   ]
  },
  {
   "cell_type": "code",
   "execution_count": 75,
   "metadata": {
    "collapsed": false
   },
   "outputs": [
    {
     "name": "stdout",
     "output_type": "stream",
     "text": [
      "\u001b[1;35m\n",
      " \n",
      "Pressure iterations:   3\n",
      "Velocity iterations:   1 (presolve)      \n",
      "Velocity iterations:  -1 (pressure solve)\n",
      "Velocity iterations:   1 (backsolve)     \n",
      "Velocity iterations:   1 (total solve)   \n",
      " \n",
      "SCR RHS  solve time: 9.0853e-01\n",
      "Pressure solve time: 1.1831e-01\n",
      "Velocity solve time: 8.9038e-01 (backsolve)\n",
      "Total solve time   : 2.0860e+00\n",
      " \n",
      "Velocity solution min/max: 0.0000e+00/0.0000e+00\n",
      "Pressure solution min/max: 0.0000e+00/0.0000e+00\n",
      " \n",
      "\u001b[00m\n"
     ]
    }
   ],
   "source": [
    "solver.set_inner_method(\"mumps\")\n",
    "solver.options.scr.ksp_type=\"cg\"\n",
    "solver.set_penalty(1.0e7)\n",
    "solver.options.scr.ksp_rtol = 1.0e-4\n",
    "solver.solve(nonLinearIterate=True)\n",
    "solver.print_stats()"
   ]
  },
  {
   "cell_type": "code",
   "execution_count": null,
   "metadata": {
    "collapsed": true
   },
   "outputs": [],
   "source": []
  },
  {
   "cell_type": "code",
   "execution_count": 76,
   "metadata": {
    "collapsed": false
   },
   "outputs": [],
   "source": [
    "#Check which particles are yielding\n",
    "#yieldingCheck.data[:] = 0\n",
    "\n",
    "#yieldconditions = [ ( mantleviscosityFn < Visc , 1), \n",
    "#               ( True                                           , 0) ]\n",
    "\n",
    "# use the branching conditional function to set each particle's index\n",
    "#yieldingCheck.data[:] = fn.branching.conditional( yieldconditions ).evaluate(gSwarm)"
   ]
  },
  {
   "cell_type": "code",
   "execution_count": 77,
   "metadata": {
    "collapsed": false,
    "scrolled": true
   },
   "outputs": [],
   "source": [
    "#fig= glucifer.Figure()\n",
    "#fig.append( glucifer.objects.Points(gSwarm,yieldingCheck))\n",
    "\n",
    "#fig.append( glucifer.objects.Surface(mesh,ndflm, logScale=True))\n",
    "#fig.show()"
   ]
  },
  {
   "cell_type": "markdown",
   "metadata": {},
   "source": [
    "Advection-diffusion System setup\n",
    "-----"
   ]
  },
  {
   "cell_type": "code",
   "execution_count": 78,
   "metadata": {
    "collapsed": false
   },
   "outputs": [],
   "source": [
    "advDiff = uw.systems.AdvectionDiffusion( phiField       = temperatureField, \n",
    "                                         phiDotField    = temperatureDotField, \n",
    "                                         velocityField  = velocityField,\n",
    "                                         fn_sourceTerm    = 0.0,\n",
    "                                         fn_diffusivity = 1.0, \n",
    "                                         #conditions     = [neumannTempBC, dirichTempBC] )\n",
    "                                         conditions     = [ dirichTempBC] )\n",
    "\n",
    "materialadvector = uw.systems.SwarmAdvector( swarm         = gSwarm, \n",
    "                                     velocityField = velocityField, \n",
    "                                     order         = 1)"
   ]
  },
  {
   "cell_type": "code",
   "execution_count": 79,
   "metadata": {
    "collapsed": false
   },
   "outputs": [],
   "source": [
    "population_control = uw.swarm.PopulationControl(gSwarm,deleteThreshold=0.2,splitThreshold=1.,maxDeletions=3,maxSplits=0, aggressive=True, particlesPerCell=md.ppc)"
   ]
  },
  {
   "cell_type": "markdown",
   "metadata": {
    "collapsed": false
   },
   "source": [
    "############\n",
    "#Slightly Diffuse the initial perturbation\n",
    "#############\n",
    "\n",
    "#I was playing around with a tailored diffusivity to target the slab\n",
    "\n",
    "inCircleFnGenerator#Now build the perturbation part\n",
    "def htan(centre, radius, widthPh, farVal = 0.01, fac = 10.):\n",
    "    coord = fn.input()\n",
    "    offsetFn = coord - centre\n",
    "    dist = fn.math.sqrt(fn.math.dot( offsetFn, offsetFn ))\n",
    "    \n",
    "    \n",
    "    return (((fn.math.tanh(((radius - dist))/widthPh) + 1.) /2.))*fac + farVal\n",
    "\n",
    "tfun = htan((0.1, 0.9), 0.1, 0.1, 0.1)\n",
    "\n",
    "for index in mesh.specialSets[\"MinJ_VertexSet\"]:\n",
    "    temperatureField.data[index] = \n",
    "for index in mesh.specialSets[\"MaxJ_VertexSet\"]:\n",
    "    temperatureField.data[index] = \n",
    "\n",
    "timetoDifffuse = 0.#Million years\n",
    "incrementtoDiffuse = 0.2 #Million years\n",
    "\n",
    "timetoDifffuse = (timetoDifffuse*1e6*(spery)/sf.SR).magnitude\n",
    "incrementtoDiffuse = (incrementtoDiffuse*1e6*(spery)/sf.SR).magnitude\n",
    "\n",
    "totAdt = 0.\n",
    "it = 0\n",
    "while totAdt < timetoDifffuse:\n",
    "    dtad = advDiff.get_max_dt()\n",
    "    print(\"step\") + str(it) \n",
    "    advDiff.integrate(incrementtoDiffuse)\n",
    "    totAdt += incrementtoDiffuse\n",
    "    it += 1\n",
    "    \n",
    "#Reset Boundary conds.   \n",
    "for index in mesh.specialSets[\"MinJ_VertexSet\"]:\n",
    "    temperatureField.data[index] = ndp.TBP\n",
    "for index in mesh.specialSets[\"MaxJ_VertexSet\"]:\n",
    "    temperatureField.data[index] = ndp.TSP\n",
    "    \n",
    "comm.Barrier()"
   ]
  },
  {
   "cell_type": "markdown",
   "metadata": {},
   "source": [
    "Analysis functions / routines\n",
    "-----\n",
    "\n",
    "Most of the metrics we want to calculate are either:\n",
    "\n",
    "* extrema of some field / function\n",
    "* integral of some field / function\n",
    "* average value of some function (integral divide by area)\n",
    "\n",
    "In addition, we also want to be able to determine these metrics over some restricted part of the domain, where the restriction may either be due some value of a field, a material type, or something more arbitrary.\n",
    "\n",
    "Much of he challenge lies in defining these restriction functions in an efficient and robust way (i.e they don't break down as the model evolves)\n",
    "\n",
    "For volume integrals, and extrema, we build a hierarchy of restriction functions, each borrowing from the previous, until we have divided the domain into a number of sub regions of interest. \n",
    "\n",
    "In general, averages are found afterwards by combining the integral and the area of the relavent subregion"
   ]
  },
  {
   "cell_type": "code",
   "execution_count": 80,
   "metadata": {
    "collapsed": true
   },
   "outputs": [],
   "source": [
    "###################\n",
    "#Volume Restriction functions\n",
    "###################\n",
    "\n",
    "#Level 1. Global\n",
    "globRestFn = fn.misc.constant(1.)\n",
    "\n",
    "#Level 2. Rock - air:\n",
    "rockRestFn = uw.swarm.SwarmVariable(gSwarm, dataType='double', count=1)\n",
    "rockRestFn.data[:] = 0.\n",
    "rockRestFn.data[np.where(materialVariable.data[:] != airIndex)] = 1.\n",
    "rockRestFn *= globRestFn #Add next level up in heirarchy\n",
    "\n",
    "\n",
    "#Level 3. lithosphere - mantle:\n",
    "tempMM = fn.view.min_max(temperatureField)\n",
    "tempMM.evaluate(mesh)\n",
    "TMAX = tempMM.max_global()\n",
    "mantleconditions = [ (                                  temperatureField < 0.9*TMAX, 1.),\n",
    "                   (                                                   True , 0.) ]\n",
    "lithRestFn = fn.branching.conditional(mantleconditions)\n",
    "lithRestFn*=rockRestFn #Add next level up in heirarchy\n",
    "\n",
    "\n",
    "#Level 4. lower plate - upper plate:\n",
    "\n",
    "\n",
    "#This whole section simply builds a restriction Fn that separates the upper and lower plate \n",
    "#It's pretty cumbersome, and will need to advected, rebuilt\n",
    "#can YOU think of a better way?\n",
    "   \n",
    "lowerPlateRestFn = gSwarm.add_variable( dataType=\"double\", count=1 )\n",
    "lowerPlateRestFn.data[:] = 0.0\n",
    "\n",
    "update_swarm_from_line(slab_seg, lowerPlateRestFn )\n",
    "lowerPlateRestFn.data[np.where(lowerPlateRestFn.data != 0.)] += midthickness #assume instances of 0. are actually where no fault on proc\n",
    "lowerPlateRestFn.data[np.where(lowerPlateRestFn.data > 0.*midthickness)] = 1.\n",
    "lowerPlateRestFn.data[np.where(lowerPlateRestFn.data <= 0.*midthickness)] = 0. \n",
    "lowerPlateRestFn *= lithRestFn #Add next level up in heirarchy\n",
    "\n",
    "#Also see if we can stick the the Velocity and coords on to this swarm as well\n",
    "tipVar = uw.swarm.SwarmVariable(slab_seg.swarm, dataType='double', count=4)\n",
    "tipVar.data[:,:2] = velocityField.evaluate(slab_seg.swarm)\n",
    "tipVar.data[:,2:] = xFn.evaluate(slab_seg.swarm)\n",
    "tipVar.data[:,3:] = yFn.evaluate(slab_seg.swarm)\n",
    "\n",
    "\n",
    "#Level 5. hinge of lower plate:\n",
    "\n",
    "hinge60Spatialconditions = [ (           operator.and_( (depthFn < (60e3/dp.LS)),  (xFn > ndp.subzone - 60e3/dp.LS)), 1.),\n",
    "                   (                                                   True , 0.) ]\n",
    "\n",
    "hinge60RestFn = fn.branching.conditional(hinge60Spatialconditions)\n",
    "hinge60RestFn*=lowerPlateRestFn #Add next level up in heirarchy\n",
    "\n",
    "\n",
    "\n",
    "hinge180Spatialconditions = [ (           operator.and_( (depthFn < (180e3/dp.LS)),  (xFn > ndp.subzone - 180e3/dp.LS)), 1.),\n",
    "                   (                                                   True , 0.) ]\n",
    "\n",
    "hinge180RestFn = fn.branching.conditional(hinge180Spatialconditions)\n",
    "hinge180RestFn*=lowerPlateRestFn #Add next level up in heirarchy\n",
    "\n",
    "\n",
    "#Level 6. crust/interface in hinge of lower plate:\n",
    "\n",
    "interfaceRestFn = uw.swarm.SwarmVariable(gSwarm, dataType='double', count=1)\n",
    "interfaceRestFn.data[:] = 0.\n",
    "interfaceRestFn.data[np.where(materialVariable.data[:] == crustIndex)] = 1.\n",
    "interfaceRestFn *= hinge60RestFn #Add next level up in heirarchy"
   ]
  },
  {
   "cell_type": "code",
   "execution_count": 81,
   "metadata": {
    "collapsed": true
   },
   "outputs": [],
   "source": [
    "respltconditions = [ \n",
    "                    (                                  hinge60RestFn*2. > rockRestFn*1., 1.),\n",
    "                    (                                  lowerPlateRestFn*3. > hinge60RestFn*2. , 3.),\n",
    "                    (                                  lithRestFn*5. > lowerPlateRestFn*3. , 4.),\n",
    "                   (                                                   True , 0.) ]\n",
    "\n",
    "respltFn = fn.branching.conditional(respltconditions )"
   ]
  },
  {
   "cell_type": "code",
   "execution_count": 82,
   "metadata": {
    "collapsed": true
   },
   "outputs": [],
   "source": [
    "###################\n",
    "#Surface Restriction functions\n",
    "###################\n",
    "\n",
    "def platenessFn(val = 0.1):\n",
    "    normgradV = fn.math.abs(velocityField.fn_gradient[0]/fn.math.sqrt(velocityField[0]*velocityField[0])) #[du*/dx]/sqrt(u*u)\n",
    "\n",
    "\n",
    "\n",
    "    srconditions = [ (                                  normgradV < val, 1.),\n",
    "                   (                                                   True , 0.) ]\n",
    "\n",
    "\n",
    "    return fn.branching.conditional(srconditions)\n",
    "\n",
    "srRestFn = platenessFn(val = 0.1)"
   ]
  },
  {
   "cell_type": "code",
   "execution_count": 83,
   "metadata": {
    "collapsed": false
   },
   "outputs": [],
   "source": [
    "###################\n",
    "#Setup any Functions to be integrated\n",
    "###################\n",
    "\n",
    "sqrtv2 = fn.math.sqrt(fn.math.dot(velocityField,velocityField))\n",
    "vx = velocityField[0]\n",
    "v2x = fn.math.dot(velocityField[0],velocityField[0])\n",
    "sqrtv2x = fn.math.sqrt(fn.math.dot(velocityField[0],velocityField[0]))\n",
    "dw = temperatureField*velocityField[1]\n",
    "sinner = fn.math.dot( strainRate_2ndInvariant, strainRate_2ndInvariant )\n",
    "vd = 2.*viscosityMapFn*sinner\n",
    "dTdZ = temperatureField.fn_gradient[1]"
   ]
  },
  {
   "cell_type": "code",
   "execution_count": 84,
   "metadata": {
    "collapsed": true
   },
   "outputs": [],
   "source": [
    "###################\n",
    "#Create integral, max/min templates \n",
    "###################\n",
    "\n",
    "def volumeint(Fn = 1., rFn=globRestFn):\n",
    "    return uw.utils.Integral( Fn*rFn,  mesh )\n",
    "\n",
    "def surfint(Fn = 1., rFn=globRestFn, surfaceIndexSet=mesh.specialSets[\"MaxJ_VertexSet\"]):\n",
    "    return uw.utils.Integral( Fn*rFn, mesh=mesh, integrationType='Surface', surfaceIndexSet=surfaceIndexSet)\n",
    "\n",
    "def maxMin(Fn = 1.):\n",
    "    #maxMin(Fn = 1., rFn=globRestFn\n",
    "    #vuFn = fn.view.min_max(Fn*rFn) #the restriction functions don't work with the view.min_max fn yet\n",
    "    vuFn = fn.view.min_max(Fn)\n",
    "    return vuFn\n",
    "    "
   ]
  },
  {
   "cell_type": "code",
   "execution_count": 85,
   "metadata": {
    "collapsed": true
   },
   "outputs": [],
   "source": [
    "#Setup volume integrals on different sub regions\n",
    "\n",
    "##Whole rock domain\n",
    "\n",
    "_areaintRock = volumeint(rockRestFn)\n",
    "_tempintRock = volumeint(temperatureField, rockRestFn)\n",
    "_rmsintRock = volumeint(sqrtv2,rockRestFn)\n",
    "_dwintRock = volumeint(dw,rockRestFn)\n",
    "_vdintRock = volumeint(vd,rockRestFn)\n",
    "\n",
    "##Lith \n",
    "\n",
    "_areaintLith  = volumeint(lithRestFn)\n",
    "_tempintLith  = volumeint(temperatureField, lithRestFn)\n",
    "_rmsintLith  = volumeint(sqrtv2,lithRestFn)\n",
    "_dwintLith  = volumeint(dw,lithRestFn)\n",
    "_vdintLith  = volumeint(vd,lithRestFn)\n",
    "\n",
    "##Lower plate\n",
    "\n",
    "_areaintLower  = volumeint(lowerPlateRestFn)\n",
    "_tempintLower  = volumeint(temperatureField, lowerPlateRestFn)\n",
    "_rmsintLower  = volumeint(sqrtv2,lowerPlateRestFn)\n",
    "_dwintLower = volumeint(dw,lowerPlateRestFn)\n",
    "_vdintLower  = volumeint(vd,lowerPlateRestFn)\n",
    "\n",
    "##Hinge lower plate\n",
    "\n",
    "_areaintHinge180  = volumeint(hinge180RestFn)\n",
    "_vdintHinge180  = volumeint(vd,hinge180RestFn)\n",
    "\n",
    "_areaintHinge60  = volumeint(hinge60RestFn)\n",
    "_vdintHinge60  = volumeint(vd,hinge60RestFn)\n",
    "\n",
    "\n",
    "##Interface\n",
    "\n",
    "_areaintInterface  = volumeint(interfaceRestFn)\n",
    "_vdintInterface = volumeint(vd,interfaceRestFn)"
   ]
  },
  {
   "cell_type": "code",
   "execution_count": 86,
   "metadata": {
    "collapsed": true
   },
   "outputs": [],
   "source": [
    "#Setup surface integrals\n",
    "\n",
    "_surfLength = surfint()\n",
    "_rmsSurf = surfint(v2x)\n",
    "_nuTop = surfint(dTdZ)\n",
    "_nuBottom = surfint(dTdZ, surfaceIndexSet=mesh.specialSets[\"MinJ_VertexSet\"])\n",
    "_plateness = surfint(srRestFn)"
   ]
  },
  {
   "cell_type": "code",
   "execution_count": 87,
   "metadata": {
    "collapsed": true
   },
   "outputs": [],
   "source": [
    "#Setup max min fns (at the moment, we can't pass restriction function to view.min_max, so we're limited to whole volume or surface extrema)\n",
    "\n",
    "##Whole rock domain\n",
    "\n",
    "#_maxMinVisc = maxMin(viscosityMapFn1)  #These don't work on swarm variables or mapping functions, yet\n",
    "#dummyFn = _maxMinVisc.evaluate(mesh)\n",
    "#_maxMinStressInv = maxMin(2*viscosityMapFn1*strainRate_2ndInvariant) #These don't work on swarm variables or mapping functions, yet\n",
    "#dummyFn = _maxMinStress.evaluate(mesh)\n",
    "#_maxMinVd = maxMin(vd) #These don't work on swarm variables or mapping functions, yet\n",
    "#dummyFn = _maxMinVd.evaluate(mesh)\n",
    "\n",
    "\n",
    "_maxMinVel = maxMin(velocityField) \n",
    "dummyFn = _maxMinVel.evaluate(mesh)\n",
    "\n",
    "_maxMinSr = maxMin(strainRate_2ndInvariant) \n",
    "dummyFn = _maxMinSr.evaluate(mesh)\n",
    "\n",
    "\n",
    "#Surface extrema\n",
    "_maxMinVxSurf = maxMin(vx)\n",
    "dummyFn = _maxMinVxSurf.evaluate(tWalls)\n"
   ]
  },
  {
   "cell_type": "code",
   "execution_count": 88,
   "metadata": {
    "collapsed": true
   },
   "outputs": [],
   "source": [
    "#Volume Ints\n",
    "areaintRock = _areaintRock.evaluate()[0]\n",
    "tempintRock = _tempintRock.evaluate()[0]\n",
    "rmsintRock = _rmsintRock.evaluate()[0]\n",
    "dwintRock = _dwintRock.evaluate()[0]\n",
    "vdintRock = _vdintRock.evaluate()[0]\n",
    "areaintLith = _areaintLith.evaluate()[0]\n",
    "tempintLith = _tempintLith.evaluate()[0]\n",
    "rmsintLith = _rmsintLith.evaluate()[0]\n",
    "dwintLith = _dwintLith.evaluate()[0]\n",
    "vdintLith = _vdintLith.evaluate()[0]\n",
    "areaintLower = _areaintLower.evaluate()[0]\n",
    "tempintLower = _tempintLower.evaluate()[0]\n",
    "rmsintLower = _rmsintLower.evaluate()[0]\n",
    "dwintLower = _dwintLower.evaluate()[0]\n",
    "vdintLower = _vdintLower.evaluate()[0]\n",
    "vdintHinge180 = _vdintHinge180.evaluate()[0]\n",
    "areaintHinge180 = _areaintHinge180.evaluate()[0]\n",
    "vdintHinge60 = _vdintHinge60.evaluate()[0]\n",
    "areaintHinge60= _areaintHinge60.evaluate()[0]\n",
    "vdintInterface = _vdintInterface.evaluate()[0]\n",
    "areaintInterface= _areaintInterface.evaluate()[0]\n",
    "\n",
    "#Surface Ints\n",
    "surfLength = _surfLength.evaluate()[0]\n",
    "rmsSurf = _rmsSurf.evaluate()[0]\n",
    "nuTop = _nuTop.evaluate()[0]\n",
    "nuBottom = _nuBottom.evaluate()[0]\n",
    "plateness = _plateness.evaluate()[0]\n",
    "\n",
    "#Max mins\n",
    "maxVel = _maxMinVel.max_global()\n",
    "minVel = _maxMinVel.min_global() \n",
    "maxSr = _maxMinSr.max_global()\n",
    "minSr = _maxMinSr.min_global()\n",
    "maxVxsurf = _maxMinVxSurf.max_global()\n",
    "minVxsurf = _maxMinVxSurf.min_global()"
   ]
  },
  {
   "cell_type": "markdown",
   "metadata": {},
   "source": [
    "print(areaintRock)\n",
    "print(tempintRock)\n",
    "print(rmsintRock)\n",
    "print(dwintRock)\n",
    "print(vdintRock)\n",
    "print(areaintLith)\n",
    "print(tempintLith )\n",
    "print(rmsintLith)\n",
    "print(dwintLith)\n",
    "print(vdintLith)\n",
    "print(areaintLower)\n",
    "print(tempintLower)\n",
    "print(rmsintLower) \n",
    "print(dwintLower)\n",
    "print(vdintLower)\n",
    "print(vdintHinge60)\n",
    "print(vdintHinge180)\n",
    "print(vdintInterface)\n",
    "\n",
    "print(surfLength)\n",
    "print(rmsSurf)\n",
    "print(nuTop)\n",
    "print(nuBottom)\n",
    "print(plateness)\n",
    "\n",
    "\n",
    "print(maxVel)\n",
    "print(minVel)\n",
    "print(maxSr)\n",
    "print(minSr)\n",
    "print(maxVxsurf)\n",
    "print(minVxsurf)"
   ]
  },
  {
   "cell_type": "markdown",
   "metadata": {},
   "source": [
    "Viz.\n",
    "-----"
   ]
  },
  {
   "cell_type": "code",
   "execution_count": 89,
   "metadata": {
    "collapsed": false
   },
   "outputs": [],
   "source": [
    "if figures == 'gldb':\n",
    "    #Pack some stuff into a database as well\n",
    "    figDb = glucifer.Figure()\n",
    "    #figDb.append( glucifer.objects.Mesh(mesh))\n",
    "    figDb.append( glucifer.objects.VectorArrows(mesh,velocityField, scaling=0.0005))\n",
    "    #figDb.append( glucifer.objects.Points(gSwarm,tracerVariable, colours= 'white black'))\n",
    "    figDb.append( glucifer.objects.Points(gSwarm,materialVariable))\n",
    "    #figDb.append( glucifer.objects.Points(gSwarm,viscMinVariable))\n",
    "    #figDb.append( glucifer.objects.Points(gSwarm,fnViscMin))\n",
    "    figDb.append( glucifer.objects.Points(gSwarm,fnViscMin))\n",
    "    figDb.append( glucifer.objects.Points(gSwarm, viscosityMapFn, logScale=True))\n",
    "    figDb.append( glucifer.objects.Points(gSwarm, strainRate_2ndInvariant, logScale=True))\n",
    "    figDb.append( glucifer.objects.Points(gSwarm,temperatureField))\n",
    "    \n",
    "    \n",
    "    figRestrict= glucifer.Figure()\n",
    "    #figRestrict.append( glucifer.objects.Points(gSwarm,respltFn))\n",
    "    figRestrict.append( glucifer.objects.Points(gSwarm,lithRestFn))\n",
    "    figRestrict.append( glucifer.objects.Points(gSwarm,lowerPlateRestFn))\n",
    "    figRestrict.append( glucifer.objects.Points(gSwarm,hinge180RestFn))\n",
    "    figRestrict.append( glucifer.objects.Points(gSwarm,interfaceRestFn))\n",
    "    figRestrict.append( glucifer.objects.Points(interfaces[0].swarm, colours=\"Blue Blue\", pointSize=2.0, colourBar=False) )\n",
    "    figRestrict.append( glucifer.objects.Points(interfaces[1].swarm, colours=\"Red Red\", pointSize=2.0, colourBar=False) )\n",
    "    figRestrict.append( glucifer.objects.Points(slab_seg.swarm, colours=\"Black Black\", pointSize=2.0, colourBar=False) )\n",
    "\n",
    "elif figures == 'store':\n",
    "    fullpath = os.path.join(outputPath + \"gldbs/\")\n",
    "    store = glucifer.Store(fullpath + 'subduction.gldb')\n",
    "\n",
    "    figTemp = glucifer.Figure(store,figsize=(300*np.round(md.aspectRatio,2),300))\n",
    "    figTemp.append( glucifer.objects.Points(gSwarm,temperatureField))\n",
    "\n",
    "    figVisc= glucifer.Figure(store, figsize=(300*np.round(md.aspectRatio,2),300))\n",
    "    figVisc.append( glucifer.objects.Points(gSwarm,viscosityMapFn, logScale=True, valueRange =[1e-3,1e5]))\n",
    "    \n",
    "    figSr= glucifer.Figure(store, figsize=(300*np.round(md.aspectRatio,2),300))\n",
    "    figSr.append( glucifer.objects.Points(gSwarm,strainRate_2ndInvariant, logScale=True))\n",
    "    figSr.append( glucifer.objects.VectorArrows(mesh,velocityField, scaling=0.0005))\n",
    "\n",
    "    #figMech= glucifer.Figure(store, figsize=(300*np.round(md.aspectRatio,2),300))\n",
    "    #figMech.append( glucifer.objects.Points(gSwarm,fnViscMin))"
   ]
  },
  {
   "cell_type": "markdown",
   "metadata": {},
   "source": [
    "**Miscellania**"
   ]
  },
  {
   "cell_type": "code",
   "execution_count": 90,
   "metadata": {
    "collapsed": false
   },
   "outputs": [
    {
     "name": "stderr",
     "output_type": "stream",
     "text": [
      "/usr/local/lib/python2.7/dist-packages/numpy/core/numeric.py:190: VisibleDeprecationWarning: using a non-integer number instead of an integer will result in an error in the future\n",
      "  a = empty(shape, dtype, order)\n"
     ]
    }
   ],
   "source": [
    "##############\n",
    "#Create a numpy array at the surface to get surface information on (using parallel-friendly evaluate_global)\n",
    "##############\n",
    "\n",
    "surface_xs = np.linspace(mesh.minCoord[0], mesh.maxCoord[0], mesh.elementRes[0] + 1)\n",
    "surface_nodes = np.array(zip(surface_xs, np.ones(len(surface_xs)*mesh.maxCoord[1]))) #For evaluation surface velocity\n",
    "normgradV = velocityField.fn_gradient[0]/fn.math.sqrt(velocityField[0]*velocityField[0])\n",
    "\n",
    "tempMM = fn.view.min_max(temperatureField)\n",
    "dummy = tempMM.evaluate(mesh)\n",
    "\n"
   ]
  },
  {
   "cell_type": "code",
   "execution_count": 91,
   "metadata": {
    "collapsed": false
   },
   "outputs": [],
   "source": [
    "#Not parallel friendly yet\n",
    "#tipXvels = np.sum(velocityField[0].evaluate(tipSwarm)) /\\\n",
    "#    tipSwarm.particleGlobalCount\n",
    "#tipXvels = np.sum(velocityField[1].evaluate(tipSwarm)) /\\\n",
    "#    tipSwarm.particleGlobalCount\n",
    "    \n",
    "#tipXpos = np.sum(xFn.evaluate(tipSwarm)) /\\\n",
    "#    tipSwarm.particleGlobalCount\n",
    "#tipYpos = np.sum(yFn.evaluate(tipSwarm)) /\\\n",
    "#    tipSwarm.particleGlobalCount"
   ]
  },
  {
   "cell_type": "code",
   "execution_count": 114,
   "metadata": {
    "collapsed": false
   },
   "outputs": [],
   "source": [
    "##############\n",
    "#These functions handle checkpointing\n",
    "##############\n",
    "\n",
    "\n",
    "#Subzone = ndp.subzone\n",
    "\n",
    "\n",
    "def checkpoint1(step, checkpointPath,filename, filewrites):\n",
    "    path = checkpointPath + str(step) \n",
    "    os.mkdir(path)\n",
    "    ##Write and save the file, if not already a writing step\n",
    "    if not step % filewrites == 0:\n",
    "        f_o.write((28*'%-15s ' + '\\n') % (areaintRock, tempintRock, rmsintRock, dwintRock, vdintRock,\n",
    "                                  areaintLith, tempintLith,rmsintLith, dwintLith, vdintLith,\n",
    "                                  areaintLower, tempintLower, rmsintLower, dwintLower, vdintLower, \n",
    "                                  areaintHinge180,vdintHinge180, areaintHinge60, vdintHinge60, \n",
    "                                  areaintInterface, vdintInterface, vdintInterface,\n",
    "                                  rmsSurf, nuTop, nuBottom, plateness, ndp.subzone, realtime))\n",
    "    filename.close()\n",
    "    shutil.copyfile(os.path.join(outputPath, outputFile), os.path.join(path, outputFile))\n",
    "\n",
    "\n",
    "def checkpoint2(step, checkpointPath, swarm, filename, varlist = [materialVariable], varnames = ['materialVariable']):\n",
    "    path = checkpointPath + str(step) \n",
    "    velfile = \"velocityField\" + \".hdf5\"\n",
    "    tempfile = \"temperatureField\" + \".hdf5\"\n",
    "    pressfile = \"pressureField\" + \".hdf5\"\n",
    "    velocityField.save(os.path.join(path, velfile))\n",
    "    temperatureField.save(os.path.join(path, tempfile))\n",
    "    pressureField.save(os.path.join(path, pressfile))\n",
    "    swarm.save(os.path.join(path, \"swarm.h5\") ) \n",
    "    for ix in range(len(varlist)):\n",
    "        varb = varlist[ix]\n",
    "        varb.save(os.path.join(path,varnames[ix] + \".h5\"))\n",
    "    \n",
    "    #Save the parameters\n",
    "    dict_list = [dp, sf, ndp, md] #if any of the dictionaries have changed, this list needs to be rebuilt\n",
    "    save_pickles(dict_list, dict_names, path)\n",
    "    \n",
    "#Simple Checkpoint function for the faults / interfaces (markerLine2D)\n",
    "def checkpoint3(step,  checkpointPath, interfaces,interfacenames ):\n",
    "    path = checkpointPath + str(step)\n",
    "    for ix in range(len(interfaces)):\n",
    "        intf = interfaces[ix]\n",
    "        intf.swarm.save(os.path.join(path,interfacenames[ix] + \".h5\"))\n",
    "    \n",
    "    "
   ]
  },
  {
   "cell_type": "code",
   "execution_count": 115,
   "metadata": {
    "collapsed": true
   },
   "outputs": [],
   "source": [
    "##############\n",
    "#Simple function to return info about location of plate boundaries\n",
    "##############\n",
    "\n",
    "def getnearpos(array,value):\n",
    "    idx = (np.abs(array-value)).argmin()\n",
    "    return idx \n",
    "\n",
    "def plate_info(srfilename, minx, maxx,  searchdx, oldszloc = 0.0):\n",
    "    \"\"\"\n",
    "    Use the surface strain rate field to find the location of the subduction zone in 2d\n",
    "    \n",
    "    \"\"\"\n",
    "    if type(srfilename) == str: #read surface strain rate points from file\n",
    "        sr = np.load(srfilename)\n",
    "    else:\n",
    "        sr =  srfilename        #read surface strain rates directly from array\n",
    "    xs = np.linspace(minx,maxx,sr.shape[0] )\n",
    "    #infs at the ends of the SR data...replace with adjacent values\n",
    "    sr[0] = sr[1] \n",
    "    sr[-1] = sr[2]\n",
    "    #Normalize\n",
    "    srx = (sr- sr.mean()) /(sr.max() - sr.min())\n",
    "    #reduce the search domain, to near the previous PB location\n",
    "    lx, rx = getnearpos(xs, oldszloc - searchdx),  getnearpos(xs, oldszloc + searchdx)\n",
    "    red_xs, red_sr = xs[lx:rx], srx[lx:rx]\n",
    "    #return the minima\n",
    "    newszLoc = red_xs[np.argmin(red_sr)]\n",
    "    return newszLoc "
   ]
  },
  {
   "cell_type": "code",
   "execution_count": 116,
   "metadata": {
    "collapsed": true
   },
   "outputs": [],
   "source": [
    "##############\n",
    "#This will allow us to evaluate viscous shear heating, and add the result directly to the temperature field\n",
    "##############\n",
    "\n",
    "viscDisMapFn = 2.*viscosityMapFn*sinner\n",
    "viscDisFnmesh = uw.mesh.MeshVariable(mesh,nodeDofCount=1)\n",
    "viscDisProj = uw.utils.MeshVariable_Projection( viscDisFnmesh, viscDisMapFn)\n",
    "viscDisProj.solve()"
   ]
  },
  {
   "cell_type": "code",
   "execution_count": 117,
   "metadata": {
    "collapsed": false
   },
   "outputs": [],
   "source": [
    "# initialise timer for computation\n",
    "start = time.clock()\n"
   ]
  },
  {
   "cell_type": "markdown",
   "metadata": {},
   "source": [
    "Main simulation loop\n",
    "-----\n"
   ]
  },
  {
   "cell_type": "code",
   "execution_count": null,
   "metadata": {
    "collapsed": true
   },
   "outputs": [],
   "source": [
    "#while step < 21:\n",
    "while realtime < 1.:\n",
    "\n",
    "    # solve Stokes and advection systems\n",
    "    solver.solve(nonLinearIterate=True)\n",
    "    dt = advDiff.get_max_dt()\n",
    "    if step == 0:\n",
    "        dt = 0.\n",
    "    advDiff.integrate(dt)\n",
    "    materialadvector.integrate(dt)\n",
    "    for f in interfaces:\n",
    "        f.advection(dt)\n",
    "    \n",
    "    #Add the adiabatic adjustment \n",
    "    temperatureField.data[:] += dt*abHeatFn.evaluate(mesh)\n",
    "    \n",
    "    #Add the viscous heating term\n",
    "    #Need to fix this (forgot 'dissipation number')\n",
    "    #viscDisProj = uw.utils.MeshVariable_Projection( viscDisFnmesh, viscDisMapFn)\n",
    "    #viscDisProj.solve()\n",
    "    #temperatureField.data[:] += dt*viscDisFnmesh.evaluate(mesh)\n",
    "    \n",
    "\n",
    "    # Increment\n",
    "    realtime += dt\n",
    "    step += 1\n",
    "    timevals.append(realtime)\n",
    "    ################\n",
    "    #Update temperature field in the air region\n",
    "    #Do this better...\n",
    "    ################\n",
    "    if (step % sticky_air_temp == 0):\n",
    "        for index, coord in enumerate(mesh.data):\n",
    "            if coord[1] >= 1.:\n",
    "                temperatureField.data[index] = ndp.TSP\n",
    "\n",
    "    ################\n",
    "    # Calculate the Metrics\n",
    "    ################\n",
    "    if (step % metric_output == 0):\n",
    "        ###############\n",
    "        #Rebuild the restriction functions where necessary\n",
    "        ###############\n",
    "        lowerPlateRestFn = gSwarm.add_variable( dataType=\"double\", count=1 )\n",
    "        lowerPlateRestFn.data[:] = 0.0\n",
    "        update_swarm_from_line(slab_seg, lowerPlateRestFn )\n",
    "        lowerPlateRestFn.data[np.where(lowerPlateRestFn.data >= -1.*midthickness)] = 1.\n",
    "        lowerPlateRestFn.data[np.where(lowerPlateRestFn.data < -1.*midthickness)] = 0. \n",
    "        lowerPlateRestFn *= lithRestFn #Add next level up in hierarchy\n",
    "        \n",
    "        #Hinge\n",
    "        \n",
    "        hinge60Spatialconditions = [ (           operator.and_( (depthFn < MAXY - (60e3/dp.LS)),  (xFn > ndp.subzone - 60e3/dp.LS)), 1.),\n",
    "                   (                                                   True , 0.) ]\n",
    "        hinge60RestFn = fn.branching.conditional(hinge60Spatialconditions)\n",
    "        hinge60RestFn*=lowerPlateRestFn #Add next level up in hierarchy\n",
    "\n",
    "\n",
    "\n",
    "        hinge180Spatialconditions = [ (           operator.and_( (depthFn < MAXY - (180e3/dp.LS)),  (xFn > ndp.subzone - 180e3/dp.LS)), 1.),\n",
    "                           (                                                   True , 0.) ]\n",
    "        hinge180RestFn = fn.branching.conditional(hinge180Spatialconditions)\n",
    "        hinge180RestFn*=lowerPlateRestFn #Add next level up in hierarchy\n",
    "        \n",
    "        ###############\n",
    "        #Metrics\n",
    "        ###############\n",
    "        areaintRock = _areaintRock.evaluate()[0] #trivial except when using sticky air\n",
    "        tempintRock = _tempintRock.evaluate()[0]\n",
    "        rmsintRock = _rmsintRock.evaluate()[0]\n",
    "        dwintRock = _dwintRock.evaluate()[0]\n",
    "        vdintRock = _vdintRock.evaluate()[0]\n",
    "        areaintLith = _areaintLith.evaluate()[0]\n",
    "        tempintLith = _tempintLith.evaluate()[0]\n",
    "        rmsintLith = _rmsintLith.evaluate()[0]\n",
    "        dwintLith = _dwintLith.evaluate()[0]\n",
    "        vdintLith = _vdintLith.evaluate()[0]\n",
    "        areaintLower = _areaintLower.evaluate()[0]\n",
    "        tempintLower = _tempintLower.evaluate()[0]\n",
    "        rmsintLower = _rmsintLower.evaluate()[0]\n",
    "        dwintLower = _dwintLower.evaluate()[0]\n",
    "        vdintLower = _vdintLower.evaluate()[0]\n",
    "        vdintHinge180 = _vdintHinge180.evaluate()[0]\n",
    "        areaintHinge180 = _areaintHinge180.evaluate()[0]\n",
    "        vdintHinge60 = _vdintHinge60.evaluate()[0]\n",
    "        areaintHinge60= _areaintHinge60.evaluate()[0]\n",
    "        vdintInterface = _vdintInterface.evaluate()[0]\n",
    "        areaintInterface= _areaintInterface.evaluate()[0]\n",
    "        #Surface integrals\n",
    "        rmsSurf = _rmsSurf.evaluate()[0]\n",
    "        nuTop = _nuTop.evaluate()[0]\n",
    "        nuBottom = _nuBottom.evaluate()[0]\n",
    "        plateness = _plateness.evaluate()[0]\n",
    "        #extrema\n",
    "        maxVel = _maxMinVel.max_global()\n",
    "        minVel = _maxMinVel.min_global() \n",
    "        maxSr = _maxMinSr.max_global()\n",
    "        minSr = _maxMinSr.min_global()\n",
    "        maxVxsurf = _maxMinVxSurf.max_global()\n",
    "        minVxsurf = _maxMinVxSurf.min_global()\n",
    "        # output to text file...root proc. handles this one\n",
    "        if uw.rank()==0:\n",
    "            f_o.write((28*'%-15s ' + '\\n') % (areaintRock, tempintRock, rmsintRock, dwintRock, vdintRock,\n",
    "                                  areaintLith, tempintLith,rmsintLith, dwintLith, vdintLith,\n",
    "                                  areaintLower, tempintLower, rmsintLower, dwintLower, vdintLower, \n",
    "                                  areaintHinge180,vdintHinge180, areaintHinge60, vdintHinge60, \n",
    "                                  areaintInterface, vdintInterface, vdintInterface,\n",
    "                                  rmsSurf, nuTop, nuBottom, plateness, ndp.subzone, realtime))\n",
    "    ################\n",
    "    #Also repopulate entire swarm periodically\n",
    "    ################\n",
    "    #if step % swarm_repop == 0:\n",
    "    population_control.repopulate()   \n",
    "\n",
    "    ################\n",
    "    #Gldb output\n",
    "    ################ \n",
    "    if (step % gldbs_output == 0): \n",
    "        if figures == 'gldb':\n",
    "            #Remember to rebuild any necessary swarm variables\n",
    "            fnamedb = \"dbFig\" + \"_\" + str(step) + \".gldb\"\n",
    "            fullpath = os.path.join(outputPath + \"gldbs/\" + fnamedb)\n",
    "            figDb.save_database(fullpath)\n",
    "            \n",
    "            #Temp figure\n",
    "            fnamedb = \"restrictFig\" + \"_\" + str(step) + \".gldb\"\n",
    "            fullpath = os.path.join(outputPath + \"gldbs/\" + fnamedb)\n",
    "            figRestrict.save_database(fullpath)\n",
    "        elif figures == 'store':      \n",
    "            fullpath = os.path.join(outputPath + \"gldbs/\")\n",
    "            store.step = step\n",
    "            #Save figures to store\n",
    "            figVisc.save( fullpath + \"Visc\" + str(step).zfill(4))\n",
    "            #figMech.save( fullPath + \"Mech\" + str(step).zfill(4))\n",
    "            figTemp.save( fullpath + \"Temp\"    + str(step).zfill(4))\n",
    "            figSr.save( fullpath + \"Str_rte\"    + str(step).zfill(4))\n",
    "    ################\n",
    "    #Files output\n",
    "    ################ \n",
    "    if (step % files_output == 0):\n",
    "\n",
    "        vel_surface = velocityField.evaluate_global(surface_nodes)\n",
    "        norm_surface_sr = normgradV.evaluate_global(surface_nodes)\n",
    "        if uw.rank() == 0:\n",
    "            fnametemp = \"velsurface\" + \"_\" + str(step)\n",
    "            fullpath = os.path.join(outputPath + \"files/\" + fnametemp)\n",
    "            np.save(fullpath, vel_surface)\n",
    "            fnametemp = \"norm_surface_sr\" + \"_\" + str(step)\n",
    "            fullpath = os.path.join(outputPath + \"files/\" + fnametemp)\n",
    "            np.save(fullpath, norm_surface_sr)\n",
    "            \n",
    "        #Save the slab_seg and tipswarm coords \n",
    "        fnametemp1 = \"midSwarm\" + \"_\" + str(step)\n",
    "        fullpath1 = os.path.join(outputPath + \"files/\" + fnametemp1)\n",
    "        slab_seg.swarm.save(fullpath1)\n",
    "        #tipVar.data[:,:2] = velocityField.evaluate(tipSwarm)\n",
    "        #tipVar.data[:,2:] = xFn.evaluate(tipSwarm)\n",
    "        #tipVar.data[:,3:] = yFn.evaluate(tipSwarm)\n",
    "        #comm.barrier()\n",
    "        #fnametemp2 = \"tipSwarm\" + \"_\" + str(step)\n",
    "        #fullpath2 = os.path.join(outputPath + \"files/\" + fnametemp2)\n",
    "        #tipVar.save('fullpath2')\n",
    "        \n",
    "        \n",
    "    ################\n",
    "    #Update the subduction zone / plate information\n",
    "    ################ \n",
    "    \n",
    "    comm.barrier()\n",
    "    if (step % files_output == 0):\n",
    "        \n",
    "        if uw.rank() == 0:\n",
    "            fnametemp = \"norm_surface_sr\" + \"_\" + str(step) + \".npy\"\n",
    "            fullpath = os.path.join(outputPath + \"files/\" + fnametemp)\n",
    "            ndp.subzone = plate_info(fullpath, MINX, MAXX,  800e3/dp.LS, oldszloc = ndp.subzone)\n",
    "            \n",
    "        else:\n",
    "            ndp.subzone = None\n",
    "        \n",
    "        comm.barrier()    \n",
    "        #send out the updated info for sz location\n",
    "        \n",
    "        ndp.subzone = comm.bcast(ndp.subzone, root=0)\n",
    "\n",
    "        #Has the polarity reversed?\n",
    "\n",
    "        if dp.sense == 'right':\n",
    "            tempop = operator.lt\n",
    "            szoffet *= -1\n",
    "        else:\n",
    "            tempop = operator.gt\n",
    "            \n",
    "        #Update the relevant parts of the material graph\n",
    "        #Remove and rebuild edges related to crust\n",
    "        DG.remove_edges_from([(mantleIndex,crustIndex)])\n",
    "        DG.add_edges_from([(mantleIndex,crustIndex)])\n",
    "        DG.remove_edges_from([(harzIndex,crustIndex)])\n",
    "        DG.add_edges_from([(harzIndex,crustIndex)])\n",
    "\n",
    "        #... to crust\n",
    "        DG.add_transition((mantleIndex,crustIndex), depthFn, operator.lt, 0.5)\n",
    "        DG.add_transition((mantleIndex,crustIndex), xFn, tempop , ndp.subzone) #No crust on the upper plate\n",
    "        DG.add_transition((mantleIndex,crustIndex), ageVariable, operator.gt, 0.2)\n",
    "\n",
    "        DG.add_transition((harzIndex,crustIndex), depthFn, operator.lt, ndp.MANTLETOCRUST)\n",
    "        DG.add_transition((harzIndex,crustIndex), xFn, tempop, ndp.subzone) #This one sets no crust on the upper plate\n",
    "        DG.add_transition((harzIndex,crustIndex), ageVariable, operator.gt, crustageCond)\n",
    "        \n",
    "        comm.barrier()\n",
    "                   \n",
    "        \n",
    "        \n",
    "        \n",
    "    ################\n",
    "    #Particle update\n",
    "    ###############    \n",
    "    #ageVariable.data[:] += dt #increment the ages (is this efficient?)\n",
    "    ageDT += dt\n",
    "    \n",
    "    if step % swarm_update == 0:\n",
    "        #Increment age stuff. \n",
    "        ageConditions = [ (depthFn < ndp.AGETRACKDEPTH, ageVariable + ageDT ),  #add ageDThere\n",
    "                  (True, 0.) ]\n",
    "        ageVariable.data[:] = fn.branching.conditional( ageConditions ).evaluate(gSwarm)        \n",
    "        ageDT = 0. #reset the age incrementer\n",
    "        \n",
    "        #Apply any materialVariable changes\n",
    "        for i in range(2): #go through twice\n",
    "            materialVariable.data[:] = fn.branching.conditional(DG.condition_list).evaluate(gSwarm)\n",
    "        \n",
    "        #Also update any information related to faults / interfaces:\n",
    "        update_swarm_from_faults(surface_seg, proximityVariable, directorVector, signedDistanceVariable)\n",
    "        mask_materials(surface_seg, airIndex, materialVariable, proximityVariable, directorVector, signedDistanceVariable)\n",
    "        \n",
    "        update_swarm_from_faults(fault_seg, proximityVariable, directorVector, signedDistanceVariable)\n",
    "        mask_materials(fault_seg, crustIndex, materialVariable, proximityVariable, directorVector, signedDistanceVariable)\n",
    "        \n",
    "        proximityVariable.data[gSwarm.particleCoordinates.data[:,1]  < (1. - ndp.CRUSTVISCUTOFF)] = 0.\n",
    "        \n",
    "        #And add extra particles to interfaces as necessary\n",
    "        #subduction fault\n",
    "        introPoint = ndp.subzone - abs(ndp.subzone - ndp.lRidge)/2. #half way between ridge and Sz\n",
    "        fault_seg.add_points([introPoint],[MAXY - faultthickness])\n",
    "        #Slab / mid swarm\n",
    "        if dp.sense == 'Right':\n",
    "            introPoint = ndp.lRidge + midthickness #\n",
    "        else:\n",
    "            introPoint = ndp.rRidge - midthickness #\n",
    "        slab_seg.add_points([introPoint],[MAXY - midthickness])\n",
    "\n",
    "        \n",
    "    ################\n",
    "    #Checkpoint\n",
    "    ################\n",
    "    if step % checkpoint_every == 0:\n",
    "        if uw.rank() == 0:\n",
    "            checkpoint1(step, checkpointPath,f_o, metric_output)           \n",
    "        checkpoint2(step, checkpointPath, gSwarm, f_o, varlist = varlist, varnames = varnames)\n",
    "        checkpoint3(step,  checkpointPath, interfaces,interfacenames )\n",
    "        f_o = open(os.path.join(outputPath, outputFile), 'a') #is this line supposed to be here?        \n",
    "    \n",
    "f_o.close()\n",
    "print 'step =',step"
   ]
  },
  {
   "cell_type": "code",
   "execution_count": null,
   "metadata": {
    "collapsed": false
   },
   "outputs": [],
   "source": [
    "#viscVariable = gSwarm.add_variable( dataType=\"float\", count=1 )\n",
    "#viscVariable.data[:] = viscosityMapFn.evaluate(gSwarm)\n",
    "\n",
    "#buoyVariable = gSwarm.add_variable( dataType=\"float\", count=1 )\n",
    "#buoyVariable.data[:] = densityMapFn.evaluate(gSwarm)"
   ]
  },
  {
   "cell_type": "code",
   "execution_count": null,
   "metadata": {
    "collapsed": false
   },
   "outputs": [],
   "source": [
    "#fig= glucifer.Figure()\n",
    "#fig.append( glucifer.objects.Points(gSwarm,ageVariable))\n",
    "#fig.append( glucifer.objects.Points(gSwarm, viscosityMapFn, logScale=True, valueRange =[1e-3,1e5]))\n",
    "\n",
    "#fig.append( glucifer.objects.Surface(mesh, strainRate_2ndInvariant, logScale=True, valueRange =[1e-3,1e5] ))\n",
    "#fig.append( glucifer.objects.VectorArrows(mesh,velocityField, scaling=0.002))\n",
    "#fig.append( glucifer.objects.Surface(mesh,densityMapFn))\n",
    "#fig.append( glucifer.objects.Surface(mesh,raylieghFn))\n",
    "\n",
    "#fig.show()\n",
    "#fig.save_database('test.gldb')"
   ]
  },
  {
   "cell_type": "code",
   "execution_count": null,
   "metadata": {
    "collapsed": false
   },
   "outputs": [],
   "source": [
    "#print('proc #' + str(comm.rank) + \" \" + str(Max_vx_surf ) )\n",
    "#if uw.rank()==0:\n",
    "#    print('Proc 0' +  \" \" + str(Max_vx_surf ) )"
   ]
  },
  {
   "cell_type": "code",
   "execution_count": null,
   "metadata": {
    "collapsed": true
   },
   "outputs": [],
   "source": [
    "figDb.save_database('test.gldb')"
   ]
  },
  {
   "cell_type": "code",
   "execution_count": null,
   "metadata": {
    "collapsed": true
   },
   "outputs": [],
   "source": []
  }
 ],
 "metadata": {
  "kernelspec": {
   "display_name": "Python 2",
   "language": "python",
   "name": "python2"
  },
  "language_info": {
   "codemirror_mode": {
    "name": "ipython",
    "version": 2
   },
   "file_extension": ".py",
   "mimetype": "text/x-python",
   "name": "python",
   "nbconvert_exporter": "python",
   "pygments_lexer": "ipython2",
   "version": "2.7.9"
  },
  "widgets": {
   "state": {},
   "version": "1.1.2"
  }
 },
 "nbformat": 4,
 "nbformat_minor": 0
}
