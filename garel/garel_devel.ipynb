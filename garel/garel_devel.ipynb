{
 "cells": [
  {
   "cell_type": "markdown",
   "metadata": {},
   "source": [
    "## Composite, non-linear rheology:\n",
    "\n",
    "\n",
    "The viscous rheology in this model is similar to the Garel et al paper cited below. Other parts of the model setup are similar to Čížková and Bina (2015), Arredondo and Billen (2016) and Korenaga (2011). \n",
    "\n",
    "Here we use a dimensionless system. For the psuedo-plastic effective rheology a Drucker-prager model is used.\n",
    "\n",
    "\n",
    "**Keywords:** subduction, composite rheology, dislocation creep\n",
    "\n",
    "\n",
    "**References:**\n",
    "\n",
    "\n",
    "Garel, Fanny, et al. \"Interaction of subducted slabs with the mantle transition‐zone: A regime diagram from 2‐D thermo‐mechanical models with a mobile trench and an overriding plate.\" Geochemistry, Geophysics, Geosystems 15.5 (2014): 1739-1765.\n",
    "\n",
    "Čížková, Hana, and Craig R. Bina. \"Geodynamics of trench advance: Insights from a Philippine-Sea-style geometry.\" Earth and Planetary Science Letters 430 (2015): 408-415.\n",
    "\n",
    "Arredondo, Katrina M., and Magali I. Billen. \"The Effects of Phase Transitions and Compositional Layering in Two-dimensional Kinematic Models of Subduction.\" Journal of Geodynamics (2016).\n"
   ]
  },
  {
   "cell_type": "code",
   "execution_count": 1,
   "metadata": {
    "collapsed": false
   },
   "outputs": [
    {
     "name": "stderr",
     "output_type": "stream",
     "text": [
      "/root/underworld2/unsupported/interfaces/__init__.py:9: UserWarning: \n",
      "\n",
      "The interface module is not supported.\n",
      "Questions should be addressed to louis.moresi@unimelb.edu.au \n",
      " \n",
      "  Questions should be addressed to louis.moresi@unimelb.edu.au \\n \"\"\"\n"
     ]
    }
   ],
   "source": [
    "import numpy as np\n",
    "import underworld as uw\n",
    "import math\n",
    "from underworld import function as fn\n",
    "import glucifer\n",
    "\n",
    "import os\n",
    "import sys\n",
    "import natsort\n",
    "import shutil\n",
    "from easydict import EasyDict as edict\n",
    "import operator\n",
    "import pint\n",
    "import time\n",
    "import operator\n",
    "from slippy2 import boundary_layer2d\n",
    "from slippy2 import material_graph\n",
    "from slippy2 import spmesh\n",
    "from slippy2 import phase_function\n",
    "from unsupported.interfaces import markerLine2D\n",
    "\n",
    "\n",
    "from mpi4py import MPI\n",
    "comm = MPI.COMM_WORLD\n",
    "rank = comm.Get_rank()"
   ]
  },
  {
   "cell_type": "code",
   "execution_count": 2,
   "metadata": {
    "collapsed": false
   },
   "outputs": [],
   "source": [
    "#####\n",
    "#Stubborn version number conflicts - need to figure out my Docker container runs an old version. For now...\n",
    "#####\n",
    "try:\n",
    "    natsort.natsort = natsort.natsorted\n",
    "except:\n",
    "    natsort.natsort = natsort.natsort"
   ]
  },
  {
   "cell_type": "code",
   "execution_count": null,
   "metadata": {
    "collapsed": true
   },
   "outputs": [],
   "source": []
  },
  {
   "cell_type": "code",
   "execution_count": 3,
   "metadata": {
    "collapsed": false
   },
   "outputs": [],
   "source": [
    "#store = glucifer.Store('subduction')\n",
    "#figParticle = glucifer.Figure( store, figsize=(960,300), name=\"Particles\" )\n",
    "\n",
    "#figParticle.save_database('test.gldb')"
   ]
  },
  {
   "cell_type": "markdown",
   "metadata": {},
   "source": [
    "Model name and directories\n",
    "-----"
   ]
  },
  {
   "cell_type": "code",
   "execution_count": 4,
   "metadata": {
    "collapsed": true
   },
   "outputs": [],
   "source": [
    "############\n",
    "#Model letter and number\n",
    "############\n",
    "\n",
    "\n",
    "#Model letter identifier default\n",
    "Model = \"T\"\n",
    "\n",
    "#Model number identifier default:\n",
    "ModNum = 0\n",
    "\n",
    "#Any isolated letter / integer command line args are interpreted as Model/ModelNum\n",
    "\n",
    "if len(sys.argv) == 1:\n",
    "    ModNum = ModNum \n",
    "elif sys.argv[1] == '-f': #\n",
    "    ModNum = ModNum \n",
    "else:\n",
    "    for farg in sys.argv[1:]:\n",
    "        if not '=' in farg: #then Assume it's a not a paramter argument\n",
    "            try:\n",
    "                ModNum = int(farg) #try to convert everingthing to a float, else remains string\n",
    "            except ValueError:\n",
    "                Model  = farg"
   ]
  },
  {
   "cell_type": "code",
   "execution_count": 5,
   "metadata": {
    "collapsed": false
   },
   "outputs": [],
   "source": [
    "###########\n",
    "#Standard output directory setup\n",
    "###########\n",
    "\n",
    "\n",
    "outputPath = \"results\" + \"/\" +  str(Model) + \"/\" + str(ModNum) + \"/\" \n",
    "imagePath = outputPath + 'images/'\n",
    "filePath = outputPath + 'files/'\n",
    "checkpointPath = outputPath + 'checkpoint/'\n",
    "dbPath = outputPath + 'gldbs/'\n",
    "outputFile = 'results_model' + Model + '_' + str(ModNum) + '.dat'\n",
    "\n",
    "if uw.rank()==0:\n",
    "    # make directories if they don't exist\n",
    "    if not os.path.isdir(outputPath):\n",
    "        os.makedirs(outputPath)\n",
    "    if not os.path.isdir(checkpointPath):\n",
    "        os.makedirs(checkpointPath)\n",
    "    if not os.path.isdir(imagePath):\n",
    "        os.makedirs(imagePath)\n",
    "    if not os.path.isdir(dbPath):\n",
    "        os.makedirs(dbPath)\n",
    "    if not os.path.isdir(filePath):\n",
    "        os.makedirs(filePath)\n",
    "        \n",
    "comm.Barrier() #Barrier here so no procs run the check in the next cell too early"
   ]
  },
  {
   "cell_type": "code",
   "execution_count": 6,
   "metadata": {
    "collapsed": false
   },
   "outputs": [
    {
     "name": "stdout",
     "output_type": "stream",
     "text": [
      "results/T/0/checkpoint/ is empty\n"
     ]
    }
   ],
   "source": [
    "###########\n",
    "#Check if starting from checkpoint\n",
    "###########\n",
    "\n",
    "checkdirs = []\n",
    "for dirpath, dirnames, files in os.walk(checkpointPath):\n",
    "    if files:\n",
    "        print dirpath, 'has files'\n",
    "        checkpointLoad = True\n",
    "        checkdirs.append(dirpath)\n",
    "    if not files:\n",
    "        print dirpath, 'is empty'\n",
    "        checkpointLoad = False"
   ]
  },
  {
   "cell_type": "code",
   "execution_count": 7,
   "metadata": {
    "collapsed": true
   },
   "outputs": [],
   "source": [
    "# setup summary output file (name above)\n",
    "if checkpointLoad:\n",
    "    checkpointLoadDir = natsort.natsort(checkdirs)[-1]\n",
    "    if uw.rank() == 0:\n",
    "        shutil.copyfile(os.path.join(checkpointLoadDir, outputFile), outputPath+outputFile)\n",
    "    comm.Barrier()\n",
    "    f_o = open(os.path.join(outputPath, outputFile), 'a')\n",
    "    prevdata = np.genfromtxt(os.path.join(outputPath, outputFile), skip_header=0, skip_footer=0)\n",
    "    if len(prevdata.shape) == 1: #this is in case there is only one line in previous file\n",
    "        realtime = prevdata[-1]  #This corresponds to the column you write time data to\n",
    "    else:\n",
    "        realtime = prevdata[prevdata.shape[0]-1, -1]\n",
    "    step = int(checkpointLoadDir.split('/')[-1])\n",
    "    timevals = [0.]\n",
    "else:\n",
    "    f_o = open(outputPath+outputFile, 'w')\n",
    "    realtime = 0.\n",
    "    step = 0\n",
    "    timevals = [0.]"
   ]
  },
  {
   "cell_type": "markdown",
   "metadata": {},
   "source": [
    "Setup parameters\n",
    "-----\n",
    "\n",
    "Set simulation parameters for test."
   ]
  },
  {
   "cell_type": "markdown",
   "metadata": {},
   "source": [
    "**Use pint to setup any unit conversions we'll need**"
   ]
  },
  {
   "cell_type": "code",
   "execution_count": 8,
   "metadata": {
    "collapsed": false
   },
   "outputs": [
    {
     "data": {
      "text/html": [
       "10000.0 meter/megayear"
      ],
      "text/latex": [
       "$10000.0 \\frac{meter}{megayear}$"
      ],
      "text/plain": [
       "<Quantity(10000.0, 'meter / megayear')>"
      ]
     },
     "execution_count": 8,
     "metadata": {},
     "output_type": "execute_result"
    }
   ],
   "source": [
    "u = pint.UnitRegistry()\n",
    "cmpery = 1.*u.cm/u.year\n",
    "mpermy = 1.*u.m/u.megayear\n",
    "year = 1.*u.year\n",
    "spery = year.to(u.sec)\n",
    "cmpery.to(mpermy)"
   ]
  },
  {
   "cell_type": "code",
   "execution_count": 9,
   "metadata": {
    "collapsed": false
   },
   "outputs": [
    {
     "name": "stdout",
     "output_type": "stream",
     "text": [
      "(0.04, 1.2675505856327397e-11)\n"
     ]
    }
   ],
   "source": [
    "box_half_width =4000e3\n",
    "age_at_trench = 100e6\n",
    "cmperyear = box_half_width / age_at_trench #m/y\n",
    "mpersec = cmperyear*(cmpery.to(u.m/u.second)).magnitude #m/sec\n",
    "print(cmperyear, mpersec )"
   ]
  },
  {
   "cell_type": "markdown",
   "metadata": {},
   "source": [
    "**Set parameter dictionaries**\n",
    "\n",
    "* Parameters are stored in dictionaries. \n",
    "* If starting from checkpoint, parameters are loaded using pickle\n",
    "* If params are passed in as flags to the script, they overwrite "
   ]
  },
  {
   "cell_type": "code",
   "execution_count": 10,
   "metadata": {
    "collapsed": true
   },
   "outputs": [],
   "source": [
    "###########\n",
    "#Parameter / settings dictionaries get saved&loaded using pickle\n",
    "###########\n",
    " \n",
    "dp = edict({}) #dimensional parameters\n",
    "sf = edict({}) #scaling factors\n",
    "ndp = edict({}) #dimensionless paramters\n",
    "md = edict({}) #model paramters, flags etc\n",
    "#od = edict({}) #output frequencies\n"
   ]
  },
  {
   "cell_type": "code",
   "execution_count": 11,
   "metadata": {
    "collapsed": true
   },
   "outputs": [],
   "source": [
    "dict_list = [dp, sf, ndp, md]\n",
    "dict_names = ['dp.pkl', 'sf.pkl', 'ndp.pkl', 'md.pkl']\n",
    "\n",
    "def save_pickles(dict_list, dict_names, dictPath):\n",
    "    import pickle\n",
    "    counter = 0\n",
    "    for pdict in dict_list:\n",
    "        myfile = os.path.join(dictPath, dict_names[counter])\n",
    "        with open(myfile, 'wb') as f:\n",
    "            pickle.dump(pdict, f)\n",
    "        counter+=1\n",
    "\n",
    "\n",
    "#ended up having to pretty much write a hard-coded function\n",
    "#All dictionaries we want checkpointed will have to  be added here \n",
    "#and where the function is called\n",
    "#Fortunately, this function is only called ONCE\n",
    "\n",
    "def load_pickles():\n",
    "    import pickle\n",
    "    dirpath = os.path.join(checkpointPath, str(step))\n",
    "    dpfile = open(os.path.join(dirpath, 'dp.pkl'), 'r')\n",
    "    dp = pickle.load(dpfile)\n",
    "#    #\n",
    "    ndpfile = open(os.path.join(dirpath, 'ndp.pkl'), 'r')\n",
    "    ndp = edict(pickle.load(ndpfile))\n",
    "    #\n",
    "    sffile = open(os.path.join(dirpath, 'sf.pkl'), 'r')\n",
    "    sf = edict(pickle.load(sffile))\n",
    "    #\n",
    "    mdfile = open(os.path.join(dirpath, 'md.pkl'), 'r')\n",
    "    md = edict(pickle.load(mdfile))\n",
    "    return dp, ndp, sf, md"
   ]
  },
  {
   "cell_type": "code",
   "execution_count": 12,
   "metadata": {
    "collapsed": false
   },
   "outputs": [
    {
     "data": {
      "text/plain": [
       "102.0"
      ]
     },
     "execution_count": 12,
     "metadata": {},
     "output_type": "execute_result"
    }
   ],
   "source": [
    "1.7*60."
   ]
  },
  {
   "cell_type": "code",
   "execution_count": 13,
   "metadata": {
    "collapsed": false
   },
   "outputs": [],
   "source": [
    "###########\n",
    "#Store the physical parameters, scale factors and dimensionless pramters in easyDicts\n",
    "#Mainly helps with avoiding overwriting variables\n",
    "###########\n",
    "\n",
    "\n",
    "#Style => parameters_like_this\n",
    "\n",
    "dp = edict({#Main physical paramters\n",
    "           'depth':2*660.*1e3, #Depth\n",
    "           'LS':2900.*1e3, #Length scale\n",
    "           'rho':3300.,  #reference density\n",
    "           'g':9.8, #surface gravity\n",
    "           'eta0':1e20, #Dislocation creep at 250 km, 1573 K, 1e-15 s-1 \n",
    "           'k':1e-6, #thermal diffusivity\n",
    "           'a':3e-5, #surface thermal expansivity\n",
    "           'R':8.314, #gas constant\n",
    "           'Cp':1250., #Specific heat (Jkg-1K-1)\n",
    "           'TP':1573., #mantle potential temp (K)\n",
    "           'TS':273., #surface temp (K)\n",
    "            #Rheology - flow law paramters\n",
    "           'cm':2e6, #mantle cohesion in Byerlee law\n",
    "           'cc':2e6, #mantle cohesion in Byerlee law\n",
    "           'ci':2e6, #mantle cohesion in Byerlee law\n",
    "           'cf':2e6, #mantle cohesion in Byerlee law\n",
    "           'fcm':0.2,   #mantle friction coefficient in Byerlee law (tan(phi))\n",
    "           'fcc':0.02,   #crust friction coefficient \n",
    "           'fci':0.02,   #subduction interface friction coefficient\n",
    "           'fcf':0.03,   #subduction interface friction coefficient\n",
    "           'Adf':3e-11, #pre-exp factor for diffusion creep\n",
    "           'Ads':5e-16, #pre-exp factor for dislocation creep\n",
    "           'Apr':1e-150,#pre-exp factor for Peierls creep\n",
    "           'Edf':3e5,\n",
    "           'Eds':5.4e5,\n",
    "           'Epr':5.4e5,\n",
    "           'Vdf':4e-6,\n",
    "           'Vds':12e-6,\n",
    "           'Vpr':10e-6,\n",
    "           'Alm':2e-17,\n",
    "           'Elm':2.0e5,\n",
    "           'Vlm':1.5e-6,\n",
    "           'SR':1e-15, #reference strain rate\n",
    "           'n':3.5, #Dislocation creep stress exponent\n",
    "           'np':20., #Peierls creep stress exponent \n",
    "           #Rheology - cutoff values\n",
    "           'eta_min':1e18, \n",
    "           'eta_max':1e25, #viscosity max in the mantle material\n",
    "           'eta_min_crust':1e18, #viscosity min in the weak-crust material\n",
    "           'eta_max_crust':1e20, #viscosity max in the weak-crust material\n",
    "           'eta_min_interface':1e18, #viscosity min in the subduction interface material\n",
    "           'eta_max_interface':1e20, #viscosity max in the subduction interface material\n",
    "           'eta_min_fault':1e20, #viscosity min in the subduction interface material\n",
    "           'eta_max_fault':1e20, #viscosity max in the subduction interface material\n",
    "           'ysMax':10000*1e6, #10 GPa\n",
    "           #Length scales\n",
    "           'MANTLETOCRUST':8.*1e3, #Crust depth\n",
    "           'HARZBURGDEPTH':40e3,\n",
    "           'CRUSTTOMANTLE':800.*1e3,\n",
    "           'LITHTOMANTLE':(900.*1e3),\n",
    "           'MANTLETOLITH':200.*1e3, \n",
    "           'TOPOHEIGHT':10.*1e3,  #rock-air topography limits\n",
    "           'CRUSTTOECL':100.*1e3,\n",
    "           'LOWMANTLEDEPTH':660.*1e3, \n",
    "           'CRUSTVISCUTOFF':250.*1e3, #Deeper than this, crust material rheology reverts to mantle rheology\n",
    "           'AGETRACKDEPTH':100e3, #above this depth we track the age of the lithsphere (below age is assumed zero)\n",
    "           #Slab and plate parameters\n",
    "           'roc':250e3,     #radius of curvature of slab\n",
    "           'subzone':0.0,   #X position of subduction zone...km\n",
    "           'lRidge':-1.*(5000e3),  #For depth = 670 km, aspect ratio of 4, this puts the ridges at MINX, MAXX\n",
    "           'rRidge':(5000e3),\n",
    "           'maxDepth':200e3,\n",
    "           'theta':70., #Angle to truncate the slab (can also control with a maxDepth param)\n",
    "           'slabmaxAge':100e6, #age of subduction plate at trench\n",
    "           'platemaxAge':100e6, #max age of slab (Plate model)\n",
    "           'sense':'Right', #dip direction\n",
    "           'op_age_fac':0.2, #this controls the overidding plate age reduction\n",
    "           #Misc\n",
    "           'rDepth':250e3, #reference depth (used to scale / normalize the flow laws)\n",
    "           'StALS':100e3, #depth of sticky air layer\n",
    "           'Steta_n':1e19, #stick air viscosity, normal\n",
    "           'Steta_s':1e18, #stick air viscosity, shear \n",
    "           'plate_vel':4,\n",
    "           'low_mantle_visc_fac':1.\n",
    "             })\n",
    "\n",
    "#append any derived parameters to the dictionary\n",
    "#Adiabatic heating stuff\n",
    "\n",
    "#dp.dTa = (dp.a*dp.g*(dp.TP))/dp.Cp #adibatic gradient, at Tp\n",
    "dp.dTa = 0.0005 #adibatic gradient, upper mantle value used in Garel et al. \n",
    "\n",
    "dp.deltaTa = (dp.TP + dp.dTa*dp.LS) - dp.TS  #Adiabatic Temp at base of mantle, minus Ts\n",
    "\n",
    "dp.rTemp= dp.TP + dp.rDepth*dp.dTa #reference temp, (potential temp + adiabat)\n"
   ]
  },
  {
   "cell_type": "code",
   "execution_count": 14,
   "metadata": {
    "collapsed": false
   },
   "outputs": [],
   "source": [
    "#Modelling and Physics switches\n",
    "\n",
    "md = edict({'refineMesh':True,\n",
    "            'stickyAir':False,\n",
    "            'subductionFault':False,\n",
    "            'symmetricIcs':False,\n",
    "            'velBcs':False,\n",
    "            'aspectRatio':6., # (aspect ratio of 6.897, i.e preserves width when half mantle depth is used\n",
    "            'compBuoyancy':False, #use compositional & phase buoyancy, or simply thermal\n",
    "            'periodicBcs':False,\n",
    "            'RES':48,\n",
    "            'PIC_integration':True,\n",
    "            'ppc':25,\n",
    "            'elementType':\"Q1/dQ0\",\n",
    "            #'elementType':\"Q2/DPC1\",\n",
    "            'compBuoyancy':False, #use compositional & phase buoyancy, or simply thermal\n",
    "            'viscMechs':['diffusion', 'dislocation', 'peierls', 'yielding'],\n",
    "            'viscCombine':'harmonic', #'harmonic', 'min', 'mixed'....\n",
    "            'secInvFac':math.sqrt(1.),\n",
    "            'courantFac':0.5 #extra limitation on timestepping\n",
    "            })"
   ]
  },
  {
   "cell_type": "code",
   "execution_count": 15,
   "metadata": {
    "collapsed": true
   },
   "outputs": [],
   "source": [
    "###########\n",
    "#If starting from a checkpoint load params from file\n",
    "###########\n",
    "\n",
    "if checkpointLoad:\n",
    "    dp, ndp, sf, md = load_pickles()  #remember to add any extra dictionaries"
   ]
  },
  {
   "cell_type": "code",
   "execution_count": 16,
   "metadata": {
    "collapsed": true
   },
   "outputs": [],
   "source": [
    "###########\n",
    "#If command line args are given, overwrite\n",
    "#Note that this assumes that params as commans line args/\n",
    "#only append to the 'dimensional' and 'model' dictionary (not the non-dimensional)\n",
    "###########    \n",
    "\n",
    "\n",
    "###########\n",
    "#If extra arguments are provided to the script\" eg:\n",
    "### >>> uw.py 2 dp.arg1=1 dp.arg2=foo dp.arg3=3.0\n",
    "###\n",
    "###This would assign ModNum = 2, all other values go into the dp dictionary, under key names provided\n",
    "###\n",
    "###Two operators are searched for, = & *=\n",
    "###\n",
    "###If =, parameter is re-assigned to givn value\n",
    "###If *=, parameter is multipled by given value\n",
    "###\n",
    "### >>> uw.py 2 dp.arg1=1 dp.arg2=foo dp.arg3*=3.0\n",
    "###########\n",
    "\n",
    "for farg in sys.argv[1:]:\n",
    "    try:\n",
    "        (dicitem,val) = farg.split(\"=\") #Split on equals operator\n",
    "        (dic,arg) = dicitem.split(\".\") #colon notation\n",
    "        if '*=' in farg:\n",
    "            (dicitem,val) = farg.split(\"*=\") #If in-place multiplication, split on '*='\n",
    "            (dic,arg) = dicitem.split(\".\")\n",
    "            \n",
    "        if val == 'True': \n",
    "            val = True\n",
    "        elif val == 'False':     #First check if args are boolean\n",
    "            val = False\n",
    "        else:\n",
    "            try:\n",
    "                val = float(val) #next try to convert  to a float,\n",
    "            except ValueError:\n",
    "                pass             #otherwise leave as string\n",
    "        #Update the dictionary\n",
    "        if farg.startswith('dp'):\n",
    "            if '*=' in farg:\n",
    "                dp[arg] = dp[arg]*val #multiply parameter by given factor\n",
    "            else:\n",
    "                dp[arg] = val    #or reassign parameter by given value\n",
    "        if farg.startswith('md'):\n",
    "            if '*=' in farg:\n",
    "                md[arg] = md[arg]*val #multiply parameter by given factor\n",
    "            else:\n",
    "                md[arg] = val    #or reassign parameter by given value\n",
    "                \n",
    "    except:\n",
    "        pass\n",
    "            \n",
    "\n",
    "comm.barrier()"
   ]
  },
  {
   "cell_type": "code",
   "execution_count": 17,
   "metadata": {
    "collapsed": false
   },
   "outputs": [
    {
     "data": {
      "text/plain": [
       "2750.0"
      ]
     },
     "execution_count": 17,
     "metadata": {},
     "output_type": "execute_result"
    }
   ],
   "source": [
    "dp.deltaTa"
   ]
  },
  {
   "cell_type": "code",
   "execution_count": 18,
   "metadata": {
    "collapsed": false
   },
   "outputs": [],
   "source": [
    "if not checkpointLoad:\n",
    "    \n",
    "    #Scaling factors, used to map the dimensional parameters to dimensionless\n",
    "    \n",
    "    sf = edict({'stress':dp.LS**2/(dp.k*dp.eta0),\n",
    "            'lith_grad':dp.rho*dp.g*(dp.LS)**3/(dp.eta0*dp.k) ,\n",
    "            'vel':dp.LS/dp.k,\n",
    "            'SR':dp.LS**2/dp.k,\n",
    "            'W':(dp.rho*dp.g*dp.LS)/(dp.R*dp.deltaTa), #Including adiabatic compression, and deltaTa\n",
    "            'E': 1./(dp.R*dp.deltaTa), #using deltaTa, the guesstimated adiabatic temp differnnce to scale these paramters\n",
    "            'Ads':1./((dp.eta0**(-1.*dp.n))*(dp.k**(1. - dp.n))*(dp.LS**(-2.+ (2.*dp.n)))),\n",
    "            'Adf':dp.eta0,\n",
    "            'Apr':2.6845783276046923e+40 #same form as Ads, but ndp.np =20. (hardcoded because numbers are too big)\n",
    "                \n",
    "\n",
    "           })\n",
    "    \n",
    "     #dimensionless parameters\n",
    "    ndp = edict({'RA':(dp.g*dp.rho*dp.a*dp.deltaTa*(dp.LS)**3)/(dp.k*dp.eta0),\n",
    "             'Di': dp.a*dp.g*dp.LS/dp.Cp, #Dissipation number\n",
    "             'H':0.,\n",
    "             #Temperatures and reference depth\n",
    "             'TSP':0., #dimensionless potential temp\n",
    "             'TPP':(dp.TP - dp.TS)/dp.deltaTa, #dimensionless potential temp\n",
    "             'TS':dp.TS/dp.deltaTa,\n",
    "             'TP':dp.TP/dp.deltaTa,\n",
    "             'rTemp':(dp.rTemp- dp.TS)/dp.deltaTa,\n",
    "             'rDepth':dp.rDepth/dp.LS,\n",
    "              #Rheology - flow law paramters  \n",
    "             'Ads':dp.Ads*sf.Ads,\n",
    "             'Adf':dp.Adf*sf.Adf,\n",
    "             'Apr':dp.Apr*sf.Apr,\n",
    "             'Alm':dp.Alm*sf.Adf,\n",
    "             'Wdf':dp.Vdf*sf.W,\n",
    "             'Edf':dp.Edf*sf.E,\n",
    "             'Wps':dp.Vpr*sf.W,\n",
    "             'Eps':dp.Epr*sf.E,\n",
    "             'Wds':dp.Vds*sf.W,      #{df  => diffusion creep}\n",
    "             'Eds':dp.Eds*sf.E,      #{ds  => dislocation creep}\n",
    "             'Elm':dp.Elm*sf.E,      #{pr  => Peierls creep}\n",
    "             'Elm':dp.Elm*sf.E,\n",
    "             'Wlm':dp.Vlm*sf.W,\n",
    "             'cm':dp.cm*sf.stress,\n",
    "             'cc':dp.cc*sf.stress,    #{dimensionless cohesion in mantl, crust, interface}\n",
    "             'ci':dp.ci*sf.stress,\n",
    "             'cf':dp.cf*sf.stress,\n",
    "             'fcmd':dp.fcm*sf.lith_grad, \n",
    "             'fccd':dp.fcc*sf.lith_grad, #{dimensionless friction coefficient in mantle, crust, interface}\n",
    "             'fcid':dp.fci*sf.lith_grad,\n",
    "             'fcfd':dp.fci*sf.lith_grad,\n",
    "             'n':dp.n, #Dislocation creep stress exponent\n",
    "             'np':dp.np, #Peierls creep stress exponent \n",
    "             #Rheology - cutoff values\n",
    "             'eta_min':dp.eta_min/dp.eta0, \n",
    "             'eta_max':dp.eta_max/dp.eta0, #viscosity max in the mantle material\n",
    "             'eta_min_crust':dp.eta_min_crust/dp.eta0, #viscosity min in the weak-crust material\n",
    "             'eta_max_crust':dp.eta_max_crust/dp.eta0, #viscosity max in the weak-crust material\n",
    "             'eta_min_interface':dp.eta_min_interface/dp.eta0, #viscosity min in the subduction interface material\n",
    "             'eta_max_interface':dp.eta_max_interface/dp.eta0, #viscosity max in the subduction interface material\n",
    "             'eta_min_fault':dp.eta_min_fault/dp.eta0, #viscosity min in the subduction interface material\n",
    "             'eta_max_fault':dp.eta_max_fault/dp.eta0, #viscosity max in the subduction interface material\n",
    "             'ysMax':dp.ysMax*sf.stress,\n",
    "             #Lengths scales\n",
    "             'MANTLETOCRUST':dp.MANTLETOCRUST/dp.LS, #Crust depth\n",
    "             'HARZBURGDEPTH':dp.HARZBURGDEPTH/dp.LS,\n",
    "             'CRUSTTOMANTLE':dp.CRUSTTOMANTLE/dp.LS,\n",
    "             'LITHTOMANTLE':dp.LITHTOMANTLE/dp.LS,\n",
    "             'MANTLETOLITH':dp.MANTLETOLITH/dp.LS,\n",
    "             'TOPOHEIGHT':dp.TOPOHEIGHT/dp.LS,  #rock-air topography limits\n",
    "             'CRUSTTOECL':dp.CRUSTTOECL/dp.LS,\n",
    "             'LOWMANTLEDEPTH':dp.LOWMANTLEDEPTH/dp.LS, \n",
    "             'CRUSTVISCUTOFF':dp.CRUSTVISCUTOFF/dp.LS, #Deeper than this, crust material rheology reverts to mantle rheology\n",
    "             'AGETRACKDEPTH':dp.AGETRACKDEPTH/dp.LS,\n",
    "             #Slab and plate parameters\n",
    "             'roc':dp.roc/dp.LS,         #radius of curvature of slab\n",
    "             'subzone':dp.subzone/dp.LS, #X position of subduction zone...km\n",
    "             'lRidge':dp.lRidge/dp.LS,   #For depth = 670 km, aspect ratio of 4, this puts the ridges at MINX, MAXX\n",
    "             'rRidge':dp.rRidge/dp.LS,\n",
    "             'maxDepth':dp.maxDepth/dp.LS,\n",
    "             #Misc\n",
    "             'Steta_n':dp.Steta_n/dp.eta0, #stick air viscosity, normal\n",
    "             'Steta_s':dp.Steta_n/dp.eta0, #stick air viscosity, shear \n",
    "             'StALS':dp.StALS/dp.LS,\n",
    "             'plate_vel':sf.vel*dp.plate_vel*(cmpery.to(u.m/u.second)).magnitude,\n",
    "             'low_mantle_visc_fac':dp.low_mantle_visc_fac\n",
    "            })\n",
    "\n",
    "    #Append any more derived paramters\n",
    "    ndp.SR = dp.SR*sf.SR #characteristic strain rate\n",
    "    ndp.StRA = (3300.*dp.g*(dp.LS)**3)/(dp.eta0 *dp.k) #Composisitional Rayleigh number for rock-air buoyancy force\n",
    "    ndp.TaP = 1. - ndp.TPP,  #Dimensionles adiabtic component of deltaT"
   ]
  },
  {
   "cell_type": "code",
   "execution_count": 19,
   "metadata": {
    "collapsed": false
   },
   "outputs": [
    {
     "data": {
      "text/plain": [
       "0.572"
      ]
     },
     "execution_count": 19,
     "metadata": {},
     "output_type": "execute_result"
    }
   ],
   "source": [
    "#print(ndp.Ads, ndp.Adf, ndp.Apr, ndp.Alm)\n",
    "dp.TP/dp.deltaTa"
   ]
  },
  {
   "cell_type": "markdown",
   "metadata": {},
   "source": [
    "### Metric output"
   ]
  },
  {
   "cell_type": "code",
   "execution_count": 20,
   "metadata": {
    "collapsed": true
   },
   "outputs": [],
   "source": [
    "\n",
    "figures =  'store' #glucifer Store won't work on all machines, if not, set to 'gldb' \n",
    "swarm_repop, swarm_update = 10, 10\n",
    "gldbs_output = 100\n",
    "checkpoint_every, files_output = 100, 50 #checkpoint every needs to be greater or equal to metric_output \n",
    "metric_output = 50\n",
    "sticky_air_temp = 1e6"
   ]
  },
  {
   "cell_type": "markdown",
   "metadata": {},
   "source": [
    "### Model/ mesh  setup parameters"
   ]
  },
  {
   "cell_type": "code",
   "execution_count": 21,
   "metadata": {
    "collapsed": false
   },
   "outputs": [],
   "source": [
    "###########\n",
    "#Model setup parameters\n",
    "###########\n",
    "\n",
    "dim = 2          # number of spatial dimensions\n",
    "\n",
    "\n",
    "#Domain and Mesh paramters\n",
    "Xres = int(md.RES*8)   #more than twice the resolution in X-dim, which will be 'corrected' by the refinement we'll use in Y\n",
    "\n",
    "\n",
    "\n",
    "MINY = 1. - (dp.depth/dp.LS)\n",
    "if md.stickyAir:\n",
    "    Yres = int(md.RES)\n",
    "    MAXY = 1. + dp.StALS/dp.LS #150km\n",
    "    \n",
    "else:\n",
    "    Yres = int(md.RES)\n",
    "    MAXY = 1.\n",
    "\n",
    "\n",
    "periodic = [False, False]\n",
    "if md.periodicBcs:\n",
    "    periodic = [True, False]\n",
    "    \n",
    "    \n",
    "hw = np.round(0.5*(dp.depth/dp.LS)*md.aspectRatio, 1)\n",
    "MINX = -1.*hw\n",
    "\n",
    "MAXX = hw\n",
    "MAXY = 1.\n",
    "\n",
    "\n",
    "\n"
   ]
  },
  {
   "cell_type": "code",
   "execution_count": 22,
   "metadata": {
    "collapsed": false
   },
   "outputs": [],
   "source": [
    "mesh = uw.mesh.FeMesh_Cartesian( elementType = (md.elementType),\n",
    "                                 elementRes  = (Xres, Yres), \n",
    "                                 minCoord    = (MINX, MINY), \n",
    "                                 maxCoord    = (MAXX, MAXY), periodic=periodic)\n",
    "\n",
    "velocityField       = uw.mesh.MeshVariable( mesh=mesh,         nodeDofCount=2 )\n",
    "pressureField       = uw.mesh.MeshVariable( mesh=mesh.subMesh, nodeDofCount=1 )\n",
    "temperatureField    = uw.mesh.MeshVariable( mesh=mesh,         nodeDofCount=1 )\n",
    "temperatureDotField = uw.mesh.MeshVariable( mesh=mesh,         nodeDofCount=1 )"
   ]
  },
  {
   "cell_type": "code",
   "execution_count": 23,
   "metadata": {
    "collapsed": true
   },
   "outputs": [],
   "source": [
    "coordinate = fn.input()\n",
    "depthFn = 1. - coordinate[1] #a function providing the depth\n",
    "xFn = coordinate[0]  #a function providing the x-coordinate\n",
    "yFn = coordinate[1]  #a function providing the y-coordinate\n"
   ]
  },
  {
   "cell_type": "code",
   "execution_count": 24,
   "metadata": {
    "collapsed": false
   },
   "outputs": [],
   "source": [
    "mesh.reset()\n",
    "\n",
    "jWalls = mesh.specialSets[\"MinJ_VertexSet\"] + mesh.specialSets[\"MaxJ_VertexSet\"]\n",
    "yFn = coordinate[1]\n",
    "yField = uw.mesh.MeshVariable( mesh=mesh, nodeDofCount=1 )\n",
    "yField.data[:] = 0.\n",
    "yBC = uw.conditions.DirichletCondition( variable=yField, indexSetsPerDof=(jWalls,) )\n",
    "\n",
    "# set bottom wall temperature bc\n",
    "for index in mesh.specialSets[\"MinJ_VertexSet\"]:\n",
    "    yField.data[index] = mesh.minCoord[1]\n",
    "# set top wall temperature bc\n",
    "for index in mesh.specialSets[\"MaxJ_VertexSet\"]:\n",
    "    yField.data[index] = mesh.maxCoord[1]\n",
    "    \n",
    "    \n",
    "    \n",
    "s = 2.5\n",
    "intensityFac = 1.5\n",
    "intensityFn = (((yFn - MINY)/(MAXY-MINY))**s)\n",
    "intensityFn *= intensityFac\n",
    "intensityFn += 1.\n",
    "\n",
    "\n",
    "yLaplaceEquation = uw.systems.SteadyStateHeat(temperatureField=yField, fn_diffusivity=intensityFn, conditions=[yBC,])\n",
    "\n",
    "# get the default heat equation solver\n",
    "yLaplaceSolver = uw.systems.Solver(yLaplaceEquation)\n",
    "# solve\n",
    "yLaplaceSolver.solve()\n",
    "\n",
    "\n",
    "#Get the array of Y positions - copy may be necessary, not sure. \n",
    "newYpos = yField.data.copy() \n",
    "\n",
    "uw.barrier()\n",
    "with mesh.deform_mesh():\n",
    "     mesh.data[:,1] = newYpos[:,0]\n"
   ]
  },
  {
   "cell_type": "code",
   "execution_count": 25,
   "metadata": {
    "collapsed": false
   },
   "outputs": [],
   "source": [
    "#fig= glucifer.Figure(quality=3)\n",
    "\n",
    "#fig.append( glucifer.objects.Surface(mesh,intensityFn, discrete=True))\n",
    "#fig.append( glucifer.objects.Mesh(mesh))\n",
    "#fig.show()\n",
    "#fig.save_database('test.gldb')\n"
   ]
  },
  {
   "cell_type": "code",
   "execution_count": 26,
   "metadata": {
    "collapsed": false
   },
   "outputs": [],
   "source": [
    "#THis is a hack for adding a sticky air domain, we refine MAXY and things like the temperature stencil work from Y = 1. \n",
    "\n",
    "if md.stickyAir:\n",
    "    MAXY = 1."
   ]
  },
  {
   "cell_type": "markdown",
   "metadata": {},
   "source": [
    "Initial conditions\n",
    "-------\n"
   ]
  },
  {
   "cell_type": "code",
   "execution_count": 27,
   "metadata": {
    "collapsed": false
   },
   "outputs": [],
   "source": [
    "\n",
    "potTempFn = ndp.TPP + (depthFn)*ndp.TaP #a function providing the adiabatic temp at any depth\n",
    "abHeatFn = -1.*velocityField[1]*temperatureField*ndp.Di #a function providing the adiabatic heating rate"
   ]
  },
  {
   "cell_type": "code",
   "execution_count": 28,
   "metadata": {
    "collapsed": true
   },
   "outputs": [],
   "source": [
    "#Fix the ridge locations of greater than boundaries... \n",
    "\n",
    "if ndp.lRidge < mesh.minCoord[0]:\n",
    "    ndp.lRidge = mesh.minCoord[0] + (10e3/dp.LS)\n",
    " \n",
    "if ndp.rRidge > mesh.maxCoord[0]:\n",
    "    ndp.rRidge = mesh.maxCoord[0] - (10e3/dp.LS)"
   ]
  },
  {
   "cell_type": "code",
   "execution_count": 29,
   "metadata": {
    "collapsed": true
   },
   "outputs": [],
   "source": [
    "def age_fn(xFn, sz = 0.0, lMOR=MINX, rMOR=MAXX, opFac=1., conjugate_plate = False):\n",
    "    \"\"\"\n",
    "    Simple function to generate a discrete 1-d (i.e x-coordinate) function for the age of the thermal BC. \n",
    "    All paramters are dimensionless\n",
    "    sz: location of subduction zone\n",
    "    lMOR: location of left-hand MOR\n",
    "    rMOR: location of right-hand MOR\n",
    "    opFac: uniform reduce the age of the right hand plate by this factor\n",
    "    conjugate_plate: if True, build plates on the outer sides of the MORs, if False, age = 0. \n",
    "    \"\"\"\n",
    "    \n",
    "    if lMOR < MINX:\n",
    "        lMOR = MINX\n",
    "    if rMOR > MAXX:\n",
    "        rMOR = MAXX\n",
    "\n",
    "    if conjugate_plate:\n",
    "        ageFn = fn.branching.conditional([(operator.and_(xFn > lMOR, xFn < sz) , (xFn + abs(lMOR))/(abs(sz-lMOR))), \n",
    "                                      (operator.and_(xFn < rMOR, xFn >= sz), (1.-(xFn + abs(sz))/abs(rMOR-sz))*opFac),\n",
    "                                      (xFn > rMOR, opFac*(xFn -abs(rMOR)) / abs(rMOR-sz) ),\n",
    "                                      (True, fn.math.abs((((xFn + abs(lMOR)) / (abs(sz-lMOR))))))\n",
    "                                         ])\n",
    "    else:    \n",
    "        \n",
    "        ageFn = fn.branching.conditional([(operator.and_(xFn > lMOR, xFn < sz) , (xFn + abs(lMOR))/(abs(sz-lMOR))), \n",
    "                                      (operator.and_(xFn < rMOR, xFn >= sz), (1.-(xFn + abs(sz))/abs(rMOR-sz))*opFac),\n",
    "\n",
    "                                      (True, 0.0)])\n",
    "    return ageFn"
   ]
  },
  {
   "cell_type": "code",
   "execution_count": 30,
   "metadata": {
    "collapsed": false
   },
   "outputs": [],
   "source": [
    "###########\n",
    "#Thermal initial condition 2: \n",
    "#if symmetricIC == False, we build an asymmetric subduction-zone\n",
    "###########\n",
    "\n",
    "\n",
    "#  a few conversions\n",
    "ageAtTrenchSeconds = min(dp.platemaxAge*(3600*24*365), dp.slabmaxAge*(3600*24*365))\n",
    "phi = 90. - dp.theta\n",
    "Org = (ndp.subzone, MAXY-ndp.roc)\n",
    "\n",
    "\n",
    "#This builds the age function\n",
    "ageFn = age_fn(xFn, sz =ndp.subzone, lMOR=ndp.lRidge,rMOR=ndp.rRidge, conjugate_plate=True, opFac = dp.op_age_fac)\n",
    "\n",
    "\n",
    "#dimensionlize the age function\n",
    "ageFn *= ageAtTrenchSeconds\n",
    "\n",
    "w0 = (2.*math.sqrt(dp.k*ageAtTrenchSeconds))/dp.LS #diffusion depth of plate at the trench\n",
    "\n",
    "tempBL = (potTempFn) *fn.math.erf((depthFn*dp.LS)/(2.*fn.math.sqrt(dp.k*ageFn))) + ndp.TSP #boundary layer function\n",
    "\n",
    "tempTBL =  fn.branching.conditional([(depthFn < w0, tempBL),\n",
    "                          (True, potTempFn)])\n",
    "\n",
    "if not md.symmetricIcs:\n",
    "    if not checkpointLoad:\n",
    "        out = uw.utils.MeshVariable_Projection( temperatureField, tempTBL) #apply function with projection\n",
    "        out.solve()\n",
    "\n",
    "\n",
    "\n",
    "\n"
   ]
  },
  {
   "cell_type": "code",
   "execution_count": 31,
   "metadata": {
    "collapsed": false
   },
   "outputs": [],
   "source": [
    "#Now build the perturbation part\n",
    "def inCircleFnGenerator(centre, radius):\n",
    "    coord = fn.input()\n",
    "    offsetFn = coord - centre\n",
    "    return fn.math.dot( offsetFn, offsetFn ) < radius**2\n",
    "\n",
    "\n",
    "\n",
    "\n",
    "\n",
    "#We use three circles to define our slab and crust perturbation,  \n",
    "Oc = inCircleFnGenerator(Org , ndp.roc)\n",
    "Oc2 = inCircleFnGenerator(Org , ndp.roc + (0.5*ndp.MANTLETOCRUST)) #increases the amount of crust in the interface\n",
    "Ic = inCircleFnGenerator(Org , ndp.roc - w0)\n",
    "Cc = inCircleFnGenerator(Org , ndp.roc - (1.*ndp.MANTLETOCRUST)) #... weak zone on 'inside' of slab\n",
    "Hc = inCircleFnGenerator(Org , ndp.roc - ndp.HARZBURGDEPTH) #... Harzburgite layer \n",
    "dx = (ndp.roc)/(np.math.tan((np.math.pi/180.)*phi))\n",
    "\n",
    "#We'll also create a triangle which will truncate the circles defining the slab...\n",
    "if dp.sense == 'Left':\n",
    "    ptx = ndp.subzone - dx\n",
    "else:\n",
    "    ptx = ndp.subzone + dx\n",
    "coords = ((0.+ ndp.subzone, MAXY), (0.+ ndp.subzone, MAXY-ndp.roc), (ptx, MAXY))\n",
    "Tri = fn.shape.Polygon(np.array(coords))\n",
    "\n",
    "#Actually apply the perturbation\n",
    "if not md.symmetricIcs:\n",
    "    if not checkpointLoad:\n",
    "        sdFn = ((ndp.roc - fn.math.sqrt((coordinate[0] - Org[0])**2. + (coordinate[1] - Org[1])**2.)))\n",
    "        slabFn = ndp.TPP*fn.math.erf((sdFn*dp.LS)/(2.*math.sqrt(dp.k*ageAtTrenchSeconds))) + ndp.TSP\n",
    "        for index, coord in enumerate(mesh.data):\n",
    "            if (\n",
    "                Oc.evaluate(tuple(coord)) and\n",
    "                Tri.evaluate(tuple(coord)) and not\n",
    "                Ic.evaluate(tuple(coord)) and\n",
    "                coord[1] > (1. - ndp.maxDepth)\n",
    "                ): #In the quarter-circle defining the lithosphere\n",
    "                temperatureField.data[index] = slabFn.evaluate(mesh)[index]"
   ]
  },
  {
   "cell_type": "code",
   "execution_count": null,
   "metadata": {
    "collapsed": true
   },
   "outputs": [],
   "source": []
  },
  {
   "cell_type": "code",
   "execution_count": 32,
   "metadata": {
    "collapsed": true
   },
   "outputs": [],
   "source": [
    "#Make sure material in sticky air region is at the surface temperature.\n",
    "for index, coord in enumerate(mesh.data):\n",
    "            if coord[1] >= MAXY:\n",
    "                temperatureField.data[index] = ndp.TSP"
   ]
  },
  {
   "cell_type": "code",
   "execution_count": 33,
   "metadata": {
    "collapsed": false
   },
   "outputs": [],
   "source": [
    "#temperatureField.data.max(), temperatureField.data.mean(), temperatureField.data.std(), temperatureField.data.min()"
   ]
  },
  {
   "cell_type": "code",
   "execution_count": null,
   "metadata": {
    "collapsed": true
   },
   "outputs": [],
   "source": []
  },
  {
   "cell_type": "code",
   "execution_count": 34,
   "metadata": {
    "collapsed": false
   },
   "outputs": [
    {
     "data": {
      "text/html": [
       "<img src='data:image/png;base64,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'>"
      ],
      "text/plain": [
       "<IPython.core.display.HTML object>"
      ]
     },
     "metadata": {},
     "output_type": "display_data"
    }
   ],
   "source": [
    "fig= glucifer.Figure(quality=3)\n",
    "\n",
    "fig.append( glucifer.objects.Surface(mesh,temperatureField, discrete=True))\n",
    "#fig.append( glucifer.objects.Mesh(mesh))\n",
    "fig.show()\n",
    "#fig.save_database('test.gldb')\n"
   ]
  },
  {
   "cell_type": "code",
   "execution_count": 35,
   "metadata": {
    "collapsed": false
   },
   "outputs": [
    {
     "data": {
      "text/plain": [
       "0.7105357166867321"
      ]
     },
     "execution_count": 35,
     "metadata": {},
     "output_type": "execute_result"
    }
   ],
   "source": [
    "temperatureField.evaluate(mesh).max()"
   ]
  },
  {
   "cell_type": "markdown",
   "metadata": {},
   "source": [
    "Boundary conditions\n",
    "-------"
   ]
  },
  {
   "cell_type": "code",
   "execution_count": 36,
   "metadata": {
    "collapsed": false
   },
   "outputs": [
    {
     "name": "stdout",
     "output_type": "stream",
     "text": [
      "2\n"
     ]
    }
   ],
   "source": [
    "iWalls = mesh.specialSets[\"MinI_VertexSet\"] + mesh.specialSets[\"MaxI_VertexSet\"]\n",
    "jWalls = mesh.specialSets[\"MinJ_VertexSet\"] + mesh.specialSets[\"MaxJ_VertexSet\"]\n",
    "tWalls = mesh.specialSets[\"MaxJ_VertexSet\"]\n",
    "bWalls =mesh.specialSets[\"MinJ_VertexSet\"]\n",
    "\n",
    "\n",
    "for index in mesh.specialSets[\"MinJ_VertexSet\"]:\n",
    "    temperatureField.data[index] = potTempFn.evaluate(bWalls).min() #Adiabatic temp at bottom of mesh/domain\n",
    "for index in mesh.specialSets[\"MaxJ_VertexSet\"]:\n",
    "    temperatureField.data[index] = ndp.TSP\n",
    "\n",
    "VelBCs = mesh.specialSets[\"Empty\"]\n",
    "\n",
    "\n",
    "\n",
    "if md.velBcs:\n",
    "    for index in list(tWalls.data):\n",
    "\n",
    "        if (mesh.data[int(index)][0] < (ndp.subzone - 0.05*md.aspectRatio) and \n",
    "            mesh.data[int(index)][0] > (mesh.minCoord[0] + 0.05*md.aspectRatio)): #Only push with a portion of teh overiding plate\n",
    "            #print \"first\"\n",
    "            VelBCs.add(int(index))\n",
    "            #Set the plate velocities for the kinematic phase\n",
    "            velocityField.data[index] = [ndp.plate_vel, 0.]\n",
    "        \n",
    "        elif (mesh.data[int(index)][0] > (ndp.subzone + 0.05*md.aspectRatio) and \n",
    "            mesh.data[int(index)][0] < (mesh.maxCoord[0] - 0.05*md.aspectRatio)):\n",
    "            #print \"second\"\n",
    "            VelBCs.add(int(index))\n",
    "            #Set the plate velocities for the kinematic phase\n",
    "            velocityField.data[index] = [0., 0.]\n",
    "        \n",
    "\n",
    "#If periodic, we'll fix a the x-vel at a single node - at the bottom left (index 0)\n",
    "Fixed = mesh.specialSets[\"Empty\"]\n",
    "Fixed.add(int(0))        \n",
    "        \n",
    "\n",
    "if periodic[0] == False:\n",
    "    if md.velBcs:\n",
    "        print(1)\n",
    "        freeslipBC = uw.conditions.DirichletCondition( variable      = velocityField, \n",
    "                                               indexSetsPerDof = ( iWalls + VelBCs, jWalls) )\n",
    "    else:\n",
    "        print(2)\n",
    "        freeslipBC = uw.conditions.DirichletCondition( variable      = velocityField, \n",
    "                                               indexSetsPerDof = ( iWalls, jWalls) )\n",
    "\n",
    "\n",
    "\n",
    "if periodic[0] == True:\n",
    "    if md.velBcs:\n",
    "        print(3)\n",
    "        freeslipBC = uw.conditions.DirichletCondition( variable      = velocityField, \n",
    "                                               indexSetsPerDof = ( Fixed + VelBCs , jWalls) )\n",
    "    else:\n",
    "        print(4)\n",
    "        freeslipBC = uw.conditions.DirichletCondition( variable      = velocityField, \n",
    "                                               indexSetsPerDof = ( Fixed, jWalls) )\n",
    "        \n",
    "    \n",
    "    \n",
    "    \n",
    "# also set dirichlet for temp field\n",
    "dirichTempBC = uw.conditions.DirichletCondition(     variable=temperatureField, \n",
    "                                              indexSetsPerDof=(tWalls,) )\n",
    "dT_dy = [0.,0.]\n",
    "\n",
    "# also set dirichlet for temp field\n",
    "neumannTempBC = uw.conditions.NeumannCondition( dT_dy, variable=temperatureField, \n",
    "                                         nodeIndexSet=bWalls)\n",
    "\n"
   ]
  },
  {
   "cell_type": "code",
   "execution_count": 37,
   "metadata": {
    "collapsed": false
   },
   "outputs": [],
   "source": [
    "#check VelBCs are where we want them\n",
    "#test = np.zeros(len(tWalls.data))\n",
    "#VelBCs\n",
    "#tWalls.data\n",
    "#tWalls.data[VelBCs.data]\n",
    "#test[np.in1d(tWalls.data, VelBCs.data)] = 1.\n",
    "#test\n",
    "\n"
   ]
  },
  {
   "cell_type": "code",
   "execution_count": null,
   "metadata": {
    "collapsed": false
   },
   "outputs": [],
   "source": []
  },
  {
   "cell_type": "markdown",
   "metadata": {},
   "source": [
    "Swarm setup\n",
    "-----\n"
   ]
  },
  {
   "cell_type": "code",
   "execution_count": 38,
   "metadata": {
    "collapsed": false
   },
   "outputs": [],
   "source": [
    "###########\n",
    "#Material Swarm and variables\n",
    "###########\n",
    "\n",
    "#create material swarm\n",
    "gSwarm = uw.swarm.Swarm(mesh=mesh, particleEscape=True)\n",
    "vSwarm = uw.swarm.Swarm(mesh=mesh, particleEscape=True)\n",
    "\n",
    "\n",
    "#create swarm variables\n",
    "yieldingCheck = gSwarm.add_variable( dataType=\"int\", count=1 )\n",
    "#tracerVariable = gSwarm.add_variable( dataType=\"int\", count=1)\n",
    "materialVariable = gSwarm.add_variable( dataType=\"int\", count=1 )\n",
    "ageVariable = gSwarm.add_variable( dataType=\"double\", count=1 )\n",
    "#testVariable = gSwarm.add_variable( dataType=\"float\", count=1 )\n",
    "\n",
    "\n",
    "#these lists  are part of the checkpointing implementation\n",
    "varlist = [materialVariable, yieldingCheck, ageVariable]\n",
    "varnames = ['materialVariable', 'yieldingCheck', 'ageVariable']"
   ]
  },
  {
   "cell_type": "code",
   "execution_count": 39,
   "metadata": {
    "collapsed": false
   },
   "outputs": [],
   "source": [
    "mantleIndex = 0\n",
    "crustIndex = 1\n",
    "harzIndex = 2\n",
    "airIndex = 3\n",
    "\n",
    "\n",
    "\n",
    "if checkpointLoad:\n",
    "    checkpointLoadDir = natsort.natsort(checkdirs)[-1]\n",
    "    temperatureField.load(os.path.join(checkpointLoadDir, \"temperatureField\" + \".hdf5\"))\n",
    "    pressureField.load(os.path.join(checkpointLoadDir, \"pressureField\" + \".hdf5\"))\n",
    "    velocityField.load(os.path.join(checkpointLoadDir, \"velocityField\" + \".hdf5\"))\n",
    "    gSwarm.load(os.path.join(checkpointLoadDir, \"swarm\" + \".h5\"))\n",
    "    for ix in range(len(varlist)):\n",
    "        varb = varlist[ix]\n",
    "        varb.load(os.path.join(checkpointLoadDir,varnames[ix] + \".h5\"))\n",
    "\n",
    "else:\n",
    "\n",
    "    # Layouts are used to populate the swarm across the whole domain\n",
    "    layout = uw.swarm.layouts.PerCellRandomLayout(swarm=gSwarm, particlesPerCell=int(md.ppc))\n",
    "    gSwarm.populate_using_layout( layout=layout ) # Now use it to populate.\n",
    "\n",
    "\n",
    "    # Swarm variables\n",
    "    materialVariable.data[:] = mantleIndex\n",
    "    #tracerVariable.data[:] = 1\n",
    "    yieldingCheck.data[:] = 0\n",
    "    ageVariable.data[:] = -1\n",
    "\n",
    "    #Set initial air and crust materials (allow the graph to take care of lithsophere)\n",
    "    #########\n",
    "    #This initial material setup will be model dependent\n",
    "    #########\n",
    "    for particleID in range(gSwarm.particleCoordinates.data.shape[0]):\n",
    "        if (1. - gSwarm.particleCoordinates.data[particleID][1]) < ndp.MANTLETOCRUST:\n",
    "                 materialVariable.data[particleID] = crustIndex\n",
    "                \n",
    "                \n",
    "                \n",
    "#also create a swarm for viewing. This one doesn't need to be checkpointed               \n",
    "layout1 = uw.swarm.layouts.PerCellRandomLayout(swarm=vSwarm, particlesPerCell=int(md.ppc/8))\n",
    "vSwarm.populate_using_layout( layout=layout1 ) # Now use it to populate."
   ]
  },
  {
   "cell_type": "code",
   "execution_count": 58,
   "metadata": {
    "collapsed": false
   },
   "outputs": [
    {
     "data": {
      "text/plain": [
       "array([0, 1, 2], dtype=int32)"
      ]
     },
     "execution_count": 58,
     "metadata": {},
     "output_type": "execute_result"
    }
   ],
   "source": [
    "###########\n",
    "#Little swarm to track subduction zone, ridge location\n",
    "###########\n",
    "swarmPlateBoundary = uw.swarm.Swarm( mesh=mesh )\n",
    "\n",
    "swarmCoords = np.array([ [ndp.subzone,1.], [ndp.lRidge,1.],[ndp.rRidge,1.]])\n",
    "swarmPlateBoundary.add_particles_with_coordinates(swarmCoords)"
   ]
  },
  {
   "cell_type": "code",
   "execution_count": null,
   "metadata": {
    "collapsed": false
   },
   "outputs": [],
   "source": []
  },
  {
   "cell_type": "code",
   "execution_count": 59,
   "metadata": {
    "collapsed": false
   },
   "outputs": [],
   "source": [
    "##############\n",
    "#Set the initial particle age for particles above the critical depth; \n",
    "#only material older than crustageCond will be transformed to crust / harzburgite\n",
    "##############\n",
    "\n",
    "ageVariable.data[:] = 0. #start with all zero\n",
    "ageVariable.data[:] = ageFn.evaluate(gSwarm)/sf.SR\n",
    "crustageCond = 2e6*(3600.*365.*24.)/sf.SR #set inital age above critical depth. (x...Ma)\n",
    "\n",
    "\n",
    "\n",
    "ageConditions = [ (depthFn < ndp.AGETRACKDEPTH, ageVariable),  #In the main loop we add ageVariable + dt here\n",
    "                  (True, 0.) ]\n",
    "                 \n",
    "#apply conditional \n",
    "ageVariable.data[:] = fn.branching.conditional( ageConditions ).evaluate(gSwarm)\n",
    "\n",
    "ageDT = 0.#this is used in the main loop for short term time increments"
   ]
  },
  {
   "cell_type": "code",
   "execution_count": 60,
   "metadata": {
    "collapsed": false
   },
   "outputs": [],
   "source": [
    "#fig= glucifer.Figure()\n",
    "#fig.append( glucifer.objects.Points(gSwarm,ageVariable))\n",
    "#fig.append( glucifer.objects.Points(gSwarm, viscosityMapFn, logScale=True, valueRange =[1e-3,1e5]))\n",
    "\n",
    "#fig.append( glucifer.objects.Surface(mesh, strainRate_2ndInvariant, logScale=True, valueRange =[1e-3,1e5] ))\n",
    "#fig.append( glucifer.objects.VectorArrows(mesh,velocityField, scaling=0.002))\n",
    "#fig.append( glucifer.objects.Surface(mesh,densityMapFn))\n",
    "#fig.append( glucifer.objects.Surface(mesh,raylieghFn))\n",
    "\n",
    "#fig.show()"
   ]
  },
  {
   "cell_type": "code",
   "execution_count": 61,
   "metadata": {
    "collapsed": false
   },
   "outputs": [],
   "source": [
    "##############\n",
    "#Here we set up a directed graph object that we we use to control the transformation from one material type to another\n",
    "##############\n",
    "\n",
    "#All depth conditions are given as (km/D) where D is the length scale,\n",
    "#note that 'model depths' are used, e.g. 1-z, where z is the vertical Underworld coordinate\n",
    "#All temp conditions are in dimensionless temp. [0. - 1.]\n",
    "\n",
    "#Need a list of all material indexes (safer in parallel)\n",
    "material_list = [0,1,2,3]\n",
    "\n",
    "if not checkpointLoad:\n",
    "    materialVariable.data[:] = 0 #Initialize to zero \n",
    "\n",
    "#Setup the graph object\n",
    "DG = material_graph.MatGraph()\n",
    "\n",
    "#Important: First thing to do is to add all the material types to the graph (i.e add nodes)\n",
    "DG.add_nodes_from(material_list)\n",
    "\n",
    "#Now set the conditions for transformations\n",
    "\n",
    "hs = 2e3/dp.LS  #add some hysteresis to the depths of transition\n",
    "\n",
    "#... to mantle\n",
    "DG.add_transition((crustIndex,mantleIndex), depthFn, operator.gt, ndp.CRUSTTOMANTLE + hs)\n",
    "DG.add_transition((harzIndex,mantleIndex), depthFn, operator.gt, ndp.CRUSTTOMANTLE + hs)\n",
    "DG.add_transition((airIndex,mantleIndex), depthFn, operator.gt, ndp.TOPOHEIGHT + hs)\n",
    "\n",
    "#... to crust\n",
    "DG.add_transition((mantleIndex,crustIndex), depthFn, operator.lt, ndp.MANTLETOCRUST)\n",
    "DG.add_transition((mantleIndex,crustIndex), xFn, operator.lt, 0. + 7.*ndp.MANTLETOCRUST) #No crust on the upper plate\n",
    "DG.add_transition((mantleIndex,crustIndex), ageVariable, operator.gt, crustageCond)\n",
    "\n",
    "\n",
    "DG.add_transition((harzIndex,crustIndex), depthFn, operator.lt, ndp.MANTLETOCRUST)\n",
    "DG.add_transition((harzIndex,crustIndex), xFn, operator.lt, 0. + 7.*ndp.MANTLETOCRUST) #This one sets no crust on the upper plate\n",
    "DG.add_transition((harzIndex,crustIndex), ageVariable, operator.gt, crustageCond)\n",
    "\n",
    "#... to Harzbugite\n",
    "DG.add_transition((mantleIndex,harzIndex), depthFn, operator.lt, ndp.HARZBURGDEPTH)\n",
    "DG.add_transition((mantleIndex,harzIndex), depthFn, operator.gt, ndp.MANTLETOCRUST)\n",
    "DG.add_transition((mantleIndex,harzIndex), ageVariable, operator.gt, crustageCond) #Note we can mix functions and swarm variabls\n",
    "\n",
    "#... to air\n",
    "DG.add_transition((mantleIndex,airIndex), depthFn, operator.lt,0. - ndp.TOPOHEIGHT)\n",
    "DG.add_transition((crustIndex,airIndex), depthFn, operator.lt, 0. - ndp.TOPOHEIGHT)\n"
   ]
  },
  {
   "cell_type": "code",
   "execution_count": 62,
   "metadata": {
    "collapsed": false
   },
   "outputs": [],
   "source": [
    "##############\n",
    "#For the slab_IC, we'll also add a crustal weak zone following the dipping perturbation\n",
    "##############\n",
    "\n",
    "if checkpointLoad != True:\n",
    "    if not md.symmetricIcs:\n",
    "        for particleID in range(gSwarm.particleCoordinates.data.shape[0]):\n",
    "            if (\n",
    "                Oc2.evaluate(list(gSwarm.particleCoordinates.data[particleID])) and\n",
    "                Tri.evaluate(list(gSwarm.particleCoordinates.data[particleID])) and\n",
    "                gSwarm.particleCoordinates.data[particleID][1] > (1. - ndp.maxDepth) and\n",
    "                Cc.evaluate(list(gSwarm.particleCoordinates.data[particleID])) == False\n",
    "                \n",
    "                ):\n",
    "                materialVariable.data[particleID] = crustIndex\n",
    "                \n",
    "            elif (\n",
    "                Oc.evaluate(list(gSwarm.particleCoordinates.data[particleID])) and\n",
    "                Tri.evaluate(list(gSwarm.particleCoordinates.data[particleID])) and\n",
    "                gSwarm.particleCoordinates.data[particleID][1] > (1. - ndp.maxDepth) and\n",
    "                Hc.evaluate(list(gSwarm.particleCoordinates.data[particleID])) == False\n",
    "                \n",
    "                ):\n",
    "                materialVariable.data[particleID] = harzIndex"
   ]
  },
  {
   "cell_type": "code",
   "execution_count": 63,
   "metadata": {
    "collapsed": false
   },
   "outputs": [],
   "source": [
    "##############\n",
    "#This is how we use the material graph object to test / apply material transformations\n",
    "##############\n",
    "DG.build_condition_list(materialVariable)\n",
    "\n",
    "for i in range(2): #Need to go through a number of times\n",
    "    materialVariable.data[:] = fn.branching.conditional(DG.condition_list).evaluate(gSwarm)"
   ]
  },
  {
   "cell_type": "code",
   "execution_count": 64,
   "metadata": {
    "collapsed": false
   },
   "outputs": [],
   "source": [
    "#fig= glucifer.Figure()\n",
    "#fig.append( glucifer.objects.Points(vSwarm,temperatureField))\n",
    "#fig.append( glucifer.objects.Surface(mesh, corrTempFn))\n",
    "#fig.show()\n",
    "#fig.save_database('test.gldb')"
   ]
  },
  {
   "cell_type": "markdown",
   "metadata": {
    "collapsed": false
   },
   "source": [
    "## phase and compositional buoyancy"
   ]
  },
  {
   "cell_type": "code",
   "execution_count": 65,
   "metadata": {
    "collapsed": false
   },
   "outputs": [],
   "source": [
    "##############\n",
    "#Set up phase buoyancy contributions\n",
    "#the phase function approach of Yuen and Christenson is implemented in the Slippy2 phase_function class \n",
    "##############\n",
    "\n",
    "\n",
    "#olivine\n",
    "olivinePhase = phase_function.component_phases(name = 'ol', \n",
    "                        depths=[410e3,660e3], #depths of phase transitions along adiabat\n",
    "                        temps = [1600., 1900.], #temperatures of phase transitions along adiabat\n",
    "                        widths = [20e3, 20e3], #width if transition\n",
    "                        claps=[2.e6, -2.5e6],  #Clapeyron slope of trnasition\n",
    "                        densities = [180., 400.]) #density change of phase transition\n",
    "\n",
    "olivinePhase.build_nd_dict(dp.LS, dp.rho, dp.g, dp.deltaTa)\n",
    "\n",
    "\n",
    "rp = olivinePhase.nd_reduced_pressure(depthFn, \n",
    "                                   temperatureField,\n",
    "                                   olivinePhase.ndp['depths'][0],\n",
    "                                   olivinePhase.ndp['claps'][0],\n",
    "                                   olivinePhase.ndp['temps'][0])\n",
    "\n",
    "#ph_410 = olivinePhase.nd_phase(rp, test.ndp['widths'][0])\n",
    "#pf_sum = test.phase_function_sum(temperatureField, depthFn)\n",
    "\n",
    "olivine_phase_buoyancy = olivinePhase.buoyancy_sum(temperatureField, depthFn, dp.g, dp.LS, dp.k, dp.eta0)\n",
    "\n",
    "#garnet\n",
    "garnetPhase = phase_function.component_phases(name = 'grt', \n",
    "                        depths=[60e3,400e3, 720e3],\n",
    "                        temps = [1000., 1600., 1900.], \n",
    "                        widths = [20e3, 20e3, 20e3], \n",
    "                        claps=[0.e6, 1.e6, 1.e6], \n",
    "                        densities = [350., 150., 400.])\n",
    "\n",
    "garnetPhase.build_nd_dict(dp.LS, dp.rho, dp.g, dp.deltaTa)\n",
    "\n",
    "\n",
    "rp = garnetPhase.nd_reduced_pressure(depthFn, \n",
    "                                   temperatureField,\n",
    "                                   garnetPhase.ndp['depths'][0],\n",
    "                                   garnetPhase.ndp['claps'][0],\n",
    "                                   garnetPhase.ndp['temps'][0])\n",
    "\n",
    "#ph_410 = olivinePhase.nd_phase(rp, test.ndp['widths'][0])\n",
    "#pf_sum = test.phase_function_sum(temperatureField, depthFn)\n",
    "\n",
    "garnet_phase_buoyancy = garnetPhase.buoyancy_sum(temperatureField, depthFn, dp.g, dp.LS, dp.k, dp.eta0)"
   ]
  },
  {
   "cell_type": "code",
   "execution_count": 66,
   "metadata": {
    "collapsed": false
   },
   "outputs": [],
   "source": [
    "##############\n",
    "#Set up compositional buoyancy contributions\n",
    "##############\n",
    "\n",
    "bouyancy_factor = (dp.g*dp.LS**3)/(dp.eta0*dp.k)\n",
    "\n",
    "basalt_comp_buoyancy  = (dp.rho - 2940.)*bouyancy_factor\n",
    "harz_comp_buoyancy = (dp.rho - 3235.)*bouyancy_factor\n",
    "pyrolite_comp_buoyancy = (dp.rho - 3300.)*bouyancy_factor\n",
    "\n",
    "#print(basalt_comp_buoyancy, harz_comp_buoyancy, pyrolite_comp_buoyancy)\n",
    "\n",
    "\n",
    "#this function accounts for the decrease in expansivity, and acts to reduce the rayleigh number with depth\n",
    "alphaRatio = 1.2/3\n",
    "taFn = 1. - (depthFn)*(1. - alphaRatio) \n",
    "\n",
    "\n",
    "if not md.compBuoyancy:\n",
    "    pyrolitebuoyancyFn =  (ndp.RA*temperatureField*taFn)\n",
    "    harzbuoyancyFn =      (ndp.RA*temperatureField*taFn) \n",
    "    basaltbuoyancyFn =    (ndp.RA*temperatureField*taFn)\n",
    "\n",
    "else : \n",
    "    pyrolitebuoyancyFn =  (ndp.RA*temperatureField*taFn) -\\\n",
    "                          (0.6*olivine_phase_buoyancy + 0.4*garnet_phase_buoyancy) +\\\n",
    "                           pyrolite_comp_buoyancy\n",
    "    harzbuoyancyFn =      (ndp.RA*temperatureField*taFn) -\\\n",
    "                          (0.8*olivine_phase_buoyancy + 0.2*garnet_phase_buoyancy) +\\\n",
    "                           harz_comp_buoyancy\n",
    "    basaltbuoyancyFn =    (ndp.RA*temperatureField*taFn) -\\\n",
    "                          (1.*garnet_phase_buoyancy) +\\\n",
    "                           basalt_comp_buoyancy"
   ]
  },
  {
   "cell_type": "markdown",
   "metadata": {
    "collapsed": false
   },
   "source": [
    "## Faults / interfaces"
   ]
  },
  {
   "cell_type": "code",
   "execution_count": 67,
   "metadata": {
    "collapsed": false
   },
   "outputs": [],
   "source": [
    "import marker2D"
   ]
  },
  {
   "cell_type": "code",
   "execution_count": 68,
   "metadata": {
    "collapsed": true
   },
   "outputs": [],
   "source": [
    "def update_swarm_from_faults(faults, proximityVariable, normalVectorVariable, signedDistanceVariable):\n",
    "    \"\"\"\n",
    "    Compute fault attributes from the marker-line objects in the 'faults' list.\n",
    "    Specifically:\n",
    "    \n",
    "      - proximityVariable carries information about which fault each swarm particle is close to (0 means none)\n",
    "      - normalVectorVariable maps the orientation of the fault to nearby swarm particles\n",
    "      - signedDistanceVariable carries the distance (positive means 'inside')  \n",
    "      \n",
    "      Unchecked error: if these variables are from different swarms \n",
    "      \n",
    "    \"\"\"\n",
    "    \n",
    "    if type(faults) == list:\n",
    "    \n",
    "        for fault_seg in faults:\n",
    "            swarm = proximityVariable.swarm\n",
    "\n",
    "            f, nz = fault_seg.compute_marker_proximity(swarm.particleCoordinates.data)    \n",
    "            proximityVariable.data[nz] = f[nz]\n",
    "\n",
    "            dv, nzv = fault_seg.compute_normals(swarm.particleCoordinates.data)\n",
    "            normalVectorVariable.data[nzv] = dv[nzv]\n",
    "\n",
    "            sd, dnz = fault_seg.compute_signed_distance(swarm.particleCoordinates.data)\n",
    "            signedDistanceVariable.data[dnz] = sd[dnz]\n",
    "    else:\n",
    "        fault_seg = faults\n",
    "        swarm = proximityVariable.swarm\n",
    "\n",
    "        f, nz = fault_seg.compute_marker_proximity(swarm.particleCoordinates.data)    \n",
    "        proximityVariable.data[nz] = f[nz]\n",
    "\n",
    "        dv, nzv = fault_seg.compute_normals(swarm.particleCoordinates.data)\n",
    "        normalVectorVariable.data[nzv] = dv[nzv]\n",
    "\n",
    "        sd, dnz = fault_seg.compute_signed_distance(swarm.particleCoordinates.data)\n",
    "        signedDistanceVariable.data[dnz] = sd[dnz]\n",
    "    \n",
    "    return\n",
    "\n",
    "\n",
    "def update_swarm_from_line(fault, signedDistanceVariable):\n",
    "    \"\"\"\n",
    "    Compute fault attributes from the marker-line objects in the 'faults' list.\n",
    "    Specifically:\n",
    "    \n",
    "      - proximityVariable carries information about which fault each swarm particle is close to (0 means none)\n",
    "      - normalVectorVariable maps the orientation of the fault to nearby swarm particles\n",
    "      - signedDistanceVariable carries the distance (positive means 'inside')  \n",
    "      \n",
    "      Unchecked error: if these variables are from different swarms \n",
    "      \n",
    "    \"\"\"\n",
    "        \n",
    "    sd, dnz = fault.compute_signed_distance(gSwarm.particleCoordinates.data)\n",
    "    signedDistanceVariable.data[dnz] = sd[dnz]\n",
    "    \n",
    "    return\n",
    "\n",
    "\n",
    "def mask_materials(fault, material, materialVariable, proximityVariable, normalVectorVariable, signedDistanceVariable):\n",
    "\n",
    "    \"\"\"\n",
    "    set the key fault-related swarm variabels to zero, based on material typr\n",
    "    \"\"\"\n",
    "    \n",
    "    fptsMask1 = (materialVariable.data[:,0] != material)\n",
    "    fptsMask2 = (proximityVariable.data[:,0] == fault.ID )\n",
    "\n",
    "    fptsMaskOut = fptsMask1 & fptsMask2\n",
    "\n",
    "    normalVectorVariable.data[fptsMaskOut,:] = [0.0,0.0]\n",
    "    proximityVariable.data[fptsMaskOut] = 0\n",
    "    signedDistanceVariable.data[fptsMaskOut] = 0.0\n",
    "    \n",
    "    \n",
    "def fault_strainrate_fns(fault_list, velocityField, faultNormalVariable, proximityproVariable):\n",
    "\n",
    "    ## This is a quick / short cut way to find the resolved stress components.\n",
    "    \n",
    "    strainRateFn = fn.tensor.symmetric( velocityField.fn_gradient )\n",
    "\n",
    "    \n",
    "    _edotn_SFn = (        directorVector[0]**2 * strainRateFn[0]  + \n",
    "                    2.0 * directorVector[1]    * strainRateFn[2] * directorVector[0] + \n",
    "                          directorVector[1]**2 * strainRateFn[1]                          \n",
    "                ) \n",
    "\n",
    "    # any non-zero proximity requires the computation of the above\n",
    "    \n",
    "    _edotn_SFn_Map    = { 0: 0.0 }\n",
    "    for f in fault_list:\n",
    "        _edotn_SFn_Map[f.ID] =  _edotn_SFn\n",
    "\n",
    "\n",
    "\n",
    "   \n",
    "    _edots_SFn = (  directorVector[0] *  directorVector[1] *(strainRateFn[1] - strainRateFn[0]) +\n",
    "                    strainRateFn[2] * (directorVector[0]**2 - directorVector[1]**2)\n",
    "                 )\n",
    "    \n",
    "  \n",
    "    _edots_SFn_Map = { 0: 1.0e-15 }\n",
    "    \n",
    "    for f in fault_list:\n",
    "        _edots_SFn_Map[f.ID] =  _edots_SFn\n",
    "        \n",
    "        \n",
    "    #Finally, map the resolved strain rate to the proximity variable, \n",
    "    #which also makes resolved strain rate zero whereever proximity variable is zero \n",
    "\n",
    "\n",
    "    edotn_SFn =     fn.branching.map( fn_key = proximityVariable, \n",
    "                                      mapping = _edotn_SFn_Map)\n",
    "\n",
    "\n",
    "    edots_SFn =     fn.branching.map( fn_key = proximityVariable, \n",
    "                                      mapping = _edots_SFn_Map )\n",
    "\n",
    "    \n",
    "    return edotn_SFn, edots_SFn\n",
    "\n",
    "\n",
    "## Time update\n",
    "\n",
    "def faults_advance_in_time(faults,proximityVariable, directorVector, signedDistanceVariable, materialVariable, mmask):\n",
    "    for f in faults:\n",
    "        f.advection(dt)\n",
    "\n",
    "\n",
    "    update_swarm_from_faults(faults, proximityVariable, directorVector, signedDistanceVariable)\n",
    "    mask_materials(materialV, materialVariable, proximityVariable, directorVector, signedDistanceVariable)"
   ]
  },
  {
   "cell_type": "code",
   "execution_count": 69,
   "metadata": {
    "collapsed": true
   },
   "outputs": [],
   "source": [
    "###########\n",
    "#Initial Coordinates for inerfaces and faults\n",
    "###########\n",
    "\n",
    "#subduction fault\n",
    "introPoint = ndp.subzone - abs(ndp.subzone - ndp.lRidge)/2. #half way between ridge and Sz\n",
    "faultthickness = ndp.MANTLETOCRUST/2. #initiale fault at half-depth of crust\n",
    "nfault = 200\n",
    "faultCoords =np.zeros((nfault, 2))\n",
    "\n",
    "reducedRocM = ndp.roc  - faultthickness\n",
    "xlimslab = reducedRocM*math.cos(math.pi*(90. - dp.theta)/180)\n",
    "faultCoords[:, 0] = np.linspace(introPoint, ndp.subzone + xlimslab, nfault) #note SZ location is hardcoded here \n",
    "for index, xval in np.ndenumerate(faultCoords[:,0]):\n",
    "    #print index, xval\n",
    "    #swarmCoords[index[0], 1] = 1. - isodepthFn.evaluate((xval, 0.)) #This bit for the plate \n",
    "    if  xval < ndp.subzone:\n",
    "        faultCoords[index[0], 1] = MAXY - faultthickness #This bit for the plate \n",
    "        \n",
    "    else:\n",
    "        faultCoords[index[0], 1] = (MAXY - (faultthickness) - (reducedRocM - ( math.sqrt((reducedRocM**2 - (xval-ndp.subzone)**2)))))\n",
    "        \n",
    "    \n",
    "faultCoords = faultCoords[faultCoords[:,1] > (MAXY - ndp.maxDepth)] #kill any deeper than cutoff\n",
    "\n",
    "\n",
    "#surface tracer interface:\n",
    "surfaceCoords =np.ones((nfault, 2))*1.\n",
    "surfaceCoords[:,0] = np.linspace(MINX, MAXX, nfault)\n",
    "\n",
    "\n",
    "\n",
    "#interface that tracks the shape and position of the slab\n",
    "midthickness = 20e3/dp.LS #initialize tracking swarm at ~ mid lithosphere depth\n",
    "\n",
    "if dp.sense == 'Right':\n",
    "    introPoint = ndp.lRidge + midthickness #\n",
    "else:\n",
    "    introPoint = ndp.rRidge - midthickness #\n",
    "nfault = 200\n",
    "slabCoords =np.zeros((nfault, 2))\n",
    "\n",
    "reducedRocM = ndp.roc  - midthickness\n",
    "xlimslab = reducedRocM*math.cos(math.pi*(90. - dp.theta)/180)\n",
    "slabCoords[:, 0] = np.linspace(introPoint, ndp.subzone + xlimslab, nfault) #note SZ location is hardcoded here \n",
    "for index, xval in np.ndenumerate(slabCoords[:,0]):\n",
    "    #print index, xval\n",
    "    #swarmCoords[index[0], 1] = 1. - isodepthFn.evaluate((xval, 0.)) #This bit for the plate \n",
    "    if  xval < ndp.subzone:\n",
    "        slabCoords[index[0], 1] = MAXY - midthickness #This bit for the plate \n",
    "        \n",
    "    else:\n",
    "        slabCoords[index[0], 1] = (MAXY - (midthickness) - (reducedRocM - ( math.sqrt((reducedRocM**2 - (xval-ndp.subzone)**2)))))\n",
    "        \n",
    "slabCoords = slabCoords[slabCoords[:,1] > (MAXY - ndp.maxDepth)] #kill any deeper than cutoff\n"
   ]
  },
  {
   "cell_type": "code",
   "execution_count": 70,
   "metadata": {
    "collapsed": true
   },
   "outputs": [],
   "source": [
    "#Initiaze the swarms in a \n",
    "fault_seg  = marker2D.markerLine2D(mesh, velocityField, [], [], faultthickness, 0.0, 0.0, crustIndex)\n",
    "surface_seg  = marker2D.markerLine2D(mesh, velocityField, [], [], ndp.StALS, 0.0, 0.0, airIndex)\n",
    "slab_seg  = marker2D.markerLine2D(mesh, velocityField, [], [], 1e9/dp.LS, 0.0, 0.0, crustIndex)   #Note very large fault thickness \n",
    "\n",
    "\n",
    "#These lists are used to checkpoint the marker lines, similar to the swarm variables.        \n",
    "interfaces = []\n",
    "interfaces.append(fault_seg)\n",
    "interfaces.append(surface_seg)\n",
    "interfaces.append(slab_seg)\n",
    "interfacenames = ['fault_seg', 'surface_seg', 'slab_seg']\n",
    "\n",
    "#If restarting, load the swarms from file Interfaces are just swarms, so should be fine to rely on parallel h5 machinery here\n",
    "if checkpointLoad:\n",
    "    for ix in range(len(interfaces)):\n",
    "        tempname = interfacenames[ix]\n",
    "        interfaces[ix].swarm.load(os.path.join(checkpointLoadDir,  tempname + \".h5\"))\n",
    "\n",
    "#otherwise add the point from at the initial locations\n",
    "else:\n",
    "    fault_seg.add_points(faultCoords[:, 0], faultCoords[:, 1])\n",
    "    surface_seg.add_points(surfaceCoords[:, 0], surfaceCoords[:, 1])\n",
    "    slab_seg.add_points(slabCoords[:, 0], slabCoords[:, 1]) "
   ]
  },
  {
   "cell_type": "code",
   "execution_count": 71,
   "metadata": {
    "collapsed": true
   },
   "outputs": [],
   "source": [
    "#Add the necessary swarm variables\n",
    "\n",
    "proximityVariable      = gSwarm.add_variable( dataType=\"int\", count=1 )\n",
    "signedDistanceVariable = gSwarm.add_variable( dataType=\"float\", count=1 )\n",
    "directorVector   = gSwarm.add_variable( dataType=\"double\", count=2)\n",
    "\n",
    "directorVector.data[:,:] = 0.0\n",
    "proximityVariable.data[:] = 0\n",
    "signedDistanceVariable.data[:] = 0.0\n",
    "\n",
    "\n",
    "\n",
    "# Call the Fault helper functions to initialize this info on the main material swarm\n",
    "    \n",
    "update_swarm_from_faults(surface_seg, proximityVariable, directorVector, signedDistanceVariable)\n",
    "mask_materials(surface_seg, airIndex, materialVariable, proximityVariable, directorVector, signedDistanceVariable)\n",
    "\n",
    "\n",
    "update_swarm_from_faults(fault_seg, proximityVariable, directorVector, signedDistanceVariable)\n",
    "mask_materials(fault_seg, crustIndex, materialVariable, proximityVariable, directorVector, signedDistanceVariable)\n",
    "\n",
    "#Also switch off proximity beneath ndp.CRUSTVISCUTOFF depth\n",
    "proximityVariable.data[gSwarm.particleCoordinates.data[:,1]  < (1. - ndp.CRUSTVISCUTOFF)] = 0. \n",
    "\n",
    "# These should be general enough not to need updating when the faults move etc..\n",
    "#ie they should update as the fields/functions/swarm variables they are built on update\n",
    "edotn_SFn, edots_SFn = fault_strainrate_fns(interfaces, velocityField, directorVector, proximityVariable)"
   ]
  },
  {
   "cell_type": "code",
   "execution_count": 72,
   "metadata": {
    "collapsed": true
   },
   "outputs": [],
   "source": [
    "#Have to add these new swarm variable to our variable lists if we want them to get checkpointed\n",
    "\n",
    "varlist.append(proximityVariable )\n",
    "varlist.append(signedDistanceVariable)\n",
    "varlist.append(directorVector)\n",
    "\n",
    "varnames.append('proximityVariable')\n",
    "varnames.append('signedDistanceVariable')\n",
    "varnames.append('directorVector')\n",
    "\n",
    "\n",
    "if checkpointLoad:                              #Reload all swarm variables \n",
    "    for ix in range(len(varlist)):\n",
    "        varb = varlist[ix]\n",
    "        varb.load(os.path.join(checkpointLoadDir,varnames[ix] + \".h5\"))\n",
    "        \n",
    " "
   ]
  },
  {
   "cell_type": "code",
   "execution_count": null,
   "metadata": {
    "collapsed": true
   },
   "outputs": [],
   "source": []
  },
  {
   "cell_type": "code",
   "execution_count": null,
   "metadata": {
    "collapsed": true
   },
   "outputs": [],
   "source": []
  },
  {
   "cell_type": "code",
   "execution_count": null,
   "metadata": {
    "collapsed": true
   },
   "outputs": [],
   "source": [
    "\n"
   ]
  },
  {
   "cell_type": "markdown",
   "metadata": {},
   "source": [
    "Rheology\n",
    "-----\n",
    "\n"
   ]
  },
  {
   "cell_type": "code",
   "execution_count": 73,
   "metadata": {
    "collapsed": false
   },
   "outputs": [],
   "source": [
    "##############\n",
    "#Set up any functions required by the rheology\n",
    "##############\n",
    "strainRate_2ndInvariant = fn.tensor.second_invariant( \n",
    "                            fn.tensor.symmetric( \n",
    "                            velocityField.fn_gradient ))/md.secInvFac # secInvFac sometimes required if differnet definition of eii is used.\n",
    "\n",
    "def safe_visc(func, viscmin=ndp.eta_min, viscmax=ndp.eta_max):\n",
    "    return fn.misc.max(viscmin, fn.misc.min(viscmax, func))"
   ]
  },
  {
   "cell_type": "code",
   "execution_count": 74,
   "metadata": {
    "collapsed": true
   },
   "outputs": [],
   "source": [
    "#strainRate_2ndInvariant = fn.misc.constant(ndp.SR) #dummy fucntion to check which mechanisms are at active are reference strain rate"
   ]
  },
  {
   "cell_type": "code",
   "execution_count": 75,
   "metadata": {
    "collapsed": false
   },
   "outputs": [],
   "source": [
    "##############\n",
    "#Get dimensional viscosity values at reference values of temp, pressure, and strain rate\n",
    "##############\n",
    "dp.rPressure  = dp.rho*dp.g*dp.rDepth\n",
    "rDf = (1./dp.Adf)*np.exp( ((dp.Edf + dp.Vdf*dp.rPressure))/((dp.R*dp.rTemp)))\n",
    "rLm = (1./dp.Alm)*np.exp( ((dp.Elm + dp.Vlm*dp.rPressure))/((dp.R*dp.rTemp)))\n",
    "\n",
    "rDs = (1./dp.Ads**(1./ndp.n))*(dp.SR**((1.-ndp.n)/ndp.n))*np.exp( ((dp.Eds + dp.Vds*dp.rPressure))/((ndp.n*dp.R*dp.rTemp)))\n",
    "rPr = (1./dp.Apr**(1./ndp.np))*(dp.SR**((1.-ndp.np)/ndp.np))*np.exp( ((dp.Epr + dp.Vpr*dp.rPressure))/((ndp.np*dp.R*dp.rTemp)))\n",
    "\n",
    "dsfac = rDs/dp.eta0\n",
    "dffac = rDf/dp.eta0\n",
    "prfac = rPr/dp.eta0\n",
    "lmfac = rLm/dp.eta0"
   ]
  },
  {
   "cell_type": "code",
   "execution_count": 76,
   "metadata": {
    "collapsed": false
   },
   "outputs": [],
   "source": [
    "#These guys are legacy - to be fixed\n",
    "\n",
    "corrDepthFn = depthFn\n",
    "correctrDepth = ndp.rDepth\n",
    "corrTempFn = temperatureField\n",
    "\n",
    "    \n"
   ]
  },
  {
   "cell_type": "markdown",
   "metadata": {
    "collapsed": false
   },
   "source": [
    "############\n",
    "#Rheology: create UW2 functions for all viscous mechanisms\n",
    "#############\n",
    "\n",
    "omega = fn.misc.constant(1.) #this function can hold any arbitary viscosity modifications \n",
    "\n",
    "\n",
    "##Diffusion Creep\n",
    "diffusion = dffac*fn.math.exp( ((ndp.Edf + (corrDepthFn*ndp.Wdf))/((corrTempFn+ ndp.TS))) - \n",
    "              ((ndp.Edf + (correctrDepth*ndp.Wdf))/((ndp.rTemp + ndp.TS)))  ) \n",
    "\n",
    "\n",
    "##Diffusion Creep\n",
    "lmdiffusion = lmfac*fn.math.exp( ((ndp.Elm + (corrDepthFn*ndp.Wlm))/((corrTempFn+ ndp.TS))) - \n",
    "              ((ndp.Elm + (correctrDepth*ndp.Wlm))/((ndp.rTemp + ndp.TS)))  ) \n",
    "\n",
    "\n",
    "linearVisc = safe_visc(diffusion)\n",
    "\n",
    "##Dislocation Creep\n",
    "nl_correction = (strainRate_2ndInvariant/ndp.SR)**((1.-ndp.n)/(ndp.n))\n",
    "dislocation = dsfac*(nl_correction)*fn.math.exp( ((ndp.Eds + (corrDepthFn*ndp.Wds))/(ndp.n*(corrTempFn + ndp.TS))) -\n",
    "                                     ((ndp.Eds + (correctrDepth*ndp.Wds))/(ndp.n*(ndp.rTemp + ndp.TS))))\n",
    "\n",
    "\n",
    "\n",
    "##Peirls Creep\n",
    "nl_correction = (strainRate_2ndInvariant/ndp.SR)**((1.-ndp.np)/(ndp.np))\n",
    "\n",
    "peierls = prfac*(nl_correction)*fn.math.exp( ((ndp.Eps + (corrDepthFn*ndp.Wps))/(ndp.np*(corrTempFn+ ndp.TS))) -\n",
    "                                     ((ndp.Eps + (correctrDepth*ndp.Wps))/(ndp.np*(ndp.rTemp + ndp.TS))))\n",
    "\n",
    "\n",
    "##Define the mantle Plasticity\n",
    "ys =  ndp.cm + (depthFn*ndp.fcmd)\n",
    "ysf = fn.misc.min(ys, ndp.ysMax)\n",
    "yielding = ysf/(2.*(strainRate_2ndInvariant)) \n",
    "\n",
    "##Crust rheology\n",
    "crustys =  ndp.cc + (depthFn*ndp.fccd)\n",
    "crustysf = fn.misc.min(crustys, ndp.ysMax)\n",
    "crustyielding = crustysf/(2.*(strainRate_2ndInvariant)) \n",
    "\n",
    "\n",
    "##Interface rheology\n",
    "interfaceys =  ndp.ci + (depthFn*ndp.fcid) #only weakened cohesion is discussed, not fc\n",
    "interfaceysf = fn.misc.min(interfaceys, ndp.ysMax)\n",
    "interfaceyielding = interfaceysf/(2.*(strainRate_2ndInvariant))\n",
    "\n",
    "\n",
    "#Condition for weak crust rheology to be active\n",
    "interfaceCond = operator.and_((depthFn < ndp.CRUSTVISCUTOFF), (depthFn > ndp.MANTLETOCRUST))"
   ]
  },
  {
   "cell_type": "code",
   "execution_count": 78,
   "metadata": {
    "collapsed": false
   },
   "outputs": [],
   "source": [
    "############\n",
    "#Rheology: create UW2 functions for all viscous mechanisms\n",
    "#############\n",
    "\n",
    "omega = fn.misc.constant(1.) #this function can hold any arbitary viscosity modifications \n",
    "\n",
    "\n",
    "##Diffusion Creep\n",
    "diffusion = (1./ndp.Adf ) *fn.math.exp( ((ndp.Edf + (corrDepthFn*ndp.Wdf))/((corrTempFn+ ndp.TS)))) \n",
    "\n",
    "\n",
    "##Diffusion Creep\n",
    "lmdiffusion = (1./ndp.Alm ) *fn.math.exp( ((ndp.Elm + (corrDepthFn*ndp.Wlm))/((corrTempFn+ ndp.TS)))) \n",
    "\n",
    "\n",
    "linearVisc = safe_visc(diffusion)\n",
    "\n",
    "##Dislocation Creep\n",
    "pefac = (ndp.Ads**((-1./ndp.n)))\n",
    "srfac = strainRate_2ndInvariant**((1.-ndp.n)/ndp.n)\n",
    "dislocation = pefac*srfac*fn.math.exp( ((ndp.Eds + (corrDepthFn*ndp.Wds))/(ndp.n*(corrTempFn + ndp.TS))))\n",
    "\n",
    "\n",
    "##Peirls Creep\n",
    "pefac = (ndp.Apr**((-1./ndp.np)))\n",
    "srfac = strainRate_2ndInvariant**((1.-ndp.np)/ndp.np)\n",
    "peierls = pefac*srfac*fn.math.exp( ((ndp.Eps + (corrDepthFn*ndp.Wps))/(ndp.np*(corrTempFn+ ndp.TS))))\n",
    "\n",
    "\n",
    "##Define the mantle Plasticity\n",
    "ys =  ndp.cm + (depthFn*ndp.fcmd)\n",
    "ysf = fn.misc.min(ys, ndp.ysMax)\n",
    "yielding = ysf/(2.*(strainRate_2ndInvariant)) \n",
    "\n",
    "##Crust rheology\n",
    "crustys =  ndp.cc + (depthFn*ndp.fccd)\n",
    "crustysf = fn.misc.min(crustys, ndp.ysMax)\n",
    "crustyielding = crustysf/(2.*(strainRate_2ndInvariant)) \n",
    "\n",
    "\n",
    "##Interface rheology\n",
    "interfaceys =  ndp.ci + (depthFn*ndp.fcid) #only weakened cohesion is discussed, not fc\n",
    "interfaceysf = fn.misc.min(interfaceys, ndp.ysMax)\n",
    "interfaceyielding = interfaceysf/(2.*(strainRate_2ndInvariant))\n",
    "\n",
    "\n",
    "#Condition for weak crust rheology to be active\n",
    "interfaceCond = operator.and_((depthFn < ndp.CRUSTVISCUTOFF), (depthFn > ndp.MANTLETOCRUST))"
   ]
  },
  {
   "cell_type": "code",
   "execution_count": 83,
   "metadata": {
    "collapsed": false
   },
   "outputs": [
    {
     "data": {
      "text/plain": [
       "(3.2329315439784088, 0.09927272727272728, 5.5826526418577798e+20)"
      ]
     },
     "execution_count": 83,
     "metadata": {},
     "output_type": "execute_result"
    }
   ],
   "source": [
    "diffusion.evaluate(mesh).min(), ndp.TS, rDf"
   ]
  },
  {
   "cell_type": "code",
   "execution_count": 88,
   "metadata": {
    "collapsed": false
   },
   "outputs": [],
   "source": [
    "#crustyielding.evaluate(mesh).min(), crustyielding.evaluate(mesh).mean(),crustyielding.evaluate(mesh).max()\n",
    "#finalcrustviscosityFn.evaluate(mesh).min(),finalcrustviscosityFn.evaluate(mesh).max(), finalcrustviscosityFn.evaluate(mesh).mean()\n",
    "#strainRate_2ndInvariant.evaluate(mesh).min(), strainRate_2ndInvariant.evaluate(mesh).mean(), strainRate_2ndInvariant.evaluate(mesh).max()\n",
    "#safe_visc(diffusion).evaluate(mesh).mean()\n",
    "#interfaceviscosityFn.evaluate(mesh).min(), interfaceviscosityFn.evaluate(mesh).max(), interfaceviscosityFn.evaluate(mesh).mean()\n",
    "#interfaceyielding.evaluate(mesh).min(), interfaceyielding.evaluate(mesh).mean(), interfaceyielding.evaluate(mesh).max()\n",
    "#ndp.eta_min, ndp.eta_max_interface\n",
    "#finalviscosityFn.evaluate(mesh).min(),finalviscosityFn.evaluate(mesh).max(), finalviscosityFn.evaluate(mesh).mean()\n"
   ]
  },
  {
   "cell_type": "code",
   "execution_count": 89,
   "metadata": {
    "collapsed": true
   },
   "outputs": [],
   "source": [
    "############\n",
    "#Rheology: combine viscous mechanisms in various ways \n",
    "#harmonic: harmonic average of all mechanims\n",
    "#min: minimum effective viscosity of the mechanims\n",
    "#mixed: takes the minimum of the harmonic and the plastic effective viscosity\n",
    "#############\n",
    "\n",
    "#Map viscMechs list (defined in setup), to the actual functions, requires that same names are used.\n",
    "viscdict = {}\n",
    "for i in md.viscMechs:\n",
    "    viscdict[i] = locals()[i]\n",
    "\n",
    "   \n",
    "    \n",
    "#Harmonic average of all mechanisms    \n",
    "if md.viscCombine == 'harmonic':\n",
    "    denom = fn.misc.constant(0.)\n",
    "    for mech in viscdict.values():\n",
    "        denom += 1./mech\n",
    "    mantleviscosityFn = safe_visc(1./denom)\n",
    "    harmonic_test = mantleviscosityFn\n",
    "    #Only diffusuion creep for lower mantle\n",
    "    finalviscosityFn  = fn.branching.conditional([(depthFn < ndp.LOWMANTLEDEPTH, mantleviscosityFn),\n",
    "                                  (True, safe_visc(lmdiffusion*ndp.low_mantle_visc_fac))])\n",
    "\n",
    "    #Add the weaker crust mechanism, plus any cutoffs\n",
    "    crust_denom = denom + (1./crustyielding)\n",
    "    crustviscosityFn = safe_visc(1./crust_denom, viscmin=ndp.eta_min_crust, viscmax=ndp.eta_max_crust)\n",
    "    #Add the subduction interface mechanism, plus any cutoffs\n",
    "    interface_denom = denom + (1./interfaceyielding)\n",
    "    interfaceviscosityFn = safe_visc(1./interface_denom, viscmin=ndp.eta_min, viscmax=ndp.eta_max_interface)\n",
    "    #Crust viscosity only active above between CRUSTVISCUTOFF and MANTLETOCRUST\n",
    "    finalcrustviscosityFn  = fn.branching.conditional([(depthFn < ndp.MANTLETOCRUST, crustviscosityFn),\n",
    "                                                     (interfaceCond, interfaceviscosityFn), #\n",
    "                                                     (True, finalviscosityFn)])\n",
    "\n",
    "    \n",
    "    \n",
    "if md.viscCombine == 'min':\n",
    "    mantleviscosityFn = fn.misc.constant(ndp.eta_max)\n",
    "    for mech in viscdict.values():\n",
    "        mantleviscosityFn = fn.misc.min(mech, mantleviscosityFn )\n",
    "    mantleviscosityFn = safe_visc(mantleviscosityFn)\n",
    "    min_test = mantleviscosityFn\n",
    "    #Only diffusion creep for lower mantle\n",
    "    finalviscosityFn  = fn.branching.conditional([(depthFn < ndp.LOWMANTLEDEPTH, mantleviscosityFn),\n",
    "                                  (True, safe_visc(lmdiffusion*ndp.low_mantle_visc_fac))])\n",
    "    #Add the weaker crust and interface mechanisms, plus any cutoffs\n",
    "    crustviscosityFn = safe_visc(fn.misc.min(finalviscosityFn, crustyielding), viscmin=ndp.eta_min, viscmax=ndp.eta_max_crust)\n",
    "    interfaceviscosityFn = safe_visc(fn.misc.min(finalviscosityFn, interfaceyielding), viscmin=ndp.eta_min, viscmax=ndp.eta_max_interface)\n",
    "    #Crust viscosity only active above CRUSTVISCUTOFF\n",
    "    #Crust viscosity only active above between CRUSTVISCUTOFF and MANTLETOCRUST\n",
    "    finalcrustviscosityFn  = fn.branching.conditional([(depthFn < MANTLETOCRUST, crustviscosityFn),\n",
    "                                                     (interfaceCond, interfaceviscosityFn), #\n",
    "                                                     (True, finalviscosityFn)])\n",
    "\n",
    "if md.viscCombine == 'mixed':\n",
    "    denom = fn.misc.constant(0.)\n",
    "    for mech in viscdict.values():\n",
    "        denom += 1./mech\n",
    "    mantleviscosityFn = safe_visc(fn.misc.min(yielding, (1./denom))) #min of harmonic average and yielding\n",
    "    mixed_test = mantleviscosityFn\n",
    "    #Only diffusuion creep for lower mantle\n",
    "    finalviscosityFn  = fn.branching.conditional([(depthFn < ndp.LOWMANTLEDEPTH, mantleviscosityFn),\n",
    "                                  (True, safe_visc(lmdiffusion*ndp.low_mantle_visc_fac))])\n",
    "    \n",
    "    #Add the weaker crust mechanism, plus any cutoffs\n",
    "    crust_denom = denom + (1./crustyielding)\n",
    "    crustviscosityFn = safe_visc(fn.misc.min(crustyielding,1./crust_denom), viscmin=ndp.eta_min, viscmax=ndp.eta_max_crust)\n",
    "\n",
    "    interface_denom = denom + (1./interfaceyielding)\n",
    "    interfaceviscosityFn = safe_visc(fn.misc.min(interfaceyielding,1./interface_denom), viscmin=ndp.eta_min, viscmax=ndp.eta_max_interface)\n",
    "    #Crust viscosity only active above between CRUSTVISCUTOFF and MANTLETOCRUST\n",
    "    finalcrustviscosityFn  = fn.branching.conditional([(depthFn < MANTLETOCRUST, crustviscosityFn),\n",
    "                                                     (interfaceCond, interfaceviscosityFn), #\n",
    "                                                     (True, finalviscosityFn)])"
   ]
  },
  {
   "cell_type": "code",
   "execution_count": 90,
   "metadata": {
    "collapsed": false
   },
   "outputs": [],
   "source": [
    "#Check the implementation above, using a simpler formulation\n",
    "\n",
    "\n",
    "#denoms1 =  ((1./diffusion) + (1./dislocation) + (1./peierls) + (1./yielding) )\n",
    "#mantleviscosityFn1 = safe_visc((1./denoms1) )\n",
    "#finalviscosityFn1  = fn.branching.conditional([(depthFn < ndp.LOWMANTLEDEPTH, mantleviscosityFn),\n",
    "#                                  (True, safe_visc(lmdiffusion*ndp.low_mantle_visc_fac))])\n",
    "\n",
    "#crust_denoms1 = ((1./diffusion) + (1./dislocation) + (1./peierls) + (1./crustyielding) )\n",
    "#crustviscosityFn1 = safe_visc(1./crust_denoms1, viscmin=ndp.eta_max_crust, viscmax=ndp.eta_max_crust)\n",
    "#finalcrustviscosityFn1  = fn.branching.conditional([(depthFn < ndp.CRUSTVISCUTOFF, crustviscosityFn1),\n",
    "#                                                     (True, finalviscosityFn1)])\n"
   ]
  },
  {
   "cell_type": "code",
   "execution_count": 91,
   "metadata": {
    "collapsed": false
   },
   "outputs": [],
   "source": [
    "#viscMinConditions = fn.misc.min(diffusion, dislocation, peierls, yielding)\n",
    "\n",
    "viscMin = fn.misc.constant(ndp.eta_max)\n",
    "#Generate the minimum viscosity function \n",
    "for mech in [safe_visc(diffusion), safe_visc(dislocation), safe_visc(peierls), safe_visc(yielding)]:\n",
    "    viscMin = fn.misc.min(mech, viscMin) \n",
    "    \n",
    "dm = 1e-5\n",
    "   \n",
    "    \n",
    "viscMinConditions = [ ( operator.and_((viscMin > (ndp.eta_max - dm) ),\n",
    "                           (viscMin < (ndp.eta_max + dm) ))  , 0),  #visc = ndp.eta_max\n",
    "                      ( operator.and_((viscMin > (diffusion - dm) ),\n",
    "                           (viscMin < (diffusion + dm) ))  , 1),  #visc = diffusion\n",
    "                      ( operator.and_((viscMin > (dislocation - dm) ),\n",
    "                           (viscMin < (dislocation + dm) ))  , 2),#visc = dislocation\n",
    "                      ( operator.and_((viscMin > (peierls - dm) ),\n",
    "                           (viscMin < (peierls + dm) ))  , 3),    #visc = peierls\n",
    "                      ( operator.and_((viscMin > (yielding - dm) ),\n",
    "                           (viscMin < (yielding + dm) ))  , 4),   #visc = yielding\n",
    "                      ( True                                           , 5) ] #visc = eta_min (should be)\n",
    "\n",
    "\n",
    "\n",
    "\n",
    "# use the branching conditional function to set each particle's index\n",
    "fnViscMin = fn.branching.conditional( viscMinConditions )\n",
    "\n"
   ]
  },
  {
   "cell_type": "markdown",
   "metadata": {},
   "source": [
    "Stokes system setup\n",
    "-----\n"
   ]
  },
  {
   "cell_type": "code",
   "execution_count": 92,
   "metadata": {
    "collapsed": false
   },
   "outputs": [],
   "source": [
    "densityMapFn = fn.branching.map( fn_key = materialVariable,\n",
    "                         mapping = {airIndex:ndp.StRA,\n",
    "                                    crustIndex:basaltbuoyancyFn, \n",
    "                                    mantleIndex:pyrolitebuoyancyFn,\n",
    "                                    harzIndex:harzbuoyancyFn} )"
   ]
  },
  {
   "cell_type": "code",
   "execution_count": 93,
   "metadata": {
    "collapsed": true
   },
   "outputs": [],
   "source": [
    "\n",
    "# Define our vertical unit vector using a python tuple (this will be automatically converted to a function).\n",
    "gravity = ( 0.0, 1.0 )\n",
    "\n",
    "# Now create a buoyancy force vector using the density and the vertical unit vector. \n",
    "buoyancyFn = densityMapFn * gravity"
   ]
  },
  {
   "cell_type": "code",
   "execution_count": 95,
   "metadata": {
    "collapsed": false
   },
   "outputs": [
    {
     "name": "stderr",
     "output_type": "stream",
     "text": [
      "/root/underworld2/underworld/systems/_stokes.py:70: UserWarning: 'swarm' paramater has been renamed to 'voronoi_swarm'. Please update your models. 'swarm' parameter will be removed in the next release.\n",
      "  \"'swarm' parameter will be removed in the next release.\")\n"
     ]
    }
   ],
   "source": [
    "if md.PIC_integration:\n",
    "    stokesPIC = uw.systems.Stokes(velocityField=velocityField, \n",
    "                              pressureField=pressureField,\n",
    "                              conditions=[freeslipBC,],\n",
    "                              fn_viscosity=linearVisc, \n",
    "                              fn_bodyforce=buoyancyFn,\n",
    "                             swarm=gSwarm)\n",
    "    \n",
    "\n",
    "else:\n",
    "    stokesPIC = uw.systems.Stokes(velocityField=velocityField, \n",
    "                              pressureField=pressureField,\n",
    "                              conditions=[freeslipBC,],\n",
    "                              fn_viscosity=linearVisc, \n",
    "                              fn_bodyforce=buoyancyFn )"
   ]
  },
  {
   "cell_type": "code",
   "execution_count": 96,
   "metadata": {
    "collapsed": true
   },
   "outputs": [],
   "source": [
    "solver = uw.systems.Solver(stokesPIC)\n",
    "if not checkpointLoad:\n",
    "    solver.solve() #A solve on the linear visocisty is unhelpful unless we're starting from scratch"
   ]
  },
  {
   "cell_type": "code",
   "execution_count": 97,
   "metadata": {
    "collapsed": false
   },
   "outputs": [],
   "source": [
    "viscosityMapFn = fn.branching.map( fn_key = materialVariable,\n",
    "                         mapping = {crustIndex:finalcrustviscosityFn,\n",
    "                                    mantleIndex:finalviscosityFn,\n",
    "                                    harzIndex:finalviscosityFn} )\n",
    "\n"
   ]
  },
  {
   "cell_type": "code",
   "execution_count": null,
   "metadata": {
    "collapsed": true
   },
   "outputs": [],
   "source": [
    "#Add the non-linear viscosity to the Stokes system\n",
    "stokesPIC.fn_viscosity = viscosityMapFn"
   ]
  },
  {
   "cell_type": "code",
   "execution_count": null,
   "metadata": {
    "collapsed": false
   },
   "outputs": [],
   "source": [
    "solver.set_inner_method(\"mumps\")\n",
    "solver.options.scr.ksp_type=\"cg\"\n",
    "solver.set_penalty(1.0e7)\n",
    "solver.options.scr.ksp_rtol = 1.0e-4\n",
    "solver.solve(nonLinearIterate=True)\n",
    "solver.print_stats()"
   ]
  },
  {
   "cell_type": "code",
   "execution_count": null,
   "metadata": {
    "collapsed": true
   },
   "outputs": [],
   "source": []
  },
  {
   "cell_type": "code",
   "execution_count": null,
   "metadata": {
    "collapsed": false
   },
   "outputs": [],
   "source": [
    "#Check which particles are yielding\n",
    "#yieldingCheck.data[:] = 0\n",
    "\n",
    "#yieldconditions = [ ( mantleviscosityFn < Visc , 1), \n",
    "#               ( True                                           , 0) ]\n",
    "\n",
    "# use the branching conditional function to set each particle's index\n",
    "#yieldingCheck.data[:] = fn.branching.conditional( yieldconditions ).evaluate(gSwarm)"
   ]
  },
  {
   "cell_type": "code",
   "execution_count": 104,
   "metadata": {
    "collapsed": false,
    "scrolled": true
   },
   "outputs": [
    {
     "data": {
      "text/html": [
       "<img src='data:image/png;base64,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'>"
      ],
      "text/plain": [
       "<IPython.core.display.HTML object>"
      ]
     },
     "metadata": {},
     "output_type": "display_data"
    },
    {
     "data": {
      "text/plain": [
       "'test.gldb'"
      ]
     },
     "execution_count": 104,
     "metadata": {},
     "output_type": "execute_result"
    }
   ],
   "source": [
    "fig= glucifer.Figure()\n",
    "#fig.append( glucifer.objects.Points(gSwarm,lowerPlateRestFn))\n",
    "fig.append( glucifer.objects.Points(gSwarm, diffusion, logScale=True, valueRange =[1e-1,1e5]))\n",
    "#fig.append( glucifer.objects.Surface(mesh, temperatureField ))#\n",
    "#fig.append( glucifer.objects.VectorArrows(mesh,velocityField, scaling=0.002))\n",
    "#fig.append( glucifer.objects.Surface(mesh,densityMapFn))\n",
    "#fig.append( glucifer.objects.Surface(mesh,raylieghFn))\n",
    "#fig.append( glucifer.objects.Points(swarmPlateBoundary, pointSize=4))\n",
    "fig.show()\n",
    "fig.save_database('test.gldb')"
   ]
  },
  {
   "cell_type": "markdown",
   "metadata": {},
   "source": [
    "Advection-diffusion System setup\n",
    "-----"
   ]
  },
  {
   "cell_type": "code",
   "execution_count": 194,
   "metadata": {
    "collapsed": false
   },
   "outputs": [],
   "source": [
    "advDiff = uw.systems.AdvectionDiffusion( phiField       = temperatureField, \n",
    "                                         phiDotField    = temperatureDotField, \n",
    "                                         velocityField  = velocityField,\n",
    "                                         fn_sourceTerm    = 0.0,\n",
    "                                         fn_diffusivity = 1.0, \n",
    "                                         #conditions     = [neumannTempBC, dirichTempBC] )\n",
    "                                         conditions     = [ dirichTempBC] )\n",
    "order = 2\n",
    "if md.periodicBcs:\n",
    "    order = 1\n",
    "\n",
    "materialadvector = uw.systems.SwarmAdvector( swarm         = gSwarm, \n",
    "                                     velocityField = velocityField, \n",
    "                                     order         = order)"
   ]
  },
  {
   "cell_type": "code",
   "execution_count": 83,
   "metadata": {
    "collapsed": false
   },
   "outputs": [],
   "source": [
    "population_control = uw.swarm.PopulationControl(gSwarm,deleteThreshold=0.2,splitThreshold=1.,maxDeletions=3,maxSplits=0, aggressive=True, particlesPerCell=int(md.ppc))"
   ]
  },
  {
   "cell_type": "markdown",
   "metadata": {
    "collapsed": false
   },
   "source": [
    "############\n",
    "#Slightly Diffuse the initial perturbation\n",
    "#############\n",
    "\n",
    "#I was playing around with a tailored diffusivity to target the slab\n",
    "\n",
    "inCircleFnGenerator#Now build the perturbation part\n",
    "def htan(centre, radius, widthPh, farVal = 0.01, fac = 10.):\n",
    "    coord = fn.input()\n",
    "    offsetFn = coord - centre\n",
    "    dist = fn.math.sqrt(fn.math.dot( offsetFn, offsetFn ))\n",
    "    \n",
    "    \n",
    "    return (((fn.math.tanh(((radius - dist))/widthPh) + 1.) /2.))*fac + farVal\n",
    "\n",
    "tfun = htan((0.1, 0.9), 0.1, 0.1, 0.1)\n",
    "\n",
    "for index in mesh.specialSets[\"MinJ_VertexSet\"]:\n",
    "    temperatureField.data[index] = \n",
    "for index in mesh.specialSets[\"MaxJ_VertexSet\"]:\n",
    "    temperatureField.data[index] = \n",
    "\n",
    "timetoDifffuse = 0.#Million years\n",
    "incrementtoDiffuse = 0.2 #Million years\n",
    "\n",
    "timetoDifffuse = (timetoDifffuse*1e6*(spery)/sf.SR).magnitude\n",
    "incrementtoDiffuse = (incrementtoDiffuse*1e6*(spery)/sf.SR).magnitude\n",
    "\n",
    "totAdt = 0.\n",
    "it = 0\n",
    "while totAdt < timetoDifffuse:\n",
    "    dtad = advDiff.get_max_dt()\n",
    "    print(\"step\") + str(it) \n",
    "    advDiff.integrate(incrementtoDiffuse)\n",
    "    totAdt += incrementtoDiffuse\n",
    "    it += 1\n",
    "    \n",
    "#Reset Boundary conds.   \n",
    "for index in mesh.specialSets[\"MinJ_VertexSet\"]:\n",
    "    temperatureField.data[index] = ndp.TBP\n",
    "for index in mesh.specialSets[\"MaxJ_VertexSet\"]:\n",
    "    temperatureField.data[index] = ndp.TSP\n",
    "    \n",
    "comm.Barrier()"
   ]
  },
  {
   "cell_type": "markdown",
   "metadata": {},
   "source": [
    "Analysis functions / routines\n",
    "-----\n",
    "\n",
    "Most of the metrics we want to calculate are either:\n",
    "\n",
    "* extrema of some field / function\n",
    "* integral of some field / function\n",
    "* average value of some function (integral divide by area)\n",
    "\n",
    "In addition, we also want to be able to determine these metrics over some restricted part of the domain, where the restriction may either be due some value of a field, a material type, or something more arbitrary.\n",
    "\n",
    "Much of he challenge lies in defining these restriction functions in an efficient and robust way (i.e they don't break down as the model evolves)\n",
    "\n",
    "For volume integrals, and extrema, we build a hierarchy of restriction functions, each borrowing from the previous, until we have divided the domain into a number of sub regions of interest. \n",
    "\n",
    "In general, averages are found afterwards by combining the integral and the area of the relavent subregion"
   ]
  },
  {
   "cell_type": "code",
   "execution_count": 84,
   "metadata": {
    "collapsed": false
   },
   "outputs": [],
   "source": [
    "###################\n",
    "#Volume Restriction functions\n",
    "###################\n",
    "\n",
    "#Level 1. Global\n",
    "globRestFn = fn.misc.constant(1.)\n",
    "\n",
    "#Level 2. Rock - air:\n",
    "rockRestFn = uw.swarm.SwarmVariable(gSwarm, dataType='double', count=1)\n",
    "rockRestFn.data[:] = 0.\n",
    "rockRestFn.data[np.where(materialVariable.data[:] != airIndex)] = 1.\n",
    "rockRestFn *= globRestFn #Add next level up in heirarchy\n",
    "\n",
    "\n",
    "#Level 3. lithosphere - mantle:\n",
    "mantleconditions = [ (                                  operator.and_(temperatureField < 0.9*ndp.TPP, operator.and_(xFn> ndp.lRidge,xFn< ndp.rRidge )), 1.),\n",
    "                   (                                                   True , 0.) ]\n",
    "lithRestFn = fn.branching.conditional(mantleconditions)\n",
    "lithRestFn*=rockRestFn #Add next level up in heirarchy\n",
    "\n",
    "\n",
    "#Level 4. lower plate - upper plate:\n",
    "\n",
    "\n",
    "#This whole section simply builds a restriction Fn that separates the upper and lower plate \n",
    "#It's pretty cumbersome, and will need to advected, rebuilt\n",
    "#can YOU think of a better way?\n",
    "   \n",
    "lowerPlateRestFn = gSwarm.add_variable( dataType=\"double\", count=1 )\n",
    "lowerPlateRestFn.data[:] = 0.0\n",
    "\n",
    "update_swarm_from_line(slab_seg, lowerPlateRestFn )\n",
    "lowerPlateRestFn.data[np.where(lowerPlateRestFn.data != 0.)] += midthickness #assume instances of 0. are actually where no fault on proc\n",
    "lowerPlateRestFn.data[np.where(lowerPlateRestFn.data > 0.*midthickness)] = 1.\n",
    "lowerPlateRestFn.data[np.where(lowerPlateRestFn.data <= 0.*midthickness)] = 0. \n",
    "lowerPlateRestFn *= lithRestFn #Add next level up in heirarchy\n",
    "\n",
    "#Also see if we can stick the the Velocity and coords on to this swarm as well\n",
    "tipVar = uw.swarm.SwarmVariable(slab_seg.swarm, dataType='double', count=4)\n",
    "tipVar.data[:,:2] = velocityField.evaluate(slab_seg.swarm)\n",
    "tipVar.data[:,2:] = xFn.evaluate(slab_seg.swarm)\n",
    "tipVar.data[:,3:] = yFn.evaluate(slab_seg.swarm)\n",
    "\n",
    "\n",
    "#Level 5. hinge of lower plate:\n",
    "\n",
    "hinge60Spatialconditions = [ (           operator.and_( (depthFn < (60e3/dp.LS)),  (xFn > ndp.subzone - 60e3/dp.LS)), 1.),\n",
    "                   (                                                   True , 0.) ]\n",
    "\n",
    "hinge60RestFn = fn.branching.conditional(hinge60Spatialconditions)\n",
    "hinge60RestFn*=lowerPlateRestFn #Add next level up in heirarchy\n",
    "\n",
    "\n",
    "\n",
    "hinge180Spatialconditions = [ (           operator.and_( (depthFn < (180e3/dp.LS)),  (xFn > ndp.subzone - 180e3/dp.LS)), 1.),\n",
    "                   (                                                   True , 0.) ]\n",
    "\n",
    "hinge180RestFn = fn.branching.conditional(hinge180Spatialconditions)\n",
    "hinge180RestFn*=lowerPlateRestFn #Add next level up in heirarchy\n",
    "\n",
    "\n",
    "#Level 6. crust/interface in hinge of lower plate:\n",
    "\n",
    "interfaceRestFn = uw.swarm.SwarmVariable(gSwarm, dataType='double', count=1)\n",
    "interfaceRestFn.data[:] = 0.\n",
    "interfaceRestFn.data[np.where(materialVariable.data[:] == crustIndex)] = 1.\n",
    "interfaceRestFn *= hinge60RestFn #Add next level up in heirarchy"
   ]
  },
  {
   "cell_type": "code",
   "execution_count": 85,
   "metadata": {
    "collapsed": false
   },
   "outputs": [
    {
     "data": {
      "text/plain": [
       "'test.gldb'"
      ]
     },
     "execution_count": 85,
     "metadata": {},
     "output_type": "execute_result"
    }
   ],
   "source": [
    "\n",
    "#fig= glucifer.Figure()\n",
    "#fig.append( glucifer.objects.Points(gSwarm,lithRestFn))\n",
    "#fig.append( glucifer.objects.Points(gSwarm, viscosityMapFn, logScale=True, valueRange =[1e-3,1e5]))\n",
    "#fig.append( glucifer.objects.Points(gSwarm, lowerPlateRestFn ))\n",
    "#fig.append( glucifer.objects.VectorArrows(mesh,velocityField, scaling=0.002))\n",
    "#fig.append( glucifer.objects.Surface(mesh,densityMapFn))\n",
    "#fig.append( glucifer.objects.Surface(mesh,raylieghFn))\n",
    "#fig.append( glucifer.objects.Points(slab_seg.swarm, pointSize=10))\n",
    "#fig.save_database('test.gldb')"
   ]
  },
  {
   "cell_type": "code",
   "execution_count": 86,
   "metadata": {
    "collapsed": true
   },
   "outputs": [],
   "source": [
    "respltconditions = [ \n",
    "                    (                                  hinge60RestFn*2. > rockRestFn*1., 1.),\n",
    "                    (                                  lowerPlateRestFn*3. > hinge60RestFn*2. , 3.),\n",
    "                    (                                  lithRestFn*5. > lowerPlateRestFn*3. , 4.),\n",
    "                   (                                                   True , 0.) ]\n",
    "\n",
    "respltFn = fn.branching.conditional(respltconditions )"
   ]
  },
  {
   "cell_type": "code",
   "execution_count": 87,
   "metadata": {
    "collapsed": true
   },
   "outputs": [],
   "source": [
    "###################\n",
    "#Surface Restriction functions\n",
    "###################\n",
    "\n",
    "def platenessFn(val = 0.1):\n",
    "    normgradV = fn.math.abs(velocityField.fn_gradient[0]/fn.math.sqrt(velocityField[0]*velocityField[0])) #[du*/dx]/sqrt(u*u)\n",
    "\n",
    "\n",
    "\n",
    "    srconditions = [ (                                  normgradV < val, 1.),\n",
    "                   (                                                   True , 0.) ]\n",
    "\n",
    "\n",
    "    return fn.branching.conditional(srconditions)\n",
    "\n",
    "srRestFn = platenessFn(val = 0.1)"
   ]
  },
  {
   "cell_type": "code",
   "execution_count": 88,
   "metadata": {
    "collapsed": false
   },
   "outputs": [],
   "source": [
    "###################\n",
    "#Setup any Functions to be integrated\n",
    "###################\n",
    "\n",
    "sqrtv2 = fn.math.sqrt(fn.math.dot(velocityField,velocityField))\n",
    "vx = velocityField[0]\n",
    "v2x = fn.math.dot(velocityField[0],velocityField[0])\n",
    "sqrtv2x = fn.math.sqrt(fn.math.dot(velocityField[0],velocityField[0]))\n",
    "dw = temperatureField*velocityField[1]\n",
    "sinner = fn.math.dot( strainRate_2ndInvariant, strainRate_2ndInvariant )\n",
    "vd = 2.*viscosityMapFn*sinner\n",
    "dTdZ = temperatureField.fn_gradient[1]"
   ]
  },
  {
   "cell_type": "code",
   "execution_count": 89,
   "metadata": {
    "collapsed": true
   },
   "outputs": [],
   "source": [
    "###################\n",
    "#Create integral, max/min templates \n",
    "###################\n",
    "\n",
    "def volumeint(Fn = 1., rFn=globRestFn):\n",
    "    return uw.utils.Integral( Fn*rFn,  mesh )\n",
    "\n",
    "def surfint(Fn = 1., rFn=globRestFn, surfaceIndexSet=mesh.specialSets[\"MaxJ_VertexSet\"]):\n",
    "    return uw.utils.Integral( Fn*rFn, mesh=mesh, integrationType='Surface', surfaceIndexSet=surfaceIndexSet)\n",
    "\n",
    "def maxMin(Fn = 1.):\n",
    "    #maxMin(Fn = 1., rFn=globRestFn\n",
    "    #vuFn = fn.view.min_max(Fn*rFn) #the restriction functions don't work with the view.min_max fn yet\n",
    "    vuFn = fn.view.min_max(Fn)\n",
    "    return vuFn\n",
    "    "
   ]
  },
  {
   "cell_type": "code",
   "execution_count": 90,
   "metadata": {
    "collapsed": true
   },
   "outputs": [],
   "source": [
    "#Setup volume integrals on different sub regions\n",
    "\n",
    "##Whole rock domain\n",
    "\n",
    "_areaintRock = volumeint(rockRestFn)\n",
    "_tempintRock = volumeint(temperatureField, rockRestFn)\n",
    "_rmsintRock = volumeint(sqrtv2,rockRestFn)\n",
    "_dwintRock = volumeint(dw,rockRestFn)\n",
    "_vdintRock = volumeint(vd,rockRestFn)\n",
    "\n",
    "##Lith \n",
    "\n",
    "_areaintLith  = volumeint(lithRestFn)\n",
    "_tempintLith  = volumeint(temperatureField, lithRestFn)\n",
    "_rmsintLith  = volumeint(sqrtv2,lithRestFn)\n",
    "_dwintLith  = volumeint(dw,lithRestFn)\n",
    "_vdintLith  = volumeint(vd,lithRestFn)\n",
    "\n",
    "##Lower plate\n",
    "\n",
    "_areaintLower  = volumeint(lowerPlateRestFn)\n",
    "_tempintLower  = volumeint(temperatureField, lowerPlateRestFn)\n",
    "_rmsintLower  = volumeint(sqrtv2,lowerPlateRestFn)\n",
    "_dwintLower = volumeint(dw,lowerPlateRestFn)\n",
    "_vdintLower  = volumeint(vd,lowerPlateRestFn)\n",
    "\n",
    "##Hinge lower plate\n",
    "\n",
    "_areaintHinge180  = volumeint(hinge180RestFn)\n",
    "_vdintHinge180  = volumeint(vd,hinge180RestFn)\n",
    "\n",
    "_areaintHinge60  = volumeint(hinge60RestFn)\n",
    "_vdintHinge60  = volumeint(vd,hinge60RestFn)\n",
    "\n",
    "\n",
    "##Interface\n",
    "\n",
    "_areaintInterface  = volumeint(interfaceRestFn)\n",
    "_vdintInterface = volumeint(vd,interfaceRestFn)"
   ]
  },
  {
   "cell_type": "code",
   "execution_count": 91,
   "metadata": {
    "collapsed": true
   },
   "outputs": [],
   "source": [
    "#Setup surface integrals\n",
    "\n",
    "_surfLength = surfint()\n",
    "_rmsSurf = surfint(sqrtv2x)\n",
    "_nuTop = surfint(dTdZ)\n",
    "_nuBottom = surfint(dTdZ, surfaceIndexSet=mesh.specialSets[\"MinJ_VertexSet\"])\n",
    "_plateness = surfint(srRestFn)"
   ]
  },
  {
   "cell_type": "code",
   "execution_count": 92,
   "metadata": {
    "collapsed": true
   },
   "outputs": [],
   "source": [
    "#Setup max min fns (at the moment, we can't pass restriction function to view.min_max, so we're limited to whole volume or surface extrema)\n",
    "\n",
    "##Whole rock domain\n",
    "\n",
    "#_maxMinVisc = maxMin(viscosityMapFn1)  #These don't work on swarm variables or mapping functions, yet\n",
    "#dummyFn = _maxMinVisc.evaluate(mesh)\n",
    "#_maxMinStressInv = maxMin(2*viscosityMapFn1*strainRate_2ndInvariant) #These don't work on swarm variables or mapping functions, yet\n",
    "#dummyFn = _maxMinStress.evaluate(mesh)\n",
    "#_maxMinVd = maxMin(vd) #These don't work on swarm variables or mapping functions, yet\n",
    "#dummyFn = _maxMinVd.evaluate(mesh)\n",
    "\n",
    "\n",
    "_maxMinVel = maxMin(velocityField) \n",
    "dummyFn = _maxMinVel.evaluate(mesh)\n",
    "\n",
    "_maxMinSr = maxMin(strainRate_2ndInvariant) \n",
    "dummyFn = _maxMinSr.evaluate(mesh)\n",
    "\n",
    "\n",
    "#Surface extrema\n",
    "_maxMinVxSurf = maxMin(vx)\n",
    "dummyFn = _maxMinVxSurf.evaluate(tWalls)\n"
   ]
  },
  {
   "cell_type": "code",
   "execution_count": 93,
   "metadata": {
    "collapsed": true
   },
   "outputs": [],
   "source": [
    "#Volume Ints\n",
    "areaintRock = _areaintRock.evaluate()[0]\n",
    "tempintRock = _tempintRock.evaluate()[0]\n",
    "rmsintRock = _rmsintRock.evaluate()[0]\n",
    "dwintRock = _dwintRock.evaluate()[0]\n",
    "vdintRock = _vdintRock.evaluate()[0]\n",
    "areaintLith = _areaintLith.evaluate()[0]\n",
    "tempintLith = _tempintLith.evaluate()[0]\n",
    "rmsintLith = _rmsintLith.evaluate()[0]\n",
    "dwintLith = _dwintLith.evaluate()[0]\n",
    "vdintLith = _vdintLith.evaluate()[0]\n",
    "areaintLower = _areaintLower.evaluate()[0]\n",
    "tempintLower = _tempintLower.evaluate()[0]\n",
    "rmsintLower = _rmsintLower.evaluate()[0]\n",
    "dwintLower = _dwintLower.evaluate()[0]\n",
    "vdintLower = _vdintLower.evaluate()[0]\n",
    "vdintHinge180 = _vdintHinge180.evaluate()[0]\n",
    "areaintHinge180 = _areaintHinge180.evaluate()[0]\n",
    "vdintHinge60 = _vdintHinge60.evaluate()[0]\n",
    "areaintHinge60= _areaintHinge60.evaluate()[0]\n",
    "vdintInterface = _vdintInterface.evaluate()[0]\n",
    "areaintInterface= _areaintInterface.evaluate()[0]\n",
    "\n",
    "#Surface Ints\n",
    "surfLength = _surfLength.evaluate()[0]\n",
    "rmsSurf = _rmsSurf.evaluate()[0]\n",
    "nuTop = _nuTop.evaluate()[0]\n",
    "nuBottom = _nuBottom.evaluate()[0]\n",
    "plateness = _plateness.evaluate()[0]\n",
    "\n",
    "#Max mins\n",
    "maxVel = _maxMinVel.max_global()\n",
    "minVel = _maxMinVel.min_global() \n",
    "maxSr = _maxMinSr.max_global()\n",
    "minSr = _maxMinSr.min_global()\n",
    "maxVxsurf = _maxMinVxSurf.max_global()\n",
    "minVxsurf = _maxMinVxSurf.min_global()"
   ]
  },
  {
   "cell_type": "markdown",
   "metadata": {},
   "source": [
    "print(areaintRock)\n",
    "print(tempintRock)\n",
    "print(rmsintRock)\n",
    "print(dwintRock)\n",
    "print(vdintRock)\n",
    "print(areaintLith)\n",
    "print(tempintLith )\n",
    "print(rmsintLith)\n",
    "print(dwintLith)\n",
    "print(vdintLith)\n",
    "print(areaintLower)\n",
    "print(tempintLower)\n",
    "print(rmsintLower) \n",
    "print(dwintLower)\n",
    "print(vdintLower)\n",
    "print(vdintHinge60)\n",
    "print(vdintHinge180)\n",
    "print(vdintInterface)\n",
    "\n",
    "print(surfLength)\n",
    "print(rmsSurf)\n",
    "print(nuTop)\n",
    "print(nuBottom)\n",
    "print(plateness)\n",
    "\n",
    "\n",
    "print(maxVel)\n",
    "print(minVel)\n",
    "print(maxSr)\n",
    "print(minSr)\n",
    "print(maxVxsurf)\n",
    "print(minVxsurf)"
   ]
  },
  {
   "cell_type": "markdown",
   "metadata": {},
   "source": [
    "Viz.\n",
    "-----"
   ]
  },
  {
   "cell_type": "code",
   "execution_count": 56,
   "metadata": {
    "collapsed": true
   },
   "outputs": [],
   "source": []
  },
  {
   "cell_type": "code",
   "execution_count": 90,
   "metadata": {
    "collapsed": false
   },
   "outputs": [],
   "source": [
    "#Build a depth dependent mask for the vizualisation\n",
    "\n",
    "depthVariable      = gSwarm.add_variable( dataType=\"float\", count=1 )\n",
    "depthVariable.data[:] = depthFn.evaluate(gSwarm)\n",
    "\n",
    "vizVariable      = gSwarm.add_variable( dataType=\"int\", count=1 )\n",
    "vizVariable.data[:] = 0\n",
    "\n",
    "for index, value in enumerate(depthVariable.data[:]):\n",
    "    #print index, value\n",
    "    if np.random.rand(1)**5 > value/(MAXY - MINY):\n",
    "        vizVariable.data[index] = 1\n",
    "        \n",
    "del index, value    #get rid of any variables that might be pointing at the .data handles (these are!)"
   ]
  },
  {
   "cell_type": "code",
   "execution_count": null,
   "metadata": {
    "collapsed": false
   },
   "outputs": [],
   "source": []
  },
  {
   "cell_type": "code",
   "execution_count": 91,
   "metadata": {
    "collapsed": false
   },
   "outputs": [
    {
     "data": {
      "text/plain": [
       "0.20726128472222222"
      ]
     },
     "execution_count": 91,
     "metadata": {},
     "output_type": "execute_result"
    }
   ],
   "source": [
    "np.sum(vizVariable.data == 1.)/float(vizVariable.data.shape[0])"
   ]
  },
  {
   "cell_type": "code",
   "execution_count": 93,
   "metadata": {
    "collapsed": false
   },
   "outputs": [],
   "source": [
    "#fig = glucifer.Figure()\n",
    "#fig.append( glucifer.objects.Points(gSwarm,vizVariable, colours= 'black pink'))\n",
    "#fig.show()"
   ]
  },
  {
   "cell_type": "code",
   "execution_count": 73,
   "metadata": {
    "collapsed": false
   },
   "outputs": [
    {
     "ename": "NameError",
     "evalue": "name 'viscosityMapFn' is not defined",
     "output_type": "error",
     "traceback": [
      "\u001b[1;31m\u001b[0m",
      "\u001b[1;31mNameError\u001b[0mTraceback (most recent call last)",
      "\u001b[1;32m<ipython-input-73-af9769efccb3>\u001b[0m in \u001b[0;36m<module>\u001b[1;34m()\u001b[0m\n\u001b[0;32m     38\u001b[0m \u001b[1;33m\u001b[0m\u001b[0m\n\u001b[0;32m     39\u001b[0m     \u001b[0mfigVisc\u001b[0m\u001b[1;33m=\u001b[0m \u001b[0mglucifer\u001b[0m\u001b[1;33m.\u001b[0m\u001b[0mFigure\u001b[0m\u001b[1;33m(\u001b[0m\u001b[0mstore2\u001b[0m\u001b[1;33m,\u001b[0m \u001b[0mfigsize\u001b[0m\u001b[1;33m=\u001b[0m\u001b[1;33m(\u001b[0m\u001b[1;36m300\u001b[0m\u001b[1;33m*\u001b[0m\u001b[0mnp\u001b[0m\u001b[1;33m.\u001b[0m\u001b[0mround\u001b[0m\u001b[1;33m(\u001b[0m\u001b[0mmd\u001b[0m\u001b[1;33m.\u001b[0m\u001b[0maspectRatio\u001b[0m\u001b[1;33m,\u001b[0m\u001b[1;36m2\u001b[0m\u001b[1;33m)\u001b[0m\u001b[1;33m,\u001b[0m\u001b[1;36m300\u001b[0m\u001b[1;33m)\u001b[0m\u001b[1;33m)\u001b[0m\u001b[1;33m\u001b[0m\u001b[0m\n\u001b[1;32m---> 40\u001b[1;33m     \u001b[0mfigVisc\u001b[0m\u001b[1;33m.\u001b[0m\u001b[0mappend\u001b[0m\u001b[1;33m(\u001b[0m \u001b[0mglucifer\u001b[0m\u001b[1;33m.\u001b[0m\u001b[0mobjects\u001b[0m\u001b[1;33m.\u001b[0m\u001b[0mPoints\u001b[0m\u001b[1;33m(\u001b[0m\u001b[0mvSwarm\u001b[0m\u001b[1;33m,\u001b[0m\u001b[0mviscosityMapFn\u001b[0m\u001b[1;33m,\u001b[0m \u001b[0mlogScale\u001b[0m\u001b[1;33m=\u001b[0m\u001b[0mTrue\u001b[0m\u001b[1;33m,\u001b[0m \u001b[0mvalueRange\u001b[0m \u001b[1;33m=\u001b[0m\u001b[1;33m[\u001b[0m\u001b[1;36m1.\u001b[0m\u001b[1;33m,\u001b[0m\u001b[1;36m1e5\u001b[0m\u001b[1;33m]\u001b[0m\u001b[1;33m)\u001b[0m\u001b[1;33m)\u001b[0m\u001b[1;33m\u001b[0m\u001b[0m\n\u001b[0m\u001b[0;32m     41\u001b[0m \u001b[1;33m\u001b[0m\u001b[0m\n\u001b[0;32m     42\u001b[0m     \u001b[0mfigMech\u001b[0m\u001b[1;33m=\u001b[0m \u001b[0mglucifer\u001b[0m\u001b[1;33m.\u001b[0m\u001b[0mFigure\u001b[0m\u001b[1;33m(\u001b[0m\u001b[0mstore3\u001b[0m\u001b[1;33m,\u001b[0m \u001b[0mfigsize\u001b[0m\u001b[1;33m=\u001b[0m\u001b[1;33m(\u001b[0m\u001b[1;36m300\u001b[0m\u001b[1;33m*\u001b[0m\u001b[0mnp\u001b[0m\u001b[1;33m.\u001b[0m\u001b[0mround\u001b[0m\u001b[1;33m(\u001b[0m\u001b[0mmd\u001b[0m\u001b[1;33m.\u001b[0m\u001b[0maspectRatio\u001b[0m\u001b[1;33m,\u001b[0m\u001b[1;36m2\u001b[0m\u001b[1;33m)\u001b[0m\u001b[1;33m,\u001b[0m\u001b[1;36m300\u001b[0m\u001b[1;33m)\u001b[0m\u001b[1;33m)\u001b[0m\u001b[1;33m\u001b[0m\u001b[0m\n",
      "\u001b[1;31mNameError\u001b[0m: name 'viscosityMapFn' is not defined"
     ]
    }
   ],
   "source": [
    "if figures == 'gldb':\n",
    "    #Pack some stuff into a database as well\n",
    "    figDb = glucifer.Figure()\n",
    "    #figDb.append( glucifer.objects.Mesh(mesh))\n",
    "    figDb.append( glucifer.objects.VectorArrows(mesh,velocityField, scaling=0.0005))\n",
    "    #figDb.append( glucifer.objects.Points(gSwarm,tracerVariable, colours= 'white black'))\n",
    "    figDb.append( glucifer.objects.Points(gSwarm,materialVariable, fn_mask=vizVariable))\n",
    "    figDb.append( glucifer.objects.Points(swarmPlateBoundary, pointSize=4))\n",
    "\n",
    "    #figDb.append( glucifer.objects.Points(gSwarm,viscMinVariable))\n",
    "    figDb.append( glucifer.objects.Points(gSwarm,fnViscMin, fn_mask=vizVariable))\n",
    "    #figDb.append( glucifer.objects.Points(gSwarm,fnViscMin))\n",
    "    #figDb.append( glucifer.objects.Points(gSwarm, viscosityMapFn, logScale=True))\n",
    "    #figDb.append( glucifer.objects.Points(gSwarm, strainRate_2ndInvariant, logScale=True))\n",
    "    figDb.append( glucifer.objects.Points(gSwarm,temperatureField, fn_mask=vizVariable))\n",
    "    \n",
    "    \n",
    "    #figRestrict= glucifer.Figure()\n",
    "    #figRestrict.append( glucifer.objects.Points(gSwarm,respltFn))\n",
    "    #figRestrict.append( glucifer.objects.Points(gSwarm,lithRestFn))\n",
    "    #figRestrict.append( glucifer.objects.Points(gSwarm,lowerPlateRestFn))\n",
    "    #figRestrict.append( glucifer.objects.Points(gSwarm,hinge180RestFn))\n",
    "    #figRestrict.append( glucifer.objects.Points(gSwarm,interfaceRestFn))\n",
    "    #figRestrict.append( glucifer.objects.Points(interfaces[0].swarm, colours=\"Blue Blue\", pointSize=2.0, colourBar=False) )\n",
    "    #figRestrict.append( glucifer.objects.Points(interfaces[1].swarm, colours=\"Red Red\", pointSize=2.0, colourBar=False) )\n",
    "    #figRestrict.append( glucifer.objects.Points(slab_seg.swarm, colours=\"Black Black\", pointSize=2.0, colourBar=False) )\n",
    "\n",
    "elif figures == 'store':\n",
    "    fullpath = os.path.join(outputPath + \"gldbs/\")\n",
    "    store1 = glucifer.Store(fullpath + 'subduction1.gldb')\n",
    "    store2 = glucifer.Store(fullpath + 'subduction2.gldb')\n",
    "    store3 = glucifer.Store(fullpath + 'subduction3.gldb')\n",
    "    store4 = glucifer.Store(fullpath + 'subduction4.gldb')\n",
    "\n",
    "\n",
    "    figTemp = glucifer.Figure(store1,figsize=(300*np.round(md.aspectRatio,2),300))\n",
    "    figTemp.append( glucifer.objects.Points(gSwarm,temperatureField, fn_mask=vizVariable))\n",
    "\n",
    "    figVisc= glucifer.Figure(store2, figsize=(300*np.round(md.aspectRatio,2),300))\n",
    "    figVisc.append( glucifer.objects.Points(gSwarm,viscosityMapFn, logScale=True, valueRange =[1.,1e5], fn_mask=vizVariable))\n",
    "\n",
    "    figMech= glucifer.Figure(store3, figsize=(300*np.round(md.aspectRatio,2),300))\n",
    "    figMech.append( glucifer.objects.Points(gSwarm,fnViscMin, fn_mask=vizVariable))\n",
    "    \n",
    "    figMat= glucifer.Figure(store4, figsize=(300*np.round(md.aspectRatio,2),300))\n",
    "    figMat.append( glucifer.objects.Points(gSwarm,materialVariable, fn_mask=vizVariable))"
   ]
  },
  {
   "cell_type": "code",
   "execution_count": 72,
   "metadata": {
    "collapsed": false
   },
   "outputs": [],
   "source": []
  },
  {
   "cell_type": "code",
   "execution_count": null,
   "metadata": {
    "collapsed": true
   },
   "outputs": [],
   "source": []
  },
  {
   "cell_type": "markdown",
   "metadata": {
    "collapsed": false
   },
   "source": [
    "if figures == 'gldb':\n",
    "    #Pack some stuff into a database as well\n",
    "    figDb = glucifer.Figure()\n",
    "    #figDb.append( glucifer.objects.Mesh(mesh))\n",
    "    figDb.append( glucifer.objects.VectorArrows(mesh,velocityField, scaling=0.0005))\n",
    "    #figDb.append( glucifer.objects.Points(gSwarm,tracerVariable, colours= 'white black'))\n",
    "    figDb.append( glucifer.objects.Points(gSwarm,materialVariable))\n",
    "    figDb.append( glucifer.objects.Points(swarmPlateBoundary, pointSize=4))\n",
    "\n",
    "    #figDb.append( glucifer.objects.Points(gSwarm,viscMinVariable))\n",
    "    figDb.append( glucifer.objects.Points(vSwarm,fnViscMin))\n",
    "    #figDb.append( glucifer.objects.Points(gSwarm,fnViscMin))\n",
    "    #figDb.append( glucifer.objects.Points(gSwarm, viscosityMapFn, logScale=True))\n",
    "    #figDb.append( glucifer.objects.Points(gSwarm, strainRate_2ndInvariant, logScale=True))\n",
    "    figDb.append( glucifer.objects.Points(vSwarm,temperatureField))\n",
    "    \n",
    "    \n",
    "    #figRestrict= glucifer.Figure()\n",
    "    #figRestrict.append( glucifer.objects.Points(gSwarm,respltFn))\n",
    "    #figRestrict.append( glucifer.objects.Points(gSwarm,lithRestFn))\n",
    "    #figRestrict.append( glucifer.objects.Points(gSwarm,lowerPlateRestFn))\n",
    "    #figRestrict.append( glucifer.objects.Points(gSwarm,hinge180RestFn))\n",
    "    #figRestrict.append( glucifer.objects.Points(gSwarm,interfaceRestFn))\n",
    "    #figRestrict.append( glucifer.objects.Points(interfaces[0].swarm, colours=\"Blue Blue\", pointSize=2.0, colourBar=False) )\n",
    "    #figRestrict.append( glucifer.objects.Points(interfaces[1].swarm, colours=\"Red Red\", pointSize=2.0, colourBar=False) )\n",
    "    #figRestrict.append( glucifer.objects.Points(slab_seg.swarm, colours=\"Black Black\", pointSize=2.0, colourBar=False) )\n",
    "\n",
    "elif figures == 'store':\n",
    "    fullpath = os.path.join(outputPath + \"gldbs/\")\n",
    "    store = glucifer.Store(fullpath + 'subduction.gldb')\n",
    "\n",
    "    figTemp = glucifer.Figure(store,figsize=(300*np.round(md.aspectRatio,2),300))\n",
    "    figTemp.append( glucifer.objects.Points(vSwarm,temperatureField))\n",
    "\n",
    "    figVisc= glucifer.Figure(store, figsize=(300*np.round(md.aspectRatio,2),300))\n",
    "    figVisc.append( glucifer.objects.Points(gSwarm,viscosityMapFn, logScale=True, valueRange =[1.,1e5]))\n",
    "\n",
    "    figMech= glucifer.Figure(store, figsize=(300*np.round(md.aspectRatio,2),300))\n",
    "    figMech.append( glucifer.objects.Points(vSwarm,fnViscMin))\n",
    "    \n",
    "    figMat= glucifer.Figure(store, figsize=(300*np.round(md.aspectRatio,2),300))\n",
    "    figMat.append( glucifer.objects.Points(gSwarm,materialVariable))"
   ]
  },
  {
   "cell_type": "markdown",
   "metadata": {},
   "source": [
    "**Miscellania**"
   ]
  },
  {
   "cell_type": "code",
   "execution_count": 95,
   "metadata": {
    "collapsed": false
   },
   "outputs": [
    {
     "name": "stderr",
     "output_type": "stream",
     "text": [
      "/usr/local/lib/python2.7/dist-packages/numpy/core/numeric.py:190: VisibleDeprecationWarning: using a non-integer number instead of an integer will result in an error in the future\n",
      "  a = empty(shape, dtype, order)\n"
     ]
    }
   ],
   "source": [
    "##############\n",
    "#Create a numpy array at the surface to get surface information on (using parallel-friendly evaluate_global)\n",
    "##############\n",
    "\n",
    "surface_xs = np.linspace(mesh.minCoord[0], mesh.maxCoord[0], mesh.elementRes[0] + 1)\n",
    "surface_nodes = np.array(zip(surface_xs, np.ones(len(surface_xs)*mesh.maxCoord[1]))) #For evaluation surface velocity\n",
    "normgradV = velocityField.fn_gradient[0]/fn.math.sqrt(velocityField[0]*velocityField[0])\n",
    "\n",
    "tempMM = fn.view.min_max(temperatureField)\n",
    "dummy = tempMM.evaluate(mesh)\n",
    "\n"
   ]
  },
  {
   "cell_type": "code",
   "execution_count": 96,
   "metadata": {
    "collapsed": false
   },
   "outputs": [],
   "source": [
    "#Not parallel friendly yet\n",
    "#tipXvels = np.sum(velocityField[0].evaluate(tipSwarm)) /\\\n",
    "#    tipSwarm.particleGlobalCount\n",
    "#tipXvels = np.sum(velocityField[1].evaluate(tipSwarm)) /\\\n",
    "#    tipSwarm.particleGlobalCount\n",
    "    \n",
    "#tipXpos = np.sum(xFn.evaluate(tipSwarm)) /\\\n",
    "#    tipSwarm.particleGlobalCount\n",
    "#tipYpos = np.sum(yFn.evaluate(tipSwarm)) /\\\n",
    "#    tipSwarm.particleGlobalCount"
   ]
  },
  {
   "cell_type": "code",
   "execution_count": 97,
   "metadata": {
    "collapsed": false
   },
   "outputs": [],
   "source": [
    "##############\n",
    "#These functions handle checkpointing\n",
    "##############\n",
    "\n",
    "\n",
    "#Subzone = ndp.subzone\n",
    "\n",
    "\n",
    "def checkpoint1(step, checkpointPath,filename, filewrites):\n",
    "    path = checkpointPath + str(step) \n",
    "    os.mkdir(path)\n",
    "    ##Write and save the file, if not already a writing step\n",
    "    if not step % filewrites == 0:\n",
    "        f_o.write((30*'%-15s ' + '\\n') % (areaintRock, tempintRock, rmsintRock, dwintRock, vdintRock,\n",
    "                                  areaintLith, tempintLith,rmsintLith, dwintLith, vdintLith,\n",
    "                                  areaintLower, tempintLower, rmsintLower, dwintLower, vdintLower, \n",
    "                                  areaintHinge180,vdintHinge180, areaintHinge60, vdintHinge60, \n",
    "                                  areaintInterface, vdintInterface, vdintInterface,\n",
    "                                  rmsSurf, nuTop, nuBottom, plateness, ndp.subzone,ndp.lRidge, ndp.rRidge, realtime))\n",
    "    filename.close()\n",
    "    shutil.copyfile(os.path.join(outputPath, outputFile), os.path.join(path, outputFile))\n",
    "\n",
    "\n",
    "def checkpoint2(step, checkpointPath, swarm, filename, varlist = [materialVariable], varnames = ['materialVariable']):\n",
    "    path = checkpointPath + str(step) \n",
    "    velfile = \"velocityField\" + \".hdf5\"\n",
    "    tempfile = \"temperatureField\" + \".hdf5\"\n",
    "    pressfile = \"pressureField\" + \".hdf5\"\n",
    "    velocityField.save(os.path.join(path, velfile))\n",
    "    temperatureField.save(os.path.join(path, tempfile))\n",
    "    pressureField.save(os.path.join(path, pressfile))\n",
    "    swarm.save(os.path.join(path, \"swarm.h5\") ) \n",
    "    for ix in range(len(varlist)):\n",
    "        varb = varlist[ix]\n",
    "        varb.save(os.path.join(path,varnames[ix] + \".h5\"))\n",
    "    \n",
    "    #Save the parameters\n",
    "    dict_list = [dp, sf, ndp, md] #if any of the dictionaries have changed, this list needs to be rebuilt\n",
    "    save_pickles(dict_list, dict_names, path)\n",
    "    \n",
    "#Simple Checkpoint function for the faults / interfaces (markerLine2D)\n",
    "def checkpoint3(step,  checkpointPath, interfaces,interfacenames ):\n",
    "    path = checkpointPath + str(step)\n",
    "    for ix in range(len(interfaces)):\n",
    "        intf = interfaces[ix]\n",
    "        intf.swarm.save(os.path.join(path,interfacenames[ix] + \".h5\"))\n",
    "    \n",
    "    "
   ]
  },
  {
   "cell_type": "code",
   "execution_count": 98,
   "metadata": {
    "collapsed": true
   },
   "outputs": [],
   "source": [
    "##############\n",
    "#Simple function to return info about location of plate boundaries\n",
    "##############\n",
    "\n",
    "def getnearpos(array,value):\n",
    "    idx = (np.abs(array-value)).argmin()\n",
    "    return idx \n",
    "\n",
    "def plate_info(srfilename, minx, maxx,  searchdx, oldloc = 0.0, plateType='convergent'):\n",
    "    \"\"\"\n",
    "    Use the surface strain rate field to find the location of the plateBoundaries in 2d\n",
    "    This is extremely simple, and not parallel. We can probable do a lot better with uw Functions\n",
    "    At this stage, it's looking at the surface strain field for minima (convergence) & maxima (divergence)\n",
    "    The search is restricted to bounds minx, maxx around the old location.\n",
    "    This will work if the plate boundaries are well defined. If not, it will be useless.\n",
    "    \n",
    "    \"\"\"\n",
    "    if type(srfilename) == str: #read surface strain rate points from file\n",
    "        sr = np.load(srfilename)\n",
    "    else:\n",
    "        sr =  srfilename        #read surface strain rates directly from array\n",
    "    xs = np.linspace(minx,maxx,sr.shape[0] )\n",
    "    #infs at the ends of the SR data...replace with adjacent values\n",
    "    sr[0] = sr[1] \n",
    "    sr[-1] = sr[2]\n",
    "    \n",
    "    #Normalize\n",
    "    srx = (sr- sr.mean()) /(sr.max() - sr.min())\n",
    "    #reduce the search domain, to near the previous PB location\n",
    "    lx, rx = getnearpos(xs, oldloc - searchdx),  getnearpos(xs, oldloc + searchdx)\n",
    "    red_xs, red_sr = xs[lx:rx], srx[lx:rx]\n",
    "    #return the minima\n",
    "    if plateType == 'convergent':\n",
    "        newLoc = red_xs[np.argmin(red_sr)] #Look for local minima (negative maxima) in strain rate - subduction zone\n",
    "    else:\n",
    "        newLoc = red_xs[np.argmax(red_sr)] #Look for local minima (negative maxima) in strain rate - subduction zone\n",
    "    return newLoc "
   ]
  },
  {
   "cell_type": "code",
   "execution_count": null,
   "metadata": {
    "collapsed": true
   },
   "outputs": [],
   "source": []
  },
  {
   "cell_type": "code",
   "execution_count": 99,
   "metadata": {
    "collapsed": true
   },
   "outputs": [],
   "source": [
    "##############\n",
    "#This will allow us to evaluate viscous shear heating, and add the result directly to the temperature field\n",
    "##############\n",
    "\n",
    "viscDisMapFn = 2.*viscosityMapFn*sinner\n",
    "viscDisFnmesh = uw.mesh.MeshVariable(mesh,nodeDofCount=1)\n",
    "viscDisProj = uw.utils.MeshVariable_Projection( viscDisFnmesh, viscDisMapFn)\n",
    "viscDisProj.solve()"
   ]
  },
  {
   "cell_type": "code",
   "execution_count": 100,
   "metadata": {
    "collapsed": false
   },
   "outputs": [],
   "source": [
    "# initialise timer for computation\n",
    "start = time.clock()\n"
   ]
  },
  {
   "cell_type": "code",
   "execution_count": 102,
   "metadata": {
    "collapsed": false
   },
   "outputs": [
    {
     "data": {
      "text/plain": [
       "(-1.7241379310344827, (-1.3999999999999999, 0.5448275862068965))"
      ]
     },
     "execution_count": 102,
     "metadata": {},
     "output_type": "execute_result"
    }
   ],
   "source": [
    "#ndp.lRidge, mesh.minCoord"
   ]
  },
  {
   "cell_type": "markdown",
   "metadata": {},
   "source": [
    "Main simulation loop\n",
    "-----\n"
   ]
  },
  {
   "cell_type": "code",
   "execution_count": null,
   "metadata": {
    "collapsed": true
   },
   "outputs": [],
   "source": [
    "#while step < 21:\n",
    "while realtime < 1.:\n",
    "\n",
    "    # solve Stokes and advection systems\n",
    "    solver.solve(nonLinearIterate=True)\n",
    "    dt = advDiff.get_max_dt()*md.courantFac\n",
    "    if step == 0:\n",
    "        dt = 0.\n",
    "    advDiff.integrate(dt)\n",
    "    materialadvector.integrate(dt)\n",
    "    for f in interfaces:\n",
    "        f.advection(dt)\n",
    "    \n",
    "    #Add the adiabatic adjustment \n",
    "    temperatureField.data[:] += dt*abHeatFn.evaluate(mesh)\n",
    "    \n",
    "    #Add the viscous heating term\n",
    "    #Need to fix this (forgot 'dissipation number')\n",
    "    #viscDisProj = uw.utils.MeshVariable_Projection( viscDisFnmesh, viscDisMapFn)\n",
    "    #viscDisProj.solve()\n",
    "    #temperatureField.data[:] += dt*viscDisFnmesh.evaluate(mesh)\n",
    "    \n",
    "\n",
    "    # Increment\n",
    "    realtime += dt\n",
    "    step += 1\n",
    "    timevals.append(realtime)\n",
    "    \n",
    "    ################\n",
    "    #Update temperature field in the air region\n",
    "    #Do this better...\n",
    "    ################\n",
    "    if (step % sticky_air_temp == 0):\n",
    "        for index, coord in enumerate(mesh.data):\n",
    "            if coord[1] >= 1.:\n",
    "                temperatureField.data[index] = ndp.TSP\n",
    "                \n",
    "                \n",
    "    ################\n",
    "    #Files output\n",
    "    ################ \n",
    "    if (step % files_output == 0):\n",
    "\n",
    "        vel_surface = velocityField.evaluate_global(surface_nodes)\n",
    "        norm_surface_sr = normgradV.evaluate_global(surface_nodes)\n",
    "        if uw.rank() == 0:\n",
    "            fnametemp = \"velsurface\" + \"_\" + str(step)\n",
    "            fullpath = os.path.join(outputPath + \"files/\" + fnametemp)\n",
    "            np.save(fullpath, vel_surface)\n",
    "            fnametemp = \"norm_surface_sr\" + \"_\" + str(step)\n",
    "            fullpath = os.path.join(outputPath + \"files/\" + fnametemp)\n",
    "            np.save(fullpath, norm_surface_sr)\n",
    "            \n",
    "        #Save the slab_seg and tipswarm coords \n",
    "        fnametemp1 = \"midSwarm\" + \"_\" + str(step)\n",
    "        fullpath1 = os.path.join(outputPath + \"files/\" + fnametemp1)\n",
    "        slab_seg.swarm.save(fullpath1)\n",
    "        #tipVar.data[:,:2] = velocityField.evaluate(tipSwarm)\n",
    "        #tipVar.data[:,2:] = xFn.evaluate(tipSwarm)\n",
    "        #tipVar.data[:,3:] = yFn.evaluate(tipSwarm)\n",
    "        #comm.barrier()\n",
    "        #fnametemp2 = \"tipSwarm\" + \"_\" + str(step)\n",
    "        #fullpath2 = os.path.join(outputPath + \"files/\" + fnametemp2)\n",
    "        #tipVar.save('fullpath2')          \n",
    "                \n",
    "\n",
    "    ################\n",
    "    #Update the subduction zone / plate information\n",
    "    ################ \n",
    "    #Do with functions!\n",
    "    \n",
    "    comm.barrier()\n",
    "    if (step % files_output == 0):\n",
    "        \n",
    "        if uw.rank() == 0:\n",
    "            fnametemp = \"norm_surface_sr\" + \"_\" + str(step) + \".npy\"\n",
    "            fullpath = os.path.join(outputPath + \"files/\" + fnametemp)\n",
    "            try:\n",
    "                ndp.subzone = plate_info(fullpath, MINX, MAXX,  800e3/dp.LS, oldloc = ndp.subzone, plateType='convergent')\n",
    "            except:\n",
    "                pass\n",
    "            try:\n",
    "                ndp.lRidge = plate_info(fullpath, MINX, MAXX,  800e3/dp.LS, oldloc = ndp.lRidge, plateType='divergent')\n",
    "            except:\n",
    "                pass\n",
    "            try:\n",
    "                ndp.rRidge = plate_info(fullpath, MINX, MAXX,  800e3/dp.LS, oldloc = ndp.rRidge, plateType='divergent')\n",
    "            except:\n",
    "                pass\n",
    "\n",
    "\n",
    "            \n",
    "        else:\n",
    "            ndp.subzone = None\n",
    "            ndp.lRidge = None\n",
    "            ndp.rRidge = None\n",
    "        \n",
    "        comm.barrier()    \n",
    "        #send out the updated info for sz location\n",
    "        \n",
    "        ndp.subzone = comm.bcast(ndp.subzone, root=0)\n",
    "        ndp.lRidge = comm.bcast(ndp.lRidge, root=0)\n",
    "        ndp.rRidge = comm.bcast(ndp.rRidge, root=0)        \n",
    "            \n",
    "    ################\n",
    "    # Calculate the Metrics\n",
    "    ################\n",
    "    if (step % metric_output == 0):\n",
    "        ###############\n",
    "        #Rebuild the restriction functions where necessary\n",
    "        ###############\n",
    "        \n",
    "        #Lithosphere - mantle:\n",
    "        mantleconditions = [ (                                  operator.and_(temperatureField < 0.9*ndp.TPP, operator.and_(xFn> ndp.lRidge,xFn< ndp.rRidge )), 1.),\n",
    "                   (                                                   True , 0.) ]\n",
    "        lithRestFn = fn.branching.conditional(mantleconditions)\n",
    "        lithRestFn*=rockRestFn #Add next level up in heirarchy\n",
    "        \n",
    "        #Lower plate\n",
    "        \n",
    "        lowerPlateRestFn = gSwarm.add_variable( dataType=\"double\", count=1 )\n",
    "        lowerPlateRestFn.data[:] = 0.0\n",
    "        update_swarm_from_line(slab_seg, lowerPlateRestFn )\n",
    "        lowerPlateRestFn.data[np.where(lowerPlateRestFn.data >= -1.*midthickness)] = 1.\n",
    "        lowerPlateRestFn.data[np.where(lowerPlateRestFn.data < -1.*midthickness)] = 0. \n",
    "        lowerPlateRestFn *= lithRestFn #Add next level up in hierarchy\n",
    "        \n",
    "        #Hinge\n",
    "        \n",
    "        hinge60Spatialconditions = [ (           operator.and_( (depthFn < MAXY - (60e3/dp.LS)),  (xFn > ndp.subzone - 60e3/dp.LS)), 1.),\n",
    "                   (                                                   True , 0.) ]\n",
    "        hinge60RestFn = fn.branching.conditional(hinge60Spatialconditions)\n",
    "        hinge60RestFn*=lowerPlateRestFn #Add next level up in hierarchy\n",
    "\n",
    "\n",
    "\n",
    "        hinge180Spatialconditions = [ (           operator.and_( (depthFn < MAXY - (180e3/dp.LS)),  (xFn > ndp.subzone - 180e3/dp.LS)), 1.),\n",
    "                           (                                                   True , 0.) ]\n",
    "        hinge180RestFn = fn.branching.conditional(hinge180Spatialconditions)\n",
    "        hinge180RestFn*=lowerPlateRestFn #Add next level up in hierarchy\n",
    "        \n",
    "        ###############\n",
    "        #Metrics\n",
    "        ###############\n",
    "        areaintRock = _areaintRock.evaluate()[0] #trivial except when using sticky air\n",
    "        tempintRock = _tempintRock.evaluate()[0]\n",
    "        rmsintRock = _rmsintRock.evaluate()[0]\n",
    "        dwintRock = _dwintRock.evaluate()[0]\n",
    "        vdintRock = _vdintRock.evaluate()[0]\n",
    "        areaintLith = _areaintLith.evaluate()[0]\n",
    "        tempintLith = _tempintLith.evaluate()[0]\n",
    "        rmsintLith = _rmsintLith.evaluate()[0]\n",
    "        dwintLith = _dwintLith.evaluate()[0]\n",
    "        vdintLith = _vdintLith.evaluate()[0]\n",
    "        areaintLower = _areaintLower.evaluate()[0]\n",
    "        tempintLower = _tempintLower.evaluate()[0]\n",
    "        rmsintLower = _rmsintLower.evaluate()[0]\n",
    "        dwintLower = _dwintLower.evaluate()[0]\n",
    "        vdintLower = _vdintLower.evaluate()[0]\n",
    "        vdintHinge180 = _vdintHinge180.evaluate()[0]\n",
    "        areaintHinge180 = _areaintHinge180.evaluate()[0]\n",
    "        vdintHinge60 = _vdintHinge60.evaluate()[0]\n",
    "        areaintHinge60= _areaintHinge60.evaluate()[0]\n",
    "        vdintInterface = _vdintInterface.evaluate()[0]\n",
    "        areaintInterface= _areaintInterface.evaluate()[0]\n",
    "        #Surface integrals\n",
    "        rmsSurf = _rmsSurf.evaluate()[0]\n",
    "        nuTop = _nuTop.evaluate()[0]\n",
    "        nuBottom = _nuBottom.evaluate()[0]\n",
    "        plateness = _plateness.evaluate()[0]\n",
    "        #extrema\n",
    "        maxVel = _maxMinVel.max_global()\n",
    "        minVel = _maxMinVel.min_global() \n",
    "        maxSr = _maxMinSr.max_global()\n",
    "        minSr = _maxMinSr.min_global()\n",
    "        maxVxsurf = _maxMinVxSurf.max_global()\n",
    "        minVxsurf = _maxMinVxSurf.min_global()\n",
    "        # output to text file...root proc. handles this one\n",
    "        if uw.rank()==0:\n",
    "            f_o.write((30*'%-15s ' + '\\n') % (areaintRock, tempintRock, rmsintRock, dwintRock, vdintRock,\n",
    "                                  areaintLith, tempintLith,rmsintLith, dwintLith, vdintLith,\n",
    "                                  areaintLower, tempintLower, rmsintLower, dwintLower, vdintLower, \n",
    "                                  areaintHinge180,vdintHinge180, areaintHinge60, vdintHinge60, \n",
    "                                  areaintInterface, vdintInterface, vdintInterface,\n",
    "                                  rmsSurf, nuTop, nuBottom, plateness, ndp.subzone,ndp.lRidge, ndp.rRidge, realtime))\n",
    "    ################\n",
    "    #Also repopulate entire swarm periodically\n",
    "    ################\n",
    "    #if step % swarm_repop == 0:\n",
    "    population_control.repopulate()   \n",
    "\n",
    "\n",
    "                   \n",
    "        \n",
    "        \n",
    "    ################\n",
    "    #Particle update\n",
    "    ###############    \n",
    "    #ageVariable.data[:] += dt #increment the ages (is this efficient?)\n",
    "    ageDT += dt\n",
    "    \n",
    "    if step % swarm_update == 0:\n",
    "        \n",
    "        \n",
    "        #This is hardcoded to assume subduction is towards the right\n",
    "        tempop = operator.lt\n",
    "        szoffset = 200e3/dp.LS\n",
    "\n",
    "        #Update the relevant parts of the material graph\n",
    "        #Remove and rebuild edges related to crust\n",
    "        DG.remove_edges_from([(mantleIndex,crustIndex)])\n",
    "        DG.add_edges_from([(mantleIndex,crustIndex)])\n",
    "        DG.remove_edges_from([(harzIndex,crustIndex)])\n",
    "        DG.add_edges_from([(harzIndex,crustIndex)])\n",
    "\n",
    "        #... to crust\n",
    "        DG.add_transition((mantleIndex,crustIndex), depthFn, operator.lt, 0.5)\n",
    "        DG.add_transition((mantleIndex,crustIndex), xFn, tempop , ndp.subzone - szoffset) #No crust on the upper plate\n",
    "        DG.add_transition((mantleIndex,crustIndex), ageVariable, operator.gt, 0.2)\n",
    "\n",
    "        DG.add_transition((harzIndex,crustIndex), depthFn, operator.lt, ndp.MANTLETOCRUST)\n",
    "        DG.add_transition((harzIndex,crustIndex), xFn, tempop, ndp.subzone - szoffset) #This one sets no crust on the upper plate\n",
    "        DG.add_transition((harzIndex,crustIndex), ageVariable, operator.gt, crustageCond)\n",
    "        \n",
    "        comm.barrier()\n",
    "        \n",
    "        #rebuild the swarm that carries these points...just for testing\n",
    "        del swarmPlateBoundary\n",
    "        swarmPlateBoundary = uw.swarm.Swarm( mesh=mesh )\n",
    "        swarmCoords = np.array([ [ndp.subzone,1.], [ndp.lRidge,1.],[ndp.rRidge,1.]])\n",
    "        swarmPlateBoundary.add_particles_with_coordinates(swarmCoords)\n",
    "    \n",
    "        \n",
    "        \n",
    "        #Increment age stuff. \n",
    "        ageConditions = [ (depthFn < ndp.AGETRACKDEPTH, ageVariable + ageDT ),  #add ageDThere\n",
    "                  (True, 0.) ]\n",
    "        ageVariable.data[:] = fn.branching.conditional( ageConditions ).evaluate(gSwarm)        \n",
    "        ageDT = 0. #reset the age incrementer\n",
    "        \n",
    "        #Apply any materialVariable changes\n",
    "        for i in range(2): #go through twice\n",
    "            materialVariable.data[:] = fn.branching.conditional(DG.condition_list).evaluate(gSwarm)\n",
    "        \n",
    "        #Also update any information related to faults / interfaces:\n",
    "        update_swarm_from_faults(surface_seg, proximityVariable, directorVector, signedDistanceVariable)\n",
    "        mask_materials(surface_seg, airIndex, materialVariable, proximityVariable, directorVector, signedDistanceVariable)\n",
    "        \n",
    "        update_swarm_from_faults(fault_seg, proximityVariable, directorVector, signedDistanceVariable)\n",
    "        mask_materials(fault_seg, crustIndex, materialVariable, proximityVariable, directorVector, signedDistanceVariable)\n",
    "        \n",
    "        proximityVariable.data[gSwarm.particleCoordinates.data[:,1]  < (1. - ndp.CRUSTVISCUTOFF)] = 0.\n",
    "        \n",
    "        #And add extra particles to interfaces as necessary\n",
    "        #subduction fault\n",
    "        introPoint = ndp.subzone - abs(ndp.subzone - ndp.lRidge)/2. #half way between ridge and Sz\n",
    "        fault_seg.add_points([introPoint],[MAXY - faultthickness])\n",
    "        #Slab / mid swarm\n",
    "        if dp.sense == 'Right':\n",
    "            introPoint = ndp.lRidge + midthickness #\n",
    "        else:\n",
    "            introPoint = ndp.rRidge - midthickness #\n",
    "        slab_seg.add_points([introPoint],[MAXY - midthickness])\n",
    "\n",
    "        \n",
    "    ################\n",
    "    #Checkpoint\n",
    "    ################\n",
    "    if step % checkpoint_every == 0:\n",
    "        if uw.rank() == 0:\n",
    "            checkpoint1(step, checkpointPath,f_o, metric_output)           \n",
    "        checkpoint2(step, checkpointPath, gSwarm, f_o, varlist = varlist, varnames = varnames)\n",
    "        checkpoint3(step,  checkpointPath, interfaces,interfacenames )\n",
    "        f_o = open(os.path.join(outputPath, outputFile), 'a') #is this line supposed to be here?\n",
    "        \n",
    "    ################\n",
    "    #Gldb output\n",
    "    ################ \n",
    "    if (step % gldbs_output == 0): \n",
    "        if figures == 'gldb':\n",
    "            #Remember to rebuild any necessary swarm variables\n",
    "            fnamedb = \"dbFig\" + \"_\" + str(step) + \".gldb\"\n",
    "            fullpath = os.path.join(outputPath + \"gldbs/\" + fnamedb)\n",
    "            figDb.save_database(fullpath)\n",
    "            \n",
    "            #Temp figure\n",
    "            #fnamedb = \"restrictFig\" + \"_\" + str(step) + \".gldb\"\n",
    "            #fullpath = os.path.join(outputPath + \"gldbs/\" + fnamedb)\n",
    "            #figRestrict.save_database(fullpath)\n",
    "        elif figures == 'store':      \n",
    "            fullpath = os.path.join(outputPath + \"gldbs/\")\n",
    "            store1.step = step\n",
    "            store2.step = step\n",
    "            store3.step = step\n",
    "            store4.step = step\n",
    "            #Save figures to store\n",
    "            figVisc.save( fullpath + \"Visc\" + str(step).zfill(4))\n",
    "            figMech.save( fullpath + \"Mech\" + str(step).zfill(4))\n",
    "            figTemp.save( fullpath + \"Temp\"    + str(step).zfill(4))\n",
    "            figMat.save( fullpath + \"Mat\"    + str(step).zfill(4))\n",
    "            #figSr.save( fullpath + \"Str_rte\"    + str(step).zfill(4))\n",
    "    \n",
    "f_o.close()\n",
    "print 'step =',step"
   ]
  },
  {
   "cell_type": "code",
   "execution_count": null,
   "metadata": {
    "collapsed": false
   },
   "outputs": [],
   "source": [
    "#viscVariable = gSwarm.add_variable( dataType=\"float\", count=1 )\n",
    "#viscVariable.data[:] = viscosityMapFn.evaluate(gSwarm)\n",
    "\n",
    "#buoyVariable = gSwarm.add_variable( dataType=\"float\", count=1 )\n",
    "#buoyVariable.data[:] = densityMapFn.evaluate(gSwarm)"
   ]
  },
  {
   "cell_type": "code",
   "execution_count": 70,
   "metadata": {
    "collapsed": true
   },
   "outputs": [],
   "source": [
    "#Level 3. lithosphere - mantle:\n",
    "tempMM = fn.view.min_max(temperatureField)\n",
    "tempMM.evaluate(mesh)\n",
    "TMAX = tempMM.max_global()\n",
    "mantleconditions = [ (                                  temperatureField < 0.9*ndp.TPP, 1.),\n",
    "                   (                                                   True , 0.) ]\n",
    "lithRestFn = fn.branching.conditional(mantleconditions)\n",
    "#lithRestFn*=rockRestFn #Add next level up in heirarchy"
   ]
  },
  {
   "cell_type": "code",
   "execution_count": 207,
   "metadata": {
    "collapsed": false
   },
   "outputs": [
    {
     "data": {
      "text/plain": [
       "(0.6026351151756232, 0.4643550314115336)"
      ]
     },
     "execution_count": 207,
     "metadata": {},
     "output_type": "execute_result"
    }
   ],
   "source": [
    "1.1*ndp.TPP, 0.6*TMAX"
   ]
  },
  {
   "cell_type": "code",
   "execution_count": 124,
   "metadata": {
    "collapsed": false
   },
   "outputs": [
    {
     "data": {
      "text/html": [
       "<img src='data:image/png;base64,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'>"
      ],
      "text/plain": [
       "<IPython.core.display.HTML object>"
      ]
     },
     "metadata": {},
     "output_type": "display_data"
    }
   ],
   "source": [
    "fig= glucifer.Figure()\n",
    "#fig.append( glucifer.objects.Points(gSwarm,lowerPlateRestFn))\n",
    "#fig.append( glucifer.objects.Points(gSwarm, viscosityMapFn, logScale=True, valueRange =[1e-3,1e5]))\n",
    "#fig.append( glucifer.objects.Surface(mesh, temperatureField ))#\n",
    "#fig.append( glucifer.objects.VectorArrows(mesh,velocityField, scaling=0.002))\n",
    "#fig.append( glucifer.objects.Surface(mesh,densityMapFn))\n",
    "#fig.append( glucifer.objects.Surface(mesh,raylieghFn))\n",
    "#fig.append( glucifer.objects.Points(swarmPlateBoundary, pointSize=4))\n",
    "fig.show()\n",
    "#fig.save_database('test.gldb')"
   ]
  },
  {
   "cell_type": "code",
   "execution_count": 78,
   "metadata": {
    "collapsed": false
   },
   "outputs": [],
   "source": [
    "#print('proc #' + str(comm.rank) + \" \" + str(Max_vx_surf ) )\n",
    "#if uw.rank()==0:\n",
    "#    print('Proc 0' +  \" \" + str(Max_vx_surf ) )"
   ]
  },
  {
   "cell_type": "code",
   "execution_count": null,
   "metadata": {
    "collapsed": true
   },
   "outputs": [],
   "source": [
    "#figDb.save_database('test.gldb')"
   ]
  },
  {
   "cell_type": "code",
   "execution_count": null,
   "metadata": {
    "collapsed": true
   },
   "outputs": [],
   "source": []
  }
 ],
 "metadata": {
  "kernelspec": {
   "display_name": "Python 2",
   "language": "python",
   "name": "python2"
  },
  "language_info": {
   "codemirror_mode": {
    "name": "ipython",
    "version": 2
   },
   "file_extension": ".py",
   "mimetype": "text/x-python",
   "name": "python",
   "nbconvert_exporter": "python",
   "pygments_lexer": "ipython2",
   "version": "2.7.9"
  },
  "widgets": {
   "state": {},
   "version": "1.1.2"
  }
 },
 "nbformat": 4,
 "nbformat_minor": 0
}
