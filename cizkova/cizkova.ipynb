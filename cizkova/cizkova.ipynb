{
 "cells": [
  {
   "cell_type": "markdown",
   "metadata": {},
   "source": [
    "## composite, non-linear rheology:\n",
    "\n",
    "\n",
    "The viscous rheology in this model is similar to the Čížková and Bina paper cited below. Other parts of the model setup are similar to Arredondo and Billen (2016) and Korenaga (2011). \n",
    "\n",
    "Here we use a dimensionless system. For the psuedo-plastic effective rheology a Drucker-prager model is used.\n",
    "\n",
    "\n",
    "**Keywords:** thermal covection, dislocation creep\n",
    "\n",
    "\n",
    "**References**\n",
    "\n",
    "Čížková, Hana, and Craig R. Bina. \"Geodynamics of trench advance: Insights from a Philippine-Sea-style geometry.\" Earth and Planetary Science Letters 430 (2015): 408-415.\n",
    "\n",
    "Arredondo, Katrina M., and Magali I. Billen. \"The Effects of Phase Transitions and Compositional Layering in Two-dimensional Kinematic Models of Subduction.\" Journal of Geodynamics (2016).\n",
    "\n",
    "Korenaga, Jun. \"Scaling of plate tectonic convection with pseudoplastic rheology.\" Journal of Geophysical Research: Solid Earth 115.B11 (2010)."
   ]
  },
  {
   "cell_type": "code",
   "execution_count": 69,
   "metadata": {
    "collapsed": false
   },
   "outputs": [],
   "source": [
    "import numpy as np\n",
    "import underworld as uw\n",
    "import math\n",
    "from underworld import function as fn\n",
    "import glucifer\n",
    "\n",
    "import os\n",
    "import sys\n",
    "import natsort\n",
    "import shutil\n",
    "from easydict import EasyDict as edict\n",
    "import operator\n",
    "import pint\n",
    "import time\n",
    "import operator\n",
    "from slippy2 import boundary_layer2d\n",
    "from slippy2 import material_graph\n",
    "from slippy2 import spmesh\n",
    "\n",
    "from mpi4py import MPI\n",
    "comm = MPI.COMM_WORLD\n",
    "rank = comm.Get_rank()"
   ]
  },
  {
   "cell_type": "markdown",
   "metadata": {},
   "source": [
    "Model name and directories\n",
    "-----"
   ]
  },
  {
   "cell_type": "code",
   "execution_count": 70,
   "metadata": {
    "collapsed": true
   },
   "outputs": [],
   "source": [
    "############\n",
    "#Model name.  \n",
    "############\n",
    "Model = \"T\"\n",
    "ModNum = 0\n",
    "\n",
    "if len(sys.argv) == 1:\n",
    "    ModIt = \"Base\"\n",
    "elif sys.argv[1] == '-f':\n",
    "    ModIt = \"Base\"\n",
    "else:\n",
    "    ModIt = str(sys.argv[1])"
   ]
  },
  {
   "cell_type": "code",
   "execution_count": 71,
   "metadata": {
    "collapsed": false
   },
   "outputs": [],
   "source": [
    "###########\n",
    "#Standard output directory setup\n",
    "###########\n",
    "\n",
    "\n",
    "outputPath = \"results\" + \"/\" +  str(Model) + \"/\" + str(ModNum) + \"/\" + str(ModIt) + \"/\"\n",
    "imagePath = outputPath + 'images/'\n",
    "filePath = outputPath + 'files/'\n",
    "checkpointPath = outputPath + 'checkpoint/'\n",
    "dbPath = outputPath + 'gldbs/'\n",
    "outputFile = 'results_model' + Model + '_' + str(ModNum) + '_' + str(ModIt) + '.dat'\n",
    "\n",
    "if uw.rank()==0:\n",
    "    # make directories if they don't exist\n",
    "    if not os.path.isdir(outputPath):\n",
    "        os.makedirs(outputPath)\n",
    "    if not os.path.isdir(checkpointPath):\n",
    "        os.makedirs(checkpointPath)\n",
    "    if not os.path.isdir(imagePath):\n",
    "        os.makedirs(imagePath)\n",
    "    if not os.path.isdir(dbPath):\n",
    "        os.makedirs(dbPath)\n",
    "    if not os.path.isdir(filePath):\n",
    "        os.makedirs(filePath)\n",
    "        \n",
    "comm.Barrier() #Barrier here so no procs run the check in the next cell too early"
   ]
  },
  {
   "cell_type": "code",
   "execution_count": 72,
   "metadata": {
    "collapsed": false
   },
   "outputs": [
    {
     "name": "stdout",
     "output_type": "stream",
     "text": [
      "results/T/0/Base/checkpoint/ is empty\n"
     ]
    }
   ],
   "source": [
    "###########\n",
    "#Check if starting from checkpoint\n",
    "###########\n",
    "\n",
    "checkdirs = []\n",
    "for dirpath, dirnames, files in os.walk(checkpointPath):\n",
    "    if files:\n",
    "        print dirpath, 'has files'\n",
    "        checkpointLoad = True\n",
    "        checkdirs.append(dirpath)\n",
    "    if not files:\n",
    "        print dirpath, 'is empty'\n",
    "        checkpointLoad = False"
   ]
  },
  {
   "cell_type": "markdown",
   "metadata": {},
   "source": [
    "Setup parameters\n",
    "-----\n",
    "\n",
    "Set simulation parameters for test."
   ]
  },
  {
   "cell_type": "markdown",
   "metadata": {},
   "source": [
    "**Use pint to setup any unit conversions we'll need**"
   ]
  },
  {
   "cell_type": "code",
   "execution_count": 73,
   "metadata": {
    "collapsed": false
   },
   "outputs": [
    {
     "data": {
      "text/html": [
       "10000.0 meter/megayear"
      ],
      "text/latex": [
       "$10000.0 \\frac{meter}{megayear}$"
      ],
      "text/plain": [
       "<Quantity(10000.0, 'meter / megayear')>"
      ]
     },
     "execution_count": 73,
     "metadata": {},
     "output_type": "execute_result"
    }
   ],
   "source": [
    "u = pint.UnitRegistry()\n",
    "cmpery = 1.*u.cm/u.year\n",
    "mpermy = 1.*u.m/u.megayear\n",
    "\n",
    "cmpery.to(mpermy)"
   ]
  },
  {
   "cell_type": "markdown",
   "metadata": {},
   "source": [
    "**Set parameter dictionaries**"
   ]
  },
  {
   "cell_type": "code",
   "execution_count": null,
   "metadata": {
    "collapsed": false
   },
   "outputs": [],
   "source": []
  },
  {
   "cell_type": "code",
   "execution_count": 74,
   "metadata": {
    "collapsed": false
   },
   "outputs": [],
   "source": [
    "###########\n",
    "#Store the physical paramters, scale factors and dimensionless pramters in easyDicts\n",
    "#Mainly helps with avoiding overwriting variables\n",
    "###########\n",
    "\n",
    "dp = edict({#'LS':2900.*1e3,\n",
    "            'LS':2000.*1e3,\n",
    "           'rho':3300,\n",
    "           'g':9.8, \n",
    "           'eta0':4e20, #Dislocation creep at 250 km, 1573 K, 1e-15 s-1 \n",
    "           'k':1e-6,\n",
    "           'a':3e-5, #surface thermal expansivity\n",
    "           'TP':1573., #potential temp\n",
    "           'TS':273., #surface temp\n",
    "           'cohesion':1e7, #\n",
    "           'fc':0.06,   \n",
    "           'Adf':1e-9,\n",
    "           'Ads':3.1e-17,\n",
    "           'Edf':3.35e5,\n",
    "           'Eds':4.8e5,\n",
    "           'Vdf':4e-6,\n",
    "           'Vds':11e-6,\n",
    "           'Alm':1.3e-16,\n",
    "           'Elm':2.0e5,\n",
    "           'Vlm':1.1e-6,\n",
    "           'Ba':4.3e-12,  #A value to simulate pressure increase with depth\n",
    "           'SR':1e-15,\n",
    "           'Dr':250e3, #Reference depth\n",
    "           'R':8.314,\n",
    "           'Cp':1250., #Jkg-1K-1\n",
    "           'StALS':100e3,\n",
    "           'plate_vel':8})\n",
    "\n",
    "#Adibatic heating stuff\n",
    "dp.dTa = (dp.a*dp.g*(dp.TP))/dp.Cp #adibatic gradient, at Tp\n",
    "dp.deltaTa = (dp.TP + dp.dTa*dp.LS) - dp.TS  #Adiabatic Temp at base of mantle, minus Ts\n",
    "dp.deltaT = dp.deltaTa\n",
    "\n",
    "\n",
    "\n",
    "#scale_factors\n",
    "\n",
    "sf = edict({'stress':dp.LS**2/(dp.k*dp.eta0),\n",
    "            'lith_grad':dp.rho*dp.g*(dp.LS)**3/(dp.eta0*dp.k) ,\n",
    "            'vel':dp.LS/dp.k,\n",
    "            'SR':dp.LS**2/dp.k,\n",
    "            'W':(-1./dp.Ba)*(np.log(1.-dp.rho*dp.g*dp.Ba*dp.LS))/(dp.R*dp.deltaTa), #Including adiabatic compression, and deltaTa\n",
    "            'E': 1./(dp.R*dp.deltaTa), #using deltaTa, the guesstimated adiabatic temp differnnce to scale these paramters\n",
    "            #'Ads':(dp.eta0**(ndp.n-2))*((dp.k)**(ndp.n-1))*((dp.LS)**(2. - 2*ndp.n))       \n",
    "           })\n",
    "\n",
    "#dimensionless parameters\n",
    "\n",
    "ndp = edict({'RA':(dp.g*dp.rho*dp.a*dp.deltaT*(dp.LS)**3)/(dp.k*dp.eta0),\n",
    "            'cohesion':dp.cohesion*sf.stress,\n",
    "            'fcd':dp.fc*sf.lith_grad,\n",
    "            'gamma':dp.fc/(dp.a*dp.deltaT),\n",
    "            'Wdf':dp.Vdf*sf.W,\n",
    "            'Edf':dp.Edf*sf.E,\n",
    "            'Wds':dp.Vds*sf.W,\n",
    "            'Eds':dp.Eds*sf.E,\n",
    "            'Elm':dp.Elm*sf.E,\n",
    "           'Wlm':dp.Vlm*sf.W,\n",
    "            'TSP':0., \n",
    "            'TBP':1.,\n",
    "            'TPP':(dp.TP - dp.TS)/dp.deltaT,\n",
    "            'Dr':dp.Dr/dp.LS,\n",
    "            'n':3.5,\n",
    "            'TS':dp.TS/dp.deltaT,\n",
    "            'TP':dp.TP/dp.deltaT,\n",
    "             #'eta_crust':1e21/dp.eta0,\n",
    "             'eta_crust':0.06,\n",
    "            'eta_min':1e-3,\n",
    "            'eta_max':1e5,\n",
    "            'H':0.,\n",
    "            'Tmvp':0.6,\n",
    "             'Di': dp.a*dp.g*dp.LS/dp.Cp, #Dissipation number\n",
    "            'Steta0':1e2,\n",
    "            'plate_vel':sf.vel*dp.plate_vel*(cmpery.to(u.m/u.second)).magnitude,})\n",
    "\n",
    "\n",
    "\n",
    "#Make some further additions to paramter dictionaries\n",
    "\n",
    "#dp.VR = (0.1*(dp.k/dp.LS)*ndp.RA**(2/3.)) #characteristic velocity from a scaling relationship\n",
    "#dp.SR = dp.VR/dp.LS #characteristic strain rate\n",
    "#ndp.VR = dp.VR*sf.vel #characteristic velocity\n",
    "#ndp.SR = dp.SR*sf.SR #characteristic strain rate\n",
    "\n",
    "dp.SR = 1e-15\n",
    "ndp.SR = dp.SR*sf.SR #characteristic strain rate\n",
    "\n",
    "ndp.StRA = (3300.*dp.g*(dp.LS)**3)/(dp.eta0 *dp.k) #Composisitional Rayleigh number for rock-air buoyancy force\n",
    "ndp.TaP = 1. - ndp.TPP,  #Dimensionles adiabtic component of delta t"
   ]
  },
  {
   "cell_type": "code",
   "execution_count": 75,
   "metadata": {
    "collapsed": false
   },
   "outputs": [],
   "source": [
    "#ndp.RA"
   ]
  },
  {
   "cell_type": "code",
   "execution_count": 76,
   "metadata": {
    "collapsed": false
   },
   "outputs": [],
   "source": [
    "###########\n",
    "#A few parameters defining lengths scales, affects materal transistions etc.\n",
    "###########\n",
    "\n",
    "MANTLETOCRUST = (18.*1e3)/dp.LS #Crust depth\n",
    "HARZBURGDEPTH = MANTLETOCRUST + (27.7e3/dp.LS)\n",
    "CRUSTTOMANTLE = (200.*1e3)/dp.LS\n",
    "LITHTOMANTLE = (900.*1e3)/dp.LS \n",
    "MANTLETOLITH = (200.*1e3)/dp.LS \n",
    "TOPOHEIGHT = (10.*1e3)/dp.LS  #rock-air topography limits\n",
    "CRUSTTOECL  = (100.*1e3)/dp.LS\n",
    "AVGTEMP = ndp.TPP #Used to define lithosphere\n",
    "LOWERMANTLE = (1000.*1e3)/dp.LS \n"
   ]
  },
  {
   "cell_type": "markdown",
   "metadata": {},
   "source": [
    "**Model setup parameters**"
   ]
  },
  {
   "cell_type": "code",
   "execution_count": 77,
   "metadata": {
    "collapsed": false
   },
   "outputs": [],
   "source": [
    "###########\n",
    "#Model setup parameters\n",
    "###########\n",
    "\n",
    "refineMesh = True\n",
    "stickyAir = False \n",
    "lower_mantle = False \n",
    "melt_viscosity_reduction= False\n",
    "symmetric_IC = False\n",
    "VelBC = True\n",
    "WeakZone = False\n",
    "\n",
    "\n",
    "MINX = -2.\n",
    "MINY = 0.\n",
    "MAXX = 2.\n",
    "\n",
    "#MAXY = 1.035\n",
    "MAXY = 1.\n",
    "\n",
    "if MINX == 0.:\n",
    "    squareModel = True\n",
    "else: \n",
    "    squareModel = False\n",
    "    \n",
    "    \n",
    "dim = 2          # number of spatial dimensions\n",
    "\n",
    "\n",
    "#MESH STUFF\n",
    "\n",
    "RES = 64\n",
    "\n",
    "Xres = int(RES*4)\n",
    "\n",
    "\n",
    "if stickyAir:\n",
    "    Yres = RES\n",
    "    MAXY = 1. + dp.StALS/dp.LS #150km\n",
    "    \n",
    "else:\n",
    "    Yres = RES\n",
    "    MAXY = 1.\n",
    "\n",
    "\n",
    "periodic = [True, False]\n",
    "elementType = \"Q1/dQ0\"\n",
    "#elementType =\"Q2/DPC1\"\n",
    "\n",
    "\n",
    "#System/Solver stuff\n",
    "\n",
    "PIC_integration=True\n",
    "ppc = 25\n",
    "\n",
    "#Output and safety stuff\n",
    "swarm_repop, swarm_update = 10, 10\n",
    "gldbs_output = 20\n",
    "checkpoint_every, files_output = 50, 50\n",
    "metric_output = 10\n",
    "sticky_air_temp = 5"
   ]
  },
  {
   "cell_type": "markdown",
   "metadata": {},
   "source": [
    "Create mesh and finite element variables\n",
    "------"
   ]
  },
  {
   "cell_type": "code",
   "execution_count": 78,
   "metadata": {
    "collapsed": false
   },
   "outputs": [],
   "source": [
    "mesh = uw.mesh.FeMesh_Cartesian( elementType = (elementType),\n",
    "                                 elementRes  = (Xres, Yres), \n",
    "                                 minCoord    = (MINX, MINY), \n",
    "                                 maxCoord    = (MAXX, MAXY), periodic=periodic)\n",
    "\n",
    "velocityField       = uw.mesh.MeshVariable( mesh=mesh,         nodeDofCount=2 )\n",
    "pressureField       = uw.mesh.MeshVariable( mesh=mesh.subMesh, nodeDofCount=1 )\n",
    "temperatureField    = uw.mesh.MeshVariable( mesh=mesh,         nodeDofCount=1 )\n",
    "temperatureDotField = uw.mesh.MeshVariable( mesh=mesh,         nodeDofCount=1 )"
   ]
  },
  {
   "cell_type": "code",
   "execution_count": 79,
   "metadata": {
    "collapsed": true
   },
   "outputs": [],
   "source": [
    "mesh.reset()"
   ]
  },
  {
   "cell_type": "code",
   "execution_count": 80,
   "metadata": {
    "collapsed": false
   },
   "outputs": [
    {
     "name": "stdout",
     "output_type": "stream",
     "text": [
      "Min\n",
      "(256, 0.012501562500000001, 4.200400000000001, -0.20040000000000086)\n",
      "('edges', 256)\n",
      "-- iteration 0 --\n",
      "| F( p_n ) |^2: 1.98165943146e-05\n",
      "| p_n+1 - p_n |^2: 1.36480086187\n",
      "-- iteration 1 --\n",
      "| F( p_n ) |^2: 3.58989730515e-30\n",
      "Min, Max element width: \n",
      "0.01250\n",
      "0.01875\n"
     ]
    }
   ],
   "source": [
    "\n",
    "#X-Axis\n",
    "\n",
    "if refineMesh:\n",
    "    mesh.reset()\n",
    "    axis = 0\n",
    "    origcoords = np.linspace(mesh.minCoord[axis], mesh.maxCoord[axis], mesh.elementRes[axis] + 1)\n",
    "    edge_rest_lengths = np.diff(origcoords)\n",
    "\n",
    "    deform_lengths = edge_rest_lengths.copy()\n",
    "    min_point =  (abs(mesh.maxCoord[axis]) - abs(mesh.minCoord[axis]))/2.\n",
    "    el_reduction = 0.8001\n",
    "    dx = mesh.maxCoord[axis] - min_point\n",
    "\n",
    "    deform_lengths = deform_lengths - \\\n",
    "                                    ((1.-el_reduction) *deform_lengths[0]) + \\\n",
    "                                    abs((origcoords[1:] - min_point))*((0.5*deform_lengths[0])/dx)\n",
    "\n",
    "    #print(edge_rest_lengths.shape, deform_lengths.shape)\n",
    "\n",
    "    spmesh.deform_1d(deform_lengths, mesh,axis = 'x',norm = 'Min', constraints = [])"
   ]
  },
  {
   "cell_type": "code",
   "execution_count": 81,
   "metadata": {
    "collapsed": false
   },
   "outputs": [],
   "source": [
    "axis = 1\n",
    "orgs = np.linspace(mesh.minCoord[axis], mesh.maxCoord[axis], mesh.elementRes[axis] + 1)\n",
    "\n",
    "value_to_constrain = 1.\n",
    "\n",
    "\n",
    "yconst = [(spmesh.find_closest(orgs, value_to_constrain), np.array([value_to_constrain,0]))]"
   ]
  },
  {
   "cell_type": "code",
   "execution_count": 82,
   "metadata": {
    "collapsed": false
   },
   "outputs": [
    {
     "name": "stdout",
     "output_type": "stream",
     "text": [
      "Min\n",
      "(64, 0.0093765624999999995, 0.84619375000000008, 0.62499047619047554)\n",
      "('edges', 64)\n",
      "-- iteration 0 --\n",
      "| F( p_n ) |^2: 8.05648611886e-05\n",
      "| p_n+1 - p_n |^2: 0.352079185376\n",
      "-- iteration 1 --\n",
      "| F( p_n ) |^2: 3.12512226132e-31\n",
      "Min, Max element width: \n",
      "0.00938\n",
      "0.02187\n"
     ]
    }
   ],
   "source": [
    "###########\n",
    "#Mesh refinement\n",
    "###########\n",
    "\n",
    "if refineMesh:\n",
    "    #Y-Axis\n",
    "    axis = 1\n",
    "    origcoords = np.linspace(mesh.minCoord[axis], mesh.maxCoord[axis], mesh.elementRes[axis] + 1)\n",
    "    edge_rest_lengths = np.diff(origcoords)\n",
    "\n",
    "    deform_lengths = edge_rest_lengths.copy()\n",
    "    min_point =  (mesh.maxCoord[axis])\n",
    "    el_reduction = 0.6001\n",
    "    dx = mesh.maxCoord[axis]\n",
    "\n",
    "    deform_lengths = deform_lengths - \\\n",
    "                                    ((1.-el_reduction)*deform_lengths[0]) + \\\n",
    "                                    abs((origcoords[1:] - min_point))*((0.5*deform_lengths[0])/dx)\n",
    "\n",
    "    #print(edge_rest_lengths.shape, deform_lengths.shape)\n",
    "\n",
    "    spmesh.deform_1d(deform_lengths, mesh,axis = 'y',norm = 'Min', constraints = yconst)"
   ]
  },
  {
   "cell_type": "markdown",
   "metadata": {},
   "source": [
    "Initial conditions\n",
    "-------\n"
   ]
  },
  {
   "cell_type": "code",
   "execution_count": 83,
   "metadata": {
    "collapsed": false
   },
   "outputs": [],
   "source": [
    "coordinate = fn.input()\n",
    "depthFn = 1. - coordinate[1] #a function providing the depth\n",
    "xFn = coordinate[0]  #a function providing the x-coordinate\n",
    "\n",
    "potTempFn = ndp.TPP + (depthFn)*ndp.TaP #a function providing the adiabatic temp at any depth\n",
    "abHeatFn = -1.*velocityField[1]*temperatureField*ndp.Di #a function providing the adiabatic heating rate"
   ]
  },
  {
   "cell_type": "code",
   "execution_count": null,
   "metadata": {
    "collapsed": false
   },
   "outputs": [],
   "source": []
  },
  {
   "cell_type": "code",
   "execution_count": 84,
   "metadata": {
    "collapsed": false
   },
   "outputs": [],
   "source": [
    "###########\n",
    "#Thermal initial condition:\n",
    "#if symmetric_IC, we build a symmetric downwelling on top of a sinusoidal perturbation\n",
    "##########\n",
    "\n",
    "#Sinusoidal initial condition\n",
    "A = 0.2\n",
    "sinFn = depthFn + A*(fn.math.cos( math.pi * coordinate[0])  * fn.math.sin( math.pi * coordinate[1] ))        \n",
    "iD = 660e3/dp.LS #Initial Slab depth\n",
    "dl =  2*math.sqrt(dp.k*160e6*3600*24*365) #diffusion Length at ... My\n",
    "w0 = dl/dp.LS #Boundary layer/slab initial condition\n",
    "delX1 = fn.misc.min(fn.math.abs(coordinate[0] - -0.), fn.math.abs(coordinate[0] - -2.))\n",
    "delX = fn.misc.min(delX1 , fn.math.abs(coordinate[0] - 2.))\n",
    "w = w0*fn.math.sqrt(delX + 1e-7)\n",
    "tempBL = (potTempFn) *fn.math.erf((depthFn)/w) + ndp.TSP\n",
    "delX = fn.misc.min(fn.math.abs(coordinate[0] - - 1.) , fn.math.abs(coordinate[0] - 1.))\n",
    "tempSlab = (potTempFn ) *fn.math.erf((delX*2.)/w0) + ndp.TSP       \n",
    "tempFn1 =  fn.misc.min(tempBL, tempSlab)\n",
    "blFn = fn.branching.conditional([(depthFn < iD, tempFn1), \n",
    "                                    (True, potTempFn)])\n",
    "\n",
    "tempFn = 0.*sinFn + 1.*blFn #partition the temp between these the symmetric downwelling and sinusoid\n",
    "if symmetric_IC:  \n",
    "    if not checkpointLoad:\n",
    "        temperatureField.data[:] = tempFn.evaluate(mesh)  "
   ]
  },
  {
   "cell_type": "code",
   "execution_count": 85,
   "metadata": {
    "collapsed": false
   },
   "outputs": [],
   "source": [
    "###########\n",
    "#Thermal initial condition 2: \n",
    "#if symmetric_IC == False, we build an asymmetric subduction-zone\n",
    "###########\n",
    "\n",
    "#Main control paramters are:\n",
    "\n",
    "Roc = 550e3 #radius of curvature of slab\n",
    "theta = 89. #Angle to truncate the slab (can also do with with a cutoff depth)\n",
    "subzone = 0.0 #X position of subduction zone...in model coordinates\n",
    "slabmaxAge = 160e6 #age of subduction plate at trench\n",
    "sense = 'Right' #dip direction\n",
    "op_age_fac = 1. #this controls the overidding plate speed, hence age reduction\n",
    "\n",
    "\n",
    "#First build the top TBL\n",
    "\n",
    "dl =  2*math.sqrt(dp.k*slabmaxAge*3600*24*365) #diffusion Length at ... My\n",
    "w0 = dl/dp.LS\n",
    "ageFn1 = (fn.math.abs(fn.math.abs(coordinate[0]) - 2.)/2.)\n",
    "ageFn  = fn.branching.conditional([(coordinate[0] <= 0, ageFn1),\n",
    "                                  (True, ageFn1/op_age_fac)])\n",
    "w = w0*fn.math.sqrt(ageFn + 1e-7)\n",
    "tempBL = (potTempFn) *fn.math.erf((depthFn)/w) + ndp.TSP\n",
    "if not symmetric_IC:\n",
    "    if not checkpointLoad:\n",
    "        out = uw.utils.MeshVariable_Projection( temperatureField, tempBL) #apply function with projection\n",
    "        out.solve()\n",
    "\n",
    "        \n",
    "        \n",
    "#Now build the perturbation part\n",
    "\n",
    "def inCircleFnGenerator(centre, radius):\n",
    "    coord = fn.input()\n",
    "    offsetFn = coord - centre\n",
    "    return fn.math.dot( offsetFn, offsetFn ) < radius**2\n",
    "\n",
    "#Setup slab perturbation params (mostly dimensionlesl / model params here)\n",
    "phi = 90. - theta\n",
    "RocM = (Roc/dp.LS)\n",
    "CrustM = MANTLETOCRUST\n",
    "Org = (subzone, 1.-RocM)\n",
    "\n",
    "#Use three circles to define our slab and crust perturbation,  \n",
    "Oc = inCircleFnGenerator(Org , RocM)\n",
    "Ic = inCircleFnGenerator(Org , RocM - w0)\n",
    "Cc = inCircleFnGenerator(Org , RocM - (2.*CrustM)) #Twice as wide as ordinary crust, weak zone on 'outside' of slab\n",
    "dx = (RocM)/(np.math.tan((np.math.pi/180.)*phi))\n",
    "\n",
    "\n",
    "#We'll also create a triangle which will truncate the circles defining the slab...\n",
    "if sense == 'Left': \n",
    "    ptx = subzone - dx\n",
    "else:\n",
    "    ptx = subzone + dx\n",
    "coords = ((0.+subzone, 1), (0.+subzone, 1.-RocM), (ptx, 1.))\n",
    "Tri = fn.shape.Polygon(np.array(coords))\n",
    "\n",
    "#Actually apply the perturbation\n",
    "if not symmetric_IC:\n",
    "    if not checkpointLoad:\n",
    "        sdFn = ((RocM - fn.math.sqrt((coordinate[0] - Org[0])**2. + (coordinate[1] - Org[1])**2.))) \n",
    "        slabFn = ndp.TPP*fn.math.erf((sdFn)/w0)\n",
    "\n",
    "        for index, coord in enumerate(mesh.data):\n",
    "            #if Oc.evaluate(tuple(coord)) and Tri.evaluate(tuple(coord)) and not Ic.evaluate(tuple(coord)): #in inner circle, not in outer circle\n",
    "            if (\n",
    "                Oc.evaluate(tuple(coord)) and\n",
    "                Tri.evaluate(tuple(coord)) and not\n",
    "                Ic.evaluate(tuple(coord)) and\n",
    "                coord[1] > (1. - (250.e3/dp.LS)) \n",
    "                ): #In the quarter-circle defining the lithosphere\n",
    "                temperatureField.data[index] = slabFn.evaluate(mesh)[index]"
   ]
  },
  {
   "cell_type": "code",
   "execution_count": 86,
   "metadata": {
    "collapsed": false
   },
   "outputs": [],
   "source": [
    "#Make sure material in sticky air region is at the surface temperature.\n",
    "for index, coord in enumerate(mesh.data):\n",
    "            if coord[1] >= 1.:\n",
    "                temperatureField.data[index] = ndp.TSP"
   ]
  },
  {
   "cell_type": "code",
   "execution_count": null,
   "metadata": {
    "collapsed": false
   },
   "outputs": [],
   "source": []
  },
  {
   "cell_type": "code",
   "execution_count": 87,
   "metadata": {
    "collapsed": false,
    "scrolled": true
   },
   "outputs": [],
   "source": [
    "fig= glucifer.Figure()\n",
    "fig.append( glucifer.objects.Surface(mesh, temperatureField))\n",
    "\n",
    "#fig.append(glucifer.objects.Mesh(mesh))\n",
    "#fig.save_database('test.gldb')\n",
    "\n",
    "#fig.show()"
   ]
  },
  {
   "cell_type": "code",
   "execution_count": null,
   "metadata": {
    "collapsed": true
   },
   "outputs": [],
   "source": []
  },
  {
   "cell_type": "markdown",
   "metadata": {},
   "source": [
    "Boundary conditions\n",
    "-------"
   ]
  },
  {
   "cell_type": "code",
   "execution_count": null,
   "metadata": {
    "collapsed": true
   },
   "outputs": [],
   "source": []
  },
  {
   "cell_type": "code",
   "execution_count": 88,
   "metadata": {
    "collapsed": false
   },
   "outputs": [
    {
     "name": "stdout",
     "output_type": "stream",
     "text": [
      "3\n"
     ]
    }
   ],
   "source": [
    "for index in mesh.specialSets[\"MinJ_VertexSet\"]:\n",
    "    temperatureField.data[index] = ndp.TBP\n",
    "for index in mesh.specialSets[\"MaxJ_VertexSet\"]:\n",
    "    temperatureField.data[index] = ndp.TSP\n",
    "    \n",
    "iWalls = mesh.specialSets[\"MinI_VertexSet\"] + mesh.specialSets[\"MaxI_VertexSet\"]\n",
    "jWalls = mesh.specialSets[\"MinJ_VertexSet\"] + mesh.specialSets[\"MaxJ_VertexSet\"]\n",
    "tWalls = mesh.specialSets[\"MaxJ_VertexSet\"]\n",
    "bWalls =mesh.specialSets[\"MinJ_VertexSet\"]\n",
    "\n",
    "VelBCs = mesh.specialSets[\"Empty\"]\n",
    "\n",
    "if VelBC:\n",
    "    for index in list(tWalls.data):\n",
    "        if (mesh.data[int(index)][0] < (subzone - 0.2) and mesh.data[int(index)][0] > -2 + 0.2): #Only push with a portion of teh overiding plate\n",
    "            VelBCs.add(int(index))\n",
    "            #Set the plate velocities for the kinematic phase\n",
    "            velocityField.data[index] = [ndp.plate_vel, 0.]\n",
    "        elif (mesh.data[int(index)][0] > (subzone + 0.2) and mesh.data[int(index)][0] < 2 - 0.2):\n",
    "            VelBCs.add(int(index))\n",
    "            #Set the plate velocities for the kinematic phase\n",
    "            velocityField.data[index] = [0., 0.]\n",
    "        \n",
    "\n",
    "#If periodic, we'll fix a the x-vel at a single node - at the bottom left (index 0)\n",
    "Fixed = mesh.specialSets[\"Empty\"]\n",
    "Fixed.add(int(0))        \n",
    "        \n",
    "\n",
    "if periodic[0] == False:\n",
    "    if VelBC:\n",
    "        print(1)\n",
    "        freeslipBC = uw.conditions.DirichletCondition( variable      = velocityField, \n",
    "                                               indexSetsPerDof = ( iWalls + VelBCs, jWalls) )\n",
    "    else:\n",
    "        print(2)\n",
    "        freeslipBC = uw.conditions.DirichletCondition( variable      = velocityField, \n",
    "                                               indexSetsPerDof = ( iWalls, jWalls) )\n",
    "\n",
    "\n",
    "\n",
    "\n",
    "\n",
    "\n",
    "if periodic[0] == True:\n",
    "    if VelBC:\n",
    "        print(3)\n",
    "        freeslipBC = uw.conditions.DirichletCondition( variable      = velocityField, \n",
    "                                               indexSetsPerDof = ( Fixed + VelBCs , jWalls) )\n",
    "    else:\n",
    "        print(4)\n",
    "        freeslipBC = uw.conditions.DirichletCondition( variable      = velocityField, \n",
    "                                               indexSetsPerDof = ( Fixed, jWalls) )\n",
    "        \n",
    "    \n",
    "    \n",
    "    \n",
    "# also set dirichlet for temp field\n",
    "dirichTempBC = uw.conditions.DirichletCondition(     variable=temperatureField, \n",
    "                                              indexSetsPerDof=(tWalls,) )\n",
    "dT_dy = [0.,0.]\n",
    "\n",
    "# also set dirichlet for temp field\n",
    "neumannTempBC = uw.conditions.NeumannCondition( dT_dy, variable=temperatureField, \n",
    "                                         nodeIndexSet=bWalls)\n",
    "\n"
   ]
  },
  {
   "cell_type": "code",
   "execution_count": 89,
   "metadata": {
    "collapsed": false
   },
   "outputs": [
    {
     "data": {
      "text/plain": [
       "5070.202342530959"
      ]
     },
     "execution_count": 89,
     "metadata": {},
     "output_type": "execute_result"
    }
   ],
   "source": [
    "#periodic[0]\n",
    "ndp.plate_vel"
   ]
  },
  {
   "cell_type": "markdown",
   "metadata": {},
   "source": [
    "Swarm setup\n",
    "-----\n"
   ]
  },
  {
   "cell_type": "code",
   "execution_count": 90,
   "metadata": {
    "collapsed": false
   },
   "outputs": [],
   "source": [
    "###########\n",
    "#Material Swarm and variables\n",
    "###########\n",
    "\n",
    "#create material swarm\n",
    "gSwarm = uw.swarm.Swarm(mesh=mesh, particleEscape=True)\n",
    "\n",
    "#create swarm variables\n",
    "yieldingCheck = gSwarm.add_variable( dataType=\"int\", count=1 )\n",
    "tracerVariable = gSwarm.add_variable( dataType=\"int\", count=1)\n",
    "materialVariable = gSwarm.add_variable( dataType=\"int\", count=1 )\n",
    "ageVariable = gSwarm.add_variable( dataType=\"float\", count=1 )\n",
    "\n",
    "\n",
    "#these lists  are part of the checkpointing implementation\n",
    "varlist = [tracerVariable, tracerVariable, yieldingCheck]\n",
    "varlist = [materialVariable, yieldingCheck, ageVariable]\n",
    "varnames = ['materialVariable', 'yieldingCheck', 'ageVariable']"
   ]
  },
  {
   "cell_type": "code",
   "execution_count": 91,
   "metadata": {
    "collapsed": false
   },
   "outputs": [],
   "source": [
    "mantleIndex = 0\n",
    "crustIndex = 1\n",
    "harzIndex = 2\n",
    "airIndex = 3\n",
    "\n",
    "\n",
    "\n",
    "if checkpointLoad:\n",
    "    checkpointLoadDir = natsort.natsort(checkdirs)[-1]\n",
    "    temperatureField.load(os.path.join(checkpointLoadDir, \"temperatureField\" + \".hdf5\"))\n",
    "    pressureField.load(os.path.join(checkpointLoadDir, \"pressureField\" + \".hdf5\"))\n",
    "    velocityField.load(os.path.join(checkpointLoadDir, \"velocityField\" + \".hdf5\"))\n",
    "    gSwarm.load(os.path.join(checkpointLoadDir, \"swarm\" + \".h5\"))\n",
    "    for ix in range(len(varlist)):\n",
    "        varb = varlist[ix]\n",
    "        varb.load(os.path.join(checkpointLoadDir,varnames[ix] + \".h5\"))\n",
    "\n",
    "else:\n",
    "\n",
    "    # Layouts are used to populate the swarm across the whole domain\n",
    "    layout = uw.swarm.layouts.PerCellRandomLayout(swarm=gSwarm, particlesPerCell=ppc)\n",
    "    gSwarm.populate_using_layout( layout=layout ) # Now use it to populate.\n",
    "    # Swarm variables\n",
    "    materialVariable.data[:] = mantleIndex\n",
    "    tracerVariable.data[:] = 1\n",
    "    yieldingCheck.data[:] = 0\n",
    "    ageVariable.data[:] = -1\n",
    "\n",
    "    #Set initial air and crust materials (allow the graph to take care of lithsophere)\n",
    "    #########\n",
    "    #This initial material setup will be model dependent\n",
    "    #########\n",
    "    for particleID in range(gSwarm.particleCoordinates.data.shape[0]):\n",
    "        if (1. - gSwarm.particleCoordinates.data[particleID][1]) < MANTLETOCRUST:\n",
    "                 materialVariable.data[particleID] = crustIndex"
   ]
  },
  {
   "cell_type": "code",
   "execution_count": 92,
   "metadata": {
    "collapsed": false
   },
   "outputs": [],
   "source": [
    "###########\n",
    "#This block sets up a checkboard layout of passive tracers\n",
    "###########\n",
    "\n",
    "square_size = 0.1\n",
    "xlist = np.arange(mesh.minCoord[0] + square_size/2., mesh.maxCoord[0] + square_size/2., square_size)\n",
    "xlist = zip(xlist[:], xlist[1:])[::2]\n",
    "ylist = np.arange(mesh.minCoord[1] + square_size/2., mesh.maxCoord[1] + square_size/2., square_size)\n",
    "ylist = zip(ylist[:], ylist[1:])[::2]\n",
    "xops = []\n",
    "for vals in xlist:\n",
    "    xops.append( (operator.and_(   operator.gt(coordinate[0],vals[0]),   operator.lt(coordinate[0],vals[1])  ),0.) )\n",
    "xops.append((True,1.))\n",
    "\n",
    "testfunc = fn.branching.conditional(xops) \n",
    "\n",
    "yops = []\n",
    "for vals in ylist:\n",
    "    yops.append( (operator.and_(   operator.gt(coordinate[1],vals[0]),   operator.lt(coordinate[1],vals[1])  ),0.) )\n",
    "yops.append((True,testfunc))\n",
    "\n",
    "testfunc2 = fn.branching.conditional(yops) \n",
    "tracerVariable.data[:] = testfunc.evaluate(gSwarm)\n",
    "tracerVariable.data[:] = testfunc2.evaluate(gSwarm)"
   ]
  },
  {
   "cell_type": "code",
   "execution_count": 93,
   "metadata": {
    "collapsed": false
   },
   "outputs": [
    {
     "data": {
      "text/plain": [
       "array([  0.00000000e+00,   1.99999995e-05], dtype=float32)"
      ]
     },
     "execution_count": 93,
     "metadata": {},
     "output_type": "execute_result"
    }
   ],
   "source": [
    "#Set the inital particle age, for particles above the critical depth \n",
    "#(only these will be transformed to crust / harzburgite)\n",
    "\n",
    "ageVariable.data[:] = 0. #start with all zeor\n",
    "crustageCond = 1e-05 #set inital age above critical depth. (about 1.2 Ma.) Might have to be shorter than this - need to experiment\n",
    "ageDT = crustageCond + 1e-5 #initalize ages\n",
    "ageConditions = [ (depthFn < 100e3/dp.LS , ageDT),  \n",
    "                  (True, 0.) ]\n",
    "                 \n",
    "\n",
    "ageEval = fn.branching.conditional( ageConditions ).evaluate(gSwarm)\n",
    "ageVariable.data[np.where(ageEval == 0)] = 0 #If below the critical depth, age is set to zero\n",
    "ageVariable.data[np.where(ageEval != 0)] += ageDT #If age above critical depth, increment age\n",
    "\n",
    "np.unique(ageVariable.data)"
   ]
  },
  {
   "cell_type": "markdown",
   "metadata": {
    "collapsed": false
   },
   "source": [
    "Swarm control (material graph)\n",
    "-----\n",
    "\n"
   ]
  },
  {
   "cell_type": "code",
   "execution_count": null,
   "metadata": {
    "collapsed": false
   },
   "outputs": [],
   "source": [
    "\n"
   ]
  },
  {
   "cell_type": "code",
   "execution_count": 94,
   "metadata": {
    "collapsed": false
   },
   "outputs": [],
   "source": [
    "##############\n",
    "#Here we set up a directed graph object that we we use to control the transformation from one material type to another\n",
    "##############\n",
    "\n",
    "#All depth conditions are given as (km/D) where D is the length scale,\n",
    "#note that 'model depths' are used, e.g. 1-z, where z is the vertical Underworld coordinate\n",
    "#All temp conditions are in dimensionless temp. [0. - 1.]\n",
    "\n",
    "#This is a quick fix for a bug that arises in parallel runs\n",
    "material_list = [0,1,2,3]\n",
    "\n",
    "if not checkpointLoad:\n",
    "    materialVariable.data[:] = 0 #Initialize to zero \n",
    "\n",
    "#Setup the graph object\n",
    "DG = material_graph.MatGraph()\n",
    "\n",
    "#Important: First thing to do is to add all the material types to the graph (i.e add nodes)\n",
    "DG.add_nodes_from(material_list)\n",
    "\n",
    "#Now set the conditions for transformations\n",
    "\n",
    "#... to mantle\n",
    "DG.add_transition((crustIndex,mantleIndex), depthFn, operator.gt, CRUSTTOMANTLE)\n",
    "DG.add_transition((harzIndex,mantleIndex), depthFn, operator.gt, CRUSTTOMANTLE)\n",
    "#DG.add_transition((airIndex,mantleIndex), depthFn, operator.gt, TOPOHEIGHT)\n",
    "\n",
    "#... to crust\n",
    "DG.add_transition((mantleIndex,crustIndex), depthFn, operator.lt, MANTLETOCRUST)\n",
    "DG.add_transition((mantleIndex,crustIndex), xFn, operator.lt, 0.) #No crust on the upper plate\n",
    "DG.add_transition((mantleIndex,crustIndex), ageVariable, operator.gt, crustageCond)\n",
    "\n",
    "DG.add_transition((harzIndex,crustIndex), depthFn, operator.lt, MANTLETOCRUST)\n",
    "DG.add_transition((harzIndex,crustIndex), xFn, operator.lt, 0.) #This one sets no crust on the upper plate\n",
    "DG.add_transition((harzIndex,crustIndex), ageVariable, operator.gt, crustageCond)\n",
    "\n",
    "#... to Harzbugite\n",
    "DG.add_transition((mantleIndex,harzIndex), depthFn, operator.lt, HARZBURGDEPTH)\n",
    "DG.add_transition((mantleIndex,harzIndex), depthFn, operator.gt, MANTLETOCRUST)\n",
    "DG.add_transition((mantleIndex,harzIndex), ageVariable, operator.gt, crustageCond) #Note we can mix functions and swarm variabls\n",
    "\n",
    "#... to air\n",
    "#DG.add_transition((mantleIndex,airIndex), depthFn, operator.lt,0. - TOPOHEIGHT)\n",
    "#DG.add_transition((crustIndex,airIndex), depthFn, operator.lt, 0. - TOPOHEIGHT)\n",
    "\n"
   ]
  },
  {
   "cell_type": "code",
   "execution_count": 95,
   "metadata": {
    "collapsed": false
   },
   "outputs": [
    {
     "data": {
      "text/plain": [
       "(0.1, 0.02285)"
      ]
     },
     "execution_count": 95,
     "metadata": {},
     "output_type": "execute_result"
    }
   ],
   "source": [
    "CRUSTTOMANTLE, HARZBURGDEPTH"
   ]
  },
  {
   "cell_type": "code",
   "execution_count": 96,
   "metadata": {
    "collapsed": false
   },
   "outputs": [],
   "source": [
    "##############\n",
    "#For the slab_IC, we'll also add a crustal weak zone following the dipping perturbation\n",
    "##############\n",
    "\n",
    "if checkpointLoad != True:\n",
    "    if not symmetric_IC:\n",
    "        for particleID in range(gSwarm.particleCoordinates.data.shape[0]):\n",
    "            if (\n",
    "                Oc.evaluate(list(gSwarm.particleCoordinates.data[particleID])) and\n",
    "                Tri.evaluate(list(gSwarm.particleCoordinates.data[particleID])) and\n",
    "                Cc.evaluate(list(gSwarm.particleCoordinates.data[particleID])) == False\n",
    "                ):\n",
    "                materialVariable.data[particleID] = crustIndex"
   ]
  },
  {
   "cell_type": "code",
   "execution_count": 97,
   "metadata": {
    "collapsed": false
   },
   "outputs": [],
   "source": [
    "##############\n",
    "#This is how we use the material graph object to test / apply material transformations\n",
    "##############\n",
    "DG.build_condition_list(materialVariable)\n",
    "for i in range(3): #Need to go through a number of times\n",
    "    materialVariable.data[:] = fn.branching.conditional(DG.condition_list).evaluate(gSwarm)"
   ]
  },
  {
   "cell_type": "code",
   "execution_count": 98,
   "metadata": {
    "collapsed": false
   },
   "outputs": [],
   "source": [
    "#DG.build_condition_list(materialVariable)\n",
    "#materialVariable.data[:] = fn.branching.conditional(DG.condition_list).evaluate(gSwarm)"
   ]
  },
  {
   "cell_type": "code",
   "execution_count": null,
   "metadata": {
    "collapsed": false
   },
   "outputs": [],
   "source": []
  },
  {
   "cell_type": "markdown",
   "metadata": {},
   "source": [
    "Rheology\n",
    "-----\n",
    "\n"
   ]
  },
  {
   "cell_type": "code",
   "execution_count": 99,
   "metadata": {
    "collapsed": false
   },
   "outputs": [],
   "source": [
    "# The yeilding of the upper slab is dependent on the strain rate.\n",
    "strainRate_2ndInvariant = fn.tensor.second_invariant( \n",
    "                            fn.tensor.symmetric( \n",
    "                            velocityField.fn_gradient ))\n",
    "\n"
   ]
  },
  {
   "cell_type": "code",
   "execution_count": 100,
   "metadata": {
    "collapsed": false
   },
   "outputs": [],
   "source": [
    "#ViscReduce = 0.1\n",
    "\n",
    "#ndp.Wds *= ViscReduce\n",
    "#ndp.Wdf *= ViscReduce\n",
    "#ndp.Eds *= ViscReduce\n",
    "#ndp.Edf *= ViscReduce"
   ]
  },
  {
   "cell_type": "code",
   "execution_count": 101,
   "metadata": {
    "collapsed": false
   },
   "outputs": [
    {
     "data": {
      "text/plain": [
       "(49.15683109565078, 17.875211307509375, 28.301795831549015, 19.75229500743525)"
      ]
     },
     "execution_count": 101,
     "metadata": {},
     "output_type": "execute_result"
    }
   ],
   "source": [
    "ndp.Wds, ndp.Wdf, ndp.Eds, ndp.Edf"
   ]
  },
  {
   "cell_type": "code",
   "execution_count": 102,
   "metadata": {
    "collapsed": false
   },
   "outputs": [],
   "source": [
    "############\n",
    "#Rheology\n",
    "#############\n",
    "#\n",
    "#The final mantle rheology is composed as follows*:\n",
    "# \n",
    "#\n",
    "# mantleviscosityFn = max{  min{(1/omega*Visc + 1/eta_p)**-1,\n",
    "#                           eta_max},\n",
    "#                           eta_min}\n",
    "#                      \n",
    "#Visc => min{diffusionCreep, dislocationCreep, }\n",
    "#eta_p   => stress-limiting effective viscosity\n",
    "#\n",
    "\n",
    "omega = fn.misc.constant(1.)\n",
    "\n",
    "if melt_viscosity_reduction:\n",
    "    mvr =  fn.branching.conditional( [ (temperatureField > (ndp.Tmvp + 7.5*(1. - coordinate[1])) , 0.1 ),   (         True, 1.) ] )\n",
    "    omega = omega*mvr\n",
    "\n",
    "\n",
    "#implementation of the lower mantle viscosity increase, similar to Bello et al. 2015\n",
    "a = 1.\n",
    "B = 30.\n",
    "d0 = 660e3/dp.LS  \n",
    "ds = d0/10.\n",
    "if lower_mantle:\n",
    "    inner1 = 1. - 0.5*(1. - fn.math.tanh(((1. - d0)-(coordinate[1]))/(ds)))\n",
    "    modfac = a*fn.math.exp(np.log(B)*inner1)\n",
    "    omega = omega*modfac\n",
    "\n",
    "\n",
    "##Diffusion Creep\n",
    "ndfp = fn.misc.min(ndp.eta_max, fn.math.exp( ((ndp.Edf + (depthFn*ndp.Wdf))/((temperatureField + ndp.TS))) - \n",
    "              ((ndp.Edf + (ndp.Dr*ndp.Wdf))/((ndp.TPP + ndp.TS)))  ))\n",
    "\n",
    "linearVisc = fn.misc.min(ndp.eta_max, ndfp)\n",
    "\n",
    "##Dislocation Creep\n",
    "nl_correction = (strainRate_2ndInvariant/ndp.SR)**((1.-ndp.n)/(ndp.n))\n",
    "\n",
    "\n",
    "ndsp = fn.misc.min(ndp.eta_max,(nl_correction)*fn.math.exp( ((ndp.Eds + (depthFn*ndp.Wds))/(ndp.n*(temperatureField + ndp.TS))) -\n",
    "                                     ((ndp.Eds + (ndp.Dr*ndp.Wds))/(ndp.n*(ndp.TPP + ndp.TS)))))\n",
    "\n",
    "\n",
    "##Combine the creep mechanisms\n",
    "Visc = fn.misc.max(fn.misc.min(ndp.eta_max, fn.misc.min(ndfp, ndsp)), ndp.eta_min)\n",
    "\n",
    "##Define the Plasticity\n",
    "ys =  ndp.cohesion + (depthFn*ndp.fcd) #In this case we'll use a valid cohesion\n",
    "yielding = ys/(strainRate_2ndInvariant/math.sqrt(0.5)) #extra factor to account for underworld second invariant form\n",
    "\n",
    "\n",
    "#Combine the viscous creep and plasticity\n",
    "#mantleviscosityFn = fn.misc.max(fn.misc.min(1./(((1./Visc) + (1./yielding))), ndp.eta_max), ndp.eta_min)\n",
    "mantleviscosityFn = fn.misc.max(fn.misc.min(fn.misc.min(Visc, yielding), ndp.eta_max), ndp.eta_min)\n",
    "\n",
    "\n",
    "#fn.misc.min(Visc, yielding)\n",
    "\n",
    "#lower mantle rheology\n",
    "\n",
    "#ndflm = fn.misc.min(ndp.eta_max, fn.math.exp( ((ndp.Elm + (depthFn*ndp.Wlm))/((temperatureField + ndp.TS))) - \n",
    "#              ((ndp.Elm + (ndp.Dr*ndp.Wlm))/((ndp.TPP + ndp.TS)))  ))\n",
    "\n",
    "#I ignored Cizkova's lower mantle diffusion creep parameters, \n",
    "#as they appeared to give lower values that the upper mantle rheology, i.e a visc. decrease at 660.\n",
    "#lm_increase = 1.\n",
    "#lowermantleviscosityFn = fn.misc.max(lm_increase*ndfp, ndp.eta_min)\n",
    "\n",
    "\n",
    "##Crust rheology\n",
    "#reduceFac = 0.1\n",
    "#ysc =  reduceFac*ndp.cohesion + reduceFac*(depthFn*gamma*ndp.RA) #In this case we'll use a valid cohesion\n",
    "#crust_yielding = ysc/(strainRate_2ndInvariant/math.sqrt(0.5)) #extra factor to account for underworld second invariant form\n",
    "#crustviscosityFn = fn.misc.max(fn.misc.min(1./(((1./Visc) + (1./crust_yielding))), ndp.eta_max), ndp.eta_min)\n"
   ]
  },
  {
   "cell_type": "code",
   "execution_count": 103,
   "metadata": {
    "collapsed": false
   },
   "outputs": [],
   "source": [
    "############\n",
    "#Build a weak zone\n",
    "#############\n",
    "#\n",
    "\n",
    "def disGen(centre):\n",
    "    coord = fn.input()\n",
    "    offsetFn = coord - centre\n",
    "    return fn.math.sqrt(fn.math.dot( offsetFn, offsetFn ))\n",
    "\n",
    "depth = 200.e3 #m\n",
    "angle = 20. #degrees\n",
    "num_circles = 50\n",
    "half_width = 5e3 #m\n",
    "\n",
    "\n",
    "xpos = depth/math.tan((angle*math.pi/180.))\n",
    "start = (0.075, 1.)\n",
    "end = (start[0] +xpos/dp.LS , start[1] - depth/dp.LS)\n",
    "xar = np.linspace(start[0], end[0], num_circles)\n",
    "yar = np.linspace(start[1], end[1], num_circles)\n",
    "fnBuilder = fn.misc.constant(1000.)\n",
    "for i in range(num_circles):\n",
    "    circ_dist = disGen((xar[i], yar[i]))\n",
    "    fnBuilder = fn.misc.min(circ_dist, fnBuilder)\n",
    "    \n",
    "sig = half_width/dp.LS\n",
    "gammaFn =  fn.math.exp(-fn.math.pow(fnBuilder, 2.) / (2. * fn.math.pow(sig, 2.)))"
   ]
  },
  {
   "cell_type": "code",
   "execution_count": 104,
   "metadata": {
    "collapsed": false
   },
   "outputs": [],
   "source": [
    "testFn = disGen((0., 1.))"
   ]
  },
  {
   "cell_type": "code",
   "execution_count": 105,
   "metadata": {
    "collapsed": true
   },
   "outputs": [],
   "source": [
    "weakVisc = 1.\n",
    "weakzoneFn = fn.misc.min((weakVisc/gammaFn*1.),ndp.eta_max)\n",
    "combmantleviscosityFn = fn.misc.max(ndp.eta_min, fn.misc.min(mantleviscosityFn, weakzoneFn))\n",
    "\n"
   ]
  },
  {
   "cell_type": "code",
   "execution_count": 106,
   "metadata": {
    "collapsed": false
   },
   "outputs": [],
   "source": [
    "fig= glucifer.Figure()\n",
    "#fig.append( glucifer.objects.Points(gSwarm,tracerVariable, colours= 'white black'))\n",
    "fig.append( glucifer.objects.Points(gSwarm,materialVariable))\n",
    "#fig.append( glucifer.objects.Surface(mesh, combmantleviscosityFn, logScale=True))\n",
    "#fig.append( glucifer.objects.VectorArrows(mesh, testFn))\n",
    "#fig.show()\n",
    "#fig.save_database('test.gldb')"
   ]
  },
  {
   "cell_type": "code",
   "execution_count": 107,
   "metadata": {
    "collapsed": false
   },
   "outputs": [],
   "source": [
    "#velocityField.data.max()"
   ]
  },
  {
   "cell_type": "markdown",
   "metadata": {},
   "source": [
    "import matplotlib.pylab as pyplt\n",
    "%matplotlib inline\n",
    "\n",
    "\n",
    "\n",
    "##################\n",
    "#Output functions to numpy vertical averages, maxes, mins\n",
    "##################\n",
    "\n",
    "viscmapFnmesh = uw.mesh.MeshVariable(mesh,nodeDofCount=1)\n",
    "out = uw.utils.MeshVariable_Projection( viscmapFnmesh, viscosityMapFn)\n",
    "out.solve()\n",
    "\n",
    "\n",
    "#avDf = ndfp.evaluate(mesh).reshape(mesh.elementRes[1] + 1, mesh.elementRes[0] + 1).mean(axis=1)\n",
    "avDs = ndsp.evaluate(mesh).reshape(mesh.elementRes[1] + 1, mesh.elementRes[0] + 1).mean(axis=1)\n",
    "umantle = mantleviscosityFn.evaluate(mesh).reshape(mesh.elementRes[1] + 1, mesh.elementRes[0] + 1).mean(axis=1)\n",
    "lmantle = lowermantleviscosityFn.evaluate(mesh).reshape(mesh.elementRes[1] + 1, mesh.elementRes[0] + 1).mean(axis=1)\n",
    "eff = viscmapFnmesh.evaluate(mesh).reshape(mesh.elementRes[1] + 1, mesh.elementRes[0] + 1).mean(axis=1)\n",
    "\n",
    "effMin = viscmapFnmesh.evaluate(mesh).reshape(mesh.elementRes[1] + 1, mesh.elementRes[0] + 1).min(axis=1)\n",
    "effMax = viscmapFnmesh.evaluate(mesh).reshape(mesh.elementRes[1] + 1, mesh.elementRes[0] + 1).max(axis=1)\n",
    "\n",
    "###################\n",
    "#Plot\n",
    "###################\n",
    "import matplotlib.pylab as pyplt\n",
    "%matplotlib inline\n",
    "\n",
    "fig, ax = pyplt.subplots()\n",
    "#ax .plot(avDf, label = 'diff')\n",
    "#ax .plot(avDs, label = 'dis')\n",
    "ax .plot(eff, label = 'eff')\n",
    "ax .plot(effMax, label = 'effMax')\n",
    "ax .plot(effMin, label = 'effMin')\n",
    "#ax .plot(umantle, label = 'uman')\n",
    "#ax .plot(lmantle, label = 'lman')\n",
    "ax.set_yscale(\"log\", nonposy='clip')\n",
    "ax.legend(loc = 3)"
   ]
  },
  {
   "cell_type": "code",
   "execution_count": 118,
   "metadata": {
    "collapsed": false,
    "scrolled": true
   },
   "outputs": [
    {
     "data": {
      "text/html": [
       "<img src='data:image/png;base64,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'>"
      ],
      "text/plain": [
       "<IPython.core.display.HTML object>"
      ]
     },
     "metadata": {},
     "output_type": "display_data"
    },
    {
     "data": {
      "text/plain": [
       "'test.gldb'"
      ]
     },
     "execution_count": 118,
     "metadata": {},
     "output_type": "execute_result"
    }
   ],
   "source": [
    "fig= glucifer.Figure()\n",
    "#fig.append( glucifer.objects.Points(gSwarm,materialVariable))\n",
    "fig.append( glucifer.objects.Points(gSwarm,viscosityMapFn, logScale=True))\n",
    "#fig.append( glucifer.objects.Surface(mesh, ndfp, logScale=True))\n",
    "\n",
    "#fig.append( glucifer.objects.Surface(mesh,mantleviscosityFn, logScale=True))\n",
    "#fig.show()\n",
    "#fig.save_database('test.gldb')"
   ]
  },
  {
   "cell_type": "code",
   "execution_count": 109,
   "metadata": {
    "collapsed": false
   },
   "outputs": [
    {
     "data": {
      "text/plain": [
       "(64.974561976578542, 0.06808037408223129)"
      ]
     },
     "execution_count": 109,
     "metadata": {},
     "output_type": "execute_result"
    }
   ],
   "source": [
    "ndsp.evaluate(mesh).min(), ndfp.evaluate(mesh).min()"
   ]
  },
  {
   "cell_type": "code",
   "execution_count": 110,
   "metadata": {
    "collapsed": false
   },
   "outputs": [],
   "source": [
    "#fig= glucifer.Figure()\n",
    "#fig.append( glucifer.objects.Points(gSwarm,tracerVariable, colours= 'white black'))\n",
    "#fig.append( glucifer.objects.Points(gSwarm,materialVariable))\n",
    "#fig.append( glucifer.objects.Surface(mesh, ndfp/ndsp , logScale=True))\n",
    "\n",
    "#fig.append( glucifer.objects.Surface(mesh, strainRate_2ndInvariant/ndp.SR))\n",
    "#fig.show()\n",
    "#fig.save_database('test.gldb')"
   ]
  },
  {
   "cell_type": "markdown",
   "metadata": {},
   "source": [
    "Stokes system setup\n",
    "-----\n"
   ]
  },
  {
   "cell_type": "code",
   "execution_count": 111,
   "metadata": {
    "collapsed": false
   },
   "outputs": [
    {
     "name": "stdout",
     "output_type": "stream",
     "text": [
      "2\n"
     ]
    }
   ],
   "source": [
    "#this accounts for the decreas in expansivity\n",
    "alphaRatio = 1.2/3\n",
    "taFn = 1. - (1. - depthFn)*(1. - alphaRatio) \n",
    "raylieghFn = ndp.RA*temperatureField*taFn \n",
    "\n",
    "\n",
    "if WeakZone:\n",
    "    print(1)\n",
    "    viscosityMapFn = fn.branching.map( fn_key = materialVariable,\n",
    "                         mapping = {crustIndex:combmantleviscosityFn,\n",
    "                                    mantleIndex:combmantleviscosityFn,\n",
    "                                    harzIndex:combmantleviscosityFn} )\n",
    "else: #Use weak crust\n",
    "    print(2)\n",
    "    viscosityMapFn = fn.branching.map( fn_key = materialVariable,\n",
    "                         mapping = {crustIndex:ndp.eta_crust,\n",
    "                                    mantleIndex:mantleviscosityFn,\n",
    "                                    harzIndex:mantleviscosityFn} )\n",
    "\n",
    "densityMapFn = fn.branching.map( fn_key = materialVariable,\n",
    "                         mapping = {airIndex:ndp.StRA,\n",
    "                                    crustIndex:raylieghFn, \n",
    "                                    mantleIndex:raylieghFn,\n",
    "                                    harzIndex:raylieghFn} )"
   ]
  },
  {
   "cell_type": "code",
   "execution_count": 112,
   "metadata": {
    "collapsed": false
   },
   "outputs": [],
   "source": [
    "\n",
    "# Define our vertical unit vector using a python tuple (this will be automatically converted to a function).\n",
    "gravity = ( 0.0, 1.0 )\n",
    "\n",
    "# Now create a buoyancy force vector using the density and the vertical unit vector. \n",
    "buoyancyFn = densityMapFn * gravity"
   ]
  },
  {
   "cell_type": "code",
   "execution_count": 113,
   "metadata": {
    "collapsed": false
   },
   "outputs": [],
   "source": [
    "stokesPIC = uw.systems.Stokes(velocityField=velocityField, \n",
    "                              pressureField=pressureField,\n",
    "                              conditions=[freeslipBC,],\n",
    "                              fn_viscosity=linearVisc, \n",
    "                              fn_bodyforce=buoyancyFn )"
   ]
  },
  {
   "cell_type": "code",
   "execution_count": 114,
   "metadata": {
    "collapsed": false
   },
   "outputs": [],
   "source": [
    "solver = uw.systems.Solver(stokesPIC)\n",
    "if not checkpointLoad:\n",
    "    solver.solve() #A solve on the linear visocisty is unhelpful unless we're starting from scratch"
   ]
  },
  {
   "cell_type": "code",
   "execution_count": 115,
   "metadata": {
    "collapsed": true
   },
   "outputs": [],
   "source": [
    "#Add the non-linear viscosity to the Stokes system\n",
    "stokesPIC.fn_viscosity = viscosityMapFn"
   ]
  },
  {
   "cell_type": "code",
   "execution_count": 116,
   "metadata": {
    "collapsed": false
   },
   "outputs": [
    {
     "name": "stdout",
     "output_type": "stream",
     "text": [
      "\u001b[1;35m\n",
      " \n",
      "Pressure iterations:   5\n",
      "Velocity iterations:   1 (presolve)      \n",
      "Velocity iterations:  -1 (pressure solve)\n",
      "Velocity iterations:   1 (backsolve)     \n",
      "Velocity iterations:   1 (total solve)   \n",
      " \n",
      "SCR RHS  solve time: 4.2971e-01\n",
      "Pressure solve time: 5.0715e-02\n",
      "Velocity solve time: 4.1819e-01 (backsolve)\n",
      "Total solve time   : 9.5710e-01\n",
      " \n",
      "Velocity solution min/max: 0.0000e+00/0.0000e+00\n",
      "Pressure solution min/max: 0.0000e+00/0.0000e+00\n",
      " \n",
      "\u001b[00m\n"
     ]
    }
   ],
   "source": [
    "solver.set_inner_method(\"mumps\")\n",
    "solver.options.scr.ksp_type=\"cg\"\n",
    "solver.set_penalty(1.0e7)\n",
    "solver.options.scr.ksp_rtol = 1.0e-4\n",
    "solver.solve(nonLinearIterate=True)\n",
    "solver.print_stats()"
   ]
  },
  {
   "cell_type": "code",
   "execution_count": null,
   "metadata": {
    "collapsed": true
   },
   "outputs": [],
   "source": []
  },
  {
   "cell_type": "code",
   "execution_count": 117,
   "metadata": {
    "collapsed": false
   },
   "outputs": [],
   "source": [
    "#Check which particles are yielding\n",
    "#yieldingCheck.data[:] = 0\n",
    "\n",
    "#yieldconditions = [ ( mantleviscosityFn < Visc , 1), \n",
    "#               ( True                                           , 0) ]\n",
    "\n",
    "# use the branching conditional function to set each particle's index\n",
    "#yieldingCheck.data[:] = fn.branching.conditional( yieldconditions ).evaluate(gSwarm)"
   ]
  },
  {
   "cell_type": "code",
   "execution_count": null,
   "metadata": {
    "collapsed": false,
    "scrolled": true
   },
   "outputs": [],
   "source": [
    "#fig= glucifer.Figure()\n",
    "#fig.append( glucifer.objects.Points(gSwarm,yieldingCheck))\n",
    "\n",
    "#fig.append( glucifer.objects.Surface(mesh,ndflm, logScale=True))\n",
    "#fig.show()"
   ]
  },
  {
   "cell_type": "markdown",
   "metadata": {},
   "source": [
    "Advection-diffusion System setup\n",
    "-----"
   ]
  },
  {
   "cell_type": "code",
   "execution_count": null,
   "metadata": {
    "collapsed": true
   },
   "outputs": [],
   "source": [
    "advDiff = uw.systems.AdvectionDiffusion( phiField       = temperatureField, \n",
    "                                         phiDotField    = temperatureDotField, \n",
    "                                         velocityField  = velocityField,\n",
    "                                         fn_sourceTerm    = 0.0,\n",
    "                                         fn_diffusivity = 1.0, \n",
    "                                         #conditions     = [neumannTempBC, dirichTempBC] )\n",
    "                                         conditions     = [ dirichTempBC] )\n",
    "\n",
    "passiveadvector = uw.systems.SwarmAdvector( swarm         = gSwarm, \n",
    "                                     velocityField = velocityField, \n",
    "                                     order         = 1)"
   ]
  },
  {
   "cell_type": "code",
   "execution_count": null,
   "metadata": {
    "collapsed": true
   },
   "outputs": [],
   "source": [
    "population_control = uw.swarm.PopulationControl(gSwarm,deleteThreshold=0.2,splitThreshold=1.,maxDeletions=3,maxSplits=0, aggressive=True, particlesPerCell=ppc)"
   ]
  },
  {
   "cell_type": "markdown",
   "metadata": {},
   "source": [
    "Analysis functions / routines\n",
    "-----"
   ]
  },
  {
   "cell_type": "code",
   "execution_count": null,
   "metadata": {
    "collapsed": true
   },
   "outputs": [],
   "source": [
    "#These are functions we can use to evuate integrals over restricted parts of the domain\n",
    "# For instance, we can exclude the thermal lithosphere from integrals\n",
    "\n",
    "def temprestrictionFn(lithval = 0.9):\n",
    "\n",
    "    tempMM = fn.view.min_max(temperatureField)\n",
    "    tempMM.evaluate(mesh)\n",
    "    TMAX = tempMM.max_global()\n",
    "    mantleconditions = [ (                                  temperatureField > lithval*TMAX, 1.),\n",
    "                   (                                                   True , 0.) ]\n",
    "\n",
    "\n",
    "    return fn.branching.conditional(mantleconditions)\n",
    "\n",
    "mantlerestrictFn = temprestrictionFn(lithval = 0.85)\n",
    "\n",
    "\n",
    "\n",
    "def platenessFn(val = 0.1):\n",
    "    normgradV = fn.math.abs(velocityField.fn_gradient[0]/fn.math.sqrt(velocityField[0]*velocityField[0])) #[du*/dx]/sqrt(u*u)\n",
    "\n",
    "\n",
    "\n",
    "    srconditions = [ (                                  normgradV < val, 1.),\n",
    "                   (                                                   True , 0.) ]\n",
    "\n",
    "\n",
    "    return fn.branching.conditional(srconditions)\n",
    "\n",
    "srrestrictFn = platenessFn(val = 0.1)"
   ]
  },
  {
   "cell_type": "code",
   "execution_count": null,
   "metadata": {
    "collapsed": true
   },
   "outputs": [],
   "source": []
  },
  {
   "cell_type": "code",
   "execution_count": null,
   "metadata": {
    "collapsed": false
   },
   "outputs": [],
   "source": [
    "#Setup volume integrals \n",
    "\n",
    "tempint = uw.utils.Integral( temperatureField, mesh )\n",
    "areaint = uw.utils.Integral( 1.,               mesh )\n",
    "\n",
    "v2int   = uw.utils.Integral( fn.math.dot(velocityField,velocityField), mesh )\n",
    "\n",
    "dwint   = uw.utils.Integral( temperatureField*velocityField[1], mesh )\n",
    "\n",
    "sinner = fn.math.dot( strainRate_2ndInvariant, strainRate_2ndInvariant )\n",
    "vdint = uw.utils.Integral( (2.*viscosityMapFn*sinner), mesh ) #Is it two or four here?\n",
    "\n",
    "mantleArea   = uw.utils.Integral( mantlerestrictFn, mesh )\n",
    "mantleTemp = uw.utils.Integral( temperatureField*mantlerestrictFn, mesh )\n",
    "mantleVisc = uw.utils.Integral( mantleviscosityFn*mantlerestrictFn, mesh )\n",
    "mantleVd = uw.utils.Integral( (2.*viscosityMapFn*sinner*mantlerestrictFn), mesh ) #these now work on MappingFunctions"
   ]
  },
  {
   "cell_type": "code",
   "execution_count": null,
   "metadata": {
    "collapsed": true
   },
   "outputs": [],
   "source": [
    "#Setup surface integrals\n",
    "\n",
    "rmsSurfInt = uw.utils.Integral( fn=velocityField[0]*velocityField[0], mesh=mesh, integrationType='Surface', \n",
    "                          surfaceIndexSet=mesh.specialSets[\"MaxJ_VertexSet\"])\n",
    "nuTop      = uw.utils.Integral( fn=temperatureField.fn_gradient[1],    mesh=mesh, integrationType='Surface', \n",
    "                          surfaceIndexSet=mesh.specialSets[\"MaxJ_VertexSet\"])\n",
    "nuBottom   = uw.utils.Integral( fn=temperatureField.fn_gradient[1],    mesh=mesh, integrationType='Surface', \n",
    "                          surfaceIndexSet=mesh.specialSets[\"MinJ_VertexSet\"])\n",
    "\n",
    "plateint  = uw.utils.Integral( fn=srrestrictFn, mesh=mesh, integrationType='Surface', #Integrate the plateness function\n",
    "                          surfaceIndexSet=mesh.specialSets[\"MaxJ_VertexSet\"]) \n",
    "\n",
    "surfint  = uw.utils.Integral( fn=1., mesh=mesh, integrationType='Surface',   #Surface length function (i.e. domain width)\n",
    "                          surfaceIndexSet=mesh.specialSets[\"MaxJ_VertexSet\"])"
   ]
  },
  {
   "cell_type": "code",
   "execution_count": null,
   "metadata": {
    "collapsed": true
   },
   "outputs": [],
   "source": [
    "#Define functions for the evaluation of integrals\n",
    "\n",
    "def basic_int(ourIntegral):           #This one just hands back the evaluated integral\n",
    "    return ourIntegral.evaluate()[0]\n",
    "\n",
    "def avg_temp():\n",
    "    return tempint.evaluate()[0]/areaint.evaluate()[0]\n",
    "\n",
    "def nusseltTB(temp_field, mesh):\n",
    "    return -nuTop.evaluate()[0], -nuBottom.evaluate()[0]\n",
    "\n",
    "def rms():\n",
    "    return math.sqrt(v2int.evaluate()[0]/areaint.evaluate()[0])\n",
    "\n",
    "def rms_surf():\n",
    "    return math.sqrt(rmsSurfInt.evaluate()[0])\n",
    "\n",
    "def max_vx_surf(velfield, mesh):\n",
    "    vuvelxfn = fn.view.min_max(velfield[0])\n",
    "    vuvelxfn.evaluate(mesh.specialSets[\"MaxJ_VertexSet\"])\n",
    "    return vuvelxfn.max_global()\n",
    "\n",
    "\n",
    "def visc_extr(viscfn):\n",
    "    vuviscfn = fn.view.min_max(viscfn)\n",
    "    vuviscfn.evaluate(mesh)\n",
    "    return vuviscfn.max_global(), vuviscfn.min_global()"
   ]
  },
  {
   "cell_type": "code",
   "execution_count": null,
   "metadata": {
    "collapsed": false
   },
   "outputs": [],
   "source": [
    "#v2sum_integral  = uw.utils.Integral( mesh=mesh, fn=fn.math.dot( velocityField, velocityField ) )\n",
    "#volume_integral = uw.utils.Integral( mesh=mesh, fn=1. )\n",
    "#Vrms = math.sqrt( v2sum_integral.evaluate()[0] )/volume_integral.evaluate()[0]\n",
    "\n",
    "\n",
    "\n",
    "#if(uw.rank()==0):\n",
    "#    print('Initial Vrms = {0:.3f}'.format(Vrms))\n",
    "\n",
    "# Check the Metrics\n",
    "\n",
    "#Avg_temp = avg_temp()\n",
    "#Rms = rms()\n",
    "#Rms_surf = rms_surf()\n",
    "#Max_vx_surf = max_vx_surf(velocityField, mesh)\n",
    "#Gravwork = basic_int(dwint)\n",
    "#Viscdis = basic_int(vdint)\n",
    "#nu1, nu0 = nusseltTB(temperatureField, mesh) # return top then bottom\n",
    "#etamax, etamin = visc_extr(mantleviscosityFn)\n",
    "\n",
    "#Area_mantle = basic_int(mantleArea)\n",
    "#Viscmantle = basic_int(mantleVisc)\n",
    "#Tempmantle = basic_int(mantleTemp)\n",
    "#Viscdismantle = basic_int(mantleVd)"
   ]
  },
  {
   "cell_type": "markdown",
   "metadata": {},
   "source": [
    "Viz.\n",
    "-----"
   ]
  },
  {
   "cell_type": "code",
   "execution_count": null,
   "metadata": {
    "collapsed": false
   },
   "outputs": [],
   "source": [
    "viscVariable = gSwarm.add_variable( dataType=\"float\", count=1 )\n",
    "viscVariable.data[:] = viscosityMapFn.evaluate(gSwarm)"
   ]
  },
  {
   "cell_type": "code",
   "execution_count": null,
   "metadata": {
    "collapsed": false
   },
   "outputs": [],
   "source": [
    "#Pack some stuff into a database as well\n",
    "figDb = glucifer.Figure()\n",
    "#figDb.append( glucifer.objects.Mesh(mesh))\n",
    "figDb.append( glucifer.objects.VectorArrows(mesh,velocityField, scaling=0.0005))\n",
    "#figDb.append( glucifer.objects.Points(gSwarm,tracerVariable, colours= 'white black'))\n",
    "figDb.append( glucifer.objects.Points(gSwarm,materialVariable))\n",
    "\n",
    "figDb.append( glucifer.objects.Points(gSwarm,viscosityMapFn, logScale=True))\n",
    "figDb.append( glucifer.objects.Surface(mesh, strainRate_2ndInvariant, logScale=True))\n",
    "figDb.append( glucifer.objects.Surface(mesh, temperatureField))\n",
    "#figDb.show()"
   ]
  },
  {
   "cell_type": "code",
   "execution_count": null,
   "metadata": {
    "collapsed": false
   },
   "outputs": [],
   "source": [
    "##############\n",
    "#Create a numpy array at the surface to get surface information on (using parallel-friendly evaluate_global)\n",
    "##############\n",
    "\n",
    "surface_xs = np.linspace(mesh.minCoord[0], mesh.maxCoord[0], mesh.elementRes[0] + 1)\n",
    "surface_nodes = np.array(zip(surface_xs, np.ones(len(surface_xs)*mesh.maxCoord[1]))) #For evaluation surface velocity\n",
    "normgradV = velocityField.fn_gradient[0]/fn.math.sqrt(velocityField[0]*velocityField[0])\n",
    "\n",
    "tempMM = fn.view.min_max(temperatureField)\n",
    "dummy = tempMM.evaluate(mesh)\n",
    "\n"
   ]
  },
  {
   "cell_type": "markdown",
   "metadata": {},
   "source": [
    "**Miscellania**"
   ]
  },
  {
   "cell_type": "code",
   "execution_count": null,
   "metadata": {
    "collapsed": false
   },
   "outputs": [],
   "source": [
    "##############\n",
    "#These functions handle checkpointing\n",
    "##############\n",
    "\n",
    "\n",
    "def checkpoint1(step, checkpointPath,filename, filewrites):\n",
    "    path = checkpointPath + str(step) \n",
    "    os.mkdir(path)\n",
    "    ##Write and save the file, if not already a writing step\n",
    "    if not step % filewrites == 0:\n",
    "        filename.write((17*'%-15s ' + '\\n') % (realtime, Viscdis, float(nu0), float(nu1), Avg_temp,\n",
    "                                              Tempmantle,TMAX,\n",
    "                                              Rms,Rms_surf,Max_vx_surf,Gravwork, etamax, etamin, \n",
    "                                              Area_mantle, Viscmantle,  Viscdismantle,Plateness ))\n",
    "    filename.close()\n",
    "    shutil.copyfile(os.path.join(outputPath, outputFile), os.path.join(path, outputFile))\n",
    "\n",
    "\n",
    "def checkpoint2(step, checkpointPath, swarm, filename, varlist = [materialVariable], varnames = ['materialVariable']):\n",
    "    path = checkpointPath + str(step) \n",
    "    velfile = \"velocityField\" + \".hdf5\"\n",
    "    tempfile = \"temperatureField\" + \".hdf5\"\n",
    "    pressfile = \"pressureField\" + \".hdf5\"\n",
    "    velocityField.save(os.path.join(path, velfile))\n",
    "    temperatureField.save(os.path.join(path, tempfile))\n",
    "    pressureField.save(os.path.join(path, pressfile))\n",
    "    swarm.save(os.path.join(path, \"swarm.h5\") ) \n",
    "    for ix in range(len(varlist)):\n",
    "        varb = varlist[ix]\n",
    "        varb.save(os.path.join(path,varnames[ix] + \".h5\"))\n",
    "    "
   ]
  },
  {
   "cell_type": "code",
   "execution_count": null,
   "metadata": {
    "collapsed": true
   },
   "outputs": [],
   "source": [
    "##############\n",
    "#This will allow us to evaluate viscous shear heating, and add the result directly to the temperature field\n",
    "##############\n",
    "\n",
    "viscDisMapFn = 2.*viscosityMapFn*sinner\n",
    "viscDisFnmesh = uw.mesh.MeshVariable(mesh,nodeDofCount=1)\n",
    "viscDisProj = uw.utils.MeshVariable_Projection( viscDisFnmesh, viscDisMapFn)\n",
    "viscDisProj.solve()"
   ]
  },
  {
   "cell_type": "code",
   "execution_count": null,
   "metadata": {
    "collapsed": false
   },
   "outputs": [],
   "source": [
    "# initialise timer for computation\n",
    "start = time.clock()\n",
    "# setup summary output file (name above)\n",
    "if checkpointLoad:\n",
    "    if uw.rank() == 0:\n",
    "        shutil.copyfile(os.path.join(checkpointLoadDir, outputFile), outputPath+outputFile)\n",
    "    comm.Barrier()\n",
    "    f_o = open(os.path.join(outputPath, outputFile), 'a')\n",
    "    prevdata = np.genfromtxt(os.path.join(outputPath, outputFile), skip_header=0, skip_footer=0)\n",
    "    if len(prevdata.shape) == 1: #this is in case there is only one line in previous file\n",
    "        realtime = prevdata[0]\n",
    "    else:\n",
    "        realtime = prevdata[prevdata.shape[0]-1, 0]\n",
    "    step = int(checkpointLoadDir.split('/')[-1])\n",
    "    timevals = [0.]\n",
    "else:\n",
    "    f_o = open(outputPath+outputFile, 'w')\n",
    "    realtime = 0.\n",
    "    step = 0\n",
    "    timevals = [0.]"
   ]
  },
  {
   "cell_type": "markdown",
   "metadata": {},
   "source": [
    "Main simulation loop\n",
    "-----\n"
   ]
  },
  {
   "cell_type": "code",
   "execution_count": null,
   "metadata": {
    "collapsed": false
   },
   "outputs": [],
   "source": [
    "#while step < 21:\n",
    "while realtime < 1.:\n",
    "\n",
    "    # solve Stokes and advection systems\n",
    "    solver.solve(nonLinearIterate=True)\n",
    "    dt = advDiff.get_max_dt()\n",
    "    if step == 0:\n",
    "        dt = 0.\n",
    "    advDiff.integrate(dt)\n",
    "    passiveadvector.integrate(dt)\n",
    "    \n",
    "    #Add the adiabatic adjustment:\n",
    "    temperatureField.data[:] += dt*abHeatFn.evaluate(mesh)\n",
    "    \n",
    "    #Add the viscous heating term\n",
    "    #viscDisProj = uw.utils.MeshVariable_Projection( viscDisFnmesh, viscDisMapFn)\n",
    "    #viscDisProj.solve()\n",
    "    #temperatureField.data[:] += dt*viscDisFnmesh.evaluate(mesh)\n",
    "    \n",
    "\n",
    "    # Increment\n",
    "    realtime += dt\n",
    "    step += 1\n",
    "    timevals.append(realtime)\n",
    "    ################\n",
    "    #Update temperature field in the air region\n",
    "    #Do this better...\n",
    "    ################\n",
    "    if (step % sticky_air_temp == 0):\n",
    "        for index, coord in enumerate(mesh.data):\n",
    "            if coord[1] >= 1.:\n",
    "                temperatureField.data[index] = ndp.TSP\n",
    "\n",
    "    # Calculate the Metrics, only on 1 of the processors:\n",
    "    ################\n",
    "    if (step % metric_output == 0):\n",
    "        ###############\n",
    "        #Swarm - based Metrics\n",
    "        ###############\n",
    "        # Calculate the RMS velocity and Nusselt number.\n",
    "        # Calculate the Metrics, only on 1 of the processors:\n",
    "        mantlerestrictFn = temprestrictionFn() #rebuild the mantle restriction function (but these should be dynamic?)\n",
    "        srrestrictFn = platenessFn(val = 0.1) #rebuild the plateness restriction function\n",
    "        dummy = tempMM.evaluate(mesh) #Re-evaluate any fn.view.min_max guys\n",
    "        #Rebuild these integrals (a test because metrics changes after a restart)\n",
    "        mantleArea   = uw.utils.Integral( mantlerestrictFn, mesh )\n",
    "        mantleTemp = uw.utils.Integral( temperatureField*mantlerestrictFn, mesh )\n",
    "        mantleVisc = uw.utils.Integral( mantleviscosityFn*mantlerestrictFn, mesh )\n",
    "        mantleVd = uw.utils.Integral( (4.*viscosityMapFn*sinner*mantlerestrictFn), mesh ) #these now work on MappingFunctions\n",
    "        ###\n",
    "        Avg_temp = avg_temp()\n",
    "        Rms = rms()\n",
    "        Rms_surf = rms_surf()\n",
    "        Max_vx_surf = max_vx_surf(velocityField, mesh)\n",
    "        Gravwork = basic_int(dwint)\n",
    "        Viscdis = basic_int(vdint)\n",
    "        nu1, nu0 = nusseltTB(temperatureField, mesh) # return top then bottom\n",
    "        etamax, etamin = visc_extr(mantleviscosityFn)\n",
    "        Area_mantle = basic_int(mantleArea)\n",
    "        Viscmantle = basic_int(mantleVisc)\n",
    "        Tempmantle = basic_int(mantleTemp)\n",
    "        Viscdismantle = basic_int(mantleVd)\n",
    "        Plateness = basic_int(plateint)/basic_int(surfint)\n",
    "        TMAX = tempMM.max_global()\n",
    "        # output to summary text file\n",
    "        if uw.rank()==0:\n",
    "            f_o.write((17*'%-15s ' + '\\n') % (realtime, Viscdis, float(nu0), float(nu1), Avg_temp,\n",
    "                                              Tempmantle,TMAX,\n",
    "                                              Rms,Rms_surf,Max_vx_surf,Gravwork, etamax, etamin, \n",
    "                                              Area_mantle, Viscmantle,  Viscdismantle,Plateness ))\n",
    "    ################\n",
    "    #Also repopulate entire swarm periodically\n",
    "    ################\n",
    "    #if step % swarm_repop == 0:\n",
    "    population_control.repopulate()   \n",
    "    ################\n",
    "    #Checkpoint\n",
    "    ################\n",
    "    if step % checkpoint_every == 0:\n",
    "        if uw.rank() == 0:\n",
    "            checkpoint1(step, checkpointPath,f_o, metric_output)           \n",
    "        checkpoint2(step, checkpointPath, gSwarm, f_o, varlist = varlist, varnames = varnames)\n",
    "        f_o = open(os.path.join(outputPath, outputFile), 'a') #is this line supposed to be here?\n",
    "    ################\n",
    "    #Gldb output\n",
    "    ################ \n",
    "    if (step % gldbs_output == 0):\n",
    "        #Rebuild any necessary swarm variables\n",
    "        viscVariable.data[:] = viscosityMapFn.evaluate(gSwarm)\n",
    "        #Write gldbs\n",
    "        fnamedb = \"dbFig\" + \"_\" + str(ModIt) + \"_\" + str(step) + \".gldb\"\n",
    "        fullpath = os.path.join(outputPath + \"gldbs/\" + fnamedb)\n",
    "        #figDb.show()\n",
    "        figDb.save_database(fullpath)\n",
    "    ################\n",
    "    #Files output\n",
    "    ################ \n",
    "    if (step % files_output == 0):\n",
    "\n",
    "        vel_surface = velocityField.evaluate_global(surface_nodes)\n",
    "        norm_surface_sr = normgradV.evaluate_global(surface_nodes)\n",
    "        if uw.rank() == 0:\n",
    "            fnametemp = \"velsurface\" + \"_\" + str(ModIt) + \"_\" + str(step)\n",
    "            fullpath = os.path.join(outputPath + \"files/\" + fnametemp)\n",
    "            np.save(fullpath, vel_surface)\n",
    "            fnametemp = \"norm_surface_sr\" + \"_\" + str(ModIt) + \"_\" + str(step)\n",
    "            fullpath = os.path.join(outputPath + \"files/\" + fnametemp)\n",
    "            np.save(fullpath, norm_surface_sr)\n",
    "    ################\n",
    "    #Particle update\n",
    "    ###############    \n",
    "    #ageVariable.data[:] += dt #increment the ages (is this efficient?)\n",
    "    ageDT += dt\n",
    "    \n",
    "    if step % swarm_update == 0:\n",
    "        #Increment age stuff. \n",
    "        ageEval = fn.branching.conditional( ageConditions ).evaluate(gSwarm)\n",
    "        ageVariable.data[np.where(ageEval == 0)] = 0 #If below the critical depth, age is set to zero\n",
    "        ageVariable.data[np.where(ageEval != 0)] += ageDT #If age above critical depth, increment age\n",
    "        ageDT = 0. #reset the age incrementer\n",
    "        \n",
    "        #Apply any materialVariable changes\n",
    "        for i in range(2): #Need to go through twice first time through\n",
    "            materialVariable.data[:] = fn.branching.conditional(DG.condition_list).evaluate(gSwarm)\n",
    "\n",
    "    \n",
    "f_o.close()\n",
    "print 'step =',step"
   ]
  },
  {
   "cell_type": "code",
   "execution_count": null,
   "metadata": {
    "collapsed": false
   },
   "outputs": [],
   "source": [
    "viscVariable = gSwarm.add_variable( dataType=\"float\", count=1 )\n",
    "viscVariable.data[:] = viscosityMapFn.evaluate(gSwarm)"
   ]
  },
  {
   "cell_type": "markdown",
   "metadata": {},
   "source": [
    "## Phases"
   ]
  },
  {
   "cell_type": "code",
   "execution_count": 189,
   "metadata": {
    "collapsed": true
   },
   "outputs": [],
   "source": [
    "from easydict import EasyDict as edict\n",
    "class component_phases():\n",
    "    \"\"\"\n",
    "    Class that allows you to create 'phase functions' for a mineral component\n",
    "\n",
    "    \"\"\"\n",
    "    def __init__(self,name, depths, widths,claps,densities):\n",
    "        \"\"\"\n",
    "        Class initialiser.\n",
    "        Parameter\n",
    "        ---------\n",
    "        name : str\n",
    "            'Component', e.g olivine, pyroxene-garnet\n",
    "        depths: list\n",
    "            list of transition depths in kilomters\n",
    "        widths: list \n",
    "            list of transition widths in kilomters\n",
    "        claps: list \n",
    "            list of Clapeyron slopes in Pa/K\n",
    "        densities: list\n",
    "            list of density changes in kg/m3\n",
    "        Returns\n",
    "        -------\n",
    "        mesh : dp\n",
    "        Dictionary storing the phase-transition vales\n",
    "\n",
    "        \"\"\"\n",
    "        if not isinstance(depths,list):\n",
    "            raise TypeError(\"depths object passed in must be of type 'list'\")\n",
    "        if not isinstance(widths,list):\n",
    "            raise TypeError(\"widths object passed in must be of type 'list'\")\n",
    "        if not isinstance(claps,list):\n",
    "            raise TypeError(\"claps object passed in must be of type 'list'\")\n",
    "        if not isinstance(densities,list):\n",
    "            raise TypeError(\"densities object passed in must be of type 'list'\")\n",
    "        if not len(depths) == len(widths) == len(claps) == len(densities):\n",
    "            raise ValueError( \"All lists of phase values should be the same length\")\n",
    "        self.dp = edict({})\n",
    "        self.dp.name = name\n",
    "        self.dp.depths = depths\n",
    "        self.dp.widths = widths\n",
    "        self.dp.claps = claps\n",
    "        self.dp.densities = densities\n",
    "        \n",
    "    def build_nd_dict(self, lengthscale, densityscale, gravityscale, tempscale):\n",
    "        self.ndp = edict({})\n",
    "        self.ndp.name = self.dp.name\n",
    "        self.ndp.depths = [i/lengthscale for i in self.dp.depths]\n",
    "        self.ndp.widths = [i/lengthscale for i in self.dp.widths]\n",
    "        self.ndp.claps = [(i/(tempscale/(densityscale*gravityscale*lengthscale))) for i in self.dp.claps]\n",
    "        self.ndp.densities = [i/(densityscale*gravityscale*lengthscale) for i in self.dp.densities]\n",
    "        \n",
    "    def nd_reduced_pressure(depthFn, temperatureField, dph, clap, Tph):\n",
    "        \"\"\"\n",
    "        Creates an Underworld function, representing the 'reduced pressure'\n",
    "        \"\"\"\n",
    "        return (depthFn - dph) - clap*(temperatureField - Tph)\n",
    "\n",
    "    def nd_phase(reduced_p, width):\n",
    "        \"\"\"\n",
    "        Creates an Underworld function, representing the phase function in the domain\n",
    "        \"\"\"\n",
    "        return 0.5*(1 + fn.math.tanh(reduced_p/(width)))\n",
    "    \n",
    "    def phase_function_sum(self, temperatureField, depthFn):\n",
    "        \"\"\"\n",
    "        Creates an Underworld function, representing the Sum of the individual phase functions..\n",
    "        and the associated density changes:\n",
    "        \n",
    "        pf_sum = Sum_k{ (Ra*delRho_k*pf_k/rho_0*eta_0*delta_t)}\n",
    "        -----------\n",
    "        temperatureField : underworld.mesh._meshvariable.MeshVariable\n",
    "        \"\"\"\n",
    "        pf_sum = uw.function.misc.constant(0.)\n",
    "        \n",
    "        return pf_sum\n",
    "        \n",
    "        \n",
    "        \n",
    "    "
   ]
  },
  {
   "cell_type": "code",
   "execution_count": 178,
   "metadata": {
    "collapsed": false
   },
   "outputs": [],
   "source": [
    "test = component_phases(name = 'ol', depths=[410.,660], widths = [10, 20], claps=[2, 2], densities = [200, 300])"
   ]
  },
  {
   "cell_type": "code",
   "execution_count": 179,
   "metadata": {
    "collapsed": false
   },
   "outputs": [],
   "source": [
    "test.build_nd_dict(dp.LS, dp.rho, dp.g, dp.deltaTa)"
   ]
  },
  {
   "cell_type": "code",
   "execution_count": 180,
   "metadata": {
    "collapsed": false
   },
   "outputs": [
    {
     "data": {
      "text/plain": [
       "{'claps': [63413654.68147285, 63413654.68147285],\n",
       " 'densities': [3.092145949288806e-09, 4.638218923933209e-09],\n",
       " 'depths': [0.000205, 0.00033],\n",
       " 'name': 'ol',\n",
       " 'widths': [5e-06, 1e-05]}"
      ]
     },
     "execution_count": 180,
     "metadata": {},
     "output_type": "execute_result"
    }
   ],
   "source": [
    "test.ndp"
   ]
  },
  {
   "cell_type": "code",
   "execution_count": 182,
   "metadata": {
    "collapsed": false
   },
   "outputs": [],
   "source": [
    "olivine_pf = test.phase_function_sum(temperatureField)"
   ]
  },
  {
   "cell_type": "code",
   "execution_count": 184,
   "metadata": {
    "collapsed": true
   },
   "outputs": [],
   "source": []
  },
  {
   "cell_type": "code",
   "execution_count": 188,
   "metadata": {
    "collapsed": false
   },
   "outputs": [
    {
     "data": {
      "text/plain": [
       "<underworld.function._function.subtract at 0x7ffab22f9a50>"
      ]
     },
     "execution_count": 188,
     "metadata": {},
     "output_type": "execute_result"
    }
   ],
   "source": [
    "nd_reduced_pressure(depthFn, temperatureField, 1., 1., 1.)"
   ]
  },
  {
   "cell_type": "code",
   "execution_count": 186,
   "metadata": {
    "collapsed": false
   },
   "outputs": [
    {
     "data": {
      "text/plain": [
       "<underworld.function._function.multiply at 0x7ffab1ba8c50>"
      ]
     },
     "execution_count": 186,
     "metadata": {},
     "output_type": "execute_result"
    }
   ],
   "source": []
  },
  {
   "cell_type": "code",
   "execution_count": 187,
   "metadata": {
    "collapsed": false
   },
   "outputs": [
    {
     "data": {
      "text/plain": [
       "<underworld.function._function.subtract at 0x7ffab2330fd0>"
      ]
     },
     "execution_count": 187,
     "metadata": {},
     "output_type": "execute_result"
    }
   ],
   "source": [
    "#depthFn - temperatureField"
   ]
  },
  {
   "cell_type": "code",
   "execution_count": null,
   "metadata": {
    "collapsed": true
   },
   "outputs": [],
   "source": []
  }
 ],
 "metadata": {
  "kernelspec": {
   "display_name": "Python 2",
   "language": "python",
   "name": "python2"
  },
  "language_info": {
   "codemirror_mode": {
    "name": "ipython",
    "version": 2
   },
   "file_extension": ".py",
   "mimetype": "text/x-python",
   "name": "python",
   "nbconvert_exporter": "python",
   "pygments_lexer": "ipython2",
   "version": "2.7.9"
  },
  "widgets": {
   "state": {},
   "version": "1.1.2"
  }
 },
 "nbformat": 4,
 "nbformat_minor": 0
}
