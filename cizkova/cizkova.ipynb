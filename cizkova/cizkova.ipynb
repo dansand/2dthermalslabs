{
 "cells": [
  {
   "cell_type": "markdown",
   "metadata": {},
   "source": [
    "## composite, non-linear rheology:\n",
    "\n",
    "\n",
    "The viscous rheology in this model is similar to the Čížková and Bina paper cited below. Other parts of the model setup are similar to Arredondo and Billen (2016) and Korenaga (2011). \n",
    "\n",
    "Here we use a dimensionless system. For the psuedo-plastic effective rheology a Drucker-prager model is used.\n",
    "\n",
    "\n",
    "**Keywords:** thermal covection, dislocation creep\n",
    "\n",
    "\n",
    "**References**\n",
    "\n",
    "Čížková, Hana, and Craig R. Bina. \"Geodynamics of trench advance: Insights from a Philippine-Sea-style geometry.\" Earth and Planetary Science Letters 430 (2015): 408-415.\n",
    "\n",
    "Arredondo, Katrina M., and Magali I. Billen. \"The Effects of Phase Transitions and Compositional Layering in Two-dimensional Kinematic Models of Subduction.\" Journal of Geodynamics (2016).\n",
    "\n",
    "Korenaga, Jun. \"Scaling of plate tectonic convection with pseudoplastic rheology.\" Journal of Geophysical Research: Solid Earth 115.B11 (2010)."
   ]
  },
  {
   "cell_type": "code",
   "execution_count": 22,
   "metadata": {
    "collapsed": false
   },
   "outputs": [],
   "source": [
    "import numpy as np\n",
    "import underworld as uw\n",
    "import math\n",
    "from underworld import function as fn\n",
    "import glucifer\n",
    "\n",
    "import os\n",
    "import sys\n",
    "import natsort\n",
    "import shutil\n",
    "from easydict import EasyDict as edict\n",
    "import operator\n",
    "import pint\n",
    "import time\n",
    "import operator\n",
    "from slippy2 import boundary_layer2d\n",
    "from slippy2 import material_graph\n",
    "from slippy2 import spmesh\n",
    "\n",
    "from mpi4py import MPI\n",
    "comm = MPI.COMM_WORLD\n",
    "rank = comm.Get_rank()"
   ]
  },
  {
   "cell_type": "markdown",
   "metadata": {},
   "source": [
    "Model name and directories\n",
    "-----"
   ]
  },
  {
   "cell_type": "code",
   "execution_count": 23,
   "metadata": {
    "collapsed": true
   },
   "outputs": [],
   "source": [
    "############\n",
    "#Model name.  \n",
    "############\n",
    "Model = \"T\"\n",
    "ModNum = 7\n",
    "\n",
    "if len(sys.argv) == 1:\n",
    "    ModIt = \"Base\"\n",
    "elif sys.argv[1] == '-f':\n",
    "    ModIt = \"Base\"\n",
    "else:\n",
    "    ModIt = str(sys.argv[1])"
   ]
  },
  {
   "cell_type": "code",
   "execution_count": 24,
   "metadata": {
    "collapsed": false
   },
   "outputs": [],
   "source": [
    "###########\n",
    "#Standard output directory setup\n",
    "###########\n",
    "\n",
    "\n",
    "outputPath = \"results\" + \"/\" +  str(Model) + \"/\" + str(ModNum) + \"/\" + str(ModIt) + \"/\"\n",
    "imagePath = outputPath + 'images/'\n",
    "filePath = outputPath + 'files/'\n",
    "checkpointPath = outputPath + 'checkpoint/'\n",
    "dbPath = outputPath + 'gldbs/'\n",
    "outputFile = 'results_model' + Model + '_' + str(ModNum) + '_' + str(ModIt) + '.dat'\n",
    "\n",
    "if uw.rank()==0:\n",
    "    # make directories if they don't exist\n",
    "    if not os.path.isdir(outputPath):\n",
    "        os.makedirs(outputPath)\n",
    "    if not os.path.isdir(checkpointPath):\n",
    "        os.makedirs(checkpointPath)\n",
    "    if not os.path.isdir(imagePath):\n",
    "        os.makedirs(imagePath)\n",
    "    if not os.path.isdir(dbPath):\n",
    "        os.makedirs(dbPath)\n",
    "    if not os.path.isdir(filePath):\n",
    "        os.makedirs(filePath)\n",
    "        \n",
    "comm.Barrier() #Barrier here so no procs run the check in the next cell too early"
   ]
  },
  {
   "cell_type": "code",
   "execution_count": 25,
   "metadata": {
    "collapsed": false
   },
   "outputs": [
    {
     "name": "stdout",
     "output_type": "stream",
     "text": [
      "results/T/7/Base/checkpoint/ is empty\n"
     ]
    }
   ],
   "source": [
    "###########\n",
    "#Check if starting from checkpoint\n",
    "###########\n",
    "\n",
    "checkdirs = []\n",
    "for dirpath, dirnames, files in os.walk(checkpointPath):\n",
    "    if files:\n",
    "        print dirpath, 'has files'\n",
    "        checkpointLoad = True\n",
    "        checkdirs.append(dirpath)\n",
    "    if not files:\n",
    "        print dirpath, 'is empty'\n",
    "        checkpointLoad = False"
   ]
  },
  {
   "cell_type": "markdown",
   "metadata": {},
   "source": [
    "Setup parameters\n",
    "-----\n",
    "\n",
    "Set simulation parameters for test."
   ]
  },
  {
   "cell_type": "markdown",
   "metadata": {},
   "source": [
    "**Use pint to setup any unit conversions we'll need**"
   ]
  },
  {
   "cell_type": "code",
   "execution_count": 26,
   "metadata": {
    "collapsed": false
   },
   "outputs": [
    {
     "data": {
      "text/html": [
       "10000.0 meter/megayear"
      ],
      "text/latex": [
       "$10000.0 \\frac{meter}{megayear}$"
      ],
      "text/plain": [
       "<Quantity(10000.0, 'meter / megayear')>"
      ]
     },
     "execution_count": 26,
     "metadata": {},
     "output_type": "execute_result"
    }
   ],
   "source": [
    "u = pint.UnitRegistry()\n",
    "cmpery = 1.*u.cm/u.year\n",
    "mpermy = 1.*u.m/u.megayear\n",
    "\n",
    "cmpery.to(mpermy)"
   ]
  },
  {
   "cell_type": "markdown",
   "metadata": {},
   "source": [
    "**Set parameter dictionaries**"
   ]
  },
  {
   "cell_type": "code",
   "execution_count": null,
   "metadata": {
    "collapsed": false
   },
   "outputs": [],
   "source": []
  },
  {
   "cell_type": "code",
   "execution_count": 27,
   "metadata": {
    "collapsed": false
   },
   "outputs": [],
   "source": [
    "#dimensional parameter dictionary\n",
    "dp = edict({#'LS':2900.*1e3,\n",
    "            'LS':2000.*1e3,\n",
    "           'rho':3300,\n",
    "           'g':9.8, \n",
    "           'eta0':4e20, #Dislocation creep at 250 km, 1573 K, 1e-15 s-1 \n",
    "           'k':1e-6,\n",
    "           'a':3e-5, #surface thermal expansivity\n",
    "           'TP':1573., #potential temp\n",
    "           'TS':273., #surface temp\n",
    "           'cohesion':1e7, #\n",
    "           'fc':0.01,        #This is the value from \n",
    "           'Adf':1e-9,\n",
    "           'Ads':3.1e-17,\n",
    "           'Edf':3.35e5,\n",
    "           'Eds':4.8e5,\n",
    "           'Vdf':4e-6,\n",
    "           'Vds':11e-6,\n",
    "           'Alm':1.3e-16,\n",
    "           'Elm':2.0e5,\n",
    "           'Vlm':1.1e-6,\n",
    "           'Ba':4.3e-12,  #A value to simulate pressure increase with depth\n",
    "           'SR':1e-15,\n",
    "           'Dr':250e3, #Reference depth\n",
    "           'R':8.314,\n",
    "           'Cp':1250., #Jkg-1K-1\n",
    "           'StALS':100e3,\n",
    "           'plate_vel':8})\n",
    "\n",
    "#Adibatic heating stuff\n",
    "dp.dTa = (dp.a*dp.g*(dp.TP))/dp.Cp #adibatic gradient, at Tp\n",
    "dp.deltaTa = (dp.TP + dp.dTa*dp.LS) - dp.TS  #Adiabatic Temp at base of mantle, minus Ts\n",
    "dp.deltaT = dp.deltaTa\n",
    "\n",
    "\n",
    "#ndf = (1./dp.Adf)*np.exp( ((dp.Edf + dp.Vdf*dp.Pr))/((dp.R*dp.Tr)))\n",
    "#nds = (1./dp.Ads**(1/ndp.n))*(dp.SR**((1-ndp.n)/ndp.n))*np.exp( ((dp.Eds + dp.Vds*dp.Pr))/((ndp.n*dp.R*dp.Tr)))\n",
    "\n",
    "\n",
    "#scale_factors\n",
    "\n",
    "sf = edict({'stress':dp.LS**2/(dp.k*dp.eta0),\n",
    "            'lith_grad':dp.rho*dp.g*(dp.LS)**3/(dp.eta0*dp.k) ,\n",
    "            'vel':dp.LS/dp.k,\n",
    "            'SR':dp.LS**2/dp.k,\n",
    "            'W':(-1./dp.Ba)*(np.log(1.-dp.rho*dp.g*dp.Ba*dp.LS))/(dp.R*dp.deltaTa), #Including adiabatic compression, and deltaTa\n",
    "            'E': 1./(dp.R*dp.deltaTa), #using deltaTa, the guesstimated adiabatic temp differnnce to scale these paramters\n",
    "            #'Ads':(dp.eta0**(ndp.n-2))*((dp.k)**(ndp.n-1))*((dp.LS)**(2. - 2*ndp.n))       \n",
    "           })\n",
    "\n",
    "#dimensionless parameters\n",
    "\n",
    "\n",
    "ndp = edict({'RA':(dp.g*dp.rho*dp.a*dp.deltaT*(dp.LS)**3)/(dp.k*dp.eta0),\n",
    "            'cohesion':dp.cohesion*sf.stress,\n",
    "            'fcd':dp.fc*sf.lith_grad,\n",
    "            'gamma':dp.fc/(dp.a*dp.deltaT),\n",
    "            'Wdf':dp.Vdf*sf.W,\n",
    "            'Edf':dp.Edf*sf.E,\n",
    "            'Wds':dp.Vds*sf.W,\n",
    "            'Eds':dp.Eds*sf.E,\n",
    "            'Elm':dp.Elm*sf.E,\n",
    "           'Wlm':dp.Vlm*sf.W,\n",
    "            'TSP':0., \n",
    "            'TBP':1.,\n",
    "            'TPP':(dp.TP - dp.TS)/dp.deltaT,\n",
    "            'Dr':dp.Dr/dp.LS,\n",
    "            'n':3.5,\n",
    "            'TS':dp.TS/dp.deltaT,\n",
    "            'TP':dp.TP/dp.deltaT,\n",
    "             #'eta_crust':1e21/dp.eta0,\n",
    "             'eta_crust':0.06,\n",
    "            'eta_min':1e-3,\n",
    "            'eta_max':1e5,\n",
    "            'H':0.,\n",
    "            'Tmvp':0.6,\n",
    "             'Di': dp.a*dp.g*dp.LS/dp.Cp, #Dissipation number\n",
    "            'Steta0':1e2,\n",
    "            'plate_vel':sf.vel*dp.plate_vel*(cmpery.to(u.m/u.second)).magnitude,})\n",
    "\n",
    "\n",
    "\n",
    "\n",
    "dp.VR = (0.1*(dp.k/dp.LS)*ndp.RA**(2/3.)) #characteristic velocity from a scaling relationship\n",
    "dp.SR = dp.VR/dp.LS #characteristic strain rate\n",
    "ndp.VR = dp.VR*sf.vel #characteristic velocity\n",
    "ndp.SR = dp.SR*sf.SR #characteristic strain rate\n",
    "\n",
    "ndp.StRA = (3300.*dp.g*(dp.LS)**3)/(dp.eta0 *dp.k) #Composisitional Rayleigh number for rock-air buoyancy force\n",
    "\n",
    "\n",
    "ndp.TaP = 1. - ndp.TPP,  #Dimensionles adiabtic component of delta t"
   ]
  },
  {
   "cell_type": "code",
   "execution_count": 87,
   "metadata": {
    "collapsed": false
   },
   "outputs": [],
   "source": [
    "#ndp.RA"
   ]
  },
  {
   "cell_type": "code",
   "execution_count": 29,
   "metadata": {
    "collapsed": false
   },
   "outputs": [
    {
     "data": {
      "text/plain": [
       "(19.75229500743525,\n",
       " 28.301795831549015,\n",
       " 17.875211307509375,\n",
       " 49.15683109565078,\n",
       " 100000.0,\n",
       " 39582980.236800015)"
      ]
     },
     "execution_count": 29,
     "metadata": {},
     "output_type": "execute_result"
    }
   ],
   "source": [
    "#(dp.g*dp.rho*dp.a*dp.deltaT*(dp.LS)**3)/(dp.k*1e6)\n",
    "#sf.SR/(60*60*24*365*1e6)\n",
    "#dp.LS**2/dp.k\n",
    "#sf.SR\n",
    "ndp.Edf,  ndp.Eds, ndp.Wdf, ndp.Wds, ndp.cohesion, ndp.RA"
   ]
  },
  {
   "cell_type": "code",
   "execution_count": 30,
   "metadata": {
    "collapsed": false
   },
   "outputs": [],
   "source": [
    "#A few parameters defining lengths scales, affects materal transistions etc.\n",
    "MANTLETOCRUST = (15.*1e3)/dp.LS #Crust depth\n",
    "HARZBURGDEPTH = MANTLETOCRUST + (27.7e3/dp.LS)\n",
    "CRUSTTOMANTLE = (200.*1e3)/dp.LS\n",
    "LITHTOMANTLE = (900.*1e3)/dp.LS \n",
    "MANTLETOLITH = (200.*1e3)/dp.LS \n",
    "TOPOHEIGHT = (10.*1e3)/dp.LS  #rock-air topography limits\n",
    "CRUSTTOECL  = (100.*1e3)/dp.LS\n",
    "AVGTEMP = ndp.TPP #Used to define lithosphere\n",
    "LOWERMANTLE = (1000.*1e3)/dp.LS \n"
   ]
  },
  {
   "cell_type": "markdown",
   "metadata": {},
   "source": [
    "**Model setup parameters**"
   ]
  },
  {
   "cell_type": "code",
   "execution_count": 31,
   "metadata": {
    "collapsed": false
   },
   "outputs": [],
   "source": [
    "###########\n",
    "#Model setup parameters\n",
    "###########\n",
    "\n",
    "refineMesh = True\n",
    "stickyAir = False \n",
    "lower_mantle = False \n",
    "melt_viscosity_reduction= False\n",
    "\n",
    "\n",
    "\n",
    "\n",
    "MINX = -2.\n",
    "MINY = 0.\n",
    "MAXX = 2.\n",
    "\n",
    "#MAXY = 1.035\n",
    "MAXY = 1.\n",
    "\n",
    "if MINX == 0.:\n",
    "    squareModel = True\n",
    "else: \n",
    "    squareModel = False\n",
    "    \n",
    "    \n",
    "dim = 2          # number of spatial dimensions\n",
    "\n",
    "\n",
    "#MESH STUFF\n",
    "\n",
    "RES = 64\n",
    "\n",
    "Xres = int(RES*4)\n",
    "\n",
    "\n",
    "if stickyAir:\n",
    "    Yres = RES\n",
    "    MAXY = 1. + dp.StALS/dp.LS #150km\n",
    "    \n",
    "else:\n",
    "    Yres = RES\n",
    "    MAXY = 1.\n",
    "\n",
    "\n",
    "periodic = [True, False]\n",
    "elementType = \"Q1/dQ0\"\n",
    "#elementType =\"Q2/DPC1\"\n",
    "\n",
    "\n",
    "#System/Solver stuff\n",
    "\n",
    "PIC_integration=True\n",
    "ppc = 25\n",
    "\n",
    "#Output and safety stuff\n",
    "\n",
    "swarm_repop, swarm_update = 10, 10\n",
    "gldbs_output = 20\n",
    "checkpoint_every, files_output = 50, 50\n",
    "metric_output = 10\n",
    "sticky_air_temp = 5"
   ]
  },
  {
   "cell_type": "markdown",
   "metadata": {},
   "source": [
    "Create mesh and finite element variables\n",
    "------"
   ]
  },
  {
   "cell_type": "code",
   "execution_count": 32,
   "metadata": {
    "collapsed": false
   },
   "outputs": [],
   "source": [
    "mesh = uw.mesh.FeMesh_Cartesian( elementType = (elementType),\n",
    "                                 elementRes  = (Xres, Yres), \n",
    "                                 minCoord    = (MINX, MINY), \n",
    "                                 maxCoord    = (MAXX, MAXY), periodic=periodic)\n",
    "\n",
    "velocityField       = uw.mesh.MeshVariable( mesh=mesh,         nodeDofCount=2 )\n",
    "pressureField       = uw.mesh.MeshVariable( mesh=mesh.subMesh, nodeDofCount=1 )\n",
    "temperatureField    = uw.mesh.MeshVariable( mesh=mesh,         nodeDofCount=1 )\n",
    "temperatureDotField = uw.mesh.MeshVariable( mesh=mesh,         nodeDofCount=1 )"
   ]
  },
  {
   "cell_type": "code",
   "execution_count": 33,
   "metadata": {
    "collapsed": false
   },
   "outputs": [],
   "source": [
    "axis = 1\n",
    "orgs = np.linspace(mesh.minCoord[axis], mesh.maxCoord[axis], mesh.elementRes[axis] + 1)\n",
    "\n",
    "value_to_constrain = 1.\n",
    "\n",
    "\n",
    "yconst = [(spmesh.find_closest(orgs, value_to_constrain), np.array([value_to_constrain,0]))]"
   ]
  },
  {
   "cell_type": "code",
   "execution_count": 34,
   "metadata": {
    "collapsed": true
   },
   "outputs": [],
   "source": [
    "mesh.reset()"
   ]
  },
  {
   "cell_type": "code",
   "execution_count": 35,
   "metadata": {
    "collapsed": false
   },
   "outputs": [
    {
     "name": "stdout",
     "output_type": "stream",
     "text": [
      "Min\n",
      "(64, 0.0093765624999999995, 0.84619375000000008, 0.62499047619047554)\n",
      "('edges', 64)\n",
      "-- iteration 0 --\n",
      "| F( p_n ) |^2: 8.05648611886e-05\n",
      "| p_n+1 - p_n |^2: 0.352079185376\n",
      "-- iteration 1 --\n",
      "| F( p_n ) |^2: 3.12512226132e-31\n",
      "Min, Max element width: \n",
      "0.00938\n",
      "0.02187\n"
     ]
    }
   ],
   "source": [
    "#Y-Axis\n",
    "if refineMesh:\n",
    "    #Y-Axis\n",
    "    axis = 1\n",
    "    origcoords = np.linspace(mesh.minCoord[axis], mesh.maxCoord[axis], mesh.elementRes[axis] + 1)\n",
    "    edge_rest_lengths = np.diff(origcoords)\n",
    "\n",
    "    deform_lengths = edge_rest_lengths.copy()\n",
    "    min_point =  (mesh.maxCoord[axis])\n",
    "    el_reduction = 0.6001\n",
    "    dx = mesh.maxCoord[axis]\n",
    "\n",
    "    deform_lengths = deform_lengths - \\\n",
    "                                    ((1.-el_reduction)*deform_lengths[0]) + \\\n",
    "                                    abs((origcoords[1:] - min_point))*((0.5*deform_lengths[0])/dx)\n",
    "\n",
    "    #print(edge_rest_lengths.shape, deform_lengths.shape)\n",
    "\n",
    "    spmesh.deform_1d(deform_lengths, mesh,axis = 'y',norm = 'Min', constraints = yconst)"
   ]
  },
  {
   "cell_type": "markdown",
   "metadata": {},
   "source": [
    "Initial conditions\n",
    "-------\n"
   ]
  },
  {
   "cell_type": "code",
   "execution_count": 36,
   "metadata": {
    "collapsed": false
   },
   "outputs": [],
   "source": [
    "coordinate = fn.input()\n",
    "depthFn = 1. - coordinate[1]\n",
    "xFn = coordinate[0]"
   ]
  },
  {
   "cell_type": "code",
   "execution_count": 37,
   "metadata": {
    "collapsed": false
   },
   "outputs": [],
   "source": [
    "#Work out actual temp at 200 km\n",
    "\n",
    "potTempFn = ndp.TPP + (depthFn)*ndp.TaP\n",
    "\n",
    "abHeatFn = -1.*velocityField[1]*temperatureField*ndp.Di"
   ]
  },
  {
   "cell_type": "code",
   "execution_count": 38,
   "metadata": {
    "collapsed": false
   },
   "outputs": [],
   "source": [
    "symmetric_IC = False\n",
    "slab_IC = True\n",
    "\n",
    "\n",
    "#Sinusoidal initial condition\n",
    "A = 0.2\n",
    "sinFn = depthFn + A*(fn.math.cos( math.pi * coordinate[0])  * fn.math.sin( math.pi * coordinate[1] ))        \n",
    "\n",
    "#Initial Slab depth\n",
    "iD = 660e3/dp.LS\n",
    "\n",
    "#Boundary layer/slab initial condition\n",
    "dl =  2*math.sqrt(dp.k*160e6*3600*24*365) #diffusion Length at ... My\n",
    "w0 = dl/dp.LS\n",
    "#w0 = 0.1\n",
    "delX1 = fn.misc.min(fn.math.abs(coordinate[0] - -0.), fn.math.abs(coordinate[0] - -2.))\n",
    "delX = fn.misc.min(delX1 , fn.math.abs(coordinate[0] - 2.))\n",
    "w = w0*fn.math.sqrt(delX + 1e-7)\n",
    "#tempBL = (ndp.TIP - ndp.TSP) *fn.math.erf((depthFn)/w) + ndp.TSP\n",
    "tempBL = (potTempFn) *fn.math.erf((depthFn)/w) + ndp.TSP\n",
    "\n",
    "\n",
    "delX = fn.misc.min(fn.math.abs(coordinate[0] - - 1.) , fn.math.abs(coordinate[0] - 1.))\n",
    "#tempSlab = (ndp.TIP - ndp.TSP) *fn.math.erf((delX*2.)/w0) + ndp.TSP \n",
    "tempSlab = (potTempFn ) *fn.math.erf((delX*2.)/w0) + ndp.TSP       \n",
    "\n",
    "tempFn1 =  fn.misc.min(tempBL, tempSlab)\n",
    "blFn = fn.branching.conditional([(depthFn < iD, tempFn1), \n",
    "                                    (True, potTempFn)])\n",
    "\n",
    "tempFn = 0.2*sinFn + 0.8*blFn #partition the temp between these two functions\n",
    "\n",
    "if symmetric_IC:  \n",
    "    if not checkpointLoad:\n",
    "        temperatureField.data[:] = tempFn.evaluate(mesh)  "
   ]
  },
  {
   "cell_type": "code",
   "execution_count": 39,
   "metadata": {
    "collapsed": false
   },
   "outputs": [],
   "source": [
    "###########\n",
    "#Boundary layer / slab paramaters\n",
    "###########\n",
    "\n",
    "dl =  2*math.sqrt(dp.k*160e6*3600*24*365) #diffusion Length at ... My\n",
    "w0 = dl/dp.LS\n",
    "\n",
    "\n",
    "ageFn = (fn.math.abs(fn.math.abs(coordinate[0]) - 2.)/2.)\n",
    "\n",
    "ageFn  = fn.branching.conditional([(coordinate[0] <= 0, ageFn),\n",
    "                                  (True, ageFn/3.)])\n",
    "\n",
    "w = w0*fn.math.sqrt(ageFn + 1e-7)\n",
    "#tempBL = (ndp.TIP - ndp.TSP) *fn.math.erf((depthFn)/w) + ndp.TSP\n",
    "tempBL = (potTempFn) *fn.math.erf((depthFn)/w) + ndp.TSP\n",
    "\n",
    "if slab_IC:\n",
    "    if not checkpointLoad:\n",
    "        temperatureField.data[:] = tempBL.evaluate(mesh) \n",
    "\n"
   ]
  },
  {
   "cell_type": "code",
   "execution_count": 40,
   "metadata": {
    "collapsed": true
   },
   "outputs": [],
   "source": [
    "#Make sure material in stick air region is at the surface temperature.\n",
    "for index, coord in enumerate(mesh.data):\n",
    "            if coord[1] >= 1.:\n",
    "                temperatureField.data[index] = ndp.TSP"
   ]
  },
  {
   "cell_type": "code",
   "execution_count": 41,
   "metadata": {
    "collapsed": false
   },
   "outputs": [],
   "source": [
    "#Slab perturbation paramaters\n",
    "Roc = 550.\n",
    "theta = 89.\n",
    "subzone = 0.0\n",
    "\n",
    "def inCircleFnGenerator(centre, radius):\n",
    "    coord = fn.input()\n",
    "    offsetFn = coord - centre\n",
    "    return fn.math.dot( offsetFn, offsetFn ) < radius**2\n",
    "\n",
    "#Setup slab perturbation params (mostly dimensionles / model params here)\n",
    "phi = 90. - theta\n",
    "RocM = (Roc/dp.LS)*1e3\n",
    "CrustM = MANTLETOCRUST\n",
    "#slabdepth = lithdepthfunc(agefunc(off, off, vel), dp.k)\n",
    "#slabdepthM *= 5.\n",
    "Org = (subzone, 1.-RocM)\n",
    "#Use three circles to define our slab and crust perturbation,  \n",
    "\n",
    "Oc = inCircleFnGenerator(Org , RocM)\n",
    "Ic = inCircleFnGenerator(Org , RocM - w0)\n",
    "Cc = inCircleFnGenerator(Org , RocM + 2.*CrustM) #Twice as wide as ordinary crust, weak zone on 'outside' of slab\n",
    "dx = (RocM)/(np.math.tan((np.math.pi/180.)*phi))\n",
    "\n",
    "\n",
    "#Work our which way the slab should face:\n",
    "sense = 'Right'\n",
    "#if lith.agefunc(subzone + 0.0001) < lith.agefunc(subzone - 0.0001):\n",
    "#    sense = 'Right'\n",
    "\n",
    "#We'll also create a triangle which will truncate the circles defining the slab...\n",
    "if sense == 'Left': \n",
    "    ptx = subzone - dx\n",
    "else:\n",
    "    ptx = subzone + dx\n",
    "\n",
    "coords = ((0.+subzone, 1), (0.+subzone, 1.-RocM), (ptx, 1.))\n",
    "Tri = fn.shape.Polygon(np.array(coords))"
   ]
  },
  {
   "cell_type": "code",
   "execution_count": null,
   "metadata": {
    "collapsed": false
   },
   "outputs": [],
   "source": []
  },
  {
   "cell_type": "code",
   "execution_count": 42,
   "metadata": {
    "collapsed": false
   },
   "outputs": [],
   "source": [
    "if slab_IC:\n",
    "    if not checkpointLoad:\n",
    "        sdFn = ((RocM - fn.math.sqrt((coordinate[0] - Org[0])**2. + (coordinate[1] - Org[1])**2.))) \n",
    "        slabFn = ndp.TPP*fn.math.erf((sdFn)/w0)\n",
    "\n",
    "        for index, coord in enumerate(mesh.data):\n",
    "            #if Oc.evaluate(tuple(coord)) and Tri.evaluate(tuple(coord)) and not Ic.evaluate(tuple(coord)): #in inner circle, not in outer circle\n",
    "            if (\n",
    "                Oc.evaluate(tuple(coord)) and\n",
    "                Tri.evaluate(tuple(coord)) and not\n",
    "                Ic.evaluate(tuple(coord)) and\n",
    "                coord[1] > (1. - (250.e3/dp.LS)) \n",
    "                ): #In the quarter-circle defining the lithosphere\n",
    "                temperatureField.data[index] = slabFn.evaluate(mesh)[index]"
   ]
  },
  {
   "cell_type": "code",
   "execution_count": 43,
   "metadata": {
    "collapsed": false,
    "scrolled": true
   },
   "outputs": [
    {
     "data": {
      "text/html": [
       "<img src='data:image/png;base64,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'>"
      ],
      "text/plain": [
       "<IPython.core.display.HTML object>"
      ]
     },
     "metadata": {},
     "output_type": "display_data"
    }
   ],
   "source": [
    "fig= glucifer.Figure()\n",
    "fig.append( glucifer.objects.Surface(mesh, temperatureField))\n",
    "#fig.show()"
   ]
  },
  {
   "cell_type": "code",
   "execution_count": null,
   "metadata": {
    "collapsed": false
   },
   "outputs": [],
   "source": []
  },
  {
   "cell_type": "markdown",
   "metadata": {},
   "source": [
    "**Boundary conditions**"
   ]
  },
  {
   "cell_type": "code",
   "execution_count": 44,
   "metadata": {
    "collapsed": false
   },
   "outputs": [],
   "source": [
    "for index in mesh.specialSets[\"MinJ_VertexSet\"]:\n",
    "    temperatureField.data[index] = ndp.TBP\n",
    "for index in mesh.specialSets[\"MaxJ_VertexSet\"]:\n",
    "    temperatureField.data[index] = ndp.TSP\n",
    "    \n",
    "iWalls = mesh.specialSets[\"MinI_VertexSet\"] + mesh.specialSets[\"MaxI_VertexSet\"]\n",
    "jWalls = mesh.specialSets[\"MinJ_VertexSet\"] + mesh.specialSets[\"MaxJ_VertexSet\"]\n",
    "tWalls = mesh.specialSets[\"MaxJ_VertexSet\"]\n",
    "bWalls =mesh.specialSets[\"MinJ_VertexSet\"]\n",
    "\n",
    "VelBCs = mesh.specialSets[\"Empty\"]\n",
    "for index in list(tWalls.data):\n",
    "    if (mesh.data[int(index)][0] < (subzone - 0.2) and mesh.data[int(index)][0] > -2 + 0.2): #Only push with a portion of teh overiding plate\n",
    "        VelBCs.add(int(index))\n",
    "        #Set the plate velocities for the kinematic phase\n",
    "        velocityField.data[index] = [ndp.plate_vel, 0.]\n",
    "        \n",
    "\n",
    "#If periodic, we'll fix a the x-vel at a single node - at the bottom left (index 0)\n",
    "Fixed = mesh.specialSets[\"Empty\"]\n",
    "Fixed.add(int(0))        \n",
    "        \n",
    "\n",
    "freeslipBC = uw.conditions.DirichletCondition( variable      = velocityField, \n",
    "                                               indexSetsPerDof = ( iWalls + VelBCs, jWalls) )\n",
    "\n",
    "\n",
    "\n",
    "\n",
    "\n",
    "\n",
    "if periodic[0] == True:\n",
    "    freeslipBC = uw.conditions.DirichletCondition( variable      = velocityField, \n",
    "                                               indexSetsPerDof = ( Fixed + VelBCs , jWalls) )\n",
    "    \n",
    "    \n",
    "    \n",
    "# also set dirichlet for temp field\n",
    "dirichTempBC = uw.conditions.DirichletCondition(     variable=temperatureField, \n",
    "                                              indexSetsPerDof=(tWalls,) )\n",
    "dT_dy = [0.,0.]\n",
    "\n",
    "# also set dirichlet for temp field\n",
    "neumannTempBC = uw.conditions.NeumannCondition( dT_dy, variable=temperatureField, \n",
    "                                         nodeIndexSet=bWalls)\n",
    "\n"
   ]
  },
  {
   "cell_type": "markdown",
   "metadata": {},
   "source": [
    "Particles\n",
    "-----\n"
   ]
  },
  {
   "cell_type": "code",
   "execution_count": 45,
   "metadata": {
    "collapsed": false
   },
   "outputs": [],
   "source": [
    "###########\n",
    "#Material Swarm and variables\n",
    "###########\n",
    "\n",
    "\n",
    "gSwarm = uw.swarm.Swarm(mesh=mesh, particleEscape=True)\n",
    "\n",
    "yieldingCheck = gSwarm.add_variable( dataType=\"int\", count=1 )\n",
    "tracerVariable = gSwarm.add_variable( dataType=\"int\", count=1)\n",
    "materialVariable = gSwarm.add_variable( dataType=\"int\", count=1 )\n",
    "ageVariable = gSwarm.add_variable( dataType=\"float\", count=1 )\n",
    "\n",
    "\n"
   ]
  },
  {
   "cell_type": "code",
   "execution_count": 46,
   "metadata": {
    "collapsed": false
   },
   "outputs": [],
   "source": [
    "varlist = [tracerVariable, tracerVariable, yieldingCheck]\n",
    "\n",
    "varlist = [materialVariable, yieldingCheck, ageVariable]\n",
    "varnames = ['materialVariable', 'yieldingCheck', 'ageVariable']"
   ]
  },
  {
   "cell_type": "code",
   "execution_count": 47,
   "metadata": {
    "collapsed": false
   },
   "outputs": [],
   "source": [
    "mantleIndex = 0\n",
    "lithosphereIndex = 1\n",
    "crustIndex = 2\n",
    "harzIndex = 3\n",
    "airIndex = 4\n",
    "\n",
    "\n",
    "\n",
    "if checkpointLoad:\n",
    "    checkpointLoadDir = natsort.natsort(checkdirs)[-1]\n",
    "    temperatureField.load(os.path.join(checkpointLoadDir, \"temperatureField\" + \".hdf5\"))\n",
    "    pressureField.load(os.path.join(checkpointLoadDir, \"pressureField\" + \".hdf5\"))\n",
    "    velocityField.load(os.path.join(checkpointLoadDir, \"velocityField\" + \".hdf5\"))\n",
    "    gSwarm.load(os.path.join(checkpointLoadDir, \"swarm\" + \".h5\"))\n",
    "    for ix in range(len(varlist)):\n",
    "        varb = varlist[ix]\n",
    "        varb.load(os.path.join(checkpointLoadDir,varnames[ix] + \".h5\"))\n",
    "\n",
    "else:\n",
    "\n",
    "    # Layouts are used to populate the swarm across the whole domain\n",
    "    # Create the layout object\n",
    "    layout = uw.swarm.layouts.PerCellRandomLayout(swarm=gSwarm, particlesPerCell=ppc)\n",
    "    # Now use it to populate.\n",
    "    gSwarm.populate_using_layout( layout=layout )\n",
    "\n",
    "    # Swarm variables\n",
    "    materialVariable.data[:] = mantleIndex\n",
    "    tracerVariable.data[:] = 1\n",
    "    yieldingCheck.data[:] = 0\n",
    "    ageVariable.data[:] = -1\n",
    "\n",
    "    \n",
    "    #Set initial air and crust materials (allow the graph to take care of lithsophere)\n",
    "    #########\n",
    "    #This initial material setup will be model dependent\n",
    "    #########\n",
    "    for particleID in range(gSwarm.particleCoordinates.data.shape[0]):\n",
    "        if (1. - gSwarm.particleCoordinates.data[particleID][1]) < MANTLETOCRUST:\n",
    "                 materialVariable.data[particleID] = crustIndex"
   ]
  },
  {
   "cell_type": "markdown",
   "metadata": {
    "collapsed": true
   },
   "source": [
    "**Passive tracer layout**"
   ]
  },
  {
   "cell_type": "code",
   "execution_count": 48,
   "metadata": {
    "collapsed": false
   },
   "outputs": [],
   "source": [
    "#Passive tracers are not included in checkpoint - Probably best to remove this once models are properly bugchecked\n",
    "\n",
    "square_size = 0.1\n",
    "\n",
    "xlist = np.arange(mesh.minCoord[0] + square_size/2., mesh.maxCoord[0] + square_size/2., square_size)\n",
    "xlist = zip(xlist[:], xlist[1:])[::2]\n",
    "ylist = np.arange(mesh.minCoord[1] + square_size/2., mesh.maxCoord[1] + square_size/2., square_size)\n",
    "ylist = zip(ylist[:], ylist[1:])[::2]\n",
    "xops = []\n",
    "for vals in xlist:\n",
    "    xops.append( (operator.and_(   operator.gt(coordinate[0],vals[0]),   operator.lt(coordinate[0],vals[1])  ),0.) )\n",
    "xops.append((True,1.))\n",
    "\n",
    "testfunc = fn.branching.conditional(xops) \n",
    "\n",
    "yops = []\n",
    "for vals in ylist:\n",
    "    yops.append( (operator.and_(   operator.gt(coordinate[1],vals[0]),   operator.lt(coordinate[1],vals[1])  ),0.) )\n",
    "yops.append((True,testfunc))\n",
    "\n",
    "testfunc2 = fn.branching.conditional(yops) \n",
    "\n",
    "tracerVariable.data[:] = testfunc.evaluate(gSwarm)\n",
    "tracerVariable.data[:] = testfunc2.evaluate(gSwarm)"
   ]
  },
  {
   "cell_type": "markdown",
   "metadata": {
    "collapsed": false
   },
   "source": [
    "**Material swarm and graphs**"
   ]
  },
  {
   "cell_type": "code",
   "execution_count": 49,
   "metadata": {
    "collapsed": false
   },
   "outputs": [],
   "source": [
    "\n",
    "##############\n",
    "#Important: This is a quick fix for a bug that arises in parallel runs\n",
    "##############\n",
    "material_list = [0,1,2,3]"
   ]
  },
  {
   "cell_type": "code",
   "execution_count": 50,
   "metadata": {
    "collapsed": false
   },
   "outputs": [],
   "source": [
    "#All depth conditions are given as (km/D) where D is the length scale,\n",
    "#note that 'model depths' are used, e.g. 1-z, where z is the vertical Underworld coordinate\n",
    "#All temp conditions are in dimensionless temp. [0. - 1.]\n",
    "\n",
    "\n",
    "if not checkpointLoad:\n",
    "    materialVariable.data[:] = 0\n",
    "\n",
    "#######Graph object\n",
    "#DG = nx.DiGraph(field=\"Depth\")\n",
    "DG = material_graph.MatGraph()\n",
    "\n",
    "#Important: First thing to do is to add all the material types to the graph (i.e add nodes)\n",
    "DG.add_nodes_from(material_list)\n",
    "\n",
    "\n",
    "#Anything to mantle\n",
    "DG.add_transition((crustIndex,mantleIndex), depthFn, operator.gt, CRUSTTOMANTLE)\n",
    "#DG.add_transition((airIndex,mantleIndex), depthFn, operator.gt, TOPOHEIGHT)\n",
    "#DG.add_transition((lowermantleIndex, mantleIndex), depthFn, operator.lt, LOWERMANTLE)\n",
    "\n",
    "\n",
    "\n",
    "#Anything to lower mantle\n",
    "#DG.add_transition((mantleIndex, lowermantleIndex), depthFn, operator.gt, LOWERMANTLE)\n",
    "\n",
    "\n",
    "\n",
    "\n",
    "#Anything to crust\n",
    "DG.add_transition((mantleIndex,crustIndex), depthFn, operator.lt, MANTLETOCRUST)\n",
    "#DG.add_transition((mantleIndex,crustIndex), depthFn, operator.gt, HARZBURGDEPTH)\n",
    "DG.add_transition((mantleIndex,crustIndex), xFn, operator.lt, 0.) #No crust on the upper plate\n",
    "\n",
    "\n",
    "#Anything to Harzbugite\n",
    "DG.add_transition((mantleIndex,harzIndex), depthFn, operator.lt, HARZBURGDEPTH)\n",
    "DG.add_transition((mantleIndex,harzIndex), depthFn, operator.gt, MANTLETOCRUST)\n",
    "\n",
    "#DG.add_transition((mantleIndex,crustIndex), xFn, operator.lt, 0.) #No crust on the upper plate\n",
    "\n",
    "\n",
    "#Anything to air\n",
    "DG.add_transition((mantleIndex,airIndex), depthFn, operator.lt,0. - TOPOHEIGHT)\n",
    "DG.add_transition((crustIndex,airIndex), depthFn, operator.lt, 0. - TOPOHEIGHT)\n",
    "\n",
    "#Anything to lithsphere\n",
    "#DG.add_transition((mantleIndex,lithosphereIndex), depthFn, operator.lt, MANTLETOLITH)\n",
    "#DG.add_transition((mantleIndex,lithosphereIndex), temperatureField, operator.lt, 0.85*AVGTEMP)\n",
    "\n",
    "\n",
    "#crust to eclogite\n",
    "#DG.add_edges_from([(3,2)])\n",
    "#DG[3][2]['depthcondition'] =CRUSTTOECL\n",
    "#DG.add_transition((3,2), depthFn, operator.gt, CRUSTTOECL)"
   ]
  },
  {
   "cell_type": "code",
   "execution_count": 51,
   "metadata": {
    "collapsed": false
   },
   "outputs": [],
   "source": [
    "#DG.add_transition?"
   ]
  },
  {
   "cell_type": "code",
   "execution_count": 52,
   "metadata": {
    "collapsed": true
   },
   "outputs": [],
   "source": [
    "#Add crustal weak zone and the intersection of three shapes\n",
    "if checkpointLoad != True:\n",
    "    for particleID in range(gSwarm.particleCoordinates.data.shape[0]):\n",
    "        if (\n",
    "            Cc.evaluate(list(gSwarm.particleCoordinates.data[particleID])) and\n",
    "            Tri.evaluate(list(gSwarm.particleCoordinates.data[particleID])) and\n",
    "            Oc.evaluate(list(gSwarm.particleCoordinates.data[particleID])) == False\n",
    "            ):\n",
    "            materialVariable.data[particleID] = crustIndex"
   ]
  },
  {
   "cell_type": "code",
   "execution_count": 53,
   "metadata": {
    "collapsed": false
   },
   "outputs": [],
   "source": [
    "DG.build_condition_list(materialVariable)\n",
    "for i in range(2): #Need to go through twice first time through\n",
    "    materialVariable.data[:] = fn.branching.conditional(DG.condition_list).evaluate(gSwarm)"
   ]
  },
  {
   "cell_type": "code",
   "execution_count": null,
   "metadata": {
    "collapsed": false
   },
   "outputs": [],
   "source": []
  },
  {
   "cell_type": "code",
   "execution_count": 54,
   "metadata": {
    "collapsed": false
   },
   "outputs": [
    {
     "data": {
      "text/html": [
       "<img src='data:image/png;base64,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'>"
      ],
      "text/plain": [
       "<IPython.core.display.HTML object>"
      ]
     },
     "metadata": {},
     "output_type": "display_data"
    },
    {
     "data": {
      "text/plain": [
       "'test.gldb'"
      ]
     },
     "execution_count": 54,
     "metadata": {},
     "output_type": "execute_result"
    }
   ],
   "source": [
    "fig= glucifer.Figure()\n",
    "#fig.append( glucifer.objects.Points(gSwarm,tracerVariable, colours= 'white black'))\n",
    "fig.append( glucifer.objects.Points(gSwarm,materialVariable))\n",
    "#fig.append( glucifer.objects.Surface(mesh, dummyField))\n",
    "#fig.show()\n",
    "#fig.save_database('test.gldb')"
   ]
  },
  {
   "cell_type": "markdown",
   "metadata": {},
   "source": [
    "Set up material parameters and functions\n",
    "-----\n",
    "\n",
    "Setup the viscosity to be a function of the temperature. Recall that these functions and values are preserved for the entire simulation time. "
   ]
  },
  {
   "cell_type": "code",
   "execution_count": 55,
   "metadata": {
    "collapsed": false
   },
   "outputs": [],
   "source": [
    "# The yeilding of the upper slab is dependent on the strain rate.\n",
    "strainRate_2ndInvariant = fn.tensor.second_invariant( \n",
    "                            fn.tensor.symmetric( \n",
    "                            velocityField.fn_gradient ))\n",
    "\n",
    "gamma = dp.fc/(dp.a*dp.deltaT)"
   ]
  },
  {
   "cell_type": "code",
   "execution_count": 56,
   "metadata": {
    "collapsed": false
   },
   "outputs": [
    {
     "data": {
      "text/plain": [
       "(49.15683109565078, 17.875211307509375, 28.301795831549015, 19.75229500743525)"
      ]
     },
     "execution_count": 56,
     "metadata": {},
     "output_type": "execute_result"
    }
   ],
   "source": [
    "ndp.Wds, ndp.Wdf, ndp.Eds, ndp.Edf"
   ]
  },
  {
   "cell_type": "code",
   "execution_count": 57,
   "metadata": {
    "collapsed": false
   },
   "outputs": [],
   "source": [
    "ViscReduce = 0.5\n",
    "\n",
    "ndp.Wds *= ViscReduce\n",
    "ndp.Wdf *= ViscReduce\n",
    "ndp.Eds *= ViscReduce\n",
    "ndp.Edf *= ViscReduce"
   ]
  },
  {
   "cell_type": "code",
   "execution_count": 58,
   "metadata": {
    "collapsed": false
   },
   "outputs": [
    {
     "data": {
      "text/plain": [
       "(8.9376056537546873, 9.876147503717625, 100000.0)"
      ]
     },
     "execution_count": 58,
     "metadata": {},
     "output_type": "execute_result"
    }
   ],
   "source": [
    "ndp.Wdf, ndp.Edf,ndp.eta_max"
   ]
  },
  {
   "cell_type": "code",
   "execution_count": 68,
   "metadata": {
    "collapsed": false
   },
   "outputs": [],
   "source": [
    "############\n",
    "#Rheology\n",
    "#############\n",
    "#\n",
    "#The final mantle rheology is composed as follows*:\n",
    "# \n",
    "#\n",
    "# mantleviscosityFn = max{  min{(1/omega*Visc + 1/eta_p)**-1,\n",
    "#                           eta_max},\n",
    "#                           eta_min}\n",
    "#                      \n",
    "#Visc => min{diffusionCreep, dislocationCreep, }\n",
    "#eta_p   => stress-limiting effective viscosity\n",
    "#\n",
    "\n",
    "\n",
    "omega = fn.misc.constant(1.)\n",
    "\n",
    "if melt_viscosity_reduction:\n",
    "    mvr =  fn.branching.conditional( [ (temperatureField > (ndp.Tmvp + 7.5*(1. - coordinate[1])) , 0.1 ),   (         True, 1.) ] )\n",
    "    omega = omega*mvr\n",
    "\n",
    "\n",
    "#implementation of the lower mantle viscosity increase, similar to Bello et al. 2015\n",
    "a = 1.\n",
    "B = 30.\n",
    "d0 = 660e3/dp.LS  \n",
    "ds = d0/10.\n",
    "if lower_mantle:\n",
    "    inner1 = 1. - 0.5*(1. - fn.math.tanh(((1. - d0)-(coordinate[1]))/(ds)))\n",
    "    modfac = a*fn.math.exp(np.log(B)*inner1)\n",
    "    omega = omega*modfac\n",
    "\n",
    "\n",
    "\n",
    "##Diffusion Creep\n",
    "ndfp = fn.misc.min(ndp.eta_max, fn.math.exp( ((ndp.Edf + (depthFn*ndp.Wdf))/((temperatureField + ndp.TS))) - \n",
    "              ((ndp.Edf + (ndp.Dr*ndp.Wdf))/((ndp.TPP + ndp.TS)))  ))\n",
    "\n",
    "\n",
    "\n",
    "##Dislocation creep Creep\n",
    "nl_correction = (strainRate_2ndInvariant/ndp.SR)**((1.-ndp.n)/(ndp.n))\n",
    "\n",
    "\n",
    "ndsp = fn.misc.min(ndp.eta_max,(nl_correction)*fn.math.exp( ((ndp.Eds + (depthFn*ndp.Wds))/(ndp.n*(temperatureField + ndp.TS))) -\n",
    "                                     ((ndp.Eds + (ndp.Dr*ndp.Wds))/(ndp.n*(ndp.TPP + ndp.TS)))))\n",
    "\n",
    "\n",
    "Visc = fn.misc.min(ndp.eta_max, fn.misc.min(ndfp, ndsp))\n",
    "\n",
    "ys =  ndp.cohesion + (depthFn*gamma*ndp.RA) #In this case we'll use a valid cohesion\n",
    "yielding = ys/(strainRate_2ndInvariant/math.sqrt(0.5)) #extra factor to account for underworld second invariant form\n",
    "\n",
    "\n",
    "linearVisc = fn.misc.min(ndp.eta_max, ndfp)\n",
    "\n",
    "mantleviscosityFn = fn.misc.max(fn.misc.min(1./(((1./Visc) + (1./yielding))), ndp.eta_max), ndp.eta_min)\n",
    "\n",
    "\n",
    "\n",
    "#lower mantle rheology\n",
    "\n",
    "#ndflm = fn.misc.min(ndp.eta_max, fn.math.exp( ((ndp.Elm + (depthFn*ndp.Wlm))/((temperatureField + ndp.TS))) - \n",
    "#              ((ndp.Elm + (ndp.Dr*ndp.Wlm))/((ndp.TPP + ndp.TS)))  ))\n",
    "\n",
    "#I ignored Cizkova's lower mantle diffusion creep parameters, \n",
    "#as they appeared to give lower values that the upper mantle rheology, i.e a visc. decrease at 660.\n",
    "#lm_increase = 1.\n",
    "#lowermantleviscosityFn = fn.misc.max(lm_increase*ndfp, ndp.eta_min)\n",
    "\n",
    "\n",
    "##Crust rheology\n",
    "reduceFac = 0.1\n",
    "ysc =  reduceFac*ndp.cohesion + reduceFac*(depthFn*gamma*ndp.RA) #In this case we'll use a valid cohesion\n",
    "crust_yielding = ysc/(strainRate_2ndInvariant/math.sqrt(0.5)) #extra factor to account for underworld second invariant form\n",
    "crustviscosityFn = fn.misc.max(fn.misc.min(1./(((1./Visc) + (1./crust_yielding))), ndp.eta_max), ndp.eta_min)\n"
   ]
  },
  {
   "cell_type": "code",
   "execution_count": null,
   "metadata": {
    "collapsed": true
   },
   "outputs": [],
   "source": []
  },
  {
   "cell_type": "markdown",
   "metadata": {},
   "source": [
    "import matplotlib.pylab as pyplt\n",
    "%matplotlib inline\n",
    "\n",
    "\n",
    "\n",
    "##################\n",
    "#Output functions to numpy vertical averages, maxes, mins\n",
    "##################\n",
    "\n",
    "viscmapFnmesh = uw.mesh.MeshVariable(mesh,nodeDofCount=1)\n",
    "out = uw.utils.MeshVariable_Projection( viscmapFnmesh, viscosityMapFn)\n",
    "out.solve()\n",
    "\n",
    "\n",
    "#avDf = ndfp.evaluate(mesh).reshape(mesh.elementRes[1] + 1, mesh.elementRes[0] + 1).mean(axis=1)\n",
    "avDs = ndsp.evaluate(mesh).reshape(mesh.elementRes[1] + 1, mesh.elementRes[0] + 1).mean(axis=1)\n",
    "umantle = mantleviscosityFn.evaluate(mesh).reshape(mesh.elementRes[1] + 1, mesh.elementRes[0] + 1).mean(axis=1)\n",
    "lmantle = lowermantleviscosityFn.evaluate(mesh).reshape(mesh.elementRes[1] + 1, mesh.elementRes[0] + 1).mean(axis=1)\n",
    "eff = viscmapFnmesh.evaluate(mesh).reshape(mesh.elementRes[1] + 1, mesh.elementRes[0] + 1).mean(axis=1)\n",
    "\n",
    "effMin = viscmapFnmesh.evaluate(mesh).reshape(mesh.elementRes[1] + 1, mesh.elementRes[0] + 1).min(axis=1)\n",
    "effMax = viscmapFnmesh.evaluate(mesh).reshape(mesh.elementRes[1] + 1, mesh.elementRes[0] + 1).max(axis=1)\n",
    "\n",
    "###################\n",
    "#Plot\n",
    "###################\n",
    "import matplotlib.pylab as pyplt\n",
    "%matplotlib inline\n",
    "\n",
    "fig, ax = pyplt.subplots()\n",
    "#ax .plot(avDf, label = 'diff')\n",
    "#ax .plot(avDs, label = 'dis')\n",
    "ax .plot(eff, label = 'eff')\n",
    "ax .plot(effMax, label = 'effMax')\n",
    "ax .plot(effMin, label = 'effMin')\n",
    "#ax .plot(umantle, label = 'uman')\n",
    "#ax .plot(lmantle, label = 'lman')\n",
    "ax.set_yscale(\"log\", nonposy='clip')\n",
    "ax.legend(loc = 3)"
   ]
  },
  {
   "cell_type": "code",
   "execution_count": 81,
   "metadata": {
    "collapsed": false
   },
   "outputs": [
    {
     "data": {
      "text/html": [
       "<img src='data:image/png;base64,iVBORw0KGgoAAAANSUhEUgAAAoAAAAHgCAIAAAC6s0uzAAAgAElEQVR4nOy927Ykt5EluA0e5ySZKapKI7G61+qHeZoPnC+Zn+x5mKJKq2pEiZl5wmHzAJjBDIBf4jAZrlHbVurQA477xbbBcHFiZgQCgUAgEHgu0tUZCAQCgUDgf0UEAQcCgUAgcAGCgAOBQCAQuABBwIFAIBAIXIAg4EAgEAgELkAQcCAQCAQCFyAIOBAIBAKBCxAEHAgEAoHABQgCDgQCgUDgAgQBBwKBQCBwAYKAA4FAIBC4AEHAgUAgEAhcgCDgQCAQCAQuQBBwIBAIBAIXIAg4EAgEAoELEAQcCAQCgcAFCAIOBAKBQOACBAEHAoFAIHABgoADgUAgELgAQcCBQCAQCFyAIOBAIBAIBC5AEHAgEAgEAhcgCDgQCAQCgQsQBBwIBAKBwAUIAg4EAoFA4AIEAQcCgUAgcAGCgAOBQCAQuABBwIFAIBAIXIAg4EAgEAgELkAQcCAQCAQCFyAIOBAIBAKBCxAEHAgEAoHABQgCDgQCgUDgAgQBBwKBQCBwAYKAA4FAIBC4AEHAgUAgEAhcgCDgQCAQCAQuQBBwIBAIBAIXIAg4EAgEAoELEAQcCAQCgcAFCAIOBAKBQOACBAEHAoFAIHABgoADgUAgELgAQcCBQCAQCFyAIOBAIBAIBC5AEHAgEAgEAhcgCDgQCAQCgQsQBBwIBAKBwAUIAg4EAoFA4AIEAQcCgUAgcAGCgAOBQCAQuABBwIFAIBAIXIAg4EAgEAgELkAQcCAQCAQCFyAIOBAIBAKBCxAEHAgEAoHABQgCDgQCgUDgAgQBBwKBQCBwAYKAA4FAIBC4AEHAgUAgEAhcgCDgQCAQCAQuQBBwIBAIBAIXIAg4EAgEAoELEAQcCAQCgcAFCAIOBAKBQOACBAEHAoFAIHABgoADgUAgELgAQcCBQCAQCFyAIOBAIBAIBC5AEHAgEAgEAhcgCDgQCAQCgQsQBBwIBAKBwAUIAg4EAoFA4AIEAQcCgUAgcAGCgAOBQCAQuABBwIFAIBAIXIAg4EAgEAgELkAQcCAQCAQCFyAIOBAIBAKBCxAEHAgEAoHABQgCDgQCgUDgAgQBBwKBQCBwAYKAA4FAIBC4AEHAgUAgEAhcgCDgQCAQCAQuQBBwIBAIBAIXIAg4EAgEAoELEAQcCAQCgcAFCAIOBAKBQOACBAEHAoFAIHABgoADgUAgELgAQcCBQCAQCFyAIOBAIBAIBC5AEHAgEAgEAhcgCDgQCAQCgQsQBBwIBAKBwAUIAg4EAoFA4AIEAQcCgUAgcAGCgAOBQCAQuABBwIFAIBAIXIAg4EAgEAgELkAQcCAQCAQCFyAIOBAIBAKBCxAEHAgEAoHABQgCDgQCgUDgAgQBBwKBQCBwAYKAA4FAIBC4AEHAgUAgEAhcgCDgQCAQCAQuQBBwIBAIBAIXIAg4EAgEAoELEAQcCAQCgcAFCAIOBAKBQOACBAEHAoFAIHABgoADgUAgELgAQcCBQCAQCFyAIOBAIBAIBC5AEHAgEAgEAhcgCDgQCAQCgQsQBBwIBAKBwAUIAg4EAoFA4AIEAQcCgUAgcAGCgAOBQCAQuABBwIFAIBAIXIAg4EAgEAgELkAQcCAQCAQCFyAIOBAIBAKBCxAEHAgEAoHABQgCDgQCgUDgAgQBBwKBQCBwAYKAA4FAIBC4AEHAgUAgEAhcgCDgQCAQCAQuQBBwIBAIBAIXIAg4EAgEAoELEAQcCAQCgcAFCAIOBAKBQOACBAEHAoFAIHABgoADgUAgELgAQcCBQCAQCFyAIOBAIBAIBC5AEHAgEAgEAhcgCDgQCAQCgQsQBBwIBAKBwAUIAg4EAoFA4AIEAQcCgUAgcAGCgAOBQCAQuABBwIFAIBAIXIAg4EAgEAgELkAQcCAQCAQCFyAIOBAIBAKBCxAEHAgEAoHABQgCDgQCgUDgAgQBBwKBQCBwAYKAA4FAIBC4AEHAgUAgEAhcgCDgQCAQCAQuQBBwIBAIBAIXIAg4EAgEAoELEAQcCAQCgcAFCAIOBAKBQOACBAEHAoFAIHABgoADgUAgELgAQcCBQCAQCFyAIOBAIBAIBC5AEHAgEAgEAhcgCDgQCAQCgQtwe04yRPSchAKBQCAQ+JVg5iek8gwCJqIv/8//hXWlnLFmcAaAnHFfsa5YV9SSsvyRkmcGZzAjc4kIS8KSkBYkAoCUsNx4WXBbQAkAyvPthtsCEACmxCkxEVNM9wP/C4H+8pf07z/RTz+lf/8J9xUEpIRESAlJBsvHj/zxIz59jw/fAeCXG3//kb//nr//nl9eziYEJjAxi5bNYPMPAKN3qR53ZVx7q5JBHM8GnPpndKH7nwwwsc8AD177LLCTXeWZTVotJ9aPz0+rseJEIIAIbf5CIPknDtWbeiqvrAcNQs2JW0ATgyZEY0JbLpK0TUg8cP3ZCnCG1vrpGjPZJmC42u7cd6Ls4u14J69YM/KKzB/+2/95IpvfAE+aAScwljL4CStozSDglpCAhErDMM1ZqvKWQAuYkbN0TUbOAEALlgQC80qZsTKWG5aFmfntzmvGesNtwXIDM9YVlEDMlJgIoG78jo02DvCJH9ueJ/yPrlM/+x10Q/IMPXY3ktHT1L81WxCQiA9daHAJvAPkKx/MeHvD29fWTutKn7/gy5fm58MrPn7iD6/N5YdP/LtP+PGP/Kc/0r//lH76CX/+M/35P5AzloSUcLvh++/x8Xv+9BEfP+LjR/7uA15e8Pqav/++MDFuNyzJ5SYtfEtO3C8LlqWqu2Aw7kgZpIzLjFy6bq4uBCaq43xDbpKQV8eXVv463nF+JU7mPlQtypTdNWkAzKQk6tLnlu6Yc81bYzKlYclx78fkhIyeoQkxwNT6BNcf8rMmA/hOw4YaGcSeHalWRsto8cA1ElIXMgmR/ku1miptU8s5AcQ1FEuhCCwZJltlk2bv/qs/qdQkNW2DUfoYCbsSg2v0Q/BtWas9hIBENc5n4UkEzN99536WGmH/D1bJSuYnTL/pK5Zrv6wBq6otw0f1b+ltbSxwqXIZsd5nyye4dkXjAu9Cg8uxH0z8dC7j6HS/N5T4NiZnGsNm6q0eAB1ZddTooCMuGlR5UAKuf4tIJUrEpScTyZSI+vHwT4N3lOvUagzn2l9JGoJXcKa3N5R/nz/TL5/x+Qs+f6bPn/H5CwB8+sifPuHjR3z6yJ8+4vvvwcDrDf/jv+N//PecM/3HX/jP/0F//g+Uv3/7e50Np0qx9PaGlxteXtLff8HL/4uXFyyLmzenVOiWC+neFiwLp/qAJWFZMi2ZaUX9d0cZiZQLDRPlNlli+9BV7DiQtypTK2o6tKVKG0EAMgPcaYHi14YaNcsxki5R/5qmzif6A43PR/nHoEDPUuMx9d5hNniP/DCqFqO/zsWzGW1Vmvp6ID9pF4/FhapGqJoAV+HYxLElAwYziJESln86Av6ZvidTIwASIYETcSJOqmZai41l3MayqC0rnavRZ8coVGmERZDpICagUHVtE+kfTldW1KWAgYZ7D8bBvTQZGkmRJ4/GjUYNu/e/wcfisqH57dDzjLz7eQZQZjAM5IwVBCCZ4c7aYruRbCV3Hq2zPB7kINRMeG17bKLBmt+m/lPp/KLNFJ+qwaQS6r7ivmK9476CM9UZ8Bu+vuHtjd7e8Pkzfv4b/fw3/Pwzfv4bff4MBt8WWhbcbnh5oU8f87/8C//hD/yHP+Q//Ct//IjM6cs9fb3T25rWjJzx4QN+94l/+B1+9zv88Dv++D1utyqJMoOB2w3LAipql6dh0cVK7hnETJkX8LJy+rrS1zV9uaevK92ZwKSqMgGZQYSEpslRZxDVjmuNptvN0enNMLrj2VYcUIX1g+w41zV3I3lUh6viik332uhpTXJtjpSJfOgrnGdvd/z7wDS6TYPvxlkJtf1m91/bbZoLN54QD+VHo6HiDSqmNd7nzReeRMB3LPdM99wq9pb4tvALcQIncEoyFJtI5ko/pgrNgHAEjGEQKvNZBjR0yL12pV7JO1BPg6ZXVw8+mT5RcdlmmQ2SngTZSmU76kNrys57W9JHw88Jfjczhx4ez8V7Q1F7R4O3rkaYmi9V80j6ascE2llWLqZJlG4PBhMRmJkSMRLhthSOqjQMTwcp4cMro6yoEBPR16+0rvjylcvKy+fP6etX/voFn3+hX/7Of/gD/+u/8h//eP+3H/H1jf7yl/Qff6H/+i/6/Dl9/qXGuyz48AEvLyirv6N1qkyUFzcVxrKAEiNlUGYw053p65o+39OXNX2905c1AbglXhIn1PGVwLmSMhMhMXGxIKrIFrNnGQXfSiRuaIC7QQYq2lG458nxfBg1q9sWf23DaRtuZrij5O/B6sezucJRcB0vWyXZGN59uha8MYnnNs819Gl039JljIeq6KpLs+jXAaQZ1Onxc/AsE7QM50LD90y3hJclvxQaTnxLxYDJRea0pcTOIAyobtpNAd2j564JkZxgspFEXfKdp4mf9mtjABrfQ2HmfWCvEBuYeXqkg7W8H4R6Yq99HuaigZ3LzA/p3zrmmzEfqmiqSzGUAcTc2xFSAm6gVFdhdN6ZylbEhdNCr6/49Inv97qXYl2xZqwrfvmFbje+3dLthpQYmT/9jpeFU+If/7T+t//GQPryhT5/pi+f6fMv9Pkz3e81cy8veH3FywtScjuDmB0Hp4UTrTllSplSRsqZMohEq8hMa6aVsWYqHFz+lvKWxYtiTfHVZWpyGDkTxjqNrU6613lnujOd0xeFGY71XB5cpiWcafvd21+hqnBrgmm6pyPhjaxsRKOa5Wi0GDbaUBeKWqBKo/q7RVs7UfFA1LRmv7BZtx08U5I9iYD/9nV5y/S20j2nt5XeMr0k/nCjDwt/x5luudQFAbkuCJHtCl23K9UI7zj8mDiMyuFz6npPQR19zB3OBNr2dKyl7/g5NzV9UG3/tnhM6mz7ljd7c+PuB2146MSQW0tpD0zquejpmQGuGw/1FIAyX9k5haql4rbgwyvfP+LtDfc7cq7bFXPGuiJnrJl++Yy//R3/8/+mH37Iv/8BP/zAP/yAH36PT59qPspc9uWlBn95KcvA9V+SXayNHs22DCJQ4kz3nN4yva3pzpSRMiMzLYm/f8lL4swku67Mvg4AIGYGUa5zHbNJahtstmUQMDHATtTr2aROX2zxwtGoOex1deTsEuZGsL1Q++Emv0+Ll4yO87owwyrsPBKC4dR9/04+tUatWokn5jFKqzTIvNhsnqj+m2mTYfNmc0G6/tlv0f1N8SQCflvp72/p72/L5zvd1/SW6XXhj6/rp5ecGZmRb2UxmIo5TYfrTm/DdofbsZ1O6vYfeer2K9TZh+PZ1XyPdQiHk2rGN8YD8VP33/dES50ksNU1xF/MXNqllZWphK2DXo5bdNtDgHJwiIX2KCW8yA7/da0n+nT5NsthvzohyZXOl1uhZF5uuC347ntebvgALEQpISXOuR7hu90KDTMlBpWDB0KSqOtrUohcslN2RmfcM7OsrDGj7vNQ9h2qolaO2Q7pd4C7SwS6fqiZGZpiHmT0otqlSdY15diVm0LKZv7lfXZ2zLlM13TNbMIVcMc0t3m1wmMmr/3KGVw9E56JxM/mB5/D5jty1WAjMWPKZVA6pa8RHwSVhmmsZBuCGfxPScAgvCz8kvNbXr6u+HKnryvdM+4rvb1SZgLWRJSIExHJXy+kJvJujhPm5X8cHBCAH9PPx9QYRjM/3gNdUvGPrhSeZd9dLX6u6du5r7habaZM3ciFazRcPZV10VKqJKfYiz257JbKGczUJr4MznrUB9DBU3NDmXG74cMHerkh5/Xr/a/8He4rrS+EV0rffUhfP6U33RSNzLgRpwWgQsNVPJE8yKmikmYGJUJZUVozrYnumVOmzHIKRlUIV4FFfJqK6Khs6EpjK2T7g92jUyJp9NK8SiSN0et0iftQRK2t2MUxyePhoqLOvc4H2bbejSzUppSzaPbi6Oa7RlmZhOhlhaXqoQLFC/m2mqQL6RvdhtbWkprQOPGa0P+8B4jyt7fl/rfAkwj4653eMgF4XXIivC5MhNclvyz8kpjbnhTK4ARiZiJZM+fWh0zlbQrPrRf/mEw8z+0DeuluPO9I+jDls8Gav9lw/QatcYZuj72cOCI15nZMepOY/c/x737CQEIyJuhFVmRZTpcy1412Iwc3K7Hst2ZGzpR5+eXv+PvfkF5u+cNf+bu/8nd/zb//K3/3ym8/pC8/pM8/pC8/pC+flp9xu2F5we3GtxfcXjgtbWYuD8WIJQeN2gRiIU4LOHGWiQUDmfWAr6tgNQbokcMRsmupxiBi+PhAUbNab3H50A10PjQl2E7H2kq3/CfvjPIhEj4MMsvtRgZI8zHpn6PTbGPNkNt5bVuLgqY7DTIoCP7NtIHGdL2uMh996rpRAxhUCu1gM7+/CZ62CYsIlOomEl4SCGDGfaViG8ucFuIlYakGK5INGrAqsxivNtoCgNeFtxp71veO8Vs0S9OpO9c9/tqM56EcTtXYjR+7wWZejmTi3qTyJD1bRfURe5xPdjj4Noukn5po0ltBuo5H878kz6Jj6sRKH+w+ZGU8MDMypQxipOJAnFP9twoBo+3eqjssclkYLmx9Y/zrwv+yfOWU/477X/n+dU10X+kNb/f0ldOHjLRmRl4JGcjgfKM6hMvhIyYGMnNmYuZCwJmRM62yKRp+Hp5lY/5wv4UYurfFZVfhMlkhZto69LUTlYvErT6z5laqvUdZK2Vvgu4i3mYa42iq6EyoVnW8aYOuFgUfQ+PFYVba0rVFHiJvue0NGF3qNkW0vJw8B0yMYfiAoSu8feap+28XcuJQa6ablJuLEJ45VXsWARcG5rqLc/G1dc+UGbdEC/NCZUGKFxEaloml27lTg1MOY/+qz892kL1SDEG+IfrIW/+wXFVd30eOh6F6JeAo4A4e6MSTan381MkRI26F8UV2asFcId+QYlZ+EVydVoEoB9/I+Gkbsup/CxNzoc5GvcDsgQBipIyUqRzDJeKceK1MTJzIzYMzU2ZUAs6ZOC/ElAjL7fuFvlvuYND9jd7e6P5G9zu9McCJcqJ1pbTSQuDMtDIxyalgMEBEnLkapgmUFk7MmSlnrIx2qdRYg+ooh0u2dqJ25nlXZcS8MQ32fXveK6neFlDOPZKbOG7wuqSrSsCYrinldiQwkfiSzUNp5+Ht+5qyiYTsyidEVdvKC7fcOk+mqkWLapmZjxDT1QvcFQ/q2AUk2IuPJpW/YXinraa1CbH/CWifGTn4aXjWOeBMdaEIlVNhZGUudcGMTEh1F7SMVa5WIKp3WbH0Pxpa1FXcoSDWLrmDWSS/afNscbx0kZnyuhFkK/Jf4+E3xONpb9bSfig7m53Ntr0Bau7nkOZ9FNRo2HJwY986q/BXj3HdfWyPeVqhWy64YMhNzGBgRcpYMpBBCUjgBXXCWi6BzUBOtBJyImYsiZfEC2FJvICTX0tVJOKU8ktacZPFYCYGyZSXOhO0XmIFuXBDJrjVGwapp3VdgpjmaHXuTNCGA1Cm41soBnAjcDuIrClqfbubp+g0W7E2mpl5IVvAbeXARtKEWDVzzCd1Suw71hflm2xntvUulM2KEj3JUqDmyZHi1rY4iacFmZLxdgZMtOTqbXOc2ryNAoCs/+pkj1/bHfUYePoJeNZd0IRcSFOuH2Vgzc1IBcIt8Zr4xrQy35gXOfRYTF6kc1/tAOaWnF5k4tR01dX9FC6S57XMPg1Py/QOTeIQ7wp0EM/5Snx8FlxmY8dJ7EecNu4fG0PR7If8l+feDNiLaYhaKb8MuTShqad1kM3Wp8K4wkmciAC+Z7rntGa657KxERAhy4yViYAPt/zhlr9b8pIk+mUBgCXVvdCQTziUfBWbr9BFAjLqHV7MSIwMLhnL7O7VQDt/yalq1G09SVmn3LpfSy+F9kqHm53VtdJMXZAOhoXGOGXCLZHoLHMfGbLcNe0Hlg+2jzs2tcBYXGpdb4RxuviGaGqVzvMgW6XrqnByl9Z4t9WUjL2OVd/ONRUeomlJY0ht7nl03jti2m4sBmSl34b/VoLvBJ61CxpMREU+ZiABbzl9XUk5OAOvS35dOC+8MDLjlgwB693CVGYFgG05aapHafhsPU96yM5Afzz+/WS/CWxc5xXSE37eEc+2nPShyuB/pBLb5VO/BifSnZCx72kTD9v6FMsvqruFHQnbSYnrgly2JTcmLlPDbIQLhF3e1nTP+Lqmt7XuSWbGjfiHV06vnG5MOS+3nD7/HT/9mf7zvyivVD5f9i8/8J/+hN99rNuwcyZKLR9EqX5hwRFPKicJUVaO/RRQml9tz27eUzl6YnGHn/QIFfDgPqwun1G1DVuoEeBk19s+LHQgMVQtcPrHTIcbg2ioIafjDjfvxVLjaeyVZHvPUqf3bKgUNoODj/2M0pAxr/eqiw6xMQq75PH0qdazCNhsfayT1yQ2sXumr2v6utLLkl6X/GHh11t+XZiXnPwkOBX2FaOc2mCaNHBpWsNdfb2hN+3hMe72UrhNW04kdB6b0e5Y4Ybw3ypvcw1nN9JdpWjwvFumSSTzTZEuyoPXo7w+t+kUJhSj3xZkj7cqlbJvNJZJ6pjbTsevKrzuLu4PDxdHYqZ6MJirNZKBe6avK31d6cs9/edt+f3r8vuXt9+/3vl1/dcFtAD5Tj/9GT/9mX76M5aFf/wTfvwj/+lP+PGP/OOfkBI4ESUQFTKmRMicxYDJcpO0FoTqtey1Grpq4W6i1tdl7yrCdG9K1EUyLnxOI++k+a+Xw93JmZmP+tLyo4Q6G8TDEU9zPQjVIj7Elia5FSlJ8vttNMZ9nNWNhKX4PQNMu1kX8ImzX+BpBKxrCVOlTg8eZKZ7Bu6pnK2oS1PESwITZXOfu/1bepW/7qSl2bB90dpezvde7rT/N54NT+MZVNH5/OuQbx5Ndy8Scn38HaN9HuSUwrMbr4mrhRqipYnsMpO1eZA+2epiJ4WVWScZdcJ2OjzcFLD55jZzIpafjYO5BiaihYDEYKQFt8R8y5npnunznX7+uvzPn7/765dPP39dvr+t/9vtl39bfvjx048//v6vP/4ff+Wf/ozM+PCK11d8+NDywHX1WeZtDBCB1VBdLrcqfKyE2eVNi6IfTanx91OW2cUIgyTh4WHaE/Z7R36UXU5bWw58beiMx8T2aNK7t1xhpxuO3h/C8UcZfhVM6zcl13aJw6mX8Aj/VlncwPN2QQNifaJaT6nwKyMTlyWoNRe1HQxkTrfEN8aSsDAtSb6FJxuqSZaUyX64jQFzJUobH+py1Lm6nnJmAnbGeDKqwu9r5VPTx42k37GqOonkwJ95T3wqt7OERuXJRPvevI3qyxCtv4VpJGIvwqThx+Hdu9huKAm5OLZ6i/xW/02scItHzWiMxse6MMzQ/VCVIzPzkuh1wafX/CO/fX5Lf/26/Px1Wfn1P2//8vX2uy/LD1+Wn//tf//9K9aSPBcapjrI6soZVUt4uaOjWcKlaGwqQ7fVyHaqdiBYp5t2Zc6WV8l+qJY5TqqVYyQnAz4Q/28W4fvyMA/VT1D739NIplHR7OejWd28lcVnYHDtTVfdYGlZIvdQfJIcRXvmJPipH2OAlXpiDEmElPjGkPtgcWfkO70RXhbcEm6JlInLZTqJiAiJy/djZDbM7RpuvT6IbAW73811UzmaB5mX7rzxRKOda2HnsEE5R3o2m573XpxlO2pkfJ4gj1Jx1xK9I29zdvdCwkQyj2ZMRbs2bfup7vP8n1ColIPNbQlWDgoH96zG+sqbYRdiSnglzhkfFv7hw7oyJfB3af3+Zf1444+379Ltpco0JcCmUxXip1wu0eVqCc91j7Rq0u4T3fPS8bgpppXaVYItvnPc1KvPiP5eFXtXJP9cmLTUg7aBjVjOxWA2Hfb+2PxnRw/QwHbIt4bWOVvdVOiS21/2+rZ4rgkaAFsZJB9FQdllSSuXHSWUmRLx68ovC78s/LpkZmTWWyrLxsv67Xe54s6QcUm0/W3C1VsR/a8+09CgZ5jDJnTcgjMJ/T5ePBvBg8U5ne5Q1l2l9x1JuwKeI/Ppy5EdAbjTbI9EAktG43+2IpmrAL0HnrlY0WF5qJFjY6+29Mt6sFW8ySYsIuJbwi3xh5RviRNA4BdaX2h9oZzyinV1Ywmtl4uZSk5CzWqx8rWwb/Y3YalW0bRzBuSTNqa8fZ3o7VSbo2xioD78MPZ0nvXe2z26aP5/TuAHEnKEtXt03ndmDPtteqRVi/bWK/31h7lnzUbY5bP62c7DN8dzTdCmVgi8pCazCPz3O/3ytvzyllbGygTg48v68SV/RC7D8lb2fhBSufoGyNwbpZWD24P99G9JbhDig9CUvjCQzJHk3Gu7uVY5KneHoSbpdkG4+935OyMQTqfr1RkMnXoe6qGEeOJzl8mm7TUv9ezD0Dv+J/zqc9Ll1tJkCzvNPLv4JsTDzZ2HyNBPItUg3MKWezOo3OLMAMo5YCzEt8S3xDfihXghuoFuRKkdW26Wk3LZRrVvQzZjs/K6PwqMfle2La8ydzdHZ18V09rw5T0rM3nyNB+5c3Wty8z2dVR9uD3699JpK76DmBzO9OTzMQzCex5vVxV2EcF21i6efslnqghNs3jeZ8sEwXzxk3WrJEMHBR2vUn5LPI+Aa6k6zR3lnlpeEr0krAvfM9/f0pd7+rLSl3v6fF8/3/Onl/zxZf1wyylBLqrEUg5IMkhOCZfPqerd0XKlujUwmK9FojXXMPj0YrjmycnT2Sh5z8g5sZXzXYzlhs+kQ+1IF6icfSxRF2RLGTlRwJ2qtRJ4puhOYuGJ22YO+shmNuguwplAJ/PKNUUvyNxI6KcG7IN0s0Ogn1dxScxai5UIJX75KhFTO1mApfBuwpI4ES/AQrwQyv5mXxH10G6ZVTOTMzjLeSRvgobZFO3+NkXR1YgYrqfbrHuY5yEAACAASURBVKbzbOkWh4uF+71eB0qnUM0NOtLAeZNZu/0nW0OiF4ne1jDAkMcWOu1Ou+MOr0wVwj7Nw0h8Ea1FaOdTGZtCeJbD9nCOJF23reuS5UMDXi2A8DKB/ylnwKSNJw9NsqD9BDgRL4lfEjPjZcnl0sp7pi9rAqi8XYhTKl8ObseTUjklLJuzSm3Wr6bZSdqJK8LhLNU09bBZzB4HPWWMdqpTHxLJdqeZKXQbA26H1baZbk/pnDrt7wU7Glmz5jgXi2nTIbpp6JZbF92BHO+i392tyv2zMKi6GKVDeNfMkrl5E26rBKajrC3ESqiUUE4WlBuy6kO5D6vcxF6O3QsBi9JaNzhmu77ribYdzZUZcDE4KyXXK7S8CbrTNlqtGXP6qIi080ztoviNStN9YTP+6CKBVKzkcD4foiHIiLZLTi0WPkCrVOOYRTWZqBrQrS28k3opabmixNTS8OG/IRTvpCthJp8C7CNpXXQccTPFuNZz74raXtNhewZNPxZraCHXOm0D9HZFKyOfyb543kUcm4zFiev67ZL49QaivCS+JX5Z6Va1cpDUZmndTCCuV/CUi/GSXgZblvT00h1U3cf2V66TY/sZUWZf9aUT7+yInQtuH8sw5uaU1Hfio5Sm7LlPBvNeNYRxNH+uJ+6fhpjS8+GS2JmkzzTHJIgJ1uT1figvIbsreM9ndWxo+1Z/NPb1z+KzJxLHtV6dZbSpZ42QZTlHypGImPWKVylavTtaWFVYvLzTU8XMZkFXlniZJ5NXaM5tkdn9tKk0laI9DCdElKHN/k2pKyfNaV9rM5XTsdqe6Dfmfa+QtV+1vvaGCLF8ANra3JrO47Ops4b2xfsJrddIXH2VE+GT3LaMkE932Oyvy/k0RtJVr84vWfqidn5uXmbVYXLltsEPVT2Fz3NnByyxmxTkJxOo3tLGxMOC5W+M5+2C7galHRUETkwLcSZkwi2Blyzz2mJq5sxYy03RYGLKYCIq3yRJ4Fz0dWaq+8jbg9Bx6wQkRxhbaxCZlmHNYZO151jQhJ6+PiDjOabCzDqf5oCHOlZnUHo4fE3XDtezRWZ+ON1fW8DTITutrD/esIv5PcsSrf3BJocigKh37G61BWC2E9tFH6BnCxl9xMyZkLhd7p9b59LbEZttlnNd4jUcjP4ykDrlNXubR1VPQpkCGl1h0DnMLq2NCrSsP65z9bXdQP5F10ZzuvKYNqvXGOahqRICoeXf9sdpqCaS2FTIfJ4JiB7QEpp3Qm5f5PIJ9Z2azV90qW8MwtZ5xiC7YP/E260wuWeiTnOrSmGzJqoMdMpW2+qptueK592EVR7YjwzSf9WejKVcLJ9ERhCo3hpNbxllq8iS+ZbAzCkRgzNRIuRii2aUr6QR6kcdNBIy7USAM/6UzAzCuD1VD30HGDuE6/su2k2P+5FMwcOPc1OxPql3JDSGOR3JrGLPp3uijLPxeVDkcYnvkbxtT21O5G3i4j+7sEXDnqXI+mQR/Z2gbB7kC2OJcCNOqX6ngUyeuRAzYCfcui7LLJdf6pZms4VKLM/NUW7kaJFY2E8FKw2PDOorzRml4f1P0a3UqrJicdhkZ/THUcU2xoPjID6hB/hgu3c9Muiy9aLsdBjMRzwRZ4PYHKjuUAaOOx7sg11q3JpbN88zDxobnWvob4Wn3QUNNM4VbVd+FshurMLGIOKc9WASACTCmrAuuKXyDRZeuH45uNzRkc1nG+rOLNQ06kPV8ooAI52dKQ2T/TFR/0aOnivXIw1vB5k098OUvPFtskOufAf3jyU87NZj+PekO6vJEQ8X2d+IMc3biVS24z/jzXGtDBDHsh0Z08h5+pyNsVGGhphD59vK6rKNDEkGI5vPQjQLtvzMhmVznxN3MTX330dqa9KwZZRK0OVDm1zJe69MDMUw7kbkM2aPzmm7yY7558wU+XDNZRLkEc/T3vh+FrE1xql32pJjbP/bSbitSqKJ67YuJfe3yBeZhjy0tRTSLVcug52y3XHtBfPfJxNwgQyovjnKDRtlTWQhgOiNIJfZVg7OdhgnZLQPDBdBk+2GLOit0TVBVA62l0i37PgHK5YZol6pFIBtTt90cx1q3oe7ad287x0rZRuvafPHJs72wr7ttnPYx7hZ3vcl3YV/xyiaiYFvig2ZYnuEaiVCOZMPtnR7kSrtGf4rPnWjU0q8gIpcSjrN1a9rw2x0oqYTcz1QUKQYw1uAiwehXn/uSLLhjdKNfeVQstcYWv2YzVyWtMSb8Sm1t7FDyrL75NXg3p3pInVzpNKHsXK8S7pz3+pZo/sxne9qDL9eL5xG1R89J41vFDBe8+lTpWn9zNMeR01l3zaBLimWWZNK49rjKxXrWZhRwldvJZ+k21V+Ozkww9NM0IAvmtXry6y03mtHSKBihV4YmcBEnHHP5YIOZua8lLuiwVXHJy5nkxISo3wbXC/r0OZpH1tldQGaWRqQr6pZtLYbdj2oat6JgZ1xNfEgPXmHPiad/RyGhPhdVtwTxqvDd/OtDVMd+oF0x4TGdZx3Zf5bjkIZ2E7KW0kqP802pc7q25GWcJuda2o8Lc6M8uGihbieF0gyIa7WIS6mJkgS2fRtMqckS2ZgTNCW6TsOzmNua577Jeqtebyk6NpBaJWs82h1P9kkThZJAxlHaqaybt60nZkpOlqa9Pkh59T7cq+6zuOKMEtmlv2W9DSNMfGmjbCz05SXtt5UVk712lmQPsON8KcGm75L1NpqOuVQebYq3GRsGu1zJ8LPOoZk26/+t+nvkGGsunlKxJlTwlLEEMCEnOuXRO+5zonXhCVhIXDCUj76LaeEywHhyrXlfDDqVVmwHNz0I24tOLAsAVXKmSFZYUzZ+zWwh8H6/Z5IjkE+ofPBfjWcpfekqLQ5PS1dZx4fL/JwTvCRpKd57TqOVbctIels2PDu9hwUpDuhSuy6DFaGTN3hbFMtN0eWzc+gMuwykLjdUMBywYSzfovIrt9AFBd90FLA6Ad5QrpDcUxCNi3x44zP4kfuTzCFUyHTZRvG6I2ZfxpcqopTDbDek8QqQh/9C/MsDTrRe9lwhplsy5qxVYW6bI9zgDEP3CqThlAT/7bS2LhKmvATzS1IA6Wm1Gz4pCHzY0FrS4/z1zphc6/snTF2jltS0plV+eQ2wxHBhXjiLugZSBqe6nNTOsl9iBALgVL5KnC9ulIlEYFX2dCWQJkZQCLKzKm0s1rTzJgjMb6B5Q/JLnXpi1acwXwXvdOWprrkuAJhSz2vIu7f95+026hGl+6RhzG375sWP5q0qbvNAo4h9PTLTkam0s2+mjTQ9kTZGD8HP9sl3NokYn7S1CeUtwCgnwsa6nIW2tzswO5TgzA0DCAl5ZK6JbQ+sH6miBjl9AUxyv9KQfuFO81k41RzrtdtezYUW8KzeOvIGIZfnf25cbkzxUuEZle2cSYT3DWBjHrbDSwB2I3BjtGJWbdQ9YTk6W1u8G4CZ8senu2swI5/81muLmjOzY8ZSF3Cbglfo9qhYY3G1lL7L9cjJ5qoXYgdCtaEuq/bVkAr6joVcYis+m8afFFrSC5Z7aZKpqSt6cTI3Bi3yn+l+b7Mz8Hz1oBVL0NTlBoFQjVK6ToJ5aRv5eCl3gxQDMudLlaHHkudMrjcUpllrNSrok3ta/hGylwPZvcKVCuDMLUtlETSl3eb5OzQPag0/2nYQw0Us/5zHGQgp/cphUccN036gLV3GXqe7qmkRxY8DDLlzjPpFHnRu5jgnY3XstRknRVcCDhX6s1iPTLxd4MDqVoOuV5EWcxF4DLKUE4iwaohbWVF5+U6bW37qrpFXxgT9OwYUtMkjJHZPPT2Z1MVZKJx1Tjy6JZlmDCfkZFba+/D0CAGJFXdtlZvvZixhzDlLLzWuOgNA5/OJrtWp2wqiJcpLjW5mtctVfic2AJWShOZrGXVuGuRzXLWtPDcPsZSm8Pvd9R5jwvZy7v2gq0rmxkUq4uwtZZIdIXmog/d3+4zbngWnn0MCTiSl1KbKGRMnBgLSScqXnSFDOUbnsyghcCyIzpTZd9UzdoMRt2WVUUVkyzUqw5V05SubG98N36cYWRaAg/Xb3A21BTPMiDz5Okd6b4rxBDBu4p8ATbGrONdoVh1d1ppvxfJ33FRDc7tAO7KtGZkppUpZ1D9eHb9hDao3CjJiVgWfbl2364ymRj10JHMD5jIiSRliMadbLjWaQytLG7XlffWrRNv0bCgKRcs2Wh1qM8DT7oY5uu+e00299ApTxvzty5p6l9POnSXVB9khpH0Jj56Zcy/37wgi7vfYzpC/4Xfmoie0L8PW1W6YWi3WWvdPDspvWoaXWsr12okp68SctXSk/FvjOfOgIHJIJC/ZRwVQ3C5UqN8dIETODMnIFMWY5f4ZiZaEjiD6xniyr7lCDCjngaGfrOhUq/sQdFuYzoKmZlwHQZeJQTMecap1tlcjBSD6T57QfagVsKdSIYgE5zrYrPM/+qkH83JWG/fBFuXaO6f2tyHdoqJJPTqnPVp7cww1NVds6yXT2VLYI25S6m4XPW8EOstcr50EpBqQsXmlEjukyqLMUbLHAhS8oZGh5ZlZ4eUvDeM5ui2w0sSIv8T2vwiwXumrO5qNDYNYYTPdCo6aawpHar/sYvw4OyGzOlO5UMNr06swtYHQykn0/ayWWhVmfho8qCWkqEWrGh1P1mXE8wkVSmQDRmP2hUND+NrleAMnTGTrAE3w8YQ9/Pw3DVgq7cO/5qX2mZcaosYqVRaKsOdMrhMCFYmZmamlHjRvdCVhuvuaDLHKsByPKn+0+viKhmj/iR5EPW102HJDATpL/2o2dhMaGLxQfxejD7I6MDm/7sBpm6/ihq3aOZc0u/PyTa9vSsVq3/3k5QzuZrH77lB57UwrcXySp77WW/2R30yY60udRJchobSM0SfKIq/bHhm+XhJv/u9LAZbc10uqqoRl23fSjdsHd2aGygnb+uz/xhDVSy01DCvDMdrcnMmVp/TtugY2l2gjVZGzCKpagdrRXWv61uVEaql2LoyHLM9jCTmJnnIFX8SJBexuBWli0Qy4HrzppCxxWjpAeYEtnh20Y1EON4mZkeH3y0lvZcxNfwyICeJVPROQNuvek8as7mCh7aU8d8ez/0cIeA+OaJVOnZxo5yQHFIicIIuXJH9ljIzVkaWjxUmosK+magYsanuhdZ90e2eLBE3RnPWlRvJngw27jzon2nfsQJeSzbQbivpVifY7lizNxuxnDTInEh3m/42WW72Yr/LH6nbYxznyzfP5k5+Jq8mRRqFl+3qXHrE9pInGz92cbdOeZlWrlfCrSI06p5EuYimu9DqEE2i1rzW6UsZo23RTaioz+r0WFFbFXbmzRJwmBa3CTEacbrbpB3RdoTt8tAf5GxSZKZ+ZjSjdNccKALHHJsWP9Rqw+w7U53AQYh5vPzEqAWm7NVOJ/79txPcZ27N9Z82NrTM1/sPlB21gJp/G1uXW609I9+c/2zdStnrnHJSZNl64/YoUMtSTYhtiXXd3egl1D20XDaNimdNPcHgaUvdeQKeNgMm/7P97V3NazEag4DEAJCJk0oGUnqWn75jSHvoHgtqGh21jiCr9+QjLttDzRxheAA71Wk+y/RHEBjwVMhGEenfjRUzTeUkuk52ho9Hveh0Ftg9TQu4Ew33ZT4zQL7VIOIxt70QcmnxhvuQq7YHv2OUOaXVEVAfVqa3FfdMK1PZ83+TLwmWPkkivg2klzPAzOXQEZWjR62H+z5dGRhWUA5/9+zJ+o/7Y8rotrN2VWo4W5jYVaCJufkXYiHXbiKXiysLSTR57alXNnU6O1Y92SVf/PVsVz0m4q6rmjJRLQ7X1tnqn4lEKtm5r35p2AUTCQaQLMTRkAFG/RqcEY9mSVUCWPKT207algsSxrZEaGrXtAt3D7VbkUmru1/B9QFqHaP8LFOh9pUQ0Q9J9ltN93LbqtDe0E6uyPyKTZb6nFyBp68B+586bhW1T5hhR02+yN56qpTcdCYZJaXDs4wsuSzfNY12K2bY4xbatViswf2CRru9e1IqnnULJxjEA7v3Li7m3rWLkSdu7wHzXirzIA8kPYqFlu7pSHzCz0Xtn8WaNtv3rj+4ezXZ7KPzJJX+hEY54HalRv255mpzbuu+JR+gzLRmMIgSiLFm3BJTqndrlM1WiZC83qLMwcrEsuu/YZD4aqVzBOyIVhaD3WTOe/DW9clf+adZdWvDPlM2oK1/a7JWFmE4byyV6IqDspGzmyKMhjp4F8I5LbZEb82yfXcep8hOw+j0d1JGnCbe9b3agXWS4gNqj0W1eZDWWBYChQi87jwCqZAsvdsv1NqxYG3Ibq++mwe1lm77mWezHzYudo7UVUInWOvqiohjoxA0kX4JE193FaUfeG5cCQ1XNUq0HpKzSTTKuDrGGg8nQjU6A2LBlge1SBfm1mUJLrq0PZnn/0o31aT9oAVmY7LJQZWCM43SRjZK+Z1TxZOcbPrafr2Rt4cjbZnZi+gKSn0/OA8uox9LFcZSitbDyTxLEOn2Gc7gXHY4r2W+m90CcPFcJQmDEpfP+t5k/7PuhdYz9DMraPncApVezfVknxFD5tiBCFNz+lZMzTq1FUfIGvaEX8s/e54Klpin/r1l24r1aXNoKACcexJVbypeXJNZu7c00MQcMk14O2+HGO2fM4toP/5573WXtUm0rpWBes2Gp1j2nVZuHDLLcHJvEqgP22dAdKl2CAWdjGXNjOYNIz1DSGG74Bjetr8SkV19Zyk+i8sz8bw1YPY/YQZG77n9Y8u2VBudk7QNy8oNc2uqeuaX61eS6lpveWBKeosKSI8hiegZybixunQb1QybwcppWwNfjmvBnR9fB1Yx64NY10Gkjui70pmudZjQGXwTft1ROXjqZctpDH/CfeJt2k5OstPU3SuXbc3SfCZIZsCyx6rYmcspo3umsj85EZZUbktloNifsSQsCfrlbJCMiMopzeBc/pGOFBFszEUJLQ8u/5PtPIYmIZuxARhDUtuzY1i2/sv6DGtvn2yKlprRepUqNbeOdFr7pNVGbtNQue8prYmpafxWXhdrhPXcdIKNjteP/CG5MfM7QWATNRdnjjHYzM8Sdq2sHnVrqZ2tDlPJXk0BkuVUa1OsMQz630xdIEO0bLIkJRoeJuVSQz+13Gm0PE93cPkmwus0nn0TliuenyhMfBeY4VcZ0nFavcenxOMlBjLXeXONiDiXM0hc93zKlLmce2SSSFQ1ElY3OamZabYgtn1uKFHbxLFVKa6k5f8b3YD7x4f0tVFdOPC6E+pMXx7x/tzS8Gae4HSYjdGOvw+zP2qQ1t1tkxmi7TTF8dtB2cxumbFmume364qKVZnqQ5Jp7i2V40bV/ly3YrWzHU0vhXAwTN3aZbbq5Ms8jtzJoq/sTrLx2/m9V1OaNiDB699hcly8m7lv+U1TFjerG7u6W5f/zrsecVQaFt7pctWW9Lt7P3TNWCu9EwBWnKiV1RaETDwdCHWDlWNfpyS5LVH1azQbh5c0h2rikW3w9eSIzndNZsgGrRGoPNR/ZSMVi7HXKARtOmP2GrgmoEFkqqnZ2Jz3hnlhcFFVpwvw75hX/BZ4+i5odfEPdkC2F6U3aKfUzmoP73JbqbKqq+5JsVTtxXM3t/biSjZY6TKwPts4pG9ZgcfwrdsWMzZqQPNgpDaNJp0pXMUenRHcTPfxUN3vtpt8P7DP7XvS3Q/pBf0mNkTbNJsTDxvs27it82DY175oMl3+6VUbq2yEXhllHpyImZBAVDY6ZBJJx3YzxEmUzmz2OpBqn1pa6kskFt0Z89WR2nMwzEWVjflMxc3yZn2y81sF/XzKaxSgtptIZLFtXJN/vUMbym1tAu/2V9sC1vSKkwliG4HIpdJWKIaBU4UVsSgWdfdWHhY+JJV6o5BlVtvjmuAUa4EKw1StfKVGmnJrm57F8FgmJXUfuFSU7HTpO5xKRTNlIYm+3AM8Nnedw1Rzo1/46yvUjj6R1GTSnUBFd20p6VFkXg70f0J8fEs8/yIORyx2rDbY+hWWhfEzaUobIVei1OVeqM25DLM2/SXT6mzJ2t3FYRqpHZTUQW2m42Rf+my5IDMMKubjixG80RePIjogtF+T9G6QJ0MSPLupep+PO3qAiH1upAuYWS8G6iouhXTXTGv5+nWWNWBGNpPgW8ItcUp8k8VdXeglWeVVSq4C3ZREh1gmqntkS+eHiHI2Ow7JFd+W1xfk+K/BeMMXGOORpL4J7Anjrg5t/asVXSJMtu3Y+QTQZL3SMKN+zdQukDXecTq16UtoHKiZ1GScpu7eSMZyi8qLEZdn7bRGb6ne9U7muaWt6THS2u2ElUThhGSLR6qumh1JMqG0Z9eAu9K5DJgCSzWyWwA2upP+Vy+b1Jp39GyMzbbImreRmIWG5ZIZ4SIauvoz8XQTtH3o5Bf7h6FWpOoZTKks4rA3x9hwRaDUjX3tLo76ZSSmZoKu3cvuvZqSMWB7DJscmWS11cn/FvI1PDtseeieRk3wkOTGnrRL+puhWuiW9EEsv1En9nLv/dixwcx8z395mVieaejGtcpFgrcpIAzj6oIi1y1XlWvLA8mHrkuXoXqtFSdwIr6ldtGV3DcJPbHasqJt31Wi8qucv2QRvuxjsGOrrwRLmXbADm8tc4PRkTRUaxlezcnY+TGqTN9g5bLrRqLKxCw343aEVae8WamFzb7uqgRYQmV3HMK8UlmPfuRy53O2oKtcOEbrithKnXSGB+HXZIZ9yYbSJ0sXLXcpkO50qf+r1TK1WotZ0OWfSI0BHaHOXMx/NGMYWNwWvNQ7SfJK1q23bxzHmsdmYoXd9HDO4vjN8TQTdE8EZmCbbcIDB9NMdAKALFHYTetbK3Oke56rNCucSoaPpY/Wh20yRrWWDJnpydhpdWNvNkGMm8NIyUM8ntJn2Ki805D8v2OKO8V8JDweyX6ozbcbzFp/blenbQtHN1UONhrW9TD9WQ2qutKpK77QGzb8nudMS53FIoGXxC+ERHW595Z4SXXDs06F625n6J7nKmpJRby1v03EVbED9h3bltQWCmz+Vm1Dd34NtYq2xmxZsKPwjTk0qX+JTCfEsw8PDw0/3oFl9B4wpzHDmYsqQmpXgFt11qyQTV3qsfzlrLTgX9m0UjUXO9M9iQSadsQ0aO2khapWgSq/EpFanpW6ZElYFQQhUbQuwSpcdZ5K7VyvJdReOTC5aWvbZsm2hfJ87GbDGy5wdekX9bTiJAOtm5t1FlNEl3MR1E5gPw0X3AXN3mX4a4SX56/DqnFdXHdYqE2JqhWmrm2oXbrOg40ySJIPJeOaCRbh1vcA6VXc9zHdOzCrjm6MaSSbJezfkKYy1sNDOGDxWY7sQOq8T/x2C/nHQSCk8TDOBNphaJakeeaZB89CRW3j7myVdLLrqsyM60VX2RwFBhh1z/NCvCQk1EslF/1GZ5XU/T+ooLSbeIWJHfvKtQZyuH3otF2pewY15W2sNvvmIGsQEzn3maEWSbdZ2pOc4Y6knyGqRQH0mJPcdWWbTPSkWhMEETZMXTOtnKqeJEeEDf0woLvhqrUfErYu98pZsrq4IDmw7AJAVaiUOEELS06H8zWZCMmsQdSc1Akrd7uNqji1W1PLeTNDxskILDKngzy08tvKOkklaoRaRkvVJieN7tyi3vCgFQVD3oDZsmCJc1dytZ6vnpuS8S5B+a1x8feAx3c8cWtbnMYQjQ+5HaUAmualAdt2qsF8gaL0Masg0B1Y3aUcTuU0nbUMD0LdzALb5zQbQ3tPysU1L/CvRrhXXR0+zsfvYDqVrUNC8wRtvW28nAf+NTrpGHYjA31mnF4oQbqg1n2Xfc33CSq11M1WhY/vmd5WelvpzlTWfV8XfkVehFSLrFc7sxOzcuyDvYFOyiG1Xs7cKeVSUTRl1tsZ8XjWM02R2T9ILblJsJ8TEzyXFMf+m0gQgS7qAnl1Qch+JGPodxVVWJRI7ActTAquaN0/t/mJyhfH62IWA/UzLlxOhxMRknw2uLaprKYTYSGkhVPG2k4wyr5ilDNmYOgFunKlaAJr/UpbafbumQAkkFz0XRQy1lU210X1LzuZR4TEJKdCWjV27a6NXuWh6SMwUtHwoZd7Qs+d/xYQ0tnIBWEZhAxN2hVKLJjV9CnlamJZud7WBPMosSXDF5HxUy/i6GXfjHoPQDKaN0KRXn7V1ygN3s2soHYuz8GQjQDa78xNWI5OyMTOPX1a4TXyDHV5ql5dgmMdjAV3GPj4m/Suw0jk2qgHMCHIE5E8SsmdMrQZvPPA7dkysQ1uvycvr/p1SvsxQZYV34w2DwawEOdE64oM3HORtonBr8iJmJLIMuhOQp1r1HTJ3AFXu61WZcmb2DUZYo5Qew2L1XWoD55Vi7p3D51GomTZGZN1dmvrsGPiYjjVw8rQg6KSDb3nUrNUHpzaTUhciRlGDYJWHo3tJTGWmiYm0JpR5L3eL7Zm0dK4Zo3I3eAthxnbXmXVnIwlliHa2D1TuZVSrvUuNo9qpq5ibWigkhwBSb7Eqh/eUC3DUqDWDbOuzkkLK8EOCZlnKe0Gepqs7Ttsb96A7Wya+W6+1PmXzlu6M7cU26BwTMxepjZpM5HCz8DTvgcsT6b4djxbNOV6KzoaGkMVsSEeDcKQrZ4yWzYbQdFvDYXZe9VM0MWn9m3RZ+2MgaBHQsd2rKOuFX7Dj/53RkcPdw+ROH0FPd7PzoSwjPVQIju0uhHJ8KWac9zc+5ktELDz3CzS8te4WOZwVFR5ReVyNTjneqXzvRz2LZsJRUZ/WPh14VtZ8V247Hxu0yNzv5W76KpNNdo0IAMETqxsZpjM9CxuknKz9lQZ7LUNdi7twfy1pAs4M3XJgjau05O6bjRmSDywGH6temS/A6FP9R491PNdbR9ci7VN9Io+swCJOKFcwY23TJlTWT8utopyM2ipf+U/EyqqEwAAIABJREFUXfaqo13WZa3tF5DPOZjvOiTP2XaBvzJrHw+X+FnJmKhtBeB6Z1HpYDXybizNKU0qQTKjftspJhOaa91VHa5JS5g9Zd6e/ByS62ih5XbbBR1x/MZ41gx4tsTdDTGevfZycIJRZ58k7l+waP9KhU0usVFUmxI5IeP6xx2LE6HrKNQ9sAkyzf/MxX0yc6uMp7RL76u37J+Atc6dDPeOzvxwEJ4+Fkyyyf7Jdbqx1zUXUg/qMix5us8IFneV1MrEut+qcPCS8JL4tvAtQXax1lNGC/Gt7XOu0k3/lXzQpG03KkRYmNBMOwD07oNplU3rp21u6ufB7SwWdy1TNY0mqrlrOLuE3H3fUGte8lzY1A5tbQIzw+5LRcAiW5kys178mdtKrX5goSjkTStIQJlQZ2AB0cKJKTMnojXjrawjZCJZvy+b5haR8ZlJv6NcuG2pn23GDSjHkXRnu10Q5TruKNX200vsS1pM9cPPLNNu6FRbt0MzYwVSNaCwKm1ape3WBLQeNUowO/8lY073jKvqoFRpkzZDXzXisN8sbZ6scjadEFuubQ9mJ5BUhFMAvLh4IvEKLv0YwyA3m+A7JN4NlK4gPbHXZWzzNAO0fYEiR8isKReVsMwunPRl0xW0Ywiv1//XbIzi0cQ0yjuvpcq6yW5VeFo/Be3T71BGeWiZHcPUA41oR9Qs1OhG49s9Ph5iGzvhcKtGx8eNjOVnISTW2Zg3O69Zt+RQzm5vTmFirkbSDPBLwk32Xi3EqWzCkvutphc7a3U1hXFaVGOOq/1X+LgNGV9pdq5se2xTSgw7dkZmQLjQ8qKJRtY1uZ3nISbjTXy2TGRvZij0U2+0lu/52VVBmVx2daEDFEn2UuVirK670Os6a0tdZbpp/QTkMtdMhXFxS3zL9LbSfaWva8pMSsM34dQy2S1T9oV4SbRkc3e3ZGkhx6nSMx1dSRet820iSpZEqXJwN+MsXsVKYpQ5MfF3HWx8HlS1NicePLifjLpHph3FxUwCTtM2aKqYLBKLe9WZehq2fYBc7fl03iEIfy2uvIpSBzZPvf4KtA62UaV7ourbQOcnaKssJk2a+P0GmPWqx0J1ODM0mnQ4nfRmiketP0n3jCfrsKv0jrFp6Vxy9qfjlS2Q8AHp/LgIg3o8narIzMCqigCpkGmZoeFvJ24mFSBei4IInSjtlbuWeuqDNyq/99ObBzwTq+nee6j5l63F5lpNJPOlYXOTdn0tHwesH5fgIu3bweta+VK0NkKVVglYUiWEu9gn7pmU0nqa8VpvIrwkXgi8sO6CzkxvK30pF3WTszAzoX6cqmyGArK0TgbBUJXaFQj15GSiOhG2oFGbVx0Lwj2mDATIHj4XllsI1vqpYbnR7Ry6aUaa8nhuMAZB49eak1l49uRa9UVdEkZR6XqpOArJb8E578Q1V1Gye6DBpX/oRvsoOUgE0pb53tFDpcSaLqFdiQLXP1FsOWJUacoW1XdGXgB1sFiX6tw64IyA2fb3ruwtkkNSOxHJCKucHvo5xDSS95PxQwH5OCodp45XNjmmO9rbP7BExXJNfwmeG6NQBnKmIsrlemcC6nreS8ovwJopyXx3SVxvvCJe/OIu1blaYZoNczSqrMzC60ksN6xrJfV6XOmow1jYq2Tj0i0DT2u+d5RhbO1beylyTUiHVTMo6t4Lmp1VM7McAhKYQImQmTNEAzDb1DrBUu48eVnAskygS/iyWU08y6Bm+WA5MzJY+gBr98iMspq7JFkndvnFktqqdWZiMOe2ryoJkZBoJ6VXJBMLM8o83liSa1WY2zm2x6M2v3QMDV4zaYJ3m6qsCtiVq8jQUVl5FFMStQ/wqW9ppd084ULqLbjsGJJfS9t86BxHvbtXYVRvMgpUl/ohGYueJy46f7BkbHYD1v+ahbSaBTKpe2I2HbE9OsvMgL2+azv3g33qUOaO6s5efrzrqA/tlGIz4yfIdfRgt+GM3hzXalcc70kdNjnbRVCGGjnbVppiZDaT3TaRKhwM4GXhW+IsHziqvFu+JJjcvpvybPuRwiiD3h2ty+qROJkcoO48FNudm0SdO3fdjAGNg/s7Opr6YvdbKeuLz65UzRbti6je7L5uLZF6YNPo3LgahXqZQUTJ8KKy41qeJT8EpFQnfTfC68K1oeXqj1VaWVXehDbZKtRLcsSWfSWUU0bFwtxBNk8NDV0LwoujQ7e/2teaqAhtwYIAMMsZNt0q5Sta2L0XU7RLw/oTlviNggLZGKP9a5zOjoJxeGh9waoKVv53fAzpD9TWHFxcx9Lst8dzjyHBFVqZaYuDp/T5azMgmChEQsaNd+WgJEt/EmIuaijskSRoR5OuKGbwlsaol3lotC2H08yPBduYCXDna/TwKLGNLjS8swNMGr2XK4fSfsztYV57+kTjBp+Z7SBcaYANfwA0sI5sNTJEqx8y0s2xZbdtJeC10DAAvGS8JLws5Xrndj9MIiyEW3LzHvtN33bDs+lJ7TCRFGRLZxJvZQOWtfeWQh5U71hLQrfVxdQP6kS7H9smrzKQBs0JaqZWOudh8KbarSD3TQ5BvP5d1nrrvuFioObCrLzUrVjIDM6U62YlJqqfmeLagYW5ZTe77N4i4QQ30Sxh7dGgVm+TOq3tm/y257HHdnUl6kjbVyUk6vYeK3IRSHVDAGsQ3a7cz86HuUIXod0XbYm542yo2BSRP3LeCRo2j4MFXtENBL8lfiDjqXr7LDx/Bnw0zM8JWR4eauxeLRp//qYYNTI0ZR3mjYfPVhfJ8H7ftYuqE8W9BvL4/KdPeRLpnCn3kn4fzvOFPFHvJD9GFdB5cRuLmspoJX7nP+uOHq5LdQsxUpVU5Tu+srVKRB7XeZhKeR6kw5RZ++5t+j373YjU7kAgEw93/W0OX8x5Rclf++Ce56vCvR6sRWDVZOvPssOZzUKy0CtxqoRE1Z0qU+pMV1tHMtO2OBNwI2aiTCyXaVCWWzLEvGEUC5Q2xXLjhdkvRbVRwKg9gahVYIuh3bzR1JPCp1lK0tezMKu1M3frEbW6PdV0pAj0QbTX6LNWVyuwmR5MweY/LBljvR1pG+aYt5sV2NS6zl+HjL6loRfNZP4o8Zyw+q0ZYsB1JuhtF6u3NqlnuoLS2xkRfN6/XcyXntSmBiy6gxWLpLZrv0G6pGd7Calru3trCKI58aNlzsQ+1AFbS9LGu1USitN7yNhlZJQXY56kLifBz6c41tiRz8a+ptb7dRD/kfP2WYVuA5GZ/+leGzb2Sf2mwj0TMxLhlpgJCyMnBnCTK53rg8xxh03OVMhHzsWJG1yVct+3RaJqNTO1jgg/JMp/Wu/ZrNlpK/Oui7HtNzJmE5XNdmFNNoNMw9pyWX0CVpHg2sG58TbAZWdWNWQxd4s8tRZ0ow6VK5QBJjfZRTmDRHLwSXJdMrMI1fV2KPmhln+3RNUGOaOs67dytKXtftO7XMvcE6of9o7w3By3i835maLTKowgGwTrzkYV3n3b+62NbIJOWtzuFAOMYdr4r1nbOjgwSrx3CKNfhyvPAY8uOjocB5e/VhBMhM3jORpcOqVPnexNK+haV/r0eBtLUwO75NpNCF2X3ssh+XztBNyrijYZPxgLv3J62meUZwmeJtHtVAYW39IAnJ9xwdI8GA9oJG3OxrQP3umnFNxJX3u+aM1gpkScEpUFXce7qV64kZLeNNlucqhbo2XWKtkxvan0PTl8o+9Fw+m1Hp29sF4wZcaU2Ei3RaipWa0x+1OT6Ua0m+maB4hwhE5/yIrBpiOoMiTBqNWC1kSrBZNhMgs6+qAynQBGrvux2uivU16qS/t2Jplgde0Sm/aaVku2vzeRYRYRqAm5FlFf9RoLTaa8QL+TywYqf0VhgQR3t2rUZAeq9j8ZaOmqB7/667rfLFrqC8t9NiYYhMYxE4tRulcMjnZT20iejGt2QQf2sdEXepE6MPQxRivNef/TZM522zGvA0FQ55dPLkr2iZwMpSK4PBSRqJSwVW42A1udGGBzvmjYzFWWG0kuK+ZyKiYxmJBRl2SnWsq8kC0HZvYBgMC6T9fQzxgz9yEf7Bh+xRda8yKHrU7T1VX7OwQxDO2+H9Uv6Eq5EtdzO95EbC6/NAmlchDMkAUkqvb9BlnNLWI8UReHFN1ctLKy2S1fPdTdmiT3SrZP9qKyWnmwWeUsHFn1qnajpFiYe0Muz9RNMvXTEkXrCRrG7mKrQ6CVXaJqfN8a0LJg477WxyZKXGdhxhCDuxbGJqaJembVnIwptcfhyK/LOabhT4uPb4TrP8bQiXjecLdveXB5T3687HAwqzjVwWyW7iKRGUqNkowVb2x+zFx8n5F0D4QgdU/vIOPsx9sBpOqbSnyY4lYNn24zbSZthzNxqPQf89BC+WkujDgzD+2jgRpEWUE/69u+JFg/auRmxgy8JC4XXXX3R3aoQhYgcNKfdSrMW0Jn6F2NnOtuI+77SmfkHWuShwkK+ydbmYZ6qa/AjpL7VAjNm5GvJrdtklMyzpqWeJBiFDKWs0VUj9jKLNaJYBJ6FiT5oEK5G6sbSrq4aA+YJmGnXHdyNaIqC8Jdrbc14FJR5ZwYyungklVSz5jNklXaiJ8WOdDvnSb3rufUNpEFu58ap+8xzE2H6NOVrI0dZluwNBnp9FrZmd/Ka/yw9wy0ee2WURq23Wf968lcO8VTd0F34OkDDx427Ipj8F+TB/jO3lQtc95XvTmV0PXhMkj67qU/msiZebDkvWk0GChzq/gnp1NWjD5ExvvVPtOC+6cHGs6n2D9sRNT1n+6Kq7a9oEVOnobN4SImRr3TytAwfV3pra741m3Pr0um9qmAGlWZY6WUXxMv5j5nMpc5w1qenfWP7eSpK7GTSiKl2nxCXKpKV0tabNuTWmuxbbdRpxWNeozG0KpahOOUifUQILsstEhF7jedgfUwN1XhTaDEVoFFucKjzHrtTd06UDUSHa6JkIRQYQW6KNncSLBiUcnObSOxrydArqC3FVXjL6bp8jkjJ1vMNxXG2vB/4Vd5TY0Zn51Q8vuW+wiH56IglJtBqI95CHhOjkzTmlmYq4dORjV306W61T0IGT9q+XsarjdBT43vflTT4PJN0KfLw2sdtOIiA6pky9KwxkhNtZ8PHiP43GDo9YyNbvKuxQojwvbAgF1Y3eipQyQzW/EZRmf/46GWVb48E4/lhnaCSDyrJRCNmO1kt9kJy8mTVRd6yyVH9/RlpS/3VMi4fE3hwy1/WPh1yWUHlv5bFr65oyZ6WMXcsE/aXqZE5Mx8O/Vi9zTrheduj2jdC22umBq4YR6zr88dFzYN1PyMxuReVvqS1sXq1joSzCuuMvEl0gXmMm/TriwsbYLUfjA7J8Wy3brMTO1wJSMElNiUG6yGB5Mk6wftR5pUv7qGXbuffMfXHigiG8N8DRg2TsORVZObrPLOQpqkO6qeqAWamOpHUzXK/KDjIJswvbiP+h1kfDmeZoI+qN5H6+Rb1GHXdid6wNCtuiCdy0hCDKDdriceTuwR6FI5lds+XRdoPO/fZaCsik29nElxHB5jYIKTVh2Om9ifIm2y3oXc097YSj6CrDt6Pi5TpfJA7qbiIqeWxK8AISdKdK/3WLGcK70lbpwKQ5Ala9S2jSi/WgtwJaQh24SW55L/tm/WC6leQk0f2PkZqnny7K5yrC62VocHz7qT+M3GaaP9tL/K7tqiTYWSShyCiJJB0loSgdVItN1t1oopguWIkYNRC7StbA7bxnXqmwOGjI0GKSeO6tJvu/dKI4EZs7N+3tIgmD7jNle3XqNV3+rHCEHHuGxik1w57tT5hh6HNmC0oyKtCL3oncKmeTKIT3qXjLcFzDsmOO/HP4QJestFRcM4yLdieG9ODkjNdTVz+cbYK2at7jzUeDb4T/dE9PEO+fmVZffT9DNk9+6UXPD9eKxk8XJ/b1S4BYImwfsgU85QKgXazhqW86PliJFI+bLiKzNg+X7OkpgZnADkRPSSuFx0dSsfOJIvCVKSByF+OXXTT3n3KJDNBHGoNN1W0zpepQICm5MtOqWedeC8MQxcC85GZedhZN+OyK3j9BX8KGsRbgiOoSx+mV/GXCMd2Z5WZnvMnNvIlnjIGw80S3XiayzbLpxhOLEPS+UrD1ZrB9cWcXMA6ifKe3ueJ/NNYU1LpRqgU/BMRK0XWengKmTIg0m4rpGMl1Q3L9WUbUSoOXXk6NEf2XCbT0xzz82Qk3RNESZl+1ZM8jCeTcDj4JmQ7uynW5QabF/vsioMLbVtBXWNbRW60Y+VlmxCWSYm2P1cY6LjWO4mrGeKuz+V2fJ7qP69o6YnXHgq1OB/vNZqJ0htzc1LrDBwiW65Yj1TZBlX9lvdjSPqZ1brau6HG78s/JL4lrI8cHevZHetlZUp4j57KN6olU4n7m2Dq3ixskwEWTsCqzef2yC2Pvmogbp689XbPNih2q24u9i6FQEbJwFcNjDr5inJoR+tlrZrZZrTtHUdwW+u7IzhqPU8KXrJxnTjN6FRLMx2uRFNiTdR6U6rZDiJzLNNy8mc3jLcB9m0pXnJZWl+spo7BOpoEpAZrs/bQ+ChB9a0BtYcdKwDPyO6aH1kLZKn4eKPMfTe5N1vqpDw8HffZ/spv8d+qf/pNFnM2ptcsH7kzHNl7uZ4Xw/ZD3Wywg/yubOO62dbVkPe3R8wdxJ5TV0j9pzdPLd1Xzbiz33IvU58q7DOhoOzrPiWXc2k1/zKZ1+FaEFmTVeWeNs/3WMld0y2kyfUjXyRSY5ojftYRUWyEOoSBxuuhd18VHxoQCOzRrVv2jKO5kZvyk+GcbXmrYvCjqZeEHtu7hKrnNe4Xtp6FoONxHIY9+PR9ISRa4y3BID080WuQlrb+QYC2qVXrU2t5JBjbK029OaN5lL9P0AVGsQV1GUMmDSK7W40/B1RSz/sT8Zs+u4CWtE697qnxJ9Z3D1Dz4eRfHNcfwxp3w/7F08g5od8OnnBxuXM2BARqB+wPBlkIi7Pp3ak4u1nZRrJbKo64WYbSm8QHCM521X8qaFOrBtKpi6IucUQOt+VU7zV8pwrPVfHeslGRvuCL1eqTuZ+g0VouF0CjCY97T+tCsu+hL35k2WndmqZqkmTrdFPqpplcsJuo5Du6a2eW7hZ2mNzjE3cUaOOA8++1aW3V++0t1GvtIn1FZnY6hsyVNpxPNXqssys2qx3F6bULV2GhSwhsSRY7/qvqrff6qWaZ0+3bc3epVou1LRqkZExrSsXmhLdYWw36p6tkXx7+J8UWuTrQfZ4z3JS2o76I0b78Ysq4rLUGHreS4daGv3YJn5Uev5meDYB0+jOncu8bnjjefb7PdgUNEehxhJ5DXzSI7pQXOXoYxiTPhuwK5g9rn66Jo/l5qlQNs09DXcrnjYsxeCsEr+LxFqkbRoqHwtJsPlkupzorQ9c7jWk+t2FzHTPVD9vB4CwmAl5m9NYUCvlKMim5R2amEaPlQmkLGQ+i1nCd7ccKAfbdPtOOyQx/ekfyHqote392OmpZtLwrLC1f+58dmSpHoaHyT6LQfIylb5hrsWwidgJWReWVJlwB5onYd2D4arWlkxumcYwpVfXfNaBqdJEZiG2m7+ynZ6Kq1Fa+lRGyu66q+lULYt277TLsCfRHRnJJsOdn0Me3RW9fU72PD0FT7uKsvuvxeYhlp2YrGCFGXhjcJ6G2khulG1HlNRlvv4i+59pmfuEegea+5ul/Ss70HnSfTBIX6s8vjpQtrqFf0w4zTU9SyiVv3Z3q99YSxp/deSyuIu1MCujUOwqH2bPcqvzLfGHJS8vuGdKVC+VXAgpIfmPCSZnbeZUvk0rK7tlDqOFlcs35v9MzRgDspA9b/31RmmY6dpWnZ+E3XjsgvenjDoPthMIGY8ru/5cAA1nq4YB7I8qlbLrN3SFG6hLrsuT391GMIPba3XVTXmXq39t2V4mtKRJA7JNwi+jWtY/BNWisZaxufcUZdLtJFV97h0n/Ic+iXHy4Gjec+0YyXnsk7HP+EmDM3eens/FV+6CLtjiwvHnSRnRiftRML07byegY7yFP1TTNmMx/iaRzE/dzCdNZxI9ifeskQzS98xh5k4+VkGFcdRMpD9E9KuoNRdoWBM0YNeAW59hqHXafE4nG58MlO8olK/5LuWbCoDeZqV/69pwaUTHnnITgwiLcYrlHlR2ug2idpn4oKsTwOYU3Ptge12n93QeuA/TRcKtTYV9t9Mz2qxp48YYQ1hTD8ZAb+rexkRwMXSy3jeDuOu1W+Q8ox9xhOKxZt3ftDWzfjVPNLiPzsOVGi7IcKlZSxnQU2w++zDVJOmevyrVe+sywKYdnbcxB9vCE0MDTTxYWt3Md5+FbyIhH8IFnyM873XqzHwiku34RCk+ruv3NkYvDPZ70n7SXXdsGu5O5oYCb4q1rUh2srohpNTlVCl3I5m/8gNuNHvMd/kpX9afMidmZNR7IiUSyoy3cpFkltNHhCUxAwvKlc1IxEv9iEL5pjq3r/aiPkgeu8lryx+pAbgehKn/H2WcoVYSOhE3rjM29vO2Ukx3o5rpkRKW5it205q30e548OzrR6tto578G/sOwW37jol66wi72Z/hbCvxbbcB0O2HpzGIJ2kA4wmISR36e0PF1mI1L6O+mPXRSVTTXk3lz2Bhpnl+ZHFacu+zPWev4eiGmFLccgZLrPzoCtrOOUyfsTM8+hAZj7j2VNLTdkG/nzIxI8vJxp8hknHoTgbzAd/3p3/Otcx8zjutgjO9qnk+zPeYjceCAHun+BxGgjyTwEQG1V/2egDzMETaRLbZ11N+ipBtFxYYz26zFaPeHKl3WjHj65q+rPR1TV/v9JYJQLnD+UXusSLCTY75lr+pMTHKbJhEmLoDHqjEW2ef4iHp8yCCRbqZLyvAzye4CUQrtxj1lisRLK3Xkspgf2fTSRy3+IwwlH27B2y0bxeDUZLE0fNqZRf5zkJZ+lS6bSmYSrAcJt76nZCdTlDpdltxYUAtzCND61/tAPMYBrTOM77oU68P6p+MZ+oezmG69tylWzlYMzW7jmMnCLROjvBNNjm7IJvRPqZO/Br8A+2CPgzSRuAgqQ+okd0ze7edaNm7TyJ+pGCdcqcx8On5sVUHd7xtvHvA8jjRVNq7efRbahC2a2keZLY0OLavGkKUgNGYGCwWY12qzOVkUdZJMGU5dLTWbypQubgqUU6gtFJmeln4Zcn6NYVFl3LlS4KLnADWc0dFyMoD9IMKbYm3mTF4Mn81F1qp+LM2ap3scXOSAKiEJJxSXPxsw4rpx+EUJh9h+9WntrHkrEsAMG2tsbESpZRl2O7eq2I+FTUvlKB6iJ+HTEqBdCFV/gopj0ebbCa1EErP05F+BnOulTTdJFoXkmvSG0EkE7VktatMziNZ/iIfQ99b9kXWMLsdNzB39cNMJrZOXzrGNo8ewI6bJ3Kuw/VrwB12eNf+3GKIeSvQEAxmFG3ENhulx2md6QZdh+ZRduBEh9hSmP2bjuxPx7Hp4WxH18HWpJWt7b3idUHMQ3eHhhu1bkcV2kqt2c/s9jazPshyL1Cfl8QfCIRcpr+vC78kflnyIrPYsqDbrnEGygarUjKZLclVG3UBWE4ctelUy32b1Vnzn18/G9vFBOqlGkmFUL2c3NyEZWLYgZXCfQOJ68i7UyY2TTYbsK6VHZU6z3qVFU2WkHhLJph7rAqnlijkbo3N/JdaJPVodvO1GiSu58jVwuxumjQ5PyFP4CXDnOHGTiDn0KzQ2CGVid7Qkh66hnDtqFKoncxtsHexDUlvMLFVK4/Ez0aJhuydR0f4/5wXcSgmNfq45rIf8158toPRQdLD1GIe/3lBZv0fF/rBbjXqje+wyYwpv9//rJoaYfDES+/9nMGfh7/De5ts+/Kr5eDys8k+YCEmwo2wjLdkNLsvySYq1pR2Muny4gNsBmTfUanVnpw2cRJwGsP8JqztIC7PGz+nLgP8ZZDHjbWZDw1i1SyIsnUiusbrQvbuiJTzZ+PrLnuZ9Mn+60AYJYYLRV4hwOGhnUkOaZbuGMlw4qjLIebdwBiHS1Vx87nf2eB793YSsyCTum1Bz5qpz3iaJnARrv8aUu9z4kRz990o2KdrB0NDz8GDHWQjrB1Ofd7GAXoiywdBrCJwLvambs+G5elojiKvcGvTB7RqHvwOHZr4nE50zF4qDcvmEqtORuuXBOsVkmXpl8l4qzPgcqCorPWW3BTDcrvO0huci4VZL8Dqprn7KKQuIlicbPG9JJvQLfemkmndK2FrJH4RYau55mNhxHRo21aw4xGz1dmt+MXnbOu710jsdMzy8Rbf61RYJqZeJdnY2dfCTn9s9vwWb0mXerHT625OFxxmhTXvnbvRtid9r3pmjXAOX0ebvO690066p3HI1g/tIhoxK/UgxmpCT2Xla9aAHyrhpI5OBrTj3A/ged0PHWlOw7tBtiL9lRgzfHYGM8iFw1naoxmebIg7isRWJqv//jjvpubAYpFWJta7MjLqJ3sxI+Mi6uo+rPqqfVk2g4ixMm7EKUG/o6B0a9FM0Kj3XtXvqwuznuzkJH8PBKPKXG7Stk6nGyu3eR78eiRJvfUJDxa/bvri3nX52coqXAOPypaN4exY9pGP/AWZ3MvlX/PROyZHgNozrFN7Z3yO2VIViE24QURYRatb3J6g2q70ZpWeoMvPqlk1bcznZJaFd8GH3SCySu80CTGLkoENVeCQid+H2W7qTTX0m0jsk7hmDfiZJRScb9BeSm1Qr/VkVfPLrRoHmAjhc55PBjkTSRebFV57YWcilWA/OCOfsW/z4/YBwdI2C4EWXsplmAz7QRt7iySVD7Mbmdxf7DxjzaEgnXzeqwxryyY0Ttgz+plYm+Sq4tvMjmbmuy0yfmg24xpk1Eyneli3C7LXuszzkMQ2Ws5ZxuCod+4QA4upYOxv3SzTvTdZlOJY+235D48XXJjG/vJFAAAgAElEQVTJ9kQRITJ/qwvDp8/S+wz9tQxrnxlJrqMim9vu9sfhxy6concq4JkjRr8Frt323OEf8RjSPIbhh+dFo/sfDdrp8G6RyO9Ol+89TN6ah3Niw5DI4ObRCe9OMmz534t0S7WnaQcF0E9iDtLckqS79r3uqwnFxe5tdmLOb95Rb+X25jXTPdPKlNnFoB9gMN9LYP0kWrnrapHdVQu1y610BxZUXphrnCF8LGeQZDOOu+q5/m1NUFj2jLSCfLkQYiWTDy20ye8slNb5RO/v/fUOO72oHybifWfRZ0fB6tnXdU5mqAW+LdxqkLE7dQrxqOTxIJGmeUvUXjFP9YlWZDlfNLmny6biN0tNDuZi5jK5qLLzOfQBVSmgOpnrAscSijH5lO9EaJALAoDsOjfNNL0TOCdBvyUuIeGnmqDfV8KxJUZBcGbYz4f6TAndD2uDTHK4fXXAJlxUx2S8EbTPgx3okwDDzAlDuXaScUToHXkrWV1HtT+FDjvPXrySPpe/K1POgJm8ZqZVRCRzq8bCx/dsV3yr/1sq810mPcuLssQr9mc91FtN0O1DC4ZZWW+5smSslWwmymyc7X/MFlBuXpVuy4VLOoEz3KJhbIIT+57MCO0ViDb9oaVmz6O/7m23EtEPou1xwdt/h47hBAmjCHtUhp5vyCq2DldT2hz9XFnqtxvvJPHTEAkDcoaGmN1UtSuvaGmaR6KmQ/m2KK4zToXoXThxoncciR2Ns9EA2Gp0s6hZu6Mv1Ky/tbS6m9e2iGDHKP0+jF33THU9H0/dhDVt2uO52vlUfAxbD1tMPJERw0GFLolRDM2yNb/9R7HVHe2bR6uFAfnyqE1o0Bq6YcNoI8zlZJ7hjoY7ucmzIJJQE3zCrG7JdqxqDSU/SI8VrYyc237m1azvqnc16BUqkysky7+6/SpZojWXNpPsONUctu1XIp2TnDiCuGBsWdYJXZVc3XAYJabWsOSeodNBpWT/cQUf0kLuTSxVSZsNBFP/W17OdUjzMeZZtGcj2R6nNhKd6qqdQN/awe6i9nXAbaoNLv3Hz8UnmZN7mLXthoZoo0MJjHxsfTfopcyEbmWtRcPMGcayfR02J0jObJgHZhFvi6ym9zuGnl4ysx3Jt8LYT85Q/DPt4defAz6s861tlv9fe9+WJEmuKwcwq+dcySQzaRd3rfrR1rQDrUMzlYQ+SAAOkMzM6kdGzxy4zVRHRvAdJBwEQcbrKSTwrge8mAgvIy2z0Q9rUj8rnR0WfXqbx7OMv1ywrzp27cQfZi3h13wpd+Hh6tw79XTgs1BrdGPSryaI0PhJ5l1lFEfqxTOlOI85ju4V4a34UXF43pO0kWKbDU4gtp4Ji8kTy8YkfwoZUb6/sTocf+2yPnWfxwNzZRZUT+UUJmNRTBfV+eWkoCALYWNUXi4O2gAuq463EozdZvzQCaL/tQCnaevKYbElIdhKnKKkvWuOEeWlLgdZPSDmjeoZAz1S/l7D94nHV/L96XrAA7x9H7D1ku/VMk4jXLZ3Kc/GTuZlTn1aNmHs4liGdeAeQm7L9jT89u42GJ8Lr1d5Xr61mz0sKu+Dwj3ZHTxk8/vUdDIfmRvzoGHfs7uGt728n31sMeK78L2TEI9VWxmWyXFOpJ4WOZhYZ67T/jyP1yDwwyI93IrdFu0ClL0NguQSNUTrBNdM1jOqCSDtcAxyy9PZyVCJU2ehuSxKRMwS5Dgcu5Hse+vrWsbioqjFlscH+HK32tI2R1p7VPLGsoKYbrEduatRaknZ4trFU80gvIWHusmGWeZAYp0/bljSv++0pL8CaQ+6GdsgXucSrHQb1IV4Wsg2ytN8UYCvNLwvKunse1kE8bJh0HfhJDnfictmwA+0jOfc/NiQxct40utwe7co5TG0q1pRN4H3XB59FTZlX35+/WDeNYunUjU1iTbCnoa3yQZ5F6IdX5hxqgSKpXV2i42ZjNJidma1OcsirGU4Xum5VyIkzMJya3Rr07B8a/QxLM8styZ+DrM6TDFn9k0LwKxzBdtSqT+hiSLR2oTG4mKTWWOyyurF5/nRKQ1McDK+efeMDhilGudX9jo2L9e6X+RCzndSlN19oji+dl4Fsxw8u58t94Y+IPtYayKDbPKparuIDFHG42U4LCPXig/1iBSlUSzg2iSr7nUo4eRU1qI8gzWyFXIbK1gY4oQVmdg0jRMHrwljei9V8Cv4cVdfonVi8mtx8VnQ+3fwvAVCDxn/bEZdMpdkxtrLC79giGsPVrZ/rEcdaPKBjHiKB7LsEjym8NSKBER+etE2yxyj2aK3Obqlw4FWlsaYy1KTQd5mNB4Ua8dlMM39vuNEw+ZmXBJYTg2LuMgQ0euH4mHOnIg2SiY7Q1GFpidlNfUJxLyzfMo3Nqz9xdzysELnpbNwjzFevfk4la9G2Qyyg3k5BnlJhZXD38fh4XqTy8pM2XpwdgEZr0OWKBsCgx/rS/SL5b2moYfPj70lxYqa3EtYlL8VP06VryiUj4O8ebK7xcVrwLK0wo+TCmp5UTk9pn7y2ETl2uRv0LVTxJilJsLp/vLrnFoo/RL+lNBXJMv4DfXdmId2Ii+3Eo2ayrFUoiqqterg4E4kwqlVBSbNRDqNHrt7he+dPoU/O4t+o/c2JrtqkWtN5lcQVCo1d1cW3O9rzlPTk3n+FJsN066X4ux2fvpXJ9Ne20Sri/BbJDW5K/Q4YNiOYphT2OxQystfIoL5ze4liMd9JIE2XfFAcod3jU/84oXNP+EpOLSvTGz9lS1h83jKwzA674LxYDvokhMf5wppIq5U2rx2NeXOmJrWZpqWOXg9q/n0ply02JXk4AemDdoe3CS8/5CjLHCi+aBh7JvjOM08HTn5YHb7qBcdxBdR9lv0wv+UafTLePc+4LV9ty/oSWpfCZM4dQ9eI+xyemazOvSdXarn0uwL8hXF5KUqr7G0nKEAD5NQYcceUa3HD8qcyHvSKk3TsfGxp0bWhrOnNKYbkTB9qufzX8S3Pnys5Nao2ayWiAZHMt2AVoGJdUMwDW3dz5iEnUWb41WMdEmtgLybi4htMZYgSTkGQ0mvXOutL1HUBbEosarr68HC5Cl5rM9D4F7iFzsw/jz5XrzYRx94Qdt9pnESFsnwmoMoD5wtfIV4FwCZ+JHsGt/gExp/thmhoHva2Kq1b1ZtnTiXyaUzsf4anWhSqV14CHcZzDF3zBpvQ1njFGNl4iWRIx4wRQ75SmqPMvLrJzsCfiWu94KmZ0353T5pK5OdiJNo6W6pD8ZQqDluBu1yvc/uxUIfkOdPzy4e5Hksw48k8ii9gNSY3vxC49tEFO5YYPlodGvyL/2ikWV07yTMnYWFx5lWzCxdqPGNhNTxiqO/VXCVEvEjMoSIidW1Kv2nMVjmtwV5JmJC/Vm7neZDINwxoxBBQMLOhztRKHmBcEQ6kvH5FeeO8FQB3QQ4O3B870Df9Vhk3+9O52nMdcU6Mv1TdxYhQlsdzJI94fD2Y+SjSrHMm31kRbUMT+cwX/5nyLIn7UGSQ69+JbkfwnczxZmMfzXetwasr//Y2meVJ0c5DZMjecVREoblusJkQ2hxOMLjHTy8XlknXMdhLlKWDrGCGFfWJ+GCU74roIL9cH8TCYa/wE3gv1g6NBXqI9Eo7sA8J7iEZnmslH+hyE9s5i5zi5GR8fSKgvqz3SEidvfm8b1e9hOb518zL2sB5uzFj9SYaSo3jwsiKDhRfHOpmx7lJpmoy99nxdZzR1Zbch7ped750KXJ+zCrtuS/os5FMlgKli8OXdTSOC2s6ODi9BR7/jKMnKvi2Hzk+YjUMt/1ucwhM2vhadE5yC5sL/bLbUCBbzE86Dw5ebM/LOGSloaxwHvAi2lRbOb6IF+GF3CY5vLzqWqkt31Gy80u+9LJ5up048n9hHdOfA3vmwHnYbQGENOfvtAYR9MW4jBRTULkUQqRki3MJuIiM7alXdPcRNml8rTMW27Yl98mjmGERFUBfgm5S3OP94+Alu+iLs2+SdfLKId4429joUbUxxlY/KeMsyR9Qfdbk8bs3991oh27jODoDP85JRpMwW17CNuHXcN/Jl7X/sl+kWeuy0REcObKhK7MKEkxcPJqJiLz43og7k9lfAWn4bDh6iUY0mHsT9uBGKJsmTjeC5wdmXhT4IOgfrwT2sFkW34enajDoWh7pJEuodfkkPtJZDxP8gFeVakwx9H+yas/Tp1RbeV48QpSIo8L+CJx7jP6rihbovilePfnCJMaRecpwsPkvhgewVoeu/DYvKdz7WgCUbZ5bnXb7Z2QyElSouDeyJe95slrwO1DUsI5qKU/HW6eEqJ1R6akwNKIG5OoO5KQSGMRET2K8j4/L8ifxCLyIfKt0e0m3+Zhzmpe5vyRIiHy0zZgAVB0ohnM0TBjcSdpCSdJIePychHqHsc5E3haETyGVkGhEEQhqVv15pikAOxsVq/H73wzwmK3t23QLoUlR0w63yvYselGS9sS4cOMOAV7IcqhbPu0N7+2pQ3K7mQ7CdF2sdbHDMsKJlOfjuOV7zdRHq5ovEi3zyX8s1g/J/Az28+Lnxn+dXi3Cfop+kHDe8C5+4usTc+u9LV3DImgNDlNuwV+56zzzX0PmukMY3Hg++UrK2uCudhteRLLs6QjQqSxJFQ5vxT0T8YTH+1TB2utlEfdT3X4W42DJO8Czlx67IaA5c24U8aHiZp8cG9MvXPXPUjNzMtNv4WgVeC5GJwdrBp4L9scd2me0PLOrEC0GHiQonHSJLxlDISdTtombGcOMxGaK9XIGubHQsMzOvQRoSWrWBd9Hanka50fDJbuR5LEYAeLjr703fz5MCp3ZGx5hnVHLIPEXE4jTslvIysscRwp23Za9exl6d+fzg4DKos+WiYlmP7smesojtfwjYf100krsOVBfQwVekTSIRHo2md7TIiIL+I1Ynjk0bn/8Tw8x64yvxvxXkZ+uwl6dNDDNG3t0Md0lp+ZC/FnIuODcIljOCaFPzO1203/NoA9e0CQ+zLAo9DncCn3zNxJlpk0WIdvpknWSakxruQGEZguYqYm8kRntsGrGaUhnrBh0grIdZDxOE5yeGCJkB+mQUR6LDNPaSbfbmISBz+W4CdYERF+tXe6XxGZ6zKHvxS2FYVE0lSD4YK0/ut7cfkUA8g6peDdzRl60njiYOVnCDMvsyjcssJx+J2ROlju8/j00M/lwdMlKSPXNaPtQGYPS8lpY836BFd8NHCPT1PWwGHaJgset7Zs7k1mZVIbeHwmZH0yJIIncAWyj+auNIph9YX0Bm2OVT3YzDQRNdavpTr0r5NR+ikev8NXaHSRil8vxA/jou8Bn9WZVxWifL2JtuFmHDar1Ngwqx+6RLtih42tRsM7MbEtOekYy/nuJMtS2Ggwfy0KhncunNGYKNtkwpRF5p17bEkJ5R9UNQb/ZIsu3J2PSYTH3LdjHJpUd2tCnT6Z711k+l6JCOsJVpOMG8uNpbW50BurSZ2YRBox7uhFDm4c8qXEpirFnWjtI0hhXqI/NahNXrcrghzvoQQ0gc/wk/Wl8ZJIqq+9fZ8HLfOS2Dd2wyy++Qfa8NrfnvbAdTDaz5PBOYXHlqE4z5aDBgD8wUvzZhVzF52I3KnY+jz4aXrP127wRO9xej61FJyzlrCJEZ2zIkMzpbE8yqjicmVKgjE7oxy2GCW35xfxmIlz4FcoNKefVJSX4mAf+FJ1fgreug/4+74N+fhNbIfQ6+rP6a+Bl5spxyUW7tgbtYbwEuKOKxMia/H8p+RH29KGkiN1ynLxQhdfayqH6q+ZYyISUoiHSoZu4Jtfb01ujYjk3o1EqdEkYFYZ2vs8c3dOfJmaMta41uMkA62SUCdlSoI3pvLIP71AHsVqZmJWZiM7Ga9NYCpPMEoTUC6WBHJUOzZoRJFHcdZ1bP2ZHKTBTzsOEbE8d5zOOaLKoRzztUROLH4a2tipwqPDUMKLbStkmtnl9aA8W+QAibO3U1tm4/uEfZRFtyNVBvC9Jzv2qggSkcDkX70dMGtlqXMKswqe76YWK76Dbp8kuJRkxdpoI847Kfita8ACAoTju/SQ9r7PzSDLDx9aC8OdLMY+liBA4sIw0lKwRQfP+XpAzikctkJubsaTKGgJsHYvLw+Mclrq68GFCI3nupNVzcUU53jzplCaPc8745uAZDnrI2RcsUT0GI0OwvvGPD4OOIpidGtezTgfHfeHQ8rNvK7QTM2+3As1mPY21ubhZbJqTi46I8BDhPPs1aLjI9mE8l6BzlNiM7N000OPW15G02XTVpM164S06JWfLgl8t2DcD6LNVbixjtNNyvEna0Cm0CHX8AJxeOzbhgbBeOsqDy8lJIIZpG+0c2VuLTnS51RxhHlxmaDzvFZM+UuTV+0q29W9qWXmCfHe2mCJpK9czg65pM8bY7grMDaH/omQhz9p98afdmMs/Hf3+e/Ae72goT+5sW484RjyrBMdW+ewwTf9hBScdfZhVmKOq7zbMPnzahCAyIg/m6npB6JsEoH9RdFMHScKRDSJZWQ7n3aZhI3rvqti5EVVJrYPIXQCWt2VzeoyOLIRd6HeWYQ+iT4bf/jHensLHk/jTCuicFKVreyaH9ZMfLQcEq0+sLOWPbrydDjWKtZXadQ+eTSTGyIobF002x2yLE25Nn6Cuc9pfuckJ5qN1ss+vSAu0EPWj7uKjsGjaNwItS+KpVFHZMS9oJQQniGYDboHucfbYi1sUcJg38U215tMUOSdX0u441SG5AUyOrWtu/s9alAck8aIqSPlmqRusMs/K5oSauX64tLflkjLz82sF/XPRym8gl2H3OoP+Tq/UwlhgjKtd9+zK2TgTQQcHD5Xa9vD4b15cphBpjzXRNJb4dgVwvi3AbUQ+WPsWT9xp/bvcwobofOgVwxuSMQvY/zuvFpiURmuyY+BTHX17AWuxoxWhELuNt9d6qWJMd2IiEVgii80f7Ie0vvZWaS5JxQTEzNTn98WJOax40gl2nD+ovkuJ+kOQ7d5QQ+mVGGEP7dFJeBpcpK2lsPwPNkz7chhfZ3xTCv8O8ILU9gY9cynFNldsyJayHgb8QexG5UbSjEBZ34Gj5daQsRTpl/cy2C5L0yzajoPf27ASaCn4r0iyrfDk5c7KUpUF4Jw8o76LC+8Nej2O/vb8vNpvYM0eBb4VbzQLdIwNxUwkPGPD4+X8VYnrCkVp5BFOU708mtA8sIkUnKTQvAa7mBcYFnfIeOEhFmn1KJ/1inHpH0nJcBsvOHpzvK85BsaAeqVaQ8LaZjfEcJ2U9obNJzzdcdmnXtNwg4TZbKFWGIiuXf+1A/0jtTME2omzdN6TOx5QYnIPsqb7M+NiPSMqmYNrCqeenQS+4XtOCKNHpocM/VrmGQTyNP1dOggUOCrCVO7iZJpT1SQDk4Hk4JI6WY8O3eVaz99dY1U4cMCh6yXHNdKEfSrNeQmEVeNlxGkhdlWNLXkCNNpa2jQEWdvGU7CkvERrVS6yDyzwSHdREVCJJ3NPpELsCgwaRAGUQFZ88HkkTrP6utwyo7jPRkdfqRjQ0178qq5MoUKPj3eeUvYX+22exm79JkFMJKISA5N+cvwbi9oOb+Vr9NwuPCfDP31xMQS4koMRrtgG1XXfsbSILHt6DanszDo/OdxP5AUxb4Dcwi8tInAB3fRY3ZXr8C1w9oMBvy0Z5cmlzcmasMazp99kvE4YQ4+uMv+PaIRq8kN2Yum07Jt872xpS9zcgw2ao3FNDImdvMy+YJxmoxKvPbZQxDHQTCdXFqI9oa7wCHavCmVxLUbDpac94mJifYp/1ysw/CJrVi2xJcH5po+UZTrYRv6EnJXhsTBpkE+qoxtkGOz9O+qTKOvTeGTqpdZMA5bn3WRE+SjjbySwvoSLEYJat+awIERNzG0scDzwZnYFI5T70oi/ed+kudBjtuLBzFkyobx+5/ohNWT6wqR/folTZ91sCho4TIQ80LbVk6BERuZMm5mYB2KuiPQjJFZ/YdEkLAxV5zBrN8PT1Y1LO3SJESwNIWJ6IDY9DktLXteMsvZjYkxGxiHmNpgyo9Gjal16Xq2cxfunVk3BRmh3hp9MN+afDS5MbUm9uUiO3gy1FC4Cy7ixnOvfNdvXr2eFfRVXWqjwuwlNxoW9ig409EU5jOOEZMFEpeI0cUUi7FKcIIXiV3iqfjbpkD05fAEmZ7gAy4I6ZzO0mdtOTz2txhHUgpLSfYjaJP14wChYThm5b19SWjt9oFx940wg5lkevDSX88O41qvnmHOb/1pf0tEGhwdDil8B56+oO9Kc9OdEKrrmAx7N956EMd6GNA22HJracQlwspqBHeGvArsFckjTiXx6RQnkh7tPK1CIRNZ4h3wkEq13pqRo3GbT1F24RvKu3gW2DIbo8Wree7Wde5H0WpRgIy5d/rs/Nn5roQ+JqyNhZjGJxaI5gIwE3EjIhosO74hOE3NuruXm9zwTCtiIhkfN2rkDlM0d/fCTl+tJZ97HMOkljVwkCh+LAbbmZ1CwkrSQLeDQyNha2u5w3+g8PkKsHhIRUShmyULM2qYCz0fx9hqpj7iMOgexV3YNR0/J49CLqkffC9M90CRad7jqK2mJNeaLzo5ZD5XVeZr9dAPIYQWZsnPtM/wEgueExFJRwe/oBhwDOkp4EvfbleDAqRCCfZbi8UYyZ/aISSkHTsFC/0mEPhS5xDmGZbmPCT9YgKb7KdT5K9QBM54nxc02z6O13R2j3v+uVVtTpy6f6RScJ1Q5ojuUQXsC0mhpLBrWZ4CDcd67SJi1siOCUkJsKSmHIliWgV0HInu9kwSzcuThsUIyuNjmgLHEw7/qc8+Gwo/ijDmtcLStI6NpDW6sdyafryICJ2ZsbBqg50+KMzs50qSTR+zu5MJCCbgTtDoWS8oisjXhUPKKIh3cS63MFmM6m+0S4c3NLeHBT5ibxC/+aDkj/cgpeK8eHN7f9+NYwfexMpqoYfLFH5IxOmBjwPqKaKs8BZ/scV0LYbzk8ObtVueunYUJhpnjhsNe+fZCVITUETk+50OtD1Dgk62cjNtInrHTpYYy86Tmj+yqrMLsxbuiKedcxsgyCu7CKbZL/HSz8H7vKCtjo9r+ZLPyLqnaDfAZP0bWTn0TjyDVyOY4ZHCSxXomqwXFoZlzTqZ0aDjWrCwEYs9mA+jg9DU0Rh2VRmb2h3LIkyDpnxBlYJTXCUnDWLlBK5iZY6RyzhDY4ibucYs9FdnIvr0/UXDyDzXcYedmXHOykTqSq3UOL9T37rcmNU67a5S/gokFNt1kLB72H9SnApL5jZgdBMbsR9LbBYFjmyBisy7e5Gn3WNzAGF4AxAX+sWOjDNPUSTjFxF6LNIb5evTnfX+0Qkrif+YU0r5qcw48XeKntUFuJOp5VlG2A02UeCWxMJ5bzx3FcssNxcUddNJIgnNkL4uO9MLxupjbVPPXVrncZ09mj3LL2fJIEfZMsXpVVqaqZgSO7PL/3fhXSZocbVsGWNomZbn7b6/YLvjvLXagUOYZVNviqXprJbhY0Zpyisea/WxgkwZ7wMXLnUPOTLe1xwDRSelr3flMZm82Hdrz4MvKVZBhHTtluzsybTxlydH0o17u3Hr0+zcSTqMc55ezYRfTQiOS1MAzThoXlbuhIM4gLdYF+5MFUB+ZV/qBhfe5Zu7YaEE0gkkjRIjbjqaWasKsJbNk3hmYU4EvSWj+Oo0nCc7wv8MoXJgSuiu+1y2o5i8nLudPLvwdiuPvi9WcB0+IS9sPVUiadQuH9yWhfv2Omq3EJO9D50o07OIB4tS6Efh7xYoW3CILf0tx8KunRQ7D8whCoHySjqmlrCnLryU+QFObwLuYFfZh10Ld3oTvwZvPAlrtAjKWehE9r4IOuVDJVgvZPOTlvAU7x9JNyaCQnHNKCeixV8o1uu5pr96fjFltg7FiCdjgOBgDLmhYQgg4DlJacNuLBtqD/ZxBeNdmTRsH10YLDYtw2MBmFnsuKuZTqc7Ews1sU26wmotbyw3gtmw0i04Tlu9xISCrfvCFNP7FM/7rgH7Ki34rzpzk/8dKU1bHaQLMmskvciA3Y5+ie/XCoxmQw8czmEANe6Bl2zKbs3oi3gsB7dPH9/0pxyacsPo8Tf2WL+z9YJeYC8ryYStSMFYEFfwmMYZZRfn1Mw5rGgHgWUFHar7pPTle1eRWLWorzHTxoiC4jTpILaOHtwVUYmEtI7ppDLHUYAJ7up2TuecBRRxE+XkrBoiEpH4636B/H8a3ngWtL7GrU7E4QYyTn6wH0sUh+KJhqF9N7xLmyMbV5b1mTHNDr4RLjidmjJ0rvAPa2bi3bUwcWwwLSXZnhBkVJC1Q22yzclWRG09DE+rRiRolBYl5i7U+yjMlB/r3oku0/24Md1aVxb02nVhuQ/GVq4V6swyPrpAc+WYgY+Hp3QoJhGNs511dy+c2kE2V05l851XxnlRjCVbscYKjZwQXbo2PRTz8QzhfY8yrVLIXw+ytVY2VS2l4D35ZTJeh9+XJJLX/BnDhTgQPiqgqAjBqIQ5nCwVRKzSZhUgW4ljuRyTi7fHKMWl2W1YHHrC6jK1y2if1dJV2LNfSnroKuw3U9ISSrjXOENW36XXHUbHWW7/CIJ8xlGg/5hioXfex8Dv9YJeX/98YuA05PLzV17MHKLLvh0KIxxlxJllQyLrzZxsKICls7V1p1PuglAw1w/PVCeIu7p6gcljmWYQc9fF3TWhrnbmQe3jbEifvMZB24SEx3d8+d7pvpi+xz+3QaW6DWmoJNbLedK/eWkRDbu0mp1tfVcZTzpxG6JHWXZk59NlJnWQDk20ThHGqNt7YCEps04mkLAPs1uCl8immuj7yTF2KUB0T3MbHBUGiQ8ejBFVg88hIP30O97ZC155fLF1rj4UGPvtGia0jM5PtyPUA+8qgKMQRxPKAT5GCVnMAsvSzbQjkXb4JcJ40j4AACAASURBVO7xxLrTnuDTew+kcob5Nyxcizpn6LRrf0t9yWjsNUR9eHkQhvCxfzzJQB6+ZZPUHmw69XyXUvFdeBcBL5tEoYqoZu0UOcVmSC/vYEOlTpwexR9hGSV0r8RbkIcPsVyAsILLa472aK2di4/tVN7mSjEuawVjmd0+HIYHRklFMvbF3Uewzmqu0aTSZOwvuonc2+Bg8MPyZOmvO/9FPJj4o8lHo5v6XhGJ8qUfd5WUM5wgDkfUO0uDnfNMuLhLJGGZw3YQTeLHrbrIuDhrYR+0ua8yJGw3cJSbm6u+Ed2DxLjgly4sOR5rxzsFfDsqhj6jGb1Aqg8ZfZujwG+mvSh8QI1pqK5DGHWdFJlpWv4nBR2szaNUrN1SiJwDz2OQ10RgaHhZdByNN/9IPEHZTnxhjPXKcoCWZyh/3sM1uneVNTtcrN4yqCVFRnWbKMlYOfpb6NgWfEovOAXhcdVSRmuPCEoMHzj4ZcD7tcMa5q5IDTCExPNX/HPxLi9o/ZsENBH0bg3zfDwfJqBrLPELJhyHaeK7jM+QyKKGW28LVVEBuzhn7b+jwLuqMU3HD+ROKyG7SIn56oPoBcYihFlzamnYekQ0fa/sw71Cntn4fL3t7nVRqP21sdiOIM1oWtWE3Nvrr7sm3ujjJt/aPIQSv9Sben+XaZo28crCXd2aG5Gf5Gx7kKzp0NNEZbktKhMFo3HKN76vbMfO3VhHrfhr0gtzrY9LaMbc62h3/cw/j+gZnWT3yQeKIZ1Ur6cyzZrFuxBUE2X/aezsCrqjYfJkTymwcjDHAbXysd/EFaCHWVMcJmYVxvAjiWezI8bEZ5E5NyM8zXfT+wqEsK4KL7uUxcsv2N+IaBzoxbF4BIOFYL9Tyn3XS620IyBbjcJXRh4qHEmW7XjhiKesvFWGrIQaaL7icc6o+PLgm/DufcB2gY2eVqeSsNhRsvfyhe3geudahZQcwhyM0nGoMxYsZ6eBTzqBRQmCIDo6hbwOS2hImVhInKQO+AgUkvmZer12dypPxzA+ZIQZdaLPO392/msctdE3VbPNvnNHLw2HZ2kstzbNuLc2T+e4gQ15TFO7EE8fLsIDI5l0DRg/97t0FXWsmjJkHh+IdEuLIHBfrEnwpLOHzHxLZa1bMtx5DFk78zOz4SYjjL9EeJwCZvoKVmoI9x+ahdcA+8CZFDfGWAu8itSkCuijzThF+9YcdGftwZJnn/ePwbX/+oJ3mC1dRRkySqvdWzA8w/tCAiNz74eQBDkKHLPm1eScFHpTT6+UXFKG/ibYsCZMljLsdZJtp10TWaNQen9nhCpH+yUmkDrYNlXTNZ+O4p+L93lByzQbwodMl65GhzZHGSTxL8VmnX/ZZSs6aOCbELyAqWoog3imezt2tHGR1izWQueCYkS74f7U+ZhkOGgI5B4LzALim2nftVjpM2zw1YHQdPSmvntjnapGAcdMNxZh6sy9hzk3EXWiOzMPT+YmN6Zvt34zPmafR86IPJl+eEIPLaCxNKLWjGLTZwepwfk7VsUZQFvAuNZ5GsbqlGdx+9CcAXAWpvOVzurre7C82WN7JrjgksSieAuElzQViDhVjVyLEm1e7OcWixxLU+oHnrrezZYgOdWZzkJ+mNROkHJuB+94UTF9kH8a/tk94hmzYiNvcuQcTEmY8WAAzy3Jr7x7bN/YOhWN3+2YaTxo/DDnTZ0hv1m0G1GWDy5I2X+SvRomODgESrY2zqZutA3kveGZMT92fKIwGA9TVN6997iG6HLD2iq2GNN2QP1CvPEsaBhwTAQLBfkdEyVxGR/uvBUSm6aIQxT4DNje08kDK+aiaYaTLravdi1bLInoSBGcdOYENw3Aa+101vswR+AJJrHzqjDA6HPme2UtcwcPrPGFYHTsbUzE0lXHHsvGH40+mjotEwnRZ2+z4Lf+jfUp5NJtJ4ZWdG5n6jzWideDnYnwW0YjHSamTtKEWQ+L1rEkaVBhNxxtOcWQmEyMDBoz0qScidVxA3JR6bLmi28H28Gs6+snCJHyUSJaZ1oIFQfE+Md6U5gA0QKGmdZm6OUrl2JJsXjAo7OA0NSWnRmZ1yFMsR0wJb0b9iPswu75OBYklFmWMBv2XRNPyeURrXdisGAXtOovbCd6Lo1kC/NGr9Mo3rso+1jsadD7ANA8Uuahv20TyrrCIdtjImvrWS89Rc5pIftu1hNnmpfg3V9Doui8SvHax96OlO0i0dXGdwl4cWXNBzy6RPRRbWZeDEOQghYsMGsKrDnu7Gzg5GKzW6tgMphjUbf5+iJurnJekLYowxzdhbseXDWOkxyW57kWa1PSacymu5F05y5CRN+afDT5dpMPZdDh5CzEvQcqxUntIE6/Mye+UayJy/pErurMRcGmJ1PXNhlHJuihzVERjnSrI5k3IzxHwZM5EmuOy3XeuYx5YVMLUpJHCEWLywOxmiI+XMx8ug62J6Q0bBceFcnBUlecz4FNNoNl7cBgUB5NjmRsc/FnS4au5uIwtOdre63rZV2HIWNxRmCCPgNpJfkTcpkuC7HTKqeGGmknc5rcf3MQlGwVGcZD4ZCGAyTSm74o7HYby/Y2naVMYfC9yIjrK2Ut5PgBW/61GfMKoNZhSINXSv/z8CYCbjDfR7G1qkVB51q0FUrc5tEigS0Lq3ARlEaJP8ZQNTGBo3EEYtjwgIJ11ZrDMKbQU3iJFWcPZglnk+CjqOigi7GMZZ1o1e9JFWX/Fv2gYf2IgvogCHXhe4cpL9G3Jt+a9Bt9dr7rwc6jfzITtzHIhWnGYv+ikXxr8u0mo2yduMvcuXRrcmsyv7WQ6HbOdwX+5z7KPLV4HsNjfsGQeE522dpBeGyRsimFWezAAwvb3P4mwecpsL+GB1F8qxJLet02A5CYKS3XLg05PF6HCSFdRbHqwRbBZrL+kZBJRVyIITFL7NcxpXiop4CkXtNZc9E3GAaL5BgezTVQHdhhMK6xAPunKkxoKkbK5PZc1uA6BmeRTIWj9a+2gPmxaxqbl75kHd+7CEQBMUvQLOZSrh0jqHovsmZiX+zq+rpRh/RCosjaJfv4/WRwftWbp5YvL7HIZCaeRqfnrb+Rf994FjSp4KY0zLT5N9WOmxAoUinFa/tJ8NMIiXBOudI5fqQPp54vKAFQDMaIQQQs82wvZCywNUOa0GOEEAWH7Ijlgk3VGOHhfqU6kEjYccTeUEICp1a5Yst0azLOoSSZzlzM8qFfErw14bynSJjoxsKNZJZhJk5zCiuNphf0+DmlRl5Cm2pPaAPhTnNWzTA1MSaeP4PIUA2LWUca+FtB/0OhNvXlVXFcOivEYpOksdDMROaGGthigdh2jnOYqLRtS+KNYEL5gdjSaJAUg2jcRZDlYg9W7mVx5fhRzvM3vkHmUKM0oLZCk6ERyEa05rToGOGRDl8eiXTvmJv2YE0OfSa02N7YfV3dhd8y/K7nXrTQLONeOAENWGvVjUbPMXlrj7EZCZ5KHjqer6b3HNhphfY89oCGvwpWr3QnWngFlCoTO7//Vqkw4sthE+Cvw7vXgM14EgBc9ar6sS7BxgmrcafsAgvRal5OJE0pbiynPmKKOWIiULml+JhU/Ebv1mKWZISMAQ5Vjj5WE3METqk3udbmuOOjvOMYDcwuGADm+i53onvnu35t8N6ZKHxWYX7xl4WZ9fu+1Jhtj+8HC+t3Bm/2Zd9oxBsEb5N1glnyJOn0k4IY2g1v95p20bVMLlxSW2phBrGZj6TsZCdWwhxU5wcQVzi+5bXzY9kwL4iz5LpLgSR2odew7YH6c1fWc+LIWnFlIQi8jYa6HUuSwqw25xBw14D5IPStgdq25bCai3DOFMaa9h/avBOP0mGom0JMsausfckEhSeuypnSPHDzopzhfYFy7qXxBq4Hbsk43NH8XFvat8nPQeDLea6tV3nM6/M8LRVbW5x3blm/Gm8j4DntwPnG/ts+z8SDGYFpad9V5ZlpJvtRoOH9haXg4nJHybv5MewHiH4SECt7QZNLtDEaxWqqq7buoY1mduvtY0IpS28jlXHS+S6uHDDTx7jd+C6eppZ8fHphMOJcRrk1oiY0vJ072wlZk5JFJvuSL+h+a/KtUWvy0XpTjyqyrca6qDw0/9FYTVd2WxgSEkiXiIiHWsBzcXoapW3/MSlP4wWp4qKvSs/bNGVFQmDtrLAWqBEESN06c5KAeBH4SYe+SYr1mI5RvhQlahjLLuEDeipSnBXR8kuW+yksLyQKGkYcRE+HMyQ+9VeKbYUF0CECcx31cli20p1y4eWCTKO1JPYLqN+DDjQJNZnFWve8iXKIhHeuFdGgoZ/b30AeU6tmmnaXpBxY4t44kFWaTbogW7WDTUude9h2aOyirFknQfolGDsEmhiChcwPcwqBfyABJzBRVHyXDkpE5GMYtcbFNjsHntKn6sJOb2AZVqrTQZtCpmBQEvhYvUDn2AeOxU5VCFmHKMOxkcUF8+yIQiQi6BIiRqs6d/e2IEmeVrOQTEwyfaxiOzeWTpS2Ff15b3/eB7PyOPZ5nGalxaLG8q0JE9nJWUw2tfWl009h6kTUvt260Wcaexy4hIWkExGxfwHJOwirioOyg0n08AQGozRIN8/Mn1DqdxKD7SWFaBlHIpJZIWCVVpgTexCzdi+Ns48Sq7IU8pwAqVCecTg+09uyub1JalO4QyKvJIUvQ+J1ugJVwH18txwssn/Be4FjA7wzRU2Fl8GeGhw21G3exXivfl9ftpgGiV0Fqsmu22gJp2MRq6SIFVxy1xhEeg5/qJYmEsOHiTJZVydwf7GkzgZnaLmcPl7sooRqjaAWftdnZ4saU4uxDAypLBJDR3Ld8Z0M/L6TsMB46AcjmA5CXv88inDFaGsrFiBII9RkoSXKDIp+xcn6Kn6dyNuZ2wuZjXvwsqG0ln6sSGwl/GAD2LexggG4XcT9sNhqF7Ozld1N7nfxTUfj+t75z97+vPOf9/bnJ//VeZyw8TH3+M5Dnpsakz9YWrOTn+XWxsLwXBIejdKFVcEE47N7RItvOtKpMLQzD1s6E/NkO9PrfX4c2lOj2yZ9ygJoBnMD4NS3w0jMUTYzCSgniByGV7aTUJtp1omoUl4pypZOHkDCP+cA58xP7BUCLN01Cfv1uSyEkO2HIE9TCvbt5zC058X+fA9amk5AYxj+Cvhac22WLteJqQNDQ1dRbzLdih3Z2EY39nnGvhcXa3TXHJLpIFnNDnuppiKbvb2eiNVlk/sKfS84V56Ff2Y/cBOmZpTAy92vcKKuTJmMQU8KaIJBN97yylDPzbA/D+/ygrYNoMs0326qtWQZEEBmpwvayUF8mia7hLpbjJXyTVNJm62YnBCbnUFRMXcshmFr6BjButE8asxqjIW+MR26zeG5q2XbXKt67FtjZ63MeXBweB4rwcPbeUx5memjybfW/9sf97vwX3dGFm+NPlhXf2/y0eTm31GYlDyny9Oxi4gmhY8p8m01LOtBVwOdiITmpxfmK5sDc9jbmRgP95h5qfvJrLVtCzHCTudK7neGqB8Mq+R2dWEjEEcU3w4EgiwlvnomW/fDnpOcFlMfga7OprCCQIOUo66AutoDMMfWWOjazPgbGs4lgKENI+IUxZQzfaD7DnQwxiKliDNSUJt2tq4TMBGLJerNtGUjAWsL/mWVDMlWjG/W3njXtSo37SBz7zqDVQfkp/etqb9jF5XgTI40LBsdNLRGytckdJKcW8JeBez8KfBTx2bCV0g3lHMK57S1WqfwLNJZJaSMQ+yZyCeH7VVHpJ+Ad82AtSWSwCCTXKhIAgcL9Gnns8iOOLRg0TQ/haVTj06EEecFOQUCgyrSSMYV3JhIkFjbkb+Yr4ND0UkPS4wOiQicRimkZ+yMDbhijAWLuHegYWPKLvQpLH1y7ZyP6sSX1Obsg1bmW5x3WBUS8cVg12PALKHmZVJ5hRdeWSfLhUskhg8jkEN0K5IZ0Uxe4N/NC0o+2GZwi5a3ENfdlzEdLbFTpbaU0ip2qlkxCwf5qGwh2A03A5L3Ie0FJi6hiJjXitDx2EsOGeXWekxsUHaP8ICGoQzwqjSNRHVrKkgtI8J8X/rWtiMrjWg9QYY6iBrrhGsCnOtn5k/X1u2NpM7sBRDvFN7VvTerR9iSkd3S/sFCUXGEOppKhM+2XdTIct/Pd4A8n3cKJ+Nd+tshmeKmrO0R1EZrOkomJDzUeh/3dwoffXkn3ugFjb9TFwYp+nj2b1zo/Dr40n7CfdmsB1tcxkQomq3skaVMOwGBLtDbKGvh9R+vbCqhBTs5lSQjvOhwsvJYUmN5jJlEpJt+4Cvi7gt97xQ+gkR0Y7kTNZpbeHtnEW5MrclN3ZhNWxeiabgmaULM1ImZqRHd2mTZRmJ7wfGTRy4RaJ7uw+M0CpVdRMbTyxcRVNyKmQcW0YbzD0vQsuYod0YEPMqDITSepCFzCc4JUHjN2oFKZ6a3EHZDKByjqHDci4qTVEqJvMSXENTY/UkK5ymmhH/IWRWdimWJkoaeWYCUSsmGwxIrlxMd0FnH16Jer2UeR58ORWBc9F3xeJnvhg4mnJIlNLFgR5CpImZ9hYnJVGo3F2PPf8xJeBMpatUGzJ7sSjHcWXPJXR0ulco3EWIsTq8ucfgm0we1hV8MF0SqGzOepic0pQ4li9ob8CYC/hRu45AE8Lgh0oZPDRd/4usn0GS1E9k3f8DzCLr0CZOtVTYqGW/WisBYFJ2b4mJziuLZWC0WLYHIOQ8WC4Vonqc4dAUrG07irbQ64GXs6jF9wtpShKjryq6wmqqEmT5YvpH0Nrf2WsGSjXqanXku6E42VcEkwn8J3/vsvm1acpiZPkTm+ZTjL7yTYSefq7nD/YyZZEZvTI3g0wtgqU4DbzYTqzOL0TbNlrELiMJm1QTDscvolMuePNRsOBf2/EXsOZgo8FNeOeNwP1cQUvuS7c7CgiO0pNbYii1aPPWWgDnHMeawkKeVV+Sn2Lo6GAOD7saXZjkntXley2tpE3kwBogCRPuPuC/0eMfKiih+tk2R2z+U3z2c3XV/WUkxDcP7hsea1Yv6qC4tQ0mc0EaNJARI3UbgvWD7pAtk7i1kF2XNbpdCLnt4sHD2V+HvwrUu3TOpr3bOFt64FfiNnyMcC0txDdjXPIiEsu8uIVERka1u0uyOAhPBYHZWPRG5ymPNvzbaOWfnmeoAzMl6TxDs6BGaJgQOBVvls4YHm4+VFmNZk5lVbUoME2lhbu3aMvvC8JxAmhn5boZoIlxXNgM16RgeUYeL8o3JvT94ekqr45WMN96FWLgL3Rbpj/1eqzzeB8vMhbyBbb3dTu3YNSDZIxQqHB+R1x264i6RKE9H65ubyVbc7LJdiiohR/fWxJey1G4Vr3aW/1F65fvMIkuAfVd8ltTTW0uQLdn7RagijsQ1roGhrdMaECSeKVlSeeHl9WkoQr1IVGES9w+Ib1xnxmwxF8pRo1Hk2s40j6vxLqo6h7qVrfSDvVS0G9ha3jrEiDb9h/MFThxkGwuxMvQaYEvbh969efolxg3TnikqVJkZ8gSqKibZoPzjHT395ORPxNuOopwSUzeJwsvwbieTUwOFGE3Gv9G83Fcv6Ierws7iuIU/kr1fI5Md1pBW4RDIEhaQ0IaMsKcDHSUIsq/kKJ09+9UYYEq9czCJEaoVfZytgbPeIdi7nt0hQn8RNZpfO2CiceBz52l2bupdZZ9CsnMieZ5aRR2+owDizb2gfR6gprkpXMx1UUSYmkwZ5cr1Mspt4NnO3cRqqJj7I7b0XJAFGXQSM8qp2peGyJRTpHUerxHm6Ry8RNtKBUGt61lgzWukfSRMUwW+wL5L7hLDpSh7gjf9Y5HdJOd8gQc4vogxHDbZLYp+Sg9ETd5YpF8W9iLHhKaxwfgUbMVsIn6VfnNH+4hq8xNV9MLZWGqOHr3EajQj6pGoYSszRIkrKaurhNXLyuL1UzUgtpn1/4dUHfTU2KanWF9iYt7+MIfZcRgRz/PqCbaKDFeYYeHzswfehTcR8NgwSrZMEsUfpbeqS+VdlJYxrMbG2STqt54OTo5xHoklMzfZsQwQhU4gcoy0vCJ2+o/7nUYeQMA6MOAINcyOzHuZbQs/+QQxUTDROMZ5LuiqB7VysH3jiGnau25NPoh6E3PCuncWmS7Qn53srKvxWUDWD/qOsS1Cd6HP3rrQR5O7yLdb/+Mm327yrXWzP9vHFWa94AzLwdP6paN8vAan5eHRbjK7BJF6RA22JmYOUTQ7HfDs7c2q4RKMMWRftlxV8oi2/Gj2xNEnOoRAZEfzkL7xIFP2Az2sVHrBYsKe404dJBB2Y2xgLDX58Bo+FCz60OIlUyY2K/mmPiB/40gdhdnHYaCHoJ7oGFkVDlsqwgvbCGBCYFtlbC5bZxXwN/RmCQtoQY8NEok1Cjgb4ljG0W9yY4aU6DgdL6xBcC4uKscgkeUNMpk9n4m8njpY1My1Ec6psb25Bpnmbr9XdqEgrgPpgM5j6muMO++sncIzHf82ZiE9gUeoC//V6fPOnbix3JjHJo634X3fAyZ468H4phdB8SSlz7AwCcE8PM5K/QsE3W9qL88z47DHN5mXMcr6rj3ZtAnBp+DLO3Sbjndfi4Upa6mso0Iz7UqFn1Uw28B43HgYzcZYVSphGow7th6Nie+nHTM5aHguFavJmeXWxmeO+n/chFTE3MbxW5PpTbflPjOb6/3zlC4tFVsVYcwoUblcSl67SrqxKTDASmkSydVaHdtTx7+sr3lpebwHMugZBHaAQHnsvW/XfRlqhxltCeuc82iEPTWekjoZe59m9CDNJU9O3f4UbvQSS9z+s0xT1DVZRnUG1qQOJZ9t1XS2YMtevQdmSZIh2W+wCpj7XJaZw0NSEit1UVybsP6TVD3dZLxk92A+B776KIdRYSL4idWGrFM/DUE4/Q61/SE4lZwCaNf3n+q0OWzR0qYtdvw3XFjmF9X+eWvAvXNrNK2GaYdGuHJmNnoLVl8JcSIZ5/VLm0TumBjmqYtt2Qc/knHS45yDQxVWTh1gIFcsfEoq+OawLSyFNnPVwZXZUVb7DIA7BI/xce/UvWpMRI2HCxQJiwjfWPg2Ox8zc48tRtSFPjsJNaL+7SbfbnJjERoKoxDRvbOM6MP5WujOdON5HAfZF7FMENl7GXLHmj05UpFXxGYS0ITwYjaE7beTDm4tQ+s3EiLEFQtgwblxULZRtv6Zvn69SCS3L8a65Y3mWLuvQJJYhz72UvT4M6XkjWlMsIu1pjp9fQ+yfWV0EOtzrJANot1S8VqAbPb39aw5LpC0LI/GJCRqrpS4vmPjjdjdAAVWIkjG0WyxNNMR177boX5Vw+zHulJj6cwJ2xxcuaOu/Xws3GDDbLt3+DmLSiIC+QapfNRTIRFk8sTrm0yXKFs8KvYJU2jAELInQsL00WxSQkzUwznz/zgC/rO3m0hjao1uFDeiIJv66GWT0UYxhqRh4RAV43HjMFR/8hDH5VW/Tkhi1+XLjm7nGz3pUNGGpomwJTK9gnXiOA2/qiX0sMjtpdVOI7dJUCIzjdmqzHRXC/M4EZrnp+Xlo9G3JqLm62jHVrIXIhp7kPxrCmzeqWMyPZa4giM0daYufIPNSwTtM/JypxWZA8BM32R7lnb+zLZ8NSqIDswcX8SGEEF3ERVwQ61WAwIYNzhG0WLMTxBuzdRLB7DUvPeaPuJhdqXFKBSipAaJOcXKYhdl/7vCmWNJBAMkeepS1P3kMjXSGoVnABunqBnTjoatJLBlfmzV9cPS1yiW72B9W95C6W9kTBLesg9/LbD1B16lSmwc0pG7eSQk80Oc3IjURcuF3ezY0KrgF0Wkiy84OrLRiMgs20LEcQF4LZLxrLawrsPAmg50+F1tEduOAtfbUWn3v7Lf6XhnFsE1q6HFaHMRNaaPJo3n54KmBDtU6FfgbV7Q4dvsTUcCoRiyUecUF+zGYh/RiwxkhJH20rjheliQZOE/MNiS5pmOtrEiuX4ANt4UknWMMNzcWJhV0FgshMyB7hN0o8bTvo6hvXqjYV7abl1SDM9aKDSviQwb0qILr0LSda7IS8nZvnTU3JiDDncu7rSRcQbgeyhdz/FYVmCQmc914SRmV4B32vfgWDbcchXddh7kJSrhT+VMiWxDHu4+CnCMcU7qaSY/Hgv5O6rFsX+kkTgpI3D/jr/9mWvAQuQb4hcBpdFxQFs64zQr6eSnkUeacTdDvY86mVlgRFNVZl35IDhOGbMODcbyxcY59f9FCfmuUbA0x3ZEnKJ858BbsDZ4up7i1Gxdwxtk0vFsSpT/78GbCPjjFqplk32yVyXUZxtMZz1vPWBiUl8cZdyFhn3whF2ztlDqNLx8vw8VVb+fRr6NTLBTMEYRskmJKxKBosff3DPN+NxV5bQYY3A1U9u9lMSs5Cre/+xMSoGcb02oMzWhTnfieyedcMqYH6tD1vSCDs4ITER0H8VkGb7QN5ZvN/loTmDTY4vUFxqFnFbNvomEaTN0CdQJvOV0QItNlxdXESJrW/TdHJmJtXBqcKifDkKNIXEClMpMEIX03THH/jLCPPOI9jR0OrgD9im/MiPh62LjRRZMBJ+zf5ogexumlR2KhCoQRY37qsFwePWZUMXjhQGgBiBWNsUouDdBo6nFVu8HI1DfVi+PRCPsIWemIWd0KE3aZh2mlYp6fnZ3mMhphww59oBpb5hbZ2TW+riQ7G8kku5Kk2tXn+mopypawu1iy7XWB4LiAH0elYYXu/HjUblNxwo82Peu5+92kHhv5V4iehsB/9ePsUfO75iKNO+pCZH8VYlor/E9uxDXHILRTBoWdOd/frTy1sQdRrGOwDGCjaGT9Ekras6qZGXApNjiqiuvnFYaOlHTcnbBnklM04TrYsioQs/KWK3HyXDamNpNbiJ3nox7F77f53lY84u/Qvc+JIjak3k6NmPtG8u3Pvyfpxe0fg94MR6JUQAAFmlJREFUWDiyM+H8siGTzNTm5BgtPzhttH1Q0Ly+UsvzYBDnHmuM+KqgpeadIOZWeWfSEl58PoSL0rwEuq61UXq7vPxN+Xpioo8W+/l2dXn8DTS2yzrFeAxeshO4b2u3ex5d7rBqTmjCAUbcRplKG4PYVi/oECtFYWU8FhKWJtTZdHHUueO3xYyMx3nmRHciIe76tWxsFszYGioNOvZ+zkypq5MZnLEA2p3HsBfTU+ea1E7jhJUUFltzUpLBAeWcB/RJsKKMHPygl9q1vlAXgBhmYwyHjo0T5fFzrdorXLiWMKewWQqcLXVj6o36nUTos/NnZ6YpUtpLQ+Tn4I37gEejO/HkCSgDcdrpS90/KgCWZ3W7tfvTNE0zCv60UUHTj3r9sC4uA5OVbQBEamII0lQCkeMGZcLOF3VGTMAGjpXKvqZAZPMw3AioIkmTEAntIEGmTE+h6QkCszqzDdhXkkaJm1gOs6mJ+DZ29zb6aGKbiObPZrNe0Kg0wYUzxpiVKWvcAJThwn1xp+JdjNm2tqbAKuyjLDhFf4RVPEQxSCvjfzWL70USfIdbX0mFaK8byv6XxFsP9ACBTn5OZNsVQgpxqM7MNkmlLBbzmMDawKoENFItr4vthu+gefgoY5qym1BPXVpsMs9cZUZvD63E0FAW687QC5y9VM8YYdzNxZRDUZYL7Yo9Uy1J6KUkFOfH4oXywjzp2CkOvdADH2ujpxjWREHDCH4YOfnJ+mOhkhrzrfEftzHroE+ZAnJ0j1eL8sN421nQPL5SZ92rk+i2IpuY5pfrwxWWgoICC1bWSV0aoNtX3yMHw8hxopIwcQwv2IeoMIGj44ahKVwkJwLkPJpf5RMXHOJddyjgMus39Q/SEev2NBAczHIbZRPuIsrcc0wJ0V340xZyNZdvbZ73w0R3mWaZ4b3MPfMik9yafelofNRoipPeuTf57IwcPCui8wmCcSJzcj91Ela/eAE/rKRB+zCLK8rWasapTH6HdBptdZlRsDA22JbTtThF2ckehne73A8Xtr7rnWfRMBD6rmaUedM6G+cLgS4UUiGfcCxFOtyCqpxkEasmlUQtm+a3cHgggO0dnA1HXhxP7eVaOyYmXiUGjdZjbkTdFglY8xxGI8oeEhqRrevaGTLdtH/dADlyGp1/lGuGJBahRiJzNj5eFqsePPwk2F0fZuHHLj6eGoDdtfco1i+gYQMhcRSny/nG7I9xNIxCotd9unidlywwYwanoDr2UYsIgA6c5FIM5qMhSAPKhN3GNhASEb436cLfRJQC3ukE/cazoAcrjoMgblP0c9dRsR2uKplno5jSihZmijRMMwB828fjTtOZ7ycG+7DoPFIsFZh6ipZDBcF8sxILbB0FRbmNCF329WklaZEopyOE+x9Uh0AvaI2L0SYTa1Gn6O5CLMRj6Vfo3kMfZqI/mnSSLnxn6iJ34d7IZa96+TbdVtRgc9Ho0OODDX7MmXsy841F5sKwf+53oBOxsDe1WnpZpRjbWq9RbDQ4x4YllGVuW+b4LpC5sSGcprKpw9cxlwbHy5XhMhdOwWft+oSJYdkMJYlWGapJdJBcMf9T8RITh5o6Ee4zQA3A7gyOW9gcRincSNfGqdY4kmNrCgsT67gIBGXVMdV5MKIor43PVJu9LYkitUlyJ2FiJmnTqiS6MWFoyYM+pp5udenEJNKF1aRs3MAyTztXy7Nbg5hI5uiYiqqI0bEt5YZBIfgulHhDY4fRMW9l/Sqz71hIj2z9lIm3gTHKLvrMVpLjtz9eKnguxGxIWMEJomNw8PSHHycZiMzzsFhoc1Lrr8ObCPgu1IRuYw1yGC2F7zI+zMi9UxfuFAaA+H88+nGf6ifYnI2V4c76IQH8zjxRXi4dMHltnU9tzvO4/jSTRr3S3m4jt7RrqBnWfgocnJngFB77+AiMhuIhT0R1xpm1yj4yNVZ8i+Ek/s5zaVmXYMduHxZqQq0NNZDvEjqrCwjYI6TrXkP6MM3ezETS4viZEXWKMNCnQCBm2/dgc3SzlvusNEsK5Up9X+bLkaRMlv+sb8Hed1qv3Y/ruIocEoZX9ljKBGPJbj0i1TR1kkTGrEluE7EUxj/Wq7f50hplXT2LzPQa3wc+W2tHMOLspuSLwKYhLZXxguF368Q5rogeqTY5lYR1bctNZVZKZ3drUCaW+REFge09U7YwY/swMeknTNRKFIrGOoqJrDpj3j7H3ZwhYnj9j7Y9Dfo56m7on7XqYZTeeqTxXYo/F5ue+0XgaJl//JQ9MmbWpnOLrHQaZxDJvfPnP88E/d//uI8B2RfZ5/ZGE2unkaNg1R+JaCqhtkIcHF6n2qSq7ixAB1XXP4VNhFJWiNSXA8iYpiq6ikUdfkAqXicr9tTIbix938XcoxsFeht6tcioqZZwGkuG4Pi0ioC/KIq/W5seVZ+dxjz4U1im34GMY7A+uys3jaU137HNNOe+6mbFrcnHmBC3KaEYnLAsrswzOoSYpfnxli6XfahMph/61hjvwxpvcoFVuDBT2murkw7jQ2x1cgszvC+2hoQXL/rmYA7tfTZcuFoV3yIB55n4WhhtlYBJ+u1ILpfk0WCBDGadxEfZVsZAUt4Mm0R26qPHFMvcpzNGimteSCy2GAEZ+6tcp6cjoxb39fLo+cbNAoktDD0SbDzOmGEiuY/vZHfXkkcKcLiedZxZPp2yu3Zz0+9nN+1qwzNxqo3wuTO1fquvVqRn5EvrEqElpyBlmmNwli91nhkFm4imiBsyMnVpFKC074qmQrkSnPoVZPiUuB+KfJ9R7EtyUkSsnzLlqukb8QnM7SYfjUXks//jCPh//pfPUSv4BhE85jQy3WicwBAWGmlSbO+wZXY4Ydn3tLWvw/f1fETx1A1ZOy7YG4WIqDGHEyHcWOSeyjYyc+00GdY1CtxvkEJ1IYE5N0M1mejG7mMkmvmdxDZAdyHplAz1pF8XJyJm+naTJtSY7kLDybPfmzXOpzIxKaHa7u1h3553mnx06je6yfTD+tbIT+HQ3d7wpriTSOdh8yFi3yLMmwYx9eXu3qFjrGuDq5TfrIZqy8xfk5F1NxAtGnEcuq456cLbZt6wrNrCAr3LGtaXSLCBiuI7TanQw+n4K4JBlqvURMHA+wxx2wsTQT1TPrs+T6bBjOFsDslraeNPKypo50O+B+tRanDXEabDxiBmJv0I2BwXixTSGae0YZ0WJhbbo/LZ2W1mKsSw0GjcHsbocQSNtOG6KB9j48NwidALr6Yux4wGb6y+EaQCh1b3ouDwL8YxOm0Q2XtBj38s/LjgeTyFZIZ73F3tHai2pUQr8eGYTTgXLgL8FWgiMCrXwuFw3rOyBnOTnr4UWxV+pw36TQT8P/7j/tn5rzubfOfDCzBDkDo7mJ3Z/4vhqcvY0UW9c/aL1mXgZJG+9/ChPTP1JDFr/bU1ufH0BE4bbFDum7odJgEQcrhVGovnuhO1eT4U2WTXB63atwfBDL2VlCbu80sJtk6sHKwOjqz2/8bUxqa3Tp/E0mUofDeidqNvNyGhu6n5WgNVFe2gq/lzypcm40AZhkduD6exFK12CZZRU7TYpzWecbKAwIvgeVrVWDnTe0wU17E0Rx2l5MM9+IPgcI1SJnWwrfQ5dV17ms4e3CeycLipfSpiZBMsR3r02Aj3sbCLa8yzELlVVbDqhIZpIUK8eJAjaLZLS0HcQZ2k6yxTlMvsUZJy0lmduxFNlwIe3xAk9fAQWLeyRRxLaXx5a0oFmNJ24U/h4THb3QoVIpp5mc3YZYsvzcaF/8UGMf2sacXVIES0dFECIWBdRd8LMVNbZoqzGmCYmbLDLERL+69vMCdCSuHpXew6HCwREUUXbd7leOg/qGjl9SnTV2hpNwg55byfCqUThiHe8cC+N+BdB3GMww7bWCCZJiMmbqo2uoODK2U43mY4sf9oHpJMTEzSGkufPnx9UvIkY+VavsNi8LhpX8CdLKA0MJyMbky3KQJnv7kLS+dbm5NzIAd/6+o5dcTYDsswQUxg3Y6m/swsRJ/aXIQzGKCo6ddmO5HUO0lcR+FOxMTT9iUsY5PFtEv715AkFANM0EStTUP0eErEn7N5RUSafeOIiHm2p1mtSSc0Itx12M5D+Eb7a0bMwv5ZNWjeOScwvYi6+Km5RMHMGwan8/oiHRj0dVtoQEYRcM/WwiTXgZQ1ZKgSScW8ylnZJLKbVUMUSlAh/4KweL6mg1MWVjEb87ReB/Uyht8K670LtdkSRzD7srJ5TmVSZ7w5ordx9pP5UoiXZCgwNkZGRm2O8vlNOtGFWzE1HfQn6/83FmksXW7m1tyEiT87/b97+/POf97bOAPn1uRfH/KvW//XRzcxIiL3TpP4ZYyC+fn34VmCXwOzOgupOR3U2Vl6AlaOyyKwXKK91xQleETwTvOFuMJqGo/ZqFlfzokY8f6ihEkKkkeH1kDO/ZljIqZtkKkdOk5do1rys9ZjL5VpSnNmNRYODpX8+XgTAd9Y7m0ePu5m2OnIQCzSeJ5UyuQ6IJGq786+sHcIFkSJhhbDfSStliL74I+yL9tpi3NCrP5fpP2TiebpTk1ofKOqBU0ZF2KtkExTyZ1jp1mCDoHzIGXOMnN3s7k1D4Mz0V1bYGoAUVSJ7bGWKTJakEQkIl34r85MwkP/6ExMekyV3JiHW9wfYH+entJqUm5qrhk/pyVgOFIREdFdSDq3ydmsHEwfTXliyM0mJgpkOqPJXMwdY0PsHI8pO+JU1fWeSeC27iQehUASrW+BeDo6MgzjGd4McXnwel8kHOHkORoHrFLGO4BJjdhvncCWOBAFa4A5/2RhoaZCk7g5g7VeYbKlvTooMbFZUgPqvyIp0zhABMvEsGkGxoIprDszu4w1JlHKHv3yPuYEwqQ+nmZqojG4GjeRG9Od5S58Z/po8sdNPjv9eW+Dibvwn3cappl/3eSPj+FbyzKWh4Yd3IfS/Kg2EasRSDP11pifFFO2GKFEB5D37bXD209rmWSIXsk4NBNNDYmMhkciNI3UaTr+2EJjOBJ/5lSTDz7YKZYfa0rbASCzh4SQURxA2xKZgZBlCLeXqvQz8A57N7/4igqFQqFQ+A3wnpXgty44FwqFQqFQGGhXF6BQKBQKhX9HFAEXCoVCoXABioALhUKhULgARcCFQqFQKFyAIuBCoVAoFC5AEXChUCgUChegCLhQKBQKhQtQBFwoFAqFwgUoAi4UCoVC4QIUARcKhUKhcAGKgAuFQqFQuABFwIVCoVAoXIAi4EKhUCgULkARcKFQKBQKF6AIuFAoFAqFC1AEXCgUCoXCBSgCLhQKhULhAhQBFwqFQqFwAYqAC4VCoVC4AEXAhUKhUChcgCLgQqFQKBQuQBFwoVAoFAoXoAi4UCgUCoULUARcKBQKhcIFKAIuFAqFQuECFAEXCoVCoXABioALhUKhULgARcCFQqFQKFyAIuBCoVAoFC5AEXChUCgUChegCLhQKBQKhQtQBFwoFAqFwgUoAi4UCoVC4QIUARcKhUKhcAGKgAuFQqFQuABFwIVCoVAoXIAi4EKhUCgULkARcKFQKBQKF6AIuFAoFAqFC1AEXCgUCoXCBSgCLhQKhULhAhQBFwqFQqFwAYqAC4VCoVC4AEXAhUKhUChcgCLgQqFQKBQuQBFwoVAoFAoXoAi4UCgUCoULUARcKBQKhcIFKAIuFAqFQuECFAEXCoVCoXABioALhUKhULgARcCFQqFQKFyAIuBCoVAoFC5AEXChUCgUChegCLhQKBQKhQtQBFwoFAqFwgUoAi4UCoVC4QIUARcKhUKhcAGKgAuFQqFQuABFwIVCoVAoXIAi4EKhUCgULkARcKFQKBQKF6AIuFAoFAqFC1AEXCgUCoXCBSgCLhQKhULhAhQBFwqFQqFwAYqAC4VCoVC4AEXAhUKhUChcgCLgQqFQKBQuQBFwoVAoFAoXoAi4UCgUCoULUARcKBQKhcIFKAIuFAqFQuECFAEXCoVCoXABioALhUKhULgARcCFQqFQKFyAIuBCoVAoFC5AEXChUCgUChegCLhQKBQKhQtQBFwoFAqFwgUoAi4UCoVC4QIUARcKhUKhcAGKgAuFQqFQuABFwIVCoVAoXIAi4EKhUCgULkARcKFQKBQKF6AIuFAoFAqFC1AEXCgUCoXCBSgCLhQKhULhAhQBFwqFQqFwAYqAC4VCoVC4AEXAhUKhUChcgCLgQqFQKBQuQBFwoVAoFAoXoAi4UCgUCoULUARcKBQKhcIFKAIuFAqFQuECFAEXCoVCoXABioALhUKhULgARcCFQqFQKFyAIuBCoVAoFC5AEXChUCgUChegCLhQKBQKhQtQBFwoFAqFwgUoAi4UCoVC4QIUARcKhUKhcAGKgAuFQqFQuABFwIVCoVAoXIAi4EKhUCgULkARcKFQKBQKF6AIuFAoFAqFC1AEXCgUCoXCBSgCLhQKhULhAhQBFwqFQqFwAYqAC4VCoVC4AEXAhUKhUChcgCLgQqFQKBQuQBFwoVAoFAoXoAi4UCgUCoULUARcKBQKhcIFKAIuFAqFQuECFAEXCoVCoXABioALhUKhULgARcCFQqFQKFyAIuBCoVAoFC5AEXChUCgUChegCLhQKBQKhQtQBFwoFAqFwgUoAi4UCoVC4QIUARcKhUKhcAGKgAuFQqFQuABFwIVCoVAoXIAi4EKhUCgULkARcKFQKBQKF6AIuFAoFAqFC1AEXCgUCoXCBfi4ugA/Cma+ugiFQqFQuAAicnURfgh/bwJm5v/83/+HmZiIScYFjZ8sTMvPESD+1DAz+iB0/MlEpKnpTSGIPlIj/0lMQhB9pEYQfVM2/wl1iT/Xsr1QVCILkH5q2R4WlZgk/dR8v17UEcCLGn6+UFSt3blsLxX1+OLkSVFDh/EXp1Hka0UNHUY7Vewk+6JC2YiIhgx68FeI6Dv/sryQ/o/m/qsKT0L8ywv/wt8fKAP/eBme5PILC08i/CsLz//r/9LfHGWCLhQKhULhAhQBFwqFQqFwAYqAC4VCoVC4AEXAhUKhUChcgCLgQqFQKBQuQBFwoVAoFAoXoAi4UCgUCoULUARcKBQKhcIF4L/1SSJ1DFahUCj82+JvzV/0dz8Ji/7+L6BQ+HcA899b1/8b4d+nqf8BE7AyQRcKhUKhcAGKgAuFQqFQuABFwIVCoVAoXIAi4EKhUCgULsC/y3J9oVAoFAq/FX7TGTAznzzc1kffd6dQKPxqbAcdA95fpH8qtu3592rhL4n970jtN+xyv+M2JHOjX/3p10ffd1EoFH41TsLOxuDvJg3/vtiKuL9X8z4Qzt8hwP8uLPCbzoB/BGvj/j7NXSgUBn4rOVj4nbHtJ1+dzv6ene0fSMADD2bPhULhV6OG2zshIomQ/o7t/5hT0+ReREatMcArWfxWzfLPJOBi30LhcgyBeFoGrvH4czEICe88aP/fEyunGrYifWXfx5X9DXvd77gG/IMo9i0ULsdvuN72b4V/Uvtva5HuDOZ+UNnfsyl+xzKRKjLJ4LB9tA1sj6wXpjuFQuENWM2G63Xhp2AVjPR3a+eT2N8K8G19H6e2JnI5/k6vp1AoFAqFfwz+mWvAhUKhUCj85igCLhQKhULhAhQBFwqFQqFwAYqAC4VCoVC4AEXAhUKhUChcgCLgQqFQKBQuwP8H4BAJSrpDFqIAAAAASUVORK5CYII='>"
      ],
      "text/plain": [
       "<IPython.core.display.HTML object>"
      ]
     },
     "metadata": {},
     "output_type": "display_data"
    }
   ],
   "source": [
    "fig= glucifer.Figure()\n",
    "#fig.append( glucifer.objects.Points(gSwarm,tracerVariable, colours= 'white black'))\n",
    "#fig.append( glucifer.objects.Points(gSwarm,viscosityMapFn, logScale=True))\n",
    "fig.append( glucifer.objects.Surface(mesh, ndfp/ndsp, logScale=True))\n",
    "\n",
    "#fig.append( glucifer.objects.Surface(mesh,ndflm, logScale=True))\n",
    "#fig.show()\n",
    "#fig.save_database('test.gldb')"
   ]
  },
  {
   "cell_type": "code",
   "execution_count": 62,
   "metadata": {
    "collapsed": false
   },
   "outputs": [],
   "source": [
    "#fig.save_database('test.gldb')"
   ]
  },
  {
   "cell_type": "code",
   "execution_count": 63,
   "metadata": {
    "collapsed": false
   },
   "outputs": [
    {
     "data": {
      "text/html": [
       "<img src='data:image/png;base64,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'>"
      ],
      "text/plain": [
       "<IPython.core.display.HTML object>"
      ]
     },
     "metadata": {},
     "output_type": "display_data"
    }
   ],
   "source": [
    "fig= glucifer.Figure()\n",
    "#fig.append( glucifer.objects.Points(gSwarm,tracerVariable, colours= 'white black'))\n",
    "#fig.append( glucifer.objects.Points(gSwarm,materialVariable))\n",
    "#fig.append( glucifer.objects.Surface(mesh, ndfp/ndsp , logScale=True))\n",
    "\n",
    "fig.append( glucifer.objects.Surface(mesh, strainRate_2ndInvariant/ndp.SR))\n",
    "#fig.show()\n",
    "#fig.save_database('test.gldb')"
   ]
  },
  {
   "cell_type": "markdown",
   "metadata": {},
   "source": [
    "System setup\n",
    "-----\n",
    "\n",
    "Since we are using a previously constructed temperature field, we will use a single Stokes solve to get consistent velocity and pressure fields.\n",
    "\n",
    "**Setup a Stokes system**"
   ]
  },
  {
   "cell_type": "code",
   "execution_count": 67,
   "metadata": {
    "collapsed": false
   },
   "outputs": [],
   "source": [
    "#this accounts for the decreas in expansivity\n",
    "alphaRatio = 1.2/3\n",
    "taFn = 1. - (1. - depthFn)*(1. - alphaRatio) \n",
    "raylieghFn = ndp.RA*temperatureField*taFn \n",
    "\n",
    "\n",
    "# Here we set a viscosity value of '1.' for both materials\n",
    "viscosityMapFn = fn.branching.map( fn_key = materialVariable,\n",
    "                         mapping = {lithosphereIndex:mantleviscosityFn, \n",
    "                                    crustIndex:ndp.eta_crust,\n",
    "                                    mantleIndex:mantleviscosityFn,\n",
    "                                    harzIndex:mantleviscosityFn,\n",
    "                                    \n",
    "                                    airIndex:ndp.Steta0} )\n",
    "\n",
    "densityMapFn = fn.branching.map( fn_key = materialVariable,\n",
    "                         mapping = {airIndex:ndp.StRA, \n",
    "                                    lithosphereIndex:raylieghFn, \n",
    "                                    crustIndex:raylieghFn, \n",
    "                                    mantleIndex:raylieghFn,\n",
    "                                    harzIndex:raylieghFn} )"
   ]
  },
  {
   "cell_type": "code",
   "execution_count": 70,
   "metadata": {
    "collapsed": false
   },
   "outputs": [],
   "source": [
    "\n",
    "# Define our vertical unit vector using a python tuple (this will be automatically converted to a function).\n",
    "gravity = ( 0.0, 1.0 )\n",
    "\n",
    "# Now create a buoyancy force vector using the density and the vertical unit vector. \n",
    "buoyancyFn = densityMapFn * gravity"
   ]
  },
  {
   "cell_type": "code",
   "execution_count": 71,
   "metadata": {
    "collapsed": false
   },
   "outputs": [],
   "source": [
    "stokesPIC = uw.systems.Stokes(velocityField=velocityField, \n",
    "                              pressureField=pressureField,\n",
    "                              conditions=[freeslipBC,],\n",
    "                              fn_viscosity=linearVisc, \n",
    "                              fn_bodyforce=buoyancyFn )"
   ]
  },
  {
   "cell_type": "markdown",
   "metadata": {},
   "source": [
    "**Set up and solve the Stokes system**"
   ]
  },
  {
   "cell_type": "code",
   "execution_count": 72,
   "metadata": {
    "collapsed": false
   },
   "outputs": [],
   "source": [
    "solver = uw.systems.Solver(stokesPIC)\n",
    "if not checkpointLoad:\n",
    "    solver.solve() #A solve on the linear visocisty is unhelpful unless we're starting from scratch"
   ]
  },
  {
   "cell_type": "markdown",
   "metadata": {},
   "source": [
    "**Add the non-linear viscosity to the Stokes system**\n"
   ]
  },
  {
   "cell_type": "code",
   "execution_count": 73,
   "metadata": {
    "collapsed": true
   },
   "outputs": [],
   "source": [
    "stokesPIC.fn_viscosity = viscosityMapFn"
   ]
  },
  {
   "cell_type": "code",
   "execution_count": 74,
   "metadata": {
    "collapsed": false
   },
   "outputs": [
    {
     "name": "stdout",
     "output_type": "stream",
     "text": [
      "\u001b[1;35m\n",
      " \n",
      "Pressure iterations:   5\n",
      "Velocity iterations:   1 (presolve)      \n",
      "Velocity iterations:  -1 (pressure solve)\n",
      "Velocity iterations:   1 (backsolve)     \n",
      "Velocity iterations:   1 (total solve)   \n",
      " \n",
      "SCR RHS  solve time: 6.1875e-01\n",
      "Pressure solve time: 5.9575e-02\n",
      "Velocity solve time: 5.6279e-01 (backsolve)\n",
      "Total solve time   : 1.3360e+00\n",
      " \n",
      "Velocity solution min/max: 0.0000e+00/0.0000e+00\n",
      "Pressure solution min/max: 0.0000e+00/0.0000e+00\n",
      " \n",
      "\u001b[00m\n"
     ]
    }
   ],
   "source": [
    "solver.set_inner_method(\"mumps\")\n",
    "solver.options.scr.ksp_type=\"cg\"\n",
    "solver.set_penalty(1.0e7)\n",
    "solver.options.scr.ksp_rtol = 1.0e-4\n",
    "solver.solve(nonLinearIterate=True)\n",
    "solver.print_stats()"
   ]
  },
  {
   "cell_type": "code",
   "execution_count": null,
   "metadata": {
    "collapsed": false
   },
   "outputs": [],
   "source": []
  },
  {
   "cell_type": "code",
   "execution_count": null,
   "metadata": {
    "collapsed": false
   },
   "outputs": [],
   "source": []
  },
  {
   "cell_type": "markdown",
   "metadata": {},
   "source": [
    "**Create an advective diffusive system**"
   ]
  },
  {
   "cell_type": "code",
   "execution_count": null,
   "metadata": {
    "collapsed": true
   },
   "outputs": [],
   "source": [
    "advDiff = uw.systems.AdvectionDiffusion( phiField       = temperatureField, \n",
    "                                         phiDotField    = temperatureDotField, \n",
    "                                         velocityField  = velocityField,\n",
    "                                         fn_sourceTerm    = 0.0,\n",
    "                                         fn_diffusivity = 1.0, \n",
    "                                         #conditions     = [neumannTempBC, dirichTempBC] )\n",
    "                                         conditions     = [ dirichTempBC] )\n",
    "\n",
    "passiveadvector = uw.systems.SwarmAdvector( swarm         = gSwarm, \n",
    "                                     velocityField = velocityField, \n",
    "                                     order         = 1)"
   ]
  },
  {
   "cell_type": "code",
   "execution_count": null,
   "metadata": {
    "collapsed": true
   },
   "outputs": [],
   "source": [
    "population_control = uw.swarm.PopulationControl(gSwarm,deleteThreshold=0.2,splitThreshold=1.,maxDeletions=3,maxSplits=0, aggressive=True, particlesPerCell=ppc)"
   ]
  },
  {
   "cell_type": "markdown",
   "metadata": {},
   "source": [
    "Analysis tools\n",
    "-----"
   ]
  },
  {
   "cell_type": "code",
   "execution_count": null,
   "metadata": {
    "collapsed": true
   },
   "outputs": [],
   "source": [
    "#These are functions we can use to evuate integrals over restricted parts of the domain\n",
    "# For instance, we can exclude the thermal lithosphere from integrals\n",
    "\n",
    "def temprestrictionFn(lithval = 0.9):\n",
    "\n",
    "    tempMM = fn.view.min_max(temperatureField)\n",
    "    tempMM.evaluate(mesh)\n",
    "    TMAX = tempMM.max_global()\n",
    "    mantleconditions = [ (                                  temperatureField > lithval*TMAX, 1.),\n",
    "                   (                                                   True , 0.) ]\n",
    "\n",
    "\n",
    "    return fn.branching.conditional(mantleconditions)\n",
    "\n",
    "mantlerestrictFn = temprestrictionFn(lithval = 0.85)\n",
    "\n",
    "\n",
    "\n",
    "def platenessFn(val = 0.1):\n",
    "    normgradV = fn.math.abs(velocityField.fn_gradient[0]/fn.math.sqrt(velocityField[0]*velocityField[0])) #[du*/dx]/sqrt(u*u)\n",
    "\n",
    "\n",
    "\n",
    "    srconditions = [ (                                  normgradV < val, 1.),\n",
    "                   (                                                   True , 0.) ]\n",
    "\n",
    "\n",
    "    return fn.branching.conditional(srconditions)\n",
    "\n",
    "srrestrictFn = platenessFn(val = 0.1)"
   ]
  },
  {
   "cell_type": "code",
   "execution_count": null,
   "metadata": {
    "collapsed": false
   },
   "outputs": [],
   "source": [
    "fig = glucifer.Figure()\n",
    "fig.append( glucifer.objects.Surface(mesh, temperatureField) )\n",
    "\n",
    "#fig.show()\n",
    "#fig.save_database('test.gldb')"
   ]
  },
  {
   "cell_type": "code",
   "execution_count": null,
   "metadata": {
    "collapsed": false
   },
   "outputs": [],
   "source": [
    "#Setup volume integrals \n",
    "\n",
    "tempint = uw.utils.Integral( temperatureField, mesh )\n",
    "areaint = uw.utils.Integral( 1.,               mesh )\n",
    "\n",
    "v2int   = uw.utils.Integral( fn.math.dot(velocityField,velocityField), mesh )\n",
    "\n",
    "dwint   = uw.utils.Integral( temperatureField*velocityField[1], mesh )\n",
    "\n",
    "sinner = fn.math.dot( strainRate_2ndInvariant, strainRate_2ndInvariant )\n",
    "vdint = uw.utils.Integral( (4.*viscosityMapFn*sinner), mesh )\n",
    "\n",
    "mantleArea   = uw.utils.Integral( mantlerestrictFn, mesh )\n",
    "mantleTemp = uw.utils.Integral( temperatureField*mantlerestrictFn, mesh )\n",
    "mantleVisc = uw.utils.Integral( mantleviscosityFn*mantlerestrictFn, mesh )\n",
    "mantleVd = uw.utils.Integral( (4.*viscosityMapFn*sinner*mantlerestrictFn), mesh ) #these now work on MappingFunctions"
   ]
  },
  {
   "cell_type": "code",
   "execution_count": null,
   "metadata": {
    "collapsed": true
   },
   "outputs": [],
   "source": [
    "#Setup surface integrals\n",
    "\n",
    "rmsSurfInt = uw.utils.Integral( fn=velocityField[0]*velocityField[0], mesh=mesh, integrationType='Surface', \n",
    "                          surfaceIndexSet=mesh.specialSets[\"MaxJ_VertexSet\"])\n",
    "nuTop      = uw.utils.Integral( fn=temperatureField.fn_gradient[1],    mesh=mesh, integrationType='Surface', \n",
    "                          surfaceIndexSet=mesh.specialSets[\"MaxJ_VertexSet\"])\n",
    "nuBottom   = uw.utils.Integral( fn=temperatureField.fn_gradient[1],    mesh=mesh, integrationType='Surface', \n",
    "                          surfaceIndexSet=mesh.specialSets[\"MinJ_VertexSet\"])\n",
    "\n",
    "plateint  = uw.utils.Integral( fn=srrestrictFn, mesh=mesh, integrationType='Surface', #Integrate the plateness function\n",
    "                          surfaceIndexSet=mesh.specialSets[\"MaxJ_VertexSet\"]) \n",
    "\n",
    "surfint  = uw.utils.Integral( fn=1., mesh=mesh, integrationType='Surface',   #Surface length function (i.e. domain width)\n",
    "                          surfaceIndexSet=mesh.specialSets[\"MaxJ_VertexSet\"])"
   ]
  },
  {
   "cell_type": "code",
   "execution_count": null,
   "metadata": {
    "collapsed": true
   },
   "outputs": [],
   "source": [
    "#Define functions for the evaluation of integrals\n",
    "\n",
    "def basic_int(ourIntegral):           #This one just hands back the evaluated integral\n",
    "    return ourIntegral.evaluate()[0]\n",
    "\n",
    "def avg_temp():\n",
    "    return tempint.evaluate()[0]/areaint.evaluate()[0]\n",
    "\n",
    "def nusseltTB(temp_field, mesh):\n",
    "    return -nuTop.evaluate()[0], -nuBottom.evaluate()[0]\n",
    "\n",
    "def rms():\n",
    "    return math.sqrt(v2int.evaluate()[0]/areaint.evaluate()[0])\n",
    "\n",
    "def rms_surf():\n",
    "    return math.sqrt(rmsSurfInt.evaluate()[0])\n",
    "\n",
    "def max_vx_surf(velfield, mesh):\n",
    "    vuvelxfn = fn.view.min_max(velfield[0])\n",
    "    vuvelxfn.evaluate(mesh.specialSets[\"MaxJ_VertexSet\"])\n",
    "    return vuvelxfn.max_global()\n",
    "\n",
    "\n",
    "def visc_extr(viscfn):\n",
    "    vuviscfn = fn.view.min_max(viscfn)\n",
    "    vuviscfn.evaluate(mesh)\n",
    "    return vuviscfn.max_global(), vuviscfn.min_global()"
   ]
  },
  {
   "cell_type": "code",
   "execution_count": null,
   "metadata": {
    "collapsed": false
   },
   "outputs": [],
   "source": [
    "#v2sum_integral  = uw.utils.Integral( mesh=mesh, fn=fn.math.dot( velocityField, velocityField ) )\n",
    "#volume_integral = uw.utils.Integral( mesh=mesh, fn=1. )\n",
    "#Vrms = math.sqrt( v2sum_integral.evaluate()[0] )/volume_integral.evaluate()[0]\n",
    "\n",
    "\n",
    "\n",
    "#if(uw.rank()==0):\n",
    "#    print('Initial Vrms = {0:.3f}'.format(Vrms))"
   ]
  },
  {
   "cell_type": "code",
   "execution_count": null,
   "metadata": {
    "collapsed": false
   },
   "outputs": [],
   "source": [
    "# Check the Metrics\n",
    "\n",
    "#Avg_temp = avg_temp()\n",
    "#Rms = rms()\n",
    "#Rms_surf = rms_surf()\n",
    "#Max_vx_surf = max_vx_surf(velocityField, mesh)\n",
    "#Gravwork = basic_int(dwint)\n",
    "#Viscdis = basic_int(vdint)\n",
    "#nu1, nu0 = nusseltTB(temperatureField, mesh) # return top then bottom\n",
    "#etamax, etamin = visc_extr(mantleviscosityFn)\n",
    "\n",
    "Area_mantle = basic_int(mantleArea)\n",
    "#Viscmantle = basic_int(mantleVisc)\n",
    "#Tempmantle = basic_int(mantleTemp)\n",
    "#Viscdismantle = basic_int(mantleVd)"
   ]
  },
  {
   "cell_type": "code",
   "execution_count": null,
   "metadata": {
    "collapsed": false
   },
   "outputs": [],
   "source": [
    "#Tempmantle/Area_mantle, Viscmantle/Area_mantle\n",
    "#Plateness = basic_int(plateint)/basic_int(surfint)"
   ]
  },
  {
   "cell_type": "code",
   "execution_count": null,
   "metadata": {
    "collapsed": false
   },
   "outputs": [],
   "source": [
    "Area_mantle"
   ]
  },
  {
   "cell_type": "markdown",
   "metadata": {},
   "source": [
    "Viz.\n",
    "-----"
   ]
  },
  {
   "cell_type": "code",
   "execution_count": null,
   "metadata": {
    "collapsed": false
   },
   "outputs": [],
   "source": [
    "viscVariable = gSwarm.add_variable( dataType=\"float\", count=1 )\n",
    "viscVariable.data[:] = viscosityMapFn.evaluate(gSwarm)"
   ]
  },
  {
   "cell_type": "code",
   "execution_count": null,
   "metadata": {
    "collapsed": false
   },
   "outputs": [],
   "source": [
    "#Pack some stuff into a database as well\n",
    "figDb = glucifer.Figure()\n",
    "#figDb.append( glucifer.objects.Mesh(mesh))\n",
    "figDb.append( glucifer.objects.VectorArrows(mesh,velocityField, scaling=0.0005))\n",
    "figDb.append( glucifer.objects.Points(gSwarm,tracerVariable, colours= 'white black'))\n",
    "figDb.append( glucifer.objects.Points(gSwarm,viscosityMapFn, logScale=True))\n",
    "figDb.append( glucifer.objects.Surface(mesh, strainRate_2ndInvariant, logScale=True))\n",
    "figDb.append( glucifer.objects.Surface(mesh, temperatureField))\n",
    "#figDb.show()"
   ]
  },
  {
   "cell_type": "code",
   "execution_count": null,
   "metadata": {
    "collapsed": false
   },
   "outputs": [],
   "source": [
    "#figDb.show()\n"
   ]
  },
  {
   "cell_type": "code",
   "execution_count": null,
   "metadata": {
    "collapsed": false
   },
   "outputs": [],
   "source": [
    "velocityField.data[iWalls.data][np.where(velocityField.data[iWalls.data] == 0)]"
   ]
  },
  {
   "cell_type": "code",
   "execution_count": null,
   "metadata": {
    "collapsed": false
   },
   "outputs": [],
   "source": [
    "\n",
    "def checkpoint1(step, checkpointPath,filename, filewrites):\n",
    "    path = checkpointPath + str(step) \n",
    "    os.mkdir(path)\n",
    "    ##Write and save the file, if not already a writing step\n",
    "    if not step % filewrites == 0:\n",
    "        filename.write((17*'%-15s ' + '\\n') % (realtime, Viscdis, float(nu0), float(nu1), Avg_temp,\n",
    "                                              Tempmantle,TMAX,\n",
    "                                              Rms,Rms_surf,Max_vx_surf,Gravwork, etamax, etamin, \n",
    "                                              Area_mantle, Viscmantle,  Viscdismantle,Plateness ))\n",
    "    filename.close()\n",
    "    shutil.copyfile(os.path.join(outputPath, outputFile), os.path.join(path, outputFile))\n",
    "\n",
    "\n",
    "def checkpoint2(step, checkpointPath, swarm, filename, varlist = [materialVariable], varnames = ['materialVariable']):\n",
    "    path = checkpointPath + str(step) \n",
    "    velfile = \"velocityField\" + \".hdf5\"\n",
    "    tempfile = \"temperatureField\" + \".hdf5\"\n",
    "    pressfile = \"pressureField\" + \".hdf5\"\n",
    "    velocityField.save(os.path.join(path, velfile))\n",
    "    temperatureField.save(os.path.join(path, tempfile))\n",
    "    pressureField.save(os.path.join(path, pressfile))\n",
    "    swarm.save(os.path.join(path, \"swarm.h5\") ) \n",
    "    for ix in range(len(varlist)):\n",
    "        varb = varlist[ix]\n",
    "        varb.save(os.path.join(path,varnames[ix] + \".h5\"))\n",
    "    "
   ]
  },
  {
   "cell_type": "markdown",
   "metadata": {},
   "source": [
    "**Miscellania**"
   ]
  },
  {
   "cell_type": "code",
   "execution_count": null,
   "metadata": {
    "collapsed": false
   },
   "outputs": [],
   "source": [
    "surface_xs = np.linspace(mesh.minCoord[0], mesh.maxCoord[0], mesh.elementRes[0] + 1)\n",
    "surface_nodes = np.array(zip(surface_xs, np.ones(len(surface_xs)*mesh.maxCoord[1]))) #For evaluation surface velocity\n",
    "\n",
    "\n",
    "normgradV = velocityField.fn_gradient[0]/fn.math.sqrt(velocityField[0]*velocityField[0])\n",
    "\n",
    "tempMM = fn.view.min_max(temperatureField)\n",
    "dummy = tempMM.evaluate(mesh)\n",
    "\n"
   ]
  },
  {
   "cell_type": "code",
   "execution_count": null,
   "metadata": {
    "collapsed": true
   },
   "outputs": [],
   "source": [
    "#set up some routines to track age variable \n",
    "#ageVariable"
   ]
  },
  {
   "cell_type": "code",
   "execution_count": null,
   "metadata": {
    "collapsed": false
   },
   "outputs": [],
   "source": [
    "tempMM.max_global(), temperatureField.data.max()"
   ]
  },
  {
   "cell_type": "markdown",
   "metadata": {},
   "source": [
    "Main simulation loop\n",
    "-----\n",
    "\n",
    "Run a few advection and Stokes solver steps to make sure we are in, or close to, equilibrium."
   ]
  },
  {
   "cell_type": "code",
   "execution_count": null,
   "metadata": {
    "collapsed": false
   },
   "outputs": [],
   "source": [
    "# initialise timer for computation\n",
    "start = time.clock()\n",
    "# setup summary output file (name above)\n",
    "if checkpointLoad:\n",
    "    if uw.rank() == 0:\n",
    "        shutil.copyfile(os.path.join(checkpointLoadDir, outputFile), outputPath+outputFile)\n",
    "    comm.Barrier()\n",
    "    f_o = open(os.path.join(outputPath, outputFile), 'a')\n",
    "    prevdata = np.genfromtxt(os.path.join(outputPath, outputFile), skip_header=0, skip_footer=0)\n",
    "    if len(prevdata.shape) == 1: #this is in case there is only one line in previous file\n",
    "        realtime = prevdata[0]\n",
    "    else:\n",
    "        realtime = prevdata[prevdata.shape[0]-1, 0]\n",
    "    step = int(checkpointLoadDir.split('/')[-1])\n",
    "    timevals = [0.]\n",
    "else:\n",
    "    f_o = open(outputPath+outputFile, 'w')\n",
    "    realtime = 0.\n",
    "    step = 0\n",
    "    timevals = [0.]"
   ]
  },
  {
   "cell_type": "code",
   "execution_count": null,
   "metadata": {
    "collapsed": false
   },
   "outputs": [],
   "source": []
  },
  {
   "cell_type": "code",
   "execution_count": null,
   "metadata": {
    "collapsed": false
   },
   "outputs": [],
   "source": [
    "#while step < 21:\n",
    "while realtime < 1.:\n",
    "\n",
    "    # solve Stokes and advection systems\n",
    "    solver.solve(nonLinearIterate=True)\n",
    "    dt = advDiff.get_max_dt()\n",
    "    if step == 0:\n",
    "        dt = 0.\n",
    "    advDiff.integrate(dt)\n",
    "    passiveadvector.integrate(dt)\n",
    "    \n",
    "    #Add the adiabatic adjustment:\n",
    "    temperatureField.data[:] += dt*abHeatFn.evaluate(mesh)\n",
    "    \n",
    "\n",
    "    # Increment\n",
    "    realtime += dt\n",
    "    step += 1\n",
    "    timevals.append(realtime)\n",
    "    ################\n",
    "    #Update temperature field in the air region\n",
    "    #Do this better...\n",
    "    ################\n",
    "    if (step % sticky_air_temp == 0):\n",
    "        for index, coord in enumerate(mesh.data):\n",
    "            if coord[1] >= 1.:\n",
    "                temperatureField.data[index] = ndp.TSP\n",
    "    ################\n",
    "    #Gldb output\n",
    "    ################ \n",
    "    if (step % gldbs_output == 0):\n",
    "        #Rebuild any necessary swarm variables\n",
    "        viscVariable.data[:] = viscosityMapFn.evaluate(gSwarm)\n",
    "        #Write gldbs\n",
    "        fnamedb = \"dbFig\" + \"_\" + str(ModIt) + \"_\" + str(step) + \".gldb\"\n",
    "        fullpath = os.path.join(outputPath + \"gldbs/\" + fnamedb)\n",
    "        #figDb.show()\n",
    "        figDb.save_database(fullpath)\n",
    "    ################\n",
    "    #Files output\n",
    "    ################ \n",
    "    if (step % files_output == 0):\n",
    "\n",
    "        vel_surface = velocityField.evaluate_global(surface_nodes)\n",
    "        norm_surface_sr = normgradV.evaluate_global(surface_nodes)\n",
    "        if uw.rank() == 0:\n",
    "            fnametemp = \"velsurface\" + \"_\" + str(ModIt) + \"_\" + str(step)\n",
    "            fullpath = os.path.join(outputPath + \"files/\" + fnametemp)\n",
    "            np.save(fullpath, vel_surface)\n",
    "            fnametemp = \"norm_surface_sr\" + \"_\" + str(ModIt) + \"_\" + str(step)\n",
    "            fullpath = os.path.join(outputPath + \"files/\" + fnametemp)\n",
    "            np.save(fullpath, norm_surface_sr)\n",
    "    ################            \n",
    "    # Calculate the Metrics, only on 1 of the processors:\n",
    "    ################\n",
    "    if (step % metric_output == 0):\n",
    "        ###############\n",
    "        #Swarm - based Metrics\n",
    "        ###############\n",
    "        # Calculate the RMS velocity and Nusselt number.\n",
    "        # Calculate the Metrics, only on 1 of the processors:\n",
    "        mantlerestrictFn = temprestrictionFn() #rebuild the mantle restriction function (but these should be dynamic?)\n",
    "        srrestrictFn = platenessFn(val = 0.1) #rebuild the plateness restriction function\n",
    "        dummy = tempMM.evaluate(mesh) #Re-evaluate any fn.view.min_max guys\n",
    "        #Rebuild these integrals (a test because metrics changes after a restart)\n",
    "        mantleArea   = uw.utils.Integral( mantlerestrictFn, mesh )\n",
    "        mantleTemp = uw.utils.Integral( temperatureField*mantlerestrictFn, mesh )\n",
    "        mantleVisc = uw.utils.Integral( mantleviscosityFn*mantlerestrictFn, mesh )\n",
    "        mantleVd = uw.utils.Integral( (4.*viscosityMapFn*sinner*mantlerestrictFn), mesh ) #these now work on MappingFunctions\n",
    "        ###\n",
    "        Avg_temp = avg_temp()\n",
    "        Rms = rms()\n",
    "        Rms_surf = rms_surf()\n",
    "        Max_vx_surf = max_vx_surf(velocityField, mesh)\n",
    "        Gravwork = basic_int(dwint)\n",
    "        Viscdis = basic_int(vdint)\n",
    "        nu1, nu0 = nusseltTB(temperatureField, mesh) # return top then bottom\n",
    "        etamax, etamin = visc_extr(mantleviscosityFn)\n",
    "        Area_mantle = basic_int(mantleArea)\n",
    "        Viscmantle = basic_int(mantleVisc)\n",
    "        Tempmantle = basic_int(mantleTemp)\n",
    "        Viscdismantle = basic_int(mantleVd)\n",
    "        Plateness = basic_int(plateint)/basic_int(surfint)\n",
    "        TMAX = tempMM.max_global()\n",
    "        # output to summary text file\n",
    "        if uw.rank()==0:\n",
    "            f_o.write((17*'%-15s ' + '\\n') % (realtime, Viscdis, float(nu0), float(nu1), Avg_temp,\n",
    "                                              Tempmantle,TMAX,\n",
    "                                              Rms,Rms_surf,Max_vx_surf,Gravwork, etamax, etamin, \n",
    "                                              Area_mantle, Viscmantle,  Viscdismantle,Plateness ))\n",
    "    ################\n",
    "    #Also repopulate entire swarm periodically\n",
    "    ################\n",
    "    #if step % swarm_repop == 0:\n",
    "    population_control.repopulate()\n",
    "    \n",
    "    ################\n",
    "    #Checkpoint\n",
    "    ################\n",
    "    if step % checkpoint_every == 0:\n",
    "        if uw.rank() == 0:\n",
    "            checkpoint1(step, checkpointPath,f_o, metric_output)           \n",
    "        checkpoint2(step, checkpointPath, gSwarm, f_o, varlist = varlist, varnames = varnames)\n",
    "        f_o = open(os.path.join(outputPath, outputFile), 'a') #is this line supposed to be here?\n",
    "    ################\n",
    "    #Particle update\n",
    "    ###############\n",
    "    ageVariable.data[:] += dt #increment the ages (is this efficient?)\n",
    "    dummyData = np.copy(materialVariable.data)#This is part of a hack that resets ages when a material type changes\n",
    "    if step % swarm_update == 0:\n",
    "        for i in range(2): #Need to go through twice first time through\n",
    "            materialVariable.data[:] = fn.branching.conditional(DG.condition_list).evaluate(gSwarm)\n",
    "    ageVariable.data[np.where(dummyData[:] != materialVariable.data[:])] = 0. #resets those ages when a material type change\n",
    "    \n",
    "f_o.close()\n",
    "print 'step =',step"
   ]
  },
  {
   "cell_type": "code",
   "execution_count": 109,
   "metadata": {
    "collapsed": false
   },
   "outputs": [
    {
     "ename": "RuntimeError",
     "evalue": "Function input dimensionality (2) does not appear to match mesh variable dimensionality (105).",
     "output_type": "error",
     "traceback": [
      "\u001b[1;31m\u001b[0m",
      "\u001b[1;31mRuntimeError\u001b[0mTraceback (most recent call last)",
      "\u001b[1;32m<ipython-input-109-758841825d0d>\u001b[0m in \u001b[0;36m<module>\u001b[1;34m()\u001b[0m\n\u001b[0;32m      1\u001b[0m \u001b[0mviscVariable\u001b[0m \u001b[1;33m=\u001b[0m \u001b[0mgSwarm\u001b[0m\u001b[1;33m.\u001b[0m\u001b[0madd_variable\u001b[0m\u001b[1;33m(\u001b[0m \u001b[0mdataType\u001b[0m\u001b[1;33m=\u001b[0m\u001b[1;34m\"float\"\u001b[0m\u001b[1;33m,\u001b[0m \u001b[0mcount\u001b[0m\u001b[1;33m=\u001b[0m\u001b[1;36m1\u001b[0m \u001b[1;33m)\u001b[0m\u001b[1;33m\u001b[0m\u001b[0m\n\u001b[1;32m----> 2\u001b[1;33m \u001b[0mviscVariable\u001b[0m\u001b[1;33m.\u001b[0m\u001b[0mdata\u001b[0m\u001b[1;33m[\u001b[0m\u001b[1;33m:\u001b[0m\u001b[1;33m]\u001b[0m \u001b[1;33m=\u001b[0m \u001b[0mviscosityMapFn\u001b[0m\u001b[1;33m.\u001b[0m\u001b[0mevaluate\u001b[0m\u001b[1;33m(\u001b[0m\u001b[0mgSwarm\u001b[0m\u001b[1;33m)\u001b[0m\u001b[1;33m\u001b[0m\u001b[0m\n\u001b[0m",
      "\u001b[1;32m/root/underworld2/underworld/function/_function.py\u001b[0m in \u001b[0;36mevaluate\u001b[1;34m(self, inputData, inputType)\u001b[0m\n\u001b[0;32m    594\u001b[0m             \u001b[1;32mif\u001b[0m \u001b[0minputType\u001b[0m \u001b[1;33m!=\u001b[0m \u001b[0mNone\u001b[0m\u001b[1;33m:\u001b[0m\u001b[1;33m\u001b[0m\u001b[0m\n\u001b[0;32m    595\u001b[0m                 \u001b[1;32mraise\u001b[0m \u001b[0mValueError\u001b[0m\u001b[1;33m(\u001b[0m\u001b[1;34m\"'inputType' specification not supported for this input class.\"\u001b[0m\u001b[1;33m)\u001b[0m\u001b[1;33m\u001b[0m\u001b[0m\n\u001b[1;32m--> 596\u001b[1;33m             \u001b[1;32mreturn\u001b[0m \u001b[0m_cfn\u001b[0m\u001b[1;33m.\u001b[0m\u001b[0mQuery\u001b[0m\u001b[1;33m(\u001b[0m\u001b[0mself\u001b[0m\u001b[1;33m.\u001b[0m\u001b[0m_fncself\u001b[0m\u001b[1;33m)\u001b[0m\u001b[1;33m.\u001b[0m\u001b[0mquery\u001b[0m\u001b[1;33m(\u001b[0m\u001b[0minputData\u001b[0m\u001b[1;33m.\u001b[0m\u001b[0m_get_iterator\u001b[0m\u001b[1;33m(\u001b[0m\u001b[1;33m)\u001b[0m\u001b[1;33m)\u001b[0m\u001b[1;33m\u001b[0m\u001b[0m\n\u001b[0m\u001b[0;32m    597\u001b[0m         \u001b[1;32melif\u001b[0m \u001b[0misinstance\u001b[0m\u001b[1;33m(\u001b[0m\u001b[0minputData\u001b[0m\u001b[1;33m,\u001b[0m \u001b[0mnp\u001b[0m\u001b[1;33m.\u001b[0m\u001b[0mndarray\u001b[0m\u001b[1;33m)\u001b[0m\u001b[1;33m:\u001b[0m\u001b[1;33m\u001b[0m\u001b[0m\n\u001b[0;32m    598\u001b[0m             \u001b[1;32mif\u001b[0m \u001b[0minputType\u001b[0m \u001b[1;33m!=\u001b[0m \u001b[0mNone\u001b[0m\u001b[1;33m:\u001b[0m\u001b[1;33m\u001b[0m\u001b[0m\n",
      "\u001b[1;31mRuntimeError\u001b[0m: Function input dimensionality (2) does not appear to match mesh variable dimensionality (105)."
     ]
    }
   ],
   "source": [
    "viscVariable = gSwarm.add_variable( dataType=\"float\", count=1 )\n",
    "viscVariable.data[:] = viscosityMapFn.evaluate(gSwarm)"
   ]
  }
 ],
 "metadata": {
  "kernelspec": {
   "display_name": "Python 2",
   "language": "python",
   "name": "python2"
  },
  "language_info": {
   "codemirror_mode": {
    "name": "ipython",
    "version": 2
   },
   "file_extension": ".py",
   "mimetype": "text/x-python",
   "name": "python",
   "nbconvert_exporter": "python",
   "pygments_lexer": "ipython2",
   "version": "2.7.9"
  },
  "widgets": {
   "state": {},
   "version": "1.1.2"
  }
 },
 "nbformat": 4,
 "nbformat_minor": 0
}
