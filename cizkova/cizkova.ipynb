{
 "cells": [
  {
   "cell_type": "markdown",
   "metadata": {},
   "source": [
    "## composite, non-linear rheology:\n",
    "\n",
    "\n",
    "The viscous rheology in this model is similar to the Čížková and Bina paper cited below. Other parts of the model setup are similar to Arredondo and Billen (2016) and Korenaga (2011). \n",
    "\n",
    "Here we use a dimensionless system. For the psuedo-plastic effective rheology a Drucker-prager model is used.\n",
    "\n",
    "\n",
    "**Keywords:** thermal covection, dislocation creep\n",
    "\n",
    "\n",
    "**References**\n",
    "\n",
    "Čížková, Hana, and Craig R. Bina. \"Geodynamics of trench advance: Insights from a Philippine-Sea-style geometry.\" Earth and Planetary Science Letters 430 (2015): 408-415.\n",
    "\n",
    "Arredondo, Katrina M., and Magali I. Billen. \"The Effects of Phase Transitions and Compositional Layering in Two-dimensional Kinematic Models of Subduction.\" Journal of Geodynamics (2016).\n",
    "\n",
    "Korenaga, Jun. \"Scaling of plate tectonic convection with pseudoplastic rheology.\" Journal of Geophysical Research: Solid Earth 115.B11 (2010)."
   ]
  },
  {
   "cell_type": "code",
   "execution_count": 215,
   "metadata": {
    "collapsed": false
   },
   "outputs": [],
   "source": [
    "import numpy as np\n",
    "import underworld as uw\n",
    "import math\n",
    "from underworld import function as fn\n",
    "import glucifer\n",
    "\n",
    "import os\n",
    "import sys\n",
    "import natsort\n",
    "import shutil\n",
    "from easydict import EasyDict as edict\n",
    "import operator\n",
    "import pint\n",
    "import time\n",
    "import operator\n",
    "from slippy2 import boundary_layer2d\n",
    "from slippy2 import material_graph\n",
    "from slippy2 import spmesh\n",
    "\n",
    "from mpi4py import MPI\n",
    "comm = MPI.COMM_WORLD\n",
    "rank = comm.Get_rank()"
   ]
  },
  {
   "cell_type": "markdown",
   "metadata": {},
   "source": [
    "Model name and directories\n",
    "-----"
   ]
  },
  {
   "cell_type": "code",
   "execution_count": 216,
   "metadata": {
    "collapsed": true
   },
   "outputs": [],
   "source": [
    "############\n",
    "#Model name.  \n",
    "############\n",
    "Model = \"T\"\n",
    "ModNum = 9\n",
    "\n",
    "if len(sys.argv) == 1:\n",
    "    ModIt = \"Base\"\n",
    "elif sys.argv[1] == '-f':\n",
    "    ModIt = \"Base\"\n",
    "else:\n",
    "    ModIt = str(sys.argv[1])"
   ]
  },
  {
   "cell_type": "code",
   "execution_count": 217,
   "metadata": {
    "collapsed": false
   },
   "outputs": [],
   "source": [
    "###########\n",
    "#Standard output directory setup\n",
    "###########\n",
    "\n",
    "\n",
    "outputPath = \"results\" + \"/\" +  str(Model) + \"/\" + str(ModNum) + \"/\" + str(ModIt) + \"/\"\n",
    "imagePath = outputPath + 'images/'\n",
    "filePath = outputPath + 'files/'\n",
    "checkpointPath = outputPath + 'checkpoint/'\n",
    "dbPath = outputPath + 'gldbs/'\n",
    "outputFile = 'results_model' + Model + '_' + str(ModNum) + '_' + str(ModIt) + '.dat'\n",
    "\n",
    "if uw.rank()==0:\n",
    "    # make directories if they don't exist\n",
    "    if not os.path.isdir(outputPath):\n",
    "        os.makedirs(outputPath)\n",
    "    if not os.path.isdir(checkpointPath):\n",
    "        os.makedirs(checkpointPath)\n",
    "    if not os.path.isdir(imagePath):\n",
    "        os.makedirs(imagePath)\n",
    "    if not os.path.isdir(dbPath):\n",
    "        os.makedirs(dbPath)\n",
    "    if not os.path.isdir(filePath):\n",
    "        os.makedirs(filePath)\n",
    "        \n",
    "comm.Barrier() #Barrier here so no procs run the check in the next cell too early"
   ]
  },
  {
   "cell_type": "code",
   "execution_count": 218,
   "metadata": {
    "collapsed": false
   },
   "outputs": [
    {
     "name": "stdout",
     "output_type": "stream",
     "text": [
      "results/T/9/Base/checkpoint/ is empty\n"
     ]
    }
   ],
   "source": [
    "###########\n",
    "#Check if starting from checkpoint\n",
    "###########\n",
    "\n",
    "checkdirs = []\n",
    "for dirpath, dirnames, files in os.walk(checkpointPath):\n",
    "    if files:\n",
    "        print dirpath, 'has files'\n",
    "        checkpointLoad = True\n",
    "        checkdirs.append(dirpath)\n",
    "    if not files:\n",
    "        print dirpath, 'is empty'\n",
    "        checkpointLoad = False"
   ]
  },
  {
   "cell_type": "markdown",
   "metadata": {},
   "source": [
    "Setup parameters\n",
    "-----\n",
    "\n",
    "Set simulation parameters for test."
   ]
  },
  {
   "cell_type": "markdown",
   "metadata": {},
   "source": [
    "**Use pint to setup any unit conversions we'll need**"
   ]
  },
  {
   "cell_type": "code",
   "execution_count": 219,
   "metadata": {
    "collapsed": false
   },
   "outputs": [
    {
     "data": {
      "text/html": [
       "10000.0 meter/megayear"
      ],
      "text/latex": [
       "$10000.0 \\frac{meter}{megayear}$"
      ],
      "text/plain": [
       "<Quantity(10000.0, 'meter / megayear')>"
      ]
     },
     "execution_count": 219,
     "metadata": {},
     "output_type": "execute_result"
    }
   ],
   "source": [
    "u = pint.UnitRegistry()\n",
    "cmpery = 1.*u.cm/u.year\n",
    "mpermy = 1.*u.m/u.megayear\n",
    "\n",
    "cmpery.to(mpermy)"
   ]
  },
  {
   "cell_type": "markdown",
   "metadata": {},
   "source": [
    "**Set parameter dictionaries**"
   ]
  },
  {
   "cell_type": "code",
   "execution_count": null,
   "metadata": {
    "collapsed": false
   },
   "outputs": [],
   "source": []
  },
  {
   "cell_type": "code",
   "execution_count": 220,
   "metadata": {
    "collapsed": false
   },
   "outputs": [],
   "source": [
    "###########\n",
    "#Store the physical paramters, scale factors and dimensionless pramters in easyDicts\n",
    "#Mainly helps with avoiding overwriting variables\n",
    "###########\n",
    "\n",
    "dp = edict({#'LS':2900.*1e3,\n",
    "            'LS':2000.*1e3,\n",
    "           'rho':3300,\n",
    "           'g':9.8, \n",
    "           'eta0':4e20, #Dislocation creep at 250 km, 1573 K, 1e-15 s-1 \n",
    "           'k':1e-6,\n",
    "           'a':3e-5, #surface thermal expansivity\n",
    "           'TP':1573., #potential temp\n",
    "           'TS':273., #surface temp\n",
    "           'cohesion':1e7, #\n",
    "           'fc':0.03,   \n",
    "           'Adf':1e-9,\n",
    "           'Ads':3.1e-17,\n",
    "           'Edf':3.35e5,\n",
    "           'Eds':4.8e5,\n",
    "           'Vdf':4e-6,\n",
    "           'Vds':11e-6,\n",
    "           'Alm':1.3e-16,\n",
    "           'Elm':2.0e5,\n",
    "           'Vlm':1.1e-6,\n",
    "           'Ba':4.3e-12,  #A value to simulate pressure increase with depth\n",
    "           'SR':1e-15,\n",
    "           'Dr':250e3, #Reference depth\n",
    "           'R':8.314,\n",
    "           'Cp':1250., #Jkg-1K-1\n",
    "           'StALS':100e3,\n",
    "           'plate_vel':8})\n",
    "\n",
    "#Adibatic heating stuff\n",
    "dp.dTa = (dp.a*dp.g*(dp.TP))/dp.Cp #adibatic gradient, at Tp\n",
    "dp.deltaTa = (dp.TP + dp.dTa*dp.LS) - dp.TS  #Adiabatic Temp at base of mantle, minus Ts\n",
    "dp.deltaT = dp.deltaTa\n",
    "\n",
    "\n",
    "\n",
    "#scale_factors\n",
    "\n",
    "sf = edict({'stress':dp.LS**2/(dp.k*dp.eta0),\n",
    "            'lith_grad':dp.rho*dp.g*(dp.LS)**3/(dp.eta0*dp.k) ,\n",
    "            'vel':dp.LS/dp.k,\n",
    "            'SR':dp.LS**2/dp.k,\n",
    "            'W':(-1./dp.Ba)*(np.log(1.-dp.rho*dp.g*dp.Ba*dp.LS))/(dp.R*dp.deltaTa), #Including adiabatic compression, and deltaTa\n",
    "            'E': 1./(dp.R*dp.deltaTa), #using deltaTa, the guesstimated adiabatic temp differnnce to scale these paramters\n",
    "            #'Ads':(dp.eta0**(ndp.n-2))*((dp.k)**(ndp.n-1))*((dp.LS)**(2. - 2*ndp.n))       \n",
    "           })\n",
    "\n",
    "#dimensionless parameters\n",
    "\n",
    "ndp = edict({'RA':(dp.g*dp.rho*dp.a*dp.deltaT*(dp.LS)**3)/(dp.k*dp.eta0),\n",
    "            'cohesion':dp.cohesion*sf.stress,\n",
    "            'fcd':dp.fc*sf.lith_grad,\n",
    "            'gamma':dp.fc/(dp.a*dp.deltaT),\n",
    "            'Wdf':dp.Vdf*sf.W,\n",
    "            'Edf':dp.Edf*sf.E,\n",
    "            'Wds':dp.Vds*sf.W,\n",
    "            'Eds':dp.Eds*sf.E,\n",
    "            'Elm':dp.Elm*sf.E,\n",
    "           'Wlm':dp.Vlm*sf.W,\n",
    "            'TSP':0., \n",
    "            'TBP':1.,\n",
    "            'TPP':(dp.TP - dp.TS)/dp.deltaT,\n",
    "            'Dr':dp.Dr/dp.LS,\n",
    "            'n':3.5,\n",
    "            'TS':dp.TS/dp.deltaT,\n",
    "            'TP':dp.TP/dp.deltaT,\n",
    "             #'eta_crust':1e21/dp.eta0,\n",
    "             'eta_crust':0.06,\n",
    "            'eta_min':1e-3,\n",
    "            'eta_max':1e5,\n",
    "            'H':0.,\n",
    "            'Tmvp':0.6,\n",
    "             'Di': dp.a*dp.g*dp.LS/dp.Cp, #Dissipation number\n",
    "            'Steta0':1e2,\n",
    "            'plate_vel':sf.vel*dp.plate_vel*(cmpery.to(u.m/u.second)).magnitude,})\n",
    "\n",
    "\n",
    "\n",
    "#Make some further additions to paramter dictionaries\n",
    "\n",
    "dp.VR = (0.1*(dp.k/dp.LS)*ndp.RA**(2/3.)) #characteristic velocity from a scaling relationship\n",
    "dp.SR = dp.VR/dp.LS #characteristic strain rate\n",
    "ndp.VR = dp.VR*sf.vel #characteristic velocity\n",
    "ndp.SR = dp.SR*sf.SR #characteristic strain rate\n",
    "\n",
    "ndp.StRA = (3300.*dp.g*(dp.LS)**3)/(dp.eta0 *dp.k) #Composisitional Rayleigh number for rock-air buoyancy force\n",
    "ndp.TaP = 1. - ndp.TPP,  #Dimensionles adiabtic component of delta t"
   ]
  },
  {
   "cell_type": "code",
   "execution_count": 221,
   "metadata": {
    "collapsed": false
   },
   "outputs": [],
   "source": [
    "#ndp.RA"
   ]
  },
  {
   "cell_type": "code",
   "execution_count": 222,
   "metadata": {
    "collapsed": false
   },
   "outputs": [],
   "source": [
    "###########\n",
    "#A few parameters defining lengths scales, affects materal transistions etc.\n",
    "###########\n",
    "\n",
    "MANTLETOCRUST = (18.*1e3)/dp.LS #Crust depth\n",
    "HARZBURGDEPTH = MANTLETOCRUST + (27.7e3/dp.LS)\n",
    "CRUSTTOMANTLE = (200.*1e3)/dp.LS\n",
    "LITHTOMANTLE = (900.*1e3)/dp.LS \n",
    "MANTLETOLITH = (200.*1e3)/dp.LS \n",
    "TOPOHEIGHT = (10.*1e3)/dp.LS  #rock-air topography limits\n",
    "CRUSTTOECL  = (100.*1e3)/dp.LS\n",
    "AVGTEMP = ndp.TPP #Used to define lithosphere\n",
    "LOWERMANTLE = (1000.*1e3)/dp.LS \n"
   ]
  },
  {
   "cell_type": "markdown",
   "metadata": {},
   "source": [
    "**Model setup parameters**"
   ]
  },
  {
   "cell_type": "code",
   "execution_count": 223,
   "metadata": {
    "collapsed": false
   },
   "outputs": [],
   "source": [
    "###########\n",
    "#Model setup parameters\n",
    "###########\n",
    "\n",
    "refineMesh = True\n",
    "stickyAir = False \n",
    "lower_mantle = False \n",
    "melt_viscosity_reduction= False\n",
    "symmetric_IC = False\n",
    "slab_IC = True\n",
    "\n",
    "\n",
    "MINX = -2.\n",
    "MINY = 0.\n",
    "MAXX = 2.\n",
    "\n",
    "#MAXY = 1.035\n",
    "MAXY = 1.\n",
    "\n",
    "if MINX == 0.:\n",
    "    squareModel = True\n",
    "else: \n",
    "    squareModel = False\n",
    "    \n",
    "    \n",
    "dim = 2          # number of spatial dimensions\n",
    "\n",
    "\n",
    "#MESH STUFF\n",
    "\n",
    "RES = 64\n",
    "\n",
    "Xres = int(RES*4)\n",
    "\n",
    "\n",
    "if stickyAir:\n",
    "    Yres = RES\n",
    "    MAXY = 1. + dp.StALS/dp.LS #150km\n",
    "    \n",
    "else:\n",
    "    Yres = RES\n",
    "    MAXY = 1.\n",
    "\n",
    "\n",
    "periodic = [True, False]\n",
    "elementType = \"Q1/dQ0\"\n",
    "#elementType =\"Q2/DPC1\"\n",
    "\n",
    "\n",
    "#System/Solver stuff\n",
    "\n",
    "PIC_integration=True\n",
    "ppc = 25\n",
    "\n",
    "#Output and safety stuff\n",
    "swarm_repop, swarm_update = 10, 10\n",
    "gldbs_output = 20\n",
    "checkpoint_every, files_output = 50, 50\n",
    "metric_output = 10\n",
    "sticky_air_temp = 5"
   ]
  },
  {
   "cell_type": "markdown",
   "metadata": {},
   "source": [
    "Create mesh and finite element variables\n",
    "------"
   ]
  },
  {
   "cell_type": "code",
   "execution_count": 224,
   "metadata": {
    "collapsed": false
   },
   "outputs": [],
   "source": [
    "mesh = uw.mesh.FeMesh_Cartesian( elementType = (elementType),\n",
    "                                 elementRes  = (Xres, Yres), \n",
    "                                 minCoord    = (MINX, MINY), \n",
    "                                 maxCoord    = (MAXX, MAXY), periodic=periodic)\n",
    "\n",
    "velocityField       = uw.mesh.MeshVariable( mesh=mesh,         nodeDofCount=2 )\n",
    "pressureField       = uw.mesh.MeshVariable( mesh=mesh.subMesh, nodeDofCount=1 )\n",
    "temperatureField    = uw.mesh.MeshVariable( mesh=mesh,         nodeDofCount=1 )\n",
    "temperatureDotField = uw.mesh.MeshVariable( mesh=mesh,         nodeDofCount=1 )"
   ]
  },
  {
   "cell_type": "code",
   "execution_count": 225,
   "metadata": {
    "collapsed": true
   },
   "outputs": [],
   "source": [
    "mesh.reset()"
   ]
  },
  {
   "cell_type": "code",
   "execution_count": 226,
   "metadata": {
    "collapsed": false
   },
   "outputs": [
    {
     "name": "stdout",
     "output_type": "stream",
     "text": [
      "Min\n",
      "(256, 0.012501562500000001, 4.200400000000001, -0.20040000000000086)\n",
      "('edges', 256)\n",
      "-- iteration 0 --\n",
      "| F( p_n ) |^2: 1.98165943146e-05\n",
      "| p_n+1 - p_n |^2: 1.36480086187\n",
      "-- iteration 1 --\n",
      "| F( p_n ) |^2: 3.58989730515e-30\n",
      "Min, Max element width: \n",
      "0.01250\n",
      "0.01875\n"
     ]
    }
   ],
   "source": [
    "\n",
    "#X-Axis\n",
    "\n",
    "if refineMesh:\n",
    "    mesh.reset()\n",
    "    axis = 0\n",
    "    origcoords = np.linspace(mesh.minCoord[axis], mesh.maxCoord[axis], mesh.elementRes[axis] + 1)\n",
    "    edge_rest_lengths = np.diff(origcoords)\n",
    "\n",
    "    deform_lengths = edge_rest_lengths.copy()\n",
    "    min_point =  (abs(mesh.maxCoord[axis]) - abs(mesh.minCoord[axis]))/2.\n",
    "    el_reduction = 0.8001\n",
    "    dx = mesh.maxCoord[axis] - min_point\n",
    "\n",
    "    deform_lengths = deform_lengths - \\\n",
    "                                    ((1.-el_reduction) *deform_lengths[0]) + \\\n",
    "                                    abs((origcoords[1:] - min_point))*((0.5*deform_lengths[0])/dx)\n",
    "\n",
    "    #print(edge_rest_lengths.shape, deform_lengths.shape)\n",
    "\n",
    "    spmesh.deform_1d(deform_lengths, mesh,axis = 'x',norm = 'Min', constraints = [])"
   ]
  },
  {
   "cell_type": "code",
   "execution_count": 227,
   "metadata": {
    "collapsed": false
   },
   "outputs": [],
   "source": [
    "axis = 1\n",
    "orgs = np.linspace(mesh.minCoord[axis], mesh.maxCoord[axis], mesh.elementRes[axis] + 1)\n",
    "\n",
    "value_to_constrain = 1.\n",
    "\n",
    "\n",
    "yconst = [(spmesh.find_closest(orgs, value_to_constrain), np.array([value_to_constrain,0]))]"
   ]
  },
  {
   "cell_type": "code",
   "execution_count": 228,
   "metadata": {
    "collapsed": false
   },
   "outputs": [
    {
     "name": "stdout",
     "output_type": "stream",
     "text": [
      "Min\n",
      "(64, 0.0093765624999999995, 0.84619375000000008, 0.62499047619047554)\n",
      "('edges', 64)\n",
      "-- iteration 0 --\n",
      "| F( p_n ) |^2: 8.05648611886e-05\n",
      "| p_n+1 - p_n |^2: 0.352079185376\n",
      "-- iteration 1 --\n",
      "| F( p_n ) |^2: 3.12512226132e-31\n",
      "Min, Max element width: \n",
      "0.00938\n",
      "0.02187\n"
     ]
    }
   ],
   "source": [
    "###########\n",
    "#Mesh refinement\n",
    "###########\n",
    "\n",
    "if refineMesh:\n",
    "    #Y-Axis\n",
    "    axis = 1\n",
    "    origcoords = np.linspace(mesh.minCoord[axis], mesh.maxCoord[axis], mesh.elementRes[axis] + 1)\n",
    "    edge_rest_lengths = np.diff(origcoords)\n",
    "\n",
    "    deform_lengths = edge_rest_lengths.copy()\n",
    "    min_point =  (mesh.maxCoord[axis])\n",
    "    el_reduction = 0.6001\n",
    "    dx = mesh.maxCoord[axis]\n",
    "\n",
    "    deform_lengths = deform_lengths - \\\n",
    "                                    ((1.-el_reduction)*deform_lengths[0]) + \\\n",
    "                                    abs((origcoords[1:] - min_point))*((0.5*deform_lengths[0])/dx)\n",
    "\n",
    "    #print(edge_rest_lengths.shape, deform_lengths.shape)\n",
    "\n",
    "    spmesh.deform_1d(deform_lengths, mesh,axis = 'y',norm = 'Min', constraints = yconst)"
   ]
  },
  {
   "cell_type": "markdown",
   "metadata": {},
   "source": [
    "Initial conditions\n",
    "-------\n"
   ]
  },
  {
   "cell_type": "code",
   "execution_count": 229,
   "metadata": {
    "collapsed": false
   },
   "outputs": [],
   "source": [
    "coordinate = fn.input()\n",
    "depthFn = 1. - coordinate[1] #a function providing the depth\n",
    "xFn = coordinate[0]  #a function providing the x-coordinate\n",
    "\n",
    "potTempFn = ndp.TPP + (depthFn)*ndp.TaP #a function providing the adiabatic temp at any depth\n",
    "abHeatFn = -1.*velocityField[1]*temperatureField*ndp.Di #a function providing the adiabatic heating rate"
   ]
  },
  {
   "cell_type": "code",
   "execution_count": null,
   "metadata": {
    "collapsed": false
   },
   "outputs": [],
   "source": []
  },
  {
   "cell_type": "code",
   "execution_count": 230,
   "metadata": {
    "collapsed": false
   },
   "outputs": [],
   "source": [
    "###########\n",
    "#Thermal initial condition:\n",
    "#if symmetric_IC, we build a symmetric downwelling on top of a sinusoidal perturbation\n",
    "##########\n",
    "\n",
    "#Sinusoidal initial condition\n",
    "A = 0.2\n",
    "sinFn = depthFn + A*(fn.math.cos( math.pi * coordinate[0])  * fn.math.sin( math.pi * coordinate[1] ))        \n",
    "iD = 660e3/dp.LS #Initial Slab depth\n",
    "dl =  2*math.sqrt(dp.k*160e6*3600*24*365) #diffusion Length at ... My\n",
    "w0 = dl/dp.LS #Boundary layer/slab initial condition\n",
    "delX1 = fn.misc.min(fn.math.abs(coordinate[0] - -0.), fn.math.abs(coordinate[0] - -2.))\n",
    "delX = fn.misc.min(delX1 , fn.math.abs(coordinate[0] - 2.))\n",
    "w = w0*fn.math.sqrt(delX + 1e-7)\n",
    "tempBL = (potTempFn) *fn.math.erf((depthFn)/w) + ndp.TSP\n",
    "delX = fn.misc.min(fn.math.abs(coordinate[0] - - 1.) , fn.math.abs(coordinate[0] - 1.))\n",
    "tempSlab = (potTempFn ) *fn.math.erf((delX*2.)/w0) + ndp.TSP       \n",
    "tempFn1 =  fn.misc.min(tempBL, tempSlab)\n",
    "blFn = fn.branching.conditional([(depthFn < iD, tempFn1), \n",
    "                                    (True, potTempFn)])\n",
    "\n",
    "tempFn = 0.2*sinFn + 0.8*blFn #partition the temp between these the symmetric downwelling and sinusoid\n",
    "if symmetric_IC:  \n",
    "    if not checkpointLoad:\n",
    "        temperatureField.data[:] = tempFn.evaluate(mesh)  "
   ]
  },
  {
   "cell_type": "code",
   "execution_count": 231,
   "metadata": {
    "collapsed": false
   },
   "outputs": [],
   "source": [
    "###########\n",
    "#Thermal initial condition 2: \n",
    "#if slab_IC, we build an asymmetric subduction-zone\n",
    "###########\n",
    "\n",
    "#Main control paramters are:\n",
    "\n",
    "Roc = 550e3 #radius of curvature of slab\n",
    "theta = 89. #Angle to truncate the slab (can also do with with a cutoff depth)\n",
    "subzone = 0.0 #X position of subduction zone...in model coordinates\n",
    "slabmaxAge = 160e6 #age of subduction plate at trench\n",
    "sense = 'Right' #dip direction\n",
    "op_age_fac = 1. #this controls the overidding plate speed, hence age reduction\n",
    "\n",
    "\n",
    "#First build the top TBL\n",
    "\n",
    "dl =  2*math.sqrt(dp.k*slabmaxAge*3600*24*365) #diffusion Length at ... My\n",
    "w0 = dl/dp.LS\n",
    "ageFn1 = (fn.math.abs(fn.math.abs(coordinate[0]) - 2.)/2.)\n",
    "ageFn  = fn.branching.conditional([(coordinate[0] <= 0, ageFn1),\n",
    "                                  (True, ageFn1/op_age_fac)])\n",
    "w = w0*fn.math.sqrt(ageFn + 1e-7)\n",
    "tempBL = (potTempFn) *fn.math.erf((depthFn)/w) + ndp.TSP\n",
    "if slab_IC:\n",
    "    if not checkpointLoad:\n",
    "        out = uw.utils.MeshVariable_Projection( temperatureField, tempBL) #apply function with projection\n",
    "        out.solve()\n",
    "\n",
    "        \n",
    "        \n",
    "#Now build the perturbation part\n",
    "\n",
    "def inCircleFnGenerator(centre, radius):\n",
    "    coord = fn.input()\n",
    "    offsetFn = coord - centre\n",
    "    return fn.math.dot( offsetFn, offsetFn ) < radius**2\n",
    "\n",
    "#Setup slab perturbation params (mostly dimensionlesl / model params here)\n",
    "phi = 90. - theta\n",
    "RocM = (Roc/dp.LS)\n",
    "CrustM = MANTLETOCRUST\n",
    "Org = (subzone, 1.-RocM)\n",
    "\n",
    "#Use three circles to define our slab and crust perturbation,  \n",
    "Oc = inCircleFnGenerator(Org , RocM)\n",
    "Ic = inCircleFnGenerator(Org , RocM - w0)\n",
    "Cc = inCircleFnGenerator(Org , RocM - (2.*CrustM)) #Twice as wide as ordinary crust, weak zone on 'outside' of slab\n",
    "dx = (RocM)/(np.math.tan((np.math.pi/180.)*phi))\n",
    "\n",
    "\n",
    "#We'll also create a triangle which will truncate the circles defining the slab...\n",
    "if sense == 'Left': \n",
    "    ptx = subzone - dx\n",
    "else:\n",
    "    ptx = subzone + dx\n",
    "coords = ((0.+subzone, 1), (0.+subzone, 1.-RocM), (ptx, 1.))\n",
    "Tri = fn.shape.Polygon(np.array(coords))\n",
    "\n",
    "#Actually apply the perturbation\n",
    "if slab_IC:\n",
    "    if not checkpointLoad:\n",
    "        sdFn = ((RocM - fn.math.sqrt((coordinate[0] - Org[0])**2. + (coordinate[1] - Org[1])**2.))) \n",
    "        slabFn = ndp.TPP*fn.math.erf((sdFn)/w0)\n",
    "\n",
    "        for index, coord in enumerate(mesh.data):\n",
    "            #if Oc.evaluate(tuple(coord)) and Tri.evaluate(tuple(coord)) and not Ic.evaluate(tuple(coord)): #in inner circle, not in outer circle\n",
    "            if (\n",
    "                Oc.evaluate(tuple(coord)) and\n",
    "                Tri.evaluate(tuple(coord)) and not\n",
    "                Ic.evaluate(tuple(coord)) and\n",
    "                coord[1] > (1. - (250.e3/dp.LS)) \n",
    "                ): #In the quarter-circle defining the lithosphere\n",
    "                temperatureField.data[index] = slabFn.evaluate(mesh)[index]"
   ]
  },
  {
   "cell_type": "code",
   "execution_count": 232,
   "metadata": {
    "collapsed": false
   },
   "outputs": [],
   "source": [
    "#Make sure material in sticky air region is at the surface temperature.\n",
    "for index, coord in enumerate(mesh.data):\n",
    "            if coord[1] >= 1.:\n",
    "                temperatureField.data[index] = ndp.TSP"
   ]
  },
  {
   "cell_type": "code",
   "execution_count": 233,
   "metadata": {
    "collapsed": false,
    "scrolled": true
   },
   "outputs": [
    {
     "data": {
      "text/html": [
       "<img src='data:image/png;base64,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'>"
      ],
      "text/plain": [
       "<IPython.core.display.HTML object>"
      ]
     },
     "metadata": {},
     "output_type": "display_data"
    }
   ],
   "source": [
    "fig= glucifer.Figure()\n",
    "fig.append( glucifer.objects.Surface(mesh, temperatureField))\n",
    "#fig.append(glucifer.objects.Mesh(mesh))\n",
    "#fig.save_database('test.gldb')\n",
    "\n",
    "#fig.show()"
   ]
  },
  {
   "cell_type": "code",
   "execution_count": null,
   "metadata": {
    "collapsed": true
   },
   "outputs": [],
   "source": []
  },
  {
   "cell_type": "markdown",
   "metadata": {},
   "source": [
    "Boundary conditions\n",
    "-------"
   ]
  },
  {
   "cell_type": "code",
   "execution_count": null,
   "metadata": {
    "collapsed": true
   },
   "outputs": [],
   "source": []
  },
  {
   "cell_type": "code",
   "execution_count": 234,
   "metadata": {
    "collapsed": false
   },
   "outputs": [],
   "source": [
    "for index in mesh.specialSets[\"MinJ_VertexSet\"]:\n",
    "    temperatureField.data[index] = ndp.TBP\n",
    "for index in mesh.specialSets[\"MaxJ_VertexSet\"]:\n",
    "    temperatureField.data[index] = ndp.TSP\n",
    "    \n",
    "iWalls = mesh.specialSets[\"MinI_VertexSet\"] + mesh.specialSets[\"MaxI_VertexSet\"]\n",
    "jWalls = mesh.specialSets[\"MinJ_VertexSet\"] + mesh.specialSets[\"MaxJ_VertexSet\"]\n",
    "tWalls = mesh.specialSets[\"MaxJ_VertexSet\"]\n",
    "bWalls =mesh.specialSets[\"MinJ_VertexSet\"]\n",
    "\n",
    "VelBCs = mesh.specialSets[\"Empty\"]\n",
    "for index in list(tWalls.data):\n",
    "    if (mesh.data[int(index)][0] < (subzone - 0.2) and mesh.data[int(index)][0] > -2 + 0.2): #Only push with a portion of teh overiding plate\n",
    "        VelBCs.add(int(index))\n",
    "        #Set the plate velocities for the kinematic phase\n",
    "        velocityField.data[index] = [ndp.plate_vel, 0.]\n",
    "        \n",
    "\n",
    "#If periodic, we'll fix a the x-vel at a single node - at the bottom left (index 0)\n",
    "Fixed = mesh.specialSets[\"Empty\"]\n",
    "Fixed.add(int(0))        \n",
    "        \n",
    "\n",
    "freeslipBC = uw.conditions.DirichletCondition( variable      = velocityField, \n",
    "                                               indexSetsPerDof = ( iWalls + VelBCs, jWalls) )\n",
    "\n",
    "\n",
    "\n",
    "\n",
    "\n",
    "\n",
    "if periodic[0] == True:\n",
    "    freeslipBC = uw.conditions.DirichletCondition( variable      = velocityField, \n",
    "                                               indexSetsPerDof = ( Fixed + VelBCs , jWalls) )\n",
    "    \n",
    "    \n",
    "    \n",
    "# also set dirichlet for temp field\n",
    "dirichTempBC = uw.conditions.DirichletCondition(     variable=temperatureField, \n",
    "                                              indexSetsPerDof=(tWalls,) )\n",
    "dT_dy = [0.,0.]\n",
    "\n",
    "# also set dirichlet for temp field\n",
    "neumannTempBC = uw.conditions.NeumannCondition( dT_dy, variable=temperatureField, \n",
    "                                         nodeIndexSet=bWalls)\n",
    "\n"
   ]
  },
  {
   "cell_type": "markdown",
   "metadata": {},
   "source": [
    "Swarm setup\n",
    "-----\n"
   ]
  },
  {
   "cell_type": "code",
   "execution_count": 235,
   "metadata": {
    "collapsed": false
   },
   "outputs": [],
   "source": [
    "###########\n",
    "#Material Swarm and variables\n",
    "###########\n",
    "\n",
    "#create material swarm\n",
    "gSwarm = uw.swarm.Swarm(mesh=mesh, particleEscape=True)\n",
    "\n",
    "#create swarm variables\n",
    "yieldingCheck = gSwarm.add_variable( dataType=\"int\", count=1 )\n",
    "tracerVariable = gSwarm.add_variable( dataType=\"int\", count=1)\n",
    "materialVariable = gSwarm.add_variable( dataType=\"int\", count=1 )\n",
    "ageVariable = gSwarm.add_variable( dataType=\"float\", count=1 )\n",
    "\n",
    "\n",
    "#these lists  are part of the checkpointing implementation\n",
    "varlist = [tracerVariable, tracerVariable, yieldingCheck]\n",
    "varlist = [materialVariable, yieldingCheck, ageVariable]\n",
    "varnames = ['materialVariable', 'yieldingCheck', 'ageVariable']"
   ]
  },
  {
   "cell_type": "code",
   "execution_count": 236,
   "metadata": {
    "collapsed": false
   },
   "outputs": [],
   "source": [
    "mantleIndex = 0\n",
    "crustIndex = 1\n",
    "harzIndex = 2\n",
    "airIndex = 3\n",
    "\n",
    "\n",
    "\n",
    "if checkpointLoad:\n",
    "    checkpointLoadDir = natsort.natsort(checkdirs)[-1]\n",
    "    temperatureField.load(os.path.join(checkpointLoadDir, \"temperatureField\" + \".hdf5\"))\n",
    "    pressureField.load(os.path.join(checkpointLoadDir, \"pressureField\" + \".hdf5\"))\n",
    "    velocityField.load(os.path.join(checkpointLoadDir, \"velocityField\" + \".hdf5\"))\n",
    "    gSwarm.load(os.path.join(checkpointLoadDir, \"swarm\" + \".h5\"))\n",
    "    for ix in range(len(varlist)):\n",
    "        varb = varlist[ix]\n",
    "        varb.load(os.path.join(checkpointLoadDir,varnames[ix] + \".h5\"))\n",
    "\n",
    "else:\n",
    "\n",
    "    # Layouts are used to populate the swarm across the whole domain\n",
    "    layout = uw.swarm.layouts.PerCellRandomLayout(swarm=gSwarm, particlesPerCell=ppc)\n",
    "    gSwarm.populate_using_layout( layout=layout ) # Now use it to populate.\n",
    "    # Swarm variables\n",
    "    materialVariable.data[:] = mantleIndex\n",
    "    tracerVariable.data[:] = 1\n",
    "    yieldingCheck.data[:] = 0\n",
    "    ageVariable.data[:] = -1\n",
    "\n",
    "    #Set initial air and crust materials (allow the graph to take care of lithsophere)\n",
    "    #########\n",
    "    #This initial material setup will be model dependent\n",
    "    #########\n",
    "    for particleID in range(gSwarm.particleCoordinates.data.shape[0]):\n",
    "        if (1. - gSwarm.particleCoordinates.data[particleID][1]) < MANTLETOCRUST:\n",
    "                 materialVariable.data[particleID] = crustIndex"
   ]
  },
  {
   "cell_type": "code",
   "execution_count": 237,
   "metadata": {
    "collapsed": false
   },
   "outputs": [],
   "source": [
    "###########\n",
    "#This block sets up a checkboard layout of passive tracers\n",
    "###########\n",
    "\n",
    "square_size = 0.1\n",
    "xlist = np.arange(mesh.minCoord[0] + square_size/2., mesh.maxCoord[0] + square_size/2., square_size)\n",
    "xlist = zip(xlist[:], xlist[1:])[::2]\n",
    "ylist = np.arange(mesh.minCoord[1] + square_size/2., mesh.maxCoord[1] + square_size/2., square_size)\n",
    "ylist = zip(ylist[:], ylist[1:])[::2]\n",
    "xops = []\n",
    "for vals in xlist:\n",
    "    xops.append( (operator.and_(   operator.gt(coordinate[0],vals[0]),   operator.lt(coordinate[0],vals[1])  ),0.) )\n",
    "xops.append((True,1.))\n",
    "\n",
    "testfunc = fn.branching.conditional(xops) \n",
    "\n",
    "yops = []\n",
    "for vals in ylist:\n",
    "    yops.append( (operator.and_(   operator.gt(coordinate[1],vals[0]),   operator.lt(coordinate[1],vals[1])  ),0.) )\n",
    "yops.append((True,testfunc))\n",
    "\n",
    "testfunc2 = fn.branching.conditional(yops) \n",
    "tracerVariable.data[:] = testfunc.evaluate(gSwarm)\n",
    "tracerVariable.data[:] = testfunc2.evaluate(gSwarm)"
   ]
  },
  {
   "cell_type": "code",
   "execution_count": 238,
   "metadata": {
    "collapsed": false
   },
   "outputs": [
    {
     "data": {
      "text/plain": [
       "array([  0.00000000e+00,   1.99999995e-05], dtype=float32)"
      ]
     },
     "execution_count": 238,
     "metadata": {},
     "output_type": "execute_result"
    }
   ],
   "source": [
    "#Set the inital particle age, for particles above the critical depth \n",
    "#(only these will be transformed to crust / harzburgite)\n",
    "\n",
    "ageVariable.data[:] = 0. #start with all zeor\n",
    "crustageCond = 1e-05 #set inital age above critical depth. (about 1.2 Ma.) Might have to be shorter than this - need to experiment\n",
    "ageDT = crustageCond + 1e-5 #initalize ages\n",
    "ageConditions = [ (depthFn < 100e3/dp.LS , ageDT),  \n",
    "                  (True, 0.) ]\n",
    "                 \n",
    "\n",
    "ageEval = fn.branching.conditional( ageConditions ).evaluate(gSwarm)\n",
    "ageVariable.data[np.where(ageEval == 0)] = 0 #If below the critical depth, age is set to zero\n",
    "ageVariable.data[np.where(ageEval != 0)] += ageDT #If age above critical depth, increment age\n",
    "\n",
    "np.unique(ageVariable.data)"
   ]
  },
  {
   "cell_type": "markdown",
   "metadata": {
    "collapsed": false
   },
   "source": [
    "Swarm control (material graph)\n",
    "-----\n",
    "\n"
   ]
  },
  {
   "cell_type": "code",
   "execution_count": null,
   "metadata": {
    "collapsed": false
   },
   "outputs": [],
   "source": [
    "\n"
   ]
  },
  {
   "cell_type": "code",
   "execution_count": 239,
   "metadata": {
    "collapsed": false
   },
   "outputs": [],
   "source": [
    "##############\n",
    "#Here we set up a directed graph object that we we use to control the transformation from one material type to another\n",
    "##############\n",
    "\n",
    "#All depth conditions are given as (km/D) where D is the length scale,\n",
    "#note that 'model depths' are used, e.g. 1-z, where z is the vertical Underworld coordinate\n",
    "#All temp conditions are in dimensionless temp. [0. - 1.]\n",
    "\n",
    "#This is a quick fix for a bug that arises in parallel runs\n",
    "material_list = [0,1,2,3]\n",
    "\n",
    "if not checkpointLoad:\n",
    "    materialVariable.data[:] = 0 #Initialize to zero \n",
    "\n",
    "#Setup the graph object\n",
    "DG = material_graph.MatGraph()\n",
    "\n",
    "#Important: First thing to do is to add all the material types to the graph (i.e add nodes)\n",
    "DG.add_nodes_from(material_list)\n",
    "\n",
    "#Now set the conditions for transformations\n",
    "\n",
    "#... to mantle\n",
    "DG.add_transition((crustIndex,mantleIndex), depthFn, operator.gt, CRUSTTOMANTLE)\n",
    "DG.add_transition((harzIndex,mantleIndex), depthFn, operator.gt, CRUSTTOMANTLE)\n",
    "#DG.add_transition((airIndex,mantleIndex), depthFn, operator.gt, TOPOHEIGHT)\n",
    "\n",
    "#... to crust\n",
    "DG.add_transition((mantleIndex,crustIndex), depthFn, operator.lt, MANTLETOCRUST)\n",
    "#DG.add_transition((mantleIndex,crustIndex), xFn, operator.lt, 0.) #No crust on the upper plate\n",
    "DG.add_transition((mantleIndex,crustIndex), ageVariable, operator.gt, crustageCond)\n",
    "\n",
    "DG.add_transition((harzIndex,crustIndex), depthFn, operator.lt, MANTLETOCRUST)\n",
    "#DG.add_transition((harzIndex,crustIndex), xFn, operator.lt, 0.) #This one sets no crust on the upper plate\n",
    "DG.add_transition((harzIndex,crustIndex), ageVariable, operator.gt, crustageCond)\n",
    "\n",
    "#... to Harzbugite\n",
    "DG.add_transition((mantleIndex,harzIndex), depthFn, operator.lt, HARZBURGDEPTH)\n",
    "DG.add_transition((mantleIndex,harzIndex), depthFn, operator.gt, MANTLETOCRUST)\n",
    "DG.add_transition((mantleIndex,harzIndex), ageVariable, operator.gt, crustageCond) #Note we can mix functions and swarm variabls\n",
    "\n",
    "#... to air\n",
    "#DG.add_transition((mantleIndex,airIndex), depthFn, operator.lt,0. - TOPOHEIGHT)\n",
    "#DG.add_transition((crustIndex,airIndex), depthFn, operator.lt, 0. - TOPOHEIGHT)\n",
    "\n"
   ]
  },
  {
   "cell_type": "code",
   "execution_count": 240,
   "metadata": {
    "collapsed": false
   },
   "outputs": [
    {
     "data": {
      "text/plain": [
       "(0.1, 0.02285)"
      ]
     },
     "execution_count": 240,
     "metadata": {},
     "output_type": "execute_result"
    }
   ],
   "source": [
    "CRUSTTOMANTLE, HARZBURGDEPTH"
   ]
  },
  {
   "cell_type": "code",
   "execution_count": 241,
   "metadata": {
    "collapsed": true
   },
   "outputs": [],
   "source": [
    "##############\n",
    "#For the slab_IC, we'll aslo add a crustal weak zone following the dipping perturbation\n",
    "##############\n",
    "\n",
    "if checkpointLoad != True:\n",
    "    if slab_IC:\n",
    "        for particleID in range(gSwarm.particleCoordinates.data.shape[0]):\n",
    "            if (\n",
    "                Oc.evaluate(list(gSwarm.particleCoordinates.data[particleID])) and\n",
    "                Tri.evaluate(list(gSwarm.particleCoordinates.data[particleID])) and\n",
    "                Cc.evaluate(list(gSwarm.particleCoordinates.data[particleID])) == False\n",
    "                ):\n",
    "                materialVariable.data[particleID] = crustIndex"
   ]
  },
  {
   "cell_type": "code",
   "execution_count": 242,
   "metadata": {
    "collapsed": false
   },
   "outputs": [],
   "source": [
    "##############\n",
    "#This is how we use the material graph object to test / apply material transformations\n",
    "##############\n",
    "DG.build_condition_list(materialVariable)\n",
    "for i in range(3): #Need to go through a number of times\n",
    "    materialVariable.data[:] = fn.branching.conditional(DG.condition_list).evaluate(gSwarm)"
   ]
  },
  {
   "cell_type": "code",
   "execution_count": 243,
   "metadata": {
    "collapsed": false
   },
   "outputs": [],
   "source": [
    "#DG.build_condition_list(materialVariable)\n",
    "#materialVariable.data[:] = fn.branching.conditional(DG.condition_list).evaluate(gSwarm)"
   ]
  },
  {
   "cell_type": "code",
   "execution_count": 244,
   "metadata": {
    "collapsed": false
   },
   "outputs": [
    {
     "data": {
      "text/html": [
       "<img src='data:image/png;base64,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'>"
      ],
      "text/plain": [
       "<IPython.core.display.HTML object>"
      ]
     },
     "metadata": {},
     "output_type": "display_data"
    },
    {
     "data": {
      "text/plain": [
       "'test.gldb'"
      ]
     },
     "execution_count": 244,
     "metadata": {},
     "output_type": "execute_result"
    }
   ],
   "source": [
    "fig= glucifer.Figure()\n",
    "#fig.append( glucifer.objects.Points(gSwarm,tracerVariable, colours= 'white black'))\n",
    "fig.append( glucifer.objects.Points(gSwarm,materialVariable))\n",
    "#fig.append( glucifer.objects.Surface(mesh, dummyField))\n",
    "#fig.show()\n",
    "#fig.save_database('test.gldb')"
   ]
  },
  {
   "cell_type": "markdown",
   "metadata": {},
   "source": [
    "Rheology\n",
    "-----\n",
    "\n"
   ]
  },
  {
   "cell_type": "code",
   "execution_count": 150,
   "metadata": {
    "collapsed": false
   },
   "outputs": [],
   "source": [
    "# The yeilding of the upper slab is dependent on the strain rate.\n",
    "strainRate_2ndInvariant = fn.tensor.second_invariant( \n",
    "                            fn.tensor.symmetric( \n",
    "                            velocityField.fn_gradient ))\n",
    "\n"
   ]
  },
  {
   "cell_type": "code",
   "execution_count": 151,
   "metadata": {
    "collapsed": false
   },
   "outputs": [
    {
     "data": {
      "text/plain": [
       "(49.15683109565078, 17.875211307509375, 28.301795831549015, 19.75229500743525)"
      ]
     },
     "execution_count": 151,
     "metadata": {},
     "output_type": "execute_result"
    }
   ],
   "source": [
    "ndp.Wds, ndp.Wdf, ndp.Eds, ndp.Edf"
   ]
  },
  {
   "cell_type": "code",
   "execution_count": 152,
   "metadata": {
    "collapsed": false
   },
   "outputs": [],
   "source": [
    "ViscReduce = 0.75\n",
    "\n",
    "#ndp.Wds *= ViscReduce\n",
    "#ndp.Wdf *= ViscReduce\n",
    "ndp.Eds *= ViscReduce\n",
    "ndp.Edf *= ViscReduce"
   ]
  },
  {
   "cell_type": "code",
   "execution_count": 153,
   "metadata": {
    "collapsed": false
   },
   "outputs": [
    {
     "data": {
      "text/plain": [
       "(17.875211307509375, 19.75229500743525, 100000.0)"
      ]
     },
     "execution_count": 153,
     "metadata": {},
     "output_type": "execute_result"
    }
   ],
   "source": [
    "ndp.Wdf, ndp.Edf,ndp.eta_max"
   ]
  },
  {
   "cell_type": "code",
   "execution_count": 169,
   "metadata": {
    "collapsed": false
   },
   "outputs": [],
   "source": [
    "############\n",
    "#Rheology\n",
    "#############\n",
    "#\n",
    "#The final mantle rheology is composed as follows*:\n",
    "# \n",
    "#\n",
    "# mantleviscosityFn = max{  min{(1/omega*Visc + 1/eta_p)**-1,\n",
    "#                           eta_max},\n",
    "#                           eta_min}\n",
    "#                      \n",
    "#Visc => min{diffusionCreep, dislocationCreep, }\n",
    "#eta_p   => stress-limiting effective viscosity\n",
    "#\n",
    "\n",
    "omega = fn.misc.constant(1.)\n",
    "\n",
    "if melt_viscosity_reduction:\n",
    "    mvr =  fn.branching.conditional( [ (temperatureField > (ndp.Tmvp + 7.5*(1. - coordinate[1])) , 0.1 ),   (         True, 1.) ] )\n",
    "    omega = omega*mvr\n",
    "\n",
    "\n",
    "#implementation of the lower mantle viscosity increase, similar to Bello et al. 2015\n",
    "a = 1.\n",
    "B = 30.\n",
    "d0 = 660e3/dp.LS  \n",
    "ds = d0/10.\n",
    "if lower_mantle:\n",
    "    inner1 = 1. - 0.5*(1. - fn.math.tanh(((1. - d0)-(coordinate[1]))/(ds)))\n",
    "    modfac = a*fn.math.exp(np.log(B)*inner1)\n",
    "    omega = omega*modfac\n",
    "\n",
    "\n",
    "##Diffusion Creep\n",
    "ndfp = fn.misc.min(ndp.eta_max, fn.math.exp( ((ndp.Edf + (depthFn*ndp.Wdf))/((temperatureField + ndp.TS))) - \n",
    "              ((ndp.Edf + (ndp.Dr*ndp.Wdf))/((ndp.TPP + ndp.TS)))  ))\n",
    "\n",
    "linearVisc = fn.misc.min(ndp.eta_max, ndfp)\n",
    "\n",
    "##Dislocation Creep\n",
    "nl_correction = (strainRate_2ndInvariant/ndp.SR)**((1.-ndp.n)/(ndp.n))\n",
    "\n",
    "\n",
    "ndsp = fn.misc.min(ndp.eta_max,(nl_correction)*fn.math.exp( ((ndp.Eds + (depthFn*ndp.Wds))/(ndp.n*(temperatureField + ndp.TS))) -\n",
    "                                     ((ndp.Eds + (ndp.Dr*ndp.Wds))/(ndp.n*(ndp.TPP + ndp.TS)))))\n",
    "\n",
    "\n",
    "##Combine the creep mechanisms\n",
    "Visc = fn.misc.max(fn.misc.min(ndp.eta_max, fn.misc.min(ndfp, ndsp)), ndp.eta_min)\n",
    "\n",
    "##Define the Plasticity\n",
    "ys =  ndp.cohesion + (depthFn*ndp.fcd) #In this case we'll use a valid cohesion\n",
    "yielding = ys/(strainRate_2ndInvariant/math.sqrt(0.5)) #extra factor to account for underworld second invariant form\n",
    "\n",
    "\n",
    "#Combine the viscous creep and plasticity\n",
    "#mantleviscosityFn = fn.misc.max(fn.misc.min(1./(((1./Visc) + (1./yielding))), ndp.eta_max), ndp.eta_min)\n",
    "mantleviscosityFn = fn.misc.max(fn.misc.min(fn.misc.min(Visc, yielding), ndp.eta_max), ndp.eta_min)\n",
    "\n",
    "\n",
    "#fn.misc.min(Visc, yielding)\n",
    "\n",
    "#lower mantle rheology\n",
    "\n",
    "#ndflm = fn.misc.min(ndp.eta_max, fn.math.exp( ((ndp.Elm + (depthFn*ndp.Wlm))/((temperatureField + ndp.TS))) - \n",
    "#              ((ndp.Elm + (ndp.Dr*ndp.Wlm))/((ndp.TPP + ndp.TS)))  ))\n",
    "\n",
    "#I ignored Cizkova's lower mantle diffusion creep parameters, \n",
    "#as they appeared to give lower values that the upper mantle rheology, i.e a visc. decrease at 660.\n",
    "#lm_increase = 1.\n",
    "#lowermantleviscosityFn = fn.misc.max(lm_increase*ndfp, ndp.eta_min)\n",
    "\n",
    "\n",
    "##Crust rheology\n",
    "#reduceFac = 0.1\n",
    "#ysc =  reduceFac*ndp.cohesion + reduceFac*(depthFn*gamma*ndp.RA) #In this case we'll use a valid cohesion\n",
    "#crust_yielding = ysc/(strainRate_2ndInvariant/math.sqrt(0.5)) #extra factor to account for underworld second invariant form\n",
    "#crustviscosityFn = fn.misc.max(fn.misc.min(1./(((1./Visc) + (1./crust_yielding))), ndp.eta_max), ndp.eta_min)\n"
   ]
  },
  {
   "cell_type": "code",
   "execution_count": null,
   "metadata": {
    "collapsed": true
   },
   "outputs": [],
   "source": []
  },
  {
   "cell_type": "markdown",
   "metadata": {},
   "source": [
    "import matplotlib.pylab as pyplt\n",
    "%matplotlib inline\n",
    "\n",
    "\n",
    "\n",
    "##################\n",
    "#Output functions to numpy vertical averages, maxes, mins\n",
    "##################\n",
    "\n",
    "viscmapFnmesh = uw.mesh.MeshVariable(mesh,nodeDofCount=1)\n",
    "out = uw.utils.MeshVariable_Projection( viscmapFnmesh, viscosityMapFn)\n",
    "out.solve()\n",
    "\n",
    "\n",
    "#avDf = ndfp.evaluate(mesh).reshape(mesh.elementRes[1] + 1, mesh.elementRes[0] + 1).mean(axis=1)\n",
    "avDs = ndsp.evaluate(mesh).reshape(mesh.elementRes[1] + 1, mesh.elementRes[0] + 1).mean(axis=1)\n",
    "umantle = mantleviscosityFn.evaluate(mesh).reshape(mesh.elementRes[1] + 1, mesh.elementRes[0] + 1).mean(axis=1)\n",
    "lmantle = lowermantleviscosityFn.evaluate(mesh).reshape(mesh.elementRes[1] + 1, mesh.elementRes[0] + 1).mean(axis=1)\n",
    "eff = viscmapFnmesh.evaluate(mesh).reshape(mesh.elementRes[1] + 1, mesh.elementRes[0] + 1).mean(axis=1)\n",
    "\n",
    "effMin = viscmapFnmesh.evaluate(mesh).reshape(mesh.elementRes[1] + 1, mesh.elementRes[0] + 1).min(axis=1)\n",
    "effMax = viscmapFnmesh.evaluate(mesh).reshape(mesh.elementRes[1] + 1, mesh.elementRes[0] + 1).max(axis=1)\n",
    "\n",
    "###################\n",
    "#Plot\n",
    "###################\n",
    "import matplotlib.pylab as pyplt\n",
    "%matplotlib inline\n",
    "\n",
    "fig, ax = pyplt.subplots()\n",
    "#ax .plot(avDf, label = 'diff')\n",
    "#ax .plot(avDs, label = 'dis')\n",
    "ax .plot(eff, label = 'eff')\n",
    "ax .plot(effMax, label = 'effMax')\n",
    "ax .plot(effMin, label = 'effMin')\n",
    "#ax .plot(umantle, label = 'uman')\n",
    "#ax .plot(lmantle, label = 'lman')\n",
    "ax.set_yscale(\"log\", nonposy='clip')\n",
    "ax.legend(loc = 3)"
   ]
  },
  {
   "cell_type": "code",
   "execution_count": 183,
   "metadata": {
    "collapsed": false
   },
   "outputs": [
    {
     "data": {
      "text/html": [
       "<img src='data:image/png;base64,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'>"
      ],
      "text/plain": [
       "<IPython.core.display.HTML object>"
      ]
     },
     "metadata": {},
     "output_type": "display_data"
    }
   ],
   "source": [
    "fig= glucifer.Figure()\n",
    "#fig.append( glucifer.objects.Points(gSwarm,tracerVariable, colours= 'white black'))\n",
    "#fig.append( glucifer.objects.Points(gSwarm,viscosityMapFn, logScale=True))\n",
    "fig.append( glucifer.objects.Surface(mesh, ndfp/ndsp, logScale=True))\n",
    "\n",
    "#fig.append( glucifer.objects.Surface(mesh,strainRate_2ndInvariant, logScale=True))\n",
    "#fig.show()\n",
    "#fig.save_database('test.gldb')"
   ]
  },
  {
   "cell_type": "code",
   "execution_count": 171,
   "metadata": {
    "collapsed": false
   },
   "outputs": [],
   "source": [
    "#fig.save_database('test.gldb')"
   ]
  },
  {
   "cell_type": "code",
   "execution_count": 172,
   "metadata": {
    "collapsed": false
   },
   "outputs": [],
   "source": [
    "fig= glucifer.Figure()\n",
    "#fig.append( glucifer.objects.Points(gSwarm,tracerVariable, colours= 'white black'))\n",
    "#fig.append( glucifer.objects.Points(gSwarm,materialVariable))\n",
    "#fig.append( glucifer.objects.Surface(mesh, ndfp/ndsp , logScale=True))\n",
    "\n",
    "fig.append( glucifer.objects.Surface(mesh, strainRate_2ndInvariant/ndp.SR))\n",
    "#fig.show()\n",
    "#fig.save_database('test.gldb')"
   ]
  },
  {
   "cell_type": "markdown",
   "metadata": {},
   "source": [
    "Stokes system setup\n",
    "-----\n"
   ]
  },
  {
   "cell_type": "code",
   "execution_count": 173,
   "metadata": {
    "collapsed": false
   },
   "outputs": [],
   "source": [
    "#this accounts for the decreas in expansivity\n",
    "alphaRatio = 1.2/3\n",
    "taFn = 1. - (1. - depthFn)*(1. - alphaRatio) \n",
    "raylieghFn = ndp.RA*temperatureField*taFn \n",
    "\n",
    "\n",
    "# Here we set a viscosity value of '1.' for both materials\n",
    "viscosityMapFn = fn.branching.map( fn_key = materialVariable,\n",
    "                         mapping = {crustIndex:ndp.eta_crust,\n",
    "                                    mantleIndex:mantleviscosityFn,\n",
    "                                    harzIndex:mantleviscosityFn,\n",
    "                                    \n",
    "                                    airIndex:ndp.Steta0} )\n",
    "\n",
    "densityMapFn = fn.branching.map( fn_key = materialVariable,\n",
    "                         mapping = {airIndex:ndp.StRA,\n",
    "                                    crustIndex:raylieghFn, \n",
    "                                    mantleIndex:raylieghFn,\n",
    "                                    harzIndex:raylieghFn} )"
   ]
  },
  {
   "cell_type": "code",
   "execution_count": 174,
   "metadata": {
    "collapsed": false
   },
   "outputs": [],
   "source": [
    "\n",
    "# Define our vertical unit vector using a python tuple (this will be automatically converted to a function).\n",
    "gravity = ( 0.0, 1.0 )\n",
    "\n",
    "# Now create a buoyancy force vector using the density and the vertical unit vector. \n",
    "buoyancyFn = densityMapFn * gravity"
   ]
  },
  {
   "cell_type": "code",
   "execution_count": 175,
   "metadata": {
    "collapsed": false
   },
   "outputs": [],
   "source": [
    "stokesPIC = uw.systems.Stokes(velocityField=velocityField, \n",
    "                              pressureField=pressureField,\n",
    "                              conditions=[freeslipBC,],\n",
    "                              fn_viscosity=linearVisc, \n",
    "                              fn_bodyforce=buoyancyFn )"
   ]
  },
  {
   "cell_type": "code",
   "execution_count": 162,
   "metadata": {
    "collapsed": false
   },
   "outputs": [],
   "source": [
    "solver = uw.systems.Solver(stokesPIC)\n",
    "if not checkpointLoad:\n",
    "    solver.solve() #A solve on the linear visocisty is unhelpful unless we're starting from scratch"
   ]
  },
  {
   "cell_type": "code",
   "execution_count": 176,
   "metadata": {
    "collapsed": true
   },
   "outputs": [],
   "source": [
    "#Add the non-linear viscosity to the Stokes system\n",
    "stokesPIC.fn_viscosity = viscosityMapFn"
   ]
  },
  {
   "cell_type": "code",
   "execution_count": 177,
   "metadata": {
    "collapsed": false
   },
   "outputs": [
    {
     "name": "stdout",
     "output_type": "stream",
     "text": [
      "\u001b[1;35m\n",
      " \n",
      "Pressure iterations:   5\n",
      "Velocity iterations:   1 (presolve)      \n",
      "Velocity iterations:  -1 (pressure solve)\n",
      "Velocity iterations:   1 (backsolve)     \n",
      "Velocity iterations:   1 (total solve)   \n",
      " \n",
      "SCR RHS  solve time: 5.6041e-01\n",
      "Pressure solve time: 6.9462e-02\n",
      "Velocity solve time: 5.0156e-01 (backsolve)\n",
      "Total solve time   : 1.2227e+00\n",
      " \n",
      "Velocity solution min/max: 0.0000e+00/0.0000e+00\n",
      "Pressure solution min/max: 0.0000e+00/0.0000e+00\n",
      " \n",
      "\u001b[00m\n"
     ]
    }
   ],
   "source": [
    "solver.set_inner_method(\"mumps\")\n",
    "solver.options.scr.ksp_type=\"cg\"\n",
    "solver.set_penalty(1.0e7)\n",
    "solver.options.scr.ksp_rtol = 1.0e-4\n",
    "solver.solve(nonLinearIterate=True)\n",
    "solver.print_stats()"
   ]
  },
  {
   "cell_type": "code",
   "execution_count": 83,
   "metadata": {
    "collapsed": false
   },
   "outputs": [],
   "source": [
    "#Check which particles are yielding\n",
    "#yieldingCheck.data[:] = 0\n",
    "\n",
    "#yieldconditions = [ ( mantleviscosityFn < Visc , 1), \n",
    "#               ( True                                           , 0) ]\n",
    "\n",
    "# use the branching conditional function to set each particle's index\n",
    "#yieldingCheck.data[:] = fn.branching.conditional( yieldconditions ).evaluate(gSwarm)"
   ]
  },
  {
   "cell_type": "code",
   "execution_count": 39,
   "metadata": {
    "collapsed": false,
    "scrolled": true
   },
   "outputs": [],
   "source": [
    "#fig= glucifer.Figure()\n",
    "#fig.append( glucifer.objects.Points(gSwarm,yieldingCheck))\n",
    "\n",
    "#fig.append( glucifer.objects.Surface(mesh,ndflm, logScale=True))\n",
    "#fig.show()"
   ]
  },
  {
   "cell_type": "markdown",
   "metadata": {},
   "source": [
    "Advection-diffusion System setup\n",
    "-----"
   ]
  },
  {
   "cell_type": "code",
   "execution_count": null,
   "metadata": {
    "collapsed": true
   },
   "outputs": [],
   "source": [
    "advDiff = uw.systems.AdvectionDiffusion( phiField       = temperatureField, \n",
    "                                         phiDotField    = temperatureDotField, \n",
    "                                         velocityField  = velocityField,\n",
    "                                         fn_sourceTerm    = 0.0,\n",
    "                                         fn_diffusivity = 1.0, \n",
    "                                         #conditions     = [neumannTempBC, dirichTempBC] )\n",
    "                                         conditions     = [ dirichTempBC] )\n",
    "\n",
    "passiveadvector = uw.systems.SwarmAdvector( swarm         = gSwarm, \n",
    "                                     velocityField = velocityField, \n",
    "                                     order         = 1)"
   ]
  },
  {
   "cell_type": "code",
   "execution_count": null,
   "metadata": {
    "collapsed": true
   },
   "outputs": [],
   "source": [
    "population_control = uw.swarm.PopulationControl(gSwarm,deleteThreshold=0.2,splitThreshold=1.,maxDeletions=3,maxSplits=0, aggressive=True, particlesPerCell=ppc)"
   ]
  },
  {
   "cell_type": "markdown",
   "metadata": {},
   "source": [
    "Analysis functions / routines\n",
    "-----"
   ]
  },
  {
   "cell_type": "code",
   "execution_count": null,
   "metadata": {
    "collapsed": true
   },
   "outputs": [],
   "source": [
    "#These are functions we can use to evuate integrals over restricted parts of the domain\n",
    "# For instance, we can exclude the thermal lithosphere from integrals\n",
    "\n",
    "def temprestrictionFn(lithval = 0.9):\n",
    "\n",
    "    tempMM = fn.view.min_max(temperatureField)\n",
    "    tempMM.evaluate(mesh)\n",
    "    TMAX = tempMM.max_global()\n",
    "    mantleconditions = [ (                                  temperatureField > lithval*TMAX, 1.),\n",
    "                   (                                                   True , 0.) ]\n",
    "\n",
    "\n",
    "    return fn.branching.conditional(mantleconditions)\n",
    "\n",
    "mantlerestrictFn = temprestrictionFn(lithval = 0.85)\n",
    "\n",
    "\n",
    "\n",
    "def platenessFn(val = 0.1):\n",
    "    normgradV = fn.math.abs(velocityField.fn_gradient[0]/fn.math.sqrt(velocityField[0]*velocityField[0])) #[du*/dx]/sqrt(u*u)\n",
    "\n",
    "\n",
    "\n",
    "    srconditions = [ (                                  normgradV < val, 1.),\n",
    "                   (                                                   True , 0.) ]\n",
    "\n",
    "\n",
    "    return fn.branching.conditional(srconditions)\n",
    "\n",
    "srrestrictFn = platenessFn(val = 0.1)"
   ]
  },
  {
   "cell_type": "code",
   "execution_count": null,
   "metadata": {
    "collapsed": false
   },
   "outputs": [],
   "source": [
    "fig = glucifer.Figure()\n",
    "fig.append( glucifer.objects.Surface(mesh, temperatureField) )\n",
    "\n",
    "#fig.show()\n",
    "#fig.save_database('test.gldb')"
   ]
  },
  {
   "cell_type": "code",
   "execution_count": null,
   "metadata": {
    "collapsed": false
   },
   "outputs": [],
   "source": [
    "#Setup volume integrals \n",
    "\n",
    "tempint = uw.utils.Integral( temperatureField, mesh )\n",
    "areaint = uw.utils.Integral( 1.,               mesh )\n",
    "\n",
    "v2int   = uw.utils.Integral( fn.math.dot(velocityField,velocityField), mesh )\n",
    "\n",
    "dwint   = uw.utils.Integral( temperatureField*velocityField[1], mesh )\n",
    "\n",
    "sinner = fn.math.dot( strainRate_2ndInvariant, strainRate_2ndInvariant )\n",
    "vdint = uw.utils.Integral( (4.*viscosityMapFn*sinner), mesh )\n",
    "\n",
    "mantleArea   = uw.utils.Integral( mantlerestrictFn, mesh )\n",
    "mantleTemp = uw.utils.Integral( temperatureField*mantlerestrictFn, mesh )\n",
    "mantleVisc = uw.utils.Integral( mantleviscosityFn*mantlerestrictFn, mesh )\n",
    "mantleVd = uw.utils.Integral( (4.*viscosityMapFn*sinner*mantlerestrictFn), mesh ) #these now work on MappingFunctions"
   ]
  },
  {
   "cell_type": "code",
   "execution_count": null,
   "metadata": {
    "collapsed": true
   },
   "outputs": [],
   "source": [
    "#Setup surface integrals\n",
    "\n",
    "rmsSurfInt = uw.utils.Integral( fn=velocityField[0]*velocityField[0], mesh=mesh, integrationType='Surface', \n",
    "                          surfaceIndexSet=mesh.specialSets[\"MaxJ_VertexSet\"])\n",
    "nuTop      = uw.utils.Integral( fn=temperatureField.fn_gradient[1],    mesh=mesh, integrationType='Surface', \n",
    "                          surfaceIndexSet=mesh.specialSets[\"MaxJ_VertexSet\"])\n",
    "nuBottom   = uw.utils.Integral( fn=temperatureField.fn_gradient[1],    mesh=mesh, integrationType='Surface', \n",
    "                          surfaceIndexSet=mesh.specialSets[\"MinJ_VertexSet\"])\n",
    "\n",
    "plateint  = uw.utils.Integral( fn=srrestrictFn, mesh=mesh, integrationType='Surface', #Integrate the plateness function\n",
    "                          surfaceIndexSet=mesh.specialSets[\"MaxJ_VertexSet\"]) \n",
    "\n",
    "surfint  = uw.utils.Integral( fn=1., mesh=mesh, integrationType='Surface',   #Surface length function (i.e. domain width)\n",
    "                          surfaceIndexSet=mesh.specialSets[\"MaxJ_VertexSet\"])"
   ]
  },
  {
   "cell_type": "code",
   "execution_count": null,
   "metadata": {
    "collapsed": true
   },
   "outputs": [],
   "source": [
    "#Define functions for the evaluation of integrals\n",
    "\n",
    "def basic_int(ourIntegral):           #This one just hands back the evaluated integral\n",
    "    return ourIntegral.evaluate()[0]\n",
    "\n",
    "def avg_temp():\n",
    "    return tempint.evaluate()[0]/areaint.evaluate()[0]\n",
    "\n",
    "def nusseltTB(temp_field, mesh):\n",
    "    return -nuTop.evaluate()[0], -nuBottom.evaluate()[0]\n",
    "\n",
    "def rms():\n",
    "    return math.sqrt(v2int.evaluate()[0]/areaint.evaluate()[0])\n",
    "\n",
    "def rms_surf():\n",
    "    return math.sqrt(rmsSurfInt.evaluate()[0])\n",
    "\n",
    "def max_vx_surf(velfield, mesh):\n",
    "    vuvelxfn = fn.view.min_max(velfield[0])\n",
    "    vuvelxfn.evaluate(mesh.specialSets[\"MaxJ_VertexSet\"])\n",
    "    return vuvelxfn.max_global()\n",
    "\n",
    "\n",
    "def visc_extr(viscfn):\n",
    "    vuviscfn = fn.view.min_max(viscfn)\n",
    "    vuviscfn.evaluate(mesh)\n",
    "    return vuviscfn.max_global(), vuviscfn.min_global()"
   ]
  },
  {
   "cell_type": "code",
   "execution_count": null,
   "metadata": {
    "collapsed": false
   },
   "outputs": [],
   "source": [
    "#v2sum_integral  = uw.utils.Integral( mesh=mesh, fn=fn.math.dot( velocityField, velocityField ) )\n",
    "#volume_integral = uw.utils.Integral( mesh=mesh, fn=1. )\n",
    "#Vrms = math.sqrt( v2sum_integral.evaluate()[0] )/volume_integral.evaluate()[0]\n",
    "\n",
    "\n",
    "\n",
    "#if(uw.rank()==0):\n",
    "#    print('Initial Vrms = {0:.3f}'.format(Vrms))\n",
    "\n",
    "# Check the Metrics\n",
    "\n",
    "#Avg_temp = avg_temp()\n",
    "#Rms = rms()\n",
    "#Rms_surf = rms_surf()\n",
    "#Max_vx_surf = max_vx_surf(velocityField, mesh)\n",
    "#Gravwork = basic_int(dwint)\n",
    "#Viscdis = basic_int(vdint)\n",
    "#nu1, nu0 = nusseltTB(temperatureField, mesh) # return top then bottom\n",
    "#etamax, etamin = visc_extr(mantleviscosityFn)\n",
    "\n",
    "#Area_mantle = basic_int(mantleArea)\n",
    "#Viscmantle = basic_int(mantleVisc)\n",
    "#Tempmantle = basic_int(mantleTemp)\n",
    "#Viscdismantle = basic_int(mantleVd)"
   ]
  },
  {
   "cell_type": "markdown",
   "metadata": {},
   "source": [
    "Viz.\n",
    "-----"
   ]
  },
  {
   "cell_type": "code",
   "execution_count": null,
   "metadata": {
    "collapsed": false
   },
   "outputs": [],
   "source": [
    "viscVariable = gSwarm.add_variable( dataType=\"float\", count=1 )\n",
    "viscVariable.data[:] = viscosityMapFn.evaluate(gSwarm)"
   ]
  },
  {
   "cell_type": "code",
   "execution_count": 103,
   "metadata": {
    "collapsed": false
   },
   "outputs": [],
   "source": [
    "#Pack some stuff into a database as well\n",
    "figDb = glucifer.Figure()\n",
    "#figDb.append( glucifer.objects.Mesh(mesh))\n",
    "figDb.append( glucifer.objects.VectorArrows(mesh,velocityField, scaling=0.0005))\n",
    "#figDb.append( glucifer.objects.Points(gSwarm,tracerVariable, colours= 'white black'))\n",
    "figDb.append( glucifer.objects.Points(gSwarm,materialVariable))\n",
    "\n",
    "figDb.append( glucifer.objects.Points(gSwarm,viscosityMapFn, logScale=True))\n",
    "figDb.append( glucifer.objects.Surface(mesh, strainRate_2ndInvariant, logScale=True))\n",
    "figDb.append( glucifer.objects.Surface(mesh, temperatureField))\n",
    "#figDb.show()"
   ]
  },
  {
   "cell_type": "code",
   "execution_count": null,
   "metadata": {
    "collapsed": false
   },
   "outputs": [],
   "source": [
    "##############\n",
    "#Create a numpy array at the surface to get surface information on (using parallel-friendly evaluate_global)\n",
    "##############\n",
    "\n",
    "surface_xs = np.linspace(mesh.minCoord[0], mesh.maxCoord[0], mesh.elementRes[0] + 1)\n",
    "surface_nodes = np.array(zip(surface_xs, np.ones(len(surface_xs)*mesh.maxCoord[1]))) #For evaluation surface velocity\n",
    "normgradV = velocityField.fn_gradient[0]/fn.math.sqrt(velocityField[0]*velocityField[0])\n",
    "\n",
    "tempMM = fn.view.min_max(temperatureField)\n",
    "dummy = tempMM.evaluate(mesh)\n",
    "\n"
   ]
  },
  {
   "cell_type": "markdown",
   "metadata": {},
   "source": [
    "**Miscellania**"
   ]
  },
  {
   "cell_type": "code",
   "execution_count": 60,
   "metadata": {
    "collapsed": false
   },
   "outputs": [],
   "source": [
    "##############\n",
    "#These functions handle checkpointing\n",
    "##############\n",
    "\n",
    "\n",
    "def checkpoint1(step, checkpointPath,filename, filewrites):\n",
    "    path = checkpointPath + str(step) \n",
    "    os.mkdir(path)\n",
    "    ##Write and save the file, if not already a writing step\n",
    "    if not step % filewrites == 0:\n",
    "        filename.write((17*'%-15s ' + '\\n') % (realtime, Viscdis, float(nu0), float(nu1), Avg_temp,\n",
    "                                              Tempmantle,TMAX,\n",
    "                                              Rms,Rms_surf,Max_vx_surf,Gravwork, etamax, etamin, \n",
    "                                              Area_mantle, Viscmantle,  Viscdismantle,Plateness ))\n",
    "    filename.close()\n",
    "    shutil.copyfile(os.path.join(outputPath, outputFile), os.path.join(path, outputFile))\n",
    "\n",
    "\n",
    "def checkpoint2(step, checkpointPath, swarm, filename, varlist = [materialVariable], varnames = ['materialVariable']):\n",
    "    path = checkpointPath + str(step) \n",
    "    velfile = \"velocityField\" + \".hdf5\"\n",
    "    tempfile = \"temperatureField\" + \".hdf5\"\n",
    "    pressfile = \"pressureField\" + \".hdf5\"\n",
    "    velocityField.save(os.path.join(path, velfile))\n",
    "    temperatureField.save(os.path.join(path, tempfile))\n",
    "    pressureField.save(os.path.join(path, pressfile))\n",
    "    swarm.save(os.path.join(path, \"swarm.h5\") ) \n",
    "    for ix in range(len(varlist)):\n",
    "        varb = varlist[ix]\n",
    "        varb.save(os.path.join(path,varnames[ix] + \".h5\"))\n",
    "    "
   ]
  },
  {
   "cell_type": "code",
   "execution_count": null,
   "metadata": {
    "collapsed": false
   },
   "outputs": [],
   "source": [
    "# initialise timer for computation\n",
    "start = time.clock()\n",
    "# setup summary output file (name above)\n",
    "if checkpointLoad:\n",
    "    if uw.rank() == 0:\n",
    "        shutil.copyfile(os.path.join(checkpointLoadDir, outputFile), outputPath+outputFile)\n",
    "    comm.Barrier()\n",
    "    f_o = open(os.path.join(outputPath, outputFile), 'a')\n",
    "    prevdata = np.genfromtxt(os.path.join(outputPath, outputFile), skip_header=0, skip_footer=0)\n",
    "    if len(prevdata.shape) == 1: #this is in case there is only one line in previous file\n",
    "        realtime = prevdata[0]\n",
    "    else:\n",
    "        realtime = prevdata[prevdata.shape[0]-1, 0]\n",
    "    step = int(checkpointLoadDir.split('/')[-1])\n",
    "    timevals = [0.]\n",
    "else:\n",
    "    f_o = open(outputPath+outputFile, 'w')\n",
    "    realtime = 0.\n",
    "    step = 0\n",
    "    timevals = [0.]"
   ]
  },
  {
   "cell_type": "markdown",
   "metadata": {},
   "source": [
    "Main simulation loop\n",
    "-----\n"
   ]
  },
  {
   "cell_type": "code",
   "execution_count": null,
   "metadata": {
    "collapsed": false
   },
   "outputs": [],
   "source": [
    "#while step < 21:\n",
    "while realtime < 1.:\n",
    "\n",
    "    # solve Stokes and advection systems\n",
    "    solver.solve(nonLinearIterate=True)\n",
    "    dt = advDiff.get_max_dt()\n",
    "    if step == 0:\n",
    "        dt = 0.\n",
    "    advDiff.integrate(dt)\n",
    "    passiveadvector.integrate(dt)\n",
    "    \n",
    "    #Add the adiabatic adjustment:\n",
    "    temperatureField.data[:] += dt*abHeatFn.evaluate(mesh)\n",
    "    \n",
    "\n",
    "    # Increment\n",
    "    realtime += dt\n",
    "    step += 1\n",
    "    timevals.append(realtime)\n",
    "    ################\n",
    "    #Update temperature field in the air region\n",
    "    #Do this better...\n",
    "    ################\n",
    "    if (step % sticky_air_temp == 0):\n",
    "        for index, coord in enumerate(mesh.data):\n",
    "            if coord[1] >= 1.:\n",
    "                temperatureField.data[index] = ndp.TSP\n",
    "    ################\n",
    "    #Gldb output\n",
    "    ################ \n",
    "    if (step % gldbs_output == 0):\n",
    "        #Rebuild any necessary swarm variables\n",
    "        viscVariable.data[:] = viscosityMapFn.evaluate(gSwarm)\n",
    "        #Write gldbs\n",
    "        fnamedb = \"dbFig\" + \"_\" + str(ModIt) + \"_\" + str(step) + \".gldb\"\n",
    "        fullpath = os.path.join(outputPath + \"gldbs/\" + fnamedb)\n",
    "        #figDb.show()\n",
    "        figDb.save_database(fullpath)\n",
    "    ################\n",
    "    #Files output\n",
    "    ################ \n",
    "    if (step % files_output == 0):\n",
    "\n",
    "        vel_surface = velocityField.evaluate_global(surface_nodes)\n",
    "        norm_surface_sr = normgradV.evaluate_global(surface_nodes)\n",
    "        if uw.rank() == 0:\n",
    "            fnametemp = \"velsurface\" + \"_\" + str(ModIt) + \"_\" + str(step)\n",
    "            fullpath = os.path.join(outputPath + \"files/\" + fnametemp)\n",
    "            np.save(fullpath, vel_surface)\n",
    "            fnametemp = \"norm_surface_sr\" + \"_\" + str(ModIt) + \"_\" + str(step)\n",
    "            fullpath = os.path.join(outputPath + \"files/\" + fnametemp)\n",
    "            np.save(fullpath, norm_surface_sr)\n",
    "    ################            \n",
    "    # Calculate the Metrics, only on 1 of the processors:\n",
    "    ################\n",
    "    if (step % metric_output == 0):\n",
    "        ###############\n",
    "        #Swarm - based Metrics\n",
    "        ###############\n",
    "        # Calculate the RMS velocity and Nusselt number.\n",
    "        # Calculate the Metrics, only on 1 of the processors:\n",
    "        mantlerestrictFn = temprestrictionFn() #rebuild the mantle restriction function (but these should be dynamic?)\n",
    "        srrestrictFn = platenessFn(val = 0.1) #rebuild the plateness restriction function\n",
    "        dummy = tempMM.evaluate(mesh) #Re-evaluate any fn.view.min_max guys\n",
    "        #Rebuild these integrals (a test because metrics changes after a restart)\n",
    "        mantleArea   = uw.utils.Integral( mantlerestrictFn, mesh )\n",
    "        mantleTemp = uw.utils.Integral( temperatureField*mantlerestrictFn, mesh )\n",
    "        mantleVisc = uw.utils.Integral( mantleviscosityFn*mantlerestrictFn, mesh )\n",
    "        mantleVd = uw.utils.Integral( (4.*viscosityMapFn*sinner*mantlerestrictFn), mesh ) #these now work on MappingFunctions\n",
    "        ###\n",
    "        Avg_temp = avg_temp()\n",
    "        Rms = rms()\n",
    "        Rms_surf = rms_surf()\n",
    "        Max_vx_surf = max_vx_surf(velocityField, mesh)\n",
    "        Gravwork = basic_int(dwint)\n",
    "        Viscdis = basic_int(vdint)\n",
    "        nu1, nu0 = nusseltTB(temperatureField, mesh) # return top then bottom\n",
    "        etamax, etamin = visc_extr(mantleviscosityFn)\n",
    "        Area_mantle = basic_int(mantleArea)\n",
    "        Viscmantle = basic_int(mantleVisc)\n",
    "        Tempmantle = basic_int(mantleTemp)\n",
    "        Viscdismantle = basic_int(mantleVd)\n",
    "        Plateness = basic_int(plateint)/basic_int(surfint)\n",
    "        TMAX = tempMM.max_global()\n",
    "        # output to summary text file\n",
    "        if uw.rank()==0:\n",
    "            f_o.write((17*'%-15s ' + '\\n') % (realtime, Viscdis, float(nu0), float(nu1), Avg_temp,\n",
    "                                              Tempmantle,TMAX,\n",
    "                                              Rms,Rms_surf,Max_vx_surf,Gravwork, etamax, etamin, \n",
    "                                              Area_mantle, Viscmantle,  Viscdismantle,Plateness ))\n",
    "    ################\n",
    "    #Also repopulate entire swarm periodically\n",
    "    ################\n",
    "    #if step % swarm_repop == 0:\n",
    "    population_control.repopulate()\n",
    "    \n",
    "    ################\n",
    "    #Checkpoint\n",
    "    ################\n",
    "    if step % checkpoint_every == 0:\n",
    "        if uw.rank() == 0:\n",
    "            checkpoint1(step, checkpointPath,f_o, metric_output)           \n",
    "        checkpoint2(step, checkpointPath, gSwarm, f_o, varlist = varlist, varnames = varnames)\n",
    "        f_o = open(os.path.join(outputPath, outputFile), 'a') #is this line supposed to be here?\n",
    "    ################\n",
    "    #Particle update\n",
    "    ###############\n",
    "    \n",
    "    \n",
    "    #ageVariable.data[:] += dt #increment the ages (is this efficient?)\n",
    "    #dummyData = np.copy(materialVariable.data)#This is part of a hack that resets ages when a material type changes\n",
    "    ageDT += dt\n",
    "    \n",
    "    if step % swarm_update == 0:\n",
    "        #Increment age stuff. \n",
    "        ageEval = fn.branching.conditional( ageConditions ).evaluate(gSwarm)\n",
    "        ageVariable.data[np.where(ageEval == 0)] = 0 #If below the critical depth, age is set to zero\n",
    "        ageVariable.data[np.where(ageEval != 0)] += ageDT #If age above critical depth, increment age\n",
    "        ageDT = 0. #reset the age incrementer\n",
    "        \n",
    "        #Apply any materialVariable changes\n",
    "        for i in range(2): #Need to go through twice first time through\n",
    "            materialVariable.data[:] = fn.branching.conditional(DG.condition_list).evaluate(gSwarm)\n",
    "\n",
    "    \n",
    "f_o.close()\n",
    "print 'step =',step"
   ]
  },
  {
   "cell_type": "code",
   "execution_count": 109,
   "metadata": {
    "collapsed": false
   },
   "outputs": [
    {
     "ename": "RuntimeError",
     "evalue": "Function input dimensionality (2) does not appear to match mesh variable dimensionality (105).",
     "output_type": "error",
     "traceback": [
      "\u001b[1;31m\u001b[0m",
      "\u001b[1;31mRuntimeError\u001b[0mTraceback (most recent call last)",
      "\u001b[1;32m<ipython-input-109-758841825d0d>\u001b[0m in \u001b[0;36m<module>\u001b[1;34m()\u001b[0m\n\u001b[0;32m      1\u001b[0m \u001b[0mviscVariable\u001b[0m \u001b[1;33m=\u001b[0m \u001b[0mgSwarm\u001b[0m\u001b[1;33m.\u001b[0m\u001b[0madd_variable\u001b[0m\u001b[1;33m(\u001b[0m \u001b[0mdataType\u001b[0m\u001b[1;33m=\u001b[0m\u001b[1;34m\"float\"\u001b[0m\u001b[1;33m,\u001b[0m \u001b[0mcount\u001b[0m\u001b[1;33m=\u001b[0m\u001b[1;36m1\u001b[0m \u001b[1;33m)\u001b[0m\u001b[1;33m\u001b[0m\u001b[0m\n\u001b[1;32m----> 2\u001b[1;33m \u001b[0mviscVariable\u001b[0m\u001b[1;33m.\u001b[0m\u001b[0mdata\u001b[0m\u001b[1;33m[\u001b[0m\u001b[1;33m:\u001b[0m\u001b[1;33m]\u001b[0m \u001b[1;33m=\u001b[0m \u001b[0mviscosityMapFn\u001b[0m\u001b[1;33m.\u001b[0m\u001b[0mevaluate\u001b[0m\u001b[1;33m(\u001b[0m\u001b[0mgSwarm\u001b[0m\u001b[1;33m)\u001b[0m\u001b[1;33m\u001b[0m\u001b[0m\n\u001b[0m",
      "\u001b[1;32m/root/underworld2/underworld/function/_function.py\u001b[0m in \u001b[0;36mevaluate\u001b[1;34m(self, inputData, inputType)\u001b[0m\n\u001b[0;32m    594\u001b[0m             \u001b[1;32mif\u001b[0m \u001b[0minputType\u001b[0m \u001b[1;33m!=\u001b[0m \u001b[0mNone\u001b[0m\u001b[1;33m:\u001b[0m\u001b[1;33m\u001b[0m\u001b[0m\n\u001b[0;32m    595\u001b[0m                 \u001b[1;32mraise\u001b[0m \u001b[0mValueError\u001b[0m\u001b[1;33m(\u001b[0m\u001b[1;34m\"'inputType' specification not supported for this input class.\"\u001b[0m\u001b[1;33m)\u001b[0m\u001b[1;33m\u001b[0m\u001b[0m\n\u001b[1;32m--> 596\u001b[1;33m             \u001b[1;32mreturn\u001b[0m \u001b[0m_cfn\u001b[0m\u001b[1;33m.\u001b[0m\u001b[0mQuery\u001b[0m\u001b[1;33m(\u001b[0m\u001b[0mself\u001b[0m\u001b[1;33m.\u001b[0m\u001b[0m_fncself\u001b[0m\u001b[1;33m)\u001b[0m\u001b[1;33m.\u001b[0m\u001b[0mquery\u001b[0m\u001b[1;33m(\u001b[0m\u001b[0minputData\u001b[0m\u001b[1;33m.\u001b[0m\u001b[0m_get_iterator\u001b[0m\u001b[1;33m(\u001b[0m\u001b[1;33m)\u001b[0m\u001b[1;33m)\u001b[0m\u001b[1;33m\u001b[0m\u001b[0m\n\u001b[0m\u001b[0;32m    597\u001b[0m         \u001b[1;32melif\u001b[0m \u001b[0misinstance\u001b[0m\u001b[1;33m(\u001b[0m\u001b[0minputData\u001b[0m\u001b[1;33m,\u001b[0m \u001b[0mnp\u001b[0m\u001b[1;33m.\u001b[0m\u001b[0mndarray\u001b[0m\u001b[1;33m)\u001b[0m\u001b[1;33m:\u001b[0m\u001b[1;33m\u001b[0m\u001b[0m\n\u001b[0;32m    598\u001b[0m             \u001b[1;32mif\u001b[0m \u001b[0minputType\u001b[0m \u001b[1;33m!=\u001b[0m \u001b[0mNone\u001b[0m\u001b[1;33m:\u001b[0m\u001b[1;33m\u001b[0m\u001b[0m\n",
      "\u001b[1;31mRuntimeError\u001b[0m: Function input dimensionality (2) does not appear to match mesh variable dimensionality (105)."
     ]
    }
   ],
   "source": [
    "viscVariable = gSwarm.add_variable( dataType=\"float\", count=1 )\n",
    "viscVariable.data[:] = viscosityMapFn.evaluate(gSwarm)"
   ]
  }
 ],
 "metadata": {
  "kernelspec": {
   "display_name": "Python 2",
   "language": "python",
   "name": "python2"
  },
  "language_info": {
   "codemirror_mode": {
    "name": "ipython",
    "version": 2
   },
   "file_extension": ".py",
   "mimetype": "text/x-python",
   "name": "python",
   "nbconvert_exporter": "python",
   "pygments_lexer": "ipython2",
   "version": "2.7.9"
  },
  "widgets": {
   "state": {},
   "version": "1.1.2"
  }
 },
 "nbformat": 4,
 "nbformat_minor": 0
}
