{
 "cells": [
  {
   "cell_type": "markdown",
   "metadata": {},
   "source": [
    "## composite, non-linear rheology:\n",
    "\n",
    "\n",
    "The viscous rheology in this model is similar to the Čížková and Bina paper cited below. Other parts of the model setup are similar to Arredondo and Billen (2016) and Korenaga (2011). \n",
    "\n",
    "Here we use a dimensionless system. For the psuedo-plastic effective rheology a Drucker-prager model is used.\n",
    "\n",
    "\n",
    "**Keywords:** thermal covection, dislocation creep\n",
    "\n",
    "\n",
    "**References**\n",
    "\n",
    "Čížková, Hana, and Craig R. Bina. \"Geodynamics of trench advance: Insights from a Philippine-Sea-style geometry.\" Earth and Planetary Science Letters 430 (2015): 408-415.\n",
    "\n",
    "Arredondo, Katrina M., and Magali I. Billen. \"The Effects of Phase Transitions and Compositional Layering in Two-dimensional Kinematic Models of Subduction.\" Journal of Geodynamics (2016).\n",
    "\n",
    "Korenaga, Jun. \"Scaling of plate tectonic convection with pseudoplastic rheology.\" Journal of Geophysical Research: Solid Earth 115.B11 (2010)."
   ]
  },
  {
   "cell_type": "code",
   "execution_count": 1,
   "metadata": {
    "collapsed": false
   },
   "outputs": [],
   "source": [
    "import numpy as np\n",
    "import underworld as uw\n",
    "import math\n",
    "from underworld import function as fn\n",
    "import glucifer\n",
    "\n",
    "import os\n",
    "import sys\n",
    "import natsort\n",
    "import shutil\n",
    "from easydict import EasyDict as edict\n",
    "import operator\n",
    "import pint\n",
    "import time\n",
    "import operator\n",
    "from slippy2 import boundary_layer2d\n",
    "from slippy2 import material_graph\n",
    "from slippy2 import spmesh\n",
    "\n",
    "from mpi4py import MPI\n",
    "comm = MPI.COMM_WORLD\n",
    "rank = comm.Get_rank()"
   ]
  },
  {
   "cell_type": "markdown",
   "metadata": {},
   "source": [
    "Model name and directories\n",
    "-----"
   ]
  },
  {
   "cell_type": "code",
   "execution_count": 2,
   "metadata": {
    "collapsed": true
   },
   "outputs": [],
   "source": [
    "############\n",
    "#Model name.  \n",
    "############\n",
    "Model = \"T\"\n",
    "ModNum = 6\n",
    "\n",
    "if len(sys.argv) == 1:\n",
    "    ModIt = \"Base\"\n",
    "elif sys.argv[1] == '-f':\n",
    "    ModIt = \"Base\"\n",
    "else:\n",
    "    ModIt = str(sys.argv[1])"
   ]
  },
  {
   "cell_type": "code",
   "execution_count": 3,
   "metadata": {
    "collapsed": false
   },
   "outputs": [],
   "source": [
    "###########\n",
    "#Standard output directory setup\n",
    "###########\n",
    "\n",
    "\n",
    "outputPath = \"results\" + \"/\" +  str(Model) + \"/\" + str(ModNum) + \"/\" + str(ModIt) + \"/\"\n",
    "imagePath = outputPath + 'images/'\n",
    "filePath = outputPath + 'files/'\n",
    "checkpointPath = outputPath + 'checkpoint/'\n",
    "dbPath = outputPath + 'gldbs/'\n",
    "outputFile = 'results_model' + Model + '_' + str(ModNum) + '_' + str(ModIt) + '.dat'\n",
    "\n",
    "if uw.rank()==0:\n",
    "    # make directories if they don't exist\n",
    "    if not os.path.isdir(outputPath):\n",
    "        os.makedirs(outputPath)\n",
    "    if not os.path.isdir(checkpointPath):\n",
    "        os.makedirs(checkpointPath)\n",
    "    if not os.path.isdir(imagePath):\n",
    "        os.makedirs(imagePath)\n",
    "    if not os.path.isdir(dbPath):\n",
    "        os.makedirs(dbPath)\n",
    "    if not os.path.isdir(filePath):\n",
    "        os.makedirs(filePath)\n",
    "        \n",
    "comm.Barrier() #Barrier here so no procs run the check in the next cell too early"
   ]
  },
  {
   "cell_type": "code",
   "execution_count": 4,
   "metadata": {
    "collapsed": false
   },
   "outputs": [
    {
     "name": "stdout",
     "output_type": "stream",
     "text": [
      "results/T/6/Base/checkpoint/ is empty\n"
     ]
    }
   ],
   "source": [
    "###########\n",
    "#Check if starting from checkpoint\n",
    "###########\n",
    "\n",
    "checkdirs = []\n",
    "for dirpath, dirnames, files in os.walk(checkpointPath):\n",
    "    if files:\n",
    "        print dirpath, 'has files'\n",
    "        checkpointLoad = True\n",
    "        checkdirs.append(dirpath)\n",
    "    if not files:\n",
    "        print dirpath, 'is empty'\n",
    "        checkpointLoad = False"
   ]
  },
  {
   "cell_type": "markdown",
   "metadata": {},
   "source": [
    "Setup parameters\n",
    "-----\n",
    "\n",
    "Set simulation parameters for test."
   ]
  },
  {
   "cell_type": "markdown",
   "metadata": {},
   "source": [
    "**Use pint to setup any unit conversions we'll need**"
   ]
  },
  {
   "cell_type": "code",
   "execution_count": 5,
   "metadata": {
    "collapsed": false
   },
   "outputs": [
    {
     "data": {
      "text/html": [
       "10000.0 meter/megayear"
      ],
      "text/latex": [
       "$10000.0 \\frac{meter}{megayear}$"
      ],
      "text/plain": [
       "<Quantity(10000.0, 'meter / megayear')>"
      ]
     },
     "execution_count": 5,
     "metadata": {},
     "output_type": "execute_result"
    }
   ],
   "source": [
    "u = pint.UnitRegistry()\n",
    "cmpery = 1.*u.cm/u.year\n",
    "mpermy = 1.*u.m/u.megayear\n",
    "\n",
    "cmpery.to(mpermy)"
   ]
  },
  {
   "cell_type": "markdown",
   "metadata": {},
   "source": [
    "**Set parameter dictionaries**"
   ]
  },
  {
   "cell_type": "code",
   "execution_count": null,
   "metadata": {
    "collapsed": false
   },
   "outputs": [],
   "source": []
  },
  {
   "cell_type": "code",
   "execution_count": 6,
   "metadata": {
    "collapsed": false
   },
   "outputs": [],
   "source": [
    "#dimensional parameter dictionary\n",
    "dp = edict({#'LS':2900.*1e3,\n",
    "            'LS':2000.*1e3,\n",
    "           'rho':3300,\n",
    "           'g':9.8, \n",
    "           'eta0':4e20, #Dislocation creep at 250 km, 1573 K, 1e-15 s-1 \n",
    "           'k':1e-6,\n",
    "           'a':3e-5, #surface thermal expansivity\n",
    "           'TP':1573., #potential temp\n",
    "           'TS':273., #surface temp\n",
    "           'cohesion':1e7, #\n",
    "           'fc':0.01,        #This is the value from \n",
    "           'Adf':1e-9,\n",
    "           'Ads':3.1e-17,\n",
    "           'Edf':3.35e5,\n",
    "           'Eds':4.8e5,\n",
    "           'Vdf':4e-6,\n",
    "           'Vds':11e-6,\n",
    "           'Alm':1.3e-16,\n",
    "           'Elm':2.0e5,\n",
    "           'Vlm':1.1e-6,\n",
    "           'Ba':4.3e-12,  #A value to simulate pressure increase with depth\n",
    "           'SR':1e-15,\n",
    "           'Dr':250e3, #Reference depth\n",
    "           'n':1.,\n",
    "           'R':8.314,\n",
    "           'Cp':1250., #Jkg-1K-1\n",
    "           'StALS':100e3,\n",
    "           'plate_vel':8})\n",
    "\n",
    "#Adibatic heating stuff\n",
    "dp.dTa = (dp.a*dp.g*(dp.TP))/dp.Cp #adibatic gradient, at Tp\n",
    "dp.deltaTa = (dp.TP + dp.dTa*dp.LS) - dp.TS  #Adiabatic Temp at base of mantle, minus Ts\n",
    "dp.deltaT = dp.deltaTa\n",
    "\n",
    "\n",
    "#ndf = (1./dp.Adf)*np.exp( ((dp.Edf + dp.Vdf*dp.Pr))/((dp.R*dp.Tr)))\n",
    "#nds = (1./dp.Ads**(1/dp.n))*(dp.SR**((1-dp.n)/dp.n))*np.exp( ((dp.Eds + dp.Vds*dp.Pr))/((dp.n*dp.R*dp.Tr)))\n",
    "\n",
    "\n",
    "#scale_factors\n",
    "\n",
    "sf = edict({'stress':dp.LS**2/(dp.k*dp.eta0),\n",
    "            'lith_grad':dp.rho*dp.g*(dp.LS)**3/(dp.eta0*dp.k) ,\n",
    "            'vel':dp.LS/dp.k,\n",
    "            'SR':dp.LS**2/dp.k,\n",
    "            'W':(-1./dp.Ba)*(np.log(1.-dp.rho*dp.g*dp.Ba*dp.LS))/(dp.R*dp.deltaTa), #Including adiabatic compression, and deltaTa\n",
    "            'E': 1./(dp.R*dp.deltaTa), #using deltaTa, the guesstimated adiabatic temp differnnce to scale these paramters\n",
    "            'Ads':(dp.eta0**(dp.n-2))*((dp.k)**(dp.n-1))*((dp.LS)**(2. - 2*dp.n))       })\n",
    "\n",
    "#dimensionless parameters\n",
    "\n",
    "\n",
    "ndp = edict({'RA':(dp.g*dp.rho*dp.a*dp.deltaT*(dp.LS)**3)/(dp.k*dp.eta0),\n",
    "            'cohesion':dp.cohesion*sf.stress,\n",
    "            'fcd':dp.fc*sf.lith_grad,\n",
    "            'gamma':dp.fc/(dp.a*dp.deltaT),\n",
    "            'Wdf':dp.Vdf*sf.W,\n",
    "            'Edf':dp.Edf*sf.E,\n",
    "            'Wds':dp.Vds*sf.W,\n",
    "            'Eds':dp.Eds*sf.E,\n",
    "            'Elm':dp.Elm*sf.E,\n",
    "           'Wlm':dp.Vlm*sf.W,\n",
    "            'TSP':0., \n",
    "            'TBP':1.,\n",
    "            'TPP':(dp.TP - dp.TS)/dp.deltaT,\n",
    "            'Dr':dp.Dr/dp.LS,\n",
    "            'n':1.,\n",
    "            'TS':dp.TS/dp.deltaT,\n",
    "            'TP':dp.TP/dp.deltaT,\n",
    "             #'eta_crust':1e21/dp.eta0,\n",
    "             'eta_crust':0.02,\n",
    "            'eta_min':1e-3,\n",
    "            'eta_max':1e5,\n",
    "            'H':0.,\n",
    "            'Tmvp':0.6,\n",
    "             'Di': dp.a*dp.g*dp.LS/dp.Cp, #Dissipation number\n",
    "            'Steta0':1e2,\n",
    "            'plate_vel':sf.vel*dp.plate_vel*(cmpery.to(u.m/u.second)).magnitude,})\n",
    "\n",
    "\n",
    "\n",
    "\n",
    "dp.VR = (0.1*(dp.k/dp.LS)*ndp.RA**(2/3.)) #characteristic velocity from a scaling relationship\n",
    "dp.SR = dp.VR/dp.LS #characteristic strain rate\n",
    "ndp.VR = dp.VR*sf.vel #characteristic velocity\n",
    "ndp.SR = dp.SR*sf.SR #characteristic strain rate\n",
    "\n",
    "ndp.StRA = (3300.*dp.g*(dp.LS)**3)/(dp.eta0 *dp.k) #Composisitional Rayleigh number for rock-air buoyancy force\n",
    "\n",
    "\n",
    "ndp.TaP = 1. - ndp.TPP,  #Dimensionles adiabtic component of delta t"
   ]
  },
  {
   "cell_type": "code",
   "execution_count": 7,
   "metadata": {
    "collapsed": false
   },
   "outputs": [
    {
     "data": {
      "text/plain": [
       "1.0"
      ]
     },
     "execution_count": 7,
     "metadata": {},
     "output_type": "execute_result"
    }
   ],
   "source": [
    "ndp.eta_crust"
   ]
  },
  {
   "cell_type": "code",
   "execution_count": 8,
   "metadata": {
    "collapsed": false
   },
   "outputs": [
    {
     "data": {
      "text/plain": [
       "(19.75229500743525,\n",
       " 28.301795831549015,\n",
       " 17.875211307509375,\n",
       " 49.15683109565078,\n",
       " 100000.0,\n",
       " 39582980.236800015)"
      ]
     },
     "execution_count": 8,
     "metadata": {},
     "output_type": "execute_result"
    }
   ],
   "source": [
    "#(dp.g*dp.rho*dp.a*dp.deltaT*(dp.LS)**3)/(dp.k*1e6)\n",
    "#sf.SR/(60*60*24*365*1e6)\n",
    "#dp.LS**2/dp.k\n",
    "#sf.SR\n",
    "ndp.Edf,  ndp.Eds, ndp.Wdf, ndp.Wds, ndp.cohesion, ndp.RA"
   ]
  },
  {
   "cell_type": "code",
   "execution_count": 9,
   "metadata": {
    "collapsed": false
   },
   "outputs": [],
   "source": [
    "#A few parameters defining lengths scales, affects materal transistions etc.\n",
    "MANTLETOCRUST = (15.*1e3)/dp.LS #Crust depth\n",
    "CRUSTTOMANTLE = (200.*1e3)/dp.LS\n",
    "LITHTOMANTLE = (900.*1e3)/dp.LS \n",
    "MANTLETOLITH = (200.*1e3)/dp.LS \n",
    "TOPOHEIGHT = (10.*1e3)/dp.LS  #rock-air topography limits\n",
    "CRUSTTOECL  = (100.*1e3)/dp.LS\n",
    "AVGTEMP = ndp.TPP #Used to define lithosphere\n",
    "LOWERMANTLE = (1000.*1e3)/dp.LS \n"
   ]
  },
  {
   "cell_type": "markdown",
   "metadata": {},
   "source": [
    "**Model setup parameters**"
   ]
  },
  {
   "cell_type": "code",
   "execution_count": 10,
   "metadata": {
    "collapsed": false
   },
   "outputs": [],
   "source": [
    "###########\n",
    "#Model setup parameters\n",
    "###########\n",
    "\n",
    "refineMesh = True\n",
    "stickyAir = False \n",
    "lower_mantle = False \n",
    "melt_viscosity_reduction= False\n",
    "\n",
    "\n",
    "\n",
    "\n",
    "MINX = -2.\n",
    "MINY = 0.\n",
    "MAXX = 2.\n",
    "\n",
    "#MAXY = 1.035\n",
    "MAXY = 1.\n",
    "\n",
    "if MINX == 0.:\n",
    "    squareModel = True\n",
    "else: \n",
    "    squareModel = False\n",
    "    \n",
    "    \n",
    "dim = 2          # number of spatial dimensions\n",
    "\n",
    "\n",
    "#MESH STUFF\n",
    "\n",
    "RES = 128\n",
    "\n",
    "Xres = int(RES*4)\n",
    "\n",
    "\n",
    "if stickyAir:\n",
    "    Yres = RES\n",
    "    MAXY = 1. + dp.StALS/dp.LS #150km\n",
    "    \n",
    "else:\n",
    "    Yres = RES\n",
    "    MAXY = 1.\n",
    "\n",
    "\n",
    "periodic = [True, False]\n",
    "elementType = \"Q1/dQ0\"\n",
    "#elementType =\"Q2/DPC1\"\n",
    "\n",
    "\n",
    "#System/Solver stuff\n",
    "\n",
    "PIC_integration=True\n",
    "ppc = 25\n",
    "\n",
    "#Output and safety stuff\n",
    "\n",
    "swarm_repop, swarm_update = 10, 10\n",
    "gldbs_output = 20\n",
    "checkpoint_every, files_output = 50, 50\n",
    "metric_output = 10\n",
    "sticky_air_temp = 5"
   ]
  },
  {
   "cell_type": "markdown",
   "metadata": {},
   "source": [
    "Create mesh and finite element variables\n",
    "------"
   ]
  },
  {
   "cell_type": "code",
   "execution_count": 11,
   "metadata": {
    "collapsed": false
   },
   "outputs": [],
   "source": [
    "mesh = uw.mesh.FeMesh_Cartesian( elementType = (elementType),\n",
    "                                 elementRes  = (Xres, Yres), \n",
    "                                 minCoord    = (MINX, MINY), \n",
    "                                 maxCoord    = (MAXX, MAXY), periodic=periodic)\n",
    "\n",
    "velocityField       = uw.mesh.MeshVariable( mesh=mesh,         nodeDofCount=2 )\n",
    "pressureField       = uw.mesh.MeshVariable( mesh=mesh.subMesh, nodeDofCount=1 )\n",
    "temperatureField    = uw.mesh.MeshVariable( mesh=mesh,         nodeDofCount=1 )\n",
    "temperatureDotField = uw.mesh.MeshVariable( mesh=mesh,         nodeDofCount=1 )"
   ]
  },
  {
   "cell_type": "code",
   "execution_count": 12,
   "metadata": {
    "collapsed": false
   },
   "outputs": [],
   "source": [
    "axis = 1\n",
    "orgs = np.linspace(mesh.minCoord[axis], mesh.maxCoord[axis], mesh.elementRes[axis] + 1)\n",
    "\n",
    "value_to_constrain = 1.\n",
    "\n",
    "\n",
    "yconst = [(spmesh.find_closest(orgs, value_to_constrain), np.array([value_to_constrain,0]))]"
   ]
  },
  {
   "cell_type": "code",
   "execution_count": 13,
   "metadata": {
    "collapsed": true
   },
   "outputs": [],
   "source": [
    "mesh.reset()"
   ]
  },
  {
   "cell_type": "code",
   "execution_count": 14,
   "metadata": {
    "collapsed": false
   },
   "outputs": [
    {
     "name": "stdout",
     "output_type": "stream",
     "text": [
      "Min\n",
      "(64, 0.0093765624999999995, 0.84619375000000008, 0.62499047619047554)\n",
      "('edges', 64)\n",
      "-- iteration 0 --\n",
      "| F( p_n ) |^2: 8.05648611886e-05\n",
      "| p_n+1 - p_n |^2: 0.352079185376\n",
      "-- iteration 1 --\n",
      "| F( p_n ) |^2: 3.12512226132e-31\n",
      "Min, Max element width: \n",
      "0.00938\n",
      "0.02187\n"
     ]
    }
   ],
   "source": [
    "#Y-Axis\n",
    "if refineMesh:\n",
    "    #Y-Axis\n",
    "    axis = 1\n",
    "    origcoords = np.linspace(mesh.minCoord[axis], mesh.maxCoord[axis], mesh.elementRes[axis] + 1)\n",
    "    edge_rest_lengths = np.diff(origcoords)\n",
    "\n",
    "    deform_lengths = edge_rest_lengths.copy()\n",
    "    min_point =  (mesh.maxCoord[axis])\n",
    "    el_reduction = 0.6001\n",
    "    dx = mesh.maxCoord[axis]\n",
    "\n",
    "    deform_lengths = deform_lengths - \\\n",
    "                                    ((1.-el_reduction)*deform_lengths[0]) + \\\n",
    "                                    abs((origcoords[1:] - min_point))*((0.5*deform_lengths[0])/dx)\n",
    "\n",
    "    #print(edge_rest_lengths.shape, deform_lengths.shape)\n",
    "\n",
    "    spmesh.deform_1d(deform_lengths, mesh,axis = 'y',norm = 'Min', constraints = yconst)"
   ]
  },
  {
   "cell_type": "markdown",
   "metadata": {},
   "source": [
    "Initial conditions\n",
    "-------\n"
   ]
  },
  {
   "cell_type": "code",
   "execution_count": 15,
   "metadata": {
    "collapsed": false
   },
   "outputs": [],
   "source": [
    "coordinate = fn.input()\n",
    "depthFn = 1. - coordinate[1]\n",
    "xFn = coordinate[0]"
   ]
  },
  {
   "cell_type": "code",
   "execution_count": 16,
   "metadata": {
    "collapsed": false
   },
   "outputs": [],
   "source": [
    "#Work out actual temp at 200 km\n",
    "\n",
    "potTempFn = ndp.TPP + (depthFn)*ndp.TaP\n",
    "\n",
    "abHeatFn = -1.*velocityField[1]*temperatureField*ndp.Di"
   ]
  },
  {
   "cell_type": "code",
   "execution_count": 17,
   "metadata": {
    "collapsed": false
   },
   "outputs": [],
   "source": [
    "symmetric_IC = False\n",
    "slab_IC = True\n",
    "\n",
    "\n",
    "#Sinusoidal initial condition\n",
    "A = 0.2\n",
    "sinFn = depthFn + A*(fn.math.cos( math.pi * coordinate[0])  * fn.math.sin( math.pi * coordinate[1] ))        \n",
    "\n",
    "#Initial Slab depth\n",
    "iD = 660e3/dp.LS\n",
    "\n",
    "#Boundary layer/slab initial condition\n",
    "dl =  2*math.sqrt(dp.k*160e6*3600*24*365) #diffusion Length at ... My\n",
    "w0 = dl/dp.LS\n",
    "#w0 = 0.1\n",
    "delX1 = fn.misc.min(fn.math.abs(coordinate[0] - -0.), fn.math.abs(coordinate[0] - -2.))\n",
    "delX = fn.misc.min(delX1 , fn.math.abs(coordinate[0] - 2.))\n",
    "w = w0*fn.math.sqrt(delX + 1e-7)\n",
    "#tempBL = (ndp.TIP - ndp.TSP) *fn.math.erf((depthFn)/w) + ndp.TSP\n",
    "tempBL = (potTempFn) *fn.math.erf((depthFn)/w) + ndp.TSP\n",
    "\n",
    "\n",
    "delX = fn.misc.min(fn.math.abs(coordinate[0] - - 1.) , fn.math.abs(coordinate[0] - 1.))\n",
    "#tempSlab = (ndp.TIP - ndp.TSP) *fn.math.erf((delX*2.)/w0) + ndp.TSP \n",
    "tempSlab = (potTempFn ) *fn.math.erf((delX*2.)/w0) + ndp.TSP       \n",
    "\n",
    "tempFn1 =  fn.misc.min(tempBL, tempSlab)\n",
    "blFn = fn.branching.conditional([(depthFn < iD, tempFn1), \n",
    "                                    (True, potTempFn)])\n",
    "\n",
    "tempFn = 0.2*sinFn + 0.8*blFn #partition the temp between these two functions\n",
    "\n",
    "if symmetric_IC:  \n",
    "    if not checkpointLoad:\n",
    "        temperatureField.data[:] = tempFn.evaluate(mesh)  "
   ]
  },
  {
   "cell_type": "code",
   "execution_count": 18,
   "metadata": {
    "collapsed": false
   },
   "outputs": [],
   "source": [
    "###########\n",
    "#Boundary layer / slab paramaters\n",
    "###########\n",
    "\n",
    "dl =  2*math.sqrt(dp.k*160e6*3600*24*365) #diffusion Length at ... My\n",
    "w0 = dl/dp.LS\n",
    "\n",
    "\n",
    "ageFn = (fn.math.abs(fn.math.abs(coordinate[0]) - 2.)/2.)\n",
    "\n",
    "ageFn  = fn.branching.conditional([(coordinate[0] <= 0, ageFn),\n",
    "                                  (True, ageFn/3.)])\n",
    "\n",
    "w = w0*fn.math.sqrt(ageFn + 1e-7)\n",
    "#tempBL = (ndp.TIP - ndp.TSP) *fn.math.erf((depthFn)/w) + ndp.TSP\n",
    "tempBL = (potTempFn) *fn.math.erf((depthFn)/w) + ndp.TSP\n",
    "\n",
    "if slab_IC:\n",
    "    if not checkpointLoad:\n",
    "        temperatureField.data[:] = tempBL.evaluate(mesh) \n",
    "\n"
   ]
  },
  {
   "cell_type": "code",
   "execution_count": 19,
   "metadata": {
    "collapsed": true
   },
   "outputs": [],
   "source": [
    "#Make sure material in stick air region is at the surface temperature.\n",
    "for index, coord in enumerate(mesh.data):\n",
    "            if coord[1] >= 1.:\n",
    "                temperatureField.data[index] = ndp.TSP"
   ]
  },
  {
   "cell_type": "code",
   "execution_count": 20,
   "metadata": {
    "collapsed": false
   },
   "outputs": [],
   "source": [
    "#Slab perturbation paramaters\n",
    "Roc = 550.\n",
    "theta = 89.\n",
    "subzone = 0.0\n",
    "\n",
    "def inCircleFnGenerator(centre, radius):\n",
    "    coord = fn.input()\n",
    "    offsetFn = coord - centre\n",
    "    return fn.math.dot( offsetFn, offsetFn ) < radius**2\n",
    "\n",
    "#Setup slab perturbation params (mostly dimensionles / model params here)\n",
    "phi = 90. - theta\n",
    "RocM = (Roc/dp.LS)*1e3\n",
    "CrustM = MANTLETOCRUST\n",
    "#slabdepth = lithdepthfunc(agefunc(off, off, vel), dp.k)\n",
    "#slabdepthM *= 5.\n",
    "Org = (subzone, 1.-RocM)\n",
    "#Use three circles to define our slab and crust perturbation,  \n",
    "\n",
    "Oc = inCircleFnGenerator(Org , RocM)\n",
    "Ic = inCircleFnGenerator(Org , RocM - w0)\n",
    "Cc = inCircleFnGenerator(Org , RocM + 2.*CrustM) #Twice as wide as ordinary crust, weak zone on 'outside' of slab\n",
    "dx = (RocM)/(np.math.tan((np.math.pi/180.)*phi))\n",
    "\n",
    "\n",
    "#Work our which way the slab should face:\n",
    "sense = 'Right'\n",
    "#if lith.agefunc(subzone + 0.0001) < lith.agefunc(subzone - 0.0001):\n",
    "#    sense = 'Right'\n",
    "\n",
    "#We'll also create a triangle which will truncate the circles defining the slab...\n",
    "if sense == 'Left': \n",
    "    ptx = subzone - dx\n",
    "else:\n",
    "    ptx = subzone + dx\n",
    "\n",
    "coords = ((0.+subzone, 1), (0.+subzone, 1.-RocM), (ptx, 1.))\n",
    "Tri = fn.shape.Polygon(np.array(coords))"
   ]
  },
  {
   "cell_type": "code",
   "execution_count": null,
   "metadata": {
    "collapsed": false
   },
   "outputs": [],
   "source": []
  },
  {
   "cell_type": "code",
   "execution_count": 21,
   "metadata": {
    "collapsed": false
   },
   "outputs": [],
   "source": [
    "if slab_IC:\n",
    "    if not checkpointLoad:\n",
    "        sdFn = ((RocM - fn.math.sqrt((coordinate[0] - Org[0])**2. + (coordinate[1] - Org[1])**2.))) \n",
    "        slabFn = ndp.TPP*fn.math.erf((sdFn)/w0)\n",
    "\n",
    "        for index, coord in enumerate(mesh.data):\n",
    "            #if Oc.evaluate(tuple(coord)) and Tri.evaluate(tuple(coord)) and not Ic.evaluate(tuple(coord)): #in inner circle, not in outer circle\n",
    "            if (\n",
    "                Oc.evaluate(tuple(coord)) and\n",
    "                Tri.evaluate(tuple(coord)) and not\n",
    "                Ic.evaluate(tuple(coord)) and\n",
    "                coord[1] > (1. - (250.e3/dp.LS)) \n",
    "                ): #In the quarter-circle defining the lithosphere\n",
    "                temperatureField.data[index] = slabFn.evaluate(mesh)[index]"
   ]
  },
  {
   "cell_type": "code",
   "execution_count": 22,
   "metadata": {
    "collapsed": false,
    "scrolled": true
   },
   "outputs": [
    {
     "data": {
      "text/html": [
       "<img src='data:image/png;base64,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'>"
      ],
      "text/plain": [
       "<IPython.core.display.HTML object>"
      ]
     },
     "metadata": {},
     "output_type": "display_data"
    }
   ],
   "source": [
    "fig= glucifer.Figure()\n",
    "fig.append( glucifer.objects.Surface(mesh, temperatureField))\n",
    "fig.show()"
   ]
  },
  {
   "cell_type": "code",
   "execution_count": null,
   "metadata": {
    "collapsed": false
   },
   "outputs": [],
   "source": []
  },
  {
   "cell_type": "markdown",
   "metadata": {},
   "source": [
    "**Boundary conditions**"
   ]
  },
  {
   "cell_type": "code",
   "execution_count": 23,
   "metadata": {
    "collapsed": false
   },
   "outputs": [],
   "source": [
    "for index in mesh.specialSets[\"MinJ_VertexSet\"]:\n",
    "    temperatureField.data[index] = ndp.TBP\n",
    "for index in mesh.specialSets[\"MaxJ_VertexSet\"]:\n",
    "    temperatureField.data[index] = ndp.TSP\n",
    "    \n",
    "iWalls = mesh.specialSets[\"MinI_VertexSet\"] + mesh.specialSets[\"MaxI_VertexSet\"]\n",
    "jWalls = mesh.specialSets[\"MinJ_VertexSet\"] + mesh.specialSets[\"MaxJ_VertexSet\"]\n",
    "tWalls = mesh.specialSets[\"MaxJ_VertexSet\"]\n",
    "bWalls =mesh.specialSets[\"MinJ_VertexSet\"]\n",
    "\n",
    "VelBCs = mesh.specialSets[\"Empty\"]\n",
    "for index in list(tWalls.data):\n",
    "    if (mesh.data[int(index)][0] < (subzone - 0.2) and mesh.data[int(index)][0] > -2 + 0.2): #Only push with a portion of teh overiding plate\n",
    "        VelBCs.add(int(index))\n",
    "        #Set the plate velocities for the kinematic phase\n",
    "        velocityField.data[index] = [ndp.plate_vel, 0.]\n",
    "        \n",
    "\n",
    "#If periodic, we'll fix a the x-vel at a single node - at the bottom left (index 0)\n",
    "Fixed = mesh.specialSets[\"Empty\"]\n",
    "Fixed.add(int(0))        \n",
    "        \n",
    "\n",
    "freeslipBC = uw.conditions.DirichletCondition( variable      = velocityField, \n",
    "                                               indexSetsPerDof = ( iWalls + VelBCs, jWalls) )\n",
    "\n",
    "\n",
    "\n",
    "\n",
    "\n",
    "\n",
    "if periodic[0] == True:\n",
    "    freeslipBC = uw.conditions.DirichletCondition( variable      = velocityField, \n",
    "                                               indexSetsPerDof = ( Fixed + VelBCs , jWalls) )\n",
    "    \n",
    "    \n",
    "    \n",
    "# also set dirichlet for temp field\n",
    "dirichTempBC = uw.conditions.DirichletCondition(     variable=temperatureField, \n",
    "                                              indexSetsPerDof=(tWalls,) )\n",
    "dT_dy = [0.,0.]\n",
    "\n",
    "# also set dirichlet for temp field\n",
    "neumannTempBC = uw.conditions.NeumannCondition( dT_dy, variable=temperatureField, \n",
    "                                         nodeIndexSet=bWalls)\n",
    "\n"
   ]
  },
  {
   "cell_type": "markdown",
   "metadata": {},
   "source": [
    "Particles\n",
    "-----\n"
   ]
  },
  {
   "cell_type": "code",
   "execution_count": 24,
   "metadata": {
    "collapsed": false
   },
   "outputs": [],
   "source": [
    "###########\n",
    "#Material Swarm and variables\n",
    "###########\n",
    "\n",
    "\n",
    "gSwarm = uw.swarm.Swarm(mesh=mesh, particleEscape=True)\n",
    "\n",
    "yieldingCheck = gSwarm.add_variable( dataType=\"int\", count=1 )\n",
    "tracerVariable = gSwarm.add_variable( dataType=\"int\", count=1)\n",
    "materialVariable = gSwarm.add_variable( dataType=\"int\", count=1 )\n",
    "timeVariable = gSwarm.add_variable( dataType=\"float\", count=1 )\n",
    "\n",
    "\n"
   ]
  },
  {
   "cell_type": "code",
   "execution_count": 25,
   "metadata": {
    "collapsed": false
   },
   "outputs": [],
   "source": [
    "varlist = [tracerVariable, tracerVariable, yieldingCheck]\n",
    "\n",
    "varlist = [materialVariable, yieldingCheck, timeVariable]\n",
    "varnames = ['materialVariable', 'yieldingCheck', 'timeVariable']"
   ]
  },
  {
   "cell_type": "code",
   "execution_count": 26,
   "metadata": {
    "collapsed": false
   },
   "outputs": [],
   "source": [
    "mantleIndex = 0\n",
    "lithosphereIndex = 1\n",
    "crustIndex = 2\n",
    "eclIndex = 3\n",
    "airIndex = 4\n",
    "lowermantleIndex = 5\n",
    "\n",
    "\n",
    "if checkpointLoad:\n",
    "    checkpointLoadDir = natsort.natsort(checkdirs)[-1]\n",
    "    temperatureField.load(os.path.join(checkpointLoadDir, \"temperatureField\" + \".hdf5\"))\n",
    "    pressureField.load(os.path.join(checkpointLoadDir, \"pressureField\" + \".hdf5\"))\n",
    "    velocityField.load(os.path.join(checkpointLoadDir, \"velocityField\" + \".hdf5\"))\n",
    "    gSwarm.load(os.path.join(checkpointLoadDir, \"swarm\" + \".h5\"))\n",
    "    for ix in range(len(varlist)):\n",
    "        varb = varlist[ix]\n",
    "        varb.load(os.path.join(checkpointLoadDir,varnames[ix] + \".h5\"))\n",
    "\n",
    "else:\n",
    "\n",
    "    # Layouts are used to populate the swarm across the whole domain\n",
    "    # Create the layout object\n",
    "    layout = uw.swarm.layouts.PerCellRandomLayout(swarm=gSwarm, particlesPerCell=ppc)\n",
    "    # Now use it to populate.\n",
    "    gSwarm.populate_using_layout( layout=layout )\n",
    "\n",
    "    # Swarm variables\n",
    "    materialVariable.data[:] = mantleIndex\n",
    "    tracerVariable.data[:] = 1\n",
    "    yieldingCheck.data[:] = 0\n",
    "    timeVariable.data[:] = 0.\n",
    "    \n",
    "    #Set initial air and crust materials (allow the graph to take care of lithsophere)\n",
    "    #########\n",
    "    #This initial material setup will be model dependent\n",
    "    #########\n",
    "    for particleID in range(gSwarm.particleCoordinates.data.shape[0]):\n",
    "        if (1. - gSwarm.particleCoordinates.data[particleID][1]) < MANTLETOCRUST:\n",
    "                 materialVariable.data[particleID] = crustIndex"
   ]
  },
  {
   "cell_type": "markdown",
   "metadata": {
    "collapsed": true
   },
   "source": [
    "**Passive tracer layout**"
   ]
  },
  {
   "cell_type": "code",
   "execution_count": 27,
   "metadata": {
    "collapsed": false
   },
   "outputs": [],
   "source": [
    "#Passive tracers are not included in checkpoint - Probably best to remove this once models are properly bugchecked\n",
    "\n",
    "square_size = 0.1\n",
    "\n",
    "xlist = np.arange(mesh.minCoord[0] + square_size/2., mesh.maxCoord[0] + square_size/2., square_size)\n",
    "xlist = zip(xlist[:], xlist[1:])[::2]\n",
    "ylist = np.arange(mesh.minCoord[1] + square_size/2., mesh.maxCoord[1] + square_size/2., square_size)\n",
    "ylist = zip(ylist[:], ylist[1:])[::2]\n",
    "xops = []\n",
    "for vals in xlist:\n",
    "    xops.append( (operator.and_(   operator.gt(coordinate[0],vals[0]),   operator.lt(coordinate[0],vals[1])  ),0.) )\n",
    "xops.append((True,1.))\n",
    "\n",
    "testfunc = fn.branching.conditional(xops) \n",
    "\n",
    "yops = []\n",
    "for vals in ylist:\n",
    "    yops.append( (operator.and_(   operator.gt(coordinate[1],vals[0]),   operator.lt(coordinate[1],vals[1])  ),0.) )\n",
    "yops.append((True,testfunc))\n",
    "\n",
    "testfunc2 = fn.branching.conditional(yops) \n",
    "\n",
    "tracerVariable.data[:] = testfunc.evaluate(gSwarm)\n",
    "tracerVariable.data[:] = testfunc2.evaluate(gSwarm)"
   ]
  },
  {
   "cell_type": "markdown",
   "metadata": {
    "collapsed": false
   },
   "source": [
    "**Material swarm and graphs**"
   ]
  },
  {
   "cell_type": "code",
   "execution_count": 28,
   "metadata": {
    "collapsed": false
   },
   "outputs": [],
   "source": [
    "\n",
    "##############\n",
    "#Important: This is a quick fix for a bug that arises in parallel runs\n",
    "##############\n",
    "material_list = [0,2,5]"
   ]
  },
  {
   "cell_type": "code",
   "execution_count": 43,
   "metadata": {
    "collapsed": false
   },
   "outputs": [],
   "source": [
    "#All depth conditions are given as (km/D) where D is the length scale,\n",
    "#note that 'model depths' are used, e.g. 1-z, where z is the vertical Underworld coordinate\n",
    "#All temp conditions are in dimensionless temp. [0. - 1.]\n",
    "\n",
    "\n",
    "if not checkpointLoad:\n",
    "    materialVariable.data[:] = 0\n",
    "\n",
    "#######Graph object\n",
    "#DG = nx.DiGraph(field=\"Depth\")\n",
    "DG = material_graph.MatGraph()\n",
    "\n",
    "#Important: First thing to do is to add all the material types to the graph (i.e add nodes)\n",
    "DG.add_nodes_from(material_list)\n",
    "\n",
    "\n",
    "#Anything to mantle\n",
    "DG.add_transition((crustIndex,mantleIndex), depthFn, operator.gt, CRUSTTOMANTLE)\n",
    "#DG.add_transition((airIndex,mantleIndex), depthFn, operator.gt, TOPOHEIGHT)\n",
    "#DG.add_transition((lowermantleIndex, mantleIndex), depthFn, operator.lt, LOWERMANTLE)\n",
    "\n",
    "\n",
    "\n",
    "#Anything to lower mantle\n",
    "DG.add_transition((mantleIndex, lowermantleIndex), depthFn, operator.gt, LOWERMANTLE)\n",
    "\n",
    "\n",
    "\n",
    "\n",
    "#Anything to crust\n",
    "DG.add_transition((mantleIndex,crustIndex), depthFn, operator.lt, MANTLETOCRUST)\n",
    "DG.add_transition((mantleIndex,crustIndex), xFn, operator.lt, 0.) #No crust on the upper plate\n",
    "\n",
    "\n",
    "#Anything to air\n",
    "DG.add_transition((mantleIndex,airIndex), depthFn, operator.lt,0. - TOPOHEIGHT)\n",
    "DG.add_transition((crustIndex,airIndex), depthFn, operator.lt, 0. - TOPOHEIGHT)\n",
    "\n",
    "#Anything to lithsphere\n",
    "#DG.add_transition((mantleIndex,lithosphereIndex), depthFn, operator.lt, MANTLETOLITH)\n",
    "#DG.add_transition((mantleIndex,lithosphereIndex), temperatureField, operator.lt, 0.85*AVGTEMP)\n",
    "\n",
    "\n",
    "#crust to eclogite\n",
    "#DG.add_edges_from([(3,2)])\n",
    "#DG[3][2]['depthcondition'] =CRUSTTOECL\n",
    "#DG.add_transition((3,2), depthFn, operator.gt, CRUSTTOECL)"
   ]
  },
  {
   "cell_type": "code",
   "execution_count": 38,
   "metadata": {
    "collapsed": false
   },
   "outputs": [],
   "source": [
    "#DG.add_transition?"
   ]
  },
  {
   "cell_type": "code",
   "execution_count": 39,
   "metadata": {
    "collapsed": true
   },
   "outputs": [],
   "source": [
    "#timeVariable.data[np.where(dummyData[:] != materialVariable.data[:])] = 0. #resets those ages when a material type change\n"
   ]
  },
  {
   "cell_type": "code",
   "execution_count": 46,
   "metadata": {
    "collapsed": true
   },
   "outputs": [],
   "source": [
    "#Add crustal weak zone and the intersection of three shapes\n",
    "if checkpointLoad != True:\n",
    "    for particleID in range(gSwarm.particleCoordinates.data.shape[0]):\n",
    "        if (\n",
    "            Cc.evaluate(list(gSwarm.particleCoordinates.data[particleID])) and\n",
    "            Tri.evaluate(list(gSwarm.particleCoordinates.data[particleID])) and\n",
    "            Oc.evaluate(list(gSwarm.particleCoordinates.data[particleID])) == False\n",
    "            ):\n",
    "            materialVariable.data[particleID] = crustIndex"
   ]
  },
  {
   "cell_type": "code",
   "execution_count": 47,
   "metadata": {
    "collapsed": false
   },
   "outputs": [],
   "source": [
    "DG.build_condition_list(materialVariable)\n",
    "for i in range(2): #Need to go through twice first time through\n",
    "    materialVariable.data[:] = fn.branching.conditional(DG.condition_list).evaluate(gSwarm)"
   ]
  },
  {
   "cell_type": "code",
   "execution_count": null,
   "metadata": {
    "collapsed": false
   },
   "outputs": [],
   "source": []
  },
  {
   "cell_type": "code",
   "execution_count": 48,
   "metadata": {
    "collapsed": false
   },
   "outputs": [
    {
     "data": {
      "text/html": [
       "<img src='data:image/png;base64,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'>"
      ],
      "text/plain": [
       "<IPython.core.display.HTML object>"
      ]
     },
     "metadata": {},
     "output_type": "display_data"
    }
   ],
   "source": [
    "fig= glucifer.Figure()\n",
    "#fig.append( glucifer.objects.Points(gSwarm,tracerVariable, colours= 'white black'))\n",
    "fig.append( glucifer.objects.Points(gSwarm,materialVariable))\n",
    "#fig.append( glucifer.objects.Surface(mesh, dummyField))\n",
    "fig.show()\n",
    "#fig.save_database('test.gldb')"
   ]
  },
  {
   "cell_type": "markdown",
   "metadata": {},
   "source": [
    "Set up material parameters and functions\n",
    "-----\n",
    "\n",
    "Setup the viscosity to be a function of the temperature. Recall that these functions and values are preserved for the entire simulation time. "
   ]
  },
  {
   "cell_type": "code",
   "execution_count": null,
   "metadata": {
    "collapsed": false
   },
   "outputs": [],
   "source": [
    "# The yeilding of the upper slab is dependent on the strain rate.\n",
    "strainRate_2ndInvariant = fn.tensor.second_invariant( \n",
    "                            fn.tensor.symmetric( \n",
    "                            velocityField.fn_gradient ))\n",
    "\n",
    "gamma = dp.fc/(dp.a*dp.deltaT)"
   ]
  },
  {
   "cell_type": "code",
   "execution_count": null,
   "metadata": {
    "collapsed": false
   },
   "outputs": [],
   "source": [
    "ndp.Wds, ndp.Wdf, ndp.Eds, ndp.Edf"
   ]
  },
  {
   "cell_type": "code",
   "execution_count": 64,
   "metadata": {
    "collapsed": false
   },
   "outputs": [],
   "source": [
    "ViscReduce = 0.5\n",
    "\n",
    "#ndp.Wds *= ViscReduce\n",
    "#ndp.Wdf *= ViscReduce\n",
    "#ndp.Eds *= ViscReduce\n",
    "#ndp.Edf *= ViscReduce"
   ]
  },
  {
   "cell_type": "code",
   "execution_count": 66,
   "metadata": {
    "collapsed": false
   },
   "outputs": [
    {
     "data": {
      "text/plain": [
       "(8.9376056537546873, 9.876147503717625, 100000.0)"
      ]
     },
     "execution_count": 66,
     "metadata": {},
     "output_type": "execute_result"
    }
   ],
   "source": [
    "ndp.Wdf, ndp.Edf,ndp.eta_max"
   ]
  },
  {
   "cell_type": "code",
   "execution_count": 56,
   "metadata": {
    "collapsed": false
   },
   "outputs": [
    {
     "ename": "NameError",
     "evalue": "name 'strainRate_2ndInvariant' is not defined",
     "output_type": "error",
     "traceback": [
      "\u001b[1;31m\u001b[0m",
      "\u001b[1;31mNameError\u001b[0mTraceback (most recent call last)",
      "\u001b[1;32m<ipython-input-56-34b8b2d85b6c>\u001b[0m in \u001b[0;36m<module>\u001b[1;34m()\u001b[0m\n\u001b[0;32m     41\u001b[0m \u001b[1;33m\u001b[0m\u001b[0m\n\u001b[0;32m     42\u001b[0m \u001b[1;31m##Dislocation creep Creep\u001b[0m\u001b[1;33m\u001b[0m\u001b[1;33m\u001b[0m\u001b[0m\n\u001b[1;32m---> 43\u001b[1;33m \u001b[0mnl_correction\u001b[0m \u001b[1;33m=\u001b[0m \u001b[1;33m(\u001b[0m\u001b[0mstrainRate_2ndInvariant\u001b[0m\u001b[1;33m/\u001b[0m\u001b[0mndp\u001b[0m\u001b[1;33m.\u001b[0m\u001b[0mSR\u001b[0m\u001b[1;33m)\u001b[0m\u001b[1;33m**\u001b[0m\u001b[1;33m(\u001b[0m\u001b[1;33m(\u001b[0m\u001b[1;36m1.\u001b[0m\u001b[1;33m-\u001b[0m\u001b[0mndp\u001b[0m\u001b[1;33m.\u001b[0m\u001b[0mn\u001b[0m\u001b[1;33m)\u001b[0m\u001b[1;33m/\u001b[0m\u001b[1;33m(\u001b[0m\u001b[0mndp\u001b[0m\u001b[1;33m.\u001b[0m\u001b[0mn\u001b[0m\u001b[1;33m)\u001b[0m\u001b[1;33m)\u001b[0m\u001b[1;33m\u001b[0m\u001b[0m\n\u001b[0m\u001b[0;32m     44\u001b[0m \u001b[1;33m\u001b[0m\u001b[0m\n\u001b[0;32m     45\u001b[0m \u001b[1;33m\u001b[0m\u001b[0m\n",
      "\u001b[1;31mNameError\u001b[0m: name 'strainRate_2ndInvariant' is not defined"
     ]
    }
   ],
   "source": [
    "############\n",
    "#Rheology\n",
    "#############\n",
    "#\n",
    "#The final mantle rheology is composed as follows*:\n",
    "# \n",
    "#\n",
    "# mantleviscosityFn = max{  min{(1/omega*Visc + 1/eta_p)**-1,\n",
    "#                           eta_max},\n",
    "#                           eta_min}\n",
    "#                      \n",
    "#Visc => min{diffusionCreep, dislocationCreep, }\n",
    "#eta_p   => stress-limiting effective viscosity\n",
    "#\n",
    "\n",
    "\n",
    "omega = fn.misc.constant(1.)\n",
    "\n",
    "if melt_viscosity_reduction:\n",
    "    mvr =  fn.branching.conditional( [ (temperatureField > (ndp.Tmvp + 7.5*(1. - coordinate[1])) , 0.1 ),   (         True, 1.) ] )\n",
    "    omega = omega*mvr\n",
    "\n",
    "\n",
    "#implementation of the lower mantle viscosity increase, similar to Bello et al. 2015\n",
    "a = 1.\n",
    "B = 30.\n",
    "d0 = 660e3/dp.LS  \n",
    "ds = d0/10.\n",
    "if lower_mantle:\n",
    "    inner1 = 1. - 0.5*(1. - fn.math.tanh(((1. - d0)-(coordinate[1]))/(ds)))\n",
    "    modfac = a*fn.math.exp(np.log(B)*inner1)\n",
    "    omega = omega*modfac\n",
    "\n",
    "\n",
    "\n",
    "##Diffusion Creep\n",
    "ndfp = fn.misc.min(ndp.eta_max, fn.math.exp( ((ndp.Edf + (depthFn*ndp.Wdf))/((temperatureField + ndp.TS))) - \n",
    "              ((ndp.Edf + (ndp.Dr*ndp.Wdf))/((ndp.TPP + ndp.TS)))  ))\n",
    "\n",
    "\n",
    "\n",
    "##Dislocation creep Creep\n",
    "nl_correction = (strainRate_2ndInvariant/ndp.SR)**((1.-ndp.n)/(ndp.n))\n",
    "\n",
    "\n",
    "ndsp = fn.misc.min(ndp.eta_max,(nl_correction)*fn.math.exp( ((ndp.Eds + (depthFn*ndp.Wds))/(dp.n*(temperatureField + ndp.TS))) -\n",
    "                                     ((ndp.Eds + (ndp.Dr*ndp.Wds))/(dp.n*(ndp.TPP + ndp.TS)))))\n",
    "\n",
    "\n",
    "Visc = fn.misc.min(ndp.eta_max, fn.misc.min(ndfp, ndsp))\n",
    "\n",
    "ys =  ndp.cohesion + (depthFn*gamma*ndp.RA) #In this case we'll use a valid cohesion\n",
    "yielding = ys/(strainRate_2ndInvariant/math.sqrt(0.5)) #extra factor to account for underworld second invariant form\n",
    "\n",
    "\n",
    "linearVisc = fn.misc.min(ndp.eta_max, ndfp)\n",
    "\n",
    "mantleviscosityFn = fn.misc.max(fn.misc.min(1./(((1./Visc) + (1./yielding))), ndp.eta_max), ndp.eta_min)\n",
    "\n",
    "\n",
    "\n",
    "#lower mantle rheology\n",
    "\n",
    "#ndflm = fn.misc.min(ndp.eta_max, fn.math.exp( ((ndp.Elm + (depthFn*ndp.Wlm))/((temperatureField + ndp.TS))) - \n",
    "#              ((ndp.Elm + (ndp.Dr*ndp.Wlm))/((ndp.TPP + ndp.TS)))  ))\n",
    "\n",
    "#I ignored Cizkova's lower mantle diffusion creep parameters, \n",
    "#as they appeared to give lower values that the upper mantle rheology, i.e a visc. decrease at 660.\n",
    "lm_increase = 1.\n",
    "lowermantleviscosityFn = fn.misc.max(lm_increase*ndfp, ndp.eta_min)\n",
    "\n",
    "\n",
    "##Crust rheology\n",
    "reduceFac = 0.1\n",
    "ysc =  reduceFac*ndp.cohesion + reduceFac*(depthFn*gamma*ndp.RA) #In this case we'll use a valid cohesion\n",
    "crust_yielding = ysc/(strainRate_2ndInvariant/math.sqrt(0.5)) #extra factor to account for underworld second invariant form\n",
    "crustviscosityFn = fn.misc.max(fn.misc.min(1./(((1./Visc) + (1./crust_yielding))), ndp.eta_max), ndp.eta_min)\n"
   ]
  },
  {
   "cell_type": "code",
   "execution_count": null,
   "metadata": {
    "collapsed": true
   },
   "outputs": [],
   "source": []
  },
  {
   "cell_type": "markdown",
   "metadata": {},
   "source": [
    "import matplotlib.pylab as pyplt\n",
    "%matplotlib inline\n",
    "\n",
    "\n",
    "\n",
    "##################\n",
    "#Output functions to numpy vertical averages, maxes, mins\n",
    "##################\n",
    "\n",
    "viscmapFnmesh = uw.mesh.MeshVariable(mesh,nodeDofCount=1)\n",
    "out = uw.utils.MeshVariable_Projection( viscmapFnmesh, viscosityMapFn)\n",
    "out.solve()\n",
    "\n",
    "\n",
    "#avDf = ndfp.evaluate(mesh).reshape(mesh.elementRes[1] + 1, mesh.elementRes[0] + 1).mean(axis=1)\n",
    "avDs = ndsp.evaluate(mesh).reshape(mesh.elementRes[1] + 1, mesh.elementRes[0] + 1).mean(axis=1)\n",
    "umantle = mantleviscosityFn.evaluate(mesh).reshape(mesh.elementRes[1] + 1, mesh.elementRes[0] + 1).mean(axis=1)\n",
    "lmantle = lowermantleviscosityFn.evaluate(mesh).reshape(mesh.elementRes[1] + 1, mesh.elementRes[0] + 1).mean(axis=1)\n",
    "eff = viscmapFnmesh.evaluate(mesh).reshape(mesh.elementRes[1] + 1, mesh.elementRes[0] + 1).mean(axis=1)\n",
    "\n",
    "effMin = viscmapFnmesh.evaluate(mesh).reshape(mesh.elementRes[1] + 1, mesh.elementRes[0] + 1).min(axis=1)\n",
    "effMax = viscmapFnmesh.evaluate(mesh).reshape(mesh.elementRes[1] + 1, mesh.elementRes[0] + 1).max(axis=1)\n",
    "\n",
    "###################\n",
    "#Plot\n",
    "###################\n",
    "import matplotlib.pylab as pyplt\n",
    "%matplotlib inline\n",
    "\n",
    "fig, ax = pyplt.subplots()\n",
    "#ax .plot(avDf, label = 'diff')\n",
    "#ax .plot(avDs, label = 'dis')\n",
    "ax .plot(eff, label = 'eff')\n",
    "ax .plot(effMax, label = 'effMax')\n",
    "ax .plot(effMin, label = 'effMin')\n",
    "#ax .plot(umantle, label = 'uman')\n",
    "#ax .plot(lmantle, label = 'lman')\n",
    "ax.set_yscale(\"log\", nonposy='clip')\n",
    "ax.legend(loc = 3)"
   ]
  },
  {
   "cell_type": "code",
   "execution_count": 142,
   "metadata": {
    "collapsed": false
   },
   "outputs": [],
   "source": [
    "fig= glucifer.Figure()\n",
    "#fig.append( glucifer.objects.Points(gSwarm,tracerVariable, colours= 'white black'))\n",
    "#fig.append( glucifer.objects.Points(gSwarm,viscosityMapFn, logScale=True))\n",
    "#fig.append( glucifer.objects.Surface(mesh, temperatureField))\n",
    "\n",
    "#fig.append( glucifer.objects.Surface(mesh,ndflm, logScale=True))\n",
    "#fig.show()\n",
    "#fig.save_database('test.gldb')"
   ]
  },
  {
   "cell_type": "code",
   "execution_count": 143,
   "metadata": {
    "collapsed": false
   },
   "outputs": [],
   "source": [
    "#fig.save_database('test.gldb')"
   ]
  },
  {
   "cell_type": "code",
   "execution_count": 148,
   "metadata": {
    "collapsed": false
   },
   "outputs": [
    {
     "data": {
      "text/html": [
       "<img src='data:image/png;base64,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'>"
      ],
      "text/plain": [
       "<IPython.core.display.HTML object>"
      ]
     },
     "metadata": {},
     "output_type": "display_data"
    }
   ],
   "source": [
    "fig= glucifer.Figure()\n",
    "#fig.append( glucifer.objects.Points(gSwarm,tracerVariable, colours= 'white black'))\n",
    "#fig.append( glucifer.objects.Points(gSwarm,materialVariable))\n",
    "#fig.append( glucifer.objects.Surface(mesh, ndfp/ndsp , logScale=True))\n",
    "\n",
    "fig.append( glucifer.objects.Surface(mesh, strainRate_2ndInvariant/ndp.SR))\n",
    "fig.show()\n",
    "#fig.save_database('test.gldb')"
   ]
  },
  {
   "cell_type": "markdown",
   "metadata": {},
   "source": [
    "System setup\n",
    "-----\n",
    "\n",
    "Since we are using a previously constructed temperature field, we will use a single Stokes solve to get consistent velocity and pressure fields.\n",
    "\n",
    "**Setup a Stokes system**"
   ]
  },
  {
   "cell_type": "code",
   "execution_count": 145,
   "metadata": {
    "collapsed": false
   },
   "outputs": [],
   "source": [
    "#this accounts for the decreas in expansivity\n",
    "alphaRatio = 1.2/3\n",
    "taFn = 1. - (1. - depthFn)*(1. - alphaRatio) \n",
    "raylieghFn = ndp.RA*temperatureField*taFn \n",
    "\n",
    "\n",
    "# Here we set a viscosity value of '1.' for both materials\n",
    "viscosityMapFn = fn.branching.map( fn_key = materialVariable,\n",
    "                         mapping = {lithosphereIndex:mantleviscosityFn, \n",
    "                                    crustIndex:ndp.eta_crust,\n",
    "                                    mantleIndex:mantleviscosityFn,\n",
    "                                    lowermantleIndex:lowermantleviscosityFn,\n",
    "                                    eclIndex:mantleviscosityFn,\n",
    "                                    airIndex:ndp.Steta0} )\n",
    "\n",
    "densityMapFn = fn.branching.map( fn_key = materialVariable,\n",
    "                         mapping = {airIndex:ndp.StRA, \n",
    "                                    lithosphereIndex:raylieghFn, \n",
    "                                    crustIndex:raylieghFn, \n",
    "                                    mantleIndex:raylieghFn,\n",
    "                                   lowermantleIndex:raylieghFn} )"
   ]
  },
  {
   "cell_type": "code",
   "execution_count": 146,
   "metadata": {
    "collapsed": false
   },
   "outputs": [],
   "source": [
    "\n",
    "# Define our vertical unit vector using a python tuple (this will be automatically converted to a function).\n",
    "gravity = ( 0.0, 1.0 )\n",
    "\n",
    "# Now create a buoyancy force vector using the density and the vertical unit vector. \n",
    "buoyancyFn = densityMapFn * gravity"
   ]
  },
  {
   "cell_type": "code",
   "execution_count": 147,
   "metadata": {
    "collapsed": false
   },
   "outputs": [],
   "source": [
    "stokesPIC = uw.systems.Stokes(velocityField=velocityField, \n",
    "                              pressureField=pressureField,\n",
    "                              conditions=[freeslipBC,],\n",
    "                              fn_viscosity=linearVisc, \n",
    "                              fn_bodyforce=buoyancyFn )"
   ]
  },
  {
   "cell_type": "markdown",
   "metadata": {},
   "source": [
    "**Set up and solve the Stokes system**"
   ]
  },
  {
   "cell_type": "code",
   "execution_count": 48,
   "metadata": {
    "collapsed": false
   },
   "outputs": [],
   "source": [
    "solver = uw.systems.Solver(stokesPIC)\n",
    "if not checkpointLoad:\n",
    "    solver.solve() #A solve on the linear visocisty is unhelpful unless we're starting from scratch"
   ]
  },
  {
   "cell_type": "markdown",
   "metadata": {},
   "source": [
    "**Add the non-linear viscosity to the Stokes system**\n"
   ]
  },
  {
   "cell_type": "code",
   "execution_count": 49,
   "metadata": {
    "collapsed": true
   },
   "outputs": [],
   "source": [
    "stokesPIC.fn_viscosity = viscosityMapFn"
   ]
  },
  {
   "cell_type": "code",
   "execution_count": 50,
   "metadata": {
    "collapsed": false
   },
   "outputs": [
    {
     "name": "stdout",
     "output_type": "stream",
     "text": [
      "\u001b[1;35m\n",
      " \n",
      "Pressure iterations:   4\n",
      "Velocity iterations:   1 (presolve)      \n",
      "Velocity iterations:  -1 (pressure solve)\n",
      "Velocity iterations:   1 (backsolve)     \n",
      "Velocity iterations:   1 (total solve)   \n",
      " \n",
      "SCR RHS  solve time: 1.1453e+00\n",
      "Pressure solve time: 1.0917e-01\n",
      "Velocity solve time: 1.0162e+00 (backsolve)\n",
      "Total solve time   : 2.4597e+00\n",
      " \n",
      "Velocity solution min/max: 0.0000e+00/0.0000e+00\n",
      "Pressure solution min/max: 0.0000e+00/0.0000e+00\n",
      " \n",
      "\u001b[00m\n"
     ]
    }
   ],
   "source": [
    "solver.set_inner_method(\"mumps\")\n",
    "solver.options.scr.ksp_type=\"cg\"\n",
    "solver.set_penalty(1.0e7)\n",
    "solver.options.scr.ksp_rtol = 1.0e-4\n",
    "solver.solve(nonLinearIterate=True)\n",
    "solver.print_stats()"
   ]
  },
  {
   "cell_type": "code",
   "execution_count": null,
   "metadata": {
    "collapsed": false
   },
   "outputs": [],
   "source": []
  },
  {
   "cell_type": "code",
   "execution_count": null,
   "metadata": {
    "collapsed": false
   },
   "outputs": [],
   "source": []
  },
  {
   "cell_type": "markdown",
   "metadata": {},
   "source": [
    "**Create an advective diffusive system**"
   ]
  },
  {
   "cell_type": "code",
   "execution_count": null,
   "metadata": {
    "collapsed": true
   },
   "outputs": [],
   "source": [
    "advDiff = uw.systems.AdvectionDiffusion( phiField       = temperatureField, \n",
    "                                         phiDotField    = temperatureDotField, \n",
    "                                         velocityField  = velocityField,\n",
    "                                         fn_sourceTerm    = 0.0,\n",
    "                                         fn_diffusivity = 1.0, \n",
    "                                         #conditions     = [neumannTempBC, dirichTempBC] )\n",
    "                                         conditions     = [ dirichTempBC] )\n",
    "\n",
    "passiveadvector = uw.systems.SwarmAdvector( swarm         = gSwarm, \n",
    "                                     velocityField = velocityField, \n",
    "                                     order         = 1)"
   ]
  },
  {
   "cell_type": "code",
   "execution_count": null,
   "metadata": {
    "collapsed": true
   },
   "outputs": [],
   "source": [
    "population_control = uw.swarm.PopulationControl(gSwarm,deleteThreshold=0.2,splitThreshold=1.,maxDeletions=3,maxSplits=0, aggressive=True, particlesPerCell=ppc)"
   ]
  },
  {
   "cell_type": "markdown",
   "metadata": {},
   "source": [
    "Analysis tools\n",
    "-----"
   ]
  },
  {
   "cell_type": "code",
   "execution_count": null,
   "metadata": {
    "collapsed": true
   },
   "outputs": [],
   "source": [
    "#These are functions we can use to evuate integrals over restricted parts of the domain\n",
    "# For instance, we can exclude the thermal lithosphere from integrals\n",
    "\n",
    "def temprestrictionFn(lithval = 0.9):\n",
    "\n",
    "    tempMM = fn.view.min_max(temperatureField)\n",
    "    tempMM.evaluate(mesh)\n",
    "    TMAX = tempMM.max_global()\n",
    "    mantleconditions = [ (                                  temperatureField > lithval*TMAX, 1.),\n",
    "                   (                                                   True , 0.) ]\n",
    "\n",
    "\n",
    "    return fn.branching.conditional(mantleconditions)\n",
    "\n",
    "mantlerestrictFn = temprestrictionFn(lithval = 0.85)\n",
    "\n",
    "\n",
    "\n",
    "def platenessFn(val = 0.1):\n",
    "    normgradV = fn.math.abs(velocityField.fn_gradient[0]/fn.math.sqrt(velocityField[0]*velocityField[0])) #[du*/dx]/sqrt(u*u)\n",
    "\n",
    "\n",
    "\n",
    "    srconditions = [ (                                  normgradV < val, 1.),\n",
    "                   (                                                   True , 0.) ]\n",
    "\n",
    "\n",
    "    return fn.branching.conditional(srconditions)\n",
    "\n",
    "srrestrictFn = platenessFn(val = 0.1)"
   ]
  },
  {
   "cell_type": "code",
   "execution_count": null,
   "metadata": {
    "collapsed": false
   },
   "outputs": [],
   "source": [
    "fig = glucifer.Figure()\n",
    "fig.append( glucifer.objects.Surface(mesh, temperatureField) )\n",
    "\n",
    "#fig.show()\n",
    "#fig.save_database('test.gldb')"
   ]
  },
  {
   "cell_type": "code",
   "execution_count": null,
   "metadata": {
    "collapsed": false
   },
   "outputs": [],
   "source": [
    "#Setup volume integrals \n",
    "\n",
    "tempint = uw.utils.Integral( temperatureField, mesh )\n",
    "areaint = uw.utils.Integral( 1.,               mesh )\n",
    "\n",
    "v2int   = uw.utils.Integral( fn.math.dot(velocityField,velocityField), mesh )\n",
    "\n",
    "dwint   = uw.utils.Integral( temperatureField*velocityField[1], mesh )\n",
    "\n",
    "sinner = fn.math.dot( strainRate_2ndInvariant, strainRate_2ndInvariant )\n",
    "vdint = uw.utils.Integral( (4.*viscosityMapFn*sinner), mesh )\n",
    "\n",
    "mantleArea   = uw.utils.Integral( mantlerestrictFn, mesh )\n",
    "mantleTemp = uw.utils.Integral( temperatureField*mantlerestrictFn, mesh )\n",
    "mantleVisc = uw.utils.Integral( mantleviscosityFn*mantlerestrictFn, mesh )\n",
    "mantleVd = uw.utils.Integral( (4.*viscosityMapFn*sinner*mantlerestrictFn), mesh ) #these now work on MappingFunctions"
   ]
  },
  {
   "cell_type": "code",
   "execution_count": null,
   "metadata": {
    "collapsed": true
   },
   "outputs": [],
   "source": [
    "#Setup surface integrals\n",
    "\n",
    "rmsSurfInt = uw.utils.Integral( fn=velocityField[0]*velocityField[0], mesh=mesh, integrationType='Surface', \n",
    "                          surfaceIndexSet=mesh.specialSets[\"MaxJ_VertexSet\"])\n",
    "nuTop      = uw.utils.Integral( fn=temperatureField.fn_gradient[1],    mesh=mesh, integrationType='Surface', \n",
    "                          surfaceIndexSet=mesh.specialSets[\"MaxJ_VertexSet\"])\n",
    "nuBottom   = uw.utils.Integral( fn=temperatureField.fn_gradient[1],    mesh=mesh, integrationType='Surface', \n",
    "                          surfaceIndexSet=mesh.specialSets[\"MinJ_VertexSet\"])\n",
    "\n",
    "plateint  = uw.utils.Integral( fn=srrestrictFn, mesh=mesh, integrationType='Surface', #Integrate the plateness function\n",
    "                          surfaceIndexSet=mesh.specialSets[\"MaxJ_VertexSet\"]) \n",
    "\n",
    "surfint  = uw.utils.Integral( fn=1., mesh=mesh, integrationType='Surface',   #Surface length function (i.e. domain width)\n",
    "                          surfaceIndexSet=mesh.specialSets[\"MaxJ_VertexSet\"])"
   ]
  },
  {
   "cell_type": "code",
   "execution_count": null,
   "metadata": {
    "collapsed": true
   },
   "outputs": [],
   "source": [
    "#Define functions for the evaluation of integrals\n",
    "\n",
    "def basic_int(ourIntegral):           #This one just hands back the evaluated integral\n",
    "    return ourIntegral.evaluate()[0]\n",
    "\n",
    "def avg_temp():\n",
    "    return tempint.evaluate()[0]/areaint.evaluate()[0]\n",
    "\n",
    "def nusseltTB(temp_field, mesh):\n",
    "    return -nuTop.evaluate()[0], -nuBottom.evaluate()[0]\n",
    "\n",
    "def rms():\n",
    "    return math.sqrt(v2int.evaluate()[0]/areaint.evaluate()[0])\n",
    "\n",
    "def rms_surf():\n",
    "    return math.sqrt(rmsSurfInt.evaluate()[0])\n",
    "\n",
    "def max_vx_surf(velfield, mesh):\n",
    "    vuvelxfn = fn.view.min_max(velfield[0])\n",
    "    vuvelxfn.evaluate(mesh.specialSets[\"MaxJ_VertexSet\"])\n",
    "    return vuvelxfn.max_global()\n",
    "\n",
    "\n",
    "def visc_extr(viscfn):\n",
    "    vuviscfn = fn.view.min_max(viscfn)\n",
    "    vuviscfn.evaluate(mesh)\n",
    "    return vuviscfn.max_global(), vuviscfn.min_global()"
   ]
  },
  {
   "cell_type": "code",
   "execution_count": null,
   "metadata": {
    "collapsed": false
   },
   "outputs": [],
   "source": [
    "#v2sum_integral  = uw.utils.Integral( mesh=mesh, fn=fn.math.dot( velocityField, velocityField ) )\n",
    "#volume_integral = uw.utils.Integral( mesh=mesh, fn=1. )\n",
    "#Vrms = math.sqrt( v2sum_integral.evaluate()[0] )/volume_integral.evaluate()[0]\n",
    "\n",
    "\n",
    "\n",
    "#if(uw.rank()==0):\n",
    "#    print('Initial Vrms = {0:.3f}'.format(Vrms))"
   ]
  },
  {
   "cell_type": "code",
   "execution_count": null,
   "metadata": {
    "collapsed": false
   },
   "outputs": [],
   "source": [
    "# Check the Metrics\n",
    "\n",
    "#Avg_temp = avg_temp()\n",
    "#Rms = rms()\n",
    "#Rms_surf = rms_surf()\n",
    "#Max_vx_surf = max_vx_surf(velocityField, mesh)\n",
    "#Gravwork = basic_int(dwint)\n",
    "#Viscdis = basic_int(vdint)\n",
    "#nu1, nu0 = nusseltTB(temperatureField, mesh) # return top then bottom\n",
    "#etamax, etamin = visc_extr(mantleviscosityFn)\n",
    "\n",
    "Area_mantle = basic_int(mantleArea)\n",
    "#Viscmantle = basic_int(mantleVisc)\n",
    "#Tempmantle = basic_int(mantleTemp)\n",
    "#Viscdismantle = basic_int(mantleVd)"
   ]
  },
  {
   "cell_type": "code",
   "execution_count": null,
   "metadata": {
    "collapsed": false
   },
   "outputs": [],
   "source": [
    "#Tempmantle/Area_mantle, Viscmantle/Area_mantle\n",
    "#Plateness = basic_int(plateint)/basic_int(surfint)"
   ]
  },
  {
   "cell_type": "code",
   "execution_count": null,
   "metadata": {
    "collapsed": false
   },
   "outputs": [],
   "source": [
    "Area_mantle"
   ]
  },
  {
   "cell_type": "markdown",
   "metadata": {},
   "source": [
    "Viz.\n",
    "-----"
   ]
  },
  {
   "cell_type": "code",
   "execution_count": null,
   "metadata": {
    "collapsed": false
   },
   "outputs": [],
   "source": [
    "viscVariable = gSwarm.add_variable( dataType=\"float\", count=1 )\n",
    "viscVariable.data[:] = viscosityMapFn.evaluate(gSwarm)"
   ]
  },
  {
   "cell_type": "code",
   "execution_count": null,
   "metadata": {
    "collapsed": false
   },
   "outputs": [],
   "source": [
    "#Pack some stuff into a database as well\n",
    "figDb = glucifer.Figure()\n",
    "#figDb.append( glucifer.objects.Mesh(mesh))\n",
    "figDb.append( glucifer.objects.VectorArrows(mesh,velocityField, scaling=0.0005))\n",
    "figDb.append( glucifer.objects.Points(gSwarm,tracerVariable, colours= 'white black'))\n",
    "figDb.append( glucifer.objects.Points(gSwarm,viscosityMapFn, logScale=True))\n",
    "figDb.append( glucifer.objects.Surface(mesh, strainRate_2ndInvariant, logScale=True))\n",
    "figDb.append( glucifer.objects.Surface(mesh, temperatureField))\n",
    "#figDb.show()"
   ]
  },
  {
   "cell_type": "code",
   "execution_count": null,
   "metadata": {
    "collapsed": false
   },
   "outputs": [],
   "source": [
    "#figDb.show()\n"
   ]
  },
  {
   "cell_type": "code",
   "execution_count": null,
   "metadata": {
    "collapsed": false
   },
   "outputs": [],
   "source": [
    "velocityField.data[iWalls.data][np.where(velocityField.data[iWalls.data] == 0)]"
   ]
  },
  {
   "cell_type": "code",
   "execution_count": null,
   "metadata": {
    "collapsed": false
   },
   "outputs": [],
   "source": [
    "\n",
    "def checkpoint1(step, checkpointPath,filename, filewrites):\n",
    "    path = checkpointPath + str(step) \n",
    "    os.mkdir(path)\n",
    "    ##Write and save the file, if not already a writing step\n",
    "    if not step % filewrites == 0:\n",
    "        filename.write((17*'%-15s ' + '\\n') % (realtime, Viscdis, float(nu0), float(nu1), Avg_temp,\n",
    "                                              Tempmantle,TMAX,\n",
    "                                              Rms,Rms_surf,Max_vx_surf,Gravwork, etamax, etamin, \n",
    "                                              Area_mantle, Viscmantle,  Viscdismantle,Plateness ))\n",
    "    filename.close()\n",
    "    shutil.copyfile(os.path.join(outputPath, outputFile), os.path.join(path, outputFile))\n",
    "\n",
    "\n",
    "def checkpoint2(step, checkpointPath, swarm, filename, varlist = [materialVariable], varnames = ['materialVariable']):\n",
    "    path = checkpointPath + str(step) \n",
    "    velfile = \"velocityField\" + \".hdf5\"\n",
    "    tempfile = \"temperatureField\" + \".hdf5\"\n",
    "    pressfile = \"pressureField\" + \".hdf5\"\n",
    "    velocityField.save(os.path.join(path, velfile))\n",
    "    temperatureField.save(os.path.join(path, tempfile))\n",
    "    pressureField.save(os.path.join(path, pressfile))\n",
    "    swarm.save(os.path.join(path, \"swarm.h5\") ) \n",
    "    for ix in range(len(varlist)):\n",
    "        varb = varlist[ix]\n",
    "        varb.save(os.path.join(path,varnames[ix] + \".h5\"))\n",
    "    "
   ]
  },
  {
   "cell_type": "markdown",
   "metadata": {},
   "source": [
    "**Miscellania**"
   ]
  },
  {
   "cell_type": "code",
   "execution_count": null,
   "metadata": {
    "collapsed": false
   },
   "outputs": [],
   "source": [
    "surface_xs = np.linspace(mesh.minCoord[0], mesh.maxCoord[0], mesh.elementRes[0] + 1)\n",
    "surface_nodes = np.array(zip(surface_xs, np.ones(len(surface_xs)*mesh.maxCoord[1]))) #For evaluation surface velocity\n",
    "\n",
    "\n",
    "normgradV = velocityField.fn_gradient[0]/fn.math.sqrt(velocityField[0]*velocityField[0])\n",
    "\n",
    "tempMM = fn.view.min_max(temperatureField)\n",
    "dummy = tempMM.evaluate(mesh)\n",
    "\n"
   ]
  },
  {
   "cell_type": "code",
   "execution_count": null,
   "metadata": {
    "collapsed": false
   },
   "outputs": [],
   "source": [
    "tempMM.max_global(), temperatureField.data.max()"
   ]
  },
  {
   "cell_type": "markdown",
   "metadata": {},
   "source": [
    "Main simulation loop\n",
    "-----\n",
    "\n",
    "Run a few advection and Stokes solver steps to make sure we are in, or close to, equilibrium."
   ]
  },
  {
   "cell_type": "code",
   "execution_count": null,
   "metadata": {
    "collapsed": false
   },
   "outputs": [],
   "source": [
    "# initialise timer for computation\n",
    "start = time.clock()\n",
    "# setup summary output file (name above)\n",
    "if checkpointLoad:\n",
    "    if uw.rank() == 0:\n",
    "        shutil.copyfile(os.path.join(checkpointLoadDir, outputFile), outputPath+outputFile)\n",
    "    comm.Barrier()\n",
    "    f_o = open(os.path.join(outputPath, outputFile), 'a')\n",
    "    prevdata = np.genfromtxt(os.path.join(outputPath, outputFile), skip_header=0, skip_footer=0)\n",
    "    if len(prevdata.shape) == 1: #this is in case there is only one line in previous file\n",
    "        realtime = prevdata[0]\n",
    "    else:\n",
    "        realtime = prevdata[prevdata.shape[0]-1, 0]\n",
    "    step = int(checkpointLoadDir.split('/')[-1])\n",
    "    timevals = [0.]\n",
    "else:\n",
    "    f_o = open(outputPath+outputFile, 'w')\n",
    "    realtime = 0.\n",
    "    step = 0\n",
    "    timevals = [0.]"
   ]
  },
  {
   "cell_type": "code",
   "execution_count": null,
   "metadata": {
    "collapsed": false
   },
   "outputs": [],
   "source": []
  },
  {
   "cell_type": "code",
   "execution_count": null,
   "metadata": {
    "collapsed": false
   },
   "outputs": [],
   "source": [
    "#while step < 21:\n",
    "while realtime < 1.:\n",
    "\n",
    "    # solve Stokes and advection systems\n",
    "    solver.solve(nonLinearIterate=True)\n",
    "    dt = advDiff.get_max_dt()\n",
    "    if step == 0:\n",
    "        dt = 0.\n",
    "    advDiff.integrate(dt)\n",
    "    passiveadvector.integrate(dt)\n",
    "    \n",
    "    #Add the adiabatic adjustment:\n",
    "    temperatureField.data[:] += dt*abHeatFn.evaluate(mesh)\n",
    "    \n",
    "\n",
    "    # Increment\n",
    "    realtime += dt\n",
    "    step += 1\n",
    "    timevals.append(realtime)\n",
    "    ################\n",
    "    #Update temperature field in the air region\n",
    "    #Do this better...\n",
    "    ################\n",
    "    if (step % sticky_air_temp == 0):\n",
    "        for index, coord in enumerate(mesh.data):\n",
    "            if coord[1] >= 1.:\n",
    "                temperatureField.data[index] = ndp.TSP\n",
    "    ################\n",
    "    #Gldb output\n",
    "    ################ \n",
    "    if (step % gldbs_output == 0):\n",
    "        #Rebuild any necessary swarm variables\n",
    "        viscVariable.data[:] = viscosityMapFn.evaluate(gSwarm)\n",
    "        #Write gldbs\n",
    "        fnamedb = \"dbFig\" + \"_\" + str(ModIt) + \"_\" + str(step) + \".gldb\"\n",
    "        fullpath = os.path.join(outputPath + \"gldbs/\" + fnamedb)\n",
    "        #figDb.show()\n",
    "        figDb.save_database(fullpath)\n",
    "    ################\n",
    "    #Files output\n",
    "    ################ \n",
    "    if (step % files_output == 0):\n",
    "\n",
    "        vel_surface = velocityField.evaluate_global(surface_nodes)\n",
    "        norm_surface_sr = normgradV.evaluate_global(surface_nodes)\n",
    "        if uw.rank() == 0:\n",
    "            fnametemp = \"velsurface\" + \"_\" + str(ModIt) + \"_\" + str(step)\n",
    "            fullpath = os.path.join(outputPath + \"files/\" + fnametemp)\n",
    "            np.save(fullpath, vel_surface)\n",
    "            fnametemp = \"norm_surface_sr\" + \"_\" + str(ModIt) + \"_\" + str(step)\n",
    "            fullpath = os.path.join(outputPath + \"files/\" + fnametemp)\n",
    "            np.save(fullpath, norm_surface_sr)\n",
    "    ################            \n",
    "    # Calculate the Metrics, only on 1 of the processors:\n",
    "    ################\n",
    "    if (step % metric_output == 0):\n",
    "        ###############\n",
    "        #Swarm - based Metrics\n",
    "        ###############\n",
    "        # Calculate the RMS velocity and Nusselt number.\n",
    "        # Calculate the Metrics, only on 1 of the processors:\n",
    "        mantlerestrictFn = temprestrictionFn() #rebuild the mantle restriction function (but these should be dynamic?)\n",
    "        srrestrictFn = platenessFn(val = 0.1) #rebuild the plateness restriction function\n",
    "        dummy = tempMM.evaluate(mesh) #Re-evaluate any fn.view.min_max guys\n",
    "        #Rebuild these integrals (a test because metrics changes after a restart)\n",
    "        mantleArea   = uw.utils.Integral( mantlerestrictFn, mesh )\n",
    "        mantleTemp = uw.utils.Integral( temperatureField*mantlerestrictFn, mesh )\n",
    "        mantleVisc = uw.utils.Integral( mantleviscosityFn*mantlerestrictFn, mesh )\n",
    "        mantleVd = uw.utils.Integral( (4.*viscosityMapFn*sinner*mantlerestrictFn), mesh ) #these now work on MappingFunctions\n",
    "        ###\n",
    "        Avg_temp = avg_temp()\n",
    "        Rms = rms()\n",
    "        Rms_surf = rms_surf()\n",
    "        Max_vx_surf = max_vx_surf(velocityField, mesh)\n",
    "        Gravwork = basic_int(dwint)\n",
    "        Viscdis = basic_int(vdint)\n",
    "        nu1, nu0 = nusseltTB(temperatureField, mesh) # return top then bottom\n",
    "        etamax, etamin = visc_extr(mantleviscosityFn)\n",
    "        Area_mantle = basic_int(mantleArea)\n",
    "        Viscmantle = basic_int(mantleVisc)\n",
    "        Tempmantle = basic_int(mantleTemp)\n",
    "        Viscdismantle = basic_int(mantleVd)\n",
    "        Plateness = basic_int(plateint)/basic_int(surfint)\n",
    "        TMAX = tempMM.max_global()\n",
    "        # output to summary text file\n",
    "        if uw.rank()==0:\n",
    "            f_o.write((17*'%-15s ' + '\\n') % (realtime, Viscdis, float(nu0), float(nu1), Avg_temp,\n",
    "                                              Tempmantle,TMAX,\n",
    "                                              Rms,Rms_surf,Max_vx_surf,Gravwork, etamax, etamin, \n",
    "                                              Area_mantle, Viscmantle,  Viscdismantle,Plateness ))\n",
    "    ################\n",
    "    #Also repopulate entire swarm periodically\n",
    "    ################\n",
    "    #if step % swarm_repop == 0:\n",
    "    population_control.repopulate()\n",
    "    \n",
    "    ################\n",
    "    #Checkpoint\n",
    "    ################\n",
    "    if step % checkpoint_every == 0:\n",
    "        if uw.rank() == 0:\n",
    "            checkpoint1(step, checkpointPath,f_o, metric_output)           \n",
    "        checkpoint2(step, checkpointPath, gSwarm, f_o, varlist = varlist, varnames = varnames)\n",
    "        f_o = open(os.path.join(outputPath, outputFile), 'a') #is this line supposed to be here?\n",
    "    ################\n",
    "    #Particle update\n",
    "    ###############\n",
    "    timeVariable.data[:] += dt #increment the ages (is this efficient?)\n",
    "    dummyData = np.copy(materialVariable.data)#This is part of a hack that resets ages when a material type changes\n",
    "    if step % swarm_update == 0:\n",
    "        for i in range(2): #Need to go through twice first time through\n",
    "            materialVariable.data[:] = fn.branching.conditional(DG.condition_list).evaluate(gSwarm)\n",
    "    timeVariable.data[np.where(dummyData[:] != materialVariable.data[:])] = 0. #resets those ages when a material type change\n",
    "    \n",
    "f_o.close()\n",
    "print 'step =',step"
   ]
  },
  {
   "cell_type": "code",
   "execution_count": 109,
   "metadata": {
    "collapsed": false
   },
   "outputs": [
    {
     "ename": "RuntimeError",
     "evalue": "Function input dimensionality (2) does not appear to match mesh variable dimensionality (105).",
     "output_type": "error",
     "traceback": [
      "\u001b[1;31m\u001b[0m",
      "\u001b[1;31mRuntimeError\u001b[0mTraceback (most recent call last)",
      "\u001b[1;32m<ipython-input-109-758841825d0d>\u001b[0m in \u001b[0;36m<module>\u001b[1;34m()\u001b[0m\n\u001b[0;32m      1\u001b[0m \u001b[0mviscVariable\u001b[0m \u001b[1;33m=\u001b[0m \u001b[0mgSwarm\u001b[0m\u001b[1;33m.\u001b[0m\u001b[0madd_variable\u001b[0m\u001b[1;33m(\u001b[0m \u001b[0mdataType\u001b[0m\u001b[1;33m=\u001b[0m\u001b[1;34m\"float\"\u001b[0m\u001b[1;33m,\u001b[0m \u001b[0mcount\u001b[0m\u001b[1;33m=\u001b[0m\u001b[1;36m1\u001b[0m \u001b[1;33m)\u001b[0m\u001b[1;33m\u001b[0m\u001b[0m\n\u001b[1;32m----> 2\u001b[1;33m \u001b[0mviscVariable\u001b[0m\u001b[1;33m.\u001b[0m\u001b[0mdata\u001b[0m\u001b[1;33m[\u001b[0m\u001b[1;33m:\u001b[0m\u001b[1;33m]\u001b[0m \u001b[1;33m=\u001b[0m \u001b[0mviscosityMapFn\u001b[0m\u001b[1;33m.\u001b[0m\u001b[0mevaluate\u001b[0m\u001b[1;33m(\u001b[0m\u001b[0mgSwarm\u001b[0m\u001b[1;33m)\u001b[0m\u001b[1;33m\u001b[0m\u001b[0m\n\u001b[0m",
      "\u001b[1;32m/root/underworld2/underworld/function/_function.py\u001b[0m in \u001b[0;36mevaluate\u001b[1;34m(self, inputData, inputType)\u001b[0m\n\u001b[0;32m    594\u001b[0m             \u001b[1;32mif\u001b[0m \u001b[0minputType\u001b[0m \u001b[1;33m!=\u001b[0m \u001b[0mNone\u001b[0m\u001b[1;33m:\u001b[0m\u001b[1;33m\u001b[0m\u001b[0m\n\u001b[0;32m    595\u001b[0m                 \u001b[1;32mraise\u001b[0m \u001b[0mValueError\u001b[0m\u001b[1;33m(\u001b[0m\u001b[1;34m\"'inputType' specification not supported for this input class.\"\u001b[0m\u001b[1;33m)\u001b[0m\u001b[1;33m\u001b[0m\u001b[0m\n\u001b[1;32m--> 596\u001b[1;33m             \u001b[1;32mreturn\u001b[0m \u001b[0m_cfn\u001b[0m\u001b[1;33m.\u001b[0m\u001b[0mQuery\u001b[0m\u001b[1;33m(\u001b[0m\u001b[0mself\u001b[0m\u001b[1;33m.\u001b[0m\u001b[0m_fncself\u001b[0m\u001b[1;33m)\u001b[0m\u001b[1;33m.\u001b[0m\u001b[0mquery\u001b[0m\u001b[1;33m(\u001b[0m\u001b[0minputData\u001b[0m\u001b[1;33m.\u001b[0m\u001b[0m_get_iterator\u001b[0m\u001b[1;33m(\u001b[0m\u001b[1;33m)\u001b[0m\u001b[1;33m)\u001b[0m\u001b[1;33m\u001b[0m\u001b[0m\n\u001b[0m\u001b[0;32m    597\u001b[0m         \u001b[1;32melif\u001b[0m \u001b[0misinstance\u001b[0m\u001b[1;33m(\u001b[0m\u001b[0minputData\u001b[0m\u001b[1;33m,\u001b[0m \u001b[0mnp\u001b[0m\u001b[1;33m.\u001b[0m\u001b[0mndarray\u001b[0m\u001b[1;33m)\u001b[0m\u001b[1;33m:\u001b[0m\u001b[1;33m\u001b[0m\u001b[0m\n\u001b[0;32m    598\u001b[0m             \u001b[1;32mif\u001b[0m \u001b[0minputType\u001b[0m \u001b[1;33m!=\u001b[0m \u001b[0mNone\u001b[0m\u001b[1;33m:\u001b[0m\u001b[1;33m\u001b[0m\u001b[0m\n",
      "\u001b[1;31mRuntimeError\u001b[0m: Function input dimensionality (2) does not appear to match mesh variable dimensionality (105)."
     ]
    }
   ],
   "source": [
    "viscVariable = gSwarm.add_variable( dataType=\"float\", count=1 )\n",
    "viscVariable.data[:] = viscosityMapFn.evaluate(gSwarm)"
   ]
  }
 ],
 "metadata": {
  "kernelspec": {
   "display_name": "Python 2",
   "language": "python",
   "name": "python2"
  },
  "language_info": {
   "codemirror_mode": {
    "name": "ipython",
    "version": 2
   },
   "file_extension": ".py",
   "mimetype": "text/x-python",
   "name": "python",
   "nbconvert_exporter": "python",
   "pygments_lexer": "ipython2",
   "version": "2.7.9"
  },
  "widgets": {
   "state": {},
   "version": "1.1.2"
  }
 },
 "nbformat": 4,
 "nbformat_minor": 0
}
