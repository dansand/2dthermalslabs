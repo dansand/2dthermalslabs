{
 "cells": [
  {
   "cell_type": "markdown",
   "metadata": {},
   "source": [
    "## composite, non-linear rheology:\n",
    "\n",
    "\n",
    "The viscous rheology in this model is similar to the Čížková and Bina paper cited below. Other parts of the model setup are similar to Arredondo and Billen (2016) and Korenaga (2011). \n",
    "\n",
    "Here we use a dimensionless system. For the psuedo-plastic effective rheology a Drucker-prager model is used.\n",
    "\n",
    "\n",
    "**Keywords:** thermal covection, dislocation creep\n",
    "\n",
    "\n",
    "**References**\n",
    "\n",
    "Čížková, Hana, and Craig R. Bina. \"Geodynamics of trench advance: Insights from a Philippine-Sea-style geometry.\" Earth and Planetary Science Letters 430 (2015): 408-415.\n",
    "\n",
    "Arredondo, Katrina M., and Magali I. Billen. \"The Effects of Phase Transitions and Compositional Layering in Two-dimensional Kinematic Models of Subduction.\" Journal of Geodynamics (2016).\n",
    "\n",
    "Korenaga, Jun. \"Scaling of plate tectonic convection with pseudoplastic rheology.\" Journal of Geophysical Research: Solid Earth 115.B11 (2010)."
   ]
  },
  {
   "cell_type": "code",
   "execution_count": 60,
   "metadata": {
    "collapsed": false
   },
   "outputs": [],
   "source": [
    "import numpy as np\n",
    "import underworld as uw\n",
    "import math\n",
    "from underworld import function as fn\n",
    "import glucifer\n",
    "\n",
    "import os\n",
    "import sys\n",
    "import natsort\n",
    "import shutil\n",
    "from easydict import EasyDict as edict\n",
    "import operator\n",
    "import pint\n",
    "import time\n",
    "import operator\n",
    "from slippy2 import boundary_layer2d\n",
    "from slippy2 import material_graph\n",
    "from slippy2 import spmesh\n",
    "\n",
    "from mpi4py import MPI\n",
    "comm = MPI.COMM_WORLD\n",
    "rank = comm.Get_rank()"
   ]
  },
  {
   "cell_type": "markdown",
   "metadata": {},
   "source": [
    "Model name and directories\n",
    "-----"
   ]
  },
  {
   "cell_type": "code",
   "execution_count": 61,
   "metadata": {
    "collapsed": true
   },
   "outputs": [],
   "source": [
    "############\n",
    "#Model name.  \n",
    "############\n",
    "Model = \"T\"\n",
    "ModNum = 0\n",
    "\n",
    "if len(sys.argv) == 1:\n",
    "    ModIt = \"Base\"\n",
    "elif sys.argv[1] == '-f':\n",
    "    ModIt = \"Base\"\n",
    "else:\n",
    "    ModIt = str(sys.argv[1])"
   ]
  },
  {
   "cell_type": "code",
   "execution_count": 62,
   "metadata": {
    "collapsed": false
   },
   "outputs": [],
   "source": [
    "###########\n",
    "#Standard output directory setup\n",
    "###########\n",
    "\n",
    "\n",
    "outputPath = \"results\" + \"/\" +  str(Model) + \"/\" + str(ModNum) + \"/\" + str(ModIt) + \"/\"\n",
    "imagePath = outputPath + 'images/'\n",
    "filePath = outputPath + 'files/'\n",
    "checkpointPath = outputPath + 'checkpoint/'\n",
    "dbPath = outputPath + 'gldbs/'\n",
    "outputFile = 'results_model' + Model + '_' + str(ModNum) + '_' + str(ModIt) + '.dat'\n",
    "\n",
    "if uw.rank()==0:\n",
    "    # make directories if they don't exist\n",
    "    if not os.path.isdir(outputPath):\n",
    "        os.makedirs(outputPath)\n",
    "    if not os.path.isdir(checkpointPath):\n",
    "        os.makedirs(checkpointPath)\n",
    "    if not os.path.isdir(imagePath):\n",
    "        os.makedirs(imagePath)\n",
    "    if not os.path.isdir(dbPath):\n",
    "        os.makedirs(dbPath)\n",
    "    if not os.path.isdir(filePath):\n",
    "        os.makedirs(filePath)\n",
    "        \n",
    "comm.Barrier() #Barrier here so no procs run the check in the next cell too early"
   ]
  },
  {
   "cell_type": "code",
   "execution_count": 63,
   "metadata": {
    "collapsed": false
   },
   "outputs": [
    {
     "name": "stdout",
     "output_type": "stream",
     "text": [
      "results/T/0/Base/checkpoint/ is empty\n"
     ]
    }
   ],
   "source": [
    "###########\n",
    "#Check if starting from checkpoint\n",
    "###########\n",
    "\n",
    "checkdirs = []\n",
    "for dirpath, dirnames, files in os.walk(checkpointPath):\n",
    "    if files:\n",
    "        print dirpath, 'has files'\n",
    "        checkpointLoad = True\n",
    "        checkdirs.append(dirpath)\n",
    "    if not files:\n",
    "        print dirpath, 'is empty'\n",
    "        checkpointLoad = False"
   ]
  },
  {
   "cell_type": "markdown",
   "metadata": {},
   "source": [
    "Setup parameters\n",
    "-----\n",
    "\n",
    "Set simulation parameters for test."
   ]
  },
  {
   "cell_type": "markdown",
   "metadata": {},
   "source": [
    "**Use pint to setup any unit conversions we'll need**"
   ]
  },
  {
   "cell_type": "code",
   "execution_count": 64,
   "metadata": {
    "collapsed": false
   },
   "outputs": [
    {
     "data": {
      "text/html": [
       "10000.0 meter/megayear"
      ],
      "text/latex": [
       "$10000.0 \\frac{meter}{megayear}$"
      ],
      "text/plain": [
       "<Quantity(10000.0, 'meter / megayear')>"
      ]
     },
     "execution_count": 64,
     "metadata": {},
     "output_type": "execute_result"
    }
   ],
   "source": [
    "u = pint.UnitRegistry()\n",
    "cmpery = 1.*u.cm/u.year\n",
    "mpermy = 1.*u.m/u.megayear\n",
    "\n",
    "cmpery.to(mpermy)"
   ]
  },
  {
   "cell_type": "markdown",
   "metadata": {},
   "source": [
    "**Set parameter dictionaries**"
   ]
  },
  {
   "cell_type": "code",
   "execution_count": 65,
   "metadata": {
    "collapsed": false
   },
   "outputs": [
    {
     "name": "stdout",
     "output_type": "stream",
     "text": [
      "(0.04, 1.2675505856327397e-11)\n"
     ]
    }
   ],
   "source": [
    "box_half_width =4000e3\n",
    "age_at_trench = 100e6\n",
    "cmperyear = box_half_width / age_at_trench #m/y\n",
    "mpersec = cmperyear*(cmpery.to(u.m/u.second)).magnitude #m/sec\n",
    "print(cmperyear, mpersec )"
   ]
  },
  {
   "cell_type": "code",
   "execution_count": 66,
   "metadata": {
    "collapsed": false
   },
   "outputs": [],
   "source": [
    "###########\n",
    "#Store the physical paramters, scale factors and dimensionless pramters in easyDicts\n",
    "#Mainly helps with avoiding overwriting variables\n",
    "###########\n",
    "\n",
    "dp = edict({#'LS':2900.*1e3,\n",
    "            'LS':2000.*1e3,\n",
    "           'rho':3300,\n",
    "           'g':9.8, \n",
    "           'eta0':4e20, #Dislocation creep at 250 km, 1573 K, 1e-15 s-1 \n",
    "           'k':1e-6,\n",
    "           'a':3e-5, #surface thermal expansivity\n",
    "           'TP':1573., #potential temp\n",
    "           'TS':273., #surface temp\n",
    "           'cohesion':1e7, #\n",
    "           'fc':0.05,   \n",
    "           'Adf':1e-9,\n",
    "           'Ads':3.1e-17,\n",
    "           'Edf':3.35e5,\n",
    "           'Eds':4.8e5,\n",
    "           'Vdf':4e-6,\n",
    "           'Vds':11e-6,\n",
    "           'Alm':1.3e-16,\n",
    "           'Elm':2.0e5,\n",
    "           'Vlm':1.1e-6,\n",
    "           'Ba':4.3e-12,  #A value to simulate pressure increase with depth\n",
    "           'SR':1e-15,\n",
    "           'Dr':250e3, #Reference depth\n",
    "           'R':8.314,\n",
    "           'Cp':1250., #Jkg-1K-1\n",
    "           'StALS':100e3,\n",
    "           'plate_vel':4})\n",
    "\n",
    "#Adibatic heating stuff\n",
    "dp.dTa = (dp.a*dp.g*(dp.TP))/dp.Cp #adibatic gradient, at Tp\n",
    "dp.deltaTa = (dp.TP + dp.dTa*dp.LS) - dp.TS  #Adiabatic Temp at base of mantle, minus Ts\n",
    "dp.deltaT = dp.deltaTa\n",
    "\n",
    "\n",
    "\n",
    "#scale_factors\n",
    "\n",
    "sf = edict({'stress':dp.LS**2/(dp.k*dp.eta0),\n",
    "            'lith_grad':dp.rho*dp.g*(dp.LS)**3/(dp.eta0*dp.k) ,\n",
    "            'vel':dp.LS/dp.k,\n",
    "            'SR':dp.LS**2/dp.k,\n",
    "            'W':(-1./dp.Ba)*(np.log(1.-dp.rho*dp.g*dp.Ba*dp.LS))/(dp.R*dp.deltaTa), #Including adiabatic compression, and deltaTa\n",
    "            'E': 1./(dp.R*dp.deltaTa), #using deltaTa, the guesstimated adiabatic temp differnnce to scale these paramters\n",
    "            #'Ads':(dp.eta0**(ndp.n-2))*((dp.k)**(ndp.n-1))*((dp.LS)**(2. - 2*ndp.n))       \n",
    "           })\n",
    "\n",
    "#dimensionless parameters\n",
    "\n",
    "ndp = edict({'RA':(dp.g*dp.rho*dp.a*dp.deltaT*(dp.LS)**3)/(dp.k*dp.eta0),\n",
    "            'cohesion':dp.cohesion*sf.stress,\n",
    "            'fcd':dp.fc*sf.lith_grad,\n",
    "            'gamma':dp.fc/(dp.a*dp.deltaT),\n",
    "            'Wdf':dp.Vdf*sf.W,\n",
    "            'Edf':dp.Edf*sf.E,\n",
    "            'Wds':dp.Vds*sf.W,\n",
    "            'Eds':dp.Eds*sf.E,\n",
    "            'Elm':dp.Elm*sf.E,\n",
    "           'Wlm':dp.Vlm*sf.W,\n",
    "            'TSP':0., \n",
    "            'TBP':1.,\n",
    "            'TPP':(dp.TP - dp.TS)/dp.deltaT,\n",
    "            'Dr':dp.Dr/dp.LS,\n",
    "            'n':3.5,\n",
    "            'TS':dp.TS/dp.deltaT,\n",
    "            'TP':dp.TP/dp.deltaT,\n",
    "             #'eta_crust':1e21/dp.eta0,\n",
    "             'eta_crust':0.06,\n",
    "            'eta_min':1e-3,\n",
    "            'eta_max':1e5,\n",
    "            'H':0.,\n",
    "            'Tmvp':0.6,\n",
    "             'Di': dp.a*dp.g*dp.LS/dp.Cp, #Dissipation number\n",
    "            'Steta0':1e2,\n",
    "            'plate_vel':sf.vel*dp.plate_vel*(cmpery.to(u.m/u.second)).magnitude,})\n",
    "\n",
    "\n",
    "\n",
    "#Make some further additions to paramter dictionaries\n",
    "\n",
    "#dp.VR = (0.1*(dp.k/dp.LS)*ndp.RA**(2/3.)) #characteristic velocity from a scaling relationship\n",
    "#dp.SR = dp.VR/dp.LS #characteristic strain rate\n",
    "#ndp.VR = dp.VR*sf.vel #characteristic velocity\n",
    "#ndp.SR = dp.SR*sf.SR #characteristic strain rate\n",
    "\n",
    "dp.SR = 1e-15\n",
    "ndp.SR = dp.SR*sf.SR #characteristic strain rate\n",
    "\n",
    "ndp.StRA = (3300.*dp.g*(dp.LS)**3)/(dp.eta0 *dp.k) #Composisitional Rayleigh number for rock-air buoyancy force\n",
    "ndp.TaP = 1. - ndp.TPP,  #Dimensionles adiabtic component of delta t"
   ]
  },
  {
   "cell_type": "code",
   "execution_count": 67,
   "metadata": {
    "collapsed": false
   },
   "outputs": [
    {
     "data": {
      "text/plain": [
       "(11614.637497943615, 2535.1011712654795)"
      ]
     },
     "execution_count": 67,
     "metadata": {},
     "output_type": "execute_result"
    }
   ],
   "source": [
    "dp.CVR = (0.1*(dp.k/dp.LS)*ndp.RA**(2/3.))\n",
    "ndp.CVR = dp.CVR*sf.vel #characteristic velocity\n",
    "ndp.CVR, ndp.plate_vel "
   ]
  },
  {
   "cell_type": "code",
   "execution_count": 68,
   "metadata": {
    "collapsed": false
   },
   "outputs": [],
   "source": [
    "###########\n",
    "#A few parameters defining lengths scales, affects materal transistions etc.\n",
    "###########\n",
    "\n",
    "MANTLETOCRUST = (12.*1e3)/dp.LS #Crust depth\n",
    "HARZBURGDEPTH = MANTLETOCRUST + (27.7e3/dp.LS)\n",
    "CRUSTTOMANTLE = (200.*1e3)/dp.LS\n",
    "LITHTOMANTLE = (900.*1e3)/dp.LS \n",
    "MANTLETOLITH = (200.*1e3)/dp.LS \n",
    "TOPOHEIGHT = (10.*1e3)/dp.LS  #rock-air topography limits\n",
    "CRUSTTOECL  = (100.*1e3)/dp.LS\n",
    "AVGTEMP = ndp.TPP #Used to define lithosphere\n",
    "LOWERMANTLE = (1000.*1e3)/dp.LS \n"
   ]
  },
  {
   "cell_type": "markdown",
   "metadata": {},
   "source": [
    "**Model setup parameters**"
   ]
  },
  {
   "cell_type": "code",
   "execution_count": 69,
   "metadata": {
    "collapsed": false
   },
   "outputs": [],
   "source": [
    "###########\n",
    "#Model setup parameters\n",
    "###########\n",
    "\n",
    "refineMesh = True\n",
    "stickyAir = False \n",
    "lower_mantle = False \n",
    "melt_viscosity_reduction= False\n",
    "symmetric_IC = False\n",
    "VelBC = False\n",
    "WeakZone = False\n",
    "aspectRatio = 4\n",
    "\n",
    "MINX = -1.*aspectRatio/2.\n",
    "MINY = 0.\n",
    "MAXX = 1.*aspectRatio/2.\n",
    "\n",
    "#MAXY = 1.035\n",
    "MAXY = 1.\n",
    "\n",
    "if MINX == 0.:\n",
    "    squareModel = True\n",
    "else: \n",
    "    squareModel = False\n",
    "    \n",
    "    \n",
    "dim = 2          # number of spatial dimensions\n",
    "\n",
    "\n",
    "#MESH STUFF\n",
    "\n",
    "RES = 128\n",
    "\n",
    "Xres = int(RES*aspectRatio)\n",
    "\n",
    "\n",
    "if stickyAir:\n",
    "    Yres = RES\n",
    "    MAXY = 1. + dp.StALS/dp.LS #150km\n",
    "    \n",
    "else:\n",
    "    Yres = RES\n",
    "    MAXY = 1.\n",
    "\n",
    "\n",
    "periodic = [True, False]\n",
    "elementType = \"Q1/dQ0\"\n",
    "#elementType =\"Q2/DPC1\"\n",
    "\n",
    "\n",
    "#System/Solver stuff\n",
    "\n",
    "PIC_integration=True\n",
    "ppc = 25\n",
    "\n",
    "#Output and safety stuff\n",
    "swarm_repop, swarm_update = 10, 10\n",
    "gldbs_output = 20\n",
    "checkpoint_every, files_output = 20, 20\n",
    "metric_output = 10\n",
    "sticky_air_temp = 5"
   ]
  },
  {
   "cell_type": "markdown",
   "metadata": {},
   "source": [
    "Create mesh and finite element variables\n",
    "------"
   ]
  },
  {
   "cell_type": "code",
   "execution_count": 70,
   "metadata": {
    "collapsed": false
   },
   "outputs": [],
   "source": [
    "mesh = uw.mesh.FeMesh_Cartesian( elementType = (elementType),\n",
    "                                 elementRes  = (Xres, Yres), \n",
    "                                 minCoord    = (MINX, MINY), \n",
    "                                 maxCoord    = (MAXX, MAXY), periodic=periodic)\n",
    "\n",
    "velocityField       = uw.mesh.MeshVariable( mesh=mesh,         nodeDofCount=2 )\n",
    "pressureField       = uw.mesh.MeshVariable( mesh=mesh.subMesh, nodeDofCount=1 )\n",
    "temperatureField    = uw.mesh.MeshVariable( mesh=mesh,         nodeDofCount=1 )\n",
    "temperatureDotField = uw.mesh.MeshVariable( mesh=mesh,         nodeDofCount=1 )"
   ]
  },
  {
   "cell_type": "code",
   "execution_count": 71,
   "metadata": {
    "collapsed": true
   },
   "outputs": [],
   "source": [
    "mesh.reset()"
   ]
  },
  {
   "cell_type": "code",
   "execution_count": 72,
   "metadata": {
    "collapsed": false
   },
   "outputs": [
    {
     "name": "stdout",
     "output_type": "stream",
     "text": [
      "Min\n",
      "(256, 0.012501562500000001, 4.200400000000001, -0.20040000000000086)\n",
      "('edges', 256)\n",
      "-- iteration 0 --\n",
      "| F( p_n ) |^2: 1.98165943146e-05\n",
      "| p_n+1 - p_n |^2: 1.36480086187\n",
      "-- iteration 1 --\n",
      "| F( p_n ) |^2: 3.58989730515e-30\n",
      "Min, Max element width: \n",
      "0.01250\n",
      "0.01875\n"
     ]
    }
   ],
   "source": [
    "\n",
    "#X-Axis\n",
    "\n",
    "if refineMesh:\n",
    "    mesh.reset()\n",
    "    axis = 0\n",
    "    origcoords = np.linspace(mesh.minCoord[axis], mesh.maxCoord[axis], mesh.elementRes[axis] + 1)\n",
    "    edge_rest_lengths = np.diff(origcoords)\n",
    "\n",
    "    deform_lengths = edge_rest_lengths.copy()\n",
    "    min_point =  (abs(mesh.maxCoord[axis]) - abs(mesh.minCoord[axis]))/2.\n",
    "    el_reduction = 0.8001\n",
    "    dx = mesh.maxCoord[axis] - min_point\n",
    "\n",
    "    deform_lengths = deform_lengths - \\\n",
    "                                    ((1.-el_reduction) *deform_lengths[0]) + \\\n",
    "                                    abs((origcoords[1:] - min_point))*((0.5*deform_lengths[0])/dx)\n",
    "\n",
    "    #print(edge_rest_lengths.shape, deform_lengths.shape)\n",
    "\n",
    "    spmesh.deform_1d(deform_lengths, mesh,axis = 'x',norm = 'Min', constraints = [])"
   ]
  },
  {
   "cell_type": "code",
   "execution_count": 73,
   "metadata": {
    "collapsed": false
   },
   "outputs": [],
   "source": [
    "axis = 1\n",
    "orgs = np.linspace(mesh.minCoord[axis], mesh.maxCoord[axis], mesh.elementRes[axis] + 1)\n",
    "\n",
    "value_to_constrain = 1.\n",
    "\n",
    "\n",
    "yconst = [(spmesh.find_closest(orgs, value_to_constrain), np.array([value_to_constrain,0]))]"
   ]
  },
  {
   "cell_type": "code",
   "execution_count": 74,
   "metadata": {
    "collapsed": false
   },
   "outputs": [
    {
     "name": "stdout",
     "output_type": "stream",
     "text": [
      "Min\n",
      "(64, 0.0093765624999999995, 0.84619375000000008, 0.62499047619047554)\n",
      "('edges', 64)\n",
      "-- iteration 0 --\n",
      "| F( p_n ) |^2: 8.05648611886e-05\n",
      "| p_n+1 - p_n |^2: 0.352079185376\n",
      "-- iteration 1 --\n",
      "| F( p_n ) |^2: 3.12512226132e-31\n",
      "Min, Max element width: \n",
      "0.00938\n",
      "0.02187\n"
     ]
    }
   ],
   "source": [
    "###########\n",
    "#Mesh refinement\n",
    "###########\n",
    "\n",
    "if refineMesh:\n",
    "    #Y-Axis\n",
    "    axis = 1\n",
    "    origcoords = np.linspace(mesh.minCoord[axis], mesh.maxCoord[axis], mesh.elementRes[axis] + 1)\n",
    "    edge_rest_lengths = np.diff(origcoords)\n",
    "\n",
    "    deform_lengths = edge_rest_lengths.copy()\n",
    "    min_point =  (mesh.maxCoord[axis])\n",
    "    el_reduction = 0.6001\n",
    "    dx = mesh.maxCoord[axis]\n",
    "\n",
    "    deform_lengths = deform_lengths - \\\n",
    "                                    ((1.-el_reduction)*deform_lengths[0]) + \\\n",
    "                                    abs((origcoords[1:] - min_point))*((0.5*deform_lengths[0])/dx)\n",
    "\n",
    "    #print(edge_rest_lengths.shape, deform_lengths.shape)\n",
    "\n",
    "    spmesh.deform_1d(deform_lengths, mesh,axis = 'y',norm = 'Min', constraints = yconst)"
   ]
  },
  {
   "cell_type": "markdown",
   "metadata": {},
   "source": [
    "Initial conditions\n",
    "-------\n"
   ]
  },
  {
   "cell_type": "code",
   "execution_count": 75,
   "metadata": {
    "collapsed": false
   },
   "outputs": [],
   "source": [
    "coordinate = fn.input()\n",
    "depthFn = 1. - coordinate[1] #a function providing the depth\n",
    "xFn = coordinate[0]  #a function providing the x-coordinate\n",
    "\n",
    "potTempFn = ndp.TPP + (depthFn)*ndp.TaP #a function providing the adiabatic temp at any depth\n",
    "abHeatFn = -1.*velocityField[1]*temperatureField*ndp.Di #a function providing the adiabatic heating rate"
   ]
  },
  {
   "cell_type": "code",
   "execution_count": null,
   "metadata": {
    "collapsed": false
   },
   "outputs": [],
   "source": []
  },
  {
   "cell_type": "code",
   "execution_count": 76,
   "metadata": {
    "collapsed": false
   },
   "outputs": [],
   "source": [
    "###########\n",
    "#Thermal initial condition:\n",
    "#if symmetric_IC, we build a symmetric downwelling on top of a sinusoidal perturbation\n",
    "##########\n",
    "\n",
    "#Sinusoidal initial condition\n",
    "A = 0.2\n",
    "sinFn = depthFn + A*(fn.math.cos( math.pi * coordinate[0])  * fn.math.sin( math.pi * coordinate[1] ))        \n",
    "iD = 1000e3/dp.LS #Initial Slab depth\n",
    "dl =  2*math.sqrt(dp.k*160e6*3600*24*365) #diffusion Length at ... My\n",
    "w0 = dl/dp.LS #Boundary layer/slab initial condition\n",
    "delX1 = fn.misc.min(fn.math.abs(coordinate[0] - -0.), fn.math.abs(coordinate[0] - -2.))\n",
    "delX = fn.misc.min(delX1 , fn.math.abs(coordinate[0] - 2.))\n",
    "w = w0*fn.math.sqrt(delX + 1e-7)\n",
    "tempBL = (potTempFn) *fn.math.erf((depthFn)/w) + ndp.TSP\n",
    "delX = fn.misc.min(fn.math.abs(coordinate[0] - - 1.) , fn.math.abs(coordinate[0] - 1.))\n",
    "tempSlab = (potTempFn ) *fn.math.erf((delX*2.)/w0) + ndp.TSP       \n",
    "tempFn1 =  fn.misc.min(tempBL, tempSlab)\n",
    "blFn = fn.branching.conditional([(depthFn < iD, tempFn1), \n",
    "                                    (True, potTempFn)])\n",
    "\n",
    "tempFn = 0.*sinFn + 1.*blFn #partition the temp between these the symmetric downwelling and sinusoid\n",
    "if symmetric_IC:  \n",
    "    if not checkpointLoad:\n",
    "        temperatureField.data[:] = tempFn.evaluate(mesh)  "
   ]
  },
  {
   "cell_type": "code",
   "execution_count": 77,
   "metadata": {
    "collapsed": false
   },
   "outputs": [],
   "source": [
    "###########\n",
    "#Thermal initial condition 2: \n",
    "#if symmetric_IC == False, we build an asymmetric subduction-zone\n",
    "###########\n",
    "\n",
    "#Main control paramters are:\n",
    "\n",
    "Roc = 550e3 #radius of curvature of slab\n",
    "theta = 89. #Angle to truncate the slab (can also do with with a cutoff depth)\n",
    "subzone = 0.0 #X position of subduction zone...in model coordinates\n",
    "#slabmaxAge = 160e6 #age of subduction plate at trench\n",
    "slabmaxAge = 100e6 #age of subduction plate at trench\n",
    "platemaxAge = 80e6 #max age of slab (Plate model)\n",
    "ageAtTrenchSeconds = min(platemaxAge*(3600*24*365), slabmaxAge*(3600*24*365))\n",
    "\n",
    "\n",
    "sense = 'Right' #dip direction\n",
    "op_age_fac = 1. #this controls the overidding plate speed, hence age reduction\n",
    "\n",
    "\n",
    "#First build the top TBL\n",
    "#Create functions between zero and one, to control age distribution\n",
    "ageFn1 = fn.misc.max(0., (1. - 1.1*fn.math.abs(xFn)/(aspectRatio/2.) ))\n",
    "ageFn  = fn.branching.conditional([(coordinate[0] <= 0, ageFn1),\n",
    "                                  (True, ageFn1/op_age_fac)])\n",
    "\n",
    "#dimensionlize the age function\n",
    "ageFn *= slabmaxAge*(3600*24*365)\n",
    "#ageFn = fn.misc.min(ageFn, platemaxAge*(3600*24*365)) #apply plate model\n",
    "\n",
    "w0 = (2.*math.sqrt(dp.k*ageAtTrenchSeconds))/dp.LS #diffusion depth of plate at the trench\n",
    "\n",
    "tempBL = (potTempFn) *fn.math.erf((depthFn*dp.LS)/(2.*fn.math.sqrt(dp.k*ageFn))) + ndp.TSP #boundary layer function\n",
    "if not symmetric_IC:\n",
    "    if not checkpointLoad:\n",
    "        out = uw.utils.MeshVariable_Projection( temperatureField, tempBL) #apply function with projection\n",
    "        out.solve()\n",
    "    \n",
    "        \n",
    "#Now build the perturbation part\n",
    "def inCircleFnGenerator(centre, radius):\n",
    "    coord = fn.input()\n",
    "    offsetFn = coord - centre\n",
    "    return fn.math.dot( offsetFn, offsetFn ) < radius**2\n",
    "\n",
    "#Setup slab perturbation params (mostly dimensionlesl / model params here)\n",
    "phi = 90. - theta\n",
    "RocM = (Roc/dp.LS)\n",
    "CrustM = MANTLETOCRUST\n",
    "Org = (subzone, 1.-RocM)\n",
    "maxDepth = 250e3/dp.LS\n",
    "\n",
    "#We use three circles to define our slab and crust perturbation,  \n",
    "Oc = inCircleFnGenerator(Org , RocM)\n",
    "Ic = inCircleFnGenerator(Org , RocM - w0)\n",
    "Cc = inCircleFnGenerator(Org , RocM - (2.*CrustM)) #Twice as wide as ordinary crust, weak zone on 'outside' of slab\n",
    "dx = (RocM)/(np.math.tan((np.math.pi/180.)*phi))\n",
    "\n",
    "\n",
    "#We'll also create a triangle which will truncate the circles defining the slab...\n",
    "if sense == 'Left': \n",
    "    ptx = subzone - dx\n",
    "else:\n",
    "    ptx = subzone + dx\n",
    "coords = ((0.+subzone, 1), (0.+subzone, 1.-RocM), (ptx, 1.))\n",
    "Tri = fn.shape.Polygon(np.array(coords))\n",
    "\n",
    "#Actually apply the perturbation\n",
    "if not symmetric_IC:\n",
    "    if not checkpointLoad:\n",
    "        sdFn = ((RocM - fn.math.sqrt((coordinate[0] - Org[0])**2. + (coordinate[1] - Org[1])**2.))) \n",
    "        slabFn = ndp.TPP*fn.math.erf((sdFn*dp.LS)/(2.*math.sqrt(dp.k*ageAtTrenchSeconds))) + ndp.TSP\n",
    "        for index, coord in enumerate(mesh.data):\n",
    "            if (\n",
    "                Oc.evaluate(tuple(coord)) and\n",
    "                Tri.evaluate(tuple(coord)) and not\n",
    "                Ic.evaluate(tuple(coord)) and\n",
    "                coord[1] > (1. - maxDepth)\n",
    "                ): #In the quarter-circle defining the lithosphere\n",
    "                temperatureField.data[index] = slabFn.evaluate(mesh)[index]"
   ]
  },
  {
   "cell_type": "code",
   "execution_count": 78,
   "metadata": {
    "collapsed": false
   },
   "outputs": [
    {
     "data": {
      "text/plain": [
       "0.125"
      ]
     },
     "execution_count": 78,
     "metadata": {},
     "output_type": "execute_result"
    }
   ],
   "source": [
    "maxDepth"
   ]
  },
  {
   "cell_type": "code",
   "execution_count": 79,
   "metadata": {
    "collapsed": false
   },
   "outputs": [],
   "source": [
    "#Make sure material in sticky air region is at the surface temperature.\n",
    "for index, coord in enumerate(mesh.data):\n",
    "            if coord[1] >= 1.:\n",
    "                temperatureField.data[index] = ndp.TSP"
   ]
  },
  {
   "cell_type": "code",
   "execution_count": 80,
   "metadata": {
    "collapsed": false
   },
   "outputs": [],
   "source": [
    "#fn.math.erf((sdFn*dp.LS)/(2.*fn.math.sqrt(dp.k*(slabmaxAge*(3600*24*365))))) "
   ]
  },
  {
   "cell_type": "code",
   "execution_count": null,
   "metadata": {
    "collapsed": false
   },
   "outputs": [],
   "source": []
  },
  {
   "cell_type": "code",
   "execution_count": 81,
   "metadata": {
    "collapsed": false,
    "scrolled": true
   },
   "outputs": [
    {
     "data": {
      "text/html": [
       "<img src='data:image/png;base64,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'>"
      ],
      "text/plain": [
       "<IPython.core.display.HTML object>"
      ]
     },
     "metadata": {},
     "output_type": "display_data"
    }
   ],
   "source": [
    "fig= glucifer.Figure()\n",
    "fig.append( glucifer.objects.Surface(mesh, temperatureField))\n",
    "\n",
    "#fig.append(glucifer.objects.Mesh(mesh))\n",
    "#fig.save_database('test.gldb')\n",
    "\n",
    "#fig.show()"
   ]
  },
  {
   "cell_type": "markdown",
   "metadata": {},
   "source": [
    "Boundary conditions\n",
    "-------"
   ]
  },
  {
   "cell_type": "code",
   "execution_count": null,
   "metadata": {
    "collapsed": true
   },
   "outputs": [],
   "source": []
  },
  {
   "cell_type": "code",
   "execution_count": 82,
   "metadata": {
    "collapsed": false
   },
   "outputs": [
    {
     "name": "stdout",
     "output_type": "stream",
     "text": [
      "4\n"
     ]
    }
   ],
   "source": [
    "for index in mesh.specialSets[\"MinJ_VertexSet\"]:\n",
    "    temperatureField.data[index] = ndp.TBP\n",
    "for index in mesh.specialSets[\"MaxJ_VertexSet\"]:\n",
    "    temperatureField.data[index] = ndp.TSP\n",
    "    \n",
    "iWalls = mesh.specialSets[\"MinI_VertexSet\"] + mesh.specialSets[\"MaxI_VertexSet\"]\n",
    "jWalls = mesh.specialSets[\"MinJ_VertexSet\"] + mesh.specialSets[\"MaxJ_VertexSet\"]\n",
    "tWalls = mesh.specialSets[\"MaxJ_VertexSet\"]\n",
    "bWalls =mesh.specialSets[\"MinJ_VertexSet\"]\n",
    "\n",
    "VelBCs = mesh.specialSets[\"Empty\"]\n",
    "\n",
    "\n",
    "\n",
    "if VelBC:\n",
    "    for index in list(tWalls.data):\n",
    "        if (mesh.data[int(index)][0] < (subzone - 0.2) and mesh.data[int(index)][0] > mesh.minCoord[0] + 0.05*aspectRatio): #Only push with a portion of teh overiding plate\n",
    "            VelBCs.add(int(index))\n",
    "            #Set the plate velocities for the kinematic phase\n",
    "            velocityField.data[index] = [ndp.plate_vel, 0.]\n",
    "        elif (mesh.data[int(index)][0] > (subzone + 0.2) and mesh.data[int(index)][0] < mesh.minCoord[0] - 0.05*aspectRatio):\n",
    "            VelBCs.add(int(index))\n",
    "            #Set the plate velocities for the kinematic phase\n",
    "            velocityField.data[index] = [0., 0.]\n",
    "        \n",
    "\n",
    "#If periodic, we'll fix a the x-vel at a single node - at the bottom left (index 0)\n",
    "Fixed = mesh.specialSets[\"Empty\"]\n",
    "Fixed.add(int(0))        \n",
    "        \n",
    "\n",
    "if periodic[0] == False:\n",
    "    if VelBC:\n",
    "        print(1)\n",
    "        freeslipBC = uw.conditions.DirichletCondition( variable      = velocityField, \n",
    "                                               indexSetsPerDof = ( iWalls + VelBCs, jWalls) )\n",
    "    else:\n",
    "        print(2)\n",
    "        freeslipBC = uw.conditions.DirichletCondition( variable      = velocityField, \n",
    "                                               indexSetsPerDof = ( iWalls, jWalls) )\n",
    "\n",
    "\n",
    "\n",
    "\n",
    "\n",
    "\n",
    "if periodic[0] == True:\n",
    "    if VelBC:\n",
    "        print(3)\n",
    "        freeslipBC = uw.conditions.DirichletCondition( variable      = velocityField, \n",
    "                                               indexSetsPerDof = ( Fixed + VelBCs , jWalls) )\n",
    "    else:\n",
    "        print(4)\n",
    "        freeslipBC = uw.conditions.DirichletCondition( variable      = velocityField, \n",
    "                                               indexSetsPerDof = ( Fixed, jWalls) )\n",
    "        \n",
    "    \n",
    "    \n",
    "    \n",
    "# also set dirichlet for temp field\n",
    "dirichTempBC = uw.conditions.DirichletCondition(     variable=temperatureField, \n",
    "                                              indexSetsPerDof=(tWalls,) )\n",
    "dT_dy = [0.,0.]\n",
    "\n",
    "# also set dirichlet for temp field\n",
    "neumannTempBC = uw.conditions.NeumannCondition( dT_dy, variable=temperatureField, \n",
    "                                         nodeIndexSet=bWalls)\n",
    "\n"
   ]
  },
  {
   "cell_type": "code",
   "execution_count": 83,
   "metadata": {
    "collapsed": false
   },
   "outputs": [
    {
     "data": {
      "text/plain": [
       "2535.1011712654795"
      ]
     },
     "execution_count": 83,
     "metadata": {},
     "output_type": "execute_result"
    }
   ],
   "source": [
    "#periodic[0]\n",
    "ndp.plate_vel"
   ]
  },
  {
   "cell_type": "markdown",
   "metadata": {},
   "source": [
    "Swarm setup\n",
    "-----\n"
   ]
  },
  {
   "cell_type": "code",
   "execution_count": 84,
   "metadata": {
    "collapsed": false
   },
   "outputs": [],
   "source": [
    "###########\n",
    "#Material Swarm and variables\n",
    "###########\n",
    "\n",
    "#create material swarm\n",
    "gSwarm = uw.swarm.Swarm(mesh=mesh, particleEscape=True)\n",
    "\n",
    "#create swarm variables\n",
    "yieldingCheck = gSwarm.add_variable( dataType=\"int\", count=1 )\n",
    "tracerVariable = gSwarm.add_variable( dataType=\"int\", count=1)\n",
    "materialVariable = gSwarm.add_variable( dataType=\"int\", count=1 )\n",
    "ageVariable = gSwarm.add_variable( dataType=\"float\", count=1 )\n",
    "\n",
    "\n",
    "#these lists  are part of the checkpointing implementation\n",
    "varlist = [tracerVariable, tracerVariable, yieldingCheck]\n",
    "varlist = [materialVariable, yieldingCheck, ageVariable]\n",
    "varnames = ['materialVariable', 'yieldingCheck', 'ageVariable']"
   ]
  },
  {
   "cell_type": "code",
   "execution_count": 85,
   "metadata": {
    "collapsed": false
   },
   "outputs": [],
   "source": [
    "mantleIndex = 0\n",
    "crustIndex = 1\n",
    "harzIndex = 2\n",
    "airIndex = 3\n",
    "\n",
    "\n",
    "\n",
    "if checkpointLoad:\n",
    "    checkpointLoadDir = natsort.natsort(checkdirs)[-1]\n",
    "    temperatureField.load(os.path.join(checkpointLoadDir, \"temperatureField\" + \".hdf5\"))\n",
    "    pressureField.load(os.path.join(checkpointLoadDir, \"pressureField\" + \".hdf5\"))\n",
    "    velocityField.load(os.path.join(checkpointLoadDir, \"velocityField\" + \".hdf5\"))\n",
    "    gSwarm.load(os.path.join(checkpointLoadDir, \"swarm\" + \".h5\"))\n",
    "    for ix in range(len(varlist)):\n",
    "        varb = varlist[ix]\n",
    "        varb.load(os.path.join(checkpointLoadDir,varnames[ix] + \".h5\"))\n",
    "\n",
    "else:\n",
    "\n",
    "    # Layouts are used to populate the swarm across the whole domain\n",
    "    layout = uw.swarm.layouts.PerCellRandomLayout(swarm=gSwarm, particlesPerCell=ppc)\n",
    "    gSwarm.populate_using_layout( layout=layout ) # Now use it to populate.\n",
    "    # Swarm variables\n",
    "    materialVariable.data[:] = mantleIndex\n",
    "    tracerVariable.data[:] = 1\n",
    "    yieldingCheck.data[:] = 0\n",
    "    ageVariable.data[:] = -1\n",
    "\n",
    "    #Set initial air and crust materials (allow the graph to take care of lithsophere)\n",
    "    #########\n",
    "    #This initial material setup will be model dependent\n",
    "    #########\n",
    "    for particleID in range(gSwarm.particleCoordinates.data.shape[0]):\n",
    "        if (1. - gSwarm.particleCoordinates.data[particleID][1]) < MANTLETOCRUST:\n",
    "                 materialVariable.data[particleID] = crustIndex"
   ]
  },
  {
   "cell_type": "code",
   "execution_count": 86,
   "metadata": {
    "collapsed": false
   },
   "outputs": [],
   "source": [
    "###########\n",
    "#This block sets up a checkboard layout of passive tracers\n",
    "###########\n",
    "\n",
    "square_size = 0.1\n",
    "xlist = np.arange(mesh.minCoord[0] + square_size/2., mesh.maxCoord[0] + square_size/2., square_size)\n",
    "xlist = zip(xlist[:], xlist[1:])[::2]\n",
    "ylist = np.arange(mesh.minCoord[1] + square_size/2., mesh.maxCoord[1] + square_size/2., square_size)\n",
    "ylist = zip(ylist[:], ylist[1:])[::2]\n",
    "xops = []\n",
    "for vals in xlist:\n",
    "    xops.append( (operator.and_(   operator.gt(coordinate[0],vals[0]),   operator.lt(coordinate[0],vals[1])  ),0.) )\n",
    "xops.append((True,1.))\n",
    "\n",
    "testfunc = fn.branching.conditional(xops) \n",
    "\n",
    "yops = []\n",
    "for vals in ylist:\n",
    "    yops.append( (operator.and_(   operator.gt(coordinate[1],vals[0]),   operator.lt(coordinate[1],vals[1])  ),0.) )\n",
    "yops.append((True,testfunc))\n",
    "\n",
    "testfunc2 = fn.branching.conditional(yops) \n",
    "tracerVariable.data[:] = testfunc.evaluate(gSwarm)\n",
    "tracerVariable.data[:] = testfunc2.evaluate(gSwarm)"
   ]
  },
  {
   "cell_type": "code",
   "execution_count": 87,
   "metadata": {
    "collapsed": false
   },
   "outputs": [
    {
     "data": {
      "text/plain": [
       "array([  0.00000000e+00,   1.99999995e-05], dtype=float32)"
      ]
     },
     "execution_count": 87,
     "metadata": {},
     "output_type": "execute_result"
    }
   ],
   "source": [
    "#Set the inital particle age, for particles above the critical depth \n",
    "#(only these will be transformed to crust / harzburgite)\n",
    "\n",
    "ageVariable.data[:] = 0. #start with all zeor\n",
    "crustageCond = 1e-05 #set inital age above critical depth. (about 1.2 Ma.) Might have to be shorter than this - need to experiment\n",
    "ageDT = crustageCond + 1e-5 #initalize ages\n",
    "ageConditions = [ (depthFn < 100e3/dp.LS , ageDT),  \n",
    "                  (True, 0.) ]\n",
    "                 \n",
    "\n",
    "ageEval = fn.branching.conditional( ageConditions ).evaluate(gSwarm)\n",
    "ageVariable.data[np.where(ageEval == 0)] = 0 #If below the critical depth, age is set to zero\n",
    "ageVariable.data[np.where(ageEval != 0)] += ageDT #If age above critical depth, increment age\n",
    "\n",
    "np.unique(ageVariable.data)"
   ]
  },
  {
   "cell_type": "markdown",
   "metadata": {
    "collapsed": false
   },
   "source": [
    "Swarm control (material graph)\n",
    "-----\n",
    "\n"
   ]
  },
  {
   "cell_type": "code",
   "execution_count": null,
   "metadata": {
    "collapsed": false
   },
   "outputs": [],
   "source": [
    "\n"
   ]
  },
  {
   "cell_type": "code",
   "execution_count": 88,
   "metadata": {
    "collapsed": false
   },
   "outputs": [],
   "source": [
    "##############\n",
    "#Here we set up a directed graph object that we we use to control the transformation from one material type to another\n",
    "##############\n",
    "\n",
    "#All depth conditions are given as (km/D) where D is the length scale,\n",
    "#note that 'model depths' are used, e.g. 1-z, where z is the vertical Underworld coordinate\n",
    "#All temp conditions are in dimensionless temp. [0. - 1.]\n",
    "\n",
    "#This is a quick fix for a bug that arises in parallel runs\n",
    "material_list = [0,1,2,3]\n",
    "\n",
    "if not checkpointLoad:\n",
    "    materialVariable.data[:] = 0 #Initialize to zero \n",
    "\n",
    "#Setup the graph object\n",
    "DG = material_graph.MatGraph()\n",
    "\n",
    "#Important: First thing to do is to add all the material types to the graph (i.e add nodes)\n",
    "DG.add_nodes_from(material_list)\n",
    "\n",
    "#Now set the conditions for transformations\n",
    "\n",
    "#... to mantle\n",
    "DG.add_transition((crustIndex,mantleIndex), depthFn, operator.gt, CRUSTTOMANTLE)\n",
    "DG.add_transition((harzIndex,mantleIndex), depthFn, operator.gt, CRUSTTOMANTLE)\n",
    "#DG.add_transition((airIndex,mantleIndex), depthFn, operator.gt, TOPOHEIGHT)\n",
    "\n",
    "#... to crust\n",
    "DG.add_transition((mantleIndex,crustIndex), depthFn, operator.lt, MANTLETOCRUST)\n",
    "DG.add_transition((mantleIndex,crustIndex), xFn, operator.lt, 0.) #No crust on the upper plate\n",
    "DG.add_transition((mantleIndex,crustIndex), ageVariable, operator.gt, crustageCond)\n",
    "\n",
    "DG.add_transition((harzIndex,crustIndex), depthFn, operator.lt, MANTLETOCRUST)\n",
    "DG.add_transition((harzIndex,crustIndex), xFn, operator.lt, 0.) #This one sets no crust on the upper plate\n",
    "DG.add_transition((harzIndex,crustIndex), ageVariable, operator.gt, crustageCond)\n",
    "\n",
    "#... to Harzbugite\n",
    "DG.add_transition((mantleIndex,harzIndex), depthFn, operator.lt, HARZBURGDEPTH)\n",
    "DG.add_transition((mantleIndex,harzIndex), depthFn, operator.gt, MANTLETOCRUST)\n",
    "DG.add_transition((mantleIndex,harzIndex), ageVariable, operator.gt, crustageCond) #Note we can mix functions and swarm variabls\n",
    "\n",
    "#... to air\n",
    "#DG.add_transition((mantleIndex,airIndex), depthFn, operator.lt,0. - TOPOHEIGHT)\n",
    "#DG.add_transition((crustIndex,airIndex), depthFn, operator.lt, 0. - TOPOHEIGHT)\n",
    "\n"
   ]
  },
  {
   "cell_type": "code",
   "execution_count": 89,
   "metadata": {
    "collapsed": false
   },
   "outputs": [
    {
     "data": {
      "text/plain": [
       "(0.1, 0.01985)"
      ]
     },
     "execution_count": 89,
     "metadata": {},
     "output_type": "execute_result"
    }
   ],
   "source": [
    "CRUSTTOMANTLE, HARZBURGDEPTH"
   ]
  },
  {
   "cell_type": "code",
   "execution_count": 90,
   "metadata": {
    "collapsed": false
   },
   "outputs": [],
   "source": [
    "##############\n",
    "#For the slab_IC, we'll also add a crustal weak zone following the dipping perturbation\n",
    "##############\n",
    "\n",
    "if checkpointLoad != True:\n",
    "    if not symmetric_IC:\n",
    "        for particleID in range(gSwarm.particleCoordinates.data.shape[0]):\n",
    "            if (\n",
    "                Oc.evaluate(list(gSwarm.particleCoordinates.data[particleID])) and\n",
    "                Tri.evaluate(list(gSwarm.particleCoordinates.data[particleID])) and\n",
    "                Cc.evaluate(list(gSwarm.particleCoordinates.data[particleID])) == False\n",
    "                ):\n",
    "                materialVariable.data[particleID] = crustIndex"
   ]
  },
  {
   "cell_type": "code",
   "execution_count": 91,
   "metadata": {
    "collapsed": false
   },
   "outputs": [],
   "source": [
    "##############\n",
    "#This is how we use the material graph object to test / apply material transformations\n",
    "##############\n",
    "DG.build_condition_list(materialVariable)\n",
    "for i in range(3): #Need to go through a number of times\n",
    "    materialVariable.data[:] = fn.branching.conditional(DG.condition_list).evaluate(gSwarm)"
   ]
  },
  {
   "cell_type": "code",
   "execution_count": 92,
   "metadata": {
    "collapsed": false
   },
   "outputs": [],
   "source": [
    "#DG.build_condition_list(materialVariable)\n",
    "#materialVariable.data[:] = fn.branching.conditional(DG.condition_list).evaluate(gSwarm)"
   ]
  },
  {
   "cell_type": "markdown",
   "metadata": {
    "collapsed": false
   },
   "source": [
    "## Temp, phase and compositional buoyancy"
   ]
  },
  {
   "cell_type": "code",
   "execution_count": 93,
   "metadata": {
    "collapsed": true
   },
   "outputs": [],
   "source": [
    "##############\n",
    "#Put this in Slippy\n",
    "##############\n",
    "\n",
    "from easydict import EasyDict as edict\n",
    "class component_phases():\n",
    "    \"\"\"\n",
    "    Class that allows you to create 'phase functions' for a mineral component\n",
    "\n",
    "    \"\"\"\n",
    "    def __init__(self,name, depths,temps, widths,claps,densities):\n",
    "        \"\"\"\n",
    "        Class initialiser.\n",
    "        Parameter\n",
    "        ---------\n",
    "        name : str\n",
    "            'Component', e.g olivine, pyroxene-garnet\n",
    "        depths: list\n",
    "            list of transition depths in kilometers\n",
    "        widths: list \n",
    "            list of transition widths in kilometers\n",
    "        claps: list \n",
    "            list of Clapeyron slopes in Pa/K\n",
    "        densities: list\n",
    "            list of density changes in kg/m3\n",
    "        Returns\n",
    "        -------\n",
    "        mesh : dp\n",
    "        Dictionary storing the phase-transition vales\n",
    "\n",
    "        \"\"\"\n",
    "        if not isinstance(depths,list):\n",
    "            raise TypeError(\"depths object passed in must be of type 'list'\")\n",
    "        if not isinstance(temps,list):\n",
    "            raise TypeError(\"temps object passed in must be of type 'list'\")\n",
    "        if not isinstance(widths,list):\n",
    "            raise TypeError(\"widths object passed in must be of type 'list'\")\n",
    "        if not isinstance(claps,list):\n",
    "            raise TypeError(\"claps object passed in must be of type 'list'\")\n",
    "        if not isinstance(densities,list):\n",
    "            raise TypeError(\"densities object passed in must be of type 'list'\")\n",
    "        if not len(depths) == len(widths) == len(claps) == len(densities):\n",
    "            raise ValueError( \"All lists of phase values should be the same length\")\n",
    "        self.dp = edict({})\n",
    "        self.dp.name = name\n",
    "        self.dp.depths = depths\n",
    "        self.dp.temps = temps\n",
    "        self.dp.widths = widths\n",
    "        self.dp.claps = claps\n",
    "        self.dp.densities = densities\n",
    "        \n",
    "    def build_nd_dict(self, lengthscale, densityscale, gravityscale, tempscale):\n",
    "        self.ndp = edict({})\n",
    "        self.ndp.name = self.dp.name\n",
    "        self.ndp.depths = [i/lengthscale for i in self.dp.depths]\n",
    "        self.ndp.temps = [i/tempscale for i in self.dp.temps]\n",
    "        self.ndp.widths = [i/lengthscale for i in self.dp.widths]\n",
    "        self.ndp.claps = [(i*(tempscale/(densityscale*gravityscale*lengthscale))) for i in self.dp.claps]\n",
    "        \n",
    "    def nd_reduced_pressure(self, depthFn, temperatureField, depthPh, clapPh, tempPh):\n",
    "        \"\"\"\n",
    "        Creates an Underworld function, representing the 'reduced pressure'\n",
    "        \"\"\"\n",
    "        return (depthFn - depthPh) - clapPh*(temperatureField - tempPh)\n",
    "\n",
    "    def nd_phase(self, reduced_p, widthPh):\n",
    "        \"\"\"\n",
    "        Creates an Underworld function, representing the phase function in the domain\n",
    "        \"\"\"\n",
    "        return 0.5*(1. + fn.math.tanh(reduced_p/(widthPh)))\n",
    "    \n",
    "    def phase_function_sum(self, temperatureField, depthFn):\n",
    "        \"\"\"\n",
    "        Creates an Underworld function, representing the Sum of the individual phase functions:\n",
    "        -----------\n",
    "        temperatureField : underworld.mesh._meshvariable.MeshVariable\n",
    "        \n",
    "        ...need to put warning in about running build_nd_dict first \n",
    "        \"\"\"    \n",
    "        \n",
    "        pf_sum = uw.function.misc.constant(0.)\n",
    "        \n",
    "        for phaseId in range(len(self.dp['depths'])):\n",
    "            #build reduced pressure\n",
    "            rp = self.nd_reduced_pressure(depthFn, \n",
    "                                   temperatureField,\n",
    "                                   self.ndp['depths'][phaseId ],\n",
    "                                   self.ndp['claps'][phaseId ],\n",
    "                                   self.ndp['temps'][phaseId ])\n",
    "            #build phase function\n",
    "            pf = self.nd_phase(rp, self.ndp['widths'][phaseId ])\n",
    "            pf_sum += pf\n",
    "        \n",
    "        return pf_sum\n",
    "    \n",
    "    def buoyancy_sum(self, temperatureField, depthFn, gravityscale, lengthscale, diffusivityscale, viscosityscale):\n",
    "        \"\"\"\n",
    "        Creates an Underworld function, representing the Sum of the individual phase functions...\n",
    "        and the associated density changes:\n",
    "        \n",
    "        pf_sum = Sum_k{ (Ra*delRho_k*pf_k/rho_0*eta_0*delta_t)}\n",
    "        -----------\n",
    "        temperatureField : underworld.mesh._meshvariable.MeshVariable\n",
    "        \n",
    "        ...need to put warning in about running build_nd_dict first \n",
    "        \"\"\"\n",
    "        bouyancy_factor = (gravityscale*lengthscale**3)/(viscosityscale*diffusivityscale)\n",
    "        \n",
    "        pf_sum = uw.function.misc.constant(0.)\n",
    "        \n",
    "        for phaseId in range(len(self.dp['depths'])):\n",
    "            #build reduced pressure\n",
    "            rp = self.nd_reduced_pressure(depthFn, \n",
    "                                   temperatureField,\n",
    "                                   self.ndp['depths'][phaseId ],\n",
    "                                   self.ndp['claps'][phaseId ],\n",
    "                                   self.ndp['temps'][phaseId ])\n",
    "            #build phase function\n",
    "            pf = self.nd_phase(rp, self.ndp['widths'][phaseId ])\n",
    "            pf_sum += bouyancy_factor*pf*self.dp['densities'][phaseId ] #we want the dimensional densities here\n",
    "        \n",
    "        return pf_sum"
   ]
  },
  {
   "cell_type": "code",
   "execution_count": 94,
   "metadata": {
    "collapsed": false
   },
   "outputs": [],
   "source": [
    "##############\n",
    "#Set up phase buoyancy contributions\n",
    "##############\n",
    "\n",
    "\n",
    "#olivine\n",
    "olivinePhase = component_phases(name = 'ol', \n",
    "                        depths=[410e3,660e3],\n",
    "                        temps = [1600., 1900.], \n",
    "                        widths = [20e3, 20e3], \n",
    "                        claps=[2.e6, -2.5e6], \n",
    "                        densities = [180., 400.])\n",
    "\n",
    "olivinePhase.build_nd_dict(dp.LS, dp.rho, dp.g, dp.deltaTa)\n",
    "\n",
    "\n",
    "rp = olivinePhase.nd_reduced_pressure(depthFn, \n",
    "                                   temperatureField,\n",
    "                                   olivinePhase.ndp['depths'][0],\n",
    "                                   olivinePhase.ndp['claps'][0],\n",
    "                                   olivinePhase.ndp['temps'][0])\n",
    "\n",
    "#ph_410 = olivinePhase.nd_phase(rp, test.ndp['widths'][0])\n",
    "#pf_sum = test.phase_function_sum(temperatureField, depthFn)\n",
    "\n",
    "olivine_phase_buoyancy = olivinePhase.buoyancy_sum(temperatureField, depthFn, dp.g, dp.LS, dp.k, dp.eta0)\n",
    "\n",
    "#garnet\n",
    "garnetPhase = component_phases(name = 'grt', \n",
    "                        depths=[60e3,400e3, 720e3],\n",
    "                        temps = [1000., 1600., 1900.], \n",
    "                        widths = [20e3, 20e3, 20e3], \n",
    "                        claps=[0.e6, 1.e6, 1.e6], \n",
    "                        densities = [350., 150., 400.])\n",
    "\n",
    "garnetPhase.build_nd_dict(dp.LS, dp.rho, dp.g, dp.deltaTa)\n",
    "\n",
    "\n",
    "rp = garnetPhase.nd_reduced_pressure(depthFn, \n",
    "                                   temperatureField,\n",
    "                                   garnetPhase.ndp['depths'][0],\n",
    "                                   garnetPhase.ndp['claps'][0],\n",
    "                                   garnetPhase.ndp['temps'][0])\n",
    "\n",
    "#ph_410 = olivinePhase.nd_phase(rp, test.ndp['widths'][0])\n",
    "#pf_sum = test.phase_function_sum(temperatureField, depthFn)\n",
    "\n",
    "garnet_phase_buoyancy = garnetPhase.buoyancy_sum(temperatureField, depthFn, dp.g, dp.LS, dp.k, dp.eta0)"
   ]
  },
  {
   "cell_type": "code",
   "execution_count": 95,
   "metadata": {
    "collapsed": false
   },
   "outputs": [
    {
     "name": "stdout",
     "output_type": "stream",
     "text": [
      "(70560000.0, 12740000.0, 0.0)\n"
     ]
    }
   ],
   "source": [
    "##############\n",
    "#Set up compositional buoyancy contributions\n",
    "##############\n",
    "\n",
    "bouyancy_factor = (dp.g*dp.LS**3)/(dp.eta0*dp.k)\n",
    "\n",
    "basalt_comp_buoyancy  = (dp.rho - 2940.)*bouyancy_factor\n",
    "harz_comp_buoyancy = (dp.rho - 3235.)*bouyancy_factor\n",
    "pyrolite_comp_buoyancy = (dp.rho - 3300.)*bouyancy_factor\n",
    "\n",
    "print(basalt_comp_buoyancy, harz_comp_buoyancy, pyrolite_comp_buoyancy)"
   ]
  },
  {
   "cell_type": "code",
   "execution_count": 96,
   "metadata": {
    "collapsed": false
   },
   "outputs": [],
   "source": [
    "#this accounts for the decreas in expansivity\n",
    "alphaRatio = 1.2/3\n",
    "taFn = 1. - (depthFn)*(1. - alphaRatio) \n",
    "#raylieghFn = ndp.RA*temperatureField*taFn\n",
    "\n",
    "pyrolitebuoyancyFn =  (ndp.RA*temperatureField*taFn) + \\\n",
    "                      pyrolite_comp_buoyancy - \\\n",
    "                      (0.6*olivine_phase_buoyancy + 0.4*garnet_phase_buoyancy) \n",
    "harzbuoyancyFn =      (ndp.RA*temperatureField*taFn) + \\\n",
    "                      harz_comp_buoyancy - \\\n",
    "                      (0.8*olivine_phase_buoyancy + 0.2*garnet_phase_buoyancy) \n",
    "basaltbuoyancyFn =    (ndp.RA*temperatureField*taFn) + \\\n",
    "                      basalt_comp_buoyancy - \\\n",
    "                      (1.*garnet_phase_buoyancy) \n"
   ]
  },
  {
   "cell_type": "code",
   "execution_count": 97,
   "metadata": {
    "collapsed": false
   },
   "outputs": [],
   "source": [
    "fig= glucifer.Figure()\n",
    "#fig.append( glucifer.objects.Points(gSwarm, densityMapFn))\n",
    "fig.append( glucifer.objects.Surface(mesh, pyrolitebuoyancyFn))\n",
    "\n",
    "\n",
    "#fig.show()"
   ]
  },
  {
   "cell_type": "markdown",
   "metadata": {},
   "source": [
    "Rheology\n",
    "-----\n",
    "\n"
   ]
  },
  {
   "cell_type": "code",
   "execution_count": 98,
   "metadata": {
    "collapsed": false
   },
   "outputs": [],
   "source": [
    "# The yeilding of the upper slab is dependent on the strain rate.\n",
    "strainRate_2ndInvariant = fn.tensor.second_invariant( \n",
    "                            fn.tensor.symmetric( \n",
    "                            velocityField.fn_gradient ))\n",
    "\n"
   ]
  },
  {
   "cell_type": "code",
   "execution_count": 99,
   "metadata": {
    "collapsed": false
   },
   "outputs": [],
   "source": [
    "ViscReduce = 0.75\n",
    "\n",
    "ndp.Wds *= ViscReduce\n",
    "ndp.Wdf *= ViscReduce\n",
    "ndp.Eds *= ViscReduce\n",
    "ndp.Edf *= ViscReduce"
   ]
  },
  {
   "cell_type": "code",
   "execution_count": 100,
   "metadata": {
    "collapsed": false
   },
   "outputs": [
    {
     "data": {
      "text/plain": [
       "(24.57841554782539, 8.9376056537546873, 14.150897915774507, 9.876147503717625)"
      ]
     },
     "execution_count": 100,
     "metadata": {},
     "output_type": "execute_result"
    }
   ],
   "source": [
    "ndp.Wds, ndp.Wdf, ndp.Eds, ndp.Edf"
   ]
  },
  {
   "cell_type": "code",
   "execution_count": 101,
   "metadata": {
    "collapsed": false
   },
   "outputs": [],
   "source": [
    "############\n",
    "#Rheology\n",
    "#############\n",
    "#\n",
    "#The final mantle rheology is composed as follows*:\n",
    "# \n",
    "#\n",
    "# mantleviscosityFn = max{  min{(1/omega*Visc + 1/eta_p)**-1,\n",
    "#                           eta_max},\n",
    "#                           eta_min}\n",
    "#                      \n",
    "#Visc => min{diffusionCreep, dislocationCreep, }\n",
    "#eta_p   => stress-limiting effective viscosity\n",
    "#\n",
    "\n",
    "omega = fn.misc.constant(1.)\n",
    "\n",
    "if melt_viscosity_reduction:\n",
    "    mvr =  fn.branching.conditional( [ (temperatureField > (ndp.Tmvp + 7.5*(1. - coordinate[1])) , 0.1 ),   (         True, 1.) ] )\n",
    "    omega = omega*mvr\n",
    "\n",
    "\n",
    "#implementation of the lower mantle viscosity increase, similar to Bello et al. 2015\n",
    "a = 1.\n",
    "B = 30.\n",
    "d0 = 660e3/dp.LS  \n",
    "ds = d0/10.\n",
    "if lower_mantle:\n",
    "    inner1 = 1. - 0.5*(1. - fn.math.tanh(((1. - d0)-(coordinate[1]))/(ds)))\n",
    "    modfac = a*fn.math.exp(np.log(B)*inner1)\n",
    "    omega = omega*modfac\n",
    "\n",
    "\n",
    "##Diffusion Creep\n",
    "ndfp = fn.misc.min(ndp.eta_max, fn.math.exp( ((ndp.Edf + (depthFn*ndp.Wdf))/((temperatureField + ndp.TS))) - \n",
    "              ((ndp.Edf + (ndp.Dr*ndp.Wdf))/((ndp.TPP + ndp.TS)))  ))\n",
    "\n",
    "linearVisc = fn.misc.min(ndp.eta_max, ndfp)\n",
    "\n",
    "##Dislocation Creep\n",
    "nl_correction = (strainRate_2ndInvariant/ndp.SR)**((1.-ndp.n)/(ndp.n))\n",
    "\n",
    "\n",
    "ndsp = fn.misc.min(ndp.eta_max,(nl_correction)*fn.math.exp( ((ndp.Eds + (depthFn*ndp.Wds))/(ndp.n*(temperatureField + ndp.TS))) -\n",
    "                                     ((ndp.Eds + (ndp.Dr*ndp.Wds))/(ndp.n*(ndp.TPP + ndp.TS)))))\n",
    "\n",
    "\n",
    "##Combine the creep mechanisms\n",
    "Visc = fn.misc.max(fn.misc.min(ndp.eta_max, fn.misc.min(ndfp, ndsp)), ndp.eta_min)\n",
    "\n",
    "##Define the Plasticity\n",
    "ys =  ndp.cohesion + (depthFn*ndp.fcd) #In this case we'll use a valid cohesion\n",
    "yielding = ys/(strainRate_2ndInvariant/math.sqrt(0.5)) #extra factor to account for underworld second invariant form\n",
    "\n",
    "\n",
    "#Combine the viscous creep and plasticity\n",
    "#mantleviscosityFn = fn.misc.max(fn.misc.min(1./(((1./Visc) + (1./yielding))), ndp.eta_max), ndp.eta_min)\n",
    "mantleviscosityFn = fn.misc.max(fn.misc.min(fn.misc.min(Visc, yielding), ndp.eta_max), ndp.eta_min)\n",
    "\n",
    "lowMantleDepth = 660e3\n",
    "lowMantleViscFac = 10.\n",
    "finalviscosityFn  = fn.branching.conditional([(depthFn < lowMantleDepth/dp.LS, mantleviscosityFn),\n",
    "                                  (True, ndfp*lowMantleViscFac)])\n",
    "\n",
    "\n",
    "#fn.misc.min(Visc, yielding)\n",
    "\n",
    "#lower mantle rheology\n",
    "\n",
    "#ndflm = fn.misc.min(ndp.eta_max, fn.math.exp( ((ndp.Elm + (depthFn*ndp.Wlm))/((temperatureField + ndp.TS))) - \n",
    "#              ((ndp.Elm + (ndp.Dr*ndp.Wlm))/((ndp.TPP + ndp.TS)))  ))\n",
    "\n",
    "#I ignored Cizkova's lower mantle diffusion creep parameters, \n",
    "#as they appeared to give lower values that the upper mantle rheology, i.e a visc. decrease at 660.\n",
    "#lm_increase = 1.\n",
    "#lowermantleviscosityFn = fn.misc.max(lm_increase*ndfp, ndp.eta_min)\n",
    "\n",
    "\n",
    "##Crust rheology\n",
    "#reduceFac = 0.1\n",
    "#ysc =  reduceFac*ndp.cohesion + reduceFac*(depthFn*gamma*ndp.RA) #In this case we'll use a valid cohesion\n",
    "#crust_yielding = ysc/(strainRate_2ndInvariant/math.sqrt(0.5)) #extra factor to account for underworld second invariant form\n",
    "#crustviscosityFn = fn.misc.max(fn.misc.min(1./(((1./Visc) + (1./crust_yielding))), ndp.eta_max), ndp.eta_min)\n"
   ]
  },
  {
   "cell_type": "code",
   "execution_count": 102,
   "metadata": {
    "collapsed": false
   },
   "outputs": [],
   "source": [
    "############\n",
    "#Build a weak zone\n",
    "#############\n",
    "#\n",
    "\n",
    "def disGen(centre):\n",
    "    coord = fn.input()\n",
    "    offsetFn = coord - centre\n",
    "    return fn.math.sqrt(fn.math.dot( offsetFn, offsetFn ))\n",
    "\n",
    "depth = 200.e3 #m\n",
    "angle = 20. #degrees\n",
    "num_circles = 50\n",
    "half_width = 5e3 #m\n",
    "\n",
    "\n",
    "xpos = depth/math.tan((angle*math.pi/180.))\n",
    "start = (0.075, 1.)\n",
    "end = (start[0] +xpos/dp.LS , start[1] - depth/dp.LS)\n",
    "xar = np.linspace(start[0], end[0], num_circles)\n",
    "yar = np.linspace(start[1], end[1], num_circles)\n",
    "fnBuilder = fn.misc.constant(1000.)\n",
    "for i in range(num_circles):\n",
    "    circ_dist = disGen((xar[i], yar[i]))\n",
    "    fnBuilder = fn.misc.min(circ_dist, fnBuilder)\n",
    "    \n",
    "sig = half_width/dp.LS\n",
    "gammaFn =  fn.math.exp(-fn.math.pow(fnBuilder, 2.) / (2. * fn.math.pow(sig, 2.)))"
   ]
  },
  {
   "cell_type": "code",
   "execution_count": 103,
   "metadata": {
    "collapsed": false
   },
   "outputs": [],
   "source": [
    "testFn = disGen((0., 1.))"
   ]
  },
  {
   "cell_type": "code",
   "execution_count": 104,
   "metadata": {
    "collapsed": true
   },
   "outputs": [],
   "source": [
    "weakVisc = 1.\n",
    "weakzoneFn = fn.misc.min((weakVisc/gammaFn*1.),ndp.eta_max)\n",
    "combmantleviscosityFn = fn.misc.max(ndp.eta_min, fn.misc.min(mantleviscosityFn, weakzoneFn))\n",
    "\n"
   ]
  },
  {
   "cell_type": "code",
   "execution_count": 105,
   "metadata": {
    "collapsed": false
   },
   "outputs": [],
   "source": [
    "fig= glucifer.Figure()\n",
    "#fig.append( glucifer.objects.Points(gSwarm,tracerVariable, colours= 'white black'))\n",
    "#fig.append( glucifer.objects.Points(gSwarm,viscosityMapFn, logScale=True))\n",
    "#fig.append( glucifer.objects.Surface(mesh, mantleviscosityFn, logScale=True))\n",
    "#fig.append( glucifer.objects.VectorArrows(mesh, testFn))\n",
    "#fig.show()\n",
    "#fig.save_database('test.gldb')"
   ]
  },
  {
   "cell_type": "code",
   "execution_count": 106,
   "metadata": {
    "collapsed": false
   },
   "outputs": [],
   "source": [
    "#velocityField.data.max()"
   ]
  },
  {
   "cell_type": "markdown",
   "metadata": {},
   "source": [
    "import matplotlib.pylab as pyplt\n",
    "%matplotlib inline\n",
    "\n",
    "\n",
    "\n",
    "##################\n",
    "#Output functions to numpy vertical averages, maxes, mins\n",
    "##################\n",
    "\n",
    "viscmapFnmesh = uw.mesh.MeshVariable(mesh,nodeDofCount=1)\n",
    "out = uw.utils.MeshVariable_Projection( viscmapFnmesh, viscosityMapFn)\n",
    "out.solve()\n",
    "\n",
    "\n",
    "#avDf = ndfp.evaluate(mesh).reshape(mesh.elementRes[1] + 1, mesh.elementRes[0] + 1).mean(axis=1)\n",
    "avDs = ndsp.evaluate(mesh).reshape(mesh.elementRes[1] + 1, mesh.elementRes[0] + 1).mean(axis=1)\n",
    "umantle = mantleviscosityFn.evaluate(mesh).reshape(mesh.elementRes[1] + 1, mesh.elementRes[0] + 1).mean(axis=1)\n",
    "lmantle = lowermantleviscosityFn.evaluate(mesh).reshape(mesh.elementRes[1] + 1, mesh.elementRes[0] + 1).mean(axis=1)\n",
    "eff = viscmapFnmesh.evaluate(mesh).reshape(mesh.elementRes[1] + 1, mesh.elementRes[0] + 1).mean(axis=1)\n",
    "\n",
    "effMin = viscmapFnmesh.evaluate(mesh).reshape(mesh.elementRes[1] + 1, mesh.elementRes[0] + 1).min(axis=1)\n",
    "effMax = viscmapFnmesh.evaluate(mesh).reshape(mesh.elementRes[1] + 1, mesh.elementRes[0] + 1).max(axis=1)\n",
    "\n",
    "###################\n",
    "#Plot\n",
    "###################\n",
    "import matplotlib.pylab as pyplt\n",
    "%matplotlib inline\n",
    "\n",
    "fig, ax = pyplt.subplots()\n",
    "#ax .plot(avDf, label = 'diff')\n",
    "#ax .plot(avDs, label = 'dis')\n",
    "ax .plot(eff, label = 'eff')\n",
    "ax .plot(effMax, label = 'effMax')\n",
    "ax .plot(effMin, label = 'effMin')\n",
    "#ax .plot(umantle, label = 'uman')\n",
    "#ax .plot(lmantle, label = 'lman')\n",
    "ax.set_yscale(\"log\", nonposy='clip')\n",
    "ax.legend(loc = 3)"
   ]
  },
  {
   "cell_type": "code",
   "execution_count": 107,
   "metadata": {
    "collapsed": false,
    "scrolled": true
   },
   "outputs": [],
   "source": [
    "#fig= glucifer.Figure()\n",
    "#fig.append( glucifer.objects.Points(gSwarm,materialVariable))\n",
    "#fig.append( glucifer.objects.Points(gSwarm,viscosityMapFn, logScale=True))\n",
    "#fig.append( glucifer.objects.Surface(mesh, ndfp, logScale=True))\n",
    "\n",
    "#fig.append( glucifer.objects.Surface(mesh,mantleviscosityFn, logScale=True))\n",
    "#fig.show()\n",
    "#fig.save_database('test.gldb')"
   ]
  },
  {
   "cell_type": "code",
   "execution_count": 108,
   "metadata": {
    "collapsed": false
   },
   "outputs": [
    {
     "data": {
      "text/plain": [
       "(100000.0, 0.24726959543464377)"
      ]
     },
     "execution_count": 108,
     "metadata": {},
     "output_type": "execute_result"
    }
   ],
   "source": [
    "ndsp.evaluate(mesh).min(), ndfp.evaluate(mesh).min()"
   ]
  },
  {
   "cell_type": "code",
   "execution_count": 109,
   "metadata": {
    "collapsed": false
   },
   "outputs": [],
   "source": [
    "#fig= glucifer.Figure()\n",
    "#fig.append( glucifer.objects.Points(gSwarm,tracerVariable, colours= 'white black'))\n",
    "#fig.append( glucifer.objects.Points(gSwarm,materialVariable))\n",
    "#fig.append( glucifer.objects.Surface(mesh, ndfp/ndsp , logScale=True))\n",
    "\n",
    "#fig.append( glucifer.objects.Surface(mesh, strainRate_2ndInvariant/ndp.SR))\n",
    "#fig.show()\n",
    "#fig.save_database('test.gldb')"
   ]
  },
  {
   "cell_type": "markdown",
   "metadata": {},
   "source": [
    "Stokes system setup\n",
    "-----\n"
   ]
  },
  {
   "cell_type": "code",
   "execution_count": 110,
   "metadata": {
    "collapsed": false
   },
   "outputs": [
    {
     "name": "stdout",
     "output_type": "stream",
     "text": [
      "2\n"
     ]
    }
   ],
   "source": [
    "\n",
    "\n",
    "\n",
    "if WeakZone:\n",
    "    print(1)\n",
    "    viscosityMapFn = fn.branching.map( fn_key = materialVariable,\n",
    "                         mapping = {crustIndex:combmantleviscosityFn,\n",
    "                                    mantleIndex:combmantleviscosityFn,\n",
    "                                    harzIndex:combmantleviscosityFn} )\n",
    "else: #Use weak crust\n",
    "    print(2)\n",
    "    viscosityMapFn = fn.branching.map( fn_key = materialVariable,\n",
    "                         mapping = {crustIndex:ndp.eta_crust,\n",
    "                                    mantleIndex:finalviscosityFn,\n",
    "                                    harzIndex:finalviscosityFn} )\n",
    "\n",
    "densityMapFn = fn.branching.map( fn_key = materialVariable,\n",
    "                         mapping = {airIndex:ndp.StRA,\n",
    "                                    crustIndex:basaltbuoyancyFn, \n",
    "                                    mantleIndex:pyrolitebuoyancyFn,\n",
    "                                    harzIndex:harzbuoyancyFn} )"
   ]
  },
  {
   "cell_type": "code",
   "execution_count": 111,
   "metadata": {
    "collapsed": false
   },
   "outputs": [],
   "source": [
    "\n",
    "# Define our vertical unit vector using a python tuple (this will be automatically converted to a function).\n",
    "gravity = ( 0.0, 1.0 )\n",
    "\n",
    "# Now create a buoyancy force vector using the density and the vertical unit vector. \n",
    "buoyancyFn = densityMapFn * gravity"
   ]
  },
  {
   "cell_type": "code",
   "execution_count": 112,
   "metadata": {
    "collapsed": false
   },
   "outputs": [],
   "source": [
    "stokesPIC = uw.systems.Stokes(velocityField=velocityField, \n",
    "                              pressureField=pressureField,\n",
    "                              conditions=[freeslipBC,],\n",
    "                              fn_viscosity=linearVisc, \n",
    "                              fn_bodyforce=buoyancyFn )"
   ]
  },
  {
   "cell_type": "code",
   "execution_count": 113,
   "metadata": {
    "collapsed": false
   },
   "outputs": [],
   "source": [
    "solver = uw.systems.Solver(stokesPIC)\n",
    "if not checkpointLoad:\n",
    "    solver.solve() #A solve on the linear visocisty is unhelpful unless we're starting from scratch"
   ]
  },
  {
   "cell_type": "code",
   "execution_count": 114,
   "metadata": {
    "collapsed": true
   },
   "outputs": [],
   "source": [
    "#Add the non-linear viscosity to the Stokes system\n",
    "stokesPIC.fn_viscosity = viscosityMapFn"
   ]
  },
  {
   "cell_type": "code",
   "execution_count": 115,
   "metadata": {
    "collapsed": false
   },
   "outputs": [
    {
     "name": "stdout",
     "output_type": "stream",
     "text": [
      "\u001b[1;35m\n",
      " \n",
      "Pressure iterations:   3\n",
      "Velocity iterations:   1 (presolve)      \n",
      "Velocity iterations:  -1 (pressure solve)\n",
      "Velocity iterations:   1 (backsolve)     \n",
      "Velocity iterations:   1 (total solve)   \n",
      " \n",
      "SCR RHS  solve time: 4.4338e-01\n",
      "Pressure solve time: 3.2135e-02\n",
      "Velocity solve time: 4.5187e-01 (backsolve)\n",
      "Total solve time   : 9.8325e-01\n",
      " \n",
      "Velocity solution min/max: 0.0000e+00/0.0000e+00\n",
      "Pressure solution min/max: 0.0000e+00/0.0000e+00\n",
      " \n",
      "\u001b[00m\n"
     ]
    }
   ],
   "source": [
    "solver.set_inner_method(\"mumps\")\n",
    "solver.options.scr.ksp_type=\"cg\"\n",
    "solver.set_penalty(1.0e7)\n",
    "solver.options.scr.ksp_rtol = 1.0e-4\n",
    "solver.solve(nonLinearIterate=True)\n",
    "solver.print_stats()"
   ]
  },
  {
   "cell_type": "code",
   "execution_count": null,
   "metadata": {
    "collapsed": true
   },
   "outputs": [],
   "source": []
  },
  {
   "cell_type": "code",
   "execution_count": 116,
   "metadata": {
    "collapsed": false
   },
   "outputs": [],
   "source": [
    "#Check which particles are yielding\n",
    "#yieldingCheck.data[:] = 0\n",
    "\n",
    "#yieldconditions = [ ( mantleviscosityFn < Visc , 1), \n",
    "#               ( True                                           , 0) ]\n",
    "\n",
    "# use the branching conditional function to set each particle's index\n",
    "#yieldingCheck.data[:] = fn.branching.conditional( yieldconditions ).evaluate(gSwarm)"
   ]
  },
  {
   "cell_type": "code",
   "execution_count": 117,
   "metadata": {
    "collapsed": false,
    "scrolled": true
   },
   "outputs": [],
   "source": [
    "#fig= glucifer.Figure()\n",
    "#fig.append( glucifer.objects.Points(gSwarm,yieldingCheck))\n",
    "\n",
    "#fig.append( glucifer.objects.Surface(mesh,ndflm, logScale=True))\n",
    "#fig.show()"
   ]
  },
  {
   "cell_type": "markdown",
   "metadata": {},
   "source": [
    "Advection-diffusion System setup\n",
    "-----"
   ]
  },
  {
   "cell_type": "code",
   "execution_count": null,
   "metadata": {
    "collapsed": true
   },
   "outputs": [],
   "source": [
    "advDiff = uw.systems.AdvectionDiffusion( phiField       = temperatureField, \n",
    "                                         phiDotField    = temperatureDotField, \n",
    "                                         velocityField  = velocityField,\n",
    "                                         fn_sourceTerm    = 0.0,\n",
    "                                         fn_diffusivity = 1.0, \n",
    "                                         #conditions     = [neumannTempBC, dirichTempBC] )\n",
    "                                         conditions     = [ dirichTempBC] )\n",
    "\n",
    "passiveadvector = uw.systems.SwarmAdvector( swarm         = gSwarm, \n",
    "                                     velocityField = velocityField, \n",
    "                                     order         = 1)"
   ]
  },
  {
   "cell_type": "code",
   "execution_count": null,
   "metadata": {
    "collapsed": true
   },
   "outputs": [],
   "source": [
    "population_control = uw.swarm.PopulationControl(gSwarm,deleteThreshold=0.2,splitThreshold=1.,maxDeletions=3,maxSplits=0, aggressive=True, particlesPerCell=ppc)"
   ]
  },
  {
   "cell_type": "markdown",
   "metadata": {},
   "source": [
    "Analysis functions / routines\n",
    "-----"
   ]
  },
  {
   "cell_type": "code",
   "execution_count": null,
   "metadata": {
    "collapsed": true
   },
   "outputs": [],
   "source": [
    "#These are functions we can use to evuate integrals over restricted parts of the domain\n",
    "# For instance, we can exclude the thermal lithosphere from integrals\n",
    "\n",
    "def temprestrictionFn(lithval = 0.9):\n",
    "\n",
    "    tempMM = fn.view.min_max(temperatureField)\n",
    "    tempMM.evaluate(mesh)\n",
    "    TMAX = tempMM.max_global()\n",
    "    mantleconditions = [ (                                  temperatureField > lithval*TMAX, 1.),\n",
    "                   (                                                   True , 0.) ]\n",
    "\n",
    "\n",
    "    return fn.branching.conditional(mantleconditions)\n",
    "\n",
    "mantlerestrictFn = temprestrictionFn(lithval = 0.85)\n",
    "\n",
    "\n",
    "\n",
    "def platenessFn(val = 0.1):\n",
    "    normgradV = fn.math.abs(velocityField.fn_gradient[0]/fn.math.sqrt(velocityField[0]*velocityField[0])) #[du*/dx]/sqrt(u*u)\n",
    "\n",
    "\n",
    "\n",
    "    srconditions = [ (                                  normgradV < val, 1.),\n",
    "                   (                                                   True , 0.) ]\n",
    "\n",
    "\n",
    "    return fn.branching.conditional(srconditions)\n",
    "\n",
    "srrestrictFn = platenessFn(val = 0.1)"
   ]
  },
  {
   "cell_type": "code",
   "execution_count": null,
   "metadata": {
    "collapsed": true
   },
   "outputs": [],
   "source": []
  },
  {
   "cell_type": "code",
   "execution_count": null,
   "metadata": {
    "collapsed": false
   },
   "outputs": [],
   "source": [
    "#Setup volume integrals \n",
    "\n",
    "tempint = uw.utils.Integral( temperatureField, mesh )\n",
    "areaint = uw.utils.Integral( 1.,               mesh )\n",
    "\n",
    "v2int   = uw.utils.Integral( fn.math.dot(velocityField,velocityField), mesh )\n",
    "\n",
    "dwint   = uw.utils.Integral( temperatureField*velocityField[1], mesh )\n",
    "\n",
    "sinner = fn.math.dot( strainRate_2ndInvariant, strainRate_2ndInvariant )\n",
    "vdint = uw.utils.Integral( (2.*viscosityMapFn*sinner), mesh ) #Is it two or four here?\n",
    "\n",
    "mantleArea   = uw.utils.Integral( mantlerestrictFn, mesh )\n",
    "mantleTemp = uw.utils.Integral( temperatureField*mantlerestrictFn, mesh )\n",
    "mantleVisc = uw.utils.Integral( mantleviscosityFn*mantlerestrictFn, mesh )\n",
    "mantleVd = uw.utils.Integral( (2.*viscosityMapFn*sinner*mantlerestrictFn), mesh ) #these now work on MappingFunctions"
   ]
  },
  {
   "cell_type": "code",
   "execution_count": null,
   "metadata": {
    "collapsed": true
   },
   "outputs": [],
   "source": [
    "#Setup surface integrals\n",
    "\n",
    "rmsSurfInt = uw.utils.Integral( fn=velocityField[0]*velocityField[0], mesh=mesh, integrationType='Surface', \n",
    "                          surfaceIndexSet=mesh.specialSets[\"MaxJ_VertexSet\"])\n",
    "nuTop      = uw.utils.Integral( fn=temperatureField.fn_gradient[1],    mesh=mesh, integrationType='Surface', \n",
    "                          surfaceIndexSet=mesh.specialSets[\"MaxJ_VertexSet\"])\n",
    "nuBottom   = uw.utils.Integral( fn=temperatureField.fn_gradient[1],    mesh=mesh, integrationType='Surface', \n",
    "                          surfaceIndexSet=mesh.specialSets[\"MinJ_VertexSet\"])\n",
    "\n",
    "plateint  = uw.utils.Integral( fn=srrestrictFn, mesh=mesh, integrationType='Surface', #Integrate the plateness function\n",
    "                          surfaceIndexSet=mesh.specialSets[\"MaxJ_VertexSet\"]) \n",
    "\n",
    "surfint  = uw.utils.Integral( fn=1., mesh=mesh, integrationType='Surface',   #Surface length function (i.e. domain width)\n",
    "                          surfaceIndexSet=mesh.specialSets[\"MaxJ_VertexSet\"])"
   ]
  },
  {
   "cell_type": "code",
   "execution_count": null,
   "metadata": {
    "collapsed": true
   },
   "outputs": [],
   "source": [
    "#Define functions for the evaluation of integrals\n",
    "\n",
    "def basic_int(ourIntegral):           #This one just hands back the evaluated integral\n",
    "    return ourIntegral.evaluate()[0]\n",
    "\n",
    "def avg_temp():\n",
    "    return tempint.evaluate()[0]/areaint.evaluate()[0]\n",
    "\n",
    "def nusseltTB(temp_field, mesh):\n",
    "    return -nuTop.evaluate()[0], -nuBottom.evaluate()[0]\n",
    "\n",
    "def rms():\n",
    "    return math.sqrt(v2int.evaluate()[0]/areaint.evaluate()[0])\n",
    "\n",
    "def rms_surf():\n",
    "    return math.sqrt(rmsSurfInt.evaluate()[0])\n",
    "\n",
    "def max_vx_surf(velfield, mesh):\n",
    "    vuvelxfn = fn.view.min_max(velfield[0])\n",
    "    vuvelxfn.evaluate(mesh.specialSets[\"MaxJ_VertexSet\"])\n",
    "    return vuvelxfn.max_global()\n",
    "\n",
    "\n",
    "def visc_extr(viscfn):\n",
    "    vuviscfn = fn.view.min_max(viscfn)\n",
    "    vuviscfn.evaluate(mesh)\n",
    "    return vuviscfn.max_global(), vuviscfn.min_global()"
   ]
  },
  {
   "cell_type": "code",
   "execution_count": null,
   "metadata": {
    "collapsed": false
   },
   "outputs": [],
   "source": [
    "#v2sum_integral  = uw.utils.Integral( mesh=mesh, fn=fn.math.dot( velocityField, velocityField ) )\n",
    "#volume_integral = uw.utils.Integral( mesh=mesh, fn=1. )\n",
    "#Vrms = math.sqrt( v2sum_integral.evaluate()[0] )/volume_integral.evaluate()[0]\n",
    "\n",
    "\n",
    "\n",
    "#if(uw.rank()==0):\n",
    "#    print('Initial Vrms = {0:.3f}'.format(Vrms))\n",
    "\n",
    "# Check the Metrics\n",
    "\n",
    "#Avg_temp = avg_temp()\n",
    "#Rms = rms()\n",
    "#Rms_surf = rms_surf()\n",
    "#Max_vx_surf = max_vx_surf(velocityField, mesh)\n",
    "#Gravwork = basic_int(dwint)\n",
    "#Viscdis = basic_int(vdint)\n",
    "#nu1, nu0 = nusseltTB(temperatureField, mesh) # return top then bottom\n",
    "#etamax, etamin = visc_extr(mantleviscosityFn)\n",
    "\n",
    "#Area_mantle = basic_int(mantleArea)\n",
    "#Viscmantle = basic_int(mantleVisc)\n",
    "#Tempmantle = basic_int(mantleTemp)\n",
    "#Viscdismantle = basic_int(mantleVd)"
   ]
  },
  {
   "cell_type": "markdown",
   "metadata": {},
   "source": [
    "Viz.\n",
    "-----"
   ]
  },
  {
   "cell_type": "code",
   "execution_count": null,
   "metadata": {
    "collapsed": false
   },
   "outputs": [],
   "source": [
    "viscVariable = gSwarm.add_variable( dataType=\"float\", count=1 )\n",
    "viscVariable.data[:] = viscosityMapFn.evaluate(gSwarm)"
   ]
  },
  {
   "cell_type": "code",
   "execution_count": null,
   "metadata": {
    "collapsed": false
   },
   "outputs": [],
   "source": [
    "#Pack some stuff into a database as well\n",
    "figDb = glucifer.Figure()\n",
    "#figDb.append( glucifer.objects.Mesh(mesh))\n",
    "figDb.append( glucifer.objects.VectorArrows(mesh,velocityField, scaling=0.00005))\n",
    "#figDb.append( glucifer.objects.Points(gSwarm,tracerVariable, colours= 'white black'))\n",
    "figDb.append( glucifer.objects.Points(gSwarm,materialVariable))\n",
    "\n",
    "figDb.append( glucifer.objects.Points(gSwarm,viscosityMapFn, logScale=True))\n",
    "figDb.append( glucifer.objects.Surface(mesh, strainRate_2ndInvariant, logScale=True))\n",
    "figDb.append( glucifer.objects.Surface(mesh, temperatureField))\n",
    "#figDb.show()"
   ]
  },
  {
   "cell_type": "code",
   "execution_count": null,
   "metadata": {
    "collapsed": false
   },
   "outputs": [],
   "source": [
    "##############\n",
    "#Create a numpy array at the surface to get surface information on (using parallel-friendly evaluate_global)\n",
    "##############\n",
    "\n",
    "surface_xs = np.linspace(mesh.minCoord[0], mesh.maxCoord[0], mesh.elementRes[0] + 1)\n",
    "surface_nodes = np.array(zip(surface_xs, np.ones(len(surface_xs)*mesh.maxCoord[1]))) #For evaluation surface velocity\n",
    "normgradV = velocityField.fn_gradient[0]/fn.math.sqrt(velocityField[0]*velocityField[0])\n",
    "\n",
    "tempMM = fn.view.min_max(temperatureField)\n",
    "dummy = tempMM.evaluate(mesh)\n",
    "\n"
   ]
  },
  {
   "cell_type": "markdown",
   "metadata": {},
   "source": [
    "**Miscellania**"
   ]
  },
  {
   "cell_type": "code",
   "execution_count": null,
   "metadata": {
    "collapsed": false
   },
   "outputs": [],
   "source": [
    "##############\n",
    "#These functions handle checkpointing\n",
    "##############\n",
    "\n",
    "\n",
    "def checkpoint1(step, checkpointPath,filename, filewrites):\n",
    "    path = checkpointPath + str(step) \n",
    "    os.mkdir(path)\n",
    "    ##Write and save the file, if not already a writing step\n",
    "    if not step % filewrites == 0:\n",
    "        filename.write((17*'%-15s ' + '\\n') % (realtime, Viscdis, float(nu0), float(nu1), Avg_temp,\n",
    "                                              Tempmantle,TMAX,\n",
    "                                              Rms,Rms_surf,Max_vx_surf,Gravwork, etamax, etamin, \n",
    "                                              Area_mantle, Viscmantle,  Viscdismantle,Plateness ))\n",
    "    filename.close()\n",
    "    shutil.copyfile(os.path.join(outputPath, outputFile), os.path.join(path, outputFile))\n",
    "\n",
    "\n",
    "def checkpoint2(step, checkpointPath, swarm, filename, varlist = [materialVariable], varnames = ['materialVariable']):\n",
    "    path = checkpointPath + str(step) \n",
    "    velfile = \"velocityField\" + \".hdf5\"\n",
    "    tempfile = \"temperatureField\" + \".hdf5\"\n",
    "    pressfile = \"pressureField\" + \".hdf5\"\n",
    "    velocityField.save(os.path.join(path, velfile))\n",
    "    temperatureField.save(os.path.join(path, tempfile))\n",
    "    pressureField.save(os.path.join(path, pressfile))\n",
    "    swarm.save(os.path.join(path, \"swarm.h5\") ) \n",
    "    for ix in range(len(varlist)):\n",
    "        varb = varlist[ix]\n",
    "        varb.save(os.path.join(path,varnames[ix] + \".h5\"))\n",
    "    "
   ]
  },
  {
   "cell_type": "code",
   "execution_count": null,
   "metadata": {
    "collapsed": true
   },
   "outputs": [],
   "source": [
    "##############\n",
    "#This will allow us to evaluate viscous shear heating, and add the result directly to the temperature field\n",
    "##############\n",
    "\n",
    "viscDisMapFn = 2.*viscosityMapFn*sinner\n",
    "viscDisFnmesh = uw.mesh.MeshVariable(mesh,nodeDofCount=1)\n",
    "viscDisProj = uw.utils.MeshVariable_Projection( viscDisFnmesh, viscDisMapFn)\n",
    "viscDisProj.solve()"
   ]
  },
  {
   "cell_type": "code",
   "execution_count": null,
   "metadata": {
    "collapsed": false
   },
   "outputs": [],
   "source": [
    "# initialise timer for computation\n",
    "start = time.clock()\n",
    "# setup summary output file (name above)\n",
    "if checkpointLoad:\n",
    "    if uw.rank() == 0:\n",
    "        shutil.copyfile(os.path.join(checkpointLoadDir, outputFile), outputPath+outputFile)\n",
    "    comm.Barrier()\n",
    "    f_o = open(os.path.join(outputPath, outputFile), 'a')\n",
    "    prevdata = np.genfromtxt(os.path.join(outputPath, outputFile), skip_header=0, skip_footer=0)\n",
    "    if len(prevdata.shape) == 1: #this is in case there is only one line in previous file\n",
    "        realtime = prevdata[0]\n",
    "    else:\n",
    "        realtime = prevdata[prevdata.shape[0]-1, 0]\n",
    "    step = int(checkpointLoadDir.split('/')[-1])\n",
    "    timevals = [0.]\n",
    "else:\n",
    "    f_o = open(outputPath+outputFile, 'w')\n",
    "    realtime = 0.\n",
    "    step = 0\n",
    "    timevals = [0.]"
   ]
  },
  {
   "cell_type": "markdown",
   "metadata": {},
   "source": [
    "Main simulation loop\n",
    "-----\n"
   ]
  },
  {
   "cell_type": "code",
   "execution_count": null,
   "metadata": {
    "collapsed": true
   },
   "outputs": [],
   "source": [
    "#while step < 21:\n",
    "while realtime < 1.:\n",
    "\n",
    "    # solve Stokes and advection systems\n",
    "    solver.solve(nonLinearIterate=True)\n",
    "    dt = advDiff.get_max_dt()\n",
    "    if step == 0:\n",
    "        dt = 0.\n",
    "    advDiff.integrate(dt)\n",
    "    passiveadvector.integrate(dt)\n",
    "    \n",
    "    #Add the adiabatic adjustment:\n",
    "    temperatureField.data[:] += dt*abHeatFn.evaluate(mesh)\n",
    "    \n",
    "    #Add the viscous heating term\n",
    "     #Need to fix this (forgot 'dissipation number')\n",
    "    #viscDisProj = uw.utils.MeshVariable_Projection( viscDisFnmesh, viscDisMapFn)\n",
    "    #viscDisProj.solve()\n",
    "    #temperatureField.data[:] += dt*viscDisFnmesh.evaluate(mesh)\n",
    "    \n",
    "\n",
    "    # Increment\n",
    "    realtime += dt\n",
    "    step += 1\n",
    "    timevals.append(realtime)\n",
    "    ################\n",
    "    #Update temperature field in the air region\n",
    "    #Do this better...\n",
    "    ################\n",
    "    if (step % sticky_air_temp == 0):\n",
    "        for index, coord in enumerate(mesh.data):\n",
    "            if coord[1] >= 1.:\n",
    "                temperatureField.data[index] = ndp.TSP\n",
    "\n",
    "    # Calculate the Metrics, only on 1 of the processors:\n",
    "    ################\n",
    "    if (step % metric_output == 0):\n",
    "        ###############\n",
    "        #Swarm - based Metrics\n",
    "        ###############\n",
    "        # Calculate the RMS velocity and Nusselt number.\n",
    "        # Calculate the Metrics, only on 1 of the processors:\n",
    "        mantlerestrictFn = temprestrictionFn() #rebuild the mantle restriction function (but these should be dynamic?)\n",
    "        srrestrictFn = platenessFn(val = 0.1) #rebuild the plateness restriction function\n",
    "        dummy = tempMM.evaluate(mesh) #Re-evaluate any fn.view.min_max guys\n",
    "        #Rebuild these integrals (a test because metrics changes after a restart)\n",
    "        mantleArea   = uw.utils.Integral( mantlerestrictFn, mesh )\n",
    "        mantleTemp = uw.utils.Integral( temperatureField*mantlerestrictFn, mesh )\n",
    "        mantleVisc = uw.utils.Integral( mantleviscosityFn*mantlerestrictFn, mesh )\n",
    "        mantleVd = uw.utils.Integral( (4.*viscosityMapFn*sinner*mantlerestrictFn), mesh ) #these now work on MappingFunctions\n",
    "        ###\n",
    "        Avg_temp = avg_temp()\n",
    "        Rms = rms()\n",
    "        Rms_surf = rms_surf()\n",
    "        Max_vx_surf = max_vx_surf(velocityField, mesh)\n",
    "        Gravwork = basic_int(dwint)\n",
    "        Viscdis = basic_int(vdint)\n",
    "        nu1, nu0 = nusseltTB(temperatureField, mesh) # return top then bottom\n",
    "        etamax, etamin = visc_extr(mantleviscosityFn)\n",
    "        Area_mantle = basic_int(mantleArea)\n",
    "        Viscmantle = basic_int(mantleVisc)\n",
    "        Tempmantle = basic_int(mantleTemp)\n",
    "        Viscdismantle = basic_int(mantleVd)\n",
    "        Plateness = basic_int(plateint)/basic_int(surfint)\n",
    "        TMAX = tempMM.max_global()\n",
    "        # output to summary text file\n",
    "        if uw.rank()==0:\n",
    "            f_o.write((17*'%-15s ' + '\\n') % (realtime, Viscdis, float(nu0), float(nu1), Avg_temp,\n",
    "                                              Tempmantle,TMAX,\n",
    "                                              Rms,Rms_surf,Max_vx_surf,Gravwork, etamax, etamin, \n",
    "                                              Area_mantle, Viscmantle,  Viscdismantle,Plateness ))\n",
    "    ################\n",
    "    #Also repopulate entire swarm periodically\n",
    "    ################\n",
    "    #if step % swarm_repop == 0:\n",
    "    population_control.repopulate()   \n",
    "    ################\n",
    "    #Checkpoint\n",
    "    ################\n",
    "    if step % checkpoint_every == 0:\n",
    "        if uw.rank() == 0:\n",
    "            checkpoint1(step, checkpointPath,f_o, metric_output)           \n",
    "        checkpoint2(step, checkpointPath, gSwarm, f_o, varlist = varlist, varnames = varnames)\n",
    "        f_o = open(os.path.join(outputPath, outputFile), 'a') #is this line supposed to be here?\n",
    "    ################\n",
    "    #Gldb output\n",
    "    ################ \n",
    "    if (step % gldbs_output == 0):\n",
    "        #Rebuild any necessary swarm variables\n",
    "        viscVariable.data[:] = viscosityMapFn.evaluate(gSwarm)\n",
    "        #Write gldbs\n",
    "        fnamedb = \"dbFig\" + \"_\" + str(ModIt) + \"_\" + str(step) + \".gldb\"\n",
    "        fullpath = os.path.join(outputPath + \"gldbs/\" + fnamedb)\n",
    "        #figDb.show()\n",
    "        figDb.save_database(fullpath)\n",
    "    ################\n",
    "    #Files output\n",
    "    ################ \n",
    "    if (step % files_output == 0):\n",
    "\n",
    "        vel_surface = velocityField.evaluate_global(surface_nodes)\n",
    "        norm_surface_sr = normgradV.evaluate_global(surface_nodes)\n",
    "        if uw.rank() == 0:\n",
    "            fnametemp = \"velsurface\" + \"_\" + str(ModIt) + \"_\" + str(step)\n",
    "            fullpath = os.path.join(outputPath + \"files/\" + fnametemp)\n",
    "            np.save(fullpath, vel_surface)\n",
    "            fnametemp = \"norm_surface_sr\" + \"_\" + str(ModIt) + \"_\" + str(step)\n",
    "            fullpath = os.path.join(outputPath + \"files/\" + fnametemp)\n",
    "            np.save(fullpath, norm_surface_sr)\n",
    "    ################\n",
    "    #Particle update\n",
    "    ###############    \n",
    "    #ageVariable.data[:] += dt #increment the ages (is this efficient?)\n",
    "    ageDT += dt\n",
    "    \n",
    "    if step % swarm_update == 0:\n",
    "        #Increment age stuff. \n",
    "        ageEval = fn.branching.conditional( ageConditions ).evaluate(gSwarm)\n",
    "        ageVariable.data[np.where(ageEval == 0)] = 0 #If below the critical depth, age is set to zero\n",
    "        ageVariable.data[np.where(ageEval != 0)] += ageDT #If age above critical depth, increment age\n",
    "        ageDT = 0. #reset the age incrementer\n",
    "        \n",
    "        #Apply any materialVariable changes\n",
    "        for i in range(2): #Need to go through twice first time through\n",
    "            materialVariable.data[:] = fn.branching.conditional(DG.condition_list).evaluate(gSwarm)\n",
    "\n",
    "    \n",
    "f_o.close()\n",
    "print 'step =',step"
   ]
  },
  {
   "cell_type": "code",
   "execution_count": null,
   "metadata": {
    "collapsed": false
   },
   "outputs": [],
   "source": [
    "viscVariable = gSwarm.add_variable( dataType=\"float\", count=1 )\n",
    "viscVariable.data[:] = viscosityMapFn.evaluate(gSwarm)"
   ]
  },
  {
   "cell_type": "code",
   "execution_count": null,
   "metadata": {
    "collapsed": false
   },
   "outputs": [],
   "source": []
  },
  {
   "cell_type": "code",
   "execution_count": 118,
   "metadata": {
    "collapsed": false
   },
   "outputs": [
    {
     "data": {
      "text/html": [
       "<img src='data:image/png;base64,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'>"
      ],
      "text/plain": [
       "<IPython.core.display.HTML object>"
      ]
     },
     "metadata": {},
     "output_type": "display_data"
    },
    {
     "data": {
      "text/plain": [
       "'test.gldb'"
      ]
     },
     "execution_count": 118,
     "metadata": {},
     "output_type": "execute_result"
    }
   ],
   "source": [
    "fig= glucifer.Figure()\n",
    "#fig.append( glucifer.objects.Points(gSwarm,materialVariable))\n",
    "fig.append( glucifer.objects.Points(gSwarm, viscosityMapFn, logScale=True))\n",
    "#fig.append( glucifer.objects.Surface(mesh, bf_sum))\n",
    "fig.append( glucifer.objects.VectorArrows(mesh,velocityField, scaling=0.00005))\n",
    "#fig.append( glucifer.objects.Surface(mesh,mantleviscosityFn, logScale=True))\n",
    "#fig.append( glucifer.objects.Surface(mesh,raylieghFn))\n",
    "\n",
    "fig.show()\n",
    "fig.save_database('test.gldb')"
   ]
  },
  {
   "cell_type": "code",
   "execution_count": null,
   "metadata": {
    "collapsed": false
   },
   "outputs": [],
   "source": []
  },
  {
   "cell_type": "code",
   "execution_count": null,
   "metadata": {
    "collapsed": true
   },
   "outputs": [],
   "source": []
  }
 ],
 "metadata": {
  "kernelspec": {
   "display_name": "Python 2",
   "language": "python",
   "name": "python2"
  },
  "language_info": {
   "codemirror_mode": {
    "name": "ipython",
    "version": 2
   },
   "file_extension": ".py",
   "mimetype": "text/x-python",
   "name": "python",
   "nbconvert_exporter": "python",
   "pygments_lexer": "ipython2",
   "version": "2.7.9"
  },
  "widgets": {
   "state": {},
   "version": "1.1.2"
  }
 },
 "nbformat": 4,
 "nbformat_minor": 0
}
