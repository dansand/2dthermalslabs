{
 "cells": [
  {
   "cell_type": "markdown",
   "metadata": {},
   "source": [
    "## composite, non-linear rheology:\n",
    "\n",
    "\n",
    "The viscous rheology in this model is similar to the Čížková and Bina paper cited below. Other parts of the model setup are similar to Arredondo and Billen (2016) and Korenaga (2011). \n",
    "\n",
    "Here we use a dimensionless system. For the psuedo-plastic effective rheology a Drucker-prager model is used.\n",
    "\n",
    "\n",
    "**Keywords:** thermal covection, dislocation creep\n",
    "\n",
    "\n",
    "**References**\n",
    "\n",
    "Čížková, Hana, and Craig R. Bina. \"Geodynamics of trench advance: Insights from a Philippine-Sea-style geometry.\" Earth and Planetary Science Letters 430 (2015): 408-415.\n",
    "\n",
    "Arredondo, Katrina M., and Magali I. Billen. \"The Effects of Phase Transitions and Compositional Layering in Two-dimensional Kinematic Models of Subduction.\" Journal of Geodynamics (2016).\n",
    "\n",
    "Korenaga, Jun. \"Scaling of plate tectonic convection with pseudoplastic rheology.\" Journal of Geophysical Research: Solid Earth 115.B11 (2010)."
   ]
  },
  {
   "cell_type": "code",
   "execution_count": 239,
   "metadata": {
    "collapsed": false
   },
   "outputs": [],
   "source": [
    "import numpy as np\n",
    "import underworld as uw\n",
    "import math\n",
    "from underworld import function as fn\n",
    "import glucifer\n",
    "\n",
    "import os\n",
    "import sys\n",
    "import natsort\n",
    "import shutil\n",
    "from easydict import EasyDict as edict\n",
    "import operator\n",
    "import pint\n",
    "import time\n",
    "import operator\n",
    "from slippy2 import boundary_layer2d\n",
    "from slippy2 import material_graph\n",
    "from slippy2 import spmesh\n",
    "\n",
    "from mpi4py import MPI\n",
    "comm = MPI.COMM_WORLD\n",
    "rank = comm.Get_rank()"
   ]
  },
  {
   "cell_type": "markdown",
   "metadata": {},
   "source": [
    "Model name and directories\n",
    "-----"
   ]
  },
  {
   "cell_type": "code",
   "execution_count": 240,
   "metadata": {
    "collapsed": true
   },
   "outputs": [],
   "source": [
    "############\n",
    "#Model name.  \n",
    "############\n",
    "Model = \"T\"\n",
    "ModNum = 0\n",
    "\n",
    "if len(sys.argv) == 1:\n",
    "    ModIt = \"Base\"\n",
    "elif sys.argv[1] == '-f':\n",
    "    ModIt = \"Base\"\n",
    "else:\n",
    "    ModIt = str(sys.argv[1])"
   ]
  },
  {
   "cell_type": "code",
   "execution_count": 241,
   "metadata": {
    "collapsed": false
   },
   "outputs": [],
   "source": [
    "###########\n",
    "#Standard output directory setup\n",
    "###########\n",
    "\n",
    "\n",
    "outputPath = \"results\" + \"/\" +  str(Model) + \"/\" + str(ModNum) + \"/\" + str(ModIt) + \"/\"\n",
    "imagePath = outputPath + 'images/'\n",
    "filePath = outputPath + 'files/'\n",
    "checkpointPath = outputPath + 'checkpoint/'\n",
    "dbPath = outputPath + 'gldbs/'\n",
    "outputFile = 'results_model' + Model + '_' + str(ModNum) + '_' + str(ModIt) + '.dat'\n",
    "\n",
    "if uw.rank()==0:\n",
    "    # make directories if they don't exist\n",
    "    if not os.path.isdir(outputPath):\n",
    "        os.makedirs(outputPath)\n",
    "    if not os.path.isdir(checkpointPath):\n",
    "        os.makedirs(checkpointPath)\n",
    "    if not os.path.isdir(imagePath):\n",
    "        os.makedirs(imagePath)\n",
    "    if not os.path.isdir(dbPath):\n",
    "        os.makedirs(dbPath)\n",
    "    if not os.path.isdir(filePath):\n",
    "        os.makedirs(filePath)\n",
    "        \n",
    "comm.Barrier() #Barrier here so no procs run the check in the next cell too early"
   ]
  },
  {
   "cell_type": "code",
   "execution_count": 242,
   "metadata": {
    "collapsed": false
   },
   "outputs": [
    {
     "name": "stdout",
     "output_type": "stream",
     "text": [
      "results/T/0/Base/checkpoint/ is empty\n"
     ]
    }
   ],
   "source": [
    "###########\n",
    "#Check if starting from checkpoint\n",
    "###########\n",
    "\n",
    "checkdirs = []\n",
    "for dirpath, dirnames, files in os.walk(checkpointPath):\n",
    "    if files:\n",
    "        print dirpath, 'has files'\n",
    "        checkpointLoad = True\n",
    "        checkdirs.append(dirpath)\n",
    "    if not files:\n",
    "        print dirpath, 'is empty'\n",
    "        checkpointLoad = False"
   ]
  },
  {
   "cell_type": "markdown",
   "metadata": {},
   "source": [
    "Setup parameters\n",
    "-----\n",
    "\n",
    "Set simulation parameters for test."
   ]
  },
  {
   "cell_type": "markdown",
   "metadata": {},
   "source": [
    "**Use pint to setup any unit conversions we'll need**"
   ]
  },
  {
   "cell_type": "code",
   "execution_count": 243,
   "metadata": {
    "collapsed": false
   },
   "outputs": [
    {
     "data": {
      "text/html": [
       "10000.0 meter/megayear"
      ],
      "text/latex": [
       "$10000.0 \\frac{meter}{megayear}$"
      ],
      "text/plain": [
       "<Quantity(10000.0, 'meter / megayear')>"
      ]
     },
     "execution_count": 243,
     "metadata": {},
     "output_type": "execute_result"
    }
   ],
   "source": [
    "u = pint.UnitRegistry()\n",
    "cmpery = 1.*u.cm/u.year\n",
    "mpermy = 1.*u.m/u.megayear\n",
    "year = 1.*u.year\n",
    "spery = year.to(u.sec)\n",
    "cmpery.to(mpermy)"
   ]
  },
  {
   "cell_type": "code",
   "execution_count": null,
   "metadata": {
    "collapsed": false
   },
   "outputs": [],
   "source": []
  },
  {
   "cell_type": "markdown",
   "metadata": {},
   "source": [
    "**Set parameter dictionaries**"
   ]
  },
  {
   "cell_type": "code",
   "execution_count": 244,
   "metadata": {
    "collapsed": false
   },
   "outputs": [
    {
     "name": "stdout",
     "output_type": "stream",
     "text": [
      "(0.04, 1.2675505856327397e-11)\n"
     ]
    }
   ],
   "source": [
    "box_half_width =4000e3\n",
    "age_at_trench = 100e6\n",
    "cmperyear = box_half_width / age_at_trench #m/y\n",
    "mpersec = cmperyear*(cmpery.to(u.m/u.second)).magnitude #m/sec\n",
    "print(cmperyear, mpersec )"
   ]
  },
  {
   "cell_type": "code",
   "execution_count": null,
   "metadata": {
    "collapsed": false
   },
   "outputs": [],
   "source": []
  },
  {
   "cell_type": "code",
   "execution_count": 245,
   "metadata": {
    "collapsed": false
   },
   "outputs": [],
   "source": [
    "###########\n",
    "#Store the physical paramters, scale factors and dimensionless pramters in easyDicts\n",
    "#Mainly helps with avoiding overwriting variables\n",
    "###########\n",
    "\n",
    "dp = edict({'LS_RA':2900.*1e3, #Use full mantle depth for the Rayleigh number\n",
    "            'LS':2000.*1e3,\n",
    "           'rho':3300,\n",
    "           'g':9.8, \n",
    "           'eta0':2e20, #Dislocation creep at 250 km, 1573 K, 1e-15 s-1 \n",
    "           'k':1e-6,\n",
    "           'a':3e-5, #surface thermal expansivity\n",
    "           'TP':1573., #potential temp\n",
    "           'TS':273., #surface temp\n",
    "           'cohesion':1e7, #\n",
    "           'fc':0.06,   \n",
    "           'Adf':1e-9,\n",
    "           'Ads':3.1e-17,\n",
    "           'Edf':3.35e5,\n",
    "           'Eds':4.8e5,\n",
    "           'Vdf':4e-6,\n",
    "           'Vds':11e-6,\n",
    "           'Alm':1.3e-16,\n",
    "           'Elm':2.0e5,\n",
    "           'Vlm':1.1e-6,\n",
    "           'Ba':4.3e-12,  #A value to simulate pressure increase with depth\n",
    "           'SR':1e-14,\n",
    "           'Dr':250e3, #Reference depth\n",
    "           'R':8.314,\n",
    "           'Cp':1250., #Jkg-1K-1\n",
    "           'StALS':100e3,\n",
    "           'plate_vel':4})\n",
    "\n",
    "#Adibatic heating stuff\n",
    "dp.dTa = (dp.a*dp.g*(dp.TP))/dp.Cp #adibatic gradient, at Tp\n",
    "dp.deltaTa = (dp.TP + dp.dTa*dp.LS) - dp.TS  #Adiabatic Temp at base of mantle, minus Ts\n",
    "dp.deltaT = dp.deltaTa\n",
    "\n",
    "\n",
    "\n",
    "#scale_factors\n",
    "\n",
    "sf = edict({'stress':dp.LS**2/(dp.k*dp.eta0),\n",
    "            'lith_grad':dp.rho*dp.g*(dp.LS)**3/(dp.eta0*dp.k) ,\n",
    "            'vel':dp.LS/dp.k,\n",
    "            'SR':dp.LS**2/dp.k,\n",
    "            'W':(-1./dp.Ba)*(np.log(1.-dp.rho*dp.g*dp.Ba*dp.LS))/(dp.R*dp.deltaTa), #Including adiabatic compression, and deltaTa\n",
    "            'E': 1./(dp.R*dp.deltaTa), #using deltaTa, the guesstimated adiabatic temp differnnce to scale these paramters\n",
    "            #'Ads':(dp.eta0**(ndp.n-2))*((dp.k)**(ndp.n-1))*((dp.LS)**(2. - 2*ndp.n))       \n",
    "           })\n",
    "\n",
    "#dimensionless parameters\n",
    "\n",
    "ndp = edict({'RA':(dp.g*dp.rho*dp.a*(dp.TP - dp.TS)*(dp.LS_RA)**3)/(dp.k*dp.eta0),\n",
    "            'cohesion':dp.cohesion*sf.stress,\n",
    "            'fcd':dp.fc*sf.lith_grad,\n",
    "            'gamma':dp.fc/(dp.a*dp.deltaT),\n",
    "            'Wdf':dp.Vdf*sf.W,\n",
    "            'Edf':dp.Edf*sf.E,\n",
    "            'Wds':dp.Vds*sf.W,\n",
    "            'Eds':dp.Eds*sf.E,\n",
    "            'Elm':dp.Elm*sf.E,\n",
    "           'Wlm':dp.Vlm*sf.W,\n",
    "            'TSP':0., \n",
    "            'TBP':1.,\n",
    "            'TPP':(dp.TP - dp.TS)/dp.deltaT, #dimensionless potential temp\n",
    "            'Dr':dp.Dr/dp.LS,\n",
    "            'n':3.5,\n",
    "            'TS':dp.TS/dp.deltaT,\n",
    "            'TP':dp.TP/dp.deltaT,\n",
    "             #'eta_crust':1e21/dp.eta0,\n",
    "             'eta_crust':0.01,\n",
    "            'eta_min':1e-3,\n",
    "            'eta_max':1e5,\n",
    "            'H':0.,\n",
    "            'Tmvp':0.6,\n",
    "             'Di': dp.a*dp.g*dp.LS/dp.Cp, #Dissipation number\n",
    "            'Steta0':1e2,\n",
    "            'plate_vel':sf.vel*dp.plate_vel*(cmpery.to(u.m/u.second)).magnitude,})\n",
    "\n",
    "\n",
    "\n",
    "#Make some further additions to paramter dictionaries\n",
    "\n",
    "#dp.VR = (0.1*(dp.k/dp.LS)*ndp.RA**(2/3.)) #characteristic velocity from a scaling relationship\n",
    "#dp.SR = dp.VR/dp.LS #characteristic strain rate\n",
    "#ndp.VR = dp.VR*sf.vel #characteristic velocity\n",
    "#ndp.SR = dp.SR*sf.SR #characteristic strain rate\n",
    "\n",
    "\n",
    "ndp.SR = dp.SR*sf.SR #characteristic strain rate\n",
    "\n",
    "ndp.StRA = (3300.*dp.g*(dp.LS)**3)/(dp.eta0 *dp.k) #Composisitional Rayleigh number for rock-air buoyancy force\n",
    "ndp.TaP = 1. - ndp.TPP,  #Dimensionles adiabtic component of delta t"
   ]
  },
  {
   "cell_type": "code",
   "execution_count": 246,
   "metadata": {
    "collapsed": false
   },
   "outputs": [
    {
     "data": {
      "text/plain": [
       "2535.1011712654795"
      ]
     },
     "execution_count": 246,
     "metadata": {},
     "output_type": "execute_result"
    }
   ],
   "source": [
    "#40000./sf.vel, \n",
    "ndp.plate_vel"
   ]
  },
  {
   "cell_type": "code",
   "execution_count": 247,
   "metadata": {
    "collapsed": false
   },
   "outputs": [
    {
     "data": {
      "text/plain": [
       "(28706.423023996747, 2535.1011712654795, 153804350.70000002, 1300.0)"
      ]
     },
     "execution_count": 247,
     "metadata": {},
     "output_type": "execute_result"
    }
   ],
   "source": [
    "dp.CVR = (0.1*(dp.k/dp.LS)*ndp.RA**(2/3.))\n",
    "ndp.CVR = dp.CVR*sf.vel #characteristic velocity\n",
    "ndp.CVR, ndp.plate_vel, ndp.RA , (dp.TP - dp.TS)\n"
   ]
  },
  {
   "cell_type": "code",
   "execution_count": 248,
   "metadata": {
    "collapsed": false
   },
   "outputs": [],
   "source": [
    "###########\n",
    "#A few parameters defining lengths scales, affects materal transistions etc.\n",
    "###########\n",
    "\n",
    "MANTLETOCRUST = (15.*1e3)/dp.LS #Crust depth\n",
    "HARZBURGDEPTH = MANTLETOCRUST + (27.7e3/dp.LS)\n",
    "CRUSTTOMANTLE = (300.*1e3)/dp.LS\n",
    "LITHTOMANTLE = (900.*1e3)/dp.LS \n",
    "MANTLETOLITH = (200.*1e3)/dp.LS \n",
    "TOPOHEIGHT = (10.*1e3)/dp.LS  #rock-air topography limits\n",
    "CRUSTTOECL  = (100.*1e3)/dp.LS\n",
    "AVGTEMP = ndp.TPP #Used to define lithosphere\n",
    "LOWERMANTLE = (1000.*1e3)/dp.LS \n"
   ]
  },
  {
   "cell_type": "markdown",
   "metadata": {},
   "source": [
    "**Model setup parameters**"
   ]
  },
  {
   "cell_type": "code",
   "execution_count": 249,
   "metadata": {
    "collapsed": false
   },
   "outputs": [],
   "source": [
    "###########\n",
    "#Model setup parameters\n",
    "###########\n",
    "\n",
    "refineMesh = True\n",
    "stickyAir = False \n",
    "lowerMantle = False \n",
    "meltViscosityReduction = False\n",
    "symmetricIC = False\n",
    "VelBC = False\n",
    "WeakZone = False\n",
    "aspectRatio = 4\n",
    "parallelVisc = False\n",
    "compBuoyancy = False #use compositional & phase buoyancy, or simply thermal\n",
    "\n",
    "MINX = -1.*aspectRatio/2.\n",
    "MINY = 0.\n",
    "MAXX = 1.*aspectRatio/2.\n",
    "\n",
    "#MAXY = 1.035\n",
    "MAXY = 1.\n",
    "\n",
    "if MINX == 0.:\n",
    "    squareModel = True\n",
    "else: \n",
    "    squareModel = False\n",
    "    \n",
    "    \n",
    "dim = 2          # number of spatial dimensions\n",
    "\n",
    "\n",
    "#MESH STUFF\n",
    "\n",
    "RES = 64\n",
    "\n",
    "Xres = int(RES*aspectRatio)\n",
    "\n",
    "\n",
    "if stickyAir:\n",
    "    Yres = RES\n",
    "    MAXY = 1. + dp.StALS/dp.LS #150km\n",
    "    \n",
    "else:\n",
    "    Yres = RES\n",
    "    MAXY = 1.\n",
    "\n",
    "\n",
    "periodic = [False, False]\n",
    "elementType = \"Q1/dQ0\"\n",
    "#elementType =\"Q2/DPC1\"\n",
    "\n",
    "\n",
    "#System/Solver stuff\n",
    "\n",
    "PIC_integration=True\n",
    "ppc = 25\n",
    "\n",
    "#Output and safety stuff\n",
    "swarm_repop, swarm_update = 10, 10\n",
    "gldbs_output = 10\n",
    "checkpoint_every, files_output = 20, 20\n",
    "metric_output = 10\n",
    "sticky_air_temp = 5"
   ]
  },
  {
   "cell_type": "markdown",
   "metadata": {},
   "source": [
    "Create mesh and finite element variables\n",
    "------"
   ]
  },
  {
   "cell_type": "code",
   "execution_count": 250,
   "metadata": {
    "collapsed": false
   },
   "outputs": [],
   "source": [
    "mesh = uw.mesh.FeMesh_Cartesian( elementType = (elementType),\n",
    "                                 elementRes  = (Xres, Yres), \n",
    "                                 minCoord    = (MINX, MINY), \n",
    "                                 maxCoord    = (MAXX, MAXY), periodic=periodic)\n",
    "\n",
    "velocityField       = uw.mesh.MeshVariable( mesh=mesh,         nodeDofCount=2 )\n",
    "pressureField       = uw.mesh.MeshVariable( mesh=mesh.subMesh, nodeDofCount=1 )\n",
    "temperatureField    = uw.mesh.MeshVariable( mesh=mesh,         nodeDofCount=1 )\n",
    "temperatureDotField = uw.mesh.MeshVariable( mesh=mesh,         nodeDofCount=1 )"
   ]
  },
  {
   "cell_type": "code",
   "execution_count": 251,
   "metadata": {
    "collapsed": true
   },
   "outputs": [],
   "source": [
    "mesh.reset()"
   ]
  },
  {
   "cell_type": "code",
   "execution_count": 252,
   "metadata": {
    "collapsed": false
   },
   "outputs": [
    {
     "name": "stdout",
     "output_type": "stream",
     "text": [
      "Min\n",
      "(256, 0.012501562500000001, 4.200400000000001, -0.20040000000000086)\n",
      "('edges', 256)\n",
      "-- iteration 0 --\n",
      "| F( p_n ) |^2: 1.98165943146e-05\n",
      "| p_n+1 - p_n |^2: 1.36480086187\n",
      "-- iteration 1 --\n",
      "| F( p_n ) |^2: 3.58989730515e-30\n",
      "Min, Max element width: \n",
      "0.01250\n",
      "0.01875\n"
     ]
    }
   ],
   "source": [
    "\n",
    "#X-Axis\n",
    "\n",
    "if refineMesh:\n",
    "    mesh.reset()\n",
    "    axis = 0\n",
    "    origcoords = np.linspace(mesh.minCoord[axis], mesh.maxCoord[axis], mesh.elementRes[axis] + 1)\n",
    "    edge_rest_lengths = np.diff(origcoords)\n",
    "\n",
    "    deform_lengths = edge_rest_lengths.copy()\n",
    "    min_point =  (abs(mesh.maxCoord[axis]) - abs(mesh.minCoord[axis]))/2.\n",
    "    el_reduction = 0.8001\n",
    "    dx = mesh.maxCoord[axis] - min_point\n",
    "\n",
    "    deform_lengths = deform_lengths - \\\n",
    "                                    ((1.-el_reduction) *deform_lengths[0]) + \\\n",
    "                                    abs((origcoords[1:] - min_point))*((0.5*deform_lengths[0])/dx)\n",
    "\n",
    "    #print(edge_rest_lengths.shape, deform_lengths.shape)\n",
    "\n",
    "    spmesh.deform_1d(deform_lengths, mesh,axis = 'x',norm = 'Min', constraints = [])"
   ]
  },
  {
   "cell_type": "code",
   "execution_count": 253,
   "metadata": {
    "collapsed": false
   },
   "outputs": [],
   "source": [
    "axis = 1\n",
    "orgs = np.linspace(mesh.minCoord[axis], mesh.maxCoord[axis], mesh.elementRes[axis] + 1)\n",
    "\n",
    "value_to_constrain = 1.\n",
    "\n",
    "\n",
    "yconst = [(spmesh.find_closest(orgs, value_to_constrain), np.array([value_to_constrain,0]))]"
   ]
  },
  {
   "cell_type": "code",
   "execution_count": 254,
   "metadata": {
    "collapsed": false
   },
   "outputs": [
    {
     "name": "stdout",
     "output_type": "stream",
     "text": [
      "Min\n",
      "(64, 0.0093765624999999995, 0.84619375000000008, 0.62499047619047554)\n",
      "('edges', 64)\n",
      "-- iteration 0 --\n",
      "| F( p_n ) |^2: 8.05648611886e-05\n",
      "| p_n+1 - p_n |^2: 0.352079185376\n",
      "-- iteration 1 --\n",
      "| F( p_n ) |^2: 3.12512226132e-31\n",
      "Min, Max element width: \n",
      "0.00938\n",
      "0.02187\n"
     ]
    }
   ],
   "source": [
    "###########\n",
    "#Mesh refinement\n",
    "###########\n",
    "\n",
    "if refineMesh:\n",
    "    #Y-Axis\n",
    "    axis = 1\n",
    "    origcoords = np.linspace(mesh.minCoord[axis], mesh.maxCoord[axis], mesh.elementRes[axis] + 1)\n",
    "    edge_rest_lengths = np.diff(origcoords)\n",
    "\n",
    "    deform_lengths = edge_rest_lengths.copy()\n",
    "    min_point =  (mesh.maxCoord[axis])\n",
    "    el_reduction = 0.6001\n",
    "    dx = mesh.maxCoord[axis]\n",
    "\n",
    "    deform_lengths = deform_lengths - \\\n",
    "                                    ((1.-el_reduction)*deform_lengths[0]) + \\\n",
    "                                    abs((origcoords[1:] - min_point))*((0.5*deform_lengths[0])/dx)\n",
    "\n",
    "    #print(edge_rest_lengths.shape, deform_lengths.shape)\n",
    "\n",
    "    spmesh.deform_1d(deform_lengths, mesh,axis = 'y',norm = 'Min', constraints = yconst)"
   ]
  },
  {
   "cell_type": "markdown",
   "metadata": {},
   "source": [
    "Initial conditions\n",
    "-------\n"
   ]
  },
  {
   "cell_type": "code",
   "execution_count": 255,
   "metadata": {
    "collapsed": false
   },
   "outputs": [],
   "source": [
    "coordinate = fn.input()\n",
    "depthFn = 1. - coordinate[1] #a function providing the depth\n",
    "xFn = coordinate[0]  #a function providing the x-coordinate\n",
    "\n",
    "potTempFn = ndp.TPP + (depthFn)*ndp.TaP #a function providing the adiabatic temp at any depth\n",
    "abHeatFn = -1.*velocityField[1]*temperatureField*ndp.Di #a function providing the adiabatic heating rate"
   ]
  },
  {
   "cell_type": "code",
   "execution_count": null,
   "metadata": {
    "collapsed": false
   },
   "outputs": [],
   "source": []
  },
  {
   "cell_type": "code",
   "execution_count": 256,
   "metadata": {
    "collapsed": false
   },
   "outputs": [],
   "source": [
    "###########\n",
    "#Thermal initial condition:\n",
    "#if symmetricIC, we build a symmetric downwelling on top of a sinusoidal perturbation\n",
    "##########\n",
    "\n",
    "#Sinusoidal initial condition\n",
    "A = 0.2\n",
    "sinFn = depthFn + A*(fn.math.cos( math.pi * coordinate[0])  * fn.math.sin( math.pi * coordinate[1] ))        \n",
    "iD = 1000e3/dp.LS #Initial Slab depth\n",
    "dl =  2*math.sqrt(dp.k*160e6*3600*24*365) #diffusion Length at ... My\n",
    "w0 = dl/dp.LS #Boundary layer/slab initial condition\n",
    "delX1 = fn.misc.min(fn.math.abs(coordinate[0] - -0.), fn.math.abs(coordinate[0] - -2.))\n",
    "delX = fn.misc.min(delX1 , fn.math.abs(coordinate[0] - 2.))\n",
    "w = w0*fn.math.sqrt(delX + 1e-7)\n",
    "tempBL = (potTempFn) *fn.math.erf((depthFn)/w) + ndp.TSP\n",
    "delX = fn.misc.min(fn.math.abs(coordinate[0] - - 1.) , fn.math.abs(coordinate[0] - 1.))\n",
    "tempSlab = (potTempFn ) *fn.math.erf((delX*2.)/w0) + ndp.TSP       \n",
    "tempFn1 =  fn.misc.min(tempBL, tempSlab)\n",
    "blFn = fn.branching.conditional([(depthFn < iD, tempFn1), \n",
    "                                    (True, potTempFn)])\n",
    "\n",
    "tempFn = 0.*sinFn + 1.*blFn #partition the temp between these the symmetric downwelling and sinusoid\n",
    "if symmetricIC:  \n",
    "    if not checkpointLoad:\n",
    "        temperatureField.data[:] = tempFn.evaluate(mesh)  "
   ]
  },
  {
   "cell_type": "code",
   "execution_count": 257,
   "metadata": {
    "collapsed": false
   },
   "outputs": [],
   "source": [
    "###########\n",
    "#Thermal initial condition 2: \n",
    "#if symmetricIC == False, we build an asymmetric subduction-zone\n",
    "###########\n",
    "\n",
    "#Main control paramters are:\n",
    "\n",
    "#Roc = 550e3 #radius of curvature of slab\n",
    "Roc = 550e3 #radius of curvature of slab\n",
    "\n",
    "theta = 89. #Angle to truncate the slab (can also do with with a cutoff depth)\n",
    "subzone = 0.0 #X position of subduction zone...in model coordinates\n",
    "slabmaxAge = 60e6 #age of subduction plate at trench\n",
    "platemaxAge = 60e6 #max age of slab (Plate model)\n",
    "ageAtTrenchSeconds = min(platemaxAge*(3600*24*365), slabmaxAge*(3600*24*365))\n",
    "\n",
    "\n",
    "sense = 'Right' #dip direction\n",
    "op_age_fac = 1. #this controls the overidding plate speed, hence age reduction\n",
    "\n",
    "\n",
    "#First build the top TBL\n",
    "#Create functions between zero and one, to control age distribution\n",
    "ageFn1 = fn.misc.max(0., (1. - 1.1*fn.math.abs(xFn)/(aspectRatio/2.) ))\n",
    "ageFn  = fn.branching.conditional([(coordinate[0] <= 0, ageFn1),\n",
    "                                  (True, ageFn1/op_age_fac)])\n",
    "\n",
    "#dimensionlize the age function\n",
    "ageFn *= slabmaxAge*(3600*24*365)\n",
    "#ageFn = fn.misc.min(ageFn, platemaxAge*(3600*24*365)) #apply plate model\n",
    "\n",
    "w0 = (2.*math.sqrt(dp.k*ageAtTrenchSeconds))/dp.LS #diffusion depth of plate at the trench\n",
    "\n",
    "tempBL = (potTempFn) *fn.math.erf((depthFn*dp.LS)/(2.*fn.math.sqrt(dp.k*ageFn))) + ndp.TSP #boundary layer function\n",
    "\n",
    "tempTBL =  fn.branching.conditional([(depthFn < w0, tempBL),\n",
    "                          (True, potTempFn)])\n",
    "\n",
    "if not symmetricIC:\n",
    "    if not checkpointLoad:\n",
    "        out = uw.utils.MeshVariable_Projection( temperatureField, tempTBL) #apply function with projection\n",
    "        out.solve()\n",
    "\n",
    "\n",
    "#Now build the perturbation part\n",
    "def inCircleFnGenerator(centre, radius):\n",
    "    coord = fn.input()\n",
    "    offsetFn = coord - centre\n",
    "    return fn.math.dot( offsetFn, offsetFn ) < radius**2\n",
    "\n",
    "#Setup slab perturbation params (mostly dimensionlesl / model params here)\n",
    "phi = 90. - theta\n",
    "RocM = (Roc/dp.LS)\n",
    "CrustM = MANTLETOCRUST\n",
    "Org = (subzone, 1.-RocM)\n",
    "maxDepth = 250e3/dp.LS\n",
    "\n",
    "#We use three circles to define our slab and crust perturbation,  \n",
    "Oc = inCircleFnGenerator(Org , RocM)\n",
    "Ic = inCircleFnGenerator(Org , RocM - w0)\n",
    "Cc = inCircleFnGenerator(Org , RocM + (1.5*CrustM)) #... weak zone on 'outside' of slab\n",
    "dx = (RocM)/(np.math.tan((np.math.pi/180.)*phi))\n",
    "\n",
    "#We'll also create a triangle which will truncate the circles defining the slab...\n",
    "if sense == 'Left':\n",
    "    ptx = subzone - dx\n",
    "else:\n",
    "    ptx = subzone + dx\n",
    "coords = ((0.+subzone, 1), (0.+subzone, 1.-RocM), (ptx, 1.))\n",
    "Tri = fn.shape.Polygon(np.array(coords))\n",
    "\n",
    "#Actually apply the perturbation\n",
    "if not symmetricIC:\n",
    "    if not checkpointLoad:\n",
    "        sdFn = ((RocM - fn.math.sqrt((coordinate[0] - Org[0])**2. + (coordinate[1] - Org[1])**2.)))\n",
    "        slabFn = ndp.TPP*fn.math.erf((sdFn*dp.LS)/(2.*math.sqrt(dp.k*ageAtTrenchSeconds))) + ndp.TSP\n",
    "        for index, coord in enumerate(mesh.data):\n",
    "            if (\n",
    "                Oc.evaluate(tuple(coord)) and\n",
    "                Tri.evaluate(tuple(coord)) and not\n",
    "                Ic.evaluate(tuple(coord)) and\n",
    "                coord[1] > (1. - maxDepth)\n",
    "                ): #In the quarter-circle defining the lithosphere\n",
    "                temperatureField.data[index] = slabFn.evaluate(mesh)[index]\n",
    "\n"
   ]
  },
  {
   "cell_type": "code",
   "execution_count": 258,
   "metadata": {
    "collapsed": false
   },
   "outputs": [],
   "source": [
    "#Make sure material in sticky air region is at the surface temperature.\n",
    "for index, coord in enumerate(mesh.data):\n",
    "            if coord[1] >= 1.:\n",
    "                temperatureField.data[index] = ndp.TSP"
   ]
  },
  {
   "cell_type": "code",
   "execution_count": 259,
   "metadata": {
    "collapsed": false
   },
   "outputs": [],
   "source": [
    "#fn.math.erf((sdFn*dp.LS)/(2.*fn.math.sqrt(dp.k*(slabmaxAge*(3600*24*365))))) "
   ]
  },
  {
   "cell_type": "code",
   "execution_count": 260,
   "metadata": {
    "collapsed": false,
    "scrolled": true
   },
   "outputs": [],
   "source": [
    "fig= glucifer.Figure()\n",
    "fig.append( glucifer.objects.Surface(mesh, temperatureField))\n",
    "\n",
    "#fig.append(glucifer.objects.Mesh(mesh))\n",
    "#fig.save_database('test.gldb')\n",
    "\n",
    "#fig.show()"
   ]
  },
  {
   "cell_type": "markdown",
   "metadata": {},
   "source": [
    "def matplot_field(temperatureField, dp):\n",
    "    if uw.nProcs() != 1:\n",
    "        print(\"only in Serial folks\")\n",
    "    else:\n",
    "        import matplotlib.pyplot as pyplt\n",
    "        try :\n",
    "            if(__IPYTHON__) :\n",
    "                get_ipython().magic(u'matplotlib inline')\n",
    "        except NameError :\n",
    "            pass\n",
    "        field_data = temperatureField.data.reshape(mesh.elementRes[1] + 1, mesh.elementRes[0] + 1)\n",
    "        fig, ax = pyplt.subplots()\n",
    "        ql = dp.LS/1e3\n",
    "        pyplt.ioff()\n",
    "        ax.imshow(np.flipud(field_data), cmap='coolwarm', extent=[0,ql*aspectRatio,ql, 0])\n",
    "        #ax.set_x([0,dp.LS*aspectRatio])\n",
    "        \n",
    "        return fig, ax\n",
    "        \n",
    "fig, ax = matplot_field(temperatureField, dp)\n",
    "#show_colormap('cubehelix')        "
   ]
  },
  {
   "cell_type": "markdown",
   "metadata": {},
   "source": [
    "Boundary conditions\n",
    "-------"
   ]
  },
  {
   "cell_type": "code",
   "execution_count": 261,
   "metadata": {
    "collapsed": false
   },
   "outputs": [
    {
     "name": "stdout",
     "output_type": "stream",
     "text": [
      "2\n"
     ]
    }
   ],
   "source": [
    "for index in mesh.specialSets[\"MinJ_VertexSet\"]:\n",
    "    temperatureField.data[index] = ndp.TBP\n",
    "for index in mesh.specialSets[\"MaxJ_VertexSet\"]:\n",
    "    temperatureField.data[index] = ndp.TSP\n",
    "    \n",
    "iWalls = mesh.specialSets[\"MinI_VertexSet\"] + mesh.specialSets[\"MaxI_VertexSet\"]\n",
    "jWalls = mesh.specialSets[\"MinJ_VertexSet\"] + mesh.specialSets[\"MaxJ_VertexSet\"]\n",
    "tWalls = mesh.specialSets[\"MaxJ_VertexSet\"]\n",
    "bWalls =mesh.specialSets[\"MinJ_VertexSet\"]\n",
    "\n",
    "VelBCs = mesh.specialSets[\"Empty\"]\n",
    "\n",
    "\n",
    "\n",
    "if VelBC:\n",
    "    for index in list(tWalls.data):\n",
    "\n",
    "        if (mesh.data[int(index)][0] < (subzone - 0.05*aspectRatio) and \n",
    "            mesh.data[int(index)][0] > (mesh.minCoord[0] + 0.05*aspectRatio)): #Only push with a portion of teh overiding plate\n",
    "            #print \"first\"\n",
    "            VelBCs.add(int(index))\n",
    "            #Set the plate velocities for the kinematic phase\n",
    "            velocityField.data[index] = [ndp.plate_vel, 0.]\n",
    "        \n",
    "        elif (mesh.data[int(index)][0] > (subzone + 0.05*aspectRatio) and \n",
    "            mesh.data[int(index)][0] < (mesh.maxCoord[0] - 0.05*aspectRatio)):\n",
    "            #print \"second\"\n",
    "            VelBCs.add(int(index))\n",
    "            #Set the plate velocities for the kinematic phase\n",
    "            velocityField.data[index] = [0., 0.]\n",
    "        \n",
    "\n",
    "#If periodic, we'll fix a the x-vel at a single node - at the bottom left (index 0)\n",
    "Fixed = mesh.specialSets[\"Empty\"]\n",
    "Fixed.add(int(0))        \n",
    "        \n",
    "\n",
    "if periodic[0] == False:\n",
    "    if VelBC:\n",
    "        print(1)\n",
    "        freeslipBC = uw.conditions.DirichletCondition( variable      = velocityField, \n",
    "                                               indexSetsPerDof = ( iWalls + VelBCs, jWalls) )\n",
    "    else:\n",
    "        print(2)\n",
    "        freeslipBC = uw.conditions.DirichletCondition( variable      = velocityField, \n",
    "                                               indexSetsPerDof = ( iWalls, jWalls) )\n",
    "\n",
    "\n",
    "\n",
    "\n",
    "\n",
    "\n",
    "if periodic[0] == True:\n",
    "    if VelBC:\n",
    "        print(3)\n",
    "        freeslipBC = uw.conditions.DirichletCondition( variable      = velocityField, \n",
    "                                               indexSetsPerDof = ( Fixed + VelBCs , jWalls) )\n",
    "    else:\n",
    "        print(4)\n",
    "        freeslipBC = uw.conditions.DirichletCondition( variable      = velocityField, \n",
    "                                               indexSetsPerDof = ( Fixed, jWalls) )\n",
    "        \n",
    "    \n",
    "    \n",
    "    \n",
    "# also set dirichlet for temp field\n",
    "dirichTempBC = uw.conditions.DirichletCondition(     variable=temperatureField, \n",
    "                                              indexSetsPerDof=(tWalls,) )\n",
    "dT_dy = [0.,0.]\n",
    "\n",
    "# also set dirichlet for temp field\n",
    "neumannTempBC = uw.conditions.NeumannCondition( dT_dy, variable=temperatureField, \n",
    "                                         nodeIndexSet=bWalls)\n",
    "\n"
   ]
  },
  {
   "cell_type": "code",
   "execution_count": null,
   "metadata": {
    "collapsed": false
   },
   "outputs": [],
   "source": []
  },
  {
   "cell_type": "code",
   "execution_count": 262,
   "metadata": {
    "collapsed": false
   },
   "outputs": [],
   "source": [
    "#check VelBCs are where we want them\n",
    "#test = np.zeros(len(tWalls.data))\n",
    "#VelBCs\n",
    "#tWalls.data\n",
    "#tWalls.data[VelBCs.data]\n",
    "#test[np.in1d(tWalls.data, VelBCs.data)] = 1.\n",
    "#test\n",
    "\n"
   ]
  },
  {
   "cell_type": "code",
   "execution_count": null,
   "metadata": {
    "collapsed": false
   },
   "outputs": [],
   "source": []
  },
  {
   "cell_type": "markdown",
   "metadata": {},
   "source": [
    "Swarm setup\n",
    "-----\n"
   ]
  },
  {
   "cell_type": "code",
   "execution_count": 263,
   "metadata": {
    "collapsed": false
   },
   "outputs": [],
   "source": [
    "###########\n",
    "#Material Swarm and variables\n",
    "###########\n",
    "\n",
    "#create material swarm\n",
    "gSwarm = uw.swarm.Swarm(mesh=mesh, particleEscape=True)\n",
    "\n",
    "#create swarm variables\n",
    "yieldingCheck = gSwarm.add_variable( dataType=\"int\", count=1 )\n",
    "tracerVariable = gSwarm.add_variable( dataType=\"int\", count=1)\n",
    "materialVariable = gSwarm.add_variable( dataType=\"int\", count=1 )\n",
    "ageVariable = gSwarm.add_variable( dataType=\"float\", count=1 )\n",
    "\n",
    "\n",
    "#these lists  are part of the checkpointing implementation\n",
    "varlist = [tracerVariable, tracerVariable, yieldingCheck]\n",
    "varlist = [materialVariable, yieldingCheck, ageVariable]\n",
    "varnames = ['materialVariable', 'yieldingCheck', 'ageVariable']"
   ]
  },
  {
   "cell_type": "code",
   "execution_count": 264,
   "metadata": {
    "collapsed": false
   },
   "outputs": [],
   "source": [
    "mantleIndex = 0\n",
    "crustIndex = 1\n",
    "harzIndex = 2\n",
    "airIndex = 3\n",
    "\n",
    "\n",
    "\n",
    "if checkpointLoad:\n",
    "    checkpointLoadDir = natsort.natsort(checkdirs)[-1]\n",
    "    temperatureField.load(os.path.join(checkpointLoadDir, \"temperatureField\" + \".hdf5\"))\n",
    "    pressureField.load(os.path.join(checkpointLoadDir, \"pressureField\" + \".hdf5\"))\n",
    "    velocityField.load(os.path.join(checkpointLoadDir, \"velocityField\" + \".hdf5\"))\n",
    "    gSwarm.load(os.path.join(checkpointLoadDir, \"swarm\" + \".h5\"))\n",
    "    for ix in range(len(varlist)):\n",
    "        varb = varlist[ix]\n",
    "        varb.load(os.path.join(checkpointLoadDir,varnames[ix] + \".h5\"))\n",
    "\n",
    "else:\n",
    "\n",
    "    # Layouts are used to populate the swarm across the whole domain\n",
    "    layout = uw.swarm.layouts.PerCellRandomLayout(swarm=gSwarm, particlesPerCell=ppc)\n",
    "    gSwarm.populate_using_layout( layout=layout ) # Now use it to populate.\n",
    "    # Swarm variables\n",
    "    materialVariable.data[:] = mantleIndex\n",
    "    tracerVariable.data[:] = 1\n",
    "    yieldingCheck.data[:] = 0\n",
    "    ageVariable.data[:] = -1\n",
    "\n",
    "    #Set initial air and crust materials (allow the graph to take care of lithsophere)\n",
    "    #########\n",
    "    #This initial material setup will be model dependent\n",
    "    #########\n",
    "    for particleID in range(gSwarm.particleCoordinates.data.shape[0]):\n",
    "        if (1. - gSwarm.particleCoordinates.data[particleID][1]) < MANTLETOCRUST:\n",
    "                 materialVariable.data[particleID] = crustIndex"
   ]
  },
  {
   "cell_type": "code",
   "execution_count": 265,
   "metadata": {
    "collapsed": false
   },
   "outputs": [],
   "source": [
    "###########\n",
    "#This block sets up a checkboard layout of passive tracers\n",
    "###########\n",
    "\n",
    "square_size = 0.1\n",
    "xlist = np.arange(mesh.minCoord[0] + square_size/2., mesh.maxCoord[0] + square_size/2., square_size)\n",
    "xlist = zip(xlist[:], xlist[1:])[::2]\n",
    "ylist = np.arange(mesh.minCoord[1] + square_size/2., mesh.maxCoord[1] + square_size/2., square_size)\n",
    "ylist = zip(ylist[:], ylist[1:])[::2]\n",
    "xops = []\n",
    "for vals in xlist:\n",
    "    xops.append( (operator.and_(   operator.gt(coordinate[0],vals[0]),   operator.lt(coordinate[0],vals[1])  ),0.) )\n",
    "xops.append((True,1.))\n",
    "\n",
    "testfunc = fn.branching.conditional(xops) \n",
    "\n",
    "yops = []\n",
    "for vals in ylist:\n",
    "    yops.append( (operator.and_(   operator.gt(coordinate[1],vals[0]),   operator.lt(coordinate[1],vals[1])  ),0.) )\n",
    "yops.append((True,testfunc))\n",
    "\n",
    "testfunc2 = fn.branching.conditional(yops) \n",
    "tracerVariable.data[:] = testfunc.evaluate(gSwarm)\n",
    "tracerVariable.data[:] = testfunc2.evaluate(gSwarm)"
   ]
  },
  {
   "cell_type": "code",
   "execution_count": 305,
   "metadata": {
    "collapsed": false
   },
   "outputs": [
    {
     "data": {
      "text/plain": [
       "(0.0, 1.9999999e-05, 2e-05)"
      ]
     },
     "execution_count": 305,
     "metadata": {},
     "output_type": "execute_result"
    }
   ],
   "source": [
    "ageVariable.data.min(), ageVariable.data.max(), ageDT"
   ]
  },
  {
   "cell_type": "code",
   "execution_count": 266,
   "metadata": {
    "collapsed": false
   },
   "outputs": [
    {
     "data": {
      "text/plain": [
       "array([  0.00000000e+00,   1.99999995e-05], dtype=float32)"
      ]
     },
     "execution_count": 266,
     "metadata": {},
     "output_type": "execute_result"
    }
   ],
   "source": [
    "#Set the inital particle age, for particles above the critical depth \n",
    "#(only these will be transformed to crust / harzburgite)\n",
    "\n",
    "ageVariable.data[:] = 0. #start with all zero\n",
    "crustageCond = 1e-05 #set inital age above critical depth. (about 1.2 Ma.) Might have to be shorter than this - need to experiment\n",
    "ageDT = crustageCond + 1e-5 #initalize ages\n",
    "ageConditions = [ (depthFn < 100e3/dp.LS , ageDT),  \n",
    "                  (True, 0.) ]\n",
    "                 \n",
    "\n",
    "ageEval = fn.branching.conditional( ageConditions ).evaluate(gSwarm)\n",
    "ageVariable.data[np.where(ageEval == 0)] = 0 #If below the critical depth, age is set to zero\n",
    "ageVariable.data[np.where(ageEval != 0)] += ageDT #If age above critical depth, increment age\n",
    "\n",
    "np.unique(ageVariable.data)"
   ]
  },
  {
   "cell_type": "markdown",
   "metadata": {
    "collapsed": false
   },
   "source": [
    "Swarm control (material graph)\n",
    "-----\n",
    "\n"
   ]
  },
  {
   "cell_type": "code",
   "execution_count": null,
   "metadata": {
    "collapsed": false
   },
   "outputs": [],
   "source": [
    "\n"
   ]
  },
  {
   "cell_type": "code",
   "execution_count": 267,
   "metadata": {
    "collapsed": false
   },
   "outputs": [],
   "source": [
    "##############\n",
    "#Here we set up a directed graph object that we we use to control the transformation from one material type to another\n",
    "##############\n",
    "\n",
    "#All depth conditions are given as (km/D) where D is the length scale,\n",
    "#note that 'model depths' are used, e.g. 1-z, where z is the vertical Underworld coordinate\n",
    "#All temp conditions are in dimensionless temp. [0. - 1.]\n",
    "\n",
    "#This is a quick fix for a bug that arises in parallel runs\n",
    "material_list = [0,1,2,3]\n",
    "\n",
    "if not checkpointLoad:\n",
    "    materialVariable.data[:] = 0 #Initialize to zero \n",
    "\n",
    "#Setup the graph object\n",
    "DG = material_graph.MatGraph()\n",
    "\n",
    "#Important: First thing to do is to add all the material types to the graph (i.e add nodes)\n",
    "DG.add_nodes_from(material_list)\n",
    "\n",
    "#Now set the conditions for transformations\n",
    "\n",
    "#... to mantle\n",
    "DG.add_transition((crustIndex,mantleIndex), depthFn, operator.gt, CRUSTTOMANTLE)\n",
    "DG.add_transition((harzIndex,mantleIndex), depthFn, operator.gt, CRUSTTOMANTLE)\n",
    "#DG.add_transition((airIndex,mantleIndex), depthFn, operator.gt, TOPOHEIGHT)\n",
    "\n",
    "#... to crust\n",
    "DG.add_transition((mantleIndex,crustIndex), depthFn, operator.lt, MANTLETOCRUST)\n",
    "DG.add_transition((mantleIndex,crustIndex), xFn, operator.lt, 0. + 7.*MANTLETOCRUST) #No crust on the upper plate\n",
    "DG.add_transition((mantleIndex,crustIndex), ageVariable, operator.gt, crustageCond)\n",
    "\n",
    "DG.add_transition((harzIndex,crustIndex), depthFn, operator.lt, MANTLETOCRUST)\n",
    "DG.add_transition((harzIndex,crustIndex), xFn, operator.lt, 0. + 7.*MANTLETOCRUST) #This one sets no crust on the upper plate\n",
    "DG.add_transition((harzIndex,crustIndex), ageVariable, operator.gt, crustageCond)\n",
    "\n",
    "#... to Harzbugite\n",
    "DG.add_transition((mantleIndex,harzIndex), depthFn, operator.lt, HARZBURGDEPTH)\n",
    "DG.add_transition((mantleIndex,harzIndex), depthFn, operator.gt, MANTLETOCRUST)\n",
    "DG.add_transition((mantleIndex,harzIndex), ageVariable, operator.gt, crustageCond) #Note we can mix functions and swarm variabls\n",
    "\n",
    "#... to air\n",
    "#DG.add_transition((mantleIndex,airIndex), depthFn, operator.lt,0. - TOPOHEIGHT)\n",
    "#DG.add_transition((crustIndex,airIndex), depthFn, operator.lt, 0. - TOPOHEIGHT)\n",
    "\n"
   ]
  },
  {
   "cell_type": "code",
   "execution_count": 268,
   "metadata": {
    "collapsed": false
   },
   "outputs": [
    {
     "data": {
      "text/plain": [
       "(0.15, 0.02135, 0.0525)"
      ]
     },
     "execution_count": 268,
     "metadata": {},
     "output_type": "execute_result"
    }
   ],
   "source": [
    "CRUSTTOMANTLE, HARZBURGDEPTH, 0. + 7.*MANTLETOCRUST"
   ]
  },
  {
   "cell_type": "code",
   "execution_count": 269,
   "metadata": {
    "collapsed": false
   },
   "outputs": [],
   "source": [
    "##############\n",
    "#For the slab_IC, we'll also add a crustal weak zone following the dipping perturbation\n",
    "##############\n",
    "\n",
    "if checkpointLoad != True:\n",
    "    if not symmetricIC:\n",
    "        for particleID in range(gSwarm.particleCoordinates.data.shape[0]):\n",
    "            if (\n",
    "                Cc.evaluate(list(gSwarm.particleCoordinates.data[particleID])) and\n",
    "                Tri.evaluate(list(gSwarm.particleCoordinates.data[particleID])) and\n",
    "                Oc.evaluate(list(gSwarm.particleCoordinates.data[particleID])) == False\n",
    "                ):\n",
    "                materialVariable.data[particleID] = crustIndex"
   ]
  },
  {
   "cell_type": "code",
   "execution_count": 270,
   "metadata": {
    "collapsed": false
   },
   "outputs": [],
   "source": [
    "##############\n",
    "#This is how we use the material graph object to test / apply material transformations\n",
    "##############\n",
    "DG.build_condition_list(materialVariable)\n",
    "for i in range(3): #Need to go through a number of times\n",
    "    materialVariable.data[:] = fn.branching.conditional(DG.condition_list).evaluate(gSwarm)"
   ]
  },
  {
   "cell_type": "code",
   "execution_count": 271,
   "metadata": {
    "collapsed": false
   },
   "outputs": [],
   "source": [
    "#DG.build_condition_list(materialVariable)\n",
    "#materialVariable.data[:] = fn.branching.conditional(DG.condition_list).evaluate(gSwarm)"
   ]
  },
  {
   "cell_type": "markdown",
   "metadata": {
    "collapsed": false
   },
   "source": [
    "## Temp, phase and compositional buoyancy"
   ]
  },
  {
   "cell_type": "code",
   "execution_count": 272,
   "metadata": {
    "collapsed": true
   },
   "outputs": [],
   "source": [
    "##############\n",
    "#Put this in Slippy\n",
    "##############\n",
    "\n",
    "from easydict import EasyDict as edict\n",
    "class component_phases():\n",
    "    \"\"\"\n",
    "    Class that allows you to create 'phase functions' for a mineral component\n",
    "\n",
    "    \"\"\"\n",
    "    def __init__(self,name, depths,temps, widths,claps,densities):\n",
    "        \"\"\"\n",
    "        Class initialiser.\n",
    "        Parameter\n",
    "        ---------\n",
    "        name : str\n",
    "            'Component', e.g olivine, pyroxene-garnet\n",
    "        depths: list\n",
    "            list of transition depths in kilometers\n",
    "        widths: list \n",
    "            list of transition widths in kilometers\n",
    "        claps: list \n",
    "            list of Clapeyron slopes in Pa/K\n",
    "        densities: list\n",
    "            list of density changes in kg/m3\n",
    "        Returns\n",
    "        -------\n",
    "        mesh : dp\n",
    "        Dictionary storing the phase-transition vales\n",
    "\n",
    "        \"\"\"\n",
    "        if not isinstance(depths,list):\n",
    "            raise TypeError(\"depths object passed in must be of type 'list'\")\n",
    "        if not isinstance(temps,list):\n",
    "            raise TypeError(\"temps object passed in must be of type 'list'\")\n",
    "        if not isinstance(widths,list):\n",
    "            raise TypeError(\"widths object passed in must be of type 'list'\")\n",
    "        if not isinstance(claps,list):\n",
    "            raise TypeError(\"claps object passed in must be of type 'list'\")\n",
    "        if not isinstance(densities,list):\n",
    "            raise TypeError(\"densities object passed in must be of type 'list'\")\n",
    "        if not len(depths) == len(widths) == len(claps) == len(densities):\n",
    "            raise ValueError( \"All lists of phase values should be the same length\")\n",
    "        self.dp = edict({})\n",
    "        self.dp.name = name\n",
    "        self.dp.depths = depths\n",
    "        self.dp.temps = temps\n",
    "        self.dp.widths = widths\n",
    "        self.dp.claps = claps\n",
    "        self.dp.densities = densities\n",
    "        \n",
    "    def build_nd_dict(self, lengthscale, densityscale, gravityscale, tempscale):\n",
    "        self.ndp = edict({})\n",
    "        self.ndp.name = self.dp.name\n",
    "        self.ndp.depths = [i/lengthscale for i in self.dp.depths]\n",
    "        self.ndp.temps = [i/tempscale for i in self.dp.temps]\n",
    "        self.ndp.widths = [i/lengthscale for i in self.dp.widths]\n",
    "        self.ndp.claps = [(i*(tempscale/(densityscale*gravityscale*lengthscale))) for i in self.dp.claps]\n",
    "        \n",
    "    def nd_reduced_pressure(self, depthFn, temperatureField, depthPh, clapPh, tempPh):\n",
    "        \"\"\"\n",
    "        Creates an Underworld function, representing the 'reduced pressure'\n",
    "        \"\"\"\n",
    "        return (depthFn - depthPh) - clapPh*(temperatureField - tempPh)\n",
    "\n",
    "    def nd_phase(self, reduced_p, widthPh):\n",
    "        \"\"\"\n",
    "        Creates an Underworld function, representing the phase function in the domain\n",
    "        \"\"\"\n",
    "        return 0.5*(1. + fn.math.tanh(reduced_p/(widthPh)))\n",
    "    \n",
    "    def phase_function_sum(self, temperatureField, depthFn):\n",
    "        \"\"\"\n",
    "        Creates an Underworld function, representing the Sum of the individual phase functions:\n",
    "        -----------\n",
    "        temperatureField : underworld.mesh._meshvariable.MeshVariable\n",
    "        \n",
    "        ...need to put warning in about running build_nd_dict first \n",
    "        \"\"\"    \n",
    "        \n",
    "        pf_sum = uw.function.misc.constant(0.)\n",
    "        \n",
    "        for phaseId in range(len(self.dp['depths'])):\n",
    "            #build reduced pressure\n",
    "            rp = self.nd_reduced_pressure(depthFn, \n",
    "                                   temperatureField,\n",
    "                                   self.ndp['depths'][phaseId ],\n",
    "                                   self.ndp['claps'][phaseId ],\n",
    "                                   self.ndp['temps'][phaseId ])\n",
    "            #build phase function\n",
    "            pf = self.nd_phase(rp, self.ndp['widths'][phaseId ])\n",
    "            pf_sum += pf\n",
    "        \n",
    "        return pf_sum\n",
    "    \n",
    "    def buoyancy_sum(self, temperatureField, depthFn, gravityscale, lengthscale, diffusivityscale, viscosityscale):\n",
    "        \"\"\"\n",
    "        Creates an Underworld function, representing the Sum of the individual phase functions...\n",
    "        and the associated density changes:\n",
    "        \n",
    "        pf_sum = Sum_k{ (Ra*delRho_k*pf_k/rho_0*eta_0*delta_t)}\n",
    "        -----------\n",
    "        temperatureField : underworld.mesh._meshvariable.MeshVariable\n",
    "        \n",
    "        ...need to put warning in about running build_nd_dict first \n",
    "        \"\"\"\n",
    "        bouyancy_factor = (gravityscale*lengthscale**3)/(viscosityscale*diffusivityscale)\n",
    "        \n",
    "        pf_sum = uw.function.misc.constant(0.)\n",
    "        \n",
    "        for phaseId in range(len(self.dp['depths'])):\n",
    "            #build reduced pressure\n",
    "            rp = self.nd_reduced_pressure(depthFn, \n",
    "                                   temperatureField,\n",
    "                                   self.ndp['depths'][phaseId ],\n",
    "                                   self.ndp['claps'][phaseId ],\n",
    "                                   self.ndp['temps'][phaseId ])\n",
    "            #build phase function\n",
    "            pf = self.nd_phase(rp, self.ndp['widths'][phaseId ])\n",
    "            pf_sum += bouyancy_factor*pf*self.dp['densities'][phaseId ] #we want the dimensional densities here\n",
    "        \n",
    "        return pf_sum"
   ]
  },
  {
   "cell_type": "code",
   "execution_count": 273,
   "metadata": {
    "collapsed": false
   },
   "outputs": [],
   "source": [
    "##############\n",
    "#Set up phase buoyancy contributions\n",
    "##############\n",
    "\n",
    "\n",
    "#olivine\n",
    "olivinePhase = component_phases(name = 'ol', \n",
    "                        depths=[410e3,660e3],\n",
    "                        temps = [1600., 1900.], \n",
    "                        widths = [20e3, 20e3], \n",
    "                        claps=[2.e6, -2.5e6], \n",
    "                        densities = [180., 400.])\n",
    "\n",
    "olivinePhase.build_nd_dict(dp.LS, dp.rho, dp.g, dp.deltaTa)\n",
    "\n",
    "\n",
    "rp = olivinePhase.nd_reduced_pressure(depthFn, \n",
    "                                   temperatureField,\n",
    "                                   olivinePhase.ndp['depths'][0],\n",
    "                                   olivinePhase.ndp['claps'][0],\n",
    "                                   olivinePhase.ndp['temps'][0])\n",
    "\n",
    "#ph_410 = olivinePhase.nd_phase(rp, test.ndp['widths'][0])\n",
    "#pf_sum = test.phase_function_sum(temperatureField, depthFn)\n",
    "\n",
    "olivine_phase_buoyancy = olivinePhase.buoyancy_sum(temperatureField, depthFn, dp.g, dp.LS, dp.k, dp.eta0)\n",
    "\n",
    "#garnet\n",
    "garnetPhase = component_phases(name = 'grt', \n",
    "                        depths=[60e3,400e3, 720e3],\n",
    "                        temps = [1000., 1600., 1900.], \n",
    "                        widths = [20e3, 20e3, 20e3], \n",
    "                        claps=[0.e6, 1.e6, 1.e6], \n",
    "                        densities = [350., 150., 400.])\n",
    "\n",
    "garnetPhase.build_nd_dict(dp.LS, dp.rho, dp.g, dp.deltaTa)\n",
    "\n",
    "\n",
    "rp = garnetPhase.nd_reduced_pressure(depthFn, \n",
    "                                   temperatureField,\n",
    "                                   garnetPhase.ndp['depths'][0],\n",
    "                                   garnetPhase.ndp['claps'][0],\n",
    "                                   garnetPhase.ndp['temps'][0])\n",
    "\n",
    "#ph_410 = olivinePhase.nd_phase(rp, test.ndp['widths'][0])\n",
    "#pf_sum = test.phase_function_sum(temperatureField, depthFn)\n",
    "\n",
    "garnet_phase_buoyancy = garnetPhase.buoyancy_sum(temperatureField, depthFn, dp.g, dp.LS, dp.k, dp.eta0)"
   ]
  },
  {
   "cell_type": "code",
   "execution_count": 274,
   "metadata": {
    "collapsed": false
   },
   "outputs": [
    {
     "name": "stdout",
     "output_type": "stream",
     "text": [
      "(141120000.0, 25480000.0, 0.0)\n"
     ]
    }
   ],
   "source": [
    "##############\n",
    "#Set up compositional buoyancy contributions\n",
    "##############\n",
    "\n",
    "bouyancy_factor = (dp.g*dp.LS**3)/(dp.eta0*dp.k)\n",
    "\n",
    "basalt_comp_buoyancy  = (dp.rho - 2940.)*bouyancy_factor\n",
    "harz_comp_buoyancy = (dp.rho - 3235.)*bouyancy_factor\n",
    "pyrolite_comp_buoyancy = (dp.rho - 3300.)*bouyancy_factor\n",
    "\n",
    "print(basalt_comp_buoyancy, harz_comp_buoyancy, pyrolite_comp_buoyancy)"
   ]
  },
  {
   "cell_type": "code",
   "execution_count": 275,
   "metadata": {
    "collapsed": false
   },
   "outputs": [],
   "source": [
    "#this accounts for the decreas in expansivity\n",
    "alphaRatio = 1.2/3\n",
    "taFn = 1. - (depthFn)*(1. - alphaRatio) \n",
    "#raylieghFn = ndp.RA*temperatureField*taFn\n",
    "\n",
    "\n",
    "if not compBuoyancy:\n",
    "    pyrolitebuoyancyFn =  (ndp.RA*temperatureField*taFn)\n",
    "    harzbuoyancyFn =      (ndp.RA*temperatureField*taFn) \n",
    "    basaltbuoyancyFn =    (ndp.RA*temperatureField*taFn)\n",
    "\n",
    "else : \n",
    "    pyrolitebuoyancyFn =  (ndp.RA*temperatureField*taFn) -\\\n",
    "                          (0.6*olivine_phase_buoyancy + 0.4*garnet_phase_buoyancy) +\\\n",
    "                           pyrolite_comp_buoyancy\n",
    "    harzbuoyancyFn =      (ndp.RA*temperatureField*taFn) -\\\n",
    "                          (0.8*olivine_phase_buoyancy + 0.2*garnet_phase_buoyancy) +\\\n",
    "                           harz_comp_buoyancy\n",
    "    basaltbuoyancyFn =    (ndp.RA*temperatureField*taFn) -\\\n",
    "                          (1.*garnet_phase_buoyancy) +\\\n",
    "                           basalt_comp_buoyancy"
   ]
  },
  {
   "cell_type": "markdown",
   "metadata": {},
   "source": [
    "Rheology\n",
    "-----\n",
    "\n"
   ]
  },
  {
   "cell_type": "code",
   "execution_count": 276,
   "metadata": {
    "collapsed": false
   },
   "outputs": [],
   "source": [
    "# The yeilding of the upper slab is dependent on the strain rate.\n",
    "strainRate_2ndInvariant = fn.tensor.second_invariant( \n",
    "                            fn.tensor.symmetric( \n",
    "                            velocityField.fn_gradient ))\n",
    "\n"
   ]
  },
  {
   "cell_type": "code",
   "execution_count": 277,
   "metadata": {
    "collapsed": false
   },
   "outputs": [],
   "source": [
    "ViscReduce = 1.\n",
    "\n",
    "ndp.Wds *= ViscReduce\n",
    "ndp.Wdf *= ViscReduce\n",
    "ndp.Eds *= ViscReduce\n",
    "ndp.Edf *= ViscReduce"
   ]
  },
  {
   "cell_type": "code",
   "execution_count": 278,
   "metadata": {
    "collapsed": false
   },
   "outputs": [
    {
     "data": {
      "text/plain": [
       "(49.15683109565078, 17.875211307509375, 28.301795831549015, 19.75229500743525)"
      ]
     },
     "execution_count": 278,
     "metadata": {},
     "output_type": "execute_result"
    }
   ],
   "source": [
    "ndp.Wds, ndp.Wdf, ndp.Eds, ndp.Edf"
   ]
  },
  {
   "cell_type": "code",
   "execution_count": 279,
   "metadata": {
    "collapsed": false
   },
   "outputs": [],
   "source": [
    "############\n",
    "#Rheology\n",
    "#############\n",
    "#\n",
    "#The final mantle rheology is composed as follows*:\n",
    "# \n",
    "#\n",
    "# mantleviscosityFn = max{  min{(1/omega*Visc + 1/eta_p)**-1,\n",
    "#                           eta_max},\n",
    "#                           eta_min}\n",
    "#                      \n",
    "#Visc => min{diffusionCreep, dislocationCreep, }\n",
    "#eta_p   => stress-limiting effective viscosity\n",
    "#\n",
    "\n",
    "omega = fn.misc.constant(1.)\n",
    "\n",
    "if meltViscosityReduction:\n",
    "    mvr =  fn.branching.conditional( [ (temperatureField > (ndp.Tmvp + 7.5*(1. - coordinate[1])) , 0.1 ),   (         True, 1.) ] )\n",
    "    omega = omega*mvr\n",
    "\n",
    "\n",
    "#implementation of the lower mantle viscosity increase, similar to Bello et al. 2015\n",
    "a = 1.\n",
    "B = 30.\n",
    "d0 = 660e3/dp.LS  \n",
    "ds = d0/10.\n",
    "if lowerMantle:\n",
    "    inner1 = 1. - 0.5*(1. - fn.math.tanh(((1. - d0)-(coordinate[1]))/(ds)))\n",
    "    modfac = a*fn.math.exp(np.log(B)*inner1)\n",
    "    omega = omega*modfac\n",
    "\n",
    "\n",
    "##Diffusion Creep\n",
    "ndfp = fn.misc.min(ndp.eta_max, fn.math.exp( ((ndp.Edf + (depthFn*ndp.Wdf))/((temperatureField + ndp.TS))) - \n",
    "              ((ndp.Edf + (ndp.Dr*ndp.Wdf))/((ndp.TPP + ndp.TS)))  ))\n",
    "\n",
    "linearVisc = fn.misc.min(ndp.eta_max, ndfp)\n",
    "\n",
    "##Dislocation Creep\n",
    "nl_correction = (strainRate_2ndInvariant/ndp.SR)**((1.-ndp.n)/(ndp.n))\n",
    "\n",
    "\n",
    "ndsp = fn.misc.min(ndp.eta_max,(nl_correction)*fn.math.exp( ((ndp.Eds + (depthFn*ndp.Wds))/(ndp.n*(temperatureField + ndp.TS))) -\n",
    "                                     ((ndp.Eds + (ndp.Dr*ndp.Wds))/(ndp.n*(ndp.TPP + ndp.TS)))))\n",
    "\n",
    "\n",
    "##Combine the creep mechanisms\n",
    "#Visc = fn.misc.max(fn.misc.min(ndp.eta_max, fn.misc.min(ndfp, ndsp)), ndp.eta_min) #Minima approach\n",
    "Visc = 2.*fn.misc.max(fn.misc.min(ndp.eta_max, ((1./ndfp) + (1./ndfp))**-1.), ndp.eta_min)  #the 2. corrects for the halving of the visc. max. otherwise\n",
    "\n",
    "\n",
    "\n",
    "##Define the Plasticity\n",
    "ys =  ndp.cohesion + (depthFn*ndp.fcd)\n",
    "#ys =  ndp.cohesion\n",
    "yielding = ys/(strainRate_2ndInvariant) #extra factor to account for underworld second invariant form\n",
    "\n",
    "\n",
    "#Combine the viscous creep and plasticity\n",
    "#mantleviscosityFn = fn.misc.max(fn.misc.min(1./(((1./Visc) + (1./yielding))), ndp.eta_max), ndp.eta_min)\n",
    "mantleviscosityFn = fn.misc.max(fn.misc.min(fn.misc.min(Visc, yielding), ndp.eta_max), ndp.eta_min)\n",
    "\n",
    "lowMantleDepth = 660e3\n",
    "lowMantleViscFac = 1.\n",
    "finalviscosityFn  = fn.branching.conditional([(depthFn < lowMantleDepth/dp.LS, mantleviscosityFn),\n",
    "                                  (True, ndfp*lowMantleViscFac)])\n",
    "\n",
    "\n",
    "#fn.misc.min(Visc, yielding)\n",
    "\n",
    "#lower mantle rheology\n",
    "\n",
    "#ndflm = fn.misc.min(ndp.eta_max, fn.math.exp( ((ndp.Elm + (depthFn*ndp.Wlm))/((temperatureField + ndp.TS))) - \n",
    "#              ((ndp.Elm + (ndp.Dr*ndp.Wlm))/((ndp.TPP + ndp.TS)))  ))\n",
    "\n",
    "#I ignored Cizkova's lower mantle diffusion creep parameters, \n",
    "#as they appeared to give lower values that the upper mantle rheology, i.e a visc. decrease at 660.\n",
    "#lm_increase = 1.\n",
    "#lowermantleviscosityFn = fn.misc.max(lm_increase*ndfp, ndp.eta_min)\n",
    "\n",
    "\n",
    "##Crust rheology\n",
    "#reduceFac = 0.1\n",
    "#ysc =  reduceFac*ndp.cohesion + reduceFac*(depthFn*gamma*ndp.RA) #In this case we'll use a valid cohesion\n",
    "#crust_yielding = ysc/(strainRate_2ndInvariant/math.sqrt(0.5)) #extra factor to account for underworld second invariant form\n",
    "#crustviscosityFn = fn.misc.max(fn.misc.min(1./(((1./Visc) + (1./crust_yielding))), ndp.eta_max), ndp.eta_min)\n"
   ]
  },
  {
   "cell_type": "code",
   "execution_count": 280,
   "metadata": {
    "collapsed": false
   },
   "outputs": [
    {
     "data": {
      "text/plain": [
       "99999.999999999985"
      ]
     },
     "execution_count": 280,
     "metadata": {},
     "output_type": "execute_result"
    }
   ],
   "source": [
    "mantleviscosityFn.evaluate(mesh).max()"
   ]
  },
  {
   "cell_type": "code",
   "execution_count": 281,
   "metadata": {
    "collapsed": false
   },
   "outputs": [],
   "source": [
    "fig= glucifer.Figure()\n",
    "#fig.append( glucifer.objects.Points(gSwarm, densityMapFn))\n",
    "fig.append( glucifer.objects.Surface(mesh, finalviscosityFn, logScale=True))\n",
    "\n",
    "\n",
    "#fig.show()"
   ]
  },
  {
   "cell_type": "code",
   "execution_count": 282,
   "metadata": {
    "collapsed": false
   },
   "outputs": [],
   "source": [
    "############\n",
    "#Build a weak zone\n",
    "#############\n",
    "\n",
    "\n",
    "def disGen(centre):\n",
    "    coord = fn.input()\n",
    "    offsetFn = coord - centre\n",
    "    return fn.math.sqrt(fn.math.dot( offsetFn, offsetFn ))\n",
    "\n",
    "depth = 200.e3 #m\n",
    "angle = 20. #degrees\n",
    "num_circles = 50\n",
    "half_width = 5e3 #m\n",
    "\n",
    "\n",
    "xpos = depth/math.tan((angle*math.pi/180.))\n",
    "start = (0.075, 1.)\n",
    "end = (start[0] +xpos/dp.LS , start[1] - depth/dp.LS)\n",
    "xar = np.linspace(start[0], end[0], num_circles)\n",
    "yar = np.linspace(start[1], end[1], num_circles)\n",
    "fnBuilder = fn.misc.constant(1000.)\n",
    "for i in range(num_circles):\n",
    "    circ_dist = disGen((xar[i], yar[i]))\n",
    "    fnBuilder = fn.misc.min(circ_dist, fnBuilder)\n",
    "    \n",
    "sig = half_width/dp.LS\n",
    "gammaFn =  fn.math.exp(-fn.math.pow(fnBuilder, 2.) / (2. * fn.math.pow(sig, 2.)))"
   ]
  },
  {
   "cell_type": "code",
   "execution_count": 283,
   "metadata": {
    "collapsed": false
   },
   "outputs": [],
   "source": [
    "testFn = disGen((0., 1.))"
   ]
  },
  {
   "cell_type": "code",
   "execution_count": 284,
   "metadata": {
    "collapsed": true
   },
   "outputs": [],
   "source": [
    "weakVisc = 1.\n",
    "weakzoneFn = fn.misc.min((weakVisc/gammaFn*1.),ndp.eta_max)\n",
    "combmantleviscosityFn = fn.misc.max(ndp.eta_min, fn.misc.min(mantleviscosityFn, weakzoneFn))\n",
    "\n"
   ]
  },
  {
   "cell_type": "code",
   "execution_count": null,
   "metadata": {
    "collapsed": true
   },
   "outputs": [],
   "source": [
    "\n",
    "    "
   ]
  },
  {
   "cell_type": "code",
   "execution_count": 285,
   "metadata": {
    "collapsed": false
   },
   "outputs": [],
   "source": [
    "#velocityField.data.max()"
   ]
  },
  {
   "cell_type": "markdown",
   "metadata": {},
   "source": [
    "import matplotlib.pylab as pyplt\n",
    "%matplotlib inline\n",
    "\n",
    "\n",
    "\n",
    "##################\n",
    "#Output functions to numpy vertical averages, maxes, mins\n",
    "##################\n",
    "\n",
    "viscmapFnmesh = uw.mesh.MeshVariable(mesh,nodeDofCount=1)\n",
    "out = uw.utils.MeshVariable_Projection( viscmapFnmesh, viscosityMapFn)\n",
    "out.solve()\n",
    "\n",
    "\n",
    "#avDf = ndfp.evaluate(mesh).reshape(mesh.elementRes[1] + 1, mesh.elementRes[0] + 1).mean(axis=1)\n",
    "avDs = ndsp.evaluate(mesh).reshape(mesh.elementRes[1] + 1, mesh.elementRes[0] + 1).mean(axis=1)\n",
    "umantle = mantleviscosityFn.evaluate(mesh).reshape(mesh.elementRes[1] + 1, mesh.elementRes[0] + 1).mean(axis=1)\n",
    "lmantle = lowermantleviscosityFn.evaluate(mesh).reshape(mesh.elementRes[1] + 1, mesh.elementRes[0] + 1).mean(axis=1)\n",
    "eff = viscmapFnmesh.evaluate(mesh).reshape(mesh.elementRes[1] + 1, mesh.elementRes[0] + 1).mean(axis=1)\n",
    "\n",
    "effMin = viscmapFnmesh.evaluate(mesh).reshape(mesh.elementRes[1] + 1, mesh.elementRes[0] + 1).min(axis=1)\n",
    "effMax = viscmapFnmesh.evaluate(mesh).reshape(mesh.elementRes[1] + 1, mesh.elementRes[0] + 1).max(axis=1)\n",
    "\n",
    "###################\n",
    "#Plot\n",
    "###################\n",
    "import matplotlib.pylab as pyplt\n",
    "%matplotlib inline\n",
    "\n",
    "fig, ax = pyplt.subplots()\n",
    "#ax .plot(avDf, label = 'diff')\n",
    "#ax .plot(avDs, label = 'dis')\n",
    "ax .plot(eff, label = 'eff')\n",
    "ax .plot(effMax, label = 'effMax')\n",
    "ax .plot(effMin, label = 'effMin')\n",
    "#ax .plot(umantle, label = 'uman')\n",
    "#ax .plot(lmantle, label = 'lman')\n",
    "ax.set_yscale(\"log\", nonposy='clip')\n",
    "ax.legend(loc = 3)"
   ]
  },
  {
   "cell_type": "code",
   "execution_count": 286,
   "metadata": {
    "collapsed": false,
    "scrolled": true
   },
   "outputs": [],
   "source": [
    "#fig= glucifer.Figure()\n",
    "#fig.append( glucifer.objects.Points(gSwarm,materialVariable))\n",
    "#fig.append( glucifer.objects.Points(gSwarm,viscosityMapFn, logScale=True))\n",
    "#fig.append( glucifer.objects.Surface(mesh, ndfp, logScale=True))\n",
    "\n",
    "#fig.append( glucifer.objects.Surface(mesh,mantleviscosityFn, logScale=True))\n",
    "#fig.show()\n",
    "#fig.save_database('test.gldb')"
   ]
  },
  {
   "cell_type": "code",
   "execution_count": 287,
   "metadata": {
    "collapsed": false
   },
   "outputs": [
    {
     "data": {
      "text/plain": [
       "(100000.0, 0.061142252826412398)"
      ]
     },
     "execution_count": 287,
     "metadata": {},
     "output_type": "execute_result"
    }
   ],
   "source": [
    "ndsp.evaluate(mesh).min(), ndfp.evaluate(mesh).min()"
   ]
  },
  {
   "cell_type": "code",
   "execution_count": 288,
   "metadata": {
    "collapsed": false
   },
   "outputs": [],
   "source": [
    "#ndp.SR"
   ]
  },
  {
   "cell_type": "code",
   "execution_count": null,
   "metadata": {
    "collapsed": false
   },
   "outputs": [],
   "source": []
  },
  {
   "cell_type": "markdown",
   "metadata": {},
   "source": [
    "Stokes system setup\n",
    "-----\n"
   ]
  },
  {
   "cell_type": "code",
   "execution_count": 289,
   "metadata": {
    "collapsed": false
   },
   "outputs": [],
   "source": [
    "densityMapFn = fn.branching.map( fn_key = materialVariable,\n",
    "                         mapping = {airIndex:ndp.StRA,\n",
    "                                    crustIndex:basaltbuoyancyFn, \n",
    "                                    mantleIndex:pyrolitebuoyancyFn,\n",
    "                                    harzIndex:harzbuoyancyFn} )"
   ]
  },
  {
   "cell_type": "code",
   "execution_count": 290,
   "metadata": {
    "collapsed": true
   },
   "outputs": [],
   "source": [
    "\n",
    "# Define our vertical unit vector using a python tuple (this will be automatically converted to a function).\n",
    "gravity = ( 0.0, 1.0 )\n",
    "\n",
    "# Now create a buoyancy force vector using the density and the vertical unit vector. \n",
    "buoyancyFn = densityMapFn * gravity"
   ]
  },
  {
   "cell_type": "code",
   "execution_count": 291,
   "metadata": {
    "collapsed": true
   },
   "outputs": [],
   "source": [
    "stokesPIC = uw.systems.Stokes(velocityField=velocityField, \n",
    "                              pressureField=pressureField,\n",
    "                              conditions=[freeslipBC,],\n",
    "                              fn_viscosity=linearVisc, \n",
    "                              fn_bodyforce=buoyancyFn )"
   ]
  },
  {
   "cell_type": "code",
   "execution_count": 292,
   "metadata": {
    "collapsed": true
   },
   "outputs": [],
   "source": [
    "solver = uw.systems.Solver(stokesPIC)\n",
    "if not checkpointLoad:\n",
    "    solver.solve() #A solve on the linear visocisty is unhelpful unless we're starting from scratch"
   ]
  },
  {
   "cell_type": "code",
   "execution_count": 293,
   "metadata": {
    "collapsed": false
   },
   "outputs": [],
   "source": [
    "############\n",
    "#Yield limiting viscosity, in this case we arrange viscosities in parallel\n",
    "#############\n",
    "dp.yl = 5e8\n",
    "dp.ylsr = 1e-15\n",
    "ndp.yl = dp.yl*sf.stress\n",
    "ndp.ylsr = dp.ylsr*sf.SR\n",
    "ndp.yln = 10.\n",
    "ndyl = fn.misc.min(ndp.eta_max,ndp.yl*(ndp.ylsr**(-1./ndp.yln))*(strainRate_2ndInvariant)**(1./(ndp.yln-1.)))\n",
    "\n",
    "if parallelVisc:\n",
    "    combmantleviscosityFn = fn.misc.max(fn.misc.min(1./(((1./ndfp) + (1./ndsp) + 1./(ndyl) )), ndp.eta_max), ndp.eta_min)"
   ]
  },
  {
   "cell_type": "code",
   "execution_count": 294,
   "metadata": {
    "collapsed": false
   },
   "outputs": [],
   "source": [
    "fig= glucifer.Figure()\n",
    "#fig.append( glucifer.objects.Points(gSwarm,tracerVariable, colours= 'white black'))\n",
    "#fig.append( glucifer.objects.Points(gSwarm,materialVariable))\n",
    "fig.append( glucifer.objects.Surface(mesh, combmantleviscosityFn, logScale=True))\n",
    "\n",
    "#fig.append( glucifer.objects.Surface(mesh, strainRate_2ndInvariant/ndp.SR, logScale=True))\n",
    "#fig.show()\n",
    "#fig.save_database('test.gldb')"
   ]
  },
  {
   "cell_type": "code",
   "execution_count": 295,
   "metadata": {
    "collapsed": false
   },
   "outputs": [
    {
     "data": {
      "text/plain": [
       "(50.0, 0.02)"
      ]
     },
     "execution_count": 295,
     "metadata": {},
     "output_type": "execute_result"
    }
   ],
   "source": [
    "dp.yl/ndp.yl, sf.stress"
   ]
  },
  {
   "cell_type": "code",
   "execution_count": 296,
   "metadata": {
    "collapsed": false
   },
   "outputs": [
    {
     "name": "stdout",
     "output_type": "stream",
     "text": [
      "2\n"
     ]
    }
   ],
   "source": [
    "if WeakZone:\n",
    "    print(1)\n",
    "    viscosityMapFn = fn.branching.map( fn_key = materialVariable,\n",
    "                         mapping = {crustIndex:combmantleviscosityFn,\n",
    "                                    mantleIndex:combmantleviscosityFn,\n",
    "                                    harzIndex:combmantleviscosityFn} )\n",
    "else: #Use weak crust\n",
    "    print(2)\n",
    "    viscosityMapFn = fn.branching.map( fn_key = materialVariable,\n",
    "                         mapping = {crustIndex:ndp.eta_crust,\n",
    "                                    mantleIndex:finalviscosityFn,\n",
    "                                    harzIndex:finalviscosityFn} )\n",
    "\n"
   ]
  },
  {
   "cell_type": "code",
   "execution_count": null,
   "metadata": {
    "collapsed": false
   },
   "outputs": [],
   "source": []
  },
  {
   "cell_type": "code",
   "execution_count": null,
   "metadata": {
    "collapsed": false
   },
   "outputs": [],
   "source": []
  },
  {
   "cell_type": "code",
   "execution_count": null,
   "metadata": {
    "collapsed": true
   },
   "outputs": [],
   "source": []
  },
  {
   "cell_type": "code",
   "execution_count": 297,
   "metadata": {
    "collapsed": true
   },
   "outputs": [],
   "source": [
    "#Add the non-linear viscosity to the Stokes system\n",
    "stokesPIC.fn_viscosity = viscosityMapFn"
   ]
  },
  {
   "cell_type": "code",
   "execution_count": 298,
   "metadata": {
    "collapsed": false
   },
   "outputs": [
    {
     "name": "stdout",
     "output_type": "stream",
     "text": [
      "\u001b[1;35m\n",
      " \n",
      "Pressure iterations:   3\n",
      "Velocity iterations:   1 (presolve)      \n",
      "Velocity iterations:  -1 (pressure solve)\n",
      "Velocity iterations:   1 (backsolve)     \n",
      "Velocity iterations:   1 (total solve)   \n",
      " \n",
      "SCR RHS  solve time: 4.2892e-01\n",
      "Pressure solve time: 3.2551e-02\n",
      "Velocity solve time: 3.5864e-01 (backsolve)\n",
      "Total solve time   : 9.0203e-01\n",
      " \n",
      "Velocity solution min/max: 0.0000e+00/0.0000e+00\n",
      "Pressure solution min/max: 0.0000e+00/0.0000e+00\n",
      " \n",
      "\u001b[00m\n"
     ]
    }
   ],
   "source": [
    "solver.set_inner_method(\"mumps\")\n",
    "solver.options.scr.ksp_type=\"cg\"\n",
    "solver.set_penalty(1.0e7)\n",
    "solver.options.scr.ksp_rtol = 1.0e-4\n",
    "solver.solve(nonLinearIterate=True)\n",
    "solver.print_stats()"
   ]
  },
  {
   "cell_type": "code",
   "execution_count": null,
   "metadata": {
    "collapsed": true
   },
   "outputs": [],
   "source": []
  },
  {
   "cell_type": "code",
   "execution_count": 299,
   "metadata": {
    "collapsed": false
   },
   "outputs": [],
   "source": [
    "#Check which particles are yielding\n",
    "#yieldingCheck.data[:] = 0\n",
    "\n",
    "#yieldconditions = [ ( mantleviscosityFn < Visc , 1), \n",
    "#               ( True                                           , 0) ]\n",
    "\n",
    "# use the branching conditional function to set each particle's index\n",
    "#yieldingCheck.data[:] = fn.branching.conditional( yieldconditions ).evaluate(gSwarm)"
   ]
  },
  {
   "cell_type": "code",
   "execution_count": 300,
   "metadata": {
    "collapsed": false,
    "scrolled": true
   },
   "outputs": [],
   "source": [
    "#fig= glucifer.Figure()\n",
    "#fig.append( glucifer.objects.Points(gSwarm,yieldingCheck))\n",
    "\n",
    "#fig.append( glucifer.objects.Surface(mesh,ndflm, logScale=True))\n",
    "#fig.show()"
   ]
  },
  {
   "cell_type": "markdown",
   "metadata": {},
   "source": [
    "Advection-diffusion System setup\n",
    "-----"
   ]
  },
  {
   "cell_type": "code",
   "execution_count": 192,
   "metadata": {
    "collapsed": false
   },
   "outputs": [],
   "source": [
    "advDiff = uw.systems.AdvectionDiffusion( phiField       = temperatureField, \n",
    "                                         phiDotField    = temperatureDotField, \n",
    "                                         velocityField  = velocityField,\n",
    "                                         fn_sourceTerm    = 0.0,\n",
    "                                         fn_diffusivity = 1.0, \n",
    "                                         #conditions     = [neumannTempBC, dirichTempBC] )\n",
    "                                         conditions     = [ dirichTempBC] )\n",
    "\n",
    "passiveadvector = uw.systems.SwarmAdvector( swarm         = gSwarm, \n",
    "                                     velocityField = velocityField, \n",
    "                                     order         = 1)"
   ]
  },
  {
   "cell_type": "code",
   "execution_count": 193,
   "metadata": {
    "collapsed": false
   },
   "outputs": [],
   "source": [
    "#I was playing around with a tailored diffusivity to target the slab\n",
    "\n",
    "#inCircleFnGenerator#Now build the perturbation part\n",
    "#def htan(centre, radius, widthPh, farVal = 0.01, fac = 10.):\n",
    "#    coord = fn.input()\n",
    "#    offsetFn = coord - centre\n",
    "#    dist = fn.math.sqrt(fn.math.dot( offsetFn, offsetFn ))\n",
    "    \n",
    "    \n",
    "#    return (((fn.math.tanh(((radius - dist))/widthPh) + 1.) /2.))*fac + farVal\n",
    "\n",
    "#tfun = htan((0.1, 0.9), 0.1, 0.1, 0.1)"
   ]
  },
  {
   "cell_type": "code",
   "execution_count": 236,
   "metadata": {
    "collapsed": true
   },
   "outputs": [],
   "source": [
    "for index in mesh.specialSets[\"MinJ_VertexSet\"]:\n",
    "    temperatureField.data[index] = ndp.TBP\n",
    "for index in mesh.specialSets[\"MaxJ_VertexSet\"]:\n",
    "    temperatureField.data[index] = ndp.TSP"
   ]
  },
  {
   "cell_type": "code",
   "execution_count": 237,
   "metadata": {
    "collapsed": false
   },
   "outputs": [
    {
     "data": {
      "text/plain": [
       "1394.4794120332097"
      ]
     },
     "execution_count": 237,
     "metadata": {},
     "output_type": "execute_result"
    }
   ],
   "source": [
    "velocityField.data.max()"
   ]
  },
  {
   "cell_type": "code",
   "execution_count": 238,
   "metadata": {
    "collapsed": false
   },
   "outputs": [],
   "source": [
    "############\n",
    "#Slightly Diffuse the initial perturbation\n",
    "#############\n",
    "\n",
    "timetoDifffuse = 0.#Million years\n",
    "incrementtoDiffuse = 0.2 #Million years\n",
    "\n",
    "timetoDifffuse = (timetoDifffuse*1e6*(spery)/sf.SR).magnitude\n",
    "incrementtoDiffuse = (incrementtoDiffuse*1e6*(spery)/sf.SR).magnitude\n",
    "\n",
    "totAdt = 0.\n",
    "it = 0\n",
    "while totAdt < timetoDifffuse:\n",
    "    dtad = advDiff.get_max_dt()\n",
    "    print(\"step\") + str(it) \n",
    "    advDiff.integrate(incrementtoDiffuse)\n",
    "    totAdt += incrementtoDiffuse\n",
    "    it += 1\n",
    "    \n",
    "#Reset Boundary conds.   \n",
    "for index in mesh.specialSets[\"MinJ_VertexSet\"]:\n",
    "    temperatureField.data[index] = ndp.TBP\n",
    "for index in mesh.specialSets[\"MaxJ_VertexSet\"]:\n",
    "    temperatureField.data[index] = ndp.TSP\n",
    "    \n",
    "comm.Barrier()"
   ]
  },
  {
   "cell_type": "code",
   "execution_count": 239,
   "metadata": {
    "collapsed": true
   },
   "outputs": [],
   "source": [
    "population_control = uw.swarm.PopulationControl(gSwarm,deleteThreshold=0.2,splitThreshold=1.,maxDeletions=3,maxSplits=0, aggressive=True, particlesPerCell=ppc)"
   ]
  },
  {
   "cell_type": "markdown",
   "metadata": {},
   "source": [
    "Analysis functions / routines\n",
    "-----"
   ]
  },
  {
   "cell_type": "code",
   "execution_count": 240,
   "metadata": {
    "collapsed": true
   },
   "outputs": [],
   "source": [
    "#These are functions we can use to evuate integrals over restricted parts of the domain\n",
    "# For instance, we can exclude the thermal lithosphere from integrals\n",
    "\n",
    "def temprestrictionFn(lithval = 0.9):\n",
    "\n",
    "    tempMM = fn.view.min_max(temperatureField)\n",
    "    tempMM.evaluate(mesh)\n",
    "    TMAX = tempMM.max_global()\n",
    "    mantleconditions = [ (                                  temperatureField > lithval*TMAX, 1.),\n",
    "                   (                                                   True , 0.) ]\n",
    "\n",
    "\n",
    "    return fn.branching.conditional(mantleconditions)\n",
    "\n",
    "mantlerestrictFn = temprestrictionFn(lithval = 0.85)\n",
    "\n",
    "\n",
    "\n",
    "def platenessFn(val = 0.1):\n",
    "    normgradV = fn.math.abs(velocityField.fn_gradient[0]/fn.math.sqrt(velocityField[0]*velocityField[0])) #[du*/dx]/sqrt(u*u)\n",
    "\n",
    "\n",
    "\n",
    "    srconditions = [ (                                  normgradV < val, 1.),\n",
    "                   (                                                   True , 0.) ]\n",
    "\n",
    "\n",
    "    return fn.branching.conditional(srconditions)\n",
    "\n",
    "srrestrictFn = platenessFn(val = 0.1)"
   ]
  },
  {
   "cell_type": "code",
   "execution_count": null,
   "metadata": {
    "collapsed": true
   },
   "outputs": [],
   "source": []
  },
  {
   "cell_type": "code",
   "execution_count": 241,
   "metadata": {
    "collapsed": false
   },
   "outputs": [],
   "source": [
    "#Setup volume integrals \n",
    "\n",
    "tempint = uw.utils.Integral( temperatureField, mesh )\n",
    "areaint = uw.utils.Integral( 1.,               mesh )\n",
    "\n",
    "v2int   = uw.utils.Integral( fn.math.dot(velocityField,velocityField), mesh )\n",
    "\n",
    "dwint   = uw.utils.Integral( temperatureField*velocityField[1], mesh )\n",
    "\n",
    "sinner = fn.math.dot( strainRate_2ndInvariant, strainRate_2ndInvariant )\n",
    "vdint = uw.utils.Integral( (2.*viscosityMapFn*sinner), mesh ) #Is it two or four here?\n",
    "\n",
    "mantleArea   = uw.utils.Integral( mantlerestrictFn, mesh )\n",
    "mantleTemp = uw.utils.Integral( temperatureField*mantlerestrictFn, mesh )\n",
    "mantleVisc = uw.utils.Integral( mantleviscosityFn*mantlerestrictFn, mesh )\n",
    "mantleVd = uw.utils.Integral( (2.*viscosityMapFn*sinner*mantlerestrictFn), mesh ) #these now work on MappingFunctions"
   ]
  },
  {
   "cell_type": "code",
   "execution_count": 242,
   "metadata": {
    "collapsed": true
   },
   "outputs": [],
   "source": [
    "#Setup surface integrals\n",
    "\n",
    "rmsSurfInt = uw.utils.Integral( fn=velocityField[0]*velocityField[0], mesh=mesh, integrationType='Surface', \n",
    "                          surfaceIndexSet=mesh.specialSets[\"MaxJ_VertexSet\"])\n",
    "nuTop      = uw.utils.Integral( fn=temperatureField.fn_gradient[1],    mesh=mesh, integrationType='Surface', \n",
    "                          surfaceIndexSet=mesh.specialSets[\"MaxJ_VertexSet\"])\n",
    "nuBottom   = uw.utils.Integral( fn=temperatureField.fn_gradient[1],    mesh=mesh, integrationType='Surface', \n",
    "                          surfaceIndexSet=mesh.specialSets[\"MinJ_VertexSet\"])\n",
    "\n",
    "plateint  = uw.utils.Integral( fn=srrestrictFn, mesh=mesh, integrationType='Surface', #Integrate the plateness function\n",
    "                          surfaceIndexSet=mesh.specialSets[\"MaxJ_VertexSet\"]) \n",
    "\n",
    "surfint  = uw.utils.Integral( fn=1., mesh=mesh, integrationType='Surface',   #Surface length function (i.e. domain width)\n",
    "                          surfaceIndexSet=mesh.specialSets[\"MaxJ_VertexSet\"])"
   ]
  },
  {
   "cell_type": "code",
   "execution_count": 243,
   "metadata": {
    "collapsed": true
   },
   "outputs": [],
   "source": [
    "#Define functions for the evaluation of integrals\n",
    "\n",
    "def basic_int(ourIntegral):           #This one just hands back the evaluated integral\n",
    "    return ourIntegral.evaluate()[0]\n",
    "\n",
    "def avg_temp():\n",
    "    return tempint.evaluate()[0]/areaint.evaluate()[0]\n",
    "\n",
    "def nusseltTB(temp_field, mesh):\n",
    "    return -nuTop.evaluate()[0], -nuBottom.evaluate()[0]\n",
    "\n",
    "def rms():\n",
    "    return math.sqrt(v2int.evaluate()[0]/areaint.evaluate()[0])\n",
    "\n",
    "def rms_surf():\n",
    "    return math.sqrt(rmsSurfInt.evaluate()[0])\n",
    "\n",
    "def max_vx_surf(velfield, mesh):\n",
    "    vuvelxfn = fn.view.min_max(velfield[0])\n",
    "    vuvelxfn.evaluate(mesh.specialSets[\"MaxJ_VertexSet\"])\n",
    "    return vuvelxfn.max_global()\n",
    "\n",
    "\n",
    "def visc_extr(viscfn):\n",
    "    vuviscfn = fn.view.min_max(viscfn)\n",
    "    vuviscfn.evaluate(mesh)\n",
    "    return vuviscfn.max_global(), vuviscfn.min_global()"
   ]
  },
  {
   "cell_type": "code",
   "execution_count": 244,
   "metadata": {
    "collapsed": false
   },
   "outputs": [
    {
     "data": {
      "text/plain": [
       "(49.414476669082276, 299.31247371188755, 609.9273529460928)"
      ]
     },
     "execution_count": 244,
     "metadata": {},
     "output_type": "execute_result"
    }
   ],
   "source": [
    "#v2sum_integral  = uw.utils.Integral( mesh=mesh, fn=fn.math.dot( velocityField, velocityField ) )\n",
    "#volume_integral = uw.utils.Integral( mesh=mesh, fn=1. )\n",
    "#Vrms = math.sqrt( v2sum_integral.evaluate()[0] )/volume_integral.evaluate()[0]\n",
    "\n",
    "\n",
    "\n",
    "#if(uw.rank()==0):\n",
    "#    print('Initial Vrms = {0:.3f}'.format(Vrms))\n",
    "\n",
    "# Check the Metrics\n",
    "\n",
    "#Avg_temp = avg_temp()\n",
    "Rms = rms()\n",
    "Rms_surf = rms_surf()\n",
    "Max_vx_surf = max_vx_surf(velocityField, mesh)\n",
    "Rms, Rms_surf, Max_vx_surf \n",
    "#Gravwork = basic_int(dwint)\n",
    "#Viscdis = basic_int(vdint)\n",
    "#nu1, nu0 = nusseltTB(temperatureField, mesh) # return top then bottom\n",
    "#etamax, etamin = visc_extr(mantleviscosityFn)\n",
    "\n",
    "#Area_mantle = basic_int(mantleArea)\n",
    "#Viscmantle = basic_int(mantleVisc)\n",
    "#Tempmantle = basic_int(mantleTemp)\n",
    "#Viscdismantle = basic_int(mantleVd)"
   ]
  },
  {
   "cell_type": "markdown",
   "metadata": {},
   "source": [
    "Viz.\n",
    "-----"
   ]
  },
  {
   "cell_type": "code",
   "execution_count": 245,
   "metadata": {
    "collapsed": false
   },
   "outputs": [],
   "source": [
    "viscVariable = gSwarm.add_variable( dataType=\"float\", count=1 )\n",
    "viscVariable.data[:] = viscosityMapFn.evaluate(gSwarm)"
   ]
  },
  {
   "cell_type": "code",
   "execution_count": 246,
   "metadata": {
    "collapsed": false
   },
   "outputs": [],
   "source": [
    "#Pack some stuff into a database as well\n",
    "figDb = glucifer.Figure()\n",
    "#figDb.append( glucifer.objects.Mesh(mesh))\n",
    "figDb.append( glucifer.objects.VectorArrows(mesh,velocityField, scaling=0.00005))\n",
    "#figDb.append( glucifer.objects.Points(gSwarm,tracerVariable, colours= 'white black'))\n",
    "figDb.append( glucifer.objects.Points(gSwarm,materialVariable))\n",
    "\n",
    "figDb.append( glucifer.objects.Points(gSwarm,viscosityMapFn, logScale=True, valueRange =[1e-3,1e5]))\n",
    "figDb.append( glucifer.objects.Surface(mesh, strainRate_2ndInvariant, logScale=True))\n",
    "figDb.append( glucifer.objects.Surface(mesh, temperatureField))\n",
    "#figDb.show()"
   ]
  },
  {
   "cell_type": "code",
   "execution_count": 247,
   "metadata": {
    "collapsed": false
   },
   "outputs": [
    {
     "name": "stderr",
     "output_type": "stream",
     "text": [
      "/usr/local/lib/python2.7/dist-packages/numpy/core/numeric.py:190: VisibleDeprecationWarning: using a non-integer number instead of an integer will result in an error in the future\n",
      "  a = empty(shape, dtype, order)\n"
     ]
    }
   ],
   "source": [
    "##############\n",
    "#Create a numpy array at the surface to get surface information on (using parallel-friendly evaluate_global)\n",
    "##############\n",
    "\n",
    "surface_xs = np.linspace(mesh.minCoord[0], mesh.maxCoord[0], mesh.elementRes[0] + 1)\n",
    "surface_nodes = np.array(zip(surface_xs, np.ones(len(surface_xs)*mesh.maxCoord[1]))) #For evaluation surface velocity\n",
    "normgradV = velocityField.fn_gradient[0]/fn.math.sqrt(velocityField[0]*velocityField[0])\n",
    "\n",
    "tempMM = fn.view.min_max(temperatureField)\n",
    "dummy = tempMM.evaluate(mesh)\n",
    "\n"
   ]
  },
  {
   "cell_type": "markdown",
   "metadata": {},
   "source": [
    "**Miscellania**"
   ]
  },
  {
   "cell_type": "code",
   "execution_count": 248,
   "metadata": {
    "collapsed": false
   },
   "outputs": [],
   "source": [
    "##############\n",
    "#These functions handle checkpointing\n",
    "##############\n",
    "\n",
    "\n",
    "def checkpoint1(step, checkpointPath,filename, filewrites):\n",
    "    path = checkpointPath + str(step) \n",
    "    os.mkdir(path)\n",
    "    ##Write and save the file, if not already a writing step\n",
    "    if not step % filewrites == 0:\n",
    "        filename.write((17*'%-15s ' + '\\n') % (realtime, Viscdis, float(nu0), float(nu1), Avg_temp,\n",
    "                                              Tempmantle,TMAX,\n",
    "                                              Rms,Rms_surf,Max_vx_surf,Gravwork, etamax, etamin, \n",
    "                                              Area_mantle, Viscmantle,  Viscdismantle,Plateness ))\n",
    "    filename.close()\n",
    "    shutil.copyfile(os.path.join(outputPath, outputFile), os.path.join(path, outputFile))\n",
    "\n",
    "\n",
    "def checkpoint2(step, checkpointPath, swarm, filename, varlist = [materialVariable], varnames = ['materialVariable']):\n",
    "    path = checkpointPath + str(step) \n",
    "    velfile = \"velocityField\" + \".hdf5\"\n",
    "    tempfile = \"temperatureField\" + \".hdf5\"\n",
    "    pressfile = \"pressureField\" + \".hdf5\"\n",
    "    velocityField.save(os.path.join(path, velfile))\n",
    "    temperatureField.save(os.path.join(path, tempfile))\n",
    "    pressureField.save(os.path.join(path, pressfile))\n",
    "    swarm.save(os.path.join(path, \"swarm.h5\") ) \n",
    "    for ix in range(len(varlist)):\n",
    "        varb = varlist[ix]\n",
    "        varb.save(os.path.join(path,varnames[ix] + \".h5\"))\n",
    "    "
   ]
  },
  {
   "cell_type": "code",
   "execution_count": 249,
   "metadata": {
    "collapsed": true
   },
   "outputs": [],
   "source": [
    "##############\n",
    "#This will allow us to evaluate viscous shear heating, and add the result directly to the temperature field\n",
    "##############\n",
    "\n",
    "viscDisMapFn = 2.*viscosityMapFn*sinner\n",
    "viscDisFnmesh = uw.mesh.MeshVariable(mesh,nodeDofCount=1)\n",
    "viscDisProj = uw.utils.MeshVariable_Projection( viscDisFnmesh, viscDisMapFn)\n",
    "viscDisProj.solve()"
   ]
  },
  {
   "cell_type": "code",
   "execution_count": 250,
   "metadata": {
    "collapsed": false
   },
   "outputs": [],
   "source": [
    "# initialise timer for computation\n",
    "start = time.clock()\n",
    "# setup summary output file (name above)\n",
    "if checkpointLoad:\n",
    "    if uw.rank() == 0:\n",
    "        shutil.copyfile(os.path.join(checkpointLoadDir, outputFile), outputPath+outputFile)\n",
    "    comm.Barrier()\n",
    "    f_o = open(os.path.join(outputPath, outputFile), 'a')\n",
    "    prevdata = np.genfromtxt(os.path.join(outputPath, outputFile), skip_header=0, skip_footer=0)\n",
    "    if len(prevdata.shape) == 1: #this is in case there is only one line in previous file\n",
    "        realtime = prevdata[0]\n",
    "    else:\n",
    "        realtime = prevdata[prevdata.shape[0]-1, 0]\n",
    "    step = int(checkpointLoadDir.split('/')[-1])\n",
    "    timevals = [0.]\n",
    "else:\n",
    "    f_o = open(outputPath+outputFile, 'w')\n",
    "    realtime = 0.\n",
    "    step = 0\n",
    "    timevals = [0.]"
   ]
  },
  {
   "cell_type": "markdown",
   "metadata": {},
   "source": [
    "Main simulation loop\n",
    "-----\n"
   ]
  },
  {
   "cell_type": "code",
   "execution_count": 252,
   "metadata": {
    "collapsed": false
   },
   "outputs": [],
   "source": [
    "#metric_output = 1"
   ]
  },
  {
   "cell_type": "code",
   "execution_count": null,
   "metadata": {
    "collapsed": true
   },
   "outputs": [],
   "source": [
    "#while step < 21:\n",
    "while realtime < 1.:\n",
    "\n",
    "    # solve Stokes and advection systems\n",
    "    solver.solve(nonLinearIterate=True)\n",
    "    dt = advDiff.get_max_dt()\n",
    "    if step == 0:\n",
    "        dt = 0.\n",
    "    advDiff.integrate(dt)\n",
    "    passiveadvector.integrate(dt)\n",
    "    \n",
    "    #Add the adiabatic adjustment:\n",
    "    temperatureField.data[:] += dt*abHeatFn.evaluate(mesh)\n",
    "    \n",
    "    #Add the viscous heating term\n",
    "     #Need to fix this (forgot 'dissipation number')\n",
    "    #viscDisProj = uw.utils.MeshVariable_Projection( viscDisFnmesh, viscDisMapFn)\n",
    "    #viscDisProj.solve()\n",
    "    #temperatureField.data[:] += dt*viscDisFnmesh.evaluate(mesh)\n",
    "    \n",
    "\n",
    "    # Increment\n",
    "    realtime += dt\n",
    "    step += 1\n",
    "    timevals.append(realtime)\n",
    "    ################\n",
    "    #Update temperature field in the air region\n",
    "    #Do this better...\n",
    "    ################\n",
    "    if (step % sticky_air_temp == 0):\n",
    "        for index, coord in enumerate(mesh.data):\n",
    "            if coord[1] >= 1.:\n",
    "                temperatureField.data[index] = ndp.TSP\n",
    "\n",
    "    # Calculate the Metrics, only on 1 of the processors:\n",
    "    ################\n",
    "    if (step % metric_output == 0):\n",
    "        ###############\n",
    "        #Swarm - based Metrics\n",
    "        ###############\n",
    "        # Calculate the RMS velocity and Nusselt number.\n",
    "        # Calculate the Metrics, only on 1 of the processors:\n",
    "        mantlerestrictFn = temprestrictionFn() #rebuild the mantle restriction function (but these should be dynamic?)\n",
    "        srrestrictFn = platenessFn(val = 0.1) #rebuild the plateness restriction function\n",
    "        dummy = tempMM.evaluate(mesh) #Re-evaluate any fn.view.min_max guys\n",
    "        #Rebuild these integrals (a test because metrics changes after a restart)\n",
    "        mantleArea   = uw.utils.Integral( mantlerestrictFn, mesh )\n",
    "        mantleTemp = uw.utils.Integral( temperatureField*mantlerestrictFn, mesh )\n",
    "        mantleVisc = uw.utils.Integral( mantleviscosityFn*mantlerestrictFn, mesh )\n",
    "        mantleVd = uw.utils.Integral( (4.*viscosityMapFn*sinner*mantlerestrictFn), mesh ) #these now work on MappingFunctions\n",
    "        ###\n",
    "        Avg_temp = avg_temp()\n",
    "        Rms = rms()\n",
    "        Rms_surf = rms_surf()\n",
    "        Max_vx_surf = max_vx_surf(velocityField, mesh)\n",
    "        Gravwork = basic_int(dwint)\n",
    "        Viscdis = basic_int(vdint)\n",
    "        nu1, nu0 = nusseltTB(temperatureField, mesh) # return top then bottom\n",
    "        etamax, etamin = visc_extr(mantleviscosityFn)\n",
    "        Area_mantle = basic_int(mantleArea)\n",
    "        Viscmantle = basic_int(mantleVisc)\n",
    "        Tempmantle = basic_int(mantleTemp)\n",
    "        Viscdismantle = basic_int(mantleVd)\n",
    "        Plateness = basic_int(plateint)/basic_int(surfint)\n",
    "        TMAX = tempMM.max_global()\n",
    "        # output to summary text file\n",
    "        if uw.rank()==0:\n",
    "            f_o.write((17*'%-15s ' + '\\n') % (realtime, Viscdis, float(nu0), float(nu1), Avg_temp,\n",
    "                                              Tempmantle,TMAX,\n",
    "                                              Rms,Rms_surf,Max_vx_surf,Gravwork, etamax, etamin, \n",
    "                                              Area_mantle, Viscmantle,  Viscdismantle,Plateness ))\n",
    "    ################\n",
    "    #Also repopulate entire swarm periodically\n",
    "    ################\n",
    "    #if step % swarm_repop == 0:\n",
    "    population_control.repopulate()   \n",
    "    ################\n",
    "    #Checkpoint\n",
    "    ################\n",
    "    if step % checkpoint_every == 0:\n",
    "        if uw.rank() == 0:\n",
    "            checkpoint1(step, checkpointPath,f_o, metric_output)           \n",
    "        checkpoint2(step, checkpointPath, gSwarm, f_o, varlist = varlist, varnames = varnames)\n",
    "        f_o = open(os.path.join(outputPath, outputFile), 'a') #is this line supposed to be here?\n",
    "    ################\n",
    "    #Gldb output\n",
    "    ################ \n",
    "    if (step % gldbs_output == 0):\n",
    "        #Rebuild any necessary swarm variables\n",
    "        viscVariable.data[:] = viscosityMapFn.evaluate(gSwarm)\n",
    "        #Write gldbs\n",
    "        fnamedb = \"dbFig\" + \"_\" + str(ModIt) + \"_\" + str(step) + \".gldb\"\n",
    "        fullpath = os.path.join(outputPath + \"gldbs/\" + fnamedb)\n",
    "        #figDb.show()\n",
    "        figDb.save_database(fullpath)\n",
    "    ################\n",
    "    #Files output\n",
    "    ################ \n",
    "    if (step % files_output == 0):\n",
    "\n",
    "        vel_surface = velocityField.evaluate_global(surface_nodes)\n",
    "        norm_surface_sr = normgradV.evaluate_global(surface_nodes)\n",
    "        if uw.rank() == 0:\n",
    "            fnametemp = \"velsurface\" + \"_\" + str(ModIt) + \"_\" + str(step)\n",
    "            fullpath = os.path.join(outputPath + \"files/\" + fnametemp)\n",
    "            np.save(fullpath, vel_surface)\n",
    "            fnametemp = \"norm_surface_sr\" + \"_\" + str(ModIt) + \"_\" + str(step)\n",
    "            fullpath = os.path.join(outputPath + \"files/\" + fnametemp)\n",
    "            np.save(fullpath, norm_surface_sr)\n",
    "    ################\n",
    "    #Particle update\n",
    "    ###############    \n",
    "    #ageVariable.data[:] += dt #increment the ages (is this efficient?)\n",
    "    ageDT += dt\n",
    "    \n",
    "    if step % swarm_update == 0:\n",
    "        #Increment age stuff. \n",
    "        ageEval = fn.branching.conditional( ageConditions ).evaluate(gSwarm)\n",
    "        ageVariable.data[np.where(ageEval == 0)] = 0 #If below the critical depth, age is set to zero\n",
    "        ageVariable.data[np.where(ageEval != 0)] += ageDT #If age above critical depth, increment age\n",
    "        ageDT = 0. #reset the age incrementer\n",
    "        \n",
    "        #Apply any materialVariable changes\n",
    "        for i in range(2): #Need to go through twice first time through\n",
    "            materialVariable.data[:] = fn.branching.conditional(DG.condition_list).evaluate(gSwarm)\n",
    "\n",
    "    \n",
    "f_o.close()\n",
    "print 'step =',step"
   ]
  },
  {
   "cell_type": "code",
   "execution_count": 66,
   "metadata": {
    "collapsed": false
   },
   "outputs": [],
   "source": [
    "viscVariable = gSwarm.add_variable( dataType=\"float\", count=1 )\n",
    "viscVariable.data[:] = viscosityMapFn.evaluate(gSwarm)"
   ]
  },
  {
   "cell_type": "code",
   "execution_count": 302,
   "metadata": {
    "collapsed": false
   },
   "outputs": [
    {
     "data": {
      "text/html": [
       "<img src='data:image/png;base64,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'>"
      ],
      "text/plain": [
       "<IPython.core.display.HTML object>"
      ]
     },
     "metadata": {},
     "output_type": "display_data"
    },
    {
     "data": {
      "text/plain": [
       "'test.gldb'"
      ]
     },
     "execution_count": 302,
     "metadata": {},
     "output_type": "execute_result"
    }
   ],
   "source": [
    "fig= glucifer.Figure()\n",
    "fig.append( glucifer.objects.Points(gSwarm,ageVariable))\n",
    "#fig.append( glucifer.objects.Points(gSwarm, viscosityMapFn, logScale=True, valueRange =[1e-3,1e5]))\n",
    "#fig.append( glucifer.objects.Surface(mesh, strainRate_2ndInvariant, logScale=True, valueRange =[1e-3,1e5] ))\n",
    "fig.append( glucifer.objects.VectorArrows(mesh,velocityField, scaling=0.00002))\n",
    "fig.append( glucifer.objects.Surface(mesh,temperatureField))\n",
    "#fig.append( glucifer.objects.Surface(mesh,raylieghFn))\n",
    "\n",
    "fig.show()\n",
    "fig.save_database('test.gldb')"
   ]
  },
  {
   "cell_type": "code",
   "execution_count": 355,
   "metadata": {
    "collapsed": false
   },
   "outputs": [],
   "source": [
    "#fig= glucifer.Figure()\n",
    "#fig.append( glucifer.objects.Points(gSwarm,materialVariable))\n",
    "#fig.append( glucifer.objects.Points(gSwarm, viscosityMapFn, logScale=True, valueRange =[1e-3,1e5]))\n",
    "#fig.append( glucifer.objects.Surface(mesh, finalviscosityFn, logScale=True, valueRange =[1e-3,1e5] ))\n",
    "#fig.append( glucifer.objects.VectorArrows(mesh,velocityField, scaling=0.002))\n",
    "#fig.append( glucifer.objects.Surface(mesh,pressureField))\n",
    "#fig.append( glucifer.objects.Surface(mesh,raylieghFn))\n",
    "\n",
    "#fig.show()\n",
    "#fig.save_database('test.gldb')\n",
    "\n"
   ]
  },
  {
   "cell_type": "code",
   "execution_count": 232,
   "metadata": {
    "collapsed": false
   },
   "outputs": [
    {
     "data": {
      "text/plain": [
       "609.92735294609281"
      ]
     },
     "execution_count": 232,
     "metadata": {},
     "output_type": "execute_result"
    }
   ],
   "source": [
    "velocityField.data[tWalls.data].max()"
   ]
  },
  {
   "cell_type": "code",
   "execution_count": 233,
   "metadata": {
    "collapsed": false
   },
   "outputs": [
    {
     "data": {
      "text/plain": [
       "1394.4794120332097"
      ]
     },
     "execution_count": 233,
     "metadata": {},
     "output_type": "execute_result"
    }
   ],
   "source": [
    "velocityField.data.max()"
   ]
  },
  {
   "cell_type": "code",
   "execution_count": 165,
   "metadata": {
    "collapsed": false
   },
   "outputs": [
    {
     "data": {
      "text/plain": [
       "120000.0"
      ]
     },
     "execution_count": 165,
     "metadata": {},
     "output_type": "execute_result"
    }
   ],
   "source": [
    "ndp.SR"
   ]
  },
  {
   "cell_type": "code",
   "execution_count": null,
   "metadata": {
    "collapsed": true
   },
   "outputs": [],
   "source": []
  }
 ],
 "metadata": {
  "kernelspec": {
   "display_name": "Python 2",
   "language": "python",
   "name": "python2"
  },
  "language_info": {
   "codemirror_mode": {
    "name": "ipython",
    "version": 2
   },
   "file_extension": ".py",
   "mimetype": "text/x-python",
   "name": "python",
   "nbconvert_exporter": "python",
   "pygments_lexer": "ipython2",
   "version": "2.7.9"
  },
  "widgets": {
   "state": {},
   "version": "1.1.2"
  }
 },
 "nbformat": 4,
 "nbformat_minor": 0
}
