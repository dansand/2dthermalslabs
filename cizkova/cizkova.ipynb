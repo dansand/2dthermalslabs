{
 "cells": [
  {
   "cell_type": "markdown",
   "metadata": {},
   "source": [
    "## composite, non-linear rheology:\n",
    "\n",
    "\n",
    "The viscous rheology in this model is similar to the Čížková and Bina paper cited below. Other parts of the model setup are similar to Arredondo and Billen (2016) and Korenaga (2011). \n",
    "\n",
    "Here we use a dimensionless system. For the psuedo-plastic effective rheology a Drucker-prager model is used.\n",
    "\n",
    "\n",
    "**Keywords:** thermal covection, dislocation creep\n",
    "\n",
    "\n",
    "**References**\n",
    "\n",
    "Čížková, Hana, and Craig R. Bina. \"Geodynamics of trench advance: Insights from a Philippine-Sea-style geometry.\" Earth and Planetary Science Letters 430 (2015): 408-415.\n",
    "\n",
    "Arredondo, Katrina M., and Magali I. Billen. \"The Effects of Phase Transitions and Compositional Layering in Two-dimensional Kinematic Models of Subduction.\" Journal of Geodynamics (2016).\n",
    "\n",
    "Korenaga, Jun. \"Scaling of plate tectonic convection with pseudoplastic rheology.\" Journal of Geophysical Research: Solid Earth 115.B11 (2010)."
   ]
  },
  {
   "cell_type": "code",
   "execution_count": 55,
   "metadata": {
    "collapsed": false
   },
   "outputs": [],
   "source": [
    "import numpy as np\n",
    "import underworld as uw\n",
    "import math\n",
    "from underworld import function as fn\n",
    "import glucifer\n",
    "\n",
    "import os\n",
    "import sys\n",
    "import natsort\n",
    "import shutil\n",
    "from easydict import EasyDict as edict\n",
    "import operator\n",
    "import pint\n",
    "import time\n",
    "import operator\n",
    "from slippy2 import boundary_layer2d\n",
    "from slippy2 import material_graph\n",
    "from slippy2 import spmesh\n",
    "\n",
    "from mpi4py import MPI\n",
    "comm = MPI.COMM_WORLD\n",
    "rank = comm.Get_rank()"
   ]
  },
  {
   "cell_type": "markdown",
   "metadata": {},
   "source": [
    "Model name and directories\n",
    "-----"
   ]
  },
  {
   "cell_type": "code",
   "execution_count": 56,
   "metadata": {
    "collapsed": true
   },
   "outputs": [],
   "source": [
    "############\n",
    "#Model name.  \n",
    "############\n",
    "Model = \"T\"\n",
    "ModNum = 3\n",
    "\n",
    "if len(sys.argv) == 1:\n",
    "    ModIt = \"Base\"\n",
    "elif sys.argv[1] == '-f':\n",
    "    ModIt = \"Base\"\n",
    "else:\n",
    "    ModIt = str(sys.argv[1])"
   ]
  },
  {
   "cell_type": "code",
   "execution_count": 57,
   "metadata": {
    "collapsed": false
   },
   "outputs": [],
   "source": [
    "###########\n",
    "#Standard output directory setup\n",
    "###########\n",
    "\n",
    "\n",
    "outputPath = \"results\" + \"/\" +  str(Model) + \"/\" + str(ModNum) + \"/\" + str(ModIt) + \"/\"\n",
    "imagePath = outputPath + 'images/'\n",
    "filePath = outputPath + 'files/'\n",
    "checkpointPath = outputPath + 'checkpoint/'\n",
    "dbPath = outputPath + 'gldbs/'\n",
    "outputFile = 'results_model' + Model + '_' + str(ModNum) + '_' + str(ModIt) + '.dat'\n",
    "\n",
    "if uw.rank()==0:\n",
    "    # make directories if they don't exist\n",
    "    if not os.path.isdir(outputPath):\n",
    "        os.makedirs(outputPath)\n",
    "    if not os.path.isdir(checkpointPath):\n",
    "        os.makedirs(checkpointPath)\n",
    "    if not os.path.isdir(imagePath):\n",
    "        os.makedirs(imagePath)\n",
    "    if not os.path.isdir(dbPath):\n",
    "        os.makedirs(dbPath)\n",
    "    if not os.path.isdir(filePath):\n",
    "        os.makedirs(filePath)\n",
    "        \n",
    "comm.Barrier() #Barrier here so no procs run the check in the next cell too early"
   ]
  },
  {
   "cell_type": "code",
   "execution_count": 58,
   "metadata": {
    "collapsed": false
   },
   "outputs": [
    {
     "name": "stdout",
     "output_type": "stream",
     "text": [
      "results/T/3/Base/checkpoint/ is empty\n"
     ]
    }
   ],
   "source": [
    "###########\n",
    "#Check if starting from checkpoint\n",
    "###########\n",
    "\n",
    "checkdirs = []\n",
    "for dirpath, dirnames, files in os.walk(checkpointPath):\n",
    "    if files:\n",
    "        print dirpath, 'has files'\n",
    "        checkpointLoad = True\n",
    "        checkdirs.append(dirpath)\n",
    "    if not files:\n",
    "        print dirpath, 'is empty'\n",
    "        checkpointLoad = False"
   ]
  },
  {
   "cell_type": "markdown",
   "metadata": {},
   "source": [
    "Setup parameters\n",
    "-----\n",
    "\n",
    "Set simulation parameters for test."
   ]
  },
  {
   "cell_type": "markdown",
   "metadata": {},
   "source": [
    "**Use pint to setup any unit conversions we'll need**"
   ]
  },
  {
   "cell_type": "code",
   "execution_count": 59,
   "metadata": {
    "collapsed": false
   },
   "outputs": [
    {
     "data": {
      "text/html": [
       "10000.0 meter/megayear"
      ],
      "text/latex": [
       "$10000.0 \\frac{meter}{megayear}$"
      ],
      "text/plain": [
       "<Quantity(10000.0, 'meter / megayear')>"
      ]
     },
     "execution_count": 59,
     "metadata": {},
     "output_type": "execute_result"
    }
   ],
   "source": [
    "u = pint.UnitRegistry()\n",
    "cmpery = 1.*u.cm/u.year\n",
    "mpermy = 1.*u.m/u.megayear\n",
    "\n",
    "cmpery.to(mpermy)"
   ]
  },
  {
   "cell_type": "markdown",
   "metadata": {},
   "source": [
    "**Set parameter dictionaries**"
   ]
  },
  {
   "cell_type": "code",
   "execution_count": null,
   "metadata": {
    "collapsed": false
   },
   "outputs": [],
   "source": []
  },
  {
   "cell_type": "code",
   "execution_count": 60,
   "metadata": {
    "collapsed": false
   },
   "outputs": [],
   "source": [
    "#dimensional parameter dictionary\n",
    "dp = edict({#'LS':2900.*1e3,\n",
    "            'LS':2000.*1e3,\n",
    "           'rho':3300,\n",
    "           'g':9.8, \n",
    "           'eta0':4e20, #Dislocation creep at 250 km, 1573 K, 1e-15 s-1 \n",
    "           'k':1e-6,\n",
    "           'a':3e-5, #surface thermal expansivity\n",
    "           'TP':1573., #potential temp\n",
    "           'TS':273., #surface temp\n",
    "           'cohesion':1e7, #\n",
    "           'fc':0.06,        #This is the value from \n",
    "           'Adf':1e-9,\n",
    "           'Ads':3.1e-17,\n",
    "           'Edf':3.35e5,\n",
    "           'Eds':4.8e5,\n",
    "           'Vdf':4e-6,\n",
    "           'Vds':11e-6,\n",
    "           'Alm':1.3e-16,\n",
    "           'Elm':2.0e5,\n",
    "           'Vlm':1.1e-6,\n",
    "           'Ba':4.3e-12,  #A value to simulate pressure increase with depth\n",
    "           'SR':1e-15,\n",
    "           'Dr':250e3, #Reference depth\n",
    "           'n':3.5,\n",
    "           'R':8.314,\n",
    "           'Cp':1250., #Jkg-1K-1\n",
    "           'StALS':100e3,\n",
    "           'plate_vel':8})\n",
    "\n",
    "#Adibatic heating stuff\n",
    "dp.dTa = (dp.a*dp.g*(dp.TP))/dp.Cp #adibatic gradient, at Tp\n",
    "dp.deltaTa = (dp.TP + dp.dTa*dp.LS) - dp.TS  #Adiabatic Temp at base of mantle, minus Ts\n",
    "dp.deltaT = dp.deltaTa\n",
    "\n",
    "\n",
    "#ndf = (1./dp.Adf)*np.exp( ((dp.Edf + dp.Vdf*dp.Pr))/((dp.R*dp.Tr)))\n",
    "#nds = (1./dp.Ads**(1/dp.n))*(dp.SR**((1-dp.n)/dp.n))*np.exp( ((dp.Eds + dp.Vds*dp.Pr))/((dp.n*dp.R*dp.Tr)))\n",
    "\n",
    "\n",
    "#scale_factors\n",
    "\n",
    "sf = edict({'stress':dp.LS**2/(dp.k*dp.eta0),\n",
    "            'lith_grad':dp.rho*dp.g*(dp.LS)**3/(dp.eta0*dp.k) ,\n",
    "            'vel':dp.LS/dp.k,\n",
    "            'SR':dp.LS**2/dp.k,\n",
    "            'W':(-1./dp.Ba)*(np.log(1.-dp.rho*dp.g*dp.Ba*dp.LS))/(dp.R*dp.deltaTa), #Including adiabatic compression, and deltaTa\n",
    "            'E': 1./(dp.R*dp.deltaTa), #using deltaTa, the guesstimated adiabatic temp differnnce to scale these paramters\n",
    "            'Ads':(dp.eta0**(dp.n-2))*((dp.k)**(dp.n-1))*((dp.LS)**(2. - 2*dp.n))       })\n",
    "\n",
    "#dimensionless parameters\n",
    "\n",
    "\n",
    "ndp = edict({'RA':(dp.g*dp.rho*dp.a*dp.deltaT*(dp.LS)**3)/(dp.k*dp.eta0),\n",
    "            'cohesion':dp.cohesion*sf.stress,\n",
    "            'fcd':dp.fc*sf.lith_grad,\n",
    "            'gamma':dp.fc/(dp.a*dp.deltaT),\n",
    "            'Wdf':dp.Vdf*sf.W,\n",
    "            'Edf':dp.Edf*sf.E,\n",
    "            'Wds':dp.Vds*sf.W,\n",
    "            'Eds':dp.Eds*sf.E,\n",
    "            'Elm':dp.Elm*sf.E,\n",
    "           'Wlm':dp.Vlm*sf.W,\n",
    "            'TSP':0., \n",
    "            'TBP':1.,\n",
    "            'TPP':(dp.TP - dp.TS)/dp.deltaT,\n",
    "            'Dr':dp.Dr/dp.LS,\n",
    "            'n':1.,\n",
    "            'TS':dp.TS/dp.deltaT,\n",
    "            'TP':dp.TP/dp.deltaT,\n",
    "             #'eta_crust':1e21/dp.eta0,\n",
    "             'eta_crust':1.,\n",
    "            'eta_min':1e-3,\n",
    "            'eta_max':1e5,\n",
    "            'H':0.,\n",
    "            'Tmvp':0.6,\n",
    "             'Di': dp.a*dp.g*dp.LS/dp.Cp, #Dissipation number\n",
    "            'Steta0':1e2,\n",
    "            'plate_vel':sf.vel*dp.plate_vel*(cmpery.to(u.m/u.second)).magnitude,})\n",
    "\n",
    "\n",
    "\n",
    "\n",
    "dp.VR = (0.1*(dp.k/dp.LS)*ndp.RA**(2/3.)) #characteristic velocity from a scaling relationship\n",
    "dp.SR = dp.VR/dp.LS #characteristic strain rate\n",
    "ndp.VR = dp.VR*sf.vel #characteristic velocity\n",
    "ndp.SR = dp.SR*sf.SR #characteristic strain rate\n",
    "\n",
    "ndp.StRA = (3300.*dp.g*(dp.LS)**3)/(dp.eta0 *dp.k) #Composisitional Rayleigh number for rock-air buoyancy force\n",
    "\n",
    "\n",
    "ndp.TaP = 1. - ndp.TPP,  #Dimensionles adiabtic component of delta t"
   ]
  },
  {
   "cell_type": "code",
   "execution_count": 61,
   "metadata": {
    "collapsed": false
   },
   "outputs": [
    {
     "data": {
      "text/plain": [
       "1.0"
      ]
     },
     "execution_count": 61,
     "metadata": {},
     "output_type": "execute_result"
    }
   ],
   "source": [
    "ndp.eta_crust"
   ]
  },
  {
   "cell_type": "code",
   "execution_count": 62,
   "metadata": {
    "collapsed": false
   },
   "outputs": [
    {
     "data": {
      "text/plain": [
       "(19.75229500743525,\n",
       " 28.301795831549015,\n",
       " 17.875211307509375,\n",
       " 49.15683109565078,\n",
       " 100000.0,\n",
       " 39582980.236800015)"
      ]
     },
     "execution_count": 62,
     "metadata": {},
     "output_type": "execute_result"
    }
   ],
   "source": [
    "#(dp.g*dp.rho*dp.a*dp.deltaT*(dp.LS)**3)/(dp.k*1e6)\n",
    "#sf.SR/(60*60*24*365*1e6)\n",
    "#dp.LS**2/dp.k\n",
    "#sf.SR\n",
    "ndp.Edf,  ndp.Eds, ndp.Wdf, ndp.Wds, ndp.cohesion, ndp.RA"
   ]
  },
  {
   "cell_type": "code",
   "execution_count": 63,
   "metadata": {
    "collapsed": false
   },
   "outputs": [],
   "source": [
    "#A few parameters defining lengths scales, affects materal transistions etc.\n",
    "MANTLETOCRUST = (20.*1e3)/dp.LS #Crust depth\n",
    "CRUSTTOMANTLE = (200.*1e3)/dp.LS\n",
    "LITHTOMANTLE = (900.*1e3)/dp.LS \n",
    "MANTLETOLITH = (200.*1e3)/dp.LS \n",
    "TOPOHEIGHT = (10.*1e3)/dp.LS  #rock-air topography limits\n",
    "CRUSTTOECL  = (100.*1e3)/dp.LS\n",
    "AVGTEMP = ndp.TPP #Used to define lithosphere\n",
    "LOWERMANTLE = (1000.*1e3)/dp.LS \n"
   ]
  },
  {
   "cell_type": "markdown",
   "metadata": {},
   "source": [
    "**Model setup parameters**"
   ]
  },
  {
   "cell_type": "code",
   "execution_count": 64,
   "metadata": {
    "collapsed": false
   },
   "outputs": [],
   "source": [
    "###########\n",
    "#Model setup parameters\n",
    "###########\n",
    "\n",
    "refineMesh = True\n",
    "stickyAir = False \n",
    "lower_mantle = False \n",
    "melt_viscosity_reduction= False\n",
    "\n",
    "\n",
    "\n",
    "\n",
    "MINX = -2.\n",
    "MINY = 0.\n",
    "MAXX = 2.\n",
    "\n",
    "#MAXY = 1.035\n",
    "MAXY = 1.\n",
    "\n",
    "if MINX == 0.:\n",
    "    squareModel = True\n",
    "else: \n",
    "    squareModel = False\n",
    "    \n",
    "    \n",
    "dim = 2          # number of spatial dimensions\n",
    "\n",
    "\n",
    "#MESH STUFF\n",
    "\n",
    "RES = 92\n",
    "\n",
    "Xres = int(RES*4)\n",
    "\n",
    "\n",
    "if stickyAir:\n",
    "    Yres = RES\n",
    "    MAXY = 1. + dp.StALS/dp.LS #150km\n",
    "    \n",
    "else:\n",
    "    Yres = RES\n",
    "    MAXY = 1.\n",
    "\n",
    "\n",
    "periodic = [False, False]\n",
    "elementType = \"Q1/dQ0\"\n",
    "#elementType =\"Q2/DPC1\"\n",
    "\n",
    "\n",
    "#System/Solver stuff\n",
    "\n",
    "PIC_integration=True\n",
    "ppc = 25\n",
    "\n",
    "#Output and safety stuff\n",
    "\n",
    "swarm_repop, swarm_update = 10, 10\n",
    "gldbs_output = 20\n",
    "checkpoint_every, files_output = 50, 50\n",
    "metric_output = 10\n",
    "sticky_air_temp = 5"
   ]
  },
  {
   "cell_type": "markdown",
   "metadata": {},
   "source": [
    "Create mesh and finite element variables\n",
    "------"
   ]
  },
  {
   "cell_type": "code",
   "execution_count": 65,
   "metadata": {
    "collapsed": false
   },
   "outputs": [],
   "source": [
    "mesh = uw.mesh.FeMesh_Cartesian( elementType = (elementType),\n",
    "                                 elementRes  = (Xres, Yres), \n",
    "                                 minCoord    = (MINX, MINY), \n",
    "                                 maxCoord    = (MAXX, MAXY), periodic=periodic)\n",
    "\n",
    "velocityField       = uw.mesh.MeshVariable( mesh=mesh,         nodeDofCount=2 )\n",
    "pressureField       = uw.mesh.MeshVariable( mesh=mesh.subMesh, nodeDofCount=1 )\n",
    "temperatureField    = uw.mesh.MeshVariable( mesh=mesh,         nodeDofCount=1 )\n",
    "temperatureDotField = uw.mesh.MeshVariable( mesh=mesh,         nodeDofCount=1 )"
   ]
  },
  {
   "cell_type": "code",
   "execution_count": 66,
   "metadata": {
    "collapsed": false
   },
   "outputs": [],
   "source": [
    "axis = 1\n",
    "orgs = np.linspace(mesh.minCoord[axis], mesh.maxCoord[axis], mesh.elementRes[axis] + 1)\n",
    "\n",
    "value_to_constrain = 1.\n",
    "\n",
    "\n",
    "yconst = [(spmesh.find_closest(orgs, value_to_constrain), np.array([value_to_constrain,0]))]"
   ]
  },
  {
   "cell_type": "code",
   "execution_count": 67,
   "metadata": {
    "collapsed": true
   },
   "outputs": [],
   "source": [
    "mesh.reset()"
   ]
  },
  {
   "cell_type": "code",
   "execution_count": 68,
   "metadata": {
    "collapsed": false
   },
   "outputs": [
    {
     "name": "stdout",
     "output_type": "stream",
     "text": [
      "Min\n",
      "(92, 0.0065228260869565693, 0.84738260869565207, 0.61717802197803362)\n",
      "('edges', 92)\n",
      "-- iteration 0 --\n",
      "| F( p_n ) |^2: 3.86187938314e-05\n",
      "| p_n+1 - p_n |^2: 0.501259071\n",
      "-- iteration 1 --\n",
      "| F( p_n ) |^2: 4.35579149579e-31\n",
      "Min, Max element width: \n",
      "0.00652\n",
      "0.01522\n"
     ]
    }
   ],
   "source": [
    "#Y-Axis\n",
    "if refineMesh:\n",
    "    #Y-Axis\n",
    "    axis = 1\n",
    "    origcoords = np.linspace(mesh.minCoord[axis], mesh.maxCoord[axis], mesh.elementRes[axis] + 1)\n",
    "    edge_rest_lengths = np.diff(origcoords)\n",
    "\n",
    "    deform_lengths = edge_rest_lengths.copy()\n",
    "    min_point =  (mesh.maxCoord[axis])\n",
    "    el_reduction = 0.6001\n",
    "    dx = mesh.maxCoord[axis]\n",
    "\n",
    "    deform_lengths = deform_lengths - \\\n",
    "                                    ((1.-el_reduction)*deform_lengths[0]) + \\\n",
    "                                    abs((origcoords[1:] - min_point))*((0.5*deform_lengths[0])/dx)\n",
    "\n",
    "    #print(edge_rest_lengths.shape, deform_lengths.shape)\n",
    "\n",
    "    spmesh.deform_1d(deform_lengths, mesh,axis = 'y',norm = 'Min', constraints = yconst)"
   ]
  },
  {
   "cell_type": "markdown",
   "metadata": {},
   "source": [
    "Initial conditions\n",
    "-------\n"
   ]
  },
  {
   "cell_type": "code",
   "execution_count": 69,
   "metadata": {
    "collapsed": true
   },
   "outputs": [],
   "source": [
    "coordinate = fn.input()\n",
    "depthFn = 1. - coordinate[1]"
   ]
  },
  {
   "cell_type": "code",
   "execution_count": 70,
   "metadata": {
    "collapsed": false
   },
   "outputs": [],
   "source": [
    "#Work out actual temp at 200 km\n",
    "\n",
    "potTempFn = ndp.TPP + (depthFn)*ndp.TaP\n",
    "\n",
    "abHeatFn = -1.*velocityField[1]*temperatureField*ndp.Di"
   ]
  },
  {
   "cell_type": "code",
   "execution_count": 71,
   "metadata": {
    "collapsed": false
   },
   "outputs": [],
   "source": [
    "symmetric_IC = False\n",
    "slab_IC = True\n",
    "\n",
    "\n",
    "#Sinusoidal initial condition\n",
    "A = 0.2\n",
    "sinFn = depthFn + A*(fn.math.cos( math.pi * coordinate[0])  * fn.math.sin( math.pi * coordinate[1] ))        \n",
    "\n",
    "#Initial Slab depth\n",
    "iD = 660e3/dp.LS\n",
    "\n",
    "#Boundary layer/slab initial condition\n",
    "dl =  2*math.sqrt(dp.k*160e6*3600*24*365) #diffusion Length at ... My\n",
    "w0 = dl/dp.LS\n",
    "#w0 = 0.1\n",
    "delX1 = fn.misc.min(fn.math.abs(coordinate[0] - -0.), fn.math.abs(coordinate[0] - -2.))\n",
    "delX = fn.misc.min(delX1 , fn.math.abs(coordinate[0] - 2.))\n",
    "w = w0*fn.math.sqrt(delX + 1e-7)\n",
    "#tempBL = (ndp.TIP - ndp.TSP) *fn.math.erf((depthFn)/w) + ndp.TSP\n",
    "tempBL = (potTempFn) *fn.math.erf((depthFn)/w) + ndp.TSP\n",
    "\n",
    "\n",
    "delX = fn.misc.min(fn.math.abs(coordinate[0] - - 1.) , fn.math.abs(coordinate[0] - 1.))\n",
    "#tempSlab = (ndp.TIP - ndp.TSP) *fn.math.erf((delX*2.)/w0) + ndp.TSP \n",
    "tempSlab = (potTempFn ) *fn.math.erf((delX*2.)/w0) + ndp.TSP       \n",
    "\n",
    "tempFn1 =  fn.misc.min(tempBL, tempSlab)\n",
    "blFn = fn.branching.conditional([(depthFn < iD, tempFn1), \n",
    "                                    (True, potTempFn)])\n",
    "\n",
    "tempFn = 0.2*sinFn + 0.8*blFn #partition the temp between these two functions\n",
    "\n",
    "if symmetric_IC:  \n",
    "    if not checkpointLoad:\n",
    "        temperatureField.data[:] = tempFn.evaluate(mesh)  "
   ]
  },
  {
   "cell_type": "code",
   "execution_count": 72,
   "metadata": {
    "collapsed": false
   },
   "outputs": [],
   "source": [
    "###########\n",
    "#Boundary layer / slab paramaters\n",
    "###########\n",
    "\n",
    "dl =  2*math.sqrt(dp.k*160e6*3600*24*365) #diffusion Length at ... My\n",
    "w0 = dl/dp.LS\n",
    "\n",
    "\n",
    "ageFn = (fn.math.abs(fn.math.abs(coordinate[0]) - 2.)/2.)\n",
    "\n",
    "ageFn  = fn.branching.conditional([(coordinate[0] <= 0, ageFn),\n",
    "                                  (True, ageFn/3.)])\n",
    "\n",
    "w = w0*fn.math.sqrt(ageFn + 1e-7)\n",
    "#tempBL = (ndp.TIP - ndp.TSP) *fn.math.erf((depthFn)/w) + ndp.TSP\n",
    "tempBL = (potTempFn) *fn.math.erf((depthFn)/w) + ndp.TSP\n",
    "\n",
    "if slab_IC:\n",
    "    if not checkpointLoad:\n",
    "        temperatureField.data[:] = tempBL.evaluate(mesh) \n",
    "\n"
   ]
  },
  {
   "cell_type": "code",
   "execution_count": 73,
   "metadata": {
    "collapsed": true
   },
   "outputs": [],
   "source": [
    "#Make sure material in stick air region is at the surface temperature.\n",
    "for index, coord in enumerate(mesh.data):\n",
    "            if coord[1] >= 1.:\n",
    "                temperatureField.data[index] = ndp.TSP"
   ]
  },
  {
   "cell_type": "code",
   "execution_count": 74,
   "metadata": {
    "collapsed": false
   },
   "outputs": [],
   "source": [
    "#Slab perturbation paramaters\n",
    "Roc = 550.\n",
    "theta = 89.\n",
    "subzone = 0.0\n",
    "\n",
    "def inCircleFnGenerator(centre, radius):\n",
    "    coord = fn.input()\n",
    "    offsetFn = coord - centre\n",
    "    return fn.math.dot( offsetFn, offsetFn ) < radius**2\n",
    "\n",
    "#Setup slab perturbation params (mostly dimensionles / model params here)\n",
    "phi = 90. - theta\n",
    "RocM = (Roc/dp.LS)*1e3\n",
    "CrustM = MANTLETOCRUST\n",
    "#slabdepth = lithdepthfunc(agefunc(off, off, vel), dp.k)\n",
    "#slabdepthM *= 5.\n",
    "Org = (subzone, 1.-RocM)\n",
    "#Use three circles to define our slab and crust perturbation,  \n",
    "\n",
    "Oc = inCircleFnGenerator(Org , RocM)\n",
    "Ic = inCircleFnGenerator(Org , RocM - w0)\n",
    "Cc = inCircleFnGenerator(Org , RocM + 2.*CrustM) #Twice as wide as ordinary crust, weak zone on 'outside' of slab\n",
    "dx = (RocM)/(np.math.tan((np.math.pi/180.)*phi))\n",
    "\n",
    "\n",
    "#Work our which way the slab should face:\n",
    "sense = 'Right'\n",
    "#if lith.agefunc(subzone + 0.0001) < lith.agefunc(subzone - 0.0001):\n",
    "#    sense = 'Right'\n",
    "\n",
    "#We'll also create a triangle which will truncate the circles defining the slab...\n",
    "if sense == 'Left': \n",
    "    ptx = subzone - dx\n",
    "else:\n",
    "    ptx = subzone + dx\n",
    "\n",
    "coords = ((0.+subzone, 1), (0.+subzone, 1.-RocM), (ptx, 1.))\n",
    "Tri = fn.shape.Polygon(np.array(coords))"
   ]
  },
  {
   "cell_type": "code",
   "execution_count": null,
   "metadata": {
    "collapsed": false
   },
   "outputs": [],
   "source": []
  },
  {
   "cell_type": "code",
   "execution_count": 75,
   "metadata": {
    "collapsed": false
   },
   "outputs": [],
   "source": [
    "sdFn = ((RocM - fn.math.sqrt((coordinate[0] - Org[0])**2. + (coordinate[1] - Org[1])**2.))) \n",
    "slabFn = ndp.TPP*fn.math.erf((sdFn)/w0)\n",
    "\n",
    "for index, coord in enumerate(mesh.data):\n",
    "    #if Oc.evaluate(tuple(coord)) and Tri.evaluate(tuple(coord)) and not Ic.evaluate(tuple(coord)): #in inner circle, not in outer circle\n",
    "    if (\n",
    "        Oc.evaluate(tuple(coord)) and\n",
    "        Tri.evaluate(tuple(coord)) and not\n",
    "        Ic.evaluate(tuple(coord)) and\n",
    "        coord[1] > (1. - (250.e3/dp.LS)) \n",
    "        ): #In the quarter-circle defining the lithosphere\n",
    "        temperatureField.data[index] = slabFn.evaluate(mesh)[index]"
   ]
  },
  {
   "cell_type": "code",
   "execution_count": 76,
   "metadata": {
    "collapsed": false,
    "scrolled": true
   },
   "outputs": [
    {
     "data": {
      "text/html": [
       "<img src='data:image/png;base64,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'>"
      ],
      "text/plain": [
       "<IPython.core.display.HTML object>"
      ]
     },
     "metadata": {},
     "output_type": "display_data"
    }
   ],
   "source": [
    "fig= glucifer.Figure()\n",
    "fig.append( glucifer.objects.Surface(mesh, temperatureField))\n",
    "#fig.show()"
   ]
  },
  {
   "cell_type": "code",
   "execution_count": null,
   "metadata": {
    "collapsed": false
   },
   "outputs": [],
   "source": []
  },
  {
   "cell_type": "markdown",
   "metadata": {},
   "source": [
    "**Boundary conditions**"
   ]
  },
  {
   "cell_type": "code",
   "execution_count": 77,
   "metadata": {
    "collapsed": false
   },
   "outputs": [],
   "source": [
    "for index in mesh.specialSets[\"MinJ_VertexSet\"]:\n",
    "    temperatureField.data[index] = ndp.TBP\n",
    "for index in mesh.specialSets[\"MaxJ_VertexSet\"]:\n",
    "    temperatureField.data[index] = ndp.TSP\n",
    "    \n",
    "iWalls = mesh.specialSets[\"MinI_VertexSet\"] + mesh.specialSets[\"MaxI_VertexSet\"]\n",
    "jWalls = mesh.specialSets[\"MinJ_VertexSet\"] + mesh.specialSets[\"MaxJ_VertexSet\"]\n",
    "tWalls = mesh.specialSets[\"MaxJ_VertexSet\"]\n",
    "bWalls =mesh.specialSets[\"MinJ_VertexSet\"]\n",
    "\n",
    "VelBCs = mesh.specialSets[\"Empty\"]\n",
    "for index in list(tWalls.data):\n",
    "    if (mesh.data[int(index)][0] < (subzone - 0.2) and mesh.data[int(index)][0] > -2 + 0.2): #Only push with a portion of teh overiding plate\n",
    "        VelBCs.add(int(index))\n",
    "        #Set the plate velocities for the kinematic phase\n",
    "        velocityField.data[index] = [ndp.plate_vel, 0.]\n",
    "\n",
    "\n",
    "freeslipBC = uw.conditions.DirichletCondition( variable      = velocityField, \n",
    "                                               indexSetsPerDof = ( iWalls + VelBCs, jWalls) )\n",
    "\n",
    "#If periodic, we'll fix a the x-vel at a single node - at the bottom left (index 0)\n",
    "Fixed = mesh.specialSets[\"Empty\"]\n",
    "Fixed.add(int(0))\n",
    "\n",
    "\n",
    "\n",
    "\n",
    "if periodic[0] == True:\n",
    "    freeslipBC = uw.conditions.DirichletCondition( variable      = velocityField, \n",
    "                                               indexSetsPerDof = ( Fixed + VelBCs , jWalls) )\n",
    "    \n",
    "    \n",
    "    \n",
    "# also set dirichlet for temp field\n",
    "dirichTempBC = uw.conditions.DirichletCondition(     variable=temperatureField, \n",
    "                                              indexSetsPerDof=(tWalls,) )\n",
    "dT_dy = [0.,0.]\n",
    "\n",
    "# also set dirichlet for temp field\n",
    "neumannTempBC = uw.conditions.NeumannCondition( dT_dy, variable=temperatureField, \n",
    "                                         nodeIndexSet=bWalls)\n",
    "\n"
   ]
  },
  {
   "cell_type": "markdown",
   "metadata": {},
   "source": [
    "Particles\n",
    "-----\n"
   ]
  },
  {
   "cell_type": "code",
   "execution_count": 78,
   "metadata": {
    "collapsed": false
   },
   "outputs": [],
   "source": [
    "###########\n",
    "#Material Swarm and variables\n",
    "###########\n",
    "\n",
    "\n",
    "gSwarm = uw.swarm.Swarm(mesh=mesh, particleEscape=True)\n",
    "\n",
    "yieldingCheck = gSwarm.add_variable( dataType=\"int\", count=1 )\n",
    "tracerVariable = gSwarm.add_variable( dataType=\"int\", count=1)\n",
    "materialVariable = gSwarm.add_variable( dataType=\"int\", count=1 )\n",
    "timeVariable = gSwarm.add_variable( dataType=\"float\", count=1 )\n",
    "\n",
    "\n"
   ]
  },
  {
   "cell_type": "code",
   "execution_count": 79,
   "metadata": {
    "collapsed": false
   },
   "outputs": [],
   "source": [
    "varlist = [tracerVariable, tracerVariable, yieldingCheck]\n",
    "\n",
    "varlist = [materialVariable, yieldingCheck, timeVariable]\n",
    "varnames = ['materialVariable', 'yieldingCheck', 'timeVariable']"
   ]
  },
  {
   "cell_type": "code",
   "execution_count": 80,
   "metadata": {
    "collapsed": false
   },
   "outputs": [],
   "source": [
    "mantleIndex = 0\n",
    "lithosphereIndex = 1\n",
    "crustIndex = 2\n",
    "eclIndex = 3\n",
    "airIndex = 4\n",
    "lowermantleIndex = 5\n",
    "\n",
    "\n",
    "if checkpointLoad:\n",
    "    checkpointLoadDir = natsort.natsort(checkdirs)[-1]\n",
    "    temperatureField.load(os.path.join(checkpointLoadDir, \"temperatureField\" + \".hdf5\"))\n",
    "    pressureField.load(os.path.join(checkpointLoadDir, \"pressureField\" + \".hdf5\"))\n",
    "    velocityField.load(os.path.join(checkpointLoadDir, \"velocityField\" + \".hdf5\"))\n",
    "    gSwarm.load(os.path.join(checkpointLoadDir, \"swarm\" + \".h5\"))\n",
    "    for ix in range(len(varlist)):\n",
    "        varb = varlist[ix]\n",
    "        varb.load(os.path.join(checkpointLoadDir,varnames[ix] + \".h5\"))\n",
    "\n",
    "else:\n",
    "\n",
    "    # Layouts are used to populate the swarm across the whole domain\n",
    "    # Create the layout object\n",
    "    layout = uw.swarm.layouts.PerCellRandomLayout(swarm=gSwarm, particlesPerCell=ppc)\n",
    "    # Now use it to populate.\n",
    "    gSwarm.populate_using_layout( layout=layout )\n",
    "\n",
    "    # Swarm variables\n",
    "    materialVariable.data[:] = mantleIndex\n",
    "    tracerVariable.data[:] = 1\n",
    "    yieldingCheck.data[:] = 0\n",
    "    timeVariable.data[:] = 0.\n",
    "    \n",
    "    #Set initial air and crust materials (allow the graph to take care of lithsophere)\n",
    "    #########\n",
    "    #This initial material setup will be model dependent\n",
    "    #########\n",
    "    for particleID in range(gSwarm.particleCoordinates.data.shape[0]):\n",
    "        if (1. - gSwarm.particleCoordinates.data[particleID][1]) < MANTLETOCRUST:\n",
    "                 materialVariable.data[particleID] = crustIndex"
   ]
  },
  {
   "cell_type": "markdown",
   "metadata": {
    "collapsed": true
   },
   "source": [
    "**Passive tracer layout**"
   ]
  },
  {
   "cell_type": "code",
   "execution_count": 81,
   "metadata": {
    "collapsed": false
   },
   "outputs": [],
   "source": [
    "#Passive tracers are not included in checkpoint - Probably best to remove this once models are properly bugchecked\n",
    "\n",
    "square_size = 0.1\n",
    "\n",
    "xlist = np.arange(mesh.minCoord[0] + square_size/2., mesh.maxCoord[0] + square_size/2., square_size)\n",
    "xlist = zip(xlist[:], xlist[1:])[::2]\n",
    "ylist = np.arange(mesh.minCoord[1] + square_size/2., mesh.maxCoord[1] + square_size/2., square_size)\n",
    "ylist = zip(ylist[:], ylist[1:])[::2]\n",
    "xops = []\n",
    "for vals in xlist:\n",
    "    xops.append( (operator.and_(   operator.gt(coordinate[0],vals[0]),   operator.lt(coordinate[0],vals[1])  ),0.) )\n",
    "xops.append((True,1.))\n",
    "\n",
    "testfunc = fn.branching.conditional(xops) \n",
    "\n",
    "yops = []\n",
    "for vals in ylist:\n",
    "    yops.append( (operator.and_(   operator.gt(coordinate[1],vals[0]),   operator.lt(coordinate[1],vals[1])  ),0.) )\n",
    "yops.append((True,testfunc))\n",
    "\n",
    "testfunc2 = fn.branching.conditional(yops) \n",
    "\n",
    "tracerVariable.data[:] = testfunc.evaluate(gSwarm)\n",
    "tracerVariable.data[:] = testfunc2.evaluate(gSwarm)"
   ]
  },
  {
   "cell_type": "markdown",
   "metadata": {
    "collapsed": false
   },
   "source": [
    "**Material swarm and graphs**"
   ]
  },
  {
   "cell_type": "code",
   "execution_count": 82,
   "metadata": {
    "collapsed": false
   },
   "outputs": [],
   "source": [
    "\n",
    "##############\n",
    "#Important: This is a quick fix for a bug that arises in parallel runs\n",
    "##############\n",
    "material_list = [0,2,5]"
   ]
  },
  {
   "cell_type": "code",
   "execution_count": 83,
   "metadata": {
    "collapsed": false
   },
   "outputs": [
    {
     "data": {
      "text/plain": [
       "0.1"
      ]
     },
     "execution_count": 83,
     "metadata": {},
     "output_type": "execute_result"
    }
   ],
   "source": [
    "CRUSTTOMANTLE"
   ]
  },
  {
   "cell_type": "code",
   "execution_count": 84,
   "metadata": {
    "collapsed": false
   },
   "outputs": [],
   "source": [
    "#All depth conditions are given as (km/D) where D is the length scale,\n",
    "#note that 'model depths' are used, e.g. 1-z, where z is the vertical Underworld coordinate\n",
    "#All temp conditions are in dimensionless temp. [0. - 1.]\n",
    "\n",
    "if not checkpointLoad:\n",
    "    materialVariable.data[:] = 0\n",
    "\n",
    "#######Graph object\n",
    "#DG = nx.DiGraph(field=\"Depth\")\n",
    "DG = material_graph.MatGraph()\n",
    "\n",
    "#Important: First thing to do is to add all the material types to the graph (i.e add nodes)\n",
    "DG.add_nodes_from(material_list)\n",
    "\n",
    "\n",
    "#Anything to mantle\n",
    "DG.add_transition((crustIndex,mantleIndex), depthFn, operator.gt, CRUSTTOMANTLE)\n",
    "#DG.add_transition((airIndex,mantleIndex), depthFn, operator.gt, TOPOHEIGHT)\n",
    "#DG.add_transition((lowermantleIndex, mantleIndex), depthFn, operator.lt, LOWERMANTLE)\n",
    "\n",
    "\n",
    "\n",
    "#Anything to lower mantle\n",
    "DG.add_transition((mantleIndex, lowermantleIndex), depthFn, operator.gt, LOWERMANTLE)\n",
    "\n",
    "\n",
    "\n",
    "#Anything to crust\n",
    "DG.add_transition((mantleIndex,crustIndex), depthFn, operator.lt, MANTLETOCRUST)\n",
    "\n",
    "\n",
    "#Anything to air\n",
    "DG.add_transition((mantleIndex,airIndex), depthFn, operator.lt,0. - TOPOHEIGHT)\n",
    "DG.add_transition((crustIndex,airIndex), depthFn, operator.lt, 0. - TOPOHEIGHT)\n",
    "\n",
    "#Anything to lithsphere\n",
    "#DG.add_transition((mantleIndex,lithosphereIndex), depthFn, operator.lt, MANTLETOLITH)\n",
    "#DG.add_transition((mantleIndex,lithosphereIndex), temperatureField, operator.lt, 0.85*AVGTEMP)\n",
    "\n",
    "\n",
    "#crust to eclogite\n",
    "#DG.add_edges_from([(3,2)])\n",
    "#DG[3][2]['depthcondition'] =CRUSTTOECL\n",
    "#DG.add_transition((3,2), depthFn, operator.gt, CRUSTTOECL)"
   ]
  },
  {
   "cell_type": "code",
   "execution_count": null,
   "metadata": {
    "collapsed": false
   },
   "outputs": [],
   "source": []
  },
  {
   "cell_type": "code",
   "execution_count": 85,
   "metadata": {
    "collapsed": true
   },
   "outputs": [],
   "source": [
    "#timeVariable.data[np.where(dummyData[:] != materialVariable.data[:])] = 0. #resets those ages when a material type change\n"
   ]
  },
  {
   "cell_type": "code",
   "execution_count": 108,
   "metadata": {
    "collapsed": true
   },
   "outputs": [],
   "source": [
    "#Add crustal weak zone and the intersection of three shapes\n",
    "if checkpointLoad != True:\n",
    "    for particleID in range(gSwarm.particleCoordinates.data.shape[0]):\n",
    "        if (\n",
    "            Cc.evaluate(list(gSwarm.particleCoordinates.data[particleID])) and\n",
    "            Tri.evaluate(list(gSwarm.particleCoordinates.data[particleID])) and\n",
    "            Oc.evaluate(list(gSwarm.particleCoordinates.data[particleID])) == False\n",
    "            ):\n",
    "            materialVariable.data[particleID] = crustIndex"
   ]
  },
  {
   "cell_type": "code",
   "execution_count": 110,
   "metadata": {
    "collapsed": false
   },
   "outputs": [],
   "source": [
    "DG.build_condition_list(materialVariable)\n",
    "for i in range(2): #Need to go through twice first time through\n",
    "    materialVariable.data[:] = fn.branching.conditional(DG.condition_list).evaluate(gSwarm)"
   ]
  },
  {
   "cell_type": "code",
   "execution_count": null,
   "metadata": {
    "collapsed": false
   },
   "outputs": [],
   "source": []
  },
  {
   "cell_type": "code",
   "execution_count": 111,
   "metadata": {
    "collapsed": false
   },
   "outputs": [
    {
     "data": {
      "text/html": [
       "<img src='data:image/png;base64,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'>"
      ],
      "text/plain": [
       "<IPython.core.display.HTML object>"
      ]
     },
     "metadata": {},
     "output_type": "display_data"
    },
    {
     "data": {
      "text/plain": [
       "'test.gldb'"
      ]
     },
     "execution_count": 111,
     "metadata": {},
     "output_type": "execute_result"
    }
   ],
   "source": [
    "fig= glucifer.Figure()\n",
    "#fig.append( glucifer.objects.Points(gSwarm,tracerVariable, colours= 'white black'))\n",
    "fig.append( glucifer.objects.Points(gSwarm,materialVariable))\n",
    "#fig.append( glucifer.objects.Surface(mesh, dummyField))\n",
    "#fig.show()\n",
    "#fig.save_database('test.gldb')"
   ]
  },
  {
   "cell_type": "markdown",
   "metadata": {},
   "source": [
    "Set up material parameters and functions\n",
    "-----\n",
    "\n",
    "Setup the viscosity to be a function of the temperature. Recall that these functions and values are preserved for the entire simulation time. "
   ]
  },
  {
   "cell_type": "code",
   "execution_count": 112,
   "metadata": {
    "collapsed": false
   },
   "outputs": [],
   "source": [
    "# The yeilding of the upper slab is dependent on the strain rate.\n",
    "strainRate_2ndInvariant = fn.tensor.second_invariant( \n",
    "                            fn.tensor.symmetric( \n",
    "                            velocityField.fn_gradient ))\n",
    "\n",
    "gamma = dp.fc/(dp.a*dp.deltaT)"
   ]
  },
  {
   "cell_type": "code",
   "execution_count": 113,
   "metadata": {
    "collapsed": false
   },
   "outputs": [
    {
     "data": {
      "text/plain": [
       "(49.15683109565078, 17.875211307509375, 28.301795831549015, 19.75229500743525)"
      ]
     },
     "execution_count": 113,
     "metadata": {},
     "output_type": "execute_result"
    }
   ],
   "source": [
    "ndp.Wds, ndp.Wdf, ndp.Eds, ndp.Edf"
   ]
  },
  {
   "cell_type": "code",
   "execution_count": 114,
   "metadata": {
    "collapsed": false
   },
   "outputs": [],
   "source": [
    "#ndp.Wds = 3.\n",
    "#ndp.Wdf = 3.\n",
    "#ndp.Eds = 11.\n",
    "#ndp.Edf = 11."
   ]
  },
  {
   "cell_type": "code",
   "execution_count": 115,
   "metadata": {
    "collapsed": false
   },
   "outputs": [],
   "source": [
    "ndp.n = 3.5"
   ]
  },
  {
   "cell_type": "code",
   "execution_count": 116,
   "metadata": {
    "collapsed": false
   },
   "outputs": [
    {
     "data": {
      "text/plain": [
       "(17.875211307509375, 19.75229500743525, 100000.0)"
      ]
     },
     "execution_count": 116,
     "metadata": {},
     "output_type": "execute_result"
    }
   ],
   "source": [
    "ndp.Wdf, ndp.Edf,ndp.eta_max"
   ]
  },
  {
   "cell_type": "code",
   "execution_count": 117,
   "metadata": {
    "collapsed": false
   },
   "outputs": [],
   "source": [
    "############\n",
    "#Rheology\n",
    "#############\n",
    "#\n",
    "#The final mantle rheology is composed as follows*:\n",
    "# \n",
    "#\n",
    "# mantleviscosityFn = max{  min{(1/omega*Visc + 1/eta_p)**-1,\n",
    "#                           eta_max},\n",
    "#                           eta_min}\n",
    "#                      \n",
    "#Visc => min{diffusionCreep, dislocationCreep, }\n",
    "#eta_p   => stress-limiting effective viscosity\n",
    "#\n",
    "\n",
    "\n",
    "omega = fn.misc.constant(1.)\n",
    "\n",
    "if melt_viscosity_reduction:\n",
    "    mvr =  fn.branching.conditional( [ (temperatureField > (ndp.Tmvp + 7.5*(1. - coordinate[1])) , 0.1 ),   (         True, 1.) ] )\n",
    "    omega = omega*mvr\n",
    "\n",
    "\n",
    "#implementation of the lower mantle viscosity increase, similar to Bello et al. 2015\n",
    "a = 1.\n",
    "B = 30.\n",
    "d0 = 660e3/dp.LS  \n",
    "ds = d0/10.\n",
    "if lower_mantle:\n",
    "    inner1 = 1. - 0.5*(1. - fn.math.tanh(((1. - d0)-(coordinate[1]))/(ds)))\n",
    "    modfac = a*fn.math.exp(np.log(B)*inner1)\n",
    "    omega = omega*modfac\n",
    "\n",
    "\n",
    "\n",
    "##Diffusion Creep\n",
    "ndfp = fn.misc.min(ndp.eta_max, fn.math.exp( ((ndp.Edf + (depthFn*ndp.Wdf))/((temperatureField + ndp.TS))) - \n",
    "              ((ndp.Edf + (ndp.Dr*ndp.Wdf))/((ndp.TPP + ndp.TS)))  ))\n",
    "\n",
    "\n",
    "\n",
    "##Dislocation creep Creep\n",
    "nl_correction = (strainRate_2ndInvariant/ndp.SR)**((1.-ndp.n)/(ndp.n))\n",
    "\n",
    "\n",
    "ndsp = fn.misc.min(ndp.eta_max,(nl_correction)*fn.math.exp( ((ndp.Eds + (depthFn*ndp.Wds))/(dp.n*(temperatureField + ndp.TS))) -\n",
    "                                     ((ndp.Eds + (ndp.Dr*ndp.Wds))/(dp.n*(ndp.TPP + ndp.TS)))))\n",
    "\n",
    "\n",
    "Visc = fn.misc.min(ndp.eta_max, fn.misc.min(ndfp, ndsp))\n",
    "\n",
    "ys =  ndp.cohesion + (depthFn*gamma*ndp.RA) #In this case we'll use a valid cohesion\n",
    "yielding = ys/(strainRate_2ndInvariant/math.sqrt(0.5)) #extra factor to account for underworld second invariant form\n",
    "\n",
    "\n",
    "linearVisc = fn.misc.min(ndp.eta_max, ndfp)\n",
    "\n",
    "mantleviscosityFn = fn.misc.max(fn.misc.min(1./(((1./Visc) + (1./yielding))), ndp.eta_max), ndp.eta_min)\n",
    "\n",
    "\n",
    "\n",
    "#lower mantle rheology\n",
    "\n",
    "#ndflm = fn.misc.min(ndp.eta_max, fn.math.exp( ((ndp.Elm + (depthFn*ndp.Wlm))/((temperatureField + ndp.TS))) - \n",
    "#              ((ndp.Elm + (ndp.Dr*ndp.Wlm))/((ndp.TPP + ndp.TS)))  ))\n",
    "\n",
    "#I ignored Cizkova's lower mantle diffusion creep parameters, \n",
    "#as they appeared to give lower values that the upper mantle rheology, i.e a visc. decrease at 660.\n",
    "lm_increase = 10.\n",
    "lowermantleviscosityFn = fn.misc.max(lm_increase*ndfp, ndp.eta_min)\n",
    "\n",
    "\n",
    "##Crust rheology\n",
    "reduceFac = 0.1\n",
    "ysc =  reduceFac*ndp.cohesion + reduceFac*(depthFn*gamma*ndp.RA) #In this case we'll use a valid cohesion\n",
    "crust_yielding = ysc/(strainRate_2ndInvariant/math.sqrt(0.5)) #extra factor to account for underworld second invariant form\n",
    "crustviscosityFn = fn.misc.max(fn.misc.min(1./(((1./Visc) + (1./crust_yielding))), ndp.eta_max), ndp.eta_min)\n"
   ]
  },
  {
   "cell_type": "code",
   "execution_count": 118,
   "metadata": {
    "collapsed": false
   },
   "outputs": [
    {
     "data": {
      "text/plain": [
       "(11.79241492981209, 4.9156831095650784)"
      ]
     },
     "execution_count": 118,
     "metadata": {},
     "output_type": "execute_result"
    }
   ],
   "source": [
    "ndp.Elm, ndp.Wlm"
   ]
  },
  {
   "cell_type": "code",
   "execution_count": 124,
   "metadata": {
    "collapsed": false
   },
   "outputs": [
    {
     "data": {
      "text/html": [
       "<img src='data:image/png;base64,iVBORw0KGgoAAAANSUhEUgAAAoAAAAHgCAIAAAC6s0uzAAAgAElEQVR4nOy9acx1S3bX91+rau99znmGd7jz7Xbb3e0O2GKQsWxs4tCohYghERCS2EQkBBSJDF/yNVIUvkSKMikSXxw5QTjgoIQocQIIOcEyGEMaj8iGyGnsbvedh3d+hvOcs/euqpUPNeza55zn7dsI7pFu1u9K733OPnvXrnGtVatW1SERgaIoiqIoHy987AwoiqIoyv8fUQWsKIqiKEdAFbCiKIqiHAFVwIqiKIpyBFQBK4qiKMoRUAWsKIqiKEdAFbCiKIqiHAFVwIqiKIpyBFQBK4qiKMoRUAWsKIqiKEdAFbCiKIqiHAFVwIqiKIpyBFQBK4qiKMoRUAWsKIqiKEdAFbCiKIqiHAFVwIqiKIpyBFQBK4qiKMoRUAWsKIqiKEdAFbCiKIqiHAFVwIqiKIpyBFQBK4qiKMoRUAWsKIqiKEdAFbCiKIqiHAFVwIqiKIpyBFQBK4qiKMoRUAWsKIqiKEdAFbCiKIqiHAFVwIqiKIpyBFQBK4qiKMoRUAWsKIqiKEdAFbCiKIqiHAFVwIqiKIpyBFQBK4qiKMoRUAWsKIqiKEdAFbCiKIqiHAFVwIqiKIpyBFQBK4qiKMoRUAWsKIqiKEdAFbCiKIqiHAFVwIqiKIpyBFQBK4qiKMoRUAWsKIqiKEdAFbCiKIqiHAFVwIqiKIpyBFQBK4qiKMoRUAWsKIqiKEdAFbCiKIqiHAFVwIqiKIpyBFQBK4qiKMoRUAWsKIqiKEdAFbCiKIqiHAFVwIqiKIpyBFQBK4qiKMoRUAWsKIqiKEdAFbCiKIqiHAFVwIqiKIpyBFQBK4qiKMoRUAWsKIqiKEdAFbCiKIqiHAFVwIqiKIpyBFQBK4qiKMoRUAWsKIqiKEdAFbCiKIqiHAFVwIqiKIpyBFQBK4qiKMoRUAWsKIqiKEdAFbCiKIqiHAFVwIqiKIpyBFQBK4qiKMoRUAWsKIqiKEdAFbCiKIqiHAFVwIqiKIpyBFQBK4qiKMoRUAWsKIqiKEdAFbCiKIqiHAFVwIqiKIpyBFQBK4qiKMoRUAWsKIqiKEdAFbCiKIqiHAFVwIqiKIpyBFQBK4qiKMoRUAWsKIqiKEdAFbCiKIqiHAFVwIqiKIpyBFQBK4qiKMoRUAWsKIqiKEdAFbCiKIqiHAFVwIqiKIpyBFQBK4qiKMoRUAWsKIqiKEdAFbCiKIqiHAFVwIqiKIpyBFQBK4qiKMoRUAWsKIqiKEdAFbCiKIqiHAFVwIqiKIpyBFQBK4qiKMoRUAWsKIqiKEdAFbCiKIqiHAFVwIqiKIpyBFQBK4qiKMoRUAWsKIqiKEdAFbCiKIqiHAFVwIqiKIpyBFQBK4qiKMoRUAWsKIqiKEdAFbCiKIqiHAFVwIqiKIpyBFQBK4qiKMoRUAWsKIqiKEdAFbCiKIqiHAFVwIqiKIpyBFQBK4qiKMoRUAWsKIqiKEdAFbCiKIqiHAFVwIqiKIpyBFQBK4qiKMoRUAWsKIqiKEdAFbCiKIqiHAFVwIqiKIpyBFQBK4qiKMoRUAWsKIqiKEdAFbCiKIqiHAFVwIqiKIpyBFQBK4qiKMoRUAWsKIqiKEdAFbCiKIqiHAFVwIqiKIpyBFQBK4qiKMoRUAWsKIqiKEdAFbCiKIqiHAFVwIqiKIpyBFQBK4qiKMoRUAWsKIqiKEdAFbCiKIqiHAFVwIqiKIpyBFQBK4qiKMoRUAWsKIqiKEdAFbCiKIqiHAFVwIqiKIpyBFQBK4qiKMoRUAWsKIqiKEdAFbCiKIqiHAFVwIqiKIpyBFQBK4qiKMoRUAWsKIqiKEdAFbCiKIqiHAFVwIqiKIpyBFQBK4qiKMoRUAWsKIqiKEdAFbCiKIqiHAFVwIqiKIpyBFQBK4qiKMoRUAWsKIqiKEdAFbCiKIqiHAFVwIqiKIpyBFQBK4qiKMoRUAWsKIqiKEdAFbCiKIqiHAFVwIqiKIpyBFQBK4qiKMoRUAWsKIqiKEdAFbCiKIqiHAFVwIqiKIpyBFQBK4qiKMoRUAWsKIqiKEdAFbCiKIqiHAH7MbyDiD6GtyiKoijKPxVE5GN4y8ehgAH8Z3/7b37TzxAgIJBAmCBCApl/CQAt+UHMP3HGDJMPs4omCOKbM53bAtLbJQCD4PfcBjEzBABSPxhZjdc3zen0RrBHOBmv1s1ZfPClmw8erl4tNzRhHLmZpU+YdQYBCGfD5VV7vvMuFm9sO3q/dDcbu9ovb6zPg1VBgtNxSvNsuLhq7+zdlQuasTI6avZuI0Be3Dx4tHyZEChIYHMyXK/bVA8NMM4fWI43m2bK8Aubh0+WLwnAEgIxgG+9/Nqb559PGRDB3KqjvZrnEAJ/AwePkeCJSUQO2YhEdNsg3H9d6qgiISWVKookCHG6IrTTO/bTOfSuWxosFoGCl1kxmSQIxacaI6On28pyIGUiiLxIl4/CGfbq5DmdZ57A88q1GtcAbpqT2M9j+8bsNTKOuS/FFGxwjq0V52iSVHeGpxftPVR1a8R7MgC60PfcPT+HAHa68Xn/7Kq7czJcXh/o8PPSPbctStonYb2lhecDcumuv3xmznJiO4nPKo2Jgki57+B774/P1mbR82L2+pyIZXYhxL9PZXNNy/rZhd/2ZrnXoFLLs/iXQTCQAVNxGBJApTZ2quUL/P5vhNf2MrtbeZbEyS2dv2ofAogk7N25IxVPWr8eDAAmtMZunTuc8kdABP/xl/7AP/Hj3xQfkwL+K//Pi7HyicAkDYm1ctZ6LzhrQ2uDZTnrvCXpjNxfjo0VA7x0Mg6BXj4ZT5pgWVatXw/m/mq80/q7/rI5aVxgM2zbhx9gcLi6pPc/RAj07EIWCxhDX38D9+6iafD2u/j061hvcH2JxRJXVyCCAMsl+h7BY7kCE7Y9iBACJECAkxW2PZyDZQQBWyDAexCnkbLTdQkgSh1nNmhyyaOmT92b8v0AE4RAAjCsxdhDBGwRQr45TIsFUiWIgNIvDc/ysyNtiSp5SoCkG5JKkNTj46CLlTPdK2BOdVISb5Zw25wmgWOm4m0h2zAEGIhLGYhas+SfOVdIyc9OnVZWDWjKXvpIU7ZL5il/Gx+PpZveG+tBEATMCAGhknhRW8c7CfkrgoRUxvgiJoQAIhTtHgAIvIPzgMAYNC1aAxewXODyGnfOcXWFEDCOCIJXPofrD8GEroNhgGS5AIBFB2thG7RW2g7GoG3QtfACCRDBdkuXl7jZ0OU1NhuEgNVSVidYLOS3fYe8+jKWC2la+EDjgMePEcRvR+uH//rpl0JU0rluDNHvev3yt7+yWVg/OApCxsh563jscXFFF5dwDtdrXK9pvcbVFV2t4UbcbMAEAZhhDJjBDAjWN2haIKDt4B1A2G4RJSAziNEY2CY15ejgHUJIVQrAGgjBcBoUAojAjXAeImADzrVNUfIDQRAC2AAC71MnaFo0Bl5gDbYDENJA6xp54QWIAEIXl/ABfY/FAiHAWgwDvIMXnJ7Ae3QtiOEcnBcGEUnXUd8DkOUCqxVOVuh7jI6ub2TbU2PRNnBObEN+lOUKILgR52f04LF0DQA0FtZiuZRFR/0AIjy9QAg4WcC2YGC1wjBis8Wyg7V49ATjgPMzeflljCNCoHHEOMIYOI++x2qF01NcXwGEcZTlEl0HBAQQgOtrNA0E8m3fIrbBZkNth36L4HFyAmOxXMCN0rZgxtmpbEd6/Ah3zunqWs5PYSyaJgmfp89wdg4SMGN9Q1fX8vprWN/4k5NNc8YGCxu80PsXrRCuer638HeX7tnGfrH5oGFvx2HhN+H09GJsiYSBZRPeuezuLvw/frT0QENy2Zve03Y0Sxu2rrlxQYSY0ZlgWV5Yuidbw8CzrV2PJvagrScIhQBmGZxxgZjk8doK8HTbnLXeB7kaO+8hwNZR77ll6Z3pPfWOADihIBQEPlAARCDZZv04pr0Vt9r4/zTfQfS7f+SXJKo2IS8AKEiexhAYwgTDWFkPgiFpjSybsLShMWFpQ2vFkDRGFkZePx98QGtgWBoWy+GkDUxyZ+FWTSDCa8tt2+Fqa+93Q+O3G7s6Ha8oBB9AwfHFJYUAATY3GEZ4j9USEIwe3ZLefUfu3AGELi7kzl16/AjdAjcbNBYhYBgleDo9R7/FzRqDQ9PQ9bUsO7iAzoIZ2x7MIMIwUj/IYkF9LydL3GzIeTk5oUePcHICAra9WAtmkoDNFgAWSwQvzqM11I8gwtUaZ6fY3GC5hHPwHsbAe9gGfoQPMAaG0Q8AgQmjAwO2BRN8QPBJ0UbNZCwg8FF/IOm/5AAQECXbYjY/kJk+loA4n5ssjPgdzwz6kkgxo+NbmNLFAJBUqhRTz5dsVVP5OJ84Fu1ezO+kuIsqrnV51sHpSZq/JT8V8zBdoyTlUfR6fneZG5RkRZLOiOkYAyKsVmgaGBZmiJB3WG/QD5PpFtUSEWwDyzAWxNJarO4g9LAWbYPFQhpLXpJCEqH3HwgJ3dxAgCDoWjRGwHjtFfn2z8pqBWNhDW62dPUMvcN2g6aFCPo+XPc31P3InT9ej00m+X2fvfjMnd4LLW1ojTBLK46ePaOra4gIAj14TE+eQAjvfwDDCB4vvQgBjJHXfgd97RdwfYWmgQi6BbYbGIvgcX6WKtw28A7LJdbrZHOMHo3B1TUWCwwDFh1cwLKjF36bvPULaCzGEdYiADc36Fosl3AjiDCOIJZFR4HAwDgU84WurmWxhDVgIudl0dJmK22LpkHXYb2GMWgsmhbrNdoWfY9uAUIyjM7OsL5J9tPosGhhLFqLp5forNy7T95juxEvZA1Oz9HfoFvg+hoCnJ1gucTTCzFExspiQc+eAYTGpv5z/z6eXSCILDtyQe6dSyC+uZa7d3GzwclJeHbBrUUAGLJc0rLD6IbN2J4t4cLYdo3v/RB40Vxv6Wy8HO68YIbh0jX3Vv7ZxjYt1qO9141BCN71I4fGXmxs14QH6/ZeNzZWQqAH6+a1s+HZ1jzdNKetP+/cejREGByJ0ODpwY19YemvR76/cAG42trBsYO52/VPN83T3nYmLK1fNGEzmsc31rAYQvx340iErnsW0Mbxeece3TQiMAxLsvF0r/Mbx72n9cBjYEvS2mCILnu2LDejgaBrwsZxVIeAbJwhYHTUmEBEQSSAesciImAXCMDC4npI1rIXgsALMSHqF0FMCmX8T5IAmEmVOMpDuvjlf+97Ph4X9MekgH/gR3+xfBTAByLAJx1seidRqAagiE5DYBLLIAgxLAdD0jCY0bB0jW8JAThpAggLGwiwnCTI0gYiLEwgwrKRIGJZWpZlExZWhoDOCAmddy6AWhsIwkRMcto6EWpsOGnCGKhhaY0wyUVvPnU2BOHGhDaMAS1ZP6zHznhHDTHM1QV8QNPIONLoJHjqFthuYZmcFyJar+XuXXr0OJrncrqih4+laYgAYzEM2G6Tlm1bbDcg0MWVnJ/T5YWcndH6BqMDkzQtXVyCCKtlFKwgTnUWBBIwjFh0GEcwp2nxdgsmDAPYot+isWgauBFNh6GHtegHsCUjYluMQ1LDQWgYpLHwHgBCIBP9hUb6ntpWoqXPhuDRO7EdhRHM0rbkRmx7GIvGwDmMDgQ4D2vTJKMfAQ8QrM15XmC7RbvAOEACmgY+IARYA+cgQGNxfZNUY9PAOVgLEYwj2KBt4H26k7OHrLEQgQ9wHkwIHkKwFs4ltRodHqj8E7WS5sppMX2TVbskyzlN34mTFm8t2g6LlTSc9I3zNA7Y9Oj7NAkOIU3QOSt7Y8EMAkwLBghoW6w38sI9dC09eSb37tCzS2w22GxgDJgQgK7BaiXLhXzus/Kp19EtYBgAXTyjN9/G+obeeldeewXbLRYdfID32Gzfv/e5v/TqTA2fdU5AL67GlqUz/pXTcePMi6vxpPPO8/2lYyMW0rkNmDE6ECM42BabG2y20rXUtri8SlXBjNUS/YhFCx+w7eFG3L+P62s4h7t3vQ/GAJsBq5VsN7Rc9s2iu3yCkxNcr8WY7en9pbsGsRhD4yiCDS9WNA62azfX4eRkcLTYXnniR7jTGjk3WzTNdhvIms3I1qAhL8QnPG5h4PBkbF9aDW9ddJ+9t33z2QKEljAIXl6OH67tVW/vLr0l2Xg+a/3G8aN188JqfLaxdxfsZNiOdutw3vnLrQHjldPx4XqxsCOAhmXjOARilsut8UIvnTgR9I6f9ablYBkXvemsGAoAPd4056276g0RVo2/HuxZ555tzaqR1oT1YAZPZ214eGOYETwLiQsQoSB0d+kut8YF7qzvHY+egtDCIoRgrQyOXWAvYBISXA2GWbzAB+6sEKQz7cXWRR/kxjETmMR5HgM1JoyefUDXhNGREBmSm5E7I70nEfJCDQcRcoHGAEMIAiJ4T8YIkXjPG8eWgxCcM60NPsALSdSIYMM+CLnsHRNQAEKgOA0LQkGEc7IiEJAPUxeNqnRykdHMJYfJ20hlpNbu8ds+Yv53+fj3/t1PlgL+4n/3C9hbMJiXnGKDuYAg5CXPSOaO/rgeQHkqZUmIQCSGAIhhGBYDEIllMIuBGAazkKAxYkgMC4DWCIDGBIAMS8tBQJbRcGASEJY2+EBtI0GooQBCYwIELaNrgg9ojQhgWQjorERbz1BoDAC0JhgSIVqYQBAntLShMSKBGhti9gwl5+KqDT7gZuSXVq4x4gIxo3cwjLNmZAnEHIS8CzBs3MDRDTgMqQ+2Fi5gu8FyCRG62ggDjcEwou1wcYmTJd3coGlkdBQ8Rg/LcF5EKAQYg2GAsWDC9RqrFcYR44B+xMkKzmG9RtPg5BSXl4BgdDg9QRByHv1W2hbjQAIxDCEiwThKt6A4zwgBwYsEGj26NinCfpC2IefhHIwBAUIQn6bRzGkCBMEwom0xOkQ7IARstyCGNbAW26iKmuQ6CiHaOhgGNI0AFJNiA2YgwAWMA5jBBgRyTroObsToKAQ0DYIIgYZRrCUmrG+w6ISIRgdjRARNQ8EjBBEh55ObtLEYxmgSCS9w2oIIZ2doDIwVJtr2AOA91jfwnp5d4HoNCLY9vMf9uzAGgJyewRqsVmACEZYLid7CaMm7EX1Po8fNBt6BmayVk5XcvYtFJ3fv4vwEbQfDGAY4Rx88QN/T2+/Su+8n7+UwJGsjBITw577vP920U2jCVW/WI28dW0IAWg6WpTGybEII6JqwMGg4GCOWQ0NYdX5ppbNBBIsGo4M14jzuLn3vyDAY8mxrXzhx655Xrb/a2j5Qa6Qf6WQRrrdsGEsbLnprKDRGFla8wHkS0JONOWlC79qt9ydNMIzBwxINAaMnQ+Qh3ttR5G43ukA3znQcKA4ood7Twspm5JPWbx1vHDMRi7jofSBqKPSeWiODZyLxgRojPlBUaWmJiGBYtiMvm+ADAOk9+0DLJvSOWyMiMgb2AU6wsNiOJKAxgECNkSACEJOMgUKgzsgQyHkEkGE0FIio9xQA73HS8NoFErImbEcTzbwg8AEeZBkhiCFyQaKY6l3MHgAMHgwYlsGb1ngXWIDBk4EEUEMyBhCRC2ASgOL8h0lcIKbosOfRBcMIgiAwhBDIgyBxiWuaQYYAZngBBEyIyhXZSyUAl7/j2rIQMcW6KAs7RZJnf28S9ft6SKq/Jt/cIX1J+cNta4PYu1g/vs/P/pnv/UQFYRGDZNaYslsvYgwEwiCh4AUhEAAfEIQECEK5cpPvsjU8uLw+V/kFo4YuH5kEABEMCQAGiMEkhkhEiGEpAGACx+UxluSOJTQcokucQMwCgWGxBIE0RgwDQswhZswaMAIzMQlBrAEDTBIXP6xBEDGMhlOMSmdCELIkxogXWpgQw2csCyjZmzH6YGV97H+Wo90gMe8gtEyA74z4QLSBtWFhZTtSS2JYyANnr7eMmyW1JmCBlsULMWTRCJG4QAsT4jKsF1lYEIWGhQlOyAVeNW5wvLLBgRrycRGUnHfG2L4PxhIR+VF8gAiaRqjDzQUWrdzcoFtgGKLnUOJ6W1zVay18kMGBkvWLfsCywzgQcTSpaH0jjaUg4kY0LawlN+JmC2sw9Gg7jCOGEW0D55PXl0Q2fdKITNgOEhzaFoNDa+E8vIdp0N9gucToBYLGYnRgxvVaQGgtbXshgW3SaI/qtmmSe58aMQLvcLMRaxFLTYBtwCRdg9UpmLHo0voiBCEIG/Q92gZPnoGB05McW2BgWnSNnK4QBIsOIjg7SwNjsUBjoy+OrIUbAxu+uoY1EIG1Yq10Hc5O0bSwDGtHYUtCTYNtL/fvUb+V6xusbzCO9OwCo4MbkacV/+HP/kfw7r/8Az8CNkHkvPNnnf/5d0/7ke8uvGHZujhcBCBrgiU0HOLiHBFaDq1F7L1xuY4JgMSlj97xshEX0BjpHQHUNWE9mM6EMbAhYZIx8BjAIkRgpjGAEXs4OS9OuOWwcZ0XWhoBCQjbgbsm+MBBxAt3Jvy6X/hACxsEGDwTYfBY2mhJwQdygUWECS6AKc7GiBC8kBO0RkjQezYsQRCEDEsMpth6IyKGgLjozzAkPjSAdwEQMRxlEUKAFyLAMFwgwwFCcSbnQozUiKayNEweMSgBLOQEADmByUFGUUVxtiSSiCJJa3ZAlB0CEoEh8SAmCYEIIkIBJkVrCEApYi4mGITyopAEoag+hWMEAwRmZ7YTJ6LLprkZS5YhAHy5AdOtt6+eip8Wh9L/hUCzx5kpYAqyLdEdjJwlSm8xTF5S2EsJwuKsTYhQ9IEpOc3vLrftT4jLjbtF+2fPxzQD/tKf/3lgpx0Oz/1v+xiyqRUNq1A59EuAXF2UypMY8zBz+xMAkvJ39B1S1TEoeQdlV6/n2Kn4bewcDUvs5QAsQUg49hgWkx83LLFLGZYoVa0RgAwEBMMxcUlGAIkIGZa4LGFNitK1LNHraY0QiEmsSQ8CxBDEBXVOYROAEJGhYAiCyZ/PIEQNHbsmRRGAaFZz7hStDRDi5PtBw5IMGsKqka1HdDwQwEDUR/EGEXQ2AOQCOiPMIkJB0BrxAdYguit8oM4EwzJ6ak2SN4YkgBoTEFc52Rgzjs4sGu+FDAcGCSABbCQIWQomxuiIQMAkEEjc+ha8hECx7X2AAUYHazGMsAYxFCCm1TQYR/gYL8bJRRw95P2AEFLrBkHwqauFAHBaSifAWgRJsQKpA7UIfeqmIQCB1hthQ5stSFKsUPCwLbyTrkG3BAl8wNkpjIX3aHJ4edvC++Sp9h5MW+pA2Dq+GZgIY+DRk2XpTOiMnC+9WV/hyVO6uKJ33qUPPsT1GheXkJC89GWohPDo7FN//gf+bBkp/9dv3B2FvKfXz4azzgWhwfNmZMrCs2FpTYi90TLOOjuGgbMXKprLTMIE50kE0Z/pheLsCiJOmDkYYBSyJKNL+k9IvLAhISDOz0QQ7VcHIgGRjIFDgI0WZx71RPBChiSIBOE41kRI5vOqqG4ICCCR2CelYXih2OZR/xmWELh+dBLWQlFu+Cxz4iNJ2uSJYLw3CDGJjwUpgiinJpOvdZJXOep5dvssnnxeomkak/+iLNLnfkMh4rAj6mXn/7fyzWmI2zSbTN+UnB+cqk7f5rD7oi86y1sf6ovTg1V8Z2PYVZtb6njp6e1x4i3zPyR99dP/zu/+RLmgf/9f+PnJkVGVM/7xufvL33yyiTWOve0ds6disHD+KpqHoQTBxFGXxkL8LzdStRSfLhxyTcxeXWlryW8tc+v625g3pij5Y5HLtwIk6Q2gMeSCGBbJPhykyXe6TYBVw1vnCeAcw0QUVUoMVQtRpyBN7qOBDOTJPRBFIQhCRBSzRAKQze9lAkRyRJSAYAgBMGkxE40NRUCY6FzKOSz+AB9gORqqYhixDxsWBlxAaySAoos+5SYIc3SvJlPGMkIoxgcMSfzKB5i4fh2VIEsIMASCxLjX7I3AGChOm5iFIXHOAcBQXIZIfoJcV7AsMYQ9N5NkcyptdWtMiKKfCYS0YGEITtIKeGPi7EoaFuSxHRcgCGI4SfbojItFa4wAkEBEsvJ2bB2zGBInaBFAFPUQgghxtBYuexZY7wUkBPIBW88icAGD4zGQF9yMzERMYXTMRB5iSCxjYUNj5IXVuLL+9OYpffAAV1f0xhv0tTfhHYaxih1LbSzAf/EHf7R0+7/2lftx5a/h8Mrp+OJqdIFuRiOAIRkDxW7AMeBMJF6Ps0DkZTzKkxifBoRQslUooEzsEEAIIBYgzSOTF7QSEdFLUvQTQUAxljMH18+1GnKoe2XtpwllGvtSZA/S2EAMgUpCXIDOcB9dz5hS2dcZMr2jEh5V6sDukwfTiWUJ+1fnD+xprDRvPLTNbDajk6mq9m4uDl4kPyXmOWSQz1VfEgLBMLkwCdZJetPhPNP8Sol0nCpuymLKmJQmnmtx7KWJokf3bICiYlHUR3QH5CsBdeMBwE99whTwv/hjP5eGY1lXr+u67pKE3/X6nX/w7sVMPcZqys1/4BWxI9bG0uzblBKBgqTXlpETc9QQj5JsxKkRhW4bLbvvz7fsWg8xlf1ruZdTleF6pw7RVBSeno9BtdWzebBzrpyobkXS3DrW+mtniw+vt9HFHVfEhcDx37w2UHz18W1MItkIKAMgLrfHolqKOZaSGSI0BqMXBhqODmsYSlN/TLHMSfeLoGGJkrEMEmuSlRDXyGMKyLuQopeCKPr5ARIDjIIm7SGSLCCIWeL8yVDcSk5RIwYhhoBhKeXEh7TqyixBKKoWL9GLELeigEjOurDuKaZMuThpXYDKAkEyI4kRhBoOLoCILImJzn8SEbIkxBICg8QyXj/r3rnsicR7YpJisDthFvFCQkSQwVPcNTF6DoIQqDHCJKum27qtZfiAtgkNobFhZcPrZ6Ex4wvjE1xd01vv0Btv0sOHePwUeW9oJdgAkf/qB38k7qaF4GffPHvvqnOe2ia8fjYsbcB8YEl2JBbPYdy3GutEKjs1CT6iEISLppwUY75VUjXWo4mJgqDohUjnPLQAACAASURBVCwwsx4FDCZVXc9yZlb1QcV2SJ+VJ/YTKTeX7+LHk9ase186Q50mVdn+iOwIsPJwXbrIvUXzdDvbS1/qk6qjDHZ3zwqIpgqczUJo7/XYqce9R3BAZe4rQAKRkegYj3mbJvVFEWI32aLUKfcfqSMiMcvn9OheroohNcvzJJun0pV9IUL4m3/6+z5RCvgP/tjPFScwUNcd7RgtB/pr3TzVs9MZGnsat+blk+7Buue9QbjTx2j6RLNmqe6RZDtXDU0pxCAaliLl+7383zIOaa98u1mc+rHsPjK3Vam6OC+jTCKuKP6YI6IoJz5zd/H2s03UT9/7Lfd/+Z0nPqfAgFC2RLIA6oyMPl0z2QOf/PACUD2/TyrRmCT5iz0R121jsi+u3JONjSq2MzL4VGM8OQAQJ+tpUp5GZnLFp8ySELC0Yes4LkmW/kWU6iHen1tJiMhSiHMvIkCSiUNle1T0NFNyrRtACKvGxLWxmBTlupS4ZRppSr1oZOsoCCzDIAREFZ31dN4+Hb2syZkTw8WEDACGD0mKd0Z6l4ITJVkqfNpI73yqUpKtY8tY2nDS+vsLd7rw561/9Wy42wx48IB+80168JDefgcPH6UkdmD+H/7If/PBNh3X8I8fLn/1w9XW8XnnV62/u/Bxk0Z0IGS5cfvAQ2rBuovedsfBb8uYjXu26yf2E9xXulIGbb6jyPodhb3P73j1zj/84GKe/KHEd8vxHM11+AwT5kmAHCzX/L2HxLWgTAOLDm6YnIjUKe5p4lQQTIoHhM5y72QuACsZWwmB5+e2nmqVhIjS9u8pwfqPWYlmOdzJMDDN1J+TFO0XI6e8L6R3+Mk/9clSwP/SX/z7s0sCYxDCLQfr3K5Qn9vkVOLSi75JX+UzZQ6m9Y0H8y1vFMFvefH01x9fl+UxwrRRNt9DZakYMtmAqPpE9S4KgIkR9nNbRABr4H26n6py3Vs2Tzbj4UzeLh7pwNgC5vp7786cZLYMKCu4aeULiFMxAMZI3JoT9x7UCUdnYD1qiKRhjGlhb1JRDYkDobgHqyylPECQ13yJRELyL0d/flKKJJL0/ZSCNRJjZGJmcjZ2q40Q1Xz2ScjknLCMUPZGEEWvvjXiAhbWbp0jEHMgxJWR9BSX2TyjjD7LcAH53DcRobTcKLRa+E3P8fyXIKj9N0Fo2YRffX+1aGQzsqFgGC3J73x9fX85vn4+Mstn7vTnnfv04prefAeXV/TGm3j3fXr0CD4cHE//eeWL7h3/5FfvhUAicm/pVs00D94fhjtq8gB741oEC8u9C0V7PF8DFXV1eERndhKR3HlqQV1uy2YryVwU0vy2z95fff3JTf2W104W76+3h97+Ec4LO1TM4vI5eHN55KQz694/v6KeTxGVdSL3ls3TzTSljqdoEdKCwj7WsPOz9l5Ys3U7kU+38vwbWlsCbIHbLI9vMuV61eF5zwlA+Bv/9vd/ohTwH/5LPze5iCvK2CgqU+btfdvMtTaLUJ3TUGsszg9U6zSzVxNw2trrwe18G1N7+aT7cN3vlmX+oh1JfUtVJlstzpw24xRHGOV2yOvBTFg1dj26OmUShLTuNX9VVvkhV15szRxMkNbbygpxSMt9RCQ7xmXKTnlyR1RmAfB8qbfDjr7Mf0v0W9Ch1KrKlNio8XCwGH0T9o6LjDPv8myMRJv885xmPNErSigh+MRADEkTkQBamNA7AlO2K0SEGgOXAkRhCV7iCiuPQRY2GMZ6iA+IoRSSw8CiCZsxzvDFmOTcFoDzwgeilQAiwLIEKdZZyj8gxX8GoegVF0hnZfTkc2OftPZmcAB6x483DZMgLmMjVddLJ/5ia77vW66+46XNwvpvv7991T+mx0/w+DH95hv08BE+/LBqoWo/tMhPf+cP/eK3/f74zT/8cPXVx0tD0ppw1gXLRZHdbiYDAE47c917AuhQt5kNlmpGuZ9ovNJa7muJvHdnyZNlckFMPoqh7uVVA8zUT52Zs6657kep9Gh9G/aWSCelni2z7//M/S+/9eRwYQ/V2cFsJIOs5ABThmb6OCcYPzbMq4Yv+t1TGHdeMX2cK7aSu+jgeY6O5LSLf3YlzNulvOhOZ1OWcnM8J+Vlw5tx147bub98TNrhG/TE9Aj2tDjlAIj9t/z1P/nJUsB/5Me/fPAr2TOvSmXuODGy3pD6K0rnAKZQo1kvzwnVwRcAcsABFW/yvWXzbDPujNLSuUtH3/da7Iz//YvYu+E2uVVNouq5XRp0O+tIzCwh+XLinExiJBdTCOIlhiCRl2AIRBwkxJ1/BPgY70Np0hjXz0Kgb3th+fazNaUKIpFo+QqA0XNrQggU0pQ3rr4KZwsgbjRgiBNaNTT4ELdzJAmIqNNy0E1qcYqbQ2aVkEfIZArQgR6yz4HvSUgouqmtoTHOHNNEliQPuzq+o0xbGhYhir5fUBKFMaQ8Tq8FMepKfACILIlH9IULA8wSgOApe6SlKfUs9OpZ+2C9FeGQDkygQGhNGBwXfyAIBLEUN5XGPITBEwHWiI9NIGCga3DZ0zYeBJGW8CftAmDRCICF9V/8tssf/s4H9vqCnjzFex/Qgw/p62/h8greVSuNUzf7yz/8596+Sr7on/raXR9gWRqDpc3m4yEbtFTpc+6RerX4lkFU2PHQTveVc9KAZWO24zR1fI5vWVKk5OzOUnjOh45i53Xzizs6DHtqLM4va7kRSmCHQAgLw1sfA1qSnRqyjIoC7f6ifdYPlcN/bgTMldxt1NPcA3cWE4NmV6JWKmpJqglSzkAUObtV9Bwl+LwhPM0HDtV5tZ4dvy4L2HFU4pYHp+iw8txep6iKlu2cojKAv/pv/Z5PlAL+oz/+5RJBh1s6d31d8q6e3b6ev91pbcnzXcFcpNLUinO7L9uyWYvsCwLJNm8e7WRIXMCn7i7evdgeHI3VK1JwXZ1tVLfVhd33jcxMS4IxPLqZVZgfmY3ERWP6ygWEWT3n4VWnMrNxBKBPnS/fvdrkAZhChXf2zkcRFiTNpzvDY/lFAxADHjGSmQRoOOp+EEsQ8oHiNmsvZFlcIMsAJIBCPgUt5VLimb8pxNolM2QWmRXDVuPJc8i7G4PAsgSAJcrBtBellrbMIiGvG9NME9C+ys92QMpX2lyequWktevB5ZbKkYCzpkzWhEg6dVRQJsFSmmSa3ojUSmLqflVXoxwx17CsRyPgMW+L2emTnIXL0oYvfu7iD/+Wpy+4J/ThQzx5TG+8RV97Ix0JsoO1cO5nvvOHfuLFP3R/4X7jyfL9Kzt6Pm39wgjzpEvKS+vtCbFzMshXPZQon98PlKioFFlTpVNGUDly++C4kFwtRRTU+dm9J8vWg2KH8p562ZmGJ91Z5DIRJB4iXqzkXblP8AID8kiRdEXDnbTmZvAxpbJlEfPQ69juMbehxAfItBq1o2lot8ZYsrViqNovmxqFfBBj2Iewr87rNOP5CvWoiPUcO/8hlbwrkGWS87Gnz15EAFMMq67iaVJjVbF4dYJzjxqSUypb81M+DxsH++J3GiZRkE5CPn31E//mJ0sB/7H/8ctE0lozZA0hSTRFpyiQPYXFQYoo4FO7x0ai3E8FMXyHZpkX4Ls/de8fvPu0vtgQO0lbRyrZKkDe5pKO1kqh9rHDEKSyDevNT4nP3l99/fFNasJS0gN28RT7UQmEGfdX7ZObYX5t18SoVXtJoNxkwa7SpY2h8eBqUp1gWbz9CFPMkod50Xa/mw+ZWcbjVw2bMexOoWb3lTQIELHGJMujKjVVwbep/3BxoApjipu9tdSHTMC063S+PFZbzvtxJSWnvPebWkham7LVIlV/2s8VScnWtIFtqqF4/kAJLWASBkDSGPSOtp4lpC6abbliTqA4Yu8s/O/91svf85mrzy6f0Xsf4sP36dkV/aNfw8VFKmR3iv4azRLjJr5IXn35R7/nP/nfv/ry5dZYllfPhinLefTu1wamptyxAPM4npxStc+nujeeFJH+o8leyc0xSwGAiDHsglAS+VG+IBAtLceFyTo39eiqe1b8M2myKHkEceMaV/NUIHlY5nlOk8e6z6eQI6Gu4WQcC4TSIkh8cGHN1oVDXTKV1DCyD382mopM2SlKpX1nAc+NnYmFGB4c3SWxXhtmV3kBRITrkOlkROW359pIyzt5Fll6745WQ2psLkWQIlfTH1GqE8V17sHNNCXKWZVUDN0SsVGP6WVjNmN231cz7GlittfidS0KhIT/t49LAX9MJ2HF/ZTOe56sOUknMJXARIBYcq8t0jj3eCCLmHy89o4hBxDwK+893XFsegRC2mgIYNHESAHKe3ZForumeERj4rX1h53lRxHQG09vys/h1GK6VkIl/erxSbiXtJ5thpPWCLAZPFclr6nNzEXDWxdQFrlLGXOyLkz7fEpagtlgQJ7LctUpo2+wYR7Dnn9n5jqT4lSoynVQr03yAsAYfKmruFZX11rM8nSdEII3pZAU85zWDqpt9gLkEy0BQEyai0RhGluWZLZePLOC6zqZLQrt1DtgbhOTEMsHK6D6nHd57ZouRIKw35PT/5NECw2nDBOiT1Iam5ymluB5SjSFluexQ4K24WH0V735G79+78N18698R7j72sl9a2XxGENPX38TDx4BQH8NoGhfAPTBg+/+zPpvveNEgCw7S8qAxH3tpazxgGqpZniTGiLk5XhwGeZln3aeCsX6ied+pnZKrZr0dF6oTy9NvyRJEAnx1CqUBgYsYfTemsqPnTPZMI/5LI+cWcnaPTAhBRHz5Jk0Uwh10jSzBo+attKsAEycv5KM3mfxUilRAdLRN8A8GrkgySZI+SunJaemqK28PMFImxJz66eXkvggMYY/MvjApTLTnoIwxY+KEENIjJTFXQGqnySkPDDyju80lSrb0hiolhsYQD4MJOU3enGm2UKWT4SbwcWmubdoLrYxwlTiCIuqBJxaPsWUIHTG9t4zUe+8SUIq/eIaoUq++nOyimfS/sB0658dH5MC5vl+2lhqS3nKKwAn103MU/6xScnxrcUFEh8vVhFmArIey/n78liUf4N3TCTx0InJuRPMNLVMrVBvyZVyffePYrZNU0pOpwTEwbezL4kmey/O4AkA9c4BFPtW6glTqdK7OJtyZeSUzpPPSaX6N+cm5yeqQkB4cnqBgRdW3eObPjdP3AKb7IA8TlKig/cx/eITramXkyaLOI7A0u7VQPOHfoSXCftTyalps4w8ZJvOZlI+LzHGAR+mPiI7Nm/51zD7EIBZEHsqy55enfWAOii3SnSvfoog2FHCuzbZTn+p85muEBAQfYlEcd4/5asYVSnQgcl5zwwR8UK/9O7pe5ftP/fi5ns+tfiuT78JP+JqTSA8eJjSiD7WnMPV//mTP/hd//pf/JVXLIuTeLJKGpOABEnbrJHtTYpbswBraPSSf2t56k3ZpKDSP5EKlH2VBAFZhq+ckZSjGVIZJS+QUPZiZX9YcXvmgSyYln7TRmwDij/Qks2vVJwchwfJ+9dTTuvWjgYfsRcfjdhoE8Z+SYRYPWUQxvRMlglZ3xAgreXRh945zq9gAoFiIduGhzGkI7rSZtj4amRLLAXK51olmZY2UqBHHL2vnHYPrjdRzMaH008Fp74ySTlOMhlEQswhxLN4iWny8ZTuu7P9Yd5Ts7EyWWNCUYnGM3+IIAiAC7JsUoRdLMK33lu9+XQds3XVj/kI69I6k7Z8adU9vOnjOQFjcMmOIamzQVSLmbmBU35GNRtZ+X8fnwL+mFzQ/8b//PdQNM80Fqf5x7xqJ6KZt59Lkz3Gcyv0QApFBZdjwfdZNnaTY49D1ZFKc+0flXLojTK15EfDzF2X+xp+Vorbdzd89DB9KiJtxyjYu61cqm+fTljND9af6qjR+FVjaPBSr99IPf73sjQVJFlBSTxPOrPYXcDvfP3er743LTfsLaVPGZ8VkADBq+fLDy83VeHzLTuqdV6cGib6/m998f9+49FO5R1u/Xw1btWoO5jhFCwdJHXR/MaUbGfz0v7eWikBXuikaS/68SOO48FznBN85s72D33h2Z2F+67T9+Wtd+yvfWXz2S8sf+0f0Ve/Jp//HK6v6P0PUz3+yz/4pz/8E+9dteedJ0hrU8PEoL/dYs4v1FW3370P9fPDzz4fmncwxPV4kV1TB3hh1T266es27awZnN8f4EvDm3wS1s6q522v3sn2/oi9vbxFAUgJ1i8nIdfV1TXcj7eYqHXFEiDoGrMZ/VT/eXAZpnBIEn7qfPXO5Q0dzGe+tGrtzeB2tgnNi/H8Vs1T3gNxUc8rVLGPTxq7Hp0UGwQAhIllTwLG/llkSDwKpiQpcym3887/6Y//85+oNeA/8Vf+LqFYcSGpxCT4IiUbFJ2QebkuabX5eBSArKFqIxqhEsGlYlumMZQDVGQyG5OIyyG5OU2ZOnBeoK4uxlfPRPXu9DZ6R6nkaZ6dSn4SSFK03nQRwqDq1JZd4V9UDGdnDgMyad9086QviRpD29lQmZwuc7NnVyTG4lkmH0rkcjqUjoC4Lyg78vfXVUvfFgCrxjih0TlkiyouL01F2Je2Rew9T2xVWnp+7ZAdd7i034jiVZP9OqI9E+q2PNbqnCtDcCfvHXMfAoBFY0YXfNWsBDlgZhFEKDfvfmlyf5ivQIugd7z1FAIRy/d+uvuld3omMKclOCJpDIUgzPLbX7n5tQdL5+mit2edJxJLRKmT0iunyw+vN/tv3Pv7kLxNURnIkmHyITBRkFDbYHWCTLtrojsvzfK16K/dzFRX6tit0jdRJV6PPpnnpxpohnyMiZ97YubtO1PiuXQ7xBGxIwQmUVXWxgzwhZfOv/LwYqdc1RtnNVONx0oA5G8I1CSdOgnJeFupQAKIqLVmO/qcbr1Bo2i6Q6v6VQGL+C1ORiIigg+lAnNqqTGBtOe+3s+206AzAWuYq/l6TohIJMz74W19A3/5h3/gE6WA/+T/8nfr1xiKR0JCgGVjehcOmqsHN57u33Z/1T252d2wG+9Fcv7cWkYSLLsUoLgTaHcoNdS33KYYiOjlk8VcMM3zdPv1UrocMfuNW4ejp2gn5epDiX2Ld1pDLu4c+qg2aExviscsD3V5d2b6cZXnFvOgAhPkwlYWLBMs05ADRg5r+NszChzQ3Dt9aRra86xknx6A2SaNfUnPVaDpbUWOCd5dNk83w8Hvo3SwTEw0+nBos9uU3/NFe7kdGlOt0AMkcPPwrimrz/eLzK21q96cdp6QftWgfC9AEHvZA4KFDUzobDggsSqn1EGLCPOI8XK9NMK8gXb78k7AV4w3LgUsc/GYIFWZx964LftzDGN+kgQ+/8LZ1x5flQwYQ/6jBTPWb1k19mac7cStp8IxV62ZundNdIScLdqr7Swqc1/b0KGiHcjevmV9O7nb7Jvns1F/ME87cTDfVJam9GsTo3SJj5D1vVNBpmeiA6lEYO3cMU97+vTjP/QvfKKCsGhnhwCkXBlc3K0f74s/CVuKnpYJGTmIQ0oQ/1RZF5ueK+VZdYw4JmWKM6o7TR6s29Hx1DiT6cdpw2i9PWxWApQ15uqlp61dD+7hesOEe4vu2bb/rS/d+X8fXtQR4ABYED2zcXCedc1VP8bUQjqVVOIvdM5LVEqdrjFTCIFT3LZwPOB5HsfvfSogSTAs5ad9kKt9v4eXp1NAFiVjN/8yW4r5HOvV6FkTC9J5F/GXSXzZDwzEHxyQ6YckARIxhPwzQwRIjCMjIBn+VBnDOZ0DmxjzXMpaM3qPvOebEBdKk23Oqf0QxzznfSNxrMb5OVKnrYfntGUxxmpxkaqxdquNH9V8WXwIVG1yKa0Tb4ltHU/UKq8rxclxpwTguh+Y6M6ieVyZm0I7oWFTzZfhg/msZOq76X4AOO98GmskdX8QIIhvmeMPeS3s9G1Re+nn8zBt7D5pzM3oaglNwGZ09anmJdaFqtwyYJjHEHi3UHkdNDU9yq8f3lk0F9txd0+5YNWm40IBxIXNrHElndGyI0kEX39yxVW1xMNfCNIaO8RfoyqzMgGAl0+XD643NN+nu3WuCjUlgUSjruoRWDXNGIa6PwtI4sooZDOMTFP8rkw+8EOWT75mcwxNKlLuO8V+zdHRs5MRojsa8TigUhel86XIu7z/fVbFddvl++eWQX1vkWQSD/tLOl7mw2XSk/eW3dNNz4eSK8On4EPIYStSb1ohIIa/MVNItZFs/Tzc4q9sxUXG+pzMj4mPaQb8p/7Xny2mVI7LSBSRUylB1CeGT52ubt5aQlQNf+DmcqPMRHhRm2UGObv5lu4u86070x1Vlg6Nkixq873zd+zqEtS3lZcCACzByd4NB6fvRclQWk9COrIj7WmpjyLc6XeUN7Njr6Q799dz33LxO16685WHFzQ/HCcHzlSDbYrXTXz/Z176+289rKsxnZAMoJokEfDiyfLhelNesW9EVPPm6TuKx5hICDKrtMbw6APq2IL89jCdkzirdqrPW6jfm6X0/MrsWam3rc/bsb5/Z44el99macn0fV1p+x/res4XJdsrMTJ56tsxWofyNtwxUPw1bksCjj+HNavnUKpYEKOBAJy2zfUw1uW6u+iebfv47L5zK5dySqn8untdg50xvfd1/Zdvy3H6yT6Yh26ctc3VMDJTtAZ3BMnOem2ds1KB9e+gzBt+Vusyb2WpLhJmMn5fSpSJZD1GpmxQFdO7R7yV536InXfF2IvoA6j0OkJVzXKox0bigkuq3nx4544UMkTuG8yWS1eZvaK2bfarSHLXonmYTphngIDv/fRLv/Duw7oJS4efIuvncgzTmRHpyo/9a7/3E+WC/rM/9cvvXK6BySysG4SAL3376z/91ffqK6VPGMNjPjgGlSqaNxJlcQ4AttpI8+nz1TuXN6geQZFHVTYqqyqHb6TXJTkV3xF3fN5ZtJf9ML0+68+qaVPSlsl7KWd9FCdj/fLGmDFMIWVT9kpu97tv/B2YucjeGZmSJcVnzk7evlyX2+Y9r0pfYPKukmIivHZn9d7lzf7bKf/FPCnFfG2qwPIgYdL9OwNgGuq5CXbEX9hvuOomyToWlRiNenSegRRJIMCUtWz81vk/KOB2hEL1/kn8A5Mb7nzZXG7GAwnNod16oKWh7d6v4OVzP5KEorJJJrdDPIc5hlfs51+qEzlkqov9jrDTnVKmSpRC2XdniJ2E+GScBQKIHvK6onKAcPpMVI2s/Xdj3qyHevWsrqohTOVkDwCAZeOCx9RYk6mUfCc746ucRVA6NqFlGkL1ewbZT5ra+bYiTD1rJuU6Y7feM0GCFHdOGY9m7xjtncej4iylXjVmPfr49/5CUrH/aEprqjcq29lzJZx17VU/1BW+W/lEEGmMHZ3b/7pk9bRtr4ehquXkTmyNGXyKIkTAadtcjWMZg7XJG/9umIYwM/JEkleHsrk/r3YCxDC7IBbw08vnd2CvPwGtwZA9b0WUAfgL/+onSwH/mZ/4O9Nrpin/VCEt8xDSbpHdmWKlujjt+orJlPRnXXD32/y3nQvl6OKYZTS+PQ/maModFGfIP3oz6+wy75mUnD311jdb9TYpJ57P1xox7yeTRNtT3rVgnRcCUn3YH1ElqbgHoWi41vBQLaWUDcGHBNk8n/PzenY6fJI3c5W1I/7TxzjUmYe8qr0bSkpJlAeZ+Qzq0w3rtxw0Tdqc/k4N71TgczTxWddelR/WnX9r8sygrqWWZwu38WKTQ8GZyDKVmp/tkAZQTdDPu+ayP6zXV12z7sedgmOn3av7Z2bQ3II8aZv1MGZPTyrOWWuvBleeqidA+/1BclOWO3frOX+Lan8hMcqOaBxqQcnDLK9MTTYoVxPxg2OWDl2Z5zxq2EqeZFfcfhn3+8zspxTydPm2m28r4HPYzfAUSpqGbT3WkjWfO0EZlaUsyxSNX5ll+fFVYzc5zLh+fUp5P6uV6Nup6rqk9VvqEu08jvma+uzO0tbVaTnFlSL5R40F+O5PvfTL7z7cb1lkW6EkOIuTqALy/vs/9sVP2howsraQPHjiv3H4jRLS2REAEZm9EWsIZ217OQwmm13FiRdT2B/56dW5Y4X0M7Tp8K2LbR+Xaoqyby2PIYTpTLj4y/a7xlS6OzvZpkXrPM3NjRqtZWm4dJGUZh7dCNXpATudNXYsY8j5mZ8N88jbuJRceHG1eHgzHZNZtO8XP/fa3/nN94sijOUxeVO/zcLLhUBVTXoJ5UDQlJ+UNxQXbso551NB0oCfa0eg1E/EMvm4wF6kXr7dcDrFujTlgRGbdkzW11PFmvlkaPZgnoI7CVztLNlRVMUkl0qs09z7tx6GlTVb57vG9LvnCEzxDcjS0CHML5KIeASTvJoyhmkBNYgs7MwSiktcL50uHl5vy6HfmLMdxp064Vw6ri7mG6ZeTcyQUGuLzZiWVF+/c/Le5Touzd6MzkzbW8kAYR7HTtUZvLEX5AiDeEhp9XuuAkDigRiTB4UAUKB03kKYGW0xoFmS0Vs1bVn/juXlqpmY6Le+dO8rD59MHvJ8Z2msUjON4cFPZzSWc2x2YuJSZWYhDqBhIlC0rgzlpAUnbXM9jF+4f+eNZ5cuCCr1UG9qork62Wum6WP5l6taicRhy7VUpJS3uGWJK03z+ft3vvrkoo9nIu16DgjEo3dl5bUEIHSN7csuhj1ViixId3TeTubzkQ5FdqExxnkPQsPsJfi45Jzr9qSZVvEXDW/HYmSInRo0Hd3KlVP9V957VI+Fcq9gZhilqpr+As1r/mPgY5oB//v/x89UzTaZXZNdQ7AUfwBrGizFysbcVIkTuDuL9mI7TGMmS6Xof05jP3eAut9kqUgEubvonuZ1qUKdsTTFJEAQfSPFoi8bNAVpH/ys1NHaqONahZJ3du+klenQj0pSxC/itn4mDum8wZlntc5t9dLpSmuMD+IlTmQpjc08O9+fmswysPdhP0y3sWZ0Xqq6ng3Q+SRABIbgq0TiQxN5ggAAIABJREFU9r6dEnH8LYRSSwLQITNolrHdkVPvH1s2ZjO6WRyckDWU+0nK3vmivdyOyLOL3d+KyWExB7NhKR7jl+VO5eR8bjRytt6mLkfxGKbGxDiy1LHr987yUGkpkanS7i67Z5sBk4de8gkVqSaj1zoW6k7XXvRD3bhE6bjvWFexb3/p2z/zt776VpUBYkbJ204O90PtcsVPA6WYkoS9rfa58yxiFGvOG9e/KQsA6Ves/C3Oqql990boTvXtc3CoRoctcrPueWjIgHwOW7hNp5ZGiX/mTa6zTn6gTup6ISBX4OT7jSZr6oGz7nqwLFWSM32J5P2ScpEJTPmkmnl/zjW4U5MEyKunJx9cr+NeiWqqijuL7nLbx4Npi9aU+U9lTK2QO1sZ5q01o/fVcdU751ml/EydOZ25TSVAyzK76UzcWTpCDAn/7R/9fZ8oF/R/8Fd/ppbC0Yp36Wg0iuY3pZ+oQ5wZxdor5yhNrgOCBLx4unh0ve0aM+Rz6OM/u/t2yobv23QsQEBTVin27okZsTGyoLoSh1CJfI0Xoy/o/nLxZLNFFb40dc78XkvkgkTzn4DWcO8DgNOmuXGjFKk8vakygeuwFwCCe8vu6Ta50w2xz5qgHHZfSlrkQkhxgBRN0uR435ejmHXqotam81gx3S8pzepeEdAsq0DVItkiKMtFRJQEUb4/BXntjLBJ0QF5zeJ7Pv3yL779YAoRoPrg2nQlmsV18FTVmkVUTYuLcXuDYGoC7NsguVZ295DKVOPxkS99/lv+9tfeljrzmK081b9pndsRhhkyHSEjlWE6RZXMhVddTwJ55eT0w/W61LT8f9y9aawtSXIe9kVkVp3tbm/rfr33TM8mcsihhtKI2iiTkiiaomAIMGDDECTDsAFbMATBhiwIggHBCyTDiwzbECADXgAvguE/trkv9pBabJKmBpwhNdTs09M93a/7bXc/S1Vl+EdkRGbVuT30D6l/dOH263vPqcqKjIyMiIzVzkl3V/NHVxt4/RSjbsmqZxkqMndDKqBKLk9dKWXTveBzDEQJ5rLe492O8Eq5yyMR8NzR8q3zaycY5x7uJNf6xrUKpr9nk1hlpx1zZ0MNYdXEq10/otLRyu4Rxt4W8aRKYDzI+MWZk4z9Cwwt7zUFMVAJaQ7aR8H6eIIgCU3I/gs/xU7frp8QAqHUUy+g66J5oCICcYKdd7J3mQ7b5ny7y8g3OpH6FF5fvo4eraaDGbIWIWyGwZc7wzRBl40DIBJ1IpNssREzyWdWIsaQpuxoOmzRmewz+0owXaa/9c99sATwv6kCeIxu/6S4JIG8dzLPlduLxZPrtW1xjCqimX5epdIrJyJNoCVTFvcl0OgSVLpRvjsq1fp+CCV40llnkSEYLbOrClpieizV7EsAkIrjTOP/cvt1AhFbx5g8ljbaG7McBUdQHRW12DqZAmj2NCICg4fSWUAUgEBIwGHbXux2ABZN3HRdFh8kSFQSsircZZ3JRhLkzaP1bgiSKwj6wbtGkmHSq+1baeC6NIOsZu3Vblc4h8kdl4cEUcmdS79ano1APnzr+OtPzhz5uXCIMrFccq8KbTV42kgE2g0JRJHR9SnbwieztxAuQ+2NpDX9JLdsipa5qPfo64WI5BPP3PriO09VFRvJcZ9VNWaWN7rwJo5R+fUrAKSh0Gs/Q1gqghPSRPcqVFyL09HFlsGiC3//cPXg8trwTPW+m3DGvHhKxrYCTJJySwnyVFrlCnkTCyQ7sepUhMnGyyc9Gm/8EQB72lNRkggL5utB7SLy4vHhm6eXtt+m0kKySuelZ9VITiUW1Mo2TfI+Ruzfdi5TyLVHCjvawzzhuG3PdjvdAU0Iu76Y+mrlwCg5K2gfv3vrS4+e1m8feayVeFJeMtsR5cWqATg8Cl1t7ZcqxaPMUgpN6k3WJyN31ygyb1SvdLouuqzHOcQvb14Nm3MWGJkGTS5S9BVKM2+gsUrPU0pmanKyqGMT/6sPmAD+Cz/xWRQVMrNQAnJ5sCqxR+ev9jEVpYVFCBIQmK0thp2LBKB8pnzucPX25dVkKfcFoQjYh/DNad8Goki8TUPNgEQdTvVpDPZg/ScyN1PctiHs3NahpK/mJj/CGgAF5EoNFJNDzCCUdmNlQIC11rwBoGhctc3lthvdmXf0GDU3iY1pJ+Yi6RA49GkgANqDSEaaAGx7QnNDE0re0YSVE2DGQxERQiTuUiIpQ5ws5qfrDTyiEiDKZ0S1Q4pmMZrO3oawGxLITqJTGoBburkKBHXay7kZWaBPqUWnEaoTqpiWYFqYuHAtizi5rYhIqV8NQa6OUoWLeMBnjkgY2bQhYgUfxq+b0GH+N9lTAKngHGTexnXXm9GCc0OIMcHAQkOfOVi+e3FdyKh+h/IwwlHbnu92DYdcwssQqLtPUG3wvbeAMAthNwyjmU6mhvLU7dX8yfUGQEthZ90wDZmkHNjqt+U35LYcICKU7TJeETFW7oAVsBUWUTWpWE316T/zfZ/4n37jy4bDwt9cMikZ7NtO/MqWbTMn1CPsi+HJPqqRWYS/Ky+ZGZm7h/DManm22Vo2F2BsjapxKsmYZcTBzPLKiuCsvNe6s5hFbZjV8ukGERHaD6818qTqT39O7WfFNK003/ewyOqiqIxZECCrprnsuoKiCmOrGK/6oeaFk9p8AP6LP/VDHygB/Bd/8rMQHM1mF7vd1EoMQMCBDtvmuus7Pxag4JTNTF1Ecr6JSnWErMcCKbNLu6X6kkcxb5ieJ2oyt4+YKCHlwxMg6vrtKyJ1GkRgVhOHhU+b6M6skACZOnaokrUjCG4ApkCO8SAwHiMiCuEw+Hs9hnb0OLJ0nEj0OgNbR2j2Inj3w3RJEJm7rGw6dHmoHOwNiAeLCp45WLx7tfa3lDmXPmdlzyzaZm36RA7lqKzw9bLqZzFwnwTj8moE3F4uHl+vMY4eF9hbxxglWKy18XGYdJwm0vl8pwaPGzhnvRBm2ckMq27eMsFAeVhKWtI+c0Gpsz0KJ9UdFJn7IY0g3BeHe9eou6XYJ9+hAKcAhFuL+dP1ptY2JjdMsCfm6MkK2D6RVzCHUFUAFS+ZdOOWqdQp3DRBl8EVuvavD986/vrTMwAkaJuw7Yff88Izn3vrYYleqwZkZiulaSH3tkZjGZzle7HxVovCCMuWN0Pqh6GmnWVsrrtuMiO39rW1N23M/WAsqRR/tVPfJP1B72ub0PcpQRZN3PaZpqYInox/o2YAzGKO4drDABoOQ0pV8PvoJc4MAnPKuB5PzX5tOeyG4e5q8eh67V+oPdCMzmVgXYr3ZLDAf/7jHywB/G/95Gez8U9pS5vV12YkmMpGRECqPJf5Gi+tVCmGjCol3Oh52cT1ri+LlNuhi7+IUMQ4Vz6JedOsPQcDk5iRHIZQQ55XFuVFrr9TlWOqulxNAnPrx1m9K39fxsv8LiSkXBVvjDQ2VxzcjVox6qxkYOQsVCmYaBq2WN+jIPqSuZo5mrI9dWc1f3K1gfc4dVdZBeeI/kmZpp0MaqShkpcEAe4s81nnBgzvQa6jPX908NbZ5QjIXJArFXFX9CNAVGCXnoDk56cb19dEvh9Voc1W+2wjTnsCOuclO4cfC79ZDNtuQIVSIpBQ2u95NyawWrszrk03tplyqSa+xErcVsvC6bDUXxMQsGrjpXVmtaGMulQxqAoIaVjN3eXi0dXa8EbACFGosVphiTn3ii87HSMcSomEuNlEMQLO/7ZTlEYAlIhrx95YeBQTiGKNqkos9S4oYO29tC69XcsJQ4LToGqBTeCulyyFjaEpLRrYo87zdaCAvmLkG6l3muvTI1KZMK+ynDkmrtq8RXWp5s5MAVw39lYYjtvZ+W6bjQQ30bkPC4vPILHw+JEPZ+RlUpjdZUIW2QebNVV+if1FYffQU+H5hepCSP0AwjI2V33nnq+/+eM//P4IYP6db/kncRFJG5g8e4RJCStwToIkrUIHQESNFcp6CGD94bzbmcAAkxzNm0gIAEi0lDwzCMKEozZuu17HfOXkOL9XpAms79VUB2Yw5eQB5kzr267jXBIPRGiI9KtFy0kSERS2QNA4fibkqekPFYABRKKQZyHB7mdCBHZDIpBNB0QIJMEmeNBGnW9g6tOQkii0n3ru3qqJ2tVLvaYhpxnkSZXZGZD+i+Ih5F2YvyJ7NpfjBwLrlPMbmRBsRm1gIgTK3lPFw9PrDRFYwESROFB5OxlimYmAqCNXjCYAWiMwMpFBtWwC2yBPrzdOCYaQQgZkKA36AxDh7fNLsvk2MS/NMFjzPqclYBGDzkvPHmSTBRAI0UbWoWbMRrEgEQYiQdc0MPWDNDGXNA3VcrB2X9eWqITDWXTYYiCFbdcPCqeC1wZmQJsM2jahTDZEjl5m7ROHpdMDACWhCmNKWqgmqLStmygQdE8EQiT1iuXHdWrrvlcMBM5zDxXO55FBiitmwpAGBp5s1qR4Axh54pxdThn/OhQzHHKRlH9ntBz0l4aJq4k0zAF5jxNADAYaIt+JBEQiLtxDmNFwpklAmPDnf+BTXKGC2B5nQ5eOr/XjRFGUQS0b3NeFKRDpcti3EmxSMXMGapkD5ekoTgJAJAT0QyLSeuAZbNjS+ydc0e3dg4XvcSXIOXOGDTpIXmsiBLahgJAXQvTfQBQDcUUkyRC7jOGgjazEZizLZ31vudCFZkLQBSIwcLHbasW9zFfHHJuMqBjKK4xJSsG2zUucSyvnaR05JERoA8+b4MuhaAy26AwQYxbIKb+Gn1XW2PgyDPrqTd8x0ASahxCKOvNPXzK+Pyfgv/yznxVtqpMLJojFy2ddxeLmgGwcwL4OHJkHK3BTYn+ISFI0Kytl/VVeu3P7q4+f5Dx6QWD0ieYxbPoeQKSYMIwcpzJVCFWDk+qEYJa/fJCNHMyy6kdbAnBvuXx4bdEodo4UU6NfODp66/wC1VP2yuxtyRNWhuEHFiKIRGYAXfKDkZusyGGe2kBHR5fMDZOtewX2RJPPKqOUJCxfzGLuLaWNspNm9GoqOnZRvltWY5cq6iI53Fey1Vn8rbCqDFQfS8wZVIgLI+TL4WyWs0TMjaa+tyqIxEYgguCgba52O4HRTYHcDgnjFolk8WEfvnPr64+fOloCYRALEvLjitukCdDQVtP1/Sy6aJrrrscotIAoF3SkJGkCUQxMRF0/KG5PFu3pZjdegf3TjXJC3YDSBk2fo/FLs7ey5bBTqjYY9Vyrnxg5gCYUVF2+/JVbAIDcXi6euHkQGVACpBBZPZpNmUSDP5DXCEKyatqrXZdtGRkUCsAAMT9M2RFEikm5f7B8cHkVrEsdlIeMKm2IkbXTSf7QqmuNhpXKVm573I+j4kuJanpUdTqqmQasCQjn1KxyDvclyrt7vCmVKbFlGVcDQglan2JrIaVbQkD3VstHV1e2UXKGWvXGgn9fx6NZe77darMmi2CCUztD1L3hzY+rPQQzPQhG89Ltvbf2WUyQMd/CB4xseICwm6SplmQUzM2vz/sC+L4r8zM+f7iYX1xvvIz+f/xj79MJ+P0SwD/zf974VVMJzolveNK94IZhAQFeu3Pra49HTWF1Qi2Ho1nzaL2xkcv6+m9cRfBXIOX8y/pmthrxo+ftBvZ0xirMvZ5UcctVTxaDdk4pTsDvsBajCrpkVFdF7jh4mj9TQeJay3SHZTxYqNp+SSnF6iyEzXsvBxO1IWyHUqnYOy0ezmaX262AApPPl27YhKMBF00YEia5YYVNOiuCVH/ihr1df1RtOa6KmUTmJMXQGMwWapzV+VoZo167ke7zHim/9SB8U97IROX0O4mIhHsZdIRP3n/mNx+8O3npZCh93aJprndd/WGOvrYqktPNUDA23ork8fiIHNzweIPgRTYGpJSj82i8v0ZSzj5y0p1UabBWKPkr/U2pum6SY+nX5WoDD4LBclhvhHMEc4ZqvIf2CNI48w3DvXbn9teePNHP402VkOvp5vQMmSx14RWZEggkOFnOz9e7wdbrX/q+T/6d3/itvdTjUYyFafx+osiDU1VkLJeaUaXQKHmyLrqXiu+2gi8nFwEAXr1965tPCvudovXGj+vjyBQLYz8dKi63R+GOZp+CW5upyuKbvGWfCAl49fbJN56eOg+B4G/8s3/0AyWA/8rP/qL+2lDoRE+xolvbVRsx4kM5qVA9jmiymgzfAZn2oMrR0c408UPacEhdFdo5UlA8mEwMsbyZ6kDjcCn5Wt0PsfdmfW1MpUXmKWCBQ0oe0KLLzYLERJId1J5iV6ZfDVLcPePIPWWbQDmiVcFiEGgwWd0PxN409adBjufz082W8kS4DhtbtvF610mO4Ifq1iJi2HMttV5HTJZJYAtf5GZ5wrFNEKkUGsu2zEqx8aB6HwEkixDXpijYxhv1B9XaEc6pMOUVtditJyFKM0xa84Eihz71fvxqA+80WIYEoj2tlSlwEvGFq5ywVGHG5kCGHBktWTVD+NFWgE/cu/Olh49cfjhV2CdFwdUeBm5UgPG6GNAPFUs3R6mH0PLUoamKD0uWR55brKZIp8Y8ERmRRIHcTyb6q/o19VZTpyaNphVma1CEpDLGxTdykhYlSF1/4s5y9fi6it+2vajI134TIzocddcGEYuINyGIteJVWUwyiQaShCQyi2HX9wK0MdopIuPEaDu7Spk0/rzKfHeN0thIxQwFNaiFJABIzNFMmQESsSCv0pidqs5OlHNJUF05vjuN7weINPvAbjKX60S0ubVKY9CE1bg12kdO6lSwR0jWHsY5yZjD58sa5/h794iqmosDaFwubwr38Ht3LBQLQR7jr//oB0sA/9Wf+0X9RYpVBBijjIgl7whMzLN77R7z4/cPDt65vKwpZTrmnh5GVtB43jTrLh8RPnX//hcePNARPCDQJaFFPRQdmZE3as3+nY29fHz0xtm5309WVLmGk8dHpdE4HhRm0NdTcIlRyzQag/rc0cGD88t65GXTrLsOY/F4NJudb7f1h5r9VZsXAcxiVLv9jVpPW4VYu1pabwb9narUJn3WQl5HN4y2lAHmrTUmqzyWvflSDBxXjXf2b9unCjED7AiA6raK81IlRIs2pJr7jb1u9smSGRqMjGlab37Qq1/5lZFmZ51CA1mYU2D0g3ijGzJxSNVqWjOMItS0f2VdWLuGGShZ9QVvVeKBTznLTmAsNctToTqdwM2oNl9VFHyQ6Xr54NWwowEr1E32Rf7cSHMWYzdIkqG+reqyVc6WHu/l0V8TACbvtQ9zqZO9G8ZEV23tyW2v3Dr+1ulpjYd6Iv4oEwlg6unoxL6/lLm+o5RvTxbzp+tNeXZ8ri2ZbxWs9aSqYuyMXM9gKkkqMArXIUO4iHi1UUVCjJz6UbqFkw32yalqCmCfT7uTEfL2mrAgd6lUIzppIwkC4d//kT/2gQrCYkITiCCMHMJTwlvsB0gawsAkbSA2Zz4RUhqIEN1/bo8/Wl9qpEDDVMeJHM1nTPhDr7zEHrDjYRqUg6G2fecffv3JE/+9T0nvh0aXBBYSIlAOXkDIER3m2/fBgUAUCG+en+v9ZBErgyQdPLLGkpAq+FwNezKbLduwbJpAaJl1vvVkA0nk/CImfOq5Z+u3zzXeg4QJ715c1ohiwrbv/EH/8GK3LbEVpAcOjcKQV06OAuNkMSeC1oaNRFQHQNnyKbqWTUMWZcOcV4oIZCsIu99/kkWlHc4avcHXtw4ZI0KSZE+RoQKjOy1K6MO3T4QkBj7fbuuZaggMExEhMs+byIR5DDqjNob6Zq7G9x+xFVT6+djd2xUeiHKZcQRCZI1TQwyZsBsuwSxEYCYI2sDEvvqGrvI6qSfIhBgyGCWwji0giwBI0tKRRk7kJAoJFUqDkRxlmZAoLwR5fApbtJeOHJBxfjBrlQ59LmQjAxn4aCFRwX501QTVU8iESoRAwqTFrkmVBp8yEY7aRs+MYY9+CKkEc403S7V2lAdUxyGhG3rB4ONnIC3GLbBoXBtT1mkUpBK0Vf18+vnnfVPr+jaBQaOFq9ZU/M+yU3wu7FOWBxfnZBzy9mJunI0mb59H5hwsJuysyQk+Ric2JhzMWkbZOEQ432xybB2JRuQVJBABOb5PgzGpwpXxap+OrNqGLLjEyeawbUiJikBEyyZWKwJA9KuG2ddiGJJwHv/3vfQ853BRYaImcCDMImt0nm6QJpQVZ4KGH/qPclqCkzSBcNAGJghSjUmNRrQtA6/V//5c71s7wl8A8PLx8bfOziZnC73am4pBEvJpbHTUG2l7+TLH7f7Zpgy1dxTW8663yhp5JkpMxd6z+RTCLCnB6onXyqkDSaDA5AWu/fTsESX1QTNYb5z3gLaqDfXes5uM6fDjpoPje/55E4YBfPzuvW88fbLbc5BPF7TCpNvpbojdes+lonmMm27a88fvV79U7Wyj95od1VZKAJhp0629m48XiwA8Wa/x3lcBe+zpdSTosaBOm6bq+N6G0A3DdMpEJLLSWr4A9vz0k9H0kRxTHcIwDPdWq0dXV++1mxYxrtWHdxN+RvBP6miOpzZ5as/TacfwUWGhSRQWyRRzBQf6CpHa7jW9v96SN87Fn501DQPXeySkMn4wx00u5qDQVsA4xeboJMDpedE01103j3Hb9zdiUndxTeH7nY+Rs1pHJjEfgd2juWc0eq/L/fpTm4cBr4+vmiaJrPu+jjf8Ha/94MT9WeuHx/P5xWZTh7osmsaq6Y2nZsxzRGZErDW9VURXAB4vFme2N10o1G+ftPHGxEu+x9C+Mz4B/Ht//I9/oEzQf+0Xf8G94hgTpZjdxmXGQTu73G0Bj4nVymej8ka1YxbZ0zYu5WM2h5LnV31u7iaAoKZvAqA28D3wF0283nVk9hrv6btvRq4tNvnDMZzOzsiRIADhpZPjb52e1WAquhQDuUjQJL+2nk71WhoTn6OE3N8j+U8l5UClJwGKlbKMzMQppalha/96D6IubsCxGc5ZtXuo3Oaf24aTFb/1WVTrq0v3qfv3v/Dg7b3XTvU0C4Jzg2eOsyukYdoNj/Vf8toaexMdzaUiBnEPwhjgJoZ5iOebrRJSDGHwaACdjA2oCJuHuBl6bzHCVsdPbNTCdERT43iQqpeJAISDdnaxK71GVk171e3Id719cW+1enhVtesmIkHKvsLxXJQggMn+NRokC54ws2Mp+mBIBmARYR73QRam3oa4G2p/hys99bqP6Afjnbgv8LJ6NDKyoka3w6DPzULcDr2jtwmxGyolZo9L1Ju6XJQ9zHBsqAWCQ5+G0oPEHvNIolXbXu12o+I5U7ZGKdf3vqzWcDxx55PVDeKJHIQ7y+Xj6/Vkx6oiRNYBejKj6fj27rIRKuYMYGVVq/SeVLjWDZzi/sHBZbe73O58mIY4F4IeigFb13ksSjhJiiF0/QCApitBZOEmeX2rrUsEmMvA6p1C2x7/tfdLAL9PJugA0qxHIkRi0u5shGBpsprEqaaAq25rFiEE0nxHIGf4ZSMks6yaSARNZYMNSCrbsl3OEmTZzUpomAEwJNvKAIJ2QhRCYrO36P1NoECy7Xc5R5ABkpwsSxIrS6kacxhgSmqQUeuKmsjaOMrsDEbrbAa6ty/Osy3IxkxI+XGg12Q1RhPymETQonpk08y2fehE1PaYEZtlLZBtiZwTfEFaoDFb/5gQOQhJQEYXgBeOj4HEnI1dMVt4qNjTPCeSqKlyGd3Odme1IEIT859uiQqs8FDBoSViar41JPlaL2OTx7SXBiIm+cI7b9dWRxs/RSZIsTIlkWdXB26j05xgJgqWrBx8fZFXhAhR7XtcPslYzVMTJiF4xnOxqfqrqaKQoR+udts2cMPELEkyv7i1mFO1HIFFCWmX+jawJhxzjsURJYOQW7Bla6eCrYY1NS8HEDGIcLXb1pbb635HBKKUk+Ypm98fXV+RGfwJyqqFWVNyLXWeRRM3CUJImZ4dSyREmDcx+HZgPH98yChvX7VRERgIpBmr7C/NhtZu6BWSk8VCkayZqpbnml1UyijU2DgLkdyoqI9AmEizhNUo2gZGBpLuLhd5v7DlRuuONrrtZVAjJ6lcHDozVGZ2QTYLW3GczObBDfIAkzTEzOYaI2LG73/lVSKoo00ybUvkzPRSUprEru+JNDk4U04I2YhtmxSBcLHdVgBQ5gPmIYqBmNTfhzaomVcCI0hetSfra0ZaNc2IsE11c/Q6O2oDQxJZHrzSz6rNu3KlFmYGAfcOlsq3133vSw8gsLQh+Aqql3DRNEo5715eXm13TDk1nwiJRAMhmBGYKT9ITEhIRPjdzz8fiaElhdJQmCeDQMb3hIjrVHLmzOEpu8mE1EPBWUz0qaf3SSoC79sJ+D/4v37BSplAgEVs1l130Dav3X3m82+/RRACp6oZN1uloRhYIGq6U8Vl2bbXu52qM6HqJOMHlWLWqDQdDwxxxZbyfzmyro1x1/XIZzXPb7WrOn3CSk6KpZodz+dn601RhMlOMYImhC4liASPI6uOqD6mZ1aUKVRhsox8XD+cza52u+SRFyQiKpVpOwxt4K4qEennTl1lPUuRTxACqBQn6zIGVcml6rRIyIX3imYpgOFHlXEIInNvFgjyM7qdeAg4mS+ebtZkUxstih2gdHCdGzMJBKOSPwDRS0fHb56f+oPQPIoctUuANCH2qU8pj//9L7z4uW+/CTKLQnm7pTAVfBXI3fxQt162u6aRHnpKu3948ODikgz4up5wy6EXO6zaoUHXPTAnsWpoNj4E9w4OH15dSNHTIZrr6dGAjjKp6G1sbyj/2v0Ee6OfID0CnogJg0gkHiSRm2fKtB1uRA6DDMVA5TdU58j6QfKYWj0XgmKgfsh5yfWmlWpSrVWHLjdUW0zEcW/vhWUj7JHZ3o7wyCpiUOE8lgKcGaOjD5k2qrTJ/ETgfBq7PV882ax926I+o/v6Csjy8eQmeJSgvuf+/S88eJsAqnrPoKIcnYvZDHjb5/2nLAepAAAgAElEQVS70CqVAMgMV8hrBAOgzjMMhInF72i+ON+UUo46Tw3RyomFBIh2aulr12CwevvFtkIQUMOca4PX9ADP1iDR3P3NtmaM7ICNGa+jIDCTUF8lxcHRWG1xfeqHX/voL339K0nLxacBLikI9XoBYPAgCYR/94d/5ANlgv4PP/vzVBGZlNDiio8gk6SXfFPauTVfPt1cjww9Hk4NgDCPOUX1Rz7y8Z//6pciZwMjmSwUsqhLpluzxdP1NVAg0evFo5M3z0/rIEgtK380n59tNoasapkJAjpuZmfdRtWpnDxaEaW+QPQ4LiPmi8rmToK2ibs9r5IAq9hc9x0BIhQYSQpbMGld6g9rSsP+ctYQFTIWEGfb8vFsfrbZ5D1TRnbmnH02vrXy8lnJe9VwtXfYodo8BfrUoonq3dQFXcS4GXrfpRCEwIPpJbXtiCp0RQ5JZBibwWueUsDlnKdS6QqZU3tF2LGFChDEwID0k3ZmNtnjxeJ0vRZNF1Y79gRUy/QfgUe566F/xoRhXAY8kEvfogmosvXSycm3zk4dHvL2QgLyHkQCJhqcjsw/wraIbYjdMDhFx5zfXHqFiaUKVYgCCAdtc7nriumdQOBPP//CP3zrDQU7r0URlqbPVVZKJ04ClrP59W7jWAWBrcGOa11KM8RFPBS5BUAwb+Km7/VNgTky74a+FtgEBA6DU6oxEF/oWqUudVaNJHIFDwEI9w+O3rk817EjcVe5twjVQ1UAMUnRApoQ9SCrox3PF2frdRNDPwyY6itUdKFqa8M+AWlplFzafRGbdd850moyJkLLcZv6PDuzNpeRi4JSbYVpGRIA1ETqh1RDUnBmT9W8Imd5VCy6zGoEYSYyFdSZW9pARILKz1gDlTFgvdrKVyNmlf9Xd7CVCvplbNfdjt37bsSQ+9CPxcFf/aEPlgD+65/9OaW3NjAzk2DTd5MFQt2kykxAvrvdN5m/JhBKr1uq+4fX5LUHTM05TYsUALcXB0/Wl36DymznA0wiCVTVytdLSxMoYfnm2XMa2oiuZme5DOvBiaqgRDm61DCzhXV85qVXf/WNb1qzbRuvpH5WjIuwirOrbgt7X95N48IkalFAdbAAwOoXz0mK+faTxeJ61+3MH6Zi2JMuMMV2Tu9rrFSCDpK99fXUoDkS5EgqfdpzFkHFagiRgmm+hWfMY7Pp+2oH+bcEyA9+6CO//I2vEhCIey3ENr7Vgakf0z9ajruU68iXvW7i3w/6yufb2Gy77mixON+siSgJnl0dvHN1UQ1bso9d4DnjKzMlLeBFSUqKyASEG7ncWMvCK7fvfvPJo8KhTFR6iS4CtbHZ9jsV2KoFUjWG054OPSlzXVOdvn2WO1tn8WKCosi5+kxa/1oPAkhgFmCw6ARmkiodSqBbFMGsJIFZIIOVuKojKNsYd1Ukml//8vf/wH/3uV/Zw60pVOONoit1Z7F6fH1Vx0mM951Ko9ilPobQW5yBL5Dva1IS9LO0cv9MHwQSbyEVTO0Dsn7p+5QADpwG8ZNj4NKDxGaSV37VtFd9RyJRCyRYMa1EFNUGZjwsv4qRUslOiiH2g2e927a15SJA96kKUv2/WFUyAE1odkNfsUapsVoF2xUyaGPc9j1NCNr2yMFsfrndALBUY41XsBR6u9jOGEo6ATwg0XhRRpeB+Fd+6E98oATw3/iln6vodaRvGQGKR/29cHzy9tmpSqOxvpjvhw0V3ULonCzTlYUgGrfEKNtvsq+M4dihO0HqiucusCPxgJSKDbfUClBLb7U7CrQTmaA09Jf/yI/8R7/88zXgqKQRqhrikxEcsAkBEcBc4np036peogPMYtz1/Sw2m76rRnvP7FvJUq2bx7jpey6dbyHAyye33zx/Gol3WqRQRljVsg9UQMszWOYgoPL5GFFj1FWQANOxJosowKqdXe+29QJMnzWTJVVUQZWMEdz0FLLU1yJQVpJwiny56Rc3quXlqBLKc9s+f4UuxzSYc0S6+1O+cV+AwDRNIwbQMPcjs3J5/JnV4elmvRt6ptLG5zsjPJheVRmhs2E5317sAnaD+iwq0cVeFXKsWzjaRXA4m19kVlvXEy131nMXgEEHs/nFdl3hNnPtWdNsLPW/jjEGACvZDeDHPv7Jn/7yb6Gmzgk2itDMxONds/Q4NcVYRdw3xnLXSFatyzYdJZGXjm+9cfa0mji5sHYcTFCRQ7rGpKzS8e5y9ejqsiY8IQRktZhuakXqa4HqYOCbyHwWN1Q9s3UsVrp90sr/1p4CW6AmxO3Q75M66lwSw7CTVlkRkyAMxBC6ZOW/bOWUMo9m86tuN6TUWrQdEf87f+SDFQX9n/7dX1BPCZdGapmM5k1T55zUe2ly6VasQ/zNrDJ+nZGaT63NUa9mAjeFaPJS/WTZjCwV/u08tpt+B+BksTxdrw9m7cXW40uLohC0YLXFrNaM0XRG951lQPyEE4gHGahE5BWorLppYVbVAWh05K6kuc6VrITvFDP2jFgfW6pHR/XIDfUpv+N20j9XbXu521YeqPxlyB7E2llGBo9oaS33jk0YSL3QymUCMTO6oUrDyMpZGNKgjiuf16i1YoHYOUCNRmoDbYfksrme4Pc999Ln334DI/CcVDJNMtG8adZaaBqQKtKVgDaE7U15d5I9czl4U8ZjEiSGKJKGBDsuC6BHCAhEC29VZJCvmPGQ0QuAwQnpD3/oo3//G19WAtYavzVdxRA1xU49DqgQpJrcZNFXsbnqe0C+65nnvvju2/XCEXDv4PDdy4sR7gmQkp2in3vhF/2erIeZXg0HYur6vsan8e9aWLhwGfGHYnfIbERlIqHwQTe86TbJJtuKTfpbRhpJIWNSSZ4PhgFBa0k6tRCRV6GoVraMPCJ0DWVXVjPeub7N/e1U7W6x6ddancO/bNrrbgfvEmbsVEZbfzRHZwK1rGWC2DGpArm8fUSEY6WtkuumWFgeG0lBy6KZrfttIIqspf2ceVMBzx5R4AUUmJL11BtpA+XvkSVwZE8i+ks/+MEyQf8nf/dn9TVsWB/tCgJQgvvdSvnjv+t7f+K3v1DnGLjaRTf9Ww+p8mHEUwUgS9Sz9ybB7cXyyfpaaSKXmXSysMLuyyZu+l5EtOO0ebw4SVLX2qjP9Bgag7D2Z+Xv1aZ0e7l6ur4an/byr3vzKpcmI06aC6u1jSlokC3skDECxdJyLCShuML8df7LLMRN3xOBOb8ngNUfU6tKXqFJZxqJeikV5Zdtc70bJWXmbJNaSuxNNVJQ8syqWzWRmsvoGB+9++xXHr0Tbsq5HJ+r86ugNbz6BMr2djEJ3Yu4Z2JCWlJb3va+itpz0LwDysyaEC3Z9OaN1sYcRBMqc5l9FXd9fwM50biJ+RgaXYImhG7oJScC5EZeTKYBmBaLvRbpDGDPTaADCwlPOUZhW+qo8x2KMYACtBqcQXj+6OSt87OJ6/yVk1uvnz6t31g8Eb7rR8jhXZ+U8LxUJDlMYwjHFWHreVHVpBTKlP/wqx/7e9/8sj+u1FNaBFZUUVPWd9iqo8uA02ffg32N8EYahCEpyagGn1mnK+1f83P2CL7sl3HMkV5NDF0/NcZgpC4UqR9CgGAYBuel0VOq9uGuLme8x/PF2Wbt33NlY1cI1BLuynSNtBvHlnGJ0MiBQF3qMabD/Qn6B7UCpv/7Sz/4ox8oAfyf/b2fxei8gQDU+n+9K2pUZd8nEbwFuxmAcy26OsYSAHJTATDVTuJMx6AEzGOz7neTlahHiIF7C2NtmPthyL5JjRia6FFlCCJAQ5NMHYUIamv2YTu/2m10A1bxXkAOhykRkk4VzHBTPBPNQ7w2G3LNcWDu2FKZXSNTiCJxJwMk+0hG7XWqQcrmNJQKcDJfbPth3e8mK6WgzyxONYA0vEQfDBQGTbOpolIn22BCdo37zIRmTSDQyXz1zuWp1NbCSchodmfawVcDOzTeWwD3M9U+ZJvzx+89+7XHD3spqlhmMiIhhGEY/uCrH/v7r395AqqXP9Rr2bSbbidGtESFmxT2SgQR0ympzgXQiCqBSEIINAx+jq0ORzXeBRDMmuxEuDVfnm6uqzlhGVsiue40uqJESSxjC8K62wmyB70ev14RJ0UFVbyffKV55MEt7kA9x36C0OXQ4pauD9QKQ+1h8feqXEkVo/cp5OIMNo7DgFry+BSqQyjTqMpmjUwav4usrOMY2cUFYroz1WF/ZUDBwWx2udsGoj7lY+rvffHVX//2NydIHtFwBVPZgKb7l6ccpaZysvlvlcbJDpkFKg9gtCA7vaP2Xgnwe1780K+/+Q2fL8xZHwMvYrsb+t3QT8AmoqSnlFSwp9YzN+uJEX8dC2kxzxXlawOYsW/FpzkP5imjEoLgb5iHZjN00xkZYmex2fYdUdHXmUhM0HnREgAfvfPsVx6/41MMHERyxPa//Yc/WAL4b/79n0GlTPnn5qIP/ZB0tzFKcPnxfHG+yb6ciTo8uowl+F95fFAMrEm0lRkyX26/eun49htnT24Au7r7haPb3z5/Mv7Y9tGe94KAg3Z+mQXtaLL+cO109AefO7z17tX5kIZ6e48GAS2b9qrb6hcxhCEljIi/PDUPzXbofHeOwrrGswzWMGA68cJjNKpragGbQKgpj30VDjkW9KPeNW7zbaz2AoBnVyfvXJ3eAObozObxMZiQAwGH8+X55tqjax1vkh8sU4sh9GmYx/m23xoOtfMEnl0dv3N1dgOlTRA3kpD5Q8qdcZOVpHfD+AhmAiLHLvU1PdWElD9KWl2SmdAP03Io+xBOKOdG+/mqmV91m9qZTUDgkHIjhURTqgPspGKbkQc1aE/uJIrM3TA8uzo+21xtqvoVymqtBBIJ5NZi+XR9PaKPMRYcwxXqRhOdhXabtBVjGeTe6vDx9aWIaDeCPbH6HqgjtBR3adDXP3tw/M6lF8ZhuM21WnHKEUBpYXqYfX6DSTY/Xcd2VmCMo8ddkZiGJwfCcPNsbpyQ/51/vZGexyGOgHsJdT8QJ0keaxmIQUjj8+7LJ3dfP31kIpBuYCM6KSktJyYYACGAe0lshVxOFqun6ytHnQC/+/lXP//W63XI52SminZ1PBnZTIizijIjgsULuSWavIwM0V/8g++TAH7fakFrPr00peIoCFpkAMMwEARISCmlITe4Jlxs12RJ4iezVcM5pVrTsY/aeSQiK0BBJhLvHxxZVQoZhoGJKPcYFyZqrNarSK5W8e2zJ6VcQMn3BwG5JAXw9vmTnJkOYeCgbS3lH+TNpbW+BIEIl7vN80cn+cM8mmjNB3Xe/oU/8CcI1pjadvk7l09FhjzHTBO52zmBdEbrbpsh1BLZVoU1V/lwdgnsspJotSP2JqhJ8QSIJCIJBi1s/JaDzUuaELQoBFU/AOYhsq0IBBqGmuuf5Nx5EEkbuAk0SNLaCJTXEQT0Q++L+PDqlI1abs+X5AgkgeDDt+9F9mILVhDA5nJvdUDA5eY6l1aGMCEyhdx/3vp+U8EeE3b9Rjkdg7SeAwFXu01Uv4gtRLSitVbzRD8kzj3DyUoZAEjZpCaJgRkHyXgT74iu5XaHoc9VGnQfSqmd0nA4mM0J8sc/+t1aZiOlRNVkaySTlXPRz+cxMtFBO2eAQJTp1jrbE9bdhgW6Fj5akgFeYQM+zVKTQLRShB6FU2JI5EBAIPbt0xANw8DAw6uz3dCzlqPJsxMmIKXVbK60era+9ncZyRFr4RGfY94yEg1LRjnChG7YcUEa6VCPry4gEokEiaxzNvtQzi4IDNxZrjIhCfrUc6YEvHt5Zo9kqmBgFdtMQgoJZxm57XdUIU3Zmt+m72VQBtunUH0Fm/XtxRK5voowEap5seClkzsNMQOrtg0kXlQ/c6oJEyO0GfmlLI+SAYMiKzx49vDQH5mF6LxIuZnSMEhYLXGSlAzmMToHeOP0kS/WLGYWfbJYNsyBnDlLRgiRbZb8LwgkmTMg10Gis/XViHEB/+idN2B1thdNQ0acziIoHyQGfeTWYgndm5QLEEHAEOQcYtG1YLHVsRdFYnpfRK9e79MJ+L/8Bz/jSsnIRiE4ni3PNtd6HCmPlHMDABzNlxfbTZJRH5jpW6amoawAhbGmf8ODZJ7O8beTyFi96mOXAlmFPLg+a/ZMOyPlynOZCFACMARQ31gaxiNUwagGVn6pBqUQwY3wBttBu7jclYqpqt2RZD19qpgT7i2PHl2dy/SL/LROedHM1t22gDFGrgbyFBgJR+3ifLt2vXUf5/6VVn5I3tkVeOHo1lvnT9um2XU9c5bl5TynBESAhiKbX0Cvk8XqbH2lCv1BO7/qNvqVIOdzq3f/BruCIBCJJl3Y6SuMXYaTE2q97niPiGsAgbnhsBk6eOzfTQDwOKRl5DSxQSV/S2lkcKlWCyDgmYOjdy7P689pdLQCgWIIu6Enm5H9gyGVRsg5nRpqb8yFOwyqyREVf/q7P/O/ffHXICVJBsA8xtduPfuPHn57FILggGXjR07OnoVm23dq+cd+7ffqIdo70N+y7MG6ZMqqnV/tNti7yqqJ6SYe9AMh4CN3n/3qo3dmTdx0GUXIHoS80ZpQDliQYu0opyo1PjXNtuvqtaZqEUce3L0AF6OU0QoSWetEGLg1l7DRF7Hd9LulpQPANqvO2YFhrxFdBZYjSzuWhDoU+kZi827N1lIW+wuXISWgmmEEqZ/JB5+F2MlQE8l0h9rF6hez3RSItOw2zA+pCWBsFLtom/WuM1IveK6P7/uzg2DetP/a73uf2hHy73zLP4nLitUlIgkkBImsOotc7K4WbUzSBxK9LeihFakNRCREcrG9YtYRhKHVAYVJfvdzL7PWViTJI+cX5XcRSZLeatfle7RUW7APGbIbOrZnmSSwPHNwCKQmMJcBRU9yR7OZ194D8lvmgZnl5ZPbgQTIkw0Kp9VxZEggIc4YYEjLxCS99P7qV27fiwTCUOCBzCJz1v6EcmHI5Pj02W2HTT3TWaSg/VwxMEkguTVfcsaAMOTJ9ZlCBXvqZDlftW3IgwsTurQLTE1AgBzNZ1oosQkgknurA+bEhvZXb99lyOXu2tE1xrn4MhFJw8RIsxCIJFC6u1oxydsXT4ik63dECZIWMfqaEkkIMotEkBeObg3SH85arWnXMDHJ+ebyuaMTRcu6WzPsKcYgPbMkZFzNYgisVQBJVweUIEkXZdFEJoERT00VXgSRWIv/ZXpoYxjdppMlERl2wy4vOvCZFz9MJB9/5r4i9t5ypXe2IVhPHhjlaB8wIeDDt+/paMu2ARJTarXKIEkwxDqcD6/ORjAEAhKTHM5aPXmDUp86XxdkhpZE0uGsFclUB0m2TACGak9J4LygwRDyv3/xVxnSRtanFKu7ofvtR2+ylXfligCYRDc+UWIIQXbDjkj0RVYOthCPPZ6YBLaIisPj2fx0c6FFFiHlRW2gQPKDH/5dTDIL/KFbd/UeQvpjH/mkQjILTEiUC8rmB7/++AGR7PruzmKVtzxG7x1SDy1bCEXgkGTQuo+BdGMKZxqewJ9/dKhAAinzzVtSFz2X0nRcJSY5ns+YC0MIQallmFDmdtgezmfrbuMcMjMiSkrqTaTAAFIwAuDcSUnUvAcZDmaRjGsxyQ+/9t1+z0ETiSQygBS1LxYGYoNTu3sZ08tMGBWPgiQkNpLQz3vpSCokZI4BXcRAEo3aKdcPlkWMhJRkCAQbPxFJL93Lt+4IBgVy1+2cbmF0pV+RItOwpHyYjWNsh913Emb/ZCXj+3MC/lu/8jPIsfk4ni+vdts+Dcwh7aVU+lXrKf7JqOQ9strVVF1NJpenvfrR2a/AsU89AYfzxflm7W5CPwcAqiazxS1BjUKqC3N1IAzW2nY87Uo19UMm5RixP/TqJ/7BN/8xKoVuzxdjcFaVx/fRMtGy9Zfvvf/qbz745iRUGNUZzj+JHJMkD3lVWG8vVqebq0kcpaapZFeQVeKsn8JN64WRTWKkHfs9Lx7e+vbFU1PGPWtJbhxhMv7khEEoBVvq5d5DmruC9o7nAgAav0M5sVsChyENxSRTTk7ZHU0WR+2phFIMIUX75jFpBWSyMRNFhepxxf8afsoBTZlg6kPh+E6aN7mplAA/+rFP/9yXP0dEs9BoNp0ATYgQ0d6oOcxwBMloNI8UVYStmtl1t3XkHbTzddeV2Hs7hRjN6Pk1BwSVt5hNrKygOZW0ecaf/fQP/Q+f+6xUKJJ8lIeM8SZWZZar6GJPcazNN/vUuGznV7uNGXVuCDBHdX9NNfsudj+eCrBs2l3f9xWEbqPS7KA61Bw5ONSYVWUCoZItTcu23XT9IKWJ0yS0ioDAcUi5jYfGNvqM5s1s021v3E0+mvtZdTd95sWP/T9vfElLAgSwEGrK/O5nXv5H737Ll9vxM0IXAXUhIIhz/glrqk0FZKQ+j8227+oO2WRorvnD8XxxvtmgQkUbmu3Q0Zi16l5GBVv93rvLw8fXFwD+/O//sQ9UENbf/pWf9tYeRAE55EcI1HDs0lDVyylEPGHAmuYxi82264QASBvjLpcstggdygF3kXmwls2NFpOrBsNoYHuTsFBODWQSQTDr0+AxncA4pA8A8Mzq+N2rMwK9dvv+1568JVCO7Gmamt/GSoYhWIKa7i7g5VvPfOvpuwDI0j/uLg+UDgCUVwtW7exqt9U/1eFRGSxVHhCkCoPM9urpxGch7oaOKSgRtyH0achx/GJ3Q98CL9Hooc55QAKjTjEsOKEs5BJAkUIvPoZzlfx7YJqHVlk5VyUIarOYaW66vAKiZAqQWqQPm8X5bs3IPICDpopVRazqyzUi0KihEAlAh7P5+WZDJJEDiLymqT7UMt87uPXg4nGdk71qZlfdbsRgDAmueFHNGAQxaKw7wYrlolqdmgVZTVxPjLRRvHDYGPfe96nSMpzC8//ruPSaS6rfZD9ny8fxLofFayHgXB5ORqSoQS6l7sG4dBsmkymP5z8lr4dBLQAzpMqPKjmmOiutO3YyX51uriRr52UmM252qZMSBJt1gkCxFy9bSwDqoFyYfiwQIlrE2brbwoCfJDkCFJkP2/np5tr3HwvNZ831bkM5x7rsnxyVRMjmZRZJ+Nd/4Mf+9q/+NFN8/vD2m+cPq7coCDJr2n4YZiFedzupFsKs+grvqIWXqhR+YEAVKkWCl24988bpu5JRCoCdQDI78vBiSOTYp4HyrswhSwlgyO3l0ePrC20kZQbzapVzyU0TmTTKcn/55N4bp+8qxJX+VEjCxa0uTeBw2M5PN1cAXj259/rpQxG8cuve66cPKbcr7QAsmtk8xtPNOlUJ32MfRJ7rNBoW+Dd+4IMlgP/rX/1pLU8DAII7q8Mn6wuRUV2hZZzFEM63121omKhPQy9D4ds8PqzY2ICUesKjU88kCxzQ9BikG+dc/FI2wvFseba9NicQz+NsN+wmVZCO56uzzdX4xZM35hrlAaGXgZnTkLyAu9KBJsVOQ8TfY0B9ZNJzLXdUJBLrchqIAweNwzqer/o0XO02tYhsmDvj+15IfQw5314cPLw+l7JTsnrjbqN5bDZdX+GZnl0dv3t1CsuUgIBAh/Pl+faK9hL2TxYHp+vLGycIYNXMmfhid+2VYPVijUml0c2ONcqlK/fjZjOxKerqBqLTQTJKrax0kW17wQSW5kF+jMtZE5g37bOrk2+evuMCrc5GQ1VR+cbSWgBW7XzT7fxgcdguLrZrm3VW64lk0cyuNSq+ug5ny0stBVVVF1TAXHDqNNSbDsrOvCnKKhFXIWpKm6Q1OPuOSPPwimz1uNb/P1xmL4gBd1fHj67O8idSCnrX/2p9QSe2SiAZkeuWCZyGdHdx9Gh9rt50FduRuEuDL9Nrd5772mMvITKyP1VBADq1EAJpAP8kq2r/akOTgyKrHGtLLzIlvWB8jO+bLjJAVNHX054jTvHQcLDp+yk0PyaTZjNl2GrjmO7VUOykr947OhnVzwKybOdXuy0gTLled7ltj41/9M7zX3v8dhvjpu9eOLr77uXTLg2Lpl13UyNwIG5DDKDLfjuBswZD3KtKloZn1yLO1v10p9RDvXh0983zRwDmsflz3/8+FeJ4n3zAgFxt16ShmIQn1xfIelWJupw1zcX2OhD3Q7frd0MaNMQxx8vpeaGKoX3h6K7GJKekzchI4w9zf8MAKgFyOXJVZFDxUSLogCYEynoWmpCDAwk43143IeqYImnTrYc0DVG+2Gi0Xo6rJOCwnRPQciAjdCiJaJhfSiGQIGkzxNfuPt9y7IY+MutpW2P/Vs3cQfLgz3/mQ9+rQYABOYR70cw0bC+oNRLCQDcMDUdB6lLHBmQ3dAxt1KU/0qeBgUAcCYLcY1Hf9dLJPQaSpMfrcwbuLA9K5CcJNK4SRMC274iEgVuLA73h3atT1el1yTSC92JzRZLBoyr+83x96T3gqsBXmoWGgXW3vdxdK3/0yNgcMWv3L9q24dy/jIAAUngUUXcXhwpnw4EAXT5Up+cqGrNAFTkwYRaaHKSaG2XCV78NARnUHAOvIGlkKUQA2XTb10/fYQCC1+48pyRbx/eKpHmMTEgyMFFuuEbEwCwwAetuI5IsMpOuujVXq7BqZkwCgkbFqzWCcowrrrbXgLoSQTZBAGT9E9max6U0qNJAkqhaHR0zWs5CJGYQZSIRj5JtQ2RCG+KLx3eUxzsh3V0cMiAk2gCUqo3DwKqdMaHhWL/xerf2WGV95On1udMGSHQWHje+bGasjTtBxiuURShu0MtAAAUQgCER8GRzrkcxo0aZh1a36vOHtyPz1x+/zUBunEckFitOAMQxIwASDd3Q51DevAH9h+o/2famksdLx/c0aBmQQCFniGRXrpMc6bq/duc+IUcschW/rdRCIgTMYrMb8mbnrEhnxmg8UD5x54WKceVk9GrT5fhkn0jIqQT6UZrHhqtkE84ZIrSIrbJWNuZ5vduEnGaStLlkTVdky6Q/X3v8lmv6KbUAACAASURBVOQQHHr7/JEerzfjqHIGAlEgbPvdTnrlWg4nw/ZONR0AJEJJcrA3iIFNvw0gMuI5WRzkm0luz1cEfPtCw7lp14+qBv1Tvd6nE/B/82s/tWhnh+3i3ctT5vCp+x/64rvf2vTbzItMGYysLjQqB6y+c+MYckUbAH4Gy7pnE5uu3Dk5bBAq963ekjtm2D2RYxPCutuZ1lecaoez5cVWyx2oH4vtFKEwkfe8cWORgqG68x/58Pf98tc/fzCbXW43txYHT8uBLwMrmaarsi/ZgIf9cNcmxn7oCJxEtL6mAKtmdtVt/Vg0C8126Pxc5S4QyTPVGljNbujVpqTnxcC863Muo/erN+z5YaNAHkPsqnbxYvqvI7yYzoCGYw+RlCJxj8HOYMSVVh445zQbSeQ4cXsjbi8PH1+fA5Tt8BUN6D3qpSZCZRvIR3eNCyWivdIsI9uTW1sn1ghHI0Ax8DAkyVjqjQZgFjw6mi0udmt93BxOBCBoKIik8XszPpl41rTrbqPnoUihz34+5bmcZDCSLNHasHMtEw1IBBZJGvYfOaScizwoD7qzOnn36qmtaIFBs591TCbN3JFFM1t3HkhMTu3EsCzQG+1ROZHapoxB7SfVvSHwMAiXGU1RIWbg9U+bGLtSnLJemJrk8sdeMra6Bwa/gufZGHj+8M5bF4+RG9XbvIggEjgOaUCu7pkAPHd05+3zJ/YqGYNS3nIDVm7o7OD9B4iBNF4LVG7T6tAo+1ivDoKE7GsbFP6j+epyu244LtrZ6Tr7syw+nABh5pQEJduYDmaLQHy6yTxKX93GZtf3h7Pl+fbqptkBhUlS9ZnizcrOmO15Edt1vxubVnzH4aN3X/zKozeQVwjPHt56cPF0b6va3NXsl/FS3zG9M3IDSlrnJ1LspXehkES44hirdnG1WwP0r37mT36gTND/7f/7kxiRCzD2jROXWKeasqmKRlFTSiZbZ5FEELF1RS2tXzp55o3Td8mOO3r7h24/940nbztZa9SP7BnJsumMyI12pE9kOSMiueSKwjLP/qGbpg8QkIDvee4jv/n2V82mTSI32w/1+qGPfPqzX/2cT3we222/q01SdYwVg5oYa8VNY5GWzVzZqDKRJjTdMG1CNR6zRGkx7SkAeWROkmobeOTY77ta9wbfw4rMm3bb9TKuiq+PtCH2KZcXzDuEnA/5mARIy3En/Vg9kHoo44AAwCGIuSt+5KOf+fmv/NpNoNWJNmTZ+iSQ24vDJ+uLiX5341XfM8ZwdhbcWRw/vD4NNGqDDVtWJ8e2qlIyGl/LoFIYRBPYcjdfAgKFNsZCjZlFZVOwyVKCyDQkh9CGZtd39T5V22YYF6fUAYjqIMrpDprFdtv/DtGk2fliT04cK36JBQeVt9v/D2er890lBNOtgSwmb1QVQlW5EPWCEzi7NivBVovOvYuIXji6++bZQwX+1uLwqUm7+q6psfYGcULI8VapDqzbZ4b1w348+N7nP/aFt6aF2ybXJ+69+o8fflN/b0LbDbv9PlG3l8dPrrPNv1Zl9hQlEpH38J7s8VLiw9nibHOVo00rW/0PvPLdv/r6F53D7mPFD13VnixM+Sa0kiVnCsYujPpyz4LGtaiSUQ/2r/zeH/9ACeD//h/+JGrZu3fCqJTQfIMHFeRPADFer62+7h/efufyKQkSSUCOhzycrS62V7VW7CV2Ky/nKEhBb/sDr3zP//36bwLIjpP9WXhkRaWS7fuldMP6qcjrtULFtqnf9asBvHB479sXD0GYcbsddpk+LFxi8gABoELHx/ODs80VjfRoEkioAkcZdbouoMmXw9TSotOpuruMl6kOjqMR8RMQQ9MNJeKUQM8e3Hpw+UTZSiB+5uD2W+cPfRhtGN6E2KUiPid+qYkrV8kmEJ8sDh9fnznaYaBYBDsRUcO8HXoLSBkt0UG7vNxdT8+/9guIGBjXrx9BQgB7rU0iETma5exnf+aF42e+ffbu/itGcIxfrVcpjZvnRtreo+VmN3S5cnEJy4NZODJ4gUNKw42vqBF1ND+42FwWeJSfEg0QSTiYLQdJu74bZAAhSBgwQFkbZKKutrru+zaDKtlXSfiVW/dff/pAnz2arfKJarwlCPj+F7/rc9/+bWcFh7P55XbjMy1ikagNcdt1RcnSaoIpeTtYL0qqDx3Mlpfb6wKiIeVkfnDVbbqhZ0uAff7w7tsXj53LAxOyzH/eWhycra9abjZpN0ljcNXtsF2eb6/ZjrQAIvGsaT3u2m/WEVzl8hkNbsoyruULysRENJKCBAgWTbve7fTmHFFPgFiZXGAeZ5t+S3aQn8zxzvLo8fWFBmAGCxLUsZdxft1v9wIsMpUCmIV2NwyCAcAn73/4tx58vSbGQCGJ0ict2tn1bkPA0fzgbHOpPlrVOQCtmxZSGmax6fremVvtyi2Z3CM1pZbx+a99iXOyODxdX8DVHCMTAg7mi3/+k+9THvD7JYB//SfcpJiptGIP0+7c+WPMm9m628aQu+yRVKbjXOa+z48UyZQ5ys1ZPYImxt3QH7SLq936j37k9332q7+WIKxxHAJjMdmpplwgFwmp2KdYPQJyyqUSZ6Fzhsi8aTfd7tbi6On6HKju1/np+ZXyvC2AUCB0NF+ebq4gIEKg0MvAlGvG15zUR3v55P63nj4AIXLohuG5o9sPLp7k+BpkbuVJJM7xiD0m0Dq++/a230UQQxyqQ1iMoesHmiBXIFSa7olYLfUaVtOoDtrlVXetnytuK8yUHUWkHRX1/DqynWRTMtkhx7Qr/8S1K5Gcv69PnywPN7vNZuilasYUOQDUp9z2oIwJLOJ8029uUuppSGq8gobURQpDGmrB+Htf+p5f+9ZvFrIXAGCmwaov1CU49PxDIgfz5cXmep9OnOpg8eUeZkj2Rqo6sumYR7OD820laCXHbsEjy02RUghDCCmlLNGN3ftXGq7VmMFDh52FNudNlvBazQmmkCO8fM9kYF0YSUk8q46/pt6dLI5Or8+VQkZqsSiXXF5sr5HnU7Qswfg9MLSYsWvZjsxOkndZbucQmBPEnFAWrFSpcHkp60hu4Hi+Ot1e0ZjN1+slUrqJOyZmod0OXQV0XmYvn6JkcDw/ONtclviyai+czA/ONteC9MzhnXcuHlOleRHotbsvf/XR67bM6npj0VqgxMumvd5uMh0VEhplYVmlHc0XSFDDRpfT2NxIJjbNCshsuRSCB+JBcDBfXm6uXWDqUmuPEHJPXioRaWJtzfKUQCISA/dDKkyFQERaSOe5o2feOlMtX1BpM74WrOVxNGAQmXEx2Ks8aTWPP/f9f+oDJYD/58/9lBYBvrU4PN9cqhswH1u14mjKq7sbOqDuT1K4iZkhKTL6JMtmvum3Kj6TpO957qO/9fZX/DEBsgFW0MamG3oxOVPMmZXId5ZnnrDS67fsbACETz338c+//SW3WakempJYaogKN4hk35WOrE5Tjw/V3TuL7XbY1WxIQa9zLHRfEATmYKt5DRMdzlbn6rZx4aG6oQM9FkiUNw8n8djREVT6CxfGbAtgVXMUXZFzj24IhCRyuLU4fHh56sum2pIaLcSsiMrYlk222DsX8yXQOwFTGNwESACwahaXuzUzSZKP3Hn5G6ffHjQxhkmSaFmeCQteNYurbl3ZsBE5n18jhyQySCIZdTvPyKlOekwhYYCnaEhJSVc9RrJ8zW2YnXAn1JtXwRjWMwe3H14+qXdgZijFmYomtLthRwLlyyeLw/PtpcoI3SUh8LMHt98+e1j2jL9/rNlk0iz61Uj3z9otQMTWHcqlIUD40K0Xv/7kTUftyfzodH1RTAw+WxBIeGy11k1aazKOGZ2s1klexvmm31Saol0+C18V8QTZTMQEzOJs0299rXOUgZSJwrofBqJB4ytH+2OiJRtubNFrZdBozCtSGdF6cSj4+ctlCf/pT/6x//ULP19eVyl3RIg0Kg9eojGMU5nS7IYxIqDhkP0UI9gqruUIlOoL2++i1uZh11DkYLEgdhrRw4mJ9hJ3zbmV3NHj9blCkru+1uZ/gooY9TA6Yp89uPvg4hFV2ANwOF9drK+W7WLdr6XuUq7gW7iJs24gJ0TUtDeLzWboij5hxcJmoY0hXu2u84Iq4QkASpAm1E40EpE/+wETwP/j537C/3J6m8Vm2++yClKR4mg/VLJDI060J5eRLEEoiyUgcnj24PZb5w91II1kqeCAiKZ1j8z9DlOdCOigc+6qIQez1eU4DMEhHm/YkW5Y3WhkYgs/izPlNdkAZXkgDgzp1EY8K5/xDtvVxe6qUkqyD4lD0MLalRpbntfBD9vlxe7a8KFbdeSYqWQumZ6aLx4XJtzDRrbhaSkA/fC5g7sPrh4dttk14JvFU/7d6wlX1CuUqa6g4qaq/JdvfOH43ltnD+s52pzJNtq0kgmqPV+tF4ukw/nBxeZiYgf3+LhS4mOC1uovBcxrBDKHF4+fff3pW8jBLGqiz6eEAgblc49MiaZg2lcNwPe98Lu+8fiN081lBUzlHKiklOR8cXGhe3tx9GRt5SqJIHI4X11sMmHP43zdb6CBxERdGrS0CBORu9YEy3ZxvVs7ZSgYtxaHT9YXBCCftIWts/VoacbTbEO7u6nw0I00Nvl2co9Za7/zowaxAECw3jgyqj9KDATmLg1NCP3QqzrKWo+lQrLjEGZjEoBVn6gIuKhT9tDMQjrUuc7MQ8qljGH1X2mc2kS2Ech41IfuvPSNJ2+KSB0owMRE6FNyR9LR/OB8M0n2KwbCSKGTweZOFWrRmFNJr0899/HfePtLtTP+plUgU6prLjrenaMojbzZilQY2brcJ5ApWQBBqpXIT7/4XZ9784s6gHqg7h7cenT5tJ6tU6nGJ1KFARlD5wVw/synP1gC+O/8xk96cePaUiSlfo3WtLKjaoU1AV46vv/G2YNaJZqFtht2QgiUu+/p9pNq0VS21BMMxIOI64Eqf4K2gL2pK1a9QmppNAVz5BFEZqYy8tfqgb7fWXmNzBYJDFKOKGQbwJ9iizDYJ+5ls7jqcpnl3FxTGejs4Hx7iRERAzWEtacEHqVmZmegDe2imZ1uLioM00iFqNailpceqzyCVk8AFi0HuHCtClyPX+ExPszhlZPnv/HkjWr1XZyYsR7Ip+OsILjVK78tUOhF86pVhqGpWtUS0MY2F9C395K9zd/rNADg7vLkfHe167uxUp7Be2Z1++H1UynJneWepup3RDZjsQPHfmK0dyYm01FSAQrOUguQFupVl2RyryFbG2C3J90/eubB+bv2l7Qcu9T7Omi0CxMNuYlTDhBjIgKlcZbwi8fPvnn2jk3Z2K41DNY7j2eHZ9uLMYMjbQnqCpCmzOUGmoalNrS7fhtCvLe89eDiofhSw1GBVbO87K5FEDkyuEu7547vv332YObezfFaqNdT/Sk12y1KTInrhAj+xU/9yf/l8z81Xu4iV8StHRVOspjkKGloQtwNnfM33PRGn6/zqJrhTJVKXXFmsTD0SRE0FFs/UCu4NjsX5wRSR5GdSXKwlU5woVaE6qVKSAfzg4vNpY2Qi8A3mYSmsCqtnswPzzYX/s0Lx89+++yd+t5a9Q8UBkpIcjBbXWyvInMv2fMbQ+yHHmPVWEavQ5oCAIBuL05O12eqY0VuutRpJZYf/8QP/fQ//iVxXHleOEggkcO/8KkPVhT03/mN/2P/c7f2CHL9FRGsmvl1v5ln3xtqOnR27MPCWHGgOEgP4M7i9unmbJDBAy7cSQBBMknvZrWqIFzJByBiBgZJh+3ycrvWFr83XLZLSpksA1QEh+3B5e7Sb3vh6P6bZw/urE6eXI/a7eVwVosnFGOmN+KqjizN28+nwtX+Lk/nP6p6dSOmXyu5HuI0iOYpdepRDlzOi3X3bAIS8KMf+8Gf/dLfbeycVEe3AThZHJ+uz1Ci/0EgtngNd4bpLBbNfN1t1KcYiAf9JtUD2twEINxeZmTq7F2ansyPzjbn3oRj0cxFZNtv2Y7CYj7+ofIEG6LpYL683F7Vuo//6mgs5zaLwtP7Fu28G7o+DcYyRmDX6pRrOfpnpZvD0i+TlD1CgAQK+P+4e9Nn25akPuyXVWvt4Uz3nHOHN/QbbvfrR080Dc0gDEjYAtmEBQZshy3bcliWHSEjf7D+E9v6ABF2SCLCIYUlDxICY4dBIxKoge4WNHQ3Pb6p33inM+9hVf38ITOrau19bvPFvA93x4t399lrrVpVmVk5ZxaYcg7RT00YmyOT0A2ZxOhwdREAo8aWGzTSOl3b72OmtklVuVhvytkbYRIbh554D4psrvUKz5bEK2REJrFfOZFPun6V1iAO5wePrk4tKBuuz8/XgQpMBRIlJCYRd3GjuE5GpFRzvOluMEDAKDHlpO6cvuuHtCZwND88XZ6lJi+pj/0qDSRn/WSV1u3mvXv0gVcefmvSTVZNQnj1pZWIBkTA/enu1WoBkYFJg88kBfKDL3z3Z177fAVajdliIv2Sa83wCp5/1+DLdW/HTtVgEAhm7y8LYLebn6+vBAhBAEk5F2MATecfVw7MF+1gbyJoj/kUq6BFvcrvknMKzwfSNIXCw/ene5frq5wTYSem12GLu0+suqQoqSV20EJkk14ICZb63v7+n3z3v/f+CODwPrwDwDRG3X63d48ECIKdfhYDguC5G08FEQnWHGCRFhGySou/8Kmf0v7du5OZNkYQSBD2sQ+CPogwH89viGDWzTKs4vvh4kFmCsKL5aWYQSACtYQYBABDUD8hBOxCmHW9CPpo7p0gAmQyCXCxvvSzE7TTQtAxvR+Czlm03UGEBKGI9KGLgovVeSdh3k20NcGbZ28FwcPLR+VxPdqMzLNucrxz6MeKQQ0+LWa/tXOorcljoADrtLqze6yTUZO9i6Jw83O1rBRdz8vrrURdCM76idicaV+AlNZiKq0NqEbqkFeqWgQ9zM6r8pnTvJsUThqAf/r13wqClAeF7aSLwY9IE+BkcTKNvQAZa51eDEGPXNQ2FH0UEXQRIlgOCwG00CIzC7NohxCB9kbogh72iBAogoeXj57dvyOgE3E+mM5FcLI4BZBy+pEPfq8Oq0qGHlVmnTcERnJim1ehKgGXq4unD27pAX9Hsz2xozMRBHDQrdPSMcgoiBJmXR8CFmv7PaWk7fe0x0JvJ/chQI5m+2KtDJSuKEDOKQZ58fgDwfQpWtOMYC1WOpEMOwkALEdbZjuuTqM4hEDXCD0toAvSSQStIYP+X3ss+AGL2jff8Kuv0+b7QHMeJSiAklDw0wKsJIYU4Luf/XgnQT0siYO2aNA9v87aAQq+d8ROhRNoGwdpdxOY8joIjuYHAqyHtbY6Obk6DQLtvG8zBAsqowQ7SVDZPKAnDWRopF9AW5R2ruhCECIKZl2/28/hz4aALgYRO5mDTBJwvHMQQ0h5HUMIwMniEX0aKtTWaa38ZJ1WKEd2CgR49dEbk9jltIqhdv65XF4EO3cPnXXAoAAXq4uMlHMK4MF0LwIB6IJ85rXPw08nDIIQcggIkBvTvTXWAaZx0NLylar1eAPr1BH8+BCndkKyhNwJgKwNQK6GqxgYg3rLc1RWqegWkAy194XyqPzBo+cmodufzkT48q27AXbm4G4/Fzu/wfAeg3Qxwg9qnMSoSNRu/OroEWvfYbQ9ieFypTxcLpbnWVtggjnbIJ1Y4xtblLf+VdZkuxvGOcV+o3JdnVgfYgjsEOHYNFIvQvtP/vM+WcD/2+/9UnWOiASIBEkpVRtU0IV+SOsu9oN30H52/+m3zt6Gay4b9aZH8xsPr04A3Nq9ee/ivsbYpPbgHpvLbiEdzw8fXD3SK13oh2zd6mU84ceBZdpNV2mJJlWbwIaG+8eBo85sEvshp7yRstGkT9T45Vh/u1abaxcAVA1VgVmMttZs6uxEik1fKGD26LddSOu6rHaYG0bVbo4SE9P+bP9scaZzdz/25nvVT1jWdzi78WhxMoLDdR+1vHene+fLGusqIKpfNk6nMESMynhK8Ngg497XFuB96FWodKFLTB+++aGv3vu6jhb91Hqv8a89PsV9yYWMGzLbqP4d4ajE8LrQZ2quLuGu5sbUbh5351AI4e7R86/cfz2XsIzPYxx8FYDTbrp04Pcx5IzkpW17k93z1YUSZvGcd6EbvAL7+5/77t95419vwX70ubV7fO/igU5vZ7JzubyA37cRlS8Qsd06BgiA3enu1WpBZmwZw+Xds366HJZkSZJSk7A6AwzoW7V2nTif2dx0pdYrqBlqhTfddJmWrYOg7a0RQyRTJiahX+U1gN3J7sXqQomijWQR0M42elwg7bjAWqxQJt8mZ5X3TrvJMq3d1TICo25ATTPcAnX1q2sNZ427uodMcxU9WCOeK9MMItWt0cauxJNPdSp64eXbH/rqe9/QLBa97Xjn6MGlRW1LFHbbTbKB3/KHDrw/3TtfXRSEao275UNIaIILW4xuMl+ulvTIiTLz/+hTP/1EuaD/99//pVET1FGujRQH3fH86MFVjZ8XWH/8zke+9O4fFTF5HVZElLqQSwys3Ob9TUZMuQTkHodmCD5444PfPPnmeHsCUqIn9e0AZ/3sar1oz+hthXo7+cL9lfqn3SRIuFovdEpacVF8KXZOqk8yImR4NcN4yoQrw/YWS/2QZg4tYKXcIyCx0+9cri83oOGS3FJL2kGCBABsZC0bJ20BjLqxyhzKiUAln2unn196bHsDXGzTMCDirq6n92+/dfYu/KoAB7ODs+UZG2r+1DOf+NI7X1GWB9cneu0mL9gIpuqnD/0qr4MEAp7IKqxuOnG3lj1kuVQQqrcAIYOPC1OJn0UTa5crEwmzOLmygMuISAzjDqjbu7feu7i3haAaAi/LqdHBzQbjQrCL/ZAHTwXAMwfPvHX6lj9rLr1mMiKj5mJqKMRJ7K+GxYikfQI3ZgcXq4vM3MfJaliyQRMAkfDU3u23zt4VeHLsuO/HKg8651BXKkEEgls7N+9d3reKg+aNeuRz6VL31P6dt8/eacley093J7uX66vMXOajoWXVPGKIQx5CHbbypSYqNNIDdJzOi8InTW19q/bBt0BJaNALVgtHdLEnOKTB06lkZzK/tFJ1cUT4BDx1Q/+ed9NlE7JtP85qJAJDk+NCX3uuNPD0W6dvA5pq1zh4x4+g2bbtDSOhXmuILHZbMDWNk1Vem6fN9YkWjxp+0rkFTeQkCat82+DVR7MbDxcnmyxd89A3ssCaVwigZKC10UVdcX6szFz+w08+WUlY/8cXfgl+mMbIMrF4TssJG4VFGRSgScJqTATNoEcWSNMsP+9O9i5WJUtZCf2ahhvb8sXeYrhDH/ucczJ6LQyXBb07k93L9QUgpTvVKAosAPni0YuvPnx1HBixkUjPtLLFXlPEaGCD0JI4UjvE/mz/cnmRqP6DIII+TpbrRZO55RAQuTE9eLQ4beYAQHZ7q8TVvMEffOEHPvPab0/76XJ9zU4uMti5eTtJxtAJ0LQCYBf7eTc7W553ytEkkqQtssgvCoNqnSWiZQz6OnMctslTDFaoCrMzIBDtBqzIFYAIXQxD7aY5mrB+387a8FdkbXAWJe7N9k8XJ57vZZlnNNSMpKyMjmogLPpYXBcNE6u1H9yd7F2uLjzxiiIR2vJrnMXeJvdqZkof2kMPhaQ164gzNcWcmilBisG6088v1xv9Am22T+3deef8nT5ONMzpKpdtHg0uRgmzfr4YLlMmLHZeBQEhXjPdeESa5jVNgpDQDg1sK36cJ1suscd5K+qkaBWTMFlnbXsns9ivck7mGOMkzlZpWei8j31Ow+BFqPuzvbPlue/rkn+irLuW/NaPb6ZZnFylVWe5C6KJPI2AlmbXCZG7OBnSyrdOS82triKTODmc33j3/L0xylvlkyI4mN44WZw4iSIT3gJWvHqc7aaJEjJaU09RahnpN3eP7l88HE+7fi/NDAg8vX971s1effh64+IqJZLSNBMdfUoFhA67ceZs2d3ubmn1HAEYLMtMle0cQrAMg3KDdJlJo/tGGMCsmy/SFcnabRSYT+ZXKyV49kYzYpXNG2qsdbAZCLWeZz/5sZ94ogTw3/+DfzDtZgt3acYQJqG/Sks1wjKyFRhJ45PRspy2kNEtViHMUy0xI1kZcanV88puhXKQ0DQ7dMpmnnaTO3tPvX7yeuUTIlpR1xgfmhFgw6qT3KVRG+QXEse7h8WRMkqYpCnwmTkiZnjHY08mvjE9OFmclnxikTCJ3Urrg5tkZYPLBudAk7nrV0kJ0vJw44kxdMqsV1oq5809XBcK9OYSIhSI2gS2IgZKBiASyeRCRDFlr2ZhOBUyKCir1foizCZ4xXI1RdSjm9d6fxHUAKPEH7r7Q7/xjd+QAMUq0FhAamZr+hhcNtjrvDOEq+UtqKyMkJjEySqvhDWRvkJYJCB2ISyHVSkWPFI/DRFDzEymmrjCF0OXadKxmjwtQNy2GyWJeBmarktziT948+43H7xitBc7VSk+dPzBbzz4BolOugFDpQcixsicSOzPD06vTiW4NPMF7/Q7F+tLpagb04PT5SlKby0A4LSbLYeFFB7WKBrSTtixaXqG1Bs0Zc/hHIDch8kqr8tIIXQ5JyNbShDJyDYmmuBJkz4TveNmIPJY1VV4akn6zmTncn2JhnJ8Q0mpdaS3DYghUJUUqhIMgPN+53K4lGLnjbFW5qOJ1gWnurBAofDO3u13z98bbUjdIaRI+L4PfPq3X/9d7VZWidlr0O4evvjKw1crzFvzROwgxYZ67f0WwisGQrlAAdDFuE6lbU7NmRbXhghop6NpnC7SEsRT+3feOX93tOZihlOIksdaNYXK6IxmDCodYmJqUclm6mgoky2j1qiBB02k6bqjuZxtlfwI10DRDxrj1gvDiD5azDE2FarmtCNCkGk3X6wuAfzsJ3/mSRPAUQJK5EAKZY4msBHQaiNzUMvrEwAAIABJREFUG8Vn+nCxLQ7nh48WJ9cmR6oImzXiX4VHH9pczTJ+VY1K+an+ebxz/ODyAYHveuqTX3jnCxDs9rtX66vMXEpFfSeDtR7eJm1hmPF6Qy2Dud7sK9P56K2Pfvnel5vkcB/YGaI5kEVMvFU9Rnb7XcvHroq6GyPG8KQ9hr3AuQtd4vCjH/zRf/aNfwaRKMGtz4oIgQQJCQnEpJsuh6UQCCYUm2VgQ+f8NoHzwuSvueRBWYXnRqliWWObrV1+V85b2iYQNOPSRDisfUTO88n8anWFmqM+qtNvuWo7M1eoKgmN0Fo1k9HHLAZRV6+tWoHT3rxxkHgDKfNw6g9HO8cPLx8UKEHlvQXtYJm93BoHkBDJ9rjnIg4Nldth2uAVxtvw31zyeO26C7SNYspJSqckX1HZTUezowdXD9iwgw3AboTwy8T0bW0bebi3oARBNoYq09vINSkLn3bTZT1IYHRJGVdLdbv97sV68/SCdp6VdAmIixxvCCOQLnbWuV0A4mjn6OHlQwDPHjz75umbhXQ3wM/iMG8uicg0TpV1iEgfJqvkPcCl2WkNhHVp5YgUZS/lLim1apDnjp574+EbGzDcRFOIzAnArJ+pwzxKKPPvY79K61mcrvM6M989vvvKg1fqIONmJu34CgTxbO1JN101XSp1C+xOdy+WFxvbZxInQx4KHygMvGzqn/nOJ0sA/9If/gNzngC+2ZryTbfcTIT5pnX/MV3X085Z5gi1zRxCJ/0qLYtiF9XvQVqqS7V7lJOItBAHRCRDjUzpYpfyQKJI6KKrqfeDHGCtzNf0tMDsePu3v+Mn/t+v/D9iN5sTUlxRaFzE1S6qUBrZSybJ1fEeQ9AUfAH7OJ120/PlWZvQ74r4SDHk+P/zbr4Yrhyw+qJanWSxn1Iy7BxPFWVz+BSxDQTzPJfyf6GLgfaljl9pvteNSsism63zMmU2m5cCk+Ut+hyDwlGVqj2y0+9eri/Gq1ZtPdTjuNHMz2ciEsEkIUSGNRPACEkAwD5065wE6EO3ymsxOwaZI+1wf3Jwvjo1lEmEZQaJH5dUU+racANA9SX4soPmnBeTtQsBkLWliZp017RBQiaxH9KwM909X561+n6xK0q6UMq0U4mq10DvVynFEmotQCubr/XysCgpfqOXX9Hbd1R9M1gUibRcAaqS99GnPn62OHnz5M0m5c0eYS3T17cFIt+c33pwdQ/VgW1hh6llkDFY/WH1enhJo86SO9P95XqR8tASnv7veOd4ldaXqzOoAtrUr6v49zMAKlk22kkFTjkGQySWI0/c4Y/es5AirKX2jenByfIELuRu7dy6d3mvKD2acPChmy9//f7XAB7v3nxwcV/J/3B+eHL1iGAX+iEPcP4zmewsV5fzfofAYn055gnReUIrYHw/NuZl+T8AMyMkwI4NHlUXlno/Lf5sOght+xoRIX3XL9MqSEw5R4lAzm7YKLl6GRiLStV309XgLB1GdQFA01Ohec2G0ufUCo8GNzvC+Z+xsmgVwE48ngL205/42SdKAP/KF/8+gS70KQ/blk2rGBafZBdi4nA0O3549eBgcnC6Plc0l54D7Qktqj8qlRQhQuDmzs1HVw8BZlXhQbf82srILTWy+Uk5O4CAqFUN7UcVq3LKEICAEENM2f+MkTmX5FubbaN0d6FLaYDgzt5T756/AyBKl/NA9/CUc2/MZ+J8iJYxSAmSswaH8q3d2/cu7gFsQy8CmfWzq/VVkYI6cjlwDY3Ih1+ddtOlllU0ZnpBlGNLntp96t7le0IM19hVEiSSQy5cHAKrZ5XMoXWS65ifeOqTX3r3iyqWQrurzO99Lb6KqLN3ojXUrjMR4O8NCCX7Ec7+/B4CmPXzq/VVcNa+oYBvVD8WVzCcjA9mN04XJxpcV+9uC2GocCIyRpbltj2n8N+Z7F6uLkfrGZvYs36qbh4CO90ckKvhEsDLtz7y1Xt/RJRMOinSKEropFvlFSDzbno1LFqj30jF3TbuGKz1DI1VItNushyWytl2p/uXy7OiVW2XFYy3vJ8WsPG7CMidyf756qwF+8ZtnUQJIeXUhbhK6/HWts/YANqkiS50QcIqrRr5LKzB7BHHKKUT259GPG9U80uQAGSRaIU3m59rWBDcXNBPkJhZTd6D2cHl6jLlQZcaDJsj94bfKz49CnBz99b9i3uuDJtc9aB1he3B9Oh0+RANqFsk3tq9de/iHiE358cPF/fVgZxGHnKPCBbQhNES96Z758vznX4HCJfr8zL+tJs+tf/M6w9fY5N8KaTHH3RVtYfNBuDYZPypU72qTa5C6lMCiRJj7JaNT9GxLD/18SfLAr5c/KLDqtFBR2+OMPHWAfVI4FZjBTDmPqEPn16l390i6AiLs44+qqMBJUDVAwlot6V9UadWkNuZ7zrlRKAYK8V2V1zXKFtRA8fs2iQpkCHBaT4DIchu5hmALn7PkD7f3K//eEADsLdU6UJABB2xcVadE1u7E0DIHqglOlNgOVble7ACvI+fWqffQ/ssQATBKOGiHCWwCXyZgyrp/QaJEUdEl/n2JqLqPGKDCLRqOBs4AyIQlwCdoBwJoMp9IeYCwDZbStxjsUeclyU0c5kBV1383iF9VvEVwwdSft1nqHMou7tSlyASScIh86jFChAADZaPkraaq2gqPibAyCHfDshGafNnNf9sErifca997rrlt66B0W0uPYtisg+cd/FTw/Cv7apET1Vlo6sZc22wHyARXPvgaGwUrVHP5Y3YJpvRugA5IFbCljPeybw3xlcPbAjC1tDZAMjmzV348JC/5n8p8MVDzHQzmkB0AbxLXGLT/OqISQw3U34dABAFfcai9GTFNYBSgu3J1aT7wfXwmeZ3BHkm8+0WXwQEFOnV9+a3UiASnmJ+G+gqu5MJuPLHQ5C9zFPf8uKkW8iyvEYayQVBT6wBiHSZWTxhfEz51xktcoM8AXoF5iZuZQq2R68SkBheSvkb9qf0oBCrhnF1wFonprtsU67XV++TA7AguOXp2iR7z5mt8sh3ygRY6807s7/0RAngxfIXCYr04ECg4HvTdyACzMErl2p68TZgeQ1jySfADrAEBmoHC6Qgx5kPBTvAZdF4aO8qhBic3QslhHAECvkITCG8lPNXr9FFIYI5cUmg7350PfzzRjxMiI1TM0VkRi4aS2FKLJtUJP1Eh0Bljg2vhwsTkxOCklS0UTFqG2Zrzh0x+Ca2LeTbqIqTZj7GpGS8u2gypjqyRPbJc8ejOziBJvVMLS17iyDH8PEhf1EtJfo+bDdTUQdKmrAAlAm4Rq0oUG6YfUpp/NJ2wiP1B0CUO4nv+oumRBIMYx06upIxEvw09lOqsATgpPux1fCPBIB0ZM3aE8yJqxESKlqhxMnWmSlzshbIlbVM+p9drf8hRcCSplDuqtVlHMNN5xzDi4n3yLNmEj2RxFKQJsS62j6VllSsNt3IDTvlwILxJGUGLluZWl8nPblWiEW5nfjeaLYyAwZflwCBSK3rGxWYo6UBQaQjV765Ru8dm9QbNCCUHfBivC6E8AHmb0k4zK7oFMofVyVUFuVALrTX0s+I5CqPkr3MsyaXy6dk0j2pd2e8HBk7GQCgCy+n/FWRQ/IRx2ssWX22Cxw+7ZTKGwUJQAjPpvwm7FlVeuZ9/OH18OtKLUAOmGcsWji0Gn+ZWMAE0gN95qPxKkKQHfJSZCfzsjkQtUneGa9Un6LTG5rfx0p5FAEoI/Ojkbtj4b9DXAIzgTXeFznOvN880YNr1Q8EiOHDQ/7afPpfPlECeLn6W1YhXQE9IVdS1O8GyQFTYigmUZvG6dJIAM+zly7KJFO7TgrAEA6ZzyEkUtlwwIRYNSzVLFrYdRXJHTCQIUgk1ioHFOehcYGKTHNeioyJzYbqiKGGUzw7wInCCvQFCOHpzPeADNlhvpCGZAgIOiDpEiXsA+uyo8odHBMyJALJaLqmAxXhtANc1qc1LiKR6MBl6f8hZgSgWXoPrPVVIseZD3zTWLMHVKkZaKem6EyOMx6gCR1BFLwlXici0Y3vOX16zvyk0oXMBO681ZjUlmW3+bFfFcvF0q2NF4zrCcCeWItAwovMr8I1gpJ7X6pTHONiO9YSQU2J0ZcWDiB61LdJFydj2Fxr+wcBOBHoobb2d40SFzS0BTvYBS8JiOZ1G5mJIAe5mXlfpyUAhIIbxEkrjsjSnFgxDudbM3IF7BGnTYoeySlEqxWOiQeA6U8eMXVvEyMkFeFZ93Vhss2i4FE7aSAC58QNSxgHJ2WEa8Fx5gPLY4CAoLAxzYveUEMSFO3vlJszvIOEF3J6RY8jH1GQsQ4hIcIu/vh6+PUiBLSITkpwVPaBc1v8mCLpOgsEaksYLdmTwWvPegDggKIwj2bTuu7Ek5GLDj3PXGg4pAs/kPJvV2hzayin1bpBqKxgEHaQoUIeEuXpnN9uzhG2zSuikngCrgj13EJbietpgrpg0msRihvA/lHmb/KURk83gcvMq0LYAII8T7yutgrBoEgX1xuVytlB1jLaqrrEKMjAlBirI64JKmaNHqkBY5UWk+nkP32iBPB69bdY/kIkSvel4nsMQBSsgSmwJvJW3Miq3tVBraIC2rzMuHFVQMexOfhVtdX0ngmwEnkO/NaGz0qqiaYDtoK21XG7Yka712Vz3T6ZCIRipJbh/EtVjf2GwkT2IUtyBRwAp4Ij4uF4PuM/RrASbEWsAVEjUpCbhKlKyw6BHsy0QIAZNP58YZJF4az5GZqwVdyqIhNwyREMbwAnjvTiFawgaTWKMgi5Arq+/4vr9d8DSiXrRP0ZVbgCwA6waM36IndEDjLPmmnvEeeQm+D9EYBkQmr2R2wySiByk3w0BmklSMGMKMcG94K1z78QjNo6u+TFt8GbyB3yXQdmyZShyHPkG8aoABhbGTCWGRvjFu3EQcHmIDH4VipO5msZAX2vuXosE3LpBAAHpmq3CoSbQAvS4tg8BB669rUPnPvxljrsIfiwEpI5BkaizJXmXjAUX3FDtxTZJS/hikOzfA02UeSIfNDsO93FARiaEys0Za8XAZmqVYWizpZUI3bdjw3DPw7hw7l6s3X+SrTBi5t3FO8iB6QV5au25IhmEyNtd/eEWHq0Als0MwMWzaUCiugbfOR4b7XVZiAXR6M1dsQgskdqdLZygK3PVN22js325ranVpGZ26QvpiehB5aVLAFiB7homXmpgQQgMiOvxBJjq1wAUs24tBconQQgh/Bizq9uTQ8CSPhwzl/XjTCZPFkW8Hr1N8e/BaBrhNYG8Ym76csvEDkmTwWZm0ynZakXDdgjkGP3Z9Pwjx4zrwgBmEe7eIQV/d5QuYVgJeA4434h5g0jTDAHFh73Mq8pqko+mnYbz/MYSVnRhAgessWYdJWgp8QSsi88hxqvtvMbkSZ3wIfE6hrKBzw+pB8zuyERmIGXPrfHU4hEFMfAKCCtXLVsxTbAKVpiPxoEe6C1GgAFoQc19pMqvxsp849RPGxFq/HVsC2o4GLjuhu+zeB+dcS12qeaocw2hagOLjsqHkL8SE5fuYYSKBJm6pHWWQk6topdpbMZsBB5gXwNEJF9Y+sSBEfkA7+7DN4DUuJbQZ7JfOu6xe4AqzYDo101Nz17AbIHnja/bOwDGH1CPJjX6kWyiRSz+7ZJ/Y/7UCQ8Q77lj8TY/Ttp+FWfzjb2C0zWG0H92P3ZNPxjD4KWiNVYlzP1cXsjb80LENsgbT+3mW/zDOxgFLC49rMx/tTxeJ0se9w0rhmvzbqooZYQPpLzH133sAetZAoQ3G5S20JyY2Ltj67zq1SVXXCzWOu6p+qPIrvkuchtWmhDFeVr4bDxrIUpAUCeBR+5U3DDpNklLvrJX36yBPDybwAAOgDAIPI0x7kGADyDoEXkKJdhCyUb0an2kR7q1ru22KdmaYl/L7mE+qVIzSJXJMhBNiEhzsjuZL4HTBs9dGPdt5RKHkOR5S9NT+iBwWcVxsaWkV3zfJvO2uYHjSawYZorsQoCq+1eLJsDMgAnIpFIuMb3oE/MwMUWIkp+U1tqhVFZgoQgzzC/5QejTsHVddtmG1AwncA13xC/N6ff3b5H5AAged6MUHW40P0Ah98l0EDJdO2NCUj8TqYvNH/fdiSO86RsShO0luiWoi/hOeY3trmJf3MD0YPBkCPwYTWvJWMzp3djU2Ar63DT8rguX6l5IxDin8rpM+NHtocaX5VD8NS3aiuToiuU+1WpQqGODfm6If4vm/f0IXw4py81ry4Korr+jzIeuCyXx/h7WCE5wnXzXmM7BSzPkm8B8TraAIDQ/Vt5+Cc+CMZq9Mb4InKTvOc/9XokyRiD2BYzgo5yDPeFbM3gLvJr49fpgBOX7stm47StBh/3uXYjbKxltC4gqrN66/dtLo2xlo/H8KtruDoghVmJzMk1MABBZKa6bPMp+sQcuAJEwi3me48XzFv6XwWCAOyn/9UTJYCHxd9uklOKQlZfHbof4fAvtyuUmke4lbZaPh0waP5tubm+XGvIwodyfrVq95u77pCsKazjeBOBHtKBV55weN0cZFe4IKJI4DXqIbbI7lrtdUMwT4AMDpW8TP59u0/ovjcPn33MxU3BuW3oOOspKogRq8gcAuZthf1xo22bDh5Wq9Q/pgSNrV6jf1y7kmtSzxofb5kDXOXaqEJprYJrERGBoTXxRxOWXunHgqx1xBEQaK3vkmAi4YhZD9CNQIJ04JjribXUKOOI3CBPAW7dPGZem2h8vNQcfR/96D4nv+QL9GeOiQeEyAg1RdMC48tIX23oZxueReA1XhPzCsQNdbMRnC0xXMM3WjWizkeOyUcNELaxf80axwVs4tIL1+33IiRcs7Hgib5otByRW+Q9ICLsIq+ARYOga5Lqtz8Sn2d6XcIzzG+NLwBbvSm2nx6rg3eZXwHQ+KukOrqUzFRmj8rBjsn7LV58MgJQwkeY/8iLKVhSyh+n4gBwN1VsZR7QegHj2H2oHpQar5TwPPOrjwddRUGQw8xHjtAN/vlYyPez//qJEsDrq/8ZkBCezvltSAckUJXWLdbAJvhlPswN3tHGsUomkh69ZWp4CC/n/FVA6m6XfZEdQpDfbhgQnPXXpGarKlHaFgFEGKT7rjx8zl/aGBx1+uXH6OvCt91XAhEwN8tRjqD9UbsmTbQVmRE1jb5lo60OqxOrJuN4J6zH4qcMPgdWDUaaNigmNQFhiEW6a/ZHT6zHmYy6fCt18FB9A586hwIILzCo82xrklvUAyIiR8wPJOwzn42v1sVKOGZ+UC+NBFjhrXQGJgAQX0B+rZDB+NX6J0N4IefX/Mc6vRIta6eqsVXvB+ARZQEwEYQqNuQm+KBqfa0NUZQWU1k26J/OAY+pyXHVHTcHNsXSY2hy48f6Zwg7OXvzIzkgTsG2VlCNUZ3FuMKk0kMn/Xdy/XsgEXoJLzN9EQBkBxbiLZ/W3y7Nvm4GlY5cVyBIt8XWAYiEm8wPR3tQ9oBLUBMM6fNvq3og1wGnZDtXIqk3BICQqTH0zdmWTIjHK9mmbpb1TsAVwh7yeZvDUVNXZQ5ewlMYx2ueemB+WwNuZHy4g/xe0wApihyS98YuLog8x/wGCOmeZXrrmu0gPbkSPeYyPL2pFtRXC5qkzkZZiNjywFWQ2v59nvn1xwhIceitrvk97CBf+lbyFA059rhMcyfg3Em62V8cFv9Lg5pZP/vPnywBfPk3xkAfXY/9D6f1v1TpJdJzU0nRfzQHJWx55MYboztEukR4BulVv95qPdeaAprjQOk+xOHrdjFMkVu3yeaamhGUhgKgvaIKryyz2t66VtAiANBDBs2O1gU4awgAJdxifq+SpgehG3kcgVVDu4Xa22q8EaeDYNz5vRakdrP/bFj8bZtz5f7jx5FD/+m8/rxvlTmZwAFhH/kEUOWaYwa0oekLAAm3mVsnW7FIgnQfJx8hvWP+BtNU7NP4J4gwRx5Lmia1UopCYMxOd9dUOFSRHw5gglyui3dgc3DTEU1+S3ya6S3IDopPrEn5LDqWYEpcVVlusC20AYQ58qXEu0yvOGbV89aK9mYm9mVjzu09aH5pr5omJPEm032HfCfc6JBj8xTMyeU2+kaKggFl+0UJmDVFqOXZzl3iJV3occrB9qI21iVx+ufT8pcBaeIarYr5uGHHWBZBuIl0X7kQwm3kt9sJWIqZ7INnTRy3iPP0mBcFIMfuB9PwW0CAnkHinNC1/AiyqdLBpv4d7iBrBd2uFwvonJ8G37bfZQWLHBGyC1zUiVeFrGLQk+n0j33yrFWjTcUPe+ACHGidtFunywRcN2Q8gm2j/tYNCQRnxZ6UPkbSVm5mCSYOrQ7dlCmr27Lqx1s4bnX6Ijia9HjXcrY+Xb/zPsWAwx9/y/8vH20XToAUzAFY0JAAkVb/whGZyLUDs9cnQVrnMjq+KX5PgNwAGbpP6r1YP0JeYXhdIU8CXOgI5fEQXwbbKWX9z6SvTWQNdKa1EUDXoFhsQEgZNuAZUFPls71ILVWWefjjzNJ9CoSQIEN8ETkXixp6wKqqbyTTezrD0H0nKMiejkRIfBlMpgYyA5RwFwQ1IRGrBlx6HJFYeJLZIa+TTKD1dFxf/R27BBpjVDGDWFkkkVef89WB6RJ5BWbmS9FfOIDJx0cD6pKuTqBjfhdURQECCfFjyLYWDn+A4Q1wJXIDYLNqhnBXSVbkDgikKyAU0qqoodZBBHWLiZ2+NxMK8oos6s4U6VSLQsEEmYK7dc5A3SA6+ZICmBVo4PAWKMiXyjhBgBMDYCX7TF45MRA02Ap6JyQgXYLg4FqjAbBkYjsrMdowVLJFZb1q9GBZJzSsNd8JgsMDkblSB/KaoDCA1HPubfmckldV+6H/IxBGINiiwtOC4LAqpKWUvACzyFMFjCI3gLVRIxMxEcxHpQyF71X6Cc0myiHc9t8BhLT4ZXtjXlhOJScOWJaRQ7wLAuycwpWed/WQeOSM4b6T0ID0Vtndggko5AIM4BkQkRfVfVL2bBEo9sbe9g6Z1r9lFJVJJmNfytQIMEk4AgAKESS+hKwDToC5MCDZ0QgWXrFJQqUvKMQF8hrZ0wV4gSzCiRVYaitSSvMgmZdSppHPQPffUUdUvnyGvNJKk9D9qbqFZYa8KmQMUhhBhPACSDAyPwAB6aBpyVTdOiNfghnswAAGKUhkpfnQf7rSMAGuBYeAIA/AxMpJFPb5BITInsMZDWYF4XahHwnPI+toQbRU0hhsqgTmDK1RFt+Pz/slgJGNzYHMl04KuluycyUlgsJtV8isG0nFYc5uYuqeTEgPAeb17zvd680GUCkMzll/7H4kr5sc1LJLUQQSkQkkmCpAgLDmc0RWeRAB+j4hiMzXfTR13u6WLSrdJ8rIQZ4CBVj6bGMevuLmfVkpJD6N3P7CvP6SF1za77RVBMENhR7TN8EsSABD92l9o0C3AcAMmWsfVjBrvLGARf8UZORsy6wSWmVqtrUXs9jQB5GbICWvITNYJIyQPk7+dOX4Bl4r95DwsmN2pZpGHv7QIa9vFwBMDxz+Ntuc3mDOyGR+uyoQugyZN9QSIB1S0mfJBBMzqlZnwQTM4ALSFVRKHsBz0e7IhMjTyAnZ5WX4gK4uhI/ai8IdqO1Ciuw7JS8rFY0UtULtACJI5pXIQbMFxIFcwDUgXYo8hUzkYAMajjIyBcHwZSCiAPXxcFt9rrQHe4DAvIhz3YlWCZlZqmuQEggJH0NemrMmlw1IZCJlckAebF8Pb4IJTCoD4uw/8IxpU0CZ30SydTE/rHAgwYUzBAXXtIKuyrOEjMLxc7rn92cryFboSecksRxtZwgy8/BNkOAaRgwJBPIZmMAZKCJBdIMAUMCSQGReAxMAQEJ2ejN18ANO4blBMSAHFhDNiVr4F562p2RXsW99FQkwMN1z3T1x+JqKZuQl8oVV3WSX93pgVt2kBLMBp+qI+s+SOYMDOJBLUSXbTlEkTPirIgXBzCevVDD1Nwo4ICOvf9NlFZGu6i6D8ocMMOf3AFVHCLmJvLYVyQTZPRMVBbkgVMKhvQ7Iq884HwC0Xl/Fue2s4j3UguMZVYHOgWRhbmBmXhW+yvSabQ0kqgIRduoCFbMoIj+P0z7+ZD/vVxLWxd9hrVi41rOP2niRTc8Ck6bNKXSq6sQ7zI/MZtpwTWn4UzTFQ2t4+qY0xVxPIlPmhUhPAbaq3Dx1wl9NQIJHN+nOpeSzFYnPc3jNhy+F91vLLBFum0uozucSHWmmKaGnd2mpYV0SUhPHJN5mUtLXuBQRnkJ+11W56juqmRcsQIuemNZBestiG9VRCxDBAQKgN7UR5qLyzhuaC7MAq/tqOzlc5Cb5wJGrPx0AK5NYwTV0aTu9alaIJ3GMEKhf5+RV9ePG53P6lvtLZyKg+j8qhejBwZSwy3Sh0zI38ugzMReCYalWH3qeSAAFop1eRn5XkVlNBKtwLsCkTRtXDuceMvd6HnG+ptUmA4Cax0D7LvEIPBl1PNaAnMzIq9B/Oq8+5/vF+lSE/vvy+nd8OTPmxWhuOnL1w2yQbsnP3/go/6WEyCKH/DxLlTrMG/1HS+xmIwNWgCzhNtN7qi7G2Y+nq19z2GrVfhvJix7xUXiWlCLLB/aOhk2Zugiy1r+5e7//Lq5+vyWnran6VpUGUgQgEm8y39t8UO9kKUMteR4+YXrywUZEWTowACvPYOqAoZLWxltkKpgTF8a1NCDifMMSApr84YZEe2AtYUbTURw4BKQTETI06cpiNpJESMZITOjNI55pFRBG0k0a1wi8tbqk/mr/bmQOBgCQCfJicwTl7RasaXFUZtKUF8oEOUEGm79ocv6pPiLhBvNJxYWf4ACg3/9vnqwY8Nkv6FdAQv+RvP7yNYQ1+kzaEOa40YFgRJvlNVPUTARnoALIDrgw/QuAQBCVeYXpn8mrf6HczUILNiUZce3KFkMhoIZ4yyo7II5QSumKAAAgAElEQVQD2AHdRzB8CQJhUyZ7TSS7XNHwia8xPs3hbYjmaBBYW5bBaGLlrz3wHIRIyRAWyARYXqvwXPvZSjWXIsgl3mJ6r77RkOAlnhVi0csK2YzSliRtZEWaNhMmn86rz/lPc2Jh6Fa5fj3clKfsMZ9vYk0E7CAz8AzAqJtuOEBqNl54VvK7LIU0m6VWKIm40n0H09csf1B2Pe5L6T7K4ctN4hsbmmnzXTG+6gjiONvgcfLAmAg8nGZ5TH577+nrg4hKxCQyITqMazbi/KfS1S9LOCRPFZ5t0O6aF1umsc9ZpmAyRwJB8aCaShzDxWaRCdVJuKGOkJAOoUe+eiw3kH1SD2OQMP3TefnPIZ3Elzh4uWobgK8Q1plPyHKq4xgFqigXXJSwK0XCnLwqtGRsuooxQdjzvIFrihpEJmPh5L8XRbmuXWBpSh0kgCujcO9v6vdewy7EDlCfgaumql42Uou/HYut164T86MbO8EgOCROHHTNxEzhdkspbO+C8haMf9wRuRoLoAiZgxfN3rk2MLy9BJRhC5zrxUbGS/dBDt+s4/jxZaAgeEodQr//V56wGDD08DIy59UX3QFLEFDPHmHKrNwECWoI07with/8P/UfkgQ6fxbISxDm+jd9sHV+qp/wEJnMFmfNy9+ERgcJjT0LAlgCYPpssGfN35V0NI+q6iuiOj3YBod0/usvAlHkDjmIeiypEUSNXDJ0d0H3nVKdrvA/M4c3gSxyhLwymKQLkJDeX9GBkPgcqP40ACRXdYS83PAn+5w7UDz8xjj9sRBu+TLZQFI8yJo5vNsM4uDlIPElFwSxgprZ/1TwJmBib89L0NVku3+Q+EJeftYXBfLS9jYpCBZYzZpmMq8L10BsOgMBBot4GT1kcCUGE2FeVSdbemSWipKTJtsXAsuL+r2iXtG9QM56bi7yBTyWrG5DpyU6ZFjfSAK9RcKUMAAwghl5ATkECU5E9ow1ESBF0yDqCAZKMCFflLeI0dLK0IEps4bhmfMK+VLCTcghCGAKMl3+Q5BMj9zLCqYHQASjw99QHCb/BsicL4UTkxm20dbKZAlKfB7Mgn2Agsh0ZjO0aSuWs51D4+QX+o8ZdXHtuclSsO/cYAIS+cyfzXn5WyCFiesvV2LOF37/1GGubwnMa1As2GnBV1pYKkO9sN3eXwGJ7ASAzHxhSNTNlIqH3D2c6dRfUZZZNxfz0tNKKgFI/BCHe06idALIIAUCJo2qSu5AhO6jYmFsgDMjexKMIvtGBeakXQocXxZVGYTO8dA5bYi/t3coiSCi3NlQHdCD0IQAUsBOOAAd+QiybxuNU9+PhQ9AUwqa2TqHt+yTroGJvuuiROsFe0q9HsiHc9fktA1DIiIQSZFwCPUatmyNwuGe/hJkZk9Z79w5CAyvN3hBs2ezaYH2lvfp835ZwCe/oI7BptEjimYiYZf5XNWcMP2+vPys+x6n3vBdmiQ9mllmlf4dAD/CFaORqwqoF4oLcS3xkMNDd3u2H9YSAutUDDPcuxfz8Mp4YX0Ihzm925iJUqdnX/KWWiq18K7+spFhuHI1PZaWkPYJu8gXkK7GPjf0wFqfU/xgM/BS0HmYXQCE6ffl5e/Y3CQ0HrBqjYkGb4IfGNC/wPWrkH0/WIkbFoC2CWzmo6OVTgiplkBoibNMkC98hs1RfRIaJToCSSaf5uoLTWFueQUrxCDNqtF8p8TbTPdGlxS50nm+0rbCTozt5jD5eF79oWAaZn8mLX4dm5+GxgCEGXLxhZTM9pY2APSQJJjK5Dvy0k6gku4pDo+ua3+mI0dvzRFdUnkopNDGaD6lcl3MkhtN+Fr363ghmw+wOTRGCEjFXaEHGT3hnzD9dF5+ri6KG5GmUlunkRRx1MCoXTxVokV9O08JYGyP4pEwZ142RYMRo/z/rQYU3QtIb2yYm6Ose6coWL2Tn0MVbiJbazyJz7HGQXSGHbDe2JgCsJZEb2BBN38EAaQw++G8+E2AEvaYz9pynQJa9/fqRi7E1pZEFowonSzKJdYMdrundB9qAJsdEhzjV8sZ7nl98DH5EKDFPkbMVYGmDpJmMhXv/lvot2OC10GpWb6VOGpiUG7YbCrghMQ4/4l0+auGGpmCgyABO8QVPHCiRNLf+LknywX96OcFXe2HHObM7ha2io7N7gESbzCdNjIm+BdI/yKHV8AOdo6K/960kHXZrrhsdpoxKd3wO+ClTD/B5RcBtH0nml3q0QiswWyHZvQvcf31why7G391OPn5x6y+EI27as15uMGkxCcAQML0k3n5B841mvLQsIsR+YrEI6YHEo+ZrH2SROOzEl/g8JoxmgCMzkPNziwOmEp7r2BCEQOYgQllLRw72hv8APBazLGnp95AgCJ6eEDlXA7V8aDSeReOx4PR/IS9QxKN/rQh29RpPwCQ/mUOX7luCRUaIjPTC5tiDOme4uAhzObwHy+XikBC9yyG2tZRwj5zyXWgZiF4m1z930Y7rRmkN3+m7EEWyMY9BZ33ABIyI8yRF03xaIFkHG8cfZGXXVnV9XUorL+xOvxFBJFV7/SNc90Aob+b16800C/1ndpYra1sua43SJhrMEXiMdN9yFTCHlPpo+n7PR4yPXKyIBDQPYvhWw1JrKV/ietvjMEiDYWosjKBLAtyx4pCnaFMv5/L3wGAcIhsDRxGZkP/DNZvuTRl4x/eIGytIbzfeDvhTu8A96jUfQc01Ucq6iIkbQk83Xe9oCMXCDuVmzU3SPcUh3cK2gR7MvtEXvyr0etsSmXMILLLfFrVFwumtju3JR0aTQKeduPzF5g7ukX3JgEpYPeIK8hsvIr2EwFPHFO9XCbgypJOSuseG370Cgl75MLbg4iEXV4Dq2tfGvrD90kAv29Z0HC/KAAyX0lxHVjqWgrdc+53AkgOj0qCtMTbYLZ8JXZcvYIs6v9h4y6mVoOEQ6gLBfSUxbW5wkAkF2A15yhbMqehsPXTil3NS7PJ0hIE118rTh6Q6fRvjj1R9IIfmucHFNkx8shXEo4l3tK3SPeiEqvXJCDu/GRe/oFPiaF7UYpDLJ9B9oBeuuccSg9AMD0QdCpimR4JJsjk+jV1W4ED0lAd5sVHl8l04ptrz7w9eelOpKXkknctzdI635AZeUUDWqjOPdILRdRXdsnyUtlx8Jrzs9J+LjP0XFaUN2pDIgp2QNoBhWFmCauePwn12VZYrRV3XP3RKE20cVjp/FCOujIfHYEezFy/VZwukpdgtmNa8kqoZnrE+k2QIrvSfQwk0wlAUf8qQV6CqS4/0+LxpHQvg0S+ijt/jiTkGPkMeQ3MFUTWEJSkLjNdAZRwZBIl3vSFlJmrrz4jw5y3gJWLFE94MZ702bAn8WkQrrYGkFS/oigkB1GA1DzqmYU/wLz6Jt2WFfUfkiI3QTCfQiYNKqurlqAhOik3JNN9aHlYegDNVjUEZWCG4WHwBUJugsD6Dd9iimXQfnHMohdzKmbE25BdIIMLXwUlqkM+AJ25ZC2YRS5+27hQegRMwdwd/GWmhZE8ifW7AMw2oHgoCojPKB0brYYDWra2l+dmglk0jUgLNJQsfacje5NnQjgFBiuRsuVDZNdvWFNLehSGVgx26AAH12/7RlCYn+Wrf+W7ODmNlWRjcW5w6sVyuyDJJcxDrrcBjEViBdxEugIBzLQQS+jqguEu1l2spef9hyprZQZn5BmYmM6dLcAeN2pUwath5l31eIvt2gVI89uHQ/P5o6tqEMl0Bq6BiabWM2maCCqLKDi1AoqJT/jJc0E/+PlRyXPYRz4DBCI10r41ke7w54ZHvwAUK9cdXCJkFhEzeXUJRe0aK1vSP8fhPWClJ677pWLpli6PU3JZDroyFTLsQiLSmZKVdHcwPER3zLxAiBgebGRj2mr7T3D1B4AgWLEjIKarht4rmoCwg3xVW75V46Y0jWo7TBHSS9hhPoFot5cpsIR0ajM1fRUAsfKAMSDsL5EZsQRm4DLs/GnIPi/+L3MNhxnzEhuYCJ2bZZB4wHwqk7tcviIhUHqkpcQjpocApHue+T1Tiq2TyZbpE2bd3s8Mp3/XfYzqitsDZkz3GisB0r+A/ICaceZ3wuHSuCuLOq9qeBBEYg0WZDrKw5RaDiGWZdp2XatUVJKTuSbsSEnAu6rFfaTT0Yr8aDmJz3B4y23dQHXBNRk0rmw3zjEdoDvi8BBxzyO7jrAy+c32YWPrP8wQdjHcbxT6Dhyke4rDuzWSErQaROcXjFcih9n35MXnIbD6ztB7C5oNq0XjR5ae5h2axnCA583SOzJKACHdHQ5vj5uX6cS/Ly9+17F3xPQIQkuqqvuU7pvRc1vHYSPLWhJIBwQvd6mX2z8JtfCPMTx0u8oQYHn+DIhzpCtIBrT0QBOL6hZA6Cz0qydObrxNJlqdJZOXuPq6gyWG7m5ef80G7+5geE+k86xPP/S6f4Hr1+pQrruPkrCUPm1zcbRAM0Bbq84bbKFkMgtACYfMJ6F/Pq9fG61CtHA81zE9qCHT7+Hy89j+lP0i+8hnCKFGlMOkVm86jjWUEHd+PF38WvWct/e0WAvtIVXbr45gCjs/li+vOW5HwpRKxiO3vF/CDBiQLzdhCEB6gP3RE+aCvv/XjS+MnCoi8RmmN40nNs1fmoxBGfEdFCYMQaCK2xIQ1cCb9ODaT2IpI2z0m20/pRVU8y4C3T6GM/XoqPxTd4dIYE4QSPc88iOZfCwvfrvy8v5Dwiuu33G3Ca57u4sNqjoxI5fq+pOwQy4k7rtnOCAeIj0wxbCWN7ChGS11z9X9FW8CHVKpAJHuxn8xnPyiO29LVclk6xRF9UvfYDoBBJL12Dc9Ar1RMrARiJJwSDvVfCJhn/mBCRIRgHH3303nv2qTD1Pk5TiuBsHMkcUxRpquddaYN0GCdB/g6nWIunzPRCakHmy+argPXMdSHrcK8dmc3qy6FwPiFJmQocSV3e1WKhKkSkQZSdPC4wQBYZ/pRH8IOz+Wr37D5GWdi4y2uqXajrPZiwCrUkdB1lAOwTATdYabpI8MM+QrD/TuUCZID0dYDXtex+XVXIbBPMpOr5Mpak2j/xlesjLlePAX0unfLbNCCMip0KeIrs6tNymHB+6DZyIdqeRa2KKK2FGrXsGEmgxhN1DCjPlqdBKowEV+rujWCYcbyKe+B4vKUvy93j5TIsIN5BX00PjaVnPjBAsBPA3Cf9FehnH3z6WLX8Mf//EmdEU/FkB2AWhcqel6VnykG98VDkXbHiOudRXb1gPApjykbLdAiIiQJWNDgLx1ckNbNVS0xjExFNVQdU2bwbgdr+jROEfIzWmqpaB0zMuaxYTm7Wjeq1/mwJUgZj9vuz4pc3TPIN1nPmlU3nbOvWBCXmyNWf4f+uP/9okTwPEYFuBR9LQ9F/MWLMq/bf/FMqKmKfUAhAPrYWdtKlNoNOV2TNpVBDI5enz8NgZGQDhq6+pd1TaO/QH8dvsX1gcYAKiHsIZ6vLESQRseC+NOzm2qgorbvg21QnpIh3wJhCZTbDyLAj1dlcU/CjCqSLG1xyNtaaIaAUjpnmZ+aMXvNmwHoWvZ9V1h9r158Vl/V2/HeYYD5lOJR8hrYgVy+0CeEZsYYaqFbazYAfQ7occAF0HF8ajSIKJvGggXRLecGg13BuIh0qNmJpvTBQCZkqvyitGl0W2lPX1Zm7CKdv1pu8KkPK5mmTWzvG4yAWEKPSKGAaBMPszVV/1V7spTFmkB12KV0sRm/6G8/kbVpULhkvYJ8x/JV78x2n1+xf00JQOOQBAJxAD03jiwOcwdbDZ7A5UKyboTJR6SCyBYml5DmdfBvNEYqv2NcQpS2UpWoee6VSvndIS5Z2lICAc5n/jEAmQCLhD2kC+8J+J4/iKCnhxGxrEAnEicIl/VWrjKD9Ed/dzw8H/yXMW1p8hkmXyQ69dVO5SwD16xaIrdTQ7eOLNdZqnxi7tIF83Ki6CFSCCT9C9y/WqbuOfdthGmn+DqG4SITJjbdo82nsSbTA9G2YXdBzF8sy5YDtqjKitzn7zE1ddcbG9fVxx10r/I1WuIN5Duh3grp/f8lqIECJAl7pljGQBICeJ+nc05i8Tdn0jn/zfaCunRy0NVv6Trj//qkyWA7/2PADaSZsv1LeaiT03doMGWnq4qVSSTWPtySLzBfA4Q3QesFaXAG53Qx5xsnu4Qb6OtbR0VnwGAhENwSaskbgxZM8hYx6dvalsUGvQHZ6MZRujjswFMfwzAINKju831m+OcQx+qu4PhXQCY3MXqNcRjpHuecMTao5yQbo/p3GzTsC/981x9VcIO89I7yG8c+dB+egl7zA8VauZw2zyyZjI+ZUzQHWEoxyQ/xuivr7oO7/XwjI0E9fHNYQYuirNa4dLk2amvtQMGhB1wENG15LHXC1ZGOU6BcfNCxcANpkdNdomXrtqf+1pkXGfZv8D169etS/N49SB5mqiijKg6ai/i1vAardpdlMHdp9Nx2wTXWlpXpDXiAPSypdA/JstUu3yEA3KBrKanWObLxmSK8IgHSGdb6zUpa9C7Jmu3vtI143mTmVjUrx5hjnwqcR/5ghuaSrwjGDjS6cdK/CZ9tX+XnejHGGgfkuJ+EG206VBSuRD3mc78BpGgq/PRx+Eb6e5w2DpPUPYEK9LOrzTtBFEQ2L+I1Vc9u+oK0OS7bULyYrCxRiRhl0jIiwakvZNBHucet2sqgKnHlrtw3fIXhjnyVZh+Mi/LYZ0B0okE1nYZ2viiFW+FibkJBNUs++7454b7f32UZKqScPbpvPhc8zva82/i7r+ZLv5pA5wNmoE59iQKvFer6uQSkYeqfUrnGC/zLK9Df+u/e7KSsKj5RM/UCDyckqzcUzWYWyA0hcTL6QLIePSX7IbZp2peQx4EEelcL3F4hDwgJ6xeQyZkR1jqAi1Pwcds0pGGdyBT803JxIsFtVCYIJkeWr6Dp5k0SQSpjC/ds4BfgqVu0RND4v5PW/oDCQbmAQoKwHMc9OoaJPOKq28BvacOqbPa0wfW79hblt8Ek8RnQK+s1UplaCO7QMykv8v0EBSkM66+hrxiOq0pOXntoGhhQpCINzS4HnZ/1LPkBhndI8DaMj4sD4JY3xc58HyWQcKOTlvCDTBB72EEOqlFwJDuJQ93ebdFemqeVT0qVDv/P5CHUdttU6jnIEWmSAoNbVI4R14yPwCzFjiWdBuRfeSFBKuEFidOryPMIDk8BGBFoog2q1I7mM8k7GqXXYk3QXL1ai0xbMGlj+RgGTeg1xM3ME/ao1G9BcLRNiFIWB126eGnTb76hsgdrbIHZsiBZwAFkCITpAtAPDOLBp8yz5xAMJ2oILHW0LVQEiBFM7CGB7bG4aTslPKflHrcdG5kD9GUnDD/EUf6C9YZUQnbulF6D2fVVrnW3zmcMlsPOIlHNuHhHQ73EY8B+Mb0olsCVFrSultj3T5VhLk1arVcHmbvpQwwQ3aQB+QVKKjbk0yrMPtuh3/m8NAhE0EyXYG55p0Np4i3bFGyUwiGeVl5C7OSMfMSy69oyznmSx2EOYMMOz8k/V2QYfpJfW+Zj70aHRiYzpGuEG40u7sUvsOKs6Hlf4pubdMrQESmkDLRTs6Jw3sSfMIIIAQdCEEPhrz4QoNoIi+ZFk6QhBZ9kXH3z/s02j6sRKaEmzY9oOkfWe5Bvvos2t8hlt8Xj0Gk839iCK1Phebx4L1gE9uK5JyR1gJBTs5D1k3JcjuNRkH/k/+8Xxbwu/99tQLjDCTyAqBMX+byq7VoMgTkAAzojjGU1jzF06gNKWvGlsw+bhVEdJUWHTGITIi1WIPuTEDCDtIlAdF8imppudJjc1Dvn9ooc+SrUgURbvxkPvkV9M9jeEN1JRFA5gQkzJkeuTLVph013mAL/HCsrJUbA2i0Vp1CAsiOhGOmbwEM8U5WnXp0BBAAxKP/OD38e+rgFJmS66Z7XDE9xfm1eY10R+p3CCzrRCeDUsMXEHc8dVwAIt5AastJddJ2mO0IpNdkYKkFpu01DMpbljHM8CqdPt1pLzInriQXkg0Qhv5uXn0TEAsQFlMQgJRiXHtLYzmoL27iBpDZeYSIhjOLC6t/Bus3/YUOefXvbZagiDkhkOz3aoyi9YbpphvbMEEE1AChyl11VxdLTilfeuRF2Pl+rl7h8F7zuFB60aSexu+iJ1KQaWz3b+QxYdQTanzBw6sGGyehdZh9kquvUQsErBxl+1k9M0dFVLLq0tbjp3k6EsCkrxcNr4QdDvfV0wv1YIepTVC7z+pk4h0M71h4uH+W6zcByuRFrl57jMHtjbpK6haDxB0mLQMLQKxVW8oizNdSUGyIQZwjLShBmCATCTOmU4xasTnuVPBb19I2naoxudoo2zi6NbJ1HVPSPcvhTbSfEJHT5iZCGR8gJExYW7qO3LNgQW4U2lEh8eDfTyf/p48lG9tb4gHTqYQpc7IWbKJFE5ZEUvqDbp3ZHATJpqXI3ZgtAESZvMDVN+2ZeAP5nCU7LO4hnetEutt/bXjvf6B0Ak0F6L0tmkZbgPg0hrcBhNl35MVXmnRLTTgICKrELB0sCZD+zl978ixgVcYThgsvEQGXXwFgPUoAZFFHItf3zaFhHI1ARtA+LH7SDsDFl2H9/bXcSNMKhNKDpDkZIBlIlzK5K6ApyzlL6aIlM6qmD5gwMG3uEmEPw0MBQeaTXwGI9evWCj/skD3zFXjF4T6yepjFlAOJIvNaYKC+DoMATCBPX6rAyRnS6YugjXgIZCBdcP06SGTk4V3flJfQOhwBQIRpevC/evJhJq+AYcRh9TAZU/G81EE6ISARMnV1cunmYLLmWRCZvIDhDND2UhmgSd+iBfcvwjpS0RhKds5h69WOTgSAfC7xWS0f8vl5IwIWPuPgyhTZ1xF1hkRCzpBp9SBBVPoCZL76/7h701hbsus87Ft7V9UZ7rnjm4eeXjebk0hGHERTtERJVGhGiixTsWwESWxHCGI7E2QFcGIYTuQAMRDZiBTbQGAjhpPASmQFlmXIUgQ7JEXNYkjJUqvZVLPn7vf6Tffd8YxVe335sdauqnO7FSdI9H7woPH6vXvrVO3ae+211/CtbwGQ4rrdTQjntNJs/YCtlSBhAyC5FIoUj4FG4ggBoY0nkUUBRX07O0zmqAWQYfAeD1ogly21wsMW0sVeDLOXlDIAjF8A9/7NYAft7CdasSEUEjd9jXQOQGdfdOZtDDyWECcBzPhVOvcQlVBvpNEzEaS64bZgcTmLh41Ee0tgixJsojwA6G2pVgB08Sx1YVVAxe6fsm+EjY+5DLh41LksSkA6DYAvfgLgDpNs+MxLRTYIE9bWTmeMUIHqrey5yLWFFj0ewndEAsjVGzZI1m+4MxQmDrAwvxmQ6lGHYbdODxLbELoyg6gtwt8AEWneFi916wVaVRi0AQRc5qokK5IxpWprbSoo5brE/GgbgxXnxHNg6ri486NsBeL4IwARNwCG8gmbW9Y382X5OguqtUM1j1AKQQBKo41jWgITsMcXBoThB3K1pwlbUirI4vwP5tOXEkYe/xfrszKGlasBTAuggQykOOd+MMQgnGSNuA2U1DkkShhloWo8NBhGeeMAQNz6lMjY5VkSVy/ZRgXI5pA5BA1aKSklnAPQ3PsxCUOxQyHVRmMp1TudBkQhlm4jufwaZCgMoXxEUGbmOBU20IVQwORBqbOwxD/Az8PygO/8qMQthIlZqeu/N8fPWeMlbrIt8yAQ+gzP2Rxkxtm8DbbZbt4DNve9HkMu5ByYVE+wtnj12oxLeR0676p6KGFwXZu7gkGPZqF9ICGGOTI7um1KmsfjLKO5++bwvVw8C0gGcyqIdfKX1iGjX8MWR4re64Q8V/bbTegpoHHne9PhPzk7vW7eDmjcdfkk8LKBzvwkECFwGvTuE4EGYQM669bC37QHz5YCWueleUsKzn2UXoNed7XPuF9F7g/B3sDO3NBYb0befFsgKDIBb+/rxQXUd929KC7A6jKlkPIi61vZ4VhD3vbX1GHJLp/ZL4H0MHSt0WB/KTNFlE9a2P4jevRz/hWEjIvJF8RNmO8FAiIyJGtYzC6HGaTYZfPAnbxij80Dj0D0fCmvuCguoLl3Zo/I+COc/RbRJxZ+C5UYBQIpr7N+w66Q8irrm92bsRXLAqwRt6CLzObdLlAQBAq7AqTyPOr73QRa6Zeqz2G/wUY/iye5jkXg8QMCYi8DUADtBcw2epUkUcbv4+y3fMsHEZjrL0Cbxu4kqS+YzuaBDcoSTNaxQ0LFZE+pQHPyHH0dNr9TTz53FuHltRjtXSfgNGx8UKdf7q7JYDqvyHI6ttCdow72HhsIKw/WXPzr6/ACAdiCK+P296ajnwaM4KkGAjqAmC9APsAgxVbWG101WiY4631ChbTq6hX8f1pc/KHm7o92lxE97EsrY+jNmLiWk97EdzrcPoW7DSIIQ6Q5RGBMfILMq5W5qlw+2yOgbRkuAEWKNuQThu/Sxe91K89ca9AiATvxY7aBgDAsL3ydgbDu/E1XuKyAhRQXmfZbWpO3iVV61LGFa/YXWKTYZnMIoGNC8U/vGojbY0DvSGt/PSQXEIjPgJXWmSK2Q72Pt2oZ42QddSxunGa0oZSXWN8B0KMw/JdNb6tJ4yRr5/yyjvMymViL8kmxDYLpKFdeORJVqmtcvdGbxUFXGSmQ4irT/XxqSjfnaw0e2slfx6H4+6I3wrcB10jYkGJXV290vw3jHNvXM+qje9MwkrjXKX1AQkVvdbWOE+43cujamLS/7ZWKoTKilTD+EFc32fT7q/erhwsgdkZee/9erN6f9ZadImFMw6IjI+zOWh1v9/FQJ4Bawq4j3damN398XUyETfCsWW/TzWCcUKdAAFXKiyZ+EG/21Ztn6Sn0/IgwBCq81aZc/xQX/5Pm7t/0IUrBMEY6luJ8RuHC8YMdq6IDiGTwJJcv5hU0yJi4vdgGHnr+D50AACAASURBVLsgpN0/kNodGJLzTd2oO7SdhGh+mEhAcYX1zTVzofc1qW64R4X+b7un5nMoQ9is/Ds3MslXl1JeYJuPsB9na6C49BfS/o+/HfBKSA94SBhxPXnklxTngJBzCutTZPzhSD3De5yLLc2mz82d4pBpAWTKgd8Parf++lJeYW1UbuuFheVF1ne7OfHuTJZSCQKwK0N4azUjUFxEuuevEM8j3e9pUSAjZ/MMdceQAIh7GVsnCCU1N7Yy98ACy+zPUjtyQSg6ooU2yC85yAy8xUHyTecKp13py//p11cI2hs4q2XIWd+R8hF0NPeWDLco1A2faFIG73LsDFooCkDV+jAHkVrwRct+DvvTggk9XvKRxG2xDgRhk5l3mxl5EaonM6+3IbD6Cfz27wqtc9vR3KRBOx5/rm6DFNmgJlBJ7fUozSgqMow+5PHb4kpuzEA0J/kVFDIGg9BL/glBykAwlCDYzNgcgrk3Z+5By+XryP0VBAVSr6+AkqubSEtv6xu3gExzk3LQm/SGXwal0RUItnfoJlnXp4gtwoXpVJe3fU1tPtMMTKDjziRugoRMQEpxwb+e5lxleiNbvrT0adFk/FaZ6n2Z364UFlB1Kn9/Rw8r0ZxjEqROv+ScVrZeYQIpel+poUvIWMIIbO+fd4cHM9s+ykDLDUQyTfN05dnQfFsbfNjMiCSbpaGLk64ccGe1HFlCxBFD9s/ohp39xEU9tW0DbF3YnEABbUCVMM4XK1tcXjzXLRyA9hqbrnTUn/b27xK28pjZ3Pnv2ieSiuaoJwwCjKApN39VwRAYGnsXFy8IA2QDhEPGTIDXcDcABq0XaMAZ8V9JRttB1Kc0TD7uve5JpsZlTDZcfrTda71eCGHC5YueIeqE3I9mmy5XU6RvdlVSoQsH7MhIyivgiqtb9nTPyJBIc0EFhOb2f8v6jt+WyJkFQlWYQnkVJNOst5s6eB3r+6zvIky6MTMfLbpyCFInGDUYwsY35yXzbRi2v8+/brjU3Gam96fNvwk/iks/FMKIq1su1XGrD+Xj6k6WWENr2rwVXahWKlJJePaUbfCcYIH6TtcDprnn+Md2DOkEhMjYJpOqoEh5DSQZ2Oy7rEJBkbhrYQBxdAUzALMlaGvVrCI5wFBoSTf1qch6w5o9xM3vNAi3t4iAKRx2Y35Yn4dGRUn3VKgASXDxMpgbEwGuXKhcvgQ1NF3J2e+ChC6hLSxZ4Zk85q/0BBpVttcgcQ80m6gCAD1hc0g2YKJtYCkgG0AIk4+B1PkzWbVh/U+4sgtjgKG6gdR2LQRIGh0aom9mGOawgaMEI7B+eknU6W/5laubLkA2VN+6RDoFk1c1UKS1AFBAhoB46ycpWhq53KwXOYVMQlGc74HM8xsVu/76LLiG/dOMACdI6tS8ZAF6fY36F9NfDXY8qKcePZQUM9Q5Q3lXNyFD1tZA+whx0ze57X+ZSHUlH+12H4tDiFHiMU37SEVySV2BQBhlL4ow+jr2+0ExS5//nc1xpxyRMa7pNOz8G0TvK6nXQjzu5vsoALbo67DpARjPohFUCYbcbkAgHWecrf1+0dNx+UTUrtMLtUZ3BmewQn+o7X8ytPeSwTUP45M6fymDomGZ+DB8GvU9kMXlH/JzK63ysRegTV7BPrY2wYlgYZGS3E1IxE5EAqQaSoMJOpXySreOw/eJoWBU4Qf2iVRXfIdSnWaLRNiMO38MqiIRyUZSZi3hIxESjDlQR5B6/Hl0pLZ+zLA56g5Xf4X2IIwwDLA2rpFlww01xB46V/zolWwGGbVWqkFlmnF1K49/ZRohbH3SNQDrDiue86kSzyFMAAAijLq0r5tTFkDI6B09PWPHkkWhijB8GiTils12mHzcXlas8YwuwZUefxZSZO4qgkz3/4FvnGKbZgzFDRisDwoybH4LmOkbZdi8+Tc0LSXu+IaqH7gT2W0cUmcIRhVCkFJcbKH7khYiA/HAr7q0SAUyTj62/mriBLf2MTpVKTWdgnVeKeXydYStrtIEAyiR5qj3zcKjKV4ER4G0Ok0BTXlTA4zoURRL2OzhS6IUuyDT0T8DG6RVZ9DbtrU9/vDO34d1AIfJt3k8WEoQ4jK6a92VXY3STs9LKPYk7hrXWtz5biAfS61m8ZNsBNAb5fpKLKGKtIImNvtu+zQLMDh5svHc1vdBQFdIJ9BGT37FH+G7uq1HomTjQOIGdEalLl6ElHH7k76fERxSpDU0yeg9nTNh97RugK2XA4E2Hs9RRdiCbKJV6FboohasdSASmLJSFjAhHXXlT7oyk1CKS+AqO+V5rpKivp8RahFEKPZAxeoBCCzvoDulWtcnZb5lU6AZ79aaJu0q+NsJIOb2Zb5u8WMy1dRFr0EhAELNX4dsfgfqo5wARhg+RT3h4pbB7orL/yGoUM3RCAAVfIfYDUMYfcBGgOYEKQHBHUEDtqAt2CWUDh6h+TpDNNN8+CnMTgLSvf9RHGRkbpAiNWKFMYvXhcZMW6K43jtuk6gIpQ12SfU40yniDuKGP9rPToW35DP/cpInnAAQBq61GaCNFLs58EiAKC7b+SHFHtpIQJpBibDB+eu+xHbztIAUgIAJqjqzBFhobv11cOUhKCBsfNjODAmb+V0IpUgBQqQCIIPr1AQmdt5kJriQgcDOV4A0O9JcNJ3+BtUmVnIHusTFG4jbrVrP581JOvgpkGzmvf0LUBE8bEAAccMjB9TcMFFFpBf3su9q2Pr27tylZkxTS7mcsWbWvBLopDpud7ssNY62tR0dhvHCDwDq20HQwgD16AtQlWzxeNWWjN1Kq++gOYZSqERytAfobj2V0+cAxPP/NkgpHwEBsTq3WmdfhSbUx4IAqJ78soQRmCCDUD7iryMB2iDVUAUKfzVrMlYfOfq9ntpGFhYg9PgLrYFCy52zZnOIweN5V34idxjMeg9Ac4KBRyXNa7IJJ+iZWjeXI7SBzgGm41+AWXW5M6hbRaighDH2p6Uwxxtgdk8El6BIeREg0kzilrcGaMekyQ5jCRc6wxcWgLGRK1ibupN4EYhMh7a5oIQ2XB34E/tNWtXA/IWUN6TYc+v2oXweVg745o+0/wKQJ1QAFpf/o+b23z7zDTuKe9SmvSQcIaHf09C+kVkUwohhZCVMGXLV1U6sfyWAKtU1rm4iDJEWMrjCVdvZJoTBFV3dWeOZ6tHo5D976Unmoh4QcRO6QAcLSggldGUdwr2ahZaba5M9IsUFNvfMDAfZa2n3f5dajBf+dLr/454g9KRvZhGJI6a5W7UiCDGDvdcLJopzbB6sZ+N6/F8O9+inryQX5DBPRsyGsAKCYg9pX3iW5lAQ4E2x8hfN4oH06qbe8in2gArNbRm/l7OvAGdWMyc4DZ20VqMlPUmzd4EMb3DxUoc5inktztwNyOwQWG93yI5m1q4v9tDs48ynHSFbFsY8s7vfkx78Uzd921c2AuS4aQhPADm13Mp/ASQUl1m/2cOuSNa8+d8SMmGFhOF7tLmFZo2WUkbv5OJFd4zITIRuJL1jcAGJ0Lq9YZj8IT39dake5eq13qisgqtZh24IxMIwJmMD76qZ93IYvVPnv5d3d5Tx+zj9F/mrliAMYfuTevjPUZ6DGdChnzjMK+tMyDa3vT3o85AL0ow4origzb1eStiu69G2eEVZFKmoCykvCuBfeRtS/ogwQJohDjzqbrd07hdI2JTx+/X0V/J7FQiDFiPSiRAKGvt0O4B28MWOVZ9LeZ71fVvJNaSklBCBZugMgVBAIlqZ7MmDP7W6ytWt/JuQY7aGJIjs00Z2L7qJdGLk1YKA8Xs4+10AiNvQmQyehJ5wdXP9MX29vrYia3cudpFOgShIpKK6gHpfZEhr3S1n7tXe0xLBhFReh3J23fvfijK4zOXNlqFFJBChhYh6hzH7iozC5P168hsSRsxQmPLaX/z6AmHd/OsZajRGmkmxA23ImcjIKRLXCO3gAXqDwxTnJB111FHFDpojm3WJG2TK6KQ1RLRXpgqEIUcr2t6okLhJPW3VHxFFBGwQrKfQW+dEeno/76KND3D22yAcSduvCjW86NsQDa7hgGT0lM5fkEz1vqbZHV1lKGhpkbcyepLzF9/mRDaedxgjz6LH1hT7eiTufU968DNAj6rQ/o4CXHnTvT6QYc0YQrzwb6V7P95TZ4YqDGQqLv676e7fBzpjyHA3YffTevDzANYLiN/SinVtkipwhbABzoBC2PTe9czhlH/SKSlzRa0dlr61AUCWE6tDdVUucQKJTCem0WTwCJev93BkVe5U4ydrnuS3WnUZUx1KCwai7lXrdrBns2lKeqa8huVKdNnHx3R9WPN7SiZDBQipBAQTTccxhd3v0oOf6xR3Ny2QuME0fUsF8BlkWZ8ls4cs+/3XCWIh4gSJobqhy6/1vvvW+/e/2uKeXJboGJCeuEohxRbrB72zJyBYMww34ESG1EVHaOWXAXybcvkewi74EoiRS6+b+Hbt6GnOn4dIvgaOyzNkXNgA593u9uLd3h2kFCpFwEZG7+L8+bj3venBPz6zH9cPJ8lIzLNzXlz7i83Nv2EHp4Qh+1j69svFLtORb+T2zmJ9hE4BoLyA+h4QJFTsiuV8HY079u00Xx+k3S6eECrDp0RE51/rnYBWYB3B1PVoMScnj/Jt9VL+9oQ6+/0FzzvfCKwpSDtrZugHQCUavsc2eD56jQrGRiWxx0IIkZJnijYBAOX1/+zr6wB+47/JLynrOhRrc93vOgKRyft5+jv5WOKasPb5AVp3rasEUEiRA4O5jKfVdCTi0BEWbR3q2tgqoGntRBm/j8uXkaYSBl6Z0De4ysuobwNWrlCD0R10KXqVPII4FjZh74+n/f+1O/m6R/cHn1VguaPNKZgEQkPVD67q6la+hCh20RxlCD5zIXJW2cUumkMpdhDGrG+Btr2PAUA24FzkMNe8v1xAu5FKCPNhnJ1mn3l2nZ3W6CbgirLrQCJh9LTOf2/NMG8PknIP9X7/RA+bH9XT/xPs44plbWW7lfL1ksFjKC/y9EvZiW8lqlizlFuKxO1v5/HnpbzI1Z32bhJHTAtIhAi0yQftqFPQ/olh8yN68uv5gExrg7GiF5gx1+98VXSxh7cln+/w6i3tM7u1sBhat0Q54j18mouvrVOFU4bv4OIFSBQ2KC+ieWDNFiWMMHyKs2d80nKLMWNUQPvIM5GnTio6+yNXy4wwuMbFiz0F3aGaZXSD85d6X0fWid0NyRDKXXbxg77jJm5jSSlxwuYBpELcQnP/DGvg2tjcNbSz2Up0JNs9bSynBdjnmVjTLW998f5aCKit9PpahlLChrutgye5fKl3fRvkaM0+AkDcZDoWIAwe1eVr/qTqKus7fZMLkLw6FuMxovJ1y6xfF7A2WunphPQ279hu5F5LNynPs9iT1ZtMJ1ZXZsaRf+IQaS7DJ7h4ZX3+BaAXkoQyF48ZLKaW6hpXt3JHJgUQz31v2v8n3bcZ3Rpms06OK1mZqAWHwu6nePxrRpwiYZz57QOgTjMsRZt9cC6bYo/NQT6YmyxX65DvuE2x7nYCQOKkuPp11ozh9R856wuatVjsojlYR6ULhMXVH2xu/ljXRcuEY/gY6gPqzGtSJaA5yd9pT60KuuqRLbvA9ZQ/XYI9xEQv7QijrlVwbyRghEDCgGnqemf0FBcvuvr2g+pMM/n1PeyURsheeP+UNS9tQF2tMzMrENwnyLrS4skmkq76/a2yd+6pJiGZqziKLkpGvmV4BEIYvUMXL+V6xH5UpzdnIUJVyh00R5mPpt3hRGGEwH33gj4tmuw+BKSzeQkEhApQaB3G79XZs4gjaOqpEh9nXsr+6Q1//RC9rrSz7SRPo66Z2GEgmloGdvdfYcYEs/Zp3xyormF1c/2H/bMhywyTxJKpluEjXLzeW2uuVzFJfhdxAJfYKG7o8uUzZ4kAlEJEaSQPJgymK3tSvl7ylIcXzNcJpl7D3qd1/2fzmQEDbFNE8qkjccw0y7o4UQrpe0XdmwKkFDsYPMrZM4jbaI48TNLGTiCQwhmOSNn8EE++7PfxTEoncr3DwE/ZXuS8t/qSM+j9d1xvTBIm79PTZ1BsoJlKdZVsrF8vgLMM3mgts8zKUmwzzSSO2RxLHDlPbXUeq/uAIAykPO/g6k4S+jKQg5lxC83RmZ8D+QjIdgkJASVO3H91+ZS+hPRcUniAXYpchwOACJXEHdb3AIbJB/X0N4EAoYzfxdlX87EX19of5djYuqgMnE290055JCEgVCAlbLF5ADYoJhJGlArLN97GQAT8XarLWL0JCNZ2em/5iiEt9Qt4upp13sX9YE8eiY+cUmyjvMT5184mAUVBcRawvoXReu1uECegRJygOQACgrg13Hpxa22gCInlIw8pBP3QmLAiAMQNSGX/diBVcwBYFRitMMYy9s3NHwMYBlfcE1KC5OIVNkfOSJxOaUyzMOxqBtroEiCdvNcR0c7JZz8ZvxukhDG0yZlLARUtzXonNAqFVBehDdMMBEIJKbDaB4Wr2wgDb1RSXQfy/UEIw+TDkMJv5UTndtsGUoXhO+HkX46AF4m9Zl7u5InBYTIYxcZAKQG4fIeIUILqxW1xw74tzttRgka6qVJd7wmoY2EEBeKOzr8GJlQXwCQxQ3IAUNrNJjIEFc2JacmWpcKvbI6hsD1PMuz96xIngEATyi2bmUBYuwgZ3gAgZixrDSl09ixgqCJL7CGPQUGQdabLEYAyehrMr68tGArd/Jv9a6CV7KZAVznQRIh4Xtwqax1o1rOZKHHv0z7s4TtMwPLKFj4SxzAXbGoAXNzOEwuE0GIB8vlBQfR1NMw2IkBdvGSjleoqzKGEotwFrDpAQMjoibzcbAVMbJoUYfvja+o7TdEqRTa6/09BdE3Xw9D3moMLrSQDQGn0W/7FOIEMYQVjvgs07H6KzQFPnxECzYFbSyZ71fm8oxONcVoij7+EMHRhNk4JMkw+YieulBdznMaDWJmBiCi2EarcGqEXU8krmUHjPht6+gxAaaYguboFK4OOGwA70jfmEjK3Vt2CZHME1kxTqa4zzSBDgEiNWOCESy5vtradAMX572slIWx+0EDIDGMYYlyGYfAoAKs4AuDOQ5iY/nG33dD1MugM6DA0jJtIJaFVj5bfTUhLacUPgK5Y3wUgg8f19DdNuYHk6XMwzjJtDGfHfBSJr3JWQTbPaSEtdAtZcRnUDhEqQuHqDlgjbKGZcnVXVje7i0kU50yMBZkEY/lmRjv2nZ9WmRD1XDTXRDhaCm3IGqHA2idjNgE2R5y/4BE41w8ZfwdCGwlbIFCes8WBDHxHlFczrHoF4+5GcqAZpbMSmEBTGgw7n3y73P8f1OehHcBLUNHM4O0QCBmYJSYbH6SeigzRHLrkZUWjy9dyRNFuQoDMNa9CY/TLy8yuHreVEhncQNiANjneRpx+BaAZ/mH4JMhe6wUVGbp+p9oe8CglFSEgTKArtwopuQYXXLwEKSVuZoyucPo7uSY1+cWt7OoCsfJ+2iSkQrFHbZxW3q/ykGPXX8U3oEKNrEcFAVpLWorA370+ykqNZKAXKdUyeJSLV/NggLjtE8bG2cmZsLwLgs1R3PsegI7LhcOt2ZxIGNLp3TUg5FrA4K9goF8mAfT+T7M+AhXFFqxi26ZJJpCC8xeAwDTzZdIV4iaqq2vHJ/NiQTF4zKucEUBy9tW26gZUGVz1vW1WDtUDpGkORNdNbQFYKEEKKlfGWoMURyATwWo2hoib6fbfs7OTi5fFtMzgsW6j2t5mA13J1kdBlViBIgbIbxoCToWftT+t5xIV9uJd8wBIcZ7LNwAyTUFwte9lygIIMX8dZFe3ajvA9ZDq4S/l3xo+WYXiJSgocwQ++5HNqQ1GkIIEbwoCda4iVUcVNaeWxmY68voiUB/8PAhIIpMMrsMyI8awuLgJAmFDrDA0zaE1wji/KR20H0d6+iX7Ceu7Ul019onenhWQqA/y1gCYiit/vjs+aUSksWcqMVed5eKf6nGzFCHV+s3prUG8aMKimtsgoDWafTBCZ5Ao6chq2ASDDN8lFKQ29/4RoLbH9fjLFr9BcyLlJUAljnXxGkh1SuprXjqVTqANZQgH0hsjwsJHpQFpnoHFDdMy7HwaZq36yBGv/HtdGYVXDSmaI99YMBvLiAQyflMGQgAVVKipexFqmHwQxsTuxY3wmW/VZqqhpznNHNqyC3b2LgFK/cBr2Zm6faENEKQ4l1fN3kwR2t5xzNZzLdV1kJCRdYWRsNEOUmQDZEZ3t3UlRFq2+kGKcyCslQ71CCCaQ4SBCDL3ALF8HXTuTC95iNs5zqcAwsYHrPxaQoE0A6gHn81nysP4PKwQ9Ct/DdkEzTlLAIIwCsNHdfbV9lpPlVfnubqPHMH3LdfPThW7aI679J7DL3MgothGcygS2QZ5JIIpTD6gp78NQIpdUNligjzFyOwjdm0Tw+R9Ov3dXJYKM1kzELSk8U+FPuuQfeyaKHFEnee8kYWDMreRG+PI8cCMWLYBiGesrTlo2P12Pfisv6kn4TS/+iVan5x2DkEZXOLyTtfGy/KRLXy0uxK9jFoE2kC0hTGDVFeop6gPz4LJnc6p7Xfbj2KFsPOtevj5Lskkgbnap5vqLuSeXf8uf2Of2Pu7fQqIeBcm++bghi5fBjI/+1uyjAhDKc9zdcedKq17wS7pZBL0ZnMSpdhlvb8OEiEkSnWdlq7rszlKVmE2iWEobi60kbduWkwsDYfYE5X1zBxy3gsjoIX5BIQAbSSM4yM/2Lz619romQyuUmeoj3svHgBFHMZLfzrd+ru9N807yJNzCdZ2QnoIdqd1Wwdgd5HGQiYf4smXM7clZfQU5y/kh4qEklwJlaHsRfkarAu8lOdYP+jND7recGd7wvu0iAzJJSHFxe9Pd3/SLvANLgHFljRT4yKVYpdpKuV5w/12E1tdxuo2AEtq5O3mF9A8uU41AWGccf6y9meWH0oU+wuCp4pkRC6MRCsbaranqjVglD+zdyZBPIvhuIFuWkiVbhe0YxAv1tLl2cVtF+vsyHtSCpEwcGvV8ds9wfOcWgJ6NH9xjDS31ZQ4oi5k9B7Onu30YRxBawc2+2Cyays9XFixieY4v7723qjHMBjGKLZtscLwMV280mutXQI1whgSc72ApUhMri6wvueQyTB0w92j0Mgnd96bBgNyB48AHDwPQEL52F/6OgtBm4VrNsie69vRU0hznT4HAjJyizVugOTyHkCEivUD/0rYaONVINCcdCwcEqGrTBEAIKI+BEy2A8170IaEnvw2whAS2RywOcwc9+gR6MBNNoR45QfC5oexvA2rf3eCewqKsPFekDK6YZWmTAsQUl3JBbtGgI6w8wk2J7kVHQQRzVQG18FsvHsAnCJjNnXXH4KGPdkGAiGg6oPPgQBsf4ojpMygXN32oFr2kKTY4+KO7Wu/odWwawNaH4IYxu+AhHj1zxo7AUmRQhi8KVsYmnPM5U00M4nbXjYXhj4849KyLUSPg3lQiKoHnweRGcQCklouTOIE2kjcDsMbngLoSIvQ1mVK3PFV8Ilq/6u9rtp/Dl285L9KS5DG0JkrUAmKbH4jF28gbiA1xpIjo3ehbasHitMqgc0JGKR6lBb4agnObE01eZYXmZTK/QaBFHlIkLTokemYdhh2foDFA5pFfrWW9CC7Mvm9MncBYbE1KlIDCHTRvPJft+6ChA0ubmJ10FFPtJQpzSLd/Dv5Qcg+tBEJJX+FZKWZyddCApopwsQPIVrdrZ0TxkpW8/jXwVXc9q6CXN7KMB8BlGkBVdqGQu5mCJHh4zBBISAbXO3bIH2hzXMywWv7UaIQS6nYg3QBUqjp/s/kHwZqipf+HaiKjJn5TKS8KGy4up+3g4SdbweB5W3fL9qAYDPv7Xd4ikq1W4I0R7nXWxFmdzPZESWZHE0MOS/WdaAktaepmp4kAy7YJu3aST6E89cAIq2kFRgEkUo6UemNRBWUuPdHerseLUdKOPfdmes0SxQyXwcEDEJFWmZ2wmXvBSNQeqVy3CUFuvJmLc2s3RRsllDa6SvleadMaFbQmrT2hV7r7DEVa+xoLQ7r4/wsnxNBKYgd2RaJNIOz6THNX4GVD/kga7BAmqE5cc1DhWZlmBagUehEeHdI64cosvXhkOliZPtbQKCZO1Qrn1AMJWiG1x/UMfjWz0M7gJFbqZArL3Xl7HlAEScShkhzWjutlVHwEKSk2v7Ceh/pFKjZGizqvwIAu8ycYLTxPZANrF8YYjj3KTF138ydgkCGrE9Aa8rhrZBk+5tcbzKlW39PT76oyzvQJbyljIbdbyOXevIMSD19Dqn21yO5uJX1qYGhqAefc90XBkCiNhInnL8OiQIgBKg6YZBOwZpozf8GzZT1IbRx0bcyJK3D9sd9/xd7Pkth3Bl3JEgiAIXEbZ8ZtL9qhGRzCjZ6+jzIdPO/t40qJHWOULkBnZbWbRGqEidGe0kQzdSVAQnjQlKV8mI+ayHDR3Po1Z9bPP6fI5/SbE5EIusDnb8KQAbXAXVXwCwDEhQ2h45GGlzPbnqRpQKWqkEYhO2P2g4GmClO9ztPFwCVh78KBCf9MAjM7Fk4f5nlmFd2N5BA4uIlSSuRyjOCYHZ2SSQpdhE2QLgDETNRn0AGVyBR4h5AGTwK0klUuAIg1WXbA764RP6nBW8KwAwjkThwxY0aVKeKBIzanJltgM0RpLQ+r1JdyMeISGhtOPp0AVnN0Bv1hDHb37b+ltbGZyIGrXAzosn9Qhq7vy2HHv5iFnsjQAgdXSso5sa1eWsq569Cc3tsQ66SAFkfgJYToZsOiJBKim2wZu0ujgwfa1/Q8z5OPU3d/zmQXN6UjfcBQBzr7KtE6KgHoXrwWamuIQwEEMuVQGAhej+l+ucY8+klWN33M3z0ToCQIrfjFWjtODgQcQ+gc3+6U5Wg7Lz5OAIZzn0aoEEOzQAAIABJREFUTS4IJhFaaIgbRhK2aACFMDIslceB42a3wW38oQCQ9v9ZPsmyhRpGAPX+z7hri2iPBpMlpsDMrgMVCUBgXjWEkZS7oiuIedgzIaErZ7q+/h/I4CpgpN8KuIRwec/fR8zNqMVMEFI23pNVv8XMnaEvjN/dngqh2CUasoaU2ZlGNlkIMJ7/ozY5xbV/X4ptEznZeDfCCJpk88MgW2QA0wkQpNjzGKEva4KuePhrunjD1ePhFxAqHxXVLSoS9ZGMbvR5FB7C56FRUSoFICGFDK+C6DhQmhOmmUg2kE0x0dWNyBDltsSJm8zGlVjsdqdvG7bqaCnVc8MmQFSw1v3PAkkACQMgStyQvU+6cKQZCCkvQ4mjLxsuyvMTBjnquSk8/FWXv+o8wNzti92wbUcZJam1U1T1FvFQNicAoStSO7JDEGTY+jB0IWUmDLL2R63Wthlr036suXgT1lV7cF023ueHcRwDRH2AyXtz6L4AIo3UxkJt5Y6P05A+UMc7k9QFVBE3wBoK03HuTIDCaDSTpr5l8n4AAHMxDwF1Q76zBqR55UfC5P3Mmo5Of1iDytnLMIcMCiitxycgVKAElYtXc8aogYUrJFjLCklLPfqS++IyBBk23uMnij2sugoQg0cy0qoJ57+HzTEwbEcoccuHmuZgkOE1kNQlrdtP63ZYlELJ1X00J5DAYOneWeumc3FTqqveQH7xas/oSVKe4/IW+nS+tlilUVwtjZKMzQkkOkinuww5dBQkYzuLx/4SSCcyA7nahxIyFBRs5ig2AcrGu/MdFFSHJbIO1TWk09AarNL6fCqhFGYeKCDvL/utIIzD3qfhBIoEFcos2A2ErV7WtPQ2gqQUOyKV4++kp/VAg56BKs0UgJS2qVfQRbjwmZzUBwDOX/ZhaJJiS+IGmML4SdCEkyCxuifDJ9CcglHUI0Jh+6Ouc5evI81JZVrkiGXjwJS4DSjKK8jEXvHSnxAI2GQ2cnL2XN6VGWpg+Hk7j+v7OanhESBIgVB1TJ/NCUC9//PgQoZPFY//ZYBgzCxarjfYHInna1dA7GwII9+2uWhOUJ1HWsEyr62YmYay9AEBUjY/BG3QTKU0Ic9jto8MCDGL3K3PNGN9lzSqKUUzg6iECQggNK//bS7e8HSvQer2PpVHldlPTWh0afYeT5/NmXgTIxjFlU6/0k6d1jlQoSsyQQYIA9d4UgHQez9tT2lu/l3WTmLF0+egU4SKx1+U0ePQLMwEqGweCEKXRM9snQJKyLgzN+NcK7VbkrMXUF7oZukP/vOQcsDNG/8Dl28CXCvAimMpdrm8BcDRoVaIaSU9ElFsoT7IdRTradpQQcqOYsaIW892/2CXigtDA3eE0dM6/5oNIJz7Tt3/rISS2hU25ExV+0/Izsd49BtmNgLMEM1s4do/y/NY3UN5TtJJW2VofDeWK8qFFsyToLn0EwilxK1MnhAASLnH+i3kSjY0GUCXkAFgTMgxk6zmhIrxaKLt2uaJHxk+xsWr6/fKkI21uQJAGT7ChfWWyRsLDDvfzMNflWILJD0BY9m1S1jdASTsfIse/pKtDrWRED1g7p2mBIDEMdO0zWNJdY71cY9ujCh3UR/kC+g8U/2+QLYEJETC+GnOns+Z/u4twugxnb8m5W6exjaLmY800BtMhQG0zl3Z82VWtltMkKYeZi/Po74HCTK6wdkLUl5k/QAh9DJ2HW6gnd3upTxlK9kkyrnztT5UOR8WCmgTr/2A3vr7ve3J9UdQii02x/Hqn0m3/qfe8gmgXRGUl4SZ1InEIdlAa89DlxfgUsfMZmBSYU8zIgsBgHIXTojR21MA4hbSidPXeEYZeYaR5Yceo5Ygw6ucv5ZTg0EgCCYPXvKby/nsn/YcGiIkbP8hPfp1fylHrROWZkHVK1i3sWX0Q0+qw7lP6f4/B8S7f3aS35t8u2exzTQ3HLUMHmF9B6YiRJwDss+6A4ThdV28kbOwPd8XgmoPqwe216TYoWXHOgCEbwvYQajLXnE5cg80SDGhO6OtJFupvanKAqwRNsFTtxfBdV6BFlhQCpcKSLFlZsHaarrwD6F1D/LSu5XEMLqhs6+5OI0e5/zlXmFSX+gJiBRbTtPdPsg7NUXvOQhC6B2pbVocymP/2qHO8hYTKTZpkWeB87W12637mPAEQFwg1zbOmjwAAQ5W8N+GvU/qg89KnBSP/9DXVQ6YHtNHNp8FBJoZWgM2zTxq3yYDNKF+kG0lyXTnJhAD0cRmls09QBW6Em+NMiTZ9ufJXW6c5l4Xr4btjyJMQOj9z4JgWoGQ4WOtaR+KHYSRg1oHV3nwqyAQM3+vKgjZ/aTbv9ZcaHUXIOoMTSShlO1vAs2fs8yTIasjqLLxbvceSKQVV/tZn4TOrpcCUrmXZrOnOTepC0dyehcaotjO1zgtqhSb7mGMboDk/JWuNZMhfkkpL4F0PKFFySzAPH89G+YAKXEiYYMHvyphzOaUVjDtKcyI5R0QKLb08JfdjVAVGSDlrHxaZHg52EzzMAQElw+6BBUJBKwOchWTFaodgtYMCm69UjxqpElPn6NmwmoShGz+KyB19grIPKtRZACJsvmNULjbIWO3gtMCTGxO3IYrryBMkBqQqKcuewxY3QMhcZvTF0BwdRdswC5nL2EAgmx74NBXsB1wbggTdj4CUsqLQH4v/49gkGIbLEHqmz+RW2XYFgJCKeXFDOUV1sdg0Ae/YNeEwaXsTqFLYDP6NMoAUiI1SHUrw/ZS9vWuwwTFT64077LUqwdSXYKFoBAkjGXnWwUlmmOQnohJuf0OCIrEza6FlPecCZy9BsLrQFSpScodUKW6BAbvE1BuZw3Qxjn3Qejhr2fzdZTrFATueKcQchMwB3YkVzJSiHWWJXT/8y5jaRkmH0Kx108D+8tiAIL1EVhbVwYuXocqDJerKoNHfSeanUGC1Pnrjs+wQizVMHws65+JPVS2v4X1sSdQ1Lqcta+p/kMZyOiGlfdACuuBRpJpKVvf5NNiWk5T7mSQuxVZLb53+IG77wyOATZ4hy5JEQZp9yYBMp7/nu6fadlCCsTeQhuZvBekSKHT57PMg7OXpbzoisI6Q9gS5I5b1AYyaFUxCDHSTU1dezeKBOfzD7sfzzVCAMH6EKlloY/ex8WSvil1fb0sQBVbEHVWfanJj1CxTLYMQLoukioj4XMMH6Xuf8511MP6PLR2hElCaUdlpm8lQCeWMj9S2bOkAGpx46+0h2I25P0wJkSg0NRRz4PO2MClkFJMbBnYmI5rPCKkCz34tdwVQFvW/p4pJ7o6QJp6LGXxhoyeEETXNSCgsvmN3P8/kEMcImUYvQMKlNvwNwIAffDL7djyqyVoQhzz5CuwbB+ygxKzBhm/y6kS0gppSUPuxKHb9W1cy8uuRKQCNJ77FKxEWCyPolw6NJrTF80Ad4ebzMRA5PIWRLjyRI7e+98zrT/drLFMczNDcwqQlvNTRefNJ5DxwndZNDvsfkIIMIl3FCfi2PKGgCIYjNma3jRuH8SRSOVKxxRTcyrRC4j9rEUbldUchwBAqfZceJBn8vh33Oe2b8UNoCEStOHRl0HKxc+ARJrmZjK+aak12GB5S9pKOViR9zmIJWuj1seAeDOWLKYWIrbCNu8aHyoPZGkDUDY/AFI23mmHkD74FYQhV3egilDm1i6UOAES60PoFCDTPDMmKqQSRKQF63tA8EQjCSTOXpYwBKnLfRtOvPz9gKUJ6a3iBCBFa3KF8VMAssrL1pi9Sqx8h9qNhO5MiIDk4jasxRaEusLBr5Arz6WBYMr6V4EB2LA+ZJudYZLNb0BaAtbvgagumoz5bRd3gMY2IFcPpDrnggfY4S3VRTG0tlRoFj5CJhTbnmPSlZ1tNJ5aMicvVggbzknHFUChYnBNj7+I+n7G9kcPYIKwDiK2g7oeRzXSKSAyfIzTF7NHRaiaMQQCuvSJsjIqj2RGnb0CAIh88AVoAwv/kD4Sl0DE85+CrqBzTp8HE5RtyyaBQhd88AUZPwmPjTMLXruIFayUXGuniWbODugcpMQBQBleEwiQqFOfJSkA6sEvdoqIKC7/CZBSbnL+sozfDRGefEUGV9jM0Wo3KGSA+gCGQkirPGAyTY3KA+kUaQGtXc26WmFnXpOw0jUQVL3/ec9T+CNKMegWWnWXVRPVt7AtNMn6BG6OCVeH0NQSjoLqfHa6AL0G1bHfyzvtYeQ4fFKKjf9Ph93/m8/DOoBFulI277hJKfba1JEQsv1Nzt88esLN2hf/K58a3ydGaJDAul3sDPcwU8imsQHI+oCro1xO0xrmAIKUe2LfFdJI2rxmt/HhgWY/ShwiTjh/hWGIOM6Wr/DoS7LxLoQKUkCX1JVOnwcUi7s2YMsmdptEc/8iY+doTlHuoZkjjvLAFI2Vf4DTZxEikBspgiKDnG60aEwBKaTYAYDqKnQhxW568x9Kec59YteJbUbKAmJVz5RphVw8gk3NdvfEZ9KAy6v7IMjG5zD5tEu7mrZS+59D/QCq+uAXBETXQsfLE5kWIEUG0JTbD/t24uqAad5qQBk+Aho8x/NqYffjIOMjf04yxFe2v9nBa8v7PiFuC8NqUXJ0q0JzClqq0reZvvkT/vLagEmGTwCEWNc/AEpdQAKKHT+Yl3fd4Ei1sJa4CZ3bqcB0KtVVgSAUlt+VYhsUpgVW92wJiht/mce/CZAnv52ji4ADZYm0bDtEsTkGo6+aX9MACcU5pDmlxODaGrRHChneAEyhiKcMQTbHIJnMGyv8nODKfdzpCyKBVnNvSieduEPZLLs1taM2TMAkxcX46J+31Ql735H78Vm/xWW3lFZ3RMNqIZz7DmEudmfD42dsjeLjfwESsLoLMpz7ttxzU8OF7/ZGloxc3kObHWQDksu7tJCjGXbFDgiEoUd3CTQzAwdkuRIZXgUJhuw5QSwRwwaGx4HrCvfdQSBCTITyJIfSHehQwcJI3gKBeSMQSDK4DBCaxK0Q6NFvGCRKfCktLRUlbBqcMzvfasEJ3f983pje+RS08LoNJgLk8naOrxLOdgeR0kUdlYye8MOYDVBapsIsKvNDOH+dnhwNiJN8DhWsD8L2x/KRHJo3fwKgYVQ5fdYLJVykA0gZXAaJNKeuIJGr+87jEip/hbSUOMran4SES5/pwf5TZ7qpBeQIiJR7LLbbBlOQSD2V0RNgW0rkmzSLnPamgrL1QQBOjlRsrfdwg0gpjtiHfd2hiNbgOW62mpP18f8/p97/g8/DqgN+/oftbzbR2cBp69IgIrL5DTx+pp9ckfENzl4EYOrGUyOhEq1ZbIgMwTmbGWKJtEQcM80FRBiCi7NPKHe9NklCl+Yqz2F1j2+XtZNih82hC7CbUfbtKieMmXMScOFwcAekukDHTwKAxBG1We/NEHKzW/VHuK0/kXKP89cAr3GUYsxmBgBhJKxJqydO+SZtyV2DtRvZ9BVAJCgbT/L0OQAoxmgWMrjI5sS1VS+DEi9/Jt3+x2tEuwLICFwijtDM20PbZzYUXUsWH7AilAKhlSfa+wZzg9TffXAF9b6EAXXmBEyeg4dUe2yma1WJXT+o3moWm7lT/VvzOu2cDLDWLysAKuPHOHsVcQyuMhQI3cjt1YaPYvEaQtG/ABvvwvQ5ByVoaomFZXiVi1u2xpmb7C0NAGDF042UOxDh6oHPsAUG0qJ7CgAJTmrmWUBLheabSwEkGT3J2dcQhgYu6yTEk6YVuECXT82z5s3MlZkDGvAODestQCroChJzCxB6i4i1GbZVG3YsMfaU4XUsXgcQqnPaTKHLNSzF2Rr03oqGUrRmfwBnk3aelHZJs4ptQFAQbZlplxyVcper/bMPskrTtS3S+8QR4obDnuMWdNpL8Z79Qi6yBwAZPcb562fyzfHS96U7P4ViG5YBDRFwZviw81E9/KK9tSEkcqIUnoZvH+g9Uc7k3aWVBPuBFBN6g0W6DDDPgwl2u02KCZpTAB1LeRiBc4Qh0gpQDK9j8UZeZbXr45XvT2/+bwDCuU/o/i9mVnPC5aetaM+1tt2HXYnt9kd49CVX42sk+bni/Cwjff60YwaAKHFInSK7WtJ7hD9OmGFfHrVCHFv0Li9eW9+fZ+rtWoaUT//w11UO2OdKKS0axSLAFkQloeDRMwCgyTprhtFjnL6QLc2YUdPieLn6OFz5DOtTMKFZkEQz85q5NIfSsEJdge/qAKAU29BEK3xUleU9mBvcVaO6EcrmEBSSErag2qX0tCvsY30sRn4WJx4PtxNqeVesghCA2Z5ecpdk9GT7dTDlMoBsGNYnsCQZSQtnJbq+1kW4+K8BCm3ihe+W8pwx/wHIdcYiG+9pxw8J1Jq6hDY4fR6W6JUxqFzcdcC5mfiTd4KUMEpv/pQZlTK4ZmkSYQx7fxiaUJ+6QJNoCYbSSjY/kN9FyISNp8XeztxHSzSmFdhI66TWh0gr1seeIY4jpiUoIgWX++aqyvgJr2TwQswgUkl5zksJm1NrCyrFtm02d15tSunQFSm2QtwCKdVlsUDf/A0QaKZIde6+bjQ6ba6IYoo1NSK5TEUiTn/Pg2arI6cRIIDA+c2MDFAP6nb0T8hVLqWnEusjLh/4LogTNFPUUw+501L4cDqqXNApxqinKaf9aqhw+hIICKENpGLdBuIUqs4uSXZYCgBkGFy3puWibRyPbKYyumHBCfsvXvpjkAoxl0KSSD3qR/svjCEFCYRqLRBSH9kC6eqBhGHO0eZvWQikurIWOLW/p8R20tJKCBST3hy2PE2Waxyaix+2P0y2ZaZA3BTneolc7dsLFk/8kAVUBAHDx3N6u306emG5Bst7riuaEw9FysDC+7L1jcKsASxsXl0CCYmcvdIVYdNN+3T7H7moixXdtil58PhfyOAiSKRa4gShYn1oOGS6YyeAiETbIN6I2v2W0I1WVZSgsj7ONfpjQNqSdGhiWnk9rom3FTRSpO3NnGZQ68ecUJ132rV2qpsFIHrrJ23kev8LsNoNrzJ6F5spJIIBUnrtJbO+ZfZ8CNl8Lw+/CKqMn4I20IUHllsBoNeJhJ2PwsjpCMhQQNRTCVGIMLwmEticQoFiF6Qw471NdK//GRgyv2P+grVVBrV4x3/ZV+/+UNt65nybT78mGw/j87BQ0F/9L1qwn+x+Ew+/KAyUbGMSsnGDsxcRKlSXsXjNwyPu6NhtAsRKvuhWmDtYVupTQ3JvV1SG0Q9736IHvwY0HXsUFdKySbTJ2tzHsByhacAGcQAAXQsmO9KA1n0IxgvT87JbS127hjDtLyGQ7Q/y6LecE4eU4SUu7kAEccPSSyBRbIgu6RRC7ff96VLssjno/SS7KQ5f9Q4NMrgEGXLxarj2p/SNfwAxp9kwhEfmuflo40i0JhuJG0ynsvE0p8+fNfkJIPM9lefQHGfgZSaVdXDjhreyELiZAlgtb56uGQQyeTemL5K580ScQOcyeTdPn3fEaZyQCboCk6PErUaq4+sBGLx4RtaQq2uecA4hdNENpfPhFTuoHwCQ0XWavd/BfQkAW+/H8TMAEQZIy/wi3ULL1jfw+FlPDHfPDYgjAdgi823gV/6k3v5JoJDxU5z9HrTF95rStNRM3U25VU34YbPm+fmchwl0DhiTcJC29Ybf2W7b0XjFx//j9MrfyoFTQEQGl7i4g+oc6vv5pQRBoIrBHqxjueTIim09nHnZ9b+4nPY2gv8piJXV0Mv4BqcvZUZYIETfj0wIQ4FCBt440uQntASE7f37LeqsAIEo9pBOvW6HCQLEgRX4SbnH5hStsDFHvlBKtcv6AGwEcAXY50q0HDASQgVVSNPb1AKBjJ/g9GXEAXQBCjZuYPYSwshazUt1nvU+whA6b+m3uugXnYoL5SaaE4h4P0cQcYJmGvb+sB78sg3GG2cgH2ZWh2338WjQBDozNk4Q3qUYmvcyIBFS5tgDEYdIC6BArJBmrhhNDsn49F9NL/4I0hTFFprjDkne7SxxsVxvlOn3GV3H/CYkSxoo5Q5XhwhBwpjNtOsDZhuq2DBeAVi0rDwv9T7KC1zdQ9ss2SUtbwRT4HBaARc7K6zw21j7MlNKAxle5+wFU44Es58tAOTct3L/C74isQ0CDYAVRIqvMw84XPl+kQJEfOdf5cFvQApsvhsQh5jGgcMj0wrz10FBc+q0JkBefAUCVLqfuP+3yvyClDSHintCEH3wS2ADGWRvIGN5mjliCRqaBn76jh5HPfP6EDYyfiybQsynnWTBCpnngeHKnxTT6cH4tiBxLFZUXu4BQNy084+Hv4XqYk7UgQujmDanXCQMAaA5hQGAW3S3WWoAKM5aQPqdnb9egREgKHcteMDFHc5fRdzUN/5nGLeLElRUF/00PPcd/iJp7uWhk/cA4Onzfty2tvz4HQB8BwKoH2RjXzOPTzZgWyJ1Atr4BjN3GXDmRQpPnqPR4mgDBjQn0MTjZzM6DGxOw4Xv9ACsxTDtlbtcY5DJO+3swejxntFqT5fw6J+zwRMRiJBCEBDGAHzMRoIogeYQQ8yFkvENf/fj381Y4rbDed6KVIA8/h03fZjPEgJUGVxlM0UYdwwPYai3/qFh13n6XC63yAMWyuR90BoyBOANNM2ZyJ4rCImWVxMoZXAZOstcCoREumAPXEqt3ruleKOkl/+Wg94REAegcn4bAJpj0FQnsfkehwIsH0i5kxVcmW+ieavS21G09mj/GCYhJeIAcQJANr8hz5jAar5h2T5xt96LSgFdUFdMxyAkDP2Oyp52amNUcHffFAKB+kGPugQg0CwFAMnVQYYl23KojK55Xbghg7Y+QON8DcZlprLxtJ/TZv+lFdj46pCQQooNSMn5TcB4iWPY/RimL4JAkzsHWAlDmoHS0m9lBo8A0Bu1GSeUEqw965mmAHn0m+08U6qMMYaMrmZtQBk/mgU+AQUN4gvJ7ik4fQlSASKDawiTvE8DmjkIYfLRaoMw8Nkm0vM/jGaKwXmP2TpwJ5vsrWsYNy105ONH8DYwszdAj/MJogyuc3UICBRsTl0XATJ6BDIAAlC1Wi5c/uNY3qM2mLwLbCQMZHAZDLBkCuCxik7ScuiUZDMFRC78qyCZ5mjdawqnL0hxDk5YbczzYzcjjr8CiFHT0NjLCae51YdHhfWwPODn/goG17C65QYm25TJGQMfaz85/wnc/4LfZHiZi9sAMHpEFnfIlZtp1qnw/LeF7Y+kl340l5wGGG6oJVzNrynDa1y+6ZaUVNAVik0ZXObsxS4bF8dmzGLrA2HrvfrG/wKBjJ7g7OXea2Xz0OtWASBc+E69/1mQUp3jar9tBCabT/LkxX/ZPAUZXeW8bfiVKbq6PND6rG48ycVNpEXY+gY9/t2zORhBuPxH9fbPohhjcAWnz7e+oMCafAawQdww3xQkBhexvJvbeQriAG3XICRvz2IbPY5RTri4h9K8qNzlze5pSd9e12uIpZoK3/C6xPgRzF73fEwcIuW6QwmgSjFm07ZJN7M3SKi8X29L0Wz5JADVDhZ3XGWwPRNiJjgDAKl2WB8imtHt8xkf/7Pplb/jF0SjM2wAIAwgRVdl3j7Ok7KF518lEkGKzcxs3PcaczHx+FE0U4lbnL8MAKNrmN/0FWqjCJ7Fz+y41R5W+2vZ0DwJACV6ytDuAQwEjQU+Xcj9tsEnJJReOG4kRxY08jsTIKoLqPf9hO6VMhvlb1Z2OCOEMnmSpy/a46Tc4+pBuPRdeudn/dej61jcygZrO3tWRLtEHAKCNEe1J9UeTw2l33XDDNf+Tb35E040Zpny9ZVA3ID3XYdXIXcek3aX5dvKxpOcvrie7ROAEkpq/X9x955Bt2VneeDzrrX3PunL4ebUuVvdLamVkAQMloSRBEIwGAYjjOwJHoqCwhgoMNgDAy5wgcFAQQ2GmWJmjD2FCzMIyjJRYFBCkVar1el2un3z/fL3nbTDWs/8eN+1z7kNLv8Z+odOqVTSd8/ZYYV3veF5n0cG96I5ZHXLxn+2kNLyG9yFydWEK4YAsvmOuPUhSFKqJiFefMFmnNoQmHIgIn6AzgkOL6aFkYONrH4pdz8ye+t8JYFUciBKcYzVDT0qpHsS5XUqnMp3FUyO5VfL0dNGOaCjbKE/pNhgtTVHtiwJupUmN18W+DmmARHfYxjbW/cvYHrNPOAWxhFr++9sUXyP1a3bDJJ4MPr7fyw89SO2QzW6zZdRH+C/9JnXP00PMp/+nSk32//P56wKIQ7Zcmt7pX+B40tzCRnOMUj/dRZUBHTWyi8JZ2AbJ2YP/PNXJgJ+pQ7gJ/4ZfMfOxVgDqrBbIutIqJF12YyRLYINwkTtkaVWdV3eTtEuxTqrXQDu2FfGW3+UOiWS7oLriMvZjDQl6x/45+HJH5lJn9pUeCBIvkRtLAFl8T4ePZ1mrpDuJqfXRTxTeJ2iuii905xcc6e+MV77Dynplj75kkEGGMV3ka+x3kVswMYowttX8AP6HrRYBaB3AZMXkQ2kfycPP6/fAEPKak79Xd8Tnvs5AEYyLrmVvmZJVwE4Sz3pn1xOPfNEwOiOvyve+F1b4r2zmFxOydXU+9/CdGdi8revXMmMSdFlszhsBllKnAC3/eqvrP1iFdXey7ffbVN8Oy2+XaAFTThbSO0jacJKiuSsCETViNMrmIjs/OUEIPJF1EdwXXfia+K130qPEdE7g8mV9gkVbSfZIjUyaN/XCCXMaigmS4o1VvsJf0STmuZE/IpRbMbkakDg+6ppLcWaLmnAafVfnGOco8QTL0sP8uDzANE9KdU+4wSK6uysodw2P0mn0qQpgIW7MJzz/FwbXosBmvrnOb0KRjt2JDMAne9bwwzQel3MVzC9AUSRnJq6bDPPtw2tyMobuP/ZtCQAxhm/CjRT2phftXA/UPPomdsWibkIALS1byKDuzh81p3+73DwaDz6wqxs1C5avb7G5XYg9eysUqf8NiYfpBdE4kV7y5lZAAAgAElEQVSBqYvO82MYDC0RsNuanHvfwV0YP5/Gk5AcEmfzy4SoMiyhg+9YeSVRjsjaW7j7MRMMMM8ys4w0WrFeivMMQZZfy8NH3cbb4/afqHmU7hlOr9qXsx6a8W0jYOODec9Mik2GEcI47Z0IiepC/XVbdR3Wj6ALQSA0UzZzy3DbsffXf3QkC6sVzk67mZOUvmhdlO1SAJIHoN1irmcPD0FnA+UWANn4ClqoJlZNWHuzDJ9htTeDf7a20ncNV9iiWaX1FPXhxL/qx7+oUtAgEUuESWrPoimix4aI1l4WRggTFJvQvJASC1T7AKzlRplIgUTmHuPNPwIJCekwEOgyq4+svAQfnvxf4Dq0xlCkCDu4E+9lfZT+Ah49PRdyVZxcBSODNg8UkExcV2EsmoCKt34PSAUk37fXrA8lW4YfAI5hyuk1hCnYQHKzBb2zAOAHDEPECcTDL0KAyYsA0Ix4+PmUSwygAv0nAMJz/8qWrGbVinWQ7vQ3tkRrNsyjpwGYVZIuNWizkS/jtQ+gJR+fXJZiPW0czfPQHAXyNppMSdh9vwDWiZ8viLVqaHotJNyNJpOj5Kv2GHaFNgnhUKnu5IzoAyLWUQAgGwhb511Xjpo2D10GDEbx3zmtS0hW34Rs1Z6ZAWjEr85qxhCwEpdD8/xICczeWVRHABEm8dpvWceOXwQhk6uJrYKgtSWwOULvDIpVxCaxj7XP70Gg3AKE9V6q4CbChDBCCEnjIR0bJBhkcIeOCasDkMgWDVsnYLLjsvomkRwx8OBztnqnN0y2hREIUOUSVSQ0QtYagHRP4uhZaRcnYKycaWYF4OhFxEYkYwxgY5UwEs1wLnVEWXyYYYzypm4ispJsBb6DfAVO6205AFnWPhBw91OJhChacbrek3zF9pf0wFq6x8GaR49z+OzsXNRB1QBdvcP6CLHk0ROQguVWPHxc+ndYCRxwx98NBvi+ZUHVoHml5k9JlGCmxkZPYDVBUBYfBGtLSypiMbl67vh71YsyAXkoH58oYYtb+3KgFYukO/WNNuBBAJHucVveriPADPSr8Hvfb+vx3P0YANDN6g5aBUv9wToyelTx4FFA4vaHABARkiWBEACEWtHlR2RwB8Sn1gzxd343CPiBZlZZ3UIYpabtlLfP19JWzW2T5suSLaLaNlBY55gZCsBMGTJAYOwOdgzLwr16QSk2RN9CPPKlVEtK3ZjKdmn9VECkrH85CKu/5OtWGYFI7zTgpHsSLrdnDiNki4BIZ11xc9K/g9t/DsJoLEMAA3Y+yvoIrN2Zb0lbnuZFhQliRAyi4vTiESF+Qbpn1GTxi48LWrqnDEjsOogBdIknuUGWmJ6sCrWFWEqMnF6z75CsdwFvx1KxMUvv6Mia6aYaPjbJd/Z9O05iifoAK6826RvnQcatD81QhcUGIOL7EKWV15gms3WsEqdW/QqgQDIZ3DNXVB5bLOJ6rHZRH84RUzMZFICQ+lBOfoNZt2YERjSHoCBfAZx0jkOTw3H++IH+Nv2lAcnJdUDi1d80VCeQ0Mg6p7mcfC/iBEpC4rrKtK7PLwv36VOx3LZqbmiSyUuwI70j21J0lGJDaZv8Az+mD0bbEmo7xMTdiFQJO7Cdplmd9uC3R1U8USYq516csluSqIcUIl9zJ78ehAwu2K9ijdTQqVuR1TbgIcLdT6R+UNpl6sQsRoDBbb6DoUKY2E7Ues/ksu1/LWAr4ro5BOjOvR/OwaUzALClMr6McheE9C/Yip1VoJkQp3QbX2GEhYCdtYD0zsFonphYePrc/xzIWepeXXtGxCi9s+IHiJG7n6QW6tLrzPoIdIWk/yFZ6uFmEJpFZjPXdW0cQDkYIXmqRJChAubrfISIW32t+UYUHj4GUlbeYBtKCqpwb7WHoJ5iJStv4t5n4ArlfLCx1edx3vwYRrCRqD2p10AHOMRGFu6ftSHYD4Msvgr5ijYLgEAYYu/jAOT4V7fOQbzxQWRL7vi7MbkCpFJx0/JpR0gOoR0weo4pULYegY6HXwDSTrQXBxhlcHfc+wQISIbeWfWWoNXBWIEh7vw5pCNONdwQr/4mSI4vATUkg1+wldaUtOkmkBqOF19lpEO2O9pkkoakrYqUN58sX58x5zPa8eb7xuU+a98gSBw9y+Fz2uOuSzQ8+wsAzclA0rZCBog7/h49Gjm8iBjcnd9lGCUS1T7rQ5GOdq/ZvKdke4oEopkLnehsgUdP63Oy3KayBsUg3dOzDSKAWJlf+hew8KACrLj954DayQzllhpMkYLjl8DI0UsIlSw+bHutPgQjp9sg4XocPQ/XBRRpn2JrEmEikseX/q21R+veiam/DkSxDmSIlfROsjni5LJ+QZYe+i+eZP9/f16pFPTj/xTQzFIp/fOcXGo9TQgM3jb3C92xShiLzglMr4kryESKBMB1pHeGo5Rek9zQuQREZHAvh0+l6wtcDwhoSrOns5zMvOarZj+ymdysIBU+9eOAiOIYqluzX/guQ2Xl0tvafFPdrm0MfVn/WcrxyuA8Ry+l32ZAjWIN9Z47+23x8r+1PMnLnhOQhbs5fFb6F6g8OyKQXFzXmKpCPWv21H81ByUNr09KosUGqu3bU8Fz9chZL+ncPwFwXWHgfGezQHpnOb4Ml4G6qgLyFdQHKacUUlvk3PU6myy3LT2+9tao0YClxVrER8d2O+jW3hJ3P45iE81w1m6rz1BsIJaJunluvmwuRHx/xjCnyAA/QDh6WeFzbpTaKwgAd9d3xud+af7h0T1hHJzQOPWNKG9x/FIKRtODzV/W9xGnYESxjBgRxpIvsdpPN8+kd4KT6/BdQ4e+fN4FLjeGwlnt4fb9m2AH6Q1yxIBiEdUhimXUYyDMVfQBEeRrqHZ0WUr3JKc3ZOEujp7Df8UyaBA5X5J/2TJLQw3AD2Ad8+3fW9pninhl/ZhtELMJAQCKVcQpmklC77t0sv6VB8oWGaYQSrbCaluvI6tvxN6nOVsVcwUICLrHUd60kxt/1SbMJbpBwLnjXxl3PoxmAufhB6iHEG9P20L2WvD//Ei0Vfz5vebafoHcLEZMjDeSiV9gc5jcLlhZZP4tdEDUwgjAHKiQL0u+zMlLMwM7e6k55oB8CdUeXMfS75oXmTkBjbiuJSm1cSNxzrtz3xZf+nUNV2aAf71RZwPlzowQWz/5EmplWY9pPaTOH5Az5IpXCKuIUFOGsYKIv/APwwu/Cgj8AoKC5EX7182vXXqAh09bmQOwXv/ucWsqa18fAkZ/93eHZ39B8mWKR7UzK6jPFqQBWbKHfvKLLAUN0HoBOboEKeTUN9jSiobelM6mLNxjnbXGTQPEiHILkhNJN0oT0aHi8DkQFlrFGhGIEX4RMXL4NADzDSOlGaOpUqUdoLi7vkvdTGsX1ieMAfmSCWPRCGRSxGATDFO5tzeyFjqDFEYQiRsvubcmuwHJVyym1DtqayCEo5fSbyPQiGT6k3jp3yAqF5Ikt/d4u6p5dBEExy/YwEai2IDvohkjlLaHzaFPqdTeGUA9j5QCigHTWy/3oJn4jPJFKzOT7sw3pVNQib1KKoeX6wGaw6G9CB1iQzSAoNqHKi/FRopVU9bTB/Y9UJTjF/kKwLj7MXvgpYcE2jXUkWyApkwQaMT9z4BAtSWrr1P74jbfjhhk822ottEM0T2dKHAh3ZOy8kiKbIS1tvMXglxHW4zSz/qY50LJ9j+pB4OMz/0SVGlKOsj6ybplSL0l1IJTvpTSKm1mgpKvgpTl16IZiWJBy31DgFeHth6igDVHLyE2CFOIGLbILiIgUWwilNZqjJTD9x1o2ZvpXJEZLxhiJSSaEoyo9sEqdaunAl6kVIc245pZIXl0USxjobWJ28m64QBxZ74JUcBGNr7Crhbn3xrSuwOS2Z5tjkCAPtlEZ0cDtWG9UV1O6d8pmiyJTNlgoNxDM4X4pGeayPpTZkWyVduM9RFihVCbdS5WECN3PsEkxgjJtN9auidBwueY3HBn/96sd1ZjRDixKdYbuTZVxq0/RSgtjK4OACJWItk8I5hIB5FzqSkAWmBG8ucEoCw/jJDwz7FCDKmGYlD2VMtIIcf4itold+rrQYq1SAGddbMAqo5VH3H80ixOJQEntsejbb1YW+gcJggNQoMIRMrSQ0jSvCbA7DxYQ3IpTEw3vvTrIOByNkP4AfzAbb5DuidBSLlnsZPFoAIC1aEBJijw/Tlro/KUwZpC8yUNNhhqxGjs4vTh+V/Vta1xMsRJ/w6GpB5N4OAJywkJAMfRiyBQ7iWRQQBAVB7iGC7+PBilWEe5DcnQTGzjqN2zIQqpD+2V+LxSB7Dvpht2pVhHKHn1t3QLyuA8QgXxnG7x6BlW20CUzsYsLRMrxAphFtnIya8FonElSjo5NGIIw6Q8gzSO6m5FY2pklGwQn/vXWj1lm10BIA7llm0wAKBdwfAg6m9mMrgDpH/oJ+xx1Ou3PiWg3k8udnL3ICBZ7YvLgaBYR3/v9+u7JHSreceMdRIATu6b+RxKRMdZV760txaIx+Sq1rpk6UGQcIXSRyffnxhfth8S4jqwOrEuawEgrrB3BGThAfHL7ezFK//BXsfWtEAZd5XoMQa4jlWJ0LrSBIj60J6y2kOkPUlnE80Y4qR3Bogod2Xl9fbKzvHgc1RkE8h66E59dTvKCA1A5Kvc/ohObLz1IQh460/MTRm/lBxtcHqNB0+I78vaG812SwGWTIGXOfhaiHIpK6WP4QtbXWY0CSJlsAPqEUBMbyJWyAbJM9tBtYfqcKbJYw0kooIw3P9LW2/ioC1S+SrYWOTkO5KvSfckQMQaxYmk5WwzMPvv1qxr21IzTYgwNakJmqfuphtg9Q2IU7f59jkPg+mlCAhZuXN/z05uUBbuBsBUrhOXmW3K+ml1BTDG6x8EIijc/rOUqKcmG3TCWd1EDAZ4JmVwhzhdfgIESC6DOyBADOhsAoLOJkfP6UCLQqb1CfMlHHu7eaJpffoH/lnaX5H1rsDDZeK72qIq0gOAci/t45S/jbWCZjm5ClfoCMdLv25j63IwonMSJOuRbQ0SMMwBBAxVsuzBn3+/VcTDFFCgg/JSTQDIwt2ppRugVqloDYG+B4L7jwFgTIGB76F32s4AhUSIwBWWrYntxDFe/W24nJb7zTC+bEZGEhbVApsUhiovbLuJtF5WqQoWZP2tNnEADx+fRSm+D4Ch8a/6XxFrji+L7wGEX0C2iFDJ6iNKER9v/bHCYsgGMSa2WkDoTn1tWsMivVNYfEDdAtn4MgDu7N8FYJR81W46R2d98KYKwgjQ0LIxINaI05b+3awXCeRgMD3WWPqHfhKAltskX7MJEg8IQym9Uwn8TOlfsAA9kZnLbXxef7OfV+oAbgtRYUJjnCEYkS1yeMl8wNZhIS0vx2TFWg/F9xArXv3t5HFbz5Zbf0uiRA+gB4GVN8rKa5OzH9E7x/KWXpPVgfINCYlmlDRNXaLNSsU80Og+1LjDCIF59AzI8MSPp4BAq2suLaB5jc/MXiFfRmwYyhQi+PDMvwITomrhHnvyWQdbMlWSI1+bc2atDCOdk626DqDy4GC1D4IHj4NEmKIZAx6+687/ffum64PRP/SThj5zPUSK72rJmaE034UO06ucXIZkcF07YqEDLtI7BUbElu/aCQAGTm+CQEgETNqbGGvEACnmuNfVvae4gpMbIJEtcffTaXk0iSo8oJmCjFc/CEKQI18GG0iGcicNBS0W0Z3ZLipdFTFg8W42Q+58ymiMwhSE+MVUysq1I1n6F2ThgTRxhIaMuhi6J43rquViCzXgQUmQkNZxpj///lntPxvAtn2n7RoHgaZEbLQAIS4HRFsz0YxYbtvWgMckkRWT1vdMYnoLpLvw36fKn46VmGxXTOdrrCRbspxKM+Tep0Hw1odAoMXNke703wGjACDii/8OpH/wx2Gl2ZlTy2Yq6vPVY7fxFVa0ptEqyeKDiBHSme1TbajtnUNiqUMMcAWHz9H2whoixHU5fM7imOktRZaBRL4OgGykPQmqfdz4Y+mdBaP0zuphEy7+gmQDhAoUIKNzCDWbMWKE5Ky2rcpuOzrKyuvmll8GEqESUgZ3zp5cVdGKpTSJCQal+EQzRxbli++HF/+NTetMnkglATwAHj2jfFXJD/Noq+z10K4jXnrnETU+jm75NSAMY+gKxJhI+pIv4nuQzL/qR5EtGQ9UK6/CIARilHxNlJDZcvWUlddBJdj9QPRpW+wLwZ2PJmsD+CUM7jZ/rp6CdBf+h/D4j6i7Rg0MmpGVYHc/a1lkfSndJqKaTkqKELnzCVl9M9Thc13sf0Yzf9z6MMh4+TdmK018ypbVkieVqs7J2fXTLuPoJSnWBMTC/XAd8V1kG+1QaPJDOsfD538YJIYX52SUxIL7yWWOrwJOjZI7/g5NyCE2UL7Y+EUHwkrbHnBd0ZtSgEyqQ1iODjNmAwpChRgxx82WNkmQfBl+EYpnkRz9c4gxbn/M+vpJxKksPYSdv+Dup+xQl0Jza4mIzholCUC6thzVISLdufdBcnfq66y+pdlaTYu1/exqSjrHZvSTTQXCbb49oRIIsNXSku7Z2/KEysEJL/kKQB48ada8Gdpm1oqLBjTlDpppGhnALwCO02sIpT1PErcAHFwB8e74O0Ea7rGZxBf+TxuHZggyPPZD9qt6CILGd8jkvghiw/oAkQg18hVxXYE3UyIKAhfpn+X4MsRJJGNAaJRwEb0zyAZ6vqZQDwiluB5I6Z8HwekuCMYaYepOvAvVAUh34R8IEvODKkii3XgkAso9//C/mLH6RSIbIAa43pzsnUoNpgb/vc+jdwbGui4WedQHdvFmqhwanNzgweMpdKApZKidZYZ6ZJ4ECcKd+1bzA5QoZvGuFrIXXvx1sLG7V4cIlUQvmko1TcBk+BSwWu4hxlkpU/umkmXEwgPqW/DgCRCJZxHxhV9T5kL/0E+oVWJL60/I5tvFL7Dc1/0FOMQgyAmtFAQ7llwnXv5NEIwNxEmxBkh47IcAotZFCOkcg+sgNqSxbsVb/1kWH5TBXSCkfx5wPHwCyMyHoBNNUGeLHF1KYxjh+6ZfpPXOag+MnG7J8qtAGLGGYo7gML2l8nzsnkaMothmRo4uA8LhC3beVwesJ7L8GnNEQpmOWKCZgg5himLTnXg3KLL0MHc/bRPa2TRYY7HOGDl8zpLD5nA47n0uRZAVokByhMo//C8wuEda2hnTugD650GHUBkxhe5xSYql2aLZtGwZ0kmHsU52pt4qRy/YyDSTeP335+xkIYv3s5naYUxicB5NiVCFx38M01vKAOhOvRdRm5pESXVY7bCZgNGoXuG5+1mMlYR1SFKW7kesQJf69QHC1lIzxMETUqxCumCDfCm+8GuAms3WdtH8EgKhEdBUauqjuWE0c83pFgrjWOXwYkpEeRTrKapxKXCKKPdAQDpUD5s0dibxKNbdxpe1u5LTbboFHD2BZsowZrWtRh6ErL115mgSjI2/9x8hNkCWYgMFMDrLarh+eP7XUI/NilZ75hS+Up9XCIQVLv5vqTIBQA+SQjrHEadUQuaFOzi6JL1Tat9nFfuU3EeMxhwgHgzWJcyUbYuUfIlKn+ZyyXqs9iBF0ldpWf3S3RXkBUjvJCfXLAmMAi5DGEn3BCc3pLfOaij5MsKIJlUU4XsIrcp9es5iHS8jf1ckc2tc5/kZ7AHy2/pl++cwuWG5IEV6xzFCiRiMSyFUM443rfTlS6yH8H5OhQZY/1LsfBTArIKo4AInsvJ67n0mDYXJhyRJeUnM70C+hOrIOM11yStPIQBGSAbJIU57KGXtzdz9hLJpqmp6Qqt0Eabt68vCnaj2EUs2ExFQr8MgxZpJ9sLJ6kPcf2yOZZ7WNKkvHCFL98vSvfHq72BwHqNLdumFu6UZc3oTCOgcR3lzDvpEe536ULIFKsVPtTObF22L7F/g+JK4XC68n1d/W1bfGG/8floh0HYX6ayy2oekMzK9VprL29Fb9oeE3yGweCeGz8MPUmetQm3TF1rykGIJWo6dGQCRfJHNOKVAE7dAZwPlbmKjRPuyBk6BNrmO0zVaLQdBJGSOQ2P1Eez9JQDAiXOMDXyhZA5plc7WrWSLljjpnkR5I92U0j3BMEF9oFtDFu7h8CJ8F83Ens1lVtJTptgZ3Mnu4+/93nDx51JQiNtkG3QZuh4QEaqXU4K4XBhTv1YaM98zaQEk+QFjkJ0VeqR/luMrAFGsotyThXMcvWSvWayBAUsPcudjZm2U9UwIycUP2Oy3OxCsLVGsJVjfFd9nuWuTZatIp2meodZB6O757njxF+2tHRAp3WPUjrIWnJVWAUgsP4j9L1hpSwGPAkAkG7CzKb7HwyfagTE8aazh5nqX54FvnWMmQjr3SGBLK+QgEegiTpEpZaZ+K6Ev09JSfi5Orhp+0HUhbRMjbNwI5AtohrPHswkTDM5h9GKauO7tplWnOENsdB6ldxLNmFr2YoRLqlDFCqTH6Q0IknYIABG/QMGcEoOTYonVAVzH+sGU9FTSiMXY3jx7zU99UYGwOHpxlkhxHYAIFccvsdwCHYplDp8HhOPLs0oPgRjciXdb24DSxfXOmPZA95j6YrLyWnTPAimyUSoP6xKp7BDyfXQ2Z+gYUKyvI6DaA+EvvB/Ri89N9XZ6C71TnO4i1pzeYj2Shbtm2UUpQEr3pHRPIlsEiXLHHf9KC3YX77P4EnPJk1jL6huB1kOE2NUAVbQdXUKs4DPLd5VbqJPZJWXxvsQ0ktZcZ431AWDADTnxVQDhOtj+iN001DbOagRj5O6nTAyRES5DCOisW8GGqXJDojqAKBO9cZ0DRLGRcrwAGmujIrnzcc1zQpUBdXI1oMl6KbdBHj3H+pDNGAyMIYULZLltVU8E7n0OkiPWiNHSAE0pnRPWY5YvYfnBePUD7vy3YbpjVpjE0bOc3LDyRLUNyRGD9fvqqVYdgs76wqe3zKEBYTG9rszI2MTn/neWB9Tcr+sgNuI8SH/Xt7Pcgy/a+pYUayCw9uaUvYzwveT1AxDA+4d+NOGViOGLIBGmyNcswx+QQB+6Zu6Hkcsn6k3LeztWB+7cNwNi1NMaIk+34LvIWtZSbS111GfIFhKJOgExAI7rSr6pD8mjpHGy+9kU0ASGABBNOdt9AEg59z5QJFtifaT9Wv78txhWhQTAyXVU+/B91GMw8ugZIFqhkZTOMZEuQBFvmD5EWbjTljEAuPD0z4ICSTFZKHUGJVszp6GZWKnbtX1WgGQIFRbuA4juBkg58U5QlTkaS541RyCRdUEq55qqRnKkcH2i3AXIcl/LIpCM5Q6rfW5/VIpVowYiE0S5Yr0HEqqmECt0T6o+sSgSqpmy3AGIfNEc4tiAkOUHRZwJ+UHAgMj41M8nfsqIGCVf4lTbrJ07/k74AcgkzCcgcPC4nHyn7TsF2ytcNAbxHR58AYosow5sIb0TBrckAQfJ3KmvBQlXSLbE6U0gQ4zu2NttcPRhzIoGwCFOAaI5NNfBFTPyWhK982Dg6CVOr4Pk+Jr9sKkSMpGpIV6gEEht6LcQOYIBhtxMaSGdXD+YqwvUcF0Nrzm+xurASExdrsA9wLHcY72bSoRT6Z6B78H32BxK51gquxAMLPcMemY1tdrWEulOfb26e2Lqba/Q55VqQ/rcP21ZsA001EYSxTJCjTAxFEnLiDTTzMoMm6e9CvnAUDAzb8rJxpdw++NAG2sKADn1Ht74/cSOBIDobmK6lX7UQayks47qkKznWg5aEtQ5ML3k4pzxcqj5nqNOtOvd8Q/iC/+XpToTV4usvZ67n54bDCed9aRiK7MrzJinkG4hxo+hDp1radNzxAbOu7PfGF/697aaARmc5fiyPX7vNCdXpHuK0+vu+NvirT+FFKrQLr7LUsmQPRjk1Htw8DhHlwAkWTqifxJanVWHMF9GcwgSWR/GtOdk8U4eGtu7DO7k8CJ8gVCL77B1Y63RwLQxEp1NKyupb6SgJJGlB3jwhTkCLB0cvtxldi4xPLR/1BTCGYyvw2U2XPkS6lFi0yQgcuKreOMPjH8OoUXqSbHCWKEZtWHkzAE3HtNoIWOxahQiENn8Mm59WI7/Ld78s7S4aGtbx81l/tU/ER79wdlEWz+GxTvS2WC59XJ/X99ISZqMDUqQL6I+RGcd5Y4sP8TDJ82uASlLIdLdVJMqZ76GV35XaTFm4MH5MH31tdj7nP0lT2z42SLqI4ig2LS2NN+BOIT6tsyN3i7roCltMSAFrPmC4TxSCAYB6IwOtljDVLMj0djZVBxQqQrbPdtSTYnIwt0cX0qxlL2CnHoXr/3ebHnYjeZY8AC4QlxGeIvbCFm6h9MtVAezlFVK+VgHFCl5n80UhDvzdfH6fwKVqEGLF3Mkr/qo+RLCRDrHOLkm/bMsbynHu3/tT4dHfzAp4iVwJWYWSWeXkkBzgBFdZT1qwsD3Da6lMXSxgXo/AdAop7+W15NBe1kyQAqw1p4oiaDzYAm/hGak8pE2tpYaEYiH76EZARH5cgJLSlovIr0TnF4DvNF7hcrd8x3x4i/bqPseXJ5mPAKQhTu1JgU6xEky8gEgsn4S5AZEpFhluWspt0SfOVs2+kYz0UMBdGD/ycwqMgAi+UJiUsLtVD/t0siMn3WWgBQI4DSLSXNi1E9ymv6cysZbuPWR7JF/+UUVAStBv7hOWjcuUa54VAcIE3Q2gAyAaHkAcGe+wVZYbBBK6xVjRHWUDJCuYKC7wZ2/kGwJALyK2AtIbH1EKUylfwaSwXcx2bK7Ayp2xHKbsYLvycabLF7ULyiX0MKd9mXWVHS0RTkBAPxAJJPjbwcBcfGFX9eVLbEBnLgCIHc/K0sPpIgNQMTyqwG4e74LoJz/ZovJYoWFe2ZtyvpivpWRSH1WxTpi7V/1gwhNvPTv5xccxy3DsGd9AIiKrsebfwoSit5sxpy2ekoBAK/9R9PaW+IAACAASURBVI4uwXfF9wjK2iPwfYyvG+cU4M5/K2ptH3Kox7L6BlDAhkfP23Vi4PA5wGsVXK0YIEBuEyqJZ0DzkDGFFLG0c4KU7gkePK42Qop1IJ1kdBCPbNG2Z7GkqTnxCwltm3bu+AryhRl/YXUIaDNDOh5vfigF9BHi0D0BULIBqz00IynW0D+HbDBv7gHRtiJqlqzaMyIk8dz6MER488PwvRn6CYLOpj1PaNLpq49ICVM5/V74AhIhjuWWuAyucxtxIAFxaEbScm1KhvrQv/anUe5AOWEkA3OsvQn5hho1/8D3c7oHAt7xyu8YhIIBEHfqPQATGZZItoC9R9ONPKoh+hdAoD6SbBmEW3rACnVNiWYCNnrwJR4VDSsbwGC97u7/2UAPzdhwiy43UqpI+K7VaMttAGBEvpoK9g2KdaieXf+s0sciRnQ2QSJGHl2c9WgmX5DX/qDdSrL6CEyiQF1hon8GhHRPsJmmkiQA8PA51EP4HGRqx0i4xWwBxToAVhN9sHj9Dy15C3L+6CWQr8j6m+D7qA4hnpPrADl+ydAALtcZl5XXYemelu3ExhCJNMoXlueIBDKtB7EZi0bkzQig+IHxKU63JQYAUqxK5ziv/5656dJVFQGANjWppobQkI05682h5AOjndFpjSXgkXUBojlCvuTOfTPqA0BZqwSA9O8Ao0a00j2JMNUulXjxX7tz3wQAboBmYnRDiMgWQOHwRVH5CuNoEztBqUD9ABKddTCi0L6pGn4ga1/i7vj7M7h4Z8Pf+50W+BKCTCAQCY/+QALYq3/mAOE8Q3iMNpg6v1KIUcEre1JjuSJxoKAZG8rayMYzy7uECRi49VG8gp9XKgL+yx+ECKSDMELvBCY34QogSPcYx9fsez63PpOXE9An0k5JGM65oEE23sztv4A4gVj7imYgw0TVGlJgCgDonka9O89UIMUq4xSSoz6Szbem0RdbkXYSC/IF1MPbe88BcXBdhDGyAqElCbm9IqiX6h7D9JZyIMv6l3D3E0nH28FnaKYpcgK6m9KM2Eyks8xyf+4irRZCejYbk5aOuL1b61CbAyi+SyPF7crgDI+eBbRYUknvBKs9taGycIHDF+2GKsmgDXMARABv8m3zrz+rtqrrkMMJQunOfXO8+gGEUrqbrPYMTG5pDw0HBwh1UnrXS3ogNZX5HsLEv/anwqM/iOUHcPiUW39T3P+Cv++7w5M/LYzUojhS78fa67hjaQZ397fHZ381/ZNWPeapDzx8D/VIBuftWL2d/x2Y47Iw5uQIqGBZNEgBADhZuNNUBMxbd4mA2kJGd/wr49Z/tiLT/CkrAkKW7ufhk4C4s98Yr/2ObHwpb30YCFh+GPuPpSdRGcf2CZUX10qksv4m7n5yNh8zufUCrOGKGalZO1+6Topl8T3z2FwORlm+n/tfmH3R9yyNYYFFFMmxcj/3HoN4+BziUaeNoPwqlu3oCBrGaE0BkoiaCUgOn0M1NkRk4y3c+thc2JobSzCh/WmsbkK7Bmw0O8m7ovTPYuUhXvt9S436AqGGKJG1cim0TCMCENmCMTArCbPT6kM9l27RF1lEc2QBYL7AeuiOvyPe/JAOid4agEETlHg8XzLx4Nni6SBMLVWgDmVnk7FGcwihyZjCgY10j7HcMa4hmlamu/A+8+OzPpqXaYHcTuJhFVPM5fzmUiniIZnpXqSDShYusNxBGzXOOK7b5J9LzxPdma+LVz8ICNDY0WUTdLsN6J0AHafXZg82L4iSLZp+NpRx6BIA5CsintXObaXu24xJIgx5WS3cJsLuLvkS6yNLpdz2BWDhgsSS42voHgMEYWxkIJYG6CFMILlGPu7+741P/TzAZBMELs9e+woRcbxyB7CIpyKJGOB7YG31M5M6sHI66yEW7oAeEoD0z1A70IVgNiNKZZT+aTu8XQZXQNUXAEtQZAM4T20o1FMEgmwBLke17+54X7z0W4mjNZ1nviuDCzx8WnyPYQLXBRprGmFAtoh6H5ZhnsJ3Ecb+4R8Jn/9xWX6VIpll4S4ePQMA+ZKEMa0ZiSIOi/fw8Gm7nT6MgYBOcnLdds3inRZZiiDrpxr2DBMvS/fw8CKyHpoJfBex8o/8VHj0hxEb9E9jfFWyHsO0zfbcfrQkYRyIDM6j2jWSQlcAQCwhEFcwVC//oXFj5WCNXNl/5jwh30GoIQ5oZnyTIsgWUR8aXRSAfAXV3iyyRLvl2hu1vgsAmHKnBhCm4ulMAZSUbJFZH9MEBRIBCrBqzZB01ljvW6XH5eisYXITPrcovB0Q3b1m7FJ+25wbL6n7UrrHOd1Cd8MaZmzPt7xC7Us45AP0L+DgsdveRW1KPkB9NGea0wC6nilPz7j+9em8HHsrb34kUSO1d6Gc+Vpe+Y9w3hgNO+sodyE+jUC6abaAZmSYO0bJetRWZr1Rvoh6ZO/uPGIQ5xkbWX9j683cZtYFQA5WM28PhO8jTE0zQIDuJia39OHBIMUqBhe496j0T0n3WNz9rI1tvmzVWThkHYSpMR+1rpjA3f0/xWd/BRQZnMfkMiPhPPIl9M9JLHn4tDv3DfHSb85807nxAUQGp9x9/zh89gcgEXD+kZ8Oz/wKhs/OltbsTNUIMkvtYZWsPkLNE4DJF7ntCwAkX2YsEUopVhkrC6ryZTRHAiQHUQCRzirL7ZetByk2THujfwbVjibzpXuM01vS3UC+xOGLaUxSzly8Yk0RK/M8APg+ilVMrpvHaSn2iP4pidE0T8WJ77IZqmERKRjn1aUEnRWU++ZvKcKfhPcItSzcweELt+3QrIcQwArFKlS/wXcQynaZoRV08QsIo1mpAgDoNt4at//CVnv3NKZXIImVT3+ovLCMEIh0GbSQ1KCzgnInrb3Wz3AA4Hza1+3hrVW5C6x2daXJ4j1mmdsl3erKzC2d9jWz1//MF9cB/Jnvc/d+Z7z4y2Aar3wRvWPQ86Y9MHRoXAeCRKkIZAuoh3ACJMQvBFlhjBn5EqoDABCH7jomW5IvMEwTcFQgqfDD1pCpqY0Qih8wNqCKbZWydB8PnoY4WX8Ddz45eweXI9QzSKTFPcEYH1XUT81c/xTH1yAwenrJzOp5jxB0S4pfQtbhZAtCdDal3COi+G5SBANgjyr5ChkSkE/l8BKUny0INo1yd5PTLTs1tPAWS+mdkIUL8dofQWAiNnMzkyLFOXGh2XIUOI/QoLuJcsswNcffzFsfR7GGclcWznP4kmx+qdFiACbYp2DC1mHvrGG6C4HVPn0X+RLLHfgcTQlq7suaQCQbUDzqPSXAk846y920pQXikS+mlDjhPZgc81aPHXCn3hWv/j7EwRmtD5AkUAhZeYCHT6qTLmfey8u/Y2MuqVY0B1nXIfWv+oHwxE8ndZ1oynqxRtYxMA49sgwUhKnRfJpuTAciCKV0jrG8CT8A65mMFQUuWQEjLxPpHkdnjYdPt69jUbXCF/IuIpEvY7ptsKwWaKqta4I5KaFW17JAqJLlyYFgRsoogQTiBI5JPEoEGJzn8JL5W3opp81Rd2H4rJ3ikkmxxOoIqg0ap0nvS7D6MPYeSyOf20a2rTSH0AbQVUR3BEQoFEUINmYNNEpTNg8NZdolyhTD9Y6j2kY2QDmEUFyXcZI8vQ44F0a3E03I5lt5+AWUhwAk6zEoa3pyugzbXCHrox7NGHUAe9RsgWGoqHJQSUZLC/oBcRljY08pOWItS3dzcgvNYfIYkt4wKMUCqxF8nugHMBeSQjbeym0VbLBjBUTyFHU89fzTbxfwOZRFRI1AjO7E2+POJxCDxRttqsx3LBPQXlynVb0HXyBUUqyx3jN/0RdoDIguxSKrIQAIUayj3JlPhNkt2nWokYYGD8WqNGOyBMVWFAERyZaIGvmKORMUZIl7EunBWqvo+wxj6RxjectWvhpDA+2nZQ9INqA4Wbyfu59O1c8krqoKSEaCBP/Iz4SLv5ICP2av/9kvrhowGZ/5ZcRglTkB6kMcPjdLVkAEXrR9PkwQqkTMBtRHcE5cT0t07lXfJ6BV0V1uuBjnAY9yByDrIWItG282XFxsrAkP9Hd8M6STOFcjCDZDSGyJgXjwlObcuP3JxD+uYLxKTn5lQn5G6awngFgXVEIoI42jqgJ0jyPUCBVbWqtgTSkSSec5uQlE5EuY3iJrgBaPItFBiOp67qM+THOlSzD9J1sEUs9rtiTFMU539DUlX4ErUG6hPuTRC/HaH7mTfxuEnP4atfIgLP2ARC7DhDliNDpAOLf6BnfP/wjt62eERN78GCRHuQcnHL4IRG592FY7ma4DwIuCmSEIDXzPkJYE4Ti9BQL1BIz+gX9sCMxsAAY2R9DIIJYgOd0xtKQSRMdam4b96/4lQMSAWMn6G4wwqLMicNI9Ea/+nu1AZgkWxFZghwdPIWpHcuTl34WIZIvmSGm5LrX8Ao6TW3BF+MJPiesilMaCsniXDM5LvqBUISCBBk2pMDerCEpEvowwVfguwxhwaIYpreqRDYCYjGCijEBEmHB81UI6hfqrIOZ0ByDqCcIU5Y45ggaBUUxDY5mJUMrgXBpwAkhbiQBl6a4Z1lqbXqRADARw8m8DmmKI6Gwg66E+gjiIAwJihHgcXUxQ/IhYcbptqLf6wNj5dansfm5mB0OFvurMdES8MR9pCKJeRUtVIU58F3TorsN3QRixVzNFKKWzkRZ/BIm8b0FzuY3QoDzQMWEYix8AgF/QVWRxkqSCLgkhtz6Kch+IsnCWzci8XpPkIiRDnLq7/yHqob0soxn67nEwsj6yLys1aRyjs5ZsXdQkPKWdIPLwYpISiYasDlOdZVZHcJmtLvMtWgkTcOujduhK6kJGRGwMaE1RFS//up9JviDSXIu/73sAxhsfQjMxTtwWJUdi822aCZB8Nf0E1psLIJTQRDGjrL0BAJoSiLLyWoCsDiG0rkgTN0v3ne04BXloTZA8el46q6h2qeBqJ4hwZ74ODsh6rPeRL2N81SbXd6SZbyymLN1jtoVgmIA0RLpAilU78i3jGMVlAsjKw6yHqI6480mIWC3cYFkOLp81dlLCoz+Mw2fS7ebTFX+zn1fqAHbdRJW8kKyb1/FNPKVkbFAsAwKlqiESgtwhgvUI5QEg8Qs/QxLKFxYSD4ZkiBUiZfFekO6O93P3UbMFvutO/C29SHj+N6DBMQV+QZll0FSgiHaY5KvppiJuIMuvSsQx4LU/0hUPgNNtwInvoZkYVQ0pC3cAgnoC8RjfALzBr/TxvAqnkK6LctdIJ8oDGdxlp6DSx4TSnfpqEIjkVCFjGWI0WowYxfXVYqI6nJ0W1QEnN1QtESSrPTQTtAQjZLz+x+pVyOabzZoovYlyjNiWEXf/PwJBo2to4tbH4zP/B0aX3el3p5PbWuxlcGf6VcvjClEJv0jEhhCj860OBA0I/+ofBYl6pEwL+pPw4m/YjlV+ZiXBiIrl6YOAFPbu9k8BMYRPfx/glTyE259CqBArTPcYGzPK+rRhhGwwx6pjPwcgg9MgpX8WMbKpEIlIyddFPJApT4L4PpChKUEYuQEcAO4/xfENVkMQCI3RhpDQv6gBp0N1YH/feDOqQ2Ot6pwwE9xMBR7Vkcm6KbtL7xSrPVT7IBGJcRJ7UHEbcVBcjA6ssTo4dDYBqmShOR7DxMUvkqR4NPDKuf+kDM6nkwzJtcoQKtz800Q4A+58yqS0KHZZJGs4IyqB9E6DECjrWUSx7l//M7f9iqope6iTyNCAyotOxBqTWyZQRgFB8VQPY7KtTU3JUBAxcnhJOchEF0YzlXwFFGOccB0pNtS8sh6a9Ky+eGzJ0TToydGes/TUQbZHXUPvVLI8GV/6gH2fms+vIBnGN0TRoNkiinWEKZoRXA/TLRmcSxzF0QiWkR5Pp4Mw3g/dxbrU4ZRUx516p76ywEj9ROGH9vwCycX3oLRF9RHowMhmAiJ89vtte9ZDW8Axhqd+EQAoiZQ3iZsBQIZrv6frk9Wh9M+gswlEWXooUcIhLTOB5tV0jnb/Us58/YyYqFhBbOT426R7LC0SkbTppH8WyNCM4RcRA6e7gsy/7qcQqSJa8aUPIBDVCCQmNyFdGdwlgzsRSsIZ6bre9+iyrL8Rke0gi/HMkOU+ILL8IBikcxwxMgS6PncfA+E2vxwEgupfqVMOxNoI0o1OMaApsfxQ2hdfdAewxMrSjEo1EGMCBzqqLiMBkNNty4q06hySIwajIdX0JpDiG4K1ZH0AaCbwHcTAw6cBxuf+bymWzRFuJvHaH4gaqc4aSGu91YKcomo33kSlYyx3k/sWWe5w/wnFbwMACVe4C+9rg1R2lf04mmluSjn+DrhCemcAItY8eBIUAzM3o8RlOEYkssI//EMgyRqMcvKdBg8WiVc+aMG99cPV6X0jQIaRrDwwc2NjQO+UrRtt/M0WpLOqoyS+ZxJ1Gn2OrvDWx9ypr7K0v/0qtzieiE/+XNqgCmE1Mx2v/CdbrL4H3wXizLqRKFO1dXAGRKuDK0v3GD9fUwIufO7HAMApza/1HQqcu+87kqMA1kmGNjQwQp9KhYelfwYmTZiqyCQ6K2k56dnQ5WQbEVY8Xn4Q9RDZQHwHk8vSPwEqbITx5kdBsD6AaGJTpH+O0y0sPyjLDxhEthnJ+utkcMGIZ1UPQLqARvkEid5J+EJjJhmctWFffZhKwKlLtSVXYuTkBgj4riAnG4DuzLtAmmM+uQbXc2feI6b65yCZndBKK5aUKFtPCDFgfB2RjMbBK70TVlzXf9USJqPRCxcrHF620dOgp6VZbiowyOLd6bfKxlqDIk4FBmoAqIYJiUOOr8B30du0ASn3wqe/H6SsPAStF4Iot00ofvU16myx3AMo+SIIalE56yFUifHN6JYEfoYwUp5nBDBqVklcl9XQvul7CCXrHcBhcBdAhDr1lXogmpXQp46t1jXIxghDlPCn3MXoKsSjmYC1UaUywnVQj9UCAcDgAgg0E0y37RBtxtI5LqfeZS6X/bfxUKbYPaJYsdRdM9JGecOvEGCMV/4QpH/Dz5KEc+7s17E+FG3SE6988GxKVLtwHbiuMMJ3ERt01+AGmqMyrhjNhcRSSw1SrCIylWZ7WHnAIDgaBcWawyuYbMP3efB51Icp5e7hCjDy8Hkrfun0vfTb7QKTch8khi9SMzQkOus0zg2iu2FVifrQMgGxDp/5Adl4o3ESdDat6LvyGkDAhpNrHD1vTmo9FN+z9GQsuf1pgDx6UQZnUSzTnGkiVnBdDl9AJCc3DIDdDAHK4HxsJkquIKuvBmmSFa4H1zET1D0BjZEOntBo6WXSc3+jn1eqBvzJ74XziI1015EtcPjiy0F9WtR0HcTKnflq7vwlJ9fm5LoyoEFnE+VOAve3NFICybFwxugOZs3EUVZezdHzaIaQzN33HfGpXwJE+mc4ugyX2PteVoHPtDMSkg3YjGYP4HtSrHJyDUv3QftfwblXEPEdo0dXebKYShEusxLmbd2r9s4AZjAHgeTLSlsq/VMcX7WSlevAOYQpXIFsAdWuNRFqXldBlWZQHBbOY/ii/e/2KLW/v5Akjdty77zYopbcWh5yagwhq6/m3ufhs5TdSngcvbbvSmed023r6NV/sHZhMeD04p0IU46vw3cBJ3FKRnfn++Lz/w7ZAGGcwCa3AyABFCtQSvBi1eq+BjIR+ARyMaDpOssdQKxJ2mbHsAUiGQ3JlTCfFk2GlGvSOlCrQ0cbEOeNclLB6r6LeiQuZ5gaAgAJvifax/yknsS3XUdByy3S0CnEWtIocbYo5sFNg7MYXbHlrZ98cYZftYuLDE5zdEU2voTbn4QvbJl1N5Rn2xQ8e8cxSjJ2ks02TtYzlJ+WbPcfg+sLA2M5W1HqxyzejaOLACAOziE0plsgMMcLCc4GBWOPbRLzFdQHUiyhd5IHT9uAWEExR6jF9xhKDM5CmSVacUPXgS9UptdYzPT6PrODxBqInbkprY5hZwXlnrgeWFFnWQCKHPty3vwzuAwMcvy/4c0/S8neNJjGU4YEViAIo9uDE58zKKJ4oj9093x7vP6H4rs8eNImzncRptYH7zrSPcbxVX1s6W66u94fvvBzQGhBWzMcPjBDRJvBEYN2A0DE8v2w0XO37RGrfVJcwc466oMZ3CktZuluslLtTklbLDklqw9x7/NYOIdhknPQHe66xgfQfrIuoipSUAZnOLoCcYY40QkFEMPcpZBWwkh8j2E8AzkXK9q/JCfezht/AmCG4WpPIt+RzqYce3O89AGwQbEG1laJl8TgYVOlpvK6dDaUXEG6Jzi9CbR90oQ4o5FXIHRnDeUOfBeuY/QG+gyK20g7OnvTz3+x1YDbYIhHL5rbqJSzgyRbpjk0IF7+IMfXQVW/EePBj8BkK5Uta5GOZVTgAcjgrBSbkg1SCoggePAUqiEixPXjE7+oaUYOX0JnU2KrHriYkuEAYcS/yFiPQIF0ZfEeTYlzcgsExlfbuFD654AMfgEuZ5P0yLqbKelE6Z9FaBBKSAdKDAuAJrSTQpCZTjjLff07R1dBuNPvQWcDvm8XbKaYbgM5KEKPWAs8/GKKZQWMGF1ODngKCvXtjl6QjbeaLBdFBnck/8OpQBtI0CG0pSCR7nFQuPs5i42igDD+3s4mCPELaKYcX0MsIYUFLpKhnuj8Kik8D5/n6DpI6RxDo8hwxOf/H/EDyVdk/UsQGrQkZYyAuPN/B3CoDm2Kq32TeAJAIOuhqS1qLzZBcLpnvkWoUtgB0RZbgr4H1zFNSVObSDnw7kkLxwnrXrVzZxXiEBo0UxvYGFEeIQY2ZUp7EnCJPZvcf1J1AGX5ARt5e6QShGy8BSR6Z6R3EpIhX0E9EvGItiRAiBIbSQYKhld0FtIkKqWXZiy6UEZfgsOrgHDrE3L63XL2v0UIEI/pDqe7iIEKpBhdAbThmHLibWI0ZA71BPRQuq6Dp7FwF5ox9TzWXZYtITbSOYbDi5Y+1VRe96Rl8mOw1aWZJNtBQ7jCJq4ZIVskhftPzxLXEdI7rY2eumtEPKIWlQjfdw98D0IpyC0ZrlkWo9QmYkDnlKX3LTebct0kpnsg3Ot/knD+kZ9AjAiU01/N3ceQLSEE0PH6n0E6MK0dnakOtAxMhwjkq6BHvkKXgXR3fgu12G+LAfAL8eKv4OgF7j9pS11yDbitDz4S42tglGNvQbGK/tn41K+AhF9guYd6BIh5tLrqskXxA0iGoLSXuSVINQm//7TlPLIFZANNO0mmZsGDIptvwfi6nHkPKMgWwbQsJedkS9nIZeXVYHQn3ubu+FYtfHLvccBjvDUXsgMEFcSATLeMu/B30ZSycKcaEw6v6MhzfMtqhSHAL4PA0WXkqyKZdI6nlZCzGYMulZyoLA4iOa//qZVFdEMZ3TTguggNR1fiC/9vkqQkqiNdA8IcMYh0QEj/DChqW4yGj2C9DxKdjTS5wOK9KPdQHcnJd4A0Hr2mRHUAZnbTpjS3PxvI4MwrWQN+pSLgJ34OR5dAQiCuSyUKzgaoR9I/xck1mx79dFb8a34kfOqfQJQ03Bt6K+uDkKzP6bb1XCvAWLGLGmo4N7uOOuYARNSdlLWHuffYLOrtrGK6l3xeTdbA1HUSTDrFfBliA58j1nAZXM9aBkl7EcVA6joWzFDKGmorHa4x48zwuoD6ox3j+RInnWMMYxSrGF5SNFOi/E3emev+f+3dS4wdV17H8d+/6r763e3u2NODkziOk3gSHA1EE88IpJlIsJjFjITEhgUSOwYkxAghAVs2oAnSkM0sIiE2LNgCi4ENw0ggEpBC5mGDo9gBjye2u/3sbl/3fdWfxTlV997utmO74znd7e9nYfu6u2+fqltVvzqn6vwrzC2x1lN+d8UO/YLf+C9ZZvMv+60zcbnystSLZZbVvd/JX/2TwQ//TEunbf2cd29Zc0nzr/iV79vscV+7oInDuruieI9l2bMPL+XZqT8ufvjnO2yT1Vmtu/K6tQ77nZ9a3vKio6wp9TQoZLL6tL30jeJHb8ZSwNJw/Vf1V8v7v4ZtqOopypXlVp/3cN4a+qPusSNuUm1evVvDscrGfHwOnWXWmPMwRFYrZ0OG2c/zr/jNM/E0efQB7CEy1S+nfpTbpElZyyzzQVuSTR31jZ8qr6sxq81rkuVf+Ivig7f99rn4WbeOqP1x2cJqmCQPNT7j78pa+cu/N/jxmzHb4l1gFkYa46+ePKr2VaksHxY2gdYRv3slbueWW97y3kYcb9DAJI9boMmVvfQ7xbnvxO5NtbkOZfLC8roPK5aUXYcwpJzVQt1Em1r29pWyfFhR/iN0MkxSduoPix+9GTtD5c8PO7WNWfXb8r4sj4+Cl7KTv1v8z3finLrwWXqcTWRZ5q5YmNoLW37Dr3xPU8+qd0eda6o31e/Ejac2YXOf8xvvSWGOosxy98FYK8KCTz+jic/o5lmFB+ZMHPbNFeVTKtrxSN08FOfVKK6B/PW/HPzgT9W5IQ/XbjvKG+bykJ2Tn7XujThh2su5kbWWm8LDNkzmoYpZmKLdPKTOjdBtk1wLn9eN9y2veyxNI5ta9rsrKgo157LlX/X+ul/6Rzv8Rb91JtYVsfJ0zSyMq3uYV11WqA09OcvqUs1jZ73atDSyX2cyqz4IyczMra6FU3bjB2MTJVy28PN++2y8SyAzW3zdV98dGzdsLMRnsDYWTe6dGzax6JvX7fCXfOXfR9enXDbznLcvWm3au7H3afmEF3eV1c377jYseyLZ7PO+fr5sYajJMxmrsocKYstv+PUz6q6aMtegHHyqevOZ6tNx3MjC3lfOuJlcVvtjWUN5S701ZeX2HEfRurXTbx2saUjvfFNmqk+ru2Yzx3zjI7lZc8G7a/HqV7nnVfdYWm3S++34GC/LbPkrvnZe6x/GnT+U66t+xeyLcQZt1tCgXY4kFPbsr2nlHW1e9awe6hJkz3ytuPj31lzwOPXN5IW1mDTtnQAAC8lJREFUlryzGnqotvQFTS77T75blaK06WPqb3jnlrxXVrfQcKAy/BVaO/zsVc74zONpv7L8ud8YXPgbZQ2b/Kxv/K+qB6559VbVnL+y/EjWlPrl8PXI/1vN8qbHorsmKR4rVRZ2CcegWis+eCecbIarKWY2/7LfPBM+m3jga8xa0fP+pjUWvHtDjXl1b8vMln7RV0dmhTZnw8yN4ZIOB5fm4n2e4avxWSv9uCpGJrPa5Ge86GrzuiTLaz4Ik4z71pjxrKnuzWp5bfaEF33dieNaNnPcO9cU6pOEDy5reDUNSYNqTWav/EFx7m0N2oqfu5fRUk4vqU9WpSSyl367+Ohv1V0vZ3mG8pl9eWELr2r6Of/J35VDzTV5X/mkvKeiV4a3le0pd6XZF6z9sffv2NTTocq/ZU0vPNxvb7Mv+ua1UIVYlkuF5U3vb0qmWiverVqfU789dp2lMa/uTTvy5eHw6eyLunNRg02ZxZIdWcuKTtg2beY5Xz9f1r+UahPWWIxPIIjPrg7Tn3J5oWxSxR2bOe7rH5XD1Kq2ZGst+ea1uLPkzWz5V4or3yvXno8tu+U2seztS8PNePQyU/jmiWXdvRwHbA9/SesXVJv29QvKGzbzvN86O9L/sFiOxnKbftY3/s8ac965PvLAb5M8e+brfvmfPZbiksxUm4p3L1djuaY4oahqSTg+zL3ot88pb4XL2zb1tG+ulsUg46YkLzT5c2pfHskclzJleagb7INOOY9O8Yw/bG4zx9S97ZvXlTc06GjmuO5cMh+4Kc5WyCc9lkqV8oYN+h5ObkKaxotZhcxljezkN4qzb0lSbcoac96+PDJ/vZydbDbS+wgVxfvDJxxYZlbzojsyjz+u5rJsi9vRr/qlf5IKW3zNr78n09g5aD7t3evKWlK3DLNCyqzW8mGxydyyWrlOJJmy3JpLduzXi3Nvy3tqLqq3YeHZ59XZQ2hw8yltXgvj8Ja3bPmNYuUddW+alTllZkd+2Vf+TUVhR37Jr/5ruQ/WVGuWpUvC1bRMhY9duDGziSNy19RRv/aeWofC2bPqs/Ke+u1hwSJZ7YsHLIDf/Wb5LKqq4omG56jTx6y46+2rw46RFJOmEnqZ45VT7KnTvvqfIxcyw3TPzTjDstg25zWcO4USKmHrqE2rdcg3LoZjq00d9TDILI31jcaWpzrPkiRrHvLujfz0W4N3fn9b7YvRY9Mw6tTfjFUmanX1whz8Rd+8PryyGBdQNn/Sb52VQqnVS/FaabiwtPwVv/wv1pj3UMfVPXvma8XFfyhX17T6G/FtY0vKa5+SGodCcRKbfd7XztvEst+9HBN6pHSOZGotqntLFp65ZmouDYtpV6carcPaHHmKy+ijeMZOlaW5E9YP14Nrwwd3S8pqNveS3zwrKU40tMxr0+qtmYXOUCtmXjW5MGuo6Ftt0otOnNcRDjJhdvLh077yrqTyUDuQzPKWD+5KmU0f840L1a9W0VdjXoP2yHT+UniKS3U0rk/HEmPV43pqk5o8Gm8LyBrybrVdjL2PlR2X4blmWTuw2npHSxrNntDahzZxxO9eLTee3BoL3lkdplocoggdx9zmT/rNM+EU1hZf8+vvmtW96MWpPsOL1uWPh2EPSbFEX1+S6rPqr8la8o6yVqwIFqrLDevH5dIgPMzAZk742jll9ezEbxYf/HXcp0K157C7hUtu9Sn12tZa8O66hVngw21ypL5bXDMmD4fODWVNax3y9uV4oTdeQSystRTv+pFGKvmMr+68FWuBxdradZO86Mkym3nWN6+pvqTwNMCZ41q/EHuokrJczSX178Q50KFIZGtRm6vDx2E159RZs8XP+/X341BHPqVBO45AZHUpGyktIstbsaDH3Au6fb461bbZ4752vtwU68OzOsvUWlbvprynYuyq55YtK54sWk15wxZO+ep/5C/81uCDvxoOM7UO++aKqmcMxGNXZnMv+O1z8V3DZOWFU37rbKgdbU9/3S99tzzgSCp7zyP7bHxmQ3WQzDIVbkuv+bX3QtmZ7NU/Kn78bdXn1FktP6li7CBpssln1N+Q9zTo+KBr85/zW/89tuOo6uyUNRLCq+Uv++Xv2/zLfvtcWQ3Q411pYRkXXtHtD+X94cX1kaLQ5VCPx2UJc3BCSYm8VXv9WwcngKUwtx8AgH3gQAUwAAAY9bO6CxoAAIwggAEASIAABgAgAQIYAIAECGAAABIggAEASIAABgAgAQIYAIAECGAAABIggAEASIAABgAgAQIYAIAECGAAABIggAEASIAABgAgAQIYAIAECGAAABIggAEASIAABgAgAQIYAIAECGAAABIggAEASIAABgAgAQIYAIAECGAAABIggAEASIAABgAgAQIYAIAECGAAABIggAEASIAABgAgAQIYAIAECGAAABIggAEASIAABgAgAQIYAIAECGAAABIggAEASIAABgAgAQIYAIAECGAAABIggAEASIAABgAgAQIYAIAECGAAABIggAEASIAABgAgAQIYAIAECGAAABIggAEASIAABgAgAQIYAIAECGAAABIggAEASIAABgAgAQIYAIAECGAAABIggAEASIAABgAgAQIYAIAECGAAABIggAEASIAABgAgAQIYAIAECGAAABIggAEASIAABgAgAQIYAIAECGAAABIggAEASIAABgAgAQIYAIAECGAAABIggAEASIAABgAgAQIYAIAECGAAABIggAEASIAABgAgAQIYAIAECGAAABIggAEASIAABgAgAQIYAIAECGAAABIggAEASIAABgAgAQIYAIAECGAAABIggAEASIAABgAgAQIYAIAECGAAABIggAEASIAABgAgAQIYAIAECGAAABIggAEASIAABgAgAQIYAIAECGAAABIggAEASIAABgAgAQIYAIAECGAAABIggAEASIAABgAgAQIYAIAECGAAABIggAEASIAABgAgAQIYAIAECGAAABIggAEASIAABgAgAQIYAIAECGAAABIggAEASIAABgAgAQIYAIAECGAAABIggAEASIAABgAgAQIYAIAECGAAABIggAEASIAABgAgAQIYAIAECGAAABIggAEASIAABgAgAQIYAIAECGAAABIggAEASIAABgAgAQIYAIAEaqkbsFtmlroJAIAE3D11E3ZlfwewmZ389vtmMsnk4R8KL81N216Gbxh/WX5P/PEQ6KMvTVL5buV/ukZ+PLybhi9lco38eHg3jfz4Dm0bvhxZlvGX29v2AE2Vqm/Y8rJs232bKpNveVn+3odvaviGYVPHXj5AU8ulu3fbHqip9/zg/BOaOrbBDD+48kf84Zo6tsGUG9X4RrJzU0faJknhGHSfP13SI/5p/gDvv9vf/rgaL5c99sY/wJ+7aIPtvg2f8FseY+Plbo+z8fatj7TPMQQNAEACBDAAAAkQwAAAJEAAAwCQAAEMAEACBDAAAAkQwAAAJEAAAwCQgO3rSiKUwQKAJ9a+zi/t90pY2v8fAPAkMNvf5/r7yJOzqg9AB4whaAAAEiCAAQBIgAAGACABAhgAgASelMv1AADsKXu9B2xm97rVbfuXHuR/AOzeQ+2Yj/Bu7Llb7Lg2HmoV7bhK9/hK3s0C2ojH0LRPx56ehlTdT7/9xvrtX7rPPwB8ih5qx3yEd2MX3uJTSd/tq3QvJ5M+jQXc+xvPXu8BP7i9v66Bg+E++9qOX3rYXgj78hY7rpDtpz57PFAf1u4XcO+vk4MTwMGWU+a9/wEA+9R9uqdbulnu7u5bhgd38/7Y4hFW8v5avY+wgF7ayxFw0AJ4y+re+x8AsE/da8/acVx6+3HzIMXDXvBoK/kTv2fveIQF3PsOTgDv908C2C/us6/tGJxVX6R6qfuOM5O+j+BhV3L1zftlVT/CVvQzatku7PUNPazELcNZO37pAf8HwO7da8fcMv604zc/yLttf5Mn3L3uonrklbz9HfagXS7g3j/+7+m1DwDAQXVwhqABANhHCGAAABIggAEASIAABgAgAQIYAIAECGAAABL4f9l4CjifeH87AAAAAElFTkSuQmCC'>"
      ],
      "text/plain": [
       "<IPython.core.display.HTML object>"
      ]
     },
     "metadata": {},
     "output_type": "display_data"
    }
   ],
   "source": [
    "fig= glucifer.Figure()\n",
    "#fig.append( glucifer.objects.Points(gSwarm,tracerVariable, colours= 'white black'))\n",
    "fig.append( glucifer.objects.Points(gSwarm,viscosityMapFn, logScale=True))\n",
    "#fig.append( glucifer.objects.Surface(mesh, temperatureField))\n",
    "\n",
    "#fig.append( glucifer.objects.Surface(mesh,ndflm, logScale=True))\n",
    "#fig.show()\n",
    "#fig.save_database('test.gldb')"
   ]
  },
  {
   "cell_type": "code",
   "execution_count": 125,
   "metadata": {
    "collapsed": false
   },
   "outputs": [
    {
     "data": {
      "text/plain": [
       "'test.gldb'"
      ]
     },
     "execution_count": 125,
     "metadata": {},
     "output_type": "execute_result"
    }
   ],
   "source": [
    "#fig.save_database('test.gldb')"
   ]
  },
  {
   "cell_type": "code",
   "execution_count": 123,
   "metadata": {
    "collapsed": false
   },
   "outputs": [
    {
     "data": {
      "text/html": [
       "<img src='data:image/png;base64,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'>"
      ],
      "text/plain": [
       "<IPython.core.display.HTML object>"
      ]
     },
     "metadata": {},
     "output_type": "display_data"
    }
   ],
   "source": [
    "fig= glucifer.Figure()\n",
    "#fig.append( glucifer.objects.Points(gSwarm,tracerVariable, colours= 'white black'))\n",
    "#fig.append( glucifer.objects.Points(gSwarm,materialVariable))\n",
    "#fig.append( glucifer.objects.Surface(mesh, temperatureField))\n",
    "\n",
    "fig.append( glucifer.objects.Surface(mesh, strainRate_2ndInvariant/ndp.SR))\n",
    "#fig.show()\n",
    "#fig.save_database('test.gldb')"
   ]
  },
  {
   "cell_type": "markdown",
   "metadata": {},
   "source": [
    "System setup\n",
    "-----\n",
    "\n",
    "Since we are using a previously constructed temperature field, we will use a single Stokes solve to get consistent velocity and pressure fields.\n",
    "\n",
    "**Setup a Stokes system**"
   ]
  },
  {
   "cell_type": "code",
   "execution_count": 119,
   "metadata": {
    "collapsed": false
   },
   "outputs": [],
   "source": [
    "#this accounts for the decreas in expansivity\n",
    "alphaRatio = 1.2/3\n",
    "taFn = 1. - (1. - depthFn)*(1. - alphaRatio) \n",
    "raylieghFn = ndp.RA*temperatureField*taFn \n",
    "\n",
    "\n",
    "# Here we set a viscosity value of '1.' for both materials\n",
    "viscosityMapFn = fn.branching.map( fn_key = materialVariable,\n",
    "                         mapping = {lithosphereIndex:mantleviscosityFn, \n",
    "                                    crustIndex:ndp.eta_crust,\n",
    "                                    mantleIndex:mantleviscosityFn,\n",
    "                                    lowermantleIndex:lowermantleviscosityFn,\n",
    "                                    eclIndex:mantleviscosityFn,\n",
    "                                    airIndex:ndp.Steta0} )\n",
    "\n",
    "densityMapFn = fn.branching.map( fn_key = materialVariable,\n",
    "                         mapping = {airIndex:ndp.StRA, \n",
    "                                    lithosphereIndex:raylieghFn, \n",
    "                                    crustIndex:raylieghFn, \n",
    "                                    mantleIndex:raylieghFn,\n",
    "                                   lowermantleIndex:raylieghFn} )"
   ]
  },
  {
   "cell_type": "code",
   "execution_count": 120,
   "metadata": {
    "collapsed": false
   },
   "outputs": [],
   "source": [
    "\n",
    "# Define our vertical unit vector using a python tuple (this will be automatically converted to a function).\n",
    "gravity = ( 0.0, 1.0 )\n",
    "\n",
    "# Now create a buoyancy force vector using the density and the vertical unit vector. \n",
    "buoyancyFn = densityMapFn * gravity"
   ]
  },
  {
   "cell_type": "code",
   "execution_count": 100,
   "metadata": {
    "collapsed": false
   },
   "outputs": [],
   "source": [
    "stokesPIC = uw.systems.Stokes(velocityField=velocityField, \n",
    "                              pressureField=pressureField,\n",
    "                              conditions=[freeslipBC,],\n",
    "                              fn_viscosity=linearVisc, \n",
    "                              fn_bodyforce=buoyancyFn )"
   ]
  },
  {
   "cell_type": "markdown",
   "metadata": {},
   "source": [
    "**Set up and solve the Stokes system**"
   ]
  },
  {
   "cell_type": "code",
   "execution_count": 101,
   "metadata": {
    "collapsed": false
   },
   "outputs": [],
   "source": [
    "solver = uw.systems.Solver(stokesPIC)\n",
    "if not checkpointLoad:\n",
    "    solver.solve() #A solve on the linear visocisty is unhelpful unless we're starting from scratch"
   ]
  },
  {
   "cell_type": "markdown",
   "metadata": {},
   "source": [
    "**Add the non-linear viscosity to the Stokes system**\n"
   ]
  },
  {
   "cell_type": "code",
   "execution_count": 121,
   "metadata": {
    "collapsed": true
   },
   "outputs": [],
   "source": [
    "stokesPIC.fn_viscosity = viscosityMapFn"
   ]
  },
  {
   "cell_type": "code",
   "execution_count": 122,
   "metadata": {
    "collapsed": false
   },
   "outputs": [
    {
     "name": "stdout",
     "output_type": "stream",
     "text": [
      "\u001b[1;35m\n",
      " \n",
      "Pressure iterations:   4\n",
      "Velocity iterations:   1 (presolve)      \n",
      "Velocity iterations:  -1 (pressure solve)\n",
      "Velocity iterations:   1 (backsolve)     \n",
      "Velocity iterations:   1 (total solve)   \n",
      " \n",
      "SCR RHS  solve time: 1.1088e+00\n",
      "Pressure solve time: 1.3122e-01\n",
      "Velocity solve time: 1.0313e+00 (backsolve)\n",
      "Total solve time   : 2.3956e+00\n",
      " \n",
      "Velocity solution min/max: 0.0000e+00/0.0000e+00\n",
      "Pressure solution min/max: 0.0000e+00/0.0000e+00\n",
      " \n",
      "\u001b[00m\n"
     ]
    }
   ],
   "source": [
    "solver.set_inner_method(\"mumps\")\n",
    "solver.options.scr.ksp_type=\"cg\"\n",
    "solver.set_penalty(1.0e7)\n",
    "solver.options.scr.ksp_rtol = 1.0e-4\n",
    "solver.solve(nonLinearIterate=True)\n",
    "solver.print_stats()"
   ]
  },
  {
   "cell_type": "code",
   "execution_count": null,
   "metadata": {
    "collapsed": false
   },
   "outputs": [],
   "source": []
  },
  {
   "cell_type": "code",
   "execution_count": null,
   "metadata": {
    "collapsed": false
   },
   "outputs": [],
   "source": []
  },
  {
   "cell_type": "markdown",
   "metadata": {},
   "source": [
    "**Create an advective diffusive system**"
   ]
  },
  {
   "cell_type": "code",
   "execution_count": null,
   "metadata": {
    "collapsed": true
   },
   "outputs": [],
   "source": [
    "advDiff = uw.systems.AdvectionDiffusion( phiField       = temperatureField, \n",
    "                                         phiDotField    = temperatureDotField, \n",
    "                                         velocityField  = velocityField,\n",
    "                                         fn_sourceTerm    = 0.0,\n",
    "                                         fn_diffusivity = 1.0, \n",
    "                                         #conditions     = [neumannTempBC, dirichTempBC] )\n",
    "                                         conditions     = [ dirichTempBC] )\n",
    "\n",
    "passiveadvector = uw.systems.SwarmAdvector( swarm         = gSwarm, \n",
    "                                     velocityField = velocityField, \n",
    "                                     order         = 1)"
   ]
  },
  {
   "cell_type": "code",
   "execution_count": null,
   "metadata": {
    "collapsed": true
   },
   "outputs": [],
   "source": [
    "population_control = uw.swarm.PopulationControl(gSwarm,deleteThreshold=0.2,splitThreshold=1.,maxDeletions=3,maxSplits=0, aggressive=True, particlesPerCell=ppc)"
   ]
  },
  {
   "cell_type": "markdown",
   "metadata": {},
   "source": [
    "Analysis tools\n",
    "-----"
   ]
  },
  {
   "cell_type": "code",
   "execution_count": null,
   "metadata": {
    "collapsed": true
   },
   "outputs": [],
   "source": [
    "#These are functions we can use to evuate integrals over restricted parts of the domain\n",
    "# For instance, we can exclude the thermal lithosphere from integrals\n",
    "\n",
    "def temprestrictionFn(lithval = 0.9):\n",
    "\n",
    "    tempMM = fn.view.min_max(temperatureField)\n",
    "    tempMM.evaluate(mesh)\n",
    "    TMAX = tempMM.max_global()\n",
    "    mantleconditions = [ (                                  temperatureField > lithval*TMAX, 1.),\n",
    "                   (                                                   True , 0.) ]\n",
    "\n",
    "\n",
    "    return fn.branching.conditional(mantleconditions)\n",
    "\n",
    "mantlerestrictFn = temprestrictionFn(lithval = 0.85)\n",
    "\n",
    "\n",
    "\n",
    "def platenessFn(val = 0.1):\n",
    "    normgradV = fn.math.abs(velocityField.fn_gradient[0]/fn.math.sqrt(velocityField[0]*velocityField[0])) #[du*/dx]/sqrt(u*u)\n",
    "\n",
    "\n",
    "\n",
    "    srconditions = [ (                                  normgradV < val, 1.),\n",
    "                   (                                                   True , 0.) ]\n",
    "\n",
    "\n",
    "    return fn.branching.conditional(srconditions)\n",
    "\n",
    "srrestrictFn = platenessFn(val = 0.1)"
   ]
  },
  {
   "cell_type": "code",
   "execution_count": null,
   "metadata": {
    "collapsed": false
   },
   "outputs": [],
   "source": [
    "fig = glucifer.Figure()\n",
    "fig.append( glucifer.objects.Surface(mesh, temperatureField) )\n",
    "\n",
    "#fig.show()\n",
    "#fig.save_database('test.gldb')"
   ]
  },
  {
   "cell_type": "code",
   "execution_count": null,
   "metadata": {
    "collapsed": false
   },
   "outputs": [],
   "source": [
    "#Setup volume integrals \n",
    "\n",
    "tempint = uw.utils.Integral( temperatureField, mesh )\n",
    "areaint = uw.utils.Integral( 1.,               mesh )\n",
    "\n",
    "v2int   = uw.utils.Integral( fn.math.dot(velocityField,velocityField), mesh )\n",
    "\n",
    "dwint   = uw.utils.Integral( temperatureField*velocityField[1], mesh )\n",
    "\n",
    "sinner = fn.math.dot( strainRate_2ndInvariant, strainRate_2ndInvariant )\n",
    "vdint = uw.utils.Integral( (4.*viscosityMapFn*sinner), mesh )\n",
    "\n",
    "mantleArea   = uw.utils.Integral( mantlerestrictFn, mesh )\n",
    "mantleTemp = uw.utils.Integral( temperatureField*mantlerestrictFn, mesh )\n",
    "mantleVisc = uw.utils.Integral( mantleviscosityFn*mantlerestrictFn, mesh )\n",
    "mantleVd = uw.utils.Integral( (4.*viscosityMapFn*sinner*mantlerestrictFn), mesh ) #these now work on MappingFunctions"
   ]
  },
  {
   "cell_type": "code",
   "execution_count": null,
   "metadata": {
    "collapsed": true
   },
   "outputs": [],
   "source": [
    "#Setup surface integrals\n",
    "\n",
    "rmsSurfInt = uw.utils.Integral( fn=velocityField[0]*velocityField[0], mesh=mesh, integrationType='Surface', \n",
    "                          surfaceIndexSet=mesh.specialSets[\"MaxJ_VertexSet\"])\n",
    "nuTop      = uw.utils.Integral( fn=temperatureField.fn_gradient[1],    mesh=mesh, integrationType='Surface', \n",
    "                          surfaceIndexSet=mesh.specialSets[\"MaxJ_VertexSet\"])\n",
    "nuBottom   = uw.utils.Integral( fn=temperatureField.fn_gradient[1],    mesh=mesh, integrationType='Surface', \n",
    "                          surfaceIndexSet=mesh.specialSets[\"MinJ_VertexSet\"])\n",
    "\n",
    "plateint  = uw.utils.Integral( fn=srrestrictFn, mesh=mesh, integrationType='Surface', #Integrate the plateness function\n",
    "                          surfaceIndexSet=mesh.specialSets[\"MaxJ_VertexSet\"]) \n",
    "\n",
    "surfint  = uw.utils.Integral( fn=1., mesh=mesh, integrationType='Surface',   #Surface length function (i.e. domain width)\n",
    "                          surfaceIndexSet=mesh.specialSets[\"MaxJ_VertexSet\"])"
   ]
  },
  {
   "cell_type": "code",
   "execution_count": null,
   "metadata": {
    "collapsed": true
   },
   "outputs": [],
   "source": [
    "#Define functions for the evaluation of integrals\n",
    "\n",
    "def basic_int(ourIntegral):           #This one just hands back the evaluated integral\n",
    "    return ourIntegral.evaluate()[0]\n",
    "\n",
    "def avg_temp():\n",
    "    return tempint.evaluate()[0]/areaint.evaluate()[0]\n",
    "\n",
    "def nusseltTB(temp_field, mesh):\n",
    "    return -nuTop.evaluate()[0], -nuBottom.evaluate()[0]\n",
    "\n",
    "def rms():\n",
    "    return math.sqrt(v2int.evaluate()[0]/areaint.evaluate()[0])\n",
    "\n",
    "def rms_surf():\n",
    "    return math.sqrt(rmsSurfInt.evaluate()[0])\n",
    "\n",
    "def max_vx_surf(velfield, mesh):\n",
    "    vuvelxfn = fn.view.min_max(velfield[0])\n",
    "    vuvelxfn.evaluate(mesh.specialSets[\"MaxJ_VertexSet\"])\n",
    "    return vuvelxfn.max_global()\n",
    "\n",
    "\n",
    "def visc_extr(viscfn):\n",
    "    vuviscfn = fn.view.min_max(viscfn)\n",
    "    vuviscfn.evaluate(mesh)\n",
    "    return vuviscfn.max_global(), vuviscfn.min_global()"
   ]
  },
  {
   "cell_type": "code",
   "execution_count": null,
   "metadata": {
    "collapsed": false
   },
   "outputs": [],
   "source": [
    "#v2sum_integral  = uw.utils.Integral( mesh=mesh, fn=fn.math.dot( velocityField, velocityField ) )\n",
    "#volume_integral = uw.utils.Integral( mesh=mesh, fn=1. )\n",
    "#Vrms = math.sqrt( v2sum_integral.evaluate()[0] )/volume_integral.evaluate()[0]\n",
    "\n",
    "\n",
    "\n",
    "#if(uw.rank()==0):\n",
    "#    print('Initial Vrms = {0:.3f}'.format(Vrms))"
   ]
  },
  {
   "cell_type": "code",
   "execution_count": null,
   "metadata": {
    "collapsed": false
   },
   "outputs": [],
   "source": [
    "# Check the Metrics\n",
    "\n",
    "#Avg_temp = avg_temp()\n",
    "#Rms = rms()\n",
    "#Rms_surf = rms_surf()\n",
    "#Max_vx_surf = max_vx_surf(velocityField, mesh)\n",
    "#Gravwork = basic_int(dwint)\n",
    "#Viscdis = basic_int(vdint)\n",
    "#nu1, nu0 = nusseltTB(temperatureField, mesh) # return top then bottom\n",
    "#etamax, etamin = visc_extr(mantleviscosityFn)\n",
    "\n",
    "Area_mantle = basic_int(mantleArea)\n",
    "#Viscmantle = basic_int(mantleVisc)\n",
    "#Tempmantle = basic_int(mantleTemp)\n",
    "#Viscdismantle = basic_int(mantleVd)"
   ]
  },
  {
   "cell_type": "code",
   "execution_count": null,
   "metadata": {
    "collapsed": false
   },
   "outputs": [],
   "source": [
    "#Tempmantle/Area_mantle, Viscmantle/Area_mantle\n",
    "#Plateness = basic_int(plateint)/basic_int(surfint)"
   ]
  },
  {
   "cell_type": "code",
   "execution_count": null,
   "metadata": {
    "collapsed": false
   },
   "outputs": [],
   "source": [
    "Area_mantle"
   ]
  },
  {
   "cell_type": "markdown",
   "metadata": {},
   "source": [
    "Viz.\n",
    "-----"
   ]
  },
  {
   "cell_type": "code",
   "execution_count": null,
   "metadata": {
    "collapsed": false
   },
   "outputs": [],
   "source": [
    "viscVariable = gSwarm.add_variable( dataType=\"float\", count=1 )\n",
    "viscVariable.data[:] = viscosityMapFn.evaluate(gSwarm)"
   ]
  },
  {
   "cell_type": "code",
   "execution_count": null,
   "metadata": {
    "collapsed": false
   },
   "outputs": [],
   "source": [
    "#Pack some stuff into a database as well\n",
    "figDb = glucifer.Figure()\n",
    "#figDb.append( glucifer.objects.Mesh(mesh))\n",
    "figDb.append( glucifer.objects.VectorArrows(mesh,velocityField, scaling=0.0005))\n",
    "figDb.append( glucifer.objects.Points(gSwarm,tracerVariable, colours= 'white black'))\n",
    "figDb.append( glucifer.objects.Points(gSwarm,viscosityMapFn, logScale=True))\n",
    "figDb.append( glucifer.objects.Surface(mesh, strainRate_2ndInvariant, logScale=True))\n",
    "figDb.append( glucifer.objects.Surface(mesh, temperatureField))\n",
    "#figDb.show()"
   ]
  },
  {
   "cell_type": "code",
   "execution_count": null,
   "metadata": {
    "collapsed": false
   },
   "outputs": [],
   "source": [
    "#figDb.show()\n"
   ]
  },
  {
   "cell_type": "code",
   "execution_count": null,
   "metadata": {
    "collapsed": false
   },
   "outputs": [],
   "source": [
    "velocityField.data[iWalls.data][np.where(velocityField.data[iWalls.data] == 0)]"
   ]
  },
  {
   "cell_type": "code",
   "execution_count": null,
   "metadata": {
    "collapsed": false
   },
   "outputs": [],
   "source": [
    "\n",
    "def checkpoint1(step, checkpointPath,filename, filewrites):\n",
    "    path = checkpointPath + str(step) \n",
    "    os.mkdir(path)\n",
    "    ##Write and save the file, if not already a writing step\n",
    "    if not step % filewrites == 0:\n",
    "        filename.write((17*'%-15s ' + '\\n') % (realtime, Viscdis, float(nu0), float(nu1), Avg_temp,\n",
    "                                              Tempmantle,TMAX,\n",
    "                                              Rms,Rms_surf,Max_vx_surf,Gravwork, etamax, etamin, \n",
    "                                              Area_mantle, Viscmantle,  Viscdismantle,Plateness ))\n",
    "    filename.close()\n",
    "    shutil.copyfile(os.path.join(outputPath, outputFile), os.path.join(path, outputFile))\n",
    "\n",
    "\n",
    "def checkpoint2(step, checkpointPath, swarm, filename, varlist = [materialVariable], varnames = ['materialVariable']):\n",
    "    path = checkpointPath + str(step) \n",
    "    velfile = \"velocityField\" + \".hdf5\"\n",
    "    tempfile = \"temperatureField\" + \".hdf5\"\n",
    "    pressfile = \"pressureField\" + \".hdf5\"\n",
    "    velocityField.save(os.path.join(path, velfile))\n",
    "    temperatureField.save(os.path.join(path, tempfile))\n",
    "    pressureField.save(os.path.join(path, pressfile))\n",
    "    swarm.save(os.path.join(path, \"swarm.h5\") ) \n",
    "    for ix in range(len(varlist)):\n",
    "        varb = varlist[ix]\n",
    "        varb.save(os.path.join(path,varnames[ix] + \".h5\"))\n",
    "    "
   ]
  },
  {
   "cell_type": "markdown",
   "metadata": {},
   "source": [
    "**Miscellania**"
   ]
  },
  {
   "cell_type": "code",
   "execution_count": null,
   "metadata": {
    "collapsed": false
   },
   "outputs": [],
   "source": [
    "surface_xs = np.linspace(mesh.minCoord[0], mesh.maxCoord[0], mesh.elementRes[0] + 1)\n",
    "surface_nodes = np.array(zip(surface_xs, np.ones(len(surface_xs)*mesh.maxCoord[1]))) #For evaluation surface velocity\n",
    "\n",
    "\n",
    "normgradV = velocityField.fn_gradient[0]/fn.math.sqrt(velocityField[0]*velocityField[0])\n",
    "\n",
    "tempMM = fn.view.min_max(temperatureField)\n",
    "dummy = tempMM.evaluate(mesh)\n",
    "\n"
   ]
  },
  {
   "cell_type": "code",
   "execution_count": null,
   "metadata": {
    "collapsed": false
   },
   "outputs": [],
   "source": [
    "tempMM.max_global(), temperatureField.data.max()"
   ]
  },
  {
   "cell_type": "markdown",
   "metadata": {},
   "source": [
    "Main simulation loop\n",
    "-----\n",
    "\n",
    "Run a few advection and Stokes solver steps to make sure we are in, or close to, equilibrium."
   ]
  },
  {
   "cell_type": "code",
   "execution_count": null,
   "metadata": {
    "collapsed": false
   },
   "outputs": [],
   "source": [
    "# initialise timer for computation\n",
    "start = time.clock()\n",
    "# setup summary output file (name above)\n",
    "if checkpointLoad:\n",
    "    if uw.rank() == 0:\n",
    "        shutil.copyfile(os.path.join(checkpointLoadDir, outputFile), outputPath+outputFile)\n",
    "    comm.Barrier()\n",
    "    f_o = open(os.path.join(outputPath, outputFile), 'a')\n",
    "    prevdata = np.genfromtxt(os.path.join(outputPath, outputFile), skip_header=0, skip_footer=0)\n",
    "    if len(prevdata.shape) == 1: #this is in case there is only one line in previous file\n",
    "        realtime = prevdata[0]\n",
    "    else:\n",
    "        realtime = prevdata[prevdata.shape[0]-1, 0]\n",
    "    step = int(checkpointLoadDir.split('/')[-1])\n",
    "    timevals = [0.]\n",
    "else:\n",
    "    f_o = open(outputPath+outputFile, 'w')\n",
    "    realtime = 0.\n",
    "    step = 0\n",
    "    timevals = [0.]"
   ]
  },
  {
   "cell_type": "code",
   "execution_count": null,
   "metadata": {
    "collapsed": false
   },
   "outputs": [],
   "source": []
  },
  {
   "cell_type": "code",
   "execution_count": null,
   "metadata": {
    "collapsed": false
   },
   "outputs": [],
   "source": [
    "#while step < 21:\n",
    "while realtime < 1.:\n",
    "\n",
    "    # solve Stokes and advection systems\n",
    "    solver.solve(nonLinearIterate=True)\n",
    "    dt = advDiff.get_max_dt()\n",
    "    if step == 0:\n",
    "        dt = 0.\n",
    "    advDiff.integrate(dt)\n",
    "    passiveadvector.integrate(dt)\n",
    "    \n",
    "    #Add the adiabatic adjustment:\n",
    "    temperatureField.data[:] += dt*abHeatFn.evaluate(mesh)\n",
    "    \n",
    "\n",
    "    # Increment\n",
    "    realtime += dt\n",
    "    step += 1\n",
    "    timevals.append(realtime)\n",
    "    ################\n",
    "    #Update temperature field in the air region\n",
    "    #Do this better...\n",
    "    ################\n",
    "    if (step % sticky_air_temp == 0):\n",
    "        for index, coord in enumerate(mesh.data):\n",
    "            if coord[1] >= 1.:\n",
    "                temperatureField.data[index] = ndp.TSP\n",
    "    ################\n",
    "    #Gldb output\n",
    "    ################ \n",
    "    if (step % gldbs_output == 0):\n",
    "        #Rebuild any necessary swarm variables\n",
    "        viscVariable.data[:] = viscosityMapFn.evaluate(gSwarm)\n",
    "        #Write gldbs\n",
    "        fnamedb = \"dbFig\" + \"_\" + str(ModIt) + \"_\" + str(step) + \".gldb\"\n",
    "        fullpath = os.path.join(outputPath + \"gldbs/\" + fnamedb)\n",
    "        #figDb.show()\n",
    "        figDb.save_database(fullpath)\n",
    "    ################\n",
    "    #Files output\n",
    "    ################ \n",
    "    if (step % files_output == 0):\n",
    "\n",
    "        vel_surface = velocityField.evaluate_global(surface_nodes)\n",
    "        norm_surface_sr = normgradV.evaluate_global(surface_nodes)\n",
    "        if uw.rank() == 0:\n",
    "            fnametemp = \"velsurface\" + \"_\" + str(ModIt) + \"_\" + str(step)\n",
    "            fullpath = os.path.join(outputPath + \"files/\" + fnametemp)\n",
    "            np.save(fullpath, vel_surface)\n",
    "            fnametemp = \"norm_surface_sr\" + \"_\" + str(ModIt) + \"_\" + str(step)\n",
    "            fullpath = os.path.join(outputPath + \"files/\" + fnametemp)\n",
    "            np.save(fullpath, norm_surface_sr)\n",
    "    ################            \n",
    "    # Calculate the Metrics, only on 1 of the processors:\n",
    "    ################\n",
    "    if (step % metric_output == 0):\n",
    "        ###############\n",
    "        #Swarm - based Metrics\n",
    "        ###############\n",
    "        # Calculate the RMS velocity and Nusselt number.\n",
    "        # Calculate the Metrics, only on 1 of the processors:\n",
    "        mantlerestrictFn = temprestrictionFn() #rebuild the mantle restriction function (but these should be dynamic?)\n",
    "        srrestrictFn = platenessFn(val = 0.1) #rebuild the plateness restriction function\n",
    "        dummy = tempMM.evaluate(mesh) #Re-evaluate any fn.view.min_max guys\n",
    "        #Rebuild these integrals (a test because metrics changes after a restart)\n",
    "        mantleArea   = uw.utils.Integral( mantlerestrictFn, mesh )\n",
    "        mantleTemp = uw.utils.Integral( temperatureField*mantlerestrictFn, mesh )\n",
    "        mantleVisc = uw.utils.Integral( mantleviscosityFn*mantlerestrictFn, mesh )\n",
    "        mantleVd = uw.utils.Integral( (4.*viscosityMapFn*sinner*mantlerestrictFn), mesh ) #these now work on MappingFunctions\n",
    "        ###\n",
    "        Avg_temp = avg_temp()\n",
    "        Rms = rms()\n",
    "        Rms_surf = rms_surf()\n",
    "        Max_vx_surf = max_vx_surf(velocityField, mesh)\n",
    "        Gravwork = basic_int(dwint)\n",
    "        Viscdis = basic_int(vdint)\n",
    "        nu1, nu0 = nusseltTB(temperatureField, mesh) # return top then bottom\n",
    "        etamax, etamin = visc_extr(mantleviscosityFn)\n",
    "        Area_mantle = basic_int(mantleArea)\n",
    "        Viscmantle = basic_int(mantleVisc)\n",
    "        Tempmantle = basic_int(mantleTemp)\n",
    "        Viscdismantle = basic_int(mantleVd)\n",
    "        Plateness = basic_int(plateint)/basic_int(surfint)\n",
    "        TMAX = tempMM.max_global()\n",
    "        # output to summary text file\n",
    "        if uw.rank()==0:\n",
    "            f_o.write((17*'%-15s ' + '\\n') % (realtime, Viscdis, float(nu0), float(nu1), Avg_temp,\n",
    "                                              Tempmantle,TMAX,\n",
    "                                              Rms,Rms_surf,Max_vx_surf,Gravwork, etamax, etamin, \n",
    "                                              Area_mantle, Viscmantle,  Viscdismantle,Plateness ))\n",
    "    ################\n",
    "    #Also repopulate entire swarm periodically\n",
    "    ################\n",
    "    #if step % swarm_repop == 0:\n",
    "    population_control.repopulate()\n",
    "    \n",
    "    ################\n",
    "    #Checkpoint\n",
    "    ################\n",
    "    if step % checkpoint_every == 0:\n",
    "        if uw.rank() == 0:\n",
    "            checkpoint1(step, checkpointPath,f_o, metric_output)           \n",
    "        checkpoint2(step, checkpointPath, gSwarm, f_o, varlist = varlist, varnames = varnames)\n",
    "        f_o = open(os.path.join(outputPath, outputFile), 'a') #is this line supposed to be here?\n",
    "    ################\n",
    "    #Particle update\n",
    "    ###############\n",
    "    timeVariable.data[:] += dt #increment the ages (is this efficient?)\n",
    "    dummyData = np.copy(materialVariable.data)#This is part of a hack that resets ages when a material type changes\n",
    "    if step % swarm_update == 0:\n",
    "        for i in range(2): #Need to go through twice first time through\n",
    "            materialVariable.data[:] = fn.branching.conditional(DG.condition_list).evaluate(gSwarm)\n",
    "    timeVariable.data[np.where(dummyData[:] != materialVariable.data[:])] = 0. #resets those ages when a material type change\n",
    "    \n",
    "f_o.close()\n",
    "print 'step =',step"
   ]
  },
  {
   "cell_type": "code",
   "execution_count": 109,
   "metadata": {
    "collapsed": false
   },
   "outputs": [
    {
     "ename": "RuntimeError",
     "evalue": "Function input dimensionality (2) does not appear to match mesh variable dimensionality (105).",
     "output_type": "error",
     "traceback": [
      "\u001b[1;31m\u001b[0m",
      "\u001b[1;31mRuntimeError\u001b[0mTraceback (most recent call last)",
      "\u001b[1;32m<ipython-input-109-758841825d0d>\u001b[0m in \u001b[0;36m<module>\u001b[1;34m()\u001b[0m\n\u001b[0;32m      1\u001b[0m \u001b[0mviscVariable\u001b[0m \u001b[1;33m=\u001b[0m \u001b[0mgSwarm\u001b[0m\u001b[1;33m.\u001b[0m\u001b[0madd_variable\u001b[0m\u001b[1;33m(\u001b[0m \u001b[0mdataType\u001b[0m\u001b[1;33m=\u001b[0m\u001b[1;34m\"float\"\u001b[0m\u001b[1;33m,\u001b[0m \u001b[0mcount\u001b[0m\u001b[1;33m=\u001b[0m\u001b[1;36m1\u001b[0m \u001b[1;33m)\u001b[0m\u001b[1;33m\u001b[0m\u001b[0m\n\u001b[1;32m----> 2\u001b[1;33m \u001b[0mviscVariable\u001b[0m\u001b[1;33m.\u001b[0m\u001b[0mdata\u001b[0m\u001b[1;33m[\u001b[0m\u001b[1;33m:\u001b[0m\u001b[1;33m]\u001b[0m \u001b[1;33m=\u001b[0m \u001b[0mviscosityMapFn\u001b[0m\u001b[1;33m.\u001b[0m\u001b[0mevaluate\u001b[0m\u001b[1;33m(\u001b[0m\u001b[0mgSwarm\u001b[0m\u001b[1;33m)\u001b[0m\u001b[1;33m\u001b[0m\u001b[0m\n\u001b[0m",
      "\u001b[1;32m/root/underworld2/underworld/function/_function.py\u001b[0m in \u001b[0;36mevaluate\u001b[1;34m(self, inputData, inputType)\u001b[0m\n\u001b[0;32m    594\u001b[0m             \u001b[1;32mif\u001b[0m \u001b[0minputType\u001b[0m \u001b[1;33m!=\u001b[0m \u001b[0mNone\u001b[0m\u001b[1;33m:\u001b[0m\u001b[1;33m\u001b[0m\u001b[0m\n\u001b[0;32m    595\u001b[0m                 \u001b[1;32mraise\u001b[0m \u001b[0mValueError\u001b[0m\u001b[1;33m(\u001b[0m\u001b[1;34m\"'inputType' specification not supported for this input class.\"\u001b[0m\u001b[1;33m)\u001b[0m\u001b[1;33m\u001b[0m\u001b[0m\n\u001b[1;32m--> 596\u001b[1;33m             \u001b[1;32mreturn\u001b[0m \u001b[0m_cfn\u001b[0m\u001b[1;33m.\u001b[0m\u001b[0mQuery\u001b[0m\u001b[1;33m(\u001b[0m\u001b[0mself\u001b[0m\u001b[1;33m.\u001b[0m\u001b[0m_fncself\u001b[0m\u001b[1;33m)\u001b[0m\u001b[1;33m.\u001b[0m\u001b[0mquery\u001b[0m\u001b[1;33m(\u001b[0m\u001b[0minputData\u001b[0m\u001b[1;33m.\u001b[0m\u001b[0m_get_iterator\u001b[0m\u001b[1;33m(\u001b[0m\u001b[1;33m)\u001b[0m\u001b[1;33m)\u001b[0m\u001b[1;33m\u001b[0m\u001b[0m\n\u001b[0m\u001b[0;32m    597\u001b[0m         \u001b[1;32melif\u001b[0m \u001b[0misinstance\u001b[0m\u001b[1;33m(\u001b[0m\u001b[0minputData\u001b[0m\u001b[1;33m,\u001b[0m \u001b[0mnp\u001b[0m\u001b[1;33m.\u001b[0m\u001b[0mndarray\u001b[0m\u001b[1;33m)\u001b[0m\u001b[1;33m:\u001b[0m\u001b[1;33m\u001b[0m\u001b[0m\n\u001b[0;32m    598\u001b[0m             \u001b[1;32mif\u001b[0m \u001b[0minputType\u001b[0m \u001b[1;33m!=\u001b[0m \u001b[0mNone\u001b[0m\u001b[1;33m:\u001b[0m\u001b[1;33m\u001b[0m\u001b[0m\n",
      "\u001b[1;31mRuntimeError\u001b[0m: Function input dimensionality (2) does not appear to match mesh variable dimensionality (105)."
     ]
    }
   ],
   "source": [
    "viscVariable = gSwarm.add_variable( dataType=\"float\", count=1 )\n",
    "viscVariable.data[:] = viscosityMapFn.evaluate(gSwarm)"
   ]
  }
 ],
 "metadata": {
  "kernelspec": {
   "display_name": "Python 2",
   "language": "python",
   "name": "python2"
  },
  "language_info": {
   "codemirror_mode": {
    "name": "ipython",
    "version": 2
   },
   "file_extension": ".py",
   "mimetype": "text/x-python",
   "name": "python",
   "nbconvert_exporter": "python",
   "pygments_lexer": "ipython2",
   "version": "2.7.9"
  },
  "widgets": {
   "state": {},
   "version": "1.1.2"
  }
 },
 "nbformat": 4,
 "nbformat_minor": 0
}
