{
 "cells": [
  {
   "cell_type": "markdown",
   "metadata": {},
   "source": [
    "## composite, non-linear rheology:\n",
    "\n",
    "\n",
    "The viscous rheology in this model is similar to the Čížková and Bina paper cited below. Other parts of the model setup are similar to Arredondo and Billen (2016) and Korenaga (2011). \n",
    "\n",
    "Here we use a dimensionless system. For the psuedo-plastic effective rheology a Drucker-prager model is used.\n",
    "\n",
    "\n",
    "**Keywords:** thermal covection, dislocation creep\n",
    "\n",
    "\n",
    "**References**\n",
    "\n",
    "Čížková, Hana, and Craig R. Bina. \"Geodynamics of trench advance: Insights from a Philippine-Sea-style geometry.\" Earth and Planetary Science Letters 430 (2015): 408-415.\n",
    "\n",
    "Arredondo, Katrina M., and Magali I. Billen. \"The Effects of Phase Transitions and Compositional Layering in Two-dimensional Kinematic Models of Subduction.\" Journal of Geodynamics (2016).\n",
    "\n",
    "Korenaga, Jun. \"Scaling of plate tectonic convection with pseudoplastic rheology.\" Journal of Geophysical Research: Solid Earth 115.B11 (2010)."
   ]
  },
  {
   "cell_type": "code",
   "execution_count": 77,
   "metadata": {
    "collapsed": false
   },
   "outputs": [],
   "source": [
    "import numpy as np\n",
    "import underworld as uw\n",
    "import math\n",
    "from underworld import function as fn\n",
    "import glucifer\n",
    "\n",
    "import os\n",
    "import sys\n",
    "import natsort\n",
    "import shutil\n",
    "from easydict import EasyDict as edict\n",
    "import operator\n",
    "import pint\n",
    "import time\n",
    "import operator\n",
    "from slippy2 import boundary_layer2d\n",
    "from slippy2 import material_graph\n",
    "from slippy2 import spmesh\n",
    "\n",
    "from mpi4py import MPI\n",
    "comm = MPI.COMM_WORLD\n",
    "rank = comm.Get_rank()"
   ]
  },
  {
   "cell_type": "markdown",
   "metadata": {},
   "source": [
    "Model name and directories\n",
    "-----"
   ]
  },
  {
   "cell_type": "code",
   "execution_count": 78,
   "metadata": {
    "collapsed": true
   },
   "outputs": [],
   "source": [
    "############\n",
    "#Model name.  \n",
    "############\n",
    "Model = \"T\"\n",
    "ModNum = 9\n",
    "\n",
    "if len(sys.argv) == 1:\n",
    "    ModIt = \"Base\"\n",
    "elif sys.argv[1] == '-f':\n",
    "    ModIt = \"Base\"\n",
    "else:\n",
    "    ModIt = str(sys.argv[1])"
   ]
  },
  {
   "cell_type": "code",
   "execution_count": 79,
   "metadata": {
    "collapsed": false
   },
   "outputs": [],
   "source": [
    "###########\n",
    "#Standard output directory setup\n",
    "###########\n",
    "\n",
    "\n",
    "outputPath = \"results\" + \"/\" +  str(Model) + \"/\" + str(ModNum) + \"/\" + str(ModIt) + \"/\"\n",
    "imagePath = outputPath + 'images/'\n",
    "filePath = outputPath + 'files/'\n",
    "checkpointPath = outputPath + 'checkpoint/'\n",
    "dbPath = outputPath + 'gldbs/'\n",
    "outputFile = 'results_model' + Model + '_' + str(ModNum) + '_' + str(ModIt) + '.dat'\n",
    "\n",
    "if uw.rank()==0:\n",
    "    # make directories if they don't exist\n",
    "    if not os.path.isdir(outputPath):\n",
    "        os.makedirs(outputPath)\n",
    "    if not os.path.isdir(checkpointPath):\n",
    "        os.makedirs(checkpointPath)\n",
    "    if not os.path.isdir(imagePath):\n",
    "        os.makedirs(imagePath)\n",
    "    if not os.path.isdir(dbPath):\n",
    "        os.makedirs(dbPath)\n",
    "    if not os.path.isdir(filePath):\n",
    "        os.makedirs(filePath)\n",
    "        \n",
    "comm.Barrier() #Barrier here so no procs run the check in the next cell too early"
   ]
  },
  {
   "cell_type": "code",
   "execution_count": 80,
   "metadata": {
    "collapsed": false
   },
   "outputs": [
    {
     "name": "stdout",
     "output_type": "stream",
     "text": [
      "results/T/9/Base/checkpoint/ is empty\n"
     ]
    }
   ],
   "source": [
    "###########\n",
    "#Check if starting from checkpoint\n",
    "###########\n",
    "\n",
    "checkdirs = []\n",
    "for dirpath, dirnames, files in os.walk(checkpointPath):\n",
    "    if files:\n",
    "        print dirpath, 'has files'\n",
    "        checkpointLoad = True\n",
    "        checkdirs.append(dirpath)\n",
    "    if not files:\n",
    "        print dirpath, 'is empty'\n",
    "        checkpointLoad = False"
   ]
  },
  {
   "cell_type": "markdown",
   "metadata": {},
   "source": [
    "Setup parameters\n",
    "-----\n",
    "\n",
    "Set simulation parameters for test."
   ]
  },
  {
   "cell_type": "markdown",
   "metadata": {},
   "source": [
    "**Use pint to setup any unit conversions we'll need**"
   ]
  },
  {
   "cell_type": "code",
   "execution_count": 81,
   "metadata": {
    "collapsed": false
   },
   "outputs": [
    {
     "data": {
      "text/html": [
       "10000.0 meter/megayear"
      ],
      "text/latex": [
       "$10000.0 \\frac{meter}{megayear}$"
      ],
      "text/plain": [
       "<Quantity(10000.0, 'meter / megayear')>"
      ]
     },
     "execution_count": 81,
     "metadata": {},
     "output_type": "execute_result"
    }
   ],
   "source": [
    "u = pint.UnitRegistry()\n",
    "cmpery = 1.*u.cm/u.year\n",
    "mpermy = 1.*u.m/u.megayear\n",
    "\n",
    "cmpery.to(mpermy)"
   ]
  },
  {
   "cell_type": "markdown",
   "metadata": {},
   "source": [
    "**Set parameter dictionaries**"
   ]
  },
  {
   "cell_type": "code",
   "execution_count": null,
   "metadata": {
    "collapsed": false
   },
   "outputs": [],
   "source": []
  },
  {
   "cell_type": "code",
   "execution_count": 82,
   "metadata": {
    "collapsed": false
   },
   "outputs": [],
   "source": [
    "###########\n",
    "#Store the physical paramters, scale factors and dimensionless pramters in easyDicts\n",
    "#Mainly helps with avoiding overwriting variables\n",
    "###########\n",
    "\n",
    "dp = edict({#'LS':2900.*1e3,\n",
    "            'LS':2000.*1e3,\n",
    "           'rho':3300,\n",
    "           'g':9.8, \n",
    "           'eta0':4e20, #Dislocation creep at 250 km, 1573 K, 1e-15 s-1 \n",
    "           'k':1e-6,\n",
    "           'a':3e-5, #surface thermal expansivity\n",
    "           'TP':1573., #potential temp\n",
    "           'TS':273., #surface temp\n",
    "           'cohesion':1e7, #\n",
    "           'fc':0.03,   \n",
    "           'Adf':1e-9,\n",
    "           'Ads':3.1e-17,\n",
    "           'Edf':3.35e5,\n",
    "           'Eds':4.8e5,\n",
    "           'Vdf':4e-6,\n",
    "           'Vds':11e-6,\n",
    "           'Alm':1.3e-16,\n",
    "           'Elm':2.0e5,\n",
    "           'Vlm':1.1e-6,\n",
    "           'Ba':4.3e-12,  #A value to simulate pressure increase with depth\n",
    "           'SR':1e-15,\n",
    "           'Dr':250e3, #Reference depth\n",
    "           'R':8.314,\n",
    "           'Cp':1250., #Jkg-1K-1\n",
    "           'StALS':100e3,\n",
    "           'plate_vel':8})\n",
    "\n",
    "#Adibatic heating stuff\n",
    "dp.dTa = (dp.a*dp.g*(dp.TP))/dp.Cp #adibatic gradient, at Tp\n",
    "dp.deltaTa = (dp.TP + dp.dTa*dp.LS) - dp.TS  #Adiabatic Temp at base of mantle, minus Ts\n",
    "dp.deltaT = dp.deltaTa\n",
    "\n",
    "\n",
    "\n",
    "#scale_factors\n",
    "\n",
    "sf = edict({'stress':dp.LS**2/(dp.k*dp.eta0),\n",
    "            'lith_grad':dp.rho*dp.g*(dp.LS)**3/(dp.eta0*dp.k) ,\n",
    "            'vel':dp.LS/dp.k,\n",
    "            'SR':dp.LS**2/dp.k,\n",
    "            'W':(-1./dp.Ba)*(np.log(1.-dp.rho*dp.g*dp.Ba*dp.LS))/(dp.R*dp.deltaTa), #Including adiabatic compression, and deltaTa\n",
    "            'E': 1./(dp.R*dp.deltaTa), #using deltaTa, the guesstimated adiabatic temp differnnce to scale these paramters\n",
    "            #'Ads':(dp.eta0**(ndp.n-2))*((dp.k)**(ndp.n-1))*((dp.LS)**(2. - 2*ndp.n))       \n",
    "           })\n",
    "\n",
    "#dimensionless parameters\n",
    "\n",
    "ndp = edict({'RA':(dp.g*dp.rho*dp.a*dp.deltaT*(dp.LS)**3)/(dp.k*dp.eta0),\n",
    "            'cohesion':dp.cohesion*sf.stress,\n",
    "            'fcd':dp.fc*sf.lith_grad,\n",
    "            'gamma':dp.fc/(dp.a*dp.deltaT),\n",
    "            'Wdf':dp.Vdf*sf.W,\n",
    "            'Edf':dp.Edf*sf.E,\n",
    "            'Wds':dp.Vds*sf.W,\n",
    "            'Eds':dp.Eds*sf.E,\n",
    "            'Elm':dp.Elm*sf.E,\n",
    "           'Wlm':dp.Vlm*sf.W,\n",
    "            'TSP':0., \n",
    "            'TBP':1.,\n",
    "            'TPP':(dp.TP - dp.TS)/dp.deltaT,\n",
    "            'Dr':dp.Dr/dp.LS,\n",
    "            'n':3.5,\n",
    "            'TS':dp.TS/dp.deltaT,\n",
    "            'TP':dp.TP/dp.deltaT,\n",
    "             #'eta_crust':1e21/dp.eta0,\n",
    "             'eta_crust':0.06,\n",
    "            'eta_min':1e-3,\n",
    "            'eta_max':1e5,\n",
    "            'H':0.,\n",
    "            'Tmvp':0.6,\n",
    "             'Di': dp.a*dp.g*dp.LS/dp.Cp, #Dissipation number\n",
    "            'Steta0':1e2,\n",
    "            'plate_vel':sf.vel*dp.plate_vel*(cmpery.to(u.m/u.second)).magnitude,})\n",
    "\n",
    "\n",
    "\n",
    "#Make some further additions to paramter dictionaries\n",
    "\n",
    "#dp.VR = (0.1*(dp.k/dp.LS)*ndp.RA**(2/3.)) #characteristic velocity from a scaling relationship\n",
    "#dp.SR = dp.VR/dp.LS #characteristic strain rate\n",
    "#ndp.VR = dp.VR*sf.vel #characteristic velocity\n",
    "#ndp.SR = dp.SR*sf.SR #characteristic strain rate\n",
    "\n",
    "dp.SR = 1e-15\n",
    "ndp.SR = dp.SR*sf.SR #characteristic strain rate\n",
    "\n",
    "ndp.StRA = (3300.*dp.g*(dp.LS)**3)/(dp.eta0 *dp.k) #Composisitional Rayleigh number for rock-air buoyancy force\n",
    "ndp.TaP = 1. - ndp.TPP,  #Dimensionles adiabtic component of delta t"
   ]
  },
  {
   "cell_type": "code",
   "execution_count": 83,
   "metadata": {
    "collapsed": false
   },
   "outputs": [],
   "source": [
    "#ndp.RA"
   ]
  },
  {
   "cell_type": "code",
   "execution_count": 84,
   "metadata": {
    "collapsed": false
   },
   "outputs": [],
   "source": [
    "###########\n",
    "#A few parameters defining lengths scales, affects materal transistions etc.\n",
    "###########\n",
    "\n",
    "MANTLETOCRUST = (18.*1e3)/dp.LS #Crust depth\n",
    "HARZBURGDEPTH = MANTLETOCRUST + (27.7e3/dp.LS)\n",
    "CRUSTTOMANTLE = (200.*1e3)/dp.LS\n",
    "LITHTOMANTLE = (900.*1e3)/dp.LS \n",
    "MANTLETOLITH = (200.*1e3)/dp.LS \n",
    "TOPOHEIGHT = (10.*1e3)/dp.LS  #rock-air topography limits\n",
    "CRUSTTOECL  = (100.*1e3)/dp.LS\n",
    "AVGTEMP = ndp.TPP #Used to define lithosphere\n",
    "LOWERMANTLE = (1000.*1e3)/dp.LS \n"
   ]
  },
  {
   "cell_type": "markdown",
   "metadata": {},
   "source": [
    "**Model setup parameters**"
   ]
  },
  {
   "cell_type": "code",
   "execution_count": 85,
   "metadata": {
    "collapsed": false
   },
   "outputs": [],
   "source": [
    "###########\n",
    "#Model setup parameters\n",
    "###########\n",
    "\n",
    "refineMesh = True\n",
    "stickyAir = False \n",
    "lower_mantle = False \n",
    "melt_viscosity_reduction= False\n",
    "symmetric_IC = False\n",
    "VelBC = False\n",
    "\n",
    "\n",
    "MINX = -2.\n",
    "MINY = 0.\n",
    "MAXX = 2.\n",
    "\n",
    "#MAXY = 1.035\n",
    "MAXY = 1.\n",
    "\n",
    "if MINX == 0.:\n",
    "    squareModel = True\n",
    "else: \n",
    "    squareModel = False\n",
    "    \n",
    "    \n",
    "dim = 2          # number of spatial dimensions\n",
    "\n",
    "\n",
    "#MESH STUFF\n",
    "\n",
    "RES = 64\n",
    "\n",
    "Xres = int(RES*4)\n",
    "\n",
    "\n",
    "if stickyAir:\n",
    "    Yres = RES\n",
    "    MAXY = 1. + dp.StALS/dp.LS #150km\n",
    "    \n",
    "else:\n",
    "    Yres = RES\n",
    "    MAXY = 1.\n",
    "\n",
    "\n",
    "periodic = [True, False]\n",
    "elementType = \"Q1/dQ0\"\n",
    "#elementType =\"Q2/DPC1\"\n",
    "\n",
    "\n",
    "#System/Solver stuff\n",
    "\n",
    "PIC_integration=True\n",
    "ppc = 25\n",
    "\n",
    "#Output and safety stuff\n",
    "swarm_repop, swarm_update = 10, 10\n",
    "gldbs_output = 20\n",
    "checkpoint_every, files_output = 50, 50\n",
    "metric_output = 10\n",
    "sticky_air_temp = 5"
   ]
  },
  {
   "cell_type": "markdown",
   "metadata": {},
   "source": [
    "Create mesh and finite element variables\n",
    "------"
   ]
  },
  {
   "cell_type": "code",
   "execution_count": 120,
   "metadata": {
    "collapsed": false
   },
   "outputs": [],
   "source": [
    "mesh = uw.mesh.FeMesh_Cartesian( elementType = (elementType),\n",
    "                                 elementRes  = (Xres, Yres), \n",
    "                                 minCoord    = (MINX, MINY), \n",
    "                                 maxCoord    = (MAXX, MAXY), periodic=periodic)\n",
    "\n",
    "velocityField       = uw.mesh.MeshVariable( mesh=mesh,         nodeDofCount=2 )\n",
    "pressureField       = uw.mesh.MeshVariable( mesh=mesh.subMesh, nodeDofCount=1 )\n",
    "temperatureField    = uw.mesh.MeshVariable( mesh=mesh,         nodeDofCount=1 )\n",
    "temperatureDotField = uw.mesh.MeshVariable( mesh=mesh,         nodeDofCount=1 )"
   ]
  },
  {
   "cell_type": "code",
   "execution_count": 87,
   "metadata": {
    "collapsed": true
   },
   "outputs": [],
   "source": [
    "mesh.reset()"
   ]
  },
  {
   "cell_type": "code",
   "execution_count": 88,
   "metadata": {
    "collapsed": false
   },
   "outputs": [
    {
     "name": "stdout",
     "output_type": "stream",
     "text": [
      "Min\n",
      "(256, 0.012501562500000001, 4.200400000000001, -0.20040000000000086)\n",
      "('edges', 256)\n",
      "-- iteration 0 --\n",
      "| F( p_n ) |^2: 1.98165943146e-05\n",
      "| p_n+1 - p_n |^2: 1.36480086187\n",
      "-- iteration 1 --\n",
      "| F( p_n ) |^2: 3.58989730515e-30\n",
      "Min, Max element width: \n",
      "0.01250\n",
      "0.01875\n"
     ]
    }
   ],
   "source": [
    "\n",
    "#X-Axis\n",
    "\n",
    "if refineMesh:\n",
    "    mesh.reset()\n",
    "    axis = 0\n",
    "    origcoords = np.linspace(mesh.minCoord[axis], mesh.maxCoord[axis], mesh.elementRes[axis] + 1)\n",
    "    edge_rest_lengths = np.diff(origcoords)\n",
    "\n",
    "    deform_lengths = edge_rest_lengths.copy()\n",
    "    min_point =  (abs(mesh.maxCoord[axis]) - abs(mesh.minCoord[axis]))/2.\n",
    "    el_reduction = 0.8001\n",
    "    dx = mesh.maxCoord[axis] - min_point\n",
    "\n",
    "    deform_lengths = deform_lengths - \\\n",
    "                                    ((1.-el_reduction) *deform_lengths[0]) + \\\n",
    "                                    abs((origcoords[1:] - min_point))*((0.5*deform_lengths[0])/dx)\n",
    "\n",
    "    #print(edge_rest_lengths.shape, deform_lengths.shape)\n",
    "\n",
    "    spmesh.deform_1d(deform_lengths, mesh,axis = 'x',norm = 'Min', constraints = [])"
   ]
  },
  {
   "cell_type": "code",
   "execution_count": 89,
   "metadata": {
    "collapsed": false
   },
   "outputs": [],
   "source": [
    "axis = 1\n",
    "orgs = np.linspace(mesh.minCoord[axis], mesh.maxCoord[axis], mesh.elementRes[axis] + 1)\n",
    "\n",
    "value_to_constrain = 1.\n",
    "\n",
    "\n",
    "yconst = [(spmesh.find_closest(orgs, value_to_constrain), np.array([value_to_constrain,0]))]"
   ]
  },
  {
   "cell_type": "code",
   "execution_count": 90,
   "metadata": {
    "collapsed": false
   },
   "outputs": [
    {
     "name": "stdout",
     "output_type": "stream",
     "text": [
      "Min\n",
      "(64, 0.0093765624999999995, 0.84619375000000008, 0.62499047619047554)\n",
      "('edges', 64)\n",
      "-- iteration 0 --\n",
      "| F( p_n ) |^2: 8.05648611886e-05\n",
      "| p_n+1 - p_n |^2: 0.352079185376\n",
      "-- iteration 1 --\n",
      "| F( p_n ) |^2: 3.12512226132e-31\n",
      "Min, Max element width: \n",
      "0.00938\n",
      "0.02187\n"
     ]
    }
   ],
   "source": [
    "###########\n",
    "#Mesh refinement\n",
    "###########\n",
    "\n",
    "if refineMesh:\n",
    "    #Y-Axis\n",
    "    axis = 1\n",
    "    origcoords = np.linspace(mesh.minCoord[axis], mesh.maxCoord[axis], mesh.elementRes[axis] + 1)\n",
    "    edge_rest_lengths = np.diff(origcoords)\n",
    "\n",
    "    deform_lengths = edge_rest_lengths.copy()\n",
    "    min_point =  (mesh.maxCoord[axis])\n",
    "    el_reduction = 0.6001\n",
    "    dx = mesh.maxCoord[axis]\n",
    "\n",
    "    deform_lengths = deform_lengths - \\\n",
    "                                    ((1.-el_reduction)*deform_lengths[0]) + \\\n",
    "                                    abs((origcoords[1:] - min_point))*((0.5*deform_lengths[0])/dx)\n",
    "\n",
    "    #print(edge_rest_lengths.shape, deform_lengths.shape)\n",
    "\n",
    "    spmesh.deform_1d(deform_lengths, mesh,axis = 'y',norm = 'Min', constraints = yconst)"
   ]
  },
  {
   "cell_type": "markdown",
   "metadata": {},
   "source": [
    "Initial conditions\n",
    "-------\n"
   ]
  },
  {
   "cell_type": "code",
   "execution_count": 91,
   "metadata": {
    "collapsed": false
   },
   "outputs": [],
   "source": [
    "coordinate = fn.input()\n",
    "depthFn = 1. - coordinate[1] #a function providing the depth\n",
    "xFn = coordinate[0]  #a function providing the x-coordinate\n",
    "\n",
    "potTempFn = ndp.TPP + (depthFn)*ndp.TaP #a function providing the adiabatic temp at any depth\n",
    "abHeatFn = -1.*velocityField[1]*temperatureField*ndp.Di #a function providing the adiabatic heating rate"
   ]
  },
  {
   "cell_type": "code",
   "execution_count": null,
   "metadata": {
    "collapsed": false
   },
   "outputs": [],
   "source": []
  },
  {
   "cell_type": "code",
   "execution_count": 92,
   "metadata": {
    "collapsed": false
   },
   "outputs": [],
   "source": [
    "###########\n",
    "#Thermal initial condition:\n",
    "#if symmetric_IC, we build a symmetric downwelling on top of a sinusoidal perturbation\n",
    "##########\n",
    "\n",
    "#Sinusoidal initial condition\n",
    "A = 0.2\n",
    "sinFn = depthFn + A*(fn.math.cos( math.pi * coordinate[0])  * fn.math.sin( math.pi * coordinate[1] ))        \n",
    "iD = 660e3/dp.LS #Initial Slab depth\n",
    "dl =  2*math.sqrt(dp.k*160e6*3600*24*365) #diffusion Length at ... My\n",
    "w0 = dl/dp.LS #Boundary layer/slab initial condition\n",
    "delX1 = fn.misc.min(fn.math.abs(coordinate[0] - -0.), fn.math.abs(coordinate[0] - -2.))\n",
    "delX = fn.misc.min(delX1 , fn.math.abs(coordinate[0] - 2.))\n",
    "w = w0*fn.math.sqrt(delX + 1e-7)\n",
    "tempBL = (potTempFn) *fn.math.erf((depthFn)/w) + ndp.TSP\n",
    "delX = fn.misc.min(fn.math.abs(coordinate[0] - - 1.) , fn.math.abs(coordinate[0] - 1.))\n",
    "tempSlab = (potTempFn ) *fn.math.erf((delX*2.)/w0) + ndp.TSP       \n",
    "tempFn1 =  fn.misc.min(tempBL, tempSlab)\n",
    "blFn = fn.branching.conditional([(depthFn < iD, tempFn1), \n",
    "                                    (True, potTempFn)])\n",
    "\n",
    "tempFn = 0.*sinFn + 1.*blFn #partition the temp between these the symmetric downwelling and sinusoid\n",
    "if symmetric_IC:  \n",
    "    if not checkpointLoad:\n",
    "        temperatureField.data[:] = tempFn.evaluate(mesh)  "
   ]
  },
  {
   "cell_type": "code",
   "execution_count": 93,
   "metadata": {
    "collapsed": false
   },
   "outputs": [],
   "source": [
    "###########\n",
    "#Thermal initial condition 2: \n",
    "#if symmetric_IC == False, we build an asymmetric subduction-zone\n",
    "###########\n",
    "\n",
    "#Main control paramters are:\n",
    "\n",
    "Roc = 550e3 #radius of curvature of slab\n",
    "theta = 89. #Angle to truncate the slab (can also do with with a cutoff depth)\n",
    "subzone = 0.0 #X position of subduction zone...in model coordinates\n",
    "slabmaxAge = 160e6 #age of subduction plate at trench\n",
    "sense = 'Right' #dip direction\n",
    "op_age_fac = 1. #this controls the overidding plate speed, hence age reduction\n",
    "\n",
    "\n",
    "#First build the top TBL\n",
    "\n",
    "dl =  2*math.sqrt(dp.k*slabmaxAge*3600*24*365) #diffusion Length at ... My\n",
    "w0 = dl/dp.LS\n",
    "ageFn1 = (fn.math.abs(fn.math.abs(coordinate[0]) - 2.)/2.)\n",
    "ageFn  = fn.branching.conditional([(coordinate[0] <= 0, ageFn1),\n",
    "                                  (True, ageFn1/op_age_fac)])\n",
    "w = w0*fn.math.sqrt(ageFn + 1e-7)\n",
    "tempBL = (potTempFn) *fn.math.erf((depthFn)/w) + ndp.TSP\n",
    "if not symmetric_IC:\n",
    "    if not checkpointLoad:\n",
    "        out = uw.utils.MeshVariable_Projection( temperatureField, tempBL) #apply function with projection\n",
    "        out.solve()\n",
    "\n",
    "        \n",
    "        \n",
    "#Now build the perturbation part\n",
    "\n",
    "def inCircleFnGenerator(centre, radius):\n",
    "    coord = fn.input()\n",
    "    offsetFn = coord - centre\n",
    "    return fn.math.dot( offsetFn, offsetFn ) < radius**2\n",
    "\n",
    "#Setup slab perturbation params (mostly dimensionlesl / model params here)\n",
    "phi = 90. - theta\n",
    "RocM = (Roc/dp.LS)\n",
    "CrustM = MANTLETOCRUST\n",
    "Org = (subzone, 1.-RocM)\n",
    "\n",
    "#Use three circles to define our slab and crust perturbation,  \n",
    "Oc = inCircleFnGenerator(Org , RocM)\n",
    "Ic = inCircleFnGenerator(Org , RocM - w0)\n",
    "Cc = inCircleFnGenerator(Org , RocM - (2.*CrustM)) #Twice as wide as ordinary crust, weak zone on 'outside' of slab\n",
    "dx = (RocM)/(np.math.tan((np.math.pi/180.)*phi))\n",
    "\n",
    "\n",
    "#We'll also create a triangle which will truncate the circles defining the slab...\n",
    "if sense == 'Left': \n",
    "    ptx = subzone - dx\n",
    "else:\n",
    "    ptx = subzone + dx\n",
    "coords = ((0.+subzone, 1), (0.+subzone, 1.-RocM), (ptx, 1.))\n",
    "Tri = fn.shape.Polygon(np.array(coords))\n",
    "\n",
    "#Actually apply the perturbation\n",
    "if not symmetric_IC:\n",
    "    if not checkpointLoad:\n",
    "        sdFn = ((RocM - fn.math.sqrt((coordinate[0] - Org[0])**2. + (coordinate[1] - Org[1])**2.))) \n",
    "        slabFn = ndp.TPP*fn.math.erf((sdFn)/w0)\n",
    "\n",
    "        for index, coord in enumerate(mesh.data):\n",
    "            #if Oc.evaluate(tuple(coord)) and Tri.evaluate(tuple(coord)) and not Ic.evaluate(tuple(coord)): #in inner circle, not in outer circle\n",
    "            if (\n",
    "                Oc.evaluate(tuple(coord)) and\n",
    "                Tri.evaluate(tuple(coord)) and not\n",
    "                Ic.evaluate(tuple(coord)) and\n",
    "                coord[1] > (1. - (250.e3/dp.LS)) \n",
    "                ): #In the quarter-circle defining the lithosphere\n",
    "                temperatureField.data[index] = slabFn.evaluate(mesh)[index]"
   ]
  },
  {
   "cell_type": "code",
   "execution_count": 94,
   "metadata": {
    "collapsed": false
   },
   "outputs": [],
   "source": [
    "#Make sure material in sticky air region is at the surface temperature.\n",
    "for index, coord in enumerate(mesh.data):\n",
    "            if coord[1] >= 1.:\n",
    "                temperatureField.data[index] = ndp.TSP"
   ]
  },
  {
   "cell_type": "code",
   "execution_count": null,
   "metadata": {
    "collapsed": false
   },
   "outputs": [],
   "source": []
  },
  {
   "cell_type": "code",
   "execution_count": 95,
   "metadata": {
    "collapsed": false,
    "scrolled": true
   },
   "outputs": [],
   "source": [
    "fig= glucifer.Figure()\n",
    "fig.append( glucifer.objects.Surface(mesh, temperatureField))\n",
    "\n",
    "#fig.append(glucifer.objects.Mesh(mesh))\n",
    "#fig.save_database('test.gldb')\n",
    "\n",
    "#fig.show()"
   ]
  },
  {
   "cell_type": "code",
   "execution_count": null,
   "metadata": {
    "collapsed": true
   },
   "outputs": [],
   "source": []
  },
  {
   "cell_type": "markdown",
   "metadata": {},
   "source": [
    "Boundary conditions\n",
    "-------"
   ]
  },
  {
   "cell_type": "code",
   "execution_count": null,
   "metadata": {
    "collapsed": true
   },
   "outputs": [],
   "source": []
  },
  {
   "cell_type": "code",
   "execution_count": 121,
   "metadata": {
    "collapsed": false
   },
   "outputs": [
    {
     "name": "stdout",
     "output_type": "stream",
     "text": [
      "me\n"
     ]
    }
   ],
   "source": [
    "for index in mesh.specialSets[\"MinJ_VertexSet\"]:\n",
    "    temperatureField.data[index] = ndp.TBP\n",
    "for index in mesh.specialSets[\"MaxJ_VertexSet\"]:\n",
    "    temperatureField.data[index] = ndp.TSP\n",
    "    \n",
    "iWalls = mesh.specialSets[\"MinI_VertexSet\"] + mesh.specialSets[\"MaxI_VertexSet\"]\n",
    "jWalls = mesh.specialSets[\"MinJ_VertexSet\"] + mesh.specialSets[\"MaxJ_VertexSet\"]\n",
    "tWalls = mesh.specialSets[\"MaxJ_VertexSet\"]\n",
    "bWalls =mesh.specialSets[\"MinJ_VertexSet\"]\n",
    "\n",
    "VelBCs = mesh.specialSets[\"Empty\"]\n",
    "\n",
    "if VelBC:\n",
    "    for index in list(tWalls.data):\n",
    "        if (mesh.data[int(index)][0] < (subzone - 0.2) and mesh.data[int(index)][0] > -2 + 0.2): #Only push with a portion of teh overiding plate\n",
    "            VelBCs.add(int(index))\n",
    "            #Set the plate velocities for the kinematic phase\n",
    "            velocityField.data[index] = [ndp.plate_vel, 0.]\n",
    "        \n",
    "\n",
    "#If periodic, we'll fix a the x-vel at a single node - at the bottom left (index 0)\n",
    "Fixed = mesh.specialSets[\"Empty\"]\n",
    "Fixed.add(int(0))        \n",
    "        \n",
    "\n",
    "if periodic[0] == False:\n",
    "    freeslipBC = uw.conditions.DirichletCondition( variable      = velocityField, \n",
    "                                               indexSetsPerDof = ( iWalls + VelBCs, jWalls) )\n",
    "\n",
    "\n",
    "\n",
    "\n",
    "\n",
    "\n",
    "if periodic[0] == True:\n",
    "    if VelBC:\n",
    "        freeslipBC = uw.conditions.DirichletCondition( variable      = velocityField, \n",
    "                                               indexSetsPerDof = ( Fixed + VelBCs , jWalls) )\n",
    "    else:\n",
    "        print('me')\n",
    "        freeslipBC = uw.conditions.DirichletCondition( variable      = velocityField, \n",
    "                                               indexSetsPerDof = ( Fixed, jWalls) )\n",
    "        \n",
    "    \n",
    "    \n",
    "    \n",
    "# also set dirichlet for temp field\n",
    "dirichTempBC = uw.conditions.DirichletCondition(     variable=temperatureField, \n",
    "                                              indexSetsPerDof=(tWalls,) )\n",
    "dT_dy = [0.,0.]\n",
    "\n",
    "# also set dirichlet for temp field\n",
    "neumannTempBC = uw.conditions.NeumannCondition( dT_dy, variable=temperatureField, \n",
    "                                         nodeIndexSet=bWalls)\n",
    "\n"
   ]
  },
  {
   "cell_type": "code",
   "execution_count": 97,
   "metadata": {
    "collapsed": false
   },
   "outputs": [],
   "source": [
    "#velocityField.data[tWalls.data]"
   ]
  },
  {
   "cell_type": "markdown",
   "metadata": {},
   "source": [
    "Swarm setup\n",
    "-----\n"
   ]
  },
  {
   "cell_type": "code",
   "execution_count": 98,
   "metadata": {
    "collapsed": false
   },
   "outputs": [],
   "source": [
    "###########\n",
    "#Material Swarm and variables\n",
    "###########\n",
    "\n",
    "#create material swarm\n",
    "gSwarm = uw.swarm.Swarm(mesh=mesh, particleEscape=True)\n",
    "\n",
    "#create swarm variables\n",
    "yieldingCheck = gSwarm.add_variable( dataType=\"int\", count=1 )\n",
    "tracerVariable = gSwarm.add_variable( dataType=\"int\", count=1)\n",
    "materialVariable = gSwarm.add_variable( dataType=\"int\", count=1 )\n",
    "ageVariable = gSwarm.add_variable( dataType=\"float\", count=1 )\n",
    "\n",
    "\n",
    "#these lists  are part of the checkpointing implementation\n",
    "varlist = [tracerVariable, tracerVariable, yieldingCheck]\n",
    "varlist = [materialVariable, yieldingCheck, ageVariable]\n",
    "varnames = ['materialVariable', 'yieldingCheck', 'ageVariable']"
   ]
  },
  {
   "cell_type": "code",
   "execution_count": 99,
   "metadata": {
    "collapsed": false
   },
   "outputs": [],
   "source": [
    "mantleIndex = 0\n",
    "crustIndex = 1\n",
    "harzIndex = 2\n",
    "airIndex = 3\n",
    "\n",
    "\n",
    "\n",
    "if checkpointLoad:\n",
    "    checkpointLoadDir = natsort.natsort(checkdirs)[-1]\n",
    "    temperatureField.load(os.path.join(checkpointLoadDir, \"temperatureField\" + \".hdf5\"))\n",
    "    pressureField.load(os.path.join(checkpointLoadDir, \"pressureField\" + \".hdf5\"))\n",
    "    velocityField.load(os.path.join(checkpointLoadDir, \"velocityField\" + \".hdf5\"))\n",
    "    gSwarm.load(os.path.join(checkpointLoadDir, \"swarm\" + \".h5\"))\n",
    "    for ix in range(len(varlist)):\n",
    "        varb = varlist[ix]\n",
    "        varb.load(os.path.join(checkpointLoadDir,varnames[ix] + \".h5\"))\n",
    "\n",
    "else:\n",
    "\n",
    "    # Layouts are used to populate the swarm across the whole domain\n",
    "    layout = uw.swarm.layouts.PerCellRandomLayout(swarm=gSwarm, particlesPerCell=ppc)\n",
    "    gSwarm.populate_using_layout( layout=layout ) # Now use it to populate.\n",
    "    # Swarm variables\n",
    "    materialVariable.data[:] = mantleIndex\n",
    "    tracerVariable.data[:] = 1\n",
    "    yieldingCheck.data[:] = 0\n",
    "    ageVariable.data[:] = -1\n",
    "\n",
    "    #Set initial air and crust materials (allow the graph to take care of lithsophere)\n",
    "    #########\n",
    "    #This initial material setup will be model dependent\n",
    "    #########\n",
    "    for particleID in range(gSwarm.particleCoordinates.data.shape[0]):\n",
    "        if (1. - gSwarm.particleCoordinates.data[particleID][1]) < MANTLETOCRUST:\n",
    "                 materialVariable.data[particleID] = crustIndex"
   ]
  },
  {
   "cell_type": "code",
   "execution_count": 100,
   "metadata": {
    "collapsed": false
   },
   "outputs": [],
   "source": [
    "###########\n",
    "#This block sets up a checkboard layout of passive tracers\n",
    "###########\n",
    "\n",
    "square_size = 0.1\n",
    "xlist = np.arange(mesh.minCoord[0] + square_size/2., mesh.maxCoord[0] + square_size/2., square_size)\n",
    "xlist = zip(xlist[:], xlist[1:])[::2]\n",
    "ylist = np.arange(mesh.minCoord[1] + square_size/2., mesh.maxCoord[1] + square_size/2., square_size)\n",
    "ylist = zip(ylist[:], ylist[1:])[::2]\n",
    "xops = []\n",
    "for vals in xlist:\n",
    "    xops.append( (operator.and_(   operator.gt(coordinate[0],vals[0]),   operator.lt(coordinate[0],vals[1])  ),0.) )\n",
    "xops.append((True,1.))\n",
    "\n",
    "testfunc = fn.branching.conditional(xops) \n",
    "\n",
    "yops = []\n",
    "for vals in ylist:\n",
    "    yops.append( (operator.and_(   operator.gt(coordinate[1],vals[0]),   operator.lt(coordinate[1],vals[1])  ),0.) )\n",
    "yops.append((True,testfunc))\n",
    "\n",
    "testfunc2 = fn.branching.conditional(yops) \n",
    "tracerVariable.data[:] = testfunc.evaluate(gSwarm)\n",
    "tracerVariable.data[:] = testfunc2.evaluate(gSwarm)"
   ]
  },
  {
   "cell_type": "code",
   "execution_count": 101,
   "metadata": {
    "collapsed": false
   },
   "outputs": [
    {
     "data": {
      "text/plain": [
       "array([  0.00000000e+00,   1.99999995e-05], dtype=float32)"
      ]
     },
     "execution_count": 101,
     "metadata": {},
     "output_type": "execute_result"
    }
   ],
   "source": [
    "#Set the inital particle age, for particles above the critical depth \n",
    "#(only these will be transformed to crust / harzburgite)\n",
    "\n",
    "ageVariable.data[:] = 0. #start with all zeor\n",
    "crustageCond = 1e-05 #set inital age above critical depth. (about 1.2 Ma.) Might have to be shorter than this - need to experiment\n",
    "ageDT = crustageCond + 1e-5 #initalize ages\n",
    "ageConditions = [ (depthFn < 100e3/dp.LS , ageDT),  \n",
    "                  (True, 0.) ]\n",
    "                 \n",
    "\n",
    "ageEval = fn.branching.conditional( ageConditions ).evaluate(gSwarm)\n",
    "ageVariable.data[np.where(ageEval == 0)] = 0 #If below the critical depth, age is set to zero\n",
    "ageVariable.data[np.where(ageEval != 0)] += ageDT #If age above critical depth, increment age\n",
    "\n",
    "np.unique(ageVariable.data)"
   ]
  },
  {
   "cell_type": "markdown",
   "metadata": {
    "collapsed": false
   },
   "source": [
    "Swarm control (material graph)\n",
    "-----\n",
    "\n"
   ]
  },
  {
   "cell_type": "code",
   "execution_count": null,
   "metadata": {
    "collapsed": false
   },
   "outputs": [],
   "source": [
    "\n"
   ]
  },
  {
   "cell_type": "code",
   "execution_count": 102,
   "metadata": {
    "collapsed": false
   },
   "outputs": [],
   "source": [
    "##############\n",
    "#Here we set up a directed graph object that we we use to control the transformation from one material type to another\n",
    "##############\n",
    "\n",
    "#All depth conditions are given as (km/D) where D is the length scale,\n",
    "#note that 'model depths' are used, e.g. 1-z, where z is the vertical Underworld coordinate\n",
    "#All temp conditions are in dimensionless temp. [0. - 1.]\n",
    "\n",
    "#This is a quick fix for a bug that arises in parallel runs\n",
    "material_list = [0,1,2,3]\n",
    "\n",
    "if not checkpointLoad:\n",
    "    materialVariable.data[:] = 0 #Initialize to zero \n",
    "\n",
    "#Setup the graph object\n",
    "DG = material_graph.MatGraph()\n",
    "\n",
    "#Important: First thing to do is to add all the material types to the graph (i.e add nodes)\n",
    "DG.add_nodes_from(material_list)\n",
    "\n",
    "#Now set the conditions for transformations\n",
    "\n",
    "#... to mantle\n",
    "DG.add_transition((crustIndex,mantleIndex), depthFn, operator.gt, CRUSTTOMANTLE)\n",
    "DG.add_transition((harzIndex,mantleIndex), depthFn, operator.gt, CRUSTTOMANTLE)\n",
    "#DG.add_transition((airIndex,mantleIndex), depthFn, operator.gt, TOPOHEIGHT)\n",
    "\n",
    "#... to crust\n",
    "DG.add_transition((mantleIndex,crustIndex), depthFn, operator.lt, MANTLETOCRUST)\n",
    "#DG.add_transition((mantleIndex,crustIndex), xFn, operator.lt, 0.) #No crust on the upper plate\n",
    "DG.add_transition((mantleIndex,crustIndex), ageVariable, operator.gt, crustageCond)\n",
    "\n",
    "DG.add_transition((harzIndex,crustIndex), depthFn, operator.lt, MANTLETOCRUST)\n",
    "#DG.add_transition((harzIndex,crustIndex), xFn, operator.lt, 0.) #This one sets no crust on the upper plate\n",
    "DG.add_transition((harzIndex,crustIndex), ageVariable, operator.gt, crustageCond)\n",
    "\n",
    "#... to Harzbugite\n",
    "DG.add_transition((mantleIndex,harzIndex), depthFn, operator.lt, HARZBURGDEPTH)\n",
    "DG.add_transition((mantleIndex,harzIndex), depthFn, operator.gt, MANTLETOCRUST)\n",
    "DG.add_transition((mantleIndex,harzIndex), ageVariable, operator.gt, crustageCond) #Note we can mix functions and swarm variabls\n",
    "\n",
    "#... to air\n",
    "#DG.add_transition((mantleIndex,airIndex), depthFn, operator.lt,0. - TOPOHEIGHT)\n",
    "#DG.add_transition((crustIndex,airIndex), depthFn, operator.lt, 0. - TOPOHEIGHT)\n",
    "\n"
   ]
  },
  {
   "cell_type": "code",
   "execution_count": 103,
   "metadata": {
    "collapsed": false
   },
   "outputs": [
    {
     "data": {
      "text/plain": [
       "(0.1, 0.02285)"
      ]
     },
     "execution_count": 103,
     "metadata": {},
     "output_type": "execute_result"
    }
   ],
   "source": [
    "CRUSTTOMANTLE, HARZBURGDEPTH"
   ]
  },
  {
   "cell_type": "code",
   "execution_count": 104,
   "metadata": {
    "collapsed": false
   },
   "outputs": [],
   "source": [
    "##############\n",
    "#For the slab_IC, we'll also add a crustal weak zone following the dipping perturbation\n",
    "##############\n",
    "\n",
    "if checkpointLoad != True:\n",
    "    if not symmetric_IC:\n",
    "        for particleID in range(gSwarm.particleCoordinates.data.shape[0]):\n",
    "            if (\n",
    "                Oc.evaluate(list(gSwarm.particleCoordinates.data[particleID])) and\n",
    "                Tri.evaluate(list(gSwarm.particleCoordinates.data[particleID])) and\n",
    "                Cc.evaluate(list(gSwarm.particleCoordinates.data[particleID])) == False\n",
    "                ):\n",
    "                materialVariable.data[particleID] = crustIndex"
   ]
  },
  {
   "cell_type": "code",
   "execution_count": 105,
   "metadata": {
    "collapsed": false
   },
   "outputs": [],
   "source": [
    "##############\n",
    "#This is how we use the material graph object to test / apply material transformations\n",
    "##############\n",
    "DG.build_condition_list(materialVariable)\n",
    "for i in range(3): #Need to go through a number of times\n",
    "    materialVariable.data[:] = fn.branching.conditional(DG.condition_list).evaluate(gSwarm)"
   ]
  },
  {
   "cell_type": "code",
   "execution_count": 106,
   "metadata": {
    "collapsed": false
   },
   "outputs": [],
   "source": [
    "#DG.build_condition_list(materialVariable)\n",
    "#materialVariable.data[:] = fn.branching.conditional(DG.condition_list).evaluate(gSwarm)"
   ]
  },
  {
   "cell_type": "code",
   "execution_count": null,
   "metadata": {
    "collapsed": false
   },
   "outputs": [],
   "source": []
  },
  {
   "cell_type": "markdown",
   "metadata": {},
   "source": [
    "Rheology\n",
    "-----\n",
    "\n"
   ]
  },
  {
   "cell_type": "code",
   "execution_count": 107,
   "metadata": {
    "collapsed": false
   },
   "outputs": [],
   "source": [
    "# The yeilding of the upper slab is dependent on the strain rate.\n",
    "strainRate_2ndInvariant = fn.tensor.second_invariant( \n",
    "                            fn.tensor.symmetric( \n",
    "                            velocityField.fn_gradient ))\n",
    "\n"
   ]
  },
  {
   "cell_type": "code",
   "execution_count": 108,
   "metadata": {
    "collapsed": false
   },
   "outputs": [
    {
     "data": {
      "text/plain": [
       "(49.15683109565078, 17.875211307509375, 28.301795831549015, 19.75229500743525)"
      ]
     },
     "execution_count": 108,
     "metadata": {},
     "output_type": "execute_result"
    }
   ],
   "source": [
    "ndp.Wds, ndp.Wdf, ndp.Eds, ndp.Edf"
   ]
  },
  {
   "cell_type": "code",
   "execution_count": 109,
   "metadata": {
    "collapsed": false
   },
   "outputs": [],
   "source": [
    "#ViscReduce = 0.1\n",
    "\n",
    "#ndp.Wds *= ViscReduce\n",
    "#ndp.Wdf *= ViscReduce\n",
    "#ndp.Eds *= ViscReduce\n",
    "#ndp.Edf *= ViscReduce"
   ]
  },
  {
   "cell_type": "code",
   "execution_count": 110,
   "metadata": {
    "collapsed": false
   },
   "outputs": [
    {
     "data": {
      "text/plain": [
       "(17.875211307509375, 19.75229500743525, 100000.0)"
      ]
     },
     "execution_count": 110,
     "metadata": {},
     "output_type": "execute_result"
    }
   ],
   "source": [
    "ndp.Wdf, ndp.Edf,ndp.eta_max"
   ]
  },
  {
   "cell_type": "code",
   "execution_count": 111,
   "metadata": {
    "collapsed": false
   },
   "outputs": [],
   "source": [
    "############\n",
    "#Rheology\n",
    "#############\n",
    "#\n",
    "#The final mantle rheology is composed as follows*:\n",
    "# \n",
    "#\n",
    "# mantleviscosityFn = max{  min{(1/omega*Visc + 1/eta_p)**-1,\n",
    "#                           eta_max},\n",
    "#                           eta_min}\n",
    "#                      \n",
    "#Visc => min{diffusionCreep, dislocationCreep, }\n",
    "#eta_p   => stress-limiting effective viscosity\n",
    "#\n",
    "\n",
    "omega = fn.misc.constant(1.)\n",
    "\n",
    "if melt_viscosity_reduction:\n",
    "    mvr =  fn.branching.conditional( [ (temperatureField > (ndp.Tmvp + 7.5*(1. - coordinate[1])) , 0.1 ),   (         True, 1.) ] )\n",
    "    omega = omega*mvr\n",
    "\n",
    "\n",
    "#implementation of the lower mantle viscosity increase, similar to Bello et al. 2015\n",
    "a = 1.\n",
    "B = 30.\n",
    "d0 = 660e3/dp.LS  \n",
    "ds = d0/10.\n",
    "if lower_mantle:\n",
    "    inner1 = 1. - 0.5*(1. - fn.math.tanh(((1. - d0)-(coordinate[1]))/(ds)))\n",
    "    modfac = a*fn.math.exp(np.log(B)*inner1)\n",
    "    omega = omega*modfac\n",
    "\n",
    "\n",
    "##Diffusion Creep\n",
    "ndfp = fn.misc.min(ndp.eta_max, fn.math.exp( ((ndp.Edf + (depthFn*ndp.Wdf))/((temperatureField + ndp.TS))) - \n",
    "              ((ndp.Edf + (ndp.Dr*ndp.Wdf))/((ndp.TPP + ndp.TS)))  ))\n",
    "\n",
    "linearVisc = fn.misc.min(ndp.eta_max, ndfp)\n",
    "\n",
    "##Dislocation Creep\n",
    "nl_correction = (strainRate_2ndInvariant/ndp.SR)**((1.-ndp.n)/(ndp.n))\n",
    "\n",
    "\n",
    "ndsp = fn.misc.min(ndp.eta_max,(nl_correction)*fn.math.exp( ((ndp.Eds + (depthFn*ndp.Wds))/(ndp.n*(temperatureField + ndp.TS))) -\n",
    "                                     ((ndp.Eds + (ndp.Dr*ndp.Wds))/(ndp.n*(ndp.TPP + ndp.TS)))))\n",
    "\n",
    "\n",
    "##Combine the creep mechanisms\n",
    "Visc = fn.misc.max(fn.misc.min(ndp.eta_max, fn.misc.min(ndfp, ndsp)), ndp.eta_min)\n",
    "\n",
    "##Define the Plasticity\n",
    "ys =  ndp.cohesion + (depthFn*ndp.fcd) #In this case we'll use a valid cohesion\n",
    "yielding = ys/(strainRate_2ndInvariant/math.sqrt(0.5)) #extra factor to account for underworld second invariant form\n",
    "\n",
    "\n",
    "#Combine the viscous creep and plasticity\n",
    "#mantleviscosityFn = fn.misc.max(fn.misc.min(1./(((1./Visc) + (1./yielding))), ndp.eta_max), ndp.eta_min)\n",
    "mantleviscosityFn = fn.misc.max(fn.misc.min(fn.misc.min(Visc, yielding), ndp.eta_max), ndp.eta_min)\n",
    "\n",
    "\n",
    "#fn.misc.min(Visc, yielding)\n",
    "\n",
    "#lower mantle rheology\n",
    "\n",
    "#ndflm = fn.misc.min(ndp.eta_max, fn.math.exp( ((ndp.Elm + (depthFn*ndp.Wlm))/((temperatureField + ndp.TS))) - \n",
    "#              ((ndp.Elm + (ndp.Dr*ndp.Wlm))/((ndp.TPP + ndp.TS)))  ))\n",
    "\n",
    "#I ignored Cizkova's lower mantle diffusion creep parameters, \n",
    "#as they appeared to give lower values that the upper mantle rheology, i.e a visc. decrease at 660.\n",
    "#lm_increase = 1.\n",
    "#lowermantleviscosityFn = fn.misc.max(lm_increase*ndfp, ndp.eta_min)\n",
    "\n",
    "\n",
    "##Crust rheology\n",
    "#reduceFac = 0.1\n",
    "#ysc =  reduceFac*ndp.cohesion + reduceFac*(depthFn*gamma*ndp.RA) #In this case we'll use a valid cohesion\n",
    "#crust_yielding = ysc/(strainRate_2ndInvariant/math.sqrt(0.5)) #extra factor to account for underworld second invariant form\n",
    "#crustviscosityFn = fn.misc.max(fn.misc.min(1./(((1./Visc) + (1./crust_yielding))), ndp.eta_max), ndp.eta_min)\n"
   ]
  },
  {
   "cell_type": "code",
   "execution_count": 125,
   "metadata": {
    "collapsed": false
   },
   "outputs": [],
   "source": [
    "############\n",
    "#Build a weak zone\n",
    "#############\n",
    "#\n",
    "\n",
    "def disGen(centre):\n",
    "    coord = fn.input()\n",
    "    offsetFn = coord - centre\n",
    "    return fn.math.sqrt(fn.math.dot( offsetFn, offsetFn ))\n",
    "\n",
    "depth = 200.e3 #m\n",
    "angle = 20. #degrees\n",
    "num_circles = 50\n",
    "half_width = 5e3 #m\n",
    "\n",
    "\n",
    "xpos = depth/math.tan((angle*math.pi/180.))\n",
    "start = (0.075, 1.)\n",
    "end = (start[0] +xpos/dp.LS , start[1] - depth/dp.LS)\n",
    "xar = np.linspace(start[0], end[0], num_circles)\n",
    "yar = np.linspace(start[1], end[1], num_circles)\n",
    "fnBuilder = fn.misc.constant(1000.)\n",
    "for i in range(num_circles):\n",
    "    circ_dist = disGen((xar[i], yar[i]))\n",
    "    fnBuilder = fn.misc.min(circ_dist, fnBuilder)\n",
    "    \n",
    "sig = half_width/dp.LS\n",
    "gammaFn =  fn.math.exp(-fn.math.pow(fnBuilder, 2.) / (2. * fn.math.pow(sig, 2.)))"
   ]
  },
  {
   "cell_type": "code",
   "execution_count": 126,
   "metadata": {
    "collapsed": false
   },
   "outputs": [],
   "source": [
    "testFn = disGen((0., 1.))"
   ]
  },
  {
   "cell_type": "code",
   "execution_count": 127,
   "metadata": {
    "collapsed": true
   },
   "outputs": [],
   "source": [
    "combmantleviscosityFn = fn.misc.min(mantleviscosityFn, fn.misc.min((1./gammaFn*1.),ndp.eta_max))\n"
   ]
  },
  {
   "cell_type": "code",
   "execution_count": 128,
   "metadata": {
    "collapsed": false
   },
   "outputs": [
    {
     "data": {
      "text/html": [
       "<img src='data:image/png;base64,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'>"
      ],
      "text/plain": [
       "<IPython.core.display.HTML object>"
      ]
     },
     "metadata": {},
     "output_type": "display_data"
    },
    {
     "data": {
      "text/plain": [
       "'test.gldb'"
      ]
     },
     "execution_count": 128,
     "metadata": {},
     "output_type": "execute_result"
    }
   ],
   "source": [
    "fig= glucifer.Figure()\n",
    "#fig.append( glucifer.objects.Points(gSwarm,tracerVariable, colours= 'white black'))\n",
    "#fig.append( glucifer.objects.Points(gSwarm,materialVariable))\n",
    "fig.append( glucifer.objects.Surface(mesh, combmantleviscosityFn,logScale=True))\n",
    "#fig.append( glucifer.objects.VectorArrows(mesh, testFn))\n",
    "#fig.show()\n",
    "#fig.save_database('test.gldb')"
   ]
  },
  {
   "cell_type": "markdown",
   "metadata": {},
   "source": [
    "import matplotlib.pylab as pyplt\n",
    "%matplotlib inline\n",
    "\n",
    "\n",
    "\n",
    "##################\n",
    "#Output functions to numpy vertical averages, maxes, mins\n",
    "##################\n",
    "\n",
    "viscmapFnmesh = uw.mesh.MeshVariable(mesh,nodeDofCount=1)\n",
    "out = uw.utils.MeshVariable_Projection( viscmapFnmesh, viscosityMapFn)\n",
    "out.solve()\n",
    "\n",
    "\n",
    "#avDf = ndfp.evaluate(mesh).reshape(mesh.elementRes[1] + 1, mesh.elementRes[0] + 1).mean(axis=1)\n",
    "avDs = ndsp.evaluate(mesh).reshape(mesh.elementRes[1] + 1, mesh.elementRes[0] + 1).mean(axis=1)\n",
    "umantle = mantleviscosityFn.evaluate(mesh).reshape(mesh.elementRes[1] + 1, mesh.elementRes[0] + 1).mean(axis=1)\n",
    "lmantle = lowermantleviscosityFn.evaluate(mesh).reshape(mesh.elementRes[1] + 1, mesh.elementRes[0] + 1).mean(axis=1)\n",
    "eff = viscmapFnmesh.evaluate(mesh).reshape(mesh.elementRes[1] + 1, mesh.elementRes[0] + 1).mean(axis=1)\n",
    "\n",
    "effMin = viscmapFnmesh.evaluate(mesh).reshape(mesh.elementRes[1] + 1, mesh.elementRes[0] + 1).min(axis=1)\n",
    "effMax = viscmapFnmesh.evaluate(mesh).reshape(mesh.elementRes[1] + 1, mesh.elementRes[0] + 1).max(axis=1)\n",
    "\n",
    "###################\n",
    "#Plot\n",
    "###################\n",
    "import matplotlib.pylab as pyplt\n",
    "%matplotlib inline\n",
    "\n",
    "fig, ax = pyplt.subplots()\n",
    "#ax .plot(avDf, label = 'diff')\n",
    "#ax .plot(avDs, label = 'dis')\n",
    "ax .plot(eff, label = 'eff')\n",
    "ax .plot(effMax, label = 'effMax')\n",
    "ax .plot(effMin, label = 'effMin')\n",
    "#ax .plot(umantle, label = 'uman')\n",
    "#ax .plot(lmantle, label = 'lman')\n",
    "ax.set_yscale(\"log\", nonposy='clip')\n",
    "ax.legend(loc = 3)"
   ]
  },
  {
   "cell_type": "code",
   "execution_count": 70,
   "metadata": {
    "collapsed": false
   },
   "outputs": [
    {
     "data": {
      "text/html": [
       "<img src='data:image/png;base64,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'>"
      ],
      "text/plain": [
       "<IPython.core.display.HTML object>"
      ]
     },
     "metadata": {},
     "output_type": "display_data"
    },
    {
     "data": {
      "text/plain": [
       "'test.gldb'"
      ]
     },
     "execution_count": 70,
     "metadata": {},
     "output_type": "execute_result"
    }
   ],
   "source": [
    "fig= glucifer.Figure()\n",
    "#fig.append( glucifer.objects.Points(gSwarm,materialVariable))\n",
    "fig.append( glucifer.objects.Points(gSwarm,viscosityMapFn, logScale=True))\n",
    "#fig.append( glucifer.objects.Surface(mesh, ndfp, logScale=True))\n",
    "\n",
    "#fig.append( glucifer.objects.Surface(mesh,strainRate_2ndInvariant, logScale=True))\n",
    "#fig.show()\n",
    "#fig.save_database('test.gldb')"
   ]
  },
  {
   "cell_type": "code",
   "execution_count": 65,
   "metadata": {
    "collapsed": false
   },
   "outputs": [
    {
     "data": {
      "text/plain": [
       "(64.974561976578542, 0.06808037408223129)"
      ]
     },
     "execution_count": 65,
     "metadata": {},
     "output_type": "execute_result"
    }
   ],
   "source": [
    "ndsp.evaluate(mesh).min(), ndfp.evaluate(mesh).min()"
   ]
  },
  {
   "cell_type": "code",
   "execution_count": 66,
   "metadata": {
    "collapsed": false
   },
   "outputs": [],
   "source": [
    "fig= glucifer.Figure()\n",
    "#fig.append( glucifer.objects.Points(gSwarm,tracerVariable, colours= 'white black'))\n",
    "#fig.append( glucifer.objects.Points(gSwarm,materialVariable))\n",
    "#fig.append( glucifer.objects.Surface(mesh, ndfp/ndsp , logScale=True))\n",
    "\n",
    "fig.append( glucifer.objects.Surface(mesh, strainRate_2ndInvariant/ndp.SR))\n",
    "#fig.show()\n",
    "#fig.save_database('test.gldb')"
   ]
  },
  {
   "cell_type": "markdown",
   "metadata": {},
   "source": [
    "Stokes system setup\n",
    "-----\n"
   ]
  },
  {
   "cell_type": "code",
   "execution_count": 67,
   "metadata": {
    "collapsed": false
   },
   "outputs": [],
   "source": [
    "#this accounts for the decreas in expansivity\n",
    "alphaRatio = 1.2/3\n",
    "taFn = 1. - (1. - depthFn)*(1. - alphaRatio) \n",
    "raylieghFn = ndp.RA*temperatureField*taFn \n",
    "\n",
    "\n",
    "# Here we set a viscosity value of '1.' for both materials\n",
    "viscosityMapFn = fn.branching.map( fn_key = materialVariable,\n",
    "                         mapping = {crustIndex:combmantleviscosityFn,\n",
    "                                    mantleIndex:combmantleviscosityFn,\n",
    "                                    harzIndex:combmantleviscosityFn,\n",
    "                                    \n",
    "                                    airIndex:ndp.Steta0} )\n",
    "\n",
    "densityMapFn = fn.branching.map( fn_key = materialVariable,\n",
    "                         mapping = {airIndex:ndp.StRA,\n",
    "                                    crustIndex:raylieghFn, \n",
    "                                    mantleIndex:raylieghFn,\n",
    "                                    harzIndex:raylieghFn} )"
   ]
  },
  {
   "cell_type": "code",
   "execution_count": null,
   "metadata": {
    "collapsed": false
   },
   "outputs": [],
   "source": [
    "\n",
    "# Define our vertical unit vector using a python tuple (this will be automatically converted to a function).\n",
    "gravity = ( 0.0, 1.0 )\n",
    "\n",
    "# Now create a buoyancy force vector using the density and the vertical unit vector. \n",
    "buoyancyFn = densityMapFn * gravity"
   ]
  },
  {
   "cell_type": "code",
   "execution_count": null,
   "metadata": {
    "collapsed": false
   },
   "outputs": [],
   "source": [
    "stokesPIC = uw.systems.Stokes(velocityField=velocityField, \n",
    "                              pressureField=pressureField,\n",
    "                              conditions=[freeslipBC,],\n",
    "                              fn_viscosity=linearVisc, \n",
    "                              fn_bodyforce=buoyancyFn )"
   ]
  },
  {
   "cell_type": "code",
   "execution_count": null,
   "metadata": {
    "collapsed": false
   },
   "outputs": [],
   "source": [
    "solver = uw.systems.Solver(stokesPIC)\n",
    "if not checkpointLoad:\n",
    "    solver.solve() #A solve on the linear visocisty is unhelpful unless we're starting from scratch"
   ]
  },
  {
   "cell_type": "code",
   "execution_count": null,
   "metadata": {
    "collapsed": true
   },
   "outputs": [],
   "source": [
    "#Add the non-linear viscosity to the Stokes system\n",
    "stokesPIC.fn_viscosity = viscosityMapFn"
   ]
  },
  {
   "cell_type": "code",
   "execution_count": null,
   "metadata": {
    "collapsed": false
   },
   "outputs": [],
   "source": [
    "solver.set_inner_method(\"mumps\")\n",
    "solver.options.scr.ksp_type=\"cg\"\n",
    "solver.set_penalty(1.0e7)\n",
    "solver.options.scr.ksp_rtol = 1.0e-4\n",
    "solver.solve(nonLinearIterate=True)\n",
    "solver.print_stats()"
   ]
  },
  {
   "cell_type": "code",
   "execution_count": null,
   "metadata": {
    "collapsed": true
   },
   "outputs": [],
   "source": []
  },
  {
   "cell_type": "code",
   "execution_count": null,
   "metadata": {
    "collapsed": false
   },
   "outputs": [],
   "source": [
    "#Check which particles are yielding\n",
    "#yieldingCheck.data[:] = 0\n",
    "\n",
    "#yieldconditions = [ ( mantleviscosityFn < Visc , 1), \n",
    "#               ( True                                           , 0) ]\n",
    "\n",
    "# use the branching conditional function to set each particle's index\n",
    "#yieldingCheck.data[:] = fn.branching.conditional( yieldconditions ).evaluate(gSwarm)"
   ]
  },
  {
   "cell_type": "code",
   "execution_count": null,
   "metadata": {
    "collapsed": false,
    "scrolled": true
   },
   "outputs": [],
   "source": [
    "#fig= glucifer.Figure()\n",
    "#fig.append( glucifer.objects.Points(gSwarm,yieldingCheck))\n",
    "\n",
    "#fig.append( glucifer.objects.Surface(mesh,ndflm, logScale=True))\n",
    "#fig.show()"
   ]
  },
  {
   "cell_type": "markdown",
   "metadata": {},
   "source": [
    "Advection-diffusion System setup\n",
    "-----"
   ]
  },
  {
   "cell_type": "code",
   "execution_count": null,
   "metadata": {
    "collapsed": true
   },
   "outputs": [],
   "source": [
    "advDiff = uw.systems.AdvectionDiffusion( phiField       = temperatureField, \n",
    "                                         phiDotField    = temperatureDotField, \n",
    "                                         velocityField  = velocityField,\n",
    "                                         fn_sourceTerm    = 0.0,\n",
    "                                         fn_diffusivity = 1.0, \n",
    "                                         #conditions     = [neumannTempBC, dirichTempBC] )\n",
    "                                         conditions     = [ dirichTempBC] )\n",
    "\n",
    "passiveadvector = uw.systems.SwarmAdvector( swarm         = gSwarm, \n",
    "                                     velocityField = velocityField, \n",
    "                                     order         = 1)"
   ]
  },
  {
   "cell_type": "code",
   "execution_count": null,
   "metadata": {
    "collapsed": true
   },
   "outputs": [],
   "source": [
    "population_control = uw.swarm.PopulationControl(gSwarm,deleteThreshold=0.2,splitThreshold=1.,maxDeletions=3,maxSplits=0, aggressive=True, particlesPerCell=ppc)"
   ]
  },
  {
   "cell_type": "markdown",
   "metadata": {},
   "source": [
    "Analysis functions / routines\n",
    "-----"
   ]
  },
  {
   "cell_type": "code",
   "execution_count": null,
   "metadata": {
    "collapsed": true
   },
   "outputs": [],
   "source": [
    "#These are functions we can use to evuate integrals over restricted parts of the domain\n",
    "# For instance, we can exclude the thermal lithosphere from integrals\n",
    "\n",
    "def temprestrictionFn(lithval = 0.9):\n",
    "\n",
    "    tempMM = fn.view.min_max(temperatureField)\n",
    "    tempMM.evaluate(mesh)\n",
    "    TMAX = tempMM.max_global()\n",
    "    mantleconditions = [ (                                  temperatureField > lithval*TMAX, 1.),\n",
    "                   (                                                   True , 0.) ]\n",
    "\n",
    "\n",
    "    return fn.branching.conditional(mantleconditions)\n",
    "\n",
    "mantlerestrictFn = temprestrictionFn(lithval = 0.85)\n",
    "\n",
    "\n",
    "\n",
    "def platenessFn(val = 0.1):\n",
    "    normgradV = fn.math.abs(velocityField.fn_gradient[0]/fn.math.sqrt(velocityField[0]*velocityField[0])) #[du*/dx]/sqrt(u*u)\n",
    "\n",
    "\n",
    "\n",
    "    srconditions = [ (                                  normgradV < val, 1.),\n",
    "                   (                                                   True , 0.) ]\n",
    "\n",
    "\n",
    "    return fn.branching.conditional(srconditions)\n",
    "\n",
    "srrestrictFn = platenessFn(val = 0.1)"
   ]
  },
  {
   "cell_type": "code",
   "execution_count": null,
   "metadata": {
    "collapsed": true
   },
   "outputs": [],
   "source": []
  },
  {
   "cell_type": "code",
   "execution_count": null,
   "metadata": {
    "collapsed": false
   },
   "outputs": [],
   "source": [
    "#Setup volume integrals \n",
    "\n",
    "tempint = uw.utils.Integral( temperatureField, mesh )\n",
    "areaint = uw.utils.Integral( 1.,               mesh )\n",
    "\n",
    "v2int   = uw.utils.Integral( fn.math.dot(velocityField,velocityField), mesh )\n",
    "\n",
    "dwint   = uw.utils.Integral( temperatureField*velocityField[1], mesh )\n",
    "\n",
    "sinner = fn.math.dot( strainRate_2ndInvariant, strainRate_2ndInvariant )\n",
    "vdint = uw.utils.Integral( (2.*viscosityMapFn*sinner), mesh ) #Is it two or four here?\n",
    "\n",
    "mantleArea   = uw.utils.Integral( mantlerestrictFn, mesh )\n",
    "mantleTemp = uw.utils.Integral( temperatureField*mantlerestrictFn, mesh )\n",
    "mantleVisc = uw.utils.Integral( mantleviscosityFn*mantlerestrictFn, mesh )\n",
    "mantleVd = uw.utils.Integral( (2.*viscosityMapFn*sinner*mantlerestrictFn), mesh ) #these now work on MappingFunctions"
   ]
  },
  {
   "cell_type": "code",
   "execution_count": null,
   "metadata": {
    "collapsed": true
   },
   "outputs": [],
   "source": [
    "#Setup surface integrals\n",
    "\n",
    "rmsSurfInt = uw.utils.Integral( fn=velocityField[0]*velocityField[0], mesh=mesh, integrationType='Surface', \n",
    "                          surfaceIndexSet=mesh.specialSets[\"MaxJ_VertexSet\"])\n",
    "nuTop      = uw.utils.Integral( fn=temperatureField.fn_gradient[1],    mesh=mesh, integrationType='Surface', \n",
    "                          surfaceIndexSet=mesh.specialSets[\"MaxJ_VertexSet\"])\n",
    "nuBottom   = uw.utils.Integral( fn=temperatureField.fn_gradient[1],    mesh=mesh, integrationType='Surface', \n",
    "                          surfaceIndexSet=mesh.specialSets[\"MinJ_VertexSet\"])\n",
    "\n",
    "plateint  = uw.utils.Integral( fn=srrestrictFn, mesh=mesh, integrationType='Surface', #Integrate the plateness function\n",
    "                          surfaceIndexSet=mesh.specialSets[\"MaxJ_VertexSet\"]) \n",
    "\n",
    "surfint  = uw.utils.Integral( fn=1., mesh=mesh, integrationType='Surface',   #Surface length function (i.e. domain width)\n",
    "                          surfaceIndexSet=mesh.specialSets[\"MaxJ_VertexSet\"])"
   ]
  },
  {
   "cell_type": "code",
   "execution_count": null,
   "metadata": {
    "collapsed": true
   },
   "outputs": [],
   "source": [
    "#Define functions for the evaluation of integrals\n",
    "\n",
    "def basic_int(ourIntegral):           #This one just hands back the evaluated integral\n",
    "    return ourIntegral.evaluate()[0]\n",
    "\n",
    "def avg_temp():\n",
    "    return tempint.evaluate()[0]/areaint.evaluate()[0]\n",
    "\n",
    "def nusseltTB(temp_field, mesh):\n",
    "    return -nuTop.evaluate()[0], -nuBottom.evaluate()[0]\n",
    "\n",
    "def rms():\n",
    "    return math.sqrt(v2int.evaluate()[0]/areaint.evaluate()[0])\n",
    "\n",
    "def rms_surf():\n",
    "    return math.sqrt(rmsSurfInt.evaluate()[0])\n",
    "\n",
    "def max_vx_surf(velfield, mesh):\n",
    "    vuvelxfn = fn.view.min_max(velfield[0])\n",
    "    vuvelxfn.evaluate(mesh.specialSets[\"MaxJ_VertexSet\"])\n",
    "    return vuvelxfn.max_global()\n",
    "\n",
    "\n",
    "def visc_extr(viscfn):\n",
    "    vuviscfn = fn.view.min_max(viscfn)\n",
    "    vuviscfn.evaluate(mesh)\n",
    "    return vuviscfn.max_global(), vuviscfn.min_global()"
   ]
  },
  {
   "cell_type": "code",
   "execution_count": null,
   "metadata": {
    "collapsed": false
   },
   "outputs": [],
   "source": [
    "#v2sum_integral  = uw.utils.Integral( mesh=mesh, fn=fn.math.dot( velocityField, velocityField ) )\n",
    "#volume_integral = uw.utils.Integral( mesh=mesh, fn=1. )\n",
    "#Vrms = math.sqrt( v2sum_integral.evaluate()[0] )/volume_integral.evaluate()[0]\n",
    "\n",
    "\n",
    "\n",
    "#if(uw.rank()==0):\n",
    "#    print('Initial Vrms = {0:.3f}'.format(Vrms))\n",
    "\n",
    "# Check the Metrics\n",
    "\n",
    "#Avg_temp = avg_temp()\n",
    "#Rms = rms()\n",
    "#Rms_surf = rms_surf()\n",
    "#Max_vx_surf = max_vx_surf(velocityField, mesh)\n",
    "#Gravwork = basic_int(dwint)\n",
    "#Viscdis = basic_int(vdint)\n",
    "#nu1, nu0 = nusseltTB(temperatureField, mesh) # return top then bottom\n",
    "#etamax, etamin = visc_extr(mantleviscosityFn)\n",
    "\n",
    "#Area_mantle = basic_int(mantleArea)\n",
    "#Viscmantle = basic_int(mantleVisc)\n",
    "#Tempmantle = basic_int(mantleTemp)\n",
    "#Viscdismantle = basic_int(mantleVd)"
   ]
  },
  {
   "cell_type": "markdown",
   "metadata": {},
   "source": [
    "Viz.\n",
    "-----"
   ]
  },
  {
   "cell_type": "code",
   "execution_count": null,
   "metadata": {
    "collapsed": false
   },
   "outputs": [],
   "source": [
    "viscVariable = gSwarm.add_variable( dataType=\"float\", count=1 )\n",
    "viscVariable.data[:] = viscosityMapFn.evaluate(gSwarm)"
   ]
  },
  {
   "cell_type": "code",
   "execution_count": null,
   "metadata": {
    "collapsed": false
   },
   "outputs": [],
   "source": [
    "#Pack some stuff into a database as well\n",
    "figDb = glucifer.Figure()\n",
    "#figDb.append( glucifer.objects.Mesh(mesh))\n",
    "figDb.append( glucifer.objects.VectorArrows(mesh,velocityField, scaling=0.0005))\n",
    "#figDb.append( glucifer.objects.Points(gSwarm,tracerVariable, colours= 'white black'))\n",
    "figDb.append( glucifer.objects.Points(gSwarm,materialVariable))\n",
    "\n",
    "figDb.append( glucifer.objects.Points(gSwarm,viscosityMapFn, logScale=True))\n",
    "figDb.append( glucifer.objects.Surface(mesh, strainRate_2ndInvariant, logScale=True))\n",
    "figDb.append( glucifer.objects.Surface(mesh, temperatureField))\n",
    "#figDb.show()"
   ]
  },
  {
   "cell_type": "code",
   "execution_count": null,
   "metadata": {
    "collapsed": false
   },
   "outputs": [],
   "source": [
    "##############\n",
    "#Create a numpy array at the surface to get surface information on (using parallel-friendly evaluate_global)\n",
    "##############\n",
    "\n",
    "surface_xs = np.linspace(mesh.minCoord[0], mesh.maxCoord[0], mesh.elementRes[0] + 1)\n",
    "surface_nodes = np.array(zip(surface_xs, np.ones(len(surface_xs)*mesh.maxCoord[1]))) #For evaluation surface velocity\n",
    "normgradV = velocityField.fn_gradient[0]/fn.math.sqrt(velocityField[0]*velocityField[0])\n",
    "\n",
    "tempMM = fn.view.min_max(temperatureField)\n",
    "dummy = tempMM.evaluate(mesh)\n",
    "\n"
   ]
  },
  {
   "cell_type": "markdown",
   "metadata": {},
   "source": [
    "**Miscellania**"
   ]
  },
  {
   "cell_type": "code",
   "execution_count": null,
   "metadata": {
    "collapsed": false
   },
   "outputs": [],
   "source": [
    "##############\n",
    "#These functions handle checkpointing\n",
    "##############\n",
    "\n",
    "\n",
    "def checkpoint1(step, checkpointPath,filename, filewrites):\n",
    "    path = checkpointPath + str(step) \n",
    "    os.mkdir(path)\n",
    "    ##Write and save the file, if not already a writing step\n",
    "    if not step % filewrites == 0:\n",
    "        filename.write((17*'%-15s ' + '\\n') % (realtime, Viscdis, float(nu0), float(nu1), Avg_temp,\n",
    "                                              Tempmantle,TMAX,\n",
    "                                              Rms,Rms_surf,Max_vx_surf,Gravwork, etamax, etamin, \n",
    "                                              Area_mantle, Viscmantle,  Viscdismantle,Plateness ))\n",
    "    filename.close()\n",
    "    shutil.copyfile(os.path.join(outputPath, outputFile), os.path.join(path, outputFile))\n",
    "\n",
    "\n",
    "def checkpoint2(step, checkpointPath, swarm, filename, varlist = [materialVariable], varnames = ['materialVariable']):\n",
    "    path = checkpointPath + str(step) \n",
    "    velfile = \"velocityField\" + \".hdf5\"\n",
    "    tempfile = \"temperatureField\" + \".hdf5\"\n",
    "    pressfile = \"pressureField\" + \".hdf5\"\n",
    "    velocityField.save(os.path.join(path, velfile))\n",
    "    temperatureField.save(os.path.join(path, tempfile))\n",
    "    pressureField.save(os.path.join(path, pressfile))\n",
    "    swarm.save(os.path.join(path, \"swarm.h5\") ) \n",
    "    for ix in range(len(varlist)):\n",
    "        varb = varlist[ix]\n",
    "        varb.save(os.path.join(path,varnames[ix] + \".h5\"))\n",
    "    "
   ]
  },
  {
   "cell_type": "code",
   "execution_count": null,
   "metadata": {
    "collapsed": true
   },
   "outputs": [],
   "source": [
    "##############\n",
    "#This will allow us to evaluate viscous shear heating, and add the result directly to the temperature field\n",
    "##############\n",
    "\n",
    "viscDisMapFn = 2.*viscosityMapFn*sinner\n",
    "viscDisFnmesh = uw.mesh.MeshVariable(mesh,nodeDofCount=1)\n",
    "viscDisProj = uw.utils.MeshVariable_Projection( viscDisFnmesh, viscDisMapFn)\n",
    "viscDisProj.solve()"
   ]
  },
  {
   "cell_type": "code",
   "execution_count": null,
   "metadata": {
    "collapsed": false
   },
   "outputs": [],
   "source": [
    "# initialise timer for computation\n",
    "start = time.clock()\n",
    "# setup summary output file (name above)\n",
    "if checkpointLoad:\n",
    "    if uw.rank() == 0:\n",
    "        shutil.copyfile(os.path.join(checkpointLoadDir, outputFile), outputPath+outputFile)\n",
    "    comm.Barrier()\n",
    "    f_o = open(os.path.join(outputPath, outputFile), 'a')\n",
    "    prevdata = np.genfromtxt(os.path.join(outputPath, outputFile), skip_header=0, skip_footer=0)\n",
    "    if len(prevdata.shape) == 1: #this is in case there is only one line in previous file\n",
    "        realtime = prevdata[0]\n",
    "    else:\n",
    "        realtime = prevdata[prevdata.shape[0]-1, 0]\n",
    "    step = int(checkpointLoadDir.split('/')[-1])\n",
    "    timevals = [0.]\n",
    "else:\n",
    "    f_o = open(outputPath+outputFile, 'w')\n",
    "    realtime = 0.\n",
    "    step = 0\n",
    "    timevals = [0.]"
   ]
  },
  {
   "cell_type": "markdown",
   "metadata": {},
   "source": [
    "Main simulation loop\n",
    "-----\n"
   ]
  },
  {
   "cell_type": "code",
   "execution_count": null,
   "metadata": {
    "collapsed": false
   },
   "outputs": [],
   "source": [
    "#while step < 21:\n",
    "while realtime < 1.:\n",
    "\n",
    "    # solve Stokes and advection systems\n",
    "    solver.solve(nonLinearIterate=True)\n",
    "    dt = advDiff.get_max_dt()\n",
    "    if step == 0:\n",
    "        dt = 0.\n",
    "    advDiff.integrate(dt)\n",
    "    passiveadvector.integrate(dt)\n",
    "    \n",
    "    #Add the adiabatic adjustment:\n",
    "    temperatureField.data[:] += dt*abHeatFn.evaluate(mesh)\n",
    "    \n",
    "    #Add the viscous heating term\n",
    "    viscDisProj = uw.utils.MeshVariable_Projection( viscDisFnmesh, viscDisMapFn)\n",
    "    viscDisProj.solve()\n",
    "    temperatureField.data[:] += dt*viscDisFnmesh.evaluate(mesh)\n",
    "    \n",
    "\n",
    "    # Increment\n",
    "    realtime += dt\n",
    "    step += 1\n",
    "    timevals.append(realtime)\n",
    "    ################\n",
    "    #Update temperature field in the air region\n",
    "    #Do this better...\n",
    "    ################\n",
    "    if (step % sticky_air_temp == 0):\n",
    "        for index, coord in enumerate(mesh.data):\n",
    "            if coord[1] >= 1.:\n",
    "                temperatureField.data[index] = ndp.TSP\n",
    "\n",
    "    # Calculate the Metrics, only on 1 of the processors:\n",
    "    ################\n",
    "    if (step % metric_output == 0):\n",
    "        ###############\n",
    "        #Swarm - based Metrics\n",
    "        ###############\n",
    "        # Calculate the RMS velocity and Nusselt number.\n",
    "        # Calculate the Metrics, only on 1 of the processors:\n",
    "        mantlerestrictFn = temprestrictionFn() #rebuild the mantle restriction function (but these should be dynamic?)\n",
    "        srrestrictFn = platenessFn(val = 0.1) #rebuild the plateness restriction function\n",
    "        dummy = tempMM.evaluate(mesh) #Re-evaluate any fn.view.min_max guys\n",
    "        #Rebuild these integrals (a test because metrics changes after a restart)\n",
    "        mantleArea   = uw.utils.Integral( mantlerestrictFn, mesh )\n",
    "        mantleTemp = uw.utils.Integral( temperatureField*mantlerestrictFn, mesh )\n",
    "        mantleVisc = uw.utils.Integral( mantleviscosityFn*mantlerestrictFn, mesh )\n",
    "        mantleVd = uw.utils.Integral( (4.*viscosityMapFn*sinner*mantlerestrictFn), mesh ) #these now work on MappingFunctions\n",
    "        ###\n",
    "        Avg_temp = avg_temp()\n",
    "        Rms = rms()\n",
    "        Rms_surf = rms_surf()\n",
    "        Max_vx_surf = max_vx_surf(velocityField, mesh)\n",
    "        Gravwork = basic_int(dwint)\n",
    "        Viscdis = basic_int(vdint)\n",
    "        nu1, nu0 = nusseltTB(temperatureField, mesh) # return top then bottom\n",
    "        etamax, etamin = visc_extr(mantleviscosityFn)\n",
    "        Area_mantle = basic_int(mantleArea)\n",
    "        Viscmantle = basic_int(mantleVisc)\n",
    "        Tempmantle = basic_int(mantleTemp)\n",
    "        Viscdismantle = basic_int(mantleVd)\n",
    "        Plateness = basic_int(plateint)/basic_int(surfint)\n",
    "        TMAX = tempMM.max_global()\n",
    "        # output to summary text file\n",
    "        if uw.rank()==0:\n",
    "            f_o.write((17*'%-15s ' + '\\n') % (realtime, Viscdis, float(nu0), float(nu1), Avg_temp,\n",
    "                                              Tempmantle,TMAX,\n",
    "                                              Rms,Rms_surf,Max_vx_surf,Gravwork, etamax, etamin, \n",
    "                                              Area_mantle, Viscmantle,  Viscdismantle,Plateness ))\n",
    "    ################\n",
    "    #Also repopulate entire swarm periodically\n",
    "    ################\n",
    "    #if step % swarm_repop == 0:\n",
    "    population_control.repopulate()   \n",
    "    ################\n",
    "    #Checkpoint\n",
    "    ################\n",
    "    if step % checkpoint_every == 0:\n",
    "        if uw.rank() == 0:\n",
    "            checkpoint1(step, checkpointPath,f_o, metric_output)           \n",
    "        checkpoint2(step, checkpointPath, gSwarm, f_o, varlist = varlist, varnames = varnames)\n",
    "        f_o = open(os.path.join(outputPath, outputFile), 'a') #is this line supposed to be here?\n",
    "    ################\n",
    "    #Gldb output\n",
    "    ################ \n",
    "    if (step % gldbs_output == 0):\n",
    "        #Rebuild any necessary swarm variables\n",
    "        viscVariable.data[:] = viscosityMapFn.evaluate(gSwarm)\n",
    "        #Write gldbs\n",
    "        fnamedb = \"dbFig\" + \"_\" + str(ModIt) + \"_\" + str(step) + \".gldb\"\n",
    "        fullpath = os.path.join(outputPath + \"gldbs/\" + fnamedb)\n",
    "        #figDb.show()\n",
    "        figDb.save_database(fullpath)\n",
    "    ################\n",
    "    #Files output\n",
    "    ################ \n",
    "    if (step % files_output == 0):\n",
    "\n",
    "        vel_surface = velocityField.evaluate_global(surface_nodes)\n",
    "        norm_surface_sr = normgradV.evaluate_global(surface_nodes)\n",
    "        if uw.rank() == 0:\n",
    "            fnametemp = \"velsurface\" + \"_\" + str(ModIt) + \"_\" + str(step)\n",
    "            fullpath = os.path.join(outputPath + \"files/\" + fnametemp)\n",
    "            np.save(fullpath, vel_surface)\n",
    "            fnametemp = \"norm_surface_sr\" + \"_\" + str(ModIt) + \"_\" + str(step)\n",
    "            fullpath = os.path.join(outputPath + \"files/\" + fnametemp)\n",
    "            np.save(fullpath, norm_surface_sr)\n",
    "    ################\n",
    "    #Particle update\n",
    "    ###############    \n",
    "    #ageVariable.data[:] += dt #increment the ages (is this efficient?)\n",
    "    ageDT += dt\n",
    "    \n",
    "    if step % swarm_update == 0:\n",
    "        #Increment age stuff. \n",
    "        ageEval = fn.branching.conditional( ageConditions ).evaluate(gSwarm)\n",
    "        ageVariable.data[np.where(ageEval == 0)] = 0 #If below the critical depth, age is set to zero\n",
    "        ageVariable.data[np.where(ageEval != 0)] += ageDT #If age above critical depth, increment age\n",
    "        ageDT = 0. #reset the age incrementer\n",
    "        \n",
    "        #Apply any materialVariable changes\n",
    "        for i in range(2): #Need to go through twice first time through\n",
    "            materialVariable.data[:] = fn.branching.conditional(DG.condition_list).evaluate(gSwarm)\n",
    "\n",
    "    \n",
    "f_o.close()\n",
    "print 'step =',step"
   ]
  },
  {
   "cell_type": "code",
   "execution_count": null,
   "metadata": {
    "collapsed": false
   },
   "outputs": [],
   "source": [
    "viscVariable = gSwarm.add_variable( dataType=\"float\", count=1 )\n",
    "viscVariable.data[:] = viscosityMapFn.evaluate(gSwarm)"
   ]
  }
 ],
 "metadata": {
  "kernelspec": {
   "display_name": "Python 2",
   "language": "python",
   "name": "python2"
  },
  "language_info": {
   "codemirror_mode": {
    "name": "ipython",
    "version": 2
   },
   "file_extension": ".py",
   "mimetype": "text/x-python",
   "name": "python",
   "nbconvert_exporter": "python",
   "pygments_lexer": "ipython2",
   "version": "2.7.9"
  },
  "widgets": {
   "state": {},
   "version": "1.1.2"
  }
 },
 "nbformat": 4,
 "nbformat_minor": 0
}
