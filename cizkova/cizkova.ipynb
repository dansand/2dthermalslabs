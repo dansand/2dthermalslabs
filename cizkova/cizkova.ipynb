{
 "cells": [
  {
   "cell_type": "markdown",
   "metadata": {},
   "source": [
    "## composite, non-linear rheology:\n",
    "\n",
    "\n",
    "The viscous rheology in this model is similar to the Čížková and Bina paper cited below. Other parts of the model setup are similar to Arredondo and Billen (2016) and Korenaga (2011). \n",
    "\n",
    "Here we use a dimensionless system. For the psuedo-plastic effective rheology a Drucker-prager model is used.\n",
    "\n",
    "\n",
    "**Keywords:** thermal covection, dislocation creep\n",
    "\n",
    "\n",
    "**References**\n",
    "\n",
    "Čížková, Hana, and Craig R. Bina. \"Geodynamics of trench advance: Insights from a Philippine-Sea-style geometry.\" Earth and Planetary Science Letters 430 (2015): 408-415.\n",
    "\n",
    "Arredondo, Katrina M., and Magali I. Billen. \"The Effects of Phase Transitions and Compositional Layering in Two-dimensional Kinematic Models of Subduction.\" Journal of Geodynamics (2016).\n",
    "\n",
    "Korenaga, Jun. \"Scaling of plate tectonic convection with pseudoplastic rheology.\" Journal of Geophysical Research: Solid Earth 115.B11 (2010)."
   ]
  },
  {
   "cell_type": "code",
   "execution_count": 55,
   "metadata": {
    "collapsed": false
   },
   "outputs": [],
   "source": [
    "import numpy as np\n",
    "import underworld as uw\n",
    "import math\n",
    "from underworld import function as fn\n",
    "import glucifer\n",
    "\n",
    "import os\n",
    "import sys\n",
    "import natsort\n",
    "import shutil\n",
    "from easydict import EasyDict as edict\n",
    "import operator\n",
    "import pint\n",
    "import time\n",
    "import operator\n",
    "from slippy2 import boundary_layer2d\n",
    "from slippy2 import material_graph\n",
    "from slippy2 import spmesh\n",
    "\n",
    "from mpi4py import MPI\n",
    "comm = MPI.COMM_WORLD\n",
    "rank = comm.Get_rank()"
   ]
  },
  {
   "cell_type": "markdown",
   "metadata": {},
   "source": [
    "Model name and directories\n",
    "-----"
   ]
  },
  {
   "cell_type": "code",
   "execution_count": 56,
   "metadata": {
    "collapsed": true
   },
   "outputs": [],
   "source": [
    "############\n",
    "#Model name.  \n",
    "############\n",
    "Model = \"T\"\n",
    "ModNum = 3\n",
    "\n",
    "if len(sys.argv) == 1:\n",
    "    ModIt = \"Base\"\n",
    "elif sys.argv[1] == '-f':\n",
    "    ModIt = \"Base\"\n",
    "else:\n",
    "    ModIt = str(sys.argv[1])"
   ]
  },
  {
   "cell_type": "code",
   "execution_count": 57,
   "metadata": {
    "collapsed": false
   },
   "outputs": [],
   "source": [
    "###########\n",
    "#Standard output directory setup\n",
    "###########\n",
    "\n",
    "\n",
    "outputPath = \"results\" + \"/\" +  str(Model) + \"/\" + str(ModNum) + \"/\" + str(ModIt) + \"/\"\n",
    "imagePath = outputPath + 'images/'\n",
    "filePath = outputPath + 'files/'\n",
    "checkpointPath = outputPath + 'checkpoint/'\n",
    "dbPath = outputPath + 'gldbs/'\n",
    "outputFile = 'results_model' + Model + '_' + str(ModNum) + '_' + str(ModIt) + '.dat'\n",
    "\n",
    "if uw.rank()==0:\n",
    "    # make directories if they don't exist\n",
    "    if not os.path.isdir(outputPath):\n",
    "        os.makedirs(outputPath)\n",
    "    if not os.path.isdir(checkpointPath):\n",
    "        os.makedirs(checkpointPath)\n",
    "    if not os.path.isdir(imagePath):\n",
    "        os.makedirs(imagePath)\n",
    "    if not os.path.isdir(dbPath):\n",
    "        os.makedirs(dbPath)\n",
    "    if not os.path.isdir(filePath):\n",
    "        os.makedirs(filePath)\n",
    "        \n",
    "comm.Barrier() #Barrier here so no procs run the check in the next cell too early"
   ]
  },
  {
   "cell_type": "code",
   "execution_count": 58,
   "metadata": {
    "collapsed": false
   },
   "outputs": [
    {
     "name": "stdout",
     "output_type": "stream",
     "text": [
      "results/T/3/Base/checkpoint/ is empty\n"
     ]
    }
   ],
   "source": [
    "###########\n",
    "#Check if starting from checkpoint\n",
    "###########\n",
    "\n",
    "checkdirs = []\n",
    "for dirpath, dirnames, files in os.walk(checkpointPath):\n",
    "    if files:\n",
    "        print dirpath, 'has files'\n",
    "        checkpointLoad = True\n",
    "        checkdirs.append(dirpath)\n",
    "    if not files:\n",
    "        print dirpath, 'is empty'\n",
    "        checkpointLoad = False"
   ]
  },
  {
   "cell_type": "markdown",
   "metadata": {},
   "source": [
    "Setup parameters\n",
    "-----\n",
    "\n",
    "Set simulation parameters for test."
   ]
  },
  {
   "cell_type": "markdown",
   "metadata": {},
   "source": [
    "**Use pint to setup any unit conversions we'll need**"
   ]
  },
  {
   "cell_type": "code",
   "execution_count": 59,
   "metadata": {
    "collapsed": false
   },
   "outputs": [
    {
     "data": {
      "text/html": [
       "10000.0 meter/megayear"
      ],
      "text/latex": [
       "$10000.0 \\frac{meter}{megayear}$"
      ],
      "text/plain": [
       "<Quantity(10000.0, 'meter / megayear')>"
      ]
     },
     "execution_count": 59,
     "metadata": {},
     "output_type": "execute_result"
    }
   ],
   "source": [
    "u = pint.UnitRegistry()\n",
    "cmpery = 1.*u.cm/u.year\n",
    "mpermy = 1.*u.m/u.megayear\n",
    "\n",
    "cmpery.to(mpermy)"
   ]
  },
  {
   "cell_type": "markdown",
   "metadata": {},
   "source": [
    "**Set parameter dictionaries**"
   ]
  },
  {
   "cell_type": "code",
   "execution_count": null,
   "metadata": {
    "collapsed": false
   },
   "outputs": [],
   "source": []
  },
  {
   "cell_type": "code",
   "execution_count": 60,
   "metadata": {
    "collapsed": false
   },
   "outputs": [],
   "source": [
    "#dimensional parameter dictionary\n",
    "dp = edict({#'LS':2900.*1e3,\n",
    "            'LS':2000.*1e3,\n",
    "           'rho':3300,\n",
    "           'g':9.8, \n",
    "           'eta0':4e20, #Dislocation creep at 250 km, 1573 K, 1e-15 s-1 \n",
    "           'k':1e-6,\n",
    "           'a':3e-5, #surface thermal expansivity\n",
    "           'TP':1573., #potential temp\n",
    "           'TS':273., #surface temp\n",
    "           'cohesion':1e7, #\n",
    "           'fc':0.06,        #This is the value from \n",
    "           'Adf':1e-9,\n",
    "           'Ads':3.1e-17,\n",
    "           'Edf':3.35e5,\n",
    "           'Eds':4.8e5,\n",
    "           'Vdf':4e-6,\n",
    "           'Vds':11e-6,\n",
    "           'Alm':1.3e-16,\n",
    "           'Elm':2.0e5,\n",
    "           'Vlm':1.1e-6,\n",
    "           'Ba':4.3e-12,  #A value to simulate pressure increase with depth\n",
    "           'SR':1e-15,\n",
    "           'Dr':250e3, #Reference depth\n",
    "           'n':3.5,\n",
    "           'R':8.314,\n",
    "           'Cp':1250., #Jkg-1K-1\n",
    "           'StALS':100e3,\n",
    "           'plate_vel':8})\n",
    "\n",
    "#Adibatic heating stuff\n",
    "dp.dTa = (dp.a*dp.g*(dp.TP))/dp.Cp #adibatic gradient, at Tp\n",
    "dp.deltaTa = (dp.TP + dp.dTa*dp.LS) - dp.TS  #Adiabatic Temp at base of mantle, minus Ts\n",
    "dp.deltaT = dp.deltaTa\n",
    "\n",
    "\n",
    "#ndf = (1./dp.Adf)*np.exp( ((dp.Edf + dp.Vdf*dp.Pr))/((dp.R*dp.Tr)))\n",
    "#nds = (1./dp.Ads**(1/dp.n))*(dp.SR**((1-dp.n)/dp.n))*np.exp( ((dp.Eds + dp.Vds*dp.Pr))/((dp.n*dp.R*dp.Tr)))\n",
    "\n",
    "\n",
    "#scale_factors\n",
    "\n",
    "sf = edict({'stress':dp.LS**2/(dp.k*dp.eta0),\n",
    "            'lith_grad':dp.rho*dp.g*(dp.LS)**3/(dp.eta0*dp.k) ,\n",
    "            'vel':dp.LS/dp.k,\n",
    "            'SR':dp.LS**2/dp.k,\n",
    "            'W':(-1./dp.Ba)*(np.log(1.-dp.rho*dp.g*dp.Ba*dp.LS))/(dp.R*dp.deltaTa), #Including adiabatic compression, and deltaTa\n",
    "            'E': 1./(dp.R*dp.deltaTa), #using deltaTa, the guesstimated adiabatic temp differnnce to scale these paramters\n",
    "            'Ads':(dp.eta0**(dp.n-2))*((dp.k)**(dp.n-1))*((dp.LS)**(2. - 2*dp.n))       })\n",
    "\n",
    "#dimensionless parameters\n",
    "\n",
    "\n",
    "ndp = edict({'RA':(dp.g*dp.rho*dp.a*dp.deltaT*(dp.LS)**3)/(dp.k*dp.eta0),\n",
    "            'cohesion':dp.cohesion*sf.stress,\n",
    "            'fcd':dp.fc*sf.lith_grad,\n",
    "            'gamma':dp.fc/(dp.a*dp.deltaT),\n",
    "            'Wdf':dp.Vdf*sf.W,\n",
    "            'Edf':dp.Edf*sf.E,\n",
    "            'Wds':dp.Vds*sf.W,\n",
    "            'Eds':dp.Eds*sf.E,\n",
    "            'Elm':dp.Elm*sf.E,\n",
    "           'Wlm':dp.Vlm*sf.W,\n",
    "            'TSP':0., \n",
    "            'TBP':1.,\n",
    "            'TPP':(dp.TP - dp.TS)/dp.deltaT,\n",
    "            'Dr':dp.Dr/dp.LS,\n",
    "            'n':1.,\n",
    "            'TS':dp.TS/dp.deltaT,\n",
    "            'TP':dp.TP/dp.deltaT,\n",
    "             #'eta_crust':1e21/dp.eta0,\n",
    "             'eta_crust':1.,\n",
    "            'eta_min':1e-3,\n",
    "            'eta_max':1e5,\n",
    "            'H':0.,\n",
    "            'Tmvp':0.6,\n",
    "             'Di': dp.a*dp.g*dp.LS/dp.Cp, #Dissipation number\n",
    "            'Steta0':1e2,\n",
    "            'plate_vel':sf.vel*dp.plate_vel*(cmpery.to(u.m/u.second)).magnitude,})\n",
    "\n",
    "\n",
    "\n",
    "\n",
    "dp.VR = (0.1*(dp.k/dp.LS)*ndp.RA**(2/3.)) #characteristic velocity from a scaling relationship\n",
    "dp.SR = dp.VR/dp.LS #characteristic strain rate\n",
    "ndp.VR = dp.VR*sf.vel #characteristic velocity\n",
    "ndp.SR = dp.SR*sf.SR #characteristic strain rate\n",
    "\n",
    "ndp.StRA = (3300.*dp.g*(dp.LS)**3)/(dp.eta0 *dp.k) #Composisitional Rayleigh number for rock-air buoyancy force\n",
    "\n",
    "\n",
    "ndp.TaP = 1. - ndp.TPP,  #Dimensionles adiabtic component of delta t"
   ]
  },
  {
   "cell_type": "code",
   "execution_count": 61,
   "metadata": {
    "collapsed": false
   },
   "outputs": [
    {
     "data": {
      "text/plain": [
       "1.0"
      ]
     },
     "execution_count": 61,
     "metadata": {},
     "output_type": "execute_result"
    }
   ],
   "source": [
    "ndp.eta_crust"
   ]
  },
  {
   "cell_type": "code",
   "execution_count": 62,
   "metadata": {
    "collapsed": false
   },
   "outputs": [
    {
     "data": {
      "text/plain": [
       "(19.75229500743525,\n",
       " 28.301795831549015,\n",
       " 17.875211307509375,\n",
       " 49.15683109565078,\n",
       " 100000.0,\n",
       " 39582980.236800015)"
      ]
     },
     "execution_count": 62,
     "metadata": {},
     "output_type": "execute_result"
    }
   ],
   "source": [
    "#(dp.g*dp.rho*dp.a*dp.deltaT*(dp.LS)**3)/(dp.k*1e6)\n",
    "#sf.SR/(60*60*24*365*1e6)\n",
    "#dp.LS**2/dp.k\n",
    "#sf.SR\n",
    "ndp.Edf,  ndp.Eds, ndp.Wdf, ndp.Wds, ndp.cohesion, ndp.RA"
   ]
  },
  {
   "cell_type": "code",
   "execution_count": 63,
   "metadata": {
    "collapsed": false
   },
   "outputs": [],
   "source": [
    "#A few parameters defining lengths scales, affects materal transistions etc.\n",
    "MANTLETOCRUST = (20.*1e3)/dp.LS #Crust depth\n",
    "CRUSTTOMANTLE = (200.*1e3)/dp.LS\n",
    "LITHTOMANTLE = (900.*1e3)/dp.LS \n",
    "MANTLETOLITH = (200.*1e3)/dp.LS \n",
    "TOPOHEIGHT = (10.*1e3)/dp.LS  #rock-air topography limits\n",
    "CRUSTTOECL  = (100.*1e3)/dp.LS\n",
    "AVGTEMP = ndp.TPP #Used to define lithosphere\n",
    "LOWERMANTLE = (1000.*1e3)/dp.LS \n"
   ]
  },
  {
   "cell_type": "markdown",
   "metadata": {},
   "source": [
    "**Model setup parameters**"
   ]
  },
  {
   "cell_type": "code",
   "execution_count": 64,
   "metadata": {
    "collapsed": false
   },
   "outputs": [],
   "source": [
    "###########\n",
    "#Model setup parameters\n",
    "###########\n",
    "\n",
    "refineMesh = True\n",
    "stickyAir = False \n",
    "lower_mantle = False \n",
    "melt_viscosity_reduction= False\n",
    "\n",
    "\n",
    "\n",
    "\n",
    "MINX = -2.\n",
    "MINY = 0.\n",
    "MAXX = 2.\n",
    "\n",
    "#MAXY = 1.035\n",
    "MAXY = 1.\n",
    "\n",
    "if MINX == 0.:\n",
    "    squareModel = True\n",
    "else: \n",
    "    squareModel = False\n",
    "    \n",
    "    \n",
    "dim = 2          # number of spatial dimensions\n",
    "\n",
    "\n",
    "#MESH STUFF\n",
    "\n",
    "RES = 92\n",
    "\n",
    "Xres = int(RES*4)\n",
    "\n",
    "\n",
    "if stickyAir:\n",
    "    Yres = RES\n",
    "    MAXY = 1. + dp.StALS/dp.LS #150km\n",
    "    \n",
    "else:\n",
    "    Yres = RES\n",
    "    MAXY = 1.\n",
    "\n",
    "\n",
    "periodic = [False, False]\n",
    "elementType = \"Q1/dQ0\"\n",
    "#elementType =\"Q2/DPC1\"\n",
    "\n",
    "\n",
    "#System/Solver stuff\n",
    "\n",
    "PIC_integration=True\n",
    "ppc = 25\n",
    "\n",
    "#Output and safety stuff\n",
    "\n",
    "swarm_repop, swarm_update = 10, 10\n",
    "gldbs_output = 20\n",
    "checkpoint_every, files_output = 50, 50\n",
    "metric_output = 10\n",
    "sticky_air_temp = 5"
   ]
  },
  {
   "cell_type": "markdown",
   "metadata": {},
   "source": [
    "Create mesh and finite element variables\n",
    "------"
   ]
  },
  {
   "cell_type": "code",
   "execution_count": 65,
   "metadata": {
    "collapsed": false
   },
   "outputs": [],
   "source": [
    "mesh = uw.mesh.FeMesh_Cartesian( elementType = (elementType),\n",
    "                                 elementRes  = (Xres, Yres), \n",
    "                                 minCoord    = (MINX, MINY), \n",
    "                                 maxCoord    = (MAXX, MAXY), periodic=periodic)\n",
    "\n",
    "velocityField       = uw.mesh.MeshVariable( mesh=mesh,         nodeDofCount=2 )\n",
    "pressureField       = uw.mesh.MeshVariable( mesh=mesh.subMesh, nodeDofCount=1 )\n",
    "temperatureField    = uw.mesh.MeshVariable( mesh=mesh,         nodeDofCount=1 )\n",
    "temperatureDotField = uw.mesh.MeshVariable( mesh=mesh,         nodeDofCount=1 )"
   ]
  },
  {
   "cell_type": "code",
   "execution_count": 66,
   "metadata": {
    "collapsed": false
   },
   "outputs": [],
   "source": [
    "axis = 1\n",
    "orgs = np.linspace(mesh.minCoord[axis], mesh.maxCoord[axis], mesh.elementRes[axis] + 1)\n",
    "\n",
    "value_to_constrain = 1.\n",
    "\n",
    "\n",
    "yconst = [(spmesh.find_closest(orgs, value_to_constrain), np.array([value_to_constrain,0]))]"
   ]
  },
  {
   "cell_type": "code",
   "execution_count": 67,
   "metadata": {
    "collapsed": true
   },
   "outputs": [],
   "source": [
    "mesh.reset()"
   ]
  },
  {
   "cell_type": "code",
   "execution_count": 68,
   "metadata": {
    "collapsed": false
   },
   "outputs": [
    {
     "name": "stdout",
     "output_type": "stream",
     "text": [
      "Min\n",
      "(92, 0.0065228260869565693, 0.84738260869565207, 0.61717802197803362)\n",
      "('edges', 92)\n",
      "-- iteration 0 --\n",
      "| F( p_n ) |^2: 3.86187938314e-05\n",
      "| p_n+1 - p_n |^2: 0.501259071\n",
      "-- iteration 1 --\n",
      "| F( p_n ) |^2: 4.35579149579e-31\n",
      "Min, Max element width: \n",
      "0.00652\n",
      "0.01522\n"
     ]
    }
   ],
   "source": [
    "#Y-Axis\n",
    "if refineMesh:\n",
    "    #Y-Axis\n",
    "    axis = 1\n",
    "    origcoords = np.linspace(mesh.minCoord[axis], mesh.maxCoord[axis], mesh.elementRes[axis] + 1)\n",
    "    edge_rest_lengths = np.diff(origcoords)\n",
    "\n",
    "    deform_lengths = edge_rest_lengths.copy()\n",
    "    min_point =  (mesh.maxCoord[axis])\n",
    "    el_reduction = 0.6001\n",
    "    dx = mesh.maxCoord[axis]\n",
    "\n",
    "    deform_lengths = deform_lengths - \\\n",
    "                                    ((1.-el_reduction)*deform_lengths[0]) + \\\n",
    "                                    abs((origcoords[1:] - min_point))*((0.5*deform_lengths[0])/dx)\n",
    "\n",
    "    #print(edge_rest_lengths.shape, deform_lengths.shape)\n",
    "\n",
    "    spmesh.deform_1d(deform_lengths, mesh,axis = 'y',norm = 'Min', constraints = yconst)"
   ]
  },
  {
   "cell_type": "markdown",
   "metadata": {},
   "source": [
    "Initial conditions\n",
    "-------\n"
   ]
  },
  {
   "cell_type": "code",
   "execution_count": 69,
   "metadata": {
    "collapsed": true
   },
   "outputs": [],
   "source": [
    "coordinate = fn.input()\n",
    "depthFn = 1. - coordinate[1]"
   ]
  },
  {
   "cell_type": "code",
   "execution_count": 70,
   "metadata": {
    "collapsed": false
   },
   "outputs": [],
   "source": [
    "#Work out actual temp at 200 km\n",
    "\n",
    "potTempFn = ndp.TPP + (depthFn)*ndp.TaP\n",
    "\n",
    "abHeatFn = -1.*velocityField[1]*temperatureField*ndp.Di"
   ]
  },
  {
   "cell_type": "code",
   "execution_count": 71,
   "metadata": {
    "collapsed": false
   },
   "outputs": [],
   "source": [
    "symmetric_IC = False\n",
    "slab_IC = True\n",
    "\n",
    "\n",
    "#Sinusoidal initial condition\n",
    "A = 0.2\n",
    "sinFn = depthFn + A*(fn.math.cos( math.pi * coordinate[0])  * fn.math.sin( math.pi * coordinate[1] ))        \n",
    "\n",
    "#Initial Slab depth\n",
    "iD = 660e3/dp.LS\n",
    "\n",
    "#Boundary layer/slab initial condition\n",
    "dl =  2*math.sqrt(dp.k*160e6*3600*24*365) #diffusion Length at ... My\n",
    "w0 = dl/dp.LS\n",
    "#w0 = 0.1\n",
    "delX1 = fn.misc.min(fn.math.abs(coordinate[0] - -0.), fn.math.abs(coordinate[0] - -2.))\n",
    "delX = fn.misc.min(delX1 , fn.math.abs(coordinate[0] - 2.))\n",
    "w = w0*fn.math.sqrt(delX + 1e-7)\n",
    "#tempBL = (ndp.TIP - ndp.TSP) *fn.math.erf((depthFn)/w) + ndp.TSP\n",
    "tempBL = (potTempFn) *fn.math.erf((depthFn)/w) + ndp.TSP\n",
    "\n",
    "\n",
    "delX = fn.misc.min(fn.math.abs(coordinate[0] - - 1.) , fn.math.abs(coordinate[0] - 1.))\n",
    "#tempSlab = (ndp.TIP - ndp.TSP) *fn.math.erf((delX*2.)/w0) + ndp.TSP \n",
    "tempSlab = (potTempFn ) *fn.math.erf((delX*2.)/w0) + ndp.TSP       \n",
    "\n",
    "tempFn1 =  fn.misc.min(tempBL, tempSlab)\n",
    "blFn = fn.branching.conditional([(depthFn < iD, tempFn1), \n",
    "                                    (True, potTempFn)])\n",
    "\n",
    "tempFn = 0.2*sinFn + 0.8*blFn #partition the temp between these two functions\n",
    "\n",
    "if symmetric_IC:  \n",
    "    if not checkpointLoad:\n",
    "        temperatureField.data[:] = tempFn.evaluate(mesh)  "
   ]
  },
  {
   "cell_type": "code",
   "execution_count": 72,
   "metadata": {
    "collapsed": false
   },
   "outputs": [],
   "source": [
    "###########\n",
    "#Boundary layer / slab paramaters\n",
    "###########\n",
    "\n",
    "dl =  2*math.sqrt(dp.k*160e6*3600*24*365) #diffusion Length at ... My\n",
    "w0 = dl/dp.LS\n",
    "\n",
    "\n",
    "ageFn = (fn.math.abs(fn.math.abs(coordinate[0]) - 2.)/2.)\n",
    "\n",
    "ageFn  = fn.branching.conditional([(coordinate[0] <= 0, ageFn),\n",
    "                                  (True, ageFn/3.)])\n",
    "\n",
    "w = w0*fn.math.sqrt(ageFn + 1e-7)\n",
    "#tempBL = (ndp.TIP - ndp.TSP) *fn.math.erf((depthFn)/w) + ndp.TSP\n",
    "tempBL = (potTempFn) *fn.math.erf((depthFn)/w) + ndp.TSP\n",
    "\n",
    "if slab_IC:\n",
    "    if not checkpointLoad:\n",
    "        temperatureField.data[:] = tempBL.evaluate(mesh) \n",
    "\n"
   ]
  },
  {
   "cell_type": "code",
   "execution_count": 73,
   "metadata": {
    "collapsed": true
   },
   "outputs": [],
   "source": [
    "#Make sure material in stick air region is at the surface temperature.\n",
    "for index, coord in enumerate(mesh.data):\n",
    "            if coord[1] >= 1.:\n",
    "                temperatureField.data[index] = ndp.TSP"
   ]
  },
  {
   "cell_type": "code",
   "execution_count": 74,
   "metadata": {
    "collapsed": false
   },
   "outputs": [],
   "source": [
    "#Slab perturbation paramaters\n",
    "Roc = 550.\n",
    "theta = 89.\n",
    "subzone = 0.0\n",
    "\n",
    "def inCircleFnGenerator(centre, radius):\n",
    "    coord = fn.input()\n",
    "    offsetFn = coord - centre\n",
    "    return fn.math.dot( offsetFn, offsetFn ) < radius**2\n",
    "\n",
    "#Setup slab perturbation params (mostly dimensionles / model params here)\n",
    "phi = 90. - theta\n",
    "RocM = (Roc/dp.LS)*1e3\n",
    "CrustM = MANTLETOCRUST\n",
    "#slabdepth = lithdepthfunc(agefunc(off, off, vel), dp.k)\n",
    "#slabdepthM *= 5.\n",
    "Org = (subzone, 1.-RocM)\n",
    "#Use three circles to define our slab and crust perturbation,  \n",
    "\n",
    "Oc = inCircleFnGenerator(Org , RocM)\n",
    "Ic = inCircleFnGenerator(Org , RocM - w0)\n",
    "Cc = inCircleFnGenerator(Org , RocM + 2.*CrustM) #Twice as wide as ordinary crust, weak zone on 'outside' of slab\n",
    "dx = (RocM)/(np.math.tan((np.math.pi/180.)*phi))\n",
    "\n",
    "\n",
    "#Work our which way the slab should face:\n",
    "sense = 'Right'\n",
    "#if lith.agefunc(subzone + 0.0001) < lith.agefunc(subzone - 0.0001):\n",
    "#    sense = 'Right'\n",
    "\n",
    "#We'll also create a triangle which will truncate the circles defining the slab...\n",
    "if sense == 'Left': \n",
    "    ptx = subzone - dx\n",
    "else:\n",
    "    ptx = subzone + dx\n",
    "\n",
    "coords = ((0.+subzone, 1), (0.+subzone, 1.-RocM), (ptx, 1.))\n",
    "Tri = fn.shape.Polygon(np.array(coords))"
   ]
  },
  {
   "cell_type": "code",
   "execution_count": null,
   "metadata": {
    "collapsed": false
   },
   "outputs": [],
   "source": []
  },
  {
   "cell_type": "code",
   "execution_count": 75,
   "metadata": {
    "collapsed": false
   },
   "outputs": [],
   "source": [
    "sdFn = ((RocM - fn.math.sqrt((coordinate[0] - Org[0])**2. + (coordinate[1] - Org[1])**2.))) \n",
    "slabFn = ndp.TPP*fn.math.erf((sdFn)/w0)\n",
    "\n",
    "for index, coord in enumerate(mesh.data):\n",
    "    #if Oc.evaluate(tuple(coord)) and Tri.evaluate(tuple(coord)) and not Ic.evaluate(tuple(coord)): #in inner circle, not in outer circle\n",
    "    if (\n",
    "        Oc.evaluate(tuple(coord)) and\n",
    "        Tri.evaluate(tuple(coord)) and not\n",
    "        Ic.evaluate(tuple(coord)) and\n",
    "        coord[1] > (1. - (250.e3/dp.LS)) \n",
    "        ): #In the quarter-circle defining the lithosphere\n",
    "        temperatureField.data[index] = slabFn.evaluate(mesh)[index]"
   ]
  },
  {
   "cell_type": "code",
   "execution_count": 76,
   "metadata": {
    "collapsed": false,
    "scrolled": true
   },
   "outputs": [
    {
     "data": {
      "text/html": [
       "<img src='data:image/png;base64,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'>"
      ],
      "text/plain": [
       "<IPython.core.display.HTML object>"
      ]
     },
     "metadata": {},
     "output_type": "display_data"
    }
   ],
   "source": [
    "fig= glucifer.Figure()\n",
    "fig.append( glucifer.objects.Surface(mesh, temperatureField))\n",
    "fig.show()"
   ]
  },
  {
   "cell_type": "code",
   "execution_count": null,
   "metadata": {
    "collapsed": false
   },
   "outputs": [],
   "source": []
  },
  {
   "cell_type": "markdown",
   "metadata": {},
   "source": [
    "**Boundary conditions**"
   ]
  },
  {
   "cell_type": "code",
   "execution_count": 77,
   "metadata": {
    "collapsed": false
   },
   "outputs": [],
   "source": [
    "for index in mesh.specialSets[\"MinJ_VertexSet\"]:\n",
    "    temperatureField.data[index] = ndp.TBP\n",
    "for index in mesh.specialSets[\"MaxJ_VertexSet\"]:\n",
    "    temperatureField.data[index] = ndp.TSP\n",
    "    \n",
    "iWalls = mesh.specialSets[\"MinI_VertexSet\"] + mesh.specialSets[\"MaxI_VertexSet\"]\n",
    "jWalls = mesh.specialSets[\"MinJ_VertexSet\"] + mesh.specialSets[\"MaxJ_VertexSet\"]\n",
    "tWalls = mesh.specialSets[\"MaxJ_VertexSet\"]\n",
    "bWalls =mesh.specialSets[\"MinJ_VertexSet\"]\n",
    "\n",
    "VelBCs = mesh.specialSets[\"Empty\"]\n",
    "for index in list(tWalls.data):\n",
    "    if (mesh.data[int(index)][0] < (subzone - 0.2) and mesh.data[int(index)][0] > -2 + 0.2): #Only push with a portion of teh overiding plate\n",
    "        VelBCs.add(int(index))\n",
    "        #Set the plate velocities for the kinematic phase\n",
    "        velocityField.data[index] = [ndp.plate_vel, 0.]\n",
    "\n",
    "\n",
    "freeslipBC = uw.conditions.DirichletCondition( variable      = velocityField, \n",
    "                                               indexSetsPerDof = ( iWalls + VelBCs, jWalls) )\n",
    "\n",
    "#If periodic, we'll fix a the x-vel at a single node - at the bottom left (index 0)\n",
    "Fixed = mesh.specialSets[\"Empty\"]\n",
    "Fixed.add(int(0))\n",
    "\n",
    "\n",
    "\n",
    "\n",
    "if periodic[0] == True:\n",
    "    freeslipBC = uw.conditions.DirichletCondition( variable      = velocityField, \n",
    "                                               indexSetsPerDof = ( Fixed + VelBCs , jWalls) )\n",
    "    \n",
    "    \n",
    "    \n",
    "# also set dirichlet for temp field\n",
    "dirichTempBC = uw.conditions.DirichletCondition(     variable=temperatureField, \n",
    "                                              indexSetsPerDof=(tWalls,) )\n",
    "dT_dy = [0.,0.]\n",
    "\n",
    "# also set dirichlet for temp field\n",
    "neumannTempBC = uw.conditions.NeumannCondition( dT_dy, variable=temperatureField, \n",
    "                                         nodeIndexSet=bWalls)\n",
    "\n"
   ]
  },
  {
   "cell_type": "markdown",
   "metadata": {},
   "source": [
    "Particles\n",
    "-----\n"
   ]
  },
  {
   "cell_type": "code",
   "execution_count": 78,
   "metadata": {
    "collapsed": false
   },
   "outputs": [],
   "source": [
    "###########\n",
    "#Material Swarm and variables\n",
    "###########\n",
    "\n",
    "\n",
    "gSwarm = uw.swarm.Swarm(mesh=mesh, particleEscape=True)\n",
    "\n",
    "yieldingCheck = gSwarm.add_variable( dataType=\"int\", count=1 )\n",
    "tracerVariable = gSwarm.add_variable( dataType=\"int\", count=1)\n",
    "materialVariable = gSwarm.add_variable( dataType=\"int\", count=1 )\n",
    "timeVariable = gSwarm.add_variable( dataType=\"float\", count=1 )\n",
    "\n",
    "\n"
   ]
  },
  {
   "cell_type": "code",
   "execution_count": 79,
   "metadata": {
    "collapsed": false
   },
   "outputs": [],
   "source": [
    "varlist = [tracerVariable, tracerVariable, yieldingCheck]\n",
    "\n",
    "varlist = [materialVariable, yieldingCheck, timeVariable]\n",
    "varnames = ['materialVariable', 'yieldingCheck', 'timeVariable']"
   ]
  },
  {
   "cell_type": "code",
   "execution_count": 80,
   "metadata": {
    "collapsed": false
   },
   "outputs": [],
   "source": [
    "mantleIndex = 0\n",
    "lithosphereIndex = 1\n",
    "crustIndex = 2\n",
    "eclIndex = 3\n",
    "airIndex = 4\n",
    "lowermantleIndex = 5\n",
    "\n",
    "\n",
    "if checkpointLoad:\n",
    "    checkpointLoadDir = natsort.natsort(checkdirs)[-1]\n",
    "    temperatureField.load(os.path.join(checkpointLoadDir, \"temperatureField\" + \".hdf5\"))\n",
    "    pressureField.load(os.path.join(checkpointLoadDir, \"pressureField\" + \".hdf5\"))\n",
    "    velocityField.load(os.path.join(checkpointLoadDir, \"velocityField\" + \".hdf5\"))\n",
    "    gSwarm.load(os.path.join(checkpointLoadDir, \"swarm\" + \".h5\"))\n",
    "    for ix in range(len(varlist)):\n",
    "        varb = varlist[ix]\n",
    "        varb.load(os.path.join(checkpointLoadDir,varnames[ix] + \".h5\"))\n",
    "\n",
    "else:\n",
    "\n",
    "    # Layouts are used to populate the swarm across the whole domain\n",
    "    # Create the layout object\n",
    "    layout = uw.swarm.layouts.PerCellRandomLayout(swarm=gSwarm, particlesPerCell=ppc)\n",
    "    # Now use it to populate.\n",
    "    gSwarm.populate_using_layout( layout=layout )\n",
    "\n",
    "    # Swarm variables\n",
    "    materialVariable.data[:] = mantleIndex\n",
    "    tracerVariable.data[:] = 1\n",
    "    yieldingCheck.data[:] = 0\n",
    "    timeVariable.data[:] = 0.\n",
    "    \n",
    "    #Set initial air and crust materials (allow the graph to take care of lithsophere)\n",
    "    #########\n",
    "    #This initial material setup will be model dependent\n",
    "    #########\n",
    "    for particleID in range(gSwarm.particleCoordinates.data.shape[0]):\n",
    "        if (1. - gSwarm.particleCoordinates.data[particleID][1]) < MANTLETOCRUST:\n",
    "                 materialVariable.data[particleID] = crustIndex"
   ]
  },
  {
   "cell_type": "markdown",
   "metadata": {
    "collapsed": true
   },
   "source": [
    "**Passive tracer layout**"
   ]
  },
  {
   "cell_type": "code",
   "execution_count": 81,
   "metadata": {
    "collapsed": false
   },
   "outputs": [],
   "source": [
    "#Passive tracers are not included in checkpoint - Probably best to remove this once models are properly bugchecked\n",
    "\n",
    "square_size = 0.1\n",
    "\n",
    "xlist = np.arange(mesh.minCoord[0] + square_size/2., mesh.maxCoord[0] + square_size/2., square_size)\n",
    "xlist = zip(xlist[:], xlist[1:])[::2]\n",
    "ylist = np.arange(mesh.minCoord[1] + square_size/2., mesh.maxCoord[1] + square_size/2., square_size)\n",
    "ylist = zip(ylist[:], ylist[1:])[::2]\n",
    "xops = []\n",
    "for vals in xlist:\n",
    "    xops.append( (operator.and_(   operator.gt(coordinate[0],vals[0]),   operator.lt(coordinate[0],vals[1])  ),0.) )\n",
    "xops.append((True,1.))\n",
    "\n",
    "testfunc = fn.branching.conditional(xops) \n",
    "\n",
    "yops = []\n",
    "for vals in ylist:\n",
    "    yops.append( (operator.and_(   operator.gt(coordinate[1],vals[0]),   operator.lt(coordinate[1],vals[1])  ),0.) )\n",
    "yops.append((True,testfunc))\n",
    "\n",
    "testfunc2 = fn.branching.conditional(yops) \n",
    "\n",
    "tracerVariable.data[:] = testfunc.evaluate(gSwarm)\n",
    "tracerVariable.data[:] = testfunc2.evaluate(gSwarm)"
   ]
  },
  {
   "cell_type": "markdown",
   "metadata": {
    "collapsed": false
   },
   "source": [
    "**Material swarm and graphs**"
   ]
  },
  {
   "cell_type": "code",
   "execution_count": 82,
   "metadata": {
    "collapsed": false
   },
   "outputs": [],
   "source": [
    "\n",
    "##############\n",
    "#Important: This is a quick fix for a bug that arises in parallel runs\n",
    "##############\n",
    "material_list = [0,2,5]"
   ]
  },
  {
   "cell_type": "code",
   "execution_count": 83,
   "metadata": {
    "collapsed": false
   },
   "outputs": [
    {
     "data": {
      "text/plain": [
       "0.1"
      ]
     },
     "execution_count": 83,
     "metadata": {},
     "output_type": "execute_result"
    }
   ],
   "source": [
    "CRUSTTOMANTLE"
   ]
  },
  {
   "cell_type": "code",
   "execution_count": 84,
   "metadata": {
    "collapsed": false
   },
   "outputs": [],
   "source": [
    "#All depth conditions are given as (km/D) where D is the length scale,\n",
    "#note that 'model depths' are used, e.g. 1-z, where z is the vertical Underworld coordinate\n",
    "#All temp conditions are in dimensionless temp. [0. - 1.]\n",
    "\n",
    "if not checkpointLoad:\n",
    "    materialVariable.data[:] = 0\n",
    "\n",
    "#######Graph object\n",
    "#DG = nx.DiGraph(field=\"Depth\")\n",
    "DG = material_graph.MatGraph()\n",
    "\n",
    "#Important: First thing to do is to add all the material types to the graph (i.e add nodes)\n",
    "DG.add_nodes_from(material_list)\n",
    "\n",
    "\n",
    "#Anything to mantle\n",
    "DG.add_transition((crustIndex,mantleIndex), depthFn, operator.gt, CRUSTTOMANTLE)\n",
    "#DG.add_transition((airIndex,mantleIndex), depthFn, operator.gt, TOPOHEIGHT)\n",
    "#DG.add_transition((lowermantleIndex, mantleIndex), depthFn, operator.lt, LOWERMANTLE)\n",
    "\n",
    "\n",
    "\n",
    "#Anything to lower mantle\n",
    "DG.add_transition((mantleIndex, lowermantleIndex), depthFn, operator.gt, LOWERMANTLE)\n",
    "\n",
    "\n",
    "\n",
    "#Anything to crust\n",
    "DG.add_transition((mantleIndex,crustIndex), depthFn, operator.lt, MANTLETOCRUST)\n",
    "\n",
    "\n",
    "#Anything to air\n",
    "DG.add_transition((mantleIndex,airIndex), depthFn, operator.lt,0. - TOPOHEIGHT)\n",
    "DG.add_transition((crustIndex,airIndex), depthFn, operator.lt, 0. - TOPOHEIGHT)\n",
    "\n",
    "#Anything to lithsphere\n",
    "#DG.add_transition((mantleIndex,lithosphereIndex), depthFn, operator.lt, MANTLETOLITH)\n",
    "#DG.add_transition((mantleIndex,lithosphereIndex), temperatureField, operator.lt, 0.85*AVGTEMP)\n",
    "\n",
    "\n",
    "#crust to eclogite\n",
    "#DG.add_edges_from([(3,2)])\n",
    "#DG[3][2]['depthcondition'] =CRUSTTOECL\n",
    "#DG.add_transition((3,2), depthFn, operator.gt, CRUSTTOECL)"
   ]
  },
  {
   "cell_type": "code",
   "execution_count": null,
   "metadata": {
    "collapsed": false
   },
   "outputs": [],
   "source": []
  },
  {
   "cell_type": "code",
   "execution_count": 85,
   "metadata": {
    "collapsed": true
   },
   "outputs": [],
   "source": [
    "#timeVariable.data[np.where(dummyData[:] != materialVariable.data[:])] = 0. #resets those ages when a material type change\n"
   ]
  },
  {
   "cell_type": "code",
   "execution_count": 86,
   "metadata": {
    "collapsed": true
   },
   "outputs": [],
   "source": [
    "#Add crustal weak zone and the intersection of three shapes\n",
    "if checkpointLoad != True:\n",
    "    for particleID in range(gSwarm.particleCoordinates.data.shape[0]):\n",
    "        if (\n",
    "            Oc.evaluate(list(gSwarm.particleCoordinates.data[particleID])) and\n",
    "            Tri.evaluate(list(gSwarm.particleCoordinates.data[particleID])) and\n",
    "            Cc.evaluate(list(gSwarm.particleCoordinates.data[particleID])) == False\n",
    "            ):\n",
    "            materialVariable.data[particleID] = crustIndex"
   ]
  },
  {
   "cell_type": "code",
   "execution_count": 87,
   "metadata": {
    "collapsed": false
   },
   "outputs": [],
   "source": [
    "DG.build_condition_list(materialVariable)\n",
    "for i in range(2): #Need to go through twice first time through\n",
    "    materialVariable.data[:] = fn.branching.conditional(DG.condition_list).evaluate(gSwarm)"
   ]
  },
  {
   "cell_type": "code",
   "execution_count": null,
   "metadata": {
    "collapsed": false
   },
   "outputs": [],
   "source": []
  },
  {
   "cell_type": "code",
   "execution_count": 88,
   "metadata": {
    "collapsed": false
   },
   "outputs": [
    {
     "data": {
      "text/html": [
       "<img src='data:image/png;base64,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'>"
      ],
      "text/plain": [
       "<IPython.core.display.HTML object>"
      ]
     },
     "metadata": {},
     "output_type": "display_data"
    },
    {
     "data": {
      "text/plain": [
       "'test.gldb'"
      ]
     },
     "execution_count": 88,
     "metadata": {},
     "output_type": "execute_result"
    }
   ],
   "source": [
    "fig= glucifer.Figure()\n",
    "#fig.append( glucifer.objects.Points(gSwarm,tracerVariable, colours= 'white black'))\n",
    "fig.append( glucifer.objects.Points(gSwarm,materialVariable))\n",
    "#fig.append( glucifer.objects.Surface(mesh, dummyField))\n",
    "fig.show()\n",
    "fig.save_database('test.gldb')"
   ]
  },
  {
   "cell_type": "markdown",
   "metadata": {},
   "source": [
    "Set up material parameters and functions\n",
    "-----\n",
    "\n",
    "Setup the viscosity to be a function of the temperature. Recall that these functions and values are preserved for the entire simulation time. "
   ]
  },
  {
   "cell_type": "code",
   "execution_count": 89,
   "metadata": {
    "collapsed": false
   },
   "outputs": [],
   "source": [
    "# The yeilding of the upper slab is dependent on the strain rate.\n",
    "strainRate_2ndInvariant = fn.tensor.second_invariant( \n",
    "                            fn.tensor.symmetric( \n",
    "                            velocityField.fn_gradient ))\n",
    "\n",
    "gamma = dp.fc/(dp.a*dp.deltaT)"
   ]
  },
  {
   "cell_type": "code",
   "execution_count": 90,
   "metadata": {
    "collapsed": false
   },
   "outputs": [
    {
     "data": {
      "text/plain": [
       "(49.15683109565078, 17.875211307509375, 28.301795831549015, 19.75229500743525)"
      ]
     },
     "execution_count": 90,
     "metadata": {},
     "output_type": "execute_result"
    }
   ],
   "source": [
    "ndp.Wds, ndp.Wdf, ndp.Eds, ndp.Edf"
   ]
  },
  {
   "cell_type": "code",
   "execution_count": 91,
   "metadata": {
    "collapsed": false
   },
   "outputs": [],
   "source": [
    "#ndp.Wds = 3.\n",
    "#ndp.Wdf = 3.\n",
    "#ndp.Eds = 11.\n",
    "#ndp.Edf = 11."
   ]
  },
  {
   "cell_type": "code",
   "execution_count": 92,
   "metadata": {
    "collapsed": false
   },
   "outputs": [],
   "source": [
    "ndp.n = 3.5"
   ]
  },
  {
   "cell_type": "code",
   "execution_count": 93,
   "metadata": {
    "collapsed": false
   },
   "outputs": [
    {
     "data": {
      "text/plain": [
       "(17.875211307509375, 19.75229500743525, 100000.0)"
      ]
     },
     "execution_count": 93,
     "metadata": {},
     "output_type": "execute_result"
    }
   ],
   "source": [
    "ndp.Wdf, ndp.Edf,ndp.eta_max"
   ]
  },
  {
   "cell_type": "code",
   "execution_count": 94,
   "metadata": {
    "collapsed": false
   },
   "outputs": [],
   "source": [
    "############\n",
    "#Rheology\n",
    "#############\n",
    "#\n",
    "#The final mantle rheology is composed as follows*:\n",
    "# \n",
    "#\n",
    "# mantleviscosityFn = max{  min{(1/omega*Visc + 1/eta_p)**-1,\n",
    "#                           eta_max},\n",
    "#                           eta_min}\n",
    "#                      \n",
    "#Visc => min{diffusionCreep, dislocationCreep, }\n",
    "#eta_p   => stress-limiting effective viscosity\n",
    "#\n",
    "\n",
    "\n",
    "omega = fn.misc.constant(1.)\n",
    "\n",
    "if melt_viscosity_reduction:\n",
    "    mvr =  fn.branching.conditional( [ (temperatureField > (ndp.Tmvp + 7.5*(1. - coordinate[1])) , 0.1 ),   (         True, 1.) ] )\n",
    "    omega = omega*mvr\n",
    "\n",
    "\n",
    "#implementation of the lower mantle viscosity increase, similar to Bello et al. 2015\n",
    "a = 1.\n",
    "B = 30.\n",
    "d0 = 660e3/dp.LS  \n",
    "ds = d0/10.\n",
    "if lower_mantle:\n",
    "    inner1 = 1. - 0.5*(1. - fn.math.tanh(((1. - d0)-(coordinate[1]))/(ds)))\n",
    "    modfac = a*fn.math.exp(np.log(B)*inner1)\n",
    "    omega = omega*modfac\n",
    "\n",
    "\n",
    "\n",
    "##Diffusion Creep\n",
    "ndfp = fn.misc.min(ndp.eta_max, fn.math.exp( ((ndp.Edf + (depthFn*ndp.Wdf))/((temperatureField + ndp.TS))) - \n",
    "              ((ndp.Edf + (ndp.Dr*ndp.Wdf))/((ndp.TPP + ndp.TS)))  ))\n",
    "\n",
    "\n",
    "\n",
    "##Dislocation creep Creep\n",
    "nl_correction = (strainRate_2ndInvariant/ndp.SR)**((1.-ndp.n)/(ndp.n))\n",
    "\n",
    "\n",
    "ndsp = fn.misc.min(ndp.eta_max,(nl_correction)*fn.math.exp( ((ndp.Eds + (depthFn*ndp.Wds))/(dp.n*(temperatureField + ndp.TS))) -\n",
    "                                     ((ndp.Eds + (ndp.Dr*ndp.Wds))/(dp.n*(ndp.TPP + ndp.TS)))))\n",
    "\n",
    "\n",
    "Visc = fn.misc.min(ndp.eta_max, fn.misc.min(ndfp, ndsp))\n",
    "\n",
    "ys =  ndp.cohesion + (depthFn*gamma*ndp.RA) #In this case we'll use a valid cohesion\n",
    "yielding = ys/(strainRate_2ndInvariant/math.sqrt(0.5)) #extra factor to account for underworld second invariant form\n",
    "\n",
    "\n",
    "linearVisc = fn.misc.min(ndp.eta_max, ndfp)\n",
    "\n",
    "mantleviscosityFn = fn.misc.max(fn.misc.min(1./(((1./Visc) + (1./yielding))), ndp.eta_max), ndp.eta_min)\n",
    "\n",
    "\n",
    "\n",
    "#lower mantle rheology\n",
    "\n",
    "#ndflm = fn.misc.min(ndp.eta_max, fn.math.exp( ((ndp.Elm + (depthFn*ndp.Wlm))/((temperatureField + ndp.TS))) - \n",
    "#              ((ndp.Elm + (ndp.Dr*ndp.Wlm))/((ndp.TPP + ndp.TS)))  ))\n",
    "\n",
    "#I ignored Cizkova's lower mantle diffusion creep parameters, \n",
    "#as they appeared to give lower values that the upper mantle rheology, i.e a visc. decrease at 660.\n",
    "lm_increase = 10.\n",
    "lowermantleviscosityFn = fn.misc.max(lm_increase*ndfp, ndp.eta_min)\n",
    "\n",
    "\n",
    "##Crust rheology\n",
    "reduceFac = 0.1\n",
    "ysc =  reduceFac*ndp.cohesion + reduceFac*(depthFn*gamma*ndp.RA) #In this case we'll use a valid cohesion\n",
    "crust_yielding = ysc/(strainRate_2ndInvariant/math.sqrt(0.5)) #extra factor to account for underworld second invariant form\n",
    "crustviscosityFn = fn.misc.max(fn.misc.min(1./(((1./Visc) + (1./crust_yielding))), ndp.eta_max), ndp.eta_min)\n"
   ]
  },
  {
   "cell_type": "code",
   "execution_count": 95,
   "metadata": {
    "collapsed": false
   },
   "outputs": [
    {
     "data": {
      "text/plain": [
       "(11.79241492981209, 4.9156831095650784)"
      ]
     },
     "execution_count": 95,
     "metadata": {},
     "output_type": "execute_result"
    }
   ],
   "source": [
    "ndp.Elm, ndp.Wlm"
   ]
  },
  {
   "cell_type": "code",
   "execution_count": 96,
   "metadata": {
    "collapsed": false
   },
   "outputs": [],
   "source": [
    "#fig= glucifer.Figure()\n",
    "#fig.append( glucifer.objects.Points(gSwarm,tracerVariable, colours= 'white black'))\n",
    "#fig.append( glucifer.objects.Points(gSwarm,viscosityMapFn, logScale=True))\n",
    "#fig.append( glucifer.objects.Surface(mesh, temperatureField))\n",
    "\n",
    "#fig.append( glucifer.objects.Surface(mesh,ndflm, logScale=True))\n",
    "#fig.show()\n",
    "#fig.save_database('test.gldb')"
   ]
  },
  {
   "cell_type": "code",
   "execution_count": 97,
   "metadata": {
    "collapsed": false
   },
   "outputs": [
    {
     "data": {
      "text/html": [
       "<img src='data:image/png;base64,iVBORw0KGgoAAAANSUhEUgAAAoAAAAHgCAIAAAC6s0uzAAAJFklEQVR4nO3csW4cVRiA0XtNhChQeAJaFFHxarwGTV6MIiUSBRI9DYqoUC7FZuNd23Ecr3c/Jj6nWHmsnZnf2tV8nvF451prAACXdVUPAADPkQADQECAASAgwAAQEGAACAgwAAQEGAACAgwAAQEGgIAAA0BAgAEgIMAAEBBgAAgIMAAEBBgAAgIMAAEBBoCAAANAQIABICDAABAQYAAICDAABAQYAAICDAABAQaAgAADQECAASAgwAAQEGAACAgwAAQEGAACAgwAAQEGgIAAA0BAgAEgIMAAEBBgAAgIMAAEBBgAAgIMAAEBBoCAAANAQIABICDAABAQYAAICDAABAQYAAICDAABAQaAgAADQECAASAgwAAQEGAACAgwAAQEGAACAgwAAQEGgIAAA0BAgAEgIMAAEBBgAAgIMAAEBBgAAgIMAAEBBoCAAANAQIABICDAABAQYAAICDAABAQYAAICDAABAQaAgAADQECAASAgwAAQEGAACAgwAAQEGAACAgwAAQEGgIAAA0BAgAEgIMAAEBBgAAgIMAAEBBgAAgIMAAEBBoCAAANAQIABICDAABAQYAAICDAABAQYAAICDAABAQaAgAADQECAASAgwAAQEGAACAgwAAQEGAACAgwAAQEGgIAAA0BAgAEgIMAAEBBgAAgIMAAEBBgAAgIMAAEBBoCAAANAQIABICDAABAQYAAICDAABAQYAAICDAABAQaAgAADQECAASAgwAAQEGAACAgwAAQEGAACAgwAAQEGgIAAA0BAgAEgIMAAEBBgAAgIMAAEBBgAAgIMAAEBBoCAAANAQIABICDAABAQYAAICDAABAQYAAICDAABAQaAgAADQECAASAgwAAQEGAACAgwAAQEGAACAgwAAQEGgIAAA0BAgAEgIMAAEBBgAAgIMAAEBBgAAgIMAAEBBoCAAANAQIABICDAABAQYAAICDAABAQYAAIvLrObOedldgQAJ1prXWAvlwjwnPPV6zdPu82X797+8O+fL9+9PdzNkHn+x/6Z3/z+1fd/XX1XDwLc57eff7rMji50Bvzk/r769tevf6ynAIBH8jdgAAgIMAAEBBgAAgIMAAEBBoCAAANAQIABICDAABAQYAAICDAABAQYAAICDAABAQaAgAADQECAASAgwAAQEGAACAgwAAQEGAACAgwAAQEGgIAAA0BAgAEgIMAAEBBgAAgIMAAEBBgAAgIMAAEBBoCAAANAQIABICDAABAQYAAICDAABAQYAAICDAABAQaAgAADQECAASAgwAAQEGAACAgwAAQEGAACAgwAAQEGgIAAA0BAgAEgIMAAEBBgAAgIMAAEBBgAAgIMAAEBBoCAAANAQIABICDAABAQYAAICDAABAQYAAICDAABAQaAgAADQECAASAgwAAQEGAACAgwAAQEGAACAgwAAQEGgIAAA0BAgAEgIMAAEBBgAAgIMAAEBBgAAgIMAAEBBoCAAANAQIABICDAABAQYAAICDAABAQYAAICDAABAQaAgAADQECAASAgwAAQEGAACAgwAAQEGAACAgwAAQEGgIAAA0BAgAEgIMAAEBBgAAgIMAAEBBgAAgIMAAEBBoCAAANAQIABICDAABAQYAAICDAABAQYAAICDAABAQaAgAADQECAASAgwAAQEGAACAgwAAQEGAACAgwAAQEGgIAAA0BAgAEgIMAAEBBgAAgIMAAEBBgAAgIMAAEBBoCAAANAQIABICDAABAQYAAICDAABAQYAAICDAABAQaAgAADQECAASAgwAAQEGAACAgwAAQEGAACAgwAgbnWOvs+5jz3LgDgqVygjOMyAQYAbnAJGgACAgwAAQEGgIAAA0BAgAEgIMAAEBBgAAgIMAAEBBgAAgIMAAEBBoCAAANAQIABICDAABAQYAAICDAABAQYAAICDAABAQaAgAADQECAASAgwAAQEGAACAgwAAQEGAACAgwAAQEGgIAAA0BAgAEgIMAAEBBgAAgIMAAEBBgAAgIMAAEBBoCAAANAQIABICDAABAQYAAICDAABAQYAAICDAABAQaAgAADQECAASAgwAAQEGAACAgwAAQEGAACAgwAAQEGgIAAA0BAgAEgIMAAEBBgAAgIMAAEBBgAAgIMAAEBBoCAAANAQIABICDAABAQYAAICDAABAQYAAICDAABAQaAgAADQECAASAgwAAQEGAACAgwAAQEGAACAgwAAQEGgIAAA0BAgAEgIMAAEBBgAAgIMAAEBBgAAgIMAAEBBoCAAANAQIABICDAABAQYAAICDAABAQYAAICDAABAQaAgAADQECAASAgwAAQEGAACAgwAAQEGAACAgwAAQEGgIAAA0BAgAEgIMAAEBBgAAgIMAAEBBgAAgIMAAEBBoCAAANAQIABICDAABAQYAAICDAABAQYAAICDAABAQaAgAADQECAASAgwAAQEGAACAgwAAQEGAACAgwAAQEGgIAAA0BAgAEgIMAAEBBgAAgIMAAEBBgAAgIMAAEBBoCAAANAQIABICDAABAQYAAICDAABF7UA5xqzlmPAEBgrVWPcJJtB3jO+er1mznHHGOOtfti7BbnmuPW4u4Jx4v757xffRf0w8U5xthvbf/NNQ5W321tXC+OOdY4WH23tXGw+h2zXS8e/CzHi7dne8CoY3x4wo3F/Wz3jjrmWDcW9/v9/FF3T7ge9WjxAaPuf7qPz/agUT/6wq1PjHr0hrl+4farrM8b9egNs39THb9J7h71YLYxxtgdg+55XGOMRz7O9YDtn7r3cw0/1phnH/4BjyfMME+f4RN7OePwY615zuHnL3+MjXMJGgACAgwAAQEGgIAAA0BAgAEgIMAAEBBgAAgIMAAE5qY/ScTHYAE8W5vu19j6J2GN7b8AADzCF3AC5hI0AAQEGAACAgwAAQEGgMC274IGgI3a9l3Qu7vg/A4B8EzcOOwf3gu9uRZsOMBzvj99//AFAF+wOw/72z3++xswANtwZ2vnnBv9n+ANnwED8Azdefq7xUuhzoAB2JK11kZPeW8QYAC24XZ3N13i7Z2zH3IXNMCzcvuwv90QbDvAALBRLkEDQECAASAgwAAQEGAACAgwAAQEGAAC/wFefpzLQ54WHgAAAABJRU5ErkJggg=='>"
      ],
      "text/plain": [
       "<IPython.core.display.HTML object>"
      ]
     },
     "metadata": {},
     "output_type": "display_data"
    }
   ],
   "source": [
    "fig= glucifer.Figure()\n",
    "#fig.append( glucifer.objects.Points(gSwarm,tracerVariable, colours= 'white black'))\n",
    "#fig.append( glucifer.objects.Points(gSwarm,materialVariable))\n",
    "#fig.append( glucifer.objects.Surface(mesh, temperatureField))\n",
    "\n",
    "fig.append( glucifer.objects.Surface(mesh, strainRate_2ndInvariant/ndp.SR))\n",
    "fig.show()\n",
    "#fig.save_database('test.gldb')"
   ]
  },
  {
   "cell_type": "markdown",
   "metadata": {},
   "source": [
    "System setup\n",
    "-----\n",
    "\n",
    "Since we are using a previously constructed temperature field, we will use a single Stokes solve to get consistent velocity and pressure fields.\n",
    "\n",
    "**Setup a Stokes system**"
   ]
  },
  {
   "cell_type": "code",
   "execution_count": 98,
   "metadata": {
    "collapsed": false
   },
   "outputs": [],
   "source": [
    "#this accounts for the decreas in expansivity\n",
    "alphaRatio = 1.2/3\n",
    "taFn = 1. - (1. - depthFn)*(1. - alphaRatio) \n",
    "raylieghFn = ndp.RA*temperatureField*taFn \n",
    "\n",
    "\n",
    "# Here we set a viscosity value of '1.' for both materials\n",
    "viscosityMapFn = fn.branching.map( fn_key = materialVariable,\n",
    "                         mapping = {lithosphereIndex:mantleviscosityFn, \n",
    "                                    crustIndex:ndp.eta_crust,\n",
    "                                    mantleIndex:mantleviscosityFn,\n",
    "                                    lowermantleIndex:lowermantleviscosityFn,\n",
    "                                    eclIndex:mantleviscosityFn,\n",
    "                                    airIndex:ndp.Steta0} )\n",
    "\n",
    "densityMapFn = fn.branching.map( fn_key = materialVariable,\n",
    "                         mapping = {airIndex:ndp.StRA, \n",
    "                                    lithosphereIndex:raylieghFn, \n",
    "                                    crustIndex:raylieghFn, \n",
    "                                    mantleIndex:raylieghFn,\n",
    "                                   lowermantleIndex:raylieghFn} )"
   ]
  },
  {
   "cell_type": "code",
   "execution_count": 99,
   "metadata": {
    "collapsed": false
   },
   "outputs": [],
   "source": [
    "\n",
    "# Define our vertical unit vector using a python tuple (this will be automatically converted to a function).\n",
    "gravity = ( 0.0, 1.0 )\n",
    "\n",
    "# Now create a buoyancy force vector using the density and the vertical unit vector. \n",
    "buoyancyFn = densityMapFn * gravity"
   ]
  },
  {
   "cell_type": "code",
   "execution_count": 100,
   "metadata": {
    "collapsed": false
   },
   "outputs": [],
   "source": [
    "stokesPIC = uw.systems.Stokes(velocityField=velocityField, \n",
    "                              pressureField=pressureField,\n",
    "                              conditions=[freeslipBC,],\n",
    "                              fn_viscosity=linearVisc, \n",
    "                              fn_bodyforce=buoyancyFn )"
   ]
  },
  {
   "cell_type": "markdown",
   "metadata": {},
   "source": [
    "**Set up and solve the Stokes system**"
   ]
  },
  {
   "cell_type": "code",
   "execution_count": 101,
   "metadata": {
    "collapsed": false
   },
   "outputs": [],
   "source": [
    "solver = uw.systems.Solver(stokesPIC)\n",
    "if not checkpointLoad:\n",
    "    solver.solve() #A solve on the linear visocisty is unhelpful unless we're starting from scratch"
   ]
  },
  {
   "cell_type": "markdown",
   "metadata": {},
   "source": [
    "**Add the non-linear viscosity to the Stokes system**\n"
   ]
  },
  {
   "cell_type": "code",
   "execution_count": null,
   "metadata": {
    "collapsed": true
   },
   "outputs": [],
   "source": [
    "stokesPIC.fn_viscosity = viscosityMapFn"
   ]
  },
  {
   "cell_type": "code",
   "execution_count": null,
   "metadata": {
    "collapsed": false
   },
   "outputs": [],
   "source": [
    "solver.set_inner_method(\"mumps\")\n",
    "solver.options.scr.ksp_type=\"cg\"\n",
    "solver.set_penalty(1.0e7)\n",
    "solver.options.scr.ksp_rtol = 1.0e-4\n",
    "solver.solve(nonLinearIterate=True)\n",
    "solver.print_stats()"
   ]
  },
  {
   "cell_type": "code",
   "execution_count": null,
   "metadata": {
    "collapsed": false
   },
   "outputs": [],
   "source": []
  },
  {
   "cell_type": "code",
   "execution_count": null,
   "metadata": {
    "collapsed": false
   },
   "outputs": [],
   "source": []
  },
  {
   "cell_type": "markdown",
   "metadata": {},
   "source": [
    "**Create an advective diffusive system**"
   ]
  },
  {
   "cell_type": "code",
   "execution_count": null,
   "metadata": {
    "collapsed": true
   },
   "outputs": [],
   "source": [
    "advDiff = uw.systems.AdvectionDiffusion( phiField       = temperatureField, \n",
    "                                         phiDotField    = temperatureDotField, \n",
    "                                         velocityField  = velocityField,\n",
    "                                         fn_sourceTerm    = 0.0,\n",
    "                                         fn_diffusivity = 1.0, \n",
    "                                         #conditions     = [neumannTempBC, dirichTempBC] )\n",
    "                                         conditions     = [ dirichTempBC] )\n",
    "\n",
    "passiveadvector = uw.systems.SwarmAdvector( swarm         = gSwarm, \n",
    "                                     velocityField = velocityField, \n",
    "                                     order         = 1)"
   ]
  },
  {
   "cell_type": "code",
   "execution_count": null,
   "metadata": {
    "collapsed": true
   },
   "outputs": [],
   "source": [
    "population_control = uw.swarm.PopulationControl(gSwarm,deleteThreshold=0.2,splitThreshold=1.,maxDeletions=3,maxSplits=0, aggressive=True, particlesPerCell=ppc)"
   ]
  },
  {
   "cell_type": "markdown",
   "metadata": {},
   "source": [
    "Analysis tools\n",
    "-----"
   ]
  },
  {
   "cell_type": "code",
   "execution_count": null,
   "metadata": {
    "collapsed": true
   },
   "outputs": [],
   "source": [
    "#These are functions we can use to evuate integrals over restricted parts of the domain\n",
    "# For instance, we can exclude the thermal lithosphere from integrals\n",
    "\n",
    "def temprestrictionFn(lithval = 0.9):\n",
    "\n",
    "    tempMM = fn.view.min_max(temperatureField)\n",
    "    tempMM.evaluate(mesh)\n",
    "    TMAX = tempMM.max_global()\n",
    "    mantleconditions = [ (                                  temperatureField > lithval*TMAX, 1.),\n",
    "                   (                                                   True , 0.) ]\n",
    "\n",
    "\n",
    "    return fn.branching.conditional(mantleconditions)\n",
    "\n",
    "mantlerestrictFn = temprestrictionFn(lithval = 0.85)\n",
    "\n",
    "\n",
    "\n",
    "def platenessFn(val = 0.1):\n",
    "    normgradV = fn.math.abs(velocityField.fn_gradient[0]/fn.math.sqrt(velocityField[0]*velocityField[0])) #[du*/dx]/sqrt(u*u)\n",
    "\n",
    "\n",
    "\n",
    "    srconditions = [ (                                  normgradV < val, 1.),\n",
    "                   (                                                   True , 0.) ]\n",
    "\n",
    "\n",
    "    return fn.branching.conditional(srconditions)\n",
    "\n",
    "srrestrictFn = platenessFn(val = 0.1)"
   ]
  },
  {
   "cell_type": "code",
   "execution_count": null,
   "metadata": {
    "collapsed": false
   },
   "outputs": [],
   "source": [
    "fig = glucifer.Figure()\n",
    "fig.append( glucifer.objects.Surface(mesh, temperatureField) )\n",
    "\n",
    "fig.show()\n",
    "#fig.save_database('test.gldb')"
   ]
  },
  {
   "cell_type": "code",
   "execution_count": null,
   "metadata": {
    "collapsed": false
   },
   "outputs": [],
   "source": [
    "#Setup volume integrals \n",
    "\n",
    "tempint = uw.utils.Integral( temperatureField, mesh )\n",
    "areaint = uw.utils.Integral( 1.,               mesh )\n",
    "\n",
    "v2int   = uw.utils.Integral( fn.math.dot(velocityField,velocityField), mesh )\n",
    "\n",
    "dwint   = uw.utils.Integral( temperatureField*velocityField[1], mesh )\n",
    "\n",
    "sinner = fn.math.dot( strainRate_2ndInvariant, strainRate_2ndInvariant )\n",
    "vdint = uw.utils.Integral( (4.*viscosityMapFn*sinner), mesh )\n",
    "\n",
    "mantleArea   = uw.utils.Integral( mantlerestrictFn, mesh )\n",
    "mantleTemp = uw.utils.Integral( temperatureField*mantlerestrictFn, mesh )\n",
    "mantleVisc = uw.utils.Integral( mantleviscosityFn*mantlerestrictFn, mesh )\n",
    "mantleVd = uw.utils.Integral( (4.*viscosityMapFn*sinner*mantlerestrictFn), mesh ) #these now work on MappingFunctions"
   ]
  },
  {
   "cell_type": "code",
   "execution_count": null,
   "metadata": {
    "collapsed": true
   },
   "outputs": [],
   "source": [
    "#Setup surface integrals\n",
    "\n",
    "rmsSurfInt = uw.utils.Integral( fn=velocityField[0]*velocityField[0], mesh=mesh, integrationType='Surface', \n",
    "                          surfaceIndexSet=mesh.specialSets[\"MaxJ_VertexSet\"])\n",
    "nuTop      = uw.utils.Integral( fn=temperatureField.fn_gradient[1],    mesh=mesh, integrationType='Surface', \n",
    "                          surfaceIndexSet=mesh.specialSets[\"MaxJ_VertexSet\"])\n",
    "nuBottom   = uw.utils.Integral( fn=temperatureField.fn_gradient[1],    mesh=mesh, integrationType='Surface', \n",
    "                          surfaceIndexSet=mesh.specialSets[\"MinJ_VertexSet\"])\n",
    "\n",
    "plateint  = uw.utils.Integral( fn=srrestrictFn, mesh=mesh, integrationType='Surface', #Integrate the plateness function\n",
    "                          surfaceIndexSet=mesh.specialSets[\"MaxJ_VertexSet\"]) \n",
    "\n",
    "surfint  = uw.utils.Integral( fn=1., mesh=mesh, integrationType='Surface',   #Surface length function (i.e. domain width)\n",
    "                          surfaceIndexSet=mesh.specialSets[\"MaxJ_VertexSet\"])"
   ]
  },
  {
   "cell_type": "code",
   "execution_count": null,
   "metadata": {
    "collapsed": true
   },
   "outputs": [],
   "source": [
    "#Define functions for the evaluation of integrals\n",
    "\n",
    "def basic_int(ourIntegral):           #This one just hands back the evaluated integral\n",
    "    return ourIntegral.evaluate()[0]\n",
    "\n",
    "def avg_temp():\n",
    "    return tempint.evaluate()[0]/areaint.evaluate()[0]\n",
    "\n",
    "def nusseltTB(temp_field, mesh):\n",
    "    return -nuTop.evaluate()[0], -nuBottom.evaluate()[0]\n",
    "\n",
    "def rms():\n",
    "    return math.sqrt(v2int.evaluate()[0]/areaint.evaluate()[0])\n",
    "\n",
    "def rms_surf():\n",
    "    return math.sqrt(rmsSurfInt.evaluate()[0])\n",
    "\n",
    "def max_vx_surf(velfield, mesh):\n",
    "    vuvelxfn = fn.view.min_max(velfield[0])\n",
    "    vuvelxfn.evaluate(mesh.specialSets[\"MaxJ_VertexSet\"])\n",
    "    return vuvelxfn.max_global()\n",
    "\n",
    "\n",
    "def visc_extr(viscfn):\n",
    "    vuviscfn = fn.view.min_max(viscfn)\n",
    "    vuviscfn.evaluate(mesh)\n",
    "    return vuviscfn.max_global(), vuviscfn.min_global()"
   ]
  },
  {
   "cell_type": "code",
   "execution_count": null,
   "metadata": {
    "collapsed": false
   },
   "outputs": [],
   "source": [
    "#v2sum_integral  = uw.utils.Integral( mesh=mesh, fn=fn.math.dot( velocityField, velocityField ) )\n",
    "#volume_integral = uw.utils.Integral( mesh=mesh, fn=1. )\n",
    "#Vrms = math.sqrt( v2sum_integral.evaluate()[0] )/volume_integral.evaluate()[0]\n",
    "\n",
    "\n",
    "\n",
    "#if(uw.rank()==0):\n",
    "#    print('Initial Vrms = {0:.3f}'.format(Vrms))"
   ]
  },
  {
   "cell_type": "code",
   "execution_count": null,
   "metadata": {
    "collapsed": false
   },
   "outputs": [],
   "source": [
    "# Check the Metrics\n",
    "\n",
    "#Avg_temp = avg_temp()\n",
    "#Rms = rms()\n",
    "#Rms_surf = rms_surf()\n",
    "#Max_vx_surf = max_vx_surf(velocityField, mesh)\n",
    "#Gravwork = basic_int(dwint)\n",
    "#Viscdis = basic_int(vdint)\n",
    "#nu1, nu0 = nusseltTB(temperatureField, mesh) # return top then bottom\n",
    "#etamax, etamin = visc_extr(mantleviscosityFn)\n",
    "\n",
    "Area_mantle = basic_int(mantleArea)\n",
    "#Viscmantle = basic_int(mantleVisc)\n",
    "#Tempmantle = basic_int(mantleTemp)\n",
    "#Viscdismantle = basic_int(mantleVd)"
   ]
  },
  {
   "cell_type": "code",
   "execution_count": null,
   "metadata": {
    "collapsed": false
   },
   "outputs": [],
   "source": [
    "#Tempmantle/Area_mantle, Viscmantle/Area_mantle\n",
    "#Plateness = basic_int(plateint)/basic_int(surfint)"
   ]
  },
  {
   "cell_type": "code",
   "execution_count": null,
   "metadata": {
    "collapsed": false
   },
   "outputs": [],
   "source": [
    "Area_mantle"
   ]
  },
  {
   "cell_type": "markdown",
   "metadata": {},
   "source": [
    "Viz.\n",
    "-----"
   ]
  },
  {
   "cell_type": "code",
   "execution_count": null,
   "metadata": {
    "collapsed": false
   },
   "outputs": [],
   "source": [
    "viscVariable = gSwarm.add_variable( dataType=\"float\", count=1 )\n",
    "viscVariable.data[:] = viscosityMapFn.evaluate(gSwarm)"
   ]
  },
  {
   "cell_type": "code",
   "execution_count": null,
   "metadata": {
    "collapsed": false
   },
   "outputs": [],
   "source": [
    "#Pack some stuff into a database as well\n",
    "figDb = glucifer.Figure()\n",
    "#figDb.append( glucifer.objects.Mesh(mesh))\n",
    "figDb.append( glucifer.objects.VectorArrows(mesh,velocityField, scaling=0.0005))\n",
    "figDb.append( glucifer.objects.Points(gSwarm,tracerVariable, colours= 'white black'))\n",
    "figDb.append( glucifer.objects.Points(gSwarm,viscosityMapFn, logScale=True))\n",
    "figDb.append( glucifer.objects.Surface(mesh, strainRate_2ndInvariant, logScale=True))\n",
    "figDb.append( glucifer.objects.Surface(mesh, temperatureField))\n",
    "#figDb.show()"
   ]
  },
  {
   "cell_type": "code",
   "execution_count": null,
   "metadata": {
    "collapsed": false
   },
   "outputs": [],
   "source": [
    "#figDb.show()\n"
   ]
  },
  {
   "cell_type": "code",
   "execution_count": null,
   "metadata": {
    "collapsed": false
   },
   "outputs": [],
   "source": [
    "velocityField.data[iWalls.data][np.where(velocityField.data[iWalls.data] == 0)]"
   ]
  },
  {
   "cell_type": "code",
   "execution_count": null,
   "metadata": {
    "collapsed": false
   },
   "outputs": [],
   "source": [
    "\n",
    "def checkpoint1(step, checkpointPath,filename, filewrites):\n",
    "    path = checkpointPath + str(step) \n",
    "    os.mkdir(path)\n",
    "    ##Write and save the file, if not already a writing step\n",
    "    if not step % filewrites == 0:\n",
    "        filename.write((17*'%-15s ' + '\\n') % (realtime, Viscdis, float(nu0), float(nu1), Avg_temp,\n",
    "                                              Tempmantle,TMAX,\n",
    "                                              Rms,Rms_surf,Max_vx_surf,Gravwork, etamax, etamin, \n",
    "                                              Area_mantle, Viscmantle,  Viscdismantle,Plateness ))\n",
    "    filename.close()\n",
    "    shutil.copyfile(os.path.join(outputPath, outputFile), os.path.join(path, outputFile))\n",
    "\n",
    "\n",
    "def checkpoint2(step, checkpointPath, swarm, filename, varlist = [materialVariable], varnames = ['materialVariable']):\n",
    "    path = checkpointPath + str(step) \n",
    "    velfile = \"velocityField\" + \".hdf5\"\n",
    "    tempfile = \"temperatureField\" + \".hdf5\"\n",
    "    pressfile = \"pressureField\" + \".hdf5\"\n",
    "    velocityField.save(os.path.join(path, velfile))\n",
    "    temperatureField.save(os.path.join(path, tempfile))\n",
    "    pressureField.save(os.path.join(path, pressfile))\n",
    "    swarm.save(os.path.join(path, \"swarm.h5\") ) \n",
    "    for ix in range(len(varlist)):\n",
    "        varb = varlist[ix]\n",
    "        varb.save(os.path.join(path,varnames[ix] + \".h5\"))\n",
    "    "
   ]
  },
  {
   "cell_type": "markdown",
   "metadata": {},
   "source": [
    "**Miscellania**"
   ]
  },
  {
   "cell_type": "code",
   "execution_count": null,
   "metadata": {
    "collapsed": false
   },
   "outputs": [],
   "source": [
    "surface_xs = np.linspace(mesh.minCoord[0], mesh.maxCoord[0], mesh.elementRes[0] + 1)\n",
    "surface_nodes = np.array(zip(surface_xs, np.ones(len(surface_xs)*mesh.maxCoord[1]))) #For evaluation surface velocity\n",
    "\n",
    "\n",
    "normgradV = velocityField.fn_gradient[0]/fn.math.sqrt(velocityField[0]*velocityField[0])\n",
    "\n",
    "tempMM = fn.view.min_max(temperatureField)\n",
    "dummy = tempMM.evaluate(mesh)\n",
    "\n"
   ]
  },
  {
   "cell_type": "code",
   "execution_count": null,
   "metadata": {
    "collapsed": false
   },
   "outputs": [],
   "source": [
    "tempMM.max_global(), temperatureField.data.max()"
   ]
  },
  {
   "cell_type": "markdown",
   "metadata": {},
   "source": [
    "Main simulation loop\n",
    "-----\n",
    "\n",
    "Run a few advection and Stokes solver steps to make sure we are in, or close to, equilibrium."
   ]
  },
  {
   "cell_type": "code",
   "execution_count": null,
   "metadata": {
    "collapsed": false
   },
   "outputs": [],
   "source": [
    "# initialise timer for computation\n",
    "start = time.clock()\n",
    "# setup summary output file (name above)\n",
    "if checkpointLoad:\n",
    "    if uw.rank() == 0:\n",
    "        shutil.copyfile(os.path.join(checkpointLoadDir, outputFile), outputPath+outputFile)\n",
    "    comm.Barrier()\n",
    "    f_o = open(os.path.join(outputPath, outputFile), 'a')\n",
    "    prevdata = np.genfromtxt(os.path.join(outputPath, outputFile), skip_header=0, skip_footer=0)\n",
    "    if len(prevdata.shape) == 1: #this is in case there is only one line in previous file\n",
    "        realtime = prevdata[0]\n",
    "    else:\n",
    "        realtime = prevdata[prevdata.shape[0]-1, 0]\n",
    "    step = int(checkpointLoadDir.split('/')[-1])\n",
    "    timevals = [0.]\n",
    "else:\n",
    "    f_o = open(outputPath+outputFile, 'w')\n",
    "    realtime = 0.\n",
    "    step = 0\n",
    "    timevals = [0.]"
   ]
  },
  {
   "cell_type": "code",
   "execution_count": null,
   "metadata": {
    "collapsed": false
   },
   "outputs": [],
   "source": []
  },
  {
   "cell_type": "code",
   "execution_count": null,
   "metadata": {
    "collapsed": false
   },
   "outputs": [],
   "source": [
    "#while step < 21:\n",
    "while realtime < 1.:\n",
    "\n",
    "    # solve Stokes and advection systems\n",
    "    solver.solve(nonLinearIterate=True)\n",
    "    dt = advDiff.get_max_dt()\n",
    "    if step == 0:\n",
    "        dt = 0.\n",
    "    advDiff.integrate(dt)\n",
    "    passiveadvector.integrate(dt)\n",
    "    \n",
    "    #Add the adiabatic adjustment:\n",
    "    temperatureField.data[:] += dt*abHeatFn.evaluate(mesh)\n",
    "    \n",
    "\n",
    "    # Increment\n",
    "    realtime += dt\n",
    "    step += 1\n",
    "    timevals.append(realtime)\n",
    "    ################\n",
    "    #Update temperature field in the air region\n",
    "    #Do this better...\n",
    "    ################\n",
    "    if (step % sticky_air_temp == 0):\n",
    "        for index, coord in enumerate(mesh.data):\n",
    "            if coord[1] >= 1.:\n",
    "                temperatureField.data[index] = ndp.TSP\n",
    "    ################\n",
    "    #Gldb output\n",
    "    ################ \n",
    "    if (step % gldbs_output == 0):\n",
    "        #Rebuild any necessary swarm variables\n",
    "        viscVariable.data[:] = viscosityMapFn.evaluate(gSwarm)\n",
    "        #Write gldbs\n",
    "        fnamedb = \"dbFig\" + \"_\" + str(ModIt) + \"_\" + str(step) + \".gldb\"\n",
    "        fullpath = os.path.join(outputPath + \"gldbs/\" + fnamedb)\n",
    "        #figDb.show()\n",
    "        figDb.save_database(fullpath)\n",
    "    ################\n",
    "    #Files output\n",
    "    ################ \n",
    "    if (step % files_output == 0):\n",
    "\n",
    "        vel_surface = velocityField.evaluate_global(surface_nodes)\n",
    "        norm_surface_sr = normgradV.evaluate_global(surface_nodes)\n",
    "        if uw.rank() == 0:\n",
    "            fnametemp = \"velsurface\" + \"_\" + str(ModIt) + \"_\" + str(step)\n",
    "            fullpath = os.path.join(outputPath + \"files/\" + fnametemp)\n",
    "            np.save(fullpath, vel_surface)\n",
    "            fnametemp = \"norm_surface_sr\" + \"_\" + str(ModIt) + \"_\" + str(step)\n",
    "            fullpath = os.path.join(outputPath + \"files/\" + fnametemp)\n",
    "            np.save(fullpath, norm_surface_sr)\n",
    "    ################            \n",
    "    # Calculate the Metrics, only on 1 of the processors:\n",
    "    ################\n",
    "    if (step % metric_output == 0):\n",
    "        ###############\n",
    "        #Swarm - based Metrics\n",
    "        ###############\n",
    "        # Calculate the RMS velocity and Nusselt number.\n",
    "        # Calculate the Metrics, only on 1 of the processors:\n",
    "        mantlerestrictFn = temprestrictionFn() #rebuild the mantle restriction function (but these should be dynamic?)\n",
    "        srrestrictFn = platenessFn(val = 0.1) #rebuild the plateness restriction function\n",
    "        dummy = tempMM.evaluate(mesh) #Re-evaluate any fn.view.min_max guys\n",
    "        #Rebuild these integrals (a test because metrics changes after a restart)\n",
    "        mantleArea   = uw.utils.Integral( mantlerestrictFn, mesh )\n",
    "        mantleTemp = uw.utils.Integral( temperatureField*mantlerestrictFn, mesh )\n",
    "        mantleVisc = uw.utils.Integral( mantleviscosityFn*mantlerestrictFn, mesh )\n",
    "        mantleVd = uw.utils.Integral( (4.*viscosityMapFn*sinner*mantlerestrictFn), mesh ) #these now work on MappingFunctions\n",
    "        ###\n",
    "        Avg_temp = avg_temp()\n",
    "        Rms = rms()\n",
    "        Rms_surf = rms_surf()\n",
    "        Max_vx_surf = max_vx_surf(velocityField, mesh)\n",
    "        Gravwork = basic_int(dwint)\n",
    "        Viscdis = basic_int(vdint)\n",
    "        nu1, nu0 = nusseltTB(temperatureField, mesh) # return top then bottom\n",
    "        etamax, etamin = visc_extr(mantleviscosityFn)\n",
    "        Area_mantle = basic_int(mantleArea)\n",
    "        Viscmantle = basic_int(mantleVisc)\n",
    "        Tempmantle = basic_int(mantleTemp)\n",
    "        Viscdismantle = basic_int(mantleVd)\n",
    "        Plateness = basic_int(plateint)/basic_int(surfint)\n",
    "        TMAX = tempMM.max_global()\n",
    "        # output to summary text file\n",
    "        if uw.rank()==0:\n",
    "            f_o.write((17*'%-15s ' + '\\n') % (realtime, Viscdis, float(nu0), float(nu1), Avg_temp,\n",
    "                                              Tempmantle,TMAX,\n",
    "                                              Rms,Rms_surf,Max_vx_surf,Gravwork, etamax, etamin, \n",
    "                                              Area_mantle, Viscmantle,  Viscdismantle,Plateness ))\n",
    "    ################\n",
    "    #Also repopulate entire swarm periodically\n",
    "    ################\n",
    "    #if step % swarm_repop == 0:\n",
    "    population_control.repopulate()\n",
    "    \n",
    "    ################\n",
    "    #Checkpoint\n",
    "    ################\n",
    "    if step % checkpoint_every == 0:\n",
    "        if uw.rank() == 0:\n",
    "            checkpoint1(step, checkpointPath,f_o, metric_output)           \n",
    "        checkpoint2(step, checkpointPath, gSwarm, f_o, varlist = varlist, varnames = varnames)\n",
    "        f_o = open(os.path.join(outputPath, outputFile), 'a') #is this line supposed to be here?\n",
    "    ################\n",
    "    #Particle update\n",
    "    ###############\n",
    "    timeVariable.data[:] += dt #increment the ages (is this efficient?)\n",
    "    dummyData = np.copy(materialVariable.data)#This is part of a hack that resets ages when a material type changes\n",
    "    if step % swarm_update == 0:\n",
    "        for i in range(2): #Need to go through twice first time through\n",
    "            materialVariable.data[:] = fn.branching.conditional(DG.condition_list).evaluate(gSwarm)\n",
    "    timeVariable.data[np.where(dummyData[:] != materialVariable.data[:])] = 0. #resets those ages when a material type change\n",
    "    \n",
    "f_o.close()\n",
    "print 'step =',step"
   ]
  },
  {
   "cell_type": "code",
   "execution_count": 109,
   "metadata": {
    "collapsed": false
   },
   "outputs": [
    {
     "ename": "RuntimeError",
     "evalue": "Function input dimensionality (2) does not appear to match mesh variable dimensionality (105).",
     "output_type": "error",
     "traceback": [
      "\u001b[1;31m\u001b[0m",
      "\u001b[1;31mRuntimeError\u001b[0mTraceback (most recent call last)",
      "\u001b[1;32m<ipython-input-109-758841825d0d>\u001b[0m in \u001b[0;36m<module>\u001b[1;34m()\u001b[0m\n\u001b[0;32m      1\u001b[0m \u001b[0mviscVariable\u001b[0m \u001b[1;33m=\u001b[0m \u001b[0mgSwarm\u001b[0m\u001b[1;33m.\u001b[0m\u001b[0madd_variable\u001b[0m\u001b[1;33m(\u001b[0m \u001b[0mdataType\u001b[0m\u001b[1;33m=\u001b[0m\u001b[1;34m\"float\"\u001b[0m\u001b[1;33m,\u001b[0m \u001b[0mcount\u001b[0m\u001b[1;33m=\u001b[0m\u001b[1;36m1\u001b[0m \u001b[1;33m)\u001b[0m\u001b[1;33m\u001b[0m\u001b[0m\n\u001b[1;32m----> 2\u001b[1;33m \u001b[0mviscVariable\u001b[0m\u001b[1;33m.\u001b[0m\u001b[0mdata\u001b[0m\u001b[1;33m[\u001b[0m\u001b[1;33m:\u001b[0m\u001b[1;33m]\u001b[0m \u001b[1;33m=\u001b[0m \u001b[0mviscosityMapFn\u001b[0m\u001b[1;33m.\u001b[0m\u001b[0mevaluate\u001b[0m\u001b[1;33m(\u001b[0m\u001b[0mgSwarm\u001b[0m\u001b[1;33m)\u001b[0m\u001b[1;33m\u001b[0m\u001b[0m\n\u001b[0m",
      "\u001b[1;32m/root/underworld2/underworld/function/_function.py\u001b[0m in \u001b[0;36mevaluate\u001b[1;34m(self, inputData, inputType)\u001b[0m\n\u001b[0;32m    594\u001b[0m             \u001b[1;32mif\u001b[0m \u001b[0minputType\u001b[0m \u001b[1;33m!=\u001b[0m \u001b[0mNone\u001b[0m\u001b[1;33m:\u001b[0m\u001b[1;33m\u001b[0m\u001b[0m\n\u001b[0;32m    595\u001b[0m                 \u001b[1;32mraise\u001b[0m \u001b[0mValueError\u001b[0m\u001b[1;33m(\u001b[0m\u001b[1;34m\"'inputType' specification not supported for this input class.\"\u001b[0m\u001b[1;33m)\u001b[0m\u001b[1;33m\u001b[0m\u001b[0m\n\u001b[1;32m--> 596\u001b[1;33m             \u001b[1;32mreturn\u001b[0m \u001b[0m_cfn\u001b[0m\u001b[1;33m.\u001b[0m\u001b[0mQuery\u001b[0m\u001b[1;33m(\u001b[0m\u001b[0mself\u001b[0m\u001b[1;33m.\u001b[0m\u001b[0m_fncself\u001b[0m\u001b[1;33m)\u001b[0m\u001b[1;33m.\u001b[0m\u001b[0mquery\u001b[0m\u001b[1;33m(\u001b[0m\u001b[0minputData\u001b[0m\u001b[1;33m.\u001b[0m\u001b[0m_get_iterator\u001b[0m\u001b[1;33m(\u001b[0m\u001b[1;33m)\u001b[0m\u001b[1;33m)\u001b[0m\u001b[1;33m\u001b[0m\u001b[0m\n\u001b[0m\u001b[0;32m    597\u001b[0m         \u001b[1;32melif\u001b[0m \u001b[0misinstance\u001b[0m\u001b[1;33m(\u001b[0m\u001b[0minputData\u001b[0m\u001b[1;33m,\u001b[0m \u001b[0mnp\u001b[0m\u001b[1;33m.\u001b[0m\u001b[0mndarray\u001b[0m\u001b[1;33m)\u001b[0m\u001b[1;33m:\u001b[0m\u001b[1;33m\u001b[0m\u001b[0m\n\u001b[0;32m    598\u001b[0m             \u001b[1;32mif\u001b[0m \u001b[0minputType\u001b[0m \u001b[1;33m!=\u001b[0m \u001b[0mNone\u001b[0m\u001b[1;33m:\u001b[0m\u001b[1;33m\u001b[0m\u001b[0m\n",
      "\u001b[1;31mRuntimeError\u001b[0m: Function input dimensionality (2) does not appear to match mesh variable dimensionality (105)."
     ]
    }
   ],
   "source": [
    "viscVariable = gSwarm.add_variable( dataType=\"float\", count=1 )\n",
    "viscVariable.data[:] = viscosityMapFn.evaluate(gSwarm)"
   ]
  },
  {
   "cell_type": "code",
   "execution_count": 34,
   "metadata": {
    "collapsed": false
   },
   "outputs": [
    {
     "ename": "NameError",
     "evalue": "name 'gSwarm' is not defined",
     "output_type": "error",
     "traceback": [
      "\u001b[1;31m\u001b[0m",
      "\u001b[1;31mNameError\u001b[0mTraceback (most recent call last)",
      "\u001b[1;32m<ipython-input-34-b1262b1e91a2>\u001b[0m in \u001b[0;36m<module>\u001b[1;34m()\u001b[0m\n\u001b[0;32m      1\u001b[0m \u001b[0mfigSwarm\u001b[0m \u001b[1;33m=\u001b[0m \u001b[0mglucifer\u001b[0m\u001b[1;33m.\u001b[0m\u001b[0mFigure\u001b[0m\u001b[1;33m(\u001b[0m\u001b[0mfigsize\u001b[0m\u001b[1;33m=\u001b[0m\u001b[1;33m(\u001b[0m\u001b[1;36m1024\u001b[0m\u001b[1;33m,\u001b[0m\u001b[1;36m384\u001b[0m\u001b[1;33m)\u001b[0m\u001b[1;33m)\u001b[0m\u001b[1;33m\u001b[0m\u001b[0m\n\u001b[1;32m----> 2\u001b[1;33m \u001b[0mfigSwarm\u001b[0m\u001b[1;33m.\u001b[0m\u001b[0mappend\u001b[0m\u001b[1;33m(\u001b[0m \u001b[0mglucifer\u001b[0m\u001b[1;33m.\u001b[0m\u001b[0mobjects\u001b[0m\u001b[1;33m.\u001b[0m\u001b[0mPoints\u001b[0m\u001b[1;33m(\u001b[0m\u001b[0mgSwarm\u001b[0m\u001b[1;33m,\u001b[0m\u001b[0mviscVariable\u001b[0m\u001b[1;33m,\u001b[0m \u001b[0mlogScale\u001b[0m\u001b[1;33m=\u001b[0m\u001b[0mTrue\u001b[0m\u001b[1;33m)\u001b[0m\u001b[1;33m)\u001b[0m\u001b[1;33m\u001b[0m\u001b[0m\n\u001b[0m\u001b[0;32m      3\u001b[0m \u001b[0mfigSwarm\u001b[0m\u001b[1;33m.\u001b[0m\u001b[0mappend\u001b[0m\u001b[1;33m(\u001b[0m \u001b[0mglucifer\u001b[0m\u001b[1;33m.\u001b[0m\u001b[0mobjects\u001b[0m\u001b[1;33m.\u001b[0m\u001b[0mMesh\u001b[0m\u001b[1;33m(\u001b[0m\u001b[0mmesh\u001b[0m\u001b[1;33m)\u001b[0m\u001b[1;33m)\u001b[0m\u001b[1;33m\u001b[0m\u001b[0m\n\u001b[0;32m      4\u001b[0m \u001b[0mfigSwarm\u001b[0m\u001b[1;33m.\u001b[0m\u001b[0mshow\u001b[0m\u001b[1;33m(\u001b[0m\u001b[1;33m)\u001b[0m\u001b[1;33m\u001b[0m\u001b[0m\n\u001b[0;32m      5\u001b[0m \u001b[0mfigSwarm\u001b[0m\u001b[1;33m.\u001b[0m\u001b[0msave_database\u001b[0m\u001b[1;33m(\u001b[0m\u001b[1;34m'test.gldb'\u001b[0m\u001b[1;33m)\u001b[0m\u001b[1;33m\u001b[0m\u001b[0m\n",
      "\u001b[1;31mNameError\u001b[0m: name 'gSwarm' is not defined"
     ]
    }
   ],
   "source": [
    "figSwarm = glucifer.Figure(figsize=(1024,384))\n",
    "#figSwarm.append( glucifer.objects.Points(gSwarm,viscVariable, logScale=True))\n",
    "figSwarm.append( glucifer.objects.Mesh(mesh))\n",
    "figSwarm.show()\n",
    "figSwarm.save_database('test.gldb')"
   ]
  },
  {
   "cell_type": "code",
   "execution_count": 105,
   "metadata": {
    "collapsed": false
   },
   "outputs": [],
   "source": [
    "#velocityField.data[iWalls.data]"
   ]
  },
  {
   "cell_type": "code",
   "execution_count": 28,
   "metadata": {
    "collapsed": false
   },
   "outputs": [
    {
     "data": {
      "text/html": [
       "<img src='data:image/png;base64,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'>"
      ],
      "text/plain": [
       "<IPython.core.display.HTML object>"
      ]
     },
     "metadata": {},
     "output_type": "display_data"
    }
   ],
   "source": [
    "#Pack some stuff into a database as well\n",
    "figDb = glucifer.Figure()\n",
    "#figDb.append( glucifer.objects.Mesh(mesh))\n",
    "figDb.append( glucifer.objects.VectorArrows(mesh,velocityField))\n",
    "#figDb.append( glucifer.objects.Points(gSwarm,tracerVariable, colours= 'white black'))\n",
    "#figDb.append( glucifer.objects.Points(gSwarm,viscVariable, logScale=True))\n",
    "#figDb.append( glucifer.objects.Surface(mesh, mantleviscosityFn, logScale=True))\n",
    "figDb.append( glucifer.objects.Surface(mesh, velocityField[0]))\n",
    "figDb.show()"
   ]
  },
  {
   "cell_type": "code",
   "execution_count": 37,
   "metadata": {
    "collapsed": false
   },
   "outputs": [
    {
     "data": {
      "text/plain": [
       "5070.202342530959"
      ]
     },
     "execution_count": 37,
     "metadata": {},
     "output_type": "execute_result"
    }
   ],
   "source": [
    "velocityField.data.max()"
   ]
  },
  {
   "cell_type": "code",
   "execution_count": null,
   "metadata": {
    "collapsed": true
   },
   "outputs": [],
   "source": []
  }
 ],
 "metadata": {
  "kernelspec": {
   "display_name": "Python 2",
   "language": "python",
   "name": "python2"
  },
  "language_info": {
   "codemirror_mode": {
    "name": "ipython",
    "version": 2
   },
   "file_extension": ".py",
   "mimetype": "text/x-python",
   "name": "python",
   "nbconvert_exporter": "python",
   "pygments_lexer": "ipython2",
   "version": "2.7.9"
  },
  "widgets": {
   "state": {},
   "version": "1.1.2"
  }
 },
 "nbformat": 4,
 "nbformat_minor": 0
}
