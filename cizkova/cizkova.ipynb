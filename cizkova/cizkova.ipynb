{
 "cells": [
  {
   "cell_type": "markdown",
   "metadata": {},
   "source": [
    "## composite, non-linear rheology:\n",
    "\n",
    "\n",
    "The viscous rheology in this model is similar to the Čížková and Bina paper cited below. Other parts of the model setup are similar to Arredondo and Billen (2016) and Korenaga (2011). \n",
    "\n",
    "Here we use a dimensionless system. For the psuedo-plastic effective rheology a Drucker-prager model is used.\n",
    "\n",
    "\n",
    "**Keywords:** thermal covection, dislocation creep\n",
    "\n",
    "\n",
    "**References**\n",
    "\n",
    "Čížková, Hana, and Craig R. Bina. \"Geodynamics of trench advance: Insights from a Philippine-Sea-style geometry.\" Earth and Planetary Science Letters 430 (2015): 408-415.\n",
    "\n",
    "Arredondo, Katrina M., and Magali I. Billen. \"The Effects of Phase Transitions and Compositional Layering in Two-dimensional Kinematic Models of Subduction.\" Journal of Geodynamics (2016).\n",
    "\n",
    "Korenaga, Jun. \"Scaling of plate tectonic convection with pseudoplastic rheology.\" Journal of Geophysical Research: Solid Earth 115.B11 (2010)."
   ]
  },
  {
   "cell_type": "code",
   "execution_count": 1,
   "metadata": {
    "collapsed": false
   },
   "outputs": [],
   "source": [
    "import numpy as np\n",
    "import underworld as uw\n",
    "import math\n",
    "from underworld import function as fn\n",
    "import glucifer\n",
    "\n",
    "import os\n",
    "import sys\n",
    "import natsort\n",
    "import shutil\n",
    "from easydict import EasyDict as edict\n",
    "import operator\n",
    "import pint\n",
    "import time\n",
    "import operator\n",
    "from slippy2 import boundary_layer2d\n",
    "from slippy2 import material_graph\n",
    "from slippy2 import spmesh\n",
    "\n",
    "from mpi4py import MPI\n",
    "comm = MPI.COMM_WORLD\n",
    "rank = comm.Get_rank()"
   ]
  },
  {
   "cell_type": "markdown",
   "metadata": {},
   "source": [
    "Model name and directories\n",
    "-----"
   ]
  },
  {
   "cell_type": "code",
   "execution_count": 2,
   "metadata": {
    "collapsed": true
   },
   "outputs": [],
   "source": [
    "############\n",
    "#Model name.  \n",
    "############\n",
    "Model = \"T\"\n",
    "ModNum = 9\n",
    "\n",
    "if len(sys.argv) == 1:\n",
    "    ModIt = \"Base\"\n",
    "elif sys.argv[1] == '-f':\n",
    "    ModIt = \"Base\"\n",
    "else:\n",
    "    ModIt = str(sys.argv[1])"
   ]
  },
  {
   "cell_type": "code",
   "execution_count": 3,
   "metadata": {
    "collapsed": false
   },
   "outputs": [],
   "source": [
    "###########\n",
    "#Standard output directory setup\n",
    "###########\n",
    "\n",
    "\n",
    "outputPath = \"results\" + \"/\" +  str(Model) + \"/\" + str(ModNum) + \"/\" + str(ModIt) + \"/\"\n",
    "imagePath = outputPath + 'images/'\n",
    "filePath = outputPath + 'files/'\n",
    "checkpointPath = outputPath + 'checkpoint/'\n",
    "dbPath = outputPath + 'gldbs/'\n",
    "outputFile = 'results_model' + Model + '_' + str(ModNum) + '_' + str(ModIt) + '.dat'\n",
    "\n",
    "if uw.rank()==0:\n",
    "    # make directories if they don't exist\n",
    "    if not os.path.isdir(outputPath):\n",
    "        os.makedirs(outputPath)\n",
    "    if not os.path.isdir(checkpointPath):\n",
    "        os.makedirs(checkpointPath)\n",
    "    if not os.path.isdir(imagePath):\n",
    "        os.makedirs(imagePath)\n",
    "    if not os.path.isdir(dbPath):\n",
    "        os.makedirs(dbPath)\n",
    "    if not os.path.isdir(filePath):\n",
    "        os.makedirs(filePath)\n",
    "        \n",
    "comm.Barrier() #Barrier here so no procs run the check in the next cell too early"
   ]
  },
  {
   "cell_type": "code",
   "execution_count": 4,
   "metadata": {
    "collapsed": false
   },
   "outputs": [
    {
     "name": "stdout",
     "output_type": "stream",
     "text": [
      "results/T/9/Base/checkpoint/ is empty\n"
     ]
    }
   ],
   "source": [
    "###########\n",
    "#Check if starting from checkpoint\n",
    "###########\n",
    "\n",
    "checkdirs = []\n",
    "for dirpath, dirnames, files in os.walk(checkpointPath):\n",
    "    if files:\n",
    "        print dirpath, 'has files'\n",
    "        checkpointLoad = True\n",
    "        checkdirs.append(dirpath)\n",
    "    if not files:\n",
    "        print dirpath, 'is empty'\n",
    "        checkpointLoad = False"
   ]
  },
  {
   "cell_type": "markdown",
   "metadata": {},
   "source": [
    "Setup parameters\n",
    "-----\n",
    "\n",
    "Set simulation parameters for test."
   ]
  },
  {
   "cell_type": "markdown",
   "metadata": {},
   "source": [
    "**Use pint to setup any unit conversions we'll need**"
   ]
  },
  {
   "cell_type": "code",
   "execution_count": 5,
   "metadata": {
    "collapsed": false
   },
   "outputs": [
    {
     "data": {
      "text/html": [
       "10000.0 meter/megayear"
      ],
      "text/latex": [
       "$10000.0 \\frac{meter}{megayear}$"
      ],
      "text/plain": [
       "<Quantity(10000.0, 'meter / megayear')>"
      ]
     },
     "execution_count": 5,
     "metadata": {},
     "output_type": "execute_result"
    }
   ],
   "source": [
    "u = pint.UnitRegistry()\n",
    "cmpery = 1.*u.cm/u.year\n",
    "mpermy = 1.*u.m/u.megayear\n",
    "\n",
    "cmpery.to(mpermy)"
   ]
  },
  {
   "cell_type": "markdown",
   "metadata": {},
   "source": [
    "**Set parameter dictionaries**"
   ]
  },
  {
   "cell_type": "code",
   "execution_count": null,
   "metadata": {
    "collapsed": false
   },
   "outputs": [],
   "source": []
  },
  {
   "cell_type": "code",
   "execution_count": 6,
   "metadata": {
    "collapsed": false
   },
   "outputs": [],
   "source": [
    "###########\n",
    "#Store the physical paramters, scale factors and dimensionless pramters in easyDicts\n",
    "#Mainly helps with avoiding overwriting variables\n",
    "###########\n",
    "\n",
    "dp = edict({#'LS':2900.*1e3,\n",
    "            'LS':2000.*1e3,\n",
    "           'rho':3300,\n",
    "           'g':9.8, \n",
    "           'eta0':4e20, #Dislocation creep at 250 km, 1573 K, 1e-15 s-1 \n",
    "           'k':1e-6,\n",
    "           'a':3e-5, #surface thermal expansivity\n",
    "           'TP':1573., #potential temp\n",
    "           'TS':273., #surface temp\n",
    "           'cohesion':1e7, #\n",
    "           'fc':0.06,   \n",
    "           'Adf':1e-9,\n",
    "           'Ads':3.1e-17,\n",
    "           'Edf':3.35e5,\n",
    "           'Eds':4.8e5,\n",
    "           'Vdf':4e-6,\n",
    "           'Vds':11e-6,\n",
    "           'Alm':1.3e-16,\n",
    "           'Elm':2.0e5,\n",
    "           'Vlm':1.1e-6,\n",
    "           'Ba':4.3e-12,  #A value to simulate pressure increase with depth\n",
    "           'SR':1e-15,\n",
    "           'Dr':250e3, #Reference depth\n",
    "           'R':8.314,\n",
    "           'Cp':1250., #Jkg-1K-1\n",
    "           'StALS':100e3,\n",
    "           'plate_vel':8})\n",
    "\n",
    "#Adibatic heating stuff\n",
    "dp.dTa = (dp.a*dp.g*(dp.TP))/dp.Cp #adibatic gradient, at Tp\n",
    "dp.deltaTa = (dp.TP + dp.dTa*dp.LS) - dp.TS  #Adiabatic Temp at base of mantle, minus Ts\n",
    "dp.deltaT = dp.deltaTa\n",
    "\n",
    "\n",
    "\n",
    "#scale_factors\n",
    "\n",
    "sf = edict({'stress':dp.LS**2/(dp.k*dp.eta0),\n",
    "            'lith_grad':dp.rho*dp.g*(dp.LS)**3/(dp.eta0*dp.k) ,\n",
    "            'vel':dp.LS/dp.k,\n",
    "            'SR':dp.LS**2/dp.k,\n",
    "            'W':(-1./dp.Ba)*(np.log(1.-dp.rho*dp.g*dp.Ba*dp.LS))/(dp.R*dp.deltaTa), #Including adiabatic compression, and deltaTa\n",
    "            'E': 1./(dp.R*dp.deltaTa), #using deltaTa, the guesstimated adiabatic temp differnnce to scale these paramters\n",
    "            #'Ads':(dp.eta0**(ndp.n-2))*((dp.k)**(ndp.n-1))*((dp.LS)**(2. - 2*ndp.n))       \n",
    "           })\n",
    "\n",
    "#dimensionless parameters\n",
    "\n",
    "ndp = edict({'RA':(dp.g*dp.rho*dp.a*dp.deltaT*(dp.LS)**3)/(dp.k*dp.eta0),\n",
    "            'cohesion':dp.cohesion*sf.stress,\n",
    "            'fcd':dp.fc*sf.lith_grad,\n",
    "            'gamma':dp.fc/(dp.a*dp.deltaT),\n",
    "            'Wdf':dp.Vdf*sf.W,\n",
    "            'Edf':dp.Edf*sf.E,\n",
    "            'Wds':dp.Vds*sf.W,\n",
    "            'Eds':dp.Eds*sf.E,\n",
    "            'Elm':dp.Elm*sf.E,\n",
    "           'Wlm':dp.Vlm*sf.W,\n",
    "            'TSP':0., \n",
    "            'TBP':1.,\n",
    "            'TPP':(dp.TP - dp.TS)/dp.deltaT,\n",
    "            'Dr':dp.Dr/dp.LS,\n",
    "            'n':3.5,\n",
    "            'TS':dp.TS/dp.deltaT,\n",
    "            'TP':dp.TP/dp.deltaT,\n",
    "             #'eta_crust':1e21/dp.eta0,\n",
    "             'eta_crust':0.06,\n",
    "            'eta_min':1e-3,\n",
    "            'eta_max':1e5,\n",
    "            'H':0.,\n",
    "            'Tmvp':0.6,\n",
    "             'Di': dp.a*dp.g*dp.LS/dp.Cp, #Dissipation number\n",
    "            'Steta0':1e2,\n",
    "            'plate_vel':sf.vel*dp.plate_vel*(cmpery.to(u.m/u.second)).magnitude,})\n",
    "\n",
    "\n",
    "\n",
    "#Make some further additions to paramter dictionaries\n",
    "\n",
    "#dp.VR = (0.1*(dp.k/dp.LS)*ndp.RA**(2/3.)) #characteristic velocity from a scaling relationship\n",
    "#dp.SR = dp.VR/dp.LS #characteristic strain rate\n",
    "#ndp.VR = dp.VR*sf.vel #characteristic velocity\n",
    "#ndp.SR = dp.SR*sf.SR #characteristic strain rate\n",
    "\n",
    "dp.SR = 1e-15\n",
    "ndp.SR = dp.SR*sf.SR #characteristic strain rate\n",
    "\n",
    "ndp.StRA = (3300.*dp.g*(dp.LS)**3)/(dp.eta0 *dp.k) #Composisitional Rayleigh number for rock-air buoyancy force\n",
    "ndp.TaP = 1. - ndp.TPP,  #Dimensionles adiabtic component of delta t"
   ]
  },
  {
   "cell_type": "code",
   "execution_count": 7,
   "metadata": {
    "collapsed": false
   },
   "outputs": [],
   "source": [
    "#ndp.RA"
   ]
  },
  {
   "cell_type": "code",
   "execution_count": 8,
   "metadata": {
    "collapsed": false
   },
   "outputs": [],
   "source": [
    "###########\n",
    "#A few parameters defining lengths scales, affects materal transistions etc.\n",
    "###########\n",
    "\n",
    "MANTLETOCRUST = (18.*1e3)/dp.LS #Crust depth\n",
    "HARZBURGDEPTH = MANTLETOCRUST + (27.7e3/dp.LS)\n",
    "CRUSTTOMANTLE = (200.*1e3)/dp.LS\n",
    "LITHTOMANTLE = (900.*1e3)/dp.LS \n",
    "MANTLETOLITH = (200.*1e3)/dp.LS \n",
    "TOPOHEIGHT = (10.*1e3)/dp.LS  #rock-air topography limits\n",
    "CRUSTTOECL  = (100.*1e3)/dp.LS\n",
    "AVGTEMP = ndp.TPP #Used to define lithosphere\n",
    "LOWERMANTLE = (1000.*1e3)/dp.LS \n"
   ]
  },
  {
   "cell_type": "markdown",
   "metadata": {},
   "source": [
    "**Model setup parameters**"
   ]
  },
  {
   "cell_type": "code",
   "execution_count": 9,
   "metadata": {
    "collapsed": false
   },
   "outputs": [],
   "source": [
    "###########\n",
    "#Model setup parameters\n",
    "###########\n",
    "\n",
    "refineMesh = True\n",
    "stickyAir = False \n",
    "lower_mantle = False \n",
    "melt_viscosity_reduction= False\n",
    "symmetric_IC = False\n",
    "VelBC = True\n",
    "WeakZone = False\n",
    "\n",
    "\n",
    "MINX = -2.\n",
    "MINY = 0.\n",
    "MAXX = 2.\n",
    "\n",
    "#MAXY = 1.035\n",
    "MAXY = 1.\n",
    "\n",
    "if MINX == 0.:\n",
    "    squareModel = True\n",
    "else: \n",
    "    squareModel = False\n",
    "    \n",
    "    \n",
    "dim = 2          # number of spatial dimensions\n",
    "\n",
    "\n",
    "#MESH STUFF\n",
    "\n",
    "RES = 64\n",
    "\n",
    "Xres = int(RES*4)\n",
    "\n",
    "\n",
    "if stickyAir:\n",
    "    Yres = RES\n",
    "    MAXY = 1. + dp.StALS/dp.LS #150km\n",
    "    \n",
    "else:\n",
    "    Yres = RES\n",
    "    MAXY = 1.\n",
    "\n",
    "\n",
    "periodic = [True, False]\n",
    "elementType = \"Q1/dQ0\"\n",
    "#elementType =\"Q2/DPC1\"\n",
    "\n",
    "\n",
    "#System/Solver stuff\n",
    "\n",
    "PIC_integration=True\n",
    "ppc = 25\n",
    "\n",
    "#Output and safety stuff\n",
    "swarm_repop, swarm_update = 10, 10\n",
    "gldbs_output = 20\n",
    "checkpoint_every, files_output = 50, 50\n",
    "metric_output = 10\n",
    "sticky_air_temp = 5"
   ]
  },
  {
   "cell_type": "markdown",
   "metadata": {},
   "source": [
    "Create mesh and finite element variables\n",
    "------"
   ]
  },
  {
   "cell_type": "code",
   "execution_count": 10,
   "metadata": {
    "collapsed": false
   },
   "outputs": [],
   "source": [
    "mesh = uw.mesh.FeMesh_Cartesian( elementType = (elementType),\n",
    "                                 elementRes  = (Xres, Yres), \n",
    "                                 minCoord    = (MINX, MINY), \n",
    "                                 maxCoord    = (MAXX, MAXY), periodic=periodic)\n",
    "\n",
    "velocityField       = uw.mesh.MeshVariable( mesh=mesh,         nodeDofCount=2 )\n",
    "pressureField       = uw.mesh.MeshVariable( mesh=mesh.subMesh, nodeDofCount=1 )\n",
    "temperatureField    = uw.mesh.MeshVariable( mesh=mesh,         nodeDofCount=1 )\n",
    "temperatureDotField = uw.mesh.MeshVariable( mesh=mesh,         nodeDofCount=1 )"
   ]
  },
  {
   "cell_type": "code",
   "execution_count": 11,
   "metadata": {
    "collapsed": true
   },
   "outputs": [],
   "source": [
    "mesh.reset()"
   ]
  },
  {
   "cell_type": "code",
   "execution_count": 12,
   "metadata": {
    "collapsed": false
   },
   "outputs": [
    {
     "name": "stdout",
     "output_type": "stream",
     "text": [
      "Min\n",
      "(256, 0.012501562500000001, 4.200400000000001, -0.20040000000000086)\n",
      "('edges', 256)\n",
      "-- iteration 0 --\n",
      "| F( p_n ) |^2: 1.98165943146e-05\n",
      "| p_n+1 - p_n |^2: 1.36480086187\n",
      "-- iteration 1 --\n",
      "| F( p_n ) |^2: 3.58989730515e-30\n",
      "Min, Max element width: \n",
      "0.01250\n",
      "0.01875\n"
     ]
    }
   ],
   "source": [
    "\n",
    "#X-Axis\n",
    "\n",
    "if refineMesh:\n",
    "    mesh.reset()\n",
    "    axis = 0\n",
    "    origcoords = np.linspace(mesh.minCoord[axis], mesh.maxCoord[axis], mesh.elementRes[axis] + 1)\n",
    "    edge_rest_lengths = np.diff(origcoords)\n",
    "\n",
    "    deform_lengths = edge_rest_lengths.copy()\n",
    "    min_point =  (abs(mesh.maxCoord[axis]) - abs(mesh.minCoord[axis]))/2.\n",
    "    el_reduction = 0.8001\n",
    "    dx = mesh.maxCoord[axis] - min_point\n",
    "\n",
    "    deform_lengths = deform_lengths - \\\n",
    "                                    ((1.-el_reduction) *deform_lengths[0]) + \\\n",
    "                                    abs((origcoords[1:] - min_point))*((0.5*deform_lengths[0])/dx)\n",
    "\n",
    "    #print(edge_rest_lengths.shape, deform_lengths.shape)\n",
    "\n",
    "    spmesh.deform_1d(deform_lengths, mesh,axis = 'x',norm = 'Min', constraints = [])"
   ]
  },
  {
   "cell_type": "code",
   "execution_count": 13,
   "metadata": {
    "collapsed": false
   },
   "outputs": [],
   "source": [
    "axis = 1\n",
    "orgs = np.linspace(mesh.minCoord[axis], mesh.maxCoord[axis], mesh.elementRes[axis] + 1)\n",
    "\n",
    "value_to_constrain = 1.\n",
    "\n",
    "\n",
    "yconst = [(spmesh.find_closest(orgs, value_to_constrain), np.array([value_to_constrain,0]))]"
   ]
  },
  {
   "cell_type": "code",
   "execution_count": 14,
   "metadata": {
    "collapsed": false
   },
   "outputs": [
    {
     "name": "stdout",
     "output_type": "stream",
     "text": [
      "Min\n",
      "(64, 0.0093765624999999995, 0.84619375000000008, 0.62499047619047554)\n",
      "('edges', 64)\n",
      "-- iteration 0 --\n",
      "| F( p_n ) |^2: 8.05648611886e-05\n",
      "| p_n+1 - p_n |^2: 0.352079185376\n",
      "-- iteration 1 --\n",
      "| F( p_n ) |^2: 3.12512226132e-31\n",
      "Min, Max element width: \n",
      "0.00938\n",
      "0.02187\n"
     ]
    }
   ],
   "source": [
    "###########\n",
    "#Mesh refinement\n",
    "###########\n",
    "\n",
    "if refineMesh:\n",
    "    #Y-Axis\n",
    "    axis = 1\n",
    "    origcoords = np.linspace(mesh.minCoord[axis], mesh.maxCoord[axis], mesh.elementRes[axis] + 1)\n",
    "    edge_rest_lengths = np.diff(origcoords)\n",
    "\n",
    "    deform_lengths = edge_rest_lengths.copy()\n",
    "    min_point =  (mesh.maxCoord[axis])\n",
    "    el_reduction = 0.6001\n",
    "    dx = mesh.maxCoord[axis]\n",
    "\n",
    "    deform_lengths = deform_lengths - \\\n",
    "                                    ((1.-el_reduction)*deform_lengths[0]) + \\\n",
    "                                    abs((origcoords[1:] - min_point))*((0.5*deform_lengths[0])/dx)\n",
    "\n",
    "    #print(edge_rest_lengths.shape, deform_lengths.shape)\n",
    "\n",
    "    spmesh.deform_1d(deform_lengths, mesh,axis = 'y',norm = 'Min', constraints = yconst)"
   ]
  },
  {
   "cell_type": "markdown",
   "metadata": {},
   "source": [
    "Initial conditions\n",
    "-------\n"
   ]
  },
  {
   "cell_type": "code",
   "execution_count": 15,
   "metadata": {
    "collapsed": false
   },
   "outputs": [],
   "source": [
    "coordinate = fn.input()\n",
    "depthFn = 1. - coordinate[1] #a function providing the depth\n",
    "xFn = coordinate[0]  #a function providing the x-coordinate\n",
    "\n",
    "potTempFn = ndp.TPP + (depthFn)*ndp.TaP #a function providing the adiabatic temp at any depth\n",
    "abHeatFn = -1.*velocityField[1]*temperatureField*ndp.Di #a function providing the adiabatic heating rate"
   ]
  },
  {
   "cell_type": "code",
   "execution_count": null,
   "metadata": {
    "collapsed": false
   },
   "outputs": [],
   "source": []
  },
  {
   "cell_type": "code",
   "execution_count": 16,
   "metadata": {
    "collapsed": false
   },
   "outputs": [],
   "source": [
    "###########\n",
    "#Thermal initial condition:\n",
    "#if symmetric_IC, we build a symmetric downwelling on top of a sinusoidal perturbation\n",
    "##########\n",
    "\n",
    "#Sinusoidal initial condition\n",
    "A = 0.2\n",
    "sinFn = depthFn + A*(fn.math.cos( math.pi * coordinate[0])  * fn.math.sin( math.pi * coordinate[1] ))        \n",
    "iD = 660e3/dp.LS #Initial Slab depth\n",
    "dl =  2*math.sqrt(dp.k*160e6*3600*24*365) #diffusion Length at ... My\n",
    "w0 = dl/dp.LS #Boundary layer/slab initial condition\n",
    "delX1 = fn.misc.min(fn.math.abs(coordinate[0] - -0.), fn.math.abs(coordinate[0] - -2.))\n",
    "delX = fn.misc.min(delX1 , fn.math.abs(coordinate[0] - 2.))\n",
    "w = w0*fn.math.sqrt(delX + 1e-7)\n",
    "tempBL = (potTempFn) *fn.math.erf((depthFn)/w) + ndp.TSP\n",
    "delX = fn.misc.min(fn.math.abs(coordinate[0] - - 1.) , fn.math.abs(coordinate[0] - 1.))\n",
    "tempSlab = (potTempFn ) *fn.math.erf((delX*2.)/w0) + ndp.TSP       \n",
    "tempFn1 =  fn.misc.min(tempBL, tempSlab)\n",
    "blFn = fn.branching.conditional([(depthFn < iD, tempFn1), \n",
    "                                    (True, potTempFn)])\n",
    "\n",
    "tempFn = 0.*sinFn + 1.*blFn #partition the temp between these the symmetric downwelling and sinusoid\n",
    "if symmetric_IC:  \n",
    "    if not checkpointLoad:\n",
    "        temperatureField.data[:] = tempFn.evaluate(mesh)  "
   ]
  },
  {
   "cell_type": "code",
   "execution_count": 17,
   "metadata": {
    "collapsed": false
   },
   "outputs": [],
   "source": [
    "###########\n",
    "#Thermal initial condition 2: \n",
    "#if symmetric_IC == False, we build an asymmetric subduction-zone\n",
    "###########\n",
    "\n",
    "#Main control paramters are:\n",
    "\n",
    "Roc = 550e3 #radius of curvature of slab\n",
    "theta = 89. #Angle to truncate the slab (can also do with with a cutoff depth)\n",
    "subzone = 0.0 #X position of subduction zone...in model coordinates\n",
    "slabmaxAge = 160e6 #age of subduction plate at trench\n",
    "sense = 'Right' #dip direction\n",
    "op_age_fac = 1. #this controls the overidding plate speed, hence age reduction\n",
    "\n",
    "\n",
    "#First build the top TBL\n",
    "\n",
    "dl =  2*math.sqrt(dp.k*slabmaxAge*3600*24*365) #diffusion Length at ... My\n",
    "w0 = dl/dp.LS\n",
    "ageFn1 = (fn.math.abs(fn.math.abs(coordinate[0]) - 2.)/2.)\n",
    "ageFn  = fn.branching.conditional([(coordinate[0] <= 0, ageFn1),\n",
    "                                  (True, ageFn1/op_age_fac)])\n",
    "w = w0*fn.math.sqrt(ageFn + 1e-7)\n",
    "tempBL = (potTempFn) *fn.math.erf((depthFn)/w) + ndp.TSP\n",
    "if not symmetric_IC:\n",
    "    if not checkpointLoad:\n",
    "        out = uw.utils.MeshVariable_Projection( temperatureField, tempBL) #apply function with projection\n",
    "        out.solve()\n",
    "\n",
    "        \n",
    "        \n",
    "#Now build the perturbation part\n",
    "\n",
    "def inCircleFnGenerator(centre, radius):\n",
    "    coord = fn.input()\n",
    "    offsetFn = coord - centre\n",
    "    return fn.math.dot( offsetFn, offsetFn ) < radius**2\n",
    "\n",
    "#Setup slab perturbation params (mostly dimensionlesl / model params here)\n",
    "phi = 90. - theta\n",
    "RocM = (Roc/dp.LS)\n",
    "CrustM = MANTLETOCRUST\n",
    "Org = (subzone, 1.-RocM)\n",
    "\n",
    "#Use three circles to define our slab and crust perturbation,  \n",
    "Oc = inCircleFnGenerator(Org , RocM)\n",
    "Ic = inCircleFnGenerator(Org , RocM - w0)\n",
    "Cc = inCircleFnGenerator(Org , RocM - (2.*CrustM)) #Twice as wide as ordinary crust, weak zone on 'outside' of slab\n",
    "dx = (RocM)/(np.math.tan((np.math.pi/180.)*phi))\n",
    "\n",
    "\n",
    "#We'll also create a triangle which will truncate the circles defining the slab...\n",
    "if sense == 'Left': \n",
    "    ptx = subzone - dx\n",
    "else:\n",
    "    ptx = subzone + dx\n",
    "coords = ((0.+subzone, 1), (0.+subzone, 1.-RocM), (ptx, 1.))\n",
    "Tri = fn.shape.Polygon(np.array(coords))\n",
    "\n",
    "#Actually apply the perturbation\n",
    "if not symmetric_IC:\n",
    "    if not checkpointLoad:\n",
    "        sdFn = ((RocM - fn.math.sqrt((coordinate[0] - Org[0])**2. + (coordinate[1] - Org[1])**2.))) \n",
    "        slabFn = ndp.TPP*fn.math.erf((sdFn)/w0)\n",
    "\n",
    "        for index, coord in enumerate(mesh.data):\n",
    "            #if Oc.evaluate(tuple(coord)) and Tri.evaluate(tuple(coord)) and not Ic.evaluate(tuple(coord)): #in inner circle, not in outer circle\n",
    "            if (\n",
    "                Oc.evaluate(tuple(coord)) and\n",
    "                Tri.evaluate(tuple(coord)) and not\n",
    "                Ic.evaluate(tuple(coord)) and\n",
    "                coord[1] > (1. - (250.e3/dp.LS)) \n",
    "                ): #In the quarter-circle defining the lithosphere\n",
    "                temperatureField.data[index] = slabFn.evaluate(mesh)[index]"
   ]
  },
  {
   "cell_type": "code",
   "execution_count": 18,
   "metadata": {
    "collapsed": false
   },
   "outputs": [],
   "source": [
    "#Make sure material in sticky air region is at the surface temperature.\n",
    "for index, coord in enumerate(mesh.data):\n",
    "            if coord[1] >= 1.:\n",
    "                temperatureField.data[index] = ndp.TSP"
   ]
  },
  {
   "cell_type": "code",
   "execution_count": null,
   "metadata": {
    "collapsed": false
   },
   "outputs": [],
   "source": []
  },
  {
   "cell_type": "code",
   "execution_count": 19,
   "metadata": {
    "collapsed": false,
    "scrolled": true
   },
   "outputs": [],
   "source": [
    "fig= glucifer.Figure()\n",
    "fig.append( glucifer.objects.Surface(mesh, temperatureField))\n",
    "\n",
    "#fig.append(glucifer.objects.Mesh(mesh))\n",
    "#fig.save_database('test.gldb')\n",
    "\n",
    "#fig.show()"
   ]
  },
  {
   "cell_type": "code",
   "execution_count": null,
   "metadata": {
    "collapsed": true
   },
   "outputs": [],
   "source": []
  },
  {
   "cell_type": "markdown",
   "metadata": {},
   "source": [
    "Boundary conditions\n",
    "-------"
   ]
  },
  {
   "cell_type": "code",
   "execution_count": null,
   "metadata": {
    "collapsed": true
   },
   "outputs": [],
   "source": []
  },
  {
   "cell_type": "code",
   "execution_count": 20,
   "metadata": {
    "collapsed": false
   },
   "outputs": [],
   "source": [
    "for index in mesh.specialSets[\"MinJ_VertexSet\"]:\n",
    "    temperatureField.data[index] = ndp.TBP\n",
    "for index in mesh.specialSets[\"MaxJ_VertexSet\"]:\n",
    "    temperatureField.data[index] = ndp.TSP\n",
    "    \n",
    "iWalls = mesh.specialSets[\"MinI_VertexSet\"] + mesh.specialSets[\"MaxI_VertexSet\"]\n",
    "jWalls = mesh.specialSets[\"MinJ_VertexSet\"] + mesh.specialSets[\"MaxJ_VertexSet\"]\n",
    "tWalls = mesh.specialSets[\"MaxJ_VertexSet\"]\n",
    "bWalls =mesh.specialSets[\"MinJ_VertexSet\"]\n",
    "\n",
    "VelBCs = mesh.specialSets[\"Empty\"]\n",
    "\n",
    "if VelBC:\n",
    "    for index in list(tWalls.data):\n",
    "        if (mesh.data[int(index)][0] < (subzone - 0.2) and mesh.data[int(index)][0] > -2 + 0.2): #Only push with a portion of teh overiding plate\n",
    "            VelBCs.add(int(index))\n",
    "            #Set the plate velocities for the kinematic phase\n",
    "            velocityField.data[index] = [ndp.plate_vel, 0.]\n",
    "        \n",
    "\n",
    "#If periodic, we'll fix a the x-vel at a single node - at the bottom left (index 0)\n",
    "Fixed = mesh.specialSets[\"Empty\"]\n",
    "Fixed.add(int(0))        \n",
    "        \n",
    "\n",
    "if periodic[0] == False:\n",
    "    freeslipBC = uw.conditions.DirichletCondition( variable      = velocityField, \n",
    "                                               indexSetsPerDof = ( iWalls + VelBCs, jWalls) )\n",
    "\n",
    "\n",
    "\n",
    "\n",
    "\n",
    "\n",
    "if periodic[0] == True:\n",
    "    if VelBC:\n",
    "        freeslipBC = uw.conditions.DirichletCondition( variable      = velocityField, \n",
    "                                               indexSetsPerDof = ( Fixed + VelBCs , jWalls) )\n",
    "    else:\n",
    "        print('me')\n",
    "        freeslipBC = uw.conditions.DirichletCondition( variable      = velocityField, \n",
    "                                               indexSetsPerDof = ( Fixed, jWalls) )\n",
    "        \n",
    "    \n",
    "    \n",
    "    \n",
    "# also set dirichlet for temp field\n",
    "dirichTempBC = uw.conditions.DirichletCondition(     variable=temperatureField, \n",
    "                                              indexSetsPerDof=(tWalls,) )\n",
    "dT_dy = [0.,0.]\n",
    "\n",
    "# also set dirichlet for temp field\n",
    "neumannTempBC = uw.conditions.NeumannCondition( dT_dy, variable=temperatureField, \n",
    "                                         nodeIndexSet=bWalls)\n",
    "\n"
   ]
  },
  {
   "cell_type": "code",
   "execution_count": 21,
   "metadata": {
    "collapsed": false
   },
   "outputs": [],
   "source": [
    "#velocityField.data[tWalls.data]"
   ]
  },
  {
   "cell_type": "markdown",
   "metadata": {},
   "source": [
    "Swarm setup\n",
    "-----\n"
   ]
  },
  {
   "cell_type": "code",
   "execution_count": 22,
   "metadata": {
    "collapsed": false
   },
   "outputs": [],
   "source": [
    "###########\n",
    "#Material Swarm and variables\n",
    "###########\n",
    "\n",
    "#create material swarm\n",
    "gSwarm = uw.swarm.Swarm(mesh=mesh, particleEscape=True)\n",
    "\n",
    "#create swarm variables\n",
    "yieldingCheck = gSwarm.add_variable( dataType=\"int\", count=1 )\n",
    "tracerVariable = gSwarm.add_variable( dataType=\"int\", count=1)\n",
    "materialVariable = gSwarm.add_variable( dataType=\"int\", count=1 )\n",
    "ageVariable = gSwarm.add_variable( dataType=\"float\", count=1 )\n",
    "\n",
    "\n",
    "#these lists  are part of the checkpointing implementation\n",
    "varlist = [tracerVariable, tracerVariable, yieldingCheck]\n",
    "varlist = [materialVariable, yieldingCheck, ageVariable]\n",
    "varnames = ['materialVariable', 'yieldingCheck', 'ageVariable']"
   ]
  },
  {
   "cell_type": "code",
   "execution_count": 23,
   "metadata": {
    "collapsed": false
   },
   "outputs": [],
   "source": [
    "mantleIndex = 0\n",
    "crustIndex = 1\n",
    "harzIndex = 2\n",
    "airIndex = 3\n",
    "\n",
    "\n",
    "\n",
    "if checkpointLoad:\n",
    "    checkpointLoadDir = natsort.natsort(checkdirs)[-1]\n",
    "    temperatureField.load(os.path.join(checkpointLoadDir, \"temperatureField\" + \".hdf5\"))\n",
    "    pressureField.load(os.path.join(checkpointLoadDir, \"pressureField\" + \".hdf5\"))\n",
    "    velocityField.load(os.path.join(checkpointLoadDir, \"velocityField\" + \".hdf5\"))\n",
    "    gSwarm.load(os.path.join(checkpointLoadDir, \"swarm\" + \".h5\"))\n",
    "    for ix in range(len(varlist)):\n",
    "        varb = varlist[ix]\n",
    "        varb.load(os.path.join(checkpointLoadDir,varnames[ix] + \".h5\"))\n",
    "\n",
    "else:\n",
    "\n",
    "    # Layouts are used to populate the swarm across the whole domain\n",
    "    layout = uw.swarm.layouts.PerCellRandomLayout(swarm=gSwarm, particlesPerCell=ppc)\n",
    "    gSwarm.populate_using_layout( layout=layout ) # Now use it to populate.\n",
    "    # Swarm variables\n",
    "    materialVariable.data[:] = mantleIndex\n",
    "    tracerVariable.data[:] = 1\n",
    "    yieldingCheck.data[:] = 0\n",
    "    ageVariable.data[:] = -1\n",
    "\n",
    "    #Set initial air and crust materials (allow the graph to take care of lithsophere)\n",
    "    #########\n",
    "    #This initial material setup will be model dependent\n",
    "    #########\n",
    "    for particleID in range(gSwarm.particleCoordinates.data.shape[0]):\n",
    "        if (1. - gSwarm.particleCoordinates.data[particleID][1]) < MANTLETOCRUST:\n",
    "                 materialVariable.data[particleID] = crustIndex"
   ]
  },
  {
   "cell_type": "code",
   "execution_count": 24,
   "metadata": {
    "collapsed": false
   },
   "outputs": [],
   "source": [
    "###########\n",
    "#This block sets up a checkboard layout of passive tracers\n",
    "###########\n",
    "\n",
    "square_size = 0.1\n",
    "xlist = np.arange(mesh.minCoord[0] + square_size/2., mesh.maxCoord[0] + square_size/2., square_size)\n",
    "xlist = zip(xlist[:], xlist[1:])[::2]\n",
    "ylist = np.arange(mesh.minCoord[1] + square_size/2., mesh.maxCoord[1] + square_size/2., square_size)\n",
    "ylist = zip(ylist[:], ylist[1:])[::2]\n",
    "xops = []\n",
    "for vals in xlist:\n",
    "    xops.append( (operator.and_(   operator.gt(coordinate[0],vals[0]),   operator.lt(coordinate[0],vals[1])  ),0.) )\n",
    "xops.append((True,1.))\n",
    "\n",
    "testfunc = fn.branching.conditional(xops) \n",
    "\n",
    "yops = []\n",
    "for vals in ylist:\n",
    "    yops.append( (operator.and_(   operator.gt(coordinate[1],vals[0]),   operator.lt(coordinate[1],vals[1])  ),0.) )\n",
    "yops.append((True,testfunc))\n",
    "\n",
    "testfunc2 = fn.branching.conditional(yops) \n",
    "tracerVariable.data[:] = testfunc.evaluate(gSwarm)\n",
    "tracerVariable.data[:] = testfunc2.evaluate(gSwarm)"
   ]
  },
  {
   "cell_type": "code",
   "execution_count": 25,
   "metadata": {
    "collapsed": false
   },
   "outputs": [
    {
     "data": {
      "text/plain": [
       "array([  0.00000000e+00,   1.99999995e-05], dtype=float32)"
      ]
     },
     "execution_count": 25,
     "metadata": {},
     "output_type": "execute_result"
    }
   ],
   "source": [
    "#Set the inital particle age, for particles above the critical depth \n",
    "#(only these will be transformed to crust / harzburgite)\n",
    "\n",
    "ageVariable.data[:] = 0. #start with all zeor\n",
    "crustageCond = 1e-05 #set inital age above critical depth. (about 1.2 Ma.) Might have to be shorter than this - need to experiment\n",
    "ageDT = crustageCond + 1e-5 #initalize ages\n",
    "ageConditions = [ (depthFn < 100e3/dp.LS , ageDT),  \n",
    "                  (True, 0.) ]\n",
    "                 \n",
    "\n",
    "ageEval = fn.branching.conditional( ageConditions ).evaluate(gSwarm)\n",
    "ageVariable.data[np.where(ageEval == 0)] = 0 #If below the critical depth, age is set to zero\n",
    "ageVariable.data[np.where(ageEval != 0)] += ageDT #If age above critical depth, increment age\n",
    "\n",
    "np.unique(ageVariable.data)"
   ]
  },
  {
   "cell_type": "markdown",
   "metadata": {
    "collapsed": false
   },
   "source": [
    "Swarm control (material graph)\n",
    "-----\n",
    "\n"
   ]
  },
  {
   "cell_type": "code",
   "execution_count": null,
   "metadata": {
    "collapsed": false
   },
   "outputs": [],
   "source": [
    "\n"
   ]
  },
  {
   "cell_type": "code",
   "execution_count": 26,
   "metadata": {
    "collapsed": false
   },
   "outputs": [],
   "source": [
    "##############\n",
    "#Here we set up a directed graph object that we we use to control the transformation from one material type to another\n",
    "##############\n",
    "\n",
    "#All depth conditions are given as (km/D) where D is the length scale,\n",
    "#note that 'model depths' are used, e.g. 1-z, where z is the vertical Underworld coordinate\n",
    "#All temp conditions are in dimensionless temp. [0. - 1.]\n",
    "\n",
    "#This is a quick fix for a bug that arises in parallel runs\n",
    "material_list = [0,1,2,3]\n",
    "\n",
    "if not checkpointLoad:\n",
    "    materialVariable.data[:] = 0 #Initialize to zero \n",
    "\n",
    "#Setup the graph object\n",
    "DG = material_graph.MatGraph()\n",
    "\n",
    "#Important: First thing to do is to add all the material types to the graph (i.e add nodes)\n",
    "DG.add_nodes_from(material_list)\n",
    "\n",
    "#Now set the conditions for transformations\n",
    "\n",
    "#... to mantle\n",
    "DG.add_transition((crustIndex,mantleIndex), depthFn, operator.gt, CRUSTTOMANTLE)\n",
    "DG.add_transition((harzIndex,mantleIndex), depthFn, operator.gt, CRUSTTOMANTLE)\n",
    "#DG.add_transition((airIndex,mantleIndex), depthFn, operator.gt, TOPOHEIGHT)\n",
    "\n",
    "#... to crust\n",
    "DG.add_transition((mantleIndex,crustIndex), depthFn, operator.lt, MANTLETOCRUST)\n",
    "DG.add_transition((mantleIndex,crustIndex), xFn, operator.lt, 0.) #No crust on the upper plate\n",
    "DG.add_transition((mantleIndex,crustIndex), ageVariable, operator.gt, crustageCond)\n",
    "\n",
    "DG.add_transition((harzIndex,crustIndex), depthFn, operator.lt, MANTLETOCRUST)\n",
    "DG.add_transition((harzIndex,crustIndex), xFn, operator.lt, 0.) #This one sets no crust on the upper plate\n",
    "DG.add_transition((harzIndex,crustIndex), ageVariable, operator.gt, crustageCond)\n",
    "\n",
    "#... to Harzbugite\n",
    "DG.add_transition((mantleIndex,harzIndex), depthFn, operator.lt, HARZBURGDEPTH)\n",
    "DG.add_transition((mantleIndex,harzIndex), depthFn, operator.gt, MANTLETOCRUST)\n",
    "DG.add_transition((mantleIndex,harzIndex), ageVariable, operator.gt, crustageCond) #Note we can mix functions and swarm variabls\n",
    "\n",
    "#... to air\n",
    "#DG.add_transition((mantleIndex,airIndex), depthFn, operator.lt,0. - TOPOHEIGHT)\n",
    "#DG.add_transition((crustIndex,airIndex), depthFn, operator.lt, 0. - TOPOHEIGHT)\n",
    "\n"
   ]
  },
  {
   "cell_type": "code",
   "execution_count": 27,
   "metadata": {
    "collapsed": false
   },
   "outputs": [
    {
     "data": {
      "text/plain": [
       "(0.1, 0.02285)"
      ]
     },
     "execution_count": 27,
     "metadata": {},
     "output_type": "execute_result"
    }
   ],
   "source": [
    "CRUSTTOMANTLE, HARZBURGDEPTH"
   ]
  },
  {
   "cell_type": "code",
   "execution_count": 28,
   "metadata": {
    "collapsed": false
   },
   "outputs": [],
   "source": [
    "##############\n",
    "#For the slab_IC, we'll also add a crustal weak zone following the dipping perturbation\n",
    "##############\n",
    "\n",
    "if checkpointLoad != True:\n",
    "    if not symmetric_IC:\n",
    "        for particleID in range(gSwarm.particleCoordinates.data.shape[0]):\n",
    "            if (\n",
    "                Oc.evaluate(list(gSwarm.particleCoordinates.data[particleID])) and\n",
    "                Tri.evaluate(list(gSwarm.particleCoordinates.data[particleID])) and\n",
    "                Cc.evaluate(list(gSwarm.particleCoordinates.data[particleID])) == False\n",
    "                ):\n",
    "                materialVariable.data[particleID] = crustIndex"
   ]
  },
  {
   "cell_type": "code",
   "execution_count": 29,
   "metadata": {
    "collapsed": false
   },
   "outputs": [],
   "source": [
    "##############\n",
    "#This is how we use the material graph object to test / apply material transformations\n",
    "##############\n",
    "DG.build_condition_list(materialVariable)\n",
    "for i in range(3): #Need to go through a number of times\n",
    "    materialVariable.data[:] = fn.branching.conditional(DG.condition_list).evaluate(gSwarm)"
   ]
  },
  {
   "cell_type": "code",
   "execution_count": 30,
   "metadata": {
    "collapsed": false
   },
   "outputs": [],
   "source": [
    "#DG.build_condition_list(materialVariable)\n",
    "#materialVariable.data[:] = fn.branching.conditional(DG.condition_list).evaluate(gSwarm)"
   ]
  },
  {
   "cell_type": "code",
   "execution_count": null,
   "metadata": {
    "collapsed": false
   },
   "outputs": [],
   "source": []
  },
  {
   "cell_type": "markdown",
   "metadata": {},
   "source": [
    "Rheology\n",
    "-----\n",
    "\n"
   ]
  },
  {
   "cell_type": "code",
   "execution_count": 31,
   "metadata": {
    "collapsed": false
   },
   "outputs": [],
   "source": [
    "# The yeilding of the upper slab is dependent on the strain rate.\n",
    "strainRate_2ndInvariant = fn.tensor.second_invariant( \n",
    "                            fn.tensor.symmetric( \n",
    "                            velocityField.fn_gradient ))\n",
    "\n"
   ]
  },
  {
   "cell_type": "code",
   "execution_count": 33,
   "metadata": {
    "collapsed": false
   },
   "outputs": [],
   "source": [
    "#ViscReduce = 0.1\n",
    "\n",
    "#ndp.Wds *= ViscReduce\n",
    "#ndp.Wdf *= ViscReduce\n",
    "#ndp.Eds *= ViscReduce\n",
    "#ndp.Edf *= ViscReduce"
   ]
  },
  {
   "cell_type": "code",
   "execution_count": 55,
   "metadata": {
    "collapsed": false
   },
   "outputs": [
    {
     "data": {
      "text/plain": [
       "(49.15683109565078, 17.875211307509375, 28.301795831549015, 19.75229500743525)"
      ]
     },
     "execution_count": 55,
     "metadata": {},
     "output_type": "execute_result"
    }
   ],
   "source": [
    "ndp.Wds, ndp.Wdf, ndp.Eds, ndp.Edf"
   ]
  },
  {
   "cell_type": "code",
   "execution_count": 35,
   "metadata": {
    "collapsed": false
   },
   "outputs": [],
   "source": [
    "############\n",
    "#Rheology\n",
    "#############\n",
    "#\n",
    "#The final mantle rheology is composed as follows*:\n",
    "# \n",
    "#\n",
    "# mantleviscosityFn = max{  min{(1/omega*Visc + 1/eta_p)**-1,\n",
    "#                           eta_max},\n",
    "#                           eta_min}\n",
    "#                      \n",
    "#Visc => min{diffusionCreep, dislocationCreep, }\n",
    "#eta_p   => stress-limiting effective viscosity\n",
    "#\n",
    "\n",
    "omega = fn.misc.constant(1.)\n",
    "\n",
    "if melt_viscosity_reduction:\n",
    "    mvr =  fn.branching.conditional( [ (temperatureField > (ndp.Tmvp + 7.5*(1. - coordinate[1])) , 0.1 ),   (         True, 1.) ] )\n",
    "    omega = omega*mvr\n",
    "\n",
    "\n",
    "#implementation of the lower mantle viscosity increase, similar to Bello et al. 2015\n",
    "a = 1.\n",
    "B = 30.\n",
    "d0 = 660e3/dp.LS  \n",
    "ds = d0/10.\n",
    "if lower_mantle:\n",
    "    inner1 = 1. - 0.5*(1. - fn.math.tanh(((1. - d0)-(coordinate[1]))/(ds)))\n",
    "    modfac = a*fn.math.exp(np.log(B)*inner1)\n",
    "    omega = omega*modfac\n",
    "\n",
    "\n",
    "##Diffusion Creep\n",
    "ndfp = fn.misc.min(ndp.eta_max, fn.math.exp( ((ndp.Edf + (depthFn*ndp.Wdf))/((temperatureField + ndp.TS))) - \n",
    "              ((ndp.Edf + (ndp.Dr*ndp.Wdf))/((ndp.TPP + ndp.TS)))  ))\n",
    "\n",
    "linearVisc = fn.misc.min(ndp.eta_max, ndfp)\n",
    "\n",
    "##Dislocation Creep\n",
    "nl_correction = (strainRate_2ndInvariant/ndp.SR)**((1.-ndp.n)/(ndp.n))\n",
    "\n",
    "\n",
    "ndsp = fn.misc.min(ndp.eta_max,(nl_correction)*fn.math.exp( ((ndp.Eds + (depthFn*ndp.Wds))/(ndp.n*(temperatureField + ndp.TS))) -\n",
    "                                     ((ndp.Eds + (ndp.Dr*ndp.Wds))/(ndp.n*(ndp.TPP + ndp.TS)))))\n",
    "\n",
    "\n",
    "##Combine the creep mechanisms\n",
    "Visc = fn.misc.max(fn.misc.min(ndp.eta_max, fn.misc.min(ndfp, ndsp)), ndp.eta_min)\n",
    "\n",
    "##Define the Plasticity\n",
    "ys =  ndp.cohesion + (depthFn*ndp.fcd) #In this case we'll use a valid cohesion\n",
    "yielding = ys/(strainRate_2ndInvariant/math.sqrt(0.5)) #extra factor to account for underworld second invariant form\n",
    "\n",
    "\n",
    "#Combine the viscous creep and plasticity\n",
    "#mantleviscosityFn = fn.misc.max(fn.misc.min(1./(((1./Visc) + (1./yielding))), ndp.eta_max), ndp.eta_min)\n",
    "mantleviscosityFn = fn.misc.max(fn.misc.min(fn.misc.min(Visc, yielding), ndp.eta_max), ndp.eta_min)\n",
    "\n",
    "\n",
    "#fn.misc.min(Visc, yielding)\n",
    "\n",
    "#lower mantle rheology\n",
    "\n",
    "#ndflm = fn.misc.min(ndp.eta_max, fn.math.exp( ((ndp.Elm + (depthFn*ndp.Wlm))/((temperatureField + ndp.TS))) - \n",
    "#              ((ndp.Elm + (ndp.Dr*ndp.Wlm))/((ndp.TPP + ndp.TS)))  ))\n",
    "\n",
    "#I ignored Cizkova's lower mantle diffusion creep parameters, \n",
    "#as they appeared to give lower values that the upper mantle rheology, i.e a visc. decrease at 660.\n",
    "#lm_increase = 1.\n",
    "#lowermantleviscosityFn = fn.misc.max(lm_increase*ndfp, ndp.eta_min)\n",
    "\n",
    "\n",
    "##Crust rheology\n",
    "#reduceFac = 0.1\n",
    "#ysc =  reduceFac*ndp.cohesion + reduceFac*(depthFn*gamma*ndp.RA) #In this case we'll use a valid cohesion\n",
    "#crust_yielding = ysc/(strainRate_2ndInvariant/math.sqrt(0.5)) #extra factor to account for underworld second invariant form\n",
    "#crustviscosityFn = fn.misc.max(fn.misc.min(1./(((1./Visc) + (1./crust_yielding))), ndp.eta_max), ndp.eta_min)\n"
   ]
  },
  {
   "cell_type": "code",
   "execution_count": 36,
   "metadata": {
    "collapsed": false
   },
   "outputs": [],
   "source": [
    "############\n",
    "#Build a weak zone\n",
    "#############\n",
    "#\n",
    "\n",
    "def disGen(centre):\n",
    "    coord = fn.input()\n",
    "    offsetFn = coord - centre\n",
    "    return fn.math.sqrt(fn.math.dot( offsetFn, offsetFn ))\n",
    "\n",
    "depth = 200.e3 #m\n",
    "angle = 20. #degrees\n",
    "num_circles = 50\n",
    "half_width = 5e3 #m\n",
    "\n",
    "\n",
    "xpos = depth/math.tan((angle*math.pi/180.))\n",
    "start = (0.075, 1.)\n",
    "end = (start[0] +xpos/dp.LS , start[1] - depth/dp.LS)\n",
    "xar = np.linspace(start[0], end[0], num_circles)\n",
    "yar = np.linspace(start[1], end[1], num_circles)\n",
    "fnBuilder = fn.misc.constant(1000.)\n",
    "for i in range(num_circles):\n",
    "    circ_dist = disGen((xar[i], yar[i]))\n",
    "    fnBuilder = fn.misc.min(circ_dist, fnBuilder)\n",
    "    \n",
    "sig = half_width/dp.LS\n",
    "gammaFn =  fn.math.exp(-fn.math.pow(fnBuilder, 2.) / (2. * fn.math.pow(sig, 2.)))"
   ]
  },
  {
   "cell_type": "code",
   "execution_count": 37,
   "metadata": {
    "collapsed": false
   },
   "outputs": [],
   "source": [
    "testFn = disGen((0., 1.))"
   ]
  },
  {
   "cell_type": "code",
   "execution_count": 38,
   "metadata": {
    "collapsed": true
   },
   "outputs": [],
   "source": [
    "weakzoneFn = fn.misc.min((10./gammaFn*1.),ndp.eta_max)\n",
    "combmantleviscosityFn = fn.misc.max(ndp.eta_min, fn.misc.min(mantleviscosityFn, weakzoneFn))\n",
    "\n"
   ]
  },
  {
   "cell_type": "code",
   "execution_count": null,
   "metadata": {
    "collapsed": true
   },
   "outputs": [],
   "source": []
  },
  {
   "cell_type": "code",
   "execution_count": 39,
   "metadata": {
    "collapsed": false
   },
   "outputs": [
    {
     "data": {
      "text/html": [
       "<img src='data:image/png;base64,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'>"
      ],
      "text/plain": [
       "<IPython.core.display.HTML object>"
      ]
     },
     "metadata": {},
     "output_type": "display_data"
    },
    {
     "data": {
      "text/plain": [
       "'test.gldb'"
      ]
     },
     "execution_count": 39,
     "metadata": {},
     "output_type": "execute_result"
    }
   ],
   "source": [
    "fig= glucifer.Figure()\n",
    "#fig.append( glucifer.objects.Points(gSwarm,tracerVariable, colours= 'white black'))\n",
    "#fig.append( glucifer.objects.Points(gSwarm,materialVariable))\n",
    "fig.append( glucifer.objects.Surface(mesh, combmantleviscosityFn, logScale=True))\n",
    "#fig.append( glucifer.objects.VectorArrows(mesh, testFn))\n",
    "fig.show()\n",
    "fig.save_database('test.gldb')"
   ]
  },
  {
   "cell_type": "code",
   "execution_count": 40,
   "metadata": {
    "collapsed": false
   },
   "outputs": [],
   "source": [
    "#velocityField.data.max()"
   ]
  },
  {
   "cell_type": "markdown",
   "metadata": {},
   "source": [
    "import matplotlib.pylab as pyplt\n",
    "%matplotlib inline\n",
    "\n",
    "\n",
    "\n",
    "##################\n",
    "#Output functions to numpy vertical averages, maxes, mins\n",
    "##################\n",
    "\n",
    "viscmapFnmesh = uw.mesh.MeshVariable(mesh,nodeDofCount=1)\n",
    "out = uw.utils.MeshVariable_Projection( viscmapFnmesh, viscosityMapFn)\n",
    "out.solve()\n",
    "\n",
    "\n",
    "#avDf = ndfp.evaluate(mesh).reshape(mesh.elementRes[1] + 1, mesh.elementRes[0] + 1).mean(axis=1)\n",
    "avDs = ndsp.evaluate(mesh).reshape(mesh.elementRes[1] + 1, mesh.elementRes[0] + 1).mean(axis=1)\n",
    "umantle = mantleviscosityFn.evaluate(mesh).reshape(mesh.elementRes[1] + 1, mesh.elementRes[0] + 1).mean(axis=1)\n",
    "lmantle = lowermantleviscosityFn.evaluate(mesh).reshape(mesh.elementRes[1] + 1, mesh.elementRes[0] + 1).mean(axis=1)\n",
    "eff = viscmapFnmesh.evaluate(mesh).reshape(mesh.elementRes[1] + 1, mesh.elementRes[0] + 1).mean(axis=1)\n",
    "\n",
    "effMin = viscmapFnmesh.evaluate(mesh).reshape(mesh.elementRes[1] + 1, mesh.elementRes[0] + 1).min(axis=1)\n",
    "effMax = viscmapFnmesh.evaluate(mesh).reshape(mesh.elementRes[1] + 1, mesh.elementRes[0] + 1).max(axis=1)\n",
    "\n",
    "###################\n",
    "#Plot\n",
    "###################\n",
    "import matplotlib.pylab as pyplt\n",
    "%matplotlib inline\n",
    "\n",
    "fig, ax = pyplt.subplots()\n",
    "#ax .plot(avDf, label = 'diff')\n",
    "#ax .plot(avDs, label = 'dis')\n",
    "ax .plot(eff, label = 'eff')\n",
    "ax .plot(effMax, label = 'effMax')\n",
    "ax .plot(effMin, label = 'effMin')\n",
    "#ax .plot(umantle, label = 'uman')\n",
    "#ax .plot(lmantle, label = 'lman')\n",
    "ax.set_yscale(\"log\", nonposy='clip')\n",
    "ax.legend(loc = 3)"
   ]
  },
  {
   "cell_type": "code",
   "execution_count": 53,
   "metadata": {
    "collapsed": false,
    "scrolled": true
   },
   "outputs": [
    {
     "data": {
      "text/html": [
       "<img src='data:image/png;base64,iVBORw0KGgoAAAANSUhEUgAAAoAAAAHgCAIAAAC6s0uzAAAgAElEQVR4nO3d35LcyJXf8XMSqD/dTXIozcyuQqu98l44wq/gF/ET7LvsjZ/DV34GP4HtW4cjVgptKHa9koZDNlldVUAeXwBIZAKo6uom2aeb8/2I6qlCJxIoFIBfZgJVrWYmAADgaQXvFQAA4JeIAAYAwAEBDACAAwIYAAAHBDAAAA4IYAAAHBDAAAA4IIABAHBAAAMA4IAABgDAAQEMAIADAhgAAAcEMAAADghgAAAcEMAAADgggAEAcEAAAwDggAAGAMABAQwAgAMCGAAABwQwAAAOCGAAABwQwAAAOCCAAQBwQAADAOCAAAYAwAEBDACAAwIYAAAHBDAAAA4IYAAAHBDAAAA4IIABAHBAAAMA4IAABgDAAQEMAIADAhgAAAcEMAAADghgAAAcEMAAADgggAEAcEAAAwDggAAGAMABAQwAgAMCGAAABwQwAAAOCGAAABwQwAAAOCCAAQBwQAADAOCAAAYAwAEBDACAAwIYAAAHBDAAAA4IYAAAHBDAAAA4IIABAHBAAAMA4IAABgDAAQEMAIADAhgAAAcEMAAADghgAAAcEMAAADgggAEAcEAAAwDggAAGAMABAQwAgAMCGAAABwQwAAAOCGAAABwQwAAAOCCAAQBwQAADAOCAAAYAwAEBDACAAwIYAAAHBDAAAA4IYAAAHBDAAAA4IIABAHBAAAMA4IAABgDAAQEMAIADAhgAAAcEMAAADghgAAAcEMAAADgggAEAcEAAAwDggAAGAMABAQwAgAMCGAAABwQwAAAOCGAAABwQwAAAOCCAAQBwQAADAOCAAAYAwAEBDACAAwIYAAAHBDAAAA4IYAAAHBDAAAA4IIABAHBAAAMA4IAABgDAAQEMAIADAhgAAAcEMAAADghgAAAcEMAAADgggAEAcEAAAwDggAAGAMABAQwAgAMCGAAABwQwAAAOCGAAABwQwAAAOCCAAQBwQAADAOCAAAYAwAEBDACAAwIYAAAHBDAAAA4IYAAAHBDAAAA4IIABAHBAAAMA4IAABgDAAQEMAIADAhgAAAcEMAAADghgAAAcEMAAADgggAEAcEAAAwDggAAGAMABAQwAgAMCGAAABwQwAAAOCGAAABwQwAAAOCCAAQBwQAADAOCAAAYAwAEBDACAAwIYAAAHBDAAAA4IYAAAHBDAAAA4IIABAHBAAAMA4IAABgDAAQEMAIADAhgAAAcEMAAADghgAAAcEMAAADgggAEAcEAAAwDggAAGAMABAQwAgAMCGAAABwQwAAAOCGAAABwQwAAAOKifZjGq+jQLAgDgM5nZEyzlKQJYVf/xv/+Pt9vm7bZ5e9W+XrfX6/b1uv1u23y3ad9sWzE5tBrudmG3q3afwt2nWq3SKE0rTSNtq02zsX3VHHR/kP1e9ntpo1SViEjbSozStvLhVv/8Z2nae9ZmslmfZCs/nXlDJ4RioopoOeyhKpOZVGdl+v9nleh0WfOn906ZzWX5gnT4j87KpzfNhmLTGcu17Z9aMYuM06Sco3iul0/RfvMGHTe7ppfQrbn1ryKfEqNYlBglmqhKVYmZRBOLEk1WtdS1hFRtiKoSKqmChCBVZRqiiW238uaNvXktb17bai0iensr7z/o+/fy/oO00USkrqWupa6kqqtglUTZ72V/0P1eDgc5HKSNw1YyiVGOjcQoYmIiZtodaNONVG64GCXGbPOaNE1xlNnsoFtonOvSe5TNFU3atqhHVUJZUfdi8zVpW2mzdQtBVnWxq/cvMK82TKttyxfYHQv56sY4fcmrlWw3RSWHgxyOMjU7F+UTVrVsNgtHUO54LE6A/a5Vrsn1lVTZSz4cZb8vFtS2xbusKqu6P9mmtbJYzLJZ282NhKzabl+VdICr1LVUVTocTPQodRuqfnpdRwlN1JhmUTHT1kTaKE3brVW/78ThYLGoIlJVst3KdiPbra7qEETXK7m+sqsrub5aravtKrbV6hDWx2pzrNYSozbNT3f1u13901397q5+12x+Pq5vD9Xtobo9hN0x/Lf/8p/Pbecv54l6wP/zTzeisgr29qp5u23ebturVVxX8WYVv9s2bzbtd9tmW19vqljXd6HahbtP9f5uu4pXdRRp1Fppmqpqt2/iOrTplFHFZl3FWqLEKG9e22/+VtpGjo1YdoR0KZ72QjNpWs33sO6om0xp2qKSNk4PeLPnGN7zVWrva5E8pXT6OLHpFk/FpydZ+rG8lEtc/iaer3be2ugiM03vTytazqLFNklJ3Ik2PYcGFQ1Vnu4hSFVJCLLdyPW1vbqRN6/tzRt5/Vrq2tZBX20lHrsY1t2d7HYSQhdO1p2ITbRr1O4Pcjz2Ldr8eMkfPMN9Ppns6cfm/lnuvs6aTHSb93MrOcj+8Mh50z7WNbMWG8dhaEZU1ZiUSR942btf17JZpyaOHo9WDy3FTtfSNRNRUZPmKE0jfa2qKmtRqYLYSmQlWklVy7rqwrhfQxURPVrVxE3smlxta03ct7pvQorhNtr+Lhw+Rdu2sl3JdtvcVfu/ShMau27kaiXXNwerDq0epT5U9bFaH6t1GzWavt9X73b1T3fV7b6Kpq1JF8OP3M4P90QB/OFQiYiqvLurRDbd272u4qaydW2bKq4rW1W2qeKmjpsqbmrbVHFztG0dt3W8WsftddxUtqnjNvu3qmwd4rqK3c9ViJVEOTbSjP+CRWmaPoabJsRW2labVtp+YrChhdU00rbStMGitE2fyk0rbTelzf5FFesz2EzEdH5iWpgy2y4LpzM78+xEtfedE+9dyvJc5dN5+nzOqfhhlyRObcnUxXyUh2bJ+fJftekzhrQUCZ27/SjXO93t7OMn/fm93FzLZqMhSAgWgr15Ld+9sd2d7nZydye7O93d6aE8oa9qqau0z/f/Fpf1NXyNq1TzDvrj6zn3/LJK7pvrkubnwhjS7PnylHw8JvvXtRF1aCyqSlDrRwWGGVWi6DgkY1HMTNTWG9msZbORzVrWmxiqfrRmVUu9slXdHxPDOpvoeJCoioiZyrqW1cpWK1mtZLWyEKTqBmkqqWqpqsb0aKGJ4Wihe3BotcvgfRP2rR67x224a3TfhLsmHKMemtCXea+Hv4Ym6qHVQ6v7NnQPzDSatKbRJM5+PpknCuDQB5RGUxNRk1bk2FYfh9+uawsiqtbtBnWwTRWDWhWkUgtBupCug1UqVbCuwKqyKlit1k1ZB6tD/7gOFiRK03SzdFM0Ro1tHaza9GWkbYO1degLVMGkaSuNtVoVpA5WiUnbVmpV6P8Fi9LG7nFXrAtjNQsSu58i0o8iptESkXGY0aKYDSfToYszTkmz5FOsOxVqPjjZ9dGLA0NEuuUOEyVbUDZFLW9AjIexZf3L4XAp9kcrj+97TiqWZrdsivRrJeXjU52t/Gm+SmPl81m6aucTz3bpLun23Rvb857uYj33VpLGNjVNCWXfxcqXKXJ3J7udxj+Lqlxfyc2NvbqRmxt9dSObjQQd2pRd2/QoTdMPlYfQd1zM+gVVQdqqD+Bu/5wMZl7yEibbYXHLLMzSPxnTYj775KpK+k8+4J+KTGY583SsNm3/sRJL9Us28jzWU75fk1XqKh//yThFsksSYyiGoc7+TbeuZCjDUqR/78Kwe4xTQt+p1dmU4VrGOEiTF9BgqtG0FW2tO2OribRRW9M2ahNFzGKU1rSJ2kZtRWWzaS20Jt2UqEHquonamrTdFFGzbhZpozamYhJF2522H6WJ2prKahU1tFHbKI1plCBV1Zq2UfpFmzYxjHWaHNpwbLU1iaataYyyb0MTtT8FmrYm+yb0B4qIiLYmhzb017tERMREoqkNBZ5ylOeJArgf6zIT7a8BdW9q91Jb091x3G37vWs4twaVLonDcAhUQwwHFRULKlUX1cGCmooEtTr0OR1UVK1SqfsQlaBplj50g/SL6JM7WLfQOlg9LKhSC8NSKrUgEswqkcqsUqsqCWpBRMVUYjAL2v0br1gENVUJYilTuwJB+pFG7ecStf6Up2J9oySmKZKqVTOJsXuBqRJJlUj/VK1/OenKYpB+K3UBnIdxFotmZuNum6X1tExK8DzRhwJ9wyLFsGWj9+mnZSkyDi0sFsimpEUUP1MsDau0/DNbmTSxGNMe6yl/yqxkZjyNSn/uM+nHWuLQLEvnu3zweXLQ9wPL2SlbyjO4ZKOC3as+HGW3k91Ouh3s9qPs7vTdO1mt5OZGbm7s1bWs1rLdymYrm51tNtI0crWV7Xa8xhxNjkc5NuOtFe0wYpTacN3lmLxnXJUvR4YImXa8Fn8O2yB/mfmLlSzqipAbnuaNEs2LzbbY/GkxMXvv0sqPsadDBg9zhXKt+mr7ekz67lRqH0ST2PX5hsJdARvWYZxFhp5oP0W6UCzKDEkcuzNHt84hmPZ9OxvuRShmCcE0n9KHbjTtLvGL9G9lHMp0GZz3FFvTxjSKRNMo0qo2UdtPYw+yC8imOz+JxiiNaReZXdS1fXj3sZdm6YaFzST2eS/dLKm32k3sDu6+/xq7LdaFqMSuwKDbvHE4Qel46KrlzzJmC4f11/NkPWARybpLJsNpYwjj7IRm0l1cT+MVVrRyux1eLB2/IR0CYulYCMMR3SV0n1J9yT6Q8olpyhDhw9Ms5oPmP1MBSYFXVDItb0GywkP0FlXNZuleSBAJ1bza5bnmr26I+aK8jkvv6xziufsXi0DthtlTYnVty3S3zvCvGJbvp0y62lZW273x5SyahfSkknQ30Ljofmfq55Ix73XYz6SbXbv9aVps4Wcy70YXR+eJDO47kdkpfnKNI8ah8xH66JLhSEhbWKW/stv/DEWPsMv1vm86DJnsD7Lbye5OPu20e9Bfd1S5ve3DeLuV9cpWa1mvujFqe/VKrra23ch2K1dbq2prWz020hzl2MjxGJpG2saa7MKNqLStxHZMYh1eSHanWD62aVJuEFWzvL+rptJPGf71w5VFsGVTukomo6laztId/FYWmJYJ5dOFaq1b2zBZULlo0fHUkyWljbnVJ8GQUmM2xDiUkby8xCGuUvnYH3xjmT5r84kxezqEqFmxaCtHXG1oGRQ1l4vOa7BT1UpZbKgkLW44eYxLHMqIDa9uHJvLWu/9RNHx+BumF63i2eGo00fdeU80a/Cmg76fomOj6Qk8VQ9Yiy3Tnx0tPbahKzKcJLX/3amNm2/6cch+9mmnIFmbVUTEQn4eGEO6aFL34S2iQ386HyjSIaRTmaHLnqZ3w+nTyE+tgbFwtzdkkV/WmeoZ16qc3ierZlV1BbRvl/ThWvxWJpWMbQ4dXlfXjc43hYiNbRrtQ7E4cYmpFMvtCwRLWzVt89RmEsuXYuk9SmvSVyKzKWkpkj3QcZhkfO9kfK/T1h72vzKJ51PmBfK++GJ4T84fks9l4/WIRId+4qQeVelOGCJ9AKcdV1Ska/xn//YH+bTT3Sf5tLNPO9ntZH+Qw0G7+24+fpK6lsNRrrZyFUVVqrq76drWa3v12t68kVc3VtdxPC1q9wGE0B5D24TmGNpG2mZYjeGN7wJYxz7ZOKydJg6xZ13PQ8euT38i7jfScBYehj1jfgoe8imdiMeJ0ud3dk7XoaOTNSyl73dmc6kMY0ndRNN8fdJSsgIiXSTb2LvqCwwBObzSbE26jMkyaUysFELDlh8ztV95Kabn6VVsDcu2WPY41dPXkOYddmHLl5vlYp55aQNmu7ba2IMauqH9FhMxidkpuojP7o2YHEBZsfxUb+NIqKRDJCsydsOyLlr+36KrNv4cer82Fuqq1BPN6q/l6a4BL0ztOynDz/H/6Z1Lk7QomW8hm/y3eGxjFf0JLA1Q9OezMrFTDPdPUyCNb56NT7Ozv2TFUjbIMO6hWbJKn0ZZO176pylIRIspMoR9SM33aUNB+twqlzUdGMgyWLPCYXwtRaOhX9U86rSstmimSLaq2cqMrzflZTb7ZGXy1S5bOTpupaXV0KVql9Yza52IZGHcb6WhWdC3B4fGR1EmSArmcUPJ0IRMGZ/1xbvVGIcBUpuv38+GRXfLsvHlpD0vtc+69Q5ilbS1tZX03VA9NrLf2+Eg3a3On3Z6eysfbu3DrXb3tR6O8umTfPyoZn1/99UrbRqpgl5t7XiwdttWq7tY72N1tNCd+vsRmJVojKE9hqYRMbPsgqhqG4dreKIiQWJ/TW4YKe07kX0SiKbLTzaMZA65kh7kMVAmcd6RGiOkzIY8k6ZzdZs4T6DZjHmvyyRKan0NazKcoIoommWbTOovFxSzVty4nsNOlLc8JEVgNlJYxmS/e6bKZdiFx5UXkdQuKSNwqDN/UeP5Om0QyZqIRYGhwuIMnMVqmpLv8um0XJRJB8TwWKW452Ryfpbh1JdXvXRKt+JpmdYpECwPoafytEPQ52Wnunxytl2yrkuesuXm7Z/lO01pIarzFB/eeREZ4q9Yy+Lt7/8zXs8f948itseGXJ5SxZRs3mnqj7269NuhY1fMYnk9WeshS7JxKVmmlovIiuUBny03m1HKeJOswvJpmeLD69JihYsmSLn08SWEs+umenIrZZXnTQErVzKreXyzrFztPOaz2RdrK5oRY+rPfmX5EoOMkdyvkkgYpge1KtgqWC1tLW1dt7W0m1ftVlvZ7+Vw0P1e9ge7/SgfPuiHW/twKx9u9fZWPu36QePDQfZ7/fm9/OUv8ue/yN/8ID/+oD/+0L754dP67T7qXdR9rPdWtcUN/leSZ4ZI97TJbpNp+/TtA7i7VadLgnzQMo+u/oJGnzHzUCyiJR99KH+VMq/omUkWxvmMKTOKCod5hygaxzyLtMtee76IvJ7st1mx7Ny1OK8MZ7n5xIUUHE4hWcnsMkuZgsX0/vjIzpzZGqYK5+diW5ooXW35KTSbPCuXPZj9NsyK5hE5z5D8XDw5nZ5di0WTzvYTeaoADl/kpVnZ1in2qvzhZLfLm0DzFs50nqxNtFBsskL9DrvUwZ/cLjw+S/tT0ZbTxQdaTEnZOf+tni2QkmOYNrYsUrzNC0wnFiM58wKzoR6dPFiYpRw86GtIlcxbHmOBISznU07WOZulf+3lep6rs9wIJ1cjHzg5W+fp1ZgOY+RXEFSlCraubBXiqrJ1ZasqbkN7vYo3q/b6TXu9arfayO3HIX0/6Idb6wJ4GKaWT7v+nP3hgx0P+pe/yD//Prz5Xjbf7za//mn7/bvNr39e37T9pf/xzJ6CMPXJhjtU+xtlx2uW5XXH1LWdBm2e6NOxyuJBypi8I9g/yGJV8jb6iQHPMszK2wNEZwXKedO4yVDO8ugqs3N4oGV5GdMuD9H0KBWYhOj8QZF8S0E474yeeXrZeTo/s/V90PMpN+m2DktSmU49M2U5H/WeJT9zz6kHfIl0aFg+pZiQm+2N5z6vO9svl/J+ofJU+suYHw82/d2QtvO2npYFhnmme79mDVC1SU3jHq/5LP0a6PxXYxmbTSlq0/wF5EdO6koO8+us2Kk2xGx6NhIw/mo4ZZZxmM+YvSIb1rZYh35jnlqfxTJ6Ylnj61roW6eld5s0FZh3prspq8pWla2yD+Bdr9qbuv11/eqH6tX3b2+/++61fbiV9x/03c/y7p3FVg9HqWs5HqSN0jRy6O5h1vb9p9365ud18+9r+2lr7zbhGFYyhKWIWLqTKPb519/42vWATdt0a2t2S86kwzp+FE5S+g4bbnw6zadJ9ytFrwzF8mTNgrbMpFmepTTNlyVp3lkDfVLJ/JQyWY28wnwp8xPLZEETNvvVUsEsvbOzxeQ8ce5krGeeTUueqlbnk5Zrs8mv702JhQIvOn5fXgAnj6ywOCAWG4nzB7P5lmbRSdl5Fbow7cQKXiov3J3OFw7R/HCYvnLVMZumK5o90dkvdXZZRSaROj/2yqSfZG2+ytN019mxPemLny0jQ+KWqzo2F+YNhayecX3yPM6qKpY+7yinpZcFbFIsj/B8yF3yKbOeejmyLSrDh9fV6mA/3mx/c3P9Q3X9ffXxh+ub71/d2Gqlw2dRtPvGxLaVQz9gajHGuDlau7d4sPbW9K9tvQ8rmWTbmLvlPbpDDE/6u0tXQPtKRIopKczykMtjWLJdehaW04O0TKxsfz1ZrEj06ePF8MvDW5Ytz3iBeVfhQvcG4XL5E2WWU3Z2jPRPJ0fuZYv4JXO9CctLtx9ka9QfR5M7C/oHY4oVh0Q/ZbpPzTN3mOtELi/G9FfaWpcdALNXuTQlf+HZF3YsnpC0v8lwPMHpeMfDWGcKr26LaWovpPGt8Z6pPAg1mzK2hfqV0qHUWElqCuk4S74mRb72ZU6nu07WbZ7HqZLslaoMjZjF5Nb+f5ZPmQWzFlfNRVRV2vTCRNVWIa5urq631fHV1q5faV3bqtaqkmhyPAxfDahiJoeDHo+6r/TwIW5eHbbf7dr43sI+VOVQarexh3dKROafrkljzkNUp0CdXFWVYcpY7fx2y1nbNz8MUxCeSeLJ46GS2ZE7KzTruZ492E9MebT5+NbDZn94hTo7S5+vZCHpl+r5zBfybftFBnBnIVss/89lLPt/UctSoXLK7PEsqU8uc7HIAzfxpYeF3Vt0qR+QzZV9u4eWsyy1l8/0KYZ71icjDjI5J6gs1LLQI08PFy5QTaorA/iyZn6exKmjfGKu6W/znkTeAsjvL8sLqwxd4fSRObFdE/794+r/1NfbOv54ffjNzf7Ho/54DD9u9Pu/UVGRuu5u15L9Xg5HUbV63cjxqLavdFeFuyrcDV/tm/bh4hOo/a/yD+GMA85S3u6bWlfT/vTwJGuiTg+irPMtJ8xmOVHSTj5ZnJAt4EQ+zZunZwqNR8Cs9Kmj7GSd90+bTV/aA7vV0bLMmQovsXC9lhhe8mKHoL+UhRX7zLbC0PPK6zp9nOs0gNOPM0k0TnpIG3wyCnf/yzx/qpLJS/0c8z7NiVJjL3mpwNIm6+aYtllOndQWX4uWJ9FJ0C7OpdOpxYRp+cnV8TR5firMLhLnvyoCe7hUXB0sBFtXtq3jT3fVH99vfreWv1+v3snqnax+fLv+bruxn9/Lzx+6r4yW/f7N/qf/1Lz/D3e//5fd7/549bt/ufr7P6z/7g/1b9+FN+n1W/pUzPBtD30wS3Gjclc+9X2HSQvv3eJudq5MVtUZ07epjMCFzb084fT0+/vDl9WTfnXxyoxLvC8sz+6k/eTsF8svYTLn8+tLvWC/+AD+Wu4935//jc328+Ubre8P4DLVpy2D5XnOT55Ue4+HnJaW73P8Agd8Ollno+WXL2bWe5mWXz513rfe8/7PJWOAMv/b2gt3r/QtuPSlrd1V4bvNzX7T7tetbcLm9fZm81318VZ+ft//e/9e7/ZSVdtK/yH86z8c/5/E//2v727+UP/d71e/TT/j8PUXNunO3huuJyctWB5dKCZdsK3yqZedgu4tNW9+ZWxa7Gzty+228hdpBOW+9brX8kjWI+r9xZ3Lv6Zf8BD083N2zx47rfPBonOzTed5/Bux2G1eaAHcs4QT2TTcdP44tvDo3rU4W8+9RR9Q66XKD3OcGKaYf7wtDgPZY/dRu5EVa/qKujBu4s0n2f6b/vr/Vs3fxk+/jbdvf9386rft223z9qqpPt7qfp9ehYpIFdqPm+NPm8NP27t3293HsJMQVTXvWNpiC0BkGBs/tfYnBhuWJy52WE82iOZlLhvsLcpcMMz7OSc1jxh7dHMIXws94JdETzy+dJ4vuwaliw/uB2flpRWXv7648nvbJrPBgq9w0rp0LOFMIJe3L02/ccLkGPVPHzZ//FlWlb3dtm+316/WvxIRUbletb/aNm+v2m3dfXXSmMFBJVyZXkm83sSfts1PwYbv/0qj32NgZ5+tmg7pTy+02+L0Ydp9U87v1fdcn7iojkWLszyrDHvoynBi9kUP+BfqKQ68L7eM2SXVzMUd5xOj7gsXsr/Y0PqZYhcP+/cBO6zmZMXzq+c2XLrQEzcSVmISpIn6b7erP31YR8vCNlWvMrmpuOr+HFn3N8RCF66mw5+c0Ond2sWF6rwDOub0MHHxynf2+8/bhb7cR/PP+1K7+RdZWwL1ZfH5Ywz45t1/IvhSp4pLxuEvLvKwlXrsTn3uyn02jJxPstmT8ZtZxynpw7Vmkn/Ox2R4uhIR6f/4UPHt/yLdWG/xRR+zVsvw90Kyv2wxfgq5+LxyFsmzl3vBVv4Ce8flVdz3PnLywlfCEDRcfcaO4b9Pfe7Kn79c3vd5p2Ws/DG563j4fHX5YVntFpayc/xVltzd6HP+7R86VluEkI4Flr6PbP7d91/nrfpiuZhe59nfA18cAQw83uP368kl0pPu7T4Og8hZJtt09LV4ln9Vdfp1/s2O6R6rMYDHasewKoaUPb6S9wsvkXMUnhzXgIEvwPXrfobx4/sLFYo5LjtC7YF3uAE4gwAGvpxn3Iv6Iqs2/VQPhzXwGRiCBvBYHNfAZyCAAQBwwBA0AAAO6AEDAODgiQKYPwkJAEDuqXrAgSFoAABGTxXAT7MYAABeCG7CAgDAwZP9MYanWQ4AAC/Dk92ERQ8YAIARH0MCAMAB14ABAHBADxgAAAcEMAAADrgJCwAAB/SAAQBwwDdhAQDggCFoAAAc8McYAABwwBA0AAAOuAkLAAAHfBMWAAAO6AEDAODgye6CfprlAADwMjAEDQCAAwIYAAAHfAwJAAAHXAMGAMABX0UJAIADPoYEAIADAhgAAAfcBQ0AgIOnugb8NIsBAOCFYAgaAAAH/D1gAAAc8DlgAAAccA0YAAAH3AUNAIADAhgAAAf8MQYAABxwExYAAA74YwwAADhgCBoAAAd8ExYAAA74JiwAABzwRRwAADjgLmgAABzwRRwAADigBwwAgAOuAQMA4IAhaAAAHPA5YAAAHPBNWAAAOOC7oAEAcMBd0AAAOGAIGgAABwxBAwDggLugAQBwwDVgAAAcMAQNAIADhqABAHDAEDQAAA74YwwAADjgjzEAAOCAIX69wgsAAAaySURBVGgAABzwTVgAADjgY0gAADhgCBoAAAcMQQMA4IAhaAAAHPBNWAAAOOCLOAAAcMAQNAAADhiCBgDAAT1gAAAccA0YAAAHDEEDAOCAHjAAAA4IYAAAHHATFgAADvhjDAAAOOCPMQAA4IAhaAAAHPAxJAAAHHAXNAAADhiCBgDAAXdBAwDggAAGAMAB14ABAHDwZHdBcw0YAIARQ9AAADhgCBoAAAd8DAkAAAcMQQMA4IA/xgAAgAOuAQMA4ICPIQEA4ICxYQAAHHATFgAADhiCBgDAAT1gAAAccBc0AAAO6AEDAOCAr6IEAMAB34QFAIADrgEDAOCAIWgAABzQAwYAwAF3QQMA4IAABgDAAUPQAAA4eLIA5iYsAABGTxTAYgQwAAAjAhgAAAd8RRUAAA7oAQMA4IAABgDAAUPQAAA4UPv6fVPlazgAAC/HEySjPE0AAwCACYagAQBwQAADAOCAAAYAwAEBDACAAwIYAAAHBDAAAA4IYAAAHBDAAAA4IIABAHBAAAMA4IAABgDAAQEMAIADAhgAAAcEMAAADghgAAAcEMAAADgggAEAcEAAAwDggAAGAMABAQwAgAMCGAAABwQwAAAOCGAAABwQwAAAOCCAAQBwQAADAOCAAAYAwAEBDACAAwIYAAAHBDAAAA4IYAAAHBDAAAA4IIABAHBAAAMA4IAABgDAAQEMAIADAhgAAAcEMAAADghgAAAcEMAAADgggAEAcEAAAwDggAAGAMABAQwAgAMCGAAABwQwAAAOCGAAABwQwAAAOCCAAQBwQAADAOCAAAYAwAEBDACAAwIYAAAHBDAAAA4IYAAAHBDAAAA4IIABAHBAAAMA4IAABgDAAQEMAIADAhgAAAcEMAAADghgAAAcEMAAADgggAEAcEAAAwDggAAGAMABAQwAgAMCGAAABwQwAAAOCGAAABwQwAAAOCCAAQBwQAADAOCAAAYAwAEBDACAAwIYAAAHBDAAAA4IYAAAHBDAAAA4IIABAHBAAAMA4IAABgDAAQEMAIADAhgAAAcEMAAADghgAAAcEMAAADgggAEAcEAAAwDggAAGAMABAQwAgAMCGAAABwQwAAAOCGAAABwQwAAAOCCAAQBwQAADAOCAAAYAwAEBDACAAwIYAAAHBDAAAA4IYAAAHBDAAAA4IIABAHBAAAMA4IAABgDAAQEMAIADAhgAAAcEMAAADghgAAAcEMAAADgggAEAcEAAAwDggAAGAMABAQwAgAMCGAAABwQwAAAOCGAAABwQwAAAOCCAAQBwQAADAOCAAAYAwAEBDACAAwIYAAAHBDAAAA4IYAAAHBDAAAA4IIABAHBAAAMA4IAABgDAAQEMAIADAhgAAAcEMAAADghgAAAcEMAAADiovVfgc6mq9yoAAByYmfcqfJaXHcCq+h//6/9SFRVRse6BdE/VVGZPuwLl06FMP3sX6PlTFZGhtmGiSTZ7V5uMT0XFJJu9q02y2RfWbXyavZby6XzdLlhVkVRg8nRYt7OrKio2eTos9+Gr2hUYV7V4esGqDq/u9LpdtKon3zi7Z1WLHWZ844ZZ7GGrWuwww05V7iTLq5qtm4hIdw4689NE5JE/1S6o/3OX/rVWXkz0q6/8BT8/Yx3089fhnqV8xZUXM/2aK6//9M/ywjEEDQCAAwIYAAAHBDAAAA4IYAAAHBDAAAA4IIABAHBAAAMA4IAABgDAgb7obxLha7AA4BfrReeXvPRvwpKX/wYAvwSqL7ut/4L8cjb1N9ABYwgaAAAHBDAAAA4IYAAAHBDAAAA4+KVcrgcA4Fl57ndBd/e5LbYS5r+aTMnvkaOdAXxBDzowH1HbIyr5hi3e2PxFtvOpyp+JB63bSzz/P+sATlt//jbMf7X4Vj3b7Q68XA86MB9R2yMq+YYtftjmi2znU5U/Ew9at8VX9/x3nm/8GrCqPuc9DHiJHnpee+hh+PzPm09pcWucGnv4lk5387bdQ1/d898g31QATza3DZ75ewC8RKfGnCaHYVdschheckjS/b3XpC/70O38grbwI17dizj/f1MB/Pw3N/DNOHWsdYdhPmUeyfINZYOXxfH/R2zne8s8E494dc/fNxXAEy/9vQGep4ceWakvkp7K2XFm0vdep4YfHrSdU+EXsbUfsRc90Zp9hue+o89vbJvcPnD+zknupQS+hs88MO+tLf2Kg1dO3J6Wfntmy8/rmRd4zs2d8/vVvLC8tPP/8930AAB8w77lIWgAAJ4tAhgAAAcEMAAADghgAAAcEMAAADgggAEAcPD/AblTfg9EFCozAAAAAElFTkSuQmCC'>"
      ],
      "text/plain": [
       "<IPython.core.display.HTML object>"
      ]
     },
     "metadata": {},
     "output_type": "display_data"
    }
   ],
   "source": [
    "fig= glucifer.Figure()\n",
    "#fig.append( glucifer.objects.Points(gSwarm,materialVariable))\n",
    "#fig.append( glucifer.objects.Points(gSwarm,viscosityMapFn, logScale=True))\n",
    "#fig.append( glucifer.objects.Surface(mesh, ndfp, logScale=True))\n",
    "\n",
    "fig.append( glucifer.objects.Surface(mesh,mantleviscosityFn, logScale=True))\n",
    "fig.show()\n",
    "#fig.save_database('test.gldb')"
   ]
  },
  {
   "cell_type": "code",
   "execution_count": 42,
   "metadata": {
    "collapsed": false
   },
   "outputs": [
    {
     "data": {
      "text/plain": [
       "(64.974561976578542, 0.06808037408223129)"
      ]
     },
     "execution_count": 42,
     "metadata": {},
     "output_type": "execute_result"
    }
   ],
   "source": [
    "ndsp.evaluate(mesh).min(), ndfp.evaluate(mesh).min()"
   ]
  },
  {
   "cell_type": "code",
   "execution_count": 43,
   "metadata": {
    "collapsed": false
   },
   "outputs": [],
   "source": [
    "#fig= glucifer.Figure()\n",
    "#fig.append( glucifer.objects.Points(gSwarm,tracerVariable, colours= 'white black'))\n",
    "#fig.append( glucifer.objects.Points(gSwarm,materialVariable))\n",
    "#fig.append( glucifer.objects.Surface(mesh, ndfp/ndsp , logScale=True))\n",
    "\n",
    "#fig.append( glucifer.objects.Surface(mesh, strainRate_2ndInvariant/ndp.SR))\n",
    "#fig.show()\n",
    "#fig.save_database('test.gldb')"
   ]
  },
  {
   "cell_type": "markdown",
   "metadata": {},
   "source": [
    "Stokes system setup\n",
    "-----\n"
   ]
  },
  {
   "cell_type": "code",
   "execution_count": 44,
   "metadata": {
    "collapsed": false
   },
   "outputs": [],
   "source": [
    "#this accounts for the decreas in expansivity\n",
    "alphaRatio = 1.2/3\n",
    "taFn = 1. - (1. - depthFn)*(1. - alphaRatio) \n",
    "raylieghFn = ndp.RA*temperatureField*taFn \n",
    "\n",
    "\n",
    "if WeakZone:\n",
    "    viscosityMapFn = fn.branching.map( fn_key = materialVariable,\n",
    "                         mapping = {crustIndex:combmantleviscosityFn,\n",
    "                                    mantleIndex:combmantleviscosityFn,\n",
    "                                    harzIndex:combmantleviscosityFn} )\n",
    "else: #Use weak crust\n",
    "    viscosityMapFn = fn.branching.map( fn_key = materialVariable,\n",
    "                         mapping = {crustIndex:ndp.eta_crust,\n",
    "                                    mantleIndex:mantleviscosityFn,\n",
    "                                    harzIndex:mantleviscosityFn} )\n",
    "\n",
    "densityMapFn = fn.branching.map( fn_key = materialVariable,\n",
    "                         mapping = {airIndex:ndp.StRA,\n",
    "                                    crustIndex:raylieghFn, \n",
    "                                    mantleIndex:raylieghFn,\n",
    "                                    harzIndex:raylieghFn} )"
   ]
  },
  {
   "cell_type": "code",
   "execution_count": 45,
   "metadata": {
    "collapsed": false
   },
   "outputs": [],
   "source": [
    "\n",
    "# Define our vertical unit vector using a python tuple (this will be automatically converted to a function).\n",
    "gravity = ( 0.0, 1.0 )\n",
    "\n",
    "# Now create a buoyancy force vector using the density and the vertical unit vector. \n",
    "buoyancyFn = densityMapFn * gravity"
   ]
  },
  {
   "cell_type": "code",
   "execution_count": 46,
   "metadata": {
    "collapsed": false
   },
   "outputs": [],
   "source": [
    "stokesPIC = uw.systems.Stokes(velocityField=velocityField, \n",
    "                              pressureField=pressureField,\n",
    "                              conditions=[freeslipBC,],\n",
    "                              fn_viscosity=linearVisc, \n",
    "                              fn_bodyforce=buoyancyFn )"
   ]
  },
  {
   "cell_type": "code",
   "execution_count": 47,
   "metadata": {
    "collapsed": false
   },
   "outputs": [],
   "source": [
    "solver = uw.systems.Solver(stokesPIC)\n",
    "if not checkpointLoad:\n",
    "    solver.solve() #A solve on the linear visocisty is unhelpful unless we're starting from scratch"
   ]
  },
  {
   "cell_type": "code",
   "execution_count": 48,
   "metadata": {
    "collapsed": true
   },
   "outputs": [],
   "source": [
    "#Add the non-linear viscosity to the Stokes system\n",
    "stokesPIC.fn_viscosity = viscosityMapFn"
   ]
  },
  {
   "cell_type": "code",
   "execution_count": 49,
   "metadata": {
    "collapsed": false
   },
   "outputs": [
    {
     "name": "stdout",
     "output_type": "stream",
     "text": [
      "\u001b[1;35m\n",
      " \n",
      "Pressure iterations:   5\n",
      "Velocity iterations:   1 (presolve)      \n",
      "Velocity iterations:  -1 (pressure solve)\n",
      "Velocity iterations:   1 (backsolve)     \n",
      "Velocity iterations:   1 (total solve)   \n",
      " \n",
      "SCR RHS  solve time: 4.7376e-01\n",
      "Pressure solve time: 5.1357e-02\n",
      "Velocity solve time: 4.6680e-01 (backsolve)\n",
      "Total solve time   : 1.0516e+00\n",
      " \n",
      "Velocity solution min/max: 0.0000e+00/0.0000e+00\n",
      "Pressure solution min/max: 0.0000e+00/0.0000e+00\n",
      " \n",
      "\u001b[00m\n"
     ]
    }
   ],
   "source": [
    "solver.set_inner_method(\"mumps\")\n",
    "solver.options.scr.ksp_type=\"cg\"\n",
    "solver.set_penalty(1.0e7)\n",
    "solver.options.scr.ksp_rtol = 1.0e-4\n",
    "solver.solve(nonLinearIterate=True)\n",
    "solver.print_stats()"
   ]
  },
  {
   "cell_type": "code",
   "execution_count": null,
   "metadata": {
    "collapsed": true
   },
   "outputs": [],
   "source": []
  },
  {
   "cell_type": "code",
   "execution_count": 50,
   "metadata": {
    "collapsed": false
   },
   "outputs": [],
   "source": [
    "#Check which particles are yielding\n",
    "#yieldingCheck.data[:] = 0\n",
    "\n",
    "#yieldconditions = [ ( mantleviscosityFn < Visc , 1), \n",
    "#               ( True                                           , 0) ]\n",
    "\n",
    "# use the branching conditional function to set each particle's index\n",
    "#yieldingCheck.data[:] = fn.branching.conditional( yieldconditions ).evaluate(gSwarm)"
   ]
  },
  {
   "cell_type": "code",
   "execution_count": 51,
   "metadata": {
    "collapsed": false,
    "scrolled": true
   },
   "outputs": [],
   "source": [
    "#fig= glucifer.Figure()\n",
    "#fig.append( glucifer.objects.Points(gSwarm,yieldingCheck))\n",
    "\n",
    "#fig.append( glucifer.objects.Surface(mesh,ndflm, logScale=True))\n",
    "#fig.show()"
   ]
  },
  {
   "cell_type": "markdown",
   "metadata": {},
   "source": [
    "Advection-diffusion System setup\n",
    "-----"
   ]
  },
  {
   "cell_type": "code",
   "execution_count": null,
   "metadata": {
    "collapsed": true
   },
   "outputs": [],
   "source": [
    "advDiff = uw.systems.AdvectionDiffusion( phiField       = temperatureField, \n",
    "                                         phiDotField    = temperatureDotField, \n",
    "                                         velocityField  = velocityField,\n",
    "                                         fn_sourceTerm    = 0.0,\n",
    "                                         fn_diffusivity = 1.0, \n",
    "                                         #conditions     = [neumannTempBC, dirichTempBC] )\n",
    "                                         conditions     = [ dirichTempBC] )\n",
    "\n",
    "passiveadvector = uw.systems.SwarmAdvector( swarm         = gSwarm, \n",
    "                                     velocityField = velocityField, \n",
    "                                     order         = 1)"
   ]
  },
  {
   "cell_type": "code",
   "execution_count": null,
   "metadata": {
    "collapsed": true
   },
   "outputs": [],
   "source": [
    "population_control = uw.swarm.PopulationControl(gSwarm,deleteThreshold=0.2,splitThreshold=1.,maxDeletions=3,maxSplits=0, aggressive=True, particlesPerCell=ppc)"
   ]
  },
  {
   "cell_type": "markdown",
   "metadata": {},
   "source": [
    "Analysis functions / routines\n",
    "-----"
   ]
  },
  {
   "cell_type": "code",
   "execution_count": null,
   "metadata": {
    "collapsed": true
   },
   "outputs": [],
   "source": [
    "#These are functions we can use to evuate integrals over restricted parts of the domain\n",
    "# For instance, we can exclude the thermal lithosphere from integrals\n",
    "\n",
    "def temprestrictionFn(lithval = 0.9):\n",
    "\n",
    "    tempMM = fn.view.min_max(temperatureField)\n",
    "    tempMM.evaluate(mesh)\n",
    "    TMAX = tempMM.max_global()\n",
    "    mantleconditions = [ (                                  temperatureField > lithval*TMAX, 1.),\n",
    "                   (                                                   True , 0.) ]\n",
    "\n",
    "\n",
    "    return fn.branching.conditional(mantleconditions)\n",
    "\n",
    "mantlerestrictFn = temprestrictionFn(lithval = 0.85)\n",
    "\n",
    "\n",
    "\n",
    "def platenessFn(val = 0.1):\n",
    "    normgradV = fn.math.abs(velocityField.fn_gradient[0]/fn.math.sqrt(velocityField[0]*velocityField[0])) #[du*/dx]/sqrt(u*u)\n",
    "\n",
    "\n",
    "\n",
    "    srconditions = [ (                                  normgradV < val, 1.),\n",
    "                   (                                                   True , 0.) ]\n",
    "\n",
    "\n",
    "    return fn.branching.conditional(srconditions)\n",
    "\n",
    "srrestrictFn = platenessFn(val = 0.1)"
   ]
  },
  {
   "cell_type": "code",
   "execution_count": null,
   "metadata": {
    "collapsed": true
   },
   "outputs": [],
   "source": []
  },
  {
   "cell_type": "code",
   "execution_count": null,
   "metadata": {
    "collapsed": false
   },
   "outputs": [],
   "source": [
    "#Setup volume integrals \n",
    "\n",
    "tempint = uw.utils.Integral( temperatureField, mesh )\n",
    "areaint = uw.utils.Integral( 1.,               mesh )\n",
    "\n",
    "v2int   = uw.utils.Integral( fn.math.dot(velocityField,velocityField), mesh )\n",
    "\n",
    "dwint   = uw.utils.Integral( temperatureField*velocityField[1], mesh )\n",
    "\n",
    "sinner = fn.math.dot( strainRate_2ndInvariant, strainRate_2ndInvariant )\n",
    "vdint = uw.utils.Integral( (2.*viscosityMapFn*sinner), mesh ) #Is it two or four here?\n",
    "\n",
    "mantleArea   = uw.utils.Integral( mantlerestrictFn, mesh )\n",
    "mantleTemp = uw.utils.Integral( temperatureField*mantlerestrictFn, mesh )\n",
    "mantleVisc = uw.utils.Integral( mantleviscosityFn*mantlerestrictFn, mesh )\n",
    "mantleVd = uw.utils.Integral( (2.*viscosityMapFn*sinner*mantlerestrictFn), mesh ) #these now work on MappingFunctions"
   ]
  },
  {
   "cell_type": "code",
   "execution_count": null,
   "metadata": {
    "collapsed": true
   },
   "outputs": [],
   "source": [
    "#Setup surface integrals\n",
    "\n",
    "rmsSurfInt = uw.utils.Integral( fn=velocityField[0]*velocityField[0], mesh=mesh, integrationType='Surface', \n",
    "                          surfaceIndexSet=mesh.specialSets[\"MaxJ_VertexSet\"])\n",
    "nuTop      = uw.utils.Integral( fn=temperatureField.fn_gradient[1],    mesh=mesh, integrationType='Surface', \n",
    "                          surfaceIndexSet=mesh.specialSets[\"MaxJ_VertexSet\"])\n",
    "nuBottom   = uw.utils.Integral( fn=temperatureField.fn_gradient[1],    mesh=mesh, integrationType='Surface', \n",
    "                          surfaceIndexSet=mesh.specialSets[\"MinJ_VertexSet\"])\n",
    "\n",
    "plateint  = uw.utils.Integral( fn=srrestrictFn, mesh=mesh, integrationType='Surface', #Integrate the plateness function\n",
    "                          surfaceIndexSet=mesh.specialSets[\"MaxJ_VertexSet\"]) \n",
    "\n",
    "surfint  = uw.utils.Integral( fn=1., mesh=mesh, integrationType='Surface',   #Surface length function (i.e. domain width)\n",
    "                          surfaceIndexSet=mesh.specialSets[\"MaxJ_VertexSet\"])"
   ]
  },
  {
   "cell_type": "code",
   "execution_count": null,
   "metadata": {
    "collapsed": true
   },
   "outputs": [],
   "source": [
    "#Define functions for the evaluation of integrals\n",
    "\n",
    "def basic_int(ourIntegral):           #This one just hands back the evaluated integral\n",
    "    return ourIntegral.evaluate()[0]\n",
    "\n",
    "def avg_temp():\n",
    "    return tempint.evaluate()[0]/areaint.evaluate()[0]\n",
    "\n",
    "def nusseltTB(temp_field, mesh):\n",
    "    return -nuTop.evaluate()[0], -nuBottom.evaluate()[0]\n",
    "\n",
    "def rms():\n",
    "    return math.sqrt(v2int.evaluate()[0]/areaint.evaluate()[0])\n",
    "\n",
    "def rms_surf():\n",
    "    return math.sqrt(rmsSurfInt.evaluate()[0])\n",
    "\n",
    "def max_vx_surf(velfield, mesh):\n",
    "    vuvelxfn = fn.view.min_max(velfield[0])\n",
    "    vuvelxfn.evaluate(mesh.specialSets[\"MaxJ_VertexSet\"])\n",
    "    return vuvelxfn.max_global()\n",
    "\n",
    "\n",
    "def visc_extr(viscfn):\n",
    "    vuviscfn = fn.view.min_max(viscfn)\n",
    "    vuviscfn.evaluate(mesh)\n",
    "    return vuviscfn.max_global(), vuviscfn.min_global()"
   ]
  },
  {
   "cell_type": "code",
   "execution_count": null,
   "metadata": {
    "collapsed": false
   },
   "outputs": [],
   "source": [
    "#v2sum_integral  = uw.utils.Integral( mesh=mesh, fn=fn.math.dot( velocityField, velocityField ) )\n",
    "#volume_integral = uw.utils.Integral( mesh=mesh, fn=1. )\n",
    "#Vrms = math.sqrt( v2sum_integral.evaluate()[0] )/volume_integral.evaluate()[0]\n",
    "\n",
    "\n",
    "\n",
    "#if(uw.rank()==0):\n",
    "#    print('Initial Vrms = {0:.3f}'.format(Vrms))\n",
    "\n",
    "# Check the Metrics\n",
    "\n",
    "#Avg_temp = avg_temp()\n",
    "#Rms = rms()\n",
    "#Rms_surf = rms_surf()\n",
    "#Max_vx_surf = max_vx_surf(velocityField, mesh)\n",
    "#Gravwork = basic_int(dwint)\n",
    "#Viscdis = basic_int(vdint)\n",
    "#nu1, nu0 = nusseltTB(temperatureField, mesh) # return top then bottom\n",
    "#etamax, etamin = visc_extr(mantleviscosityFn)\n",
    "\n",
    "#Area_mantle = basic_int(mantleArea)\n",
    "#Viscmantle = basic_int(mantleVisc)\n",
    "#Tempmantle = basic_int(mantleTemp)\n",
    "#Viscdismantle = basic_int(mantleVd)"
   ]
  },
  {
   "cell_type": "markdown",
   "metadata": {},
   "source": [
    "Viz.\n",
    "-----"
   ]
  },
  {
   "cell_type": "code",
   "execution_count": null,
   "metadata": {
    "collapsed": false
   },
   "outputs": [],
   "source": [
    "viscVariable = gSwarm.add_variable( dataType=\"float\", count=1 )\n",
    "viscVariable.data[:] = viscosityMapFn.evaluate(gSwarm)"
   ]
  },
  {
   "cell_type": "code",
   "execution_count": null,
   "metadata": {
    "collapsed": false
   },
   "outputs": [],
   "source": [
    "#Pack some stuff into a database as well\n",
    "figDb = glucifer.Figure()\n",
    "#figDb.append( glucifer.objects.Mesh(mesh))\n",
    "figDb.append( glucifer.objects.VectorArrows(mesh,velocityField, scaling=0.0005))\n",
    "#figDb.append( glucifer.objects.Points(gSwarm,tracerVariable, colours= 'white black'))\n",
    "figDb.append( glucifer.objects.Points(gSwarm,materialVariable))\n",
    "\n",
    "figDb.append( glucifer.objects.Points(gSwarm,viscosityMapFn, logScale=True))\n",
    "figDb.append( glucifer.objects.Surface(mesh, strainRate_2ndInvariant, logScale=True))\n",
    "figDb.append( glucifer.objects.Surface(mesh, temperatureField))\n",
    "#figDb.show()"
   ]
  },
  {
   "cell_type": "code",
   "execution_count": null,
   "metadata": {
    "collapsed": false
   },
   "outputs": [],
   "source": [
    "##############\n",
    "#Create a numpy array at the surface to get surface information on (using parallel-friendly evaluate_global)\n",
    "##############\n",
    "\n",
    "surface_xs = np.linspace(mesh.minCoord[0], mesh.maxCoord[0], mesh.elementRes[0] + 1)\n",
    "surface_nodes = np.array(zip(surface_xs, np.ones(len(surface_xs)*mesh.maxCoord[1]))) #For evaluation surface velocity\n",
    "normgradV = velocityField.fn_gradient[0]/fn.math.sqrt(velocityField[0]*velocityField[0])\n",
    "\n",
    "tempMM = fn.view.min_max(temperatureField)\n",
    "dummy = tempMM.evaluate(mesh)\n",
    "\n"
   ]
  },
  {
   "cell_type": "markdown",
   "metadata": {},
   "source": [
    "**Miscellania**"
   ]
  },
  {
   "cell_type": "code",
   "execution_count": null,
   "metadata": {
    "collapsed": false
   },
   "outputs": [],
   "source": [
    "##############\n",
    "#These functions handle checkpointing\n",
    "##############\n",
    "\n",
    "\n",
    "def checkpoint1(step, checkpointPath,filename, filewrites):\n",
    "    path = checkpointPath + str(step) \n",
    "    os.mkdir(path)\n",
    "    ##Write and save the file, if not already a writing step\n",
    "    if not step % filewrites == 0:\n",
    "        filename.write((17*'%-15s ' + '\\n') % (realtime, Viscdis, float(nu0), float(nu1), Avg_temp,\n",
    "                                              Tempmantle,TMAX,\n",
    "                                              Rms,Rms_surf,Max_vx_surf,Gravwork, etamax, etamin, \n",
    "                                              Area_mantle, Viscmantle,  Viscdismantle,Plateness ))\n",
    "    filename.close()\n",
    "    shutil.copyfile(os.path.join(outputPath, outputFile), os.path.join(path, outputFile))\n",
    "\n",
    "\n",
    "def checkpoint2(step, checkpointPath, swarm, filename, varlist = [materialVariable], varnames = ['materialVariable']):\n",
    "    path = checkpointPath + str(step) \n",
    "    velfile = \"velocityField\" + \".hdf5\"\n",
    "    tempfile = \"temperatureField\" + \".hdf5\"\n",
    "    pressfile = \"pressureField\" + \".hdf5\"\n",
    "    velocityField.save(os.path.join(path, velfile))\n",
    "    temperatureField.save(os.path.join(path, tempfile))\n",
    "    pressureField.save(os.path.join(path, pressfile))\n",
    "    swarm.save(os.path.join(path, \"swarm.h5\") ) \n",
    "    for ix in range(len(varlist)):\n",
    "        varb = varlist[ix]\n",
    "        varb.save(os.path.join(path,varnames[ix] + \".h5\"))\n",
    "    "
   ]
  },
  {
   "cell_type": "code",
   "execution_count": null,
   "metadata": {
    "collapsed": true
   },
   "outputs": [],
   "source": [
    "##############\n",
    "#This will allow us to evaluate viscous shear heating, and add the result directly to the temperature field\n",
    "##############\n",
    "\n",
    "viscDisMapFn = 2.*viscosityMapFn*sinner\n",
    "viscDisFnmesh = uw.mesh.MeshVariable(mesh,nodeDofCount=1)\n",
    "viscDisProj = uw.utils.MeshVariable_Projection( viscDisFnmesh, viscDisMapFn)\n",
    "viscDisProj.solve()"
   ]
  },
  {
   "cell_type": "code",
   "execution_count": null,
   "metadata": {
    "collapsed": false
   },
   "outputs": [],
   "source": [
    "# initialise timer for computation\n",
    "start = time.clock()\n",
    "# setup summary output file (name above)\n",
    "if checkpointLoad:\n",
    "    if uw.rank() == 0:\n",
    "        shutil.copyfile(os.path.join(checkpointLoadDir, outputFile), outputPath+outputFile)\n",
    "    comm.Barrier()\n",
    "    f_o = open(os.path.join(outputPath, outputFile), 'a')\n",
    "    prevdata = np.genfromtxt(os.path.join(outputPath, outputFile), skip_header=0, skip_footer=0)\n",
    "    if len(prevdata.shape) == 1: #this is in case there is only one line in previous file\n",
    "        realtime = prevdata[0]\n",
    "    else:\n",
    "        realtime = prevdata[prevdata.shape[0]-1, 0]\n",
    "    step = int(checkpointLoadDir.split('/')[-1])\n",
    "    timevals = [0.]\n",
    "else:\n",
    "    f_o = open(outputPath+outputFile, 'w')\n",
    "    realtime = 0.\n",
    "    step = 0\n",
    "    timevals = [0.]"
   ]
  },
  {
   "cell_type": "markdown",
   "metadata": {},
   "source": [
    "Main simulation loop\n",
    "-----\n"
   ]
  },
  {
   "cell_type": "code",
   "execution_count": null,
   "metadata": {
    "collapsed": false
   },
   "outputs": [],
   "source": [
    "#while step < 21:\n",
    "while realtime < 1.:\n",
    "\n",
    "    # solve Stokes and advection systems\n",
    "    solver.solve(nonLinearIterate=True)\n",
    "    dt = advDiff.get_max_dt()\n",
    "    if step == 0:\n",
    "        dt = 0.\n",
    "    advDiff.integrate(dt)\n",
    "    passiveadvector.integrate(dt)\n",
    "    \n",
    "    #Add the adiabatic adjustment:\n",
    "    temperatureField.data[:] += dt*abHeatFn.evaluate(mesh)\n",
    "    \n",
    "    #Add the viscous heating term\n",
    "    viscDisProj = uw.utils.MeshVariable_Projection( viscDisFnmesh, viscDisMapFn)\n",
    "    viscDisProj.solve()\n",
    "    temperatureField.data[:] += dt*viscDisFnmesh.evaluate(mesh)\n",
    "    \n",
    "\n",
    "    # Increment\n",
    "    realtime += dt\n",
    "    step += 1\n",
    "    timevals.append(realtime)\n",
    "    ################\n",
    "    #Update temperature field in the air region\n",
    "    #Do this better...\n",
    "    ################\n",
    "    if (step % sticky_air_temp == 0):\n",
    "        for index, coord in enumerate(mesh.data):\n",
    "            if coord[1] >= 1.:\n",
    "                temperatureField.data[index] = ndp.TSP\n",
    "\n",
    "    # Calculate the Metrics, only on 1 of the processors:\n",
    "    ################\n",
    "    if (step % metric_output == 0):\n",
    "        ###############\n",
    "        #Swarm - based Metrics\n",
    "        ###############\n",
    "        # Calculate the RMS velocity and Nusselt number.\n",
    "        # Calculate the Metrics, only on 1 of the processors:\n",
    "        mantlerestrictFn = temprestrictionFn() #rebuild the mantle restriction function (but these should be dynamic?)\n",
    "        srrestrictFn = platenessFn(val = 0.1) #rebuild the plateness restriction function\n",
    "        dummy = tempMM.evaluate(mesh) #Re-evaluate any fn.view.min_max guys\n",
    "        #Rebuild these integrals (a test because metrics changes after a restart)\n",
    "        mantleArea   = uw.utils.Integral( mantlerestrictFn, mesh )\n",
    "        mantleTemp = uw.utils.Integral( temperatureField*mantlerestrictFn, mesh )\n",
    "        mantleVisc = uw.utils.Integral( mantleviscosityFn*mantlerestrictFn, mesh )\n",
    "        mantleVd = uw.utils.Integral( (4.*viscosityMapFn*sinner*mantlerestrictFn), mesh ) #these now work on MappingFunctions\n",
    "        ###\n",
    "        Avg_temp = avg_temp()\n",
    "        Rms = rms()\n",
    "        Rms_surf = rms_surf()\n",
    "        Max_vx_surf = max_vx_surf(velocityField, mesh)\n",
    "        Gravwork = basic_int(dwint)\n",
    "        Viscdis = basic_int(vdint)\n",
    "        nu1, nu0 = nusseltTB(temperatureField, mesh) # return top then bottom\n",
    "        etamax, etamin = visc_extr(mantleviscosityFn)\n",
    "        Area_mantle = basic_int(mantleArea)\n",
    "        Viscmantle = basic_int(mantleVisc)\n",
    "        Tempmantle = basic_int(mantleTemp)\n",
    "        Viscdismantle = basic_int(mantleVd)\n",
    "        Plateness = basic_int(plateint)/basic_int(surfint)\n",
    "        TMAX = tempMM.max_global()\n",
    "        # output to summary text file\n",
    "        if uw.rank()==0:\n",
    "            f_o.write((17*'%-15s ' + '\\n') % (realtime, Viscdis, float(nu0), float(nu1), Avg_temp,\n",
    "                                              Tempmantle,TMAX,\n",
    "                                              Rms,Rms_surf,Max_vx_surf,Gravwork, etamax, etamin, \n",
    "                                              Area_mantle, Viscmantle,  Viscdismantle,Plateness ))\n",
    "    ################\n",
    "    #Also repopulate entire swarm periodically\n",
    "    ################\n",
    "    #if step % swarm_repop == 0:\n",
    "    population_control.repopulate()   \n",
    "    ################\n",
    "    #Checkpoint\n",
    "    ################\n",
    "    if step % checkpoint_every == 0:\n",
    "        if uw.rank() == 0:\n",
    "            checkpoint1(step, checkpointPath,f_o, metric_output)           \n",
    "        checkpoint2(step, checkpointPath, gSwarm, f_o, varlist = varlist, varnames = varnames)\n",
    "        f_o = open(os.path.join(outputPath, outputFile), 'a') #is this line supposed to be here?\n",
    "    ################\n",
    "    #Gldb output\n",
    "    ################ \n",
    "    if (step % gldbs_output == 0):\n",
    "        #Rebuild any necessary swarm variables\n",
    "        viscVariable.data[:] = viscosityMapFn.evaluate(gSwarm)\n",
    "        #Write gldbs\n",
    "        fnamedb = \"dbFig\" + \"_\" + str(ModIt) + \"_\" + str(step) + \".gldb\"\n",
    "        fullpath = os.path.join(outputPath + \"gldbs/\" + fnamedb)\n",
    "        #figDb.show()\n",
    "        figDb.save_database(fullpath)\n",
    "    ################\n",
    "    #Files output\n",
    "    ################ \n",
    "    if (step % files_output == 0):\n",
    "\n",
    "        vel_surface = velocityField.evaluate_global(surface_nodes)\n",
    "        norm_surface_sr = normgradV.evaluate_global(surface_nodes)\n",
    "        if uw.rank() == 0:\n",
    "            fnametemp = \"velsurface\" + \"_\" + str(ModIt) + \"_\" + str(step)\n",
    "            fullpath = os.path.join(outputPath + \"files/\" + fnametemp)\n",
    "            np.save(fullpath, vel_surface)\n",
    "            fnametemp = \"norm_surface_sr\" + \"_\" + str(ModIt) + \"_\" + str(step)\n",
    "            fullpath = os.path.join(outputPath + \"files/\" + fnametemp)\n",
    "            np.save(fullpath, norm_surface_sr)\n",
    "    ################\n",
    "    #Particle update\n",
    "    ###############    \n",
    "    #ageVariable.data[:] += dt #increment the ages (is this efficient?)\n",
    "    ageDT += dt\n",
    "    \n",
    "    if step % swarm_update == 0:\n",
    "        #Increment age stuff. \n",
    "        ageEval = fn.branching.conditional( ageConditions ).evaluate(gSwarm)\n",
    "        ageVariable.data[np.where(ageEval == 0)] = 0 #If below the critical depth, age is set to zero\n",
    "        ageVariable.data[np.where(ageEval != 0)] += ageDT #If age above critical depth, increment age\n",
    "        ageDT = 0. #reset the age incrementer\n",
    "        \n",
    "        #Apply any materialVariable changes\n",
    "        for i in range(2): #Need to go through twice first time through\n",
    "            materialVariable.data[:] = fn.branching.conditional(DG.condition_list).evaluate(gSwarm)\n",
    "\n",
    "    \n",
    "f_o.close()\n",
    "print 'step =',step"
   ]
  },
  {
   "cell_type": "code",
   "execution_count": null,
   "metadata": {
    "collapsed": false
   },
   "outputs": [],
   "source": [
    "viscVariable = gSwarm.add_variable( dataType=\"float\", count=1 )\n",
    "viscVariable.data[:] = viscosityMapFn.evaluate(gSwarm)"
   ]
  }
 ],
 "metadata": {
  "kernelspec": {
   "display_name": "Python 2",
   "language": "python",
   "name": "python2"
  },
  "language_info": {
   "codemirror_mode": {
    "name": "ipython",
    "version": 2
   },
   "file_extension": ".py",
   "mimetype": "text/x-python",
   "name": "python",
   "nbconvert_exporter": "python",
   "pygments_lexer": "ipython2",
   "version": "2.7.9"
  },
  "widgets": {
   "state": {},
   "version": "1.1.2"
  }
 },
 "nbformat": 4,
 "nbformat_minor": 0
}
