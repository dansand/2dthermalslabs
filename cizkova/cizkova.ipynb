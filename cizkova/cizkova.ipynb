{
 "cells": [
  {
   "cell_type": "markdown",
   "metadata": {},
   "source": [
    "## composite, non-linear rheology:\n",
    "\n",
    "\n",
    "The viscous rheology in this model is similar to the Čížková and Bina paper cited below. Other parts of the model setup are similar to Arredondo and Billen (2016) and Korenaga (2011). \n",
    "\n",
    "Here we use a dimensionless system. For the psuedo-plastic effective rheology a Drucker-prager model is used.\n",
    "\n",
    "\n",
    "**Keywords:** thermal covection, dislocation creep\n",
    "\n",
    "\n",
    "**References**\n",
    "\n",
    "Čížková, Hana, and Craig R. Bina. \"Geodynamics of trench advance: Insights from a Philippine-Sea-style geometry.\" Earth and Planetary Science Letters 430 (2015): 408-415.\n",
    "\n",
    "Arredondo, Katrina M., and Magali I. Billen. \"The Effects of Phase Transitions and Compositional Layering in Two-dimensional Kinematic Models of Subduction.\" Journal of Geodynamics (2016).\n",
    "\n",
    "Korenaga, Jun. \"Scaling of plate tectonic convection with pseudoplastic rheology.\" Journal of Geophysical Research: Solid Earth 115.B11 (2010)."
   ]
  },
  {
   "cell_type": "code",
   "execution_count": 4,
   "metadata": {
    "collapsed": false
   },
   "outputs": [],
   "source": [
    "import numpy as np\n",
    "import underworld as uw\n",
    "import math\n",
    "from underworld import function as fn\n",
    "import glucifer\n",
    "\n",
    "import os\n",
    "import sys\n",
    "import natsort\n",
    "import shutil\n",
    "from easydict import EasyDict as edict\n",
    "import operator\n",
    "import pint\n",
    "import time\n",
    "import operator\n",
    "from slippy2 import boundary_layer2d\n",
    "from slippy2 import material_graph\n",
    "from slippy2 import spmesh\n",
    "\n",
    "from mpi4py import MPI\n",
    "comm = MPI.COMM_WORLD\n",
    "rank = comm.Get_rank()"
   ]
  },
  {
   "cell_type": "markdown",
   "metadata": {},
   "source": [
    "Model name and directories\n",
    "-----"
   ]
  },
  {
   "cell_type": "code",
   "execution_count": 5,
   "metadata": {
    "collapsed": true
   },
   "outputs": [],
   "source": [
    "############\n",
    "#Model name.  \n",
    "############\n",
    "Model = \"T\"\n",
    "ModNum = 7\n",
    "\n",
    "if len(sys.argv) == 1:\n",
    "    ModIt = \"Base\"\n",
    "elif sys.argv[1] == '-f':\n",
    "    ModIt = \"Base\"\n",
    "else:\n",
    "    ModIt = str(sys.argv[1])"
   ]
  },
  {
   "cell_type": "code",
   "execution_count": 6,
   "metadata": {
    "collapsed": false
   },
   "outputs": [],
   "source": [
    "###########\n",
    "#Standard output directory setup\n",
    "###########\n",
    "\n",
    "\n",
    "outputPath = \"results\" + \"/\" +  str(Model) + \"/\" + str(ModNum) + \"/\" + str(ModIt) + \"/\"\n",
    "imagePath = outputPath + 'images/'\n",
    "filePath = outputPath + 'files/'\n",
    "checkpointPath = outputPath + 'checkpoint/'\n",
    "dbPath = outputPath + 'gldbs/'\n",
    "outputFile = 'results_model' + Model + '_' + str(ModNum) + '_' + str(ModIt) + '.dat'\n",
    "\n",
    "if uw.rank()==0:\n",
    "    # make directories if they don't exist\n",
    "    if not os.path.isdir(outputPath):\n",
    "        os.makedirs(outputPath)\n",
    "    if not os.path.isdir(checkpointPath):\n",
    "        os.makedirs(checkpointPath)\n",
    "    if not os.path.isdir(imagePath):\n",
    "        os.makedirs(imagePath)\n",
    "    if not os.path.isdir(dbPath):\n",
    "        os.makedirs(dbPath)\n",
    "    if not os.path.isdir(filePath):\n",
    "        os.makedirs(filePath)\n",
    "        \n",
    "comm.Barrier() #Barrier here so no procs run the check in the next cell too early"
   ]
  },
  {
   "cell_type": "code",
   "execution_count": 7,
   "metadata": {
    "collapsed": false
   },
   "outputs": [
    {
     "name": "stdout",
     "output_type": "stream",
     "text": [
      "results/T/7/Base/checkpoint/ is empty\n"
     ]
    }
   ],
   "source": [
    "###########\n",
    "#Check if starting from checkpoint\n",
    "###########\n",
    "\n",
    "checkdirs = []\n",
    "for dirpath, dirnames, files in os.walk(checkpointPath):\n",
    "    if files:\n",
    "        print dirpath, 'has files'\n",
    "        checkpointLoad = True\n",
    "        checkdirs.append(dirpath)\n",
    "    if not files:\n",
    "        print dirpath, 'is empty'\n",
    "        checkpointLoad = False"
   ]
  },
  {
   "cell_type": "markdown",
   "metadata": {},
   "source": [
    "Setup parameters\n",
    "-----\n",
    "\n",
    "Set simulation parameters for test."
   ]
  },
  {
   "cell_type": "markdown",
   "metadata": {},
   "source": [
    "**Use pint to setup any unit conversions we'll need**"
   ]
  },
  {
   "cell_type": "code",
   "execution_count": 8,
   "metadata": {
    "collapsed": false
   },
   "outputs": [
    {
     "data": {
      "text/html": [
       "10000.0 meter/megayear"
      ],
      "text/latex": [
       "$10000.0 \\frac{meter}{megayear}$"
      ],
      "text/plain": [
       "<Quantity(10000.0, 'meter / megayear')>"
      ]
     },
     "execution_count": 8,
     "metadata": {},
     "output_type": "execute_result"
    }
   ],
   "source": [
    "u = pint.UnitRegistry()\n",
    "cmpery = 1.*u.cm/u.year\n",
    "mpermy = 1.*u.m/u.megayear\n",
    "\n",
    "cmpery.to(mpermy)"
   ]
  },
  {
   "cell_type": "markdown",
   "metadata": {},
   "source": [
    "**Set parameter dictionaries**"
   ]
  },
  {
   "cell_type": "code",
   "execution_count": null,
   "metadata": {
    "collapsed": false
   },
   "outputs": [],
   "source": []
  },
  {
   "cell_type": "code",
   "execution_count": 9,
   "metadata": {
    "collapsed": false
   },
   "outputs": [],
   "source": [
    "#dimensional parameter dictionary\n",
    "dp = edict({#'LS':2900.*1e3,\n",
    "            'LS':2000.*1e3,\n",
    "           'rho':3300,\n",
    "           'g':9.8, \n",
    "           'eta0':4e20, #Dislocation creep at 250 km, 1573 K, 1e-15 s-1 \n",
    "           'k':1e-6,\n",
    "           'a':3e-5, #surface thermal expansivity\n",
    "           'TP':1573., #potential temp\n",
    "           'TS':273., #surface temp\n",
    "           'cohesion':1e7, #\n",
    "           'fc':0.01,        #This is the value from \n",
    "           'Adf':1e-9,\n",
    "           'Ads':3.1e-17,\n",
    "           'Edf':3.35e5,\n",
    "           'Eds':4.8e5,\n",
    "           'Vdf':4e-6,\n",
    "           'Vds':11e-6,\n",
    "           'Alm':1.3e-16,\n",
    "           'Elm':2.0e5,\n",
    "           'Vlm':1.1e-6,\n",
    "           'Ba':4.3e-12,  #A value to simulate pressure increase with depth\n",
    "           'SR':1e-15,\n",
    "           'Dr':250e3, #Reference depth\n",
    "           'R':8.314,\n",
    "           'Cp':1250., #Jkg-1K-1\n",
    "           'StALS':100e3,\n",
    "           'plate_vel':8})\n",
    "\n",
    "#Adibatic heating stuff\n",
    "dp.dTa = (dp.a*dp.g*(dp.TP))/dp.Cp #adibatic gradient, at Tp\n",
    "dp.deltaTa = (dp.TP + dp.dTa*dp.LS) - dp.TS  #Adiabatic Temp at base of mantle, minus Ts\n",
    "dp.deltaT = dp.deltaTa\n",
    "\n",
    "\n",
    "#ndf = (1./dp.Adf)*np.exp( ((dp.Edf + dp.Vdf*dp.Pr))/((dp.R*dp.Tr)))\n",
    "#nds = (1./dp.Ads**(1/ndp.n))*(dp.SR**((1-ndp.n)/ndp.n))*np.exp( ((dp.Eds + dp.Vds*dp.Pr))/((ndp.n*dp.R*dp.Tr)))\n",
    "\n",
    "\n",
    "#scale_factors\n",
    "\n",
    "sf = edict({'stress':dp.LS**2/(dp.k*dp.eta0),\n",
    "            'lith_grad':dp.rho*dp.g*(dp.LS)**3/(dp.eta0*dp.k) ,\n",
    "            'vel':dp.LS/dp.k,\n",
    "            'SR':dp.LS**2/dp.k,\n",
    "            'W':(-1./dp.Ba)*(np.log(1.-dp.rho*dp.g*dp.Ba*dp.LS))/(dp.R*dp.deltaTa), #Including adiabatic compression, and deltaTa\n",
    "            'E': 1./(dp.R*dp.deltaTa), #using deltaTa, the guesstimated adiabatic temp differnnce to scale these paramters\n",
    "            #'Ads':(dp.eta0**(ndp.n-2))*((dp.k)**(ndp.n-1))*((dp.LS)**(2. - 2*ndp.n))       \n",
    "           })\n",
    "\n",
    "#dimensionless parameters\n",
    "\n",
    "\n",
    "ndp = edict({'RA':(dp.g*dp.rho*dp.a*dp.deltaT*(dp.LS)**3)/(dp.k*dp.eta0),\n",
    "            'cohesion':dp.cohesion*sf.stress,\n",
    "            'fcd':dp.fc*sf.lith_grad,\n",
    "            'gamma':dp.fc/(dp.a*dp.deltaT),\n",
    "            'Wdf':dp.Vdf*sf.W,\n",
    "            'Edf':dp.Edf*sf.E,\n",
    "            'Wds':dp.Vds*sf.W,\n",
    "            'Eds':dp.Eds*sf.E,\n",
    "            'Elm':dp.Elm*sf.E,\n",
    "           'Wlm':dp.Vlm*sf.W,\n",
    "            'TSP':0., \n",
    "            'TBP':1.,\n",
    "            'TPP':(dp.TP - dp.TS)/dp.deltaT,\n",
    "            'Dr':dp.Dr/dp.LS,\n",
    "            'n':3.5,\n",
    "            'TS':dp.TS/dp.deltaT,\n",
    "            'TP':dp.TP/dp.deltaT,\n",
    "             #'eta_crust':1e21/dp.eta0,\n",
    "             'eta_crust':0.06,\n",
    "            'eta_min':1e-3,\n",
    "            'eta_max':1e5,\n",
    "            'H':0.,\n",
    "            'Tmvp':0.6,\n",
    "             'Di': dp.a*dp.g*dp.LS/dp.Cp, #Dissipation number\n",
    "            'Steta0':1e2,\n",
    "            'plate_vel':sf.vel*dp.plate_vel*(cmpery.to(u.m/u.second)).magnitude,})\n",
    "\n",
    "\n",
    "\n",
    "\n",
    "dp.VR = (0.1*(dp.k/dp.LS)*ndp.RA**(2/3.)) #characteristic velocity from a scaling relationship\n",
    "dp.SR = dp.VR/dp.LS #characteristic strain rate\n",
    "ndp.VR = dp.VR*sf.vel #characteristic velocity\n",
    "ndp.SR = dp.SR*sf.SR #characteristic strain rate\n",
    "\n",
    "ndp.StRA = (3300.*dp.g*(dp.LS)**3)/(dp.eta0 *dp.k) #Composisitional Rayleigh number for rock-air buoyancy force\n",
    "\n",
    "\n",
    "ndp.TaP = 1. - ndp.TPP,  #Dimensionles adiabtic component of delta t"
   ]
  },
  {
   "cell_type": "code",
   "execution_count": 10,
   "metadata": {
    "collapsed": false
   },
   "outputs": [],
   "source": [
    "#ndp.RA"
   ]
  },
  {
   "cell_type": "code",
   "execution_count": 11,
   "metadata": {
    "collapsed": false
   },
   "outputs": [
    {
     "data": {
      "text/plain": [
       "(19.75229500743525,\n",
       " 28.301795831549015,\n",
       " 17.875211307509375,\n",
       " 49.15683109565078,\n",
       " 100000.0,\n",
       " 39582980.236800015)"
      ]
     },
     "execution_count": 11,
     "metadata": {},
     "output_type": "execute_result"
    }
   ],
   "source": [
    "#(dp.g*dp.rho*dp.a*dp.deltaT*(dp.LS)**3)/(dp.k*1e6)\n",
    "#sf.SR/(60*60*24*365*1e6)\n",
    "#dp.LS**2/dp.k\n",
    "#sf.SR\n",
    "ndp.Edf,  ndp.Eds, ndp.Wdf, ndp.Wds, ndp.cohesion, ndp.RA"
   ]
  },
  {
   "cell_type": "code",
   "execution_count": 12,
   "metadata": {
    "collapsed": false
   },
   "outputs": [],
   "source": [
    "#A few parameters defining lengths scales, affects materal transistions etc.\n",
    "MANTLETOCRUST = (15.*1e3)/dp.LS #Crust depth\n",
    "HARZBURGDEPTH = MANTLETOCRUST + (27.7e3/dp.LS)\n",
    "CRUSTTOMANTLE = (200.*1e3)/dp.LS\n",
    "LITHTOMANTLE = (900.*1e3)/dp.LS \n",
    "MANTLETOLITH = (200.*1e3)/dp.LS \n",
    "TOPOHEIGHT = (10.*1e3)/dp.LS  #rock-air topography limits\n",
    "CRUSTTOECL  = (100.*1e3)/dp.LS\n",
    "AVGTEMP = ndp.TPP #Used to define lithosphere\n",
    "LOWERMANTLE = (1000.*1e3)/dp.LS \n"
   ]
  },
  {
   "cell_type": "markdown",
   "metadata": {},
   "source": [
    "**Model setup parameters**"
   ]
  },
  {
   "cell_type": "code",
   "execution_count": 13,
   "metadata": {
    "collapsed": false
   },
   "outputs": [],
   "source": [
    "###########\n",
    "#Model setup parameters\n",
    "###########\n",
    "\n",
    "refineMesh = True\n",
    "stickyAir = False \n",
    "lower_mantle = False \n",
    "melt_viscosity_reduction= False\n",
    "\n",
    "\n",
    "\n",
    "\n",
    "MINX = -2.\n",
    "MINY = 0.\n",
    "MAXX = 2.\n",
    "\n",
    "#MAXY = 1.035\n",
    "MAXY = 1.\n",
    "\n",
    "if MINX == 0.:\n",
    "    squareModel = True\n",
    "else: \n",
    "    squareModel = False\n",
    "    \n",
    "    \n",
    "dim = 2          # number of spatial dimensions\n",
    "\n",
    "\n",
    "#MESH STUFF\n",
    "\n",
    "RES = 64\n",
    "\n",
    "Xres = int(RES*4)\n",
    "\n",
    "\n",
    "if stickyAir:\n",
    "    Yres = RES\n",
    "    MAXY = 1. + dp.StALS/dp.LS #150km\n",
    "    \n",
    "else:\n",
    "    Yres = RES\n",
    "    MAXY = 1.\n",
    "\n",
    "\n",
    "periodic = [True, False]\n",
    "elementType = \"Q1/dQ0\"\n",
    "#elementType =\"Q2/DPC1\"\n",
    "\n",
    "\n",
    "#System/Solver stuff\n",
    "\n",
    "PIC_integration=True\n",
    "ppc = 25\n",
    "\n",
    "#Output and safety stuff\n",
    "\n",
    "swarm_repop, swarm_update = 10, 10\n",
    "gldbs_output = 20\n",
    "checkpoint_every, files_output = 50, 50\n",
    "metric_output = 10\n",
    "sticky_air_temp = 5"
   ]
  },
  {
   "cell_type": "markdown",
   "metadata": {},
   "source": [
    "Create mesh and finite element variables\n",
    "------"
   ]
  },
  {
   "cell_type": "code",
   "execution_count": 14,
   "metadata": {
    "collapsed": false
   },
   "outputs": [],
   "source": [
    "mesh = uw.mesh.FeMesh_Cartesian( elementType = (elementType),\n",
    "                                 elementRes  = (Xres, Yres), \n",
    "                                 minCoord    = (MINX, MINY), \n",
    "                                 maxCoord    = (MAXX, MAXY), periodic=periodic)\n",
    "\n",
    "velocityField       = uw.mesh.MeshVariable( mesh=mesh,         nodeDofCount=2 )\n",
    "pressureField       = uw.mesh.MeshVariable( mesh=mesh.subMesh, nodeDofCount=1 )\n",
    "temperatureField    = uw.mesh.MeshVariable( mesh=mesh,         nodeDofCount=1 )\n",
    "temperatureDotField = uw.mesh.MeshVariable( mesh=mesh,         nodeDofCount=1 )"
   ]
  },
  {
   "cell_type": "code",
   "execution_count": 15,
   "metadata": {
    "collapsed": false
   },
   "outputs": [],
   "source": [
    "axis = 1\n",
    "orgs = np.linspace(mesh.minCoord[axis], mesh.maxCoord[axis], mesh.elementRes[axis] + 1)\n",
    "\n",
    "value_to_constrain = 1.\n",
    "\n",
    "\n",
    "yconst = [(spmesh.find_closest(orgs, value_to_constrain), np.array([value_to_constrain,0]))]"
   ]
  },
  {
   "cell_type": "code",
   "execution_count": 16,
   "metadata": {
    "collapsed": true
   },
   "outputs": [],
   "source": [
    "mesh.reset()"
   ]
  },
  {
   "cell_type": "code",
   "execution_count": 17,
   "metadata": {
    "collapsed": false
   },
   "outputs": [
    {
     "name": "stdout",
     "output_type": "stream",
     "text": [
      "Min\n",
      "(64, 0.0093765624999999995, 0.84619375000000008, 0.62499047619047554)\n",
      "('edges', 64)\n",
      "-- iteration 0 --\n",
      "| F( p_n ) |^2: 8.05648611886e-05\n",
      "| p_n+1 - p_n |^2: 0.352079185376\n",
      "-- iteration 1 --\n",
      "| F( p_n ) |^2: 3.12512226132e-31\n",
      "Min, Max element width: \n",
      "0.00938\n",
      "0.02187\n"
     ]
    }
   ],
   "source": [
    "#Y-Axis\n",
    "if refineMesh:\n",
    "    #Y-Axis\n",
    "    axis = 1\n",
    "    origcoords = np.linspace(mesh.minCoord[axis], mesh.maxCoord[axis], mesh.elementRes[axis] + 1)\n",
    "    edge_rest_lengths = np.diff(origcoords)\n",
    "\n",
    "    deform_lengths = edge_rest_lengths.copy()\n",
    "    min_point =  (mesh.maxCoord[axis])\n",
    "    el_reduction = 0.6001\n",
    "    dx = mesh.maxCoord[axis]\n",
    "\n",
    "    deform_lengths = deform_lengths - \\\n",
    "                                    ((1.-el_reduction)*deform_lengths[0]) + \\\n",
    "                                    abs((origcoords[1:] - min_point))*((0.5*deform_lengths[0])/dx)\n",
    "\n",
    "    #print(edge_rest_lengths.shape, deform_lengths.shape)\n",
    "\n",
    "    spmesh.deform_1d(deform_lengths, mesh,axis = 'y',norm = 'Min', constraints = yconst)"
   ]
  },
  {
   "cell_type": "markdown",
   "metadata": {},
   "source": [
    "Initial conditions\n",
    "-------\n"
   ]
  },
  {
   "cell_type": "code",
   "execution_count": 18,
   "metadata": {
    "collapsed": false
   },
   "outputs": [],
   "source": [
    "coordinate = fn.input()\n",
    "depthFn = 1. - coordinate[1]\n",
    "xFn = coordinate[0]"
   ]
  },
  {
   "cell_type": "code",
   "execution_count": 19,
   "metadata": {
    "collapsed": false
   },
   "outputs": [],
   "source": [
    "#Work out actual temp at 200 km\n",
    "\n",
    "potTempFn = ndp.TPP + (depthFn)*ndp.TaP\n",
    "\n",
    "abHeatFn = -1.*velocityField[1]*temperatureField*ndp.Di"
   ]
  },
  {
   "cell_type": "code",
   "execution_count": 20,
   "metadata": {
    "collapsed": false
   },
   "outputs": [],
   "source": [
    "symmetric_IC = False\n",
    "slab_IC = True\n",
    "\n",
    "\n",
    "#Sinusoidal initial condition\n",
    "A = 0.2\n",
    "sinFn = depthFn + A*(fn.math.cos( math.pi * coordinate[0])  * fn.math.sin( math.pi * coordinate[1] ))        \n",
    "\n",
    "#Initial Slab depth\n",
    "iD = 660e3/dp.LS\n",
    "\n",
    "#Boundary layer/slab initial condition\n",
    "dl =  2*math.sqrt(dp.k*160e6*3600*24*365) #diffusion Length at ... My\n",
    "w0 = dl/dp.LS\n",
    "#w0 = 0.1\n",
    "delX1 = fn.misc.min(fn.math.abs(coordinate[0] - -0.), fn.math.abs(coordinate[0] - -2.))\n",
    "delX = fn.misc.min(delX1 , fn.math.abs(coordinate[0] - 2.))\n",
    "w = w0*fn.math.sqrt(delX + 1e-7)\n",
    "#tempBL = (ndp.TIP - ndp.TSP) *fn.math.erf((depthFn)/w) + ndp.TSP\n",
    "tempBL = (potTempFn) *fn.math.erf((depthFn)/w) + ndp.TSP\n",
    "\n",
    "\n",
    "delX = fn.misc.min(fn.math.abs(coordinate[0] - - 1.) , fn.math.abs(coordinate[0] - 1.))\n",
    "#tempSlab = (ndp.TIP - ndp.TSP) *fn.math.erf((delX*2.)/w0) + ndp.TSP \n",
    "tempSlab = (potTempFn ) *fn.math.erf((delX*2.)/w0) + ndp.TSP       \n",
    "\n",
    "tempFn1 =  fn.misc.min(tempBL, tempSlab)\n",
    "blFn = fn.branching.conditional([(depthFn < iD, tempFn1), \n",
    "                                    (True, potTempFn)])\n",
    "\n",
    "tempFn = 0.2*sinFn + 0.8*blFn #partition the temp between these two functions\n",
    "\n",
    "if symmetric_IC:  \n",
    "    if not checkpointLoad:\n",
    "        temperatureField.data[:] = tempFn.evaluate(mesh)  "
   ]
  },
  {
   "cell_type": "code",
   "execution_count": 21,
   "metadata": {
    "collapsed": false
   },
   "outputs": [],
   "source": [
    "###########\n",
    "#Boundary layer / slab paramaters\n",
    "###########\n",
    "\n",
    "dl =  2*math.sqrt(dp.k*160e6*3600*24*365) #diffusion Length at ... My\n",
    "w0 = dl/dp.LS\n",
    "\n",
    "\n",
    "ageFn = (fn.math.abs(fn.math.abs(coordinate[0]) - 2.)/2.)\n",
    "\n",
    "ageFn  = fn.branching.conditional([(coordinate[0] <= 0, ageFn),\n",
    "                                  (True, ageFn/3.)])\n",
    "\n",
    "w = w0*fn.math.sqrt(ageFn + 1e-7)\n",
    "#tempBL = (ndp.TIP - ndp.TSP) *fn.math.erf((depthFn)/w) + ndp.TSP\n",
    "tempBL = (potTempFn) *fn.math.erf((depthFn)/w) + ndp.TSP\n",
    "\n",
    "if slab_IC:\n",
    "    if not checkpointLoad:\n",
    "        temperatureField.data[:] = tempBL.evaluate(mesh) \n",
    "\n"
   ]
  },
  {
   "cell_type": "code",
   "execution_count": 22,
   "metadata": {
    "collapsed": true
   },
   "outputs": [],
   "source": [
    "#Make sure material in stick air region is at the surface temperature.\n",
    "for index, coord in enumerate(mesh.data):\n",
    "            if coord[1] >= 1.:\n",
    "                temperatureField.data[index] = ndp.TSP"
   ]
  },
  {
   "cell_type": "code",
   "execution_count": 23,
   "metadata": {
    "collapsed": false
   },
   "outputs": [],
   "source": [
    "#Slab perturbation paramaters\n",
    "Roc = 550.\n",
    "theta = 89.\n",
    "subzone = 0.0\n",
    "\n",
    "def inCircleFnGenerator(centre, radius):\n",
    "    coord = fn.input()\n",
    "    offsetFn = coord - centre\n",
    "    return fn.math.dot( offsetFn, offsetFn ) < radius**2\n",
    "\n",
    "#Setup slab perturbation params (mostly dimensionles / model params here)\n",
    "phi = 90. - theta\n",
    "RocM = (Roc/dp.LS)*1e3\n",
    "CrustM = MANTLETOCRUST\n",
    "#slabdepth = lithdepthfunc(agefunc(off, off, vel), dp.k)\n",
    "#slabdepthM *= 5.\n",
    "Org = (subzone, 1.-RocM)\n",
    "#Use three circles to define our slab and crust perturbation,  \n",
    "\n",
    "Oc = inCircleFnGenerator(Org , RocM)\n",
    "Ic = inCircleFnGenerator(Org , RocM - w0)\n",
    "Cc = inCircleFnGenerator(Org , RocM + 2.*CrustM) #Twice as wide as ordinary crust, weak zone on 'outside' of slab\n",
    "dx = (RocM)/(np.math.tan((np.math.pi/180.)*phi))\n",
    "\n",
    "\n",
    "#Work our which way the slab should face:\n",
    "sense = 'Right'\n",
    "#if lith.agefunc(subzone + 0.0001) < lith.agefunc(subzone - 0.0001):\n",
    "#    sense = 'Right'\n",
    "\n",
    "#We'll also create a triangle which will truncate the circles defining the slab...\n",
    "if sense == 'Left': \n",
    "    ptx = subzone - dx\n",
    "else:\n",
    "    ptx = subzone + dx\n",
    "\n",
    "coords = ((0.+subzone, 1), (0.+subzone, 1.-RocM), (ptx, 1.))\n",
    "Tri = fn.shape.Polygon(np.array(coords))"
   ]
  },
  {
   "cell_type": "code",
   "execution_count": null,
   "metadata": {
    "collapsed": false
   },
   "outputs": [],
   "source": []
  },
  {
   "cell_type": "code",
   "execution_count": 24,
   "metadata": {
    "collapsed": false
   },
   "outputs": [],
   "source": [
    "if slab_IC:\n",
    "    if not checkpointLoad:\n",
    "        sdFn = ((RocM - fn.math.sqrt((coordinate[0] - Org[0])**2. + (coordinate[1] - Org[1])**2.))) \n",
    "        slabFn = ndp.TPP*fn.math.erf((sdFn)/w0)\n",
    "\n",
    "        for index, coord in enumerate(mesh.data):\n",
    "            #if Oc.evaluate(tuple(coord)) and Tri.evaluate(tuple(coord)) and not Ic.evaluate(tuple(coord)): #in inner circle, not in outer circle\n",
    "            if (\n",
    "                Oc.evaluate(tuple(coord)) and\n",
    "                Tri.evaluate(tuple(coord)) and not\n",
    "                Ic.evaluate(tuple(coord)) and\n",
    "                coord[1] > (1. - (250.e3/dp.LS)) \n",
    "                ): #In the quarter-circle defining the lithosphere\n",
    "                temperatureField.data[index] = slabFn.evaluate(mesh)[index]"
   ]
  },
  {
   "cell_type": "code",
   "execution_count": 25,
   "metadata": {
    "collapsed": false,
    "scrolled": true
   },
   "outputs": [],
   "source": [
    "fig= glucifer.Figure()\n",
    "fig.append( glucifer.objects.Surface(mesh, temperatureField))\n",
    "#fig.show()"
   ]
  },
  {
   "cell_type": "code",
   "execution_count": null,
   "metadata": {
    "collapsed": false
   },
   "outputs": [],
   "source": []
  },
  {
   "cell_type": "markdown",
   "metadata": {},
   "source": [
    "**Boundary conditions**"
   ]
  },
  {
   "cell_type": "code",
   "execution_count": 26,
   "metadata": {
    "collapsed": false
   },
   "outputs": [],
   "source": [
    "for index in mesh.specialSets[\"MinJ_VertexSet\"]:\n",
    "    temperatureField.data[index] = ndp.TBP\n",
    "for index in mesh.specialSets[\"MaxJ_VertexSet\"]:\n",
    "    temperatureField.data[index] = ndp.TSP\n",
    "    \n",
    "iWalls = mesh.specialSets[\"MinI_VertexSet\"] + mesh.specialSets[\"MaxI_VertexSet\"]\n",
    "jWalls = mesh.specialSets[\"MinJ_VertexSet\"] + mesh.specialSets[\"MaxJ_VertexSet\"]\n",
    "tWalls = mesh.specialSets[\"MaxJ_VertexSet\"]\n",
    "bWalls =mesh.specialSets[\"MinJ_VertexSet\"]\n",
    "\n",
    "VelBCs = mesh.specialSets[\"Empty\"]\n",
    "for index in list(tWalls.data):\n",
    "    if (mesh.data[int(index)][0] < (subzone - 0.2) and mesh.data[int(index)][0] > -2 + 0.2): #Only push with a portion of teh overiding plate\n",
    "        VelBCs.add(int(index))\n",
    "        #Set the plate velocities for the kinematic phase\n",
    "        velocityField.data[index] = [ndp.plate_vel, 0.]\n",
    "        \n",
    "\n",
    "#If periodic, we'll fix a the x-vel at a single node - at the bottom left (index 0)\n",
    "Fixed = mesh.specialSets[\"Empty\"]\n",
    "Fixed.add(int(0))        \n",
    "        \n",
    "\n",
    "freeslipBC = uw.conditions.DirichletCondition( variable      = velocityField, \n",
    "                                               indexSetsPerDof = ( iWalls + VelBCs, jWalls) )\n",
    "\n",
    "\n",
    "\n",
    "\n",
    "\n",
    "\n",
    "if periodic[0] == True:\n",
    "    freeslipBC = uw.conditions.DirichletCondition( variable      = velocityField, \n",
    "                                               indexSetsPerDof = ( Fixed + VelBCs , jWalls) )\n",
    "    \n",
    "    \n",
    "    \n",
    "# also set dirichlet for temp field\n",
    "dirichTempBC = uw.conditions.DirichletCondition(     variable=temperatureField, \n",
    "                                              indexSetsPerDof=(tWalls,) )\n",
    "dT_dy = [0.,0.]\n",
    "\n",
    "# also set dirichlet for temp field\n",
    "neumannTempBC = uw.conditions.NeumannCondition( dT_dy, variable=temperatureField, \n",
    "                                         nodeIndexSet=bWalls)\n",
    "\n"
   ]
  },
  {
   "cell_type": "markdown",
   "metadata": {},
   "source": [
    "Particles\n",
    "-----\n"
   ]
  },
  {
   "cell_type": "code",
   "execution_count": 27,
   "metadata": {
    "collapsed": false
   },
   "outputs": [],
   "source": [
    "###########\n",
    "#Material Swarm and variables\n",
    "###########\n",
    "\n",
    "\n",
    "gSwarm = uw.swarm.Swarm(mesh=mesh, particleEscape=True)\n",
    "\n",
    "yieldingCheck = gSwarm.add_variable( dataType=\"int\", count=1 )\n",
    "tracerVariable = gSwarm.add_variable( dataType=\"int\", count=1)\n",
    "materialVariable = gSwarm.add_variable( dataType=\"int\", count=1 )\n",
    "ageVariable = gSwarm.add_variable( dataType=\"float\", count=1 )\n",
    "\n",
    "\n"
   ]
  },
  {
   "cell_type": "code",
   "execution_count": 28,
   "metadata": {
    "collapsed": false
   },
   "outputs": [],
   "source": [
    "varlist = [tracerVariable, tracerVariable, yieldingCheck]\n",
    "\n",
    "varlist = [materialVariable, yieldingCheck, ageVariable]\n",
    "varnames = ['materialVariable', 'yieldingCheck', 'ageVariable']"
   ]
  },
  {
   "cell_type": "code",
   "execution_count": 29,
   "metadata": {
    "collapsed": false
   },
   "outputs": [],
   "source": [
    "mantleIndex = 0\n",
    "lithosphereIndex = 1\n",
    "crustIndex = 2\n",
    "harzIndex = 3\n",
    "airIndex = 4\n",
    "\n",
    "\n",
    "\n",
    "if checkpointLoad:\n",
    "    checkpointLoadDir = natsort.natsort(checkdirs)[-1]\n",
    "    temperatureField.load(os.path.join(checkpointLoadDir, \"temperatureField\" + \".hdf5\"))\n",
    "    pressureField.load(os.path.join(checkpointLoadDir, \"pressureField\" + \".hdf5\"))\n",
    "    velocityField.load(os.path.join(checkpointLoadDir, \"velocityField\" + \".hdf5\"))\n",
    "    gSwarm.load(os.path.join(checkpointLoadDir, \"swarm\" + \".h5\"))\n",
    "    for ix in range(len(varlist)):\n",
    "        varb = varlist[ix]\n",
    "        varb.load(os.path.join(checkpointLoadDir,varnames[ix] + \".h5\"))\n",
    "\n",
    "else:\n",
    "\n",
    "    # Layouts are used to populate the swarm across the whole domain\n",
    "    # Create the layout object\n",
    "    layout = uw.swarm.layouts.PerCellRandomLayout(swarm=gSwarm, particlesPerCell=ppc)\n",
    "    # Now use it to populate.\n",
    "    gSwarm.populate_using_layout( layout=layout )\n",
    "\n",
    "    # Swarm variables\n",
    "    materialVariable.data[:] = mantleIndex\n",
    "    tracerVariable.data[:] = 1\n",
    "    yieldingCheck.data[:] = 0\n",
    "    ageVariable.data[:] = -1\n",
    "\n",
    "    \n",
    "    #Set initial air and crust materials (allow the graph to take care of lithsophere)\n",
    "    #########\n",
    "    #This initial material setup will be model dependent\n",
    "    #########\n",
    "    for particleID in range(gSwarm.particleCoordinates.data.shape[0]):\n",
    "        if (1. - gSwarm.particleCoordinates.data[particleID][1]) < MANTLETOCRUST:\n",
    "                 materialVariable.data[particleID] = crustIndex"
   ]
  },
  {
   "cell_type": "markdown",
   "metadata": {
    "collapsed": true
   },
   "source": [
    "**Passive tracer layout**"
   ]
  },
  {
   "cell_type": "code",
   "execution_count": 30,
   "metadata": {
    "collapsed": false
   },
   "outputs": [],
   "source": [
    "#Passive tracers are not included in checkpoint - Probably best to remove this once models are properly bugchecked\n",
    "\n",
    "square_size = 0.1\n",
    "\n",
    "xlist = np.arange(mesh.minCoord[0] + square_size/2., mesh.maxCoord[0] + square_size/2., square_size)\n",
    "xlist = zip(xlist[:], xlist[1:])[::2]\n",
    "ylist = np.arange(mesh.minCoord[1] + square_size/2., mesh.maxCoord[1] + square_size/2., square_size)\n",
    "ylist = zip(ylist[:], ylist[1:])[::2]\n",
    "xops = []\n",
    "for vals in xlist:\n",
    "    xops.append( (operator.and_(   operator.gt(coordinate[0],vals[0]),   operator.lt(coordinate[0],vals[1])  ),0.) )\n",
    "xops.append((True,1.))\n",
    "\n",
    "testfunc = fn.branching.conditional(xops) \n",
    "\n",
    "yops = []\n",
    "for vals in ylist:\n",
    "    yops.append( (operator.and_(   operator.gt(coordinate[1],vals[0]),   operator.lt(coordinate[1],vals[1])  ),0.) )\n",
    "yops.append((True,testfunc))\n",
    "\n",
    "testfunc2 = fn.branching.conditional(yops) \n",
    "\n",
    "tracerVariable.data[:] = testfunc.evaluate(gSwarm)\n",
    "tracerVariable.data[:] = testfunc2.evaluate(gSwarm)"
   ]
  },
  {
   "cell_type": "markdown",
   "metadata": {
    "collapsed": false
   },
   "source": [
    "**Material swarm and graphs**"
   ]
  },
  {
   "cell_type": "code",
   "execution_count": 31,
   "metadata": {
    "collapsed": false
   },
   "outputs": [],
   "source": [
    "\n",
    "##############\n",
    "#Important: This is a quick fix for a bug that arises in parallel runs\n",
    "##############\n",
    "material_list = [0,1,2,3]"
   ]
  },
  {
   "cell_type": "code",
   "execution_count": 32,
   "metadata": {
    "collapsed": false
   },
   "outputs": [],
   "source": [
    "#All depth conditions are given as (km/D) where D is the length scale,\n",
    "#note that 'model depths' are used, e.g. 1-z, where z is the vertical Underworld coordinate\n",
    "#All temp conditions are in dimensionless temp. [0. - 1.]\n",
    "\n",
    "\n",
    "if not checkpointLoad:\n",
    "    materialVariable.data[:] = 0\n",
    "\n",
    "#######Graph object\n",
    "#DG = nx.DiGraph(field=\"Depth\")\n",
    "DG = material_graph.MatGraph()\n",
    "\n",
    "#Important: First thing to do is to add all the material types to the graph (i.e add nodes)\n",
    "DG.add_nodes_from(material_list)\n",
    "\n",
    "\n",
    "#Anything to mantle\n",
    "DG.add_transition((crustIndex,mantleIndex), depthFn, operator.gt, CRUSTTOMANTLE)\n",
    "#DG.add_transition((airIndex,mantleIndex), depthFn, operator.gt, TOPOHEIGHT)\n",
    "#DG.add_transition((lowermantleIndex, mantleIndex), depthFn, operator.lt, LOWERMANTLE)\n",
    "\n",
    "\n",
    "\n",
    "#Anything to lower mantle\n",
    "#DG.add_transition((mantleIndex, lowermantleIndex), depthFn, operator.gt, LOWERMANTLE)\n",
    "\n",
    "\n",
    "\n",
    "\n",
    "#Anything to crust\n",
    "DG.add_transition((mantleIndex,crustIndex), depthFn, operator.lt, MANTLETOCRUST)\n",
    "#DG.add_transition((mantleIndex,crustIndex), depthFn, operator.gt, HARZBURGDEPTH)\n",
    "DG.add_transition((mantleIndex,crustIndex), xFn, operator.lt, 0.) #No crust on the upper plate\n",
    "\n",
    "\n",
    "#Anything to Harzbugite\n",
    "DG.add_transition((mantleIndex,harzIndex), depthFn, operator.lt, HARZBURGDEPTH)\n",
    "DG.add_transition((mantleIndex,harzIndex), depthFn, operator.gt, MANTLETOCRUST)\n",
    "\n",
    "#DG.add_transition((mantleIndex,crustIndex), xFn, operator.lt, 0.) #No crust on the upper plate\n",
    "\n",
    "\n",
    "#Anything to air\n",
    "DG.add_transition((mantleIndex,airIndex), depthFn, operator.lt,0. - TOPOHEIGHT)\n",
    "DG.add_transition((crustIndex,airIndex), depthFn, operator.lt, 0. - TOPOHEIGHT)\n",
    "\n",
    "#Anything to lithsphere\n",
    "#DG.add_transition((mantleIndex,lithosphereIndex), depthFn, operator.lt, MANTLETOLITH)\n",
    "#DG.add_transition((mantleIndex,lithosphereIndex), temperatureField, operator.lt, 0.85*AVGTEMP)\n",
    "\n",
    "\n",
    "#crust to eclogite\n",
    "#DG.add_edges_from([(3,2)])\n",
    "#DG[3][2]['depthcondition'] =CRUSTTOECL\n",
    "#DG.add_transition((3,2), depthFn, operator.gt, CRUSTTOECL)"
   ]
  },
  {
   "cell_type": "code",
   "execution_count": 33,
   "metadata": {
    "collapsed": false
   },
   "outputs": [],
   "source": [
    "#DG.add_transition?"
   ]
  },
  {
   "cell_type": "code",
   "execution_count": 34,
   "metadata": {
    "collapsed": true
   },
   "outputs": [],
   "source": [
    "#Add crustal weak zone and the intersection of three shapes\n",
    "if checkpointLoad != True:\n",
    "    for particleID in range(gSwarm.particleCoordinates.data.shape[0]):\n",
    "        if (\n",
    "            Cc.evaluate(list(gSwarm.particleCoordinates.data[particleID])) and\n",
    "            Tri.evaluate(list(gSwarm.particleCoordinates.data[particleID])) and\n",
    "            Oc.evaluate(list(gSwarm.particleCoordinates.data[particleID])) == False\n",
    "            ):\n",
    "            materialVariable.data[particleID] = crustIndex"
   ]
  },
  {
   "cell_type": "code",
   "execution_count": 35,
   "metadata": {
    "collapsed": false
   },
   "outputs": [],
   "source": [
    "DG.build_condition_list(materialVariable)\n",
    "for i in range(2): #Need to go through twice first time through\n",
    "    materialVariable.data[:] = fn.branching.conditional(DG.condition_list).evaluate(gSwarm)"
   ]
  },
  {
   "cell_type": "code",
   "execution_count": null,
   "metadata": {
    "collapsed": false
   },
   "outputs": [],
   "source": []
  },
  {
   "cell_type": "code",
   "execution_count": 36,
   "metadata": {
    "collapsed": false
   },
   "outputs": [],
   "source": [
    "fig= glucifer.Figure()\n",
    "#fig.append( glucifer.objects.Points(gSwarm,tracerVariable, colours= 'white black'))\n",
    "fig.append( glucifer.objects.Points(gSwarm,materialVariable))\n",
    "#fig.append( glucifer.objects.Surface(mesh, dummyField))\n",
    "#fig.show()\n",
    "#fig.save_database('test.gldb')"
   ]
  },
  {
   "cell_type": "markdown",
   "metadata": {},
   "source": [
    "Set up material parameters and functions\n",
    "-----\n",
    "\n",
    "Setup the viscosity to be a function of the temperature. Recall that these functions and values are preserved for the entire simulation time. "
   ]
  },
  {
   "cell_type": "code",
   "execution_count": 37,
   "metadata": {
    "collapsed": false
   },
   "outputs": [],
   "source": [
    "# The yeilding of the upper slab is dependent on the strain rate.\n",
    "strainRate_2ndInvariant = fn.tensor.second_invariant( \n",
    "                            fn.tensor.symmetric( \n",
    "                            velocityField.fn_gradient ))\n",
    "\n",
    "gamma = dp.fc/(dp.a*dp.deltaT)"
   ]
  },
  {
   "cell_type": "code",
   "execution_count": 38,
   "metadata": {
    "collapsed": false
   },
   "outputs": [
    {
     "data": {
      "text/plain": [
       "(49.15683109565078, 17.875211307509375, 28.301795831549015, 19.75229500743525)"
      ]
     },
     "execution_count": 38,
     "metadata": {},
     "output_type": "execute_result"
    }
   ],
   "source": [
    "ndp.Wds, ndp.Wdf, ndp.Eds, ndp.Edf"
   ]
  },
  {
   "cell_type": "code",
   "execution_count": 39,
   "metadata": {
    "collapsed": false
   },
   "outputs": [],
   "source": [
    "ViscReduce = 0.5\n",
    "\n",
    "ndp.Wds *= ViscReduce\n",
    "ndp.Wdf *= ViscReduce\n",
    "ndp.Eds *= ViscReduce\n",
    "ndp.Edf *= ViscReduce"
   ]
  },
  {
   "cell_type": "code",
   "execution_count": 40,
   "metadata": {
    "collapsed": false
   },
   "outputs": [
    {
     "data": {
      "text/plain": [
       "(8.9376056537546873, 9.876147503717625, 100000.0)"
      ]
     },
     "execution_count": 40,
     "metadata": {},
     "output_type": "execute_result"
    }
   ],
   "source": [
    "ndp.Wdf, ndp.Edf,ndp.eta_max"
   ]
  },
  {
   "cell_type": "code",
   "execution_count": 80,
   "metadata": {
    "collapsed": false
   },
   "outputs": [],
   "source": [
    "############\n",
    "#Rheology\n",
    "#############\n",
    "#\n",
    "#The final mantle rheology is composed as follows*:\n",
    "# \n",
    "#\n",
    "# mantleviscosityFn = max{  min{(1/omega*Visc + 1/eta_p)**-1,\n",
    "#                           eta_max},\n",
    "#                           eta_min}\n",
    "#                      \n",
    "#Visc => min{diffusionCreep, dislocationCreep, }\n",
    "#eta_p   => stress-limiting effective viscosity\n",
    "#\n",
    "\n",
    "\n",
    "omega = fn.misc.constant(1.)\n",
    "\n",
    "if melt_viscosity_reduction:\n",
    "    mvr =  fn.branching.conditional( [ (temperatureField > (ndp.Tmvp + 7.5*(1. - coordinate[1])) , 0.1 ),   (         True, 1.) ] )\n",
    "    omega = omega*mvr\n",
    "\n",
    "\n",
    "#implementation of the lower mantle viscosity increase, similar to Bello et al. 2015\n",
    "a = 1.\n",
    "B = 30.\n",
    "d0 = 660e3/dp.LS  \n",
    "ds = d0/10.\n",
    "if lower_mantle:\n",
    "    inner1 = 1. - 0.5*(1. - fn.math.tanh(((1. - d0)-(coordinate[1]))/(ds)))\n",
    "    modfac = a*fn.math.exp(np.log(B)*inner1)\n",
    "    omega = omega*modfac\n",
    "\n",
    "\n",
    "\n",
    "##Diffusion Creep\n",
    "ndfp = fn.misc.min(ndp.eta_max, fn.math.exp( ((ndp.Edf + (depthFn*ndp.Wdf))/((temperatureField + ndp.TS))) - \n",
    "              ((ndp.Edf + (ndp.Dr*ndp.Wdf))/((ndp.TPP + ndp.TS)))  ))\n",
    "\n",
    "\n",
    "\n",
    "##Dislocation creep Creep\n",
    "nl_correction = (strainRate_2ndInvariant/ndp.SR)**((1.-ndp.n)/(ndp.n))\n",
    "\n",
    "\n",
    "ndsp = fn.misc.min(ndp.eta_max,(nl_correction)*fn.math.exp( ((ndp.Eds + (depthFn*ndp.Wds))/(ndp.n*(temperatureField + ndp.TS))) -\n",
    "                                     ((ndp.Eds + (ndp.Dr*ndp.Wds))/(ndp.n*(ndp.TPP + ndp.TS)))))\n",
    "\n",
    "\n",
    "Visc = fn.misc.max(fn.misc.min(ndp.eta_max, fn.misc.min(ndfp, ndsp)), ndp.eta_min)\n",
    "\n",
    "ys =  ndp.cohesion + (depthFn*gamma*ndp.RA) #In this case we'll use a valid cohesion\n",
    "yielding = ys/(strainRate_2ndInvariant/math.sqrt(0.5)) #extra factor to account for underworld second invariant form\n",
    "\n",
    "\n",
    "linearVisc = fn.misc.min(ndp.eta_max, ndfp)\n",
    "\n",
    "#mantleviscosityFn = fn.misc.max(fn.misc.min(1./(((1./Visc) + (1./yielding))), ndp.eta_max), ndp.eta_min)\n",
    "\n",
    "mantleviscosityFn = fn.misc.max(fn.misc.min(fn.misc.min(Visc, yielding), ndp.eta_max), ndp.eta_min)\n",
    "\n",
    "\n",
    "#fn.misc.min(Visc, yielding)\n",
    "\n",
    "#lower mantle rheology\n",
    "\n",
    "#ndflm = fn.misc.min(ndp.eta_max, fn.math.exp( ((ndp.Elm + (depthFn*ndp.Wlm))/((temperatureField + ndp.TS))) - \n",
    "#              ((ndp.Elm + (ndp.Dr*ndp.Wlm))/((ndp.TPP + ndp.TS)))  ))\n",
    "\n",
    "#I ignored Cizkova's lower mantle diffusion creep parameters, \n",
    "#as they appeared to give lower values that the upper mantle rheology, i.e a visc. decrease at 660.\n",
    "#lm_increase = 1.\n",
    "#lowermantleviscosityFn = fn.misc.max(lm_increase*ndfp, ndp.eta_min)\n",
    "\n",
    "\n",
    "##Crust rheology\n",
    "reduceFac = 0.1\n",
    "ysc =  reduceFac*ndp.cohesion + reduceFac*(depthFn*gamma*ndp.RA) #In this case we'll use a valid cohesion\n",
    "crust_yielding = ysc/(strainRate_2ndInvariant/math.sqrt(0.5)) #extra factor to account for underworld second invariant form\n",
    "crustviscosityFn = fn.misc.max(fn.misc.min(1./(((1./Visc) + (1./crust_yielding))), ndp.eta_max), ndp.eta_min)\n"
   ]
  },
  {
   "cell_type": "code",
   "execution_count": null,
   "metadata": {
    "collapsed": true
   },
   "outputs": [],
   "source": []
  },
  {
   "cell_type": "markdown",
   "metadata": {},
   "source": [
    "import matplotlib.pylab as pyplt\n",
    "%matplotlib inline\n",
    "\n",
    "\n",
    "\n",
    "##################\n",
    "#Output functions to numpy vertical averages, maxes, mins\n",
    "##################\n",
    "\n",
    "viscmapFnmesh = uw.mesh.MeshVariable(mesh,nodeDofCount=1)\n",
    "out = uw.utils.MeshVariable_Projection( viscmapFnmesh, viscosityMapFn)\n",
    "out.solve()\n",
    "\n",
    "\n",
    "#avDf = ndfp.evaluate(mesh).reshape(mesh.elementRes[1] + 1, mesh.elementRes[0] + 1).mean(axis=1)\n",
    "avDs = ndsp.evaluate(mesh).reshape(mesh.elementRes[1] + 1, mesh.elementRes[0] + 1).mean(axis=1)\n",
    "umantle = mantleviscosityFn.evaluate(mesh).reshape(mesh.elementRes[1] + 1, mesh.elementRes[0] + 1).mean(axis=1)\n",
    "lmantle = lowermantleviscosityFn.evaluate(mesh).reshape(mesh.elementRes[1] + 1, mesh.elementRes[0] + 1).mean(axis=1)\n",
    "eff = viscmapFnmesh.evaluate(mesh).reshape(mesh.elementRes[1] + 1, mesh.elementRes[0] + 1).mean(axis=1)\n",
    "\n",
    "effMin = viscmapFnmesh.evaluate(mesh).reshape(mesh.elementRes[1] + 1, mesh.elementRes[0] + 1).min(axis=1)\n",
    "effMax = viscmapFnmesh.evaluate(mesh).reshape(mesh.elementRes[1] + 1, mesh.elementRes[0] + 1).max(axis=1)\n",
    "\n",
    "###################\n",
    "#Plot\n",
    "###################\n",
    "import matplotlib.pylab as pyplt\n",
    "%matplotlib inline\n",
    "\n",
    "fig, ax = pyplt.subplots()\n",
    "#ax .plot(avDf, label = 'diff')\n",
    "#ax .plot(avDs, label = 'dis')\n",
    "ax .plot(eff, label = 'eff')\n",
    "ax .plot(effMax, label = 'effMax')\n",
    "ax .plot(effMin, label = 'effMin')\n",
    "#ax .plot(umantle, label = 'uman')\n",
    "#ax .plot(lmantle, label = 'lman')\n",
    "ax.set_yscale(\"log\", nonposy='clip')\n",
    "ax.legend(loc = 3)"
   ]
  },
  {
   "cell_type": "code",
   "execution_count": 81,
   "metadata": {
    "collapsed": false
   },
   "outputs": [
    {
     "data": {
      "text/html": [
       "<img src='data:image/png;base64,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'>"
      ],
      "text/plain": [
       "<IPython.core.display.HTML object>"
      ]
     },
     "metadata": {},
     "output_type": "display_data"
    }
   ],
   "source": [
    "fig= glucifer.Figure()\n",
    "#fig.append( glucifer.objects.Points(gSwarm,tracerVariable, colours= 'white black'))\n",
    "#fig.append( glucifer.objects.Points(gSwarm,viscosityMapFn, logScale=True))\n",
    "fig.append( glucifer.objects.Surface(mesh, Visc - mantleviscosityFn))\n",
    "\n",
    "#fig.append( glucifer.objects.Surface(mesh,ndflm, logScale=True))\n",
    "fig.show()\n",
    "#fig.save_database('test.gldb')"
   ]
  },
  {
   "cell_type": "code",
   "execution_count": 43,
   "metadata": {
    "collapsed": false
   },
   "outputs": [],
   "source": [
    "#fig.save_database('test.gldb')"
   ]
  },
  {
   "cell_type": "code",
   "execution_count": 44,
   "metadata": {
    "collapsed": false
   },
   "outputs": [],
   "source": [
    "fig= glucifer.Figure()\n",
    "#fig.append( glucifer.objects.Points(gSwarm,tracerVariable, colours= 'white black'))\n",
    "#fig.append( glucifer.objects.Points(gSwarm,materialVariable))\n",
    "#fig.append( glucifer.objects.Surface(mesh, ndfp/ndsp , logScale=True))\n",
    "\n",
    "fig.append( glucifer.objects.Surface(mesh, strainRate_2ndInvariant/ndp.SR))\n",
    "#fig.show()\n",
    "#fig.save_database('test.gldb')"
   ]
  },
  {
   "cell_type": "markdown",
   "metadata": {},
   "source": [
    "System setup\n",
    "-----\n",
    "\n",
    "Since we are using a previously constructed temperature field, we will use a single Stokes solve to get consistent velocity and pressure fields.\n",
    "\n",
    "**Setup a Stokes system**"
   ]
  },
  {
   "cell_type": "code",
   "execution_count": 45,
   "metadata": {
    "collapsed": false
   },
   "outputs": [],
   "source": [
    "#this accounts for the decreas in expansivity\n",
    "alphaRatio = 1.2/3\n",
    "taFn = 1. - (1. - depthFn)*(1. - alphaRatio) \n",
    "raylieghFn = ndp.RA*temperatureField*taFn \n",
    "\n",
    "\n",
    "# Here we set a viscosity value of '1.' for both materials\n",
    "viscosityMapFn = fn.branching.map( fn_key = materialVariable,\n",
    "                         mapping = {lithosphereIndex:mantleviscosityFn, \n",
    "                                    crustIndex:ndp.eta_crust,\n",
    "                                    mantleIndex:mantleviscosityFn,\n",
    "                                    harzIndex:mantleviscosityFn,\n",
    "                                    \n",
    "                                    airIndex:ndp.Steta0} )\n",
    "\n",
    "densityMapFn = fn.branching.map( fn_key = materialVariable,\n",
    "                         mapping = {airIndex:ndp.StRA, \n",
    "                                    lithosphereIndex:raylieghFn, \n",
    "                                    crustIndex:raylieghFn, \n",
    "                                    mantleIndex:raylieghFn,\n",
    "                                    harzIndex:raylieghFn} )"
   ]
  },
  {
   "cell_type": "code",
   "execution_count": 46,
   "metadata": {
    "collapsed": false
   },
   "outputs": [],
   "source": [
    "\n",
    "# Define our vertical unit vector using a python tuple (this will be automatically converted to a function).\n",
    "gravity = ( 0.0, 1.0 )\n",
    "\n",
    "# Now create a buoyancy force vector using the density and the vertical unit vector. \n",
    "buoyancyFn = densityMapFn * gravity"
   ]
  },
  {
   "cell_type": "code",
   "execution_count": 47,
   "metadata": {
    "collapsed": false
   },
   "outputs": [],
   "source": [
    "stokesPIC = uw.systems.Stokes(velocityField=velocityField, \n",
    "                              pressureField=pressureField,\n",
    "                              conditions=[freeslipBC,],\n",
    "                              fn_viscosity=linearVisc, \n",
    "                              fn_bodyforce=buoyancyFn )"
   ]
  },
  {
   "cell_type": "markdown",
   "metadata": {},
   "source": [
    "**Set up and solve the Stokes system**"
   ]
  },
  {
   "cell_type": "code",
   "execution_count": 48,
   "metadata": {
    "collapsed": false
   },
   "outputs": [],
   "source": [
    "solver = uw.systems.Solver(stokesPIC)\n",
    "if not checkpointLoad:\n",
    "    solver.solve() #A solve on the linear visocisty is unhelpful unless we're starting from scratch"
   ]
  },
  {
   "cell_type": "markdown",
   "metadata": {},
   "source": [
    "**Add the non-linear viscosity to the Stokes system**\n"
   ]
  },
  {
   "cell_type": "code",
   "execution_count": 52,
   "metadata": {
    "collapsed": true
   },
   "outputs": [],
   "source": [
    "stokesPIC.fn_viscosity = viscosityMapFn"
   ]
  },
  {
   "cell_type": "code",
   "execution_count": 53,
   "metadata": {
    "collapsed": false
   },
   "outputs": [
    {
     "name": "stdout",
     "output_type": "stream",
     "text": [
      "\u001b[1;35m\n",
      " \n",
      "Pressure iterations:   5\n",
      "Velocity iterations:   1 (presolve)      \n",
      "Velocity iterations:  -1 (pressure solve)\n",
      "Velocity iterations:   1 (backsolve)     \n",
      "Velocity iterations:   1 (total solve)   \n",
      " \n",
      "SCR RHS  solve time: 5.4307e-01\n",
      "Pressure solve time: 5.6003e-02\n",
      "Velocity solve time: 5.1274e-01 (backsolve)\n",
      "Total solve time   : 1.2035e+00\n",
      " \n",
      "Velocity solution min/max: 0.0000e+00/0.0000e+00\n",
      "Pressure solution min/max: 0.0000e+00/0.0000e+00\n",
      " \n",
      "\u001b[00m\n"
     ]
    }
   ],
   "source": [
    "solver.set_inner_method(\"mumps\")\n",
    "solver.options.scr.ksp_type=\"cg\"\n",
    "solver.set_penalty(1.0e7)\n",
    "solver.options.scr.ksp_rtol = 1.0e-4\n",
    "solver.solve(nonLinearIterate=True)\n",
    "solver.print_stats()"
   ]
  },
  {
   "cell_type": "code",
   "execution_count": 82,
   "metadata": {
    "collapsed": false
   },
   "outputs": [],
   "source": [
    "yieldingCheck.data[:] = 0"
   ]
  },
  {
   "cell_type": "code",
   "execution_count": null,
   "metadata": {
    "collapsed": true
   },
   "outputs": [],
   "source": []
  },
  {
   "cell_type": "code",
   "execution_count": 83,
   "metadata": {
    "collapsed": false
   },
   "outputs": [],
   "source": [
    "#Check which particles are yielding\n",
    "\n",
    "yieldconditions = [ ( mantleviscosityFn < Visc , 1), \n",
    "               ( True                                           , 0) ]\n",
    "\n",
    "# use the branching conditional function to set each particle's index\n",
    "yieldingCheck.data[:] = fn.branching.conditional( yieldconditions ).evaluate(gSwarm)"
   ]
  },
  {
   "cell_type": "code",
   "execution_count": 84,
   "metadata": {
    "collapsed": false,
    "scrolled": true
   },
   "outputs": [
    {
     "data": {
      "text/html": [
       "<img src='data:image/png;base64,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'>"
      ],
      "text/plain": [
       "<IPython.core.display.HTML object>"
      ]
     },
     "metadata": {},
     "output_type": "display_data"
    }
   ],
   "source": [
    "fig= glucifer.Figure()\n",
    "fig.append( glucifer.objects.Points(gSwarm,yieldingCheck))\n",
    "\n",
    "#fig.append( glucifer.objects.Surface(mesh,ndflm, logScale=True))\n",
    "fig.show()"
   ]
  },
  {
   "cell_type": "markdown",
   "metadata": {},
   "source": [
    "**Create an advective diffusive system**"
   ]
  },
  {
   "cell_type": "code",
   "execution_count": null,
   "metadata": {
    "collapsed": true
   },
   "outputs": [],
   "source": [
    "advDiff = uw.systems.AdvectionDiffusion( phiField       = temperatureField, \n",
    "                                         phiDotField    = temperatureDotField, \n",
    "                                         velocityField  = velocityField,\n",
    "                                         fn_sourceTerm    = 0.0,\n",
    "                                         fn_diffusivity = 1.0, \n",
    "                                         #conditions     = [neumannTempBC, dirichTempBC] )\n",
    "                                         conditions     = [ dirichTempBC] )\n",
    "\n",
    "passiveadvector = uw.systems.SwarmAdvector( swarm         = gSwarm, \n",
    "                                     velocityField = velocityField, \n",
    "                                     order         = 1)"
   ]
  },
  {
   "cell_type": "code",
   "execution_count": null,
   "metadata": {
    "collapsed": true
   },
   "outputs": [],
   "source": [
    "population_control = uw.swarm.PopulationControl(gSwarm,deleteThreshold=0.2,splitThreshold=1.,maxDeletions=3,maxSplits=0, aggressive=True, particlesPerCell=ppc)"
   ]
  },
  {
   "cell_type": "markdown",
   "metadata": {},
   "source": [
    "Analysis tools\n",
    "-----"
   ]
  },
  {
   "cell_type": "code",
   "execution_count": null,
   "metadata": {
    "collapsed": true
   },
   "outputs": [],
   "source": [
    "#These are functions we can use to evuate integrals over restricted parts of the domain\n",
    "# For instance, we can exclude the thermal lithosphere from integrals\n",
    "\n",
    "def temprestrictionFn(lithval = 0.9):\n",
    "\n",
    "    tempMM = fn.view.min_max(temperatureField)\n",
    "    tempMM.evaluate(mesh)\n",
    "    TMAX = tempMM.max_global()\n",
    "    mantleconditions = [ (                                  temperatureField > lithval*TMAX, 1.),\n",
    "                   (                                                   True , 0.) ]\n",
    "\n",
    "\n",
    "    return fn.branching.conditional(mantleconditions)\n",
    "\n",
    "mantlerestrictFn = temprestrictionFn(lithval = 0.85)\n",
    "\n",
    "\n",
    "\n",
    "def platenessFn(val = 0.1):\n",
    "    normgradV = fn.math.abs(velocityField.fn_gradient[0]/fn.math.sqrt(velocityField[0]*velocityField[0])) #[du*/dx]/sqrt(u*u)\n",
    "\n",
    "\n",
    "\n",
    "    srconditions = [ (                                  normgradV < val, 1.),\n",
    "                   (                                                   True , 0.) ]\n",
    "\n",
    "\n",
    "    return fn.branching.conditional(srconditions)\n",
    "\n",
    "srrestrictFn = platenessFn(val = 0.1)"
   ]
  },
  {
   "cell_type": "code",
   "execution_count": null,
   "metadata": {
    "collapsed": false
   },
   "outputs": [],
   "source": [
    "fig = glucifer.Figure()\n",
    "fig.append( glucifer.objects.Surface(mesh, temperatureField) )\n",
    "\n",
    "#fig.show()\n",
    "#fig.save_database('test.gldb')"
   ]
  },
  {
   "cell_type": "code",
   "execution_count": null,
   "metadata": {
    "collapsed": false
   },
   "outputs": [],
   "source": [
    "#Setup volume integrals \n",
    "\n",
    "tempint = uw.utils.Integral( temperatureField, mesh )\n",
    "areaint = uw.utils.Integral( 1.,               mesh )\n",
    "\n",
    "v2int   = uw.utils.Integral( fn.math.dot(velocityField,velocityField), mesh )\n",
    "\n",
    "dwint   = uw.utils.Integral( temperatureField*velocityField[1], mesh )\n",
    "\n",
    "sinner = fn.math.dot( strainRate_2ndInvariant, strainRate_2ndInvariant )\n",
    "vdint = uw.utils.Integral( (4.*viscosityMapFn*sinner), mesh )\n",
    "\n",
    "mantleArea   = uw.utils.Integral( mantlerestrictFn, mesh )\n",
    "mantleTemp = uw.utils.Integral( temperatureField*mantlerestrictFn, mesh )\n",
    "mantleVisc = uw.utils.Integral( mantleviscosityFn*mantlerestrictFn, mesh )\n",
    "mantleVd = uw.utils.Integral( (4.*viscosityMapFn*sinner*mantlerestrictFn), mesh ) #these now work on MappingFunctions"
   ]
  },
  {
   "cell_type": "code",
   "execution_count": null,
   "metadata": {
    "collapsed": true
   },
   "outputs": [],
   "source": [
    "#Setup surface integrals\n",
    "\n",
    "rmsSurfInt = uw.utils.Integral( fn=velocityField[0]*velocityField[0], mesh=mesh, integrationType='Surface', \n",
    "                          surfaceIndexSet=mesh.specialSets[\"MaxJ_VertexSet\"])\n",
    "nuTop      = uw.utils.Integral( fn=temperatureField.fn_gradient[1],    mesh=mesh, integrationType='Surface', \n",
    "                          surfaceIndexSet=mesh.specialSets[\"MaxJ_VertexSet\"])\n",
    "nuBottom   = uw.utils.Integral( fn=temperatureField.fn_gradient[1],    mesh=mesh, integrationType='Surface', \n",
    "                          surfaceIndexSet=mesh.specialSets[\"MinJ_VertexSet\"])\n",
    "\n",
    "plateint  = uw.utils.Integral( fn=srrestrictFn, mesh=mesh, integrationType='Surface', #Integrate the plateness function\n",
    "                          surfaceIndexSet=mesh.specialSets[\"MaxJ_VertexSet\"]) \n",
    "\n",
    "surfint  = uw.utils.Integral( fn=1., mesh=mesh, integrationType='Surface',   #Surface length function (i.e. domain width)\n",
    "                          surfaceIndexSet=mesh.specialSets[\"MaxJ_VertexSet\"])"
   ]
  },
  {
   "cell_type": "code",
   "execution_count": null,
   "metadata": {
    "collapsed": true
   },
   "outputs": [],
   "source": [
    "#Define functions for the evaluation of integrals\n",
    "\n",
    "def basic_int(ourIntegral):           #This one just hands back the evaluated integral\n",
    "    return ourIntegral.evaluate()[0]\n",
    "\n",
    "def avg_temp():\n",
    "    return tempint.evaluate()[0]/areaint.evaluate()[0]\n",
    "\n",
    "def nusseltTB(temp_field, mesh):\n",
    "    return -nuTop.evaluate()[0], -nuBottom.evaluate()[0]\n",
    "\n",
    "def rms():\n",
    "    return math.sqrt(v2int.evaluate()[0]/areaint.evaluate()[0])\n",
    "\n",
    "def rms_surf():\n",
    "    return math.sqrt(rmsSurfInt.evaluate()[0])\n",
    "\n",
    "def max_vx_surf(velfield, mesh):\n",
    "    vuvelxfn = fn.view.min_max(velfield[0])\n",
    "    vuvelxfn.evaluate(mesh.specialSets[\"MaxJ_VertexSet\"])\n",
    "    return vuvelxfn.max_global()\n",
    "\n",
    "\n",
    "def visc_extr(viscfn):\n",
    "    vuviscfn = fn.view.min_max(viscfn)\n",
    "    vuviscfn.evaluate(mesh)\n",
    "    return vuviscfn.max_global(), vuviscfn.min_global()"
   ]
  },
  {
   "cell_type": "code",
   "execution_count": null,
   "metadata": {
    "collapsed": false
   },
   "outputs": [],
   "source": [
    "#v2sum_integral  = uw.utils.Integral( mesh=mesh, fn=fn.math.dot( velocityField, velocityField ) )\n",
    "#volume_integral = uw.utils.Integral( mesh=mesh, fn=1. )\n",
    "#Vrms = math.sqrt( v2sum_integral.evaluate()[0] )/volume_integral.evaluate()[0]\n",
    "\n",
    "\n",
    "\n",
    "#if(uw.rank()==0):\n",
    "#    print('Initial Vrms = {0:.3f}'.format(Vrms))"
   ]
  },
  {
   "cell_type": "code",
   "execution_count": null,
   "metadata": {
    "collapsed": false
   },
   "outputs": [],
   "source": [
    "# Check the Metrics\n",
    "\n",
    "#Avg_temp = avg_temp()\n",
    "#Rms = rms()\n",
    "#Rms_surf = rms_surf()\n",
    "#Max_vx_surf = max_vx_surf(velocityField, mesh)\n",
    "#Gravwork = basic_int(dwint)\n",
    "#Viscdis = basic_int(vdint)\n",
    "#nu1, nu0 = nusseltTB(temperatureField, mesh) # return top then bottom\n",
    "#etamax, etamin = visc_extr(mantleviscosityFn)\n",
    "\n",
    "Area_mantle = basic_int(mantleArea)\n",
    "#Viscmantle = basic_int(mantleVisc)\n",
    "#Tempmantle = basic_int(mantleTemp)\n",
    "#Viscdismantle = basic_int(mantleVd)"
   ]
  },
  {
   "cell_type": "code",
   "execution_count": null,
   "metadata": {
    "collapsed": false
   },
   "outputs": [],
   "source": [
    "#Tempmantle/Area_mantle, Viscmantle/Area_mantle\n",
    "#Plateness = basic_int(plateint)/basic_int(surfint)"
   ]
  },
  {
   "cell_type": "code",
   "execution_count": null,
   "metadata": {
    "collapsed": false
   },
   "outputs": [],
   "source": [
    "Area_mantle"
   ]
  },
  {
   "cell_type": "markdown",
   "metadata": {},
   "source": [
    "Viz.\n",
    "-----"
   ]
  },
  {
   "cell_type": "code",
   "execution_count": null,
   "metadata": {
    "collapsed": false
   },
   "outputs": [],
   "source": [
    "viscVariable = gSwarm.add_variable( dataType=\"float\", count=1 )\n",
    "viscVariable.data[:] = viscosityMapFn.evaluate(gSwarm)"
   ]
  },
  {
   "cell_type": "code",
   "execution_count": null,
   "metadata": {
    "collapsed": false
   },
   "outputs": [],
   "source": [
    "#Pack some stuff into a database as well\n",
    "figDb = glucifer.Figure()\n",
    "#figDb.append( glucifer.objects.Mesh(mesh))\n",
    "figDb.append( glucifer.objects.VectorArrows(mesh,velocityField, scaling=0.0005))\n",
    "figDb.append( glucifer.objects.Points(gSwarm,tracerVariable, colours= 'white black'))\n",
    "figDb.append( glucifer.objects.Points(gSwarm,viscosityMapFn, logScale=True))\n",
    "figDb.append( glucifer.objects.Surface(mesh, strainRate_2ndInvariant, logScale=True))\n",
    "figDb.append( glucifer.objects.Surface(mesh, temperatureField))\n",
    "#figDb.show()"
   ]
  },
  {
   "cell_type": "code",
   "execution_count": null,
   "metadata": {
    "collapsed": false
   },
   "outputs": [],
   "source": [
    "#figDb.show()\n"
   ]
  },
  {
   "cell_type": "code",
   "execution_count": null,
   "metadata": {
    "collapsed": false
   },
   "outputs": [],
   "source": [
    "velocityField.data[iWalls.data][np.where(velocityField.data[iWalls.data] == 0)]"
   ]
  },
  {
   "cell_type": "code",
   "execution_count": null,
   "metadata": {
    "collapsed": false
   },
   "outputs": [],
   "source": [
    "\n",
    "def checkpoint1(step, checkpointPath,filename, filewrites):\n",
    "    path = checkpointPath + str(step) \n",
    "    os.mkdir(path)\n",
    "    ##Write and save the file, if not already a writing step\n",
    "    if not step % filewrites == 0:\n",
    "        filename.write((17*'%-15s ' + '\\n') % (realtime, Viscdis, float(nu0), float(nu1), Avg_temp,\n",
    "                                              Tempmantle,TMAX,\n",
    "                                              Rms,Rms_surf,Max_vx_surf,Gravwork, etamax, etamin, \n",
    "                                              Area_mantle, Viscmantle,  Viscdismantle,Plateness ))\n",
    "    filename.close()\n",
    "    shutil.copyfile(os.path.join(outputPath, outputFile), os.path.join(path, outputFile))\n",
    "\n",
    "\n",
    "def checkpoint2(step, checkpointPath, swarm, filename, varlist = [materialVariable], varnames = ['materialVariable']):\n",
    "    path = checkpointPath + str(step) \n",
    "    velfile = \"velocityField\" + \".hdf5\"\n",
    "    tempfile = \"temperatureField\" + \".hdf5\"\n",
    "    pressfile = \"pressureField\" + \".hdf5\"\n",
    "    velocityField.save(os.path.join(path, velfile))\n",
    "    temperatureField.save(os.path.join(path, tempfile))\n",
    "    pressureField.save(os.path.join(path, pressfile))\n",
    "    swarm.save(os.path.join(path, \"swarm.h5\") ) \n",
    "    for ix in range(len(varlist)):\n",
    "        varb = varlist[ix]\n",
    "        varb.save(os.path.join(path,varnames[ix] + \".h5\"))\n",
    "    "
   ]
  },
  {
   "cell_type": "markdown",
   "metadata": {},
   "source": [
    "**Miscellania**"
   ]
  },
  {
   "cell_type": "code",
   "execution_count": null,
   "metadata": {
    "collapsed": false
   },
   "outputs": [],
   "source": [
    "surface_xs = np.linspace(mesh.minCoord[0], mesh.maxCoord[0], mesh.elementRes[0] + 1)\n",
    "surface_nodes = np.array(zip(surface_xs, np.ones(len(surface_xs)*mesh.maxCoord[1]))) #For evaluation surface velocity\n",
    "\n",
    "\n",
    "normgradV = velocityField.fn_gradient[0]/fn.math.sqrt(velocityField[0]*velocityField[0])\n",
    "\n",
    "tempMM = fn.view.min_max(temperatureField)\n",
    "dummy = tempMM.evaluate(mesh)\n",
    "\n"
   ]
  },
  {
   "cell_type": "code",
   "execution_count": 185,
   "metadata": {
    "collapsed": true
   },
   "outputs": [],
   "source": [
    "#set up some routines to track age variable \n",
    "#\n",
    "ageVariable.data[:] = -1.\n",
    "ageVariable.data[-1] = 99."
   ]
  },
  {
   "cell_type": "code",
   "execution_count": 205,
   "metadata": {
    "collapsed": false
   },
   "outputs": [],
   "source": [
    "\n",
    "#ageConditions1 = [ ((materialVariable != mantleIndex) , \n",
    "#                 -1.),  \n",
    "#                   ((ageVariable == -1.) and (materialVariable == mantleIndex) and (depthFn < 100e3/dp.LS), \n",
    "#                  \n",
    "#                  0.),\n",
    "#                \n",
    "#                     ]\n",
    "\n",
    "ageConditions1 = [ ((materialVariable != mantleIndex) , \n",
    "                 -9999.),  \n",
    "                   ((materialVariable == mantleIndex) , \n",
    "                 9999.),\n",
    "                \n",
    "                     ]"
   ]
  },
  {
   "cell_type": "code",
   "execution_count": 206,
   "metadata": {
    "collapsed": false
   },
   "outputs": [],
   "source": [
    "ageVariable.data[:] = fn.branching.conditional( ageConditions1 ).evaluate(gSwarm)"
   ]
  },
  {
   "cell_type": "code",
   "execution_count": 207,
   "metadata": {
    "collapsed": false
   },
   "outputs": [
    {
     "data": {
      "text/plain": [
       "(array([0, 2, 3], dtype=int32), 0)"
      ]
     },
     "execution_count": 207,
     "metadata": {},
     "output_type": "execute_result"
    }
   ],
   "source": [
    "np.unique(materialVariable.data), mantleIndex"
   ]
  },
  {
   "cell_type": "code",
   "execution_count": 208,
   "metadata": {
    "collapsed": false
   },
   "outputs": [
    {
     "data": {
      "text/plain": [
       "array([-9999.], dtype=float32)"
      ]
     },
     "execution_count": 208,
     "metadata": {},
     "output_type": "execute_result"
    }
   ],
   "source": [
    "np.unique(ageVariable.data)\n"
   ]
  },
  {
   "cell_type": "markdown",
   "metadata": {},
   "source": [
    "Main simulation loop\n",
    "-----\n",
    "\n",
    "Run a few advection and Stokes solver steps to make sure we are in, or close to, equilibrium."
   ]
  },
  {
   "cell_type": "code",
   "execution_count": null,
   "metadata": {
    "collapsed": false
   },
   "outputs": [],
   "source": [
    "# initialise timer for computation\n",
    "start = time.clock()\n",
    "# setup summary output file (name above)\n",
    "if checkpointLoad:\n",
    "    if uw.rank() == 0:\n",
    "        shutil.copyfile(os.path.join(checkpointLoadDir, outputFile), outputPath+outputFile)\n",
    "    comm.Barrier()\n",
    "    f_o = open(os.path.join(outputPath, outputFile), 'a')\n",
    "    prevdata = np.genfromtxt(os.path.join(outputPath, outputFile), skip_header=0, skip_footer=0)\n",
    "    if len(prevdata.shape) == 1: #this is in case there is only one line in previous file\n",
    "        realtime = prevdata[0]\n",
    "    else:\n",
    "        realtime = prevdata[prevdata.shape[0]-1, 0]\n",
    "    step = int(checkpointLoadDir.split('/')[-1])\n",
    "    timevals = [0.]\n",
    "else:\n",
    "    f_o = open(outputPath+outputFile, 'w')\n",
    "    realtime = 0.\n",
    "    step = 0\n",
    "    timevals = [0.]"
   ]
  },
  {
   "cell_type": "code",
   "execution_count": null,
   "metadata": {
    "collapsed": false
   },
   "outputs": [],
   "source": []
  },
  {
   "cell_type": "code",
   "execution_count": null,
   "metadata": {
    "collapsed": false
   },
   "outputs": [],
   "source": [
    "#while step < 21:\n",
    "while realtime < 1.:\n",
    "\n",
    "    # solve Stokes and advection systems\n",
    "    solver.solve(nonLinearIterate=True)\n",
    "    dt = advDiff.get_max_dt()\n",
    "    if step == 0:\n",
    "        dt = 0.\n",
    "    advDiff.integrate(dt)\n",
    "    passiveadvector.integrate(dt)\n",
    "    \n",
    "    #Add the adiabatic adjustment:\n",
    "    temperatureField.data[:] += dt*abHeatFn.evaluate(mesh)\n",
    "    \n",
    "\n",
    "    # Increment\n",
    "    realtime += dt\n",
    "    step += 1\n",
    "    timevals.append(realtime)\n",
    "    ################\n",
    "    #Update temperature field in the air region\n",
    "    #Do this better...\n",
    "    ################\n",
    "    if (step % sticky_air_temp == 0):\n",
    "        for index, coord in enumerate(mesh.data):\n",
    "            if coord[1] >= 1.:\n",
    "                temperatureField.data[index] = ndp.TSP\n",
    "    ################\n",
    "    #Gldb output\n",
    "    ################ \n",
    "    if (step % gldbs_output == 0):\n",
    "        #Rebuild any necessary swarm variables\n",
    "        viscVariable.data[:] = viscosityMapFn.evaluate(gSwarm)\n",
    "        #Write gldbs\n",
    "        fnamedb = \"dbFig\" + \"_\" + str(ModIt) + \"_\" + str(step) + \".gldb\"\n",
    "        fullpath = os.path.join(outputPath + \"gldbs/\" + fnamedb)\n",
    "        #figDb.show()\n",
    "        figDb.save_database(fullpath)\n",
    "    ################\n",
    "    #Files output\n",
    "    ################ \n",
    "    if (step % files_output == 0):\n",
    "\n",
    "        vel_surface = velocityField.evaluate_global(surface_nodes)\n",
    "        norm_surface_sr = normgradV.evaluate_global(surface_nodes)\n",
    "        if uw.rank() == 0:\n",
    "            fnametemp = \"velsurface\" + \"_\" + str(ModIt) + \"_\" + str(step)\n",
    "            fullpath = os.path.join(outputPath + \"files/\" + fnametemp)\n",
    "            np.save(fullpath, vel_surface)\n",
    "            fnametemp = \"norm_surface_sr\" + \"_\" + str(ModIt) + \"_\" + str(step)\n",
    "            fullpath = os.path.join(outputPath + \"files/\" + fnametemp)\n",
    "            np.save(fullpath, norm_surface_sr)\n",
    "    ################            \n",
    "    # Calculate the Metrics, only on 1 of the processors:\n",
    "    ################\n",
    "    if (step % metric_output == 0):\n",
    "        ###############\n",
    "        #Swarm - based Metrics\n",
    "        ###############\n",
    "        # Calculate the RMS velocity and Nusselt number.\n",
    "        # Calculate the Metrics, only on 1 of the processors:\n",
    "        mantlerestrictFn = temprestrictionFn() #rebuild the mantle restriction function (but these should be dynamic?)\n",
    "        srrestrictFn = platenessFn(val = 0.1) #rebuild the plateness restriction function\n",
    "        dummy = tempMM.evaluate(mesh) #Re-evaluate any fn.view.min_max guys\n",
    "        #Rebuild these integrals (a test because metrics changes after a restart)\n",
    "        mantleArea   = uw.utils.Integral( mantlerestrictFn, mesh )\n",
    "        mantleTemp = uw.utils.Integral( temperatureField*mantlerestrictFn, mesh )\n",
    "        mantleVisc = uw.utils.Integral( mantleviscosityFn*mantlerestrictFn, mesh )\n",
    "        mantleVd = uw.utils.Integral( (4.*viscosityMapFn*sinner*mantlerestrictFn), mesh ) #these now work on MappingFunctions\n",
    "        ###\n",
    "        Avg_temp = avg_temp()\n",
    "        Rms = rms()\n",
    "        Rms_surf = rms_surf()\n",
    "        Max_vx_surf = max_vx_surf(velocityField, mesh)\n",
    "        Gravwork = basic_int(dwint)\n",
    "        Viscdis = basic_int(vdint)\n",
    "        nu1, nu0 = nusseltTB(temperatureField, mesh) # return top then bottom\n",
    "        etamax, etamin = visc_extr(mantleviscosityFn)\n",
    "        Area_mantle = basic_int(mantleArea)\n",
    "        Viscmantle = basic_int(mantleVisc)\n",
    "        Tempmantle = basic_int(mantleTemp)\n",
    "        Viscdismantle = basic_int(mantleVd)\n",
    "        Plateness = basic_int(plateint)/basic_int(surfint)\n",
    "        TMAX = tempMM.max_global()\n",
    "        # output to summary text file\n",
    "        if uw.rank()==0:\n",
    "            f_o.write((17*'%-15s ' + '\\n') % (realtime, Viscdis, float(nu0), float(nu1), Avg_temp,\n",
    "                                              Tempmantle,TMAX,\n",
    "                                              Rms,Rms_surf,Max_vx_surf,Gravwork, etamax, etamin, \n",
    "                                              Area_mantle, Viscmantle,  Viscdismantle,Plateness ))\n",
    "    ################\n",
    "    #Also repopulate entire swarm periodically\n",
    "    ################\n",
    "    #if step % swarm_repop == 0:\n",
    "    population_control.repopulate()\n",
    "    \n",
    "    ################\n",
    "    #Checkpoint\n",
    "    ################\n",
    "    if step % checkpoint_every == 0:\n",
    "        if uw.rank() == 0:\n",
    "            checkpoint1(step, checkpointPath,f_o, metric_output)           \n",
    "        checkpoint2(step, checkpointPath, gSwarm, f_o, varlist = varlist, varnames = varnames)\n",
    "        f_o = open(os.path.join(outputPath, outputFile), 'a') #is this line supposed to be here?\n",
    "    ################\n",
    "    #Particle update\n",
    "    ###############\n",
    "    ageVariable.data[:] += dt #increment the ages (is this efficient?)\n",
    "    dummyData = np.copy(materialVariable.data)#This is part of a hack that resets ages when a material type changes\n",
    "    if step % swarm_update == 0:\n",
    "        for i in range(2): #Need to go through twice first time through\n",
    "            materialVariable.data[:] = fn.branching.conditional(DG.condition_list).evaluate(gSwarm)\n",
    "    ageVariable.data[np.where(dummyData[:] != materialVariable.data[:])] = 0. #resets those ages when a material type change\n",
    "    \n",
    "f_o.close()\n",
    "print 'step =',step"
   ]
  },
  {
   "cell_type": "code",
   "execution_count": 109,
   "metadata": {
    "collapsed": false
   },
   "outputs": [
    {
     "ename": "RuntimeError",
     "evalue": "Function input dimensionality (2) does not appear to match mesh variable dimensionality (105).",
     "output_type": "error",
     "traceback": [
      "\u001b[1;31m\u001b[0m",
      "\u001b[1;31mRuntimeError\u001b[0mTraceback (most recent call last)",
      "\u001b[1;32m<ipython-input-109-758841825d0d>\u001b[0m in \u001b[0;36m<module>\u001b[1;34m()\u001b[0m\n\u001b[0;32m      1\u001b[0m \u001b[0mviscVariable\u001b[0m \u001b[1;33m=\u001b[0m \u001b[0mgSwarm\u001b[0m\u001b[1;33m.\u001b[0m\u001b[0madd_variable\u001b[0m\u001b[1;33m(\u001b[0m \u001b[0mdataType\u001b[0m\u001b[1;33m=\u001b[0m\u001b[1;34m\"float\"\u001b[0m\u001b[1;33m,\u001b[0m \u001b[0mcount\u001b[0m\u001b[1;33m=\u001b[0m\u001b[1;36m1\u001b[0m \u001b[1;33m)\u001b[0m\u001b[1;33m\u001b[0m\u001b[0m\n\u001b[1;32m----> 2\u001b[1;33m \u001b[0mviscVariable\u001b[0m\u001b[1;33m.\u001b[0m\u001b[0mdata\u001b[0m\u001b[1;33m[\u001b[0m\u001b[1;33m:\u001b[0m\u001b[1;33m]\u001b[0m \u001b[1;33m=\u001b[0m \u001b[0mviscosityMapFn\u001b[0m\u001b[1;33m.\u001b[0m\u001b[0mevaluate\u001b[0m\u001b[1;33m(\u001b[0m\u001b[0mgSwarm\u001b[0m\u001b[1;33m)\u001b[0m\u001b[1;33m\u001b[0m\u001b[0m\n\u001b[0m",
      "\u001b[1;32m/root/underworld2/underworld/function/_function.py\u001b[0m in \u001b[0;36mevaluate\u001b[1;34m(self, inputData, inputType)\u001b[0m\n\u001b[0;32m    594\u001b[0m             \u001b[1;32mif\u001b[0m \u001b[0minputType\u001b[0m \u001b[1;33m!=\u001b[0m \u001b[0mNone\u001b[0m\u001b[1;33m:\u001b[0m\u001b[1;33m\u001b[0m\u001b[0m\n\u001b[0;32m    595\u001b[0m                 \u001b[1;32mraise\u001b[0m \u001b[0mValueError\u001b[0m\u001b[1;33m(\u001b[0m\u001b[1;34m\"'inputType' specification not supported for this input class.\"\u001b[0m\u001b[1;33m)\u001b[0m\u001b[1;33m\u001b[0m\u001b[0m\n\u001b[1;32m--> 596\u001b[1;33m             \u001b[1;32mreturn\u001b[0m \u001b[0m_cfn\u001b[0m\u001b[1;33m.\u001b[0m\u001b[0mQuery\u001b[0m\u001b[1;33m(\u001b[0m\u001b[0mself\u001b[0m\u001b[1;33m.\u001b[0m\u001b[0m_fncself\u001b[0m\u001b[1;33m)\u001b[0m\u001b[1;33m.\u001b[0m\u001b[0mquery\u001b[0m\u001b[1;33m(\u001b[0m\u001b[0minputData\u001b[0m\u001b[1;33m.\u001b[0m\u001b[0m_get_iterator\u001b[0m\u001b[1;33m(\u001b[0m\u001b[1;33m)\u001b[0m\u001b[1;33m)\u001b[0m\u001b[1;33m\u001b[0m\u001b[0m\n\u001b[0m\u001b[0;32m    597\u001b[0m         \u001b[1;32melif\u001b[0m \u001b[0misinstance\u001b[0m\u001b[1;33m(\u001b[0m\u001b[0minputData\u001b[0m\u001b[1;33m,\u001b[0m \u001b[0mnp\u001b[0m\u001b[1;33m.\u001b[0m\u001b[0mndarray\u001b[0m\u001b[1;33m)\u001b[0m\u001b[1;33m:\u001b[0m\u001b[1;33m\u001b[0m\u001b[0m\n\u001b[0;32m    598\u001b[0m             \u001b[1;32mif\u001b[0m \u001b[0minputType\u001b[0m \u001b[1;33m!=\u001b[0m \u001b[0mNone\u001b[0m\u001b[1;33m:\u001b[0m\u001b[1;33m\u001b[0m\u001b[0m\n",
      "\u001b[1;31mRuntimeError\u001b[0m: Function input dimensionality (2) does not appear to match mesh variable dimensionality (105)."
     ]
    }
   ],
   "source": [
    "viscVariable = gSwarm.add_variable( dataType=\"float\", count=1 )\n",
    "viscVariable.data[:] = viscosityMapFn.evaluate(gSwarm)"
   ]
  }
 ],
 "metadata": {
  "kernelspec": {
   "display_name": "Python 2",
   "language": "python",
   "name": "python2"
  },
  "language_info": {
   "codemirror_mode": {
    "name": "ipython",
    "version": 2
   },
   "file_extension": ".py",
   "mimetype": "text/x-python",
   "name": "python",
   "nbconvert_exporter": "python",
   "pygments_lexer": "ipython2",
   "version": "2.7.9"
  },
  "widgets": {
   "state": {},
   "version": "1.1.2"
  }
 },
 "nbformat": 4,
 "nbformat_minor": 0
}
