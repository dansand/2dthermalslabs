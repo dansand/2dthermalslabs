{
 "cells": [
  {
   "cell_type": "markdown",
   "metadata": {},
   "source": [
    "## composite, non-linear rheology:\n",
    "\n",
    "\n",
    "The viscous rheology in this model is similar to the Čížková and Bina paper cited below. Other parts of the model setup are similar to Arredondo and Billen (2016) and Korenaga (2011). \n",
    "\n",
    "Here we use a dimensionless system. For the psuedo-plastic effective rheology a Drucker-prager model is used.\n",
    "\n",
    "\n",
    "**Keywords:** thermal covection, dislocation creep\n",
    "\n",
    "\n",
    "**References**\n",
    "\n",
    "Čížková, Hana, and Craig R. Bina. \"Geodynamics of trench advance: Insights from a Philippine-Sea-style geometry.\" Earth and Planetary Science Letters 430 (2015): 408-415.\n",
    "\n",
    "Arredondo, Katrina M., and Magali I. Billen. \"The Effects of Phase Transitions and Compositional Layering in Two-dimensional Kinematic Models of Subduction.\" Journal of Geodynamics (2016).\n",
    "\n",
    "Korenaga, Jun. \"Scaling of plate tectonic convection with pseudoplastic rheology.\" Journal of Geophysical Research: Solid Earth 115.B11 (2010)."
   ]
  },
  {
   "cell_type": "code",
   "execution_count": 291,
   "metadata": {
    "collapsed": false
   },
   "outputs": [],
   "source": [
    "import numpy as np\n",
    "import underworld as uw\n",
    "import math\n",
    "from underworld import function as fn\n",
    "import glucifer\n",
    "\n",
    "import os\n",
    "import sys\n",
    "import natsort\n",
    "import shutil\n",
    "from easydict import EasyDict as edict\n",
    "import operator\n",
    "import pint\n",
    "import time\n",
    "import operator\n",
    "from slippy2 import boundary_layer2d\n",
    "from slippy2 import material_graph\n",
    "from slippy2 import spmesh\n",
    "\n",
    "from mpi4py import MPI\n",
    "comm = MPI.COMM_WORLD\n",
    "rank = comm.Get_rank()"
   ]
  },
  {
   "cell_type": "markdown",
   "metadata": {},
   "source": [
    "Model name and directories\n",
    "-----"
   ]
  },
  {
   "cell_type": "code",
   "execution_count": 292,
   "metadata": {
    "collapsed": true
   },
   "outputs": [],
   "source": [
    "############\n",
    "#Model name.  \n",
    "############\n",
    "Model = \"T\"\n",
    "ModNum = 0\n",
    "\n",
    "if len(sys.argv) == 1:\n",
    "    ModIt = \"Base\"\n",
    "elif sys.argv[1] == '-f':\n",
    "    ModIt = \"Base\"\n",
    "else:\n",
    "    ModIt = str(sys.argv[1])"
   ]
  },
  {
   "cell_type": "code",
   "execution_count": 293,
   "metadata": {
    "collapsed": false
   },
   "outputs": [],
   "source": [
    "###########\n",
    "#Standard output directory setup\n",
    "###########\n",
    "\n",
    "\n",
    "outputPath = \"results\" + \"/\" +  str(Model) + \"/\" + str(ModNum) + \"/\" + str(ModIt) + \"/\"\n",
    "imagePath = outputPath + 'images/'\n",
    "filePath = outputPath + 'files/'\n",
    "checkpointPath = outputPath + 'checkpoint/'\n",
    "dbPath = outputPath + 'gldbs/'\n",
    "outputFile = 'results_model' + Model + '_' + str(ModNum) + '_' + str(ModIt) + '.dat'\n",
    "\n",
    "if uw.rank()==0:\n",
    "    # make directories if they don't exist\n",
    "    if not os.path.isdir(outputPath):\n",
    "        os.makedirs(outputPath)\n",
    "    if not os.path.isdir(checkpointPath):\n",
    "        os.makedirs(checkpointPath)\n",
    "    if not os.path.isdir(imagePath):\n",
    "        os.makedirs(imagePath)\n",
    "    if not os.path.isdir(dbPath):\n",
    "        os.makedirs(dbPath)\n",
    "    if not os.path.isdir(filePath):\n",
    "        os.makedirs(filePath)\n",
    "        \n",
    "comm.Barrier() #Barrier here so no procs run the check in the next cell too early"
   ]
  },
  {
   "cell_type": "code",
   "execution_count": 294,
   "metadata": {
    "collapsed": false
   },
   "outputs": [
    {
     "name": "stdout",
     "output_type": "stream",
     "text": [
      "results/T/0/Base/checkpoint/ is empty\n"
     ]
    }
   ],
   "source": [
    "###########\n",
    "#Check if starting from checkpoint\n",
    "###########\n",
    "\n",
    "checkdirs = []\n",
    "for dirpath, dirnames, files in os.walk(checkpointPath):\n",
    "    if files:\n",
    "        print dirpath, 'has files'\n",
    "        checkpointLoad = True\n",
    "        checkdirs.append(dirpath)\n",
    "    if not files:\n",
    "        print dirpath, 'is empty'\n",
    "        checkpointLoad = False"
   ]
  },
  {
   "cell_type": "markdown",
   "metadata": {},
   "source": [
    "Setup parameters\n",
    "-----\n",
    "\n",
    "Set simulation parameters for test."
   ]
  },
  {
   "cell_type": "markdown",
   "metadata": {},
   "source": [
    "**Use pint to setup any unit conversions we'll need**"
   ]
  },
  {
   "cell_type": "code",
   "execution_count": 295,
   "metadata": {
    "collapsed": false
   },
   "outputs": [
    {
     "data": {
      "text/html": [
       "10000.0 meter/megayear"
      ],
      "text/latex": [
       "$10000.0 \\frac{meter}{megayear}$"
      ],
      "text/plain": [
       "<Quantity(10000.0, 'meter / megayear')>"
      ]
     },
     "execution_count": 295,
     "metadata": {},
     "output_type": "execute_result"
    }
   ],
   "source": [
    "u = pint.UnitRegistry()\n",
    "cmpery = 1.*u.cm/u.year\n",
    "mpermy = 1.*u.m/u.megayear\n",
    "year = 1.*u.year\n",
    "spery = year.to(u.sec)\n",
    "cmpery.to(mpermy)"
   ]
  },
  {
   "cell_type": "code",
   "execution_count": null,
   "metadata": {
    "collapsed": false
   },
   "outputs": [],
   "source": []
  },
  {
   "cell_type": "markdown",
   "metadata": {},
   "source": [
    "**Set parameter dictionaries**"
   ]
  },
  {
   "cell_type": "code",
   "execution_count": 296,
   "metadata": {
    "collapsed": false
   },
   "outputs": [
    {
     "name": "stdout",
     "output_type": "stream",
     "text": [
      "(0.04, 1.2675505856327397e-11)\n"
     ]
    }
   ],
   "source": [
    "box_half_width =4000e3\n",
    "age_at_trench = 100e6\n",
    "cmperyear = box_half_width / age_at_trench #m/y\n",
    "mpersec = cmperyear*(cmpery.to(u.m/u.second)).magnitude #m/sec\n",
    "print(cmperyear, mpersec )"
   ]
  },
  {
   "cell_type": "code",
   "execution_count": null,
   "metadata": {
    "collapsed": false
   },
   "outputs": [],
   "source": []
  },
  {
   "cell_type": "code",
   "execution_count": 297,
   "metadata": {
    "collapsed": false
   },
   "outputs": [],
   "source": [
    "###########\n",
    "#Store the physical paramters, scale factors and dimensionless pramters in easyDicts\n",
    "#Mainly helps with avoiding overwriting variables\n",
    "###########\n",
    "\n",
    "dp = edict({'LS_RA':2900.*1e3, #Use full mantle depth for the Rayleigh number\n",
    "            'LS':2000.*1e3,\n",
    "           'rho':3300,\n",
    "           'g':9.8, \n",
    "           'eta0':1e20, #Dislocation creep at 250 km, 1573 K, 1e-15 s-1 \n",
    "           'k':1e-6,\n",
    "           'a':3e-5, #surface thermal expansivity\n",
    "           'TP':1573., #potential temp\n",
    "           'TS':273., #surface temp\n",
    "           'cohesion':1e7, #\n",
    "           'fc':0.01,   \n",
    "           'Adf':1e-9,\n",
    "           'Ads':3.1e-17,\n",
    "           'Edf':3.35e5,\n",
    "           'Eds':4.8e5,\n",
    "           'Vdf':4e-6,\n",
    "           'Vds':11e-6,\n",
    "           'Alm':1.3e-16,\n",
    "           'Elm':2.0e5,\n",
    "           'Vlm':1.1e-6,\n",
    "           'Ba':4.3e-12,  #A value to simulate pressure increase with depth\n",
    "           'SR':5e-14,\n",
    "           'Dr':250e3, #Reference depth\n",
    "           'R':8.314,\n",
    "           'Cp':1250., #Jkg-1K-1\n",
    "           'StALS':100e3,\n",
    "           'plate_vel':4})\n",
    "\n",
    "#Adibatic heating stuff\n",
    "dp.dTa = (dp.a*dp.g*(dp.TP))/dp.Cp #adibatic gradient, at Tp\n",
    "dp.deltaTa = (dp.TP + dp.dTa*dp.LS) - dp.TS  #Adiabatic Temp at base of mantle, minus Ts\n",
    "dp.deltaT = dp.deltaTa\n",
    "\n",
    "\n",
    "\n",
    "#scale_factors\n",
    "\n",
    "sf = edict({'stress':dp.LS**2/(dp.k*dp.eta0),\n",
    "            'lith_grad':dp.rho*dp.g*(dp.LS)**3/(dp.eta0*dp.k) ,\n",
    "            'vel':dp.LS/dp.k,\n",
    "            'SR':dp.LS**2/dp.k,\n",
    "            'W':(-1./dp.Ba)*(np.log(1.-dp.rho*dp.g*dp.Ba*dp.LS))/(dp.R*dp.deltaTa), #Including adiabatic compression, and deltaTa\n",
    "            'E': 1./(dp.R*dp.deltaTa), #using deltaTa, the guesstimated adiabatic temp differnnce to scale these paramters\n",
    "            #'Ads':(dp.eta0**(ndp.n-2))*((dp.k)**(ndp.n-1))*((dp.LS)**(2. - 2*ndp.n))       \n",
    "           })\n",
    "\n",
    "#dimensionless parameters\n",
    "\n",
    "ndp = edict({'RA':(dp.g*dp.rho*dp.a*(dp.TP - dp.TS)*(dp.LS_RA)**3)/(dp.k*dp.eta0),\n",
    "            'cohesion':dp.cohesion*sf.stress,\n",
    "            'fcd':dp.fc*sf.lith_grad,\n",
    "            'gamma':dp.fc/(dp.a*dp.deltaT),\n",
    "            'Wdf':dp.Vdf*sf.W,\n",
    "            'Edf':dp.Edf*sf.E,\n",
    "            'Wds':dp.Vds*sf.W,\n",
    "            'Eds':dp.Eds*sf.E,\n",
    "            'Elm':dp.Elm*sf.E,\n",
    "           'Wlm':dp.Vlm*sf.W,\n",
    "            'TSP':0., \n",
    "            'TBP':1.,\n",
    "            'TPP':(dp.TP - dp.TS)/dp.deltaT, #dimensionless potential temp\n",
    "            'Dr':dp.Dr/dp.LS,\n",
    "            'n':3.5,\n",
    "            'TS':dp.TS/dp.deltaT,\n",
    "            'TP':dp.TP/dp.deltaT,\n",
    "             #'eta_crust':1e21/dp.eta0,\n",
    "             'eta_crust':10.,\n",
    "            'eta_min':1e-3,\n",
    "            'eta_max':1e5,\n",
    "            'H':0.,\n",
    "            'Tmvp':0.6,\n",
    "             'Di': dp.a*dp.g*dp.LS/dp.Cp, #Dissipation number\n",
    "            'Steta0':1e2,\n",
    "            'plate_vel':sf.vel*dp.plate_vel*(cmpery.to(u.m/u.second)).magnitude,})\n",
    "\n",
    "\n",
    "\n",
    "#Make some further additions to paramter dictionaries\n",
    "\n",
    "#dp.VR = (0.1*(dp.k/dp.LS)*ndp.RA**(2/3.)) #characteristic velocity from a scaling relationship\n",
    "#dp.SR = dp.VR/dp.LS #characteristic strain rate\n",
    "#ndp.VR = dp.VR*sf.vel #characteristic velocity\n",
    "#ndp.SR = dp.SR*sf.SR #characteristic strain rate\n",
    "\n",
    "\n",
    "ndp.SR = dp.SR*sf.SR #characteristic strain rate\n",
    "\n",
    "ndp.StRA = (3300.*dp.g*(dp.LS)**3)/(dp.eta0 *dp.k) #Composisitional Rayleigh number for rock-air buoyancy force\n",
    "ndp.TaP = 1. - ndp.TPP,  #Dimensionles adiabtic component of delta t"
   ]
  },
  {
   "cell_type": "code",
   "execution_count": 298,
   "metadata": {
    "collapsed": false
   },
   "outputs": [
    {
     "data": {
      "text/plain": [
       "(45568.60610653658, 2535.1011712654795, 307608701.40000004, 1300.0)"
      ]
     },
     "execution_count": 298,
     "metadata": {},
     "output_type": "execute_result"
    }
   ],
   "source": [
    "dp.CVR = (0.1*(dp.k/dp.LS)*ndp.RA**(2/3.))\n",
    "ndp.CVR = dp.CVR*sf.vel #characteristic velocity\n",
    "ndp.CVR, ndp.plate_vel, ndp.RA , (dp.TP - dp.TS)\n"
   ]
  },
  {
   "cell_type": "code",
   "execution_count": 299,
   "metadata": {
    "collapsed": false
   },
   "outputs": [],
   "source": [
    "###########\n",
    "#A few parameters defining lengths scales, affects materal transistions etc.\n",
    "###########\n",
    "\n",
    "MANTLETOCRUST = (15.*1e3)/dp.LS #Crust depth\n",
    "HARZBURGDEPTH = MANTLETOCRUST + (27.7e3/dp.LS)\n",
    "CRUSTTOMANTLE = (200.*1e3)/dp.LS\n",
    "LITHTOMANTLE = (900.*1e3)/dp.LS \n",
    "MANTLETOLITH = (200.*1e3)/dp.LS \n",
    "TOPOHEIGHT = (10.*1e3)/dp.LS  #rock-air topography limits\n",
    "CRUSTTOECL  = (100.*1e3)/dp.LS\n",
    "AVGTEMP = ndp.TPP #Used to define lithosphere\n",
    "LOWERMANTLE = (1000.*1e3)/dp.LS \n"
   ]
  },
  {
   "cell_type": "markdown",
   "metadata": {},
   "source": [
    "**Model setup parameters**"
   ]
  },
  {
   "cell_type": "code",
   "execution_count": 300,
   "metadata": {
    "collapsed": false
   },
   "outputs": [],
   "source": [
    "###########\n",
    "#Model setup parameters\n",
    "###########\n",
    "\n",
    "refineMesh = True\n",
    "stickyAir = False \n",
    "lowerMantle = False \n",
    "meltViscosityReduction = False\n",
    "symmetricIC = False\n",
    "VelBC = False\n",
    "WeakZone = False\n",
    "aspectRatio = 4\n",
    "parallelVisc = False\n",
    "compBuoyancy = False #use compositional & phase buoyancy, or simply thermal\n",
    "\n",
    "MINX = -1.*aspectRatio/2.\n",
    "MINY = 0.\n",
    "MAXX = 1.*aspectRatio/2.\n",
    "\n",
    "#MAXY = 1.035\n",
    "MAXY = 1.\n",
    "\n",
    "if MINX == 0.:\n",
    "    squareModel = True\n",
    "else: \n",
    "    squareModel = False\n",
    "    \n",
    "    \n",
    "dim = 2          # number of spatial dimensions\n",
    "\n",
    "\n",
    "#MESH STUFF\n",
    "\n",
    "RES = 64\n",
    "\n",
    "Xres = int(RES*aspectRatio)\n",
    "\n",
    "\n",
    "if stickyAir:\n",
    "    Yres = RES\n",
    "    MAXY = 1. + dp.StALS/dp.LS #150km\n",
    "    \n",
    "else:\n",
    "    Yres = RES\n",
    "    MAXY = 1.\n",
    "\n",
    "\n",
    "periodic = [False, False]\n",
    "elementType = \"Q1/dQ0\"\n",
    "#elementType =\"Q2/DPC1\"\n",
    "\n",
    "\n",
    "#System/Solver stuff\n",
    "\n",
    "PIC_integration=True\n",
    "ppc = 25\n",
    "\n",
    "#Output and safety stuff\n",
    "swarm_repop, swarm_update = 10, 10\n",
    "gldbs_output = 10\n",
    "checkpoint_every, files_output = 20, 20\n",
    "metric_output = 10\n",
    "sticky_air_temp = 5"
   ]
  },
  {
   "cell_type": "markdown",
   "metadata": {},
   "source": [
    "Create mesh and finite element variables\n",
    "------"
   ]
  },
  {
   "cell_type": "code",
   "execution_count": 301,
   "metadata": {
    "collapsed": false
   },
   "outputs": [],
   "source": [
    "mesh = uw.mesh.FeMesh_Cartesian( elementType = (elementType),\n",
    "                                 elementRes  = (Xres, Yres), \n",
    "                                 minCoord    = (MINX, MINY), \n",
    "                                 maxCoord    = (MAXX, MAXY), periodic=periodic)\n",
    "\n",
    "velocityField       = uw.mesh.MeshVariable( mesh=mesh,         nodeDofCount=2 )\n",
    "pressureField       = uw.mesh.MeshVariable( mesh=mesh.subMesh, nodeDofCount=1 )\n",
    "temperatureField    = uw.mesh.MeshVariable( mesh=mesh,         nodeDofCount=1 )\n",
    "temperatureDotField = uw.mesh.MeshVariable( mesh=mesh,         nodeDofCount=1 )"
   ]
  },
  {
   "cell_type": "code",
   "execution_count": 302,
   "metadata": {
    "collapsed": true
   },
   "outputs": [],
   "source": [
    "mesh.reset()"
   ]
  },
  {
   "cell_type": "code",
   "execution_count": 303,
   "metadata": {
    "collapsed": false
   },
   "outputs": [
    {
     "name": "stdout",
     "output_type": "stream",
     "text": [
      "Min\n",
      "(256, 0.012501562500000001, 4.200400000000001, -0.20040000000000086)\n",
      "('edges', 256)\n",
      "-- iteration 0 --\n",
      "| F( p_n ) |^2: 1.98165943146e-05\n",
      "| p_n+1 - p_n |^2: 1.36480086187\n",
      "-- iteration 1 --\n",
      "| F( p_n ) |^2: 3.58989730515e-30\n",
      "Min, Max element width: \n",
      "0.01250\n",
      "0.01875\n"
     ]
    }
   ],
   "source": [
    "\n",
    "#X-Axis\n",
    "\n",
    "if refineMesh:\n",
    "    mesh.reset()\n",
    "    axis = 0\n",
    "    origcoords = np.linspace(mesh.minCoord[axis], mesh.maxCoord[axis], mesh.elementRes[axis] + 1)\n",
    "    edge_rest_lengths = np.diff(origcoords)\n",
    "\n",
    "    deform_lengths = edge_rest_lengths.copy()\n",
    "    min_point =  (abs(mesh.maxCoord[axis]) - abs(mesh.minCoord[axis]))/2.\n",
    "    el_reduction = 0.8001\n",
    "    dx = mesh.maxCoord[axis] - min_point\n",
    "\n",
    "    deform_lengths = deform_lengths - \\\n",
    "                                    ((1.-el_reduction) *deform_lengths[0]) + \\\n",
    "                                    abs((origcoords[1:] - min_point))*((0.5*deform_lengths[0])/dx)\n",
    "\n",
    "    #print(edge_rest_lengths.shape, deform_lengths.shape)\n",
    "\n",
    "    spmesh.deform_1d(deform_lengths, mesh,axis = 'x',norm = 'Min', constraints = [])"
   ]
  },
  {
   "cell_type": "code",
   "execution_count": 304,
   "metadata": {
    "collapsed": false
   },
   "outputs": [],
   "source": [
    "axis = 1\n",
    "orgs = np.linspace(mesh.minCoord[axis], mesh.maxCoord[axis], mesh.elementRes[axis] + 1)\n",
    "\n",
    "value_to_constrain = 1.\n",
    "\n",
    "\n",
    "yconst = [(spmesh.find_closest(orgs, value_to_constrain), np.array([value_to_constrain,0]))]"
   ]
  },
  {
   "cell_type": "code",
   "execution_count": 305,
   "metadata": {
    "collapsed": false
   },
   "outputs": [
    {
     "name": "stdout",
     "output_type": "stream",
     "text": [
      "Min\n",
      "(64, 0.0093765624999999995, 0.84619375000000008, 0.62499047619047554)\n",
      "('edges', 64)\n",
      "-- iteration 0 --\n",
      "| F( p_n ) |^2: 8.05648611886e-05\n",
      "| p_n+1 - p_n |^2: 0.352079185376\n",
      "-- iteration 1 --\n",
      "| F( p_n ) |^2: 3.12512226132e-31\n",
      "Min, Max element width: \n",
      "0.00938\n",
      "0.02187\n"
     ]
    }
   ],
   "source": [
    "###########\n",
    "#Mesh refinement\n",
    "###########\n",
    "\n",
    "if refineMesh:\n",
    "    #Y-Axis\n",
    "    axis = 1\n",
    "    origcoords = np.linspace(mesh.minCoord[axis], mesh.maxCoord[axis], mesh.elementRes[axis] + 1)\n",
    "    edge_rest_lengths = np.diff(origcoords)\n",
    "\n",
    "    deform_lengths = edge_rest_lengths.copy()\n",
    "    min_point =  (mesh.maxCoord[axis])\n",
    "    el_reduction = 0.6001\n",
    "    dx = mesh.maxCoord[axis]\n",
    "\n",
    "    deform_lengths = deform_lengths - \\\n",
    "                                    ((1.-el_reduction)*deform_lengths[0]) + \\\n",
    "                                    abs((origcoords[1:] - min_point))*((0.5*deform_lengths[0])/dx)\n",
    "\n",
    "    #print(edge_rest_lengths.shape, deform_lengths.shape)\n",
    "\n",
    "    spmesh.deform_1d(deform_lengths, mesh,axis = 'y',norm = 'Min', constraints = yconst)"
   ]
  },
  {
   "cell_type": "markdown",
   "metadata": {},
   "source": [
    "Initial conditions\n",
    "-------\n"
   ]
  },
  {
   "cell_type": "code",
   "execution_count": 306,
   "metadata": {
    "collapsed": false
   },
   "outputs": [],
   "source": [
    "coordinate = fn.input()\n",
    "depthFn = 1. - coordinate[1] #a function providing the depth\n",
    "xFn = coordinate[0]  #a function providing the x-coordinate\n",
    "\n",
    "potTempFn = ndp.TPP + (depthFn)*ndp.TaP #a function providing the adiabatic temp at any depth\n",
    "abHeatFn = -1.*velocityField[1]*temperatureField*ndp.Di #a function providing the adiabatic heating rate"
   ]
  },
  {
   "cell_type": "code",
   "execution_count": null,
   "metadata": {
    "collapsed": false
   },
   "outputs": [],
   "source": []
  },
  {
   "cell_type": "code",
   "execution_count": 307,
   "metadata": {
    "collapsed": false
   },
   "outputs": [],
   "source": [
    "###########\n",
    "#Thermal initial condition:\n",
    "#if symmetricIC, we build a symmetric downwelling on top of a sinusoidal perturbation\n",
    "##########\n",
    "\n",
    "#Sinusoidal initial condition\n",
    "A = 0.2\n",
    "sinFn = depthFn + A*(fn.math.cos( math.pi * coordinate[0])  * fn.math.sin( math.pi * coordinate[1] ))        \n",
    "iD = 1000e3/dp.LS #Initial Slab depth\n",
    "dl =  2*math.sqrt(dp.k*160e6*3600*24*365) #diffusion Length at ... My\n",
    "w0 = dl/dp.LS #Boundary layer/slab initial condition\n",
    "delX1 = fn.misc.min(fn.math.abs(coordinate[0] - -0.), fn.math.abs(coordinate[0] - -2.))\n",
    "delX = fn.misc.min(delX1 , fn.math.abs(coordinate[0] - 2.))\n",
    "w = w0*fn.math.sqrt(delX + 1e-7)\n",
    "tempBL = (potTempFn) *fn.math.erf((depthFn)/w) + ndp.TSP\n",
    "delX = fn.misc.min(fn.math.abs(coordinate[0] - - 1.) , fn.math.abs(coordinate[0] - 1.))\n",
    "tempSlab = (potTempFn ) *fn.math.erf((delX*2.)/w0) + ndp.TSP       \n",
    "tempFn1 =  fn.misc.min(tempBL, tempSlab)\n",
    "blFn = fn.branching.conditional([(depthFn < iD, tempFn1), \n",
    "                                    (True, potTempFn)])\n",
    "\n",
    "tempFn = 0.*sinFn + 1.*blFn #partition the temp between these the symmetric downwelling and sinusoid\n",
    "if symmetricIC:  \n",
    "    if not checkpointLoad:\n",
    "        temperatureField.data[:] = tempFn.evaluate(mesh)  "
   ]
  },
  {
   "cell_type": "code",
   "execution_count": 308,
   "metadata": {
    "collapsed": false
   },
   "outputs": [],
   "source": [
    "###########\n",
    "#Thermal initial condition 2: \n",
    "#if symmetricIC == False, we build an asymmetric subduction-zone\n",
    "###########\n",
    "\n",
    "#Main control paramters are:\n",
    "\n",
    "#Roc = 550e3 #radius of curvature of slab\n",
    "Roc = 550e3 #radius of curvature of slab\n",
    "\n",
    "theta = 89. #Angle to truncate the slab (can also do with with a cutoff depth)\n",
    "subzone = 0.0 #X position of subduction zone...in model coordinates\n",
    "slabmaxAge = 160e6 #age of subduction plate at trench\n",
    "platemaxAge = 160e6 #max age of slab (Plate model)\n",
    "ageAtTrenchSeconds = min(platemaxAge*(3600*24*365), slabmaxAge*(3600*24*365))\n",
    "\n",
    "\n",
    "sense = 'Right' #dip direction\n",
    "op_age_fac = 1. #this controls the overidding plate speed, hence age reduction\n",
    "\n",
    "\n",
    "#First build the top TBL\n",
    "#Create functions between zero and one, to control age distribution\n",
    "ageFn1 = fn.misc.max(0., (1. - 1.1*fn.math.abs(xFn)/(aspectRatio/2.) ))\n",
    "ageFn  = fn.branching.conditional([(coordinate[0] <= 0, ageFn1),\n",
    "                                  (True, ageFn1/op_age_fac)])\n",
    "\n",
    "#dimensionlize the age function\n",
    "ageFn *= slabmaxAge*(3600*24*365)\n",
    "#ageFn = fn.misc.min(ageFn, platemaxAge*(3600*24*365)) #apply plate model\n",
    "\n",
    "w0 = (2.*math.sqrt(dp.k*ageAtTrenchSeconds))/dp.LS #diffusion depth of plate at the trench\n",
    "\n",
    "tempBL = (potTempFn) *fn.math.erf((depthFn*dp.LS)/(2.*fn.math.sqrt(dp.k*ageFn))) + ndp.TSP #boundary layer function\n",
    "\n",
    "tempTBL =  fn.branching.conditional([(depthFn < w0, tempBL),\n",
    "                          (True, potTempFn)])\n",
    "\n",
    "if not symmetricIC:\n",
    "    if not checkpointLoad:\n",
    "        out = uw.utils.MeshVariable_Projection( temperatureField, tempTBL) #apply function with projection\n",
    "        out.solve()\n",
    "\n",
    "\n",
    "#Now build the perturbation part\n",
    "def inCircleFnGenerator(centre, radius):\n",
    "    coord = fn.input()\n",
    "    offsetFn = coord - centre\n",
    "    return fn.math.dot( offsetFn, offsetFn ) < radius**2\n",
    "\n",
    "#Setup slab perturbation params (mostly dimensionlesl / model params here)\n",
    "phi = 90. - theta\n",
    "RocM = (Roc/dp.LS)\n",
    "CrustM = MANTLETOCRUST\n",
    "Org = (subzone, 1.-RocM)\n",
    "maxDepth = 250e3/dp.LS\n",
    "\n",
    "#We use three circles to define our slab and crust perturbation,  \n",
    "Oc = inCircleFnGenerator(Org , RocM)\n",
    "Ic = inCircleFnGenerator(Org , RocM - w0)\n",
    "Cc = inCircleFnGenerator(Org , RocM - (1.5*CrustM)) #Twice as wide as ordinary crust, weak zone on 'outside' of slab\n",
    "dx = (RocM)/(np.math.tan((np.math.pi/180.)*phi))\n",
    "\n",
    "#We'll also create a triangle which will truncate the circles defining the slab...\n",
    "if sense == 'Left':\n",
    "    ptx = subzone - dx\n",
    "else:\n",
    "    ptx = subzone + dx\n",
    "coords = ((0.+subzone, 1), (0.+subzone, 1.-RocM), (ptx, 1.))\n",
    "Tri = fn.shape.Polygon(np.array(coords))\n",
    "\n",
    "#Actually apply the perturbation\n",
    "if not symmetricIC:\n",
    "    if not checkpointLoad:\n",
    "        sdFn = ((RocM - fn.math.sqrt((coordinate[0] - Org[0])**2. + (coordinate[1] - Org[1])**2.)))\n",
    "        slabFn = ndp.TPP*fn.math.erf((sdFn*dp.LS)/(2.*math.sqrt(dp.k*ageAtTrenchSeconds))) + ndp.TSP\n",
    "        for index, coord in enumerate(mesh.data):\n",
    "            if (\n",
    "                Oc.evaluate(tuple(coord)) and\n",
    "                Tri.evaluate(tuple(coord)) and not\n",
    "                Ic.evaluate(tuple(coord)) and\n",
    "                coord[1] > (1. - maxDepth)\n",
    "                ): #In the quarter-circle defining the lithosphere\n",
    "                temperatureField.data[index] = slabFn.evaluate(mesh)[index]\n",
    "\n"
   ]
  },
  {
   "cell_type": "code",
   "execution_count": 309,
   "metadata": {
    "collapsed": false
   },
   "outputs": [],
   "source": [
    "#Make sure material in sticky air region is at the surface temperature.\n",
    "for index, coord in enumerate(mesh.data):\n",
    "            if coord[1] >= 1.:\n",
    "                temperatureField.data[index] = ndp.TSP"
   ]
  },
  {
   "cell_type": "code",
   "execution_count": 310,
   "metadata": {
    "collapsed": false
   },
   "outputs": [],
   "source": [
    "#fn.math.erf((sdFn*dp.LS)/(2.*fn.math.sqrt(dp.k*(slabmaxAge*(3600*24*365))))) "
   ]
  },
  {
   "cell_type": "code",
   "execution_count": 311,
   "metadata": {
    "collapsed": false,
    "scrolled": true
   },
   "outputs": [
    {
     "data": {
      "text/html": [
       "<img src='data:image/png;base64,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'>"
      ],
      "text/plain": [
       "<IPython.core.display.HTML object>"
      ]
     },
     "metadata": {},
     "output_type": "display_data"
    }
   ],
   "source": [
    "fig= glucifer.Figure()\n",
    "fig.append( glucifer.objects.Surface(mesh, temperatureField))\n",
    "\n",
    "#fig.append(glucifer.objects.Mesh(mesh))\n",
    "#fig.save_database('test.gldb')\n",
    "\n",
    "#fig.show()"
   ]
  },
  {
   "cell_type": "markdown",
   "metadata": {},
   "source": [
    "def matplot_field(temperatureField, dp):\n",
    "    if uw.nProcs() != 1:\n",
    "        print(\"only in Serial folks\")\n",
    "    else:\n",
    "        import matplotlib.pyplot as pyplt\n",
    "        try :\n",
    "            if(__IPYTHON__) :\n",
    "                get_ipython().magic(u'matplotlib inline')\n",
    "        except NameError :\n",
    "            pass\n",
    "        field_data = temperatureField.data.reshape(mesh.elementRes[1] + 1, mesh.elementRes[0] + 1)\n",
    "        fig, ax = pyplt.subplots()\n",
    "        ql = dp.LS/1e3\n",
    "        pyplt.ioff()\n",
    "        ax.imshow(np.flipud(field_data), cmap='coolwarm', extent=[0,ql*aspectRatio,ql, 0])\n",
    "        #ax.set_x([0,dp.LS*aspectRatio])\n",
    "        \n",
    "        return fig, ax\n",
    "        \n",
    "fig, ax = matplot_field(temperatureField, dp)\n",
    "#show_colormap('cubehelix')        "
   ]
  },
  {
   "cell_type": "markdown",
   "metadata": {},
   "source": [
    "Boundary conditions\n",
    "-------"
   ]
  },
  {
   "cell_type": "code",
   "execution_count": 312,
   "metadata": {
    "collapsed": false
   },
   "outputs": [
    {
     "name": "stdout",
     "output_type": "stream",
     "text": [
      "2\n"
     ]
    }
   ],
   "source": [
    "for index in mesh.specialSets[\"MinJ_VertexSet\"]:\n",
    "    temperatureField.data[index] = ndp.TBP\n",
    "for index in mesh.specialSets[\"MaxJ_VertexSet\"]:\n",
    "    temperatureField.data[index] = ndp.TSP\n",
    "    \n",
    "iWalls = mesh.specialSets[\"MinI_VertexSet\"] + mesh.specialSets[\"MaxI_VertexSet\"]\n",
    "jWalls = mesh.specialSets[\"MinJ_VertexSet\"] + mesh.specialSets[\"MaxJ_VertexSet\"]\n",
    "tWalls = mesh.specialSets[\"MaxJ_VertexSet\"]\n",
    "bWalls =mesh.specialSets[\"MinJ_VertexSet\"]\n",
    "\n",
    "VelBCs = mesh.specialSets[\"Empty\"]\n",
    "\n",
    "\n",
    "\n",
    "if VelBC:\n",
    "    for index in list(tWalls.data):\n",
    "\n",
    "        if (mesh.data[int(index)][0] < (subzone - 0.05*aspectRatio) and \n",
    "            mesh.data[int(index)][0] > (mesh.minCoord[0] + 0.05*aspectRatio)): #Only push with a portion of teh overiding plate\n",
    "            #print \"first\"\n",
    "            VelBCs.add(int(index))\n",
    "            #Set the plate velocities for the kinematic phase\n",
    "            velocityField.data[index] = [ndp.plate_vel, 0.]\n",
    "        \n",
    "        elif (mesh.data[int(index)][0] > (subzone + 0.05*aspectRatio) and \n",
    "            mesh.data[int(index)][0] < (mesh.maxCoord[0] - 0.05*aspectRatio)):\n",
    "            #print \"second\"\n",
    "            VelBCs.add(int(index))\n",
    "            #Set the plate velocities for the kinematic phase\n",
    "            velocityField.data[index] = [0., 0.]\n",
    "        \n",
    "\n",
    "#If periodic, we'll fix a the x-vel at a single node - at the bottom left (index 0)\n",
    "Fixed = mesh.specialSets[\"Empty\"]\n",
    "Fixed.add(int(0))        \n",
    "        \n",
    "\n",
    "if periodic[0] == False:\n",
    "    if VelBC:\n",
    "        print(1)\n",
    "        freeslipBC = uw.conditions.DirichletCondition( variable      = velocityField, \n",
    "                                               indexSetsPerDof = ( iWalls + VelBCs, jWalls) )\n",
    "    else:\n",
    "        print(2)\n",
    "        freeslipBC = uw.conditions.DirichletCondition( variable      = velocityField, \n",
    "                                               indexSetsPerDof = ( iWalls, jWalls) )\n",
    "\n",
    "\n",
    "\n",
    "\n",
    "\n",
    "\n",
    "if periodic[0] == True:\n",
    "    if VelBC:\n",
    "        print(3)\n",
    "        freeslipBC = uw.conditions.DirichletCondition( variable      = velocityField, \n",
    "                                               indexSetsPerDof = ( Fixed + VelBCs , jWalls) )\n",
    "    else:\n",
    "        print(4)\n",
    "        freeslipBC = uw.conditions.DirichletCondition( variable      = velocityField, \n",
    "                                               indexSetsPerDof = ( Fixed, jWalls) )\n",
    "        \n",
    "    \n",
    "    \n",
    "    \n",
    "# also set dirichlet for temp field\n",
    "dirichTempBC = uw.conditions.DirichletCondition(     variable=temperatureField, \n",
    "                                              indexSetsPerDof=(tWalls,) )\n",
    "dT_dy = [0.,0.]\n",
    "\n",
    "# also set dirichlet for temp field\n",
    "neumannTempBC = uw.conditions.NeumannCondition( dT_dy, variable=temperatureField, \n",
    "                                         nodeIndexSet=bWalls)\n",
    "\n"
   ]
  },
  {
   "cell_type": "code",
   "execution_count": null,
   "metadata": {
    "collapsed": false
   },
   "outputs": [],
   "source": []
  },
  {
   "cell_type": "code",
   "execution_count": 313,
   "metadata": {
    "collapsed": false
   },
   "outputs": [],
   "source": [
    "#check VelBCs are where we want them\n",
    "#test = np.zeros(len(tWalls.data))\n",
    "#VelBCs\n",
    "#tWalls.data\n",
    "#tWalls.data[VelBCs.data]\n",
    "#test[np.in1d(tWalls.data, VelBCs.data)] = 1.\n",
    "#test\n",
    "\n"
   ]
  },
  {
   "cell_type": "code",
   "execution_count": null,
   "metadata": {
    "collapsed": false
   },
   "outputs": [],
   "source": []
  },
  {
   "cell_type": "markdown",
   "metadata": {},
   "source": [
    "Swarm setup\n",
    "-----\n"
   ]
  },
  {
   "cell_type": "code",
   "execution_count": 314,
   "metadata": {
    "collapsed": false
   },
   "outputs": [],
   "source": [
    "###########\n",
    "#Material Swarm and variables\n",
    "###########\n",
    "\n",
    "#create material swarm\n",
    "gSwarm = uw.swarm.Swarm(mesh=mesh, particleEscape=True)\n",
    "\n",
    "#create swarm variables\n",
    "yieldingCheck = gSwarm.add_variable( dataType=\"int\", count=1 )\n",
    "tracerVariable = gSwarm.add_variable( dataType=\"int\", count=1)\n",
    "materialVariable = gSwarm.add_variable( dataType=\"int\", count=1 )\n",
    "ageVariable = gSwarm.add_variable( dataType=\"float\", count=1 )\n",
    "\n",
    "\n",
    "#these lists  are part of the checkpointing implementation\n",
    "varlist = [tracerVariable, tracerVariable, yieldingCheck]\n",
    "varlist = [materialVariable, yieldingCheck, ageVariable]\n",
    "varnames = ['materialVariable', 'yieldingCheck', 'ageVariable']"
   ]
  },
  {
   "cell_type": "code",
   "execution_count": 315,
   "metadata": {
    "collapsed": false
   },
   "outputs": [],
   "source": [
    "mantleIndex = 0\n",
    "crustIndex = 1\n",
    "harzIndex = 2\n",
    "airIndex = 3\n",
    "\n",
    "\n",
    "\n",
    "if checkpointLoad:\n",
    "    checkpointLoadDir = natsort.natsort(checkdirs)[-1]\n",
    "    temperatureField.load(os.path.join(checkpointLoadDir, \"temperatureField\" + \".hdf5\"))\n",
    "    pressureField.load(os.path.join(checkpointLoadDir, \"pressureField\" + \".hdf5\"))\n",
    "    velocityField.load(os.path.join(checkpointLoadDir, \"velocityField\" + \".hdf5\"))\n",
    "    gSwarm.load(os.path.join(checkpointLoadDir, \"swarm\" + \".h5\"))\n",
    "    for ix in range(len(varlist)):\n",
    "        varb = varlist[ix]\n",
    "        varb.load(os.path.join(checkpointLoadDir,varnames[ix] + \".h5\"))\n",
    "\n",
    "else:\n",
    "\n",
    "    # Layouts are used to populate the swarm across the whole domain\n",
    "    layout = uw.swarm.layouts.PerCellRandomLayout(swarm=gSwarm, particlesPerCell=ppc)\n",
    "    gSwarm.populate_using_layout( layout=layout ) # Now use it to populate.\n",
    "    # Swarm variables\n",
    "    materialVariable.data[:] = mantleIndex\n",
    "    tracerVariable.data[:] = 1\n",
    "    yieldingCheck.data[:] = 0\n",
    "    ageVariable.data[:] = -1\n",
    "\n",
    "    #Set initial air and crust materials (allow the graph to take care of lithsophere)\n",
    "    #########\n",
    "    #This initial material setup will be model dependent\n",
    "    #########\n",
    "    for particleID in range(gSwarm.particleCoordinates.data.shape[0]):\n",
    "        if (1. - gSwarm.particleCoordinates.data[particleID][1]) < MANTLETOCRUST:\n",
    "                 materialVariable.data[particleID] = crustIndex"
   ]
  },
  {
   "cell_type": "code",
   "execution_count": 316,
   "metadata": {
    "collapsed": false
   },
   "outputs": [],
   "source": [
    "###########\n",
    "#This block sets up a checkboard layout of passive tracers\n",
    "###########\n",
    "\n",
    "square_size = 0.1\n",
    "xlist = np.arange(mesh.minCoord[0] + square_size/2., mesh.maxCoord[0] + square_size/2., square_size)\n",
    "xlist = zip(xlist[:], xlist[1:])[::2]\n",
    "ylist = np.arange(mesh.minCoord[1] + square_size/2., mesh.maxCoord[1] + square_size/2., square_size)\n",
    "ylist = zip(ylist[:], ylist[1:])[::2]\n",
    "xops = []\n",
    "for vals in xlist:\n",
    "    xops.append( (operator.and_(   operator.gt(coordinate[0],vals[0]),   operator.lt(coordinate[0],vals[1])  ),0.) )\n",
    "xops.append((True,1.))\n",
    "\n",
    "testfunc = fn.branching.conditional(xops) \n",
    "\n",
    "yops = []\n",
    "for vals in ylist:\n",
    "    yops.append( (operator.and_(   operator.gt(coordinate[1],vals[0]),   operator.lt(coordinate[1],vals[1])  ),0.) )\n",
    "yops.append((True,testfunc))\n",
    "\n",
    "testfunc2 = fn.branching.conditional(yops) \n",
    "tracerVariable.data[:] = testfunc.evaluate(gSwarm)\n",
    "tracerVariable.data[:] = testfunc2.evaluate(gSwarm)"
   ]
  },
  {
   "cell_type": "code",
   "execution_count": 317,
   "metadata": {
    "collapsed": false
   },
   "outputs": [
    {
     "data": {
      "text/plain": [
       "array([  0.00000000e+00,   1.99999995e-05], dtype=float32)"
      ]
     },
     "execution_count": 317,
     "metadata": {},
     "output_type": "execute_result"
    }
   ],
   "source": [
    "#Set the inital particle age, for particles above the critical depth \n",
    "#(only these will be transformed to crust / harzburgite)\n",
    "\n",
    "ageVariable.data[:] = 0. #start with all zeor\n",
    "crustageCond = 1e-05 #set inital age above critical depth. (about 1.2 Ma.) Might have to be shorter than this - need to experiment\n",
    "ageDT = crustageCond + 1e-5 #initalize ages\n",
    "ageConditions = [ (depthFn < 100e3/dp.LS , ageDT),  \n",
    "                  (True, 0.) ]\n",
    "                 \n",
    "\n",
    "ageEval = fn.branching.conditional( ageConditions ).evaluate(gSwarm)\n",
    "ageVariable.data[np.where(ageEval == 0)] = 0 #If below the critical depth, age is set to zero\n",
    "ageVariable.data[np.where(ageEval != 0)] += ageDT #If age above critical depth, increment age\n",
    "\n",
    "np.unique(ageVariable.data)"
   ]
  },
  {
   "cell_type": "markdown",
   "metadata": {
    "collapsed": false
   },
   "source": [
    "Swarm control (material graph)\n",
    "-----\n",
    "\n"
   ]
  },
  {
   "cell_type": "code",
   "execution_count": null,
   "metadata": {
    "collapsed": false
   },
   "outputs": [],
   "source": [
    "\n"
   ]
  },
  {
   "cell_type": "code",
   "execution_count": 318,
   "metadata": {
    "collapsed": false
   },
   "outputs": [],
   "source": [
    "##############\n",
    "#Here we set up a directed graph object that we we use to control the transformation from one material type to another\n",
    "##############\n",
    "\n",
    "#All depth conditions are given as (km/D) where D is the length scale,\n",
    "#note that 'model depths' are used, e.g. 1-z, where z is the vertical Underworld coordinate\n",
    "#All temp conditions are in dimensionless temp. [0. - 1.]\n",
    "\n",
    "#This is a quick fix for a bug that arises in parallel runs\n",
    "material_list = [0,1,2,3]\n",
    "\n",
    "if not checkpointLoad:\n",
    "    materialVariable.data[:] = 0 #Initialize to zero \n",
    "\n",
    "#Setup the graph object\n",
    "DG = material_graph.MatGraph()\n",
    "\n",
    "#Important: First thing to do is to add all the material types to the graph (i.e add nodes)\n",
    "DG.add_nodes_from(material_list)\n",
    "\n",
    "#Now set the conditions for transformations\n",
    "\n",
    "#... to mantle\n",
    "DG.add_transition((crustIndex,mantleIndex), depthFn, operator.gt, CRUSTTOMANTLE)\n",
    "DG.add_transition((harzIndex,mantleIndex), depthFn, operator.gt, CRUSTTOMANTLE)\n",
    "#DG.add_transition((airIndex,mantleIndex), depthFn, operator.gt, TOPOHEIGHT)\n",
    "\n",
    "#... to crust\n",
    "DG.add_transition((mantleIndex,crustIndex), depthFn, operator.lt, MANTLETOCRUST)\n",
    "DG.add_transition((mantleIndex,crustIndex), xFn, operator.lt, 0.) #No crust on the upper plate\n",
    "DG.add_transition((mantleIndex,crustIndex), ageVariable, operator.gt, crustageCond)\n",
    "\n",
    "DG.add_transition((harzIndex,crustIndex), depthFn, operator.lt, MANTLETOCRUST)\n",
    "DG.add_transition((harzIndex,crustIndex), xFn, operator.lt, 0.) #This one sets no crust on the upper plate\n",
    "DG.add_transition((harzIndex,crustIndex), ageVariable, operator.gt, crustageCond)\n",
    "\n",
    "#... to Harzbugite\n",
    "DG.add_transition((mantleIndex,harzIndex), depthFn, operator.lt, HARZBURGDEPTH)\n",
    "DG.add_transition((mantleIndex,harzIndex), depthFn, operator.gt, MANTLETOCRUST)\n",
    "DG.add_transition((mantleIndex,harzIndex), ageVariable, operator.gt, crustageCond) #Note we can mix functions and swarm variabls\n",
    "\n",
    "#... to air\n",
    "#DG.add_transition((mantleIndex,airIndex), depthFn, operator.lt,0. - TOPOHEIGHT)\n",
    "#DG.add_transition((crustIndex,airIndex), depthFn, operator.lt, 0. - TOPOHEIGHT)\n",
    "\n"
   ]
  },
  {
   "cell_type": "code",
   "execution_count": 319,
   "metadata": {
    "collapsed": false
   },
   "outputs": [
    {
     "data": {
      "text/plain": [
       "(0.1, 0.02135)"
      ]
     },
     "execution_count": 319,
     "metadata": {},
     "output_type": "execute_result"
    }
   ],
   "source": [
    "CRUSTTOMANTLE, HARZBURGDEPTH"
   ]
  },
  {
   "cell_type": "code",
   "execution_count": 320,
   "metadata": {
    "collapsed": false
   },
   "outputs": [],
   "source": [
    "##############\n",
    "#For the slab_IC, we'll also add a crustal weak zone following the dipping perturbation\n",
    "##############\n",
    "\n",
    "if checkpointLoad != True:\n",
    "    if not symmetricIC:\n",
    "        for particleID in range(gSwarm.particleCoordinates.data.shape[0]):\n",
    "            if (\n",
    "                Oc.evaluate(list(gSwarm.particleCoordinates.data[particleID])) and\n",
    "                Tri.evaluate(list(gSwarm.particleCoordinates.data[particleID])) and\n",
    "                Cc.evaluate(list(gSwarm.particleCoordinates.data[particleID])) == False\n",
    "                ):\n",
    "                materialVariable.data[particleID] = crustIndex"
   ]
  },
  {
   "cell_type": "code",
   "execution_count": 321,
   "metadata": {
    "collapsed": false
   },
   "outputs": [],
   "source": [
    "##############\n",
    "#This is how we use the material graph object to test / apply material transformations\n",
    "##############\n",
    "DG.build_condition_list(materialVariable)\n",
    "for i in range(3): #Need to go through a number of times\n",
    "    materialVariable.data[:] = fn.branching.conditional(DG.condition_list).evaluate(gSwarm)"
   ]
  },
  {
   "cell_type": "code",
   "execution_count": 322,
   "metadata": {
    "collapsed": false
   },
   "outputs": [],
   "source": [
    "#DG.build_condition_list(materialVariable)\n",
    "#materialVariable.data[:] = fn.branching.conditional(DG.condition_list).evaluate(gSwarm)"
   ]
  },
  {
   "cell_type": "markdown",
   "metadata": {
    "collapsed": false
   },
   "source": [
    "## Temp, phase and compositional buoyancy"
   ]
  },
  {
   "cell_type": "code",
   "execution_count": 323,
   "metadata": {
    "collapsed": true
   },
   "outputs": [],
   "source": [
    "##############\n",
    "#Put this in Slippy\n",
    "##############\n",
    "\n",
    "from easydict import EasyDict as edict\n",
    "class component_phases():\n",
    "    \"\"\"\n",
    "    Class that allows you to create 'phase functions' for a mineral component\n",
    "\n",
    "    \"\"\"\n",
    "    def __init__(self,name, depths,temps, widths,claps,densities):\n",
    "        \"\"\"\n",
    "        Class initialiser.\n",
    "        Parameter\n",
    "        ---------\n",
    "        name : str\n",
    "            'Component', e.g olivine, pyroxene-garnet\n",
    "        depths: list\n",
    "            list of transition depths in kilometers\n",
    "        widths: list \n",
    "            list of transition widths in kilometers\n",
    "        claps: list \n",
    "            list of Clapeyron slopes in Pa/K\n",
    "        densities: list\n",
    "            list of density changes in kg/m3\n",
    "        Returns\n",
    "        -------\n",
    "        mesh : dp\n",
    "        Dictionary storing the phase-transition vales\n",
    "\n",
    "        \"\"\"\n",
    "        if not isinstance(depths,list):\n",
    "            raise TypeError(\"depths object passed in must be of type 'list'\")\n",
    "        if not isinstance(temps,list):\n",
    "            raise TypeError(\"temps object passed in must be of type 'list'\")\n",
    "        if not isinstance(widths,list):\n",
    "            raise TypeError(\"widths object passed in must be of type 'list'\")\n",
    "        if not isinstance(claps,list):\n",
    "            raise TypeError(\"claps object passed in must be of type 'list'\")\n",
    "        if not isinstance(densities,list):\n",
    "            raise TypeError(\"densities object passed in must be of type 'list'\")\n",
    "        if not len(depths) == len(widths) == len(claps) == len(densities):\n",
    "            raise ValueError( \"All lists of phase values should be the same length\")\n",
    "        self.dp = edict({})\n",
    "        self.dp.name = name\n",
    "        self.dp.depths = depths\n",
    "        self.dp.temps = temps\n",
    "        self.dp.widths = widths\n",
    "        self.dp.claps = claps\n",
    "        self.dp.densities = densities\n",
    "        \n",
    "    def build_nd_dict(self, lengthscale, densityscale, gravityscale, tempscale):\n",
    "        self.ndp = edict({})\n",
    "        self.ndp.name = self.dp.name\n",
    "        self.ndp.depths = [i/lengthscale for i in self.dp.depths]\n",
    "        self.ndp.temps = [i/tempscale for i in self.dp.temps]\n",
    "        self.ndp.widths = [i/lengthscale for i in self.dp.widths]\n",
    "        self.ndp.claps = [(i*(tempscale/(densityscale*gravityscale*lengthscale))) for i in self.dp.claps]\n",
    "        \n",
    "    def nd_reduced_pressure(self, depthFn, temperatureField, depthPh, clapPh, tempPh):\n",
    "        \"\"\"\n",
    "        Creates an Underworld function, representing the 'reduced pressure'\n",
    "        \"\"\"\n",
    "        return (depthFn - depthPh) - clapPh*(temperatureField - tempPh)\n",
    "\n",
    "    def nd_phase(self, reduced_p, widthPh):\n",
    "        \"\"\"\n",
    "        Creates an Underworld function, representing the phase function in the domain\n",
    "        \"\"\"\n",
    "        return 0.5*(1. + fn.math.tanh(reduced_p/(widthPh)))\n",
    "    \n",
    "    def phase_function_sum(self, temperatureField, depthFn):\n",
    "        \"\"\"\n",
    "        Creates an Underworld function, representing the Sum of the individual phase functions:\n",
    "        -----------\n",
    "        temperatureField : underworld.mesh._meshvariable.MeshVariable\n",
    "        \n",
    "        ...need to put warning in about running build_nd_dict first \n",
    "        \"\"\"    \n",
    "        \n",
    "        pf_sum = uw.function.misc.constant(0.)\n",
    "        \n",
    "        for phaseId in range(len(self.dp['depths'])):\n",
    "            #build reduced pressure\n",
    "            rp = self.nd_reduced_pressure(depthFn, \n",
    "                                   temperatureField,\n",
    "                                   self.ndp['depths'][phaseId ],\n",
    "                                   self.ndp['claps'][phaseId ],\n",
    "                                   self.ndp['temps'][phaseId ])\n",
    "            #build phase function\n",
    "            pf = self.nd_phase(rp, self.ndp['widths'][phaseId ])\n",
    "            pf_sum += pf\n",
    "        \n",
    "        return pf_sum\n",
    "    \n",
    "    def buoyancy_sum(self, temperatureField, depthFn, gravityscale, lengthscale, diffusivityscale, viscosityscale):\n",
    "        \"\"\"\n",
    "        Creates an Underworld function, representing the Sum of the individual phase functions...\n",
    "        and the associated density changes:\n",
    "        \n",
    "        pf_sum = Sum_k{ (Ra*delRho_k*pf_k/rho_0*eta_0*delta_t)}\n",
    "        -----------\n",
    "        temperatureField : underworld.mesh._meshvariable.MeshVariable\n",
    "        \n",
    "        ...need to put warning in about running build_nd_dict first \n",
    "        \"\"\"\n",
    "        bouyancy_factor = (gravityscale*lengthscale**3)/(viscosityscale*diffusivityscale)\n",
    "        \n",
    "        pf_sum = uw.function.misc.constant(0.)\n",
    "        \n",
    "        for phaseId in range(len(self.dp['depths'])):\n",
    "            #build reduced pressure\n",
    "            rp = self.nd_reduced_pressure(depthFn, \n",
    "                                   temperatureField,\n",
    "                                   self.ndp['depths'][phaseId ],\n",
    "                                   self.ndp['claps'][phaseId ],\n",
    "                                   self.ndp['temps'][phaseId ])\n",
    "            #build phase function\n",
    "            pf = self.nd_phase(rp, self.ndp['widths'][phaseId ])\n",
    "            pf_sum += bouyancy_factor*pf*self.dp['densities'][phaseId ] #we want the dimensional densities here\n",
    "        \n",
    "        return pf_sum"
   ]
  },
  {
   "cell_type": "code",
   "execution_count": 324,
   "metadata": {
    "collapsed": false
   },
   "outputs": [],
   "source": [
    "##############\n",
    "#Set up phase buoyancy contributions\n",
    "##############\n",
    "\n",
    "\n",
    "#olivine\n",
    "olivinePhase = component_phases(name = 'ol', \n",
    "                        depths=[410e3,660e3],\n",
    "                        temps = [1600., 1900.], \n",
    "                        widths = [20e3, 20e3], \n",
    "                        claps=[2.e6, -2.5e6], \n",
    "                        densities = [180., 400.])\n",
    "\n",
    "olivinePhase.build_nd_dict(dp.LS, dp.rho, dp.g, dp.deltaTa)\n",
    "\n",
    "\n",
    "rp = olivinePhase.nd_reduced_pressure(depthFn, \n",
    "                                   temperatureField,\n",
    "                                   olivinePhase.ndp['depths'][0],\n",
    "                                   olivinePhase.ndp['claps'][0],\n",
    "                                   olivinePhase.ndp['temps'][0])\n",
    "\n",
    "#ph_410 = olivinePhase.nd_phase(rp, test.ndp['widths'][0])\n",
    "#pf_sum = test.phase_function_sum(temperatureField, depthFn)\n",
    "\n",
    "olivine_phase_buoyancy = olivinePhase.buoyancy_sum(temperatureField, depthFn, dp.g, dp.LS, dp.k, dp.eta0)\n",
    "\n",
    "#garnet\n",
    "garnetPhase = component_phases(name = 'grt', \n",
    "                        depths=[60e3,400e3, 720e3],\n",
    "                        temps = [1000., 1600., 1900.], \n",
    "                        widths = [20e3, 20e3, 20e3], \n",
    "                        claps=[0.e6, 1.e6, 1.e6], \n",
    "                        densities = [350., 150., 400.])\n",
    "\n",
    "garnetPhase.build_nd_dict(dp.LS, dp.rho, dp.g, dp.deltaTa)\n",
    "\n",
    "\n",
    "rp = garnetPhase.nd_reduced_pressure(depthFn, \n",
    "                                   temperatureField,\n",
    "                                   garnetPhase.ndp['depths'][0],\n",
    "                                   garnetPhase.ndp['claps'][0],\n",
    "                                   garnetPhase.ndp['temps'][0])\n",
    "\n",
    "#ph_410 = olivinePhase.nd_phase(rp, test.ndp['widths'][0])\n",
    "#pf_sum = test.phase_function_sum(temperatureField, depthFn)\n",
    "\n",
    "garnet_phase_buoyancy = garnetPhase.buoyancy_sum(temperatureField, depthFn, dp.g, dp.LS, dp.k, dp.eta0)"
   ]
  },
  {
   "cell_type": "code",
   "execution_count": 325,
   "metadata": {
    "collapsed": false
   },
   "outputs": [
    {
     "name": "stdout",
     "output_type": "stream",
     "text": [
      "(282240000.0, 50960000.0, 0.0)\n"
     ]
    }
   ],
   "source": [
    "##############\n",
    "#Set up compositional buoyancy contributions\n",
    "##############\n",
    "\n",
    "bouyancy_factor = (dp.g*dp.LS**3)/(dp.eta0*dp.k)\n",
    "\n",
    "basalt_comp_buoyancy  = (dp.rho - 2940.)*bouyancy_factor\n",
    "harz_comp_buoyancy = (dp.rho - 3235.)*bouyancy_factor\n",
    "pyrolite_comp_buoyancy = (dp.rho - 3300.)*bouyancy_factor\n",
    "\n",
    "print(basalt_comp_buoyancy, harz_comp_buoyancy, pyrolite_comp_buoyancy)"
   ]
  },
  {
   "cell_type": "code",
   "execution_count": 326,
   "metadata": {
    "collapsed": false
   },
   "outputs": [],
   "source": [
    "#this accounts for the decreas in expansivity\n",
    "alphaRatio = 1.2/3\n",
    "taFn = 1. - (depthFn)*(1. - alphaRatio) \n",
    "#raylieghFn = ndp.RA*temperatureField*taFn\n",
    "\n",
    "\n",
    "if not compBuoyancy:\n",
    "    pyrolitebuoyancyFn =  (ndp.RA*temperatureField*taFn)\n",
    "    harzbuoyancyFn =      (ndp.RA*temperatureField*taFn) \n",
    "    basaltbuoyancyFn =    (ndp.RA*temperatureField*taFn)\n",
    "\n",
    "else : \n",
    "    pyrolitebuoyancyFn =  (ndp.RA*temperatureField*taFn) -\\\n",
    "                          (0.6*olivine_phase_buoyancy + 0.4*garnet_phase_buoyancy) +\\\n",
    "                           pyrolite_comp_buoyancy\n",
    "    harzbuoyancyFn =      (ndp.RA*temperatureField*taFn) -\\\n",
    "                          (0.8*olivine_phase_buoyancy + 0.2*garnet_phase_buoyancy) +\\\n",
    "                           harz_comp_buoyancy\n",
    "    basaltbuoyancyFn =    (ndp.RA*temperatureField*taFn) -\\\n",
    "                          (1.*garnet_phase_buoyancy) +\\\n",
    "                           basalt_comp_buoyancy"
   ]
  },
  {
   "cell_type": "markdown",
   "metadata": {},
   "source": [
    "Rheology\n",
    "-----\n",
    "\n"
   ]
  },
  {
   "cell_type": "code",
   "execution_count": 327,
   "metadata": {
    "collapsed": false
   },
   "outputs": [],
   "source": [
    "# The yeilding of the upper slab is dependent on the strain rate.\n",
    "strainRate_2ndInvariant = fn.tensor.second_invariant( \n",
    "                            fn.tensor.symmetric( \n",
    "                            velocityField.fn_gradient ))\n",
    "\n"
   ]
  },
  {
   "cell_type": "code",
   "execution_count": 328,
   "metadata": {
    "collapsed": false
   },
   "outputs": [],
   "source": [
    "ViscReduce = 1.\n",
    "\n",
    "ndp.Wds *= ViscReduce\n",
    "ndp.Wdf *= ViscReduce\n",
    "ndp.Eds *= ViscReduce\n",
    "ndp.Edf *= ViscReduce"
   ]
  },
  {
   "cell_type": "code",
   "execution_count": 329,
   "metadata": {
    "collapsed": false
   },
   "outputs": [
    {
     "data": {
      "text/plain": [
       "(49.15683109565078, 17.875211307509375, 28.301795831549015, 19.75229500743525)"
      ]
     },
     "execution_count": 329,
     "metadata": {},
     "output_type": "execute_result"
    }
   ],
   "source": [
    "ndp.Wds, ndp.Wdf, ndp.Eds, ndp.Edf"
   ]
  },
  {
   "cell_type": "code",
   "execution_count": 330,
   "metadata": {
    "collapsed": false
   },
   "outputs": [],
   "source": [
    "############\n",
    "#Rheology\n",
    "#############\n",
    "#\n",
    "#The final mantle rheology is composed as follows*:\n",
    "# \n",
    "#\n",
    "# mantleviscosityFn = max{  min{(1/omega*Visc + 1/eta_p)**-1,\n",
    "#                           eta_max},\n",
    "#                           eta_min}\n",
    "#                      \n",
    "#Visc => min{diffusionCreep, dislocationCreep, }\n",
    "#eta_p   => stress-limiting effective viscosity\n",
    "#\n",
    "\n",
    "omega = fn.misc.constant(1.)\n",
    "\n",
    "if meltViscosityReduction:\n",
    "    mvr =  fn.branching.conditional( [ (temperatureField > (ndp.Tmvp + 7.5*(1. - coordinate[1])) , 0.1 ),   (         True, 1.) ] )\n",
    "    omega = omega*mvr\n",
    "\n",
    "\n",
    "#implementation of the lower mantle viscosity increase, similar to Bello et al. 2015\n",
    "a = 1.\n",
    "B = 30.\n",
    "d0 = 660e3/dp.LS  \n",
    "ds = d0/10.\n",
    "if lowerMantle:\n",
    "    inner1 = 1. - 0.5*(1. - fn.math.tanh(((1. - d0)-(coordinate[1]))/(ds)))\n",
    "    modfac = a*fn.math.exp(np.log(B)*inner1)\n",
    "    omega = omega*modfac\n",
    "\n",
    "\n",
    "##Diffusion Creep\n",
    "ndfp = fn.misc.min(ndp.eta_max, fn.math.exp( ((ndp.Edf + (depthFn*ndp.Wdf))/((temperatureField + ndp.TS))) - \n",
    "              ((ndp.Edf + (ndp.Dr*ndp.Wdf))/((ndp.TPP + ndp.TS)))  ))\n",
    "\n",
    "linearVisc = fn.misc.min(ndp.eta_max, ndfp)\n",
    "\n",
    "##Dislocation Creep\n",
    "nl_correction = (strainRate_2ndInvariant/ndp.SR)**((1.-ndp.n)/(ndp.n))\n",
    "\n",
    "\n",
    "ndsp = fn.misc.min(ndp.eta_max,(nl_correction)*fn.math.exp( ((ndp.Eds + (depthFn*ndp.Wds))/(ndp.n*(temperatureField + ndp.TS))) -\n",
    "                                     ((ndp.Eds + (ndp.Dr*ndp.Wds))/(ndp.n*(ndp.TPP + ndp.TS)))))\n",
    "\n",
    "\n",
    "##Combine the creep mechanisms\n",
    "#Visc = fn.misc.max(fn.misc.min(ndp.eta_max, fn.misc.min(ndfp, ndsp)), ndp.eta_min) #Minima approach\n",
    "Visc = 2.*fn.misc.max(fn.misc.min(ndp.eta_max, ((1./ndfp) + (1./ndfp))**-1.), ndp.eta_min)  #the 2. corrects for the halving of the visc. max. otherwise\n",
    "\n",
    "\n",
    "\n",
    "##Define the Plasticity\n",
    "ys =  ndp.cohesion + (depthFn*ndp.fcd)\n",
    "#ys =  ndp.cohesion\n",
    "yielding = ys/(strainRate_2ndInvariant) #extra factor to account for underworld second invariant form\n",
    "\n",
    "\n",
    "#Combine the viscous creep and plasticity\n",
    "#mantleviscosityFn = fn.misc.max(fn.misc.min(1./(((1./Visc) + (1./yielding))), ndp.eta_max), ndp.eta_min)\n",
    "mantleviscosityFn = fn.misc.max(fn.misc.min(fn.misc.min(Visc, yielding), ndp.eta_max), ndp.eta_min)\n",
    "\n",
    "lowMantleDepth = 660e3\n",
    "lowMantleViscFac = 1.\n",
    "finalviscosityFn  = fn.branching.conditional([(depthFn < lowMantleDepth/dp.LS, mantleviscosityFn),\n",
    "                                  (True, ndfp*lowMantleViscFac)])\n",
    "\n",
    "\n",
    "#fn.misc.min(Visc, yielding)\n",
    "\n",
    "#lower mantle rheology\n",
    "\n",
    "#ndflm = fn.misc.min(ndp.eta_max, fn.math.exp( ((ndp.Elm + (depthFn*ndp.Wlm))/((temperatureField + ndp.TS))) - \n",
    "#              ((ndp.Elm + (ndp.Dr*ndp.Wlm))/((ndp.TPP + ndp.TS)))  ))\n",
    "\n",
    "#I ignored Cizkova's lower mantle diffusion creep parameters, \n",
    "#as they appeared to give lower values that the upper mantle rheology, i.e a visc. decrease at 660.\n",
    "#lm_increase = 1.\n",
    "#lowermantleviscosityFn = fn.misc.max(lm_increase*ndfp, ndp.eta_min)\n",
    "\n",
    "\n",
    "##Crust rheology\n",
    "#reduceFac = 0.1\n",
    "#ysc =  reduceFac*ndp.cohesion + reduceFac*(depthFn*gamma*ndp.RA) #In this case we'll use a valid cohesion\n",
    "#crust_yielding = ysc/(strainRate_2ndInvariant/math.sqrt(0.5)) #extra factor to account for underworld second invariant form\n",
    "#crustviscosityFn = fn.misc.max(fn.misc.min(1./(((1./Visc) + (1./crust_yielding))), ndp.eta_max), ndp.eta_min)\n"
   ]
  },
  {
   "cell_type": "code",
   "execution_count": 331,
   "metadata": {
    "collapsed": false
   },
   "outputs": [
    {
     "data": {
      "text/plain": [
       "99999.999999999985"
      ]
     },
     "execution_count": 331,
     "metadata": {},
     "output_type": "execute_result"
    }
   ],
   "source": [
    "mantleviscosityFn.evaluate(mesh).max()"
   ]
  },
  {
   "cell_type": "code",
   "execution_count": 332,
   "metadata": {
    "collapsed": false
   },
   "outputs": [
    {
     "data": {
      "text/html": [
       "<img src='data:image/png;base64,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'>"
      ],
      "text/plain": [
       "<IPython.core.display.HTML object>"
      ]
     },
     "metadata": {},
     "output_type": "display_data"
    }
   ],
   "source": [
    "fig= glucifer.Figure()\n",
    "#fig.append( glucifer.objects.Points(gSwarm, densityMapFn))\n",
    "fig.append( glucifer.objects.Surface(mesh, finalviscosityFn, logScale=True))\n",
    "\n",
    "\n",
    "#fig.show()"
   ]
  },
  {
   "cell_type": "code",
   "execution_count": 333,
   "metadata": {
    "collapsed": false
   },
   "outputs": [],
   "source": [
    "############\n",
    "#Build a weak zone\n",
    "#############\n",
    "\n",
    "\n",
    "def disGen(centre):\n",
    "    coord = fn.input()\n",
    "    offsetFn = coord - centre\n",
    "    return fn.math.sqrt(fn.math.dot( offsetFn, offsetFn ))\n",
    "\n",
    "depth = 200.e3 #m\n",
    "angle = 20. #degrees\n",
    "num_circles = 50\n",
    "half_width = 5e3 #m\n",
    "\n",
    "\n",
    "xpos = depth/math.tan((angle*math.pi/180.))\n",
    "start = (0.075, 1.)\n",
    "end = (start[0] +xpos/dp.LS , start[1] - depth/dp.LS)\n",
    "xar = np.linspace(start[0], end[0], num_circles)\n",
    "yar = np.linspace(start[1], end[1], num_circles)\n",
    "fnBuilder = fn.misc.constant(1000.)\n",
    "for i in range(num_circles):\n",
    "    circ_dist = disGen((xar[i], yar[i]))\n",
    "    fnBuilder = fn.misc.min(circ_dist, fnBuilder)\n",
    "    \n",
    "sig = half_width/dp.LS\n",
    "gammaFn =  fn.math.exp(-fn.math.pow(fnBuilder, 2.) / (2. * fn.math.pow(sig, 2.)))"
   ]
  },
  {
   "cell_type": "code",
   "execution_count": 334,
   "metadata": {
    "collapsed": false
   },
   "outputs": [],
   "source": [
    "testFn = disGen((0., 1.))"
   ]
  },
  {
   "cell_type": "code",
   "execution_count": 335,
   "metadata": {
    "collapsed": true
   },
   "outputs": [],
   "source": [
    "weakVisc = 1.\n",
    "weakzoneFn = fn.misc.min((weakVisc/gammaFn*1.),ndp.eta_max)\n",
    "combmantleviscosityFn = fn.misc.max(ndp.eta_min, fn.misc.min(mantleviscosityFn, weakzoneFn))\n",
    "\n"
   ]
  },
  {
   "cell_type": "code",
   "execution_count": null,
   "metadata": {
    "collapsed": true
   },
   "outputs": [],
   "source": [
    "\n",
    "    "
   ]
  },
  {
   "cell_type": "code",
   "execution_count": 336,
   "metadata": {
    "collapsed": false
   },
   "outputs": [],
   "source": [
    "#velocityField.data.max()"
   ]
  },
  {
   "cell_type": "markdown",
   "metadata": {},
   "source": [
    "import matplotlib.pylab as pyplt\n",
    "%matplotlib inline\n",
    "\n",
    "\n",
    "\n",
    "##################\n",
    "#Output functions to numpy vertical averages, maxes, mins\n",
    "##################\n",
    "\n",
    "viscmapFnmesh = uw.mesh.MeshVariable(mesh,nodeDofCount=1)\n",
    "out = uw.utils.MeshVariable_Projection( viscmapFnmesh, viscosityMapFn)\n",
    "out.solve()\n",
    "\n",
    "\n",
    "#avDf = ndfp.evaluate(mesh).reshape(mesh.elementRes[1] + 1, mesh.elementRes[0] + 1).mean(axis=1)\n",
    "avDs = ndsp.evaluate(mesh).reshape(mesh.elementRes[1] + 1, mesh.elementRes[0] + 1).mean(axis=1)\n",
    "umantle = mantleviscosityFn.evaluate(mesh).reshape(mesh.elementRes[1] + 1, mesh.elementRes[0] + 1).mean(axis=1)\n",
    "lmantle = lowermantleviscosityFn.evaluate(mesh).reshape(mesh.elementRes[1] + 1, mesh.elementRes[0] + 1).mean(axis=1)\n",
    "eff = viscmapFnmesh.evaluate(mesh).reshape(mesh.elementRes[1] + 1, mesh.elementRes[0] + 1).mean(axis=1)\n",
    "\n",
    "effMin = viscmapFnmesh.evaluate(mesh).reshape(mesh.elementRes[1] + 1, mesh.elementRes[0] + 1).min(axis=1)\n",
    "effMax = viscmapFnmesh.evaluate(mesh).reshape(mesh.elementRes[1] + 1, mesh.elementRes[0] + 1).max(axis=1)\n",
    "\n",
    "###################\n",
    "#Plot\n",
    "###################\n",
    "import matplotlib.pylab as pyplt\n",
    "%matplotlib inline\n",
    "\n",
    "fig, ax = pyplt.subplots()\n",
    "#ax .plot(avDf, label = 'diff')\n",
    "#ax .plot(avDs, label = 'dis')\n",
    "ax .plot(eff, label = 'eff')\n",
    "ax .plot(effMax, label = 'effMax')\n",
    "ax .plot(effMin, label = 'effMin')\n",
    "#ax .plot(umantle, label = 'uman')\n",
    "#ax .plot(lmantle, label = 'lman')\n",
    "ax.set_yscale(\"log\", nonposy='clip')\n",
    "ax.legend(loc = 3)"
   ]
  },
  {
   "cell_type": "code",
   "execution_count": 337,
   "metadata": {
    "collapsed": false,
    "scrolled": true
   },
   "outputs": [],
   "source": [
    "#fig= glucifer.Figure()\n",
    "#fig.append( glucifer.objects.Points(gSwarm,materialVariable))\n",
    "#fig.append( glucifer.objects.Points(gSwarm,viscosityMapFn, logScale=True))\n",
    "#fig.append( glucifer.objects.Surface(mesh, ndfp, logScale=True))\n",
    "\n",
    "#fig.append( glucifer.objects.Surface(mesh,mantleviscosityFn, logScale=True))\n",
    "#fig.show()\n",
    "#fig.save_database('test.gldb')"
   ]
  },
  {
   "cell_type": "code",
   "execution_count": 338,
   "metadata": {
    "collapsed": false
   },
   "outputs": [
    {
     "data": {
      "text/plain": [
       "(100000.0, 0.061142252826412398)"
      ]
     },
     "execution_count": 338,
     "metadata": {},
     "output_type": "execute_result"
    }
   ],
   "source": [
    "ndsp.evaluate(mesh).min(), ndfp.evaluate(mesh).min()"
   ]
  },
  {
   "cell_type": "code",
   "execution_count": 339,
   "metadata": {
    "collapsed": false
   },
   "outputs": [],
   "source": [
    "#ndp.SR"
   ]
  },
  {
   "cell_type": "code",
   "execution_count": null,
   "metadata": {
    "collapsed": false
   },
   "outputs": [],
   "source": []
  },
  {
   "cell_type": "markdown",
   "metadata": {},
   "source": [
    "Stokes system setup\n",
    "-----\n"
   ]
  },
  {
   "cell_type": "code",
   "execution_count": 340,
   "metadata": {
    "collapsed": false
   },
   "outputs": [],
   "source": [
    "densityMapFn = fn.branching.map( fn_key = materialVariable,\n",
    "                         mapping = {airIndex:ndp.StRA,\n",
    "                                    crustIndex:basaltbuoyancyFn, \n",
    "                                    mantleIndex:pyrolitebuoyancyFn,\n",
    "                                    harzIndex:harzbuoyancyFn} )"
   ]
  },
  {
   "cell_type": "code",
   "execution_count": 341,
   "metadata": {
    "collapsed": true
   },
   "outputs": [],
   "source": [
    "\n",
    "# Define our vertical unit vector using a python tuple (this will be automatically converted to a function).\n",
    "gravity = ( 0.0, 1.0 )\n",
    "\n",
    "# Now create a buoyancy force vector using the density and the vertical unit vector. \n",
    "buoyancyFn = densityMapFn * gravity"
   ]
  },
  {
   "cell_type": "code",
   "execution_count": 342,
   "metadata": {
    "collapsed": true
   },
   "outputs": [],
   "source": [
    "stokesPIC = uw.systems.Stokes(velocityField=velocityField, \n",
    "                              pressureField=pressureField,\n",
    "                              conditions=[freeslipBC,],\n",
    "                              fn_viscosity=linearVisc, \n",
    "                              fn_bodyforce=buoyancyFn )"
   ]
  },
  {
   "cell_type": "code",
   "execution_count": 343,
   "metadata": {
    "collapsed": true
   },
   "outputs": [],
   "source": [
    "solver = uw.systems.Solver(stokesPIC)\n",
    "if not checkpointLoad:\n",
    "    solver.solve() #A solve on the linear visocisty is unhelpful unless we're starting from scratch"
   ]
  },
  {
   "cell_type": "code",
   "execution_count": 344,
   "metadata": {
    "collapsed": false
   },
   "outputs": [],
   "source": [
    "############\n",
    "#Yield limiting viscosity, in this case we arrange viscosities in parallel\n",
    "#############\n",
    "dp.yl = 5e8\n",
    "dp.ylsr = 1e-15\n",
    "ndp.yl = dp.yl*sf.stress\n",
    "ndp.ylsr = dp.ylsr*sf.SR\n",
    "ndp.yln = 10.\n",
    "ndyl = fn.misc.min(ndp.eta_max,ndp.yl*(ndp.ylsr**(-1./ndp.yln))*(strainRate_2ndInvariant)**(1./(ndp.yln-1.)))\n",
    "\n",
    "if parallelVisc:\n",
    "    combmantleviscosityFn = fn.misc.max(fn.misc.min(1./(((1./ndfp) + (1./ndsp) + 1./(ndyl) )), ndp.eta_max), ndp.eta_min)"
   ]
  },
  {
   "cell_type": "code",
   "execution_count": 345,
   "metadata": {
    "collapsed": false
   },
   "outputs": [],
   "source": [
    "fig= glucifer.Figure()\n",
    "#fig.append( glucifer.objects.Points(gSwarm,tracerVariable, colours= 'white black'))\n",
    "#fig.append( glucifer.objects.Points(gSwarm,materialVariable))\n",
    "fig.append( glucifer.objects.Surface(mesh, combmantleviscosityFn, logScale=True))\n",
    "\n",
    "#fig.append( glucifer.objects.Surface(mesh, strainRate_2ndInvariant/ndp.SR, logScale=True))\n",
    "#fig.show()\n",
    "#fig.save_database('test.gldb')"
   ]
  },
  {
   "cell_type": "code",
   "execution_count": 346,
   "metadata": {
    "collapsed": false
   },
   "outputs": [
    {
     "data": {
      "text/plain": [
       "(25.0, 0.04)"
      ]
     },
     "execution_count": 346,
     "metadata": {},
     "output_type": "execute_result"
    }
   ],
   "source": [
    "dp.yl/ndp.yl, sf.stress"
   ]
  },
  {
   "cell_type": "code",
   "execution_count": 347,
   "metadata": {
    "collapsed": false
   },
   "outputs": [
    {
     "name": "stdout",
     "output_type": "stream",
     "text": [
      "2\n"
     ]
    }
   ],
   "source": [
    "if WeakZone:\n",
    "    print(1)\n",
    "    viscosityMapFn = fn.branching.map( fn_key = materialVariable,\n",
    "                         mapping = {crustIndex:combmantleviscosityFn,\n",
    "                                    mantleIndex:combmantleviscosityFn,\n",
    "                                    harzIndex:combmantleviscosityFn} )\n",
    "else: #Use weak crust\n",
    "    print(2)\n",
    "    viscosityMapFn = fn.branching.map( fn_key = materialVariable,\n",
    "                         mapping = {crustIndex:ndp.eta_crust,\n",
    "                                    mantleIndex:finalviscosityFn,\n",
    "                                    harzIndex:finalviscosityFn} )\n",
    "\n"
   ]
  },
  {
   "cell_type": "code",
   "execution_count": null,
   "metadata": {
    "collapsed": false
   },
   "outputs": [],
   "source": []
  },
  {
   "cell_type": "code",
   "execution_count": null,
   "metadata": {
    "collapsed": false
   },
   "outputs": [],
   "source": []
  },
  {
   "cell_type": "code",
   "execution_count": null,
   "metadata": {
    "collapsed": true
   },
   "outputs": [],
   "source": []
  },
  {
   "cell_type": "code",
   "execution_count": 348,
   "metadata": {
    "collapsed": true
   },
   "outputs": [],
   "source": [
    "#Add the non-linear viscosity to the Stokes system\n",
    "stokesPIC.fn_viscosity = viscosityMapFn"
   ]
  },
  {
   "cell_type": "code",
   "execution_count": 349,
   "metadata": {
    "collapsed": false
   },
   "outputs": [
    {
     "name": "stdout",
     "output_type": "stream",
     "text": [
      "\u001b[1;35m\n",
      " \n",
      "Pressure iterations:   3\n",
      "Velocity iterations:   1 (presolve)      \n",
      "Velocity iterations:  -1 (pressure solve)\n",
      "Velocity iterations:   1 (backsolve)     \n",
      "Velocity iterations:   1 (total solve)   \n",
      " \n",
      "SCR RHS  solve time: 3.8076e-01\n",
      "Pressure solve time: 3.5265e-02\n",
      "Velocity solve time: 3.5997e-01 (backsolve)\n",
      "Total solve time   : 8.4083e-01\n",
      " \n",
      "Velocity solution min/max: 0.0000e+00/0.0000e+00\n",
      "Pressure solution min/max: 0.0000e+00/0.0000e+00\n",
      " \n",
      "\u001b[00m\n"
     ]
    }
   ],
   "source": [
    "solver.set_inner_method(\"mumps\")\n",
    "solver.options.scr.ksp_type=\"cg\"\n",
    "solver.set_penalty(1.0e7)\n",
    "solver.options.scr.ksp_rtol = 1.0e-4\n",
    "solver.solve(nonLinearIterate=True)\n",
    "solver.print_stats()"
   ]
  },
  {
   "cell_type": "code",
   "execution_count": null,
   "metadata": {
    "collapsed": true
   },
   "outputs": [],
   "source": []
  },
  {
   "cell_type": "code",
   "execution_count": 350,
   "metadata": {
    "collapsed": false
   },
   "outputs": [],
   "source": [
    "#Check which particles are yielding\n",
    "#yieldingCheck.data[:] = 0\n",
    "\n",
    "#yieldconditions = [ ( mantleviscosityFn < Visc , 1), \n",
    "#               ( True                                           , 0) ]\n",
    "\n",
    "# use the branching conditional function to set each particle's index\n",
    "#yieldingCheck.data[:] = fn.branching.conditional( yieldconditions ).evaluate(gSwarm)"
   ]
  },
  {
   "cell_type": "code",
   "execution_count": 351,
   "metadata": {
    "collapsed": false,
    "scrolled": true
   },
   "outputs": [],
   "source": [
    "#fig= glucifer.Figure()\n",
    "#fig.append( glucifer.objects.Points(gSwarm,yieldingCheck))\n",
    "\n",
    "#fig.append( glucifer.objects.Surface(mesh,ndflm, logScale=True))\n",
    "#fig.show()"
   ]
  },
  {
   "cell_type": "markdown",
   "metadata": {},
   "source": [
    "Advection-diffusion System setup\n",
    "-----"
   ]
  },
  {
   "cell_type": "code",
   "execution_count": 352,
   "metadata": {
    "collapsed": false
   },
   "outputs": [],
   "source": [
    "advDiff = uw.systems.AdvectionDiffusion( phiField       = temperatureField, \n",
    "                                         phiDotField    = temperatureDotField, \n",
    "                                         velocityField  = velocityField,\n",
    "                                         fn_sourceTerm    = 0.0,\n",
    "                                         fn_diffusivity = 1.0, \n",
    "                                         #conditions     = [neumannTempBC, dirichTempBC] )\n",
    "                                         conditions     = [ dirichTempBC] )\n",
    "\n",
    "passiveadvector = uw.systems.SwarmAdvector( swarm         = gSwarm, \n",
    "                                     velocityField = velocityField, \n",
    "                                     order         = 1)"
   ]
  },
  {
   "cell_type": "code",
   "execution_count": 154,
   "metadata": {
    "collapsed": false
   },
   "outputs": [],
   "source": [
    "#I was playing around with a tailored diffusivity to target the slab\n",
    "\n",
    "#inCircleFnGenerator#Now build the perturbation part\n",
    "#def htan(centre, radius, widthPh, farVal = 0.01, fac = 10.):\n",
    "#    coord = fn.input()\n",
    "#    offsetFn = coord - centre\n",
    "#    dist = fn.math.sqrt(fn.math.dot( offsetFn, offsetFn ))\n",
    "    \n",
    "    \n",
    "#    return (((fn.math.tanh(((radius - dist))/widthPh) + 1.) /2.))*fac + farVal\n",
    "\n",
    "#tfun = htan((0.1, 0.9), 0.1, 0.1, 0.1)"
   ]
  },
  {
   "cell_type": "code",
   "execution_count": 155,
   "metadata": {
    "collapsed": true
   },
   "outputs": [],
   "source": [
    "for index in mesh.specialSets[\"MinJ_VertexSet\"]:\n",
    "    temperatureField.data[index] = ndp.TBP\n",
    "for index in mesh.specialSets[\"MaxJ_VertexSet\"]:\n",
    "    temperatureField.data[index] = ndp.TSP"
   ]
  },
  {
   "cell_type": "code",
   "execution_count": 156,
   "metadata": {
    "collapsed": false
   },
   "outputs": [
    {
     "data": {
      "text/plain": [
       "190046.56885790333"
      ]
     },
     "execution_count": 156,
     "metadata": {},
     "output_type": "execute_result"
    }
   ],
   "source": [
    "velocityField.data.max()"
   ]
  },
  {
   "cell_type": "code",
   "execution_count": 166,
   "metadata": {
    "collapsed": false
   },
   "outputs": [],
   "source": [
    "############\n",
    "#Slightly Diffuse the initial perturbation\n",
    "#############\n",
    "\n",
    "timetoDifffuse = 0.#Million years\n",
    "incrementtoDiffuse = 0.2 #Million years\n",
    "\n",
    "timetoDifffuse = (timetoDifffuse*1e6*(spery)/sf.SR).magnitude\n",
    "incrementtoDiffuse = (incrementtoDiffuse*1e6*(spery)/sf.SR).magnitude\n",
    "\n",
    "totAdt = 0.\n",
    "it = 0\n",
    "while totAdt < timetoDifffuse:\n",
    "    dtad = advDiff.get_max_dt()\n",
    "    print(\"step\") + str(it) \n",
    "    advDiff.integrate(incrementtoDiffuse)\n",
    "    totAdt += incrementtoDiffuse\n",
    "    it += 1\n",
    "    \n",
    "#Reset Boundary conds.   \n",
    "for index in mesh.specialSets[\"MinJ_VertexSet\"]:\n",
    "    temperatureField.data[index] = ndp.TBP\n",
    "for index in mesh.specialSets[\"MaxJ_VertexSet\"]:\n",
    "    temperatureField.data[index] = ndp.TSP\n",
    "    \n",
    "comm.Barrier()"
   ]
  },
  {
   "cell_type": "code",
   "execution_count": 159,
   "metadata": {
    "collapsed": true
   },
   "outputs": [],
   "source": [
    "population_control = uw.swarm.PopulationControl(gSwarm,deleteThreshold=0.2,splitThreshold=1.,maxDeletions=3,maxSplits=0, aggressive=True, particlesPerCell=ppc)"
   ]
  },
  {
   "cell_type": "markdown",
   "metadata": {},
   "source": [
    "Analysis functions / routines\n",
    "-----"
   ]
  },
  {
   "cell_type": "code",
   "execution_count": null,
   "metadata": {
    "collapsed": true
   },
   "outputs": [],
   "source": [
    "#These are functions we can use to evuate integrals over restricted parts of the domain\n",
    "# For instance, we can exclude the thermal lithosphere from integrals\n",
    "\n",
    "def temprestrictionFn(lithval = 0.9):\n",
    "\n",
    "    tempMM = fn.view.min_max(temperatureField)\n",
    "    tempMM.evaluate(mesh)\n",
    "    TMAX = tempMM.max_global()\n",
    "    mantleconditions = [ (                                  temperatureField > lithval*TMAX, 1.),\n",
    "                   (                                                   True , 0.) ]\n",
    "\n",
    "\n",
    "    return fn.branching.conditional(mantleconditions)\n",
    "\n",
    "mantlerestrictFn = temprestrictionFn(lithval = 0.85)\n",
    "\n",
    "\n",
    "\n",
    "def platenessFn(val = 0.1):\n",
    "    normgradV = fn.math.abs(velocityField.fn_gradient[0]/fn.math.sqrt(velocityField[0]*velocityField[0])) #[du*/dx]/sqrt(u*u)\n",
    "\n",
    "\n",
    "\n",
    "    srconditions = [ (                                  normgradV < val, 1.),\n",
    "                   (                                                   True , 0.) ]\n",
    "\n",
    "\n",
    "    return fn.branching.conditional(srconditions)\n",
    "\n",
    "srrestrictFn = platenessFn(val = 0.1)"
   ]
  },
  {
   "cell_type": "code",
   "execution_count": null,
   "metadata": {
    "collapsed": true
   },
   "outputs": [],
   "source": []
  },
  {
   "cell_type": "code",
   "execution_count": null,
   "metadata": {
    "collapsed": false
   },
   "outputs": [],
   "source": [
    "#Setup volume integrals \n",
    "\n",
    "tempint = uw.utils.Integral( temperatureField, mesh )\n",
    "areaint = uw.utils.Integral( 1.,               mesh )\n",
    "\n",
    "v2int   = uw.utils.Integral( fn.math.dot(velocityField,velocityField), mesh )\n",
    "\n",
    "dwint   = uw.utils.Integral( temperatureField*velocityField[1], mesh )\n",
    "\n",
    "sinner = fn.math.dot( strainRate_2ndInvariant, strainRate_2ndInvariant )\n",
    "vdint = uw.utils.Integral( (2.*viscosityMapFn*sinner), mesh ) #Is it two or four here?\n",
    "\n",
    "mantleArea   = uw.utils.Integral( mantlerestrictFn, mesh )\n",
    "mantleTemp = uw.utils.Integral( temperatureField*mantlerestrictFn, mesh )\n",
    "mantleVisc = uw.utils.Integral( mantleviscosityFn*mantlerestrictFn, mesh )\n",
    "mantleVd = uw.utils.Integral( (2.*viscosityMapFn*sinner*mantlerestrictFn), mesh ) #these now work on MappingFunctions"
   ]
  },
  {
   "cell_type": "code",
   "execution_count": null,
   "metadata": {
    "collapsed": true
   },
   "outputs": [],
   "source": [
    "#Setup surface integrals\n",
    "\n",
    "rmsSurfInt = uw.utils.Integral( fn=velocityField[0]*velocityField[0], mesh=mesh, integrationType='Surface', \n",
    "                          surfaceIndexSet=mesh.specialSets[\"MaxJ_VertexSet\"])\n",
    "nuTop      = uw.utils.Integral( fn=temperatureField.fn_gradient[1],    mesh=mesh, integrationType='Surface', \n",
    "                          surfaceIndexSet=mesh.specialSets[\"MaxJ_VertexSet\"])\n",
    "nuBottom   = uw.utils.Integral( fn=temperatureField.fn_gradient[1],    mesh=mesh, integrationType='Surface', \n",
    "                          surfaceIndexSet=mesh.specialSets[\"MinJ_VertexSet\"])\n",
    "\n",
    "plateint  = uw.utils.Integral( fn=srrestrictFn, mesh=mesh, integrationType='Surface', #Integrate the plateness function\n",
    "                          surfaceIndexSet=mesh.specialSets[\"MaxJ_VertexSet\"]) \n",
    "\n",
    "surfint  = uw.utils.Integral( fn=1., mesh=mesh, integrationType='Surface',   #Surface length function (i.e. domain width)\n",
    "                          surfaceIndexSet=mesh.specialSets[\"MaxJ_VertexSet\"])"
   ]
  },
  {
   "cell_type": "code",
   "execution_count": null,
   "metadata": {
    "collapsed": true
   },
   "outputs": [],
   "source": [
    "#Define functions for the evaluation of integrals\n",
    "\n",
    "def basic_int(ourIntegral):           #This one just hands back the evaluated integral\n",
    "    return ourIntegral.evaluate()[0]\n",
    "\n",
    "def avg_temp():\n",
    "    return tempint.evaluate()[0]/areaint.evaluate()[0]\n",
    "\n",
    "def nusseltTB(temp_field, mesh):\n",
    "    return -nuTop.evaluate()[0], -nuBottom.evaluate()[0]\n",
    "\n",
    "def rms():\n",
    "    return math.sqrt(v2int.evaluate()[0]/areaint.evaluate()[0])\n",
    "\n",
    "def rms_surf():\n",
    "    return math.sqrt(rmsSurfInt.evaluate()[0])\n",
    "\n",
    "def max_vx_surf(velfield, mesh):\n",
    "    vuvelxfn = fn.view.min_max(velfield[0])\n",
    "    vuvelxfn.evaluate(mesh.specialSets[\"MaxJ_VertexSet\"])\n",
    "    return vuvelxfn.max_global()\n",
    "\n",
    "\n",
    "def visc_extr(viscfn):\n",
    "    vuviscfn = fn.view.min_max(viscfn)\n",
    "    vuviscfn.evaluate(mesh)\n",
    "    return vuviscfn.max_global(), vuviscfn.min_global()"
   ]
  },
  {
   "cell_type": "code",
   "execution_count": null,
   "metadata": {
    "collapsed": false
   },
   "outputs": [],
   "source": [
    "#v2sum_integral  = uw.utils.Integral( mesh=mesh, fn=fn.math.dot( velocityField, velocityField ) )\n",
    "#volume_integral = uw.utils.Integral( mesh=mesh, fn=1. )\n",
    "#Vrms = math.sqrt( v2sum_integral.evaluate()[0] )/volume_integral.evaluate()[0]\n",
    "\n",
    "\n",
    "\n",
    "#if(uw.rank()==0):\n",
    "#    print('Initial Vrms = {0:.3f}'.format(Vrms))\n",
    "\n",
    "# Check the Metrics\n",
    "\n",
    "#Avg_temp = avg_temp()\n",
    "#Rms = rms()\n",
    "#Rms_surf = rms_surf()\n",
    "#Max_vx_surf = max_vx_surf(velocityField, mesh)\n",
    "#Gravwork = basic_int(dwint)\n",
    "#Viscdis = basic_int(vdint)\n",
    "#nu1, nu0 = nusseltTB(temperatureField, mesh) # return top then bottom\n",
    "#etamax, etamin = visc_extr(mantleviscosityFn)\n",
    "\n",
    "#Area_mantle = basic_int(mantleArea)\n",
    "#Viscmantle = basic_int(mantleVisc)\n",
    "#Tempmantle = basic_int(mantleTemp)\n",
    "#Viscdismantle = basic_int(mantleVd)"
   ]
  },
  {
   "cell_type": "markdown",
   "metadata": {},
   "source": [
    "Viz.\n",
    "-----"
   ]
  },
  {
   "cell_type": "code",
   "execution_count": null,
   "metadata": {
    "collapsed": false
   },
   "outputs": [],
   "source": [
    "viscVariable = gSwarm.add_variable( dataType=\"float\", count=1 )\n",
    "viscVariable.data[:] = viscosityMapFn.evaluate(gSwarm)"
   ]
  },
  {
   "cell_type": "code",
   "execution_count": null,
   "metadata": {
    "collapsed": false
   },
   "outputs": [],
   "source": [
    "#Pack some stuff into a database as well\n",
    "figDb = glucifer.Figure()\n",
    "#figDb.append( glucifer.objects.Mesh(mesh))\n",
    "figDb.append( glucifer.objects.VectorArrows(mesh,velocityField, scaling=0.00005))\n",
    "#figDb.append( glucifer.objects.Points(gSwarm,tracerVariable, colours= 'white black'))\n",
    "figDb.append( glucifer.objects.Points(gSwarm,materialVariable))\n",
    "\n",
    "figDb.append( glucifer.objects.Points(gSwarm,viscosityMapFn, logScale=True, valueRange =[1e-3,1e5]))\n",
    "figDb.append( glucifer.objects.Surface(mesh, strainRate_2ndInvariant, logScale=True))\n",
    "figDb.append( glucifer.objects.Surface(mesh, temperatureField))\n",
    "#figDb.show()"
   ]
  },
  {
   "cell_type": "code",
   "execution_count": null,
   "metadata": {
    "collapsed": false
   },
   "outputs": [],
   "source": [
    "##############\n",
    "#Create a numpy array at the surface to get surface information on (using parallel-friendly evaluate_global)\n",
    "##############\n",
    "\n",
    "surface_xs = np.linspace(mesh.minCoord[0], mesh.maxCoord[0], mesh.elementRes[0] + 1)\n",
    "surface_nodes = np.array(zip(surface_xs, np.ones(len(surface_xs)*mesh.maxCoord[1]))) #For evaluation surface velocity\n",
    "normgradV = velocityField.fn_gradient[0]/fn.math.sqrt(velocityField[0]*velocityField[0])\n",
    "\n",
    "tempMM = fn.view.min_max(temperatureField)\n",
    "dummy = tempMM.evaluate(mesh)\n",
    "\n"
   ]
  },
  {
   "cell_type": "markdown",
   "metadata": {},
   "source": [
    "**Miscellania**"
   ]
  },
  {
   "cell_type": "code",
   "execution_count": null,
   "metadata": {
    "collapsed": false
   },
   "outputs": [],
   "source": [
    "##############\n",
    "#These functions handle checkpointing\n",
    "##############\n",
    "\n",
    "\n",
    "def checkpoint1(step, checkpointPath,filename, filewrites):\n",
    "    path = checkpointPath + str(step) \n",
    "    os.mkdir(path)\n",
    "    ##Write and save the file, if not already a writing step\n",
    "    if not step % filewrites == 0:\n",
    "        filename.write((17*'%-15s ' + '\\n') % (realtime, Viscdis, float(nu0), float(nu1), Avg_temp,\n",
    "                                              Tempmantle,TMAX,\n",
    "                                              Rms,Rms_surf,Max_vx_surf,Gravwork, etamax, etamin, \n",
    "                                              Area_mantle, Viscmantle,  Viscdismantle,Plateness ))\n",
    "    filename.close()\n",
    "    shutil.copyfile(os.path.join(outputPath, outputFile), os.path.join(path, outputFile))\n",
    "\n",
    "\n",
    "def checkpoint2(step, checkpointPath, swarm, filename, varlist = [materialVariable], varnames = ['materialVariable']):\n",
    "    path = checkpointPath + str(step) \n",
    "    velfile = \"velocityField\" + \".hdf5\"\n",
    "    tempfile = \"temperatureField\" + \".hdf5\"\n",
    "    pressfile = \"pressureField\" + \".hdf5\"\n",
    "    velocityField.save(os.path.join(path, velfile))\n",
    "    temperatureField.save(os.path.join(path, tempfile))\n",
    "    pressureField.save(os.path.join(path, pressfile))\n",
    "    swarm.save(os.path.join(path, \"swarm.h5\") ) \n",
    "    for ix in range(len(varlist)):\n",
    "        varb = varlist[ix]\n",
    "        varb.save(os.path.join(path,varnames[ix] + \".h5\"))\n",
    "    "
   ]
  },
  {
   "cell_type": "code",
   "execution_count": null,
   "metadata": {
    "collapsed": true
   },
   "outputs": [],
   "source": [
    "##############\n",
    "#This will allow us to evaluate viscous shear heating, and add the result directly to the temperature field\n",
    "##############\n",
    "\n",
    "viscDisMapFn = 2.*viscosityMapFn*sinner\n",
    "viscDisFnmesh = uw.mesh.MeshVariable(mesh,nodeDofCount=1)\n",
    "viscDisProj = uw.utils.MeshVariable_Projection( viscDisFnmesh, viscDisMapFn)\n",
    "viscDisProj.solve()"
   ]
  },
  {
   "cell_type": "code",
   "execution_count": null,
   "metadata": {
    "collapsed": false
   },
   "outputs": [],
   "source": [
    "# initialise timer for computation\n",
    "start = time.clock()\n",
    "# setup summary output file (name above)\n",
    "if checkpointLoad:\n",
    "    if uw.rank() == 0:\n",
    "        shutil.copyfile(os.path.join(checkpointLoadDir, outputFile), outputPath+outputFile)\n",
    "    comm.Barrier()\n",
    "    f_o = open(os.path.join(outputPath, outputFile), 'a')\n",
    "    prevdata = np.genfromtxt(os.path.join(outputPath, outputFile), skip_header=0, skip_footer=0)\n",
    "    if len(prevdata.shape) == 1: #this is in case there is only one line in previous file\n",
    "        realtime = prevdata[0]\n",
    "    else:\n",
    "        realtime = prevdata[prevdata.shape[0]-1, 0]\n",
    "    step = int(checkpointLoadDir.split('/')[-1])\n",
    "    timevals = [0.]\n",
    "else:\n",
    "    f_o = open(outputPath+outputFile, 'w')\n",
    "    realtime = 0.\n",
    "    step = 0\n",
    "    timevals = [0.]"
   ]
  },
  {
   "cell_type": "markdown",
   "metadata": {},
   "source": [
    "Main simulation loop\n",
    "-----\n"
   ]
  },
  {
   "cell_type": "code",
   "execution_count": null,
   "metadata": {
    "collapsed": true
   },
   "outputs": [],
   "source": [
    "#while step < 21:\n",
    "while realtime < 1.:\n",
    "\n",
    "    # solve Stokes and advection systems\n",
    "    solver.solve(nonLinearIterate=True)\n",
    "    dt = advDiff.get_max_dt()\n",
    "    if step == 0:\n",
    "        dt = 0.\n",
    "    advDiff.integrate(dt)\n",
    "    passiveadvector.integrate(dt)\n",
    "    \n",
    "    #Add the adiabatic adjustment:\n",
    "    temperatureField.data[:] += dt*abHeatFn.evaluate(mesh)\n",
    "    \n",
    "    #Add the viscous heating term\n",
    "     #Need to fix this (forgot 'dissipation number')\n",
    "    #viscDisProj = uw.utils.MeshVariable_Projection( viscDisFnmesh, viscDisMapFn)\n",
    "    #viscDisProj.solve()\n",
    "    #temperatureField.data[:] += dt*viscDisFnmesh.evaluate(mesh)\n",
    "    \n",
    "\n",
    "    # Increment\n",
    "    realtime += dt\n",
    "    step += 1\n",
    "    timevals.append(realtime)\n",
    "    ################\n",
    "    #Update temperature field in the air region\n",
    "    #Do this better...\n",
    "    ################\n",
    "    if (step % sticky_air_temp == 0):\n",
    "        for index, coord in enumerate(mesh.data):\n",
    "            if coord[1] >= 1.:\n",
    "                temperatureField.data[index] = ndp.TSP\n",
    "\n",
    "    # Calculate the Metrics, only on 1 of the processors:\n",
    "    ################\n",
    "    if (step % metric_output == 0):\n",
    "        ###############\n",
    "        #Swarm - based Metrics\n",
    "        ###############\n",
    "        # Calculate the RMS velocity and Nusselt number.\n",
    "        # Calculate the Metrics, only on 1 of the processors:\n",
    "        mantlerestrictFn = temprestrictionFn() #rebuild the mantle restriction function (but these should be dynamic?)\n",
    "        srrestrictFn = platenessFn(val = 0.1) #rebuild the plateness restriction function\n",
    "        dummy = tempMM.evaluate(mesh) #Re-evaluate any fn.view.min_max guys\n",
    "        #Rebuild these integrals (a test because metrics changes after a restart)\n",
    "        mantleArea   = uw.utils.Integral( mantlerestrictFn, mesh )\n",
    "        mantleTemp = uw.utils.Integral( temperatureField*mantlerestrictFn, mesh )\n",
    "        mantleVisc = uw.utils.Integral( mantleviscosityFn*mantlerestrictFn, mesh )\n",
    "        mantleVd = uw.utils.Integral( (4.*viscosityMapFn*sinner*mantlerestrictFn), mesh ) #these now work on MappingFunctions\n",
    "        ###\n",
    "        Avg_temp = avg_temp()\n",
    "        Rms = rms()\n",
    "        Rms_surf = rms_surf()\n",
    "        Max_vx_surf = max_vx_surf(velocityField, mesh)\n",
    "        Gravwork = basic_int(dwint)\n",
    "        Viscdis = basic_int(vdint)\n",
    "        nu1, nu0 = nusseltTB(temperatureField, mesh) # return top then bottom\n",
    "        etamax, etamin = visc_extr(mantleviscosityFn)\n",
    "        Area_mantle = basic_int(mantleArea)\n",
    "        Viscmantle = basic_int(mantleVisc)\n",
    "        Tempmantle = basic_int(mantleTemp)\n",
    "        Viscdismantle = basic_int(mantleVd)\n",
    "        Plateness = basic_int(plateint)/basic_int(surfint)\n",
    "        TMAX = tempMM.max_global()\n",
    "        # output to summary text file\n",
    "        if uw.rank()==0:\n",
    "            f_o.write((17*'%-15s ' + '\\n') % (realtime, Viscdis, float(nu0), float(nu1), Avg_temp,\n",
    "                                              Tempmantle,TMAX,\n",
    "                                              Rms,Rms_surf,Max_vx_surf,Gravwork, etamax, etamin, \n",
    "                                              Area_mantle, Viscmantle,  Viscdismantle,Plateness ))\n",
    "    ################\n",
    "    #Also repopulate entire swarm periodically\n",
    "    ################\n",
    "    #if step % swarm_repop == 0:\n",
    "    population_control.repopulate()   \n",
    "    ################\n",
    "    #Checkpoint\n",
    "    ################\n",
    "    if step % checkpoint_every == 0:\n",
    "        if uw.rank() == 0:\n",
    "            checkpoint1(step, checkpointPath,f_o, metric_output)           \n",
    "        checkpoint2(step, checkpointPath, gSwarm, f_o, varlist = varlist, varnames = varnames)\n",
    "        f_o = open(os.path.join(outputPath, outputFile), 'a') #is this line supposed to be here?\n",
    "    ################\n",
    "    #Gldb output\n",
    "    ################ \n",
    "    if (step % gldbs_output == 0):\n",
    "        #Rebuild any necessary swarm variables\n",
    "        viscVariable.data[:] = viscosityMapFn.evaluate(gSwarm)\n",
    "        #Write gldbs\n",
    "        fnamedb = \"dbFig\" + \"_\" + str(ModIt) + \"_\" + str(step) + \".gldb\"\n",
    "        fullpath = os.path.join(outputPath + \"gldbs/\" + fnamedb)\n",
    "        #figDb.show()\n",
    "        figDb.save_database(fullpath)\n",
    "    ################\n",
    "    #Files output\n",
    "    ################ \n",
    "    if (step % files_output == 0):\n",
    "\n",
    "        vel_surface = velocityField.evaluate_global(surface_nodes)\n",
    "        norm_surface_sr = normgradV.evaluate_global(surface_nodes)\n",
    "        if uw.rank() == 0:\n",
    "            fnametemp = \"velsurface\" + \"_\" + str(ModIt) + \"_\" + str(step)\n",
    "            fullpath = os.path.join(outputPath + \"files/\" + fnametemp)\n",
    "            np.save(fullpath, vel_surface)\n",
    "            fnametemp = \"norm_surface_sr\" + \"_\" + str(ModIt) + \"_\" + str(step)\n",
    "            fullpath = os.path.join(outputPath + \"files/\" + fnametemp)\n",
    "            np.save(fullpath, norm_surface_sr)\n",
    "    ################\n",
    "    #Particle update\n",
    "    ###############    \n",
    "    #ageVariable.data[:] += dt #increment the ages (is this efficient?)\n",
    "    ageDT += dt\n",
    "    \n",
    "    if step % swarm_update == 0:\n",
    "        #Increment age stuff. \n",
    "        ageEval = fn.branching.conditional( ageConditions ).evaluate(gSwarm)\n",
    "        ageVariable.data[np.where(ageEval == 0)] = 0 #If below the critical depth, age is set to zero\n",
    "        ageVariable.data[np.where(ageEval != 0)] += ageDT #If age above critical depth, increment age\n",
    "        ageDT = 0. #reset the age incrementer\n",
    "        \n",
    "        #Apply any materialVariable changes\n",
    "        for i in range(2): #Need to go through twice first time through\n",
    "            materialVariable.data[:] = fn.branching.conditional(DG.condition_list).evaluate(gSwarm)\n",
    "\n",
    "    \n",
    "f_o.close()\n",
    "print 'step =',step"
   ]
  },
  {
   "cell_type": "code",
   "execution_count": 238,
   "metadata": {
    "collapsed": false
   },
   "outputs": [],
   "source": [
    "viscVariable = gSwarm.add_variable( dataType=\"float\", count=1 )\n",
    "viscVariable.data[:] = viscosityMapFn.evaluate(gSwarm)"
   ]
  },
  {
   "cell_type": "code",
   "execution_count": 354,
   "metadata": {
    "collapsed": false
   },
   "outputs": [
    {
     "data": {
      "text/html": [
       "<img src='data:image/png;base64,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'>"
      ],
      "text/plain": [
       "<IPython.core.display.HTML object>"
      ]
     },
     "metadata": {},
     "output_type": "display_data"
    }
   ],
   "source": [
    "fig= glucifer.Figure()\n",
    "#fig.append( glucifer.objects.Points(gSwarm,materialVariable))\n",
    "#fig.append( glucifer.objects.Points(gSwarm, viscosityMapFn, logScale=True, valueRange =[1e-3,1e5]))\n",
    "fig.append( glucifer.objects.Surface(mesh, finalviscosityFn, logScale=True, valueRange =[1e-3,1e5] ))\n",
    "fig.append( glucifer.objects.VectorArrows(mesh,velocityField, scaling=0.00002))\n",
    "#fig.append( glucifer.objects.Surface(mesh,pressureField))\n",
    "#fig.append( glucifer.objects.Surface(mesh,raylieghFn))\n",
    "\n",
    "fig.show()\n",
    "#fig.save_database('test.gldb')"
   ]
  },
  {
   "cell_type": "code",
   "execution_count": 240,
   "metadata": {
    "collapsed": false
   },
   "outputs": [
    {
     "data": {
      "text/html": [
       "<img src='data:image/png;base64,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'>"
      ],
      "text/plain": [
       "<IPython.core.display.HTML object>"
      ]
     },
     "metadata": {},
     "output_type": "display_data"
    },
    {
     "data": {
      "text/plain": [
       "'test.gldb'"
      ]
     },
     "execution_count": 240,
     "metadata": {},
     "output_type": "execute_result"
    }
   ],
   "source": [
    "fig= glucifer.Figure()\n",
    "#fig.append( glucifer.objects.Points(gSwarm,materialVariable))\n",
    "fig.append( glucifer.objects.Points(gSwarm, viscosityMapFn, logScale=True, valueRange =[1e-3,1e5]))\n",
    "#fig.append( glucifer.objects.Surface(mesh, finalviscosityFn, logScale=True, valueRange =[1e-3,1e5] ))\n",
    "#fig.append( glucifer.objects.VectorArrows(mesh,velocityField, scaling=0.002))\n",
    "#fig.append( glucifer.objects.Surface(mesh,pressureField))\n",
    "#fig.append( glucifer.objects.Surface(mesh,raylieghFn))\n",
    "\n",
    "fig.show()\n",
    "fig.save_database('test.gldb')\n",
    "\n"
   ]
  },
  {
   "cell_type": "code",
   "execution_count": null,
   "metadata": {
    "collapsed": false
   },
   "outputs": [],
   "source": [
    "velocityField.data[tWalls.data].max()"
   ]
  },
  {
   "cell_type": "code",
   "execution_count": null,
   "metadata": {
    "collapsed": false
   },
   "outputs": [],
   "source": [
    "velocityField.data.max()"
   ]
  },
  {
   "cell_type": "code",
   "execution_count": null,
   "metadata": {
    "collapsed": true
   },
   "outputs": [],
   "source": [
    "fig.append( glucifer.objects.Surface?"
   ]
  },
  {
   "cell_type": "code",
   "execution_count": null,
   "metadata": {
    "collapsed": true
   },
   "outputs": [],
   "source": [
    "fig.append( glucifer.objects.Surface"
   ]
  }
 ],
 "metadata": {
  "kernelspec": {
   "display_name": "Python 2",
   "language": "python",
   "name": "python2"
  },
  "language_info": {
   "codemirror_mode": {
    "name": "ipython",
    "version": 2
   },
   "file_extension": ".py",
   "mimetype": "text/x-python",
   "name": "python",
   "nbconvert_exporter": "python",
   "pygments_lexer": "ipython2",
   "version": "2.7.9"
  },
  "widgets": {
   "state": {},
   "version": "1.1.2"
  }
 },
 "nbformat": 4,
 "nbformat_minor": 0
}
