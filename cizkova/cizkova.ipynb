{
 "cells": [
  {
   "cell_type": "markdown",
   "metadata": {},
   "source": [
    "## composite, non-linear rheology:\n",
    "\n",
    "\n",
    "The viscous rheology in this model is similar to the Čížková and Bina paper cited below. Other parts of the model setup are similar to Arredondo and Billen (2016) and Korenaga (2011). \n",
    "\n",
    "Here we use a dimensionless system. For the psuedo-plastic effective rheology a Drucker-prager model is used.\n",
    "\n",
    "\n",
    "**Keywords:** thermal covection, dislocation creep\n",
    "\n",
    "\n",
    "**References**\n",
    "\n",
    "Čížková, Hana, and Craig R. Bina. \"Geodynamics of trench advance: Insights from a Philippine-Sea-style geometry.\" Earth and Planetary Science Letters 430 (2015): 408-415.\n",
    "\n",
    "Arredondo, Katrina M., and Magali I. Billen. \"The Effects of Phase Transitions and Compositional Layering in Two-dimensional Kinematic Models of Subduction.\" Journal of Geodynamics (2016).\n",
    "\n",
    "Korenaga, Jun. \"Scaling of plate tectonic convection with pseudoplastic rheology.\" Journal of Geophysical Research: Solid Earth 115.B11 (2010)."
   ]
  },
  {
   "cell_type": "code",
   "execution_count": 1,
   "metadata": {
    "collapsed": false
   },
   "outputs": [],
   "source": [
    "import numpy as np\n",
    "import underworld as uw\n",
    "import math\n",
    "from underworld import function as fn\n",
    "import glucifer\n",
    "\n",
    "import os\n",
    "import sys\n",
    "import natsort\n",
    "import shutil\n",
    "from easydict import EasyDict as edict\n",
    "import operator\n",
    "import pint\n",
    "import time\n",
    "import operator\n",
    "from slippy2 import boundary_layer2d\n",
    "from slippy2 import material_graph\n",
    "from slippy2 import spmesh\n",
    "\n",
    "from mpi4py import MPI\n",
    "comm = MPI.COMM_WORLD\n",
    "rank = comm.Get_rank()"
   ]
  },
  {
   "cell_type": "markdown",
   "metadata": {},
   "source": [
    "Model name and directories\n",
    "-----"
   ]
  },
  {
   "cell_type": "code",
   "execution_count": 2,
   "metadata": {
    "collapsed": true
   },
   "outputs": [],
   "source": [
    "############\n",
    "#Model name.  \n",
    "############\n",
    "Model = \"T\"\n",
    "ModNum = 11\n",
    "\n",
    "if len(sys.argv) == 1:\n",
    "    ModIt = \"Base\"\n",
    "elif sys.argv[1] == '-f':\n",
    "    ModIt = \"Base\"\n",
    "else:\n",
    "    ModIt = str(sys.argv[1])"
   ]
  },
  {
   "cell_type": "code",
   "execution_count": 3,
   "metadata": {
    "collapsed": false
   },
   "outputs": [],
   "source": [
    "###########\n",
    "#Standard output directory setup\n",
    "###########\n",
    "\n",
    "\n",
    "outputPath = \"results\" + \"/\" +  str(Model) + \"/\" + str(ModNum) + \"/\" + str(ModIt) + \"/\"\n",
    "imagePath = outputPath + 'images/'\n",
    "filePath = outputPath + 'files/'\n",
    "checkpointPath = outputPath + 'checkpoint/'\n",
    "dbPath = outputPath + 'gldbs/'\n",
    "outputFile = 'results_model' + Model + '_' + str(ModNum) + '_' + str(ModIt) + '.dat'\n",
    "\n",
    "if uw.rank()==0:\n",
    "    # make directories if they don't exist\n",
    "    if not os.path.isdir(outputPath):\n",
    "        os.makedirs(outputPath)\n",
    "    if not os.path.isdir(checkpointPath):\n",
    "        os.makedirs(checkpointPath)\n",
    "    if not os.path.isdir(imagePath):\n",
    "        os.makedirs(imagePath)\n",
    "    if not os.path.isdir(dbPath):\n",
    "        os.makedirs(dbPath)\n",
    "    if not os.path.isdir(filePath):\n",
    "        os.makedirs(filePath)\n",
    "        \n",
    "comm.Barrier() #Barrier here so no procs run the check in the next cell too early"
   ]
  },
  {
   "cell_type": "code",
   "execution_count": 4,
   "metadata": {
    "collapsed": false
   },
   "outputs": [
    {
     "name": "stdout",
     "output_type": "stream",
     "text": [
      "results/T/11/Base/checkpoint/ is empty\n"
     ]
    }
   ],
   "source": [
    "###########\n",
    "#Check if starting from checkpoint\n",
    "###########\n",
    "\n",
    "checkdirs = []\n",
    "for dirpath, dirnames, files in os.walk(checkpointPath):\n",
    "    if files:\n",
    "        print dirpath, 'has files'\n",
    "        checkpointLoad = True\n",
    "        checkdirs.append(dirpath)\n",
    "    if not files:\n",
    "        print dirpath, 'is empty'\n",
    "        checkpointLoad = False"
   ]
  },
  {
   "cell_type": "markdown",
   "metadata": {},
   "source": [
    "Setup parameters\n",
    "-----\n",
    "\n",
    "Set simulation parameters for test."
   ]
  },
  {
   "cell_type": "markdown",
   "metadata": {},
   "source": [
    "**Use pint to setup any unit conversions we'll need**"
   ]
  },
  {
   "cell_type": "code",
   "execution_count": 5,
   "metadata": {
    "collapsed": false
   },
   "outputs": [
    {
     "data": {
      "text/html": [
       "10000.0 meter/megayear"
      ],
      "text/latex": [
       "$10000.0 \\frac{meter}{megayear}$"
      ],
      "text/plain": [
       "<Quantity(10000.0, 'meter / megayear')>"
      ]
     },
     "execution_count": 5,
     "metadata": {},
     "output_type": "execute_result"
    }
   ],
   "source": [
    "u = pint.UnitRegistry()\n",
    "cmpery = 1.*u.cm/u.year\n",
    "mpermy = 1.*u.m/u.megayear\n",
    "year = 1.*u.year\n",
    "spery = year.to(u.sec)\n",
    "cmpery.to(mpermy)"
   ]
  },
  {
   "cell_type": "code",
   "execution_count": null,
   "metadata": {
    "collapsed": false
   },
   "outputs": [],
   "source": []
  },
  {
   "cell_type": "markdown",
   "metadata": {},
   "source": [
    "**Set parameter dictionaries**"
   ]
  },
  {
   "cell_type": "code",
   "execution_count": 6,
   "metadata": {
    "collapsed": false
   },
   "outputs": [
    {
     "name": "stdout",
     "output_type": "stream",
     "text": [
      "(0.04, 1.2675505856327397e-11)\n"
     ]
    }
   ],
   "source": [
    "box_half_width =4000e3\n",
    "age_at_trench = 100e6\n",
    "cmperyear = box_half_width / age_at_trench #m/y\n",
    "mpersec = cmperyear*(cmpery.to(u.m/u.second)).magnitude #m/sec\n",
    "print(cmperyear, mpersec )"
   ]
  },
  {
   "cell_type": "code",
   "execution_count": null,
   "metadata": {
    "collapsed": false
   },
   "outputs": [],
   "source": []
  },
  {
   "cell_type": "code",
   "execution_count": 7,
   "metadata": {
    "collapsed": false
   },
   "outputs": [],
   "source": [
    "###########\n",
    "#Store the physical paramters, scale factors and dimensionless pramters in easyDicts\n",
    "#Mainly helps with avoiding overwriting variables\n",
    "###########\n",
    "\n",
    "dp = edict({#'LS':2900.*1e3,\n",
    "            'LS':2000.*1e3,\n",
    "           'rho':3300,\n",
    "           'g':9.8, \n",
    "           'eta0':4e20, #Dislocation creep at 250 km, 1573 K, 1e-15 s-1 \n",
    "           'k':1e-6,\n",
    "           'a':3e-5, #surface thermal expansivity\n",
    "           'TP':1573., #potential temp\n",
    "           'TS':273., #surface temp\n",
    "           'cohesion':1e7, #\n",
    "           #'cohesion':1e6, #\n",
    "           'fc':0.1,   \n",
    "           'Adf':1e-9,\n",
    "           'Ads':3.1e-17,\n",
    "           'Edf':3.35e5,\n",
    "           'Eds':4.8e5,\n",
    "           'Vdf':4e-6,\n",
    "           'Vds':11e-6,\n",
    "           'Alm':1.3e-16,\n",
    "           'Elm':2.0e5,\n",
    "           'Vlm':1.1e-6,\n",
    "           'Ba':4.3e-12,  #A value to simulate pressure increase with depth\n",
    "           'SR':5e-14,\n",
    "           'Dr':250e3, #Reference depth\n",
    "           'R':8.314,\n",
    "           'Cp':1250., #Jkg-1K-1\n",
    "           'StALS':100e3,\n",
    "           'plate_vel':4})\n",
    "\n",
    "#Adibatic heating stuff\n",
    "dp.dTa = (dp.a*dp.g*(dp.TP))/dp.Cp #adibatic gradient, at Tp\n",
    "dp.deltaTa = (dp.TP + dp.dTa*dp.LS) - dp.TS  #Adiabatic Temp at base of mantle, minus Ts\n",
    "dp.deltaT = dp.deltaTa\n",
    "\n",
    "\n",
    "\n",
    "#scale_factors\n",
    "\n",
    "sf = edict({'stress':dp.LS**2/(dp.k*dp.eta0),\n",
    "            'lith_grad':dp.rho*dp.g*(dp.LS)**3/(dp.eta0*dp.k) ,\n",
    "            'vel':dp.LS/dp.k,\n",
    "            'SR':dp.LS**2/dp.k,\n",
    "            'W':(-1./dp.Ba)*(np.log(1.-dp.rho*dp.g*dp.Ba*dp.LS))/(dp.R*dp.deltaTa), #Including adiabatic compression, and deltaTa\n",
    "            'E': 1./(dp.R*dp.deltaTa), #using deltaTa, the guesstimated adiabatic temp differnnce to scale these paramters\n",
    "            #'Ads':(dp.eta0**(ndp.n-2))*((dp.k)**(ndp.n-1))*((dp.LS)**(2. - 2*ndp.n))       \n",
    "           })\n",
    "\n",
    "#dimensionless parameters\n",
    "\n",
    "ndp = edict({'RA':(dp.g*dp.rho*dp.a*dp.deltaT*(dp.LS)**3)/(dp.k*dp.eta0),\n",
    "            'cohesion':dp.cohesion*sf.stress,\n",
    "            'fcd':dp.fc*sf.lith_grad,\n",
    "            'gamma':dp.fc/(dp.a*dp.deltaT),\n",
    "            'Wdf':dp.Vdf*sf.W,\n",
    "            'Edf':dp.Edf*sf.E,\n",
    "            'Wds':dp.Vds*sf.W,\n",
    "            'Eds':dp.Eds*sf.E,\n",
    "            'Elm':dp.Elm*sf.E,\n",
    "           'Wlm':dp.Vlm*sf.W,\n",
    "            'TSP':0., \n",
    "            'TBP':1.,\n",
    "            'TPP':(dp.TP - dp.TS)/dp.deltaT,\n",
    "            'Dr':dp.Dr/dp.LS,\n",
    "            'n':3.5,\n",
    "            'TS':dp.TS/dp.deltaT,\n",
    "            'TP':dp.TP/dp.deltaT,\n",
    "             #'eta_crust':1e21/dp.eta0,\n",
    "             'eta_crust':10.,\n",
    "            'eta_min':1e-3,\n",
    "            'eta_max':1e5,\n",
    "            'H':0.,\n",
    "            'Tmvp':0.6,\n",
    "             'Di': dp.a*dp.g*dp.LS/dp.Cp, #Dissipation number\n",
    "            'Steta0':1e2,\n",
    "            'plate_vel':sf.vel*dp.plate_vel*(cmpery.to(u.m/u.second)).magnitude,})\n",
    "\n",
    "\n",
    "\n",
    "#Make some further additions to paramter dictionaries\n",
    "\n",
    "#dp.VR = (0.1*(dp.k/dp.LS)*ndp.RA**(2/3.)) #characteristic velocity from a scaling relationship\n",
    "#dp.SR = dp.VR/dp.LS #characteristic strain rate\n",
    "#ndp.VR = dp.VR*sf.vel #characteristic velocity\n",
    "#ndp.SR = dp.SR*sf.SR #characteristic strain rate\n",
    "\n",
    "\n",
    "ndp.SR = dp.SR*sf.SR #characteristic strain rate\n",
    "\n",
    "ndp.StRA = (3300.*dp.g*(dp.LS)**3)/(dp.eta0 *dp.k) #Composisitional Rayleigh number for rock-air buoyancy force\n",
    "ndp.TaP = 1. - ndp.TPP,  #Dimensionles adiabtic component of delta t"
   ]
  },
  {
   "cell_type": "code",
   "execution_count": 8,
   "metadata": {
    "collapsed": false
   },
   "outputs": [
    {
     "data": {
      "text/plain": [
       "200000.0"
      ]
     },
     "execution_count": 8,
     "metadata": {},
     "output_type": "execute_result"
    }
   ],
   "source": [
    "ndp.SR"
   ]
  },
  {
   "cell_type": "code",
   "execution_count": 9,
   "metadata": {
    "collapsed": false
   },
   "outputs": [
    {
     "data": {
      "text/plain": [
       "(11614.637497943615, 2535.1011712654795)"
      ]
     },
     "execution_count": 9,
     "metadata": {},
     "output_type": "execute_result"
    }
   ],
   "source": [
    "dp.CVR = (0.1*(dp.k/dp.LS)*ndp.RA**(2/3.))\n",
    "ndp.CVR = dp.CVR*sf.vel #characteristic velocity\n",
    "ndp.CVR, ndp.plate_vel "
   ]
  },
  {
   "cell_type": "code",
   "execution_count": 10,
   "metadata": {
    "collapsed": false
   },
   "outputs": [],
   "source": [
    "###########\n",
    "#A few parameters defining lengths scales, affects materal transistions etc.\n",
    "###########\n",
    "\n",
    "MANTLETOCRUST = (12.*1e3)/dp.LS #Crust depth\n",
    "HARZBURGDEPTH = MANTLETOCRUST + (27.7e3/dp.LS)\n",
    "CRUSTTOMANTLE = (200.*1e3)/dp.LS\n",
    "LITHTOMANTLE = (900.*1e3)/dp.LS \n",
    "MANTLETOLITH = (200.*1e3)/dp.LS \n",
    "TOPOHEIGHT = (10.*1e3)/dp.LS  #rock-air topography limits\n",
    "CRUSTTOECL  = (100.*1e3)/dp.LS\n",
    "AVGTEMP = ndp.TPP #Used to define lithosphere\n",
    "LOWERMANTLE = (1000.*1e3)/dp.LS \n"
   ]
  },
  {
   "cell_type": "markdown",
   "metadata": {},
   "source": [
    "**Model setup parameters**"
   ]
  },
  {
   "cell_type": "code",
   "execution_count": 11,
   "metadata": {
    "collapsed": false
   },
   "outputs": [],
   "source": [
    "###########\n",
    "#Model setup parameters\n",
    "###########\n",
    "\n",
    "refineMesh = True\n",
    "stickyAir = False \n",
    "lower_mantle = False \n",
    "melt_viscosity_reduction= False\n",
    "symmetric_IC = False\n",
    "VelBC = False\n",
    "WeakZone = False\n",
    "aspectRatio = 4\n",
    "parallelVisc = True\n",
    "\n",
    "MINX = -1.*aspectRatio/2.\n",
    "MINY = 0.\n",
    "MAXX = 1.*aspectRatio/2.\n",
    "\n",
    "#MAXY = 1.035\n",
    "MAXY = 1.\n",
    "\n",
    "if MINX == 0.:\n",
    "    squareModel = True\n",
    "else: \n",
    "    squareModel = False\n",
    "    \n",
    "    \n",
    "dim = 2          # number of spatial dimensions\n",
    "\n",
    "\n",
    "#MESH STUFF\n",
    "\n",
    "RES = 64\n",
    "\n",
    "Xres = int(RES*aspectRatio)\n",
    "\n",
    "\n",
    "if stickyAir:\n",
    "    Yres = RES\n",
    "    MAXY = 1. + dp.StALS/dp.LS #150km\n",
    "    \n",
    "else:\n",
    "    Yres = RES\n",
    "    MAXY = 1.\n",
    "\n",
    "\n",
    "periodic = [False, False]\n",
    "elementType = \"Q1/dQ0\"\n",
    "#elementType =\"Q2/DPC1\"\n",
    "\n",
    "\n",
    "#System/Solver stuff\n",
    "\n",
    "PIC_integration=True\n",
    "ppc = 25\n",
    "\n",
    "#Output and safety stuff\n",
    "swarm_repop, swarm_update = 10, 10\n",
    "gldbs_output = 10\n",
    "checkpoint_every, files_output = 20, 20\n",
    "metric_output = 10\n",
    "sticky_air_temp = 5"
   ]
  },
  {
   "cell_type": "markdown",
   "metadata": {},
   "source": [
    "Create mesh and finite element variables\n",
    "------"
   ]
  },
  {
   "cell_type": "code",
   "execution_count": 12,
   "metadata": {
    "collapsed": false
   },
   "outputs": [],
   "source": [
    "mesh = uw.mesh.FeMesh_Cartesian( elementType = (elementType),\n",
    "                                 elementRes  = (Xres, Yres), \n",
    "                                 minCoord    = (MINX, MINY), \n",
    "                                 maxCoord    = (MAXX, MAXY), periodic=periodic)\n",
    "\n",
    "velocityField       = uw.mesh.MeshVariable( mesh=mesh,         nodeDofCount=2 )\n",
    "pressureField       = uw.mesh.MeshVariable( mesh=mesh.subMesh, nodeDofCount=1 )\n",
    "temperatureField    = uw.mesh.MeshVariable( mesh=mesh,         nodeDofCount=1 )\n",
    "temperatureDotField = uw.mesh.MeshVariable( mesh=mesh,         nodeDofCount=1 )"
   ]
  },
  {
   "cell_type": "code",
   "execution_count": 13,
   "metadata": {
    "collapsed": true
   },
   "outputs": [],
   "source": [
    "mesh.reset()"
   ]
  },
  {
   "cell_type": "code",
   "execution_count": 14,
   "metadata": {
    "collapsed": false
   },
   "outputs": [
    {
     "name": "stdout",
     "output_type": "stream",
     "text": [
      "Min\n",
      "(256, 0.012501562500000001, 4.200400000000001, -0.20040000000000086)\n",
      "('edges', 256)\n",
      "-- iteration 0 --\n",
      "| F( p_n ) |^2: 1.98165943146e-05\n",
      "| p_n+1 - p_n |^2: 1.36480086187\n",
      "-- iteration 1 --\n",
      "| F( p_n ) |^2: 3.58989730515e-30\n",
      "Min, Max element width: \n",
      "0.01250\n",
      "0.01875\n"
     ]
    }
   ],
   "source": [
    "\n",
    "#X-Axis\n",
    "\n",
    "if refineMesh:\n",
    "    mesh.reset()\n",
    "    axis = 0\n",
    "    origcoords = np.linspace(mesh.minCoord[axis], mesh.maxCoord[axis], mesh.elementRes[axis] + 1)\n",
    "    edge_rest_lengths = np.diff(origcoords)\n",
    "\n",
    "    deform_lengths = edge_rest_lengths.copy()\n",
    "    min_point =  (abs(mesh.maxCoord[axis]) - abs(mesh.minCoord[axis]))/2.\n",
    "    el_reduction = 0.8001\n",
    "    dx = mesh.maxCoord[axis] - min_point\n",
    "\n",
    "    deform_lengths = deform_lengths - \\\n",
    "                                    ((1.-el_reduction) *deform_lengths[0]) + \\\n",
    "                                    abs((origcoords[1:] - min_point))*((0.5*deform_lengths[0])/dx)\n",
    "\n",
    "    #print(edge_rest_lengths.shape, deform_lengths.shape)\n",
    "\n",
    "    spmesh.deform_1d(deform_lengths, mesh,axis = 'x',norm = 'Min', constraints = [])"
   ]
  },
  {
   "cell_type": "code",
   "execution_count": 15,
   "metadata": {
    "collapsed": false
   },
   "outputs": [],
   "source": [
    "axis = 1\n",
    "orgs = np.linspace(mesh.minCoord[axis], mesh.maxCoord[axis], mesh.elementRes[axis] + 1)\n",
    "\n",
    "value_to_constrain = 1.\n",
    "\n",
    "\n",
    "yconst = [(spmesh.find_closest(orgs, value_to_constrain), np.array([value_to_constrain,0]))]"
   ]
  },
  {
   "cell_type": "code",
   "execution_count": 16,
   "metadata": {
    "collapsed": false
   },
   "outputs": [
    {
     "name": "stdout",
     "output_type": "stream",
     "text": [
      "Min\n",
      "(64, 0.0093765624999999995, 0.84619375000000008, 0.62499047619047554)\n",
      "('edges', 64)\n",
      "-- iteration 0 --\n",
      "| F( p_n ) |^2: 8.05648611886e-05\n",
      "| p_n+1 - p_n |^2: 0.352079185376\n",
      "-- iteration 1 --\n",
      "| F( p_n ) |^2: 3.12512226132e-31\n",
      "Min, Max element width: \n",
      "0.00938\n",
      "0.02187\n"
     ]
    }
   ],
   "source": [
    "###########\n",
    "#Mesh refinement\n",
    "###########\n",
    "\n",
    "if refineMesh:\n",
    "    #Y-Axis\n",
    "    axis = 1\n",
    "    origcoords = np.linspace(mesh.minCoord[axis], mesh.maxCoord[axis], mesh.elementRes[axis] + 1)\n",
    "    edge_rest_lengths = np.diff(origcoords)\n",
    "\n",
    "    deform_lengths = edge_rest_lengths.copy()\n",
    "    min_point =  (mesh.maxCoord[axis])\n",
    "    el_reduction = 0.6001\n",
    "    dx = mesh.maxCoord[axis]\n",
    "\n",
    "    deform_lengths = deform_lengths - \\\n",
    "                                    ((1.-el_reduction)*deform_lengths[0]) + \\\n",
    "                                    abs((origcoords[1:] - min_point))*((0.5*deform_lengths[0])/dx)\n",
    "\n",
    "    #print(edge_rest_lengths.shape, deform_lengths.shape)\n",
    "\n",
    "    spmesh.deform_1d(deform_lengths, mesh,axis = 'y',norm = 'Min', constraints = yconst)"
   ]
  },
  {
   "cell_type": "markdown",
   "metadata": {},
   "source": [
    "Initial conditions\n",
    "-------\n"
   ]
  },
  {
   "cell_type": "code",
   "execution_count": 17,
   "metadata": {
    "collapsed": false
   },
   "outputs": [],
   "source": [
    "coordinate = fn.input()\n",
    "depthFn = 1. - coordinate[1] #a function providing the depth\n",
    "xFn = coordinate[0]  #a function providing the x-coordinate\n",
    "\n",
    "potTempFn = ndp.TPP + (depthFn)*ndp.TaP #a function providing the adiabatic temp at any depth\n",
    "abHeatFn = -1.*velocityField[1]*temperatureField*ndp.Di #a function providing the adiabatic heating rate"
   ]
  },
  {
   "cell_type": "code",
   "execution_count": null,
   "metadata": {
    "collapsed": false
   },
   "outputs": [],
   "source": []
  },
  {
   "cell_type": "code",
   "execution_count": 18,
   "metadata": {
    "collapsed": false
   },
   "outputs": [],
   "source": [
    "###########\n",
    "#Thermal initial condition:\n",
    "#if symmetric_IC, we build a symmetric downwelling on top of a sinusoidal perturbation\n",
    "##########\n",
    "\n",
    "#Sinusoidal initial condition\n",
    "A = 0.2\n",
    "sinFn = depthFn + A*(fn.math.cos( math.pi * coordinate[0])  * fn.math.sin( math.pi * coordinate[1] ))        \n",
    "iD = 1000e3/dp.LS #Initial Slab depth\n",
    "dl =  2*math.sqrt(dp.k*160e6*3600*24*365) #diffusion Length at ... My\n",
    "w0 = dl/dp.LS #Boundary layer/slab initial condition\n",
    "delX1 = fn.misc.min(fn.math.abs(coordinate[0] - -0.), fn.math.abs(coordinate[0] - -2.))\n",
    "delX = fn.misc.min(delX1 , fn.math.abs(coordinate[0] - 2.))\n",
    "w = w0*fn.math.sqrt(delX + 1e-7)\n",
    "tempBL = (potTempFn) *fn.math.erf((depthFn)/w) + ndp.TSP\n",
    "delX = fn.misc.min(fn.math.abs(coordinate[0] - - 1.) , fn.math.abs(coordinate[0] - 1.))\n",
    "tempSlab = (potTempFn ) *fn.math.erf((delX*2.)/w0) + ndp.TSP       \n",
    "tempFn1 =  fn.misc.min(tempBL, tempSlab)\n",
    "blFn = fn.branching.conditional([(depthFn < iD, tempFn1), \n",
    "                                    (True, potTempFn)])\n",
    "\n",
    "tempFn = 0.*sinFn + 1.*blFn #partition the temp between these the symmetric downwelling and sinusoid\n",
    "if symmetric_IC:  \n",
    "    if not checkpointLoad:\n",
    "        temperatureField.data[:] = tempFn.evaluate(mesh)  "
   ]
  },
  {
   "cell_type": "code",
   "execution_count": 19,
   "metadata": {
    "collapsed": false
   },
   "outputs": [],
   "source": [
    "###########\n",
    "#Thermal initial condition 2: \n",
    "#if symmetric_IC == False, we build an asymmetric subduction-zone\n",
    "###########\n",
    "\n",
    "#Main control paramters are:\n",
    "\n",
    "Roc = 550e3 #radius of curvature of slab\n",
    "theta = 89. #Angle to truncate the slab (can also do with with a cutoff depth)\n",
    "subzone = 0.0 #X position of subduction zone...in model coordinates\n",
    "#slabmaxAge = 160e6 #age of subduction plate at trench\n",
    "slabmaxAge = 100e6 #age of subduction plate at trench\n",
    "platemaxAge = 100e6 #max age of slab (Plate model)\n",
    "ageAtTrenchSeconds = min(platemaxAge*(3600*24*365), slabmaxAge*(3600*24*365))\n",
    "\n",
    "\n",
    "sense = 'Right' #dip direction\n",
    "op_age_fac = 2. #this controls the overidding plate speed, hence age reduction\n",
    "\n",
    "\n",
    "#First build the top TBL\n",
    "#Create functions between zero and one, to control age distribution\n",
    "ageFn1 = fn.misc.max(0., (1. - 1.1*fn.math.abs(xFn)/(aspectRatio/2.) ))\n",
    "ageFn  = fn.branching.conditional([(coordinate[0] <= 0, ageFn1),\n",
    "                                  (True, ageFn1/op_age_fac)])\n",
    "\n",
    "#dimensionlize the age function\n",
    "ageFn *= slabmaxAge*(3600*24*365)\n",
    "#ageFn = fn.misc.min(ageFn, platemaxAge*(3600*24*365)) #apply plate model\n",
    "\n",
    "w0 = (2.*math.sqrt(dp.k*ageAtTrenchSeconds))/dp.LS #diffusion depth of plate at the trench\n",
    "\n",
    "tempBL = (potTempFn) *fn.math.erf((depthFn*dp.LS)/(2.*fn.math.sqrt(dp.k*ageFn))) + ndp.TSP #boundary layer function\n",
    "if not symmetric_IC:\n",
    "    if not checkpointLoad:\n",
    "        out = uw.utils.MeshVariable_Projection( temperatureField, tempBL) #apply function with projection\n",
    "        out.solve()\n",
    "\n",
    "\n",
    "#Now build the perturbation part\n",
    "def inCircleFnGenerator(centre, radius):\n",
    "    coord = fn.input()\n",
    "    offsetFn = coord - centre\n",
    "    return fn.math.dot( offsetFn, offsetFn ) < radius**2\n",
    "\n",
    "#Setup slab perturbation params (mostly dimensionlesl / model params here)\n",
    "phi = 90. - theta\n",
    "RocM = (Roc/dp.LS)\n",
    "CrustM = MANTLETOCRUST\n",
    "Org = (subzone, 1.-RocM)\n",
    "maxDepth = 250e3/dp.LS\n",
    "\n",
    "#We use three circles to define our slab and crust perturbation,  \n",
    "Oc = inCircleFnGenerator(Org , RocM)\n",
    "Ic = inCircleFnGenerator(Org , RocM - w0)\n",
    "Cc = inCircleFnGenerator(Org , RocM - (2.*CrustM)) #Twice as wide as ordinary crust, weak zone on 'outside' of slab\n",
    "dx = (RocM)/(np.math.tan((np.math.pi/180.)*phi))\n",
    "\n",
    "#We'll also create a triangle which will truncate the circles defining the slab...\n",
    "if sense == 'Left':\n",
    "    ptx = subzone - dx\n",
    "else:\n",
    "    ptx = subzone + dx\n",
    "coords = ((0.+subzone, 1), (0.+subzone, 1.-RocM), (ptx, 1.))\n",
    "Tri = fn.shape.Polygon(np.array(coords))\n",
    "\n",
    "#Actually apply the perturbation\n",
    "if not symmetric_IC:\n",
    "    if not checkpointLoad:\n",
    "        sdFn = ((RocM - fn.math.sqrt((coordinate[0] - Org[0])**2. + (coordinate[1] - Org[1])**2.)))\n",
    "        slabFn = ndp.TPP*fn.math.erf((sdFn*dp.LS)/(2.*math.sqrt(dp.k*ageAtTrenchSeconds))) + ndp.TSP\n",
    "        for index, coord in enumerate(mesh.data):\n",
    "            if (\n",
    "                Oc.evaluate(tuple(coord)) and\n",
    "                Tri.evaluate(tuple(coord)) and not\n",
    "                Ic.evaluate(tuple(coord)) and\n",
    "                coord[1] > (1. - maxDepth)\n",
    "                ): #In the quarter-circle defining the lithosphere\n",
    "                temperatureField.data[index] = slabFn.evaluate(mesh)[index]\n",
    "\n"
   ]
  },
  {
   "cell_type": "code",
   "execution_count": 20,
   "metadata": {
    "collapsed": false
   },
   "outputs": [
    {
     "data": {
      "text/plain": [
       "0.125"
      ]
     },
     "execution_count": 20,
     "metadata": {},
     "output_type": "execute_result"
    }
   ],
   "source": [
    "maxDepth"
   ]
  },
  {
   "cell_type": "code",
   "execution_count": 21,
   "metadata": {
    "collapsed": false
   },
   "outputs": [],
   "source": [
    "#Make sure material in sticky air region is at the surface temperature.\n",
    "for index, coord in enumerate(mesh.data):\n",
    "            if coord[1] >= 1.:\n",
    "                temperatureField.data[index] = ndp.TSP"
   ]
  },
  {
   "cell_type": "code",
   "execution_count": 22,
   "metadata": {
    "collapsed": false
   },
   "outputs": [],
   "source": [
    "#fn.math.erf((sdFn*dp.LS)/(2.*fn.math.sqrt(dp.k*(slabmaxAge*(3600*24*365))))) "
   ]
  },
  {
   "cell_type": "code",
   "execution_count": 63,
   "metadata": {
    "collapsed": false,
    "scrolled": true
   },
   "outputs": [
    {
     "data": {
      "text/html": [
       "<img src='data:image/png;base64,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'>"
      ],
      "text/plain": [
       "<IPython.core.display.HTML object>"
      ]
     },
     "metadata": {},
     "output_type": "display_data"
    }
   ],
   "source": [
    "fig= glucifer.Figure()\n",
    "fig.append( glucifer.objects.Surface(mesh, temperatureField))\n",
    "\n",
    "#fig.append(glucifer.objects.Mesh(mesh))\n",
    "#fig.save_database('test.gldb')\n",
    "\n",
    "fig.show()"
   ]
  },
  {
   "cell_type": "markdown",
   "metadata": {},
   "source": [
    "Boundary conditions\n",
    "-------"
   ]
  },
  {
   "cell_type": "code",
   "execution_count": 24,
   "metadata": {
    "collapsed": false
   },
   "outputs": [
    {
     "name": "stdout",
     "output_type": "stream",
     "text": [
      "2\n"
     ]
    }
   ],
   "source": [
    "for index in mesh.specialSets[\"MinJ_VertexSet\"]:\n",
    "    temperatureField.data[index] = ndp.TBP\n",
    "for index in mesh.specialSets[\"MaxJ_VertexSet\"]:\n",
    "    temperatureField.data[index] = ndp.TSP\n",
    "    \n",
    "iWalls = mesh.specialSets[\"MinI_VertexSet\"] + mesh.specialSets[\"MaxI_VertexSet\"]\n",
    "jWalls = mesh.specialSets[\"MinJ_VertexSet\"] + mesh.specialSets[\"MaxJ_VertexSet\"]\n",
    "tWalls = mesh.specialSets[\"MaxJ_VertexSet\"]\n",
    "bWalls =mesh.specialSets[\"MinJ_VertexSet\"]\n",
    "\n",
    "VelBCs = mesh.specialSets[\"Empty\"]\n",
    "\n",
    "\n",
    "\n",
    "if VelBC:\n",
    "    for index in list(tWalls.data):\n",
    "\n",
    "        if (mesh.data[int(index)][0] < (subzone - 0.05*aspectRatio) and \n",
    "            mesh.data[int(index)][0] > (mesh.minCoord[0] + 0.05*aspectRatio)): #Only push with a portion of teh overiding plate\n",
    "            #print \"first\"\n",
    "            VelBCs.add(int(index))\n",
    "            #Set the plate velocities for the kinematic phase\n",
    "            velocityField.data[index] = [ndp.plate_vel, 0.]\n",
    "        \n",
    "        elif (mesh.data[int(index)][0] > (subzone + 0.05*aspectRatio) and \n",
    "            mesh.data[int(index)][0] < (mesh.maxCoord[0] - 0.05*aspectRatio)):\n",
    "            #print \"second\"\n",
    "            VelBCs.add(int(index))\n",
    "            #Set the plate velocities for the kinematic phase\n",
    "            velocityField.data[index] = [0., 0.]\n",
    "        \n",
    "\n",
    "#If periodic, we'll fix a the x-vel at a single node - at the bottom left (index 0)\n",
    "Fixed = mesh.specialSets[\"Empty\"]\n",
    "Fixed.add(int(0))        \n",
    "        \n",
    "\n",
    "if periodic[0] == False:\n",
    "    if VelBC:\n",
    "        print(1)\n",
    "        freeslipBC = uw.conditions.DirichletCondition( variable      = velocityField, \n",
    "                                               indexSetsPerDof = ( iWalls + VelBCs, jWalls) )\n",
    "    else:\n",
    "        print(2)\n",
    "        freeslipBC = uw.conditions.DirichletCondition( variable      = velocityField, \n",
    "                                               indexSetsPerDof = ( iWalls, jWalls) )\n",
    "\n",
    "\n",
    "\n",
    "\n",
    "\n",
    "\n",
    "if periodic[0] == True:\n",
    "    if VelBC:\n",
    "        print(3)\n",
    "        freeslipBC = uw.conditions.DirichletCondition( variable      = velocityField, \n",
    "                                               indexSetsPerDof = ( Fixed + VelBCs , jWalls) )\n",
    "    else:\n",
    "        print(4)\n",
    "        freeslipBC = uw.conditions.DirichletCondition( variable      = velocityField, \n",
    "                                               indexSetsPerDof = ( Fixed, jWalls) )\n",
    "        \n",
    "    \n",
    "    \n",
    "    \n",
    "# also set dirichlet for temp field\n",
    "dirichTempBC = uw.conditions.DirichletCondition(     variable=temperatureField, \n",
    "                                              indexSetsPerDof=(tWalls,) )\n",
    "dT_dy = [0.,0.]\n",
    "\n",
    "# also set dirichlet for temp field\n",
    "neumannTempBC = uw.conditions.NeumannCondition( dT_dy, variable=temperatureField, \n",
    "                                         nodeIndexSet=bWalls)\n",
    "\n"
   ]
  },
  {
   "cell_type": "code",
   "execution_count": null,
   "metadata": {
    "collapsed": false
   },
   "outputs": [],
   "source": []
  },
  {
   "cell_type": "code",
   "execution_count": 25,
   "metadata": {
    "collapsed": false
   },
   "outputs": [],
   "source": [
    "#check VelBCs are where we want them\n",
    "#test = np.zeros(len(tWalls.data))\n",
    "#VelBCs\n",
    "#tWalls.data\n",
    "#tWalls.data[VelBCs.data]\n",
    "#test[np.in1d(tWalls.data, VelBCs.data)] = 1.\n",
    "#test\n",
    "\n"
   ]
  },
  {
   "cell_type": "code",
   "execution_count": null,
   "metadata": {
    "collapsed": false
   },
   "outputs": [],
   "source": []
  },
  {
   "cell_type": "markdown",
   "metadata": {},
   "source": [
    "Swarm setup\n",
    "-----\n"
   ]
  },
  {
   "cell_type": "code",
   "execution_count": 26,
   "metadata": {
    "collapsed": false
   },
   "outputs": [],
   "source": [
    "###########\n",
    "#Material Swarm and variables\n",
    "###########\n",
    "\n",
    "#create material swarm\n",
    "gSwarm = uw.swarm.Swarm(mesh=mesh, particleEscape=True)\n",
    "\n",
    "#create swarm variables\n",
    "yieldingCheck = gSwarm.add_variable( dataType=\"int\", count=1 )\n",
    "tracerVariable = gSwarm.add_variable( dataType=\"int\", count=1)\n",
    "materialVariable = gSwarm.add_variable( dataType=\"int\", count=1 )\n",
    "ageVariable = gSwarm.add_variable( dataType=\"float\", count=1 )\n",
    "\n",
    "\n",
    "#these lists  are part of the checkpointing implementation\n",
    "varlist = [tracerVariable, tracerVariable, yieldingCheck]\n",
    "varlist = [materialVariable, yieldingCheck, ageVariable]\n",
    "varnames = ['materialVariable', 'yieldingCheck', 'ageVariable']"
   ]
  },
  {
   "cell_type": "code",
   "execution_count": 27,
   "metadata": {
    "collapsed": false
   },
   "outputs": [],
   "source": [
    "mantleIndex = 0\n",
    "crustIndex = 1\n",
    "harzIndex = 2\n",
    "airIndex = 3\n",
    "\n",
    "\n",
    "\n",
    "if checkpointLoad:\n",
    "    checkpointLoadDir = natsort.natsort(checkdirs)[-1]\n",
    "    temperatureField.load(os.path.join(checkpointLoadDir, \"temperatureField\" + \".hdf5\"))\n",
    "    pressureField.load(os.path.join(checkpointLoadDir, \"pressureField\" + \".hdf5\"))\n",
    "    velocityField.load(os.path.join(checkpointLoadDir, \"velocityField\" + \".hdf5\"))\n",
    "    gSwarm.load(os.path.join(checkpointLoadDir, \"swarm\" + \".h5\"))\n",
    "    for ix in range(len(varlist)):\n",
    "        varb = varlist[ix]\n",
    "        varb.load(os.path.join(checkpointLoadDir,varnames[ix] + \".h5\"))\n",
    "\n",
    "else:\n",
    "\n",
    "    # Layouts are used to populate the swarm across the whole domain\n",
    "    layout = uw.swarm.layouts.PerCellRandomLayout(swarm=gSwarm, particlesPerCell=ppc)\n",
    "    gSwarm.populate_using_layout( layout=layout ) # Now use it to populate.\n",
    "    # Swarm variables\n",
    "    materialVariable.data[:] = mantleIndex\n",
    "    tracerVariable.data[:] = 1\n",
    "    yieldingCheck.data[:] = 0\n",
    "    ageVariable.data[:] = -1\n",
    "\n",
    "    #Set initial air and crust materials (allow the graph to take care of lithsophere)\n",
    "    #########\n",
    "    #This initial material setup will be model dependent\n",
    "    #########\n",
    "    for particleID in range(gSwarm.particleCoordinates.data.shape[0]):\n",
    "        if (1. - gSwarm.particleCoordinates.data[particleID][1]) < MANTLETOCRUST:\n",
    "                 materialVariable.data[particleID] = crustIndex"
   ]
  },
  {
   "cell_type": "code",
   "execution_count": 28,
   "metadata": {
    "collapsed": false
   },
   "outputs": [],
   "source": [
    "###########\n",
    "#This block sets up a checkboard layout of passive tracers\n",
    "###########\n",
    "\n",
    "square_size = 0.1\n",
    "xlist = np.arange(mesh.minCoord[0] + square_size/2., mesh.maxCoord[0] + square_size/2., square_size)\n",
    "xlist = zip(xlist[:], xlist[1:])[::2]\n",
    "ylist = np.arange(mesh.minCoord[1] + square_size/2., mesh.maxCoord[1] + square_size/2., square_size)\n",
    "ylist = zip(ylist[:], ylist[1:])[::2]\n",
    "xops = []\n",
    "for vals in xlist:\n",
    "    xops.append( (operator.and_(   operator.gt(coordinate[0],vals[0]),   operator.lt(coordinate[0],vals[1])  ),0.) )\n",
    "xops.append((True,1.))\n",
    "\n",
    "testfunc = fn.branching.conditional(xops) \n",
    "\n",
    "yops = []\n",
    "for vals in ylist:\n",
    "    yops.append( (operator.and_(   operator.gt(coordinate[1],vals[0]),   operator.lt(coordinate[1],vals[1])  ),0.) )\n",
    "yops.append((True,testfunc))\n",
    "\n",
    "testfunc2 = fn.branching.conditional(yops) \n",
    "tracerVariable.data[:] = testfunc.evaluate(gSwarm)\n",
    "tracerVariable.data[:] = testfunc2.evaluate(gSwarm)"
   ]
  },
  {
   "cell_type": "code",
   "execution_count": 29,
   "metadata": {
    "collapsed": false
   },
   "outputs": [
    {
     "data": {
      "text/plain": [
       "array([  0.00000000e+00,   1.99999995e-05], dtype=float32)"
      ]
     },
     "execution_count": 29,
     "metadata": {},
     "output_type": "execute_result"
    }
   ],
   "source": [
    "#Set the inital particle age, for particles above the critical depth \n",
    "#(only these will be transformed to crust / harzburgite)\n",
    "\n",
    "ageVariable.data[:] = 0. #start with all zeor\n",
    "crustageCond = 1e-05 #set inital age above critical depth. (about 1.2 Ma.) Might have to be shorter than this - need to experiment\n",
    "ageDT = crustageCond + 1e-5 #initalize ages\n",
    "ageConditions = [ (depthFn < 100e3/dp.LS , ageDT),  \n",
    "                  (True, 0.) ]\n",
    "                 \n",
    "\n",
    "ageEval = fn.branching.conditional( ageConditions ).evaluate(gSwarm)\n",
    "ageVariable.data[np.where(ageEval == 0)] = 0 #If below the critical depth, age is set to zero\n",
    "ageVariable.data[np.where(ageEval != 0)] += ageDT #If age above critical depth, increment age\n",
    "\n",
    "np.unique(ageVariable.data)"
   ]
  },
  {
   "cell_type": "markdown",
   "metadata": {
    "collapsed": false
   },
   "source": [
    "Swarm control (material graph)\n",
    "-----\n",
    "\n"
   ]
  },
  {
   "cell_type": "code",
   "execution_count": null,
   "metadata": {
    "collapsed": false
   },
   "outputs": [],
   "source": [
    "\n"
   ]
  },
  {
   "cell_type": "code",
   "execution_count": 30,
   "metadata": {
    "collapsed": false
   },
   "outputs": [],
   "source": [
    "##############\n",
    "#Here we set up a directed graph object that we we use to control the transformation from one material type to another\n",
    "##############\n",
    "\n",
    "#All depth conditions are given as (km/D) where D is the length scale,\n",
    "#note that 'model depths' are used, e.g. 1-z, where z is the vertical Underworld coordinate\n",
    "#All temp conditions are in dimensionless temp. [0. - 1.]\n",
    "\n",
    "#This is a quick fix for a bug that arises in parallel runs\n",
    "material_list = [0,1,2,3]\n",
    "\n",
    "if not checkpointLoad:\n",
    "    materialVariable.data[:] = 0 #Initialize to zero \n",
    "\n",
    "#Setup the graph object\n",
    "DG = material_graph.MatGraph()\n",
    "\n",
    "#Important: First thing to do is to add all the material types to the graph (i.e add nodes)\n",
    "DG.add_nodes_from(material_list)\n",
    "\n",
    "#Now set the conditions for transformations\n",
    "\n",
    "#... to mantle\n",
    "DG.add_transition((crustIndex,mantleIndex), depthFn, operator.gt, CRUSTTOMANTLE)\n",
    "DG.add_transition((harzIndex,mantleIndex), depthFn, operator.gt, CRUSTTOMANTLE)\n",
    "#DG.add_transition((airIndex,mantleIndex), depthFn, operator.gt, TOPOHEIGHT)\n",
    "\n",
    "#... to crust\n",
    "DG.add_transition((mantleIndex,crustIndex), depthFn, operator.lt, MANTLETOCRUST)\n",
    "DG.add_transition((mantleIndex,crustIndex), xFn, operator.lt, 0.) #No crust on the upper plate\n",
    "DG.add_transition((mantleIndex,crustIndex), ageVariable, operator.gt, crustageCond)\n",
    "\n",
    "DG.add_transition((harzIndex,crustIndex), depthFn, operator.lt, MANTLETOCRUST)\n",
    "DG.add_transition((harzIndex,crustIndex), xFn, operator.lt, 0.) #This one sets no crust on the upper plate\n",
    "DG.add_transition((harzIndex,crustIndex), ageVariable, operator.gt, crustageCond)\n",
    "\n",
    "#... to Harzbugite\n",
    "DG.add_transition((mantleIndex,harzIndex), depthFn, operator.lt, HARZBURGDEPTH)\n",
    "DG.add_transition((mantleIndex,harzIndex), depthFn, operator.gt, MANTLETOCRUST)\n",
    "DG.add_transition((mantleIndex,harzIndex), ageVariable, operator.gt, crustageCond) #Note we can mix functions and swarm variabls\n",
    "\n",
    "#... to air\n",
    "#DG.add_transition((mantleIndex,airIndex), depthFn, operator.lt,0. - TOPOHEIGHT)\n",
    "#DG.add_transition((crustIndex,airIndex), depthFn, operator.lt, 0. - TOPOHEIGHT)\n",
    "\n"
   ]
  },
  {
   "cell_type": "code",
   "execution_count": 31,
   "metadata": {
    "collapsed": false
   },
   "outputs": [
    {
     "data": {
      "text/plain": [
       "(0.1, 0.01985)"
      ]
     },
     "execution_count": 31,
     "metadata": {},
     "output_type": "execute_result"
    }
   ],
   "source": [
    "CRUSTTOMANTLE, HARZBURGDEPTH"
   ]
  },
  {
   "cell_type": "code",
   "execution_count": 32,
   "metadata": {
    "collapsed": false
   },
   "outputs": [],
   "source": [
    "##############\n",
    "#For the slab_IC, we'll also add a crustal weak zone following the dipping perturbation\n",
    "##############\n",
    "\n",
    "if checkpointLoad != True:\n",
    "    if not symmetric_IC:\n",
    "        for particleID in range(gSwarm.particleCoordinates.data.shape[0]):\n",
    "            if (\n",
    "                Oc.evaluate(list(gSwarm.particleCoordinates.data[particleID])) and\n",
    "                Tri.evaluate(list(gSwarm.particleCoordinates.data[particleID])) and\n",
    "                Cc.evaluate(list(gSwarm.particleCoordinates.data[particleID])) == False\n",
    "                ):\n",
    "                materialVariable.data[particleID] = crustIndex"
   ]
  },
  {
   "cell_type": "code",
   "execution_count": 33,
   "metadata": {
    "collapsed": false
   },
   "outputs": [],
   "source": [
    "##############\n",
    "#This is how we use the material graph object to test / apply material transformations\n",
    "##############\n",
    "DG.build_condition_list(materialVariable)\n",
    "for i in range(3): #Need to go through a number of times\n",
    "    materialVariable.data[:] = fn.branching.conditional(DG.condition_list).evaluate(gSwarm)"
   ]
  },
  {
   "cell_type": "code",
   "execution_count": 34,
   "metadata": {
    "collapsed": false
   },
   "outputs": [],
   "source": [
    "#DG.build_condition_list(materialVariable)\n",
    "#materialVariable.data[:] = fn.branching.conditional(DG.condition_list).evaluate(gSwarm)"
   ]
  },
  {
   "cell_type": "markdown",
   "metadata": {
    "collapsed": false
   },
   "source": [
    "## Temp, phase and compositional buoyancy"
   ]
  },
  {
   "cell_type": "code",
   "execution_count": 35,
   "metadata": {
    "collapsed": true
   },
   "outputs": [],
   "source": [
    "##############\n",
    "#Put this in Slippy\n",
    "##############\n",
    "\n",
    "from easydict import EasyDict as edict\n",
    "class component_phases():\n",
    "    \"\"\"\n",
    "    Class that allows you to create 'phase functions' for a mineral component\n",
    "\n",
    "    \"\"\"\n",
    "    def __init__(self,name, depths,temps, widths,claps,densities):\n",
    "        \"\"\"\n",
    "        Class initialiser.\n",
    "        Parameter\n",
    "        ---------\n",
    "        name : str\n",
    "            'Component', e.g olivine, pyroxene-garnet\n",
    "        depths: list\n",
    "            list of transition depths in kilometers\n",
    "        widths: list \n",
    "            list of transition widths in kilometers\n",
    "        claps: list \n",
    "            list of Clapeyron slopes in Pa/K\n",
    "        densities: list\n",
    "            list of density changes in kg/m3\n",
    "        Returns\n",
    "        -------\n",
    "        mesh : dp\n",
    "        Dictionary storing the phase-transition vales\n",
    "\n",
    "        \"\"\"\n",
    "        if not isinstance(depths,list):\n",
    "            raise TypeError(\"depths object passed in must be of type 'list'\")\n",
    "        if not isinstance(temps,list):\n",
    "            raise TypeError(\"temps object passed in must be of type 'list'\")\n",
    "        if not isinstance(widths,list):\n",
    "            raise TypeError(\"widths object passed in must be of type 'list'\")\n",
    "        if not isinstance(claps,list):\n",
    "            raise TypeError(\"claps object passed in must be of type 'list'\")\n",
    "        if not isinstance(densities,list):\n",
    "            raise TypeError(\"densities object passed in must be of type 'list'\")\n",
    "        if not len(depths) == len(widths) == len(claps) == len(densities):\n",
    "            raise ValueError( \"All lists of phase values should be the same length\")\n",
    "        self.dp = edict({})\n",
    "        self.dp.name = name\n",
    "        self.dp.depths = depths\n",
    "        self.dp.temps = temps\n",
    "        self.dp.widths = widths\n",
    "        self.dp.claps = claps\n",
    "        self.dp.densities = densities\n",
    "        \n",
    "    def build_nd_dict(self, lengthscale, densityscale, gravityscale, tempscale):\n",
    "        self.ndp = edict({})\n",
    "        self.ndp.name = self.dp.name\n",
    "        self.ndp.depths = [i/lengthscale for i in self.dp.depths]\n",
    "        self.ndp.temps = [i/tempscale for i in self.dp.temps]\n",
    "        self.ndp.widths = [i/lengthscale for i in self.dp.widths]\n",
    "        self.ndp.claps = [(i*(tempscale/(densityscale*gravityscale*lengthscale))) for i in self.dp.claps]\n",
    "        \n",
    "    def nd_reduced_pressure(self, depthFn, temperatureField, depthPh, clapPh, tempPh):\n",
    "        \"\"\"\n",
    "        Creates an Underworld function, representing the 'reduced pressure'\n",
    "        \"\"\"\n",
    "        return (depthFn - depthPh) - clapPh*(temperatureField - tempPh)\n",
    "\n",
    "    def nd_phase(self, reduced_p, widthPh):\n",
    "        \"\"\"\n",
    "        Creates an Underworld function, representing the phase function in the domain\n",
    "        \"\"\"\n",
    "        return 0.5*(1. + fn.math.tanh(reduced_p/(widthPh)))\n",
    "    \n",
    "    def phase_function_sum(self, temperatureField, depthFn):\n",
    "        \"\"\"\n",
    "        Creates an Underworld function, representing the Sum of the individual phase functions:\n",
    "        -----------\n",
    "        temperatureField : underworld.mesh._meshvariable.MeshVariable\n",
    "        \n",
    "        ...need to put warning in about running build_nd_dict first \n",
    "        \"\"\"    \n",
    "        \n",
    "        pf_sum = uw.function.misc.constant(0.)\n",
    "        \n",
    "        for phaseId in range(len(self.dp['depths'])):\n",
    "            #build reduced pressure\n",
    "            rp = self.nd_reduced_pressure(depthFn, \n",
    "                                   temperatureField,\n",
    "                                   self.ndp['depths'][phaseId ],\n",
    "                                   self.ndp['claps'][phaseId ],\n",
    "                                   self.ndp['temps'][phaseId ])\n",
    "            #build phase function\n",
    "            pf = self.nd_phase(rp, self.ndp['widths'][phaseId ])\n",
    "            pf_sum += pf\n",
    "        \n",
    "        return pf_sum\n",
    "    \n",
    "    def buoyancy_sum(self, temperatureField, depthFn, gravityscale, lengthscale, diffusivityscale, viscosityscale):\n",
    "        \"\"\"\n",
    "        Creates an Underworld function, representing the Sum of the individual phase functions...\n",
    "        and the associated density changes:\n",
    "        \n",
    "        pf_sum = Sum_k{ (Ra*delRho_k*pf_k/rho_0*eta_0*delta_t)}\n",
    "        -----------\n",
    "        temperatureField : underworld.mesh._meshvariable.MeshVariable\n",
    "        \n",
    "        ...need to put warning in about running build_nd_dict first \n",
    "        \"\"\"\n",
    "        bouyancy_factor = (gravityscale*lengthscale**3)/(viscosityscale*diffusivityscale)\n",
    "        \n",
    "        pf_sum = uw.function.misc.constant(0.)\n",
    "        \n",
    "        for phaseId in range(len(self.dp['depths'])):\n",
    "            #build reduced pressure\n",
    "            rp = self.nd_reduced_pressure(depthFn, \n",
    "                                   temperatureField,\n",
    "                                   self.ndp['depths'][phaseId ],\n",
    "                                   self.ndp['claps'][phaseId ],\n",
    "                                   self.ndp['temps'][phaseId ])\n",
    "            #build phase function\n",
    "            pf = self.nd_phase(rp, self.ndp['widths'][phaseId ])\n",
    "            pf_sum += bouyancy_factor*pf*self.dp['densities'][phaseId ] #we want the dimensional densities here\n",
    "        \n",
    "        return pf_sum"
   ]
  },
  {
   "cell_type": "code",
   "execution_count": 36,
   "metadata": {
    "collapsed": false
   },
   "outputs": [],
   "source": [
    "##############\n",
    "#Set up phase buoyancy contributions\n",
    "##############\n",
    "\n",
    "\n",
    "#olivine\n",
    "olivinePhase = component_phases(name = 'ol', \n",
    "                        depths=[410e3,660e3],\n",
    "                        temps = [1600., 1900.], \n",
    "                        widths = [20e3, 20e3], \n",
    "                        claps=[2.e6, -2.5e6], \n",
    "                        densities = [180., 400.])\n",
    "\n",
    "olivinePhase.build_nd_dict(dp.LS, dp.rho, dp.g, dp.deltaTa)\n",
    "\n",
    "\n",
    "rp = olivinePhase.nd_reduced_pressure(depthFn, \n",
    "                                   temperatureField,\n",
    "                                   olivinePhase.ndp['depths'][0],\n",
    "                                   olivinePhase.ndp['claps'][0],\n",
    "                                   olivinePhase.ndp['temps'][0])\n",
    "\n",
    "#ph_410 = olivinePhase.nd_phase(rp, test.ndp['widths'][0])\n",
    "#pf_sum = test.phase_function_sum(temperatureField, depthFn)\n",
    "\n",
    "olivine_phase_buoyancy = olivinePhase.buoyancy_sum(temperatureField, depthFn, dp.g, dp.LS, dp.k, dp.eta0)\n",
    "\n",
    "#garnet\n",
    "garnetPhase = component_phases(name = 'grt', \n",
    "                        depths=[60e3,400e3, 720e3],\n",
    "                        temps = [1000., 1600., 1900.], \n",
    "                        widths = [20e3, 20e3, 20e3], \n",
    "                        claps=[0.e6, 1.e6, 1.e6], \n",
    "                        densities = [350., 150., 400.])\n",
    "\n",
    "garnetPhase.build_nd_dict(dp.LS, dp.rho, dp.g, dp.deltaTa)\n",
    "\n",
    "\n",
    "rp = garnetPhase.nd_reduced_pressure(depthFn, \n",
    "                                   temperatureField,\n",
    "                                   garnetPhase.ndp['depths'][0],\n",
    "                                   garnetPhase.ndp['claps'][0],\n",
    "                                   garnetPhase.ndp['temps'][0])\n",
    "\n",
    "#ph_410 = olivinePhase.nd_phase(rp, test.ndp['widths'][0])\n",
    "#pf_sum = test.phase_function_sum(temperatureField, depthFn)\n",
    "\n",
    "garnet_phase_buoyancy = garnetPhase.buoyancy_sum(temperatureField, depthFn, dp.g, dp.LS, dp.k, dp.eta0)"
   ]
  },
  {
   "cell_type": "code",
   "execution_count": 37,
   "metadata": {
    "collapsed": false
   },
   "outputs": [
    {
     "name": "stdout",
     "output_type": "stream",
     "text": [
      "(70560000.0, 12740000.0, 0.0)\n"
     ]
    }
   ],
   "source": [
    "##############\n",
    "#Set up compositional buoyancy contributions\n",
    "##############\n",
    "\n",
    "bouyancy_factor = (dp.g*dp.LS**3)/(dp.eta0*dp.k)\n",
    "\n",
    "basalt_comp_buoyancy  = (dp.rho - 2940.)*bouyancy_factor\n",
    "harz_comp_buoyancy = (dp.rho - 3235.)*bouyancy_factor\n",
    "pyrolite_comp_buoyancy = (dp.rho - 3300.)*bouyancy_factor\n",
    "\n",
    "print(basalt_comp_buoyancy, harz_comp_buoyancy, pyrolite_comp_buoyancy)"
   ]
  },
  {
   "cell_type": "code",
   "execution_count": 107,
   "metadata": {
    "collapsed": false
   },
   "outputs": [],
   "source": [
    "#this accounts for the decreas in expansivity\n",
    "alphaRatio = 1.2/3\n",
    "taFn = 1. - (depthFn)*(1. - alphaRatio) \n",
    "#raylieghFn = ndp.RA*temperatureField*taFn\n",
    "\n",
    "pyrolitebuoyancyFn =  (ndp.RA*temperatureField*taFn)\n",
    "harzbuoyancyFn =      (ndp.RA*temperatureField*taFn) \n",
    "basaltbuoyancyFn =    (ndp.RA*temperatureField*taFn)\n",
    "    \n",
    "#pyrolitebuoyancyFn =  (ndp.RA*temperatureField*taFn) -\\\n",
    "#                      (0.6*olivine_phase_buoyancy + 0.4*garnet_phase_buoyancy) +\\\n",
    "#                       pyrolite_comp_buoyancy\n",
    "#harzbuoyancyFn =      (ndp.RA*temperatureField*taFn) -\\\n",
    "#                      (0.8*olivine_phase_buoyancy + 0.2*garnet_phase_buoyancy) +\\\n",
    "#                       harz_comp_buoyancy\n",
    "#basaltbuoyancyFn =    (ndp.RA*temperatureField*taFn) -\\\n",
    "#                      (1.*garnet_phase_buoyancy) +\\\n",
    "#                       basalt_comp_buoyancy"
   ]
  },
  {
   "cell_type": "code",
   "execution_count": 39,
   "metadata": {
    "collapsed": false
   },
   "outputs": [
    {
     "data": {
      "text/html": [
       "<img src='data:image/png;base64,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'>"
      ],
      "text/plain": [
       "<IPython.core.display.HTML object>"
      ]
     },
     "metadata": {},
     "output_type": "display_data"
    }
   ],
   "source": [
    "fig= glucifer.Figure()\n",
    "#fig.append( glucifer.objects.Points(gSwarm, densityMapFn))\n",
    "fig.append( glucifer.objects.Surface(mesh, basaltbuoyancyFn))\n",
    "\n",
    "\n",
    "fig.show()"
   ]
  },
  {
   "cell_type": "markdown",
   "metadata": {},
   "source": [
    "Rheology\n",
    "-----\n",
    "\n"
   ]
  },
  {
   "cell_type": "code",
   "execution_count": 40,
   "metadata": {
    "collapsed": false
   },
   "outputs": [],
   "source": [
    "# The yeilding of the upper slab is dependent on the strain rate.\n",
    "strainRate_2ndInvariant = fn.tensor.second_invariant( \n",
    "                            fn.tensor.symmetric( \n",
    "                            velocityField.fn_gradient ))\n",
    "\n"
   ]
  },
  {
   "cell_type": "code",
   "execution_count": 41,
   "metadata": {
    "collapsed": false
   },
   "outputs": [],
   "source": [
    "ViscReduce = 0.75\n",
    "\n",
    "ndp.Wds *= ViscReduce\n",
    "ndp.Wdf *= ViscReduce\n",
    "ndp.Eds *= ViscReduce\n",
    "ndp.Edf *= ViscReduce"
   ]
  },
  {
   "cell_type": "code",
   "execution_count": 42,
   "metadata": {
    "collapsed": false
   },
   "outputs": [
    {
     "data": {
      "text/plain": [
       "(36.867623321738087, 13.406408480632031, 21.22634687366176, 14.814221255576438)"
      ]
     },
     "execution_count": 42,
     "metadata": {},
     "output_type": "execute_result"
    }
   ],
   "source": [
    "ndp.Wds, ndp.Wdf, ndp.Eds, ndp.Edf"
   ]
  },
  {
   "cell_type": "code",
   "execution_count": 43,
   "metadata": {
    "collapsed": false
   },
   "outputs": [],
   "source": [
    "############\n",
    "#Rheology\n",
    "#############\n",
    "#\n",
    "#The final mantle rheology is composed as follows*:\n",
    "# \n",
    "#\n",
    "# mantleviscosityFn = max{  min{(1/omega*Visc + 1/eta_p)**-1,\n",
    "#                           eta_max},\n",
    "#                           eta_min}\n",
    "#                      \n",
    "#Visc => min{diffusionCreep, dislocationCreep, }\n",
    "#eta_p   => stress-limiting effective viscosity\n",
    "#\n",
    "\n",
    "omega = fn.misc.constant(1.)\n",
    "\n",
    "if melt_viscosity_reduction:\n",
    "    mvr =  fn.branching.conditional( [ (temperatureField > (ndp.Tmvp + 7.5*(1. - coordinate[1])) , 0.1 ),   (         True, 1.) ] )\n",
    "    omega = omega*mvr\n",
    "\n",
    "\n",
    "#implementation of the lower mantle viscosity increase, similar to Bello et al. 2015\n",
    "a = 1.\n",
    "B = 30.\n",
    "d0 = 660e3/dp.LS  \n",
    "ds = d0/10.\n",
    "if lower_mantle:\n",
    "    inner1 = 1. - 0.5*(1. - fn.math.tanh(((1. - d0)-(coordinate[1]))/(ds)))\n",
    "    modfac = a*fn.math.exp(np.log(B)*inner1)\n",
    "    omega = omega*modfac\n",
    "\n",
    "\n",
    "##Diffusion Creep\n",
    "ndfp = fn.misc.min(ndp.eta_max, fn.math.exp( ((ndp.Edf + (depthFn*ndp.Wdf))/((temperatureField + ndp.TS))) - \n",
    "              ((ndp.Edf + (ndp.Dr*ndp.Wdf))/((ndp.TPP + ndp.TS)))  ))\n",
    "\n",
    "linearVisc = fn.misc.min(ndp.eta_max, ndfp)\n",
    "\n",
    "##Dislocation Creep\n",
    "nl_correction = (strainRate_2ndInvariant/ndp.SR)**((1.-ndp.n)/(ndp.n))\n",
    "\n",
    "\n",
    "ndsp = fn.misc.min(ndp.eta_max,(nl_correction)*fn.math.exp( ((ndp.Eds + (depthFn*ndp.Wds))/(ndp.n*(temperatureField + ndp.TS))) -\n",
    "                                     ((ndp.Eds + (ndp.Dr*ndp.Wds))/(ndp.n*(ndp.TPP + ndp.TS)))))\n",
    "\n",
    "\n",
    "##Combine the creep mechanisms\n",
    "Visc = fn.misc.max(fn.misc.min(ndp.eta_max, fn.misc.min(ndfp, ndsp)), ndp.eta_min)\n",
    "\n",
    "##Define the Plasticity\n",
    "ys =  ndp.cohesion + (depthFn*ndp.fcd) #In this case we'll use a valid cohesion\n",
    "yielding = ys/(strainRate_2ndInvariant/math.sqrt(0.5)) #extra factor to account for underworld second invariant form\n",
    "\n",
    "\n",
    "#Combine the viscous creep and plasticity\n",
    "#mantleviscosityFn = fn.misc.max(fn.misc.min(1./(((1./Visc) + (1./yielding))), ndp.eta_max), ndp.eta_min)\n",
    "mantleviscosityFn = fn.misc.max(fn.misc.min(fn.misc.min(Visc, yielding), ndp.eta_max), ndp.eta_min)\n",
    "\n",
    "lowMantleDepth = 660e3\n",
    "lowMantleViscFac = 2.\n",
    "finalviscosityFn  = fn.branching.conditional([(depthFn < lowMantleDepth/dp.LS, mantleviscosityFn),\n",
    "                                  (True, ndfp*lowMantleViscFac)])\n",
    "\n",
    "\n",
    "#fn.misc.min(Visc, yielding)\n",
    "\n",
    "#lower mantle rheology\n",
    "\n",
    "#ndflm = fn.misc.min(ndp.eta_max, fn.math.exp( ((ndp.Elm + (depthFn*ndp.Wlm))/((temperatureField + ndp.TS))) - \n",
    "#              ((ndp.Elm + (ndp.Dr*ndp.Wlm))/((ndp.TPP + ndp.TS)))  ))\n",
    "\n",
    "#I ignored Cizkova's lower mantle diffusion creep parameters, \n",
    "#as they appeared to give lower values that the upper mantle rheology, i.e a visc. decrease at 660.\n",
    "#lm_increase = 1.\n",
    "#lowermantleviscosityFn = fn.misc.max(lm_increase*ndfp, ndp.eta_min)\n",
    "\n",
    "\n",
    "##Crust rheology\n",
    "#reduceFac = 0.1\n",
    "#ysc =  reduceFac*ndp.cohesion + reduceFac*(depthFn*gamma*ndp.RA) #In this case we'll use a valid cohesion\n",
    "#crust_yielding = ysc/(strainRate_2ndInvariant/math.sqrt(0.5)) #extra factor to account for underworld second invariant form\n",
    "#crustviscosityFn = fn.misc.max(fn.misc.min(1./(((1./Visc) + (1./crust_yielding))), ndp.eta_max), ndp.eta_min)\n"
   ]
  },
  {
   "cell_type": "code",
   "execution_count": 45,
   "metadata": {
    "collapsed": false
   },
   "outputs": [],
   "source": [
    "############\n",
    "#Build a weak zone\n",
    "#############\n",
    "\n",
    "\n",
    "def disGen(centre):\n",
    "    coord = fn.input()\n",
    "    offsetFn = coord - centre\n",
    "    return fn.math.sqrt(fn.math.dot( offsetFn, offsetFn ))\n",
    "\n",
    "depth = 200.e3 #m\n",
    "angle = 20. #degrees\n",
    "num_circles = 50\n",
    "half_width = 5e3 #m\n",
    "\n",
    "\n",
    "xpos = depth/math.tan((angle*math.pi/180.))\n",
    "start = (0.075, 1.)\n",
    "end = (start[0] +xpos/dp.LS , start[1] - depth/dp.LS)\n",
    "xar = np.linspace(start[0], end[0], num_circles)\n",
    "yar = np.linspace(start[1], end[1], num_circles)\n",
    "fnBuilder = fn.misc.constant(1000.)\n",
    "for i in range(num_circles):\n",
    "    circ_dist = disGen((xar[i], yar[i]))\n",
    "    fnBuilder = fn.misc.min(circ_dist, fnBuilder)\n",
    "    \n",
    "sig = half_width/dp.LS\n",
    "gammaFn =  fn.math.exp(-fn.math.pow(fnBuilder, 2.) / (2. * fn.math.pow(sig, 2.)))"
   ]
  },
  {
   "cell_type": "code",
   "execution_count": 46,
   "metadata": {
    "collapsed": false
   },
   "outputs": [],
   "source": [
    "testFn = disGen((0., 1.))"
   ]
  },
  {
   "cell_type": "code",
   "execution_count": 47,
   "metadata": {
    "collapsed": true
   },
   "outputs": [],
   "source": [
    "weakVisc = 1.\n",
    "weakzoneFn = fn.misc.min((weakVisc/gammaFn*1.),ndp.eta_max)\n",
    "combmantleviscosityFn = fn.misc.max(ndp.eta_min, fn.misc.min(mantleviscosityFn, weakzoneFn))\n",
    "\n"
   ]
  },
  {
   "cell_type": "code",
   "execution_count": 83,
   "metadata": {
    "collapsed": true
   },
   "outputs": [],
   "source": [
    "\n",
    "    "
   ]
  },
  {
   "cell_type": "code",
   "execution_count": 84,
   "metadata": {
    "collapsed": false
   },
   "outputs": [
    {
     "data": {
      "text/html": [
       "<img src='data:image/png;base64,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'>"
      ],
      "text/plain": [
       "<IPython.core.display.HTML object>"
      ]
     },
     "metadata": {},
     "output_type": "display_data"
    }
   ],
   "source": [
    "fig= glucifer.Figure()\n",
    "#fig.append( glucifer.objects.Points(gSwarm,tracerVariable, colours= 'white black'))\n",
    "#fig.append( glucifer.objects.Points(gSwarm,viscosityMapFn, logScale=True))\n",
    "fig.append( glucifer.objects.Surface(mesh, pV, logScale=True))\n",
    "#fig.append( glucifer.objects.VectorArrows(mesh, testFn))\n",
    "fig.show()\n",
    "#fig.save_database('test.gldb')"
   ]
  },
  {
   "cell_type": "code",
   "execution_count": 49,
   "metadata": {
    "collapsed": false
   },
   "outputs": [],
   "source": [
    "#velocityField.data.max()"
   ]
  },
  {
   "cell_type": "markdown",
   "metadata": {},
   "source": [
    "import matplotlib.pylab as pyplt\n",
    "%matplotlib inline\n",
    "\n",
    "\n",
    "\n",
    "##################\n",
    "#Output functions to numpy vertical averages, maxes, mins\n",
    "##################\n",
    "\n",
    "viscmapFnmesh = uw.mesh.MeshVariable(mesh,nodeDofCount=1)\n",
    "out = uw.utils.MeshVariable_Projection( viscmapFnmesh, viscosityMapFn)\n",
    "out.solve()\n",
    "\n",
    "\n",
    "#avDf = ndfp.evaluate(mesh).reshape(mesh.elementRes[1] + 1, mesh.elementRes[0] + 1).mean(axis=1)\n",
    "avDs = ndsp.evaluate(mesh).reshape(mesh.elementRes[1] + 1, mesh.elementRes[0] + 1).mean(axis=1)\n",
    "umantle = mantleviscosityFn.evaluate(mesh).reshape(mesh.elementRes[1] + 1, mesh.elementRes[0] + 1).mean(axis=1)\n",
    "lmantle = lowermantleviscosityFn.evaluate(mesh).reshape(mesh.elementRes[1] + 1, mesh.elementRes[0] + 1).mean(axis=1)\n",
    "eff = viscmapFnmesh.evaluate(mesh).reshape(mesh.elementRes[1] + 1, mesh.elementRes[0] + 1).mean(axis=1)\n",
    "\n",
    "effMin = viscmapFnmesh.evaluate(mesh).reshape(mesh.elementRes[1] + 1, mesh.elementRes[0] + 1).min(axis=1)\n",
    "effMax = viscmapFnmesh.evaluate(mesh).reshape(mesh.elementRes[1] + 1, mesh.elementRes[0] + 1).max(axis=1)\n",
    "\n",
    "###################\n",
    "#Plot\n",
    "###################\n",
    "import matplotlib.pylab as pyplt\n",
    "%matplotlib inline\n",
    "\n",
    "fig, ax = pyplt.subplots()\n",
    "#ax .plot(avDf, label = 'diff')\n",
    "#ax .plot(avDs, label = 'dis')\n",
    "ax .plot(eff, label = 'eff')\n",
    "ax .plot(effMax, label = 'effMax')\n",
    "ax .plot(effMin, label = 'effMin')\n",
    "#ax .plot(umantle, label = 'uman')\n",
    "#ax .plot(lmantle, label = 'lman')\n",
    "ax.set_yscale(\"log\", nonposy='clip')\n",
    "ax.legend(loc = 3)"
   ]
  },
  {
   "cell_type": "code",
   "execution_count": 167,
   "metadata": {
    "collapsed": false,
    "scrolled": true
   },
   "outputs": [],
   "source": [
    "#fig= glucifer.Figure()\n",
    "#fig.append( glucifer.objects.Points(gSwarm,materialVariable))\n",
    "#fig.append( glucifer.objects.Points(gSwarm,viscosityMapFn, logScale=True))\n",
    "#fig.append( glucifer.objects.Surface(mesh, ndfp, logScale=True))\n",
    "\n",
    "#fig.append( glucifer.objects.Surface(mesh,mantleviscosityFn, logScale=True))\n",
    "#fig.show()\n",
    "#fig.save_database('test.gldb')"
   ]
  },
  {
   "cell_type": "code",
   "execution_count": 168,
   "metadata": {
    "collapsed": false
   },
   "outputs": [
    {
     "data": {
      "text/plain": [
       "(100000.0, 0.11832159263646701)"
      ]
     },
     "execution_count": 168,
     "metadata": {},
     "output_type": "execute_result"
    }
   ],
   "source": [
    "ndsp.evaluate(mesh).min(), ndfp.evaluate(mesh).min()"
   ]
  },
  {
   "cell_type": "code",
   "execution_count": 169,
   "metadata": {
    "collapsed": false
   },
   "outputs": [],
   "source": [
    "#ndp.SR"
   ]
  },
  {
   "cell_type": "code",
   "execution_count": 52,
   "metadata": {
    "collapsed": false,
    "scrolled": true
   },
   "outputs": [
    {
     "data": {
      "text/html": [
       "<img src='data:image/png;base64,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'>"
      ],
      "text/plain": [
       "<IPython.core.display.HTML object>"
      ]
     },
     "metadata": {},
     "output_type": "display_data"
    }
   ],
   "source": [
    "fig= glucifer.Figure()\n",
    "#fig.append( glucifer.objects.Points(gSwarm,tracerVariable, colours= 'white black'))\n",
    "#fig.append( glucifer.objects.Points(gSwarm,materialVariable))\n",
    "fig.append( glucifer.objects.Surface(mesh, ndfp/ndsp , logScale=True))\n",
    "\n",
    "#fig.append( glucifer.objects.Surface(mesh, strainRate_2ndInvariant/ndp.SR, logScale=True))\n",
    "fig.show()\n",
    "#fig.save_database('test.gldb')"
   ]
  },
  {
   "cell_type": "code",
   "execution_count": null,
   "metadata": {
    "collapsed": false
   },
   "outputs": [],
   "source": []
  },
  {
   "cell_type": "markdown",
   "metadata": {},
   "source": [
    "Stokes system setup\n",
    "-----\n"
   ]
  },
  {
   "cell_type": "code",
   "execution_count": 94,
   "metadata": {
    "collapsed": true
   },
   "outputs": [],
   "source": [
    "densityMapFn = fn.branching.map( fn_key = materialVariable,\n",
    "                         mapping = {airIndex:ndp.StRA,\n",
    "                                    crustIndex:basaltbuoyancyFn, \n",
    "                                    mantleIndex:pyrolitebuoyancyFn,\n",
    "                                    harzIndex:harzbuoyancyFn} )"
   ]
  },
  {
   "cell_type": "code",
   "execution_count": 95,
   "metadata": {
    "collapsed": true
   },
   "outputs": [],
   "source": [
    "\n",
    "# Define our vertical unit vector using a python tuple (this will be automatically converted to a function).\n",
    "gravity = ( 0.0, 1.0 )\n",
    "\n",
    "# Now create a buoyancy force vector using the density and the vertical unit vector. \n",
    "buoyancyFn = densityMapFn * gravity"
   ]
  },
  {
   "cell_type": "code",
   "execution_count": 96,
   "metadata": {
    "collapsed": true
   },
   "outputs": [],
   "source": [
    "stokesPIC = uw.systems.Stokes(velocityField=velocityField, \n",
    "                              pressureField=pressureField,\n",
    "                              conditions=[freeslipBC,],\n",
    "                              fn_viscosity=linearVisc, \n",
    "                              fn_bodyforce=buoyancyFn )"
   ]
  },
  {
   "cell_type": "code",
   "execution_count": 97,
   "metadata": {
    "collapsed": true
   },
   "outputs": [],
   "source": [
    "solver = uw.systems.Solver(stokesPIC)\n",
    "if not checkpointLoad:\n",
    "    solver.solve() #A solve on the linear visocisty is unhelpful unless we're starting from scratch"
   ]
  },
  {
   "cell_type": "code",
   "execution_count": 102,
   "metadata": {
    "collapsed": false
   },
   "outputs": [],
   "source": [
    "############\n",
    "#Yield limiting viscosity, in this case we arrange viscosities in parallel\n",
    "#############\n",
    "dp.yl = 5e8\n",
    "dp.ylsr = 1e-15\n",
    "ndp.yl = dp.yl*sf.stress\n",
    "ndp.ylsr = dp.ylsr*sf.SR\n",
    "ndp.yln = 10.\n",
    "ndyl = fn.misc.min(ndp.eta_max,ndp.yl*(ndp.ylsr**(-1./ndp.yln))*(strainRate_2ndInvariant)**(1./(ndp.yln-1.)))\n",
    "\n",
    "if parallelVisc:\n",
    "    combmantleviscosityFn = fn.misc.max(fn.misc.min(1./(((1./ndfp) + (1./ndsp) + 1./(ndyl) )), ndp.eta_max), ndp.eta_min)"
   ]
  },
  {
   "cell_type": "code",
   "execution_count": 105,
   "metadata": {
    "collapsed": false
   },
   "outputs": [
    {
     "data": {
      "text/html": [
       "<img src='data:image/png;base64,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'>"
      ],
      "text/plain": [
       "<IPython.core.display.HTML object>"
      ]
     },
     "metadata": {},
     "output_type": "display_data"
    }
   ],
   "source": [
    "fig= glucifer.Figure()\n",
    "#fig.append( glucifer.objects.Points(gSwarm,tracerVariable, colours= 'white black'))\n",
    "#fig.append( glucifer.objects.Points(gSwarm,materialVariable))\n",
    "fig.append( glucifer.objects.Surface(mesh, combmantleviscosityFn, logScale=True))\n",
    "\n",
    "#fig.append( glucifer.objects.Surface(mesh, strainRate_2ndInvariant/ndp.SR, logScale=True))\n",
    "fig.show()\n",
    "#fig.save_database('test.gldb')"
   ]
  },
  {
   "cell_type": "code",
   "execution_count": 92,
   "metadata": {
    "collapsed": false
   },
   "outputs": [
    {
     "data": {
      "text/plain": [
       "(100.0, 0.01)"
      ]
     },
     "execution_count": 92,
     "metadata": {},
     "output_type": "execute_result"
    }
   ],
   "source": [
    "dp.yl/ndp.yl, sf.stress"
   ]
  },
  {
   "cell_type": "code",
   "execution_count": 171,
   "metadata": {
    "collapsed": false
   },
   "outputs": [
    {
     "name": "stdout",
     "output_type": "stream",
     "text": [
      "2\n"
     ]
    }
   ],
   "source": [
    "if WeakZone:\n",
    "    print(1)\n",
    "    viscosityMapFn = fn.branching.map( fn_key = materialVariable,\n",
    "                         mapping = {crustIndex:combmantleviscosityFn,\n",
    "                                    mantleIndex:combmantleviscosityFn,\n",
    "                                    harzIndex:combmantleviscosityFn} )\n",
    "else: #Use weak crust\n",
    "    print(2)\n",
    "    viscosityMapFn = fn.branching.map( fn_key = materialVariable,\n",
    "                         mapping = {crustIndex:ndp.eta_crust,\n",
    "                                    mantleIndex:finalviscosityFn,\n",
    "                                    harzIndex:finalviscosityFn} )\n",
    "\n"
   ]
  },
  {
   "cell_type": "code",
   "execution_count": 173,
   "metadata": {
    "collapsed": false
   },
   "outputs": [],
   "source": []
  },
  {
   "cell_type": "code",
   "execution_count": 174,
   "metadata": {
    "collapsed": false
   },
   "outputs": [],
   "source": []
  },
  {
   "cell_type": "code",
   "execution_count": null,
   "metadata": {
    "collapsed": true
   },
   "outputs": [],
   "source": []
  },
  {
   "cell_type": "code",
   "execution_count": 175,
   "metadata": {
    "collapsed": true
   },
   "outputs": [],
   "source": [
    "#Add the non-linear viscosity to the Stokes system\n",
    "stokesPIC.fn_viscosity = viscosityMapFn"
   ]
  },
  {
   "cell_type": "code",
   "execution_count": 176,
   "metadata": {
    "collapsed": false
   },
   "outputs": [
    {
     "name": "stdout",
     "output_type": "stream",
     "text": [
      "\u001b[1;35m\n",
      " \n",
      "Pressure iterations:   3\n",
      "Velocity iterations:   1 (presolve)      \n",
      "Velocity iterations:  -1 (pressure solve)\n",
      "Velocity iterations:   1 (backsolve)     \n",
      "Velocity iterations:   1 (total solve)   \n",
      " \n",
      "SCR RHS  solve time: 2.3439e+00\n",
      "Pressure solve time: 8.8912e-02\n",
      "Velocity solve time: 1.4446e+00 (backsolve)\n",
      "Total solve time   : 4.0866e+00\n",
      " \n",
      "Velocity solution min/max: 0.0000e+00/0.0000e+00\n",
      "Pressure solution min/max: 0.0000e+00/0.0000e+00\n",
      " \n",
      "\u001b[00m\n"
     ]
    }
   ],
   "source": [
    "solver.set_inner_method(\"mumps\")\n",
    "solver.options.scr.ksp_type=\"cg\"\n",
    "solver.set_penalty(1.0e7)\n",
    "solver.options.scr.ksp_rtol = 1.0e-4\n",
    "solver.solve(nonLinearIterate=True)\n",
    "solver.print_stats()"
   ]
  },
  {
   "cell_type": "code",
   "execution_count": null,
   "metadata": {
    "collapsed": true
   },
   "outputs": [],
   "source": []
  },
  {
   "cell_type": "code",
   "execution_count": 177,
   "metadata": {
    "collapsed": false
   },
   "outputs": [],
   "source": [
    "#Check which particles are yielding\n",
    "#yieldingCheck.data[:] = 0\n",
    "\n",
    "#yieldconditions = [ ( mantleviscosityFn < Visc , 1), \n",
    "#               ( True                                           , 0) ]\n",
    "\n",
    "# use the branching conditional function to set each particle's index\n",
    "#yieldingCheck.data[:] = fn.branching.conditional( yieldconditions ).evaluate(gSwarm)"
   ]
  },
  {
   "cell_type": "code",
   "execution_count": 178,
   "metadata": {
    "collapsed": false,
    "scrolled": true
   },
   "outputs": [],
   "source": [
    "#fig= glucifer.Figure()\n",
    "#fig.append( glucifer.objects.Points(gSwarm,yieldingCheck))\n",
    "\n",
    "#fig.append( glucifer.objects.Surface(mesh,ndflm, logScale=True))\n",
    "#fig.show()"
   ]
  },
  {
   "cell_type": "markdown",
   "metadata": {},
   "source": [
    "Advection-diffusion System setup\n",
    "-----"
   ]
  },
  {
   "cell_type": "code",
   "execution_count": 52,
   "metadata": {
    "collapsed": true
   },
   "outputs": [],
   "source": [
    "advDiff = uw.systems.AdvectionDiffusion( phiField       = temperatureField, \n",
    "                                         phiDotField    = temperatureDotField, \n",
    "                                         velocityField  = velocityField,\n",
    "                                         fn_sourceTerm    = 0.0,\n",
    "                                         fn_diffusivity = 1.0, \n",
    "                                         #conditions     = [neumannTempBC, dirichTempBC] )\n",
    "                                         conditions     = [ dirichTempBC] )\n",
    "\n",
    "passiveadvector = uw.systems.SwarmAdvector( swarm         = gSwarm, \n",
    "                                     velocityField = velocityField, \n",
    "                                     order         = 1)"
   ]
  },
  {
   "cell_type": "code",
   "execution_count": 61,
   "metadata": {
    "collapsed": false
   },
   "outputs": [],
   "source": [
    "############\n",
    "#Slightly Diffuse the initial perturbation\n",
    "#############\n",
    "\n",
    "timetoDifffuse = 5. #Million years\n",
    "incrementtoDiffuse = 0.1 #Million years\n",
    "\n",
    "timetoDifffuse = (timetoDifffuse*1e6*(spery)/sf.SR).magnitude\n",
    "incrementtoDiffuse = (incrementtoDiffuse*1e6*(spery)/sf.SR).magnitude\n",
    "\n",
    "totAdt = 0.\n",
    "while totAdt < timetoDifffuse:\n",
    "    dtad = advDiff.get_max_dt()\n",
    "    advDiff.integrate(incrementtoDiffuse)\n",
    "    totAdt += incrementtoDiffuse"
   ]
  },
  {
   "cell_type": "code",
   "execution_count": 62,
   "metadata": {
    "collapsed": false
   },
   "outputs": [
    {
     "data": {
      "text/html": [
       "<img src='data:image/png;base64,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'>"
      ],
      "text/plain": [
       "<IPython.core.display.HTML object>"
      ]
     },
     "metadata": {},
     "output_type": "display_data"
    }
   ],
   "source": [
    "fig= glucifer.Figure()\n",
    "\n",
    "fig.append( glucifer.objects.Surface(mesh, temperatureField))\n",
    "\n",
    "fig.show()"
   ]
  },
  {
   "cell_type": "code",
   "execution_count": 62,
   "metadata": {
    "collapsed": true
   },
   "outputs": [],
   "source": [
    "population_control = uw.swarm.PopulationControl(gSwarm,deleteThreshold=0.2,splitThreshold=1.,maxDeletions=3,maxSplits=0, aggressive=True, particlesPerCell=ppc)"
   ]
  },
  {
   "cell_type": "markdown",
   "metadata": {},
   "source": [
    "Analysis functions / routines\n",
    "-----"
   ]
  },
  {
   "cell_type": "code",
   "execution_count": 63,
   "metadata": {
    "collapsed": true
   },
   "outputs": [],
   "source": [
    "#These are functions we can use to evuate integrals over restricted parts of the domain\n",
    "# For instance, we can exclude the thermal lithosphere from integrals\n",
    "\n",
    "def temprestrictionFn(lithval = 0.9):\n",
    "\n",
    "    tempMM = fn.view.min_max(temperatureField)\n",
    "    tempMM.evaluate(mesh)\n",
    "    TMAX = tempMM.max_global()\n",
    "    mantleconditions = [ (                                  temperatureField > lithval*TMAX, 1.),\n",
    "                   (                                                   True , 0.) ]\n",
    "\n",
    "\n",
    "    return fn.branching.conditional(mantleconditions)\n",
    "\n",
    "mantlerestrictFn = temprestrictionFn(lithval = 0.85)\n",
    "\n",
    "\n",
    "\n",
    "def platenessFn(val = 0.1):\n",
    "    normgradV = fn.math.abs(velocityField.fn_gradient[0]/fn.math.sqrt(velocityField[0]*velocityField[0])) #[du*/dx]/sqrt(u*u)\n",
    "\n",
    "\n",
    "\n",
    "    srconditions = [ (                                  normgradV < val, 1.),\n",
    "                   (                                                   True , 0.) ]\n",
    "\n",
    "\n",
    "    return fn.branching.conditional(srconditions)\n",
    "\n",
    "srrestrictFn = platenessFn(val = 0.1)"
   ]
  },
  {
   "cell_type": "code",
   "execution_count": null,
   "metadata": {
    "collapsed": true
   },
   "outputs": [],
   "source": []
  },
  {
   "cell_type": "code",
   "execution_count": null,
   "metadata": {
    "collapsed": false
   },
   "outputs": [],
   "source": [
    "#Setup volume integrals \n",
    "\n",
    "tempint = uw.utils.Integral( temperatureField, mesh )\n",
    "areaint = uw.utils.Integral( 1.,               mesh )\n",
    "\n",
    "v2int   = uw.utils.Integral( fn.math.dot(velocityField,velocityField), mesh )\n",
    "\n",
    "dwint   = uw.utils.Integral( temperatureField*velocityField[1], mesh )\n",
    "\n",
    "sinner = fn.math.dot( strainRate_2ndInvariant, strainRate_2ndInvariant )\n",
    "vdint = uw.utils.Integral( (2.*viscosityMapFn*sinner), mesh ) #Is it two or four here?\n",
    "\n",
    "mantleArea   = uw.utils.Integral( mantlerestrictFn, mesh )\n",
    "mantleTemp = uw.utils.Integral( temperatureField*mantlerestrictFn, mesh )\n",
    "mantleVisc = uw.utils.Integral( mantleviscosityFn*mantlerestrictFn, mesh )\n",
    "mantleVd = uw.utils.Integral( (2.*viscosityMapFn*sinner*mantlerestrictFn), mesh ) #these now work on MappingFunctions"
   ]
  },
  {
   "cell_type": "code",
   "execution_count": null,
   "metadata": {
    "collapsed": true
   },
   "outputs": [],
   "source": [
    "#Setup surface integrals\n",
    "\n",
    "rmsSurfInt = uw.utils.Integral( fn=velocityField[0]*velocityField[0], mesh=mesh, integrationType='Surface', \n",
    "                          surfaceIndexSet=mesh.specialSets[\"MaxJ_VertexSet\"])\n",
    "nuTop      = uw.utils.Integral( fn=temperatureField.fn_gradient[1],    mesh=mesh, integrationType='Surface', \n",
    "                          surfaceIndexSet=mesh.specialSets[\"MaxJ_VertexSet\"])\n",
    "nuBottom   = uw.utils.Integral( fn=temperatureField.fn_gradient[1],    mesh=mesh, integrationType='Surface', \n",
    "                          surfaceIndexSet=mesh.specialSets[\"MinJ_VertexSet\"])\n",
    "\n",
    "plateint  = uw.utils.Integral( fn=srrestrictFn, mesh=mesh, integrationType='Surface', #Integrate the plateness function\n",
    "                          surfaceIndexSet=mesh.specialSets[\"MaxJ_VertexSet\"]) \n",
    "\n",
    "surfint  = uw.utils.Integral( fn=1., mesh=mesh, integrationType='Surface',   #Surface length function (i.e. domain width)\n",
    "                          surfaceIndexSet=mesh.specialSets[\"MaxJ_VertexSet\"])"
   ]
  },
  {
   "cell_type": "code",
   "execution_count": null,
   "metadata": {
    "collapsed": true
   },
   "outputs": [],
   "source": [
    "#Define functions for the evaluation of integrals\n",
    "\n",
    "def basic_int(ourIntegral):           #This one just hands back the evaluated integral\n",
    "    return ourIntegral.evaluate()[0]\n",
    "\n",
    "def avg_temp():\n",
    "    return tempint.evaluate()[0]/areaint.evaluate()[0]\n",
    "\n",
    "def nusseltTB(temp_field, mesh):\n",
    "    return -nuTop.evaluate()[0], -nuBottom.evaluate()[0]\n",
    "\n",
    "def rms():\n",
    "    return math.sqrt(v2int.evaluate()[0]/areaint.evaluate()[0])\n",
    "\n",
    "def rms_surf():\n",
    "    return math.sqrt(rmsSurfInt.evaluate()[0])\n",
    "\n",
    "def max_vx_surf(velfield, mesh):\n",
    "    vuvelxfn = fn.view.min_max(velfield[0])\n",
    "    vuvelxfn.evaluate(mesh.specialSets[\"MaxJ_VertexSet\"])\n",
    "    return vuvelxfn.max_global()\n",
    "\n",
    "\n",
    "def visc_extr(viscfn):\n",
    "    vuviscfn = fn.view.min_max(viscfn)\n",
    "    vuviscfn.evaluate(mesh)\n",
    "    return vuviscfn.max_global(), vuviscfn.min_global()"
   ]
  },
  {
   "cell_type": "code",
   "execution_count": null,
   "metadata": {
    "collapsed": false
   },
   "outputs": [],
   "source": [
    "#v2sum_integral  = uw.utils.Integral( mesh=mesh, fn=fn.math.dot( velocityField, velocityField ) )\n",
    "#volume_integral = uw.utils.Integral( mesh=mesh, fn=1. )\n",
    "#Vrms = math.sqrt( v2sum_integral.evaluate()[0] )/volume_integral.evaluate()[0]\n",
    "\n",
    "\n",
    "\n",
    "#if(uw.rank()==0):\n",
    "#    print('Initial Vrms = {0:.3f}'.format(Vrms))\n",
    "\n",
    "# Check the Metrics\n",
    "\n",
    "#Avg_temp = avg_temp()\n",
    "#Rms = rms()\n",
    "#Rms_surf = rms_surf()\n",
    "#Max_vx_surf = max_vx_surf(velocityField, mesh)\n",
    "#Gravwork = basic_int(dwint)\n",
    "#Viscdis = basic_int(vdint)\n",
    "#nu1, nu0 = nusseltTB(temperatureField, mesh) # return top then bottom\n",
    "#etamax, etamin = visc_extr(mantleviscosityFn)\n",
    "\n",
    "#Area_mantle = basic_int(mantleArea)\n",
    "#Viscmantle = basic_int(mantleVisc)\n",
    "#Tempmantle = basic_int(mantleTemp)\n",
    "#Viscdismantle = basic_int(mantleVd)"
   ]
  },
  {
   "cell_type": "markdown",
   "metadata": {},
   "source": [
    "Viz.\n",
    "-----"
   ]
  },
  {
   "cell_type": "code",
   "execution_count": null,
   "metadata": {
    "collapsed": false
   },
   "outputs": [],
   "source": [
    "viscVariable = gSwarm.add_variable( dataType=\"float\", count=1 )\n",
    "viscVariable.data[:] = viscosityMapFn.evaluate(gSwarm)"
   ]
  },
  {
   "cell_type": "code",
   "execution_count": null,
   "metadata": {
    "collapsed": false
   },
   "outputs": [],
   "source": [
    "#Pack some stuff into a database as well\n",
    "figDb = glucifer.Figure()\n",
    "#figDb.append( glucifer.objects.Mesh(mesh))\n",
    "figDb.append( glucifer.objects.VectorArrows(mesh,velocityField, scaling=0.00005))\n",
    "#figDb.append( glucifer.objects.Points(gSwarm,tracerVariable, colours= 'white black'))\n",
    "figDb.append( glucifer.objects.Points(gSwarm,materialVariable))\n",
    "\n",
    "figDb.append( glucifer.objects.Points(gSwarm,viscosityMapFn, logScale=True))\n",
    "figDb.append( glucifer.objects.Surface(mesh, strainRate_2ndInvariant, logScale=True))\n",
    "figDb.append( glucifer.objects.Surface(mesh, temperatureField))\n",
    "#figDb.show()"
   ]
  },
  {
   "cell_type": "code",
   "execution_count": null,
   "metadata": {
    "collapsed": false
   },
   "outputs": [],
   "source": [
    "##############\n",
    "#Create a numpy array at the surface to get surface information on (using parallel-friendly evaluate_global)\n",
    "##############\n",
    "\n",
    "surface_xs = np.linspace(mesh.minCoord[0], mesh.maxCoord[0], mesh.elementRes[0] + 1)\n",
    "surface_nodes = np.array(zip(surface_xs, np.ones(len(surface_xs)*mesh.maxCoord[1]))) #For evaluation surface velocity\n",
    "normgradV = velocityField.fn_gradient[0]/fn.math.sqrt(velocityField[0]*velocityField[0])\n",
    "\n",
    "tempMM = fn.view.min_max(temperatureField)\n",
    "dummy = tempMM.evaluate(mesh)\n",
    "\n"
   ]
  },
  {
   "cell_type": "markdown",
   "metadata": {},
   "source": [
    "**Miscellania**"
   ]
  },
  {
   "cell_type": "code",
   "execution_count": null,
   "metadata": {
    "collapsed": false
   },
   "outputs": [],
   "source": [
    "##############\n",
    "#These functions handle checkpointing\n",
    "##############\n",
    "\n",
    "\n",
    "def checkpoint1(step, checkpointPath,filename, filewrites):\n",
    "    path = checkpointPath + str(step) \n",
    "    os.mkdir(path)\n",
    "    ##Write and save the file, if not already a writing step\n",
    "    if not step % filewrites == 0:\n",
    "        filename.write((17*'%-15s ' + '\\n') % (realtime, Viscdis, float(nu0), float(nu1), Avg_temp,\n",
    "                                              Tempmantle,TMAX,\n",
    "                                              Rms,Rms_surf,Max_vx_surf,Gravwork, etamax, etamin, \n",
    "                                              Area_mantle, Viscmantle,  Viscdismantle,Plateness ))\n",
    "    filename.close()\n",
    "    shutil.copyfile(os.path.join(outputPath, outputFile), os.path.join(path, outputFile))\n",
    "\n",
    "\n",
    "def checkpoint2(step, checkpointPath, swarm, filename, varlist = [materialVariable], varnames = ['materialVariable']):\n",
    "    path = checkpointPath + str(step) \n",
    "    velfile = \"velocityField\" + \".hdf5\"\n",
    "    tempfile = \"temperatureField\" + \".hdf5\"\n",
    "    pressfile = \"pressureField\" + \".hdf5\"\n",
    "    velocityField.save(os.path.join(path, velfile))\n",
    "    temperatureField.save(os.path.join(path, tempfile))\n",
    "    pressureField.save(os.path.join(path, pressfile))\n",
    "    swarm.save(os.path.join(path, \"swarm.h5\") ) \n",
    "    for ix in range(len(varlist)):\n",
    "        varb = varlist[ix]\n",
    "        varb.save(os.path.join(path,varnames[ix] + \".h5\"))\n",
    "    "
   ]
  },
  {
   "cell_type": "code",
   "execution_count": null,
   "metadata": {
    "collapsed": true
   },
   "outputs": [],
   "source": [
    "##############\n",
    "#This will allow us to evaluate viscous shear heating, and add the result directly to the temperature field\n",
    "##############\n",
    "\n",
    "viscDisMapFn = 2.*viscosityMapFn*sinner\n",
    "viscDisFnmesh = uw.mesh.MeshVariable(mesh,nodeDofCount=1)\n",
    "viscDisProj = uw.utils.MeshVariable_Projection( viscDisFnmesh, viscDisMapFn)\n",
    "viscDisProj.solve()"
   ]
  },
  {
   "cell_type": "code",
   "execution_count": null,
   "metadata": {
    "collapsed": false
   },
   "outputs": [],
   "source": [
    "# initialise timer for computation\n",
    "start = time.clock()\n",
    "# setup summary output file (name above)\n",
    "if checkpointLoad:\n",
    "    if uw.rank() == 0:\n",
    "        shutil.copyfile(os.path.join(checkpointLoadDir, outputFile), outputPath+outputFile)\n",
    "    comm.Barrier()\n",
    "    f_o = open(os.path.join(outputPath, outputFile), 'a')\n",
    "    prevdata = np.genfromtxt(os.path.join(outputPath, outputFile), skip_header=0, skip_footer=0)\n",
    "    if len(prevdata.shape) == 1: #this is in case there is only one line in previous file\n",
    "        realtime = prevdata[0]\n",
    "    else:\n",
    "        realtime = prevdata[prevdata.shape[0]-1, 0]\n",
    "    step = int(checkpointLoadDir.split('/')[-1])\n",
    "    timevals = [0.]\n",
    "else:\n",
    "    f_o = open(outputPath+outputFile, 'w')\n",
    "    realtime = 0.\n",
    "    step = 0\n",
    "    timevals = [0.]"
   ]
  },
  {
   "cell_type": "markdown",
   "metadata": {},
   "source": [
    "Main simulation loop\n",
    "-----\n"
   ]
  },
  {
   "cell_type": "code",
   "execution_count": null,
   "metadata": {
    "collapsed": true
   },
   "outputs": [],
   "source": [
    "#while step < 21:\n",
    "while realtime < 1.:\n",
    "\n",
    "    # solve Stokes and advection systems\n",
    "    solver.solve(nonLinearIterate=True)\n",
    "    dt = advDiff.get_max_dt()\n",
    "    if step == 0:\n",
    "        dt = 0.\n",
    "    advDiff.integrate(dt)\n",
    "    passiveadvector.integrate(dt)\n",
    "    \n",
    "    #Add the adiabatic adjustment:\n",
    "    temperatureField.data[:] += dt*abHeatFn.evaluate(mesh)\n",
    "    \n",
    "    #Add the viscous heating term\n",
    "     #Need to fix this (forgot 'dissipation number')\n",
    "    #viscDisProj = uw.utils.MeshVariable_Projection( viscDisFnmesh, viscDisMapFn)\n",
    "    #viscDisProj.solve()\n",
    "    #temperatureField.data[:] += dt*viscDisFnmesh.evaluate(mesh)\n",
    "    \n",
    "\n",
    "    # Increment\n",
    "    realtime += dt\n",
    "    step += 1\n",
    "    timevals.append(realtime)\n",
    "    ################\n",
    "    #Update temperature field in the air region\n",
    "    #Do this better...\n",
    "    ################\n",
    "    if (step % sticky_air_temp == 0):\n",
    "        for index, coord in enumerate(mesh.data):\n",
    "            if coord[1] >= 1.:\n",
    "                temperatureField.data[index] = ndp.TSP\n",
    "\n",
    "    # Calculate the Metrics, only on 1 of the processors:\n",
    "    ################\n",
    "    if (step % metric_output == 0):\n",
    "        ###############\n",
    "        #Swarm - based Metrics\n",
    "        ###############\n",
    "        # Calculate the RMS velocity and Nusselt number.\n",
    "        # Calculate the Metrics, only on 1 of the processors:\n",
    "        mantlerestrictFn = temprestrictionFn() #rebuild the mantle restriction function (but these should be dynamic?)\n",
    "        srrestrictFn = platenessFn(val = 0.1) #rebuild the plateness restriction function\n",
    "        dummy = tempMM.evaluate(mesh) #Re-evaluate any fn.view.min_max guys\n",
    "        #Rebuild these integrals (a test because metrics changes after a restart)\n",
    "        mantleArea   = uw.utils.Integral( mantlerestrictFn, mesh )\n",
    "        mantleTemp = uw.utils.Integral( temperatureField*mantlerestrictFn, mesh )\n",
    "        mantleVisc = uw.utils.Integral( mantleviscosityFn*mantlerestrictFn, mesh )\n",
    "        mantleVd = uw.utils.Integral( (4.*viscosityMapFn*sinner*mantlerestrictFn), mesh ) #these now work on MappingFunctions\n",
    "        ###\n",
    "        Avg_temp = avg_temp()\n",
    "        Rms = rms()\n",
    "        Rms_surf = rms_surf()\n",
    "        Max_vx_surf = max_vx_surf(velocityField, mesh)\n",
    "        Gravwork = basic_int(dwint)\n",
    "        Viscdis = basic_int(vdint)\n",
    "        nu1, nu0 = nusseltTB(temperatureField, mesh) # return top then bottom\n",
    "        etamax, etamin = visc_extr(mantleviscosityFn)\n",
    "        Area_mantle = basic_int(mantleArea)\n",
    "        Viscmantle = basic_int(mantleVisc)\n",
    "        Tempmantle = basic_int(mantleTemp)\n",
    "        Viscdismantle = basic_int(mantleVd)\n",
    "        Plateness = basic_int(plateint)/basic_int(surfint)\n",
    "        TMAX = tempMM.max_global()\n",
    "        # output to summary text file\n",
    "        if uw.rank()==0:\n",
    "            f_o.write((17*'%-15s ' + '\\n') % (realtime, Viscdis, float(nu0), float(nu1), Avg_temp,\n",
    "                                              Tempmantle,TMAX,\n",
    "                                              Rms,Rms_surf,Max_vx_surf,Gravwork, etamax, etamin, \n",
    "                                              Area_mantle, Viscmantle,  Viscdismantle,Plateness ))\n",
    "    ################\n",
    "    #Also repopulate entire swarm periodically\n",
    "    ################\n",
    "    #if step % swarm_repop == 0:\n",
    "    population_control.repopulate()   \n",
    "    ################\n",
    "    #Checkpoint\n",
    "    ################\n",
    "    if step % checkpoint_every == 0:\n",
    "        if uw.rank() == 0:\n",
    "            checkpoint1(step, checkpointPath,f_o, metric_output)           \n",
    "        checkpoint2(step, checkpointPath, gSwarm, f_o, varlist = varlist, varnames = varnames)\n",
    "        f_o = open(os.path.join(outputPath, outputFile), 'a') #is this line supposed to be here?\n",
    "    ################\n",
    "    #Gldb output\n",
    "    ################ \n",
    "    if (step % gldbs_output == 0):\n",
    "        #Rebuild any necessary swarm variables\n",
    "        viscVariable.data[:] = viscosityMapFn.evaluate(gSwarm)\n",
    "        #Write gldbs\n",
    "        fnamedb = \"dbFig\" + \"_\" + str(ModIt) + \"_\" + str(step) + \".gldb\"\n",
    "        fullpath = os.path.join(outputPath + \"gldbs/\" + fnamedb)\n",
    "        #figDb.show()\n",
    "        figDb.save_database(fullpath)\n",
    "    ################\n",
    "    #Files output\n",
    "    ################ \n",
    "    if (step % files_output == 0):\n",
    "\n",
    "        vel_surface = velocityField.evaluate_global(surface_nodes)\n",
    "        norm_surface_sr = normgradV.evaluate_global(surface_nodes)\n",
    "        if uw.rank() == 0:\n",
    "            fnametemp = \"velsurface\" + \"_\" + str(ModIt) + \"_\" + str(step)\n",
    "            fullpath = os.path.join(outputPath + \"files/\" + fnametemp)\n",
    "            np.save(fullpath, vel_surface)\n",
    "            fnametemp = \"norm_surface_sr\" + \"_\" + str(ModIt) + \"_\" + str(step)\n",
    "            fullpath = os.path.join(outputPath + \"files/\" + fnametemp)\n",
    "            np.save(fullpath, norm_surface_sr)\n",
    "    ################\n",
    "    #Particle update\n",
    "    ###############    \n",
    "    #ageVariable.data[:] += dt #increment the ages (is this efficient?)\n",
    "    ageDT += dt\n",
    "    \n",
    "    if step % swarm_update == 0:\n",
    "        #Increment age stuff. \n",
    "        ageEval = fn.branching.conditional( ageConditions ).evaluate(gSwarm)\n",
    "        ageVariable.data[np.where(ageEval == 0)] = 0 #If below the critical depth, age is set to zero\n",
    "        ageVariable.data[np.where(ageEval != 0)] += ageDT #If age above critical depth, increment age\n",
    "        ageDT = 0. #reset the age incrementer\n",
    "        \n",
    "        #Apply any materialVariable changes\n",
    "        for i in range(2): #Need to go through twice first time through\n",
    "            materialVariable.data[:] = fn.branching.conditional(DG.condition_list).evaluate(gSwarm)\n",
    "\n",
    "    \n",
    "f_o.close()\n",
    "print 'step =',step"
   ]
  },
  {
   "cell_type": "code",
   "execution_count": null,
   "metadata": {
    "collapsed": false
   },
   "outputs": [],
   "source": [
    "viscVariable = gSwarm.add_variable( dataType=\"float\", count=1 )\n",
    "viscVariable.data[:] = viscosityMapFn.evaluate(gSwarm)"
   ]
  },
  {
   "cell_type": "code",
   "execution_count": null,
   "metadata": {
    "collapsed": false
   },
   "outputs": [],
   "source": []
  },
  {
   "cell_type": "code",
   "execution_count": 116,
   "metadata": {
    "collapsed": false
   },
   "outputs": [
    {
     "data": {
      "text/html": [
       "<img src='data:image/png;base64,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'>"
      ],
      "text/plain": [
       "<IPython.core.display.HTML object>"
      ]
     },
     "metadata": {},
     "output_type": "display_data"
    },
    {
     "data": {
      "text/plain": [
       "'test.gldb'"
      ]
     },
     "execution_count": 116,
     "metadata": {},
     "output_type": "execute_result"
    }
   ],
   "source": [
    "fig= glucifer.Figure()\n",
    "#fig.append( glucifer.objects.Points(gSwarm,materialVariable))\n",
    "fig.append( glucifer.objects.Points(gSwarm, viscosityMapFn, logScale=True))\n",
    "#fig.append( glucifer.objects.Surface(mesh, temperatureField))\n",
    "fig.append( glucifer.objects.VectorArrows(mesh,velocityField, scaling=0.0002))\n",
    "#fig.append( glucifer.objects.Surface(mesh,pressureField))\n",
    "#fig.append( glucifer.objects.Surface(mesh,raylieghFn))\n",
    "\n",
    "fig.show()\n",
    "fig.save_database('test.gldb')"
   ]
  },
  {
   "cell_type": "code",
   "execution_count": 179,
   "metadata": {
    "collapsed": false
   },
   "outputs": [
    {
     "data": {
      "text/plain": [
       "135.23049554863508"
      ]
     },
     "execution_count": 179,
     "metadata": {},
     "output_type": "execute_result"
    }
   ],
   "source": [
    "velocityField.data[tWalls.data].max()"
   ]
  },
  {
   "cell_type": "code",
   "execution_count": 180,
   "metadata": {
    "collapsed": false
   },
   "outputs": [
    {
     "data": {
      "text/plain": [
       "168.9958665467511"
      ]
     },
     "execution_count": 180,
     "metadata": {},
     "output_type": "execute_result"
    }
   ],
   "source": [
    "velocityField.data.max()"
   ]
  },
  {
   "cell_type": "code",
   "execution_count": null,
   "metadata": {
    "collapsed": true
   },
   "outputs": [],
   "source": []
  }
 ],
 "metadata": {
  "kernelspec": {
   "display_name": "Python 2",
   "language": "python",
   "name": "python2"
  },
  "language_info": {
   "codemirror_mode": {
    "name": "ipython",
    "version": 2
   },
   "file_extension": ".py",
   "mimetype": "text/x-python",
   "name": "python",
   "nbconvert_exporter": "python",
   "pygments_lexer": "ipython2",
   "version": "2.7.9"
  },
  "widgets": {
   "state": {},
   "version": "1.1.2"
  }
 },
 "nbformat": 4,
 "nbformat_minor": 0
}
