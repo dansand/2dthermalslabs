{
 "cells": [
  {
   "cell_type": "markdown",
   "metadata": {},
   "source": [
    "## composite, non-linear rheology:\n",
    "\n",
    "\n",
    "The viscous rheology in this model is similar to the Čížková and Bina paper cited below. Other parts of the model setup are similar to Arredondo and Billen (2016) and Korenaga (2011). \n",
    "\n",
    "Here we use a dimensionless system. For the psuedo-plastic effective rheology a Drucker-prager model is used.\n",
    "\n",
    "\n",
    "**Keywords:** thermal covection, dislocation creep\n",
    "\n",
    "\n",
    "**References**\n",
    "\n",
    "Čížková, Hana, and Craig R. Bina. \"Geodynamics of trench advance: Insights from a Philippine-Sea-style geometry.\" Earth and Planetary Science Letters 430 (2015): 408-415.\n",
    "\n",
    "Arredondo, Katrina M., and Magali I. Billen. \"The Effects of Phase Transitions and Compositional Layering in Two-dimensional Kinematic Models of Subduction.\" Journal of Geodynamics (2016).\n",
    "\n",
    "Korenaga, Jun. \"Scaling of plate tectonic convection with pseudoplastic rheology.\" Journal of Geophysical Research: Solid Earth 115.B11 (2010)."
   ]
  },
  {
   "cell_type": "code",
   "execution_count": 101,
   "metadata": {
    "collapsed": false
   },
   "outputs": [],
   "source": [
    "import numpy as np\n",
    "import underworld as uw\n",
    "import math\n",
    "from underworld import function as fn\n",
    "import glucifer\n",
    "\n",
    "import os\n",
    "import sys\n",
    "import natsort\n",
    "import shutil\n",
    "from easydict import EasyDict as edict\n",
    "import operator\n",
    "import pint\n",
    "import time\n",
    "import operator\n",
    "from slippy2 import boundary_layer2d\n",
    "from slippy2 import material_graph\n",
    "from slippy2 import spmesh\n",
    "\n",
    "from mpi4py import MPI\n",
    "comm = MPI.COMM_WORLD\n",
    "rank = comm.Get_rank()"
   ]
  },
  {
   "cell_type": "markdown",
   "metadata": {},
   "source": [
    "Model name and directories\n",
    "-----"
   ]
  },
  {
   "cell_type": "code",
   "execution_count": 102,
   "metadata": {
    "collapsed": true
   },
   "outputs": [],
   "source": [
    "############\n",
    "#Model name.  \n",
    "############\n",
    "Model = \"T\"\n",
    "ModNum = 0\n",
    "\n",
    "if len(sys.argv) == 1:\n",
    "    ModIt = \"Base\"\n",
    "elif sys.argv[1] == '-f':\n",
    "    ModIt = \"Base\"\n",
    "else:\n",
    "    ModIt = str(sys.argv[1])"
   ]
  },
  {
   "cell_type": "code",
   "execution_count": 103,
   "metadata": {
    "collapsed": false
   },
   "outputs": [],
   "source": [
    "###########\n",
    "#Standard output directory setup\n",
    "###########\n",
    "\n",
    "\n",
    "outputPath = \"results\" + \"/\" +  str(Model) + \"/\" + str(ModNum) + \"/\" + str(ModIt) + \"/\"\n",
    "imagePath = outputPath + 'images/'\n",
    "filePath = outputPath + 'files/'\n",
    "checkpointPath = outputPath + 'checkpoint/'\n",
    "dbPath = outputPath + 'gldbs/'\n",
    "outputFile = 'results_model' + Model + '_' + str(ModNum) + '_' + str(ModIt) + '.dat'\n",
    "\n",
    "if uw.rank()==0:\n",
    "    # make directories if they don't exist\n",
    "    if not os.path.isdir(outputPath):\n",
    "        os.makedirs(outputPath)\n",
    "    if not os.path.isdir(checkpointPath):\n",
    "        os.makedirs(checkpointPath)\n",
    "    if not os.path.isdir(imagePath):\n",
    "        os.makedirs(imagePath)\n",
    "    if not os.path.isdir(dbPath):\n",
    "        os.makedirs(dbPath)\n",
    "    if not os.path.isdir(filePath):\n",
    "        os.makedirs(filePath)\n",
    "        \n",
    "comm.Barrier() #Barrier here so no procs run the check in the next cell too early"
   ]
  },
  {
   "cell_type": "code",
   "execution_count": 104,
   "metadata": {
    "collapsed": false
   },
   "outputs": [
    {
     "name": "stdout",
     "output_type": "stream",
     "text": [
      "results/T/0/Base/checkpoint/ is empty\n"
     ]
    }
   ],
   "source": [
    "###########\n",
    "#Check if starting from checkpoint\n",
    "###########\n",
    "\n",
    "checkdirs = []\n",
    "for dirpath, dirnames, files in os.walk(checkpointPath):\n",
    "    if files:\n",
    "        print dirpath, 'has files'\n",
    "        checkpointLoad = True\n",
    "        checkdirs.append(dirpath)\n",
    "    if not files:\n",
    "        print dirpath, 'is empty'\n",
    "        checkpointLoad = False"
   ]
  },
  {
   "cell_type": "markdown",
   "metadata": {},
   "source": [
    "Setup parameters\n",
    "-----\n",
    "\n",
    "Set simulation parameters for test."
   ]
  },
  {
   "cell_type": "markdown",
   "metadata": {},
   "source": [
    "**Use pint to setup any unit conversions we'll need**"
   ]
  },
  {
   "cell_type": "code",
   "execution_count": 105,
   "metadata": {
    "collapsed": false
   },
   "outputs": [
    {
     "data": {
      "text/html": [
       "10000.0 meter/megayear"
      ],
      "text/latex": [
       "$10000.0 \\frac{meter}{megayear}$"
      ],
      "text/plain": [
       "<Quantity(10000.0, 'meter / megayear')>"
      ]
     },
     "execution_count": 105,
     "metadata": {},
     "output_type": "execute_result"
    }
   ],
   "source": [
    "u = pint.UnitRegistry()\n",
    "cmpery = 1.*u.cm/u.year\n",
    "mpermy = 1.*u.m/u.megayear\n",
    "year = 1.*u.year\n",
    "spery = year.to(u.sec)\n",
    "cmpery.to(mpermy)"
   ]
  },
  {
   "cell_type": "code",
   "execution_count": null,
   "metadata": {
    "collapsed": false
   },
   "outputs": [],
   "source": []
  },
  {
   "cell_type": "markdown",
   "metadata": {},
   "source": [
    "**Set parameter dictionaries**"
   ]
  },
  {
   "cell_type": "code",
   "execution_count": 106,
   "metadata": {
    "collapsed": false
   },
   "outputs": [
    {
     "name": "stdout",
     "output_type": "stream",
     "text": [
      "(0.04, 1.2675505856327397e-11)\n"
     ]
    }
   ],
   "source": [
    "box_half_width =4000e3\n",
    "age_at_trench = 100e6\n",
    "cmperyear = box_half_width / age_at_trench #m/y\n",
    "mpersec = cmperyear*(cmpery.to(u.m/u.second)).magnitude #m/sec\n",
    "print(cmperyear, mpersec )"
   ]
  },
  {
   "cell_type": "code",
   "execution_count": null,
   "metadata": {
    "collapsed": false
   },
   "outputs": [],
   "source": []
  },
  {
   "cell_type": "code",
   "execution_count": 107,
   "metadata": {
    "collapsed": false
   },
   "outputs": [],
   "source": [
    "###########\n",
    "#Store the physical paramters, scale factors and dimensionless pramters in easyDicts\n",
    "#Mainly helps with avoiding overwriting variables\n",
    "###########\n",
    "\n",
    "dp = edict({'LS_RA':2900.*1e3, #Use full mantle depth for the Rayleigh number\n",
    "            'LS':2000.*1e3,\n",
    "           'rho':3300,\n",
    "           'g':9.8, \n",
    "           'eta0':1e20, #Dislocation creep at 250 km, 1573 K, 1e-15 s-1 \n",
    "           'k':1e-6,\n",
    "           'a':3e-5, #surface thermal expansivity\n",
    "           'TP':1573., #potential temp\n",
    "           'TS':273., #surface temp\n",
    "           'cohesion':1e7, #\n",
    "           'fc':0.05,   \n",
    "           'Adf':1e-9,\n",
    "           'Ads':3.1e-17,\n",
    "           'Edf':3.35e5,\n",
    "           'Eds':4.8e5,\n",
    "           'Vdf':4e-6,\n",
    "           'Vds':11e-6,\n",
    "           'Alm':1.3e-16,\n",
    "           'Elm':2.0e5,\n",
    "           'Vlm':1.1e-6,\n",
    "           'Ba':4.3e-12,  #A value to simulate pressure increase with depth\n",
    "           'SR':3e-14,\n",
    "           'Dr':250e3, #Reference depth\n",
    "           'R':8.314,\n",
    "           'Cp':1250., #Jkg-1K-1\n",
    "           'StALS':100e3,\n",
    "           'plate_vel':4})\n",
    "\n",
    "#Adibatic heating stuff\n",
    "dp.dTa = (dp.a*dp.g*(dp.TP))/dp.Cp #adibatic gradient, at Tp\n",
    "dp.deltaTa = (dp.TP + dp.dTa*dp.LS) - dp.TS  #Adiabatic Temp at base of mantle, minus Ts\n",
    "dp.deltaT = dp.deltaTa\n",
    "\n",
    "\n",
    "\n",
    "#scale_factors\n",
    "\n",
    "sf = edict({'stress':dp.LS**2/(dp.k*dp.eta0),\n",
    "            'lith_grad':dp.rho*dp.g*(dp.LS)**3/(dp.eta0*dp.k) ,\n",
    "            'vel':dp.LS/dp.k,\n",
    "            'SR':dp.LS**2/dp.k,\n",
    "            'W':(-1./dp.Ba)*(np.log(1.-dp.rho*dp.g*dp.Ba*dp.LS))/(dp.R*dp.deltaTa), #Including adiabatic compression, and deltaTa\n",
    "            'E': 1./(dp.R*dp.deltaTa), #using deltaTa, the guesstimated adiabatic temp differnnce to scale these paramters\n",
    "            #'Ads':(dp.eta0**(ndp.n-2))*((dp.k)**(ndp.n-1))*((dp.LS)**(2. - 2*ndp.n))       \n",
    "           })\n",
    "\n",
    "#dimensionless parameters\n",
    "\n",
    "ndp = edict({'RA':(dp.g*dp.rho*dp.a*(dp.TP - dp.TS)*(dp.LS_RA)**3)/(dp.k*dp.eta0),\n",
    "            'cohesion':dp.cohesion*sf.stress,\n",
    "            'fcd':dp.fc*sf.lith_grad,\n",
    "            'gamma':dp.fc/(dp.a*dp.deltaT),\n",
    "            'Wdf':dp.Vdf*sf.W,\n",
    "            'Edf':dp.Edf*sf.E,\n",
    "            'Wds':dp.Vds*sf.W,\n",
    "            'Eds':dp.Eds*sf.E,\n",
    "            'Elm':dp.Elm*sf.E,\n",
    "           'Wlm':dp.Vlm*sf.W,\n",
    "            'TSP':0., \n",
    "            'TBP':1.,\n",
    "            'TPP':(dp.TP - dp.TS)/dp.deltaT, #dimensionless potential temp\n",
    "            'Dr':dp.Dr/dp.LS,\n",
    "            'n':3.5,\n",
    "            'TS':dp.TS/dp.deltaT,\n",
    "            'TP':dp.TP/dp.deltaT,\n",
    "             #'eta_crust':1e21/dp.eta0,\n",
    "             'eta_crust':0.05,\n",
    "            'eta_min':1e-3,\n",
    "            'eta_max':1e5,\n",
    "            'H':0.,\n",
    "            'Tmvp':0.6,\n",
    "             'Di': dp.a*dp.g*dp.LS/dp.Cp, #Dissipation number\n",
    "            'Steta0':1e2,\n",
    "            'plate_vel':sf.vel*dp.plate_vel*(cmpery.to(u.m/u.second)).magnitude,})\n",
    "\n",
    "\n",
    "\n",
    "#Make some further additions to paramter dictionaries\n",
    "\n",
    "#dp.VR = (0.1*(dp.k/dp.LS)*ndp.RA**(2/3.)) #characteristic velocity from a scaling relationship\n",
    "#dp.SR = dp.VR/dp.LS #characteristic strain rate\n",
    "#ndp.VR = dp.VR*sf.vel #characteristic velocity\n",
    "#ndp.SR = dp.SR*sf.SR #characteristic strain rate\n",
    "\n",
    "\n",
    "ndp.SR = dp.SR*sf.SR #characteristic strain rate\n",
    "\n",
    "ndp.StRA = (3300.*dp.g*(dp.LS)**3)/(dp.eta0 *dp.k) #Composisitional Rayleigh number for rock-air buoyancy force\n",
    "ndp.TaP = 1. - ndp.TPP,  #Dimensionles adiabtic component of delta t"
   ]
  },
  {
   "cell_type": "code",
   "execution_count": 108,
   "metadata": {
    "collapsed": false
   },
   "outputs": [
    {
     "data": {
      "text/plain": [
       "2535.1011712654795"
      ]
     },
     "execution_count": 108,
     "metadata": {},
     "output_type": "execute_result"
    }
   ],
   "source": [
    "#40000./sf.vel, \n",
    "ndp.plate_vel"
   ]
  },
  {
   "cell_type": "code",
   "execution_count": 109,
   "metadata": {
    "collapsed": false
   },
   "outputs": [
    {
     "data": {
      "text/plain": [
       "(45568.60610653658, 2535.1011712654795, 307608701.40000004, 1300.0)"
      ]
     },
     "execution_count": 109,
     "metadata": {},
     "output_type": "execute_result"
    }
   ],
   "source": [
    "dp.CVR = (0.1*(dp.k/dp.LS)*ndp.RA**(2/3.))\n",
    "ndp.CVR = dp.CVR*sf.vel #characteristic velocity\n",
    "ndp.CVR, ndp.plate_vel, ndp.RA , (dp.TP - dp.TS)\n"
   ]
  },
  {
   "cell_type": "code",
   "execution_count": 110,
   "metadata": {
    "collapsed": false
   },
   "outputs": [],
   "source": [
    "###########\n",
    "#A few parameters defining lengths scales, affects materal transistions etc.\n",
    "###########\n",
    "\n",
    "MANTLETOCRUST = (15.*1e3)/dp.LS #Crust depth\n",
    "HARZBURGDEPTH = MANTLETOCRUST + (27.7e3/dp.LS)\n",
    "CRUSTTOMANTLE = (200.*1e3)/dp.LS\n",
    "LITHTOMANTLE = (900.*1e3)/dp.LS \n",
    "MANTLETOLITH = (200.*1e3)/dp.LS \n",
    "TOPOHEIGHT = (10.*1e3)/dp.LS  #rock-air topography limits\n",
    "CRUSTTOECL  = (100.*1e3)/dp.LS\n",
    "AVGTEMP = ndp.TPP #Used to define lithosphere\n",
    "LOWERMANTLE = (1000.*1e3)/dp.LS \n"
   ]
  },
  {
   "cell_type": "markdown",
   "metadata": {},
   "source": [
    "**Model setup parameters**"
   ]
  },
  {
   "cell_type": "code",
   "execution_count": 111,
   "metadata": {
    "collapsed": false
   },
   "outputs": [],
   "source": [
    "###########\n",
    "#Model setup parameters\n",
    "###########\n",
    "\n",
    "refineMesh = True\n",
    "stickyAir = False \n",
    "lowerMantle = False \n",
    "meltViscosityReduction = False\n",
    "symmetricIC = False\n",
    "VelBC = False\n",
    "WeakZone = False\n",
    "aspectRatio = 4\n",
    "parallelVisc = False\n",
    "compBuoyancy = False #use compositional & phase buoyancy, or simply thermal\n",
    "\n",
    "MINX = -1.*aspectRatio/2.\n",
    "MINY = 0.\n",
    "MAXX = 1.*aspectRatio/2.\n",
    "\n",
    "#MAXY = 1.035\n",
    "MAXY = 1.\n",
    "\n",
    "if MINX == 0.:\n",
    "    squareModel = True\n",
    "else: \n",
    "    squareModel = False\n",
    "    \n",
    "    \n",
    "dim = 2          # number of spatial dimensions\n",
    "\n",
    "\n",
    "#MESH STUFF\n",
    "\n",
    "RES = 64\n",
    "\n",
    "Xres = int(RES*aspectRatio)\n",
    "\n",
    "\n",
    "if stickyAir:\n",
    "    Yres = RES\n",
    "    MAXY = 1. + dp.StALS/dp.LS #150km\n",
    "    \n",
    "else:\n",
    "    Yres = RES\n",
    "    MAXY = 1.\n",
    "\n",
    "\n",
    "periodic = [False, False]\n",
    "elementType = \"Q1/dQ0\"\n",
    "#elementType =\"Q2/DPC1\"\n",
    "\n",
    "\n",
    "#System/Solver stuff\n",
    "\n",
    "PIC_integration=True\n",
    "ppc = 25\n",
    "\n",
    "#Output and safety stuff\n",
    "swarm_repop, swarm_update = 10, 10\n",
    "gldbs_output = 10\n",
    "checkpoint_every, files_output = 20, 20\n",
    "metric_output = 10\n",
    "sticky_air_temp = 5"
   ]
  },
  {
   "cell_type": "markdown",
   "metadata": {},
   "source": [
    "Create mesh and finite element variables\n",
    "------"
   ]
  },
  {
   "cell_type": "code",
   "execution_count": 112,
   "metadata": {
    "collapsed": false
   },
   "outputs": [],
   "source": [
    "mesh = uw.mesh.FeMesh_Cartesian( elementType = (elementType),\n",
    "                                 elementRes  = (Xres, Yres), \n",
    "                                 minCoord    = (MINX, MINY), \n",
    "                                 maxCoord    = (MAXX, MAXY), periodic=periodic)\n",
    "\n",
    "velocityField       = uw.mesh.MeshVariable( mesh=mesh,         nodeDofCount=2 )\n",
    "pressureField       = uw.mesh.MeshVariable( mesh=mesh.subMesh, nodeDofCount=1 )\n",
    "temperatureField    = uw.mesh.MeshVariable( mesh=mesh,         nodeDofCount=1 )\n",
    "temperatureDotField = uw.mesh.MeshVariable( mesh=mesh,         nodeDofCount=1 )"
   ]
  },
  {
   "cell_type": "code",
   "execution_count": 113,
   "metadata": {
    "collapsed": true
   },
   "outputs": [],
   "source": [
    "mesh.reset()"
   ]
  },
  {
   "cell_type": "code",
   "execution_count": 114,
   "metadata": {
    "collapsed": false
   },
   "outputs": [
    {
     "name": "stdout",
     "output_type": "stream",
     "text": [
      "Min\n",
      "(256, 0.012501562500000001, 4.200400000000001, -0.20040000000000086)\n",
      "('edges', 256)\n",
      "-- iteration 0 --\n",
      "| F( p_n ) |^2: 1.98165943146e-05\n",
      "| p_n+1 - p_n |^2: 1.36480086187\n",
      "-- iteration 1 --\n",
      "| F( p_n ) |^2: 3.58989730515e-30\n",
      "Min, Max element width: \n",
      "0.01250\n",
      "0.01875\n"
     ]
    }
   ],
   "source": [
    "\n",
    "#X-Axis\n",
    "\n",
    "if refineMesh:\n",
    "    mesh.reset()\n",
    "    axis = 0\n",
    "    origcoords = np.linspace(mesh.minCoord[axis], mesh.maxCoord[axis], mesh.elementRes[axis] + 1)\n",
    "    edge_rest_lengths = np.diff(origcoords)\n",
    "\n",
    "    deform_lengths = edge_rest_lengths.copy()\n",
    "    min_point =  (abs(mesh.maxCoord[axis]) - abs(mesh.minCoord[axis]))/2.\n",
    "    el_reduction = 0.8001\n",
    "    dx = mesh.maxCoord[axis] - min_point\n",
    "\n",
    "    deform_lengths = deform_lengths - \\\n",
    "                                    ((1.-el_reduction) *deform_lengths[0]) + \\\n",
    "                                    abs((origcoords[1:] - min_point))*((0.5*deform_lengths[0])/dx)\n",
    "\n",
    "    #print(edge_rest_lengths.shape, deform_lengths.shape)\n",
    "\n",
    "    spmesh.deform_1d(deform_lengths, mesh,axis = 'x',norm = 'Min', constraints = [])"
   ]
  },
  {
   "cell_type": "code",
   "execution_count": 115,
   "metadata": {
    "collapsed": false
   },
   "outputs": [],
   "source": [
    "axis = 1\n",
    "orgs = np.linspace(mesh.minCoord[axis], mesh.maxCoord[axis], mesh.elementRes[axis] + 1)\n",
    "\n",
    "value_to_constrain = 1.\n",
    "\n",
    "\n",
    "yconst = [(spmesh.find_closest(orgs, value_to_constrain), np.array([value_to_constrain,0]))]"
   ]
  },
  {
   "cell_type": "code",
   "execution_count": 116,
   "metadata": {
    "collapsed": false
   },
   "outputs": [
    {
     "name": "stdout",
     "output_type": "stream",
     "text": [
      "Min\n",
      "(64, 0.0093765624999999995, 0.84619375000000008, 0.62499047619047554)\n",
      "('edges', 64)\n",
      "-- iteration 0 --\n",
      "| F( p_n ) |^2: 8.05648611886e-05\n",
      "| p_n+1 - p_n |^2: 0.352079185376\n",
      "-- iteration 1 --\n",
      "| F( p_n ) |^2: 3.12512226132e-31\n",
      "Min, Max element width: \n",
      "0.00938\n",
      "0.02187\n"
     ]
    }
   ],
   "source": [
    "###########\n",
    "#Mesh refinement\n",
    "###########\n",
    "\n",
    "if refineMesh:\n",
    "    #Y-Axis\n",
    "    axis = 1\n",
    "    origcoords = np.linspace(mesh.minCoord[axis], mesh.maxCoord[axis], mesh.elementRes[axis] + 1)\n",
    "    edge_rest_lengths = np.diff(origcoords)\n",
    "\n",
    "    deform_lengths = edge_rest_lengths.copy()\n",
    "    min_point =  (mesh.maxCoord[axis])\n",
    "    el_reduction = 0.6001\n",
    "    dx = mesh.maxCoord[axis]\n",
    "\n",
    "    deform_lengths = deform_lengths - \\\n",
    "                                    ((1.-el_reduction)*deform_lengths[0]) + \\\n",
    "                                    abs((origcoords[1:] - min_point))*((0.5*deform_lengths[0])/dx)\n",
    "\n",
    "    #print(edge_rest_lengths.shape, deform_lengths.shape)\n",
    "\n",
    "    spmesh.deform_1d(deform_lengths, mesh,axis = 'y',norm = 'Min', constraints = yconst)"
   ]
  },
  {
   "cell_type": "markdown",
   "metadata": {},
   "source": [
    "Initial conditions\n",
    "-------\n"
   ]
  },
  {
   "cell_type": "code",
   "execution_count": 117,
   "metadata": {
    "collapsed": false
   },
   "outputs": [],
   "source": [
    "coordinate = fn.input()\n",
    "depthFn = 1. - coordinate[1] #a function providing the depth\n",
    "xFn = coordinate[0]  #a function providing the x-coordinate\n",
    "\n",
    "potTempFn = ndp.TPP + (depthFn)*ndp.TaP #a function providing the adiabatic temp at any depth\n",
    "abHeatFn = -1.*velocityField[1]*temperatureField*ndp.Di #a function providing the adiabatic heating rate"
   ]
  },
  {
   "cell_type": "code",
   "execution_count": null,
   "metadata": {
    "collapsed": false
   },
   "outputs": [],
   "source": []
  },
  {
   "cell_type": "code",
   "execution_count": 118,
   "metadata": {
    "collapsed": false
   },
   "outputs": [],
   "source": [
    "###########\n",
    "#Thermal initial condition:\n",
    "#if symmetricIC, we build a symmetric downwelling on top of a sinusoidal perturbation\n",
    "##########\n",
    "\n",
    "#Sinusoidal initial condition\n",
    "A = 0.2\n",
    "sinFn = depthFn + A*(fn.math.cos( math.pi * coordinate[0])  * fn.math.sin( math.pi * coordinate[1] ))        \n",
    "iD = 1000e3/dp.LS #Initial Slab depth\n",
    "dl =  2*math.sqrt(dp.k*160e6*3600*24*365) #diffusion Length at ... My\n",
    "w0 = dl/dp.LS #Boundary layer/slab initial condition\n",
    "delX1 = fn.misc.min(fn.math.abs(coordinate[0] - -0.), fn.math.abs(coordinate[0] - -2.))\n",
    "delX = fn.misc.min(delX1 , fn.math.abs(coordinate[0] - 2.))\n",
    "w = w0*fn.math.sqrt(delX + 1e-7)\n",
    "tempBL = (potTempFn) *fn.math.erf((depthFn)/w) + ndp.TSP\n",
    "delX = fn.misc.min(fn.math.abs(coordinate[0] - - 1.) , fn.math.abs(coordinate[0] - 1.))\n",
    "tempSlab = (potTempFn ) *fn.math.erf((delX*2.)/w0) + ndp.TSP       \n",
    "tempFn1 =  fn.misc.min(tempBL, tempSlab)\n",
    "blFn = fn.branching.conditional([(depthFn < iD, tempFn1), \n",
    "                                    (True, potTempFn)])\n",
    "\n",
    "tempFn = 0.*sinFn + 1.*blFn #partition the temp between these the symmetric downwelling and sinusoid\n",
    "if symmetricIC:  \n",
    "    if not checkpointLoad:\n",
    "        temperatureField.data[:] = tempFn.evaluate(mesh)  "
   ]
  },
  {
   "cell_type": "code",
   "execution_count": 119,
   "metadata": {
    "collapsed": false
   },
   "outputs": [],
   "source": [
    "###########\n",
    "#Thermal initial condition 2: \n",
    "#if symmetricIC == False, we build an asymmetric subduction-zone\n",
    "###########\n",
    "\n",
    "#Main control paramters are:\n",
    "\n",
    "#Roc = 550e3 #radius of curvature of slab\n",
    "Roc = 550e3 #radius of curvature of slab\n",
    "\n",
    "theta = 89. #Angle to truncate the slab (can also do with with a cutoff depth)\n",
    "subzone = 0.0 #X position of subduction zone...in model coordinates\n",
    "slabmaxAge = 160e6 #age of subduction plate at trench\n",
    "platemaxAge = 160e6 #max age of slab (Plate model)\n",
    "ageAtTrenchSeconds = min(platemaxAge*(3600*24*365), slabmaxAge*(3600*24*365))\n",
    "\n",
    "\n",
    "sense = 'Right' #dip direction\n",
    "op_age_fac = 1. #this controls the overidding plate speed, hence age reduction\n",
    "\n",
    "\n",
    "#First build the top TBL\n",
    "#Create functions between zero and one, to control age distribution\n",
    "ageFn1 = fn.misc.max(0., (1. - 1.1*fn.math.abs(xFn)/(aspectRatio/2.) ))\n",
    "ageFn  = fn.branching.conditional([(coordinate[0] <= 0, ageFn1),\n",
    "                                  (True, ageFn1/op_age_fac)])\n",
    "\n",
    "#dimensionlize the age function\n",
    "ageFn *= slabmaxAge*(3600*24*365)\n",
    "#ageFn = fn.misc.min(ageFn, platemaxAge*(3600*24*365)) #apply plate model\n",
    "\n",
    "w0 = (2.*math.sqrt(dp.k*ageAtTrenchSeconds))/dp.LS #diffusion depth of plate at the trench\n",
    "\n",
    "tempBL = (potTempFn) *fn.math.erf((depthFn*dp.LS)/(2.*fn.math.sqrt(dp.k*ageFn))) + ndp.TSP #boundary layer function\n",
    "\n",
    "tempTBL =  fn.branching.conditional([(depthFn < w0, tempBL),\n",
    "                          (True, potTempFn)])\n",
    "\n",
    "if not symmetricIC:\n",
    "    if not checkpointLoad:\n",
    "        out = uw.utils.MeshVariable_Projection( temperatureField, tempTBL) #apply function with projection\n",
    "        out.solve()\n",
    "\n",
    "\n",
    "#Now build the perturbation part\n",
    "def inCircleFnGenerator(centre, radius):\n",
    "    coord = fn.input()\n",
    "    offsetFn = coord - centre\n",
    "    return fn.math.dot( offsetFn, offsetFn ) < radius**2\n",
    "\n",
    "#Setup slab perturbation params (mostly dimensionlesl / model params here)\n",
    "phi = 90. - theta\n",
    "RocM = (Roc/dp.LS)\n",
    "CrustM = MANTLETOCRUST\n",
    "Org = (subzone, 1.-RocM)\n",
    "maxDepth = 250e3/dp.LS\n",
    "\n",
    "#We use three circles to define our slab and crust perturbation,  \n",
    "Oc = inCircleFnGenerator(Org , RocM)\n",
    "Ic = inCircleFnGenerator(Org , RocM - w0)\n",
    "Cc = inCircleFnGenerator(Org , RocM - (1.5*CrustM)) #Twice as wide as ordinary crust, weak zone on 'outside' of slab\n",
    "dx = (RocM)/(np.math.tan((np.math.pi/180.)*phi))\n",
    "\n",
    "#We'll also create a triangle which will truncate the circles defining the slab...\n",
    "if sense == 'Left':\n",
    "    ptx = subzone - dx\n",
    "else:\n",
    "    ptx = subzone + dx\n",
    "coords = ((0.+subzone, 1), (0.+subzone, 1.-RocM), (ptx, 1.))\n",
    "Tri = fn.shape.Polygon(np.array(coords))\n",
    "\n",
    "#Actually apply the perturbation\n",
    "if not symmetricIC:\n",
    "    if not checkpointLoad:\n",
    "        sdFn = ((RocM - fn.math.sqrt((coordinate[0] - Org[0])**2. + (coordinate[1] - Org[1])**2.)))\n",
    "        slabFn = ndp.TPP*fn.math.erf((sdFn*dp.LS)/(2.*math.sqrt(dp.k*ageAtTrenchSeconds))) + ndp.TSP\n",
    "        for index, coord in enumerate(mesh.data):\n",
    "            if (\n",
    "                Oc.evaluate(tuple(coord)) and\n",
    "                Tri.evaluate(tuple(coord)) and not\n",
    "                Ic.evaluate(tuple(coord)) and\n",
    "                coord[1] > (1. - maxDepth)\n",
    "                ): #In the quarter-circle defining the lithosphere\n",
    "                temperatureField.data[index] = slabFn.evaluate(mesh)[index]\n",
    "\n"
   ]
  },
  {
   "cell_type": "code",
   "execution_count": 120,
   "metadata": {
    "collapsed": false
   },
   "outputs": [],
   "source": [
    "#Make sure material in sticky air region is at the surface temperature.\n",
    "for index, coord in enumerate(mesh.data):\n",
    "            if coord[1] >= 1.:\n",
    "                temperatureField.data[index] = ndp.TSP"
   ]
  },
  {
   "cell_type": "code",
   "execution_count": 121,
   "metadata": {
    "collapsed": false
   },
   "outputs": [],
   "source": [
    "#fn.math.erf((sdFn*dp.LS)/(2.*fn.math.sqrt(dp.k*(slabmaxAge*(3600*24*365))))) "
   ]
  },
  {
   "cell_type": "code",
   "execution_count": 122,
   "metadata": {
    "collapsed": false,
    "scrolled": true
   },
   "outputs": [],
   "source": [
    "fig= glucifer.Figure()\n",
    "fig.append( glucifer.objects.Surface(mesh, temperatureField))\n",
    "\n",
    "#fig.append(glucifer.objects.Mesh(mesh))\n",
    "#fig.save_database('test.gldb')\n",
    "\n",
    "#fig.show()"
   ]
  },
  {
   "cell_type": "markdown",
   "metadata": {},
   "source": [
    "def matplot_field(temperatureField, dp):\n",
    "    if uw.nProcs() != 1:\n",
    "        print(\"only in Serial folks\")\n",
    "    else:\n",
    "        import matplotlib.pyplot as pyplt\n",
    "        try :\n",
    "            if(__IPYTHON__) :\n",
    "                get_ipython().magic(u'matplotlib inline')\n",
    "        except NameError :\n",
    "            pass\n",
    "        field_data = temperatureField.data.reshape(mesh.elementRes[1] + 1, mesh.elementRes[0] + 1)\n",
    "        fig, ax = pyplt.subplots()\n",
    "        ql = dp.LS/1e3\n",
    "        pyplt.ioff()\n",
    "        ax.imshow(np.flipud(field_data), cmap='coolwarm', extent=[0,ql*aspectRatio,ql, 0])\n",
    "        #ax.set_x([0,dp.LS*aspectRatio])\n",
    "        \n",
    "        return fig, ax\n",
    "        \n",
    "fig, ax = matplot_field(temperatureField, dp)\n",
    "#show_colormap('cubehelix')        "
   ]
  },
  {
   "cell_type": "markdown",
   "metadata": {},
   "source": [
    "Boundary conditions\n",
    "-------"
   ]
  },
  {
   "cell_type": "code",
   "execution_count": 123,
   "metadata": {
    "collapsed": false
   },
   "outputs": [
    {
     "name": "stdout",
     "output_type": "stream",
     "text": [
      "2\n"
     ]
    }
   ],
   "source": [
    "for index in mesh.specialSets[\"MinJ_VertexSet\"]:\n",
    "    temperatureField.data[index] = ndp.TBP\n",
    "for index in mesh.specialSets[\"MaxJ_VertexSet\"]:\n",
    "    temperatureField.data[index] = ndp.TSP\n",
    "    \n",
    "iWalls = mesh.specialSets[\"MinI_VertexSet\"] + mesh.specialSets[\"MaxI_VertexSet\"]\n",
    "jWalls = mesh.specialSets[\"MinJ_VertexSet\"] + mesh.specialSets[\"MaxJ_VertexSet\"]\n",
    "tWalls = mesh.specialSets[\"MaxJ_VertexSet\"]\n",
    "bWalls =mesh.specialSets[\"MinJ_VertexSet\"]\n",
    "\n",
    "VelBCs = mesh.specialSets[\"Empty\"]\n",
    "\n",
    "\n",
    "\n",
    "if VelBC:\n",
    "    for index in list(tWalls.data):\n",
    "\n",
    "        if (mesh.data[int(index)][0] < (subzone - 0.05*aspectRatio) and \n",
    "            mesh.data[int(index)][0] > (mesh.minCoord[0] + 0.05*aspectRatio)): #Only push with a portion of teh overiding plate\n",
    "            #print \"first\"\n",
    "            VelBCs.add(int(index))\n",
    "            #Set the plate velocities for the kinematic phase\n",
    "            velocityField.data[index] = [ndp.plate_vel, 0.]\n",
    "        \n",
    "        elif (mesh.data[int(index)][0] > (subzone + 0.05*aspectRatio) and \n",
    "            mesh.data[int(index)][0] < (mesh.maxCoord[0] - 0.05*aspectRatio)):\n",
    "            #print \"second\"\n",
    "            VelBCs.add(int(index))\n",
    "            #Set the plate velocities for the kinematic phase\n",
    "            velocityField.data[index] = [0., 0.]\n",
    "        \n",
    "\n",
    "#If periodic, we'll fix a the x-vel at a single node - at the bottom left (index 0)\n",
    "Fixed = mesh.specialSets[\"Empty\"]\n",
    "Fixed.add(int(0))        \n",
    "        \n",
    "\n",
    "if periodic[0] == False:\n",
    "    if VelBC:\n",
    "        print(1)\n",
    "        freeslipBC = uw.conditions.DirichletCondition( variable      = velocityField, \n",
    "                                               indexSetsPerDof = ( iWalls + VelBCs, jWalls) )\n",
    "    else:\n",
    "        print(2)\n",
    "        freeslipBC = uw.conditions.DirichletCondition( variable      = velocityField, \n",
    "                                               indexSetsPerDof = ( iWalls, jWalls) )\n",
    "\n",
    "\n",
    "\n",
    "\n",
    "\n",
    "\n",
    "if periodic[0] == True:\n",
    "    if VelBC:\n",
    "        print(3)\n",
    "        freeslipBC = uw.conditions.DirichletCondition( variable      = velocityField, \n",
    "                                               indexSetsPerDof = ( Fixed + VelBCs , jWalls) )\n",
    "    else:\n",
    "        print(4)\n",
    "        freeslipBC = uw.conditions.DirichletCondition( variable      = velocityField, \n",
    "                                               indexSetsPerDof = ( Fixed, jWalls) )\n",
    "        \n",
    "    \n",
    "    \n",
    "    \n",
    "# also set dirichlet for temp field\n",
    "dirichTempBC = uw.conditions.DirichletCondition(     variable=temperatureField, \n",
    "                                              indexSetsPerDof=(tWalls,) )\n",
    "dT_dy = [0.,0.]\n",
    "\n",
    "# also set dirichlet for temp field\n",
    "neumannTempBC = uw.conditions.NeumannCondition( dT_dy, variable=temperatureField, \n",
    "                                         nodeIndexSet=bWalls)\n",
    "\n"
   ]
  },
  {
   "cell_type": "code",
   "execution_count": null,
   "metadata": {
    "collapsed": false
   },
   "outputs": [],
   "source": []
  },
  {
   "cell_type": "code",
   "execution_count": 124,
   "metadata": {
    "collapsed": false
   },
   "outputs": [],
   "source": [
    "#check VelBCs are where we want them\n",
    "#test = np.zeros(len(tWalls.data))\n",
    "#VelBCs\n",
    "#tWalls.data\n",
    "#tWalls.data[VelBCs.data]\n",
    "#test[np.in1d(tWalls.data, VelBCs.data)] = 1.\n",
    "#test\n",
    "\n"
   ]
  },
  {
   "cell_type": "code",
   "execution_count": null,
   "metadata": {
    "collapsed": false
   },
   "outputs": [],
   "source": []
  },
  {
   "cell_type": "markdown",
   "metadata": {},
   "source": [
    "Swarm setup\n",
    "-----\n"
   ]
  },
  {
   "cell_type": "code",
   "execution_count": 125,
   "metadata": {
    "collapsed": false
   },
   "outputs": [],
   "source": [
    "###########\n",
    "#Material Swarm and variables\n",
    "###########\n",
    "\n",
    "#create material swarm\n",
    "gSwarm = uw.swarm.Swarm(mesh=mesh, particleEscape=True)\n",
    "\n",
    "#create swarm variables\n",
    "yieldingCheck = gSwarm.add_variable( dataType=\"int\", count=1 )\n",
    "tracerVariable = gSwarm.add_variable( dataType=\"int\", count=1)\n",
    "materialVariable = gSwarm.add_variable( dataType=\"int\", count=1 )\n",
    "ageVariable = gSwarm.add_variable( dataType=\"float\", count=1 )\n",
    "\n",
    "\n",
    "#these lists  are part of the checkpointing implementation\n",
    "varlist = [tracerVariable, tracerVariable, yieldingCheck]\n",
    "varlist = [materialVariable, yieldingCheck, ageVariable]\n",
    "varnames = ['materialVariable', 'yieldingCheck', 'ageVariable']"
   ]
  },
  {
   "cell_type": "code",
   "execution_count": 126,
   "metadata": {
    "collapsed": false
   },
   "outputs": [],
   "source": [
    "mantleIndex = 0\n",
    "crustIndex = 1\n",
    "harzIndex = 2\n",
    "airIndex = 3\n",
    "\n",
    "\n",
    "\n",
    "if checkpointLoad:\n",
    "    checkpointLoadDir = natsort.natsort(checkdirs)[-1]\n",
    "    temperatureField.load(os.path.join(checkpointLoadDir, \"temperatureField\" + \".hdf5\"))\n",
    "    pressureField.load(os.path.join(checkpointLoadDir, \"pressureField\" + \".hdf5\"))\n",
    "    velocityField.load(os.path.join(checkpointLoadDir, \"velocityField\" + \".hdf5\"))\n",
    "    gSwarm.load(os.path.join(checkpointLoadDir, \"swarm\" + \".h5\"))\n",
    "    for ix in range(len(varlist)):\n",
    "        varb = varlist[ix]\n",
    "        varb.load(os.path.join(checkpointLoadDir,varnames[ix] + \".h5\"))\n",
    "\n",
    "else:\n",
    "\n",
    "    # Layouts are used to populate the swarm across the whole domain\n",
    "    layout = uw.swarm.layouts.PerCellRandomLayout(swarm=gSwarm, particlesPerCell=ppc)\n",
    "    gSwarm.populate_using_layout( layout=layout ) # Now use it to populate.\n",
    "    # Swarm variables\n",
    "    materialVariable.data[:] = mantleIndex\n",
    "    tracerVariable.data[:] = 1\n",
    "    yieldingCheck.data[:] = 0\n",
    "    ageVariable.data[:] = -1\n",
    "\n",
    "    #Set initial air and crust materials (allow the graph to take care of lithsophere)\n",
    "    #########\n",
    "    #This initial material setup will be model dependent\n",
    "    #########\n",
    "    for particleID in range(gSwarm.particleCoordinates.data.shape[0]):\n",
    "        if (1. - gSwarm.particleCoordinates.data[particleID][1]) < MANTLETOCRUST:\n",
    "                 materialVariable.data[particleID] = crustIndex"
   ]
  },
  {
   "cell_type": "code",
   "execution_count": 127,
   "metadata": {
    "collapsed": false
   },
   "outputs": [],
   "source": [
    "###########\n",
    "#This block sets up a checkboard layout of passive tracers\n",
    "###########\n",
    "\n",
    "square_size = 0.1\n",
    "xlist = np.arange(mesh.minCoord[0] + square_size/2., mesh.maxCoord[0] + square_size/2., square_size)\n",
    "xlist = zip(xlist[:], xlist[1:])[::2]\n",
    "ylist = np.arange(mesh.minCoord[1] + square_size/2., mesh.maxCoord[1] + square_size/2., square_size)\n",
    "ylist = zip(ylist[:], ylist[1:])[::2]\n",
    "xops = []\n",
    "for vals in xlist:\n",
    "    xops.append( (operator.and_(   operator.gt(coordinate[0],vals[0]),   operator.lt(coordinate[0],vals[1])  ),0.) )\n",
    "xops.append((True,1.))\n",
    "\n",
    "testfunc = fn.branching.conditional(xops) \n",
    "\n",
    "yops = []\n",
    "for vals in ylist:\n",
    "    yops.append( (operator.and_(   operator.gt(coordinate[1],vals[0]),   operator.lt(coordinate[1],vals[1])  ),0.) )\n",
    "yops.append((True,testfunc))\n",
    "\n",
    "testfunc2 = fn.branching.conditional(yops) \n",
    "tracerVariable.data[:] = testfunc.evaluate(gSwarm)\n",
    "tracerVariable.data[:] = testfunc2.evaluate(gSwarm)"
   ]
  },
  {
   "cell_type": "code",
   "execution_count": 128,
   "metadata": {
    "collapsed": false
   },
   "outputs": [
    {
     "data": {
      "text/plain": [
       "array([  0.00000000e+00,   1.99999995e-05], dtype=float32)"
      ]
     },
     "execution_count": 128,
     "metadata": {},
     "output_type": "execute_result"
    }
   ],
   "source": [
    "#Set the inital particle age, for particles above the critical depth \n",
    "#(only these will be transformed to crust / harzburgite)\n",
    "\n",
    "ageVariable.data[:] = 0. #start with all zeor\n",
    "crustageCond = 1e-05 #set inital age above critical depth. (about 1.2 Ma.) Might have to be shorter than this - need to experiment\n",
    "ageDT = crustageCond + 1e-5 #initalize ages\n",
    "ageConditions = [ (depthFn < 100e3/dp.LS , ageDT),  \n",
    "                  (True, 0.) ]\n",
    "                 \n",
    "\n",
    "ageEval = fn.branching.conditional( ageConditions ).evaluate(gSwarm)\n",
    "ageVariable.data[np.where(ageEval == 0)] = 0 #If below the critical depth, age is set to zero\n",
    "ageVariable.data[np.where(ageEval != 0)] += ageDT #If age above critical depth, increment age\n",
    "\n",
    "np.unique(ageVariable.data)"
   ]
  },
  {
   "cell_type": "markdown",
   "metadata": {
    "collapsed": false
   },
   "source": [
    "Swarm control (material graph)\n",
    "-----\n",
    "\n"
   ]
  },
  {
   "cell_type": "code",
   "execution_count": null,
   "metadata": {
    "collapsed": false
   },
   "outputs": [],
   "source": [
    "\n"
   ]
  },
  {
   "cell_type": "code",
   "execution_count": 129,
   "metadata": {
    "collapsed": false
   },
   "outputs": [],
   "source": [
    "##############\n",
    "#Here we set up a directed graph object that we we use to control the transformation from one material type to another\n",
    "##############\n",
    "\n",
    "#All depth conditions are given as (km/D) where D is the length scale,\n",
    "#note that 'model depths' are used, e.g. 1-z, where z is the vertical Underworld coordinate\n",
    "#All temp conditions are in dimensionless temp. [0. - 1.]\n",
    "\n",
    "#This is a quick fix for a bug that arises in parallel runs\n",
    "material_list = [0,1,2,3]\n",
    "\n",
    "if not checkpointLoad:\n",
    "    materialVariable.data[:] = 0 #Initialize to zero \n",
    "\n",
    "#Setup the graph object\n",
    "DG = material_graph.MatGraph()\n",
    "\n",
    "#Important: First thing to do is to add all the material types to the graph (i.e add nodes)\n",
    "DG.add_nodes_from(material_list)\n",
    "\n",
    "#Now set the conditions for transformations\n",
    "\n",
    "#... to mantle\n",
    "DG.add_transition((crustIndex,mantleIndex), depthFn, operator.gt, CRUSTTOMANTLE)\n",
    "DG.add_transition((harzIndex,mantleIndex), depthFn, operator.gt, CRUSTTOMANTLE)\n",
    "#DG.add_transition((airIndex,mantleIndex), depthFn, operator.gt, TOPOHEIGHT)\n",
    "\n",
    "#... to crust\n",
    "DG.add_transition((mantleIndex,crustIndex), depthFn, operator.lt, MANTLETOCRUST)\n",
    "DG.add_transition((mantleIndex,crustIndex), xFn, operator.lt, 0.) #No crust on the upper plate\n",
    "DG.add_transition((mantleIndex,crustIndex), ageVariable, operator.gt, crustageCond)\n",
    "\n",
    "DG.add_transition((harzIndex,crustIndex), depthFn, operator.lt, MANTLETOCRUST)\n",
    "DG.add_transition((harzIndex,crustIndex), xFn, operator.lt, 0.) #This one sets no crust on the upper plate\n",
    "DG.add_transition((harzIndex,crustIndex), ageVariable, operator.gt, crustageCond)\n",
    "\n",
    "#... to Harzbugite\n",
    "DG.add_transition((mantleIndex,harzIndex), depthFn, operator.lt, HARZBURGDEPTH)\n",
    "DG.add_transition((mantleIndex,harzIndex), depthFn, operator.gt, MANTLETOCRUST)\n",
    "DG.add_transition((mantleIndex,harzIndex), ageVariable, operator.gt, crustageCond) #Note we can mix functions and swarm variabls\n",
    "\n",
    "#... to air\n",
    "#DG.add_transition((mantleIndex,airIndex), depthFn, operator.lt,0. - TOPOHEIGHT)\n",
    "#DG.add_transition((crustIndex,airIndex), depthFn, operator.lt, 0. - TOPOHEIGHT)\n",
    "\n"
   ]
  },
  {
   "cell_type": "code",
   "execution_count": 130,
   "metadata": {
    "collapsed": false
   },
   "outputs": [
    {
     "data": {
      "text/plain": [
       "(0.1, 0.02135)"
      ]
     },
     "execution_count": 130,
     "metadata": {},
     "output_type": "execute_result"
    }
   ],
   "source": [
    "CRUSTTOMANTLE, HARZBURGDEPTH"
   ]
  },
  {
   "cell_type": "code",
   "execution_count": 131,
   "metadata": {
    "collapsed": false
   },
   "outputs": [],
   "source": [
    "##############\n",
    "#For the slab_IC, we'll also add a crustal weak zone following the dipping perturbation\n",
    "##############\n",
    "\n",
    "if checkpointLoad != True:\n",
    "    if not symmetricIC:\n",
    "        for particleID in range(gSwarm.particleCoordinates.data.shape[0]):\n",
    "            if (\n",
    "                Oc.evaluate(list(gSwarm.particleCoordinates.data[particleID])) and\n",
    "                Tri.evaluate(list(gSwarm.particleCoordinates.data[particleID])) and\n",
    "                Cc.evaluate(list(gSwarm.particleCoordinates.data[particleID])) == False\n",
    "                ):\n",
    "                materialVariable.data[particleID] = crustIndex"
   ]
  },
  {
   "cell_type": "code",
   "execution_count": 132,
   "metadata": {
    "collapsed": false
   },
   "outputs": [],
   "source": [
    "##############\n",
    "#This is how we use the material graph object to test / apply material transformations\n",
    "##############\n",
    "DG.build_condition_list(materialVariable)\n",
    "for i in range(3): #Need to go through a number of times\n",
    "    materialVariable.data[:] = fn.branching.conditional(DG.condition_list).evaluate(gSwarm)"
   ]
  },
  {
   "cell_type": "code",
   "execution_count": 133,
   "metadata": {
    "collapsed": false
   },
   "outputs": [],
   "source": [
    "#DG.build_condition_list(materialVariable)\n",
    "#materialVariable.data[:] = fn.branching.conditional(DG.condition_list).evaluate(gSwarm)"
   ]
  },
  {
   "cell_type": "markdown",
   "metadata": {
    "collapsed": false
   },
   "source": [
    "## Temp, phase and compositional buoyancy"
   ]
  },
  {
   "cell_type": "code",
   "execution_count": 134,
   "metadata": {
    "collapsed": true
   },
   "outputs": [],
   "source": [
    "##############\n",
    "#Put this in Slippy\n",
    "##############\n",
    "\n",
    "from easydict import EasyDict as edict\n",
    "class component_phases():\n",
    "    \"\"\"\n",
    "    Class that allows you to create 'phase functions' for a mineral component\n",
    "\n",
    "    \"\"\"\n",
    "    def __init__(self,name, depths,temps, widths,claps,densities):\n",
    "        \"\"\"\n",
    "        Class initialiser.\n",
    "        Parameter\n",
    "        ---------\n",
    "        name : str\n",
    "            'Component', e.g olivine, pyroxene-garnet\n",
    "        depths: list\n",
    "            list of transition depths in kilometers\n",
    "        widths: list \n",
    "            list of transition widths in kilometers\n",
    "        claps: list \n",
    "            list of Clapeyron slopes in Pa/K\n",
    "        densities: list\n",
    "            list of density changes in kg/m3\n",
    "        Returns\n",
    "        -------\n",
    "        mesh : dp\n",
    "        Dictionary storing the phase-transition vales\n",
    "\n",
    "        \"\"\"\n",
    "        if not isinstance(depths,list):\n",
    "            raise TypeError(\"depths object passed in must be of type 'list'\")\n",
    "        if not isinstance(temps,list):\n",
    "            raise TypeError(\"temps object passed in must be of type 'list'\")\n",
    "        if not isinstance(widths,list):\n",
    "            raise TypeError(\"widths object passed in must be of type 'list'\")\n",
    "        if not isinstance(claps,list):\n",
    "            raise TypeError(\"claps object passed in must be of type 'list'\")\n",
    "        if not isinstance(densities,list):\n",
    "            raise TypeError(\"densities object passed in must be of type 'list'\")\n",
    "        if not len(depths) == len(widths) == len(claps) == len(densities):\n",
    "            raise ValueError( \"All lists of phase values should be the same length\")\n",
    "        self.dp = edict({})\n",
    "        self.dp.name = name\n",
    "        self.dp.depths = depths\n",
    "        self.dp.temps = temps\n",
    "        self.dp.widths = widths\n",
    "        self.dp.claps = claps\n",
    "        self.dp.densities = densities\n",
    "        \n",
    "    def build_nd_dict(self, lengthscale, densityscale, gravityscale, tempscale):\n",
    "        self.ndp = edict({})\n",
    "        self.ndp.name = self.dp.name\n",
    "        self.ndp.depths = [i/lengthscale for i in self.dp.depths]\n",
    "        self.ndp.temps = [i/tempscale for i in self.dp.temps]\n",
    "        self.ndp.widths = [i/lengthscale for i in self.dp.widths]\n",
    "        self.ndp.claps = [(i*(tempscale/(densityscale*gravityscale*lengthscale))) for i in self.dp.claps]\n",
    "        \n",
    "    def nd_reduced_pressure(self, depthFn, temperatureField, depthPh, clapPh, tempPh):\n",
    "        \"\"\"\n",
    "        Creates an Underworld function, representing the 'reduced pressure'\n",
    "        \"\"\"\n",
    "        return (depthFn - depthPh) - clapPh*(temperatureField - tempPh)\n",
    "\n",
    "    def nd_phase(self, reduced_p, widthPh):\n",
    "        \"\"\"\n",
    "        Creates an Underworld function, representing the phase function in the domain\n",
    "        \"\"\"\n",
    "        return 0.5*(1. + fn.math.tanh(reduced_p/(widthPh)))\n",
    "    \n",
    "    def phase_function_sum(self, temperatureField, depthFn):\n",
    "        \"\"\"\n",
    "        Creates an Underworld function, representing the Sum of the individual phase functions:\n",
    "        -----------\n",
    "        temperatureField : underworld.mesh._meshvariable.MeshVariable\n",
    "        \n",
    "        ...need to put warning in about running build_nd_dict first \n",
    "        \"\"\"    \n",
    "        \n",
    "        pf_sum = uw.function.misc.constant(0.)\n",
    "        \n",
    "        for phaseId in range(len(self.dp['depths'])):\n",
    "            #build reduced pressure\n",
    "            rp = self.nd_reduced_pressure(depthFn, \n",
    "                                   temperatureField,\n",
    "                                   self.ndp['depths'][phaseId ],\n",
    "                                   self.ndp['claps'][phaseId ],\n",
    "                                   self.ndp['temps'][phaseId ])\n",
    "            #build phase function\n",
    "            pf = self.nd_phase(rp, self.ndp['widths'][phaseId ])\n",
    "            pf_sum += pf\n",
    "        \n",
    "        return pf_sum\n",
    "    \n",
    "    def buoyancy_sum(self, temperatureField, depthFn, gravityscale, lengthscale, diffusivityscale, viscosityscale):\n",
    "        \"\"\"\n",
    "        Creates an Underworld function, representing the Sum of the individual phase functions...\n",
    "        and the associated density changes:\n",
    "        \n",
    "        pf_sum = Sum_k{ (Ra*delRho_k*pf_k/rho_0*eta_0*delta_t)}\n",
    "        -----------\n",
    "        temperatureField : underworld.mesh._meshvariable.MeshVariable\n",
    "        \n",
    "        ...need to put warning in about running build_nd_dict first \n",
    "        \"\"\"\n",
    "        bouyancy_factor = (gravityscale*lengthscale**3)/(viscosityscale*diffusivityscale)\n",
    "        \n",
    "        pf_sum = uw.function.misc.constant(0.)\n",
    "        \n",
    "        for phaseId in range(len(self.dp['depths'])):\n",
    "            #build reduced pressure\n",
    "            rp = self.nd_reduced_pressure(depthFn, \n",
    "                                   temperatureField,\n",
    "                                   self.ndp['depths'][phaseId ],\n",
    "                                   self.ndp['claps'][phaseId ],\n",
    "                                   self.ndp['temps'][phaseId ])\n",
    "            #build phase function\n",
    "            pf = self.nd_phase(rp, self.ndp['widths'][phaseId ])\n",
    "            pf_sum += bouyancy_factor*pf*self.dp['densities'][phaseId ] #we want the dimensional densities here\n",
    "        \n",
    "        return pf_sum"
   ]
  },
  {
   "cell_type": "code",
   "execution_count": 135,
   "metadata": {
    "collapsed": false
   },
   "outputs": [],
   "source": [
    "##############\n",
    "#Set up phase buoyancy contributions\n",
    "##############\n",
    "\n",
    "\n",
    "#olivine\n",
    "olivinePhase = component_phases(name = 'ol', \n",
    "                        depths=[410e3,660e3],\n",
    "                        temps = [1600., 1900.], \n",
    "                        widths = [20e3, 20e3], \n",
    "                        claps=[2.e6, -2.5e6], \n",
    "                        densities = [180., 400.])\n",
    "\n",
    "olivinePhase.build_nd_dict(dp.LS, dp.rho, dp.g, dp.deltaTa)\n",
    "\n",
    "\n",
    "rp = olivinePhase.nd_reduced_pressure(depthFn, \n",
    "                                   temperatureField,\n",
    "                                   olivinePhase.ndp['depths'][0],\n",
    "                                   olivinePhase.ndp['claps'][0],\n",
    "                                   olivinePhase.ndp['temps'][0])\n",
    "\n",
    "#ph_410 = olivinePhase.nd_phase(rp, test.ndp['widths'][0])\n",
    "#pf_sum = test.phase_function_sum(temperatureField, depthFn)\n",
    "\n",
    "olivine_phase_buoyancy = olivinePhase.buoyancy_sum(temperatureField, depthFn, dp.g, dp.LS, dp.k, dp.eta0)\n",
    "\n",
    "#garnet\n",
    "garnetPhase = component_phases(name = 'grt', \n",
    "                        depths=[60e3,400e3, 720e3],\n",
    "                        temps = [1000., 1600., 1900.], \n",
    "                        widths = [20e3, 20e3, 20e3], \n",
    "                        claps=[0.e6, 1.e6, 1.e6], \n",
    "                        densities = [350., 150., 400.])\n",
    "\n",
    "garnetPhase.build_nd_dict(dp.LS, dp.rho, dp.g, dp.deltaTa)\n",
    "\n",
    "\n",
    "rp = garnetPhase.nd_reduced_pressure(depthFn, \n",
    "                                   temperatureField,\n",
    "                                   garnetPhase.ndp['depths'][0],\n",
    "                                   garnetPhase.ndp['claps'][0],\n",
    "                                   garnetPhase.ndp['temps'][0])\n",
    "\n",
    "#ph_410 = olivinePhase.nd_phase(rp, test.ndp['widths'][0])\n",
    "#pf_sum = test.phase_function_sum(temperatureField, depthFn)\n",
    "\n",
    "garnet_phase_buoyancy = garnetPhase.buoyancy_sum(temperatureField, depthFn, dp.g, dp.LS, dp.k, dp.eta0)"
   ]
  },
  {
   "cell_type": "code",
   "execution_count": 136,
   "metadata": {
    "collapsed": false
   },
   "outputs": [
    {
     "name": "stdout",
     "output_type": "stream",
     "text": [
      "(282240000.0, 50960000.0, 0.0)\n"
     ]
    }
   ],
   "source": [
    "##############\n",
    "#Set up compositional buoyancy contributions\n",
    "##############\n",
    "\n",
    "bouyancy_factor = (dp.g*dp.LS**3)/(dp.eta0*dp.k)\n",
    "\n",
    "basalt_comp_buoyancy  = (dp.rho - 2940.)*bouyancy_factor\n",
    "harz_comp_buoyancy = (dp.rho - 3235.)*bouyancy_factor\n",
    "pyrolite_comp_buoyancy = (dp.rho - 3300.)*bouyancy_factor\n",
    "\n",
    "print(basalt_comp_buoyancy, harz_comp_buoyancy, pyrolite_comp_buoyancy)"
   ]
  },
  {
   "cell_type": "code",
   "execution_count": 137,
   "metadata": {
    "collapsed": false
   },
   "outputs": [],
   "source": [
    "#this accounts for the decreas in expansivity\n",
    "alphaRatio = 1.2/3\n",
    "taFn = 1. - (depthFn)*(1. - alphaRatio) \n",
    "#raylieghFn = ndp.RA*temperatureField*taFn\n",
    "\n",
    "\n",
    "if not compBuoyancy:\n",
    "    pyrolitebuoyancyFn =  (ndp.RA*temperatureField*taFn)\n",
    "    harzbuoyancyFn =      (ndp.RA*temperatureField*taFn) \n",
    "    basaltbuoyancyFn =    (ndp.RA*temperatureField*taFn)\n",
    "\n",
    "else : \n",
    "    pyrolitebuoyancyFn =  (ndp.RA*temperatureField*taFn) -\\\n",
    "                          (0.6*olivine_phase_buoyancy + 0.4*garnet_phase_buoyancy) +\\\n",
    "                           pyrolite_comp_buoyancy\n",
    "    harzbuoyancyFn =      (ndp.RA*temperatureField*taFn) -\\\n",
    "                          (0.8*olivine_phase_buoyancy + 0.2*garnet_phase_buoyancy) +\\\n",
    "                           harz_comp_buoyancy\n",
    "    basaltbuoyancyFn =    (ndp.RA*temperatureField*taFn) -\\\n",
    "                          (1.*garnet_phase_buoyancy) +\\\n",
    "                           basalt_comp_buoyancy"
   ]
  },
  {
   "cell_type": "markdown",
   "metadata": {},
   "source": [
    "Rheology\n",
    "-----\n",
    "\n"
   ]
  },
  {
   "cell_type": "code",
   "execution_count": 138,
   "metadata": {
    "collapsed": false
   },
   "outputs": [],
   "source": [
    "# The yeilding of the upper slab is dependent on the strain rate.\n",
    "strainRate_2ndInvariant = fn.tensor.second_invariant( \n",
    "                            fn.tensor.symmetric( \n",
    "                            velocityField.fn_gradient ))\n",
    "\n"
   ]
  },
  {
   "cell_type": "code",
   "execution_count": 139,
   "metadata": {
    "collapsed": false
   },
   "outputs": [],
   "source": [
    "ViscReduce = 1.\n",
    "\n",
    "ndp.Wds *= ViscReduce\n",
    "ndp.Wdf *= ViscReduce\n",
    "ndp.Eds *= ViscReduce\n",
    "ndp.Edf *= ViscReduce"
   ]
  },
  {
   "cell_type": "code",
   "execution_count": 140,
   "metadata": {
    "collapsed": false
   },
   "outputs": [
    {
     "data": {
      "text/plain": [
       "(49.15683109565078, 17.875211307509375, 28.301795831549015, 19.75229500743525)"
      ]
     },
     "execution_count": 140,
     "metadata": {},
     "output_type": "execute_result"
    }
   ],
   "source": [
    "ndp.Wds, ndp.Wdf, ndp.Eds, ndp.Edf"
   ]
  },
  {
   "cell_type": "code",
   "execution_count": 141,
   "metadata": {
    "collapsed": false
   },
   "outputs": [],
   "source": [
    "############\n",
    "#Rheology\n",
    "#############\n",
    "#\n",
    "#The final mantle rheology is composed as follows*:\n",
    "# \n",
    "#\n",
    "# mantleviscosityFn = max{  min{(1/omega*Visc + 1/eta_p)**-1,\n",
    "#                           eta_max},\n",
    "#                           eta_min}\n",
    "#                      \n",
    "#Visc => min{diffusionCreep, dislocationCreep, }\n",
    "#eta_p   => stress-limiting effective viscosity\n",
    "#\n",
    "\n",
    "omega = fn.misc.constant(1.)\n",
    "\n",
    "if meltViscosityReduction:\n",
    "    mvr =  fn.branching.conditional( [ (temperatureField > (ndp.Tmvp + 7.5*(1. - coordinate[1])) , 0.1 ),   (         True, 1.) ] )\n",
    "    omega = omega*mvr\n",
    "\n",
    "\n",
    "#implementation of the lower mantle viscosity increase, similar to Bello et al. 2015\n",
    "a = 1.\n",
    "B = 30.\n",
    "d0 = 660e3/dp.LS  \n",
    "ds = d0/10.\n",
    "if lowerMantle:\n",
    "    inner1 = 1. - 0.5*(1. - fn.math.tanh(((1. - d0)-(coordinate[1]))/(ds)))\n",
    "    modfac = a*fn.math.exp(np.log(B)*inner1)\n",
    "    omega = omega*modfac\n",
    "\n",
    "\n",
    "##Diffusion Creep\n",
    "ndfp = fn.misc.min(ndp.eta_max, fn.math.exp( ((ndp.Edf + (depthFn*ndp.Wdf))/((temperatureField + ndp.TS))) - \n",
    "              ((ndp.Edf + (ndp.Dr*ndp.Wdf))/((ndp.TPP + ndp.TS)))  ))\n",
    "\n",
    "linearVisc = fn.misc.min(ndp.eta_max, ndfp)\n",
    "\n",
    "##Dislocation Creep\n",
    "nl_correction = (strainRate_2ndInvariant/ndp.SR)**((1.-ndp.n)/(ndp.n))\n",
    "\n",
    "\n",
    "ndsp = fn.misc.min(ndp.eta_max,(nl_correction)*fn.math.exp( ((ndp.Eds + (depthFn*ndp.Wds))/(ndp.n*(temperatureField + ndp.TS))) -\n",
    "                                     ((ndp.Eds + (ndp.Dr*ndp.Wds))/(ndp.n*(ndp.TPP + ndp.TS)))))\n",
    "\n",
    "\n",
    "##Combine the creep mechanisms\n",
    "#Visc = fn.misc.max(fn.misc.min(ndp.eta_max, fn.misc.min(ndfp, ndsp)), ndp.eta_min) #Minima approach\n",
    "Visc = 2.*fn.misc.max(fn.misc.min(ndp.eta_max, ((1./ndfp) + (1./ndfp))**-1.), ndp.eta_min)  #the 2. corrects for the halving of the visc. max. otherwise\n",
    "\n",
    "\n",
    "\n",
    "##Define the Plasticity\n",
    "ys =  ndp.cohesion + (depthFn*ndp.fcd)\n",
    "#ys =  ndp.cohesion\n",
    "yielding = ys/(strainRate_2ndInvariant) #extra factor to account for underworld second invariant form\n",
    "\n",
    "\n",
    "#Combine the viscous creep and plasticity\n",
    "#mantleviscosityFn = fn.misc.max(fn.misc.min(1./(((1./Visc) + (1./yielding))), ndp.eta_max), ndp.eta_min)\n",
    "mantleviscosityFn = fn.misc.max(fn.misc.min(fn.misc.min(Visc, yielding), ndp.eta_max), ndp.eta_min)\n",
    "\n",
    "lowMantleDepth = 660e3\n",
    "lowMantleViscFac = 1.\n",
    "finalviscosityFn  = fn.branching.conditional([(depthFn < lowMantleDepth/dp.LS, mantleviscosityFn),\n",
    "                                  (True, ndfp*lowMantleViscFac)])\n",
    "\n",
    "\n",
    "#fn.misc.min(Visc, yielding)\n",
    "\n",
    "#lower mantle rheology\n",
    "\n",
    "#ndflm = fn.misc.min(ndp.eta_max, fn.math.exp( ((ndp.Elm + (depthFn*ndp.Wlm))/((temperatureField + ndp.TS))) - \n",
    "#              ((ndp.Elm + (ndp.Dr*ndp.Wlm))/((ndp.TPP + ndp.TS)))  ))\n",
    "\n",
    "#I ignored Cizkova's lower mantle diffusion creep parameters, \n",
    "#as they appeared to give lower values that the upper mantle rheology, i.e a visc. decrease at 660.\n",
    "#lm_increase = 1.\n",
    "#lowermantleviscosityFn = fn.misc.max(lm_increase*ndfp, ndp.eta_min)\n",
    "\n",
    "\n",
    "##Crust rheology\n",
    "#reduceFac = 0.1\n",
    "#ysc =  reduceFac*ndp.cohesion + reduceFac*(depthFn*gamma*ndp.RA) #In this case we'll use a valid cohesion\n",
    "#crust_yielding = ysc/(strainRate_2ndInvariant/math.sqrt(0.5)) #extra factor to account for underworld second invariant form\n",
    "#crustviscosityFn = fn.misc.max(fn.misc.min(1./(((1./Visc) + (1./crust_yielding))), ndp.eta_max), ndp.eta_min)\n"
   ]
  },
  {
   "cell_type": "code",
   "execution_count": 142,
   "metadata": {
    "collapsed": false
   },
   "outputs": [
    {
     "data": {
      "text/plain": [
       "99999.999999999985"
      ]
     },
     "execution_count": 142,
     "metadata": {},
     "output_type": "execute_result"
    }
   ],
   "source": [
    "mantleviscosityFn.evaluate(mesh).max()"
   ]
  },
  {
   "cell_type": "code",
   "execution_count": 143,
   "metadata": {
    "collapsed": false
   },
   "outputs": [],
   "source": [
    "fig= glucifer.Figure()\n",
    "#fig.append( glucifer.objects.Points(gSwarm, densityMapFn))\n",
    "fig.append( glucifer.objects.Surface(mesh, finalviscosityFn, logScale=True))\n",
    "\n",
    "\n",
    "#fig.show()"
   ]
  },
  {
   "cell_type": "code",
   "execution_count": 144,
   "metadata": {
    "collapsed": false
   },
   "outputs": [],
   "source": [
    "############\n",
    "#Build a weak zone\n",
    "#############\n",
    "\n",
    "\n",
    "def disGen(centre):\n",
    "    coord = fn.input()\n",
    "    offsetFn = coord - centre\n",
    "    return fn.math.sqrt(fn.math.dot( offsetFn, offsetFn ))\n",
    "\n",
    "depth = 200.e3 #m\n",
    "angle = 20. #degrees\n",
    "num_circles = 50\n",
    "half_width = 5e3 #m\n",
    "\n",
    "\n",
    "xpos = depth/math.tan((angle*math.pi/180.))\n",
    "start = (0.075, 1.)\n",
    "end = (start[0] +xpos/dp.LS , start[1] - depth/dp.LS)\n",
    "xar = np.linspace(start[0], end[0], num_circles)\n",
    "yar = np.linspace(start[1], end[1], num_circles)\n",
    "fnBuilder = fn.misc.constant(1000.)\n",
    "for i in range(num_circles):\n",
    "    circ_dist = disGen((xar[i], yar[i]))\n",
    "    fnBuilder = fn.misc.min(circ_dist, fnBuilder)\n",
    "    \n",
    "sig = half_width/dp.LS\n",
    "gammaFn =  fn.math.exp(-fn.math.pow(fnBuilder, 2.) / (2. * fn.math.pow(sig, 2.)))"
   ]
  },
  {
   "cell_type": "code",
   "execution_count": 145,
   "metadata": {
    "collapsed": false
   },
   "outputs": [],
   "source": [
    "testFn = disGen((0., 1.))"
   ]
  },
  {
   "cell_type": "code",
   "execution_count": 146,
   "metadata": {
    "collapsed": true
   },
   "outputs": [],
   "source": [
    "weakVisc = 1.\n",
    "weakzoneFn = fn.misc.min((weakVisc/gammaFn*1.),ndp.eta_max)\n",
    "combmantleviscosityFn = fn.misc.max(ndp.eta_min, fn.misc.min(mantleviscosityFn, weakzoneFn))\n",
    "\n"
   ]
  },
  {
   "cell_type": "code",
   "execution_count": null,
   "metadata": {
    "collapsed": true
   },
   "outputs": [],
   "source": [
    "\n",
    "    "
   ]
  },
  {
   "cell_type": "code",
   "execution_count": 147,
   "metadata": {
    "collapsed": false
   },
   "outputs": [],
   "source": [
    "#velocityField.data.max()"
   ]
  },
  {
   "cell_type": "markdown",
   "metadata": {},
   "source": [
    "import matplotlib.pylab as pyplt\n",
    "%matplotlib inline\n",
    "\n",
    "\n",
    "\n",
    "##################\n",
    "#Output functions to numpy vertical averages, maxes, mins\n",
    "##################\n",
    "\n",
    "viscmapFnmesh = uw.mesh.MeshVariable(mesh,nodeDofCount=1)\n",
    "out = uw.utils.MeshVariable_Projection( viscmapFnmesh, viscosityMapFn)\n",
    "out.solve()\n",
    "\n",
    "\n",
    "#avDf = ndfp.evaluate(mesh).reshape(mesh.elementRes[1] + 1, mesh.elementRes[0] + 1).mean(axis=1)\n",
    "avDs = ndsp.evaluate(mesh).reshape(mesh.elementRes[1] + 1, mesh.elementRes[0] + 1).mean(axis=1)\n",
    "umantle = mantleviscosityFn.evaluate(mesh).reshape(mesh.elementRes[1] + 1, mesh.elementRes[0] + 1).mean(axis=1)\n",
    "lmantle = lowermantleviscosityFn.evaluate(mesh).reshape(mesh.elementRes[1] + 1, mesh.elementRes[0] + 1).mean(axis=1)\n",
    "eff = viscmapFnmesh.evaluate(mesh).reshape(mesh.elementRes[1] + 1, mesh.elementRes[0] + 1).mean(axis=1)\n",
    "\n",
    "effMin = viscmapFnmesh.evaluate(mesh).reshape(mesh.elementRes[1] + 1, mesh.elementRes[0] + 1).min(axis=1)\n",
    "effMax = viscmapFnmesh.evaluate(mesh).reshape(mesh.elementRes[1] + 1, mesh.elementRes[0] + 1).max(axis=1)\n",
    "\n",
    "###################\n",
    "#Plot\n",
    "###################\n",
    "import matplotlib.pylab as pyplt\n",
    "%matplotlib inline\n",
    "\n",
    "fig, ax = pyplt.subplots()\n",
    "#ax .plot(avDf, label = 'diff')\n",
    "#ax .plot(avDs, label = 'dis')\n",
    "ax .plot(eff, label = 'eff')\n",
    "ax .plot(effMax, label = 'effMax')\n",
    "ax .plot(effMin, label = 'effMin')\n",
    "#ax .plot(umantle, label = 'uman')\n",
    "#ax .plot(lmantle, label = 'lman')\n",
    "ax.set_yscale(\"log\", nonposy='clip')\n",
    "ax.legend(loc = 3)"
   ]
  },
  {
   "cell_type": "code",
   "execution_count": 148,
   "metadata": {
    "collapsed": false,
    "scrolled": true
   },
   "outputs": [],
   "source": [
    "#fig= glucifer.Figure()\n",
    "#fig.append( glucifer.objects.Points(gSwarm,materialVariable))\n",
    "#fig.append( glucifer.objects.Points(gSwarm,viscosityMapFn, logScale=True))\n",
    "#fig.append( glucifer.objects.Surface(mesh, ndfp, logScale=True))\n",
    "\n",
    "#fig.append( glucifer.objects.Surface(mesh,mantleviscosityFn, logScale=True))\n",
    "#fig.show()\n",
    "#fig.save_database('test.gldb')"
   ]
  },
  {
   "cell_type": "code",
   "execution_count": 149,
   "metadata": {
    "collapsed": false
   },
   "outputs": [
    {
     "data": {
      "text/plain": [
       "(100000.0, 0.061142252826412398)"
      ]
     },
     "execution_count": 149,
     "metadata": {},
     "output_type": "execute_result"
    }
   ],
   "source": [
    "ndsp.evaluate(mesh).min(), ndfp.evaluate(mesh).min()"
   ]
  },
  {
   "cell_type": "code",
   "execution_count": 150,
   "metadata": {
    "collapsed": false
   },
   "outputs": [],
   "source": [
    "#ndp.SR"
   ]
  },
  {
   "cell_type": "code",
   "execution_count": null,
   "metadata": {
    "collapsed": false
   },
   "outputs": [],
   "source": []
  },
  {
   "cell_type": "markdown",
   "metadata": {},
   "source": [
    "Stokes system setup\n",
    "-----\n"
   ]
  },
  {
   "cell_type": "code",
   "execution_count": 151,
   "metadata": {
    "collapsed": false
   },
   "outputs": [],
   "source": [
    "densityMapFn = fn.branching.map( fn_key = materialVariable,\n",
    "                         mapping = {airIndex:ndp.StRA,\n",
    "                                    crustIndex:basaltbuoyancyFn, \n",
    "                                    mantleIndex:pyrolitebuoyancyFn,\n",
    "                                    harzIndex:harzbuoyancyFn} )"
   ]
  },
  {
   "cell_type": "code",
   "execution_count": 152,
   "metadata": {
    "collapsed": true
   },
   "outputs": [],
   "source": [
    "\n",
    "# Define our vertical unit vector using a python tuple (this will be automatically converted to a function).\n",
    "gravity = ( 0.0, 1.0 )\n",
    "\n",
    "# Now create a buoyancy force vector using the density and the vertical unit vector. \n",
    "buoyancyFn = densityMapFn * gravity"
   ]
  },
  {
   "cell_type": "code",
   "execution_count": 153,
   "metadata": {
    "collapsed": true
   },
   "outputs": [],
   "source": [
    "stokesPIC = uw.systems.Stokes(velocityField=velocityField, \n",
    "                              pressureField=pressureField,\n",
    "                              conditions=[freeslipBC,],\n",
    "                              fn_viscosity=linearVisc, \n",
    "                              fn_bodyforce=buoyancyFn )"
   ]
  },
  {
   "cell_type": "code",
   "execution_count": 154,
   "metadata": {
    "collapsed": true
   },
   "outputs": [],
   "source": [
    "solver = uw.systems.Solver(stokesPIC)\n",
    "if not checkpointLoad:\n",
    "    solver.solve() #A solve on the linear visocisty is unhelpful unless we're starting from scratch"
   ]
  },
  {
   "cell_type": "code",
   "execution_count": 155,
   "metadata": {
    "collapsed": false
   },
   "outputs": [],
   "source": [
    "############\n",
    "#Yield limiting viscosity, in this case we arrange viscosities in parallel\n",
    "#############\n",
    "dp.yl = 5e8\n",
    "dp.ylsr = 1e-15\n",
    "ndp.yl = dp.yl*sf.stress\n",
    "ndp.ylsr = dp.ylsr*sf.SR\n",
    "ndp.yln = 10.\n",
    "ndyl = fn.misc.min(ndp.eta_max,ndp.yl*(ndp.ylsr**(-1./ndp.yln))*(strainRate_2ndInvariant)**(1./(ndp.yln-1.)))\n",
    "\n",
    "if parallelVisc:\n",
    "    combmantleviscosityFn = fn.misc.max(fn.misc.min(1./(((1./ndfp) + (1./ndsp) + 1./(ndyl) )), ndp.eta_max), ndp.eta_min)"
   ]
  },
  {
   "cell_type": "code",
   "execution_count": 156,
   "metadata": {
    "collapsed": false
   },
   "outputs": [],
   "source": [
    "fig= glucifer.Figure()\n",
    "#fig.append( glucifer.objects.Points(gSwarm,tracerVariable, colours= 'white black'))\n",
    "#fig.append( glucifer.objects.Points(gSwarm,materialVariable))\n",
    "fig.append( glucifer.objects.Surface(mesh, combmantleviscosityFn, logScale=True))\n",
    "\n",
    "#fig.append( glucifer.objects.Surface(mesh, strainRate_2ndInvariant/ndp.SR, logScale=True))\n",
    "#fig.show()\n",
    "#fig.save_database('test.gldb')"
   ]
  },
  {
   "cell_type": "code",
   "execution_count": 157,
   "metadata": {
    "collapsed": false
   },
   "outputs": [
    {
     "data": {
      "text/plain": [
       "(25.0, 0.04)"
      ]
     },
     "execution_count": 157,
     "metadata": {},
     "output_type": "execute_result"
    }
   ],
   "source": [
    "dp.yl/ndp.yl, sf.stress"
   ]
  },
  {
   "cell_type": "code",
   "execution_count": 158,
   "metadata": {
    "collapsed": false
   },
   "outputs": [
    {
     "name": "stdout",
     "output_type": "stream",
     "text": [
      "2\n"
     ]
    }
   ],
   "source": [
    "if WeakZone:\n",
    "    print(1)\n",
    "    viscosityMapFn = fn.branching.map( fn_key = materialVariable,\n",
    "                         mapping = {crustIndex:combmantleviscosityFn,\n",
    "                                    mantleIndex:combmantleviscosityFn,\n",
    "                                    harzIndex:combmantleviscosityFn} )\n",
    "else: #Use weak crust\n",
    "    print(2)\n",
    "    viscosityMapFn = fn.branching.map( fn_key = materialVariable,\n",
    "                         mapping = {crustIndex:ndp.eta_crust,\n",
    "                                    mantleIndex:finalviscosityFn,\n",
    "                                    harzIndex:finalviscosityFn} )\n",
    "\n"
   ]
  },
  {
   "cell_type": "code",
   "execution_count": null,
   "metadata": {
    "collapsed": false
   },
   "outputs": [],
   "source": []
  },
  {
   "cell_type": "code",
   "execution_count": null,
   "metadata": {
    "collapsed": false
   },
   "outputs": [],
   "source": []
  },
  {
   "cell_type": "code",
   "execution_count": null,
   "metadata": {
    "collapsed": true
   },
   "outputs": [],
   "source": []
  },
  {
   "cell_type": "code",
   "execution_count": 159,
   "metadata": {
    "collapsed": true
   },
   "outputs": [],
   "source": [
    "#Add the non-linear viscosity to the Stokes system\n",
    "stokesPIC.fn_viscosity = viscosityMapFn"
   ]
  },
  {
   "cell_type": "code",
   "execution_count": 160,
   "metadata": {
    "collapsed": false
   },
   "outputs": [
    {
     "name": "stdout",
     "output_type": "stream",
     "text": [
      "\u001b[1;35m\n",
      " \n",
      "Pressure iterations:   3\n",
      "Velocity iterations:   1 (presolve)      \n",
      "Velocity iterations:  -1 (pressure solve)\n",
      "Velocity iterations:   1 (backsolve)     \n",
      "Velocity iterations:   1 (total solve)   \n",
      " \n",
      "SCR RHS  solve time: 3.7711e-01\n",
      "Pressure solve time: 3.4580e-02\n",
      "Velocity solve time: 3.5665e-01 (backsolve)\n",
      "Total solve time   : 8.3364e-01\n",
      " \n",
      "Velocity solution min/max: 0.0000e+00/0.0000e+00\n",
      "Pressure solution min/max: 0.0000e+00/0.0000e+00\n",
      " \n",
      "\u001b[00m\n"
     ]
    }
   ],
   "source": [
    "solver.set_inner_method(\"mumps\")\n",
    "solver.options.scr.ksp_type=\"cg\"\n",
    "solver.set_penalty(1.0e7)\n",
    "solver.options.scr.ksp_rtol = 1.0e-4\n",
    "solver.solve(nonLinearIterate=True)\n",
    "solver.print_stats()"
   ]
  },
  {
   "cell_type": "code",
   "execution_count": null,
   "metadata": {
    "collapsed": true
   },
   "outputs": [],
   "source": []
  },
  {
   "cell_type": "code",
   "execution_count": 161,
   "metadata": {
    "collapsed": false
   },
   "outputs": [],
   "source": [
    "#Check which particles are yielding\n",
    "#yieldingCheck.data[:] = 0\n",
    "\n",
    "#yieldconditions = [ ( mantleviscosityFn < Visc , 1), \n",
    "#               ( True                                           , 0) ]\n",
    "\n",
    "# use the branching conditional function to set each particle's index\n",
    "#yieldingCheck.data[:] = fn.branching.conditional( yieldconditions ).evaluate(gSwarm)"
   ]
  },
  {
   "cell_type": "code",
   "execution_count": 162,
   "metadata": {
    "collapsed": false,
    "scrolled": true
   },
   "outputs": [],
   "source": [
    "#fig= glucifer.Figure()\n",
    "#fig.append( glucifer.objects.Points(gSwarm,yieldingCheck))\n",
    "\n",
    "#fig.append( glucifer.objects.Surface(mesh,ndflm, logScale=True))\n",
    "#fig.show()"
   ]
  },
  {
   "cell_type": "markdown",
   "metadata": {},
   "source": [
    "Advection-diffusion System setup\n",
    "-----"
   ]
  },
  {
   "cell_type": "code",
   "execution_count": 78,
   "metadata": {
    "collapsed": false
   },
   "outputs": [],
   "source": [
    "advDiff = uw.systems.AdvectionDiffusion( phiField       = temperatureField, \n",
    "                                         phiDotField    = temperatureDotField, \n",
    "                                         velocityField  = velocityField,\n",
    "                                         fn_sourceTerm    = 0.0,\n",
    "                                         fn_diffusivity = 1.0, \n",
    "                                         #conditions     = [neumannTempBC, dirichTempBC] )\n",
    "                                         conditions     = [ dirichTempBC] )\n",
    "\n",
    "passiveadvector = uw.systems.SwarmAdvector( swarm         = gSwarm, \n",
    "                                     velocityField = velocityField, \n",
    "                                     order         = 1)"
   ]
  },
  {
   "cell_type": "code",
   "execution_count": 79,
   "metadata": {
    "collapsed": false
   },
   "outputs": [],
   "source": [
    "#I was playing around with a tailored diffusivity to target the slab\n",
    "\n",
    "#inCircleFnGenerator#Now build the perturbation part\n",
    "#def htan(centre, radius, widthPh, farVal = 0.01, fac = 10.):\n",
    "#    coord = fn.input()\n",
    "#    offsetFn = coord - centre\n",
    "#    dist = fn.math.sqrt(fn.math.dot( offsetFn, offsetFn ))\n",
    "    \n",
    "    \n",
    "#    return (((fn.math.tanh(((radius - dist))/widthPh) + 1.) /2.))*fac + farVal\n",
    "\n",
    "#tfun = htan((0.1, 0.9), 0.1, 0.1, 0.1)"
   ]
  },
  {
   "cell_type": "code",
   "execution_count": 80,
   "metadata": {
    "collapsed": true
   },
   "outputs": [],
   "source": [
    "for index in mesh.specialSets[\"MinJ_VertexSet\"]:\n",
    "    temperatureField.data[index] = ndp.TBP\n",
    "for index in mesh.specialSets[\"MaxJ_VertexSet\"]:\n",
    "    temperatureField.data[index] = ndp.TSP"
   ]
  },
  {
   "cell_type": "code",
   "execution_count": 81,
   "metadata": {
    "collapsed": false
   },
   "outputs": [
    {
     "data": {
      "text/plain": [
       "1394.4794120332097"
      ]
     },
     "execution_count": 81,
     "metadata": {},
     "output_type": "execute_result"
    }
   ],
   "source": [
    "velocityField.data.max()"
   ]
  },
  {
   "cell_type": "code",
   "execution_count": 82,
   "metadata": {
    "collapsed": false
   },
   "outputs": [],
   "source": [
    "############\n",
    "#Slightly Diffuse the initial perturbation\n",
    "#############\n",
    "\n",
    "timetoDifffuse = 0.#Million years\n",
    "incrementtoDiffuse = 0.2 #Million years\n",
    "\n",
    "timetoDifffuse = (timetoDifffuse*1e6*(spery)/sf.SR).magnitude\n",
    "incrementtoDiffuse = (incrementtoDiffuse*1e6*(spery)/sf.SR).magnitude\n",
    "\n",
    "totAdt = 0.\n",
    "it = 0\n",
    "while totAdt < timetoDifffuse:\n",
    "    dtad = advDiff.get_max_dt()\n",
    "    print(\"step\") + str(it) \n",
    "    advDiff.integrate(incrementtoDiffuse)\n",
    "    totAdt += incrementtoDiffuse\n",
    "    it += 1\n",
    "    \n",
    "#Reset Boundary conds.   \n",
    "for index in mesh.specialSets[\"MinJ_VertexSet\"]:\n",
    "    temperatureField.data[index] = ndp.TBP\n",
    "for index in mesh.specialSets[\"MaxJ_VertexSet\"]:\n",
    "    temperatureField.data[index] = ndp.TSP\n",
    "    \n",
    "comm.Barrier()"
   ]
  },
  {
   "cell_type": "code",
   "execution_count": 83,
   "metadata": {
    "collapsed": true
   },
   "outputs": [],
   "source": [
    "population_control = uw.swarm.PopulationControl(gSwarm,deleteThreshold=0.2,splitThreshold=1.,maxDeletions=3,maxSplits=0, aggressive=True, particlesPerCell=ppc)"
   ]
  },
  {
   "cell_type": "markdown",
   "metadata": {},
   "source": [
    "Analysis functions / routines\n",
    "-----"
   ]
  },
  {
   "cell_type": "code",
   "execution_count": 84,
   "metadata": {
    "collapsed": true
   },
   "outputs": [],
   "source": [
    "#These are functions we can use to evuate integrals over restricted parts of the domain\n",
    "# For instance, we can exclude the thermal lithosphere from integrals\n",
    "\n",
    "def temprestrictionFn(lithval = 0.9):\n",
    "\n",
    "    tempMM = fn.view.min_max(temperatureField)\n",
    "    tempMM.evaluate(mesh)\n",
    "    TMAX = tempMM.max_global()\n",
    "    mantleconditions = [ (                                  temperatureField > lithval*TMAX, 1.),\n",
    "                   (                                                   True , 0.) ]\n",
    "\n",
    "\n",
    "    return fn.branching.conditional(mantleconditions)\n",
    "\n",
    "mantlerestrictFn = temprestrictionFn(lithval = 0.85)\n",
    "\n",
    "\n",
    "\n",
    "def platenessFn(val = 0.1):\n",
    "    normgradV = fn.math.abs(velocityField.fn_gradient[0]/fn.math.sqrt(velocityField[0]*velocityField[0])) #[du*/dx]/sqrt(u*u)\n",
    "\n",
    "\n",
    "\n",
    "    srconditions = [ (                                  normgradV < val, 1.),\n",
    "                   (                                                   True , 0.) ]\n",
    "\n",
    "\n",
    "    return fn.branching.conditional(srconditions)\n",
    "\n",
    "srrestrictFn = platenessFn(val = 0.1)"
   ]
  },
  {
   "cell_type": "code",
   "execution_count": null,
   "metadata": {
    "collapsed": true
   },
   "outputs": [],
   "source": []
  },
  {
   "cell_type": "code",
   "execution_count": 85,
   "metadata": {
    "collapsed": false
   },
   "outputs": [],
   "source": [
    "#Setup volume integrals \n",
    "\n",
    "tempint = uw.utils.Integral( temperatureField, mesh )\n",
    "areaint = uw.utils.Integral( 1.,               mesh )\n",
    "\n",
    "v2int   = uw.utils.Integral( fn.math.dot(velocityField,velocityField), mesh )\n",
    "\n",
    "dwint   = uw.utils.Integral( temperatureField*velocityField[1], mesh )\n",
    "\n",
    "sinner = fn.math.dot( strainRate_2ndInvariant, strainRate_2ndInvariant )\n",
    "vdint = uw.utils.Integral( (2.*viscosityMapFn*sinner), mesh ) #Is it two or four here?\n",
    "\n",
    "mantleArea   = uw.utils.Integral( mantlerestrictFn, mesh )\n",
    "mantleTemp = uw.utils.Integral( temperatureField*mantlerestrictFn, mesh )\n",
    "mantleVisc = uw.utils.Integral( mantleviscosityFn*mantlerestrictFn, mesh )\n",
    "mantleVd = uw.utils.Integral( (2.*viscosityMapFn*sinner*mantlerestrictFn), mesh ) #these now work on MappingFunctions"
   ]
  },
  {
   "cell_type": "code",
   "execution_count": 86,
   "metadata": {
    "collapsed": true
   },
   "outputs": [],
   "source": [
    "#Setup surface integrals\n",
    "\n",
    "rmsSurfInt = uw.utils.Integral( fn=velocityField[0]*velocityField[0], mesh=mesh, integrationType='Surface', \n",
    "                          surfaceIndexSet=mesh.specialSets[\"MaxJ_VertexSet\"])\n",
    "nuTop      = uw.utils.Integral( fn=temperatureField.fn_gradient[1],    mesh=mesh, integrationType='Surface', \n",
    "                          surfaceIndexSet=mesh.specialSets[\"MaxJ_VertexSet\"])\n",
    "nuBottom   = uw.utils.Integral( fn=temperatureField.fn_gradient[1],    mesh=mesh, integrationType='Surface', \n",
    "                          surfaceIndexSet=mesh.specialSets[\"MinJ_VertexSet\"])\n",
    "\n",
    "plateint  = uw.utils.Integral( fn=srrestrictFn, mesh=mesh, integrationType='Surface', #Integrate the plateness function\n",
    "                          surfaceIndexSet=mesh.specialSets[\"MaxJ_VertexSet\"]) \n",
    "\n",
    "surfint  = uw.utils.Integral( fn=1., mesh=mesh, integrationType='Surface',   #Surface length function (i.e. domain width)\n",
    "                          surfaceIndexSet=mesh.specialSets[\"MaxJ_VertexSet\"])"
   ]
  },
  {
   "cell_type": "code",
   "execution_count": 87,
   "metadata": {
    "collapsed": true
   },
   "outputs": [],
   "source": [
    "#Define functions for the evaluation of integrals\n",
    "\n",
    "def basic_int(ourIntegral):           #This one just hands back the evaluated integral\n",
    "    return ourIntegral.evaluate()[0]\n",
    "\n",
    "def avg_temp():\n",
    "    return tempint.evaluate()[0]/areaint.evaluate()[0]\n",
    "\n",
    "def nusseltTB(temp_field, mesh):\n",
    "    return -nuTop.evaluate()[0], -nuBottom.evaluate()[0]\n",
    "\n",
    "def rms():\n",
    "    return math.sqrt(v2int.evaluate()[0]/areaint.evaluate()[0])\n",
    "\n",
    "def rms_surf():\n",
    "    return math.sqrt(rmsSurfInt.evaluate()[0])\n",
    "\n",
    "def max_vx_surf(velfield, mesh):\n",
    "    vuvelxfn = fn.view.min_max(velfield[0])\n",
    "    vuvelxfn.evaluate(mesh.specialSets[\"MaxJ_VertexSet\"])\n",
    "    return vuvelxfn.max_global()\n",
    "\n",
    "\n",
    "def visc_extr(viscfn):\n",
    "    vuviscfn = fn.view.min_max(viscfn)\n",
    "    vuviscfn.evaluate(mesh)\n",
    "    return vuviscfn.max_global(), vuviscfn.min_global()"
   ]
  },
  {
   "cell_type": "code",
   "execution_count": 92,
   "metadata": {
    "collapsed": false
   },
   "outputs": [
    {
     "data": {
      "text/plain": [
       "(49.414476669082276, 299.31247371188755, 609.9273529460928)"
      ]
     },
     "execution_count": 92,
     "metadata": {},
     "output_type": "execute_result"
    }
   ],
   "source": [
    "#v2sum_integral  = uw.utils.Integral( mesh=mesh, fn=fn.math.dot( velocityField, velocityField ) )\n",
    "#volume_integral = uw.utils.Integral( mesh=mesh, fn=1. )\n",
    "#Vrms = math.sqrt( v2sum_integral.evaluate()[0] )/volume_integral.evaluate()[0]\n",
    "\n",
    "\n",
    "\n",
    "#if(uw.rank()==0):\n",
    "#    print('Initial Vrms = {0:.3f}'.format(Vrms))\n",
    "\n",
    "# Check the Metrics\n",
    "\n",
    "#Avg_temp = avg_temp()\n",
    "Rms = rms()\n",
    "Rms_surf = rms_surf()\n",
    "Max_vx_surf = max_vx_surf(velocityField, mesh)\n",
    "Rms, Rms_surf, Max_vx_surf \n",
    "#Gravwork = basic_int(dwint)\n",
    "#Viscdis = basic_int(vdint)\n",
    "#nu1, nu0 = nusseltTB(temperatureField, mesh) # return top then bottom\n",
    "#etamax, etamin = visc_extr(mantleviscosityFn)\n",
    "\n",
    "#Area_mantle = basic_int(mantleArea)\n",
    "#Viscmantle = basic_int(mantleVisc)\n",
    "#Tempmantle = basic_int(mantleTemp)\n",
    "#Viscdismantle = basic_int(mantleVd)"
   ]
  },
  {
   "cell_type": "markdown",
   "metadata": {},
   "source": [
    "Viz.\n",
    "-----"
   ]
  },
  {
   "cell_type": "code",
   "execution_count": null,
   "metadata": {
    "collapsed": false
   },
   "outputs": [],
   "source": [
    "viscVariable = gSwarm.add_variable( dataType=\"float\", count=1 )\n",
    "viscVariable.data[:] = viscosityMapFn.evaluate(gSwarm)"
   ]
  },
  {
   "cell_type": "code",
   "execution_count": null,
   "metadata": {
    "collapsed": false
   },
   "outputs": [],
   "source": [
    "#Pack some stuff into a database as well\n",
    "figDb = glucifer.Figure()\n",
    "#figDb.append( glucifer.objects.Mesh(mesh))\n",
    "figDb.append( glucifer.objects.VectorArrows(mesh,velocityField, scaling=0.00005))\n",
    "#figDb.append( glucifer.objects.Points(gSwarm,tracerVariable, colours= 'white black'))\n",
    "figDb.append( glucifer.objects.Points(gSwarm,materialVariable))\n",
    "\n",
    "figDb.append( glucifer.objects.Points(gSwarm,viscosityMapFn, logScale=True, valueRange =[1e-3,1e5]))\n",
    "figDb.append( glucifer.objects.Surface(mesh, strainRate_2ndInvariant, logScale=True))\n",
    "figDb.append( glucifer.objects.Surface(mesh, temperatureField))\n",
    "#figDb.show()"
   ]
  },
  {
   "cell_type": "code",
   "execution_count": null,
   "metadata": {
    "collapsed": false
   },
   "outputs": [],
   "source": [
    "##############\n",
    "#Create a numpy array at the surface to get surface information on (using parallel-friendly evaluate_global)\n",
    "##############\n",
    "\n",
    "surface_xs = np.linspace(mesh.minCoord[0], mesh.maxCoord[0], mesh.elementRes[0] + 1)\n",
    "surface_nodes = np.array(zip(surface_xs, np.ones(len(surface_xs)*mesh.maxCoord[1]))) #For evaluation surface velocity\n",
    "normgradV = velocityField.fn_gradient[0]/fn.math.sqrt(velocityField[0]*velocityField[0])\n",
    "\n",
    "tempMM = fn.view.min_max(temperatureField)\n",
    "dummy = tempMM.evaluate(mesh)\n",
    "\n"
   ]
  },
  {
   "cell_type": "markdown",
   "metadata": {},
   "source": [
    "**Miscellania**"
   ]
  },
  {
   "cell_type": "code",
   "execution_count": null,
   "metadata": {
    "collapsed": false
   },
   "outputs": [],
   "source": [
    "##############\n",
    "#These functions handle checkpointing\n",
    "##############\n",
    "\n",
    "\n",
    "def checkpoint1(step, checkpointPath,filename, filewrites):\n",
    "    path = checkpointPath + str(step) \n",
    "    os.mkdir(path)\n",
    "    ##Write and save the file, if not already a writing step\n",
    "    if not step % filewrites == 0:\n",
    "        filename.write((17*'%-15s ' + '\\n') % (realtime, Viscdis, float(nu0), float(nu1), Avg_temp,\n",
    "                                              Tempmantle,TMAX,\n",
    "                                              Rms,Rms_surf,Max_vx_surf,Gravwork, etamax, etamin, \n",
    "                                              Area_mantle, Viscmantle,  Viscdismantle,Plateness ))\n",
    "    filename.close()\n",
    "    shutil.copyfile(os.path.join(outputPath, outputFile), os.path.join(path, outputFile))\n",
    "\n",
    "\n",
    "def checkpoint2(step, checkpointPath, swarm, filename, varlist = [materialVariable], varnames = ['materialVariable']):\n",
    "    path = checkpointPath + str(step) \n",
    "    velfile = \"velocityField\" + \".hdf5\"\n",
    "    tempfile = \"temperatureField\" + \".hdf5\"\n",
    "    pressfile = \"pressureField\" + \".hdf5\"\n",
    "    velocityField.save(os.path.join(path, velfile))\n",
    "    temperatureField.save(os.path.join(path, tempfile))\n",
    "    pressureField.save(os.path.join(path, pressfile))\n",
    "    swarm.save(os.path.join(path, \"swarm.h5\") ) \n",
    "    for ix in range(len(varlist)):\n",
    "        varb = varlist[ix]\n",
    "        varb.save(os.path.join(path,varnames[ix] + \".h5\"))\n",
    "    "
   ]
  },
  {
   "cell_type": "code",
   "execution_count": null,
   "metadata": {
    "collapsed": true
   },
   "outputs": [],
   "source": [
    "##############\n",
    "#This will allow us to evaluate viscous shear heating, and add the result directly to the temperature field\n",
    "##############\n",
    "\n",
    "viscDisMapFn = 2.*viscosityMapFn*sinner\n",
    "viscDisFnmesh = uw.mesh.MeshVariable(mesh,nodeDofCount=1)\n",
    "viscDisProj = uw.utils.MeshVariable_Projection( viscDisFnmesh, viscDisMapFn)\n",
    "viscDisProj.solve()"
   ]
  },
  {
   "cell_type": "code",
   "execution_count": null,
   "metadata": {
    "collapsed": false
   },
   "outputs": [],
   "source": [
    "# initialise timer for computation\n",
    "start = time.clock()\n",
    "# setup summary output file (name above)\n",
    "if checkpointLoad:\n",
    "    if uw.rank() == 0:\n",
    "        shutil.copyfile(os.path.join(checkpointLoadDir, outputFile), outputPath+outputFile)\n",
    "    comm.Barrier()\n",
    "    f_o = open(os.path.join(outputPath, outputFile), 'a')\n",
    "    prevdata = np.genfromtxt(os.path.join(outputPath, outputFile), skip_header=0, skip_footer=0)\n",
    "    if len(prevdata.shape) == 1: #this is in case there is only one line in previous file\n",
    "        realtime = prevdata[0]\n",
    "    else:\n",
    "        realtime = prevdata[prevdata.shape[0]-1, 0]\n",
    "    step = int(checkpointLoadDir.split('/')[-1])\n",
    "    timevals = [0.]\n",
    "else:\n",
    "    f_o = open(outputPath+outputFile, 'w')\n",
    "    realtime = 0.\n",
    "    step = 0\n",
    "    timevals = [0.]"
   ]
  },
  {
   "cell_type": "markdown",
   "metadata": {},
   "source": [
    "Main simulation loop\n",
    "-----\n"
   ]
  },
  {
   "cell_type": "code",
   "execution_count": null,
   "metadata": {
    "collapsed": true
   },
   "outputs": [],
   "source": [
    "#while step < 21:\n",
    "while realtime < 1.:\n",
    "\n",
    "    # solve Stokes and advection systems\n",
    "    solver.solve(nonLinearIterate=True)\n",
    "    dt = advDiff.get_max_dt()\n",
    "    if step == 0:\n",
    "        dt = 0.\n",
    "    advDiff.integrate(dt)\n",
    "    passiveadvector.integrate(dt)\n",
    "    \n",
    "    #Add the adiabatic adjustment:\n",
    "    temperatureField.data[:] += dt*abHeatFn.evaluate(mesh)\n",
    "    \n",
    "    #Add the viscous heating term\n",
    "     #Need to fix this (forgot 'dissipation number')\n",
    "    #viscDisProj = uw.utils.MeshVariable_Projection( viscDisFnmesh, viscDisMapFn)\n",
    "    #viscDisProj.solve()\n",
    "    #temperatureField.data[:] += dt*viscDisFnmesh.evaluate(mesh)\n",
    "    \n",
    "\n",
    "    # Increment\n",
    "    realtime += dt\n",
    "    step += 1\n",
    "    timevals.append(realtime)\n",
    "    ################\n",
    "    #Update temperature field in the air region\n",
    "    #Do this better...\n",
    "    ################\n",
    "    if (step % sticky_air_temp == 0):\n",
    "        for index, coord in enumerate(mesh.data):\n",
    "            if coord[1] >= 1.:\n",
    "                temperatureField.data[index] = ndp.TSP\n",
    "\n",
    "    # Calculate the Metrics, only on 1 of the processors:\n",
    "    ################\n",
    "    if (step % metric_output == 0):\n",
    "        ###############\n",
    "        #Swarm - based Metrics\n",
    "        ###############\n",
    "        # Calculate the RMS velocity and Nusselt number.\n",
    "        # Calculate the Metrics, only on 1 of the processors:\n",
    "        mantlerestrictFn = temprestrictionFn() #rebuild the mantle restriction function (but these should be dynamic?)\n",
    "        srrestrictFn = platenessFn(val = 0.1) #rebuild the plateness restriction function\n",
    "        dummy = tempMM.evaluate(mesh) #Re-evaluate any fn.view.min_max guys\n",
    "        #Rebuild these integrals (a test because metrics changes after a restart)\n",
    "        mantleArea   = uw.utils.Integral( mantlerestrictFn, mesh )\n",
    "        mantleTemp = uw.utils.Integral( temperatureField*mantlerestrictFn, mesh )\n",
    "        mantleVisc = uw.utils.Integral( mantleviscosityFn*mantlerestrictFn, mesh )\n",
    "        mantleVd = uw.utils.Integral( (4.*viscosityMapFn*sinner*mantlerestrictFn), mesh ) #these now work on MappingFunctions\n",
    "        ###\n",
    "        Avg_temp = avg_temp()\n",
    "        Rms = rms()\n",
    "        Rms_surf = rms_surf()\n",
    "        Max_vx_surf = max_vx_surf(velocityField, mesh)\n",
    "        Gravwork = basic_int(dwint)\n",
    "        Viscdis = basic_int(vdint)\n",
    "        nu1, nu0 = nusseltTB(temperatureField, mesh) # return top then bottom\n",
    "        etamax, etamin = visc_extr(mantleviscosityFn)\n",
    "        Area_mantle = basic_int(mantleArea)\n",
    "        Viscmantle = basic_int(mantleVisc)\n",
    "        Tempmantle = basic_int(mantleTemp)\n",
    "        Viscdismantle = basic_int(mantleVd)\n",
    "        Plateness = basic_int(plateint)/basic_int(surfint)\n",
    "        TMAX = tempMM.max_global()\n",
    "        # output to summary text file\n",
    "        if uw.rank()==0:\n",
    "            f_o.write((17*'%-15s ' + '\\n') % (realtime, Viscdis, float(nu0), float(nu1), Avg_temp,\n",
    "                                              Tempmantle,TMAX,\n",
    "                                              Rms,Rms_surf,Max_vx_surf,Gravwork, etamax, etamin, \n",
    "                                              Area_mantle, Viscmantle,  Viscdismantle,Plateness ))\n",
    "    ################\n",
    "    #Also repopulate entire swarm periodically\n",
    "    ################\n",
    "    #if step % swarm_repop == 0:\n",
    "    population_control.repopulate()   \n",
    "    ################\n",
    "    #Checkpoint\n",
    "    ################\n",
    "    if step % checkpoint_every == 0:\n",
    "        if uw.rank() == 0:\n",
    "            checkpoint1(step, checkpointPath,f_o, metric_output)           \n",
    "        checkpoint2(step, checkpointPath, gSwarm, f_o, varlist = varlist, varnames = varnames)\n",
    "        f_o = open(os.path.join(outputPath, outputFile), 'a') #is this line supposed to be here?\n",
    "    ################\n",
    "    #Gldb output\n",
    "    ################ \n",
    "    if (step % gldbs_output == 0):\n",
    "        #Rebuild any necessary swarm variables\n",
    "        viscVariable.data[:] = viscosityMapFn.evaluate(gSwarm)\n",
    "        #Write gldbs\n",
    "        fnamedb = \"dbFig\" + \"_\" + str(ModIt) + \"_\" + str(step) + \".gldb\"\n",
    "        fullpath = os.path.join(outputPath + \"gldbs/\" + fnamedb)\n",
    "        #figDb.show()\n",
    "        figDb.save_database(fullpath)\n",
    "    ################\n",
    "    #Files output\n",
    "    ################ \n",
    "    if (step % files_output == 0):\n",
    "\n",
    "        vel_surface = velocityField.evaluate_global(surface_nodes)\n",
    "        norm_surface_sr = normgradV.evaluate_global(surface_nodes)\n",
    "        if uw.rank() == 0:\n",
    "            fnametemp = \"velsurface\" + \"_\" + str(ModIt) + \"_\" + str(step)\n",
    "            fullpath = os.path.join(outputPath + \"files/\" + fnametemp)\n",
    "            np.save(fullpath, vel_surface)\n",
    "            fnametemp = \"norm_surface_sr\" + \"_\" + str(ModIt) + \"_\" + str(step)\n",
    "            fullpath = os.path.join(outputPath + \"files/\" + fnametemp)\n",
    "            np.save(fullpath, norm_surface_sr)\n",
    "    ################\n",
    "    #Particle update\n",
    "    ###############    \n",
    "    #ageVariable.data[:] += dt #increment the ages (is this efficient?)\n",
    "    ageDT += dt\n",
    "    \n",
    "    if step % swarm_update == 0:\n",
    "        #Increment age stuff. \n",
    "        ageEval = fn.branching.conditional( ageConditions ).evaluate(gSwarm)\n",
    "        ageVariable.data[np.where(ageEval == 0)] = 0 #If below the critical depth, age is set to zero\n",
    "        ageVariable.data[np.where(ageEval != 0)] += ageDT #If age above critical depth, increment age\n",
    "        ageDT = 0. #reset the age incrementer\n",
    "        \n",
    "        #Apply any materialVariable changes\n",
    "        for i in range(2): #Need to go through twice first time through\n",
    "            materialVariable.data[:] = fn.branching.conditional(DG.condition_list).evaluate(gSwarm)\n",
    "\n",
    "    \n",
    "f_o.close()\n",
    "print 'step =',step"
   ]
  },
  {
   "cell_type": "code",
   "execution_count": 66,
   "metadata": {
    "collapsed": false
   },
   "outputs": [],
   "source": [
    "viscVariable = gSwarm.add_variable( dataType=\"float\", count=1 )\n",
    "viscVariable.data[:] = viscosityMapFn.evaluate(gSwarm)"
   ]
  },
  {
   "cell_type": "code",
   "execution_count": 67,
   "metadata": {
    "collapsed": false
   },
   "outputs": [
    {
     "data": {
      "text/html": [
       "<img src='data:image/png;base64,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'>"
      ],
      "text/plain": [
       "<IPython.core.display.HTML object>"
      ]
     },
     "metadata": {},
     "output_type": "display_data"
    },
    {
     "data": {
      "text/plain": [
       "'test.gldb'"
      ]
     },
     "execution_count": 67,
     "metadata": {},
     "output_type": "execute_result"
    }
   ],
   "source": [
    "fig= glucifer.Figure()\n",
    "#fig.append( glucifer.objects.Points(gSwarm,materialVariable))\n",
    "fig.append( glucifer.objects.Points(gSwarm, viscosityMapFn, logScale=True, valueRange =[1e-3,1e5]))\n",
    "#fig.append( glucifer.objects.Surface(mesh, strainRate_2ndInvariant, logScale=True, valueRange =[1e-3,1e5] ))\n",
    "fig.append( glucifer.objects.VectorArrows(mesh,velocityField, scaling=0.002))\n",
    "#fig.append( glucifer.objects.Surface(mesh,pressureField))\n",
    "#fig.append( glucifer.objects.Surface(mesh,raylieghFn))\n",
    "\n",
    "fig.show()\n",
    "fig.save_database('test.gldb')"
   ]
  },
  {
   "cell_type": "code",
   "execution_count": 355,
   "metadata": {
    "collapsed": false
   },
   "outputs": [],
   "source": [
    "#fig= glucifer.Figure()\n",
    "#fig.append( glucifer.objects.Points(gSwarm,materialVariable))\n",
    "#fig.append( glucifer.objects.Points(gSwarm, viscosityMapFn, logScale=True, valueRange =[1e-3,1e5]))\n",
    "#fig.append( glucifer.objects.Surface(mesh, finalviscosityFn, logScale=True, valueRange =[1e-3,1e5] ))\n",
    "#fig.append( glucifer.objects.VectorArrows(mesh,velocityField, scaling=0.002))\n",
    "#fig.append( glucifer.objects.Surface(mesh,pressureField))\n",
    "#fig.append( glucifer.objects.Surface(mesh,raylieghFn))\n",
    "\n",
    "#fig.show()\n",
    "#fig.save_database('test.gldb')\n",
    "\n"
   ]
  },
  {
   "cell_type": "code",
   "execution_count": 163,
   "metadata": {
    "collapsed": false
   },
   "outputs": [
    {
     "data": {
      "text/plain": [
       "656.61770155940656"
      ]
     },
     "execution_count": 163,
     "metadata": {},
     "output_type": "execute_result"
    }
   ],
   "source": [
    "velocityField.data[tWalls.data].max()"
   ]
  },
  {
   "cell_type": "code",
   "execution_count": 164,
   "metadata": {
    "collapsed": false
   },
   "outputs": [
    {
     "data": {
      "text/plain": [
       "1624.8329875910649"
      ]
     },
     "execution_count": 164,
     "metadata": {},
     "output_type": "execute_result"
    }
   ],
   "source": [
    "velocityField.data.max()"
   ]
  },
  {
   "cell_type": "code",
   "execution_count": 165,
   "metadata": {
    "collapsed": false
   },
   "outputs": [
    {
     "data": {
      "text/plain": [
       "120000.0"
      ]
     },
     "execution_count": 165,
     "metadata": {},
     "output_type": "execute_result"
    }
   ],
   "source": [
    "ndp.SR"
   ]
  },
  {
   "cell_type": "code",
   "execution_count": null,
   "metadata": {
    "collapsed": true
   },
   "outputs": [],
   "source": []
  }
 ],
 "metadata": {
  "kernelspec": {
   "display_name": "Python 2",
   "language": "python",
   "name": "python2"
  },
  "language_info": {
   "codemirror_mode": {
    "name": "ipython",
    "version": 2
   },
   "file_extension": ".py",
   "mimetype": "text/x-python",
   "name": "python",
   "nbconvert_exporter": "python",
   "pygments_lexer": "ipython2",
   "version": "2.7.9"
  },
  "widgets": {
   "state": {},
   "version": "1.1.2"
  }
 },
 "nbformat": 4,
 "nbformat_minor": 0
}
