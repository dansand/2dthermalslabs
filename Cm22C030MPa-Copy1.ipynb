{
 "cells": [
  {
   "cell_type": "code",
   "execution_count": 1,
   "metadata": {
    "collapsed": true
   },
   "outputs": [],
   "source": [
    "import underworld as uw\n",
    "import math\n",
    "from underworld import function as fn\n",
    "import glucifer\n",
    "import numpy as np\n",
    "import os\n",
    "import glucifer"
   ]
  },
  {
   "cell_type": "code",
   "execution_count": 2,
   "metadata": {
    "collapsed": true
   },
   "outputs": [],
   "source": [
    "\n",
    "xRes= 64\n",
    "yRes = 32\n",
    "dim  = 2\n",
    "boxLength = 3500.0\n",
    "boxHeight = 450.0\n",
    "minX=-2500.0\n",
    "maxX=1000.0\n",
    "minY=-400.0\n",
    "maxY=50.0\n",
    "\n",
    "#Density\n",
    "\n",
    "IbMantleDensity = 3.267e-12\n",
    "ViMantleDensity =  3.267e-12\n",
    "AfMantleDensity = 3.267e-12 #3300\n",
    "ViCrustDensity = 2.8313e-12\n",
    "ViLowCrustDensity =  3.09e-12  #vizcaya oceanic lower crust, 3120 (Carballo)\n",
    "EuMidCrustDensity = 2.8313e-12   #2860\n",
    "EuLowCrust1Density = 3.09e-12  #vizcaya oceanic lower crust, 3120 (Carballo)\n",
    "EuLowCrust2Density = 2.8709e-12 #cantabrian margin, 2900 lower crust en general (quizá deberia usar lo de Mesozoic sediments)\n",
    "AlbCrustDensity = 2.8709e-12 # alboran margin 2860\n",
    "IbLowCrustDensity = 2.92e-12  #Lower crust Iberia 2950 (Carballo), \n",
    "MidCrustDensity = 2.8313e-12   #Middle crust 2860\n",
    "UpCrustDensity = 2.7521e-12    #upper crust 2780\n",
    "basement2Density = 2.6432e-12 #central system 2670\n",
    "basement0Density= 2.5244e-12  # Mesozoic sediments 2550 (Pereiro)\n",
    "basement1Density = 2.769e-12 #Cenozoic sediments 2300\n",
    "IbUpCrustDensity= 2.7224e-12   # 2750 \n",
    "IbMidCrustDensity= 2.8709e-12   #Middle crust 2860\n",
    "airDensity = 9.9e-16  \n",
    "seaDensity = 9.9e-13 \n",
    "astenosphereDensity=3.2569e-12 #3290\n",
    "weakzoneDensity = 3.2173e-12 #3250\n",
    "#Viscosity\n",
    "airViscosity = 0.1 # 1e19\n",
    "waterViscosity=0.10 # 1e19\n",
    "IbCrustViscosity = 1000.0 # 1e23\n",
    "IbLowCrustViscosity = 10. # 1e21  este es el valor anterior\n",
    "AlbCrustViscosity = 1000.0\n",
    "AfCrustViscosity = 10000.0 #1e24\n",
    "AfLowCrustViscosity = 10000. #1e24\n",
    "ViCrustViscosity = 1000.0 \n",
    "ViLowCrustViscosity = 10. \n",
    "EuCrustViscosity = 1000.0 \n",
    "EuLowCrustViscosity= 1000. \n",
    "EuMantleViscosity =  50000.0 #5e24\n",
    "IbMantleViscosity = 5000.0 #5e23\n",
    "AfMantleViscosity = 80000.0 #8e24\n",
    "ViMantleViscosity = 5000.0 #5e23  #Cambiar el nombre a Eu\n",
    "astenosphereViscosity = 10.0 #1e21\n",
    "sedimentViscosity=  500. #5e22  este es el valor anterior\n",
    "weakzoneviscosity=70.0 #7e21\n",
    "\n",
    "#Scaling Factors to SI\n",
    "#Length in the model correspond to km \n",
    "km=1.\n",
    "g=9.81 \n",
    "density=1010152544552210.\n",
    "viscosity=1e20\n",
    "stress=density*g*1000.\n",
    "time=10.1015254455\n",
    "velocity=98.995\n",
    "pressure=(1/1.01e-19)"
   ]
  },
  {
   "cell_type": "code",
   "execution_count": null,
   "metadata": {
    "collapsed": false
   },
   "outputs": [],
   "source": []
  },
  {
   "cell_type": "code",
   "execution_count": 3,
   "metadata": {
    "collapsed": false
   },
   "outputs": [
    {
     "data": {
      "text/plain": [
       "0.39960380457173594"
      ]
     },
     "execution_count": 3,
     "metadata": {},
     "output_type": "execute_result"
    }
   ],
   "source": [
    "#cm / y\n",
    "1.28e-12*(1000./time)*(100.*365*24*3600)"
   ]
  },
  {
   "cell_type": "code",
   "execution_count": null,
   "metadata": {
    "collapsed": true
   },
   "outputs": [],
   "source": []
  },
  {
   "cell_type": "code",
   "execution_count": 4,
   "metadata": {
    "collapsed": true
   },
   "outputs": [],
   "source": [
    "mesh = uw.mesh.FeMesh_Cartesian( elementType = (\"Q1/dQ0\"),\n",
    "                                 elementRes  = (xRes, yRes), \n",
    "                                 minCoord    = (minX, minY), \n",
    "                                 maxCoord    = (maxX, maxY),\n",
    "                                 periodic    = [True, False] ) \n",
    "\n",
    "velocityField   = uw.mesh.MeshVariable( mesh=mesh,         nodeDofCount=dim )\n",
    "pressureField   = uw.mesh.MeshVariable( mesh=mesh.subMesh, nodeDofCount=1 )\n"
   ]
  },
  {
   "cell_type": "code",
   "execution_count": 5,
   "metadata": {
    "collapsed": false
   },
   "outputs": [],
   "source": [
    "\n",
    "swarm = uw.swarm.Swarm( mesh=mesh, particleEscape=True )\n",
    "materialVariable   = swarm.add_variable( dataType=\"int\", count=1 )\n",
    "swarmLayout = uw.swarm.layouts.GlobalSpaceFillerLayout( swarm=swarm, particlesPerCell=10 )\n",
    "swarm.populate_using_layout( layout=swarmLayout )\n",
    "\n"
   ]
  },
  {
   "cell_type": "code",
   "execution_count": 6,
   "metadata": {
    "collapsed": false
   },
   "outputs": [],
   "source": [
    "# initialise the 'materialVariable' data to represent two different materials. \n",
    "AirIndex          = 0\n",
    "IbUpperCrustIndex = 1\n",
    "IbLowerCrustIndex = 2\n",
    "IbMantleIndex     = 3\n",
    "AfUpperCrustIndex = 4\n",
    "AfLowerCrustIndex = 5\n",
    "AfMantleIndex     = 6\n",
    "CentralIndex      = 7\n",
    "CentralPartIndex  = 8\n",
    "astenosphereIndex = 9\n",
    "weakIndex         = 10\n",
    "EuUpperCrustIndex =11\n",
    "EuLowerCrustIndex =12\n",
    "EuMantleIndex= 13\n",
    "# Initial material layout \n",
    "astenosphereY   = -110.\n",
    "airY = 0.0\n",
    "\n",
    "weakShape        = np.array([(-1016.,0.),(-1000.,0.),(-1025.,-20.),(-1037.5,-30.),(-1137.5,-110.),(-1153.5,-110.)])\n",
    "weak2Shape       = np.array([(100.,0.),(116.0,0.),(253.5,-110.),(237.5,-110.)])\n",
    "AfUpCrShape      = np.array([(minX,0.),(-1016.,0.),(-1033.,-20.),(minX,-20.)])\n",
    "AfLwCrShape      = np.array([(minX,-20.),(-1041.,-20.),(-1053.5,-30.),(minX,-30.)])\n",
    "EuUpCrShape     = np.array ([(116.0,0.),(maxX,0.0),(maxX,-20.),(141.,-20.)])\n",
    "EuLowCrShape    = np.array ([(141.,-20.),(maxX,-20.),(maxX,-30.),(153.5,-30.)])\n",
    "CentralSystShape = np.array([(-500.0,0.0),(-300.0,0.0),(-400.0,-10.)])\n",
    "CentralPartShape = np.array([(-550.0,0.),(-500.,0.),(-400.,-10.),(-300.,0.),(-250.,0.),(-250.,-20.),(-550.,-20.)])\n",
    "IbUpNorthCrShape      = np.array([(-1000.,0.),(-550.,0.),(-550.,-20.),(-1025.,-20.)])\n",
    "IbUpSouthCrShape      = np.array([(-250.0,0.),(100.,0.),(125.,-20.),(-250.,-20.)])\n",
    "\n",
    "IbLwCr1Shape      = np.array([(-1025.,-20.),(125.,-20.),(137.5,-30.),(-1037.5,-30.)])\n",
    "\n",
    "IbMantleShape    = np.array([(-1037.5,-30.),(137.5,-30.),(237.5,-110.),(-1137.5,-110.)])\n",
    "AfMantleShape    = np.array([(minX+40.,-30.), (-1045.5,-30.),(-1145.5,-110.),(minX+40.,-110.0)])\n",
    "EuMantleShape    = np.array([(153.5,-30.),(maxX,-30.),(maxX,-110.),(253.5,-110.)])\n",
    "                          \n",
    "########\n",
    "\n",
    "AfUpCr           = fn.shape.Polygon( AfUpCrShape )\n",
    "AfLwCr           = fn.shape.Polygon( AfLwCrShape ) \n",
    "CentralSyst      = fn.shape.Polygon( CentralSystShape )\n",
    "IbUpNorthCr           = fn.shape.Polygon( IbUpNorthCrShape )\n",
    "IbUpSouthCr           = fn.shape.Polygon( IbUpSouthCrShape )\n",
    "IbUpCentralCr    = fn.shape.Polygon(CentralPartShape)\n",
    "IbLwCr           = fn.shape.Polygon( IbLwCr1Shape )\n",
    "Ibmantle         = fn.shape.Polygon(IbMantleShape)\n",
    "Afmantle         = fn.shape.Polygon(AfMantleShape)\n",
    "weak1             = fn.shape.Polygon(weakShape)\n",
    "weak2            = fn.shape.Polygon(weak2Shape)\n",
    "EuUpCr           =fn.shape.Polygon(EuUpCrShape)\n",
    "EuLwCr           =fn.shape.Polygon(EuLowCrShape)\n",
    "Eumantle         =fn.shape.Polygon(EuMantleShape)\n",
    "\n",
    "# initialise everying to be upper mantle material\n",
    "materialVariable.data[:] = astenosphereIndex\n",
    "\n",
    "# change matieral index if the particle is in the lower mantle or slab shape\n",
    "for index in range( len(swarm.particleCoordinates.data) ):\n",
    "    coord = swarm.particleCoordinates.data[index][:]\n",
    "    if coord[1] > airY:\n",
    "        materialVariable.data[index]     = AirIndex   \n",
    "    if  IbUpNorthCr.evaluate(tuple(coord)):\n",
    "          materialVariable.data[index]   = IbUpperCrustIndex \n",
    "    if  IbUpSouthCr.evaluate(tuple(coord)):\n",
    "          materialVariable.data[index]   = IbUpperCrustIndex     \n",
    "    if  IbUpCentralCr.evaluate(tuple(coord)):\n",
    "          materialVariable.data[index]   = CentralPartIndex     \n",
    "    if AfUpCr.evaluate(tuple(coord)):\n",
    "            materialVariable.data[index] = AfUpperCrustIndex \n",
    "    if AfLwCr.evaluate(tuple(coord)):\n",
    "            materialVariable.data[index] = AfLowerCrustIndex\n",
    "    if Eumantle .evaluate(tuple(coord)):\n",
    "            materialVariable.data[index] = EuMantleIndex\n",
    "    if IbLwCr.evaluate(tuple(coord)):\n",
    "            materialVariable.data[index] = IbLowerCrustIndex      \n",
    "    if Ibmantle.evaluate(tuple(coord)):\n",
    "            materialVariable.data[index] = IbMantleIndex\n",
    "    if Afmantle.evaluate(tuple(coord)):\n",
    "            materialVariable.data[index] = AfMantleIndex\n",
    "    if EuUpCr.evaluate(tuple(coord)):\n",
    "            materialVariable.data[index] = EuUpperCrustIndex\n",
    "    if EuLwCr.evaluate(tuple(coord)):\n",
    "            materialVariable.data[index] = EuLowerCrustIndex\n",
    "    if CentralSyst.evaluate(tuple(coord)):\n",
    "            materialVariable.data[index] = CentralIndex\n",
    "    if weak1.evaluate(tuple(coord)):\n",
    "            materialVariable.data[index] = weakIndex\n",
    "    elif weak2.evaluate(tuple(coord)):\n",
    "        materialVariable.data[index] = weakIndex"
   ]
  },
  {
   "cell_type": "code",
   "execution_count": 7,
   "metadata": {
    "collapsed": false
   },
   "outputs": [],
   "source": [
    "# The yeilding of the upper slab is dependent on the strain rate.\n",
    "strainRateFn = fn.tensor.symmetric( velocityField.fn_gradient )\n",
    "strainRate_2ndInvariant = fn.tensor.second_invariant( fn.tensor.symmetric( velocityField.fn_gradient ))\n",
    "cohesion = 3.03046e-12 # corresponds to 30.215MPa  \n",
    "\n",
    "\n",
    "VonMises = cohesion / 2.*(strainRate_2ndInvariant+1.0e-18)\n",
    "\n",
    "# friction_angle:\n",
    "\n",
    "alpha=3.03046e-14   # corresponds to 0.3 MPa/km ---> Ivone paper   \n",
    "\n",
    "# The upper slab viscosity is the minimum of the 'slabViscosity' or the 'vonMises' \n",
    "\n",
    "    \n",
    "# The upper slab viscosity is the minimum of the 'slabViscosity' or the 'vonMises' \n",
    "IbUpCrYieldvisc   = fn.exception.SafeMaths( fn.misc.min(VonMises, IbCrustViscosity) )\n",
    "IbLwCrYieldvisc = fn.exception.SafeMaths( fn.misc.min(VonMises, IbLowCrustViscosity) )\n",
    "CentralPartYield= fn.exception.SafeMaths(fn.misc.min(VonMises,IbCrustViscosity))\n",
    "AfUpCrYieldvisc   = fn.exception.SafeMaths( fn.misc.min(VonMises, AfCrustViscosity) )\n",
    "AfLwCrYieldvisc  = fn.exception.SafeMaths( fn.misc.min(VonMises, AfLowCrustViscosity) )\n",
    "AlbLwCrYieldvisc  = fn.exception.SafeMaths( fn.misc.min(VonMises, AlbCrustViscosity) )\n",
    "IbMantleYieldvisc = fn.exception.SafeMaths( fn.misc.min(VonMises, IbMantleViscosity) )\n",
    "AfMantleYieldvisc = fn.exception.SafeMaths( fn.misc.min(VonMises, AfMantleViscosity) )\n",
    "SedimentYieldvisc = fn.exception.SafeMaths( fn.misc.min(VonMises, sedimentViscosity) )\n",
    "CentralYieldvisc  = fn.exception.SafeMaths( fn.misc.min(VonMises,sedimentViscosity))\n",
    "EuUpCrYieldvisc    = fn.exception.SafeMaths(fn.misc.min(VonMises,EuCrustViscosity))\n",
    "EuLowrCrYieldvisc =  fn.exception.SafeMaths (fn.misc.min(VonMises,EuLowCrustViscosity))\n",
    "# Viscosity function for the materials \n",
    "viscosityMap = { \n",
    "                 IbMantleIndex       : IbMantleYieldvisc,\n",
    "                 AfMantleIndex       : AfMantleYieldvisc,\n",
    "                 EuMantleIndex       : EuMantleViscosity,\n",
    "                 astenosphereIndex   : astenosphereViscosity,\n",
    "                 AfUpperCrustIndex   : AfCrustViscosity,\n",
    "                 AfLowerCrustIndex   : AfLowCrustViscosity,\n",
    "                 CentralPartIndex    : CentralPartYield,\n",
    "                 IbUpperCrustIndex   : IbUpCrYieldvisc,\n",
    "                 IbLowerCrustIndex     : IbLwCrYieldvisc,\n",
    "                 EuUpperCrustIndex   : AfCrustViscosity,\n",
    "                 EuLowerCrustIndex   : AfLowCrustViscosity,\n",
    "                 AirIndex            : airViscosity,\n",
    "                 CentralIndex        : CentralYieldvisc,\n",
    "                 weakIndex           : weakzoneviscosity,\n",
    "                 }\n",
    "\n",
    "\n",
    "viscosityMapFn = fn.branching.map( fn_key = materialVariable, mapping = viscosityMap )"
   ]
  },
  {
   "cell_type": "code",
   "execution_count": 8,
   "metadata": {
    "collapsed": false
   },
   "outputs": [
    {
     "data": {
      "text/plain": [
       "(1.5152300000000001e-30, 10000.0, 3.03046e-12)"
      ]
     },
     "execution_count": 8,
     "metadata": {},
     "output_type": "execute_result"
    }
   ],
   "source": [
    "VonMises.evaluate(mesh).mean(), AfCrustViscosity, cohesion"
   ]
  },
  {
   "cell_type": "code",
   "execution_count": 9,
   "metadata": {
    "collapsed": true
   },
   "outputs": [],
   "source": [
    "from scipy.spatial import cKDTree as kdTree\n",
    "\n",
    "def nn_evaluation(fromSwarm, toSwarm, n=1, weighted=False):\n",
    "    \"\"\"\n",
    "    This function provides nearest neighbour information for uw swarms, \n",
    "    given the \"toSwarm\", this function returns the indices of the n nearest neighbours in \"fromSwarm\"\n",
    "    it also returns the inverse-distance if weighted=True. \n",
    "    \n",
    "    The function works in parallel.\n",
    "    \n",
    "    The arrays come out a bit differently when used in nearest neighbour form\n",
    "    (n = 1), or IDW: (n > 1). The examples belowe show how to fill out a swarm variable in each case. \n",
    "    \n",
    "    \n",
    "    Usage n == 1:\n",
    "    ------------\n",
    "    ix, weights = nn_evaluation(swarm, fault.swarm, n=1, weighted=False)\n",
    "    toSwarmVar.data[:][:,0] = np.average(fromSwarmVar[ix][:,0], weights=weights)\n",
    "    \n",
    "    Usage n > 1:\n",
    "    ------------\n",
    "    ix, weights = nn_evaluation(swarm, fault.swarm, n=2, weighted=False)\n",
    "    toSwarmVar.data[:][:,0] =  np.average(fromSwarmVar[ix][:,:,0], weights=weights, axis=1)\n",
    "    \n",
    "    \"\"\"\n",
    "    \n",
    "    \n",
    "    if len(toSwarm) > 0: #this is required for safety in parallel\n",
    "        \n",
    "        #this should avoid building the tree again when this function is called multiple times.\n",
    "        try:\n",
    "            tree = fromSwarm.tree\n",
    "            #print(1)\n",
    "        except:\n",
    "            #print(2)\n",
    "            fromSwarm.tree = kdTree(fromSwarm.particleCoordinates.data)\n",
    "            tree = fromSwarm.tree\n",
    "        d, ix = tree.query(toSwarm, n)\n",
    "        if n == 1:\n",
    "            weights = np.ones(toSwarm.shape[0])\n",
    "        elif not weighted:\n",
    "            weights = np.ones((toSwarm.shape[0], n))*(1./n)\n",
    "        else:\n",
    "            weights = (1./d[:])/(1./d[:]).sum(axis=1)[:,None]\n",
    "        return ix,  weights \n",
    "    else:\n",
    "        return [], []"
   ]
  },
  {
   "cell_type": "code",
   "execution_count": 10,
   "metadata": {
    "collapsed": true
   },
   "outputs": [],
   "source": [
    "densityMap = {  \n",
    "                IbMantleIndex      : IbMantleDensity,\n",
    "                AfMantleIndex      : AfMantleDensity,\n",
    "                EuMantleIndex      : AfMantleDensity,\n",
    "                astenosphereIndex  : weakzoneDensity,\n",
    "                IbUpperCrustIndex  : IbUpCrustDensity,\n",
    "                IbLowerCrustIndex  : IbLowCrustDensity,\n",
    "                AfUpperCrustIndex  : UpCrustDensity,\n",
    "                AfLowerCrustIndex  : EuLowCrust2Density,\n",
    "                EuUpperCrustIndex  : EuMidCrustDensity,\n",
    "                EuLowerCrustIndex  : EuMidCrustDensity,\n",
    "                CentralIndex       : basement2Density,\n",
    "                CentralPartIndex   : IbUpCrustDensity,\n",
    "                AirIndex           : airDensity,\n",
    "                weakIndex          : basement2Density,\n",
    "               \n",
    "               }\n",
    "densityFn = fn.branching.map( fn_key = materialVariable, mapping = densityMap )\n",
    "\n",
    "# Define our vertical unit vector using a python tuple\n",
    "z_hat = ( 0.0, 1.0 )\n",
    "\n",
    "# now create a buoyancy force vector\n",
    "buoyancyFn = -1.0 * densityFn * z_hat"
   ]
  },
  {
   "cell_type": "code",
   "execution_count": 11,
   "metadata": {
    "collapsed": false
   },
   "outputs": [],
   "source": [
    "\n",
    "# set initial conditions (and boundary values)\n",
    "velocityField.data[:] = [0.,0.]\n",
    "pressureField.data[:] = 0.\n",
    "\n"
   ]
  },
  {
   "cell_type": "code",
   "execution_count": 12,
   "metadata": {
    "collapsed": false
   },
   "outputs": [],
   "source": [
    "# send boundary condition information to underworld\n",
    "iWalls = mesh.specialSets[\"MinI_VertexSet\"] + mesh.specialSets[\"MaxI_VertexSet\"]\n",
    "jWalls = mesh.specialSets[\"MinJ_VertexSet\"] + mesh.specialSets[\"MaxJ_VertexSet\"]\n",
    "bottomWall = mesh.specialSets[\"MinJ_VertexSet\"]\n",
    "top    = mesh.specialSets[\"MaxJ_VertexSet\"]\n",
    "allWalls = iWalls+jWalls\n",
    "\n",
    "\n",
    "\n",
    "# In[36]:\n",
    "\n",
    "\n",
    "indentorSet = []   #empty set\n",
    "for index, coord in enumerate(mesh.data):\n",
    "    if coord[0] < -1600.0 and coord[0] > -1700.0 and coord[1]<=0. and coord[1]>-110.:\n",
    "        velocityField.data[index] = (1.28e-12, 0.) \n",
    "        indentorSet.append(index)   #build \"imposed\" set    \n",
    "    if  coord[0]< maxX and coord[0]> maxX-20.  and coord[1] <= 0. and coord[1]>= -200.:\n",
    "        velocityField.data[index] = (0., 0.) #\n",
    "        indentorSet.append(index)   #build \"imposed\" set\n",
    "    if  coord[0]>= minX and coord[0]< minX+20.  and coord[1] <= 0. and coord[1]>= -200.:\n",
    "        velocityField.data[index] = (0., 0.) #\n",
    "        indentorSet.append(index)   #build \"imposed\" set\n",
    "# create FeMesh_IndexSet structure required for the imposing dirichlet conditions\n",
    "indentorMeshSet = uw.mesh.FeMesh_IndexSet(mesh, topologicalIndex=0, size=mesh.nodesGlobal, fromObject=indentorSet )\n",
    "\n",
    "#topologicalIndex= 0: vertex   1: edge   2:face   3:volume\n",
    "\n",
    "# add the mesh index set to the original dirichlet conditions in ln[17]\n",
    "newVC = uw.conditions.DirichletCondition( variable = velocityField, indexSetsPerDof =(bottomWall+indentorMeshSet,jWalls+indentorMeshSet))"
   ]
  },
  {
   "cell_type": "code",
   "execution_count": 13,
   "metadata": {
    "collapsed": true
   },
   "outputs": [],
   "source": [
    "surfaceArea = uw.utils.Integral(fn=1.0,mesh=mesh, integrationType='surface', surfaceIndexSet=top)\n",
    "surfacePressureIntegral = uw.utils.Integral(fn=pressureField, mesh=mesh, integrationType='surface', surfaceIndexSet=top)\n",
    "\n",
    "(area,) = surfaceArea.evaluate()\n",
    "(p0,) = surfacePressureIntegral.evaluate() \n",
    "\n",
    "pressureField.data[:] -= p0 / area"
   ]
  },
  {
   "cell_type": "code",
   "execution_count": 14,
   "metadata": {
    "collapsed": true
   },
   "outputs": [],
   "source": [
    "# Initial linear slab viscosity setup\n",
    "stokesPIC1 = uw.systems.Stokes( velocityField = velocityField, \n",
    "                               pressureField = pressureField,\n",
    "                               voronoi_swarm = swarm, \n",
    "                               conditions    = [newVC,],\n",
    "                               #fn_viscosity   = viscosityMapFn,\n",
    "                               fn_viscosity   = 1000.,                              \n",
    "                               fn_bodyforce   = buoyancyFn )\n",
    "# Create solver & solve\n",
    "\n",
    "solver = uw.systems.Solver(stokesPIC1)\n",
    "\n",
    "solver.solve()"
   ]
  },
  {
   "cell_type": "code",
   "execution_count": 15,
   "metadata": {
    "collapsed": false
   },
   "outputs": [],
   "source": [
    "# Initial linear slab viscosity setup\n",
    "stokesPIC = uw.systems.Stokes( velocityField = velocityField, \n",
    "                               pressureField = pressureField,\n",
    "                               voronoi_swarm = swarm, \n",
    "                               conditions    = [newVC,],\n",
    "                               #fn_viscosity   = viscosityMapFn,\n",
    "                               fn_viscosity   = CentralPartYield,                              \n",
    "                               fn_bodyforce   = buoyancyFn )\n",
    "# Create solver & solve\n",
    "solver = uw.systems.Solver(stokesPIC)\n",
    "\n",
    "\n",
    "# use \"lu\" direct solve if running in serial\n",
    "if(uw.nProcs()==1):\n",
    "    solver.set_inner_method(\"lu\")\n",
    "\n"
   ]
  },
  {
   "cell_type": "code",
   "execution_count": 16,
   "metadata": {
    "collapsed": true
   },
   "outputs": [],
   "source": [
    "\n",
    "advector = uw.systems.SwarmAdvector( swarm=swarm, velocityField=velocityField, order=2 )\n"
   ]
  },
  {
   "cell_type": "code",
   "execution_count": 17,
   "metadata": {
    "collapsed": false
   },
   "outputs": [],
   "source": [
    "solver.solve(nonLinearIterate=True, nonLinearTolerance=0.01)"
   ]
  },
  {
   "cell_type": "code",
   "execution_count": 27,
   "metadata": {
    "collapsed": false
   },
   "outputs": [],
   "source": [
    "stressInv = 2.*strainRate_2ndInvariant*CentralPartYield"
   ]
  },
  {
   "cell_type": "code",
   "execution_count": 28,
   "metadata": {
    "collapsed": false
   },
   "outputs": [
    {
     "data": {
      "text/plain": [
       "1.0"
      ]
     },
     "execution_count": 28,
     "metadata": {},
     "output_type": "execute_result"
    }
   ],
   "source": [
    "normStressFn = (stressInv - cohesion)/cohesion\n",
    "l2Err = fn.math.sqrt(fn.math.dot(normStressFn, normStressFn))\n",
    "uw.utils.Integral( l2Err, mesh ).evaluate()[0]/uw.utils.Integral( 1., mesh ).evaluate()[0]"
   ]
  },
  {
   "cell_type": "code",
   "execution_count": 36,
   "metadata": {
    "collapsed": false
   },
   "outputs": [
    {
     "data": {
      "text/html": [
       "<img src='data:image/png;base64,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'>"
      ],
      "text/plain": [
       "<IPython.core.display.HTML object>"
      ]
     },
     "metadata": {},
     "output_type": "display_data"
    }
   ],
   "source": [
    "figDb = glucifer.Figure()\n",
    "figDb.append( glucifer.objects.Points(swarm, stressInv > cohesion, pointSize=4))\n",
    "#figDb.append( glucifer.objects.Points(swarm, strainRate_2ndInvariant, pointSize=4))\n",
    "#figDb.append( glucifer.objects.Points(swarm, materialVariable, pointSize=4))\n",
    "\n",
    "\n",
    "figDb.show()"
   ]
  },
  {
   "cell_type": "code",
   "execution_count": 21,
   "metadata": {
    "collapsed": false
   },
   "outputs": [],
   "source": [
    "#strainRate_2ndInvariant.evaluate(mesh).mean()"
   ]
  },
  {
   "cell_type": "code",
   "execution_count": 22,
   "metadata": {
    "collapsed": false
   },
   "outputs": [],
   "source": [
    "#VonMises = cohesion / (strainRate_2ndInvariant.evaluate(mesh).mean())\n",
    "#VonMises"
   ]
  },
  {
   "cell_type": "markdown",
   "metadata": {},
   "source": [
    "error is worse with full viscosityFn"
   ]
  },
  {
   "cell_type": "code",
   "execution_count": null,
   "metadata": {
    "collapsed": true
   },
   "outputs": [],
   "source": []
  }
 ],
 "metadata": {
  "kernelspec": {
   "display_name": "Python 2",
   "language": "python",
   "name": "python2"
  },
  "language_info": {
   "codemirror_mode": {
    "name": "ipython",
    "version": 2
   },
   "file_extension": ".py",
   "mimetype": "text/x-python",
   "name": "python",
   "nbconvert_exporter": "python",
   "pygments_lexer": "ipython2",
   "version": "2.7.9"
  }
 },
 "nbformat": 4,
 "nbformat_minor": 1
}
