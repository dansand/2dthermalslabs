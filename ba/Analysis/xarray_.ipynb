{
 "cells": [
  {
   "cell_type": "markdown",
   "metadata": {},
   "source": [
    "## To do\n",
    "\n",
    "Want to be able to pint this at a named directory which has the data files for a paramter sweep, as well as paramter dictionries, it should return the data in xarray format, as well as set of unique paramter values that define each model.\n",
    "\n",
    "Also create a dimensionlized version of the data array. "
   ]
  },
  {
   "cell_type": "code",
   "execution_count": 138,
   "metadata": {
    "collapsed": false
   },
   "outputs": [
    {
     "name": "stdout",
     "output_type": "stream",
     "text": [
      "Populating the interactive namespace from numpy and matplotlib\n"
     ]
    },
    {
     "name": "stderr",
     "output_type": "stream",
     "text": [
      "WARNING: pylab import has clobbered these variables: ['f']\n",
      "`%matplotlib` prevents importing * from pylab and numpy\n"
     ]
    }
   ],
   "source": [
    "import numpy as np\n",
    "import glob2\n",
    "import pandas as pd\n",
    "import xarray as xr\n",
    "\n",
    "from types import ModuleType\n",
    "from natsort import natsort as ns\n",
    "if isinstance(ns, ModuleType):\n",
    "    natsort = ns.natsorted\n",
    "else:\n",
    "    nasort = ns\n",
    "    \n",
    "%pylab inline"
   ]
  },
  {
   "cell_type": "code",
   "execution_count": 5,
   "metadata": {
    "collapsed": true
   },
   "outputs": [],
   "source": [
    "#xarray\n",
    "#data = xr.DataArray(np.random.randn(2, 3), coords={'x': ['a', 'b']}, dims=('x', 'y'))\n",
    "\n"
   ]
  },
  {
   "cell_type": "code",
   "execution_count": 24,
   "metadata": {
    "collapsed": false
   },
   "outputs": [
    {
     "data": {
      "text/plain": [
       "54"
      ]
     },
     "execution_count": 24,
     "metadata": {},
     "output_type": "execute_result"
    }
   ],
   "source": [
    "#rdir = '/workspace'\n",
    "rdir = '../'\n",
    "dat_files = natsort(glob2.glob(rdir + '/results/C/**/*.dat'))\n",
    "\n",
    "\n",
    "len(dat_files)\n"
   ]
  },
  {
   "cell_type": "code",
   "execution_count": 39,
   "metadata": {
    "collapsed": true
   },
   "outputs": [],
   "source": [
    "columns = ['areaintRock', 'tempintRock', 'rmsintRock', 'dwintRock', 'vdintRock', \n",
    "            'areaintLith', 'tempintLith','rmsintLith', 'dwintLith', 'vdintLith',\n",
    "            'areaintLower', 'tempintLower', 'rmsintLower', 'dwintLower', 'vdintLower', \n",
    "            'areaintHinge180', 'vdintHinge180', 'areaintHinge60', 'vdintHinge60', \n",
    "            'areaintInterface', 'vdintInterface', 'vdintInterface0',\n",
    "            'rmsSurf', 'nuTop', 'nuBottom', 'plateness', 'subzone',\n",
    "            'lRidge', 'rRidge', 'realtime']"
   ]
  },
  {
   "cell_type": "markdown",
   "metadata": {},
   "source": [
    "## Parse files to pandas dataframes"
   ]
  },
  {
   "cell_type": "code",
   "execution_count": 40,
   "metadata": {
    "collapsed": false
   },
   "outputs": [
    {
     "name": "stderr",
     "output_type": "stream",
     "text": [
      "/usr/local/lib/python2.7/dist-packages/ipykernel/__main__.py:8: ParserWarning: Falling back to the 'python' engine because the 'c' engine does not support regex separators (separators > 1 char and different from '\\s+' are interpreted as regex); you can avoid this warning by specifying engine='python'.\n"
     ]
    }
   ],
   "source": [
    "data = []\n",
    "gooddata = []\n",
    "\n",
    "\n",
    "for i in range(len(dat_files)):\n",
    "    \n",
    "    try:\n",
    "        df = pd.read_csv(dat_files[i], sep=\"\\s*\", header=None,  index_col=False)\n",
    "        df.columns = columns\n",
    "        gooddata.append(str(i))\n",
    "        data.append(df)\n",
    "        #print(i)\n",
    "    except:\n",
    "        pass\n"
   ]
  },
  {
   "cell_type": "code",
   "execution_count": 92,
   "metadata": {
    "collapsed": false
   },
   "outputs": [
    {
     "data": {
      "text/plain": [
       "(54, 54)"
      ]
     },
     "execution_count": 92,
     "metadata": {},
     "output_type": "execute_result"
    }
   ],
   "source": [
    "len(data), len(gooddata)"
   ]
  },
  {
   "cell_type": "code",
   "execution_count": 41,
   "metadata": {
    "collapsed": false
   },
   "outputs": [],
   "source": [
    "dictionary = dict(zip(gooddata, data))\n",
    "panel = pd.Panel(dictionary)"
   ]
  },
  {
   "cell_type": "markdown",
   "metadata": {},
   "source": [
    "## Transform to Xarray"
   ]
  },
  {
   "cell_type": "code",
   "execution_count": 97,
   "metadata": {
    "collapsed": false
   },
   "outputs": [],
   "source": [
    "xa = xr.DataArray(panel,dims=('model', 'step', 'metric'), coords={'model': gooddata, 'metric':columns})"
   ]
  },
  {
   "cell_type": "code",
   "execution_count": 136,
   "metadata": {
    "collapsed": false
   },
   "outputs": [],
   "source": [
    "#xa.loc['0', :, 'tempintRock'][0:-1]"
   ]
  },
  {
   "cell_type": "code",
   "execution_count": null,
   "metadata": {
    "collapsed": false
   },
   "outputs": [],
   "source": []
  },
  {
   "cell_type": "code",
   "execution_count": 137,
   "metadata": {
    "collapsed": false
   },
   "outputs": [
    {
     "data": {
      "text/plain": [
       "[<matplotlib.lines.Line2D at 0x7f972a6d4490>]"
      ]
     },
     "execution_count": 137,
     "metadata": {},
     "output_type": "execute_result"
    },
    {
     "data": {
      "image/png": "[encoded data removed]",
      "text/plain": [
       "<matplotlib.figure.Figure at 0x7f972a897290>"
      ]
     },
     "metadata": {},
     "output_type": "display_data"
    }
   ],
   "source": [
    "plt.plot(xa.loc['0', :, 'nuTop'][0:-1])"
   ]
  },
  {
   "cell_type": "code",
   "execution_count": 90,
   "metadata": {
    "collapsed": false
   },
   "outputs": [
    {
     "data": {
      "text/plain": [
       "['rmsintRock', 'rmsintLith', 'rmsintLower', 'rmsSurf']"
      ]
     },
     "execution_count": 90,
     "metadata": {},
     "output_type": "execute_result"
    }
   ],
   "source": [
    "list(xa.coords['metric'].data)\n",
    "matching = [s for s in list(xa.coords['metric'].data) if \"rms\" in s]\n",
    "matching"
   ]
  },
  {
   "cell_type": "markdown",
   "metadata": {},
   "source": [
    "## Parse parameter Dictionaries for set of unique parameters"
   ]
  },
  {
   "cell_type": "code",
   "execution_count": 128,
   "metadata": {
    "collapsed": true
   },
   "outputs": [],
   "source": [
    "dict_files = natsort(glob2.glob(rdir + '/results/C/**/200/dp.pkl'))\n",
    "import pickle\n",
    "dicts= []\n",
    "for df in dict_files:\n",
    "    with open(df,'rb') as f:\n",
    "        dicts.append(pickle.load(f))\n",
    "        \n",
    "dict_sets = [set(d.iteritems()) for d in dicts]\n",
    "diff_keys = [i[0] for i in set.difference(dict_sets[0], set.intersection(*map(set,dict_sets)))]\n",
    "\n",
    "clean_dicts = []\n",
    "for adict in dicts:\n",
    "    red_dict= dict((k,adict[k]) for k in diff_keys if k in adict)\n",
    "    clean_dicts.append(red_dict)\n",
    "    \n",
    "    \n",
    "params = pd.DataFrame(clean_dicts)\n",
    "#newdf = newdf.join(params)"
   ]
  },
  {
   "cell_type": "code",
   "execution_count": 132,
   "metadata": {
    "collapsed": false
   },
   "outputs": [
    {
     "data": {
      "text/plain": [
       "Index([u'CVR', u'Edf', u'eta0', u'eta_max', u'fcm'], dtype='object')"
      ]
     },
     "execution_count": 132,
     "metadata": {},
     "output_type": "execute_result"
    }
   ],
   "source": [
    "params.columns"
   ]
  },
  {
   "cell_type": "code",
   "execution_count": 133,
   "metadata": {
    "collapsed": true
   },
   "outputs": [],
   "source": [
    "del params['CVR']"
   ]
  },
  {
   "cell_type": "code",
   "execution_count": 134,
   "metadata": {
    "collapsed": false
   },
   "outputs": [
    {
     "data": {
      "text/html": [
       "<div>\n",
       "<table border=\"1\" class=\"dataframe\">\n",
       "  <thead>\n",
       "    <tr style=\"text-align: right;\">\n",
       "      <th></th>\n",
       "      <th>Edf</th>\n",
       "      <th>eta0</th>\n",
       "      <th>eta_max</th>\n",
       "      <th>fcm</th>\n",
       "    </tr>\n",
       "  </thead>\n",
       "  <tbody>\n",
       "    <tr>\n",
       "      <th>0</th>\n",
       "      <td>63000.0</td>\n",
       "      <td>6.250000e+19</td>\n",
       "      <td>1.000000e+23</td>\n",
       "      <td>0.03</td>\n",
       "    </tr>\n",
       "    <tr>\n",
       "      <th>1</th>\n",
       "      <td>63000.0</td>\n",
       "      <td>6.250000e+19</td>\n",
       "      <td>1.000000e+24</td>\n",
       "      <td>0.03</td>\n",
       "    </tr>\n",
       "    <tr>\n",
       "      <th>2</th>\n",
       "      <td>63000.0</td>\n",
       "      <td>6.250000e+19</td>\n",
       "      <td>1.000000e+25</td>\n",
       "      <td>0.03</td>\n",
       "    </tr>\n",
       "    <tr>\n",
       "      <th>3</th>\n",
       "      <td>63000.0</td>\n",
       "      <td>6.250000e+19</td>\n",
       "      <td>1.000000e+23</td>\n",
       "      <td>0.06</td>\n",
       "    </tr>\n",
       "    <tr>\n",
       "      <th>4</th>\n",
       "      <td>63000.0</td>\n",
       "      <td>6.250000e+19</td>\n",
       "      <td>1.000000e+24</td>\n",
       "      <td>0.06</td>\n",
       "    </tr>\n",
       "    <tr>\n",
       "      <th>5</th>\n",
       "      <td>63000.0</td>\n",
       "      <td>6.250000e+19</td>\n",
       "      <td>1.000000e+25</td>\n",
       "      <td>0.06</td>\n",
       "    </tr>\n",
       "    <tr>\n",
       "      <th>6</th>\n",
       "      <td>63000.0</td>\n",
       "      <td>6.250000e+19</td>\n",
       "      <td>1.000000e+23</td>\n",
       "      <td>0.09</td>\n",
       "    </tr>\n",
       "    <tr>\n",
       "      <th>7</th>\n",
       "      <td>63000.0</td>\n",
       "      <td>6.250000e+19</td>\n",
       "      <td>1.000000e+24</td>\n",
       "      <td>0.09</td>\n",
       "    </tr>\n",
       "    <tr>\n",
       "      <th>8</th>\n",
       "      <td>63000.0</td>\n",
       "      <td>6.250000e+19</td>\n",
       "      <td>1.000000e+25</td>\n",
       "      <td>0.09</td>\n",
       "    </tr>\n",
       "    <tr>\n",
       "      <th>9</th>\n",
       "      <td>63000.0</td>\n",
       "      <td>1.250000e+20</td>\n",
       "      <td>1.000000e+23</td>\n",
       "      <td>0.03</td>\n",
       "    </tr>\n",
       "    <tr>\n",
       "      <th>10</th>\n",
       "      <td>63000.0</td>\n",
       "      <td>1.250000e+20</td>\n",
       "      <td>1.000000e+24</td>\n",
       "      <td>0.03</td>\n",
       "    </tr>\n",
       "    <tr>\n",
       "      <th>11</th>\n",
       "      <td>63000.0</td>\n",
       "      <td>1.250000e+20</td>\n",
       "      <td>1.000000e+25</td>\n",
       "      <td>0.03</td>\n",
       "    </tr>\n",
       "    <tr>\n",
       "      <th>12</th>\n",
       "      <td>63000.0</td>\n",
       "      <td>1.250000e+20</td>\n",
       "      <td>1.000000e+23</td>\n",
       "      <td>0.06</td>\n",
       "    </tr>\n",
       "    <tr>\n",
       "      <th>13</th>\n",
       "      <td>63000.0</td>\n",
       "      <td>1.250000e+20</td>\n",
       "      <td>1.000000e+24</td>\n",
       "      <td>0.06</td>\n",
       "    </tr>\n",
       "    <tr>\n",
       "      <th>14</th>\n",
       "      <td>63000.0</td>\n",
       "      <td>1.250000e+20</td>\n",
       "      <td>1.000000e+25</td>\n",
       "      <td>0.06</td>\n",
       "    </tr>\n",
       "    <tr>\n",
       "      <th>15</th>\n",
       "      <td>63000.0</td>\n",
       "      <td>1.250000e+20</td>\n",
       "      <td>1.000000e+23</td>\n",
       "      <td>0.09</td>\n",
       "    </tr>\n",
       "    <tr>\n",
       "      <th>16</th>\n",
       "      <td>63000.0</td>\n",
       "      <td>1.250000e+20</td>\n",
       "      <td>1.000000e+24</td>\n",
       "      <td>0.09</td>\n",
       "    </tr>\n",
       "    <tr>\n",
       "      <th>17</th>\n",
       "      <td>63000.0</td>\n",
       "      <td>1.250000e+20</td>\n",
       "      <td>1.000000e+25</td>\n",
       "      <td>0.09</td>\n",
       "    </tr>\n",
       "    <tr>\n",
       "      <th>18</th>\n",
       "      <td>126000.0</td>\n",
       "      <td>6.250000e+19</td>\n",
       "      <td>1.000000e+23</td>\n",
       "      <td>0.03</td>\n",
       "    </tr>\n",
       "    <tr>\n",
       "      <th>19</th>\n",
       "      <td>126000.0</td>\n",
       "      <td>6.250000e+19</td>\n",
       "      <td>1.000000e+24</td>\n",
       "      <td>0.03</td>\n",
       "    </tr>\n",
       "    <tr>\n",
       "      <th>20</th>\n",
       "      <td>126000.0</td>\n",
       "      <td>6.250000e+19</td>\n",
       "      <td>1.000000e+25</td>\n",
       "      <td>0.03</td>\n",
       "    </tr>\n",
       "    <tr>\n",
       "      <th>21</th>\n",
       "      <td>126000.0</td>\n",
       "      <td>6.250000e+19</td>\n",
       "      <td>1.000000e+23</td>\n",
       "      <td>0.06</td>\n",
       "    </tr>\n",
       "    <tr>\n",
       "      <th>22</th>\n",
       "      <td>126000.0</td>\n",
       "      <td>6.250000e+19</td>\n",
       "      <td>1.000000e+24</td>\n",
       "      <td>0.06</td>\n",
       "    </tr>\n",
       "    <tr>\n",
       "      <th>23</th>\n",
       "      <td>126000.0</td>\n",
       "      <td>6.250000e+19</td>\n",
       "      <td>1.000000e+25</td>\n",
       "      <td>0.06</td>\n",
       "    </tr>\n",
       "    <tr>\n",
       "      <th>24</th>\n",
       "      <td>126000.0</td>\n",
       "      <td>6.250000e+19</td>\n",
       "      <td>1.000000e+23</td>\n",
       "      <td>0.09</td>\n",
       "    </tr>\n",
       "    <tr>\n",
       "      <th>25</th>\n",
       "      <td>126000.0</td>\n",
       "      <td>6.250000e+19</td>\n",
       "      <td>1.000000e+24</td>\n",
       "      <td>0.09</td>\n",
       "    </tr>\n",
       "    <tr>\n",
       "      <th>26</th>\n",
       "      <td>126000.0</td>\n",
       "      <td>6.250000e+19</td>\n",
       "      <td>1.000000e+25</td>\n",
       "      <td>0.09</td>\n",
       "    </tr>\n",
       "    <tr>\n",
       "      <th>27</th>\n",
       "      <td>126000.0</td>\n",
       "      <td>1.250000e+20</td>\n",
       "      <td>1.000000e+23</td>\n",
       "      <td>0.03</td>\n",
       "    </tr>\n",
       "    <tr>\n",
       "      <th>28</th>\n",
       "      <td>126000.0</td>\n",
       "      <td>1.250000e+20</td>\n",
       "      <td>1.000000e+24</td>\n",
       "      <td>0.03</td>\n",
       "    </tr>\n",
       "    <tr>\n",
       "      <th>29</th>\n",
       "      <td>126000.0</td>\n",
       "      <td>1.250000e+20</td>\n",
       "      <td>1.000000e+25</td>\n",
       "      <td>0.03</td>\n",
       "    </tr>\n",
       "    <tr>\n",
       "      <th>30</th>\n",
       "      <td>126000.0</td>\n",
       "      <td>1.250000e+20</td>\n",
       "      <td>1.000000e+23</td>\n",
       "      <td>0.06</td>\n",
       "    </tr>\n",
       "    <tr>\n",
       "      <th>31</th>\n",
       "      <td>126000.0</td>\n",
       "      <td>1.250000e+20</td>\n",
       "      <td>1.000000e+24</td>\n",
       "      <td>0.06</td>\n",
       "    </tr>\n",
       "    <tr>\n",
       "      <th>32</th>\n",
       "      <td>126000.0</td>\n",
       "      <td>1.250000e+20</td>\n",
       "      <td>1.000000e+25</td>\n",
       "      <td>0.06</td>\n",
       "    </tr>\n",
       "    <tr>\n",
       "      <th>33</th>\n",
       "      <td>126000.0</td>\n",
       "      <td>1.250000e+20</td>\n",
       "      <td>1.000000e+23</td>\n",
       "      <td>0.09</td>\n",
       "    </tr>\n",
       "    <tr>\n",
       "      <th>34</th>\n",
       "      <td>126000.0</td>\n",
       "      <td>1.250000e+20</td>\n",
       "      <td>1.000000e+24</td>\n",
       "      <td>0.09</td>\n",
       "    </tr>\n",
       "    <tr>\n",
       "      <th>35</th>\n",
       "      <td>126000.0</td>\n",
       "      <td>1.250000e+20</td>\n",
       "      <td>1.000000e+25</td>\n",
       "      <td>0.09</td>\n",
       "    </tr>\n",
       "    <tr>\n",
       "      <th>36</th>\n",
       "      <td>189000.0</td>\n",
       "      <td>6.250000e+19</td>\n",
       "      <td>1.000000e+23</td>\n",
       "      <td>0.03</td>\n",
       "    </tr>\n",
       "    <tr>\n",
       "      <th>37</th>\n",
       "      <td>189000.0</td>\n",
       "      <td>6.250000e+19</td>\n",
       "      <td>1.000000e+24</td>\n",
       "      <td>0.03</td>\n",
       "    </tr>\n",
       "    <tr>\n",
       "      <th>38</th>\n",
       "      <td>189000.0</td>\n",
       "      <td>6.250000e+19</td>\n",
       "      <td>1.000000e+25</td>\n",
       "      <td>0.03</td>\n",
       "    </tr>\n",
       "    <tr>\n",
       "      <th>39</th>\n",
       "      <td>189000.0</td>\n",
       "      <td>6.250000e+19</td>\n",
       "      <td>1.000000e+23</td>\n",
       "      <td>0.06</td>\n",
       "    </tr>\n",
       "    <tr>\n",
       "      <th>40</th>\n",
       "      <td>189000.0</td>\n",
       "      <td>6.250000e+19</td>\n",
       "      <td>1.000000e+24</td>\n",
       "      <td>0.06</td>\n",
       "    </tr>\n",
       "    <tr>\n",
       "      <th>41</th>\n",
       "      <td>189000.0</td>\n",
       "      <td>6.250000e+19</td>\n",
       "      <td>1.000000e+25</td>\n",
       "      <td>0.06</td>\n",
       "    </tr>\n",
       "    <tr>\n",
       "      <th>42</th>\n",
       "      <td>189000.0</td>\n",
       "      <td>6.250000e+19</td>\n",
       "      <td>1.000000e+23</td>\n",
       "      <td>0.09</td>\n",
       "    </tr>\n",
       "    <tr>\n",
       "      <th>43</th>\n",
       "      <td>189000.0</td>\n",
       "      <td>6.250000e+19</td>\n",
       "      <td>1.000000e+24</td>\n",
       "      <td>0.09</td>\n",
       "    </tr>\n",
       "    <tr>\n",
       "      <th>44</th>\n",
       "      <td>189000.0</td>\n",
       "      <td>6.250000e+19</td>\n",
       "      <td>1.000000e+25</td>\n",
       "      <td>0.09</td>\n",
       "    </tr>\n",
       "    <tr>\n",
       "      <th>45</th>\n",
       "      <td>189000.0</td>\n",
       "      <td>1.250000e+20</td>\n",
       "      <td>1.000000e+23</td>\n",
       "      <td>0.03</td>\n",
       "    </tr>\n",
       "    <tr>\n",
       "      <th>46</th>\n",
       "      <td>189000.0</td>\n",
       "      <td>1.250000e+20</td>\n",
       "      <td>1.000000e+24</td>\n",
       "      <td>0.03</td>\n",
       "    </tr>\n",
       "    <tr>\n",
       "      <th>47</th>\n",
       "      <td>189000.0</td>\n",
       "      <td>1.250000e+20</td>\n",
       "      <td>1.000000e+25</td>\n",
       "      <td>0.03</td>\n",
       "    </tr>\n",
       "    <tr>\n",
       "      <th>48</th>\n",
       "      <td>189000.0</td>\n",
       "      <td>1.250000e+20</td>\n",
       "      <td>1.000000e+23</td>\n",
       "      <td>0.06</td>\n",
       "    </tr>\n",
       "    <tr>\n",
       "      <th>49</th>\n",
       "      <td>189000.0</td>\n",
       "      <td>1.250000e+20</td>\n",
       "      <td>1.000000e+24</td>\n",
       "      <td>0.06</td>\n",
       "    </tr>\n",
       "    <tr>\n",
       "      <th>50</th>\n",
       "      <td>189000.0</td>\n",
       "      <td>1.250000e+20</td>\n",
       "      <td>1.000000e+25</td>\n",
       "      <td>0.06</td>\n",
       "    </tr>\n",
       "    <tr>\n",
       "      <th>51</th>\n",
       "      <td>189000.0</td>\n",
       "      <td>1.250000e+20</td>\n",
       "      <td>1.000000e+23</td>\n",
       "      <td>0.09</td>\n",
       "    </tr>\n",
       "    <tr>\n",
       "      <th>52</th>\n",
       "      <td>189000.0</td>\n",
       "      <td>1.250000e+20</td>\n",
       "      <td>1.000000e+24</td>\n",
       "      <td>0.09</td>\n",
       "    </tr>\n",
       "    <tr>\n",
       "      <th>53</th>\n",
       "      <td>189000.0</td>\n",
       "      <td>1.250000e+20</td>\n",
       "      <td>1.000000e+25</td>\n",
       "      <td>0.09</td>\n",
       "    </tr>\n",
       "  </tbody>\n",
       "</table>\n",
       "</div>"
      ],
      "text/plain": [
       "         Edf          eta0       eta_max   fcm\n",
       "0    63000.0  6.250000e+19  1.000000e+23  0.03\n",
       "1    63000.0  6.250000e+19  1.000000e+24  0.03\n",
       "2    63000.0  6.250000e+19  1.000000e+25  0.03\n",
       "3    63000.0  6.250000e+19  1.000000e+23  0.06\n",
       "4    63000.0  6.250000e+19  1.000000e+24  0.06\n",
       "5    63000.0  6.250000e+19  1.000000e+25  0.06\n",
       "6    63000.0  6.250000e+19  1.000000e+23  0.09\n",
       "7    63000.0  6.250000e+19  1.000000e+24  0.09\n",
       "8    63000.0  6.250000e+19  1.000000e+25  0.09\n",
       "9    63000.0  1.250000e+20  1.000000e+23  0.03\n",
       "10   63000.0  1.250000e+20  1.000000e+24  0.03\n",
       "11   63000.0  1.250000e+20  1.000000e+25  0.03\n",
       "12   63000.0  1.250000e+20  1.000000e+23  0.06\n",
       "13   63000.0  1.250000e+20  1.000000e+24  0.06\n",
       "14   63000.0  1.250000e+20  1.000000e+25  0.06\n",
       "15   63000.0  1.250000e+20  1.000000e+23  0.09\n",
       "16   63000.0  1.250000e+20  1.000000e+24  0.09\n",
       "17   63000.0  1.250000e+20  1.000000e+25  0.09\n",
       "18  126000.0  6.250000e+19  1.000000e+23  0.03\n",
       "19  126000.0  6.250000e+19  1.000000e+24  0.03\n",
       "20  126000.0  6.250000e+19  1.000000e+25  0.03\n",
       "21  126000.0  6.250000e+19  1.000000e+23  0.06\n",
       "22  126000.0  6.250000e+19  1.000000e+24  0.06\n",
       "23  126000.0  6.250000e+19  1.000000e+25  0.06\n",
       "24  126000.0  6.250000e+19  1.000000e+23  0.09\n",
       "25  126000.0  6.250000e+19  1.000000e+24  0.09\n",
       "26  126000.0  6.250000e+19  1.000000e+25  0.09\n",
       "27  126000.0  1.250000e+20  1.000000e+23  0.03\n",
       "28  126000.0  1.250000e+20  1.000000e+24  0.03\n",
       "29  126000.0  1.250000e+20  1.000000e+25  0.03\n",
       "30  126000.0  1.250000e+20  1.000000e+23  0.06\n",
       "31  126000.0  1.250000e+20  1.000000e+24  0.06\n",
       "32  126000.0  1.250000e+20  1.000000e+25  0.06\n",
       "33  126000.0  1.250000e+20  1.000000e+23  0.09\n",
       "34  126000.0  1.250000e+20  1.000000e+24  0.09\n",
       "35  126000.0  1.250000e+20  1.000000e+25  0.09\n",
       "36  189000.0  6.250000e+19  1.000000e+23  0.03\n",
       "37  189000.0  6.250000e+19  1.000000e+24  0.03\n",
       "38  189000.0  6.250000e+19  1.000000e+25  0.03\n",
       "39  189000.0  6.250000e+19  1.000000e+23  0.06\n",
       "40  189000.0  6.250000e+19  1.000000e+24  0.06\n",
       "41  189000.0  6.250000e+19  1.000000e+25  0.06\n",
       "42  189000.0  6.250000e+19  1.000000e+23  0.09\n",
       "43  189000.0  6.250000e+19  1.000000e+24  0.09\n",
       "44  189000.0  6.250000e+19  1.000000e+25  0.09\n",
       "45  189000.0  1.250000e+20  1.000000e+23  0.03\n",
       "46  189000.0  1.250000e+20  1.000000e+24  0.03\n",
       "47  189000.0  1.250000e+20  1.000000e+25  0.03\n",
       "48  189000.0  1.250000e+20  1.000000e+23  0.06\n",
       "49  189000.0  1.250000e+20  1.000000e+24  0.06\n",
       "50  189000.0  1.250000e+20  1.000000e+25  0.06\n",
       "51  189000.0  1.250000e+20  1.000000e+23  0.09\n",
       "52  189000.0  1.250000e+20  1.000000e+24  0.09\n",
       "53  189000.0  1.250000e+20  1.000000e+25  0.09"
      ]
     },
     "execution_count": 134,
     "metadata": {},
     "output_type": "execute_result"
    }
   ],
   "source": [
    "params"
   ]
  },
  {
   "cell_type": "code",
   "execution_count": null,
   "metadata": {
    "collapsed": true
   },
   "outputs": [],
   "source": []
  }
 ],
 "metadata": {
  "kernelspec": {
   "display_name": "Python 2",
   "language": "python",
   "name": "python2"
  }
 },
 "nbformat": 4,
 "nbformat_minor": 1
}
