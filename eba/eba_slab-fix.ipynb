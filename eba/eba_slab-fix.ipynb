{
 "cells": [
  {
   "cell_type": "markdown",
   "metadata": {},
   "source": [
    "## Composite, non-linear rheology, extended Boussinesq approximation:\n",
    "\n",
    "\n",
    "The viscous rheology in this model is similar to the Garel et al paper cited below. Other parts of the model setup are similar to Čížková and Bina (2015), Arredondo and Billen (2016).\n",
    "\n",
    "Here we use a dimensionless system. For the psuedo-plastic effective rheology a Drucker-prager model is used.\n",
    "\n",
    "\n",
    "**Keywords:** subduction, composite rheology, dislocation creep\n",
    "\n",
    "\n",
    "**References:**\n",
    "\n",
    "\n",
    "Garel, Fanny, et al. \"Interaction of subducted slabs with the mantle transition‐zone: A regime diagram from 2‐D thermo‐mechanical models with a mobile trench and an overriding plate.\" Geochemistry, Geophysics, Geosystems 15.5 (2014): 1739-1765.\n",
    "\n",
    "Čížková, Hana, and Craig R. Bina. \"Geodynamics of trench advance: Insights from a Philippine-Sea-style geometry.\" Earth and Planetary Science Letters 430 (2015): 408-415.\n",
    "\n",
    "Arredondo, Katrina M., and Magali I. Billen. \"The Effects of Phase Transitions and Compositional Layering in Two-dimensional Kinematic Models of Subduction.\" Journal of Geodynamics (2016).\n"
   ]
  },
  {
   "cell_type": "code",
   "execution_count": 1,
   "metadata": {
    "collapsed": false
   },
   "outputs": [
    {
     "name": "stderr",
     "output_type": "stream",
     "text": [
      "/root/underworld2/unsupported/interfaces/__init__.py:9: UserWarning: \n",
      "\n",
      "The interface module is not supported.\n",
      "Questions should be addressed to louis.moresi@unimelb.edu.au \n",
      " \n",
      "  Questions should be addressed to louis.moresi@unimelb.edu.au \\n \"\"\"\n"
     ]
    }
   ],
   "source": [
    "import numpy as np\n",
    "import underworld as uw\n",
    "import math\n",
    "from underworld import function as fn\n",
    "import glucifer\n",
    "\n",
    "import os\n",
    "import sys\n",
    "import natsort\n",
    "import shutil\n",
    "from easydict import EasyDict as edict\n",
    "import operator\n",
    "import pint\n",
    "import time\n",
    "import operator\n",
    "from slippy2 import boundary_layer2d\n",
    "from slippy2 import material_graph\n",
    "from slippy2 import spmesh\n",
    "from slippy2 import phase_function\n",
    "from unsupported.interfaces import markerLine2D\n",
    "\n",
    "\n",
    "from mpi4py import MPI\n",
    "comm = MPI.COMM_WORLD\n",
    "rank = comm.Get_rank()"
   ]
  },
  {
   "cell_type": "code",
   "execution_count": 2,
   "metadata": {
    "collapsed": false
   },
   "outputs": [],
   "source": [
    "#####\n",
    "#Stubborn version number conflicts - need to figure out my Docker container runs an old version. For now...\n",
    "#####\n",
    "try:\n",
    "    natsort.natsort = natsort.natsorted\n",
    "except:\n",
    "    natsort.natsort = natsort.natsort"
   ]
  },
  {
   "cell_type": "code",
   "execution_count": null,
   "metadata": {
    "collapsed": true
   },
   "outputs": [],
   "source": []
  },
  {
   "cell_type": "code",
   "execution_count": 3,
   "metadata": {
    "collapsed": false
   },
   "outputs": [],
   "source": [
    "#store = glucifer.Store('subduction')\n",
    "#figParticle = glucifer.Figure( store, figsize=(960,300), name=\"Particles\" )\n",
    "\n",
    "#figParticle.save_database('test.gldb')"
   ]
  },
  {
   "cell_type": "markdown",
   "metadata": {},
   "source": [
    "Model name and directories\n",
    "-----"
   ]
  },
  {
   "cell_type": "code",
   "execution_count": 4,
   "metadata": {
    "collapsed": true
   },
   "outputs": [],
   "source": [
    "############\n",
    "#Model letter and number\n",
    "############\n",
    "\n",
    "\n",
    "#Model letter identifier default\n",
    "Model = \"T\"\n",
    "\n",
    "#Model number identifier default:\n",
    "ModNum = 0\n",
    "\n",
    "#Any isolated letter / integer command line args are interpreted as Model/ModelNum\n",
    "\n",
    "if len(sys.argv) == 1:\n",
    "    ModNum = ModNum \n",
    "elif sys.argv[1] == '-f': #\n",
    "    ModNum = ModNum \n",
    "else:\n",
    "    for farg in sys.argv[1:]:\n",
    "        if not '=' in farg: #then Assume it's a not a paramter argument\n",
    "            try:\n",
    "                ModNum = int(farg) #try to convert everingthing to a float, else remains string\n",
    "            except ValueError:\n",
    "                Model  = farg"
   ]
  },
  {
   "cell_type": "code",
   "execution_count": 5,
   "metadata": {
    "collapsed": false
   },
   "outputs": [],
   "source": [
    "###########\n",
    "#Standard output directory setup\n",
    "###########\n",
    "\n",
    "outputPath = \"results\" + \"/\" +  str(Model) + \"/\" + str(ModNum) + \"/\" \n",
    "imagePath = outputPath + 'images/'\n",
    "filePath = outputPath + 'files/'\n",
    "checkpointPath = outputPath + 'checkpoint/'\n",
    "dbPath = outputPath + 'gldbs/'\n",
    "xdmfPath = outputPath + 'xdmf/'\n",
    "outputFile = 'results_model' + Model + '_' + str(ModNum) + '.dat'\n",
    "\n",
    "if uw.rank()==0:\n",
    "    # make directories if they don't exist\n",
    "    if not os.path.isdir(outputPath):\n",
    "        os.makedirs(outputPath)\n",
    "    if not os.path.isdir(checkpointPath):\n",
    "        os.makedirs(checkpointPath)\n",
    "    if not os.path.isdir(imagePath):\n",
    "        os.makedirs(imagePath)\n",
    "    if not os.path.isdir(dbPath):\n",
    "        os.makedirs(dbPath)\n",
    "    if not os.path.isdir(filePath):\n",
    "        os.makedirs(filePath)\n",
    "    if not os.path.isdir(xdmfPath):\n",
    "        os.makedirs(xdmfPath)\n",
    "        \n",
    "comm.Barrier() #Barrier here so no procs run the check in the next cell too early"
   ]
  },
  {
   "cell_type": "code",
   "execution_count": 6,
   "metadata": {
    "collapsed": false
   },
   "outputs": [
    {
     "name": "stdout",
     "output_type": "stream",
     "text": [
      "results/T/0/checkpoint/ is empty\n"
     ]
    }
   ],
   "source": [
    "###########\n",
    "#Check if starting from checkpoint\n",
    "###########\n",
    "\n",
    "checkdirs = []\n",
    "for dirpath, dirnames, files in os.walk(checkpointPath):\n",
    "    if files:\n",
    "        print dirpath, 'has files'\n",
    "        checkpointLoad = True\n",
    "        checkdirs.append(dirpath)\n",
    "    if not files:\n",
    "        print dirpath, 'is empty'\n",
    "        checkpointLoad = False"
   ]
  },
  {
   "cell_type": "code",
   "execution_count": 7,
   "metadata": {
    "collapsed": true
   },
   "outputs": [],
   "source": [
    "# setup summary output file (name above)\n",
    "if checkpointLoad:\n",
    "    checkpointLoadDir = natsort.natsort(checkdirs)[-1]\n",
    "    if uw.rank() == 0:\n",
    "        shutil.copyfile(os.path.join(checkpointLoadDir, outputFile), outputPath+outputFile)\n",
    "    comm.Barrier()\n",
    "    f_o = open(os.path.join(outputPath, outputFile), 'a')\n",
    "    prevdata = np.genfromtxt(os.path.join(outputPath, outputFile), skip_header=0, skip_footer=0)\n",
    "    if len(prevdata.shape) == 1: #this is in case there is only one line in previous file\n",
    "        realtime = prevdata[-1]  #This corresponds to the column you write time data to\n",
    "    else:\n",
    "        realtime = prevdata[prevdata.shape[0]-1, -1]\n",
    "    step = int(checkpointLoadDir.split('/')[-1])\n",
    "    timevals = [0.]\n",
    "else:\n",
    "    f_o = open(outputPath+outputFile, 'w')\n",
    "    realtime = 0.\n",
    "    step = 0\n",
    "    timevals = [0.]"
   ]
  },
  {
   "cell_type": "markdown",
   "metadata": {},
   "source": [
    "Setup parameters\n",
    "-----\n",
    "\n",
    "Set simulation parameters for test."
   ]
  },
  {
   "cell_type": "markdown",
   "metadata": {},
   "source": [
    "**Use pint to setup any unit conversions we'll need**"
   ]
  },
  {
   "cell_type": "code",
   "execution_count": 8,
   "metadata": {
    "collapsed": false
   },
   "outputs": [
    {
     "data": {
      "text/html": [
       "10000.0 meter/megayear"
      ],
      "text/latex": [
       "$10000.0 \\frac{meter}{megayear}$"
      ],
      "text/plain": [
       "<Quantity(10000.0, 'meter / megayear')>"
      ]
     },
     "execution_count": 8,
     "metadata": {},
     "output_type": "execute_result"
    }
   ],
   "source": [
    "u = pint.UnitRegistry()\n",
    "cmpery = 1.*u.cm/u.year\n",
    "mpermy = 1.*u.m/u.megayear\n",
    "year = 1.*u.year\n",
    "spery = year.to(u.sec)\n",
    "cmpery.to(mpermy)"
   ]
  },
  {
   "cell_type": "code",
   "execution_count": 9,
   "metadata": {
    "collapsed": false
   },
   "outputs": [
    {
     "name": "stdout",
     "output_type": "stream",
     "text": [
      "(0.04, 1.2675505856327397e-11)\n"
     ]
    }
   ],
   "source": [
    "box_half_width =4000e3\n",
    "age_at_trench = 100e6\n",
    "cmperyear = box_half_width / age_at_trench #m/y\n",
    "mpersec = cmperyear*(cmpery.to(u.m/u.second)).magnitude #m/sec\n",
    "print(cmperyear, mpersec )"
   ]
  },
  {
   "cell_type": "markdown",
   "metadata": {},
   "source": [
    "**Set parameter dictionaries**\n",
    "\n",
    "* Parameters are stored in dictionaries. \n",
    "* If starting from checkpoint, parameters are loaded using pickle\n",
    "* If params are passed in as flags to the script, they overwrite "
   ]
  },
  {
   "cell_type": "code",
   "execution_count": 10,
   "metadata": {
    "collapsed": true
   },
   "outputs": [],
   "source": [
    "###########\n",
    "#Parameter / settings dictionaries get saved&loaded using pickle\n",
    "###########\n",
    " \n",
    "dp = edict({}) #dimensional parameters\n",
    "sf = edict({}) #scaling factors\n",
    "ndp = edict({}) #dimensionless paramters\n",
    "md = edict({}) #model paramters, flags etc\n",
    "#od = edict({}) #output frequencies\n"
   ]
  },
  {
   "cell_type": "code",
   "execution_count": 11,
   "metadata": {
    "collapsed": true
   },
   "outputs": [],
   "source": [
    "dict_list = [dp, sf, ndp, md]\n",
    "dict_names = ['dp.pkl', 'sf.pkl', 'ndp.pkl', 'md.pkl']\n",
    "\n",
    "def save_pickles(dict_list, dict_names, dictPath):\n",
    "    import pickle\n",
    "    counter = 0\n",
    "    for pdict in dict_list:\n",
    "        myfile = os.path.join(dictPath, dict_names[counter])\n",
    "        with open(myfile, 'wb') as f:\n",
    "            pickle.dump(pdict, f)\n",
    "        counter+=1\n",
    "\n",
    "\n",
    "#ended up having to pretty much write a hard-coded function\n",
    "#All dictionaries we want checkpointed will have to  be added here \n",
    "#and where the function is called\n",
    "#Fortunately, this function is only called ONCE\n",
    "\n",
    "def load_pickles():\n",
    "    import pickle\n",
    "    dirpath = os.path.join(checkpointPath, str(step))\n",
    "    dpfile = open(os.path.join(dirpath, 'dp.pkl'), 'r')\n",
    "    dp = pickle.load(dpfile)\n",
    "#    #\n",
    "    ndpfile = open(os.path.join(dirpath, 'ndp.pkl'), 'r')\n",
    "    ndp = edict(pickle.load(ndpfile))\n",
    "    #\n",
    "    sffile = open(os.path.join(dirpath, 'sf.pkl'), 'r')\n",
    "    sf = edict(pickle.load(sffile))\n",
    "    #\n",
    "    mdfile = open(os.path.join(dirpath, 'md.pkl'), 'r')\n",
    "    md = edict(pickle.load(mdfile))\n",
    "    return dp, ndp, sf, md"
   ]
  },
  {
   "cell_type": "code",
   "execution_count": 12,
   "metadata": {
    "collapsed": false
   },
   "outputs": [],
   "source": [
    "###########\n",
    "#Store the physical parameters, scale factors and dimensionless pramters in easyDicts\n",
    "#Mainly helps with avoiding overwriting variables\n",
    "###########\n",
    "\n",
    "\n",
    "#Style => parameters_like_this\n",
    "\n",
    "dp = edict({#Main physical paramters\n",
    "           'depth':2000e3, #Depth\n",
    "           'LS':2900.*1e3, #Length scale\n",
    "           'rho':3300.,  #reference density\n",
    "           'g':9.8, #surface gravity\n",
    "           #'eta0':1e20, #Dislocation creep at 250 km, 1573 K, 1e-15 s-1\n",
    "           'eta0':1.35e20, #Dislocation creep at 250 km, 1573 K, 1e-15 s-1\n",
    "           'k':1e-6, #thermal diffusivity\n",
    "           'a':3e-5, #surface thermal expansivity\n",
    "           #'a':4.05e-5, #surface thermal expansivity\n",
    "           'R':8.314, #gas constant\n",
    "           'Cp':1250., #Specific heat (Jkg-1K-1)\n",
    "           'TP':1573., #mantle potential temp (K)\n",
    "           'TS':273., #surface temp (K)\n",
    "            #Rheology - flow law paramters\n",
    "           'cm':2e6, #mantle cohesion in Byerlee law\n",
    "           'cc':2e6, #crust cohesion in Byerlee law\n",
    "           'fcm':0.2,   #mantle friction coefficient in Byerlee law (tan(phi))\n",
    "           'fcc':0.02,   #crust friction coefficient \n",
    "           'Adf':3e-11, #pre-exp factor for diffusion creep\n",
    "           'Ads':5e-16, #pre-exp factor for dislocation creep\n",
    "           'Apr':1e-150,#pre-exp factor for Peierls creep\n",
    "           #'Apr':1e-145,#pre-exp factor for Peierls creep\n",
    "           'Edf':3e5,\n",
    "           'Eds':5.4e5,\n",
    "           'Epr':5.4e5,\n",
    "           'Vdf':4e-6,\n",
    "           'Vds':12e-6,\n",
    "           'Vpr':10e-6,\n",
    "           'Alm':6e-17,\n",
    "           'Elm':2.0e5,\n",
    "           'Vlm':1.5e-6,\n",
    "           'SR':1e-15, #reference strain rate\n",
    "           'n':3.5, #Dislocation creep stress exponent\n",
    "           'np':20., #Peierls creep stress exponent \n",
    "           #Rheology - cutoff values\n",
    "           'eta_min':1e18, \n",
    "           'eta_max':1e25, #viscosity max in the mantle material\n",
    "           'eta_min_crust':1e18, #viscosity min in the weak-crust material\n",
    "           'eta_max_crust':1e20, #viscosity max in the weak-crust material\n",
    "           'ysMax':10000*1e6, #10 GPa\n",
    "           #Length scales\n",
    "           'MANTLETOCRUST':8.*1e3, #Crust depth\n",
    "           'HARZBURGDEPTH':40e3,\n",
    "           'CRUSTTOMANTLE':800.*1e3,\n",
    "           'LITHTOMANTLE':(900.*1e3),\n",
    "           'MANTLETOLITH':200.*1e3, \n",
    "           'TOPOHEIGHT':10.*1e3,  #rock-air topography limits\n",
    "           'CRUSTTOECL':100.*1e3,\n",
    "           'LOWMANTLEDEPTH':660.*1e3, \n",
    "           'CRUSTVISCUTOFF':250.*1e3, #Deeper than this, crust material rheology reverts to mantle rheology\n",
    "           'AGETRACKDEPTH':100e3, #above this depth we track the age of the lithsphere (below age is assumed zero)\n",
    "           #Slab and plate parameters\n",
    "           'roc':250e3,     #radius of curvature of slab\n",
    "           'subzone':0.0,   #X position of subduction zone...km\n",
    "           'lRidge':-1.*(5000e3),  #For depth = 670 km, aspect ratio of 4, this puts the ridges at MINX, MAXX\n",
    "           'rRidge':(5000e3),\n",
    "           'maxDepth':200e3,\n",
    "           'theta':70., #Angle to truncate the slab (can also control with a maxDepth param)\n",
    "           'slabmaxAge':100e6, #age of subduction plate at trench\n",
    "           'platemaxAge':100e6, #max age of slab (Plate model)\n",
    "           'opmaxAge':100e6, #age of op\n",
    "           'sense':'Right', #dip direction\n",
    "           #'op_age_fac':0.2, #this controls the overidding plate age reduction\n",
    "           #Misc\n",
    "           'rDepth':250e3, #reference depth (used to scale / normalize the flow laws)\n",
    "           'StALS':100e3, #depth of sticky air layer\n",
    "           'Steta_n':1e19, #stick air viscosity, normal\n",
    "           'Steta_s':1e18, #stick air viscosity, shear \n",
    "           'plate_vel':4,\n",
    "           'low_mantle_visc_fac':1.\n",
    "             })\n",
    "\n",
    "#append any derived parameters to the dictionary\n",
    "#Adiabatic heating stuff\n",
    "\n",
    "#dp.dTa = (dp.a*dp.g*(dp.TP))/dp.Cp #adibatic gradient, at Tp\n",
    "#dp.dTa = 0.0005 #adiabatic gradient, upper mantle value used in Garel et al. \n",
    "#dp.deltaTa = (dp.TP + dp.dTa*dp.LS) - dp.TS  #Adiabatic Temp at base of mantle, minus Ts\n",
    "#dp.rTemp= dp.TP + dp.rDepth*dp.dTa #reference temp, (potential temp + adiabat)\n",
    "\n",
    "#the base-of-mantle value comes from integrating the adiabatic condition across the mantle\n",
    "dp.deltaTa = (3110.65) - dp.TS  #Adiabatic Temp at base of mantle, minus Ts, \n",
    "                                #this is tied to specific choices of expansivity, Specific heat. \n"
   ]
  },
  {
   "cell_type": "code",
   "execution_count": 13,
   "metadata": {
    "collapsed": false
   },
   "outputs": [],
   "source": [
    "\n",
    "\n",
    "#((dp.a*dp.g*(dp.TP))/dp.Cp)\n",
    "#4.05e-5/3e-5\n",
    "#dp.a/3e-5"
   ]
  },
  {
   "cell_type": "code",
   "execution_count": 14,
   "metadata": {
    "collapsed": false
   },
   "outputs": [],
   "source": [
    "#Modelling and Physics switches\n",
    "\n",
    "md = edict({'refineMesh':False,\n",
    "            'stickyAir':False,\n",
    "            'subductionFault':False,\n",
    "            'symmetricIcs':False,\n",
    "            'velBcs':False,\n",
    "            'aspectRatio':5., #\n",
    "            'compBuoyancy':False, #use compositional & phase buoyancy, or simply thermal\n",
    "            'periodicBcs':False,\n",
    "            'RES':64,\n",
    "            'PIC_integration':True,\n",
    "            'ppc':25,\n",
    "            'elementType':\"Q1/dQ0\",\n",
    "            #'elementType':\"Q2/DPC1\",\n",
    "            'compBuoyancy':False, #use compositional & phase buoyancy, or simply thermal\n",
    "            'viscMechs':['diffusion', 'dislocation', 'peierls', 'yielding'],\n",
    "            'viscCombine':'harmonic', #'harmonic', 'min', 'mixed'....\n",
    "            'secInvFac':math.sqrt(1.),\n",
    "            'courantFac':0.5 #extra limitation on timestepping\n",
    "            })"
   ]
  },
  {
   "cell_type": "code",
   "execution_count": 15,
   "metadata": {
    "collapsed": true
   },
   "outputs": [],
   "source": [
    "###########\n",
    "#If starting from a checkpoint load params from file\n",
    "###########\n",
    "\n",
    "if checkpointLoad:\n",
    "    dp, ndp, sf, md = load_pickles()  #remember to add any extra dictionaries"
   ]
  },
  {
   "cell_type": "code",
   "execution_count": 16,
   "metadata": {
    "collapsed": true
   },
   "outputs": [],
   "source": [
    "###########\n",
    "#If command line args are given, overwrite\n",
    "#Note that this assumes that params as commans line args/\n",
    "#only append to the 'dimensional' and 'model' dictionary (not the non-dimensional)\n",
    "###########    \n",
    "\n",
    "\n",
    "###########\n",
    "#If extra arguments are provided to the script\" eg:\n",
    "### >>> uw.py 2 dp.arg1=1 dp.arg2=foo dp.arg3=3.0\n",
    "###\n",
    "###This would assign ModNum = 2, all other values go into the dp dictionary, under key names provided\n",
    "###\n",
    "###Two operators are searched for, = & *=\n",
    "###\n",
    "###If =, parameter is re-assigned to givn value\n",
    "###If *=, parameter is multipled by given value\n",
    "###\n",
    "### >>> uw.py 2 dp.arg1=1 dp.arg2=foo dp.arg3*=3.0\n",
    "###########\n",
    "\n",
    "for farg in sys.argv[1:]:\n",
    "    try:\n",
    "        (dicitem,val) = farg.split(\"=\") #Split on equals operator\n",
    "        (dic,arg) = dicitem.split(\".\") #colon notation\n",
    "        if '*=' in farg:\n",
    "            (dicitem,val) = farg.split(\"*=\") #If in-place multiplication, split on '*='\n",
    "            (dic,arg) = dicitem.split(\".\")\n",
    "            \n",
    "        if val == 'True': \n",
    "            val = True\n",
    "        elif val == 'False':     #First check if args are boolean\n",
    "            val = False\n",
    "        else:\n",
    "            try:\n",
    "                val = float(val) #next try to convert  to a float,\n",
    "            except ValueError:\n",
    "                pass             #otherwise leave as string\n",
    "        #Update the dictionary\n",
    "        if farg.startswith('dp'):\n",
    "            if '*=' in farg:\n",
    "                dp[arg] = dp[arg]*val #multiply parameter by given factor\n",
    "            else:\n",
    "                dp[arg] = val    #or reassign parameter by given value\n",
    "        if farg.startswith('md'):\n",
    "            if '*=' in farg:\n",
    "                md[arg] = md[arg]*val #multiply parameter by given factor\n",
    "            else:\n",
    "                md[arg] = val    #or reassign parameter by given value\n",
    "                \n",
    "    except:\n",
    "        pass\n",
    "            \n",
    "\n",
    "comm.barrier()"
   ]
  },
  {
   "cell_type": "code",
   "execution_count": 17,
   "metadata": {
    "collapsed": false
   },
   "outputs": [
    {
     "data": {
      "text/plain": [
       "2837.65"
      ]
     },
     "execution_count": 17,
     "metadata": {},
     "output_type": "execute_result"
    }
   ],
   "source": [
    "dp.deltaTa"
   ]
  },
  {
   "cell_type": "code",
   "execution_count": 18,
   "metadata": {
    "collapsed": false
   },
   "outputs": [],
   "source": [
    "if not checkpointLoad:\n",
    "    \n",
    "    #Scaling factors, used to map the dimensional parameters to dimensionless\n",
    "    \n",
    "    sf = edict({'stress':dp.LS**2/(dp.k*dp.eta0),\n",
    "            'lith_grad':dp.rho*dp.g*(dp.LS)**3/(dp.eta0*dp.k) ,\n",
    "            'vel':dp.LS/dp.k,\n",
    "            'SR':dp.LS**2/dp.k,\n",
    "            'W':(dp.rho*dp.g*dp.LS)/(dp.R*dp.deltaTa), #Including adiabatic compression, and deltaTa\n",
    "            'E': 1./(dp.R*dp.deltaTa), #using deltaTa, the guesstimated adiabatic temp differnnce to scale these paramters\n",
    "            'Ads':1./((dp.eta0**(-1.*dp.n))*(dp.k**(1. - dp.n))*(dp.LS**(-2.+ (2.*dp.n)))),\n",
    "            'Adf':dp.eta0,\n",
    "            'Apr':2.6845783276046923e+40 #same form as Ads, but ndp.np =20. (hardcoded because numbers are too big)\n",
    "                \n",
    "\n",
    "           })\n",
    "    \n",
    "     #dimensionless parameters\n",
    "    ndp = edict({\n",
    "             #Rayliegh number includes full adiabtic temp change, as this is what we scale temp with. \n",
    "             'RA':(dp.g*dp.rho*dp.a*dp.deltaTa*(dp.LS)**3)/(dp.k*dp.eta0),       \n",
    "             #'RA':(dp.g*dp.rho*dp.a*(dp.TP - dp.TS)*(dp.LS)**3)/(dp.k*dp.eta0),\n",
    "             'depth':dp.depth/dp.LS,\n",
    "             'Di': dp.a*dp.g*dp.LS/dp.Cp, #Dissipation number\n",
    "             'H':0.,\n",
    "             #Temperatures and reference depth\n",
    "             'TSP':0., #dimensionless potential temp\n",
    "             'TPP':(dp.TP - dp.TS)/dp.deltaTa, #dimensionless potential temp\n",
    "             'TS':dp.TS/dp.deltaTa,\n",
    "             'TP':dp.TP/dp.deltaTa,\n",
    "             #'rTemp':(dp.rTemp- dp.TS)/dp.deltaTa,\n",
    "             #'rDepth':dp.rDepth/dp.LS,\n",
    "              #Rheology - flow law paramters  \n",
    "             'Ads':dp.Ads*sf.Ads,\n",
    "             'Adf':dp.Adf*sf.Adf,\n",
    "             'Apr':dp.Apr*sf.Apr,\n",
    "             'Alm':dp.Alm*sf.Adf,\n",
    "             'Wdf':dp.Vdf*sf.W,\n",
    "             'Edf':dp.Edf*sf.E,\n",
    "             'Wps':dp.Vpr*sf.W,\n",
    "             'Eps':dp.Epr*sf.E,\n",
    "             'Wds':dp.Vds*sf.W,      #{df  => diffusion creep}\n",
    "             'Eds':dp.Eds*sf.E,      #{ds  => dislocation creep}\n",
    "             'Elm':dp.Elm*sf.E,      #{pr  => Peierls creep}\n",
    "             'Elm':dp.Elm*sf.E,\n",
    "             'Wlm':dp.Vlm*sf.W,\n",
    "             'cm':dp.cm*sf.stress,\n",
    "             'cc':dp.cc*sf.stress,    #{dimensionless cohesion in mantl, crust, interface}\n",
    "             'fcmd':dp.fcm*sf.lith_grad, \n",
    "             'fccd':dp.fcc*sf.lith_grad, #{dimensionless friction coefficient in mantle, crust, interface}\n",
    "             'n':dp.n, #Dislocation creep stress exponent\n",
    "             'np':dp.np, #Peierls creep stress exponent \n",
    "             #Rheology - cutoff values\n",
    "             'eta_min':dp.eta_min/dp.eta0, \n",
    "             'eta_max':dp.eta_max/dp.eta0, #viscosity max in the mantle material\n",
    "             'eta_min_crust':dp.eta_min_crust/dp.eta0, #viscosity min in the weak-crust material\n",
    "             'eta_max_crust':dp.eta_max_crust/dp.eta0, #viscosity max in the weak-crust material\n",
    "             'ysMax':dp.ysMax*sf.stress,\n",
    "             #Lengths scales\n",
    "             'MANTLETOCRUST':dp.MANTLETOCRUST/dp.LS, #Crust depth\n",
    "             'HARZBURGDEPTH':dp.HARZBURGDEPTH/dp.LS,\n",
    "             'CRUSTTOMANTLE':dp.CRUSTTOMANTLE/dp.LS,\n",
    "             'LITHTOMANTLE':dp.LITHTOMANTLE/dp.LS,\n",
    "             'MANTLETOLITH':dp.MANTLETOLITH/dp.LS,\n",
    "             'TOPOHEIGHT':dp.TOPOHEIGHT/dp.LS,  #rock-air topography limits\n",
    "             'CRUSTTOECL':dp.CRUSTTOECL/dp.LS,\n",
    "             'LOWMANTLEDEPTH':dp.LOWMANTLEDEPTH/dp.LS, \n",
    "             'CRUSTVISCUTOFF':dp.CRUSTVISCUTOFF/dp.LS, #Deeper than this, crust material rheology reverts to mantle rheology\n",
    "             'AGETRACKDEPTH':dp.AGETRACKDEPTH/dp.LS,\n",
    "             #Slab and plate parameters\n",
    "             'roc':dp.roc/dp.LS,         #radius of curvature of slab\n",
    "             'subzone':dp.subzone/dp.LS, #X position of subduction zone...km\n",
    "             'lRidge':dp.lRidge/dp.LS,   #For depth = 670 km, aspect ratio of 4, this puts the ridges at MINX, MAXX\n",
    "             'rRidge':dp.rRidge/dp.LS,\n",
    "             'maxDepth':dp.maxDepth/dp.LS,\n",
    "             #Misc\n",
    "             'Steta_n':dp.Steta_n/dp.eta0, #stick air viscosity, normal\n",
    "             'Steta_s':dp.Steta_n/dp.eta0, #stick air viscosity, shear \n",
    "             'StALS':dp.StALS/dp.LS,\n",
    "             'plate_vel':sf.vel*dp.plate_vel*(cmpery.to(u.m/u.second)).magnitude,\n",
    "             'low_mantle_visc_fac':dp.low_mantle_visc_fac\n",
    "            })\n",
    "\n",
    "    #Append any more derived paramters\n",
    "    ndp.SR = dp.SR*sf.SR #characteristic strain rate\n",
    "    ndp.StRA = (3300.*dp.g*(dp.LS)**3)/(dp.eta0 *dp.k) #Composisitional Rayleigh number for rock-air buoyancy force\n",
    "    ndp.TaP = 1. - ndp.TPP,  #Dimensionless adiabatic component of deltaT"
   ]
  },
  {
   "cell_type": "code",
   "execution_count": 19,
   "metadata": {
    "collapsed": false
   },
   "outputs": [],
   "source": [
    "#dp.deltaTa/(dp.TP - dp.TS)\n",
    "#650710714.5\n",
    "#ndp.RA\n",
    "#ndp.Di"
   ]
  },
  {
   "cell_type": "markdown",
   "metadata": {},
   "source": [
    "### Output Frequency"
   ]
  },
  {
   "cell_type": "code",
   "execution_count": 20,
   "metadata": {
    "collapsed": true
   },
   "outputs": [],
   "source": [
    "#Metric output stuff\n",
    "figures =  'store' #glucifer Store won't work on all machines, if not, set to 'gldb' \n",
    "\n",
    "#The following are step-based actions\n",
    "swarm_repop, swarm_update = 5, 10\n",
    "checkpoint_every = 100\n",
    "metric_output = 10\n",
    "sticky_air_temp = 1e6\n",
    "\n",
    "\n",
    "#The following are time-based actions\n",
    "filesMy = 0.5e6 #dimensional time intervale to write files\n",
    "files_freq  = filesMy*(3600.*365.*24.)/sf.SR  #applies to files and gldbs"
   ]
  },
  {
   "cell_type": "markdown",
   "metadata": {},
   "source": [
    "### Model/ mesh  setup parameters"
   ]
  },
  {
   "cell_type": "code",
   "execution_count": 21,
   "metadata": {
    "collapsed": false
   },
   "outputs": [],
   "source": [
    "###########\n",
    "#Model setup parameters\n",
    "###########\n",
    "\n",
    "dim = 2          # number of spatial dimensions\n",
    "\n",
    "\n",
    "#Domain and Mesh paramters\n",
    "Xres = int(md.RES*8)   #more than twice the resolution in X-dim, which will be 'corrected' by the refinement we'll use in Y\n",
    "\n",
    "\n",
    "\n",
    "MINY = 1. - (ndp.depth)\n",
    "if md.stickyAir:\n",
    "    Yres = int(md.RES)\n",
    "    MAXY = 1. + dp.StALS/dp.LS #150km\n",
    "    \n",
    "else:\n",
    "    Yres = int(md.RES)\n",
    "    MAXY = 1.\n",
    "\n",
    "\n",
    "periodic = [False, False]\n",
    "if md.periodicBcs:\n",
    "    periodic = [True, False]\n",
    "    \n",
    "    \n",
    "half_width = np.round(0.5*(ndp.depth)*md.aspectRatio, 1)\n",
    "MINX = -1.*half_width\n",
    "\n",
    "MAXX = half_width\n",
    "MAXY = 1.\n",
    "\n",
    "\n",
    "\n"
   ]
  },
  {
   "cell_type": "code",
   "execution_count": 22,
   "metadata": {
    "collapsed": false
   },
   "outputs": [],
   "source": [
    "mesh = uw.mesh.FeMesh_Cartesian( elementType = (md.elementType),\n",
    "                                 elementRes  = (Xres, Yres), \n",
    "                                 minCoord    = (MINX, MINY), \n",
    "                                 maxCoord    = (MAXX, MAXY), periodic=periodic)\n",
    "\n",
    "\n",
    "\n",
    "\n",
    "\n",
    "velocityField       = uw.mesh.MeshVariable( mesh=mesh,         nodeDofCount=2 )\n",
    "pressureField       = uw.mesh.MeshVariable( mesh=mesh.subMesh, nodeDofCount=1 )\n",
    "temperatureField    = uw.mesh.MeshVariable( mesh=mesh,         nodeDofCount=1 )\n",
    "temperatureDotField = uw.mesh.MeshVariable( mesh=mesh,         nodeDofCount=1 )\n",
    "\n",
    "\n",
    "velocityField.data[:]       = [0.,0.]\n",
    "pressureField.data[:]       = 0.\n",
    "temperatureDotField.data[:] = 0."
   ]
  },
  {
   "cell_type": "code",
   "execution_count": 23,
   "metadata": {
    "collapsed": true
   },
   "outputs": [],
   "source": [
    "coordinate = fn.input()\n",
    "depthFn = 1. - coordinate[1] #a function providing the depth\n",
    "xFn = coordinate[0]  #a function providing the x-coordinate\n",
    "yFn = coordinate[1]  #a function providing the y-coordinate\n"
   ]
  },
  {
   "cell_type": "code",
   "execution_count": 24,
   "metadata": {
    "collapsed": false
   },
   "outputs": [],
   "source": [
    "mesh.reset()\n",
    "\n",
    "jWalls = mesh.specialSets[\"MinJ_VertexSet\"] + mesh.specialSets[\"MaxJ_VertexSet\"]\n",
    "yFn = coordinate[1]\n",
    "yField = uw.mesh.MeshVariable( mesh=mesh, nodeDofCount=1 )\n",
    "yField.data[:] = 0.\n",
    "yBC = uw.conditions.DirichletCondition( variable=yField, indexSetsPerDof=(jWalls,) )\n",
    "\n",
    "# set bottom wall temperature bc\n",
    "for index in mesh.specialSets[\"MinJ_VertexSet\"]:\n",
    "    yField.data[index] = mesh.minCoord[1]\n",
    "# set top wall temperature bc\n",
    "for index in mesh.specialSets[\"MaxJ_VertexSet\"]:\n",
    "    yField.data[index] = mesh.maxCoord[1]\n",
    "    \n",
    "    \n",
    "    \n",
    "s = 3.5\n",
    "intensityFac = 2.5\n",
    "intensityFn = (((yFn - MINY)/(MAXY-MINY))**s)\n",
    "intensityFn *= intensityFac\n",
    "intensityFn += 1.\n",
    "\n",
    "\n",
    "yLaplaceEquation = uw.systems.SteadyStateHeat(temperatureField=yField, fn_diffusivity=intensityFn, conditions=[yBC,])\n",
    "\n",
    "# get the default heat equation solver\n",
    "yLaplaceSolver = uw.systems.Solver(yLaplaceEquation)\n",
    "# solve\n",
    "yLaplaceSolver.solve()\n",
    "\n",
    "\n",
    "#Get the array of Y positions - copy may be necessary, not sure. \n",
    "newYpos = yField.data.copy() \n",
    "\n",
    "uw.barrier()\n",
    "with mesh.deform_mesh():\n",
    "     mesh.data[:,1] = newYpos[:,0]\n"
   ]
  },
  {
   "cell_type": "code",
   "execution_count": 25,
   "metadata": {
    "collapsed": false
   },
   "outputs": [],
   "source": [
    "#fig= glucifer.Figure(quality=3)\n",
    "\n",
    "#fig.append( glucifer.objects.Surface(mesh,intensityFn, discrete=True))\n",
    "#fig.append( glucifer.objects.Mesh(mesh))\n",
    "#fig.show()\n",
    "#fig.save_database('test.gldb')\n"
   ]
  },
  {
   "cell_type": "code",
   "execution_count": 26,
   "metadata": {
    "collapsed": false
   },
   "outputs": [],
   "source": [
    "#THis is a hack for adding a sticky air domain, we refine MAXY and things like the temperature stencil work from Y = 1. \n",
    "\n",
    "if md.stickyAir:\n",
    "    MAXY = 1."
   ]
  },
  {
   "cell_type": "markdown",
   "metadata": {},
   "source": [
    "Initial conditions\n",
    "-------\n"
   ]
  },
  {
   "cell_type": "code",
   "execution_count": 38,
   "metadata": {
    "collapsed": false
   },
   "outputs": [],
   "source": [
    "#Explicit Euler to get the adiabatic temp\n",
    "\n",
    "nSamples=1000\n",
    "depths = np.linspace(0.,1. - mesh.minCoord[1],nSamples)\n",
    "\n",
    "dz = np.diff(depths)\n",
    "#c0 = ((dp.a*dp.g*dp.LS)/dp.Cp)\n",
    "c0 = ndp.Di \n",
    "_temps = np.zeros(nSamples)\n",
    "\n",
    "\n",
    "_temps[0] = ndp.TP #the key thing is we need to work in dimensionless absolute temps, i.e. ndp.TP, not ndp.TPP\n",
    "i = 1\n",
    "for delta_z in dz:\n",
    "    _temps[i] = (_temps[i-1] * (1. + c0*delta_z))\n",
    "    i +=1\n",
    "\n",
    "    \n",
    "#now cenvert to the T' system.\n",
    "_temps -=  ndp.TS"
   ]
  },
  {
   "cell_type": "code",
   "execution_count": 41,
   "metadata": {
    "collapsed": true
   },
   "outputs": [],
   "source": [
    "meshDepths = mesh.maxCoord[1] - mesh.data[:,1]\n",
    "\n",
    "tempInterp = np.interp(meshDepths, depths, np.array(_temps) )\n",
    "\n",
    "temperatureField.data[:,0] = tempInterp"
   ]
  },
  {
   "cell_type": "code",
   "execution_count": 42,
   "metadata": {
    "collapsed": false
   },
   "outputs": [],
   "source": [
    "\n",
    "#potTempFn = ndp.TPP + (depthFn)*ndp.Di*(ndp.TP) #a function providing the (linearised) at potential temp\n",
    "\n",
    "#the adiabatic heating relies on the dimensionless absolute temperature, not T'\n",
    "abHeatFn = -1.*velocityField[1]*(temperatureField + ndp.TS)*ndp.Di #a function providing the adiabatic heating rate"
   ]
  },
  {
   "cell_type": "code",
   "execution_count": 44,
   "metadata": {
    "collapsed": true
   },
   "outputs": [],
   "source": [
    "#Fix the ridge locations of greater than boundaries... \n",
    "\n",
    "if ndp.lRidge < mesh.minCoord[0]:\n",
    "    ndp.lRidge = mesh.minCoord[0] + (10e3/dp.LS)\n",
    " \n",
    "if ndp.rRidge > mesh.maxCoord[0]:\n",
    "    ndp.rRidge = mesh.maxCoord[0] - (10e3/dp.LS)"
   ]
  },
  {
   "cell_type": "code",
   "execution_count": 45,
   "metadata": {
    "collapsed": true
   },
   "outputs": [],
   "source": [
    "def age_fn(xFn, sz = 0.0, lMOR=MINX, rMOR=MAXX, opFac=1., conjugate_plate = False):\n",
    "    \"\"\"\n",
    "    Simple function to generate a discrete 1-d (i.e x-coordinate) function for the age of the thermal BC. \n",
    "    All paramters are dimensionless\n",
    "    sz: location of subduction zone\n",
    "    lMOR: location of left-hand MOR\n",
    "    rMOR: location of right-hand MOR\n",
    "    opFac: uniform reduce the age of the right hand plate by this factor\n",
    "    conjugate_plate: if True, build plates on the outer sides of the MORs, if False, age = 0. \n",
    "    \"\"\"\n",
    "    \n",
    "    if lMOR < MINX:\n",
    "        lMOR = MINX\n",
    "    if rMOR > MAXX:\n",
    "        rMOR = MAXX\n",
    "\n",
    "    if conjugate_plate:\n",
    "        ageFn = fn.branching.conditional([(operator.and_(xFn > lMOR, xFn < sz) , (xFn + abs(lMOR))/(abs(sz-lMOR))), \n",
    "                                      (operator.and_(xFn < rMOR, xFn >= sz), (1.-(xFn + abs(sz))/abs(rMOR-sz))*opFac),\n",
    "                                      (xFn > rMOR, opFac*(xFn -abs(rMOR)) / abs(rMOR-sz) ),\n",
    "                                      (True, fn.math.abs((((xFn + abs(lMOR)) / (abs(sz-lMOR))))))\n",
    "                                         ])\n",
    "    else:    \n",
    "        \n",
    "        ageFn = fn.branching.conditional([(operator.and_(xFn > lMOR, xFn < sz) , (xFn + abs(lMOR))/(abs(sz-lMOR))), \n",
    "                                      (operator.and_(xFn < rMOR, xFn >= sz), (1.-(xFn + abs(sz))/abs(rMOR-sz))*opFac),\n",
    "\n",
    "                                      (True, 0.0)])\n",
    "    return ageFn"
   ]
  },
  {
   "cell_type": "code",
   "execution_count": 46,
   "metadata": {
    "collapsed": false
   },
   "outputs": [],
   "source": [
    "#dp.slabmaxAge"
   ]
  },
  {
   "cell_type": "code",
   "execution_count": 47,
   "metadata": {
    "collapsed": false
   },
   "outputs": [],
   "source": [
    "###########\n",
    "#Thermal initial condition 2: \n",
    "#if symmetricIC == False, we build an asymmetric subduction-zone\n",
    "###########\n",
    "\n",
    "\n",
    "\n",
    "\n",
    "#  a few conversions\n",
    "ageAtTrenchSeconds = min(dp.platemaxAge*(3600*24*365), dp.slabmaxAge*(3600*24*365))\n",
    "Org = (ndp.subzone, MAXY-ndp.roc)\n",
    "\n",
    "\n",
    "#This builds the age function\n",
    "ageFn = age_fn(xFn, sz =ndp.subzone, lMOR=ndp.lRidge,rMOR=ndp.rRidge, conjugate_plate=True, opFac = dp.opmaxAge/dp.slabmaxAge)\n",
    "\n",
    "\n",
    "#dimensionlize the age function\n",
    "ageFn *= ageAtTrenchSeconds\n",
    "\n",
    "w0 = (2.*math.sqrt(dp.k*ageAtTrenchSeconds))/dp.LS #diffusion depth of plate at the trench\n",
    "\n",
    "tempBL = (temperatureField) *fn.math.erf((depthFn*dp.LS)/(2.*fn.math.sqrt(dp.k*ageFn))) + ndp.TSP #boundary layer function\n",
    "\n",
    "tempTBL =  fn.branching.conditional([(depthFn < w0, tempBL),\n",
    "                          (True, temperatureField)])\n",
    "\n",
    "if not md.symmetricIcs:\n",
    "    if not checkpointLoad:\n",
    "        out = uw.utils.MeshVariable_Projection( temperatureField, tempTBL) #apply function with projection\n",
    "        out.solve()\n",
    "\n",
    "\n"
   ]
  },
  {
   "cell_type": "code",
   "execution_count": 48,
   "metadata": {
    "collapsed": false
   },
   "outputs": [
    {
     "data": {
      "text/plain": [
       "(0.08620689655172414, 0.002758620689655172)"
      ]
     },
     "execution_count": 48,
     "metadata": {},
     "output_type": "execute_result"
    }
   ],
   "source": [
    "#ageAtTrenchSeconds, \n",
    "dp.k, w0\n",
    "ndp.roc, ndp.MANTLETOCRUST"
   ]
  },
  {
   "cell_type": "code",
   "execution_count": 55,
   "metadata": {
    "collapsed": false
   },
   "outputs": [],
   "source": [
    "#Now build the perturbation part\n",
    "def inCircleFnGenerator(centre, radius):\n",
    "    coord = fn.input()\n",
    "    offsetFn = coord - centre\n",
    "    return fn.math.dot( offsetFn, offsetFn ) < radius**2\n",
    "\n",
    "\n",
    "\n",
    "\n",
    "\n",
    "#We use three circles to define our slab and crust perturbation,  \n",
    "Oc = inCircleFnGenerator(Org , ndp.roc)\n",
    "Oc2 = inCircleFnGenerator(Org , ndp.roc + (0.5*ndp.MANTLETOCRUST)) #increases the amount of crust in the interface\n",
    "Ic = inCircleFnGenerator(Org , ndp.roc - w0)\n",
    "Cc = inCircleFnGenerator(Org , ndp.roc - (1.*ndp.MANTLETOCRUST)) #... weak zone on 'inside' of slab\n",
    "Hc = inCircleFnGenerator(Org , ndp.roc - ndp.HARZBURGDEPTH) #... Harzburgite layer \n",
    "dx = (ndp.roc)*(np.math.tan((np.math.pi/180.)*dp.theta))\n",
    "\n",
    "\n",
    "#We'll also create a triangle which will truncate the circles defining the slab...\n",
    "if dp.sense == 'Left':\n",
    "    ptx = ndp.subzone - dx\n",
    "else:\n",
    "    ptx = ndp.subzone + dx\n",
    "coords = ((0.+ ndp.subzone, MAXY), (0.+ ndp.subzone, MAXY-ndp.roc), (ptx, MAXY))\n",
    "Tri = fn.shape.Polygon(np.array(coords))\n",
    "\n",
    "#tempBL = (temperatureField) *fn.math.erf((depthFn*dp.LS)/(2.*fn.math.sqrt(dp.k*ageFn))) + ndp.TSP #boundary layer function\n",
    "\n",
    "#Actually apply the perturbation\n",
    "if not md.symmetricIcs:\n",
    "    if not checkpointLoad:\n",
    "        sdFn = ((ndp.roc - fn.math.sqrt((coordinate[0] - Org[0])**2. + (coordinate[1] - Org[1])**2.)))\n",
    "        slabFn = ndp.TPP*fn.math.erf((sdFn*dp.LS)/(2.*math.sqrt(dp.k*ageAtTrenchSeconds))) + ndp.TSP\n",
    "        for index, coord in enumerate(mesh.data):\n",
    "            if (\n",
    "                Oc.evaluate(tuple(coord)) and\n",
    "                Tri.evaluate(tuple(coord)) and not\n",
    "                Ic.evaluate(tuple(coord)) and\n",
    "                coord[1] > (1. - ndp.maxDepth)\n",
    "                ): #In the quarter-circle defining the lithosphere\n",
    "                temperatureField.data[index] = slabFn.evaluate(mesh)[index]"
   ]
  },
  {
   "cell_type": "code",
   "execution_count": 56,
   "metadata": {
    "collapsed": false
   },
   "outputs": [],
   "source": [
    "#tempBL.evaluate((-1.7 + 1e-6, 0.028315867670597919))\n",
    "#temperatureField.evaluate((-1.7 , 1. - 0.028315867670597919))[0][0]\n",
    "#tempBL.evaluate((mesh.minCoord[0], mesh.maxCoord[1] -distFromSlabTop[index][0]))\n",
    "#mesh.minCoord[0], mesh.maxCoord[1] -distFromSlabTop[index][0]"
   ]
  },
  {
   "cell_type": "code",
   "execution_count": 57,
   "metadata": {
    "collapsed": false
   },
   "outputs": [],
   "source": [
    "#ndp.TPP, ndp.TP, \n",
    "#tempBL = (temperatureField) *fn.math.erf((depthFn*dp.LS)/(2.*fn.math.sqrt(dp.k*ageFn))) + ndp.TSP #boundary layer function\n",
    "#fn.input?"
   ]
  },
  {
   "cell_type": "code",
   "execution_count": 58,
   "metadata": {
    "collapsed": false
   },
   "outputs": [],
   "source": [
    "## Make sure material in sticky air region is at the surface temperature.\n",
    "for index, coord in enumerate(mesh.data):\n",
    "            if coord[1] >= MAXY:\n",
    "                temperatureField.data[index] = ndp.TSP"
   ]
  },
  {
   "cell_type": "code",
   "execution_count": 59,
   "metadata": {
    "collapsed": false
   },
   "outputs": [],
   "source": [
    "#temperatureField.data.max(), temperatureField.data.mean(), temperatureField.data.std(), temperatureField.data.min()"
   ]
  },
  {
   "cell_type": "code",
   "execution_count": 61,
   "metadata": {
    "collapsed": false
   },
   "outputs": [
    {
     "data": {
      "text/html": [
       "<img src='data:image/png;base64,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'>"
      ],
      "text/plain": [
       "<IPython.core.display.HTML object>"
      ]
     },
     "metadata": {},
     "output_type": "display_data"
    },
    {
     "data": {
      "text/plain": [
       "'test.gldb'"
      ]
     },
     "execution_count": 61,
     "metadata": {},
     "output_type": "execute_result"
    }
   ],
   "source": [
    "fig= glucifer.Figure(quality=3)\n",
    "\n",
    "fig.append( glucifer.objects.Surface(mesh,temperatureField, discrete=True))\n",
    "#fig.append( glucifer.objects.Mesh(mesh))\n",
    "\n",
    "\n",
    "#fig.show()\n",
    "#fig.save_database('test.gldb')\n"
   ]
  },
  {
   "cell_type": "code",
   "execution_count": 62,
   "metadata": {
    "collapsed": false
   },
   "outputs": [],
   "source": [
    "#ageFn = age_fn(xFn, sz =ndp.subzone, lMOR=ndp.lRidge,rMOR=ndp.rRidge, conjugate_plate=True, opFac = dp.opmaxAge/dp.slabmaxAge)\n",
    "#ageFn.evaluate(mesh).min()"
   ]
  },
  {
   "cell_type": "markdown",
   "metadata": {},
   "source": [
    "Boundary conditions\n",
    "-------"
   ]
  },
  {
   "cell_type": "code",
   "execution_count": 63,
   "metadata": {
    "collapsed": false
   },
   "outputs": [
    {
     "name": "stdout",
     "output_type": "stream",
     "text": [
      "2\n"
     ]
    }
   ],
   "source": [
    "iWalls = mesh.specialSets[\"MinI_VertexSet\"] + mesh.specialSets[\"MaxI_VertexSet\"]\n",
    "jWalls = mesh.specialSets[\"MinJ_VertexSet\"] + mesh.specialSets[\"MaxJ_VertexSet\"]\n",
    "tWalls = mesh.specialSets[\"MaxJ_VertexSet\"]\n",
    "bWalls =mesh.specialSets[\"MinJ_VertexSet\"]\n",
    "\n",
    "\n",
    "#this should already be set\n",
    "#for index in mesh.specialSets[\"MinJ_VertexSet\"]:\n",
    "#    temperatureField.data[index] = 1.0 \n",
    "\n",
    "for index in mesh.specialSets[\"MaxJ_VertexSet\"]:\n",
    "    temperatureField.data[index] = ndp.TSP\n",
    "\n",
    "VelBCs = mesh.specialSets[\"Empty\"]\n",
    "\n",
    "\n",
    "\n",
    "if md.velBcs:\n",
    "    for index in list(tWalls.data):\n",
    "\n",
    "        if (mesh.data[int(index)][0] < (ndp.subzone - 0.05*md.aspectRatio) and \n",
    "            mesh.data[int(index)][0] > (mesh.minCoord[0] + 0.05*md.aspectRatio)): #Only push with a portion of teh overiding plate\n",
    "            #print \"first\"\n",
    "            VelBCs.add(int(index))\n",
    "            #Set the plate velocities for the kinematic phase\n",
    "            velocityField.data[index] = [ndp.plate_vel, 0.]\n",
    "        \n",
    "        elif (mesh.data[int(index)][0] > (ndp.subzone + 0.05*md.aspectRatio) and \n",
    "            mesh.data[int(index)][0] < (mesh.maxCoord[0] - 0.05*md.aspectRatio)):\n",
    "            #print \"second\"\n",
    "            VelBCs.add(int(index))\n",
    "            #Set the plate velocities for the kinematic phase\n",
    "            velocityField.data[index] = [0., 0.]\n",
    "        \n",
    "\n",
    "#If periodic, we'll fix a the x-vel at a single node - at the bottom left (index 0)\n",
    "Fixed = mesh.specialSets[\"Empty\"]\n",
    "Fixed.add(int(0))        \n",
    "        \n",
    "\n",
    "if periodic[0] == False:\n",
    "    if md.velBcs:\n",
    "        print(1)\n",
    "        freeslipBC = uw.conditions.DirichletCondition( variable      = velocityField, \n",
    "                                               indexSetsPerDof = ( iWalls + VelBCs, jWalls) )\n",
    "    else:\n",
    "        print(2)\n",
    "        freeslipBC = uw.conditions.DirichletCondition( variable      = velocityField, \n",
    "                                               indexSetsPerDof = ( iWalls, jWalls) )\n",
    "\n",
    "\n",
    "\n",
    "if periodic[0] == True:\n",
    "    if md.velBcs:\n",
    "        print(3)\n",
    "        freeslipBC = uw.conditions.DirichletCondition( variable      = velocityField, \n",
    "                                               indexSetsPerDof = ( Fixed + VelBCs , jWalls) )\n",
    "    else:\n",
    "        print(4)\n",
    "        freeslipBC = uw.conditions.DirichletCondition( variable      = velocityField, \n",
    "                                               indexSetsPerDof = ( Fixed, jWalls) )\n",
    "        \n",
    "    \n",
    "    \n",
    "    \n",
    "# also set dirichlet for temp field\n",
    "dirichTempBC = uw.conditions.DirichletCondition(     variable=temperatureField, \n",
    "                                              indexSetsPerDof=(tWalls,) )\n",
    "dT_dy = [0.,0.]\n",
    "\n",
    "# also set dirichlet for temp field\n",
    "neumannTempBC = uw.conditions.NeumannCondition( dT_dy, variable=temperatureField, \n",
    "                                         nodeIndexSet=bWalls)\n",
    "\n"
   ]
  },
  {
   "cell_type": "code",
   "execution_count": 64,
   "metadata": {
    "collapsed": false
   },
   "outputs": [],
   "source": [
    "#check VelBCs are where we want them\n",
    "#test = np.zeros(len(tWalls.data))\n",
    "#VelBCs\n",
    "#tWalls.data\n",
    "#tWalls.data[VelBCs.data]\n",
    "#test[np.in1d(tWalls.data, VelBCs.data)] = 1.\n",
    "#test\n",
    "\n"
   ]
  },
  {
   "cell_type": "code",
   "execution_count": null,
   "metadata": {
    "collapsed": false
   },
   "outputs": [],
   "source": []
  },
  {
   "cell_type": "markdown",
   "metadata": {},
   "source": [
    "Swarm setup\n",
    "-----\n"
   ]
  },
  {
   "cell_type": "code",
   "execution_count": 65,
   "metadata": {
    "collapsed": false
   },
   "outputs": [],
   "source": [
    "###########\n",
    "#Material Swarm and variables\n",
    "###########\n",
    "\n",
    "#create material swarm\n",
    "gSwarm = uw.swarm.Swarm(mesh=mesh, particleEscape=True)\n",
    "#vSwarm = uw.swarm.Swarm(mesh=mesh, particleEscape=True)\n",
    "\n",
    "\n",
    "#create swarm variables\n",
    "yieldingCheck = gSwarm.add_variable( dataType=\"int\", count=1 )\n",
    "#tracerVariable = gSwarm.add_variable( dataType=\"int\", count=1)\n",
    "materialVariable = gSwarm.add_variable( dataType=\"int\", count=1 )\n",
    "ageVariable = gSwarm.add_variable( dataType=\"double\", count=1 )\n",
    "#testVariable = gSwarm.add_variable( dataType=\"float\", count=1 )\n",
    "\n",
    "\n",
    "#these lists  are part of the checkpointing implementation\n",
    "varlist = [materialVariable, yieldingCheck, ageVariable]\n",
    "varnames = ['materialVariable', 'yieldingCheck', 'ageVariable']"
   ]
  },
  {
   "cell_type": "code",
   "execution_count": 66,
   "metadata": {
    "collapsed": false
   },
   "outputs": [],
   "source": [
    "mantleIndex = 0\n",
    "crustIndex = 1\n",
    "harzIndex = 2\n",
    "airIndex = 3\n",
    "\n",
    "\n",
    "\n",
    "if checkpointLoad:\n",
    "    checkpointLoadDir = natsort.natsort(checkdirs)[-1]\n",
    "    temperatureField.load(os.path.join(checkpointLoadDir, \"temperatureField\" + \".hdf5\"))\n",
    "    pressureField.load(os.path.join(checkpointLoadDir, \"pressureField\" + \".hdf5\"))\n",
    "    velocityField.load(os.path.join(checkpointLoadDir, \"velocityField\" + \".hdf5\"))\n",
    "    gSwarm.load(os.path.join(checkpointLoadDir, \"swarm\" + \".h5\"))\n",
    "    for ix in range(len(varlist)):\n",
    "        varb = varlist[ix]\n",
    "        varb.load(os.path.join(checkpointLoadDir,varnames[ix] + \".h5\"))\n",
    "\n",
    "else:\n",
    "\n",
    "    # Layouts are used to populate the swarm across the whole domain\n",
    "    layout = uw.swarm.layouts.PerCellRandomLayout(swarm=gSwarm, particlesPerCell=int(md.ppc))\n",
    "    gSwarm.populate_using_layout( layout=layout ) # Now use it to populate.\n",
    "\n",
    "\n",
    "    # Swarm variables\n",
    "    materialVariable.data[:] = mantleIndex\n",
    "    #tracerVariable.data[:] = 1\n",
    "    yieldingCheck.data[:] = 0\n",
    "    ageVariable.data[:] = -1\n",
    "\n",
    "    #Set initial air and crust materials (allow the graph to take care of lithsophere)\n",
    "    #########\n",
    "    #This initial material setup will be model dependent\n",
    "    #########\n",
    "    for particleID in range(gSwarm.particleCoordinates.data.shape[0]):\n",
    "        if (1. - gSwarm.particleCoordinates.data[particleID][1]) < ndp.MANTLETOCRUST:\n",
    "                 materialVariable.data[particleID] = crustIndex\n",
    "                \n",
    "                \n",
    "                \n",
    "#also create a swarm for viewing. This one doesn't need to be checkpointed               \n",
    "#layout1 = uw.swarm.layouts.PerCellRandomLayout(swarm=vSwarm, particlesPerCell=int(md.ppc/8))\n",
    "#vSwarm.populate_using_layout( layout=layout1 ) # Now use it to populate."
   ]
  },
  {
   "cell_type": "code",
   "execution_count": null,
   "metadata": {
    "collapsed": false
   },
   "outputs": [],
   "source": []
  },
  {
   "cell_type": "code",
   "execution_count": 67,
   "metadata": {
    "collapsed": false
   },
   "outputs": [],
   "source": [
    "##############\n",
    "#Set the initial particle age for particles above the critical depth; \n",
    "#only material older than crustageCond will be transformed to crust / harzburgite\n",
    "##############\n",
    "\n",
    "ageVariable.data[:] = 0. #start with all zero\n",
    "ageVariable.data[:] = ageFn.evaluate(gSwarm)/sf.SR\n",
    "crustageCond = 2e6*(3600.*365.*24.)/sf.SR #set inital age above critical depth. (x...Ma)\n",
    "\n",
    "\n",
    "\n",
    "ageConditions = [ (depthFn < ndp.AGETRACKDEPTH, ageVariable),  #In the main loop we add ageVariable + dt here\n",
    "                  (True, 0.) ]\n",
    "                 \n",
    "#apply conditional \n",
    "ageVariable.data[:] = fn.branching.conditional( ageConditions ).evaluate(gSwarm)\n",
    "\n",
    "ageDT = 0.#this is used in the main loop for short term time increments"
   ]
  },
  {
   "cell_type": "code",
   "execution_count": 68,
   "metadata": {
    "collapsed": false
   },
   "outputs": [],
   "source": [
    "#fig= glucifer.Figure()\n",
    "#fig.append( glucifer.objects.Points(gSwarm,ageVariable))\n",
    "#fig.append( glucifer.objects.Points(gSwarm, viscosityMapFn, logScale=True, valueRange =[1e-3,1e5]))\n",
    "\n",
    "#fig.append( glucifer.objects.Surface(mesh, strainRate_2ndInvariant, logScale=True, valueRange =[1e-3,1e5] ))\n",
    "#fig.append( glucifer.objects.VectorArrows(mesh,velocityField, scaling=0.002))\n",
    "#fig.append( glucifer.objects.Surface(mesh,densityMapFn))\n",
    "#fig.append( glucifer.objects.Surface(mesh,raylieghFn))\n",
    "\n",
    "#fig.show()"
   ]
  },
  {
   "cell_type": "code",
   "execution_count": 69,
   "metadata": {
    "collapsed": false
   },
   "outputs": [],
   "source": [
    "##############\n",
    "#Here we set up a directed graph object that we we use to control the transformation from one material type to another\n",
    "##############\n",
    "\n",
    "#All depth conditions are given as (km/D) where D is the length scale,\n",
    "#note that 'model depths' are used, e.g. 1-z, where z is the vertical Underworld coordinate\n",
    "#All temp conditions are in dimensionless temp. [0. - 1.]\n",
    "\n",
    "#Need a list of all material indexes (safer in parallel)\n",
    "material_list = [0,1,2,3]\n",
    "\n",
    "if not checkpointLoad:\n",
    "    materialVariable.data[:] = 0 #Initialize to zero \n",
    "\n",
    "#Setup the graph object\n",
    "DG = material_graph.MatGraph()\n",
    "\n",
    "#Important: First thing to do is to add all the material types to the graph (i.e add nodes)\n",
    "DG.add_nodes_from(material_list)\n",
    "\n",
    "#Now set the conditions for transformations\n",
    "\n",
    "hs = 2e3/dp.LS  #add some hysteresis to the depths of transition\n",
    "\n",
    "#... to mantle\n",
    "DG.add_transition((crustIndex,mantleIndex), depthFn, operator.gt, ndp.CRUSTTOMANTLE + hs)\n",
    "DG.add_transition((harzIndex,mantleIndex), depthFn, operator.gt, ndp.CRUSTTOMANTLE + hs)\n",
    "DG.add_transition((airIndex,mantleIndex), depthFn, operator.gt, ndp.TOPOHEIGHT + hs)\n",
    "\n",
    "#... to crust\n",
    "DG.add_transition((mantleIndex,crustIndex), depthFn, operator.lt, ndp.MANTLETOCRUST)\n",
    "DG.add_transition((mantleIndex,crustIndex), xFn, operator.lt, ndp.subzone) #No crust on the upper plate\n",
    "DG.add_transition((mantleIndex,crustIndex), ageVariable, operator.gt, crustageCond)\n",
    "\n",
    "\n",
    "DG.add_transition((harzIndex,crustIndex), depthFn, operator.lt, ndp.MANTLETOCRUST)\n",
    "DG.add_transition((harzIndex,crustIndex), xFn, operator.lt, ndp.subzone) #This one sets no crust on the upper plate\n",
    "DG.add_transition((harzIndex,crustIndex), ageVariable, operator.gt, crustageCond)\n",
    "\n",
    "#... to Harzbugite\n",
    "DG.add_transition((mantleIndex,harzIndex), depthFn, operator.lt, ndp.HARZBURGDEPTH)\n",
    "DG.add_transition((mantleIndex,harzIndex), depthFn, operator.gt, ndp.MANTLETOCRUST)\n",
    "DG.add_transition((mantleIndex,harzIndex), ageVariable, operator.gt, crustageCond) #Note we can mix functions and swarm variabls\n",
    "\n",
    "#... to air\n",
    "DG.add_transition((mantleIndex,airIndex), depthFn, operator.lt,0. - ndp.TOPOHEIGHT)\n",
    "DG.add_transition((crustIndex,airIndex), depthFn, operator.lt, 0. - ndp.TOPOHEIGHT)\n"
   ]
  },
  {
   "cell_type": "code",
   "execution_count": 70,
   "metadata": {
    "collapsed": false
   },
   "outputs": [],
   "source": [
    "##############\n",
    "#For the slab_IC, we'll also add a crustal weak zone following the dipping perturbation\n",
    "##############\n",
    "\n",
    "if checkpointLoad != True:\n",
    "    if not md.symmetricIcs:\n",
    "        for particleID in range(gSwarm.particleCoordinates.data.shape[0]):\n",
    "            if (\n",
    "                Oc2.evaluate(list(gSwarm.particleCoordinates.data[particleID])) and\n",
    "                Tri.evaluate(list(gSwarm.particleCoordinates.data[particleID])) and\n",
    "                gSwarm.particleCoordinates.data[particleID][1] > (1. - ndp.maxDepth) and\n",
    "                Cc.evaluate(list(gSwarm.particleCoordinates.data[particleID])) == False\n",
    "                \n",
    "                ):\n",
    "                materialVariable.data[particleID] = crustIndex\n",
    "                \n",
    "            elif (\n",
    "                Oc.evaluate(list(gSwarm.particleCoordinates.data[particleID])) and\n",
    "                Tri.evaluate(list(gSwarm.particleCoordinates.data[particleID])) and\n",
    "                gSwarm.particleCoordinates.data[particleID][1] > (1. - ndp.maxDepth) and\n",
    "                Hc.evaluate(list(gSwarm.particleCoordinates.data[particleID])) == False\n",
    "                \n",
    "                ):\n",
    "                materialVariable.data[particleID] = harzIndex"
   ]
  },
  {
   "cell_type": "code",
   "execution_count": 71,
   "metadata": {
    "collapsed": false
   },
   "outputs": [],
   "source": [
    "##############\n",
    "#This is how we use the material graph object to test / apply material transformations\n",
    "##############\n",
    "\n",
    "if not checkpointLoad:\n",
    "    DG.build_condition_list(materialVariable)\n",
    "\n",
    "    for i in range(1): \n",
    "        materialVariable.data[:] = fn.branching.conditional(DG.condition_list).evaluate(gSwarm)"
   ]
  },
  {
   "cell_type": "code",
   "execution_count": 72,
   "metadata": {
    "collapsed": false
   },
   "outputs": [
    {
     "data": {
      "text/html": [
       "<img src='data:image/png;base64,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'>"
      ],
      "text/plain": [
       "<IPython.core.display.HTML object>"
      ]
     },
     "metadata": {},
     "output_type": "display_data"
    },
    {
     "data": {
      "text/plain": [
       "'test.gldb'"
      ]
     },
     "execution_count": 72,
     "metadata": {},
     "output_type": "execute_result"
    }
   ],
   "source": [
    "fig= glucifer.Figure()\n",
    "fig.append( glucifer.objects.Points(gSwarm,temperatureField))\n",
    "#fig.append( glucifer.objects.Surface(mesh, corrTempFn))\n",
    "#fig.show()\n",
    "#fig.save_database('test.gldb')"
   ]
  },
  {
   "cell_type": "markdown",
   "metadata": {
    "collapsed": false
   },
   "source": [
    "## phase and compositional buoyancy"
   ]
  },
  {
   "cell_type": "code",
   "execution_count": 74,
   "metadata": {
    "collapsed": false
   },
   "outputs": [],
   "source": [
    "##############\n",
    "#Set up phase buoyancy contributions\n",
    "#the phase function approach of Yuen and Christenson is implemented in the Slippy2 phase_function class \n",
    "##############\n",
    "\n",
    "\n",
    "#olivine\n",
    "olivinePhase = phase_function.component_phases(name = 'ol', \n",
    "                        depths=[410e3,660e3], #depths of phase transitions along adiabat\n",
    "                        temps = [1600., 1900.], #temperatures of phase transitions along adiabat\n",
    "                        widths = [20e3, 20e3], #width if transition\n",
    "                        claps=[2.e6, -2.5e6],  #Clapeyron slope of trnasition\n",
    "                        densities = [180., 400.]) #density change of phase transition\n",
    "\n",
    "olivinePhase.build_nd_dict(dp.LS, dp.rho, dp.g, dp.deltaTa)\n",
    "\n",
    "\n",
    "rp = olivinePhase.nd_reduced_pressure(depthFn, \n",
    "                                   temperatureField,\n",
    "                                   olivinePhase.ndp['depths'][0],\n",
    "                                   olivinePhase.ndp['claps'][0],\n",
    "                                   olivinePhase.ndp['temps'][0])\n",
    "\n",
    "#ph_410 = olivinePhase.nd_phase(rp, test.ndp['widths'][0])\n",
    "#pf_sum = test.phase_function_sum(temperatureField, depthFn)\n",
    "\n",
    "olivine_phase_buoyancy = olivinePhase.buoyancy_sum(temperatureField, depthFn, dp.g, dp.LS, dp.k, dp.eta0)\n",
    "\n",
    "#garnet\n",
    "garnetPhase = phase_function.component_phases(name = 'grt', \n",
    "                        depths=[60e3,400e3, 720e3],\n",
    "                        temps = [1000., 1600., 1900.], \n",
    "                        widths = [20e3, 20e3, 20e3], \n",
    "                        claps=[0.e6, 1.e6, 1.e6], \n",
    "                        densities = [350., 150., 400.])\n",
    "\n",
    "garnetPhase.build_nd_dict(dp.LS, dp.rho, dp.g, dp.deltaTa)\n",
    "\n",
    "\n",
    "rp = garnetPhase.nd_reduced_pressure(depthFn, \n",
    "                                   temperatureField,\n",
    "                                   garnetPhase.ndp['depths'][0],\n",
    "                                   garnetPhase.ndp['claps'][0],\n",
    "                                   garnetPhase.ndp['temps'][0])\n",
    "\n",
    "#ph_410 = olivinePhase.nd_phase(rp, test.ndp['widths'][0])\n",
    "#pf_sum = test.phase_function_sum(temperatureField, depthFn)\n",
    "\n",
    "garnet_phase_buoyancy = garnetPhase.buoyancy_sum(temperatureField, depthFn, dp.g, dp.LS, dp.k, dp.eta0)"
   ]
  },
  {
   "cell_type": "code",
   "execution_count": null,
   "metadata": {
    "collapsed": true
   },
   "outputs": [],
   "source": []
  },
  {
   "cell_type": "code",
   "execution_count": 75,
   "metadata": {
    "collapsed": false
   },
   "outputs": [],
   "source": [
    "#fig= glucifer.Figure(quality=3)\n",
    "\n",
    "#fig.append( glucifer.objects.Points(gSwarm,olivine_phase_buoyancy/ndp.RA , discrete=True, fn_mask=lithRestFn))\n",
    "#fig.append( glucifer.objects.Surface(mesh,olivine_phase_buoyancy/ndp.RA , discrete=True))\n",
    "#fig.append( glucifer.objects.Points(gSwarm,temperatureField , discrete=True, fn_mask=lithRestFn))\n",
    "\n",
    "#fig.append( glucifer.objects.Mesh(mesh))\n",
    "#fig.show()\n",
    "#fig.save_database('test.gldb')\n",
    "#fig.save_image('active.png')\n",
    "#fig.save_image('active_phase.png')\n"
   ]
  },
  {
   "cell_type": "code",
   "execution_count": null,
   "metadata": {
    "collapsed": false
   },
   "outputs": [],
   "source": []
  },
  {
   "cell_type": "code",
   "execution_count": 76,
   "metadata": {
    "collapsed": false
   },
   "outputs": [],
   "source": [
    "##############\n",
    "#Set up compositional buoyancy contributions\n",
    "##############\n",
    "\n",
    "buoyancy_factor = (dp.g*dp.LS**3)/(dp.eta0*dp.k)\n",
    "\n",
    "basalt_comp_buoyancy  = (dp.rho - 2940.)*buoyancy_factor\n",
    "harz_comp_buoyancy = (dp.rho - 3235.)*buoyancy_factor\n",
    "pyrolite_comp_buoyancy = (dp.rho - 3300.)*buoyancy_factor\n",
    "\n",
    "#print(basalt_comp_buoyancy, harz_comp_buoyancy, pyrolite_comp_buoyancy)\n",
    "\n",
    "\n",
    "#this function accounts for the decrease in expansivity, and acts to reduce the rayleigh number with depth\n",
    "alphaRatio = 1.2/3\n",
    "taFn = 1. - (depthFn)*(1. - alphaRatio) \n",
    "\n",
    "\n",
    "if not md.compBuoyancy:\n",
    "    pyrolitebuoyancyFn =  (ndp.RA*temperatureField*taFn)\n",
    "    harzbuoyancyFn =      (ndp.RA*temperatureField*taFn) \n",
    "    basaltbuoyancyFn =    (ndp.RA*temperatureField*taFn)\n",
    "\n",
    "else : \n",
    "    pyrolitebuoyancyFn =  (ndp.RA*temperatureField*taFn) -\\\n",
    "                          (0.6*olivine_phase_buoyancy + 0.4*garnet_phase_buoyancy) +\\\n",
    "                           pyrolite_comp_buoyancy\n",
    "    harzbuoyancyFn =      (ndp.RA*temperatureField*taFn) -\\\n",
    "                          (0.8*olivine_phase_buoyancy + 0.2*garnet_phase_buoyancy) +\\\n",
    "                           harz_comp_buoyancy\n",
    "    basaltbuoyancyFn =    (ndp.RA*temperatureField*taFn) -\\\n",
    "                          (1.*garnet_phase_buoyancy) +\\\n",
    "                           basalt_comp_buoyancy"
   ]
  },
  {
   "cell_type": "markdown",
   "metadata": {
    "collapsed": false
   },
   "source": [
    "## Faults / interfaces"
   ]
  },
  {
   "cell_type": "code",
   "execution_count": 77,
   "metadata": {
    "collapsed": false
   },
   "outputs": [
    {
     "name": "stderr",
     "output_type": "stream",
     "text": [
      "/workspace/2dthermalslabs/eba/unsupported_dan/interfaces/__init__.py:9: UserWarning: \n",
      "\n",
      "The interface module is not supported.\n",
      "Questions should be addressed to louis.moresi@unimelb.edu.au \n",
      " \n",
      "  Questions should be addressed to louis.moresi@unimelb.edu.au \\n \"\"\"\n",
      "/workspace/2dthermalslabs/eba/unsupported_dan/faults/__init__.py:9: UserWarning: \n",
      "\n",
      "The fault module is not supported.\n",
      "Questions should be addressed to louis.moresi@unimelb.edu.au \n",
      " \n",
      "  Questions should be addressed to louis.moresi@unimelb.edu.au \\n \"\"\"\n"
     ]
    }
   ],
   "source": [
    "from unsupported_dan.interfaces.marker2D import markerLine2D\n",
    "from unsupported_dan.faults.faults2D import fault2D, fault_collection"
   ]
  },
  {
   "cell_type": "code",
   "execution_count": 78,
   "metadata": {
    "collapsed": true
   },
   "outputs": [],
   "source": [
    "def copy_markerLine2D(ml, thickness=False, ID=False):\n",
    "    \n",
    "    \"\"\"\n",
    "    \n",
    "    \"\"\"\n",
    "    if not thickness:\n",
    "        thickness = ml.thickness\n",
    "    if not ID:\n",
    "        ID = -1*ml.ID\n",
    "    new_line = markerLine2D(mesh, velocityField, [], [], thickness,  ID)\n",
    "    if ml.swarm.particleCoordinates.data.shape[0] > 0:\n",
    "        new_line.swarm.add_particles_with_coordinates(ml.swarm.particleCoordinates.data.copy())\n",
    "        \n",
    "    new_line.rebuild()\n",
    "    return new_line"
   ]
  },
  {
   "cell_type": "code",
   "execution_count": 79,
   "metadata": {
    "collapsed": true
   },
   "outputs": [],
   "source": [
    "###########\n",
    "#Initial Coordinates for inerfaces and faults\n",
    "###########\n",
    "\n",
    "#subduction fault\n",
    "introPoint = ndp.subzone - abs(ndp.subzone - ndp.lRidge)/2. #half way between ridge and Sz\n",
    "#faultthickness = ndp.MANTLETOCRUST/2. #initiale fault at half-depth of crust\n",
    "faultthickness = 3.*ndp.MANTLETOCRUST #initialize swarm deeper than crust\n",
    "\n",
    "nfault = 200\n",
    "faultCoords =np.zeros((nfault, 2))\n",
    "\n",
    "reducedRocM = ndp.roc  - faultthickness\n",
    "xlimslab = reducedRocM*math.cos(math.pi*(90. - dp.theta)/180)\n",
    "faultCoords[:, 0] = np.linspace(introPoint, ndp.subzone + xlimslab, nfault) #note SZ location is hardcoded here \n",
    "for index, xval in np.ndenumerate(faultCoords[:,0]):\n",
    "    #print index, xval\n",
    "    #swarmCoords[index[0], 1] = 1. - isodepthFn.evaluate((xval, 0.)) #This bit for the plate \n",
    "    if  xval < ndp.subzone:\n",
    "        faultCoords[index[0], 1] = MAXY - faultthickness #This bit for the plate \n",
    "        \n",
    "    else:\n",
    "        faultCoords[index[0], 1] = (MAXY - (faultthickness) - (reducedRocM - ( math.sqrt((reducedRocM**2 - (xval-ndp.subzone)**2)))))\n",
    "        \n",
    "    \n",
    "faultCoords = faultCoords[faultCoords[:,1] > (MAXY - ndp.maxDepth)] #kill any deeper than cutoff\n",
    "\n",
    "\n",
    "#surface tracer interface:\n",
    "surfaceCoords =np.ones((nfault, 2))*1.\n",
    "surfaceCoords[:,0] = np.linspace(MINX, MAXX, nfault)\n",
    "\n",
    "\n",
    "\n",
    "\n"
   ]
  },
  {
   "cell_type": "code",
   "execution_count": 80,
   "metadata": {
    "collapsed": true
   },
   "outputs": [],
   "source": [
    "#Initiaze the swarms in a \n",
    "fault  = fault2D(mesh, velocityField, [], [], faultthickness, 0., 0., crustIndex)\n",
    "surface  = fault2D(mesh, velocityField, [], [], ndp.StALS, 0., 0., airIndex)\n",
    "#slab_seg  = marker2D.markerLine2D(mesh, velocityField, [], [], 1e9/dp.LS, crustIndex)   #Note very large fault thickness \n",
    "\n",
    "fault_coll = fault_collection([fault])\n",
    "\n",
    "#Initiaze the swarms in a \n",
    "#fault_seg  = marker2D.markerLine2D(mesh, velocityField, [], [], faultthickness, 0.0, 0.0, crustIndex)\n",
    "#surface_seg  = marker2D.markerLine2D(mesh, velocityField, [], [], ndp.StALS, 0.0, 0.0, airIndex)\n",
    "#slab_seg  = marker2D.markerLine2D(mesh, velocityField, [], [], 1e9/dp.LS, 0.0, 0.0, crustIndex)   #Note very large fault thickness\n",
    "\n",
    "#These lists are used to checkpoint the marker lines, similar to the swarm variables.        \n",
    "interfaces = []\n",
    "interfaces.append(fault)\n",
    "interfaces.append(surface)\n",
    "interfacenames = ['fault_seg', 'surface_seg']\n",
    "\n",
    "\n",
    "#If restarting, load the swarms from file Interfaces are just swarms, so should be fine to rely on parallel h5 machinery here\n",
    "if checkpointLoad:\n",
    "    for ix in range(len(interfaces)):\n",
    "        tempname = interfacenames[ix]\n",
    "        interfaces[ix].swarm.load(os.path.join(checkpointLoadDir,  tempname + \".h5\"))\n",
    "\n",
    "#otherwise add the point from at the initial locations\n",
    "else:\n",
    "    fault.add_points(faultCoords[:, 0], faultCoords[:, 1])\n",
    "    surface.add_points(surfaceCoords[:, 0], surfaceCoords[:, 1])\n",
    "    #slab_seg.add_points(slabCoords[:, 0], slabCoords[:, 1]) \n",
    "    \n",
    "\n",
    "#rebuild the fault, necessary to swicth off empty flag., if starting fom checkpoint\n",
    "    \n",
    "fault.rebuild()\n",
    "surface.rebuild()\n"
   ]
  },
  {
   "cell_type": "code",
   "execution_count": 105,
   "metadata": {
    "collapsed": true
   },
   "outputs": [],
   "source": [
    "#Add variables to the surface swarm\n",
    "surfaceVelx = surface.swarm.add_variable( dataType=\"float\", count=1 )\n",
    "surfaceVelx.data[...] = velocityField[0].evaluate(surface.swarm)\n",
    "\n",
    "\n",
    "surfaceStressY = surface.swarm.add_variable( dataType=\"float\", count=1 )\n",
    "#this one needs interpolation ... do in main loop"
   ]
  },
  {
   "cell_type": "code",
   "execution_count": 82,
   "metadata": {
    "collapsed": true
   },
   "outputs": [],
   "source": [
    "#Add the necessary swarm variables\n",
    "#note that these swarm vars. don't get checkpointed, they should rebuild from model state\n",
    "\n",
    "proximityVariable      = gSwarm.add_variable( dataType=\"int\", count=1 )\n",
    "signedDistanceVariable = gSwarm.add_variable( dataType=\"float\", count=1 )\n",
    "directorVector   = gSwarm.add_variable( dataType=\"double\", count=2)\n",
    "\n",
    "directorVector.data[:,:] = 0.0\n",
    "proximityVariable.data[:] = 0\n",
    "signedDistanceVariable.data[:] = 0.0"
   ]
  },
  {
   "cell_type": "code",
   "execution_count": 83,
   "metadata": {
    "collapsed": true
   },
   "outputs": [],
   "source": [
    "#inform the mesh of the fault\n",
    "\n",
    "sd, pts0 = fault.compute_signed_distance(gSwarm.particleCoordinates.data, distance=w0)\n",
    "sp, pts0 = fault.compute_marker_proximity(gSwarm.particleCoordinates.data)\n",
    "\n",
    "proximityVariable.data[np.logical_and(sd<0,sp == fault.ID)] = sp[np.logical_and(sd<0,sp == fault.ID)]\n",
    "\n",
    "dv, nzv = fault.compute_normals(gSwarm.particleCoordinates.data)\n",
    "directorVector.data[nzv] = dv[nzv]\n",
    "\n",
    "\n",
    "\n",
    "\n",
    "edotn_SFn, edots_SFn = fault_coll.global_fault_strainrate_fns(velocityField, directorVector, proximityVariable)\n"
   ]
  },
  {
   "cell_type": "markdown",
   "metadata": {},
   "source": [
    "Rheology\n",
    "-----\n",
    "\n"
   ]
  },
  {
   "cell_type": "code",
   "execution_count": 84,
   "metadata": {
    "collapsed": false
   },
   "outputs": [],
   "source": [
    "##############\n",
    "#Set up any functions required by the rheology\n",
    "##############\n",
    "\n",
    "sym_strainRate = fn.tensor.symmetric( \n",
    "                            velocityField.fn_gradient )\n",
    "\n",
    "strainRate_2ndInvariant = fn.tensor.second_invariant( \n",
    "                            sym_strainRate)/md.secInvFac # secInvFac sometimes required if differnet definition of eii is used.\n",
    "\n",
    "def safe_visc(func, viscmin=ndp.eta_min, viscmax=ndp.eta_max):\n",
    "    return fn.misc.max(viscmin, fn.misc.min(viscmax, func))"
   ]
  },
  {
   "cell_type": "code",
   "execution_count": 88,
   "metadata": {
    "collapsed": false
   },
   "outputs": [],
   "source": [
    "############\n",
    "#Rheology: create UW2 functions for all viscous mechanisms\n",
    "#############\n",
    "\n",
    "omega = fn.misc.constant(1.) #this function can hold any arbitary viscosity modifications \n",
    "\n",
    "\n",
    "##Diffusion Creep\n",
    "diffusion = (1./ndp.Adf ) *fn.math.exp( ((ndp.Edf + (depthFn*ndp.Wdf))/((temperatureField+ ndp.TS)))) \n",
    "\n",
    "\n",
    "##Diffusion Creep\n",
    "lmdiffusion = (1./ndp.Alm ) *fn.math.exp( ((ndp.Elm + (depthFn*ndp.Wlm))/((temperatureField+ ndp.TS)))) \n",
    "\n",
    "\n",
    "\n",
    "linearVisc = safe_visc(diffusion)\n",
    "\n",
    "##Dislocation Creep\n",
    "pefac = (ndp.Ads**((-1./ndp.n)))\n",
    "srfac = strainRate_2ndInvariant**((1.-ndp.n)/ndp.n)\n",
    "dislocation = pefac*srfac*fn.math.exp( ((ndp.Eds + (depthFn*ndp.Wds))/(ndp.n*(temperatureField + ndp.TS))))\n",
    "\n",
    "\n",
    "##Peirls Creep\n",
    "pefac = (ndp.Apr**((-1./ndp.np)))\n",
    "srfac = strainRate_2ndInvariant**((1.-ndp.np)/ndp.np)\n",
    "peierls = pefac*srfac*fn.math.exp( ((ndp.Eps + (depthFn*ndp.Wps))/(ndp.np*(temperatureField+ ndp.TS))))\n",
    "\n",
    "\n",
    "##Define the mantle Plasticity\n",
    "ys =  ndp.cm + (depthFn*ndp.fcmd)\n",
    "ysf = fn.misc.min(ys, ndp.ysMax)\n",
    "yielding = ysf/(2.*(strainRate_2ndInvariant)) \n",
    "\n",
    "##Crust rheology\n",
    "crustys =  ndp.cc + (depthFn*ndp.fccd)\n",
    "crustysf = fn.misc.min(crustys, ndp.ysMax)\n",
    "crustyielding = crustysf/(2.*(strainRate_2ndInvariant)) \n"
   ]
  },
  {
   "cell_type": "code",
   "execution_count": 89,
   "metadata": {
    "collapsed": false
   },
   "outputs": [],
   "source": [
    "#crustyielding.evaluate(mesh).min(), crustyielding.evaluate(mesh).mean(),crustyielding.evaluate(mesh).max()\n",
    "#finalcrustviscosityFn.evaluate(mesh).min(),finalcrustviscosityFn.evaluate(mesh).max(), finalcrustviscosityFn.evaluate(mesh).mean()\n",
    "#strainRate_2ndInvariant.evaluate(mesh).min(), strainRate_2ndInvariant.evaluate(mesh).mean(), strainRate_2ndInvariant.evaluate(mesh).max()\n",
    "#safe_visc(diffusion).evaluate(mesh).mean()\n",
    "#interfaceviscosityFn.evaluate(mesh).min(), interfaceviscosityFn.evaluate(mesh).max(), interfaceviscosityFn.evaluate(mesh).mean()\n",
    "#interfaceyielding.evaluate(mesh).min(), interfaceyielding.evaluate(mesh).mean(), interfaceyielding.evaluate(mesh).max()\n",
    "#ndp.eta_min, ndp.eta_max_interface\n",
    "#finalviscosityFn.evaluate(mesh).min(),finalviscosityFn.evaluate(mesh).max(), finalviscosityFn.evaluate(mesh).mean()\n"
   ]
  },
  {
   "cell_type": "code",
   "execution_count": 90,
   "metadata": {
    "collapsed": true
   },
   "outputs": [],
   "source": [
    "############\n",
    "#Rheology: combine viscous mechanisms in various ways \n",
    "#harmonic: harmonic average of all mechanims\n",
    "#min: minimum effective viscosity of the mechanims\n",
    "#mixed: takes the minimum of the harmonic and the plastic effective viscosity\n",
    "#############\n",
    "\n",
    "#Map viscMechs list (defined in setup), to the actual functions, requires that same names are used.\n",
    "viscdict = {}\n",
    "for i in md.viscMechs:\n",
    "    viscdict[i] = locals()[i]\n",
    "\n",
    "   \n",
    "    \n",
    "#Harmonic average of all mechanisms    \n",
    "if md.viscCombine == 'harmonic':\n",
    "    denom = fn.misc.constant(0.)\n",
    "    for mech in viscdict.values():\n",
    "        denom += 1./mech\n",
    "    mantleviscosityFn = safe_visc(1./denom)\n",
    "    harmonic_test = mantleviscosityFn\n",
    "    #Only diffusuion creep for lower mantle\n",
    "    finalviscosityFn  = fn.branching.conditional([(depthFn < ndp.LOWMANTLEDEPTH, mantleviscosityFn),\n",
    "                                  (True, safe_visc(lmdiffusion*ndp.low_mantle_visc_fac))])\n",
    "\n",
    "    #Add the weaker crust mechanism, plus any cutoffs\n",
    "    crust_denom = denom + (1./crustyielding)\n",
    "    crustviscosityFn = safe_visc(1./crust_denom, viscmin=ndp.eta_min_crust, viscmax=ndp.eta_max_crust)\n",
    "    #Crust viscosity only active above between CRUSTVISCUTOFF and MANTLETOCRUST\n",
    "    finalcrustviscosityFn  = fn.branching.conditional([(depthFn < ndp.CRUSTVISCUTOFF, crustviscosityFn),\n",
    "                                                     (True, finalviscosityFn)])\n",
    "\n",
    "    \n",
    "    \n",
    "if md.viscCombine == 'min':\n",
    "    mantleviscosityFn = fn.misc.constant(ndp.eta_max)\n",
    "    for mech in viscdict.values():\n",
    "        mantleviscosityFn = fn.misc.min(mech, mantleviscosityFn )\n",
    "    mantleviscosityFn = safe_visc(mantleviscosityFn)\n",
    "    min_test = mantleviscosityFn\n",
    "    #Only diffusion creep for lower mantle\n",
    "    finalviscosityFn  = fn.branching.conditional([(depthFn < ndp.LOWMANTLEDEPTH, mantleviscosityFn),\n",
    "                                  (True, safe_visc(lmdiffusion*ndp.low_mantle_visc_fac))])\n",
    "    #Add the weaker crust and interface mechanisms, plus any cutoffs\n",
    "    crustviscosityFn = safe_visc(fn.misc.min(finalviscosityFn, crustyielding), viscmin=ndp.eta_min, viscmax=ndp.eta_max_crust)\n",
    "    #Crust viscosity only active above between CRUSTVISCUTOFF and MANTLETOCRUST\n",
    "    finalcrustviscosityFn  = fn.branching.conditional([(depthFn < ndp.CRUSTVISCUTOFF, crustviscosityFn),\n",
    "                                                     (True, finalviscosityFn)])\n",
    "\n",
    "if md.viscCombine == 'mixed':\n",
    "    denom = fn.misc.constant(0.)\n",
    "    for mech in viscdict.values():\n",
    "        denom += 1./mech\n",
    "    mantleviscosityFn = safe_visc(fn.misc.min(yielding, (1./denom))) #min of harmonic average and yielding\n",
    "    mixed_test = mantleviscosityFn\n",
    "    #Only diffusuion creep for lower mantle\n",
    "    finalviscosityFn  = fn.branching.conditional([(depthFn < ndp.LOWMANTLEDEPTH, mantleviscosityFn),\n",
    "                                  (True, safe_visc(lmdiffusion*ndp.low_mantle_visc_fac))])\n",
    "    \n",
    "    #Add the weaker crust mechanism, plus any cutoffs\n",
    "    crust_denom = denom + (1./crustyielding)\n",
    "    crustviscosityFn = safe_visc(fn.misc.min(crustyielding,1./crust_denom), viscmin=ndp.eta_min, viscmax=ndp.eta_max_crust)\n",
    "    #Crust viscosity only active above between CRUSTVISCUTOFF and MANTLETOCRUST\n",
    "    finalcrustviscosityFn  = fn.branching.conditional([(depthFn < ndp.CRUSTVISCUTOFF, crustviscosityFn),\n",
    "                                                     (True, finalviscosityFn)])"
   ]
  },
  {
   "cell_type": "code",
   "execution_count": 91,
   "metadata": {
    "collapsed": false
   },
   "outputs": [],
   "source": [
    "#Check the implementation above, using a simpler formulation\n",
    "\n",
    "\n",
    "#denoms1 =  ((1./diffusion) + (1./dislocation) + (1./peierls) + (1./yielding) )\n",
    "#mantleviscosityFn1 = safe_visc((1./denoms1) )\n",
    "#finalviscosityFn1  = fn.branching.conditional([(depthFn < ndp.LOWMANTLEDEPTH, mantleviscosityFn),\n",
    "#                                  (True, safe_visc(lmdiffusion*ndp.low_mantle_visc_fac))])\n",
    "\n",
    "#crust_denoms1 = ((1./diffusion) + (1./dislocation) + (1./peierls) + (1./crustyielding) )\n",
    "#crustviscosityFn1 = safe_visc(1./crust_denoms1, viscmin=ndp.eta_max_crust, viscmax=ndp.eta_max_crust)\n",
    "#finalcrustviscosityFn1  = fn.branching.conditional([(depthFn < ndp.CRUSTVISCUTOFF, crustviscosityFn1),\n",
    "#                                                     (True, finalviscosityFn1)])\n"
   ]
  },
  {
   "cell_type": "code",
   "execution_count": 92,
   "metadata": {
    "collapsed": false
   },
   "outputs": [],
   "source": [
    "#viscMinConditions = fn.misc.min(diffusion, dislocation, peierls, yielding)\n",
    "\n",
    "viscMin = fn.misc.constant(ndp.eta_max)\n",
    "#Generate the minimum viscosity function \n",
    "for mech in [safe_visc(diffusion), safe_visc(dislocation), safe_visc(peierls), safe_visc(yielding)]:\n",
    "    viscMin = fn.misc.min(mech, viscMin) \n",
    "    \n",
    "dm = 1e-5\n",
    "   \n",
    "    \n",
    "viscMinConditions = [ ( operator.and_((viscMin > (ndp.eta_max - dm) ),\n",
    "                           (viscMin < (ndp.eta_max + dm) ))  , 0),  #visc = ndp.eta_max\n",
    "                      ( operator.and_((viscMin > (diffusion - dm) ),\n",
    "                           (viscMin < (diffusion + dm) ))  , 1),  #visc = diffusion\n",
    "                      ( operator.and_((viscMin > (dislocation - dm) ),\n",
    "                           (viscMin < (dislocation + dm) ))  , 2),#visc = dislocation\n",
    "                      ( operator.and_((viscMin > (peierls - dm) ),\n",
    "                           (viscMin < (peierls + dm) ))  , 3),    #visc = peierls\n",
    "                      ( operator.and_((viscMin > (yielding - dm) ),\n",
    "                           (viscMin < (yielding + dm) ))  , 4),   #visc = yielding\n",
    "                      ( True                                           , 5) ] #visc = eta_min (should be)\n",
    "\n",
    "\n",
    "\n",
    "\n",
    "# use the branching conditional function to set each particle's index\n",
    "fnViscMin = fn.branching.conditional( viscMinConditions )\n",
    "\n"
   ]
  },
  {
   "cell_type": "markdown",
   "metadata": {},
   "source": [
    "Stokes system setup\n",
    "-----\n"
   ]
  },
  {
   "cell_type": "code",
   "execution_count": 93,
   "metadata": {
    "collapsed": false
   },
   "outputs": [],
   "source": [
    "densityMapFn = fn.branching.map( fn_key = materialVariable,\n",
    "                         mapping = {airIndex:ndp.StRA,\n",
    "                                    crustIndex:basaltbuoyancyFn, \n",
    "                                    mantleIndex:pyrolitebuoyancyFn,\n",
    "                                    harzIndex:harzbuoyancyFn} )"
   ]
  },
  {
   "cell_type": "code",
   "execution_count": 94,
   "metadata": {
    "collapsed": true
   },
   "outputs": [],
   "source": [
    "\n",
    "# Define our vertical unit vector using a python tuple (this will be automatically converted to a function).\n",
    "gravity = ( 0.0, 1.0 )\n",
    "\n",
    "# Now create a buoyancy force vector using the density and the vertical unit vector. \n",
    "buoyancyFn = densityMapFn * gravity"
   ]
  },
  {
   "cell_type": "code",
   "execution_count": 67,
   "metadata": {
    "collapsed": false
   },
   "outputs": [
    {
     "name": "stderr",
     "output_type": "stream",
     "text": [
      "/root/underworld2/underworld/systems/_stokes.py:70: UserWarning: 'swarm' paramater has been renamed to 'voronoi_swarm'. Please update your models. 'swarm' parameter will be removed in the next release.\n",
      "  \"'swarm' parameter will be removed in the next release.\")\n"
     ]
    }
   ],
   "source": [
    "if md.PIC_integration:\n",
    "    stokesPIC = uw.systems.Stokes(velocityField=velocityField, \n",
    "                              pressureField=pressureField,\n",
    "                              conditions=[freeslipBC,],\n",
    "                              fn_viscosity=linearVisc, \n",
    "                              fn_bodyforce=buoyancyFn,\n",
    "                             swarm=gSwarm)\n",
    "    \n",
    "\n",
    "else:\n",
    "    stokesPIC = uw.systems.Stokes(velocityField=velocityField, \n",
    "                              pressureField=pressureField,\n",
    "                              conditions=[freeslipBC,],\n",
    "                              fn_viscosity=linearVisc, \n",
    "                              fn_bodyforce=buoyancyFn )"
   ]
  },
  {
   "cell_type": "code",
   "execution_count": 68,
   "metadata": {
    "collapsed": true
   },
   "outputs": [],
   "source": [
    "solver = uw.systems.Solver(stokesPIC)\n",
    "if not checkpointLoad:\n",
    "    solver.solve() #A solve on the linear visocisty is unhelpful unless we're starting from scratch"
   ]
  },
  {
   "cell_type": "code",
   "execution_count": 95,
   "metadata": {
    "collapsed": false
   },
   "outputs": [],
   "source": [
    "viscosityMapFn = fn.branching.map( fn_key = materialVariable,\n",
    "                         mapping = {crustIndex:finalcrustviscosityFn,\n",
    "                                    mantleIndex:finalviscosityFn,\n",
    "                                    harzIndex:finalviscosityFn} )\n",
    "\n"
   ]
  },
  {
   "cell_type": "code",
   "execution_count": 70,
   "metadata": {
    "collapsed": true
   },
   "outputs": [],
   "source": [
    "#Add the non-linear viscosity to the Stokes system\n",
    "stokesPIC.fn_viscosity = viscosityMapFn"
   ]
  },
  {
   "cell_type": "code",
   "execution_count": 71,
   "metadata": {
    "collapsed": false
   },
   "outputs": [
    {
     "name": "stdout",
     "output_type": "stream",
     "text": [
      "\u001b[1;35m\n",
      " \n",
      "Pressure iterations:   3\n",
      "Velocity iterations:   1 (presolve)      \n",
      "Velocity iterations:  -1 (pressure solve)\n",
      "Velocity iterations:   1 (backsolve)     \n",
      "Velocity iterations:   1 (total solve)   \n",
      " \n",
      "SCR RHS  solve time: 7.2066e-01\n",
      "Pressure solve time: 6.1724e-02\n",
      "Velocity solve time: 7.1025e-01 (backsolve)\n",
      "Total solve time   : 1.6283e+00\n",
      " \n",
      "Velocity solution min/max: 0.0000e+00/0.0000e+00\n",
      "Pressure solution min/max: 0.0000e+00/0.0000e+00\n",
      " \n",
      "\u001b[00m\n"
     ]
    }
   ],
   "source": [
    "solver.set_inner_method(\"mumps\")\n",
    "solver.options.scr.ksp_type=\"cg\"\n",
    "solver.set_penalty(1.0e7)\n",
    "solver.options.scr.ksp_rtol = 1.0e-4\n",
    "solver.solve(nonLinearIterate=True)\n",
    "solver.print_stats()"
   ]
  },
  {
   "cell_type": "code",
   "execution_count": null,
   "metadata": {
    "collapsed": true
   },
   "outputs": [],
   "source": []
  },
  {
   "cell_type": "code",
   "execution_count": 72,
   "metadata": {
    "collapsed": false
   },
   "outputs": [],
   "source": [
    "#Check which particles are yielding\n",
    "#yieldingCheck.data[:] = 0\n",
    "\n",
    "#yieldconditions = [ ( mantleviscosityFn < Visc , 1), \n",
    "#               ( True                                           , 0) ]\n",
    "\n",
    "# use the branching conditional function to set each particle's index\n",
    "#yieldingCheck.data[:] = fn.branching.conditional( yieldconditions ).evaluate(gSwarm)"
   ]
  },
  {
   "cell_type": "code",
   "execution_count": 73,
   "metadata": {
    "collapsed": false,
    "scrolled": true
   },
   "outputs": [],
   "source": [
    "#fig= glucifer.Figure()\n",
    "#fig.append( glucifer.objects.Points(gSwarm,lowerPlateRestFn))\n",
    "#fig.append( glucifer.objects.Points(gSwarm, diffusion, logScale=True, valueRange =[1e-1,1e5]))\n",
    "#fig.append( glucifer.objects.Surface(mesh, temperatureField ))#\n",
    "#fig.append( glucifer.objects.VectorArrows(mesh,velocityField, scaling=0.002))\n",
    "#fig.append( glucifer.objects.Surface(mesh,densityMapFn))\n",
    "#fig.append( glucifer.objects.Surface(mesh,raylieghFn))\n",
    "#fig.append( glucifer.objects.Points(swarmPlateBoundary, pointSize=4))\n",
    "#fig.show()\n",
    "#fig.save_database('test.gldb')"
   ]
  },
  {
   "cell_type": "markdown",
   "metadata": {},
   "source": [
    "## Set up principal stress vectors\n"
   ]
  },
  {
   "cell_type": "code",
   "execution_count": 76,
   "metadata": {
    "collapsed": true
   },
   "outputs": [],
   "source": [
    "def eig2d(sigma):\n",
    "\n",
    "    \"\"\"\n",
    "    Input: sigma, symmetric tensor, numpy array of length 3, with xx yy xy compenents\n",
    "    \n",
    "    Output:\n",
    "    \n",
    "    s1: first major stress fms will be the most extensive\n",
    "    s2: second major stress the least extensive, most compressive\n",
    "    deg: angle to the first major stress axis (most extensive in degrees anticlockwise from horizontal axis - x)\n",
    "    \"\"\"\n",
    " \n",
    "\n",
    "    s11=sigma[0]\n",
    "    #s12=sigma[2]/2.  #(engineering strain/stress)\n",
    "    s12=sigma[2]\n",
    "    s22=sigma[1]\n",
    "\n",
    "    fac = 28.64788975654116; #90/pi - 2theta conversion\n",
    "\n",
    "    x1 = (s11 + s22)/2.0;\n",
    "    x2 = (s11 - s22)/2.0;\n",
    "    R = x2 * x2 + s12 * s12;\n",
    "    \n",
    "    #Get the stresses \n",
    "    if(R > 0.0):         #if shear stress is not zero\n",
    "        R = np.sqrt(R);\n",
    "        s1 = x1 + R;\n",
    "        s2 = x1 - R;\n",
    "    else:\n",
    "        s1 = x1;        #if shear stress is zero\n",
    "        s2 = x1;\n",
    "\n",
    "    if(x2 != 0.0):   \n",
    "        deg = fac * math.atan2(s12,x2); #Return the arc tangent (measured in radians) of y/x. The fac contains the 2-theta    \n",
    "    #else, the normal componets are equa - we are at the angle of maximum shear stress\n",
    "    elif s12 <= 0.0: \n",
    "        deg= -45.0;\n",
    "    else:\n",
    "        deg=  45.0;\n",
    "    return s1, s2, deg"
   ]
  },
  {
   "cell_type": "code",
   "execution_count": 77,
   "metadata": {
    "collapsed": false
   },
   "outputs": [],
   "source": [
    "eig1       = uw.mesh.MeshVariable( mesh=mesh,         nodeDofCount=2 )\n",
    "eig2       = uw.mesh.MeshVariable( mesh=mesh,         nodeDofCount=2 )\n",
    "\n",
    "ssr = sym_strainRate.evaluate(mesh)\n",
    "\n",
    "\n",
    "principalAngles  = np.apply_along_axis(eig2d, 1, ssr[:, :])[:,2]\n",
    "\n",
    "\n",
    "eig1.data[:,0] = np.cos(np.radians(principalAngles - 90.)) #most compressive \n",
    "eig1.data[:,1] = np.sin(np.radians(principalAngles - 90.))\n",
    "\n",
    "eig2.data[:,0] = np.cos(np.radians(principalAngles ))      #most extensive\n",
    "eig2.data[:,1] = np.sin(np.radians(principalAngles ))"
   ]
  },
  {
   "cell_type": "markdown",
   "metadata": {
    "collapsed": true
   },
   "source": [
    "## Stress variable"
   ]
  },
  {
   "cell_type": "code",
   "execution_count": 96,
   "metadata": {
    "collapsed": true
   },
   "outputs": [],
   "source": [
    "from scipy.spatial import cKDTree as kdTree\n",
    "\n",
    "\n",
    "def nn_evaluation(fromSwarm, _data, n=1, weighted=False):\n",
    "\n",
    "    \"\"\"\n",
    "    This function provides nearest neighbour information for uw swarms,\n",
    "    given the \"_data\", which could be the .data handle (coordinates) of a mesh or a differnet swarm, this function returns the indices of the n nearest neighbours in \"fromSwarm\"\n",
    "    it also returns the inverse-distance if weighted=True.\n",
    "\n",
    "    The function works in parallel.   \n",
    "\n",
    "    The arrays come out a bit differently when used in nearest neighbour form\n",
    "    (n = 1), or IDW: (n > 1). The examples belowe show how to fill out a swarm variable in each case.\n",
    "\n",
    "\n",
    "    Usage n = 1:\n",
    "    ------------\n",
    "    ix, weights = nn_evaluation(swarm, mesh.data, n=n, weighted=False)\n",
    "    toSwarmVar.data[:][:,0] =  fromSwarmVar.evaluate(fromSwarm)[_ix][:,0]\n",
    "\n",
    "    Usage n > 1:\n",
    "    ------------\n",
    "    ix, weights = nn_evaluation(swarm, toSwarm.particleCoordinates.data, n=n, weighted=False)\n",
    "    toSwarmVar.data[:][:,0] =  np.average(fromSwarmVar.evaluate(fromSwarm)[ix][:,:,0], weights=weights, axis=1)\n",
    "\n",
    "    \"\"\" \n",
    "\n",
    "\n",
    "    #print(\"fromSwarm data shape\", fromSwarm.particleCoordinates.data.shape)\n",
    "\n",
    "    if len(_data) > 0: #this is required for safety in parallel\n",
    "\n",
    "        #we rebuild the tree as we assume the fromSwarm is being advected\n",
    "        fromSwarm.tree = kdTree(fromSwarm.particleCoordinates.data)\n",
    "        tree = fromSwarm.tree\n",
    "        d, ix = tree.query(_data, n)\n",
    "        if n == 1:\n",
    "            weights = np.ones(_data.shape[0])\n",
    "        elif not weighted:\n",
    "            weights = np.ones((_data.shape[0], n))*(1./n)\n",
    "        else:\n",
    "            weights = (1./d[:])/(1./d[:]).sum(axis=1)[:,None]\n",
    "        return ix,  weights\n",
    "    else:\n",
    "        return  np.empty(0., dtype=\"int\"),  np.empty(0., dtype=\"int\")"
   ]
  },
  {
   "cell_type": "code",
   "execution_count": null,
   "metadata": {
    "collapsed": true
   },
   "outputs": [],
   "source": []
  },
  {
   "cell_type": "code",
   "execution_count": 106,
   "metadata": {
    "collapsed": false
   },
   "outputs": [],
   "source": [
    "_ix, _weights = nn_evaluation(gSwarm, mesh.data, n=5, weighted=True)\n",
    "\n",
    "# create a variable to hold sigma_xx\n",
    "stressField    = uw.mesh.MeshVariable( mesh=mesh,         nodeDofCount=1 )\n",
    "stressVariableFn =  2.*sym_strainRate[0]*viscosityMapFn\n",
    "#stressField.data[:,0] = np.average(stressVariableFn.evaluate(gSwarm)[_ix][:,:,0],weights=_weights, axis=1)"
   ]
  },
  {
   "cell_type": "code",
   "execution_count": null,
   "metadata": {
    "collapsed": false
   },
   "outputs": [],
   "source": []
  },
  {
   "cell_type": "code",
   "execution_count": 107,
   "metadata": {
    "collapsed": false
   },
   "outputs": [],
   "source": [
    "_ix1, _weights1 = nn_evaluation(gSwarm, surface.swarm.particleCoordinates.data, n=5, weighted=True)\n",
    "\n",
    "\n",
    "stressYFn =  2.*sym_strainRate[1]*viscosityMapFn\n",
    "#surfaceStressY.data[:,0] = np.average(stressYFn.evaluate(gSwarm)[_ix1][:,:,0],weights=_weights1, axis=1)"
   ]
  },
  {
   "cell_type": "markdown",
   "metadata": {},
   "source": [
    "Advection-diffusion System setup\n",
    "-----"
   ]
  },
  {
   "cell_type": "code",
   "execution_count": 127,
   "metadata": {
    "collapsed": false
   },
   "outputs": [],
   "source": [
    "advDiff = uw.systems.AdvectionDiffusion( phiField       = temperatureField, \n",
    "                                         phiDotField    = temperatureDotField, \n",
    "                                         velocityField  = velocityField,\n",
    "                                         fn_sourceTerm    = 0.0,\n",
    "                                         fn_diffusivity = 1.0, \n",
    "                                         #conditions     = [neumannTempBC, dirichTempBC] )\n",
    "                                         conditions     = [ dirichTempBC] )\n",
    "order = 2\n",
    "if md.periodicBcs:\n",
    "    order = 1\n",
    "\n",
    "materialadvector = uw.systems.SwarmAdvector( swarm         = gSwarm, \n",
    "                                     velocityField = velocityField, \n",
    "                                     order         = order)"
   ]
  },
  {
   "cell_type": "code",
   "execution_count": 128,
   "metadata": {
    "collapsed": false
   },
   "outputs": [],
   "source": [
    "#population_control = uw.swarm.PopulationControl(gSwarm,deleteThreshold=0.2,splitThreshold=1.,maxDeletions=3,maxSplits=0, aggressive=True, particlesPerCell=int(md.ppc))\n",
    "\n",
    "population_control = uw.swarm.PopulationControl(gSwarm,deleteThreshold=0.006,splitThreshold=0.1,maxDeletions=int(md.ppc/5),maxSplits=int(md.ppc/5), aggressive=True,aggressiveThreshold=0.9, particlesPerCell=int(md.ppc))"
   ]
  },
  {
   "cell_type": "markdown",
   "metadata": {
    "collapsed": false
   },
   "source": [
    "############\n",
    "#Slightly Diffuse the initial perturbation\n",
    "#############\n",
    "\n",
    "#I was playing around with a tailored diffusivity to target the slab\n",
    "\n",
    "inCircleFnGenerator#Now build the perturbation part\n",
    "def htan(centre, radius, widthPh, farVal = 0.01, fac = 10.):\n",
    "    coord = fn.input()\n",
    "    offsetFn = coord - centre\n",
    "    dist = fn.math.sqrt(fn.math.dot( offsetFn, offsetFn ))\n",
    "    \n",
    "    \n",
    "    return (((fn.math.tanh(((radius - dist))/widthPh) + 1.) /2.))*fac + farVal\n",
    "\n",
    "tfun = htan((0.1, 0.9), 0.1, 0.1, 0.1)\n",
    "\n",
    "for index in mesh.specialSets[\"MinJ_VertexSet\"]:\n",
    "    temperatureField.data[index] = \n",
    "for index in mesh.specialSets[\"MaxJ_VertexSet\"]:\n",
    "    temperatureField.data[index] = \n",
    "\n",
    "timetoDifffuse = 0.#Million years\n",
    "incrementtoDiffuse = 0.2 #Million years\n",
    "\n",
    "timetoDifffuse = (timetoDifffuse*1e6*(spery)/sf.SR).magnitude\n",
    "incrementtoDiffuse = (incrementtoDiffuse*1e6*(spery)/sf.SR).magnitude\n",
    "\n",
    "totAdt = 0.\n",
    "it = 0\n",
    "while totAdt < timetoDifffuse:\n",
    "    dtad = advDiff.get_max_dt()\n",
    "    print(\"step\") + str(it) \n",
    "    advDiff.integrate(incrementtoDiffuse)\n",
    "    totAdt += incrementtoDiffuse\n",
    "    it += 1\n",
    "    \n",
    "#Reset Boundary conds.   \n",
    "for index in mesh.specialSets[\"MinJ_VertexSet\"]:\n",
    "    temperatureField.data[index] = ndp.TBP\n",
    "for index in mesh.specialSets[\"MaxJ_VertexSet\"]:\n",
    "    temperatureField.data[index] = ndp.TSP\n",
    "    \n",
    "comm.Barrier()"
   ]
  },
  {
   "cell_type": "markdown",
   "metadata": {},
   "source": [
    "Analysis functions / routines\n",
    "-----\n",
    "\n",
    "Most of the metrics we want to calculate are either:\n",
    "\n",
    "* extrema of some field / function\n",
    "* integral of some field / function\n",
    "* average value of some function (integral divide by area)\n",
    "\n",
    "In addition, we also want to be able to determine these metrics over some restricted part of the domain, where the restriction may either be due some value of a field, a material type, or something more arbitrary.\n",
    "\n",
    "Much of he challenge lies in defining these restriction functions in an efficient and robust way (i.e they don't break down as the model evolves)\n",
    "\n",
    "For volume integrals, and extrema, we build a hierarchy of restriction functions, each borrowing from the previous, until we have divided the domain into a number of sub regions of interest. \n",
    "\n",
    "In general, averages are found afterwards by combining the integral and the area of the relavent subregion"
   ]
  },
  {
   "cell_type": "code",
   "execution_count": 69,
   "metadata": {
    "collapsed": false
   },
   "outputs": [],
   "source": [
    "###################\n",
    "#Volume Restriction functions\n",
    "###################\n",
    "\n",
    "#Level 1. Global\n",
    "globRestFn = fn.misc.constant(1.)\n",
    "\n",
    "#Level 2. Rock - air:\n",
    "rockRestFn = uw.swarm.SwarmVariable(gSwarm, dataType='double', count=1)\n",
    "rockRestFn.data[:] = 0.\n",
    "rockRestFn.data[np.where(materialVariable.data[:] != airIndex)] = 1.\n",
    "rockRestFn *= globRestFn #Add next level up in heirarchy\n",
    "\n",
    "\n",
    "#Level 3. lithosphere - mantle:\n",
    "mantleconditions = [ (                                  operator.and_(temperatureField < 0.9*ndp.TPP, operator.and_(xFn> ndp.lRidge,xFn< ndp.rRidge )), 1.),\n",
    "                   (                                                   True , 0.) ]\n",
    "lithRestFn = fn.branching.conditional(mantleconditions)\n",
    "lithRestFn*=rockRestFn #Add next level up in heirarchy\n",
    "\n",
    "\n",
    "#Level 4. lower plate - upper plate:\n",
    "\n",
    "\n",
    "#This whole section simply builds a restriction Fn that separates the upper and lower plate \n",
    "#It's pretty cumbersome, and will need to advected, rebuilt\n",
    "#can YOU think of a better way?\n",
    "   \n",
    "lowerPlateRestFn = gSwarm.add_variable( dataType=\"double\", count=1 )\n",
    "lowerPlateRestFn.data[:] = 0.0\n",
    "sd, pts0 = fault.compute_signed_distance(gSwarm.particleCoordinates.data, distance=w0)\n",
    "sp, pts0 = fault.compute_marker_proximity(gSwarm.particleCoordinates.data, distance=w0)\n",
    "\n",
    "#lowerPlateRestFn.data[np.logical_and(sd>0,sp == fault.ID)] = sp[np.logical_and(sd>0,sp == fault.ID)]\n",
    "lowerPlateRestFn.data[np.logical_and(sd>(-1.*faultthickness ),sp == fault.ID)] = sp[np.logical_and(sd>(-1.*faultthickness ),sp == fault.ID)]\n",
    "\n",
    "lowerPlateRestFn *= lithRestFn #Add next level up in heirarchy\n",
    "#The lowerPlateRestFn isn't working on restart - no idea why\n",
    "\n",
    "\n",
    "#Level 5. hinge of lower plate:\n",
    "\n",
    "hinge60Spatialconditions = [ (           operator.and_( (depthFn < (60e3/dp.LS)),  (xFn > ndp.subzone - 60e3/dp.LS)), 1.),\n",
    "                   (                                                   True , 0.) ]\n",
    "\n",
    "hinge60RestFn = fn.branching.conditional(hinge60Spatialconditions)\n",
    "hinge60RestFn*=lowerPlateRestFn #Add next level up in heirarchy\n",
    "\n",
    "\n",
    "\n",
    "hinge180Spatialconditions = [ (           operator.and_( (depthFn < (180e3/dp.LS)),  (xFn > ndp.subzone - 180e3/dp.LS)), 1.),\n",
    "                   (                                                   True , 0.) ]\n",
    "\n",
    "hinge180RestFn = fn.branching.conditional(hinge180Spatialconditions)\n",
    "hinge180RestFn*=lowerPlateRestFn #Add next level up in heirarchy\n",
    "\n",
    "\n",
    "#Level 6. crust/interface in hinge of lower plate:\n",
    "\n",
    "interfaceRestFn = uw.swarm.SwarmVariable(gSwarm, dataType='double', count=1)\n",
    "interfaceRestFn.data[:] = 0.\n",
    "interfaceRestFn.data[np.where(materialVariable.data[:] == crustIndex)] = 1.\n",
    "interfaceRestFn *= hinge60RestFn #Add next level up in heirarchy"
   ]
  },
  {
   "cell_type": "code",
   "execution_count": 75,
   "metadata": {
    "collapsed": false
   },
   "outputs": [],
   "source": [
    "\n",
    "#fig= glucifer.Figure()\n",
    "#fig.append( glucifer.objects.Points(gSwarm,lithRestFn))\n",
    "#fig.append( glucifer.objects.Points(gSwarm, viscosityMapFn, logScale=True, valueRange =[1e-3,1e5]))\n",
    "#fig.append( glucifer.objects.Points(gSwarm, lowerPlateRestFn ))\n",
    "#fig.append( glucifer.objects.VectorArrows(mesh,velocityField, scaling=0.002))\n",
    "#fig.append( glucifer.objects.Surface(mesh,densityMapFn))\n",
    "#fig.append( glucifer.objects.Surface(mesh,raylieghFn))\n",
    "#fig.append( glucifer.objects.Points(slab_seg.swarm, pointSize=10))\n",
    "#fig.save_database('test.gldb')"
   ]
  },
  {
   "cell_type": "code",
   "execution_count": 76,
   "metadata": {
    "collapsed": true
   },
   "outputs": [],
   "source": [
    "respltconditions = [ \n",
    "                    (                                  hinge60RestFn*2. > rockRestFn*1., 1.),\n",
    "                    (                                  lowerPlateRestFn*3. > hinge60RestFn*2. , 3.),\n",
    "                    (                                  lithRestFn*5. > lowerPlateRestFn*3. , 4.),\n",
    "                   (                                                   True , 0.) ]\n",
    "\n",
    "respltFn = fn.branching.conditional(respltconditions )"
   ]
  },
  {
   "cell_type": "code",
   "execution_count": 77,
   "metadata": {
    "collapsed": true
   },
   "outputs": [],
   "source": [
    "###################\n",
    "#Surface Restriction functions\n",
    "###################\n",
    "\n",
    "def platenessFn(val = 0.1):\n",
    "    normgradV = fn.math.abs(velocityField.fn_gradient[0]/fn.math.sqrt(velocityField[0]*velocityField[0])) #[du*/dx]/sqrt(u*u)\n",
    "\n",
    "\n",
    "\n",
    "    srconditions = [ (                                  normgradV < val, 1.),\n",
    "                   (                                                   True , 0.) ]\n",
    "\n",
    "\n",
    "    return fn.branching.conditional(srconditions)\n",
    "\n",
    "srRestFn = platenessFn(val = 0.1)"
   ]
  },
  {
   "cell_type": "code",
   "execution_count": 132,
   "metadata": {
    "collapsed": false
   },
   "outputs": [],
   "source": [
    "###################\n",
    "#Setup any Functions to be integrated\n",
    "###################\n",
    "\n",
    "sqrtv2 = fn.math.sqrt(fn.math.dot(velocityField,velocityField))\n",
    "vx = velocityField[0]\n",
    "v2x = fn.math.dot(velocityField[0],velocityField[0])\n",
    "sqrtv2x = fn.math.sqrt(fn.math.dot(velocityField[0],velocityField[0]))\n",
    "dw = temperatureField*velocityField[1]\n",
    "sinner = fn.math.dot( strainRate_2ndInvariant, strainRate_2ndInvariant )\n",
    "vd = 4.*viscosityMapFn*sinner #there's an extra factor of 2, which is necessary because the of factor of 0.5 in the UW second invariant \n",
    "dTdZ = temperatureField.fn_gradient[1]"
   ]
  },
  {
   "cell_type": "code",
   "execution_count": 79,
   "metadata": {
    "collapsed": true
   },
   "outputs": [],
   "source": [
    "###################\n",
    "#Create integral, max/min templates \n",
    "###################\n",
    "\n",
    "def volumeint(Fn = 1., rFn=globRestFn):\n",
    "    return uw.utils.Integral( Fn*rFn,  mesh )\n",
    "\n",
    "def surfint(Fn = 1., rFn=globRestFn, surfaceIndexSet=mesh.specialSets[\"MaxJ_VertexSet\"]):\n",
    "    return uw.utils.Integral( Fn*rFn, mesh=mesh, integrationType='Surface', surfaceIndexSet=surfaceIndexSet)\n",
    "\n",
    "def maxMin(Fn = 1.):\n",
    "    #maxMin(Fn = 1., rFn=globRestFn\n",
    "    #vuFn = fn.view.min_max(Fn*rFn) #the restriction functions don't work with the view.min_max fn yet\n",
    "    vuFn = fn.view.min_max(Fn)\n",
    "    return vuFn\n",
    "    "
   ]
  },
  {
   "cell_type": "code",
   "execution_count": 80,
   "metadata": {
    "collapsed": true
   },
   "outputs": [],
   "source": [
    "#Setup volume integrals on different sub regions\n",
    "\n",
    "##Whole rock domain\n",
    "\n",
    "_areaintRock = volumeint(rockRestFn)\n",
    "_tempintRock = volumeint(temperatureField, rockRestFn)\n",
    "_rmsintRock = volumeint(sqrtv2,rockRestFn)\n",
    "_dwintRock = volumeint(dw,rockRestFn)\n",
    "_vdintRock = volumeint(vd,rockRestFn)\n",
    "\n",
    "##Lith \n",
    "\n",
    "_areaintLith  = volumeint(lithRestFn)\n",
    "_tempintLith  = volumeint(temperatureField, lithRestFn)\n",
    "_rmsintLith  = volumeint(sqrtv2,lithRestFn)\n",
    "_dwintLith  = volumeint(dw,lithRestFn)\n",
    "_vdintLith  = volumeint(vd,lithRestFn)\n",
    "\n",
    "##Lower plate\n",
    "\n",
    "_areaintLower  = volumeint(lowerPlateRestFn)\n",
    "_tempintLower  = volumeint(temperatureField, lowerPlateRestFn)\n",
    "_rmsintLower  = volumeint(sqrtv2,lowerPlateRestFn)\n",
    "_dwintLower = volumeint(dw,lowerPlateRestFn)\n",
    "_vdintLower  = volumeint(vd,lowerPlateRestFn)\n",
    "\n",
    "##Hinge lower plate\n",
    "\n",
    "_areaintHinge180  = volumeint(hinge180RestFn)\n",
    "_vdintHinge180  = volumeint(vd,hinge180RestFn)\n",
    "\n",
    "_areaintHinge60  = volumeint(hinge60RestFn)\n",
    "_vdintHinge60  = volumeint(vd,hinge60RestFn)\n",
    "\n",
    "\n",
    "##Interface\n",
    "\n",
    "_areaintInterface  = volumeint(interfaceRestFn)\n",
    "_vdintInterface = volumeint(vd,interfaceRestFn)"
   ]
  },
  {
   "cell_type": "code",
   "execution_count": 81,
   "metadata": {
    "collapsed": true
   },
   "outputs": [],
   "source": [
    "#Setup surface integrals\n",
    "\n",
    "_surfLength = surfint()\n",
    "_rmsSurf = surfint(sqrtv2x)\n",
    "_nuTop = surfint(dTdZ)\n",
    "_nuBottom = surfint(dTdZ, surfaceIndexSet=mesh.specialSets[\"MinJ_VertexSet\"])\n",
    "_plateness = surfint(srRestFn)\n",
    "_pressure = surfint(pressureField)"
   ]
  },
  {
   "cell_type": "code",
   "execution_count": 82,
   "metadata": {
    "collapsed": true
   },
   "outputs": [],
   "source": [
    "#Setup max min fns (at the moment, we can't pass restriction function to view.min_max, so we're limited to whole volume or surface extrema)\n",
    "\n",
    "##Whole rock domain\n",
    "\n",
    "#_maxMinVisc = maxMin(viscosityMapFn1)  #These don't work on swarm variables or mapping functions, yet\n",
    "#dummyFn = _maxMinVisc.evaluate(mesh)\n",
    "#_maxMinStressInv = maxMin(2*viscosityMapFn1*strainRate_2ndInvariant) #These don't work on swarm variables or mapping functions, yet\n",
    "#dummyFn = _maxMinStress.evaluate(mesh)\n",
    "#_maxMinVd = maxMin(vd) #These don't work on swarm variables or mapping functions, yet\n",
    "#dummyFn = _maxMinVd.evaluate(mesh)\n",
    "\n",
    "\n",
    "_maxMinVel = maxMin(velocityField) \n",
    "dummyFn = _maxMinVel.evaluate(mesh)\n",
    "\n",
    "_maxMinSr = maxMin(strainRate_2ndInvariant) \n",
    "dummyFn = _maxMinSr.evaluate(mesh)\n",
    "\n",
    "\n",
    "#Surface extrema\n",
    "_maxMinVxSurf = maxMin(vx)\n",
    "dummyFn = _maxMinVxSurf.evaluate(tWalls)\n"
   ]
  },
  {
   "cell_type": "code",
   "execution_count": null,
   "metadata": {
    "collapsed": true
   },
   "outputs": [],
   "source": [
    "\n"
   ]
  },
  {
   "cell_type": "code",
   "execution_count": 83,
   "metadata": {
    "collapsed": true
   },
   "outputs": [],
   "source": [
    "#Volume Ints\n",
    "areaintRock = _areaintRock.evaluate()[0]\n",
    "tempintRock = _tempintRock.evaluate()[0]\n",
    "rmsintRock = _rmsintRock.evaluate()[0]\n",
    "dwintRock = _dwintRock.evaluate()[0]\n",
    "vdintRock = _vdintRock.evaluate()[0]\n",
    "areaintLith = _areaintLith.evaluate()[0]\n",
    "tempintLith = _tempintLith.evaluate()[0]\n",
    "rmsintLith = _rmsintLith.evaluate()[0]\n",
    "dwintLith = _dwintLith.evaluate()[0]\n",
    "vdintLith = _vdintLith.evaluate()[0]\n",
    "areaintLower = _areaintLower.evaluate()[0]\n",
    "tempintLower = _tempintLower.evaluate()[0]\n",
    "rmsintLower = _rmsintLower.evaluate()[0]\n",
    "dwintLower = _dwintLower.evaluate()[0]\n",
    "vdintLower = _vdintLower.evaluate()[0]\n",
    "vdintHinge180 = _vdintHinge180.evaluate()[0]\n",
    "areaintHinge180 = _areaintHinge180.evaluate()[0]\n",
    "vdintHinge60 = _vdintHinge60.evaluate()[0]\n",
    "areaintHinge60= _areaintHinge60.evaluate()[0]\n",
    "vdintInterface = _vdintInterface.evaluate()[0]\n",
    "areaintInterface= _areaintInterface.evaluate()[0]\n",
    "\n",
    "#Surface Ints\n",
    "surfLength = _surfLength.evaluate()[0]\n",
    "rmsSurf = _rmsSurf.evaluate()[0]\n",
    "nuTop = _nuTop.evaluate()[0]\n",
    "nuBottom = _nuBottom.evaluate()[0]\n",
    "plateness = _plateness.evaluate()[0]\n",
    "pressureSurf = _pressure.evaluate()[0]\n",
    "\n",
    "\n",
    "#Max mins\n",
    "maxVel = _maxMinVel.max_global()\n",
    "minVel = _maxMinVel.min_global() \n",
    "maxSr = _maxMinSr.max_global()\n",
    "minSr = _maxMinSr.min_global()\n",
    "maxVxsurf = _maxMinVxSurf.max_global()\n",
    "minVxsurf = _maxMinVxSurf.min_global()"
   ]
  },
  {
   "cell_type": "markdown",
   "metadata": {},
   "source": [
    "print(areaintRock)\n",
    "print(tempintRock)\n",
    "print(rmsintRock)\n",
    "print(dwintRock)\n",
    "print(vdintRock)\n",
    "print(areaintLith)\n",
    "print(tempintLith )\n",
    "print(rmsintLith)\n",
    "print(dwintLith)\n",
    "print(vdintLith)\n",
    "print(areaintLower)\n",
    "print(tempintLower)\n",
    "print(rmsintLower) \n",
    "print(dwintLower)\n",
    "print(vdintLower)\n",
    "print(vdintHinge60)\n",
    "print(vdintHinge180)\n",
    "print(vdintInterface)\n",
    "\n",
    "print(surfLength)\n",
    "print(rmsSurf)\n",
    "print(nuTop)\n",
    "print(nuBottom)\n",
    "print(plateness)\n",
    "\n",
    "\n",
    "print(maxVel)\n",
    "print(minVel)\n",
    "print(maxSr)\n",
    "print(minSr)\n",
    "print(maxVxsurf)\n",
    "print(minVxsurf)"
   ]
  },
  {
   "cell_type": "markdown",
   "metadata": {},
   "source": [
    "Viz.\n",
    "-----"
   ]
  },
  {
   "cell_type": "code",
   "execution_count": null,
   "metadata": {
    "collapsed": true
   },
   "outputs": [],
   "source": []
  },
  {
   "cell_type": "code",
   "execution_count": 84,
   "metadata": {
    "collapsed": false
   },
   "outputs": [],
   "source": [
    "#Build a depth dependent mask for the vizualisation\n",
    "\n",
    "depthVariable      = gSwarm.add_variable( dataType=\"float\", count=1 )\n",
    "depthVariable.data[:] = depthFn.evaluate(gSwarm)\n",
    "\n",
    "vizVariable      = gSwarm.add_variable( dataType=\"int\", count=1 )\n",
    "vizVariable.data[:] = 0\n",
    "\n",
    "for index, value in enumerate(depthVariable.data[:]):\n",
    "    #print index, value\n",
    "    if np.random.rand(1)**5 > value/(MAXY - MINY):\n",
    "        vizVariable.data[index] = 1\n",
    "        \n",
    "del index, value    #get rid of any variables that might be pointing at the .data handles (these are!)"
   ]
  },
  {
   "cell_type": "code",
   "execution_count": null,
   "metadata": {
    "collapsed": false
   },
   "outputs": [],
   "source": []
  },
  {
   "cell_type": "code",
   "execution_count": 86,
   "metadata": {
    "collapsed": false
   },
   "outputs": [],
   "source": [
    "fig= glucifer.Figure()\n",
    "fig.append( glucifer.objects.Points(gSwarm,temperatureField, fn_mask=vizVariable))\n",
    "fig.append( glucifer.objects.Mesh(mesh))\n",
    "#fig.show()\n",
    "fig.save_database('test.gldb')"
   ]
  },
  {
   "cell_type": "code",
   "execution_count": 87,
   "metadata": {
    "collapsed": false
   },
   "outputs": [],
   "source": [
    "if figures == 'gldb':\n",
    "    #Pack some stuff into a database as well\n",
    "    figDb = glucifer.Figure()\n",
    "    #figDb.append( glucifer.objects.Mesh(mesh))\n",
    "    figDb.append( glucifer.objects.VectorArrows(mesh,velocityField, scaling=0.0005))\n",
    "    #figDb.append( glucifer.objects.Points(gSwarm,tracerVariable, colours= 'white black'))\n",
    "    figDb.append( glucifer.objects.Points(gSwarm,materialVariable, fn_mask=vizVariable))\n",
    "\n",
    "    #figDb.append( glucifer.objects.Points(gSwarm,viscMinVariable))\n",
    "    figDb.append( glucifer.objects.Points(gSwarm,fnViscMin, fn_mask=vizVariable))\n",
    "    #figDb.append( glucifer.objects.Points(gSwarm,fnViscMin))\n",
    "    #figDb.append( glucifer.objects.Points(gSwarm, viscosityMapFn, logScale=True))\n",
    "    #figDb.append( glucifer.objects.Points(gSwarm, strainRate_2ndInvariant, logScale=True))\n",
    "    figDb.append( glucifer.objects.Points(gSwarm,temperatureField, fn_mask=vizVariable))\n",
    "    \n",
    "    \n",
    "    #figRestrict= glucifer.Figure()\n",
    "    #figRestrict.append( glucifer.objects.Points(gSwarm,respltFn))\n",
    "    #figRestrict.append( glucifer.objects.Points(gSwarm,lithRestFn))\n",
    "    #figRestrict.append( glucifer.objects.Points(gSwarm,lowerPlateRestFn))\n",
    "    #figRestrict.append( glucifer.objects.Points(gSwarm,hinge180RestFn))\n",
    "    #figRestrict.append( glucifer.objects.Points(gSwarm,interfaceRestFn))\n",
    "    #figRestrict.append( glucifer.objects.Points(interfaces[0].swarm, colours=\"Blue Blue\", pointSize=2.0, colourBar=False) )\n",
    "    #figRestrict.append( glucifer.objects.Points(interfaces[1].swarm, colours=\"Red Red\", pointSize=2.0, colourBar=False) )\n",
    "    #figRestrict.append( glucifer.objects.Points(slab_seg.swarm, colours=\"Black Black\", pointSize=2.0, colourBar=False) )\n",
    "\n",
    "elif figures == 'store':\n",
    "    fullpath = os.path.join(outputPath + \"gldbs/\")\n",
    "    store1 = glucifer.Store(fullpath + 'subduction1.gldb')\n",
    "    store2 = glucifer.Store(fullpath + 'subduction2.gldb')\n",
    "    store3 = glucifer.Store(fullpath + 'subduction3.gldb')\n",
    "    store4 = glucifer.Store(fullpath + 'subduction4.gldb')\n",
    "    store5 = glucifer.Store(fullpath + 'subduction5.gldb')\n",
    "\n",
    "\n",
    "\n",
    "    figTemp = glucifer.Figure(store1,figsize=(300*np.round(md.aspectRatio,2),300))\n",
    "    figTemp.append( glucifer.objects.Points(gSwarm,temperatureField, fn_mask=vizVariable))\n",
    "\n",
    "    figVisc= glucifer.Figure(store2, figsize=(300*np.round(md.aspectRatio,2),300))\n",
    "    figVisc.append( glucifer.objects.Points(gSwarm,viscosityMapFn, logScale=True, valueRange =[1.,1e5], fn_mask=vizVariable))\n",
    "\n",
    "\n",
    "    figMech= glucifer.Figure(store3, figsize=(300*np.round(md.aspectRatio,2),300))\n",
    "    figMech.append( glucifer.objects.Points(gSwarm,fnViscMin, valueRange =[0.,5.], fn_mask=vizVariable))\n",
    "    \n",
    "    figMat= glucifer.Figure(store4, figsize=(300*np.round(md.aspectRatio,2),300))\n",
    "    figMat.append( glucifer.objects.Points(gSwarm,materialVariable, fn_mask=vizVariable))\n",
    "    figMat.append( glucifer.objects.VectorArrows(mesh,velocityField,resolutionI=int(16*md.aspectRatio), resolutionJ=16*2,  scaling=0.0001))\n",
    "    \n",
    "    \n",
    "    #figStress= glucifer.Figure(store5, figsize=(300*np.round(md.aspectRatio,2),300))\n",
    "    #figStress.append( glucifer.objects.Points(gSwarm,stressVariableFn, fn_mask=vizVariable))\n",
    "    #figStress.append( glucifer.objects.VectorArrows(mesh, eig1, arrowHead=0.0, scaling=0.05, glyphs=3, resolutionI=int(16*md.aspectRatio), resolutionJ=16*2))\n",
    "    #figStress.append( glucifer.objects.VectorArrows(mesh, eig2, arrowHead=0.0, scaling=0.05, glyphs=3, resolutionI=int(16*md.aspectRatio), resolutionJ=16*2))\n",
    "\n",
    "    \n",
    "    \n",
    "    \n"
   ]
  },
  {
   "cell_type": "code",
   "execution_count": null,
   "metadata": {
    "collapsed": false
   },
   "outputs": [],
   "source": []
  },
  {
   "cell_type": "code",
   "execution_count": null,
   "metadata": {
    "collapsed": true
   },
   "outputs": [],
   "source": []
  },
  {
   "cell_type": "markdown",
   "metadata": {
    "collapsed": false
   },
   "source": [
    "if figures == 'gldb':\n",
    "    #Pack some stuff into a database as well\n",
    "    figDb = glucifer.Figure()\n",
    "    #figDb.append( glucifer.objects.Mesh(mesh))\n",
    "    figDb.append( glucifer.objects.VectorArrows(mesh,velocityField, scaling=0.0005))\n",
    "    #figDb.append( glucifer.objects.Points(gSwarm,tracerVariable, colours= 'white black'))\n",
    "    figDb.append( glucifer.objects.Points(gSwarm,materialVariable))\n",
    "    figDb.append( glucifer.objects.Points(swarmPlateBoundary, pointSize=4))\n",
    "\n",
    "    #figDb.append( glucifer.objects.Points(gSwarm,viscMinVariable))\n",
    "    figDb.append( glucifer.objects.Points(vSwarm,fnViscMin))\n",
    "    #figDb.append( glucifer.objects.Points(gSwarm,fnViscMin))\n",
    "    #figDb.append( glucifer.objects.Points(gSwarm, viscosityMapFn, logScale=True))\n",
    "    #figDb.append( glucifer.objects.Points(gSwarm, strainRate_2ndInvariant, logScale=True))\n",
    "    figDb.append( glucifer.objects.Points(vSwarm,temperatureField))\n",
    "    \n",
    "    \n",
    "    #figRestrict= glucifer.Figure()\n",
    "    #figRestrict.append( glucifer.objects.Points(gSwarm,respltFn))\n",
    "    #figRestrict.append( glucifer.objects.Points(gSwarm,lithRestFn))\n",
    "    #figRestrict.append( glucifer.objects.Points(gSwarm,lowerPlateRestFn))\n",
    "    #figRestrict.append( glucifer.objects.Points(gSwarm,hinge180RestFn))\n",
    "    #figRestrict.append( glucifer.objects.Points(gSwarm,interfaceRestFn))\n",
    "    #figRestrict.append( glucifer.objects.Points(interfaces[0].swarm, colours=\"Blue Blue\", pointSize=2.0, colourBar=False) )\n",
    "    #figRestrict.append( glucifer.objects.Points(interfaces[1].swarm, colours=\"Red Red\", pointSize=2.0, colourBar=False) )\n",
    "    #figRestrict.append( glucifer.objects.Points(slab_seg.swarm, colours=\"Black Black\", pointSize=2.0, colourBar=False) )\n",
    "\n",
    "elif figures == 'store':\n",
    "    fullpath = os.path.join(outputPath + \"gldbs/\")\n",
    "    store = glucifer.Store(fullpath + 'subduction.gldb')\n",
    "\n",
    "    figTemp = glucifer.Figure(store,figsize=(300*np.round(md.aspectRatio,2),300))\n",
    "    figTemp.append( glucifer.objects.Points(vSwarm,temperatureField))\n",
    "\n",
    "    figVisc= glucifer.Figure(store, figsize=(300*np.round(md.aspectRatio,2),300))\n",
    "    figVisc.append( glucifer.objects.Points(gSwarm,viscosityMapFn, logScale=True, valueRange =[1.,1e5]))\n",
    "\n",
    "    figMech= glucifer.Figure(store, figsize=(300*np.round(md.aspectRatio,2),300))\n",
    "    figMech.append( glucifer.objects.Points(vSwarm,fnViscMin))\n",
    "    \n",
    "    figMat= glucifer.Figure(store, figsize=(300*np.round(md.aspectRatio,2),300))\n",
    "    figMat.append( glucifer.objects.Points(gSwarm,materialVariable))"
   ]
  },
  {
   "cell_type": "markdown",
   "metadata": {},
   "source": [
    "**Miscellania**"
   ]
  },
  {
   "cell_type": "code",
   "execution_count": 88,
   "metadata": {
    "collapsed": false
   },
   "outputs": [
    {
     "name": "stderr",
     "output_type": "stream",
     "text": [
      "/usr/local/lib/python2.7/dist-packages/numpy/core/numeric.py:190: VisibleDeprecationWarning: using a non-integer number instead of an integer will result in an error in the future\n",
      "  a = empty(shape, dtype, order)\n"
     ]
    }
   ],
   "source": [
    "##############\n",
    "#Create a numpy array at the surface to get surface information on (using parallel-friendly evaluate_global)\n",
    "##############\n",
    "\n",
    "surface_xs = np.linspace(mesh.minCoord[0], mesh.maxCoord[0], mesh.elementRes[0] + 1)\n",
    "surface_nodes = np.array(zip(surface_xs, np.ones(len(surface_xs)*mesh.maxCoord[1]))) #For evaluation surface velocity\n",
    "normgradV = velocityField.fn_gradient[0]/fn.math.sqrt(velocityField[0]*velocityField[0])\n",
    "\n",
    "tempMM = fn.view.min_max(temperatureField)\n",
    "dummy = tempMM.evaluate(mesh)\n",
    "\n"
   ]
  },
  {
   "cell_type": "code",
   "execution_count": 89,
   "metadata": {
    "collapsed": false
   },
   "outputs": [],
   "source": [
    "#Not parallel friendly yet\n",
    "#tipXvels = np.sum(velocityField[0].evaluate(tipSwarm)) /\\\n",
    "#    tipSwarm.particleGlobalCount\n",
    "#tipXvels = np.sum(velocityField[1].evaluate(tipSwarm)) /\\\n",
    "#    tipSwarm.particleGlobalCount\n",
    "    \n",
    "#tipXpos = np.sum(xFn.evaluate(tipSwarm)) /\\\n",
    "#    tipSwarm.particleGlobalCount\n",
    "#tipYpos = np.sum(yFn.evaluate(tipSwarm)) /\\\n",
    "#    tipSwarm.particleGlobalCount"
   ]
  },
  {
   "cell_type": "code",
   "execution_count": 90,
   "metadata": {
    "collapsed": false
   },
   "outputs": [],
   "source": [
    "##############\n",
    "#These functions handle checkpointing\n",
    "##############\n",
    "\n",
    "def checkpoint1(step, checkpointPath,filename, filewrites):\n",
    "    path = checkpointPath + str(step) \n",
    "    os.mkdir(path)\n",
    "    ##Write and save the file, if not already a writing step\n",
    "    if not step % filewrites == 0:\n",
    "        f_o.write((35*'%-15s ' + '\\n') % (areaintRock, tempintRock, rmsintRock, dwintRock, vdintRock,\n",
    "                                  areaintLith, tempintLith,rmsintLith, dwintLith, vdintLith,\n",
    "                                  areaintLower, tempintLower, rmsintLower, dwintLower, vdintLower, \n",
    "                                  areaintHinge180,vdintHinge180, areaintHinge60, vdintHinge60, \n",
    "                                  areaintInterface, vdintInterface, vdintInterface,\n",
    "                                  minVel,maxVel, minVxsurf, maxVxsurf, surfLength,            \n",
    "                                  rmsSurf, nuTop, nuBottom, plateness, ndp.subzone,ndp.lRidge, ndp.rRidge, realtime))\n",
    "    filename.close()\n",
    "    shutil.copyfile(os.path.join(outputPath, outputFile), os.path.join(path, outputFile))\n",
    "\n",
    "\n",
    "def checkpoint2(step, checkpointPath, swarm, filename, varlist = [materialVariable], varnames = ['materialVariable']):\n",
    "    path = checkpointPath + str(step) \n",
    "    velfile = \"velocityField\" + \".hdf5\"\n",
    "    tempfile = \"temperatureField\" + \".hdf5\"\n",
    "    pressfile = \"pressureField\" + \".hdf5\"\n",
    "    velocityField.save(os.path.join(path, velfile))\n",
    "    temperatureField.save(os.path.join(path, tempfile))\n",
    "    pressureField.save(os.path.join(path, pressfile))\n",
    "    swarm.save(os.path.join(path, \"swarm.h5\") ) \n",
    "    for ix in range(len(varlist)):\n",
    "        varb = varlist[ix]\n",
    "        varb.save(os.path.join(path,varnames[ix] + \".h5\"))\n",
    "    \n",
    "    #Save the parameters\n",
    "    dict_list = [dp, sf, ndp, md] #if any of the dictionaries have changed, this list needs to be rebuilt\n",
    "    save_pickles(dict_list, dict_names, path)\n",
    "    \n",
    "#Simple Checkpoint function for the faults / interfaces (markerLine2D)\n",
    "def checkpoint3(step,  checkpointPath, interfaces,interfacenames ):\n",
    "    path = checkpointPath + str(step)\n",
    "    for ix in range(len(interfaces)):\n",
    "        intf = interfaces[ix]\n",
    "        intf.swarm.save(os.path.join(path,interfacenames[ix] + \".h5\"))\n",
    "    \n",
    "    "
   ]
  },
  {
   "cell_type": "code",
   "execution_count": 91,
   "metadata": {
    "collapsed": true
   },
   "outputs": [],
   "source": [
    "def plate_infoFn(velocityField,xFn,  depthLimit, xsearchlim = 1.0, currentloc = 0.0, plateType='convergent'):\n",
    "    \"\"\"\n",
    "    This functions is used to track the plate boundaries in 2D.\n",
    "    It returns the x value of the max / min of the x velocity gradient.\n",
    "    \n",
    "    \"\"\"\n",
    "    \n",
    "    #Restriction fucntion \n",
    "    restictionFn = fn.branching.conditional([(operator.and_(fn.math.abs(xFn - currentloc) < xsearchlim, depthFn < depthLimit) , 1.),                                       \n",
    "                                             (True, 0.0)])\n",
    "    \n",
    "    #Normalised surface vel gradient\n",
    "    normgradV = velocityField.fn_gradient[0]/fn.math.sqrt(velocityField[0]*velocityField[0])\n",
    "\n",
    "    \n",
    "    plateFn0 = normgradV*restictionFn\n",
    "    \n",
    "    plateFn = fn.branching.conditional([(plateFn0 > 1e20, 0.),             #This attempts to fix inf values that appear at sidewalls                          \n",
    "                                             (True, plateFn0)])\n",
    "    \n",
    "    extremFn = fn.view.min_max(plateFn)\n",
    "    dummy = extremFn.evaluate(mesh)\n",
    "    \n",
    "    \n",
    "    print(extremFn.min_global(), extremFn.max_global())\n",
    "\n",
    "    #get global max\n",
    "    if plateType == 'convergent':   \n",
    "        testFn = fn.branching.conditional([(extremFn < extremFn.min_global() + 1e-10, coordinate[0]),                                       \n",
    "                                             (True, (-9999999.))])\n",
    "        extremFn2 = fn.view.min_max(testFn)\n",
    "        dummy2 = extremFn2.evaluate(mesh)\n",
    "        if extremFn2.max_global() == -9999999.:\n",
    "            return currentloc\n",
    "        else:\n",
    "            return extremFn2.max_global()\n",
    "        \n",
    "    elif plateType == 'divergent':\n",
    "        testFn = fn.branching.conditional([(extremFn > extremFn.max_global() - 1e-3, coordinate[0]),                                       \n",
    "                                             (True, (-9999999.))])\n",
    "        extremFn2 = fn.view.min_max(testFn)\n",
    "        dummy2 = extremFn2.evaluate(mesh)\n",
    "        if extremFn2.max_global() == -9999999.:\n",
    "            return currentloc\n",
    "        else:\n",
    "            return extremFn2.max_global()\n",
    "    else:\n",
    "        raise ValueError('plateType should be one of convergent/divergent')"
   ]
  },
  {
   "cell_type": "code",
   "execution_count": 133,
   "metadata": {
    "collapsed": false
   },
   "outputs": [],
   "source": [
    "##############\n",
    "#This will allow us to evaluate viscous shear heating, and add the result directly to the temperature field\n",
    "##############\n",
    "\n",
    "viscDisMapFn = 4.*viscosityMapFn*sinner\n",
    "viscDisFnmesh = uw.mesh.MeshVariable(mesh,nodeDofCount=1)\n",
    "viscDisProj = uw.utils.MeshVariable_Projection( viscDisFnmesh, viscDisMapFn)\n",
    "viscDisProj.solve()"
   ]
  },
  {
   "cell_type": "code",
   "execution_count": 41,
   "metadata": {
    "collapsed": false
   },
   "outputs": [],
   "source": [
    "# initialise timer for computation\n",
    "start = time.clock()\n",
    "\n",
    "\n",
    "#increment time for our next image / file dump, should work for checkpoint restarts\n",
    "next_image_step = (np.floor(realtime/files_freq)+ 1.) *files_freq \n"
   ]
  },
  {
   "cell_type": "markdown",
   "metadata": {},
   "source": [
    "Main simulation loop\n",
    "-----\n"
   ]
  },
  {
   "cell_type": "code",
   "execution_count": 95,
   "metadata": {
    "collapsed": false
   },
   "outputs": [
    {
     "ename": "NameError",
     "evalue": "name 'midthickness' is not defined",
     "output_type": "error",
     "traceback": [
      "\u001b[1;31m\u001b[0m",
      "\u001b[1;31mNameError\u001b[0mTraceback (most recent call last)",
      "\u001b[1;32m<ipython-input-95-d208a391f37b>\u001b[0m in \u001b[0;36m<module>\u001b[1;34m()\u001b[0m\n\u001b[0;32m    244\u001b[0m         \u001b[1;31m#Slab / mid swarm\u001b[0m\u001b[1;33m\u001b[0m\u001b[1;33m\u001b[0m\u001b[0m\n\u001b[0;32m    245\u001b[0m         \u001b[1;32mif\u001b[0m \u001b[0mdp\u001b[0m\u001b[1;33m.\u001b[0m\u001b[0msense\u001b[0m \u001b[1;33m==\u001b[0m \u001b[1;34m'Right'\u001b[0m\u001b[1;33m:\u001b[0m\u001b[1;33m\u001b[0m\u001b[0m\n\u001b[1;32m--> 246\u001b[1;33m             \u001b[0mintroPoint\u001b[0m \u001b[1;33m=\u001b[0m \u001b[0mndp\u001b[0m\u001b[1;33m.\u001b[0m\u001b[0mlRidge\u001b[0m \u001b[1;33m+\u001b[0m \u001b[0mmidthickness\u001b[0m \u001b[1;31m#\u001b[0m\u001b[1;33m\u001b[0m\u001b[0m\n\u001b[0m\u001b[0;32m    247\u001b[0m         \u001b[1;32melse\u001b[0m\u001b[1;33m:\u001b[0m\u001b[1;33m\u001b[0m\u001b[0m\n\u001b[0;32m    248\u001b[0m             \u001b[0mintroPoint\u001b[0m \u001b[1;33m=\u001b[0m \u001b[0mndp\u001b[0m\u001b[1;33m.\u001b[0m\u001b[0mrRidge\u001b[0m \u001b[1;33m-\u001b[0m \u001b[0mmidthickness\u001b[0m \u001b[1;31m#\u001b[0m\u001b[1;33m\u001b[0m\u001b[0m\n",
      "\u001b[1;31mNameError\u001b[0m: name 'midthickness' is not defined"
     ]
    }
   ],
   "source": [
    "#while step < 21:\n",
    "while realtime < 1.:\n",
    "\n",
    "    # solve Stokes and advection systems\n",
    "    solver.solve(nonLinearIterate=True)\n",
    "    \n",
    "    \n",
    "    #remove drift /null space in pressure\n",
    "    pressureField.data[:] -= pressureSurf/surfLength\n",
    "    \n",
    "    files_this_step = False #don't write files / images unless conditions are triggered\n",
    "    dt = advDiff.get_max_dt()*md.courantFac\n",
    "    if step == 0:\n",
    "        dt = 0.\n",
    "        files_this_step = True #write files on the zeroth step\n",
    "    \n",
    "    #This relates to file writing at set period - override make sure we hit certain time values\n",
    "    if realtime + dt >= next_image_step:\n",
    "        dt = next_image_step - realtime\n",
    "        files_this_step = True\n",
    "        next_image_step += files_freq #increment time for our next image / file dump\n",
    "        \n",
    "    advDiff.integrate(dt)\n",
    "    materialadvector.integrate(dt)\n",
    "    #advect any interfaces\n",
    "    fault.advection(dt)\n",
    "    \n",
    "    #Add the adiabatic adjustment \n",
    "    temperatureField.data[:] += dt*abHeatFn.evaluate(mesh)\n",
    "    \n",
    "    #Add the viscous heating term\n",
    "    #Need to be skeptical of Projection for viscosity. Also try direct interpolation (IDW)\n",
    "    #viscDisProj = uw.utils.MeshVariable_Projection( viscDisFnmesh, viscDisMapFn)\n",
    "    #viscDisProj.solve()\n",
    "    #temperatureField.data[:] += (ndp.Di/ndp.RA)*dt*viscDisFnmesh.evaluate(mesh)\n",
    "    \n",
    "\n",
    "    # Increment\n",
    "    realtime += dt\n",
    "    step += 1\n",
    "    timevals.append(realtime)\n",
    "    \n",
    "    ################\n",
    "    #Update temperature field in the air region\n",
    "    #Do this better...\n",
    "    ################\n",
    "    if (step % sticky_air_temp == 0):\n",
    "        for index, coord in enumerate(mesh.data):\n",
    "            if coord[1] >= 1.:\n",
    "                temperatureField.data[index] = ndp.TSP\n",
    "                \n",
    "                \n",
    "    ################\n",
    "    #Files output\n",
    "    ################ \n",
    "    if files_this_step:\n",
    "        \n",
    "        gSwarm.update_particle_owners()\n",
    "        \n",
    "        #any fields / swarms to be saved go here\n",
    "        \n",
    "        #Save the fault swarm\n",
    "        fnametemp1 = \"faultSwarm\" + \"_\" + str(step)\n",
    "        fullpath1 = os.path.join(outputPath + \"files/\" + fnametemp1)\n",
    "        fault.swarm.save(fullpath1)\n",
    "             \n",
    "        \n",
    "        #Now the surface x vels.\n",
    "        surfaceVelx.data[...] = velocityField[0].evaluate(surface.swarm)\n",
    "        fnametemp = \"velxSurface\" + \"_\" + str(step) + '.h5'\n",
    "        fullpath = os.path.join(outputPath + \"files/\" + fnametemp)\n",
    "        surfaceVelx.save(fullpath)\n",
    "        \n",
    "        #Now the vertical stress at the surface, parallel bug though. \n",
    "        #_ix1, _weights1 = nn_evaluation(gSwarm, surface.swarm.particleCoordinates.data, n=5, weighted=True)\n",
    "        #stressYFn =  2.*sym_strainRate[1]*viscosityMapFn    #- shouldn't need to rebuild this Fn, but check\n",
    "        #surfaceStressY.data[:,0] = np.average(stressYFn.evaluate(gSwarm)[_ix1][:,:,0],weights=_weights1, axis=1)\n",
    "        #fnametemp = \"surfaceStressY\" + \"_\" + str(step) + '.h5'\n",
    "        #fullpath = os.path.join(outputPath + \"files/\" + fnametemp)\n",
    "        #surfaceStressY.save(fullpath)\n",
    "        \n",
    "        \n",
    "\n",
    "                          \n",
    "\n",
    "    ################\n",
    "    #Update the subduction zone / plate information\n",
    "    ################ \n",
    "    \n",
    "    comm.barrier()\n",
    "    if (step % metric_output == 0):\n",
    "        \n",
    "\n",
    "        ndp.subzone = plate_infoFn(velocityField,xFn,  30e3/dp.LS, xsearchlim = 300e3/dp.LS, currentloc = ndp.subzone, plateType='convergent')\n",
    "        ndp.lRidge = plate_infoFn(velocityField,xFn,  30e3/dp.LS, xsearchlim = 300e3/dp.LS, currentloc = ndp.lRidge, plateType='divergent')\n",
    "        ndp.rRidge = plate_infoFn(velocityField,xFn,  30e3/dp.LS, xsearchlim = 300e3/dp.LS, currentloc = ndp.rRidge, plateType='divergent')\n",
    "\n",
    "    \n",
    "         \n",
    "            \n",
    "    ################\n",
    "    # Calculate the Metrics\n",
    "    ################\n",
    "    \n",
    "    if (step % metric_output == 0):\n",
    "        ###############\n",
    "        #Rebuild the restriction functions where necessary\n",
    "        ###############\n",
    "        \n",
    "        #Lithosphere - mantle:\n",
    "        mantleconditions = [ (                                  operator.and_(temperatureField < 0.9*ndp.TPP, operator.and_(xFn> ndp.lRidge,xFn< ndp.rRidge )), 1.),\n",
    "                   (                                                   True , 0.) ]\n",
    "        lithRestFn = fn.branching.conditional(mantleconditions)\n",
    "        lithRestFn*=rockRestFn #Add next level up in heirarchy\n",
    "        \n",
    "        #Lower plate\n",
    "        \n",
    "        lowerPlateRestFn = gSwarm.add_variable( dataType=\"double\", count=1 ) #weirdly we have to rebuild this one...\n",
    "        lowerPlateRestFn.data[:] = 0.0\n",
    "        sd, pts0 = fault.compute_signed_distance(gSwarm.particleCoordinates.data, distance=w0)\n",
    "        sp, pts0 = fault.compute_marker_proximity(gSwarm.particleCoordinates.data, distance=w0)\n",
    "        lowerPlateRestFn.data[np.logical_and(sd>0,sp == fault.ID)] = sp[np.logical_and(sd>0,sp == fault.ID)]\n",
    "        lowerPlateRestFn *= lithRestFn #Add next level up in heirarchy\n",
    "        \n",
    "        #Hinge\n",
    "        \n",
    "        hinge60Spatialconditions = [ (           operator.and_( (depthFn < MAXY - (60e3/dp.LS)),  (xFn > ndp.subzone - 60e3/dp.LS)), 1.),\n",
    "                   (                                                   True , 0.) ]\n",
    "        hinge60RestFn = fn.branching.conditional(hinge60Spatialconditions)\n",
    "        hinge60RestFn*=lowerPlateRestFn #Add next level up in hierarchy\n",
    "\n",
    "\n",
    "\n",
    "        hinge180Spatialconditions = [ (           operator.and_( (depthFn < MAXY - (180e3/dp.LS)),  (xFn > ndp.subzone - 180e3/dp.LS)), 1.),\n",
    "                           (                                                   True , 0.) ]\n",
    "        hinge180RestFn = fn.branching.conditional(hinge180Spatialconditions)\n",
    "        hinge180RestFn*=lowerPlateRestFn #Add next level up in hierarchy\n",
    "        \n",
    "        \n",
    "        #Reevaluate max min Functions\n",
    "        dummyFn = _maxMinVel.evaluate(mesh)\n",
    "        dummyFn = _maxMinSr.evaluate(mesh)\n",
    "        dummyFn = _maxMinVxSurf.evaluate(tWalls)\n",
    "        \n",
    "        ###############\n",
    "        #Metrics\n",
    "        ###############\n",
    "        areaintRock = _areaintRock.evaluate()[0] #trivial except when using sticky air\n",
    "        tempintRock = _tempintRock.evaluate()[0]\n",
    "        rmsintRock = _rmsintRock.evaluate()[0]\n",
    "        dwintRock = _dwintRock.evaluate()[0]\n",
    "        vdintRock = _vdintRock.evaluate()[0]\n",
    "        areaintLith = _areaintLith.evaluate()[0]\n",
    "        tempintLith = _tempintLith.evaluate()[0]\n",
    "        rmsintLith = _rmsintLith.evaluate()[0]\n",
    "        dwintLith = _dwintLith.evaluate()[0]\n",
    "        vdintLith = _vdintLith.evaluate()[0]\n",
    "        areaintLower = _areaintLower.evaluate()[0]\n",
    "        tempintLower = _tempintLower.evaluate()[0]\n",
    "        rmsintLower = _rmsintLower.evaluate()[0]\n",
    "        dwintLower = _dwintLower.evaluate()[0]\n",
    "        vdintLower = _vdintLower.evaluate()[0]\n",
    "        vdintHinge180 = _vdintHinge180.evaluate()[0]\n",
    "        areaintHinge180 = _areaintHinge180.evaluate()[0]\n",
    "        vdintHinge60 = _vdintHinge60.evaluate()[0]\n",
    "        areaintHinge60= _areaintHinge60.evaluate()[0]\n",
    "        vdintInterface = _vdintInterface.evaluate()[0]\n",
    "        areaintInterface= _areaintInterface.evaluate()[0]\n",
    "        #Surface integrals\n",
    "        rmsSurf = _rmsSurf.evaluate()[0]\n",
    "        nuTop = _nuTop.evaluate()[0]\n",
    "        nuBottom = _nuBottom.evaluate()[0]\n",
    "        plateness = _plateness.evaluate()[0]\n",
    "        #extrema\n",
    "        maxVel = _maxMinVel.max_global()\n",
    "        minVel = _maxMinVel.min_global() \n",
    "        maxSr = _maxMinSr.max_global()\n",
    "        minSr = _maxMinSr.min_global()\n",
    "        maxVxsurf = _maxMinVxSurf.max_global()\n",
    "        minVxsurf = _maxMinVxSurf.min_global()\n",
    "        # output to text file...root proc. handles this one\n",
    "        if uw.rank()==0:\n",
    "            f_o.write((35*'%-15s ' + '\\n') % (areaintRock, tempintRock, rmsintRock, dwintRock, vdintRock,\n",
    "                                  areaintLith, tempintLith,rmsintLith, dwintLith, vdintLith,\n",
    "                                  areaintLower, tempintLower, rmsintLower, dwintLower, vdintLower, \n",
    "                                  areaintHinge180,vdintHinge180, areaintHinge60, vdintHinge60, \n",
    "                                  areaintInterface, vdintInterface, vdintInterface,\n",
    "                                  minVel,maxVel, minVxsurf, maxVxsurf, surfLength,            \n",
    "                                  rmsSurf, nuTop, nuBottom, plateness, ndp.subzone,ndp.lRidge, ndp.rRidge, realtime))\n",
    "    \n",
    "    \n",
    "    ################\n",
    "    #Also repopulate entire swarm periodically\n",
    "    ################\n",
    "    if step % swarm_repop == 0:\n",
    "        population_control.repopulate()\n",
    "        \n",
    "        \n",
    "                       \n",
    "    ################\n",
    "    #Gldb output\n",
    "    ################ \n",
    "    if files_this_step: \n",
    "        \n",
    "        #ReBuild the principal stress vector\n",
    "        ssr = sym_strainRate.evaluate(mesh) #this does need to be here, \n",
    "        \n",
    "        principalAngles  = np.apply_along_axis(eig2d, 1, ssr[:, :])[:,2]\n",
    "        eig1.data[:,0] = np.cos(np.radians(principalAngles - 90.)) #most compressive \n",
    "        eig1.data[:,1] = np.sin(np.radians(principalAngles - 90.))\n",
    "        eig2.data[:,0] = np.cos(np.radians(principalAngles ))      #most extensive\n",
    "        eig2.data[:,1] = np.sin(np.radians(principalAngles ))\n",
    "        \n",
    "        \n",
    "        \n",
    "        #Rebuild the viz. mask\n",
    "        \n",
    "        vizVariable.data[:] = 0\n",
    "        depthVariable.data[:] = depthFn.evaluate(gSwarm)\n",
    "        for index, value in enumerate(depthVariable.data[:]):\n",
    "            #print index, value\n",
    "            if np.random.rand(1)**5 > value/(MAXY - MINY):\n",
    "                vizVariable.data[index] = 1\n",
    "\n",
    "        del index, value    #get rid of any variables that might be pointing at the .data handles (these are!)\n",
    "        \n",
    "        \n",
    "        \n",
    "        if figures == 'gldb':\n",
    "            #Remember to rebuild any necessary swarm variables\n",
    "            fnamedb = \"dbFig\" + \"_\" + str(step) + \".gldb\"\n",
    "            fullpath = os.path.join(outputPath + \"gldbs/\" + fnamedb)\n",
    "            figDb.save_database(fullpath)\n",
    "            \n",
    "            #Temp figure\n",
    "            #fnamedb = \"restrictFig\" + \"_\" + str(step) + \".gldb\"\n",
    "            #fullpath = os.path.join(outputPath + \"gldbs/\" + fnamedb)\n",
    "            #figRestrict.save_database(fullpath)\n",
    "        elif figures == 'store':      \n",
    "            fullpath = os.path.join(outputPath + \"gldbs/\")\n",
    "            store1.step = step\n",
    "            store2.step = step\n",
    "            store3.step = step\n",
    "            store4.step = step\n",
    "            store5.step = step\n",
    "            #Save figures to store\n",
    "            figVisc.save( fullpath + \"Visc\" + str(step).zfill(4))\n",
    "            figMech.save( fullpath + \"Mech\" + str(step).zfill(4))\n",
    "            figTemp.save( fullpath + \"Temp\"    + str(step).zfill(4))\n",
    "            figMat.save( fullpath + \"Mat\"    + str(step).zfill(4))\n",
    "            #figStress.save( fullpath + \"Stress\"    + str(step).zfill(4))\n",
    "            #figSr.save( fullpath + \"Str_rte\"    + str(step).zfill(4))\n",
    "            \n",
    "            \n",
    "            #Also checkpoint so gLuc Stores stay in sync with checkpoint\n",
    "            if step % checkpoint_every != 0:\n",
    "                if uw.rank() == 0:\n",
    "                    checkpoint1(step, checkpointPath,f_o, metric_output)           \n",
    "                checkpoint2(step, checkpointPath, gSwarm, f_o, varlist = varlist, varnames = varnames)\n",
    "                checkpoint3(step,  checkpointPath, interfaces,interfacenames )\n",
    "                f_o = open(os.path.join(outputPath, outputFile), 'a') #is this line supposed to be here?\n",
    "            \n",
    "            \n",
    "    ################\n",
    "    #xdmf output\n",
    "    ################ \n",
    "    \n",
    "    fullpath = os.path.join(outputPath + \"xdmf/\")\n",
    "    if files_this_step:\n",
    "        \n",
    "        # rebuild the sigma_xx variable\n",
    "        _ix, _weights = nn_evaluation(gSwarm, mesh.data, n=5, weighted=True)\n",
    "        stressField.data[:,0] = np.average(stressVariableFn.evaluate(gSwarm)[_ix][:,:,0],weights=_weights, axis=1)\n",
    "\n",
    "        \n",
    "        \n",
    "        fullpath = os.path.join(outputPath + \"xdmf/\")\n",
    "        #if not os.path.exists(fullpath+\"mesh.h5\"):\n",
    "        #    _mH = mesh.save(fullpath+\"mesh.h5\")\n",
    "        \n",
    "        try:\n",
    "            _mH\n",
    "        except:\n",
    "            _mH = mesh.save(fullpath+\"mesh.h5\")\n",
    "        \n",
    "        mh = _mH\n",
    "        vH = velocityField.save(fullpath + \"velocity_\" + str(step) +\".h5\")\n",
    "        tH = temperatureField.save(fullpath + \"temp_\" + str(step) + \".h5\")\n",
    "        eH = eig1.save(fullpath + \"eig_\" + str(step) + \".h5\")\n",
    "        eH2 = eig2.save(fullpath + \"eig2_\" + str(step) + \".h5\")\n",
    "        sigXX = stressField.save(fullpath + \"sigXX_\" + str(step) + \".h5\")\n",
    "        velocityField.xdmf(fullpath + \"velocity_\" + str(step), vH, 'velocity', mh, 'mesh', modeltime=realtime)\n",
    "        temperatureField.xdmf(fullpath + \"temp_\" + str(step), tH, 'temperature', mh, 'mesh', modeltime=realtime)\n",
    "        eig1.xdmf(fullpath + \"eig_\" + str(step), eH, 'eig', mh, 'mesh', modeltime=realtime)\n",
    "        eig2.xdmf(fullpath + \"eig2_\" + str(step), eH2, 'eig2', mh, 'mesh', modeltime=realtime)\n",
    "        stressField.xdmf(fullpath + \"sigXX_\" + str(step), sigXX, 'sigXX', mh, 'mesh', modeltime=realtime)\n",
    "        \n",
    "    ################\n",
    "    #Particle update\n",
    "    ###############    \n",
    "    #ageVariable.data[:] += dt #increment the ages (is this efficient?)\n",
    "    ageDT += dt\n",
    "    \n",
    "    if step % swarm_update == 0:\n",
    "        \n",
    "        #Increment age stuff. \n",
    "        ageConditions = [ (depthFn < ndp.AGETRACKDEPTH, ageVariable + ageDT ),  #add ageDThere\n",
    "                  (True, 0.) ]\n",
    "        ageVariable.data[:] = fn.branching.conditional( ageConditions ).evaluate(gSwarm)        \n",
    "        ageDT = 0. #reset the age incrementer\n",
    "        \n",
    "        \n",
    "        #This is hardcoded to assume subduction is towards the right\n",
    "        tempop = operator.lt\n",
    "\n",
    "        #Update the relevant parts of the material graph\n",
    "        #Remove and rebuild edges related to crust\n",
    "        DG.remove_edges_from([(mantleIndex,crustIndex)])\n",
    "        DG.add_edges_from([(mantleIndex,crustIndex)])\n",
    "        DG.remove_edges_from([(harzIndex,crustIndex)])\n",
    "        DG.add_edges_from([(harzIndex,crustIndex)])\n",
    "\n",
    "        #... to crust\n",
    "        DG.add_transition((mantleIndex,crustIndex), depthFn, operator.lt, ndp.MANTLETOCRUST)\n",
    "        DG.add_transition((mantleIndex,crustIndex), xFn, operator.lt, 0.5*ndp.lRidge) #No crust on the upper plate\n",
    "        DG.add_transition((mantleIndex,crustIndex), ageVariable, operator.gt, 0.2)\n",
    "\n",
    "        DG.add_transition((harzIndex,crustIndex), depthFn, operator.lt, ndp.MANTLETOCRUST)\n",
    "        DG.add_transition((harzIndex,crustIndex), xFn, tempop, 0.5*ndp.lRidge) #This one sets no crust on the upper plate\n",
    "        DG.add_transition((harzIndex,crustIndex), ageVariable, operator.gt, crustageCond)\n",
    "        \n",
    "        \n",
    "        #Make sure to rebuild the condition list if you want changes to be applied\n",
    "        DG.build_condition_list(materialVariable)\n",
    "        \n",
    "        comm.barrier()\n",
    "        \n",
    "    \n",
    "        \n",
    "        \n",
    "        #Apply any materialVariable changes\n",
    "        for i in range(2): #go through twice\n",
    "            materialVariable.data[:] = fn.branching.conditional(DG.condition_list).evaluate(gSwarm)\n",
    "        \n",
    "        #Also update any information related to faults / interfaces:\n",
    "\n",
    "        sd, pts0 = fault.compute_signed_distance(gSwarm.particleCoordinates.data, distance=w0)\n",
    "        sp, pts0 = fault.compute_marker_proximity(gSwarm.particleCoordinates.data)\n",
    "\n",
    "        proximityVariable.data[np.logical_and(sd<0,sp == fault.ID)] = sp[np.logical_and(sd<0,sp == fault.ID)]\n",
    "\n",
    "        dv, nzv = fault.compute_normals(gSwarm.particleCoordinates.data)\n",
    "        directorVector.data[nzv] = dv[nzv]\n",
    "\n",
    "        proximityVariable.data[gSwarm.particleCoordinates.data[:,1]  < (1. - ndp.CRUSTVISCUTOFF)] = 0.\n",
    "        \n",
    "        #And add extra particles to interfaces as necessary\n",
    "        #subduction fault\n",
    "        #introPoint = ndp.subzone - abs(ndp.subzone - ndp.lRidge)/2. #half way between ridge and Sz\n",
    "        introPoint = ndp.subzone - abs(ndp.subzone - mesh.minCoord[0])/2. #half way between ridge and domain edge\n",
    "        fault.add_points([introPoint],[MAXY - faultthickness])\n",
    "\n",
    "\n",
    "        \n",
    "    ################\n",
    "    #Checkpoint\n",
    "    ################\n",
    "    if step % checkpoint_every == 0:\n",
    "        if uw.rank() == 0:\n",
    "            checkpoint1(step, checkpointPath,f_o, metric_output)           \n",
    "        checkpoint2(step, checkpointPath, gSwarm, f_o, varlist = varlist, varnames = varnames)\n",
    "        checkpoint3(step,  checkpointPath, interfaces,interfacenames )\n",
    "        f_o = open(os.path.join(outputPath, outputFile), 'a') #is this line supposed to be here?\n",
    "        \n",
    "    \n",
    "    \n",
    "f_o.close()\n",
    "print 'step =',step"
   ]
  },
  {
   "cell_type": "code",
   "execution_count": 8,
   "metadata": {
    "collapsed": false
   },
   "outputs": [
    {
     "ename": "NameError",
     "evalue": "name 'file_path' is not defined",
     "output_type": "error",
     "traceback": [
      "\u001b[1;31m\u001b[0m",
      "\u001b[1;31mNameError\u001b[0mTraceback (most recent call last)",
      "\u001b[1;32m<ipython-input-8-d52958dc5cee>\u001b[0m in \u001b[0;36m<module>\u001b[1;34m()\u001b[0m\n\u001b[1;32m----> 1\u001b[1;33m \u001b[0mos\u001b[0m\u001b[1;33m.\u001b[0m\u001b[0mpath\u001b[0m\u001b[1;33m.\u001b[0m\u001b[0mexists\u001b[0m\u001b[1;33m(\u001b[0m\u001b[0mfile_path\u001b[0m\u001b[1;33m)\u001b[0m\u001b[1;33m\u001b[0m\u001b[0m\n\u001b[0m",
      "\u001b[1;31mNameError\u001b[0m: name 'file_path' is not defined"
     ]
    }
   ],
   "source": []
  },
  {
   "cell_type": "code",
   "execution_count": null,
   "metadata": {
    "collapsed": false
   },
   "outputs": [],
   "source": [
    "#viscVariable = gSwarm.add_variable( dataType=\"float\", count=1 )\n",
    "#viscVariable.data[:] = viscosityMapFn.evaluate(gSwarm)\n",
    "\n",
    "#buoyVariable = gSwarm.add_variable( dataType=\"float\", count=1 )\n",
    "#buoyVariable.data[:] = densityMapFn.evaluate(gSwarm)"
   ]
  },
  {
   "cell_type": "code",
   "execution_count": 70,
   "metadata": {
    "collapsed": true
   },
   "outputs": [],
   "source": [
    "#Level 3. lithosphere - mantle:\n",
    "tempMM = fn.view.min_max(temperatureField)\n",
    "tempMM.evaluate(mesh)\n",
    "TMAX = tempMM.max_global()\n",
    "mantleconditions = [ (                                  temperatureField < 0.9*ndp.TPP, 1.),\n",
    "                   (                                                   True , 0.) ]\n",
    "lithRestFn = fn.branching.conditional(mantleconditions)\n",
    "#lithRestFn*=rockRestFn #Add next level up in heirarchy"
   ]
  },
  {
   "cell_type": "code",
   "execution_count": 207,
   "metadata": {
    "collapsed": false
   },
   "outputs": [
    {
     "data": {
      "text/plain": [
       "(0.6026351151756232, 0.4643550314115336)"
      ]
     },
     "execution_count": 207,
     "metadata": {},
     "output_type": "execute_result"
    }
   ],
   "source": [
    "1.1*ndp.TPP, 0.6*TMAX"
   ]
  },
  {
   "cell_type": "code",
   "execution_count": 71,
   "metadata": {
    "collapsed": false
   },
   "outputs": [],
   "source": [
    "#fig= glucifer.Figure()\n",
    "#fig.append( glucifer.objects.Points(gSwarm,lowerPlateRestFn))\n",
    "#fig.append( glucifer.objects.Points(gSwarm, materialVariable))\n",
    "#fig.append( glucifer.objects.Surface(mesh, temperatureField ))#\n",
    "#fig.append( glucifer.objects.VectorArrows(mesh,velocityField, scaling=0.002))\n",
    "#fig.append( glucifer.objects.Surface(mesh,densityMapFn))\n",
    "#fig.append( glucifer.objects.Surface(mesh,raylieghFn))\n",
    "#fig.append( glucifer.objects.Points(fault.swarm, pointSize=4))\n",
    "#fig.show()\n",
    "#fig.save_database('test.gldb')"
   ]
  },
  {
   "cell_type": "code",
   "execution_count": 78,
   "metadata": {
    "collapsed": false
   },
   "outputs": [],
   "source": [
    "#print('proc #' + str(comm.rank) + \" \" + str(Max_vx_surf ) )\n",
    "#if uw.rank()==0:\n",
    "#    print('Proc 0' +  \" \" + str(Max_vx_surf ) )"
   ]
  },
  {
   "cell_type": "code",
   "execution_count": null,
   "metadata": {
    "collapsed": true
   },
   "outputs": [],
   "source": [
    "#figDb.save_database('test.gldb')"
   ]
  },
  {
   "cell_type": "code",
   "execution_count": 134,
   "metadata": {
    "collapsed": false
   },
   "outputs": [],
   "source": [
    "#Add the viscous heating term\n",
    "#Need to be skeptical of Projection for viscosity. Also try direct interpolation (IDW)\n",
    "viscDisProj = uw.utils.MeshVariable_Projection( viscDisFnmesh, viscDisMapFn)\n",
    "viscDisProj.solve()\n",
    "#temperatureField.data[:] += ndp.Di*dt*viscDisFnmesh.evaluate(mesh)"
   ]
  },
  {
   "cell_type": "code",
   "execution_count": 141,
   "metadata": {
    "collapsed": false
   },
   "outputs": [],
   "source": [
    "dt = advDiff.get_max_dt()*md.courantFac\n",
    "test = (ndp.Di/ndp.RA)*dt*viscDisFnmesh"
   ]
  },
  {
   "cell_type": "code",
   "execution_count": 69,
   "metadata": {
    "collapsed": false
   },
   "outputs": [],
   "source": [
    "#fig= glucifer.Figure()\n",
    "#fig.append( glucifer.objects.Points(gSwarm,lowerPlateRestFn))\n",
    "#fig.append( glucifer.objects.Points(gSwarm, viscosityMapFn, logScale=True, valueRange =[1e-3,1e5]))\n",
    "#fig.append( glucifer.objects.Surface(mesh, stressField))#\n",
    "\n",
    "#fig.show()"
   ]
  },
  {
   "cell_type": "code",
   "execution_count": 143,
   "metadata": {
    "collapsed": false
   },
   "outputs": [
    {
     "data": {
      "text/plain": [
       "3.7968333000347254e-05"
      ]
     },
     "execution_count": 143,
     "metadata": {},
     "output_type": "execute_result"
    }
   ],
   "source": [
    "#test.evaluate(mesh).max()"
   ]
  },
  {
   "cell_type": "code",
   "execution_count": 34,
   "metadata": {
    "collapsed": false
   },
   "outputs": [
    {
     "data": {
      "text/plain": [
       "0"
      ]
     },
     "execution_count": 34,
     "metadata": {},
     "output_type": "execute_result"
    }
   ],
   "source": [
    "step"
   ]
  },
  {
   "cell_type": "code",
   "execution_count": 41,
   "metadata": {
    "collapsed": false
   },
   "outputs": [],
   "source": []
  },
  {
   "cell_type": "code",
   "execution_count": 40,
   "metadata": {
    "collapsed": false
   },
   "outputs": [
    {
     "data": {
      "text/plain": [
       "'results/T/0/xdmf/velocity_'"
      ]
     },
     "execution_count": 40,
     "metadata": {},
     "output_type": "execute_result"
    }
   ],
   "source": []
  },
  {
   "cell_type": "code",
   "execution_count": 1,
   "metadata": {
    "collapsed": false
   },
   "outputs": [
    {
     "ename": "NameError",
     "evalue": "name '_mH' is not defined",
     "output_type": "error",
     "traceback": [
      "\u001b[1;31m\u001b[0m",
      "\u001b[1;31mNameError\u001b[0mTraceback (most recent call last)",
      "\u001b[1;32m<ipython-input-1-0b56cc610c64>\u001b[0m in \u001b[0;36m<module>\u001b[1;34m()\u001b[0m\n\u001b[1;32m----> 1\u001b[1;33m \u001b[0m_mH\u001b[0m\u001b[1;33m\u001b[0m\u001b[0m\n\u001b[0m",
      "\u001b[1;31mNameError\u001b[0m: name '_mH' is not defined"
     ]
    }
   ],
   "source": []
  },
  {
   "cell_type": "code",
   "execution_count": 28,
   "metadata": {
    "collapsed": false
   },
   "outputs": [],
   "source": [
    "#1. - 660/2900."
   ]
  },
  {
   "cell_type": "code",
   "execution_count": null,
   "metadata": {
    "collapsed": true
   },
   "outputs": [],
   "source": []
  }
 ],
 "metadata": {
  "kernelspec": {
   "display_name": "Python 2",
   "language": "python",
   "name": "python2"
  },
  "language_info": {
   "codemirror_mode": {
    "name": "ipython",
    "version": 2
   },
   "file_extension": ".py",
   "mimetype": "text/x-python",
   "name": "python",
   "nbconvert_exporter": "python",
   "pygments_lexer": "ipython2",
   "version": "2.7.9"
  },
  "widgets": {
   "state": {},
   "version": "1.1.2"
  }
 },
 "nbformat": 4,
 "nbformat_minor": 0
}
