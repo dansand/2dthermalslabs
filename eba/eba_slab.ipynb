{
 "cells": [
  {
   "cell_type": "markdown",
   "metadata": {
    "deletable": true,
    "editable": true
   },
   "source": [
    "## Composite, non-linear rheology, extended Boussinesq approximation:\n",
    "\n",
    "\n",
    "The viscous rheology in this model is similar to the Garel et al paper cited below. Other parts of the model setup are similar to Čížková and Bina (2015), Arredondo and Billen (2016).\n",
    "\n",
    "Here we use a dimensionless system. For the psuedo-plastic effective rheology a Drucker-prager model is used.\n",
    "\n",
    "\n",
    "**Keywords:** subduction, composite rheology, dislocation creep\n",
    "\n",
    "\n",
    "**References:**\n",
    "\n",
    "\n",
    "Garel, Fanny, et al. \"Interaction of subducted slabs with the mantle transition‐zone: A regime diagram from 2‐D thermo‐mechanical models with a mobile trench and an overriding plate.\" Geochemistry, Geophysics, Geosystems 15.5 (2014): 1739-1765.\n",
    "\n",
    "Čížková, Hana, and Craig R. Bina. \"Geodynamics of trench advance: Insights from a Philippine-Sea-style geometry.\" Earth and Planetary Science Letters 430 (2015): 408-415.\n",
    "\n",
    "Arredondo, Katrina M., and Magali I. Billen. \"The Effects of Phase Transitions and Compositional Layering in Two-dimensional Kinematic Models of Subduction.\" Journal of Geodynamics (2016).\n"
   ]
  },
  {
   "cell_type": "code",
   "execution_count": 135,
   "metadata": {
    "collapsed": false,
    "deletable": true,
    "editable": true
   },
   "outputs": [],
   "source": [
    "import numpy as np\n",
    "import underworld as uw\n",
    "import math\n",
    "from underworld import function as fn\n",
    "import glucifer\n",
    "\n",
    "import os\n",
    "import sys\n",
    "import natsort\n",
    "import shutil\n",
    "from easydict import EasyDict as edict\n",
    "import operator\n",
    "import pint\n",
    "import time\n",
    "import operator\n",
    "from slippy2 import boundary_layer2d\n",
    "from slippy2 import material_graph\n",
    "from slippy2 import spmesh\n",
    "from slippy2 import phase_function\n",
    "from unsupported.interfaces import markerLine2D\n",
    "\n",
    "\n",
    "from mpi4py import MPI\n",
    "comm = MPI.COMM_WORLD\n",
    "rank = comm.Get_rank()"
   ]
  },
  {
   "cell_type": "code",
   "execution_count": 136,
   "metadata": {
    "collapsed": false,
    "deletable": true,
    "editable": true
   },
   "outputs": [],
   "source": [
    "#####\n",
    "#Stubborn version number conflicts - need to figure out my Docker container runs an old version. For now...\n",
    "#####\n",
    "try:\n",
    "    natsort.natsort = natsort.natsorted\n",
    "except:\n",
    "    natsort.natsort = natsort.natsort"
   ]
  },
  {
   "cell_type": "code",
   "execution_count": null,
   "metadata": {
    "collapsed": true,
    "deletable": true,
    "editable": true
   },
   "outputs": [],
   "source": []
  },
  {
   "cell_type": "code",
   "execution_count": 137,
   "metadata": {
    "collapsed": false,
    "deletable": true,
    "editable": true
   },
   "outputs": [],
   "source": [
    "#store = glucifer.Store('subduction')\n",
    "#figParticle = glucifer.Figure( store, figsize=(960,300), name=\"Particles\" )\n",
    "\n",
    "#figParticle.save_database('test.gldb')"
   ]
  },
  {
   "cell_type": "markdown",
   "metadata": {
    "deletable": true,
    "editable": true
   },
   "source": [
    "Model name and directories\n",
    "-----"
   ]
  },
  {
   "cell_type": "code",
   "execution_count": 138,
   "metadata": {
    "collapsed": true,
    "deletable": true,
    "editable": true
   },
   "outputs": [],
   "source": [
    "############\n",
    "#Model letter and number\n",
    "############\n",
    "\n",
    "\n",
    "#Model letter identifier default\n",
    "Model = \"T\"\n",
    "\n",
    "#Model number identifier default:\n",
    "ModNum = 0\n",
    "\n",
    "#Any isolated letter / integer command line args are interpreted as Model/ModelNum\n",
    "\n",
    "if len(sys.argv) == 1:\n",
    "    ModNum = ModNum \n",
    "elif sys.argv[1] == '-f': #\n",
    "    ModNum = ModNum \n",
    "else:\n",
    "    for farg in sys.argv[1:]:\n",
    "        if not '=' in farg: #then Assume it's a not a paramter argument\n",
    "            try:\n",
    "                ModNum = int(farg) #try to convert everingthing to a float, else remains string\n",
    "            except ValueError:\n",
    "                Model  = farg"
   ]
  },
  {
   "cell_type": "code",
   "execution_count": 139,
   "metadata": {
    "collapsed": false,
    "deletable": true,
    "editable": true
   },
   "outputs": [],
   "source": [
    "###########\n",
    "#Standard output directory setup\n",
    "###########\n",
    "\n",
    "outputPath = \"results\" + \"/\" +  str(Model) + \"/\" + str(ModNum) + \"/\" \n",
    "imagePath = outputPath + 'images/'\n",
    "filePath = outputPath + 'files/'\n",
    "checkpointPath = outputPath + 'checkpoint/'\n",
    "dbPath = outputPath + 'gldbs/'\n",
    "xdmfPath = outputPath + 'xdmf/'\n",
    "outputFile = 'results_model' + Model + '_' + str(ModNum) + '.dat'\n",
    "\n",
    "if uw.rank()==0:\n",
    "    # make directories if they don't exist\n",
    "    if not os.path.isdir(outputPath):\n",
    "        os.makedirs(outputPath)\n",
    "    if not os.path.isdir(checkpointPath):\n",
    "        os.makedirs(checkpointPath)\n",
    "    if not os.path.isdir(imagePath):\n",
    "        os.makedirs(imagePath)\n",
    "    if not os.path.isdir(dbPath):\n",
    "        os.makedirs(dbPath)\n",
    "    if not os.path.isdir(filePath):\n",
    "        os.makedirs(filePath)\n",
    "    if not os.path.isdir(xdmfPath):\n",
    "        os.makedirs(xdmfPath)\n",
    "        \n",
    "comm.Barrier() #Barrier here so no procs run the check in the next cell too early"
   ]
  },
  {
   "cell_type": "code",
   "execution_count": 140,
   "metadata": {
    "collapsed": false,
    "deletable": true,
    "editable": true
   },
   "outputs": [
    {
     "name": "stdout",
     "output_type": "stream",
     "text": [
      "results/T/0/checkpoint/ is empty\n"
     ]
    }
   ],
   "source": [
    "###########\n",
    "#Check if starting from checkpoint\n",
    "###########\n",
    "\n",
    "checkdirs = []\n",
    "for dirpath, dirnames, files in os.walk(checkpointPath):\n",
    "    if files:\n",
    "        print dirpath, 'has files'\n",
    "        checkpointLoad = True\n",
    "        checkdirs.append(dirpath)\n",
    "    if not files:\n",
    "        print dirpath, 'is empty'\n",
    "        checkpointLoad = False"
   ]
  },
  {
   "cell_type": "code",
   "execution_count": 141,
   "metadata": {
    "collapsed": true,
    "deletable": true,
    "editable": true
   },
   "outputs": [],
   "source": [
    "# setup summary output file (name above)\n",
    "if checkpointLoad:\n",
    "    checkpointLoadDir = natsort.natsort(checkdirs)[-1]\n",
    "    if uw.rank() == 0:\n",
    "        shutil.copyfile(os.path.join(checkpointLoadDir, outputFile), outputPath+outputFile)\n",
    "    comm.Barrier()\n",
    "    f_o = open(os.path.join(outputPath, outputFile), 'a')\n",
    "    prevdata = np.genfromtxt(os.path.join(outputPath, outputFile), skip_header=0, skip_footer=0)\n",
    "    if len(prevdata.shape) == 1: #this is in case there is only one line in previous file\n",
    "        realtime = prevdata[-1]  #This corresponds to the column you write time data to\n",
    "    else:\n",
    "        realtime = prevdata[prevdata.shape[0]-1, -1]\n",
    "    step = int(checkpointLoadDir.split('/')[-1])\n",
    "    timevals = [0.]\n",
    "else:\n",
    "    f_o = open(outputPath+outputFile, 'w')\n",
    "    realtime = 0.\n",
    "    step = 0\n",
    "    timevals = [0.]"
   ]
  },
  {
   "cell_type": "markdown",
   "metadata": {
    "deletable": true,
    "editable": true
   },
   "source": [
    "Setup parameters\n",
    "-----\n",
    "\n",
    "Set simulation parameters for test."
   ]
  },
  {
   "cell_type": "markdown",
   "metadata": {
    "deletable": true,
    "editable": true
   },
   "source": [
    "**Use pint to setup any unit conversions we'll need**"
   ]
  },
  {
   "cell_type": "code",
   "execution_count": 142,
   "metadata": {
    "collapsed": false,
    "deletable": true,
    "editable": true
   },
   "outputs": [
    {
     "data": {
      "text/html": [
       "10000.0 meter/megayear"
      ],
      "text/latex": [
       "$10000.0 \\frac{meter}{megayear}$"
      ],
      "text/plain": [
       "<Quantity(10000.0, 'meter / megayear')>"
      ]
     },
     "execution_count": 142,
     "metadata": {},
     "output_type": "execute_result"
    }
   ],
   "source": [
    "u = pint.UnitRegistry()\n",
    "cmpery = 1.*u.cm/u.year\n",
    "mpermy = 1.*u.m/u.megayear\n",
    "year = 1.*u.year\n",
    "spery = year.to(u.sec)\n",
    "cmpery.to(mpermy)"
   ]
  },
  {
   "cell_type": "code",
   "execution_count": 143,
   "metadata": {
    "collapsed": false,
    "deletable": true,
    "editable": true
   },
   "outputs": [
    {
     "name": "stdout",
     "output_type": "stream",
     "text": [
      "(0.04, 1.2675505856327397e-11)\n"
     ]
    }
   ],
   "source": [
    "box_half_width =4000e3\n",
    "age_at_trench = 100e6\n",
    "cmperyear = box_half_width / age_at_trench #m/y\n",
    "mpersec = cmperyear*(cmpery.to(u.m/u.second)).magnitude #m/sec\n",
    "print(cmperyear, mpersec )"
   ]
  },
  {
   "cell_type": "markdown",
   "metadata": {
    "deletable": true,
    "editable": true
   },
   "source": [
    "**Set parameter dictionaries**\n",
    "\n",
    "* Parameters are stored in dictionaries. \n",
    "* If starting from checkpoint, parameters are loaded using pickle\n",
    "* If params are passed in as flags to the script, they overwrite "
   ]
  },
  {
   "cell_type": "code",
   "execution_count": 144,
   "metadata": {
    "collapsed": true,
    "deletable": true,
    "editable": true
   },
   "outputs": [],
   "source": [
    "###########\n",
    "#Parameter / settings dictionaries get saved&loaded using pickle\n",
    "###########\n",
    " \n",
    "dp = edict({}) #dimensional parameters\n",
    "sf = edict({}) #scaling factors\n",
    "ndp = edict({}) #dimensionless paramters\n",
    "md = edict({}) #model paramters, flags etc\n",
    "#od = edict({}) #output frequencies\n"
   ]
  },
  {
   "cell_type": "code",
   "execution_count": 145,
   "metadata": {
    "collapsed": true,
    "deletable": true,
    "editable": true
   },
   "outputs": [],
   "source": [
    "dict_list = [dp, sf, ndp, md]\n",
    "dict_names = ['dp.pkl', 'sf.pkl', 'ndp.pkl', 'md.pkl']\n",
    "\n",
    "def save_pickles(dict_list, dict_names, dictPath):\n",
    "    import pickle\n",
    "    counter = 0\n",
    "    for pdict in dict_list:\n",
    "        myfile = os.path.join(dictPath, dict_names[counter])\n",
    "        with open(myfile, 'wb') as f:\n",
    "            pickle.dump(pdict, f)\n",
    "        counter+=1\n",
    "\n",
    "\n",
    "#ended up having to pretty much write a hard-coded function\n",
    "#All dictionaries we want checkpointed will have to  be added here \n",
    "#and where the function is called\n",
    "#Fortunately, this function is only called ONCE\n",
    "\n",
    "def load_pickles():\n",
    "    import pickle\n",
    "    dirpath = os.path.join(checkpointPath, str(step))\n",
    "    dpfile = open(os.path.join(dirpath, 'dp.pkl'), 'r')\n",
    "    dp = pickle.load(dpfile)\n",
    "#    #\n",
    "    ndpfile = open(os.path.join(dirpath, 'ndp.pkl'), 'r')\n",
    "    ndp = edict(pickle.load(ndpfile))\n",
    "    #\n",
    "    sffile = open(os.path.join(dirpath, 'sf.pkl'), 'r')\n",
    "    sf = edict(pickle.load(sffile))\n",
    "    #\n",
    "    mdfile = open(os.path.join(dirpath, 'md.pkl'), 'r')\n",
    "    md = edict(pickle.load(mdfile))\n",
    "    return dp, ndp, sf, md"
   ]
  },
  {
   "cell_type": "code",
   "execution_count": 146,
   "metadata": {
    "collapsed": false,
    "deletable": true,
    "editable": true
   },
   "outputs": [],
   "source": [
    "###########\n",
    "#Store the physical parameters, scale factors and dimensionless pramters in easyDicts\n",
    "#Mainly helps with avoiding overwriting variables\n",
    "###########\n",
    "\n",
    "\n",
    "#Style => parameters_like_this\n",
    "\n",
    "dp = edict({#Main physical paramters\n",
    "           'depth':2000e3, #Depth\n",
    "           'LS':2900.*1e3, #Length scale\n",
    "           'rho':3300.,  #reference density\n",
    "           'g':9.8, #surface gravity\n",
    "           'eta0':1e20, #Dislocation creep at 250 km, 1573 K, 1e-15 s-1\n",
    "           'k':1e-6, #thermal diffusivity\n",
    "           'a':3e-5, #surface thermal expansivity\n",
    "           'R':8.314, #gas constant\n",
    "           'Cp':1250., #Specific heat (Jkg-1K-1)\n",
    "           'TP':1573., #mantle potential temp (K)\n",
    "           'TS':273., #surface temp (K)\n",
    "            #Rheology - flow law paramters\n",
    "           'cm':2e6, #mantle cohesion in Byerlee law\n",
    "           'cc':2e6, #crust cohesion in Byerlee law\n",
    "           'fcm':0.2,   #mantle friction coefficient in Byerlee law (tan(phi))\n",
    "           'fcc':0.02,   #crust friction coefficient \n",
    "           'Adf':3e-11, #pre-exp factor for diffusion creep\n",
    "           'Ads':5e-16, #pre-exp factor for dislocation creep\n",
    "           'Apr':1e-150,#pre-exp factor for Peierls creep\n",
    "           #'Apr':1e-145,#pre-exp factor for Peierls creep\n",
    "           'Edf':3e5,\n",
    "           'Eds':5.4e5,\n",
    "           'Epr':5.4e5,\n",
    "           'Vdf':4e-6,\n",
    "           'Vds':12e-6,\n",
    "           'Vpr':10e-6,\n",
    "           'Alm':6e-17,\n",
    "           'Elm':2.0e5,\n",
    "           'Vlm':1.5e-6,\n",
    "           'SR':1e-15, #reference strain rate\n",
    "           'n':3.5, #Dislocation creep stress exponent\n",
    "           'np':20., #Peierls creep stress exponent \n",
    "           #Rheology - cutoff values\n",
    "           'eta_min':1e18, \n",
    "           'eta_max':1e25, #viscosity max in the mantle material\n",
    "           'eta_min_crust':1e18, #viscosity min in the weak-crust material\n",
    "           'eta_max_crust':1e20, #viscosity max in the weak-crust material\n",
    "           'ysMax':10000*1e6, #10 GPa\n",
    "           #Rheology - upper /lowr mantle transition\n",
    "           'viscIncreaseDepths':[660e3],\n",
    "           'viscIncreaseWeights':[1.],\n",
    "           'viscIncreaseWidths':[10e3],\n",
    "           #Length scales\n",
    "           'MANTLETOCRUST':8.*1e3, #Crust depth\n",
    "           'HARZBURGDEPTH':40e3,\n",
    "           'CRUSTTOMANTLE':800.*1e3,\n",
    "           'LITHTOMANTLE':(900.*1e3),\n",
    "           'MANTLETOLITH':200.*1e3, \n",
    "           'TOPOHEIGHT':10.*1e3,  #rock-air topography limits\n",
    "           'CRUSTTOECL':100.*1e3,\n",
    "           'LOWMANTLEDEPTH':660.*1e3, \n",
    "           'CRUSTVISCUTOFF':250.*1e3, #Deeper than this, crust material rheology reverts to mantle rheology\n",
    "           'AGETRACKDEPTH':100e3, #above this depth we track the age of the lithsphere (below age is assumed zero)\n",
    "           #Slab and plate parameters\n",
    "           'roc':250e3,     #radius of curvature of slab\n",
    "           'subzone':0.0,   #X position of subduction zone...km\n",
    "           'lRidge':-1.*(5000e3),  #For depth = 670 km, aspect ratio of 4, this puts the ridges at MINX, MAXX\n",
    "           'rRidge':(5000e3),\n",
    "           'maxDepth':450e3,\n",
    "           'theta':70., #Angle to truncate the slab (can also control with a maxDepth param)\n",
    "           'slabmaxAge':100e6, #age of subduction plate at trench\n",
    "           'platemaxAge':100e6, #max age of slab (Plate model)\n",
    "           'opmaxAge':100e6, #age of op\n",
    "           'sense':'Right', #dip direction\n",
    "           #'op_age_fac':0.2, #this controls the overidding plate age reduction\n",
    "           #Misc\n",
    "           'rDepth':250e3, #reference depth (used to scale / normalize the flow laws)\n",
    "           'StALS':100e3, #depth of sticky air layer\n",
    "           'Steta_n':1e19, #stick air viscosity, normal\n",
    "           'Steta_s':1e18, #stick air viscosity, shear \n",
    "           'plate_vel':4,\n",
    "           'low_mantle_visc_fac':1.\n",
    "             })\n",
    "\n",
    "#append any derived parameters to the dictionary\n",
    "#Adiabatic heating stuff\n",
    "\n",
    "#dp.dTa = (dp.a*dp.g*(dp.TP))/dp.Cp #adibatic gradient, at Tp\n",
    "#dp.dTa = 0.0005 #adiabatic gradient, upper mantle value used in Garel et al. \n",
    "#dp.deltaTa = (dp.TP + dp.dTa*dp.LS) - dp.TS  #Adiabatic Temp at base of mantle, minus Ts\n",
    "#dp.rTemp= dp.TP + dp.rDepth*dp.dTa #reference temp, (potential temp + adiabat)\n",
    "\n",
    "#the base-of-mantle value comes from integrating the adiabatic condition across the mantle\n",
    "dp.deltaTa = (3110.65) - dp.TS  #Adiabatic Temp at base of mantle, minus Ts, \n",
    "                                #this is tied to specific choices of expansivity, Specific heat. \n"
   ]
  },
  {
   "cell_type": "code",
   "execution_count": 147,
   "metadata": {
    "collapsed": false,
    "deletable": true,
    "editable": true
   },
   "outputs": [],
   "source": [
    "#dp.deltaTa"
   ]
  },
  {
   "cell_type": "code",
   "execution_count": 148,
   "metadata": {
    "collapsed": false,
    "deletable": true,
    "editable": true
   },
   "outputs": [],
   "source": [
    "\n",
    "\n",
    "#((dp.a*dp.g*(dp.TP))/dp.Cp)\n",
    "#4.05e-5/3e-5\n",
    "#dp.a/3e-5"
   ]
  },
  {
   "cell_type": "code",
   "execution_count": 149,
   "metadata": {
    "collapsed": false,
    "deletable": true,
    "editable": true
   },
   "outputs": [],
   "source": [
    "#Modelling and Physics switches\n",
    "\n",
    "md = edict({'refineMesh':False,\n",
    "            'stickyAir':False,\n",
    "            'subductionFault':False,\n",
    "            'symmetricIcs':False,\n",
    "            'velBcs':False,\n",
    "            'aspectRatio':5., #\n",
    "            'compBuoyancy':False, #use compositional buoyancy, as well as thermal\n",
    "            'phaseBuoyancy':False,\n",
    "            'periodicBcs':False,\n",
    "            'RES':64,\n",
    "            'PIC_integration':True,\n",
    "            'ppc':25,\n",
    "            'elementType':\"Q1/dQ0\",\n",
    "            #'elementType':\"Q2/DPC1\",\n",
    "            'compBuoyancy':False, #use compositional & phase buoyancy, or simply thermal\n",
    "            'viscMechs':['diffusion', 'dislocation', 'peierls', 'yielding'],\n",
    "            'viscCombine':'harmonic', #'harmonic', 'min'\n",
    "            'secInvFac':math.sqrt(1.),\n",
    "            'courantFac':0.5 #extra limitation on timestepping\n",
    "            })"
   ]
  },
  {
   "cell_type": "code",
   "execution_count": 150,
   "metadata": {
    "collapsed": false,
    "deletable": true,
    "editable": true
   },
   "outputs": [
    {
     "name": "stdout",
     "output_type": "stream",
     "text": [
      "1.00010001\n"
     ]
    }
   ],
   "source": [
    "t = 1./dp.Adf\n",
    "print(t/3.333e10)"
   ]
  },
  {
   "cell_type": "code",
   "execution_count": 151,
   "metadata": {
    "collapsed": true,
    "deletable": true,
    "editable": true
   },
   "outputs": [],
   "source": [
    "###########\n",
    "#If starting from a checkpoint load params from file\n",
    "###########\n",
    "\n",
    "if checkpointLoad:\n",
    "    dp, ndp, sf, md = load_pickles()  #remember to add any extra dictionaries"
   ]
  },
  {
   "cell_type": "code",
   "execution_count": 152,
   "metadata": {
    "collapsed": true,
    "deletable": true,
    "editable": true
   },
   "outputs": [],
   "source": [
    "###########\n",
    "#If command line args are given, overwrite\n",
    "#Note that this assumes that params as commans line args/\n",
    "#only append to the 'dimensional' and 'model' dictionary (not the non-dimensional)\n",
    "###########    \n",
    "\n",
    "\n",
    "###########\n",
    "#If extra arguments are provided to the script\" eg:\n",
    "### >>> uw.py 2 dp.arg1=1 dp.arg2=foo dp.arg3=3.0\n",
    "###\n",
    "###This would assign ModNum = 2, all other values go into the dp dictionary, under key names provided\n",
    "###\n",
    "###Two operators are searched for, = & *=\n",
    "###\n",
    "###If =, parameter is re-assigned to givn value\n",
    "###If *=, parameter is multipled by given value\n",
    "###\n",
    "### >>> uw.py 2 dp.arg1=1 dp.arg2=foo dp.arg3*=3.0\n",
    "###########\n",
    "\n",
    "for farg in sys.argv[1:]:\n",
    "    try:\n",
    "        (dicitem,val) = farg.split(\"=\") #Split on equals operator\n",
    "        (dic,arg) = dicitem.split(\".\") #colon notation\n",
    "        if '*=' in farg:\n",
    "            (dicitem,val) = farg.split(\"*=\") #If in-place multiplication, split on '*='\n",
    "            (dic,arg) = dicitem.split(\".\")\n",
    "            \n",
    "        if val == 'True': \n",
    "            val = True\n",
    "        elif val == 'False':     #First check if args are boolean\n",
    "            val = False\n",
    "        else:\n",
    "            try:\n",
    "                val = float(val) #next try to convert  to a float,\n",
    "            except ValueError:\n",
    "                pass             #otherwise leave as string\n",
    "        #Update the dictionary\n",
    "        if farg.startswith('dp'):\n",
    "            if '*=' in farg:\n",
    "                dp[arg] = dp[arg]*val #multiply parameter by given factor\n",
    "            else:\n",
    "                dp[arg] = val    #or reassign parameter by given value\n",
    "        if farg.startswith('md'):\n",
    "            if '*=' in farg:\n",
    "                md[arg] = md[arg]*val #multiply parameter by given factor\n",
    "            else:\n",
    "                md[arg] = val    #or reassign parameter by given value\n",
    "                \n",
    "    except:\n",
    "        pass\n",
    "            \n",
    "\n",
    "comm.barrier()"
   ]
  },
  {
   "cell_type": "code",
   "execution_count": 153,
   "metadata": {
    "collapsed": false,
    "deletable": true,
    "editable": true
   },
   "outputs": [
    {
     "data": {
      "text/plain": [
       "87.65000000000009"
      ]
     },
     "execution_count": 153,
     "metadata": {},
     "output_type": "execute_result"
    }
   ],
   "source": [
    "dp.deltaTa - 2750.0"
   ]
  },
  {
   "cell_type": "code",
   "execution_count": 154,
   "metadata": {
    "collapsed": false,
    "deletable": true,
    "editable": true
   },
   "outputs": [],
   "source": [
    "if not checkpointLoad:\n",
    "    \n",
    "    #Scaling factors, used to map the dimensional parameters to dimensionless\n",
    "    \n",
    "    sf = edict({'stress':dp.LS**2/(dp.k*dp.eta0),\n",
    "            'lith_grad':dp.rho*dp.g*(dp.LS)**3/(dp.eta0*dp.k) ,\n",
    "            'vel':dp.LS/dp.k,\n",
    "            'SR':dp.LS**2/dp.k,\n",
    "            'W':(dp.rho*dp.g*dp.LS)/(dp.R*dp.deltaTa), #Including adiabatic compression, and deltaTa\n",
    "            'E': 1./(dp.R*dp.deltaTa), #using deltaTa, the guesstimated adiabatic temp differnnce to scale these paramters\n",
    "            'Ads':1./((dp.eta0**(-1.*dp.n))*(dp.k**(1. - dp.n))*(dp.LS**(-2.+ (2.*dp.n)))),\n",
    "            'Adf':dp.eta0,\n",
    "            'Apr':2.6845783276046923e+40 #same form as Ads, but ndp.np =20. (hardcoded because numbers are too big)\n",
    "                \n",
    "\n",
    "           })\n",
    "    \n",
    "     #dimensionless parameters\n",
    "    ndp = edict({\n",
    "             #Rayliegh number includes full adiabtic temp change, as this is what we scale temp with. \n",
    "             'RA':(dp.g*dp.rho*dp.a*dp.deltaTa*(dp.LS)**3)/(dp.k*dp.eta0),       \n",
    "             #'RA':(dp.g*dp.rho*dp.a*(dp.TP - dp.TS)*(dp.LS)**3)/(dp.k*dp.eta0),\n",
    "             'depth':dp.depth/dp.LS,\n",
    "             'Di': dp.a*dp.g*dp.LS/dp.Cp, #Dissipation number\n",
    "             'H':0.,\n",
    "             #Temperatures and reference depth\n",
    "             'TSP':0., #dimensionless potential temp\n",
    "             'TPP':(dp.TP - dp.TS)/dp.deltaTa, #dimensionless potential temp\n",
    "             'TS':dp.TS/dp.deltaTa,\n",
    "             'TP':dp.TP/dp.deltaTa,\n",
    "             #'rTemp':(dp.rTemp- dp.TS)/dp.deltaTa,\n",
    "             #'rDepth':dp.rDepth/dp.LS,\n",
    "              #Rheology - flow law paramters  \n",
    "             'Ads':dp.Ads*sf.Ads,\n",
    "             'Adf':dp.Adf*sf.Adf,\n",
    "             'Apr':dp.Apr*sf.Apr,\n",
    "             'Alm':dp.Alm*sf.Adf,\n",
    "             'Wdf':dp.Vdf*sf.W,\n",
    "             'Edf':dp.Edf*sf.E,\n",
    "             'Wps':dp.Vpr*sf.W,\n",
    "             'Eps':dp.Epr*sf.E,\n",
    "             'Wds':dp.Vds*sf.W,      #{df  => diffusion creep}\n",
    "             'Eds':dp.Eds*sf.E,      #{ds  => dislocation creep}\n",
    "             'Elm':dp.Elm*sf.E,      #{pr  => Peierls creep}\n",
    "             'Elm':dp.Elm*sf.E,\n",
    "             'Wlm':dp.Vlm*sf.W,\n",
    "             'cm':dp.cm*sf.stress,\n",
    "             'cc':dp.cc*sf.stress,    #{dimensionless cohesion in mantl, crust, interface}\n",
    "             'fcmd':dp.fcm*sf.lith_grad, \n",
    "             'fccd':dp.fcc*sf.lith_grad, #{dimensionless friction coefficient in mantle, crust, interface}\n",
    "             'n':dp.n, #Dislocation creep stress exponent\n",
    "             'np':dp.np, #Peierls creep stress exponent \n",
    "             #Rheology - cutoff values\n",
    "             'eta_min':dp.eta_min/dp.eta0, \n",
    "             'eta_max':dp.eta_max/dp.eta0, #viscosity max in the mantle material\n",
    "             'eta_min_crust':dp.eta_min_crust/dp.eta0, #viscosity min in the weak-crust material\n",
    "             'eta_max_crust':dp.eta_max_crust/dp.eta0, #viscosity max in the weak-crust material\n",
    "             'ysMax':dp.ysMax*sf.stress,\n",
    "             #Rheology - upper /lowr mantle transition\n",
    "             'viscIncreaseDepths':[z/dp.LS for z in dp.viscIncreaseDepths],\n",
    "             'viscIncreaseWidths':[z/dp.LS for z in dp.viscIncreaseWidths],\n",
    "             'viscIncreaseWeights':dp.viscIncreaseWeights,\n",
    "             #Lengths scales\n",
    "             'MANTLETOCRUST':dp.MANTLETOCRUST/dp.LS, #Crust depth\n",
    "             'HARZBURGDEPTH':dp.HARZBURGDEPTH/dp.LS,\n",
    "             'CRUSTTOMANTLE':dp.CRUSTTOMANTLE/dp.LS,\n",
    "             'LITHTOMANTLE':dp.LITHTOMANTLE/dp.LS,\n",
    "             'MANTLETOLITH':dp.MANTLETOLITH/dp.LS,\n",
    "             'TOPOHEIGHT':dp.TOPOHEIGHT/dp.LS,  #rock-air topography limits\n",
    "             'CRUSTTOECL':dp.CRUSTTOECL/dp.LS,\n",
    "             'LOWMANTLEDEPTH':dp.LOWMANTLEDEPTH/dp.LS, \n",
    "             'CRUSTVISCUTOFF':dp.CRUSTVISCUTOFF/dp.LS, #Deeper than this, crust material rheology reverts to mantle rheology\n",
    "             'AGETRACKDEPTH':dp.AGETRACKDEPTH/dp.LS,\n",
    "             #Slab and plate parameters\n",
    "             'roc':dp.roc/dp.LS,         #radius of curvature of slab\n",
    "             'subzone':dp.subzone/dp.LS, #X position of subduction zone...km\n",
    "             'lRidge':dp.lRidge/dp.LS,   #For depth = 670 km, aspect ratio of 4, this puts the ridges at MINX, MAXX\n",
    "             'rRidge':dp.rRidge/dp.LS,\n",
    "             'maxDepth':dp.maxDepth/dp.LS,\n",
    "             #Misc\n",
    "             'Steta_n':dp.Steta_n/dp.eta0, #stick air viscosity, normal\n",
    "             'Steta_s':dp.Steta_n/dp.eta0, #stick air viscosity, shear \n",
    "             'StALS':dp.StALS/dp.LS,\n",
    "             'plate_vel':sf.vel*dp.plate_vel*(cmpery.to(u.m/u.second)).magnitude,\n",
    "             'low_mantle_visc_fac':dp.low_mantle_visc_fac\n",
    "            })\n",
    "\n",
    "    #Append any more derived paramters\n",
    "    ndp.SR = dp.SR*sf.SR #characteristic strain rate\n",
    "    ndp.StRA = (3300.*dp.g*(dp.LS)**3)/(dp.eta0 *dp.k) #Composisitional Rayleigh number for rock-air buoyancy force\n",
    "    ndp.TaP = 1. - ndp.TPP,  #Dimensionless adiabatic component of deltaT"
   ]
  },
  {
   "cell_type": "code",
   "execution_count": 155,
   "metadata": {
    "collapsed": false,
    "deletable": true,
    "editable": true
   },
   "outputs": [],
   "source": [
    "#dp.deltaTa/(dp.TP - dp.TS)\n",
    "#650710714.5\n",
    "#ndp.RA\n",
    "#ndp.Di\n",
    "#dp.deltaTa"
   ]
  },
  {
   "cell_type": "markdown",
   "metadata": {
    "deletable": true,
    "editable": true
   },
   "source": [
    "### Output Frequency"
   ]
  },
  {
   "cell_type": "code",
   "execution_count": 156,
   "metadata": {
    "collapsed": true,
    "deletable": true,
    "editable": true
   },
   "outputs": [],
   "source": [
    "#Metric output stuff\n",
    "figures =  'store' #glucifer Store won't work on all machines, if not, set to 'gldb' \n",
    "\n",
    "#The following are step-based actions\n",
    "swarm_repop, swarm_update = 5, 10\n",
    "checkpoint_every = 100\n",
    "metric_output = 10\n",
    "sticky_air_temp = 1e6\n",
    "\n",
    "\n",
    "#The following are time-based actions\n",
    "filesMy = 0.5e6 #dimensional time intervale to write files\n",
    "files_freq  = filesMy*(3600.*365.*24.)/sf.SR  #applies to files and gldbs"
   ]
  },
  {
   "cell_type": "markdown",
   "metadata": {
    "deletable": true,
    "editable": true
   },
   "source": [
    "### Model/ mesh  setup parameters"
   ]
  },
  {
   "cell_type": "code",
   "execution_count": 157,
   "metadata": {
    "collapsed": false,
    "deletable": true,
    "editable": true
   },
   "outputs": [],
   "source": [
    "###########\n",
    "#Model setup parameters\n",
    "###########\n",
    "\n",
    "dim = 2          # number of spatial dimensions\n",
    "\n",
    "\n",
    "#Domain and Mesh paramters\n",
    "Xres = int(md.RES*8)   #more than twice the resolution in X-dim, which will be 'corrected' by the refinement we'll use in Y\n",
    "\n",
    "\n",
    "\n",
    "MINY = 1. - (ndp.depth)\n",
    "if md.stickyAir:\n",
    "    Yres = int(md.RES)\n",
    "    MAXY = 1. + dp.StALS/dp.LS #150km\n",
    "    \n",
    "else:\n",
    "    Yres = int(md.RES)\n",
    "    MAXY = 1.\n",
    "\n",
    "\n",
    "periodic = [False, False]\n",
    "if md.periodicBcs:\n",
    "    periodic = [True, False]\n",
    "    \n",
    "    \n",
    "half_width = np.round(0.5*(ndp.depth)*md.aspectRatio, 1)\n",
    "MINX = -1.*half_width\n",
    "\n",
    "MAXX = half_width\n",
    "MAXY = 1.\n",
    "\n",
    "\n",
    "\n"
   ]
  },
  {
   "cell_type": "code",
   "execution_count": 158,
   "metadata": {
    "collapsed": false,
    "deletable": true,
    "editable": true
   },
   "outputs": [],
   "source": [
    "mesh = uw.mesh.FeMesh_Cartesian( elementType = (md.elementType),\n",
    "                                 elementRes  = (Xres, Yres), \n",
    "                                 minCoord    = (MINX, MINY), \n",
    "                                 maxCoord    = (MAXX, MAXY), periodic=periodic)\n",
    "\n",
    "\n",
    "\n",
    "\n",
    "\n",
    "velocityField       = uw.mesh.MeshVariable( mesh=mesh,         nodeDofCount=2 )\n",
    "pressureField       = uw.mesh.MeshVariable( mesh=mesh.subMesh, nodeDofCount=1 )\n",
    "temperatureField    = uw.mesh.MeshVariable( mesh=mesh,         nodeDofCount=1 )\n",
    "temperatureDotField = uw.mesh.MeshVariable( mesh=mesh,         nodeDofCount=1 )\n",
    "\n",
    "\n",
    "velocityField.data[:]       = [0.,0.]\n",
    "pressureField.data[:]       = 0.\n",
    "temperatureDotField.data[:] = 0."
   ]
  },
  {
   "cell_type": "code",
   "execution_count": 159,
   "metadata": {
    "collapsed": true,
    "deletable": true,
    "editable": true
   },
   "outputs": [],
   "source": [
    "coordinate = fn.input()\n",
    "depthFn = 1. - coordinate[1] #a function providing the depth\n",
    "xFn = coordinate[0]  #a function providing the x-coordinate\n",
    "yFn = coordinate[1]  #a function providing the y-coordinate\n"
   ]
  },
  {
   "cell_type": "code",
   "execution_count": 160,
   "metadata": {
    "collapsed": false,
    "deletable": true,
    "editable": true
   },
   "outputs": [],
   "source": [
    "mesh.reset()\n",
    "\n",
    "jWalls = mesh.specialSets[\"MinJ_VertexSet\"] + mesh.specialSets[\"MaxJ_VertexSet\"]\n",
    "yFn = coordinate[1]\n",
    "yField = uw.mesh.MeshVariable( mesh=mesh, nodeDofCount=1 )\n",
    "yField.data[:] = 0.\n",
    "yBC = uw.conditions.DirichletCondition( variable=yField, indexSetsPerDof=(jWalls,) )\n",
    "\n",
    "# set bottom wall temperature bc\n",
    "for index in mesh.specialSets[\"MinJ_VertexSet\"]:\n",
    "    yField.data[index] = mesh.minCoord[1]\n",
    "# set top wall temperature bc\n",
    "for index in mesh.specialSets[\"MaxJ_VertexSet\"]:\n",
    "    yField.data[index] = mesh.maxCoord[1]\n",
    "    \n",
    "    \n",
    "    \n",
    "s = 3.5\n",
    "intensityFac = 2.5\n",
    "intensityFn = (((yFn - MINY)/(MAXY-MINY))**s)\n",
    "intensityFn *= intensityFac\n",
    "intensityFn += 1.\n",
    "\n",
    "\n",
    "yLaplaceEquation = uw.systems.SteadyStateHeat(temperatureField=yField, fn_diffusivity=intensityFn, conditions=[yBC,])\n",
    "\n",
    "# get the default heat equation solver\n",
    "yLaplaceSolver = uw.systems.Solver(yLaplaceEquation)\n",
    "# solve\n",
    "yLaplaceSolver.solve()\n",
    "\n",
    "\n",
    "#Get the array of Y positions - copy may be necessary, not sure. \n",
    "newYpos = yField.data.copy() \n",
    "\n",
    "uw.barrier()\n",
    "with mesh.deform_mesh():\n",
    "     mesh.data[:,1] = newYpos[:,0]\n"
   ]
  },
  {
   "cell_type": "code",
   "execution_count": 161,
   "metadata": {
    "collapsed": false,
    "deletable": true,
    "editable": true
   },
   "outputs": [],
   "source": [
    "#mesh.save('mesh.h5')"
   ]
  },
  {
   "cell_type": "code",
   "execution_count": 162,
   "metadata": {
    "collapsed": false,
    "deletable": true,
    "editable": true
   },
   "outputs": [],
   "source": [
    "#fig= glucifer.Figure(quality=3)\n",
    "\n",
    "#fig.append( glucifer.objects.Surface(mesh,intensityFn, discrete=True))\n",
    "#fig.append( glucifer.objects.Mesh(mesh))\n",
    "#fig.show()\n",
    "#fig.save_database('test.gldb')\n"
   ]
  },
  {
   "cell_type": "code",
   "execution_count": 163,
   "metadata": {
    "collapsed": false,
    "deletable": true,
    "editable": true
   },
   "outputs": [],
   "source": [
    "#THis is a hack for adding a sticky air domain, we redefine MAXY and things like the temperature stencil work from Y = 1. \n",
    "\n",
    "if md.stickyAir:\n",
    "    MAXY = 1."
   ]
  },
  {
   "cell_type": "markdown",
   "metadata": {
    "deletable": true,
    "editable": true
   },
   "source": [
    "Initial conditions\n",
    "-------\n"
   ]
  },
  {
   "cell_type": "code",
   "execution_count": 164,
   "metadata": {
    "collapsed": false,
    "deletable": true,
    "editable": true
   },
   "outputs": [],
   "source": [
    "#Explicit Euler to get the adiabatic temp\n",
    "\n",
    "nSamples=1000\n",
    "depths = np.linspace(0.,1. - mesh.minCoord[1],nSamples)\n",
    "\n",
    "dz = np.diff(depths)\n",
    "#c0 = ((dp.a*dp.g*dp.LS)/dp.Cp)\n",
    "c0 = ndp.Di \n",
    "_temps = np.zeros(nSamples)\n",
    "\n",
    "\n",
    "_temps[0] = ndp.TP #the key thing is we need to work in dimensionless absolute temps, i.e. ndp.TP, not ndp.TPP\n",
    "i = 1\n",
    "for delta_z in dz:\n",
    "    _temps[i] = (_temps[i-1] * (1. + c0*delta_z))\n",
    "    i +=1\n",
    "\n",
    "    \n",
    "#now cenvert to the T' system.\n",
    "_temps -=  ndp.TS"
   ]
  },
  {
   "cell_type": "code",
   "execution_count": 165,
   "metadata": {
    "collapsed": false,
    "deletable": true,
    "editable": true
   },
   "outputs": [],
   "source": [
    "#ndp.TP"
   ]
  },
  {
   "cell_type": "code",
   "execution_count": 166,
   "metadata": {
    "collapsed": true,
    "deletable": true,
    "editable": true
   },
   "outputs": [],
   "source": [
    "meshDepths = mesh.maxCoord[1] - mesh.data[:,1]\n",
    "\n",
    "tempInterp = np.interp(meshDepths, depths, np.array(_temps) )\n",
    "\n",
    "temperatureField.data[:,0] = tempInterp"
   ]
  },
  {
   "cell_type": "code",
   "execution_count": 167,
   "metadata": {
    "collapsed": false,
    "deletable": true,
    "editable": true
   },
   "outputs": [],
   "source": [
    "\n",
    "#potTempFn = ndp.TPP + (depthFn)*ndp.Di*(ndp.TP) #a function providing the (linearised) at potential temp\n",
    "\n",
    "#the adiabatic heating relies on the dimensionless absolute temperature, not T'\n",
    "abHeatFn = -1.*velocityField[1]*(temperatureField + ndp.TS)*ndp.Di #a function providing the adiabatic heating rate"
   ]
  },
  {
   "cell_type": "code",
   "execution_count": 168,
   "metadata": {
    "collapsed": true,
    "deletable": true,
    "editable": true
   },
   "outputs": [],
   "source": [
    "#Fix the ridge locations of greater than boundaries... \n",
    "\n",
    "if ndp.lRidge < mesh.minCoord[0]:\n",
    "    ndp.lRidge = mesh.minCoord[0] + (10e3/dp.LS)\n",
    "if ndp.rRidge > mesh.maxCoord[0]:\n",
    "    ndp.rRidge = mesh.maxCoord[0] - (10e3/dp.LS)"
   ]
  },
  {
   "cell_type": "code",
   "execution_count": 169,
   "metadata": {
    "collapsed": true,
    "deletable": true,
    "editable": true
   },
   "outputs": [],
   "source": [
    "def age_fn(xFn, sz = 0.0, lMOR=MINX, rMOR=MAXX, opFac=1., conjugate_plate = False):\n",
    "    \"\"\"\n",
    "    Simple function to generate a discrete 1-d (i.e x-coordinate) function for the age of the thermal BC. \n",
    "    All paramters are dimensionless\n",
    "    sz: location of subduction zone\n",
    "    lMOR: location of left-hand MOR\n",
    "    rMOR: location of right-hand MOR\n",
    "    opFac: uniform reduce the age of the right hand plate by this factor\n",
    "    conjugate_plate: if True, build plates on the outer sides of the MORs, if False, age = 0. \n",
    "    \"\"\"\n",
    "    \n",
    "    if lMOR < MINX:\n",
    "        lMOR = MINX\n",
    "    if rMOR > MAXX:\n",
    "        rMOR = MAXX\n",
    "\n",
    "    if conjugate_plate:\n",
    "        ageFn = fn.branching.conditional([(operator.and_(xFn > lMOR, xFn < sz) , (xFn + abs(lMOR))/(abs(sz-lMOR))), \n",
    "                                      (operator.and_(xFn < rMOR, xFn >= sz), (1.-(xFn + abs(sz))/abs(rMOR-sz))*opFac),\n",
    "                                      (xFn > rMOR, opFac*(xFn -abs(rMOR)) / abs(rMOR-sz) ),\n",
    "                                      (True, fn.math.abs((((xFn + abs(lMOR)) / (abs(sz-lMOR))))))\n",
    "                                         ])\n",
    "    else:    \n",
    "        \n",
    "        ageFn = fn.branching.conditional([(operator.and_(xFn > lMOR, xFn < sz) , (xFn + abs(lMOR))/(abs(sz-lMOR))), \n",
    "                                      (operator.and_(xFn < rMOR, xFn >= sz), (1.-(xFn + abs(sz))/abs(rMOR-sz))*opFac),\n",
    "\n",
    "                                      (True, 0.0)])\n",
    "    return ageFn"
   ]
  },
  {
   "cell_type": "code",
   "execution_count": 170,
   "metadata": {
    "collapsed": false,
    "deletable": true,
    "editable": true
   },
   "outputs": [],
   "source": [
    "#dp.opmaxAge = 100e6\n",
    "#dp.slabmaxAge = 32e6\n",
    "\n",
    "#%pylab inline\n",
    "#ageFn = age_fn(xFn, sz =ndp.subzone, lMOR=ndp.lRidge,rMOR=ndp.rRidge, conjugate_plate=True, opFac = dp.opmaxAge/dp.slabmaxAge)\n",
    "#plt.plot(ageFn.evaluate(tWalls))\n"
   ]
  },
  {
   "cell_type": "code",
   "execution_count": 171,
   "metadata": {
    "collapsed": false,
    "deletable": true,
    "editable": true
   },
   "outputs": [],
   "source": [
    "###########\n",
    "#Thermal initial condition 2: \n",
    "#if symmetricIC == False, we build an asymmetric subduction-zone\n",
    "###########\n",
    "\n",
    "\n",
    "#  a few conversions\n",
    "ageAtTrenchSeconds = min(dp.platemaxAge*(3600*24*365), dp.slabmaxAge*(3600*24*365))\n",
    "Org = (ndp.subzone, MAXY-ndp.roc)\n",
    "\n",
    "\n",
    "#This builds the age function\n",
    "ageFn = age_fn(xFn, sz =ndp.subzone, lMOR=ndp.lRidge,rMOR=ndp.rRidge, conjugate_plate=True, opFac = dp.opmaxAge/dp.slabmaxAge)\n",
    "\n",
    "\n",
    "#dimensionlize the age function\n",
    "ageFn *= ageAtTrenchSeconds\n",
    "\n",
    "w0 = (2.*math.sqrt(dp.k*ageAtTrenchSeconds))/dp.LS #diffusion depth of plate at the trench\n",
    "\n",
    "tempBL = (temperatureField) *fn.math.erf((depthFn*dp.LS)/(2.*fn.math.sqrt(dp.k*ageFn))) + ndp.TSP #boundary layer function\n",
    "\n",
    "#if depth is less than 2.*w0, use the thermal stencil, otherwise the adiabatic temp field\n",
    "tempTBL =  fn.branching.conditional([(depthFn < 2.*w0, tempBL),\n",
    "                          (True, temperatureField)])\n",
    "\n",
    "if not md.symmetricIcs:\n",
    "    if not checkpointLoad:\n",
    "        out = uw.utils.MeshVariable_Projection( temperatureField, tempTBL) #apply function with projection\n",
    "        out.solve()\n",
    "\n",
    "\n"
   ]
  },
  {
   "cell_type": "code",
   "execution_count": 172,
   "metadata": {
    "collapsed": false,
    "deletable": true,
    "editable": true
   },
   "outputs": [
    {
     "data": {
      "text/plain": [
       "(0.08620689655172414, 0.002758620689655172)"
      ]
     },
     "execution_count": 172,
     "metadata": {},
     "output_type": "execute_result"
    }
   ],
   "source": [
    "#ageAtTrenchSeconds, \n",
    "dp.k, w0\n",
    "ndp.roc, ndp.MANTLETOCRUST"
   ]
  },
  {
   "cell_type": "code",
   "execution_count": 173,
   "metadata": {
    "collapsed": false,
    "deletable": true,
    "editable": true
   },
   "outputs": [],
   "source": [
    "#Now build the perturbation part\n",
    "def inCircleFnGenerator(centre, radius):\n",
    "    coord = fn.input()\n",
    "    offsetFn = coord - centre\n",
    "    return fn.math.dot( offsetFn, offsetFn ) < radius**2\n",
    "\n",
    "\n",
    "\n",
    "\n",
    "\n",
    "#We use three circles to define our slab and crust perturbation,  \n",
    "Oc = inCircleFnGenerator(Org , ndp.roc)\n",
    "Oc2 = inCircleFnGenerator(Org , ndp.roc + (0.5*ndp.MANTLETOCRUST)) #increases the amount of crust in the interface\n",
    "Ic = inCircleFnGenerator(Org , ndp.roc - 2.*w0)\n",
    "Cc = inCircleFnGenerator(Org , ndp.roc - (1.*ndp.MANTLETOCRUST)) #... weak zone on 'inside' of slab\n",
    "Hc = inCircleFnGenerator(Org , ndp.roc - ndp.HARZBURGDEPTH) #... Harzburgite layer \n",
    "dx = (ndp.roc)*(np.math.tan((np.math.pi/180.)*dp.theta))\n",
    "\n",
    "\n",
    "#We'll also create a triangle which will truncate the circles defining the slab...\n",
    "if dp.sense == 'Left':\n",
    "    ptx = ndp.subzone - dx\n",
    "else:\n",
    "    ptx = ndp.subzone + dx\n",
    "coords = ((0.+ ndp.subzone, MAXY), (0.+ ndp.subzone, MAXY-ndp.roc), (ptx, MAXY))\n",
    "Tri = fn.shape.Polygon(np.array(coords))\n",
    "\n",
    "#tempBL = (temperatureField) *fn.math.erf((depthFn*dp.LS)/(2.*fn.math.sqrt(dp.k*ageFn))) + ndp.TSP #boundary layer function\n",
    "\n",
    "#Actually apply the perturbation\n",
    "if not md.symmetricIcs:\n",
    "    if not checkpointLoad:\n",
    "        sdFn = ((ndp.roc - fn.math.sqrt((coordinate[0] - Org[0])**2. + (coordinate[1] - Org[1])**2.)))\n",
    "        slabFn = ndp.TPP*fn.math.erf((sdFn*dp.LS)/(2.*math.sqrt(dp.k*ageAtTrenchSeconds))) + ndp.TSP\n",
    "        for index, coord in enumerate(mesh.data):\n",
    "            if (\n",
    "                Oc.evaluate(tuple(coord)) and\n",
    "                Tri.evaluate(tuple(coord)) and not\n",
    "                Ic.evaluate(tuple(coord)) and\n",
    "                coord[1] > (1. - ndp.maxDepth)\n",
    "                ): #In the quarter-circle defining the lithosphere\n",
    "                temperatureField.data[index] = slabFn.evaluate(mesh)[index]"
   ]
  },
  {
   "cell_type": "code",
   "execution_count": 174,
   "metadata": {
    "collapsed": false,
    "deletable": true,
    "editable": true
   },
   "outputs": [],
   "source": [
    "#tempBL.evaluate((-1.7 + 1e-6, 0.028315867670597919))\n",
    "#temperatureField.evaluate((-1.7 , 1. - 0.028315867670597919))[0][0]\n",
    "#tempBL.evaluate((mesh.minCoord[0], mesh.maxCoord[1] -distFromSlabTop[index][0]))\n",
    "#mesh.minCoord[0], mesh.maxCoord[1] -distFromSlabTop[index][0]"
   ]
  },
  {
   "cell_type": "code",
   "execution_count": 175,
   "metadata": {
    "collapsed": false,
    "deletable": true,
    "editable": true
   },
   "outputs": [],
   "source": [
    "#ndp.TPP, ndp.TP, \n",
    "#tempBL = (temperatureField) *fn.math.erf((depthFn*dp.LS)/(2.*fn.math.sqrt(dp.k*ageFn))) + ndp.TSP #boundary layer function\n",
    "#fn.input?"
   ]
  },
  {
   "cell_type": "code",
   "execution_count": 176,
   "metadata": {
    "collapsed": false,
    "deletable": true,
    "editable": true
   },
   "outputs": [],
   "source": [
    "## Make sure material in sticky air region is at the surface temperature.\n",
    "for index, coord in enumerate(mesh.data):\n",
    "            if coord[1] >= MAXY:\n",
    "                temperatureField.data[index] = ndp.TSP"
   ]
  },
  {
   "cell_type": "code",
   "execution_count": 177,
   "metadata": {
    "collapsed": false,
    "deletable": true,
    "editable": true
   },
   "outputs": [],
   "source": [
    "#temperatureField.data.max(), temperatureField.data.mean(), temperatureField.data.std(), temperatureField.data.min()"
   ]
  },
  {
   "cell_type": "code",
   "execution_count": 178,
   "metadata": {
    "collapsed": false,
    "deletable": true,
    "editable": true
   },
   "outputs": [],
   "source": [
    "#fig= glucifer.Figure(quality=3)\n",
    "\n",
    "#fig.append( glucifer.objects.Surface(mesh,temperatureField, discrete=True))\n",
    "#fig.append( glucifer.objects.Mesh(mesh))\n",
    "\n",
    "\n",
    "#fig.show()\n",
    "#fig.save_database('test.gldb')\n"
   ]
  },
  {
   "cell_type": "code",
   "execution_count": 179,
   "metadata": {
    "collapsed": false,
    "deletable": true,
    "editable": true
   },
   "outputs": [],
   "source": [
    "#ageFn = age_fn(xFn, sz =ndp.subzone, lMOR=ndp.lRidge,rMOR=ndp.rRidge, conjugate_plate=True, opFac = dp.opmaxAge/dp.slabmaxAge)\n",
    "#ageFn.evaluate(mesh).min()"
   ]
  },
  {
   "cell_type": "markdown",
   "metadata": {
    "deletable": true,
    "editable": true
   },
   "source": [
    "Boundary conditions\n",
    "-------"
   ]
  },
  {
   "cell_type": "code",
   "execution_count": 180,
   "metadata": {
    "collapsed": false,
    "deletable": true,
    "editable": true
   },
   "outputs": [
    {
     "name": "stdout",
     "output_type": "stream",
     "text": [
      "2\n"
     ]
    }
   ],
   "source": [
    "iWalls = mesh.specialSets[\"MinI_VertexSet\"] + mesh.specialSets[\"MaxI_VertexSet\"]\n",
    "jWalls = mesh.specialSets[\"MinJ_VertexSet\"] + mesh.specialSets[\"MaxJ_VertexSet\"]\n",
    "tWalls = mesh.specialSets[\"MaxJ_VertexSet\"]\n",
    "bWalls =mesh.specialSets[\"MinJ_VertexSet\"]\n",
    "\n",
    "\n",
    "#this should already be set\n",
    "#for index in mesh.specialSets[\"MinJ_VertexSet\"]:\n",
    "#    temperatureField.data[index] = 1.0 \n",
    "\n",
    "for index in mesh.specialSets[\"MaxJ_VertexSet\"]:\n",
    "    temperatureField.data[index] = ndp.TSP\n",
    "\n",
    "VelBCs = mesh.specialSets[\"Empty\"]\n",
    "\n",
    "\n",
    "\n",
    "if md.velBcs:\n",
    "    for index in list(tWalls.data):\n",
    "\n",
    "        if (mesh.data[int(index)][0] < (ndp.subzone - 0.05*md.aspectRatio) and \n",
    "            mesh.data[int(index)][0] > (mesh.minCoord[0] + 0.05*md.aspectRatio)): #Only push with a portion of teh overiding plate\n",
    "            #print \"first\"\n",
    "            VelBCs.add(int(index))\n",
    "            #Set the plate velocities for the kinematic phase\n",
    "            velocityField.data[index] = [ndp.plate_vel, 0.]\n",
    "        \n",
    "        elif (mesh.data[int(index)][0] > (ndp.subzone + 0.05*md.aspectRatio) and \n",
    "            mesh.data[int(index)][0] < (mesh.maxCoord[0] - 0.05*md.aspectRatio)):\n",
    "            #print \"second\"\n",
    "            VelBCs.add(int(index))\n",
    "            #Set the plate velocities for the kinematic phase\n",
    "            velocityField.data[index] = [0., 0.]\n",
    "        \n",
    "\n",
    "#If periodic, we'll fix a the x-vel at a single node - at the bottom left (index 0)\n",
    "Fixed = mesh.specialSets[\"Empty\"]\n",
    "Fixed.add(int(0))        \n",
    "        \n",
    "\n",
    "if periodic[0] == False:\n",
    "    if md.velBcs:\n",
    "        print(1)\n",
    "        freeslipBC = uw.conditions.DirichletCondition( variable      = velocityField, \n",
    "                                               indexSetsPerDof = ( iWalls + VelBCs, jWalls) )\n",
    "    else:\n",
    "        print(2)\n",
    "        freeslipBC = uw.conditions.DirichletCondition( variable      = velocityField, \n",
    "                                               indexSetsPerDof = ( iWalls, jWalls) )\n",
    "\n",
    "\n",
    "\n",
    "if periodic[0] == True:\n",
    "    if md.velBcs:\n",
    "        print(3)\n",
    "        freeslipBC = uw.conditions.DirichletCondition( variable      = velocityField, \n",
    "                                               indexSetsPerDof = ( Fixed + VelBCs , jWalls) )\n",
    "    else:\n",
    "        print(4)\n",
    "        freeslipBC = uw.conditions.DirichletCondition( variable      = velocityField, \n",
    "                                               indexSetsPerDof = ( Fixed, jWalls) )\n",
    "        \n",
    "    \n",
    "    \n",
    "    \n",
    "# also set dirichlet for temp field\n",
    "dirichTempBC = uw.conditions.DirichletCondition(     variable=temperatureField, \n",
    "                                              indexSetsPerDof=(tWalls,) )\n",
    "dT_dy = [0.,0.]\n",
    "\n",
    "# also set dirichlet for temp field\n",
    "neumannTempBC = uw.conditions.NeumannCondition( dT_dy, variable=temperatureField, \n",
    "                                         nodeIndexSet=bWalls)\n",
    "\n"
   ]
  },
  {
   "cell_type": "code",
   "execution_count": 181,
   "metadata": {
    "collapsed": false,
    "deletable": true,
    "editable": true
   },
   "outputs": [],
   "source": [
    "#check VelBCs are where we want them\n",
    "#test = np.zeros(len(tWalls.data))\n",
    "#VelBCs\n",
    "#tWalls.data\n",
    "#tWalls.data[VelBCs.data]\n",
    "#test[np.in1d(tWalls.data, VelBCs.data)] = 1.\n",
    "#test\n",
    "\n"
   ]
  },
  {
   "cell_type": "code",
   "execution_count": null,
   "metadata": {
    "collapsed": false,
    "deletable": true,
    "editable": true
   },
   "outputs": [],
   "source": []
  },
  {
   "cell_type": "markdown",
   "metadata": {
    "deletable": true,
    "editable": true
   },
   "source": [
    "Swarm setup\n",
    "-----\n"
   ]
  },
  {
   "cell_type": "code",
   "execution_count": 182,
   "metadata": {
    "collapsed": false,
    "deletable": true,
    "editable": true
   },
   "outputs": [],
   "source": [
    "###########\n",
    "#Material Swarm and variables\n",
    "###########\n",
    "\n",
    "#create material swarm\n",
    "gSwarm = uw.swarm.Swarm(mesh=mesh, particleEscape=True)\n",
    "#vSwarm = uw.swarm.Swarm(mesh=mesh, particleEscape=True)\n",
    "\n",
    "\n",
    "#create swarm variables\n",
    "yieldingCheck = gSwarm.add_variable( dataType=\"int\", count=1 )\n",
    "#tracerVariable = gSwarm.add_variable( dataType=\"int\", count=1)\n",
    "materialVariable = gSwarm.add_variable( dataType=\"int\", count=1 )\n",
    "ageVariable = gSwarm.add_variable( dataType=\"double\", count=1 )\n",
    "#testVariable = gSwarm.add_variable( dataType=\"float\", count=1 )\n",
    "\n",
    "\n",
    "#these lists  are part of the checkpointing implementation\n",
    "varlist = [materialVariable, yieldingCheck, ageVariable]\n",
    "varnames = ['materialVariable', 'yieldingCheck', 'ageVariable']"
   ]
  },
  {
   "cell_type": "code",
   "execution_count": 183,
   "metadata": {
    "collapsed": false,
    "deletable": true,
    "editable": true
   },
   "outputs": [],
   "source": [
    "mantleIndex = 0\n",
    "crustIndex = 1\n",
    "harzIndex = 2\n",
    "airIndex = 3\n",
    "\n",
    "\n",
    "\n",
    "if checkpointLoad:\n",
    "    checkpointLoadDir = natsort.natsort(checkdirs)[-1]\n",
    "    temperatureField.load(os.path.join(checkpointLoadDir, \"temperatureField\" + \".hdf5\"))\n",
    "    pressureField.load(os.path.join(checkpointLoadDir, \"pressureField\" + \".hdf5\"))\n",
    "    velocityField.load(os.path.join(checkpointLoadDir, \"velocityField\" + \".hdf5\"))\n",
    "    gSwarm.load(os.path.join(checkpointLoadDir, \"swarm\" + \".h5\"))\n",
    "    for ix in range(len(varlist)):\n",
    "        varb = varlist[ix]\n",
    "        varb.load(os.path.join(checkpointLoadDir,varnames[ix] + \".h5\"))\n",
    "\n",
    "else:\n",
    "\n",
    "    # Layouts are used to populate the swarm across the whole domain\n",
    "    layout = uw.swarm.layouts.PerCellRandomLayout(swarm=gSwarm, particlesPerCell=int(md.ppc))\n",
    "    gSwarm.populate_using_layout( layout=layout ) # Now use it to populate.\n",
    "\n",
    "\n",
    "    # Swarm variables\n",
    "    materialVariable.data[:] = mantleIndex\n",
    "    #tracerVariable.data[:] = 1\n",
    "    yieldingCheck.data[:] = 0\n",
    "    ageVariable.data[:] = -1\n",
    "\n",
    "    #Set initial air and crust materials (allow the graph to take care of lithsophere)\n",
    "    #########\n",
    "    #This initial material setup will be model dependent\n",
    "    #########\n",
    "    for particleID in range(gSwarm.particleCoordinates.data.shape[0]):\n",
    "        if (1. - gSwarm.particleCoordinates.data[particleID][1]) < ndp.MANTLETOCRUST:\n",
    "                 materialVariable.data[particleID] = crustIndex\n",
    "                \n",
    "                \n",
    "                \n",
    "#also create a swarm for viewing. This one doesn't need to be checkpointed               \n",
    "#layout1 = uw.swarm.layouts.PerCellRandomLayout(swarm=vSwarm, particlesPerCell=int(md.ppc/8))\n",
    "#vSwarm.populate_using_layout( layout=layout1 ) # Now use it to populate."
   ]
  },
  {
   "cell_type": "code",
   "execution_count": null,
   "metadata": {
    "collapsed": false,
    "deletable": true,
    "editable": true
   },
   "outputs": [],
   "source": []
  },
  {
   "cell_type": "code",
   "execution_count": 184,
   "metadata": {
    "collapsed": false,
    "deletable": true,
    "editable": true
   },
   "outputs": [],
   "source": [
    "##############\n",
    "#Set the initial particle age for particles above the critical depth; \n",
    "#only material older than crustageCond will be transformed to crust / harzburgite\n",
    "##############\n",
    "\n",
    "ageVariable.data[:] = 0. #start with all zero\n",
    "ageVariable.data[:] = ageFn.evaluate(gSwarm)/sf.SR\n",
    "crustageCond = 2e6*(3600.*365.*24.)/sf.SR #set inital age above critical depth. (x...Ma)\n",
    "\n",
    "\n",
    "\n",
    "ageConditions = [ (depthFn < ndp.AGETRACKDEPTH, ageVariable),  #In the main loop we add ageVariable + dt here\n",
    "                  (True, 0.) ]\n",
    "                 \n",
    "#apply conditional \n",
    "ageVariable.data[:] = fn.branching.conditional( ageConditions ).evaluate(gSwarm)\n",
    "\n",
    "ageDT = 0.#this is used in the main loop for short term time increments"
   ]
  },
  {
   "cell_type": "code",
   "execution_count": 185,
   "metadata": {
    "collapsed": false,
    "deletable": true,
    "editable": true
   },
   "outputs": [],
   "source": [
    "#fig= glucifer.Figure()\n",
    "#fig.append( glucifer.objects.Points(gSwarm,ageVariable))\n",
    "#fig.append( glucifer.objects.Points(gSwarm, viscosityMapFn, logScale=True, valueRange =[1e-3,1e5]))\n",
    "\n",
    "#fig.append( glucifer.objects.Surface(mesh, strainRate_2ndInvariant, logScale=True, valueRange =[1e-3,1e5] ))\n",
    "#fig.append( glucifer.objects.VectorArrows(mesh,velocityField, scaling=0.002))\n",
    "#fig.append( glucifer.objects.Surface(mesh,densityMapFn))\n",
    "#fig.append( glucifer.objects.Surface(mesh,raylieghFn))\n",
    "\n",
    "#fig.show()"
   ]
  },
  {
   "cell_type": "code",
   "execution_count": 186,
   "metadata": {
    "collapsed": false,
    "deletable": true,
    "editable": true
   },
   "outputs": [],
   "source": [
    "##############\n",
    "#Here we set up a directed graph object that we we use to control the transformation from one material type to another\n",
    "##############\n",
    "\n",
    "#All depth conditions are given as (km/D) where D is the length scale,\n",
    "#note that 'model depths' are used, e.g. 1-z, where z is the vertical Underworld coordinate\n",
    "#All temp conditions are in dimensionless temp. [0. - 1.]\n",
    "\n",
    "#Need a list of all material indexes (safer in parallel)\n",
    "material_list = [0,1,2,3]\n",
    "\n",
    "if not checkpointLoad:\n",
    "    materialVariable.data[:] = 0 #Initialize to zero \n",
    "\n",
    "#Setup the graph object\n",
    "DG = material_graph.MatGraph()\n",
    "\n",
    "#Important: First thing to do is to add all the material types to the graph (i.e add nodes)\n",
    "DG.add_nodes_from(material_list)\n",
    "\n",
    "#Now set the conditions for transformations\n",
    "\n",
    "hs = 2e3/dp.LS  #add some hysteresis to the depths of transition\n",
    "\n",
    "#... to mantle\n",
    "DG.add_transition((crustIndex,mantleIndex), depthFn, operator.gt, ndp.CRUSTTOMANTLE + hs)\n",
    "DG.add_transition((harzIndex,mantleIndex), depthFn, operator.gt, ndp.CRUSTTOMANTLE + hs)\n",
    "DG.add_transition((airIndex,mantleIndex), depthFn, operator.gt, ndp.TOPOHEIGHT + hs)\n",
    "\n",
    "#... to crust\n",
    "DG.add_transition((mantleIndex,crustIndex), depthFn, operator.lt, ndp.MANTLETOCRUST)\n",
    "DG.add_transition((mantleIndex,crustIndex), xFn, operator.lt, ndp.subzone) #No crust on the upper plate\n",
    "DG.add_transition((mantleIndex,crustIndex), ageVariable, operator.gt, crustageCond)\n",
    "\n",
    "\n",
    "DG.add_transition((harzIndex,crustIndex), depthFn, operator.lt, ndp.MANTLETOCRUST)\n",
    "DG.add_transition((harzIndex,crustIndex), xFn, operator.lt, ndp.subzone) #This one sets no crust on the upper plate\n",
    "DG.add_transition((harzIndex,crustIndex), ageVariable, operator.gt, crustageCond)\n",
    "\n",
    "#... to Harzbugite\n",
    "DG.add_transition((mantleIndex,harzIndex), depthFn, operator.lt, ndp.HARZBURGDEPTH)\n",
    "DG.add_transition((mantleIndex,harzIndex), depthFn, operator.gt, ndp.MANTLETOCRUST)\n",
    "DG.add_transition((mantleIndex,harzIndex), ageVariable, operator.gt, crustageCond) #Note we can mix functions and swarm variabls\n",
    "\n",
    "#... to air\n",
    "DG.add_transition((mantleIndex,airIndex), depthFn, operator.lt,0. - ndp.TOPOHEIGHT)\n",
    "DG.add_transition((crustIndex,airIndex), depthFn, operator.lt, 0. - ndp.TOPOHEIGHT)\n"
   ]
  },
  {
   "cell_type": "code",
   "execution_count": 187,
   "metadata": {
    "collapsed": false,
    "deletable": true,
    "editable": true
   },
   "outputs": [],
   "source": [
    "##############\n",
    "#For the slab_IC, we'll also add a crustal weak zone following the dipping perturbation\n",
    "##############\n",
    "\n",
    "if checkpointLoad != True:\n",
    "    if not md.symmetricIcs:\n",
    "        for particleID in range(gSwarm.particleCoordinates.data.shape[0]):\n",
    "            if (\n",
    "                Oc2.evaluate(list(gSwarm.particleCoordinates.data[particleID])) and\n",
    "                Tri.evaluate(list(gSwarm.particleCoordinates.data[particleID])) and\n",
    "                gSwarm.particleCoordinates.data[particleID][1] > (1. - ndp.maxDepth) and\n",
    "                Cc.evaluate(list(gSwarm.particleCoordinates.data[particleID])) == False\n",
    "                \n",
    "                ):\n",
    "                materialVariable.data[particleID] = crustIndex\n",
    "                \n",
    "            elif (\n",
    "                Oc.evaluate(list(gSwarm.particleCoordinates.data[particleID])) and\n",
    "                Tri.evaluate(list(gSwarm.particleCoordinates.data[particleID])) and\n",
    "                gSwarm.particleCoordinates.data[particleID][1] > (1. - ndp.maxDepth) and\n",
    "                Hc.evaluate(list(gSwarm.particleCoordinates.data[particleID])) == False\n",
    "                \n",
    "                ):\n",
    "                materialVariable.data[particleID] = harzIndex"
   ]
  },
  {
   "cell_type": "code",
   "execution_count": 188,
   "metadata": {
    "collapsed": false,
    "deletable": true,
    "editable": true
   },
   "outputs": [],
   "source": [
    "##############\n",
    "#This is how we use the material graph object to test / apply material transformations\n",
    "##############\n",
    "\n",
    "if not checkpointLoad:\n",
    "    DG.build_condition_list(materialVariable)\n",
    "\n",
    "    for i in range(1): \n",
    "        materialVariable.data[:] = fn.branching.conditional(DG.condition_list).evaluate(gSwarm)"
   ]
  },
  {
   "cell_type": "code",
   "execution_count": 189,
   "metadata": {
    "collapsed": false,
    "deletable": true,
    "editable": true
   },
   "outputs": [],
   "source": [
    "fig= glucifer.Figure()\n",
    "fig.append( glucifer.objects.Points(gSwarm,temperatureField))\n",
    "#fig.append( glucifer.objects.Surface(mesh, corrTempFn))\n",
    "#fig.show()\n",
    "#fig.save_database('test.gldb')"
   ]
  },
  {
   "cell_type": "markdown",
   "metadata": {
    "collapsed": false,
    "deletable": true,
    "editable": true
   },
   "source": [
    "## phase and compositional buoyancy"
   ]
  },
  {
   "cell_type": "code",
   "execution_count": 190,
   "metadata": {
    "collapsed": false,
    "deletable": true,
    "editable": true
   },
   "outputs": [],
   "source": [
    "##############\n",
    "#Set up phase buoyancy contributions\n",
    "#the phase function approach of Yuen and Christenson is implemented in the Slippy2 phase_function class \n",
    "##############\n",
    "\n",
    "\n",
    "#olivine\n",
    "olivinePhase = phase_function.component_phases(name = 'ol', \n",
    "                        depths=[410e3,660e3], #depths of phase transitions along adiabat\n",
    "                        temps = [1600., 1900.], #temperatures of phase transitions along adiabat\n",
    "                        widths = [20e3, 20e3], #width if transition\n",
    "                        claps=[2.e6, -2.5e6],  #Clapeyron slope of trnasition\n",
    "                        densities = [180., 400.]) #density change of phase transition\n",
    "\n",
    "olivinePhase.build_nd_dict(dp.LS, dp.rho, dp.g, dp.deltaTa)\n",
    "\n",
    "\n",
    "rp = olivinePhase.nd_reduced_pressure(depthFn, \n",
    "                                   temperatureField,\n",
    "                                   olivinePhase.ndp['depths'][0],\n",
    "                                   olivinePhase.ndp['claps'][0],\n",
    "                                   olivinePhase.ndp['temps'][0])\n",
    "\n",
    "#ph_410 = olivinePhase.nd_phase(rp, test.ndp['widths'][0])\n",
    "#pf_sum = test.phase_function_sum(temperatureField, depthFn)\n",
    "\n",
    "olivine_phase_buoyancy = olivinePhase.buoyancy_sum(temperatureField, depthFn, dp.g, dp.LS, dp.k, dp.eta0)\n",
    "\n",
    "#garnet\n",
    "garnetPhase = phase_function.component_phases(name = 'grt', \n",
    "                        depths=[60e3,400e3, 720e3],\n",
    "                        temps = [1000., 1600., 1900.], \n",
    "                        widths = [2e3, 2e3, 2e3], \n",
    "                        claps=[0.e6, 1.e6, 1.e6], \n",
    "                        densities = [350., 150., 400.])\n",
    "\n",
    "garnetPhase.build_nd_dict(dp.LS, dp.rho, dp.g, dp.deltaTa)\n",
    "\n",
    "\n",
    "rp = garnetPhase.nd_reduced_pressure(depthFn, \n",
    "                                   temperatureField,\n",
    "                                   garnetPhase.ndp['depths'][0],\n",
    "                                   garnetPhase.ndp['claps'][0],\n",
    "                                   garnetPhase.ndp['temps'][0])\n",
    "\n",
    "#ph_410 = olivinePhase.nd_phase(rp, test.ndp['widths'][0])\n",
    "#pf_sum = test.phase_function_sum(temperatureField, depthFn)\n",
    "\n",
    "garnet_phase_buoyancy = garnetPhase.buoyancy_sum(temperatureField, depthFn, dp.g, dp.LS, dp.k, dp.eta0)"
   ]
  },
  {
   "cell_type": "code",
   "execution_count": null,
   "metadata": {
    "collapsed": true,
    "deletable": true,
    "editable": true
   },
   "outputs": [],
   "source": []
  },
  {
   "cell_type": "code",
   "execution_count": 191,
   "metadata": {
    "collapsed": false,
    "deletable": true,
    "editable": true
   },
   "outputs": [],
   "source": [
    "#fig= glucifer.Figure(quality=3)\n",
    "\n",
    "#fig.append( glucifer.objects.Points(gSwarm,olivine_phase_buoyancy/ndp.RA , discrete=True, fn_mask=lithRestFn))\n",
    "#fig.append( glucifer.objects.Surface(mesh,olivine_phase_buoyancy/ndp.RA , discrete=True))\n",
    "#fig.append( glucifer.objects.Points(gSwarm,temperatureField , discrete=True, fn_mask=lithRestFn))\n",
    "\n",
    "#fig.append( glucifer.objects.Mesh(mesh))\n",
    "#fig.show()\n",
    "#fig.save_database('test.gldb')\n",
    "#fig.save_image('active.png')\n",
    "#fig.save_image('active_phase.png')\n"
   ]
  },
  {
   "cell_type": "code",
   "execution_count": 206,
   "metadata": {
    "collapsed": false,
    "deletable": true,
    "editable": true
   },
   "outputs": [],
   "source": [
    "##############\n",
    "#Set up compositional buoyancy contributions\n",
    "##############\n",
    "\n",
    "buoyancy_factor = (dp.g*dp.LS**3)/(dp.eta0*dp.k)\n",
    "\n",
    "basalt_comp_buoyancy  = (dp.rho - 2940.)*buoyancy_factor\n",
    "harz_comp_buoyancy = (dp.rho - 3235.)*buoyancy_factor\n",
    "pyrolite_comp_buoyancy = (dp.rho - 3300.)*buoyancy_factor\n",
    "\n",
    "#print(basalt_comp_buoyancy, harz_comp_buoyancy, pyrolite_comp_buoyancy)\n",
    "\n",
    "\n",
    "#this function accounts for the decrease in expansivity, and acts to reduce the rayleigh number with depth\n",
    "#alphaRatio = 1.2/3\n",
    "alphaRatio = 1.     #currently switched off\n",
    "#taFn = 1. - (depthFn)*(1. - alphaRatio) \n",
    "taFn = 1.\n",
    "\n",
    "\n",
    "pyrolitebuoyancyFn =  (ndp.RA*temperatureField*taFn)\n",
    "harzbuoyancyFn =      (ndp.RA*temperatureField*taFn) \n",
    "basaltbuoyancyFn =    (ndp.RA*temperatureField*taFn)\n",
    "    \n",
    "    \n",
    "if md.compBuoyancy: \n",
    "    pyrolitebuoyancyFn +=  pyrolite_comp_buoyancy                           \n",
    "    harzbuoyancyFn    +=   harz_comp_buoyancy                           \n",
    "    basaltbuoyancyFn   += basalt_comp_buoyancy \n",
    "                           \n",
    "\n",
    "if md.phaseBuoyancy:\n",
    "    pyrolitebuoyancyFn -= (0.6*olivine_phase_buoyancy + 0.4*garnet_phase_buoyancy) \n",
    "    harzbuoyancyFn -= (0.8*olivine_phase_buoyancy + 0.2*garnet_phase_buoyancy)  \n",
    "    basaltbuoyancyFn -=  (1.*garnet_phase_buoyancy)   \n",
    "                          \n"
   ]
  },
  {
   "cell_type": "code",
   "execution_count": 208,
   "metadata": {
    "collapsed": false,
    "deletable": true,
    "editable": true
   },
   "outputs": [
    {
     "data": {
      "text/html": [
       "<img src='data:image/png;base64,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'>"
      ],
      "text/plain": [
       "<IPython.core.display.HTML object>"
      ]
     },
     "metadata": {},
     "output_type": "display_data"
    }
   ],
   "source": [
    "fig= glucifer.Figure(quality=3)\n",
    "\n",
    "fig.append( glucifer.objects.Points(gSwarm,densityMapFn , discrete=True, fn_mask=vizVariable))\n",
    "#fig.append( glucifer.objects.Surface(mesh, harzbuoyancyFn/ndp.RA , discrete=True))\n",
    "#fig.append( glucifer.objects.Points(gSwarm,densityMapFn, fn_mask=vizVariable))\n",
    "\n",
    "#fig.append( glucifer.objects.Mesh(mesh))\n",
    "#fig.show()\n",
    "#fig.save_database('test.gldb')"
   ]
  },
  {
   "cell_type": "markdown",
   "metadata": {
    "collapsed": false,
    "deletable": true,
    "editable": true
   },
   "source": [
    "## Faults / interfaces"
   ]
  },
  {
   "cell_type": "code",
   "execution_count": 59,
   "metadata": {
    "collapsed": false,
    "deletable": true,
    "editable": true
   },
   "outputs": [
    {
     "name": "stderr",
     "output_type": "stream",
     "text": [
      "/workspace/2dthermalslabs/eba/unsupported_dan/interfaces/__init__.py:9: UserWarning: \n",
      "\n",
      "The interface module is not supported.\n",
      "Questions should be addressed to louis.moresi@unimelb.edu.au \n",
      " \n",
      "  Questions should be addressed to louis.moresi@unimelb.edu.au \\n \"\"\"\n",
      "/workspace/2dthermalslabs/eba/unsupported_dan/faults/__init__.py:9: UserWarning: \n",
      "\n",
      "The fault module is not supported.\n",
      "Questions should be addressed to louis.moresi@unimelb.edu.au \n",
      " \n",
      "  Questions should be addressed to louis.moresi@unimelb.edu.au \\n \"\"\"\n"
     ]
    }
   ],
   "source": [
    "from unsupported_dan.interfaces.marker2D import markerLine2D\n",
    "from unsupported_dan.faults.faults2D import fault2D, fault_collection"
   ]
  },
  {
   "cell_type": "code",
   "execution_count": 60,
   "metadata": {
    "collapsed": true,
    "deletable": true,
    "editable": true
   },
   "outputs": [],
   "source": [
    "def copy_markerLine2D(ml, thickness=False, ID=False):\n",
    "    \n",
    "    \"\"\"\n",
    "    \n",
    "    \"\"\"\n",
    "    if not thickness:\n",
    "        thickness = ml.thickness\n",
    "    if not ID:\n",
    "        ID = -1*ml.ID\n",
    "    new_line = markerLine2D(mesh, velocityField, [], [], thickness,  ID)\n",
    "    if ml.swarm.particleCoordinates.data.shape[0] > 0:\n",
    "        new_line.swarm.add_particles_with_coordinates(ml.swarm.particleCoordinates.data.copy())\n",
    "        \n",
    "    new_line.rebuild()\n",
    "    return new_line"
   ]
  },
  {
   "cell_type": "code",
   "execution_count": 61,
   "metadata": {
    "collapsed": true,
    "deletable": true,
    "editable": true
   },
   "outputs": [],
   "source": [
    "###########\n",
    "#Initial Coordinates for inerfaces and faults\n",
    "###########\n",
    "\n",
    "#subduction fault\n",
    "introPoint = ndp.subzone - abs(ndp.subzone - ndp.lRidge)/2. #half way between ridge and Sz\n",
    "#faultthickness = ndp.MANTLETOCRUST/2. #initiale fault at half-depth of crust\n",
    "faultthickness = 3.*ndp.MANTLETOCRUST #initialize swarm deeper than crust\n",
    "\n",
    "nfault = 200\n",
    "faultCoords =np.zeros((nfault, 2))\n",
    "\n",
    "reducedRocM = ndp.roc  - faultthickness\n",
    "xlimslab = reducedRocM*math.cos(math.pi*(90. - dp.theta)/180)\n",
    "faultCoords[:, 0] = np.linspace(introPoint, ndp.subzone + xlimslab, nfault) #note SZ location is hardcoded here \n",
    "for index, xval in np.ndenumerate(faultCoords[:,0]):\n",
    "    #print index, xval\n",
    "    #swarmCoords[index[0], 1] = 1. - isodepthFn.evaluate((xval, 0.)) #This bit for the plate \n",
    "    if  xval < ndp.subzone:\n",
    "        faultCoords[index[0], 1] = MAXY - faultthickness #This bit for the plate \n",
    "        \n",
    "    else:\n",
    "        faultCoords[index[0], 1] = (MAXY - (faultthickness) - (reducedRocM - ( math.sqrt((reducedRocM**2 - (xval-ndp.subzone)**2)))))\n",
    "        \n",
    "    \n",
    "faultCoords = faultCoords[faultCoords[:,1] > (MAXY - ndp.maxDepth)] #kill any deeper than cutoff\n",
    "\n",
    "\n",
    "#surface tracer interface:\n",
    "surfaceCoords =np.ones((nfault, 2))*1.\n",
    "surfaceCoords[:,0] = np.linspace(MINX, MAXX, nfault)\n",
    "\n",
    "\n",
    "\n",
    "\n"
   ]
  },
  {
   "cell_type": "code",
   "execution_count": 62,
   "metadata": {
    "collapsed": true,
    "deletable": true,
    "editable": true
   },
   "outputs": [],
   "source": [
    "#Initiaze the swarms in a \n",
    "fault  = fault2D(mesh, velocityField, [], [], faultthickness, 0., 0., crustIndex)\n",
    "surface  = fault2D(mesh, velocityField, [], [], ndp.StALS, 0., 0., airIndex)\n",
    "#slab_seg  = marker2D.markerLine2D(mesh, velocityField, [], [], 1e9/dp.LS, crustIndex)   #Note very large fault thickness \n",
    "\n",
    "fault_coll = fault_collection([fault])\n",
    "\n",
    "#Initiaze the swarms in a \n",
    "#fault_seg  = marker2D.markerLine2D(mesh, velocityField, [], [], faultthickness, 0.0, 0.0, crustIndex)\n",
    "#surface_seg  = marker2D.markerLine2D(mesh, velocityField, [], [], ndp.StALS, 0.0, 0.0, airIndex)\n",
    "#slab_seg  = marker2D.markerLine2D(mesh, velocityField, [], [], 1e9/dp.LS, 0.0, 0.0, crustIndex)   #Note very large fault thickness\n",
    "\n",
    "#These lists are used to checkpoint the marker lines, similar to the swarm variables.        \n",
    "interfaces = []\n",
    "interfaces.append(fault)\n",
    "interfaces.append(surface)\n",
    "interfacenames = ['fault_seg', 'surface_seg']\n",
    "\n",
    "\n",
    "#If restarting, load the swarms from file Interfaces are just swarms, so should be fine to rely on parallel h5 machinery here\n",
    "if checkpointLoad:\n",
    "    for ix in range(len(interfaces)):\n",
    "        tempname = interfacenames[ix]\n",
    "        interfaces[ix].swarm.load(os.path.join(checkpointLoadDir,  tempname + \".h5\"))\n",
    "\n",
    "#otherwise add the point from at the initial locations\n",
    "else:\n",
    "    fault.add_points(faultCoords[:, 0], faultCoords[:, 1])\n",
    "    surface.add_points(surfaceCoords[:, 0], surfaceCoords[:, 1])\n",
    "    #slab_seg.add_points(slabCoords[:, 0], slabCoords[:, 1]) \n",
    "    \n",
    "\n",
    "#rebuild the fault, necessary to swicth off empty flag., if starting fom checkpoint\n",
    "    \n",
    "fault.rebuild()\n",
    "surface.rebuild()\n"
   ]
  },
  {
   "cell_type": "code",
   "execution_count": 63,
   "metadata": {
    "collapsed": true,
    "deletable": true,
    "editable": true
   },
   "outputs": [],
   "source": [
    "#Add variables to the surface swarm\n",
    "surfaceVelx = surface.swarm.add_variable( dataType=\"float\", count=1 )\n",
    "surfaceVelx.data[...] = velocityField[0].evaluate(surface.swarm)\n",
    "\n",
    "\n",
    "surfaceStressY = surface.swarm.add_variable( dataType=\"float\", count=1 )\n",
    "#this one needs interpolation ... do in main loop"
   ]
  },
  {
   "cell_type": "code",
   "execution_count": 64,
   "metadata": {
    "collapsed": true,
    "deletable": true,
    "editable": true
   },
   "outputs": [],
   "source": [
    "#Add the necessary swarm variables\n",
    "#note that these swarm vars. don't get checkpointed, they should rebuild from model state\n",
    "\n",
    "proximityVariable      = gSwarm.add_variable( dataType=\"int\", count=1 )\n",
    "signedDistanceVariable = gSwarm.add_variable( dataType=\"float\", count=1 )\n",
    "directorVector   = gSwarm.add_variable( dataType=\"double\", count=2)\n",
    "\n",
    "directorVector.data[:,:] = 0.0\n",
    "proximityVariable.data[:] = 0\n",
    "signedDistanceVariable.data[:] = 0.0"
   ]
  },
  {
   "cell_type": "code",
   "execution_count": 65,
   "metadata": {
    "collapsed": true,
    "deletable": true,
    "editable": true
   },
   "outputs": [],
   "source": [
    "#inform the mesh of the fault\n",
    "\n",
    "sd, pts0 = fault.compute_signed_distance(gSwarm.particleCoordinates.data, distance=w0)\n",
    "sp, pts0 = fault.compute_marker_proximity(gSwarm.particleCoordinates.data)\n",
    "\n",
    "proximityVariable.data[np.logical_and(sd<0,sp == fault.ID)] = sp[np.logical_and(sd<0,sp == fault.ID)]\n",
    "\n",
    "dv, nzv = fault.compute_normals(gSwarm.particleCoordinates.data)\n",
    "directorVector.data[nzv] = dv[nzv]\n",
    "\n",
    "\n",
    "\n",
    "\n",
    "edotn_SFn, edots_SFn = fault_coll.global_fault_strainrate_fns(velocityField, directorVector, proximityVariable)\n"
   ]
  },
  {
   "cell_type": "markdown",
   "metadata": {
    "deletable": true,
    "editable": true
   },
   "source": [
    "Rheology\n",
    "-----\n",
    "\n"
   ]
  },
  {
   "cell_type": "code",
   "execution_count": 111,
   "metadata": {
    "collapsed": false,
    "deletable": true,
    "editable": true
   },
   "outputs": [],
   "source": [
    "##############\n",
    "#Set up viscosity increase functions (i.e upper - lower mantle)\n",
    "##############\n",
    "\n",
    "#dp.viscIncreaseDepths = [660e3, 1000e3]\n",
    "#dp.viscIncreaseWeights = [0.5,0.5]\n",
    "#dp.viscIncreaseWidths = [30e3,30e3]\n",
    "\n",
    "\n",
    "\n",
    "viscDepthWeightFn = fn.misc.constant(0.)\n",
    "\n",
    "for i in range(len(ndp.viscIncreaseDepths)):\n",
    "    viscDepthWeightFn += (ndp.viscIncreaseWeights[i])*0.5*(fn.math.tanh((depthFn - ndp.viscIncreaseDepths[i])/(ndp.viscIncreaseWidths[i])) + 1.)\n",
    "    \n",
    "viscDepthWeightFn = 1. - viscDepthWeightFn"
   ]
  },
  {
   "cell_type": "code",
   "execution_count": 114,
   "metadata": {
    "collapsed": false,
    "deletable": true,
    "editable": true
   },
   "outputs": [],
   "source": [
    "##############\n",
    "#Set up any functions required by the rheology\n",
    "##############\n",
    "\n",
    "sym_strainRate = fn.tensor.symmetric( \n",
    "                            velocityField.fn_gradient )\n",
    "\n",
    "strainRate_2ndInvariant = fn.tensor.second_invariant( \n",
    "                            sym_strainRate)/md.secInvFac # secInvFac sometimes required if differnet definition of eii is used.\n",
    "\n",
    "def safe_visc(func, viscmin=ndp.eta_min, viscmax=ndp.eta_max):\n",
    "    return fn.misc.max(viscmin, fn.misc.min(viscmax, func))"
   ]
  },
  {
   "cell_type": "code",
   "execution_count": 115,
   "metadata": {
    "collapsed": false,
    "deletable": true,
    "editable": true
   },
   "outputs": [],
   "source": [
    "############\n",
    "#Rheology: create UW2 functions for all viscous mechanisms\n",
    "#############\n",
    "\n",
    "omega = fn.misc.constant(1.) #this function can hold any arbitary viscosity modifications \n",
    "\n",
    "\n",
    "##Diffusion Creep\n",
    "diffusion = (1./ndp.Adf ) *fn.math.exp( ((ndp.Edf + (depthFn*ndp.Wdf))/((temperatureField+ ndp.TS)))) \n",
    "\n",
    "\n",
    "##Diffusion Creep\n",
    "lmdiffusion = (1./ndp.Alm ) *fn.math.exp( ((ndp.Elm + (depthFn*ndp.Wlm))/((temperatureField+ ndp.TS)))) \n",
    "\n",
    "\n",
    "\n",
    "linearVisc = safe_visc(diffusion)\n",
    "\n",
    "##Dislocation Creep\n",
    "pefac = (ndp.Ads**((-1./ndp.n)))\n",
    "srfac = strainRate_2ndInvariant**((1.-ndp.n)/ndp.n)\n",
    "dislocation = pefac*srfac*fn.math.exp( ((ndp.Eds + (depthFn*ndp.Wds))/(ndp.n*(temperatureField + ndp.TS))))\n",
    "\n",
    "\n",
    "##Peirls Creep\n",
    "pefac = (ndp.Apr**((-1./ndp.np)))\n",
    "srfac = strainRate_2ndInvariant**((1.-ndp.np)/ndp.np)\n",
    "peierls = pefac*srfac*fn.math.exp( ((ndp.Eps + (depthFn*ndp.Wps))/(ndp.np*(temperatureField+ ndp.TS))))\n",
    "\n",
    "\n",
    "##Define the mantle Plasticity\n",
    "ys =  ndp.cm + (depthFn*ndp.fcmd)\n",
    "ysf = fn.misc.min(ys, ndp.ysMax)\n",
    "yielding = ysf/(2.*(strainRate_2ndInvariant)) \n",
    "\n",
    "##Crust rheology\n",
    "crustys =  ndp.cc + (depthFn*ndp.fccd)\n",
    "crustysf = fn.misc.min(crustys, ndp.ysMax)\n",
    "crustyielding = crustysf/(2.*(strainRate_2ndInvariant)) \n"
   ]
  },
  {
   "cell_type": "code",
   "execution_count": 116,
   "metadata": {
    "collapsed": false,
    "deletable": true,
    "editable": true
   },
   "outputs": [],
   "source": [
    "#crustyielding.evaluate(mesh).min(), crustyielding.evaluate(mesh).mean(),crustyielding.evaluate(mesh).max()\n",
    "#finalcrustviscosityFn.evaluate(mesh).min(),finalcrustviscosityFn.evaluate(mesh).max(), finalcrustviscosityFn.evaluate(mesh).mean()\n",
    "#strainRate_2ndInvariant.evaluate(mesh).min(), strainRate_2ndInvariant.evaluate(mesh).mean(), strainRate_2ndInvariant.evaluate(mesh).max()\n",
    "#safe_visc(diffusion).evaluate(mesh).mean()\n",
    "#interfaceviscosityFn.evaluate(mesh).min(), interfaceviscosityFn.evaluate(mesh).max(), interfaceviscosityFn.evaluate(mesh).mean()\n",
    "#interfaceyielding.evaluate(mesh).min(), interfaceyielding.evaluate(mesh).mean(), interfaceyielding.evaluate(mesh).max()\n",
    "#ndp.eta_min, ndp.eta_max_interface\n",
    "#finalviscosityFn.evaluate(mesh).min(),finalviscosityFn.evaluate(mesh).max(), finalviscosityFn.evaluate(mesh).mean()\n"
   ]
  },
  {
   "cell_type": "code",
   "execution_count": 120,
   "metadata": {
    "collapsed": false,
    "deletable": true,
    "editable": true
   },
   "outputs": [],
   "source": [
    "############\n",
    "#Rheology: combine viscous mechanisms in various ways \n",
    "#harmonic: harmonic average of all mechanims\n",
    "#min: minimum effective viscosity of the mechanims\n",
    "#mixed: takes the minimum of the harmonic and the plastic effective viscosity\n",
    "#############\n",
    "\n",
    "#Map viscMechs list (defined in setup), to the actual functions, requires that same names are used.\n",
    "viscdict = {}\n",
    "for i in md.viscMechs:\n",
    "    viscdict[i] = locals()[i]\n",
    "\n",
    "\n",
    "#Harmonic average of all mechanisms    \n",
    "if md.viscCombine == 'harmonic':\n",
    "    denom = fn.misc.constant(0.)\n",
    "    for mech in viscdict.values():\n",
    "        denom += 1./mech\n",
    "    uppermantleviscosityFn = safe_visc(1./denom)\n",
    "    #harmonic_test = uppermantleviscosityFn\n",
    "    #Only diffusuion creep for lower mantle\n",
    "    finalviscosityFn  = (viscDepthWeightFn*uppermantleviscosityFn) + (1. - viscDepthWeightFn)*(lmdiffusion*ndp.low_mantle_visc_fac)\n",
    "\n",
    "    #Add the weaker crust mechanism, plus any cutoffs\n",
    "    crust_denom = denom + (1./crustyielding)\n",
    "    crustviscosityFn = safe_visc(1./crust_denom, viscmin=ndp.eta_min_crust, viscmax=ndp.eta_max_crust)\n",
    "    #Crust viscosity only active above between CRUSTVISCUTOFF and MANTLETOCRUST\n",
    "    finalcrustviscosityFn  = fn.branching.conditional([(depthFn < ndp.CRUSTVISCUTOFF, crustviscosityFn),\n",
    "                                                     (True, finalviscosityFn)])\n",
    "    \n",
    "    \n",
    "    \n",
    "if md.viscCombine == 'min':\n",
    "    mantleviscosityFn = fn.misc.constant(ndp.eta_max)\n",
    "    for mech in viscdict.values():\n",
    "        mantleviscosityFn = fn.misc.min(mech, mantleviscosityFn )\n",
    "    uppermantleviscosityFn  = safe_visc(mantleviscosityFn)\n",
    "    #min_test = mantleviscosityFn\n",
    "    #Only diffusion creep for lower mantle\n",
    "    finalviscosityFn  = (viscDepthWeightFn*uppermantleviscosityFn) + (1. - viscDepthWeightFn)*(lmdiffusion*ndp.low_mantle_visc_fac)\n",
    "    #Add the weaker crust and interface mechanisms, plus any cutoffs\n",
    "    crustviscosityFn = safe_visc(fn.misc.min(finalviscosityFn, crustyielding), viscmin=ndp.eta_min, viscmax=ndp.eta_max_crust)\n",
    "    #Crust viscosity only active above between CRUSTVISCUTOFF and MANTLETOCRUST\n",
    "    finalcrustviscosityFn  = fn.branching.conditional([(depthFn < ndp.CRUSTVISCUTOFF, crustviscosityFn),\n",
    "                                                     (True, finalviscosityFn)])"
   ]
  },
  {
   "cell_type": "code",
   "execution_count": 92,
   "metadata": {
    "collapsed": false,
    "deletable": true,
    "editable": true
   },
   "outputs": [],
   "source": [
    "#viscMinConditions = fn.misc.min(diffusion, dislocation, peierls, yielding)\n",
    "\n",
    "viscMin = fn.misc.constant(ndp.eta_max)\n",
    "#Generate the minimum viscosity function \n",
    "for mech in [safe_visc(diffusion), safe_visc(dislocation), safe_visc(peierls), safe_visc(yielding)]:\n",
    "    viscMin = fn.misc.min(mech, viscMin) \n",
    "    \n",
    "dm = 1e-5\n",
    "   \n",
    "    \n",
    "viscMinConditions = [ ( operator.and_((viscMin > (ndp.eta_max - dm) ),\n",
    "                           (viscMin < (ndp.eta_max + dm) ))  , 0),  #visc = ndp.eta_max\n",
    "                      ( operator.and_((viscMin > (diffusion - dm) ),\n",
    "                           (viscMin < (diffusion + dm) ))  , 1),  #visc = diffusion\n",
    "                      ( operator.and_((viscMin > (dislocation - dm) ),\n",
    "                           (viscMin < (dislocation + dm) ))  , 2),#visc = dislocation\n",
    "                      ( operator.and_((viscMin > (peierls - dm) ),\n",
    "                           (viscMin < (peierls + dm) ))  , 3),    #visc = peierls\n",
    "                      ( operator.and_((viscMin > (yielding - dm) ),\n",
    "                           (viscMin < (yielding + dm) ))  , 4),   #visc = yielding\n",
    "                      ( True                                           , 5) ] #visc = eta_min (should be)\n",
    "\n",
    "\n",
    "\n",
    "\n",
    "# use the branching conditional function to set each particle's index\n",
    "fnViscMin = fn.branching.conditional( viscMinConditions )\n",
    "\n"
   ]
  },
  {
   "cell_type": "markdown",
   "metadata": {
    "deletable": true,
    "editable": true
   },
   "source": [
    "Stokes system setup\n",
    "-----\n"
   ]
  },
  {
   "cell_type": "code",
   "execution_count": 78,
   "metadata": {
    "collapsed": false,
    "deletable": true,
    "editable": true
   },
   "outputs": [],
   "source": [
    "densityMapFn = fn.branching.map( fn_key = materialVariable,\n",
    "                         mapping = {airIndex:ndp.StRA,\n",
    "                                    crustIndex:basaltbuoyancyFn, \n",
    "                                    mantleIndex:pyrolitebuoyancyFn,\n",
    "                                    harzIndex:harzbuoyancyFn} )"
   ]
  },
  {
   "cell_type": "code",
   "execution_count": 79,
   "metadata": {
    "collapsed": false,
    "deletable": true,
    "editable": true
   },
   "outputs": [],
   "source": [
    "\n",
    "# Define our vertical unit vector using a python tuple (this will be automatically converted to a function).\n",
    "gravity = ( 0.0, 1.0 )\n",
    "\n",
    "# Now create a buoyancy force vector using the density and the vertical unit vector. \n",
    "buoyancyFn = densityMapFn * gravity"
   ]
  },
  {
   "cell_type": "code",
   "execution_count": 67,
   "metadata": {
    "collapsed": false,
    "deletable": true,
    "editable": true
   },
   "outputs": [
    {
     "name": "stderr",
     "output_type": "stream",
     "text": [
      "/root/underworld2/underworld/systems/_stokes.py:70: UserWarning: 'swarm' paramater has been renamed to 'voronoi_swarm'. Please update your models. 'swarm' parameter will be removed in the next release.\n",
      "  \"'swarm' parameter will be removed in the next release.\")\n"
     ]
    }
   ],
   "source": [
    "if md.PIC_integration:\n",
    "    stokesPIC = uw.systems.Stokes(velocityField=velocityField, \n",
    "                              pressureField=pressureField,\n",
    "                              conditions=[freeslipBC,],\n",
    "                              fn_viscosity=linearVisc, \n",
    "                              fn_bodyforce=buoyancyFn,\n",
    "                             swarm=gSwarm)\n",
    "    \n",
    "\n",
    "else:\n",
    "    stokesPIC = uw.systems.Stokes(velocityField=velocityField, \n",
    "                              pressureField=pressureField,\n",
    "                              conditions=[freeslipBC,],\n",
    "                              fn_viscosity=linearVisc, \n",
    "                              fn_bodyforce=buoyancyFn )"
   ]
  },
  {
   "cell_type": "code",
   "execution_count": 68,
   "metadata": {
    "collapsed": true,
    "deletable": true,
    "editable": true
   },
   "outputs": [],
   "source": [
    "solver = uw.systems.Solver(stokesPIC)\n",
    "if not checkpointLoad:\n",
    "    solver.solve() #A solve on the linear visocisty is unhelpful unless we're starting from scratch"
   ]
  },
  {
   "cell_type": "code",
   "execution_count": 95,
   "metadata": {
    "collapsed": false,
    "deletable": true,
    "editable": true
   },
   "outputs": [],
   "source": [
    "viscosityMapFn = fn.branching.map( fn_key = materialVariable,\n",
    "                         mapping = {crustIndex:finalcrustviscosityFn,\n",
    "                                    mantleIndex:finalviscosityFn,\n",
    "                                    harzIndex:finalviscosityFn} )\n",
    "\n"
   ]
  },
  {
   "cell_type": "code",
   "execution_count": 70,
   "metadata": {
    "collapsed": true,
    "deletable": true,
    "editable": true
   },
   "outputs": [],
   "source": [
    "#Add the non-linear viscosity to the Stokes system\n",
    "stokesPIC.fn_viscosity = viscosityMapFn"
   ]
  },
  {
   "cell_type": "code",
   "execution_count": 71,
   "metadata": {
    "collapsed": false,
    "deletable": true,
    "editable": true
   },
   "outputs": [
    {
     "name": "stdout",
     "output_type": "stream",
     "text": [
      "\u001b[1;35m\n",
      " \n",
      "Pressure iterations:   3\n",
      "Velocity iterations:   1 (presolve)      \n",
      "Velocity iterations:  -1 (pressure solve)\n",
      "Velocity iterations:   1 (backsolve)     \n",
      "Velocity iterations:   1 (total solve)   \n",
      " \n",
      "SCR RHS  solve time: 7.2066e-01\n",
      "Pressure solve time: 6.1724e-02\n",
      "Velocity solve time: 7.1025e-01 (backsolve)\n",
      "Total solve time   : 1.6283e+00\n",
      " \n",
      "Velocity solution min/max: 0.0000e+00/0.0000e+00\n",
      "Pressure solution min/max: 0.0000e+00/0.0000e+00\n",
      " \n",
      "\u001b[00m\n"
     ]
    }
   ],
   "source": [
    "solver.set_inner_method(\"mumps\")\n",
    "solver.options.scr.ksp_type=\"cg\"\n",
    "solver.set_penalty(1.0e7)\n",
    "solver.options.scr.ksp_rtol = 1.0e-4\n",
    "solver.solve(nonLinearIterate=True)\n",
    "solver.print_stats()"
   ]
  },
  {
   "cell_type": "code",
   "execution_count": null,
   "metadata": {
    "collapsed": true,
    "deletable": true,
    "editable": true
   },
   "outputs": [],
   "source": []
  },
  {
   "cell_type": "code",
   "execution_count": 72,
   "metadata": {
    "collapsed": false,
    "deletable": true,
    "editable": true
   },
   "outputs": [],
   "source": [
    "#Check which particles are yielding\n",
    "#yieldingCheck.data[:] = 0\n",
    "\n",
    "#yieldconditions = [ ( mantleviscosityFn < Visc , 1), \n",
    "#               ( True                                           , 0) ]\n",
    "\n",
    "# use the branching conditional function to set each particle's index\n",
    "#yieldingCheck.data[:] = fn.branching.conditional( yieldconditions ).evaluate(gSwarm)"
   ]
  },
  {
   "cell_type": "code",
   "execution_count": 73,
   "metadata": {
    "collapsed": false,
    "deletable": true,
    "editable": true,
    "scrolled": true
   },
   "outputs": [],
   "source": [
    "#fig= glucifer.Figure()\n",
    "#fig.append( glucifer.objects.Points(gSwarm,lowerPlateRestFn))\n",
    "#fig.append( glucifer.objects.Points(gSwarm, diffusion, logScale=True, valueRange =[1e-1,1e5]))\n",
    "#fig.append( glucifer.objects.Surface(mesh, temperatureField ))#\n",
    "#fig.append( glucifer.objects.VectorArrows(mesh,velocityField, scaling=0.002))\n",
    "#fig.append( glucifer.objects.Surface(mesh,densityMapFn))\n",
    "#fig.append( glucifer.objects.Surface(mesh,raylieghFn))\n",
    "#fig.append( glucifer.objects.Points(swarmPlateBoundary, pointSize=4))\n",
    "#fig.show()\n",
    "#fig.save_database('test.gldb')"
   ]
  },
  {
   "cell_type": "markdown",
   "metadata": {
    "deletable": true,
    "editable": true
   },
   "source": [
    "## Set up principal stress vectors\n"
   ]
  },
  {
   "cell_type": "code",
   "execution_count": 76,
   "metadata": {
    "collapsed": true,
    "deletable": true,
    "editable": true
   },
   "outputs": [],
   "source": [
    "def eig2d(sigma):\n",
    "\n",
    "    \"\"\"\n",
    "    Input: sigma, symmetric tensor, numpy array of length 3, with xx yy xy compenents\n",
    "    \n",
    "    Output:\n",
    "    \n",
    "    s1: first major stress fms will be the most extensive\n",
    "    s2: second major stress the least extensive, most compressive\n",
    "    deg: angle to the first major stress axis (most extensive in degrees anticlockwise from horizontal axis - x)\n",
    "    \"\"\"\n",
    " \n",
    "\n",
    "    s11=sigma[0]\n",
    "    #s12=sigma[2]/2.  #(engineering strain/stress)\n",
    "    s12=sigma[2]\n",
    "    s22=sigma[1]\n",
    "\n",
    "    fac = 28.64788975654116; #90/pi - 2theta conversion\n",
    "\n",
    "    x1 = (s11 + s22)/2.0;\n",
    "    x2 = (s11 - s22)/2.0;\n",
    "    R = x2 * x2 + s12 * s12;\n",
    "    \n",
    "    #Get the stresses \n",
    "    if(R > 0.0):         #if shear stress is not zero\n",
    "        R = np.sqrt(R);\n",
    "        s1 = x1 + R;\n",
    "        s2 = x1 - R;\n",
    "    else:\n",
    "        s1 = x1;        #if shear stress is zero\n",
    "        s2 = x1;\n",
    "\n",
    "    if(x2 != 0.0):   \n",
    "        deg = fac * math.atan2(s12,x2); #Return the arc tangent (measured in radians) of y/x. The fac contains the 2-theta    \n",
    "    #else, the normal componets are equa - we are at the angle of maximum shear stress\n",
    "    elif s12 <= 0.0: \n",
    "        deg= -45.0;\n",
    "    else:\n",
    "        deg=  45.0;\n",
    "    return s1, s2, deg"
   ]
  },
  {
   "cell_type": "code",
   "execution_count": 77,
   "metadata": {
    "collapsed": false,
    "deletable": true,
    "editable": true
   },
   "outputs": [],
   "source": [
    "eig1       = uw.mesh.MeshVariable( mesh=mesh,         nodeDofCount=2 )\n",
    "eig2       = uw.mesh.MeshVariable( mesh=mesh,         nodeDofCount=2 )\n",
    "\n",
    "ssr = sym_strainRate.evaluate(mesh)\n",
    "\n",
    "\n",
    "principalAngles  = np.apply_along_axis(eig2d, 1, ssr[:, :])[:,2]\n",
    "\n",
    "\n",
    "eig1.data[:,0] = np.cos(np.radians(principalAngles - 90.)) #most compressive \n",
    "eig1.data[:,1] = np.sin(np.radians(principalAngles - 90.))\n",
    "\n",
    "eig2.data[:,0] = np.cos(np.radians(principalAngles ))      #most extensive\n",
    "eig2.data[:,1] = np.sin(np.radians(principalAngles ))"
   ]
  },
  {
   "cell_type": "markdown",
   "metadata": {
    "collapsed": true,
    "deletable": true,
    "editable": true
   },
   "source": [
    "## Stress variable"
   ]
  },
  {
   "cell_type": "code",
   "execution_count": 96,
   "metadata": {
    "collapsed": true,
    "deletable": true,
    "editable": true
   },
   "outputs": [],
   "source": [
    "from scipy.spatial import cKDTree as kdTree\n",
    "\n",
    "\n",
    "def nn_evaluation(fromSwarm, _data, n=1, weighted=False):\n",
    "\n",
    "    \"\"\"\n",
    "    This function provides nearest neighbour information for uw swarms,\n",
    "    given the \"_data\", which could be the .data handle (coordinates) of a mesh or a differnet swarm, this function returns the indices of the n nearest neighbours in \"fromSwarm\"\n",
    "    it also returns the inverse-distance if weighted=True.\n",
    "\n",
    "    The function works in parallel.   \n",
    "\n",
    "    The arrays come out a bit differently when used in nearest neighbour form\n",
    "    (n = 1), or IDW: (n > 1). The examples belowe show how to fill out a swarm variable in each case.\n",
    "\n",
    "\n",
    "    Usage n = 1:\n",
    "    ------------\n",
    "    ix, weights = nn_evaluation(swarm, mesh.data, n=n, weighted=False)\n",
    "    toSwarmVar.data[:][:,0] =  fromSwarmVar.evaluate(fromSwarm)[_ix][:,0]\n",
    "\n",
    "    Usage n > 1:\n",
    "    ------------\n",
    "    ix, weights = nn_evaluation(swarm, toSwarm.particleCoordinates.data, n=n, weighted=False)\n",
    "    toSwarmVar.data[:][:,0] =  np.average(fromSwarmVar.evaluate(fromSwarm)[ix][:,:,0], weights=weights, axis=1)\n",
    "\n",
    "    \"\"\" \n",
    "\n",
    "\n",
    "    #print(\"fromSwarm data shape\", fromSwarm.particleCoordinates.data.shape)\n",
    "\n",
    "    if len(_data) > 0: #this is required for safety in parallel\n",
    "\n",
    "        #we rebuild the tree as we assume the fromSwarm is being advected\n",
    "        fromSwarm.tree = kdTree(fromSwarm.particleCoordinates.data)\n",
    "        tree = fromSwarm.tree\n",
    "        d, ix = tree.query(_data, n)\n",
    "        if n == 1:\n",
    "            weights = np.ones(_data.shape[0])\n",
    "        elif not weighted:\n",
    "            weights = np.ones((_data.shape[0], n))*(1./n)\n",
    "        else:\n",
    "            weights = (1./d[:])/(1./d[:]).sum(axis=1)[:,None]\n",
    "        return ix,  weights\n",
    "    else:\n",
    "        return  np.empty(0., dtype=\"int\"),  np.empty(0., dtype=\"int\")"
   ]
  },
  {
   "cell_type": "code",
   "execution_count": null,
   "metadata": {
    "collapsed": true,
    "deletable": true,
    "editable": true
   },
   "outputs": [],
   "source": []
  },
  {
   "cell_type": "code",
   "execution_count": 106,
   "metadata": {
    "collapsed": false,
    "deletable": true,
    "editable": true
   },
   "outputs": [],
   "source": [
    "_ix, _weights = nn_evaluation(gSwarm, mesh.data, n=5, weighted=True)\n",
    "\n",
    "# create a variable to hold sigma_xx\n",
    "stressField    = uw.mesh.MeshVariable( mesh=mesh,         nodeDofCount=1 )\n",
    "stressVariableFn =  2.*sym_strainRate[0]*viscosityMapFn\n",
    "#stressField.data[:,0] = np.average(stressVariableFn.evaluate(gSwarm)[_ix][:,:,0],weights=_weights, axis=1)"
   ]
  },
  {
   "cell_type": "code",
   "execution_count": null,
   "metadata": {
    "collapsed": false,
    "deletable": true,
    "editable": true
   },
   "outputs": [],
   "source": []
  },
  {
   "cell_type": "code",
   "execution_count": 107,
   "metadata": {
    "collapsed": false,
    "deletable": true,
    "editable": true
   },
   "outputs": [],
   "source": [
    "_ix1, _weights1 = nn_evaluation(gSwarm, surface.swarm.particleCoordinates.data, n=5, weighted=True)\n",
    "\n",
    "\n",
    "stressYFn =  2.*sym_strainRate[1]*viscosityMapFn\n",
    "#surfaceStressY.data[:,0] = np.average(stressYFn.evaluate(gSwarm)[_ix1][:,:,0],weights=_weights1, axis=1)"
   ]
  },
  {
   "cell_type": "markdown",
   "metadata": {
    "deletable": true,
    "editable": true
   },
   "source": [
    "Advection-diffusion System setup\n",
    "-----"
   ]
  },
  {
   "cell_type": "code",
   "execution_count": 127,
   "metadata": {
    "collapsed": false,
    "deletable": true,
    "editable": true
   },
   "outputs": [],
   "source": [
    "advDiff = uw.systems.AdvectionDiffusion( phiField       = temperatureField, \n",
    "                                         phiDotField    = temperatureDotField, \n",
    "                                         velocityField  = velocityField,\n",
    "                                         fn_sourceTerm    = 0.0,\n",
    "                                         fn_diffusivity = 1.0, \n",
    "                                         #conditions     = [neumannTempBC, dirichTempBC] )\n",
    "                                         conditions     = [ dirichTempBC] )\n",
    "order = 2\n",
    "if md.periodicBcs:\n",
    "    order = 1\n",
    "\n",
    "materialadvector = uw.systems.SwarmAdvector( swarm         = gSwarm, \n",
    "                                     velocityField = velocityField, \n",
    "                                     order         = order)"
   ]
  },
  {
   "cell_type": "code",
   "execution_count": 128,
   "metadata": {
    "collapsed": false,
    "deletable": true,
    "editable": true
   },
   "outputs": [],
   "source": [
    "#population_control = uw.swarm.PopulationControl(gSwarm,deleteThreshold=0.2,splitThreshold=1.,maxDeletions=3,maxSplits=0, aggressive=True, particlesPerCell=int(md.ppc))\n",
    "\n",
    "population_control = uw.swarm.PopulationControl(gSwarm,deleteThreshold=0.006,splitThreshold=0.1,maxDeletions=int(md.ppc/5),maxSplits=int(md.ppc/5), aggressive=True,aggressiveThreshold=0.9, particlesPerCell=int(md.ppc))"
   ]
  },
  {
   "cell_type": "markdown",
   "metadata": {
    "collapsed": false,
    "deletable": true,
    "editable": true
   },
   "source": [
    "############\n",
    "#Slightly Diffuse the initial perturbation\n",
    "#############\n",
    "\n",
    "#I was playing around with a tailored diffusivity to target the slab\n",
    "\n",
    "inCircleFnGenerator#Now build the perturbation part\n",
    "def htan(centre, radius, widthPh, farVal = 0.01, fac = 10.):\n",
    "    coord = fn.input()\n",
    "    offsetFn = coord - centre\n",
    "    dist = fn.math.sqrt(fn.math.dot( offsetFn, offsetFn ))\n",
    "    \n",
    "    \n",
    "    return (((fn.math.tanh(((radius - dist))/widthPh) + 1.) /2.))*fac + farVal\n",
    "\n",
    "tfun = htan((0.1, 0.9), 0.1, 0.1, 0.1)\n",
    "\n",
    "for index in mesh.specialSets[\"MinJ_VertexSet\"]:\n",
    "    temperatureField.data[index] = \n",
    "for index in mesh.specialSets[\"MaxJ_VertexSet\"]:\n",
    "    temperatureField.data[index] = \n",
    "\n",
    "timetoDifffuse = 0.#Million years\n",
    "incrementtoDiffuse = 0.2 #Million years\n",
    "\n",
    "timetoDifffuse = (timetoDifffuse*1e6*(spery)/sf.SR).magnitude\n",
    "incrementtoDiffuse = (incrementtoDiffuse*1e6*(spery)/sf.SR).magnitude\n",
    "\n",
    "totAdt = 0.\n",
    "it = 0\n",
    "while totAdt < timetoDifffuse:\n",
    "    dtad = advDiff.get_max_dt()\n",
    "    print(\"step\") + str(it) \n",
    "    advDiff.integrate(incrementtoDiffuse)\n",
    "    totAdt += incrementtoDiffuse\n",
    "    it += 1\n",
    "    \n",
    "#Reset Boundary conds.   \n",
    "for index in mesh.specialSets[\"MinJ_VertexSet\"]:\n",
    "    temperatureField.data[index] = ndp.TBP\n",
    "for index in mesh.specialSets[\"MaxJ_VertexSet\"]:\n",
    "    temperatureField.data[index] = ndp.TSP\n",
    "    \n",
    "comm.Barrier()"
   ]
  },
  {
   "cell_type": "markdown",
   "metadata": {
    "deletable": true,
    "editable": true
   },
   "source": [
    "Analysis functions / routines\n",
    "-----\n",
    "\n",
    "Most of the metrics we want to calculate are either:\n",
    "\n",
    "* extrema of some field / function\n",
    "* integral of some field / function\n",
    "* average value of some function (integral divide by area)\n",
    "\n",
    "In addition, we also want to be able to determine these metrics over some restricted part of the domain, where the restriction may either be due some value of a field, a material type, or something more arbitrary.\n",
    "\n",
    "Much of he challenge lies in defining these restriction functions in an efficient and robust way (i.e they don't break down as the model evolves)\n",
    "\n",
    "For volume integrals, and extrema, we build a hierarchy of restriction functions, each borrowing from the previous, until we have divided the domain into a number of sub regions of interest. \n",
    "\n",
    "In general, averages are found afterwards by combining the integral and the area of the relavent subregion"
   ]
  },
  {
   "cell_type": "code",
   "execution_count": 69,
   "metadata": {
    "collapsed": false,
    "deletable": true,
    "editable": true
   },
   "outputs": [],
   "source": [
    "###################\n",
    "#Volume Restriction functions\n",
    "###################\n",
    "\n",
    "#Level 1. Global\n",
    "globRestFn = fn.misc.constant(1.)\n",
    "\n",
    "#Level 2. Rock - air:\n",
    "rockRestFn = uw.swarm.SwarmVariable(gSwarm, dataType='double', count=1)\n",
    "rockRestFn.data[:] = 0.\n",
    "rockRestFn.data[np.where(materialVariable.data[:] != airIndex)] = 1.\n",
    "rockRestFn *= globRestFn #Add next level up in heirarchy\n",
    "\n",
    "\n",
    "#Level 3. lithosphere - mantle:\n",
    "mantleconditions = [ (                                  operator.and_(temperatureField < 0.9*ndp.TPP, operator.and_(xFn> ndp.lRidge,xFn< ndp.rRidge )), 1.),\n",
    "                   (                                                   True , 0.) ]\n",
    "lithRestFn = fn.branching.conditional(mantleconditions)\n",
    "lithRestFn*=rockRestFn #Add next level up in heirarchy\n",
    "\n",
    "\n",
    "#Level 4. lower plate - upper plate:\n",
    "\n",
    "\n",
    "#This whole section simply builds a restriction Fn that separates the upper and lower plate \n",
    "#It's pretty cumbersome, and will need to advected, rebuilt\n",
    "#can YOU think of a better way?\n",
    "   \n",
    "lowerPlateRestFn = gSwarm.add_variable( dataType=\"double\", count=1 )\n",
    "lowerPlateRestFn.data[:] = 0.0\n",
    "sd, pts0 = fault.compute_signed_distance(gSwarm.particleCoordinates.data, distance=w0)\n",
    "sp, pts0 = fault.compute_marker_proximity(gSwarm.particleCoordinates.data, distance=w0)\n",
    "\n",
    "#lowerPlateRestFn.data[np.logical_and(sd>0,sp == fault.ID)] = sp[np.logical_and(sd>0,sp == fault.ID)]\n",
    "lowerPlateRestFn.data[np.logical_and(sd>(-1.*faultthickness ),sp == fault.ID)] = sp[np.logical_and(sd>(-1.*faultthickness ),sp == fault.ID)]\n",
    "\n",
    "lowerPlateRestFn *= lithRestFn #Add next level up in heirarchy\n",
    "#The lowerPlateRestFn isn't working on restart - no idea why\n",
    "\n",
    "\n",
    "#Level 5. hinge of lower plate:\n",
    "\n",
    "hinge60Spatialconditions = [ (           operator.and_( (depthFn < (60e3/dp.LS)),  (xFn > ndp.subzone - 60e3/dp.LS)), 1.),\n",
    "                   (                                                   True , 0.) ]\n",
    "\n",
    "hinge60RestFn = fn.branching.conditional(hinge60Spatialconditions)\n",
    "hinge60RestFn*=lowerPlateRestFn #Add next level up in heirarchy\n",
    "\n",
    "\n",
    "\n",
    "hinge180Spatialconditions = [ (           operator.and_( (depthFn < (180e3/dp.LS)),  (xFn > ndp.subzone - 180e3/dp.LS)), 1.),\n",
    "                   (                                                   True , 0.) ]\n",
    "\n",
    "hinge180RestFn = fn.branching.conditional(hinge180Spatialconditions)\n",
    "hinge180RestFn*=lowerPlateRestFn #Add next level up in heirarchy\n",
    "\n",
    "\n",
    "#Level 6. crust/interface in hinge of lower plate:\n",
    "\n",
    "interfaceRestFn = uw.swarm.SwarmVariable(gSwarm, dataType='double', count=1)\n",
    "interfaceRestFn.data[:] = 0.\n",
    "interfaceRestFn.data[np.where(materialVariable.data[:] == crustIndex)] = 1.\n",
    "interfaceRestFn *= hinge60RestFn #Add next level up in heirarchy"
   ]
  },
  {
   "cell_type": "code",
   "execution_count": 75,
   "metadata": {
    "collapsed": false,
    "deletable": true,
    "editable": true
   },
   "outputs": [],
   "source": [
    "\n",
    "#fig= glucifer.Figure()\n",
    "#fig.append( glucifer.objects.Points(gSwarm,lithRestFn))\n",
    "#fig.append( glucifer.objects.Points(gSwarm, viscosityMapFn, logScale=True, valueRange =[1e-3,1e5]))\n",
    "#fig.append( glucifer.objects.Points(gSwarm, lowerPlateRestFn ))\n",
    "#fig.append( glucifer.objects.VectorArrows(mesh,velocityField, scaling=0.002))\n",
    "#fig.append( glucifer.objects.Surface(mesh,densityMapFn))\n",
    "#fig.append( glucifer.objects.Surface(mesh,raylieghFn))\n",
    "#fig.append( glucifer.objects.Points(slab_seg.swarm, pointSize=10))\n",
    "#fig.save_database('test.gldb')"
   ]
  },
  {
   "cell_type": "code",
   "execution_count": 76,
   "metadata": {
    "collapsed": true,
    "deletable": true,
    "editable": true
   },
   "outputs": [],
   "source": [
    "respltconditions = [ \n",
    "                    (                                  hinge60RestFn*2. > rockRestFn*1., 1.),\n",
    "                    (                                  lowerPlateRestFn*3. > hinge60RestFn*2. , 3.),\n",
    "                    (                                  lithRestFn*5. > lowerPlateRestFn*3. , 4.),\n",
    "                   (                                                   True , 0.) ]\n",
    "\n",
    "respltFn = fn.branching.conditional(respltconditions )"
   ]
  },
  {
   "cell_type": "code",
   "execution_count": 77,
   "metadata": {
    "collapsed": true,
    "deletable": true,
    "editable": true
   },
   "outputs": [],
   "source": [
    "###################\n",
    "#Surface Restriction functions\n",
    "###################\n",
    "\n",
    "def platenessFn(val = 0.1):\n",
    "    normgradV = fn.math.abs(velocityField.fn_gradient[0]/fn.math.sqrt(velocityField[0]*velocityField[0])) #[du*/dx]/sqrt(u*u)\n",
    "\n",
    "\n",
    "\n",
    "    srconditions = [ (                                  normgradV < val, 1.),\n",
    "                   (                                                   True , 0.) ]\n",
    "\n",
    "\n",
    "    return fn.branching.conditional(srconditions)\n",
    "\n",
    "srRestFn = platenessFn(val = 0.1)"
   ]
  },
  {
   "cell_type": "code",
   "execution_count": 132,
   "metadata": {
    "collapsed": false,
    "deletable": true,
    "editable": true
   },
   "outputs": [],
   "source": [
    "###################\n",
    "#Setup any Functions to be integrated\n",
    "###################\n",
    "\n",
    "sqrtv2 = fn.math.sqrt(fn.math.dot(velocityField,velocityField))\n",
    "vx = velocityField[0]\n",
    "v2x = fn.math.dot(velocityField[0],velocityField[0])\n",
    "sqrtv2x = fn.math.sqrt(fn.math.dot(velocityField[0],velocityField[0]))\n",
    "dw = temperatureField*velocityField[1]\n",
    "sinner = fn.math.dot( strainRate_2ndInvariant, strainRate_2ndInvariant )\n",
    "vd = 4.*viscosityMapFn*sinner #there's an extra factor of 2, which is necessary because the of factor of 0.5 in the UW second invariant \n",
    "dTdZ = temperatureField.fn_gradient[1]"
   ]
  },
  {
   "cell_type": "code",
   "execution_count": 79,
   "metadata": {
    "collapsed": true,
    "deletable": true,
    "editable": true
   },
   "outputs": [],
   "source": [
    "###################\n",
    "#Create integral, max/min templates \n",
    "###################\n",
    "\n",
    "def volumeint(Fn = 1., rFn=globRestFn):\n",
    "    return uw.utils.Integral( Fn*rFn,  mesh )\n",
    "\n",
    "def surfint(Fn = 1., rFn=globRestFn, surfaceIndexSet=mesh.specialSets[\"MaxJ_VertexSet\"]):\n",
    "    return uw.utils.Integral( Fn*rFn, mesh=mesh, integrationType='Surface', surfaceIndexSet=surfaceIndexSet)\n",
    "\n",
    "def maxMin(Fn = 1.):\n",
    "    #maxMin(Fn = 1., rFn=globRestFn\n",
    "    #vuFn = fn.view.min_max(Fn*rFn) #the restriction functions don't work with the view.min_max fn yet\n",
    "    vuFn = fn.view.min_max(Fn)\n",
    "    return vuFn\n",
    "    "
   ]
  },
  {
   "cell_type": "code",
   "execution_count": 80,
   "metadata": {
    "collapsed": true,
    "deletable": true,
    "editable": true
   },
   "outputs": [],
   "source": [
    "#Setup volume integrals on different sub regions\n",
    "\n",
    "##Whole rock domain\n",
    "\n",
    "_areaintRock = volumeint(rockRestFn)\n",
    "_tempintRock = volumeint(temperatureField, rockRestFn)\n",
    "_rmsintRock = volumeint(sqrtv2,rockRestFn)\n",
    "_dwintRock = volumeint(dw,rockRestFn)\n",
    "_vdintRock = volumeint(vd,rockRestFn)\n",
    "\n",
    "##Lith \n",
    "\n",
    "_areaintLith  = volumeint(lithRestFn)\n",
    "_tempintLith  = volumeint(temperatureField, lithRestFn)\n",
    "_rmsintLith  = volumeint(sqrtv2,lithRestFn)\n",
    "_dwintLith  = volumeint(dw,lithRestFn)\n",
    "_vdintLith  = volumeint(vd,lithRestFn)\n",
    "\n",
    "##Lower plate\n",
    "\n",
    "_areaintLower  = volumeint(lowerPlateRestFn)\n",
    "_tempintLower  = volumeint(temperatureField, lowerPlateRestFn)\n",
    "_rmsintLower  = volumeint(sqrtv2,lowerPlateRestFn)\n",
    "_dwintLower = volumeint(dw,lowerPlateRestFn)\n",
    "_vdintLower  = volumeint(vd,lowerPlateRestFn)\n",
    "\n",
    "##Hinge lower plate\n",
    "\n",
    "_areaintHinge180  = volumeint(hinge180RestFn)\n",
    "_vdintHinge180  = volumeint(vd,hinge180RestFn)\n",
    "\n",
    "_areaintHinge60  = volumeint(hinge60RestFn)\n",
    "_vdintHinge60  = volumeint(vd,hinge60RestFn)\n",
    "\n",
    "\n",
    "##Interface\n",
    "\n",
    "_areaintInterface  = volumeint(interfaceRestFn)\n",
    "_vdintInterface = volumeint(vd,interfaceRestFn)"
   ]
  },
  {
   "cell_type": "code",
   "execution_count": 81,
   "metadata": {
    "collapsed": true,
    "deletable": true,
    "editable": true
   },
   "outputs": [],
   "source": [
    "#Setup surface integrals\n",
    "\n",
    "_surfLength = surfint()\n",
    "_rmsSurf = surfint(sqrtv2x)\n",
    "_nuTop = surfint(dTdZ)\n",
    "_nuBottom = surfint(dTdZ, surfaceIndexSet=mesh.specialSets[\"MinJ_VertexSet\"])\n",
    "_plateness = surfint(srRestFn)\n",
    "_pressure = surfint(pressureField)"
   ]
  },
  {
   "cell_type": "code",
   "execution_count": 82,
   "metadata": {
    "collapsed": true,
    "deletable": true,
    "editable": true
   },
   "outputs": [],
   "source": [
    "#Setup max min fns (at the moment, we can't pass restriction function to view.min_max, so we're limited to whole volume or surface extrema)\n",
    "\n",
    "##Whole rock domain\n",
    "\n",
    "#_maxMinVisc = maxMin(viscosityMapFn1)  #These don't work on swarm variables or mapping functions, yet\n",
    "#dummyFn = _maxMinVisc.evaluate(mesh)\n",
    "#_maxMinStressInv = maxMin(2*viscosityMapFn1*strainRate_2ndInvariant) #These don't work on swarm variables or mapping functions, yet\n",
    "#dummyFn = _maxMinStress.evaluate(mesh)\n",
    "#_maxMinVd = maxMin(vd) #These don't work on swarm variables or mapping functions, yet\n",
    "#dummyFn = _maxMinVd.evaluate(mesh)\n",
    "\n",
    "\n",
    "_maxMinVel = maxMin(velocityField) \n",
    "dummyFn = _maxMinVel.evaluate(mesh)\n",
    "\n",
    "_maxMinSr = maxMin(strainRate_2ndInvariant) \n",
    "dummyFn = _maxMinSr.evaluate(mesh)\n",
    "\n",
    "\n",
    "#Surface extrema\n",
    "_maxMinVxSurf = maxMin(vx)\n",
    "dummyFn = _maxMinVxSurf.evaluate(tWalls)\n"
   ]
  },
  {
   "cell_type": "code",
   "execution_count": null,
   "metadata": {
    "collapsed": true,
    "deletable": true,
    "editable": true
   },
   "outputs": [],
   "source": [
    "\n"
   ]
  },
  {
   "cell_type": "code",
   "execution_count": 83,
   "metadata": {
    "collapsed": true,
    "deletable": true,
    "editable": true
   },
   "outputs": [],
   "source": [
    "#Volume Ints\n",
    "areaintRock = _areaintRock.evaluate()[0]\n",
    "tempintRock = _tempintRock.evaluate()[0]\n",
    "rmsintRock = _rmsintRock.evaluate()[0]\n",
    "dwintRock = _dwintRock.evaluate()[0]\n",
    "vdintRock = _vdintRock.evaluate()[0]\n",
    "areaintLith = _areaintLith.evaluate()[0]\n",
    "tempintLith = _tempintLith.evaluate()[0]\n",
    "rmsintLith = _rmsintLith.evaluate()[0]\n",
    "dwintLith = _dwintLith.evaluate()[0]\n",
    "vdintLith = _vdintLith.evaluate()[0]\n",
    "areaintLower = _areaintLower.evaluate()[0]\n",
    "tempintLower = _tempintLower.evaluate()[0]\n",
    "rmsintLower = _rmsintLower.evaluate()[0]\n",
    "dwintLower = _dwintLower.evaluate()[0]\n",
    "vdintLower = _vdintLower.evaluate()[0]\n",
    "vdintHinge180 = _vdintHinge180.evaluate()[0]\n",
    "areaintHinge180 = _areaintHinge180.evaluate()[0]\n",
    "vdintHinge60 = _vdintHinge60.evaluate()[0]\n",
    "areaintHinge60= _areaintHinge60.evaluate()[0]\n",
    "vdintInterface = _vdintInterface.evaluate()[0]\n",
    "areaintInterface= _areaintInterface.evaluate()[0]\n",
    "\n",
    "#Surface Ints\n",
    "surfLength = _surfLength.evaluate()[0]\n",
    "rmsSurf = _rmsSurf.evaluate()[0]\n",
    "nuTop = _nuTop.evaluate()[0]\n",
    "nuBottom = _nuBottom.evaluate()[0]\n",
    "plateness = _plateness.evaluate()[0]\n",
    "pressureSurf = _pressure.evaluate()[0]\n",
    "\n",
    "\n",
    "#Max mins\n",
    "maxVel = _maxMinVel.max_global()\n",
    "minVel = _maxMinVel.min_global() \n",
    "maxSr = _maxMinSr.max_global()\n",
    "minSr = _maxMinSr.min_global()\n",
    "maxVxsurf = _maxMinVxSurf.max_global()\n",
    "minVxsurf = _maxMinVxSurf.min_global()"
   ]
  },
  {
   "cell_type": "markdown",
   "metadata": {
    "deletable": true,
    "editable": true
   },
   "source": [
    "print(areaintRock)\n",
    "print(tempintRock)\n",
    "print(rmsintRock)\n",
    "print(dwintRock)\n",
    "print(vdintRock)\n",
    "print(areaintLith)\n",
    "print(tempintLith )\n",
    "print(rmsintLith)\n",
    "print(dwintLith)\n",
    "print(vdintLith)\n",
    "print(areaintLower)\n",
    "print(tempintLower)\n",
    "print(rmsintLower) \n",
    "print(dwintLower)\n",
    "print(vdintLower)\n",
    "print(vdintHinge60)\n",
    "print(vdintHinge180)\n",
    "print(vdintInterface)\n",
    "\n",
    "print(surfLength)\n",
    "print(rmsSurf)\n",
    "print(nuTop)\n",
    "print(nuBottom)\n",
    "print(plateness)\n",
    "\n",
    "\n",
    "print(maxVel)\n",
    "print(minVel)\n",
    "print(maxSr)\n",
    "print(minSr)\n",
    "print(maxVxsurf)\n",
    "print(minVxsurf)"
   ]
  },
  {
   "cell_type": "markdown",
   "metadata": {
    "deletable": true,
    "editable": true
   },
   "source": [
    "Viz.\n",
    "-----"
   ]
  },
  {
   "cell_type": "code",
   "execution_count": null,
   "metadata": {
    "collapsed": true,
    "deletable": true,
    "editable": true
   },
   "outputs": [],
   "source": []
  },
  {
   "cell_type": "code",
   "execution_count": 199,
   "metadata": {
    "collapsed": false,
    "deletable": true,
    "editable": true
   },
   "outputs": [],
   "source": [
    "#Build a depth dependent mask for the vizualisation\n",
    "\n",
    "depthVariable      = gSwarm.add_variable( dataType=\"float\", count=1 )\n",
    "depthVariable.data[:] = depthFn.evaluate(gSwarm)\n",
    "\n",
    "vizVariable      = gSwarm.add_variable( dataType=\"int\", count=1 )\n",
    "vizVariable.data[:] = 0\n",
    "\n",
    "for index, value in enumerate(depthVariable.data[:]):\n",
    "    #print index, value\n",
    "    if np.random.rand(1)**5 > value/(MAXY - MINY):\n",
    "        vizVariable.data[index] = 1\n",
    "        \n",
    "del index, value    #get rid of any variables that might be pointing at the .data handles (these are!)"
   ]
  },
  {
   "cell_type": "code",
   "execution_count": null,
   "metadata": {
    "collapsed": false,
    "deletable": true,
    "editable": true
   },
   "outputs": [],
   "source": []
  },
  {
   "cell_type": "code",
   "execution_count": 86,
   "metadata": {
    "collapsed": false,
    "deletable": true,
    "editable": true
   },
   "outputs": [],
   "source": [
    "fig= glucifer.Figure()\n",
    "fig.append( glucifer.objects.Points(gSwarm,temperatureField, fn_mask=vizVariable))\n",
    "fig.append( glucifer.objects.Mesh(mesh))\n",
    "#fig.show()\n",
    "fig.save_database('test.gldb')"
   ]
  },
  {
   "cell_type": "code",
   "execution_count": 87,
   "metadata": {
    "collapsed": false,
    "deletable": true,
    "editable": true
   },
   "outputs": [],
   "source": [
    "if figures == 'gldb':\n",
    "    #Pack some stuff into a database as well\n",
    "    figDb = glucifer.Figure()\n",
    "    #figDb.append( glucifer.objects.Mesh(mesh))\n",
    "    figDb.append( glucifer.objects.VectorArrows(mesh,velocityField, scaling=0.0005))\n",
    "    #figDb.append( glucifer.objects.Points(gSwarm,tracerVariable, colours= 'white black'))\n",
    "    figDb.append( glucifer.objects.Points(gSwarm,materialVariable, fn_mask=vizVariable))\n",
    "\n",
    "    #figDb.append( glucifer.objects.Points(gSwarm,viscMinVariable))\n",
    "    figDb.append( glucifer.objects.Points(gSwarm,fnViscMin, fn_mask=vizVariable))\n",
    "    #figDb.append( glucifer.objects.Points(gSwarm,fnViscMin))\n",
    "    #figDb.append( glucifer.objects.Points(gSwarm, viscosityMapFn, logScale=True))\n",
    "    #figDb.append( glucifer.objects.Points(gSwarm, strainRate_2ndInvariant, logScale=True))\n",
    "    figDb.append( glucifer.objects.Points(gSwarm,temperatureField, fn_mask=vizVariable))\n",
    "    \n",
    "    \n",
    "    #figRestrict= glucifer.Figure()\n",
    "    #figRestrict.append( glucifer.objects.Points(gSwarm,respltFn))\n",
    "    #figRestrict.append( glucifer.objects.Points(gSwarm,lithRestFn))\n",
    "    #figRestrict.append( glucifer.objects.Points(gSwarm,lowerPlateRestFn))\n",
    "    #figRestrict.append( glucifer.objects.Points(gSwarm,hinge180RestFn))\n",
    "    #figRestrict.append( glucifer.objects.Points(gSwarm,interfaceRestFn))\n",
    "    #figRestrict.append( glucifer.objects.Points(interfaces[0].swarm, colours=\"Blue Blue\", pointSize=2.0, colourBar=False) )\n",
    "    #figRestrict.append( glucifer.objects.Points(interfaces[1].swarm, colours=\"Red Red\", pointSize=2.0, colourBar=False) )\n",
    "    #figRestrict.append( glucifer.objects.Points(slab_seg.swarm, colours=\"Black Black\", pointSize=2.0, colourBar=False) )\n",
    "\n",
    "elif figures == 'store':\n",
    "    fullpath = os.path.join(outputPath + \"gldbs/\")\n",
    "    store1 = glucifer.Store(fullpath + 'subduction1.gldb')\n",
    "    store2 = glucifer.Store(fullpath + 'subduction2.gldb')\n",
    "    store3 = glucifer.Store(fullpath + 'subduction3.gldb')\n",
    "    store4 = glucifer.Store(fullpath + 'subduction4.gldb')\n",
    "    store5 = glucifer.Store(fullpath + 'subduction5.gldb')\n",
    "\n",
    "\n",
    "\n",
    "    figTemp = glucifer.Figure(store1,figsize=(300*np.round(md.aspectRatio,2),300))\n",
    "    figTemp.append( glucifer.objects.Points(gSwarm,temperatureField, fn_mask=vizVariable))\n",
    "\n",
    "    figVisc= glucifer.Figure(store2, figsize=(300*np.round(md.aspectRatio,2),300))\n",
    "    figVisc.append( glucifer.objects.Points(gSwarm,viscosityMapFn, logScale=True, valueRange =[1.,1e5], fn_mask=vizVariable))\n",
    "\n",
    "\n",
    "    figMech= glucifer.Figure(store3, figsize=(300*np.round(md.aspectRatio,2),300))\n",
    "    figMech.append( glucifer.objects.Points(gSwarm,fnViscMin, valueRange =[0.,5.], fn_mask=vizVariable))\n",
    "    \n",
    "    figMat= glucifer.Figure(store4, figsize=(300*np.round(md.aspectRatio,2),300))\n",
    "    figMat.append( glucifer.objects.Points(gSwarm,materialVariable, fn_mask=vizVariable))\n",
    "    figMat.append( glucifer.objects.VectorArrows(mesh,velocityField,resolutionI=int(16*md.aspectRatio), resolutionJ=16*2,  scaling=0.0001))\n",
    "    \n",
    "    \n",
    "    #figStress= glucifer.Figure(store5, figsize=(300*np.round(md.aspectRatio,2),300))\n",
    "    #figStress.append( glucifer.objects.Points(gSwarm,stressVariableFn, fn_mask=vizVariable))\n",
    "    #figStress.append( glucifer.objects.VectorArrows(mesh, eig1, arrowHead=0.0, scaling=0.05, glyphs=3, resolutionI=int(16*md.aspectRatio), resolutionJ=16*2))\n",
    "    #figStress.append( glucifer.objects.VectorArrows(mesh, eig2, arrowHead=0.0, scaling=0.05, glyphs=3, resolutionI=int(16*md.aspectRatio), resolutionJ=16*2))\n",
    "\n",
    "    \n",
    "    \n",
    "    \n"
   ]
  },
  {
   "cell_type": "code",
   "execution_count": null,
   "metadata": {
    "collapsed": false,
    "deletable": true,
    "editable": true
   },
   "outputs": [],
   "source": []
  },
  {
   "cell_type": "code",
   "execution_count": null,
   "metadata": {
    "collapsed": true,
    "deletable": true,
    "editable": true
   },
   "outputs": [],
   "source": []
  },
  {
   "cell_type": "markdown",
   "metadata": {
    "collapsed": false,
    "deletable": true,
    "editable": true
   },
   "source": [
    "if figures == 'gldb':\n",
    "    #Pack some stuff into a database as well\n",
    "    figDb = glucifer.Figure()\n",
    "    #figDb.append( glucifer.objects.Mesh(mesh))\n",
    "    figDb.append( glucifer.objects.VectorArrows(mesh,velocityField, scaling=0.0005))\n",
    "    #figDb.append( glucifer.objects.Points(gSwarm,tracerVariable, colours= 'white black'))\n",
    "    figDb.append( glucifer.objects.Points(gSwarm,materialVariable))\n",
    "    figDb.append( glucifer.objects.Points(swarmPlateBoundary, pointSize=4))\n",
    "\n",
    "    #figDb.append( glucifer.objects.Points(gSwarm,viscMinVariable))\n",
    "    figDb.append( glucifer.objects.Points(vSwarm,fnViscMin))\n",
    "    #figDb.append( glucifer.objects.Points(gSwarm,fnViscMin))\n",
    "    #figDb.append( glucifer.objects.Points(gSwarm, viscosityMapFn, logScale=True))\n",
    "    #figDb.append( glucifer.objects.Points(gSwarm, strainRate_2ndInvariant, logScale=True))\n",
    "    figDb.append( glucifer.objects.Points(vSwarm,temperatureField))\n",
    "    \n",
    "    \n",
    "    #figRestrict= glucifer.Figure()\n",
    "    #figRestrict.append( glucifer.objects.Points(gSwarm,respltFn))\n",
    "    #figRestrict.append( glucifer.objects.Points(gSwarm,lithRestFn))\n",
    "    #figRestrict.append( glucifer.objects.Points(gSwarm,lowerPlateRestFn))\n",
    "    #figRestrict.append( glucifer.objects.Points(gSwarm,hinge180RestFn))\n",
    "    #figRestrict.append( glucifer.objects.Points(gSwarm,interfaceRestFn))\n",
    "    #figRestrict.append( glucifer.objects.Points(interfaces[0].swarm, colours=\"Blue Blue\", pointSize=2.0, colourBar=False) )\n",
    "    #figRestrict.append( glucifer.objects.Points(interfaces[1].swarm, colours=\"Red Red\", pointSize=2.0, colourBar=False) )\n",
    "    #figRestrict.append( glucifer.objects.Points(slab_seg.swarm, colours=\"Black Black\", pointSize=2.0, colourBar=False) )\n",
    "\n",
    "elif figures == 'store':\n",
    "    fullpath = os.path.join(outputPath + \"gldbs/\")\n",
    "    store = glucifer.Store(fullpath + 'subduction.gldb')\n",
    "\n",
    "    figTemp = glucifer.Figure(store,figsize=(300*np.round(md.aspectRatio,2),300))\n",
    "    figTemp.append( glucifer.objects.Points(vSwarm,temperatureField))\n",
    "\n",
    "    figVisc= glucifer.Figure(store, figsize=(300*np.round(md.aspectRatio,2),300))\n",
    "    figVisc.append( glucifer.objects.Points(gSwarm,viscosityMapFn, logScale=True, valueRange =[1.,1e5]))\n",
    "\n",
    "    figMech= glucifer.Figure(store, figsize=(300*np.round(md.aspectRatio,2),300))\n",
    "    figMech.append( glucifer.objects.Points(vSwarm,fnViscMin))\n",
    "    \n",
    "    figMat= glucifer.Figure(store, figsize=(300*np.round(md.aspectRatio,2),300))\n",
    "    figMat.append( glucifer.objects.Points(gSwarm,materialVariable))"
   ]
  },
  {
   "cell_type": "markdown",
   "metadata": {
    "deletable": true,
    "editable": true
   },
   "source": [
    "**Miscellania**"
   ]
  },
  {
   "cell_type": "code",
   "execution_count": 88,
   "metadata": {
    "collapsed": false,
    "deletable": true,
    "editable": true
   },
   "outputs": [
    {
     "name": "stderr",
     "output_type": "stream",
     "text": [
      "/usr/local/lib/python2.7/dist-packages/numpy/core/numeric.py:190: VisibleDeprecationWarning: using a non-integer number instead of an integer will result in an error in the future\n",
      "  a = empty(shape, dtype, order)\n"
     ]
    }
   ],
   "source": [
    "##############\n",
    "#Create a numpy array at the surface to get surface information on (using parallel-friendly evaluate_global)\n",
    "##############\n",
    "\n",
    "surface_xs = np.linspace(mesh.minCoord[0], mesh.maxCoord[0], mesh.elementRes[0] + 1)\n",
    "surface_nodes = np.array(zip(surface_xs, np.ones(len(surface_xs)*mesh.maxCoord[1]))) #For evaluation surface velocity\n",
    "normgradV = velocityField.fn_gradient[0]/fn.math.sqrt(velocityField[0]*velocityField[0])\n",
    "\n",
    "tempMM = fn.view.min_max(temperatureField)\n",
    "dummy = tempMM.evaluate(mesh)\n",
    "\n"
   ]
  },
  {
   "cell_type": "code",
   "execution_count": 89,
   "metadata": {
    "collapsed": false,
    "deletable": true,
    "editable": true
   },
   "outputs": [],
   "source": [
    "#Not parallel friendly yet\n",
    "#tipXvels = np.sum(velocityField[0].evaluate(tipSwarm)) /\\\n",
    "#    tipSwarm.particleGlobalCount\n",
    "#tipXvels = np.sum(velocityField[1].evaluate(tipSwarm)) /\\\n",
    "#    tipSwarm.particleGlobalCount\n",
    "    \n",
    "#tipXpos = np.sum(xFn.evaluate(tipSwarm)) /\\\n",
    "#    tipSwarm.particleGlobalCount\n",
    "#tipYpos = np.sum(yFn.evaluate(tipSwarm)) /\\\n",
    "#    tipSwarm.particleGlobalCount"
   ]
  },
  {
   "cell_type": "code",
   "execution_count": 90,
   "metadata": {
    "collapsed": false,
    "deletable": true,
    "editable": true
   },
   "outputs": [],
   "source": [
    "##############\n",
    "#These functions handle checkpointing\n",
    "##############\n",
    "\n",
    "def checkpoint1(step, checkpointPath,filename, filewrites):\n",
    "    path = checkpointPath + str(step) \n",
    "    os.mkdir(path)\n",
    "    ##Write and save the file, if not already a writing step\n",
    "    if not step % filewrites == 0:\n",
    "        f_o.write((35*'%-15s ' + '\\n') % (areaintRock, tempintRock, rmsintRock, dwintRock, vdintRock,\n",
    "                                  areaintLith, tempintLith,rmsintLith, dwintLith, vdintLith,\n",
    "                                  areaintLower, tempintLower, rmsintLower, dwintLower, vdintLower, \n",
    "                                  areaintHinge180,vdintHinge180, areaintHinge60, vdintHinge60, \n",
    "                                  areaintInterface, vdintInterface, vdintInterface,\n",
    "                                  minVel,maxVel, minVxsurf, maxVxsurf, surfLength,            \n",
    "                                  rmsSurf, nuTop, nuBottom, plateness, ndp.subzone,ndp.lRidge, ndp.rRidge, realtime))\n",
    "    filename.close()\n",
    "    shutil.copyfile(os.path.join(outputPath, outputFile), os.path.join(path, outputFile))\n",
    "\n",
    "\n",
    "def checkpoint2(step, checkpointPath, swarm, filename, varlist = [materialVariable], varnames = ['materialVariable']):\n",
    "    path = checkpointPath + str(step) \n",
    "    velfile = \"velocityField\" + \".hdf5\"\n",
    "    tempfile = \"temperatureField\" + \".hdf5\"\n",
    "    pressfile = \"pressureField\" + \".hdf5\"\n",
    "    velocityField.save(os.path.join(path, velfile))\n",
    "    temperatureField.save(os.path.join(path, tempfile))\n",
    "    pressureField.save(os.path.join(path, pressfile))\n",
    "    swarm.save(os.path.join(path, \"swarm.h5\") ) \n",
    "    for ix in range(len(varlist)):\n",
    "        varb = varlist[ix]\n",
    "        varb.save(os.path.join(path,varnames[ix] + \".h5\"))\n",
    "    \n",
    "    #Save the parameters\n",
    "    dict_list = [dp, sf, ndp, md] #if any of the dictionaries have changed, this list needs to be rebuilt\n",
    "    save_pickles(dict_list, dict_names, path)\n",
    "    \n",
    "#Simple Checkpoint function for the faults / interfaces (markerLine2D)\n",
    "def checkpoint3(step,  checkpointPath, interfaces,interfacenames ):\n",
    "    path = checkpointPath + str(step)\n",
    "    for ix in range(len(interfaces)):\n",
    "        intf = interfaces[ix]\n",
    "        intf.swarm.save(os.path.join(path,interfacenames[ix] + \".h5\"))\n",
    "    \n",
    "    "
   ]
  },
  {
   "cell_type": "code",
   "execution_count": 91,
   "metadata": {
    "collapsed": true,
    "deletable": true,
    "editable": true
   },
   "outputs": [],
   "source": [
    "def plate_infoFn(velocityField,xFn,  depthLimit, xsearchlim = 1.0, currentloc = 0.0, plateType='convergent'):\n",
    "    \"\"\"\n",
    "    This functions is used to track the plate boundaries in 2D.\n",
    "    It returns the x value of the max / min of the x velocity gradient.\n",
    "    \n",
    "    \"\"\"\n",
    "    \n",
    "    #Restriction fucntion \n",
    "    restictionFn = fn.branching.conditional([(operator.and_(fn.math.abs(xFn - currentloc) < xsearchlim, depthFn < depthLimit) , 1.),                                       \n",
    "                                             (True, 0.0)])\n",
    "    \n",
    "    #Normalised surface vel gradient\n",
    "    normgradV = velocityField.fn_gradient[0]/fn.math.sqrt(velocityField[0]*velocityField[0])\n",
    "\n",
    "    \n",
    "    plateFn0 = normgradV*restictionFn\n",
    "    \n",
    "    plateFn = fn.branching.conditional([(plateFn0 > 1e20, 0.),             #This attempts to fix inf values that appear at sidewalls                          \n",
    "                                             (True, plateFn0)])\n",
    "    \n",
    "    extremFn = fn.view.min_max(plateFn)\n",
    "    dummy = extremFn.evaluate(mesh)\n",
    "    \n",
    "    \n",
    "    print(extremFn.min_global(), extremFn.max_global())\n",
    "\n",
    "    #get global max\n",
    "    if plateType == 'convergent':   \n",
    "        testFn = fn.branching.conditional([(extremFn < extremFn.min_global() + 1e-10, coordinate[0]),                                       \n",
    "                                             (True, (-9999999.))])\n",
    "        extremFn2 = fn.view.min_max(testFn)\n",
    "        dummy2 = extremFn2.evaluate(mesh)\n",
    "        if extremFn2.max_global() == -9999999.:\n",
    "            return currentloc\n",
    "        else:\n",
    "            return extremFn2.max_global()\n",
    "        \n",
    "    elif plateType == 'divergent':\n",
    "        testFn = fn.branching.conditional([(extremFn > extremFn.max_global() - 1e-3, coordinate[0]),                                       \n",
    "                                             (True, (-9999999.))])\n",
    "        extremFn2 = fn.view.min_max(testFn)\n",
    "        dummy2 = extremFn2.evaluate(mesh)\n",
    "        if extremFn2.max_global() == -9999999.:\n",
    "            return currentloc\n",
    "        else:\n",
    "            return extremFn2.max_global()\n",
    "    else:\n",
    "        raise ValueError('plateType should be one of convergent/divergent')"
   ]
  },
  {
   "cell_type": "code",
   "execution_count": 133,
   "metadata": {
    "collapsed": false,
    "deletable": true,
    "editable": true
   },
   "outputs": [],
   "source": [
    "##############\n",
    "#This will allow us to evaluate viscous shear heating, and add the result directly to the temperature field\n",
    "##############\n",
    "\n",
    "viscDisMapFn = 4.*viscosityMapFn*sinner\n",
    "viscDisFnmesh = uw.mesh.MeshVariable(mesh,nodeDofCount=1)\n",
    "viscDisProj = uw.utils.MeshVariable_Projection( viscDisFnmesh, viscDisMapFn)\n",
    "viscDisProj.solve()"
   ]
  },
  {
   "cell_type": "code",
   "execution_count": 41,
   "metadata": {
    "collapsed": false,
    "deletable": true,
    "editable": true
   },
   "outputs": [],
   "source": [
    "# initialise timer for computation\n",
    "start = time.clock()\n",
    "\n",
    "\n",
    "#increment time for our next image / file dump, should work for checkpoint restarts\n",
    "next_image_step = (np.floor(realtime/files_freq)+ 1.) *files_freq \n"
   ]
  },
  {
   "cell_type": "markdown",
   "metadata": {
    "deletable": true,
    "editable": true
   },
   "source": [
    "Main simulation loop\n",
    "-----\n"
   ]
  },
  {
   "cell_type": "code",
   "execution_count": 95,
   "metadata": {
    "collapsed": false,
    "deletable": true,
    "editable": true
   },
   "outputs": [
    {
     "ename": "NameError",
     "evalue": "name 'midthickness' is not defined",
     "output_type": "error",
     "traceback": [
      "\u001b[1;31m\u001b[0m",
      "\u001b[1;31mNameError\u001b[0mTraceback (most recent call last)",
      "\u001b[1;32m<ipython-input-95-d208a391f37b>\u001b[0m in \u001b[0;36m<module>\u001b[1;34m()\u001b[0m\n\u001b[0;32m    244\u001b[0m         \u001b[1;31m#Slab / mid swarm\u001b[0m\u001b[1;33m\u001b[0m\u001b[1;33m\u001b[0m\u001b[0m\n\u001b[0;32m    245\u001b[0m         \u001b[1;32mif\u001b[0m \u001b[0mdp\u001b[0m\u001b[1;33m.\u001b[0m\u001b[0msense\u001b[0m \u001b[1;33m==\u001b[0m \u001b[1;34m'Right'\u001b[0m\u001b[1;33m:\u001b[0m\u001b[1;33m\u001b[0m\u001b[0m\n\u001b[1;32m--> 246\u001b[1;33m             \u001b[0mintroPoint\u001b[0m \u001b[1;33m=\u001b[0m \u001b[0mndp\u001b[0m\u001b[1;33m.\u001b[0m\u001b[0mlRidge\u001b[0m \u001b[1;33m+\u001b[0m \u001b[0mmidthickness\u001b[0m \u001b[1;31m#\u001b[0m\u001b[1;33m\u001b[0m\u001b[0m\n\u001b[0m\u001b[0;32m    247\u001b[0m         \u001b[1;32melse\u001b[0m\u001b[1;33m:\u001b[0m\u001b[1;33m\u001b[0m\u001b[0m\n\u001b[0;32m    248\u001b[0m             \u001b[0mintroPoint\u001b[0m \u001b[1;33m=\u001b[0m \u001b[0mndp\u001b[0m\u001b[1;33m.\u001b[0m\u001b[0mrRidge\u001b[0m \u001b[1;33m-\u001b[0m \u001b[0mmidthickness\u001b[0m \u001b[1;31m#\u001b[0m\u001b[1;33m\u001b[0m\u001b[0m\n",
      "\u001b[1;31mNameError\u001b[0m: name 'midthickness' is not defined"
     ]
    }
   ],
   "source": [
    "#while step < 21:\n",
    "while realtime < 1.:\n",
    "\n",
    "    # solve Stokes and advection systems\n",
    "    solver.solve(nonLinearIterate=True)\n",
    "    \n",
    "    \n",
    "    #remove drift /null space in pressure\n",
    "    pressureField.data[:] -= pressureSurf/surfLength\n",
    "    \n",
    "    files_this_step = False #don't write files / images unless conditions are triggered\n",
    "    dt = advDiff.get_max_dt()*md.courantFac\n",
    "    if step == 0:\n",
    "        dt = 0.\n",
    "        files_this_step = True #write files on the zeroth step\n",
    "    \n",
    "    #This relates to file writing at set period - override make sure we hit certain time values\n",
    "    if realtime + dt >= next_image_step:\n",
    "        dt = next_image_step - realtime\n",
    "        files_this_step = True\n",
    "        next_image_step += files_freq #increment time for our next image / file dump\n",
    "        \n",
    "    advDiff.integrate(dt)\n",
    "    materialadvector.integrate(dt)\n",
    "    #advect any interfaces\n",
    "    fault.advection(dt)\n",
    "    \n",
    "    #Add the adiabatic adjustment \n",
    "    temperatureField.data[:] += dt*abHeatFn.evaluate(mesh)\n",
    "    \n",
    "    #Add the viscous heating term\n",
    "    #Need to be skeptical of Projection for viscosity. Also try direct interpolation (IDW)\n",
    "    #viscDisProj = uw.utils.MeshVariable_Projection( viscDisFnmesh, viscDisMapFn)\n",
    "    #viscDisProj.solve()\n",
    "    #temperatureField.data[:] += (ndp.Di/ndp.RA)*dt*viscDisFnmesh.evaluate(mesh)\n",
    "    \n",
    "\n",
    "    # Increment\n",
    "    realtime += dt\n",
    "    step += 1\n",
    "    timevals.append(realtime)\n",
    "    \n",
    "    ################\n",
    "    #Update temperature field in the air region\n",
    "    #Do this better...\n",
    "    ################\n",
    "    if (step % sticky_air_temp == 0):\n",
    "        for index, coord in enumerate(mesh.data):\n",
    "            if coord[1] >= 1.:\n",
    "                temperatureField.data[index] = ndp.TSP\n",
    "                \n",
    "                \n",
    "    ################\n",
    "    #Files output\n",
    "    ################ \n",
    "    if files_this_step:\n",
    "        \n",
    "        gSwarm.update_particle_owners()\n",
    "        \n",
    "        #any fields / swarms to be saved go here\n",
    "        \n",
    "        #Save the fault swarm\n",
    "        fnametemp1 = \"faultSwarm\" + \"_\" + str(step)\n",
    "        fullpath1 = os.path.join(outputPath + \"files/\" + fnametemp1)\n",
    "        fault.swarm.save(fullpath1)\n",
    "             \n",
    "        \n",
    "        #Now the surface x vels.\n",
    "        surfaceVelx.data[...] = velocityField[0].evaluate(surface.swarm)\n",
    "        fnametemp = \"velxSurface\" + \"_\" + str(step) + '.h5'\n",
    "        fullpath = os.path.join(outputPath + \"files/\" + fnametemp)\n",
    "        surfaceVelx.save(fullpath)\n",
    "        \n",
    "        #Now the vertical stress at the surface, parallel bug though. \n",
    "        #_ix1, _weights1 = nn_evaluation(gSwarm, surface.swarm.particleCoordinates.data, n=5, weighted=True)\n",
    "        #stressYFn =  2.*sym_strainRate[1]*viscosityMapFn    #- shouldn't need to rebuild this Fn, but check\n",
    "        #surfaceStressY.data[:,0] = np.average(stressYFn.evaluate(gSwarm)[_ix1][:,:,0],weights=_weights1, axis=1)\n",
    "        #fnametemp = \"surfaceStressY\" + \"_\" + str(step) + '.h5'\n",
    "        #fullpath = os.path.join(outputPath + \"files/\" + fnametemp)\n",
    "        #surfaceStressY.save(fullpath)\n",
    "        \n",
    "        \n",
    "\n",
    "                          \n",
    "\n",
    "    ################\n",
    "    #Update the subduction zone / plate information\n",
    "    ################ \n",
    "    \n",
    "    comm.barrier()\n",
    "    if (step % metric_output == 0):\n",
    "        \n",
    "\n",
    "        ndp.subzone = plate_infoFn(velocityField,xFn,  30e3/dp.LS, xsearchlim = 300e3/dp.LS, currentloc = ndp.subzone, plateType='convergent')\n",
    "        ndp.lRidge = plate_infoFn(velocityField,xFn,  30e3/dp.LS, xsearchlim = 300e3/dp.LS, currentloc = ndp.lRidge, plateType='divergent')\n",
    "        ndp.rRidge = plate_infoFn(velocityField,xFn,  30e3/dp.LS, xsearchlim = 300e3/dp.LS, currentloc = ndp.rRidge, plateType='divergent')\n",
    "\n",
    "    \n",
    "         \n",
    "            \n",
    "    ################\n",
    "    # Calculate the Metrics\n",
    "    ################\n",
    "    \n",
    "    if (step % metric_output == 0):\n",
    "        ###############\n",
    "        #Rebuild the restriction functions where necessary\n",
    "        ###############\n",
    "        \n",
    "        #Lithosphere - mantle:\n",
    "        mantleconditions = [ (                                  operator.and_(temperatureField < 0.9*ndp.TPP, operator.and_(xFn> ndp.lRidge,xFn< ndp.rRidge )), 1.),\n",
    "                   (                                                   True , 0.) ]\n",
    "        lithRestFn = fn.branching.conditional(mantleconditions)\n",
    "        lithRestFn*=rockRestFn #Add next level up in heirarchy\n",
    "        \n",
    "        #Lower plate\n",
    "        \n",
    "        lowerPlateRestFn = gSwarm.add_variable( dataType=\"double\", count=1 ) #weirdly we have to rebuild this one...\n",
    "        lowerPlateRestFn.data[:] = 0.0\n",
    "        sd, pts0 = fault.compute_signed_distance(gSwarm.particleCoordinates.data, distance=w0)\n",
    "        sp, pts0 = fault.compute_marker_proximity(gSwarm.particleCoordinates.data, distance=w0)\n",
    "        lowerPlateRestFn.data[np.logical_and(sd>0,sp == fault.ID)] = sp[np.logical_and(sd>0,sp == fault.ID)]\n",
    "        lowerPlateRestFn *= lithRestFn #Add next level up in heirarchy\n",
    "        \n",
    "        #Hinge\n",
    "        \n",
    "        hinge60Spatialconditions = [ (           operator.and_( (depthFn < MAXY - (60e3/dp.LS)),  (xFn > ndp.subzone - 60e3/dp.LS)), 1.),\n",
    "                   (                                                   True , 0.) ]\n",
    "        hinge60RestFn = fn.branching.conditional(hinge60Spatialconditions)\n",
    "        hinge60RestFn*=lowerPlateRestFn #Add next level up in hierarchy\n",
    "\n",
    "\n",
    "\n",
    "        hinge180Spatialconditions = [ (           operator.and_( (depthFn < MAXY - (180e3/dp.LS)),  (xFn > ndp.subzone - 180e3/dp.LS)), 1.),\n",
    "                           (                                                   True , 0.) ]\n",
    "        hinge180RestFn = fn.branching.conditional(hinge180Spatialconditions)\n",
    "        hinge180RestFn*=lowerPlateRestFn #Add next level up in hierarchy\n",
    "        \n",
    "        \n",
    "        #Reevaluate max min Functions\n",
    "        dummyFn = _maxMinVel.evaluate(mesh)\n",
    "        dummyFn = _maxMinSr.evaluate(mesh)\n",
    "        dummyFn = _maxMinVxSurf.evaluate(tWalls)\n",
    "        \n",
    "        ###############\n",
    "        #Metrics\n",
    "        ###############\n",
    "        areaintRock = _areaintRock.evaluate()[0] #trivial except when using sticky air\n",
    "        tempintRock = _tempintRock.evaluate()[0]\n",
    "        rmsintRock = _rmsintRock.evaluate()[0]\n",
    "        dwintRock = _dwintRock.evaluate()[0]\n",
    "        vdintRock = _vdintRock.evaluate()[0]\n",
    "        areaintLith = _areaintLith.evaluate()[0]\n",
    "        tempintLith = _tempintLith.evaluate()[0]\n",
    "        rmsintLith = _rmsintLith.evaluate()[0]\n",
    "        dwintLith = _dwintLith.evaluate()[0]\n",
    "        vdintLith = _vdintLith.evaluate()[0]\n",
    "        areaintLower = _areaintLower.evaluate()[0]\n",
    "        tempintLower = _tempintLower.evaluate()[0]\n",
    "        rmsintLower = _rmsintLower.evaluate()[0]\n",
    "        dwintLower = _dwintLower.evaluate()[0]\n",
    "        vdintLower = _vdintLower.evaluate()[0]\n",
    "        vdintHinge180 = _vdintHinge180.evaluate()[0]\n",
    "        areaintHinge180 = _areaintHinge180.evaluate()[0]\n",
    "        vdintHinge60 = _vdintHinge60.evaluate()[0]\n",
    "        areaintHinge60= _areaintHinge60.evaluate()[0]\n",
    "        vdintInterface = _vdintInterface.evaluate()[0]\n",
    "        areaintInterface= _areaintInterface.evaluate()[0]\n",
    "        #Surface integrals\n",
    "        rmsSurf = _rmsSurf.evaluate()[0]\n",
    "        nuTop = _nuTop.evaluate()[0]\n",
    "        nuBottom = _nuBottom.evaluate()[0]\n",
    "        plateness = _plateness.evaluate()[0]\n",
    "        #extrema\n",
    "        maxVel = _maxMinVel.max_global()\n",
    "        minVel = _maxMinVel.min_global() \n",
    "        maxSr = _maxMinSr.max_global()\n",
    "        minSr = _maxMinSr.min_global()\n",
    "        maxVxsurf = _maxMinVxSurf.max_global()\n",
    "        minVxsurf = _maxMinVxSurf.min_global()\n",
    "        # output to text file...root proc. handles this one\n",
    "        if uw.rank()==0:\n",
    "            f_o.write((35*'%-15s ' + '\\n') % (areaintRock, tempintRock, rmsintRock, dwintRock, vdintRock,\n",
    "                                  areaintLith, tempintLith,rmsintLith, dwintLith, vdintLith,\n",
    "                                  areaintLower, tempintLower, rmsintLower, dwintLower, vdintLower, \n",
    "                                  areaintHinge180,vdintHinge180, areaintHinge60, vdintHinge60, \n",
    "                                  areaintInterface, vdintInterface, vdintInterface,\n",
    "                                  minVel,maxVel, minVxsurf, maxVxsurf, surfLength,            \n",
    "                                  rmsSurf, nuTop, nuBottom, plateness, ndp.subzone,ndp.lRidge, ndp.rRidge, realtime))\n",
    "    \n",
    "    \n",
    "    ################\n",
    "    #Also repopulate entire swarm periodically\n",
    "    ################\n",
    "    if step % swarm_repop == 0:\n",
    "        population_control.repopulate()\n",
    "        \n",
    "        \n",
    "                       \n",
    "    ################\n",
    "    #Gldb output\n",
    "    ################ \n",
    "    if files_this_step: \n",
    "        \n",
    "        #ReBuild the principal stress vector\n",
    "        ssr = sym_strainRate.evaluate(mesh) #this does need to be here, \n",
    "        \n",
    "        principalAngles  = np.apply_along_axis(eig2d, 1, ssr[:, :])[:,2]\n",
    "        eig1.data[:,0] = np.cos(np.radians(principalAngles - 90.)) #most compressive \n",
    "        eig1.data[:,1] = np.sin(np.radians(principalAngles - 90.))\n",
    "        eig2.data[:,0] = np.cos(np.radians(principalAngles ))      #most extensive\n",
    "        eig2.data[:,1] = np.sin(np.radians(principalAngles ))\n",
    "        \n",
    "        \n",
    "        \n",
    "        #Rebuild the viz. mask\n",
    "        \n",
    "        vizVariable.data[:] = 0\n",
    "        depthVariable.data[:] = depthFn.evaluate(gSwarm)\n",
    "        for index, value in enumerate(depthVariable.data[:]):\n",
    "            #print index, value\n",
    "            if np.random.rand(1)**5 > value/(MAXY - MINY):\n",
    "                vizVariable.data[index] = 1\n",
    "\n",
    "        del index, value    #get rid of any variables that might be pointing at the .data handles (these are!)\n",
    "        \n",
    "        \n",
    "        \n",
    "        if figures == 'gldb':\n",
    "            #Remember to rebuild any necessary swarm variables\n",
    "            fnamedb = \"dbFig\" + \"_\" + str(step) + \".gldb\"\n",
    "            fullpath = os.path.join(outputPath + \"gldbs/\" + fnamedb)\n",
    "            figDb.save_database(fullpath)\n",
    "            \n",
    "            #Temp figure\n",
    "            #fnamedb = \"restrictFig\" + \"_\" + str(step) + \".gldb\"\n",
    "            #fullpath = os.path.join(outputPath + \"gldbs/\" + fnamedb)\n",
    "            #figRestrict.save_database(fullpath)\n",
    "        elif figures == 'store':      \n",
    "            fullpath = os.path.join(outputPath + \"gldbs/\")\n",
    "            store1.step = step\n",
    "            store2.step = step\n",
    "            store3.step = step\n",
    "            store4.step = step\n",
    "            store5.step = step\n",
    "            #Save figures to store\n",
    "            figVisc.save( fullpath + \"Visc\" + str(step).zfill(4))\n",
    "            figMech.save( fullpath + \"Mech\" + str(step).zfill(4))\n",
    "            figTemp.save( fullpath + \"Temp\"    + str(step).zfill(4))\n",
    "            figMat.save( fullpath + \"Mat\"    + str(step).zfill(4))\n",
    "            #figStress.save( fullpath + \"Stress\"    + str(step).zfill(4))\n",
    "            #figSr.save( fullpath + \"Str_rte\"    + str(step).zfill(4))\n",
    "            \n",
    "            \n",
    "            #Also checkpoint so gLuc Stores stay in sync with checkpoint\n",
    "            if step % checkpoint_every != 0:\n",
    "                if uw.rank() == 0:\n",
    "                    checkpoint1(step, checkpointPath,f_o, metric_output)           \n",
    "                checkpoint2(step, checkpointPath, gSwarm, f_o, varlist = varlist, varnames = varnames)\n",
    "                checkpoint3(step,  checkpointPath, interfaces,interfacenames )\n",
    "                f_o = open(os.path.join(outputPath, outputFile), 'a') #is this line supposed to be here?\n",
    "            \n",
    "            \n",
    "    ################\n",
    "    #xdmf output\n",
    "    ################ \n",
    "    \n",
    "    fullpath = os.path.join(outputPath + \"xdmf/\")\n",
    "    if files_this_step:\n",
    "        \n",
    "        # rebuild the sigma_xx variable\n",
    "        _ix, _weights = nn_evaluation(gSwarm, mesh.data, n=5, weighted=True)\n",
    "        stressField.data[:,0] = np.average(stressVariableFn.evaluate(gSwarm)[_ix][:,:,0],weights=_weights, axis=1)\n",
    "\n",
    "        \n",
    "        \n",
    "        fullpath = os.path.join(outputPath + \"xdmf/\")\n",
    "        #if not os.path.exists(fullpath+\"mesh.h5\"):\n",
    "        #    _mH = mesh.save(fullpath+\"mesh.h5\")\n",
    "        \n",
    "        try:\n",
    "            _mH\n",
    "        except:\n",
    "            _mH = mesh.save(fullpath+\"mesh.h5\")\n",
    "        \n",
    "        mh = _mH\n",
    "        vH = velocityField.save(fullpath + \"velocity_\" + str(step) +\".h5\")\n",
    "        tH = temperatureField.save(fullpath + \"temp_\" + str(step) + \".h5\")\n",
    "        eH = eig1.save(fullpath + \"eig_\" + str(step) + \".h5\")\n",
    "        eH2 = eig2.save(fullpath + \"eig2_\" + str(step) + \".h5\")\n",
    "        sigXX = stressField.save(fullpath + \"sigXX_\" + str(step) + \".h5\")\n",
    "        velocityField.xdmf(fullpath + \"velocity_\" + str(step), vH, 'velocity', mh, 'mesh', modeltime=realtime)\n",
    "        temperatureField.xdmf(fullpath + \"temp_\" + str(step), tH, 'temperature', mh, 'mesh', modeltime=realtime)\n",
    "        eig1.xdmf(fullpath + \"eig_\" + str(step), eH, 'eig', mh, 'mesh', modeltime=realtime)\n",
    "        eig2.xdmf(fullpath + \"eig2_\" + str(step), eH2, 'eig2', mh, 'mesh', modeltime=realtime)\n",
    "        stressField.xdmf(fullpath + \"sigXX_\" + str(step), sigXX, 'sigXX', mh, 'mesh', modeltime=realtime)\n",
    "        \n",
    "    ################\n",
    "    #Particle update\n",
    "    ###############    \n",
    "    #ageVariable.data[:] += dt #increment the ages (is this efficient?)\n",
    "    ageDT += dt\n",
    "    \n",
    "    if step % swarm_update == 0:\n",
    "        \n",
    "        #Increment age stuff. \n",
    "        ageConditions = [ (depthFn < ndp.AGETRACKDEPTH, ageVariable + ageDT ),  #add ageDThere\n",
    "                  (True, 0.) ]\n",
    "        ageVariable.data[:] = fn.branching.conditional( ageConditions ).evaluate(gSwarm)        \n",
    "        ageDT = 0. #reset the age incrementer\n",
    "        \n",
    "        \n",
    "        #This is hardcoded to assume subduction is towards the right\n",
    "        tempop = operator.lt\n",
    "\n",
    "        #Update the relevant parts of the material graph\n",
    "        #Remove and rebuild edges related to crust\n",
    "        DG.remove_edges_from([(mantleIndex,crustIndex)])\n",
    "        DG.add_edges_from([(mantleIndex,crustIndex)])\n",
    "        DG.remove_edges_from([(harzIndex,crustIndex)])\n",
    "        DG.add_edges_from([(harzIndex,crustIndex)])\n",
    "\n",
    "        #... to crust\n",
    "        DG.add_transition((mantleIndex,crustIndex), depthFn, operator.lt, ndp.MANTLETOCRUST)\n",
    "        DG.add_transition((mantleIndex,crustIndex), xFn, operator.lt, 0.5*ndp.lRidge) #No crust on the upper plate\n",
    "        DG.add_transition((mantleIndex,crustIndex), ageVariable, operator.gt, 0.2)\n",
    "\n",
    "        DG.add_transition((harzIndex,crustIndex), depthFn, operator.lt, ndp.MANTLETOCRUST)\n",
    "        DG.add_transition((harzIndex,crustIndex), xFn, tempop, 0.5*ndp.lRidge) #This one sets no crust on the upper plate\n",
    "        DG.add_transition((harzIndex,crustIndex), ageVariable, operator.gt, crustageCond)\n",
    "        \n",
    "        \n",
    "        #Make sure to rebuild the condition list if you want changes to be applied\n",
    "        DG.build_condition_list(materialVariable)\n",
    "        \n",
    "        comm.barrier()\n",
    "        \n",
    "    \n",
    "        \n",
    "        \n",
    "        #Apply any materialVariable changes\n",
    "        for i in range(2): #go through twice\n",
    "            materialVariable.data[:] = fn.branching.conditional(DG.condition_list).evaluate(gSwarm)\n",
    "        \n",
    "        #Also update any information related to faults / interfaces:\n",
    "\n",
    "        sd, pts0 = fault.compute_signed_distance(gSwarm.particleCoordinates.data, distance=w0)\n",
    "        sp, pts0 = fault.compute_marker_proximity(gSwarm.particleCoordinates.data)\n",
    "\n",
    "        proximityVariable.data[np.logical_and(sd<0,sp == fault.ID)] = sp[np.logical_and(sd<0,sp == fault.ID)]\n",
    "\n",
    "        dv, nzv = fault.compute_normals(gSwarm.particleCoordinates.data)\n",
    "        directorVector.data[nzv] = dv[nzv]\n",
    "\n",
    "        proximityVariable.data[gSwarm.particleCoordinates.data[:,1]  < (1. - ndp.CRUSTVISCUTOFF)] = 0.\n",
    "        \n",
    "        #And add extra particles to interfaces as necessary\n",
    "        #subduction fault\n",
    "        #introPoint = ndp.subzone - abs(ndp.subzone - ndp.lRidge)/2. #half way between ridge and Sz\n",
    "        introPoint = ndp.subzone - abs(ndp.subzone - mesh.minCoord[0])/2. #half way between ridge and domain edge\n",
    "        fault.add_points([introPoint],[MAXY - faultthickness])\n",
    "\n",
    "\n",
    "        \n",
    "    ################\n",
    "    #Checkpoint\n",
    "    ################\n",
    "    if step % checkpoint_every == 0:\n",
    "        if uw.rank() == 0:\n",
    "            checkpoint1(step, checkpointPath,f_o, metric_output)           \n",
    "        checkpoint2(step, checkpointPath, gSwarm, f_o, varlist = varlist, varnames = varnames)\n",
    "        checkpoint3(step,  checkpointPath, interfaces,interfacenames )\n",
    "        f_o = open(os.path.join(outputPath, outputFile), 'a') #is this line supposed to be here?\n",
    "        \n",
    "    \n",
    "    \n",
    "f_o.close()\n",
    "print 'step =',step"
   ]
  },
  {
   "cell_type": "code",
   "execution_count": 8,
   "metadata": {
    "collapsed": false,
    "deletable": true,
    "editable": true
   },
   "outputs": [
    {
     "ename": "NameError",
     "evalue": "name 'file_path' is not defined",
     "output_type": "error",
     "traceback": [
      "\u001b[1;31m\u001b[0m",
      "\u001b[1;31mNameError\u001b[0mTraceback (most recent call last)",
      "\u001b[1;32m<ipython-input-8-d52958dc5cee>\u001b[0m in \u001b[0;36m<module>\u001b[1;34m()\u001b[0m\n\u001b[1;32m----> 1\u001b[1;33m \u001b[0mos\u001b[0m\u001b[1;33m.\u001b[0m\u001b[0mpath\u001b[0m\u001b[1;33m.\u001b[0m\u001b[0mexists\u001b[0m\u001b[1;33m(\u001b[0m\u001b[0mfile_path\u001b[0m\u001b[1;33m)\u001b[0m\u001b[1;33m\u001b[0m\u001b[0m\n\u001b[0m",
      "\u001b[1;31mNameError\u001b[0m: name 'file_path' is not defined"
     ]
    }
   ],
   "source": []
  },
  {
   "cell_type": "code",
   "execution_count": null,
   "metadata": {
    "collapsed": false,
    "deletable": true,
    "editable": true
   },
   "outputs": [],
   "source": [
    "#viscVariable = gSwarm.add_variable( dataType=\"float\", count=1 )\n",
    "#viscVariable.data[:] = viscosityMapFn.evaluate(gSwarm)\n",
    "\n",
    "#buoyVariable = gSwarm.add_variable( dataType=\"float\", count=1 )\n",
    "#buoyVariable.data[:] = densityMapFn.evaluate(gSwarm)"
   ]
  },
  {
   "cell_type": "code",
   "execution_count": 70,
   "metadata": {
    "collapsed": true,
    "deletable": true,
    "editable": true
   },
   "outputs": [],
   "source": [
    "#Level 3. lithosphere - mantle:\n",
    "tempMM = fn.view.min_max(temperatureField)\n",
    "tempMM.evaluate(mesh)\n",
    "TMAX = tempMM.max_global()\n",
    "mantleconditions = [ (                                  temperatureField < 0.9*ndp.TPP, 1.),\n",
    "                   (                                                   True , 0.) ]\n",
    "lithRestFn = fn.branching.conditional(mantleconditions)\n",
    "#lithRestFn*=rockRestFn #Add next level up in heirarchy"
   ]
  },
  {
   "cell_type": "code",
   "execution_count": 207,
   "metadata": {
    "collapsed": false,
    "deletable": true,
    "editable": true
   },
   "outputs": [
    {
     "data": {
      "text/plain": [
       "(0.6026351151756232, 0.4643550314115336)"
      ]
     },
     "execution_count": 207,
     "metadata": {},
     "output_type": "execute_result"
    }
   ],
   "source": [
    "1.1*ndp.TPP, 0.6*TMAX"
   ]
  },
  {
   "cell_type": "code",
   "execution_count": 71,
   "metadata": {
    "collapsed": false,
    "deletable": true,
    "editable": true
   },
   "outputs": [],
   "source": [
    "#fig= glucifer.Figure()\n",
    "#fig.append( glucifer.objects.Points(gSwarm,lowerPlateRestFn))\n",
    "#fig.append( glucifer.objects.Points(gSwarm, materialVariable))\n",
    "#fig.append( glucifer.objects.Surface(mesh, temperatureField ))#\n",
    "#fig.append( glucifer.objects.VectorArrows(mesh,velocityField, scaling=0.002))\n",
    "#fig.append( glucifer.objects.Surface(mesh,densityMapFn))\n",
    "#fig.append( glucifer.objects.Surface(mesh,raylieghFn))\n",
    "#fig.append( glucifer.objects.Points(fault.swarm, pointSize=4))\n",
    "#fig.show()\n",
    "#fig.save_database('test.gldb')"
   ]
  },
  {
   "cell_type": "code",
   "execution_count": 78,
   "metadata": {
    "collapsed": false,
    "deletable": true,
    "editable": true
   },
   "outputs": [],
   "source": [
    "#print('proc #' + str(comm.rank) + \" \" + str(Max_vx_surf ) )\n",
    "#if uw.rank()==0:\n",
    "#    print('Proc 0' +  \" \" + str(Max_vx_surf ) )"
   ]
  },
  {
   "cell_type": "code",
   "execution_count": null,
   "metadata": {
    "collapsed": true,
    "deletable": true,
    "editable": true
   },
   "outputs": [],
   "source": [
    "#figDb.save_database('test.gldb')"
   ]
  },
  {
   "cell_type": "code",
   "execution_count": 134,
   "metadata": {
    "collapsed": false,
    "deletable": true,
    "editable": true
   },
   "outputs": [],
   "source": [
    "#Add the viscous heating term\n",
    "#Need to be skeptical of Projection for viscosity. Also try direct interpolation (IDW)\n",
    "viscDisProj = uw.utils.MeshVariable_Projection( viscDisFnmesh, viscDisMapFn)\n",
    "viscDisProj.solve()\n",
    "#temperatureField.data[:] += ndp.Di*dt*viscDisFnmesh.evaluate(mesh)"
   ]
  },
  {
   "cell_type": "code",
   "execution_count": 141,
   "metadata": {
    "collapsed": false,
    "deletable": true,
    "editable": true
   },
   "outputs": [],
   "source": [
    "dt = advDiff.get_max_dt()*md.courantFac\n",
    "test = (ndp.Di/ndp.RA)*dt*viscDisFnmesh"
   ]
  },
  {
   "cell_type": "code",
   "execution_count": 69,
   "metadata": {
    "collapsed": false,
    "deletable": true,
    "editable": true
   },
   "outputs": [],
   "source": [
    "#fig= glucifer.Figure()\n",
    "#fig.append( glucifer.objects.Points(gSwarm,lowerPlateRestFn))\n",
    "#fig.append( glucifer.objects.Points(gSwarm, viscosityMapFn, logScale=True, valueRange =[1e-3,1e5]))\n",
    "#fig.append( glucifer.objects.Surface(mesh, stressField))#\n",
    "\n",
    "#fig.show()"
   ]
  },
  {
   "cell_type": "code",
   "execution_count": 143,
   "metadata": {
    "collapsed": false,
    "deletable": true,
    "editable": true
   },
   "outputs": [
    {
     "data": {
      "text/plain": [
       "3.7968333000347254e-05"
      ]
     },
     "execution_count": 143,
     "metadata": {},
     "output_type": "execute_result"
    }
   ],
   "source": [
    "#test.evaluate(mesh).max()"
   ]
  },
  {
   "cell_type": "code",
   "execution_count": 34,
   "metadata": {
    "collapsed": false,
    "deletable": true,
    "editable": true
   },
   "outputs": [
    {
     "data": {
      "text/plain": [
       "0"
      ]
     },
     "execution_count": 34,
     "metadata": {},
     "output_type": "execute_result"
    }
   ],
   "source": [
    "step"
   ]
  },
  {
   "cell_type": "code",
   "execution_count": 41,
   "metadata": {
    "collapsed": false,
    "deletable": true,
    "editable": true
   },
   "outputs": [],
   "source": []
  },
  {
   "cell_type": "code",
   "execution_count": 40,
   "metadata": {
    "collapsed": false,
    "deletable": true,
    "editable": true
   },
   "outputs": [
    {
     "data": {
      "text/plain": [
       "'results/T/0/xdmf/velocity_'"
      ]
     },
     "execution_count": 40,
     "metadata": {},
     "output_type": "execute_result"
    }
   ],
   "source": []
  },
  {
   "cell_type": "code",
   "execution_count": 1,
   "metadata": {
    "collapsed": false,
    "deletable": true,
    "editable": true
   },
   "outputs": [
    {
     "ename": "NameError",
     "evalue": "name '_mH' is not defined",
     "output_type": "error",
     "traceback": [
      "\u001b[1;31m\u001b[0m",
      "\u001b[1;31mNameError\u001b[0mTraceback (most recent call last)",
      "\u001b[1;32m<ipython-input-1-0b56cc610c64>\u001b[0m in \u001b[0;36m<module>\u001b[1;34m()\u001b[0m\n\u001b[1;32m----> 1\u001b[1;33m \u001b[0m_mH\u001b[0m\u001b[1;33m\u001b[0m\u001b[0m\n\u001b[0m",
      "\u001b[1;31mNameError\u001b[0m: name '_mH' is not defined"
     ]
    }
   ],
   "source": []
  },
  {
   "cell_type": "code",
   "execution_count": 28,
   "metadata": {
    "collapsed": false,
    "deletable": true,
    "editable": true
   },
   "outputs": [],
   "source": [
    "#1. - 660/2900."
   ]
  },
  {
   "cell_type": "code",
   "execution_count": null,
   "metadata": {
    "collapsed": true,
    "deletable": true,
    "editable": true
   },
   "outputs": [],
   "source": []
  }
 ],
 "metadata": {
  "kernelspec": {
   "display_name": "Python 2",
   "language": "python",
   "name": "python2"
  },
  "language_info": {
   "codemirror_mode": {
    "name": "ipython",
    "version": 2
   },
   "file_extension": ".py",
   "mimetype": "text/x-python",
   "name": "python",
   "nbconvert_exporter": "python",
   "pygments_lexer": "ipython2",
   "version": "2.7.9"
  },
  "widgets": {
   "state": {},
   "version": "1.1.2"
  }
 },
 "nbformat": 4,
 "nbformat_minor": 0
}
