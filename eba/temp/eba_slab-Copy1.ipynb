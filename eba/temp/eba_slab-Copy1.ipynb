{
 "cells": [
  {
   "cell_type": "markdown",
   "metadata": {},
   "source": [
    "## Composite, non-linear rheology, extended Boussinesq approximation:\n",
    "\n",
    "\n",
    "The viscous rheology in this model is similar to the Garel et al paper cited below. Other parts of the model setup are similar to Čížková and Bina (2015), Arredondo and Billen (2016).\n",
    "\n",
    "Here we use a dimensionless system. For the psuedo-plastic effective rheology a Drucker-prager model is used.\n",
    "\n",
    "\n",
    "**Keywords:** subduction, composite rheology, dislocation creep\n",
    "\n",
    "\n",
    "**References:**\n",
    "\n",
    "\n",
    "Garel, Fanny, et al. \"Interaction of subducted slabs with the mantle transition‐zone: A regime diagram from 2‐D thermo‐mechanical models with a mobile trench and an overriding plate.\" Geochemistry, Geophysics, Geosystems 15.5 (2014): 1739-1765.\n",
    "\n",
    "Čížková, Hana, and Craig R. Bina. \"Geodynamics of trench advance: Insights from a Philippine-Sea-style geometry.\" Earth and Planetary Science Letters 430 (2015): 408-415.\n",
    "\n",
    "Arredondo, Katrina M., and Magali I. Billen. \"The Effects of Phase Transitions and Compositional Layering in Two-dimensional Kinematic Models of Subduction.\" Journal of Geodynamics (2016).\n"
   ]
  },
  {
   "cell_type": "code",
   "execution_count": 28,
   "metadata": {
    "collapsed": false
   },
   "outputs": [],
   "source": [
    "import numpy as np\n",
    "import underworld as uw\n",
    "import math\n",
    "from underworld import function as fn\n",
    "import glucifer\n",
    "\n",
    "import os\n",
    "import sys\n",
    "import natsort\n",
    "import shutil\n",
    "from easydict import EasyDict as edict\n",
    "import operator\n",
    "import pint\n",
    "import time\n",
    "import operator\n",
    "from slippy2 import boundary_layer2d\n",
    "from slippy2 import material_graph\n",
    "from slippy2 import spmesh\n",
    "from slippy2 import phase_function\n",
    "from unsupported.interfaces import markerLine2D\n",
    "\n",
    "\n",
    "from mpi4py import MPI\n",
    "comm = MPI.COMM_WORLD\n",
    "rank = comm.Get_rank()"
   ]
  },
  {
   "cell_type": "code",
   "execution_count": 29,
   "metadata": {
    "collapsed": false
   },
   "outputs": [],
   "source": [
    "#####\n",
    "#Stubborn version number conflicts - need to figure out my Docker container runs an old version. For now...\n",
    "#####\n",
    "try:\n",
    "    natsort.natsort = natsort.natsorted\n",
    "except:\n",
    "    natsort.natsort = natsort.natsort"
   ]
  },
  {
   "cell_type": "code",
   "execution_count": null,
   "metadata": {
    "collapsed": true
   },
   "outputs": [],
   "source": []
  },
  {
   "cell_type": "code",
   "execution_count": 30,
   "metadata": {
    "collapsed": false
   },
   "outputs": [],
   "source": [
    "#store = glucifer.Store('subduction')\n",
    "#figParticle = glucifer.Figure( store, figsize=(960,300), name=\"Particles\" )\n",
    "\n",
    "#figParticle.save_database('test.gldb')"
   ]
  },
  {
   "cell_type": "markdown",
   "metadata": {},
   "source": [
    "Model name and directories\n",
    "-----"
   ]
  },
  {
   "cell_type": "code",
   "execution_count": 31,
   "metadata": {
    "collapsed": true
   },
   "outputs": [],
   "source": [
    "############\n",
    "#Model letter and number\n",
    "############\n",
    "\n",
    "\n",
    "#Model letter identifier default\n",
    "Model = \"T\"\n",
    "\n",
    "#Model number identifier default:\n",
    "ModNum = 0\n",
    "\n",
    "#Any isolated letter / integer command line args are interpreted as Model/ModelNum\n",
    "\n",
    "if len(sys.argv) == 1:\n",
    "    ModNum = ModNum \n",
    "elif sys.argv[1] == '-f': #\n",
    "    ModNum = ModNum \n",
    "else:\n",
    "    for farg in sys.argv[1:]:\n",
    "        if not '=' in farg: #then Assume it's a not a paramter argument\n",
    "            try:\n",
    "                ModNum = int(farg) #try to convert everingthing to a float, else remains string\n",
    "            except ValueError:\n",
    "                Model  = farg"
   ]
  },
  {
   "cell_type": "code",
   "execution_count": 32,
   "metadata": {
    "collapsed": false
   },
   "outputs": [],
   "source": [
    "###########\n",
    "#Standard output directory setup\n",
    "###########\n",
    "\n",
    "outputPath = \"results\" + \"/\" +  str(Model) + \"/\" + str(ModNum) + \"/\" \n",
    "imagePath = outputPath + 'images/'\n",
    "filePath = outputPath + 'files/'\n",
    "checkpointPath = outputPath + 'checkpoint/'\n",
    "dbPath = outputPath + 'gldbs/'\n",
    "xdmfPath = outputPath + 'xdmf/'\n",
    "outputFile = 'results_model' + Model + '_' + str(ModNum) + '.dat'\n",
    "\n",
    "if uw.rank()==0:\n",
    "    # make directories if they don't exist\n",
    "    if not os.path.isdir(outputPath):\n",
    "        os.makedirs(outputPath)\n",
    "    if not os.path.isdir(checkpointPath):\n",
    "        os.makedirs(checkpointPath)\n",
    "    if not os.path.isdir(imagePath):\n",
    "        os.makedirs(imagePath)\n",
    "    if not os.path.isdir(dbPath):\n",
    "        os.makedirs(dbPath)\n",
    "    if not os.path.isdir(filePath):\n",
    "        os.makedirs(filePath)\n",
    "    if not os.path.isdir(xdmfPath):\n",
    "        os.makedirs(xdmfPath)\n",
    "        \n",
    "comm.Barrier() #Barrier here so no procs run the check in the next cell too early"
   ]
  },
  {
   "cell_type": "code",
   "execution_count": 33,
   "metadata": {
    "collapsed": false
   },
   "outputs": [
    {
     "name": "stdout",
     "output_type": "stream",
     "text": [
      "results/T/0/checkpoint/ is empty\n"
     ]
    }
   ],
   "source": [
    "###########\n",
    "#Check if starting from checkpoint\n",
    "###########\n",
    "\n",
    "checkdirs = []\n",
    "for dirpath, dirnames, files in os.walk(checkpointPath):\n",
    "    if files:\n",
    "        print dirpath, 'has files'\n",
    "        checkpointLoad = True\n",
    "        checkdirs.append(dirpath)\n",
    "    if not files:\n",
    "        print dirpath, 'is empty'\n",
    "        checkpointLoad = False"
   ]
  },
  {
   "cell_type": "code",
   "execution_count": 34,
   "metadata": {
    "collapsed": true
   },
   "outputs": [],
   "source": [
    "# setup summary output file (name above)\n",
    "if checkpointLoad:\n",
    "    checkpointLoadDir = natsort.natsort(checkdirs)[-1]\n",
    "    if uw.rank() == 0:\n",
    "        shutil.copyfile(os.path.join(checkpointLoadDir, outputFile), outputPath+outputFile)\n",
    "    comm.Barrier()\n",
    "    f_o = open(os.path.join(outputPath, outputFile), 'a')\n",
    "    prevdata = np.genfromtxt(os.path.join(outputPath, outputFile), skip_header=0, skip_footer=0)\n",
    "    if len(prevdata.shape) == 1: #this is in case there is only one line in previous file\n",
    "        realtime = prevdata[-1]  #This corresponds to the column you write time data to\n",
    "    else:\n",
    "        realtime = prevdata[prevdata.shape[0]-1, -1]\n",
    "    step = int(checkpointLoadDir.split('/')[-1])\n",
    "    timevals = [0.]\n",
    "else:\n",
    "    f_o = open(outputPath+outputFile, 'w')\n",
    "    realtime = 0.\n",
    "    step = 0\n",
    "    timevals = [0.]"
   ]
  },
  {
   "cell_type": "markdown",
   "metadata": {},
   "source": [
    "Setup parameters\n",
    "-----\n",
    "\n",
    "Set simulation parameters for test."
   ]
  },
  {
   "cell_type": "markdown",
   "metadata": {},
   "source": [
    "**Use pint to setup any unit conversions we'll need**"
   ]
  },
  {
   "cell_type": "code",
   "execution_count": 35,
   "metadata": {
    "collapsed": false
   },
   "outputs": [
    {
     "data": {
      "text/html": [
       "10000.0 meter/megayear"
      ],
      "text/latex": [
       "$10000.0 \\frac{meter}{megayear}$"
      ],
      "text/plain": [
       "<Quantity(10000.0, 'meter / megayear')>"
      ]
     },
     "execution_count": 35,
     "metadata": {},
     "output_type": "execute_result"
    }
   ],
   "source": [
    "u = pint.UnitRegistry()\n",
    "cmpery = 1.*u.cm/u.year\n",
    "mpermy = 1.*u.m/u.megayear\n",
    "year = 1.*u.year\n",
    "spery = year.to(u.sec)\n",
    "cmpery.to(mpermy)"
   ]
  },
  {
   "cell_type": "code",
   "execution_count": 36,
   "metadata": {
    "collapsed": false
   },
   "outputs": [
    {
     "name": "stdout",
     "output_type": "stream",
     "text": [
      "(0.04, 1.2675505856327397e-11)\n"
     ]
    }
   ],
   "source": [
    "box_half_width =4000e3\n",
    "age_at_trench = 100e6\n",
    "cmperyear = box_half_width / age_at_trench #m/y\n",
    "mpersec = cmperyear*(cmpery.to(u.m/u.second)).magnitude #m/sec\n",
    "print(cmperyear, mpersec )"
   ]
  },
  {
   "cell_type": "markdown",
   "metadata": {},
   "source": [
    "**Set parameter dictionaries**\n",
    "\n",
    "* Parameters are stored in dictionaries. \n",
    "* If starting from checkpoint, parameters are loaded using pickle\n",
    "* If params are passed in as flags to the script, they overwrite "
   ]
  },
  {
   "cell_type": "code",
   "execution_count": 37,
   "metadata": {
    "collapsed": true
   },
   "outputs": [],
   "source": [
    "###########\n",
    "#Parameter / settings dictionaries get saved&loaded using pickle\n",
    "###########\n",
    " \n",
    "dp = edict({}) #dimensional parameters\n",
    "sf = edict({}) #scaling factors\n",
    "ndp = edict({}) #dimensionless paramters\n",
    "md = edict({}) #model paramters, flags etc\n",
    "#od = edict({}) #output frequencies\n"
   ]
  },
  {
   "cell_type": "code",
   "execution_count": 38,
   "metadata": {
    "collapsed": true
   },
   "outputs": [],
   "source": [
    "dict_list = [dp, sf, ndp, md]\n",
    "dict_names = ['dp.pkl', 'sf.pkl', 'ndp.pkl', 'md.pkl']\n",
    "\n",
    "def save_pickles(dict_list, dict_names, dictPath):\n",
    "    import pickle\n",
    "    counter = 0\n",
    "    for pdict in dict_list:\n",
    "        myfile = os.path.join(dictPath, dict_names[counter])\n",
    "        with open(myfile, 'wb') as f:\n",
    "            pickle.dump(pdict, f)\n",
    "        counter+=1\n",
    "\n",
    "\n",
    "#ended up having to pretty much write a hard-coded function\n",
    "#All dictionaries we want checkpointed will have to  be added here \n",
    "#and where the function is called\n",
    "#Fortunately, this function is only called ONCE\n",
    "\n",
    "def load_pickles():\n",
    "    import pickle\n",
    "    dirpath = os.path.join(checkpointPath, str(step))\n",
    "    dpfile = open(os.path.join(dirpath, 'dp.pkl'), 'r')\n",
    "    dp = pickle.load(dpfile)\n",
    "#    #\n",
    "    ndpfile = open(os.path.join(dirpath, 'ndp.pkl'), 'r')\n",
    "    ndp = edict(pickle.load(ndpfile))\n",
    "    #\n",
    "    sffile = open(os.path.join(dirpath, 'sf.pkl'), 'r')\n",
    "    sf = edict(pickle.load(sffile))\n",
    "    #\n",
    "    mdfile = open(os.path.join(dirpath, 'md.pkl'), 'r')\n",
    "    md = edict(pickle.load(mdfile))\n",
    "    return dp, ndp, sf, md"
   ]
  },
  {
   "cell_type": "code",
   "execution_count": 39,
   "metadata": {
    "collapsed": false
   },
   "outputs": [],
   "source": [
    "###########\n",
    "#Store the physical parameters, scale factors and dimensionless pramters in easyDicts\n",
    "#Mainly helps with avoiding overwriting variables\n",
    "###########\n",
    "\n",
    "\n",
    "#Style => parameters_like_this\n",
    "\n",
    "dp = edict({#Main physical paramters\n",
    "           'depth':2000e3, #Depth\n",
    "           'LS':2900.*1e3, #Length scale\n",
    "           'rho':3300.,  #reference density\n",
    "           'g':9.8, #surface gravity\n",
    "           'eta0':1e20, #Dislocation creep at 250 km, 1573 K, 1e-15 s-1 \n",
    "           'k':1e-6, #thermal diffusivity\n",
    "           'a':3e-5, #surface thermal expansivity\n",
    "           'R':8.314, #gas constant\n",
    "           'Cp':1250., #Specific heat (Jkg-1K-1)\n",
    "           'TP':1573., #mantle potential temp (K)\n",
    "           'TS':273., #surface temp (K)\n",
    "            #Rheology - flow law paramters\n",
    "           'cm':2e6, #mantle cohesion in Byerlee law\n",
    "           'cc':2e6, #crust cohesion in Byerlee law\n",
    "           'fcm':0.2,   #mantle friction coefficient in Byerlee law (tan(phi))\n",
    "           'fcc':0.02,   #crust friction coefficient \n",
    "           'Adf':3e-11, #pre-exp factor for diffusion creep\n",
    "           'Ads':5e-16, #pre-exp factor for dislocation creep\n",
    "           'Apr':1e-150,#pre-exp factor for Peierls creep\n",
    "           #'Apr':1e-145,#pre-exp factor for Peierls creep\n",
    "           'Edf':3e5,\n",
    "           'Eds':5.4e5,\n",
    "           'Epr':5.4e5,\n",
    "           'Vdf':4e-6,\n",
    "           'Vds':12e-6,\n",
    "           'Vpr':10e-6,\n",
    "           'Alm':2e-17,\n",
    "           'Elm':2.0e5,\n",
    "           'Vlm':1.5e-6,\n",
    "           'SR':1e-15, #reference strain rate\n",
    "           'n':3.5, #Dislocation creep stress exponent\n",
    "           'np':20., #Peierls creep stress exponent \n",
    "           #Rheology - cutoff values\n",
    "           'eta_min':1e18, \n",
    "           'eta_max':1e25, #viscosity max in the mantle material\n",
    "           'eta_min_crust':1e18, #viscosity min in the weak-crust material\n",
    "           'eta_max_crust':1e20, #viscosity max in the weak-crust material\n",
    "           'ysMax':10000*1e6, #10 GPa\n",
    "           #Length scales\n",
    "           'MANTLETOCRUST':8.*1e3, #Crust depth\n",
    "           'HARZBURGDEPTH':40e3,\n",
    "           'CRUSTTOMANTLE':800.*1e3,\n",
    "           'LITHTOMANTLE':(900.*1e3),\n",
    "           'MANTLETOLITH':200.*1e3, \n",
    "           'TOPOHEIGHT':10.*1e3,  #rock-air topography limits\n",
    "           'CRUSTTOECL':100.*1e3,\n",
    "           'LOWMANTLEDEPTH':660.*1e3, \n",
    "           'CRUSTVISCUTOFF':250.*1e3, #Deeper than this, crust material rheology reverts to mantle rheology\n",
    "           'AGETRACKDEPTH':100e3, #above this depth we track the age of the lithsphere (below age is assumed zero)\n",
    "           #Slab and plate parameters\n",
    "           'roc':250e3,     #radius of curvature of slab\n",
    "           'subzone':0.0,   #X position of subduction zone...km\n",
    "           'lRidge':-1.*(5000e3),  #For depth = 670 km, aspect ratio of 4, this puts the ridges at MINX, MAXX\n",
    "           'rRidge':(5000e3),\n",
    "           'maxDepth':200e3,\n",
    "           'theta':70., #Angle to truncate the slab (can also control with a maxDepth param)\n",
    "           'slabmaxAge':100e6, #age of subduction plate at trench\n",
    "           'platemaxAge':100e6, #max age of slab (Plate model)\n",
    "           'opmaxAge':100e6, #age of op\n",
    "           'sense':'Right', #dip direction\n",
    "           #'op_age_fac':0.2, #this controls the overidding plate age reduction\n",
    "           #Misc\n",
    "           'rDepth':250e3, #reference depth (used to scale / normalize the flow laws)\n",
    "           'StALS':100e3, #depth of sticky air layer\n",
    "           'Steta_n':1e19, #stick air viscosity, normal\n",
    "           'Steta_s':1e18, #stick air viscosity, shear \n",
    "           'plate_vel':4,\n",
    "           'low_mantle_visc_fac':1.\n",
    "             })\n",
    "\n",
    "#append any derived parameters to the dictionary\n",
    "#Adiabatic heating stuff\n",
    "\n",
    "#dp.dTa = (dp.a*dp.g*(dp.TP))/dp.Cp #adibatic gradient, at Tp\n",
    "dp.dTa = 0.0005 #adiabatic gradient, upper mantle value used in Garel et al. \n",
    "dp.deltaTa = (dp.TP + dp.dTa*dp.LS) - dp.TS  #Adiabatic Temp at base of mantle, minus Ts\n",
    "\n",
    "dp.rTemp= dp.TP + dp.rDepth*dp.dTa #reference temp, (potential temp + adiabat)\n"
   ]
  },
  {
   "cell_type": "code",
   "execution_count": 40,
   "metadata": {
    "collapsed": false
   },
   "outputs": [],
   "source": [
    "#Modelling and Physics switches\n",
    "\n",
    "md = edict({'refineMesh':False,\n",
    "            'stickyAir':False,\n",
    "            'subductionFault':False,\n",
    "            'symmetricIcs':False,\n",
    "            'velBcs':False,\n",
    "            'aspectRatio':5., # (aspect ratio of 6.897, i.e preserves width when half mantle depth is used\n",
    "            'compBuoyancy':False, #use compositional & phase buoyancy, or simply thermal\n",
    "            'periodicBcs':False,\n",
    "            'RES':192,\n",
    "            'PIC_integration':True,\n",
    "            'ppc':50,\n",
    "            'elementType':\"Q1/dQ0\",\n",
    "            #'elementType':\"Q2/DPC1\",\n",
    "            'compBuoyancy':False, #use compositional & phase buoyancy, or simply thermal\n",
    "            'viscMechs':['diffusion', 'dislocation', 'peierls', 'yielding'],\n",
    "            'viscCombine':'harmonic', #'harmonic', 'min', 'mixed'....\n",
    "            'secInvFac':math.sqrt(1.),\n",
    "            'courantFac':0.5 #extra limitation on timestepping\n",
    "            })"
   ]
  },
  {
   "cell_type": "code",
   "execution_count": 41,
   "metadata": {
    "collapsed": true
   },
   "outputs": [],
   "source": [
    "###########\n",
    "#If starting from a checkpoint load params from file\n",
    "###########\n",
    "\n",
    "if checkpointLoad:\n",
    "    dp, ndp, sf, md = load_pickles()  #remember to add any extra dictionaries"
   ]
  },
  {
   "cell_type": "code",
   "execution_count": 42,
   "metadata": {
    "collapsed": true
   },
   "outputs": [],
   "source": [
    "###########\n",
    "#If command line args are given, overwrite\n",
    "#Note that this assumes that params as commans line args/\n",
    "#only append to the 'dimensional' and 'model' dictionary (not the non-dimensional)\n",
    "###########    \n",
    "\n",
    "\n",
    "###########\n",
    "#If extra arguments are provided to the script\" eg:\n",
    "### >>> uw.py 2 dp.arg1=1 dp.arg2=foo dp.arg3=3.0\n",
    "###\n",
    "###This would assign ModNum = 2, all other values go into the dp dictionary, under key names provided\n",
    "###\n",
    "###Two operators are searched for, = & *=\n",
    "###\n",
    "###If =, parameter is re-assigned to givn value\n",
    "###If *=, parameter is multipled by given value\n",
    "###\n",
    "### >>> uw.py 2 dp.arg1=1 dp.arg2=foo dp.arg3*=3.0\n",
    "###########\n",
    "\n",
    "for farg in sys.argv[1:]:\n",
    "    try:\n",
    "        (dicitem,val) = farg.split(\"=\") #Split on equals operator\n",
    "        (dic,arg) = dicitem.split(\".\") #colon notation\n",
    "        if '*=' in farg:\n",
    "            (dicitem,val) = farg.split(\"*=\") #If in-place multiplication, split on '*='\n",
    "            (dic,arg) = dicitem.split(\".\")\n",
    "            \n",
    "        if val == 'True': \n",
    "            val = True\n",
    "        elif val == 'False':     #First check if args are boolean\n",
    "            val = False\n",
    "        else:\n",
    "            try:\n",
    "                val = float(val) #next try to convert  to a float,\n",
    "            except ValueError:\n",
    "                pass             #otherwise leave as string\n",
    "        #Update the dictionary\n",
    "        if farg.startswith('dp'):\n",
    "            if '*=' in farg:\n",
    "                dp[arg] = dp[arg]*val #multiply parameter by given factor\n",
    "            else:\n",
    "                dp[arg] = val    #or reassign parameter by given value\n",
    "        if farg.startswith('md'):\n",
    "            if '*=' in farg:\n",
    "                md[arg] = md[arg]*val #multiply parameter by given factor\n",
    "            else:\n",
    "                md[arg] = val    #or reassign parameter by given value\n",
    "                \n",
    "    except:\n",
    "        pass\n",
    "            \n",
    "\n",
    "comm.barrier()"
   ]
  },
  {
   "cell_type": "code",
   "execution_count": 43,
   "metadata": {
    "collapsed": false
   },
   "outputs": [
    {
     "data": {
      "text/plain": [
       "2750.0"
      ]
     },
     "execution_count": 43,
     "metadata": {},
     "output_type": "execute_result"
    }
   ],
   "source": [
    "dp.deltaTa"
   ]
  },
  {
   "cell_type": "code",
   "execution_count": 44,
   "metadata": {
    "collapsed": false
   },
   "outputs": [],
   "source": [
    "if not checkpointLoad:\n",
    "    \n",
    "    #Scaling factors, used to map the dimensional parameters to dimensionless\n",
    "    \n",
    "    sf = edict({'stress':dp.LS**2/(dp.k*dp.eta0),\n",
    "            'lith_grad':dp.rho*dp.g*(dp.LS)**3/(dp.eta0*dp.k) ,\n",
    "            'vel':dp.LS/dp.k,\n",
    "            'SR':dp.LS**2/dp.k,\n",
    "            'W':(dp.rho*dp.g*dp.LS)/(dp.R*dp.deltaTa), #Including adiabatic compression, and deltaTa\n",
    "            'E': 1./(dp.R*dp.deltaTa), #using deltaTa, the guesstimated adiabatic temp differnnce to scale these paramters\n",
    "            'Ads':1./((dp.eta0**(-1.*dp.n))*(dp.k**(1. - dp.n))*(dp.LS**(-2.+ (2.*dp.n)))),\n",
    "            'Adf':dp.eta0,\n",
    "            'Apr':2.6845783276046923e+40 #same form as Ads, but ndp.np =20. (hardcoded because numbers are too big)\n",
    "                \n",
    "\n",
    "           })\n",
    "    \n",
    "     #dimensionless parameters\n",
    "    ndp = edict({'RA':(dp.g*dp.rho*dp.a*dp.deltaTa*(dp.LS)**3)/(dp.k*dp.eta0),\n",
    "             'depth':dp.depth/dp.LS,\n",
    "             'Di': dp.a*dp.g*dp.LS/dp.Cp, #Dissipation number\n",
    "             'H':0.,\n",
    "             #Temperatures and reference depth\n",
    "             'TSP':0., #dimensionless potential temp\n",
    "             'TPP':(dp.TP - dp.TS)/dp.deltaTa, #dimensionless potential temp\n",
    "             'TS':dp.TS/dp.deltaTa,\n",
    "             'TP':dp.TP/dp.deltaTa,\n",
    "             'rTemp':(dp.rTemp- dp.TS)/dp.deltaTa,\n",
    "             'rDepth':dp.rDepth/dp.LS,\n",
    "              #Rheology - flow law paramters  \n",
    "             'Ads':dp.Ads*sf.Ads,\n",
    "             'Adf':dp.Adf*sf.Adf,\n",
    "             'Apr':dp.Apr*sf.Apr,\n",
    "             'Alm':dp.Alm*sf.Adf,\n",
    "             'Wdf':dp.Vdf*sf.W,\n",
    "             'Edf':dp.Edf*sf.E,\n",
    "             'Wps':dp.Vpr*sf.W,\n",
    "             'Eps':dp.Epr*sf.E,\n",
    "             'Wds':dp.Vds*sf.W,      #{df  => diffusion creep}\n",
    "             'Eds':dp.Eds*sf.E,      #{ds  => dislocation creep}\n",
    "             'Elm':dp.Elm*sf.E,      #{pr  => Peierls creep}\n",
    "             'Elm':dp.Elm*sf.E,\n",
    "             'Wlm':dp.Vlm*sf.W,\n",
    "             'cm':dp.cm*sf.stress,\n",
    "             'cc':dp.cc*sf.stress,    #{dimensionless cohesion in mantl, crust, interface}\n",
    "             'fcmd':dp.fcm*sf.lith_grad, \n",
    "             'fccd':dp.fcc*sf.lith_grad, #{dimensionless friction coefficient in mantle, crust, interface}\n",
    "             'n':dp.n, #Dislocation creep stress exponent\n",
    "             'np':dp.np, #Peierls creep stress exponent \n",
    "             #Rheology - cutoff values\n",
    "             'eta_min':dp.eta_min/dp.eta0, \n",
    "             'eta_max':dp.eta_max/dp.eta0, #viscosity max in the mantle material\n",
    "             'eta_min_crust':dp.eta_min_crust/dp.eta0, #viscosity min in the weak-crust material\n",
    "             'eta_max_crust':dp.eta_max_crust/dp.eta0, #viscosity max in the weak-crust material\n",
    "             'ysMax':dp.ysMax*sf.stress,\n",
    "             #Lengths scales\n",
    "             'MANTLETOCRUST':dp.MANTLETOCRUST/dp.LS, #Crust depth\n",
    "             'HARZBURGDEPTH':dp.HARZBURGDEPTH/dp.LS,\n",
    "             'CRUSTTOMANTLE':dp.CRUSTTOMANTLE/dp.LS,\n",
    "             'LITHTOMANTLE':dp.LITHTOMANTLE/dp.LS,\n",
    "             'MANTLETOLITH':dp.MANTLETOLITH/dp.LS,\n",
    "             'TOPOHEIGHT':dp.TOPOHEIGHT/dp.LS,  #rock-air topography limits\n",
    "             'CRUSTTOECL':dp.CRUSTTOECL/dp.LS,\n",
    "             'LOWMANTLEDEPTH':dp.LOWMANTLEDEPTH/dp.LS, \n",
    "             'CRUSTVISCUTOFF':dp.CRUSTVISCUTOFF/dp.LS, #Deeper than this, crust material rheology reverts to mantle rheology\n",
    "             'AGETRACKDEPTH':dp.AGETRACKDEPTH/dp.LS,\n",
    "             #Slab and plate parameters\n",
    "             'roc':dp.roc/dp.LS,         #radius of curvature of slab\n",
    "             'subzone':dp.subzone/dp.LS, #X position of subduction zone...km\n",
    "             'lRidge':dp.lRidge/dp.LS,   #For depth = 670 km, aspect ratio of 4, this puts the ridges at MINX, MAXX\n",
    "             'rRidge':dp.rRidge/dp.LS,\n",
    "             'maxDepth':dp.maxDepth/dp.LS,\n",
    "             #Misc\n",
    "             'Steta_n':dp.Steta_n/dp.eta0, #stick air viscosity, normal\n",
    "             'Steta_s':dp.Steta_n/dp.eta0, #stick air viscosity, shear \n",
    "             'StALS':dp.StALS/dp.LS,\n",
    "             'plate_vel':sf.vel*dp.plate_vel*(cmpery.to(u.m/u.second)).magnitude,\n",
    "             'low_mantle_visc_fac':dp.low_mantle_visc_fac\n",
    "            })\n",
    "\n",
    "    #Append any more derived paramters\n",
    "    ndp.SR = dp.SR*sf.SR #characteristic strain rate\n",
    "    ndp.StRA = (3300.*dp.g*(dp.LS)**3)/(dp.eta0 *dp.k) #Composisitional Rayleigh number for rock-air buoyancy force\n",
    "    ndp.TaP = 1. - ndp.TPP,  #Dimensionles adiabtic component of deltaT"
   ]
  },
  {
   "cell_type": "code",
   "execution_count": 45,
   "metadata": {
    "collapsed": false
   },
   "outputs": [
    {
     "data": {
      "text/plain": [
       "(3000000000.0, 2000.0000000000002)"
      ]
     },
     "execution_count": 45,
     "metadata": {},
     "output_type": "execute_result"
    }
   ],
   "source": [
    "ndp.Adf, ndp.Alm"
   ]
  },
  {
   "cell_type": "markdown",
   "metadata": {},
   "source": [
    "### Output Frequency"
   ]
  },
  {
   "cell_type": "code",
   "execution_count": 46,
   "metadata": {
    "collapsed": true
   },
   "outputs": [],
   "source": [
    "#Metric output stuff\n",
    "figures =  'store' #glucifer Store won't work on all machines, if not, set to 'gldb' \n",
    "\n",
    "#The following are step-based actions\n",
    "swarm_repop, swarm_update = 5, 10\n",
    "checkpoint_every = 100\n",
    "metric_output = 10\n",
    "sticky_air_temp = 1e6\n",
    "\n",
    "\n",
    "#The following are time-based actions\n",
    "files_freq  = 1e6*(3600.*365.*24.)/sf.SR  #applies to files and gldbs"
   ]
  },
  {
   "cell_type": "markdown",
   "metadata": {},
   "source": [
    "### Model/ mesh  setup parameters"
   ]
  },
  {
   "cell_type": "code",
   "execution_count": 47,
   "metadata": {
    "collapsed": false
   },
   "outputs": [],
   "source": [
    "###########\n",
    "#Model setup parameters\n",
    "###########\n",
    "\n",
    "dim = 2          # number of spatial dimensions\n",
    "\n",
    "\n",
    "#Domain and Mesh paramters\n",
    "Xres = int(md.RES*8)   #more than twice the resolution in X-dim, which will be 'corrected' by the refinement we'll use in Y\n",
    "\n",
    "\n",
    "\n",
    "MINY = 1. - (ndp.depth)\n",
    "if md.stickyAir:\n",
    "    Yres = int(md.RES)\n",
    "    MAXY = 1. + dp.StALS/dp.LS #150km\n",
    "    \n",
    "else:\n",
    "    Yres = int(md.RES)\n",
    "    MAXY = 1.\n",
    "\n",
    "\n",
    "periodic = [False, False]\n",
    "if md.periodicBcs:\n",
    "    periodic = [True, False]\n",
    "    \n",
    "    \n",
    "half_width = np.round(0.5*(ndp.depth)*md.aspectRatio, 1)\n",
    "MINX = -1.*half_width\n",
    "\n",
    "MAXX = half_width\n",
    "MAXY = 1.\n",
    "\n",
    "\n",
    "\n"
   ]
  },
  {
   "cell_type": "code",
   "execution_count": 48,
   "metadata": {
    "collapsed": false
   },
   "outputs": [],
   "source": [
    "mesh = uw.mesh.FeMesh_Cartesian( elementType = (md.elementType),\n",
    "                                 elementRes  = (Xres, Yres), \n",
    "                                 minCoord    = (MINX, MINY), \n",
    "                                 maxCoord    = (MAXX, MAXY), periodic=periodic)\n",
    "\n",
    "\n",
    "\n",
    "\n",
    "\n",
    "velocityField       = uw.mesh.MeshVariable( mesh=mesh,         nodeDofCount=2 )\n",
    "pressureField       = uw.mesh.MeshVariable( mesh=mesh.subMesh, nodeDofCount=1 )\n",
    "temperatureField    = uw.mesh.MeshVariable( mesh=mesh,         nodeDofCount=1 )\n",
    "temperatureDotField = uw.mesh.MeshVariable( mesh=mesh,         nodeDofCount=1 )\n",
    "\n",
    "\n",
    "velocityField.data[:]       = [0.,0.]\n",
    "pressureField.data[:]       = 0.\n",
    "temperatureDotField.data[:] = 0."
   ]
  },
  {
   "cell_type": "code",
   "execution_count": 49,
   "metadata": {
    "collapsed": true
   },
   "outputs": [],
   "source": [
    "coordinate = fn.input()\n",
    "depthFn = 1. - coordinate[1] #a function providing the depth\n",
    "xFn = coordinate[0]  #a function providing the x-coordinate\n",
    "yFn = coordinate[1]  #a function providing the y-coordinate\n"
   ]
  },
  {
   "cell_type": "code",
   "execution_count": 50,
   "metadata": {
    "collapsed": false
   },
   "outputs": [],
   "source": [
    "mesh.reset()\n",
    "\n",
    "jWalls = mesh.specialSets[\"MinJ_VertexSet\"] + mesh.specialSets[\"MaxJ_VertexSet\"]\n",
    "yFn = coordinate[1]\n",
    "yField = uw.mesh.MeshVariable( mesh=mesh, nodeDofCount=1 )\n",
    "yField.data[:] = 0.\n",
    "yBC = uw.conditions.DirichletCondition( variable=yField, indexSetsPerDof=(jWalls,) )\n",
    "\n",
    "# set bottom wall temperature bc\n",
    "for index in mesh.specialSets[\"MinJ_VertexSet\"]:\n",
    "    yField.data[index] = mesh.minCoord[1]\n",
    "# set top wall temperature bc\n",
    "for index in mesh.specialSets[\"MaxJ_VertexSet\"]:\n",
    "    yField.data[index] = mesh.maxCoord[1]\n",
    "    \n",
    "    \n",
    "    \n",
    "s = 3.5\n",
    "intensityFac = 2.5\n",
    "intensityFn = (((yFn - MINY)/(MAXY-MINY))**s)\n",
    "intensityFn *= intensityFac\n",
    "intensityFn += 1.\n",
    "\n",
    "\n",
    "yLaplaceEquation = uw.systems.SteadyStateHeat(temperatureField=yField, fn_diffusivity=intensityFn, conditions=[yBC,])\n",
    "\n",
    "# get the default heat equation solver\n",
    "yLaplaceSolver = uw.systems.Solver(yLaplaceEquation)\n",
    "# solve\n",
    "yLaplaceSolver.solve()\n",
    "\n",
    "\n",
    "#Get the array of Y positions - copy may be necessary, not sure. \n",
    "newYpos = yField.data.copy() \n",
    "\n",
    "uw.barrier()\n",
    "with mesh.deform_mesh():\n",
    "     mesh.data[:,1] = newYpos[:,0]\n"
   ]
  },
  {
   "cell_type": "code",
   "execution_count": 51,
   "metadata": {
    "collapsed": false
   },
   "outputs": [],
   "source": [
    "#fig= glucifer.Figure(quality=3)\n",
    "\n",
    "#fig.append( glucifer.objects.Surface(mesh,intensityFn, discrete=True))\n",
    "#fig.append( glucifer.objects.Mesh(mesh))\n",
    "#fig.show()\n",
    "#fig.save_database('test.gldb')\n"
   ]
  },
  {
   "cell_type": "code",
   "execution_count": 52,
   "metadata": {
    "collapsed": false
   },
   "outputs": [],
   "source": [
    "#THis is a hack for adding a sticky air domain, we refine MAXY and things like the temperature stencil work from Y = 1. \n",
    "\n",
    "if md.stickyAir:\n",
    "    MAXY = 1."
   ]
  },
  {
   "cell_type": "code",
   "execution_count": 64,
   "metadata": {
    "collapsed": false
   },
   "outputs": [],
   "source": [
    "velocityField.load('velocityField_3.hdf5')"
   ]
  },
  {
   "cell_type": "code",
   "execution_count": 65,
   "metadata": {
    "collapsed": false
   },
   "outputs": [
    {
     "data": {
      "text/plain": [
       "49.762397094372609"
      ]
     },
     "execution_count": 65,
     "metadata": {},
     "output_type": "execute_result"
    }
   ],
   "source": [
    "tWalls = mesh.specialSets[\"MaxJ_VertexSet\"]\n",
    "\n",
    "(velocityField[0].evaluate(tWalls).max()/(2900.*1e3/1e-6))*(1e2*3600*24*365)"
   ]
  },
  {
   "cell_type": "code",
   "execution_count": 66,
   "metadata": {
    "collapsed": false
   },
   "outputs": [],
   "source": [
    "fullpath = os.path.join('./')\n",
    "_mH = mesh.save(fullpath+\"mesh.h5\") \n",
    "mh = _mH\n",
    "vH = velocityField.save(fullpath + \"velocity_\" + str(step) +\".h5\")\n",
    "velocityField.xdmf(fullpath + \"temp_\" + str(step), vH, 'velocity', mh, 'mesh')\n"
   ]
  },
  {
   "cell_type": "code",
   "execution_count": null,
   "metadata": {
    "collapsed": true
   },
   "outputs": [],
   "source": []
  }
 ],
 "metadata": {
  "kernelspec": {
   "display_name": "Python 2",
   "language": "python",
   "name": "python2"
  },
  "language_info": {
   "codemirror_mode": {
    "name": "ipython",
    "version": 2
   },
   "file_extension": ".py",
   "mimetype": "text/x-python",
   "name": "python",
   "nbconvert_exporter": "python",
   "pygments_lexer": "ipython2",
   "version": "2.7.9"
  },
  "widgets": {
   "state": {},
   "version": "1.1.2"
  }
 },
 "nbformat": 4,
 "nbformat_minor": 0
}
