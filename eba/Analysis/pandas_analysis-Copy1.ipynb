{
 "cells": [
  {
   "cell_type": "code",
   "execution_count": 2,
   "metadata": {
    "collapsed": false
   },
   "outputs": [],
   "source": [
    "#!pip install natsort\n",
    "#!pip install seaborn\n",
    "#!pip install glob2\n",
    "#!pip install xarray"
   ]
  },
  {
   "cell_type": "code",
   "execution_count": null,
   "metadata": {
    "collapsed": true
   },
   "outputs": [],
   "source": []
  },
  {
   "cell_type": "code",
   "execution_count": 3,
   "metadata": {
    "collapsed": false
   },
   "outputs": [
    {
     "name": "stdout",
     "output_type": "stream",
     "text": [
      "Populating the interactive namespace from numpy and matplotlib\n"
     ]
    }
   ],
   "source": [
    "import pandas as pd\n",
    "%pylab inline\n",
    "import seaborn as sns\n",
    "import glob2\n",
    "#Trying to work out a safety for natsort\n",
    "from types import ModuleType\n",
    "from natsort import natsort as ns\n",
    "if isinstance(ns, ModuleType):\n",
    "    natsort = ns.natsorted\n",
    "else:\n",
    "    nasort = ns"
   ]
  },
  {
   "cell_type": "code",
   "execution_count": 4,
   "metadata": {
    "collapsed": false
   },
   "outputs": [
    {
     "name": "stdout",
     "output_type": "stream",
     "text": [
      "Untitled.ipynb  pandas_analysis-Copy1.ipynb\r\n"
     ]
    }
   ],
   "source": [
    "ls"
   ]
  },
  {
   "cell_type": "markdown",
   "metadata": {
    "collapsed": true
   },
   "source": [
    "## A"
   ]
  },
  {
   "cell_type": "code",
   "execution_count": 5,
   "metadata": {
    "collapsed": false
   },
   "outputs": [
    {
     "data": {
      "text/plain": [
       "11"
      ]
     },
     "execution_count": 5,
     "metadata": {},
     "output_type": "execute_result"
    }
   ],
   "source": [
    "#rdir = '/workspace'\n",
    "rdir = '../'\n",
    "\n",
    "dat_files = natsort(glob2.glob(rdir + '/results/A/**/*.dat'))\n",
    "\n",
    "\n",
    "len(dat_files)\n",
    "#dat_files"
   ]
  },
  {
   "cell_type": "code",
   "execution_count": 6,
   "metadata": {
    "collapsed": true
   },
   "outputs": [],
   "source": [
    "columns2 = ['areaintRock', 'tempintRock', 'rmsintRock', 'dwintRock', 'vdintRock', \n",
    "            'areaintLith', 'tempintLith','rmsintLith', 'dwintLith', 'vdintLith',\n",
    "            'areaintLower', 'tempintLower', 'rmsintLower', 'dwintLower', 'vdintLower', \n",
    "            'areaintHinge180', 'vdintHinge180', 'areaintHinge60', 'vdintHinge60', \n",
    "            'areaintInterface', 'vdintInterface', 'vdintInterface0',\n",
    "            'rmsSurf', 'nuTop', 'nuBottom', 'plateness', 'subzone',\n",
    "            'lRidge', 'rRidge', 'realtime']"
   ]
  },
  {
   "cell_type": "code",
   "execution_count": 7,
   "metadata": {
    "collapsed": true
   },
   "outputs": [],
   "source": [
    "columns3 = ['areaintRock', 'tempintRock', 'rmsintRock', 'dwintRock', 'vdintRock', \n",
    "            'areaintLith', 'tempintLith','rmsintLith', 'dwintLith', 'vdintLith',\n",
    "            'areaintLower', 'tempintLower', 'rmsintLower', 'dwintLower', 'vdintLower', \n",
    "            'areaintHinge180', 'vdintHinge180', 'areaintHinge60', 'vdintHinge60', \n",
    "            'areaintInterface', 'vdintInterface', 'vdintInterface0',\n",
    "            \n",
    "            'minVel','maxVel', 'minVxsurf', 'maxVxsurf', 'surfLength', \n",
    "            'rmsSurf', 'nuTop', 'nuBottom', 'plateness', 'subzone',\n",
    "            'lRidge', 'rRidge', 'realtime']\n"
   ]
  },
  {
   "cell_type": "code",
   "execution_count": 8,
   "metadata": {
    "collapsed": false
   },
   "outputs": [
    {
     "data": {
      "text/plain": [
       "['..//results/A/1/checkpoint/1/results_modelA_1.dat',\n",
       " '..//results/A/1/results_modelA_1.dat',\n",
       " '..//results/A/2/results_modelA_2.dat',\n",
       " '..//results/A/3/results_modelA_3.dat',\n",
       " '..//results/A/4/results_modelA_4.dat',\n",
       " '..//results/A/5/results_modelA_5.dat',\n",
       " '..//results/A/6/results_modelA_6.dat',\n",
       " '..//results/A/7/results_modelA_7.dat',\n",
       " '..//results/A/8/results_modelA_8.dat',\n",
       " '..//results/A/9/results_modelA_9.dat',\n",
       " '..//results/A/10/results_modelA_10.dat']"
      ]
     },
     "execution_count": 8,
     "metadata": {},
     "output_type": "execute_result"
    }
   ],
   "source": [
    "dat_files"
   ]
  },
  {
   "cell_type": "code",
   "execution_count": 9,
   "metadata": {
    "collapsed": false
   },
   "outputs": [],
   "source": [
    "#df = pd.read_csv(dat_files[0], sep=\"\\s*\", header=None,  index_col=False)\n",
    "#df.columns = columns3 \n",
    "#df"
   ]
  },
  {
   "cell_type": "code",
   "execution_count": 10,
   "metadata": {
    "collapsed": false
   },
   "outputs": [
    {
     "name": "stdout",
     "output_type": "stream",
     "text": [
      "..//results/A/1/checkpoint/1/results_modelA_1.dat\n",
      "..//results/A/1/results_modelA_1.dat\n",
      "..//results/A/2/results_modelA_2.dat\n",
      "..//results/A/3/results_modelA_3.dat\n",
      "..//results/A/4/results_modelA_4.dat\n",
      "..//results/A/5/results_modelA_5.dat\n",
      "..//results/A/6/results_modelA_6.dat\n",
      "..//results/A/7/results_modelA_7.dat\n",
      "..//results/A/8/results_modelA_8.dat\n",
      "..//results/A/9/results_modelA_9.dat\n"
     ]
    },
    {
     "name": "stderr",
     "output_type": "stream",
     "text": [
      "/usr/local/lib/python2.7/dist-packages/ipykernel/__main__.py:11: ParserWarning: Falling back to the 'python' engine because the 'c' engine does not support regex separators (separators > 1 char and different from '\\s+' are interpreted as regex); you can avoid this warning by specifying engine='python'.\n"
     ]
    }
   ],
   "source": [
    "data = []\n",
    "realtime = []\n",
    "gooddata = []\n",
    "area = []\n",
    "col = 'rmsSurfScaled'\n",
    "\n",
    "for i in dat_files[:-1]:\n",
    "    print(i)\n",
    "    \n",
    "    try:\n",
    "        df = pd.read_csv(i, sep=\"\\s*\", header=None,  index_col=False)\n",
    "        df.columns = columns2 \n",
    "        df['rmsSurfScaled'] = (df['rmsSurf']/(2900.*1e3/1e-6))*(1e2*3600*24*365)\n",
    "        df['realtimeScaled'] = (df['realtime']*((2900.*1e3)**2/1e-6))/(1e6*3600*24*365)\n",
    "        realtime.append(df['realtimeScaled'])\n",
    "        area.append(df['areaintRock'])\n",
    "        data.append(df[col])\n",
    "        gooddata.append(i)\n",
    "        #print(i)\n",
    "    except:\n",
    "        pass\n",
    "    #    data.append(['NaN']*30)\n",
    "    #pd.concat(newdf, df.mean())\n",
    "    #print(df.mean())\n",
    "    #newdf.loc[i] = df.max()\n",
    "\n",
    "data = np.array(data)\n",
    "realtime = np.array(realtime)"
   ]
  },
  {
   "cell_type": "code",
   "execution_count": 11,
   "metadata": {
    "collapsed": false
   },
   "outputs": [],
   "source": [
    "#data"
   ]
  },
  {
   "cell_type": "code",
   "execution_count": 12,
   "metadata": {
    "collapsed": false
   },
   "outputs": [
    {
     "name": "stderr",
     "output_type": "stream",
     "text": [
      "/usr/local/lib/python2.7/dist-packages/ipykernel/__main__.py:15: ParserWarning: Falling back to the 'python' engine because the 'c' engine does not support regex separators (separators > 1 char and different from '\\s+' are interpreted as regex); you can avoid this warning by specifying engine='python'.\n",
      "/usr/local/lib/python2.7/dist-packages/ipykernel/__main__.py:16: ParserWarning: Falling back to the 'python' engine because the 'c' engine does not support regex separators (separators > 1 char and different from '\\s+' are interpreted as regex); you can avoid this warning by specifying engine='python'.\n",
      "/usr/local/lib/python2.7/dist-packages/ipykernel/__main__.py:17: ParserWarning: Falling back to the 'python' engine because the 'c' engine does not support regex separators (separators > 1 char and different from '\\s+' are interpreted as regex); you can avoid this warning by specifying engine='python'.\n",
      "/usr/local/lib/python2.7/dist-packages/ipykernel/__main__.py:18: ParserWarning: Falling back to the 'python' engine because the 'c' engine does not support regex separators (separators > 1 char and different from '\\s+' are interpreted as regex); you can avoid this warning by specifying engine='python'.\n",
      "/usr/local/lib/python2.7/dist-packages/ipykernel/__main__.py:19: ParserWarning: Falling back to the 'python' engine because the 'c' engine does not support regex separators (separators > 1 char and different from '\\s+' are interpreted as regex); you can avoid this warning by specifying engine='python'.\n",
      "/usr/local/lib/python2.7/dist-packages/ipykernel/__main__.py:20: ParserWarning: Falling back to the 'python' engine because the 'c' engine does not support regex separators (separators > 1 char and different from '\\s+' are interpreted as regex); you can avoid this warning by specifying engine='python'.\n"
     ]
    }
   ],
   "source": [
    "\n",
    "\n",
    "\n",
    "columns3 = ['areaintRock', 'tempintRock', 'rmsintRock', 'dwintRock', 'vdintRock', \n",
    "            'areaintLith', 'tempintLith','rmsintLith', 'dwintLith', 'vdintLith',\n",
    "            'areaintLower', 'tempintLower', 'rmsintLower', 'dwintLower', 'vdintLower', \n",
    "            'areaintHinge180', 'vdintHinge180', 'areaintHinge60', 'vdintHinge60', \n",
    "            'areaintInterface', 'vdintInterface', 'vdintInterface0',\n",
    "            \n",
    "            'minVel','maxVel', 'minVxsurf', 'maxVxsurf', 'surfLength', \n",
    "            'rmsSurf', 'nuTop', 'nuBottom', 'plateness', 'subzone',\n",
    "            'lRidge', 'rRidge', 'realtime']\n",
    "\n",
    "#df = pd.read_csv(dat_files[4], sep=\"\\s*\", header=None,  index_col=False)\n",
    "df5 = pd.read_csv('../results/A/5/results_modelA_5.dat', sep=\"\\s*\", header=None,  index_col=False)\n",
    "df6 = pd.read_csv('../results/A/6/results_modelA_6.dat', sep=\"\\s*\", header=None,  index_col=False)\n",
    "df7 = pd.read_csv('../results/A/7/results_modelA_7.dat', sep=\"\\s*\", header=None,  index_col=False)\n",
    "df8= pd.read_csv('../results/A/8/results_modelA_8.dat', sep=\"\\s*\", header=None,  index_col=False)\n",
    "df9= pd.read_csv('../results/A/9/results_modelA_9.dat', sep=\"\\s*\", header=None,  index_col=False)\n",
    "df10= pd.read_csv('../results/A/10/results_modelA_10.dat', sep=\"\\s*\", header=None,  index_col=False)\n",
    "\n",
    "\n",
    "\n",
    "df5.columns = columns3\n",
    "df6.columns = columns3\n",
    "df7.columns = columns3\n",
    "df8.columns = columns3\n",
    "df9.columns = columns3\n",
    "df10.columns = columns3\n",
    "\n",
    "#df['rmsSurfScaled'] = (df['rmsSurf']/(2900.*1e3/1e-6))*(1e2*3600*24*365)\n",
    "\n",
    "df5['realtimeScaled'] = (df5['realtime']*((2900.*1e3)**2/1e-6))/(1e6*3600*24*365)\n",
    "df6['realtimeScaled'] = (df6['realtime']*((2900.*1e3)**2/1e-6))/(1e6*3600*24*365)\n",
    "df7['realtimeScaled'] = (df7['realtime']*((2900.*1e3)**2/1e-6))/(1e6*3600*24*365)\n",
    "df8['realtimeScaled'] = (df8['realtime']*((2900.*1e3)**2/1e-6))/(1e6*3600*24*365)\n",
    "df9['realtimeScaled'] = (df9['realtime']*((2900.*1e3)**2/1e-6))/(1e6*3600*24*365)\n",
    "df10['realtimeScaled'] = (df10['realtime']*((2900.*1e3)**2/1e-6))/(1e6*3600*24*365)\n",
    "\n",
    "\n"
   ]
  },
  {
   "cell_type": "code",
   "execution_count": 14,
   "metadata": {
    "collapsed": false
   },
   "outputs": [
    {
     "data": {
      "text/plain": [
       "(0, 15)"
      ]
     },
     "execution_count": 14,
     "metadata": {},
     "output_type": "execute_result"
    },
    {
     "data": {
      "image/png": "[encoded data removed]",
      "text/plain": [
       "<matplotlib.figure.Figure at 0x7f7771e68710>"
      ]
     },
     "metadata": {},
     "output_type": "display_data"
    }
   ],
   "source": [
    "fig, ax = plt.subplots()\n",
    "\n",
    "ax.plot(df5['realtimeScaled'] , (df5['rmsSurf']/df5['surfLength']/(2900.*1e3/1e-6))*(1e2*3600*24*365), marker='o' )\n",
    "ax.plot(df6['realtimeScaled'] , (df6['rmsSurf']/df6['surfLength']/(2900.*1e3/1e-6))*(1e2*3600*24*365), marker='o' , c='r')\n",
    "ax.plot(df7['realtimeScaled'] , (df7['rmsSurf']/df7['surfLength']/(2900.*1e3/1e-6))*(1e2*3600*24*365), marker='o' , c='g')\n",
    "ax.plot(df8['realtimeScaled'] , (df8['rmsSurf']/df8['surfLength']/(2900.*1e3/1e-6))*(1e2*3600*24*365), marker='o' , c='c')\n",
    "ax.plot(df9['realtimeScaled'] , (df9['rmsSurf']/df9['surfLength']/(2900.*1e3/1e-6))*(1e2*3600*24*365), marker='o' , c='b')\n",
    "ax.plot(df10['realtimeScaled'] , (df10['rmsSurf']/df10['surfLength']/(2900.*1e3/1e-6))*(1e2*3600*24*365), marker='o' , c='y')\n",
    "\n",
    "\n",
    "ax.set_xlim(0, 15)"
   ]
  },
  {
   "cell_type": "code",
   "execution_count": 13,
   "metadata": {
    "collapsed": false
   },
   "outputs": [
    {
     "data": {
      "text/plain": [
       "Index([u'areaintRock', u'tempintRock', u'rmsintRock', u'dwintRock',\n",
       "       u'vdintRock', u'areaintLith', u'tempintLith', u'rmsintLith',\n",
       "       u'dwintLith', u'vdintLith', u'areaintLower', u'tempintLower',\n",
       "       u'rmsintLower', u'dwintLower', u'vdintLower', u'areaintHinge180',\n",
       "       u'vdintHinge180', u'areaintHinge60', u'vdintHinge60',\n",
       "       u'areaintInterface', u'vdintInterface', u'vdintInterface0', u'minVel',\n",
       "       u'maxVel', u'minVxsurf', u'maxVxsurf', u'surfLength', u'rmsSurf',\n",
       "       u'nuTop', u'nuBottom', u'plateness', u'subzone', u'lRidge', u'rRidge',\n",
       "       u'realtime', u'realtimeScaled'],\n",
       "      dtype='object')"
      ]
     },
     "execution_count": 13,
     "metadata": {},
     "output_type": "execute_result"
    }
   ],
   "source": [
    "df5.columns"
   ]
  },
  {
   "cell_type": "code",
   "execution_count": null,
   "metadata": {
    "collapsed": true
   },
   "outputs": [],
   "source": []
  }
 ],
 "metadata": {
  "kernelspec": {
   "display_name": "Python 2",
   "language": "python",
   "name": "python2"
  },
  "language_info": {
   "codemirror_mode": {
    "name": "ipython",
    "version": 2
   },
   "file_extension": ".py",
   "mimetype": "text/x-python",
   "name": "python",
   "nbconvert_exporter": "python",
   "pygments_lexer": "ipython2",
   "version": "2.7.9"
  },
  "widgets": {
   "state": {},
   "version": "1.1.2"
  }
 },
 "nbformat": 4,
 "nbformat_minor": 0
}
