{
 "cells": [
  {
   "cell_type": "code",
   "execution_count": 13,
   "metadata": {
    "collapsed": false
   },
   "outputs": [],
   "source": [
    "#!pip install natsort\n",
    "#!pip install seaborn\n",
    "#!pip install glob2\n",
    "#!pip install xarray"
   ]
  },
  {
   "cell_type": "code",
   "execution_count": null,
   "metadata": {
    "collapsed": true
   },
   "outputs": [],
   "source": []
  },
  {
   "cell_type": "code",
   "execution_count": 14,
   "metadata": {
    "collapsed": false
   },
   "outputs": [
    {
     "name": "stdout",
     "output_type": "stream",
     "text": [
      "Populating the interactive namespace from numpy and matplotlib\n"
     ]
    }
   ],
   "source": [
    "import pandas as pd\n",
    "%pylab inline\n",
    "import seaborn as sns\n",
    "import glob2\n",
    "#Trying to work out a safety for natsort\n",
    "from types import ModuleType\n",
    "from natsort import natsort as ns\n",
    "if isinstance(ns, ModuleType):\n",
    "    natsort = ns.natsorted\n",
    "else:\n",
    "    nasort = ns"
   ]
  },
  {
   "cell_type": "code",
   "execution_count": 15,
   "metadata": {
    "collapsed": false
   },
   "outputs": [
    {
     "name": "stdout",
     "output_type": "stream",
     "text": [
      "Untitled.ipynb  pandas_analysis-Copy1.ipynb\r\n"
     ]
    }
   ],
   "source": [
    "ls"
   ]
  },
  {
   "cell_type": "markdown",
   "metadata": {
    "collapsed": true
   },
   "source": [
    "## A"
   ]
  },
  {
   "cell_type": "code",
   "execution_count": 16,
   "metadata": {
    "collapsed": false
   },
   "outputs": [
    {
     "data": {
      "text/plain": [
       "5"
      ]
     },
     "execution_count": 16,
     "metadata": {},
     "output_type": "execute_result"
    }
   ],
   "source": [
    "#rdir = '/workspace'\n",
    "rdir = '../'\n",
    "\n",
    "dat_files = natsort(glob2.glob(rdir + '/results/A/**/*.dat'))\n",
    "\n",
    "\n",
    "len(dat_files)\n",
    "#dat_files"
   ]
  },
  {
   "cell_type": "code",
   "execution_count": 17,
   "metadata": {
    "collapsed": true
   },
   "outputs": [],
   "source": [
    "columns2 = ['areaintRock', 'tempintRock', 'rmsintRock', 'dwintRock', 'vdintRock', \n",
    "            'areaintLith', 'tempintLith','rmsintLith', 'dwintLith', 'vdintLith',\n",
    "            'areaintLower', 'tempintLower', 'rmsintLower', 'dwintLower', 'vdintLower', \n",
    "            'areaintHinge180', 'vdintHinge180', 'areaintHinge60', 'vdintHinge60', \n",
    "            'areaintInterface', 'vdintInterface', 'vdintInterface0',\n",
    "            'rmsSurf', 'nuTop', 'nuBottom', 'plateness', 'subzone',\n",
    "            'lRidge', 'rRidge', 'realtime']"
   ]
  },
  {
   "cell_type": "code",
   "execution_count": 18,
   "metadata": {
    "collapsed": false
   },
   "outputs": [
    {
     "data": {
      "text/plain": [
       "['..//results/A/1/results_modelA_1.dat',\n",
       " '..//results/A/2/results_modelA_2.dat',\n",
       " '..//results/A/3/results_modelA_3.dat',\n",
       " '..//results/A/4/results_modelA_4.dat',\n",
       " '..//results/A/5/results_modelA_5.dat']"
      ]
     },
     "execution_count": 18,
     "metadata": {},
     "output_type": "execute_result"
    }
   ],
   "source": [
    "dat_files"
   ]
  },
  {
   "cell_type": "code",
   "execution_count": 19,
   "metadata": {
    "collapsed": false
   },
   "outputs": [
    {
     "name": "stderr",
     "output_type": "stream",
     "text": [
      "/usr/local/lib/python2.7/dist-packages/ipykernel/__main__.py:1: ParserWarning: Falling back to the 'python' engine because the 'c' engine does not support regex separators (separators > 1 char and different from '\\s+' are interpreted as regex); you can avoid this warning by specifying engine='python'.\n",
      "  if __name__ == '__main__':\n"
     ]
    },
    {
     "data": {
      "text/html": [
       "<div>\n",
       "<table border=\"1\" class=\"dataframe\">\n",
       "  <thead>\n",
       "    <tr style=\"text-align: right;\">\n",
       "      <th></th>\n",
       "      <th>areaintRock</th>\n",
       "      <th>tempintRock</th>\n",
       "      <th>rmsintRock</th>\n",
       "      <th>dwintRock</th>\n",
       "      <th>vdintRock</th>\n",
       "      <th>areaintLith</th>\n",
       "      <th>tempintLith</th>\n",
       "      <th>rmsintLith</th>\n",
       "      <th>dwintLith</th>\n",
       "      <th>vdintLith</th>\n",
       "      <th>...</th>\n",
       "      <th>vdintInterface</th>\n",
       "      <th>vdintInterface0</th>\n",
       "      <th>rmsSurf</th>\n",
       "      <th>nuTop</th>\n",
       "      <th>nuBottom</th>\n",
       "      <th>plateness</th>\n",
       "      <th>subzone</th>\n",
       "      <th>lRidge</th>\n",
       "      <th>rRidge</th>\n",
       "      <th>realtime</th>\n",
       "    </tr>\n",
       "  </thead>\n",
       "  <tbody>\n",
       "    <tr>\n",
       "      <th>0</th>\n",
       "      <td>2.344828</td>\n",
       "      <td>1.516951</td>\n",
       "      <td>648.292283</td>\n",
       "      <td>3.308838</td>\n",
       "      <td>1.950222e+09</td>\n",
       "      <td>0.072437</td>\n",
       "      <td>0.017768</td>\n",
       "      <td>157.037191</td>\n",
       "      <td>-2.524265</td>\n",
       "      <td>9.641004e+08</td>\n",
       "      <td>...</td>\n",
       "      <td>3.330938e+07</td>\n",
       "      <td>3.330938e+07</td>\n",
       "      <td>7422.135961</td>\n",
       "      <td>-130.915982</td>\n",
       "      <td>-1.329167</td>\n",
       "      <td>3.061328</td>\n",
       "      <td>0.013281</td>\n",
       "      <td>-1.697786</td>\n",
       "      <td>1.697786</td>\n",
       "      <td>0.000003</td>\n",
       "    </tr>\n",
       "    <tr>\n",
       "      <th>1</th>\n",
       "      <td>2.344828</td>\n",
       "      <td>1.516587</td>\n",
       "      <td>857.602171</td>\n",
       "      <td>4.799446</td>\n",
       "      <td>2.898236e+09</td>\n",
       "      <td>0.073711</td>\n",
       "      <td>0.018092</td>\n",
       "      <td>218.746658</td>\n",
       "      <td>-4.136820</td>\n",
       "      <td>1.260920e+09</td>\n",
       "      <td>...</td>\n",
       "      <td>5.333427e+07</td>\n",
       "      <td>5.333427e+07</td>\n",
       "      <td>9344.478929</td>\n",
       "      <td>-125.218169</td>\n",
       "      <td>-1.061323</td>\n",
       "      <td>3.076823</td>\n",
       "      <td>0.000000</td>\n",
       "      <td>-1.697786</td>\n",
       "      <td>1.697786</td>\n",
       "      <td>0.000006</td>\n",
       "    </tr>\n",
       "    <tr>\n",
       "      <th>2</th>\n",
       "      <td>2.344828</td>\n",
       "      <td>1.516319</td>\n",
       "      <td>1202.585040</td>\n",
       "      <td>6.948310</td>\n",
       "      <td>4.453471e+09</td>\n",
       "      <td>0.074624</td>\n",
       "      <td>0.018327</td>\n",
       "      <td>327.865451</td>\n",
       "      <td>-6.469376</td>\n",
       "      <td>1.729640e+09</td>\n",
       "      <td>...</td>\n",
       "      <td>1.224169e+08</td>\n",
       "      <td>1.224169e+08</td>\n",
       "      <td>13351.020946</td>\n",
       "      <td>-122.976267</td>\n",
       "      <td>-0.923711</td>\n",
       "      <td>3.028125</td>\n",
       "      <td>-0.006641</td>\n",
       "      <td>-1.695573</td>\n",
       "      <td>1.695573</td>\n",
       "      <td>0.000008</td>\n",
       "    </tr>\n",
       "    <tr>\n",
       "      <th>3</th>\n",
       "      <td>2.344828</td>\n",
       "      <td>1.516134</td>\n",
       "      <td>1522.125541</td>\n",
       "      <td>10.916118</td>\n",
       "      <td>6.307536e+09</td>\n",
       "      <td>0.075292</td>\n",
       "      <td>0.018510</td>\n",
       "      <td>434.399214</td>\n",
       "      <td>-9.349145</td>\n",
       "      <td>2.277128e+09</td>\n",
       "      <td>...</td>\n",
       "      <td>2.080761e+08</td>\n",
       "      <td>2.080761e+08</td>\n",
       "      <td>16667.768205</td>\n",
       "      <td>-122.298249</td>\n",
       "      <td>-0.850234</td>\n",
       "      <td>2.986068</td>\n",
       "      <td>0.002214</td>\n",
       "      <td>-1.697786</td>\n",
       "      <td>1.695573</td>\n",
       "      <td>0.000009</td>\n",
       "    </tr>\n",
       "    <tr>\n",
       "      <th>4</th>\n",
       "      <td>2.344828</td>\n",
       "      <td>1.516002</td>\n",
       "      <td>1819.975517</td>\n",
       "      <td>13.424260</td>\n",
       "      <td>8.091257e+09</td>\n",
       "      <td>0.075752</td>\n",
       "      <td>0.018638</td>\n",
       "      <td>533.622179</td>\n",
       "      <td>-11.891891</td>\n",
       "      <td>2.886528e+09</td>\n",
       "      <td>...</td>\n",
       "      <td>2.334278e+08</td>\n",
       "      <td>2.334278e+08</td>\n",
       "      <td>20091.266504</td>\n",
       "      <td>-122.240165</td>\n",
       "      <td>-0.806264</td>\n",
       "      <td>2.944010</td>\n",
       "      <td>0.000000</td>\n",
       "      <td>-1.697786</td>\n",
       "      <td>1.695573</td>\n",
       "      <td>0.000010</td>\n",
       "    </tr>\n",
       "    <tr>\n",
       "      <th>5</th>\n",
       "      <td>2.344828</td>\n",
       "      <td>1.515892</td>\n",
       "      <td>2165.616621</td>\n",
       "      <td>17.569459</td>\n",
       "      <td>1.029365e+10</td>\n",
       "      <td>0.076131</td>\n",
       "      <td>0.018745</td>\n",
       "      <td>645.120178</td>\n",
       "      <td>-15.277845</td>\n",
       "      <td>3.537903e+09</td>\n",
       "      <td>...</td>\n",
       "      <td>3.273615e+08</td>\n",
       "      <td>3.273615e+08</td>\n",
       "      <td>24087.756390</td>\n",
       "      <td>-122.487782</td>\n",
       "      <td>-0.774062</td>\n",
       "      <td>2.957292</td>\n",
       "      <td>-0.015495</td>\n",
       "      <td>-1.697786</td>\n",
       "      <td>1.695573</td>\n",
       "      <td>0.000011</td>\n",
       "    </tr>\n",
       "    <tr>\n",
       "      <th>6</th>\n",
       "      <td>2.344828</td>\n",
       "      <td>1.515795</td>\n",
       "      <td>2480.070990</td>\n",
       "      <td>21.233203</td>\n",
       "      <td>1.277777e+10</td>\n",
       "      <td>0.076443</td>\n",
       "      <td>0.018834</td>\n",
       "      <td>743.323249</td>\n",
       "      <td>-18.917404</td>\n",
       "      <td>4.497654e+09</td>\n",
       "      <td>...</td>\n",
       "      <td>4.286423e+08</td>\n",
       "      <td>4.286423e+08</td>\n",
       "      <td>27585.941797</td>\n",
       "      <td>-123.028027</td>\n",
       "      <td>-0.749008</td>\n",
       "      <td>2.928516</td>\n",
       "      <td>-0.002214</td>\n",
       "      <td>-1.697786</td>\n",
       "      <td>1.695573</td>\n",
       "      <td>0.000012</td>\n",
       "    </tr>\n",
       "    <tr>\n",
       "      <th>7</th>\n",
       "      <td>2.344828</td>\n",
       "      <td>1.515708</td>\n",
       "      <td>2852.492646</td>\n",
       "      <td>26.661627</td>\n",
       "      <td>1.636385e+10</td>\n",
       "      <td>0.076714</td>\n",
       "      <td>0.018914</td>\n",
       "      <td>857.635057</td>\n",
       "      <td>-23.991251</td>\n",
       "      <td>5.850400e+09</td>\n",
       "      <td>...</td>\n",
       "      <td>4.660280e+08</td>\n",
       "      <td>4.660280e+08</td>\n",
       "      <td>31425.326694</td>\n",
       "      <td>-123.734659</td>\n",
       "      <td>-0.728803</td>\n",
       "      <td>2.906380</td>\n",
       "      <td>-0.004427</td>\n",
       "      <td>-1.697786</td>\n",
       "      <td>1.695573</td>\n",
       "      <td>0.000012</td>\n",
       "    </tr>\n",
       "    <tr>\n",
       "      <th>8</th>\n",
       "      <td>2.344828</td>\n",
       "      <td>1.515634</td>\n",
       "      <td>3433.559101</td>\n",
       "      <td>35.378919</td>\n",
       "      <td>2.181160e+10</td>\n",
       "      <td>0.076925</td>\n",
       "      <td>0.018978</td>\n",
       "      <td>1036.985795</td>\n",
       "      <td>-31.678821</td>\n",
       "      <td>7.417314e+09</td>\n",
       "      <td>...</td>\n",
       "      <td>5.113640e+08</td>\n",
       "      <td>5.113640e+08</td>\n",
       "      <td>37604.163117</td>\n",
       "      <td>-124.665540</td>\n",
       "      <td>-0.713326</td>\n",
       "      <td>2.839974</td>\n",
       "      <td>-0.015495</td>\n",
       "      <td>-1.697786</td>\n",
       "      <td>1.695573</td>\n",
       "      <td>0.000013</td>\n",
       "    </tr>\n",
       "    <tr>\n",
       "      <th>9</th>\n",
       "      <td>2.344828</td>\n",
       "      <td>1.515569</td>\n",
       "      <td>3768.127958</td>\n",
       "      <td>41.902937</td>\n",
       "      <td>2.562917e+10</td>\n",
       "      <td>0.077117</td>\n",
       "      <td>0.019040</td>\n",
       "      <td>1138.598188</td>\n",
       "      <td>-37.377301</td>\n",
       "      <td>8.299672e+09</td>\n",
       "      <td>...</td>\n",
       "      <td>4.910992e+08</td>\n",
       "      <td>4.910992e+08</td>\n",
       "      <td>40675.660823</td>\n",
       "      <td>-125.679214</td>\n",
       "      <td>-0.700855</td>\n",
       "      <td>2.827308</td>\n",
       "      <td>-0.013281</td>\n",
       "      <td>-1.697786</td>\n",
       "      <td>1.695573</td>\n",
       "      <td>0.000013</td>\n",
       "    </tr>\n",
       "    <tr>\n",
       "      <th>10</th>\n",
       "      <td>2.344828</td>\n",
       "      <td>1.515507</td>\n",
       "      <td>4074.847015</td>\n",
       "      <td>48.507924</td>\n",
       "      <td>2.933106e+10</td>\n",
       "      <td>0.077276</td>\n",
       "      <td>0.019093</td>\n",
       "      <td>1232.370874</td>\n",
       "      <td>-42.857466</td>\n",
       "      <td>8.735564e+09</td>\n",
       "      <td>...</td>\n",
       "      <td>5.419994e+08</td>\n",
       "      <td>5.419994e+08</td>\n",
       "      <td>43380.210405</td>\n",
       "      <td>-126.689384</td>\n",
       "      <td>-0.690104</td>\n",
       "      <td>2.901953</td>\n",
       "      <td>-0.028776</td>\n",
       "      <td>-1.697786</td>\n",
       "      <td>1.695573</td>\n",
       "      <td>0.000014</td>\n",
       "    </tr>\n",
       "    <tr>\n",
       "      <th>11</th>\n",
       "      <td>2.344828</td>\n",
       "      <td>1.515448</td>\n",
       "      <td>3918.302254</td>\n",
       "      <td>49.381419</td>\n",
       "      <td>2.964133e+10</td>\n",
       "      <td>0.077428</td>\n",
       "      <td>0.019144</td>\n",
       "      <td>1183.987622</td>\n",
       "      <td>-43.554161</td>\n",
       "      <td>8.465071e+09</td>\n",
       "      <td>...</td>\n",
       "      <td>5.448665e+08</td>\n",
       "      <td>5.448665e+08</td>\n",
       "      <td>40488.514788</td>\n",
       "      <td>-127.541099</td>\n",
       "      <td>-0.680267</td>\n",
       "      <td>3.052474</td>\n",
       "      <td>-0.015495</td>\n",
       "      <td>-1.697786</td>\n",
       "      <td>1.695573</td>\n",
       "      <td>0.000014</td>\n",
       "    </tr>\n",
       "  </tbody>\n",
       "</table>\n",
       "<p>12 rows × 30 columns</p>\n",
       "</div>"
      ],
      "text/plain": [
       "    areaintRock  tempintRock   rmsintRock  dwintRock     vdintRock  \\\n",
       "0      2.344828     1.516951   648.292283   3.308838  1.950222e+09   \n",
       "1      2.344828     1.516587   857.602171   4.799446  2.898236e+09   \n",
       "2      2.344828     1.516319  1202.585040   6.948310  4.453471e+09   \n",
       "3      2.344828     1.516134  1522.125541  10.916118  6.307536e+09   \n",
       "4      2.344828     1.516002  1819.975517  13.424260  8.091257e+09   \n",
       "5      2.344828     1.515892  2165.616621  17.569459  1.029365e+10   \n",
       "6      2.344828     1.515795  2480.070990  21.233203  1.277777e+10   \n",
       "7      2.344828     1.515708  2852.492646  26.661627  1.636385e+10   \n",
       "8      2.344828     1.515634  3433.559101  35.378919  2.181160e+10   \n",
       "9      2.344828     1.515569  3768.127958  41.902937  2.562917e+10   \n",
       "10     2.344828     1.515507  4074.847015  48.507924  2.933106e+10   \n",
       "11     2.344828     1.515448  3918.302254  49.381419  2.964133e+10   \n",
       "\n",
       "    areaintLith  tempintLith   rmsintLith  dwintLith     vdintLith    ...     \\\n",
       "0      0.072437     0.017768   157.037191  -2.524265  9.641004e+08    ...      \n",
       "1      0.073711     0.018092   218.746658  -4.136820  1.260920e+09    ...      \n",
       "2      0.074624     0.018327   327.865451  -6.469376  1.729640e+09    ...      \n",
       "3      0.075292     0.018510   434.399214  -9.349145  2.277128e+09    ...      \n",
       "4      0.075752     0.018638   533.622179 -11.891891  2.886528e+09    ...      \n",
       "5      0.076131     0.018745   645.120178 -15.277845  3.537903e+09    ...      \n",
       "6      0.076443     0.018834   743.323249 -18.917404  4.497654e+09    ...      \n",
       "7      0.076714     0.018914   857.635057 -23.991251  5.850400e+09    ...      \n",
       "8      0.076925     0.018978  1036.985795 -31.678821  7.417314e+09    ...      \n",
       "9      0.077117     0.019040  1138.598188 -37.377301  8.299672e+09    ...      \n",
       "10     0.077276     0.019093  1232.370874 -42.857466  8.735564e+09    ...      \n",
       "11     0.077428     0.019144  1183.987622 -43.554161  8.465071e+09    ...      \n",
       "\n",
       "    vdintInterface  vdintInterface0       rmsSurf       nuTop  nuBottom  \\\n",
       "0     3.330938e+07     3.330938e+07   7422.135961 -130.915982 -1.329167   \n",
       "1     5.333427e+07     5.333427e+07   9344.478929 -125.218169 -1.061323   \n",
       "2     1.224169e+08     1.224169e+08  13351.020946 -122.976267 -0.923711   \n",
       "3     2.080761e+08     2.080761e+08  16667.768205 -122.298249 -0.850234   \n",
       "4     2.334278e+08     2.334278e+08  20091.266504 -122.240165 -0.806264   \n",
       "5     3.273615e+08     3.273615e+08  24087.756390 -122.487782 -0.774062   \n",
       "6     4.286423e+08     4.286423e+08  27585.941797 -123.028027 -0.749008   \n",
       "7     4.660280e+08     4.660280e+08  31425.326694 -123.734659 -0.728803   \n",
       "8     5.113640e+08     5.113640e+08  37604.163117 -124.665540 -0.713326   \n",
       "9     4.910992e+08     4.910992e+08  40675.660823 -125.679214 -0.700855   \n",
       "10    5.419994e+08     5.419994e+08  43380.210405 -126.689384 -0.690104   \n",
       "11    5.448665e+08     5.448665e+08  40488.514788 -127.541099 -0.680267   \n",
       "\n",
       "    plateness   subzone    lRidge    rRidge  realtime  \n",
       "0    3.061328  0.013281 -1.697786  1.697786  0.000003  \n",
       "1    3.076823  0.000000 -1.697786  1.697786  0.000006  \n",
       "2    3.028125 -0.006641 -1.695573  1.695573  0.000008  \n",
       "3    2.986068  0.002214 -1.697786  1.695573  0.000009  \n",
       "4    2.944010  0.000000 -1.697786  1.695573  0.000010  \n",
       "5    2.957292 -0.015495 -1.697786  1.695573  0.000011  \n",
       "6    2.928516 -0.002214 -1.697786  1.695573  0.000012  \n",
       "7    2.906380 -0.004427 -1.697786  1.695573  0.000012  \n",
       "8    2.839974 -0.015495 -1.697786  1.695573  0.000013  \n",
       "9    2.827308 -0.013281 -1.697786  1.695573  0.000013  \n",
       "10   2.901953 -0.028776 -1.697786  1.695573  0.000014  \n",
       "11   3.052474 -0.015495 -1.697786  1.695573  0.000014  \n",
       "\n",
       "[12 rows x 30 columns]"
      ]
     },
     "execution_count": 19,
     "metadata": {},
     "output_type": "execute_result"
    }
   ],
   "source": [
    "df = pd.read_csv(dat_files[0], sep=\"\\s*\", header=None,  index_col=False)\n",
    "df.columns = columns2 \n",
    "df"
   ]
  },
  {
   "cell_type": "code",
   "execution_count": 20,
   "metadata": {
    "collapsed": false
   },
   "outputs": [
    {
     "name": "stdout",
     "output_type": "stream",
     "text": [
      "..//results/A/1/results_modelA_1.dat\n",
      "..//results/A/2/results_modelA_2.dat\n",
      "..//results/A/3/results_modelA_3.dat\n",
      "..//results/A/4/results_modelA_4.dat\n"
     ]
    },
    {
     "name": "stderr",
     "output_type": "stream",
     "text": [
      "/usr/local/lib/python2.7/dist-packages/ipykernel/__main__.py:11: ParserWarning: Falling back to the 'python' engine because the 'c' engine does not support regex separators (separators > 1 char and different from '\\s+' are interpreted as regex); you can avoid this warning by specifying engine='python'.\n"
     ]
    }
   ],
   "source": [
    "data = []\n",
    "realtime = []\n",
    "gooddata = []\n",
    "area = []\n",
    "col = 'rmsSurfScaled'\n",
    "\n",
    "for i in dat_files[:-1]:\n",
    "    print(i)\n",
    "    \n",
    "    try:\n",
    "        df = pd.read_csv(i, sep=\"\\s*\", header=None,  index_col=False)\n",
    "        df.columns = columns2 \n",
    "        df['rmsSurfScaled'] = (df['rmsSurf']/(2900.*1e3/1e-6))*(1e2*3600*24*365)\n",
    "        df['realtimeScaled'] = (df['realtime']*((2900.*1e3)**2/1e-6))/(1e6*3600*24*365)\n",
    "        realtime.append(df['realtimeScaled'])\n",
    "        area.append(df['areaintRock'])\n",
    "        data.append(df[col])\n",
    "        gooddata.append(i)\n",
    "        #print(i)\n",
    "    except:\n",
    "        pass\n",
    "    #    data.append(['NaN']*30)\n",
    "    #pd.concat(newdf, df.mean())\n",
    "    #print(df.mean())\n",
    "    #newdf.loc[i] = df.max()\n",
    "\n",
    "data = np.array(data)\n",
    "realtime = np.array(realtime)"
   ]
  },
  {
   "cell_type": "code",
   "execution_count": 21,
   "metadata": {
    "collapsed": false
   },
   "outputs": [],
   "source": [
    "#data"
   ]
  },
  {
   "cell_type": "code",
   "execution_count": 22,
   "metadata": {
    "collapsed": false
   },
   "outputs": [
    {
     "name": "stderr",
     "output_type": "stream",
     "text": [
      "/usr/local/lib/python2.7/dist-packages/ipykernel/__main__.py:15: ParserWarning: Falling back to the 'python' engine because the 'c' engine does not support regex separators (separators > 1 char and different from '\\s+' are interpreted as regex); you can avoid this warning by specifying engine='python'.\n"
     ]
    }
   ],
   "source": [
    "\n",
    "\n",
    "\n",
    "columns3 = ['areaintRock', 'tempintRock', 'rmsintRock', 'dwintRock', 'vdintRock', \n",
    "            'areaintLith', 'tempintLith','rmsintLith', 'dwintLith', 'vdintLith',\n",
    "            'areaintLower', 'tempintLower', 'rmsintLower', 'dwintLower', 'vdintLower', \n",
    "            'areaintHinge180', 'vdintHinge180', 'areaintHinge60', 'vdintHinge60', \n",
    "            'areaintInterface', 'vdintInterface', 'vdintInterface0',\n",
    "            \n",
    "            'minVel','maxVel', 'minVxsurf', 'maxVxsurf', 'surfLength', \n",
    "            'rmsSurf', 'nuTop', 'nuBottom', 'plateness', 'subzone',\n",
    "            'lRidge', 'rRidge', 'realtime']\n",
    "\n",
    "#df = pd.read_csv(dat_files[4], sep=\"\\s*\", header=None,  index_col=False)\n",
    "df = pd.read_csv('../results/results_modelA_2.dat', sep=\"\\s*\", header=None,  index_col=False)\n",
    "\n",
    "df.columns = columns3\n",
    "\n",
    "df['rmsSurfScaled'] = (df['rmsSurf']/(2900.*1e3/1e-6))*(1e2*3600*24*365)\n",
    "df['realtimeScaled'] = (df['realtime']*((2900.*1e3)**2/1e-6))/(1e6*3600*24*365)"
   ]
  },
  {
   "cell_type": "code",
   "execution_count": 23,
   "metadata": {
    "collapsed": false,
    "scrolled": true
   },
   "outputs": [
    {
     "data": {
      "text/plain": [
       "<matplotlib.text.Text at 0x7fbaceadc090>"
      ]
     },
     "execution_count": 23,
     "metadata": {},
     "output_type": "execute_result"
    },
    {
     "data": {
      "image/png": "[encoded data removed]",
      "text/plain": [
       "<matplotlib.figure.Figure at 0x7fbacea8b590>"
      ]
     },
     "metadata": {},
     "output_type": "display_data"
    }
   ],
   "source": [
    "\n",
    "fig, ax = plt.subplots(figsize=(5,5))\n",
    "\n",
    "for i in range(0, realtime.shape[0]):\n",
    "    #c = inv_map[params[i][1]]\n",
    "    #if params[i][1] >= 1.:\n",
    "    ax.plot(realtime[i], data[i]/3.4,label=(str(i+1)) )\n",
    "\n",
    "plt.plot(df['realtimeScaled'] , df['rmsSurfScaled'] )\n",
    "    \n",
    "#ax.set_xlim(1., 200.)\n",
    "#ax.set_ylim(-0.7, 0.7)\n",
    "ax.legend(loc=2)\n",
    "#ax.set_title('hmm')\n",
    "#ax.set_ylabel('RMS surface velocity (cm/y)')\n",
    "ax.set_xlabel('age (ma)')\n",
    "#ax.set_xscale('log')\n",
    "#ax.set_yscale('log')\n",
    "#ax.axhline(1., c='k', ls='--')"
   ]
  },
  {
   "cell_type": "code",
   "execution_count": 24,
   "metadata": {
    "collapsed": false
   },
   "outputs": [
    {
     "data": {
      "text/plain": [
       "[<matplotlib.lines.Line2D at 0x7fbace610310>]"
      ]
     },
     "execution_count": 24,
     "metadata": {},
     "output_type": "execute_result"
    },
    {
     "data": {
      "image/png": "[encoded data removed]",
      "text/plain": [
       "<matplotlib.figure.Figure at 0x7fbaceaba350>"
      ]
     },
     "metadata": {},
     "output_type": "display_data"
    }
   ],
   "source": [
    "plt.plot(df['realtimeScaled'] , (df['maxVxsurf']/(2900.*1e3/1e-6))*(1e2*3600*24*365) )"
   ]
  },
  {
   "cell_type": "code",
   "execution_count": 25,
   "metadata": {
    "collapsed": false
   },
   "outputs": [
    {
     "data": {
      "text/plain": [
       "0     3.4\n",
       "1     3.4\n",
       "2     3.4\n",
       "3     3.4\n",
       "4     3.4\n",
       "5     3.4\n",
       "6     3.4\n",
       "7     3.4\n",
       "8     3.4\n",
       "9     3.4\n",
       "10    3.4\n",
       "11    3.4\n",
       "12    3.4\n",
       "13    3.4\n",
       "14    3.4\n",
       "15    3.4\n",
       "16    3.4\n",
       "17    3.4\n",
       "18    3.4\n",
       "19    3.4\n",
       "20    3.4\n",
       "21    3.4\n",
       "22    3.4\n",
       "23    3.4\n",
       "24    3.4\n",
       "25    3.4\n",
       "26    3.4\n",
       "27    3.4\n",
       "28    3.4\n",
       "29    3.4\n",
       "30    3.4\n",
       "31    3.4\n",
       "32    3.4\n",
       "33    3.4\n",
       "34    3.4\n",
       "35    3.4\n",
       "36    3.4\n",
       "37    3.4\n",
       "38    3.4\n",
       "39    3.4\n",
       "40    3.4\n",
       "41    3.4\n",
       "42    3.4\n",
       "Name: surfLength, dtype: float64"
      ]
     },
     "execution_count": 25,
     "metadata": {},
     "output_type": "execute_result"
    }
   ],
   "source": [
    "(df['surfLength'])"
   ]
  },
  {
   "cell_type": "code",
   "execution_count": 26,
   "metadata": {
    "collapsed": false
   },
   "outputs": [],
   "source": [
    "#df['maxVel']"
   ]
  },
  {
   "cell_type": "code",
   "execution_count": 27,
   "metadata": {
    "collapsed": false
   },
   "outputs": [
    {
     "data": {
      "text/plain": [
       "0     0.181514\n",
       "1     0.388579\n",
       "2     0.588025\n",
       "3     0.787289\n",
       "4     0.995542\n",
       "5     1.188286\n",
       "6     1.373493\n",
       "7     1.549015\n",
       "8     1.714099\n",
       "9     1.868187\n",
       "10    2.000000\n",
       "11    2.134019\n",
       "12    2.257502\n",
       "13    2.378653\n",
       "14    2.483803\n",
       "15    2.577837\n",
       "16    2.665804\n",
       "17    2.740083\n",
       "18    2.812469\n",
       "19    2.880404\n",
       "20    2.937276\n",
       "21    2.989183\n",
       "22    3.038081\n",
       "23    3.091367\n",
       "24    3.137709\n",
       "25    3.179444\n",
       "26    3.218369\n",
       "27    3.257064\n",
       "28    3.295477\n",
       "29    3.332341\n",
       "30    3.366610\n",
       "31    3.398812\n",
       "32    3.430673\n",
       "33    3.461504\n",
       "34    3.491744\n",
       "35    3.520944\n",
       "36    3.549728\n",
       "37    3.576233\n",
       "38    3.602023\n",
       "39    3.627970\n",
       "40    3.653951\n",
       "41    3.678927\n",
       "42    3.702561\n",
       "Name: realtimeScaled, dtype: float64"
      ]
     },
     "execution_count": 27,
     "metadata": {},
     "output_type": "execute_result"
    }
   ],
   "source": [
    "df['realtimeScaled'] "
   ]
  },
  {
   "cell_type": "code",
   "execution_count": null,
   "metadata": {
    "collapsed": true
   },
   "outputs": [],
   "source": []
  }
 ],
 "metadata": {
  "kernelspec": {
   "display_name": "Python 2",
   "language": "python",
   "name": "python2"
  },
  "language_info": {
   "codemirror_mode": {
    "name": "ipython",
    "version": 2
   },
   "file_extension": ".py",
   "mimetype": "text/x-python",
   "name": "python",
   "nbconvert_exporter": "python",
   "pygments_lexer": "ipython2",
   "version": "2.7.9"
  },
  "widgets": {
   "state": {},
   "version": "1.1.2"
  }
 },
 "nbformat": 4,
 "nbformat_minor": 0
}
