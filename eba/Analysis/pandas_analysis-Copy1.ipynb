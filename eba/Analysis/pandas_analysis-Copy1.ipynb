{
 "cells": [
  {
   "cell_type": "code",
   "execution_count": 21,
   "metadata": {
    "collapsed": false,
    "deletable": true,
    "editable": true
   },
   "outputs": [],
   "source": [
    "#!pip install natsort\n",
    "#!pip install seaborn\n",
    "#!pip install glob2\n",
    "#!pip install xarray"
   ]
  },
  {
   "cell_type": "code",
   "execution_count": null,
   "metadata": {
    "collapsed": true,
    "deletable": true,
    "editable": true
   },
   "outputs": [],
   "source": []
  },
  {
   "cell_type": "code",
   "execution_count": 22,
   "metadata": {
    "collapsed": false,
    "deletable": true,
    "editable": true
   },
   "outputs": [
    {
     "name": "stdout",
     "output_type": "stream",
     "text": [
      "Populating the interactive namespace from numpy and matplotlib\n"
     ]
    }
   ],
   "source": [
    "import pandas as pd\n",
    "%pylab inline\n",
    "import seaborn as sns\n",
    "import glob2\n",
    "#Trying to work out a safety for natsort\n",
    "from types import ModuleType\n",
    "from natsort import natsorted\n",
    "#if isinstance(ns, ModuleType):\n",
    "#    natsort = ns.natsorted\n",
    "#else:\n",
    "#    nasort = ns"
   ]
  },
  {
   "cell_type": "code",
   "execution_count": 25,
   "metadata": {
    "collapsed": false,
    "deletable": true,
    "editable": true
   },
   "outputs": [],
   "source": [
    "#natsort.natsort()"
   ]
  },
  {
   "cell_type": "markdown",
   "metadata": {
    "collapsed": true,
    "deletable": true,
    "editable": true
   },
   "source": [
    "## A"
   ]
  },
  {
   "cell_type": "code",
   "execution_count": 26,
   "metadata": {
    "collapsed": false,
    "deletable": true,
    "editable": true
   },
   "outputs": [
    {
     "data": {
      "text/plain": [
       "8"
      ]
     },
     "execution_count": 26,
     "metadata": {},
     "output_type": "execute_result"
    }
   ],
   "source": [
    "#rdir = '/workspace'\n",
    "rdir = '../'\n",
    "\n",
    "dat_filesA = natsorted(glob2.glob(rdir + 'results/A/**/*.dat'))\n",
    "\n",
    "dat_filesB = natsorted(glob2.glob(rdir + 'results/B/**/*.dat'))\n",
    "dat_filesC = natsorted(glob2.glob(rdir + 'results/C/**/*.dat'))\n",
    "dat_filesD = natsorted(glob2.glob(rdir + 'results/D/**/*.dat'))\n",
    "\n",
    "\n",
    "len(dat_filesB)\n"
   ]
  },
  {
   "cell_type": "code",
   "execution_count": 27,
   "metadata": {
    "collapsed": true,
    "deletable": true,
    "editable": true
   },
   "outputs": [],
   "source": [
    "columns2 = ['areaintRock', 'tempintRock', 'rmsintRock', 'dwintRock', 'vdintRock', \n",
    "            'areaintLith', 'tempintLith','rmsintLith', 'dwintLith', 'vdintLith',\n",
    "            'areaintLower', 'tempintLower', 'rmsintLower', 'dwintLower', 'vdintLower', \n",
    "            'areaintHinge180', 'vdintHinge180', 'areaintHinge60', 'vdintHinge60', \n",
    "            'areaintInterface', 'vdintInterface', 'vdintInterface0',\n",
    "            'rmsSurf', 'nuTop', 'nuBottom', 'plateness', 'subzone',\n",
    "            'lRidge', 'rRidge', 'realtime']"
   ]
  },
  {
   "cell_type": "code",
   "execution_count": 28,
   "metadata": {
    "collapsed": true,
    "deletable": true,
    "editable": true
   },
   "outputs": [],
   "source": [
    "columns3 = ['areaintRock', 'tempintRock', 'rmsintRock', 'dwintRock', 'vdintRock', \n",
    "            'areaintLith', 'tempintLith','rmsintLith', 'dwintLith', 'vdintLith',\n",
    "            'areaintLower', 'tempintLower', 'rmsintLower', 'dwintLower', 'vdintLower', \n",
    "            'areaintHinge180', 'vdintHinge180', 'areaintHinge60', 'vdintHinge60', \n",
    "            'areaintInterface', 'vdintInterface', 'vdintInterface0',\n",
    "            \n",
    "            'minVel','maxVel', 'minVxsurf', 'maxVxsurf', 'surfLength', \n",
    "            'rmsSurf', 'nuTop', 'nuBottom', 'plateness', 'subzone',\n",
    "            'lRidge', 'rRidge', 'realtime']\n"
   ]
  },
  {
   "cell_type": "code",
   "execution_count": 35,
   "metadata": {
    "collapsed": false,
    "deletable": true,
    "editable": true
   },
   "outputs": [
    {
     "data": {
      "text/plain": [
       "'../results/D/7/results_modelD_7.dat'"
      ]
     },
     "execution_count": 35,
     "metadata": {},
     "output_type": "execute_result"
    }
   ],
   "source": [
    "dat_filesD[6]"
   ]
  },
  {
   "cell_type": "code",
   "execution_count": 32,
   "metadata": {
    "collapsed": false,
    "deletable": true,
    "editable": true
   },
   "outputs": [
    {
     "name": "stderr",
     "output_type": "stream",
     "text": [
      "/usr/local/lib/python2.7/dist-packages/ipykernel/__main__.py:1: ParserWarning: Falling back to the 'python' engine because the 'c' engine does not support regex separators (separators > 1 char and different from '\\s+' are interpreted as regex); you can avoid this warning by specifying engine='python'.\n",
      "  if __name__ == '__main__':\n",
      "/usr/local/lib/python2.7/dist-packages/ipykernel/__main__.py:9: ParserWarning: Falling back to the 'python' engine because the 'c' engine does not support regex separators (separators > 1 char and different from '\\s+' are interpreted as regex); you can avoid this warning by specifying engine='python'.\n",
      "/usr/local/lib/python2.7/dist-packages/ipykernel/__main__.py:17: ParserWarning: Falling back to the 'python' engine because the 'c' engine does not support regex separators (separators > 1 char and different from '\\s+' are interpreted as regex); you can avoid this warning by specifying engine='python'.\n",
      "/usr/local/lib/python2.7/dist-packages/ipykernel/__main__.py:26: ParserWarning: Falling back to the 'python' engine because the 'c' engine does not support regex separators (separators > 1 char and different from '\\s+' are interpreted as regex); you can avoid this warning by specifying engine='python'.\n"
     ]
    }
   ],
   "source": [
    "dfA = pd.read_csv(dat_filesA[0], sep=\"\\s*\", header=None,  index_col=False)\n",
    "dfA.columns = columns3\n",
    "\n",
    "dfA['rmsSurfScaled'] = (dfA['rmsSurf']/(2900.*1e3/1e-6))*(1e2*3600*24*365)\n",
    "dfA['realtimeScaled'] = (dfA['realtime']*((2900.*1e3)**2/1e-6))/(1e6*3600*24*365)\n",
    "\n",
    "#\n",
    "\n",
    "dfC = pd.read_csv(dat_filesB[2], sep=\"\\s*\", header=None,  index_col=False)\n",
    "dfC.columns = columns3\n",
    "\n",
    "dfC['rmsSurfScaled'] = (dfC['rmsSurf']/(2900.*1e3/1e-6))*(1e2*3600*24*365)\n",
    "dfC['realtimeScaled'] = (dfC['realtime']*((2900.*1e3)**2/1e-6))/(1e6*3600*24*365)\n",
    "\n",
    "#\n",
    "\n",
    "dfB = pd.read_csv(dat_filesB[3], sep=\"\\s*\", header=None,  index_col=False)\n",
    "dfB.columns = columns3\n",
    "\n",
    "dfB['rmsSurfScaled'] = (dfB['rmsSurf']/(2900.*1e3/1e-6))*(1e2*3600*24*365)\n",
    "dfB['realtimeScaled'] = (dfB['realtime']*((2900.*1e3)**2/1e-6))/(1e6*3600*24*365)\n",
    "\n",
    "\n",
    "#\n",
    "\n",
    "dfD = pd.read_csv(dat_filesD[6], sep=\"\\s*\", header=None,  index_col=False)\n",
    "dfD.columns = columns3\n",
    "\n",
    "dfD['rmsSurfScaled'] = (dfD['rmsSurf']/(2900.*1e3/1e-6))*(1e2*3600*24*365)\n",
    "dfD['realtimeScaled'] = (dfD['realtime']*((2900.*1e3)**2/1e-6))/(1e6*3600*24*365)"
   ]
  },
  {
   "cell_type": "code",
   "execution_count": 34,
   "metadata": {
    "collapsed": false,
    "deletable": true,
    "editable": true
   },
   "outputs": [
    {
     "data": {
      "text/plain": [
       "(0, 20)"
      ]
     },
     "execution_count": 34,
     "metadata": {},
     "output_type": "execute_result"
    },
    {
     "data": {
      "image/png": "[encoded data removed]",
      "text/plain": [
       "<matplotlib.figure.Figure at 0x7f5296246250>"
      ]
     },
     "metadata": {},
     "output_type": "display_data"
    }
   ],
   "source": [
    "fig, ax = plt.subplots()\n",
    "\n",
    "ax.plot(dfA['realtimeScaled'] , (dfA['rmsSurf']/dfA['surfLength']/(2900.*1e3/1e-6))*(1e2*3600*24*365), c='r' )\n",
    "\n",
    "\n",
    "ax.plot(dfB['realtimeScaled'] , (dfB['rmsSurf']/dfB['surfLength']/(2900.*1e3/1e-6))*(1e2*3600*24*365), c='g' )\n",
    "\n",
    "ax.plot(dfC['realtimeScaled'] , (dfC['rmsSurf']/dfC['surfLength']/(2900.*1e3/1e-6))*(1e2*3600*24*365), c='b' )\n",
    "\n",
    "ax.plot(dfD['realtimeScaled'] , (dfD['rmsSurf']/dfD['surfLength']/(2900.*1e3/1e-6))*(1e2*3600*24*365), c='k' )\n",
    "\n",
    "\n",
    "\n",
    "ax.set_xlim(0, 20)"
   ]
  },
  {
   "cell_type": "code",
   "execution_count": 12,
   "metadata": {
    "collapsed": false,
    "deletable": true,
    "editable": true
   },
   "outputs": [],
   "source": [
    "#np.argmax(dfC['rmsSurf'])\n"
   ]
  },
  {
   "cell_type": "code",
   "execution_count": 13,
   "metadata": {
    "collapsed": true,
    "deletable": true,
    "editable": true
   },
   "outputs": [],
   "source": [
    "import h5py"
   ]
  },
  {
   "cell_type": "code",
   "execution_count": 14,
   "metadata": {
    "collapsed": true,
    "deletable": true,
    "editable": true
   },
   "outputs": [],
   "source": [
    "with h5py.File('../results/velxSurface_262.h5','r') as hf:\n",
    "    data = hf.get('data')\n",
    "    np_data = np.array(data)"
   ]
  },
  {
   "cell_type": "code",
   "execution_count": 15,
   "metadata": {
    "collapsed": false,
    "deletable": true,
    "editable": true
   },
   "outputs": [
    {
     "data": {
      "text/plain": [
       "[<matplotlib.lines.Line2D at 0x7f529a48ee50>]"
      ]
     },
     "execution_count": 15,
     "metadata": {},
     "output_type": "execute_result"
    },
    {
     "data": {
      "image/png": "[encoded data removed]",
      "text/plain": [
       "<matplotlib.figure.Figure at 0x7f529a508d90>"
      ]
     },
     "metadata": {},
     "output_type": "display_data"
    }
   ],
   "source": [
    "plt.plot((np_data/(2900.*1e3/1e-6)*(1e2*3600*24*365)))"
   ]
  },
  {
   "cell_type": "code",
   "execution_count": null,
   "metadata": {
    "collapsed": true,
    "deletable": true,
    "editable": true
   },
   "outputs": [],
   "source": []
  }
 ],
 "metadata": {
  "kernelspec": {
   "display_name": "Python 2",
   "language": "python",
   "name": "python2"
  },
  "language_info": {
   "codemirror_mode": {
    "name": "ipython",
    "version": 2
   },
   "file_extension": ".py",
   "mimetype": "text/x-python",
   "name": "python",
   "nbconvert_exporter": "python",
   "pygments_lexer": "ipython2",
   "version": "2.7.9"
  },
  "widgets": {
   "state": {},
   "version": "1.1.2"
  }
 },
 "nbformat": 4,
 "nbformat_minor": 0
}
