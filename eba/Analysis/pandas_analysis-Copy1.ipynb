{
 "cells": [
  {
   "cell_type": "code",
   "execution_count": 19,
   "metadata": {
    "collapsed": false
   },
   "outputs": [],
   "source": [
    "#!pip install natsort\n",
    "#!pip install seaborn\n",
    "#!pip install glob2\n",
    "#!pip install xarray"
   ]
  },
  {
   "cell_type": "code",
   "execution_count": null,
   "metadata": {
    "collapsed": true
   },
   "outputs": [],
   "source": []
  },
  {
   "cell_type": "code",
   "execution_count": 20,
   "metadata": {
    "collapsed": false
   },
   "outputs": [
    {
     "name": "stdout",
     "output_type": "stream",
     "text": [
      "Populating the interactive namespace from numpy and matplotlib\n"
     ]
    }
   ],
   "source": [
    "import pandas as pd\n",
    "%pylab inline\n",
    "import seaborn as sns\n",
    "import glob2\n",
    "#Trying to work out a safety for natsort\n",
    "from types import ModuleType\n",
    "from natsort import natsort as ns\n",
    "if isinstance(ns, ModuleType):\n",
    "    natsort = ns.natsorted\n",
    "else:\n",
    "    nasort = ns"
   ]
  },
  {
   "cell_type": "code",
   "execution_count": 21,
   "metadata": {
    "collapsed": false
   },
   "outputs": [
    {
     "name": "stdout",
     "output_type": "stream",
     "text": [
      "Untitled.ipynb  pandas_analysis-Copy1.ipynb\r\n"
     ]
    }
   ],
   "source": [
    "ls"
   ]
  },
  {
   "cell_type": "markdown",
   "metadata": {
    "collapsed": true
   },
   "source": [
    "## A"
   ]
  },
  {
   "cell_type": "code",
   "execution_count": 22,
   "metadata": {
    "collapsed": false
   },
   "outputs": [
    {
     "data": {
      "text/plain": [
       "5"
      ]
     },
     "execution_count": 22,
     "metadata": {},
     "output_type": "execute_result"
    }
   ],
   "source": [
    "#rdir = '/workspace'\n",
    "rdir = '../'\n",
    "\n",
    "dat_files = natsort(glob2.glob(rdir + '/results/A/**/*.dat'))\n",
    "\n",
    "\n",
    "len(dat_files)\n",
    "#dat_files"
   ]
  },
  {
   "cell_type": "code",
   "execution_count": 23,
   "metadata": {
    "collapsed": true
   },
   "outputs": [],
   "source": [
    "columns2 = ['areaintRock', 'tempintRock', 'rmsintRock', 'dwintRock', 'vdintRock', \n",
    "            'areaintLith', 'tempintLith','rmsintLith', 'dwintLith', 'vdintLith',\n",
    "            'areaintLower', 'tempintLower', 'rmsintLower', 'dwintLower', 'vdintLower', \n",
    "            'areaintHinge180', 'vdintHinge180', 'areaintHinge60', 'vdintHinge60', \n",
    "            'areaintInterface', 'vdintInterface', 'vdintInterface0',\n",
    "            'rmsSurf', 'nuTop', 'nuBottom', 'plateness', 'subzone',\n",
    "            'lRidge', 'rRidge', 'realtime']"
   ]
  },
  {
   "cell_type": "code",
   "execution_count": 24,
   "metadata": {
    "collapsed": false
   },
   "outputs": [
    {
     "data": {
      "text/plain": [
       "(['..//results/A/1/results_modelA_1.dat',\n",
       "  '..//results/A/2/results_modelA_2.dat',\n",
       "  '..//results/A/3/results_modelA_3.dat',\n",
       "  '..//results/A/4/results_modelA_4.dat',\n",
       "  '..//results/A/5/results_modelA_5.dat'],\n",
       " 30)"
      ]
     },
     "execution_count": 24,
     "metadata": {},
     "output_type": "execute_result"
    }
   ],
   "source": [
    "dat_files, len(columns2)"
   ]
  },
  {
   "cell_type": "code",
   "execution_count": null,
   "metadata": {
    "collapsed": true
   },
   "outputs": [],
   "source": []
  },
  {
   "cell_type": "code",
   "execution_count": 25,
   "metadata": {
    "collapsed": false
   },
   "outputs": [
    {
     "name": "stderr",
     "output_type": "stream",
     "text": [
      "/usr/local/lib/python2.7/dist-packages/ipykernel/__main__.py:10: ParserWarning: Falling back to the 'python' engine because the 'c' engine does not support regex separators (separators > 1 char and different from '\\s+' are interpreted as regex); you can avoid this warning by specifying engine='python'.\n"
     ]
    }
   ],
   "source": [
    "data = []\n",
    "realtime = []\n",
    "gooddata = []\n",
    "area = []\n",
    "col = 'rmsSurfScaled'\n",
    "\n",
    "for i in range(len(dat_files)):\n",
    "    \n",
    "    try:\n",
    "        df = pd.read_csv(dat_files[i], sep=\"\\s*\", header=None,  index_col=False)\n",
    "        df.columns = columns2 \n",
    "        df['rmsSurfScaled'] = (df['rmsSurf']/(2900.*1e3/1e-6))*(1e2*3600*24*365)\n",
    "        df['realtimeScaled'] = (df['realtime']*((2900.*1e3)**2/1e-6))/(1e6*3600*24*365)\n",
    "        realtime.append(df['realtimeScaled'])\n",
    "        area.append(df['areaintRock'])\n",
    "        data.append(df[col])\n",
    "        gooddata.append(i)\n",
    "        #print(i)\n",
    "    except:\n",
    "        pass\n",
    "    #    data.append(['NaN']*30)\n",
    "    #pd.concat(newdf, df.mean())\n",
    "    #print(df.mean())\n",
    "    #newdf.loc[i] = df.max()\n",
    "\n",
    "data = np.array(data)\n",
    "realtime = np.array(realtime)"
   ]
  },
  {
   "cell_type": "code",
   "execution_count": 26,
   "metadata": {
    "collapsed": false
   },
   "outputs": [
    {
     "data": {
      "text/plain": [
       "4"
      ]
     },
     "execution_count": 26,
     "metadata": {},
     "output_type": "execute_result"
    }
   ],
   "source": [
    "len(gooddata)"
   ]
  },
  {
   "cell_type": "code",
   "execution_count": 29,
   "metadata": {
    "collapsed": false
   },
   "outputs": [
    {
     "name": "stderr",
     "output_type": "stream",
     "text": [
      "/usr/local/lib/python2.7/dist-packages/ipykernel/__main__.py:11: ParserWarning: Falling back to the 'python' engine because the 'c' engine does not support regex separators (separators > 1 char and different from '\\s+' are interpreted as regex); you can avoid this warning by specifying engine='python'.\n"
     ]
    }
   ],
   "source": [
    "\n",
    "\n",
    "\n",
    "columns3 = ['areaintRock', 'tempintRock', 'rmsintRock', 'dwintRock', 'vdintRock', \n",
    "            'areaintLith', 'tempintLith','rmsintLith', 'dwintLith', 'vdintLith',\n",
    "            'areaintLower', 'tempintLower', 'rmsintLower', 'dwintLower', 'vdintLower', \n",
    "            'areaintHinge180', 'vdintHinge180', 'areaintHinge60', 'vdintHinge60', \n",
    "            'areaintInterface', 'vdintInterface', 'vdintInterface0',\n",
    "            \n",
    "            'minVel','maxVel', 'minVxsurf', 'maxVxsurf', 'surfLength', \n",
    "            'rmsSurf', 'nuTop', 'nuBottom', 'plateness', 'subzone',\n",
    "            'lRidge', 'rRidge', 'realtime']\n",
    "\n",
    "df = pd.read_csv(dat_files[4], sep=\"\\s*\", header=None,  index_col=False)\n",
    "df.columns = columns3\n",
    "\n",
    "df['rmsSurfScaled'] = (df['rmsSurf']/(2900.*1e3/1e-6))*(1e2*3600*24*365)\n",
    "df['realtimeScaled'] = (df['realtime']*((2900.*1e3)**2/1e-6))/(1e6*3600*24*365)"
   ]
  },
  {
   "cell_type": "code",
   "execution_count": 30,
   "metadata": {
    "collapsed": false,
    "scrolled": true
   },
   "outputs": [
    {
     "data": {
      "text/plain": [
       "<matplotlib.text.Text at 0x7f14c96fe790>"
      ]
     },
     "execution_count": 30,
     "metadata": {},
     "output_type": "execute_result"
    },
    {
     "data": {
      "image/png": "[encoded data removed]",
      "text/plain": [
       "<matplotlib.figure.Figure at 0x7f14c9880c90>"
      ]
     },
     "metadata": {},
     "output_type": "display_data"
    }
   ],
   "source": [
    "\n",
    "fig, ax = plt.subplots(figsize=(5,5))\n",
    "\n",
    "for i in range(0, realtime.shape[0]):\n",
    "    #c = inv_map[params[i][1]]\n",
    "    #if params[i][1] >= 1.:\n",
    "    ax.plot(realtime[i], data[i]/3.4,label=(str(i+1)) )\n",
    "\n",
    "plt.plot(df['realtimeScaled'] , df['rmsSurfScaled'] )\n",
    "    \n",
    "#ax.set_xlim(1., 200.)\n",
    "#ax.set_ylim(-0.7, 0.7)\n",
    "ax.legend(loc=2)\n",
    "#ax.set_title('hmm')\n",
    "#ax.set_ylabel('RMS surface velocity (cm/y)')\n",
    "ax.set_xlabel('age (ma)')\n",
    "#ax.set_xscale('log')\n",
    "#ax.set_yscale('log')\n",
    "#ax.axhline(1., c='k', ls='--')"
   ]
  },
  {
   "cell_type": "code",
   "execution_count": 10,
   "metadata": {
    "collapsed": false
   },
   "outputs": [
    {
     "data": {
      "text/plain": [
       "12"
      ]
     },
     "execution_count": 10,
     "metadata": {},
     "output_type": "execute_result"
    }
   ],
   "source": [
    "len(data[0])"
   ]
  },
  {
   "cell_type": "code",
   "execution_count": 21,
   "metadata": {
    "collapsed": false
   },
   "outputs": [
    {
     "data": {
      "text/plain": [
       "0     8.071189\n",
       "1    10.161638\n",
       "2    14.518545\n",
       "3    18.125336\n",
       "4    21.848213\n",
       "5    26.194189\n",
       "6    29.998285\n",
       "7    34.173417\n",
       "8    40.892582\n",
       "9    44.232677\n",
       "Name: rmsSurfScaled, dtype: float64"
      ]
     },
     "execution_count": 21,
     "metadata": {},
     "output_type": "execute_result"
    }
   ],
   "source": [
    "data[0]"
   ]
  },
  {
   "cell_type": "code",
   "execution_count": 22,
   "metadata": {
    "collapsed": false
   },
   "outputs": [
    {
     "data": {
      "text/html": [
       "<div>\n",
       "<table border=\"1\" class=\"dataframe\">\n",
       "  <thead>\n",
       "    <tr style=\"text-align: right;\">\n",
       "      <th></th>\n",
       "      <th>areaintRock</th>\n",
       "      <th>tempintRock</th>\n",
       "      <th>rmsintRock</th>\n",
       "      <th>dwintRock</th>\n",
       "      <th>vdintRock</th>\n",
       "      <th>areaintLith</th>\n",
       "      <th>tempintLith</th>\n",
       "      <th>rmsintLith</th>\n",
       "      <th>dwintLith</th>\n",
       "      <th>vdintLith</th>\n",
       "      <th>...</th>\n",
       "      <th>rmsSurf</th>\n",
       "      <th>nuTop</th>\n",
       "      <th>nuBottom</th>\n",
       "      <th>plateness</th>\n",
       "      <th>subzone</th>\n",
       "      <th>lRidge</th>\n",
       "      <th>rRidge</th>\n",
       "      <th>realtime</th>\n",
       "      <th>rmsSurfScaled</th>\n",
       "      <th>realtimeScaled</th>\n",
       "    </tr>\n",
       "  </thead>\n",
       "  <tbody>\n",
       "    <tr>\n",
       "      <th>0</th>\n",
       "      <td>2.344828</td>\n",
       "      <td>1.517226</td>\n",
       "      <td>1059.600638</td>\n",
       "      <td>9.402126</td>\n",
       "      <td>5.935741e+10</td>\n",
       "      <td>0.071550</td>\n",
       "      <td>0.017571</td>\n",
       "      <td>263.803482</td>\n",
       "      <td>-7.530078</td>\n",
       "      <td>3.124013e+10</td>\n",
       "      <td>...</td>\n",
       "      <td>10937.402465</td>\n",
       "      <td>-138.413925</td>\n",
       "      <td>-1.620848</td>\n",
       "      <td>2.388411</td>\n",
       "      <td>0.000000</td>\n",
       "      <td>-1.697786</td>\n",
       "      <td>1.697786</td>\n",
       "      <td>9.395571e-07</td>\n",
       "      <td>11.893859</td>\n",
       "      <td>0.250560</td>\n",
       "    </tr>\n",
       "    <tr>\n",
       "      <th>1</th>\n",
       "      <td>2.344828</td>\n",
       "      <td>1.517114</td>\n",
       "      <td>1545.531628</td>\n",
       "      <td>19.505731</td>\n",
       "      <td>1.205034e+11</td>\n",
       "      <td>0.071954</td>\n",
       "      <td>0.017694</td>\n",
       "      <td>398.789776</td>\n",
       "      <td>-16.630258</td>\n",
       "      <td>6.363176e+10</td>\n",
       "      <td>...</td>\n",
       "      <td>14635.361063</td>\n",
       "      <td>-136.146646</td>\n",
       "      <td>-1.500275</td>\n",
       "      <td>2.611979</td>\n",
       "      <td>0.008854</td>\n",
       "      <td>-1.697786</td>\n",
       "      <td>1.697786</td>\n",
       "      <td>1.705456e-06</td>\n",
       "      <td>15.915198</td>\n",
       "      <td>0.454810</td>\n",
       "    </tr>\n",
       "    <tr>\n",
       "      <th>2</th>\n",
       "      <td>2.344828</td>\n",
       "      <td>1.517058</td>\n",
       "      <td>3020.550716</td>\n",
       "      <td>74.362461</td>\n",
       "      <td>4.632892e+11</td>\n",
       "      <td>0.072169</td>\n",
       "      <td>0.017774</td>\n",
       "      <td>775.082015</td>\n",
       "      <td>-67.050680</td>\n",
       "      <td>2.672982e+11</td>\n",
       "      <td>...</td>\n",
       "      <td>25408.073421</td>\n",
       "      <td>-136.847818</td>\n",
       "      <td>-1.450962</td>\n",
       "      <td>2.735323</td>\n",
       "      <td>-0.002214</td>\n",
       "      <td>-1.697786</td>\n",
       "      <td>1.697786</td>\n",
       "      <td>2.050133e-06</td>\n",
       "      <td>27.629966</td>\n",
       "      <td>0.546728</td>\n",
       "    </tr>\n",
       "    <tr>\n",
       "      <th>3</th>\n",
       "      <td>2.344828</td>\n",
       "      <td>1.517022</td>\n",
       "      <td>4033.143938</td>\n",
       "      <td>108.164553</td>\n",
       "      <td>6.832556e+11</td>\n",
       "      <td>0.072268</td>\n",
       "      <td>0.017821</td>\n",
       "      <td>1017.412278</td>\n",
       "      <td>-97.805366</td>\n",
       "      <td>4.016498e+11</td>\n",
       "      <td>...</td>\n",
       "      <td>31837.995204</td>\n",
       "      <td>-141.152874</td>\n",
       "      <td>-1.429846</td>\n",
       "      <td>2.580990</td>\n",
       "      <td>-0.017708</td>\n",
       "      <td>-1.697786</td>\n",
       "      <td>1.697786</td>\n",
       "      <td>2.204121e-06</td>\n",
       "      <td>34.622173</td>\n",
       "      <td>0.587793</td>\n",
       "    </tr>\n",
       "    <tr>\n",
       "      <th>4</th>\n",
       "      <td>2.344828</td>\n",
       "      <td>1.516978</td>\n",
       "      <td>3514.063918</td>\n",
       "      <td>91.989796</td>\n",
       "      <td>5.762990e+11</td>\n",
       "      <td>0.072374</td>\n",
       "      <td>0.017867</td>\n",
       "      <td>901.916043</td>\n",
       "      <td>-79.386525</td>\n",
       "      <td>3.552812e+11</td>\n",
       "      <td>...</td>\n",
       "      <td>27223.898625</td>\n",
       "      <td>-145.509231</td>\n",
       "      <td>-1.404436</td>\n",
       "      <td>2.658464</td>\n",
       "      <td>-0.008854</td>\n",
       "      <td>-1.697786</td>\n",
       "      <td>1.697786</td>\n",
       "      <td>2.394818e-06</td>\n",
       "      <td>29.604582</td>\n",
       "      <td>0.638648</td>\n",
       "    </tr>\n",
       "    <tr>\n",
       "      <th>5</th>\n",
       "      <td>2.344828</td>\n",
       "      <td>1.516948</td>\n",
       "      <td>8100.894797</td>\n",
       "      <td>314.539231</td>\n",
       "      <td>1.941363e+12</td>\n",
       "      <td>0.072423</td>\n",
       "      <td>0.017891</td>\n",
       "      <td>2198.705327</td>\n",
       "      <td>-257.092044</td>\n",
       "      <td>1.152927e+12</td>\n",
       "      <td>...</td>\n",
       "      <td>64446.467663</td>\n",
       "      <td>-149.903208</td>\n",
       "      <td>-1.390362</td>\n",
       "      <td>2.797917</td>\n",
       "      <td>-0.011068</td>\n",
       "      <td>-1.697786</td>\n",
       "      <td>1.697786</td>\n",
       "      <td>2.503112e-06</td>\n",
       "      <td>70.082200</td>\n",
       "      <td>0.667528</td>\n",
       "    </tr>\n",
       "    <tr>\n",
       "      <th>6</th>\n",
       "      <td>2.344828</td>\n",
       "      <td>1.516927</td>\n",
       "      <td>23794.946639</td>\n",
       "      <td>1137.419824</td>\n",
       "      <td>7.005095e+12</td>\n",
       "      <td>0.072426</td>\n",
       "      <td>0.017902</td>\n",
       "      <td>6483.218794</td>\n",
       "      <td>-915.110783</td>\n",
       "      <td>3.491814e+12</td>\n",
       "      <td>...</td>\n",
       "      <td>176365.686178</td>\n",
       "      <td>-156.838300</td>\n",
       "      <td>-1.386565</td>\n",
       "      <td>2.718229</td>\n",
       "      <td>-0.017708</td>\n",
       "      <td>-1.697786</td>\n",
       "      <td>1.697786</td>\n",
       "      <td>2.532669e-06</td>\n",
       "      <td>191.788561</td>\n",
       "      <td>0.675411</td>\n",
       "    </tr>\n",
       "    <tr>\n",
       "      <th>7</th>\n",
       "      <td>2.344828</td>\n",
       "      <td>1.516906</td>\n",
       "      <td>44606.558444</td>\n",
       "      <td>2226.964922</td>\n",
       "      <td>1.378353e+13</td>\n",
       "      <td>0.072430</td>\n",
       "      <td>0.017917</td>\n",
       "      <td>11485.825610</td>\n",
       "      <td>-1786.239285</td>\n",
       "      <td>5.565518e+12</td>\n",
       "      <td>...</td>\n",
       "      <td>284941.689557</td>\n",
       "      <td>-164.154137</td>\n",
       "      <td>-1.384999</td>\n",
       "      <td>2.718229</td>\n",
       "      <td>-0.019922</td>\n",
       "      <td>-1.697786</td>\n",
       "      <td>1.697786</td>\n",
       "      <td>2.544899e-06</td>\n",
       "      <td>309.859349</td>\n",
       "      <td>0.678672</td>\n",
       "    </tr>\n",
       "  </tbody>\n",
       "</table>\n",
       "<p>8 rows × 32 columns</p>\n",
       "</div>"
      ],
      "text/plain": [
       "   areaintRock  tempintRock    rmsintRock    dwintRock     vdintRock  \\\n",
       "0     2.344828     1.517226   1059.600638     9.402126  5.935741e+10   \n",
       "1     2.344828     1.517114   1545.531628    19.505731  1.205034e+11   \n",
       "2     2.344828     1.517058   3020.550716    74.362461  4.632892e+11   \n",
       "3     2.344828     1.517022   4033.143938   108.164553  6.832556e+11   \n",
       "4     2.344828     1.516978   3514.063918    91.989796  5.762990e+11   \n",
       "5     2.344828     1.516948   8100.894797   314.539231  1.941363e+12   \n",
       "6     2.344828     1.516927  23794.946639  1137.419824  7.005095e+12   \n",
       "7     2.344828     1.516906  44606.558444  2226.964922  1.378353e+13   \n",
       "\n",
       "   areaintLith  tempintLith    rmsintLith    dwintLith     vdintLith  \\\n",
       "0     0.071550     0.017571    263.803482    -7.530078  3.124013e+10   \n",
       "1     0.071954     0.017694    398.789776   -16.630258  6.363176e+10   \n",
       "2     0.072169     0.017774    775.082015   -67.050680  2.672982e+11   \n",
       "3     0.072268     0.017821   1017.412278   -97.805366  4.016498e+11   \n",
       "4     0.072374     0.017867    901.916043   -79.386525  3.552812e+11   \n",
       "5     0.072423     0.017891   2198.705327  -257.092044  1.152927e+12   \n",
       "6     0.072426     0.017902   6483.218794  -915.110783  3.491814e+12   \n",
       "7     0.072430     0.017917  11485.825610 -1786.239285  5.565518e+12   \n",
       "\n",
       "        ...              rmsSurf       nuTop  nuBottom  plateness   subzone  \\\n",
       "0       ...         10937.402465 -138.413925 -1.620848   2.388411  0.000000   \n",
       "1       ...         14635.361063 -136.146646 -1.500275   2.611979  0.008854   \n",
       "2       ...         25408.073421 -136.847818 -1.450962   2.735323 -0.002214   \n",
       "3       ...         31837.995204 -141.152874 -1.429846   2.580990 -0.017708   \n",
       "4       ...         27223.898625 -145.509231 -1.404436   2.658464 -0.008854   \n",
       "5       ...         64446.467663 -149.903208 -1.390362   2.797917 -0.011068   \n",
       "6       ...        176365.686178 -156.838300 -1.386565   2.718229 -0.017708   \n",
       "7       ...        284941.689557 -164.154137 -1.384999   2.718229 -0.019922   \n",
       "\n",
       "     lRidge    rRidge      realtime  rmsSurfScaled  realtimeScaled  \n",
       "0 -1.697786  1.697786  9.395571e-07      11.893859        0.250560  \n",
       "1 -1.697786  1.697786  1.705456e-06      15.915198        0.454810  \n",
       "2 -1.697786  1.697786  2.050133e-06      27.629966        0.546728  \n",
       "3 -1.697786  1.697786  2.204121e-06      34.622173        0.587793  \n",
       "4 -1.697786  1.697786  2.394818e-06      29.604582        0.638648  \n",
       "5 -1.697786  1.697786  2.503112e-06      70.082200        0.667528  \n",
       "6 -1.697786  1.697786  2.532669e-06     191.788561        0.675411  \n",
       "7 -1.697786  1.697786  2.544899e-06     309.859349        0.678672  \n",
       "\n",
       "[8 rows x 32 columns]"
      ]
     },
     "execution_count": 22,
     "metadata": {},
     "output_type": "execute_result"
    }
   ],
   "source": [
    "df"
   ]
  },
  {
   "cell_type": "code",
   "execution_count": 23,
   "metadata": {
    "collapsed": false
   },
   "outputs": [
    {
     "name": "stderr",
     "output_type": "stream",
     "text": [
      "/usr/local/lib/python2.7/dist-packages/ipykernel/__main__.py:1: ParserWarning: Falling back to the 'python' engine because the 'c' engine does not support regex separators (separators > 1 char and different from '\\s+' are interpreted as regex); you can avoid this warning by specifying engine='python'.\n",
      "  if __name__ == '__main__':\n"
     ]
    }
   ],
   "source": [
    "df = pd.read_csv(dat_files[0], sep=\"\\s*\", header=None,  index_col=False)"
   ]
  },
  {
   "cell_type": "code",
   "execution_count": 24,
   "metadata": {
    "collapsed": false
   },
   "outputs": [
    {
     "data": {
      "text/html": [
       "<div>\n",
       "<table border=\"1\" class=\"dataframe\">\n",
       "  <thead>\n",
       "    <tr style=\"text-align: right;\">\n",
       "      <th></th>\n",
       "      <th>0</th>\n",
       "      <th>1</th>\n",
       "      <th>2</th>\n",
       "      <th>3</th>\n",
       "      <th>4</th>\n",
       "      <th>5</th>\n",
       "      <th>6</th>\n",
       "      <th>7</th>\n",
       "      <th>8</th>\n",
       "      <th>9</th>\n",
       "      <th>...</th>\n",
       "      <th>20</th>\n",
       "      <th>21</th>\n",
       "      <th>22</th>\n",
       "      <th>23</th>\n",
       "      <th>24</th>\n",
       "      <th>25</th>\n",
       "      <th>26</th>\n",
       "      <th>27</th>\n",
       "      <th>28</th>\n",
       "      <th>29</th>\n",
       "    </tr>\n",
       "  </thead>\n",
       "  <tbody>\n",
       "    <tr>\n",
       "      <th>0</th>\n",
       "      <td>2.344828</td>\n",
       "      <td>1.516951</td>\n",
       "      <td>648.292283</td>\n",
       "      <td>3.308838</td>\n",
       "      <td>1.950222e+09</td>\n",
       "      <td>0.072437</td>\n",
       "      <td>0.017768</td>\n",
       "      <td>157.037191</td>\n",
       "      <td>-2.524265</td>\n",
       "      <td>9.641004e+08</td>\n",
       "      <td>...</td>\n",
       "      <td>3.330938e+07</td>\n",
       "      <td>3.330938e+07</td>\n",
       "      <td>7422.135961</td>\n",
       "      <td>-130.915982</td>\n",
       "      <td>-1.329167</td>\n",
       "      <td>3.061328</td>\n",
       "      <td>0.013281</td>\n",
       "      <td>-1.697786</td>\n",
       "      <td>1.697786</td>\n",
       "      <td>0.000003</td>\n",
       "    </tr>\n",
       "    <tr>\n",
       "      <th>1</th>\n",
       "      <td>2.344828</td>\n",
       "      <td>1.516587</td>\n",
       "      <td>857.602171</td>\n",
       "      <td>4.799446</td>\n",
       "      <td>2.898236e+09</td>\n",
       "      <td>0.073711</td>\n",
       "      <td>0.018092</td>\n",
       "      <td>218.746658</td>\n",
       "      <td>-4.136820</td>\n",
       "      <td>1.260920e+09</td>\n",
       "      <td>...</td>\n",
       "      <td>5.333427e+07</td>\n",
       "      <td>5.333427e+07</td>\n",
       "      <td>9344.478929</td>\n",
       "      <td>-125.218169</td>\n",
       "      <td>-1.061323</td>\n",
       "      <td>3.076823</td>\n",
       "      <td>0.000000</td>\n",
       "      <td>-1.697786</td>\n",
       "      <td>1.697786</td>\n",
       "      <td>0.000006</td>\n",
       "    </tr>\n",
       "    <tr>\n",
       "      <th>2</th>\n",
       "      <td>2.344828</td>\n",
       "      <td>1.516319</td>\n",
       "      <td>1202.585040</td>\n",
       "      <td>6.948310</td>\n",
       "      <td>4.453471e+09</td>\n",
       "      <td>0.074624</td>\n",
       "      <td>0.018327</td>\n",
       "      <td>327.865451</td>\n",
       "      <td>-6.469376</td>\n",
       "      <td>1.729640e+09</td>\n",
       "      <td>...</td>\n",
       "      <td>1.224169e+08</td>\n",
       "      <td>1.224169e+08</td>\n",
       "      <td>13351.020946</td>\n",
       "      <td>-122.976267</td>\n",
       "      <td>-0.923711</td>\n",
       "      <td>3.028125</td>\n",
       "      <td>-0.006641</td>\n",
       "      <td>-1.695573</td>\n",
       "      <td>1.695573</td>\n",
       "      <td>0.000008</td>\n",
       "    </tr>\n",
       "    <tr>\n",
       "      <th>3</th>\n",
       "      <td>2.344828</td>\n",
       "      <td>1.516134</td>\n",
       "      <td>1522.125541</td>\n",
       "      <td>10.916118</td>\n",
       "      <td>6.307536e+09</td>\n",
       "      <td>0.075292</td>\n",
       "      <td>0.018510</td>\n",
       "      <td>434.399214</td>\n",
       "      <td>-9.349145</td>\n",
       "      <td>2.277128e+09</td>\n",
       "      <td>...</td>\n",
       "      <td>2.080761e+08</td>\n",
       "      <td>2.080761e+08</td>\n",
       "      <td>16667.768205</td>\n",
       "      <td>-122.298249</td>\n",
       "      <td>-0.850234</td>\n",
       "      <td>2.986068</td>\n",
       "      <td>0.002214</td>\n",
       "      <td>-1.697786</td>\n",
       "      <td>1.695573</td>\n",
       "      <td>0.000009</td>\n",
       "    </tr>\n",
       "    <tr>\n",
       "      <th>4</th>\n",
       "      <td>2.344828</td>\n",
       "      <td>1.516002</td>\n",
       "      <td>1819.975517</td>\n",
       "      <td>13.424260</td>\n",
       "      <td>8.091257e+09</td>\n",
       "      <td>0.075752</td>\n",
       "      <td>0.018638</td>\n",
       "      <td>533.622179</td>\n",
       "      <td>-11.891891</td>\n",
       "      <td>2.886528e+09</td>\n",
       "      <td>...</td>\n",
       "      <td>2.334278e+08</td>\n",
       "      <td>2.334278e+08</td>\n",
       "      <td>20091.266504</td>\n",
       "      <td>-122.240165</td>\n",
       "      <td>-0.806264</td>\n",
       "      <td>2.944010</td>\n",
       "      <td>0.000000</td>\n",
       "      <td>-1.697786</td>\n",
       "      <td>1.695573</td>\n",
       "      <td>0.000010</td>\n",
       "    </tr>\n",
       "    <tr>\n",
       "      <th>5</th>\n",
       "      <td>2.344828</td>\n",
       "      <td>1.515892</td>\n",
       "      <td>2165.616621</td>\n",
       "      <td>17.569459</td>\n",
       "      <td>1.029365e+10</td>\n",
       "      <td>0.076131</td>\n",
       "      <td>0.018745</td>\n",
       "      <td>645.120178</td>\n",
       "      <td>-15.277845</td>\n",
       "      <td>3.537903e+09</td>\n",
       "      <td>...</td>\n",
       "      <td>3.273615e+08</td>\n",
       "      <td>3.273615e+08</td>\n",
       "      <td>24087.756390</td>\n",
       "      <td>-122.487782</td>\n",
       "      <td>-0.774062</td>\n",
       "      <td>2.957292</td>\n",
       "      <td>-0.015495</td>\n",
       "      <td>-1.697786</td>\n",
       "      <td>1.695573</td>\n",
       "      <td>0.000011</td>\n",
       "    </tr>\n",
       "    <tr>\n",
       "      <th>6</th>\n",
       "      <td>2.344828</td>\n",
       "      <td>1.515795</td>\n",
       "      <td>2480.070990</td>\n",
       "      <td>21.233203</td>\n",
       "      <td>1.277777e+10</td>\n",
       "      <td>0.076443</td>\n",
       "      <td>0.018834</td>\n",
       "      <td>743.323249</td>\n",
       "      <td>-18.917404</td>\n",
       "      <td>4.497654e+09</td>\n",
       "      <td>...</td>\n",
       "      <td>4.286423e+08</td>\n",
       "      <td>4.286423e+08</td>\n",
       "      <td>27585.941797</td>\n",
       "      <td>-123.028027</td>\n",
       "      <td>-0.749008</td>\n",
       "      <td>2.928516</td>\n",
       "      <td>-0.002214</td>\n",
       "      <td>-1.697786</td>\n",
       "      <td>1.695573</td>\n",
       "      <td>0.000012</td>\n",
       "    </tr>\n",
       "    <tr>\n",
       "      <th>7</th>\n",
       "      <td>2.344828</td>\n",
       "      <td>1.515708</td>\n",
       "      <td>2852.492646</td>\n",
       "      <td>26.661627</td>\n",
       "      <td>1.636385e+10</td>\n",
       "      <td>0.076714</td>\n",
       "      <td>0.018914</td>\n",
       "      <td>857.635057</td>\n",
       "      <td>-23.991251</td>\n",
       "      <td>5.850400e+09</td>\n",
       "      <td>...</td>\n",
       "      <td>4.660280e+08</td>\n",
       "      <td>4.660280e+08</td>\n",
       "      <td>31425.326694</td>\n",
       "      <td>-123.734659</td>\n",
       "      <td>-0.728803</td>\n",
       "      <td>2.906380</td>\n",
       "      <td>-0.004427</td>\n",
       "      <td>-1.697786</td>\n",
       "      <td>1.695573</td>\n",
       "      <td>0.000012</td>\n",
       "    </tr>\n",
       "    <tr>\n",
       "      <th>8</th>\n",
       "      <td>2.344828</td>\n",
       "      <td>1.515634</td>\n",
       "      <td>3433.559101</td>\n",
       "      <td>35.378919</td>\n",
       "      <td>2.181160e+10</td>\n",
       "      <td>0.076925</td>\n",
       "      <td>0.018978</td>\n",
       "      <td>1036.985795</td>\n",
       "      <td>-31.678821</td>\n",
       "      <td>7.417314e+09</td>\n",
       "      <td>...</td>\n",
       "      <td>5.113640e+08</td>\n",
       "      <td>5.113640e+08</td>\n",
       "      <td>37604.163117</td>\n",
       "      <td>-124.665540</td>\n",
       "      <td>-0.713326</td>\n",
       "      <td>2.839974</td>\n",
       "      <td>-0.015495</td>\n",
       "      <td>-1.697786</td>\n",
       "      <td>1.695573</td>\n",
       "      <td>0.000013</td>\n",
       "    </tr>\n",
       "    <tr>\n",
       "      <th>9</th>\n",
       "      <td>2.344828</td>\n",
       "      <td>1.515569</td>\n",
       "      <td>3768.127958</td>\n",
       "      <td>41.902937</td>\n",
       "      <td>2.562917e+10</td>\n",
       "      <td>0.077117</td>\n",
       "      <td>0.019040</td>\n",
       "      <td>1138.598188</td>\n",
       "      <td>-37.377301</td>\n",
       "      <td>8.299672e+09</td>\n",
       "      <td>...</td>\n",
       "      <td>4.910992e+08</td>\n",
       "      <td>4.910992e+08</td>\n",
       "      <td>40675.660823</td>\n",
       "      <td>-125.679214</td>\n",
       "      <td>-0.700855</td>\n",
       "      <td>2.827308</td>\n",
       "      <td>-0.013281</td>\n",
       "      <td>-1.697786</td>\n",
       "      <td>1.695573</td>\n",
       "      <td>0.000013</td>\n",
       "    </tr>\n",
       "  </tbody>\n",
       "</table>\n",
       "<p>10 rows × 30 columns</p>\n",
       "</div>"
      ],
      "text/plain": [
       "         0         1            2          3             4         5   \\\n",
       "0  2.344828  1.516951   648.292283   3.308838  1.950222e+09  0.072437   \n",
       "1  2.344828  1.516587   857.602171   4.799446  2.898236e+09  0.073711   \n",
       "2  2.344828  1.516319  1202.585040   6.948310  4.453471e+09  0.074624   \n",
       "3  2.344828  1.516134  1522.125541  10.916118  6.307536e+09  0.075292   \n",
       "4  2.344828  1.516002  1819.975517  13.424260  8.091257e+09  0.075752   \n",
       "5  2.344828  1.515892  2165.616621  17.569459  1.029365e+10  0.076131   \n",
       "6  2.344828  1.515795  2480.070990  21.233203  1.277777e+10  0.076443   \n",
       "7  2.344828  1.515708  2852.492646  26.661627  1.636385e+10  0.076714   \n",
       "8  2.344828  1.515634  3433.559101  35.378919  2.181160e+10  0.076925   \n",
       "9  2.344828  1.515569  3768.127958  41.902937  2.562917e+10  0.077117   \n",
       "\n",
       "         6            7          8             9     ...               20  \\\n",
       "0  0.017768   157.037191  -2.524265  9.641004e+08    ...     3.330938e+07   \n",
       "1  0.018092   218.746658  -4.136820  1.260920e+09    ...     5.333427e+07   \n",
       "2  0.018327   327.865451  -6.469376  1.729640e+09    ...     1.224169e+08   \n",
       "3  0.018510   434.399214  -9.349145  2.277128e+09    ...     2.080761e+08   \n",
       "4  0.018638   533.622179 -11.891891  2.886528e+09    ...     2.334278e+08   \n",
       "5  0.018745   645.120178 -15.277845  3.537903e+09    ...     3.273615e+08   \n",
       "6  0.018834   743.323249 -18.917404  4.497654e+09    ...     4.286423e+08   \n",
       "7  0.018914   857.635057 -23.991251  5.850400e+09    ...     4.660280e+08   \n",
       "8  0.018978  1036.985795 -31.678821  7.417314e+09    ...     5.113640e+08   \n",
       "9  0.019040  1138.598188 -37.377301  8.299672e+09    ...     4.910992e+08   \n",
       "\n",
       "             21            22          23        24        25        26  \\\n",
       "0  3.330938e+07   7422.135961 -130.915982 -1.329167  3.061328  0.013281   \n",
       "1  5.333427e+07   9344.478929 -125.218169 -1.061323  3.076823  0.000000   \n",
       "2  1.224169e+08  13351.020946 -122.976267 -0.923711  3.028125 -0.006641   \n",
       "3  2.080761e+08  16667.768205 -122.298249 -0.850234  2.986068  0.002214   \n",
       "4  2.334278e+08  20091.266504 -122.240165 -0.806264  2.944010  0.000000   \n",
       "5  3.273615e+08  24087.756390 -122.487782 -0.774062  2.957292 -0.015495   \n",
       "6  4.286423e+08  27585.941797 -123.028027 -0.749008  2.928516 -0.002214   \n",
       "7  4.660280e+08  31425.326694 -123.734659 -0.728803  2.906380 -0.004427   \n",
       "8  5.113640e+08  37604.163117 -124.665540 -0.713326  2.839974 -0.015495   \n",
       "9  4.910992e+08  40675.660823 -125.679214 -0.700855  2.827308 -0.013281   \n",
       "\n",
       "         27        28        29  \n",
       "0 -1.697786  1.697786  0.000003  \n",
       "1 -1.697786  1.697786  0.000006  \n",
       "2 -1.695573  1.695573  0.000008  \n",
       "3 -1.697786  1.695573  0.000009  \n",
       "4 -1.697786  1.695573  0.000010  \n",
       "5 -1.697786  1.695573  0.000011  \n",
       "6 -1.697786  1.695573  0.000012  \n",
       "7 -1.697786  1.695573  0.000012  \n",
       "8 -1.697786  1.695573  0.000013  \n",
       "9 -1.697786  1.695573  0.000013  \n",
       "\n",
       "[10 rows x 30 columns]"
      ]
     },
     "execution_count": 24,
     "metadata": {},
     "output_type": "execute_result"
    }
   ],
   "source": [
    "df"
   ]
  },
  {
   "cell_type": "code",
   "execution_count": 11,
   "metadata": {
    "collapsed": true
   },
   "outputs": [],
   "source": []
  },
  {
   "cell_type": "code",
   "execution_count": 12,
   "metadata": {
    "collapsed": false
   },
   "outputs": [
    {
     "data": {
      "text/plain": [
       "35"
      ]
     },
     "execution_count": 12,
     "metadata": {},
     "output_type": "execute_result"
    }
   ],
   "source": [
    "len(columns2)"
   ]
  },
  {
   "cell_type": "code",
   "execution_count": 13,
   "metadata": {
    "collapsed": false
   },
   "outputs": [
    {
     "name": "stderr",
     "output_type": "stream",
     "text": [
      "/usr/local/lib/python2.7/dist-packages/ipykernel/__main__.py:1: ParserWarning: Falling back to the 'python' engine because the 'c' engine does not support regex separators (separators > 1 char and different from '\\s+' are interpreted as regex); you can avoid this warning by specifying engine='python'.\n",
      "  if __name__ == '__main__':\n"
     ]
    }
   ],
   "source": []
  },
  {
   "cell_type": "code",
   "execution_count": 16,
   "metadata": {
    "collapsed": false
   },
   "outputs": [],
   "source": []
  },
  {
   "cell_type": "code",
   "execution_count": 37,
   "metadata": {
    "collapsed": false
   },
   "outputs": [
    {
     "data": {
      "text/plain": [
       "[<matplotlib.lines.Line2D at 0x7f14c8ff8410>]"
      ]
     },
     "execution_count": 37,
     "metadata": {},
     "output_type": "execute_result"
    },
    {
     "data": {
      "image/png": "[encoded data removed]",
      "text/plain": [
       "<matplotlib.figure.Figure at 0x7f14c9131590>"
      ]
     },
     "metadata": {},
     "output_type": "display_data"
    }
   ],
   "source": [
    "plt.plot(df['realtimeScaled'] , (df['maxVel']/(2900.*1e3/1e-6))*(1e2*3600*24*365) )"
   ]
  },
  {
   "cell_type": "code",
   "execution_count": null,
   "metadata": {
    "collapsed": true
   },
   "outputs": [],
   "source": []
  }
 ],
 "metadata": {
  "kernelspec": {
   "display_name": "Python 2",
   "language": "python",
   "name": "python2"
  },
  "language_info": {
   "codemirror_mode": {
    "name": "ipython",
    "version": 2
   },
   "file_extension": ".py",
   "mimetype": "text/x-python",
   "name": "python",
   "nbconvert_exporter": "python",
   "pygments_lexer": "ipython2",
   "version": "2.7.9"
  },
  "widgets": {
   "state": {},
   "version": "1.1.2"
  }
 },
 "nbformat": 4,
 "nbformat_minor": 0
}
