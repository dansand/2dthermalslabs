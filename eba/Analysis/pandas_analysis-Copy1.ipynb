{
 "cells": [
  {
   "cell_type": "code",
   "execution_count": 35,
   "metadata": {
    "collapsed": false,
    "deletable": true,
    "editable": true
   },
   "outputs": [],
   "source": [
    "#!pip install natsort\n",
    "#!pip install seaborn\n",
    "#!pip install glob2\n",
    "#!pip install xarray"
   ]
  },
  {
   "cell_type": "code",
   "execution_count": null,
   "metadata": {
    "collapsed": true,
    "deletable": true,
    "editable": true
   },
   "outputs": [],
   "source": []
  },
  {
   "cell_type": "code",
   "execution_count": 36,
   "metadata": {
    "collapsed": false,
    "deletable": true,
    "editable": true
   },
   "outputs": [
    {
     "name": "stdout",
     "output_type": "stream",
     "text": [
      "Populating the interactive namespace from numpy and matplotlib\n"
     ]
    }
   ],
   "source": [
    "import pandas as pd\n",
    "%pylab inline\n",
    "import seaborn as sns\n",
    "import glob2\n",
    "#Trying to work out a safety for natsort\n",
    "from types import ModuleType\n",
    "from natsort import natsort as ns\n"
   ]
  },
  {
   "cell_type": "code",
   "execution_count": 37,
   "metadata": {
    "collapsed": false,
    "deletable": true,
    "editable": true
   },
   "outputs": [
    {
     "data": {
      "text/plain": [
       "<function natsort.natsort>"
      ]
     },
     "execution_count": 37,
     "metadata": {},
     "output_type": "execute_result"
    }
   ],
   "source": [
    "ns"
   ]
  },
  {
   "cell_type": "markdown",
   "metadata": {
    "collapsed": true,
    "deletable": true,
    "editable": true
   },
   "source": [
    "## A"
   ]
  },
  {
   "cell_type": "code",
   "execution_count": 38,
   "metadata": {
    "collapsed": false,
    "deletable": true,
    "editable": true
   },
   "outputs": [
    {
     "data": {
      "text/plain": [
       "4"
      ]
     },
     "execution_count": 38,
     "metadata": {},
     "output_type": "execute_result"
    }
   ],
   "source": [
    "#rdir = '/workspace'\n",
    "rdir = '../'\n",
    "\n",
    "dat_filesA = ns(glob2.glob(rdir + 'results/A/**/*.dat'))\n",
    "\n",
    "dat_filesB = ns(glob2.glob(rdir + 'results/B/**/*.dat'))\n",
    "dat_filesC = ns(glob2.glob(rdir + 'results/C/**/*.dat'))\n",
    "dat_filesD = ns(glob2.glob(rdir + 'results/D/**/*.dat'))\n",
    "\n",
    "\n",
    "len(dat_filesA)\n"
   ]
  },
  {
   "cell_type": "code",
   "execution_count": 39,
   "metadata": {
    "collapsed": true,
    "deletable": true,
    "editable": true
   },
   "outputs": [],
   "source": [
    "columns3 = ['areaintRock', 'tempintRock', 'rmsintRock', 'dwintRock', 'vdintRock', \n",
    "            'areaintLith', 'tempintLith','rmsintLith', 'dwintLith', 'vdintLith',\n",
    "            'areaintLower', 'tempintLower', 'rmsintLower', 'dwintLower', 'vdintLower', \n",
    "            'areaintHinge180', 'vdintHinge180', 'areaintHinge60', 'vdintHinge60', \n",
    "            'areaintInterface', 'vdintInterface', 'vdintInterface0',\n",
    "            \n",
    "            'minVel','maxVel', 'minVxsurf', 'maxVxsurf', 'surfLength', \n",
    "            'rmsSurf', 'nuTop', 'nuBottom', 'plateness', 'subzone',\n",
    "            'lRidge', 'rRidge', 'realtime']\n"
   ]
  },
  {
   "cell_type": "code",
   "execution_count": 40,
   "metadata": {
    "collapsed": false,
    "deletable": true,
    "editable": true
   },
   "outputs": [],
   "source": [
    "\n",
    "#dfD\n",
    "#dfD['rmsSurf']"
   ]
  },
  {
   "cell_type": "code",
   "execution_count": 41,
   "metadata": {
    "collapsed": false,
    "deletable": true,
    "editable": true
   },
   "outputs": [
    {
     "name": "stderr",
     "output_type": "stream",
     "text": [
      "/usr/local/lib/python2.7/dist-packages/ipykernel/__main__.py:1: ParserWarning: Falling back to the 'python' engine because the 'c' engine does not support regex separators (separators > 1 char and different from '\\s+' are interpreted as regex); you can avoid this warning by specifying engine='python'.\n",
      "  if __name__ == '__main__':\n",
      "/usr/local/lib/python2.7/dist-packages/ipykernel/__main__.py:11: ParserWarning: Falling back to the 'python' engine because the 'c' engine does not support regex separators (separators > 1 char and different from '\\s+' are interpreted as regex); you can avoid this warning by specifying engine='python'.\n",
      "/usr/local/lib/python2.7/dist-packages/ipykernel/__main__.py:19: ParserWarning: Falling back to the 'python' engine because the 'c' engine does not support regex separators (separators > 1 char and different from '\\s+' are interpreted as regex); you can avoid this warning by specifying engine='python'.\n"
     ]
    }
   ],
   "source": [
    "dfA = pd.read_csv(dat_filesA[0], sep=\"\\s*\", header=None,  index_col=False)\n",
    "dfA.columns = columns3\n",
    "\n",
    "dfA['rmsSurfScaled'] = (dfA['rmsSurf']/(2900.*1e3/1e-6))*(1e2*3600*24*365)\n",
    "dfA['realtimeScaled'] = (dfA['realtime']*((2900.*1e3)**2/1e-6))/(1e6*3600*24*365)\n",
    "\n",
    "\n",
    "\n",
    "#\n",
    "\n",
    "dfC = pd.read_csv(dat_filesC[0], sep=\"\\s*\", header=None,  index_col=False)\n",
    "dfC.columns = columns3\n",
    "\n",
    "dfC['rmsSurfScaled'] = (dfC['rmsSurf']/(2900.*1e3/1e-6))*(1e2*3600*24*365)\n",
    "dfC['realtimeScaled'] = (dfC['realtime']*((2900.*1e3)**2/1e-6))/(1e6*3600*24*365)\n",
    "\n",
    "\n",
    "\n",
    "dfD = pd.read_csv(dat_filesD[3], sep=\"\\s*\", header=None, index_col=False) \n",
    "dfD.columns = columns3\n",
    "\n",
    "dfD['rmsSurfScaled'] = (dfD['rmsSurf']/(2900.1e3/1e-6))*(1e2*3600*24*365)\n",
    "dfD['realtimeScaled'] = (dfD['realtime']*((2900.*1e3)**2/1e-6))/(1e6*3600*24*365)\n"
   ]
  },
  {
   "cell_type": "markdown",
   "metadata": {
    "deletable": true,
    "editable": true
   },
   "source": [
    "#\n",
    "\n",
    "dfC = pd.read_csv(dat_filesB[2], sep=\"\\s*\", header=None,  index_col=False)\n",
    "dfC.columns = columns3\n",
    "\n",
    "dfC['rmsSurfScaled'] = (dfC['rmsSurf']/(2900.*1e3/1e-6))*(1e2*3600*24*365)\n",
    "dfC['realtimeScaled'] = (dfC['realtime']*((2900.*1e3)**2/1e-6))/(1e6*3600*24*365)\n",
    "\n",
    "#\n",
    "\n",
    "dfB = pd.read_csv(dat_filesB[3], sep=\"\\s*\", header=None,  index_col=False)\n",
    "dfB.columns = columns3\n",
    "\n",
    "dfB['rmsSurfScaled'] = (dfB['rmsSurf']/(2900.*1e3/1e-6))*(1e2*3600*24*365)\n",
    "dfB['realtimeScaled'] = (dfB['realtime']*((2900.*1e3)**2/1e-6))/(1e6*3600*24*365)\n",
    "\n",
    "\n",
    "#\n",
    "\n",
    "dfD = pd.read_csv(dat_filesD[6], sep=\"\\s*\", header=None,  index_col=False)\n",
    "dfD.columns = columns3\n",
    "\n",
    "dfD['rmsSurfScaled'] = (dfD['rmsSurf']/(2900.*1e3/1e-6))*(1e2*3600*24*365)\n",
    "dfD['realtimeScaled'] = (dfD['realtime']*((2900.*1e3)**2/1e-6))/(1e6*3600*24*365)"
   ]
  },
  {
   "cell_type": "code",
   "execution_count": 42,
   "metadata": {
    "collapsed": false,
    "deletable": true,
    "editable": true
   },
   "outputs": [
    {
     "data": {
      "text/plain": [
       "[<matplotlib.lines.Line2D at 0x7f2282092ad0>]"
      ]
     },
     "execution_count": 42,
     "metadata": {},
     "output_type": "execute_result"
    },
    {
     "data": {
      "image/png": "[encoded data removed]",
      "text/plain": [
       "<matplotlib.figure.Figure at 0x7f228201a490>"
      ]
     },
     "metadata": {},
     "output_type": "display_data"
    }
   ],
   "source": [
    "fig, ax = plt.subplots()\n",
    "\n",
    "#ax.plot(dfA['realtimeScaled'] , (dfA['rmsSurf']/dfA['surfLength']/(2900.*1e3/1e-6))*(1e2*3600*24*365), c='r' )\n",
    "\n",
    "\n",
    "#ax.plot(dfB['realtimeScaled'] , (dfB['rmsSurf']/dfB['surfLength']/(2900.*1e3/1e-6))*(1e2*3600*24*365), c='g' )\n",
    "\n",
    "ax.plot(dfC['realtimeScaled'] , (dfC['rmsSurf']/dfC['surfLength']/(2900.*1e3/1e-6))*(1e2*3600*24*365), c='b' )\n",
    "\n",
    "#ax.plot(dfD['realtimeScaled'] , (dfD['rmsSurf'] /dfD['surfLength']/(2900.*1e3/1e-6))*(1e2*3600*24*365), c='k' )\n",
    "\n",
    "\n",
    "\n",
    "#ax.set_xlim(0, 20)"
   ]
  },
  {
   "cell_type": "code",
   "execution_count": 43,
   "metadata": {
    "collapsed": false,
    "deletable": true,
    "editable": true
   },
   "outputs": [
    {
     "data": {
      "text/plain": [
       "[<matplotlib.lines.Line2D at 0x7f2281f7db90>]"
      ]
     },
     "execution_count": 43,
     "metadata": {},
     "output_type": "execute_result"
    },
    {
     "data": {
      "image/png": "[encoded data removed]",
      "text/plain": [
       "<matplotlib.figure.Figure at 0x7f2282041d10>"
      ]
     },
     "metadata": {},
     "output_type": "display_data"
    }
   ],
   "source": [
    "Ra = 671450639.63\n",
    "\n",
    "fig, ax = plt.subplots()\n",
    "\n",
    "\n",
    "#'dwintRock', 'vdintRock'\n",
    "ax.plot(dfA['realtimeScaled'] , dfA['vdintRock']/Ra - dfA['vdintLith']/Ra, c='g' )\n",
    "ax.plot(dfA['realtimeScaled'] , dfA['dwintRock'], c='g' )\n",
    "\n",
    "#ax.plot(dfA['realtimeScaled'] , dfA['vdintLith'], c='b' )\n",
    "#ax.plot(dfA['realtimeScaled'] , dfA['vdintLower'], c='r' )\n",
    "#ax.plot(dfA['realtimeScaled'] , dfA['vdintHinge180'], c='k' )\n",
    "#ax.plot(dfA['realtimeScaled'] , dfA['vdintHinge60'], c='y' )\n",
    "#ax.plot(dfA['realtimeScaled'] , dfA['vdintHinge60'], c='y' )\n",
    "\n"
   ]
  },
  {
   "cell_type": "code",
   "execution_count": 44,
   "metadata": {
    "collapsed": false,
    "deletable": true,
    "editable": true
   },
   "outputs": [
    {
     "data": {
      "text/plain": [
       "[<matplotlib.lines.Line2D at 0x7f2281fdbdd0>]"
      ]
     },
     "execution_count": 44,
     "metadata": {},
     "output_type": "execute_result"
    },
    {
     "data": {
      "image/png": "[encoded data removed]",
      "text/plain": [
       "<matplotlib.figure.Figure at 0x7f2281fe7150>"
      ]
     },
     "metadata": {},
     "output_type": "display_data"
    }
   ],
   "source": [
    "fig, ax = plt.subplots()\n",
    "\n",
    "\n",
    "#'dwintRock', 'vdintRock'\n",
    "ax.plot(dfA['realtimeScaled'] ,dfA['maxVel'])\n"
   ]
  },
  {
   "cell_type": "code",
   "execution_count": 45,
   "metadata": {
    "collapsed": false,
    "deletable": true,
    "editable": true
   },
   "outputs": [],
   "source": [
    "#np.argmax(dfC['rmsSurf'])\n"
   ]
  },
  {
   "cell_type": "markdown",
   "metadata": {
    "collapsed": true,
    "deletable": true,
    "editable": true
   },
   "source": [
    "## Splines"
   ]
  },
  {
   "cell_type": "code",
   "execution_count": 49,
   "metadata": {
    "collapsed": true
   },
   "outputs": [],
   "source": [
    "import h5py"
   ]
  },
  {
   "cell_type": "code",
   "execution_count": 67,
   "metadata": {
    "collapsed": true
   },
   "outputs": [],
   "source": [
    "from scipy.interpolate import UnivariateSpline\n",
    "import numpy as np\n",
    "\n",
    "def curvature_splines(x, y=None, error=0.01):\n",
    "    \"\"\"Calculate the signed curvature of a 2D curve at each point\n",
    "    using interpolating splines.\n",
    "    Parameters\n",
    "    ----------\n",
    "    x,y: numpy.array(dtype=float) shape (n_points, )\n",
    "         or\n",
    "         y=None and\n",
    "         x is a numpy.array(dtype=complex) shape (n_points, )\n",
    "         In the second case the curve is represented as a np.array\n",
    "         of complex numbers.\n",
    "    error : float\n",
    "        The admisible error when interpolating the splines\n",
    "    Returns\n",
    "    -------\n",
    "    curvature: numpy.array shape (n_points, )\n",
    "    Note: This is 2-3x slower (1.8 ms for 2000 points) than `curvature_gradient`\n",
    "    but more accurate, especially at the borders.\n",
    "    \"\"\"\n",
    "\n",
    "    # handle list of complex case\n",
    "    if y is None:\n",
    "        x, y = x.real, x.imag\n",
    "\n",
    "    t = x\n",
    "    std = error * np.ones_like(x)\n",
    "\n",
    "    fx = UnivariateSpline(t, x, k=5, w=1000. / np.sqrt(std))\n",
    "    fy = UnivariateSpline(t, y, k=5, w=1000. / np.sqrt(std))\n",
    "    #print(np.sqrt(std))\n",
    "\n",
    "    x1 = fx.derivative(1)(t)\n",
    "    x2 = fx.derivative(2)(t)\n",
    "    y1 = fy.derivative(1)(t)\n",
    "    y2 = fy.derivative(2)(t)\n",
    "    curvature = (x1* y2 - y1* x2) / np.power(x1** 2 + y1** 2, 3 / 2)\n",
    "    return curvature, fx, fy, y1"
   ]
  },
  {
   "cell_type": "code",
   "execution_count": 51,
   "metadata": {
    "collapsed": true
   },
   "outputs": [],
   "source": [
    "def listify_data(unique_string, path):\n",
    "    glob_str = path + '*' + unique_string + '*'\n",
    "    files = glob2.glob(glob_str)\n",
    "    #print(glob_str)\n",
    "    #return files\n",
    "    \n",
    "    dataList = []\n",
    "    for f in files:\n",
    "        with h5py.File(f,'r') as hf:\n",
    "            data = hf.get('data')\n",
    "            dataList.append(np.array(data))\n",
    "    return dataList\n",
    "        "
   ]
  },
  {
   "cell_type": "code",
   "execution_count": 52,
   "metadata": {
    "collapsed": true
   },
   "outputs": [],
   "source": [
    "def get_marker_data(M,N):\n",
    "    points = listify_data('faultSwarm', '../results/{}/{}/**/'.format(M, N))\n",
    "    return points"
   ]
  },
  {
   "cell_type": "code",
   "execution_count": 173,
   "metadata": {
    "collapsed": true
   },
   "outputs": [],
   "source": [
    "def get_curvature(points):\n",
    "    \n",
    "    ##\n",
    "    indexes = np.argsort(points[:,0])\n",
    "    points2 = points[indexes]\n",
    "    \n",
    "    ##\n",
    "    cut = 1. - (210./2900)\n",
    "    cutIndexes = points2[:,1] > cut \n",
    "    points3 = points2[cutIndexes]\n",
    "    \n",
    "    ##\n",
    "    \n",
    "    \n",
    "    c, cx, cy, y1 = curvature_splines(points3[:,0], points3[:,1])\n",
    "    return points3, c, cx, cy, y1\n"
   ]
  },
  {
   "cell_type": "code",
   "execution_count": 206,
   "metadata": {
    "collapsed": true
   },
   "outputs": [],
   "source": [
    "def moving_average(a, n=3) :\n",
    "    ret = np.cumsum(a, dtype=float)\n",
    "    ret[n:] = ret[n:] - ret[:-n]\n",
    "    return ret[n - 1:] / n"
   ]
  },
  {
   "cell_type": "code",
   "execution_count": 174,
   "metadata": {
    "collapsed": false
   },
   "outputs": [],
   "source": [
    "p = get_marker_data('C','0')"
   ]
  },
  {
   "cell_type": "code",
   "execution_count": 175,
   "metadata": {
    "collapsed": false
   },
   "outputs": [
    {
     "data": {
      "text/plain": [
       "126.00000000003614"
      ]
     },
     "execution_count": 175,
     "metadata": {},
     "output_type": "execute_result"
    }
   ],
   "source": [
    "(np.array(dfC['realtime'])[-1])*(((2900.*1e3)**2/1e-6))/(1e6*3600*24*365)"
   ]
  },
  {
   "cell_type": "code",
   "execution_count": 176,
   "metadata": {
    "collapsed": false
   },
   "outputs": [],
   "source": [
    "f = UnivariateSpline(p[100][:,0], p[100][:,1],k =5 )"
   ]
  },
  {
   "cell_type": "code",
   "execution_count": 177,
   "metadata": {
    "collapsed": false
   },
   "outputs": [],
   "source": [
    "testxs = np.linspace(pts[0,0], pts[0,-1], 100)"
   ]
  },
  {
   "cell_type": "code",
   "execution_count": null,
   "metadata": {
    "collapsed": false
   },
   "outputs": [],
   "source": []
  },
  {
   "cell_type": "code",
   "execution_count": 178,
   "metadata": {
    "collapsed": false
   },
   "outputs": [
    {
     "data": {
      "text/plain": [
       "<matplotlib.collections.PathCollection at 0x7f22766c5550>"
      ]
     },
     "execution_count": 178,
     "metadata": {},
     "output_type": "execute_result"
    },
    {
     "data": {
      "image/png": "[encoded data removed]",
      "text/plain": [
       "<matplotlib.figure.Figure at 0x7f22768320d0>"
      ]
     },
     "metadata": {},
     "output_type": "display_data"
    }
   ],
   "source": [
    "plt.scatter(testxs, f(testxs), s= 3)\n",
    "plt.scatter(p[100][:,0], p[100][:,1], s = 3)"
   ]
  },
  {
   "cell_type": "code",
   "execution_count": 179,
   "metadata": {
    "collapsed": false
   },
   "outputs": [],
   "source": [
    "pts, c, cx, cy, y1 = get_curvature(p[80])"
   ]
  },
  {
   "cell_type": "code",
   "execution_count": 180,
   "metadata": {
    "collapsed": false
   },
   "outputs": [
    {
     "data": {
      "text/plain": [
       "<matplotlib.collections.PathCollection at 0x7f22766f7450>"
      ]
     },
     "execution_count": 180,
     "metadata": {},
     "output_type": "execute_result"
    },
    {
     "data": {
      "image/png": "[encoded data removed]",
      "text/plain": [
       "<matplotlib.figure.Figure at 0x7f22766f73d0>"
      ]
     },
     "metadata": {},
     "output_type": "display_data"
    }
   ],
   "source": [
    "fig, ax = plt.subplots()\n",
    "#ax.scatter(coords[:,0][indexes][200:], 1/np.abs(c))\n",
    "ax.scatter(pts[:,0], c)"
   ]
  },
  {
   "cell_type": "code",
   "execution_count": 191,
   "metadata": {
    "collapsed": false
   },
   "outputs": [
    {
     "data": {
      "text/plain": [
       "16.001412737046795"
      ]
     },
     "execution_count": 191,
     "metadata": {},
     "output_type": "execute_result"
    }
   ],
   "source": []
  },
  {
   "cell_type": "code",
   "execution_count": 202,
   "metadata": {
    "collapsed": false
   },
   "outputs": [],
   "source": [
    "curves = []\n",
    "dips = []\n",
    "\n",
    "for i in range(len(p)):\n",
    "    pts, c, cx, cy, y1 = get_curvature(p[i])\n",
    "    #curves.append(np.abs(c).max())\n",
    "    #dips.append(np.abs(y1).max())\n",
    "    \n",
    "    curves.append(np.median(np.sort(np.abs(c))[-5:]))\n",
    "    dips.append(np.median(np.sort(np.abs(y1))[-5:]))"
   ]
  },
  {
   "cell_type": "code",
   "execution_count": 211,
   "metadata": {
    "collapsed": false
   },
   "outputs": [
    {
     "data": {
      "text/plain": [
       "[<matplotlib.lines.Line2D at 0x7f2275cce5d0>]"
      ]
     },
     "execution_count": 211,
     "metadata": {},
     "output_type": "execute_result"
    },
    {
     "data": {
      "image/png": "[encoded data removed]",
      "text/plain": [
       "<matplotlib.figure.Figure at 0x7f2275ab7090>"
      ]
     },
     "metadata": {},
     "output_type": "display_data"
    }
   ],
   "source": [
    "fig, ax = plt.subplots() \n",
    "ax.plot(2900./moving_average(np.array(curves), n = 3), c= 'r')"
   ]
  },
  {
   "cell_type": "code",
   "execution_count": 204,
   "metadata": {
    "collapsed": false
   },
   "outputs": [
    {
     "data": {
      "text/plain": [
       "[<matplotlib.lines.Line2D at 0x7f2275fe9ed0>]"
      ]
     },
     "execution_count": 204,
     "metadata": {},
     "output_type": "execute_result"
    },
    {
     "data": {
      "image/png": "[encoded data removed]",
      "text/plain": [
       "<matplotlib.figure.Figure at 0x7f2275e646d0>"
      ]
     },
     "metadata": {},
     "output_type": "display_data"
    }
   ],
   "source": [
    "fig, ax = plt.subplots() \n",
    "ax.plot(np.rad2deg(np.arctan(dips)), c= 'r')\n",
    "#ax.set_ylim(0.4,2)\n",
    "#ax.plot(dips1, c= 'b')\n",
    "#ax.plot(dips2, c= 'k')"
   ]
  },
  {
   "cell_type": "code",
   "execution_count": null,
   "metadata": {
    "collapsed": true
   },
   "outputs": [],
   "source": []
  },
  {
   "cell_type": "code",
   "execution_count": null,
   "metadata": {
    "collapsed": true
   },
   "outputs": [],
   "source": []
  }
 ],
 "metadata": {
  "kernelspec": {
   "display_name": "Python 2",
   "language": "python",
   "name": "python2"
  },
  "language_info": {
   "codemirror_mode": {
    "name": "ipython",
    "version": 2
   },
   "file_extension": ".py",
   "mimetype": "text/x-python",
   "name": "python",
   "nbconvert_exporter": "python",
   "pygments_lexer": "ipython2",
   "version": "2.7.9"
  },
  "widgets": {
   "state": {},
   "version": "1.1.2"
  }
 },
 "nbformat": 4,
 "nbformat_minor": 0
}
