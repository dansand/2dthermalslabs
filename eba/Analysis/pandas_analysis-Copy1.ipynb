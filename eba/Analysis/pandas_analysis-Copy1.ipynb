{
 "cells": [
  {
   "cell_type": "code",
   "execution_count": 1,
   "metadata": {
    "collapsed": false
   },
   "outputs": [],
   "source": [
    "#!pip install natsort\n",
    "#!pip install seaborn\n",
    "#!pip install glob2\n",
    "#!pip install xarray"
   ]
  },
  {
   "cell_type": "code",
   "execution_count": null,
   "metadata": {
    "collapsed": true
   },
   "outputs": [],
   "source": []
  },
  {
   "cell_type": "code",
   "execution_count": 2,
   "metadata": {
    "collapsed": false
   },
   "outputs": [
    {
     "name": "stdout",
     "output_type": "stream",
     "text": [
      "Populating the interactive namespace from numpy and matplotlib\n"
     ]
    }
   ],
   "source": [
    "import pandas as pd\n",
    "%pylab inline\n",
    "import seaborn as sns\n",
    "import glob2\n",
    "#Trying to work out a safety for natsort\n",
    "from types import ModuleType\n",
    "from natsort import natsort as ns\n",
    "if isinstance(ns, ModuleType):\n",
    "    natsort = ns.natsorted\n",
    "else:\n",
    "    nasort = ns"
   ]
  },
  {
   "cell_type": "code",
   "execution_count": 3,
   "metadata": {
    "collapsed": false
   },
   "outputs": [
    {
     "name": "stdout",
     "output_type": "stream",
     "text": [
      "Untitled.ipynb  pandas_analysis-Copy1.ipynb\r\n"
     ]
    }
   ],
   "source": [
    "ls"
   ]
  },
  {
   "cell_type": "markdown",
   "metadata": {
    "collapsed": true
   },
   "source": [
    "## A"
   ]
  },
  {
   "cell_type": "code",
   "execution_count": 4,
   "metadata": {
    "collapsed": false
   },
   "outputs": [
    {
     "data": {
      "text/plain": [
       "12"
      ]
     },
     "execution_count": 4,
     "metadata": {},
     "output_type": "execute_result"
    }
   ],
   "source": [
    "#rdir = '/workspace'\n",
    "rdir = '../'\n",
    "\n",
    "dat_files = natsort(glob2.glob(rdir + '/results/A/**/*.dat'))\n",
    "\n",
    "\n",
    "len(dat_files)\n",
    "#dat_files"
   ]
  },
  {
   "cell_type": "code",
   "execution_count": 5,
   "metadata": {
    "collapsed": true
   },
   "outputs": [],
   "source": [
    "columns2 = ['areaintRock', 'tempintRock', 'rmsintRock', 'dwintRock', 'vdintRock', \n",
    "            'areaintLith', 'tempintLith','rmsintLith', 'dwintLith', 'vdintLith',\n",
    "            'areaintLower', 'tempintLower', 'rmsintLower', 'dwintLower', 'vdintLower', \n",
    "            'areaintHinge180', 'vdintHinge180', 'areaintHinge60', 'vdintHinge60', \n",
    "            'areaintInterface', 'vdintInterface', 'vdintInterface0',\n",
    "            'rmsSurf', 'nuTop', 'nuBottom', 'plateness', 'subzone',\n",
    "            'lRidge', 'rRidge', 'realtime']"
   ]
  },
  {
   "cell_type": "code",
   "execution_count": 6,
   "metadata": {
    "collapsed": true
   },
   "outputs": [],
   "source": [
    "columns3 = ['areaintRock', 'tempintRock', 'rmsintRock', 'dwintRock', 'vdintRock', \n",
    "            'areaintLith', 'tempintLith','rmsintLith', 'dwintLith', 'vdintLith',\n",
    "            'areaintLower', 'tempintLower', 'rmsintLower', 'dwintLower', 'vdintLower', \n",
    "            'areaintHinge180', 'vdintHinge180', 'areaintHinge60', 'vdintHinge60', \n",
    "            'areaintInterface', 'vdintInterface', 'vdintInterface0',\n",
    "            \n",
    "            'minVel','maxVel', 'minVxsurf', 'maxVxsurf', 'surfLength', \n",
    "            'rmsSurf', 'nuTop', 'nuBottom', 'plateness', 'subzone',\n",
    "            'lRidge', 'rRidge', 'realtime']\n"
   ]
  },
  {
   "cell_type": "code",
   "execution_count": 34,
   "metadata": {
    "collapsed": false
   },
   "outputs": [
    {
     "name": "stderr",
     "output_type": "stream",
     "text": [
      "/usr/local/lib/python2.7/dist-packages/ipykernel/__main__.py:15: ParserWarning: Falling back to the 'python' engine because the 'c' engine does not support regex separators (separators > 1 char and different from '\\s+' are interpreted as regex); you can avoid this warning by specifying engine='python'.\n",
      "/usr/local/lib/python2.7/dist-packages/ipykernel/__main__.py:16: ParserWarning: Falling back to the 'python' engine because the 'c' engine does not support regex separators (separators > 1 char and different from '\\s+' are interpreted as regex); you can avoid this warning by specifying engine='python'.\n",
      "/usr/local/lib/python2.7/dist-packages/ipykernel/__main__.py:17: ParserWarning: Falling back to the 'python' engine because the 'c' engine does not support regex separators (separators > 1 char and different from '\\s+' are interpreted as regex); you can avoid this warning by specifying engine='python'.\n",
      "/usr/local/lib/python2.7/dist-packages/ipykernel/__main__.py:20: ParserWarning: Falling back to the 'python' engine because the 'c' engine does not support regex separators (separators > 1 char and different from '\\s+' are interpreted as regex); you can avoid this warning by specifying engine='python'.\n",
      "/usr/local/lib/python2.7/dist-packages/ipykernel/__main__.py:21: ParserWarning: Falling back to the 'python' engine because the 'c' engine does not support regex separators (separators > 1 char and different from '\\s+' are interpreted as regex); you can avoid this warning by specifying engine='python'.\n",
      "/usr/local/lib/python2.7/dist-packages/ipykernel/__main__.py:22: ParserWarning: Falling back to the 'python' engine because the 'c' engine does not support regex separators (separators > 1 char and different from '\\s+' are interpreted as regex); you can avoid this warning by specifying engine='python'.\n",
      "/usr/local/lib/python2.7/dist-packages/ipykernel/__main__.py:23: ParserWarning: Falling back to the 'python' engine because the 'c' engine does not support regex separators (separators > 1 char and different from '\\s+' are interpreted as regex); you can avoid this warning by specifying engine='python'.\n"
     ]
    }
   ],
   "source": [
    "\n",
    "\n",
    "\n",
    "columns3 = ['areaintRock', 'tempintRock', 'rmsintRock', 'dwintRock', 'vdintRock', \n",
    "            'areaintLith', 'tempintLith','rmsintLith', 'dwintLith', 'vdintLith',\n",
    "            'areaintLower', 'tempintLower', 'rmsintLower', 'dwintLower', 'vdintLower', \n",
    "            'areaintHinge180', 'vdintHinge180', 'areaintHinge60', 'vdintHinge60', \n",
    "            'areaintInterface', 'vdintInterface', 'vdintInterface0',\n",
    "            \n",
    "            'minVel','maxVel', 'minVxsurf', 'maxVxsurf', 'surfLength', \n",
    "            'rmsSurf', 'nuTop', 'nuBottom', 'plateness', 'subzone',\n",
    "            'lRidge', 'rRidge', 'realtime']\n",
    "\n",
    "#df = pd.read_csv(dat_files[4], sep=\"\\s*\", header=None,  index_col=False)\n",
    "df3 = pd.read_csv('../results/A/3/results_modelA_3.dat', sep=\"\\s*\", header=None,  index_col=False)\n",
    "df4 = pd.read_csv('../results/A/4/results_modelA_4.dat', sep=\"\\s*\", header=None,  index_col=False)\n",
    "df5 = pd.read_csv('../results/A/5/results_modelA_5.dat', sep=\"\\s*\", header=None,  index_col=False)\n",
    "\n",
    "\n",
    "dfB1 = pd.read_csv('../results/B/1/results_modelB_1.dat', sep=\"\\s*\", header=None,  index_col=False)\n",
    "dfB2 = pd.read_csv('../results/B/2/results_modelB_2.dat', sep=\"\\s*\", header=None,  index_col=False)\n",
    "dfB3 = pd.read_csv('../results/B/3/results_modelB_3.dat', sep=\"\\s*\", header=None,  index_col=False)\n",
    "dfB4 = pd.read_csv('../results/B/4/results_modelB_4.dat', sep=\"\\s*\", header=None,  index_col=False)\n",
    "\n",
    "\n",
    "#dfR1 = pd.read_csv('../results/R/1/results_modelR_1.dat', sep=\"\\s*\", header=None,  index_col=False)\n",
    "\n",
    "\n",
    "#df6 = pd.read_csv('../results/A/6/results_modelA_6.dat', sep=\"\\s*\", header=None,  index_col=False)\n",
    "#df7 = pd.read_csv('../results/A/7/results_modelA_7.dat', sep=\"\\s*\", header=None,  index_col=False)\n",
    "#df8= pd.read_csv('../results/A/8/results_modelA_8.dat', sep=\"\\s*\", header=None,  index_col=False)\n",
    "#df9= pd.read_csv('../results/A/9/results_modelA_9.dat', sep=\"\\s*\", header=None,  index_col=False)\n",
    "#df10= pd.read_csv('../results/A/10/results_modelA_10.dat', sep=\"\\s*\", header=None,  index_col=False)\n",
    "\n",
    "\n",
    "df3.columns = columns3\n",
    "df4.columns = columns3\n",
    "df5.columns = columns3\n",
    "\n",
    "dfB1.columns = columns3\n",
    "dfB2.columns = columns3\n",
    "dfB3.columns = columns3\n",
    "dfB4.columns = columns3\n",
    "\n",
    "\n",
    "#dfR1.columns = columns3\n",
    "\n",
    "#df6.columns = columns3\n",
    "#df7.columns = columns3\n",
    "#df8.columns = columns3\n",
    "#df9.columns = columns3\n",
    "#df10.columns = columns3\n",
    "\n",
    "#df['rmsSurfScaled'] = (df['rmsSurf']/(2900.*1e3/1e-6))*(1e2*3600*24*365)\n",
    "\n",
    "\n",
    "df3['realtimeScaled'] = (df3['realtime']*((2900.*1e3)**2/1e-6))/(1e6*3600*24*365)\n",
    "df4['realtimeScaled'] = (df4['realtime']*((2900.*1e3)**2/1e-6))/(1e6*3600*24*365)\n",
    "df5['realtimeScaled'] = (df5['realtime']*((2900.*1e3)**2/1e-6))/(1e6*3600*24*365)\n",
    "\n",
    "\n",
    "\n",
    "dfB1['realtimeScaled'] = (dfB1['realtime']*((2900.*1e3)**2/1e-6))/(1e6*3600*24*365)\n",
    "dfB2['realtimeScaled'] = (dfB2['realtime']*((2900.*1e3)**2/1e-6))/(1e6*3600*24*365)\n",
    "dfB3['realtimeScaled'] = (dfB3['realtime']*((2900.*1e3)**2/1e-6))/(1e6*3600*24*365)\n",
    "dfB4['realtimeScaled'] = (dfB4['realtime']*((2900.*1e3)**2/1e-6))/(1e6*3600*24*365)\n",
    "\n",
    "\n",
    "\n",
    "#dfR1['realtimeScaled'] = (dfR1['realtime']*((2900.*1e3)**2/1e-6))/(1e6*3600*24*365)\n",
    "\n",
    "\n",
    "#df6['realtimeScaled'] = (df6['realtime']*((2900.*1e3)**2/1e-6))/(1e6*3600*24*365)\n",
    "#df7['realtimeScaled'] = (df7['realtime']*((2900.*1e3)**2/1e-6))/(1e6*3600*24*365)\n",
    "#df8['realtimeScaled'] = (df8['realtime']*((2900.*1e3)**2/1e-6))/(1e6*3600*24*365)\n",
    "#df9['realtimeScaled'] = (df9['realtime']*((2900.*1e3)**2/1e-6))/(1e6*3600*24*365)\n",
    "#df10['realtimeScaled'] = (df10['realtime']*((2900.*1e3)**2/1e-6))/(1e6*3600*24*365)\n",
    "\n",
    "\n"
   ]
  },
  {
   "cell_type": "code",
   "execution_count": 46,
   "metadata": {
    "collapsed": false
   },
   "outputs": [
    {
     "data": {
      "text/plain": [
       "[<matplotlib.lines.Line2D at 0x7fc37b44afd0>]"
      ]
     },
     "execution_count": 46,
     "metadata": {},
     "output_type": "execute_result"
    },
    {
     "data": {
      "image/png": "[encoded data removed]",
      "text/plain": [
       "<matplotlib.figure.Figure at 0x7fc37b4b54d0>"
      ]
     },
     "metadata": {},
     "output_type": "display_data"
    }
   ],
   "source": [
    "fig, ax = plt.subplots()\n",
    "\n",
    "ax.plot(df3['realtimeScaled'] , (df3['rmsSurf']/df3['surfLength']/(2900.*1e3/1e-6))*(1e2*3600*24*365), c='b' )\n",
    "#ax.plot(df4['realtimeScaled'] , (df4['rmsSurf']/df4['surfLength']/(2900.*1e3/1e-6))*(1e2*3600*24*365), marker='o' )\n",
    "\n",
    "#ax.plot(df5['realtimeScaled'] , (df5['rmsSurf']/df5['surfLength']/(2900.*1e3/1e-6))*(1e2*3600*24*365), marker='o' )\n",
    "#ax.plot(dfR1['realtimeScaled'] , (dfR1['rmsSurf']/dfR1['surfLength']/(2900.*1e3/1e-6))*(1e2*3600*24*365), c='g' )\n",
    "\n",
    "\n",
    "ax.plot(dfB1['realtimeScaled'] , (dfB1['rmsSurf']/dfB1['surfLength']/(2900.*1e3/1e-6))*(1e2*3600*24*365), marker='o' )\n",
    "#ax.plot(dfB2['realtimeScaled'] , (dfB2['rmsSurf']/dfB2['surfLength']/(2900.*1e3/1e-6))*(1e2*3600*24*365))\n",
    "#ax.plot(dfB3['realtimeScaled'] , (dfB3['rmsSurf']/dfB3['surfLength']/(2900.*1e3/1e-6))*(1e2*3600*24*365), marker='o' )\n",
    "#ax.plot(dfB4['realtimeScaled'] , (dfB4['rmsSurf']/dfB4['surfLength']/(2900.*1e3/1e-6))*(1e2*3600*24*365), marker='o' )\n",
    "\n",
    "\n",
    "#ax.plot(df3['realtimeScaled'] , (df3['maxVxsurf']/(2900.*1e3/1e-6))*(1e2*3600*24*365), marker='o' )\n",
    "#ax.plot(df5['realtimeScaled'] , (df5['rmsSurf']/df5['surfLength']/(2900.*1e3/1e-6))*(1e2*3600*24*365), marker='o' )\n",
    "#ax.plot(df6['realtimeScaled'] , (df6['rmsSurf']/df6['surfLength']/(2900.*1e3/1e-6))*(1e2*3600*24*365), marker='o' , c='r')\n",
    "#ax.plot(df7['realtimeScaled'] , (df7['rmsSurf']/df7['surfLength']/(2900.*1e3/1e-6))*(1e2*3600*24*365), marker='o' , c='g')\n",
    "#ax.plot(df8['realtimeScaled'] , (df8['rmsSurf']/df8['surfLength']/(2900.*1e3/1e-6))*(1e2*3600*24*365), marker='o' , c='c')\n",
    "#ax.plot(df9['realtimeScaled'] , (df9['rmsSurf']/df9['surfLength']/(2900.*1e3/1e-6))*(1e2*3600*24*365), marker='o' , c='b')\n",
    "#ax.plot(df10['realtimeScaled'] , (df10['rmsSurf']/df10['surfLength']/(2900.*1e3/1e-6))*(1e2*3600*24*365), marker='o' , c='y')\n",
    "\n",
    "\n",
    "#ax.set_xlim(0, 50)"
   ]
  },
  {
   "cell_type": "code",
   "execution_count": 42,
   "metadata": {
    "collapsed": false
   },
   "outputs": [],
   "source": [
    "#df5.columns"
   ]
  },
  {
   "cell_type": "code",
   "execution_count": null,
   "metadata": {
    "collapsed": true
   },
   "outputs": [],
   "source": []
  }
 ],
 "metadata": {
  "kernelspec": {
   "display_name": "Python 2",
   "language": "python",
   "name": "python2"
  },
  "language_info": {
   "codemirror_mode": {
    "name": "ipython",
    "version": 2
   },
   "file_extension": ".py",
   "mimetype": "text/x-python",
   "name": "python",
   "nbconvert_exporter": "python",
   "pygments_lexer": "ipython2",
   "version": "2.7.9"
  },
  "widgets": {
   "state": {},
   "version": "1.1.2"
  }
 },
 "nbformat": 4,
 "nbformat_minor": 0
}
