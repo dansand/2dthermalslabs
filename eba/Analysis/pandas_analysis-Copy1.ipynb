{
 "cells": [
  {
   "cell_type": "code",
   "execution_count": 5,
   "metadata": {
    "collapsed": false,
    "deletable": true,
    "editable": true
   },
   "outputs": [],
   "source": [
    "#!pip install natsort\n",
    "#!pip install seaborn\n",
    "#!pip install glob2\n",
    "#!pip install xarray"
   ]
  },
  {
   "cell_type": "code",
   "execution_count": null,
   "metadata": {
    "collapsed": true,
    "deletable": true,
    "editable": true
   },
   "outputs": [],
   "source": []
  },
  {
   "cell_type": "code",
   "execution_count": 6,
   "metadata": {
    "collapsed": false,
    "deletable": true,
    "editable": true
   },
   "outputs": [
    {
     "name": "stdout",
     "output_type": "stream",
     "text": [
      "Populating the interactive namespace from numpy and matplotlib\n"
     ]
    }
   ],
   "source": [
    "import pandas as pd\n",
    "%pylab inline\n",
    "import seaborn as sns\n",
    "import glob2\n",
    "#Trying to work out a safety for natsort\n",
    "from types import ModuleType\n",
    "from natsort import natsort as ns\n",
    "if isinstance(ns, ModuleType):\n",
    "    natsort = ns.natsorted\n",
    "else:\n",
    "    nasort = ns"
   ]
  },
  {
   "cell_type": "code",
   "execution_count": 7,
   "metadata": {
    "collapsed": false,
    "deletable": true,
    "editable": true
   },
   "outputs": [
    {
     "name": "stdout",
     "output_type": "stream",
     "text": [
      "Untitled.ipynb  pandas_analysis-Copy1.ipynb\r\n"
     ]
    }
   ],
   "source": [
    "ls"
   ]
  },
  {
   "cell_type": "markdown",
   "metadata": {
    "collapsed": true,
    "deletable": true,
    "editable": true
   },
   "source": [
    "## A"
   ]
  },
  {
   "cell_type": "code",
   "execution_count": 8,
   "metadata": {
    "collapsed": false,
    "deletable": true,
    "editable": true
   },
   "outputs": [
    {
     "data": {
      "text/plain": [
       "14"
      ]
     },
     "execution_count": 8,
     "metadata": {},
     "output_type": "execute_result"
    }
   ],
   "source": [
    "#rdir = '/workspace'\n",
    "rdir = '../'\n",
    "\n",
    "dat_files = natsort(glob2.glob(rdir + '/results/D/**/*.dat'))\n",
    "\n",
    "\n",
    "len(dat_files)\n",
    "#dat_files"
   ]
  },
  {
   "cell_type": "code",
   "execution_count": 9,
   "metadata": {
    "collapsed": true,
    "deletable": true,
    "editable": true
   },
   "outputs": [],
   "source": [
    "columns2 = ['areaintRock', 'tempintRock', 'rmsintRock', 'dwintRock', 'vdintRock', \n",
    "            'areaintLith', 'tempintLith','rmsintLith', 'dwintLith', 'vdintLith',\n",
    "            'areaintLower', 'tempintLower', 'rmsintLower', 'dwintLower', 'vdintLower', \n",
    "            'areaintHinge180', 'vdintHinge180', 'areaintHinge60', 'vdintHinge60', \n",
    "            'areaintInterface', 'vdintInterface', 'vdintInterface0',\n",
    "            'rmsSurf', 'nuTop', 'nuBottom', 'plateness', 'subzone',\n",
    "            'lRidge', 'rRidge', 'realtime']"
   ]
  },
  {
   "cell_type": "code",
   "execution_count": 10,
   "metadata": {
    "collapsed": true,
    "deletable": true,
    "editable": true
   },
   "outputs": [],
   "source": [
    "columns3 = ['areaintRock', 'tempintRock', 'rmsintRock', 'dwintRock', 'vdintRock', \n",
    "            'areaintLith', 'tempintLith','rmsintLith', 'dwintLith', 'vdintLith',\n",
    "            'areaintLower', 'tempintLower', 'rmsintLower', 'dwintLower', 'vdintLower', \n",
    "            'areaintHinge180', 'vdintHinge180', 'areaintHinge60', 'vdintHinge60', \n",
    "            'areaintInterface', 'vdintInterface', 'vdintInterface0',\n",
    "            \n",
    "            'minVel','maxVel', 'minVxsurf', 'maxVxsurf', 'surfLength', \n",
    "            'rmsSurf', 'nuTop', 'nuBottom', 'plateness', 'subzone',\n",
    "            'lRidge', 'rRidge', 'realtime']\n"
   ]
  },
  {
   "cell_type": "code",
   "execution_count": 22,
   "metadata": {
    "collapsed": false,
    "deletable": true,
    "editable": true
   },
   "outputs": [
    {
     "name": "stderr",
     "output_type": "stream",
     "text": [
      "/usr/local/lib/python2.7/dist-packages/ipykernel/__main__.py:11: ParserWarning: Falling back to the 'python' engine because the 'c' engine does not support regex separators (separators > 1 char and different from '\\s+' are interpreted as regex); you can avoid this warning by specifying engine='python'.\n",
      "/usr/local/lib/python2.7/dist-packages/ipykernel/__main__.py:20: ParserWarning: Falling back to the 'python' engine because the 'c' engine does not support regex separators (separators > 1 char and different from '\\s+' are interpreted as regex); you can avoid this warning by specifying engine='python'.\n"
     ]
    }
   ],
   "source": [
    "columns3 = ['areaintRock', 'tempintRock', 'rmsintRock', 'dwintRock', 'vdintRock', \n",
    "            'areaintLith', 'tempintLith','rmsintLith', 'dwintLith', 'vdintLith',\n",
    "            'areaintLower', 'tempintLower', 'rmsintLower', 'dwintLower', 'vdintLower', \n",
    "            'areaintHinge180', 'vdintHinge180', 'areaintHinge60', 'vdintHinge60', \n",
    "            'areaintInterface', 'vdintInterface', 'vdintInterface0',\n",
    "            \n",
    "            'minVel','maxVel', 'minVxsurf', 'maxVxsurf', 'surfLength', \n",
    "            'rmsSurf', 'nuTop', 'nuBottom', 'plateness', 'subzone',\n",
    "            'lRidge', 'rRidge', 'realtime']\n",
    "\n",
    "df = pd.read_csv('../results/D/2/results_modelD_2.dat', sep=\"\\s*\", header=None,  index_col=False)\n",
    "\n",
    "df.columns = columns3\n",
    "\n",
    "df['rmsSurfScaled'] = (df['rmsSurf']/(2900.*1e3/1e-6))*(1e2*3600*24*365)\n",
    "df['realtimeScaled'] = (df['realtime']*((2900.*1e3)**2/1e-6))/(1e6*3600*24*365)\n",
    "\n",
    "\n",
    "\n",
    "df2 = pd.read_csv('../results/D/11/results_modelD_11.dat', sep=\"\\s*\", header=None,  index_col=False)\n",
    "\n",
    "df2.columns = columns3\n",
    "\n",
    "df2['rmsSurfScaled'] = (df['rmsSurf']/(2900.*1e3/1e-6))*(1e2*3600*24*365)\n",
    "df2['realtimeScaled'] = (df['realtime']*((2900.*1e3)**2/1e-6))/(1e6*3600*24*365)"
   ]
  },
  {
   "cell_type": "code",
   "execution_count": 23,
   "metadata": {
    "collapsed": false,
    "deletable": true,
    "editable": true
   },
   "outputs": [
    {
     "data": {
      "text/plain": [
       "Index([u'areaintRock', u'tempintRock', u'rmsintRock', u'dwintRock',\n",
       "       u'vdintRock', u'areaintLith', u'tempintLith', u'rmsintLith',\n",
       "       u'dwintLith', u'vdintLith', u'areaintLower', u'tempintLower',\n",
       "       u'rmsintLower', u'dwintLower', u'vdintLower', u'areaintHinge180',\n",
       "       u'vdintHinge180', u'areaintHinge60', u'vdintHinge60',\n",
       "       u'areaintInterface', u'vdintInterface', u'vdintInterface0', u'minVel',\n",
       "       u'maxVel', u'minVxsurf', u'maxVxsurf', u'surfLength', u'rmsSurf',\n",
       "       u'nuTop', u'nuBottom', u'plateness', u'subzone', u'lRidge', u'rRidge',\n",
       "       u'realtime', u'rmsSurfScaled', u'realtimeScaled'],\n",
       "      dtype='object')"
      ]
     },
     "execution_count": 23,
     "metadata": {},
     "output_type": "execute_result"
    }
   ],
   "source": [
    "df.columns"
   ]
  },
  {
   "cell_type": "code",
   "execution_count": 24,
   "metadata": {
    "collapsed": false,
    "deletable": true,
    "editable": true
   },
   "outputs": [
    {
     "data": {
      "text/plain": [
       "(0, 20)"
      ]
     },
     "execution_count": 24,
     "metadata": {},
     "output_type": "execute_result"
    },
    {
     "data": {
      "image/png": "[encoded data removed]",
      "text/plain": [
       "<matplotlib.figure.Figure at 0x7fe970dd0ed0>"
      ]
     },
     "metadata": {},
     "output_type": "display_data"
    }
   ],
   "source": [
    "fig, ax = plt.subplots()\n",
    "\n",
    "ax.plot(df['realtimeScaled'] , (df['rmsSurf']/df['surfLength']/(2900.*1e3/1e-6))*(1e2*3600*24*365), c='b' )\n",
    "ax.plot(df2['realtimeScaled'] , (df2['rmsSurf']/df2['surfLength']/(2900.*1e3/1e-6))*(1e2*3600*24*365), c='r' )\n",
    "\n",
    "#ax.plot(df['realtimeScaled'] , (df['areaintLith']/df['areaintLower']), c='b' )\n",
    "#ax.plot(df['realtimeScaled'] , (df['vdintLower']), c='b' )\n",
    "#ax.plot(df['realtimeScaled'] , (df['vdintLith']), c='b' )\n",
    "\n",
    "\n",
    "ax.set_xlim(0, 20)"
   ]
  },
  {
   "cell_type": "code",
   "execution_count": 14,
   "metadata": {
    "collapsed": false,
    "deletable": true,
    "editable": true
   },
   "outputs": [
    {
     "data": {
      "text/plain": [
       "[<matplotlib.lines.Line2D at 0x7fe979329f10>]"
      ]
     },
     "execution_count": 14,
     "metadata": {},
     "output_type": "execute_result"
    },
    {
     "data": {
      "image/png": "[encoded data removed]",
      "text/plain": [
       "<matplotlib.figure.Figure at 0x7fe979329ed0>"
      ]
     },
     "metadata": {},
     "output_type": "display_data"
    }
   ],
   "source": [
    "fig, ax = plt.subplots()\n",
    "ax.plot(df['realtimeScaled'] , df['subzone'], marker='o' )\n"
   ]
  },
  {
   "cell_type": "code",
   "execution_count": null,
   "metadata": {
    "collapsed": true,
    "deletable": true,
    "editable": true
   },
   "outputs": [],
   "source": []
  },
  {
   "cell_type": "code",
   "execution_count": null,
   "metadata": {
    "collapsed": true
   },
   "outputs": [],
   "source": []
  }
 ],
 "metadata": {
  "kernelspec": {
   "display_name": "Python 2",
   "language": "python",
   "name": "python2"
  },
  "language_info": {
   "codemirror_mode": {
    "name": "ipython",
    "version": 2
   },
   "file_extension": ".py",
   "mimetype": "text/x-python",
   "name": "python",
   "nbconvert_exporter": "python",
   "pygments_lexer": "ipython2",
   "version": "2.7.9"
  },
  "widgets": {
   "state": {},
   "version": "1.1.2"
  }
 },
 "nbformat": 4,
 "nbformat_minor": 0
}
