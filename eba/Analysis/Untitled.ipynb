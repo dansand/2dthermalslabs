{
 "cells": [
  {
   "cell_type": "code",
   "execution_count": 3,
   "metadata": {
    "collapsed": false
   },
   "outputs": [
    {
     "name": "stdout",
     "output_type": "stream",
     "text": [
      "Downloading/unpacking seaborn\n",
      "  Downloading seaborn-0.7.1.tar.gz (158kB): 158kB downloaded\n",
      "  Running setup.py (path:/tmp/pip-build-HfUunj/seaborn/setup.py) egg_info for package seaborn\n",
      "Installing collected packages: seaborn\n",
      "  Running setup.py install for seaborn\n",
      "\u001b[33m  Could not find .egg-info directory in install record for seaborn\n",
      "\u001b[0mSuccessfully installed seaborn\n",
      "Cleaning up...\n",
      "Downloading/unpacking glob2\n",
      "  Downloading glob2-0.5-py2.py3-none-any.whl\n",
      "Installing collected packages: glob2\n",
      "Successfully installed glob2\n",
      "Cleaning up...\n",
      "Requirement already satisfied (use --upgrade to upgrade): seaborn in /usr/local/lib/python2.7/dist-packages\n",
      "Cleaning up...\n"
     ]
    }
   ],
   "source": [
    "#!pip install seaborn\n",
    "#!pip install glob2\n",
    "#!pip install seaborn"
   ]
  },
  {
   "cell_type": "code",
   "execution_count": 4,
   "metadata": {
    "collapsed": false,
    "deletable": true,
    "editable": true
   },
   "outputs": [
    {
     "name": "stdout",
     "output_type": "stream",
     "text": [
      "Populating the interactive namespace from numpy and matplotlib\n"
     ]
    }
   ],
   "source": [
    "import pandas as pd\n",
    "%pylab inline\n",
    "import seaborn as sns\n",
    "import glob2\n",
    "#Trying to work out a safety for natsort\n",
    "from types import ModuleType\n",
    "from natsort import natsort as ns\n",
    "if isinstance(ns, ModuleType):\n",
    "    natsort = ns.natsorted\n",
    "else:\n",
    "    nasort = ns"
   ]
  },
  {
   "cell_type": "code",
   "execution_count": 5,
   "metadata": {
    "collapsed": true,
    "deletable": true,
    "editable": true
   },
   "outputs": [],
   "source": [
    "columns2 = ['areaintRock', 'tempintRock', 'rmsintRock', 'dwintRock', 'vdintRock', \n",
    "            'areaintLith', 'tempintLith','rmsintLith', 'dwintLith', 'vdintLith',\n",
    "            'areaintLower', 'tempintLower', 'rmsintLower', 'dwintLower', 'vdintLower', \n",
    "            'areaintHinge180', 'vdintHinge180', 'areaintHinge60', 'vdintHinge60', \n",
    "            'areaintInterface', 'vdintInterface', 'vdintInterface0',\n",
    "            'rmsSurf', 'nuTop', 'nuBottom', 'plateness', 'ndp.subzone',\n",
    "            'ndp.lRidge', 'ndp.rRidge', 'realtime']"
   ]
  },
  {
   "cell_type": "code",
   "execution_count": 6,
   "metadata": {
    "collapsed": false,
    "deletable": true,
    "editable": true
   },
   "outputs": [
    {
     "name": "stderr",
     "output_type": "stream",
     "text": [
      "/usr/local/lib/python2.7/dist-packages/ipykernel/__main__.py:10: ParserWarning: Falling back to the 'python' engine because the 'c' engine does not support regex separators (separators > 1 char and different from '\\s+' are interpreted as regex); you can avoid this warning by specifying engine='python'.\n",
      "/usr/local/lib/python2.7/dist-packages/ipykernel/__main__.py:11: ParserWarning: Falling back to the 'python' engine because the 'c' engine does not support regex separators (separators > 1 char and different from '\\s+' are interpreted as regex); you can avoid this warning by specifying engine='python'.\n",
      "/usr/local/lib/python2.7/dist-packages/ipykernel/__main__.py:12: ParserWarning: Falling back to the 'python' engine because the 'c' engine does not support regex separators (separators > 1 char and different from '\\s+' are interpreted as regex); you can avoid this warning by specifying engine='python'.\n"
     ]
    }
   ],
   "source": [
    "rdir = '../../../temp_results'\n",
    "\n",
    "t2 = rdir + '/results_modelT_2.dat'\n",
    "t5 = rdir + '/results_modelT_5.dat'\n",
    "t6 = rdir + '/results_modelT_6.dat'\n",
    "\n",
    "\n",
    "\n",
    "\n",
    "dft2 = pd.read_csv(t2, sep=\"\\s*\", header=None,  index_col=False).dropna() \n",
    "dft5 = pd.read_csv(t5, sep=\"\\s*\", header=None,  index_col=False).dropna() \n",
    "dft6 = pd.read_csv(t6, sep=\"\\s*\", header=None,  index_col=False).dropna() \n",
    "\n",
    "\n",
    "dft2.columns = columns2\n",
    "dft5.columns = columns2\n",
    "dft6.columns = columns2\n"
   ]
  },
  {
   "cell_type": "code",
   "execution_count": 7,
   "metadata": {
    "collapsed": false,
    "deletable": true,
    "editable": true
   },
   "outputs": [
    {
     "data": {
      "text/plain": [
       "<matplotlib.legend.Legend at 0x7f5c769d0a10>"
      ]
     },
     "execution_count": 7,
     "metadata": {},
     "output_type": "execute_result"
    },
    {
     "name": "stderr",
     "output_type": "stream",
     "text": [
      "/usr/local/lib/python2.7/dist-packages/matplotlib/font_manager.py:1297: UserWarning: findfont: Font family [u'sans-serif'] not found. Falling back to DejaVu Sans\n",
      "  (prop.get_family(), self.defaultFamily[fontext]))\n"
     ]
    },
    {
     "data": {
      "image/png": "[encoded data removed]",
      "text/plain": [
       "<matplotlib.figure.Figure at 0x7f5c76a8f650>"
      ]
     },
     "metadata": {},
     "output_type": "display_data"
    }
   ],
   "source": [
    "plt.plot(dft2['realtime'], np.sqrt(dft2['rmsSurf']),  linestyle=\"-\", label='t2')\n",
    "plt.plot(dft5['realtime'], dft5['rmsSurf'],  linestyle=\"--\", label='t5')\n",
    "plt.plot(dft6['realtime'], dft6['rmsSurf'],  linestyle=\"-.\", label='t6')\n",
    "\n",
    "\n",
    "\n",
    "plt.legend()"
   ]
  },
  {
   "cell_type": "code",
   "execution_count": 8,
   "metadata": {
    "collapsed": false,
    "deletable": true,
    "editable": true
   },
   "outputs": [
    {
     "name": "stderr",
     "output_type": "stream",
     "text": [
      "/usr/local/lib/python2.7/dist-packages/ipykernel/__main__.py:2: ParserWarning: Falling back to the 'python' engine because the 'c' engine does not support regex separators (separators > 1 char and different from '\\s+' are interpreted as regex); you can avoid this warning by specifying engine='python'.\n",
      "  from ipykernel import kernelapp as app\n"
     ]
    }
   ],
   "source": [
    "t13 = rdir + '/results_modelT_13.dat'\n",
    "dft13 = pd.read_csv(t13, sep=\"\\s*\", header=None,  index_col=False).dropna() \n",
    "dft13.columns = columns2\n",
    "\n",
    "#python garel_devel.py 13 md.RES=192 md.elementType=\"Q1/dQ0\" dp.MANTLETOCRUST*=0.75 \n",
    "#md.ppc=50 md.courantFac=1.0 dp.low_mantle_visc_fac=1.0\n"
   ]
  },
  {
   "cell_type": "code",
   "execution_count": 9,
   "metadata": {
    "collapsed": true,
    "deletable": true,
    "editable": true
   },
   "outputs": [],
   "source": [
    "dft13['rmsSurfScaled'] = (dft13['rmsSurf']/(2900.*1e3/1e-6))*(10.*3600*24*365)"
   ]
  },
  {
   "cell_type": "code",
   "execution_count": 10,
   "metadata": {
    "collapsed": false,
    "deletable": true,
    "editable": true
   },
   "outputs": [
    {
     "data": {
      "text/plain": [
       "[<matplotlib.lines.Line2D at 0x7f5c76920a90>]"
      ]
     },
     "execution_count": 10,
     "metadata": {},
     "output_type": "execute_result"
    },
    {
     "data": {
      "image/png": "[encoded data removed]",
      "text/plain": [
       "<matplotlib.figure.Figure at 0x7f5c76f4b950>"
      ]
     },
     "metadata": {},
     "output_type": "display_data"
    }
   ],
   "source": [
    "plt.plot(dft13['realtime'], np.sqrt(dft13['rmsSurfScaled']),  linestyle=\"-\", label='t13')\n"
   ]
  },
  {
   "cell_type": "code",
   "execution_count": null,
   "metadata": {
    "collapsed": true,
    "deletable": true,
    "editable": true
   },
   "outputs": [],
   "source": []
  }
 ],
 "metadata": {
  "kernelspec": {
   "display_name": "Python 2",
   "language": "python",
   "name": "python2"
  },
  "language_info": {
   "codemirror_mode": {
    "name": "ipython",
    "version": 2
   },
   "file_extension": ".py",
   "mimetype": "text/x-python",
   "name": "python",
   "nbconvert_exporter": "python",
   "pygments_lexer": "ipython2",
   "version": "2.7.9"
  },
  "widgets": {
   "state": {},
   "version": "1.1.2"
  }
 },
 "nbformat": 4,
 "nbformat_minor": 0
}
